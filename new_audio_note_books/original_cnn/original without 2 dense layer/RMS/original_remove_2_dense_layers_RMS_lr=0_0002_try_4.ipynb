{
  "nbformat": 4,
  "nbformat_minor": 0,
  "metadata": {
    "colab": {
      "name": "original remove 2 dense layers RMS lr=0.0002 try 4.ipynb",
      "provenance": [],
      "collapsed_sections": []
    },
    "kernelspec": {
      "name": "python3",
      "display_name": "Python 3"
    },
    "language_info": {
      "name": "python"
    },
    "accelerator": "GPU"
  },
  "cells": [
    {
      "cell_type": "code",
      "execution_count": 1,
      "metadata": {
        "colab": {
          "base_uri": "https://localhost:8080/"
        },
        "id": "9SRCO-a_AlH5",
        "outputId": "06f65071-4a1a-4e90-b44e-75840b829860"
      },
      "outputs": [
        {
          "output_type": "stream",
          "name": "stdout",
          "text": [
            "Drive already mounted at /content/drive; to attempt to forcibly remount, call drive.mount(\"/content/drive\", force_remount=True).\n"
          ]
        }
      ],
      "source": [
        "from google.colab import drive\n",
        "drive.mount('/content/drive')"
      ]
    },
    {
      "cell_type": "code",
      "source": [
        "!pip install librosa"
      ],
      "metadata": {
        "colab": {
          "base_uri": "https://localhost:8080/"
        },
        "id": "5Lo4mUwG9RMd",
        "outputId": "70a240cf-16f4-41d0-9439-e3f88ce73a8a"
      },
      "execution_count": 2,
      "outputs": [
        {
          "output_type": "stream",
          "name": "stdout",
          "text": [
            "Looking in indexes: https://pypi.org/simple, https://us-python.pkg.dev/colab-wheels/public/simple/\n",
            "Requirement already satisfied: librosa in /usr/local/lib/python3.7/dist-packages (0.8.1)\n",
            "Requirement already satisfied: soundfile>=0.10.2 in /usr/local/lib/python3.7/dist-packages (from librosa) (0.10.3.post1)\n",
            "Requirement already satisfied: pooch>=1.0 in /usr/local/lib/python3.7/dist-packages (from librosa) (1.6.0)\n",
            "Requirement already satisfied: packaging>=20.0 in /usr/local/lib/python3.7/dist-packages (from librosa) (21.3)\n",
            "Requirement already satisfied: audioread>=2.0.0 in /usr/local/lib/python3.7/dist-packages (from librosa) (2.1.9)\n",
            "Requirement already satisfied: scipy>=1.0.0 in /usr/local/lib/python3.7/dist-packages (from librosa) (1.4.1)\n",
            "Requirement already satisfied: scikit-learn!=0.19.0,>=0.14.0 in /usr/local/lib/python3.7/dist-packages (from librosa) (1.0.2)\n",
            "Requirement already satisfied: resampy>=0.2.2 in /usr/local/lib/python3.7/dist-packages (from librosa) (0.2.2)\n",
            "Requirement already satisfied: numba>=0.43.0 in /usr/local/lib/python3.7/dist-packages (from librosa) (0.51.2)\n",
            "Requirement already satisfied: numpy>=1.15.0 in /usr/local/lib/python3.7/dist-packages (from librosa) (1.21.6)\n",
            "Requirement already satisfied: joblib>=0.14 in /usr/local/lib/python3.7/dist-packages (from librosa) (1.1.0)\n",
            "Requirement already satisfied: decorator>=3.0.0 in /usr/local/lib/python3.7/dist-packages (from librosa) (4.4.2)\n",
            "Requirement already satisfied: llvmlite<0.35,>=0.34.0.dev0 in /usr/local/lib/python3.7/dist-packages (from numba>=0.43.0->librosa) (0.34.0)\n",
            "Requirement already satisfied: setuptools in /usr/local/lib/python3.7/dist-packages (from numba>=0.43.0->librosa) (57.4.0)\n",
            "Requirement already satisfied: pyparsing!=3.0.5,>=2.0.2 in /usr/local/lib/python3.7/dist-packages (from packaging>=20.0->librosa) (3.0.9)\n",
            "Requirement already satisfied: appdirs>=1.3.0 in /usr/local/lib/python3.7/dist-packages (from pooch>=1.0->librosa) (1.4.4)\n",
            "Requirement already satisfied: requests>=2.19.0 in /usr/local/lib/python3.7/dist-packages (from pooch>=1.0->librosa) (2.23.0)\n",
            "Requirement already satisfied: idna<3,>=2.5 in /usr/local/lib/python3.7/dist-packages (from requests>=2.19.0->pooch>=1.0->librosa) (2.10)\n",
            "Requirement already satisfied: chardet<4,>=3.0.2 in /usr/local/lib/python3.7/dist-packages (from requests>=2.19.0->pooch>=1.0->librosa) (3.0.4)\n",
            "Requirement already satisfied: certifi>=2017.4.17 in /usr/local/lib/python3.7/dist-packages (from requests>=2.19.0->pooch>=1.0->librosa) (2022.5.18.1)\n",
            "Requirement already satisfied: urllib3!=1.25.0,!=1.25.1,<1.26,>=1.21.1 in /usr/local/lib/python3.7/dist-packages (from requests>=2.19.0->pooch>=1.0->librosa) (1.24.3)\n",
            "Requirement already satisfied: six>=1.3 in /usr/local/lib/python3.7/dist-packages (from resampy>=0.2.2->librosa) (1.15.0)\n",
            "Requirement already satisfied: threadpoolctl>=2.0.0 in /usr/local/lib/python3.7/dist-packages (from scikit-learn!=0.19.0,>=0.14.0->librosa) (3.1.0)\n",
            "Requirement already satisfied: cffi>=1.0 in /usr/local/lib/python3.7/dist-packages (from soundfile>=0.10.2->librosa) (1.15.0)\n",
            "Requirement already satisfied: pycparser in /usr/local/lib/python3.7/dist-packages (from cffi>=1.0->soundfile>=0.10.2->librosa) (2.21)\n"
          ]
        }
      ]
    },
    {
      "cell_type": "code",
      "metadata": {
        "id": "HJjcbxwy46bG",
        "colab": {
          "base_uri": "https://localhost:8080/",
          "height": 17
        },
        "outputId": "97cb7de3-b1ba-4136-dc07-42ebed10aa1c"
      },
      "source": [
        "# Orignial Notebook: https://github.com/MITESHPUTHRANNEU/Speech-Emotion-Analyzer/blob/master/final_results_gender_test.ipynb\n",
        "# This notebook author: Reza Chu\n",
        "# Last Editing Date: 31st May 2019\n",
        "\n",
        "## Python\n",
        "import os\n",
        "import random\n",
        "import sys\n",
        "\n",
        "import IPython\n",
        "from IPython.display import Audio\n",
        "from IPython.display import Image\n",
        "import matplotlib.pyplot as plt\n",
        "\n",
        "## Package\n",
        "import glob \n",
        "import keras\n",
        "import IPython.display as ipd\n",
        "import librosa\n",
        "import librosa.display\n",
        "import matplotlib.pyplot as plt\n",
        "import numpy as np\n",
        "import pandas as pd\n",
        "import plotly.graph_objs as go\n",
        "import plotly.offline as py\n",
        "import plotly.tools as tls\n",
        "import seaborn as sns\n",
        "import scipy.io.wavfile\n",
        "import tensorflow as tf\n",
        "py.init_notebook_mode(connected=True)\n",
        "\n",
        "## Keras\n",
        "from keras import regularizers\n",
        "from keras.callbacks import ModelCheckpoint, LearningRateScheduler, EarlyStopping\n",
        "from keras.callbacks import  History, ReduceLROnPlateau, CSVLogger\n",
        "from keras.models import Model, Sequential\n",
        "from keras.layers import Dense, Embedding, LSTM\n",
        "from keras.layers import Input, Flatten, Dropout, Activation, BatchNormalization\n",
        "from keras.layers import Conv1D, MaxPooling1D, AveragePooling1D\n",
        "from keras.preprocessing import sequence\n",
        "from keras.preprocessing.sequence import pad_sequences\n",
        "from keras.preprocessing.text import Tokenizer\n",
        "from keras.utils import np_utils\n",
        "from tensorflow.keras.utils import to_categorical\n",
        "\n",
        "## Sklearn\n",
        "from sklearn.metrics import confusion_matrix\n",
        "from sklearn.preprocessing import LabelEncoder\n",
        "\n",
        "## Rest\n",
        "from scipy.fftpack import fft\n",
        "from scipy import signal\n",
        "from scipy.io import wavfile\n",
        "from tqdm import tqdm\n",
        "\n",
        "input_duration=3\n",
        "# % pylab inline"
      ],
      "execution_count": 3,
      "outputs": [
        {
          "output_type": "display_data",
          "data": {
            "text/html": [
              "        <script type=\"text/javascript\">\n",
              "        window.PlotlyConfig = {MathJaxConfig: 'local'};\n",
              "        if (window.MathJax) {MathJax.Hub.Config({SVG: {font: \"STIX-Web\"}});}\n",
              "        if (typeof require !== 'undefined') {\n",
              "        require.undef(\"plotly\");\n",
              "        requirejs.config({\n",
              "            paths: {\n",
              "                'plotly': ['https://cdn.plot.ly/plotly-2.8.3.min']\n",
              "            }\n",
              "        });\n",
              "        require(['plotly'], function(Plotly) {\n",
              "            window._Plotly = Plotly;\n",
              "        });\n",
              "        }\n",
              "        </script>\n",
              "        "
            ]
          },
          "metadata": {}
        }
      ]
    },
    {
      "cell_type": "code",
      "source": [
        "# # Saving joblib files to not load them again with the loop above\n",
        "\n",
        "# import joblib\n",
        "\n",
        "# X_name = 'x.joblib'\n",
        "# y_name = 'y.joblib'\n",
        "# save_dir = '/content/drive/My Drive/graduation project/audio/paper_code/features'\n",
        "\n",
        "# savedX = joblib.dump(X, os.path.join(save_dir, X_name))\n",
        "# savedy = joblib.dump(y, os.path.join(save_dir, y_name))"
      ],
      "metadata": {
        "id": "UCzic8rlDcuk"
      },
      "execution_count": 4,
      "outputs": []
    },
    {
      "cell_type": "code",
      "source": [
        "# # Loading saved models\n",
        "import joblib\n",
        "X = joblib.load('/content/drive/My Drive/graduation project/audio/paper_code/features/x.joblib')\n",
        "y = joblib.load('/content/drive/My Drive/graduation project/audio/paper_code/features/y.joblib')"
      ],
      "metadata": {
        "id": "Q35CN6zDrzg1"
      },
      "execution_count": 5,
      "outputs": []
    },
    {
      "cell_type": "code",
      "source": [
        "X.shape"
      ],
      "metadata": {
        "colab": {
          "base_uri": "https://localhost:8080/"
        },
        "id": "7PSTurzjCo5K",
        "outputId": "65a5887b-a4a3-4bdd-ecfa-5271f3279064"
      },
      "execution_count": 6,
      "outputs": [
        {
          "output_type": "execute_result",
          "data": {
            "text/plain": [
              "(2068, 40)"
            ]
          },
          "metadata": {},
          "execution_count": 6
        }
      ]
    },
    {
      "cell_type": "code",
      "source": [
        "from sklearn.model_selection import train_test_split\n",
        "\n",
        "X_train, X_test, y_train, y_test = train_test_split(X,y, test_size=0.1 ,shuffle = True\n",
        "                                                    , random_state=42)\n",
        "X_train , X_valid, y_train, y_valid = train_test_split(X_train,y_train, test_size=0.1112305212 , shuffle = True \n",
        "                                                       , random_state=42)"
      ],
      "metadata": {
        "id": "Ai4Fy5cPCiq1"
      },
      "execution_count": 7,
      "outputs": []
    },
    {
      "cell_type": "code",
      "source": [
        "import numpy as np\n",
        "x_traincnn = np.expand_dims(X_train, axis=2)\n",
        "x_testcnn = np.expand_dims(X_test, axis=2)\n",
        "X_valid= np.expand_dims(X_valid, axis=2)"
      ],
      "metadata": {
        "id": "tp1Fm5K3CEXu"
      },
      "execution_count": 8,
      "outputs": []
    },
    {
      "cell_type": "code",
      "source": [
        "x_traincnn.shape, x_testcnn.shape , X_valid.shape\n",
        "#1861"
      ],
      "metadata": {
        "id": "RI0MxoIPBws5",
        "colab": {
          "base_uri": "https://localhost:8080/"
        },
        "outputId": "8d801045-160e-4107-d77e-0c9a9ee83f29"
      },
      "execution_count": 9,
      "outputs": [
        {
          "output_type": "execute_result",
          "data": {
            "text/plain": [
              "((1654, 40, 1), (207, 40, 1), (207, 40, 1))"
            ]
          },
          "metadata": {},
          "execution_count": 9
        }
      ]
    },
    {
      "cell_type": "code",
      "source": [
        "!pip install tensorflow"
      ],
      "metadata": {
        "colab": {
          "base_uri": "https://localhost:8080/"
        },
        "id": "oALhiMUd9G2Y",
        "outputId": "d84dda5c-6bef-4562-d70b-cc5a24452cd8"
      },
      "execution_count": 10,
      "outputs": [
        {
          "output_type": "stream",
          "name": "stdout",
          "text": [
            "Looking in indexes: https://pypi.org/simple, https://us-python.pkg.dev/colab-wheels/public/simple/\n",
            "Requirement already satisfied: tensorflow in /usr/local/lib/python3.7/dist-packages (2.8.2+zzzcolab20220527125636)\n",
            "Requirement already satisfied: termcolor>=1.1.0 in /usr/local/lib/python3.7/dist-packages (from tensorflow) (1.1.0)\n",
            "Requirement already satisfied: libclang>=9.0.1 in /usr/local/lib/python3.7/dist-packages (from tensorflow) (14.0.1)\n",
            "Requirement already satisfied: six>=1.12.0 in /usr/local/lib/python3.7/dist-packages (from tensorflow) (1.15.0)\n",
            "Requirement already satisfied: tensorflow-io-gcs-filesystem>=0.23.1 in /usr/local/lib/python3.7/dist-packages (from tensorflow) (0.26.0)\n",
            "Requirement already satisfied: protobuf<3.20,>=3.9.2 in /usr/local/lib/python3.7/dist-packages (from tensorflow) (3.17.3)\n",
            "Requirement already satisfied: tensorflow-estimator<2.9,>=2.8 in /usr/local/lib/python3.7/dist-packages (from tensorflow) (2.8.0)\n",
            "Requirement already satisfied: numpy>=1.20 in /usr/local/lib/python3.7/dist-packages (from tensorflow) (1.21.6)\n",
            "Requirement already satisfied: absl-py>=0.4.0 in /usr/local/lib/python3.7/dist-packages (from tensorflow) (1.0.0)\n",
            "Requirement already satisfied: wrapt>=1.11.0 in /usr/local/lib/python3.7/dist-packages (from tensorflow) (1.14.1)\n",
            "Requirement already satisfied: typing-extensions>=3.6.6 in /usr/local/lib/python3.7/dist-packages (from tensorflow) (4.2.0)\n",
            "Requirement already satisfied: grpcio<2.0,>=1.24.3 in /usr/local/lib/python3.7/dist-packages (from tensorflow) (1.46.3)\n",
            "Requirement already satisfied: flatbuffers>=1.12 in /usr/local/lib/python3.7/dist-packages (from tensorflow) (2.0)\n",
            "Requirement already satisfied: gast>=0.2.1 in /usr/local/lib/python3.7/dist-packages (from tensorflow) (0.5.3)\n",
            "Requirement already satisfied: setuptools in /usr/local/lib/python3.7/dist-packages (from tensorflow) (57.4.0)\n",
            "Requirement already satisfied: google-pasta>=0.1.1 in /usr/local/lib/python3.7/dist-packages (from tensorflow) (0.2.0)\n",
            "Requirement already satisfied: opt-einsum>=2.3.2 in /usr/local/lib/python3.7/dist-packages (from tensorflow) (3.3.0)\n",
            "Requirement already satisfied: astunparse>=1.6.0 in /usr/local/lib/python3.7/dist-packages (from tensorflow) (1.6.3)\n",
            "Requirement already satisfied: h5py>=2.9.0 in /usr/local/lib/python3.7/dist-packages (from tensorflow) (3.1.0)\n",
            "Requirement already satisfied: keras-preprocessing>=1.1.1 in /usr/local/lib/python3.7/dist-packages (from tensorflow) (1.1.2)\n",
            "Requirement already satisfied: keras<2.9,>=2.8.0rc0 in /usr/local/lib/python3.7/dist-packages (from tensorflow) (2.8.0)\n",
            "Requirement already satisfied: tensorboard<2.9,>=2.8 in /usr/local/lib/python3.7/dist-packages (from tensorflow) (2.8.0)\n",
            "Requirement already satisfied: wheel<1.0,>=0.23.0 in /usr/local/lib/python3.7/dist-packages (from astunparse>=1.6.0->tensorflow) (0.37.1)\n",
            "Requirement already satisfied: cached-property in /usr/local/lib/python3.7/dist-packages (from h5py>=2.9.0->tensorflow) (1.5.2)\n",
            "Requirement already satisfied: google-auth-oauthlib<0.5,>=0.4.1 in /usr/local/lib/python3.7/dist-packages (from tensorboard<2.9,>=2.8->tensorflow) (0.4.6)\n",
            "Requirement already satisfied: werkzeug>=0.11.15 in /usr/local/lib/python3.7/dist-packages (from tensorboard<2.9,>=2.8->tensorflow) (1.0.1)\n",
            "Requirement already satisfied: requests<3,>=2.21.0 in /usr/local/lib/python3.7/dist-packages (from tensorboard<2.9,>=2.8->tensorflow) (2.23.0)\n",
            "Requirement already satisfied: google-auth<3,>=1.6.3 in /usr/local/lib/python3.7/dist-packages (from tensorboard<2.9,>=2.8->tensorflow) (1.35.0)\n",
            "Requirement already satisfied: tensorboard-data-server<0.7.0,>=0.6.0 in /usr/local/lib/python3.7/dist-packages (from tensorboard<2.9,>=2.8->tensorflow) (0.6.1)\n",
            "Requirement already satisfied: markdown>=2.6.8 in /usr/local/lib/python3.7/dist-packages (from tensorboard<2.9,>=2.8->tensorflow) (3.3.7)\n",
            "Requirement already satisfied: tensorboard-plugin-wit>=1.6.0 in /usr/local/lib/python3.7/dist-packages (from tensorboard<2.9,>=2.8->tensorflow) (1.8.1)\n",
            "Requirement already satisfied: cachetools<5.0,>=2.0.0 in /usr/local/lib/python3.7/dist-packages (from google-auth<3,>=1.6.3->tensorboard<2.9,>=2.8->tensorflow) (4.2.4)\n",
            "Requirement already satisfied: rsa<5,>=3.1.4 in /usr/local/lib/python3.7/dist-packages (from google-auth<3,>=1.6.3->tensorboard<2.9,>=2.8->tensorflow) (4.8)\n",
            "Requirement already satisfied: pyasn1-modules>=0.2.1 in /usr/local/lib/python3.7/dist-packages (from google-auth<3,>=1.6.3->tensorboard<2.9,>=2.8->tensorflow) (0.2.8)\n",
            "Requirement already satisfied: requests-oauthlib>=0.7.0 in /usr/local/lib/python3.7/dist-packages (from google-auth-oauthlib<0.5,>=0.4.1->tensorboard<2.9,>=2.8->tensorflow) (1.3.1)\n",
            "Requirement already satisfied: importlib-metadata>=4.4 in /usr/local/lib/python3.7/dist-packages (from markdown>=2.6.8->tensorboard<2.9,>=2.8->tensorflow) (4.11.4)\n",
            "Requirement already satisfied: zipp>=0.5 in /usr/local/lib/python3.7/dist-packages (from importlib-metadata>=4.4->markdown>=2.6.8->tensorboard<2.9,>=2.8->tensorflow) (3.8.0)\n",
            "Requirement already satisfied: pyasn1<0.5.0,>=0.4.6 in /usr/local/lib/python3.7/dist-packages (from pyasn1-modules>=0.2.1->google-auth<3,>=1.6.3->tensorboard<2.9,>=2.8->tensorflow) (0.4.8)\n",
            "Requirement already satisfied: urllib3!=1.25.0,!=1.25.1,<1.26,>=1.21.1 in /usr/local/lib/python3.7/dist-packages (from requests<3,>=2.21.0->tensorboard<2.9,>=2.8->tensorflow) (1.24.3)\n",
            "Requirement already satisfied: idna<3,>=2.5 in /usr/local/lib/python3.7/dist-packages (from requests<3,>=2.21.0->tensorboard<2.9,>=2.8->tensorflow) (2.10)\n",
            "Requirement already satisfied: chardet<4,>=3.0.2 in /usr/local/lib/python3.7/dist-packages (from requests<3,>=2.21.0->tensorboard<2.9,>=2.8->tensorflow) (3.0.4)\n",
            "Requirement already satisfied: certifi>=2017.4.17 in /usr/local/lib/python3.7/dist-packages (from requests<3,>=2.21.0->tensorboard<2.9,>=2.8->tensorflow) (2022.5.18.1)\n",
            "Requirement already satisfied: oauthlib>=3.0.0 in /usr/local/lib/python3.7/dist-packages (from requests-oauthlib>=0.7.0->google-auth-oauthlib<0.5,>=0.4.1->tensorboard<2.9,>=2.8->tensorflow) (3.2.0)\n"
          ]
        }
      ]
    },
    {
      "cell_type": "code",
      "source": [
        "import keras\n",
        "import numpy as np\n",
        "import matplotlib.pyplot as plt\n",
        "import tensorflow as tf\n",
        "from keras.preprocessing import sequence\n",
        "from keras.models import Sequential\n",
        "from keras.layers import Dense, Embedding\n",
        "from tensorflow.keras.utils import to_categorical\n",
        "from keras.layers import Input, Flatten, Dropout, Activation\n",
        "from keras.layers import Conv1D, MaxPooling1D\n",
        "from keras.models import Model\n",
        "from keras.callbacks import ModelCheckpoint\n",
        "from tensorflow.keras import optimizers\n",
        "\n",
        "model = Sequential()\n",
        "\n",
        "model.add(Conv1D(128, 8,padding='same', #classifier.add(Convolution2D(64, (3, 3), padding = 'same', input_shape = (128, 128, 3), activation = 'relu'))\n",
        "                 input_shape=(40,1)))\n",
        "model.add(Activation('relu'))\n",
        "model.add(Dropout(0.3))\n",
        "model.add(MaxPooling1D(pool_size=(5)))\n",
        "\n",
        "\n",
        "model.add(Conv1D(256,8,padding='same',))\n",
        "model.add(Activation('relu'))\n",
        "model.add(Dropout(0.3))\n",
        "model.add(MaxPooling1D(pool_size=(5)))\n",
        "\n",
        "#model.add(MaxPooling1D(pool_size=(5)))\n",
        "\n",
        "model.add(Flatten())\n",
        "\n",
        "\n",
        "\n",
        "model.add(Dense(6))\n",
        "model.add(Activation('softmax'))\n",
        "\n",
        "\n",
        "opt = tf.keras.optimizers.RMSprop(lr=0.0002 , decay=0.0)\n",
        "#opt = tf.keras.optimizers.Adam(lr=0.0002 , decay=0.0)\n",
        "#opt = tf.keras.optimizers.RMSprop(lr=0.0001, rho=0.9, epsilon=1e-07, decay=0.0)\n",
        "#opt = tf.keras.optimizers.SGD(lr=0.001, momentum=0.0, decay=0.0, nesterov=False)"
      ],
      "metadata": {
        "id": "g74fXWVAC4Cr",
        "colab": {
          "base_uri": "https://localhost:8080/"
        },
        "outputId": "ac7c1c01-beb6-4592-cd7c-d0e45f943722"
      },
      "execution_count": 11,
      "outputs": [
        {
          "output_type": "stream",
          "name": "stderr",
          "text": [
            "/usr/local/lib/python3.7/dist-packages/keras/optimizer_v2/rmsprop.py:130: UserWarning:\n",
            "\n",
            "The `lr` argument is deprecated, use `learning_rate` instead.\n",
            "\n"
          ]
        }
      ]
    },
    {
      "cell_type": "code",
      "source": [
        "model.summary()"
      ],
      "metadata": {
        "colab": {
          "base_uri": "https://localhost:8080/"
        },
        "id": "H6ukOxAGC_I4",
        "outputId": "bf82ee4e-342d-4860-ba73-189a263602bd"
      },
      "execution_count": 12,
      "outputs": [
        {
          "output_type": "stream",
          "name": "stdout",
          "text": [
            "Model: \"sequential\"\n",
            "_________________________________________________________________\n",
            " Layer (type)                Output Shape              Param #   \n",
            "=================================================================\n",
            " conv1d (Conv1D)             (None, 40, 128)           1152      \n",
            "                                                                 \n",
            " activation (Activation)     (None, 40, 128)           0         \n",
            "                                                                 \n",
            " dropout (Dropout)           (None, 40, 128)           0         \n",
            "                                                                 \n",
            " max_pooling1d (MaxPooling1D  (None, 8, 128)           0         \n",
            " )                                                               \n",
            "                                                                 \n",
            " conv1d_1 (Conv1D)           (None, 8, 256)            262400    \n",
            "                                                                 \n",
            " activation_1 (Activation)   (None, 8, 256)            0         \n",
            "                                                                 \n",
            " dropout_1 (Dropout)         (None, 8, 256)            0         \n",
            "                                                                 \n",
            " max_pooling1d_1 (MaxPooling  (None, 1, 256)           0         \n",
            " 1D)                                                             \n",
            "                                                                 \n",
            " flatten (Flatten)           (None, 256)               0         \n",
            "                                                                 \n",
            " dense (Dense)               (None, 6)                 1542      \n",
            "                                                                 \n",
            " activation_2 (Activation)   (None, 6)                 0         \n",
            "                                                                 \n",
            "=================================================================\n",
            "Total params: 265,094\n",
            "Trainable params: 265,094\n",
            "Non-trainable params: 0\n",
            "_________________________________________________________________\n"
          ]
        }
      ]
    },
    {
      "cell_type": "code",
      "source": [
        "model.compile(loss='sparse_categorical_crossentropy',\n",
        "              optimizer=opt,\n",
        "              metrics=['accuracy'])"
      ],
      "metadata": {
        "id": "AbMlLNk4DCBM"
      },
      "execution_count": 13,
      "outputs": []
    },
    {
      "cell_type": "code",
      "source": [
        "# Create an Instance of Early Stopping Callback.\n",
        "early_stopping_callback = EarlyStopping(monitor = 'val_loss', patience = 25, mode = 'min', restore_best_weights = True)\n",
        "\n",
        "cnnhistory=model.fit(x_traincnn, y_train, batch_size=16, epochs=500 , shuffle = True, \n",
        "                     validation_data=(X_valid, y_valid) , callbacks = [early_stopping_callback])"
      ],
      "metadata": {
        "colab": {
          "base_uri": "https://localhost:8080/"
        },
        "id": "RI1v2AuADFhy",
        "outputId": "c1569108-17d3-4bc1-ef30-8f39d6f04d84"
      },
      "execution_count": 14,
      "outputs": [
        {
          "output_type": "stream",
          "name": "stdout",
          "text": [
            "Epoch 1/500\n",
            "104/104 [==============================] - 5s 13ms/step - loss: 12.6329 - accuracy: 0.1820 - val_loss: 8.2457 - val_accuracy: 0.1691\n",
            "Epoch 2/500\n",
            "104/104 [==============================] - 1s 8ms/step - loss: 8.9704 - accuracy: 0.2152 - val_loss: 6.8513 - val_accuracy: 0.1932\n",
            "Epoch 3/500\n",
            "104/104 [==============================] - 1s 9ms/step - loss: 7.3662 - accuracy: 0.2134 - val_loss: 4.5974 - val_accuracy: 0.2077\n",
            "Epoch 4/500\n",
            "104/104 [==============================] - 1s 9ms/step - loss: 5.9159 - accuracy: 0.2297 - val_loss: 4.3532 - val_accuracy: 0.1739\n",
            "Epoch 5/500\n",
            "104/104 [==============================] - 1s 9ms/step - loss: 5.1688 - accuracy: 0.2273 - val_loss: 3.0591 - val_accuracy: 0.2802\n",
            "Epoch 6/500\n",
            "104/104 [==============================] - 1s 8ms/step - loss: 4.2972 - accuracy: 0.2576 - val_loss: 2.3099 - val_accuracy: 0.2657\n",
            "Epoch 7/500\n",
            "104/104 [==============================] - 1s 9ms/step - loss: 3.7689 - accuracy: 0.2739 - val_loss: 2.7157 - val_accuracy: 0.2222\n",
            "Epoch 8/500\n",
            "104/104 [==============================] - 1s 7ms/step - loss: 3.4971 - accuracy: 0.2654 - val_loss: 2.2912 - val_accuracy: 0.3527\n",
            "Epoch 9/500\n",
            "104/104 [==============================] - 1s 9ms/step - loss: 3.0877 - accuracy: 0.2733 - val_loss: 2.7472 - val_accuracy: 0.2560\n",
            "Epoch 10/500\n",
            "104/104 [==============================] - 1s 7ms/step - loss: 2.9024 - accuracy: 0.2987 - val_loss: 1.5859 - val_accuracy: 0.3913\n",
            "Epoch 11/500\n",
            "104/104 [==============================] - 1s 8ms/step - loss: 2.6537 - accuracy: 0.3096 - val_loss: 1.8030 - val_accuracy: 0.3816\n",
            "Epoch 12/500\n",
            "104/104 [==============================] - 1s 9ms/step - loss: 2.5097 - accuracy: 0.3210 - val_loss: 1.6432 - val_accuracy: 0.3816\n",
            "Epoch 13/500\n",
            "104/104 [==============================] - 1s 9ms/step - loss: 2.3413 - accuracy: 0.3307 - val_loss: 1.8813 - val_accuracy: 0.3188\n",
            "Epoch 14/500\n",
            "104/104 [==============================] - 1s 9ms/step - loss: 2.1164 - accuracy: 0.3609 - val_loss: 1.6292 - val_accuracy: 0.3575\n",
            "Epoch 15/500\n",
            "104/104 [==============================] - 1s 8ms/step - loss: 2.1167 - accuracy: 0.3615 - val_loss: 1.8575 - val_accuracy: 0.2899\n",
            "Epoch 16/500\n",
            "104/104 [==============================] - 1s 8ms/step - loss: 1.9389 - accuracy: 0.3821 - val_loss: 1.4443 - val_accuracy: 0.4589\n",
            "Epoch 17/500\n",
            "104/104 [==============================] - 1s 8ms/step - loss: 1.8676 - accuracy: 0.3960 - val_loss: 1.4133 - val_accuracy: 0.4203\n",
            "Epoch 18/500\n",
            "104/104 [==============================] - 1s 9ms/step - loss: 1.7209 - accuracy: 0.4051 - val_loss: 1.3848 - val_accuracy: 0.4493\n",
            "Epoch 19/500\n",
            "104/104 [==============================] - 1s 9ms/step - loss: 1.7065 - accuracy: 0.4160 - val_loss: 1.3411 - val_accuracy: 0.4203\n",
            "Epoch 20/500\n",
            "104/104 [==============================] - 1s 9ms/step - loss: 1.5956 - accuracy: 0.4268 - val_loss: 1.3145 - val_accuracy: 0.4638\n",
            "Epoch 21/500\n",
            "104/104 [==============================] - 1s 9ms/step - loss: 1.5525 - accuracy: 0.4341 - val_loss: 1.2479 - val_accuracy: 0.4734\n",
            "Epoch 22/500\n",
            "104/104 [==============================] - 1s 10ms/step - loss: 1.4824 - accuracy: 0.4583 - val_loss: 1.4273 - val_accuracy: 0.4058\n",
            "Epoch 23/500\n",
            "104/104 [==============================] - 1s 9ms/step - loss: 1.4459 - accuracy: 0.4674 - val_loss: 1.2949 - val_accuracy: 0.4928\n",
            "Epoch 24/500\n",
            "104/104 [==============================] - 1s 9ms/step - loss: 1.4433 - accuracy: 0.4698 - val_loss: 1.4257 - val_accuracy: 0.4251\n",
            "Epoch 25/500\n",
            "104/104 [==============================] - 1s 9ms/step - loss: 1.3188 - accuracy: 0.5163 - val_loss: 1.3433 - val_accuracy: 0.4348\n",
            "Epoch 26/500\n",
            "104/104 [==============================] - 1s 8ms/step - loss: 1.2651 - accuracy: 0.5266 - val_loss: 1.2312 - val_accuracy: 0.4783\n",
            "Epoch 27/500\n",
            "104/104 [==============================] - 1s 7ms/step - loss: 1.2500 - accuracy: 0.5296 - val_loss: 1.0990 - val_accuracy: 0.5604\n",
            "Epoch 28/500\n",
            "104/104 [==============================] - 1s 7ms/step - loss: 1.2366 - accuracy: 0.5218 - val_loss: 1.2019 - val_accuracy: 0.5459\n",
            "Epoch 29/500\n",
            "104/104 [==============================] - 1s 8ms/step - loss: 1.1744 - accuracy: 0.5532 - val_loss: 1.0923 - val_accuracy: 0.5700\n",
            "Epoch 30/500\n",
            "104/104 [==============================] - 1s 5ms/step - loss: 1.1704 - accuracy: 0.5502 - val_loss: 1.0933 - val_accuracy: 0.5700\n",
            "Epoch 31/500\n",
            "104/104 [==============================] - 1s 5ms/step - loss: 1.1475 - accuracy: 0.5707 - val_loss: 1.1247 - val_accuracy: 0.5894\n",
            "Epoch 32/500\n",
            "104/104 [==============================] - 1s 5ms/step - loss: 1.1079 - accuracy: 0.5756 - val_loss: 1.1153 - val_accuracy: 0.5845\n",
            "Epoch 33/500\n",
            "104/104 [==============================] - 1s 5ms/step - loss: 1.0860 - accuracy: 0.5955 - val_loss: 1.0802 - val_accuracy: 0.5894\n",
            "Epoch 34/500\n",
            "104/104 [==============================] - 1s 5ms/step - loss: 1.0582 - accuracy: 0.5937 - val_loss: 1.1042 - val_accuracy: 0.5652\n",
            "Epoch 35/500\n",
            "104/104 [==============================] - 0s 5ms/step - loss: 1.0504 - accuracy: 0.5901 - val_loss: 1.0163 - val_accuracy: 0.6425\n",
            "Epoch 36/500\n",
            "104/104 [==============================] - 1s 5ms/step - loss: 1.0316 - accuracy: 0.6034 - val_loss: 1.1707 - val_accuracy: 0.5169\n",
            "Epoch 37/500\n",
            "104/104 [==============================] - 1s 5ms/step - loss: 1.0466 - accuracy: 0.5907 - val_loss: 1.0157 - val_accuracy: 0.6473\n",
            "Epoch 38/500\n",
            "104/104 [==============================] - 1s 5ms/step - loss: 0.9995 - accuracy: 0.6191 - val_loss: 1.0484 - val_accuracy: 0.5942\n",
            "Epoch 39/500\n",
            "104/104 [==============================] - 1s 5ms/step - loss: 1.0094 - accuracy: 0.5979 - val_loss: 0.9213 - val_accuracy: 0.7246\n",
            "Epoch 40/500\n",
            "104/104 [==============================] - 0s 4ms/step - loss: 0.9708 - accuracy: 0.6112 - val_loss: 1.0806 - val_accuracy: 0.5845\n",
            "Epoch 41/500\n",
            "104/104 [==============================] - 1s 5ms/step - loss: 0.9456 - accuracy: 0.6403 - val_loss: 0.9269 - val_accuracy: 0.6812\n",
            "Epoch 42/500\n",
            "104/104 [==============================] - 1s 5ms/step - loss: 0.9409 - accuracy: 0.6403 - val_loss: 0.9811 - val_accuracy: 0.6618\n",
            "Epoch 43/500\n",
            "104/104 [==============================] - 0s 5ms/step - loss: 0.9365 - accuracy: 0.6312 - val_loss: 0.9938 - val_accuracy: 0.6329\n",
            "Epoch 44/500\n",
            "104/104 [==============================] - 1s 5ms/step - loss: 0.9309 - accuracy: 0.6421 - val_loss: 0.9912 - val_accuracy: 0.5894\n",
            "Epoch 45/500\n",
            "104/104 [==============================] - 1s 5ms/step - loss: 0.9063 - accuracy: 0.6505 - val_loss: 0.9252 - val_accuracy: 0.6667\n",
            "Epoch 46/500\n",
            "104/104 [==============================] - 0s 4ms/step - loss: 0.8881 - accuracy: 0.6518 - val_loss: 0.9159 - val_accuracy: 0.6473\n",
            "Epoch 47/500\n",
            "104/104 [==============================] - 1s 5ms/step - loss: 0.8978 - accuracy: 0.6475 - val_loss: 0.9937 - val_accuracy: 0.6184\n",
            "Epoch 48/500\n",
            "104/104 [==============================] - 0s 5ms/step - loss: 0.8412 - accuracy: 0.6838 - val_loss: 0.9178 - val_accuracy: 0.6908\n",
            "Epoch 49/500\n",
            "104/104 [==============================] - 0s 5ms/step - loss: 0.8506 - accuracy: 0.6687 - val_loss: 1.0164 - val_accuracy: 0.5990\n",
            "Epoch 50/500\n",
            "104/104 [==============================] - 1s 5ms/step - loss: 0.8629 - accuracy: 0.6614 - val_loss: 0.9166 - val_accuracy: 0.6425\n",
            "Epoch 51/500\n",
            "104/104 [==============================] - 0s 5ms/step - loss: 0.8348 - accuracy: 0.6699 - val_loss: 0.8845 - val_accuracy: 0.7005\n",
            "Epoch 52/500\n",
            "104/104 [==============================] - 0s 5ms/step - loss: 0.8558 - accuracy: 0.6759 - val_loss: 0.8847 - val_accuracy: 0.6570\n",
            "Epoch 53/500\n",
            "104/104 [==============================] - 1s 5ms/step - loss: 0.8151 - accuracy: 0.6778 - val_loss: 0.8691 - val_accuracy: 0.7053\n",
            "Epoch 54/500\n",
            "104/104 [==============================] - 0s 4ms/step - loss: 0.8101 - accuracy: 0.6826 - val_loss: 0.9072 - val_accuracy: 0.6618\n",
            "Epoch 55/500\n",
            "104/104 [==============================] - 1s 5ms/step - loss: 0.8132 - accuracy: 0.6850 - val_loss: 0.9078 - val_accuracy: 0.6570\n",
            "Epoch 56/500\n",
            "104/104 [==============================] - 1s 5ms/step - loss: 0.8010 - accuracy: 0.6868 - val_loss: 0.9261 - val_accuracy: 0.6570\n",
            "Epoch 57/500\n",
            "104/104 [==============================] - 0s 4ms/step - loss: 0.8196 - accuracy: 0.6820 - val_loss: 0.8691 - val_accuracy: 0.7101\n",
            "Epoch 58/500\n",
            "104/104 [==============================] - 1s 5ms/step - loss: 0.8006 - accuracy: 0.6862 - val_loss: 0.8127 - val_accuracy: 0.7053\n",
            "Epoch 59/500\n",
            "104/104 [==============================] - 1s 5ms/step - loss: 0.7563 - accuracy: 0.7128 - val_loss: 0.8025 - val_accuracy: 0.7343\n",
            "Epoch 60/500\n",
            "104/104 [==============================] - 1s 5ms/step - loss: 0.7615 - accuracy: 0.7122 - val_loss: 0.8309 - val_accuracy: 0.7053\n",
            "Epoch 61/500\n",
            "104/104 [==============================] - 1s 5ms/step - loss: 0.7531 - accuracy: 0.7122 - val_loss: 0.9075 - val_accuracy: 0.6522\n",
            "Epoch 62/500\n",
            "104/104 [==============================] - 1s 5ms/step - loss: 0.7389 - accuracy: 0.7116 - val_loss: 0.8306 - val_accuracy: 0.6957\n",
            "Epoch 63/500\n",
            "104/104 [==============================] - 1s 5ms/step - loss: 0.7259 - accuracy: 0.7231 - val_loss: 0.8096 - val_accuracy: 0.7343\n",
            "Epoch 64/500\n",
            "104/104 [==============================] - 1s 5ms/step - loss: 0.7322 - accuracy: 0.7195 - val_loss: 0.7897 - val_accuracy: 0.7488\n",
            "Epoch 65/500\n",
            "104/104 [==============================] - 0s 5ms/step - loss: 0.7267 - accuracy: 0.7195 - val_loss: 0.8564 - val_accuracy: 0.6667\n",
            "Epoch 66/500\n",
            "104/104 [==============================] - 0s 5ms/step - loss: 0.7100 - accuracy: 0.7219 - val_loss: 0.8522 - val_accuracy: 0.6908\n",
            "Epoch 67/500\n",
            "104/104 [==============================] - 1s 5ms/step - loss: 0.6948 - accuracy: 0.7346 - val_loss: 0.8310 - val_accuracy: 0.7150\n",
            "Epoch 68/500\n",
            "104/104 [==============================] - 0s 5ms/step - loss: 0.7035 - accuracy: 0.7219 - val_loss: 0.8090 - val_accuracy: 0.7053\n",
            "Epoch 69/500\n",
            "104/104 [==============================] - 1s 5ms/step - loss: 0.7025 - accuracy: 0.7285 - val_loss: 0.7916 - val_accuracy: 0.6667\n",
            "Epoch 70/500\n",
            "104/104 [==============================] - 1s 5ms/step - loss: 0.6811 - accuracy: 0.7316 - val_loss: 0.7879 - val_accuracy: 0.6957\n",
            "Epoch 71/500\n",
            "104/104 [==============================] - 1s 5ms/step - loss: 0.6591 - accuracy: 0.7497 - val_loss: 0.7739 - val_accuracy: 0.7053\n",
            "Epoch 72/500\n",
            "104/104 [==============================] - 1s 5ms/step - loss: 0.6563 - accuracy: 0.7340 - val_loss: 0.8209 - val_accuracy: 0.6715\n",
            "Epoch 73/500\n",
            "104/104 [==============================] - 1s 5ms/step - loss: 0.6762 - accuracy: 0.7364 - val_loss: 0.7581 - val_accuracy: 0.7488\n",
            "Epoch 74/500\n",
            "104/104 [==============================] - 1s 5ms/step - loss: 0.6421 - accuracy: 0.7485 - val_loss: 0.7550 - val_accuracy: 0.7101\n",
            "Epoch 75/500\n",
            "104/104 [==============================] - 1s 5ms/step - loss: 0.6741 - accuracy: 0.7406 - val_loss: 0.7776 - val_accuracy: 0.7005\n",
            "Epoch 76/500\n",
            "104/104 [==============================] - 1s 5ms/step - loss: 0.6501 - accuracy: 0.7570 - val_loss: 0.7842 - val_accuracy: 0.7005\n",
            "Epoch 77/500\n",
            "104/104 [==============================] - 1s 5ms/step - loss: 0.6420 - accuracy: 0.7509 - val_loss: 0.6980 - val_accuracy: 0.7633\n",
            "Epoch 78/500\n",
            "104/104 [==============================] - 1s 5ms/step - loss: 0.6232 - accuracy: 0.7618 - val_loss: 0.8809 - val_accuracy: 0.6715\n",
            "Epoch 79/500\n",
            "104/104 [==============================] - 0s 4ms/step - loss: 0.6126 - accuracy: 0.7684 - val_loss: 0.7405 - val_accuracy: 0.7440\n",
            "Epoch 80/500\n",
            "104/104 [==============================] - 1s 5ms/step - loss: 0.6321 - accuracy: 0.7557 - val_loss: 0.7245 - val_accuracy: 0.7295\n",
            "Epoch 81/500\n",
            "104/104 [==============================] - 1s 5ms/step - loss: 0.6042 - accuracy: 0.7745 - val_loss: 0.8011 - val_accuracy: 0.6812\n",
            "Epoch 82/500\n",
            "104/104 [==============================] - 0s 4ms/step - loss: 0.6283 - accuracy: 0.7660 - val_loss: 0.7333 - val_accuracy: 0.7391\n",
            "Epoch 83/500\n",
            "104/104 [==============================] - 1s 5ms/step - loss: 0.6002 - accuracy: 0.7715 - val_loss: 0.6751 - val_accuracy: 0.7488\n",
            "Epoch 84/500\n",
            "104/104 [==============================] - 0s 5ms/step - loss: 0.5916 - accuracy: 0.7696 - val_loss: 0.7570 - val_accuracy: 0.7150\n",
            "Epoch 85/500\n",
            "104/104 [==============================] - 0s 4ms/step - loss: 0.6043 - accuracy: 0.7684 - val_loss: 0.7440 - val_accuracy: 0.7101\n",
            "Epoch 86/500\n",
            "104/104 [==============================] - 1s 5ms/step - loss: 0.5736 - accuracy: 0.7932 - val_loss: 0.7532 - val_accuracy: 0.7440\n",
            "Epoch 87/500\n",
            "104/104 [==============================] - 1s 5ms/step - loss: 0.5771 - accuracy: 0.7811 - val_loss: 0.8928 - val_accuracy: 0.6618\n",
            "Epoch 88/500\n",
            "104/104 [==============================] - 0s 4ms/step - loss: 0.5669 - accuracy: 0.7745 - val_loss: 0.6906 - val_accuracy: 0.7778\n",
            "Epoch 89/500\n",
            "104/104 [==============================] - 1s 5ms/step - loss: 0.5611 - accuracy: 0.7896 - val_loss: 0.7051 - val_accuracy: 0.7585\n",
            "Epoch 90/500\n",
            "104/104 [==============================] - 0s 4ms/step - loss: 0.5516 - accuracy: 0.7950 - val_loss: 0.6701 - val_accuracy: 0.7778\n",
            "Epoch 91/500\n",
            "104/104 [==============================] - 1s 5ms/step - loss: 0.5669 - accuracy: 0.7830 - val_loss: 0.7332 - val_accuracy: 0.7246\n",
            "Epoch 92/500\n",
            "104/104 [==============================] - 1s 5ms/step - loss: 0.5391 - accuracy: 0.7981 - val_loss: 0.6966 - val_accuracy: 0.7440\n",
            "Epoch 93/500\n",
            "104/104 [==============================] - 0s 4ms/step - loss: 0.5653 - accuracy: 0.7854 - val_loss: 0.7723 - val_accuracy: 0.7101\n",
            "Epoch 94/500\n",
            "104/104 [==============================] - 1s 5ms/step - loss: 0.5382 - accuracy: 0.7926 - val_loss: 0.7336 - val_accuracy: 0.7150\n",
            "Epoch 95/500\n",
            "104/104 [==============================] - 1s 5ms/step - loss: 0.5612 - accuracy: 0.7836 - val_loss: 0.7239 - val_accuracy: 0.7585\n",
            "Epoch 96/500\n",
            "104/104 [==============================] - 0s 4ms/step - loss: 0.5455 - accuracy: 0.7908 - val_loss: 0.6633 - val_accuracy: 0.7778\n",
            "Epoch 97/500\n",
            "104/104 [==============================] - 1s 5ms/step - loss: 0.5360 - accuracy: 0.7938 - val_loss: 0.7545 - val_accuracy: 0.7391\n",
            "Epoch 98/500\n",
            "104/104 [==============================] - 1s 5ms/step - loss: 0.5392 - accuracy: 0.7920 - val_loss: 0.6500 - val_accuracy: 0.7971\n",
            "Epoch 99/500\n",
            "104/104 [==============================] - 0s 5ms/step - loss: 0.5192 - accuracy: 0.7975 - val_loss: 0.7895 - val_accuracy: 0.6957\n",
            "Epoch 100/500\n",
            "104/104 [==============================] - 1s 5ms/step - loss: 0.5363 - accuracy: 0.7896 - val_loss: 0.6394 - val_accuracy: 0.7971\n",
            "Epoch 101/500\n",
            "104/104 [==============================] - 0s 5ms/step - loss: 0.5323 - accuracy: 0.8023 - val_loss: 0.6537 - val_accuracy: 0.7681\n",
            "Epoch 102/500\n",
            "104/104 [==============================] - 1s 5ms/step - loss: 0.5122 - accuracy: 0.8029 - val_loss: 0.7528 - val_accuracy: 0.7440\n",
            "Epoch 103/500\n",
            "104/104 [==============================] - 1s 5ms/step - loss: 0.5013 - accuracy: 0.7975 - val_loss: 0.7178 - val_accuracy: 0.7440\n",
            "Epoch 104/500\n",
            "104/104 [==============================] - 1s 5ms/step - loss: 0.4990 - accuracy: 0.8102 - val_loss: 0.6344 - val_accuracy: 0.7633\n",
            "Epoch 105/500\n",
            "104/104 [==============================] - 0s 5ms/step - loss: 0.5078 - accuracy: 0.8102 - val_loss: 0.7150 - val_accuracy: 0.7343\n",
            "Epoch 106/500\n",
            "104/104 [==============================] - 1s 5ms/step - loss: 0.5000 - accuracy: 0.8132 - val_loss: 0.7334 - val_accuracy: 0.7053\n",
            "Epoch 107/500\n",
            "104/104 [==============================] - 1s 5ms/step - loss: 0.4887 - accuracy: 0.8156 - val_loss: 0.7023 - val_accuracy: 0.7585\n",
            "Epoch 108/500\n",
            "104/104 [==============================] - 1s 5ms/step - loss: 0.5085 - accuracy: 0.8180 - val_loss: 0.6459 - val_accuracy: 0.7585\n",
            "Epoch 109/500\n",
            "104/104 [==============================] - 1s 5ms/step - loss: 0.5026 - accuracy: 0.8029 - val_loss: 0.8050 - val_accuracy: 0.7536\n",
            "Epoch 110/500\n",
            "104/104 [==============================] - 1s 5ms/step - loss: 0.4937 - accuracy: 0.8089 - val_loss: 0.8141 - val_accuracy: 0.7343\n",
            "Epoch 111/500\n",
            "104/104 [==============================] - 1s 5ms/step - loss: 0.4754 - accuracy: 0.8168 - val_loss: 0.6215 - val_accuracy: 0.7729\n",
            "Epoch 112/500\n",
            "104/104 [==============================] - 0s 4ms/step - loss: 0.4951 - accuracy: 0.7999 - val_loss: 0.6373 - val_accuracy: 0.7778\n",
            "Epoch 113/500\n",
            "104/104 [==============================] - 1s 5ms/step - loss: 0.4708 - accuracy: 0.8174 - val_loss: 0.6603 - val_accuracy: 0.7633\n",
            "Epoch 114/500\n",
            "104/104 [==============================] - 1s 5ms/step - loss: 0.4685 - accuracy: 0.8301 - val_loss: 0.6590 - val_accuracy: 0.7536\n",
            "Epoch 115/500\n",
            "104/104 [==============================] - 1s 5ms/step - loss: 0.4628 - accuracy: 0.8283 - val_loss: 0.6627 - val_accuracy: 0.7633\n",
            "Epoch 116/500\n",
            "104/104 [==============================] - 1s 5ms/step - loss: 0.4348 - accuracy: 0.8331 - val_loss: 0.6861 - val_accuracy: 0.7440\n",
            "Epoch 117/500\n",
            "104/104 [==============================] - 1s 5ms/step - loss: 0.4801 - accuracy: 0.8222 - val_loss: 0.6563 - val_accuracy: 0.7778\n",
            "Epoch 118/500\n",
            "104/104 [==============================] - 0s 5ms/step - loss: 0.4527 - accuracy: 0.8374 - val_loss: 0.6373 - val_accuracy: 0.7681\n",
            "Epoch 119/500\n",
            "104/104 [==============================] - 1s 5ms/step - loss: 0.4476 - accuracy: 0.8343 - val_loss: 0.6442 - val_accuracy: 0.7923\n",
            "Epoch 120/500\n",
            "104/104 [==============================] - 1s 5ms/step - loss: 0.4305 - accuracy: 0.8374 - val_loss: 0.6705 - val_accuracy: 0.7440\n",
            "Epoch 121/500\n",
            "104/104 [==============================] - 1s 5ms/step - loss: 0.4172 - accuracy: 0.8519 - val_loss: 0.7868 - val_accuracy: 0.7198\n",
            "Epoch 122/500\n",
            "104/104 [==============================] - 1s 5ms/step - loss: 0.4390 - accuracy: 0.8325 - val_loss: 0.6560 - val_accuracy: 0.7585\n",
            "Epoch 123/500\n",
            "104/104 [==============================] - 0s 5ms/step - loss: 0.4501 - accuracy: 0.8313 - val_loss: 0.6090 - val_accuracy: 0.7633\n",
            "Epoch 124/500\n",
            "104/104 [==============================] - 0s 5ms/step - loss: 0.4419 - accuracy: 0.8325 - val_loss: 0.6801 - val_accuracy: 0.7778\n",
            "Epoch 125/500\n",
            "104/104 [==============================] - 1s 6ms/step - loss: 0.4426 - accuracy: 0.8325 - val_loss: 0.6558 - val_accuracy: 0.7633\n",
            "Epoch 126/500\n",
            "104/104 [==============================] - 0s 4ms/step - loss: 0.4395 - accuracy: 0.8277 - val_loss: 0.6752 - val_accuracy: 0.7633\n",
            "Epoch 127/500\n",
            "104/104 [==============================] - 1s 6ms/step - loss: 0.4141 - accuracy: 0.8374 - val_loss: 0.6619 - val_accuracy: 0.7391\n",
            "Epoch 128/500\n",
            "104/104 [==============================] - 1s 5ms/step - loss: 0.4403 - accuracy: 0.8374 - val_loss: 0.6922 - val_accuracy: 0.7440\n",
            "Epoch 129/500\n",
            "104/104 [==============================] - 1s 5ms/step - loss: 0.3995 - accuracy: 0.8482 - val_loss: 0.8291 - val_accuracy: 0.6957\n",
            "Epoch 130/500\n",
            "104/104 [==============================] - 1s 6ms/step - loss: 0.4092 - accuracy: 0.8404 - val_loss: 0.7624 - val_accuracy: 0.7246\n",
            "Epoch 131/500\n",
            "104/104 [==============================] - 1s 5ms/step - loss: 0.4183 - accuracy: 0.8392 - val_loss: 0.7198 - val_accuracy: 0.7343\n",
            "Epoch 132/500\n",
            "104/104 [==============================] - 1s 7ms/step - loss: 0.3968 - accuracy: 0.8434 - val_loss: 0.6131 - val_accuracy: 0.7729\n",
            "Epoch 133/500\n",
            "104/104 [==============================] - 1s 7ms/step - loss: 0.4050 - accuracy: 0.8452 - val_loss: 0.6668 - val_accuracy: 0.7633\n",
            "Epoch 134/500\n",
            "104/104 [==============================] - 1s 7ms/step - loss: 0.3944 - accuracy: 0.8476 - val_loss: 0.6031 - val_accuracy: 0.7681\n",
            "Epoch 135/500\n",
            "104/104 [==============================] - 1s 7ms/step - loss: 0.4128 - accuracy: 0.8525 - val_loss: 0.6120 - val_accuracy: 0.7633\n",
            "Epoch 136/500\n",
            "104/104 [==============================] - 1s 13ms/step - loss: 0.4089 - accuracy: 0.8507 - val_loss: 0.6079 - val_accuracy: 0.7778\n",
            "Epoch 137/500\n",
            "104/104 [==============================] - 1s 7ms/step - loss: 0.3779 - accuracy: 0.8597 - val_loss: 0.6621 - val_accuracy: 0.7633\n",
            "Epoch 138/500\n",
            "104/104 [==============================] - 1s 9ms/step - loss: 0.3717 - accuracy: 0.8579 - val_loss: 0.6240 - val_accuracy: 0.7826\n",
            "Epoch 139/500\n",
            "104/104 [==============================] - 1s 8ms/step - loss: 0.3813 - accuracy: 0.8615 - val_loss: 0.5974 - val_accuracy: 0.7923\n",
            "Epoch 140/500\n",
            "104/104 [==============================] - 1s 8ms/step - loss: 0.3825 - accuracy: 0.8561 - val_loss: 0.6899 - val_accuracy: 0.7633\n",
            "Epoch 141/500\n",
            "104/104 [==============================] - 1s 5ms/step - loss: 0.3868 - accuracy: 0.8519 - val_loss: 0.6007 - val_accuracy: 0.7826\n",
            "Epoch 142/500\n",
            "104/104 [==============================] - 0s 4ms/step - loss: 0.3832 - accuracy: 0.8489 - val_loss: 0.6250 - val_accuracy: 0.7729\n",
            "Epoch 143/500\n",
            "104/104 [==============================] - 1s 5ms/step - loss: 0.3645 - accuracy: 0.8646 - val_loss: 0.7441 - val_accuracy: 0.7198\n",
            "Epoch 144/500\n",
            "104/104 [==============================] - 1s 5ms/step - loss: 0.3905 - accuracy: 0.8482 - val_loss: 0.7619 - val_accuracy: 0.6908\n",
            "Epoch 145/500\n",
            "104/104 [==============================] - 0s 5ms/step - loss: 0.3669 - accuracy: 0.8694 - val_loss: 0.7198 - val_accuracy: 0.7343\n",
            "Epoch 146/500\n",
            "104/104 [==============================] - 1s 5ms/step - loss: 0.3677 - accuracy: 0.8712 - val_loss: 0.6175 - val_accuracy: 0.7633\n",
            "Epoch 147/500\n",
            "104/104 [==============================] - 1s 5ms/step - loss: 0.3810 - accuracy: 0.8603 - val_loss: 0.5775 - val_accuracy: 0.8164\n",
            "Epoch 148/500\n",
            "104/104 [==============================] - 0s 5ms/step - loss: 0.3455 - accuracy: 0.8712 - val_loss: 0.6550 - val_accuracy: 0.7585\n",
            "Epoch 149/500\n",
            "104/104 [==============================] - 1s 5ms/step - loss: 0.3750 - accuracy: 0.8622 - val_loss: 0.6821 - val_accuracy: 0.7585\n",
            "Epoch 150/500\n",
            "104/104 [==============================] - 0s 4ms/step - loss: 0.3428 - accuracy: 0.8688 - val_loss: 0.6211 - val_accuracy: 0.7826\n",
            "Epoch 151/500\n",
            "104/104 [==============================] - 1s 5ms/step - loss: 0.3510 - accuracy: 0.8622 - val_loss: 0.7390 - val_accuracy: 0.7246\n",
            "Epoch 152/500\n",
            "104/104 [==============================] - 1s 5ms/step - loss: 0.3584 - accuracy: 0.8736 - val_loss: 0.6085 - val_accuracy: 0.7874\n",
            "Epoch 153/500\n",
            "104/104 [==============================] - 1s 5ms/step - loss: 0.3264 - accuracy: 0.8755 - val_loss: 0.6090 - val_accuracy: 0.7923\n",
            "Epoch 154/500\n",
            "104/104 [==============================] - 1s 5ms/step - loss: 0.3630 - accuracy: 0.8549 - val_loss: 0.6743 - val_accuracy: 0.7778\n",
            "Epoch 155/500\n",
            "104/104 [==============================] - 1s 6ms/step - loss: 0.3552 - accuracy: 0.8700 - val_loss: 0.6520 - val_accuracy: 0.7778\n",
            "Epoch 156/500\n",
            "104/104 [==============================] - 0s 5ms/step - loss: 0.3341 - accuracy: 0.8755 - val_loss: 0.5771 - val_accuracy: 0.7778\n",
            "Epoch 157/500\n",
            "104/104 [==============================] - 1s 6ms/step - loss: 0.3205 - accuracy: 0.8736 - val_loss: 0.5976 - val_accuracy: 0.7681\n",
            "Epoch 158/500\n",
            "104/104 [==============================] - 1s 5ms/step - loss: 0.3333 - accuracy: 0.8700 - val_loss: 0.6893 - val_accuracy: 0.7440\n",
            "Epoch 159/500\n",
            "104/104 [==============================] - 0s 5ms/step - loss: 0.3337 - accuracy: 0.8821 - val_loss: 0.7682 - val_accuracy: 0.7198\n",
            "Epoch 160/500\n",
            "104/104 [==============================] - 1s 5ms/step - loss: 0.3426 - accuracy: 0.8712 - val_loss: 0.6482 - val_accuracy: 0.8019\n",
            "Epoch 161/500\n",
            "104/104 [==============================] - 1s 5ms/step - loss: 0.3523 - accuracy: 0.8676 - val_loss: 0.6431 - val_accuracy: 0.7729\n",
            "Epoch 162/500\n",
            "104/104 [==============================] - 1s 5ms/step - loss: 0.3154 - accuracy: 0.8863 - val_loss: 0.6486 - val_accuracy: 0.7778\n",
            "Epoch 163/500\n",
            "104/104 [==============================] - 1s 5ms/step - loss: 0.3326 - accuracy: 0.8803 - val_loss: 0.7103 - val_accuracy: 0.7633\n",
            "Epoch 164/500\n",
            "104/104 [==============================] - 1s 5ms/step - loss: 0.3345 - accuracy: 0.8748 - val_loss: 0.6360 - val_accuracy: 0.7729\n",
            "Epoch 165/500\n",
            "104/104 [==============================] - 1s 5ms/step - loss: 0.3287 - accuracy: 0.8706 - val_loss: 0.6395 - val_accuracy: 0.7633\n",
            "Epoch 166/500\n",
            "104/104 [==============================] - 1s 5ms/step - loss: 0.3181 - accuracy: 0.8827 - val_loss: 0.6451 - val_accuracy: 0.7440\n",
            "Epoch 167/500\n",
            "104/104 [==============================] - 0s 5ms/step - loss: 0.3078 - accuracy: 0.8894 - val_loss: 0.6492 - val_accuracy: 0.7536\n",
            "Epoch 168/500\n",
            "104/104 [==============================] - 1s 5ms/step - loss: 0.3037 - accuracy: 0.8881 - val_loss: 0.6614 - val_accuracy: 0.7681\n",
            "Epoch 169/500\n",
            "104/104 [==============================] - 0s 5ms/step - loss: 0.3370 - accuracy: 0.8833 - val_loss: 0.6382 - val_accuracy: 0.7681\n",
            "Epoch 170/500\n",
            "104/104 [==============================] - 1s 5ms/step - loss: 0.3159 - accuracy: 0.8924 - val_loss: 0.6771 - val_accuracy: 0.7681\n",
            "Epoch 171/500\n",
            "104/104 [==============================] - 1s 5ms/step - loss: 0.3073 - accuracy: 0.8863 - val_loss: 0.6291 - val_accuracy: 0.7826\n",
            "Epoch 172/500\n",
            "104/104 [==============================] - 0s 5ms/step - loss: 0.2729 - accuracy: 0.9021 - val_loss: 0.7002 - val_accuracy: 0.7729\n",
            "Epoch 173/500\n",
            "104/104 [==============================] - 1s 5ms/step - loss: 0.3192 - accuracy: 0.8815 - val_loss: 0.6126 - val_accuracy: 0.7729\n",
            "Epoch 174/500\n",
            "104/104 [==============================] - 1s 5ms/step - loss: 0.3244 - accuracy: 0.8815 - val_loss: 0.6039 - val_accuracy: 0.7826\n",
            "Epoch 175/500\n",
            "104/104 [==============================] - 0s 5ms/step - loss: 0.3060 - accuracy: 0.8906 - val_loss: 0.6321 - val_accuracy: 0.7729\n",
            "Epoch 176/500\n",
            "104/104 [==============================] - 1s 6ms/step - loss: 0.3117 - accuracy: 0.8875 - val_loss: 0.6909 - val_accuracy: 0.7536\n",
            "Epoch 177/500\n",
            "104/104 [==============================] - 0s 5ms/step - loss: 0.3023 - accuracy: 0.8918 - val_loss: 0.6676 - val_accuracy: 0.7488\n",
            "Epoch 178/500\n",
            "104/104 [==============================] - 1s 5ms/step - loss: 0.2988 - accuracy: 0.8815 - val_loss: 0.7212 - val_accuracy: 0.7246\n",
            "Epoch 179/500\n",
            "104/104 [==============================] - 1s 5ms/step - loss: 0.2956 - accuracy: 0.8948 - val_loss: 0.6582 - val_accuracy: 0.7971\n",
            "Epoch 180/500\n",
            "104/104 [==============================] - 1s 5ms/step - loss: 0.3116 - accuracy: 0.8863 - val_loss: 0.5753 - val_accuracy: 0.7874\n",
            "Epoch 181/500\n",
            "104/104 [==============================] - 1s 5ms/step - loss: 0.2826 - accuracy: 0.8930 - val_loss: 0.6392 - val_accuracy: 0.7585\n",
            "Epoch 182/500\n",
            "104/104 [==============================] - 0s 4ms/step - loss: 0.3032 - accuracy: 0.8815 - val_loss: 0.6803 - val_accuracy: 0.7391\n",
            "Epoch 183/500\n",
            "104/104 [==============================] - 0s 5ms/step - loss: 0.2757 - accuracy: 0.8978 - val_loss: 0.7122 - val_accuracy: 0.7536\n",
            "Epoch 184/500\n",
            "104/104 [==============================] - 0s 4ms/step - loss: 0.2913 - accuracy: 0.8948 - val_loss: 0.5832 - val_accuracy: 0.7971\n",
            "Epoch 185/500\n",
            "104/104 [==============================] - 0s 4ms/step - loss: 0.2904 - accuracy: 0.8851 - val_loss: 0.5841 - val_accuracy: 0.8019\n",
            "Epoch 186/500\n",
            "104/104 [==============================] - 0s 5ms/step - loss: 0.2857 - accuracy: 0.8888 - val_loss: 0.8030 - val_accuracy: 0.7005\n",
            "Epoch 187/500\n",
            "104/104 [==============================] - 0s 4ms/step - loss: 0.2944 - accuracy: 0.8845 - val_loss: 0.6298 - val_accuracy: 0.7923\n",
            "Epoch 188/500\n",
            "104/104 [==============================] - 0s 5ms/step - loss: 0.2683 - accuracy: 0.9008 - val_loss: 0.5701 - val_accuracy: 0.8068\n",
            "Epoch 189/500\n",
            "104/104 [==============================] - 0s 4ms/step - loss: 0.3080 - accuracy: 0.8845 - val_loss: 0.6245 - val_accuracy: 0.7778\n",
            "Epoch 190/500\n",
            "104/104 [==============================] - 0s 5ms/step - loss: 0.3001 - accuracy: 0.8875 - val_loss: 0.6840 - val_accuracy: 0.7585\n",
            "Epoch 191/500\n",
            "104/104 [==============================] - 0s 5ms/step - loss: 0.2928 - accuracy: 0.8881 - val_loss: 0.5917 - val_accuracy: 0.7971\n",
            "Epoch 192/500\n",
            "104/104 [==============================] - 0s 4ms/step - loss: 0.2831 - accuracy: 0.8990 - val_loss: 0.6872 - val_accuracy: 0.7778\n",
            "Epoch 193/500\n",
            "104/104 [==============================] - 0s 4ms/step - loss: 0.2765 - accuracy: 0.8990 - val_loss: 0.5715 - val_accuracy: 0.7971\n",
            "Epoch 194/500\n",
            "104/104 [==============================] - 0s 5ms/step - loss: 0.2828 - accuracy: 0.8912 - val_loss: 0.5598 - val_accuracy: 0.8116\n",
            "Epoch 195/500\n",
            "104/104 [==============================] - 0s 5ms/step - loss: 0.2838 - accuracy: 0.8918 - val_loss: 0.6286 - val_accuracy: 0.7536\n",
            "Epoch 196/500\n",
            "104/104 [==============================] - 0s 4ms/step - loss: 0.2879 - accuracy: 0.8942 - val_loss: 0.5599 - val_accuracy: 0.7826\n",
            "Epoch 197/500\n",
            "104/104 [==============================] - 0s 4ms/step - loss: 0.3062 - accuracy: 0.8839 - val_loss: 0.6056 - val_accuracy: 0.7729\n",
            "Epoch 198/500\n",
            "104/104 [==============================] - 0s 4ms/step - loss: 0.2660 - accuracy: 0.8972 - val_loss: 0.8558 - val_accuracy: 0.6860\n",
            "Epoch 199/500\n",
            "104/104 [==============================] - 1s 5ms/step - loss: 0.2888 - accuracy: 0.8954 - val_loss: 0.6154 - val_accuracy: 0.7729\n",
            "Epoch 200/500\n",
            "104/104 [==============================] - 0s 4ms/step - loss: 0.2639 - accuracy: 0.8954 - val_loss: 0.7073 - val_accuracy: 0.7585\n",
            "Epoch 201/500\n",
            "104/104 [==============================] - 0s 4ms/step - loss: 0.2840 - accuracy: 0.8954 - val_loss: 0.5658 - val_accuracy: 0.8019\n",
            "Epoch 202/500\n",
            "104/104 [==============================] - 0s 4ms/step - loss: 0.2582 - accuracy: 0.9051 - val_loss: 0.6858 - val_accuracy: 0.7681\n",
            "Epoch 203/500\n",
            "104/104 [==============================] - 1s 6ms/step - loss: 0.3066 - accuracy: 0.8881 - val_loss: 0.6902 - val_accuracy: 0.7633\n",
            "Epoch 204/500\n",
            "104/104 [==============================] - 1s 5ms/step - loss: 0.2571 - accuracy: 0.8990 - val_loss: 0.6209 - val_accuracy: 0.7874\n",
            "Epoch 205/500\n",
            "104/104 [==============================] - 1s 5ms/step - loss: 0.2814 - accuracy: 0.8984 - val_loss: 0.6253 - val_accuracy: 0.7923\n",
            "Epoch 206/500\n",
            "104/104 [==============================] - 1s 5ms/step - loss: 0.2576 - accuracy: 0.9008 - val_loss: 0.6577 - val_accuracy: 0.7778\n",
            "Epoch 207/500\n",
            "104/104 [==============================] - 0s 5ms/step - loss: 0.2519 - accuracy: 0.9117 - val_loss: 0.7203 - val_accuracy: 0.7681\n",
            "Epoch 208/500\n",
            "104/104 [==============================] - 1s 6ms/step - loss: 0.2510 - accuracy: 0.9148 - val_loss: 0.6214 - val_accuracy: 0.7778\n",
            "Epoch 209/500\n",
            "104/104 [==============================] - 0s 5ms/step - loss: 0.2497 - accuracy: 0.9081 - val_loss: 0.6242 - val_accuracy: 0.7729\n",
            "Epoch 210/500\n",
            "104/104 [==============================] - 1s 5ms/step - loss: 0.2421 - accuracy: 0.9154 - val_loss: 0.6043 - val_accuracy: 0.7923\n",
            "Epoch 211/500\n",
            "104/104 [==============================] - 1s 5ms/step - loss: 0.2453 - accuracy: 0.9123 - val_loss: 0.5887 - val_accuracy: 0.7778\n",
            "Epoch 212/500\n",
            "104/104 [==============================] - 0s 5ms/step - loss: 0.2584 - accuracy: 0.9039 - val_loss: 0.6315 - val_accuracy: 0.8068\n",
            "Epoch 213/500\n",
            "104/104 [==============================] - 1s 5ms/step - loss: 0.2366 - accuracy: 0.9184 - val_loss: 0.6282 - val_accuracy: 0.7874\n",
            "Epoch 214/500\n",
            "104/104 [==============================] - 1s 5ms/step - loss: 0.2459 - accuracy: 0.9045 - val_loss: 0.5650 - val_accuracy: 0.7681\n",
            "Epoch 215/500\n",
            "104/104 [==============================] - 0s 4ms/step - loss: 0.2693 - accuracy: 0.8984 - val_loss: 0.6156 - val_accuracy: 0.7729\n",
            "Epoch 216/500\n",
            "104/104 [==============================] - 1s 6ms/step - loss: 0.2318 - accuracy: 0.9202 - val_loss: 0.7204 - val_accuracy: 0.7440\n",
            "Epoch 217/500\n",
            "104/104 [==============================] - 0s 4ms/step - loss: 0.2385 - accuracy: 0.9087 - val_loss: 0.7439 - val_accuracy: 0.7440\n",
            "Epoch 218/500\n",
            "104/104 [==============================] - 1s 5ms/step - loss: 0.2403 - accuracy: 0.9057 - val_loss: 0.5721 - val_accuracy: 0.7971\n",
            "Epoch 219/500\n",
            "104/104 [==============================] - 0s 5ms/step - loss: 0.2482 - accuracy: 0.9081 - val_loss: 0.8898 - val_accuracy: 0.7488\n"
          ]
        }
      ]
    },
    {
      "cell_type": "code",
      "source": [
        "plt.plot(cnnhistory.history['loss'])\n",
        "plt.plot(cnnhistory.history['val_loss'])\n",
        "plt.title('model loss')\n",
        "plt.ylabel('loss')\n",
        "plt.xlabel('epoch')\n",
        "plt.legend(['train','test'], loc='upper left')\n",
        "plt.show()"
      ],
      "metadata": {
        "colab": {
          "base_uri": "https://localhost:8080/",
          "height": 295
        },
        "id": "oQYnuaCrDH_A",
        "outputId": "93685fff-2650-4e51-806a-a27cf699f2fc"
      },
      "execution_count": 15,
      "outputs": [
        {
          "output_type": "display_data",
          "data": {
            "text/plain": [
              "<Figure size 432x288 with 1 Axes>"
            ],
            "image/png": "[encoded data removed]"
          },
          "metadata": {
            "needs_background": "light"
          }
        }
      ]
    },
    {
      "cell_type": "code",
      "source": [
        "plt.plot(cnnhistory.history['accuracy'])\n",
        "plt.plot(cnnhistory.history['val_accuracy'])\n",
        "plt.title('model accuracy')\n",
        "plt.ylabel('accuracy')\n",
        "plt.xlabel('epoch')\n",
        "plt.legend(['train','test'], loc='upper left')\n",
        "plt.show()"
      ],
      "metadata": {
        "colab": {
          "base_uri": "https://localhost:8080/",
          "height": 295
        },
        "id": "IFkTuO8nDNdq",
        "outputId": "c700071d-6d10-4119-bad0-f79a51e3b36c"
      },
      "execution_count": 16,
      "outputs": [
        {
          "output_type": "display_data",
          "data": {
            "text/plain": [
              "<Figure size 432x288 with 1 Axes>"
            ],
            "image/png": "[encoded data removed]"
          },
          "metadata": {
            "needs_background": "light"
          }
        }
      ]
    },
    {
      "cell_type": "code",
      "source": [
        "predictions = model.predict(x_testcnn)"
      ],
      "metadata": {
        "id": "A2xtrN5wDQgY"
      },
      "execution_count": 17,
      "outputs": []
    },
    {
      "cell_type": "code",
      "source": [
        "predictions"
      ],
      "metadata": {
        "colab": {
          "base_uri": "https://localhost:8080/"
        },
        "id": "_f_ohjXKDUpY",
        "outputId": "414a3f97-405e-4ae4-a7ea-72941b111650"
      },
      "execution_count": 18,
      "outputs": [
        {
          "output_type": "execute_result",
          "data": {
            "text/plain": [
              "array([[3.89618725e-01, 2.15622634e-02, 2.65722483e-01, 2.41915435e-01,\n",
              "        4.99727316e-02, 3.12082823e-02],\n",
              "       [1.00671547e-04, 3.28993406e-06, 2.18732654e-09, 9.88055825e-01,\n",
              "        1.34981155e-06, 1.18387900e-02],\n",
              "       [6.89734370e-02, 5.48993200e-02, 6.11634832e-03, 7.63828695e-01,\n",
              "        3.36572132e-03, 1.02816485e-01],\n",
              "       ...,\n",
              "       [1.66203987e-04, 7.00352700e-07, 8.00956506e-04, 2.87793548e-04,\n",
              "        9.91862774e-01, 6.88146846e-03],\n",
              "       [3.81494116e-04, 2.49536201e-01, 7.39138544e-01, 1.49227143e-03,\n",
              "        4.51634964e-03, 4.93518217e-03],\n",
              "       [6.56546326e-04, 7.62969488e-04, 6.29313812e-02, 9.92982462e-03,\n",
              "        9.20178652e-01, 5.54066384e-03]], dtype=float32)"
            ]
          },
          "metadata": {},
          "execution_count": 18
        }
      ]
    },
    {
      "cell_type": "code",
      "source": [
        "y_test"
      ],
      "metadata": {
        "colab": {
          "base_uri": "https://localhost:8080/"
        },
        "id": "cmA2bFgsDW3D",
        "outputId": "fa70e829-ca7a-41a9-8391-63e6257763ce"
      },
      "execution_count": 19,
      "outputs": [
        {
          "output_type": "execute_result",
          "data": {
            "text/plain": [
              "array([3, 3, 3, 0, 4, 4, 1, 2, 5, 0, 5, 3, 2, 2, 1, 4, 4, 5, 2, 4, 1, 2,\n",
              "       3, 5, 4, 2, 1, 2, 2, 2, 2, 5, 2, 5, 3, 1, 2, 0, 4, 5, 2, 3, 2, 2,\n",
              "       5, 2, 0, 1, 3, 4, 4, 5, 1, 1, 4, 4, 5, 1, 1, 1, 0, 1, 5, 0, 4, 1,\n",
              "       1, 0, 1, 4, 1, 0, 4, 1, 3, 1, 2, 2, 1, 2, 3, 0, 5, 3, 5, 5, 2, 4,\n",
              "       5, 1, 5, 1, 5, 3, 4, 1, 4, 1, 5, 4, 5, 1, 2, 1, 1, 5, 1, 3, 2, 5,\n",
              "       2, 1, 3, 5, 4, 4, 0, 0, 3, 1, 2, 2, 3, 5, 1, 5, 3, 4, 2, 2, 0, 2,\n",
              "       2, 5, 5, 0, 3, 3, 2, 2, 0, 3, 4, 0, 4, 2, 4, 5, 4, 1, 5, 3, 2, 2,\n",
              "       5, 4, 3, 3, 4, 3, 3, 4, 1, 5, 2, 3, 2, 2, 0, 2, 1, 3, 1, 2, 2, 5,\n",
              "       5, 1, 4, 2, 2, 1, 1, 3, 3, 5, 5, 2, 5, 1, 5, 0, 3, 3, 0, 5, 1, 4,\n",
              "       1, 4, 2, 5, 5, 1, 4, 2, 4])"
            ]
          },
          "metadata": {},
          "execution_count": 19
        }
      ]
    },
    {
      "cell_type": "code",
      "source": [
        "new_Ytest = y_test.astype(int)"
      ],
      "metadata": {
        "id": "0PHDKWJWDY3g"
      },
      "execution_count": 20,
      "outputs": []
    },
    {
      "cell_type": "code",
      "source": [
        "new_Ytest"
      ],
      "metadata": {
        "colab": {
          "base_uri": "https://localhost:8080/"
        },
        "id": "k68v2i-pDbZE",
        "outputId": "e9eb2964-8549-481f-f4cb-a7cf78e52377"
      },
      "execution_count": 21,
      "outputs": [
        {
          "output_type": "execute_result",
          "data": {
            "text/plain": [
              "array([3, 3, 3, 0, 4, 4, 1, 2, 5, 0, 5, 3, 2, 2, 1, 4, 4, 5, 2, 4, 1, 2,\n",
              "       3, 5, 4, 2, 1, 2, 2, 2, 2, 5, 2, 5, 3, 1, 2, 0, 4, 5, 2, 3, 2, 2,\n",
              "       5, 2, 0, 1, 3, 4, 4, 5, 1, 1, 4, 4, 5, 1, 1, 1, 0, 1, 5, 0, 4, 1,\n",
              "       1, 0, 1, 4, 1, 0, 4, 1, 3, 1, 2, 2, 1, 2, 3, 0, 5, 3, 5, 5, 2, 4,\n",
              "       5, 1, 5, 1, 5, 3, 4, 1, 4, 1, 5, 4, 5, 1, 2, 1, 1, 5, 1, 3, 2, 5,\n",
              "       2, 1, 3, 5, 4, 4, 0, 0, 3, 1, 2, 2, 3, 5, 1, 5, 3, 4, 2, 2, 0, 2,\n",
              "       2, 5, 5, 0, 3, 3, 2, 2, 0, 3, 4, 0, 4, 2, 4, 5, 4, 1, 5, 3, 2, 2,\n",
              "       5, 4, 3, 3, 4, 3, 3, 4, 1, 5, 2, 3, 2, 2, 0, 2, 1, 3, 1, 2, 2, 5,\n",
              "       5, 1, 4, 2, 2, 1, 1, 3, 3, 5, 5, 2, 5, 1, 5, 0, 3, 3, 0, 5, 1, 4,\n",
              "       1, 4, 2, 5, 5, 1, 4, 2, 4])"
            ]
          },
          "metadata": {},
          "execution_count": 21
        }
      ]
    },
    {
      "cell_type": "code",
      "source": [
        "preds1=predictions.argmax(axis=1)\n",
        "preds1"
      ],
      "metadata": {
        "colab": {
          "base_uri": "https://localhost:8080/"
        },
        "id": "4_cAI39VFhtp",
        "outputId": "68d6adaf-bf17-4d15-9b17-43746f7381de"
      },
      "execution_count": 22,
      "outputs": [
        {
          "output_type": "execute_result",
          "data": {
            "text/plain": [
              "array([0, 3, 3, 0, 4, 4, 1, 2, 5, 1, 4, 3, 2, 2, 0, 4, 4, 3, 3, 4, 1, 2,\n",
              "       3, 3, 4, 2, 1, 2, 2, 2, 2, 5, 2, 5, 3, 1, 2, 0, 4, 5, 2, 3, 2, 2,\n",
              "       5, 4, 1, 1, 3, 4, 4, 2, 1, 1, 4, 4, 5, 1, 1, 1, 3, 1, 2, 0, 4, 1,\n",
              "       1, 1, 1, 4, 0, 0, 4, 1, 5, 1, 2, 2, 1, 2, 1, 0, 5, 3, 5, 4, 2, 3,\n",
              "       5, 1, 0, 1, 5, 3, 4, 1, 0, 0, 5, 4, 5, 1, 2, 1, 1, 5, 1, 5, 2, 5,\n",
              "       5, 1, 3, 2, 4, 4, 3, 0, 3, 1, 1, 2, 1, 3, 1, 5, 3, 3, 2, 2, 0, 2,\n",
              "       2, 3, 5, 0, 5, 3, 2, 4, 0, 3, 4, 1, 4, 4, 4, 2, 4, 1, 5, 3, 2, 2,\n",
              "       5, 4, 3, 3, 4, 5, 3, 4, 1, 5, 2, 3, 2, 2, 0, 2, 1, 3, 1, 2, 2, 5,\n",
              "       5, 1, 4, 2, 4, 1, 1, 3, 3, 5, 2, 2, 5, 1, 2, 0, 3, 3, 2, 2, 1, 4,\n",
              "       1, 3, 3, 5, 5, 1, 4, 2, 4])"
            ]
          },
          "metadata": {},
          "execution_count": 22
        }
      ]
    },
    {
      "cell_type": "code",
      "source": [
        "abc = preds1.astype(int).flatten()"
      ],
      "metadata": {
        "id": "H4WEmM60NfQn"
      },
      "execution_count": 23,
      "outputs": []
    },
    {
      "cell_type": "code",
      "source": [
        "from sklearn.metrics import confusion_matrix\n",
        "c = confusion_matrix(new_Ytest, abc) \n",
        "c"
      ],
      "metadata": {
        "colab": {
          "base_uri": "https://localhost:8080/"
        },
        "id": "bKEBeEBlFjB8",
        "outputId": "cd5ad172-27b9-4018-b517-82c00afe50d1"
      },
      "execution_count": 24,
      "outputs": [
        {
          "output_type": "execute_result",
          "data": {
            "text/plain": [
              "array([[11,  4,  1,  2,  0,  0],\n",
              "       [ 3, 38,  0,  0,  0,  0],\n",
              "       [ 0,  1, 37,  2,  4,  1],\n",
              "       [ 1,  2,  0, 24,  0,  4],\n",
              "       [ 1,  0,  0,  3, 29,  0],\n",
              "       [ 1,  0,  7,  4,  2, 25]])"
            ]
          },
          "metadata": {},
          "execution_count": 24
        }
      ]
    },
    {
      "cell_type": "code",
      "source": [
        "y_test"
      ],
      "metadata": {
        "colab": {
          "base_uri": "https://localhost:8080/"
        },
        "id": "m4RjG7LWLSQx",
        "outputId": "ca1d0bae-f86c-4859-9081-bace5d923cb7"
      },
      "execution_count": 25,
      "outputs": [
        {
          "output_type": "execute_result",
          "data": {
            "text/plain": [
              "array([3, 3, 3, 0, 4, 4, 1, 2, 5, 0, 5, 3, 2, 2, 1, 4, 4, 5, 2, 4, 1, 2,\n",
              "       3, 5, 4, 2, 1, 2, 2, 2, 2, 5, 2, 5, 3, 1, 2, 0, 4, 5, 2, 3, 2, 2,\n",
              "       5, 2, 0, 1, 3, 4, 4, 5, 1, 1, 4, 4, 5, 1, 1, 1, 0, 1, 5, 0, 4, 1,\n",
              "       1, 0, 1, 4, 1, 0, 4, 1, 3, 1, 2, 2, 1, 2, 3, 0, 5, 3, 5, 5, 2, 4,\n",
              "       5, 1, 5, 1, 5, 3, 4, 1, 4, 1, 5, 4, 5, 1, 2, 1, 1, 5, 1, 3, 2, 5,\n",
              "       2, 1, 3, 5, 4, 4, 0, 0, 3, 1, 2, 2, 3, 5, 1, 5, 3, 4, 2, 2, 0, 2,\n",
              "       2, 5, 5, 0, 3, 3, 2, 2, 0, 3, 4, 0, 4, 2, 4, 5, 4, 1, 5, 3, 2, 2,\n",
              "       5, 4, 3, 3, 4, 3, 3, 4, 1, 5, 2, 3, 2, 2, 0, 2, 1, 3, 1, 2, 2, 5,\n",
              "       5, 1, 4, 2, 2, 1, 1, 3, 3, 5, 5, 2, 5, 1, 5, 0, 3, 3, 0, 5, 1, 4,\n",
              "       1, 4, 2, 5, 5, 1, 4, 2, 4])"
            ]
          },
          "metadata": {},
          "execution_count": 25
        }
      ]
    },
    {
      "cell_type": "code",
      "source": [
        "loss, acc =model.evaluate(x_testcnn, y_test)\n",
        "print(\"Restored model, accuracy: {:5.2f}%\".format(100*acc))"
      ],
      "metadata": {
        "colab": {
          "base_uri": "https://localhost:8080/"
        },
        "id": "n3kzoqPkDqqS",
        "outputId": "87f9737f-d4ea-4da9-e056-9eb4ccfabdd3"
      },
      "execution_count": 26,
      "outputs": [
        {
          "output_type": "stream",
          "name": "stdout",
          "text": [
            "7/7 [==============================] - 0s 4ms/step - loss: 0.5215 - accuracy: 0.7923\n",
            "Restored model, accuracy: 79.23%\n"
          ]
        }
      ]
    },
    {
      "cell_type": "code",
      "source": [
        "loss, acc =model.evaluate(X_train, y_train)\n",
        "print(\"Restored model train, accuracy: {:5.2f}%\".format(100*acc))"
      ],
      "metadata": {
        "id": "fJDTGH_OUX0z",
        "colab": {
          "base_uri": "https://localhost:8080/"
        },
        "outputId": "42e9c236-bbe9-4563-f757-b170c1bab9f7"
      },
      "execution_count": 27,
      "outputs": [
        {
          "output_type": "stream",
          "name": "stdout",
          "text": [
            "52/52 [==============================] - 0s 4ms/step - loss: 0.1235 - accuracy: 0.9849\n",
            "Restored model train, accuracy: 98.49%\n"
          ]
        }
      ]
    },
    {
      "cell_type": "code",
      "source": [
        "from sklearn.metrics import classification_report, confusion_matrix,accuracy_score\n",
        "import seaborn as sn\n",
        "\n",
        "print(classification_report(new_Ytest,abc))\n",
        "\n",
        "acc = float(accuracy_score(new_Ytest,abc))*100\n",
        "print(\"----accuracy score %s ----\" % acc)\n",
        "\n",
        "cm = confusion_matrix(new_Ytest,abc)\n",
        "#df_cm = pd.DataFrame(cm)\n",
        "class_names = ['neutral','calm', 'happy','sad','angry', 'fearful' ]\n",
        "df_cm = pd.DataFrame(cm, index=class_names, columns=class_names,)\n",
        "sn.heatmap(df_cm, annot=True, fmt='')\n",
        "plt.show()"
      ],
      "metadata": {
        "colab": {
          "base_uri": "https://localhost:8080/",
          "height": 508
        },
        "id": "SfSC3El94LZg",
        "outputId": "7a1b8858-5793-412e-c5d2-81d2ebd4d098"
      },
      "execution_count": 28,
      "outputs": [
        {
          "output_type": "stream",
          "name": "stdout",
          "text": [
            "              precision    recall  f1-score   support\n",
            "\n",
            "           0       0.65      0.61      0.63        18\n",
            "           1       0.84      0.93      0.88        41\n",
            "           2       0.82      0.82      0.82        45\n",
            "           3       0.69      0.77      0.73        31\n",
            "           4       0.83      0.88      0.85        33\n",
            "           5       0.83      0.64      0.72        39\n",
            "\n",
            "    accuracy                           0.79       207\n",
            "   macro avg       0.78      0.78      0.77       207\n",
            "weighted avg       0.79      0.79      0.79       207\n",
            "\n",
            "----accuracy score 79.22705314009661 ----\n"
          ]
        },
        {
          "output_type": "display_data",
          "data": {
            "text/plain": [
              "<Figure size 432x288 with 2 Axes>"
            ],
            "image/png": "[encoded data removed]"
          },
          "metadata": {
            "needs_background": "light"
          }
        }
      ]
    }
  ]
}