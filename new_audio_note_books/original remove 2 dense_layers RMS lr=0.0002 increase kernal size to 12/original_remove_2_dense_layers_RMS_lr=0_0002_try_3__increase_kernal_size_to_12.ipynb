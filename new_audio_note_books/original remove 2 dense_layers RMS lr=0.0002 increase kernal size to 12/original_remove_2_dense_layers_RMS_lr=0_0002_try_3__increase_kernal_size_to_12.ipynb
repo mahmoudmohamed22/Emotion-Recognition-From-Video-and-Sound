{
  "nbformat": 4,
  "nbformat_minor": 0,
  "metadata": {
    "colab": {
      "name": "original_remove_2_dense_layers_RMS_lr=0_0002_try_3_ increase kernal size to 12.ipynb",
      "provenance": [],
      "collapsed_sections": []
    },
    "kernelspec": {
      "name": "python3",
      "display_name": "Python 3"
    },
    "language_info": {
      "name": "python"
    },
    "accelerator": "TPU"
  },
  "cells": [
    {
      "cell_type": "code",
      "execution_count": 1,
      "metadata": {
        "colab": {
          "base_uri": "https://localhost:8080/"
        },
        "id": "9SRCO-a_AlH5",
        "outputId": "6c2fc232-c8e1-456e-c560-a911c1b43096"
      },
      "outputs": [
        {
          "output_type": "stream",
          "name": "stdout",
          "text": [
            "Drive already mounted at /content/drive; to attempt to forcibly remount, call drive.mount(\"/content/drive\", force_remount=True).\n"
          ]
        }
      ],
      "source": [
        "from google.colab import drive\n",
        "drive.mount('/content/drive')"
      ]
    },
    {
      "cell_type": "code",
      "source": [
        "!pip install librosa"
      ],
      "metadata": {
        "colab": {
          "base_uri": "https://localhost:8080/"
        },
        "id": "5Lo4mUwG9RMd",
        "outputId": "39cbfe55-f768-47ef-835f-a54f53d0a892"
      },
      "execution_count": 2,
      "outputs": [
        {
          "output_type": "stream",
          "name": "stdout",
          "text": [
            "Looking in indexes: https://pypi.org/simple, https://us-python.pkg.dev/colab-wheels/public/simple/\n",
            "Requirement already satisfied: librosa in /usr/local/lib/python3.7/dist-packages (0.8.1)\n",
            "Requirement already satisfied: resampy>=0.2.2 in /usr/local/lib/python3.7/dist-packages (from librosa) (0.2.2)\n",
            "Requirement already satisfied: scipy>=1.0.0 in /usr/local/lib/python3.7/dist-packages (from librosa) (1.4.1)\n",
            "Requirement already satisfied: numba>=0.43.0 in /usr/local/lib/python3.7/dist-packages (from librosa) (0.51.2)\n",
            "Requirement already satisfied: packaging>=20.0 in /usr/local/lib/python3.7/dist-packages (from librosa) (21.3)\n",
            "Requirement already satisfied: joblib>=0.14 in /usr/local/lib/python3.7/dist-packages (from librosa) (1.1.0)\n",
            "Requirement already satisfied: decorator>=3.0.0 in /usr/local/lib/python3.7/dist-packages (from librosa) (4.4.2)\n",
            "Requirement already satisfied: numpy>=1.15.0 in /usr/local/lib/python3.7/dist-packages (from librosa) (1.21.6)\n",
            "Requirement already satisfied: scikit-learn!=0.19.0,>=0.14.0 in /usr/local/lib/python3.7/dist-packages (from librosa) (1.0.2)\n",
            "Requirement already satisfied: soundfile>=0.10.2 in /usr/local/lib/python3.7/dist-packages (from librosa) (0.10.3.post1)\n",
            "Requirement already satisfied: pooch>=1.0 in /usr/local/lib/python3.7/dist-packages (from librosa) (1.6.0)\n",
            "Requirement already satisfied: audioread>=2.0.0 in /usr/local/lib/python3.7/dist-packages (from librosa) (2.1.9)\n",
            "Requirement already satisfied: setuptools in /usr/local/lib/python3.7/dist-packages (from numba>=0.43.0->librosa) (57.4.0)\n",
            "Requirement already satisfied: llvmlite<0.35,>=0.34.0.dev0 in /usr/local/lib/python3.7/dist-packages (from numba>=0.43.0->librosa) (0.34.0)\n",
            "Requirement already satisfied: pyparsing!=3.0.5,>=2.0.2 in /usr/local/lib/python3.7/dist-packages (from packaging>=20.0->librosa) (3.0.9)\n",
            "Requirement already satisfied: appdirs>=1.3.0 in /usr/local/lib/python3.7/dist-packages (from pooch>=1.0->librosa) (1.4.4)\n",
            "Requirement already satisfied: requests>=2.19.0 in /usr/local/lib/python3.7/dist-packages (from pooch>=1.0->librosa) (2.23.0)\n",
            "Requirement already satisfied: chardet<4,>=3.0.2 in /usr/local/lib/python3.7/dist-packages (from requests>=2.19.0->pooch>=1.0->librosa) (3.0.4)\n",
            "Requirement already satisfied: idna<3,>=2.5 in /usr/local/lib/python3.7/dist-packages (from requests>=2.19.0->pooch>=1.0->librosa) (2.10)\n",
            "Requirement already satisfied: certifi>=2017.4.17 in /usr/local/lib/python3.7/dist-packages (from requests>=2.19.0->pooch>=1.0->librosa) (2022.5.18.1)\n",
            "Requirement already satisfied: urllib3!=1.25.0,!=1.25.1,<1.26,>=1.21.1 in /usr/local/lib/python3.7/dist-packages (from requests>=2.19.0->pooch>=1.0->librosa) (1.24.3)\n",
            "Requirement already satisfied: six>=1.3 in /usr/local/lib/python3.7/dist-packages (from resampy>=0.2.2->librosa) (1.15.0)\n",
            "Requirement already satisfied: threadpoolctl>=2.0.0 in /usr/local/lib/python3.7/dist-packages (from scikit-learn!=0.19.0,>=0.14.0->librosa) (3.1.0)\n",
            "Requirement already satisfied: cffi>=1.0 in /usr/local/lib/python3.7/dist-packages (from soundfile>=0.10.2->librosa) (1.15.0)\n",
            "Requirement already satisfied: pycparser in /usr/local/lib/python3.7/dist-packages (from cffi>=1.0->soundfile>=0.10.2->librosa) (2.21)\n"
          ]
        }
      ]
    },
    {
      "cell_type": "code",
      "metadata": {
        "id": "HJjcbxwy46bG",
        "colab": {
          "base_uri": "https://localhost:8080/",
          "height": 17
        },
        "outputId": "c54747bc-b6f6-4d6c-d65f-b57673a3c79d"
      },
      "source": [
        "# Orignial Notebook: https://github.com/MITESHPUTHRANNEU/Speech-Emotion-Analyzer/blob/master/final_results_gender_test.ipynb\n",
        "# This notebook author: Reza Chu\n",
        "# Last Editing Date: 31st May 2019\n",
        "\n",
        "## Python\n",
        "import os\n",
        "import random\n",
        "import sys\n",
        "\n",
        "import IPython\n",
        "from IPython.display import Audio\n",
        "from IPython.display import Image\n",
        "import matplotlib.pyplot as plt\n",
        "\n",
        "## Package\n",
        "import glob \n",
        "import keras\n",
        "import IPython.display as ipd\n",
        "import librosa\n",
        "import librosa.display\n",
        "import matplotlib.pyplot as plt\n",
        "import numpy as np\n",
        "import pandas as pd\n",
        "import plotly.graph_objs as go\n",
        "import plotly.offline as py\n",
        "import plotly.tools as tls\n",
        "import seaborn as sns\n",
        "import scipy.io.wavfile\n",
        "import tensorflow as tf\n",
        "py.init_notebook_mode(connected=True)\n",
        "\n",
        "## Keras\n",
        "from keras import regularizers\n",
        "from keras.callbacks import ModelCheckpoint, LearningRateScheduler, EarlyStopping\n",
        "from keras.callbacks import  History, ReduceLROnPlateau, CSVLogger\n",
        "from keras.models import Model, Sequential\n",
        "from keras.layers import Dense, Embedding, LSTM\n",
        "from keras.layers import Input, Flatten, Dropout, Activation, BatchNormalization\n",
        "from keras.layers import Conv1D, MaxPooling1D, AveragePooling1D\n",
        "from keras.preprocessing import sequence\n",
        "from keras.preprocessing.sequence import pad_sequences\n",
        "from keras.preprocessing.text import Tokenizer\n",
        "from keras.utils import np_utils\n",
        "from tensorflow.keras.utils import to_categorical\n",
        "\n",
        "## Sklearn\n",
        "from sklearn.metrics import confusion_matrix\n",
        "from sklearn.preprocessing import LabelEncoder\n",
        "\n",
        "## Rest\n",
        "from scipy.fftpack import fft\n",
        "from scipy import signal\n",
        "from scipy.io import wavfile\n",
        "from tqdm import tqdm\n",
        "\n",
        "input_duration=3\n",
        "# % pylab inline"
      ],
      "execution_count": 3,
      "outputs": [
        {
          "output_type": "display_data",
          "data": {
            "text/html": [
              "        <script type=\"text/javascript\">\n",
              "        window.PlotlyConfig = {MathJaxConfig: 'local'};\n",
              "        if (window.MathJax) {MathJax.Hub.Config({SVG: {font: \"STIX-Web\"}});}\n",
              "        if (typeof require !== 'undefined') {\n",
              "        require.undef(\"plotly\");\n",
              "        requirejs.config({\n",
              "            paths: {\n",
              "                'plotly': ['https://cdn.plot.ly/plotly-2.8.3.min']\n",
              "            }\n",
              "        });\n",
              "        require(['plotly'], function(Plotly) {\n",
              "            window._Plotly = Plotly;\n",
              "        });\n",
              "        }\n",
              "        </script>\n",
              "        "
            ]
          },
          "metadata": {}
        }
      ]
    },
    {
      "cell_type": "code",
      "source": [
        "# # Saving joblib files to not load them again with the loop above\n",
        "\n",
        "# import joblib\n",
        "\n",
        "# X_name = 'x.joblib'\n",
        "# y_name = 'y.joblib'\n",
        "# save_dir = '/content/drive/My Drive/graduation project/audio/paper_code/features'\n",
        "\n",
        "# savedX = joblib.dump(X, os.path.join(save_dir, X_name))\n",
        "# savedy = joblib.dump(y, os.path.join(save_dir, y_name))"
      ],
      "metadata": {
        "id": "UCzic8rlDcuk"
      },
      "execution_count": 4,
      "outputs": []
    },
    {
      "cell_type": "code",
      "source": [
        "# # Loading saved models\n",
        "import joblib\n",
        "X = joblib.load('/content/drive/My Drive/graduation project/audio/paper_code/features/x.joblib')\n",
        "y = joblib.load('/content/drive/My Drive/graduation project/audio/paper_code/features/y.joblib')"
      ],
      "metadata": {
        "id": "Q35CN6zDrzg1"
      },
      "execution_count": 5,
      "outputs": []
    },
    {
      "cell_type": "code",
      "source": [
        "X.shape"
      ],
      "metadata": {
        "id": "7PSTurzjCo5K",
        "colab": {
          "base_uri": "https://localhost:8080/"
        },
        "outputId": "d1dc9668-18af-4098-b57d-d809c9900f61"
      },
      "execution_count": 6,
      "outputs": [
        {
          "output_type": "execute_result",
          "data": {
            "text/plain": [
              "(2068, 40)"
            ]
          },
          "metadata": {},
          "execution_count": 6
        }
      ]
    },
    {
      "cell_type": "code",
      "source": [
        "from sklearn.model_selection import train_test_split\n",
        "\n",
        "X_train, X_test, y_train, y_test = train_test_split(X,y, test_size=0.1 ,shuffle = True\n",
        "                                                    , random_state=42)\n",
        "X_train , X_valid, y_train, y_valid = train_test_split(X_train,y_train, test_size=0.1112305212 , shuffle = True \n",
        "                                                       , random_state=42)"
      ],
      "metadata": {
        "id": "Ai4Fy5cPCiq1"
      },
      "execution_count": 7,
      "outputs": []
    },
    {
      "cell_type": "code",
      "source": [
        "import numpy as np\n",
        "x_traincnn = np.expand_dims(X_train, axis=2)\n",
        "x_testcnn = np.expand_dims(X_test, axis=2)\n",
        "X_valid= np.expand_dims(X_valid, axis=2)"
      ],
      "metadata": {
        "id": "tp1Fm5K3CEXu"
      },
      "execution_count": 8,
      "outputs": []
    },
    {
      "cell_type": "code",
      "source": [
        "x_traincnn.shape, x_testcnn.shape , X_valid.shape\n",
        "#1861"
      ],
      "metadata": {
        "id": "RI0MxoIPBws5",
        "colab": {
          "base_uri": "https://localhost:8080/"
        },
        "outputId": "4ccdf8bd-5a88-4063-c058-d1d8958ebd27"
      },
      "execution_count": 9,
      "outputs": [
        {
          "output_type": "execute_result",
          "data": {
            "text/plain": [
              "((1654, 40, 1), (207, 40, 1), (207, 40, 1))"
            ]
          },
          "metadata": {},
          "execution_count": 9
        }
      ]
    },
    {
      "cell_type": "code",
      "source": [
        "!pip install tensorflow"
      ],
      "metadata": {
        "id": "oALhiMUd9G2Y",
        "colab": {
          "base_uri": "https://localhost:8080/"
        },
        "outputId": "aadafdc6-dc40-47be-cfba-43b126eac12c"
      },
      "execution_count": 10,
      "outputs": [
        {
          "output_type": "stream",
          "name": "stdout",
          "text": [
            "Looking in indexes: https://pypi.org/simple, https://us-python.pkg.dev/colab-wheels/public/simple/\n",
            "Requirement already satisfied: tensorflow in /usr/local/lib/python3.7/dist-packages (2.8.2+zzzcolab20220527125636)\n",
            "Requirement already satisfied: six>=1.12.0 in /usr/local/lib/python3.7/dist-packages (from tensorflow) (1.15.0)\n",
            "Requirement already satisfied: libclang>=9.0.1 in /usr/local/lib/python3.7/dist-packages (from tensorflow) (14.0.1)\n",
            "Requirement already satisfied: opt-einsum>=2.3.2 in /usr/local/lib/python3.7/dist-packages (from tensorflow) (3.3.0)\n",
            "Requirement already satisfied: setuptools in /usr/local/lib/python3.7/dist-packages (from tensorflow) (57.4.0)\n",
            "Requirement already satisfied: flatbuffers>=1.12 in /usr/local/lib/python3.7/dist-packages (from tensorflow) (2.0)\n",
            "Requirement already satisfied: protobuf<3.20,>=3.9.2 in /usr/local/lib/python3.7/dist-packages (from tensorflow) (3.17.3)\n",
            "Requirement already satisfied: tensorflow-io-gcs-filesystem>=0.23.1 in /usr/local/lib/python3.7/dist-packages (from tensorflow) (0.26.0)\n",
            "Requirement already satisfied: keras-preprocessing>=1.1.1 in /usr/local/lib/python3.7/dist-packages (from tensorflow) (1.1.2)\n",
            "Requirement already satisfied: tensorboard<2.9,>=2.8 in /usr/local/lib/python3.7/dist-packages (from tensorflow) (2.8.0)\n",
            "Requirement already satisfied: astunparse>=1.6.0 in /usr/local/lib/python3.7/dist-packages (from tensorflow) (1.6.3)\n",
            "Requirement already satisfied: grpcio<2.0,>=1.24.3 in /usr/local/lib/python3.7/dist-packages (from tensorflow) (1.46.3)\n",
            "Requirement already satisfied: tensorflow-estimator<2.9,>=2.8 in /usr/local/lib/python3.7/dist-packages (from tensorflow) (2.8.0)\n",
            "Requirement already satisfied: google-pasta>=0.1.1 in /usr/local/lib/python3.7/dist-packages (from tensorflow) (0.2.0)\n",
            "Requirement already satisfied: typing-extensions>=3.6.6 in /usr/local/lib/python3.7/dist-packages (from tensorflow) (4.2.0)\n",
            "Requirement already satisfied: h5py>=2.9.0 in /usr/local/lib/python3.7/dist-packages (from tensorflow) (3.1.0)\n",
            "Requirement already satisfied: absl-py>=0.4.0 in /usr/local/lib/python3.7/dist-packages (from tensorflow) (1.0.0)\n",
            "Requirement already satisfied: keras<2.9,>=2.8.0rc0 in /usr/local/lib/python3.7/dist-packages (from tensorflow) (2.8.0)\n",
            "Requirement already satisfied: termcolor>=1.1.0 in /usr/local/lib/python3.7/dist-packages (from tensorflow) (1.1.0)\n",
            "Requirement already satisfied: wrapt>=1.11.0 in /usr/local/lib/python3.7/dist-packages (from tensorflow) (1.14.1)\n",
            "Requirement already satisfied: gast>=0.2.1 in /usr/local/lib/python3.7/dist-packages (from tensorflow) (0.5.3)\n",
            "Requirement already satisfied: numpy>=1.20 in /usr/local/lib/python3.7/dist-packages (from tensorflow) (1.21.6)\n",
            "Requirement already satisfied: wheel<1.0,>=0.23.0 in /usr/local/lib/python3.7/dist-packages (from astunparse>=1.6.0->tensorflow) (0.37.1)\n",
            "Requirement already satisfied: cached-property in /usr/local/lib/python3.7/dist-packages (from h5py>=2.9.0->tensorflow) (1.5.2)\n",
            "Requirement already satisfied: werkzeug>=0.11.15 in /usr/local/lib/python3.7/dist-packages (from tensorboard<2.9,>=2.8->tensorflow) (1.0.1)\n",
            "Requirement already satisfied: tensorboard-plugin-wit>=1.6.0 in /usr/local/lib/python3.7/dist-packages (from tensorboard<2.9,>=2.8->tensorflow) (1.8.1)\n",
            "Requirement already satisfied: google-auth<3,>=1.6.3 in /usr/local/lib/python3.7/dist-packages (from tensorboard<2.9,>=2.8->tensorflow) (1.35.0)\n",
            "Requirement already satisfied: google-auth-oauthlib<0.5,>=0.4.1 in /usr/local/lib/python3.7/dist-packages (from tensorboard<2.9,>=2.8->tensorflow) (0.4.6)\n",
            "Requirement already satisfied: tensorboard-data-server<0.7.0,>=0.6.0 in /usr/local/lib/python3.7/dist-packages (from tensorboard<2.9,>=2.8->tensorflow) (0.6.1)\n",
            "Requirement already satisfied: requests<3,>=2.21.0 in /usr/local/lib/python3.7/dist-packages (from tensorboard<2.9,>=2.8->tensorflow) (2.23.0)\n",
            "Requirement already satisfied: markdown>=2.6.8 in /usr/local/lib/python3.7/dist-packages (from tensorboard<2.9,>=2.8->tensorflow) (3.3.7)\n",
            "Requirement already satisfied: cachetools<5.0,>=2.0.0 in /usr/local/lib/python3.7/dist-packages (from google-auth<3,>=1.6.3->tensorboard<2.9,>=2.8->tensorflow) (4.2.4)\n",
            "Requirement already satisfied: rsa<5,>=3.1.4 in /usr/local/lib/python3.7/dist-packages (from google-auth<3,>=1.6.3->tensorboard<2.9,>=2.8->tensorflow) (4.8)\n",
            "Requirement already satisfied: pyasn1-modules>=0.2.1 in /usr/local/lib/python3.7/dist-packages (from google-auth<3,>=1.6.3->tensorboard<2.9,>=2.8->tensorflow) (0.2.8)\n",
            "Requirement already satisfied: requests-oauthlib>=0.7.0 in /usr/local/lib/python3.7/dist-packages (from google-auth-oauthlib<0.5,>=0.4.1->tensorboard<2.9,>=2.8->tensorflow) (1.3.1)\n",
            "Requirement already satisfied: importlib-metadata>=4.4 in /usr/local/lib/python3.7/dist-packages (from markdown>=2.6.8->tensorboard<2.9,>=2.8->tensorflow) (4.11.4)\n",
            "Requirement already satisfied: zipp>=0.5 in /usr/local/lib/python3.7/dist-packages (from importlib-metadata>=4.4->markdown>=2.6.8->tensorboard<2.9,>=2.8->tensorflow) (3.8.0)\n",
            "Requirement already satisfied: pyasn1<0.5.0,>=0.4.6 in /usr/local/lib/python3.7/dist-packages (from pyasn1-modules>=0.2.1->google-auth<3,>=1.6.3->tensorboard<2.9,>=2.8->tensorflow) (0.4.8)\n",
            "Requirement already satisfied: certifi>=2017.4.17 in /usr/local/lib/python3.7/dist-packages (from requests<3,>=2.21.0->tensorboard<2.9,>=2.8->tensorflow) (2022.5.18.1)\n",
            "Requirement already satisfied: urllib3!=1.25.0,!=1.25.1,<1.26,>=1.21.1 in /usr/local/lib/python3.7/dist-packages (from requests<3,>=2.21.0->tensorboard<2.9,>=2.8->tensorflow) (1.24.3)\n",
            "Requirement already satisfied: idna<3,>=2.5 in /usr/local/lib/python3.7/dist-packages (from requests<3,>=2.21.0->tensorboard<2.9,>=2.8->tensorflow) (2.10)\n",
            "Requirement already satisfied: chardet<4,>=3.0.2 in /usr/local/lib/python3.7/dist-packages (from requests<3,>=2.21.0->tensorboard<2.9,>=2.8->tensorflow) (3.0.4)\n",
            "Requirement already satisfied: oauthlib>=3.0.0 in /usr/local/lib/python3.7/dist-packages (from requests-oauthlib>=0.7.0->google-auth-oauthlib<0.5,>=0.4.1->tensorboard<2.9,>=2.8->tensorflow) (3.2.0)\n"
          ]
        }
      ]
    },
    {
      "cell_type": "code",
      "source": [
        "import keras\n",
        "import numpy as np\n",
        "import matplotlib.pyplot as plt\n",
        "import tensorflow as tf\n",
        "from keras.preprocessing import sequence\n",
        "from keras.models import Sequential\n",
        "from keras.layers import Dense, Embedding\n",
        "from tensorflow.keras.utils import to_categorical\n",
        "from keras.layers import Input, Flatten, Dropout, Activation\n",
        "from keras.layers import Conv1D, MaxPooling1D\n",
        "from keras.models import Model\n",
        "from keras.callbacks import ModelCheckpoint\n",
        "from tensorflow.keras import optimizers\n",
        "\n",
        "model = Sequential()\n",
        "\n",
        "model.add(Conv1D(128, 12,padding='same', #classifier.add(Convolution2D(64, (3, 3), padding = 'same', input_shape = (128, 128, 3), activation = 'relu'))\n",
        "                 input_shape=(40,1)))\n",
        "model.add(Activation('relu'))\n",
        "model.add(Dropout(0.3))\n",
        "model.add(MaxPooling1D(pool_size=(5)))\n",
        "\n",
        "\n",
        "model.add(Conv1D(256,12,padding='same',))\n",
        "model.add(Activation('relu'))\n",
        "model.add(Dropout(0.3))\n",
        "model.add(MaxPooling1D(pool_size=(5)))\n",
        "\n",
        "#model.add(MaxPooling1D(pool_size=(5)))\n",
        "\n",
        "model.add(Flatten())\n",
        "\n",
        "\n",
        "\n",
        "model.add(Dense(6))\n",
        "model.add(Activation('softmax'))\n",
        "\n",
        "\n",
        "opt = tf.keras.optimizers.RMSprop(lr=0.0002 , decay=0.0)\n",
        "#opt = tf.keras.optimizers.Adam(lr=0.0002 , decay=0.0)\n",
        "#opt = tf.keras.optimizers.RMSprop(lr=0.0001, rho=0.9, epsilon=1e-07, decay=0.0)\n",
        "#opt = tf.keras.optimizers.SGD(lr=0.001, momentum=0.0, decay=0.0, nesterov=False)"
      ],
      "metadata": {
        "id": "g74fXWVAC4Cr",
        "colab": {
          "base_uri": "https://localhost:8080/"
        },
        "outputId": "5745e4ee-b218-4cd4-cf2c-eb9aabe411b3"
      },
      "execution_count": 11,
      "outputs": [
        {
          "output_type": "stream",
          "name": "stderr",
          "text": [
            "/usr/local/lib/python3.7/dist-packages/keras/optimizer_v2/rmsprop.py:130: UserWarning:\n",
            "\n",
            "The `lr` argument is deprecated, use `learning_rate` instead.\n",
            "\n"
          ]
        }
      ]
    },
    {
      "cell_type": "code",
      "source": [
        "model.summary()"
      ],
      "metadata": {
        "id": "H6ukOxAGC_I4",
        "colab": {
          "base_uri": "https://localhost:8080/"
        },
        "outputId": "3438d125-d164-44f3-a2ff-faefc6cc5e70"
      },
      "execution_count": 12,
      "outputs": [
        {
          "output_type": "stream",
          "name": "stdout",
          "text": [
            "Model: \"sequential\"\n",
            "_________________________________________________________________\n",
            " Layer (type)                Output Shape              Param #   \n",
            "=================================================================\n",
            " conv1d (Conv1D)             (None, 40, 128)           1664      \n",
            "                                                                 \n",
            " activation (Activation)     (None, 40, 128)           0         \n",
            "                                                                 \n",
            " dropout (Dropout)           (None, 40, 128)           0         \n",
            "                                                                 \n",
            " max_pooling1d (MaxPooling1D  (None, 8, 128)           0         \n",
            " )                                                               \n",
            "                                                                 \n",
            " conv1d_1 (Conv1D)           (None, 8, 256)            393472    \n",
            "                                                                 \n",
            " activation_1 (Activation)   (None, 8, 256)            0         \n",
            "                                                                 \n",
            " dropout_1 (Dropout)         (None, 8, 256)            0         \n",
            "                                                                 \n",
            " max_pooling1d_1 (MaxPooling  (None, 1, 256)           0         \n",
            " 1D)                                                             \n",
            "                                                                 \n",
            " flatten (Flatten)           (None, 256)               0         \n",
            "                                                                 \n",
            " dense (Dense)               (None, 6)                 1542      \n",
            "                                                                 \n",
            " activation_2 (Activation)   (None, 6)                 0         \n",
            "                                                                 \n",
            "=================================================================\n",
            "Total params: 396,678\n",
            "Trainable params: 396,678\n",
            "Non-trainable params: 0\n",
            "_________________________________________________________________\n"
          ]
        }
      ]
    },
    {
      "cell_type": "code",
      "source": [
        "model.compile(loss='sparse_categorical_crossentropy',\n",
        "              optimizer=opt,\n",
        "              metrics=['accuracy'])"
      ],
      "metadata": {
        "id": "AbMlLNk4DCBM"
      },
      "execution_count": 13,
      "outputs": []
    },
    {
      "cell_type": "code",
      "source": [
        "# Create an Instance of Early Stopping Callback.\n",
        "early_stopping_callback = EarlyStopping(monitor = 'val_loss', patience = 25, mode = 'min', restore_best_weights = True)\n",
        "\n",
        "cnnhistory=model.fit(x_traincnn, y_train, batch_size=16, epochs=500 , shuffle = True, \n",
        "                     validation_data=(X_valid, y_valid) , callbacks = [early_stopping_callback])"
      ],
      "metadata": {
        "id": "RI1v2AuADFhy",
        "colab": {
          "base_uri": "https://localhost:8080/"
        },
        "outputId": "36a5356b-1676-47db-f917-5e1ab952e9de"
      },
      "execution_count": 14,
      "outputs": [
        {
          "output_type": "stream",
          "name": "stdout",
          "text": [
            "Epoch 1/500\n",
            "104/104 [==============================] - 5s 37ms/step - loss: 12.8531 - accuracy: 0.1771 - val_loss: 8.1173 - val_accuracy: 0.1884\n",
            "Epoch 2/500\n",
            "104/104 [==============================] - 5s 48ms/step - loss: 9.7000 - accuracy: 0.1814 - val_loss: 4.3769 - val_accuracy: 0.1884\n",
            "Epoch 3/500\n",
            "104/104 [==============================] - 5s 50ms/step - loss: 7.3098 - accuracy: 0.2116 - val_loss: 3.6768 - val_accuracy: 0.2560\n",
            "Epoch 4/500\n",
            "104/104 [==============================] - 6s 55ms/step - loss: 6.5613 - accuracy: 0.2279 - val_loss: 5.3721 - val_accuracy: 0.1594\n",
            "Epoch 5/500\n",
            "104/104 [==============================] - 6s 59ms/step - loss: 5.4058 - accuracy: 0.2606 - val_loss: 1.8493 - val_accuracy: 0.2754\n",
            "Epoch 6/500\n",
            "104/104 [==============================] - 6s 58ms/step - loss: 4.8952 - accuracy: 0.2340 - val_loss: 5.8400 - val_accuracy: 0.1739\n",
            "Epoch 7/500\n",
            "104/104 [==============================] - 6s 59ms/step - loss: 4.1374 - accuracy: 0.2709 - val_loss: 2.6741 - val_accuracy: 0.2367\n",
            "Epoch 8/500\n",
            "104/104 [==============================] - 5s 46ms/step - loss: 3.9385 - accuracy: 0.2618 - val_loss: 2.2325 - val_accuracy: 0.2512\n",
            "Epoch 9/500\n",
            "104/104 [==============================] - 3s 30ms/step - loss: 3.4222 - accuracy: 0.3011 - val_loss: 3.5505 - val_accuracy: 0.1787\n",
            "Epoch 10/500\n",
            "104/104 [==============================] - 3s 31ms/step - loss: 3.1003 - accuracy: 0.2805 - val_loss: 1.6449 - val_accuracy: 0.3720\n",
            "Epoch 11/500\n",
            "104/104 [==============================] - 3s 30ms/step - loss: 2.7725 - accuracy: 0.3138 - val_loss: 1.8197 - val_accuracy: 0.3188\n",
            "Epoch 12/500\n",
            "104/104 [==============================] - 3s 30ms/step - loss: 2.4731 - accuracy: 0.3343 - val_loss: 1.9018 - val_accuracy: 0.2319\n",
            "Epoch 13/500\n",
            "104/104 [==============================] - 3s 31ms/step - loss: 2.3014 - accuracy: 0.3658 - val_loss: 1.7596 - val_accuracy: 0.2705\n",
            "Epoch 14/500\n",
            "104/104 [==============================] - 3s 32ms/step - loss: 2.1572 - accuracy: 0.3615 - val_loss: 1.5832 - val_accuracy: 0.3816\n",
            "Epoch 15/500\n",
            "104/104 [==============================] - 3s 31ms/step - loss: 2.0659 - accuracy: 0.3561 - val_loss: 1.4122 - val_accuracy: 0.4010\n",
            "Epoch 16/500\n",
            "104/104 [==============================] - 3s 32ms/step - loss: 1.7876 - accuracy: 0.4135 - val_loss: 1.7769 - val_accuracy: 0.3527\n",
            "Epoch 17/500\n",
            "104/104 [==============================] - 3s 30ms/step - loss: 1.7946 - accuracy: 0.4172 - val_loss: 1.5321 - val_accuracy: 0.4348\n",
            "Epoch 18/500\n",
            "104/104 [==============================] - 3s 30ms/step - loss: 1.6687 - accuracy: 0.4450 - val_loss: 1.3561 - val_accuracy: 0.3768\n",
            "Epoch 19/500\n",
            "104/104 [==============================] - 3s 30ms/step - loss: 1.5593 - accuracy: 0.4498 - val_loss: 1.3316 - val_accuracy: 0.4300\n",
            "Epoch 20/500\n",
            "104/104 [==============================] - 3s 31ms/step - loss: 1.5360 - accuracy: 0.4607 - val_loss: 1.2290 - val_accuracy: 0.5604\n",
            "Epoch 21/500\n",
            "104/104 [==============================] - 3s 30ms/step - loss: 1.4772 - accuracy: 0.4595 - val_loss: 1.3320 - val_accuracy: 0.4638\n",
            "Epoch 22/500\n",
            "104/104 [==============================] - 3s 30ms/step - loss: 1.4262 - accuracy: 0.4637 - val_loss: 1.1245 - val_accuracy: 0.5749\n",
            "Epoch 23/500\n",
            "104/104 [==============================] - 3s 31ms/step - loss: 1.3498 - accuracy: 0.5060 - val_loss: 1.1754 - val_accuracy: 0.5797\n",
            "Epoch 24/500\n",
            "104/104 [==============================] - 3s 30ms/step - loss: 1.3056 - accuracy: 0.5079 - val_loss: 1.2311 - val_accuracy: 0.4734\n",
            "Epoch 25/500\n",
            "104/104 [==============================] - 3s 31ms/step - loss: 1.2837 - accuracy: 0.5381 - val_loss: 1.1131 - val_accuracy: 0.5990\n",
            "Epoch 26/500\n",
            "104/104 [==============================] - 3s 31ms/step - loss: 1.2264 - accuracy: 0.5496 - val_loss: 1.0669 - val_accuracy: 0.6184\n",
            "Epoch 27/500\n",
            "104/104 [==============================] - 3s 31ms/step - loss: 1.2133 - accuracy: 0.5381 - val_loss: 1.0428 - val_accuracy: 0.6280\n",
            "Epoch 28/500\n",
            "104/104 [==============================] - 3s 30ms/step - loss: 1.1740 - accuracy: 0.5520 - val_loss: 1.0623 - val_accuracy: 0.6425\n",
            "Epoch 29/500\n",
            "104/104 [==============================] - 3s 30ms/step - loss: 1.1233 - accuracy: 0.5689 - val_loss: 1.0095 - val_accuracy: 0.6039\n",
            "Epoch 30/500\n",
            "104/104 [==============================] - 3s 31ms/step - loss: 1.1176 - accuracy: 0.5683 - val_loss: 1.0938 - val_accuracy: 0.5700\n",
            "Epoch 31/500\n",
            "104/104 [==============================] - 3s 30ms/step - loss: 1.0819 - accuracy: 0.5756 - val_loss: 1.1152 - val_accuracy: 0.5266\n",
            "Epoch 32/500\n",
            "104/104 [==============================] - 3s 29ms/step - loss: 1.0550 - accuracy: 0.5992 - val_loss: 1.0363 - val_accuracy: 0.5942\n",
            "Epoch 33/500\n",
            "104/104 [==============================] - 3s 30ms/step - loss: 1.0243 - accuracy: 0.6028 - val_loss: 0.9699 - val_accuracy: 0.6329\n",
            "Epoch 34/500\n",
            "104/104 [==============================] - 3s 30ms/step - loss: 1.0292 - accuracy: 0.6022 - val_loss: 0.9094 - val_accuracy: 0.6715\n",
            "Epoch 35/500\n",
            "104/104 [==============================] - 3s 30ms/step - loss: 0.9672 - accuracy: 0.6215 - val_loss: 1.0317 - val_accuracy: 0.5604\n",
            "Epoch 36/500\n",
            "104/104 [==============================] - 4s 38ms/step - loss: 0.9603 - accuracy: 0.6264 - val_loss: 0.9903 - val_accuracy: 0.6473\n",
            "Epoch 37/500\n",
            "104/104 [==============================] - 4s 43ms/step - loss: 0.9567 - accuracy: 0.6342 - val_loss: 0.9991 - val_accuracy: 0.6087\n",
            "Epoch 38/500\n",
            "104/104 [==============================] - 3s 29ms/step - loss: 0.9292 - accuracy: 0.6433 - val_loss: 0.9407 - val_accuracy: 0.6280\n",
            "Epoch 39/500\n",
            "104/104 [==============================] - 3s 30ms/step - loss: 0.9306 - accuracy: 0.6421 - val_loss: 0.9275 - val_accuracy: 0.6812\n",
            "Epoch 40/500\n",
            "104/104 [==============================] - 3s 30ms/step - loss: 0.9272 - accuracy: 0.6354 - val_loss: 0.8665 - val_accuracy: 0.6957\n",
            "Epoch 41/500\n",
            "104/104 [==============================] - 3s 29ms/step - loss: 0.9037 - accuracy: 0.6572 - val_loss: 1.0064 - val_accuracy: 0.5749\n",
            "Epoch 42/500\n",
            "104/104 [==============================] - 3s 30ms/step - loss: 0.9074 - accuracy: 0.6548 - val_loss: 0.9766 - val_accuracy: 0.6184\n",
            "Epoch 43/500\n",
            "104/104 [==============================] - 3s 30ms/step - loss: 0.8666 - accuracy: 0.6675 - val_loss: 0.8790 - val_accuracy: 0.6860\n",
            "Epoch 44/500\n",
            "104/104 [==============================] - 3s 30ms/step - loss: 0.8623 - accuracy: 0.6584 - val_loss: 0.9578 - val_accuracy: 0.5942\n",
            "Epoch 45/500\n",
            "104/104 [==============================] - 3s 29ms/step - loss: 0.8423 - accuracy: 0.6850 - val_loss: 0.8442 - val_accuracy: 0.6957\n",
            "Epoch 46/500\n",
            "104/104 [==============================] - 3s 30ms/step - loss: 0.8134 - accuracy: 0.6917 - val_loss: 1.0023 - val_accuracy: 0.6039\n",
            "Epoch 47/500\n",
            "104/104 [==============================] - 3s 29ms/step - loss: 0.8275 - accuracy: 0.6669 - val_loss: 1.0515 - val_accuracy: 0.5797\n",
            "Epoch 48/500\n",
            "104/104 [==============================] - 3s 29ms/step - loss: 0.8027 - accuracy: 0.6778 - val_loss: 0.8870 - val_accuracy: 0.6280\n",
            "Epoch 49/500\n",
            "104/104 [==============================] - 3s 30ms/step - loss: 0.7951 - accuracy: 0.6947 - val_loss: 0.8833 - val_accuracy: 0.6377\n",
            "Epoch 50/500\n",
            "104/104 [==============================] - 3s 29ms/step - loss: 0.7829 - accuracy: 0.6971 - val_loss: 0.7954 - val_accuracy: 0.7005\n",
            "Epoch 51/500\n",
            "104/104 [==============================] - 3s 30ms/step - loss: 0.7929 - accuracy: 0.6892 - val_loss: 0.7883 - val_accuracy: 0.7295\n",
            "Epoch 52/500\n",
            "104/104 [==============================] - 3s 30ms/step - loss: 0.7692 - accuracy: 0.6995 - val_loss: 0.7859 - val_accuracy: 0.7295\n",
            "Epoch 53/500\n",
            "104/104 [==============================] - 3s 30ms/step - loss: 0.7518 - accuracy: 0.7104 - val_loss: 0.7926 - val_accuracy: 0.6908\n",
            "Epoch 54/500\n",
            "104/104 [==============================] - 3s 30ms/step - loss: 0.7518 - accuracy: 0.7086 - val_loss: 0.7862 - val_accuracy: 0.7150\n",
            "Epoch 55/500\n",
            "104/104 [==============================] - 3s 30ms/step - loss: 0.7317 - accuracy: 0.7237 - val_loss: 0.9595 - val_accuracy: 0.5845\n",
            "Epoch 56/500\n",
            "104/104 [==============================] - 3s 30ms/step - loss: 0.7183 - accuracy: 0.7304 - val_loss: 0.7988 - val_accuracy: 0.6763\n",
            "Epoch 57/500\n",
            "104/104 [==============================] - 3s 30ms/step - loss: 0.7098 - accuracy: 0.7243 - val_loss: 0.7738 - val_accuracy: 0.7150\n",
            "Epoch 58/500\n",
            "104/104 [==============================] - 3s 31ms/step - loss: 0.7082 - accuracy: 0.7358 - val_loss: 0.7501 - val_accuracy: 0.7440\n",
            "Epoch 59/500\n",
            "104/104 [==============================] - 3s 30ms/step - loss: 0.6999 - accuracy: 0.7437 - val_loss: 0.7506 - val_accuracy: 0.7005\n",
            "Epoch 60/500\n",
            "104/104 [==============================] - 3s 29ms/step - loss: 0.6983 - accuracy: 0.7412 - val_loss: 0.8261 - val_accuracy: 0.6329\n",
            "Epoch 61/500\n",
            "104/104 [==============================] - 3s 29ms/step - loss: 0.6860 - accuracy: 0.7273 - val_loss: 0.7846 - val_accuracy: 0.6908\n",
            "Epoch 62/500\n",
            "104/104 [==============================] - 3s 29ms/step - loss: 0.6652 - accuracy: 0.7467 - val_loss: 0.7266 - val_accuracy: 0.7101\n",
            "Epoch 63/500\n",
            "104/104 [==============================] - 3s 30ms/step - loss: 0.6446 - accuracy: 0.7588 - val_loss: 0.7718 - val_accuracy: 0.6812\n",
            "Epoch 64/500\n",
            "104/104 [==============================] - 3s 30ms/step - loss: 0.6592 - accuracy: 0.7334 - val_loss: 0.7653 - val_accuracy: 0.6957\n",
            "Epoch 65/500\n",
            "104/104 [==============================] - 3s 30ms/step - loss: 0.6648 - accuracy: 0.7443 - val_loss: 0.6699 - val_accuracy: 0.7488\n",
            "Epoch 66/500\n",
            "104/104 [==============================] - 3s 31ms/step - loss: 0.6379 - accuracy: 0.7533 - val_loss: 0.6794 - val_accuracy: 0.7198\n",
            "Epoch 67/500\n",
            "104/104 [==============================] - 3s 30ms/step - loss: 0.6252 - accuracy: 0.7606 - val_loss: 0.7277 - val_accuracy: 0.7101\n",
            "Epoch 68/500\n",
            "104/104 [==============================] - 3s 30ms/step - loss: 0.6199 - accuracy: 0.7600 - val_loss: 0.7748 - val_accuracy: 0.6860\n",
            "Epoch 69/500\n",
            "104/104 [==============================] - 3s 30ms/step - loss: 0.6111 - accuracy: 0.7678 - val_loss: 0.7133 - val_accuracy: 0.7440\n",
            "Epoch 70/500\n",
            "104/104 [==============================] - 3s 30ms/step - loss: 0.5949 - accuracy: 0.7684 - val_loss: 0.7406 - val_accuracy: 0.6957\n",
            "Epoch 71/500\n",
            "104/104 [==============================] - 3s 30ms/step - loss: 0.5987 - accuracy: 0.7703 - val_loss: 0.8314 - val_accuracy: 0.6522\n",
            "Epoch 72/500\n",
            "104/104 [==============================] - 3s 30ms/step - loss: 0.5901 - accuracy: 0.7830 - val_loss: 0.6996 - val_accuracy: 0.7343\n",
            "Epoch 73/500\n",
            "104/104 [==============================] - 3s 30ms/step - loss: 0.5826 - accuracy: 0.7757 - val_loss: 0.6955 - val_accuracy: 0.7343\n",
            "Epoch 74/500\n",
            "104/104 [==============================] - 3s 30ms/step - loss: 0.5607 - accuracy: 0.7902 - val_loss: 0.7898 - val_accuracy: 0.6957\n",
            "Epoch 75/500\n",
            "104/104 [==============================] - 3s 30ms/step - loss: 0.5914 - accuracy: 0.7648 - val_loss: 0.8056 - val_accuracy: 0.6715\n",
            "Epoch 76/500\n",
            "104/104 [==============================] - 3s 31ms/step - loss: 0.5589 - accuracy: 0.7817 - val_loss: 0.7281 - val_accuracy: 0.7053\n",
            "Epoch 77/500\n",
            "104/104 [==============================] - 3s 31ms/step - loss: 0.5591 - accuracy: 0.7805 - val_loss: 0.8943 - val_accuracy: 0.6329\n",
            "Epoch 78/500\n",
            "104/104 [==============================] - 3s 30ms/step - loss: 0.5466 - accuracy: 0.7908 - val_loss: 0.7164 - val_accuracy: 0.7440\n",
            "Epoch 79/500\n",
            "104/104 [==============================] - 3s 31ms/step - loss: 0.5457 - accuracy: 0.7884 - val_loss: 0.6516 - val_accuracy: 0.7633\n",
            "Epoch 80/500\n",
            "104/104 [==============================] - 3s 30ms/step - loss: 0.5424 - accuracy: 0.7884 - val_loss: 0.6349 - val_accuracy: 0.7440\n",
            "Epoch 81/500\n",
            "104/104 [==============================] - 3s 30ms/step - loss: 0.5467 - accuracy: 0.8011 - val_loss: 0.7157 - val_accuracy: 0.7246\n",
            "Epoch 82/500\n",
            "104/104 [==============================] - 3s 31ms/step - loss: 0.5237 - accuracy: 0.8065 - val_loss: 0.6380 - val_accuracy: 0.7923\n",
            "Epoch 83/500\n",
            "104/104 [==============================] - 3s 30ms/step - loss: 0.5306 - accuracy: 0.7950 - val_loss: 0.6542 - val_accuracy: 0.7536\n",
            "Epoch 84/500\n",
            "104/104 [==============================] - 3s 31ms/step - loss: 0.5196 - accuracy: 0.7987 - val_loss: 0.5816 - val_accuracy: 0.7923\n",
            "Epoch 85/500\n",
            "104/104 [==============================] - 3s 31ms/step - loss: 0.4878 - accuracy: 0.8138 - val_loss: 0.6463 - val_accuracy: 0.7633\n",
            "Epoch 86/500\n",
            "104/104 [==============================] - 3s 31ms/step - loss: 0.4912 - accuracy: 0.8126 - val_loss: 0.7159 - val_accuracy: 0.7440\n",
            "Epoch 87/500\n",
            "104/104 [==============================] - 3s 30ms/step - loss: 0.5054 - accuracy: 0.8138 - val_loss: 0.6240 - val_accuracy: 0.7633\n",
            "Epoch 88/500\n",
            "104/104 [==============================] - 3s 31ms/step - loss: 0.4937 - accuracy: 0.8144 - val_loss: 0.6659 - val_accuracy: 0.7150\n",
            "Epoch 89/500\n",
            "104/104 [==============================] - 3s 31ms/step - loss: 0.4922 - accuracy: 0.8138 - val_loss: 0.6347 - val_accuracy: 0.7633\n",
            "Epoch 90/500\n",
            "104/104 [==============================] - 3s 30ms/step - loss: 0.4796 - accuracy: 0.8229 - val_loss: 0.6177 - val_accuracy: 0.7536\n",
            "Epoch 91/500\n",
            "104/104 [==============================] - 3s 30ms/step - loss: 0.5079 - accuracy: 0.8083 - val_loss: 0.7024 - val_accuracy: 0.7198\n",
            "Epoch 92/500\n",
            "104/104 [==============================] - 3s 31ms/step - loss: 0.4798 - accuracy: 0.8216 - val_loss: 0.6995 - val_accuracy: 0.7391\n",
            "Epoch 93/500\n",
            "104/104 [==============================] - 3s 31ms/step - loss: 0.4602 - accuracy: 0.8247 - val_loss: 0.6106 - val_accuracy: 0.7826\n",
            "Epoch 94/500\n",
            "104/104 [==============================] - 3s 30ms/step - loss: 0.4801 - accuracy: 0.8132 - val_loss: 0.6426 - val_accuracy: 0.7633\n",
            "Epoch 95/500\n",
            "104/104 [==============================] - 3s 31ms/step - loss: 0.4776 - accuracy: 0.8271 - val_loss: 0.6204 - val_accuracy: 0.7633\n",
            "Epoch 96/500\n",
            "104/104 [==============================] - 3s 30ms/step - loss: 0.4519 - accuracy: 0.8216 - val_loss: 0.6475 - val_accuracy: 0.7536\n",
            "Epoch 97/500\n",
            "104/104 [==============================] - 3s 31ms/step - loss: 0.4593 - accuracy: 0.8162 - val_loss: 0.6987 - val_accuracy: 0.7488\n",
            "Epoch 98/500\n",
            "104/104 [==============================] - 3s 31ms/step - loss: 0.4239 - accuracy: 0.8428 - val_loss: 0.6138 - val_accuracy: 0.7729\n",
            "Epoch 99/500\n",
            "104/104 [==============================] - 3s 31ms/step - loss: 0.4452 - accuracy: 0.8343 - val_loss: 0.7450 - val_accuracy: 0.6908\n",
            "Epoch 100/500\n",
            "104/104 [==============================] - 3s 30ms/step - loss: 0.4489 - accuracy: 0.8307 - val_loss: 0.6730 - val_accuracy: 0.7391\n",
            "Epoch 101/500\n",
            "104/104 [==============================] - 3s 31ms/step - loss: 0.4182 - accuracy: 0.8428 - val_loss: 0.6430 - val_accuracy: 0.7633\n",
            "Epoch 102/500\n",
            "104/104 [==============================] - 3s 31ms/step - loss: 0.4248 - accuracy: 0.8331 - val_loss: 0.5803 - val_accuracy: 0.7923\n",
            "Epoch 103/500\n",
            "104/104 [==============================] - 3s 32ms/step - loss: 0.4416 - accuracy: 0.8301 - val_loss: 0.6365 - val_accuracy: 0.7440\n",
            "Epoch 104/500\n",
            "104/104 [==============================] - 3s 32ms/step - loss: 0.4099 - accuracy: 0.8525 - val_loss: 0.5750 - val_accuracy: 0.7681\n",
            "Epoch 105/500\n",
            "104/104 [==============================] - 3s 31ms/step - loss: 0.4001 - accuracy: 0.8561 - val_loss: 0.6144 - val_accuracy: 0.7729\n",
            "Epoch 106/500\n",
            "104/104 [==============================] - 3s 31ms/step - loss: 0.4012 - accuracy: 0.8392 - val_loss: 0.6021 - val_accuracy: 0.7778\n",
            "Epoch 107/500\n",
            "104/104 [==============================] - 3s 31ms/step - loss: 0.3951 - accuracy: 0.8525 - val_loss: 0.8256 - val_accuracy: 0.6812\n",
            "Epoch 108/500\n",
            "104/104 [==============================] - 3s 32ms/step - loss: 0.4087 - accuracy: 0.8495 - val_loss: 0.5922 - val_accuracy: 0.7633\n",
            "Epoch 109/500\n",
            "104/104 [==============================] - 3s 32ms/step - loss: 0.3941 - accuracy: 0.8525 - val_loss: 0.6244 - val_accuracy: 0.7633\n",
            "Epoch 110/500\n",
            "104/104 [==============================] - 3s 30ms/step - loss: 0.3763 - accuracy: 0.8573 - val_loss: 0.7228 - val_accuracy: 0.6908\n",
            "Epoch 111/500\n",
            "104/104 [==============================] - 3s 31ms/step - loss: 0.3913 - accuracy: 0.8585 - val_loss: 0.6394 - val_accuracy: 0.7295\n",
            "Epoch 112/500\n",
            "104/104 [==============================] - 3s 31ms/step - loss: 0.3882 - accuracy: 0.8531 - val_loss: 0.5847 - val_accuracy: 0.7874\n",
            "Epoch 113/500\n",
            "104/104 [==============================] - 3s 30ms/step - loss: 0.3981 - accuracy: 0.8561 - val_loss: 0.5600 - val_accuracy: 0.7778\n",
            "Epoch 114/500\n",
            "104/104 [==============================] - 3s 32ms/step - loss: 0.4009 - accuracy: 0.8470 - val_loss: 0.5824 - val_accuracy: 0.7585\n",
            "Epoch 115/500\n",
            "104/104 [==============================] - 3s 32ms/step - loss: 0.3538 - accuracy: 0.8628 - val_loss: 0.6534 - val_accuracy: 0.7536\n",
            "Epoch 116/500\n",
            "104/104 [==============================] - 3s 31ms/step - loss: 0.3840 - accuracy: 0.8543 - val_loss: 0.6257 - val_accuracy: 0.7488\n",
            "Epoch 117/500\n",
            "104/104 [==============================] - 3s 31ms/step - loss: 0.3881 - accuracy: 0.8555 - val_loss: 0.6061 - val_accuracy: 0.7681\n",
            "Epoch 118/500\n",
            "104/104 [==============================] - 3s 32ms/step - loss: 0.3862 - accuracy: 0.8622 - val_loss: 0.5558 - val_accuracy: 0.8213\n",
            "Epoch 119/500\n",
            "104/104 [==============================] - 3s 31ms/step - loss: 0.3646 - accuracy: 0.8555 - val_loss: 0.5967 - val_accuracy: 0.8019\n",
            "Epoch 120/500\n",
            "104/104 [==============================] - 3s 31ms/step - loss: 0.3813 - accuracy: 0.8591 - val_loss: 0.6215 - val_accuracy: 0.7729\n",
            "Epoch 121/500\n",
            "104/104 [==============================] - 3s 31ms/step - loss: 0.3707 - accuracy: 0.8531 - val_loss: 0.6441 - val_accuracy: 0.7585\n",
            "Epoch 122/500\n",
            "104/104 [==============================] - 3s 31ms/step - loss: 0.3579 - accuracy: 0.8827 - val_loss: 0.5883 - val_accuracy: 0.7826\n",
            "Epoch 123/500\n",
            "104/104 [==============================] - 3s 30ms/step - loss: 0.3683 - accuracy: 0.8676 - val_loss: 0.5217 - val_accuracy: 0.8116\n",
            "Epoch 124/500\n",
            "104/104 [==============================] - 3s 31ms/step - loss: 0.3397 - accuracy: 0.8755 - val_loss: 0.5652 - val_accuracy: 0.7826\n",
            "Epoch 125/500\n",
            "104/104 [==============================] - 3s 31ms/step - loss: 0.3612 - accuracy: 0.8676 - val_loss: 0.6525 - val_accuracy: 0.7440\n",
            "Epoch 126/500\n",
            "104/104 [==============================] - 3s 31ms/step - loss: 0.3495 - accuracy: 0.8706 - val_loss: 0.6007 - val_accuracy: 0.7874\n",
            "Epoch 127/500\n",
            "104/104 [==============================] - 3s 30ms/step - loss: 0.3117 - accuracy: 0.8894 - val_loss: 0.5522 - val_accuracy: 0.7778\n",
            "Epoch 128/500\n",
            "104/104 [==============================] - 3s 30ms/step - loss: 0.3177 - accuracy: 0.8845 - val_loss: 0.6001 - val_accuracy: 0.7778\n",
            "Epoch 129/500\n",
            "104/104 [==============================] - 3s 31ms/step - loss: 0.3316 - accuracy: 0.8815 - val_loss: 0.5844 - val_accuracy: 0.8116\n",
            "Epoch 130/500\n",
            "104/104 [==============================] - 3s 31ms/step - loss: 0.3401 - accuracy: 0.8827 - val_loss: 0.5543 - val_accuracy: 0.8164\n",
            "Epoch 131/500\n",
            "104/104 [==============================] - 3s 31ms/step - loss: 0.3335 - accuracy: 0.8815 - val_loss: 0.6261 - val_accuracy: 0.7440\n",
            "Epoch 132/500\n",
            "104/104 [==============================] - 3s 31ms/step - loss: 0.3152 - accuracy: 0.8803 - val_loss: 0.7659 - val_accuracy: 0.7295\n",
            "Epoch 133/500\n",
            "104/104 [==============================] - 3s 31ms/step - loss: 0.3037 - accuracy: 0.8924 - val_loss: 0.5898 - val_accuracy: 0.8068\n",
            "Epoch 134/500\n",
            "104/104 [==============================] - 3s 31ms/step - loss: 0.3056 - accuracy: 0.8888 - val_loss: 0.5941 - val_accuracy: 0.7681\n",
            "Epoch 135/500\n",
            "104/104 [==============================] - 3s 30ms/step - loss: 0.3002 - accuracy: 0.8839 - val_loss: 0.6408 - val_accuracy: 0.7488\n",
            "Epoch 136/500\n",
            "104/104 [==============================] - 3s 31ms/step - loss: 0.3008 - accuracy: 0.8930 - val_loss: 0.7494 - val_accuracy: 0.7101\n",
            "Epoch 137/500\n",
            "104/104 [==============================] - 3s 31ms/step - loss: 0.3212 - accuracy: 0.8863 - val_loss: 0.5131 - val_accuracy: 0.8261\n",
            "Epoch 138/500\n",
            "104/104 [==============================] - 3s 32ms/step - loss: 0.3262 - accuracy: 0.8803 - val_loss: 0.5826 - val_accuracy: 0.7874\n",
            "Epoch 139/500\n",
            "104/104 [==============================] - 3s 31ms/step - loss: 0.2940 - accuracy: 0.8900 - val_loss: 0.6065 - val_accuracy: 0.7874\n",
            "Epoch 140/500\n",
            "104/104 [==============================] - 3s 31ms/step - loss: 0.2820 - accuracy: 0.8942 - val_loss: 0.5397 - val_accuracy: 0.8068\n",
            "Epoch 141/500\n",
            "104/104 [==============================] - 3s 31ms/step - loss: 0.3092 - accuracy: 0.8773 - val_loss: 0.6166 - val_accuracy: 0.7923\n",
            "Epoch 142/500\n",
            "104/104 [==============================] - 3s 30ms/step - loss: 0.2842 - accuracy: 0.8863 - val_loss: 0.5032 - val_accuracy: 0.8068\n",
            "Epoch 143/500\n",
            "104/104 [==============================] - 3s 31ms/step - loss: 0.2894 - accuracy: 0.8881 - val_loss: 0.6097 - val_accuracy: 0.7633\n",
            "Epoch 144/500\n",
            "104/104 [==============================] - 3s 31ms/step - loss: 0.2934 - accuracy: 0.9002 - val_loss: 0.6392 - val_accuracy: 0.7826\n",
            "Epoch 145/500\n",
            "104/104 [==============================] - 3s 31ms/step - loss: 0.2994 - accuracy: 0.8815 - val_loss: 0.6836 - val_accuracy: 0.7585\n",
            "Epoch 146/500\n",
            "104/104 [==============================] - 3s 31ms/step - loss: 0.2964 - accuracy: 0.8960 - val_loss: 0.5207 - val_accuracy: 0.8068\n",
            "Epoch 147/500\n",
            "104/104 [==============================] - 3s 31ms/step - loss: 0.2829 - accuracy: 0.8918 - val_loss: 0.5733 - val_accuracy: 0.7778\n",
            "Epoch 148/500\n",
            "104/104 [==============================] - 3s 30ms/step - loss: 0.2816 - accuracy: 0.8960 - val_loss: 0.5882 - val_accuracy: 0.7826\n",
            "Epoch 149/500\n",
            "104/104 [==============================] - 3s 31ms/step - loss: 0.2849 - accuracy: 0.8942 - val_loss: 0.5233 - val_accuracy: 0.7923\n",
            "Epoch 150/500\n",
            "104/104 [==============================] - 3s 32ms/step - loss: 0.2908 - accuracy: 0.8960 - val_loss: 0.5648 - val_accuracy: 0.8213\n",
            "Epoch 151/500\n",
            "104/104 [==============================] - 3s 31ms/step - loss: 0.2673 - accuracy: 0.9081 - val_loss: 0.5549 - val_accuracy: 0.7971\n",
            "Epoch 152/500\n",
            "104/104 [==============================] - 3s 31ms/step - loss: 0.2991 - accuracy: 0.8918 - val_loss: 0.5924 - val_accuracy: 0.7874\n",
            "Epoch 153/500\n",
            "104/104 [==============================] - 3s 30ms/step - loss: 0.2820 - accuracy: 0.8996 - val_loss: 0.7405 - val_accuracy: 0.7295\n",
            "Epoch 154/500\n",
            "104/104 [==============================] - 3s 30ms/step - loss: 0.2886 - accuracy: 0.9015 - val_loss: 0.6217 - val_accuracy: 0.7536\n",
            "Epoch 155/500\n",
            "104/104 [==============================] - 3s 31ms/step - loss: 0.2938 - accuracy: 0.8936 - val_loss: 0.5962 - val_accuracy: 0.7729\n",
            "Epoch 156/500\n",
            "104/104 [==============================] - 3s 30ms/step - loss: 0.2827 - accuracy: 0.8978 - val_loss: 0.5520 - val_accuracy: 0.8116\n",
            "Epoch 157/500\n",
            "104/104 [==============================] - 3s 31ms/step - loss: 0.2477 - accuracy: 0.9075 - val_loss: 0.5533 - val_accuracy: 0.7923\n",
            "Epoch 158/500\n",
            "104/104 [==============================] - 3s 31ms/step - loss: 0.2866 - accuracy: 0.9021 - val_loss: 0.5279 - val_accuracy: 0.8116\n",
            "Epoch 159/500\n",
            "104/104 [==============================] - 3s 31ms/step - loss: 0.2526 - accuracy: 0.8996 - val_loss: 0.4964 - val_accuracy: 0.8261\n",
            "Epoch 160/500\n",
            "104/104 [==============================] - 3s 31ms/step - loss: 0.2592 - accuracy: 0.9033 - val_loss: 0.5080 - val_accuracy: 0.8164\n",
            "Epoch 161/500\n",
            "104/104 [==============================] - 3s 31ms/step - loss: 0.2797 - accuracy: 0.8960 - val_loss: 0.5952 - val_accuracy: 0.7440\n",
            "Epoch 162/500\n",
            "104/104 [==============================] - 3s 30ms/step - loss: 0.2465 - accuracy: 0.9099 - val_loss: 0.5094 - val_accuracy: 0.8116\n",
            "Epoch 163/500\n",
            "104/104 [==============================] - 3s 30ms/step - loss: 0.2590 - accuracy: 0.9002 - val_loss: 0.6572 - val_accuracy: 0.7729\n",
            "Epoch 164/500\n",
            "104/104 [==============================] - 3s 31ms/step - loss: 0.2370 - accuracy: 0.9208 - val_loss: 0.5798 - val_accuracy: 0.7826\n",
            "Epoch 165/500\n",
            "104/104 [==============================] - 3s 31ms/step - loss: 0.2618 - accuracy: 0.8996 - val_loss: 0.6102 - val_accuracy: 0.7826\n",
            "Epoch 166/500\n",
            "104/104 [==============================] - 3s 30ms/step - loss: 0.2830 - accuracy: 0.8948 - val_loss: 0.6181 - val_accuracy: 0.7729\n",
            "Epoch 167/500\n",
            "104/104 [==============================] - 3s 30ms/step - loss: 0.2487 - accuracy: 0.8990 - val_loss: 0.5965 - val_accuracy: 0.8116\n",
            "Epoch 168/500\n",
            "104/104 [==============================] - 3s 30ms/step - loss: 0.2290 - accuracy: 0.9135 - val_loss: 0.5905 - val_accuracy: 0.8068\n",
            "Epoch 169/500\n",
            "104/104 [==============================] - 3s 30ms/step - loss: 0.2317 - accuracy: 0.9166 - val_loss: 0.5339 - val_accuracy: 0.8019\n",
            "Epoch 170/500\n",
            "104/104 [==============================] - 3s 30ms/step - loss: 0.2596 - accuracy: 0.9099 - val_loss: 0.6015 - val_accuracy: 0.7826\n",
            "Epoch 171/500\n",
            "104/104 [==============================] - 3s 31ms/step - loss: 0.2599 - accuracy: 0.9087 - val_loss: 0.5500 - val_accuracy: 0.8019\n",
            "Epoch 172/500\n",
            "104/104 [==============================] - 3s 30ms/step - loss: 0.2280 - accuracy: 0.9111 - val_loss: 0.5613 - val_accuracy: 0.8019\n",
            "Epoch 173/500\n",
            "104/104 [==============================] - 3s 29ms/step - loss: 0.2421 - accuracy: 0.9057 - val_loss: 0.7132 - val_accuracy: 0.7536\n",
            "Epoch 174/500\n",
            "104/104 [==============================] - 3s 30ms/step - loss: 0.2424 - accuracy: 0.9160 - val_loss: 0.5929 - val_accuracy: 0.8068\n",
            "Epoch 175/500\n",
            "104/104 [==============================] - 3s 29ms/step - loss: 0.2430 - accuracy: 0.9081 - val_loss: 0.5640 - val_accuracy: 0.8019\n",
            "Epoch 176/500\n",
            "104/104 [==============================] - 3s 30ms/step - loss: 0.2461 - accuracy: 0.9160 - val_loss: 0.6786 - val_accuracy: 0.7391\n",
            "Epoch 177/500\n",
            "104/104 [==============================] - 3s 30ms/step - loss: 0.2340 - accuracy: 0.9166 - val_loss: 0.4942 - val_accuracy: 0.8309\n",
            "Epoch 178/500\n",
            "104/104 [==============================] - 3s 30ms/step - loss: 0.2154 - accuracy: 0.9220 - val_loss: 0.5479 - val_accuracy: 0.8068\n",
            "Epoch 179/500\n",
            "104/104 [==============================] - 3s 30ms/step - loss: 0.2167 - accuracy: 0.9154 - val_loss: 0.5239 - val_accuracy: 0.8213\n",
            "Epoch 180/500\n",
            "104/104 [==============================] - 3s 31ms/step - loss: 0.2486 - accuracy: 0.9057 - val_loss: 0.5457 - val_accuracy: 0.8164\n",
            "Epoch 181/500\n",
            "104/104 [==============================] - 3s 30ms/step - loss: 0.2086 - accuracy: 0.9220 - val_loss: 0.5457 - val_accuracy: 0.8164\n",
            "Epoch 182/500\n",
            "104/104 [==============================] - 3s 30ms/step - loss: 0.2260 - accuracy: 0.9184 - val_loss: 0.5239 - val_accuracy: 0.8116\n",
            "Epoch 183/500\n",
            "104/104 [==============================] - 3s 30ms/step - loss: 0.2224 - accuracy: 0.9238 - val_loss: 0.5181 - val_accuracy: 0.8116\n",
            "Epoch 184/500\n",
            "104/104 [==============================] - 3s 30ms/step - loss: 0.2084 - accuracy: 0.9268 - val_loss: 0.5673 - val_accuracy: 0.8261\n",
            "Epoch 185/500\n",
            "104/104 [==============================] - 3s 30ms/step - loss: 0.2019 - accuracy: 0.9293 - val_loss: 0.5642 - val_accuracy: 0.7923\n",
            "Epoch 186/500\n",
            "104/104 [==============================] - 3s 30ms/step - loss: 0.1958 - accuracy: 0.9287 - val_loss: 0.5008 - val_accuracy: 0.7971\n",
            "Epoch 187/500\n",
            "104/104 [==============================] - 3s 30ms/step - loss: 0.2212 - accuracy: 0.9226 - val_loss: 0.6802 - val_accuracy: 0.7874\n",
            "Epoch 188/500\n",
            "104/104 [==============================] - 3s 30ms/step - loss: 0.1851 - accuracy: 0.9293 - val_loss: 0.6402 - val_accuracy: 0.7971\n",
            "Epoch 189/500\n",
            "104/104 [==============================] - 3s 30ms/step - loss: 0.2078 - accuracy: 0.9287 - val_loss: 0.5794 - val_accuracy: 0.7681\n",
            "Epoch 190/500\n",
            "104/104 [==============================] - 3s 30ms/step - loss: 0.1954 - accuracy: 0.9311 - val_loss: 0.5816 - val_accuracy: 0.8213\n",
            "Epoch 191/500\n",
            "104/104 [==============================] - 3s 30ms/step - loss: 0.2307 - accuracy: 0.9129 - val_loss: 0.5659 - val_accuracy: 0.8309\n",
            "Epoch 192/500\n",
            "104/104 [==============================] - 3s 30ms/step - loss: 0.2148 - accuracy: 0.9244 - val_loss: 0.6503 - val_accuracy: 0.7874\n",
            "Epoch 193/500\n",
            "104/104 [==============================] - 3s 30ms/step - loss: 0.2146 - accuracy: 0.9250 - val_loss: 0.5820 - val_accuracy: 0.8019\n",
            "Epoch 194/500\n",
            "104/104 [==============================] - 3s 30ms/step - loss: 0.2197 - accuracy: 0.9196 - val_loss: 0.6259 - val_accuracy: 0.7778\n",
            "Epoch 195/500\n",
            "104/104 [==============================] - 3s 30ms/step - loss: 0.2033 - accuracy: 0.9329 - val_loss: 0.5465 - val_accuracy: 0.8213\n",
            "Epoch 196/500\n",
            "104/104 [==============================] - 3s 31ms/step - loss: 0.2007 - accuracy: 0.9262 - val_loss: 0.5058 - val_accuracy: 0.8213\n",
            "Epoch 197/500\n",
            "104/104 [==============================] - 3s 30ms/step - loss: 0.1879 - accuracy: 0.9335 - val_loss: 0.5314 - val_accuracy: 0.8213\n",
            "Epoch 198/500\n",
            "104/104 [==============================] - 3s 30ms/step - loss: 0.2294 - accuracy: 0.9196 - val_loss: 0.4601 - val_accuracy: 0.8357\n",
            "Epoch 199/500\n",
            "104/104 [==============================] - 3s 30ms/step - loss: 0.1891 - accuracy: 0.9341 - val_loss: 0.5553 - val_accuracy: 0.7971\n",
            "Epoch 200/500\n",
            "104/104 [==============================] - 3s 30ms/step - loss: 0.1952 - accuracy: 0.9335 - val_loss: 0.5839 - val_accuracy: 0.7971\n",
            "Epoch 201/500\n",
            "104/104 [==============================] - 3s 30ms/step - loss: 0.2274 - accuracy: 0.9226 - val_loss: 0.5462 - val_accuracy: 0.8164\n",
            "Epoch 202/500\n",
            "104/104 [==============================] - 3s 30ms/step - loss: 0.1944 - accuracy: 0.9317 - val_loss: 0.6536 - val_accuracy: 0.7826\n",
            "Epoch 203/500\n",
            "104/104 [==============================] - 3s 30ms/step - loss: 0.1990 - accuracy: 0.9299 - val_loss: 0.6877 - val_accuracy: 0.7826\n",
            "Epoch 204/500\n",
            "104/104 [==============================] - 3s 30ms/step - loss: 0.1849 - accuracy: 0.9323 - val_loss: 0.6015 - val_accuracy: 0.8116\n",
            "Epoch 205/500\n",
            "104/104 [==============================] - 3s 30ms/step - loss: 0.1992 - accuracy: 0.9226 - val_loss: 0.5731 - val_accuracy: 0.8116\n",
            "Epoch 206/500\n",
            "104/104 [==============================] - 3s 30ms/step - loss: 0.1846 - accuracy: 0.9329 - val_loss: 0.5339 - val_accuracy: 0.8261\n",
            "Epoch 207/500\n",
            "104/104 [==============================] - 3s 30ms/step - loss: 0.1971 - accuracy: 0.9281 - val_loss: 0.5454 - val_accuracy: 0.8068\n",
            "Epoch 208/500\n",
            "104/104 [==============================] - 3s 30ms/step - loss: 0.1922 - accuracy: 0.9329 - val_loss: 0.5929 - val_accuracy: 0.7971\n",
            "Epoch 209/500\n",
            "104/104 [==============================] - 3s 30ms/step - loss: 0.1869 - accuracy: 0.9347 - val_loss: 0.5772 - val_accuracy: 0.8116\n",
            "Epoch 210/500\n",
            "104/104 [==============================] - 3s 30ms/step - loss: 0.1926 - accuracy: 0.9281 - val_loss: 0.5458 - val_accuracy: 0.8261\n",
            "Epoch 211/500\n",
            "104/104 [==============================] - 3s 30ms/step - loss: 0.1781 - accuracy: 0.9317 - val_loss: 0.5540 - val_accuracy: 0.7971\n",
            "Epoch 212/500\n",
            "104/104 [==============================] - 3s 30ms/step - loss: 0.1792 - accuracy: 0.9401 - val_loss: 0.5611 - val_accuracy: 0.8357\n",
            "Epoch 213/500\n",
            "104/104 [==============================] - 3s 30ms/step - loss: 0.1805 - accuracy: 0.9311 - val_loss: 0.6125 - val_accuracy: 0.7971\n",
            "Epoch 214/500\n",
            "104/104 [==============================] - 3s 30ms/step - loss: 0.1761 - accuracy: 0.9256 - val_loss: 0.6035 - val_accuracy: 0.8019\n",
            "Epoch 215/500\n",
            "104/104 [==============================] - 3s 31ms/step - loss: 0.1938 - accuracy: 0.9268 - val_loss: 0.5078 - val_accuracy: 0.8309\n",
            "Epoch 216/500\n",
            "104/104 [==============================] - 3s 30ms/step - loss: 0.1684 - accuracy: 0.9426 - val_loss: 0.5284 - val_accuracy: 0.8357\n",
            "Epoch 217/500\n",
            "104/104 [==============================] - 3s 31ms/step - loss: 0.1553 - accuracy: 0.9474 - val_loss: 0.5707 - val_accuracy: 0.8164\n",
            "Epoch 218/500\n",
            "104/104 [==============================] - 3s 31ms/step - loss: 0.1761 - accuracy: 0.9359 - val_loss: 0.6157 - val_accuracy: 0.7874\n",
            "Epoch 219/500\n",
            "104/104 [==============================] - 3s 31ms/step - loss: 0.1814 - accuracy: 0.9371 - val_loss: 0.5748 - val_accuracy: 0.8309\n",
            "Epoch 220/500\n",
            "104/104 [==============================] - 3s 31ms/step - loss: 0.1768 - accuracy: 0.9323 - val_loss: 0.5459 - val_accuracy: 0.8068\n",
            "Epoch 221/500\n",
            "104/104 [==============================] - 3s 31ms/step - loss: 0.1535 - accuracy: 0.9474 - val_loss: 0.5822 - val_accuracy: 0.8116\n",
            "Epoch 222/500\n",
            "104/104 [==============================] - 3s 30ms/step - loss: 0.1618 - accuracy: 0.9347 - val_loss: 0.4839 - val_accuracy: 0.8454\n",
            "Epoch 223/500\n",
            "104/104 [==============================] - 3s 30ms/step - loss: 0.1818 - accuracy: 0.9359 - val_loss: 0.5402 - val_accuracy: 0.8116\n"
          ]
        }
      ]
    },
    {
      "cell_type": "code",
      "source": [
        "plt.plot(cnnhistory.history['loss'])\n",
        "plt.plot(cnnhistory.history['val_loss'])\n",
        "plt.title('model loss')\n",
        "plt.ylabel('loss')\n",
        "plt.xlabel('epoch')\n",
        "plt.legend(['train','test'], loc='upper left')\n",
        "plt.show()"
      ],
      "metadata": {
        "id": "oQYnuaCrDH_A",
        "colab": {
          "base_uri": "https://localhost:8080/",
          "height": 295
        },
        "outputId": "e58b8a34-44d1-4146-cd13-23a62939955c"
      },
      "execution_count": 15,
      "outputs": [
        {
          "output_type": "display_data",
          "data": {
            "text/plain": [
              "<Figure size 432x288 with 1 Axes>"
            ],
            "image/png": "[encoded data removed]"
          },
          "metadata": {
            "needs_background": "light"
          }
        }
      ]
    },
    {
      "cell_type": "code",
      "source": [
        "plt.plot(cnnhistory.history['accuracy'])\n",
        "plt.plot(cnnhistory.history['val_accuracy'])\n",
        "plt.title('model accuracy')\n",
        "plt.ylabel('accuracy')\n",
        "plt.xlabel('epoch')\n",
        "plt.legend(['train','test'], loc='upper left')\n",
        "plt.show()"
      ],
      "metadata": {
        "id": "IFkTuO8nDNdq",
        "colab": {
          "base_uri": "https://localhost:8080/",
          "height": 295
        },
        "outputId": "70986db7-401e-46f0-da13-6fff122ca652"
      },
      "execution_count": 16,
      "outputs": [
        {
          "output_type": "display_data",
          "data": {
            "text/plain": [
              "<Figure size 432x288 with 1 Axes>"
            ],
            "image/png": "[encoded data removed]"
          },
          "metadata": {
            "needs_background": "light"
          }
        }
      ]
    },
    {
      "cell_type": "code",
      "source": [
        "predictions = model.predict(x_testcnn)"
      ],
      "metadata": {
        "id": "A2xtrN5wDQgY"
      },
      "execution_count": 17,
      "outputs": []
    },
    {
      "cell_type": "code",
      "source": [
        "predictions"
      ],
      "metadata": {
        "id": "_f_ohjXKDUpY",
        "colab": {
          "base_uri": "https://localhost:8080/"
        },
        "outputId": "ad40ccd1-6561-4ca6-a8bd-b096ecd6ee97"
      },
      "execution_count": 18,
      "outputs": [
        {
          "output_type": "execute_result",
          "data": {
            "text/plain": [
              "array([[1.7810775e-01, 7.6917894e-02, 3.2167441e-01, 4.0125796e-01,\n",
              "        8.0867838e-03, 1.3955270e-02],\n",
              "       [3.0239040e-05, 1.1256373e-07, 8.2467864e-09, 9.5526022e-01,\n",
              "        5.8094150e-07, 4.4708803e-02],\n",
              "       [1.7194231e-01, 8.0525182e-02, 5.3849998e-03, 6.9112432e-01,\n",
              "        3.3428843e-04, 5.0688926e-02],\n",
              "       ...,\n",
              "       [5.6388499e-06, 3.4895024e-11, 6.1512674e-06, 6.1850704e-07,\n",
              "        9.9973041e-01, 2.5714564e-04],\n",
              "       [1.3239644e-04, 8.2246512e-01, 1.7486094e-01, 2.3714625e-04,\n",
              "        1.6477051e-03, 6.5664871e-04],\n",
              "       [3.6582733e-05, 8.9032646e-06, 4.2107692e-03, 2.3963919e-05,\n",
              "        9.9469030e-01, 1.0294950e-03]], dtype=float32)"
            ]
          },
          "metadata": {},
          "execution_count": 18
        }
      ]
    },
    {
      "cell_type": "code",
      "source": [
        "y_test"
      ],
      "metadata": {
        "id": "cmA2bFgsDW3D",
        "colab": {
          "base_uri": "https://localhost:8080/"
        },
        "outputId": "49d14895-4666-4bc9-bdc7-fc4c60fe3c14"
      },
      "execution_count": 19,
      "outputs": [
        {
          "output_type": "execute_result",
          "data": {
            "text/plain": [
              "array([3, 3, 3, 0, 4, 4, 1, 2, 5, 0, 5, 3, 2, 2, 1, 4, 4, 5, 2, 4, 1, 2,\n",
              "       3, 5, 4, 2, 1, 2, 2, 2, 2, 5, 2, 5, 3, 1, 2, 0, 4, 5, 2, 3, 2, 2,\n",
              "       5, 2, 0, 1, 3, 4, 4, 5, 1, 1, 4, 4, 5, 1, 1, 1, 0, 1, 5, 0, 4, 1,\n",
              "       1, 0, 1, 4, 1, 0, 4, 1, 3, 1, 2, 2, 1, 2, 3, 0, 5, 3, 5, 5, 2, 4,\n",
              "       5, 1, 5, 1, 5, 3, 4, 1, 4, 1, 5, 4, 5, 1, 2, 1, 1, 5, 1, 3, 2, 5,\n",
              "       2, 1, 3, 5, 4, 4, 0, 0, 3, 1, 2, 2, 3, 5, 1, 5, 3, 4, 2, 2, 0, 2,\n",
              "       2, 5, 5, 0, 3, 3, 2, 2, 0, 3, 4, 0, 4, 2, 4, 5, 4, 1, 5, 3, 2, 2,\n",
              "       5, 4, 3, 3, 4, 3, 3, 4, 1, 5, 2, 3, 2, 2, 0, 2, 1, 3, 1, 2, 2, 5,\n",
              "       5, 1, 4, 2, 2, 1, 1, 3, 3, 5, 5, 2, 5, 1, 5, 0, 3, 3, 0, 5, 1, 4,\n",
              "       1, 4, 2, 5, 5, 1, 4, 2, 4])"
            ]
          },
          "metadata": {},
          "execution_count": 19
        }
      ]
    },
    {
      "cell_type": "code",
      "source": [
        "new_Ytest = y_test.astype(int)"
      ],
      "metadata": {
        "id": "0PHDKWJWDY3g"
      },
      "execution_count": 20,
      "outputs": []
    },
    {
      "cell_type": "code",
      "source": [
        "new_Ytest"
      ],
      "metadata": {
        "id": "k68v2i-pDbZE",
        "colab": {
          "base_uri": "https://localhost:8080/"
        },
        "outputId": "0275cad8-c199-4bd3-c28f-c6888558b7ca"
      },
      "execution_count": 21,
      "outputs": [
        {
          "output_type": "execute_result",
          "data": {
            "text/plain": [
              "array([3, 3, 3, 0, 4, 4, 1, 2, 5, 0, 5, 3, 2, 2, 1, 4, 4, 5, 2, 4, 1, 2,\n",
              "       3, 5, 4, 2, 1, 2, 2, 2, 2, 5, 2, 5, 3, 1, 2, 0, 4, 5, 2, 3, 2, 2,\n",
              "       5, 2, 0, 1, 3, 4, 4, 5, 1, 1, 4, 4, 5, 1, 1, 1, 0, 1, 5, 0, 4, 1,\n",
              "       1, 0, 1, 4, 1, 0, 4, 1, 3, 1, 2, 2, 1, 2, 3, 0, 5, 3, 5, 5, 2, 4,\n",
              "       5, 1, 5, 1, 5, 3, 4, 1, 4, 1, 5, 4, 5, 1, 2, 1, 1, 5, 1, 3, 2, 5,\n",
              "       2, 1, 3, 5, 4, 4, 0, 0, 3, 1, 2, 2, 3, 5, 1, 5, 3, 4, 2, 2, 0, 2,\n",
              "       2, 5, 5, 0, 3, 3, 2, 2, 0, 3, 4, 0, 4, 2, 4, 5, 4, 1, 5, 3, 2, 2,\n",
              "       5, 4, 3, 3, 4, 3, 3, 4, 1, 5, 2, 3, 2, 2, 0, 2, 1, 3, 1, 2, 2, 5,\n",
              "       5, 1, 4, 2, 2, 1, 1, 3, 3, 5, 5, 2, 5, 1, 5, 0, 3, 3, 0, 5, 1, 4,\n",
              "       1, 4, 2, 5, 5, 1, 4, 2, 4])"
            ]
          },
          "metadata": {},
          "execution_count": 21
        }
      ]
    },
    {
      "cell_type": "code",
      "source": [
        "preds1=predictions.argmax(axis=1)\n",
        "preds1"
      ],
      "metadata": {
        "id": "4_cAI39VFhtp",
        "colab": {
          "base_uri": "https://localhost:8080/"
        },
        "outputId": "0fcb3999-6ee3-42d0-a3dc-8a4d6efa69df"
      },
      "execution_count": 22,
      "outputs": [
        {
          "output_type": "execute_result",
          "data": {
            "text/plain": [
              "array([3, 3, 3, 0, 4, 4, 1, 2, 5, 1, 5, 3, 2, 2, 0, 4, 4, 3, 3, 4, 1, 2,\n",
              "       0, 3, 4, 2, 1, 2, 2, 2, 2, 5, 2, 5, 3, 1, 2, 0, 4, 5, 2, 3, 2, 2,\n",
              "       5, 2, 1, 1, 3, 4, 4, 5, 1, 1, 4, 4, 5, 1, 1, 1, 0, 1, 2, 1, 4, 1,\n",
              "       1, 1, 1, 4, 0, 0, 4, 1, 3, 1, 2, 2, 1, 2, 1, 0, 5, 3, 5, 5, 2, 4,\n",
              "       3, 1, 2, 1, 5, 3, 2, 1, 4, 0, 5, 4, 5, 1, 2, 1, 1, 5, 1, 3, 2, 5,\n",
              "       0, 1, 3, 0, 4, 4, 0, 0, 3, 1, 1, 2, 1, 5, 1, 5, 3, 4, 2, 2, 0, 2,\n",
              "       2, 3, 3, 0, 3, 3, 2, 2, 0, 3, 4, 0, 4, 2, 4, 2, 4, 1, 5, 3, 2, 2,\n",
              "       5, 4, 3, 3, 4, 5, 3, 4, 1, 5, 2, 3, 2, 2, 0, 2, 1, 3, 1, 2, 4, 5,\n",
              "       5, 1, 4, 2, 4, 1, 1, 3, 3, 5, 5, 2, 3, 1, 2, 1, 3, 3, 1, 2, 1, 4,\n",
              "       1, 4, 3, 5, 5, 1, 4, 1, 4])"
            ]
          },
          "metadata": {},
          "execution_count": 22
        }
      ]
    },
    {
      "cell_type": "code",
      "source": [
        "abc = preds1.astype(int).flatten()"
      ],
      "metadata": {
        "id": "H4WEmM60NfQn"
      },
      "execution_count": 23,
      "outputs": []
    },
    {
      "cell_type": "code",
      "source": [
        "from sklearn.metrics import confusion_matrix\n",
        "c = confusion_matrix(new_Ytest, abc) \n",
        "c"
      ],
      "metadata": {
        "id": "bKEBeEBlFjB8",
        "colab": {
          "base_uri": "https://localhost:8080/"
        },
        "outputId": "aa8a2eac-ea05-4e8b-a1f5-d6988af78498"
      },
      "execution_count": 24,
      "outputs": [
        {
          "output_type": "execute_result",
          "data": {
            "text/plain": [
              "array([[12,  6,  0,  0,  0,  0],\n",
              "       [ 3, 38,  0,  0,  0,  0],\n",
              "       [ 1,  2, 38,  2,  2,  0],\n",
              "       [ 1,  2,  0, 27,  0,  1],\n",
              "       [ 0,  0,  1,  0, 32,  0],\n",
              "       [ 1,  0,  5,  6,  0, 27]])"
            ]
          },
          "metadata": {},
          "execution_count": 24
        }
      ]
    },
    {
      "cell_type": "code",
      "source": [
        "y_test"
      ],
      "metadata": {
        "id": "m4RjG7LWLSQx",
        "colab": {
          "base_uri": "https://localhost:8080/"
        },
        "outputId": "4bd2466d-72ad-493e-c927-98b8a0a6f2c4"
      },
      "execution_count": 25,
      "outputs": [
        {
          "output_type": "execute_result",
          "data": {
            "text/plain": [
              "array([3, 3, 3, 0, 4, 4, 1, 2, 5, 0, 5, 3, 2, 2, 1, 4, 4, 5, 2, 4, 1, 2,\n",
              "       3, 5, 4, 2, 1, 2, 2, 2, 2, 5, 2, 5, 3, 1, 2, 0, 4, 5, 2, 3, 2, 2,\n",
              "       5, 2, 0, 1, 3, 4, 4, 5, 1, 1, 4, 4, 5, 1, 1, 1, 0, 1, 5, 0, 4, 1,\n",
              "       1, 0, 1, 4, 1, 0, 4, 1, 3, 1, 2, 2, 1, 2, 3, 0, 5, 3, 5, 5, 2, 4,\n",
              "       5, 1, 5, 1, 5, 3, 4, 1, 4, 1, 5, 4, 5, 1, 2, 1, 1, 5, 1, 3, 2, 5,\n",
              "       2, 1, 3, 5, 4, 4, 0, 0, 3, 1, 2, 2, 3, 5, 1, 5, 3, 4, 2, 2, 0, 2,\n",
              "       2, 5, 5, 0, 3, 3, 2, 2, 0, 3, 4, 0, 4, 2, 4, 5, 4, 1, 5, 3, 2, 2,\n",
              "       5, 4, 3, 3, 4, 3, 3, 4, 1, 5, 2, 3, 2, 2, 0, 2, 1, 3, 1, 2, 2, 5,\n",
              "       5, 1, 4, 2, 2, 1, 1, 3, 3, 5, 5, 2, 5, 1, 5, 0, 3, 3, 0, 5, 1, 4,\n",
              "       1, 4, 2, 5, 5, 1, 4, 2, 4])"
            ]
          },
          "metadata": {},
          "execution_count": 25
        }
      ]
    },
    {
      "cell_type": "code",
      "source": [
        "loss, acc =model.evaluate(x_testcnn, y_test)\n",
        "print(\"Restored model, accuracy: {:5.2f}%\".format(100*acc))"
      ],
      "metadata": {
        "id": "n3kzoqPkDqqS",
        "colab": {
          "base_uri": "https://localhost:8080/"
        },
        "outputId": "becde97c-a01d-408b-ab79-26c2f143f388"
      },
      "execution_count": 26,
      "outputs": [
        {
          "output_type": "stream",
          "name": "stdout",
          "text": [
            "7/7 [==============================] - 0s 7ms/step - loss: 0.4330 - accuracy: 0.8406\n",
            "Restored model, accuracy: 84.06%\n"
          ]
        }
      ]
    },
    {
      "cell_type": "code",
      "source": [
        "loss, acc =model.evaluate(X_train, y_train)\n",
        "print(\"Restored model train, accuracy: {:5.2f}%\".format(100*acc))"
      ],
      "metadata": {
        "id": "fJDTGH_OUX0z",
        "colab": {
          "base_uri": "https://localhost:8080/"
        },
        "outputId": "2ecdfd83-66dd-46dd-b58a-c369e4126293"
      },
      "execution_count": 27,
      "outputs": [
        {
          "output_type": "stream",
          "name": "stdout",
          "text": [
            "52/52 [==============================] - 1s 8ms/step - loss: 0.0592 - accuracy: 0.9940\n",
            "Restored model train, accuracy: 99.40%\n"
          ]
        }
      ]
    },
    {
      "cell_type": "code",
      "source": [
        "from sklearn.metrics import classification_report, confusion_matrix,accuracy_score\n",
        "import seaborn as sn\n",
        "\n",
        "print(classification_report(new_Ytest,abc))\n",
        "\n",
        "acc = float(accuracy_score(new_Ytest,abc))*100\n",
        "print(\"----accuracy score %s ----\" % acc)\n",
        "\n",
        "cm = confusion_matrix(new_Ytest,abc)\n",
        "#df_cm = pd.DataFrame(cm)\n",
        "class_names = ['neutral','calm', 'happy','sad','angry', 'fearful' ]\n",
        "df_cm = pd.DataFrame(cm, index=class_names, columns=class_names,)\n",
        "sn.heatmap(df_cm, annot=True, fmt='')\n",
        "plt.show()"
      ],
      "metadata": {
        "id": "SfSC3El94LZg",
        "colab": {
          "base_uri": "https://localhost:8080/",
          "height": 522
        },
        "outputId": "2515b96b-3a16-4ca1-9bb1-d9b9548fb642"
      },
      "execution_count": 28,
      "outputs": [
        {
          "output_type": "stream",
          "name": "stdout",
          "text": [
            "              precision    recall  f1-score   support\n",
            "\n",
            "           0       0.67      0.67      0.67        18\n",
            "           1       0.79      0.93      0.85        41\n",
            "           2       0.86      0.84      0.85        45\n",
            "           3       0.77      0.87      0.82        31\n",
            "           4       0.94      0.97      0.96        33\n",
            "           5       0.96      0.69      0.81        39\n",
            "\n",
            "    accuracy                           0.84       207\n",
            "   macro avg       0.83      0.83      0.83       207\n",
            "weighted avg       0.85      0.84      0.84       207\n",
            "\n",
            "----accuracy score 84.05797101449275 ----\n"
          ]
        },
        {
          "output_type": "display_data",
          "data": {
            "text/plain": [
              "<Figure size 432x288 with 2 Axes>"
            ],
            "image/png": "[encoded data removed]"
          },
          "metadata": {
            "needs_background": "light"
          }
        }
      ]
    }
  ]
}