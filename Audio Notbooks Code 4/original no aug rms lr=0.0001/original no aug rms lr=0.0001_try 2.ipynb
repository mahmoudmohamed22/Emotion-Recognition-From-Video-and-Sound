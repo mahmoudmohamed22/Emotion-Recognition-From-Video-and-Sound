{
  "nbformat": 4,
  "nbformat_minor": 0,
  "metadata": {
    "colab": {
      "name": "ramadan adam 0.0002 2.ipynb",
      "provenance": [],
      "collapsed_sections": []
    },
    "kernelspec": {
      "name": "python3",
      "display_name": "Python 3"
    },
    "language_info": {
      "name": "python"
    },
    "accelerator": "GPU"
  },
  "cells": [
    {
      "cell_type": "code",
      "execution_count": 1,
      "metadata": {
        "colab": {
          "base_uri": "https://localhost:8080/"
        },
        "id": "9SRCO-a_AlH5",
        "outputId": "ad98545a-06ae-4562-e418-3ba94ed3576b"
      },
      "outputs": [
        {
          "output_type": "stream",
          "name": "stdout",
          "text": [
            "Drive already mounted at /content/drive; to attempt to forcibly remount, call drive.mount(\"/content/drive\", force_remount=True).\n"
          ]
        }
      ],
      "source": [
        "from google.colab import drive\n",
        "drive.mount('/content/drive')"
      ]
    },
    {
      "cell_type": "code",
      "source": [
        "!pip install librosa"
      ],
      "metadata": {
        "colab": {
          "base_uri": "https://localhost:8080/"
        },
        "id": "oi8pWV3yBVjO",
        "outputId": "2b93d322-3cfd-4858-ee13-4993c03a8d78"
      },
      "execution_count": 2,
      "outputs": [
        {
          "output_type": "stream",
          "name": "stdout",
          "text": [
            "Looking in indexes: https://pypi.org/simple, https://us-python.pkg.dev/colab-wheels/public/simple/\n",
            "Requirement already satisfied: librosa in /usr/local/lib/python3.7/dist-packages (0.8.1)\n",
            "Requirement already satisfied: packaging>=20.0 in /usr/local/lib/python3.7/dist-packages (from librosa) (21.3)\n",
            "Requirement already satisfied: resampy>=0.2.2 in /usr/local/lib/python3.7/dist-packages (from librosa) (0.2.2)\n",
            "Requirement already satisfied: decorator>=3.0.0 in /usr/local/lib/python3.7/dist-packages (from librosa) (4.4.2)\n",
            "Requirement already satisfied: pooch>=1.0 in /usr/local/lib/python3.7/dist-packages (from librosa) (1.6.0)\n",
            "Requirement already satisfied: audioread>=2.0.0 in /usr/local/lib/python3.7/dist-packages (from librosa) (2.1.9)\n",
            "Requirement already satisfied: numba>=0.43.0 in /usr/local/lib/python3.7/dist-packages (from librosa) (0.51.2)\n",
            "Requirement already satisfied: numpy>=1.15.0 in /usr/local/lib/python3.7/dist-packages (from librosa) (1.21.6)\n",
            "Requirement already satisfied: scipy>=1.0.0 in /usr/local/lib/python3.7/dist-packages (from librosa) (1.4.1)\n",
            "Requirement already satisfied: scikit-learn!=0.19.0,>=0.14.0 in /usr/local/lib/python3.7/dist-packages (from librosa) (1.0.2)\n",
            "Requirement already satisfied: joblib>=0.14 in /usr/local/lib/python3.7/dist-packages (from librosa) (1.1.0)\n",
            "Requirement already satisfied: soundfile>=0.10.2 in /usr/local/lib/python3.7/dist-packages (from librosa) (0.10.3.post1)\n",
            "Requirement already satisfied: setuptools in /usr/local/lib/python3.7/dist-packages (from numba>=0.43.0->librosa) (57.4.0)\n",
            "Requirement already satisfied: llvmlite<0.35,>=0.34.0.dev0 in /usr/local/lib/python3.7/dist-packages (from numba>=0.43.0->librosa) (0.34.0)\n",
            "Requirement already satisfied: pyparsing!=3.0.5,>=2.0.2 in /usr/local/lib/python3.7/dist-packages (from packaging>=20.0->librosa) (3.0.9)\n",
            "Requirement already satisfied: appdirs>=1.3.0 in /usr/local/lib/python3.7/dist-packages (from pooch>=1.0->librosa) (1.4.4)\n",
            "Requirement already satisfied: requests>=2.19.0 in /usr/local/lib/python3.7/dist-packages (from pooch>=1.0->librosa) (2.23.0)\n",
            "Requirement already satisfied: idna<3,>=2.5 in /usr/local/lib/python3.7/dist-packages (from requests>=2.19.0->pooch>=1.0->librosa) (2.10)\n",
            "Requirement already satisfied: urllib3!=1.25.0,!=1.25.1,<1.26,>=1.21.1 in /usr/local/lib/python3.7/dist-packages (from requests>=2.19.0->pooch>=1.0->librosa) (1.24.3)\n",
            "Requirement already satisfied: certifi>=2017.4.17 in /usr/local/lib/python3.7/dist-packages (from requests>=2.19.0->pooch>=1.0->librosa) (2022.5.18.1)\n",
            "Requirement already satisfied: chardet<4,>=3.0.2 in /usr/local/lib/python3.7/dist-packages (from requests>=2.19.0->pooch>=1.0->librosa) (3.0.4)\n",
            "Requirement already satisfied: six>=1.3 in /usr/local/lib/python3.7/dist-packages (from resampy>=0.2.2->librosa) (1.15.0)\n",
            "Requirement already satisfied: threadpoolctl>=2.0.0 in /usr/local/lib/python3.7/dist-packages (from scikit-learn!=0.19.0,>=0.14.0->librosa) (3.1.0)\n",
            "Requirement already satisfied: cffi>=1.0 in /usr/local/lib/python3.7/dist-packages (from soundfile>=0.10.2->librosa) (1.15.0)\n",
            "Requirement already satisfied: pycparser in /usr/local/lib/python3.7/dist-packages (from cffi>=1.0->soundfile>=0.10.2->librosa) (2.21)\n"
          ]
        }
      ]
    },
    {
      "cell_type": "code",
      "metadata": {
        "id": "HJjcbxwy46bG",
        "colab": {
          "base_uri": "https://localhost:8080/",
          "height": 17
        },
        "outputId": "0fa5ee51-50ce-4138-d845-f56b575f9721"
      },
      "source": [
        "# Orignial Notebook: https://github.com/MITESHPUTHRANNEU/Speech-Emotion-Analyzer/blob/master/final_results_gender_test.ipynb\n",
        "# This notebook author: Reza Chu\n",
        "# Last Editing Date: 31st May 2019\n",
        "\n",
        "## Python\n",
        "import os\n",
        "import random\n",
        "import sys\n",
        "\n",
        "import IPython\n",
        "from IPython.display import Audio\n",
        "from IPython.display import Image\n",
        "import matplotlib.pyplot as plt\n",
        "\n",
        "## Package\n",
        "import glob \n",
        "import keras\n",
        "import IPython.display as ipd\n",
        "import librosa\n",
        "import librosa.display\n",
        "import matplotlib.pyplot as plt\n",
        "import numpy as np\n",
        "import pandas as pd\n",
        "import plotly.graph_objs as go\n",
        "import plotly.offline as py\n",
        "import plotly.tools as tls\n",
        "import seaborn as sns\n",
        "import scipy.io.wavfile\n",
        "import tensorflow as tf\n",
        "py.init_notebook_mode(connected=True)\n",
        "\n",
        "## Keras\n",
        "from keras import regularizers\n",
        "from keras.callbacks import ModelCheckpoint, LearningRateScheduler, EarlyStopping\n",
        "from keras.callbacks import  History, ReduceLROnPlateau, CSVLogger\n",
        "from keras.models import Model, Sequential\n",
        "from keras.layers import Dense, Embedding, LSTM\n",
        "from keras.layers import Input, Flatten, Dropout, Activation, BatchNormalization\n",
        "from keras.layers import Conv1D, MaxPooling1D, AveragePooling1D\n",
        "from keras.preprocessing import sequence\n",
        "from keras.preprocessing.sequence import pad_sequences\n",
        "from keras.preprocessing.text import Tokenizer\n",
        "from keras.utils import np_utils\n",
        "from tensorflow.keras.utils import to_categorical\n",
        "\n",
        "## Sklearn\n",
        "from sklearn.metrics import confusion_matrix\n",
        "from sklearn.preprocessing import LabelEncoder\n",
        "\n",
        "## Rest\n",
        "from scipy.fftpack import fft\n",
        "from scipy import signal\n",
        "from scipy.io import wavfile\n",
        "from tqdm import tqdm\n",
        "\n",
        "input_duration=3\n",
        "# % pylab inline"
      ],
      "execution_count": 3,
      "outputs": [
        {
          "output_type": "display_data",
          "data": {
            "text/html": [
              "        <script type=\"text/javascript\">\n",
              "        window.PlotlyConfig = {MathJaxConfig: 'local'};\n",
              "        if (window.MathJax) {MathJax.Hub.Config({SVG: {font: \"STIX-Web\"}});}\n",
              "        if (typeof require !== 'undefined') {\n",
              "        require.undef(\"plotly\");\n",
              "        requirejs.config({\n",
              "            paths: {\n",
              "                'plotly': ['https://cdn.plot.ly/plotly-2.8.3.min']\n",
              "            }\n",
              "        });\n",
              "        require(['plotly'], function(Plotly) {\n",
              "            window._Plotly = Plotly;\n",
              "        });\n",
              "        }\n",
              "        </script>\n",
              "        "
            ]
          },
          "metadata": {}
        }
      ]
    },
    {
      "cell_type": "code",
      "source": [
        "#radvass speech and song\n",
        "import time\n",
        "import os\n",
        "import librosa\n",
        "from librosa import display\n",
        "import matplotlib.pyplot as plt\n",
        "\n",
        "count=0\n",
        "path1 = '/content/drive/MyDrive/RAVDESS_speech'\n",
        "path2 = '/content/drive/MyDrive/RAVDESS_song'\n",
        "\n",
        "lst = []\n",
        "\n",
        "start_time = time.time()\n",
        "\n",
        "for subdir, dirs, files in os.walk(path2):\n",
        "  print(dirs)\n",
        "  print(subdir)\n",
        "  #print(files)\n",
        "  for file in files:\n",
        "      try:\n",
        "        count +=1\n",
        "        #Load librosa array, obtain mfcss, store the file and the mcss information in a new array\n",
        "        X, sample_rate = librosa.load(os.path.join(subdir,file), res_type='kaiser_fast')\n",
        "        mfccs = np.mean(librosa.feature.mfcc(y=X, sr=sample_rate, n_mfcc=40).T,axis=0) \n",
        "        # The instruction below converts the labels (from 1 to 8) to a series from 0 to 7\n",
        "        # This is because our predictor needs to start from 0 otherwise it will try to predict also 0.\n",
        "        file = int(file[7:8]) - 1 \n",
        "        arr = mfccs, file\n",
        "        lst.append(arr)\n",
        "      # If the file is not valid, skip it\n",
        "      except ValueError:\n",
        "        continue\n",
        "\n",
        "for subdir, dirs, files in os.walk(path1):\n",
        "  print(dirs)\n",
        "  print(subdir)\n",
        " # print(files)\n",
        "  for file in files:\n",
        "      try:\n",
        "        #Load librosa array, obtain mfcss, store the file and the mcss information in a new array\n",
        "        X, sample_rate = librosa.load(os.path.join(subdir,file), res_type='kaiser_fast')\n",
        "        mfccs = np.mean(librosa.feature.mfcc(y=X, sr=sample_rate, n_mfcc=40).T,axis=0) \n",
        "        # The instruction below converts the labels (from 1 to 8) to a series from 0 to 7\n",
        "        # This is because our predictor needs to start from 0 otherwise it will try to predict also 0.\n",
        "        file = int(file[7:8]) - 1 \n",
        "        if(file ==6 or file==7):\n",
        "          continue\n",
        "        count +=1\n",
        "        arr = mfccs, file\n",
        "        lst.append(arr)\n",
        "      # If the file is not valid, skip it\n",
        "      except ValueError:\n",
        "        continue\n",
        "\n",
        "\n",
        "\n",
        "print(\"--- Data loaded. Loading time: %s seconds ---\" % (time.time() - start_time))"
      ],
      "metadata": {
        "colab": {
          "base_uri": "https://localhost:8080/"
        },
        "id": "IfuyRZl42ccZ",
        "outputId": "66f8cdc3-5d6d-41ee-e6bc-b798dbbdf203"
      },
      "execution_count": 4,
      "outputs": [
        {
          "output_type": "stream",
          "name": "stdout",
          "text": [
            "['Actor_10', 'Actor_11', 'Actor_13', 'Actor_12', 'Actor_14', 'Actor_15', 'Actor_16', 'Actor_17', 'Actor_18', 'Actor_19', 'Actor_21', 'Actor_22', 'Actor_23', 'Actor_09', 'Actor_24', 'Actor_04', 'Actor_08', 'Actor_03', 'Actor_02', 'Actor_06', 'Actor_05', 'Actor_01', 'Actor_07', 'Actor_20']\n",
            "/content/drive/MyDrive/RAVDESS_song\n",
            "[]\n",
            "/content/drive/MyDrive/RAVDESS_song/Actor_10\n",
            "[]\n",
            "/content/drive/MyDrive/RAVDESS_song/Actor_11\n",
            "[]\n",
            "/content/drive/MyDrive/RAVDESS_song/Actor_13\n",
            "[]\n",
            "/content/drive/MyDrive/RAVDESS_song/Actor_12\n",
            "[]\n",
            "/content/drive/MyDrive/RAVDESS_song/Actor_14\n",
            "[]\n",
            "/content/drive/MyDrive/RAVDESS_song/Actor_15\n",
            "[]\n",
            "/content/drive/MyDrive/RAVDESS_song/Actor_16\n",
            "[]\n",
            "/content/drive/MyDrive/RAVDESS_song/Actor_17\n",
            "[]\n",
            "/content/drive/MyDrive/RAVDESS_song/Actor_18\n",
            "[]\n",
            "/content/drive/MyDrive/RAVDESS_song/Actor_19\n",
            "[]\n",
            "/content/drive/MyDrive/RAVDESS_song/Actor_21\n",
            "[]\n",
            "/content/drive/MyDrive/RAVDESS_song/Actor_22\n",
            "[]\n",
            "/content/drive/MyDrive/RAVDESS_song/Actor_23\n",
            "[]\n",
            "/content/drive/MyDrive/RAVDESS_song/Actor_09\n",
            "[]\n",
            "/content/drive/MyDrive/RAVDESS_song/Actor_24\n",
            "[]\n",
            "/content/drive/MyDrive/RAVDESS_song/Actor_04\n",
            "[]\n",
            "/content/drive/MyDrive/RAVDESS_song/Actor_08\n",
            "[]\n",
            "/content/drive/MyDrive/RAVDESS_song/Actor_03\n",
            "[]\n",
            "/content/drive/MyDrive/RAVDESS_song/Actor_02\n",
            "[]\n",
            "/content/drive/MyDrive/RAVDESS_song/Actor_06\n",
            "[]\n",
            "/content/drive/MyDrive/RAVDESS_song/Actor_05\n",
            "[]\n",
            "/content/drive/MyDrive/RAVDESS_song/Actor_01\n",
            "[]\n",
            "/content/drive/MyDrive/RAVDESS_song/Actor_07\n",
            "[]\n",
            "/content/drive/MyDrive/RAVDESS_song/Actor_20\n",
            "['Actor_05', 'Actor_08', 'Actor_10', 'Actor_04', 'Actor_09', 'Actor_14', 'Actor_12', 'Actor_13', 'Actor_11', 'Actor_06', 'Actor_24', 'Actor_07', 'Actor_23', 'Actor_22', 'Actor_21', 'Actor_20', 'Actor_02', 'Actor_19', 'Actor_18', 'Actor_17', 'Actor_16', 'Actor_15', 'Actor_03', 'Actor_01']\n",
            "/content/drive/MyDrive/RAVDESS_speech\n",
            "[]\n",
            "/content/drive/MyDrive/RAVDESS_speech/Actor_05\n",
            "[]\n",
            "/content/drive/MyDrive/RAVDESS_speech/Actor_08\n",
            "[]\n",
            "/content/drive/MyDrive/RAVDESS_speech/Actor_10\n",
            "[]\n",
            "/content/drive/MyDrive/RAVDESS_speech/Actor_04\n",
            "[]\n",
            "/content/drive/MyDrive/RAVDESS_speech/Actor_09\n",
            "[]\n",
            "/content/drive/MyDrive/RAVDESS_speech/Actor_14\n",
            "[]\n",
            "/content/drive/MyDrive/RAVDESS_speech/Actor_12\n",
            "[]\n",
            "/content/drive/MyDrive/RAVDESS_speech/Actor_13\n",
            "[]\n",
            "/content/drive/MyDrive/RAVDESS_speech/Actor_11\n",
            "[]\n",
            "/content/drive/MyDrive/RAVDESS_speech/Actor_06\n",
            "[]\n",
            "/content/drive/MyDrive/RAVDESS_speech/Actor_24\n",
            "[]\n",
            "/content/drive/MyDrive/RAVDESS_speech/Actor_07\n",
            "[]\n",
            "/content/drive/MyDrive/RAVDESS_speech/Actor_23\n",
            "[]\n",
            "/content/drive/MyDrive/RAVDESS_speech/Actor_22\n",
            "[]\n",
            "/content/drive/MyDrive/RAVDESS_speech/Actor_21\n",
            "[]\n",
            "/content/drive/MyDrive/RAVDESS_speech/Actor_20\n",
            "[]\n",
            "/content/drive/MyDrive/RAVDESS_speech/Actor_02\n",
            "[]\n",
            "/content/drive/MyDrive/RAVDESS_speech/Actor_19\n",
            "[]\n",
            "/content/drive/MyDrive/RAVDESS_speech/Actor_18\n",
            "[]\n",
            "/content/drive/MyDrive/RAVDESS_speech/Actor_17\n",
            "[]\n",
            "/content/drive/MyDrive/RAVDESS_speech/Actor_16\n",
            "[]\n",
            "/content/drive/MyDrive/RAVDESS_speech/Actor_15\n",
            "[]\n",
            "/content/drive/MyDrive/RAVDESS_speech/Actor_03\n",
            "[]\n",
            "/content/drive/MyDrive/RAVDESS_speech/Actor_01\n",
            "--- Data loaded. Loading time: 206.6898136138916 seconds ---\n"
          ]
        }
      ]
    },
    {
      "cell_type": "code",
      "source": [
        "count"
      ],
      "metadata": {
        "id": "Ltlhi25L2AI5",
        "colab": {
          "base_uri": "https://localhost:8080/"
        },
        "outputId": "f3a59640-307a-4d52-d23c-749ab7626954"
      },
      "execution_count": 5,
      "outputs": [
        {
          "output_type": "execute_result",
          "data": {
            "text/plain": [
              "2068"
            ]
          },
          "metadata": {},
          "execution_count": 5
        }
      ]
    },
    {
      "cell_type": "code",
      "source": [
        "from numpy.core.fromnumeric import size\n",
        "size(lst)"
      ],
      "metadata": {
        "id": "HMOH7d7mzHB7",
        "colab": {
          "base_uri": "https://localhost:8080/"
        },
        "outputId": "5ad65242-5263-4653-ba93-6e06c071efdc"
      },
      "execution_count": 6,
      "outputs": [
        {
          "output_type": "stream",
          "name": "stderr",
          "text": [
            "/usr/local/lib/python3.7/dist-packages/numpy/core/fromnumeric.py:3208: VisibleDeprecationWarning:\n",
            "\n",
            "Creating an ndarray from ragged nested sequences (which is a list-or-tuple of lists-or-tuples-or ndarrays with different lengths or shapes) is deprecated. If you meant to do this, you must specify 'dtype=object' when creating the ndarray.\n",
            "\n"
          ]
        },
        {
          "output_type": "execute_result",
          "data": {
            "text/plain": [
              "4136"
            ]
          },
          "metadata": {},
          "execution_count": 6
        }
      ]
    },
    {
      "cell_type": "code",
      "source": [
        "# Creating X and y: zip makes a list of all the first elements, and a list of all the second elements.\n",
        "X, y = zip(*lst)"
      ],
      "metadata": {
        "id": "ocdL7tSTBoMt"
      },
      "execution_count": 7,
      "outputs": []
    },
    {
      "cell_type": "code",
      "source": [
        "import numpy as np\n",
        "X = np.asarray(X)\n",
        "y = np.asarray(y)\n",
        "X.shape, y.shape"
      ],
      "metadata": {
        "id": "vHKwUGTbBtnF",
        "colab": {
          "base_uri": "https://localhost:8080/"
        },
        "outputId": "420f098f-0ac3-47e1-afb7-c4dedb757991"
      },
      "execution_count": 8,
      "outputs": [
        {
          "output_type": "execute_result",
          "data": {
            "text/plain": [
              "((2068, 40), (2068,))"
            ]
          },
          "metadata": {},
          "execution_count": 8
        }
      ]
    },
    {
      "cell_type": "code",
      "source": [
        "X.shape"
      ],
      "metadata": {
        "id": "2sUCtbfMztE5",
        "colab": {
          "base_uri": "https://localhost:8080/"
        },
        "outputId": "929a233d-645b-47b6-a608-3dc0281e6af8"
      },
      "execution_count": 9,
      "outputs": [
        {
          "output_type": "execute_result",
          "data": {
            "text/plain": [
              "(2068, 40)"
            ]
          },
          "metadata": {},
          "execution_count": 9
        }
      ]
    },
    {
      "cell_type": "code",
      "source": [
        "# # Saving joblib files to not load them again with the loop above\n",
        "\n",
        "# import joblib\n",
        "\n",
        "# X_name = 'x.joblib'\n",
        "# y_name = 'y.joblib'\n",
        "# save_dir = '/content/drive/My Drive/graduation project/audio/paper_code/features'\n",
        "\n",
        "# savedX = joblib.dump(X, os.path.join(save_dir, X_name))\n",
        "# savedy = joblib.dump(y, os.path.join(save_dir, y_name))"
      ],
      "metadata": {
        "id": "UCzic8rlDcuk"
      },
      "execution_count": 10,
      "outputs": []
    },
    {
      "cell_type": "code",
      "source": [
        "# # Loading saved models\n",
        "# import joblib\n",
        "# X = joblib.load('/content/drive/My Drive/graduation project/audio/paper_code/features/x.joblib')\n",
        "# y = joblib.load('/content/drive/My Drive/graduation project/audio/paper_code/features/y.joblib')"
      ],
      "metadata": {
        "id": "Q35CN6zDrzg1"
      },
      "execution_count": 11,
      "outputs": []
    },
    {
      "cell_type": "code",
      "source": [
        "X.shape"
      ],
      "metadata": {
        "colab": {
          "base_uri": "https://localhost:8080/"
        },
        "id": "7PSTurzjCo5K",
        "outputId": "6104bcdb-1dfc-40c5-c86d-8356a8c00444"
      },
      "execution_count": 12,
      "outputs": [
        {
          "output_type": "execute_result",
          "data": {
            "text/plain": [
              "(2068, 40)"
            ]
          },
          "metadata": {},
          "execution_count": 12
        }
      ]
    },
    {
      "cell_type": "code",
      "source": [
        "from sklearn.model_selection import train_test_split\n",
        "\n",
        "X_train, X_test, y_train, y_test = train_test_split(X,y, test_size=0.2,train_size=0.8, random_state=42)\n",
        "X_valid, X_test, y_valid, y_test = train_test_split(X_test,y_test, test_size=0.5,train_size=0.5, random_state=42)"
      ],
      "metadata": {
        "id": "Ai4Fy5cPCiq1"
      },
      "execution_count": 13,
      "outputs": []
    },
    {
      "cell_type": "code",
      "source": [
        "import numpy as np\n",
        "x_traincnn = np.expand_dims(X_train, axis=2)\n",
        "x_testcnn = np.expand_dims(X_test, axis=2)\n",
        "X_valid= np.expand_dims(X_valid, axis=2)"
      ],
      "metadata": {
        "id": "tp1Fm5K3CEXu"
      },
      "execution_count": 14,
      "outputs": []
    },
    {
      "cell_type": "code",
      "source": [
        "x_traincnn.shape, x_testcnn.shape , X_valid.shape"
      ],
      "metadata": {
        "id": "RI0MxoIPBws5",
        "colab": {
          "base_uri": "https://localhost:8080/"
        },
        "outputId": "9093537b-65c8-43a0-861d-360750aef9a1"
      },
      "execution_count": 15,
      "outputs": [
        {
          "output_type": "execute_result",
          "data": {
            "text/plain": [
              "((1654, 40, 1), (207, 40, 1), (207, 40, 1))"
            ]
          },
          "metadata": {},
          "execution_count": 15
        }
      ]
    },
    {
      "cell_type": "code",
      "source": [
        "!pip install tensorflow"
      ],
      "metadata": {
        "id": "goxL4Y3jKICC",
        "colab": {
          "base_uri": "https://localhost:8080/"
        },
        "outputId": "21c133f4-3f98-4cf8-8c18-975ae6b2d403"
      },
      "execution_count": 16,
      "outputs": [
        {
          "output_type": "stream",
          "name": "stdout",
          "text": [
            "Looking in indexes: https://pypi.org/simple, https://us-python.pkg.dev/colab-wheels/public/simple/\n",
            "Requirement already satisfied: tensorflow in /usr/local/lib/python3.7/dist-packages (2.8.2+zzzcolab20220527125636)\n",
            "Requirement already satisfied: astunparse>=1.6.0 in /usr/local/lib/python3.7/dist-packages (from tensorflow) (1.6.3)\n",
            "Requirement already satisfied: tensorboard<2.9,>=2.8 in /usr/local/lib/python3.7/dist-packages (from tensorflow) (2.8.0)\n",
            "Requirement already satisfied: protobuf<3.20,>=3.9.2 in /usr/local/lib/python3.7/dist-packages (from tensorflow) (3.17.3)\n",
            "Requirement already satisfied: opt-einsum>=2.3.2 in /usr/local/lib/python3.7/dist-packages (from tensorflow) (3.3.0)\n",
            "Requirement already satisfied: gast>=0.2.1 in /usr/local/lib/python3.7/dist-packages (from tensorflow) (0.5.3)\n",
            "Requirement already satisfied: typing-extensions>=3.6.6 in /usr/local/lib/python3.7/dist-packages (from tensorflow) (4.2.0)\n",
            "Requirement already satisfied: absl-py>=0.4.0 in /usr/local/lib/python3.7/dist-packages (from tensorflow) (1.0.0)\n",
            "Requirement already satisfied: flatbuffers>=1.12 in /usr/local/lib/python3.7/dist-packages (from tensorflow) (2.0)\n",
            "Requirement already satisfied: h5py>=2.9.0 in /usr/local/lib/python3.7/dist-packages (from tensorflow) (3.1.0)\n",
            "Requirement already satisfied: tensorflow-estimator<2.9,>=2.8 in /usr/local/lib/python3.7/dist-packages (from tensorflow) (2.8.0)\n",
            "Requirement already satisfied: google-pasta>=0.1.1 in /usr/local/lib/python3.7/dist-packages (from tensorflow) (0.2.0)\n",
            "Requirement already satisfied: libclang>=9.0.1 in /usr/local/lib/python3.7/dist-packages (from tensorflow) (14.0.1)\n",
            "Requirement already satisfied: grpcio<2.0,>=1.24.3 in /usr/local/lib/python3.7/dist-packages (from tensorflow) (1.46.3)\n",
            "Requirement already satisfied: six>=1.12.0 in /usr/local/lib/python3.7/dist-packages (from tensorflow) (1.15.0)\n",
            "Requirement already satisfied: termcolor>=1.1.0 in /usr/local/lib/python3.7/dist-packages (from tensorflow) (1.1.0)\n",
            "Requirement already satisfied: numpy>=1.20 in /usr/local/lib/python3.7/dist-packages (from tensorflow) (1.21.6)\n",
            "Requirement already satisfied: setuptools in /usr/local/lib/python3.7/dist-packages (from tensorflow) (57.4.0)\n",
            "Requirement already satisfied: wrapt>=1.11.0 in /usr/local/lib/python3.7/dist-packages (from tensorflow) (1.14.1)\n",
            "Requirement already satisfied: keras-preprocessing>=1.1.1 in /usr/local/lib/python3.7/dist-packages (from tensorflow) (1.1.2)\n",
            "Requirement already satisfied: keras<2.9,>=2.8.0rc0 in /usr/local/lib/python3.7/dist-packages (from tensorflow) (2.8.0)\n",
            "Requirement already satisfied: tensorflow-io-gcs-filesystem>=0.23.1 in /usr/local/lib/python3.7/dist-packages (from tensorflow) (0.26.0)\n",
            "Requirement already satisfied: wheel<1.0,>=0.23.0 in /usr/local/lib/python3.7/dist-packages (from astunparse>=1.6.0->tensorflow) (0.37.1)\n",
            "Requirement already satisfied: cached-property in /usr/local/lib/python3.7/dist-packages (from h5py>=2.9.0->tensorflow) (1.5.2)\n",
            "Requirement already satisfied: google-auth-oauthlib<0.5,>=0.4.1 in /usr/local/lib/python3.7/dist-packages (from tensorboard<2.9,>=2.8->tensorflow) (0.4.6)\n",
            "Requirement already satisfied: tensorboard-plugin-wit>=1.6.0 in /usr/local/lib/python3.7/dist-packages (from tensorboard<2.9,>=2.8->tensorflow) (1.8.1)\n",
            "Requirement already satisfied: tensorboard-data-server<0.7.0,>=0.6.0 in /usr/local/lib/python3.7/dist-packages (from tensorboard<2.9,>=2.8->tensorflow) (0.6.1)\n",
            "Requirement already satisfied: google-auth<3,>=1.6.3 in /usr/local/lib/python3.7/dist-packages (from tensorboard<2.9,>=2.8->tensorflow) (1.35.0)\n",
            "Requirement already satisfied: werkzeug>=0.11.15 in /usr/local/lib/python3.7/dist-packages (from tensorboard<2.9,>=2.8->tensorflow) (1.0.1)\n",
            "Requirement already satisfied: markdown>=2.6.8 in /usr/local/lib/python3.7/dist-packages (from tensorboard<2.9,>=2.8->tensorflow) (3.3.7)\n",
            "Requirement already satisfied: requests<3,>=2.21.0 in /usr/local/lib/python3.7/dist-packages (from tensorboard<2.9,>=2.8->tensorflow) (2.23.0)\n",
            "Requirement already satisfied: cachetools<5.0,>=2.0.0 in /usr/local/lib/python3.7/dist-packages (from google-auth<3,>=1.6.3->tensorboard<2.9,>=2.8->tensorflow) (4.2.4)\n",
            "Requirement already satisfied: rsa<5,>=3.1.4 in /usr/local/lib/python3.7/dist-packages (from google-auth<3,>=1.6.3->tensorboard<2.9,>=2.8->tensorflow) (4.8)\n",
            "Requirement already satisfied: pyasn1-modules>=0.2.1 in /usr/local/lib/python3.7/dist-packages (from google-auth<3,>=1.6.3->tensorboard<2.9,>=2.8->tensorflow) (0.2.8)\n",
            "Requirement already satisfied: requests-oauthlib>=0.7.0 in /usr/local/lib/python3.7/dist-packages (from google-auth-oauthlib<0.5,>=0.4.1->tensorboard<2.9,>=2.8->tensorflow) (1.3.1)\n",
            "Requirement already satisfied: importlib-metadata>=4.4 in /usr/local/lib/python3.7/dist-packages (from markdown>=2.6.8->tensorboard<2.9,>=2.8->tensorflow) (4.11.4)\n",
            "Requirement already satisfied: zipp>=0.5 in /usr/local/lib/python3.7/dist-packages (from importlib-metadata>=4.4->markdown>=2.6.8->tensorboard<2.9,>=2.8->tensorflow) (3.8.0)\n",
            "Requirement already satisfied: pyasn1<0.5.0,>=0.4.6 in /usr/local/lib/python3.7/dist-packages (from pyasn1-modules>=0.2.1->google-auth<3,>=1.6.3->tensorboard<2.9,>=2.8->tensorflow) (0.4.8)\n",
            "Requirement already satisfied: urllib3!=1.25.0,!=1.25.1,<1.26,>=1.21.1 in /usr/local/lib/python3.7/dist-packages (from requests<3,>=2.21.0->tensorboard<2.9,>=2.8->tensorflow) (1.24.3)\n",
            "Requirement already satisfied: idna<3,>=2.5 in /usr/local/lib/python3.7/dist-packages (from requests<3,>=2.21.0->tensorboard<2.9,>=2.8->tensorflow) (2.10)\n",
            "Requirement already satisfied: chardet<4,>=3.0.2 in /usr/local/lib/python3.7/dist-packages (from requests<3,>=2.21.0->tensorboard<2.9,>=2.8->tensorflow) (3.0.4)\n",
            "Requirement already satisfied: certifi>=2017.4.17 in /usr/local/lib/python3.7/dist-packages (from requests<3,>=2.21.0->tensorboard<2.9,>=2.8->tensorflow) (2022.5.18.1)\n",
            "Requirement already satisfied: oauthlib>=3.0.0 in /usr/local/lib/python3.7/dist-packages (from requests-oauthlib>=0.7.0->google-auth-oauthlib<0.5,>=0.4.1->tensorboard<2.9,>=2.8->tensorflow) (3.2.0)\n"
          ]
        }
      ]
    },
    {
      "cell_type": "code",
      "source": [
        "!pip install keras"
      ],
      "metadata": {
        "id": "EkcmN9UrKSxj",
        "colab": {
          "base_uri": "https://localhost:8080/"
        },
        "outputId": "a3ec1dc4-6f4a-40eb-906c-d63ef78d9f56"
      },
      "execution_count": 17,
      "outputs": [
        {
          "output_type": "stream",
          "name": "stdout",
          "text": [
            "Looking in indexes: https://pypi.org/simple, https://us-python.pkg.dev/colab-wheels/public/simple/\n",
            "Requirement already satisfied: keras in /usr/local/lib/python3.7/dist-packages (2.8.0)\n"
          ]
        }
      ]
    },
    {
      "cell_type": "code",
      "source": [
        "import keras\n",
        "import numpy as np\n",
        "import matplotlib.pyplot as plt\n",
        "import tensorflow as tf\n",
        "from keras.preprocessing import sequence\n",
        "from keras.models import Sequential\n",
        "from keras.layers import Dense, Embedding\n",
        "from tensorflow.keras.utils import to_categorical\n",
        "from keras.layers import Input, Flatten, Dropout, Activation\n",
        "from keras.layers import Conv1D, MaxPooling1D\n",
        "from keras.models import Model\n",
        "from keras.callbacks import ModelCheckpoint\n",
        "from tensorflow.keras import optimizers\n",
        "\n",
        "model = Sequential()\n",
        "\n",
        "model.add(Conv1D(128, 8,padding='same', #classifier.add(Convolution2D(64, (3, 3), padding = 'same', input_shape = (128, 128, 3), activation = 'relu'))\n",
        "                 input_shape=(40,1)))\n",
        "model.add(Activation('relu'))\n",
        "model.add(Dropout(0.3))\n",
        "model.add(MaxPooling1D(pool_size=(5)))\n",
        "\n",
        "\n",
        "model.add(Conv1D(256,8,padding='same',))\n",
        "model.add(Activation('relu'))\n",
        "model.add(Dropout(0.3))\n",
        "model.add(MaxPooling1D(pool_size=(5)))\n",
        "\n",
        "model.add(Flatten())\n",
        "\n",
        "model.add(Dense(256))\n",
        "model.add(Activation('relu'))\n",
        "model.add(Dense(256))\n",
        "model.add(Activation('relu'))\n",
        "\n",
        "model.add(Dense(6))\n",
        "model.add(Activation('softmax'))\n",
        "\n",
        "#opt = tf.keras.optimizers.Adam(lr=0.00002)\n",
        "opt = tf.keras.optimizers.RMSprop(lr=0.0001, rho=0.9, epsilon=1e-07, decay=0.0)\n",
        "#opt = tf.keras.optimizers.SGD(lr=0.001, momentum=0.0, decay=0.0, nesterov=False)"
      ],
      "metadata": {
        "id": "g74fXWVAC4Cr",
        "colab": {
          "base_uri": "https://localhost:8080/"
        },
        "outputId": "f9e70559-cbb7-431b-f058-d84751a779d3"
      },
      "execution_count": 18,
      "outputs": [
        {
          "output_type": "stream",
          "name": "stderr",
          "text": [
            "/usr/local/lib/python3.7/dist-packages/keras/optimizer_v2/rmsprop.py:130: UserWarning:\n",
            "\n",
            "The `lr` argument is deprecated, use `learning_rate` instead.\n",
            "\n"
          ]
        }
      ]
    },
    {
      "cell_type": "code",
      "source": [
        "model.summary()"
      ],
      "metadata": {
        "colab": {
          "base_uri": "https://localhost:8080/"
        },
        "id": "H6ukOxAGC_I4",
        "outputId": "0b838b2c-2155-4a35-ed2a-ef4e066ac5fe"
      },
      "execution_count": 19,
      "outputs": [
        {
          "output_type": "stream",
          "name": "stdout",
          "text": [
            "Model: \"sequential\"\n",
            "_________________________________________________________________\n",
            " Layer (type)                Output Shape              Param #   \n",
            "=================================================================\n",
            " conv1d (Conv1D)             (None, 40, 128)           1152      \n",
            "                                                                 \n",
            " activation (Activation)     (None, 40, 128)           0         \n",
            "                                                                 \n",
            " dropout (Dropout)           (None, 40, 128)           0         \n",
            "                                                                 \n",
            " max_pooling1d (MaxPooling1D  (None, 8, 128)           0         \n",
            " )                                                               \n",
            "                                                                 \n",
            " conv1d_1 (Conv1D)           (None, 8, 256)            262400    \n",
            "                                                                 \n",
            " activation_1 (Activation)   (None, 8, 256)            0         \n",
            "                                                                 \n",
            " dropout_1 (Dropout)         (None, 8, 256)            0         \n",
            "                                                                 \n",
            " max_pooling1d_1 (MaxPooling  (None, 1, 256)           0         \n",
            " 1D)                                                             \n",
            "                                                                 \n",
            " flatten (Flatten)           (None, 256)               0         \n",
            "                                                                 \n",
            " dense (Dense)               (None, 256)               65792     \n",
            "                                                                 \n",
            " activation_2 (Activation)   (None, 256)               0         \n",
            "                                                                 \n",
            " dense_1 (Dense)             (None, 256)               65792     \n",
            "                                                                 \n",
            " activation_3 (Activation)   (None, 256)               0         \n",
            "                                                                 \n",
            " dense_2 (Dense)             (None, 6)                 1542      \n",
            "                                                                 \n",
            " activation_4 (Activation)   (None, 6)                 0         \n",
            "                                                                 \n",
            "=================================================================\n",
            "Total params: 396,678\n",
            "Trainable params: 396,678\n",
            "Non-trainable params: 0\n",
            "_________________________________________________________________\n"
          ]
        }
      ]
    },
    {
      "cell_type": "code",
      "source": [
        "model.compile(loss='sparse_categorical_crossentropy',\n",
        "              optimizer=opt,\n",
        "              metrics=['accuracy'])"
      ],
      "metadata": {
        "id": "AbMlLNk4DCBM"
      },
      "execution_count": 20,
      "outputs": []
    },
    {
      "cell_type": "code",
      "source": [
        "#cnnhistory=model.fit(x_traincnn, y_train, batch_size=16, epochs=700, validation_data=(x_testcnn, y_test))\n",
        "cnnhistory=model.fit(x_traincnn, y_train, batch_size=16, epochs=500 , validation_data=(X_valid, y_valid))"
      ],
      "metadata": {
        "colab": {
          "base_uri": "https://localhost:8080/"
        },
        "id": "RI1v2AuADFhy",
        "outputId": "86bdac70-6407-415d-b494-2b4f14a9f53a"
      },
      "execution_count": 21,
      "outputs": [
        {
          "output_type": "stream",
          "name": "stdout",
          "text": [
            "Epoch 1/500\n",
            "104/104 [==============================] - 4s 11ms/step - loss: 5.0731 - accuracy: 0.1923 - val_loss: 2.3661 - val_accuracy: 0.2029\n",
            "Epoch 2/500\n",
            "104/104 [==============================] - 1s 8ms/step - loss: 3.0654 - accuracy: 0.1941 - val_loss: 1.8426 - val_accuracy: 0.1594\n",
            "Epoch 3/500\n",
            "104/104 [==============================] - 1s 8ms/step - loss: 2.5686 - accuracy: 0.2056 - val_loss: 1.8305 - val_accuracy: 0.1787\n",
            "Epoch 4/500\n",
            "104/104 [==============================] - 1s 9ms/step - loss: 2.3045 - accuracy: 0.2044 - val_loss: 1.8270 - val_accuracy: 0.2029\n",
            "Epoch 5/500\n",
            "104/104 [==============================] - 1s 9ms/step - loss: 2.1098 - accuracy: 0.2273 - val_loss: 1.9737 - val_accuracy: 0.1739\n",
            "Epoch 6/500\n",
            "104/104 [==============================] - 1s 8ms/step - loss: 2.0377 - accuracy: 0.2195 - val_loss: 1.7036 - val_accuracy: 0.2899\n",
            "Epoch 7/500\n",
            "104/104 [==============================] - 1s 8ms/step - loss: 1.9658 - accuracy: 0.2297 - val_loss: 1.6915 - val_accuracy: 0.2319\n",
            "Epoch 8/500\n",
            "104/104 [==============================] - 1s 8ms/step - loss: 1.9222 - accuracy: 0.2443 - val_loss: 1.6391 - val_accuracy: 0.3333\n",
            "Epoch 9/500\n",
            "104/104 [==============================] - 1s 8ms/step - loss: 1.8577 - accuracy: 0.2497 - val_loss: 1.6606 - val_accuracy: 0.2319\n",
            "Epoch 10/500\n",
            "104/104 [==============================] - 1s 8ms/step - loss: 1.8396 - accuracy: 0.2539 - val_loss: 1.7429 - val_accuracy: 0.1932\n",
            "Epoch 11/500\n",
            "104/104 [==============================] - 1s 8ms/step - loss: 1.8437 - accuracy: 0.2376 - val_loss: 1.6858 - val_accuracy: 0.2512\n",
            "Epoch 12/500\n",
            "104/104 [==============================] - 1s 8ms/step - loss: 1.8091 - accuracy: 0.2642 - val_loss: 1.7722 - val_accuracy: 0.2464\n",
            "Epoch 13/500\n",
            "104/104 [==============================] - 1s 11ms/step - loss: 1.7821 - accuracy: 0.2684 - val_loss: 1.6331 - val_accuracy: 0.3140\n",
            "Epoch 14/500\n",
            "104/104 [==============================] - 1s 13ms/step - loss: 1.7439 - accuracy: 0.2830 - val_loss: 1.6758 - val_accuracy: 0.2464\n",
            "Epoch 15/500\n",
            "104/104 [==============================] - 1s 12ms/step - loss: 1.7193 - accuracy: 0.2950 - val_loss: 1.6153 - val_accuracy: 0.3043\n",
            "Epoch 16/500\n",
            "104/104 [==============================] - 1s 14ms/step - loss: 1.7031 - accuracy: 0.3102 - val_loss: 1.6033 - val_accuracy: 0.3575\n",
            "Epoch 17/500\n",
            "104/104 [==============================] - 1s 11ms/step - loss: 1.7079 - accuracy: 0.2902 - val_loss: 1.5421 - val_accuracy: 0.3092\n",
            "Epoch 18/500\n",
            "104/104 [==============================] - 1s 9ms/step - loss: 1.6514 - accuracy: 0.3235 - val_loss: 1.5210 - val_accuracy: 0.3382\n",
            "Epoch 19/500\n",
            "104/104 [==============================] - 1s 8ms/step - loss: 1.6447 - accuracy: 0.3138 - val_loss: 1.6061 - val_accuracy: 0.3092\n",
            "Epoch 20/500\n",
            "104/104 [==============================] - 1s 9ms/step - loss: 1.6082 - accuracy: 0.3368 - val_loss: 1.5671 - val_accuracy: 0.3913\n",
            "Epoch 21/500\n",
            "104/104 [==============================] - 1s 8ms/step - loss: 1.6041 - accuracy: 0.3422 - val_loss: 1.5184 - val_accuracy: 0.4106\n",
            "Epoch 22/500\n",
            "104/104 [==============================] - 1s 9ms/step - loss: 1.5801 - accuracy: 0.3652 - val_loss: 1.6230 - val_accuracy: 0.2802\n",
            "Epoch 23/500\n",
            "104/104 [==============================] - 1s 8ms/step - loss: 1.5738 - accuracy: 0.3573 - val_loss: 1.5183 - val_accuracy: 0.3527\n",
            "Epoch 24/500\n",
            "104/104 [==============================] - 1s 8ms/step - loss: 1.5421 - accuracy: 0.3797 - val_loss: 1.4715 - val_accuracy: 0.4396\n",
            "Epoch 25/500\n",
            "104/104 [==============================] - 1s 9ms/step - loss: 1.5211 - accuracy: 0.3857 - val_loss: 1.4373 - val_accuracy: 0.4251\n",
            "Epoch 26/500\n",
            "104/104 [==============================] - 1s 8ms/step - loss: 1.5034 - accuracy: 0.3839 - val_loss: 1.4681 - val_accuracy: 0.3961\n",
            "Epoch 27/500\n",
            "104/104 [==============================] - 1s 8ms/step - loss: 1.4987 - accuracy: 0.3797 - val_loss: 1.3669 - val_accuracy: 0.4589\n",
            "Epoch 28/500\n",
            "104/104 [==============================] - 1s 8ms/step - loss: 1.4693 - accuracy: 0.3918 - val_loss: 1.4269 - val_accuracy: 0.4348\n",
            "Epoch 29/500\n",
            "104/104 [==============================] - 1s 8ms/step - loss: 1.4259 - accuracy: 0.4135 - val_loss: 1.3587 - val_accuracy: 0.4686\n",
            "Epoch 30/500\n",
            "104/104 [==============================] - 1s 8ms/step - loss: 1.4344 - accuracy: 0.4105 - val_loss: 1.3629 - val_accuracy: 0.4734\n",
            "Epoch 31/500\n",
            "104/104 [==============================] - 1s 8ms/step - loss: 1.4393 - accuracy: 0.4039 - val_loss: 1.3730 - val_accuracy: 0.4589\n",
            "Epoch 32/500\n",
            "104/104 [==============================] - 1s 8ms/step - loss: 1.4065 - accuracy: 0.4389 - val_loss: 1.3681 - val_accuracy: 0.4928\n",
            "Epoch 33/500\n",
            "104/104 [==============================] - 1s 7ms/step - loss: 1.3692 - accuracy: 0.4407 - val_loss: 1.3059 - val_accuracy: 0.4928\n",
            "Epoch 34/500\n",
            "104/104 [==============================] - 1s 7ms/step - loss: 1.3708 - accuracy: 0.4480 - val_loss: 1.2718 - val_accuracy: 0.5169\n",
            "Epoch 35/500\n",
            "104/104 [==============================] - 1s 7ms/step - loss: 1.3553 - accuracy: 0.4462 - val_loss: 1.2294 - val_accuracy: 0.5024\n",
            "Epoch 36/500\n",
            "104/104 [==============================] - 1s 5ms/step - loss: 1.3470 - accuracy: 0.4510 - val_loss: 1.2278 - val_accuracy: 0.5411\n",
            "Epoch 37/500\n",
            "104/104 [==============================] - 1s 5ms/step - loss: 1.3410 - accuracy: 0.4347 - val_loss: 1.3536 - val_accuracy: 0.4686\n",
            "Epoch 38/500\n",
            "104/104 [==============================] - 1s 5ms/step - loss: 1.3158 - accuracy: 0.4704 - val_loss: 1.2282 - val_accuracy: 0.5169\n",
            "Epoch 39/500\n",
            "104/104 [==============================] - 0s 5ms/step - loss: 1.3043 - accuracy: 0.4583 - val_loss: 1.1920 - val_accuracy: 0.5556\n",
            "Epoch 40/500\n",
            "104/104 [==============================] - 1s 5ms/step - loss: 1.2790 - accuracy: 0.4740 - val_loss: 1.2258 - val_accuracy: 0.4783\n",
            "Epoch 41/500\n",
            "104/104 [==============================] - 0s 5ms/step - loss: 1.2863 - accuracy: 0.4825 - val_loss: 1.3139 - val_accuracy: 0.4686\n",
            "Epoch 42/500\n",
            "104/104 [==============================] - 1s 5ms/step - loss: 1.2752 - accuracy: 0.4819 - val_loss: 1.1794 - val_accuracy: 0.4879\n",
            "Epoch 43/500\n",
            "104/104 [==============================] - 1s 5ms/step - loss: 1.2499 - accuracy: 0.5036 - val_loss: 1.1646 - val_accuracy: 0.5990\n",
            "Epoch 44/500\n",
            "104/104 [==============================] - 0s 5ms/step - loss: 1.2332 - accuracy: 0.4970 - val_loss: 1.1480 - val_accuracy: 0.5894\n",
            "Epoch 45/500\n",
            "104/104 [==============================] - 0s 5ms/step - loss: 1.2183 - accuracy: 0.5109 - val_loss: 1.2958 - val_accuracy: 0.4396\n",
            "Epoch 46/500\n",
            "104/104 [==============================] - 0s 5ms/step - loss: 1.2063 - accuracy: 0.4976 - val_loss: 1.1769 - val_accuracy: 0.4928\n",
            "Epoch 47/500\n",
            "104/104 [==============================] - 1s 5ms/step - loss: 1.2233 - accuracy: 0.5036 - val_loss: 1.1707 - val_accuracy: 0.5266\n",
            "Epoch 48/500\n",
            "104/104 [==============================] - 1s 5ms/step - loss: 1.1837 - accuracy: 0.5091 - val_loss: 1.1502 - val_accuracy: 0.5314\n",
            "Epoch 49/500\n",
            "104/104 [==============================] - 0s 5ms/step - loss: 1.1913 - accuracy: 0.5097 - val_loss: 1.1323 - val_accuracy: 0.5700\n",
            "Epoch 50/500\n",
            "104/104 [==============================] - 1s 5ms/step - loss: 1.1952 - accuracy: 0.5193 - val_loss: 1.1678 - val_accuracy: 0.5121\n",
            "Epoch 51/500\n",
            "104/104 [==============================] - 1s 5ms/step - loss: 1.1431 - accuracy: 0.5284 - val_loss: 1.0936 - val_accuracy: 0.6184\n",
            "Epoch 52/500\n",
            "104/104 [==============================] - 1s 5ms/step - loss: 1.1654 - accuracy: 0.5139 - val_loss: 1.0528 - val_accuracy: 0.6377\n",
            "Epoch 53/500\n",
            "104/104 [==============================] - 0s 5ms/step - loss: 1.1329 - accuracy: 0.5453 - val_loss: 1.0386 - val_accuracy: 0.6280\n",
            "Epoch 54/500\n",
            "104/104 [==============================] - 0s 5ms/step - loss: 1.1210 - accuracy: 0.5387 - val_loss: 1.0433 - val_accuracy: 0.5942\n",
            "Epoch 55/500\n",
            "104/104 [==============================] - 0s 5ms/step - loss: 1.1427 - accuracy: 0.5381 - val_loss: 1.0250 - val_accuracy: 0.6184\n",
            "Epoch 56/500\n",
            "104/104 [==============================] - 0s 5ms/step - loss: 1.1296 - accuracy: 0.5405 - val_loss: 1.0121 - val_accuracy: 0.6522\n",
            "Epoch 57/500\n",
            "104/104 [==============================] - 1s 5ms/step - loss: 1.1012 - accuracy: 0.5580 - val_loss: 1.0789 - val_accuracy: 0.5459\n",
            "Epoch 58/500\n",
            "104/104 [==============================] - 1s 5ms/step - loss: 1.1078 - accuracy: 0.5423 - val_loss: 1.0718 - val_accuracy: 0.6039\n",
            "Epoch 59/500\n",
            "104/104 [==============================] - 1s 5ms/step - loss: 1.0763 - accuracy: 0.5659 - val_loss: 1.0219 - val_accuracy: 0.5894\n",
            "Epoch 60/500\n",
            "104/104 [==============================] - 1s 5ms/step - loss: 1.0646 - accuracy: 0.5732 - val_loss: 1.0406 - val_accuracy: 0.5845\n",
            "Epoch 61/500\n",
            "104/104 [==============================] - 1s 5ms/step - loss: 1.0868 - accuracy: 0.5623 - val_loss: 1.0133 - val_accuracy: 0.5845\n",
            "Epoch 62/500\n",
            "104/104 [==============================] - 1s 5ms/step - loss: 1.0805 - accuracy: 0.5508 - val_loss: 1.0129 - val_accuracy: 0.6039\n",
            "Epoch 63/500\n",
            "104/104 [==============================] - 1s 5ms/step - loss: 1.0651 - accuracy: 0.5647 - val_loss: 0.9786 - val_accuracy: 0.6280\n",
            "Epoch 64/500\n",
            "104/104 [==============================] - 0s 5ms/step - loss: 1.0154 - accuracy: 0.5889 - val_loss: 1.0496 - val_accuracy: 0.5411\n",
            "Epoch 65/500\n",
            "104/104 [==============================] - 1s 5ms/step - loss: 1.0598 - accuracy: 0.5526 - val_loss: 0.9937 - val_accuracy: 0.5845\n",
            "Epoch 66/500\n",
            "104/104 [==============================] - 1s 5ms/step - loss: 1.0339 - accuracy: 0.5877 - val_loss: 1.0170 - val_accuracy: 0.5942\n",
            "Epoch 67/500\n",
            "104/104 [==============================] - 1s 5ms/step - loss: 1.0356 - accuracy: 0.5907 - val_loss: 0.9871 - val_accuracy: 0.5942\n",
            "Epoch 68/500\n",
            "104/104 [==============================] - 0s 5ms/step - loss: 1.0063 - accuracy: 0.5871 - val_loss: 1.0168 - val_accuracy: 0.6184\n",
            "Epoch 69/500\n",
            "104/104 [==============================] - 0s 5ms/step - loss: 1.0131 - accuracy: 0.5846 - val_loss: 1.0059 - val_accuracy: 0.6618\n",
            "Epoch 70/500\n",
            "104/104 [==============================] - 1s 5ms/step - loss: 0.9947 - accuracy: 0.5943 - val_loss: 0.9253 - val_accuracy: 0.6618\n",
            "Epoch 71/500\n",
            "104/104 [==============================] - 1s 5ms/step - loss: 1.0083 - accuracy: 0.6082 - val_loss: 0.9621 - val_accuracy: 0.6184\n",
            "Epoch 72/500\n",
            "104/104 [==============================] - 1s 5ms/step - loss: 0.9853 - accuracy: 0.6034 - val_loss: 0.9318 - val_accuracy: 0.6812\n",
            "Epoch 73/500\n",
            "104/104 [==============================] - 1s 5ms/step - loss: 0.9711 - accuracy: 0.6004 - val_loss: 0.9212 - val_accuracy: 0.6425\n",
            "Epoch 74/500\n",
            "104/104 [==============================] - 1s 5ms/step - loss: 0.9467 - accuracy: 0.6233 - val_loss: 1.0022 - val_accuracy: 0.5942\n",
            "Epoch 75/500\n",
            "104/104 [==============================] - 1s 5ms/step - loss: 0.9373 - accuracy: 0.6475 - val_loss: 0.8985 - val_accuracy: 0.6522\n",
            "Epoch 76/500\n",
            "104/104 [==============================] - 0s 5ms/step - loss: 0.9699 - accuracy: 0.6106 - val_loss: 0.9470 - val_accuracy: 0.6232\n",
            "Epoch 77/500\n",
            "104/104 [==============================] - 0s 5ms/step - loss: 0.9387 - accuracy: 0.6167 - val_loss: 0.9729 - val_accuracy: 0.6184\n",
            "Epoch 78/500\n",
            "104/104 [==============================] - 0s 5ms/step - loss: 0.9393 - accuracy: 0.6245 - val_loss: 0.9176 - val_accuracy: 0.6667\n",
            "Epoch 79/500\n",
            "104/104 [==============================] - 0s 5ms/step - loss: 0.9345 - accuracy: 0.6209 - val_loss: 0.8979 - val_accuracy: 0.6425\n",
            "Epoch 80/500\n",
            "104/104 [==============================] - 0s 5ms/step - loss: 0.9449 - accuracy: 0.6209 - val_loss: 0.9728 - val_accuracy: 0.6329\n",
            "Epoch 81/500\n",
            "104/104 [==============================] - 1s 5ms/step - loss: 0.9193 - accuracy: 0.6342 - val_loss: 0.9574 - val_accuracy: 0.6232\n",
            "Epoch 82/500\n",
            "104/104 [==============================] - 1s 5ms/step - loss: 0.9447 - accuracy: 0.6227 - val_loss: 0.9368 - val_accuracy: 0.6280\n",
            "Epoch 83/500\n",
            "104/104 [==============================] - 1s 5ms/step - loss: 0.8978 - accuracy: 0.6342 - val_loss: 0.8993 - val_accuracy: 0.6715\n",
            "Epoch 84/500\n",
            "104/104 [==============================] - 1s 5ms/step - loss: 0.9047 - accuracy: 0.6415 - val_loss: 0.9074 - val_accuracy: 0.6715\n",
            "Epoch 85/500\n",
            "104/104 [==============================] - 1s 5ms/step - loss: 0.8944 - accuracy: 0.6391 - val_loss: 0.8696 - val_accuracy: 0.6908\n",
            "Epoch 86/500\n",
            "104/104 [==============================] - 0s 5ms/step - loss: 0.9116 - accuracy: 0.6433 - val_loss: 0.8727 - val_accuracy: 0.7005\n",
            "Epoch 87/500\n",
            "104/104 [==============================] - 1s 5ms/step - loss: 0.8946 - accuracy: 0.6372 - val_loss: 0.9194 - val_accuracy: 0.6425\n",
            "Epoch 88/500\n",
            "104/104 [==============================] - 1s 5ms/step - loss: 0.8975 - accuracy: 0.6499 - val_loss: 0.8968 - val_accuracy: 0.6522\n",
            "Epoch 89/500\n",
            "104/104 [==============================] - 1s 5ms/step - loss: 0.8841 - accuracy: 0.6481 - val_loss: 0.9083 - val_accuracy: 0.6425\n",
            "Epoch 90/500\n",
            "104/104 [==============================] - 0s 5ms/step - loss: 0.8570 - accuracy: 0.6445 - val_loss: 0.8630 - val_accuracy: 0.6715\n",
            "Epoch 91/500\n",
            "104/104 [==============================] - 1s 5ms/step - loss: 0.8544 - accuracy: 0.6578 - val_loss: 0.8878 - val_accuracy: 0.6473\n",
            "Epoch 92/500\n",
            "104/104 [==============================] - 1s 5ms/step - loss: 0.8614 - accuracy: 0.6554 - val_loss: 0.8901 - val_accuracy: 0.6618\n",
            "Epoch 93/500\n",
            "104/104 [==============================] - 1s 5ms/step - loss: 0.8676 - accuracy: 0.6499 - val_loss: 0.9336 - val_accuracy: 0.6087\n",
            "Epoch 94/500\n",
            "104/104 [==============================] - 1s 5ms/step - loss: 0.8624 - accuracy: 0.6590 - val_loss: 0.8831 - val_accuracy: 0.6570\n",
            "Epoch 95/500\n",
            "104/104 [==============================] - 1s 5ms/step - loss: 0.8688 - accuracy: 0.6620 - val_loss: 0.8869 - val_accuracy: 0.6473\n",
            "Epoch 96/500\n",
            "104/104 [==============================] - 1s 5ms/step - loss: 0.8376 - accuracy: 0.6651 - val_loss: 0.9106 - val_accuracy: 0.6377\n",
            "Epoch 97/500\n",
            "104/104 [==============================] - 0s 5ms/step - loss: 0.8248 - accuracy: 0.6771 - val_loss: 0.8861 - val_accuracy: 0.6377\n",
            "Epoch 98/500\n",
            "104/104 [==============================] - 0s 5ms/step - loss: 0.8143 - accuracy: 0.6663 - val_loss: 0.9177 - val_accuracy: 0.5990\n",
            "Epoch 99/500\n",
            "104/104 [==============================] - 1s 5ms/step - loss: 0.8243 - accuracy: 0.6808 - val_loss: 0.8673 - val_accuracy: 0.6667\n",
            "Epoch 100/500\n",
            "104/104 [==============================] - 1s 5ms/step - loss: 0.8382 - accuracy: 0.6566 - val_loss: 0.9035 - val_accuracy: 0.6425\n",
            "Epoch 101/500\n",
            "104/104 [==============================] - 1s 5ms/step - loss: 0.8159 - accuracy: 0.6620 - val_loss: 0.8320 - val_accuracy: 0.6667\n",
            "Epoch 102/500\n",
            "104/104 [==============================] - 1s 5ms/step - loss: 0.8027 - accuracy: 0.6886 - val_loss: 0.8529 - val_accuracy: 0.6812\n",
            "Epoch 103/500\n",
            "104/104 [==============================] - 1s 5ms/step - loss: 0.8203 - accuracy: 0.6826 - val_loss: 0.8358 - val_accuracy: 0.6957\n",
            "Epoch 104/500\n",
            "104/104 [==============================] - 1s 5ms/step - loss: 0.7879 - accuracy: 0.6862 - val_loss: 0.8817 - val_accuracy: 0.6618\n",
            "Epoch 105/500\n",
            "104/104 [==============================] - 1s 5ms/step - loss: 0.8098 - accuracy: 0.6705 - val_loss: 0.8590 - val_accuracy: 0.6570\n",
            "Epoch 106/500\n",
            "104/104 [==============================] - 1s 5ms/step - loss: 0.7935 - accuracy: 0.6838 - val_loss: 0.8372 - val_accuracy: 0.7101\n",
            "Epoch 107/500\n",
            "104/104 [==============================] - 1s 5ms/step - loss: 0.7770 - accuracy: 0.6947 - val_loss: 0.9636 - val_accuracy: 0.5797\n",
            "Epoch 108/500\n",
            "104/104 [==============================] - 1s 5ms/step - loss: 0.7656 - accuracy: 0.6953 - val_loss: 0.8360 - val_accuracy: 0.6667\n",
            "Epoch 109/500\n",
            "104/104 [==============================] - 0s 5ms/step - loss: 0.7606 - accuracy: 0.6850 - val_loss: 0.8209 - val_accuracy: 0.7005\n",
            "Epoch 110/500\n",
            "104/104 [==============================] - 1s 5ms/step - loss: 0.7728 - accuracy: 0.6959 - val_loss: 0.8380 - val_accuracy: 0.6377\n",
            "Epoch 111/500\n",
            "104/104 [==============================] - 1s 5ms/step - loss: 0.7816 - accuracy: 0.6820 - val_loss: 0.8262 - val_accuracy: 0.6667\n",
            "Epoch 112/500\n",
            "104/104 [==============================] - 1s 5ms/step - loss: 0.7849 - accuracy: 0.6917 - val_loss: 0.8037 - val_accuracy: 0.6957\n",
            "Epoch 113/500\n",
            "104/104 [==============================] - 1s 5ms/step - loss: 0.7907 - accuracy: 0.6935 - val_loss: 0.8104 - val_accuracy: 0.6957\n",
            "Epoch 114/500\n",
            "104/104 [==============================] - 1s 5ms/step - loss: 0.7516 - accuracy: 0.7001 - val_loss: 0.8082 - val_accuracy: 0.7005\n",
            "Epoch 115/500\n",
            "104/104 [==============================] - 1s 5ms/step - loss: 0.7558 - accuracy: 0.7056 - val_loss: 0.7840 - val_accuracy: 0.6812\n",
            "Epoch 116/500\n",
            "104/104 [==============================] - 1s 5ms/step - loss: 0.7320 - accuracy: 0.6989 - val_loss: 0.8137 - val_accuracy: 0.6618\n",
            "Epoch 117/500\n",
            "104/104 [==============================] - 1s 5ms/step - loss: 0.7395 - accuracy: 0.6995 - val_loss: 0.8745 - val_accuracy: 0.6377\n",
            "Epoch 118/500\n",
            "104/104 [==============================] - 1s 5ms/step - loss: 0.7551 - accuracy: 0.6989 - val_loss: 0.7875 - val_accuracy: 0.7053\n",
            "Epoch 119/500\n",
            "104/104 [==============================] - 1s 5ms/step - loss: 0.7290 - accuracy: 0.7098 - val_loss: 0.8821 - val_accuracy: 0.6184\n",
            "Epoch 120/500\n",
            "104/104 [==============================] - 1s 5ms/step - loss: 0.7319 - accuracy: 0.7098 - val_loss: 0.9103 - val_accuracy: 0.6618\n",
            "Epoch 121/500\n",
            "104/104 [==============================] - 1s 5ms/step - loss: 0.7361 - accuracy: 0.7086 - val_loss: 0.7972 - val_accuracy: 0.6957\n",
            "Epoch 122/500\n",
            "104/104 [==============================] - 1s 5ms/step - loss: 0.7424 - accuracy: 0.6971 - val_loss: 0.8186 - val_accuracy: 0.6860\n",
            "Epoch 123/500\n",
            "104/104 [==============================] - 1s 5ms/step - loss: 0.7139 - accuracy: 0.7122 - val_loss: 0.8013 - val_accuracy: 0.6860\n",
            "Epoch 124/500\n",
            "104/104 [==============================] - 0s 5ms/step - loss: 0.7207 - accuracy: 0.7201 - val_loss: 0.8127 - val_accuracy: 0.6763\n",
            "Epoch 125/500\n",
            "104/104 [==============================] - 1s 5ms/step - loss: 0.7204 - accuracy: 0.7086 - val_loss: 0.8099 - val_accuracy: 0.7053\n",
            "Epoch 126/500\n",
            "104/104 [==============================] - 0s 5ms/step - loss: 0.7155 - accuracy: 0.7080 - val_loss: 0.7977 - val_accuracy: 0.6908\n",
            "Epoch 127/500\n",
            "104/104 [==============================] - 1s 5ms/step - loss: 0.7178 - accuracy: 0.7037 - val_loss: 0.7697 - val_accuracy: 0.6860\n",
            "Epoch 128/500\n",
            "104/104 [==============================] - 1s 10ms/step - loss: 0.6940 - accuracy: 0.7291 - val_loss: 0.7903 - val_accuracy: 0.7053\n",
            "Epoch 129/500\n",
            "104/104 [==============================] - 1s 7ms/step - loss: 0.7068 - accuracy: 0.7195 - val_loss: 0.8167 - val_accuracy: 0.6425\n",
            "Epoch 130/500\n",
            "104/104 [==============================] - 1s 10ms/step - loss: 0.6851 - accuracy: 0.7273 - val_loss: 0.8003 - val_accuracy: 0.6860\n",
            "Epoch 131/500\n",
            "104/104 [==============================] - 1s 6ms/step - loss: 0.6760 - accuracy: 0.7346 - val_loss: 0.7603 - val_accuracy: 0.7198\n",
            "Epoch 132/500\n",
            "104/104 [==============================] - 1s 9ms/step - loss: 0.7229 - accuracy: 0.7122 - val_loss: 0.8225 - val_accuracy: 0.6667\n",
            "Epoch 133/500\n",
            "104/104 [==============================] - 1s 7ms/step - loss: 0.6833 - accuracy: 0.7285 - val_loss: 0.7801 - val_accuracy: 0.6763\n",
            "Epoch 134/500\n",
            "104/104 [==============================] - 1s 5ms/step - loss: 0.6918 - accuracy: 0.7364 - val_loss: 0.7786 - val_accuracy: 0.6908\n",
            "Epoch 135/500\n",
            "104/104 [==============================] - 1s 5ms/step - loss: 0.6917 - accuracy: 0.7364 - val_loss: 0.8573 - val_accuracy: 0.6618\n",
            "Epoch 136/500\n",
            "104/104 [==============================] - 1s 5ms/step - loss: 0.6929 - accuracy: 0.7316 - val_loss: 0.8490 - val_accuracy: 0.6763\n",
            "Epoch 137/500\n",
            "104/104 [==============================] - 1s 5ms/step - loss: 0.6616 - accuracy: 0.7400 - val_loss: 0.7627 - val_accuracy: 0.6908\n",
            "Epoch 138/500\n",
            "104/104 [==============================] - 1s 5ms/step - loss: 0.6631 - accuracy: 0.7267 - val_loss: 0.8273 - val_accuracy: 0.6473\n",
            "Epoch 139/500\n",
            "104/104 [==============================] - 1s 5ms/step - loss: 0.6788 - accuracy: 0.7267 - val_loss: 0.7955 - val_accuracy: 0.7150\n",
            "Epoch 140/500\n",
            "104/104 [==============================] - 1s 5ms/step - loss: 0.6466 - accuracy: 0.7364 - val_loss: 0.7658 - val_accuracy: 0.6957\n",
            "Epoch 141/500\n",
            "104/104 [==============================] - 1s 5ms/step - loss: 0.6425 - accuracy: 0.7521 - val_loss: 0.7495 - val_accuracy: 0.7246\n",
            "Epoch 142/500\n",
            "104/104 [==============================] - 1s 5ms/step - loss: 0.6391 - accuracy: 0.7600 - val_loss: 0.8095 - val_accuracy: 0.6667\n",
            "Epoch 143/500\n",
            "104/104 [==============================] - 1s 5ms/step - loss: 0.6540 - accuracy: 0.7412 - val_loss: 0.7870 - val_accuracy: 0.6812\n",
            "Epoch 144/500\n",
            "104/104 [==============================] - 1s 5ms/step - loss: 0.6384 - accuracy: 0.7563 - val_loss: 0.7547 - val_accuracy: 0.6812\n",
            "Epoch 145/500\n",
            "104/104 [==============================] - 1s 5ms/step - loss: 0.6452 - accuracy: 0.7400 - val_loss: 0.8040 - val_accuracy: 0.6522\n",
            "Epoch 146/500\n",
            "104/104 [==============================] - 1s 5ms/step - loss: 0.6369 - accuracy: 0.7563 - val_loss: 0.7613 - val_accuracy: 0.7005\n",
            "Epoch 147/500\n",
            "104/104 [==============================] - 1s 5ms/step - loss: 0.6253 - accuracy: 0.7491 - val_loss: 0.7394 - val_accuracy: 0.7053\n",
            "Epoch 148/500\n",
            "104/104 [==============================] - 1s 5ms/step - loss: 0.6423 - accuracy: 0.7449 - val_loss: 0.8087 - val_accuracy: 0.6522\n",
            "Epoch 149/500\n",
            "104/104 [==============================] - 1s 5ms/step - loss: 0.6521 - accuracy: 0.7340 - val_loss: 0.8007 - val_accuracy: 0.6812\n",
            "Epoch 150/500\n",
            "104/104 [==============================] - 1s 5ms/step - loss: 0.6258 - accuracy: 0.7588 - val_loss: 0.7536 - val_accuracy: 0.7150\n",
            "Epoch 151/500\n",
            "104/104 [==============================] - 1s 5ms/step - loss: 0.6080 - accuracy: 0.7672 - val_loss: 0.7596 - val_accuracy: 0.6860\n",
            "Epoch 152/500\n",
            "104/104 [==============================] - 1s 5ms/step - loss: 0.5873 - accuracy: 0.7551 - val_loss: 0.7303 - val_accuracy: 0.7198\n",
            "Epoch 153/500\n",
            "104/104 [==============================] - 1s 5ms/step - loss: 0.6216 - accuracy: 0.7666 - val_loss: 0.7751 - val_accuracy: 0.6667\n",
            "Epoch 154/500\n",
            "104/104 [==============================] - 1s 5ms/step - loss: 0.6151 - accuracy: 0.7648 - val_loss: 0.7698 - val_accuracy: 0.6908\n",
            "Epoch 155/500\n",
            "104/104 [==============================] - 1s 5ms/step - loss: 0.6115 - accuracy: 0.7509 - val_loss: 0.7995 - val_accuracy: 0.6908\n",
            "Epoch 156/500\n",
            "104/104 [==============================] - 1s 5ms/step - loss: 0.6029 - accuracy: 0.7618 - val_loss: 0.8067 - val_accuracy: 0.6763\n",
            "Epoch 157/500\n",
            "104/104 [==============================] - 1s 5ms/step - loss: 0.5893 - accuracy: 0.7636 - val_loss: 0.7173 - val_accuracy: 0.7391\n",
            "Epoch 158/500\n",
            "104/104 [==============================] - 1s 5ms/step - loss: 0.5888 - accuracy: 0.7709 - val_loss: 0.7774 - val_accuracy: 0.6860\n",
            "Epoch 159/500\n",
            "104/104 [==============================] - 1s 5ms/step - loss: 0.5991 - accuracy: 0.7709 - val_loss: 0.7531 - val_accuracy: 0.6957\n",
            "Epoch 160/500\n",
            "104/104 [==============================] - 1s 5ms/step - loss: 0.5757 - accuracy: 0.7684 - val_loss: 0.7592 - val_accuracy: 0.6860\n",
            "Epoch 161/500\n",
            "104/104 [==============================] - 1s 5ms/step - loss: 0.5755 - accuracy: 0.7823 - val_loss: 0.7396 - val_accuracy: 0.7198\n",
            "Epoch 162/500\n",
            "104/104 [==============================] - 1s 5ms/step - loss: 0.5727 - accuracy: 0.7811 - val_loss: 0.7187 - val_accuracy: 0.7246\n",
            "Epoch 163/500\n",
            "104/104 [==============================] - 1s 5ms/step - loss: 0.5849 - accuracy: 0.7763 - val_loss: 0.7841 - val_accuracy: 0.6860\n",
            "Epoch 164/500\n",
            "104/104 [==============================] - 1s 5ms/step - loss: 0.5750 - accuracy: 0.7733 - val_loss: 0.7560 - val_accuracy: 0.6957\n",
            "Epoch 165/500\n",
            "104/104 [==============================] - 1s 5ms/step - loss: 0.5783 - accuracy: 0.7763 - val_loss: 0.7381 - val_accuracy: 0.7005\n",
            "Epoch 166/500\n",
            "104/104 [==============================] - 1s 5ms/step - loss: 0.5896 - accuracy: 0.7709 - val_loss: 0.7531 - val_accuracy: 0.7150\n",
            "Epoch 167/500\n",
            "104/104 [==============================] - 1s 5ms/step - loss: 0.5627 - accuracy: 0.7830 - val_loss: 0.7103 - val_accuracy: 0.6715\n",
            "Epoch 168/500\n",
            "104/104 [==============================] - 1s 5ms/step - loss: 0.5590 - accuracy: 0.7769 - val_loss: 0.7311 - val_accuracy: 0.7150\n",
            "Epoch 169/500\n",
            "104/104 [==============================] - 1s 5ms/step - loss: 0.5367 - accuracy: 0.7932 - val_loss: 0.7687 - val_accuracy: 0.6860\n",
            "Epoch 170/500\n",
            "104/104 [==============================] - 1s 5ms/step - loss: 0.5275 - accuracy: 0.8071 - val_loss: 0.7148 - val_accuracy: 0.7101\n",
            "Epoch 171/500\n",
            "104/104 [==============================] - 1s 5ms/step - loss: 0.5560 - accuracy: 0.7715 - val_loss: 0.6969 - val_accuracy: 0.7295\n",
            "Epoch 172/500\n",
            "104/104 [==============================] - 1s 5ms/step - loss: 0.5509 - accuracy: 0.7902 - val_loss: 0.7119 - val_accuracy: 0.6763\n",
            "Epoch 173/500\n",
            "104/104 [==============================] - 1s 5ms/step - loss: 0.5622 - accuracy: 0.7769 - val_loss: 0.7127 - val_accuracy: 0.7343\n",
            "Epoch 174/500\n",
            "104/104 [==============================] - 1s 6ms/step - loss: 0.5446 - accuracy: 0.7842 - val_loss: 0.7319 - val_accuracy: 0.7295\n",
            "Epoch 175/500\n",
            "104/104 [==============================] - 1s 5ms/step - loss: 0.5303 - accuracy: 0.7956 - val_loss: 0.7014 - val_accuracy: 0.7246\n",
            "Epoch 176/500\n",
            "104/104 [==============================] - 1s 5ms/step - loss: 0.5374 - accuracy: 0.7944 - val_loss: 0.7315 - val_accuracy: 0.7053\n",
            "Epoch 177/500\n",
            "104/104 [==============================] - 1s 5ms/step - loss: 0.5383 - accuracy: 0.7866 - val_loss: 0.7444 - val_accuracy: 0.6908\n",
            "Epoch 178/500\n",
            "104/104 [==============================] - 1s 5ms/step - loss: 0.5372 - accuracy: 0.7926 - val_loss: 0.6906 - val_accuracy: 0.7343\n",
            "Epoch 179/500\n",
            "104/104 [==============================] - 0s 5ms/step - loss: 0.5335 - accuracy: 0.7932 - val_loss: 0.7105 - val_accuracy: 0.6957\n",
            "Epoch 180/500\n",
            "104/104 [==============================] - 1s 5ms/step - loss: 0.5346 - accuracy: 0.7944 - val_loss: 0.7733 - val_accuracy: 0.6618\n",
            "Epoch 181/500\n",
            "104/104 [==============================] - 1s 5ms/step - loss: 0.5002 - accuracy: 0.8041 - val_loss: 0.6815 - val_accuracy: 0.7101\n",
            "Epoch 182/500\n",
            "104/104 [==============================] - 1s 5ms/step - loss: 0.5205 - accuracy: 0.7920 - val_loss: 0.6771 - val_accuracy: 0.7150\n",
            "Epoch 183/500\n",
            "104/104 [==============================] - 1s 5ms/step - loss: 0.5110 - accuracy: 0.8035 - val_loss: 0.7199 - val_accuracy: 0.7343\n",
            "Epoch 184/500\n",
            "104/104 [==============================] - 1s 5ms/step - loss: 0.5307 - accuracy: 0.7932 - val_loss: 0.6934 - val_accuracy: 0.7101\n",
            "Epoch 185/500\n",
            "104/104 [==============================] - 1s 5ms/step - loss: 0.5253 - accuracy: 0.7981 - val_loss: 0.6688 - val_accuracy: 0.7198\n",
            "Epoch 186/500\n",
            "104/104 [==============================] - 1s 5ms/step - loss: 0.5040 - accuracy: 0.8096 - val_loss: 0.6873 - val_accuracy: 0.7343\n",
            "Epoch 187/500\n",
            "104/104 [==============================] - 1s 5ms/step - loss: 0.4854 - accuracy: 0.8041 - val_loss: 0.6926 - val_accuracy: 0.7536\n",
            "Epoch 188/500\n",
            "104/104 [==============================] - 1s 5ms/step - loss: 0.4969 - accuracy: 0.8065 - val_loss: 0.7291 - val_accuracy: 0.7053\n",
            "Epoch 189/500\n",
            "104/104 [==============================] - 1s 5ms/step - loss: 0.5068 - accuracy: 0.8053 - val_loss: 0.7221 - val_accuracy: 0.7198\n",
            "Epoch 190/500\n",
            "104/104 [==============================] - 1s 5ms/step - loss: 0.4882 - accuracy: 0.8120 - val_loss: 0.7356 - val_accuracy: 0.7150\n",
            "Epoch 191/500\n",
            "104/104 [==============================] - 1s 5ms/step - loss: 0.5113 - accuracy: 0.8071 - val_loss: 0.6706 - val_accuracy: 0.7488\n",
            "Epoch 192/500\n",
            "104/104 [==============================] - 1s 5ms/step - loss: 0.4904 - accuracy: 0.8120 - val_loss: 0.7261 - val_accuracy: 0.7005\n",
            "Epoch 193/500\n",
            "104/104 [==============================] - 1s 5ms/step - loss: 0.4678 - accuracy: 0.8235 - val_loss: 0.6958 - val_accuracy: 0.6908\n",
            "Epoch 194/500\n",
            "104/104 [==============================] - 0s 5ms/step - loss: 0.4921 - accuracy: 0.8005 - val_loss: 0.7477 - val_accuracy: 0.6812\n",
            "Epoch 195/500\n",
            "104/104 [==============================] - 1s 5ms/step - loss: 0.4870 - accuracy: 0.8102 - val_loss: 0.6719 - val_accuracy: 0.7101\n",
            "Epoch 196/500\n",
            "104/104 [==============================] - 1s 5ms/step - loss: 0.4728 - accuracy: 0.8216 - val_loss: 0.7264 - val_accuracy: 0.6957\n",
            "Epoch 197/500\n",
            "104/104 [==============================] - 1s 5ms/step - loss: 0.4830 - accuracy: 0.8259 - val_loss: 0.7523 - val_accuracy: 0.6715\n",
            "Epoch 198/500\n",
            "104/104 [==============================] - 1s 5ms/step - loss: 0.4807 - accuracy: 0.8156 - val_loss: 0.6891 - val_accuracy: 0.7440\n",
            "Epoch 199/500\n",
            "104/104 [==============================] - 1s 5ms/step - loss: 0.4654 - accuracy: 0.8132 - val_loss: 0.7078 - val_accuracy: 0.6957\n",
            "Epoch 200/500\n",
            "104/104 [==============================] - 1s 5ms/step - loss: 0.4763 - accuracy: 0.8156 - val_loss: 0.6642 - val_accuracy: 0.7633\n",
            "Epoch 201/500\n",
            "104/104 [==============================] - 1s 5ms/step - loss: 0.4673 - accuracy: 0.8192 - val_loss: 0.7257 - val_accuracy: 0.7150\n",
            "Epoch 202/500\n",
            "104/104 [==============================] - 1s 5ms/step - loss: 0.4522 - accuracy: 0.8271 - val_loss: 0.6446 - val_accuracy: 0.7536\n",
            "Epoch 203/500\n",
            "104/104 [==============================] - 1s 5ms/step - loss: 0.4658 - accuracy: 0.8319 - val_loss: 0.6481 - val_accuracy: 0.7440\n",
            "Epoch 204/500\n",
            "104/104 [==============================] - 1s 5ms/step - loss: 0.4529 - accuracy: 0.8277 - val_loss: 0.6602 - val_accuracy: 0.7585\n",
            "Epoch 205/500\n",
            "104/104 [==============================] - 1s 5ms/step - loss: 0.4348 - accuracy: 0.8368 - val_loss: 0.7246 - val_accuracy: 0.7198\n",
            "Epoch 206/500\n",
            "104/104 [==============================] - 1s 5ms/step - loss: 0.4472 - accuracy: 0.8241 - val_loss: 0.7179 - val_accuracy: 0.7246\n",
            "Epoch 207/500\n",
            "104/104 [==============================] - 1s 5ms/step - loss: 0.4662 - accuracy: 0.8198 - val_loss: 0.6783 - val_accuracy: 0.7585\n",
            "Epoch 208/500\n",
            "104/104 [==============================] - 1s 5ms/step - loss: 0.4437 - accuracy: 0.8307 - val_loss: 0.7580 - val_accuracy: 0.7053\n",
            "Epoch 209/500\n",
            "104/104 [==============================] - 1s 5ms/step - loss: 0.4324 - accuracy: 0.8386 - val_loss: 0.7041 - val_accuracy: 0.7150\n",
            "Epoch 210/500\n",
            "104/104 [==============================] - 1s 5ms/step - loss: 0.4524 - accuracy: 0.8247 - val_loss: 0.7004 - val_accuracy: 0.7150\n",
            "Epoch 211/500\n",
            "104/104 [==============================] - 1s 5ms/step - loss: 0.4536 - accuracy: 0.8277 - val_loss: 0.6386 - val_accuracy: 0.7536\n",
            "Epoch 212/500\n",
            "104/104 [==============================] - 1s 5ms/step - loss: 0.4383 - accuracy: 0.8349 - val_loss: 0.6938 - val_accuracy: 0.7101\n",
            "Epoch 213/500\n",
            "104/104 [==============================] - 1s 5ms/step - loss: 0.4204 - accuracy: 0.8349 - val_loss: 0.6919 - val_accuracy: 0.7101\n",
            "Epoch 214/500\n",
            "104/104 [==============================] - 1s 5ms/step - loss: 0.4349 - accuracy: 0.8247 - val_loss: 0.6231 - val_accuracy: 0.7633\n",
            "Epoch 215/500\n",
            "104/104 [==============================] - 1s 5ms/step - loss: 0.4160 - accuracy: 0.8356 - val_loss: 0.7009 - val_accuracy: 0.7343\n",
            "Epoch 216/500\n",
            "104/104 [==============================] - 1s 5ms/step - loss: 0.4396 - accuracy: 0.8301 - val_loss: 0.6435 - val_accuracy: 0.7440\n",
            "Epoch 217/500\n",
            "104/104 [==============================] - 1s 5ms/step - loss: 0.4188 - accuracy: 0.8392 - val_loss: 0.6375 - val_accuracy: 0.7681\n",
            "Epoch 218/500\n",
            "104/104 [==============================] - 1s 5ms/step - loss: 0.4172 - accuracy: 0.8537 - val_loss: 0.6947 - val_accuracy: 0.7295\n",
            "Epoch 219/500\n",
            "104/104 [==============================] - 1s 5ms/step - loss: 0.4412 - accuracy: 0.8277 - val_loss: 0.6567 - val_accuracy: 0.7391\n",
            "Epoch 220/500\n",
            "104/104 [==============================] - 1s 5ms/step - loss: 0.4119 - accuracy: 0.8404 - val_loss: 0.6307 - val_accuracy: 0.7391\n",
            "Epoch 221/500\n",
            "104/104 [==============================] - 1s 5ms/step - loss: 0.4086 - accuracy: 0.8386 - val_loss: 0.6491 - val_accuracy: 0.7633\n",
            "Epoch 222/500\n",
            "104/104 [==============================] - 1s 6ms/step - loss: 0.4215 - accuracy: 0.8386 - val_loss: 0.6605 - val_accuracy: 0.7536\n",
            "Epoch 223/500\n",
            "104/104 [==============================] - 1s 6ms/step - loss: 0.4235 - accuracy: 0.8398 - val_loss: 0.6283 - val_accuracy: 0.7343\n",
            "Epoch 224/500\n",
            "104/104 [==============================] - 1s 5ms/step - loss: 0.4102 - accuracy: 0.8537 - val_loss: 0.6657 - val_accuracy: 0.7440\n",
            "Epoch 225/500\n",
            "104/104 [==============================] - 1s 5ms/step - loss: 0.4165 - accuracy: 0.8392 - val_loss: 0.7655 - val_accuracy: 0.6860\n",
            "Epoch 226/500\n",
            "104/104 [==============================] - 1s 6ms/step - loss: 0.3938 - accuracy: 0.8573 - val_loss: 0.6301 - val_accuracy: 0.7343\n",
            "Epoch 227/500\n",
            "104/104 [==============================] - 1s 6ms/step - loss: 0.3948 - accuracy: 0.8404 - val_loss: 0.6565 - val_accuracy: 0.7391\n",
            "Epoch 228/500\n",
            "104/104 [==============================] - 1s 5ms/step - loss: 0.4118 - accuracy: 0.8416 - val_loss: 0.7069 - val_accuracy: 0.7488\n",
            "Epoch 229/500\n",
            "104/104 [==============================] - 1s 5ms/step - loss: 0.4117 - accuracy: 0.8337 - val_loss: 0.6461 - val_accuracy: 0.7295\n",
            "Epoch 230/500\n",
            "104/104 [==============================] - 1s 5ms/step - loss: 0.3799 - accuracy: 0.8555 - val_loss: 0.7287 - val_accuracy: 0.6957\n",
            "Epoch 231/500\n",
            "104/104 [==============================] - 1s 5ms/step - loss: 0.4065 - accuracy: 0.8440 - val_loss: 0.6888 - val_accuracy: 0.7246\n",
            "Epoch 232/500\n",
            "104/104 [==============================] - 1s 5ms/step - loss: 0.3899 - accuracy: 0.8507 - val_loss: 0.6726 - val_accuracy: 0.7536\n",
            "Epoch 233/500\n",
            "104/104 [==============================] - 1s 5ms/step - loss: 0.3801 - accuracy: 0.8549 - val_loss: 0.6344 - val_accuracy: 0.7343\n",
            "Epoch 234/500\n",
            "104/104 [==============================] - 1s 5ms/step - loss: 0.4203 - accuracy: 0.8422 - val_loss: 0.6299 - val_accuracy: 0.7729\n",
            "Epoch 235/500\n",
            "104/104 [==============================] - 1s 5ms/step - loss: 0.3860 - accuracy: 0.8567 - val_loss: 0.6175 - val_accuracy: 0.7536\n",
            "Epoch 236/500\n",
            "104/104 [==============================] - 1s 5ms/step - loss: 0.3964 - accuracy: 0.8507 - val_loss: 0.6328 - val_accuracy: 0.7440\n",
            "Epoch 237/500\n",
            "104/104 [==============================] - 1s 5ms/step - loss: 0.3799 - accuracy: 0.8549 - val_loss: 0.6322 - val_accuracy: 0.7391\n",
            "Epoch 238/500\n",
            "104/104 [==============================] - 1s 5ms/step - loss: 0.3842 - accuracy: 0.8464 - val_loss: 0.6271 - val_accuracy: 0.7633\n",
            "Epoch 239/500\n",
            "104/104 [==============================] - 1s 5ms/step - loss: 0.3688 - accuracy: 0.8676 - val_loss: 0.6338 - val_accuracy: 0.7923\n",
            "Epoch 240/500\n",
            "104/104 [==============================] - 1s 5ms/step - loss: 0.3709 - accuracy: 0.8555 - val_loss: 0.6686 - val_accuracy: 0.7101\n",
            "Epoch 241/500\n",
            "104/104 [==============================] - 1s 5ms/step - loss: 0.3809 - accuracy: 0.8591 - val_loss: 0.6382 - val_accuracy: 0.7729\n",
            "Epoch 242/500\n",
            "104/104 [==============================] - 1s 5ms/step - loss: 0.3672 - accuracy: 0.8658 - val_loss: 0.6538 - val_accuracy: 0.7536\n",
            "Epoch 243/500\n",
            "104/104 [==============================] - 1s 5ms/step - loss: 0.3595 - accuracy: 0.8634 - val_loss: 0.6411 - val_accuracy: 0.7246\n",
            "Epoch 244/500\n",
            "104/104 [==============================] - 1s 5ms/step - loss: 0.3681 - accuracy: 0.8682 - val_loss: 0.7056 - val_accuracy: 0.7440\n",
            "Epoch 245/500\n",
            "104/104 [==============================] - 1s 5ms/step - loss: 0.3727 - accuracy: 0.8682 - val_loss: 0.6583 - val_accuracy: 0.7681\n",
            "Epoch 246/500\n",
            "104/104 [==============================] - 1s 5ms/step - loss: 0.3586 - accuracy: 0.8652 - val_loss: 0.6250 - val_accuracy: 0.7633\n",
            "Epoch 247/500\n",
            "104/104 [==============================] - 1s 5ms/step - loss: 0.3608 - accuracy: 0.8615 - val_loss: 0.6495 - val_accuracy: 0.7826\n",
            "Epoch 248/500\n",
            "104/104 [==============================] - 1s 5ms/step - loss: 0.3425 - accuracy: 0.8712 - val_loss: 0.7040 - val_accuracy: 0.7150\n",
            "Epoch 249/500\n",
            "104/104 [==============================] - 1s 5ms/step - loss: 0.3688 - accuracy: 0.8646 - val_loss: 0.6441 - val_accuracy: 0.7778\n",
            "Epoch 250/500\n",
            "104/104 [==============================] - 1s 5ms/step - loss: 0.3691 - accuracy: 0.8549 - val_loss: 0.6691 - val_accuracy: 0.7633\n",
            "Epoch 251/500\n",
            "104/104 [==============================] - 1s 5ms/step - loss: 0.3368 - accuracy: 0.8791 - val_loss: 0.6992 - val_accuracy: 0.7343\n",
            "Epoch 252/500\n",
            "104/104 [==============================] - 1s 5ms/step - loss: 0.3577 - accuracy: 0.8694 - val_loss: 0.6977 - val_accuracy: 0.7246\n",
            "Epoch 253/500\n",
            "104/104 [==============================] - 1s 5ms/step - loss: 0.3562 - accuracy: 0.8682 - val_loss: 0.6473 - val_accuracy: 0.7729\n",
            "Epoch 254/500\n",
            "104/104 [==============================] - 1s 5ms/step - loss: 0.3505 - accuracy: 0.8561 - val_loss: 0.6328 - val_accuracy: 0.7778\n",
            "Epoch 255/500\n",
            "104/104 [==============================] - 1s 5ms/step - loss: 0.3478 - accuracy: 0.8767 - val_loss: 0.6210 - val_accuracy: 0.7729\n",
            "Epoch 256/500\n",
            "104/104 [==============================] - 1s 5ms/step - loss: 0.3352 - accuracy: 0.8609 - val_loss: 0.6396 - val_accuracy: 0.7729\n",
            "Epoch 257/500\n",
            "104/104 [==============================] - 1s 5ms/step - loss: 0.3602 - accuracy: 0.8664 - val_loss: 0.6651 - val_accuracy: 0.7488\n",
            "Epoch 258/500\n",
            "104/104 [==============================] - 1s 5ms/step - loss: 0.3363 - accuracy: 0.8742 - val_loss: 0.6620 - val_accuracy: 0.7633\n",
            "Epoch 259/500\n",
            "104/104 [==============================] - 1s 5ms/step - loss: 0.3635 - accuracy: 0.8573 - val_loss: 0.6407 - val_accuracy: 0.7681\n",
            "Epoch 260/500\n",
            "104/104 [==============================] - 1s 5ms/step - loss: 0.3312 - accuracy: 0.8785 - val_loss: 0.6648 - val_accuracy: 0.7343\n",
            "Epoch 261/500\n",
            "104/104 [==============================] - 1s 5ms/step - loss: 0.3367 - accuracy: 0.8785 - val_loss: 0.6877 - val_accuracy: 0.7101\n",
            "Epoch 262/500\n",
            "104/104 [==============================] - 1s 5ms/step - loss: 0.3621 - accuracy: 0.8706 - val_loss: 0.6581 - val_accuracy: 0.7826\n",
            "Epoch 263/500\n",
            "104/104 [==============================] - 1s 5ms/step - loss: 0.3108 - accuracy: 0.8833 - val_loss: 0.6180 - val_accuracy: 0.8019\n",
            "Epoch 264/500\n",
            "104/104 [==============================] - 1s 5ms/step - loss: 0.3245 - accuracy: 0.8700 - val_loss: 0.6378 - val_accuracy: 0.7585\n",
            "Epoch 265/500\n",
            "104/104 [==============================] - 1s 5ms/step - loss: 0.3194 - accuracy: 0.8900 - val_loss: 0.6505 - val_accuracy: 0.7246\n",
            "Epoch 266/500\n",
            "104/104 [==============================] - 1s 5ms/step - loss: 0.3457 - accuracy: 0.8646 - val_loss: 0.7558 - val_accuracy: 0.7005\n",
            "Epoch 267/500\n",
            "104/104 [==============================] - 1s 5ms/step - loss: 0.3437 - accuracy: 0.8670 - val_loss: 0.6748 - val_accuracy: 0.7488\n",
            "Epoch 268/500\n",
            "104/104 [==============================] - 1s 5ms/step - loss: 0.3433 - accuracy: 0.8815 - val_loss: 0.6173 - val_accuracy: 0.7778\n",
            "Epoch 269/500\n",
            "104/104 [==============================] - 1s 5ms/step - loss: 0.3208 - accuracy: 0.8676 - val_loss: 0.6983 - val_accuracy: 0.7246\n",
            "Epoch 270/500\n",
            "104/104 [==============================] - 1s 5ms/step - loss: 0.3409 - accuracy: 0.8797 - val_loss: 0.6460 - val_accuracy: 0.7488\n",
            "Epoch 271/500\n",
            "104/104 [==============================] - 1s 6ms/step - loss: 0.3013 - accuracy: 0.8869 - val_loss: 0.6429 - val_accuracy: 0.7295\n",
            "Epoch 272/500\n",
            "104/104 [==============================] - 1s 5ms/step - loss: 0.3076 - accuracy: 0.8912 - val_loss: 0.6521 - val_accuracy: 0.7729\n",
            "Epoch 273/500\n",
            "104/104 [==============================] - 1s 6ms/step - loss: 0.3076 - accuracy: 0.8803 - val_loss: 0.6095 - val_accuracy: 0.7923\n",
            "Epoch 274/500\n",
            "104/104 [==============================] - 1s 6ms/step - loss: 0.2837 - accuracy: 0.9002 - val_loss: 0.6483 - val_accuracy: 0.7536\n",
            "Epoch 275/500\n",
            "104/104 [==============================] - 1s 5ms/step - loss: 0.3159 - accuracy: 0.8821 - val_loss: 0.6493 - val_accuracy: 0.7488\n",
            "Epoch 276/500\n",
            "104/104 [==============================] - 1s 5ms/step - loss: 0.2825 - accuracy: 0.8990 - val_loss: 0.6745 - val_accuracy: 0.7488\n",
            "Epoch 277/500\n",
            "104/104 [==============================] - 1s 5ms/step - loss: 0.2891 - accuracy: 0.8936 - val_loss: 0.6614 - val_accuracy: 0.7585\n",
            "Epoch 278/500\n",
            "104/104 [==============================] - 1s 6ms/step - loss: 0.3250 - accuracy: 0.8803 - val_loss: 0.6883 - val_accuracy: 0.7585\n",
            "Epoch 279/500\n",
            "104/104 [==============================] - 1s 5ms/step - loss: 0.3093 - accuracy: 0.8906 - val_loss: 0.6835 - val_accuracy: 0.7585\n",
            "Epoch 280/500\n",
            "104/104 [==============================] - 1s 5ms/step - loss: 0.2954 - accuracy: 0.8863 - val_loss: 0.6219 - val_accuracy: 0.8068\n",
            "Epoch 281/500\n",
            "104/104 [==============================] - 1s 5ms/step - loss: 0.2867 - accuracy: 0.8906 - val_loss: 0.6333 - val_accuracy: 0.7729\n",
            "Epoch 282/500\n",
            "104/104 [==============================] - 1s 5ms/step - loss: 0.3029 - accuracy: 0.8815 - val_loss: 0.5871 - val_accuracy: 0.7778\n",
            "Epoch 283/500\n",
            "104/104 [==============================] - 1s 5ms/step - loss: 0.3077 - accuracy: 0.8851 - val_loss: 0.6359 - val_accuracy: 0.7488\n",
            "Epoch 284/500\n",
            "104/104 [==============================] - 1s 5ms/step - loss: 0.3025 - accuracy: 0.8948 - val_loss: 0.6068 - val_accuracy: 0.7874\n",
            "Epoch 285/500\n",
            "104/104 [==============================] - 1s 7ms/step - loss: 0.3039 - accuracy: 0.8742 - val_loss: 0.6268 - val_accuracy: 0.7536\n",
            "Epoch 286/500\n",
            "104/104 [==============================] - 1s 7ms/step - loss: 0.2987 - accuracy: 0.8881 - val_loss: 0.5877 - val_accuracy: 0.7971\n",
            "Epoch 287/500\n",
            "104/104 [==============================] - 1s 7ms/step - loss: 0.2770 - accuracy: 0.8972 - val_loss: 0.6592 - val_accuracy: 0.7391\n",
            "Epoch 288/500\n",
            "104/104 [==============================] - 1s 7ms/step - loss: 0.2924 - accuracy: 0.8875 - val_loss: 0.6670 - val_accuracy: 0.7826\n",
            "Epoch 289/500\n",
            "104/104 [==============================] - 1s 7ms/step - loss: 0.3140 - accuracy: 0.8851 - val_loss: 0.6535 - val_accuracy: 0.7536\n",
            "Epoch 290/500\n",
            "104/104 [==============================] - 1s 7ms/step - loss: 0.2915 - accuracy: 0.8815 - val_loss: 0.6756 - val_accuracy: 0.7488\n",
            "Epoch 291/500\n",
            "104/104 [==============================] - 1s 6ms/step - loss: 0.2893 - accuracy: 0.9008 - val_loss: 0.6212 - val_accuracy: 0.7729\n",
            "Epoch 292/500\n",
            "104/104 [==============================] - 1s 6ms/step - loss: 0.2976 - accuracy: 0.8881 - val_loss: 0.6143 - val_accuracy: 0.7633\n",
            "Epoch 293/500\n",
            "104/104 [==============================] - 1s 5ms/step - loss: 0.2883 - accuracy: 0.8930 - val_loss: 0.6332 - val_accuracy: 0.7585\n",
            "Epoch 294/500\n",
            "104/104 [==============================] - 1s 5ms/step - loss: 0.2983 - accuracy: 0.8936 - val_loss: 0.6396 - val_accuracy: 0.7440\n",
            "Epoch 295/500\n",
            "104/104 [==============================] - 1s 6ms/step - loss: 0.3049 - accuracy: 0.8827 - val_loss: 0.6340 - val_accuracy: 0.7923\n",
            "Epoch 296/500\n",
            "104/104 [==============================] - 1s 5ms/step - loss: 0.3072 - accuracy: 0.8845 - val_loss: 0.6144 - val_accuracy: 0.7923\n",
            "Epoch 297/500\n",
            "104/104 [==============================] - 1s 5ms/step - loss: 0.2771 - accuracy: 0.8912 - val_loss: 0.6047 - val_accuracy: 0.7874\n",
            "Epoch 298/500\n",
            "104/104 [==============================] - 1s 6ms/step - loss: 0.2598 - accuracy: 0.8960 - val_loss: 0.5846 - val_accuracy: 0.8019\n",
            "Epoch 299/500\n",
            "104/104 [==============================] - 1s 5ms/step - loss: 0.2878 - accuracy: 0.8984 - val_loss: 0.6241 - val_accuracy: 0.7681\n",
            "Epoch 300/500\n",
            "104/104 [==============================] - 1s 5ms/step - loss: 0.2909 - accuracy: 0.8857 - val_loss: 0.5841 - val_accuracy: 0.7778\n",
            "Epoch 301/500\n",
            "104/104 [==============================] - 1s 6ms/step - loss: 0.2781 - accuracy: 0.8918 - val_loss: 0.6099 - val_accuracy: 0.7874\n",
            "Epoch 302/500\n",
            "104/104 [==============================] - 1s 6ms/step - loss: 0.2821 - accuracy: 0.9021 - val_loss: 0.6221 - val_accuracy: 0.7826\n",
            "Epoch 303/500\n",
            "104/104 [==============================] - 1s 6ms/step - loss: 0.2845 - accuracy: 0.8900 - val_loss: 0.6376 - val_accuracy: 0.7246\n",
            "Epoch 304/500\n",
            "104/104 [==============================] - 1s 6ms/step - loss: 0.2685 - accuracy: 0.9051 - val_loss: 0.6488 - val_accuracy: 0.7633\n",
            "Epoch 305/500\n",
            "104/104 [==============================] - 1s 6ms/step - loss: 0.2803 - accuracy: 0.8942 - val_loss: 0.7023 - val_accuracy: 0.7488\n",
            "Epoch 306/500\n",
            "104/104 [==============================] - 1s 5ms/step - loss: 0.2914 - accuracy: 0.8984 - val_loss: 0.6945 - val_accuracy: 0.7343\n",
            "Epoch 307/500\n",
            "104/104 [==============================] - 1s 5ms/step - loss: 0.3022 - accuracy: 0.8809 - val_loss: 0.6253 - val_accuracy: 0.7923\n",
            "Epoch 308/500\n",
            "104/104 [==============================] - 1s 5ms/step - loss: 0.2877 - accuracy: 0.8869 - val_loss: 0.6151 - val_accuracy: 0.7874\n",
            "Epoch 309/500\n",
            "104/104 [==============================] - 1s 5ms/step - loss: 0.2741 - accuracy: 0.8912 - val_loss: 0.6213 - val_accuracy: 0.7585\n",
            "Epoch 310/500\n",
            "104/104 [==============================] - 1s 5ms/step - loss: 0.3003 - accuracy: 0.8761 - val_loss: 0.6399 - val_accuracy: 0.7440\n",
            "Epoch 311/500\n",
            "104/104 [==============================] - 1s 6ms/step - loss: 0.2813 - accuracy: 0.8972 - val_loss: 0.6780 - val_accuracy: 0.7971\n",
            "Epoch 312/500\n",
            "104/104 [==============================] - 1s 5ms/step - loss: 0.2762 - accuracy: 0.9051 - val_loss: 0.5842 - val_accuracy: 0.8116\n",
            "Epoch 313/500\n",
            "104/104 [==============================] - 1s 5ms/step - loss: 0.2744 - accuracy: 0.8900 - val_loss: 0.5534 - val_accuracy: 0.8068\n",
            "Epoch 314/500\n",
            "104/104 [==============================] - 1s 5ms/step - loss: 0.2237 - accuracy: 0.9129 - val_loss: 0.6445 - val_accuracy: 0.7778\n",
            "Epoch 315/500\n",
            "104/104 [==============================] - 1s 5ms/step - loss: 0.2790 - accuracy: 0.9008 - val_loss: 0.6356 - val_accuracy: 0.7633\n",
            "Epoch 316/500\n",
            "104/104 [==============================] - 1s 5ms/step - loss: 0.2517 - accuracy: 0.9051 - val_loss: 0.6700 - val_accuracy: 0.7633\n",
            "Epoch 317/500\n",
            "104/104 [==============================] - 1s 5ms/step - loss: 0.2613 - accuracy: 0.9015 - val_loss: 0.6548 - val_accuracy: 0.7874\n",
            "Epoch 318/500\n",
            "104/104 [==============================] - 1s 5ms/step - loss: 0.2696 - accuracy: 0.9099 - val_loss: 0.5874 - val_accuracy: 0.7729\n",
            "Epoch 319/500\n",
            "104/104 [==============================] - 1s 5ms/step - loss: 0.2752 - accuracy: 0.9021 - val_loss: 0.6770 - val_accuracy: 0.7633\n",
            "Epoch 320/500\n",
            "104/104 [==============================] - 1s 5ms/step - loss: 0.2533 - accuracy: 0.9015 - val_loss: 0.6889 - val_accuracy: 0.7488\n",
            "Epoch 321/500\n",
            "104/104 [==============================] - 1s 5ms/step - loss: 0.2501 - accuracy: 0.9033 - val_loss: 0.6042 - val_accuracy: 0.7874\n",
            "Epoch 322/500\n",
            "104/104 [==============================] - 1s 5ms/step - loss: 0.2859 - accuracy: 0.8960 - val_loss: 0.5920 - val_accuracy: 0.7681\n",
            "Epoch 323/500\n",
            "104/104 [==============================] - 1s 6ms/step - loss: 0.2611 - accuracy: 0.9015 - val_loss: 0.6728 - val_accuracy: 0.7585\n",
            "Epoch 324/500\n",
            "104/104 [==============================] - 1s 5ms/step - loss: 0.2414 - accuracy: 0.9160 - val_loss: 0.6595 - val_accuracy: 0.7585\n",
            "Epoch 325/500\n",
            "104/104 [==============================] - 1s 5ms/step - loss: 0.2395 - accuracy: 0.9154 - val_loss: 0.6957 - val_accuracy: 0.7729\n",
            "Epoch 326/500\n",
            "104/104 [==============================] - 1s 6ms/step - loss: 0.2365 - accuracy: 0.9184 - val_loss: 0.6659 - val_accuracy: 0.7633\n",
            "Epoch 327/500\n",
            "104/104 [==============================] - 1s 6ms/step - loss: 0.2344 - accuracy: 0.9105 - val_loss: 0.6712 - val_accuracy: 0.7778\n",
            "Epoch 328/500\n",
            "104/104 [==============================] - 1s 6ms/step - loss: 0.2420 - accuracy: 0.9123 - val_loss: 0.7446 - val_accuracy: 0.7198\n",
            "Epoch 329/500\n",
            "104/104 [==============================] - 1s 6ms/step - loss: 0.2514 - accuracy: 0.9087 - val_loss: 0.7143 - val_accuracy: 0.7536\n",
            "Epoch 330/500\n",
            "104/104 [==============================] - 1s 5ms/step - loss: 0.2513 - accuracy: 0.9051 - val_loss: 0.6443 - val_accuracy: 0.7923\n",
            "Epoch 331/500\n",
            "104/104 [==============================] - 1s 5ms/step - loss: 0.2561 - accuracy: 0.9002 - val_loss: 0.7115 - val_accuracy: 0.7536\n",
            "Epoch 332/500\n",
            "104/104 [==============================] - 1s 6ms/step - loss: 0.2267 - accuracy: 0.9081 - val_loss: 0.7017 - val_accuracy: 0.7343\n",
            "Epoch 333/500\n",
            "104/104 [==============================] - 1s 5ms/step - loss: 0.2438 - accuracy: 0.9087 - val_loss: 0.7057 - val_accuracy: 0.7778\n",
            "Epoch 334/500\n",
            "104/104 [==============================] - 1s 5ms/step - loss: 0.2471 - accuracy: 0.9111 - val_loss: 0.6206 - val_accuracy: 0.7874\n",
            "Epoch 335/500\n",
            "104/104 [==============================] - 1s 6ms/step - loss: 0.2436 - accuracy: 0.9129 - val_loss: 0.6815 - val_accuracy: 0.7295\n",
            "Epoch 336/500\n",
            "104/104 [==============================] - 1s 5ms/step - loss: 0.2530 - accuracy: 0.9039 - val_loss: 0.6050 - val_accuracy: 0.7923\n",
            "Epoch 337/500\n",
            "104/104 [==============================] - 1s 5ms/step - loss: 0.2534 - accuracy: 0.9075 - val_loss: 0.6201 - val_accuracy: 0.7729\n",
            "Epoch 338/500\n",
            "104/104 [==============================] - 1s 6ms/step - loss: 0.2423 - accuracy: 0.9069 - val_loss: 0.6055 - val_accuracy: 0.7923\n",
            "Epoch 339/500\n",
            "104/104 [==============================] - 1s 5ms/step - loss: 0.2395 - accuracy: 0.9051 - val_loss: 0.6016 - val_accuracy: 0.7971\n",
            "Epoch 340/500\n",
            "104/104 [==============================] - 1s 5ms/step - loss: 0.2484 - accuracy: 0.9021 - val_loss: 0.6572 - val_accuracy: 0.7826\n",
            "Epoch 341/500\n",
            "104/104 [==============================] - 1s 6ms/step - loss: 0.2271 - accuracy: 0.9141 - val_loss: 0.6564 - val_accuracy: 0.7874\n",
            "Epoch 342/500\n",
            "104/104 [==============================] - 1s 5ms/step - loss: 0.2781 - accuracy: 0.9045 - val_loss: 0.5966 - val_accuracy: 0.7971\n",
            "Epoch 343/500\n",
            "104/104 [==============================] - 1s 6ms/step - loss: 0.2281 - accuracy: 0.9148 - val_loss: 0.6797 - val_accuracy: 0.7778\n",
            "Epoch 344/500\n",
            "104/104 [==============================] - 1s 6ms/step - loss: 0.2405 - accuracy: 0.9087 - val_loss: 0.5722 - val_accuracy: 0.8213\n",
            "Epoch 345/500\n",
            "104/104 [==============================] - 1s 5ms/step - loss: 0.2225 - accuracy: 0.9226 - val_loss: 0.6100 - val_accuracy: 0.8116\n",
            "Epoch 346/500\n",
            "104/104 [==============================] - 1s 6ms/step - loss: 0.2599 - accuracy: 0.9123 - val_loss: 0.6499 - val_accuracy: 0.7778\n",
            "Epoch 347/500\n",
            "104/104 [==============================] - 1s 5ms/step - loss: 0.2553 - accuracy: 0.8978 - val_loss: 0.6715 - val_accuracy: 0.7536\n",
            "Epoch 348/500\n",
            "104/104 [==============================] - 1s 5ms/step - loss: 0.2436 - accuracy: 0.9081 - val_loss: 0.6597 - val_accuracy: 0.7923\n",
            "Epoch 349/500\n",
            "104/104 [==============================] - 1s 6ms/step - loss: 0.2737 - accuracy: 0.9008 - val_loss: 0.6303 - val_accuracy: 0.7681\n",
            "Epoch 350/500\n",
            "104/104 [==============================] - 1s 6ms/step - loss: 0.2318 - accuracy: 0.9117 - val_loss: 0.5747 - val_accuracy: 0.7923\n",
            "Epoch 351/500\n",
            "104/104 [==============================] - 1s 5ms/step - loss: 0.2495 - accuracy: 0.9069 - val_loss: 0.6539 - val_accuracy: 0.7923\n",
            "Epoch 352/500\n",
            "104/104 [==============================] - 1s 6ms/step - loss: 0.2222 - accuracy: 0.9214 - val_loss: 0.6792 - val_accuracy: 0.7585\n",
            "Epoch 353/500\n",
            "104/104 [==============================] - 1s 5ms/step - loss: 0.2282 - accuracy: 0.9172 - val_loss: 0.6112 - val_accuracy: 0.8068\n",
            "Epoch 354/500\n",
            "104/104 [==============================] - 1s 5ms/step - loss: 0.2238 - accuracy: 0.9196 - val_loss: 0.6394 - val_accuracy: 0.7971\n",
            "Epoch 355/500\n",
            "104/104 [==============================] - 1s 6ms/step - loss: 0.2305 - accuracy: 0.9208 - val_loss: 0.6378 - val_accuracy: 0.7826\n",
            "Epoch 356/500\n",
            "104/104 [==============================] - 1s 5ms/step - loss: 0.2258 - accuracy: 0.9214 - val_loss: 0.6555 - val_accuracy: 0.7874\n",
            "Epoch 357/500\n",
            "104/104 [==============================] - 1s 5ms/step - loss: 0.2323 - accuracy: 0.9238 - val_loss: 0.6851 - val_accuracy: 0.7826\n",
            "Epoch 358/500\n",
            "104/104 [==============================] - 1s 5ms/step - loss: 0.2194 - accuracy: 0.9208 - val_loss: 0.6861 - val_accuracy: 0.7729\n",
            "Epoch 359/500\n",
            "104/104 [==============================] - 1s 5ms/step - loss: 0.2288 - accuracy: 0.9160 - val_loss: 0.6578 - val_accuracy: 0.7971\n",
            "Epoch 360/500\n",
            "104/104 [==============================] - 1s 5ms/step - loss: 0.2513 - accuracy: 0.9087 - val_loss: 0.6948 - val_accuracy: 0.7633\n",
            "Epoch 361/500\n",
            "104/104 [==============================] - 1s 6ms/step - loss: 0.2179 - accuracy: 0.9190 - val_loss: 0.7050 - val_accuracy: 0.7729\n",
            "Epoch 362/500\n",
            "104/104 [==============================] - 1s 5ms/step - loss: 0.2246 - accuracy: 0.9148 - val_loss: 0.6423 - val_accuracy: 0.8019\n",
            "Epoch 363/500\n",
            "104/104 [==============================] - 1s 6ms/step - loss: 0.2309 - accuracy: 0.9244 - val_loss: 0.6454 - val_accuracy: 0.7826\n",
            "Epoch 364/500\n",
            "104/104 [==============================] - 1s 6ms/step - loss: 0.2383 - accuracy: 0.9099 - val_loss: 0.6357 - val_accuracy: 0.7585\n",
            "Epoch 365/500\n",
            "104/104 [==============================] - 1s 5ms/step - loss: 0.2180 - accuracy: 0.9196 - val_loss: 0.6817 - val_accuracy: 0.7536\n",
            "Epoch 366/500\n",
            "104/104 [==============================] - 1s 5ms/step - loss: 0.2163 - accuracy: 0.9232 - val_loss: 0.6749 - val_accuracy: 0.7536\n",
            "Epoch 367/500\n",
            "104/104 [==============================] - 1s 5ms/step - loss: 0.2002 - accuracy: 0.9268 - val_loss: 0.6927 - val_accuracy: 0.7681\n",
            "Epoch 368/500\n",
            "104/104 [==============================] - 1s 5ms/step - loss: 0.2023 - accuracy: 0.9244 - val_loss: 0.6208 - val_accuracy: 0.7874\n",
            "Epoch 369/500\n",
            "104/104 [==============================] - 1s 5ms/step - loss: 0.2129 - accuracy: 0.9256 - val_loss: 0.6007 - val_accuracy: 0.8116\n",
            "Epoch 370/500\n",
            "104/104 [==============================] - 1s 6ms/step - loss: 0.1885 - accuracy: 0.9250 - val_loss: 0.6189 - val_accuracy: 0.7971\n",
            "Epoch 371/500\n",
            "104/104 [==============================] - 1s 6ms/step - loss: 0.2314 - accuracy: 0.9202 - val_loss: 0.6028 - val_accuracy: 0.8068\n",
            "Epoch 372/500\n",
            "104/104 [==============================] - 1s 6ms/step - loss: 0.2098 - accuracy: 0.9293 - val_loss: 0.6092 - val_accuracy: 0.7874\n",
            "Epoch 373/500\n",
            "104/104 [==============================] - 1s 5ms/step - loss: 0.1953 - accuracy: 0.9335 - val_loss: 0.6561 - val_accuracy: 0.7971\n",
            "Epoch 374/500\n",
            "104/104 [==============================] - 1s 6ms/step - loss: 0.2145 - accuracy: 0.9250 - val_loss: 0.6050 - val_accuracy: 0.7971\n",
            "Epoch 375/500\n",
            "104/104 [==============================] - 1s 6ms/step - loss: 0.2075 - accuracy: 0.9299 - val_loss: 0.8520 - val_accuracy: 0.7633\n",
            "Epoch 376/500\n",
            "104/104 [==============================] - 1s 6ms/step - loss: 0.2158 - accuracy: 0.9178 - val_loss: 0.5897 - val_accuracy: 0.7874\n",
            "Epoch 377/500\n",
            "104/104 [==============================] - 1s 6ms/step - loss: 0.1978 - accuracy: 0.9299 - val_loss: 0.6904 - val_accuracy: 0.7633\n",
            "Epoch 378/500\n",
            "104/104 [==============================] - 1s 5ms/step - loss: 0.1748 - accuracy: 0.9341 - val_loss: 0.6799 - val_accuracy: 0.7729\n",
            "Epoch 379/500\n",
            "104/104 [==============================] - 1s 6ms/step - loss: 0.2096 - accuracy: 0.9214 - val_loss: 0.6795 - val_accuracy: 0.7633\n",
            "Epoch 380/500\n",
            "104/104 [==============================] - 1s 5ms/step - loss: 0.2083 - accuracy: 0.9208 - val_loss: 0.5849 - val_accuracy: 0.7923\n",
            "Epoch 381/500\n",
            "104/104 [==============================] - 1s 5ms/step - loss: 0.2038 - accuracy: 0.9238 - val_loss: 0.6831 - val_accuracy: 0.7729\n",
            "Epoch 382/500\n",
            "104/104 [==============================] - 1s 6ms/step - loss: 0.2112 - accuracy: 0.9238 - val_loss: 0.6495 - val_accuracy: 0.7874\n",
            "Epoch 383/500\n",
            "104/104 [==============================] - 1s 6ms/step - loss: 0.2101 - accuracy: 0.9287 - val_loss: 0.7283 - val_accuracy: 0.7343\n",
            "Epoch 384/500\n",
            "104/104 [==============================] - 1s 5ms/step - loss: 0.1953 - accuracy: 0.9371 - val_loss: 0.6657 - val_accuracy: 0.8019\n",
            "Epoch 385/500\n",
            "104/104 [==============================] - 1s 5ms/step - loss: 0.1986 - accuracy: 0.9214 - val_loss: 0.6832 - val_accuracy: 0.7923\n",
            "Epoch 386/500\n",
            "104/104 [==============================] - 1s 6ms/step - loss: 0.2250 - accuracy: 0.9154 - val_loss: 0.6273 - val_accuracy: 0.7971\n",
            "Epoch 387/500\n",
            "104/104 [==============================] - 1s 6ms/step - loss: 0.1947 - accuracy: 0.9274 - val_loss: 0.6050 - val_accuracy: 0.7778\n",
            "Epoch 388/500\n",
            "104/104 [==============================] - 1s 6ms/step - loss: 0.2026 - accuracy: 0.9329 - val_loss: 0.6511 - val_accuracy: 0.7971\n",
            "Epoch 389/500\n",
            "104/104 [==============================] - 1s 5ms/step - loss: 0.1866 - accuracy: 0.9317 - val_loss: 0.6674 - val_accuracy: 0.7923\n",
            "Epoch 390/500\n",
            "104/104 [==============================] - 1s 5ms/step - loss: 0.1804 - accuracy: 0.9329 - val_loss: 0.7042 - val_accuracy: 0.8019\n",
            "Epoch 391/500\n",
            "104/104 [==============================] - 1s 6ms/step - loss: 0.2029 - accuracy: 0.9281 - val_loss: 0.7810 - val_accuracy: 0.7681\n",
            "Epoch 392/500\n",
            "104/104 [==============================] - 1s 5ms/step - loss: 0.2092 - accuracy: 0.9214 - val_loss: 0.6267 - val_accuracy: 0.8116\n",
            "Epoch 393/500\n",
            "104/104 [==============================] - 1s 6ms/step - loss: 0.1864 - accuracy: 0.9299 - val_loss: 0.6578 - val_accuracy: 0.7874\n",
            "Epoch 394/500\n",
            "104/104 [==============================] - 1s 6ms/step - loss: 0.2198 - accuracy: 0.9196 - val_loss: 0.6795 - val_accuracy: 0.7971\n",
            "Epoch 395/500\n",
            "104/104 [==============================] - 1s 6ms/step - loss: 0.1958 - accuracy: 0.9329 - val_loss: 0.6142 - val_accuracy: 0.8164\n",
            "Epoch 396/500\n",
            "104/104 [==============================] - 1s 5ms/step - loss: 0.1946 - accuracy: 0.9274 - val_loss: 0.5951 - val_accuracy: 0.7923\n",
            "Epoch 397/500\n",
            "104/104 [==============================] - 1s 5ms/step - loss: 0.1770 - accuracy: 0.9335 - val_loss: 0.6981 - val_accuracy: 0.7681\n",
            "Epoch 398/500\n",
            "104/104 [==============================] - 1s 6ms/step - loss: 0.2005 - accuracy: 0.9293 - val_loss: 0.6736 - val_accuracy: 0.8019\n",
            "Epoch 399/500\n",
            "104/104 [==============================] - 1s 6ms/step - loss: 0.1934 - accuracy: 0.9274 - val_loss: 0.5839 - val_accuracy: 0.8261\n",
            "Epoch 400/500\n",
            "104/104 [==============================] - 1s 6ms/step - loss: 0.2128 - accuracy: 0.9274 - val_loss: 0.6227 - val_accuracy: 0.7923\n",
            "Epoch 401/500\n",
            "104/104 [==============================] - 1s 5ms/step - loss: 0.1901 - accuracy: 0.9365 - val_loss: 0.6076 - val_accuracy: 0.8068\n",
            "Epoch 402/500\n",
            "104/104 [==============================] - 1s 5ms/step - loss: 0.2077 - accuracy: 0.9305 - val_loss: 0.5834 - val_accuracy: 0.7874\n",
            "Epoch 403/500\n",
            "104/104 [==============================] - 1s 5ms/step - loss: 0.1966 - accuracy: 0.9274 - val_loss: 0.6252 - val_accuracy: 0.8164\n",
            "Epoch 404/500\n",
            "104/104 [==============================] - 1s 5ms/step - loss: 0.1928 - accuracy: 0.9262 - val_loss: 0.6051 - val_accuracy: 0.7826\n",
            "Epoch 405/500\n",
            "104/104 [==============================] - 1s 6ms/step - loss: 0.1929 - accuracy: 0.9262 - val_loss: 0.6114 - val_accuracy: 0.7488\n",
            "Epoch 406/500\n",
            "104/104 [==============================] - 1s 6ms/step - loss: 0.1892 - accuracy: 0.9287 - val_loss: 0.6392 - val_accuracy: 0.8213\n",
            "Epoch 407/500\n",
            "104/104 [==============================] - 1s 5ms/step - loss: 0.2011 - accuracy: 0.9262 - val_loss: 0.6693 - val_accuracy: 0.7971\n",
            "Epoch 408/500\n",
            "104/104 [==============================] - 1s 6ms/step - loss: 0.1715 - accuracy: 0.9347 - val_loss: 0.6567 - val_accuracy: 0.8164\n",
            "Epoch 409/500\n",
            "104/104 [==============================] - 1s 5ms/step - loss: 0.1824 - accuracy: 0.9371 - val_loss: 0.7444 - val_accuracy: 0.7488\n",
            "Epoch 410/500\n",
            "104/104 [==============================] - 1s 6ms/step - loss: 0.1818 - accuracy: 0.9311 - val_loss: 0.5879 - val_accuracy: 0.8116\n",
            "Epoch 411/500\n",
            "104/104 [==============================] - 1s 5ms/step - loss: 0.2014 - accuracy: 0.9293 - val_loss: 0.6991 - val_accuracy: 0.7633\n",
            "Epoch 412/500\n",
            "104/104 [==============================] - 1s 6ms/step - loss: 0.1900 - accuracy: 0.9268 - val_loss: 0.6641 - val_accuracy: 0.8019\n",
            "Epoch 413/500\n",
            "104/104 [==============================] - 1s 5ms/step - loss: 0.1935 - accuracy: 0.9353 - val_loss: 0.6641 - val_accuracy: 0.7488\n",
            "Epoch 414/500\n",
            "104/104 [==============================] - 1s 6ms/step - loss: 0.1598 - accuracy: 0.9395 - val_loss: 0.5861 - val_accuracy: 0.8261\n",
            "Epoch 415/500\n",
            "104/104 [==============================] - 1s 5ms/step - loss: 0.1899 - accuracy: 0.9353 - val_loss: 0.6344 - val_accuracy: 0.8019\n",
            "Epoch 416/500\n",
            "104/104 [==============================] - 1s 6ms/step - loss: 0.1908 - accuracy: 0.9341 - val_loss: 0.6158 - val_accuracy: 0.8213\n",
            "Epoch 417/500\n",
            "104/104 [==============================] - 1s 5ms/step - loss: 0.1880 - accuracy: 0.9299 - val_loss: 0.6713 - val_accuracy: 0.7778\n",
            "Epoch 418/500\n",
            "104/104 [==============================] - 1s 5ms/step - loss: 0.1647 - accuracy: 0.9383 - val_loss: 0.6478 - val_accuracy: 0.7923\n",
            "Epoch 419/500\n",
            "104/104 [==============================] - 1s 5ms/step - loss: 0.2091 - accuracy: 0.9377 - val_loss: 0.6083 - val_accuracy: 0.7826\n",
            "Epoch 420/500\n",
            "104/104 [==============================] - 1s 6ms/step - loss: 0.1948 - accuracy: 0.9371 - val_loss: 0.6613 - val_accuracy: 0.7874\n",
            "Epoch 421/500\n",
            "104/104 [==============================] - 1s 6ms/step - loss: 0.2016 - accuracy: 0.9287 - val_loss: 0.5643 - val_accuracy: 0.8357\n",
            "Epoch 422/500\n",
            "104/104 [==============================] - 1s 5ms/step - loss: 0.1678 - accuracy: 0.9438 - val_loss: 0.7015 - val_accuracy: 0.7778\n",
            "Epoch 423/500\n",
            "104/104 [==============================] - 1s 5ms/step - loss: 0.1523 - accuracy: 0.9420 - val_loss: 0.5935 - val_accuracy: 0.8068\n",
            "Epoch 424/500\n",
            "104/104 [==============================] - 1s 5ms/step - loss: 0.1851 - accuracy: 0.9353 - val_loss: 0.7600 - val_accuracy: 0.7923\n",
            "Epoch 425/500\n",
            "104/104 [==============================] - 1s 5ms/step - loss: 0.1862 - accuracy: 0.9335 - val_loss: 0.6250 - val_accuracy: 0.8019\n",
            "Epoch 426/500\n",
            "104/104 [==============================] - 1s 6ms/step - loss: 0.1763 - accuracy: 0.9365 - val_loss: 0.7061 - val_accuracy: 0.7633\n",
            "Epoch 427/500\n",
            "104/104 [==============================] - 1s 5ms/step - loss: 0.1803 - accuracy: 0.9377 - val_loss: 0.6614 - val_accuracy: 0.8019\n",
            "Epoch 428/500\n",
            "104/104 [==============================] - 1s 5ms/step - loss: 0.1790 - accuracy: 0.9377 - val_loss: 0.5990 - val_accuracy: 0.7923\n",
            "Epoch 429/500\n",
            "104/104 [==============================] - 1s 6ms/step - loss: 0.1889 - accuracy: 0.9335 - val_loss: 0.6334 - val_accuracy: 0.8116\n",
            "Epoch 430/500\n",
            "104/104 [==============================] - 1s 5ms/step - loss: 0.1819 - accuracy: 0.9389 - val_loss: 0.6543 - val_accuracy: 0.7778\n",
            "Epoch 431/500\n",
            "104/104 [==============================] - 1s 6ms/step - loss: 0.1524 - accuracy: 0.9480 - val_loss: 0.6900 - val_accuracy: 0.7971\n",
            "Epoch 432/500\n",
            "104/104 [==============================] - 1s 6ms/step - loss: 0.1899 - accuracy: 0.9365 - val_loss: 0.6602 - val_accuracy: 0.7971\n",
            "Epoch 433/500\n",
            "104/104 [==============================] - 1s 5ms/step - loss: 0.1494 - accuracy: 0.9468 - val_loss: 0.6513 - val_accuracy: 0.7778\n",
            "Epoch 434/500\n",
            "104/104 [==============================] - 1s 5ms/step - loss: 0.1944 - accuracy: 0.9329 - val_loss: 0.6668 - val_accuracy: 0.7923\n",
            "Epoch 435/500\n",
            "104/104 [==============================] - 1s 5ms/step - loss: 0.1891 - accuracy: 0.9389 - val_loss: 0.6834 - val_accuracy: 0.7681\n",
            "Epoch 436/500\n",
            "104/104 [==============================] - 1s 6ms/step - loss: 0.1882 - accuracy: 0.9317 - val_loss: 0.7367 - val_accuracy: 0.8068\n",
            "Epoch 437/500\n",
            "104/104 [==============================] - 1s 6ms/step - loss: 0.1721 - accuracy: 0.9395 - val_loss: 0.6009 - val_accuracy: 0.7923\n",
            "Epoch 438/500\n",
            "104/104 [==============================] - 1s 5ms/step - loss: 0.1944 - accuracy: 0.9226 - val_loss: 0.7596 - val_accuracy: 0.7729\n",
            "Epoch 439/500\n",
            "104/104 [==============================] - 1s 6ms/step - loss: 0.1684 - accuracy: 0.9450 - val_loss: 0.7916 - val_accuracy: 0.7681\n",
            "Epoch 440/500\n",
            "104/104 [==============================] - 1s 6ms/step - loss: 0.1781 - accuracy: 0.9329 - val_loss: 0.7945 - val_accuracy: 0.7585\n",
            "Epoch 441/500\n",
            "104/104 [==============================] - 1s 6ms/step - loss: 0.1680 - accuracy: 0.9401 - val_loss: 0.6819 - val_accuracy: 0.7874\n",
            "Epoch 442/500\n",
            "104/104 [==============================] - 1s 6ms/step - loss: 0.1507 - accuracy: 0.9468 - val_loss: 0.7699 - val_accuracy: 0.7681\n",
            "Epoch 443/500\n",
            "104/104 [==============================] - 1s 5ms/step - loss: 0.1641 - accuracy: 0.9389 - val_loss: 0.6913 - val_accuracy: 0.7923\n",
            "Epoch 444/500\n",
            "104/104 [==============================] - 1s 5ms/step - loss: 0.1679 - accuracy: 0.9395 - val_loss: 0.7956 - val_accuracy: 0.7729\n",
            "Epoch 445/500\n",
            "104/104 [==============================] - 1s 5ms/step - loss: 0.1703 - accuracy: 0.9371 - val_loss: 0.6175 - val_accuracy: 0.8213\n",
            "Epoch 446/500\n",
            "104/104 [==============================] - 1s 6ms/step - loss: 0.1710 - accuracy: 0.9414 - val_loss: 0.7332 - val_accuracy: 0.7633\n",
            "Epoch 447/500\n",
            "104/104 [==============================] - 1s 6ms/step - loss: 0.1734 - accuracy: 0.9462 - val_loss: 0.6631 - val_accuracy: 0.8164\n",
            "Epoch 448/500\n",
            "104/104 [==============================] - 1s 5ms/step - loss: 0.1663 - accuracy: 0.9456 - val_loss: 0.6341 - val_accuracy: 0.7971\n",
            "Epoch 449/500\n",
            "104/104 [==============================] - 1s 5ms/step - loss: 0.1727 - accuracy: 0.9426 - val_loss: 0.6214 - val_accuracy: 0.8019\n",
            "Epoch 450/500\n",
            "104/104 [==============================] - 1s 6ms/step - loss: 0.1617 - accuracy: 0.9462 - val_loss: 0.6394 - val_accuracy: 0.8019\n",
            "Epoch 451/500\n",
            "104/104 [==============================] - 1s 5ms/step - loss: 0.1826 - accuracy: 0.9371 - val_loss: 0.7011 - val_accuracy: 0.8357\n",
            "Epoch 452/500\n",
            "104/104 [==============================] - 1s 6ms/step - loss: 0.1573 - accuracy: 0.9444 - val_loss: 0.7359 - val_accuracy: 0.7874\n",
            "Epoch 453/500\n",
            "104/104 [==============================] - 1s 5ms/step - loss: 0.1640 - accuracy: 0.9377 - val_loss: 0.6936 - val_accuracy: 0.8019\n",
            "Epoch 454/500\n",
            "104/104 [==============================] - 1s 6ms/step - loss: 0.1618 - accuracy: 0.9450 - val_loss: 0.7849 - val_accuracy: 0.7923\n",
            "Epoch 455/500\n",
            "104/104 [==============================] - 1s 6ms/step - loss: 0.1664 - accuracy: 0.9414 - val_loss: 0.6646 - val_accuracy: 0.8261\n",
            "Epoch 456/500\n",
            "104/104 [==============================] - 1s 6ms/step - loss: 0.1744 - accuracy: 0.9438 - val_loss: 0.7441 - val_accuracy: 0.8068\n",
            "Epoch 457/500\n",
            "104/104 [==============================] - 1s 6ms/step - loss: 0.1380 - accuracy: 0.9486 - val_loss: 0.6674 - val_accuracy: 0.8068\n",
            "Epoch 458/500\n",
            "104/104 [==============================] - 1s 6ms/step - loss: 0.1685 - accuracy: 0.9401 - val_loss: 0.7057 - val_accuracy: 0.8019\n",
            "Epoch 459/500\n",
            "104/104 [==============================] - 1s 6ms/step - loss: 0.1554 - accuracy: 0.9444 - val_loss: 0.5669 - val_accuracy: 0.8309\n",
            "Epoch 460/500\n",
            "104/104 [==============================] - 1s 6ms/step - loss: 0.1568 - accuracy: 0.9414 - val_loss: 0.7080 - val_accuracy: 0.7729\n",
            "Epoch 461/500\n",
            "104/104 [==============================] - 1s 6ms/step - loss: 0.1849 - accuracy: 0.9323 - val_loss: 0.6779 - val_accuracy: 0.8213\n",
            "Epoch 462/500\n",
            "104/104 [==============================] - 1s 6ms/step - loss: 0.1661 - accuracy: 0.9407 - val_loss: 0.6466 - val_accuracy: 0.8019\n",
            "Epoch 463/500\n",
            "104/104 [==============================] - 1s 6ms/step - loss: 0.1447 - accuracy: 0.9438 - val_loss: 0.7915 - val_accuracy: 0.7826\n",
            "Epoch 464/500\n",
            "104/104 [==============================] - 1s 5ms/step - loss: 0.1444 - accuracy: 0.9480 - val_loss: 0.6969 - val_accuracy: 0.7874\n",
            "Epoch 465/500\n",
            "104/104 [==============================] - 1s 5ms/step - loss: 0.1789 - accuracy: 0.9323 - val_loss: 0.6619 - val_accuracy: 0.8164\n",
            "Epoch 466/500\n",
            "104/104 [==============================] - 1s 5ms/step - loss: 0.1494 - accuracy: 0.9450 - val_loss: 0.7360 - val_accuracy: 0.8164\n",
            "Epoch 467/500\n",
            "104/104 [==============================] - 1s 6ms/step - loss: 0.1670 - accuracy: 0.9401 - val_loss: 0.6704 - val_accuracy: 0.8116\n",
            "Epoch 468/500\n",
            "104/104 [==============================] - 1s 5ms/step - loss: 0.1802 - accuracy: 0.9377 - val_loss: 0.6946 - val_accuracy: 0.7826\n",
            "Epoch 469/500\n",
            "104/104 [==============================] - 1s 6ms/step - loss: 0.1538 - accuracy: 0.9462 - val_loss: 0.6230 - val_accuracy: 0.8019\n",
            "Epoch 470/500\n",
            "104/104 [==============================] - 1s 5ms/step - loss: 0.1427 - accuracy: 0.9492 - val_loss: 0.7084 - val_accuracy: 0.8019\n",
            "Epoch 471/500\n",
            "104/104 [==============================] - 1s 6ms/step - loss: 0.1513 - accuracy: 0.9462 - val_loss: 0.6333 - val_accuracy: 0.8116\n",
            "Epoch 472/500\n",
            "104/104 [==============================] - 1s 6ms/step - loss: 0.1566 - accuracy: 0.9383 - val_loss: 0.7140 - val_accuracy: 0.8164\n",
            "Epoch 473/500\n",
            "104/104 [==============================] - 1s 6ms/step - loss: 0.1459 - accuracy: 0.9480 - val_loss: 0.6562 - val_accuracy: 0.7971\n",
            "Epoch 474/500\n",
            "104/104 [==============================] - 1s 5ms/step - loss: 0.1666 - accuracy: 0.9389 - val_loss: 0.6516 - val_accuracy: 0.8116\n",
            "Epoch 475/500\n",
            "104/104 [==============================] - 1s 5ms/step - loss: 0.1444 - accuracy: 0.9456 - val_loss: 0.7569 - val_accuracy: 0.7971\n",
            "Epoch 476/500\n",
            "104/104 [==============================] - 1s 6ms/step - loss: 0.1740 - accuracy: 0.9456 - val_loss: 0.7693 - val_accuracy: 0.7633\n",
            "Epoch 477/500\n",
            "104/104 [==============================] - 1s 6ms/step - loss: 0.1546 - accuracy: 0.9438 - val_loss: 0.6490 - val_accuracy: 0.8164\n",
            "Epoch 478/500\n",
            "104/104 [==============================] - 1s 6ms/step - loss: 0.1519 - accuracy: 0.9414 - val_loss: 0.7176 - val_accuracy: 0.7923\n",
            "Epoch 479/500\n",
            "104/104 [==============================] - 1s 5ms/step - loss: 0.1590 - accuracy: 0.9480 - val_loss: 0.8046 - val_accuracy: 0.7633\n",
            "Epoch 480/500\n",
            "104/104 [==============================] - 1s 5ms/step - loss: 0.1519 - accuracy: 0.9522 - val_loss: 0.7251 - val_accuracy: 0.8213\n",
            "Epoch 481/500\n",
            "104/104 [==============================] - 1s 6ms/step - loss: 0.1717 - accuracy: 0.9432 - val_loss: 0.7422 - val_accuracy: 0.7971\n",
            "Epoch 482/500\n",
            "104/104 [==============================] - 1s 5ms/step - loss: 0.1498 - accuracy: 0.9456 - val_loss: 0.7477 - val_accuracy: 0.7778\n",
            "Epoch 483/500\n",
            "104/104 [==============================] - 1s 5ms/step - loss: 0.1424 - accuracy: 0.9444 - val_loss: 0.7380 - val_accuracy: 0.8213\n",
            "Epoch 484/500\n",
            "104/104 [==============================] - 1s 6ms/step - loss: 0.1846 - accuracy: 0.9359 - val_loss: 0.7794 - val_accuracy: 0.7729\n",
            "Epoch 485/500\n",
            "104/104 [==============================] - 1s 5ms/step - loss: 0.1438 - accuracy: 0.9498 - val_loss: 0.7731 - val_accuracy: 0.7826\n",
            "Epoch 486/500\n",
            "104/104 [==============================] - 1s 6ms/step - loss: 0.1320 - accuracy: 0.9534 - val_loss: 0.6929 - val_accuracy: 0.8116\n",
            "Epoch 487/500\n",
            "104/104 [==============================] - 1s 6ms/step - loss: 0.1869 - accuracy: 0.9407 - val_loss: 0.6647 - val_accuracy: 0.7923\n",
            "Epoch 488/500\n",
            "104/104 [==============================] - 1s 5ms/step - loss: 0.1519 - accuracy: 0.9486 - val_loss: 0.6394 - val_accuracy: 0.8309\n",
            "Epoch 489/500\n",
            "104/104 [==============================] - 1s 5ms/step - loss: 0.1725 - accuracy: 0.9407 - val_loss: 0.6113 - val_accuracy: 0.8068\n",
            "Epoch 490/500\n",
            "104/104 [==============================] - 1s 5ms/step - loss: 0.1392 - accuracy: 0.9541 - val_loss: 0.7131 - val_accuracy: 0.7874\n",
            "Epoch 491/500\n",
            "104/104 [==============================] - 1s 5ms/step - loss: 0.1435 - accuracy: 0.9474 - val_loss: 0.6562 - val_accuracy: 0.8164\n",
            "Epoch 492/500\n",
            "104/104 [==============================] - 1s 5ms/step - loss: 0.1588 - accuracy: 0.9414 - val_loss: 0.6680 - val_accuracy: 0.8068\n",
            "Epoch 493/500\n",
            "104/104 [==============================] - 1s 5ms/step - loss: 0.1529 - accuracy: 0.9510 - val_loss: 0.6520 - val_accuracy: 0.8164\n",
            "Epoch 494/500\n",
            "104/104 [==============================] - 1s 5ms/step - loss: 0.1690 - accuracy: 0.9438 - val_loss: 0.6289 - val_accuracy: 0.7778\n",
            "Epoch 495/500\n",
            "104/104 [==============================] - 1s 5ms/step - loss: 0.1525 - accuracy: 0.9450 - val_loss: 0.6362 - val_accuracy: 0.8164\n",
            "Epoch 496/500\n",
            "104/104 [==============================] - 1s 6ms/step - loss: 0.1232 - accuracy: 0.9559 - val_loss: 0.7442 - val_accuracy: 0.7681\n",
            "Epoch 497/500\n",
            "104/104 [==============================] - 1s 5ms/step - loss: 0.1547 - accuracy: 0.9450 - val_loss: 0.7483 - val_accuracy: 0.7826\n",
            "Epoch 498/500\n",
            "104/104 [==============================] - 1s 5ms/step - loss: 0.1460 - accuracy: 0.9534 - val_loss: 0.8028 - val_accuracy: 0.7729\n",
            "Epoch 499/500\n",
            "104/104 [==============================] - 1s 6ms/step - loss: 0.1743 - accuracy: 0.9486 - val_loss: 0.6623 - val_accuracy: 0.8116\n",
            "Epoch 500/500\n",
            "104/104 [==============================] - 1s 5ms/step - loss: 0.1505 - accuracy: 0.9462 - val_loss: 0.7386 - val_accuracy: 0.7971\n"
          ]
        }
      ]
    },
    {
      "cell_type": "code",
      "source": [
        "plt.plot(cnnhistory.history['loss'])\n",
        "plt.plot(cnnhistory.history['val_loss'])\n",
        "plt.title('model loss')\n",
        "plt.ylabel('loss')\n",
        "plt.xlabel('epoch')\n",
        "plt.legend(['train','test'], loc='upper left')\n",
        "plt.show()"
      ],
      "metadata": {
        "colab": {
          "base_uri": "https://localhost:8080/",
          "height": 295
        },
        "id": "oQYnuaCrDH_A",
        "outputId": "5da032d9-9283-4773-c988-d7c3e6ae389a"
      },
      "execution_count": 22,
      "outputs": [
        {
          "output_type": "display_data",
          "data": {
            "text/plain": [
              "<Figure size 432x288 with 1 Axes>"
            ],
            "image/png": "[encoded data removed]"
          },
          "metadata": {
            "needs_background": "light"
          }
        }
      ]
    },
    {
      "cell_type": "code",
      "source": [
        "plt.plot(cnnhistory.history['accuracy'])\n",
        "plt.plot(cnnhistory.history['val_accuracy'])\n",
        "plt.title('model accuracy')\n",
        "plt.ylabel('accuracy')\n",
        "plt.xlabel('epoch')\n",
        "plt.legend(['train','test'], loc='upper left')\n",
        "plt.show()"
      ],
      "metadata": {
        "colab": {
          "base_uri": "https://localhost:8080/",
          "height": 295
        },
        "id": "IFkTuO8nDNdq",
        "outputId": "dba24a63-5281-484f-da1d-2c75e582cd8a"
      },
      "execution_count": 23,
      "outputs": [
        {
          "output_type": "display_data",
          "data": {
            "text/plain": [
              "<Figure size 432x288 with 1 Axes>"
            ],
            "image/png": "[encoded data removed]"
          },
          "metadata": {
            "needs_background": "light"
          }
        }
      ]
    },
    {
      "cell_type": "code",
      "source": [
        "#predictions = model.predict_classes(x_testcnn)\n",
        "predictions = model.predict(x_testcnn)"
      ],
      "metadata": {
        "id": "A2xtrN5wDQgY"
      },
      "execution_count": 24,
      "outputs": []
    },
    {
      "cell_type": "code",
      "source": [
        "predictions"
      ],
      "metadata": {
        "colab": {
          "base_uri": "https://localhost:8080/"
        },
        "id": "_f_ohjXKDUpY",
        "outputId": "07217691-a104-42f9-c583-6e9c6a6c5570"
      },
      "execution_count": 25,
      "outputs": [
        {
          "output_type": "execute_result",
          "data": {
            "text/plain": [
              "array([[1.0481136e-08, 1.6625776e-10, 4.6514539e-04, 1.9980959e-08,\n",
              "        2.1111784e-03, 9.9742365e-01],\n",
              "       [1.4171186e-04, 9.9416405e-01, 9.5748364e-06, 7.6478362e-05,\n",
              "        2.8408184e-07, 5.6078415e-03],\n",
              "       [1.7381143e-07, 4.9489057e-07, 5.8557242e-01, 1.0559105e-08,\n",
              "        4.1072923e-01, 3.6976589e-03],\n",
              "       ...,\n",
              "       [5.7090849e-05, 2.0071882e-06, 7.4286414e-03, 1.5873427e-04,\n",
              "        8.3591753e-01, 1.5643601e-01],\n",
              "       [2.7326422e-03, 2.1225368e-04, 1.8589132e-04, 8.0716068e-01,\n",
              "        2.4937050e-04, 1.8945906e-01],\n",
              "       [2.5110951e-02, 2.4631240e-03, 4.2709053e-06, 3.2113385e-01,\n",
              "        6.5127730e-01, 1.0596248e-05]], dtype=float32)"
            ]
          },
          "metadata": {},
          "execution_count": 25
        }
      ]
    },
    {
      "cell_type": "code",
      "source": [
        "y_test"
      ],
      "metadata": {
        "colab": {
          "base_uri": "https://localhost:8080/"
        },
        "id": "cmA2bFgsDW3D",
        "outputId": "7faced05-64e8-40f5-ba51-f215af4e2763"
      },
      "execution_count": 26,
      "outputs": [
        {
          "output_type": "execute_result",
          "data": {
            "text/plain": [
              "array([5, 1, 2, 5, 3, 4, 2, 0, 3, 1, 3, 2, 1, 4, 3, 0, 5, 0, 2, 5, 0, 0,\n",
              "       1, 3, 2, 3, 2, 5, 4, 2, 2, 3, 1, 2, 5, 5, 3, 5, 3, 3, 4, 1, 3, 2,\n",
              "       3, 1, 5, 3, 1, 2, 4, 4, 5, 5, 5, 1, 2, 3, 2, 5, 0, 2, 4, 2, 5, 4,\n",
              "       3, 0, 1, 2, 5, 2, 1, 2, 4, 5, 4, 1, 5, 5, 3, 1, 5, 3, 2, 4, 2, 5,\n",
              "       0, 5, 0, 5, 4, 0, 2, 4, 0, 2, 2, 0, 2, 3, 5, 3, 5, 5, 3, 1, 2, 2,\n",
              "       2, 1, 3, 2, 1, 3, 4, 4, 1, 1, 2, 4, 4, 1, 4, 2, 0, 4, 5, 5, 3, 1,\n",
              "       2, 1, 5, 5, 1, 2, 3, 3, 0, 3, 3, 0, 1, 0, 1, 2, 1, 5, 1, 2, 2, 0,\n",
              "       1, 1, 1, 1, 1, 4, 0, 1, 5, 1, 4, 5, 5, 4, 1, 0, 3, 5, 2, 3, 0, 4,\n",
              "       1, 3, 1, 0, 5, 5, 3, 5, 4, 5, 4, 0, 4, 1, 2, 1, 5, 0, 4, 3, 2, 1,\n",
              "       0, 3, 5, 0, 4, 5, 4, 5, 4])"
            ]
          },
          "metadata": {},
          "execution_count": 26
        }
      ]
    },
    {
      "cell_type": "code",
      "source": [
        "new_Ytest = y_test.astype(int)"
      ],
      "metadata": {
        "id": "0PHDKWJWDY3g"
      },
      "execution_count": 27,
      "outputs": []
    },
    {
      "cell_type": "code",
      "source": [
        "new_Ytest"
      ],
      "metadata": {
        "colab": {
          "base_uri": "https://localhost:8080/"
        },
        "id": "k68v2i-pDbZE",
        "outputId": "dd95448f-5205-47db-c681-37745e4750f2"
      },
      "execution_count": 28,
      "outputs": [
        {
          "output_type": "execute_result",
          "data": {
            "text/plain": [
              "array([5, 1, 2, 5, 3, 4, 2, 0, 3, 1, 3, 2, 1, 4, 3, 0, 5, 0, 2, 5, 0, 0,\n",
              "       1, 3, 2, 3, 2, 5, 4, 2, 2, 3, 1, 2, 5, 5, 3, 5, 3, 3, 4, 1, 3, 2,\n",
              "       3, 1, 5, 3, 1, 2, 4, 4, 5, 5, 5, 1, 2, 3, 2, 5, 0, 2, 4, 2, 5, 4,\n",
              "       3, 0, 1, 2, 5, 2, 1, 2, 4, 5, 4, 1, 5, 5, 3, 1, 5, 3, 2, 4, 2, 5,\n",
              "       0, 5, 0, 5, 4, 0, 2, 4, 0, 2, 2, 0, 2, 3, 5, 3, 5, 5, 3, 1, 2, 2,\n",
              "       2, 1, 3, 2, 1, 3, 4, 4, 1, 1, 2, 4, 4, 1, 4, 2, 0, 4, 5, 5, 3, 1,\n",
              "       2, 1, 5, 5, 1, 2, 3, 3, 0, 3, 3, 0, 1, 0, 1, 2, 1, 5, 1, 2, 2, 0,\n",
              "       1, 1, 1, 1, 1, 4, 0, 1, 5, 1, 4, 5, 5, 4, 1, 0, 3, 5, 2, 3, 0, 4,\n",
              "       1, 3, 1, 0, 5, 5, 3, 5, 4, 5, 4, 0, 4, 1, 2, 1, 5, 0, 4, 3, 2, 1,\n",
              "       0, 3, 5, 0, 4, 5, 4, 5, 4])"
            ]
          },
          "metadata": {},
          "execution_count": 28
        }
      ]
    },
    {
      "cell_type": "code",
      "source": [
        "preds1=predictions.argmax(axis=1)\n",
        "preds1"
      ],
      "metadata": {
        "colab": {
          "base_uri": "https://localhost:8080/"
        },
        "id": "4_cAI39VFhtp",
        "outputId": "05e5a0a8-9441-48e5-b5d3-9092ca2dabb6"
      },
      "execution_count": 29,
      "outputs": [
        {
          "output_type": "execute_result",
          "data": {
            "text/plain": [
              "array([5, 1, 2, 5, 3, 5, 2, 0, 3, 0, 3, 2, 1, 4, 3, 0, 5, 3, 2, 5, 0, 0,\n",
              "       1, 3, 2, 5, 2, 5, 4, 2, 2, 3, 1, 2, 5, 5, 1, 5, 3, 3, 4, 1, 3, 2,\n",
              "       3, 1, 5, 3, 1, 0, 4, 4, 5, 5, 5, 1, 2, 3, 2, 5, 0, 2, 4, 2, 5, 4,\n",
              "       3, 1, 1, 2, 5, 2, 1, 2, 4, 5, 4, 3, 5, 5, 3, 1, 5, 3, 2, 4, 2, 5,\n",
              "       0, 5, 0, 5, 4, 0, 3, 4, 3, 4, 2, 1, 2, 3, 5, 3, 5, 5, 5, 1, 2, 1,\n",
              "       2, 1, 3, 2, 1, 3, 5, 4, 0, 1, 2, 4, 4, 1, 4, 2, 0, 4, 5, 5, 5, 1,\n",
              "       4, 1, 5, 5, 1, 2, 3, 3, 0, 3, 5, 0, 1, 0, 1, 2, 1, 5, 0, 2, 2, 0,\n",
              "       1, 1, 1, 1, 1, 4, 0, 1, 5, 1, 4, 5, 2, 4, 1, 0, 5, 5, 2, 3, 3, 4,\n",
              "       1, 3, 1, 5, 5, 2, 3, 5, 4, 5, 0, 0, 4, 0, 2, 1, 5, 0, 4, 1, 2, 0,\n",
              "       1, 5, 5, 0, 4, 5, 4, 3, 4])"
            ]
          },
          "metadata": {},
          "execution_count": 29
        }
      ]
    },
    {
      "cell_type": "code",
      "source": [
        "abc = preds1.astype(int).flatten()"
      ],
      "metadata": {
        "id": "H4WEmM60NfQn"
      },
      "execution_count": 30,
      "outputs": []
    },
    {
      "cell_type": "code",
      "source": [
        "from sklearn.metrics import confusion_matrix\n",
        "c = confusion_matrix(new_Ytest, abc) \n",
        "c"
      ],
      "metadata": {
        "colab": {
          "base_uri": "https://localhost:8080/"
        },
        "id": "bKEBeEBlFjB8",
        "outputId": "9c34eb47-d9e0-42b0-aea8-ec085fa1e35f"
      },
      "execution_count": 31,
      "outputs": [
        {
          "output_type": "execute_result",
          "data": {
            "text/plain": [
              "array([[18,  3,  0,  3,  0,  1],\n",
              "       [ 5, 33,  0,  1,  0,  0],\n",
              "       [ 1,  1, 33,  1,  2,  0],\n",
              "       [ 0,  2,  0, 25,  0,  6],\n",
              "       [ 1,  0,  0,  0, 27,  2],\n",
              "       [ 0,  0,  2,  1,  0, 39]])"
            ]
          },
          "metadata": {},
          "execution_count": 31
        }
      ]
    },
    {
      "cell_type": "code",
      "source": [
        "y_test"
      ],
      "metadata": {
        "colab": {
          "base_uri": "https://localhost:8080/"
        },
        "id": "m4RjG7LWLSQx",
        "outputId": "c97c9476-f6a3-4734-b717-68df65c221d4"
      },
      "execution_count": 32,
      "outputs": [
        {
          "output_type": "execute_result",
          "data": {
            "text/plain": [
              "array([5, 1, 2, 5, 3, 4, 2, 0, 3, 1, 3, 2, 1, 4, 3, 0, 5, 0, 2, 5, 0, 0,\n",
              "       1, 3, 2, 3, 2, 5, 4, 2, 2, 3, 1, 2, 5, 5, 3, 5, 3, 3, 4, 1, 3, 2,\n",
              "       3, 1, 5, 3, 1, 2, 4, 4, 5, 5, 5, 1, 2, 3, 2, 5, 0, 2, 4, 2, 5, 4,\n",
              "       3, 0, 1, 2, 5, 2, 1, 2, 4, 5, 4, 1, 5, 5, 3, 1, 5, 3, 2, 4, 2, 5,\n",
              "       0, 5, 0, 5, 4, 0, 2, 4, 0, 2, 2, 0, 2, 3, 5, 3, 5, 5, 3, 1, 2, 2,\n",
              "       2, 1, 3, 2, 1, 3, 4, 4, 1, 1, 2, 4, 4, 1, 4, 2, 0, 4, 5, 5, 3, 1,\n",
              "       2, 1, 5, 5, 1, 2, 3, 3, 0, 3, 3, 0, 1, 0, 1, 2, 1, 5, 1, 2, 2, 0,\n",
              "       1, 1, 1, 1, 1, 4, 0, 1, 5, 1, 4, 5, 5, 4, 1, 0, 3, 5, 2, 3, 0, 4,\n",
              "       1, 3, 1, 0, 5, 5, 3, 5, 4, 5, 4, 0, 4, 1, 2, 1, 5, 0, 4, 3, 2, 1,\n",
              "       0, 3, 5, 0, 4, 5, 4, 5, 4])"
            ]
          },
          "metadata": {},
          "execution_count": 32
        }
      ]
    },
    {
      "cell_type": "code",
      "source": [
        "model.save('/content/drive/My Drive/graduation project/audio/paper_code/mariam/original_500 epoch_with_valid_Adam2_3')\n",
        "print(\"MODEL SAVED\")"
      ],
      "metadata": {
        "colab": {
          "base_uri": "https://localhost:8080/"
        },
        "id": "lsJBNeMWDl6Z",
        "outputId": "cf2a6e8f-1735-404e-ca49-180235fb1251"
      },
      "execution_count": 33,
      "outputs": [
        {
          "output_type": "stream",
          "name": "stdout",
          "text": [
            "INFO:tensorflow:Assets written to: /content/drive/My Drive/graduation project/audio/paper_code/mariam/original_500 epoch_with_valid_Adam2_3/assets\n",
            "MODEL SAVED\n"
          ]
        }
      ]
    },
    {
      "cell_type": "code",
      "source": [
        "new_model=keras.models.load_model('/content/drive/My Drive/graduation project/audio/paper_code/mariam/original_500 epoch_with_valid_Adam2_3')\n",
        "new_model.summary()"
      ],
      "metadata": {
        "colab": {
          "base_uri": "https://localhost:8080/"
        },
        "id": "Q3KjaO9GDoNl",
        "outputId": "9a89cf32-9792-4d64-a467-8a83e0159c3d"
      },
      "execution_count": 34,
      "outputs": [
        {
          "output_type": "stream",
          "name": "stdout",
          "text": [
            "Model: \"sequential\"\n",
            "_________________________________________________________________\n",
            " Layer (type)                Output Shape              Param #   \n",
            "=================================================================\n",
            " conv1d (Conv1D)             (None, 40, 128)           1152      \n",
            "                                                                 \n",
            " activation (Activation)     (None, 40, 128)           0         \n",
            "                                                                 \n",
            " dropout (Dropout)           (None, 40, 128)           0         \n",
            "                                                                 \n",
            " max_pooling1d (MaxPooling1D  (None, 8, 128)           0         \n",
            " )                                                               \n",
            "                                                                 \n",
            " conv1d_1 (Conv1D)           (None, 8, 256)            262400    \n",
            "                                                                 \n",
            " activation_1 (Activation)   (None, 8, 256)            0         \n",
            "                                                                 \n",
            " dropout_1 (Dropout)         (None, 8, 256)            0         \n",
            "                                                                 \n",
            " max_pooling1d_1 (MaxPooling  (None, 1, 256)           0         \n",
            " 1D)                                                             \n",
            "                                                                 \n",
            " flatten (Flatten)           (None, 256)               0         \n",
            "                                                                 \n",
            " dense (Dense)               (None, 256)               65792     \n",
            "                                                                 \n",
            " activation_2 (Activation)   (None, 256)               0         \n",
            "                                                                 \n",
            " dense_1 (Dense)             (None, 256)               65792     \n",
            "                                                                 \n",
            " activation_3 (Activation)   (None, 256)               0         \n",
            "                                                                 \n",
            " dense_2 (Dense)             (None, 6)                 1542      \n",
            "                                                                 \n",
            " activation_4 (Activation)   (None, 6)                 0         \n",
            "                                                                 \n",
            "=================================================================\n",
            "Total params: 396,678\n",
            "Trainable params: 396,678\n",
            "Non-trainable params: 0\n",
            "_________________________________________________________________\n"
          ]
        }
      ]
    },
    {
      "cell_type": "code",
      "source": [
        "loss, acc =model.evaluate(x_testcnn, y_test)\n",
        "print(\"Restored model, accuracy: {:5.2f}%\".format(100*acc))"
      ],
      "metadata": {
        "colab": {
          "base_uri": "https://localhost:8080/"
        },
        "id": "n3kzoqPkDqqS",
        "outputId": "7f1d862e-21d9-4590-d6f1-3a3e68289612"
      },
      "execution_count": 35,
      "outputs": [
        {
          "output_type": "stream",
          "name": "stdout",
          "text": [
            "7/7 [==============================] - 0s 7ms/step - loss: 0.7246 - accuracy: 0.8454\n",
            "Restored model, accuracy: 84.54%\n"
          ]
        }
      ]
    },
    {
      "cell_type": "code",
      "source": [
        "loss, acc =model.evaluate(X_train, y_train)\n",
        "print(\"Restored model train, accuracy: {:5.2f}%\".format(100*acc))"
      ],
      "metadata": {
        "id": "fJDTGH_OUX0z",
        "colab": {
          "base_uri": "https://localhost:8080/"
        },
        "outputId": "6a8e9096-97fb-4e0d-f97a-9ab371137e78"
      },
      "execution_count": 36,
      "outputs": [
        {
          "output_type": "stream",
          "name": "stdout",
          "text": [
            "52/52 [==============================] - 1s 6ms/step - loss: 0.0522 - accuracy: 0.9867\n",
            "Restored model train, accuracy: 98.67%\n"
          ]
        }
      ]
    },
    {
      "cell_type": "code",
      "source": [
        "from sklearn.metrics import classification_report, confusion_matrix,accuracy_score\n",
        "import seaborn as sn\n",
        "\n",
        "print(classification_report(new_Ytest,abc))\n",
        "\n",
        "acc = float(accuracy_score(new_Ytest,abc))*100\n",
        "print(\"----accuracy score %s ----\" % acc)\n",
        "\n",
        "cm = confusion_matrix(new_Ytest,abc)\n",
        "#df_cm = pd.DataFrame(cm)\n",
        "class_names = ['neutral','calm', 'happy','sad','angry', 'fearful' ]\n",
        "df_cm = pd.DataFrame(cm, index=class_names, columns=class_names,)\n",
        "sn.heatmap(df_cm, annot=True, fmt='')\n",
        "plt.show()"
      ],
      "metadata": {
        "colab": {
          "base_uri": "https://localhost:8080/",
          "height": 508
        },
        "id": "SfSC3El94LZg",
        "outputId": "63474227-82ae-4cbe-eb14-0f68845bef61"
      },
      "execution_count": 37,
      "outputs": [
        {
          "output_type": "stream",
          "name": "stdout",
          "text": [
            "              precision    recall  f1-score   support\n",
            "\n",
            "           0       0.72      0.72      0.72        25\n",
            "           1       0.85      0.85      0.85        39\n",
            "           2       0.94      0.87      0.90        38\n",
            "           3       0.81      0.76      0.78        33\n",
            "           4       0.93      0.90      0.92        30\n",
            "           5       0.81      0.93      0.87        42\n",
            "\n",
            "    accuracy                           0.85       207\n",
            "   macro avg       0.84      0.84      0.84       207\n",
            "weighted avg       0.85      0.85      0.85       207\n",
            "\n",
            "----accuracy score 84.54106280193237 ----\n"
          ]
        },
        {
          "output_type": "display_data",
          "data": {
            "text/plain": [
              "<Figure size 432x288 with 2 Axes>"
            ],
            "image/png": "[encoded data removed]"
          },
          "metadata": {
            "needs_background": "light"
          }
        }
      ]
    },
    {
      "cell_type": "code",
      "source": [
        ""
      ],
      "metadata": {
        "id": "LGpgwFQqkpyU"
      },
      "execution_count": 37,
      "outputs": []
    }
  ]
}