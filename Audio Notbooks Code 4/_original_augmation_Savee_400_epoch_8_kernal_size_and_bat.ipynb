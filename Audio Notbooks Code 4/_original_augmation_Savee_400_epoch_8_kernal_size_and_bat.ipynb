{
  "cells": [
    {
      "cell_type": "code",
      "execution_count": null,
      "metadata": {
        "colab": {
          "base_uri": "https://localhost:8080/"
        },
        "id": "uzZTLwtNdxKi",
        "outputId": "6a6f5a12-a0d2-4825-e5f7-f9e8cd2dd5ae"
      },
      "outputs": [
        {
          "name": "stdout",
          "output_type": "stream",
          "text": [
            "Requirement already satisfied: keras in /opt/conda/envs/rapids/lib/python3.7/site-packages (2.8.0)\n",
            "\u001b[33mWARNING: Running pip as the 'root' user can result in broken permissions and conflicting behaviour with the system package manager. It is recommended to use a virtual environment instead: https://pip.pypa.io/warnings/venv\u001b[0m\n",
            "Note: you may need to restart the kernel to use updated packages.\n"
          ]
        }
      ],
      "source": [
        "pip install keras"
      ]
    },
    {
      "cell_type": "code",
      "source": [
        "from google.colab import drive\n",
        "drive.mount('/content/drive')"
      ],
      "metadata": {
        "colab": {
          "base_uri": "https://localhost:8080/"
        },
        "id": "cB9NV-RLdSLZ",
        "outputId": "65e45188-024c-4db1-955c-69fcb00b1b08"
      },
      "execution_count": 1,
      "outputs": [
        {
          "output_type": "stream",
          "name": "stdout",
          "text": [
            "Drive already mounted at /content/drive; to attempt to forcibly remount, call drive.mount(\"/content/drive\", force_remount=True).\n"
          ]
        }
      ]
    },
    {
      "cell_type": "code",
      "execution_count": null,
      "metadata": {
        "id": "EbHyBIe_dOYb",
        "outputId": "65c42ecd-cb15-422c-9f7c-006f2a33e71f"
      },
      "outputs": [
        {
          "name": "stdout",
          "output_type": "stream",
          "text": [
            "Requirement already satisfied: tensorflow in /opt/conda/envs/rapids/lib/python3.7/site-packages (2.8.0)\n",
            "Requirement already satisfied: termcolor>=1.1.0 in /opt/conda/envs/rapids/lib/python3.7/site-packages (from tensorflow) (1.1.0)\n",
            "Requirement already satisfied: tf-estimator-nightly==2.8.0.dev2021122109 in /opt/conda/envs/rapids/lib/python3.7/site-packages (from tensorflow) (2.8.0.dev2021122109)\n",
            "Requirement already satisfied: numpy>=1.20 in /opt/conda/envs/rapids/lib/python3.7/site-packages (from tensorflow) (1.21.1)\n",
            "Requirement already satisfied: libclang>=9.0.1 in /opt/conda/envs/rapids/lib/python3.7/site-packages (from tensorflow) (13.0.0)\n",
            "Requirement already satisfied: gast>=0.2.1 in /opt/conda/envs/rapids/lib/python3.7/site-packages (from tensorflow) (0.5.3)\n",
            "Requirement already satisfied: tensorflow-io-gcs-filesystem>=0.23.1 in /opt/conda/envs/rapids/lib/python3.7/site-packages (from tensorflow) (0.24.0)\n",
            "Requirement already satisfied: h5py>=2.9.0 in /opt/conda/envs/rapids/lib/python3.7/site-packages (from tensorflow) (3.6.0)\n",
            "Requirement already satisfied: setuptools in /opt/conda/envs/rapids/lib/python3.7/site-packages (from tensorflow) (49.6.0.post20210108)\n",
            "Requirement already satisfied: grpcio<2.0,>=1.24.3 in /opt/conda/envs/rapids/lib/python3.7/site-packages (from tensorflow) (1.44.0)\n",
            "Requirement already satisfied: keras<2.9,>=2.8.0rc0 in /opt/conda/envs/rapids/lib/python3.7/site-packages (from tensorflow) (2.8.0)\n",
            "Requirement already satisfied: wrapt>=1.11.0 in /opt/conda/envs/rapids/lib/python3.7/site-packages (from tensorflow) (1.12.1)\n",
            "Requirement already satisfied: google-pasta>=0.1.1 in /opt/conda/envs/rapids/lib/python3.7/site-packages (from tensorflow) (0.2.0)\n",
            "Requirement already satisfied: absl-py>=0.4.0 in /opt/conda/envs/rapids/lib/python3.7/site-packages (from tensorflow) (1.0.0)\n",
            "Requirement already satisfied: opt-einsum>=2.3.2 in /opt/conda/envs/rapids/lib/python3.7/site-packages (from tensorflow) (3.3.0)\n",
            "Requirement already satisfied: astunparse>=1.6.0 in /opt/conda/envs/rapids/lib/python3.7/site-packages (from tensorflow) (1.6.3)\n",
            "Requirement already satisfied: six>=1.12.0 in /opt/conda/envs/rapids/lib/python3.7/site-packages (from tensorflow) (1.16.0)\n",
            "Requirement already satisfied: tensorboard<2.9,>=2.8 in /opt/conda/envs/rapids/lib/python3.7/site-packages (from tensorflow) (2.8.0)\n",
            "Requirement already satisfied: flatbuffers>=1.12 in /opt/conda/envs/rapids/lib/python3.7/site-packages (from tensorflow) (2.0)\n",
            "Requirement already satisfied: keras-preprocessing>=1.1.1 in /opt/conda/envs/rapids/lib/python3.7/site-packages (from tensorflow) (1.1.2)\n",
            "Requirement already satisfied: typing-extensions>=3.6.6 in /opt/conda/envs/rapids/lib/python3.7/site-packages (from tensorflow) (3.10.0.0)\n",
            "Requirement already satisfied: protobuf>=3.9.2 in /opt/conda/envs/rapids/lib/python3.7/site-packages (from tensorflow) (3.16.0)\n",
            "Requirement already satisfied: wheel<1.0,>=0.23.0 in /opt/conda/envs/rapids/lib/python3.7/site-packages (from astunparse>=1.6.0->tensorflow) (0.37.0)\n",
            "Requirement already satisfied: cached-property in /opt/conda/envs/rapids/lib/python3.7/site-packages (from h5py>=2.9.0->tensorflow) (1.5.2)\n",
            "Requirement already satisfied: markdown>=2.6.8 in /opt/conda/envs/rapids/lib/python3.7/site-packages (from tensorboard<2.9,>=2.8->tensorflow) (3.3.4)\n",
            "Requirement already satisfied: tensorboard-plugin-wit>=1.6.0 in /opt/conda/envs/rapids/lib/python3.7/site-packages (from tensorboard<2.9,>=2.8->tensorflow) (1.8.1)\n",
            "Requirement already satisfied: tensorboard-data-server<0.7.0,>=0.6.0 in /opt/conda/envs/rapids/lib/python3.7/site-packages (from tensorboard<2.9,>=2.8->tensorflow) (0.6.1)\n",
            "Requirement already satisfied: google-auth<3,>=1.6.3 in /opt/conda/envs/rapids/lib/python3.7/site-packages (from tensorboard<2.9,>=2.8->tensorflow) (2.6.0)\n",
            "Requirement already satisfied: requests<3,>=2.21.0 in /opt/conda/envs/rapids/lib/python3.7/site-packages (from tensorboard<2.9,>=2.8->tensorflow) (2.26.0)\n",
            "Requirement already satisfied: werkzeug>=0.11.15 in /opt/conda/envs/rapids/lib/python3.7/site-packages (from tensorboard<2.9,>=2.8->tensorflow) (2.0.3)\n",
            "Requirement already satisfied: google-auth-oauthlib<0.5,>=0.4.1 in /opt/conda/envs/rapids/lib/python3.7/site-packages (from tensorboard<2.9,>=2.8->tensorflow) (0.4.6)\n",
            "Requirement already satisfied: cachetools<6.0,>=2.0.0 in /opt/conda/envs/rapids/lib/python3.7/site-packages (from google-auth<3,>=1.6.3->tensorboard<2.9,>=2.8->tensorflow) (4.2.2)\n",
            "Requirement already satisfied: pyasn1-modules>=0.2.1 in /opt/conda/envs/rapids/lib/python3.7/site-packages (from google-auth<3,>=1.6.3->tensorboard<2.9,>=2.8->tensorflow) (0.2.8)\n",
            "Requirement already satisfied: rsa<5,>=3.1.4 in /opt/conda/envs/rapids/lib/python3.7/site-packages (from google-auth<3,>=1.6.3->tensorboard<2.9,>=2.8->tensorflow) (4.8)\n",
            "Requirement already satisfied: requests-oauthlib>=0.7.0 in /opt/conda/envs/rapids/lib/python3.7/site-packages (from google-auth-oauthlib<0.5,>=0.4.1->tensorboard<2.9,>=2.8->tensorflow) (1.3.1)\n",
            "Requirement already satisfied: importlib-metadata in /opt/conda/envs/rapids/lib/python3.7/site-packages (from markdown>=2.6.8->tensorboard<2.9,>=2.8->tensorflow) (4.6.4)\n",
            "Requirement already satisfied: pyasn1<0.5.0,>=0.4.6 in /opt/conda/envs/rapids/lib/python3.7/site-packages (from pyasn1-modules>=0.2.1->google-auth<3,>=1.6.3->tensorboard<2.9,>=2.8->tensorflow) (0.4.8)\n",
            "Requirement already satisfied: urllib3<1.27,>=1.21.1 in /opt/conda/envs/rapids/lib/python3.7/site-packages (from requests<3,>=2.21.0->tensorboard<2.9,>=2.8->tensorflow) (1.26.6)\n",
            "Requirement already satisfied: certifi>=2017.4.17 in /opt/conda/envs/rapids/lib/python3.7/site-packages (from requests<3,>=2.21.0->tensorboard<2.9,>=2.8->tensorflow) (2021.10.8)\n",
            "Requirement already satisfied: idna<4,>=2.5 in /opt/conda/envs/rapids/lib/python3.7/site-packages (from requests<3,>=2.21.0->tensorboard<2.9,>=2.8->tensorflow) (3.1)\n",
            "Requirement already satisfied: charset-normalizer~=2.0.0 in /opt/conda/envs/rapids/lib/python3.7/site-packages (from requests<3,>=2.21.0->tensorboard<2.9,>=2.8->tensorflow) (2.0.0)\n",
            "Requirement already satisfied: oauthlib>=3.0.0 in /opt/conda/envs/rapids/lib/python3.7/site-packages (from requests-oauthlib>=0.7.0->google-auth-oauthlib<0.5,>=0.4.1->tensorboard<2.9,>=2.8->tensorflow) (3.2.0)\n",
            "Requirement already satisfied: zipp>=0.5 in /opt/conda/envs/rapids/lib/python3.7/site-packages (from importlib-metadata->markdown>=2.6.8->tensorboard<2.9,>=2.8->tensorflow) (3.5.0)\n",
            "\u001b[33mWARNING: Running pip as the 'root' user can result in broken permissions and conflicting behaviour with the system package manager. It is recommended to use a virtual environment instead: https://pip.pypa.io/warnings/venv\u001b[0m\n",
            "Note: you may need to restart the kernel to use updated packages.\n"
          ]
        }
      ],
      "source": [
        "pip install tensorflow"
      ]
    },
    {
      "cell_type": "code",
      "execution_count": null,
      "metadata": {
        "id": "-2iPI3-RdOYc",
        "outputId": "2509154d-3389-4ed5-bb2b-ee9ecd547258"
      },
      "outputs": [
        {
          "name": "stdout",
          "output_type": "stream",
          "text": [
            "Collecting package metadata (current_repodata.json): done\n",
            "Solving environment: done\n",
            "\n",
            "# All requested packages already installed.\n",
            "\n",
            "\n",
            "Note: you may need to restart the kernel to use updated packages.\n"
          ]
        }
      ],
      "source": [
        "conda install librosa "
      ]
    },
    {
      "cell_type": "code",
      "execution_count": null,
      "metadata": {
        "id": "bcVbQcYAdOYd",
        "outputId": "1390c775-5026-4e4a-9499-dda6f863afb1"
      },
      "outputs": [
        {
          "name": "stdout",
          "output_type": "stream",
          "text": [
            "Requirement already satisfied: plotly in /opt/conda/envs/rapids/lib/python3.7/site-packages (5.6.0)\n",
            "Requirement already satisfied: tenacity>=6.2.0 in /opt/conda/envs/rapids/lib/python3.7/site-packages (from plotly) (8.0.1)\n",
            "Requirement already satisfied: six in /opt/conda/envs/rapids/lib/python3.7/site-packages (from plotly) (1.16.0)\n",
            "\u001b[33mWARNING: Running pip as the 'root' user can result in broken permissions and conflicting behaviour with the system package manager. It is recommended to use a virtual environment instead: https://pip.pypa.io/warnings/venv\u001b[0m\n",
            "Note: you may need to restart the kernel to use updated packages.\n"
          ]
        }
      ],
      "source": [
        "pip install plotly"
      ]
    },
    {
      "cell_type": "code",
      "execution_count": null,
      "metadata": {
        "id": "QeizPlDkdOYe",
        "outputId": "0307d276-8ddb-469d-d681-866e0cd6afab"
      },
      "outputs": [
        {
          "name": "stdout",
          "output_type": "stream",
          "text": [
            "Requirement already satisfied: librosa in /opt/conda/envs/rapids/lib/python3.7/site-packages (0.9.1)\n",
            "Requirement already satisfied: resampy>=0.2.2 in /opt/conda/envs/rapids/lib/python3.7/site-packages (from librosa) (0.2.2)\n",
            "Requirement already satisfied: scikit-learn>=0.19.1 in /opt/conda/envs/rapids/lib/python3.7/site-packages (from librosa) (0.23.1)\n",
            "Requirement already satisfied: pooch>=1.0 in /opt/conda/envs/rapids/lib/python3.7/site-packages (from librosa) (1.5.1)\n",
            "Requirement already satisfied: audioread>=2.1.5 in /opt/conda/envs/rapids/lib/python3.7/site-packages (from librosa) (2.1.9)\n",
            "Requirement already satisfied: packaging>=20.0 in /opt/conda/envs/rapids/lib/python3.7/site-packages (from librosa) (21.0)\n",
            "Requirement already satisfied: numpy>=1.17.0 in /opt/conda/envs/rapids/lib/python3.7/site-packages (from librosa) (1.21.1)\n",
            "Requirement already satisfied: decorator>=4.0.10 in /opt/conda/envs/rapids/lib/python3.7/site-packages (from librosa) (4.4.2)\n",
            "Requirement already satisfied: joblib>=0.14 in /opt/conda/envs/rapids/lib/python3.7/site-packages (from librosa) (1.0.1)\n",
            "Requirement already satisfied: numba>=0.45.1 in /opt/conda/envs/rapids/lib/python3.7/site-packages (from librosa) (0.53.1)\n",
            "Requirement already satisfied: scipy>=1.2.0 in /opt/conda/envs/rapids/lib/python3.7/site-packages (from librosa) (1.6.0)\n",
            "Requirement already satisfied: soundfile>=0.10.2 in /opt/conda/envs/rapids/lib/python3.7/site-packages (from librosa) (0.10.3.post1)\n",
            "Requirement already satisfied: llvmlite<0.37,>=0.36.0rc1 in /opt/conda/envs/rapids/lib/python3.7/site-packages (from numba>=0.45.1->librosa) (0.36.0)\n",
            "Requirement already satisfied: setuptools in /opt/conda/envs/rapids/lib/python3.7/site-packages (from numba>=0.45.1->librosa) (49.6.0.post20210108)\n",
            "Requirement already satisfied: pyparsing>=2.0.2 in /opt/conda/envs/rapids/lib/python3.7/site-packages (from packaging>=20.0->librosa) (2.4.7)\n",
            "Requirement already satisfied: requests in /opt/conda/envs/rapids/lib/python3.7/site-packages (from pooch>=1.0->librosa) (2.26.0)\n",
            "Requirement already satisfied: appdirs in /opt/conda/envs/rapids/lib/python3.7/site-packages (from pooch>=1.0->librosa) (1.4.4)\n",
            "Requirement already satisfied: six>=1.3 in /opt/conda/envs/rapids/lib/python3.7/site-packages (from resampy>=0.2.2->librosa) (1.16.0)\n",
            "Requirement already satisfied: threadpoolctl>=2.0.0 in /opt/conda/envs/rapids/lib/python3.7/site-packages (from scikit-learn>=0.19.1->librosa) (2.2.0)\n",
            "Requirement already satisfied: cffi>=1.0 in /opt/conda/envs/rapids/lib/python3.7/site-packages (from soundfile>=0.10.2->librosa) (1.14.6)\n",
            "Requirement already satisfied: pycparser in /opt/conda/envs/rapids/lib/python3.7/site-packages (from cffi>=1.0->soundfile>=0.10.2->librosa) (2.20)\n",
            "Requirement already satisfied: certifi>=2017.4.17 in /opt/conda/envs/rapids/lib/python3.7/site-packages (from requests->pooch>=1.0->librosa) (2021.10.8)\n",
            "Requirement already satisfied: urllib3<1.27,>=1.21.1 in /opt/conda/envs/rapids/lib/python3.7/site-packages (from requests->pooch>=1.0->librosa) (1.26.6)\n",
            "Requirement already satisfied: charset-normalizer~=2.0.0 in /opt/conda/envs/rapids/lib/python3.7/site-packages (from requests->pooch>=1.0->librosa) (2.0.0)\n",
            "Requirement already satisfied: idna<4,>=2.5 in /opt/conda/envs/rapids/lib/python3.7/site-packages (from requests->pooch>=1.0->librosa) (3.1)\n",
            "\u001b[33mWARNING: Running pip as the 'root' user can result in broken permissions and conflicting behaviour with the system package manager. It is recommended to use a virtual environment instead: https://pip.pypa.io/warnings/venv\u001b[0m\n",
            "Note: you may need to restart the kernel to use updated packages.\n"
          ]
        }
      ],
      "source": [
        "pip install librosa"
      ]
    },
    {
      "cell_type": "code",
      "execution_count": 2,
      "metadata": {
        "colab": {
          "base_uri": "https://localhost:8080/",
          "height": 17
        },
        "id": "NgJohC6sdr-S",
        "outputId": "102b3584-1466-4cf8-a0e3-c8010b318138"
      },
      "outputs": [
        {
          "output_type": "display_data",
          "data": {
            "text/html": [
              "        <script type=\"text/javascript\">\n",
              "        window.PlotlyConfig = {MathJaxConfig: 'local'};\n",
              "        if (window.MathJax) {MathJax.Hub.Config({SVG: {font: \"STIX-Web\"}});}\n",
              "        if (typeof require !== 'undefined') {\n",
              "        require.undef(\"plotly\");\n",
              "        requirejs.config({\n",
              "            paths: {\n",
              "                'plotly': ['https://cdn.plot.ly/plotly-2.8.3.min']\n",
              "            }\n",
              "        });\n",
              "        require(['plotly'], function(Plotly) {\n",
              "            window._Plotly = Plotly;\n",
              "        });\n",
              "        }\n",
              "        </script>\n",
              "        "
            ]
          },
          "metadata": {}
        }
      ],
      "source": [
        "# Orignial Notebook: https://github.com/MITESHPUTHRANNEU/Speech-Emotion-Analyzer/blob/master/final_results_gender_test.ipynb\n",
        "# This notebook author: Reza Chu\n",
        "# Last Editing Date: 31st May 2019\n",
        "\n",
        "## Python\n",
        "import os\n",
        "import random\n",
        "import sys\n",
        "\n",
        "import IPython\n",
        "from IPython.display import Audio\n",
        "from IPython.display import Image\n",
        "import matplotlib.pyplot as plt\n",
        "\n",
        "## Package\n",
        "import glob \n",
        "import keras\n",
        "import IPython.display as ipd\n",
        "import librosa\n",
        "import librosa.display\n",
        "import matplotlib.pyplot as plt\n",
        "import numpy as np\n",
        "import pandas as pd\n",
        "import plotly.graph_objs as go\n",
        "import plotly.offline as py\n",
        "import plotly.tools as tls\n",
        "import seaborn as sns\n",
        "import scipy.io.wavfile\n",
        "import tensorflow as tf\n",
        "py.init_notebook_mode(connected=True)\n",
        "\n",
        "## Keras\n",
        "from keras import regularizers\n",
        "from keras.callbacks import ModelCheckpoint, LearningRateScheduler, EarlyStopping\n",
        "from keras.callbacks import  History, ReduceLROnPlateau, CSVLogger\n",
        "from keras.models import Model, Sequential\n",
        "from keras.layers import Dense, Embedding, LSTM\n",
        "from keras.layers import Input, Flatten, Dropout, Activation, BatchNormalization\n",
        "from keras.layers import Conv1D, MaxPooling1D, AveragePooling1D\n",
        "from keras.preprocessing import sequence\n",
        "from keras.preprocessing.sequence import pad_sequences\n",
        "from keras.preprocessing.text import Tokenizer\n",
        "from keras.utils import np_utils\n",
        "from tensorflow.keras.utils import to_categorical\n",
        "\n",
        "## Sklearn\n",
        "from sklearn.metrics import confusion_matrix\n",
        "from sklearn.preprocessing import LabelEncoder\n",
        "\n",
        "## Rest\n",
        "from scipy.fftpack import fft\n",
        "from scipy import signal\n",
        "from scipy.io import wavfile\n",
        "from tqdm import tqdm\n",
        "\n",
        "input_duration=3\n",
        "# % pylab inline"
      ]
    },
    {
      "cell_type": "code",
      "execution_count": 3,
      "metadata": {
        "colab": {
          "base_uri": "https://localhost:8080/"
        },
        "id": "a9_TpDKveU1d",
        "outputId": "e84f401c-a0c5-45c5-9a69-52db9954fa9f"
      },
      "outputs": [
        {
          "output_type": "stream",
          "name": "stdout",
          "text": [
            "--- Data loaded. Loading time: 14.231287956237793 seconds ---\n"
          ]
        }
      ],
      "source": [
        "#only SAVEE data set\n",
        "import time\n",
        "import os\n",
        "import librosa\n",
        "from librosa import display\n",
        "import matplotlib.pyplot as plt\n",
        "\n",
        "lst = []\n",
        "count=0\n",
        "start_time = time.time()\n",
        "\n",
        "path3 = '/content/drive/My Drive/data_set/SAVEE'\n",
        "for subdir, dirs, files in os.walk(path3):\n",
        "  for file in files:\n",
        "      try:\n",
        "        #0 = neutral,  1 = fearful, 2 = happy, 3 = sad, 4 = angry\n",
        "        if file.startswith('a'):\n",
        "            emotion=4\n",
        "        elif file.startswith('d'):\n",
        "            continue\n",
        "        elif file.startswith('f'):\n",
        "            emotion=1\n",
        "        elif file.startswith('h'):\n",
        "            emotion=2\n",
        "        elif file.startswith('n'):\n",
        "            emotion=0\n",
        "        elif file.startswith('sa'):\n",
        "            emotion=3\n",
        "        elif file.startswith('su'):\n",
        "            continue\n",
        "        else:\n",
        "            continue\n",
        "        #Load librosa array, obtain mfcss, store the file and the mcss information in a new array\n",
        "        X, sample_rate = librosa.load(os.path.join(subdir,file), res_type='kaiser_fast')\n",
        "        #print(sample_rate)\n",
        "       # mfccs = np.mean(librosa.feature.mfcc(y=X, sr=sample_rate, n_mfcc=40).T,axis=0) \n",
        "        count +=1\n",
        "        # The instruction below converts the labels (from 1 to 8) to a series from 0 to 7\n",
        "        # This is because our predictor needs to start from 0 otherwise it will try to predict also 0.\n",
        "        #file = int(file[7:8]) - 1 \n",
        "        #0 = neutral, 1 = calm, 2 = happy, 3 = sad, 4 = angry, 5 = fearful, 6 = disgust, 7 = surprised\n",
        "        arr = X, emotion\n",
        "        lst.append(arr)\n",
        "      # If the file is not valid, skip it\n",
        "      except ValueError:\n",
        "        continue\n",
        "\n",
        "print(\"--- Data loaded. Loading time: %s seconds ---\" % (time.time() - start_time))"
      ]
    },
    {
      "cell_type": "code",
      "execution_count": 4,
      "metadata": {
        "colab": {
          "base_uri": "https://localhost:8080/"
        },
        "id": "XVaArAIkdOYj",
        "outputId": "7cda59b7-7fa0-4b5d-a194-c35890c842bc"
      },
      "outputs": [
        {
          "output_type": "stream",
          "name": "stderr",
          "text": [
            "/usr/local/lib/python3.7/dist-packages/numpy/core/fromnumeric.py:3208: VisibleDeprecationWarning:\n",
            "\n",
            "Creating an ndarray from ragged nested sequences (which is a list-or-tuple of lists-or-tuples-or ndarrays with different lengths or shapes) is deprecated. If you meant to do this, you must specify 'dtype=object' when creating the ndarray.\n",
            "\n"
          ]
        },
        {
          "output_type": "execute_result",
          "data": {
            "text/plain": [
              "720"
            ]
          },
          "metadata": {},
          "execution_count": 4
        }
      ],
      "source": [
        "from numpy.core.fromnumeric import size\n",
        "size(lst)\n"
      ]
    },
    {
      "cell_type": "code",
      "execution_count": 5,
      "metadata": {
        "colab": {
          "base_uri": "https://localhost:8080/"
        },
        "id": "uo6fLwandOYl",
        "outputId": "2c8b338e-c485-4748-fc13-c55f511f42c5"
      },
      "outputs": [
        {
          "output_type": "stream",
          "name": "stderr",
          "text": [
            "/usr/local/lib/python3.7/dist-packages/numpy/core/fromnumeric.py:3208: VisibleDeprecationWarning:\n",
            "\n",
            "Creating an ndarray from ragged nested sequences (which is a list-or-tuple of lists-or-tuples-or ndarrays with different lengths or shapes) is deprecated. If you meant to do this, you must specify 'dtype=object' when creating the ndarray.\n",
            "\n"
          ]
        },
        {
          "output_type": "execute_result",
          "data": {
            "text/plain": [
              "720"
            ]
          },
          "metadata": {},
          "execution_count": 5
        }
      ],
      "source": [
        "from numpy.core.fromnumeric import size\n",
        "size(lst)\n"
      ]
    },
    {
      "cell_type": "code",
      "execution_count": 6,
      "metadata": {
        "colab": {
          "base_uri": "https://localhost:8080/"
        },
        "id": "2vTLVo3SdOYm",
        "outputId": "7e271b4b-8017-4840-d2d6-c35e3e100efb"
      },
      "outputs": [
        {
          "output_type": "stream",
          "name": "stderr",
          "text": [
            "/usr/local/lib/python3.7/dist-packages/ipykernel_launcher.py:2: VisibleDeprecationWarning:\n",
            "\n",
            "Creating an ndarray from ragged nested sequences (which is a list-or-tuple of lists-or-tuples-or ndarrays with different lengths or shapes) is deprecated. If you meant to do this, you must specify 'dtype=object' when creating the ndarray.\n",
            "\n"
          ]
        }
      ],
      "source": [
        "audio_file, emotion = zip(*lst)\n",
        "audio_file=np.asarray(audio_file)\n",
        "emotion=np.asarray(emotion)\n"
      ]
    },
    {
      "cell_type": "code",
      "execution_count": 7,
      "metadata": {
        "colab": {
          "base_uri": "https://localhost:8080/"
        },
        "id": "M-pbYcFDd5a2",
        "outputId": "60fc1cd2-6de0-40b7-e7d7-be0527d3aa16"
      },
      "outputs": [
        {
          "output_type": "execute_result",
          "data": {
            "text/plain": [
              "((288,), (36,), (36,))"
            ]
          },
          "metadata": {},
          "execution_count": 7
        }
      ],
      "source": [
        "\n",
        "emotion.shape,audio_file.shape\n",
        "\n",
        "from sklearn.model_selection import train_test_split\n",
        "\n",
        "signal_train, signal_test, emo_train, emo_test = train_test_split(audio_file,emotion, test_size=0.2, random_state=42)\n",
        "signal_valid, signal_test, emo_valid, emo_test = train_test_split(signal_test,emo_test, test_size=0.5,train_size=0.5, random_state=42)\n",
        "signal_train.shape,signal_valid.shape,signal_test.shape"
      ]
    },
    {
      "cell_type": "code",
      "execution_count": 8,
      "metadata": {
        "id": "OflClL3QfDoj"
      },
      "outputs": [],
      "source": [
        "x_valid=[]\n",
        "x_test=[]\n",
        "for i in range(signal_valid.size):\n",
        "  x_valid.append(np.mean(librosa.feature.mfcc(y=signal_valid[i], sr=sample_rate, n_mfcc=40).T,axis=0))\n",
        "  #x_valid.append(np.mean(librosa.feature.chroma_stft(S=np.abs(librosa.stft(signal_valid[i])), sr=sample_rate ,n_chroma=12).T,axis=0))\n",
        "\n",
        "for i in range(signal_test.size):\n",
        "  x_test.append(np.mean(librosa.feature.mfcc(y=signal_test[i], sr=sample_rate, n_mfcc=40).T,axis=0))\n",
        "  #x_test.append(np.mean(librosa.feature.chroma_stft(S=np.abs(librosa.stft(signal_test[i])), sr=sample_rate,n_chroma=12).T,axis=0))\n",
        "#resv = np.hstack((resv, mfccsv))  \n",
        "#resv = np.hstack((resv, cromav))  \n",
        "#resv = np.hstack((resv, melv))  \n",
        "\n",
        "#rest = np.hstack((rest, mfccst))  \n",
        "#rest = np.hstack((rest, cromat))  \n",
        "#rest = np.hstack((rest, melt))\n",
        "\n",
        "#x_valid.append(resv)\n",
        "#x_test.append(rest)"
      ]
    },
    {
      "cell_type": "code",
      "execution_count": 9,
      "metadata": {
        "colab": {
          "base_uri": "https://localhost:8080/"
        },
        "id": "kJkN-K17gSvD",
        "outputId": "0f534e07-3b3e-46ca-9167-e1fc3d66dc83"
      },
      "outputs": [
        {
          "output_type": "execute_result",
          "data": {
            "text/plain": [
              "((36, 40), (36, 40))"
            ]
          },
          "metadata": {},
          "execution_count": 9
        }
      ],
      "source": [
        "x_valid=np.asarray(x_valid)\n",
        "x_test=np.asarray(x_test)\n",
        "x_valid.shape,x_test.shape"
      ]
    },
    {
      "cell_type": "code",
      "execution_count": 10,
      "metadata": {
        "id": "k43cyWMKgXo9"
      },
      "outputs": [],
      "source": [
        "train_lst=[]\n",
        "for i in range(signal_train.size):\n",
        "  emo=emo_train[i]\n",
        "  x=signal_train[i]\n",
        "  arr=x,emo\n",
        "  train_lst.append(arr)\n",
        "  x=librosa.effects.time_stretch(signal_train[i],0.5)\n",
        "  arr=x,emo\n",
        "  train_lst.append(arr)\n",
        "  x=librosa.effects.time_stretch(signal_train[i],1.5)\n",
        "  arr=x,emo\n",
        "  train_lst.append(arr)\n",
        "  x=librosa.effects.pitch_shift(signal_train[i],sample_rate,2)\n",
        "  arr=x,emo\n",
        "  train_lst.append(arr)"
      ]
    },
    {
      "cell_type": "code",
      "execution_count": 11,
      "metadata": {
        "id": "gFL9v0A9kYvD"
      },
      "outputs": [],
      "source": [
        "signal, y_train = zip(*train_lst)"
      ]
    },
    {
      "cell_type": "code",
      "execution_count": 12,
      "metadata": {
        "colab": {
          "base_uri": "https://localhost:8080/"
        },
        "id": "ulnUCfZikY7Y",
        "outputId": "99b5b744-3b85-4483-f055-8e3097d5b691"
      },
      "outputs": [
        {
          "output_type": "stream",
          "name": "stderr",
          "text": [
            "/usr/local/lib/python3.7/dist-packages/ipykernel_launcher.py:1: VisibleDeprecationWarning:\n",
            "\n",
            "Creating an ndarray from ragged nested sequences (which is a list-or-tuple of lists-or-tuples-or ndarrays with different lengths or shapes) is deprecated. If you meant to do this, you must specify 'dtype=object' when creating the ndarray.\n",
            "\n"
          ]
        }
      ],
      "source": [
        "signal=np.asarray(signal)\n",
        "y_train=np.asarray(y_train)"
      ]
    },
    {
      "cell_type": "code",
      "execution_count": 13,
      "metadata": {
        "colab": {
          "base_uri": "https://localhost:8080/"
        },
        "id": "Bt0pm0g4kY9q",
        "outputId": "c88a4084-aaa4-424d-8177-e0219f8e6dbe"
      },
      "outputs": [
        {
          "output_type": "execute_result",
          "data": {
            "text/plain": [
              "(1152,)"
            ]
          },
          "metadata": {},
          "execution_count": 13
        }
      ],
      "source": [
        "y_train.shape"
      ]
    },
    {
      "cell_type": "code",
      "execution_count": 14,
      "metadata": {
        "id": "yGPv5UDikY_f"
      },
      "outputs": [],
      "source": [
        "x_train=[]\n",
        "for i in range(signal.size):\n",
        "  x_train.append(np.mean(librosa.feature.mfcc(y=signal[i], sr=sample_rate, n_mfcc=40).T,axis=0))"
      ]
    },
    {
      "cell_type": "code",
      "execution_count": 15,
      "metadata": {
        "colab": {
          "base_uri": "https://localhost:8080/"
        },
        "id": "7qnveahvkj3U",
        "outputId": "57175a63-8a19-4ec0-94e7-b3889c7ee0af"
      },
      "outputs": [
        {
          "output_type": "execute_result",
          "data": {
            "text/plain": [
              "(1152, 40)"
            ]
          },
          "metadata": {},
          "execution_count": 15
        }
      ],
      "source": [
        "x_train=np.asarray(x_train)\n",
        "x_train.shape"
      ]
    },
    {
      "cell_type": "code",
      "execution_count": 16,
      "metadata": {
        "colab": {
          "base_uri": "https://localhost:8080/"
        },
        "id": "LFnBsKPXkmDV",
        "outputId": "1c04405b-319e-447a-c4f1-4ce415a8bcd4"
      },
      "outputs": [
        {
          "output_type": "execute_result",
          "data": {
            "text/plain": [
              "(1152,)"
            ]
          },
          "metadata": {},
          "execution_count": 16
        }
      ],
      "source": [
        "y_train.shape"
      ]
    },
    {
      "cell_type": "code",
      "execution_count": 18,
      "metadata": {
        "colab": {
          "base_uri": "https://localhost:8080/"
        },
        "id": "zlvfnkyLkxWx",
        "outputId": "91e6df55-0065-4c66-ae90-c84cb35a4f2d"
      },
      "outputs": [
        {
          "output_type": "stream",
          "name": "stderr",
          "text": [
            "/usr/local/lib/python3.7/dist-packages/keras/optimizer_v2/adam.py:105: UserWarning:\n",
            "\n",
            "The `lr` argument is deprecated, use `learning_rate` instead.\n",
            "\n"
          ]
        }
      ],
      "source": [
        "import keras\n",
        "import numpy as np\n",
        "import matplotlib.pyplot as plt\n",
        "import tensorflow as tf\n",
        "from keras.preprocessing import sequence\n",
        "from keras.models import Sequential\n",
        "from keras.layers import Dense, Embedding\n",
        "from tensorflow.keras.utils import to_categorical\n",
        "from keras.layers import Input, Flatten, Dropout, Activation\n",
        "from keras.layers import Conv1D, MaxPooling1D\n",
        "from keras.models import Model\n",
        "from keras.callbacks import ModelCheckpoint\n",
        "from tensorflow.keras import optimizers\n",
        "from keras.models import InputLayer\n",
        "\n",
        "model = Sequential(InputLayer((40,1)))\n",
        "model.add(BatchNormalization())\n",
        "\n",
        "model.add(Conv1D(128, 8,padding='same', ))\n",
        "model.add(BatchNormalization())\n",
        "model.add(Activation('relu'))\n",
        "model.add(Dropout(0.1))\n",
        "model.add(MaxPooling1D(pool_size=(5)))\n",
        "\n",
        "\n",
        "model.add(Conv1D(256,8,padding='same',))\n",
        "model.add(BatchNormalization())\n",
        "model.add(Activation('relu'))\n",
        "model.add(Dropout(0.3))\n",
        "model.add(MaxPooling1D(pool_size=(5)))\n",
        "\n",
        "model.add(Flatten())\n",
        "model.add(Dense(6))\n",
        "model.add(Activation('softmax'))\n",
        "\n",
        "opt = tf.keras.optimizers.Adam(lr=0.0002)\n",
        "#opt = tf.keras.optimizers.RMSprop(lr=0.0001, rho=0.9, epsilon=1e-07, decay=0.0)\n",
        "#opt = tf.keras.optimizers.SGD(lr=0.001, momentum=0.0, decay=0.0, nesterov=False)"
      ]
    },
    {
      "cell_type": "code",
      "execution_count": 19,
      "metadata": {
        "colab": {
          "base_uri": "https://localhost:8080/"
        },
        "id": "1-Xsvw44kzg1",
        "outputId": "db5ee11c-8b2d-44b2-882b-821d6321b272"
      },
      "outputs": [
        {
          "output_type": "stream",
          "name": "stdout",
          "text": [
            "Model: \"sequential_1\"\n",
            "_________________________________________________________________\n",
            " Layer (type)                Output Shape              Param #   \n",
            "=================================================================\n",
            " batch_normalization_3 (Batc  (None, 40, 1)            4         \n",
            " hNormalization)                                                 \n",
            "                                                                 \n",
            " conv1d_2 (Conv1D)           (None, 40, 128)           1152      \n",
            "                                                                 \n",
            " batch_normalization_4 (Batc  (None, 40, 128)          512       \n",
            " hNormalization)                                                 \n",
            "                                                                 \n",
            " activation_3 (Activation)   (None, 40, 128)           0         \n",
            "                                                                 \n",
            " dropout_2 (Dropout)         (None, 40, 128)           0         \n",
            "                                                                 \n",
            " max_pooling1d_2 (MaxPooling  (None, 8, 128)           0         \n",
            " 1D)                                                             \n",
            "                                                                 \n",
            " conv1d_3 (Conv1D)           (None, 8, 256)            262400    \n",
            "                                                                 \n",
            " batch_normalization_5 (Batc  (None, 8, 256)           1024      \n",
            " hNormalization)                                                 \n",
            "                                                                 \n",
            " activation_4 (Activation)   (None, 8, 256)            0         \n",
            "                                                                 \n",
            " dropout_3 (Dropout)         (None, 8, 256)            0         \n",
            "                                                                 \n",
            " max_pooling1d_3 (MaxPooling  (None, 1, 256)           0         \n",
            " 1D)                                                             \n",
            "                                                                 \n",
            " flatten_1 (Flatten)         (None, 256)               0         \n",
            "                                                                 \n",
            " dense_1 (Dense)             (None, 6)                 1542      \n",
            "                                                                 \n",
            " activation_5 (Activation)   (None, 6)                 0         \n",
            "                                                                 \n",
            "=================================================================\n",
            "Total params: 266,634\n",
            "Trainable params: 265,864\n",
            "Non-trainable params: 770\n",
            "_________________________________________________________________\n"
          ]
        }
      ],
      "source": [
        "model.summary()"
      ]
    },
    {
      "cell_type": "code",
      "execution_count": 20,
      "metadata": {
        "id": "m0w5VpjNk1d7"
      },
      "outputs": [],
      "source": [
        "model.compile(loss='sparse_categorical_crossentropy',\n",
        "              optimizer=opt,\n",
        "              metrics=['accuracy'])"
      ]
    },
    {
      "cell_type": "code",
      "execution_count": 21,
      "metadata": {
        "colab": {
          "base_uri": "https://localhost:8080/"
        },
        "id": "Tz-HMdw4k3Vt",
        "outputId": "d29acbe6-dd21-45a4-e18e-545b301dc153"
      },
      "outputs": [
        {
          "output_type": "stream",
          "name": "stdout",
          "text": [
            "Epoch 1/400\n",
            "72/72 [==============================] - 2s 21ms/step - loss: 1.9694 - accuracy: 0.3681 - val_loss: 1.7260 - val_accuracy: 0.2222\n",
            "Epoch 2/400\n",
            "72/72 [==============================] - 1s 18ms/step - loss: 1.2349 - accuracy: 0.5286 - val_loss: 1.9967 - val_accuracy: 0.3889\n",
            "Epoch 3/400\n",
            "72/72 [==============================] - 1s 18ms/step - loss: 1.0523 - accuracy: 0.5964 - val_loss: 1.9519 - val_accuracy: 0.4167\n",
            "Epoch 4/400\n",
            "72/72 [==============================] - 1s 17ms/step - loss: 0.9794 - accuracy: 0.6189 - val_loss: 2.0222 - val_accuracy: 0.2778\n",
            "Epoch 5/400\n",
            "72/72 [==============================] - 1s 17ms/step - loss: 0.9062 - accuracy: 0.6545 - val_loss: 2.2565 - val_accuracy: 0.1389\n",
            "Epoch 6/400\n",
            "72/72 [==============================] - 1s 18ms/step - loss: 0.8751 - accuracy: 0.6484 - val_loss: 1.9621 - val_accuracy: 0.1111\n",
            "Epoch 7/400\n",
            "72/72 [==============================] - 1s 17ms/step - loss: 0.8540 - accuracy: 0.6684 - val_loss: 1.0632 - val_accuracy: 0.5833\n",
            "Epoch 8/400\n",
            "72/72 [==============================] - 1s 18ms/step - loss: 0.7873 - accuracy: 0.6962 - val_loss: 0.8748 - val_accuracy: 0.6389\n",
            "Epoch 9/400\n",
            "72/72 [==============================] - 1s 17ms/step - loss: 0.7024 - accuracy: 0.7387 - val_loss: 0.7761 - val_accuracy: 0.6667\n",
            "Epoch 10/400\n",
            "72/72 [==============================] - 1s 17ms/step - loss: 0.7350 - accuracy: 0.6901 - val_loss: 0.8244 - val_accuracy: 0.6389\n",
            "Epoch 11/400\n",
            "72/72 [==============================] - 1s 17ms/step - loss: 0.7125 - accuracy: 0.7231 - val_loss: 0.8601 - val_accuracy: 0.6389\n",
            "Epoch 12/400\n",
            "72/72 [==============================] - 2s 23ms/step - loss: 0.6509 - accuracy: 0.7396 - val_loss: 0.8107 - val_accuracy: 0.6389\n",
            "Epoch 13/400\n",
            "72/72 [==============================] - 1s 18ms/step - loss: 0.6418 - accuracy: 0.7378 - val_loss: 0.8194 - val_accuracy: 0.6389\n",
            "Epoch 14/400\n",
            "72/72 [==============================] - 1s 17ms/step - loss: 0.6364 - accuracy: 0.7370 - val_loss: 0.5777 - val_accuracy: 0.7500\n",
            "Epoch 15/400\n",
            "72/72 [==============================] - 1s 17ms/step - loss: 0.5873 - accuracy: 0.7656 - val_loss: 0.6043 - val_accuracy: 0.6944\n",
            "Epoch 16/400\n",
            "72/72 [==============================] - 1s 16ms/step - loss: 0.5894 - accuracy: 0.7561 - val_loss: 0.6440 - val_accuracy: 0.6944\n",
            "Epoch 17/400\n",
            "72/72 [==============================] - 1s 17ms/step - loss: 0.5698 - accuracy: 0.7804 - val_loss: 0.7487 - val_accuracy: 0.6944\n",
            "Epoch 18/400\n",
            "72/72 [==============================] - 1s 17ms/step - loss: 0.5500 - accuracy: 0.7717 - val_loss: 0.7637 - val_accuracy: 0.6667\n",
            "Epoch 19/400\n",
            "72/72 [==============================] - 1s 19ms/step - loss: 0.5445 - accuracy: 0.7812 - val_loss: 0.5739 - val_accuracy: 0.6944\n",
            "Epoch 20/400\n",
            "72/72 [==============================] - 1s 18ms/step - loss: 0.5013 - accuracy: 0.7986 - val_loss: 0.6484 - val_accuracy: 0.7500\n",
            "Epoch 21/400\n",
            "72/72 [==============================] - 1s 17ms/step - loss: 0.4974 - accuracy: 0.8064 - val_loss: 0.7392 - val_accuracy: 0.6667\n",
            "Epoch 22/400\n",
            "72/72 [==============================] - 1s 17ms/step - loss: 0.4698 - accuracy: 0.7977 - val_loss: 0.7061 - val_accuracy: 0.7778\n",
            "Epoch 23/400\n",
            "72/72 [==============================] - 1s 17ms/step - loss: 0.4671 - accuracy: 0.8003 - val_loss: 0.7334 - val_accuracy: 0.6944\n",
            "Epoch 24/400\n",
            "72/72 [==============================] - 1s 17ms/step - loss: 0.4306 - accuracy: 0.8264 - val_loss: 0.5133 - val_accuracy: 0.7222\n",
            "Epoch 25/400\n",
            "72/72 [==============================] - 1s 17ms/step - loss: 0.4302 - accuracy: 0.8212 - val_loss: 0.6827 - val_accuracy: 0.7222\n",
            "Epoch 26/400\n",
            "72/72 [==============================] - 1s 17ms/step - loss: 0.4612 - accuracy: 0.8099 - val_loss: 0.8095 - val_accuracy: 0.6944\n",
            "Epoch 27/400\n",
            "72/72 [==============================] - 1s 17ms/step - loss: 0.4355 - accuracy: 0.8307 - val_loss: 0.6057 - val_accuracy: 0.8056\n",
            "Epoch 28/400\n",
            "72/72 [==============================] - 1s 17ms/step - loss: 0.3891 - accuracy: 0.8325 - val_loss: 0.6264 - val_accuracy: 0.7222\n",
            "Epoch 29/400\n",
            "72/72 [==============================] - 1s 17ms/step - loss: 0.3728 - accuracy: 0.8481 - val_loss: 0.5862 - val_accuracy: 0.7222\n",
            "Epoch 30/400\n",
            "72/72 [==============================] - 1s 18ms/step - loss: 0.3950 - accuracy: 0.8472 - val_loss: 0.7302 - val_accuracy: 0.7500\n",
            "Epoch 31/400\n",
            "72/72 [==============================] - 1s 17ms/step - loss: 0.3720 - accuracy: 0.8533 - val_loss: 0.5679 - val_accuracy: 0.7778\n",
            "Epoch 32/400\n",
            "72/72 [==============================] - 1s 17ms/step - loss: 0.3399 - accuracy: 0.8672 - val_loss: 0.6816 - val_accuracy: 0.7778\n",
            "Epoch 33/400\n",
            "72/72 [==============================] - 1s 17ms/step - loss: 0.3770 - accuracy: 0.8498 - val_loss: 0.6576 - val_accuracy: 0.7500\n",
            "Epoch 34/400\n",
            "72/72 [==============================] - 1s 17ms/step - loss: 0.3396 - accuracy: 0.8698 - val_loss: 0.3832 - val_accuracy: 0.8333\n",
            "Epoch 35/400\n",
            "72/72 [==============================] - 1s 18ms/step - loss: 0.3164 - accuracy: 0.8698 - val_loss: 0.5729 - val_accuracy: 0.7778\n",
            "Epoch 36/400\n",
            "72/72 [==============================] - 1s 18ms/step - loss: 0.3309 - accuracy: 0.8741 - val_loss: 0.5317 - val_accuracy: 0.7778\n",
            "Epoch 37/400\n",
            "72/72 [==============================] - 1s 17ms/step - loss: 0.2999 - accuracy: 0.8845 - val_loss: 0.4330 - val_accuracy: 0.8333\n",
            "Epoch 38/400\n",
            "72/72 [==============================] - 1s 18ms/step - loss: 0.2921 - accuracy: 0.8698 - val_loss: 0.7465 - val_accuracy: 0.7500\n",
            "Epoch 39/400\n",
            "72/72 [==============================] - 1s 18ms/step - loss: 0.3109 - accuracy: 0.8733 - val_loss: 0.4855 - val_accuracy: 0.7778\n",
            "Epoch 40/400\n",
            "72/72 [==============================] - 1s 17ms/step - loss: 0.2967 - accuracy: 0.8845 - val_loss: 0.8160 - val_accuracy: 0.7222\n",
            "Epoch 41/400\n",
            "72/72 [==============================] - 1s 18ms/step - loss: 0.2734 - accuracy: 0.8941 - val_loss: 0.5838 - val_accuracy: 0.7222\n",
            "Epoch 42/400\n",
            "72/72 [==============================] - 1s 18ms/step - loss: 0.2725 - accuracy: 0.8976 - val_loss: 0.4129 - val_accuracy: 0.8056\n",
            "Epoch 43/400\n",
            "72/72 [==============================] - 1s 18ms/step - loss: 0.2611 - accuracy: 0.8967 - val_loss: 0.4988 - val_accuracy: 0.8056\n",
            "Epoch 44/400\n",
            "72/72 [==============================] - 1s 18ms/step - loss: 0.2707 - accuracy: 0.8993 - val_loss: 0.4275 - val_accuracy: 0.7500\n",
            "Epoch 45/400\n",
            "72/72 [==============================] - 1s 17ms/step - loss: 0.2737 - accuracy: 0.8976 - val_loss: 0.5312 - val_accuracy: 0.8056\n",
            "Epoch 46/400\n",
            "72/72 [==============================] - 1s 18ms/step - loss: 0.2428 - accuracy: 0.9080 - val_loss: 0.6876 - val_accuracy: 0.6667\n",
            "Epoch 47/400\n",
            "72/72 [==============================] - 1s 17ms/step - loss: 0.2576 - accuracy: 0.9036 - val_loss: 0.6762 - val_accuracy: 0.7500\n",
            "Epoch 48/400\n",
            "72/72 [==============================] - 1s 17ms/step - loss: 0.2454 - accuracy: 0.9071 - val_loss: 0.4593 - val_accuracy: 0.7778\n",
            "Epoch 49/400\n",
            "72/72 [==============================] - 1s 17ms/step - loss: 0.2440 - accuracy: 0.9089 - val_loss: 0.4880 - val_accuracy: 0.7500\n",
            "Epoch 50/400\n",
            "72/72 [==============================] - 1s 17ms/step - loss: 0.2186 - accuracy: 0.9210 - val_loss: 0.3720 - val_accuracy: 0.8611\n",
            "Epoch 51/400\n",
            "72/72 [==============================] - 1s 17ms/step - loss: 0.2188 - accuracy: 0.9141 - val_loss: 0.4801 - val_accuracy: 0.7778\n",
            "Epoch 52/400\n",
            "72/72 [==============================] - 1s 17ms/step - loss: 0.1972 - accuracy: 0.9314 - val_loss: 0.4111 - val_accuracy: 0.8333\n",
            "Epoch 53/400\n",
            "72/72 [==============================] - 1s 18ms/step - loss: 0.2020 - accuracy: 0.9219 - val_loss: 0.3292 - val_accuracy: 0.8889\n",
            "Epoch 54/400\n",
            "72/72 [==============================] - 1s 17ms/step - loss: 0.2206 - accuracy: 0.9149 - val_loss: 0.8122 - val_accuracy: 0.7222\n",
            "Epoch 55/400\n",
            "72/72 [==============================] - 1s 18ms/step - loss: 0.2033 - accuracy: 0.9175 - val_loss: 0.5065 - val_accuracy: 0.7778\n",
            "Epoch 56/400\n",
            "72/72 [==============================] - 1s 17ms/step - loss: 0.2038 - accuracy: 0.9253 - val_loss: 0.6436 - val_accuracy: 0.7222\n",
            "Epoch 57/400\n",
            "72/72 [==============================] - 1s 17ms/step - loss: 0.2039 - accuracy: 0.9253 - val_loss: 0.3703 - val_accuracy: 0.8333\n",
            "Epoch 58/400\n",
            "72/72 [==============================] - 1s 17ms/step - loss: 0.1795 - accuracy: 0.9340 - val_loss: 0.3845 - val_accuracy: 0.8333\n",
            "Epoch 59/400\n",
            "72/72 [==============================] - 1s 17ms/step - loss: 0.1911 - accuracy: 0.9280 - val_loss: 0.3597 - val_accuracy: 0.8611\n",
            "Epoch 60/400\n",
            "72/72 [==============================] - 1s 18ms/step - loss: 0.1787 - accuracy: 0.9323 - val_loss: 0.5893 - val_accuracy: 0.7500\n",
            "Epoch 61/400\n",
            "72/72 [==============================] - 1s 18ms/step - loss: 0.1736 - accuracy: 0.9462 - val_loss: 0.4144 - val_accuracy: 0.8056\n",
            "Epoch 62/400\n",
            "72/72 [==============================] - 1s 17ms/step - loss: 0.1783 - accuracy: 0.9418 - val_loss: 0.3761 - val_accuracy: 0.8333\n",
            "Epoch 63/400\n",
            "72/72 [==============================] - 1s 17ms/step - loss: 0.1763 - accuracy: 0.9340 - val_loss: 0.4586 - val_accuracy: 0.7500\n",
            "Epoch 64/400\n",
            "72/72 [==============================] - 1s 17ms/step - loss: 0.1529 - accuracy: 0.9488 - val_loss: 0.3551 - val_accuracy: 0.8333\n",
            "Epoch 65/400\n",
            "72/72 [==============================] - 1s 19ms/step - loss: 0.1502 - accuracy: 0.9392 - val_loss: 0.4086 - val_accuracy: 0.8056\n",
            "Epoch 66/400\n",
            "72/72 [==============================] - 1s 18ms/step - loss: 0.1418 - accuracy: 0.9436 - val_loss: 0.4845 - val_accuracy: 0.7778\n",
            "Epoch 67/400\n",
            "72/72 [==============================] - 1s 18ms/step - loss: 0.1712 - accuracy: 0.9323 - val_loss: 0.6081 - val_accuracy: 0.7500\n",
            "Epoch 68/400\n",
            "72/72 [==============================] - 1s 18ms/step - loss: 0.1733 - accuracy: 0.9384 - val_loss: 0.7847 - val_accuracy: 0.7778\n",
            "Epoch 69/400\n",
            "72/72 [==============================] - 1s 18ms/step - loss: 0.1509 - accuracy: 0.9505 - val_loss: 0.4835 - val_accuracy: 0.7222\n",
            "Epoch 70/400\n",
            "72/72 [==============================] - 1s 19ms/step - loss: 0.1788 - accuracy: 0.9349 - val_loss: 0.5804 - val_accuracy: 0.8056\n",
            "Epoch 71/400\n",
            "72/72 [==============================] - 1s 19ms/step - loss: 0.1451 - accuracy: 0.9436 - val_loss: 0.3592 - val_accuracy: 0.8056\n",
            "Epoch 72/400\n",
            "72/72 [==============================] - 1s 18ms/step - loss: 0.1528 - accuracy: 0.9436 - val_loss: 0.5724 - val_accuracy: 0.7500\n",
            "Epoch 73/400\n",
            "72/72 [==============================] - 1s 18ms/step - loss: 0.1451 - accuracy: 0.9470 - val_loss: 0.5802 - val_accuracy: 0.7500\n",
            "Epoch 74/400\n",
            "72/72 [==============================] - 1s 18ms/step - loss: 0.1493 - accuracy: 0.9462 - val_loss: 0.4528 - val_accuracy: 0.7500\n",
            "Epoch 75/400\n",
            "72/72 [==============================] - 1s 17ms/step - loss: 0.1317 - accuracy: 0.9566 - val_loss: 0.5099 - val_accuracy: 0.7500\n",
            "Epoch 76/400\n",
            "72/72 [==============================] - 1s 17ms/step - loss: 0.1200 - accuracy: 0.9575 - val_loss: 0.6235 - val_accuracy: 0.7222\n",
            "Epoch 77/400\n",
            "72/72 [==============================] - 1s 18ms/step - loss: 0.1577 - accuracy: 0.9410 - val_loss: 0.4297 - val_accuracy: 0.8056\n",
            "Epoch 78/400\n",
            "72/72 [==============================] - 1s 17ms/step - loss: 0.1361 - accuracy: 0.9497 - val_loss: 0.4498 - val_accuracy: 0.8056\n",
            "Epoch 79/400\n",
            "72/72 [==============================] - 1s 17ms/step - loss: 0.1138 - accuracy: 0.9644 - val_loss: 0.3018 - val_accuracy: 0.8611\n",
            "Epoch 80/400\n",
            "72/72 [==============================] - 1s 17ms/step - loss: 0.1268 - accuracy: 0.9523 - val_loss: 0.4709 - val_accuracy: 0.7500\n",
            "Epoch 81/400\n",
            "72/72 [==============================] - 1s 17ms/step - loss: 0.1300 - accuracy: 0.9575 - val_loss: 0.5335 - val_accuracy: 0.7500\n",
            "Epoch 82/400\n",
            "72/72 [==============================] - 1s 18ms/step - loss: 0.1208 - accuracy: 0.9566 - val_loss: 0.5297 - val_accuracy: 0.7500\n",
            "Epoch 83/400\n",
            "72/72 [==============================] - 1s 18ms/step - loss: 0.1018 - accuracy: 0.9679 - val_loss: 0.4698 - val_accuracy: 0.7500\n",
            "Epoch 84/400\n",
            "72/72 [==============================] - 1s 18ms/step - loss: 0.1090 - accuracy: 0.9635 - val_loss: 0.7220 - val_accuracy: 0.7778\n",
            "Epoch 85/400\n",
            "72/72 [==============================] - 1s 17ms/step - loss: 0.1139 - accuracy: 0.9540 - val_loss: 0.3344 - val_accuracy: 0.8611\n",
            "Epoch 86/400\n",
            "72/72 [==============================] - 1s 18ms/step - loss: 0.1241 - accuracy: 0.9505 - val_loss: 0.5227 - val_accuracy: 0.7222\n",
            "Epoch 87/400\n",
            "72/72 [==============================] - 1s 17ms/step - loss: 0.1240 - accuracy: 0.9549 - val_loss: 0.3278 - val_accuracy: 0.8611\n",
            "Epoch 88/400\n",
            "72/72 [==============================] - 1s 18ms/step - loss: 0.1012 - accuracy: 0.9661 - val_loss: 0.5305 - val_accuracy: 0.7500\n",
            "Epoch 89/400\n",
            "72/72 [==============================] - 1s 18ms/step - loss: 0.1033 - accuracy: 0.9635 - val_loss: 0.3536 - val_accuracy: 0.8056\n",
            "Epoch 90/400\n",
            "72/72 [==============================] - 1s 18ms/step - loss: 0.0968 - accuracy: 0.9635 - val_loss: 0.2679 - val_accuracy: 0.8333\n",
            "Epoch 91/400\n",
            "72/72 [==============================] - 1s 18ms/step - loss: 0.0935 - accuracy: 0.9705 - val_loss: 0.2800 - val_accuracy: 0.8611\n",
            "Epoch 92/400\n",
            "72/72 [==============================] - 1s 17ms/step - loss: 0.1017 - accuracy: 0.9661 - val_loss: 0.3167 - val_accuracy: 0.8611\n",
            "Epoch 93/400\n",
            "72/72 [==============================] - 1s 17ms/step - loss: 0.1190 - accuracy: 0.9583 - val_loss: 0.6916 - val_accuracy: 0.6944\n",
            "Epoch 94/400\n",
            "72/72 [==============================] - 1s 18ms/step - loss: 0.0952 - accuracy: 0.9661 - val_loss: 0.5171 - val_accuracy: 0.7500\n",
            "Epoch 95/400\n",
            "72/72 [==============================] - 1s 17ms/step - loss: 0.1014 - accuracy: 0.9705 - val_loss: 0.4852 - val_accuracy: 0.7222\n",
            "Epoch 96/400\n",
            "72/72 [==============================] - 1s 18ms/step - loss: 0.0977 - accuracy: 0.9705 - val_loss: 0.6731 - val_accuracy: 0.7222\n",
            "Epoch 97/400\n",
            "72/72 [==============================] - 1s 17ms/step - loss: 0.0803 - accuracy: 0.9748 - val_loss: 0.3245 - val_accuracy: 0.8611\n",
            "Epoch 98/400\n",
            "72/72 [==============================] - 1s 18ms/step - loss: 0.0980 - accuracy: 0.9635 - val_loss: 0.5749 - val_accuracy: 0.7778\n",
            "Epoch 99/400\n",
            "72/72 [==============================] - 1s 18ms/step - loss: 0.0796 - accuracy: 0.9748 - val_loss: 0.6134 - val_accuracy: 0.7778\n",
            "Epoch 100/400\n",
            "72/72 [==============================] - 1s 18ms/step - loss: 0.1001 - accuracy: 0.9627 - val_loss: 0.4626 - val_accuracy: 0.7500\n",
            "Epoch 101/400\n",
            "72/72 [==============================] - 1s 17ms/step - loss: 0.0748 - accuracy: 0.9722 - val_loss: 0.4608 - val_accuracy: 0.7778\n",
            "Epoch 102/400\n",
            "72/72 [==============================] - 1s 18ms/step - loss: 0.0692 - accuracy: 0.9748 - val_loss: 0.4633 - val_accuracy: 0.7778\n",
            "Epoch 103/400\n",
            "72/72 [==============================] - 1s 17ms/step - loss: 0.0845 - accuracy: 0.9714 - val_loss: 0.6479 - val_accuracy: 0.7222\n",
            "Epoch 104/400\n",
            "72/72 [==============================] - 1s 17ms/step - loss: 0.0778 - accuracy: 0.9748 - val_loss: 0.7109 - val_accuracy: 0.7222\n",
            "Epoch 105/400\n",
            "72/72 [==============================] - 1s 17ms/step - loss: 0.0956 - accuracy: 0.9653 - val_loss: 0.6279 - val_accuracy: 0.7500\n",
            "Epoch 106/400\n",
            "72/72 [==============================] - 1s 17ms/step - loss: 0.0673 - accuracy: 0.9774 - val_loss: 0.4461 - val_accuracy: 0.7778\n",
            "Epoch 107/400\n",
            "72/72 [==============================] - 1s 18ms/step - loss: 0.0629 - accuracy: 0.9783 - val_loss: 0.4973 - val_accuracy: 0.7778\n",
            "Epoch 108/400\n",
            "72/72 [==============================] - 1s 18ms/step - loss: 0.0754 - accuracy: 0.9774 - val_loss: 0.5577 - val_accuracy: 0.7500\n",
            "Epoch 109/400\n",
            "72/72 [==============================] - 1s 17ms/step - loss: 0.0754 - accuracy: 0.9705 - val_loss: 0.4139 - val_accuracy: 0.8056\n",
            "Epoch 110/400\n",
            "72/72 [==============================] - 1s 17ms/step - loss: 0.0608 - accuracy: 0.9800 - val_loss: 0.5208 - val_accuracy: 0.7500\n",
            "Epoch 111/400\n",
            "72/72 [==============================] - 1s 17ms/step - loss: 0.0733 - accuracy: 0.9748 - val_loss: 0.7801 - val_accuracy: 0.7500\n",
            "Epoch 112/400\n",
            "72/72 [==============================] - 1s 18ms/step - loss: 0.0722 - accuracy: 0.9774 - val_loss: 0.6131 - val_accuracy: 0.7778\n",
            "Epoch 113/400\n",
            "72/72 [==============================] - 1s 18ms/step - loss: 0.0775 - accuracy: 0.9766 - val_loss: 0.5413 - val_accuracy: 0.7500\n",
            "Epoch 114/400\n",
            "72/72 [==============================] - 1s 18ms/step - loss: 0.0697 - accuracy: 0.9774 - val_loss: 0.4177 - val_accuracy: 0.8056\n",
            "Epoch 115/400\n",
            "72/72 [==============================] - 1s 18ms/step - loss: 0.0784 - accuracy: 0.9714 - val_loss: 0.4200 - val_accuracy: 0.8056\n",
            "Epoch 116/400\n",
            "72/72 [==============================] - 1s 18ms/step - loss: 0.0742 - accuracy: 0.9783 - val_loss: 0.3489 - val_accuracy: 0.8611\n",
            "Epoch 117/400\n",
            "72/72 [==============================] - 1s 19ms/step - loss: 0.0599 - accuracy: 0.9835 - val_loss: 0.3944 - val_accuracy: 0.7778\n",
            "Epoch 118/400\n",
            "72/72 [==============================] - 1s 17ms/step - loss: 0.0751 - accuracy: 0.9714 - val_loss: 0.5266 - val_accuracy: 0.7500\n",
            "Epoch 119/400\n",
            "72/72 [==============================] - 1s 18ms/step - loss: 0.0735 - accuracy: 0.9731 - val_loss: 0.4449 - val_accuracy: 0.7778\n",
            "Epoch 120/400\n",
            "72/72 [==============================] - 1s 17ms/step - loss: 0.0494 - accuracy: 0.9887 - val_loss: 0.3113 - val_accuracy: 0.8611\n",
            "Epoch 121/400\n",
            "72/72 [==============================] - 1s 17ms/step - loss: 0.0544 - accuracy: 0.9844 - val_loss: 0.3827 - val_accuracy: 0.8333\n",
            "Epoch 122/400\n",
            "72/72 [==============================] - 1s 17ms/step - loss: 0.0680 - accuracy: 0.9783 - val_loss: 0.4626 - val_accuracy: 0.7500\n",
            "Epoch 123/400\n",
            "72/72 [==============================] - 1s 18ms/step - loss: 0.0659 - accuracy: 0.9766 - val_loss: 0.5725 - val_accuracy: 0.7500\n",
            "Epoch 124/400\n",
            "72/72 [==============================] - 1s 19ms/step - loss: 0.0756 - accuracy: 0.9740 - val_loss: 0.4066 - val_accuracy: 0.7778\n",
            "Epoch 125/400\n",
            "72/72 [==============================] - 1s 18ms/step - loss: 0.0551 - accuracy: 0.9818 - val_loss: 0.5648 - val_accuracy: 0.8056\n",
            "Epoch 126/400\n",
            "72/72 [==============================] - 1s 18ms/step - loss: 0.0614 - accuracy: 0.9835 - val_loss: 0.9594 - val_accuracy: 0.7222\n",
            "Epoch 127/400\n",
            "72/72 [==============================] - 1s 17ms/step - loss: 0.0595 - accuracy: 0.9835 - val_loss: 0.6023 - val_accuracy: 0.7500\n",
            "Epoch 128/400\n",
            "72/72 [==============================] - 1s 17ms/step - loss: 0.0568 - accuracy: 0.9835 - val_loss: 0.4956 - val_accuracy: 0.7778\n",
            "Epoch 129/400\n",
            "72/72 [==============================] - 1s 18ms/step - loss: 0.0469 - accuracy: 0.9878 - val_loss: 0.4124 - val_accuracy: 0.8056\n",
            "Epoch 130/400\n",
            "72/72 [==============================] - 1s 18ms/step - loss: 0.0662 - accuracy: 0.9766 - val_loss: 0.6368 - val_accuracy: 0.7500\n",
            "Epoch 131/400\n",
            "72/72 [==============================] - 1s 18ms/step - loss: 0.0729 - accuracy: 0.9696 - val_loss: 0.5896 - val_accuracy: 0.7500\n",
            "Epoch 132/400\n",
            "72/72 [==============================] - 1s 18ms/step - loss: 0.0441 - accuracy: 0.9887 - val_loss: 0.5577 - val_accuracy: 0.7222\n",
            "Epoch 133/400\n",
            "72/72 [==============================] - 1s 18ms/step - loss: 0.0432 - accuracy: 0.9887 - val_loss: 0.5275 - val_accuracy: 0.7222\n",
            "Epoch 134/400\n",
            "72/72 [==============================] - 1s 18ms/step - loss: 0.0327 - accuracy: 0.9913 - val_loss: 0.4596 - val_accuracy: 0.8056\n",
            "Epoch 135/400\n",
            "72/72 [==============================] - 1s 18ms/step - loss: 0.0444 - accuracy: 0.9870 - val_loss: 0.4245 - val_accuracy: 0.8056\n",
            "Epoch 136/400\n",
            "72/72 [==============================] - 1s 18ms/step - loss: 0.0418 - accuracy: 0.9878 - val_loss: 0.4922 - val_accuracy: 0.7500\n",
            "Epoch 137/400\n",
            "72/72 [==============================] - 1s 18ms/step - loss: 0.0433 - accuracy: 0.9896 - val_loss: 0.5934 - val_accuracy: 0.8333\n",
            "Epoch 138/400\n",
            "72/72 [==============================] - 1s 19ms/step - loss: 0.0405 - accuracy: 0.9878 - val_loss: 0.5916 - val_accuracy: 0.7500\n",
            "Epoch 139/400\n",
            "72/72 [==============================] - 1s 17ms/step - loss: 0.0401 - accuracy: 0.9861 - val_loss: 0.3515 - val_accuracy: 0.8056\n",
            "Epoch 140/400\n",
            "72/72 [==============================] - 1s 18ms/step - loss: 0.0477 - accuracy: 0.9861 - val_loss: 0.4388 - val_accuracy: 0.8333\n",
            "Epoch 141/400\n",
            "72/72 [==============================] - 1s 18ms/step - loss: 0.0408 - accuracy: 0.9861 - val_loss: 0.3265 - val_accuracy: 0.8333\n",
            "Epoch 142/400\n",
            "72/72 [==============================] - 1s 19ms/step - loss: 0.0570 - accuracy: 0.9809 - val_loss: 0.4386 - val_accuracy: 0.8333\n",
            "Epoch 143/400\n",
            "72/72 [==============================] - 1s 18ms/step - loss: 0.0519 - accuracy: 0.9852 - val_loss: 0.4760 - val_accuracy: 0.8056\n",
            "Epoch 144/400\n",
            "72/72 [==============================] - 1s 18ms/step - loss: 0.0515 - accuracy: 0.9818 - val_loss: 0.5775 - val_accuracy: 0.7778\n",
            "Epoch 145/400\n",
            "72/72 [==============================] - 1s 18ms/step - loss: 0.0400 - accuracy: 0.9922 - val_loss: 0.5905 - val_accuracy: 0.7222\n",
            "Epoch 146/400\n",
            "72/72 [==============================] - 1s 18ms/step - loss: 0.0531 - accuracy: 0.9826 - val_loss: 0.8065 - val_accuracy: 0.7500\n",
            "Epoch 147/400\n",
            "72/72 [==============================] - 1s 18ms/step - loss: 0.0316 - accuracy: 0.9939 - val_loss: 0.4546 - val_accuracy: 0.7778\n",
            "Epoch 148/400\n",
            "72/72 [==============================] - 1s 18ms/step - loss: 0.0393 - accuracy: 0.9905 - val_loss: 0.4348 - val_accuracy: 0.7500\n",
            "Epoch 149/400\n",
            "72/72 [==============================] - 1s 19ms/step - loss: 0.0455 - accuracy: 0.9826 - val_loss: 0.4537 - val_accuracy: 0.8056\n",
            "Epoch 150/400\n",
            "72/72 [==============================] - 1s 18ms/step - loss: 0.0381 - accuracy: 0.9905 - val_loss: 0.3797 - val_accuracy: 0.7778\n",
            "Epoch 151/400\n",
            "72/72 [==============================] - 1s 17ms/step - loss: 0.0403 - accuracy: 0.9870 - val_loss: 0.2994 - val_accuracy: 0.8889\n",
            "Epoch 152/400\n",
            "72/72 [==============================] - 1s 18ms/step - loss: 0.0566 - accuracy: 0.9792 - val_loss: 0.5749 - val_accuracy: 0.8056\n",
            "Epoch 153/400\n",
            "72/72 [==============================] - 1s 18ms/step - loss: 0.0496 - accuracy: 0.9809 - val_loss: 0.5496 - val_accuracy: 0.7500\n",
            "Epoch 154/400\n",
            "72/72 [==============================] - 1s 19ms/step - loss: 0.0464 - accuracy: 0.9852 - val_loss: 0.6934 - val_accuracy: 0.7500\n",
            "Epoch 155/400\n",
            "72/72 [==============================] - 1s 18ms/step - loss: 0.0393 - accuracy: 0.9887 - val_loss: 0.5759 - val_accuracy: 0.7500\n",
            "Epoch 156/400\n",
            "72/72 [==============================] - 1s 19ms/step - loss: 0.0369 - accuracy: 0.9887 - val_loss: 0.6466 - val_accuracy: 0.7778\n",
            "Epoch 157/400\n",
            "72/72 [==============================] - 1s 18ms/step - loss: 0.0445 - accuracy: 0.9861 - val_loss: 0.4901 - val_accuracy: 0.7778\n",
            "Epoch 158/400\n",
            "72/72 [==============================] - 1s 19ms/step - loss: 0.0254 - accuracy: 0.9922 - val_loss: 0.4946 - val_accuracy: 0.7778\n",
            "Epoch 159/400\n",
            "72/72 [==============================] - 1s 18ms/step - loss: 0.0243 - accuracy: 0.9957 - val_loss: 0.4387 - val_accuracy: 0.8056\n",
            "Epoch 160/400\n",
            "72/72 [==============================] - 1s 19ms/step - loss: 0.0299 - accuracy: 0.9913 - val_loss: 0.5067 - val_accuracy: 0.7500\n",
            "Epoch 161/400\n",
            "72/72 [==============================] - 1s 18ms/step - loss: 0.0382 - accuracy: 0.9887 - val_loss: 0.4136 - val_accuracy: 0.8333\n",
            "Epoch 162/400\n",
            "72/72 [==============================] - 1s 18ms/step - loss: 0.0324 - accuracy: 0.9922 - val_loss: 0.4968 - val_accuracy: 0.7778\n",
            "Epoch 163/400\n",
            "72/72 [==============================] - 1s 18ms/step - loss: 0.0394 - accuracy: 0.9826 - val_loss: 0.4354 - val_accuracy: 0.7500\n",
            "Epoch 164/400\n",
            "72/72 [==============================] - 1s 18ms/step - loss: 0.0496 - accuracy: 0.9870 - val_loss: 0.6442 - val_accuracy: 0.6944\n",
            "Epoch 165/400\n",
            "72/72 [==============================] - 1s 18ms/step - loss: 0.0442 - accuracy: 0.9844 - val_loss: 0.4076 - val_accuracy: 0.8611\n",
            "Epoch 166/400\n",
            "72/72 [==============================] - 1s 19ms/step - loss: 0.0293 - accuracy: 0.9957 - val_loss: 0.4485 - val_accuracy: 0.7778\n",
            "Epoch 167/400\n",
            "72/72 [==============================] - 1s 18ms/step - loss: 0.0206 - accuracy: 0.9983 - val_loss: 0.3879 - val_accuracy: 0.8056\n",
            "Epoch 168/400\n",
            "72/72 [==============================] - 1s 18ms/step - loss: 0.0312 - accuracy: 0.9896 - val_loss: 0.6423 - val_accuracy: 0.7778\n",
            "Epoch 169/400\n",
            "72/72 [==============================] - 1s 18ms/step - loss: 0.0320 - accuracy: 0.9939 - val_loss: 0.3412 - val_accuracy: 0.8333\n",
            "Epoch 170/400\n",
            "72/72 [==============================] - 1s 19ms/step - loss: 0.0427 - accuracy: 0.9826 - val_loss: 0.4073 - val_accuracy: 0.8333\n",
            "Epoch 171/400\n",
            "72/72 [==============================] - 1s 18ms/step - loss: 0.0434 - accuracy: 0.9835 - val_loss: 0.6762 - val_accuracy: 0.7222\n",
            "Epoch 172/400\n",
            "72/72 [==============================] - 1s 18ms/step - loss: 0.0401 - accuracy: 0.9896 - val_loss: 0.4663 - val_accuracy: 0.8056\n",
            "Epoch 173/400\n",
            "72/72 [==============================] - 1s 18ms/step - loss: 0.0299 - accuracy: 0.9913 - val_loss: 0.6013 - val_accuracy: 0.7222\n",
            "Epoch 174/400\n",
            "72/72 [==============================] - 1s 18ms/step - loss: 0.0314 - accuracy: 0.9922 - val_loss: 0.4174 - val_accuracy: 0.7778\n",
            "Epoch 175/400\n",
            "72/72 [==============================] - 1s 19ms/step - loss: 0.0389 - accuracy: 0.9878 - val_loss: 0.5830 - val_accuracy: 0.7500\n",
            "Epoch 176/400\n",
            "72/72 [==============================] - 1s 19ms/step - loss: 0.0371 - accuracy: 0.9896 - val_loss: 0.4169 - val_accuracy: 0.8056\n",
            "Epoch 177/400\n",
            "72/72 [==============================] - 1s 18ms/step - loss: 0.0354 - accuracy: 0.9905 - val_loss: 0.2685 - val_accuracy: 0.8611\n",
            "Epoch 178/400\n",
            "72/72 [==============================] - 1s 18ms/step - loss: 0.0307 - accuracy: 0.9905 - val_loss: 0.5240 - val_accuracy: 0.7222\n",
            "Epoch 179/400\n",
            "72/72 [==============================] - 1s 18ms/step - loss: 0.0381 - accuracy: 0.9878 - val_loss: 0.4302 - val_accuracy: 0.7500\n",
            "Epoch 180/400\n",
            "72/72 [==============================] - 1s 18ms/step - loss: 0.0361 - accuracy: 0.9896 - val_loss: 0.3912 - val_accuracy: 0.8611\n",
            "Epoch 181/400\n",
            "72/72 [==============================] - 1s 18ms/step - loss: 0.0254 - accuracy: 0.9948 - val_loss: 0.2658 - val_accuracy: 0.8611\n",
            "Epoch 182/400\n",
            "72/72 [==============================] - 1s 17ms/step - loss: 0.0472 - accuracy: 0.9870 - val_loss: 0.7994 - val_accuracy: 0.7500\n",
            "Epoch 183/400\n",
            "72/72 [==============================] - 1s 19ms/step - loss: 0.0320 - accuracy: 0.9913 - val_loss: 0.3994 - val_accuracy: 0.7778\n",
            "Epoch 184/400\n",
            "72/72 [==============================] - 1s 18ms/step - loss: 0.0448 - accuracy: 0.9870 - val_loss: 0.6737 - val_accuracy: 0.7500\n",
            "Epoch 185/400\n",
            "72/72 [==============================] - 1s 17ms/step - loss: 0.0423 - accuracy: 0.9878 - val_loss: 0.5081 - val_accuracy: 0.8056\n",
            "Epoch 186/400\n",
            "72/72 [==============================] - 1s 18ms/step - loss: 0.0634 - accuracy: 0.9766 - val_loss: 0.3915 - val_accuracy: 0.8333\n",
            "Epoch 187/400\n",
            "72/72 [==============================] - 1s 18ms/step - loss: 0.0295 - accuracy: 0.9939 - val_loss: 0.3960 - val_accuracy: 0.8333\n",
            "Epoch 188/400\n",
            "72/72 [==============================] - 1s 18ms/step - loss: 0.0314 - accuracy: 0.9922 - val_loss: 0.6835 - val_accuracy: 0.7778\n",
            "Epoch 189/400\n",
            "72/72 [==============================] - 1s 19ms/step - loss: 0.0321 - accuracy: 0.9922 - val_loss: 0.3669 - val_accuracy: 0.7778\n",
            "Epoch 190/400\n",
            "72/72 [==============================] - 1s 19ms/step - loss: 0.0321 - accuracy: 0.9905 - val_loss: 0.3751 - val_accuracy: 0.8333\n",
            "Epoch 191/400\n",
            "72/72 [==============================] - 1s 19ms/step - loss: 0.0238 - accuracy: 0.9896 - val_loss: 0.3315 - val_accuracy: 0.9167\n",
            "Epoch 192/400\n",
            "72/72 [==============================] - 1s 18ms/step - loss: 0.0338 - accuracy: 0.9844 - val_loss: 0.5376 - val_accuracy: 0.7222\n",
            "Epoch 193/400\n",
            "72/72 [==============================] - 1s 18ms/step - loss: 0.0359 - accuracy: 0.9878 - val_loss: 0.4217 - val_accuracy: 0.8333\n",
            "Epoch 194/400\n",
            "72/72 [==============================] - 1s 19ms/step - loss: 0.0200 - accuracy: 0.9965 - val_loss: 0.6005 - val_accuracy: 0.7500\n",
            "Epoch 195/400\n",
            "72/72 [==============================] - 1s 18ms/step - loss: 0.0171 - accuracy: 0.9983 - val_loss: 0.4034 - val_accuracy: 0.8333\n",
            "Epoch 196/400\n",
            "72/72 [==============================] - 1s 18ms/step - loss: 0.0148 - accuracy: 0.9974 - val_loss: 0.6326 - val_accuracy: 0.7222\n",
            "Epoch 197/400\n",
            "72/72 [==============================] - 1s 18ms/step - loss: 0.0248 - accuracy: 0.9896 - val_loss: 0.4690 - val_accuracy: 0.7778\n",
            "Epoch 198/400\n",
            "72/72 [==============================] - 1s 18ms/step - loss: 0.0292 - accuracy: 0.9922 - val_loss: 0.5714 - val_accuracy: 0.7500\n",
            "Epoch 199/400\n",
            "72/72 [==============================] - 1s 18ms/step - loss: 0.0237 - accuracy: 0.9922 - val_loss: 0.4673 - val_accuracy: 0.7500\n",
            "Epoch 200/400\n",
            "72/72 [==============================] - 1s 19ms/step - loss: 0.0219 - accuracy: 0.9948 - val_loss: 0.5054 - val_accuracy: 0.7778\n",
            "Epoch 201/400\n",
            "72/72 [==============================] - 1s 18ms/step - loss: 0.0258 - accuracy: 0.9931 - val_loss: 0.4476 - val_accuracy: 0.8056\n",
            "Epoch 202/400\n",
            "72/72 [==============================] - 1s 18ms/step - loss: 0.0217 - accuracy: 0.9948 - val_loss: 0.5844 - val_accuracy: 0.7500\n",
            "Epoch 203/400\n",
            "72/72 [==============================] - 1s 18ms/step - loss: 0.0339 - accuracy: 0.9896 - val_loss: 0.7663 - val_accuracy: 0.6944\n",
            "Epoch 204/400\n",
            "72/72 [==============================] - 1s 19ms/step - loss: 0.0220 - accuracy: 0.9948 - val_loss: 0.6355 - val_accuracy: 0.7500\n",
            "Epoch 205/400\n",
            "72/72 [==============================] - 1s 18ms/step - loss: 0.0251 - accuracy: 0.9931 - val_loss: 0.5101 - val_accuracy: 0.8056\n",
            "Epoch 206/400\n",
            "72/72 [==============================] - 1s 19ms/step - loss: 0.0245 - accuracy: 0.9939 - val_loss: 0.4820 - val_accuracy: 0.8056\n",
            "Epoch 207/400\n",
            "72/72 [==============================] - 1s 18ms/step - loss: 0.0187 - accuracy: 0.9974 - val_loss: 0.7578 - val_accuracy: 0.7500\n",
            "Epoch 208/400\n",
            "72/72 [==============================] - 1s 18ms/step - loss: 0.0212 - accuracy: 0.9939 - val_loss: 0.4226 - val_accuracy: 0.8056\n",
            "Epoch 209/400\n",
            "72/72 [==============================] - 1s 19ms/step - loss: 0.0204 - accuracy: 0.9939 - val_loss: 0.7044 - val_accuracy: 0.7778\n",
            "Epoch 210/400\n",
            "72/72 [==============================] - 1s 18ms/step - loss: 0.0208 - accuracy: 0.9957 - val_loss: 0.5650 - val_accuracy: 0.7778\n",
            "Epoch 211/400\n",
            "72/72 [==============================] - 1s 18ms/step - loss: 0.0310 - accuracy: 0.9896 - val_loss: 0.4711 - val_accuracy: 0.7778\n",
            "Epoch 212/400\n",
            "72/72 [==============================] - 1s 18ms/step - loss: 0.0269 - accuracy: 0.9905 - val_loss: 0.5477 - val_accuracy: 0.8056\n",
            "Epoch 213/400\n",
            "72/72 [==============================] - 1s 19ms/step - loss: 0.0188 - accuracy: 0.9939 - val_loss: 0.3774 - val_accuracy: 0.8056\n",
            "Epoch 214/400\n",
            "72/72 [==============================] - 1s 19ms/step - loss: 0.0331 - accuracy: 0.9913 - val_loss: 0.4253 - val_accuracy: 0.7778\n",
            "Epoch 215/400\n",
            "72/72 [==============================] - 1s 20ms/step - loss: 0.0190 - accuracy: 0.9957 - val_loss: 0.6111 - val_accuracy: 0.7500\n",
            "Epoch 216/400\n",
            "72/72 [==============================] - 1s 18ms/step - loss: 0.0248 - accuracy: 0.9931 - val_loss: 1.2948 - val_accuracy: 0.6944\n",
            "Epoch 217/400\n",
            "72/72 [==============================] - 1s 19ms/step - loss: 0.0318 - accuracy: 0.9905 - val_loss: 0.5754 - val_accuracy: 0.7500\n",
            "Epoch 218/400\n",
            "72/72 [==============================] - 1s 19ms/step - loss: 0.0420 - accuracy: 0.9852 - val_loss: 0.6295 - val_accuracy: 0.7778\n",
            "Epoch 219/400\n",
            "72/72 [==============================] - 1s 18ms/step - loss: 0.0403 - accuracy: 0.9870 - val_loss: 0.4370 - val_accuracy: 0.8056\n",
            "Epoch 220/400\n",
            "72/72 [==============================] - 1s 19ms/step - loss: 0.0328 - accuracy: 0.9870 - val_loss: 0.5403 - val_accuracy: 0.7500\n",
            "Epoch 221/400\n",
            "72/72 [==============================] - 1s 19ms/step - loss: 0.0261 - accuracy: 0.9948 - val_loss: 0.5861 - val_accuracy: 0.7500\n",
            "Epoch 222/400\n",
            "72/72 [==============================] - 1s 18ms/step - loss: 0.0166 - accuracy: 0.9965 - val_loss: 0.5738 - val_accuracy: 0.7500\n",
            "Epoch 223/400\n",
            "72/72 [==============================] - 1s 18ms/step - loss: 0.0292 - accuracy: 0.9905 - val_loss: 0.4602 - val_accuracy: 0.7778\n",
            "Epoch 224/400\n",
            "72/72 [==============================] - 1s 18ms/step - loss: 0.0156 - accuracy: 0.9991 - val_loss: 0.4596 - val_accuracy: 0.7778\n",
            "Epoch 225/400\n",
            "72/72 [==============================] - 1s 18ms/step - loss: 0.0171 - accuracy: 0.9948 - val_loss: 0.3475 - val_accuracy: 0.8611\n",
            "Epoch 226/400\n",
            "72/72 [==============================] - 1s 19ms/step - loss: 0.0214 - accuracy: 0.9957 - val_loss: 0.4071 - val_accuracy: 0.8056\n",
            "Epoch 227/400\n",
            "72/72 [==============================] - 1s 18ms/step - loss: 0.0283 - accuracy: 0.9931 - val_loss: 0.5617 - val_accuracy: 0.7500\n",
            "Epoch 228/400\n",
            "72/72 [==============================] - 1s 19ms/step - loss: 0.0291 - accuracy: 0.9896 - val_loss: 0.6106 - val_accuracy: 0.7222\n",
            "Epoch 229/400\n",
            "72/72 [==============================] - 1s 18ms/step - loss: 0.0397 - accuracy: 0.9887 - val_loss: 0.6498 - val_accuracy: 0.7778\n",
            "Epoch 230/400\n",
            "72/72 [==============================] - 1s 18ms/step - loss: 0.0252 - accuracy: 0.9939 - val_loss: 0.5752 - val_accuracy: 0.7778\n",
            "Epoch 231/400\n",
            "72/72 [==============================] - 1s 18ms/step - loss: 0.0309 - accuracy: 0.9922 - val_loss: 0.5469 - val_accuracy: 0.7778\n",
            "Epoch 232/400\n",
            "72/72 [==============================] - 1s 17ms/step - loss: 0.0196 - accuracy: 0.9939 - val_loss: 0.3902 - val_accuracy: 0.7500\n",
            "Epoch 233/400\n",
            "72/72 [==============================] - 1s 18ms/step - loss: 0.0230 - accuracy: 0.9913 - val_loss: 0.5100 - val_accuracy: 0.8333\n",
            "Epoch 234/400\n",
            "72/72 [==============================] - 1s 18ms/step - loss: 0.0201 - accuracy: 0.9939 - val_loss: 0.8343 - val_accuracy: 0.7500\n",
            "Epoch 235/400\n",
            "72/72 [==============================] - 1s 18ms/step - loss: 0.0319 - accuracy: 0.9913 - val_loss: 0.5907 - val_accuracy: 0.7500\n",
            "Epoch 236/400\n",
            "72/72 [==============================] - 1s 18ms/step - loss: 0.0199 - accuracy: 0.9939 - val_loss: 0.6032 - val_accuracy: 0.7500\n",
            "Epoch 237/400\n",
            "72/72 [==============================] - 1s 18ms/step - loss: 0.0153 - accuracy: 0.9974 - val_loss: 0.4067 - val_accuracy: 0.8056\n",
            "Epoch 238/400\n",
            "72/72 [==============================] - 1s 19ms/step - loss: 0.0215 - accuracy: 0.9939 - val_loss: 0.6720 - val_accuracy: 0.7500\n",
            "Epoch 239/400\n",
            "72/72 [==============================] - 1s 20ms/step - loss: 0.0156 - accuracy: 0.9965 - val_loss: 0.8112 - val_accuracy: 0.7778\n",
            "Epoch 240/400\n",
            "72/72 [==============================] - 1s 19ms/step - loss: 0.0167 - accuracy: 0.9939 - val_loss: 0.7592 - val_accuracy: 0.7778\n",
            "Epoch 241/400\n",
            "72/72 [==============================] - 1s 19ms/step - loss: 0.0143 - accuracy: 0.9983 - val_loss: 0.3938 - val_accuracy: 0.8333\n",
            "Epoch 242/400\n",
            "72/72 [==============================] - 1s 19ms/step - loss: 0.0110 - accuracy: 0.9965 - val_loss: 0.4925 - val_accuracy: 0.7500\n",
            "Epoch 243/400\n",
            "72/72 [==============================] - 2s 21ms/step - loss: 0.0248 - accuracy: 0.9887 - val_loss: 0.6232 - val_accuracy: 0.7778\n",
            "Epoch 244/400\n",
            "72/72 [==============================] - 2s 23ms/step - loss: 0.0379 - accuracy: 0.9870 - val_loss: 0.9713 - val_accuracy: 0.7778\n",
            "Epoch 245/400\n",
            "72/72 [==============================] - 2s 23ms/step - loss: 0.0266 - accuracy: 0.9931 - val_loss: 0.4267 - val_accuracy: 0.8333\n",
            "Epoch 246/400\n",
            "72/72 [==============================] - 2s 24ms/step - loss: 0.0155 - accuracy: 0.9948 - val_loss: 0.5942 - val_accuracy: 0.7500\n",
            "Epoch 247/400\n",
            "72/72 [==============================] - 1s 20ms/step - loss: 0.0145 - accuracy: 0.9965 - val_loss: 0.5188 - val_accuracy: 0.7500\n",
            "Epoch 248/400\n",
            "72/72 [==============================] - 1s 20ms/step - loss: 0.0380 - accuracy: 0.9844 - val_loss: 0.7067 - val_accuracy: 0.7500\n",
            "Epoch 249/400\n",
            "72/72 [==============================] - 1s 19ms/step - loss: 0.0259 - accuracy: 0.9939 - val_loss: 0.5015 - val_accuracy: 0.7778\n",
            "Epoch 250/400\n",
            "72/72 [==============================] - 1s 20ms/step - loss: 0.0192 - accuracy: 0.9939 - val_loss: 0.4990 - val_accuracy: 0.8056\n",
            "Epoch 251/400\n",
            "72/72 [==============================] - 1s 20ms/step - loss: 0.0177 - accuracy: 0.9957 - val_loss: 0.5520 - val_accuracy: 0.7778\n",
            "Epoch 252/400\n",
            "72/72 [==============================] - 1s 19ms/step - loss: 0.0266 - accuracy: 0.9913 - val_loss: 0.5727 - val_accuracy: 0.7500\n",
            "Epoch 253/400\n",
            "72/72 [==============================] - 1s 19ms/step - loss: 0.0144 - accuracy: 0.9965 - val_loss: 0.5644 - val_accuracy: 0.8056\n",
            "Epoch 254/400\n",
            "72/72 [==============================] - 1s 19ms/step - loss: 0.0174 - accuracy: 0.9965 - val_loss: 0.3778 - val_accuracy: 0.8056\n",
            "Epoch 255/400\n",
            "72/72 [==============================] - 1s 19ms/step - loss: 0.0133 - accuracy: 0.9965 - val_loss: 0.4533 - val_accuracy: 0.8056\n",
            "Epoch 256/400\n",
            "72/72 [==============================] - 1s 19ms/step - loss: 0.0152 - accuracy: 0.9983 - val_loss: 0.4019 - val_accuracy: 0.8333\n",
            "Epoch 257/400\n",
            "72/72 [==============================] - 1s 18ms/step - loss: 0.0144 - accuracy: 0.9965 - val_loss: 0.4228 - val_accuracy: 0.8056\n",
            "Epoch 258/400\n",
            "72/72 [==============================] - 1s 20ms/step - loss: 0.0190 - accuracy: 0.9957 - val_loss: 0.4550 - val_accuracy: 0.8056\n",
            "Epoch 259/400\n",
            "72/72 [==============================] - 1s 20ms/step - loss: 0.0156 - accuracy: 0.9965 - val_loss: 0.4806 - val_accuracy: 0.8333\n",
            "Epoch 260/400\n",
            "72/72 [==============================] - 2s 21ms/step - loss: 0.0179 - accuracy: 0.9957 - val_loss: 0.3238 - val_accuracy: 0.8333\n",
            "Epoch 261/400\n",
            "72/72 [==============================] - 1s 20ms/step - loss: 0.0131 - accuracy: 0.9957 - val_loss: 0.3497 - val_accuracy: 0.8333\n",
            "Epoch 262/400\n",
            "72/72 [==============================] - 1s 21ms/step - loss: 0.0189 - accuracy: 0.9913 - val_loss: 0.6505 - val_accuracy: 0.7222\n",
            "Epoch 263/400\n",
            "72/72 [==============================] - 1s 21ms/step - loss: 0.0202 - accuracy: 0.9948 - val_loss: 0.6139 - val_accuracy: 0.7500\n",
            "Epoch 264/400\n",
            "72/72 [==============================] - 2s 21ms/step - loss: 0.0162 - accuracy: 0.9974 - val_loss: 0.5465 - val_accuracy: 0.8056\n",
            "Epoch 265/400\n",
            "72/72 [==============================] - 2s 21ms/step - loss: 0.0189 - accuracy: 0.9948 - val_loss: 0.4961 - val_accuracy: 0.8333\n",
            "Epoch 266/400\n",
            "72/72 [==============================] - 2s 22ms/step - loss: 0.0193 - accuracy: 0.9948 - val_loss: 0.7114 - val_accuracy: 0.7778\n",
            "Epoch 267/400\n",
            "72/72 [==============================] - 1s 20ms/step - loss: 0.0107 - accuracy: 0.9965 - val_loss: 0.5502 - val_accuracy: 0.7500\n",
            "Epoch 268/400\n",
            "72/72 [==============================] - 1s 21ms/step - loss: 0.0087 - accuracy: 0.9983 - val_loss: 0.3778 - val_accuracy: 0.8333\n",
            "Epoch 269/400\n",
            "72/72 [==============================] - 1s 19ms/step - loss: 0.0093 - accuracy: 0.9974 - val_loss: 0.8374 - val_accuracy: 0.7500\n",
            "Epoch 270/400\n",
            "72/72 [==============================] - 2s 21ms/step - loss: 0.0212 - accuracy: 0.9913 - val_loss: 0.5610 - val_accuracy: 0.7778\n",
            "Epoch 271/400\n",
            "72/72 [==============================] - 1s 20ms/step - loss: 0.0313 - accuracy: 0.9905 - val_loss: 0.7955 - val_accuracy: 0.6944\n",
            "Epoch 272/400\n",
            "72/72 [==============================] - 2s 21ms/step - loss: 0.0317 - accuracy: 0.9878 - val_loss: 1.0464 - val_accuracy: 0.6944\n",
            "Epoch 273/400\n",
            "72/72 [==============================] - 1s 20ms/step - loss: 0.0256 - accuracy: 0.9922 - val_loss: 0.5213 - val_accuracy: 0.7778\n",
            "Epoch 274/400\n",
            "72/72 [==============================] - 1s 20ms/step - loss: 0.0291 - accuracy: 0.9931 - val_loss: 1.5413 - val_accuracy: 0.6667\n",
            "Epoch 275/400\n",
            "72/72 [==============================] - 1s 19ms/step - loss: 0.0353 - accuracy: 0.9896 - val_loss: 0.4311 - val_accuracy: 0.8333\n",
            "Epoch 276/400\n",
            "72/72 [==============================] - 1s 18ms/step - loss: 0.0183 - accuracy: 0.9948 - val_loss: 0.6246 - val_accuracy: 0.7778\n",
            "Epoch 277/400\n",
            "72/72 [==============================] - 1s 18ms/step - loss: 0.0094 - accuracy: 0.9991 - val_loss: 0.5287 - val_accuracy: 0.8056\n",
            "Epoch 278/400\n",
            "72/72 [==============================] - 1s 19ms/step - loss: 0.0116 - accuracy: 0.9974 - val_loss: 0.5772 - val_accuracy: 0.8056\n",
            "Epoch 279/400\n",
            "72/72 [==============================] - 1s 19ms/step - loss: 0.0126 - accuracy: 0.9974 - val_loss: 0.4202 - val_accuracy: 0.8056\n",
            "Epoch 280/400\n",
            "72/72 [==============================] - 1s 19ms/step - loss: 0.0085 - accuracy: 0.9974 - val_loss: 0.4816 - val_accuracy: 0.7778\n",
            "Epoch 281/400\n",
            "72/72 [==============================] - 1s 19ms/step - loss: 0.0103 - accuracy: 0.9991 - val_loss: 0.5058 - val_accuracy: 0.8056\n",
            "Epoch 282/400\n",
            "72/72 [==============================] - 1s 19ms/step - loss: 0.0092 - accuracy: 0.9991 - val_loss: 0.5594 - val_accuracy: 0.7778\n",
            "Epoch 283/400\n",
            "72/72 [==============================] - 1s 19ms/step - loss: 0.0235 - accuracy: 0.9931 - val_loss: 0.6524 - val_accuracy: 0.7500\n",
            "Epoch 284/400\n",
            "72/72 [==============================] - 1s 19ms/step - loss: 0.0223 - accuracy: 0.9922 - val_loss: 0.7488 - val_accuracy: 0.7222\n",
            "Epoch 285/400\n",
            "72/72 [==============================] - 1s 19ms/step - loss: 0.0136 - accuracy: 0.9948 - val_loss: 0.6146 - val_accuracy: 0.7778\n",
            "Epoch 286/400\n",
            "72/72 [==============================] - 1s 19ms/step - loss: 0.0296 - accuracy: 0.9887 - val_loss: 0.8689 - val_accuracy: 0.7500\n",
            "Epoch 287/400\n",
            "72/72 [==============================] - 1s 20ms/step - loss: 0.0150 - accuracy: 0.9974 - val_loss: 1.2399 - val_accuracy: 0.7222\n",
            "Epoch 288/400\n",
            "72/72 [==============================] - 1s 19ms/step - loss: 0.0140 - accuracy: 0.9974 - val_loss: 0.4636 - val_accuracy: 0.7778\n",
            "Epoch 289/400\n",
            "72/72 [==============================] - 1s 19ms/step - loss: 0.0110 - accuracy: 0.9983 - val_loss: 0.5912 - val_accuracy: 0.7778\n",
            "Epoch 290/400\n",
            "72/72 [==============================] - 1s 19ms/step - loss: 0.0207 - accuracy: 0.9948 - val_loss: 0.5988 - val_accuracy: 0.8333\n",
            "Epoch 291/400\n",
            "72/72 [==============================] - 1s 19ms/step - loss: 0.0152 - accuracy: 0.9965 - val_loss: 0.5218 - val_accuracy: 0.8056\n",
            "Epoch 292/400\n",
            "72/72 [==============================] - 1s 19ms/step - loss: 0.0143 - accuracy: 0.9974 - val_loss: 0.6090 - val_accuracy: 0.7778\n",
            "Epoch 293/400\n",
            "72/72 [==============================] - 1s 19ms/step - loss: 0.0078 - accuracy: 0.9991 - val_loss: 0.5545 - val_accuracy: 0.8056\n",
            "Epoch 294/400\n",
            "72/72 [==============================] - 1s 20ms/step - loss: 0.0087 - accuracy: 1.0000 - val_loss: 0.6804 - val_accuracy: 0.7500\n",
            "Epoch 295/400\n",
            "72/72 [==============================] - 1s 19ms/step - loss: 0.0093 - accuracy: 0.9983 - val_loss: 0.6043 - val_accuracy: 0.7778\n",
            "Epoch 296/400\n",
            "72/72 [==============================] - 1s 19ms/step - loss: 0.0194 - accuracy: 0.9931 - val_loss: 0.4060 - val_accuracy: 0.8889\n",
            "Epoch 297/400\n",
            "72/72 [==============================] - 1s 19ms/step - loss: 0.0118 - accuracy: 0.9965 - val_loss: 0.4692 - val_accuracy: 0.8056\n",
            "Epoch 298/400\n",
            "72/72 [==============================] - 1s 18ms/step - loss: 0.0099 - accuracy: 0.9983 - val_loss: 0.7789 - val_accuracy: 0.7500\n",
            "Epoch 299/400\n",
            "72/72 [==============================] - 1s 18ms/step - loss: 0.0146 - accuracy: 0.9957 - val_loss: 0.5872 - val_accuracy: 0.7500\n",
            "Epoch 300/400\n",
            "72/72 [==============================] - 1s 20ms/step - loss: 0.0095 - accuracy: 0.9991 - val_loss: 0.8530 - val_accuracy: 0.7222\n",
            "Epoch 301/400\n",
            "72/72 [==============================] - 1s 20ms/step - loss: 0.0066 - accuracy: 1.0000 - val_loss: 0.6448 - val_accuracy: 0.7778\n",
            "Epoch 302/400\n",
            "72/72 [==============================] - 1s 19ms/step - loss: 0.0103 - accuracy: 0.9983 - val_loss: 0.6941 - val_accuracy: 0.6944\n",
            "Epoch 303/400\n",
            "72/72 [==============================] - 1s 19ms/step - loss: 0.0177 - accuracy: 0.9957 - val_loss: 0.4852 - val_accuracy: 0.7500\n",
            "Epoch 304/400\n",
            "72/72 [==============================] - 1s 18ms/step - loss: 0.0354 - accuracy: 0.9887 - val_loss: 0.4985 - val_accuracy: 0.8056\n",
            "Epoch 305/400\n",
            "72/72 [==============================] - 1s 19ms/step - loss: 0.0147 - accuracy: 0.9983 - val_loss: 0.7123 - val_accuracy: 0.8056\n",
            "Epoch 306/400\n",
            "72/72 [==============================] - 1s 20ms/step - loss: 0.0192 - accuracy: 0.9939 - val_loss: 0.6040 - val_accuracy: 0.7778\n",
            "Epoch 307/400\n",
            "72/72 [==============================] - 1s 19ms/step - loss: 0.0183 - accuracy: 0.9948 - val_loss: 0.5301 - val_accuracy: 0.7778\n",
            "Epoch 308/400\n",
            "72/72 [==============================] - 1s 18ms/step - loss: 0.0108 - accuracy: 0.9974 - val_loss: 0.3925 - val_accuracy: 0.8056\n",
            "Epoch 309/400\n",
            "72/72 [==============================] - 1s 19ms/step - loss: 0.0163 - accuracy: 0.9948 - val_loss: 0.6920 - val_accuracy: 0.7778\n",
            "Epoch 310/400\n",
            "72/72 [==============================] - 1s 19ms/step - loss: 0.0304 - accuracy: 0.9861 - val_loss: 0.5368 - val_accuracy: 0.7778\n",
            "Epoch 311/400\n",
            "72/72 [==============================] - 1s 19ms/step - loss: 0.0215 - accuracy: 0.9948 - val_loss: 0.3761 - val_accuracy: 0.8056\n",
            "Epoch 312/400\n",
            "72/72 [==============================] - 1s 20ms/step - loss: 0.0248 - accuracy: 0.9922 - val_loss: 0.6744 - val_accuracy: 0.8056\n",
            "Epoch 313/400\n",
            "72/72 [==============================] - 1s 19ms/step - loss: 0.0151 - accuracy: 0.9965 - val_loss: 0.4138 - val_accuracy: 0.8056\n",
            "Epoch 314/400\n",
            "72/72 [==============================] - 1s 19ms/step - loss: 0.0177 - accuracy: 0.9957 - val_loss: 0.8579 - val_accuracy: 0.7222\n",
            "Epoch 315/400\n",
            "72/72 [==============================] - 1s 19ms/step - loss: 0.0177 - accuracy: 0.9948 - val_loss: 0.5028 - val_accuracy: 0.8056\n",
            "Epoch 316/400\n",
            "72/72 [==============================] - 1s 19ms/step - loss: 0.0153 - accuracy: 0.9974 - val_loss: 0.6378 - val_accuracy: 0.7778\n",
            "Epoch 317/400\n",
            "72/72 [==============================] - 1s 19ms/step - loss: 0.0246 - accuracy: 0.9922 - val_loss: 0.6653 - val_accuracy: 0.7778\n",
            "Epoch 318/400\n",
            "72/72 [==============================] - 1s 19ms/step - loss: 0.0170 - accuracy: 0.9974 - val_loss: 0.5244 - val_accuracy: 0.8056\n",
            "Epoch 319/400\n",
            "72/72 [==============================] - 1s 18ms/step - loss: 0.0133 - accuracy: 0.9965 - val_loss: 0.6157 - val_accuracy: 0.7778\n",
            "Epoch 320/400\n",
            "72/72 [==============================] - 1s 18ms/step - loss: 0.0136 - accuracy: 0.9965 - val_loss: 0.5415 - val_accuracy: 0.8056\n",
            "Epoch 321/400\n",
            "72/72 [==============================] - 1s 19ms/step - loss: 0.0108 - accuracy: 0.9974 - val_loss: 0.4306 - val_accuracy: 0.7778\n",
            "Epoch 322/400\n",
            "72/72 [==============================] - 1s 19ms/step - loss: 0.0090 - accuracy: 0.9983 - val_loss: 0.6031 - val_accuracy: 0.8056\n",
            "Epoch 323/400\n",
            "72/72 [==============================] - 1s 19ms/step - loss: 0.0141 - accuracy: 0.9931 - val_loss: 0.3632 - val_accuracy: 0.8889\n",
            "Epoch 324/400\n",
            "72/72 [==============================] - 1s 19ms/step - loss: 0.0201 - accuracy: 0.9922 - val_loss: 0.5100 - val_accuracy: 0.7500\n",
            "Epoch 325/400\n",
            "72/72 [==============================] - 1s 19ms/step - loss: 0.0106 - accuracy: 0.9983 - val_loss: 0.5746 - val_accuracy: 0.7778\n",
            "Epoch 326/400\n",
            "72/72 [==============================] - 1s 19ms/step - loss: 0.0066 - accuracy: 0.9983 - val_loss: 1.0517 - val_accuracy: 0.7222\n",
            "Epoch 327/400\n",
            "72/72 [==============================] - 1s 19ms/step - loss: 0.0110 - accuracy: 0.9965 - val_loss: 0.5688 - val_accuracy: 0.7778\n",
            "Epoch 328/400\n",
            "72/72 [==============================] - 1s 19ms/step - loss: 0.0086 - accuracy: 0.9991 - val_loss: 0.3795 - val_accuracy: 0.8611\n",
            "Epoch 329/400\n",
            "72/72 [==============================] - 1s 19ms/step - loss: 0.0191 - accuracy: 0.9939 - val_loss: 0.8972 - val_accuracy: 0.7500\n",
            "Epoch 330/400\n",
            "72/72 [==============================] - 1s 19ms/step - loss: 0.0295 - accuracy: 0.9905 - val_loss: 0.6343 - val_accuracy: 0.6944\n",
            "Epoch 331/400\n",
            "72/72 [==============================] - 1s 18ms/step - loss: 0.0195 - accuracy: 0.9922 - val_loss: 0.7712 - val_accuracy: 0.7500\n",
            "Epoch 332/400\n",
            "72/72 [==============================] - 1s 19ms/step - loss: 0.0151 - accuracy: 0.9965 - val_loss: 0.4821 - val_accuracy: 0.8333\n",
            "Epoch 333/400\n",
            "72/72 [==============================] - 1s 19ms/step - loss: 0.0169 - accuracy: 0.9939 - val_loss: 0.4839 - val_accuracy: 0.7778\n",
            "Epoch 334/400\n",
            "72/72 [==============================] - 1s 19ms/step - loss: 0.0148 - accuracy: 0.9931 - val_loss: 0.9418 - val_accuracy: 0.6667\n",
            "Epoch 335/400\n",
            "72/72 [==============================] - 1s 19ms/step - loss: 0.0119 - accuracy: 0.9965 - val_loss: 0.7966 - val_accuracy: 0.7222\n",
            "Epoch 336/400\n",
            "72/72 [==============================] - 1s 19ms/step - loss: 0.0092 - accuracy: 0.9983 - val_loss: 0.5477 - val_accuracy: 0.8056\n",
            "Epoch 337/400\n",
            "72/72 [==============================] - 1s 19ms/step - loss: 0.0077 - accuracy: 0.9974 - val_loss: 0.7059 - val_accuracy: 0.7500\n",
            "Epoch 338/400\n",
            "72/72 [==============================] - 1s 19ms/step - loss: 0.0098 - accuracy: 0.9974 - val_loss: 0.7266 - val_accuracy: 0.7500\n",
            "Epoch 339/400\n",
            "72/72 [==============================] - 1s 19ms/step - loss: 0.0047 - accuracy: 1.0000 - val_loss: 0.5006 - val_accuracy: 0.8056\n",
            "Epoch 340/400\n",
            "72/72 [==============================] - 1s 19ms/step - loss: 0.0070 - accuracy: 0.9991 - val_loss: 0.6839 - val_accuracy: 0.7500\n",
            "Epoch 341/400\n",
            "72/72 [==============================] - 1s 20ms/step - loss: 0.0056 - accuracy: 1.0000 - val_loss: 0.6529 - val_accuracy: 0.7778\n",
            "Epoch 342/400\n",
            "72/72 [==============================] - 1s 19ms/step - loss: 0.0097 - accuracy: 0.9965 - val_loss: 0.7568 - val_accuracy: 0.7778\n",
            "Epoch 343/400\n",
            "72/72 [==============================] - 1s 19ms/step - loss: 0.0152 - accuracy: 0.9965 - val_loss: 0.6366 - val_accuracy: 0.8056\n",
            "Epoch 344/400\n",
            "72/72 [==============================] - 1s 20ms/step - loss: 0.0103 - accuracy: 0.9974 - val_loss: 0.6828 - val_accuracy: 0.7500\n",
            "Epoch 345/400\n",
            "72/72 [==============================] - 1s 19ms/step - loss: 0.0134 - accuracy: 0.9957 - val_loss: 0.9699 - val_accuracy: 0.7222\n",
            "Epoch 346/400\n",
            "72/72 [==============================] - 1s 19ms/step - loss: 0.0204 - accuracy: 0.9939 - val_loss: 0.5238 - val_accuracy: 0.8056\n",
            "Epoch 347/400\n",
            "72/72 [==============================] - 1s 20ms/step - loss: 0.0180 - accuracy: 0.9931 - val_loss: 0.5394 - val_accuracy: 0.7500\n",
            "Epoch 348/400\n",
            "72/72 [==============================] - 1s 19ms/step - loss: 0.0157 - accuracy: 0.9965 - val_loss: 0.6393 - val_accuracy: 0.7222\n",
            "Epoch 349/400\n",
            "72/72 [==============================] - 1s 19ms/step - loss: 0.0139 - accuracy: 0.9948 - val_loss: 0.7703 - val_accuracy: 0.7222\n",
            "Epoch 350/400\n",
            "72/72 [==============================] - 1s 19ms/step - loss: 0.0278 - accuracy: 0.9931 - val_loss: 0.4946 - val_accuracy: 0.7778\n",
            "Epoch 351/400\n",
            "72/72 [==============================] - 1s 19ms/step - loss: 0.0127 - accuracy: 0.9965 - val_loss: 0.6990 - val_accuracy: 0.6944\n",
            "Epoch 352/400\n",
            "72/72 [==============================] - 1s 19ms/step - loss: 0.0108 - accuracy: 0.9974 - val_loss: 0.7018 - val_accuracy: 0.6944\n",
            "Epoch 353/400\n",
            "72/72 [==============================] - 1s 19ms/step - loss: 0.0089 - accuracy: 0.9974 - val_loss: 0.8016 - val_accuracy: 0.7500\n",
            "Epoch 354/400\n",
            "72/72 [==============================] - 1s 19ms/step - loss: 0.0148 - accuracy: 0.9957 - val_loss: 1.1316 - val_accuracy: 0.6944\n",
            "Epoch 355/400\n",
            "72/72 [==============================] - 1s 20ms/step - loss: 0.0235 - accuracy: 0.9922 - val_loss: 0.6723 - val_accuracy: 0.7500\n",
            "Epoch 356/400\n",
            "72/72 [==============================] - 1s 20ms/step - loss: 0.0169 - accuracy: 0.9948 - val_loss: 0.4859 - val_accuracy: 0.8333\n",
            "Epoch 357/400\n",
            "72/72 [==============================] - 1s 20ms/step - loss: 0.0178 - accuracy: 0.9957 - val_loss: 0.5627 - val_accuracy: 0.7778\n",
            "Epoch 358/400\n",
            "72/72 [==============================] - 1s 19ms/step - loss: 0.0069 - accuracy: 0.9991 - val_loss: 0.5473 - val_accuracy: 0.7500\n",
            "Epoch 359/400\n",
            "72/72 [==============================] - 1s 19ms/step - loss: 0.0222 - accuracy: 0.9922 - val_loss: 0.8003 - val_accuracy: 0.8056\n",
            "Epoch 360/400\n",
            "72/72 [==============================] - 1s 19ms/step - loss: 0.0124 - accuracy: 0.9974 - val_loss: 0.7699 - val_accuracy: 0.7222\n",
            "Epoch 361/400\n",
            "72/72 [==============================] - 1s 19ms/step - loss: 0.0140 - accuracy: 0.9965 - val_loss: 0.4971 - val_accuracy: 0.7500\n",
            "Epoch 362/400\n",
            "72/72 [==============================] - 1s 19ms/step - loss: 0.0069 - accuracy: 0.9991 - val_loss: 0.6101 - val_accuracy: 0.7500\n",
            "Epoch 363/400\n",
            "72/72 [==============================] - 1s 19ms/step - loss: 0.0054 - accuracy: 0.9983 - val_loss: 0.9984 - val_accuracy: 0.7500\n",
            "Epoch 364/400\n",
            "72/72 [==============================] - 1s 19ms/step - loss: 0.0163 - accuracy: 0.9965 - val_loss: 0.4434 - val_accuracy: 0.8611\n",
            "Epoch 365/400\n",
            "72/72 [==============================] - 1s 19ms/step - loss: 0.0124 - accuracy: 0.9965 - val_loss: 0.4792 - val_accuracy: 0.8611\n",
            "Epoch 366/400\n",
            "72/72 [==============================] - 1s 19ms/step - loss: 0.0173 - accuracy: 0.9939 - val_loss: 0.4521 - val_accuracy: 0.8333\n",
            "Epoch 367/400\n",
            "72/72 [==============================] - 1s 19ms/step - loss: 0.0104 - accuracy: 0.9965 - val_loss: 0.5988 - val_accuracy: 0.8333\n",
            "Epoch 368/400\n",
            "72/72 [==============================] - 1s 19ms/step - loss: 0.0083 - accuracy: 0.9983 - val_loss: 0.4529 - val_accuracy: 0.8056\n",
            "Epoch 369/400\n",
            "72/72 [==============================] - 1s 19ms/step - loss: 0.0028 - accuracy: 1.0000 - val_loss: 0.5928 - val_accuracy: 0.7778\n",
            "Epoch 370/400\n",
            "72/72 [==============================] - 1s 19ms/step - loss: 0.0044 - accuracy: 0.9983 - val_loss: 0.5725 - val_accuracy: 0.7778\n",
            "Epoch 371/400\n",
            "72/72 [==============================] - 1s 19ms/step - loss: 0.0160 - accuracy: 0.9957 - val_loss: 0.6235 - val_accuracy: 0.7222\n",
            "Epoch 372/400\n",
            "72/72 [==============================] - 1s 19ms/step - loss: 0.0138 - accuracy: 0.9965 - val_loss: 0.6590 - val_accuracy: 0.8056\n",
            "Epoch 373/400\n",
            "72/72 [==============================] - 1s 19ms/step - loss: 0.0168 - accuracy: 0.9948 - val_loss: 1.2064 - val_accuracy: 0.6944\n",
            "Epoch 374/400\n",
            "72/72 [==============================] - 1s 19ms/step - loss: 0.0044 - accuracy: 0.9991 - val_loss: 0.4475 - val_accuracy: 0.8056\n",
            "Epoch 375/400\n",
            "72/72 [==============================] - 1s 19ms/step - loss: 0.0046 - accuracy: 0.9991 - val_loss: 0.5325 - val_accuracy: 0.8333\n",
            "Epoch 376/400\n",
            "72/72 [==============================] - 1s 19ms/step - loss: 0.0143 - accuracy: 0.9957 - val_loss: 0.6702 - val_accuracy: 0.8333\n",
            "Epoch 377/400\n",
            "72/72 [==============================] - 1s 19ms/step - loss: 0.0063 - accuracy: 0.9991 - val_loss: 0.5523 - val_accuracy: 0.7778\n",
            "Epoch 378/400\n",
            "72/72 [==============================] - 1s 19ms/step - loss: 0.0054 - accuracy: 0.9991 - val_loss: 0.3301 - val_accuracy: 0.8611\n",
            "Epoch 379/400\n",
            "72/72 [==============================] - 1s 19ms/step - loss: 0.0068 - accuracy: 0.9974 - val_loss: 0.5226 - val_accuracy: 0.7778\n",
            "Epoch 380/400\n",
            "72/72 [==============================] - 1s 19ms/step - loss: 0.0034 - accuracy: 1.0000 - val_loss: 0.5485 - val_accuracy: 0.7500\n",
            "Epoch 381/400\n",
            "72/72 [==============================] - 1s 19ms/step - loss: 0.0121 - accuracy: 0.9957 - val_loss: 0.9601 - val_accuracy: 0.6944\n",
            "Epoch 382/400\n",
            "72/72 [==============================] - 1s 19ms/step - loss: 0.0293 - accuracy: 0.9913 - val_loss: 0.8945 - val_accuracy: 0.7500\n",
            "Epoch 383/400\n",
            "72/72 [==============================] - 1s 19ms/step - loss: 0.0274 - accuracy: 0.9896 - val_loss: 0.8436 - val_accuracy: 0.7500\n",
            "Epoch 384/400\n",
            "72/72 [==============================] - 1s 19ms/step - loss: 0.0251 - accuracy: 0.9905 - val_loss: 0.5981 - val_accuracy: 0.7222\n",
            "Epoch 385/400\n",
            "72/72 [==============================] - 1s 19ms/step - loss: 0.0114 - accuracy: 0.9974 - val_loss: 0.6096 - val_accuracy: 0.7778\n",
            "Epoch 386/400\n",
            "72/72 [==============================] - 1s 18ms/step - loss: 0.0212 - accuracy: 0.9939 - val_loss: 0.5944 - val_accuracy: 0.7778\n",
            "Epoch 387/400\n",
            "72/72 [==============================] - 1s 19ms/step - loss: 0.0152 - accuracy: 0.9957 - val_loss: 0.7362 - val_accuracy: 0.7500\n",
            "Epoch 388/400\n",
            "72/72 [==============================] - 1s 19ms/step - loss: 0.0129 - accuracy: 0.9948 - val_loss: 1.1222 - val_accuracy: 0.6944\n",
            "Epoch 389/400\n",
            "72/72 [==============================] - 1s 18ms/step - loss: 0.0127 - accuracy: 0.9957 - val_loss: 0.5988 - val_accuracy: 0.7778\n",
            "Epoch 390/400\n",
            "72/72 [==============================] - 1s 19ms/step - loss: 0.0099 - accuracy: 0.9974 - val_loss: 0.8294 - val_accuracy: 0.8056\n",
            "Epoch 391/400\n",
            "72/72 [==============================] - 1s 18ms/step - loss: 0.0085 - accuracy: 0.9983 - val_loss: 0.5282 - val_accuracy: 0.7500\n",
            "Epoch 392/400\n",
            "72/72 [==============================] - 1s 19ms/step - loss: 0.0086 - accuracy: 0.9983 - val_loss: 0.7130 - val_accuracy: 0.7500\n",
            "Epoch 393/400\n",
            "72/72 [==============================] - 1s 19ms/step - loss: 0.0037 - accuracy: 1.0000 - val_loss: 0.5051 - val_accuracy: 0.8056\n",
            "Epoch 394/400\n",
            "72/72 [==============================] - 1s 20ms/step - loss: 0.0077 - accuracy: 0.9983 - val_loss: 0.4996 - val_accuracy: 0.8056\n",
            "Epoch 395/400\n",
            "72/72 [==============================] - 1s 19ms/step - loss: 0.0043 - accuracy: 1.0000 - val_loss: 0.6047 - val_accuracy: 0.7778\n",
            "Epoch 396/400\n",
            "72/72 [==============================] - 1s 19ms/step - loss: 0.0057 - accuracy: 0.9991 - val_loss: 0.6276 - val_accuracy: 0.7500\n",
            "Epoch 397/400\n",
            "72/72 [==============================] - 1s 19ms/step - loss: 0.0060 - accuracy: 0.9983 - val_loss: 0.7038 - val_accuracy: 0.7778\n",
            "Epoch 398/400\n",
            "72/72 [==============================] - 1s 18ms/step - loss: 0.0040 - accuracy: 0.9991 - val_loss: 0.6237 - val_accuracy: 0.8056\n",
            "Epoch 399/400\n",
            "72/72 [==============================] - 1s 19ms/step - loss: 0.0116 - accuracy: 0.9957 - val_loss: 0.8931 - val_accuracy: 0.7500\n",
            "Epoch 400/400\n",
            "72/72 [==============================] - 1s 19ms/step - loss: 0.0090 - accuracy: 0.9983 - val_loss: 0.6482 - val_accuracy: 0.8056\n"
          ]
        }
      ],
      "source": [
        "cnnhistory=model.fit(x_train, y_train, batch_size=16, epochs=400,validation_data=(x_valid, emo_valid))"
      ]
    },
    {
      "cell_type": "code",
      "execution_count": 22,
      "metadata": {
        "colab": {
          "base_uri": "https://localhost:8080/"
        },
        "id": "EWT6F8K425LT",
        "outputId": "0051be10-903a-438a-ea5d-561284c801ab"
      },
      "outputs": [
        {
          "output_type": "stream",
          "name": "stdout",
          "text": [
            "0.9618923608213663\n"
          ]
        }
      ],
      "source": [
        "ava_acc=np.mean(cnnhistory.history['accuracy']) # numpy assumed imported as np\n",
        "print(ava_acc)"
      ]
    },
    {
      "cell_type": "code",
      "execution_count": 23,
      "metadata": {
        "colab": {
          "base_uri": "https://localhost:8080/",
          "height": 295
        },
        "id": "3_HGLS8F29Qr",
        "outputId": "ffdf6fc8-7e92-47ca-c884-edc599207cfb"
      },
      "outputs": [
        {
          "output_type": "display_data",
          "data": {
            "image/png": "[encoded data removed]",
            "text/plain": [
              "<Figure size 432x288 with 1 Axes>"
            ]
          },
          "metadata": {
            "needs_background": "light"
          }
        }
      ],
      "source": [
        "plt.plot(cnnhistory.history['loss'])\n",
        "plt.plot(cnnhistory.history['val_loss'])\n",
        "plt.title('model loss')\n",
        "plt.ylabel('loss')\n",
        "plt.xlabel('epoch')\n",
        "plt.legend(['train', 'valid'], loc='upper left')\n",
        "plt.show()"
      ]
    },
    {
      "cell_type": "code",
      "execution_count": 24,
      "metadata": {
        "colab": {
          "base_uri": "https://localhost:8080/",
          "height": 295
        },
        "id": "YlkBpKyX3El2",
        "outputId": "c0432658-5c5b-4eee-d55e-f615add47657"
      },
      "outputs": [
        {
          "output_type": "display_data",
          "data": {
            "image/png": "[encoded data removed]",
            "text/plain": [
              "<Figure size 432x288 with 1 Axes>"
            ]
          },
          "metadata": {
            "needs_background": "light"
          }
        }
      ],
      "source": [
        "plt.plot(cnnhistory.history['accuracy'])\n",
        "plt.plot(cnnhistory.history['val_accuracy'])\n",
        "plt.title('model accuracy')\n",
        "plt.ylabel('accuracy')\n",
        "plt.xlabel('epoch')\n",
        "plt.legend(['train', 'valid'], loc='upper left')\n",
        "plt.show()"
      ]
    },
    {
      "cell_type": "code",
      "execution_count": 25,
      "metadata": {
        "colab": {
          "base_uri": "https://localhost:8080/"
        },
        "id": "jVaxLrTj3Hxc",
        "outputId": "7a4a4ef8-1df1-4a48-eb38-7769a1090287"
      },
      "outputs": [
        {
          "output_type": "execute_result",
          "data": {
            "text/plain": [
              "array([[9.99999881e-01, 2.00630311e-13, 2.17538678e-11, 1.63909249e-07,\n",
              "        3.88517024e-10, 2.98765374e-18],\n",
              "       [1.38221534e-09, 8.03246558e-01, 1.96722984e-01, 1.08544257e-10,\n",
              "        3.04507776e-05, 2.19572919e-11],\n",
              "       [9.99977708e-01, 4.72540833e-08, 2.81673521e-11, 2.21768514e-05,\n",
              "        1.13727417e-07, 1.74254234e-13],\n",
              "       [2.98034817e-01, 2.48121709e-01, 2.86819577e-01, 1.56470854e-03,\n",
              "        1.65459111e-01, 9.60818696e-08],\n",
              "       [6.09215795e-16, 9.94650781e-01, 1.01266629e-07, 5.34892874e-03,\n",
              "        2.77942917e-07, 2.10044398e-16],\n",
              "       [3.63994772e-08, 2.07778320e-01, 5.40511250e-01, 6.89218432e-05,\n",
              "        2.51641333e-01, 1.40268071e-07],\n",
              "       [6.14996378e-12, 9.44551721e-05, 1.97880979e-07, 9.99897242e-01,\n",
              "        8.05536365e-06, 2.07576994e-14],\n",
              "       [6.98747584e-08, 9.93163764e-01, 4.40834789e-03, 2.42740242e-03,\n",
              "        3.14560708e-07, 1.02560002e-10],\n",
              "       [5.18401578e-07, 3.72346654e-03, 9.96165395e-01, 7.21615515e-06,\n",
              "        1.03375984e-04, 7.28562266e-10],\n",
              "       [9.99818265e-01, 8.53151837e-12, 1.24983552e-12, 1.81729731e-04,\n",
              "        2.21863829e-11, 1.36818492e-16],\n",
              "       [1.06253952e-04, 3.69768216e-10, 3.08237302e-09, 7.84123981e-12,\n",
              "        9.99893785e-01, 2.19918959e-14],\n",
              "       [3.63318316e-12, 8.04370046e-02, 3.24363232e-01, 8.96272104e-06,\n",
              "        5.95190763e-01, 8.03875966e-10],\n",
              "       [3.52054030e-06, 4.09633976e-05, 9.99238491e-01, 5.29214449e-04,\n",
              "        1.87812126e-04, 4.82325957e-10],\n",
              "       [8.02832562e-03, 4.21419382e-01, 2.67893367e-04, 5.66144645e-01,\n",
              "        4.13970230e-03, 2.82918418e-08],\n",
              "       [3.87881952e-03, 9.05515277e-04, 7.38694012e-01, 6.99848752e-04,\n",
              "        2.55821705e-01, 4.78682054e-08],\n",
              "       [9.99995828e-01, 3.03590242e-09, 2.40495783e-08, 4.13636917e-06,\n",
              "        1.81202492e-13, 3.59974788e-16],\n",
              "       [7.93081212e-10, 3.45056122e-07, 5.56298937e-06, 1.19315424e-09,\n",
              "        9.99994040e-01, 1.09093177e-11],\n",
              "       [3.70863378e-01, 1.34942115e-06, 9.08179118e-07, 6.29134357e-01,\n",
              "        1.71370349e-08, 1.41369078e-11],\n",
              "       [9.99999046e-01, 1.89410404e-10, 1.72487599e-12, 7.05501350e-07,\n",
              "        1.79300187e-07, 5.34503472e-14],\n",
              "       [2.32676939e-06, 1.79495051e-04, 8.92155111e-01, 6.18849072e-06,\n",
              "        1.07656844e-01, 3.58183705e-09],\n",
              "       [3.13582518e-07, 6.77987373e-08, 9.90356624e-01, 1.26837980e-08,\n",
              "        9.64303501e-03, 4.18275657e-11],\n",
              "       [2.70541318e-06, 7.57968724e-02, 1.98935959e-02, 5.06923001e-08,\n",
              "        9.04306769e-01, 5.07127069e-08],\n",
              "       [3.32424301e-13, 9.34032023e-01, 6.38222247e-02, 3.12347547e-05,\n",
              "        2.11443100e-03, 3.31120710e-13],\n",
              "       [9.98719573e-01, 1.25031690e-07, 1.81031988e-13, 1.28030754e-03,\n",
              "        1.47926241e-10, 8.66129339e-14],\n",
              "       [1.54017897e-07, 8.13820861e-06, 1.90826063e-03, 2.48374050e-07,\n",
              "        9.98083234e-01, 4.92979879e-09],\n",
              "       [9.99999166e-01, 1.34023972e-10, 9.19755869e-11, 6.22864150e-07,\n",
              "        2.18761826e-07, 1.68670552e-14],\n",
              "       [2.61179682e-08, 1.22685946e-04, 6.51417434e-01, 1.50609030e-05,\n",
              "        3.48444790e-01, 6.67638722e-10],\n",
              "       [1.35877505e-02, 3.68634530e-04, 8.65224600e-01, 3.80519684e-03,\n",
              "        1.17013626e-01, 5.90963509e-08],\n",
              "       [9.19334888e-02, 2.62769870e-03, 7.15706721e-02, 1.08433887e-02,\n",
              "        8.23024631e-01, 5.14644007e-08],\n",
              "       [9.99999642e-01, 1.77404601e-11, 1.38583631e-10, 3.11716434e-07,\n",
              "        5.71540610e-08, 4.01706540e-16],\n",
              "       [4.08902675e-01, 1.96028128e-01, 3.16187531e-01, 1.40845841e-02,\n",
              "        6.47969767e-02, 4.95551120e-08],\n",
              "       [6.15413519e-05, 9.49829815e-09, 3.67923914e-10, 9.99938488e-01,\n",
              "        4.49843246e-10, 1.41228260e-14],\n",
              "       [1.16942263e-13, 2.88902633e-02, 1.30455058e-09, 9.71109390e-01,\n",
              "        3.25401857e-07, 1.21529111e-16],\n",
              "       [1.99958208e-06, 8.91163573e-02, 9.10754859e-01, 4.22906169e-07,\n",
              "        1.26350540e-04, 5.10653020e-10],\n",
              "       [1.52637713e-05, 2.19610974e-05, 1.00510333e-05, 1.23349167e-07,\n",
              "        9.99952555e-01, 5.73801111e-11],\n",
              "       [7.46850908e-01, 7.75807257e-06, 6.45049226e-07, 2.53140569e-01,\n",
              "        1.10239839e-07, 8.69378805e-11]], dtype=float32)"
            ]
          },
          "metadata": {},
          "execution_count": 25
        }
      ],
      "source": [
        "#predictions = model.predict_classes(x_testcnn)\n",
        "predictions = model.predict(x_test)\n",
        "predictions"
      ]
    },
    {
      "cell_type": "code",
      "execution_count": 26,
      "metadata": {
        "colab": {
          "base_uri": "https://localhost:8080/"
        },
        "id": "Y01xRIqN3Kv7",
        "outputId": "b9a73ec9-0fdb-4020-9505-5a2a619635b0"
      },
      "outputs": [
        {
          "output_type": "execute_result",
          "data": {
            "text/plain": [
              "array([0, 2, 0, 2, 1, 1, 3, 1, 2, 0, 4, 4, 2, 3, 4, 0, 4, 0, 0, 4, 4, 1,\n",
              "       2, 0, 4, 0, 4, 2, 0, 0, 1, 3, 3, 2, 4, 0])"
            ]
          },
          "metadata": {},
          "execution_count": 26
        }
      ],
      "source": [
        "emo_test"
      ]
    },
    {
      "cell_type": "code",
      "execution_count": 27,
      "metadata": {
        "colab": {
          "base_uri": "https://localhost:8080/"
        },
        "id": "DLhoAcuI3N3Z",
        "outputId": "6077f01b-79df-4c32-937c-bb4d7a148769"
      },
      "outputs": [
        {
          "output_type": "execute_result",
          "data": {
            "text/plain": [
              "array([0, 2, 0, 2, 1, 1, 3, 1, 2, 0, 4, 4, 2, 3, 4, 0, 4, 0, 0, 4, 4, 1,\n",
              "       2, 0, 4, 0, 4, 2, 0, 0, 1, 3, 3, 2, 4, 0])"
            ]
          },
          "metadata": {},
          "execution_count": 27
        }
      ],
      "source": [
        "new_Ytest = emo_test.astype(int)\n",
        "new_Ytest"
      ]
    },
    {
      "cell_type": "code",
      "execution_count": 28,
      "metadata": {
        "colab": {
          "base_uri": "https://localhost:8080/"
        },
        "id": "msg0xsZw3ROh",
        "outputId": "5afdb673-03cd-477d-df8e-6bd4f5a38278"
      },
      "outputs": [
        {
          "output_type": "execute_result",
          "data": {
            "text/plain": [
              "array([0, 1, 0, 0, 1, 2, 3, 1, 2, 0, 4, 4, 2, 3, 2, 0, 4, 3, 0, 2, 2, 4,\n",
              "       1, 0, 4, 0, 2, 2, 4, 0, 0, 3, 3, 2, 4, 0])"
            ]
          },
          "metadata": {},
          "execution_count": 28
        }
      ],
      "source": [
        "preds1=predictions.argmax(axis=1)\n",
        "preds1"
      ]
    },
    {
      "cell_type": "code",
      "execution_count": 29,
      "metadata": {
        "colab": {
          "base_uri": "https://localhost:8080/"
        },
        "id": "-nADWckp3UHg",
        "outputId": "db3d2c84-3f22-4c77-9bf4-4990b0ca6003"
      },
      "outputs": [
        {
          "output_type": "execute_result",
          "data": {
            "text/plain": [
              "array([[9, 0, 0, 1, 1],\n",
              "       [1, 2, 1, 0, 1],\n",
              "       [1, 2, 4, 0, 0],\n",
              "       [0, 0, 0, 4, 0],\n",
              "       [0, 0, 4, 0, 5]])"
            ]
          },
          "metadata": {},
          "execution_count": 29
        }
      ],
      "source": [
        "abc = preds1.astype(int).flatten()\n",
        "from sklearn.metrics import confusion_matrix\n",
        "c = confusion_matrix(new_Ytest, abc) \n",
        "c"
      ]
    },
    {
      "cell_type": "code",
      "execution_count": 30,
      "metadata": {
        "colab": {
          "base_uri": "https://localhost:8080/"
        },
        "id": "2fbTq6qW3UOm",
        "outputId": "05f43572-9ed0-4af8-93dd-6267cdb6e9fa"
      },
      "outputs": [
        {
          "output_type": "execute_result",
          "data": {
            "text/plain": [
              "array([0, 2, 0, 2, 1, 1, 3, 1, 2, 0, 4, 4, 2, 3, 4, 0, 4, 0, 0, 4, 4, 1,\n",
              "       2, 0, 4, 0, 4, 2, 0, 0, 1, 3, 3, 2, 4, 0])"
            ]
          },
          "metadata": {},
          "execution_count": 30
        }
      ],
      "source": [
        "emo_test"
      ]
    },
    {
      "cell_type": "code",
      "execution_count": 31,
      "metadata": {
        "colab": {
          "base_uri": "https://localhost:8080/"
        },
        "id": "vcuBTzA93UQk",
        "outputId": "f503d063-6c90-4ef6-9dd0-c047538c18d9"
      },
      "outputs": [
        {
          "output_type": "stream",
          "name": "stdout",
          "text": [
            "INFO:tensorflow:Assets written to: /content/drive/My Drive/graduation project/audio/model/original_augmation_Savee_400_epoch_8_kernal_size_and_bat/assets\n",
            "MODEL SAVED\n"
          ]
        }
      ],
      "source": [
        "#model.save('/content/drive/My Drive/augmanted_radvass')\n",
        "model.save('/content/drive/My Drive/graduation project/audio/model/original_augmation_Savee_400_epoch_8_kernal_size_and_bat')\n",
        "print(\"MODEL SAVED\")"
      ]
    },
    {
      "cell_type": "code",
      "execution_count": 32,
      "metadata": {
        "colab": {
          "base_uri": "https://localhost:8080/"
        },
        "id": "gleoIwgk3aRm",
        "outputId": "f9cdef80-08ad-435c-901f-e8030b668b64"
      },
      "outputs": [
        {
          "output_type": "stream",
          "name": "stdout",
          "text": [
            "Model: \"sequential_1\"\n",
            "_________________________________________________________________\n",
            " Layer (type)                Output Shape              Param #   \n",
            "=================================================================\n",
            " batch_normalization_3 (Batc  (None, 40, 1)            4         \n",
            " hNormalization)                                                 \n",
            "                                                                 \n",
            " conv1d_2 (Conv1D)           (None, 40, 128)           1152      \n",
            "                                                                 \n",
            " batch_normalization_4 (Batc  (None, 40, 128)          512       \n",
            " hNormalization)                                                 \n",
            "                                                                 \n",
            " activation_3 (Activation)   (None, 40, 128)           0         \n",
            "                                                                 \n",
            " dropout_2 (Dropout)         (None, 40, 128)           0         \n",
            "                                                                 \n",
            " max_pooling1d_2 (MaxPooling  (None, 8, 128)           0         \n",
            " 1D)                                                             \n",
            "                                                                 \n",
            " conv1d_3 (Conv1D)           (None, 8, 256)            262400    \n",
            "                                                                 \n",
            " batch_normalization_5 (Batc  (None, 8, 256)           1024      \n",
            " hNormalization)                                                 \n",
            "                                                                 \n",
            " activation_4 (Activation)   (None, 8, 256)            0         \n",
            "                                                                 \n",
            " dropout_3 (Dropout)         (None, 8, 256)            0         \n",
            "                                                                 \n",
            " max_pooling1d_3 (MaxPooling  (None, 1, 256)           0         \n",
            " 1D)                                                             \n",
            "                                                                 \n",
            " flatten_1 (Flatten)         (None, 256)               0         \n",
            "                                                                 \n",
            " dense_1 (Dense)             (None, 6)                 1542      \n",
            "                                                                 \n",
            " activation_5 (Activation)   (None, 6)                 0         \n",
            "                                                                 \n",
            "=================================================================\n",
            "Total params: 266,634\n",
            "Trainable params: 265,864\n",
            "Non-trainable params: 770\n",
            "_________________________________________________________________\n"
          ]
        }
      ],
      "source": [
        "#new_model=keras.models.load_model('/content/drive/My Drive/augmanted_radvass')\n",
        "new_model=keras.models.load_model('/content/drive/My Drive/graduation project/audio/model/original_augmation_Savee_400_epoch_8_kernal_size_and_bat')\n",
        "new_model.summary()"
      ]
    },
    {
      "cell_type": "code",
      "execution_count": 33,
      "metadata": {
        "colab": {
          "base_uri": "https://localhost:8080/"
        },
        "id": "Pufwy7Ia3b12",
        "outputId": "f889e35b-6714-4cd4-87ed-cf5836dd6933"
      },
      "outputs": [
        {
          "output_type": "stream",
          "name": "stdout",
          "text": [
            "2/2 [==============================] - 0s 4ms/step - loss: 0.7150 - accuracy: 0.6667\n",
            "Restored model, accuracy: 66.67%\n"
          ]
        }
      ],
      "source": [
        "loss, acc = model.evaluate(x_test, emo_test)\n",
        "print(\"Restored model, accuracy: {:5.2f}%\".format(100*acc))"
      ]
    },
    {
      "cell_type": "code",
      "execution_count": 34,
      "metadata": {
        "colab": {
          "base_uri": "https://localhost:8080/"
        },
        "id": "gqYIsrpY3drM",
        "outputId": "c1d84170-09b8-45e9-d28d-aa8efc776a45"
      },
      "outputs": [
        {
          "output_type": "stream",
          "name": "stdout",
          "text": [
            "36/36 [==============================] - 0s 5ms/step - loss: 0.0012 - accuracy: 1.0000\n",
            "Restored model, accuracy: 100.00%\n"
          ]
        }
      ],
      "source": [
        "loss, acc = model.evaluate(x_train, y_train)\n",
        "print(\"Restored model, accuracy: {:5.2f}%\".format(100*acc))"
      ]
    },
    {
      "cell_type": "code",
      "execution_count": 35,
      "metadata": {
        "colab": {
          "base_uri": "https://localhost:8080/",
          "height": 606
        },
        "id": "biI56TZV3fPV",
        "outputId": "fd8850aa-f232-40cf-a053-a16fbce830fb"
      },
      "outputs": [
        {
          "output_type": "stream",
          "name": "stdout",
          "text": [
            "              precision    recall  f1-score   support\n",
            "\n",
            "           0       0.82      0.82      0.82        11\n",
            "           1       0.50      0.40      0.44         5\n",
            "           2       0.44      0.57      0.50         7\n",
            "           3       0.80      1.00      0.89         4\n",
            "           4       0.71      0.56      0.63         9\n",
            "\n",
            "    accuracy                           0.67        36\n",
            "   macro avg       0.66      0.67      0.66        36\n",
            "weighted avg       0.67      0.67      0.66        36\n",
            "\n",
            "----accuracy score 66.66666666666666 ----\n"
          ]
        },
        {
          "output_type": "error",
          "ename": "ValueError",
          "evalue": "ignored",
          "traceback": [
            "\u001b[0;31m---------------------------------------------------------------------------\u001b[0m",
            "\u001b[0;31mValueError\u001b[0m                                Traceback (most recent call last)",
            "\u001b[0;32m<ipython-input-35-ced4651393a1>\u001b[0m in \u001b[0;36m<module>\u001b[0;34m()\u001b[0m\n\u001b[1;32m     10\u001b[0m \u001b[0;31m#df_cm = pd.DataFrame(cm)\u001b[0m\u001b[0;34m\u001b[0m\u001b[0;34m\u001b[0m\u001b[0;34m\u001b[0m\u001b[0m\n\u001b[1;32m     11\u001b[0m \u001b[0mclass_names\u001b[0m \u001b[0;34m=\u001b[0m \u001b[0;34m[\u001b[0m\u001b[0;34m'neutral'\u001b[0m\u001b[0;34m,\u001b[0m\u001b[0;34m'calm'\u001b[0m\u001b[0;34m,\u001b[0m \u001b[0;34m'happy'\u001b[0m\u001b[0;34m,\u001b[0m\u001b[0;34m'sad'\u001b[0m\u001b[0;34m,\u001b[0m\u001b[0;34m'angry'\u001b[0m\u001b[0;34m,\u001b[0m \u001b[0;34m'fearful'\u001b[0m \u001b[0;34m]\u001b[0m\u001b[0;34m\u001b[0m\u001b[0;34m\u001b[0m\u001b[0m\n\u001b[0;32m---> 12\u001b[0;31m \u001b[0mdf_cm\u001b[0m \u001b[0;34m=\u001b[0m \u001b[0mpd\u001b[0m\u001b[0;34m.\u001b[0m\u001b[0mDataFrame\u001b[0m\u001b[0;34m(\u001b[0m\u001b[0mcm\u001b[0m\u001b[0;34m,\u001b[0m \u001b[0mindex\u001b[0m\u001b[0;34m=\u001b[0m\u001b[0mclass_names\u001b[0m\u001b[0;34m,\u001b[0m \u001b[0mcolumns\u001b[0m\u001b[0;34m=\u001b[0m\u001b[0mclass_names\u001b[0m\u001b[0;34m,\u001b[0m\u001b[0;34m)\u001b[0m\u001b[0;34m\u001b[0m\u001b[0;34m\u001b[0m\u001b[0m\n\u001b[0m\u001b[1;32m     13\u001b[0m \u001b[0msn\u001b[0m\u001b[0;34m.\u001b[0m\u001b[0mheatmap\u001b[0m\u001b[0;34m(\u001b[0m\u001b[0mdf_cm\u001b[0m\u001b[0;34m,\u001b[0m \u001b[0mannot\u001b[0m\u001b[0;34m=\u001b[0m\u001b[0;32mTrue\u001b[0m\u001b[0;34m,\u001b[0m \u001b[0mfmt\u001b[0m\u001b[0;34m=\u001b[0m\u001b[0;34m''\u001b[0m\u001b[0;34m)\u001b[0m\u001b[0;34m\u001b[0m\u001b[0;34m\u001b[0m\u001b[0m\n\u001b[1;32m     14\u001b[0m \u001b[0mplt\u001b[0m\u001b[0;34m.\u001b[0m\u001b[0mshow\u001b[0m\u001b[0;34m(\u001b[0m\u001b[0;34m)\u001b[0m\u001b[0;34m\u001b[0m\u001b[0;34m\u001b[0m\u001b[0m\n",
            "\u001b[0;32m/usr/local/lib/python3.7/dist-packages/pandas/core/frame.py\u001b[0m in \u001b[0;36m__init__\u001b[0;34m(self, data, index, columns, dtype, copy)\u001b[0m\n\u001b[1;32m    676\u001b[0m                     \u001b[0mdtype\u001b[0m\u001b[0;34m=\u001b[0m\u001b[0mdtype\u001b[0m\u001b[0;34m,\u001b[0m\u001b[0;34m\u001b[0m\u001b[0;34m\u001b[0m\u001b[0m\n\u001b[1;32m    677\u001b[0m                     \u001b[0mcopy\u001b[0m\u001b[0;34m=\u001b[0m\u001b[0mcopy\u001b[0m\u001b[0;34m,\u001b[0m\u001b[0;34m\u001b[0m\u001b[0;34m\u001b[0m\u001b[0m\n\u001b[0;32m--> 678\u001b[0;31m                     \u001b[0mtyp\u001b[0m\u001b[0;34m=\u001b[0m\u001b[0mmanager\u001b[0m\u001b[0;34m,\u001b[0m\u001b[0;34m\u001b[0m\u001b[0;34m\u001b[0m\u001b[0m\n\u001b[0m\u001b[1;32m    679\u001b[0m                 )\n\u001b[1;32m    680\u001b[0m \u001b[0;34m\u001b[0m\u001b[0m\n",
            "\u001b[0;32m/usr/local/lib/python3.7/dist-packages/pandas/core/internals/construction.py\u001b[0m in \u001b[0;36mndarray_to_mgr\u001b[0;34m(values, index, columns, dtype, copy, typ)\u001b[0m\n\u001b[1;32m    322\u001b[0m     )\n\u001b[1;32m    323\u001b[0m \u001b[0;34m\u001b[0m\u001b[0m\n\u001b[0;32m--> 324\u001b[0;31m     \u001b[0m_check_values_indices_shape_match\u001b[0m\u001b[0;34m(\u001b[0m\u001b[0mvalues\u001b[0m\u001b[0;34m,\u001b[0m \u001b[0mindex\u001b[0m\u001b[0;34m,\u001b[0m \u001b[0mcolumns\u001b[0m\u001b[0;34m)\u001b[0m\u001b[0;34m\u001b[0m\u001b[0;34m\u001b[0m\u001b[0m\n\u001b[0m\u001b[1;32m    325\u001b[0m \u001b[0;34m\u001b[0m\u001b[0m\n\u001b[1;32m    326\u001b[0m     \u001b[0;32mif\u001b[0m \u001b[0mtyp\u001b[0m \u001b[0;34m==\u001b[0m \u001b[0;34m\"array\"\u001b[0m\u001b[0;34m:\u001b[0m\u001b[0;34m\u001b[0m\u001b[0;34m\u001b[0m\u001b[0m\n",
            "\u001b[0;32m/usr/local/lib/python3.7/dist-packages/pandas/core/internals/construction.py\u001b[0m in \u001b[0;36m_check_values_indices_shape_match\u001b[0;34m(values, index, columns)\u001b[0m\n\u001b[1;32m    391\u001b[0m         \u001b[0mpassed\u001b[0m \u001b[0;34m=\u001b[0m \u001b[0mvalues\u001b[0m\u001b[0;34m.\u001b[0m\u001b[0mshape\u001b[0m\u001b[0;34m\u001b[0m\u001b[0;34m\u001b[0m\u001b[0m\n\u001b[1;32m    392\u001b[0m         \u001b[0mimplied\u001b[0m \u001b[0;34m=\u001b[0m \u001b[0;34m(\u001b[0m\u001b[0mlen\u001b[0m\u001b[0;34m(\u001b[0m\u001b[0mindex\u001b[0m\u001b[0;34m)\u001b[0m\u001b[0;34m,\u001b[0m \u001b[0mlen\u001b[0m\u001b[0;34m(\u001b[0m\u001b[0mcolumns\u001b[0m\u001b[0;34m)\u001b[0m\u001b[0;34m)\u001b[0m\u001b[0;34m\u001b[0m\u001b[0;34m\u001b[0m\u001b[0m\n\u001b[0;32m--> 393\u001b[0;31m         \u001b[0;32mraise\u001b[0m \u001b[0mValueError\u001b[0m\u001b[0;34m(\u001b[0m\u001b[0;34mf\"Shape of passed values is {passed}, indices imply {implied}\"\u001b[0m\u001b[0;34m)\u001b[0m\u001b[0;34m\u001b[0m\u001b[0;34m\u001b[0m\u001b[0m\n\u001b[0m\u001b[1;32m    394\u001b[0m \u001b[0;34m\u001b[0m\u001b[0m\n\u001b[1;32m    395\u001b[0m \u001b[0;34m\u001b[0m\u001b[0m\n",
            "\u001b[0;31mValueError\u001b[0m: Shape of passed values is (5, 5), indices imply (6, 6)"
          ]
        }
      ],
      "source": [
        "from sklearn.metrics import classification_report, confusion_matrix,accuracy_score\n",
        "import seaborn as sn\n",
        "\n",
        "print(classification_report(emo_test,abc))\n",
        "\n",
        "acc = float(accuracy_score(emo_test,abc))*100\n",
        "print(\"----accuracy score %s ----\" % acc)\n",
        "\n",
        "cm = confusion_matrix(emo_test,abc)\n",
        "#df_cm = pd.DataFrame(cm)\n",
        "class_names = ['neutral','calm', 'happy','sad','angry', 'fearful' ]\n",
        "df_cm = pd.DataFrame(cm, index=class_names, columns=class_names,)\n",
        "sn.heatmap(df_cm, annot=True, fmt='')\n",
        "plt.show()"
      ]
    },
    {
      "cell_type": "code",
      "execution_count": null,
      "metadata": {
        "id": "59mA6uxedOYx"
      },
      "outputs": [],
      "source": [
        ""
      ]
    }
  ],
  "metadata": {
    "colab": {
      "collapsed_sections": [],
      "name": "_original_augmation_Savee_400_epoch_8_kernal_size_and_bat.ipynb",
      "provenance": []
    },
    "kernelspec": {
      "display_name": "Python 3",
      "language": "python",
      "name": "python3"
    },
    "language_info": {
      "codemirror_mode": {
        "name": "ipython",
        "version": 3
      },
      "file_extension": ".py",
      "mimetype": "text/x-python",
      "name": "python",
      "nbconvert_exporter": "python",
      "pygments_lexer": "ipython3",
      "version": "3.7.10"
    }
  },
  "nbformat": 4,
  "nbformat_minor": 0
}