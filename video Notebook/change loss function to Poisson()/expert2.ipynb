{
  "nbformat": 4,
  "nbformat_minor": 0,
  "metadata": {
    "colab": {
      "name": "expert2.ipynb",
      "provenance": [],
      "collapsed_sections": [],
      "machine_shape": "hm"
    },
    "kernelspec": {
      "name": "python3",
      "display_name": "Python 3"
    },
    "accelerator": "GPU"
  },
  "cells": [
    {
      "cell_type": "code",
      "metadata": {
        "id": "tZRSiDYNQLSr",
        "colab": {
          "base_uri": "https://localhost:8080/",
          "height": 165
        },
        "outputId": "cee5d5e9-4dc2-46af-edb4-462cded0eccf"
      },
      "source": [
        "w# as you can see current ram is 12GB only, to increase it run below code"
      ],
      "execution_count": 1,
      "outputs": [
        {
          "output_type": "error",
          "ename": "NameError",
          "evalue": "ignored",
          "traceback": [
            "\u001b[0;31m---------------------------------------------------------------------------\u001b[0m",
            "\u001b[0;31mNameError\u001b[0m                                 Traceback (most recent call last)",
            "\u001b[0;32m<ipython-input-1-74a19cf4343c>\u001b[0m in \u001b[0;36m<module>\u001b[0;34m()\u001b[0m\n\u001b[0;32m----> 1\u001b[0;31m \u001b[0mw\u001b[0m\u001b[0;31m# as you can see current ram is 12GB only, to increase it run below code\u001b[0m\u001b[0;34m\u001b[0m\u001b[0;34m\u001b[0m\u001b[0m\n\u001b[0m",
            "\u001b[0;31mNameError\u001b[0m: name 'w' is not defined"
          ]
        }
      ]
    },
    {
      "cell_type": "code",
      "metadata": {
        "id": "87T5BetZQYQv"
      },
      "source": [
        "i = []\n",
        "while True:\n",
        "  i.append(i)"
      ],
      "execution_count": null,
      "outputs": []
    },
    {
      "cell_type": "code",
      "metadata": {
        "id": "YOckP_sYQcda"
      },
      "source": [
        "# wait for few minutes, after that you will get a prompt that your notebook got crashed, do you want to increase ram ?"
      ],
      "execution_count": null,
      "outputs": []
    },
    {
      "cell_type": "code",
      "metadata": {
        "id": "_F9FfyFSQl_5"
      },
      "source": [
        "# in the prompt click - yes"
      ],
      "execution_count": null,
      "outputs": []
    },
    {
      "cell_type": "code",
      "metadata": {
        "id": "xalsFDNyQp66"
      },
      "source": [
        "# as you see the ram increase from 12GB to 25GB"
      ],
      "execution_count": null,
      "outputs": []
    },
    {
      "cell_type": "code",
      "metadata": {
        "id": "XryjXIYhQ_gM"
      },
      "source": [
        "#thanks for watching, keep learning "
      ],
      "execution_count": null,
      "outputs": []
    },
    {
      "cell_type": "markdown",
      "metadata": {
        "id": "Wd-2ZJjoJaNU"
      },
      "source": [
        "**NOTE**: PLease allow your browser to allow show pop-ups by sites as show below "
      ]
    },
    {
      "cell_type": "code",
      "metadata": {
        "id": "beJ_3jq4JkDD"
      },
      "source": [
        "#step-1"
      ],
      "execution_count": null,
      "outputs": []
    },
    {
      "cell_type": "code",
      "metadata": {
        "id": "kbg5pOhxOKbY"
      },
      "source": [
        "#step-2"
      ],
      "execution_count": null,
      "outputs": []
    },
    {
      "cell_type": "markdown",
      "source": [
        "**training**"
      ],
      "metadata": {
        "id": "3p4NEbw1wA08"
      }
    },
    {
      "cell_type": "code",
      "source": [
        "# Discard the output of this cell.\n",
        "#%%capture\n",
        "\n",
        "# Install the required libraries.\n",
        "!pip install tensorflow opencv-contrib-python youtube-dl moviepy pydot\n",
        "!pip install git+https://github.com/TahaAnwar/pafy.git#egg=pafy"
      ],
      "metadata": {
        "id": "MChAq7xYwD1o"
      },
      "execution_count": null,
      "outputs": []
    },
    {
      "cell_type": "code",
      "source": [
        "# Import the required libraries.\n",
        "import os\n",
        "import cv2\n",
        "import pafy\n",
        "import math\n",
        "import random\n",
        "import numpy as np\n",
        "import datetime as dt\n",
        "import tensorflow as tf\n",
        "from collections import deque\n",
        "import matplotlib.pyplot as plt\n",
        "\n",
        "from moviepy.editor import *\n",
        "%matplotlib inline\n",
        "\n",
        "from sklearn.model_selection import train_test_split\n",
        "\n",
        "from tensorflow.keras.layers import *\n",
        "from tensorflow.keras.models import Sequential\n",
        "from tensorflow.keras.utils import to_categorical\n",
        "from tensorflow.keras.callbacks import EarlyStopping\n",
        "from tensorflow.keras.utils import plot_model\n",
        "import glob"
      ],
      "metadata": {
        "id": "1nJVuzQAwGQp"
      },
      "execution_count": 2,
      "outputs": []
    },
    {
      "cell_type": "code",
      "source": [
        "seed_constant = 27\n",
        "np.random.seed(seed_constant)\n",
        "random.seed(seed_constant)\n",
        "tf.random.set_seed(seed_constant)\n"
      ],
      "metadata": {
        "id": "IoMuaveSwK6K"
      },
      "execution_count": 3,
      "outputs": []
    },
    {
      "cell_type": "code",
      "source": [
        "# Specify the height and width to which each video frame will be resized in our dataset.\n",
        "IMAGE_HEIGHT , IMAGE_WIDTH = 64, 64\n",
        "\n",
        "# Specify the number of frames of a video that will be fed to the model as one sequence.\n",
        "SEQUENCE_LENGTH = 30\n",
        "\n",
        "# Specify the directory containing the UCF50 dataset. \n",
        "DATASET_DIR = \"/content/drive/MyDrive/frames_ravdess_label\"\n",
        "\n",
        "# Specify the list containing the names of the classes used for training. Feel free to choose any set of classes.\n",
        "CLASSES_LIST = [\"neutral\", \"calm\", \"happy\", \"sad\",\"angry\",\"fearful\"]"
      ],
      "metadata": {
        "id": "GcOPbLHXwNW6"
      },
      "execution_count": 4,
      "outputs": []
    },
    {
      "cell_type": "code",
      "source": [
        "from google.colab import drive\n",
        "drive.mount('/content/drive')"
      ],
      "metadata": {
        "id": "R4qTnVYzwtnU"
      },
      "execution_count": null,
      "outputs": []
    },
    {
      "cell_type": "code",
      "source": [
        "import joblib\n",
        "features = joblib.load('/content/drive/My Drive/features/features_data')\n",
        "labels = joblib.load('/content/drive/MyDrive/features/labels')\n",
        "video_files_paths = joblib.load('/content/drive/My Drive/features/video_path')"
      ],
      "metadata": {
        "id": "Hpib_QJowRPo"
      },
      "execution_count": 5,
      "outputs": []
    },
    {
      "cell_type": "code",
      "source": [
        "features = np.asarray(features)\n",
        "labels = np.array(labels)  "
      ],
      "metadata": {
        "id": "PH_q4iTSwt_7"
      },
      "execution_count": 6,
      "outputs": []
    },
    {
      "cell_type": "code",
      "source": [
        "features"
      ],
      "metadata": {
        "id": "YUog1EzkxAlA"
      },
      "execution_count": null,
      "outputs": []
    },
    {
      "cell_type": "code",
      "source": [
        "features.shape"
      ],
      "metadata": {
        "id": "EcUFSl-ExLkk",
        "outputId": "d941ae51-cee7-4624-e625-ab638e50164b",
        "colab": {
          "base_uri": "https://localhost:8080/"
        }
      },
      "execution_count": 7,
      "outputs": [
        {
          "output_type": "execute_result",
          "data": {
            "text/plain": [
              "(2067, 30, 64, 64, 3)"
            ]
          },
          "metadata": {},
          "execution_count": 7
        }
      ]
    },
    {
      "cell_type": "code",
      "source": [
        "# Using Keras's to_categorical method to convert labels into one-hot-encoded vectors\n",
        "one_hot_encoded_labels = to_categorical(labels)"
      ],
      "metadata": {
        "id": "byN_xKZ1w3db"
      },
      "execution_count": 8,
      "outputs": []
    },
    {
      "cell_type": "code",
      "source": [
        "# Split the Data into Train ( 80% ) and Test Set ( 20% ).\n",
        "features_train, features_test, labels_train, labels_test = train_test_split(features, one_hot_encoded_labels,\n",
        "                                                                            test_size = 0.10, shuffle = True,\n",
        "                                                                            random_state = seed_constant)"
      ],
      "metadata": {
        "id": "Xbo5u-ynw4bP"
      },
      "execution_count": 9,
      "outputs": []
    },
    {
      "cell_type": "code",
      "source": [
        "def create_LRCN_model():\n",
        "    '''\n",
        "    This function will construct the required LRCN model.\n",
        "    Returns:\n",
        "        model: It is the required constructed LRCN model.\n",
        "    '''\n",
        "\n",
        "    # We will use a Sequential model for model construction.\n",
        "    model = Sequential()\n",
        "   \n",
        "    # Define the Model Architecture.\n",
        "    ########################################################################################################################\n",
        "    \n",
        "    model.add(TimeDistributed(Conv2D(16, (3,3), padding='same'),\n",
        "                              input_shape = (SEQUENCE_LENGTH, IMAGE_HEIGHT, IMAGE_WIDTH, 3)))\n",
        "    model.add(TimeDistributed(BatchNormalization()))\n",
        "    model.add(TimeDistributed(Activation('relu')))\n",
        "    model.add(TimeDistributed(MaxPooling2D((4, 4)))) \n",
        "    model.add(TimeDistributed(Dropout(0.1)))\n",
        "    \n",
        "    model.add(TimeDistributed(Conv2D(32, (3,3), padding='same')))\n",
        "    model.add(TimeDistributed(BatchNormalization()))\n",
        "    model.add(TimeDistributed(Activation('relu')))\n",
        "    model.add(TimeDistributed(MaxPooling2D((4, 4))))\n",
        "    model.add(TimeDistributed(Dropout(0.2)))\n",
        "    \n",
        "    model.add(TimeDistributed(Conv2D(64, (3,3), padding='same')))\n",
        "    model.add(TimeDistributed(BatchNormalization()))\n",
        "    model.add(TimeDistributed(Activation('relu')))\n",
        "    model.add(TimeDistributed(MaxPooling2D((2, 2))))\n",
        "    model.add(TimeDistributed(Dropout(0.3)))\n",
        "    \n",
        "    model.add(TimeDistributed(Conv2D(64, (3,3), padding='same')))\n",
        "    model.add(TimeDistributed(BatchNormalization()))\n",
        "    model.add(TimeDistributed(Activation('relu')))\n",
        "    model.add(TimeDistributed(MaxPooling2D((2, 2))))\n",
        "    #model.add(TimeDistributed(Dropout(0.25)))\n",
        "                                      \n",
        "    model.add(TimeDistributed(Flatten()))\n",
        "                                      \n",
        "    model.add(LSTM(64))\n",
        "                                      \n",
        "    model.add(Dense(len(CLASSES_LIST), activation = 'softmax'))\n",
        "\n",
        "    ########################################################################################################################\n",
        "\n",
        "    # Display the models summary.\n",
        "    model.summary()\n",
        "    \n",
        "    # Return the constructed LRCN model.\n",
        "    return model"
      ],
      "metadata": {
        "id": "ANf9NyOAw7Fa"
      },
      "execution_count": 10,
      "outputs": []
    },
    {
      "cell_type": "code",
      "source": [
        "# Construct the required LRCN model.\n",
        "LRCN_model = create_LRCN_model()\n",
        "\n",
        "# Display the success message.\n",
        "print(\"Model Created Successfully!\")"
      ],
      "metadata": {
        "id": "VX1aE7GoxSHl",
        "outputId": "d2aea971-fea4-44f6-f23a-a3feaad4cb96",
        "colab": {
          "base_uri": "https://localhost:8080/"
        }
      },
      "execution_count": 11,
      "outputs": [
        {
          "output_type": "stream",
          "name": "stdout",
          "text": [
            "Model: \"sequential\"\n",
            "_________________________________________________________________\n",
            " Layer (type)                Output Shape              Param #   \n",
            "=================================================================\n",
            " time_distributed (TimeDistr  (None, 30, 64, 64, 16)   448       \n",
            " ibuted)                                                         \n",
            "                                                                 \n",
            " time_distributed_1 (TimeDis  (None, 30, 64, 64, 16)   64        \n",
            " tributed)                                                       \n",
            "                                                                 \n",
            " time_distributed_2 (TimeDis  (None, 30, 64, 64, 16)   0         \n",
            " tributed)                                                       \n",
            "                                                                 \n",
            " time_distributed_3 (TimeDis  (None, 30, 16, 16, 16)   0         \n",
            " tributed)                                                       \n",
            "                                                                 \n",
            " time_distributed_4 (TimeDis  (None, 30, 16, 16, 16)   0         \n",
            " tributed)                                                       \n",
            "                                                                 \n",
            " time_distributed_5 (TimeDis  (None, 30, 16, 16, 32)   4640      \n",
            " tributed)                                                       \n",
            "                                                                 \n",
            " time_distributed_6 (TimeDis  (None, 30, 16, 16, 32)   128       \n",
            " tributed)                                                       \n",
            "                                                                 \n",
            " time_distributed_7 (TimeDis  (None, 30, 16, 16, 32)   0         \n",
            " tributed)                                                       \n",
            "                                                                 \n",
            " time_distributed_8 (TimeDis  (None, 30, 4, 4, 32)     0         \n",
            " tributed)                                                       \n",
            "                                                                 \n",
            " time_distributed_9 (TimeDis  (None, 30, 4, 4, 32)     0         \n",
            " tributed)                                                       \n",
            "                                                                 \n",
            " time_distributed_10 (TimeDi  (None, 30, 4, 4, 64)     18496     \n",
            " stributed)                                                      \n",
            "                                                                 \n",
            " time_distributed_11 (TimeDi  (None, 30, 4, 4, 64)     256       \n",
            " stributed)                                                      \n",
            "                                                                 \n",
            " time_distributed_12 (TimeDi  (None, 30, 4, 4, 64)     0         \n",
            " stributed)                                                      \n",
            "                                                                 \n",
            " time_distributed_13 (TimeDi  (None, 30, 2, 2, 64)     0         \n",
            " stributed)                                                      \n",
            "                                                                 \n",
            " time_distributed_14 (TimeDi  (None, 30, 2, 2, 64)     0         \n",
            " stributed)                                                      \n",
            "                                                                 \n",
            " time_distributed_15 (TimeDi  (None, 30, 2, 2, 64)     36928     \n",
            " stributed)                                                      \n",
            "                                                                 \n",
            " time_distributed_16 (TimeDi  (None, 30, 2, 2, 64)     256       \n",
            " stributed)                                                      \n",
            "                                                                 \n",
            " time_distributed_17 (TimeDi  (None, 30, 2, 2, 64)     0         \n",
            " stributed)                                                      \n",
            "                                                                 \n",
            " time_distributed_18 (TimeDi  (None, 30, 1, 1, 64)     0         \n",
            " stributed)                                                      \n",
            "                                                                 \n",
            " time_distributed_19 (TimeDi  (None, 30, 64)           0         \n",
            " stributed)                                                      \n",
            "                                                                 \n",
            " lstm (LSTM)                 (None, 64)                33024     \n",
            "                                                                 \n",
            " dense (Dense)               (None, 6)                 390       \n",
            "                                                                 \n",
            "=================================================================\n",
            "Total params: 94,630\n",
            "Trainable params: 94,278\n",
            "Non-trainable params: 352\n",
            "_________________________________________________________________\n",
            "Model Created Successfully!\n"
          ]
        }
      ]
    },
    {
      "cell_type": "code",
      "source": [
        "import tensorflow as tf"
      ],
      "metadata": {
        "id": "b58XgVEZlh4Q"
      },
      "execution_count": 12,
      "outputs": []
    },
    {
      "cell_type": "code",
      "source": [
        "# Create an Instance of Early Stopping Callback.\n",
        "early_stopping_callback = EarlyStopping(monitor = 'val_loss', patience = 25, mode = 'min', restore_best_weights = True)\n",
        " \n",
        "# Compile the model and specify loss function, optimizer and metrics to the model.\n",
        "LRCN_model.compile(loss=tf.keras.losses.Poisson(), optimizer = 'Adam', metrics = [\"accuracy\"])\n",
        "\n",
        "# Start training the model.\n",
        "LRCN_model_training_history = LRCN_model.fit(x = features_train, y = labels_train, epochs = 150, batch_size = 4 ,\n",
        "                                             shuffle = True, validation_split = 0.1, callbacks = [early_stopping_callback])"
      ],
      "metadata": {
        "id": "-wmt7CHExUgm",
        "outputId": "9b160c8f-3cdf-4cb4-eaed-6d3250749629",
        "colab": {
          "base_uri": "https://localhost:8080/"
        }
      },
      "execution_count": 13,
      "outputs": [
        {
          "output_type": "stream",
          "name": "stdout",
          "text": [
            "Epoch 1/150\n",
            "419/419 [==============================] - 20s 17ms/step - loss: 0.4374 - accuracy: 0.3250 - val_loss: 0.5159 - val_accuracy: 0.1720\n",
            "Epoch 2/150\n",
            "419/419 [==============================] - 6s 14ms/step - loss: 0.3762 - accuracy: 0.4689 - val_loss: 0.3676 - val_accuracy: 0.5806\n",
            "Epoch 3/150\n",
            "419/419 [==============================] - 6s 14ms/step - loss: 0.3559 - accuracy: 0.5514 - val_loss: 0.4252 - val_accuracy: 0.4409\n",
            "Epoch 4/150\n",
            "419/419 [==============================] - 6s 14ms/step - loss: 0.3353 - accuracy: 0.6004 - val_loss: 0.4104 - val_accuracy: 0.4516\n",
            "Epoch 5/150\n",
            "419/419 [==============================] - 6s 14ms/step - loss: 0.3251 - accuracy: 0.6183 - val_loss: 0.3169 - val_accuracy: 0.6237\n",
            "Epoch 6/150\n",
            "419/419 [==============================] - 6s 14ms/step - loss: 0.3081 - accuracy: 0.6822 - val_loss: 0.2966 - val_accuracy: 0.7312\n",
            "Epoch 7/150\n",
            "419/419 [==============================] - 6s 14ms/step - loss: 0.2970 - accuracy: 0.6989 - val_loss: 0.3118 - val_accuracy: 0.6398\n",
            "Epoch 8/150\n",
            "419/419 [==============================] - 6s 14ms/step - loss: 0.2821 - accuracy: 0.7240 - val_loss: 0.2941 - val_accuracy: 0.7097\n",
            "Epoch 9/150\n",
            "419/419 [==============================] - 6s 14ms/step - loss: 0.2783 - accuracy: 0.7491 - val_loss: 0.2840 - val_accuracy: 0.7204\n",
            "Epoch 10/150\n",
            "419/419 [==============================] - 6s 14ms/step - loss: 0.2695 - accuracy: 0.7694 - val_loss: 0.3083 - val_accuracy: 0.6667\n",
            "Epoch 11/150\n",
            "419/419 [==============================] - 6s 14ms/step - loss: 0.2656 - accuracy: 0.7790 - val_loss: 0.2771 - val_accuracy: 0.7419\n",
            "Epoch 12/150\n",
            "419/419 [==============================] - 6s 14ms/step - loss: 0.2534 - accuracy: 0.8106 - val_loss: 0.2883 - val_accuracy: 0.7204\n",
            "Epoch 13/150\n",
            "419/419 [==============================] - 6s 14ms/step - loss: 0.2468 - accuracy: 0.8178 - val_loss: 0.3225 - val_accuracy: 0.7151\n",
            "Epoch 14/150\n",
            "419/419 [==============================] - 6s 14ms/step - loss: 0.2354 - accuracy: 0.8578 - val_loss: 0.3125 - val_accuracy: 0.7043\n",
            "Epoch 15/150\n",
            "419/419 [==============================] - 6s 14ms/step - loss: 0.2341 - accuracy: 0.8441 - val_loss: 0.2775 - val_accuracy: 0.7796\n",
            "Epoch 16/150\n",
            "419/419 [==============================] - 6s 14ms/step - loss: 0.2312 - accuracy: 0.8608 - val_loss: 0.2876 - val_accuracy: 0.7527\n",
            "Epoch 17/150\n",
            "419/419 [==============================] - 6s 14ms/step - loss: 0.2318 - accuracy: 0.8584 - val_loss: 0.3057 - val_accuracy: 0.7258\n",
            "Epoch 18/150\n",
            "419/419 [==============================] - 6s 14ms/step - loss: 0.2180 - accuracy: 0.8907 - val_loss: 0.2340 - val_accuracy: 0.8602\n",
            "Epoch 19/150\n",
            "419/419 [==============================] - 6s 14ms/step - loss: 0.2238 - accuracy: 0.8740 - val_loss: 0.2585 - val_accuracy: 0.7742\n",
            "Epoch 20/150\n",
            "419/419 [==============================] - 6s 14ms/step - loss: 0.2167 - accuracy: 0.8961 - val_loss: 0.4327 - val_accuracy: 0.5699\n",
            "Epoch 21/150\n",
            "419/419 [==============================] - 6s 14ms/step - loss: 0.2179 - accuracy: 0.8859 - val_loss: 0.2603 - val_accuracy: 0.8011\n",
            "Epoch 22/150\n",
            "419/419 [==============================] - 6s 14ms/step - loss: 0.2183 - accuracy: 0.8919 - val_loss: 0.2683 - val_accuracy: 0.7957\n",
            "Epoch 23/150\n",
            "419/419 [==============================] - 6s 14ms/step - loss: 0.2095 - accuracy: 0.9032 - val_loss: 0.2278 - val_accuracy: 0.8817\n",
            "Epoch 24/150\n",
            "419/419 [==============================] - 6s 14ms/step - loss: 0.2081 - accuracy: 0.9164 - val_loss: 0.2524 - val_accuracy: 0.7957\n",
            "Epoch 25/150\n",
            "419/419 [==============================] - 6s 14ms/step - loss: 0.2070 - accuracy: 0.9080 - val_loss: 0.2427 - val_accuracy: 0.8387\n",
            "Epoch 26/150\n",
            "419/419 [==============================] - 6s 14ms/step - loss: 0.1994 - accuracy: 0.9283 - val_loss: 0.2362 - val_accuracy: 0.8602\n",
            "Epoch 27/150\n",
            "419/419 [==============================] - 6s 14ms/step - loss: 0.2075 - accuracy: 0.9152 - val_loss: 0.3107 - val_accuracy: 0.6882\n",
            "Epoch 28/150\n",
            "419/419 [==============================] - 6s 14ms/step - loss: 0.2008 - accuracy: 0.9313 - val_loss: 0.2402 - val_accuracy: 0.8548\n",
            "Epoch 29/150\n",
            "419/419 [==============================] - 6s 14ms/step - loss: 0.2006 - accuracy: 0.9295 - val_loss: 0.2493 - val_accuracy: 0.8280\n",
            "Epoch 30/150\n",
            "419/419 [==============================] - 6s 14ms/step - loss: 0.1971 - accuracy: 0.9397 - val_loss: 0.3583 - val_accuracy: 0.6882\n",
            "Epoch 31/150\n",
            "419/419 [==============================] - 6s 14ms/step - loss: 0.2048 - accuracy: 0.9229 - val_loss: 0.2036 - val_accuracy: 0.9247\n",
            "Epoch 32/150\n",
            "419/419 [==============================] - 6s 14ms/step - loss: 0.1971 - accuracy: 0.9349 - val_loss: 0.2091 - val_accuracy: 0.9140\n",
            "Epoch 33/150\n",
            "419/419 [==============================] - 6s 14ms/step - loss: 0.1948 - accuracy: 0.9385 - val_loss: 0.2351 - val_accuracy: 0.8602\n",
            "Epoch 34/150\n",
            "419/419 [==============================] - 6s 14ms/step - loss: 0.1989 - accuracy: 0.9223 - val_loss: 0.2270 - val_accuracy: 0.8602\n",
            "Epoch 35/150\n",
            "419/419 [==============================] - 6s 14ms/step - loss: 0.1952 - accuracy: 0.9427 - val_loss: 0.2342 - val_accuracy: 0.8710\n",
            "Epoch 36/150\n",
            "419/419 [==============================] - 6s 14ms/step - loss: 0.1912 - accuracy: 0.9480 - val_loss: 0.1968 - val_accuracy: 0.9355\n",
            "Epoch 37/150\n",
            "419/419 [==============================] - 6s 14ms/step - loss: 0.1952 - accuracy: 0.9379 - val_loss: 0.2117 - val_accuracy: 0.9086\n",
            "Epoch 38/150\n",
            "419/419 [==============================] - 6s 14ms/step - loss: 0.1940 - accuracy: 0.9450 - val_loss: 0.2056 - val_accuracy: 0.8871\n",
            "Epoch 39/150\n",
            "419/419 [==============================] - 6s 15ms/step - loss: 0.1895 - accuracy: 0.9498 - val_loss: 0.2120 - val_accuracy: 0.9140\n",
            "Epoch 40/150\n",
            "419/419 [==============================] - 6s 14ms/step - loss: 0.1866 - accuracy: 0.9618 - val_loss: 0.3053 - val_accuracy: 0.7312\n",
            "Epoch 41/150\n",
            "419/419 [==============================] - 6s 15ms/step - loss: 0.1922 - accuracy: 0.9468 - val_loss: 0.2219 - val_accuracy: 0.8871\n",
            "Epoch 42/150\n",
            "419/419 [==============================] - 6s 14ms/step - loss: 0.1902 - accuracy: 0.9510 - val_loss: 0.2251 - val_accuracy: 0.8763\n",
            "Epoch 43/150\n",
            "419/419 [==============================] - 6s 14ms/step - loss: 0.1871 - accuracy: 0.9582 - val_loss: 0.2505 - val_accuracy: 0.8387\n",
            "Epoch 44/150\n",
            "419/419 [==============================] - 6s 15ms/step - loss: 0.1879 - accuracy: 0.9558 - val_loss: 0.1939 - val_accuracy: 0.9516\n",
            "Epoch 45/150\n",
            "419/419 [==============================] - 6s 14ms/step - loss: 0.1857 - accuracy: 0.9594 - val_loss: 0.2172 - val_accuracy: 0.8817\n",
            "Epoch 46/150\n",
            "419/419 [==============================] - 6s 15ms/step - loss: 0.1849 - accuracy: 0.9624 - val_loss: 0.2155 - val_accuracy: 0.9247\n",
            "Epoch 47/150\n",
            "419/419 [==============================] - 6s 14ms/step - loss: 0.1892 - accuracy: 0.9522 - val_loss: 0.2230 - val_accuracy: 0.8710\n",
            "Epoch 48/150\n",
            "419/419 [==============================] - 6s 14ms/step - loss: 0.1876 - accuracy: 0.9576 - val_loss: 0.2156 - val_accuracy: 0.9032\n",
            "Epoch 49/150\n",
            "419/419 [==============================] - 6s 15ms/step - loss: 0.1838 - accuracy: 0.9630 - val_loss: 0.2229 - val_accuracy: 0.8817\n",
            "Epoch 50/150\n",
            "419/419 [==============================] - 6s 14ms/step - loss: 0.1837 - accuracy: 0.9630 - val_loss: 0.2183 - val_accuracy: 0.8978\n",
            "Epoch 51/150\n",
            "419/419 [==============================] - 6s 15ms/step - loss: 0.1858 - accuracy: 0.9570 - val_loss: 0.2176 - val_accuracy: 0.9194\n",
            "Epoch 52/150\n",
            "419/419 [==============================] - 6s 15ms/step - loss: 0.1811 - accuracy: 0.9654 - val_loss: 0.2238 - val_accuracy: 0.9086\n",
            "Epoch 53/150\n",
            "419/419 [==============================] - 6s 14ms/step - loss: 0.1845 - accuracy: 0.9612 - val_loss: 0.1926 - val_accuracy: 0.9516\n",
            "Epoch 54/150\n",
            "419/419 [==============================] - 6s 14ms/step - loss: 0.1827 - accuracy: 0.9642 - val_loss: 0.2039 - val_accuracy: 0.9247\n",
            "Epoch 55/150\n",
            "419/419 [==============================] - 6s 14ms/step - loss: 0.1813 - accuracy: 0.9665 - val_loss: 0.5063 - val_accuracy: 0.5538\n",
            "Epoch 56/150\n",
            "419/419 [==============================] - 6s 14ms/step - loss: 0.1827 - accuracy: 0.9683 - val_loss: 0.2025 - val_accuracy: 0.9032\n",
            "Epoch 57/150\n",
            "419/419 [==============================] - 6s 15ms/step - loss: 0.1825 - accuracy: 0.9642 - val_loss: 0.3110 - val_accuracy: 0.7742\n",
            "Epoch 58/150\n",
            "419/419 [==============================] - 6s 15ms/step - loss: 0.1819 - accuracy: 0.9624 - val_loss: 0.2368 - val_accuracy: 0.8656\n",
            "Epoch 59/150\n",
            "419/419 [==============================] - 6s 15ms/step - loss: 0.1820 - accuracy: 0.9731 - val_loss: 0.2681 - val_accuracy: 0.8172\n",
            "Epoch 60/150\n",
            "419/419 [==============================] - 6s 15ms/step - loss: 0.1854 - accuracy: 0.9630 - val_loss: 0.2261 - val_accuracy: 0.9032\n",
            "Epoch 61/150\n",
            "419/419 [==============================] - 6s 14ms/step - loss: 0.1779 - accuracy: 0.9773 - val_loss: 0.2406 - val_accuracy: 0.8710\n",
            "Epoch 62/150\n",
            "419/419 [==============================] - 6s 14ms/step - loss: 0.1819 - accuracy: 0.9707 - val_loss: 0.2082 - val_accuracy: 0.9140\n",
            "Epoch 63/150\n",
            "419/419 [==============================] - 6s 15ms/step - loss: 0.1787 - accuracy: 0.9731 - val_loss: 0.2226 - val_accuracy: 0.8656\n",
            "Epoch 64/150\n",
            "419/419 [==============================] - 6s 14ms/step - loss: 0.1824 - accuracy: 0.9695 - val_loss: 0.2103 - val_accuracy: 0.9194\n",
            "Epoch 65/150\n",
            "419/419 [==============================] - 6s 15ms/step - loss: 0.1783 - accuracy: 0.9797 - val_loss: 0.2028 - val_accuracy: 0.9301\n",
            "Epoch 66/150\n",
            "419/419 [==============================] - 6s 15ms/step - loss: 0.1837 - accuracy: 0.9654 - val_loss: 0.2834 - val_accuracy: 0.8011\n",
            "Epoch 67/150\n",
            "419/419 [==============================] - 6s 15ms/step - loss: 0.1802 - accuracy: 0.9695 - val_loss: 0.2451 - val_accuracy: 0.8710\n",
            "Epoch 68/150\n",
            "419/419 [==============================] - 6s 15ms/step - loss: 0.1800 - accuracy: 0.9725 - val_loss: 0.2196 - val_accuracy: 0.9032\n",
            "Epoch 69/150\n",
            "419/419 [==============================] - 6s 15ms/step - loss: 0.1805 - accuracy: 0.9695 - val_loss: 0.2439 - val_accuracy: 0.8602\n",
            "Epoch 70/150\n",
            "419/419 [==============================] - 6s 14ms/step - loss: 0.1777 - accuracy: 0.9755 - val_loss: 0.2452 - val_accuracy: 0.8710\n",
            "Epoch 71/150\n",
            "419/419 [==============================] - 6s 15ms/step - loss: 0.1789 - accuracy: 0.9761 - val_loss: 0.2414 - val_accuracy: 0.8602\n",
            "Epoch 72/150\n",
            "419/419 [==============================] - 6s 14ms/step - loss: 0.1829 - accuracy: 0.9659 - val_loss: 0.3124 - val_accuracy: 0.7312\n",
            "Epoch 73/150\n",
            "419/419 [==============================] - 6s 14ms/step - loss: 0.1804 - accuracy: 0.9719 - val_loss: 0.2441 - val_accuracy: 0.8602\n",
            "Epoch 74/150\n",
            "419/419 [==============================] - 6s 15ms/step - loss: 0.1750 - accuracy: 0.9857 - val_loss: 0.2165 - val_accuracy: 0.9247\n",
            "Epoch 75/150\n",
            "419/419 [==============================] - 6s 14ms/step - loss: 0.1751 - accuracy: 0.9833 - val_loss: 0.2056 - val_accuracy: 0.9301\n",
            "Epoch 76/150\n",
            "419/419 [==============================] - 6s 15ms/step - loss: 0.1805 - accuracy: 0.9725 - val_loss: 0.2274 - val_accuracy: 0.8978\n",
            "Epoch 77/150\n",
            "419/419 [==============================] - 6s 14ms/step - loss: 0.1783 - accuracy: 0.9821 - val_loss: 0.2080 - val_accuracy: 0.9355\n",
            "Epoch 78/150\n",
            "419/419 [==============================] - 6s 14ms/step - loss: 0.1794 - accuracy: 0.9689 - val_loss: 0.2119 - val_accuracy: 0.9247\n"
          ]
        }
      ]
    },
    {
      "cell_type": "code",
      "source": [
        "# Evaluate the trained model.\n",
        "model_evaluation_history = LRCN_model.evaluate(features_test, labels_test)"
      ],
      "metadata": {
        "id": "hhLgaWvCxZ-e",
        "outputId": "75dbc302-8b11-475f-d6b8-fd648f1f5a30",
        "colab": {
          "base_uri": "https://localhost:8080/"
        }
      },
      "execution_count": 14,
      "outputs": [
        {
          "output_type": "stream",
          "name": "stdout",
          "text": [
            "7/7 [==============================] - 1s 58ms/step - loss: 0.2147 - accuracy: 0.9130\n"
          ]
        }
      ]
    },
    {
      "cell_type": "code",
      "source": [
        "# Get the loss and accuracy from model_evaluation_history.\n",
        "model_evaluation_loss, model_evaluation_accuracy = model_evaluation_history\n",
        "\n",
        "# Define the string date format.\n",
        "# Get the current Date and Time in a DateTime Object.\n",
        "# Convert the DateTime object to string according to the style mentioned in date_time_format string.\n",
        "date_time_format = '%Y_%m_%d__%H_%M_%S'\n",
        "current_date_time_dt = dt.datetime.now()\n",
        "current_date_time_string = dt.datetime.strftime(current_date_time_dt, date_time_format)\n",
        "    \n",
        "# Define a useful name for our model to make it easy for us while navigating through multiple saved models.\n",
        "model_file_name = f'landmark3_lr=0.001___Accuracy_{model_evaluation_accuracy}___Loss_{model_evaluation_loss}.h5'\n",
        "\n",
        "# Save the Model.\n",
        "#LRCN_model.save('/content/drive/My Drive/marwa/saved_models/lrcn/'+model_file_name)"
      ],
      "metadata": {
        "id": "g8wWe5lR1GRp"
      },
      "execution_count": 15,
      "outputs": []
    },
    {
      "cell_type": "code",
      "source": [
        "def plot_metric(model_training_history, metric_name_1, metric_name_2, plot_name):\n",
        "    '''\n",
        "    This function will plot the metrics passed to it in a graph.\n",
        "    Args:\n",
        "        model_training_history: A history object containing a record of training and validation \n",
        "                                loss values and metrics values at successive epochs\n",
        "        metric_name_1:          The name of the first metric that needs to be plotted in the graph.\n",
        "        metric_name_2:          The name of the second metric that needs to be plotted in the graph.\n",
        "        plot_name:              The title of the graph.\n",
        "    '''\n",
        "    \n",
        "    # Get metric values using metric names as identifiers.\n",
        "    metric_value_1 = model_training_history.history[metric_name_1]\n",
        "    metric_value_2 = model_training_history.history[metric_name_2]\n",
        "    \n",
        "    # Construct a range object which will be used as x-axis (horizontal plane) of the graph.\n",
        "    epochs = range(len(metric_value_1))\n",
        "\n",
        "    # Plot the Graph.\n",
        "    plt.plot(epochs, metric_value_1, 'blue', label = metric_name_1)\n",
        "    plt.plot(epochs, metric_value_2, 'red', label = metric_name_2)\n",
        "\n",
        "    # Add title to the plot.\n",
        "    plt.title(str(plot_name))\n",
        "\n",
        "    # Add legend to the plot.\n",
        "    plt.legend()"
      ],
      "metadata": {
        "id": "ZiSh_i871KAd"
      },
      "execution_count": 16,
      "outputs": []
    },
    {
      "cell_type": "code",
      "source": [
        "# Visualize the training and validation loss metrices.\n",
        "plot_metric(LRCN_model_training_history, 'loss', 'val_loss', 'Total Loss vs Total Validation Loss')"
      ],
      "metadata": {
        "id": "7HjkIAJj1Ncw",
        "outputId": "e4f7c5e3-f2e3-406e-da93-dcdd5b34802f",
        "colab": {
          "base_uri": "https://localhost:8080/",
          "height": 281
        }
      },
      "execution_count": 17,
      "outputs": [
        {
          "output_type": "display_data",
          "data": {
            "text/plain": [
              "<Figure size 432x288 with 1 Axes>"
            ],
            "image/png": "[encoded data removed]"
          },
          "metadata": {
            "needs_background": "light"
          }
        }
      ]
    },
    {
      "cell_type": "code",
      "source": [
        "\n",
        "# Visualize the training and validation accuracy metrices.\n",
        "plot_metric(LRCN_model_training_history, 'accuracy', 'val_accuracy', 'Total Accuracy vs Total Validation Accuracy')"
      ],
      "metadata": {
        "id": "sYTDhDnq1Qce",
        "outputId": "289e30e7-c691-49c8-f7e7-9d4f792b95ed",
        "colab": {
          "base_uri": "https://localhost:8080/",
          "height": 281
        }
      },
      "execution_count": 18,
      "outputs": [
        {
          "output_type": "display_data",
          "data": {
            "text/plain": [
              "<Figure size 432x288 with 1 Axes>"
            ],
            "image/png": "[encoded data removed]"
          },
          "metadata": {
            "needs_background": "light"
          }
        }
      ]
    },
    {
      "cell_type": "code",
      "source": [
        "predictions =  LRCN_model.predict(features_test)\n",
        "predictions"
      ],
      "metadata": {
        "id": "KrJfAkU41SlN",
        "outputId": "763bece8-29d4-4107-e02d-e34a7c46b588",
        "colab": {
          "base_uri": "https://localhost:8080/"
        }
      },
      "execution_count": 19,
      "outputs": [
        {
          "output_type": "execute_result",
          "data": {
            "text/plain": [
              "array([[5.75273097e-01, 3.61818410e-02, 8.11668215e-05, 3.68982285e-01,\n",
              "        8.88699293e-03, 1.05945924e-02],\n",
              "       [1.64686271e-03, 4.01446521e-02, 3.92624759e-04, 8.86432528e-01,\n",
              "        2.79907789e-02, 4.33925502e-02],\n",
              "       [4.00715416e-09, 2.09770460e-05, 9.99948025e-01, 5.47085847e-06,\n",
              "        1.07647270e-06, 2.44741368e-05],\n",
              "       ...,\n",
              "       [1.37203915e-05, 9.82628535e-06, 3.89429033e-06, 7.08795269e-04,\n",
              "        9.96288776e-01, 2.97503406e-03],\n",
              "       [2.88419596e-06, 7.84480653e-06, 1.08192480e-05, 2.27029581e-04,\n",
              "        9.85031009e-01, 1.47204017e-02],\n",
              "       [2.45296280e-04, 9.99281108e-01, 2.08707846e-04, 2.49807024e-04,\n",
              "        1.06575835e-05, 4.49904383e-06]], dtype=float32)"
            ]
          },
          "metadata": {},
          "execution_count": 19
        }
      ]
    },
    {
      "cell_type": "code",
      "source": [
        "preds=predictions.argmax(axis=1)\n",
        "preds"
      ],
      "metadata": {
        "id": "IWZvTQCa1W6M",
        "outputId": "557de57a-64c4-429b-99b7-99f06af28e3a",
        "colab": {
          "base_uri": "https://localhost:8080/"
        }
      },
      "execution_count": 20,
      "outputs": [
        {
          "output_type": "execute_result",
          "data": {
            "text/plain": [
              "array([0, 3, 2, 3, 5, 2, 5, 1, 4, 0, 3, 1, 4, 0, 4, 3, 4, 0, 2, 1, 5, 2,\n",
              "       0, 2, 2, 5, 3, 5, 3, 5, 5, 4, 5, 0, 2, 2, 3, 1, 5, 4, 2, 2, 1, 5,\n",
              "       2, 0, 5, 5, 3, 5, 4, 2, 1, 3, 3, 0, 3, 0, 2, 5, 4, 4, 5, 3, 0, 3,\n",
              "       2, 0, 5, 1, 1, 2, 5, 3, 5, 4, 0, 3, 4, 5, 3, 4, 5, 0, 0, 1, 2, 5,\n",
              "       3, 5, 5, 1, 0, 1, 5, 5, 1, 2, 5, 3, 4, 3, 3, 5, 4, 3, 2, 1, 4, 1,\n",
              "       5, 2, 0, 1, 4, 0, 4, 1, 1, 1, 1, 5, 1, 4, 1, 2, 3, 2, 5, 1, 2, 0,\n",
              "       1, 5, 1, 0, 5, 0, 1, 1, 2, 1, 2, 3, 1, 2, 3, 0, 0, 3, 2, 3, 5, 3,\n",
              "       1, 2, 1, 3, 0, 0, 1, 3, 3, 2, 4, 1, 0, 0, 5, 4, 4, 3, 1, 4, 3, 1,\n",
              "       5, 0, 4, 5, 4, 0, 0, 5, 3, 3, 1, 3, 3, 4, 1, 4, 1, 0, 4, 2, 3, 1,\n",
              "       5, 5, 3, 2, 5, 2, 4, 4, 1])"
            ]
          },
          "metadata": {},
          "execution_count": 20
        }
      ]
    },
    {
      "cell_type": "code",
      "source": [
        "new_preds = preds.astype(int).flatten()\n",
        "new_preds"
      ],
      "metadata": {
        "id": "0CpgXIkh1Z_v",
        "outputId": "40016e13-5a1e-49b3-bcb6-622590469d06",
        "colab": {
          "base_uri": "https://localhost:8080/"
        }
      },
      "execution_count": 21,
      "outputs": [
        {
          "output_type": "execute_result",
          "data": {
            "text/plain": [
              "array([0, 3, 2, 3, 5, 2, 5, 1, 4, 0, 3, 1, 4, 0, 4, 3, 4, 0, 2, 1, 5, 2,\n",
              "       0, 2, 2, 5, 3, 5, 3, 5, 5, 4, 5, 0, 2, 2, 3, 1, 5, 4, 2, 2, 1, 5,\n",
              "       2, 0, 5, 5, 3, 5, 4, 2, 1, 3, 3, 0, 3, 0, 2, 5, 4, 4, 5, 3, 0, 3,\n",
              "       2, 0, 5, 1, 1, 2, 5, 3, 5, 4, 0, 3, 4, 5, 3, 4, 5, 0, 0, 1, 2, 5,\n",
              "       3, 5, 5, 1, 0, 1, 5, 5, 1, 2, 5, 3, 4, 3, 3, 5, 4, 3, 2, 1, 4, 1,\n",
              "       5, 2, 0, 1, 4, 0, 4, 1, 1, 1, 1, 5, 1, 4, 1, 2, 3, 2, 5, 1, 2, 0,\n",
              "       1, 5, 1, 0, 5, 0, 1, 1, 2, 1, 2, 3, 1, 2, 3, 0, 0, 3, 2, 3, 5, 3,\n",
              "       1, 2, 1, 3, 0, 0, 1, 3, 3, 2, 4, 1, 0, 0, 5, 4, 4, 3, 1, 4, 3, 1,\n",
              "       5, 0, 4, 5, 4, 0, 0, 5, 3, 3, 1, 3, 3, 4, 1, 4, 1, 0, 4, 2, 3, 1,\n",
              "       5, 5, 3, 2, 5, 2, 4, 4, 1])"
            ]
          },
          "metadata": {},
          "execution_count": 21
        }
      ]
    },
    {
      "cell_type": "code",
      "source": [
        "\n",
        "from sklearn.metrics import classification_report, confusion_matrix,accuracy_score\n",
        "import seaborn as sn\n",
        "import pandas as pd\n",
        "import numpy as np\n",
        "new_labels=np.argmax(labels_test, axis=1)\n",
        "print(classification_report(new_labels,new_preds))\n",
        "\n",
        "acc = float(accuracy_score(new_labels,new_preds))*100\n",
        "print(\"----accuracy score %s ----\" % acc)\n",
        "\n",
        "cm = confusion_matrix(new_labels,new_preds)\n",
        "#df_cm = pd.DataFrame(cm)\n",
        "class_names = ['neutral','calm', 'happy','sad','angry', 'fearful' ]\n",
        "df_cm = pd.DataFrame(cm, index=class_names, columns=class_names,)\n",
        "sn.heatmap(df_cm, annot=True, fmt='')\n",
        "plt.show()"
      ],
      "metadata": {
        "id": "7U3HwUqc1cft",
        "outputId": "754e0666-d1c6-440c-c175-1e27f015ca97",
        "colab": {
          "base_uri": "https://localhost:8080/",
          "height": 508
        }
      },
      "execution_count": 22,
      "outputs": [
        {
          "output_type": "stream",
          "name": "stdout",
          "text": [
            "              precision    recall  f1-score   support\n",
            "\n",
            "           0       0.87      0.96      0.91        27\n",
            "           1       0.97      0.86      0.92        44\n",
            "           2       0.94      0.97      0.95        30\n",
            "           3       0.84      0.94      0.89        34\n",
            "           4       1.00      0.85      0.92        34\n",
            "           5       0.88      0.92      0.90        38\n",
            "\n",
            "    accuracy                           0.91       207\n",
            "   macro avg       0.92      0.92      0.91       207\n",
            "weighted avg       0.92      0.91      0.91       207\n",
            "\n",
            "----accuracy score 91.30434782608695 ----\n"
          ]
        },
        {
          "output_type": "display_data",
          "data": {
            "text/plain": [
              "<Figure size 432x288 with 2 Axes>"
            ],
            "image/png": "[encoded data removed]"
          },
          "metadata": {
            "needs_background": "light"
          }
        }
      ]
    },
    {
      "cell_type": "code",
      "source": [
        ""
      ],
      "metadata": {
        "id": "pVlEoCq0-0n3"
      },
      "execution_count": null,
      "outputs": []
    }
  ]
}