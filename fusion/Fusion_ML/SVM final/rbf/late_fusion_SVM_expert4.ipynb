{
  "nbformat": 4,
  "nbformat_minor": 0,
  "metadata": {
    "colab": {
      "name": "late_fusion_SVM_expert4.ipynb",
      "provenance": [],
      "collapsed_sections": []
    },
    "kernelspec": {
      "name": "python3",
      "display_name": "Python 3"
    },
    "language_info": {
      "name": "python"
    }
  },
  "cells": [
    {
      "cell_type": "code",
      "source": [
        "# stacked generalization with linear meta model on blobs dataset\n",
        "from sklearn.metrics import accuracy_score\n",
        "from sklearn.linear_model import LogisticRegression\n",
        "from matplotlib import pyplot\n"
      ],
      "metadata": {
        "id": "XQj4f23-Ix-w"
      },
      "execution_count": 1,
      "outputs": []
    },
    {
      "cell_type": "code",
      "source": [
        "from google.colab import drive\n",
        "drive.mount('/content/drive')"
      ],
      "metadata": {
        "colab": {
          "base_uri": "https://localhost:8080/"
        },
        "id": "qj9wMQtlI1os",
        "outputId": "513cf3be-b26f-46a7-fdf1-faa0e652abd2"
      },
      "execution_count": 2,
      "outputs": [
        {
          "output_type": "stream",
          "name": "stdout",
          "text": [
            "Mounted at /content/drive\n"
          ]
        }
      ]
    },
    {
      "cell_type": "code",
      "source": [
        "#x_train  y_train to train\n",
        "#x_test   y_test to test\n",
        "#x_valid  y_valid \n",
        "#video\n",
        "import joblib\n",
        "x_test_prediction = joblib.load('/content/drive/My Drive/fusion/video/data_set_fusion/expert4/test/pred_test')\n",
        "x_train_prediction = joblib.load('/content/drive/My Drive/fusion/video/data_set_fusion/expert4/train/pred_train')\n",
        "x_valid_prediction = joblib.load('/content/drive/My Drive/fusion/video/data_set_fusion/expert4/valid/pred_valid')\n",
        "y_test = joblib.load('/content/drive/My Drive/fusion/video/data_set_fusion/expert4/test/labels_test')\n",
        "y_train = joblib.load('/content/drive/My Drive/fusion/video/data_set_fusion/expert4/train/labels_train')\n",
        "y_valid = joblib.load('/content/drive/My Drive/fusion/video/data_set_fusion/expert4/valid/labels_valid')\n",
        "#audio\n",
        "\n",
        "x_audio_test_prediction = joblib.load('/content/drive/My Drive/fusion/final_audio/data_set_fusion/expert4/test/predict_test')\n",
        "x_audio_train_prediction = joblib.load('/content/drive/My Drive/fusion/final_audio/data_set_fusion/expert4/train/predict_train')\n",
        "x_audio_valid_prediction = joblib.load('/content/drive/My Drive/fusion/final_audio/data_set_fusion/expert4/valid/predict_valid')\n",
        "\"\"\"\n",
        "#samples name\n",
        "test_videos= joblib.load('/content/drive/My Drive/fusion/video/data_set_fusion/expert1/test/video_test_path')\n",
        "train_videos = joblib.load('/content/drive/My Drive/fusion/video/data_set_fusion/expert1/train/video_train_path')\n",
        "valid_videos = joblib.load('/content/drive/My Drive/fusion/video/data_set_fusion/expert1/valid/video_valid_path')\n",
        "\"\"\""
      ],
      "metadata": {
        "id": "gb8C-44ct_Yp",
        "colab": {
          "base_uri": "https://localhost:8080/",
          "height": 53
        },
        "outputId": "0d34a89c-12e3-465f-db8e-7c2f486f346f"
      },
      "execution_count": 3,
      "outputs": [
        {
          "output_type": "execute_result",
          "data": {
            "text/plain": [
              "\"\\n#samples name\\ntest_videos= joblib.load('/content/drive/My Drive/fusion/video/data_set_fusion/expert1/test/video_test_path')\\ntrain_videos = joblib.load('/content/drive/My Drive/fusion/video/data_set_fusion/expert1/train/video_train_path')\\nvalid_videos = joblib.load('/content/drive/My Drive/fusion/video/data_set_fusion/expert1/valid/video_valid_path')\\n\""
            ],
            "application/vnd.google.colaboratory.intrinsic+json": {
              "type": "string"
            }
          },
          "metadata": {},
          "execution_count": 3
        }
      ]
    },
    {
      "cell_type": "code",
      "source": [
        "len(x_test_prediction),len(x_train_prediction),len(x_audio_test_prediction),len(x_audio_train_prediction),len(x_valid_prediction),len(x_audio_valid_prediction)"
      ],
      "metadata": {
        "colab": {
          "base_uri": "https://localhost:8080/"
        },
        "id": "Qz1Z3Vgdxaaw",
        "outputId": "f94f28b7-8b83-42bf-a80a-e68549a6745a"
      },
      "execution_count": 4,
      "outputs": [
        {
          "output_type": "execute_result",
          "data": {
            "text/plain": [
              "(207, 1653, 207, 1653, 207, 207)"
            ]
          },
          "metadata": {},
          "execution_count": 4
        }
      ]
    },
    {
      "cell_type": "code",
      "source": [
        "#x_train for video\n",
        "x_train_prediction=x_train_prediction.append(x_valid_prediction,ignore_index = True)\n",
        "#x_train for audio\n",
        "x_audio_train_prediction=x_audio_train_prediction.append(x_audio_valid_prediction,ignore_index = True)"
      ],
      "metadata": {
        "id": "QgDf-FF0utgP"
      },
      "execution_count": 5,
      "outputs": []
    },
    {
      "cell_type": "code",
      "source": [
        "len(x_audio_train_prediction),len(x_train_prediction)"
      ],
      "metadata": {
        "colab": {
          "base_uri": "https://localhost:8080/"
        },
        "id": "3G4-X-MLv79s",
        "outputId": "bb10f9dd-b420-41dd-92c9-20e08b1fc744"
      },
      "execution_count": 6,
      "outputs": [
        {
          "output_type": "execute_result",
          "data": {
            "text/plain": [
              "(1860, 1860)"
            ]
          },
          "metadata": {},
          "execution_count": 6
        }
      ]
    },
    {
      "cell_type": "code",
      "source": [
        "from pandas.core.frame import DataFrame\n",
        "df_train=DataFrame(y_train,columns=['labels'])\n",
        "df_valid=DataFrame(y_valid,columns=['labels'])"
      ],
      "metadata": {
        "id": "JrYaQCyZw06M"
      },
      "execution_count": 7,
      "outputs": []
    },
    {
      "cell_type": "code",
      "source": [
        "df_train=df_train.append(df_valid,ignore_index = True)"
      ],
      "metadata": {
        "id": "Rq3yhw26xjfy"
      },
      "execution_count": 8,
      "outputs": []
    },
    {
      "cell_type": "code",
      "source": [
        "len(df_train)"
      ],
      "metadata": {
        "colab": {
          "base_uri": "https://localhost:8080/"
        },
        "id": "dvYKmNurx1KR",
        "outputId": "4002e18d-f1d4-426b-a0fe-c6a5e518e7d2"
      },
      "execution_count": 9,
      "outputs": [
        {
          "output_type": "execute_result",
          "data": {
            "text/plain": [
              "1860"
            ]
          },
          "metadata": {},
          "execution_count": 9
        }
      ]
    },
    {
      "cell_type": "code",
      "source": [
        "df_train"
      ],
      "metadata": {
        "colab": {
          "base_uri": "https://localhost:8080/",
          "height": 424
        },
        "id": "Pfp2YX591X1F",
        "outputId": "b92f7b3d-c720-4cec-f081-bbbfa198635b"
      },
      "execution_count": 10,
      "outputs": [
        {
          "output_type": "execute_result",
          "data": {
            "text/plain": [
              "      labels\n",
              "0          3\n",
              "1          4\n",
              "2          5\n",
              "3          3\n",
              "4          5\n",
              "...      ...\n",
              "1855       4\n",
              "1856       3\n",
              "1857       5\n",
              "1858       5\n",
              "1859       5\n",
              "\n",
              "[1860 rows x 1 columns]"
            ],
            "text/html": [
              "\n",
              "  <div id=\"df-235f50ec-6eda-4d28-be1b-4153df8e1f34\">\n",
              "    <div class=\"colab-df-container\">\n",
              "      <div>\n",
              "<style scoped>\n",
              "    .dataframe tbody tr th:only-of-type {\n",
              "        vertical-align: middle;\n",
              "    }\n",
              "\n",
              "    .dataframe tbody tr th {\n",
              "        vertical-align: top;\n",
              "    }\n",
              "\n",
              "    .dataframe thead th {\n",
              "        text-align: right;\n",
              "    }\n",
              "</style>\n",
              "<table border=\"1\" class=\"dataframe\">\n",
              "  <thead>\n",
              "    <tr style=\"text-align: right;\">\n",
              "      <th></th>\n",
              "      <th>labels</th>\n",
              "    </tr>\n",
              "  </thead>\n",
              "  <tbody>\n",
              "    <tr>\n",
              "      <th>0</th>\n",
              "      <td>3</td>\n",
              "    </tr>\n",
              "    <tr>\n",
              "      <th>1</th>\n",
              "      <td>4</td>\n",
              "    </tr>\n",
              "    <tr>\n",
              "      <th>2</th>\n",
              "      <td>5</td>\n",
              "    </tr>\n",
              "    <tr>\n",
              "      <th>3</th>\n",
              "      <td>3</td>\n",
              "    </tr>\n",
              "    <tr>\n",
              "      <th>4</th>\n",
              "      <td>5</td>\n",
              "    </tr>\n",
              "    <tr>\n",
              "      <th>...</th>\n",
              "      <td>...</td>\n",
              "    </tr>\n",
              "    <tr>\n",
              "      <th>1855</th>\n",
              "      <td>4</td>\n",
              "    </tr>\n",
              "    <tr>\n",
              "      <th>1856</th>\n",
              "      <td>3</td>\n",
              "    </tr>\n",
              "    <tr>\n",
              "      <th>1857</th>\n",
              "      <td>5</td>\n",
              "    </tr>\n",
              "    <tr>\n",
              "      <th>1858</th>\n",
              "      <td>5</td>\n",
              "    </tr>\n",
              "    <tr>\n",
              "      <th>1859</th>\n",
              "      <td>5</td>\n",
              "    </tr>\n",
              "  </tbody>\n",
              "</table>\n",
              "<p>1860 rows × 1 columns</p>\n",
              "</div>\n",
              "      <button class=\"colab-df-convert\" onclick=\"convertToInteractive('df-235f50ec-6eda-4d28-be1b-4153df8e1f34')\"\n",
              "              title=\"Convert this dataframe to an interactive table.\"\n",
              "              style=\"display:none;\">\n",
              "        \n",
              "  <svg xmlns=\"http://www.w3.org/2000/svg\" height=\"24px\"viewBox=\"0 0 24 24\"\n",
              "       width=\"24px\">\n",
              "    <path d=\"M0 0h24v24H0V0z\" fill=\"none\"/>\n",
              "    <path d=\"M18.56 5.44l.94 2.06.94-2.06 2.06-.94-2.06-.94-.94-2.06-.94 2.06-2.06.94zm-11 1L8.5 8.5l.94-2.06 2.06-.94-2.06-.94L8.5 2.5l-.94 2.06-2.06.94zm10 10l.94 2.06.94-2.06 2.06-.94-2.06-.94-.94-2.06-.94 2.06-2.06.94z\"/><path d=\"M17.41 7.96l-1.37-1.37c-.4-.4-.92-.59-1.43-.59-.52 0-1.04.2-1.43.59L10.3 9.45l-7.72 7.72c-.78.78-.78 2.05 0 2.83L4 21.41c.39.39.9.59 1.41.59.51 0 1.02-.2 1.41-.59l7.78-7.78 2.81-2.81c.8-.78.8-2.07 0-2.86zM5.41 20L4 18.59l7.72-7.72 1.47 1.35L5.41 20z\"/>\n",
              "  </svg>\n",
              "      </button>\n",
              "      \n",
              "  <style>\n",
              "    .colab-df-container {\n",
              "      display:flex;\n",
              "      flex-wrap:wrap;\n",
              "      gap: 12px;\n",
              "    }\n",
              "\n",
              "    .colab-df-convert {\n",
              "      background-color: #E8F0FE;\n",
              "      border: none;\n",
              "      border-radius: 50%;\n",
              "      cursor: pointer;\n",
              "      display: none;\n",
              "      fill: #1967D2;\n",
              "      height: 32px;\n",
              "      padding: 0 0 0 0;\n",
              "      width: 32px;\n",
              "    }\n",
              "\n",
              "    .colab-df-convert:hover {\n",
              "      background-color: #E2EBFA;\n",
              "      box-shadow: 0px 1px 2px rgba(60, 64, 67, 0.3), 0px 1px 3px 1px rgba(60, 64, 67, 0.15);\n",
              "      fill: #174EA6;\n",
              "    }\n",
              "\n",
              "    [theme=dark] .colab-df-convert {\n",
              "      background-color: #3B4455;\n",
              "      fill: #D2E3FC;\n",
              "    }\n",
              "\n",
              "    [theme=dark] .colab-df-convert:hover {\n",
              "      background-color: #434B5C;\n",
              "      box-shadow: 0px 1px 3px 1px rgba(0, 0, 0, 0.15);\n",
              "      filter: drop-shadow(0px 1px 2px rgba(0, 0, 0, 0.3));\n",
              "      fill: #FFFFFF;\n",
              "    }\n",
              "  </style>\n",
              "\n",
              "      <script>\n",
              "        const buttonEl =\n",
              "          document.querySelector('#df-235f50ec-6eda-4d28-be1b-4153df8e1f34 button.colab-df-convert');\n",
              "        buttonEl.style.display =\n",
              "          google.colab.kernel.accessAllowed ? 'block' : 'none';\n",
              "\n",
              "        async function convertToInteractive(key) {\n",
              "          const element = document.querySelector('#df-235f50ec-6eda-4d28-be1b-4153df8e1f34');\n",
              "          const dataTable =\n",
              "            await google.colab.kernel.invokeFunction('convertToInteractive',\n",
              "                                                     [key], {});\n",
              "          if (!dataTable) return;\n",
              "\n",
              "          const docLinkHtml = 'Like what you see? Visit the ' +\n",
              "            '<a target=\"_blank\" href=https://colab.research.google.com/notebooks/data_table.ipynb>data table notebook</a>'\n",
              "            + ' to learn more about interactive tables.';\n",
              "          element.innerHTML = '';\n",
              "          dataTable['output_type'] = 'display_data';\n",
              "          await google.colab.output.renderOutput(dataTable, element);\n",
              "          const docLink = document.createElement('div');\n",
              "          docLink.innerHTML = docLinkHtml;\n",
              "          element.appendChild(docLink);\n",
              "        }\n",
              "      </script>\n",
              "    </div>\n",
              "  </div>\n",
              "  "
            ]
          },
          "metadata": {},
          "execution_count": 10
        }
      ]
    },
    {
      "cell_type": "code",
      "source": [
        "import pandas as pd\n",
        "\n",
        "x_train = pd.concat([x_train_prediction, x_audio_train_prediction], axis=1,join='inner')\n",
        "x_test =  pd.concat([x_test_prediction, x_audio_test_prediction], axis=1,join='inner')"
      ],
      "metadata": {
        "id": "sbkgIXaFwKwh"
      },
      "execution_count": 11,
      "outputs": []
    },
    {
      "cell_type": "code",
      "source": [
        "x_test"
      ],
      "metadata": {
        "colab": {
          "base_uri": "https://localhost:8080/",
          "height": 424
        },
        "id": "78gEQ1w7w_fd",
        "outputId": "8b835169-83ea-49b7-e19c-5083bbea19ad"
      },
      "execution_count": 12,
      "outputs": [
        {
          "output_type": "execute_result",
          "data": {
            "text/plain": [
              "             OV_0      OV_1          OV_2      OV_3          OV_4      OV_5  \\\n",
              "0    4.600655e-06  0.000157  9.997899e-01  0.000012  1.032134e-06  0.000035   \n",
              "1    4.257174e-06  0.000003  8.445079e-06  0.005218  9.794852e-05  0.994668   \n",
              "2    1.291070e-06  0.000097  9.998935e-01  0.000002  1.729752e-07  0.000006   \n",
              "3    1.267258e-06  0.000001  1.642191e-05  0.000334  1.060658e-04  0.999541   \n",
              "4    5.767955e-05  0.999416  1.630818e-04  0.000330  3.037682e-05  0.000002   \n",
              "..            ...       ...           ...       ...           ...       ...   \n",
              "202  9.926456e-01  0.002794  1.416627e-06  0.004482  1.063430e-05  0.000067   \n",
              "203  9.668189e-01  0.004124  1.504883e-06  0.028835  3.340599e-05  0.000186   \n",
              "204  6.655590e-07  0.000033  1.857604e-07  0.000006  9.999404e-01  0.000019   \n",
              "205  3.019764e-07  0.000008  2.230916e-06  0.000057  9.993665e-01  0.000566   \n",
              "206  8.268742e-07  0.000001  1.297933e-05  0.000576  7.483098e-05  0.999335   \n",
              "\n",
              "             OA_0          OA_1          OA_2          OA_3          OA_4  \\\n",
              "0    5.456753e-05  1.220096e-08  9.929080e-01  4.043331e-06  6.188037e-03   \n",
              "1    1.932068e-04  5.784202e-04  3.567998e-03  7.689722e-01  7.699829e-06   \n",
              "2    5.105746e-06  1.983018e-05  8.609649e-01  1.715119e-04  1.875080e-02   \n",
              "3    1.179721e-09  2.118236e-14  8.562396e-08  5.861786e-05  3.032232e-06   \n",
              "4    1.235686e-11  1.000000e+00  3.994414e-08  6.263612e-11  7.486577e-14   \n",
              "..            ...           ...           ...           ...           ...   \n",
              "202  6.645822e-02  9.304284e-01  3.080240e-06  3.000102e-03  9.835899e-05   \n",
              "203  9.924107e-01  1.436486e-03  2.948664e-03  3.045792e-03  1.566653e-04   \n",
              "204  7.213436e-12  1.681738e-12  8.770765e-08  8.108627e-09  9.999994e-01   \n",
              "205  2.577021e-08  1.049528e-06  9.888759e-01  1.203042e-07  1.112275e-02   \n",
              "206  1.336301e-05  1.325596e-10  6.823706e-03  2.424837e-05  9.998172e-03   \n",
              "\n",
              "             OA_5  \n",
              "0    8.453725e-04  \n",
              "1    2.266804e-01  \n",
              "2    1.200879e-01  \n",
              "3    9.999384e-01  \n",
              "4    1.012139e-15  \n",
              "..            ...  \n",
              "202  1.183406e-05  \n",
              "203  1.790176e-06  \n",
              "204  4.222395e-07  \n",
              "205  1.157731e-07  \n",
              "206  9.831405e-01  \n",
              "\n",
              "[207 rows x 12 columns]"
            ],
            "text/html": [
              "\n",
              "  <div id=\"df-d69962e5-e99a-46c2-a580-24e5b53fbc4e\">\n",
              "    <div class=\"colab-df-container\">\n",
              "      <div>\n",
              "<style scoped>\n",
              "    .dataframe tbody tr th:only-of-type {\n",
              "        vertical-align: middle;\n",
              "    }\n",
              "\n",
              "    .dataframe tbody tr th {\n",
              "        vertical-align: top;\n",
              "    }\n",
              "\n",
              "    .dataframe thead th {\n",
              "        text-align: right;\n",
              "    }\n",
              "</style>\n",
              "<table border=\"1\" class=\"dataframe\">\n",
              "  <thead>\n",
              "    <tr style=\"text-align: right;\">\n",
              "      <th></th>\n",
              "      <th>OV_0</th>\n",
              "      <th>OV_1</th>\n",
              "      <th>OV_2</th>\n",
              "      <th>OV_3</th>\n",
              "      <th>OV_4</th>\n",
              "      <th>OV_5</th>\n",
              "      <th>OA_0</th>\n",
              "      <th>OA_1</th>\n",
              "      <th>OA_2</th>\n",
              "      <th>OA_3</th>\n",
              "      <th>OA_4</th>\n",
              "      <th>OA_5</th>\n",
              "    </tr>\n",
              "  </thead>\n",
              "  <tbody>\n",
              "    <tr>\n",
              "      <th>0</th>\n",
              "      <td>4.600655e-06</td>\n",
              "      <td>0.000157</td>\n",
              "      <td>9.997899e-01</td>\n",
              "      <td>0.000012</td>\n",
              "      <td>1.032134e-06</td>\n",
              "      <td>0.000035</td>\n",
              "      <td>5.456753e-05</td>\n",
              "      <td>1.220096e-08</td>\n",
              "      <td>9.929080e-01</td>\n",
              "      <td>4.043331e-06</td>\n",
              "      <td>6.188037e-03</td>\n",
              "      <td>8.453725e-04</td>\n",
              "    </tr>\n",
              "    <tr>\n",
              "      <th>1</th>\n",
              "      <td>4.257174e-06</td>\n",
              "      <td>0.000003</td>\n",
              "      <td>8.445079e-06</td>\n",
              "      <td>0.005218</td>\n",
              "      <td>9.794852e-05</td>\n",
              "      <td>0.994668</td>\n",
              "      <td>1.932068e-04</td>\n",
              "      <td>5.784202e-04</td>\n",
              "      <td>3.567998e-03</td>\n",
              "      <td>7.689722e-01</td>\n",
              "      <td>7.699829e-06</td>\n",
              "      <td>2.266804e-01</td>\n",
              "    </tr>\n",
              "    <tr>\n",
              "      <th>2</th>\n",
              "      <td>1.291070e-06</td>\n",
              "      <td>0.000097</td>\n",
              "      <td>9.998935e-01</td>\n",
              "      <td>0.000002</td>\n",
              "      <td>1.729752e-07</td>\n",
              "      <td>0.000006</td>\n",
              "      <td>5.105746e-06</td>\n",
              "      <td>1.983018e-05</td>\n",
              "      <td>8.609649e-01</td>\n",
              "      <td>1.715119e-04</td>\n",
              "      <td>1.875080e-02</td>\n",
              "      <td>1.200879e-01</td>\n",
              "    </tr>\n",
              "    <tr>\n",
              "      <th>3</th>\n",
              "      <td>1.267258e-06</td>\n",
              "      <td>0.000001</td>\n",
              "      <td>1.642191e-05</td>\n",
              "      <td>0.000334</td>\n",
              "      <td>1.060658e-04</td>\n",
              "      <td>0.999541</td>\n",
              "      <td>1.179721e-09</td>\n",
              "      <td>2.118236e-14</td>\n",
              "      <td>8.562396e-08</td>\n",
              "      <td>5.861786e-05</td>\n",
              "      <td>3.032232e-06</td>\n",
              "      <td>9.999384e-01</td>\n",
              "    </tr>\n",
              "    <tr>\n",
              "      <th>4</th>\n",
              "      <td>5.767955e-05</td>\n",
              "      <td>0.999416</td>\n",
              "      <td>1.630818e-04</td>\n",
              "      <td>0.000330</td>\n",
              "      <td>3.037682e-05</td>\n",
              "      <td>0.000002</td>\n",
              "      <td>1.235686e-11</td>\n",
              "      <td>1.000000e+00</td>\n",
              "      <td>3.994414e-08</td>\n",
              "      <td>6.263612e-11</td>\n",
              "      <td>7.486577e-14</td>\n",
              "      <td>1.012139e-15</td>\n",
              "    </tr>\n",
              "    <tr>\n",
              "      <th>...</th>\n",
              "      <td>...</td>\n",
              "      <td>...</td>\n",
              "      <td>...</td>\n",
              "      <td>...</td>\n",
              "      <td>...</td>\n",
              "      <td>...</td>\n",
              "      <td>...</td>\n",
              "      <td>...</td>\n",
              "      <td>...</td>\n",
              "      <td>...</td>\n",
              "      <td>...</td>\n",
              "      <td>...</td>\n",
              "    </tr>\n",
              "    <tr>\n",
              "      <th>202</th>\n",
              "      <td>9.926456e-01</td>\n",
              "      <td>0.002794</td>\n",
              "      <td>1.416627e-06</td>\n",
              "      <td>0.004482</td>\n",
              "      <td>1.063430e-05</td>\n",
              "      <td>0.000067</td>\n",
              "      <td>6.645822e-02</td>\n",
              "      <td>9.304284e-01</td>\n",
              "      <td>3.080240e-06</td>\n",
              "      <td>3.000102e-03</td>\n",
              "      <td>9.835899e-05</td>\n",
              "      <td>1.183406e-05</td>\n",
              "    </tr>\n",
              "    <tr>\n",
              "      <th>203</th>\n",
              "      <td>9.668189e-01</td>\n",
              "      <td>0.004124</td>\n",
              "      <td>1.504883e-06</td>\n",
              "      <td>0.028835</td>\n",
              "      <td>3.340599e-05</td>\n",
              "      <td>0.000186</td>\n",
              "      <td>9.924107e-01</td>\n",
              "      <td>1.436486e-03</td>\n",
              "      <td>2.948664e-03</td>\n",
              "      <td>3.045792e-03</td>\n",
              "      <td>1.566653e-04</td>\n",
              "      <td>1.790176e-06</td>\n",
              "    </tr>\n",
              "    <tr>\n",
              "      <th>204</th>\n",
              "      <td>6.655590e-07</td>\n",
              "      <td>0.000033</td>\n",
              "      <td>1.857604e-07</td>\n",
              "      <td>0.000006</td>\n",
              "      <td>9.999404e-01</td>\n",
              "      <td>0.000019</td>\n",
              "      <td>7.213436e-12</td>\n",
              "      <td>1.681738e-12</td>\n",
              "      <td>8.770765e-08</td>\n",
              "      <td>8.108627e-09</td>\n",
              "      <td>9.999994e-01</td>\n",
              "      <td>4.222395e-07</td>\n",
              "    </tr>\n",
              "    <tr>\n",
              "      <th>205</th>\n",
              "      <td>3.019764e-07</td>\n",
              "      <td>0.000008</td>\n",
              "      <td>2.230916e-06</td>\n",
              "      <td>0.000057</td>\n",
              "      <td>9.993665e-01</td>\n",
              "      <td>0.000566</td>\n",
              "      <td>2.577021e-08</td>\n",
              "      <td>1.049528e-06</td>\n",
              "      <td>9.888759e-01</td>\n",
              "      <td>1.203042e-07</td>\n",
              "      <td>1.112275e-02</td>\n",
              "      <td>1.157731e-07</td>\n",
              "    </tr>\n",
              "    <tr>\n",
              "      <th>206</th>\n",
              "      <td>8.268742e-07</td>\n",
              "      <td>0.000001</td>\n",
              "      <td>1.297933e-05</td>\n",
              "      <td>0.000576</td>\n",
              "      <td>7.483098e-05</td>\n",
              "      <td>0.999335</td>\n",
              "      <td>1.336301e-05</td>\n",
              "      <td>1.325596e-10</td>\n",
              "      <td>6.823706e-03</td>\n",
              "      <td>2.424837e-05</td>\n",
              "      <td>9.998172e-03</td>\n",
              "      <td>9.831405e-01</td>\n",
              "    </tr>\n",
              "  </tbody>\n",
              "</table>\n",
              "<p>207 rows × 12 columns</p>\n",
              "</div>\n",
              "      <button class=\"colab-df-convert\" onclick=\"convertToInteractive('df-d69962e5-e99a-46c2-a580-24e5b53fbc4e')\"\n",
              "              title=\"Convert this dataframe to an interactive table.\"\n",
              "              style=\"display:none;\">\n",
              "        \n",
              "  <svg xmlns=\"http://www.w3.org/2000/svg\" height=\"24px\"viewBox=\"0 0 24 24\"\n",
              "       width=\"24px\">\n",
              "    <path d=\"M0 0h24v24H0V0z\" fill=\"none\"/>\n",
              "    <path d=\"M18.56 5.44l.94 2.06.94-2.06 2.06-.94-2.06-.94-.94-2.06-.94 2.06-2.06.94zm-11 1L8.5 8.5l.94-2.06 2.06-.94-2.06-.94L8.5 2.5l-.94 2.06-2.06.94zm10 10l.94 2.06.94-2.06 2.06-.94-2.06-.94-.94-2.06-.94 2.06-2.06.94z\"/><path d=\"M17.41 7.96l-1.37-1.37c-.4-.4-.92-.59-1.43-.59-.52 0-1.04.2-1.43.59L10.3 9.45l-7.72 7.72c-.78.78-.78 2.05 0 2.83L4 21.41c.39.39.9.59 1.41.59.51 0 1.02-.2 1.41-.59l7.78-7.78 2.81-2.81c.8-.78.8-2.07 0-2.86zM5.41 20L4 18.59l7.72-7.72 1.47 1.35L5.41 20z\"/>\n",
              "  </svg>\n",
              "      </button>\n",
              "      \n",
              "  <style>\n",
              "    .colab-df-container {\n",
              "      display:flex;\n",
              "      flex-wrap:wrap;\n",
              "      gap: 12px;\n",
              "    }\n",
              "\n",
              "    .colab-df-convert {\n",
              "      background-color: #E8F0FE;\n",
              "      border: none;\n",
              "      border-radius: 50%;\n",
              "      cursor: pointer;\n",
              "      display: none;\n",
              "      fill: #1967D2;\n",
              "      height: 32px;\n",
              "      padding: 0 0 0 0;\n",
              "      width: 32px;\n",
              "    }\n",
              "\n",
              "    .colab-df-convert:hover {\n",
              "      background-color: #E2EBFA;\n",
              "      box-shadow: 0px 1px 2px rgba(60, 64, 67, 0.3), 0px 1px 3px 1px rgba(60, 64, 67, 0.15);\n",
              "      fill: #174EA6;\n",
              "    }\n",
              "\n",
              "    [theme=dark] .colab-df-convert {\n",
              "      background-color: #3B4455;\n",
              "      fill: #D2E3FC;\n",
              "    }\n",
              "\n",
              "    [theme=dark] .colab-df-convert:hover {\n",
              "      background-color: #434B5C;\n",
              "      box-shadow: 0px 1px 3px 1px rgba(0, 0, 0, 0.15);\n",
              "      filter: drop-shadow(0px 1px 2px rgba(0, 0, 0, 0.3));\n",
              "      fill: #FFFFFF;\n",
              "    }\n",
              "  </style>\n",
              "\n",
              "      <script>\n",
              "        const buttonEl =\n",
              "          document.querySelector('#df-d69962e5-e99a-46c2-a580-24e5b53fbc4e button.colab-df-convert');\n",
              "        buttonEl.style.display =\n",
              "          google.colab.kernel.accessAllowed ? 'block' : 'none';\n",
              "\n",
              "        async function convertToInteractive(key) {\n",
              "          const element = document.querySelector('#df-d69962e5-e99a-46c2-a580-24e5b53fbc4e');\n",
              "          const dataTable =\n",
              "            await google.colab.kernel.invokeFunction('convertToInteractive',\n",
              "                                                     [key], {});\n",
              "          if (!dataTable) return;\n",
              "\n",
              "          const docLinkHtml = 'Like what you see? Visit the ' +\n",
              "            '<a target=\"_blank\" href=https://colab.research.google.com/notebooks/data_table.ipynb>data table notebook</a>'\n",
              "            + ' to learn more about interactive tables.';\n",
              "          element.innerHTML = '';\n",
              "          dataTable['output_type'] = 'display_data';\n",
              "          await google.colab.output.renderOutput(dataTable, element);\n",
              "          const docLink = document.createElement('div');\n",
              "          docLink.innerHTML = docLinkHtml;\n",
              "          element.appendChild(docLink);\n",
              "        }\n",
              "      </script>\n",
              "    </div>\n",
              "  </div>\n",
              "  "
            ]
          },
          "metadata": {},
          "execution_count": 12
        }
      ]
    },
    {
      "cell_type": "code",
      "source": [
        "len(x_test),len(x_train)"
      ],
      "metadata": {
        "colab": {
          "base_uri": "https://localhost:8080/"
        },
        "id": "ryRQjTkUyZJv",
        "outputId": "b1db741a-164d-4d85-d24f-30305bf990c4"
      },
      "execution_count": 13,
      "outputs": [
        {
          "output_type": "execute_result",
          "data": {
            "text/plain": [
              "(207, 1860)"
            ]
          },
          "metadata": {},
          "execution_count": 13
        }
      ]
    },
    {
      "cell_type": "code",
      "source": [
        "x_train"
      ],
      "metadata": {
        "colab": {
          "base_uri": "https://localhost:8080/",
          "height": 424
        },
        "id": "1e5kgXiFwzx3",
        "outputId": "9921757c-b41a-458e-b9fe-9528ef817120"
      },
      "execution_count": 14,
      "outputs": [
        {
          "output_type": "execute_result",
          "data": {
            "text/plain": [
              "              OV_0          OV_1          OV_2      OV_3      OV_4      OV_5  \\\n",
              "0     6.563866e-06  3.023613e-04  3.476024e-06  0.999369  0.000005  0.000313   \n",
              "1     6.660532e-07  1.111468e-05  4.777901e-07  0.000003  0.999941  0.000044   \n",
              "2     3.196978e-06  1.084502e-06  6.119757e-05  0.000540  0.000130  0.999265   \n",
              "3     1.672899e-04  3.690411e-05  7.654433e-06  0.996621  0.000001  0.003166   \n",
              "4     6.228225e-06  2.223077e-06  1.080643e-04  0.000279  0.000155  0.999449   \n",
              "...            ...           ...           ...       ...       ...       ...   \n",
              "1855  2.267656e-06  5.500071e-05  6.257817e-05  0.000025  0.999060  0.000795   \n",
              "1856  5.436857e-06  4.640588e-05  2.539234e-07  0.999771  0.000002  0.000175   \n",
              "1857  2.219884e-06  1.371802e-06  1.270682e-05  0.001495  0.000036  0.998452   \n",
              "1858  1.302802e-06  1.391211e-06  2.840016e-05  0.000200  0.000314  0.999455   \n",
              "1859  6.064461e-07  7.634380e-07  9.921577e-06  0.000262  0.000092  0.999635   \n",
              "\n",
              "              OA_0          OA_1          OA_2          OA_3          OA_4  \\\n",
              "0     5.177724e-10  7.138308e-13  1.020156e-09  9.987187e-01  1.534214e-07   \n",
              "1     1.785650e-12  1.030475e-11  1.101646e-04  1.760602e-13  9.998896e-01   \n",
              "2     7.545241e-13  8.568947e-13  4.319692e-08  1.155002e-11  1.126641e-09   \n",
              "3     1.549455e-05  3.719396e-12  3.052914e-14  9.999841e-01  6.506387e-09   \n",
              "4     1.425842e-11  1.109101e-10  3.479363e-06  1.414401e-07  2.724932e-06   \n",
              "...            ...           ...           ...           ...           ...   \n",
              "1855  1.302324e-11  2.323093e-10  2.180573e-07  1.161515e-10  9.999996e-01   \n",
              "1856  4.063354e-08  1.309378e-09  7.128327e-10  9.998521e-01  1.096601e-07   \n",
              "1857  1.649622e-07  9.376996e-06  1.547669e-02  1.619260e-02  4.480119e-05   \n",
              "1858  9.008205e-08  8.905898e-08  1.474547e-01  6.102984e-05  5.394769e-01   \n",
              "1859  1.376345e-10  5.144581e-13  1.439489e-07  5.781002e-04  5.793781e-09   \n",
              "\n",
              "              OA_5  \n",
              "0     1.281176e-03  \n",
              "1     2.042273e-07  \n",
              "2     1.000000e+00  \n",
              "3     3.034029e-07  \n",
              "4     9.999937e-01  \n",
              "...            ...  \n",
              "1855  7.285048e-08  \n",
              "1856  1.477708e-04  \n",
              "1857  9.682764e-01  \n",
              "1858  3.130072e-01  \n",
              "1859  9.994218e-01  \n",
              "\n",
              "[1860 rows x 12 columns]"
            ],
            "text/html": [
              "\n",
              "  <div id=\"df-de04a153-c7df-44ec-9af6-d6acbf811272\">\n",
              "    <div class=\"colab-df-container\">\n",
              "      <div>\n",
              "<style scoped>\n",
              "    .dataframe tbody tr th:only-of-type {\n",
              "        vertical-align: middle;\n",
              "    }\n",
              "\n",
              "    .dataframe tbody tr th {\n",
              "        vertical-align: top;\n",
              "    }\n",
              "\n",
              "    .dataframe thead th {\n",
              "        text-align: right;\n",
              "    }\n",
              "</style>\n",
              "<table border=\"1\" class=\"dataframe\">\n",
              "  <thead>\n",
              "    <tr style=\"text-align: right;\">\n",
              "      <th></th>\n",
              "      <th>OV_0</th>\n",
              "      <th>OV_1</th>\n",
              "      <th>OV_2</th>\n",
              "      <th>OV_3</th>\n",
              "      <th>OV_4</th>\n",
              "      <th>OV_5</th>\n",
              "      <th>OA_0</th>\n",
              "      <th>OA_1</th>\n",
              "      <th>OA_2</th>\n",
              "      <th>OA_3</th>\n",
              "      <th>OA_4</th>\n",
              "      <th>OA_5</th>\n",
              "    </tr>\n",
              "  </thead>\n",
              "  <tbody>\n",
              "    <tr>\n",
              "      <th>0</th>\n",
              "      <td>6.563866e-06</td>\n",
              "      <td>3.023613e-04</td>\n",
              "      <td>3.476024e-06</td>\n",
              "      <td>0.999369</td>\n",
              "      <td>0.000005</td>\n",
              "      <td>0.000313</td>\n",
              "      <td>5.177724e-10</td>\n",
              "      <td>7.138308e-13</td>\n",
              "      <td>1.020156e-09</td>\n",
              "      <td>9.987187e-01</td>\n",
              "      <td>1.534214e-07</td>\n",
              "      <td>1.281176e-03</td>\n",
              "    </tr>\n",
              "    <tr>\n",
              "      <th>1</th>\n",
              "      <td>6.660532e-07</td>\n",
              "      <td>1.111468e-05</td>\n",
              "      <td>4.777901e-07</td>\n",
              "      <td>0.000003</td>\n",
              "      <td>0.999941</td>\n",
              "      <td>0.000044</td>\n",
              "      <td>1.785650e-12</td>\n",
              "      <td>1.030475e-11</td>\n",
              "      <td>1.101646e-04</td>\n",
              "      <td>1.760602e-13</td>\n",
              "      <td>9.998896e-01</td>\n",
              "      <td>2.042273e-07</td>\n",
              "    </tr>\n",
              "    <tr>\n",
              "      <th>2</th>\n",
              "      <td>3.196978e-06</td>\n",
              "      <td>1.084502e-06</td>\n",
              "      <td>6.119757e-05</td>\n",
              "      <td>0.000540</td>\n",
              "      <td>0.000130</td>\n",
              "      <td>0.999265</td>\n",
              "      <td>7.545241e-13</td>\n",
              "      <td>8.568947e-13</td>\n",
              "      <td>4.319692e-08</td>\n",
              "      <td>1.155002e-11</td>\n",
              "      <td>1.126641e-09</td>\n",
              "      <td>1.000000e+00</td>\n",
              "    </tr>\n",
              "    <tr>\n",
              "      <th>3</th>\n",
              "      <td>1.672899e-04</td>\n",
              "      <td>3.690411e-05</td>\n",
              "      <td>7.654433e-06</td>\n",
              "      <td>0.996621</td>\n",
              "      <td>0.000001</td>\n",
              "      <td>0.003166</td>\n",
              "      <td>1.549455e-05</td>\n",
              "      <td>3.719396e-12</td>\n",
              "      <td>3.052914e-14</td>\n",
              "      <td>9.999841e-01</td>\n",
              "      <td>6.506387e-09</td>\n",
              "      <td>3.034029e-07</td>\n",
              "    </tr>\n",
              "    <tr>\n",
              "      <th>4</th>\n",
              "      <td>6.228225e-06</td>\n",
              "      <td>2.223077e-06</td>\n",
              "      <td>1.080643e-04</td>\n",
              "      <td>0.000279</td>\n",
              "      <td>0.000155</td>\n",
              "      <td>0.999449</td>\n",
              "      <td>1.425842e-11</td>\n",
              "      <td>1.109101e-10</td>\n",
              "      <td>3.479363e-06</td>\n",
              "      <td>1.414401e-07</td>\n",
              "      <td>2.724932e-06</td>\n",
              "      <td>9.999937e-01</td>\n",
              "    </tr>\n",
              "    <tr>\n",
              "      <th>...</th>\n",
              "      <td>...</td>\n",
              "      <td>...</td>\n",
              "      <td>...</td>\n",
              "      <td>...</td>\n",
              "      <td>...</td>\n",
              "      <td>...</td>\n",
              "      <td>...</td>\n",
              "      <td>...</td>\n",
              "      <td>...</td>\n",
              "      <td>...</td>\n",
              "      <td>...</td>\n",
              "      <td>...</td>\n",
              "    </tr>\n",
              "    <tr>\n",
              "      <th>1855</th>\n",
              "      <td>2.267656e-06</td>\n",
              "      <td>5.500071e-05</td>\n",
              "      <td>6.257817e-05</td>\n",
              "      <td>0.000025</td>\n",
              "      <td>0.999060</td>\n",
              "      <td>0.000795</td>\n",
              "      <td>1.302324e-11</td>\n",
              "      <td>2.323093e-10</td>\n",
              "      <td>2.180573e-07</td>\n",
              "      <td>1.161515e-10</td>\n",
              "      <td>9.999996e-01</td>\n",
              "      <td>7.285048e-08</td>\n",
              "    </tr>\n",
              "    <tr>\n",
              "      <th>1856</th>\n",
              "      <td>5.436857e-06</td>\n",
              "      <td>4.640588e-05</td>\n",
              "      <td>2.539234e-07</td>\n",
              "      <td>0.999771</td>\n",
              "      <td>0.000002</td>\n",
              "      <td>0.000175</td>\n",
              "      <td>4.063354e-08</td>\n",
              "      <td>1.309378e-09</td>\n",
              "      <td>7.128327e-10</td>\n",
              "      <td>9.998521e-01</td>\n",
              "      <td>1.096601e-07</td>\n",
              "      <td>1.477708e-04</td>\n",
              "    </tr>\n",
              "    <tr>\n",
              "      <th>1857</th>\n",
              "      <td>2.219884e-06</td>\n",
              "      <td>1.371802e-06</td>\n",
              "      <td>1.270682e-05</td>\n",
              "      <td>0.001495</td>\n",
              "      <td>0.000036</td>\n",
              "      <td>0.998452</td>\n",
              "      <td>1.649622e-07</td>\n",
              "      <td>9.376996e-06</td>\n",
              "      <td>1.547669e-02</td>\n",
              "      <td>1.619260e-02</td>\n",
              "      <td>4.480119e-05</td>\n",
              "      <td>9.682764e-01</td>\n",
              "    </tr>\n",
              "    <tr>\n",
              "      <th>1858</th>\n",
              "      <td>1.302802e-06</td>\n",
              "      <td>1.391211e-06</td>\n",
              "      <td>2.840016e-05</td>\n",
              "      <td>0.000200</td>\n",
              "      <td>0.000314</td>\n",
              "      <td>0.999455</td>\n",
              "      <td>9.008205e-08</td>\n",
              "      <td>8.905898e-08</td>\n",
              "      <td>1.474547e-01</td>\n",
              "      <td>6.102984e-05</td>\n",
              "      <td>5.394769e-01</td>\n",
              "      <td>3.130072e-01</td>\n",
              "    </tr>\n",
              "    <tr>\n",
              "      <th>1859</th>\n",
              "      <td>6.064461e-07</td>\n",
              "      <td>7.634380e-07</td>\n",
              "      <td>9.921577e-06</td>\n",
              "      <td>0.000262</td>\n",
              "      <td>0.000092</td>\n",
              "      <td>0.999635</td>\n",
              "      <td>1.376345e-10</td>\n",
              "      <td>5.144581e-13</td>\n",
              "      <td>1.439489e-07</td>\n",
              "      <td>5.781002e-04</td>\n",
              "      <td>5.793781e-09</td>\n",
              "      <td>9.994218e-01</td>\n",
              "    </tr>\n",
              "  </tbody>\n",
              "</table>\n",
              "<p>1860 rows × 12 columns</p>\n",
              "</div>\n",
              "      <button class=\"colab-df-convert\" onclick=\"convertToInteractive('df-de04a153-c7df-44ec-9af6-d6acbf811272')\"\n",
              "              title=\"Convert this dataframe to an interactive table.\"\n",
              "              style=\"display:none;\">\n",
              "        \n",
              "  <svg xmlns=\"http://www.w3.org/2000/svg\" height=\"24px\"viewBox=\"0 0 24 24\"\n",
              "       width=\"24px\">\n",
              "    <path d=\"M0 0h24v24H0V0z\" fill=\"none\"/>\n",
              "    <path d=\"M18.56 5.44l.94 2.06.94-2.06 2.06-.94-2.06-.94-.94-2.06-.94 2.06-2.06.94zm-11 1L8.5 8.5l.94-2.06 2.06-.94-2.06-.94L8.5 2.5l-.94 2.06-2.06.94zm10 10l.94 2.06.94-2.06 2.06-.94-2.06-.94-.94-2.06-.94 2.06-2.06.94z\"/><path d=\"M17.41 7.96l-1.37-1.37c-.4-.4-.92-.59-1.43-.59-.52 0-1.04.2-1.43.59L10.3 9.45l-7.72 7.72c-.78.78-.78 2.05 0 2.83L4 21.41c.39.39.9.59 1.41.59.51 0 1.02-.2 1.41-.59l7.78-7.78 2.81-2.81c.8-.78.8-2.07 0-2.86zM5.41 20L4 18.59l7.72-7.72 1.47 1.35L5.41 20z\"/>\n",
              "  </svg>\n",
              "      </button>\n",
              "      \n",
              "  <style>\n",
              "    .colab-df-container {\n",
              "      display:flex;\n",
              "      flex-wrap:wrap;\n",
              "      gap: 12px;\n",
              "    }\n",
              "\n",
              "    .colab-df-convert {\n",
              "      background-color: #E8F0FE;\n",
              "      border: none;\n",
              "      border-radius: 50%;\n",
              "      cursor: pointer;\n",
              "      display: none;\n",
              "      fill: #1967D2;\n",
              "      height: 32px;\n",
              "      padding: 0 0 0 0;\n",
              "      width: 32px;\n",
              "    }\n",
              "\n",
              "    .colab-df-convert:hover {\n",
              "      background-color: #E2EBFA;\n",
              "      box-shadow: 0px 1px 2px rgba(60, 64, 67, 0.3), 0px 1px 3px 1px rgba(60, 64, 67, 0.15);\n",
              "      fill: #174EA6;\n",
              "    }\n",
              "\n",
              "    [theme=dark] .colab-df-convert {\n",
              "      background-color: #3B4455;\n",
              "      fill: #D2E3FC;\n",
              "    }\n",
              "\n",
              "    [theme=dark] .colab-df-convert:hover {\n",
              "      background-color: #434B5C;\n",
              "      box-shadow: 0px 1px 3px 1px rgba(0, 0, 0, 0.15);\n",
              "      filter: drop-shadow(0px 1px 2px rgba(0, 0, 0, 0.3));\n",
              "      fill: #FFFFFF;\n",
              "    }\n",
              "  </style>\n",
              "\n",
              "      <script>\n",
              "        const buttonEl =\n",
              "          document.querySelector('#df-de04a153-c7df-44ec-9af6-d6acbf811272 button.colab-df-convert');\n",
              "        buttonEl.style.display =\n",
              "          google.colab.kernel.accessAllowed ? 'block' : 'none';\n",
              "\n",
              "        async function convertToInteractive(key) {\n",
              "          const element = document.querySelector('#df-de04a153-c7df-44ec-9af6-d6acbf811272');\n",
              "          const dataTable =\n",
              "            await google.colab.kernel.invokeFunction('convertToInteractive',\n",
              "                                                     [key], {});\n",
              "          if (!dataTable) return;\n",
              "\n",
              "          const docLinkHtml = 'Like what you see? Visit the ' +\n",
              "            '<a target=\"_blank\" href=https://colab.research.google.com/notebooks/data_table.ipynb>data table notebook</a>'\n",
              "            + ' to learn more about interactive tables.';\n",
              "          element.innerHTML = '';\n",
              "          dataTable['output_type'] = 'display_data';\n",
              "          await google.colab.output.renderOutput(dataTable, element);\n",
              "          const docLink = document.createElement('div');\n",
              "          docLink.innerHTML = docLinkHtml;\n",
              "          element.appendChild(docLink);\n",
              "        }\n",
              "      </script>\n",
              "    </div>\n",
              "  </div>\n",
              "  "
            ]
          },
          "metadata": {},
          "execution_count": 14
        }
      ]
    },
    {
      "cell_type": "code",
      "source": [
        "from sklearn.utils import shuffle\n",
        "seed=42\n",
        "new_x_train = shuffle(x_train,random_state=seed)\n",
        "new_y_train = shuffle(df_train,random_state=seed)\n",
        "new_x_train = new_x_train.reset_index(drop=True)\n",
        "new_y_train = new_y_train.reset_index(drop=True)\n",
        "\"\"\"\n",
        "y_train=df_train.to_numpy()\n",
        "y_train=y_train.reshape(1860,)\n",
        "y_train, y_train.shape\n",
        "\"\"\""
      ],
      "metadata": {
        "colab": {
          "base_uri": "https://localhost:8080/",
          "height": 36
        },
        "id": "p5veJq2ei1vA",
        "outputId": "ea9b1d15-5825-4e35-9079-b4a3a089a6b7"
      },
      "execution_count": 15,
      "outputs": [
        {
          "output_type": "execute_result",
          "data": {
            "text/plain": [
              "'\\ny_train=df_train.to_numpy()\\ny_train=y_train.reshape(1860,)\\ny_train, y_train.shape\\n'"
            ],
            "application/vnd.google.colaboratory.intrinsic+json": {
              "type": "string"
            }
          },
          "metadata": {},
          "execution_count": 15
        }
      ]
    },
    {
      "cell_type": "code",
      "source": [
        "len(new_y_train)"
      ],
      "metadata": {
        "colab": {
          "base_uri": "https://localhost:8080/"
        },
        "id": "pFfSFyo-7NfO",
        "outputId": "f46b03c2-92f6-49d5-c539-5f6b7aad4d0a"
      },
      "execution_count": 16,
      "outputs": [
        {
          "output_type": "execute_result",
          "data": {
            "text/plain": [
              "1860"
            ]
          },
          "metadata": {},
          "execution_count": 16
        }
      ]
    },
    {
      "cell_type": "code",
      "source": [
        "from sklearn.preprocessing import StandardScaler, MinMaxScaler\n",
        "scaler = MinMaxScaler(feature_range=(0, 1))\n",
        "new_x_train = scaler.fit_transform(new_x_train)\n",
        "X_test = scaler.transform(x_test)"
      ],
      "metadata": {
        "id": "wPUM0nKyxmkZ"
      },
      "execution_count": 17,
      "outputs": []
    },
    {
      "cell_type": "code",
      "source": [
        "y_train=df_train.to_numpy()\n",
        "y_train=y_train.reshape(1860,)\n",
        "y_train, y_train.shape"
      ],
      "metadata": {
        "colab": {
          "base_uri": "https://localhost:8080/"
        },
        "id": "4UmZkWm-tMOU",
        "outputId": "969e665e-78fd-49b4-a981-a368cd1d68ed"
      },
      "execution_count": 18,
      "outputs": [
        {
          "output_type": "execute_result",
          "data": {
            "text/plain": [
              "(array([3, 4, 5, ..., 5, 5, 5]), (1860,))"
            ]
          },
          "metadata": {},
          "execution_count": 18
        }
      ]
    },
    {
      "cell_type": "markdown",
      "source": [
        "# training machine learning"
      ],
      "metadata": {
        "id": "1hZPjTpT4lb3"
      }
    },
    {
      "cell_type": "code",
      "source": [
        "from sklearn.svm import SVC\n",
        "model = SVC(random_state=seed, kernel='rbf')\n",
        "svm=model.fit(x_train,y_train)\n",
        "predictions = model.predict(x_test)\n",
        "#print(\"Restored model, accuracy: {:5.2f}%\".format(100*acc))"
      ],
      "metadata": {
        "id": "PS4PZtkj5G8k"
      },
      "execution_count": 19,
      "outputs": []
    },
    {
      "cell_type": "code",
      "source": [
        "predictions"
      ],
      "metadata": {
        "colab": {
          "base_uri": "https://localhost:8080/"
        },
        "id": "ibm_g_O66uKI",
        "outputId": "0551fee1-11de-4116-85b9-a840018f8f15"
      },
      "execution_count": 20,
      "outputs": [
        {
          "output_type": "execute_result",
          "data": {
            "text/plain": [
              "array([2, 5, 2, 5, 1, 1, 5, 1, 5, 5, 1, 2, 3, 0, 4, 2, 2, 3, 0, 1, 3, 2,\n",
              "       3, 5, 3, 2, 3, 1, 4, 4, 1, 3, 0, 1, 2, 1, 4, 1, 4, 2, 4, 3, 1, 3,\n",
              "       1, 4, 3, 3, 1, 4, 3, 2, 2, 3, 1, 2, 2, 1, 1, 1, 5, 1, 4, 2, 0, 2,\n",
              "       5, 0, 1, 5, 4, 5, 2, 2, 3, 4, 5, 3, 2, 2, 2, 5, 2, 5, 4, 1, 2, 5,\n",
              "       0, 4, 2, 4, 5, 4, 3, 5, 5, 4, 4, 1, 0, 4, 1, 4, 3, 4, 1, 1, 5, 0,\n",
              "       2, 5, 2, 1, 4, 4, 5, 0, 4, 2, 1, 3, 1, 3, 1, 3, 2, 2, 4, 3, 5, 1,\n",
              "       4, 4, 0, 2, 2, 2, 4, 4, 1, 2, 0, 4, 1, 4, 4, 2, 2, 4, 2, 3, 4, 0,\n",
              "       2, 5, 5, 4, 4, 1, 1, 5, 0, 1, 5, 1, 4, 4, 1, 5, 2, 4, 0, 0, 5, 1,\n",
              "       0, 2, 5, 2, 4, 5, 5, 4, 3, 1, 3, 3, 0, 5, 2, 2, 1, 4, 2, 5, 0, 3,\n",
              "       1, 2, 2, 3, 1, 0, 4, 4, 5])"
            ]
          },
          "metadata": {},
          "execution_count": 20
        }
      ]
    },
    {
      "cell_type": "code",
      "source": [
        "from sklearn.metrics import classification_report, confusion_matrix,accuracy_score\n",
        "import seaborn as sn\n",
        "import matplotlib.pyplot as plt\n",
        "\n",
        "print(classification_report(y_test,predictions))\n",
        "\n",
        "acc = float(accuracy_score(y_test,predictions))*100\n",
        "print(\"----accuracy score %s ----\" % acc)\n",
        "\n",
        "cm = confusion_matrix(y_test,predictions)\n",
        "#df_cm = pd.DataFrame(cm)\n",
        "class_names = ['neutral','calm', 'happy','sad','angry', 'fearful' ]\n",
        "df_cm = pd.DataFrame(cm, index=class_names, columns=class_names,)\n",
        "sn.heatmap(df_cm, annot=True, fmt='')\n",
        "plt.show()"
      ],
      "metadata": {
        "colab": {
          "base_uri": "https://localhost:8080/",
          "height": 508
        },
        "id": "A9gR6pV063GP",
        "outputId": "daf9288b-41a5-4bd5-fd15-1c23bf6d3a12"
      },
      "execution_count": 21,
      "outputs": [
        {
          "output_type": "stream",
          "name": "stdout",
          "text": [
            "              precision    recall  f1-score   support\n",
            "\n",
            "           0       0.89      0.89      0.89        19\n",
            "           1       0.90      0.93      0.91        40\n",
            "           2       1.00      0.98      0.99        45\n",
            "           3       0.81      0.92      0.86        24\n",
            "           4       0.98      0.98      0.98        43\n",
            "           5       0.97      0.89      0.93        36\n",
            "\n",
            "    accuracy                           0.94       207\n",
            "   macro avg       0.93      0.93      0.93       207\n",
            "weighted avg       0.94      0.94      0.94       207\n",
            "\n",
            "----accuracy score 93.71980676328504 ----\n"
          ]
        },
        {
          "output_type": "display_data",
          "data": {
            "text/plain": [
              "<Figure size 432x288 with 2 Axes>"
            ],
            "image/png": "[encoded data removed]"
          },
          "metadata": {
            "needs_background": "light"
          }
        }
      ]
    },
    {
      "cell_type": "code",
      "source": [
        "path='/content/drive/My Drive/fusion/fusion_model/SVM/rbf/expert4'\n",
        "savedvX = joblib.dump(model, path)\n",
        "\n",
        "print(\"MODEL SAVED\")"
      ],
      "metadata": {
        "colab": {
          "base_uri": "https://localhost:8080/"
        },
        "id": "WFonuoIS7NTg",
        "outputId": "bff8cba8-7db2-4876-c001-a23e98be94b7"
      },
      "execution_count": 22,
      "outputs": [
        {
          "output_type": "stream",
          "name": "stdout",
          "text": [
            "MODEL SAVED\n"
          ]
        }
      ]
    },
    {
      "cell_type": "code",
      "source": [
        ""
      ],
      "metadata": {
        "id": "Bp4nDNcd7lc_"
      },
      "execution_count": 22,
      "outputs": []
    }
  ]
}