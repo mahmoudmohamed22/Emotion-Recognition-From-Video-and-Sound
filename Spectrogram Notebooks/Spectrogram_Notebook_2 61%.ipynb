{
  "nbformat": 4,
  "nbformat_minor": 0,
  "metadata": {
    "colab": {
      "name": "Spectrogram Notebook 2.ipynb",
      "provenance": [],
      "collapsed_sections": [],
      "machine_shape": "hm"
    },
    "kernelspec": {
      "name": "python3",
      "display_name": "Python 3"
    },
    "accelerator": "TPU"
  },
  "cells": [
    {
      "cell_type": "code",
      "source": [
        "from google.colab import drive\n",
        "drive.mount('/content/drive')"
      ],
      "metadata": {
        "id": "GTXCP9id6MLT",
        "outputId": "417fbb33-2e1c-451c-99bc-6dc8e3952bae",
        "colab": {
          "base_uri": "https://localhost:8080/"
        }
      },
      "execution_count": null,
      "outputs": [
        {
          "output_type": "stream",
          "name": "stdout",
          "text": [
            "Mounted at /content/drive\n"
          ]
        }
      ]
    },
    {
      "cell_type": "markdown",
      "metadata": {
        "id": "4cbgwZWWfWpp"
      },
      "source": [
        "# New Section"
      ]
    },
    {
      "cell_type": "code",
      "metadata": {
        "id": "tAb77yZ9fzMG",
        "outputId": "316961b6-5561-4560-b608-f5b44537986f",
        "colab": {
          "base_uri": "https://localhost:8080/",
          "height": 224
        }
      },
      "source": [
        "\n",
        "import numpy as np\n",
        "import pandas as pd\n",
        "import os\n",
        "import librosa\n",
        "import librosa.display\n",
        "import IPython\n",
        "from IPython.display import Audio\n",
        "from IPython.display import Image\n",
        "import matplotlib.pyplot as plt\n",
        "\n",
        "#from google.colab import drive\n",
        "\n",
        "#rive.mount('/content/drive', force_remount = True)\n",
        "\n",
        "EMOTIONS = {1:'neutral', 2:'calm', 3:'happy', 4:'sad', 5:'angry', 6:'fear', 7:'disgust', 0:'surprise'} # surprise je promenjen sa 8 na 0\n",
        "DATA_PATH ='/content/drive/MyDrive/audio_speech_actors_01-24'\n",
        "\n",
        "\n",
        "SAMPLE_RATE = 48000\n",
        "data = pd.DataFrame(columns=['Emotion', 'Emotion intensity', 'Gender','Path'])\n",
        "for dirname, _, filenames in os.walk(DATA_PATH):\n",
        "    for filename in filenames:\n",
        "        file_path = os.path.join(dirname, filename)\n",
        "        identifiers = filename.split('.')[0].split('-')\n",
        "        emotion = (int(identifiers[2]))\n",
        "        if emotion == 8: # promeni surprise sa 8 na 0\n",
        "            emotion = 0\n",
        "        if int(identifiers[3]) == 1:\n",
        "            emotion_intensity = 'normal' \n",
        "        else:\n",
        "            emotion_intensity = 'strong'\n",
        "        if int(identifiers[6])%2 == 0:\n",
        "            gender = 'female'\n",
        "        else:\n",
        "            gender = 'male'\n",
        "        \n",
        "        data = data.append({\"Emotion\": emotion,\n",
        "                            \"Emotion intensity\": emotion_intensity,\n",
        "                            \"Gender\": gender,\n",
        "                            \"Path\": file_path\n",
        "                             },\n",
        "                             ignore_index = True\n",
        "                          )\n",
        "# You can write up to 5GB to the current directory (/kaggle/working/) that gets preserved as output when you create a version using \"Save & Run All\" \n",
        "# You can also write temporary files to /kaggle/temp/, but they won't be saved outside of the current session\n",
        "print(\"number of files is {}\".format(len(data)))\n",
        "data.head()"
      ],
      "execution_count": null,
      "outputs": [
        {
          "output_type": "stream",
          "name": "stdout",
          "text": [
            "number of files is 1440\n"
          ]
        },
        {
          "output_type": "execute_result",
          "data": {
            "text/html": [
              "<div>\n",
              "<style scoped>\n",
              "    .dataframe tbody tr th:only-of-type {\n",
              "        vertical-align: middle;\n",
              "    }\n",
              "\n",
              "    .dataframe tbody tr th {\n",
              "        vertical-align: top;\n",
              "    }\n",
              "\n",
              "    .dataframe thead th {\n",
              "        text-align: right;\n",
              "    }\n",
              "</style>\n",
              "<table border=\"1\" class=\"dataframe\">\n",
              "  <thead>\n",
              "    <tr style=\"text-align: right;\">\n",
              "      <th></th>\n",
              "      <th>Emotion</th>\n",
              "      <th>Emotion intensity</th>\n",
              "      <th>Gender</th>\n",
              "      <th>Path</th>\n",
              "    </tr>\n",
              "  </thead>\n",
              "  <tbody>\n",
              "    <tr>\n",
              "      <th>0</th>\n",
              "      <td>1</td>\n",
              "      <td>normal</td>\n",
              "      <td>female</td>\n",
              "      <td>/content/drive/MyDrive/audio_speech_actors_01-...</td>\n",
              "    </tr>\n",
              "    <tr>\n",
              "      <th>1</th>\n",
              "      <td>1</td>\n",
              "      <td>normal</td>\n",
              "      <td>female</td>\n",
              "      <td>/content/drive/MyDrive/audio_speech_actors_01-...</td>\n",
              "    </tr>\n",
              "    <tr>\n",
              "      <th>2</th>\n",
              "      <td>3</td>\n",
              "      <td>normal</td>\n",
              "      <td>female</td>\n",
              "      <td>/content/drive/MyDrive/audio_speech_actors_01-...</td>\n",
              "    </tr>\n",
              "    <tr>\n",
              "      <th>3</th>\n",
              "      <td>2</td>\n",
              "      <td>strong</td>\n",
              "      <td>female</td>\n",
              "      <td>/content/drive/MyDrive/audio_speech_actors_01-...</td>\n",
              "    </tr>\n",
              "    <tr>\n",
              "      <th>4</th>\n",
              "      <td>1</td>\n",
              "      <td>normal</td>\n",
              "      <td>female</td>\n",
              "      <td>/content/drive/MyDrive/audio_speech_actors_01-...</td>\n",
              "    </tr>\n",
              "  </tbody>\n",
              "</table>\n",
              "</div>"
            ],
            "text/plain": [
              "  Emotion  ...                                               Path\n",
              "0       1  ...  /content/drive/MyDrive/audio_speech_actors_01-...\n",
              "1       1  ...  /content/drive/MyDrive/audio_speech_actors_01-...\n",
              "2       3  ...  /content/drive/MyDrive/audio_speech_actors_01-...\n",
              "3       2  ...  /content/drive/MyDrive/audio_speech_actors_01-...\n",
              "4       1  ...  /content/drive/MyDrive/audio_speech_actors_01-...\n",
              "\n",
              "[5 rows x 4 columns]"
            ]
          },
          "metadata": {},
          "execution_count": 2
        }
      ]
    },
    {
      "cell_type": "code",
      "metadata": {
        "id": "pafL7Li0jyXW",
        "outputId": "dd7ad772-3560-41e9-802b-8def376b0eb8",
        "colab": {
          "base_uri": "https://localhost:8080/",
          "height": 299
        }
      },
      "source": [
        "fig = plt.figure()\n",
        "ax = fig.add_subplot(111)\n",
        "ax.bar(x=range(8), height=data['Emotion'].value_counts())\n",
        "ax.set_xticks(ticks=range(8))\n",
        "ax.set_xticklabels([EMOTIONS[i] for i in range(8)],fontsize=10)\n",
        "ax.set_xlabel('Emotions')\n",
        "ax.set_ylabel('Number of examples')"
      ],
      "execution_count": null,
      "outputs": [
        {
          "output_type": "execute_result",
          "data": {
            "text/plain": [
              "Text(0, 0.5, 'Number of examples')"
            ]
          },
          "metadata": {},
          "execution_count": 3
        },
        {
          "output_type": "display_data",
          "data": {
            "image/png": "[encoded data removed]",
            "text/plain": [
              "<Figure size 432x288 with 1 Axes>"
            ]
          },
          "metadata": {
            "needs_background": "light"
          }
        }
      ]
    },
    {
      "cell_type": "code",
      "source": [
        "fig = plt.figure()\n",
        "ax = fig.add_subplot(111)\n",
        "counts = data['Gender'].value_counts()\n",
        "ax.bar(x=[0,1], height=counts.values)\n",
        "ax.set_xticks(ticks=[0,1])\n",
        "ax.set_xticklabels(list(counts.index))\n",
        "ax.set_xlabel('Gender')\n",
        "ax.set_ylabel('Number of examples')"
      ],
      "metadata": {
        "id": "qLACn63J6ZD8",
        "outputId": "70408911-93af-4a9c-a039-414cb3af471c",
        "colab": {
          "base_uri": "https://localhost:8080/",
          "height": 296
        }
      },
      "execution_count": null,
      "outputs": [
        {
          "output_type": "execute_result",
          "data": {
            "text/plain": [
              "Text(0, 0.5, 'Number of examples')"
            ]
          },
          "metadata": {},
          "execution_count": 4
        },
        {
          "output_type": "display_data",
          "data": {
            "image/png": "[encoded data removed]",
            "text/plain": [
              "<Figure size 432x288 with 1 Axes>"
            ]
          },
          "metadata": {
            "needs_background": "light"
          }
        }
      ]
    },
    {
      "cell_type": "code",
      "source": [
        "fig = plt.figure()\n",
        "ax = fig.add_subplot(111)\n",
        "counts = data['Emotion intensity'].value_counts()\n",
        "ax.bar(x=[0,1], height=counts.values)\n",
        "ax.set_xticks(ticks=[0,1])\n",
        "ax.set_xticklabels(list(counts.index))\n",
        "ax.set_xlabel('Gender')\n",
        "ax.set_ylabel('Number of examples')"
      ],
      "metadata": {
        "id": "9n8gwA2s6cZJ",
        "outputId": "bbf64ad3-53a2-45dc-f81b-c0da21fd82be",
        "colab": {
          "base_uri": "https://localhost:8080/",
          "height": 299
        }
      },
      "execution_count": null,
      "outputs": [
        {
          "output_type": "execute_result",
          "data": {
            "text/plain": [
              "Text(0, 0.5, 'Number of examples')"
            ]
          },
          "metadata": {},
          "execution_count": 5
        },
        {
          "output_type": "display_data",
          "data": {
            "image/png": "[encoded data removed]",
            "text/plain": [
              "<Figure size 432x288 with 1 Axes>"
            ]
          },
          "metadata": {
            "needs_background": "light"
          }
        }
      ]
    },
    {
      "cell_type": "code",
      "source": [
        "mel_spectrograms = []\n",
        "signals = []\n",
        "for i, file_path in enumerate(data.Path):\n",
        "    audio, sample_rate = librosa.load(file_path, duration=3, offset=0.5, sr=SAMPLE_RATE)\n",
        "    signal = np.zeros((int(SAMPLE_RATE*3,)))\n",
        "    signal[:len(audio)] = audio\n",
        "    signals.append(signal)\n",
        "    print(\"\\r Processed {}/{} files\".format(i,len(data)),end='')\n",
        "signals = np.stack(signals,axis=0)"
      ],
      "metadata": {
        "id": "MBeDPpJE6dHR",
        "outputId": "3f1ac786-5356-4b38-a907-dc918f46a541",
        "colab": {
          "base_uri": "https://localhost:8080/"
        }
      },
      "execution_count": null,
      "outputs": [
        {
          "output_type": "stream",
          "name": "stdout",
          "text": [
            " Processed 1439/1440 files"
          ]
        }
      ]
    },
    {
      "cell_type": "code",
      "source": [
        "X = signals\n",
        "train_ind,test_ind,val_ind = [],[],[]\n",
        "X_train,X_val,X_test = [],[],[]\n",
        "Y_train,Y_val,Y_test = [],[],[]\n",
        "for emotion in range(len(EMOTIONS)):\n",
        "    emotion_ind = list(data.loc[data.Emotion==emotion,'Emotion'].index)\n",
        "    emotion_ind = np.random.permutation(emotion_ind)\n",
        "    m = len(emotion_ind)\n",
        "    ind_train = emotion_ind[:int(0.8*m)]\n",
        "    ind_val = emotion_ind[int(0.8*m):int(0.9*m)]\n",
        "    ind_test = emotion_ind[int(0.9*m):]\n",
        "    X_train.append(X[ind_train,:])\n",
        "    Y_train.append(np.array([emotion]*len(ind_train),dtype=np.int32))\n",
        "    X_val.append(X[ind_val,:])\n",
        "    Y_val.append(np.array([emotion]*len(ind_val),dtype=np.int32))\n",
        "    X_test.append(X[ind_test,:])\n",
        "    Y_test.append(np.array([emotion]*len(ind_test),dtype=np.int32))\n",
        "    train_ind.append(ind_train)\n",
        "    test_ind.append(ind_test)\n",
        "    val_ind.append(ind_val)\n",
        "X_train = np.concatenate(X_train,0)\n",
        "X_val = np.concatenate(X_val,0)\n",
        "X_test = np.concatenate(X_test,0)\n",
        "Y_train = np.concatenate(Y_train,0)\n",
        "Y_val = np.concatenate(Y_val,0)\n",
        "Y_test = np.concatenate(Y_test,0)\n",
        "train_ind = np.concatenate(train_ind,0)\n",
        "val_ind = np.concatenate(val_ind,0)\n",
        "test_ind = np.concatenate(test_ind,0)\n",
        "print(f'X_train:{X_train.shape}, Y_train:{Y_train.shape}')\n",
        "print(f'X_val:{X_val.shape}, Y_val:{Y_val.shape}')\n",
        "print(f'X_test:{X_test.shape}, Y_test:{Y_test.shape}')\n",
        "# check if all are unique\n",
        "unique, count = np.unique(np.concatenate([train_ind,test_ind,val_ind],0), return_counts=True)\n",
        "print(\"Number of unique indexes is {}, out of {}\".format(sum(count==1), X.shape[0]))\n",
        "\n",
        "del X"
      ],
      "metadata": {
        "id": "q08OE4nQ6fCp",
        "outputId": "e7abe1e7-ea00-411d-b0f9-387eae05f224",
        "colab": {
          "base_uri": "https://localhost:8080/"
        }
      },
      "execution_count": null,
      "outputs": [
        {
          "output_type": "stream",
          "name": "stdout",
          "text": [
            "X_train:(1147, 144000), Y_train:(1147,)\n",
            "X_val:(143, 144000), Y_val:(143,)\n",
            "X_test:(150, 144000), Y_test:(150,)\n",
            "Number of unique indexes is 1440, out of 1440\n"
          ]
        }
      ]
    },
    {
      "cell_type": "code",
      "source": [
        "def addAWGN(signal, num_bits=16, augmented_num=2, snr_low=15, snr_high=30): \n",
        "    signal_len = len(signal)\n",
        "    # Generate White Gaussian noise\n",
        "    noise = np.random.normal(size=(augmented_num, signal_len))\n",
        "    # Normalize signal and noise\n",
        "    norm_constant = 2.0**(num_bits-1)\n",
        "    signal_norm = signal / norm_constant\n",
        "    noise_norm = noise / norm_constant\n",
        "    # Compute signal and noise power\n",
        "    s_power = np.sum(signal_norm ** 2) / signal_len\n",
        "    n_power = np.sum(noise_norm ** 2, axis=1) / signal_len\n",
        "    # Random SNR: Uniform [15, 30] in dB\n",
        "    target_snr = np.random.randint(snr_low, snr_high)\n",
        "    # Compute K (covariance matrix) for each noise \n",
        "    K = np.sqrt((s_power / n_power) * 10 ** (- target_snr / 10))\n",
        "    K = np.ones((signal_len, augmented_num)) * K  \n",
        "    # Generate noisy signal\n",
        "    return signal + K.T * noise"
      ],
      "metadata": {
        "id": "kmT1wa4r6h2p"
      },
      "execution_count": null,
      "outputs": []
    },
    {
      "cell_type": "code",
      "source": [
        "aug_signals = []\n",
        "aug_labels = []\n",
        "for i in range(X_train.shape[0]):\n",
        "    signal = X_train[i,:]\n",
        "    augmented_signals = addAWGN(signal)\n",
        "    for j in range(augmented_signals.shape[0]):\n",
        "        aug_labels.append(data.loc[i,\"Emotion\"])\n",
        "        aug_signals.append(augmented_signals[j,:])\n",
        "        data = data.append(data.iloc[i], ignore_index=True)\n",
        "    print(\"\\r Processed {}/{} files\".format(i,X_train.shape[0]),end='')\n",
        "aug_signals = np.stack(aug_signals,axis=0)\n",
        "X_train = np.concatenate([X_train,aug_signals],axis=0)\n",
        "aug_labels = np.stack(aug_labels,axis=0)\n",
        "Y_train = np.concatenate([Y_train,aug_labels])\n",
        "print('')\n",
        "print(f'X_train:{X_train.shape}, Y_train:{Y_train.shape}')"
      ],
      "metadata": {
        "id": "Bgb1g51D6j8a",
        "outputId": "f749aec1-88f4-4b3d-9f01-0c84f4640f8d",
        "colab": {
          "base_uri": "https://localhost:8080/"
        }
      },
      "execution_count": null,
      "outputs": [
        {
          "output_type": "stream",
          "name": "stdout",
          "text": [
            " Processed 1146/1147 files\n",
            "X_train:(3441, 144000), Y_train:(3441,)\n"
          ]
        }
      ]
    },
    {
      "cell_type": "code",
      "source": [
        "def getMELspectrogram(audio, sample_rate):\n",
        "    mel_spec = librosa.feature.melspectrogram(y=audio,\n",
        "                                              sr=sample_rate,\n",
        "                                              n_fft=1024,\n",
        "                                              win_length = 512,\n",
        "                                              window='hamming',\n",
        "                                              hop_length = 256,\n",
        "                                              n_mels=128,\n",
        "                                              fmax=sample_rate/2\n",
        "                                             )\n",
        "    mel_spec_db = librosa.power_to_db(mel_spec, ref=np.max)\n",
        "    return mel_spec_db\n",
        "\n",
        "# test function\n",
        "audio, sample_rate = librosa.load(data.loc[0,'Path'], duration=3, offset=0.5,sr=SAMPLE_RATE)\n",
        "signal = np.zeros((int(SAMPLE_RATE*3,)))\n",
        "signal[:len(audio)] = audio\n",
        "mel_spectrogram = getMELspectrogram(signal, SAMPLE_RATE)\n",
        "librosa.display.specshow(mel_spectrogram, y_axis='mel', x_axis='time')\n",
        "print('MEL spectrogram shape: ',mel_spectrogram.shape)"
      ],
      "metadata": {
        "id": "3HmVbNN96l-C",
        "outputId": "d53d3b8c-59f7-4da5-deb1-0e0783ff3984",
        "colab": {
          "base_uri": "https://localhost:8080/",
          "height": 296
        }
      },
      "execution_count": null,
      "outputs": [
        {
          "output_type": "stream",
          "name": "stdout",
          "text": [
            "MEL spectrogram shape:  (128, 563)\n"
          ]
        },
        {
          "output_type": "display_data",
          "data": {
            "image/png": "[encoded data removed]",
            "text/plain": [
              "<Figure size 432x288 with 1 Axes>"
            ]
          },
          "metadata": {
            "needs_background": "light"
          }
        }
      ]
    },
    {
      "cell_type": "code",
      "source": [
        "mel_train = []\n",
        "print(\"Calculatin mel spectrograms for train set\")\n",
        "for i in range(X_train.shape[0]):\n",
        "    mel_spectrogram = getMELspectrogram(X_train[i,:], sample_rate=SAMPLE_RATE)\n",
        "    mel_train.append(mel_spectrogram)\n",
        "    print(\"\\r Processed {}/{} files\".format(i,X_train.shape[0]),end='')\n",
        "print('')\n",
        "del X_train\n",
        "\n",
        "mel_val = []\n",
        "print(\"Calculatin mel spectrograms for val set\")\n",
        "for i in range(X_val.shape[0]):\n",
        "    mel_spectrogram = getMELspectrogram(X_val[i,:], sample_rate=SAMPLE_RATE)\n",
        "    mel_val.append(mel_spectrogram)\n",
        "    print(\"\\r Processed {}/{} files\".format(i,X_val.shape[0]),end='')\n",
        "print('')\n",
        "del X_val\n",
        "\n",
        "mel_test = []\n",
        "print(\"Calculatin mel spectrograms for test set\")\n",
        "for i in range(X_test.shape[0]):\n",
        "    mel_spectrogram = getMELspectrogram(X_test[i,:], sample_rate=SAMPLE_RATE)\n",
        "    mel_test.append(mel_spectrogram)\n",
        "    print(\"\\r Processed {}/{} files\".format(i,X_test.shape[0]),end='')\n",
        "print('')\n",
        "del X_test"
      ],
      "metadata": {
        "id": "a60lx96O6n1J",
        "outputId": "d8067f55-b305-4b14-b4c2-e8c83962d237",
        "colab": {
          "base_uri": "https://localhost:8080/"
        }
      },
      "execution_count": null,
      "outputs": [
        {
          "output_type": "stream",
          "name": "stdout",
          "text": [
            "Calculatin mel spectrograms for train set\n",
            " Processed 3440/3441 files\n",
            "Calculatin mel spectrograms for val set\n",
            " Processed 142/143 files\n",
            "Calculatin mel spectrograms for test set\n",
            " Processed 149/150 files\n"
          ]
        }
      ]
    },
    {
      "cell_type": "code",
      "source": [
        "def splitIntoChunks(mel_spec,win_size,stride):\n",
        "    t = mel_spec.shape[1]\n",
        "    num_of_chunks = int(t/stride)\n",
        "    chunks = []\n",
        "    for i in range(num_of_chunks):\n",
        "        chunk = mel_spec[:,i*stride:i*stride+win_size]\n",
        "        if chunk.shape[1] == win_size:\n",
        "            chunks.append(chunk)\n",
        "    return np.stack(chunks,axis=0)"
      ],
      "metadata": {
        "id": "oxH8VJqg6p6r"
      },
      "execution_count": null,
      "outputs": []
    },
    {
      "cell_type": "code",
      "source": [
        "# get chunks\n",
        "# train set\n",
        "mel_train_chunked = []\n",
        "for mel_spec in mel_train:\n",
        "    chunks = splitIntoChunks(mel_spec, win_size=128,stride=64)\n",
        "    mel_train_chunked.append(chunks)\n",
        "print(\"Number of chunks is {}\".format(chunks.shape[0]))\n",
        "# val set\n",
        "mel_val_chunked = []\n",
        "for mel_spec in mel_val:\n",
        "    chunks = splitIntoChunks(mel_spec, win_size=128,stride=64)\n",
        "    mel_val_chunked.append(chunks)\n",
        "print(\"Number of chunks is {}\".format(chunks.shape[0]))\n",
        "# test set\n",
        "mel_test_chunked = []\n",
        "for mel_spec in mel_test:\n",
        "    chunks = splitIntoChunks(mel_spec, win_size=128,stride=64)\n",
        "    mel_test_chunked.append(chunks)\n",
        "print(\"Number of chunks is {}\".format(chunks.shape[0]))"
      ],
      "metadata": {
        "id": "hHE36n296r2R",
        "outputId": "ede78a33-56a2-4a58-e60e-31ad18a04c3e",
        "colab": {
          "base_uri": "https://localhost:8080/"
        }
      },
      "execution_count": null,
      "outputs": [
        {
          "output_type": "stream",
          "name": "stdout",
          "text": [
            "Number of chunks is 7\n",
            "Number of chunks is 7\n",
            "Number of chunks is 7\n"
          ]
        }
      ]
    },
    {
      "cell_type": "code",
      "source": [
        "import torch\n",
        "import torch.nn as nn\n",
        "# BATCH FIRST TimeDistributed layer\n",
        "class TimeDistributed(nn.Module):\n",
        "    def __init__(self, module):\n",
        "        super(TimeDistributed, self).__init__()\n",
        "        self.module = module\n",
        "\n",
        "    def forward(self, x):\n",
        "\n",
        "        if len(x.size()) <= 2:\n",
        "            return self.module(x)\n",
        "        # squash samples and timesteps into a single axis\n",
        "        elif len(x.size()) == 3: # (samples, timesteps, inp1)\n",
        "            x_reshape = x.contiguous().view(-1, x.size(2))  # (samples * timesteps, inp1)\n",
        "        elif len(x.size()) == 4: # (samples,timesteps,inp1,inp2)\n",
        "            x_reshape = x.contiguous().view(-1, x.size(2), x.size(3)) # (samples*timesteps,inp1,inp2)\n",
        "        else: # (samples,timesteps,inp1,inp2,inp3)\n",
        "            x_reshape = x.contiguous().view(-1, x.size(2), x.size(3),x.size(4)) # (samples*timesteps,inp1,inp2,inp3)\n",
        "            \n",
        "        y = self.module(x_reshape)\n",
        "        \n",
        "        # we have to reshape Y\n",
        "        if len(x.size()) == 3:\n",
        "            y = y.contiguous().view(x.size(0), -1, y.size(1))  # (samples, timesteps, out1)\n",
        "        elif len(x.size()) == 4:\n",
        "            y = y.contiguous().view(x.size(0), -1, y.size(1), y.size(2)) # (samples, timesteps, out1,out2)\n",
        "        else:\n",
        "            y = y.contiguous().view(x.size(0), -1, y.size(1), y.size(2),y.size(3)) # (samples, timesteps, out1,out2, out3)\n",
        "        return y"
      ],
      "metadata": {
        "id": "UgTqOMFC6t-C"
      },
      "execution_count": null,
      "outputs": []
    },
    {
      "cell_type": "code",
      "source": [
        "class HybridModel(nn.Module):\n",
        "    def __init__(self,num_emotions):\n",
        "        super().__init__()\n",
        "        # conv block\n",
        "        self.conv2Dblock = nn.Sequential(\n",
        "            # 1. conv block\n",
        "            TimeDistributed(nn.Conv2d(in_channels=1,\n",
        "                                   out_channels=16,\n",
        "                                   kernel_size=3,\n",
        "                                   stride=1,\n",
        "                                   padding=1\n",
        "                                  )),\n",
        "            TimeDistributed(nn.BatchNorm2d(16)),\n",
        "            TimeDistributed(nn.ReLU()),\n",
        "            TimeDistributed(nn.MaxPool2d(kernel_size=2, stride=2)),\n",
        "            TimeDistributed(nn.Dropout(p=0.3)),\n",
        "            # 2. conv block\n",
        "            TimeDistributed(nn.Conv2d(in_channels=16,\n",
        "                                   out_channels=32,\n",
        "                                   kernel_size=3,\n",
        "                                   stride=1,\n",
        "                                   padding=1\n",
        "                                  )),\n",
        "            TimeDistributed(nn.BatchNorm2d(32)),\n",
        "            TimeDistributed(nn.ReLU()),\n",
        "            TimeDistributed(nn.MaxPool2d(kernel_size=4, stride=4)),\n",
        "            TimeDistributed(nn.Dropout(p=0.3)),\n",
        "            # 3. conv block\n",
        "            TimeDistributed(nn.Conv2d(in_channels=32,\n",
        "                                   out_channels=64,\n",
        "                                   kernel_size=3,\n",
        "                                   stride=1,\n",
        "                                   padding=1\n",
        "                                  )),\n",
        "            TimeDistributed(nn.BatchNorm2d(64)),\n",
        "            TimeDistributed(nn.ReLU()),\n",
        "            TimeDistributed(nn.MaxPool2d(kernel_size=4, stride=4)),\n",
        "            TimeDistributed(nn.Dropout(p=0.3))\n",
        "        )\n",
        "        # LSTM block\n",
        "        hidden_size = 64\n",
        "        self.lstm = nn.LSTM(input_size=1024,hidden_size=hidden_size,bidirectional=True, batch_first=True)\n",
        "        self.dropout_lstm = nn.Dropout(p=0.4)\n",
        "        self.attention_linear = nn.Linear(2*hidden_size,1) # 2*hidden_size for the 2 outputs of bidir LSTM\n",
        "        # Linear softmax layer\n",
        "        self.out_linear = nn.Linear(2*hidden_size,num_emotions)\n",
        "    def forward(self,x):\n",
        "        conv_embedding = self.conv2Dblock(x)\n",
        "        conv_embedding = torch.flatten(conv_embedding, start_dim=2) # do not flatten batch dimension and time\n",
        "        lstm_embedding, (h,c) = self.lstm(conv_embedding)\n",
        "        lstm_embedding = self.dropout_lstm(lstm_embedding)\n",
        "        # lstm_embedding (batch, time, hidden_size*2)\n",
        "        batch_size,T,_ = lstm_embedding.shape \n",
        "        attention_weights = [None]*T\n",
        "        for t in range(T):\n",
        "            embedding = lstm_embedding[:,t,:]\n",
        "            attention_weights[t] = self.attention_linear(embedding)\n",
        "        attention_weights_norm = nn.functional.softmax(torch.stack(attention_weights,-1),dim=-1)\n",
        "        attention = torch.bmm(attention_weights_norm,lstm_embedding) # (Bx1xT)*(B,T,hidden_size*2)=(B,1,2*hidden_size)\n",
        "        attention = torch.squeeze(attention, 1)\n",
        "        output_logits = self.out_linear(attention)\n",
        "        output_softmax = nn.functional.softmax(output_logits,dim=1)\n",
        "        return output_logits, output_softmax, attention_weights_norm\n",
        "                                     "
      ],
      "metadata": {
        "id": "44jdffgK6wqJ"
      },
      "execution_count": null,
      "outputs": []
    },
    {
      "cell_type": "code",
      "source": [
        "def loss_fnc(predictions, targets):\n",
        "    return nn.CrossEntropyLoss()(input=predictions,target=targets)"
      ],
      "metadata": {
        "id": "uNBrbaIB6zn5"
      },
      "execution_count": null,
      "outputs": []
    },
    {
      "cell_type": "code",
      "source": [
        "def make_train_step(model, loss_fnc, optimizer):\n",
        "    def train_step(X,Y):\n",
        "        # set model to train mode\n",
        "        model.train()\n",
        "        # forward pass\n",
        "        output_logits, output_softmax, attention_weights_norm = model(X)\n",
        "        predictions = torch.argmax(output_softmax,dim=1)\n",
        "        accuracy = torch.sum(Y==predictions)/float(len(Y))\n",
        "        # compute loss\n",
        "        loss = loss_fnc(output_logits, Y)\n",
        "        # compute gradients\n",
        "        loss.backward()\n",
        "        # update parameters and zero gradients\n",
        "        optimizer.step()\n",
        "        optimizer.zero_grad()\n",
        "        return loss.item(), accuracy*100\n",
        "    return train_step"
      ],
      "metadata": {
        "id": "DS5IWHCO61bx"
      },
      "execution_count": null,
      "outputs": []
    },
    {
      "cell_type": "code",
      "source": [
        "def make_validate_fnc(model,loss_fnc):\n",
        "    def validate(X,Y):\n",
        "        with torch.no_grad():\n",
        "            model.eval()\n",
        "            output_logits, output_softmax, attention_weights_norm = model(X)\n",
        "            predictions = torch.argmax(output_softmax,dim=1)\n",
        "            accuracy = torch.sum(Y==predictions)/float(len(Y))\n",
        "            loss = loss_fnc(output_logits,Y)\n",
        "        return loss.item(), accuracy*100, predictions\n",
        "    return validate"
      ],
      "metadata": {
        "id": "UumrlQS9642q"
      },
      "execution_count": null,
      "outputs": []
    },
    {
      "cell_type": "code",
      "source": [
        "X_train = np.stack(mel_train_chunked,axis=0)\n",
        "X_train = np.expand_dims(X_train,2)\n",
        "print('Shape of X_train: ',X_train.shape)\n",
        "X_val = np.stack(mel_val_chunked,axis=0)\n",
        "X_val = np.expand_dims(X_val,2)\n",
        "print('Shape of X_val: ',X_val.shape)\n",
        "X_test = np.stack(mel_test_chunked,axis=0)\n",
        "X_test = np.expand_dims(X_test,2)\n",
        "print('Shape of X_test: ',X_test.shape)\n",
        "\n",
        "del mel_train_chunked\n",
        "del mel_train\n",
        "del mel_val_chunked\n",
        "del mel_val\n",
        "del mel_test_chunked\n",
        "del mel_test"
      ],
      "metadata": {
        "id": "I-HoZHS_65kZ",
        "outputId": "0ce4cb29-c9a9-44d8-c475-f04581e6facd",
        "colab": {
          "base_uri": "https://localhost:8080/"
        }
      },
      "execution_count": null,
      "outputs": [
        {
          "output_type": "stream",
          "name": "stdout",
          "text": [
            "Shape of X_train:  (3441, 7, 1, 128, 128)\n",
            "Shape of X_val:  (143, 7, 1, 128, 128)\n",
            "Shape of X_test:  (150, 7, 1, 128, 128)\n"
          ]
        }
      ]
    },
    {
      "cell_type": "code",
      "source": [
        "from sklearn.preprocessing import StandardScaler\n",
        "\n",
        "scaler = StandardScaler()\n",
        "\n",
        "b,t,c,h,w = X_train.shape\n",
        "X_train = np.reshape(X_train, newshape=(b,-1))\n",
        "X_train = scaler.fit_transform(X_train)\n",
        "X_train = np.reshape(X_train, newshape=(b,t,c,h,w))\n",
        "\n",
        "b,t,c,h,w = X_test.shape\n",
        "X_test = np.reshape(X_test, newshape=(b,-1))\n",
        "X_test = scaler.transform(X_test)\n",
        "X_test = np.reshape(X_test, newshape=(b,t,c,h,w))\n",
        "\n",
        "b,t,c,h,w = X_val.shape\n",
        "X_val = np.reshape(X_val, newshape=(b,-1))\n",
        "X_val = scaler.transform(X_val)\n",
        "X_val = np.reshape(X_val, newshape=(b,t,c,h,w))"
      ],
      "metadata": {
        "id": "CDNNIfKQ67n6"
      },
      "execution_count": null,
      "outputs": []
    },
    {
      "cell_type": "code",
      "source": [
        "EPOCHS=200\n",
        "DATASET_SIZE = X_train.shape[0]\n",
        "BATCH_SIZE = 32\n",
        "device = 'cuda' if torch.cuda.is_available() else 'cpu'\n",
        "print('Selected device is {}'.format(device))\n",
        "model = HybridModel(num_emotions=len(EMOTIONS)).to(device)\n",
        "print('Number of trainable params: ',sum(p.numel() for p in model.parameters()))\n",
        "OPTIMIZER = torch.optim.SGD(model.parameters(),lr=0.01, weight_decay=1e-3, momentum=0.8)\n",
        "\n",
        "train_step = make_train_step(model, loss_fnc, optimizer=OPTIMIZER)\n",
        "validate = make_validate_fnc(model,loss_fnc)\n",
        "losses=[]\n",
        "val_losses = []\n",
        "for epoch in range(EPOCHS):\n",
        "    # schuffle data\n",
        "    ind = np.random.permutation(DATASET_SIZE)\n",
        "    X_train = X_train[ind,:,:,:,:]\n",
        "    Y_train = Y_train[ind]\n",
        "    epoch_acc = 0\n",
        "    epoch_loss = 0\n",
        "    iters = int(DATASET_SIZE / BATCH_SIZE)\n",
        "    for i in range(iters):\n",
        "        batch_start = i * BATCH_SIZE\n",
        "        batch_end = min(batch_start + BATCH_SIZE, DATASET_SIZE)\n",
        "        actual_batch_size = batch_end-batch_start\n",
        "        X = X_train[batch_start:batch_end,:,:,:,:]\n",
        "        Y = Y_train[batch_start:batch_end]\n",
        "        X_tensor = torch.tensor(X,device=device).float()\n",
        "        Y_tensor = torch.tensor(Y, dtype=torch.long,device=device)\n",
        "        loss, acc = train_step(X_tensor,Y_tensor)\n",
        "        epoch_acc += acc*actual_batch_size/DATASET_SIZE\n",
        "        epoch_loss += loss*actual_batch_size/DATASET_SIZE\n",
        "        print(f\"\\r Epoch {epoch}: iteration {i}/{iters}\",end='')\n",
        "    X_val_tensor = torch.tensor(X_val,device=device).float()\n",
        "    Y_val_tensor = torch.tensor(Y_val,dtype=torch.long,device=device)\n",
        "    val_loss, val_acc, _ = validate(X_val_tensor,Y_val_tensor)\n",
        "    losses.append(epoch_loss)\n",
        "    val_losses.append(val_loss)\n",
        "    print('')\n",
        "    print(f\"Epoch {epoch} --> loss:{epoch_loss:.4f}, acc:{epoch_acc:.2f}%, val_loss:{val_loss:.4f}, val_acc:{val_acc:.2f}%\")\n",
        "    "
      ],
      "metadata": {
        "id": "3ZDj_wY68ciG",
        "outputId": "99277813-4f0d-4509-d6b0-65cf88c62240",
        "colab": {
          "base_uri": "https://localhost:8080/"
        }
      },
      "execution_count": null,
      "outputs": [
        {
          "output_type": "stream",
          "name": "stdout",
          "text": [
            "Selected device is cpu\n",
            "Number of trainable params:  582761\n",
            " Epoch 0: iteration 106/107\n",
            "Epoch 0 --> loss:2.0624, acc:13.25%, val_loss:2.0660, val_acc:13.29%\n",
            " Epoch 1: iteration 106/107\n",
            "Epoch 1 --> loss:2.0555, acc:13.95%, val_loss:2.0580, val_acc:13.29%\n",
            " Epoch 2: iteration 106/107\n",
            "Epoch 2 --> loss:2.0548, acc:13.75%, val_loss:2.0548, val_acc:16.08%\n",
            " Epoch 3: iteration 106/107\n",
            "Epoch 3 --> loss:2.0514, acc:13.95%, val_loss:2.0460, val_acc:13.29%\n",
            " Epoch 4: iteration 106/107\n",
            "Epoch 4 --> loss:2.0442, acc:14.56%, val_loss:2.0272, val_acc:17.48%\n",
            " Epoch 5: iteration 106/107\n",
            "Epoch 5 --> loss:2.0407, acc:16.01%, val_loss:2.0158, val_acc:17.48%\n",
            " Epoch 6: iteration 106/107\n",
            "Epoch 6 --> loss:2.0363, acc:17.18%, val_loss:2.0015, val_acc:16.78%\n",
            " Epoch 7: iteration 106/107\n",
            "Epoch 7 --> loss:2.0298, acc:17.70%, val_loss:1.9785, val_acc:18.18%\n",
            " Epoch 8: iteration 106/107\n",
            "Epoch 8 --> loss:2.0188, acc:18.16%, val_loss:1.9759, val_acc:20.28%\n",
            " Epoch 9: iteration 106/107\n",
            "Epoch 9 --> loss:2.0129, acc:18.16%, val_loss:1.9135, val_acc:23.78%\n",
            " Epoch 10: iteration 106/107\n",
            "Epoch 10 --> loss:2.0046, acc:19.35%, val_loss:1.9189, val_acc:23.08%\n",
            " Epoch 11: iteration 106/107\n",
            "Epoch 11 --> loss:1.9954, acc:19.62%, val_loss:1.9159, val_acc:21.68%\n",
            " Epoch 12: iteration 106/107\n",
            "Epoch 12 --> loss:1.9881, acc:20.95%, val_loss:1.8452, val_acc:30.07%\n",
            " Epoch 13: iteration 106/107\n",
            "Epoch 13 --> loss:1.9766, acc:20.78%, val_loss:1.8396, val_acc:27.27%\n",
            " Epoch 14: iteration 106/107\n",
            "Epoch 14 --> loss:1.9664, acc:21.56%, val_loss:1.7522, val_acc:37.76%\n",
            " Epoch 15: iteration 106/107\n",
            "Epoch 15 --> loss:1.9607, acc:21.48%, val_loss:1.8088, val_acc:29.37%\n",
            " Epoch 16: iteration 106/107\n",
            "Epoch 16 --> loss:1.9546, acc:22.12%, val_loss:1.7801, val_acc:37.06%\n",
            " Epoch 17: iteration 106/107\n",
            "Epoch 17 --> loss:1.9463, acc:21.48%, val_loss:1.7087, val_acc:41.26%\n",
            " Epoch 18: iteration 106/107\n",
            "Epoch 18 --> loss:1.9369, acc:22.93%, val_loss:1.7767, val_acc:34.97%\n",
            " Epoch 19: iteration 106/107\n",
            "Epoch 19 --> loss:1.9298, acc:22.90%, val_loss:1.6820, val_acc:38.46%\n",
            " Epoch 20: iteration 106/107\n",
            "Epoch 20 --> loss:1.9232, acc:23.22%, val_loss:1.6656, val_acc:37.06%\n",
            " Epoch 21: iteration 106/107\n",
            "Epoch 21 --> loss:1.9160, acc:23.60%, val_loss:1.7268, val_acc:35.66%\n",
            " Epoch 22: iteration 106/107\n",
            "Epoch 22 --> loss:1.9164, acc:22.87%, val_loss:1.6035, val_acc:39.86%\n",
            " Epoch 23: iteration 106/107\n",
            "Epoch 23 --> loss:1.9159, acc:24.67%, val_loss:1.6522, val_acc:39.16%\n",
            " Epoch 24: iteration 106/107\n",
            "Epoch 24 --> loss:1.8982, acc:24.41%, val_loss:1.5760, val_acc:39.86%\n",
            " Epoch 25: iteration 106/107\n",
            "Epoch 25 --> loss:1.8968, acc:24.99%, val_loss:1.5736, val_acc:39.16%\n",
            " Epoch 26: iteration 106/107\n",
            "Epoch 26 --> loss:1.8918, acc:24.99%, val_loss:1.6346, val_acc:36.36%\n",
            " Epoch 27: iteration 106/107\n",
            "Epoch 27 --> loss:1.8910, acc:23.51%, val_loss:1.5716, val_acc:40.56%\n",
            " Epoch 28: iteration 106/107\n",
            "Epoch 28 --> loss:1.8845, acc:24.21%, val_loss:1.5602, val_acc:45.45%\n",
            " Epoch 29: iteration 106/107\n",
            "Epoch 29 --> loss:1.8766, acc:24.76%, val_loss:1.5274, val_acc:44.06%\n",
            " Epoch 30: iteration 106/107\n",
            "Epoch 30 --> loss:1.8703, acc:26.01%, val_loss:1.5347, val_acc:44.06%\n",
            " Epoch 31: iteration 106/107\n",
            "Epoch 31 --> loss:1.8695, acc:25.14%, val_loss:1.5244, val_acc:43.36%\n",
            " Epoch 32: iteration 106/107\n",
            "Epoch 32 --> loss:1.8670, acc:25.37%, val_loss:1.5238, val_acc:41.26%\n",
            " Epoch 33: iteration 106/107\n",
            "Epoch 33 --> loss:1.8541, acc:26.91%, val_loss:1.4832, val_acc:44.06%\n",
            " Epoch 34: iteration 106/107\n",
            "Epoch 34 --> loss:1.8457, acc:26.68%, val_loss:1.4811, val_acc:45.45%\n",
            " Epoch 35: iteration 106/107\n",
            "Epoch 35 --> loss:1.8464, acc:27.06%, val_loss:1.4788, val_acc:46.85%\n",
            " Epoch 36: iteration 106/107\n",
            "Epoch 36 --> loss:1.8417, acc:27.32%, val_loss:1.4869, val_acc:40.56%\n",
            " Epoch 37: iteration 106/107\n",
            "Epoch 37 --> loss:1.8494, acc:27.32%, val_loss:1.4300, val_acc:46.85%\n",
            " Epoch 38: iteration 106/107\n",
            "Epoch 38 --> loss:1.8339, acc:26.62%, val_loss:1.4348, val_acc:42.66%\n",
            " Epoch 39: iteration 106/107\n",
            "Epoch 39 --> loss:1.8227, acc:27.11%, val_loss:1.4703, val_acc:47.55%\n",
            " Epoch 40: iteration 106/107\n",
            "Epoch 40 --> loss:1.8214, acc:28.74%, val_loss:1.4270, val_acc:45.45%\n",
            " Epoch 41: iteration 106/107\n",
            "Epoch 41 --> loss:1.8090, acc:27.32%, val_loss:1.4165, val_acc:48.95%\n",
            " Epoch 42: iteration 106/107\n",
            "Epoch 42 --> loss:1.8118, acc:27.84%, val_loss:1.5371, val_acc:39.16%\n",
            " Epoch 43: iteration 106/107\n",
            "Epoch 43 --> loss:1.8090, acc:28.48%, val_loss:1.3818, val_acc:50.35%\n",
            " Epoch 44: iteration 106/107\n",
            "Epoch 44 --> loss:1.7964, acc:28.92%, val_loss:1.3988, val_acc:48.25%\n",
            " Epoch 45: iteration 106/107\n",
            "Epoch 45 --> loss:1.7921, acc:28.31%, val_loss:1.4303, val_acc:51.05%\n",
            " Epoch 46: iteration 106/107\n",
            "Epoch 46 --> loss:1.7811, acc:29.99%, val_loss:1.3044, val_acc:52.45%\n",
            " Epoch 47: iteration 106/107\n",
            "Epoch 47 --> loss:1.7858, acc:29.79%, val_loss:1.3356, val_acc:47.55%\n",
            " Epoch 48: iteration 106/107\n",
            "Epoch 48 --> loss:1.7757, acc:29.38%, val_loss:1.3195, val_acc:48.25%\n",
            " Epoch 49: iteration 106/107\n",
            "Epoch 49 --> loss:1.7674, acc:29.44%, val_loss:1.3816, val_acc:51.05%\n",
            " Epoch 50: iteration 106/107\n",
            "Epoch 50 --> loss:1.7661, acc:30.05%, val_loss:1.3690, val_acc:51.05%\n",
            " Epoch 51: iteration 106/107\n",
            "Epoch 51 --> loss:1.7620, acc:31.39%, val_loss:1.3380, val_acc:48.95%\n",
            " Epoch 52: iteration 106/107\n",
            "Epoch 52 --> loss:1.7652, acc:30.95%, val_loss:1.3696, val_acc:53.15%\n",
            " Epoch 53: iteration 106/107\n",
            "Epoch 53 --> loss:1.7346, acc:32.40%, val_loss:1.2993, val_acc:48.25%\n",
            " Epoch 54: iteration 106/107\n",
            "Epoch 54 --> loss:1.7407, acc:31.79%, val_loss:1.2998, val_acc:51.75%\n",
            " Epoch 55: iteration 106/107\n",
            "Epoch 55 --> loss:1.7267, acc:33.54%, val_loss:1.4313, val_acc:42.66%\n",
            " Epoch 56: iteration 106/107\n",
            "Epoch 56 --> loss:1.7330, acc:32.78%, val_loss:1.2716, val_acc:54.55%\n",
            " Epoch 57: iteration 106/107\n",
            "Epoch 57 --> loss:1.7277, acc:32.78%, val_loss:1.3044, val_acc:51.75%\n",
            " Epoch 58: iteration 106/107\n",
            "Epoch 58 --> loss:1.7135, acc:34.41%, val_loss:1.2467, val_acc:56.64%\n",
            " Epoch 59: iteration 106/107\n",
            "Epoch 59 --> loss:1.6958, acc:34.00%, val_loss:1.3095, val_acc:54.55%\n",
            " Epoch 60: iteration 106/107\n",
            "Epoch 60 --> loss:1.6908, acc:35.92%, val_loss:1.3434, val_acc:51.75%\n",
            " Epoch 61: iteration 106/107\n",
            "Epoch 61 --> loss:1.6956, acc:34.87%, val_loss:1.2824, val_acc:48.95%\n",
            " Epoch 62: iteration 106/107\n",
            "Epoch 62 --> loss:1.6873, acc:35.69%, val_loss:1.1957, val_acc:59.44%\n",
            " Epoch 63: iteration 106/107\n",
            "Epoch 63 --> loss:1.6699, acc:36.38%, val_loss:1.2296, val_acc:53.15%\n",
            " Epoch 64: iteration 106/107\n",
            "Epoch 64 --> loss:1.6612, acc:36.15%, val_loss:1.2110, val_acc:53.85%\n",
            " Epoch 65: iteration 106/107\n",
            "Epoch 65 --> loss:1.6523, acc:37.49%, val_loss:1.2643, val_acc:57.34%\n",
            " Epoch 66: iteration 106/107\n",
            "Epoch 66 --> loss:1.6564, acc:36.30%, val_loss:1.2659, val_acc:54.55%\n",
            " Epoch 67: iteration 106/107\n",
            "Epoch 67 --> loss:1.6539, acc:36.68%, val_loss:1.2269, val_acc:55.94%\n",
            " Epoch 68: iteration 106/107\n",
            "Epoch 68 --> loss:1.6397, acc:37.66%, val_loss:1.1703, val_acc:55.24%\n",
            " Epoch 69: iteration 106/107\n",
            "Epoch 69 --> loss:1.6318, acc:38.22%, val_loss:1.2184, val_acc:55.94%\n",
            " Epoch 70: iteration 106/107\n",
            "Epoch 70 --> loss:1.6207, acc:38.68%, val_loss:1.2365, val_acc:58.04%\n",
            " Epoch 71: iteration 106/107\n",
            "Epoch 71 --> loss:1.6071, acc:38.36%, val_loss:1.2367, val_acc:54.55%\n",
            " Epoch 72: iteration 106/107\n",
            "Epoch 72 --> loss:1.6064, acc:38.71%, val_loss:1.2337, val_acc:53.15%\n",
            " Epoch 73: iteration 106/107\n",
            "Epoch 73 --> loss:1.5924, acc:39.76%, val_loss:1.2455, val_acc:51.05%\n",
            " Epoch 74: iteration 106/107\n",
            "Epoch 74 --> loss:1.5747, acc:41.38%, val_loss:1.2241, val_acc:53.85%\n",
            " Epoch 75: iteration 106/107\n",
            "Epoch 75 --> loss:1.5685, acc:39.47%, val_loss:1.2175, val_acc:54.55%\n",
            " Epoch 76: iteration 106/107\n",
            "Epoch 76 --> loss:1.5531, acc:41.06%, val_loss:1.1904, val_acc:58.04%\n",
            " Epoch 77: iteration 106/107\n",
            "Epoch 77 --> loss:1.5468, acc:41.56%, val_loss:1.1649, val_acc:58.74%\n",
            " Epoch 78: iteration 106/107\n",
            "Epoch 78 --> loss:1.5349, acc:41.67%, val_loss:1.1881, val_acc:51.75%\n",
            " Epoch 79: iteration 106/107\n",
            "Epoch 79 --> loss:1.5366, acc:42.40%, val_loss:1.1932, val_acc:53.15%\n",
            " Epoch 80: iteration 106/107\n",
            "Epoch 80 --> loss:1.5173, acc:44.35%, val_loss:1.1920, val_acc:47.55%\n",
            " Epoch 81: iteration 106/107\n",
            "Epoch 81 --> loss:1.5016, acc:43.65%, val_loss:1.2992, val_acc:52.45%\n",
            " Epoch 82: iteration 106/107\n",
            "Epoch 82 --> loss:1.4954, acc:43.68%, val_loss:1.1941, val_acc:50.35%\n",
            " Epoch 83: iteration 106/107\n",
            "Epoch 83 --> loss:1.4751, acc:45.86%, val_loss:1.1746, val_acc:53.85%\n",
            " Epoch 84: iteration 106/107\n",
            "Epoch 84 --> loss:1.4727, acc:44.99%, val_loss:1.1842, val_acc:50.35%\n",
            " Epoch 85: iteration 106/107\n",
            "Epoch 85 --> loss:1.4605, acc:45.71%, val_loss:1.1246, val_acc:53.85%\n",
            " Epoch 86: iteration 106/107\n",
            "Epoch 86 --> loss:1.4578, acc:46.61%, val_loss:1.1908, val_acc:53.85%\n",
            " Epoch 87: iteration 106/107\n",
            "Epoch 87 --> loss:1.4337, acc:47.52%, val_loss:1.2566, val_acc:50.35%\n",
            " Epoch 88: iteration 106/107\n",
            "Epoch 88 --> loss:1.4261, acc:46.96%, val_loss:1.1310, val_acc:53.15%\n",
            " Epoch 89: iteration 106/107\n",
            "Epoch 89 --> loss:1.4236, acc:47.11%, val_loss:1.2161, val_acc:51.05%\n",
            " Epoch 90: iteration 106/107\n",
            "Epoch 90 --> loss:1.3907, acc:49.26%, val_loss:1.1720, val_acc:58.04%\n",
            " Epoch 91: iteration 106/107\n",
            "Epoch 91 --> loss:1.3667, acc:49.49%, val_loss:1.1097, val_acc:55.94%\n",
            " Epoch 92: iteration 106/107\n",
            "Epoch 92 --> loss:1.3711, acc:49.23%, val_loss:1.1822, val_acc:52.45%\n",
            " Epoch 93: iteration 106/107\n",
            "Epoch 93 --> loss:1.3544, acc:50.07%, val_loss:1.1471, val_acc:58.04%\n",
            " Epoch 94: iteration 106/107\n",
            "Epoch 94 --> loss:1.3301, acc:51.24%, val_loss:1.3518, val_acc:51.75%\n",
            " Epoch 95: iteration 106/107\n",
            "Epoch 95 --> loss:1.3206, acc:51.58%, val_loss:1.1471, val_acc:53.15%\n",
            " Epoch 96: iteration 106/107\n",
            "Epoch 96 --> loss:1.2855, acc:53.18%, val_loss:1.1548, val_acc:54.55%\n",
            " Epoch 97: iteration 106/107\n",
            "Epoch 97 --> loss:1.3059, acc:52.86%, val_loss:1.2241, val_acc:53.15%\n",
            " Epoch 98: iteration 106/107\n",
            "Epoch 98 --> loss:1.2974, acc:52.78%, val_loss:1.1363, val_acc:55.94%\n",
            " Epoch 99: iteration 106/107\n",
            "Epoch 99 --> loss:1.2519, acc:54.40%, val_loss:1.1301, val_acc:56.64%\n",
            " Epoch 100: iteration 106/107\n",
            "Epoch 100 --> loss:1.2537, acc:54.52%, val_loss:1.1541, val_acc:56.64%\n",
            " Epoch 101: iteration 106/107\n",
            "Epoch 101 --> loss:1.2024, acc:56.67%, val_loss:1.1157, val_acc:55.24%\n",
            " Epoch 102: iteration 106/107\n",
            "Epoch 102 --> loss:1.1997, acc:57.11%, val_loss:1.1492, val_acc:55.94%\n",
            " Epoch 103: iteration 106/107\n",
            "Epoch 103 --> loss:1.1927, acc:56.52%, val_loss:1.1732, val_acc:55.94%\n",
            " Epoch 104: iteration 106/107\n",
            "Epoch 104 --> loss:1.1759, acc:58.85%, val_loss:1.1959, val_acc:55.24%\n",
            " Epoch 105: iteration 106/107\n",
            "Epoch 105 --> loss:1.1569, acc:58.59%, val_loss:1.1552, val_acc:54.55%\n",
            " Epoch 106: iteration 106/107\n",
            "Epoch 106 --> loss:1.1288, acc:59.90%, val_loss:1.0943, val_acc:56.64%\n",
            " Epoch 107: iteration 106/107\n",
            "Epoch 107 --> loss:1.1244, acc:59.90%, val_loss:1.1717, val_acc:54.55%\n",
            " Epoch 108: iteration 106/107\n",
            "Epoch 108 --> loss:1.1185, acc:59.31%, val_loss:1.1715, val_acc:57.34%\n",
            " Epoch 109: iteration 106/107\n",
            "Epoch 109 --> loss:1.0837, acc:61.26%, val_loss:1.1558, val_acc:51.05%\n",
            " Epoch 110: iteration 106/107\n",
            "Epoch 110 --> loss:1.0827, acc:60.71%, val_loss:1.0573, val_acc:56.64%\n",
            " Epoch 111: iteration 106/107\n",
            "Epoch 111 --> loss:1.0468, acc:62.45%, val_loss:1.0874, val_acc:54.55%\n",
            " Epoch 112: iteration 106/107\n",
            "Epoch 112 --> loss:1.0455, acc:62.51%, val_loss:1.1502, val_acc:51.75%\n",
            " Epoch 113: iteration 106/107\n",
            "Epoch 113 --> loss:1.0122, acc:64.43%, val_loss:1.1422, val_acc:58.04%\n",
            " Epoch 114: iteration 106/107\n",
            "Epoch 114 --> loss:0.9941, acc:64.57%, val_loss:1.0806, val_acc:52.45%\n",
            " Epoch 115: iteration 106/107\n",
            "Epoch 115 --> loss:0.9822, acc:66.14%, val_loss:1.1114, val_acc:55.24%\n",
            " Epoch 116: iteration 106/107\n",
            "Epoch 116 --> loss:0.9473, acc:66.43%, val_loss:1.1387, val_acc:56.64%\n",
            " Epoch 117: iteration 106/107\n",
            "Epoch 117 --> loss:0.9521, acc:66.06%, val_loss:1.1090, val_acc:60.84%\n",
            " Epoch 118: iteration 106/107\n",
            "Epoch 118 --> loss:0.9446, acc:66.32%, val_loss:1.1392, val_acc:60.14%\n",
            " Epoch 119: iteration 106/107\n",
            "Epoch 119 --> loss:0.9000, acc:68.12%, val_loss:1.2359, val_acc:55.94%\n",
            " Epoch 120: iteration 106/107\n",
            "Epoch 120 --> loss:0.9209, acc:68.32%, val_loss:1.0712, val_acc:56.64%\n",
            " Epoch 121: iteration 106/107\n",
            "Epoch 121 --> loss:0.8921, acc:68.79%, val_loss:1.1315, val_acc:53.85%\n",
            " Epoch 122: iteration 106/107\n",
            "Epoch 122 --> loss:0.8487, acc:70.56%, val_loss:1.1565, val_acc:53.85%\n",
            " Epoch 123: iteration 106/107\n",
            "Epoch 123 --> loss:0.8455, acc:69.95%, val_loss:1.2234, val_acc:53.15%\n",
            " Epoch 124: iteration 106/107\n",
            "Epoch 124 --> loss:0.8286, acc:70.97%, val_loss:1.2025, val_acc:52.45%\n",
            " Epoch 125: iteration 106/107\n",
            "Epoch 125 --> loss:0.8094, acc:71.87%, val_loss:1.1434, val_acc:51.05%\n",
            " Epoch 126: iteration 106/107\n",
            "Epoch 126 --> loss:0.8169, acc:71.90%, val_loss:1.1643, val_acc:55.94%\n",
            " Epoch 127: iteration 106/107\n",
            "Epoch 127 --> loss:0.7893, acc:72.77%, val_loss:1.1850, val_acc:53.15%\n",
            " Epoch 128: iteration 106/107\n",
            "Epoch 128 --> loss:0.7722, acc:74.51%, val_loss:1.1530, val_acc:53.85%\n",
            " Epoch 129: iteration 106/107\n",
            "Epoch 129 --> loss:0.7623, acc:73.23%, val_loss:1.0944, val_acc:54.55%\n",
            " Epoch 130: iteration 106/107\n",
            "Epoch 130 --> loss:0.7309, acc:74.75%, val_loss:1.1440, val_acc:55.24%\n",
            " Epoch 131: iteration 106/107\n",
            "Epoch 131 --> loss:0.7247, acc:74.89%, val_loss:1.1020, val_acc:55.24%\n",
            " Epoch 132: iteration 106/107\n",
            "Epoch 132 --> loss:0.7091, acc:76.46%, val_loss:1.2018, val_acc:53.85%\n",
            " Epoch 133: iteration 106/107\n",
            "Epoch 133 --> loss:0.7002, acc:76.63%, val_loss:1.1797, val_acc:53.85%\n",
            " Epoch 134: iteration 106/107\n",
            "Epoch 134 --> loss:0.6730, acc:76.93%, val_loss:1.1333, val_acc:51.75%\n",
            " Epoch 135: iteration 106/107\n",
            "Epoch 135 --> loss:0.6690, acc:77.33%, val_loss:1.0534, val_acc:58.74%\n",
            " Epoch 136: iteration 106/107\n",
            "Epoch 136 --> loss:0.6457, acc:78.41%, val_loss:1.2345, val_acc:53.15%\n",
            " Epoch 137: iteration 106/107\n",
            "Epoch 137 --> loss:0.6343, acc:78.15%, val_loss:1.2510, val_acc:52.45%\n",
            " Epoch 138: iteration 106/107\n",
            "Epoch 138 --> loss:0.6318, acc:79.08%, val_loss:1.1867, val_acc:54.55%\n",
            " Epoch 139: iteration 106/107\n",
            "Epoch 139 --> loss:0.6116, acc:79.83%, val_loss:1.2400, val_acc:53.85%\n",
            " Epoch 140: iteration 106/107\n",
            "Epoch 140 --> loss:0.6033, acc:79.02%, val_loss:1.1211, val_acc:55.94%\n",
            " Epoch 141: iteration 106/107\n",
            "Epoch 141 --> loss:0.5946, acc:80.99%, val_loss:1.1403, val_acc:55.24%\n",
            " Epoch 142: iteration 106/107\n",
            "Epoch 142 --> loss:0.5771, acc:80.85%, val_loss:1.1076, val_acc:55.24%\n",
            " Epoch 143: iteration 106/107\n",
            "Epoch 143 --> loss:0.5439, acc:82.16%, val_loss:1.1286, val_acc:55.94%\n",
            " Epoch 144: iteration 106/107\n",
            "Epoch 144 --> loss:0.5383, acc:82.33%, val_loss:1.2234, val_acc:53.15%\n",
            " Epoch 145: iteration 106/107\n",
            "Epoch 145 --> loss:0.5555, acc:81.58%, val_loss:1.1163, val_acc:59.44%\n",
            " Epoch 146: iteration 106/107\n",
            "Epoch 146 --> loss:0.5614, acc:80.94%, val_loss:1.1018, val_acc:56.64%\n",
            " Epoch 147: iteration 106/107\n",
            "Epoch 147 --> loss:0.5115, acc:83.17%, val_loss:1.2213, val_acc:54.55%\n",
            " Epoch 148: iteration 106/107\n",
            "Epoch 148 --> loss:0.5151, acc:83.20%, val_loss:1.2204, val_acc:53.85%\n",
            " Epoch 149: iteration 106/107\n",
            "Epoch 149 --> loss:0.4796, acc:84.66%, val_loss:1.1289, val_acc:53.15%\n",
            " Epoch 150: iteration 106/107\n",
            "Epoch 150 --> loss:0.4808, acc:84.16%, val_loss:1.0794, val_acc:55.94%\n",
            " Epoch 151: iteration 106/107\n",
            "Epoch 151 --> loss:0.4698, acc:85.24%, val_loss:1.2506, val_acc:60.14%\n",
            " Epoch 152: iteration 106/107\n",
            "Epoch 152 --> loss:0.4673, acc:84.95%, val_loss:1.1949, val_acc:57.34%\n",
            " Epoch 153: iteration 106/107\n",
            "Epoch 153 --> loss:0.4732, acc:84.22%, val_loss:1.1466, val_acc:52.45%\n",
            " Epoch 154: iteration 106/107\n",
            "Epoch 154 --> loss:0.4410, acc:85.64%, val_loss:1.1436, val_acc:54.55%\n",
            " Epoch 155: iteration 106/107\n",
            "Epoch 155 --> loss:0.4674, acc:84.68%, val_loss:1.0799, val_acc:56.64%\n",
            " Epoch 156: iteration 106/107\n",
            "Epoch 156 --> loss:0.4591, acc:85.15%, val_loss:1.0760, val_acc:62.24%\n",
            " Epoch 157: iteration 106/107\n",
            "Epoch 157 --> loss:0.4478, acc:85.61%, val_loss:1.0941, val_acc:55.24%\n",
            " Epoch 158: iteration 106/107\n",
            "Epoch 158 --> loss:0.4088, acc:87.33%, val_loss:1.1311, val_acc:56.64%\n",
            " Epoch 159: iteration 106/107\n",
            "Epoch 159 --> loss:0.4218, acc:86.05%, val_loss:1.1618, val_acc:55.24%\n",
            " Epoch 160: iteration 106/107\n",
            "Epoch 160 --> loss:0.4185, acc:86.11%, val_loss:1.2590, val_acc:51.05%\n",
            " Epoch 161: iteration 106/107\n",
            "Epoch 161 --> loss:0.3754, acc:88.58%, val_loss:1.1406, val_acc:54.55%\n",
            " Epoch 162: iteration 106/107\n",
            "Epoch 162 --> loss:0.4042, acc:87.24%, val_loss:1.1706, val_acc:61.54%\n",
            " Epoch 163: iteration 106/107\n",
            "Epoch 163 --> loss:0.3858, acc:87.85%, val_loss:1.1429, val_acc:60.14%\n",
            " Epoch 164: iteration 106/107\n",
            "Epoch 164 --> loss:0.3996, acc:87.10%, val_loss:1.0991, val_acc:55.24%\n",
            " Epoch 165: iteration 106/107\n",
            "Epoch 165 --> loss:0.3662, acc:88.87%, val_loss:1.1794, val_acc:53.85%\n",
            " Epoch 166: iteration 106/107\n",
            "Epoch 166 --> loss:0.3560, acc:88.75%, val_loss:1.1495, val_acc:60.84%\n",
            " Epoch 167: iteration 106/107\n",
            "Epoch 167 --> loss:0.3657, acc:88.90%, val_loss:1.1268, val_acc:60.14%\n",
            " Epoch 168: iteration 106/107\n",
            "Epoch 168 --> loss:0.3559, acc:89.54%, val_loss:1.1953, val_acc:54.55%\n",
            " Epoch 169: iteration 106/107\n",
            "Epoch 169 --> loss:0.3489, acc:89.68%, val_loss:1.2294, val_acc:58.74%\n",
            " Epoch 170: iteration 106/107\n",
            "Epoch 170 --> loss:0.3744, acc:88.06%, val_loss:1.1222, val_acc:59.44%\n",
            " Epoch 171: iteration 106/107\n",
            "Epoch 171 --> loss:0.3188, acc:90.41%, val_loss:1.0846, val_acc:58.74%\n",
            " Epoch 172: iteration 106/107\n",
            "Epoch 172 --> loss:0.3112, acc:90.41%, val_loss:1.0103, val_acc:58.04%\n",
            " Epoch 173: iteration 106/107\n",
            "Epoch 173 --> loss:0.3303, acc:89.74%, val_loss:1.1638, val_acc:53.85%\n",
            " Epoch 174: iteration 106/107\n",
            "Epoch 174 --> loss:0.3137, acc:90.56%, val_loss:1.0760, val_acc:59.44%\n",
            " Epoch 175: iteration 106/107\n",
            "Epoch 175 --> loss:0.3028, acc:90.90%, val_loss:1.2309, val_acc:58.74%\n",
            " Epoch 176: iteration 106/107\n",
            "Epoch 176 --> loss:0.3100, acc:90.53%, val_loss:1.1690, val_acc:54.55%\n",
            " Epoch 177: iteration 106/107\n",
            "Epoch 177 --> loss:0.3061, acc:90.58%, val_loss:1.0837, val_acc:56.64%\n",
            " Epoch 178: iteration 106/107\n",
            "Epoch 178 --> loss:0.3082, acc:90.76%, val_loss:1.2257, val_acc:53.85%\n",
            " Epoch 179: iteration 106/107\n",
            "Epoch 179 --> loss:0.2957, acc:90.76%, val_loss:1.0423, val_acc:59.44%\n",
            " Epoch 180: iteration 106/107\n",
            "Epoch 180 --> loss:0.2828, acc:91.78%, val_loss:1.1525, val_acc:55.24%\n",
            " Epoch 181: iteration 106/107\n",
            "Epoch 181 --> loss:0.2906, acc:91.51%, val_loss:1.2011, val_acc:55.94%\n",
            " Epoch 182: iteration 106/107\n",
            "Epoch 182 --> loss:0.2878, acc:91.31%, val_loss:1.0565, val_acc:61.54%\n",
            " Epoch 183: iteration 106/107\n",
            "Epoch 183 --> loss:0.2947, acc:90.67%, val_loss:1.1046, val_acc:58.04%\n",
            " Epoch 184: iteration 106/107\n",
            "Epoch 184 --> loss:0.2926, acc:90.96%, val_loss:1.1180, val_acc:60.14%\n",
            " Epoch 185: iteration 106/107\n",
            "Epoch 185 --> loss:0.2987, acc:90.58%, val_loss:1.1065, val_acc:60.84%\n",
            " Epoch 186: iteration 106/107\n",
            "Epoch 186 --> loss:0.2870, acc:90.79%, val_loss:1.1023, val_acc:59.44%\n",
            " Epoch 187: iteration 106/107\n",
            "Epoch 187 --> loss:0.2706, acc:91.98%, val_loss:1.1995, val_acc:56.64%\n",
            " Epoch 188: iteration 106/107\n",
            "Epoch 188 --> loss:0.2719, acc:91.51%, val_loss:1.1087, val_acc:60.14%\n",
            " Epoch 189: iteration 106/107\n",
            "Epoch 189 --> loss:0.2655, acc:91.75%, val_loss:1.2130, val_acc:60.14%\n",
            " Epoch 190: iteration 106/107\n",
            "Epoch 190 --> loss:0.2651, acc:92.21%, val_loss:1.0659, val_acc:58.04%\n",
            " Epoch 191: iteration 106/107\n",
            "Epoch 191 --> loss:0.2390, acc:93.00%, val_loss:1.0922, val_acc:58.04%\n",
            " Epoch 192: iteration 106/107\n",
            "Epoch 192 --> loss:0.2469, acc:92.82%, val_loss:1.1222, val_acc:52.45%\n",
            " Epoch 193: iteration 106/107\n",
            "Epoch 193 --> loss:0.2319, acc:93.20%, val_loss:1.1495, val_acc:54.55%\n",
            " Epoch 194: iteration 106/107\n",
            "Epoch 194 --> loss:0.2424, acc:92.88%, val_loss:1.2569, val_acc:53.15%\n",
            " Epoch 195: iteration 106/107\n",
            "Epoch 195 --> loss:0.2483, acc:92.15%, val_loss:1.0793, val_acc:60.14%\n",
            " Epoch 196: iteration 106/107\n",
            "Epoch 196 --> loss:0.2365, acc:92.50%, val_loss:1.0877, val_acc:62.24%\n",
            " Epoch 197: iteration 106/107\n",
            "Epoch 197 --> loss:0.2505, acc:92.53%, val_loss:1.2425, val_acc:55.94%\n",
            " Epoch 198: iteration 106/107\n",
            "Epoch 198 --> loss:0.2380, acc:92.59%, val_loss:1.2592, val_acc:55.94%\n",
            " Epoch 199: iteration 106/107\n",
            "Epoch 199 --> loss:0.2455, acc:92.71%, val_loss:1.1631, val_acc:55.94%\n"
          ]
        }
      ]
    },
    {
      "cell_type": "code",
      "source": [
        "SAVE_PATH = os.path.join(os.getcwd(),'models')\n",
        "os.makedirs('models',exist_ok=True)\n",
        "torch.save(model.state_dict(),os.path.join(SAVE_PATH,'cnn_attention_lstm_model.pt'))\n",
        "print('Model is saved to {}'.format(os.path.join(SAVE_PATH,'cnn_attention_lstm_model.pt')))"
      ],
      "metadata": {
        "id": "zGxs-9CQBiND",
        "outputId": "05163738-65fc-4a74-f631-6380a2bd4023",
        "colab": {
          "base_uri": "https://localhost:8080/"
        }
      },
      "execution_count": null,
      "outputs": [
        {
          "output_type": "stream",
          "name": "stdout",
          "text": [
            "Model is saved to /content/models/cnn_attention_lstm_model.pt\n"
          ]
        }
      ]
    },
    {
      "cell_type": "code",
      "source": [
        "LOAD_PATH = os.path.join(os.getcwd(),'models')\n",
        "model = HybridModel(len(EMOTIONS))\n",
        "model.load_state_dict(torch.load(os.path.join(LOAD_PATH,'cnn_attention_lstm_model.pt')))\n",
        "print('Model is loaded from {}'.format(os.path.join(LOAD_PATH,'cnn_attention_lstm_model.pt')))"
      ],
      "metadata": {
        "id": "FaBJUwrKU_rp",
        "outputId": "1e87bc99-6ff5-44e4-ba17-2688323cce55",
        "colab": {
          "base_uri": "https://localhost:8080/"
        }
      },
      "execution_count": null,
      "outputs": [
        {
          "output_type": "stream",
          "name": "stdout",
          "text": [
            "Model is loaded from /content/models/cnn_attention_lstm_model.pt\n"
          ]
        }
      ]
    },
    {
      "cell_type": "code",
      "source": [
        "X_test_tensor = torch.tensor(X_test,device=device).float()\n",
        "Y_test_tensor = torch.tensor(Y_test,dtype=torch.long,device=device)\n",
        "test_loss, test_acc, predictions = validate(X_test_tensor,Y_test_tensor)\n",
        "print(f'Test loss is {test_loss:.3f}')\n",
        "print(f'Test accuracy is {test_acc:.2f}%')"
      ],
      "metadata": {
        "id": "S0deu1ftVCho",
        "outputId": "3bded3b4-98bb-480d-8a8f-d52fd0c4bf35",
        "colab": {
          "base_uri": "https://localhost:8080/"
        }
      },
      "execution_count": null,
      "outputs": [
        {
          "output_type": "stream",
          "name": "stdout",
          "text": [
            "Test loss is 1.140\n",
            "Test accuracy is 61.33%\n"
          ]
        }
      ]
    },
    {
      "cell_type": "code",
      "source": [
        "from sklearn.metrics import confusion_matrix\n",
        "import seaborn as sn\n",
        "\n",
        "predictions = predictions.cpu().numpy()\n",
        "cm = confusion_matrix(Y_test, predictions)\n",
        "names = [EMOTIONS[ind] for ind in range(len(EMOTIONS))]\n",
        "df_cm = pd.DataFrame(cm, index=names, columns=names)\n",
        "# plt.figure(figsize=(10,7))\n",
        "sn.set(font_scale=1.4) # for label size\n",
        "sn.heatmap(df_cm, annot=True, annot_kws={\"size\": 16}) # font size\n",
        "plt.show()"
      ],
      "metadata": {
        "id": "iC-cte1nVNZQ",
        "outputId": "cf25b170-e167-420c-da1e-4f1e0a05449e",
        "colab": {
          "base_uri": "https://localhost:8080/",
          "height": 320
        }
      },
      "execution_count": null,
      "outputs": [
        {
          "output_type": "display_data",
          "data": {
            "image/png": "[encoded data removed]",
            "text/plain": [
              "<Figure size 432x288 with 2 Axes>"
            ]
          },
          "metadata": {}
        }
      ]
    },
    {
      "cell_type": "code",
      "source": [
        "correct_strong = 0\n",
        "correct_normal = 0\n",
        "wrong_strong = 0\n",
        "wrong_normal = 0\n",
        "for i in range(len(X_test)):\n",
        "    intensity = data.loc[test_ind[i],'Emotion intensity']\n",
        "    if Y_test[i] == predictions[i]: # correct prediction\n",
        "        if  intensity == 'normal':\n",
        "            correct_normal += 1\n",
        "        else:\n",
        "            correct_strong += 1\n",
        "    else: # wrong prediction\n",
        "        if intensity == 'normal':\n",
        "            wrong_normal += 1\n",
        "        else:\n",
        "            wrong_strong += 1\n",
        "array = np.array([[wrong_normal,wrong_strong],[correct_normal,correct_strong]])\n",
        "df = pd.DataFrame(array,['wrong','correct'],['normal','strong'])\n",
        "sn.set(font_scale=1.4) # for label size\n",
        "sn.heatmap(df, annot=True, annot_kws={\"size\": 16}) # font size\n",
        "plt.show()"
      ],
      "metadata": {
        "id": "LhDv3H1nVPNo",
        "outputId": "339d3ac3-5010-4f70-d5f2-5b698fbcf491",
        "colab": {
          "base_uri": "https://localhost:8080/",
          "height": 273
        }
      },
      "execution_count": null,
      "outputs": [
        {
          "output_type": "display_data",
          "data": {
            "image/png": "[encoded data removed]",
            "text/plain": [
              "<Figure size 432x288 with 2 Axes>"
            ]
          },
          "metadata": {}
        }
      ]
    },
    {
      "cell_type": "code",
      "source": [
        "correct_male = 0\n",
        "correct_female = 0\n",
        "wrong_male = 0\n",
        "wrong_female = 0\n",
        "for i in range(len(X_test)):\n",
        "    gender = data.loc[test_ind[i],'Gender']\n",
        "    if Y_test[i] == predictions[i]: # correct prediction\n",
        "        if  gender == 'male':\n",
        "            correct_male += 1\n",
        "        else:\n",
        "            correct_female += 1\n",
        "    else: # wrong prediction\n",
        "        if gender == 'male':\n",
        "            wrong_male += 1\n",
        "        else:\n",
        "            wrong_female += 1\n",
        "array = np.array([[wrong_male,wrong_female],[correct_male,correct_female]])\n",
        "df = pd.DataFrame(array,['wrong','correct'],['male','female'])\n",
        "sn.set(font_scale=1.4) # for label size\n",
        "sn.heatmap(df, annot=True, annot_kws={\"size\": 16}) # font size\n",
        "plt.show()"
      ],
      "metadata": {
        "id": "W8HSRQ1-VRMg",
        "outputId": "d853e2fb-178d-4a06-b7b1-855a5dec6aa0",
        "colab": {
          "base_uri": "https://localhost:8080/",
          "height": 273
        }
      },
      "execution_count": null,
      "outputs": [
        {
          "output_type": "display_data",
          "data": {
            "image/png": "[encoded data removed]",
            "text/plain": [
              "<Figure size 432x288 with 2 Axes>"
            ]
          },
          "metadata": {}
        }
      ]
    },
    {
      "cell_type": "code",
      "source": [
        "plt.plot(losses,'b')\n",
        "plt.plot(val_losses,'r')\n",
        "plt.legend(['train loss','val loss'])"
      ],
      "metadata": {
        "id": "0tTNWKYBVTeR",
        "outputId": "a0ae20b1-d8d9-449a-f7bb-6418e28b5d78",
        "colab": {
          "base_uri": "https://localhost:8080/",
          "height": 290
        }
      },
      "execution_count": null,
      "outputs": [
        {
          "output_type": "execute_result",
          "data": {
            "text/plain": [
              "<matplotlib.legend.Legend at 0x7f658e39ad50>"
            ]
          },
          "metadata": {},
          "execution_count": 28
        },
        {
          "output_type": "display_data",
          "data": {
            "image/png": "[encoded data removed]",
            "text/plain": [
              "<Figure size 432x288 with 1 Axes>"
            ]
          },
          "metadata": {}
        }
      ]
    }
  ]
}