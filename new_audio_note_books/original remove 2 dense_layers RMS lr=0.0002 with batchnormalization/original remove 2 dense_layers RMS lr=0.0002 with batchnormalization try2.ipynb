{
  "nbformat": 4,
  "nbformat_minor": 0,
  "metadata": {
    "colab": {
      "name": "original_remove_2_dense_layers_RMS_lr=0_0002_try_3.ipynb",
      "provenance": [],
      "collapsed_sections": []
    },
    "kernelspec": {
      "name": "python3",
      "display_name": "Python 3"
    },
    "language_info": {
      "name": "python"
    },
    "accelerator": "TPU"
  },
  "cells": [
    {
      "cell_type": "code",
      "execution_count": 1,
      "metadata": {
        "colab": {
          "base_uri": "https://localhost:8080/"
        },
        "id": "9SRCO-a_AlH5",
        "outputId": "e459dce2-9f64-42f6-9f6a-b222a66697dd"
      },
      "outputs": [
        {
          "output_type": "stream",
          "name": "stdout",
          "text": [
            "Drive already mounted at /content/drive; to attempt to forcibly remount, call drive.mount(\"/content/drive\", force_remount=True).\n"
          ]
        }
      ],
      "source": [
        "from google.colab import drive\n",
        "drive.mount('/content/drive')"
      ]
    },
    {
      "cell_type": "code",
      "source": [
        "!pip install librosa"
      ],
      "metadata": {
        "colab": {
          "base_uri": "https://localhost:8080/"
        },
        "id": "5Lo4mUwG9RMd",
        "outputId": "1e77696e-fdd4-4b48-e95b-b210d7eb01a6"
      },
      "execution_count": 2,
      "outputs": [
        {
          "output_type": "stream",
          "name": "stdout",
          "text": [
            "Looking in indexes: https://pypi.org/simple, https://us-python.pkg.dev/colab-wheels/public/simple/\n",
            "Requirement already satisfied: librosa in /usr/local/lib/python3.7/dist-packages (0.8.1)\n",
            "Requirement already satisfied: joblib>=0.14 in /usr/local/lib/python3.7/dist-packages (from librosa) (1.1.0)\n",
            "Requirement already satisfied: audioread>=2.0.0 in /usr/local/lib/python3.7/dist-packages (from librosa) (2.1.9)\n",
            "Requirement already satisfied: decorator>=3.0.0 in /usr/local/lib/python3.7/dist-packages (from librosa) (4.4.2)\n",
            "Requirement already satisfied: scikit-learn!=0.19.0,>=0.14.0 in /usr/local/lib/python3.7/dist-packages (from librosa) (1.0.2)\n",
            "Requirement already satisfied: numba>=0.43.0 in /usr/local/lib/python3.7/dist-packages (from librosa) (0.51.2)\n",
            "Requirement already satisfied: soundfile>=0.10.2 in /usr/local/lib/python3.7/dist-packages (from librosa) (0.10.3.post1)\n",
            "Requirement already satisfied: resampy>=0.2.2 in /usr/local/lib/python3.7/dist-packages (from librosa) (0.2.2)\n",
            "Requirement already satisfied: numpy>=1.15.0 in /usr/local/lib/python3.7/dist-packages (from librosa) (1.21.6)\n",
            "Requirement already satisfied: packaging>=20.0 in /usr/local/lib/python3.7/dist-packages (from librosa) (21.3)\n",
            "Requirement already satisfied: pooch>=1.0 in /usr/local/lib/python3.7/dist-packages (from librosa) (1.6.0)\n",
            "Requirement already satisfied: scipy>=1.0.0 in /usr/local/lib/python3.7/dist-packages (from librosa) (1.4.1)\n",
            "Requirement already satisfied: setuptools in /usr/local/lib/python3.7/dist-packages (from numba>=0.43.0->librosa) (57.4.0)\n",
            "Requirement already satisfied: llvmlite<0.35,>=0.34.0.dev0 in /usr/local/lib/python3.7/dist-packages (from numba>=0.43.0->librosa) (0.34.0)\n",
            "Requirement already satisfied: pyparsing!=3.0.5,>=2.0.2 in /usr/local/lib/python3.7/dist-packages (from packaging>=20.0->librosa) (3.0.9)\n",
            "Requirement already satisfied: appdirs>=1.3.0 in /usr/local/lib/python3.7/dist-packages (from pooch>=1.0->librosa) (1.4.4)\n",
            "Requirement already satisfied: requests>=2.19.0 in /usr/local/lib/python3.7/dist-packages (from pooch>=1.0->librosa) (2.23.0)\n",
            "Requirement already satisfied: idna<3,>=2.5 in /usr/local/lib/python3.7/dist-packages (from requests>=2.19.0->pooch>=1.0->librosa) (2.10)\n",
            "Requirement already satisfied: certifi>=2017.4.17 in /usr/local/lib/python3.7/dist-packages (from requests>=2.19.0->pooch>=1.0->librosa) (2022.5.18.1)\n",
            "Requirement already satisfied: chardet<4,>=3.0.2 in /usr/local/lib/python3.7/dist-packages (from requests>=2.19.0->pooch>=1.0->librosa) (3.0.4)\n",
            "Requirement already satisfied: urllib3!=1.25.0,!=1.25.1,<1.26,>=1.21.1 in /usr/local/lib/python3.7/dist-packages (from requests>=2.19.0->pooch>=1.0->librosa) (1.24.3)\n",
            "Requirement already satisfied: six>=1.3 in /usr/local/lib/python3.7/dist-packages (from resampy>=0.2.2->librosa) (1.15.0)\n",
            "Requirement already satisfied: threadpoolctl>=2.0.0 in /usr/local/lib/python3.7/dist-packages (from scikit-learn!=0.19.0,>=0.14.0->librosa) (3.1.0)\n",
            "Requirement already satisfied: cffi>=1.0 in /usr/local/lib/python3.7/dist-packages (from soundfile>=0.10.2->librosa) (1.15.0)\n",
            "Requirement already satisfied: pycparser in /usr/local/lib/python3.7/dist-packages (from cffi>=1.0->soundfile>=0.10.2->librosa) (2.21)\n"
          ]
        }
      ]
    },
    {
      "cell_type": "code",
      "metadata": {
        "id": "HJjcbxwy46bG",
        "colab": {
          "base_uri": "https://localhost:8080/",
          "height": 17
        },
        "outputId": "2a46e42a-af36-4d25-8aae-efdc6918d574"
      },
      "source": [
        "# Orignial Notebook: https://github.com/MITESHPUTHRANNEU/Speech-Emotion-Analyzer/blob/master/final_results_gender_test.ipynb\n",
        "# This notebook author: Reza Chu\n",
        "# Last Editing Date: 31st May 2019\n",
        "\n",
        "## Python\n",
        "import os\n",
        "import random\n",
        "import sys\n",
        "\n",
        "import IPython\n",
        "from IPython.display import Audio\n",
        "from IPython.display import Image\n",
        "import matplotlib.pyplot as plt\n",
        "\n",
        "## Package\n",
        "import glob \n",
        "import keras\n",
        "import IPython.display as ipd\n",
        "import librosa\n",
        "import librosa.display\n",
        "import matplotlib.pyplot as plt\n",
        "import numpy as np\n",
        "import pandas as pd\n",
        "import plotly.graph_objs as go\n",
        "import plotly.offline as py\n",
        "import plotly.tools as tls\n",
        "import seaborn as sns\n",
        "import scipy.io.wavfile\n",
        "import tensorflow as tf\n",
        "py.init_notebook_mode(connected=True)\n",
        "\n",
        "## Keras\n",
        "from keras import regularizers\n",
        "from keras.callbacks import ModelCheckpoint, LearningRateScheduler, EarlyStopping\n",
        "from keras.callbacks import  History, ReduceLROnPlateau, CSVLogger\n",
        "from keras.models import Model, Sequential\n",
        "from keras.layers import Dense, Embedding, LSTM\n",
        "from keras.layers import Input, Flatten, Dropout, Activation, BatchNormalization\n",
        "from keras.layers import Conv1D, MaxPooling1D, AveragePooling1D\n",
        "from keras.preprocessing import sequence\n",
        "from keras.preprocessing.sequence import pad_sequences\n",
        "from keras.preprocessing.text import Tokenizer\n",
        "from keras.utils import np_utils\n",
        "from tensorflow.keras.utils import to_categorical\n",
        "\n",
        "## Sklearn\n",
        "from sklearn.metrics import confusion_matrix\n",
        "from sklearn.preprocessing import LabelEncoder\n",
        "\n",
        "## Rest\n",
        "from scipy.fftpack import fft\n",
        "from scipy import signal\n",
        "from scipy.io import wavfile\n",
        "from tqdm import tqdm\n",
        "\n",
        "input_duration=3\n",
        "# % pylab inline"
      ],
      "execution_count": 3,
      "outputs": [
        {
          "output_type": "display_data",
          "data": {
            "text/html": [
              "        <script type=\"text/javascript\">\n",
              "        window.PlotlyConfig = {MathJaxConfig: 'local'};\n",
              "        if (window.MathJax) {MathJax.Hub.Config({SVG: {font: \"STIX-Web\"}});}\n",
              "        if (typeof require !== 'undefined') {\n",
              "        require.undef(\"plotly\");\n",
              "        requirejs.config({\n",
              "            paths: {\n",
              "                'plotly': ['https://cdn.plot.ly/plotly-2.8.3.min']\n",
              "            }\n",
              "        });\n",
              "        require(['plotly'], function(Plotly) {\n",
              "            window._Plotly = Plotly;\n",
              "        });\n",
              "        }\n",
              "        </script>\n",
              "        "
            ]
          },
          "metadata": {}
        }
      ]
    },
    {
      "cell_type": "code",
      "source": [
        "# # Saving joblib files to not load them again with the loop above\n",
        "\n",
        "# import joblib\n",
        "\n",
        "# X_name = 'x.joblib'\n",
        "# y_name = 'y.joblib'\n",
        "# save_dir = '/content/drive/My Drive/graduation project/audio/paper_code/features'\n",
        "\n",
        "# savedX = joblib.dump(X, os.path.join(save_dir, X_name))\n",
        "# savedy = joblib.dump(y, os.path.join(save_dir, y_name))"
      ],
      "metadata": {
        "id": "UCzic8rlDcuk"
      },
      "execution_count": 4,
      "outputs": []
    },
    {
      "cell_type": "code",
      "source": [
        "# # Loading saved models\n",
        "import joblib\n",
        "X = joblib.load('/content/drive/My Drive/graduation project/audio/paper_code/features/x.joblib')\n",
        "y = joblib.load('/content/drive/My Drive/graduation project/audio/paper_code/features/y.joblib')"
      ],
      "metadata": {
        "id": "Q35CN6zDrzg1"
      },
      "execution_count": 5,
      "outputs": []
    },
    {
      "cell_type": "code",
      "source": [
        "X.shape"
      ],
      "metadata": {
        "id": "7PSTurzjCo5K",
        "colab": {
          "base_uri": "https://localhost:8080/"
        },
        "outputId": "299a7841-c108-4c07-f074-c86593617a09"
      },
      "execution_count": 6,
      "outputs": [
        {
          "output_type": "execute_result",
          "data": {
            "text/plain": [
              "(2068, 40)"
            ]
          },
          "metadata": {},
          "execution_count": 6
        }
      ]
    },
    {
      "cell_type": "code",
      "source": [
        "from sklearn.model_selection import train_test_split\n",
        "\n",
        "X_train, X_test, y_train, y_test = train_test_split(X,y, test_size=0.1 ,shuffle = True\n",
        "                                                    , random_state=42)\n",
        "X_train , X_valid, y_train, y_valid = train_test_split(X_train,y_train, test_size=0.1112305212 , shuffle = True \n",
        "                                                       , random_state=42)"
      ],
      "metadata": {
        "id": "Ai4Fy5cPCiq1"
      },
      "execution_count": 7,
      "outputs": []
    },
    {
      "cell_type": "code",
      "source": [
        "import numpy as np\n",
        "x_traincnn = np.expand_dims(X_train, axis=2)\n",
        "x_testcnn = np.expand_dims(X_test, axis=2)\n",
        "X_valid= np.expand_dims(X_valid, axis=2)"
      ],
      "metadata": {
        "id": "tp1Fm5K3CEXu"
      },
      "execution_count": 8,
      "outputs": []
    },
    {
      "cell_type": "code",
      "source": [
        "x_traincnn.shape, x_testcnn.shape , X_valid.shape\n",
        "#1861"
      ],
      "metadata": {
        "id": "RI0MxoIPBws5",
        "colab": {
          "base_uri": "https://localhost:8080/"
        },
        "outputId": "116bfa8f-bc3b-491a-a0f6-2b1fd47cb220"
      },
      "execution_count": 9,
      "outputs": [
        {
          "output_type": "execute_result",
          "data": {
            "text/plain": [
              "((1654, 40, 1), (207, 40, 1), (207, 40, 1))"
            ]
          },
          "metadata": {},
          "execution_count": 9
        }
      ]
    },
    {
      "cell_type": "code",
      "source": [
        "!pip install tensorflow"
      ],
      "metadata": {
        "id": "oALhiMUd9G2Y",
        "colab": {
          "base_uri": "https://localhost:8080/"
        },
        "outputId": "3c0a0c87-48bb-47ac-ee11-f96997b4e6fe"
      },
      "execution_count": 10,
      "outputs": [
        {
          "output_type": "stream",
          "name": "stdout",
          "text": [
            "Looking in indexes: https://pypi.org/simple, https://us-python.pkg.dev/colab-wheels/public/simple/\n",
            "Requirement already satisfied: tensorflow in /usr/local/lib/python3.7/dist-packages (2.8.2+zzzcolab20220527125636)\n",
            "Requirement already satisfied: tensorflow-estimator<2.9,>=2.8 in /usr/local/lib/python3.7/dist-packages (from tensorflow) (2.8.0)\n",
            "Requirement already satisfied: google-pasta>=0.1.1 in /usr/local/lib/python3.7/dist-packages (from tensorflow) (0.2.0)\n",
            "Requirement already satisfied: absl-py>=0.4.0 in /usr/local/lib/python3.7/dist-packages (from tensorflow) (1.0.0)\n",
            "Requirement already satisfied: numpy>=1.20 in /usr/local/lib/python3.7/dist-packages (from tensorflow) (1.21.6)\n",
            "Requirement already satisfied: h5py>=2.9.0 in /usr/local/lib/python3.7/dist-packages (from tensorflow) (3.1.0)\n",
            "Requirement already satisfied: wrapt>=1.11.0 in /usr/local/lib/python3.7/dist-packages (from tensorflow) (1.14.1)\n",
            "Requirement already satisfied: keras<2.9,>=2.8.0rc0 in /usr/local/lib/python3.7/dist-packages (from tensorflow) (2.8.0)\n",
            "Requirement already satisfied: tensorflow-io-gcs-filesystem>=0.23.1 in /usr/local/lib/python3.7/dist-packages (from tensorflow) (0.26.0)\n",
            "Requirement already satisfied: opt-einsum>=2.3.2 in /usr/local/lib/python3.7/dist-packages (from tensorflow) (3.3.0)\n",
            "Requirement already satisfied: grpcio<2.0,>=1.24.3 in /usr/local/lib/python3.7/dist-packages (from tensorflow) (1.46.3)\n",
            "Requirement already satisfied: setuptools in /usr/local/lib/python3.7/dist-packages (from tensorflow) (57.4.0)\n",
            "Requirement already satisfied: astunparse>=1.6.0 in /usr/local/lib/python3.7/dist-packages (from tensorflow) (1.6.3)\n",
            "Requirement already satisfied: termcolor>=1.1.0 in /usr/local/lib/python3.7/dist-packages (from tensorflow) (1.1.0)\n",
            "Requirement already satisfied: gast>=0.2.1 in /usr/local/lib/python3.7/dist-packages (from tensorflow) (0.5.3)\n",
            "Requirement already satisfied: protobuf<3.20,>=3.9.2 in /usr/local/lib/python3.7/dist-packages (from tensorflow) (3.17.3)\n",
            "Requirement already satisfied: six>=1.12.0 in /usr/local/lib/python3.7/dist-packages (from tensorflow) (1.15.0)\n",
            "Requirement already satisfied: libclang>=9.0.1 in /usr/local/lib/python3.7/dist-packages (from tensorflow) (14.0.1)\n",
            "Requirement already satisfied: keras-preprocessing>=1.1.1 in /usr/local/lib/python3.7/dist-packages (from tensorflow) (1.1.2)\n",
            "Requirement already satisfied: flatbuffers>=1.12 in /usr/local/lib/python3.7/dist-packages (from tensorflow) (2.0)\n",
            "Requirement already satisfied: tensorboard<2.9,>=2.8 in /usr/local/lib/python3.7/dist-packages (from tensorflow) (2.8.0)\n",
            "Requirement already satisfied: typing-extensions>=3.6.6 in /usr/local/lib/python3.7/dist-packages (from tensorflow) (4.2.0)\n",
            "Requirement already satisfied: wheel<1.0,>=0.23.0 in /usr/local/lib/python3.7/dist-packages (from astunparse>=1.6.0->tensorflow) (0.37.1)\n",
            "Requirement already satisfied: cached-property in /usr/local/lib/python3.7/dist-packages (from h5py>=2.9.0->tensorflow) (1.5.2)\n",
            "Requirement already satisfied: markdown>=2.6.8 in /usr/local/lib/python3.7/dist-packages (from tensorboard<2.9,>=2.8->tensorflow) (3.3.7)\n",
            "Requirement already satisfied: google-auth-oauthlib<0.5,>=0.4.1 in /usr/local/lib/python3.7/dist-packages (from tensorboard<2.9,>=2.8->tensorflow) (0.4.6)\n",
            "Requirement already satisfied: requests<3,>=2.21.0 in /usr/local/lib/python3.7/dist-packages (from tensorboard<2.9,>=2.8->tensorflow) (2.23.0)\n",
            "Requirement already satisfied: tensorboard-data-server<0.7.0,>=0.6.0 in /usr/local/lib/python3.7/dist-packages (from tensorboard<2.9,>=2.8->tensorflow) (0.6.1)\n",
            "Requirement already satisfied: tensorboard-plugin-wit>=1.6.0 in /usr/local/lib/python3.7/dist-packages (from tensorboard<2.9,>=2.8->tensorflow) (1.8.1)\n",
            "Requirement already satisfied: google-auth<3,>=1.6.3 in /usr/local/lib/python3.7/dist-packages (from tensorboard<2.9,>=2.8->tensorflow) (1.35.0)\n",
            "Requirement already satisfied: werkzeug>=0.11.15 in /usr/local/lib/python3.7/dist-packages (from tensorboard<2.9,>=2.8->tensorflow) (1.0.1)\n",
            "Requirement already satisfied: pyasn1-modules>=0.2.1 in /usr/local/lib/python3.7/dist-packages (from google-auth<3,>=1.6.3->tensorboard<2.9,>=2.8->tensorflow) (0.2.8)\n",
            "Requirement already satisfied: rsa<5,>=3.1.4 in /usr/local/lib/python3.7/dist-packages (from google-auth<3,>=1.6.3->tensorboard<2.9,>=2.8->tensorflow) (4.8)\n",
            "Requirement already satisfied: cachetools<5.0,>=2.0.0 in /usr/local/lib/python3.7/dist-packages (from google-auth<3,>=1.6.3->tensorboard<2.9,>=2.8->tensorflow) (4.2.4)\n",
            "Requirement already satisfied: requests-oauthlib>=0.7.0 in /usr/local/lib/python3.7/dist-packages (from google-auth-oauthlib<0.5,>=0.4.1->tensorboard<2.9,>=2.8->tensorflow) (1.3.1)\n",
            "Requirement already satisfied: importlib-metadata>=4.4 in /usr/local/lib/python3.7/dist-packages (from markdown>=2.6.8->tensorboard<2.9,>=2.8->tensorflow) (4.11.4)\n",
            "Requirement already satisfied: zipp>=0.5 in /usr/local/lib/python3.7/dist-packages (from importlib-metadata>=4.4->markdown>=2.6.8->tensorboard<2.9,>=2.8->tensorflow) (3.8.0)\n",
            "Requirement already satisfied: pyasn1<0.5.0,>=0.4.6 in /usr/local/lib/python3.7/dist-packages (from pyasn1-modules>=0.2.1->google-auth<3,>=1.6.3->tensorboard<2.9,>=2.8->tensorflow) (0.4.8)\n",
            "Requirement already satisfied: urllib3!=1.25.0,!=1.25.1,<1.26,>=1.21.1 in /usr/local/lib/python3.7/dist-packages (from requests<3,>=2.21.0->tensorboard<2.9,>=2.8->tensorflow) (1.24.3)\n",
            "Requirement already satisfied: chardet<4,>=3.0.2 in /usr/local/lib/python3.7/dist-packages (from requests<3,>=2.21.0->tensorboard<2.9,>=2.8->tensorflow) (3.0.4)\n",
            "Requirement already satisfied: certifi>=2017.4.17 in /usr/local/lib/python3.7/dist-packages (from requests<3,>=2.21.0->tensorboard<2.9,>=2.8->tensorflow) (2022.5.18.1)\n",
            "Requirement already satisfied: idna<3,>=2.5 in /usr/local/lib/python3.7/dist-packages (from requests<3,>=2.21.0->tensorboard<2.9,>=2.8->tensorflow) (2.10)\n",
            "Requirement already satisfied: oauthlib>=3.0.0 in /usr/local/lib/python3.7/dist-packages (from requests-oauthlib>=0.7.0->google-auth-oauthlib<0.5,>=0.4.1->tensorboard<2.9,>=2.8->tensorflow) (3.2.0)\n"
          ]
        }
      ]
    },
    {
      "cell_type": "code",
      "source": [
        "import keras\n",
        "import numpy as np\n",
        "import matplotlib.pyplot as plt\n",
        "import tensorflow as tf\n",
        "from keras.preprocessing import sequence\n",
        "from keras.models import Sequential\n",
        "from keras.layers import Dense, Embedding\n",
        "from tensorflow.keras.utils import to_categorical\n",
        "from keras.layers import Input, Flatten, Dropout, Activation\n",
        "from keras.layers import Conv1D, MaxPooling1D\n",
        "from keras.models import Model\n",
        "from keras.callbacks import ModelCheckpoint\n",
        "from tensorflow.keras import optimizers\n",
        "from keras.models import InputLayer\n",
        "\n",
        "model = Sequential(InputLayer((40,1)))\n",
        "model.add(BatchNormalization())\n",
        "\n",
        "model.add(Conv1D(128, 8,padding='same', #classifier.add(Convolution2D(64, (3, 3), padding = 'same', input_shape = (128, 128, 3), activation = 'relu'))\n",
        "                 ))\n",
        "model.add(BatchNormalization())\n",
        "model.add(Activation('relu'))\n",
        "model.add(Dropout(0.3))\n",
        "model.add(MaxPooling1D(pool_size=(5)))\n",
        "\n",
        "\n",
        "model.add(Conv1D(256,8,padding='same',))\n",
        "model.add(BatchNormalization())\n",
        "model.add(Activation('relu'))\n",
        "model.add(Dropout(0.3))\n",
        "model.add(MaxPooling1D(pool_size=(5)))\n",
        "\n",
        "#model.add(MaxPooling1D(pool_size=(5)))\n",
        "\n",
        "model.add(Flatten())\n",
        "\n",
        "\n",
        "\n",
        "model.add(Dense(6))\n",
        "model.add(Activation('softmax'))\n",
        "\n",
        "\n",
        "opt = tf.keras.optimizers.RMSprop(lr=0.0002 , decay=0.0)\n",
        "#opt = tf.keras.optimizers.Adam(lr=0.0002 , decay=0.0)\n",
        "#opt = tf.keras.optimizers.RMSprop(lr=0.0001, rho=0.9, epsilon=1e-07, decay=0.0)\n",
        "#opt = tf.keras.optimizers.SGD(lr=0.001, momentum=0.0, decay=0.0, nesterov=False)"
      ],
      "metadata": {
        "id": "g74fXWVAC4Cr",
        "colab": {
          "base_uri": "https://localhost:8080/"
        },
        "outputId": "05679172-d09f-4a12-c4e2-a2194483be46"
      },
      "execution_count": 11,
      "outputs": [
        {
          "output_type": "stream",
          "name": "stderr",
          "text": [
            "/usr/local/lib/python3.7/dist-packages/keras/optimizer_v2/rmsprop.py:130: UserWarning:\n",
            "\n",
            "The `lr` argument is deprecated, use `learning_rate` instead.\n",
            "\n"
          ]
        }
      ]
    },
    {
      "cell_type": "code",
      "source": [
        "model.summary()"
      ],
      "metadata": {
        "id": "H6ukOxAGC_I4",
        "colab": {
          "base_uri": "https://localhost:8080/"
        },
        "outputId": "c2b7e0ae-d154-4062-a2bc-d23d047ca621"
      },
      "execution_count": 12,
      "outputs": [
        {
          "output_type": "stream",
          "name": "stdout",
          "text": [
            "Model: \"sequential\"\n",
            "_________________________________________________________________\n",
            " Layer (type)                Output Shape              Param #   \n",
            "=================================================================\n",
            " batch_normalization (BatchN  (None, 40, 1)            4         \n",
            " ormalization)                                                   \n",
            "                                                                 \n",
            " conv1d (Conv1D)             (None, 40, 128)           1152      \n",
            "                                                                 \n",
            " batch_normalization_1 (Batc  (None, 40, 128)          512       \n",
            " hNormalization)                                                 \n",
            "                                                                 \n",
            " activation (Activation)     (None, 40, 128)           0         \n",
            "                                                                 \n",
            " dropout (Dropout)           (None, 40, 128)           0         \n",
            "                                                                 \n",
            " max_pooling1d (MaxPooling1D  (None, 8, 128)           0         \n",
            " )                                                               \n",
            "                                                                 \n",
            " conv1d_1 (Conv1D)           (None, 8, 256)            262400    \n",
            "                                                                 \n",
            " batch_normalization_2 (Batc  (None, 8, 256)           1024      \n",
            " hNormalization)                                                 \n",
            "                                                                 \n",
            " activation_1 (Activation)   (None, 8, 256)            0         \n",
            "                                                                 \n",
            " dropout_1 (Dropout)         (None, 8, 256)            0         \n",
            "                                                                 \n",
            " max_pooling1d_1 (MaxPooling  (None, 1, 256)           0         \n",
            " 1D)                                                             \n",
            "                                                                 \n",
            " flatten (Flatten)           (None, 256)               0         \n",
            "                                                                 \n",
            " dense (Dense)               (None, 6)                 1542      \n",
            "                                                                 \n",
            " activation_2 (Activation)   (None, 6)                 0         \n",
            "                                                                 \n",
            "=================================================================\n",
            "Total params: 266,634\n",
            "Trainable params: 265,864\n",
            "Non-trainable params: 770\n",
            "_________________________________________________________________\n"
          ]
        }
      ]
    },
    {
      "cell_type": "code",
      "source": [
        "model.compile(loss='sparse_categorical_crossentropy',\n",
        "              optimizer=opt,\n",
        "              metrics=['accuracy'])"
      ],
      "metadata": {
        "id": "AbMlLNk4DCBM"
      },
      "execution_count": 13,
      "outputs": []
    },
    {
      "cell_type": "code",
      "source": [
        "# Create an Instance of Early Stopping Callback.\n",
        "early_stopping_callback = EarlyStopping(monitor = 'val_loss', patience = 50, mode = 'min', restore_best_weights = True)\n",
        "\n",
        "cnnhistory=model.fit(x_traincnn, y_train, batch_size=16, epochs=500 , shuffle = True, \n",
        "                     validation_data=(X_valid, y_valid) , callbacks = [early_stopping_callback])"
      ],
      "metadata": {
        "id": "RI1v2AuADFhy",
        "colab": {
          "base_uri": "https://localhost:8080/"
        },
        "outputId": "bca6f517-8d0d-4d21-ef23-1c030ce36fdb"
      },
      "execution_count": 14,
      "outputs": [
        {
          "output_type": "stream",
          "name": "stdout",
          "text": [
            "Epoch 1/500\n",
            "104/104 [==============================] - 4s 29ms/step - loss: 2.3514 - accuracy: 0.2170 - val_loss: 1.8706 - val_accuracy: 0.1353\n",
            "Epoch 2/500\n",
            "104/104 [==============================] - 5s 44ms/step - loss: 1.9053 - accuracy: 0.2727 - val_loss: 2.1645 - val_accuracy: 0.1884\n",
            "Epoch 3/500\n",
            "104/104 [==============================] - 5s 43ms/step - loss: 1.7523 - accuracy: 0.3023 - val_loss: 2.4156 - val_accuracy: 0.1884\n",
            "Epoch 4/500\n",
            "104/104 [==============================] - 4s 41ms/step - loss: 1.6831 - accuracy: 0.3041 - val_loss: 2.2615 - val_accuracy: 0.1884\n",
            "Epoch 5/500\n",
            "104/104 [==============================] - 5s 46ms/step - loss: 1.6134 - accuracy: 0.3543 - val_loss: 2.0386 - val_accuracy: 0.1884\n",
            "Epoch 6/500\n",
            "104/104 [==============================] - 5s 43ms/step - loss: 1.5718 - accuracy: 0.3525 - val_loss: 1.6505 - val_accuracy: 0.2464\n",
            "Epoch 7/500\n",
            "104/104 [==============================] - 5s 47ms/step - loss: 1.5093 - accuracy: 0.4021 - val_loss: 1.6688 - val_accuracy: 0.2609\n",
            "Epoch 8/500\n",
            "104/104 [==============================] - 5s 49ms/step - loss: 1.4599 - accuracy: 0.3924 - val_loss: 1.5904 - val_accuracy: 0.2850\n",
            "Epoch 9/500\n",
            "104/104 [==============================] - 4s 43ms/step - loss: 1.4397 - accuracy: 0.4148 - val_loss: 1.5909 - val_accuracy: 0.2850\n",
            "Epoch 10/500\n",
            "104/104 [==============================] - 3s 25ms/step - loss: 1.4196 - accuracy: 0.4256 - val_loss: 1.7228 - val_accuracy: 0.2609\n",
            "Epoch 11/500\n",
            "104/104 [==============================] - 3s 25ms/step - loss: 1.3661 - accuracy: 0.4643 - val_loss: 1.6101 - val_accuracy: 0.3285\n",
            "Epoch 12/500\n",
            "104/104 [==============================] - 3s 26ms/step - loss: 1.3486 - accuracy: 0.4432 - val_loss: 1.5841 - val_accuracy: 0.3333\n",
            "Epoch 13/500\n",
            "104/104 [==============================] - 3s 27ms/step - loss: 1.3186 - accuracy: 0.4704 - val_loss: 1.6034 - val_accuracy: 0.2850\n",
            "Epoch 14/500\n",
            "104/104 [==============================] - 3s 25ms/step - loss: 1.3044 - accuracy: 0.4722 - val_loss: 1.6506 - val_accuracy: 0.3237\n",
            "Epoch 15/500\n",
            "104/104 [==============================] - 3s 27ms/step - loss: 1.2780 - accuracy: 0.4782 - val_loss: 1.9250 - val_accuracy: 0.2415\n",
            "Epoch 16/500\n",
            "104/104 [==============================] - 3s 25ms/step - loss: 1.2949 - accuracy: 0.4891 - val_loss: 1.6711 - val_accuracy: 0.2657\n",
            "Epoch 17/500\n",
            "104/104 [==============================] - 3s 25ms/step - loss: 1.2184 - accuracy: 0.5079 - val_loss: 1.7298 - val_accuracy: 0.2802\n",
            "Epoch 18/500\n",
            "104/104 [==============================] - 3s 25ms/step - loss: 1.2243 - accuracy: 0.5109 - val_loss: 1.4736 - val_accuracy: 0.3575\n",
            "Epoch 19/500\n",
            "104/104 [==============================] - 3s 25ms/step - loss: 1.2230 - accuracy: 0.5042 - val_loss: 1.7820 - val_accuracy: 0.2754\n",
            "Epoch 20/500\n",
            "104/104 [==============================] - 3s 25ms/step - loss: 1.2075 - accuracy: 0.5073 - val_loss: 1.4489 - val_accuracy: 0.3671\n",
            "Epoch 21/500\n",
            "104/104 [==============================] - 3s 25ms/step - loss: 1.1907 - accuracy: 0.5339 - val_loss: 1.4983 - val_accuracy: 0.3527\n",
            "Epoch 22/500\n",
            "104/104 [==============================] - 3s 26ms/step - loss: 1.1700 - accuracy: 0.5369 - val_loss: 1.4164 - val_accuracy: 0.4010\n",
            "Epoch 23/500\n",
            "104/104 [==============================] - 3s 25ms/step - loss: 1.1520 - accuracy: 0.5544 - val_loss: 1.8969 - val_accuracy: 0.2850\n",
            "Epoch 24/500\n",
            "104/104 [==============================] - 3s 25ms/step - loss: 1.1429 - accuracy: 0.5532 - val_loss: 1.6488 - val_accuracy: 0.3188\n",
            "Epoch 25/500\n",
            "104/104 [==============================] - 3s 26ms/step - loss: 1.1024 - accuracy: 0.5520 - val_loss: 1.8310 - val_accuracy: 0.2705\n",
            "Epoch 26/500\n",
            "104/104 [==============================] - 3s 27ms/step - loss: 1.1239 - accuracy: 0.5677 - val_loss: 1.7233 - val_accuracy: 0.2995\n",
            "Epoch 27/500\n",
            "104/104 [==============================] - 3s 25ms/step - loss: 1.1070 - accuracy: 0.5580 - val_loss: 1.6566 - val_accuracy: 0.3043\n",
            "Epoch 28/500\n",
            "104/104 [==============================] - 3s 26ms/step - loss: 1.1018 - accuracy: 0.5713 - val_loss: 2.0548 - val_accuracy: 0.2415\n",
            "Epoch 29/500\n",
            "104/104 [==============================] - 3s 26ms/step - loss: 1.1011 - accuracy: 0.5659 - val_loss: 1.7693 - val_accuracy: 0.2705\n",
            "Epoch 30/500\n",
            "104/104 [==============================] - 3s 28ms/step - loss: 1.0752 - accuracy: 0.5913 - val_loss: 1.9017 - val_accuracy: 0.2802\n",
            "Epoch 31/500\n",
            "104/104 [==============================] - 3s 27ms/step - loss: 1.0815 - accuracy: 0.5701 - val_loss: 1.8057 - val_accuracy: 0.2947\n",
            "Epoch 32/500\n",
            "104/104 [==============================] - 3s 28ms/step - loss: 1.0677 - accuracy: 0.5925 - val_loss: 1.5148 - val_accuracy: 0.3768\n",
            "Epoch 33/500\n",
            "104/104 [==============================] - 3s 27ms/step - loss: 1.0764 - accuracy: 0.5840 - val_loss: 1.7507 - val_accuracy: 0.3188\n",
            "Epoch 34/500\n",
            "104/104 [==============================] - 3s 26ms/step - loss: 1.0297 - accuracy: 0.6022 - val_loss: 1.7217 - val_accuracy: 0.3043\n",
            "Epoch 35/500\n",
            "104/104 [==============================] - 3s 28ms/step - loss: 1.0531 - accuracy: 0.5937 - val_loss: 1.4146 - val_accuracy: 0.3768\n",
            "Epoch 36/500\n",
            "104/104 [==============================] - 3s 27ms/step - loss: 1.0128 - accuracy: 0.6173 - val_loss: 1.6617 - val_accuracy: 0.3382\n",
            "Epoch 37/500\n",
            "104/104 [==============================] - 3s 26ms/step - loss: 1.0438 - accuracy: 0.5955 - val_loss: 1.5359 - val_accuracy: 0.3478\n",
            "Epoch 38/500\n",
            "104/104 [==============================] - 3s 27ms/step - loss: 1.0159 - accuracy: 0.6028 - val_loss: 1.7556 - val_accuracy: 0.3188\n",
            "Epoch 39/500\n",
            "104/104 [==============================] - 3s 28ms/step - loss: 1.0135 - accuracy: 0.6094 - val_loss: 2.0888 - val_accuracy: 0.2560\n",
            "Epoch 40/500\n",
            "104/104 [==============================] - 3s 25ms/step - loss: 0.9891 - accuracy: 0.6324 - val_loss: 1.4930 - val_accuracy: 0.3623\n",
            "Epoch 41/500\n",
            "104/104 [==============================] - 3s 27ms/step - loss: 0.9782 - accuracy: 0.6137 - val_loss: 1.5015 - val_accuracy: 0.3671\n",
            "Epoch 42/500\n",
            "104/104 [==============================] - 4s 36ms/step - loss: 0.9709 - accuracy: 0.6221 - val_loss: 1.6967 - val_accuracy: 0.3527\n",
            "Epoch 43/500\n",
            "104/104 [==============================] - 4s 38ms/step - loss: 0.9797 - accuracy: 0.6155 - val_loss: 1.6380 - val_accuracy: 0.3527\n",
            "Epoch 44/500\n",
            "104/104 [==============================] - 3s 26ms/step - loss: 0.9510 - accuracy: 0.6403 - val_loss: 1.3314 - val_accuracy: 0.3913\n",
            "Epoch 45/500\n",
            "104/104 [==============================] - 3s 25ms/step - loss: 0.9603 - accuracy: 0.6385 - val_loss: 1.4697 - val_accuracy: 0.3720\n",
            "Epoch 46/500\n",
            "104/104 [==============================] - 3s 25ms/step - loss: 0.9643 - accuracy: 0.6264 - val_loss: 1.4305 - val_accuracy: 0.4106\n",
            "Epoch 47/500\n",
            "104/104 [==============================] - 3s 27ms/step - loss: 0.9474 - accuracy: 0.6264 - val_loss: 1.3408 - val_accuracy: 0.4541\n",
            "Epoch 48/500\n",
            "104/104 [==============================] - 3s 25ms/step - loss: 0.9511 - accuracy: 0.6252 - val_loss: 1.8073 - val_accuracy: 0.3188\n",
            "Epoch 49/500\n",
            "104/104 [==============================] - 3s 25ms/step - loss: 0.9470 - accuracy: 0.6227 - val_loss: 1.7348 - val_accuracy: 0.3188\n",
            "Epoch 50/500\n",
            "104/104 [==============================] - 3s 27ms/step - loss: 0.9091 - accuracy: 0.6518 - val_loss: 1.4074 - val_accuracy: 0.4010\n",
            "Epoch 51/500\n",
            "104/104 [==============================] - 3s 27ms/step - loss: 0.9401 - accuracy: 0.6342 - val_loss: 1.2700 - val_accuracy: 0.4783\n",
            "Epoch 52/500\n",
            "104/104 [==============================] - 3s 27ms/step - loss: 0.9229 - accuracy: 0.6324 - val_loss: 1.3989 - val_accuracy: 0.4106\n",
            "Epoch 53/500\n",
            "104/104 [==============================] - 3s 27ms/step - loss: 0.9163 - accuracy: 0.6415 - val_loss: 1.4194 - val_accuracy: 0.3961\n",
            "Epoch 54/500\n",
            "104/104 [==============================] - 3s 26ms/step - loss: 0.9192 - accuracy: 0.6596 - val_loss: 1.3563 - val_accuracy: 0.4396\n",
            "Epoch 55/500\n",
            "104/104 [==============================] - 3s 28ms/step - loss: 0.9072 - accuracy: 0.6330 - val_loss: 1.3189 - val_accuracy: 0.4348\n",
            "Epoch 56/500\n",
            "104/104 [==============================] - 3s 29ms/step - loss: 0.8990 - accuracy: 0.6560 - val_loss: 1.4726 - val_accuracy: 0.4010\n",
            "Epoch 57/500\n",
            "104/104 [==============================] - 3s 27ms/step - loss: 0.9108 - accuracy: 0.6487 - val_loss: 1.4611 - val_accuracy: 0.3671\n",
            "Epoch 58/500\n",
            "104/104 [==============================] - 3s 26ms/step - loss: 0.8663 - accuracy: 0.6626 - val_loss: 1.3542 - val_accuracy: 0.4203\n",
            "Epoch 59/500\n",
            "104/104 [==============================] - 3s 27ms/step - loss: 0.8955 - accuracy: 0.6457 - val_loss: 1.2368 - val_accuracy: 0.4831\n",
            "Epoch 60/500\n",
            "104/104 [==============================] - 3s 26ms/step - loss: 0.8833 - accuracy: 0.6675 - val_loss: 1.2069 - val_accuracy: 0.4734\n",
            "Epoch 61/500\n",
            "104/104 [==============================] - 3s 26ms/step - loss: 0.8733 - accuracy: 0.6778 - val_loss: 1.2516 - val_accuracy: 0.4686\n",
            "Epoch 62/500\n",
            "104/104 [==============================] - 3s 27ms/step - loss: 0.8533 - accuracy: 0.6735 - val_loss: 1.3937 - val_accuracy: 0.4348\n",
            "Epoch 63/500\n",
            "104/104 [==============================] - 3s 26ms/step - loss: 0.8628 - accuracy: 0.6626 - val_loss: 1.4407 - val_accuracy: 0.4010\n",
            "Epoch 64/500\n",
            "104/104 [==============================] - 3s 27ms/step - loss: 0.8549 - accuracy: 0.6554 - val_loss: 1.4630 - val_accuracy: 0.3816\n",
            "Epoch 65/500\n",
            "104/104 [==============================] - 3s 28ms/step - loss: 0.8481 - accuracy: 0.6784 - val_loss: 1.5707 - val_accuracy: 0.3575\n",
            "Epoch 66/500\n",
            "104/104 [==============================] - 3s 27ms/step - loss: 0.8342 - accuracy: 0.6717 - val_loss: 1.1268 - val_accuracy: 0.5459\n",
            "Epoch 67/500\n",
            "104/104 [==============================] - 3s 27ms/step - loss: 0.8389 - accuracy: 0.6808 - val_loss: 1.2192 - val_accuracy: 0.5266\n",
            "Epoch 68/500\n",
            "104/104 [==============================] - 3s 27ms/step - loss: 0.8374 - accuracy: 0.6747 - val_loss: 1.2481 - val_accuracy: 0.4879\n",
            "Epoch 69/500\n",
            "104/104 [==============================] - 3s 26ms/step - loss: 0.8507 - accuracy: 0.6723 - val_loss: 1.2850 - val_accuracy: 0.4686\n",
            "Epoch 70/500\n",
            "104/104 [==============================] - 3s 26ms/step - loss: 0.8330 - accuracy: 0.6759 - val_loss: 1.3408 - val_accuracy: 0.4686\n",
            "Epoch 71/500\n",
            "104/104 [==============================] - 3s 28ms/step - loss: 0.8426 - accuracy: 0.6784 - val_loss: 1.4474 - val_accuracy: 0.4155\n",
            "Epoch 72/500\n",
            "104/104 [==============================] - 3s 27ms/step - loss: 0.8089 - accuracy: 0.6941 - val_loss: 1.2007 - val_accuracy: 0.4879\n",
            "Epoch 73/500\n",
            "104/104 [==============================] - 3s 29ms/step - loss: 0.8267 - accuracy: 0.6904 - val_loss: 1.2453 - val_accuracy: 0.4686\n",
            "Epoch 74/500\n",
            "104/104 [==============================] - 3s 26ms/step - loss: 0.8088 - accuracy: 0.6965 - val_loss: 1.1610 - val_accuracy: 0.5604\n",
            "Epoch 75/500\n",
            "104/104 [==============================] - 3s 27ms/step - loss: 0.8168 - accuracy: 0.6941 - val_loss: 1.2964 - val_accuracy: 0.4686\n",
            "Epoch 76/500\n",
            "104/104 [==============================] - 3s 26ms/step - loss: 0.8248 - accuracy: 0.6699 - val_loss: 1.1797 - val_accuracy: 0.5362\n",
            "Epoch 77/500\n",
            "104/104 [==============================] - 3s 26ms/step - loss: 0.7982 - accuracy: 0.6892 - val_loss: 1.2025 - val_accuracy: 0.5314\n",
            "Epoch 78/500\n",
            "104/104 [==============================] - 3s 28ms/step - loss: 0.7670 - accuracy: 0.7056 - val_loss: 1.3239 - val_accuracy: 0.4928\n",
            "Epoch 79/500\n",
            "104/104 [==============================] - 3s 26ms/step - loss: 0.7891 - accuracy: 0.7098 - val_loss: 1.0301 - val_accuracy: 0.5700\n",
            "Epoch 80/500\n",
            "104/104 [==============================] - 3s 27ms/step - loss: 0.7710 - accuracy: 0.7013 - val_loss: 1.2355 - val_accuracy: 0.4928\n",
            "Epoch 81/500\n",
            "104/104 [==============================] - 3s 27ms/step - loss: 0.7809 - accuracy: 0.7044 - val_loss: 1.1797 - val_accuracy: 0.5314\n",
            "Epoch 82/500\n",
            "104/104 [==============================] - 3s 26ms/step - loss: 0.7818 - accuracy: 0.6917 - val_loss: 1.2875 - val_accuracy: 0.4783\n",
            "Epoch 83/500\n",
            "104/104 [==============================] - 3s 26ms/step - loss: 0.7914 - accuracy: 0.6874 - val_loss: 1.2983 - val_accuracy: 0.4879\n",
            "Epoch 84/500\n",
            "104/104 [==============================] - 3s 27ms/step - loss: 0.7818 - accuracy: 0.7025 - val_loss: 1.2113 - val_accuracy: 0.4879\n",
            "Epoch 85/500\n",
            "104/104 [==============================] - 3s 27ms/step - loss: 0.7607 - accuracy: 0.7146 - val_loss: 1.1972 - val_accuracy: 0.4976\n",
            "Epoch 86/500\n",
            "104/104 [==============================] - 3s 28ms/step - loss: 0.7460 - accuracy: 0.7074 - val_loss: 1.2063 - val_accuracy: 0.4879\n",
            "Epoch 87/500\n",
            "104/104 [==============================] - 3s 27ms/step - loss: 0.7978 - accuracy: 0.6947 - val_loss: 1.3067 - val_accuracy: 0.4879\n",
            "Epoch 88/500\n",
            "104/104 [==============================] - 3s 26ms/step - loss: 0.7573 - accuracy: 0.7158 - val_loss: 1.5159 - val_accuracy: 0.4300\n",
            "Epoch 89/500\n",
            "104/104 [==============================] - 3s 26ms/step - loss: 0.7503 - accuracy: 0.7219 - val_loss: 1.1932 - val_accuracy: 0.5411\n",
            "Epoch 90/500\n",
            "104/104 [==============================] - 3s 27ms/step - loss: 0.7283 - accuracy: 0.7164 - val_loss: 1.1056 - val_accuracy: 0.5314\n",
            "Epoch 91/500\n",
            "104/104 [==============================] - 3s 27ms/step - loss: 0.7490 - accuracy: 0.7128 - val_loss: 1.0828 - val_accuracy: 0.5652\n",
            "Epoch 92/500\n",
            "104/104 [==============================] - 3s 26ms/step - loss: 0.7496 - accuracy: 0.7056 - val_loss: 1.2122 - val_accuracy: 0.4928\n",
            "Epoch 93/500\n",
            "104/104 [==============================] - 3s 27ms/step - loss: 0.7212 - accuracy: 0.7183 - val_loss: 1.2103 - val_accuracy: 0.5266\n",
            "Epoch 94/500\n",
            "104/104 [==============================] - 3s 28ms/step - loss: 0.7486 - accuracy: 0.7122 - val_loss: 1.1761 - val_accuracy: 0.5072\n",
            "Epoch 95/500\n",
            "104/104 [==============================] - 3s 28ms/step - loss: 0.7184 - accuracy: 0.7267 - val_loss: 1.4125 - val_accuracy: 0.4444\n",
            "Epoch 96/500\n",
            "104/104 [==============================] - 3s 27ms/step - loss: 0.7122 - accuracy: 0.7364 - val_loss: 1.0480 - val_accuracy: 0.5797\n",
            "Epoch 97/500\n",
            "104/104 [==============================] - 3s 27ms/step - loss: 0.7287 - accuracy: 0.7189 - val_loss: 0.9546 - val_accuracy: 0.5990\n",
            "Epoch 98/500\n",
            "104/104 [==============================] - 3s 26ms/step - loss: 0.7144 - accuracy: 0.7370 - val_loss: 1.0668 - val_accuracy: 0.5556\n",
            "Epoch 99/500\n",
            "104/104 [==============================] - 3s 28ms/step - loss: 0.6990 - accuracy: 0.7334 - val_loss: 1.2238 - val_accuracy: 0.5024\n",
            "Epoch 100/500\n",
            "104/104 [==============================] - 3s 29ms/step - loss: 0.7394 - accuracy: 0.7122 - val_loss: 1.1703 - val_accuracy: 0.5459\n",
            "Epoch 101/500\n",
            "104/104 [==============================] - 3s 27ms/step - loss: 0.6977 - accuracy: 0.7334 - val_loss: 1.3701 - val_accuracy: 0.4541\n",
            "Epoch 102/500\n",
            "104/104 [==============================] - 3s 27ms/step - loss: 0.6927 - accuracy: 0.7364 - val_loss: 1.2096 - val_accuracy: 0.5121\n",
            "Epoch 103/500\n",
            "104/104 [==============================] - 3s 26ms/step - loss: 0.6801 - accuracy: 0.7316 - val_loss: 1.2166 - val_accuracy: 0.4976\n",
            "Epoch 104/500\n",
            "104/104 [==============================] - 3s 26ms/step - loss: 0.7027 - accuracy: 0.7382 - val_loss: 1.2212 - val_accuracy: 0.5266\n",
            "Epoch 105/500\n",
            "104/104 [==============================] - 3s 27ms/step - loss: 0.6806 - accuracy: 0.7412 - val_loss: 1.2187 - val_accuracy: 0.5266\n",
            "Epoch 106/500\n",
            "104/104 [==============================] - 3s 28ms/step - loss: 0.6894 - accuracy: 0.7304 - val_loss: 1.1760 - val_accuracy: 0.5266\n",
            "Epoch 107/500\n",
            "104/104 [==============================] - 3s 27ms/step - loss: 0.6878 - accuracy: 0.7430 - val_loss: 1.1681 - val_accuracy: 0.5604\n",
            "Epoch 108/500\n",
            "104/104 [==============================] - 3s 26ms/step - loss: 0.6990 - accuracy: 0.7273 - val_loss: 1.0867 - val_accuracy: 0.5314\n",
            "Epoch 109/500\n",
            "104/104 [==============================] - 3s 28ms/step - loss: 0.6997 - accuracy: 0.7364 - val_loss: 1.0985 - val_accuracy: 0.5604\n",
            "Epoch 110/500\n",
            "104/104 [==============================] - 3s 26ms/step - loss: 0.6747 - accuracy: 0.7485 - val_loss: 1.0759 - val_accuracy: 0.5942\n",
            "Epoch 111/500\n",
            "104/104 [==============================] - 3s 26ms/step - loss: 0.6809 - accuracy: 0.7388 - val_loss: 1.1057 - val_accuracy: 0.5507\n",
            "Epoch 112/500\n",
            "104/104 [==============================] - 3s 27ms/step - loss: 0.6752 - accuracy: 0.7437 - val_loss: 1.2433 - val_accuracy: 0.4976\n",
            "Epoch 113/500\n",
            "104/104 [==============================] - 3s 28ms/step - loss: 0.6774 - accuracy: 0.7443 - val_loss: 1.4094 - val_accuracy: 0.4638\n",
            "Epoch 114/500\n",
            "104/104 [==============================] - 3s 28ms/step - loss: 0.6626 - accuracy: 0.7479 - val_loss: 1.1848 - val_accuracy: 0.5121\n",
            "Epoch 115/500\n",
            "104/104 [==============================] - 3s 27ms/step - loss: 0.6598 - accuracy: 0.7570 - val_loss: 1.0020 - val_accuracy: 0.5990\n",
            "Epoch 116/500\n",
            "104/104 [==============================] - 3s 28ms/step - loss: 0.6468 - accuracy: 0.7503 - val_loss: 1.2337 - val_accuracy: 0.5121\n",
            "Epoch 117/500\n",
            "104/104 [==============================] - 3s 28ms/step - loss: 0.6570 - accuracy: 0.7479 - val_loss: 1.0348 - val_accuracy: 0.5700\n",
            "Epoch 118/500\n",
            "104/104 [==============================] - 3s 27ms/step - loss: 0.6345 - accuracy: 0.7612 - val_loss: 1.0480 - val_accuracy: 0.5797\n",
            "Epoch 119/500\n",
            "104/104 [==============================] - 3s 26ms/step - loss: 0.6374 - accuracy: 0.7672 - val_loss: 1.1598 - val_accuracy: 0.5652\n",
            "Epoch 120/500\n",
            "104/104 [==============================] - 3s 29ms/step - loss: 0.6613 - accuracy: 0.7364 - val_loss: 1.0873 - val_accuracy: 0.5556\n",
            "Epoch 121/500\n",
            "104/104 [==============================] - 3s 27ms/step - loss: 0.6595 - accuracy: 0.7479 - val_loss: 1.3274 - val_accuracy: 0.4831\n",
            "Epoch 122/500\n",
            "104/104 [==============================] - 3s 29ms/step - loss: 0.6379 - accuracy: 0.7588 - val_loss: 1.1130 - val_accuracy: 0.5749\n",
            "Epoch 123/500\n",
            "104/104 [==============================] - 3s 27ms/step - loss: 0.6438 - accuracy: 0.7515 - val_loss: 1.1758 - val_accuracy: 0.5411\n",
            "Epoch 124/500\n",
            "104/104 [==============================] - 3s 28ms/step - loss: 0.6300 - accuracy: 0.7557 - val_loss: 1.0223 - val_accuracy: 0.5700\n",
            "Epoch 125/500\n",
            "104/104 [==============================] - 3s 27ms/step - loss: 0.6115 - accuracy: 0.7696 - val_loss: 1.0611 - val_accuracy: 0.5652\n",
            "Epoch 126/500\n",
            "104/104 [==============================] - 3s 28ms/step - loss: 0.6287 - accuracy: 0.7618 - val_loss: 1.1137 - val_accuracy: 0.5700\n",
            "Epoch 127/500\n",
            "104/104 [==============================] - 3s 27ms/step - loss: 0.5946 - accuracy: 0.7836 - val_loss: 1.0717 - val_accuracy: 0.5797\n",
            "Epoch 128/500\n",
            "104/104 [==============================] - 3s 28ms/step - loss: 0.5986 - accuracy: 0.7739 - val_loss: 1.1301 - val_accuracy: 0.5700\n",
            "Epoch 129/500\n",
            "104/104 [==============================] - 3s 26ms/step - loss: 0.6227 - accuracy: 0.7588 - val_loss: 1.1211 - val_accuracy: 0.5700\n",
            "Epoch 130/500\n",
            "104/104 [==============================] - 3s 26ms/step - loss: 0.6021 - accuracy: 0.7757 - val_loss: 1.1628 - val_accuracy: 0.5121\n",
            "Epoch 131/500\n",
            "104/104 [==============================] - 3s 25ms/step - loss: 0.6311 - accuracy: 0.7594 - val_loss: 1.1445 - val_accuracy: 0.5604\n",
            "Epoch 132/500\n",
            "104/104 [==============================] - 3s 25ms/step - loss: 0.6072 - accuracy: 0.7709 - val_loss: 1.1462 - val_accuracy: 0.5700\n",
            "Epoch 133/500\n",
            "104/104 [==============================] - 3s 28ms/step - loss: 0.6096 - accuracy: 0.7678 - val_loss: 1.0887 - val_accuracy: 0.5507\n",
            "Epoch 134/500\n",
            "104/104 [==============================] - 3s 28ms/step - loss: 0.5893 - accuracy: 0.7727 - val_loss: 0.9436 - val_accuracy: 0.6377\n",
            "Epoch 135/500\n",
            "104/104 [==============================] - 3s 26ms/step - loss: 0.5927 - accuracy: 0.7703 - val_loss: 1.1190 - val_accuracy: 0.5749\n",
            "Epoch 136/500\n",
            "104/104 [==============================] - 3s 27ms/step - loss: 0.5861 - accuracy: 0.7823 - val_loss: 1.1667 - val_accuracy: 0.5507\n",
            "Epoch 137/500\n",
            "104/104 [==============================] - 3s 28ms/step - loss: 0.5862 - accuracy: 0.7799 - val_loss: 0.9397 - val_accuracy: 0.6473\n",
            "Epoch 138/500\n",
            "104/104 [==============================] - 3s 27ms/step - loss: 0.6050 - accuracy: 0.7727 - val_loss: 1.1951 - val_accuracy: 0.5507\n",
            "Epoch 139/500\n",
            "104/104 [==============================] - 3s 28ms/step - loss: 0.6031 - accuracy: 0.7733 - val_loss: 0.9894 - val_accuracy: 0.6522\n",
            "Epoch 140/500\n",
            "104/104 [==============================] - 3s 26ms/step - loss: 0.5855 - accuracy: 0.7763 - val_loss: 1.1881 - val_accuracy: 0.5169\n",
            "Epoch 141/500\n",
            "104/104 [==============================] - 3s 27ms/step - loss: 0.5784 - accuracy: 0.7854 - val_loss: 1.0432 - val_accuracy: 0.5797\n",
            "Epoch 142/500\n",
            "104/104 [==============================] - 3s 27ms/step - loss: 0.6008 - accuracy: 0.7678 - val_loss: 1.1109 - val_accuracy: 0.5411\n",
            "Epoch 143/500\n",
            "104/104 [==============================] - 3s 28ms/step - loss: 0.5738 - accuracy: 0.7769 - val_loss: 1.1870 - val_accuracy: 0.5217\n",
            "Epoch 144/500\n",
            "104/104 [==============================] - 3s 28ms/step - loss: 0.5617 - accuracy: 0.7896 - val_loss: 1.0238 - val_accuracy: 0.5797\n",
            "Epoch 145/500\n",
            "104/104 [==============================] - 3s 27ms/step - loss: 0.5776 - accuracy: 0.7836 - val_loss: 0.9052 - val_accuracy: 0.6232\n",
            "Epoch 146/500\n",
            "104/104 [==============================] - 3s 27ms/step - loss: 0.5795 - accuracy: 0.7860 - val_loss: 0.9862 - val_accuracy: 0.6232\n",
            "Epoch 147/500\n",
            "104/104 [==============================] - 3s 27ms/step - loss: 0.5683 - accuracy: 0.7830 - val_loss: 1.0769 - val_accuracy: 0.6039\n",
            "Epoch 148/500\n",
            "104/104 [==============================] - 3s 27ms/step - loss: 0.5742 - accuracy: 0.7848 - val_loss: 0.9562 - val_accuracy: 0.6232\n",
            "Epoch 149/500\n",
            "104/104 [==============================] - 3s 27ms/step - loss: 0.5703 - accuracy: 0.7751 - val_loss: 1.1701 - val_accuracy: 0.5556\n",
            "Epoch 150/500\n",
            "104/104 [==============================] - 3s 26ms/step - loss: 0.5625 - accuracy: 0.7842 - val_loss: 0.9956 - val_accuracy: 0.6232\n",
            "Epoch 151/500\n",
            "104/104 [==============================] - 3s 28ms/step - loss: 0.5514 - accuracy: 0.7938 - val_loss: 1.1238 - val_accuracy: 0.5556\n",
            "Epoch 152/500\n",
            "104/104 [==============================] - 3s 27ms/step - loss: 0.5710 - accuracy: 0.7860 - val_loss: 1.1453 - val_accuracy: 0.5604\n",
            "Epoch 153/500\n",
            "104/104 [==============================] - 3s 26ms/step - loss: 0.5564 - accuracy: 0.7969 - val_loss: 1.0114 - val_accuracy: 0.5990\n",
            "Epoch 154/500\n",
            "104/104 [==============================] - 3s 27ms/step - loss: 0.5650 - accuracy: 0.7860 - val_loss: 0.9327 - val_accuracy: 0.6280\n",
            "Epoch 155/500\n",
            "104/104 [==============================] - 3s 27ms/step - loss: 0.5404 - accuracy: 0.8065 - val_loss: 0.9461 - val_accuracy: 0.6232\n",
            "Epoch 156/500\n",
            "104/104 [==============================] - 3s 26ms/step - loss: 0.5441 - accuracy: 0.7993 - val_loss: 1.0786 - val_accuracy: 0.5700\n",
            "Epoch 157/500\n",
            "104/104 [==============================] - 3s 27ms/step - loss: 0.5459 - accuracy: 0.7938 - val_loss: 1.0987 - val_accuracy: 0.5700\n",
            "Epoch 158/500\n",
            "104/104 [==============================] - 3s 27ms/step - loss: 0.5279 - accuracy: 0.8023 - val_loss: 1.0439 - val_accuracy: 0.6280\n",
            "Epoch 159/500\n",
            "104/104 [==============================] - 3s 29ms/step - loss: 0.5444 - accuracy: 0.7878 - val_loss: 1.1031 - val_accuracy: 0.5942\n",
            "Epoch 160/500\n",
            "104/104 [==============================] - 3s 27ms/step - loss: 0.5782 - accuracy: 0.7799 - val_loss: 1.0944 - val_accuracy: 0.5556\n",
            "Epoch 161/500\n",
            "104/104 [==============================] - 3s 27ms/step - loss: 0.5254 - accuracy: 0.8023 - val_loss: 0.9920 - val_accuracy: 0.5797\n",
            "Epoch 162/500\n",
            "104/104 [==============================] - 3s 28ms/step - loss: 0.5327 - accuracy: 0.7950 - val_loss: 0.9477 - val_accuracy: 0.6425\n",
            "Epoch 163/500\n",
            "104/104 [==============================] - 3s 26ms/step - loss: 0.5183 - accuracy: 0.8077 - val_loss: 1.0141 - val_accuracy: 0.6135\n",
            "Epoch 164/500\n",
            "104/104 [==============================] - 3s 27ms/step - loss: 0.5305 - accuracy: 0.8041 - val_loss: 0.9638 - val_accuracy: 0.5749\n",
            "Epoch 165/500\n",
            "104/104 [==============================] - 3s 27ms/step - loss: 0.5159 - accuracy: 0.8083 - val_loss: 1.1305 - val_accuracy: 0.5797\n",
            "Epoch 166/500\n",
            "104/104 [==============================] - 3s 27ms/step - loss: 0.5318 - accuracy: 0.7926 - val_loss: 1.0389 - val_accuracy: 0.6135\n",
            "Epoch 167/500\n",
            "104/104 [==============================] - 3s 28ms/step - loss: 0.5183 - accuracy: 0.8047 - val_loss: 1.0783 - val_accuracy: 0.5797\n",
            "Epoch 168/500\n",
            "104/104 [==============================] - 3s 28ms/step - loss: 0.5225 - accuracy: 0.8035 - val_loss: 1.0009 - val_accuracy: 0.5845\n",
            "Epoch 169/500\n",
            "104/104 [==============================] - 3s 28ms/step - loss: 0.5075 - accuracy: 0.8144 - val_loss: 0.9512 - val_accuracy: 0.6618\n",
            "Epoch 170/500\n",
            "104/104 [==============================] - 3s 27ms/step - loss: 0.4981 - accuracy: 0.8162 - val_loss: 0.9616 - val_accuracy: 0.6280\n",
            "Epoch 171/500\n",
            "104/104 [==============================] - 3s 27ms/step - loss: 0.5157 - accuracy: 0.8047 - val_loss: 0.9411 - val_accuracy: 0.6087\n",
            "Epoch 172/500\n",
            "104/104 [==============================] - 3s 27ms/step - loss: 0.5168 - accuracy: 0.8114 - val_loss: 1.0212 - val_accuracy: 0.5942\n",
            "Epoch 173/500\n",
            "104/104 [==============================] - 3s 27ms/step - loss: 0.4781 - accuracy: 0.8186 - val_loss: 0.9270 - val_accuracy: 0.6232\n",
            "Epoch 174/500\n",
            "104/104 [==============================] - 3s 27ms/step - loss: 0.5107 - accuracy: 0.7981 - val_loss: 0.9574 - val_accuracy: 0.6184\n",
            "Epoch 175/500\n",
            "104/104 [==============================] - 3s 26ms/step - loss: 0.4951 - accuracy: 0.8096 - val_loss: 1.1397 - val_accuracy: 0.5411\n",
            "Epoch 176/500\n",
            "104/104 [==============================] - 3s 28ms/step - loss: 0.4756 - accuracy: 0.8265 - val_loss: 1.1269 - val_accuracy: 0.5507\n",
            "Epoch 177/500\n",
            "104/104 [==============================] - 3s 28ms/step - loss: 0.5044 - accuracy: 0.8059 - val_loss: 0.9492 - val_accuracy: 0.5942\n",
            "Epoch 178/500\n",
            "104/104 [==============================] - 3s 27ms/step - loss: 0.4868 - accuracy: 0.8156 - val_loss: 1.1491 - val_accuracy: 0.5894\n",
            "Epoch 179/500\n",
            "104/104 [==============================] - 3s 28ms/step - loss: 0.5067 - accuracy: 0.8047 - val_loss: 1.0251 - val_accuracy: 0.5990\n",
            "Epoch 180/500\n",
            "104/104 [==============================] - 3s 27ms/step - loss: 0.5125 - accuracy: 0.8126 - val_loss: 1.1004 - val_accuracy: 0.5556\n",
            "Epoch 181/500\n",
            "104/104 [==============================] - 3s 27ms/step - loss: 0.4916 - accuracy: 0.8174 - val_loss: 1.0204 - val_accuracy: 0.5894\n",
            "Epoch 182/500\n",
            "104/104 [==============================] - 3s 27ms/step - loss: 0.4807 - accuracy: 0.8235 - val_loss: 0.9458 - val_accuracy: 0.6280\n",
            "Epoch 183/500\n",
            "104/104 [==============================] - 3s 27ms/step - loss: 0.4800 - accuracy: 0.8198 - val_loss: 0.9926 - val_accuracy: 0.5990\n",
            "Epoch 184/500\n",
            "104/104 [==============================] - 3s 27ms/step - loss: 0.4904 - accuracy: 0.8083 - val_loss: 1.0122 - val_accuracy: 0.6135\n",
            "Epoch 185/500\n",
            "104/104 [==============================] - 3s 28ms/step - loss: 0.4707 - accuracy: 0.8235 - val_loss: 0.9255 - val_accuracy: 0.6377\n",
            "Epoch 186/500\n",
            "104/104 [==============================] - 3s 26ms/step - loss: 0.4601 - accuracy: 0.8259 - val_loss: 0.9959 - val_accuracy: 0.5990\n",
            "Epoch 187/500\n",
            "104/104 [==============================] - 3s 28ms/step - loss: 0.4984 - accuracy: 0.8077 - val_loss: 0.9463 - val_accuracy: 0.6184\n",
            "Epoch 188/500\n",
            "104/104 [==============================] - 3s 27ms/step - loss: 0.4699 - accuracy: 0.8283 - val_loss: 1.0477 - val_accuracy: 0.5749\n",
            "Epoch 189/500\n",
            "104/104 [==============================] - 3s 27ms/step - loss: 0.4832 - accuracy: 0.8241 - val_loss: 1.0475 - val_accuracy: 0.6329\n",
            "Epoch 190/500\n",
            "104/104 [==============================] - 3s 27ms/step - loss: 0.4810 - accuracy: 0.8168 - val_loss: 0.9927 - val_accuracy: 0.6184\n",
            "Epoch 191/500\n",
            "104/104 [==============================] - 3s 27ms/step - loss: 0.4577 - accuracy: 0.8428 - val_loss: 0.9697 - val_accuracy: 0.6135\n",
            "Epoch 192/500\n",
            "104/104 [==============================] - 3s 28ms/step - loss: 0.4656 - accuracy: 0.8295 - val_loss: 1.0884 - val_accuracy: 0.5845\n",
            "Epoch 193/500\n",
            "104/104 [==============================] - 3s 28ms/step - loss: 0.4660 - accuracy: 0.8265 - val_loss: 0.9524 - val_accuracy: 0.6329\n",
            "Epoch 194/500\n",
            "104/104 [==============================] - 3s 28ms/step - loss: 0.4625 - accuracy: 0.8277 - val_loss: 0.9631 - val_accuracy: 0.5894\n",
            "Epoch 195/500\n",
            "104/104 [==============================] - 3s 28ms/step - loss: 0.4687 - accuracy: 0.8410 - val_loss: 0.9218 - val_accuracy: 0.6425\n"
          ]
        }
      ]
    },
    {
      "cell_type": "code",
      "source": [
        "plt.plot(cnnhistory.history['loss'])\n",
        "plt.plot(cnnhistory.history['val_loss'])\n",
        "plt.title('model loss')\n",
        "plt.ylabel('loss')\n",
        "plt.xlabel('epoch')\n",
        "plt.legend(['train','test'], loc='upper left')\n",
        "plt.show()"
      ],
      "metadata": {
        "id": "oQYnuaCrDH_A",
        "colab": {
          "base_uri": "https://localhost:8080/",
          "height": 295
        },
        "outputId": "20436e56-7304-465b-be0f-a8cb69d746f8"
      },
      "execution_count": 15,
      "outputs": [
        {
          "output_type": "display_data",
          "data": {
            "text/plain": [
              "<Figure size 432x288 with 1 Axes>"
            ],
            "image/png": "[encoded data removed]"
          },
          "metadata": {
            "needs_background": "light"
          }
        }
      ]
    },
    {
      "cell_type": "code",
      "source": [
        "plt.plot(cnnhistory.history['accuracy'])\n",
        "plt.plot(cnnhistory.history['val_accuracy'])\n",
        "plt.title('model accuracy')\n",
        "plt.ylabel('accuracy')\n",
        "plt.xlabel('epoch')\n",
        "plt.legend(['train','test'], loc='upper left')\n",
        "plt.show()"
      ],
      "metadata": {
        "id": "IFkTuO8nDNdq",
        "colab": {
          "base_uri": "https://localhost:8080/",
          "height": 295
        },
        "outputId": "c200f226-5a32-4667-ede1-0acec295ae75"
      },
      "execution_count": 16,
      "outputs": [
        {
          "output_type": "display_data",
          "data": {
            "text/plain": [
              "<Figure size 432x288 with 1 Axes>"
            ],
            "image/png": "[encoded data removed]"
          },
          "metadata": {
            "needs_background": "light"
          }
        }
      ]
    },
    {
      "cell_type": "code",
      "source": [
        "predictions = model.predict(x_testcnn)"
      ],
      "metadata": {
        "id": "A2xtrN5wDQgY"
      },
      "execution_count": 17,
      "outputs": []
    },
    {
      "cell_type": "code",
      "source": [
        "predictions"
      ],
      "metadata": {
        "id": "_f_ohjXKDUpY",
        "colab": {
          "base_uri": "https://localhost:8080/"
        },
        "outputId": "7090ec9d-fc7d-4c5e-fc04-f02915b7ae65"
      },
      "execution_count": 18,
      "outputs": [
        {
          "output_type": "execute_result",
          "data": {
            "text/plain": [
              "array([[7.94258937e-02, 8.17591883e-03, 5.11413753e-01, 6.35785833e-02,\n",
              "        2.98299998e-01, 3.91057506e-02],\n",
              "       [2.07651388e-02, 1.68649596e-03, 2.68705725e-03, 7.31486201e-01,\n",
              "        2.07281373e-02, 2.22646892e-01],\n",
              "       [1.41139671e-01, 2.83645485e-02, 2.37009466e-01, 3.39449644e-01,\n",
              "        1.67395771e-01, 8.66409019e-02],\n",
              "       ...,\n",
              "       [3.30097741e-03, 2.23367770e-05, 2.10010633e-02, 4.29784646e-03,\n",
              "        9.57376957e-01, 1.40007716e-02],\n",
              "       [5.97778999e-04, 9.45950150e-02, 7.64563799e-01, 4.47445177e-03,\n",
              "        1.12523854e-01, 2.32451521e-02],\n",
              "       [1.91513286e-03, 5.49382006e-04, 1.71607137e-01, 2.02602590e-03,\n",
              "        8.17354500e-01, 6.54780259e-03]], dtype=float32)"
            ]
          },
          "metadata": {},
          "execution_count": 18
        }
      ]
    },
    {
      "cell_type": "code",
      "source": [
        "y_test"
      ],
      "metadata": {
        "id": "cmA2bFgsDW3D",
        "colab": {
          "base_uri": "https://localhost:8080/"
        },
        "outputId": "4bce0f6c-f05b-4036-dbc3-305ceaeb1a8c"
      },
      "execution_count": 19,
      "outputs": [
        {
          "output_type": "execute_result",
          "data": {
            "text/plain": [
              "array([3, 3, 3, 0, 4, 4, 1, 2, 5, 0, 5, 3, 2, 2, 1, 4, 4, 5, 2, 4, 1, 2,\n",
              "       3, 5, 4, 2, 1, 2, 2, 2, 2, 5, 2, 5, 3, 1, 2, 0, 4, 5, 2, 3, 2, 2,\n",
              "       5, 2, 0, 1, 3, 4, 4, 5, 1, 1, 4, 4, 5, 1, 1, 1, 0, 1, 5, 0, 4, 1,\n",
              "       1, 0, 1, 4, 1, 0, 4, 1, 3, 1, 2, 2, 1, 2, 3, 0, 5, 3, 5, 5, 2, 4,\n",
              "       5, 1, 5, 1, 5, 3, 4, 1, 4, 1, 5, 4, 5, 1, 2, 1, 1, 5, 1, 3, 2, 5,\n",
              "       2, 1, 3, 5, 4, 4, 0, 0, 3, 1, 2, 2, 3, 5, 1, 5, 3, 4, 2, 2, 0, 2,\n",
              "       2, 5, 5, 0, 3, 3, 2, 2, 0, 3, 4, 0, 4, 2, 4, 5, 4, 1, 5, 3, 2, 2,\n",
              "       5, 4, 3, 3, 4, 3, 3, 4, 1, 5, 2, 3, 2, 2, 0, 2, 1, 3, 1, 2, 2, 5,\n",
              "       5, 1, 4, 2, 2, 1, 1, 3, 3, 5, 5, 2, 5, 1, 5, 0, 3, 3, 0, 5, 1, 4,\n",
              "       1, 4, 2, 5, 5, 1, 4, 2, 4])"
            ]
          },
          "metadata": {},
          "execution_count": 19
        }
      ]
    },
    {
      "cell_type": "code",
      "source": [
        "new_Ytest = y_test.astype(int)"
      ],
      "metadata": {
        "id": "0PHDKWJWDY3g"
      },
      "execution_count": 20,
      "outputs": []
    },
    {
      "cell_type": "code",
      "source": [
        "new_Ytest"
      ],
      "metadata": {
        "id": "k68v2i-pDbZE",
        "colab": {
          "base_uri": "https://localhost:8080/"
        },
        "outputId": "afc00263-8036-47c8-e816-76862e1a4c68"
      },
      "execution_count": 21,
      "outputs": [
        {
          "output_type": "execute_result",
          "data": {
            "text/plain": [
              "array([3, 3, 3, 0, 4, 4, 1, 2, 5, 0, 5, 3, 2, 2, 1, 4, 4, 5, 2, 4, 1, 2,\n",
              "       3, 5, 4, 2, 1, 2, 2, 2, 2, 5, 2, 5, 3, 1, 2, 0, 4, 5, 2, 3, 2, 2,\n",
              "       5, 2, 0, 1, 3, 4, 4, 5, 1, 1, 4, 4, 5, 1, 1, 1, 0, 1, 5, 0, 4, 1,\n",
              "       1, 0, 1, 4, 1, 0, 4, 1, 3, 1, 2, 2, 1, 2, 3, 0, 5, 3, 5, 5, 2, 4,\n",
              "       5, 1, 5, 1, 5, 3, 4, 1, 4, 1, 5, 4, 5, 1, 2, 1, 1, 5, 1, 3, 2, 5,\n",
              "       2, 1, 3, 5, 4, 4, 0, 0, 3, 1, 2, 2, 3, 5, 1, 5, 3, 4, 2, 2, 0, 2,\n",
              "       2, 5, 5, 0, 3, 3, 2, 2, 0, 3, 4, 0, 4, 2, 4, 5, 4, 1, 5, 3, 2, 2,\n",
              "       5, 4, 3, 3, 4, 3, 3, 4, 1, 5, 2, 3, 2, 2, 0, 2, 1, 3, 1, 2, 2, 5,\n",
              "       5, 1, 4, 2, 2, 1, 1, 3, 3, 5, 5, 2, 5, 1, 5, 0, 3, 3, 0, 5, 1, 4,\n",
              "       1, 4, 2, 5, 5, 1, 4, 2, 4])"
            ]
          },
          "metadata": {},
          "execution_count": 21
        }
      ]
    },
    {
      "cell_type": "code",
      "source": [
        "preds1=predictions.argmax(axis=1)\n",
        "preds1"
      ],
      "metadata": {
        "id": "4_cAI39VFhtp",
        "colab": {
          "base_uri": "https://localhost:8080/"
        },
        "outputId": "20da73a2-59f8-43eb-b158-e7913bb68e01"
      },
      "execution_count": 22,
      "outputs": [
        {
          "output_type": "execute_result",
          "data": {
            "text/plain": [
              "array([2, 3, 3, 4, 4, 4, 1, 2, 5, 2, 4, 3, 2, 2, 2, 4, 4, 5, 2, 4, 2, 2,\n",
              "       2, 2, 4, 2, 2, 2, 2, 2, 2, 4, 2, 5, 3, 1, 2, 0, 4, 2, 2, 3, 2, 2,\n",
              "       5, 4, 4, 4, 3, 4, 4, 5, 2, 2, 4, 4, 5, 2, 4, 1, 0, 1, 2, 2, 4, 2,\n",
              "       2, 1, 2, 4, 0, 2, 4, 2, 5, 4, 2, 2, 2, 2, 1, 0, 5, 3, 2, 2, 2, 4,\n",
              "       5, 4, 4, 2, 5, 3, 4, 2, 4, 2, 5, 4, 5, 2, 2, 2, 2, 2, 1, 2, 2, 5,\n",
              "       5, 2, 3, 2, 4, 4, 2, 0, 3, 4, 2, 2, 4, 4, 4, 5, 3, 2, 2, 2, 4, 2,\n",
              "       2, 3, 4, 0, 5, 3, 2, 4, 0, 2, 4, 4, 4, 2, 4, 2, 4, 2, 4, 3, 2, 2,\n",
              "       5, 4, 4, 3, 4, 2, 4, 4, 2, 5, 2, 3, 2, 2, 0, 2, 2, 2, 2, 4, 4, 4,\n",
              "       5, 2, 4, 2, 4, 2, 2, 3, 3, 4, 2, 2, 5, 2, 4, 2, 3, 3, 2, 4, 2, 4,\n",
              "       1, 4, 2, 2, 4, 2, 4, 2, 4])"
            ]
          },
          "metadata": {},
          "execution_count": 22
        }
      ]
    },
    {
      "cell_type": "code",
      "source": [
        "abc = preds1.astype(int).flatten()"
      ],
      "metadata": {
        "id": "H4WEmM60NfQn"
      },
      "execution_count": 23,
      "outputs": []
    },
    {
      "cell_type": "code",
      "source": [
        "from sklearn.metrics import confusion_matrix\n",
        "c = confusion_matrix(new_Ytest, abc) \n",
        "c"
      ],
      "metadata": {
        "id": "bKEBeEBlFjB8",
        "colab": {
          "base_uri": "https://localhost:8080/"
        },
        "outputId": "5b7e52ce-5695-45fa-c6a3-4ca38ae03198"
      },
      "execution_count": 24,
      "outputs": [
        {
          "output_type": "execute_result",
          "data": {
            "text/plain": [
              "array([[ 7,  1,  6,  0,  4,  0],\n",
              "       [ 1,  6, 28,  0,  6,  0],\n",
              "       [ 0,  0, 39,  0,  5,  1],\n",
              "       [ 0,  1,  6, 19,  3,  2],\n",
              "       [ 0,  0,  1,  0, 32,  0],\n",
              "       [ 0,  0, 10,  1, 11, 17]])"
            ]
          },
          "metadata": {},
          "execution_count": 24
        }
      ]
    },
    {
      "cell_type": "code",
      "source": [
        "y_test"
      ],
      "metadata": {
        "id": "m4RjG7LWLSQx",
        "colab": {
          "base_uri": "https://localhost:8080/"
        },
        "outputId": "c326aaf8-041a-4630-d5f2-24a4ee46dca0"
      },
      "execution_count": 25,
      "outputs": [
        {
          "output_type": "execute_result",
          "data": {
            "text/plain": [
              "array([3, 3, 3, 0, 4, 4, 1, 2, 5, 0, 5, 3, 2, 2, 1, 4, 4, 5, 2, 4, 1, 2,\n",
              "       3, 5, 4, 2, 1, 2, 2, 2, 2, 5, 2, 5, 3, 1, 2, 0, 4, 5, 2, 3, 2, 2,\n",
              "       5, 2, 0, 1, 3, 4, 4, 5, 1, 1, 4, 4, 5, 1, 1, 1, 0, 1, 5, 0, 4, 1,\n",
              "       1, 0, 1, 4, 1, 0, 4, 1, 3, 1, 2, 2, 1, 2, 3, 0, 5, 3, 5, 5, 2, 4,\n",
              "       5, 1, 5, 1, 5, 3, 4, 1, 4, 1, 5, 4, 5, 1, 2, 1, 1, 5, 1, 3, 2, 5,\n",
              "       2, 1, 3, 5, 4, 4, 0, 0, 3, 1, 2, 2, 3, 5, 1, 5, 3, 4, 2, 2, 0, 2,\n",
              "       2, 5, 5, 0, 3, 3, 2, 2, 0, 3, 4, 0, 4, 2, 4, 5, 4, 1, 5, 3, 2, 2,\n",
              "       5, 4, 3, 3, 4, 3, 3, 4, 1, 5, 2, 3, 2, 2, 0, 2, 1, 3, 1, 2, 2, 5,\n",
              "       5, 1, 4, 2, 2, 1, 1, 3, 3, 5, 5, 2, 5, 1, 5, 0, 3, 3, 0, 5, 1, 4,\n",
              "       1, 4, 2, 5, 5, 1, 4, 2, 4])"
            ]
          },
          "metadata": {},
          "execution_count": 25
        }
      ]
    },
    {
      "cell_type": "code",
      "source": [
        "loss, acc =model.evaluate(x_testcnn, y_test)\n",
        "print(\"Restored model, accuracy: {:5.2f}%\".format(100*acc))"
      ],
      "metadata": {
        "id": "n3kzoqPkDqqS",
        "colab": {
          "base_uri": "https://localhost:8080/"
        },
        "outputId": "9060e75f-e45e-41d1-8d5a-ff97e303e0ca"
      },
      "execution_count": 26,
      "outputs": [
        {
          "output_type": "stream",
          "name": "stdout",
          "text": [
            "7/7 [==============================] - 0s 8ms/step - loss: 1.0308 - accuracy: 0.5797\n",
            "Restored model, accuracy: 57.97%\n"
          ]
        }
      ]
    },
    {
      "cell_type": "code",
      "source": [
        "loss, acc =model.evaluate(X_train, y_train)\n",
        "print(\"Restored model train, accuracy: {:5.2f}%\".format(100*acc))"
      ],
      "metadata": {
        "id": "fJDTGH_OUX0z",
        "colab": {
          "base_uri": "https://localhost:8080/"
        },
        "outputId": "73c6e7b1-db36-4d5e-c923-341f098a6601"
      },
      "execution_count": 27,
      "outputs": [
        {
          "output_type": "stream",
          "name": "stdout",
          "text": [
            "52/52 [==============================] - 1s 8ms/step - loss: 0.7675 - accuracy: 0.6983\n",
            "Restored model train, accuracy: 69.83%\n"
          ]
        }
      ]
    },
    {
      "cell_type": "code",
      "source": [
        "from sklearn.metrics import classification_report, confusion_matrix,accuracy_score\n",
        "import seaborn as sn\n",
        "\n",
        "print(classification_report(new_Ytest,abc))\n",
        "\n",
        "acc = float(accuracy_score(new_Ytest,abc))*100\n",
        "print(\"----accuracy score %s ----\" % acc)\n",
        "\n",
        "cm = confusion_matrix(new_Ytest,abc)\n",
        "#df_cm = pd.DataFrame(cm)\n",
        "class_names = ['neutral','calm', 'happy','sad','angry', 'fearful' ]\n",
        "df_cm = pd.DataFrame(cm, index=class_names, columns=class_names,)\n",
        "sn.heatmap(df_cm, annot=True, fmt='')\n",
        "plt.show()"
      ],
      "metadata": {
        "id": "SfSC3El94LZg",
        "colab": {
          "base_uri": "https://localhost:8080/",
          "height": 522
        },
        "outputId": "be51bb40-1135-40e0-d045-f5f16ae6ca2a"
      },
      "execution_count": 28,
      "outputs": [
        {
          "output_type": "stream",
          "name": "stdout",
          "text": [
            "              precision    recall  f1-score   support\n",
            "\n",
            "           0       0.88      0.39      0.54        18\n",
            "           1       0.75      0.15      0.24        41\n",
            "           2       0.43      0.87      0.58        45\n",
            "           3       0.95      0.61      0.75        31\n",
            "           4       0.52      0.97      0.68        33\n",
            "           5       0.85      0.44      0.58        39\n",
            "\n",
            "    accuracy                           0.58       207\n",
            "   macro avg       0.73      0.57      0.56       207\n",
            "weighted avg       0.70      0.58      0.55       207\n",
            "\n",
            "----accuracy score 57.971014492753625 ----\n"
          ]
        },
        {
          "output_type": "display_data",
          "data": {
            "text/plain": [
              "<Figure size 432x288 with 2 Axes>"
            ],
            "image/png": "[encoded data removed]"
          },
          "metadata": {
            "needs_background": "light"
          }
        }
      ]
    }
  ]
}