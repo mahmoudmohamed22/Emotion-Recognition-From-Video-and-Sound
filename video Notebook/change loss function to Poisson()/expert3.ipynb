{
  "nbformat": 4,
  "nbformat_minor": 0,
  "metadata": {
    "colab": {
      "name": "expert3.ipynb",
      "provenance": [],
      "collapsed_sections": [],
      "machine_shape": "hm"
    },
    "kernelspec": {
      "name": "python3",
      "display_name": "Python 3"
    },
    "accelerator": "GPU"
  },
  "cells": [
    {
      "cell_type": "code",
      "metadata": {
        "id": "tZRSiDYNQLSr",
        "colab": {
          "base_uri": "https://localhost:8080/",
          "height": 165
        },
        "outputId": "cee5d5e9-4dc2-46af-edb4-462cded0eccf"
      },
      "source": [
        "w# as you can see current ram is 12GB only, to increase it run below code"
      ],
      "execution_count": null,
      "outputs": [
        {
          "output_type": "error",
          "ename": "NameError",
          "evalue": "ignored",
          "traceback": [
            "\u001b[0;31m---------------------------------------------------------------------------\u001b[0m",
            "\u001b[0;31mNameError\u001b[0m                                 Traceback (most recent call last)",
            "\u001b[0;32m<ipython-input-1-74a19cf4343c>\u001b[0m in \u001b[0;36m<module>\u001b[0;34m()\u001b[0m\n\u001b[0;32m----> 1\u001b[0;31m \u001b[0mw\u001b[0m\u001b[0;31m# as you can see current ram is 12GB only, to increase it run below code\u001b[0m\u001b[0;34m\u001b[0m\u001b[0;34m\u001b[0m\u001b[0m\n\u001b[0m",
            "\u001b[0;31mNameError\u001b[0m: name 'w' is not defined"
          ]
        }
      ]
    },
    {
      "cell_type": "code",
      "metadata": {
        "id": "87T5BetZQYQv"
      },
      "source": [
        "i = []\n",
        "while True:\n",
        "  i.append(i)"
      ],
      "execution_count": null,
      "outputs": []
    },
    {
      "cell_type": "code",
      "metadata": {
        "id": "YOckP_sYQcda"
      },
      "source": [
        "# wait for few minutes, after that you will get a prompt that your notebook got crashed, do you want to increase ram ?"
      ],
      "execution_count": null,
      "outputs": []
    },
    {
      "cell_type": "code",
      "metadata": {
        "id": "_F9FfyFSQl_5"
      },
      "source": [
        "# in the prompt click - yes"
      ],
      "execution_count": null,
      "outputs": []
    },
    {
      "cell_type": "code",
      "metadata": {
        "id": "xalsFDNyQp66"
      },
      "source": [
        "# as you see the ram increase from 12GB to 25GB"
      ],
      "execution_count": null,
      "outputs": []
    },
    {
      "cell_type": "code",
      "metadata": {
        "id": "XryjXIYhQ_gM"
      },
      "source": [
        "#thanks for watching, keep learning "
      ],
      "execution_count": null,
      "outputs": []
    },
    {
      "cell_type": "markdown",
      "metadata": {
        "id": "Wd-2ZJjoJaNU"
      },
      "source": [
        "**NOTE**: PLease allow your browser to allow show pop-ups by sites as show below "
      ]
    },
    {
      "cell_type": "code",
      "metadata": {
        "id": "beJ_3jq4JkDD"
      },
      "source": [
        "#step-1"
      ],
      "execution_count": null,
      "outputs": []
    },
    {
      "cell_type": "code",
      "metadata": {
        "id": "kbg5pOhxOKbY"
      },
      "source": [
        "#step-2"
      ],
      "execution_count": null,
      "outputs": []
    },
    {
      "cell_type": "markdown",
      "source": [
        "**training**"
      ],
      "metadata": {
        "id": "3p4NEbw1wA08"
      }
    },
    {
      "cell_type": "code",
      "source": [
        "# Discard the output of this cell.\n",
        "#%%capture\n",
        "\n",
        "# Install the required libraries.\n",
        "!pip install tensorflow opencv-contrib-python youtube-dl moviepy pydot\n",
        "!pip install git+https://github.com/TahaAnwar/pafy.git#egg=pafy"
      ],
      "metadata": {
        "id": "MChAq7xYwD1o",
        "colab": {
          "base_uri": "https://localhost:8080/"
        },
        "outputId": "04e34870-54d7-42ba-c31d-593c7f5228e6"
      },
      "execution_count": 1,
      "outputs": [
        {
          "output_type": "stream",
          "name": "stdout",
          "text": [
            "Requirement already satisfied: tensorflow in /usr/local/lib/python3.7/dist-packages (2.8.0)\n",
            "Requirement already satisfied: opencv-contrib-python in /usr/local/lib/python3.7/dist-packages (4.1.2.30)\n",
            "Requirement already satisfied: youtube-dl in /usr/local/lib/python3.7/dist-packages (2021.12.17)\n",
            "Requirement already satisfied: moviepy in /usr/local/lib/python3.7/dist-packages (0.2.3.5)\n",
            "Requirement already satisfied: pydot in /usr/local/lib/python3.7/dist-packages (1.3.0)\n",
            "Requirement already satisfied: opt-einsum>=2.3.2 in /usr/local/lib/python3.7/dist-packages (from tensorflow) (3.3.0)\n",
            "Requirement already satisfied: protobuf>=3.9.2 in /usr/local/lib/python3.7/dist-packages (from tensorflow) (3.17.3)\n",
            "Requirement already satisfied: h5py>=2.9.0 in /usr/local/lib/python3.7/dist-packages (from tensorflow) (3.1.0)\n",
            "Requirement already satisfied: astunparse>=1.6.0 in /usr/local/lib/python3.7/dist-packages (from tensorflow) (1.6.3)\n",
            "Requirement already satisfied: tf-estimator-nightly==2.8.0.dev2021122109 in /usr/local/lib/python3.7/dist-packages (from tensorflow) (2.8.0.dev2021122109)\n",
            "Requirement already satisfied: grpcio<2.0,>=1.24.3 in /usr/local/lib/python3.7/dist-packages (from tensorflow) (1.44.0)\n",
            "Requirement already satisfied: google-pasta>=0.1.1 in /usr/local/lib/python3.7/dist-packages (from tensorflow) (0.2.0)\n",
            "Requirement already satisfied: typing-extensions>=3.6.6 in /usr/local/lib/python3.7/dist-packages (from tensorflow) (4.2.0)\n",
            "Requirement already satisfied: flatbuffers>=1.12 in /usr/local/lib/python3.7/dist-packages (from tensorflow) (2.0)\n",
            "Requirement already satisfied: tensorboard<2.9,>=2.8 in /usr/local/lib/python3.7/dist-packages (from tensorflow) (2.8.0)\n",
            "Requirement already satisfied: tensorflow-io-gcs-filesystem>=0.23.1 in /usr/local/lib/python3.7/dist-packages (from tensorflow) (0.25.0)\n",
            "Requirement already satisfied: absl-py>=0.4.0 in /usr/local/lib/python3.7/dist-packages (from tensorflow) (1.0.0)\n",
            "Requirement already satisfied: six>=1.12.0 in /usr/local/lib/python3.7/dist-packages (from tensorflow) (1.15.0)\n",
            "Requirement already satisfied: libclang>=9.0.1 in /usr/local/lib/python3.7/dist-packages (from tensorflow) (14.0.1)\n",
            "Requirement already satisfied: termcolor>=1.1.0 in /usr/local/lib/python3.7/dist-packages (from tensorflow) (1.1.0)\n",
            "Requirement already satisfied: wrapt>=1.11.0 in /usr/local/lib/python3.7/dist-packages (from tensorflow) (1.14.0)\n",
            "Requirement already satisfied: setuptools in /usr/local/lib/python3.7/dist-packages (from tensorflow) (57.4.0)\n",
            "Requirement already satisfied: keras<2.9,>=2.8.0rc0 in /usr/local/lib/python3.7/dist-packages (from tensorflow) (2.8.0)\n",
            "Requirement already satisfied: numpy>=1.20 in /usr/local/lib/python3.7/dist-packages (from tensorflow) (1.21.6)\n",
            "Requirement already satisfied: gast>=0.2.1 in /usr/local/lib/python3.7/dist-packages (from tensorflow) (0.5.3)\n",
            "Requirement already satisfied: keras-preprocessing>=1.1.1 in /usr/local/lib/python3.7/dist-packages (from tensorflow) (1.1.2)\n",
            "Requirement already satisfied: wheel<1.0,>=0.23.0 in /usr/local/lib/python3.7/dist-packages (from astunparse>=1.6.0->tensorflow) (0.37.1)\n",
            "Requirement already satisfied: cached-property in /usr/local/lib/python3.7/dist-packages (from h5py>=2.9.0->tensorflow) (1.5.2)\n",
            "Requirement already satisfied: markdown>=2.6.8 in /usr/local/lib/python3.7/dist-packages (from tensorboard<2.9,>=2.8->tensorflow) (3.3.6)\n",
            "Requirement already satisfied: requests<3,>=2.21.0 in /usr/local/lib/python3.7/dist-packages (from tensorboard<2.9,>=2.8->tensorflow) (2.23.0)\n",
            "Requirement already satisfied: google-auth-oauthlib<0.5,>=0.4.1 in /usr/local/lib/python3.7/dist-packages (from tensorboard<2.9,>=2.8->tensorflow) (0.4.6)\n",
            "Requirement already satisfied: tensorboard-data-server<0.7.0,>=0.6.0 in /usr/local/lib/python3.7/dist-packages (from tensorboard<2.9,>=2.8->tensorflow) (0.6.1)\n",
            "Requirement already satisfied: tensorboard-plugin-wit>=1.6.0 in /usr/local/lib/python3.7/dist-packages (from tensorboard<2.9,>=2.8->tensorflow) (1.8.1)\n",
            "Requirement already satisfied: google-auth<3,>=1.6.3 in /usr/local/lib/python3.7/dist-packages (from tensorboard<2.9,>=2.8->tensorflow) (1.35.0)\n",
            "Requirement already satisfied: werkzeug>=0.11.15 in /usr/local/lib/python3.7/dist-packages (from tensorboard<2.9,>=2.8->tensorflow) (1.0.1)\n",
            "Requirement already satisfied: rsa<5,>=3.1.4 in /usr/local/lib/python3.7/dist-packages (from google-auth<3,>=1.6.3->tensorboard<2.9,>=2.8->tensorflow) (4.8)\n",
            "Requirement already satisfied: pyasn1-modules>=0.2.1 in /usr/local/lib/python3.7/dist-packages (from google-auth<3,>=1.6.3->tensorboard<2.9,>=2.8->tensorflow) (0.2.8)\n",
            "Requirement already satisfied: cachetools<5.0,>=2.0.0 in /usr/local/lib/python3.7/dist-packages (from google-auth<3,>=1.6.3->tensorboard<2.9,>=2.8->tensorflow) (4.2.4)\n",
            "Requirement already satisfied: requests-oauthlib>=0.7.0 in /usr/local/lib/python3.7/dist-packages (from google-auth-oauthlib<0.5,>=0.4.1->tensorboard<2.9,>=2.8->tensorflow) (1.3.1)\n",
            "Requirement already satisfied: importlib-metadata>=4.4 in /usr/local/lib/python3.7/dist-packages (from markdown>=2.6.8->tensorboard<2.9,>=2.8->tensorflow) (4.11.3)\n",
            "Requirement already satisfied: zipp>=0.5 in /usr/local/lib/python3.7/dist-packages (from importlib-metadata>=4.4->markdown>=2.6.8->tensorboard<2.9,>=2.8->tensorflow) (3.8.0)\n",
            "Requirement already satisfied: pyasn1<0.5.0,>=0.4.6 in /usr/local/lib/python3.7/dist-packages (from pyasn1-modules>=0.2.1->google-auth<3,>=1.6.3->tensorboard<2.9,>=2.8->tensorflow) (0.4.8)\n",
            "Requirement already satisfied: certifi>=2017.4.17 in /usr/local/lib/python3.7/dist-packages (from requests<3,>=2.21.0->tensorboard<2.9,>=2.8->tensorflow) (2021.10.8)\n",
            "Requirement already satisfied: chardet<4,>=3.0.2 in /usr/local/lib/python3.7/dist-packages (from requests<3,>=2.21.0->tensorboard<2.9,>=2.8->tensorflow) (3.0.4)\n",
            "Requirement already satisfied: urllib3!=1.25.0,!=1.25.1,<1.26,>=1.21.1 in /usr/local/lib/python3.7/dist-packages (from requests<3,>=2.21.0->tensorboard<2.9,>=2.8->tensorflow) (1.24.3)\n",
            "Requirement already satisfied: idna<3,>=2.5 in /usr/local/lib/python3.7/dist-packages (from requests<3,>=2.21.0->tensorboard<2.9,>=2.8->tensorflow) (2.10)\n",
            "Requirement already satisfied: oauthlib>=3.0.0 in /usr/local/lib/python3.7/dist-packages (from requests-oauthlib>=0.7.0->google-auth-oauthlib<0.5,>=0.4.1->tensorboard<2.9,>=2.8->tensorflow) (3.2.0)\n",
            "Requirement already satisfied: tqdm<5.0,>=4.11.2 in /usr/local/lib/python3.7/dist-packages (from moviepy) (4.64.0)\n",
            "Requirement already satisfied: imageio<3.0,>=2.1.2 in /usr/local/lib/python3.7/dist-packages (from moviepy) (2.4.1)\n",
            "Requirement already satisfied: decorator<5.0,>=4.0.2 in /usr/local/lib/python3.7/dist-packages (from moviepy) (4.4.2)\n",
            "Requirement already satisfied: pillow in /usr/local/lib/python3.7/dist-packages (from imageio<3.0,>=2.1.2->moviepy) (7.1.2)\n",
            "Requirement already satisfied: pyparsing>=2.1.4 in /usr/local/lib/python3.7/dist-packages (from pydot) (3.0.8)\n",
            "Collecting pafy\n",
            "  Cloning https://github.com/TahaAnwar/pafy.git to /tmp/pip-install-037i6u5c/pafy_a12a49993738443087fbbf81ce9bf864\n",
            "  Running command git clone -q https://github.com/TahaAnwar/pafy.git /tmp/pip-install-037i6u5c/pafy_a12a49993738443087fbbf81ce9bf864\n"
          ]
        }
      ]
    },
    {
      "cell_type": "code",
      "source": [
        "# Import the required libraries.\n",
        "import os\n",
        "import cv2\n",
        "import pafy\n",
        "import math\n",
        "import random\n",
        "import numpy as np\n",
        "import datetime as dt\n",
        "import tensorflow as tf\n",
        "from collections import deque\n",
        "import matplotlib.pyplot as plt\n",
        "\n",
        "from moviepy.editor import *\n",
        "%matplotlib inline\n",
        "\n",
        "from sklearn.model_selection import train_test_split\n",
        "\n",
        "from tensorflow.keras.layers import *\n",
        "from tensorflow.keras.models import Sequential\n",
        "from tensorflow.keras.utils import to_categorical\n",
        "from tensorflow.keras.callbacks import EarlyStopping\n",
        "from tensorflow.keras.utils import plot_model\n",
        "import glob"
      ],
      "metadata": {
        "id": "1nJVuzQAwGQp"
      },
      "execution_count": 2,
      "outputs": []
    },
    {
      "cell_type": "code",
      "source": [
        "seed_constant = 27\n",
        "np.random.seed(seed_constant)\n",
        "random.seed(seed_constant)\n",
        "tf.random.set_seed(seed_constant)\n"
      ],
      "metadata": {
        "id": "IoMuaveSwK6K"
      },
      "execution_count": 3,
      "outputs": []
    },
    {
      "cell_type": "code",
      "source": [
        "# Specify the height and width to which each video frame will be resized in our dataset.\n",
        "IMAGE_HEIGHT , IMAGE_WIDTH = 64, 64\n",
        "\n",
        "# Specify the number of frames of a video that will be fed to the model as one sequence.\n",
        "SEQUENCE_LENGTH = 30\n",
        "\n",
        "# Specify the directory containing the UCF50 dataset. \n",
        "DATASET_DIR = \"/content/drive/MyDrive/frames_ravdess_label\"\n",
        "\n",
        "# Specify the list containing the names of the classes used for training. Feel free to choose any set of classes.\n",
        "CLASSES_LIST = [\"neutral\", \"calm\", \"happy\", \"sad\",\"angry\",\"fearful\"]"
      ],
      "metadata": {
        "id": "GcOPbLHXwNW6"
      },
      "execution_count": 4,
      "outputs": []
    },
    {
      "cell_type": "code",
      "source": [
        "from google.colab import drive\n",
        "drive.mount('/content/drive')"
      ],
      "metadata": {
        "id": "R4qTnVYzwtnU"
      },
      "execution_count": null,
      "outputs": []
    },
    {
      "cell_type": "code",
      "source": [
        "import joblib\n",
        "features = joblib.load('/content/drive/My Drive/features/features_data')\n",
        "labels = joblib.load('/content/drive/MyDrive/features/labels')\n",
        "video_files_paths = joblib.load('/content/drive/My Drive/features/video_path')"
      ],
      "metadata": {
        "id": "Hpib_QJowRPo"
      },
      "execution_count": 5,
      "outputs": []
    },
    {
      "cell_type": "code",
      "source": [
        "features = np.asarray(features)\n",
        "labels = np.array(labels)  "
      ],
      "metadata": {
        "id": "PH_q4iTSwt_7"
      },
      "execution_count": 6,
      "outputs": []
    },
    {
      "cell_type": "code",
      "source": [
        "features"
      ],
      "metadata": {
        "id": "YUog1EzkxAlA"
      },
      "execution_count": null,
      "outputs": []
    },
    {
      "cell_type": "code",
      "source": [
        "features.shape"
      ],
      "metadata": {
        "id": "EcUFSl-ExLkk",
        "outputId": "0d72fb62-6da8-4a38-f442-717488ca6400",
        "colab": {
          "base_uri": "https://localhost:8080/"
        }
      },
      "execution_count": 7,
      "outputs": [
        {
          "output_type": "execute_result",
          "data": {
            "text/plain": [
              "(2067, 30, 64, 64, 3)"
            ]
          },
          "metadata": {},
          "execution_count": 7
        }
      ]
    },
    {
      "cell_type": "code",
      "source": [
        "# Using Keras's to_categorical method to convert labels into one-hot-encoded vectors\n",
        "one_hot_encoded_labels = to_categorical(labels)"
      ],
      "metadata": {
        "id": "byN_xKZ1w3db"
      },
      "execution_count": 8,
      "outputs": []
    },
    {
      "cell_type": "code",
      "source": [
        "# Split the Data into Train ( 80% ) and Test Set ( 20% ).\n",
        "features_train, features_test, labels_train, labels_test = train_test_split(features, one_hot_encoded_labels,\n",
        "                                                                            test_size = 0.10, shuffle = True,\n",
        "                                                                            random_state = seed_constant)"
      ],
      "metadata": {
        "id": "Xbo5u-ynw4bP"
      },
      "execution_count": 9,
      "outputs": []
    },
    {
      "cell_type": "code",
      "source": [
        "def create_LRCN_model():\n",
        "    '''\n",
        "    This function will construct the required LRCN model.\n",
        "    Returns:\n",
        "        model: It is the required constructed LRCN model.\n",
        "    '''\n",
        "\n",
        "    # We will use a Sequential model for model construction.\n",
        "    model = Sequential()\n",
        "   \n",
        "    # Define the Model Architecture.\n",
        "    ########################################################################################################################\n",
        "    \n",
        "    model.add(TimeDistributed(Conv2D(16, (3,3), padding='same'),\n",
        "                              input_shape = (SEQUENCE_LENGTH, IMAGE_HEIGHT, IMAGE_WIDTH, 3)))\n",
        "    model.add(TimeDistributed(BatchNormalization()))\n",
        "    model.add(TimeDistributed(Activation('relu')))\n",
        "    model.add(TimeDistributed(MaxPooling2D((4, 4)))) \n",
        "    model.add(TimeDistributed(Dropout(0.1)))\n",
        "    \n",
        "    model.add(TimeDistributed(Conv2D(32, (3,3), padding='same')))\n",
        "    model.add(TimeDistributed(BatchNormalization()))\n",
        "    model.add(TimeDistributed(Activation('relu')))\n",
        "    model.add(TimeDistributed(MaxPooling2D((4, 4))))\n",
        "    model.add(TimeDistributed(Dropout(0.2)))\n",
        "    \n",
        "    model.add(TimeDistributed(Conv2D(64, (3,3), padding='same')))\n",
        "    model.add(TimeDistributed(BatchNormalization()))\n",
        "    model.add(TimeDistributed(Activation('relu')))\n",
        "    model.add(TimeDistributed(MaxPooling2D((2, 2))))\n",
        "    model.add(TimeDistributed(Dropout(0.3)))\n",
        "    \n",
        "    model.add(TimeDistributed(Conv2D(64, (3,3), padding='same')))\n",
        "    model.add(TimeDistributed(BatchNormalization()))\n",
        "    model.add(TimeDistributed(Activation('relu')))\n",
        "    model.add(TimeDistributed(MaxPooling2D((2, 2))))\n",
        "    #model.add(TimeDistributed(Dropout(0.25)))\n",
        "                                      \n",
        "    model.add(TimeDistributed(Flatten()))\n",
        "                                      \n",
        "    model.add(LSTM(64))\n",
        "                                      \n",
        "    model.add(Dense(len(CLASSES_LIST), activation = 'softmax'))\n",
        "\n",
        "    ########################################################################################################################\n",
        "\n",
        "    # Display the models summary.\n",
        "    model.summary()\n",
        "    \n",
        "    # Return the constructed LRCN model.\n",
        "    return model"
      ],
      "metadata": {
        "id": "ANf9NyOAw7Fa"
      },
      "execution_count": 10,
      "outputs": []
    },
    {
      "cell_type": "code",
      "source": [
        "# Construct the required LRCN model.\n",
        "LRCN_model = create_LRCN_model()\n",
        "\n",
        "# Display the success message.\n",
        "print(\"Model Created Successfully!\")"
      ],
      "metadata": {
        "id": "VX1aE7GoxSHl",
        "outputId": "7c28325e-246e-4357-94f8-375cbc4edb71",
        "colab": {
          "base_uri": "https://localhost:8080/"
        }
      },
      "execution_count": 11,
      "outputs": [
        {
          "output_type": "stream",
          "name": "stdout",
          "text": [
            "Model: \"sequential\"\n",
            "_________________________________________________________________\n",
            " Layer (type)                Output Shape              Param #   \n",
            "=================================================================\n",
            " time_distributed (TimeDistr  (None, 30, 64, 64, 16)   448       \n",
            " ibuted)                                                         \n",
            "                                                                 \n",
            " time_distributed_1 (TimeDis  (None, 30, 64, 64, 16)   64        \n",
            " tributed)                                                       \n",
            "                                                                 \n",
            " time_distributed_2 (TimeDis  (None, 30, 64, 64, 16)   0         \n",
            " tributed)                                                       \n",
            "                                                                 \n",
            " time_distributed_3 (TimeDis  (None, 30, 16, 16, 16)   0         \n",
            " tributed)                                                       \n",
            "                                                                 \n",
            " time_distributed_4 (TimeDis  (None, 30, 16, 16, 16)   0         \n",
            " tributed)                                                       \n",
            "                                                                 \n",
            " time_distributed_5 (TimeDis  (None, 30, 16, 16, 32)   4640      \n",
            " tributed)                                                       \n",
            "                                                                 \n",
            " time_distributed_6 (TimeDis  (None, 30, 16, 16, 32)   128       \n",
            " tributed)                                                       \n",
            "                                                                 \n",
            " time_distributed_7 (TimeDis  (None, 30, 16, 16, 32)   0         \n",
            " tributed)                                                       \n",
            "                                                                 \n",
            " time_distributed_8 (TimeDis  (None, 30, 4, 4, 32)     0         \n",
            " tributed)                                                       \n",
            "                                                                 \n",
            " time_distributed_9 (TimeDis  (None, 30, 4, 4, 32)     0         \n",
            " tributed)                                                       \n",
            "                                                                 \n",
            " time_distributed_10 (TimeDi  (None, 30, 4, 4, 64)     18496     \n",
            " stributed)                                                      \n",
            "                                                                 \n",
            " time_distributed_11 (TimeDi  (None, 30, 4, 4, 64)     256       \n",
            " stributed)                                                      \n",
            "                                                                 \n",
            " time_distributed_12 (TimeDi  (None, 30, 4, 4, 64)     0         \n",
            " stributed)                                                      \n",
            "                                                                 \n",
            " time_distributed_13 (TimeDi  (None, 30, 2, 2, 64)     0         \n",
            " stributed)                                                      \n",
            "                                                                 \n",
            " time_distributed_14 (TimeDi  (None, 30, 2, 2, 64)     0         \n",
            " stributed)                                                      \n",
            "                                                                 \n",
            " time_distributed_15 (TimeDi  (None, 30, 2, 2, 64)     36928     \n",
            " stributed)                                                      \n",
            "                                                                 \n",
            " time_distributed_16 (TimeDi  (None, 30, 2, 2, 64)     256       \n",
            " stributed)                                                      \n",
            "                                                                 \n",
            " time_distributed_17 (TimeDi  (None, 30, 2, 2, 64)     0         \n",
            " stributed)                                                      \n",
            "                                                                 \n",
            " time_distributed_18 (TimeDi  (None, 30, 1, 1, 64)     0         \n",
            " stributed)                                                      \n",
            "                                                                 \n",
            " time_distributed_19 (TimeDi  (None, 30, 64)           0         \n",
            " stributed)                                                      \n",
            "                                                                 \n",
            " lstm (LSTM)                 (None, 64)                33024     \n",
            "                                                                 \n",
            " dense (Dense)               (None, 6)                 390       \n",
            "                                                                 \n",
            "=================================================================\n",
            "Total params: 94,630\n",
            "Trainable params: 94,278\n",
            "Non-trainable params: 352\n",
            "_________________________________________________________________\n",
            "Model Created Successfully!\n"
          ]
        }
      ]
    },
    {
      "cell_type": "code",
      "source": [
        "import tensorflow as tf"
      ],
      "metadata": {
        "id": "b58XgVEZlh4Q"
      },
      "execution_count": 12,
      "outputs": []
    },
    {
      "cell_type": "code",
      "source": [
        "# Create an Instance of Early Stopping Callback.\n",
        "early_stopping_callback = EarlyStopping(monitor = 'val_loss', patience = 25, mode = 'min', restore_best_weights = True)\n",
        " \n",
        "# Compile the model and specify loss function, optimizer and metrics to the model.\n",
        "LRCN_model.compile(loss=tf.keras.losses.Poisson(), optimizer = 'Adam', metrics = [\"accuracy\"])\n",
        "\n",
        "# Start training the model.\n",
        "LRCN_model_training_history = LRCN_model.fit(x = features_train, y = labels_train, epochs = 150, batch_size = 4 ,\n",
        "                                             shuffle = True, validation_split = 0.1, callbacks = [early_stopping_callback])"
      ],
      "metadata": {
        "id": "-wmt7CHExUgm",
        "outputId": "5bf8a16e-8d76-4d7d-ec7e-61e11b7dcce8",
        "colab": {
          "base_uri": "https://localhost:8080/"
        }
      },
      "execution_count": 13,
      "outputs": [
        {
          "output_type": "stream",
          "name": "stdout",
          "text": [
            "Epoch 1/150\n",
            "419/419 [==============================] - 20s 17ms/step - loss: 0.4376 - accuracy: 0.3345 - val_loss: 0.5038 - val_accuracy: 0.1989\n",
            "Epoch 2/150\n",
            "419/419 [==============================] - 6s 14ms/step - loss: 0.3736 - accuracy: 0.4689 - val_loss: 0.4163 - val_accuracy: 0.4624\n",
            "Epoch 3/150\n",
            "419/419 [==============================] - 6s 14ms/step - loss: 0.3531 - accuracy: 0.5472 - val_loss: 0.4302 - val_accuracy: 0.4194\n",
            "Epoch 4/150\n",
            "419/419 [==============================] - 6s 14ms/step - loss: 0.3268 - accuracy: 0.6093 - val_loss: 0.4028 - val_accuracy: 0.4946\n",
            "Epoch 5/150\n",
            "419/419 [==============================] - 6s 14ms/step - loss: 0.3218 - accuracy: 0.6207 - val_loss: 0.3763 - val_accuracy: 0.5753\n",
            "Epoch 6/150\n",
            "419/419 [==============================] - 6s 14ms/step - loss: 0.3036 - accuracy: 0.6894 - val_loss: 0.2865 - val_accuracy: 0.7473\n",
            "Epoch 7/150\n",
            "419/419 [==============================] - 6s 14ms/step - loss: 0.3003 - accuracy: 0.6768 - val_loss: 0.4009 - val_accuracy: 0.5699\n",
            "Epoch 8/150\n",
            "419/419 [==============================] - 6s 14ms/step - loss: 0.2870 - accuracy: 0.7133 - val_loss: 0.3480 - val_accuracy: 0.5806\n",
            "Epoch 9/150\n",
            "419/419 [==============================] - 6s 14ms/step - loss: 0.2795 - accuracy: 0.7366 - val_loss: 0.3009 - val_accuracy: 0.7043\n",
            "Epoch 10/150\n",
            "419/419 [==============================] - 6s 14ms/step - loss: 0.2698 - accuracy: 0.7616 - val_loss: 0.2560 - val_accuracy: 0.7957\n",
            "Epoch 11/150\n",
            "419/419 [==============================] - 6s 14ms/step - loss: 0.2564 - accuracy: 0.7987 - val_loss: 0.3525 - val_accuracy: 0.5699\n",
            "Epoch 12/150\n",
            "419/419 [==============================] - 6s 15ms/step - loss: 0.2534 - accuracy: 0.8130 - val_loss: 0.2964 - val_accuracy: 0.7258\n",
            "Epoch 13/150\n",
            "419/419 [==============================] - 6s 14ms/step - loss: 0.2452 - accuracy: 0.8244 - val_loss: 0.3866 - val_accuracy: 0.6344\n",
            "Epoch 14/150\n",
            "419/419 [==============================] - 6s 14ms/step - loss: 0.2345 - accuracy: 0.8536 - val_loss: 0.2221 - val_accuracy: 0.8925\n",
            "Epoch 15/150\n",
            "419/419 [==============================] - 6s 14ms/step - loss: 0.2383 - accuracy: 0.8387 - val_loss: 0.4063 - val_accuracy: 0.5806\n",
            "Epoch 16/150\n",
            "419/419 [==============================] - 6s 14ms/step - loss: 0.2333 - accuracy: 0.8608 - val_loss: 0.2765 - val_accuracy: 0.7796\n",
            "Epoch 17/150\n",
            "419/419 [==============================] - 6s 14ms/step - loss: 0.2333 - accuracy: 0.8524 - val_loss: 0.2093 - val_accuracy: 0.9355\n",
            "Epoch 18/150\n",
            "419/419 [==============================] - 6s 14ms/step - loss: 0.2236 - accuracy: 0.8811 - val_loss: 0.2870 - val_accuracy: 0.7366\n",
            "Epoch 19/150\n",
            "419/419 [==============================] - 6s 14ms/step - loss: 0.2236 - accuracy: 0.8751 - val_loss: 0.2576 - val_accuracy: 0.7957\n",
            "Epoch 20/150\n",
            "419/419 [==============================] - 6s 14ms/step - loss: 0.2189 - accuracy: 0.8871 - val_loss: 0.2589 - val_accuracy: 0.8226\n",
            "Epoch 21/150\n",
            "419/419 [==============================] - 6s 14ms/step - loss: 0.2213 - accuracy: 0.8841 - val_loss: 0.3426 - val_accuracy: 0.7151\n",
            "Epoch 22/150\n",
            "419/419 [==============================] - 6s 15ms/step - loss: 0.2128 - accuracy: 0.9032 - val_loss: 0.2249 - val_accuracy: 0.8602\n",
            "Epoch 23/150\n",
            "419/419 [==============================] - 6s 14ms/step - loss: 0.2097 - accuracy: 0.9146 - val_loss: 0.2323 - val_accuracy: 0.8817\n",
            "Epoch 24/150\n",
            "419/419 [==============================] - 6s 15ms/step - loss: 0.2099 - accuracy: 0.9092 - val_loss: 0.2542 - val_accuracy: 0.8065\n",
            "Epoch 25/150\n",
            "419/419 [==============================] - 6s 14ms/step - loss: 0.2072 - accuracy: 0.9110 - val_loss: 0.2442 - val_accuracy: 0.8333\n",
            "Epoch 26/150\n",
            "419/419 [==============================] - 6s 14ms/step - loss: 0.2050 - accuracy: 0.9182 - val_loss: 0.2757 - val_accuracy: 0.8065\n",
            "Epoch 27/150\n",
            "419/419 [==============================] - 6s 14ms/step - loss: 0.2027 - accuracy: 0.9235 - val_loss: 0.2337 - val_accuracy: 0.8548\n",
            "Epoch 28/150\n",
            "419/419 [==============================] - 6s 15ms/step - loss: 0.2020 - accuracy: 0.9235 - val_loss: 0.2401 - val_accuracy: 0.8763\n",
            "Epoch 29/150\n",
            "419/419 [==============================] - 6s 15ms/step - loss: 0.1995 - accuracy: 0.9301 - val_loss: 0.2528 - val_accuracy: 0.8387\n",
            "Epoch 30/150\n",
            "419/419 [==============================] - 6s 14ms/step - loss: 0.2005 - accuracy: 0.9265 - val_loss: 0.2905 - val_accuracy: 0.7634\n",
            "Epoch 31/150\n",
            "419/419 [==============================] - 6s 15ms/step - loss: 0.2014 - accuracy: 0.9271 - val_loss: 0.2784 - val_accuracy: 0.8441\n",
            "Epoch 32/150\n",
            "419/419 [==============================] - 6s 15ms/step - loss: 0.1956 - accuracy: 0.9355 - val_loss: 0.2117 - val_accuracy: 0.9140\n",
            "Epoch 33/150\n",
            "419/419 [==============================] - 6s 15ms/step - loss: 0.1963 - accuracy: 0.9361 - val_loss: 0.2093 - val_accuracy: 0.9301\n",
            "Epoch 34/150\n",
            "419/419 [==============================] - 6s 15ms/step - loss: 0.1945 - accuracy: 0.9397 - val_loss: 0.2222 - val_accuracy: 0.8871\n",
            "Epoch 35/150\n",
            "419/419 [==============================] - 6s 15ms/step - loss: 0.1949 - accuracy: 0.9421 - val_loss: 0.2240 - val_accuracy: 0.8656\n",
            "Epoch 36/150\n",
            "419/419 [==============================] - 6s 14ms/step - loss: 0.1889 - accuracy: 0.9510 - val_loss: 0.2161 - val_accuracy: 0.9140\n",
            "Epoch 37/150\n",
            "419/419 [==============================] - 6s 15ms/step - loss: 0.1925 - accuracy: 0.9450 - val_loss: 0.3414 - val_accuracy: 0.7151\n",
            "Epoch 38/150\n",
            "419/419 [==============================] - 6s 15ms/step - loss: 0.1962 - accuracy: 0.9349 - val_loss: 0.2018 - val_accuracy: 0.9086\n",
            "Epoch 39/150\n",
            "419/419 [==============================] - 6s 15ms/step - loss: 0.1919 - accuracy: 0.9456 - val_loss: 0.2122 - val_accuracy: 0.9247\n",
            "Epoch 40/150\n",
            "419/419 [==============================] - 6s 15ms/step - loss: 0.1848 - accuracy: 0.9659 - val_loss: 0.2266 - val_accuracy: 0.8871\n",
            "Epoch 41/150\n",
            "419/419 [==============================] - 6s 15ms/step - loss: 0.1918 - accuracy: 0.9474 - val_loss: 0.2062 - val_accuracy: 0.9140\n",
            "Epoch 42/150\n",
            "419/419 [==============================] - 6s 15ms/step - loss: 0.1911 - accuracy: 0.9492 - val_loss: 0.2177 - val_accuracy: 0.9032\n",
            "Epoch 43/150\n",
            "419/419 [==============================] - 6s 14ms/step - loss: 0.1861 - accuracy: 0.9594 - val_loss: 0.2126 - val_accuracy: 0.8978\n",
            "Epoch 44/150\n",
            "419/419 [==============================] - 6s 15ms/step - loss: 0.1888 - accuracy: 0.9498 - val_loss: 0.2656 - val_accuracy: 0.8441\n",
            "Epoch 45/150\n",
            "419/419 [==============================] - 6s 15ms/step - loss: 0.1876 - accuracy: 0.9552 - val_loss: 0.2352 - val_accuracy: 0.8495\n",
            "Epoch 46/150\n",
            "419/419 [==============================] - 6s 15ms/step - loss: 0.1868 - accuracy: 0.9552 - val_loss: 0.2310 - val_accuracy: 0.8548\n",
            "Epoch 47/150\n",
            "419/419 [==============================] - 6s 14ms/step - loss: 0.1880 - accuracy: 0.9540 - val_loss: 0.2210 - val_accuracy: 0.9032\n",
            "Epoch 48/150\n",
            "419/419 [==============================] - 6s 14ms/step - loss: 0.1835 - accuracy: 0.9671 - val_loss: 0.1946 - val_accuracy: 0.9516\n",
            "Epoch 49/150\n",
            "419/419 [==============================] - 6s 15ms/step - loss: 0.1899 - accuracy: 0.9498 - val_loss: 0.2182 - val_accuracy: 0.9140\n",
            "Epoch 50/150\n",
            "419/419 [==============================] - 6s 14ms/step - loss: 0.1835 - accuracy: 0.9630 - val_loss: 0.2080 - val_accuracy: 0.9247\n",
            "Epoch 51/150\n",
            "419/419 [==============================] - 6s 14ms/step - loss: 0.1847 - accuracy: 0.9654 - val_loss: 0.2150 - val_accuracy: 0.9301\n",
            "Epoch 52/150\n",
            "419/419 [==============================] - 6s 14ms/step - loss: 0.1847 - accuracy: 0.9624 - val_loss: 0.2179 - val_accuracy: 0.8871\n",
            "Epoch 53/150\n",
            "419/419 [==============================] - 6s 14ms/step - loss: 0.1828 - accuracy: 0.9659 - val_loss: 0.2508 - val_accuracy: 0.8548\n",
            "Epoch 54/150\n",
            "419/419 [==============================] - 6s 14ms/step - loss: 0.1859 - accuracy: 0.9618 - val_loss: 0.2231 - val_accuracy: 0.8817\n",
            "Epoch 55/150\n",
            "419/419 [==============================] - 6s 14ms/step - loss: 0.1822 - accuracy: 0.9659 - val_loss: 0.2291 - val_accuracy: 0.8817\n",
            "Epoch 56/150\n",
            "419/419 [==============================] - 6s 14ms/step - loss: 0.1845 - accuracy: 0.9606 - val_loss: 0.1946 - val_accuracy: 0.9409\n",
            "Epoch 57/150\n",
            "419/419 [==============================] - 6s 14ms/step - loss: 0.1832 - accuracy: 0.9630 - val_loss: 0.3004 - val_accuracy: 0.7957\n",
            "Epoch 58/150\n",
            "419/419 [==============================] - 6s 14ms/step - loss: 0.1823 - accuracy: 0.9677 - val_loss: 0.2374 - val_accuracy: 0.8710\n",
            "Epoch 59/150\n",
            "419/419 [==============================] - 6s 15ms/step - loss: 0.1829 - accuracy: 0.9677 - val_loss: 0.2707 - val_accuracy: 0.8333\n",
            "Epoch 60/150\n",
            "419/419 [==============================] - 6s 15ms/step - loss: 0.1819 - accuracy: 0.9677 - val_loss: 0.1917 - val_accuracy: 0.9570\n",
            "Epoch 61/150\n",
            "419/419 [==============================] - 6s 14ms/step - loss: 0.1842 - accuracy: 0.9636 - val_loss: 0.2108 - val_accuracy: 0.9140\n",
            "Epoch 62/150\n",
            "419/419 [==============================] - 6s 15ms/step - loss: 0.1810 - accuracy: 0.9713 - val_loss: 0.1939 - val_accuracy: 0.9355\n",
            "Epoch 63/150\n",
            "419/419 [==============================] - 6s 15ms/step - loss: 0.1789 - accuracy: 0.9767 - val_loss: 0.2034 - val_accuracy: 0.9140\n",
            "Epoch 64/150\n",
            "419/419 [==============================] - 6s 15ms/step - loss: 0.1811 - accuracy: 0.9701 - val_loss: 0.2186 - val_accuracy: 0.8925\n",
            "Epoch 65/150\n",
            "419/419 [==============================] - 6s 15ms/step - loss: 0.1784 - accuracy: 0.9791 - val_loss: 0.2278 - val_accuracy: 0.9086\n",
            "Epoch 66/150\n",
            "419/419 [==============================] - 6s 15ms/step - loss: 0.1800 - accuracy: 0.9731 - val_loss: 0.1943 - val_accuracy: 0.9355\n",
            "Epoch 67/150\n",
            "419/419 [==============================] - 6s 14ms/step - loss: 0.1787 - accuracy: 0.9755 - val_loss: 0.2378 - val_accuracy: 0.8710\n",
            "Epoch 68/150\n",
            "419/419 [==============================] - 6s 14ms/step - loss: 0.1801 - accuracy: 0.9713 - val_loss: 0.1996 - val_accuracy: 0.9355\n",
            "Epoch 69/150\n",
            "419/419 [==============================] - 6s 15ms/step - loss: 0.1788 - accuracy: 0.9749 - val_loss: 0.2360 - val_accuracy: 0.8978\n",
            "Epoch 70/150\n",
            "419/419 [==============================] - 6s 15ms/step - loss: 0.1784 - accuracy: 0.9779 - val_loss: 0.1993 - val_accuracy: 0.9301\n",
            "Epoch 71/150\n",
            "419/419 [==============================] - 6s 15ms/step - loss: 0.1816 - accuracy: 0.9725 - val_loss: 0.2256 - val_accuracy: 0.8871\n",
            "Epoch 72/150\n",
            "419/419 [==============================] - 6s 15ms/step - loss: 0.1773 - accuracy: 0.9749 - val_loss: 0.2163 - val_accuracy: 0.9247\n",
            "Epoch 73/150\n",
            "419/419 [==============================] - 6s 14ms/step - loss: 0.1798 - accuracy: 0.9737 - val_loss: 0.2014 - val_accuracy: 0.9301\n",
            "Epoch 74/150\n",
            "419/419 [==============================] - 6s 15ms/step - loss: 0.1812 - accuracy: 0.9713 - val_loss: 0.2036 - val_accuracy: 0.9140\n",
            "Epoch 75/150\n",
            "419/419 [==============================] - 6s 15ms/step - loss: 0.1788 - accuracy: 0.9725 - val_loss: 0.2168 - val_accuracy: 0.8817\n",
            "Epoch 76/150\n",
            "419/419 [==============================] - 6s 14ms/step - loss: 0.1790 - accuracy: 0.9707 - val_loss: 0.2153 - val_accuracy: 0.9086\n",
            "Epoch 77/150\n",
            "419/419 [==============================] - 6s 15ms/step - loss: 0.1805 - accuracy: 0.9713 - val_loss: 0.1889 - val_accuracy: 0.9624\n",
            "Epoch 78/150\n",
            "419/419 [==============================] - 6s 15ms/step - loss: 0.1799 - accuracy: 0.9725 - val_loss: 0.1982 - val_accuracy: 0.9462\n",
            "Epoch 79/150\n",
            "419/419 [==============================] - 6s 15ms/step - loss: 0.1787 - accuracy: 0.9773 - val_loss: 0.1860 - val_accuracy: 0.9624\n",
            "Epoch 80/150\n",
            "419/419 [==============================] - 6s 14ms/step - loss: 0.1765 - accuracy: 0.9785 - val_loss: 0.2785 - val_accuracy: 0.8226\n",
            "Epoch 81/150\n",
            "419/419 [==============================] - 6s 14ms/step - loss: 0.1793 - accuracy: 0.9743 - val_loss: 0.2389 - val_accuracy: 0.8656\n",
            "Epoch 82/150\n",
            "419/419 [==============================] - 6s 15ms/step - loss: 0.1743 - accuracy: 0.9833 - val_loss: 0.1952 - val_accuracy: 0.9516\n",
            "Epoch 83/150\n",
            "419/419 [==============================] - 6s 15ms/step - loss: 0.1788 - accuracy: 0.9791 - val_loss: 0.1785 - val_accuracy: 0.9785\n",
            "Epoch 84/150\n",
            "419/419 [==============================] - 6s 15ms/step - loss: 0.1765 - accuracy: 0.9827 - val_loss: 0.2240 - val_accuracy: 0.8925\n",
            "Epoch 85/150\n",
            "419/419 [==============================] - 6s 15ms/step - loss: 0.1789 - accuracy: 0.9713 - val_loss: 0.1827 - val_accuracy: 0.9731\n",
            "Epoch 86/150\n",
            "419/419 [==============================] - 6s 15ms/step - loss: 0.1768 - accuracy: 0.9791 - val_loss: 0.2694 - val_accuracy: 0.8387\n",
            "Epoch 87/150\n",
            "419/419 [==============================] - 6s 15ms/step - loss: 0.1762 - accuracy: 0.9797 - val_loss: 0.2603 - val_accuracy: 0.8495\n",
            "Epoch 88/150\n",
            "419/419 [==============================] - 6s 15ms/step - loss: 0.1796 - accuracy: 0.9701 - val_loss: 0.2007 - val_accuracy: 0.9355\n",
            "Epoch 89/150\n",
            "419/419 [==============================] - 6s 15ms/step - loss: 0.1762 - accuracy: 0.9797 - val_loss: 0.1985 - val_accuracy: 0.9247\n",
            "Epoch 90/150\n",
            "419/419 [==============================] - 6s 15ms/step - loss: 0.1808 - accuracy: 0.9719 - val_loss: 0.2179 - val_accuracy: 0.9032\n",
            "Epoch 91/150\n",
            "419/419 [==============================] - 6s 15ms/step - loss: 0.1717 - accuracy: 0.9946 - val_loss: 0.1981 - val_accuracy: 0.9516\n",
            "Epoch 92/150\n",
            "419/419 [==============================] - 6s 15ms/step - loss: 0.1795 - accuracy: 0.9737 - val_loss: 0.2010 - val_accuracy: 0.9247\n",
            "Epoch 93/150\n",
            "419/419 [==============================] - 6s 14ms/step - loss: 0.1721 - accuracy: 0.9892 - val_loss: 0.1947 - val_accuracy: 0.9516\n",
            "Epoch 94/150\n",
            "419/419 [==============================] - 6s 15ms/step - loss: 0.1765 - accuracy: 0.9785 - val_loss: 0.2168 - val_accuracy: 0.8925\n",
            "Epoch 95/150\n",
            "419/419 [==============================] - 6s 15ms/step - loss: 0.1786 - accuracy: 0.9713 - val_loss: 0.2163 - val_accuracy: 0.9086\n",
            "Epoch 96/150\n",
            "419/419 [==============================] - 6s 15ms/step - loss: 0.1749 - accuracy: 0.9809 - val_loss: 0.2095 - val_accuracy: 0.9247\n",
            "Epoch 97/150\n",
            "419/419 [==============================] - 6s 15ms/step - loss: 0.1727 - accuracy: 0.9881 - val_loss: 0.1962 - val_accuracy: 0.9355\n",
            "Epoch 98/150\n",
            "419/419 [==============================] - 6s 15ms/step - loss: 0.1767 - accuracy: 0.9803 - val_loss: 0.2062 - val_accuracy: 0.9355\n",
            "Epoch 99/150\n",
            "419/419 [==============================] - 6s 14ms/step - loss: 0.1775 - accuracy: 0.9749 - val_loss: 0.1951 - val_accuracy: 0.9355\n",
            "Epoch 100/150\n",
            "419/419 [==============================] - 6s 14ms/step - loss: 0.1750 - accuracy: 0.9857 - val_loss: 0.1895 - val_accuracy: 0.9301\n",
            "Epoch 101/150\n",
            "419/419 [==============================] - 6s 15ms/step - loss: 0.1707 - accuracy: 0.9934 - val_loss: 0.1821 - val_accuracy: 0.9731\n",
            "Epoch 102/150\n",
            "419/419 [==============================] - 6s 15ms/step - loss: 0.1735 - accuracy: 0.9851 - val_loss: 0.2360 - val_accuracy: 0.9032\n",
            "Epoch 103/150\n",
            "419/419 [==============================] - 6s 15ms/step - loss: 0.1808 - accuracy: 0.9731 - val_loss: 0.2106 - val_accuracy: 0.9194\n",
            "Epoch 104/150\n",
            "419/419 [==============================] - 6s 15ms/step - loss: 0.1780 - accuracy: 0.9809 - val_loss: 0.2234 - val_accuracy: 0.8871\n",
            "Epoch 105/150\n",
            "419/419 [==============================] - 6s 14ms/step - loss: 0.1768 - accuracy: 0.9797 - val_loss: 0.1982 - val_accuracy: 0.9355\n",
            "Epoch 106/150\n",
            "419/419 [==============================] - 6s 14ms/step - loss: 0.1727 - accuracy: 0.9875 - val_loss: 0.1978 - val_accuracy: 0.9516\n",
            "Epoch 107/150\n",
            "419/419 [==============================] - 6s 14ms/step - loss: 0.1733 - accuracy: 0.9886 - val_loss: 0.2037 - val_accuracy: 0.9516\n",
            "Epoch 108/150\n",
            "419/419 [==============================] - 6s 14ms/step - loss: 0.1726 - accuracy: 0.9904 - val_loss: 0.2017 - val_accuracy: 0.9409\n"
          ]
        }
      ]
    },
    {
      "cell_type": "code",
      "source": [
        "# Evaluate the trained model.\n",
        "model_evaluation_history = LRCN_model.evaluate(features_test, labels_test)"
      ],
      "metadata": {
        "id": "hhLgaWvCxZ-e",
        "outputId": "34b7e971-50da-4bbc-dfb2-b41dff2a8aba",
        "colab": {
          "base_uri": "https://localhost:8080/"
        }
      },
      "execution_count": 14,
      "outputs": [
        {
          "output_type": "stream",
          "name": "stdout",
          "text": [
            "7/7 [==============================] - 1s 56ms/step - loss: 0.2078 - accuracy: 0.9082\n"
          ]
        }
      ]
    },
    {
      "cell_type": "code",
      "source": [
        "# Get the loss and accuracy from model_evaluation_history.\n",
        "model_evaluation_loss, model_evaluation_accuracy = model_evaluation_history\n",
        "\n",
        "# Define the string date format.\n",
        "# Get the current Date and Time in a DateTime Object.\n",
        "# Convert the DateTime object to string according to the style mentioned in date_time_format string.\n",
        "date_time_format = '%Y_%m_%d__%H_%M_%S'\n",
        "current_date_time_dt = dt.datetime.now()\n",
        "current_date_time_string = dt.datetime.strftime(current_date_time_dt, date_time_format)\n",
        "    \n",
        "# Define a useful name for our model to make it easy for us while navigating through multiple saved models.\n",
        "model_file_name = f'landmark3_lr=0.001___Accuracy_{model_evaluation_accuracy}___Loss_{model_evaluation_loss}.h5'\n",
        "\n",
        "# Save the Model.\n",
        "#LRCN_model.save('/content/drive/My Drive/marwa/saved_models/lrcn/'+model_file_name)"
      ],
      "metadata": {
        "id": "g8wWe5lR1GRp"
      },
      "execution_count": 15,
      "outputs": []
    },
    {
      "cell_type": "code",
      "source": [
        "def plot_metric(model_training_history, metric_name_1, metric_name_2, plot_name):\n",
        "    '''\n",
        "    This function will plot the metrics passed to it in a graph.\n",
        "    Args:\n",
        "        model_training_history: A history object containing a record of training and validation \n",
        "                                loss values and metrics values at successive epochs\n",
        "        metric_name_1:          The name of the first metric that needs to be plotted in the graph.\n",
        "        metric_name_2:          The name of the second metric that needs to be plotted in the graph.\n",
        "        plot_name:              The title of the graph.\n",
        "    '''\n",
        "    \n",
        "    # Get metric values using metric names as identifiers.\n",
        "    metric_value_1 = model_training_history.history[metric_name_1]\n",
        "    metric_value_2 = model_training_history.history[metric_name_2]\n",
        "    \n",
        "    # Construct a range object which will be used as x-axis (horizontal plane) of the graph.\n",
        "    epochs = range(len(metric_value_1))\n",
        "\n",
        "    # Plot the Graph.\n",
        "    plt.plot(epochs, metric_value_1, 'blue', label = metric_name_1)\n",
        "    plt.plot(epochs, metric_value_2, 'red', label = metric_name_2)\n",
        "\n",
        "    # Add title to the plot.\n",
        "    plt.title(str(plot_name))\n",
        "\n",
        "    # Add legend to the plot.\n",
        "    plt.legend()"
      ],
      "metadata": {
        "id": "ZiSh_i871KAd"
      },
      "execution_count": 16,
      "outputs": []
    },
    {
      "cell_type": "code",
      "source": [
        "# Visualize the training and validation loss metrices.\n",
        "plot_metric(LRCN_model_training_history, 'loss', 'val_loss', 'Total Loss vs Total Validation Loss')"
      ],
      "metadata": {
        "id": "7HjkIAJj1Ncw",
        "outputId": "cc432b28-4722-4fa7-c4f8-3ce4f3c9003b",
        "colab": {
          "base_uri": "https://localhost:8080/",
          "height": 281
        }
      },
      "execution_count": 17,
      "outputs": [
        {
          "output_type": "display_data",
          "data": {
            "text/plain": [
              "<Figure size 432x288 with 1 Axes>"
            ],
            "image/png": "[encoded data removed]"
          },
          "metadata": {
            "needs_background": "light"
          }
        }
      ]
    },
    {
      "cell_type": "code",
      "source": [
        "\n",
        "# Visualize the training and validation accuracy metrices.\n",
        "plot_metric(LRCN_model_training_history, 'accuracy', 'val_accuracy', 'Total Accuracy vs Total Validation Accuracy')"
      ],
      "metadata": {
        "id": "sYTDhDnq1Qce",
        "outputId": "0c3da7ea-6010-4c11-ae47-eb2ee427aff2",
        "colab": {
          "base_uri": "https://localhost:8080/",
          "height": 281
        }
      },
      "execution_count": 18,
      "outputs": [
        {
          "output_type": "display_data",
          "data": {
            "text/plain": [
              "<Figure size 432x288 with 1 Axes>"
            ],
            "image/png": "[encoded data removed]"
          },
          "metadata": {
            "needs_background": "light"
          }
        }
      ]
    },
    {
      "cell_type": "code",
      "source": [
        "predictions =  LRCN_model.predict(features_test)\n",
        "predictions"
      ],
      "metadata": {
        "id": "KrJfAkU41SlN",
        "outputId": "6f31af12-178b-4ecd-b128-010bf7b9f77d",
        "colab": {
          "base_uri": "https://localhost:8080/"
        }
      },
      "execution_count": 19,
      "outputs": [
        {
          "output_type": "execute_result",
          "data": {
            "text/plain": [
              "array([[7.1941924e-01, 1.3586549e-02, 2.0494763e-05, 2.6196879e-01,\n",
              "        2.0490037e-03, 2.9558698e-03],\n",
              "       [3.9856862e-03, 1.7959391e-03, 1.1421103e-05, 9.5824391e-01,\n",
              "        3.6808408e-03, 3.2282252e-02],\n",
              "       [1.1302702e-06, 3.8569335e-05, 9.9994802e-01, 1.3159907e-06,\n",
              "        2.5733018e-06, 8.4360754e-06],\n",
              "       ...,\n",
              "       [3.6025140e-05, 3.9019866e-05, 1.7369067e-06, 1.6158330e-04,\n",
              "        9.3296164e-01, 6.6800058e-02],\n",
              "       [2.2906670e-06, 7.5507643e-07, 8.4949910e-08, 4.7390931e-05,\n",
              "        9.9945480e-01, 4.9472938e-04],\n",
              "       [4.0812407e-05, 9.9950993e-01, 2.7390057e-04, 1.6015761e-04,\n",
              "        4.0247569e-06, 1.1115900e-05]], dtype=float32)"
            ]
          },
          "metadata": {},
          "execution_count": 19
        }
      ]
    },
    {
      "cell_type": "code",
      "source": [
        "preds=predictions.argmax(axis=1)\n",
        "preds"
      ],
      "metadata": {
        "id": "IWZvTQCa1W6M",
        "outputId": "89420b62-96eb-4fd9-ca54-03e6322c36e6",
        "colab": {
          "base_uri": "https://localhost:8080/"
        }
      },
      "execution_count": 20,
      "outputs": [
        {
          "output_type": "execute_result",
          "data": {
            "text/plain": [
              "array([0, 3, 2, 5, 5, 2, 5, 1, 4, 0, 3, 1, 4, 0, 1, 5, 4, 1, 1, 1, 5, 2,\n",
              "       0, 2, 2, 5, 3, 5, 3, 5, 5, 4, 5, 0, 1, 2, 4, 1, 5, 4, 2, 2, 1, 5,\n",
              "       2, 1, 5, 5, 4, 5, 4, 2, 1, 3, 3, 0, 0, 0, 2, 5, 4, 4, 5, 0, 1, 3,\n",
              "       1, 0, 5, 1, 1, 2, 5, 3, 5, 4, 0, 3, 4, 5, 3, 0, 4, 0, 1, 1, 2, 3,\n",
              "       3, 5, 5, 1, 0, 1, 5, 5, 1, 2, 5, 3, 4, 3, 3, 5, 5, 3, 2, 1, 4, 1,\n",
              "       5, 1, 0, 1, 4, 0, 4, 1, 1, 1, 1, 5, 1, 4, 1, 2, 3, 2, 5, 1, 1, 0,\n",
              "       1, 5, 1, 0, 5, 0, 1, 1, 2, 1, 2, 3, 1, 2, 3, 0, 0, 3, 2, 3, 5, 3,\n",
              "       1, 2, 1, 3, 0, 0, 1, 3, 3, 2, 4, 0, 0, 5, 5, 4, 4, 3, 1, 5, 3, 1,\n",
              "       5, 0, 4, 5, 4, 0, 0, 5, 3, 3, 1, 3, 3, 4, 1, 4, 1, 0, 4, 2, 3, 1,\n",
              "       5, 5, 3, 2, 5, 2, 4, 4, 1])"
            ]
          },
          "metadata": {},
          "execution_count": 20
        }
      ]
    },
    {
      "cell_type": "code",
      "source": [
        "new_preds = preds.astype(int).flatten()\n",
        "new_preds"
      ],
      "metadata": {
        "id": "0CpgXIkh1Z_v",
        "outputId": "e30c76dc-eebc-46c7-f1b9-e181b233aa34",
        "colab": {
          "base_uri": "https://localhost:8080/"
        }
      },
      "execution_count": 21,
      "outputs": [
        {
          "output_type": "execute_result",
          "data": {
            "text/plain": [
              "array([0, 3, 2, 5, 5, 2, 5, 1, 4, 0, 3, 1, 4, 0, 1, 5, 4, 1, 1, 1, 5, 2,\n",
              "       0, 2, 2, 5, 3, 5, 3, 5, 5, 4, 5, 0, 1, 2, 4, 1, 5, 4, 2, 2, 1, 5,\n",
              "       2, 1, 5, 5, 4, 5, 4, 2, 1, 3, 3, 0, 0, 0, 2, 5, 4, 4, 5, 0, 1, 3,\n",
              "       1, 0, 5, 1, 1, 2, 5, 3, 5, 4, 0, 3, 4, 5, 3, 0, 4, 0, 1, 1, 2, 3,\n",
              "       3, 5, 5, 1, 0, 1, 5, 5, 1, 2, 5, 3, 4, 3, 3, 5, 5, 3, 2, 1, 4, 1,\n",
              "       5, 1, 0, 1, 4, 0, 4, 1, 1, 1, 1, 5, 1, 4, 1, 2, 3, 2, 5, 1, 1, 0,\n",
              "       1, 5, 1, 0, 5, 0, 1, 1, 2, 1, 2, 3, 1, 2, 3, 0, 0, 3, 2, 3, 5, 3,\n",
              "       1, 2, 1, 3, 0, 0, 1, 3, 3, 2, 4, 0, 0, 5, 5, 4, 4, 3, 1, 5, 3, 1,\n",
              "       5, 0, 4, 5, 4, 0, 0, 5, 3, 3, 1, 3, 3, 4, 1, 4, 1, 0, 4, 2, 3, 1,\n",
              "       5, 5, 3, 2, 5, 2, 4, 4, 1])"
            ]
          },
          "metadata": {},
          "execution_count": 21
        }
      ]
    },
    {
      "cell_type": "code",
      "source": [
        "\n",
        "from sklearn.metrics import classification_report, confusion_matrix,accuracy_score\n",
        "import seaborn as sn\n",
        "import pandas as pd\n",
        "import numpy as np\n",
        "new_labels=np.argmax(labels_test, axis=1)\n",
        "print(classification_report(new_labels,new_preds))\n",
        "\n",
        "acc = float(accuracy_score(new_labels,new_preds))*100\n",
        "print(\"----accuracy score %s ----\" % acc)\n",
        "\n",
        "cm = confusion_matrix(new_labels,new_preds)\n",
        "#df_cm = pd.DataFrame(cm)\n",
        "class_names = ['neutral','calm', 'happy','sad','angry', 'fearful' ]\n",
        "df_cm = pd.DataFrame(cm, index=class_names, columns=class_names,)\n",
        "sn.heatmap(df_cm, annot=True, fmt='')\n",
        "plt.show()"
      ],
      "metadata": {
        "id": "7U3HwUqc1cft",
        "outputId": "c8d8ff82-cc0a-47bd-c356-016531f84d8a",
        "colab": {
          "base_uri": "https://localhost:8080/",
          "height": 508
        }
      },
      "execution_count": 22,
      "outputs": [
        {
          "output_type": "stream",
          "name": "stdout",
          "text": [
            "              precision    recall  f1-score   support\n",
            "\n",
            "           0       0.86      0.93      0.89        27\n",
            "           1       0.88      0.95      0.91        44\n",
            "           2       1.00      0.87      0.93        30\n",
            "           3       0.94      0.91      0.93        34\n",
            "           4       1.00      0.82      0.90        34\n",
            "           5       0.84      0.95      0.89        38\n",
            "\n",
            "    accuracy                           0.91       207\n",
            "   macro avg       0.92      0.90      0.91       207\n",
            "weighted avg       0.92      0.91      0.91       207\n",
            "\n",
            "----accuracy score 90.82125603864735 ----\n"
          ]
        },
        {
          "output_type": "display_data",
          "data": {
            "text/plain": [
              "<Figure size 432x288 with 2 Axes>"
            ],
            "image/png": "[encoded data removed]"
          },
          "metadata": {
            "needs_background": "light"
          }
        }
      ]
    },
    {
      "cell_type": "code",
      "source": [
        ""
      ],
      "metadata": {
        "id": "pVlEoCq0-0n3"
      },
      "execution_count": null,
      "outputs": []
    }
  ]
}