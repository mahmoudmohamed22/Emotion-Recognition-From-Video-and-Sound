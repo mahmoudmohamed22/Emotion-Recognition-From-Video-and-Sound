{
  "nbformat": 4,
  "nbformat_minor": 0,
  "metadata": {
    "colab": {
      "name": "original_remove_2_dense_layers_adam_lr=0_0002 increase_kernal_size_to_12 colab pro try 4.ipynb",
      "provenance": [],
      "collapsed_sections": [],
      "machine_shape": "hm"
    },
    "kernelspec": {
      "name": "python3",
      "display_name": "Python 3"
    },
    "language_info": {
      "name": "python"
    },
    "accelerator": "GPU"
  },
  "cells": [
    {
      "cell_type": "code",
      "execution_count": 1,
      "metadata": {
        "colab": {
          "base_uri": "https://localhost:8080/"
        },
        "id": "9SRCO-a_AlH5",
        "outputId": "c4a18b9c-3f3f-4954-9156-76358f50bf50"
      },
      "outputs": [
        {
          "output_type": "stream",
          "name": "stdout",
          "text": [
            "Drive already mounted at /content/drive; to attempt to forcibly remount, call drive.mount(\"/content/drive\", force_remount=True).\n"
          ]
        }
      ],
      "source": [
        "from google.colab import drive\n",
        "drive.mount('/content/drive')"
      ]
    },
    {
      "cell_type": "code",
      "source": [
        "!pip install librosa"
      ],
      "metadata": {
        "colab": {
          "base_uri": "https://localhost:8080/"
        },
        "id": "5Lo4mUwG9RMd",
        "outputId": "7f47c4f9-d70d-4c74-9711-2b3486217900"
      },
      "execution_count": 2,
      "outputs": [
        {
          "output_type": "stream",
          "name": "stdout",
          "text": [
            "Looking in indexes: https://pypi.org/simple, https://us-python.pkg.dev/colab-wheels/public/simple/\n",
            "Requirement already satisfied: librosa in /usr/local/lib/python3.7/dist-packages (0.8.1)\n",
            "Requirement already satisfied: decorator>=3.0.0 in /usr/local/lib/python3.7/dist-packages (from librosa) (4.4.2)\n",
            "Requirement already satisfied: joblib>=0.14 in /usr/local/lib/python3.7/dist-packages (from librosa) (1.1.0)\n",
            "Requirement already satisfied: pooch>=1.0 in /usr/local/lib/python3.7/dist-packages (from librosa) (1.6.0)\n",
            "Requirement already satisfied: soundfile>=0.10.2 in /usr/local/lib/python3.7/dist-packages (from librosa) (0.10.3.post1)\n",
            "Requirement already satisfied: resampy>=0.2.2 in /usr/local/lib/python3.7/dist-packages (from librosa) (0.2.2)\n",
            "Requirement already satisfied: numba>=0.43.0 in /usr/local/lib/python3.7/dist-packages (from librosa) (0.51.2)\n",
            "Requirement already satisfied: scikit-learn!=0.19.0,>=0.14.0 in /usr/local/lib/python3.7/dist-packages (from librosa) (1.0.2)\n",
            "Requirement already satisfied: audioread>=2.0.0 in /usr/local/lib/python3.7/dist-packages (from librosa) (2.1.9)\n",
            "Requirement already satisfied: scipy>=1.0.0 in /usr/local/lib/python3.7/dist-packages (from librosa) (1.4.1)\n",
            "Requirement already satisfied: packaging>=20.0 in /usr/local/lib/python3.7/dist-packages (from librosa) (21.3)\n",
            "Requirement already satisfied: numpy>=1.15.0 in /usr/local/lib/python3.7/dist-packages (from librosa) (1.21.6)\n",
            "Requirement already satisfied: setuptools in /usr/local/lib/python3.7/dist-packages (from numba>=0.43.0->librosa) (57.4.0)\n",
            "Requirement already satisfied: llvmlite<0.35,>=0.34.0.dev0 in /usr/local/lib/python3.7/dist-packages (from numba>=0.43.0->librosa) (0.34.0)\n",
            "Requirement already satisfied: pyparsing!=3.0.5,>=2.0.2 in /usr/local/lib/python3.7/dist-packages (from packaging>=20.0->librosa) (3.0.9)\n",
            "Requirement already satisfied: requests>=2.19.0 in /usr/local/lib/python3.7/dist-packages (from pooch>=1.0->librosa) (2.23.0)\n",
            "Requirement already satisfied: appdirs>=1.3.0 in /usr/local/lib/python3.7/dist-packages (from pooch>=1.0->librosa) (1.4.4)\n",
            "Requirement already satisfied: certifi>=2017.4.17 in /usr/local/lib/python3.7/dist-packages (from requests>=2.19.0->pooch>=1.0->librosa) (2022.5.18.1)\n",
            "Requirement already satisfied: idna<3,>=2.5 in /usr/local/lib/python3.7/dist-packages (from requests>=2.19.0->pooch>=1.0->librosa) (2.10)\n",
            "Requirement already satisfied: chardet<4,>=3.0.2 in /usr/local/lib/python3.7/dist-packages (from requests>=2.19.0->pooch>=1.0->librosa) (3.0.4)\n",
            "Requirement already satisfied: urllib3!=1.25.0,!=1.25.1,<1.26,>=1.21.1 in /usr/local/lib/python3.7/dist-packages (from requests>=2.19.0->pooch>=1.0->librosa) (1.24.3)\n",
            "Requirement already satisfied: six>=1.3 in /usr/local/lib/python3.7/dist-packages (from resampy>=0.2.2->librosa) (1.15.0)\n",
            "Requirement already satisfied: threadpoolctl>=2.0.0 in /usr/local/lib/python3.7/dist-packages (from scikit-learn!=0.19.0,>=0.14.0->librosa) (3.1.0)\n",
            "Requirement already satisfied: cffi>=1.0 in /usr/local/lib/python3.7/dist-packages (from soundfile>=0.10.2->librosa) (1.15.0)\n",
            "Requirement already satisfied: pycparser in /usr/local/lib/python3.7/dist-packages (from cffi>=1.0->soundfile>=0.10.2->librosa) (2.21)\n"
          ]
        }
      ]
    },
    {
      "cell_type": "code",
      "metadata": {
        "id": "HJjcbxwy46bG",
        "colab": {
          "base_uri": "https://localhost:8080/",
          "height": 17
        },
        "outputId": "78b321af-99db-4915-f0d4-54003cdb7236"
      },
      "source": [
        "# Orignial Notebook: https://github.com/MITESHPUTHRANNEU/Speech-Emotion-Analyzer/blob/master/final_results_gender_test.ipynb\n",
        "# This notebook author: Reza Chu\n",
        "# Last Editing Date: 31st May 2019\n",
        "\n",
        "## Python\n",
        "import os\n",
        "import random\n",
        "import sys\n",
        "\n",
        "import IPython\n",
        "from IPython.display import Audio\n",
        "from IPython.display import Image\n",
        "import matplotlib.pyplot as plt\n",
        "\n",
        "## Package\n",
        "import glob \n",
        "import keras\n",
        "import IPython.display as ipd\n",
        "import librosa\n",
        "import librosa.display\n",
        "import matplotlib.pyplot as plt\n",
        "import numpy as np\n",
        "import pandas as pd\n",
        "import plotly.graph_objs as go\n",
        "import plotly.offline as py\n",
        "import plotly.tools as tls\n",
        "import seaborn as sns\n",
        "import scipy.io.wavfile\n",
        "import tensorflow as tf\n",
        "py.init_notebook_mode(connected=True)\n",
        "\n",
        "## Keras\n",
        "from keras import regularizers\n",
        "from keras.callbacks import ModelCheckpoint, LearningRateScheduler, EarlyStopping\n",
        "from keras.callbacks import  History, ReduceLROnPlateau, CSVLogger\n",
        "from keras.models import Model, Sequential\n",
        "from keras.layers import Dense, Embedding, LSTM\n",
        "from keras.layers import Input, Flatten, Dropout, Activation, BatchNormalization\n",
        "from keras.layers import Conv1D, MaxPooling1D, AveragePooling1D\n",
        "from keras.preprocessing import sequence\n",
        "from keras.preprocessing.sequence import pad_sequences\n",
        "from keras.preprocessing.text import Tokenizer\n",
        "from keras.utils import np_utils\n",
        "from tensorflow.keras.utils import to_categorical\n",
        "\n",
        "## Sklearn\n",
        "from sklearn.metrics import confusion_matrix\n",
        "from sklearn.preprocessing import LabelEncoder\n",
        "\n",
        "## Rest\n",
        "from scipy.fftpack import fft\n",
        "from scipy import signal\n",
        "from scipy.io import wavfile\n",
        "from tqdm import tqdm\n",
        "\n",
        "input_duration=3\n",
        "# % pylab inline"
      ],
      "execution_count": 3,
      "outputs": [
        {
          "output_type": "display_data",
          "data": {
            "text/html": [
              "        <script type=\"text/javascript\">\n",
              "        window.PlotlyConfig = {MathJaxConfig: 'local'};\n",
              "        if (window.MathJax) {MathJax.Hub.Config({SVG: {font: \"STIX-Web\"}});}\n",
              "        if (typeof require !== 'undefined') {\n",
              "        require.undef(\"plotly\");\n",
              "        requirejs.config({\n",
              "            paths: {\n",
              "                'plotly': ['https://cdn.plot.ly/plotly-2.8.3.min']\n",
              "            }\n",
              "        });\n",
              "        require(['plotly'], function(Plotly) {\n",
              "            window._Plotly = Plotly;\n",
              "        });\n",
              "        }\n",
              "        </script>\n",
              "        "
            ]
          },
          "metadata": {}
        }
      ]
    },
    {
      "cell_type": "code",
      "source": [
        "# # Saving joblib files to not load them again with the loop above\n",
        "\n",
        "# import joblib\n",
        "\n",
        "# X_name = 'x.joblib'\n",
        "# y_name = 'y.joblib'\n",
        "# save_dir = '/content/drive/My Drive/graduation project/audio/paper_code/features'\n",
        "\n",
        "# savedX = joblib.dump(X, os.path.join(save_dir, X_name))\n",
        "# savedy = joblib.dump(y, os.path.join(save_dir, y_name))"
      ],
      "metadata": {
        "id": "UCzic8rlDcuk"
      },
      "execution_count": 4,
      "outputs": []
    },
    {
      "cell_type": "code",
      "source": [
        "# # Loading saved models\n",
        "import joblib\n",
        "X = joblib.load('/content/drive/My Drive/graduation project/audio/paper_code/features/x.joblib')\n",
        "y = joblib.load('/content/drive/My Drive/graduation project/audio/paper_code/features/y.joblib')"
      ],
      "metadata": {
        "id": "Q35CN6zDrzg1"
      },
      "execution_count": 5,
      "outputs": []
    },
    {
      "cell_type": "code",
      "source": [
        "X.shape"
      ],
      "metadata": {
        "id": "7PSTurzjCo5K",
        "colab": {
          "base_uri": "https://localhost:8080/"
        },
        "outputId": "dc9751a8-3c3e-4bff-940b-b6bfab0863ae"
      },
      "execution_count": 6,
      "outputs": [
        {
          "output_type": "execute_result",
          "data": {
            "text/plain": [
              "(2068, 40)"
            ]
          },
          "metadata": {},
          "execution_count": 6
        }
      ]
    },
    {
      "cell_type": "code",
      "source": [
        "from sklearn.model_selection import train_test_split\n",
        "\n",
        "X_train, X_test, y_train, y_test = train_test_split(X,y, test_size=0.1 ,shuffle = True\n",
        "                                                    , random_state=42)\n",
        "X_train , X_valid, y_train, y_valid = train_test_split(X_train,y_train, test_size=0.1112305212 , shuffle = True \n",
        "                                                       , random_state=42)"
      ],
      "metadata": {
        "id": "Ai4Fy5cPCiq1"
      },
      "execution_count": 7,
      "outputs": []
    },
    {
      "cell_type": "code",
      "source": [
        "import numpy as np\n",
        "x_traincnn = np.expand_dims(X_train, axis=2)\n",
        "x_testcnn = np.expand_dims(X_test, axis=2)\n",
        "X_valid= np.expand_dims(X_valid, axis=2)"
      ],
      "metadata": {
        "id": "tp1Fm5K3CEXu"
      },
      "execution_count": 8,
      "outputs": []
    },
    {
      "cell_type": "code",
      "source": [
        "x_traincnn.shape, x_testcnn.shape , X_valid.shape\n",
        "#1861"
      ],
      "metadata": {
        "id": "RI0MxoIPBws5",
        "colab": {
          "base_uri": "https://localhost:8080/"
        },
        "outputId": "f1e4c980-f17f-4aad-911c-4cafb51e48d8"
      },
      "execution_count": 9,
      "outputs": [
        {
          "output_type": "execute_result",
          "data": {
            "text/plain": [
              "((1654, 40, 1), (207, 40, 1), (207, 40, 1))"
            ]
          },
          "metadata": {},
          "execution_count": 9
        }
      ]
    },
    {
      "cell_type": "code",
      "source": [
        "!pip install tensorflow"
      ],
      "metadata": {
        "id": "oALhiMUd9G2Y",
        "colab": {
          "base_uri": "https://localhost:8080/"
        },
        "outputId": "14aa62f0-9379-47ad-fb42-b5ac7a87b951"
      },
      "execution_count": 10,
      "outputs": [
        {
          "output_type": "stream",
          "name": "stdout",
          "text": [
            "Looking in indexes: https://pypi.org/simple, https://us-python.pkg.dev/colab-wheels/public/simple/\n",
            "Requirement already satisfied: tensorflow in /usr/local/lib/python3.7/dist-packages (2.8.2+zzzcolab20220527125636)\n",
            "Requirement already satisfied: astunparse>=1.6.0 in /usr/local/lib/python3.7/dist-packages (from tensorflow) (1.6.3)\n",
            "Requirement already satisfied: grpcio<2.0,>=1.24.3 in /usr/local/lib/python3.7/dist-packages (from tensorflow) (1.46.3)\n",
            "Requirement already satisfied: six>=1.12.0 in /usr/local/lib/python3.7/dist-packages (from tensorflow) (1.15.0)\n",
            "Requirement already satisfied: tensorflow-estimator<2.9,>=2.8 in /usr/local/lib/python3.7/dist-packages (from tensorflow) (2.8.0)\n",
            "Requirement already satisfied: gast>=0.2.1 in /usr/local/lib/python3.7/dist-packages (from tensorflow) (0.5.3)\n",
            "Requirement already satisfied: numpy>=1.20 in /usr/local/lib/python3.7/dist-packages (from tensorflow) (1.21.6)\n",
            "Requirement already satisfied: flatbuffers>=1.12 in /usr/local/lib/python3.7/dist-packages (from tensorflow) (2.0)\n",
            "Requirement already satisfied: keras<2.9,>=2.8.0rc0 in /usr/local/lib/python3.7/dist-packages (from tensorflow) (2.8.0)\n",
            "Requirement already satisfied: h5py>=2.9.0 in /usr/local/lib/python3.7/dist-packages (from tensorflow) (3.1.0)\n",
            "Requirement already satisfied: absl-py>=0.4.0 in /usr/local/lib/python3.7/dist-packages (from tensorflow) (1.0.0)\n",
            "Requirement already satisfied: protobuf<3.20,>=3.9.2 in /usr/local/lib/python3.7/dist-packages (from tensorflow) (3.17.3)\n",
            "Requirement already satisfied: keras-preprocessing>=1.1.1 in /usr/local/lib/python3.7/dist-packages (from tensorflow) (1.1.2)\n",
            "Requirement already satisfied: tensorboard<2.9,>=2.8 in /usr/local/lib/python3.7/dist-packages (from tensorflow) (2.8.0)\n",
            "Requirement already satisfied: google-pasta>=0.1.1 in /usr/local/lib/python3.7/dist-packages (from tensorflow) (0.2.0)\n",
            "Requirement already satisfied: tensorflow-io-gcs-filesystem>=0.23.1 in /usr/local/lib/python3.7/dist-packages (from tensorflow) (0.26.0)\n",
            "Requirement already satisfied: libclang>=9.0.1 in /usr/local/lib/python3.7/dist-packages (from tensorflow) (14.0.1)\n",
            "Requirement already satisfied: typing-extensions>=3.6.6 in /usr/local/lib/python3.7/dist-packages (from tensorflow) (4.2.0)\n",
            "Requirement already satisfied: setuptools in /usr/local/lib/python3.7/dist-packages (from tensorflow) (57.4.0)\n",
            "Requirement already satisfied: opt-einsum>=2.3.2 in /usr/local/lib/python3.7/dist-packages (from tensorflow) (3.3.0)\n",
            "Requirement already satisfied: wrapt>=1.11.0 in /usr/local/lib/python3.7/dist-packages (from tensorflow) (1.14.1)\n",
            "Requirement already satisfied: termcolor>=1.1.0 in /usr/local/lib/python3.7/dist-packages (from tensorflow) (1.1.0)\n",
            "Requirement already satisfied: wheel<1.0,>=0.23.0 in /usr/local/lib/python3.7/dist-packages (from astunparse>=1.6.0->tensorflow) (0.37.1)\n",
            "Requirement already satisfied: cached-property in /usr/local/lib/python3.7/dist-packages (from h5py>=2.9.0->tensorflow) (1.5.2)\n",
            "Requirement already satisfied: tensorboard-plugin-wit>=1.6.0 in /usr/local/lib/python3.7/dist-packages (from tensorboard<2.9,>=2.8->tensorflow) (1.8.1)\n",
            "Requirement already satisfied: google-auth-oauthlib<0.5,>=0.4.1 in /usr/local/lib/python3.7/dist-packages (from tensorboard<2.9,>=2.8->tensorflow) (0.4.6)\n",
            "Requirement already satisfied: markdown>=2.6.8 in /usr/local/lib/python3.7/dist-packages (from tensorboard<2.9,>=2.8->tensorflow) (3.3.7)\n",
            "Requirement already satisfied: requests<3,>=2.21.0 in /usr/local/lib/python3.7/dist-packages (from tensorboard<2.9,>=2.8->tensorflow) (2.23.0)\n",
            "Requirement already satisfied: google-auth<3,>=1.6.3 in /usr/local/lib/python3.7/dist-packages (from tensorboard<2.9,>=2.8->tensorflow) (1.35.0)\n",
            "Requirement already satisfied: tensorboard-data-server<0.7.0,>=0.6.0 in /usr/local/lib/python3.7/dist-packages (from tensorboard<2.9,>=2.8->tensorflow) (0.6.1)\n",
            "Requirement already satisfied: werkzeug>=0.11.15 in /usr/local/lib/python3.7/dist-packages (from tensorboard<2.9,>=2.8->tensorflow) (1.0.1)\n",
            "Requirement already satisfied: rsa<5,>=3.1.4 in /usr/local/lib/python3.7/dist-packages (from google-auth<3,>=1.6.3->tensorboard<2.9,>=2.8->tensorflow) (4.8)\n",
            "Requirement already satisfied: pyasn1-modules>=0.2.1 in /usr/local/lib/python3.7/dist-packages (from google-auth<3,>=1.6.3->tensorboard<2.9,>=2.8->tensorflow) (0.2.8)\n",
            "Requirement already satisfied: cachetools<5.0,>=2.0.0 in /usr/local/lib/python3.7/dist-packages (from google-auth<3,>=1.6.3->tensorboard<2.9,>=2.8->tensorflow) (4.2.4)\n",
            "Requirement already satisfied: requests-oauthlib>=0.7.0 in /usr/local/lib/python3.7/dist-packages (from google-auth-oauthlib<0.5,>=0.4.1->tensorboard<2.9,>=2.8->tensorflow) (1.3.1)\n",
            "Requirement already satisfied: importlib-metadata>=4.4 in /usr/local/lib/python3.7/dist-packages (from markdown>=2.6.8->tensorboard<2.9,>=2.8->tensorflow) (4.11.4)\n",
            "Requirement already satisfied: zipp>=0.5 in /usr/local/lib/python3.7/dist-packages (from importlib-metadata>=4.4->markdown>=2.6.8->tensorboard<2.9,>=2.8->tensorflow) (3.8.0)\n",
            "Requirement already satisfied: pyasn1<0.5.0,>=0.4.6 in /usr/local/lib/python3.7/dist-packages (from pyasn1-modules>=0.2.1->google-auth<3,>=1.6.3->tensorboard<2.9,>=2.8->tensorflow) (0.4.8)\n",
            "Requirement already satisfied: chardet<4,>=3.0.2 in /usr/local/lib/python3.7/dist-packages (from requests<3,>=2.21.0->tensorboard<2.9,>=2.8->tensorflow) (3.0.4)\n",
            "Requirement already satisfied: idna<3,>=2.5 in /usr/local/lib/python3.7/dist-packages (from requests<3,>=2.21.0->tensorboard<2.9,>=2.8->tensorflow) (2.10)\n",
            "Requirement already satisfied: urllib3!=1.25.0,!=1.25.1,<1.26,>=1.21.1 in /usr/local/lib/python3.7/dist-packages (from requests<3,>=2.21.0->tensorboard<2.9,>=2.8->tensorflow) (1.24.3)\n",
            "Requirement already satisfied: certifi>=2017.4.17 in /usr/local/lib/python3.7/dist-packages (from requests<3,>=2.21.0->tensorboard<2.9,>=2.8->tensorflow) (2022.5.18.1)\n",
            "Requirement already satisfied: oauthlib>=3.0.0 in /usr/local/lib/python3.7/dist-packages (from requests-oauthlib>=0.7.0->google-auth-oauthlib<0.5,>=0.4.1->tensorboard<2.9,>=2.8->tensorflow) (3.2.0)\n"
          ]
        }
      ]
    },
    {
      "cell_type": "code",
      "source": [
        "import keras\n",
        "import numpy as np\n",
        "import matplotlib.pyplot as plt\n",
        "import tensorflow as tf\n",
        "from keras.preprocessing import sequence\n",
        "from keras.models import Sequential\n",
        "from keras.layers import Dense, Embedding\n",
        "from tensorflow.keras.utils import to_categorical\n",
        "from keras.layers import Input, Flatten, Dropout, Activation\n",
        "from keras.layers import Conv1D, MaxPooling1D\n",
        "from keras.models import Model\n",
        "from keras.callbacks import ModelCheckpoint\n",
        "from tensorflow.keras import optimizers\n",
        "\n",
        "model = Sequential()\n",
        "\n",
        "model.add(Conv1D(128, 12,padding='same', #classifier.add(Convolution2D(64, (3, 3), padding = 'same', input_shape = (128, 128, 3), activation = 'relu'))\n",
        "                 input_shape=(40,1)))\n",
        "model.add(Activation('relu'))\n",
        "model.add(Dropout(0.3))\n",
        "model.add(MaxPooling1D(pool_size=(5)))\n",
        "\n",
        "\n",
        "model.add(Conv1D(256,12,padding='same',))\n",
        "model.add(Activation('relu'))\n",
        "model.add(Dropout(0.3))\n",
        "model.add(MaxPooling1D(pool_size=(5)))\n",
        "\n",
        "#model.add(MaxPooling1D(pool_size=(5)))\n",
        "\n",
        "model.add(Flatten())\n",
        "\n",
        "\n",
        "\n",
        "model.add(Dense(6))\n",
        "model.add(Activation('softmax'))\n",
        "\n",
        "\n",
        "#opt = tf.keras.optimizers.RMSprop(lr=0.0002 , decay=0.0)\n",
        "opt = tf.keras.optimizers.Adam(lr=0.0002 , decay=0.0)\n",
        "#opt = tf.keras.optimizers.RMSprop(lr=0.0001, rho=0.9, epsilon=1e-07, decay=0.0)\n",
        "#opt = tf.keras.optimizers.SGD(lr=0.001, momentum=0.0, decay=0.0, nesterov=False)"
      ],
      "metadata": {
        "id": "g74fXWVAC4Cr",
        "colab": {
          "base_uri": "https://localhost:8080/"
        },
        "outputId": "3d77f667-5b64-406f-a981-98e0fe9b0136"
      },
      "execution_count": 11,
      "outputs": [
        {
          "output_type": "stream",
          "name": "stderr",
          "text": [
            "/usr/local/lib/python3.7/dist-packages/keras/optimizer_v2/adam.py:105: UserWarning:\n",
            "\n",
            "The `lr` argument is deprecated, use `learning_rate` instead.\n",
            "\n"
          ]
        }
      ]
    },
    {
      "cell_type": "code",
      "source": [
        "model.summary()"
      ],
      "metadata": {
        "id": "H6ukOxAGC_I4",
        "colab": {
          "base_uri": "https://localhost:8080/"
        },
        "outputId": "6779f953-7728-48db-cca5-c3848a4e471d"
      },
      "execution_count": 12,
      "outputs": [
        {
          "output_type": "stream",
          "name": "stdout",
          "text": [
            "Model: \"sequential\"\n",
            "_________________________________________________________________\n",
            " Layer (type)                Output Shape              Param #   \n",
            "=================================================================\n",
            " conv1d (Conv1D)             (None, 40, 128)           1664      \n",
            "                                                                 \n",
            " activation (Activation)     (None, 40, 128)           0         \n",
            "                                                                 \n",
            " dropout (Dropout)           (None, 40, 128)           0         \n",
            "                                                                 \n",
            " max_pooling1d (MaxPooling1D  (None, 8, 128)           0         \n",
            " )                                                               \n",
            "                                                                 \n",
            " conv1d_1 (Conv1D)           (None, 8, 256)            393472    \n",
            "                                                                 \n",
            " activation_1 (Activation)   (None, 8, 256)            0         \n",
            "                                                                 \n",
            " dropout_1 (Dropout)         (None, 8, 256)            0         \n",
            "                                                                 \n",
            " max_pooling1d_1 (MaxPooling  (None, 1, 256)           0         \n",
            " 1D)                                                             \n",
            "                                                                 \n",
            " flatten (Flatten)           (None, 256)               0         \n",
            "                                                                 \n",
            " dense (Dense)               (None, 6)                 1542      \n",
            "                                                                 \n",
            " activation_2 (Activation)   (None, 6)                 0         \n",
            "                                                                 \n",
            "=================================================================\n",
            "Total params: 396,678\n",
            "Trainable params: 396,678\n",
            "Non-trainable params: 0\n",
            "_________________________________________________________________\n"
          ]
        }
      ]
    },
    {
      "cell_type": "code",
      "source": [
        "model.compile(loss='sparse_categorical_crossentropy',\n",
        "              optimizer=opt,\n",
        "              metrics=['accuracy'])"
      ],
      "metadata": {
        "id": "AbMlLNk4DCBM"
      },
      "execution_count": 13,
      "outputs": []
    },
    {
      "cell_type": "code",
      "source": [
        "# Create an Instance of Early Stopping Callback.\n",
        "early_stopping_callback = EarlyStopping(monitor = 'val_loss', patience = 25, mode = 'min', restore_best_weights = True)\n",
        "\n",
        "cnnhistory=model.fit(x_traincnn, y_train, batch_size=16, epochs=500 , shuffle = True, \n",
        "                     validation_data=(X_valid, y_valid) , callbacks = [early_stopping_callback])"
      ],
      "metadata": {
        "id": "RI1v2AuADFhy",
        "colab": {
          "base_uri": "https://localhost:8080/"
        },
        "outputId": "5b356a57-72e5-4e91-c0ce-6254bbfe8860"
      },
      "execution_count": 14,
      "outputs": [
        {
          "output_type": "stream",
          "name": "stdout",
          "text": [
            "Epoch 1/500\n",
            "104/104 [==============================] - 2s 5ms/step - loss: 10.4015 - accuracy: 0.2025 - val_loss: 4.1274 - val_accuracy: 0.2947\n",
            "Epoch 2/500\n",
            "104/104 [==============================] - 0s 3ms/step - loss: 7.2473 - accuracy: 0.2086 - val_loss: 3.4550 - val_accuracy: 0.2126\n",
            "Epoch 3/500\n",
            "104/104 [==============================] - 0s 3ms/step - loss: 5.8127 - accuracy: 0.2352 - val_loss: 3.3349 - val_accuracy: 0.2174\n",
            "Epoch 4/500\n",
            "104/104 [==============================] - 0s 3ms/step - loss: 4.8543 - accuracy: 0.2358 - val_loss: 3.6125 - val_accuracy: 0.2077\n",
            "Epoch 5/500\n",
            "104/104 [==============================] - 0s 3ms/step - loss: 3.7525 - accuracy: 0.2491 - val_loss: 2.0466 - val_accuracy: 0.2512\n",
            "Epoch 6/500\n",
            "104/104 [==============================] - 0s 3ms/step - loss: 3.0952 - accuracy: 0.2763 - val_loss: 1.7403 - val_accuracy: 0.2850\n",
            "Epoch 7/500\n",
            "104/104 [==============================] - 0s 3ms/step - loss: 2.7461 - accuracy: 0.3059 - val_loss: 1.6996 - val_accuracy: 0.2512\n",
            "Epoch 8/500\n",
            "104/104 [==============================] - 0s 4ms/step - loss: 2.4333 - accuracy: 0.2775 - val_loss: 1.5309 - val_accuracy: 0.3333\n",
            "Epoch 9/500\n",
            "104/104 [==============================] - 0s 3ms/step - loss: 2.2688 - accuracy: 0.3059 - val_loss: 1.4653 - val_accuracy: 0.4155\n",
            "Epoch 10/500\n",
            "104/104 [==============================] - 0s 3ms/step - loss: 2.0544 - accuracy: 0.3114 - val_loss: 1.5326 - val_accuracy: 0.3623\n",
            "Epoch 11/500\n",
            "104/104 [==============================] - 0s 3ms/step - loss: 1.9787 - accuracy: 0.3216 - val_loss: 1.5966 - val_accuracy: 0.2899\n",
            "Epoch 12/500\n",
            "104/104 [==============================] - 0s 3ms/step - loss: 1.8923 - accuracy: 0.3537 - val_loss: 1.4044 - val_accuracy: 0.4734\n",
            "Epoch 13/500\n",
            "104/104 [==============================] - 0s 3ms/step - loss: 1.7895 - accuracy: 0.3482 - val_loss: 1.4299 - val_accuracy: 0.4300\n",
            "Epoch 14/500\n",
            "104/104 [==============================] - 0s 3ms/step - loss: 1.7287 - accuracy: 0.3706 - val_loss: 1.3846 - val_accuracy: 0.4589\n",
            "Epoch 15/500\n",
            "104/104 [==============================] - 0s 3ms/step - loss: 1.6736 - accuracy: 0.3724 - val_loss: 1.3657 - val_accuracy: 0.4686\n",
            "Epoch 16/500\n",
            "104/104 [==============================] - 0s 3ms/step - loss: 1.5897 - accuracy: 0.3948 - val_loss: 1.4108 - val_accuracy: 0.4396\n",
            "Epoch 17/500\n",
            "104/104 [==============================] - 0s 4ms/step - loss: 1.6097 - accuracy: 0.3736 - val_loss: 1.3257 - val_accuracy: 0.5169\n",
            "Epoch 18/500\n",
            "104/104 [==============================] - 0s 5ms/step - loss: 1.5087 - accuracy: 0.4208 - val_loss: 1.2818 - val_accuracy: 0.4928\n",
            "Epoch 19/500\n",
            "104/104 [==============================] - 0s 5ms/step - loss: 1.4813 - accuracy: 0.4232 - val_loss: 1.4397 - val_accuracy: 0.4251\n",
            "Epoch 20/500\n",
            "104/104 [==============================] - 0s 5ms/step - loss: 1.4408 - accuracy: 0.4389 - val_loss: 1.3366 - val_accuracy: 0.4638\n",
            "Epoch 21/500\n",
            "104/104 [==============================] - 0s 5ms/step - loss: 1.3786 - accuracy: 0.4541 - val_loss: 1.2319 - val_accuracy: 0.4976\n",
            "Epoch 22/500\n",
            "104/104 [==============================] - 0s 4ms/step - loss: 1.3936 - accuracy: 0.4323 - val_loss: 1.2101 - val_accuracy: 0.5507\n",
            "Epoch 23/500\n",
            "104/104 [==============================] - 1s 5ms/step - loss: 1.3340 - accuracy: 0.4740 - val_loss: 1.2314 - val_accuracy: 0.4976\n",
            "Epoch 24/500\n",
            "104/104 [==============================] - 1s 5ms/step - loss: 1.2995 - accuracy: 0.4831 - val_loss: 1.2087 - val_accuracy: 0.5411\n",
            "Epoch 25/500\n",
            "104/104 [==============================] - 0s 5ms/step - loss: 1.2788 - accuracy: 0.5091 - val_loss: 1.2921 - val_accuracy: 0.5169\n",
            "Epoch 26/500\n",
            "104/104 [==============================] - 0s 4ms/step - loss: 1.3139 - accuracy: 0.4661 - val_loss: 1.2028 - val_accuracy: 0.5507\n",
            "Epoch 27/500\n",
            "104/104 [==============================] - 1s 5ms/step - loss: 1.2394 - accuracy: 0.4976 - val_loss: 1.1617 - val_accuracy: 0.5604\n",
            "Epoch 28/500\n",
            "104/104 [==============================] - 1s 5ms/step - loss: 1.2227 - accuracy: 0.5139 - val_loss: 1.2199 - val_accuracy: 0.5362\n",
            "Epoch 29/500\n",
            "104/104 [==============================] - 1s 5ms/step - loss: 1.1926 - accuracy: 0.5284 - val_loss: 1.1675 - val_accuracy: 0.5217\n",
            "Epoch 30/500\n",
            "104/104 [==============================] - 1s 5ms/step - loss: 1.1684 - accuracy: 0.5363 - val_loss: 1.1355 - val_accuracy: 0.5700\n",
            "Epoch 31/500\n",
            "104/104 [==============================] - 0s 4ms/step - loss: 1.1812 - accuracy: 0.5284 - val_loss: 1.0873 - val_accuracy: 0.5894\n",
            "Epoch 32/500\n",
            "104/104 [==============================] - 1s 5ms/step - loss: 1.1522 - accuracy: 0.5333 - val_loss: 1.0348 - val_accuracy: 0.6425\n",
            "Epoch 33/500\n",
            "104/104 [==============================] - 1s 5ms/step - loss: 1.1458 - accuracy: 0.5496 - val_loss: 1.0805 - val_accuracy: 0.6135\n",
            "Epoch 34/500\n",
            "104/104 [==============================] - 1s 5ms/step - loss: 1.1366 - accuracy: 0.5345 - val_loss: 1.1352 - val_accuracy: 0.5604\n",
            "Epoch 35/500\n",
            "104/104 [==============================] - 1s 6ms/step - loss: 1.1328 - accuracy: 0.5369 - val_loss: 1.0293 - val_accuracy: 0.6570\n",
            "Epoch 36/500\n",
            "104/104 [==============================] - 1s 6ms/step - loss: 1.0896 - accuracy: 0.5617 - val_loss: 1.0298 - val_accuracy: 0.6618\n",
            "Epoch 37/500\n",
            "104/104 [==============================] - 0s 5ms/step - loss: 1.0955 - accuracy: 0.5726 - val_loss: 0.9974 - val_accuracy: 0.6812\n",
            "Epoch 38/500\n",
            "104/104 [==============================] - 0s 4ms/step - loss: 1.0627 - accuracy: 0.5738 - val_loss: 0.9823 - val_accuracy: 0.6763\n",
            "Epoch 39/500\n",
            "104/104 [==============================] - 0s 4ms/step - loss: 1.0963 - accuracy: 0.5719 - val_loss: 1.0063 - val_accuracy: 0.6135\n",
            "Epoch 40/500\n",
            "104/104 [==============================] - 0s 3ms/step - loss: 1.0396 - accuracy: 0.5792 - val_loss: 0.9800 - val_accuracy: 0.6957\n",
            "Epoch 41/500\n",
            "104/104 [==============================] - 0s 3ms/step - loss: 1.0484 - accuracy: 0.5834 - val_loss: 0.9940 - val_accuracy: 0.6039\n",
            "Epoch 42/500\n",
            "104/104 [==============================] - 0s 3ms/step - loss: 1.0218 - accuracy: 0.5907 - val_loss: 0.9642 - val_accuracy: 0.6715\n",
            "Epoch 43/500\n",
            "104/104 [==============================] - 0s 3ms/step - loss: 1.0043 - accuracy: 0.6082 - val_loss: 0.9815 - val_accuracy: 0.6135\n",
            "Epoch 44/500\n",
            "104/104 [==============================] - 0s 3ms/step - loss: 0.9997 - accuracy: 0.5919 - val_loss: 0.9105 - val_accuracy: 0.6957\n",
            "Epoch 45/500\n",
            "104/104 [==============================] - 0s 3ms/step - loss: 1.0036 - accuracy: 0.5943 - val_loss: 0.9726 - val_accuracy: 0.6377\n",
            "Epoch 46/500\n",
            "104/104 [==============================] - 0s 3ms/step - loss: 0.9867 - accuracy: 0.6119 - val_loss: 0.9480 - val_accuracy: 0.6473\n",
            "Epoch 47/500\n",
            "104/104 [==============================] - 0s 3ms/step - loss: 0.9618 - accuracy: 0.6137 - val_loss: 0.9501 - val_accuracy: 0.6425\n",
            "Epoch 48/500\n",
            "104/104 [==============================] - 0s 3ms/step - loss: 0.9405 - accuracy: 0.6276 - val_loss: 0.9112 - val_accuracy: 0.7005\n",
            "Epoch 49/500\n",
            "104/104 [==============================] - 0s 3ms/step - loss: 0.9655 - accuracy: 0.6143 - val_loss: 0.9411 - val_accuracy: 0.6377\n",
            "Epoch 50/500\n",
            "104/104 [==============================] - 0s 3ms/step - loss: 0.9323 - accuracy: 0.6366 - val_loss: 0.9114 - val_accuracy: 0.6812\n",
            "Epoch 51/500\n",
            "104/104 [==============================] - 0s 3ms/step - loss: 0.9357 - accuracy: 0.6215 - val_loss: 0.9040 - val_accuracy: 0.6908\n",
            "Epoch 52/500\n",
            "104/104 [==============================] - 0s 3ms/step - loss: 0.9582 - accuracy: 0.6161 - val_loss: 0.9395 - val_accuracy: 0.6425\n",
            "Epoch 53/500\n",
            "104/104 [==============================] - 0s 3ms/step - loss: 0.9019 - accuracy: 0.6372 - val_loss: 0.8997 - val_accuracy: 0.6812\n",
            "Epoch 54/500\n",
            "104/104 [==============================] - 0s 3ms/step - loss: 0.8840 - accuracy: 0.6487 - val_loss: 0.9112 - val_accuracy: 0.6329\n",
            "Epoch 55/500\n",
            "104/104 [==============================] - 0s 3ms/step - loss: 0.8967 - accuracy: 0.6487 - val_loss: 0.8638 - val_accuracy: 0.6957\n",
            "Epoch 56/500\n",
            "104/104 [==============================] - 0s 3ms/step - loss: 0.9007 - accuracy: 0.6584 - val_loss: 0.8851 - val_accuracy: 0.6908\n",
            "Epoch 57/500\n",
            "104/104 [==============================] - 0s 3ms/step - loss: 0.8808 - accuracy: 0.6542 - val_loss: 0.8649 - val_accuracy: 0.6860\n",
            "Epoch 58/500\n",
            "104/104 [==============================] - 0s 3ms/step - loss: 0.8868 - accuracy: 0.6427 - val_loss: 0.8555 - val_accuracy: 0.6957\n",
            "Epoch 59/500\n",
            "104/104 [==============================] - 0s 3ms/step - loss: 0.8464 - accuracy: 0.6675 - val_loss: 0.8705 - val_accuracy: 0.6570\n",
            "Epoch 60/500\n",
            "104/104 [==============================] - 0s 3ms/step - loss: 0.8810 - accuracy: 0.6439 - val_loss: 0.8503 - val_accuracy: 0.6667\n",
            "Epoch 61/500\n",
            "104/104 [==============================] - 0s 4ms/step - loss: 0.8834 - accuracy: 0.6475 - val_loss: 0.8343 - val_accuracy: 0.7005\n",
            "Epoch 62/500\n",
            "104/104 [==============================] - 0s 3ms/step - loss: 0.8499 - accuracy: 0.6632 - val_loss: 0.8528 - val_accuracy: 0.6812\n",
            "Epoch 63/500\n",
            "104/104 [==============================] - 0s 3ms/step - loss: 0.8643 - accuracy: 0.6445 - val_loss: 0.8376 - val_accuracy: 0.7053\n",
            "Epoch 64/500\n",
            "104/104 [==============================] - 0s 3ms/step - loss: 0.8345 - accuracy: 0.6699 - val_loss: 0.8831 - val_accuracy: 0.6667\n",
            "Epoch 65/500\n",
            "104/104 [==============================] - 0s 3ms/step - loss: 0.8359 - accuracy: 0.6705 - val_loss: 0.7994 - val_accuracy: 0.7246\n",
            "Epoch 66/500\n",
            "104/104 [==============================] - 0s 3ms/step - loss: 0.8208 - accuracy: 0.6729 - val_loss: 0.7964 - val_accuracy: 0.6812\n",
            "Epoch 67/500\n",
            "104/104 [==============================] - 0s 3ms/step - loss: 0.8170 - accuracy: 0.6765 - val_loss: 0.8161 - val_accuracy: 0.6667\n",
            "Epoch 68/500\n",
            "104/104 [==============================] - 0s 3ms/step - loss: 0.8359 - accuracy: 0.6723 - val_loss: 0.7954 - val_accuracy: 0.7150\n",
            "Epoch 69/500\n",
            "104/104 [==============================] - 0s 3ms/step - loss: 0.8000 - accuracy: 0.6862 - val_loss: 0.8275 - val_accuracy: 0.6860\n",
            "Epoch 70/500\n",
            "104/104 [==============================] - 0s 3ms/step - loss: 0.7997 - accuracy: 0.6826 - val_loss: 0.8079 - val_accuracy: 0.7343\n",
            "Epoch 71/500\n",
            "104/104 [==============================] - 0s 3ms/step - loss: 0.7828 - accuracy: 0.6923 - val_loss: 0.7521 - val_accuracy: 0.7391\n",
            "Epoch 72/500\n",
            "104/104 [==============================] - 0s 3ms/step - loss: 0.7823 - accuracy: 0.6983 - val_loss: 0.7816 - val_accuracy: 0.7440\n",
            "Epoch 73/500\n",
            "104/104 [==============================] - 0s 3ms/step - loss: 0.7604 - accuracy: 0.7019 - val_loss: 0.7858 - val_accuracy: 0.6957\n",
            "Epoch 74/500\n",
            "104/104 [==============================] - 0s 3ms/step - loss: 0.7625 - accuracy: 0.7037 - val_loss: 0.7892 - val_accuracy: 0.7343\n",
            "Epoch 75/500\n",
            "104/104 [==============================] - 0s 3ms/step - loss: 0.7609 - accuracy: 0.6850 - val_loss: 0.8087 - val_accuracy: 0.6957\n",
            "Epoch 76/500\n",
            "104/104 [==============================] - 0s 3ms/step - loss: 0.7643 - accuracy: 0.7019 - val_loss: 0.7628 - val_accuracy: 0.7488\n",
            "Epoch 77/500\n",
            "104/104 [==============================] - 0s 3ms/step - loss: 0.7471 - accuracy: 0.7177 - val_loss: 0.7457 - val_accuracy: 0.7053\n",
            "Epoch 78/500\n",
            "104/104 [==============================] - 0s 3ms/step - loss: 0.7192 - accuracy: 0.7134 - val_loss: 0.7750 - val_accuracy: 0.7101\n",
            "Epoch 79/500\n",
            "104/104 [==============================] - 0s 3ms/step - loss: 0.7222 - accuracy: 0.7080 - val_loss: 0.7641 - val_accuracy: 0.7005\n",
            "Epoch 80/500\n",
            "104/104 [==============================] - 0s 3ms/step - loss: 0.7280 - accuracy: 0.7195 - val_loss: 0.7552 - val_accuracy: 0.7101\n",
            "Epoch 81/500\n",
            "104/104 [==============================] - 0s 3ms/step - loss: 0.7107 - accuracy: 0.7225 - val_loss: 0.7919 - val_accuracy: 0.7005\n",
            "Epoch 82/500\n",
            "104/104 [==============================] - 0s 3ms/step - loss: 0.7315 - accuracy: 0.7164 - val_loss: 0.7689 - val_accuracy: 0.7198\n",
            "Epoch 83/500\n",
            "104/104 [==============================] - 0s 3ms/step - loss: 0.7113 - accuracy: 0.7201 - val_loss: 0.7571 - val_accuracy: 0.7198\n",
            "Epoch 84/500\n",
            "104/104 [==============================] - 0s 3ms/step - loss: 0.7284 - accuracy: 0.7104 - val_loss: 0.7600 - val_accuracy: 0.7295\n",
            "Epoch 85/500\n",
            "104/104 [==============================] - 0s 3ms/step - loss: 0.7113 - accuracy: 0.7213 - val_loss: 0.7496 - val_accuracy: 0.7246\n",
            "Epoch 86/500\n",
            "104/104 [==============================] - 0s 3ms/step - loss: 0.6930 - accuracy: 0.7213 - val_loss: 0.7513 - val_accuracy: 0.7440\n",
            "Epoch 87/500\n",
            "104/104 [==============================] - 0s 3ms/step - loss: 0.6919 - accuracy: 0.7291 - val_loss: 0.7578 - val_accuracy: 0.6812\n",
            "Epoch 88/500\n",
            "104/104 [==============================] - 0s 3ms/step - loss: 0.6979 - accuracy: 0.7225 - val_loss: 0.7107 - val_accuracy: 0.7198\n",
            "Epoch 89/500\n",
            "104/104 [==============================] - 0s 3ms/step - loss: 0.6527 - accuracy: 0.7424 - val_loss: 0.7482 - val_accuracy: 0.7295\n",
            "Epoch 90/500\n",
            "104/104 [==============================] - 0s 3ms/step - loss: 0.6692 - accuracy: 0.7310 - val_loss: 0.7357 - val_accuracy: 0.7440\n",
            "Epoch 91/500\n",
            "104/104 [==============================] - 0s 3ms/step - loss: 0.6810 - accuracy: 0.7316 - val_loss: 0.7239 - val_accuracy: 0.7343\n",
            "Epoch 92/500\n",
            "104/104 [==============================] - 0s 3ms/step - loss: 0.6634 - accuracy: 0.7340 - val_loss: 0.6966 - val_accuracy: 0.7536\n",
            "Epoch 93/500\n",
            "104/104 [==============================] - 0s 3ms/step - loss: 0.6301 - accuracy: 0.7509 - val_loss: 0.7134 - val_accuracy: 0.7295\n",
            "Epoch 94/500\n",
            "104/104 [==============================] - 0s 3ms/step - loss: 0.6350 - accuracy: 0.7509 - val_loss: 0.6944 - val_accuracy: 0.7778\n",
            "Epoch 95/500\n",
            "104/104 [==============================] - 0s 3ms/step - loss: 0.6545 - accuracy: 0.7267 - val_loss: 0.6886 - val_accuracy: 0.7826\n",
            "Epoch 96/500\n",
            "104/104 [==============================] - 0s 3ms/step - loss: 0.6191 - accuracy: 0.7684 - val_loss: 0.7233 - val_accuracy: 0.7246\n",
            "Epoch 97/500\n",
            "104/104 [==============================] - 0s 3ms/step - loss: 0.6160 - accuracy: 0.7642 - val_loss: 0.7060 - val_accuracy: 0.7488\n",
            "Epoch 98/500\n",
            "104/104 [==============================] - 0s 3ms/step - loss: 0.6394 - accuracy: 0.7491 - val_loss: 0.6667 - val_accuracy: 0.7681\n",
            "Epoch 99/500\n",
            "104/104 [==============================] - 0s 3ms/step - loss: 0.6082 - accuracy: 0.7539 - val_loss: 0.6869 - val_accuracy: 0.7778\n",
            "Epoch 100/500\n",
            "104/104 [==============================] - 0s 3ms/step - loss: 0.6333 - accuracy: 0.7521 - val_loss: 0.6921 - val_accuracy: 0.7778\n",
            "Epoch 101/500\n",
            "104/104 [==============================] - 0s 3ms/step - loss: 0.6040 - accuracy: 0.7654 - val_loss: 0.6707 - val_accuracy: 0.7440\n",
            "Epoch 102/500\n",
            "104/104 [==============================] - 0s 3ms/step - loss: 0.5861 - accuracy: 0.7636 - val_loss: 0.7152 - val_accuracy: 0.7391\n",
            "Epoch 103/500\n",
            "104/104 [==============================] - 0s 3ms/step - loss: 0.6049 - accuracy: 0.7660 - val_loss: 0.6783 - val_accuracy: 0.7585\n",
            "Epoch 104/500\n",
            "104/104 [==============================] - 0s 3ms/step - loss: 0.5976 - accuracy: 0.7551 - val_loss: 0.6757 - val_accuracy: 0.7874\n",
            "Epoch 105/500\n",
            "104/104 [==============================] - 0s 3ms/step - loss: 0.5846 - accuracy: 0.7739 - val_loss: 0.6822 - val_accuracy: 0.7729\n",
            "Epoch 106/500\n",
            "104/104 [==============================] - 0s 3ms/step - loss: 0.5742 - accuracy: 0.7848 - val_loss: 0.6738 - val_accuracy: 0.7585\n",
            "Epoch 107/500\n",
            "104/104 [==============================] - 0s 3ms/step - loss: 0.5735 - accuracy: 0.7817 - val_loss: 0.6704 - val_accuracy: 0.7826\n",
            "Epoch 108/500\n",
            "104/104 [==============================] - 0s 3ms/step - loss: 0.5514 - accuracy: 0.7896 - val_loss: 0.6759 - val_accuracy: 0.7440\n",
            "Epoch 109/500\n",
            "104/104 [==============================] - 0s 3ms/step - loss: 0.5692 - accuracy: 0.7757 - val_loss: 0.6585 - val_accuracy: 0.7778\n",
            "Epoch 110/500\n",
            "104/104 [==============================] - 0s 5ms/step - loss: 0.5487 - accuracy: 0.7860 - val_loss: 0.6705 - val_accuracy: 0.7778\n",
            "Epoch 111/500\n",
            "104/104 [==============================] - 0s 4ms/step - loss: 0.5515 - accuracy: 0.7805 - val_loss: 0.6480 - val_accuracy: 0.7585\n",
            "Epoch 112/500\n",
            "104/104 [==============================] - 0s 4ms/step - loss: 0.5437 - accuracy: 0.7751 - val_loss: 0.6419 - val_accuracy: 0.8213\n",
            "Epoch 113/500\n",
            "104/104 [==============================] - 0s 4ms/step - loss: 0.5493 - accuracy: 0.7890 - val_loss: 0.6478 - val_accuracy: 0.7585\n",
            "Epoch 114/500\n",
            "104/104 [==============================] - 0s 3ms/step - loss: 0.5157 - accuracy: 0.8071 - val_loss: 0.6205 - val_accuracy: 0.7826\n",
            "Epoch 115/500\n",
            "104/104 [==============================] - 0s 5ms/step - loss: 0.5480 - accuracy: 0.7848 - val_loss: 0.6636 - val_accuracy: 0.7826\n",
            "Epoch 116/500\n",
            "104/104 [==============================] - 0s 3ms/step - loss: 0.5399 - accuracy: 0.7920 - val_loss: 0.6274 - val_accuracy: 0.7971\n",
            "Epoch 117/500\n",
            "104/104 [==============================] - 0s 3ms/step - loss: 0.5157 - accuracy: 0.8096 - val_loss: 0.6566 - val_accuracy: 0.7440\n",
            "Epoch 118/500\n",
            "104/104 [==============================] - 0s 3ms/step - loss: 0.5057 - accuracy: 0.8126 - val_loss: 0.6173 - val_accuracy: 0.7923\n",
            "Epoch 119/500\n",
            "104/104 [==============================] - 0s 3ms/step - loss: 0.5364 - accuracy: 0.7926 - val_loss: 0.6442 - val_accuracy: 0.7923\n",
            "Epoch 120/500\n",
            "104/104 [==============================] - 0s 3ms/step - loss: 0.5221 - accuracy: 0.7993 - val_loss: 0.6285 - val_accuracy: 0.7681\n",
            "Epoch 121/500\n",
            "104/104 [==============================] - 0s 3ms/step - loss: 0.5412 - accuracy: 0.7914 - val_loss: 0.6311 - val_accuracy: 0.7681\n",
            "Epoch 122/500\n",
            "104/104 [==============================] - 0s 3ms/step - loss: 0.5013 - accuracy: 0.8126 - val_loss: 0.6091 - val_accuracy: 0.7778\n",
            "Epoch 123/500\n",
            "104/104 [==============================] - 0s 3ms/step - loss: 0.4898 - accuracy: 0.8150 - val_loss: 0.6063 - val_accuracy: 0.7971\n",
            "Epoch 124/500\n",
            "104/104 [==============================] - 0s 3ms/step - loss: 0.4874 - accuracy: 0.8077 - val_loss: 0.6612 - val_accuracy: 0.7536\n",
            "Epoch 125/500\n",
            "104/104 [==============================] - 0s 4ms/step - loss: 0.4789 - accuracy: 0.8150 - val_loss: 0.6315 - val_accuracy: 0.7681\n",
            "Epoch 126/500\n",
            "104/104 [==============================] - 0s 3ms/step - loss: 0.4981 - accuracy: 0.8047 - val_loss: 0.6331 - val_accuracy: 0.7633\n",
            "Epoch 127/500\n",
            "104/104 [==============================] - 0s 3ms/step - loss: 0.4855 - accuracy: 0.8156 - val_loss: 0.6196 - val_accuracy: 0.7585\n",
            "Epoch 128/500\n",
            "104/104 [==============================] - 0s 3ms/step - loss: 0.4695 - accuracy: 0.8162 - val_loss: 0.6486 - val_accuracy: 0.7633\n",
            "Epoch 129/500\n",
            "104/104 [==============================] - 0s 3ms/step - loss: 0.4747 - accuracy: 0.8132 - val_loss: 0.6055 - val_accuracy: 0.7971\n",
            "Epoch 130/500\n",
            "104/104 [==============================] - 0s 3ms/step - loss: 0.4788 - accuracy: 0.8216 - val_loss: 0.5792 - val_accuracy: 0.7826\n",
            "Epoch 131/500\n",
            "104/104 [==============================] - 0s 3ms/step - loss: 0.4598 - accuracy: 0.8422 - val_loss: 0.6048 - val_accuracy: 0.8019\n",
            "Epoch 132/500\n",
            "104/104 [==============================] - 0s 3ms/step - loss: 0.4591 - accuracy: 0.8156 - val_loss: 0.6272 - val_accuracy: 0.7923\n",
            "Epoch 133/500\n",
            "104/104 [==============================] - 0s 3ms/step - loss: 0.4704 - accuracy: 0.8156 - val_loss: 0.5872 - val_accuracy: 0.7923\n",
            "Epoch 134/500\n",
            "104/104 [==============================] - 0s 3ms/step - loss: 0.4560 - accuracy: 0.8307 - val_loss: 0.6078 - val_accuracy: 0.7874\n",
            "Epoch 135/500\n",
            "104/104 [==============================] - 0s 3ms/step - loss: 0.4419 - accuracy: 0.8235 - val_loss: 0.6086 - val_accuracy: 0.7778\n",
            "Epoch 136/500\n",
            "104/104 [==============================] - 0s 3ms/step - loss: 0.4340 - accuracy: 0.8210 - val_loss: 0.6180 - val_accuracy: 0.7923\n",
            "Epoch 137/500\n",
            "104/104 [==============================] - 0s 3ms/step - loss: 0.4344 - accuracy: 0.8343 - val_loss: 0.6190 - val_accuracy: 0.7729\n",
            "Epoch 138/500\n",
            "104/104 [==============================] - 0s 3ms/step - loss: 0.4366 - accuracy: 0.8356 - val_loss: 0.6309 - val_accuracy: 0.7681\n",
            "Epoch 139/500\n",
            "104/104 [==============================] - 0s 3ms/step - loss: 0.4310 - accuracy: 0.8356 - val_loss: 0.6072 - val_accuracy: 0.7923\n",
            "Epoch 140/500\n",
            "104/104 [==============================] - 0s 3ms/step - loss: 0.4436 - accuracy: 0.8283 - val_loss: 0.6140 - val_accuracy: 0.7729\n",
            "Epoch 141/500\n",
            "104/104 [==============================] - 0s 3ms/step - loss: 0.4236 - accuracy: 0.8380 - val_loss: 0.5917 - val_accuracy: 0.8019\n",
            "Epoch 142/500\n",
            "104/104 [==============================] - 0s 3ms/step - loss: 0.4217 - accuracy: 0.8380 - val_loss: 0.6299 - val_accuracy: 0.7874\n",
            "Epoch 143/500\n",
            "104/104 [==============================] - 0s 3ms/step - loss: 0.4257 - accuracy: 0.8362 - val_loss: 0.5920 - val_accuracy: 0.7874\n",
            "Epoch 144/500\n",
            "104/104 [==============================] - 0s 3ms/step - loss: 0.4045 - accuracy: 0.8464 - val_loss: 0.5846 - val_accuracy: 0.8019\n",
            "Epoch 145/500\n",
            "104/104 [==============================] - 0s 3ms/step - loss: 0.4075 - accuracy: 0.8525 - val_loss: 0.6095 - val_accuracy: 0.7778\n",
            "Epoch 146/500\n",
            "104/104 [==============================] - 0s 3ms/step - loss: 0.4050 - accuracy: 0.8446 - val_loss: 0.6023 - val_accuracy: 0.7729\n",
            "Epoch 147/500\n",
            "104/104 [==============================] - 0s 3ms/step - loss: 0.4231 - accuracy: 0.8295 - val_loss: 0.5801 - val_accuracy: 0.8116\n",
            "Epoch 148/500\n",
            "104/104 [==============================] - 0s 3ms/step - loss: 0.4081 - accuracy: 0.8446 - val_loss: 0.5927 - val_accuracy: 0.7923\n",
            "Epoch 149/500\n",
            "104/104 [==============================] - 0s 3ms/step - loss: 0.3953 - accuracy: 0.8470 - val_loss: 0.5887 - val_accuracy: 0.8068\n",
            "Epoch 150/500\n",
            "104/104 [==============================] - 0s 3ms/step - loss: 0.4138 - accuracy: 0.8464 - val_loss: 0.5580 - val_accuracy: 0.7923\n",
            "Epoch 151/500\n",
            "104/104 [==============================] - 0s 3ms/step - loss: 0.3954 - accuracy: 0.8543 - val_loss: 0.5785 - val_accuracy: 0.8068\n",
            "Epoch 152/500\n",
            "104/104 [==============================] - 0s 3ms/step - loss: 0.3873 - accuracy: 0.8555 - val_loss: 0.5768 - val_accuracy: 0.8068\n",
            "Epoch 153/500\n",
            "104/104 [==============================] - 0s 3ms/step - loss: 0.3845 - accuracy: 0.8664 - val_loss: 0.5844 - val_accuracy: 0.7585\n",
            "Epoch 154/500\n",
            "104/104 [==============================] - 0s 3ms/step - loss: 0.3888 - accuracy: 0.8476 - val_loss: 0.5604 - val_accuracy: 0.7971\n",
            "Epoch 155/500\n",
            "104/104 [==============================] - 0s 3ms/step - loss: 0.3950 - accuracy: 0.8537 - val_loss: 0.5875 - val_accuracy: 0.8068\n",
            "Epoch 156/500\n",
            "104/104 [==============================] - 0s 3ms/step - loss: 0.3797 - accuracy: 0.8646 - val_loss: 0.5518 - val_accuracy: 0.7874\n",
            "Epoch 157/500\n",
            "104/104 [==============================] - 0s 3ms/step - loss: 0.3615 - accuracy: 0.8628 - val_loss: 0.5764 - val_accuracy: 0.8116\n",
            "Epoch 158/500\n",
            "104/104 [==============================] - 0s 3ms/step - loss: 0.3882 - accuracy: 0.8470 - val_loss: 0.5613 - val_accuracy: 0.7923\n",
            "Epoch 159/500\n",
            "104/104 [==============================] - 0s 3ms/step - loss: 0.3525 - accuracy: 0.8549 - val_loss: 0.5315 - val_accuracy: 0.8116\n",
            "Epoch 160/500\n",
            "104/104 [==============================] - 0s 3ms/step - loss: 0.3715 - accuracy: 0.8622 - val_loss: 0.5245 - val_accuracy: 0.8019\n",
            "Epoch 161/500\n",
            "104/104 [==============================] - 0s 3ms/step - loss: 0.3491 - accuracy: 0.8773 - val_loss: 0.5995 - val_accuracy: 0.7633\n",
            "Epoch 162/500\n",
            "104/104 [==============================] - 0s 3ms/step - loss: 0.3692 - accuracy: 0.8622 - val_loss: 0.5770 - val_accuracy: 0.7826\n",
            "Epoch 163/500\n",
            "104/104 [==============================] - 0s 3ms/step - loss: 0.3681 - accuracy: 0.8615 - val_loss: 0.5945 - val_accuracy: 0.7778\n",
            "Epoch 164/500\n",
            "104/104 [==============================] - 0s 3ms/step - loss: 0.3620 - accuracy: 0.8670 - val_loss: 0.5696 - val_accuracy: 0.7826\n",
            "Epoch 165/500\n",
            "104/104 [==============================] - 0s 3ms/step - loss: 0.3504 - accuracy: 0.8706 - val_loss: 0.5491 - val_accuracy: 0.8116\n",
            "Epoch 166/500\n",
            "104/104 [==============================] - 0s 3ms/step - loss: 0.3413 - accuracy: 0.8712 - val_loss: 0.5402 - val_accuracy: 0.8213\n",
            "Epoch 167/500\n",
            "104/104 [==============================] - 0s 3ms/step - loss: 0.3416 - accuracy: 0.8700 - val_loss: 0.5527 - val_accuracy: 0.7971\n",
            "Epoch 168/500\n",
            "104/104 [==============================] - 0s 3ms/step - loss: 0.3320 - accuracy: 0.8803 - val_loss: 0.5489 - val_accuracy: 0.8116\n",
            "Epoch 169/500\n",
            "104/104 [==============================] - 0s 3ms/step - loss: 0.3440 - accuracy: 0.8700 - val_loss: 0.5390 - val_accuracy: 0.7971\n",
            "Epoch 170/500\n",
            "104/104 [==============================] - 0s 3ms/step - loss: 0.3070 - accuracy: 0.8900 - val_loss: 0.5719 - val_accuracy: 0.8068\n",
            "Epoch 171/500\n",
            "104/104 [==============================] - 0s 3ms/step - loss: 0.3254 - accuracy: 0.8785 - val_loss: 0.5403 - val_accuracy: 0.8116\n",
            "Epoch 172/500\n",
            "104/104 [==============================] - 0s 3ms/step - loss: 0.3291 - accuracy: 0.8839 - val_loss: 0.5410 - val_accuracy: 0.7874\n",
            "Epoch 173/500\n",
            "104/104 [==============================] - 0s 3ms/step - loss: 0.3363 - accuracy: 0.8724 - val_loss: 0.5646 - val_accuracy: 0.7923\n",
            "Epoch 174/500\n",
            "104/104 [==============================] - 0s 3ms/step - loss: 0.3231 - accuracy: 0.8706 - val_loss: 0.5844 - val_accuracy: 0.7874\n",
            "Epoch 175/500\n",
            "104/104 [==============================] - 0s 3ms/step - loss: 0.3235 - accuracy: 0.8761 - val_loss: 0.5401 - val_accuracy: 0.8164\n",
            "Epoch 176/500\n",
            "104/104 [==============================] - 0s 3ms/step - loss: 0.3390 - accuracy: 0.8640 - val_loss: 0.5880 - val_accuracy: 0.7971\n",
            "Epoch 177/500\n",
            "104/104 [==============================] - 0s 3ms/step - loss: 0.3051 - accuracy: 0.8942 - val_loss: 0.5363 - val_accuracy: 0.8116\n",
            "Epoch 178/500\n",
            "104/104 [==============================] - 0s 3ms/step - loss: 0.3171 - accuracy: 0.8857 - val_loss: 0.5405 - val_accuracy: 0.7971\n",
            "Epoch 179/500\n",
            "104/104 [==============================] - 0s 3ms/step - loss: 0.3336 - accuracy: 0.8779 - val_loss: 0.5287 - val_accuracy: 0.8019\n",
            "Epoch 180/500\n",
            "104/104 [==============================] - 0s 3ms/step - loss: 0.3135 - accuracy: 0.8845 - val_loss: 0.5897 - val_accuracy: 0.8019\n",
            "Epoch 181/500\n",
            "104/104 [==============================] - 0s 3ms/step - loss: 0.3061 - accuracy: 0.8869 - val_loss: 0.5506 - val_accuracy: 0.8019\n",
            "Epoch 182/500\n",
            "104/104 [==============================] - 0s 3ms/step - loss: 0.3179 - accuracy: 0.8827 - val_loss: 0.5735 - val_accuracy: 0.8116\n",
            "Epoch 183/500\n",
            "104/104 [==============================] - 0s 3ms/step - loss: 0.3055 - accuracy: 0.8906 - val_loss: 0.5482 - val_accuracy: 0.7923\n",
            "Epoch 184/500\n",
            "104/104 [==============================] - 0s 3ms/step - loss: 0.3289 - accuracy: 0.8755 - val_loss: 0.5067 - val_accuracy: 0.8019\n",
            "Epoch 185/500\n",
            "104/104 [==============================] - 0s 3ms/step - loss: 0.3125 - accuracy: 0.8833 - val_loss: 0.5572 - val_accuracy: 0.7826\n",
            "Epoch 186/500\n",
            "104/104 [==============================] - 0s 3ms/step - loss: 0.3385 - accuracy: 0.8748 - val_loss: 0.5597 - val_accuracy: 0.7971\n",
            "Epoch 187/500\n",
            "104/104 [==============================] - 0s 3ms/step - loss: 0.2813 - accuracy: 0.8984 - val_loss: 0.5287 - val_accuracy: 0.8116\n",
            "Epoch 188/500\n",
            "104/104 [==============================] - 0s 3ms/step - loss: 0.3086 - accuracy: 0.8791 - val_loss: 0.5378 - val_accuracy: 0.8213\n",
            "Epoch 189/500\n",
            "104/104 [==============================] - 0s 3ms/step - loss: 0.3039 - accuracy: 0.8833 - val_loss: 0.5045 - val_accuracy: 0.8164\n",
            "Epoch 190/500\n",
            "104/104 [==============================] - 0s 3ms/step - loss: 0.2856 - accuracy: 0.8930 - val_loss: 0.5188 - val_accuracy: 0.8116\n",
            "Epoch 191/500\n",
            "104/104 [==============================] - 0s 3ms/step - loss: 0.3028 - accuracy: 0.8972 - val_loss: 0.5483 - val_accuracy: 0.8164\n",
            "Epoch 192/500\n",
            "104/104 [==============================] - 0s 3ms/step - loss: 0.2777 - accuracy: 0.8996 - val_loss: 0.5567 - val_accuracy: 0.7923\n",
            "Epoch 193/500\n",
            "104/104 [==============================] - 0s 3ms/step - loss: 0.3088 - accuracy: 0.8845 - val_loss: 0.5281 - val_accuracy: 0.8116\n",
            "Epoch 194/500\n",
            "104/104 [==============================] - 0s 3ms/step - loss: 0.2930 - accuracy: 0.8900 - val_loss: 0.5653 - val_accuracy: 0.7874\n",
            "Epoch 195/500\n",
            "104/104 [==============================] - 0s 3ms/step - loss: 0.2692 - accuracy: 0.9099 - val_loss: 0.5170 - val_accuracy: 0.8454\n",
            "Epoch 196/500\n",
            "104/104 [==============================] - 0s 3ms/step - loss: 0.2714 - accuracy: 0.9002 - val_loss: 0.5413 - val_accuracy: 0.7874\n",
            "Epoch 197/500\n",
            "104/104 [==============================] - 0s 3ms/step - loss: 0.2799 - accuracy: 0.8984 - val_loss: 0.5030 - val_accuracy: 0.8213\n",
            "Epoch 198/500\n",
            "104/104 [==============================] - 0s 3ms/step - loss: 0.2839 - accuracy: 0.8930 - val_loss: 0.5146 - val_accuracy: 0.8213\n",
            "Epoch 199/500\n",
            "104/104 [==============================] - 0s 3ms/step - loss: 0.2868 - accuracy: 0.8960 - val_loss: 0.5270 - val_accuracy: 0.8019\n",
            "Epoch 200/500\n",
            "104/104 [==============================] - 0s 3ms/step - loss: 0.2753 - accuracy: 0.8948 - val_loss: 0.5886 - val_accuracy: 0.7971\n",
            "Epoch 201/500\n",
            "104/104 [==============================] - 0s 3ms/step - loss: 0.2921 - accuracy: 0.8906 - val_loss: 0.5403 - val_accuracy: 0.8019\n",
            "Epoch 202/500\n",
            "104/104 [==============================] - 0s 3ms/step - loss: 0.2751 - accuracy: 0.8960 - val_loss: 0.5413 - val_accuracy: 0.8019\n",
            "Epoch 203/500\n",
            "104/104 [==============================] - 0s 3ms/step - loss: 0.2815 - accuracy: 0.8948 - val_loss: 0.5598 - val_accuracy: 0.8019\n",
            "Epoch 204/500\n",
            "104/104 [==============================] - 0s 3ms/step - loss: 0.2642 - accuracy: 0.9069 - val_loss: 0.4878 - val_accuracy: 0.8357\n",
            "Epoch 205/500\n",
            "104/104 [==============================] - 0s 3ms/step - loss: 0.2566 - accuracy: 0.9027 - val_loss: 0.4744 - val_accuracy: 0.8116\n",
            "Epoch 206/500\n",
            "104/104 [==============================] - 0s 3ms/step - loss: 0.2748 - accuracy: 0.8894 - val_loss: 0.5295 - val_accuracy: 0.8213\n",
            "Epoch 207/500\n",
            "104/104 [==============================] - 0s 3ms/step - loss: 0.2436 - accuracy: 0.9154 - val_loss: 0.5020 - val_accuracy: 0.8068\n",
            "Epoch 208/500\n",
            "104/104 [==============================] - 0s 3ms/step - loss: 0.2405 - accuracy: 0.9178 - val_loss: 0.4964 - val_accuracy: 0.8213\n",
            "Epoch 209/500\n",
            "104/104 [==============================] - 0s 3ms/step - loss: 0.2498 - accuracy: 0.9033 - val_loss: 0.4737 - val_accuracy: 0.8357\n",
            "Epoch 210/500\n",
            "104/104 [==============================] - 0s 3ms/step - loss: 0.2821 - accuracy: 0.8948 - val_loss: 0.4912 - val_accuracy: 0.8213\n",
            "Epoch 211/500\n",
            "104/104 [==============================] - 0s 3ms/step - loss: 0.2713 - accuracy: 0.9093 - val_loss: 0.5075 - val_accuracy: 0.8551\n",
            "Epoch 212/500\n",
            "104/104 [==============================] - 0s 3ms/step - loss: 0.2719 - accuracy: 0.9002 - val_loss: 0.5215 - val_accuracy: 0.8261\n",
            "Epoch 213/500\n",
            "104/104 [==============================] - 0s 3ms/step - loss: 0.2389 - accuracy: 0.9214 - val_loss: 0.4937 - val_accuracy: 0.8406\n",
            "Epoch 214/500\n",
            "104/104 [==============================] - 0s 3ms/step - loss: 0.2512 - accuracy: 0.9123 - val_loss: 0.5183 - val_accuracy: 0.8309\n",
            "Epoch 215/500\n",
            "104/104 [==============================] - 0s 4ms/step - loss: 0.2714 - accuracy: 0.8978 - val_loss: 0.5424 - val_accuracy: 0.8019\n",
            "Epoch 216/500\n",
            "104/104 [==============================] - 0s 4ms/step - loss: 0.2542 - accuracy: 0.9063 - val_loss: 0.4956 - val_accuracy: 0.8261\n",
            "Epoch 217/500\n",
            "104/104 [==============================] - 0s 4ms/step - loss: 0.2417 - accuracy: 0.9105 - val_loss: 0.5436 - val_accuracy: 0.8309\n",
            "Epoch 218/500\n",
            "104/104 [==============================] - 0s 4ms/step - loss: 0.2268 - accuracy: 0.9172 - val_loss: 0.4904 - val_accuracy: 0.8261\n",
            "Epoch 219/500\n",
            "104/104 [==============================] - 0s 4ms/step - loss: 0.2329 - accuracy: 0.9148 - val_loss: 0.5022 - val_accuracy: 0.8261\n",
            "Epoch 220/500\n",
            "104/104 [==============================] - 0s 4ms/step - loss: 0.2225 - accuracy: 0.9268 - val_loss: 0.4849 - val_accuracy: 0.8213\n",
            "Epoch 221/500\n",
            "104/104 [==============================] - 0s 3ms/step - loss: 0.2447 - accuracy: 0.9087 - val_loss: 0.5112 - val_accuracy: 0.8213\n",
            "Epoch 222/500\n",
            "104/104 [==============================] - 0s 3ms/step - loss: 0.2560 - accuracy: 0.9015 - val_loss: 0.5118 - val_accuracy: 0.8213\n",
            "Epoch 223/500\n",
            "104/104 [==============================] - 0s 3ms/step - loss: 0.2330 - accuracy: 0.9099 - val_loss: 0.5502 - val_accuracy: 0.8116\n",
            "Epoch 224/500\n",
            "104/104 [==============================] - 0s 3ms/step - loss: 0.2364 - accuracy: 0.9141 - val_loss: 0.5000 - val_accuracy: 0.8261\n",
            "Epoch 225/500\n",
            "104/104 [==============================] - 0s 3ms/step - loss: 0.2474 - accuracy: 0.9081 - val_loss: 0.5070 - val_accuracy: 0.8309\n",
            "Epoch 226/500\n",
            "104/104 [==============================] - 0s 3ms/step - loss: 0.2234 - accuracy: 0.9160 - val_loss: 0.4860 - val_accuracy: 0.8261\n",
            "Epoch 227/500\n",
            "104/104 [==============================] - 0s 3ms/step - loss: 0.2527 - accuracy: 0.9087 - val_loss: 0.5503 - val_accuracy: 0.8068\n",
            "Epoch 228/500\n",
            "104/104 [==============================] - 0s 3ms/step - loss: 0.2513 - accuracy: 0.9045 - val_loss: 0.5058 - val_accuracy: 0.8213\n",
            "Epoch 229/500\n",
            "104/104 [==============================] - 0s 3ms/step - loss: 0.2118 - accuracy: 0.9196 - val_loss: 0.5109 - val_accuracy: 0.8068\n",
            "Epoch 230/500\n",
            "104/104 [==============================] - 0s 3ms/step - loss: 0.2301 - accuracy: 0.9208 - val_loss: 0.5422 - val_accuracy: 0.8116\n",
            "Epoch 231/500\n",
            "104/104 [==============================] - 0s 3ms/step - loss: 0.2432 - accuracy: 0.9135 - val_loss: 0.5241 - val_accuracy: 0.8116\n",
            "Epoch 232/500\n",
            "104/104 [==============================] - 0s 3ms/step - loss: 0.2209 - accuracy: 0.9238 - val_loss: 0.4798 - val_accuracy: 0.8019\n",
            "Epoch 233/500\n",
            "104/104 [==============================] - 0s 3ms/step - loss: 0.2127 - accuracy: 0.9238 - val_loss: 0.5139 - val_accuracy: 0.8116\n",
            "Epoch 234/500\n",
            "104/104 [==============================] - 0s 3ms/step - loss: 0.2412 - accuracy: 0.9051 - val_loss: 0.5669 - val_accuracy: 0.8068\n"
          ]
        }
      ]
    },
    {
      "cell_type": "code",
      "source": [
        "plt.plot(cnnhistory.history['loss'])\n",
        "plt.plot(cnnhistory.history['val_loss'])\n",
        "plt.title('model loss')\n",
        "plt.ylabel('loss')\n",
        "plt.xlabel('epoch')\n",
        "plt.legend(['train','test'], loc='upper left')\n",
        "plt.show()"
      ],
      "metadata": {
        "id": "oQYnuaCrDH_A",
        "colab": {
          "base_uri": "https://localhost:8080/",
          "height": 295
        },
        "outputId": "c7745620-5fed-4810-f01d-9ee7139cff76"
      },
      "execution_count": 15,
      "outputs": [
        {
          "output_type": "display_data",
          "data": {
            "text/plain": [
              "<Figure size 432x288 with 1 Axes>"
            ],
            "image/png": "[encoded data removed]"
          },
          "metadata": {
            "needs_background": "light"
          }
        }
      ]
    },
    {
      "cell_type": "code",
      "source": [
        "plt.plot(cnnhistory.history['accuracy'])\n",
        "plt.plot(cnnhistory.history['val_accuracy'])\n",
        "plt.title('model accuracy')\n",
        "plt.ylabel('accuracy')\n",
        "plt.xlabel('epoch')\n",
        "plt.legend(['train','test'], loc='upper left')\n",
        "plt.show()"
      ],
      "metadata": {
        "id": "IFkTuO8nDNdq",
        "colab": {
          "base_uri": "https://localhost:8080/",
          "height": 295
        },
        "outputId": "da9e4878-d428-4c6a-c597-a014fe083acf"
      },
      "execution_count": 16,
      "outputs": [
        {
          "output_type": "display_data",
          "data": {
            "text/plain": [
              "<Figure size 432x288 with 1 Axes>"
            ],
            "image/png": "[encoded data removed]"
          },
          "metadata": {
            "needs_background": "light"
          }
        }
      ]
    },
    {
      "cell_type": "code",
      "source": [
        "predictions = model.predict(x_testcnn)"
      ],
      "metadata": {
        "id": "A2xtrN5wDQgY"
      },
      "execution_count": 17,
      "outputs": []
    },
    {
      "cell_type": "code",
      "source": [
        "predictions"
      ],
      "metadata": {
        "id": "_f_ohjXKDUpY",
        "colab": {
          "base_uri": "https://localhost:8080/"
        },
        "outputId": "572ccc33-ad0f-4522-c917-864c679a63a6"
      },
      "execution_count": 18,
      "outputs": [
        {
          "output_type": "execute_result",
          "data": {
            "text/plain": [
              "array([[2.6731277e-01, 3.5694323e-02, 3.8120887e-01, 2.8026444e-01,\n",
              "        3.0289724e-02, 5.2298480e-03],\n",
              "       [5.6523710e-05, 4.1199672e-07, 6.0123934e-10, 9.9233246e-01,\n",
              "        2.5179149e-06, 7.6081348e-03],\n",
              "       [2.9998100e-01, 1.5076937e-01, 2.7356837e-02, 4.9125865e-01,\n",
              "        1.0742503e-02, 1.9891668e-02],\n",
              "       ...,\n",
              "       [1.0654941e-05, 3.7917641e-11, 1.7201190e-04, 8.3381210e-06,\n",
              "        9.9690241e-01, 2.9066345e-03],\n",
              "       [7.5286111e-06, 1.0768709e-01, 8.9165932e-01, 2.6646836e-05,\n",
              "        4.1264485e-04, 2.0670379e-04],\n",
              "       [1.0630231e-05, 2.3239838e-06, 3.5332132e-02, 2.7209890e-05,\n",
              "        9.4546574e-01, 1.9161932e-02]], dtype=float32)"
            ]
          },
          "metadata": {},
          "execution_count": 18
        }
      ]
    },
    {
      "cell_type": "code",
      "source": [
        "y_test"
      ],
      "metadata": {
        "id": "cmA2bFgsDW3D",
        "colab": {
          "base_uri": "https://localhost:8080/"
        },
        "outputId": "883840c2-f760-42dc-fab8-1ee40683f01e"
      },
      "execution_count": 19,
      "outputs": [
        {
          "output_type": "execute_result",
          "data": {
            "text/plain": [
              "array([3, 3, 3, 0, 4, 4, 1, 2, 5, 0, 5, 3, 2, 2, 1, 4, 4, 5, 2, 4, 1, 2,\n",
              "       3, 5, 4, 2, 1, 2, 2, 2, 2, 5, 2, 5, 3, 1, 2, 0, 4, 5, 2, 3, 2, 2,\n",
              "       5, 2, 0, 1, 3, 4, 4, 5, 1, 1, 4, 4, 5, 1, 1, 1, 0, 1, 5, 0, 4, 1,\n",
              "       1, 0, 1, 4, 1, 0, 4, 1, 3, 1, 2, 2, 1, 2, 3, 0, 5, 3, 5, 5, 2, 4,\n",
              "       5, 1, 5, 1, 5, 3, 4, 1, 4, 1, 5, 4, 5, 1, 2, 1, 1, 5, 1, 3, 2, 5,\n",
              "       2, 1, 3, 5, 4, 4, 0, 0, 3, 1, 2, 2, 3, 5, 1, 5, 3, 4, 2, 2, 0, 2,\n",
              "       2, 5, 5, 0, 3, 3, 2, 2, 0, 3, 4, 0, 4, 2, 4, 5, 4, 1, 5, 3, 2, 2,\n",
              "       5, 4, 3, 3, 4, 3, 3, 4, 1, 5, 2, 3, 2, 2, 0, 2, 1, 3, 1, 2, 2, 5,\n",
              "       5, 1, 4, 2, 2, 1, 1, 3, 3, 5, 5, 2, 5, 1, 5, 0, 3, 3, 0, 5, 1, 4,\n",
              "       1, 4, 2, 5, 5, 1, 4, 2, 4])"
            ]
          },
          "metadata": {},
          "execution_count": 19
        }
      ]
    },
    {
      "cell_type": "code",
      "source": [
        "new_Ytest = y_test.astype(int)"
      ],
      "metadata": {
        "id": "0PHDKWJWDY3g"
      },
      "execution_count": 20,
      "outputs": []
    },
    {
      "cell_type": "code",
      "source": [
        "new_Ytest"
      ],
      "metadata": {
        "id": "k68v2i-pDbZE",
        "colab": {
          "base_uri": "https://localhost:8080/"
        },
        "outputId": "59799ce9-4c56-4bf7-cc23-3d03278298e0"
      },
      "execution_count": 21,
      "outputs": [
        {
          "output_type": "execute_result",
          "data": {
            "text/plain": [
              "array([3, 3, 3, 0, 4, 4, 1, 2, 5, 0, 5, 3, 2, 2, 1, 4, 4, 5, 2, 4, 1, 2,\n",
              "       3, 5, 4, 2, 1, 2, 2, 2, 2, 5, 2, 5, 3, 1, 2, 0, 4, 5, 2, 3, 2, 2,\n",
              "       5, 2, 0, 1, 3, 4, 4, 5, 1, 1, 4, 4, 5, 1, 1, 1, 0, 1, 5, 0, 4, 1,\n",
              "       1, 0, 1, 4, 1, 0, 4, 1, 3, 1, 2, 2, 1, 2, 3, 0, 5, 3, 5, 5, 2, 4,\n",
              "       5, 1, 5, 1, 5, 3, 4, 1, 4, 1, 5, 4, 5, 1, 2, 1, 1, 5, 1, 3, 2, 5,\n",
              "       2, 1, 3, 5, 4, 4, 0, 0, 3, 1, 2, 2, 3, 5, 1, 5, 3, 4, 2, 2, 0, 2,\n",
              "       2, 5, 5, 0, 3, 3, 2, 2, 0, 3, 4, 0, 4, 2, 4, 5, 4, 1, 5, 3, 2, 2,\n",
              "       5, 4, 3, 3, 4, 3, 3, 4, 1, 5, 2, 3, 2, 2, 0, 2, 1, 3, 1, 2, 2, 5,\n",
              "       5, 1, 4, 2, 2, 1, 1, 3, 3, 5, 5, 2, 5, 1, 5, 0, 3, 3, 0, 5, 1, 4,\n",
              "       1, 4, 2, 5, 5, 1, 4, 2, 4])"
            ]
          },
          "metadata": {},
          "execution_count": 21
        }
      ]
    },
    {
      "cell_type": "code",
      "source": [
        "preds1=predictions.argmax(axis=1)\n",
        "preds1"
      ],
      "metadata": {
        "id": "4_cAI39VFhtp",
        "colab": {
          "base_uri": "https://localhost:8080/"
        },
        "outputId": "f1320d57-676c-4d01-ffd0-b794d9f95d3e"
      },
      "execution_count": 22,
      "outputs": [
        {
          "output_type": "execute_result",
          "data": {
            "text/plain": [
              "array([2, 3, 3, 0, 4, 4, 1, 2, 5, 1, 5, 3, 2, 2, 0, 4, 4, 3, 3, 4, 1, 2,\n",
              "       3, 3, 4, 2, 1, 1, 2, 2, 2, 5, 2, 5, 3, 1, 2, 0, 4, 5, 2, 3, 2, 2,\n",
              "       3, 2, 0, 1, 3, 4, 4, 5, 1, 1, 5, 4, 5, 1, 1, 1, 0, 1, 3, 0, 4, 1,\n",
              "       1, 1, 1, 4, 0, 0, 4, 3, 3, 1, 2, 2, 1, 2, 1, 0, 5, 3, 5, 5, 2, 3,\n",
              "       3, 1, 0, 1, 5, 3, 4, 1, 4, 0, 5, 4, 5, 1, 2, 1, 1, 5, 1, 3, 2, 2,\n",
              "       0, 1, 3, 5, 4, 4, 0, 0, 3, 1, 1, 2, 1, 3, 1, 5, 3, 5, 2, 2, 0, 2,\n",
              "       2, 3, 3, 0, 3, 3, 2, 2, 0, 3, 4, 0, 4, 1, 4, 2, 4, 1, 5, 3, 2, 2,\n",
              "       5, 4, 3, 3, 4, 5, 3, 4, 1, 5, 2, 3, 2, 2, 0, 2, 1, 3, 1, 4, 2, 5,\n",
              "       5, 1, 4, 2, 4, 1, 1, 3, 3, 5, 5, 2, 5, 1, 5, 1, 3, 3, 2, 2, 1, 4,\n",
              "       1, 4, 3, 2, 5, 1, 4, 2, 4])"
            ]
          },
          "metadata": {},
          "execution_count": 22
        }
      ]
    },
    {
      "cell_type": "code",
      "source": [
        "abc = preds1.astype(int).flatten()"
      ],
      "metadata": {
        "id": "H4WEmM60NfQn"
      },
      "execution_count": 23,
      "outputs": []
    },
    {
      "cell_type": "code",
      "source": [
        "from sklearn.metrics import confusion_matrix\n",
        "c = confusion_matrix(new_Ytest, abc) \n",
        "c"
      ],
      "metadata": {
        "id": "bKEBeEBlFjB8",
        "colab": {
          "base_uri": "https://localhost:8080/"
        },
        "outputId": "4b56b985-b017-4057-8ba8-ba0e97f88920"
      },
      "execution_count": 24,
      "outputs": [
        {
          "output_type": "execute_result",
          "data": {
            "text/plain": [
              "array([[14,  3,  1,  0,  0,  0],\n",
              "       [ 3, 37,  0,  1,  0,  0],\n",
              "       [ 1,  3, 37,  2,  2,  0],\n",
              "       [ 0,  2,  1, 27,  0,  1],\n",
              "       [ 0,  0,  0,  1, 30,  2],\n",
              "       [ 1,  0,  4,  8,  0, 26]])"
            ]
          },
          "metadata": {},
          "execution_count": 24
        }
      ]
    },
    {
      "cell_type": "code",
      "source": [
        "y_test"
      ],
      "metadata": {
        "id": "m4RjG7LWLSQx",
        "colab": {
          "base_uri": "https://localhost:8080/"
        },
        "outputId": "cde08e48-40c7-4e48-f43e-e0b82b17e717"
      },
      "execution_count": 25,
      "outputs": [
        {
          "output_type": "execute_result",
          "data": {
            "text/plain": [
              "array([3, 3, 3, 0, 4, 4, 1, 2, 5, 0, 5, 3, 2, 2, 1, 4, 4, 5, 2, 4, 1, 2,\n",
              "       3, 5, 4, 2, 1, 2, 2, 2, 2, 5, 2, 5, 3, 1, 2, 0, 4, 5, 2, 3, 2, 2,\n",
              "       5, 2, 0, 1, 3, 4, 4, 5, 1, 1, 4, 4, 5, 1, 1, 1, 0, 1, 5, 0, 4, 1,\n",
              "       1, 0, 1, 4, 1, 0, 4, 1, 3, 1, 2, 2, 1, 2, 3, 0, 5, 3, 5, 5, 2, 4,\n",
              "       5, 1, 5, 1, 5, 3, 4, 1, 4, 1, 5, 4, 5, 1, 2, 1, 1, 5, 1, 3, 2, 5,\n",
              "       2, 1, 3, 5, 4, 4, 0, 0, 3, 1, 2, 2, 3, 5, 1, 5, 3, 4, 2, 2, 0, 2,\n",
              "       2, 5, 5, 0, 3, 3, 2, 2, 0, 3, 4, 0, 4, 2, 4, 5, 4, 1, 5, 3, 2, 2,\n",
              "       5, 4, 3, 3, 4, 3, 3, 4, 1, 5, 2, 3, 2, 2, 0, 2, 1, 3, 1, 2, 2, 5,\n",
              "       5, 1, 4, 2, 2, 1, 1, 3, 3, 5, 5, 2, 5, 1, 5, 0, 3, 3, 0, 5, 1, 4,\n",
              "       1, 4, 2, 5, 5, 1, 4, 2, 4])"
            ]
          },
          "metadata": {},
          "execution_count": 25
        }
      ]
    },
    {
      "cell_type": "code",
      "source": [
        "loss, acc =model.evaluate(x_testcnn, y_test)\n",
        "print(\"Restored model, accuracy: {:5.2f}%\".format(100*acc))"
      ],
      "metadata": {
        "id": "n3kzoqPkDqqS",
        "colab": {
          "base_uri": "https://localhost:8080/"
        },
        "outputId": "a673d7bd-8338-4f44-9daa-5b12020467f4"
      },
      "execution_count": 26,
      "outputs": [
        {
          "output_type": "stream",
          "name": "stdout",
          "text": [
            "7/7 [==============================] - 0s 3ms/step - loss: 0.5069 - accuracy: 0.8261\n",
            "Restored model, accuracy: 82.61%\n"
          ]
        }
      ]
    },
    {
      "cell_type": "code",
      "source": [
        "loss, acc =model.evaluate(X_train, y_train)\n",
        "print(\"Restored model train, accuracy: {:5.2f}%\".format(100*acc))"
      ],
      "metadata": {
        "id": "fJDTGH_OUX0z",
        "colab": {
          "base_uri": "https://localhost:8080/"
        },
        "outputId": "5f787ea7-f9c2-424b-c37d-26c0a13c85fc"
      },
      "execution_count": 27,
      "outputs": [
        {
          "output_type": "stream",
          "name": "stdout",
          "text": [
            "52/52 [==============================] - 0s 3ms/step - loss: 0.1449 - accuracy: 0.9788\n",
            "Restored model train, accuracy: 97.88%\n"
          ]
        }
      ]
    },
    {
      "cell_type": "code",
      "source": [
        "from sklearn.metrics import classification_report, confusion_matrix,accuracy_score\n",
        "import seaborn as sn\n",
        "\n",
        "print(classification_report(new_Ytest,abc))\n",
        "\n",
        "acc = float(accuracy_score(new_Ytest,abc))*100\n",
        "print(\"----accuracy score %s ----\" % acc)\n",
        "\n",
        "cm = confusion_matrix(new_Ytest,abc)\n",
        "#df_cm = pd.DataFrame(cm)\n",
        "class_names = ['neutral','calm', 'happy','sad','angry', 'fearful' ]\n",
        "df_cm = pd.DataFrame(cm, index=class_names, columns=class_names,)\n",
        "sn.heatmap(df_cm, annot=True, fmt='')\n",
        "plt.show()"
      ],
      "metadata": {
        "id": "SfSC3El94LZg",
        "colab": {
          "base_uri": "https://localhost:8080/",
          "height": 521
        },
        "outputId": "0fb21d11-fd04-4571-ed50-8a9b18377cdc"
      },
      "execution_count": 28,
      "outputs": [
        {
          "output_type": "stream",
          "name": "stdout",
          "text": [
            "              precision    recall  f1-score   support\n",
            "\n",
            "           0       0.74      0.78      0.76        18\n",
            "           1       0.82      0.90      0.86        41\n",
            "           2       0.86      0.82      0.84        45\n",
            "           3       0.69      0.87      0.77        31\n",
            "           4       0.94      0.91      0.92        33\n",
            "           5       0.90      0.67      0.76        39\n",
            "\n",
            "    accuracy                           0.83       207\n",
            "   macro avg       0.82      0.82      0.82       207\n",
            "weighted avg       0.84      0.83      0.83       207\n",
            "\n",
            "----accuracy score 82.6086956521739 ----\n"
          ]
        },
        {
          "output_type": "display_data",
          "data": {
            "text/plain": [
              "<Figure size 432x288 with 2 Axes>"
            ],
            "image/png": "[encoded data removed]"
          },
          "metadata": {
            "needs_background": "light"
          }
        }
      ]
    }
  ]
}