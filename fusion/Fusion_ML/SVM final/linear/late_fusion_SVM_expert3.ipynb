{
  "nbformat": 4,
  "nbformat_minor": 0,
  "metadata": {
    "colab": {
      "name": "late_fusion_SVM_expert3.ipynb",
      "provenance": [],
      "collapsed_sections": []
    },
    "kernelspec": {
      "name": "python3",
      "display_name": "Python 3"
    },
    "language_info": {
      "name": "python"
    }
  },
  "cells": [
    {
      "cell_type": "code",
      "source": [
        "# stacked generalization with linear meta model on blobs dataset\n",
        "from sklearn.metrics import accuracy_score\n",
        "from sklearn.linear_model import LogisticRegression\n",
        "from matplotlib import pyplot\n"
      ],
      "metadata": {
        "id": "XQj4f23-Ix-w"
      },
      "execution_count": 1,
      "outputs": []
    },
    {
      "cell_type": "code",
      "source": [
        "from google.colab import drive\n",
        "drive.mount('/content/drive')"
      ],
      "metadata": {
        "colab": {
          "base_uri": "https://localhost:8080/"
        },
        "id": "qj9wMQtlI1os",
        "outputId": "9ac5c0f6-5d33-493a-a9a4-3ae53cc8da60"
      },
      "execution_count": 2,
      "outputs": [
        {
          "output_type": "stream",
          "name": "stdout",
          "text": [
            "Mounted at /content/drive\n"
          ]
        }
      ]
    },
    {
      "cell_type": "code",
      "source": [
        "#x_train  y_train to train\n",
        "#x_test   y_test to test\n",
        "#x_valid  y_valid \n",
        "#video\n",
        "import joblib\n",
        "x_test_prediction = joblib.load('/content/drive/My Drive/fusion/video/data_set_fusion/expert3/test/pred_test')\n",
        "x_train_prediction = joblib.load('/content/drive/My Drive/fusion/video/data_set_fusion/expert3/train/pred_train')\n",
        "x_valid_prediction = joblib.load('/content/drive/My Drive/fusion/video/data_set_fusion/expert3/valid/pred_valid')\n",
        "y_test = joblib.load('/content/drive/My Drive/fusion/video/data_set_fusion/expert3/test/labels_test')\n",
        "y_train = joblib.load('/content/drive/My Drive/fusion/video/data_set_fusion/expert3/train/labels_train')\n",
        "y_valid = joblib.load('/content/drive/My Drive/fusion/video/data_set_fusion/expert3/valid/labels_valid')\n",
        "#audio\n",
        "\n",
        "x_audio_test_prediction = joblib.load('/content/drive/My Drive/fusion/final_audio/data_set_fusion/expert3/test/predict_test')\n",
        "x_audio_train_prediction = joblib.load('/content/drive/My Drive/fusion/final_audio/data_set_fusion/expert3/train/predict_train')\n",
        "x_audio_valid_prediction = joblib.load('/content/drive/My Drive/fusion/final_audio/data_set_fusion/expert3/valid/predict_valid')\n",
        "\"\"\"\n",
        "#samples name\n",
        "test_videos= joblib.load('/content/drive/My Drive/fusion/video/data_set_fusion/expert1/test/video_test_path')\n",
        "train_videos = joblib.load('/content/drive/My Drive/fusion/video/data_set_fusion/expert1/train/video_train_path')\n",
        "valid_videos = joblib.load('/content/drive/My Drive/fusion/video/data_set_fusion/expert1/valid/video_valid_path')\n",
        "\"\"\""
      ],
      "metadata": {
        "id": "gb8C-44ct_Yp",
        "colab": {
          "base_uri": "https://localhost:8080/",
          "height": 53
        },
        "outputId": "9f997fdd-ef5b-4eaa-d39c-691edf505718"
      },
      "execution_count": 3,
      "outputs": [
        {
          "output_type": "execute_result",
          "data": {
            "text/plain": [
              "\"\\n#samples name\\ntest_videos= joblib.load('/content/drive/My Drive/fusion/video/data_set_fusion/expert1/test/video_test_path')\\ntrain_videos = joblib.load('/content/drive/My Drive/fusion/video/data_set_fusion/expert1/train/video_train_path')\\nvalid_videos = joblib.load('/content/drive/My Drive/fusion/video/data_set_fusion/expert1/valid/video_valid_path')\\n\""
            ],
            "application/vnd.google.colaboratory.intrinsic+json": {
              "type": "string"
            }
          },
          "metadata": {},
          "execution_count": 3
        }
      ]
    },
    {
      "cell_type": "code",
      "source": [
        "len(x_test_prediction),len(x_train_prediction),len(x_audio_test_prediction),len(x_audio_train_prediction),len(x_valid_prediction),len(x_audio_valid_prediction)"
      ],
      "metadata": {
        "colab": {
          "base_uri": "https://localhost:8080/"
        },
        "id": "Qz1Z3Vgdxaaw",
        "outputId": "174400c2-f258-4b51-91a9-1736d8808efe"
      },
      "execution_count": 4,
      "outputs": [
        {
          "output_type": "execute_result",
          "data": {
            "text/plain": [
              "(207, 1653, 207, 1653, 207, 207)"
            ]
          },
          "metadata": {},
          "execution_count": 4
        }
      ]
    },
    {
      "cell_type": "code",
      "source": [
        "#x_train for video\n",
        "x_train_prediction=x_train_prediction.append(x_valid_prediction,ignore_index = True)\n",
        "#x_train for audio\n",
        "x_audio_train_prediction=x_audio_train_prediction.append(x_audio_valid_prediction,ignore_index = True)"
      ],
      "metadata": {
        "id": "QgDf-FF0utgP"
      },
      "execution_count": 5,
      "outputs": []
    },
    {
      "cell_type": "code",
      "source": [
        "len(x_audio_train_prediction),len(x_train_prediction)"
      ],
      "metadata": {
        "colab": {
          "base_uri": "https://localhost:8080/"
        },
        "id": "3G4-X-MLv79s",
        "outputId": "eeae70c2-2603-4665-eedb-815e34a99032"
      },
      "execution_count": 6,
      "outputs": [
        {
          "output_type": "execute_result",
          "data": {
            "text/plain": [
              "(1860, 1860)"
            ]
          },
          "metadata": {},
          "execution_count": 6
        }
      ]
    },
    {
      "cell_type": "code",
      "source": [
        "from pandas.core.frame import DataFrame\n",
        "df_train=DataFrame(y_train,columns=['labels'])\n",
        "df_valid=DataFrame(y_valid,columns=['labels'])"
      ],
      "metadata": {
        "id": "JrYaQCyZw06M"
      },
      "execution_count": 7,
      "outputs": []
    },
    {
      "cell_type": "code",
      "source": [
        "df_train=df_train.append(df_valid,ignore_index = True)"
      ],
      "metadata": {
        "id": "Rq3yhw26xjfy"
      },
      "execution_count": 8,
      "outputs": []
    },
    {
      "cell_type": "code",
      "source": [
        "len(df_train)"
      ],
      "metadata": {
        "colab": {
          "base_uri": "https://localhost:8080/"
        },
        "id": "dvYKmNurx1KR",
        "outputId": "2526b0f3-e752-4446-e2a1-bd03a37a6475"
      },
      "execution_count": 9,
      "outputs": [
        {
          "output_type": "execute_result",
          "data": {
            "text/plain": [
              "1860"
            ]
          },
          "metadata": {},
          "execution_count": 9
        }
      ]
    },
    {
      "cell_type": "code",
      "source": [
        "df_train"
      ],
      "metadata": {
        "colab": {
          "base_uri": "https://localhost:8080/",
          "height": 424
        },
        "id": "Pfp2YX591X1F",
        "outputId": "7462eeec-4e55-45fb-c5e3-8eb226da01d6"
      },
      "execution_count": 10,
      "outputs": [
        {
          "output_type": "execute_result",
          "data": {
            "text/plain": [
              "      labels\n",
              "0          5\n",
              "1          3\n",
              "2          4\n",
              "3          4\n",
              "4          1\n",
              "...      ...\n",
              "1855       4\n",
              "1856       5\n",
              "1857       4\n",
              "1858       5\n",
              "1859       2\n",
              "\n",
              "[1860 rows x 1 columns]"
            ],
            "text/html": [
              "\n",
              "  <div id=\"df-bf2c3582-95eb-4dea-95fb-0a66795b4992\">\n",
              "    <div class=\"colab-df-container\">\n",
              "      <div>\n",
              "<style scoped>\n",
              "    .dataframe tbody tr th:only-of-type {\n",
              "        vertical-align: middle;\n",
              "    }\n",
              "\n",
              "    .dataframe tbody tr th {\n",
              "        vertical-align: top;\n",
              "    }\n",
              "\n",
              "    .dataframe thead th {\n",
              "        text-align: right;\n",
              "    }\n",
              "</style>\n",
              "<table border=\"1\" class=\"dataframe\">\n",
              "  <thead>\n",
              "    <tr style=\"text-align: right;\">\n",
              "      <th></th>\n",
              "      <th>labels</th>\n",
              "    </tr>\n",
              "  </thead>\n",
              "  <tbody>\n",
              "    <tr>\n",
              "      <th>0</th>\n",
              "      <td>5</td>\n",
              "    </tr>\n",
              "    <tr>\n",
              "      <th>1</th>\n",
              "      <td>3</td>\n",
              "    </tr>\n",
              "    <tr>\n",
              "      <th>2</th>\n",
              "      <td>4</td>\n",
              "    </tr>\n",
              "    <tr>\n",
              "      <th>3</th>\n",
              "      <td>4</td>\n",
              "    </tr>\n",
              "    <tr>\n",
              "      <th>4</th>\n",
              "      <td>1</td>\n",
              "    </tr>\n",
              "    <tr>\n",
              "      <th>...</th>\n",
              "      <td>...</td>\n",
              "    </tr>\n",
              "    <tr>\n",
              "      <th>1855</th>\n",
              "      <td>4</td>\n",
              "    </tr>\n",
              "    <tr>\n",
              "      <th>1856</th>\n",
              "      <td>5</td>\n",
              "    </tr>\n",
              "    <tr>\n",
              "      <th>1857</th>\n",
              "      <td>4</td>\n",
              "    </tr>\n",
              "    <tr>\n",
              "      <th>1858</th>\n",
              "      <td>5</td>\n",
              "    </tr>\n",
              "    <tr>\n",
              "      <th>1859</th>\n",
              "      <td>2</td>\n",
              "    </tr>\n",
              "  </tbody>\n",
              "</table>\n",
              "<p>1860 rows × 1 columns</p>\n",
              "</div>\n",
              "      <button class=\"colab-df-convert\" onclick=\"convertToInteractive('df-bf2c3582-95eb-4dea-95fb-0a66795b4992')\"\n",
              "              title=\"Convert this dataframe to an interactive table.\"\n",
              "              style=\"display:none;\">\n",
              "        \n",
              "  <svg xmlns=\"http://www.w3.org/2000/svg\" height=\"24px\"viewBox=\"0 0 24 24\"\n",
              "       width=\"24px\">\n",
              "    <path d=\"M0 0h24v24H0V0z\" fill=\"none\"/>\n",
              "    <path d=\"M18.56 5.44l.94 2.06.94-2.06 2.06-.94-2.06-.94-.94-2.06-.94 2.06-2.06.94zm-11 1L8.5 8.5l.94-2.06 2.06-.94-2.06-.94L8.5 2.5l-.94 2.06-2.06.94zm10 10l.94 2.06.94-2.06 2.06-.94-2.06-.94-.94-2.06-.94 2.06-2.06.94z\"/><path d=\"M17.41 7.96l-1.37-1.37c-.4-.4-.92-.59-1.43-.59-.52 0-1.04.2-1.43.59L10.3 9.45l-7.72 7.72c-.78.78-.78 2.05 0 2.83L4 21.41c.39.39.9.59 1.41.59.51 0 1.02-.2 1.41-.59l7.78-7.78 2.81-2.81c.8-.78.8-2.07 0-2.86zM5.41 20L4 18.59l7.72-7.72 1.47 1.35L5.41 20z\"/>\n",
              "  </svg>\n",
              "      </button>\n",
              "      \n",
              "  <style>\n",
              "    .colab-df-container {\n",
              "      display:flex;\n",
              "      flex-wrap:wrap;\n",
              "      gap: 12px;\n",
              "    }\n",
              "\n",
              "    .colab-df-convert {\n",
              "      background-color: #E8F0FE;\n",
              "      border: none;\n",
              "      border-radius: 50%;\n",
              "      cursor: pointer;\n",
              "      display: none;\n",
              "      fill: #1967D2;\n",
              "      height: 32px;\n",
              "      padding: 0 0 0 0;\n",
              "      width: 32px;\n",
              "    }\n",
              "\n",
              "    .colab-df-convert:hover {\n",
              "      background-color: #E2EBFA;\n",
              "      box-shadow: 0px 1px 2px rgba(60, 64, 67, 0.3), 0px 1px 3px 1px rgba(60, 64, 67, 0.15);\n",
              "      fill: #174EA6;\n",
              "    }\n",
              "\n",
              "    [theme=dark] .colab-df-convert {\n",
              "      background-color: #3B4455;\n",
              "      fill: #D2E3FC;\n",
              "    }\n",
              "\n",
              "    [theme=dark] .colab-df-convert:hover {\n",
              "      background-color: #434B5C;\n",
              "      box-shadow: 0px 1px 3px 1px rgba(0, 0, 0, 0.15);\n",
              "      filter: drop-shadow(0px 1px 2px rgba(0, 0, 0, 0.3));\n",
              "      fill: #FFFFFF;\n",
              "    }\n",
              "  </style>\n",
              "\n",
              "      <script>\n",
              "        const buttonEl =\n",
              "          document.querySelector('#df-bf2c3582-95eb-4dea-95fb-0a66795b4992 button.colab-df-convert');\n",
              "        buttonEl.style.display =\n",
              "          google.colab.kernel.accessAllowed ? 'block' : 'none';\n",
              "\n",
              "        async function convertToInteractive(key) {\n",
              "          const element = document.querySelector('#df-bf2c3582-95eb-4dea-95fb-0a66795b4992');\n",
              "          const dataTable =\n",
              "            await google.colab.kernel.invokeFunction('convertToInteractive',\n",
              "                                                     [key], {});\n",
              "          if (!dataTable) return;\n",
              "\n",
              "          const docLinkHtml = 'Like what you see? Visit the ' +\n",
              "            '<a target=\"_blank\" href=https://colab.research.google.com/notebooks/data_table.ipynb>data table notebook</a>'\n",
              "            + ' to learn more about interactive tables.';\n",
              "          element.innerHTML = '';\n",
              "          dataTable['output_type'] = 'display_data';\n",
              "          await google.colab.output.renderOutput(dataTable, element);\n",
              "          const docLink = document.createElement('div');\n",
              "          docLink.innerHTML = docLinkHtml;\n",
              "          element.appendChild(docLink);\n",
              "        }\n",
              "      </script>\n",
              "    </div>\n",
              "  </div>\n",
              "  "
            ]
          },
          "metadata": {},
          "execution_count": 10
        }
      ]
    },
    {
      "cell_type": "code",
      "source": [
        "import pandas as pd\n",
        "\n",
        "x_train = pd.concat([x_train_prediction, x_audio_train_prediction], axis=1,join='inner')\n",
        "x_test =  pd.concat([x_test_prediction, x_audio_test_prediction], axis=1,join='inner')"
      ],
      "metadata": {
        "id": "sbkgIXaFwKwh"
      },
      "execution_count": 11,
      "outputs": []
    },
    {
      "cell_type": "code",
      "source": [
        "x_test"
      ],
      "metadata": {
        "colab": {
          "base_uri": "https://localhost:8080/",
          "height": 424
        },
        "id": "78gEQ1w7w_fd",
        "outputId": "a1b15e67-2cd6-4d47-f0fa-45f117dd01ea"
      },
      "execution_count": 12,
      "outputs": [
        {
          "output_type": "execute_result",
          "data": {
            "text/plain": [
              "             OV_0      OV_1      OV_2      OV_3      OV_4      OV_5  \\\n",
              "0    3.847681e-07  0.000165  0.999427  0.000011  0.000015  0.000382   \n",
              "1    4.080357e-04  0.000278  0.000032  0.975605  0.000084  0.023593   \n",
              "2    8.029334e-06  0.000003  0.000078  0.000781  0.000026  0.999103   \n",
              "3    8.195345e-01  0.010879  0.000053  0.161156  0.000378  0.008000   \n",
              "4    9.327391e-08  0.000213  0.999510  0.000028  0.000003  0.000246   \n",
              "..            ...       ...       ...       ...       ...       ...   \n",
              "202  4.144497e-04  0.000421  0.000023  0.994940  0.000056  0.004145   \n",
              "203  6.430261e-05  0.068198  0.931112  0.000107  0.000038  0.000480   \n",
              "204  1.150483e-02  0.986242  0.000204  0.002006  0.000028  0.000016   \n",
              "205  1.152764e-05  0.000007  0.000231  0.004078  0.000060  0.995612   \n",
              "206  7.806483e-04  0.001267  0.000008  0.997295  0.000183  0.000467   \n",
              "\n",
              "             OA_0          OA_1          OA_2          OA_3          OA_4  \\\n",
              "0    2.339393e-08  4.492545e-04  1.513790e-01  2.081028e-03  1.901871e-01   \n",
              "1    1.975957e-05  1.564881e-04  7.852050e-06  9.997445e-01  6.491952e-08   \n",
              "2    3.701453e-09  7.622128e-05  1.231023e-05  5.006915e-02  4.191021e-05   \n",
              "3    2.945777e-11  5.241559e-07  5.465270e-13  9.999987e-01  8.366407e-07   \n",
              "4    1.806738e-12  3.497961e-06  9.999955e-01  2.585712e-10  1.034577e-06   \n",
              "..            ...           ...           ...           ...           ...   \n",
              "202  1.095575e-03  2.484599e-04  5.409541e-02  9.350762e-01  1.558638e-04   \n",
              "203  3.844235e-11  2.657799e-08  9.999998e-01  1.298877e-09  1.673976e-07   \n",
              "204  2.789836e-02  9.086061e-01  6.190639e-03  5.540712e-02  6.639938e-07   \n",
              "205  3.539513e-06  5.893920e-07  3.502655e-02  6.366857e-03  2.240395e-03   \n",
              "206  6.578524e-02  7.375587e-03  8.998875e-03  4.729744e-01  5.157150e-02   \n",
              "\n",
              "             OA_5  \n",
              "0    6.559036e-01  \n",
              "1    7.129685e-05  \n",
              "2    9.498004e-01  \n",
              "3    4.110568e-08  \n",
              "4    1.964835e-08  \n",
              "..            ...  \n",
              "202  9.328503e-03  \n",
              "203  2.157757e-08  \n",
              "204  1.897051e-03  \n",
              "205  9.563621e-01  \n",
              "206  3.932944e-01  \n",
              "\n",
              "[207 rows x 12 columns]"
            ],
            "text/html": [
              "\n",
              "  <div id=\"df-70fe3f3c-9fde-4ab6-92ed-1492bc4ebcb4\">\n",
              "    <div class=\"colab-df-container\">\n",
              "      <div>\n",
              "<style scoped>\n",
              "    .dataframe tbody tr th:only-of-type {\n",
              "        vertical-align: middle;\n",
              "    }\n",
              "\n",
              "    .dataframe tbody tr th {\n",
              "        vertical-align: top;\n",
              "    }\n",
              "\n",
              "    .dataframe thead th {\n",
              "        text-align: right;\n",
              "    }\n",
              "</style>\n",
              "<table border=\"1\" class=\"dataframe\">\n",
              "  <thead>\n",
              "    <tr style=\"text-align: right;\">\n",
              "      <th></th>\n",
              "      <th>OV_0</th>\n",
              "      <th>OV_1</th>\n",
              "      <th>OV_2</th>\n",
              "      <th>OV_3</th>\n",
              "      <th>OV_4</th>\n",
              "      <th>OV_5</th>\n",
              "      <th>OA_0</th>\n",
              "      <th>OA_1</th>\n",
              "      <th>OA_2</th>\n",
              "      <th>OA_3</th>\n",
              "      <th>OA_4</th>\n",
              "      <th>OA_5</th>\n",
              "    </tr>\n",
              "  </thead>\n",
              "  <tbody>\n",
              "    <tr>\n",
              "      <th>0</th>\n",
              "      <td>3.847681e-07</td>\n",
              "      <td>0.000165</td>\n",
              "      <td>0.999427</td>\n",
              "      <td>0.000011</td>\n",
              "      <td>0.000015</td>\n",
              "      <td>0.000382</td>\n",
              "      <td>2.339393e-08</td>\n",
              "      <td>4.492545e-04</td>\n",
              "      <td>1.513790e-01</td>\n",
              "      <td>2.081028e-03</td>\n",
              "      <td>1.901871e-01</td>\n",
              "      <td>6.559036e-01</td>\n",
              "    </tr>\n",
              "    <tr>\n",
              "      <th>1</th>\n",
              "      <td>4.080357e-04</td>\n",
              "      <td>0.000278</td>\n",
              "      <td>0.000032</td>\n",
              "      <td>0.975605</td>\n",
              "      <td>0.000084</td>\n",
              "      <td>0.023593</td>\n",
              "      <td>1.975957e-05</td>\n",
              "      <td>1.564881e-04</td>\n",
              "      <td>7.852050e-06</td>\n",
              "      <td>9.997445e-01</td>\n",
              "      <td>6.491952e-08</td>\n",
              "      <td>7.129685e-05</td>\n",
              "    </tr>\n",
              "    <tr>\n",
              "      <th>2</th>\n",
              "      <td>8.029334e-06</td>\n",
              "      <td>0.000003</td>\n",
              "      <td>0.000078</td>\n",
              "      <td>0.000781</td>\n",
              "      <td>0.000026</td>\n",
              "      <td>0.999103</td>\n",
              "      <td>3.701453e-09</td>\n",
              "      <td>7.622128e-05</td>\n",
              "      <td>1.231023e-05</td>\n",
              "      <td>5.006915e-02</td>\n",
              "      <td>4.191021e-05</td>\n",
              "      <td>9.498004e-01</td>\n",
              "    </tr>\n",
              "    <tr>\n",
              "      <th>3</th>\n",
              "      <td>8.195345e-01</td>\n",
              "      <td>0.010879</td>\n",
              "      <td>0.000053</td>\n",
              "      <td>0.161156</td>\n",
              "      <td>0.000378</td>\n",
              "      <td>0.008000</td>\n",
              "      <td>2.945777e-11</td>\n",
              "      <td>5.241559e-07</td>\n",
              "      <td>5.465270e-13</td>\n",
              "      <td>9.999987e-01</td>\n",
              "      <td>8.366407e-07</td>\n",
              "      <td>4.110568e-08</td>\n",
              "    </tr>\n",
              "    <tr>\n",
              "      <th>4</th>\n",
              "      <td>9.327391e-08</td>\n",
              "      <td>0.000213</td>\n",
              "      <td>0.999510</td>\n",
              "      <td>0.000028</td>\n",
              "      <td>0.000003</td>\n",
              "      <td>0.000246</td>\n",
              "      <td>1.806738e-12</td>\n",
              "      <td>3.497961e-06</td>\n",
              "      <td>9.999955e-01</td>\n",
              "      <td>2.585712e-10</td>\n",
              "      <td>1.034577e-06</td>\n",
              "      <td>1.964835e-08</td>\n",
              "    </tr>\n",
              "    <tr>\n",
              "      <th>...</th>\n",
              "      <td>...</td>\n",
              "      <td>...</td>\n",
              "      <td>...</td>\n",
              "      <td>...</td>\n",
              "      <td>...</td>\n",
              "      <td>...</td>\n",
              "      <td>...</td>\n",
              "      <td>...</td>\n",
              "      <td>...</td>\n",
              "      <td>...</td>\n",
              "      <td>...</td>\n",
              "      <td>...</td>\n",
              "    </tr>\n",
              "    <tr>\n",
              "      <th>202</th>\n",
              "      <td>4.144497e-04</td>\n",
              "      <td>0.000421</td>\n",
              "      <td>0.000023</td>\n",
              "      <td>0.994940</td>\n",
              "      <td>0.000056</td>\n",
              "      <td>0.004145</td>\n",
              "      <td>1.095575e-03</td>\n",
              "      <td>2.484599e-04</td>\n",
              "      <td>5.409541e-02</td>\n",
              "      <td>9.350762e-01</td>\n",
              "      <td>1.558638e-04</td>\n",
              "      <td>9.328503e-03</td>\n",
              "    </tr>\n",
              "    <tr>\n",
              "      <th>203</th>\n",
              "      <td>6.430261e-05</td>\n",
              "      <td>0.068198</td>\n",
              "      <td>0.931112</td>\n",
              "      <td>0.000107</td>\n",
              "      <td>0.000038</td>\n",
              "      <td>0.000480</td>\n",
              "      <td>3.844235e-11</td>\n",
              "      <td>2.657799e-08</td>\n",
              "      <td>9.999998e-01</td>\n",
              "      <td>1.298877e-09</td>\n",
              "      <td>1.673976e-07</td>\n",
              "      <td>2.157757e-08</td>\n",
              "    </tr>\n",
              "    <tr>\n",
              "      <th>204</th>\n",
              "      <td>1.150483e-02</td>\n",
              "      <td>0.986242</td>\n",
              "      <td>0.000204</td>\n",
              "      <td>0.002006</td>\n",
              "      <td>0.000028</td>\n",
              "      <td>0.000016</td>\n",
              "      <td>2.789836e-02</td>\n",
              "      <td>9.086061e-01</td>\n",
              "      <td>6.190639e-03</td>\n",
              "      <td>5.540712e-02</td>\n",
              "      <td>6.639938e-07</td>\n",
              "      <td>1.897051e-03</td>\n",
              "    </tr>\n",
              "    <tr>\n",
              "      <th>205</th>\n",
              "      <td>1.152764e-05</td>\n",
              "      <td>0.000007</td>\n",
              "      <td>0.000231</td>\n",
              "      <td>0.004078</td>\n",
              "      <td>0.000060</td>\n",
              "      <td>0.995612</td>\n",
              "      <td>3.539513e-06</td>\n",
              "      <td>5.893920e-07</td>\n",
              "      <td>3.502655e-02</td>\n",
              "      <td>6.366857e-03</td>\n",
              "      <td>2.240395e-03</td>\n",
              "      <td>9.563621e-01</td>\n",
              "    </tr>\n",
              "    <tr>\n",
              "      <th>206</th>\n",
              "      <td>7.806483e-04</td>\n",
              "      <td>0.001267</td>\n",
              "      <td>0.000008</td>\n",
              "      <td>0.997295</td>\n",
              "      <td>0.000183</td>\n",
              "      <td>0.000467</td>\n",
              "      <td>6.578524e-02</td>\n",
              "      <td>7.375587e-03</td>\n",
              "      <td>8.998875e-03</td>\n",
              "      <td>4.729744e-01</td>\n",
              "      <td>5.157150e-02</td>\n",
              "      <td>3.932944e-01</td>\n",
              "    </tr>\n",
              "  </tbody>\n",
              "</table>\n",
              "<p>207 rows × 12 columns</p>\n",
              "</div>\n",
              "      <button class=\"colab-df-convert\" onclick=\"convertToInteractive('df-70fe3f3c-9fde-4ab6-92ed-1492bc4ebcb4')\"\n",
              "              title=\"Convert this dataframe to an interactive table.\"\n",
              "              style=\"display:none;\">\n",
              "        \n",
              "  <svg xmlns=\"http://www.w3.org/2000/svg\" height=\"24px\"viewBox=\"0 0 24 24\"\n",
              "       width=\"24px\">\n",
              "    <path d=\"M0 0h24v24H0V0z\" fill=\"none\"/>\n",
              "    <path d=\"M18.56 5.44l.94 2.06.94-2.06 2.06-.94-2.06-.94-.94-2.06-.94 2.06-2.06.94zm-11 1L8.5 8.5l.94-2.06 2.06-.94-2.06-.94L8.5 2.5l-.94 2.06-2.06.94zm10 10l.94 2.06.94-2.06 2.06-.94-2.06-.94-.94-2.06-.94 2.06-2.06.94z\"/><path d=\"M17.41 7.96l-1.37-1.37c-.4-.4-.92-.59-1.43-.59-.52 0-1.04.2-1.43.59L10.3 9.45l-7.72 7.72c-.78.78-.78 2.05 0 2.83L4 21.41c.39.39.9.59 1.41.59.51 0 1.02-.2 1.41-.59l7.78-7.78 2.81-2.81c.8-.78.8-2.07 0-2.86zM5.41 20L4 18.59l7.72-7.72 1.47 1.35L5.41 20z\"/>\n",
              "  </svg>\n",
              "      </button>\n",
              "      \n",
              "  <style>\n",
              "    .colab-df-container {\n",
              "      display:flex;\n",
              "      flex-wrap:wrap;\n",
              "      gap: 12px;\n",
              "    }\n",
              "\n",
              "    .colab-df-convert {\n",
              "      background-color: #E8F0FE;\n",
              "      border: none;\n",
              "      border-radius: 50%;\n",
              "      cursor: pointer;\n",
              "      display: none;\n",
              "      fill: #1967D2;\n",
              "      height: 32px;\n",
              "      padding: 0 0 0 0;\n",
              "      width: 32px;\n",
              "    }\n",
              "\n",
              "    .colab-df-convert:hover {\n",
              "      background-color: #E2EBFA;\n",
              "      box-shadow: 0px 1px 2px rgba(60, 64, 67, 0.3), 0px 1px 3px 1px rgba(60, 64, 67, 0.15);\n",
              "      fill: #174EA6;\n",
              "    }\n",
              "\n",
              "    [theme=dark] .colab-df-convert {\n",
              "      background-color: #3B4455;\n",
              "      fill: #D2E3FC;\n",
              "    }\n",
              "\n",
              "    [theme=dark] .colab-df-convert:hover {\n",
              "      background-color: #434B5C;\n",
              "      box-shadow: 0px 1px 3px 1px rgba(0, 0, 0, 0.15);\n",
              "      filter: drop-shadow(0px 1px 2px rgba(0, 0, 0, 0.3));\n",
              "      fill: #FFFFFF;\n",
              "    }\n",
              "  </style>\n",
              "\n",
              "      <script>\n",
              "        const buttonEl =\n",
              "          document.querySelector('#df-70fe3f3c-9fde-4ab6-92ed-1492bc4ebcb4 button.colab-df-convert');\n",
              "        buttonEl.style.display =\n",
              "          google.colab.kernel.accessAllowed ? 'block' : 'none';\n",
              "\n",
              "        async function convertToInteractive(key) {\n",
              "          const element = document.querySelector('#df-70fe3f3c-9fde-4ab6-92ed-1492bc4ebcb4');\n",
              "          const dataTable =\n",
              "            await google.colab.kernel.invokeFunction('convertToInteractive',\n",
              "                                                     [key], {});\n",
              "          if (!dataTable) return;\n",
              "\n",
              "          const docLinkHtml = 'Like what you see? Visit the ' +\n",
              "            '<a target=\"_blank\" href=https://colab.research.google.com/notebooks/data_table.ipynb>data table notebook</a>'\n",
              "            + ' to learn more about interactive tables.';\n",
              "          element.innerHTML = '';\n",
              "          dataTable['output_type'] = 'display_data';\n",
              "          await google.colab.output.renderOutput(dataTable, element);\n",
              "          const docLink = document.createElement('div');\n",
              "          docLink.innerHTML = docLinkHtml;\n",
              "          element.appendChild(docLink);\n",
              "        }\n",
              "      </script>\n",
              "    </div>\n",
              "  </div>\n",
              "  "
            ]
          },
          "metadata": {},
          "execution_count": 12
        }
      ]
    },
    {
      "cell_type": "code",
      "source": [
        "len(x_test),len(x_train)"
      ],
      "metadata": {
        "colab": {
          "base_uri": "https://localhost:8080/"
        },
        "id": "ryRQjTkUyZJv",
        "outputId": "04350ded-1782-4e40-9dbd-60cfa5fe4084"
      },
      "execution_count": 13,
      "outputs": [
        {
          "output_type": "execute_result",
          "data": {
            "text/plain": [
              "(207, 1860)"
            ]
          },
          "metadata": {},
          "execution_count": 13
        }
      ]
    },
    {
      "cell_type": "code",
      "source": [
        "x_train"
      ],
      "metadata": {
        "colab": {
          "base_uri": "https://localhost:8080/",
          "height": 424
        },
        "id": "1e5kgXiFwzx3",
        "outputId": "6ab69cba-2931-40f3-c101-bbb2d570739d"
      },
      "execution_count": 14,
      "outputs": [
        {
          "output_type": "execute_result",
          "data": {
            "text/plain": [
              "              OV_0      OV_1          OV_2      OV_3      OV_4          OV_5  \\\n",
              "0     1.342762e-05  0.000012  2.062135e-04  0.004942  0.000055  9.947707e-01   \n",
              "1     6.808462e-04  0.000532  1.420739e-04  0.967613  0.000086  3.094518e-02   \n",
              "2     6.382396e-06  0.000014  3.164888e-07  0.000078  0.999668  2.334870e-04   \n",
              "3     1.216768e-05  0.000016  9.738202e-07  0.000070  0.999058  8.416994e-04   \n",
              "4     3.387133e-05  0.999711  1.496905e-04  0.000090  0.000015  7.047519e-07   \n",
              "...            ...       ...           ...       ...       ...           ...   \n",
              "1855  1.730688e-03  0.000940  9.109009e-05  0.042585  0.514992  4.396609e-01   \n",
              "1856  7.937995e-05  0.000008  8.498927e-05  0.006586  0.000129  9.931120e-01   \n",
              "1857  4.019840e-07  0.000003  9.252089e-08  0.000062  0.999855  7.927581e-05   \n",
              "1858  2.571352e-05  0.000011  2.133435e-04  0.015691  0.000191  9.838685e-01   \n",
              "1859  8.006435e-07  0.001160  9.986746e-01  0.000017  0.000023  1.246707e-04   \n",
              "\n",
              "              OA_0          OA_1          OA_2          OA_3          OA_4  \\\n",
              "0     2.860139e-12  1.029362e-12  2.763213e-10  7.690621e-06  1.856796e-08   \n",
              "1     6.939699e-05  4.272675e-04  3.367784e-05  9.957568e-01  1.398684e-05   \n",
              "2     3.266045e-09  2.184742e-12  2.176245e-08  3.267696e-09  1.000000e+00   \n",
              "3     1.255789e-06  4.938967e-07  1.119703e-06  2.387574e-06  9.999928e-01   \n",
              "4     9.324252e-08  9.995011e-01  4.409493e-04  1.758810e-05  3.654396e-05   \n",
              "...            ...           ...           ...           ...           ...   \n",
              "1855  1.657373e-04  1.969623e-04  1.429687e-01  1.594105e-02  8.334057e-01   \n",
              "1856  1.708402e-12  7.830698e-09  6.868293e-09  8.481180e-01  7.176337e-06   \n",
              "1857  9.971090e-09  3.359930e-11  8.131390e-08  7.066848e-05  9.999260e-01   \n",
              "1858  1.783544e-05  1.618297e-07  7.646599e-04  2.982541e-02  2.798842e-02   \n",
              "1859  1.331868e-11  1.193672e-01  8.806214e-01  1.612641e-09  8.094375e-06   \n",
              "\n",
              "              OA_5  \n",
              "0     9.999923e-01  \n",
              "1     3.698828e-03  \n",
              "2     2.616779e-08  \n",
              "3     1.894219e-06  \n",
              "4     3.754101e-06  \n",
              "...            ...  \n",
              "1855  7.321869e-03  \n",
              "1856  1.518748e-01  \n",
              "1857  3.248177e-06  \n",
              "1858  9.414034e-01  \n",
              "1859  3.383944e-06  \n",
              "\n",
              "[1860 rows x 12 columns]"
            ],
            "text/html": [
              "\n",
              "  <div id=\"df-a2799e7f-0a92-4d06-bc50-ed911665659b\">\n",
              "    <div class=\"colab-df-container\">\n",
              "      <div>\n",
              "<style scoped>\n",
              "    .dataframe tbody tr th:only-of-type {\n",
              "        vertical-align: middle;\n",
              "    }\n",
              "\n",
              "    .dataframe tbody tr th {\n",
              "        vertical-align: top;\n",
              "    }\n",
              "\n",
              "    .dataframe thead th {\n",
              "        text-align: right;\n",
              "    }\n",
              "</style>\n",
              "<table border=\"1\" class=\"dataframe\">\n",
              "  <thead>\n",
              "    <tr style=\"text-align: right;\">\n",
              "      <th></th>\n",
              "      <th>OV_0</th>\n",
              "      <th>OV_1</th>\n",
              "      <th>OV_2</th>\n",
              "      <th>OV_3</th>\n",
              "      <th>OV_4</th>\n",
              "      <th>OV_5</th>\n",
              "      <th>OA_0</th>\n",
              "      <th>OA_1</th>\n",
              "      <th>OA_2</th>\n",
              "      <th>OA_3</th>\n",
              "      <th>OA_4</th>\n",
              "      <th>OA_5</th>\n",
              "    </tr>\n",
              "  </thead>\n",
              "  <tbody>\n",
              "    <tr>\n",
              "      <th>0</th>\n",
              "      <td>1.342762e-05</td>\n",
              "      <td>0.000012</td>\n",
              "      <td>2.062135e-04</td>\n",
              "      <td>0.004942</td>\n",
              "      <td>0.000055</td>\n",
              "      <td>9.947707e-01</td>\n",
              "      <td>2.860139e-12</td>\n",
              "      <td>1.029362e-12</td>\n",
              "      <td>2.763213e-10</td>\n",
              "      <td>7.690621e-06</td>\n",
              "      <td>1.856796e-08</td>\n",
              "      <td>9.999923e-01</td>\n",
              "    </tr>\n",
              "    <tr>\n",
              "      <th>1</th>\n",
              "      <td>6.808462e-04</td>\n",
              "      <td>0.000532</td>\n",
              "      <td>1.420739e-04</td>\n",
              "      <td>0.967613</td>\n",
              "      <td>0.000086</td>\n",
              "      <td>3.094518e-02</td>\n",
              "      <td>6.939699e-05</td>\n",
              "      <td>4.272675e-04</td>\n",
              "      <td>3.367784e-05</td>\n",
              "      <td>9.957568e-01</td>\n",
              "      <td>1.398684e-05</td>\n",
              "      <td>3.698828e-03</td>\n",
              "    </tr>\n",
              "    <tr>\n",
              "      <th>2</th>\n",
              "      <td>6.382396e-06</td>\n",
              "      <td>0.000014</td>\n",
              "      <td>3.164888e-07</td>\n",
              "      <td>0.000078</td>\n",
              "      <td>0.999668</td>\n",
              "      <td>2.334870e-04</td>\n",
              "      <td>3.266045e-09</td>\n",
              "      <td>2.184742e-12</td>\n",
              "      <td>2.176245e-08</td>\n",
              "      <td>3.267696e-09</td>\n",
              "      <td>1.000000e+00</td>\n",
              "      <td>2.616779e-08</td>\n",
              "    </tr>\n",
              "    <tr>\n",
              "      <th>3</th>\n",
              "      <td>1.216768e-05</td>\n",
              "      <td>0.000016</td>\n",
              "      <td>9.738202e-07</td>\n",
              "      <td>0.000070</td>\n",
              "      <td>0.999058</td>\n",
              "      <td>8.416994e-04</td>\n",
              "      <td>1.255789e-06</td>\n",
              "      <td>4.938967e-07</td>\n",
              "      <td>1.119703e-06</td>\n",
              "      <td>2.387574e-06</td>\n",
              "      <td>9.999928e-01</td>\n",
              "      <td>1.894219e-06</td>\n",
              "    </tr>\n",
              "    <tr>\n",
              "      <th>4</th>\n",
              "      <td>3.387133e-05</td>\n",
              "      <td>0.999711</td>\n",
              "      <td>1.496905e-04</td>\n",
              "      <td>0.000090</td>\n",
              "      <td>0.000015</td>\n",
              "      <td>7.047519e-07</td>\n",
              "      <td>9.324252e-08</td>\n",
              "      <td>9.995011e-01</td>\n",
              "      <td>4.409493e-04</td>\n",
              "      <td>1.758810e-05</td>\n",
              "      <td>3.654396e-05</td>\n",
              "      <td>3.754101e-06</td>\n",
              "    </tr>\n",
              "    <tr>\n",
              "      <th>...</th>\n",
              "      <td>...</td>\n",
              "      <td>...</td>\n",
              "      <td>...</td>\n",
              "      <td>...</td>\n",
              "      <td>...</td>\n",
              "      <td>...</td>\n",
              "      <td>...</td>\n",
              "      <td>...</td>\n",
              "      <td>...</td>\n",
              "      <td>...</td>\n",
              "      <td>...</td>\n",
              "      <td>...</td>\n",
              "    </tr>\n",
              "    <tr>\n",
              "      <th>1855</th>\n",
              "      <td>1.730688e-03</td>\n",
              "      <td>0.000940</td>\n",
              "      <td>9.109009e-05</td>\n",
              "      <td>0.042585</td>\n",
              "      <td>0.514992</td>\n",
              "      <td>4.396609e-01</td>\n",
              "      <td>1.657373e-04</td>\n",
              "      <td>1.969623e-04</td>\n",
              "      <td>1.429687e-01</td>\n",
              "      <td>1.594105e-02</td>\n",
              "      <td>8.334057e-01</td>\n",
              "      <td>7.321869e-03</td>\n",
              "    </tr>\n",
              "    <tr>\n",
              "      <th>1856</th>\n",
              "      <td>7.937995e-05</td>\n",
              "      <td>0.000008</td>\n",
              "      <td>8.498927e-05</td>\n",
              "      <td>0.006586</td>\n",
              "      <td>0.000129</td>\n",
              "      <td>9.931120e-01</td>\n",
              "      <td>1.708402e-12</td>\n",
              "      <td>7.830698e-09</td>\n",
              "      <td>6.868293e-09</td>\n",
              "      <td>8.481180e-01</td>\n",
              "      <td>7.176337e-06</td>\n",
              "      <td>1.518748e-01</td>\n",
              "    </tr>\n",
              "    <tr>\n",
              "      <th>1857</th>\n",
              "      <td>4.019840e-07</td>\n",
              "      <td>0.000003</td>\n",
              "      <td>9.252089e-08</td>\n",
              "      <td>0.000062</td>\n",
              "      <td>0.999855</td>\n",
              "      <td>7.927581e-05</td>\n",
              "      <td>9.971090e-09</td>\n",
              "      <td>3.359930e-11</td>\n",
              "      <td>8.131390e-08</td>\n",
              "      <td>7.066848e-05</td>\n",
              "      <td>9.999260e-01</td>\n",
              "      <td>3.248177e-06</td>\n",
              "    </tr>\n",
              "    <tr>\n",
              "      <th>1858</th>\n",
              "      <td>2.571352e-05</td>\n",
              "      <td>0.000011</td>\n",
              "      <td>2.133435e-04</td>\n",
              "      <td>0.015691</td>\n",
              "      <td>0.000191</td>\n",
              "      <td>9.838685e-01</td>\n",
              "      <td>1.783544e-05</td>\n",
              "      <td>1.618297e-07</td>\n",
              "      <td>7.646599e-04</td>\n",
              "      <td>2.982541e-02</td>\n",
              "      <td>2.798842e-02</td>\n",
              "      <td>9.414034e-01</td>\n",
              "    </tr>\n",
              "    <tr>\n",
              "      <th>1859</th>\n",
              "      <td>8.006435e-07</td>\n",
              "      <td>0.001160</td>\n",
              "      <td>9.986746e-01</td>\n",
              "      <td>0.000017</td>\n",
              "      <td>0.000023</td>\n",
              "      <td>1.246707e-04</td>\n",
              "      <td>1.331868e-11</td>\n",
              "      <td>1.193672e-01</td>\n",
              "      <td>8.806214e-01</td>\n",
              "      <td>1.612641e-09</td>\n",
              "      <td>8.094375e-06</td>\n",
              "      <td>3.383944e-06</td>\n",
              "    </tr>\n",
              "  </tbody>\n",
              "</table>\n",
              "<p>1860 rows × 12 columns</p>\n",
              "</div>\n",
              "      <button class=\"colab-df-convert\" onclick=\"convertToInteractive('df-a2799e7f-0a92-4d06-bc50-ed911665659b')\"\n",
              "              title=\"Convert this dataframe to an interactive table.\"\n",
              "              style=\"display:none;\">\n",
              "        \n",
              "  <svg xmlns=\"http://www.w3.org/2000/svg\" height=\"24px\"viewBox=\"0 0 24 24\"\n",
              "       width=\"24px\">\n",
              "    <path d=\"M0 0h24v24H0V0z\" fill=\"none\"/>\n",
              "    <path d=\"M18.56 5.44l.94 2.06.94-2.06 2.06-.94-2.06-.94-.94-2.06-.94 2.06-2.06.94zm-11 1L8.5 8.5l.94-2.06 2.06-.94-2.06-.94L8.5 2.5l-.94 2.06-2.06.94zm10 10l.94 2.06.94-2.06 2.06-.94-2.06-.94-.94-2.06-.94 2.06-2.06.94z\"/><path d=\"M17.41 7.96l-1.37-1.37c-.4-.4-.92-.59-1.43-.59-.52 0-1.04.2-1.43.59L10.3 9.45l-7.72 7.72c-.78.78-.78 2.05 0 2.83L4 21.41c.39.39.9.59 1.41.59.51 0 1.02-.2 1.41-.59l7.78-7.78 2.81-2.81c.8-.78.8-2.07 0-2.86zM5.41 20L4 18.59l7.72-7.72 1.47 1.35L5.41 20z\"/>\n",
              "  </svg>\n",
              "      </button>\n",
              "      \n",
              "  <style>\n",
              "    .colab-df-container {\n",
              "      display:flex;\n",
              "      flex-wrap:wrap;\n",
              "      gap: 12px;\n",
              "    }\n",
              "\n",
              "    .colab-df-convert {\n",
              "      background-color: #E8F0FE;\n",
              "      border: none;\n",
              "      border-radius: 50%;\n",
              "      cursor: pointer;\n",
              "      display: none;\n",
              "      fill: #1967D2;\n",
              "      height: 32px;\n",
              "      padding: 0 0 0 0;\n",
              "      width: 32px;\n",
              "    }\n",
              "\n",
              "    .colab-df-convert:hover {\n",
              "      background-color: #E2EBFA;\n",
              "      box-shadow: 0px 1px 2px rgba(60, 64, 67, 0.3), 0px 1px 3px 1px rgba(60, 64, 67, 0.15);\n",
              "      fill: #174EA6;\n",
              "    }\n",
              "\n",
              "    [theme=dark] .colab-df-convert {\n",
              "      background-color: #3B4455;\n",
              "      fill: #D2E3FC;\n",
              "    }\n",
              "\n",
              "    [theme=dark] .colab-df-convert:hover {\n",
              "      background-color: #434B5C;\n",
              "      box-shadow: 0px 1px 3px 1px rgba(0, 0, 0, 0.15);\n",
              "      filter: drop-shadow(0px 1px 2px rgba(0, 0, 0, 0.3));\n",
              "      fill: #FFFFFF;\n",
              "    }\n",
              "  </style>\n",
              "\n",
              "      <script>\n",
              "        const buttonEl =\n",
              "          document.querySelector('#df-a2799e7f-0a92-4d06-bc50-ed911665659b button.colab-df-convert');\n",
              "        buttonEl.style.display =\n",
              "          google.colab.kernel.accessAllowed ? 'block' : 'none';\n",
              "\n",
              "        async function convertToInteractive(key) {\n",
              "          const element = document.querySelector('#df-a2799e7f-0a92-4d06-bc50-ed911665659b');\n",
              "          const dataTable =\n",
              "            await google.colab.kernel.invokeFunction('convertToInteractive',\n",
              "                                                     [key], {});\n",
              "          if (!dataTable) return;\n",
              "\n",
              "          const docLinkHtml = 'Like what you see? Visit the ' +\n",
              "            '<a target=\"_blank\" href=https://colab.research.google.com/notebooks/data_table.ipynb>data table notebook</a>'\n",
              "            + ' to learn more about interactive tables.';\n",
              "          element.innerHTML = '';\n",
              "          dataTable['output_type'] = 'display_data';\n",
              "          await google.colab.output.renderOutput(dataTable, element);\n",
              "          const docLink = document.createElement('div');\n",
              "          docLink.innerHTML = docLinkHtml;\n",
              "          element.appendChild(docLink);\n",
              "        }\n",
              "      </script>\n",
              "    </div>\n",
              "  </div>\n",
              "  "
            ]
          },
          "metadata": {},
          "execution_count": 14
        }
      ]
    },
    {
      "cell_type": "code",
      "source": [
        "from sklearn.utils import shuffle\n",
        "seed=42\n",
        "new_x_train = shuffle(x_train,random_state=seed)\n",
        "new_y_train = shuffle(df_train,random_state=seed)\n",
        "new_x_train = new_x_train.reset_index(drop=True)\n",
        "new_y_train = new_y_train.reset_index(drop=True)\n",
        "\"\"\"\n",
        "y_train=df_train.to_numpy()\n",
        "y_train=y_train.reshape(1860,)\n",
        "y_train, y_train.shape\n",
        "\"\"\""
      ],
      "metadata": {
        "colab": {
          "base_uri": "https://localhost:8080/",
          "height": 36
        },
        "id": "p5veJq2ei1vA",
        "outputId": "8f568c96-0ede-466b-e8ef-df280512c7a5"
      },
      "execution_count": 15,
      "outputs": [
        {
          "output_type": "execute_result",
          "data": {
            "text/plain": [
              "'\\ny_train=df_train.to_numpy()\\ny_train=y_train.reshape(1860,)\\ny_train, y_train.shape\\n'"
            ],
            "application/vnd.google.colaboratory.intrinsic+json": {
              "type": "string"
            }
          },
          "metadata": {},
          "execution_count": 15
        }
      ]
    },
    {
      "cell_type": "code",
      "source": [
        "len(new_y_train)"
      ],
      "metadata": {
        "colab": {
          "base_uri": "https://localhost:8080/"
        },
        "id": "pFfSFyo-7NfO",
        "outputId": "fb133b37-f653-4609-e22b-d2f02ae3564b"
      },
      "execution_count": 16,
      "outputs": [
        {
          "output_type": "execute_result",
          "data": {
            "text/plain": [
              "1860"
            ]
          },
          "metadata": {},
          "execution_count": 16
        }
      ]
    },
    {
      "cell_type": "code",
      "source": [
        "from sklearn.preprocessing import StandardScaler, MinMaxScaler\n",
        "scaler = MinMaxScaler(feature_range=(0, 1))\n",
        "new_x_train = scaler.fit_transform(new_x_train)\n",
        "X_test = scaler.transform(x_test)"
      ],
      "metadata": {
        "id": "wPUM0nKyxmkZ"
      },
      "execution_count": 17,
      "outputs": []
    },
    {
      "cell_type": "code",
      "source": [
        "y_train=df_train.to_numpy()\n",
        "y_train=y_train.reshape(1860,)\n",
        "y_train, y_train.shape"
      ],
      "metadata": {
        "colab": {
          "base_uri": "https://localhost:8080/"
        },
        "id": "4UmZkWm-tMOU",
        "outputId": "81d04a5a-2c99-4a2b-c1a7-264df32d567f"
      },
      "execution_count": 18,
      "outputs": [
        {
          "output_type": "execute_result",
          "data": {
            "text/plain": [
              "(array([5, 3, 4, ..., 4, 5, 2]), (1860,))"
            ]
          },
          "metadata": {},
          "execution_count": 18
        }
      ]
    },
    {
      "cell_type": "markdown",
      "source": [
        "# training machine learning"
      ],
      "metadata": {
        "id": "1hZPjTpT4lb3"
      }
    },
    {
      "cell_type": "code",
      "source": [
        "from sklearn.svm import SVC\n",
        "model = SVC(random_state=seed, kernel='linear')\n",
        "svm=model.fit(x_train,y_train)\n",
        "predictions = model.predict(x_test)\n",
        "#print(\"Restored model, accuracy: {:5.2f}%\".format(100*acc))"
      ],
      "metadata": {
        "id": "PS4PZtkj5G8k"
      },
      "execution_count": 19,
      "outputs": []
    },
    {
      "cell_type": "code",
      "source": [
        "predictions"
      ],
      "metadata": {
        "id": "ibm_g_O66uKI",
        "colab": {
          "base_uri": "https://localhost:8080/"
        },
        "outputId": "22110131-eb33-427d-bcb4-3d746afe2e7d"
      },
      "execution_count": 20,
      "outputs": [
        {
          "output_type": "execute_result",
          "data": {
            "text/plain": [
              "array([2, 3, 5, 0, 2, 4, 1, 4, 0, 5, 0, 3, 1, 5, 3, 2, 1, 3, 1, 2, 4, 5,\n",
              "       5, 5, 1, 2, 1, 2, 2, 2, 2, 5, 3, 5, 3, 2, 1, 3, 4, 3, 1, 5, 0, 4,\n",
              "       1, 1, 0, 0, 4, 3, 1, 2, 4, 1, 3, 5, 2, 5, 2, 4, 0, 3, 5, 4, 3, 5,\n",
              "       5, 2, 3, 1, 5, 5, 5, 3, 3, 4, 1, 1, 5, 3, 2, 0, 5, 0, 3, 4, 1, 1,\n",
              "       5, 0, 1, 4, 1, 4, 3, 3, 1, 0, 0, 3, 1, 0, 2, 5, 0, 5, 1, 0, 1, 2,\n",
              "       3, 4, 1, 0, 4, 5, 1, 0, 2, 1, 4, 5, 5, 2, 1, 0, 3, 3, 2, 1, 4, 5,\n",
              "       4, 1, 2, 4, 3, 3, 4, 2, 4, 4, 3, 5, 2, 2, 1, 2, 5, 4, 4, 2, 1, 3,\n",
              "       1, 1, 4, 2, 0, 2, 5, 0, 2, 1, 3, 3, 2, 4, 3, 2, 4, 3, 1, 0, 2, 3,\n",
              "       1, 2, 2, 4, 1, 5, 5, 4, 2, 3, 4, 4, 5, 2, 4, 5, 2, 1, 1, 3, 4, 4,\n",
              "       3, 0, 2, 2, 3, 2, 1, 5, 3])"
            ]
          },
          "metadata": {},
          "execution_count": 20
        }
      ]
    },
    {
      "cell_type": "code",
      "source": [
        "from sklearn.metrics import classification_report, confusion_matrix,accuracy_score\n",
        "import seaborn as sn\n",
        "import matplotlib.pyplot as plt\n",
        "\n",
        "print(classification_report(y_test,predictions))\n",
        "\n",
        "acc = float(accuracy_score(y_test,predictions))*100\n",
        "print(\"----accuracy score %s ----\" % acc)\n",
        "\n",
        "cm = confusion_matrix(y_test,predictions)\n",
        "#df_cm = pd.DataFrame(cm)\n",
        "class_names = ['neutral','calm', 'happy','sad','angry', 'fearful' ]\n",
        "df_cm = pd.DataFrame(cm, index=class_names, columns=class_names,)\n",
        "sn.heatmap(df_cm, annot=True, fmt='')\n",
        "plt.show()"
      ],
      "metadata": {
        "colab": {
          "base_uri": "https://localhost:8080/",
          "height": 512
        },
        "id": "A9gR6pV063GP",
        "outputId": "fe7da46b-6d4e-4c36-8006-bc092ece1968"
      },
      "execution_count": 21,
      "outputs": [
        {
          "output_type": "stream",
          "name": "stdout",
          "text": [
            "              precision    recall  f1-score   support\n",
            "\n",
            "           0       0.91      0.91      0.91        22\n",
            "           1       0.93      1.00      0.96        37\n",
            "           2       1.00      1.00      1.00        40\n",
            "           3       0.95      0.95      0.95        37\n",
            "           4       0.97      0.94      0.96        35\n",
            "           5       0.97      0.92      0.94        36\n",
            "\n",
            "    accuracy                           0.96       207\n",
            "   macro avg       0.95      0.95      0.95       207\n",
            "weighted avg       0.96      0.96      0.96       207\n",
            "\n",
            "----accuracy score 95.65217391304348 ----\n"
          ]
        },
        {
          "output_type": "display_data",
          "data": {
            "text/plain": [
              "<Figure size 432x288 with 2 Axes>"
            ],
            "image/png": "[encoded data removed]"
          },
          "metadata": {
            "needs_background": "light"
          }
        }
      ]
    },
    {
      "cell_type": "code",
      "source": [
        "path='/content/drive/My Drive/fusion/fusion_model/SVM/linear/expert3'\n",
        "savedvX = joblib.dump(model, path)\n",
        "\n",
        "print(\"MODEL SAVED\")"
      ],
      "metadata": {
        "colab": {
          "base_uri": "https://localhost:8080/"
        },
        "id": "WFonuoIS7NTg",
        "outputId": "a843ff51-38f8-4ab4-fb9c-efd366aa2da7"
      },
      "execution_count": 22,
      "outputs": [
        {
          "output_type": "stream",
          "name": "stdout",
          "text": [
            "MODEL SAVED\n"
          ]
        }
      ]
    },
    {
      "cell_type": "code",
      "source": [
        ""
      ],
      "metadata": {
        "id": "Bp4nDNcd7lc_"
      },
      "execution_count": 22,
      "outputs": []
    }
  ]
}