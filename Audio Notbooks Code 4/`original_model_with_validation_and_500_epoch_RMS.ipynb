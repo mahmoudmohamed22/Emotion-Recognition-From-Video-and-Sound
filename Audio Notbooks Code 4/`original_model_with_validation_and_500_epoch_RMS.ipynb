{
  "nbformat": 4,
  "nbformat_minor": 0,
  "metadata": {
    "colab": {
      "name": "`original model with validation and 500 epoch_RMS.ipynb",
      "provenance": [],
      "collapsed_sections": []
    },
    "kernelspec": {
      "name": "python3",
      "display_name": "Python 3"
    },
    "language_info": {
      "name": "python"
    }
  },
  "cells": [
    {
      "cell_type": "code",
      "execution_count": 1,
      "metadata": {
        "colab": {
          "base_uri": "https://localhost:8080/"
        },
        "id": "9SRCO-a_AlH5",
        "outputId": "b4518744-88da-458b-ba98-6e6f3631e038"
      },
      "outputs": [
        {
          "output_type": "stream",
          "name": "stdout",
          "text": [
            "Mounted at /content/drive\n"
          ]
        }
      ],
      "source": [
        "from google.colab import drive\n",
        "drive.mount('/content/drive')"
      ]
    },
    {
      "cell_type": "code",
      "source": [
        "!pip install librosa"
      ],
      "metadata": {
        "colab": {
          "base_uri": "https://localhost:8080/"
        },
        "id": "oi8pWV3yBVjO",
        "outputId": "86305ba1-4117-4de9-d94b-65668c9643ce"
      },
      "execution_count": 2,
      "outputs": [
        {
          "output_type": "stream",
          "name": "stdout",
          "text": [
            "Requirement already satisfied: librosa in /usr/local/lib/python3.7/dist-packages (0.8.1)\n",
            "Requirement already satisfied: pooch>=1.0 in /usr/local/lib/python3.7/dist-packages (from librosa) (1.6.0)\n",
            "Requirement already satisfied: numpy>=1.15.0 in /usr/local/lib/python3.7/dist-packages (from librosa) (1.21.5)\n",
            "Requirement already satisfied: scikit-learn!=0.19.0,>=0.14.0 in /usr/local/lib/python3.7/dist-packages (from librosa) (1.0.2)\n",
            "Requirement already satisfied: resampy>=0.2.2 in /usr/local/lib/python3.7/dist-packages (from librosa) (0.2.2)\n",
            "Requirement already satisfied: audioread>=2.0.0 in /usr/local/lib/python3.7/dist-packages (from librosa) (2.1.9)\n",
            "Requirement already satisfied: soundfile>=0.10.2 in /usr/local/lib/python3.7/dist-packages (from librosa) (0.10.3.post1)\n",
            "Requirement already satisfied: numba>=0.43.0 in /usr/local/lib/python3.7/dist-packages (from librosa) (0.51.2)\n",
            "Requirement already satisfied: decorator>=3.0.0 in /usr/local/lib/python3.7/dist-packages (from librosa) (4.4.2)\n",
            "Requirement already satisfied: joblib>=0.14 in /usr/local/lib/python3.7/dist-packages (from librosa) (1.1.0)\n",
            "Requirement already satisfied: scipy>=1.0.0 in /usr/local/lib/python3.7/dist-packages (from librosa) (1.4.1)\n",
            "Requirement already satisfied: packaging>=20.0 in /usr/local/lib/python3.7/dist-packages (from librosa) (21.3)\n",
            "Requirement already satisfied: llvmlite<0.35,>=0.34.0.dev0 in /usr/local/lib/python3.7/dist-packages (from numba>=0.43.0->librosa) (0.34.0)\n",
            "Requirement already satisfied: setuptools in /usr/local/lib/python3.7/dist-packages (from numba>=0.43.0->librosa) (57.4.0)\n",
            "Requirement already satisfied: pyparsing!=3.0.5,>=2.0.2 in /usr/local/lib/python3.7/dist-packages (from packaging>=20.0->librosa) (3.0.7)\n",
            "Requirement already satisfied: requests>=2.19.0 in /usr/local/lib/python3.7/dist-packages (from pooch>=1.0->librosa) (2.23.0)\n",
            "Requirement already satisfied: appdirs>=1.3.0 in /usr/local/lib/python3.7/dist-packages (from pooch>=1.0->librosa) (1.4.4)\n",
            "Requirement already satisfied: urllib3!=1.25.0,!=1.25.1,<1.26,>=1.21.1 in /usr/local/lib/python3.7/dist-packages (from requests>=2.19.0->pooch>=1.0->librosa) (1.24.3)\n",
            "Requirement already satisfied: idna<3,>=2.5 in /usr/local/lib/python3.7/dist-packages (from requests>=2.19.0->pooch>=1.0->librosa) (2.10)\n",
            "Requirement already satisfied: certifi>=2017.4.17 in /usr/local/lib/python3.7/dist-packages (from requests>=2.19.0->pooch>=1.0->librosa) (2021.10.8)\n",
            "Requirement already satisfied: chardet<4,>=3.0.2 in /usr/local/lib/python3.7/dist-packages (from requests>=2.19.0->pooch>=1.0->librosa) (3.0.4)\n",
            "Requirement already satisfied: six>=1.3 in /usr/local/lib/python3.7/dist-packages (from resampy>=0.2.2->librosa) (1.15.0)\n",
            "Requirement already satisfied: threadpoolctl>=2.0.0 in /usr/local/lib/python3.7/dist-packages (from scikit-learn!=0.19.0,>=0.14.0->librosa) (3.1.0)\n",
            "Requirement already satisfied: cffi>=1.0 in /usr/local/lib/python3.7/dist-packages (from soundfile>=0.10.2->librosa) (1.15.0)\n",
            "Requirement already satisfied: pycparser in /usr/local/lib/python3.7/dist-packages (from cffi>=1.0->soundfile>=0.10.2->librosa) (2.21)\n"
          ]
        }
      ]
    },
    {
      "cell_type": "code",
      "source": [
        ""
      ],
      "metadata": {
        "id": "wsaoikiQGfqd"
      },
      "execution_count": null,
      "outputs": []
    },
    {
      "cell_type": "code",
      "metadata": {
        "id": "HJjcbxwy46bG",
        "colab": {
          "base_uri": "https://localhost:8080/",
          "height": 17
        },
        "outputId": "d95c7085-4505-45b7-cf16-912e2590c340"
      },
      "source": [
        "# Orignial Notebook: https://github.com/MITESHPUTHRANNEU/Speech-Emotion-Analyzer/blob/master/final_results_gender_test.ipynb\n",
        "# This notebook author: Reza Chu\n",
        "# Last Editing Date: 31st May 2019\n",
        "\n",
        "## Python\n",
        "import os\n",
        "import random\n",
        "import sys\n",
        "\n",
        "import IPython\n",
        "from IPython.display import Audio\n",
        "from IPython.display import Image\n",
        "import matplotlib.pyplot as plt\n",
        "\n",
        "## Package\n",
        "import glob \n",
        "import keras\n",
        "import IPython.display as ipd\n",
        "import librosa\n",
        "import librosa.display\n",
        "import matplotlib.pyplot as plt\n",
        "import numpy as np\n",
        "import pandas as pd\n",
        "import plotly.graph_objs as go\n",
        "import plotly.offline as py\n",
        "import plotly.tools as tls\n",
        "import seaborn as sns\n",
        "import scipy.io.wavfile\n",
        "import tensorflow as tf\n",
        "py.init_notebook_mode(connected=True)\n",
        "\n",
        "## Keras\n",
        "from keras import regularizers\n",
        "from keras.callbacks import ModelCheckpoint, LearningRateScheduler, EarlyStopping\n",
        "from keras.callbacks import  History, ReduceLROnPlateau, CSVLogger\n",
        "from keras.models import Model, Sequential\n",
        "from keras.layers import Dense, Embedding, LSTM\n",
        "from keras.layers import Input, Flatten, Dropout, Activation, BatchNormalization\n",
        "from keras.layers import Conv1D, MaxPooling1D, AveragePooling1D\n",
        "from keras.preprocessing import sequence\n",
        "from keras.preprocessing.sequence import pad_sequences\n",
        "from keras.preprocessing.text import Tokenizer\n",
        "from keras.utils import np_utils\n",
        "from tensorflow.keras.utils import to_categorical\n",
        "\n",
        "## Sklearn\n",
        "from sklearn.metrics import confusion_matrix\n",
        "from sklearn.preprocessing import LabelEncoder\n",
        "\n",
        "## Rest\n",
        "from scipy.fftpack import fft\n",
        "from scipy import signal\n",
        "from scipy.io import wavfile\n",
        "from tqdm import tqdm\n",
        "\n",
        "input_duration=3\n",
        "# % pylab inline"
      ],
      "execution_count": 3,
      "outputs": [
        {
          "output_type": "display_data",
          "data": {
            "text/html": [
              "        <script type=\"text/javascript\">\n",
              "        window.PlotlyConfig = {MathJaxConfig: 'local'};\n",
              "        if (window.MathJax) {MathJax.Hub.Config({SVG: {font: \"STIX-Web\"}});}\n",
              "        if (typeof require !== 'undefined') {\n",
              "        require.undef(\"plotly\");\n",
              "        requirejs.config({\n",
              "            paths: {\n",
              "                'plotly': ['https://cdn.plot.ly/plotly-2.8.3.min']\n",
              "            }\n",
              "        });\n",
              "        require(['plotly'], function(Plotly) {\n",
              "            window._Plotly = Plotly;\n",
              "        });\n",
              "        }\n",
              "        </script>\n",
              "        "
            ]
          },
          "metadata": {}
        }
      ]
    },
    {
      "cell_type": "code",
      "source": [
        "#radvass speech and song\n",
        "import time\n",
        "import os\n",
        "import librosa\n",
        "from librosa import display\n",
        "import matplotlib.pyplot as plt\n",
        "\n",
        "count=0\n",
        "path1 = '/content/drive/My Drive/data_set/RAVDESS_speech'\n",
        "path2 = '/content/drive/My Drive/data_set/RAVDESS_song'\n",
        "\n",
        "lst = []\n",
        "\n",
        "start_time = time.time()\n",
        "\n",
        "for subdir, dirs, files in os.walk(path2):\n",
        "  print(dirs)\n",
        "  print(subdir)\n",
        "  #print(files)\n",
        "  for file in files:\n",
        "      try:\n",
        "        count +=1\n",
        "        #Load librosa array, obtain mfcss, store the file and the mcss information in a new array\n",
        "        X, sample_rate = librosa.load(os.path.join(subdir,file), res_type='kaiser_fast')\n",
        "        mfccs = np.mean(librosa.feature.mfcc(y=X, sr=sample_rate, n_mfcc=40).T,axis=0) \n",
        "        # The instruction below converts the labels (from 1 to 8) to a series from 0 to 7\n",
        "        # This is because our predictor needs to start from 0 otherwise it will try to predict also 0.\n",
        "        file = int(file[7:8]) - 1 \n",
        "        arr = mfccs, file\n",
        "        lst.append(arr)\n",
        "      # If the file is not valid, skip it\n",
        "      except ValueError:\n",
        "        continue\n",
        "\n",
        "for subdir, dirs, files in os.walk(path1):\n",
        "  print(dirs)\n",
        "  print(subdir)\n",
        " # print(files)\n",
        "  for file in files:\n",
        "      try:\n",
        "        #Load librosa array, obtain mfcss, store the file and the mcss information in a new array\n",
        "        X, sample_rate = librosa.load(os.path.join(subdir,file), res_type='kaiser_fast')\n",
        "        mfccs = np.mean(librosa.feature.mfcc(y=X, sr=sample_rate, n_mfcc=40).T,axis=0) \n",
        "        # The instruction below converts the labels (from 1 to 8) to a series from 0 to 7\n",
        "        # This is because our predictor needs to start from 0 otherwise it will try to predict also 0.\n",
        "        file = int(file[7:8]) - 1 \n",
        "        if(file ==6 or file==7):\n",
        "          continue\n",
        "        count +=1\n",
        "        arr = mfccs, file\n",
        "        lst.append(arr)\n",
        "      # If the file is not valid, skip it\n",
        "      except ValueError:\n",
        "        continue\n",
        "\n",
        "\n",
        "\n",
        "print(\"--- Data loaded. Loading time: %s seconds ---\" % (time.time() - start_time))"
      ],
      "metadata": {
        "colab": {
          "base_uri": "https://localhost:8080/"
        },
        "id": "IfuyRZl42ccZ",
        "outputId": "52c8fe51-3b42-462c-ae0b-ff8c00639086"
      },
      "execution_count": 4,
      "outputs": [
        {
          "output_type": "stream",
          "name": "stdout",
          "text": [
            "['Actor_10', 'Actor_11', 'Actor_13', 'Actor_12', 'Actor_14', 'Actor_15', 'Actor_16', 'Actor_17', 'Actor_18', 'Actor_19', 'Actor_21', 'Actor_22', 'Actor_23', 'Actor_09', 'Actor_24', 'Actor_04', 'Actor_08', 'Actor_03', 'Actor_02', 'Actor_06', 'Actor_05', 'Actor_01', 'Actor_07', 'Actor_20']\n",
            "/content/drive/My Drive/data_set/RAVDESS_song\n",
            "[]\n",
            "/content/drive/My Drive/data_set/RAVDESS_song/Actor_10\n",
            "[]\n",
            "/content/drive/My Drive/data_set/RAVDESS_song/Actor_11\n",
            "[]\n",
            "/content/drive/My Drive/data_set/RAVDESS_song/Actor_13\n",
            "[]\n",
            "/content/drive/My Drive/data_set/RAVDESS_song/Actor_12\n",
            "[]\n",
            "/content/drive/My Drive/data_set/RAVDESS_song/Actor_14\n",
            "[]\n",
            "/content/drive/My Drive/data_set/RAVDESS_song/Actor_15\n",
            "[]\n",
            "/content/drive/My Drive/data_set/RAVDESS_song/Actor_16\n",
            "[]\n",
            "/content/drive/My Drive/data_set/RAVDESS_song/Actor_17\n",
            "[]\n",
            "/content/drive/My Drive/data_set/RAVDESS_song/Actor_18\n",
            "[]\n",
            "/content/drive/My Drive/data_set/RAVDESS_song/Actor_19\n",
            "[]\n",
            "/content/drive/My Drive/data_set/RAVDESS_song/Actor_21\n",
            "[]\n",
            "/content/drive/My Drive/data_set/RAVDESS_song/Actor_22\n",
            "[]\n",
            "/content/drive/My Drive/data_set/RAVDESS_song/Actor_23\n",
            "[]\n",
            "/content/drive/My Drive/data_set/RAVDESS_song/Actor_09\n",
            "[]\n",
            "/content/drive/My Drive/data_set/RAVDESS_song/Actor_24\n",
            "[]\n",
            "/content/drive/My Drive/data_set/RAVDESS_song/Actor_04\n",
            "[]\n",
            "/content/drive/My Drive/data_set/RAVDESS_song/Actor_08\n",
            "[]\n",
            "/content/drive/My Drive/data_set/RAVDESS_song/Actor_03\n",
            "[]\n",
            "/content/drive/My Drive/data_set/RAVDESS_song/Actor_02\n",
            "[]\n",
            "/content/drive/My Drive/data_set/RAVDESS_song/Actor_06\n",
            "[]\n",
            "/content/drive/My Drive/data_set/RAVDESS_song/Actor_05\n",
            "[]\n",
            "/content/drive/My Drive/data_set/RAVDESS_song/Actor_01\n",
            "[]\n",
            "/content/drive/My Drive/data_set/RAVDESS_song/Actor_07\n",
            "[]\n",
            "/content/drive/My Drive/data_set/RAVDESS_song/Actor_20\n",
            "['Actor_05', 'Actor_08', 'Actor_10', 'Actor_04', 'Actor_09', 'Actor_14', 'Actor_12', 'Actor_13', 'Actor_11', 'Actor_06', 'Actor_24', 'Actor_07', 'Actor_23', 'Actor_22', 'Actor_21', 'Actor_20', 'Actor_02', 'Actor_19', 'Actor_18', 'Actor_17', 'Actor_16', 'Actor_15', 'Actor_03', 'Actor_01']\n",
            "/content/drive/My Drive/data_set/RAVDESS_speech\n",
            "[]\n",
            "/content/drive/My Drive/data_set/RAVDESS_speech/Actor_05\n",
            "[]\n",
            "/content/drive/My Drive/data_set/RAVDESS_speech/Actor_08\n",
            "[]\n",
            "/content/drive/My Drive/data_set/RAVDESS_speech/Actor_10\n",
            "[]\n",
            "/content/drive/My Drive/data_set/RAVDESS_speech/Actor_04\n",
            "[]\n",
            "/content/drive/My Drive/data_set/RAVDESS_speech/Actor_09\n",
            "[]\n",
            "/content/drive/My Drive/data_set/RAVDESS_speech/Actor_14\n",
            "[]\n",
            "/content/drive/My Drive/data_set/RAVDESS_speech/Actor_12\n",
            "[]\n",
            "/content/drive/My Drive/data_set/RAVDESS_speech/Actor_13\n",
            "[]\n",
            "/content/drive/My Drive/data_set/RAVDESS_speech/Actor_11\n",
            "[]\n",
            "/content/drive/My Drive/data_set/RAVDESS_speech/Actor_06\n",
            "[]\n",
            "/content/drive/My Drive/data_set/RAVDESS_speech/Actor_24\n",
            "[]\n",
            "/content/drive/My Drive/data_set/RAVDESS_speech/Actor_07\n",
            "[]\n",
            "/content/drive/My Drive/data_set/RAVDESS_speech/Actor_23\n",
            "[]\n",
            "/content/drive/My Drive/data_set/RAVDESS_speech/Actor_22\n",
            "[]\n",
            "/content/drive/My Drive/data_set/RAVDESS_speech/Actor_21\n",
            "[]\n",
            "/content/drive/My Drive/data_set/RAVDESS_speech/Actor_20\n",
            "[]\n",
            "/content/drive/My Drive/data_set/RAVDESS_speech/Actor_02\n",
            "[]\n",
            "/content/drive/My Drive/data_set/RAVDESS_speech/Actor_19\n",
            "[]\n",
            "/content/drive/My Drive/data_set/RAVDESS_speech/Actor_18\n",
            "[]\n",
            "/content/drive/My Drive/data_set/RAVDESS_speech/Actor_17\n",
            "[]\n",
            "/content/drive/My Drive/data_set/RAVDESS_speech/Actor_16\n",
            "[]\n",
            "/content/drive/My Drive/data_set/RAVDESS_speech/Actor_15\n",
            "[]\n",
            "/content/drive/My Drive/data_set/RAVDESS_speech/Actor_03\n",
            "[]\n",
            "/content/drive/My Drive/data_set/RAVDESS_speech/Actor_01\n",
            "--- Data loaded. Loading time: 689.3357880115509 seconds ---\n"
          ]
        }
      ]
    },
    {
      "cell_type": "code",
      "source": [
        "count"
      ],
      "metadata": {
        "id": "Ltlhi25L2AI5",
        "colab": {
          "base_uri": "https://localhost:8080/"
        },
        "outputId": "21556a7f-c201-4f90-b3ea-6f15169d12b3"
      },
      "execution_count": 5,
      "outputs": [
        {
          "output_type": "execute_result",
          "data": {
            "text/plain": [
              "2068"
            ]
          },
          "metadata": {},
          "execution_count": 5
        }
      ]
    },
    {
      "cell_type": "code",
      "source": [
        "from numpy.core.fromnumeric import size\n",
        "size(lst)"
      ],
      "metadata": {
        "id": "HMOH7d7mzHB7",
        "colab": {
          "base_uri": "https://localhost:8080/"
        },
        "outputId": "2f3e7bed-62a6-4f2a-a7ec-87fcb82a6aa5"
      },
      "execution_count": 6,
      "outputs": [
        {
          "output_type": "stream",
          "name": "stderr",
          "text": [
            "/usr/local/lib/python3.7/dist-packages/numpy/core/fromnumeric.py:3208: VisibleDeprecationWarning:\n",
            "\n",
            "Creating an ndarray from ragged nested sequences (which is a list-or-tuple of lists-or-tuples-or ndarrays with different lengths or shapes) is deprecated. If you meant to do this, you must specify 'dtype=object' when creating the ndarray.\n",
            "\n"
          ]
        },
        {
          "output_type": "execute_result",
          "data": {
            "text/plain": [
              "4136"
            ]
          },
          "metadata": {},
          "execution_count": 6
        }
      ]
    },
    {
      "cell_type": "code",
      "source": [
        "# Creating X and y: zip makes a list of all the first elements, and a list of all the second elements.\n",
        "X, y = zip(*lst)"
      ],
      "metadata": {
        "id": "ocdL7tSTBoMt"
      },
      "execution_count": 7,
      "outputs": []
    },
    {
      "cell_type": "code",
      "source": [
        "import numpy as np\n",
        "X = np.asarray(X)\n",
        "y = np.asarray(y)\n",
        "X.shape, y.shape"
      ],
      "metadata": {
        "id": "vHKwUGTbBtnF",
        "colab": {
          "base_uri": "https://localhost:8080/"
        },
        "outputId": "2ecac8ff-fb0e-4531-ea3d-05ec6d0a285c"
      },
      "execution_count": 8,
      "outputs": [
        {
          "output_type": "execute_result",
          "data": {
            "text/plain": [
              "((2068, 40), (2068,))"
            ]
          },
          "metadata": {},
          "execution_count": 8
        }
      ]
    },
    {
      "cell_type": "code",
      "source": [
        "X.shape"
      ],
      "metadata": {
        "id": "2sUCtbfMztE5",
        "colab": {
          "base_uri": "https://localhost:8080/"
        },
        "outputId": "fbdba9b8-da82-4e63-90b8-9f2cf8283cc6"
      },
      "execution_count": 9,
      "outputs": [
        {
          "output_type": "execute_result",
          "data": {
            "text/plain": [
              "(2068, 40)"
            ]
          },
          "metadata": {},
          "execution_count": 9
        }
      ]
    },
    {
      "cell_type": "code",
      "source": [
        "# Saving joblib files to not load them again with the loop above\n",
        "\n",
        "import joblib\n",
        "\n",
        "X_name = 'saveex5.joblib'\n",
        "y_name = 'saveey5.joblib'\n",
        "save_dir = '/content/drive/My Drive/graduation project/audio/improvement1/features'\n",
        "\n",
        "savedX = joblib.dump(X, os.path.join(save_dir, X_name))\n",
        "savedy = joblib.dump(y, os.path.join(save_dir, y_name))"
      ],
      "metadata": {
        "id": "UCzic8rlDcuk"
      },
      "execution_count": 10,
      "outputs": []
    },
    {
      "cell_type": "code",
      "source": [
        "# Loading saved models\n",
        "import joblib\n",
        "X = joblib.load('/content/drive/My Drive/models/CNN_2/last/features/speech&songx6.joblib')\n",
        "y = joblib.load('/content/drive/My Drive/models/CNN_2/last/features/speech&songy6.joblib')"
      ],
      "metadata": {
        "id": "Q35CN6zDrzg1"
      },
      "execution_count": 11,
      "outputs": []
    },
    {
      "cell_type": "code",
      "source": [
        "from sklearn.model_selection import train_test_split\n",
        "\n",
        "X_train, X_test, y_train, y_test = train_test_split(X,y, test_size=0.2,train_size=0.8, random_state=42)\n",
        "X_valid, X_test, y_valid, y_test = train_test_split(X_test,y_test, test_size=0.5,train_size=0.5, random_state=42)"
      ],
      "metadata": {
        "id": "Ai4Fy5cPCiq1"
      },
      "execution_count": 12,
      "outputs": []
    },
    {
      "cell_type": "code",
      "source": [
        "X.shape"
      ],
      "metadata": {
        "colab": {
          "base_uri": "https://localhost:8080/"
        },
        "id": "7PSTurzjCo5K",
        "outputId": "44f4ba7f-bc88-40f8-9e1d-ed27bb97bdea"
      },
      "execution_count": 13,
      "outputs": [
        {
          "output_type": "execute_result",
          "data": {
            "text/plain": [
              "(2068, 40)"
            ]
          },
          "metadata": {},
          "execution_count": 13
        }
      ]
    },
    {
      "cell_type": "code",
      "source": [
        "import numpy as np\n",
        "x_traincnn = np.expand_dims(X_train, axis=2)\n",
        "x_testcnn = np.expand_dims(X_test, axis=2)\n",
        "X_valid= np.expand_dims(X_valid, axis=2)"
      ],
      "metadata": {
        "id": "tp1Fm5K3CEXu"
      },
      "execution_count": 14,
      "outputs": []
    },
    {
      "cell_type": "code",
      "source": [
        "x_traincnn.shape, x_testcnn.shape , X_valid.shape"
      ],
      "metadata": {
        "id": "RI0MxoIPBws5",
        "colab": {
          "base_uri": "https://localhost:8080/"
        },
        "outputId": "d2b7f232-1238-4f9d-f88a-a73d7ee7a63b"
      },
      "execution_count": 15,
      "outputs": [
        {
          "output_type": "execute_result",
          "data": {
            "text/plain": [
              "((1654, 40, 1), (207, 40, 1), (207, 40, 1))"
            ]
          },
          "metadata": {},
          "execution_count": 15
        }
      ]
    },
    {
      "cell_type": "code",
      "source": [
        "!pip install tensorflow"
      ],
      "metadata": {
        "id": "goxL4Y3jKICC",
        "colab": {
          "base_uri": "https://localhost:8080/"
        },
        "outputId": "abf15d1f-6a69-40a6-b6c2-46adbae4ca3c"
      },
      "execution_count": 16,
      "outputs": [
        {
          "output_type": "stream",
          "name": "stdout",
          "text": [
            "Requirement already satisfied: tensorflow in /usr/local/lib/python3.7/dist-packages (2.8.0)\n",
            "Requirement already satisfied: keras<2.9,>=2.8.0rc0 in /usr/local/lib/python3.7/dist-packages (from tensorflow) (2.8.0)\n",
            "Requirement already satisfied: setuptools in /usr/local/lib/python3.7/dist-packages (from tensorflow) (57.4.0)\n",
            "Requirement already satisfied: wrapt>=1.11.0 in /usr/local/lib/python3.7/dist-packages (from tensorflow) (1.13.3)\n",
            "Requirement already satisfied: opt-einsum>=2.3.2 in /usr/local/lib/python3.7/dist-packages (from tensorflow) (3.3.0)\n",
            "Requirement already satisfied: typing-extensions>=3.6.6 in /usr/local/lib/python3.7/dist-packages (from tensorflow) (3.10.0.2)\n",
            "Requirement already satisfied: six>=1.12.0 in /usr/local/lib/python3.7/dist-packages (from tensorflow) (1.15.0)\n",
            "Requirement already satisfied: astunparse>=1.6.0 in /usr/local/lib/python3.7/dist-packages (from tensorflow) (1.6.3)\n",
            "Requirement already satisfied: numpy>=1.20 in /usr/local/lib/python3.7/dist-packages (from tensorflow) (1.21.5)\n",
            "Requirement already satisfied: google-pasta>=0.1.1 in /usr/local/lib/python3.7/dist-packages (from tensorflow) (0.2.0)\n",
            "Requirement already satisfied: keras-preprocessing>=1.1.1 in /usr/local/lib/python3.7/dist-packages (from tensorflow) (1.1.2)\n",
            "Requirement already satisfied: libclang>=9.0.1 in /usr/local/lib/python3.7/dist-packages (from tensorflow) (13.0.0)\n",
            "Requirement already satisfied: tensorflow-io-gcs-filesystem>=0.23.1 in /usr/local/lib/python3.7/dist-packages (from tensorflow) (0.24.0)\n",
            "Requirement already satisfied: grpcio<2.0,>=1.24.3 in /usr/local/lib/python3.7/dist-packages (from tensorflow) (1.44.0)\n",
            "Requirement already satisfied: h5py>=2.9.0 in /usr/local/lib/python3.7/dist-packages (from tensorflow) (3.1.0)\n",
            "Requirement already satisfied: gast>=0.2.1 in /usr/local/lib/python3.7/dist-packages (from tensorflow) (0.5.3)\n",
            "Requirement already satisfied: absl-py>=0.4.0 in /usr/local/lib/python3.7/dist-packages (from tensorflow) (1.0.0)\n",
            "Requirement already satisfied: flatbuffers>=1.12 in /usr/local/lib/python3.7/dist-packages (from tensorflow) (2.0)\n",
            "Requirement already satisfied: termcolor>=1.1.0 in /usr/local/lib/python3.7/dist-packages (from tensorflow) (1.1.0)\n",
            "Requirement already satisfied: tensorboard<2.9,>=2.8 in /usr/local/lib/python3.7/dist-packages (from tensorflow) (2.8.0)\n",
            "Requirement already satisfied: protobuf>=3.9.2 in /usr/local/lib/python3.7/dist-packages (from tensorflow) (3.17.3)\n",
            "Collecting tf-estimator-nightly==2.8.0.dev2021122109\n",
            "  Downloading tf_estimator_nightly-2.8.0.dev2021122109-py2.py3-none-any.whl (462 kB)\n",
            "\u001b[K     |████████████████████████████████| 462 kB 4.0 MB/s \n",
            "\u001b[?25hRequirement already satisfied: wheel<1.0,>=0.23.0 in /usr/local/lib/python3.7/dist-packages (from astunparse>=1.6.0->tensorflow) (0.37.1)\n",
            "Requirement already satisfied: cached-property in /usr/local/lib/python3.7/dist-packages (from h5py>=2.9.0->tensorflow) (1.5.2)\n",
            "Requirement already satisfied: tensorboard-data-server<0.7.0,>=0.6.0 in /usr/local/lib/python3.7/dist-packages (from tensorboard<2.9,>=2.8->tensorflow) (0.6.1)\n",
            "Requirement already satisfied: google-auth<3,>=1.6.3 in /usr/local/lib/python3.7/dist-packages (from tensorboard<2.9,>=2.8->tensorflow) (1.35.0)\n",
            "Requirement already satisfied: markdown>=2.6.8 in /usr/local/lib/python3.7/dist-packages (from tensorboard<2.9,>=2.8->tensorflow) (3.3.6)\n",
            "Requirement already satisfied: werkzeug>=0.11.15 in /usr/local/lib/python3.7/dist-packages (from tensorboard<2.9,>=2.8->tensorflow) (1.0.1)\n",
            "Requirement already satisfied: requests<3,>=2.21.0 in /usr/local/lib/python3.7/dist-packages (from tensorboard<2.9,>=2.8->tensorflow) (2.23.0)\n",
            "Requirement already satisfied: tensorboard-plugin-wit>=1.6.0 in /usr/local/lib/python3.7/dist-packages (from tensorboard<2.9,>=2.8->tensorflow) (1.8.1)\n",
            "Requirement already satisfied: google-auth-oauthlib<0.5,>=0.4.1 in /usr/local/lib/python3.7/dist-packages (from tensorboard<2.9,>=2.8->tensorflow) (0.4.6)\n",
            "Requirement already satisfied: cachetools<5.0,>=2.0.0 in /usr/local/lib/python3.7/dist-packages (from google-auth<3,>=1.6.3->tensorboard<2.9,>=2.8->tensorflow) (4.2.4)\n",
            "Requirement already satisfied: rsa<5,>=3.1.4 in /usr/local/lib/python3.7/dist-packages (from google-auth<3,>=1.6.3->tensorboard<2.9,>=2.8->tensorflow) (4.8)\n",
            "Requirement already satisfied: pyasn1-modules>=0.2.1 in /usr/local/lib/python3.7/dist-packages (from google-auth<3,>=1.6.3->tensorboard<2.9,>=2.8->tensorflow) (0.2.8)\n",
            "Requirement already satisfied: requests-oauthlib>=0.7.0 in /usr/local/lib/python3.7/dist-packages (from google-auth-oauthlib<0.5,>=0.4.1->tensorboard<2.9,>=2.8->tensorflow) (1.3.1)\n",
            "Requirement already satisfied: importlib-metadata>=4.4 in /usr/local/lib/python3.7/dist-packages (from markdown>=2.6.8->tensorboard<2.9,>=2.8->tensorflow) (4.11.2)\n",
            "Requirement already satisfied: zipp>=0.5 in /usr/local/lib/python3.7/dist-packages (from importlib-metadata>=4.4->markdown>=2.6.8->tensorboard<2.9,>=2.8->tensorflow) (3.7.0)\n",
            "Requirement already satisfied: pyasn1<0.5.0,>=0.4.6 in /usr/local/lib/python3.7/dist-packages (from pyasn1-modules>=0.2.1->google-auth<3,>=1.6.3->tensorboard<2.9,>=2.8->tensorflow) (0.4.8)\n",
            "Requirement already satisfied: urllib3!=1.25.0,!=1.25.1,<1.26,>=1.21.1 in /usr/local/lib/python3.7/dist-packages (from requests<3,>=2.21.0->tensorboard<2.9,>=2.8->tensorflow) (1.24.3)\n",
            "Requirement already satisfied: idna<3,>=2.5 in /usr/local/lib/python3.7/dist-packages (from requests<3,>=2.21.0->tensorboard<2.9,>=2.8->tensorflow) (2.10)\n",
            "Requirement already satisfied: chardet<4,>=3.0.2 in /usr/local/lib/python3.7/dist-packages (from requests<3,>=2.21.0->tensorboard<2.9,>=2.8->tensorflow) (3.0.4)\n",
            "Requirement already satisfied: certifi>=2017.4.17 in /usr/local/lib/python3.7/dist-packages (from requests<3,>=2.21.0->tensorboard<2.9,>=2.8->tensorflow) (2021.10.8)\n",
            "Requirement already satisfied: oauthlib>=3.0.0 in /usr/local/lib/python3.7/dist-packages (from requests-oauthlib>=0.7.0->google-auth-oauthlib<0.5,>=0.4.1->tensorboard<2.9,>=2.8->tensorflow) (3.2.0)\n",
            "Installing collected packages: tf-estimator-nightly\n",
            "Successfully installed tf-estimator-nightly-2.8.0.dev2021122109\n"
          ]
        }
      ]
    },
    {
      "cell_type": "code",
      "source": [
        "!pip install keras"
      ],
      "metadata": {
        "id": "EkcmN9UrKSxj",
        "colab": {
          "base_uri": "https://localhost:8080/"
        },
        "outputId": "46afd6f0-310f-485a-d4ca-63c902d61e0f"
      },
      "execution_count": 17,
      "outputs": [
        {
          "output_type": "stream",
          "name": "stdout",
          "text": [
            "Requirement already satisfied: keras in /usr/local/lib/python3.7/dist-packages (2.8.0)\n"
          ]
        }
      ]
    },
    {
      "cell_type": "code",
      "source": [
        "import keras\n",
        "import numpy as np\n",
        "import matplotlib.pyplot as plt\n",
        "import tensorflow as tf\n",
        "from keras.preprocessing import sequence\n",
        "from keras.models import Sequential\n",
        "from keras.layers import Dense, Embedding\n",
        "from tensorflow.keras.utils import to_categorical\n",
        "from keras.layers import Input, Flatten, Dropout, Activation\n",
        "from keras.layers import Conv1D, MaxPooling1D\n",
        "from keras.models import Model\n",
        "from keras.callbacks import ModelCheckpoint\n",
        "from tensorflow.keras import optimizers\n",
        "\n",
        "model = Sequential()\n",
        "\n",
        "model.add(Conv1D(128, 8,padding='same', #classifier.add(Convolution2D(64, (3, 3), padding = 'same', input_shape = (128, 128, 3), activation = 'relu'))\n",
        "                 input_shape=(40,1)))\n",
        "model.add(Activation('relu'))\n",
        "model.add(Dropout(0.3))\n",
        "model.add(MaxPooling1D(pool_size=(5)))\n",
        "\n",
        "\n",
        "model.add(Conv1D(256,8,padding='same',))\n",
        "model.add(Activation('relu'))\n",
        "model.add(Dropout(0.3))\n",
        "model.add(MaxPooling1D(pool_size=(5)))\n",
        "\n",
        "model.add(Flatten())\n",
        "\n",
        "model.add(Dense(256))\n",
        "model.add(Activation('relu'))\n",
        "model.add(Dense(256))\n",
        "model.add(Activation('relu'))\n",
        "\n",
        "model.add(Dense(6))\n",
        "model.add(Activation('softmax'))\n",
        "\n",
        "#opt = tf.keras.optimizers.Adam(lr=0.00002)\n",
        "opt = tf.keras.optimizers.RMSprop(lr=0.0001, rho=0.9, epsilon=1e-07, decay=0.0)\n",
        "#opt = tf.keras.optimizers.SGD(lr=0.001, momentum=0.0, decay=0.0, nesterov=False)"
      ],
      "metadata": {
        "id": "g74fXWVAC4Cr",
        "colab": {
          "base_uri": "https://localhost:8080/"
        },
        "outputId": "0251fea9-36c4-4e22-adbd-08e4c28e76a5"
      },
      "execution_count": 18,
      "outputs": [
        {
          "output_type": "stream",
          "name": "stderr",
          "text": [
            "/usr/local/lib/python3.7/dist-packages/keras/optimizer_v2/rmsprop.py:130: UserWarning:\n",
            "\n",
            "The `lr` argument is deprecated, use `learning_rate` instead.\n",
            "\n"
          ]
        }
      ]
    },
    {
      "cell_type": "code",
      "source": [
        "model.summary()"
      ],
      "metadata": {
        "colab": {
          "base_uri": "https://localhost:8080/"
        },
        "id": "H6ukOxAGC_I4",
        "outputId": "756bf50a-67e7-4378-ac9b-e67327091b26"
      },
      "execution_count": 19,
      "outputs": [
        {
          "output_type": "stream",
          "name": "stdout",
          "text": [
            "Model: \"sequential\"\n",
            "_________________________________________________________________\n",
            " Layer (type)                Output Shape              Param #   \n",
            "=================================================================\n",
            " conv1d (Conv1D)             (None, 40, 128)           1152      \n",
            "                                                                 \n",
            " activation (Activation)     (None, 40, 128)           0         \n",
            "                                                                 \n",
            " dropout (Dropout)           (None, 40, 128)           0         \n",
            "                                                                 \n",
            " max_pooling1d (MaxPooling1D  (None, 8, 128)           0         \n",
            " )                                                               \n",
            "                                                                 \n",
            " conv1d_1 (Conv1D)           (None, 8, 256)            262400    \n",
            "                                                                 \n",
            " activation_1 (Activation)   (None, 8, 256)            0         \n",
            "                                                                 \n",
            " dropout_1 (Dropout)         (None, 8, 256)            0         \n",
            "                                                                 \n",
            " max_pooling1d_1 (MaxPooling  (None, 1, 256)           0         \n",
            " 1D)                                                             \n",
            "                                                                 \n",
            " flatten (Flatten)           (None, 256)               0         \n",
            "                                                                 \n",
            " dense (Dense)               (None, 256)               65792     \n",
            "                                                                 \n",
            " activation_2 (Activation)   (None, 256)               0         \n",
            "                                                                 \n",
            " dense_1 (Dense)             (None, 256)               65792     \n",
            "                                                                 \n",
            " activation_3 (Activation)   (None, 256)               0         \n",
            "                                                                 \n",
            " dense_2 (Dense)             (None, 6)                 1542      \n",
            "                                                                 \n",
            " activation_4 (Activation)   (None, 6)                 0         \n",
            "                                                                 \n",
            "=================================================================\n",
            "Total params: 396,678\n",
            "Trainable params: 396,678\n",
            "Non-trainable params: 0\n",
            "_________________________________________________________________\n"
          ]
        }
      ]
    },
    {
      "cell_type": "code",
      "source": [
        "model.compile(loss='sparse_categorical_crossentropy',\n",
        "              optimizer=opt,\n",
        "              metrics=['accuracy'])"
      ],
      "metadata": {
        "id": "AbMlLNk4DCBM"
      },
      "execution_count": 20,
      "outputs": []
    },
    {
      "cell_type": "code",
      "source": [
        "#cnnhistory=model.fit(x_traincnn, y_train, batch_size=16, epochs=700, validation_data=(x_testcnn, y_test))\n",
        "cnnhistory=model.fit(x_traincnn, y_train, batch_size=16, epochs=500 , validation_data=(X_valid, y_valid))"
      ],
      "metadata": {
        "colab": {
          "base_uri": "https://localhost:8080/"
        },
        "id": "RI1v2AuADFhy",
        "outputId": "04e1ac5d-e4c2-4d96-f41a-66579b24709f"
      },
      "execution_count": 21,
      "outputs": [
        {
          "output_type": "stream",
          "name": "stdout",
          "text": [
            "Epoch 1/500\n",
            "104/104 [==============================] - 3s 23ms/step - loss: 4.8421 - accuracy: 0.1753 - val_loss: 3.0273 - val_accuracy: 0.1643\n",
            "Epoch 2/500\n",
            "104/104 [==============================] - 2s 21ms/step - loss: 2.9902 - accuracy: 0.2031 - val_loss: 2.0631 - val_accuracy: 0.1981\n",
            "Epoch 3/500\n",
            "104/104 [==============================] - 2s 21ms/step - loss: 2.5229 - accuracy: 0.2044 - val_loss: 1.8020 - val_accuracy: 0.2367\n",
            "Epoch 4/500\n",
            "104/104 [==============================] - 2s 21ms/step - loss: 2.2289 - accuracy: 0.2249 - val_loss: 1.7155 - val_accuracy: 0.2899\n",
            "Epoch 5/500\n",
            "104/104 [==============================] - 2s 21ms/step - loss: 2.0977 - accuracy: 0.2249 - val_loss: 1.8176 - val_accuracy: 0.2126\n",
            "Epoch 6/500\n",
            "104/104 [==============================] - 2s 21ms/step - loss: 1.9945 - accuracy: 0.2231 - val_loss: 1.7127 - val_accuracy: 0.3430\n",
            "Epoch 7/500\n",
            "104/104 [==============================] - 2s 21ms/step - loss: 1.8978 - accuracy: 0.2364 - val_loss: 1.6690 - val_accuracy: 0.2705\n",
            "Epoch 8/500\n",
            "104/104 [==============================] - 2s 21ms/step - loss: 1.8989 - accuracy: 0.2304 - val_loss: 1.6782 - val_accuracy: 0.2995\n",
            "Epoch 9/500\n",
            "104/104 [==============================] - 2s 21ms/step - loss: 1.8604 - accuracy: 0.2400 - val_loss: 1.6461 - val_accuracy: 0.2947\n",
            "Epoch 10/500\n",
            "104/104 [==============================] - 3s 30ms/step - loss: 1.8055 - accuracy: 0.2618 - val_loss: 1.6274 - val_accuracy: 0.3333\n",
            "Epoch 11/500\n",
            "104/104 [==============================] - 2s 21ms/step - loss: 1.7856 - accuracy: 0.2733 - val_loss: 1.6949 - val_accuracy: 0.2850\n",
            "Epoch 12/500\n",
            "104/104 [==============================] - 2s 21ms/step - loss: 1.7365 - accuracy: 0.2733 - val_loss: 1.6131 - val_accuracy: 0.3478\n",
            "Epoch 13/500\n",
            "104/104 [==============================] - 2s 21ms/step - loss: 1.7344 - accuracy: 0.2799 - val_loss: 1.7374 - val_accuracy: 0.2657\n",
            "Epoch 14/500\n",
            "104/104 [==============================] - 3s 26ms/step - loss: 1.7143 - accuracy: 0.2823 - val_loss: 1.7788 - val_accuracy: 0.2319\n",
            "Epoch 15/500\n",
            "104/104 [==============================] - 3s 31ms/step - loss: 1.6995 - accuracy: 0.2944 - val_loss: 1.5707 - val_accuracy: 0.4251\n",
            "Epoch 16/500\n",
            "104/104 [==============================] - 2s 21ms/step - loss: 1.6771 - accuracy: 0.2938 - val_loss: 1.5814 - val_accuracy: 0.3382\n",
            "Epoch 17/500\n",
            "104/104 [==============================] - 2s 20ms/step - loss: 1.6686 - accuracy: 0.2938 - val_loss: 1.5998 - val_accuracy: 0.3043\n",
            "Epoch 18/500\n",
            "104/104 [==============================] - 2s 20ms/step - loss: 1.6313 - accuracy: 0.3313 - val_loss: 1.6158 - val_accuracy: 0.2754\n",
            "Epoch 19/500\n",
            "104/104 [==============================] - 2s 20ms/step - loss: 1.5991 - accuracy: 0.3349 - val_loss: 1.5357 - val_accuracy: 0.3720\n",
            "Epoch 20/500\n",
            "104/104 [==============================] - 2s 21ms/step - loss: 1.5974 - accuracy: 0.3501 - val_loss: 1.5457 - val_accuracy: 0.3478\n",
            "Epoch 21/500\n",
            "104/104 [==============================] - 2s 21ms/step - loss: 1.5748 - accuracy: 0.3440 - val_loss: 1.5184 - val_accuracy: 0.3092\n",
            "Epoch 22/500\n",
            "104/104 [==============================] - 2s 20ms/step - loss: 1.5518 - accuracy: 0.3585 - val_loss: 1.5703 - val_accuracy: 0.3527\n",
            "Epoch 23/500\n",
            "104/104 [==============================] - 2s 20ms/step - loss: 1.5625 - accuracy: 0.3513 - val_loss: 1.4774 - val_accuracy: 0.4203\n",
            "Epoch 24/500\n",
            "104/104 [==============================] - 2s 21ms/step - loss: 1.5348 - accuracy: 0.3857 - val_loss: 1.5186 - val_accuracy: 0.3671\n",
            "Epoch 25/500\n",
            "104/104 [==============================] - 2s 20ms/step - loss: 1.5097 - accuracy: 0.3924 - val_loss: 1.4262 - val_accuracy: 0.4396\n",
            "Epoch 26/500\n",
            "104/104 [==============================] - 2s 20ms/step - loss: 1.5003 - accuracy: 0.3736 - val_loss: 1.4245 - val_accuracy: 0.4589\n",
            "Epoch 27/500\n",
            "104/104 [==============================] - 2s 20ms/step - loss: 1.4906 - accuracy: 0.3881 - val_loss: 1.4104 - val_accuracy: 0.4493\n",
            "Epoch 28/500\n",
            "104/104 [==============================] - 2s 20ms/step - loss: 1.4709 - accuracy: 0.3972 - val_loss: 1.4378 - val_accuracy: 0.4203\n",
            "Epoch 29/500\n",
            "104/104 [==============================] - 2s 22ms/step - loss: 1.4612 - accuracy: 0.3972 - val_loss: 1.4751 - val_accuracy: 0.4541\n",
            "Epoch 30/500\n",
            "104/104 [==============================] - 2s 21ms/step - loss: 1.4110 - accuracy: 0.4202 - val_loss: 1.4360 - val_accuracy: 0.3913\n",
            "Epoch 31/500\n",
            "104/104 [==============================] - 2s 21ms/step - loss: 1.4059 - accuracy: 0.4232 - val_loss: 1.4089 - val_accuracy: 0.4589\n",
            "Epoch 32/500\n",
            "104/104 [==============================] - 2s 20ms/step - loss: 1.3833 - accuracy: 0.4347 - val_loss: 1.4817 - val_accuracy: 0.4155\n",
            "Epoch 33/500\n",
            "104/104 [==============================] - 2s 20ms/step - loss: 1.3962 - accuracy: 0.4141 - val_loss: 1.2991 - val_accuracy: 0.5266\n",
            "Epoch 34/500\n",
            "104/104 [==============================] - 2s 20ms/step - loss: 1.3712 - accuracy: 0.4389 - val_loss: 1.4470 - val_accuracy: 0.4444\n",
            "Epoch 35/500\n",
            "104/104 [==============================] - 2s 20ms/step - loss: 1.3644 - accuracy: 0.4268 - val_loss: 1.2881 - val_accuracy: 0.5459\n",
            "Epoch 36/500\n",
            "104/104 [==============================] - 2s 21ms/step - loss: 1.3472 - accuracy: 0.4565 - val_loss: 1.2892 - val_accuracy: 0.4879\n",
            "Epoch 37/500\n",
            "104/104 [==============================] - 2s 21ms/step - loss: 1.3274 - accuracy: 0.4643 - val_loss: 1.3049 - val_accuracy: 0.4734\n",
            "Epoch 38/500\n",
            "104/104 [==============================] - 2s 20ms/step - loss: 1.3150 - accuracy: 0.4837 - val_loss: 1.3042 - val_accuracy: 0.4783\n",
            "Epoch 39/500\n",
            "104/104 [==============================] - 2s 21ms/step - loss: 1.3005 - accuracy: 0.4885 - val_loss: 1.2554 - val_accuracy: 0.4976\n",
            "Epoch 40/500\n",
            "104/104 [==============================] - 2s 21ms/step - loss: 1.2885 - accuracy: 0.4619 - val_loss: 1.2610 - val_accuracy: 0.5266\n",
            "Epoch 41/500\n",
            "104/104 [==============================] - 2s 21ms/step - loss: 1.2637 - accuracy: 0.4976 - val_loss: 1.2016 - val_accuracy: 0.5411\n",
            "Epoch 42/500\n",
            "104/104 [==============================] - 2s 21ms/step - loss: 1.2605 - accuracy: 0.4813 - val_loss: 1.2018 - val_accuracy: 0.5652\n",
            "Epoch 43/500\n",
            "104/104 [==============================] - 2s 21ms/step - loss: 1.2555 - accuracy: 0.4970 - val_loss: 1.2439 - val_accuracy: 0.5411\n",
            "Epoch 44/500\n",
            "104/104 [==============================] - 2s 21ms/step - loss: 1.2305 - accuracy: 0.5048 - val_loss: 1.1697 - val_accuracy: 0.5459\n",
            "Epoch 45/500\n",
            "104/104 [==============================] - 2s 21ms/step - loss: 1.2072 - accuracy: 0.5024 - val_loss: 1.1729 - val_accuracy: 0.5459\n",
            "Epoch 46/500\n",
            "104/104 [==============================] - 2s 20ms/step - loss: 1.2158 - accuracy: 0.5193 - val_loss: 1.2223 - val_accuracy: 0.5024\n",
            "Epoch 47/500\n",
            "104/104 [==============================] - 2s 21ms/step - loss: 1.2199 - accuracy: 0.5103 - val_loss: 1.1753 - val_accuracy: 0.5217\n",
            "Epoch 48/500\n",
            "104/104 [==============================] - 2s 21ms/step - loss: 1.1919 - accuracy: 0.5218 - val_loss: 1.1154 - val_accuracy: 0.5700\n",
            "Epoch 49/500\n",
            "104/104 [==============================] - 2s 21ms/step - loss: 1.1739 - accuracy: 0.5145 - val_loss: 1.1127 - val_accuracy: 0.5652\n",
            "Epoch 50/500\n",
            "104/104 [==============================] - 2s 22ms/step - loss: 1.1556 - accuracy: 0.5363 - val_loss: 1.2268 - val_accuracy: 0.5024\n",
            "Epoch 51/500\n",
            "104/104 [==============================] - 2s 22ms/step - loss: 1.1481 - accuracy: 0.5363 - val_loss: 1.0869 - val_accuracy: 0.5797\n",
            "Epoch 52/500\n",
            "104/104 [==============================] - 2s 20ms/step - loss: 1.1350 - accuracy: 0.5459 - val_loss: 1.0926 - val_accuracy: 0.5604\n",
            "Epoch 53/500\n",
            "104/104 [==============================] - 2s 20ms/step - loss: 1.1312 - accuracy: 0.5351 - val_loss: 1.2137 - val_accuracy: 0.4686\n",
            "Epoch 54/500\n",
            "104/104 [==============================] - 2s 22ms/step - loss: 1.1409 - accuracy: 0.5369 - val_loss: 1.0620 - val_accuracy: 0.5652\n",
            "Epoch 55/500\n",
            "104/104 [==============================] - 2s 22ms/step - loss: 1.1023 - accuracy: 0.5605 - val_loss: 1.1492 - val_accuracy: 0.5411\n",
            "Epoch 56/500\n",
            "104/104 [==============================] - 2s 21ms/step - loss: 1.1005 - accuracy: 0.5580 - val_loss: 1.0916 - val_accuracy: 0.5700\n",
            "Epoch 57/500\n",
            "104/104 [==============================] - 2s 22ms/step - loss: 1.0936 - accuracy: 0.5580 - val_loss: 1.0751 - val_accuracy: 0.5990\n",
            "Epoch 58/500\n",
            "104/104 [==============================] - 2s 21ms/step - loss: 1.0798 - accuracy: 0.5671 - val_loss: 1.0657 - val_accuracy: 0.5797\n",
            "Epoch 59/500\n",
            "104/104 [==============================] - 2s 22ms/step - loss: 1.0839 - accuracy: 0.5605 - val_loss: 1.1627 - val_accuracy: 0.4928\n",
            "Epoch 60/500\n",
            "104/104 [==============================] - 3s 24ms/step - loss: 1.0773 - accuracy: 0.5701 - val_loss: 1.0483 - val_accuracy: 0.5749\n",
            "Epoch 61/500\n",
            "104/104 [==============================] - 3s 25ms/step - loss: 1.0523 - accuracy: 0.5834 - val_loss: 1.0596 - val_accuracy: 0.5652\n",
            "Epoch 62/500\n",
            "104/104 [==============================] - 3s 25ms/step - loss: 1.0327 - accuracy: 0.5840 - val_loss: 1.0418 - val_accuracy: 0.6232\n",
            "Epoch 63/500\n",
            "104/104 [==============================] - 2s 23ms/step - loss: 1.0518 - accuracy: 0.5816 - val_loss: 1.0479 - val_accuracy: 0.5797\n",
            "Epoch 64/500\n",
            "104/104 [==============================] - 2s 21ms/step - loss: 1.0227 - accuracy: 0.5889 - val_loss: 1.0161 - val_accuracy: 0.5700\n",
            "Epoch 65/500\n",
            "104/104 [==============================] - 2s 21ms/step - loss: 1.0311 - accuracy: 0.5973 - val_loss: 1.1660 - val_accuracy: 0.5072\n",
            "Epoch 66/500\n",
            "104/104 [==============================] - 2s 22ms/step - loss: 1.0444 - accuracy: 0.5901 - val_loss: 0.9738 - val_accuracy: 0.6039\n",
            "Epoch 67/500\n",
            "104/104 [==============================] - 2s 21ms/step - loss: 1.0213 - accuracy: 0.6022 - val_loss: 1.0212 - val_accuracy: 0.5749\n",
            "Epoch 68/500\n",
            "104/104 [==============================] - 2s 22ms/step - loss: 0.9936 - accuracy: 0.6028 - val_loss: 0.9940 - val_accuracy: 0.6280\n",
            "Epoch 69/500\n",
            "104/104 [==============================] - 2s 21ms/step - loss: 0.9886 - accuracy: 0.6016 - val_loss: 0.9687 - val_accuracy: 0.6232\n",
            "Epoch 70/500\n",
            "104/104 [==============================] - 2s 21ms/step - loss: 0.9931 - accuracy: 0.5955 - val_loss: 0.9850 - val_accuracy: 0.5942\n",
            "Epoch 71/500\n",
            "104/104 [==============================] - 2s 21ms/step - loss: 0.9836 - accuracy: 0.6112 - val_loss: 0.9531 - val_accuracy: 0.6425\n",
            "Epoch 72/500\n",
            "104/104 [==============================] - 2s 22ms/step - loss: 0.9625 - accuracy: 0.6245 - val_loss: 0.9600 - val_accuracy: 0.5894\n",
            "Epoch 73/500\n",
            "104/104 [==============================] - 2s 22ms/step - loss: 0.9315 - accuracy: 0.6378 - val_loss: 0.9391 - val_accuracy: 0.6329\n",
            "Epoch 74/500\n",
            "104/104 [==============================] - 2s 21ms/step - loss: 0.9525 - accuracy: 0.6282 - val_loss: 0.9379 - val_accuracy: 0.6618\n",
            "Epoch 75/500\n",
            "104/104 [==============================] - 2s 22ms/step - loss: 0.9424 - accuracy: 0.6258 - val_loss: 0.9445 - val_accuracy: 0.6329\n",
            "Epoch 76/500\n",
            "104/104 [==============================] - 2s 22ms/step - loss: 0.9419 - accuracy: 0.6203 - val_loss: 0.9466 - val_accuracy: 0.6135\n",
            "Epoch 77/500\n",
            "104/104 [==============================] - 2s 23ms/step - loss: 0.9299 - accuracy: 0.6342 - val_loss: 0.9382 - val_accuracy: 0.6280\n",
            "Epoch 78/500\n",
            "104/104 [==============================] - 2s 21ms/step - loss: 0.9329 - accuracy: 0.6264 - val_loss: 0.9556 - val_accuracy: 0.6232\n",
            "Epoch 79/500\n",
            "104/104 [==============================] - 2s 22ms/step - loss: 0.9255 - accuracy: 0.6354 - val_loss: 1.0340 - val_accuracy: 0.5700\n",
            "Epoch 80/500\n",
            "104/104 [==============================] - 2s 22ms/step - loss: 0.8967 - accuracy: 0.6566 - val_loss: 0.9493 - val_accuracy: 0.6232\n",
            "Epoch 81/500\n",
            "104/104 [==============================] - 2s 22ms/step - loss: 0.9306 - accuracy: 0.6276 - val_loss: 0.9150 - val_accuracy: 0.6377\n",
            "Epoch 82/500\n",
            "104/104 [==============================] - 2s 22ms/step - loss: 0.9113 - accuracy: 0.6427 - val_loss: 0.9104 - val_accuracy: 0.6039\n",
            "Epoch 83/500\n",
            "104/104 [==============================] - 2s 22ms/step - loss: 0.9026 - accuracy: 0.6342 - val_loss: 0.9513 - val_accuracy: 0.5845\n",
            "Epoch 84/500\n",
            "104/104 [==============================] - 2s 22ms/step - loss: 0.9097 - accuracy: 0.6360 - val_loss: 0.9132 - val_accuracy: 0.6618\n",
            "Epoch 85/500\n",
            "104/104 [==============================] - 2s 22ms/step - loss: 0.8974 - accuracy: 0.6463 - val_loss: 0.8907 - val_accuracy: 0.6570\n",
            "Epoch 86/500\n",
            "104/104 [==============================] - 2s 22ms/step - loss: 0.8626 - accuracy: 0.6421 - val_loss: 0.8638 - val_accuracy: 0.6522\n",
            "Epoch 87/500\n",
            "104/104 [==============================] - 2s 22ms/step - loss: 0.8876 - accuracy: 0.6608 - val_loss: 0.8963 - val_accuracy: 0.6087\n",
            "Epoch 88/500\n",
            "104/104 [==============================] - 2s 23ms/step - loss: 0.8414 - accuracy: 0.6632 - val_loss: 0.8817 - val_accuracy: 0.6329\n",
            "Epoch 89/500\n",
            "104/104 [==============================] - 2s 22ms/step - loss: 0.8390 - accuracy: 0.6681 - val_loss: 0.8851 - val_accuracy: 0.6280\n",
            "Epoch 90/500\n",
            "104/104 [==============================] - 2s 22ms/step - loss: 0.8578 - accuracy: 0.6596 - val_loss: 0.9238 - val_accuracy: 0.6618\n",
            "Epoch 91/500\n",
            "104/104 [==============================] - 2s 23ms/step - loss: 0.8543 - accuracy: 0.6651 - val_loss: 0.8830 - val_accuracy: 0.6329\n",
            "Epoch 92/500\n",
            "104/104 [==============================] - 2s 23ms/step - loss: 0.8530 - accuracy: 0.6608 - val_loss: 0.8564 - val_accuracy: 0.6618\n",
            "Epoch 93/500\n",
            "104/104 [==============================] - 2s 23ms/step - loss: 0.8294 - accuracy: 0.6614 - val_loss: 0.8778 - val_accuracy: 0.6618\n",
            "Epoch 94/500\n",
            "104/104 [==============================] - 2s 23ms/step - loss: 0.8250 - accuracy: 0.6693 - val_loss: 0.8612 - val_accuracy: 0.6473\n",
            "Epoch 95/500\n",
            "104/104 [==============================] - 2s 24ms/step - loss: 0.8218 - accuracy: 0.6669 - val_loss: 0.8790 - val_accuracy: 0.6232\n",
            "Epoch 96/500\n",
            "104/104 [==============================] - 2s 24ms/step - loss: 0.8140 - accuracy: 0.6765 - val_loss: 0.8905 - val_accuracy: 0.6280\n",
            "Epoch 97/500\n",
            "104/104 [==============================] - 2s 24ms/step - loss: 0.7831 - accuracy: 0.6904 - val_loss: 0.8272 - val_accuracy: 0.6425\n",
            "Epoch 98/500\n",
            "104/104 [==============================] - 3s 25ms/step - loss: 0.8303 - accuracy: 0.6693 - val_loss: 0.9076 - val_accuracy: 0.6280\n",
            "Epoch 99/500\n",
            "104/104 [==============================] - 2s 23ms/step - loss: 0.8067 - accuracy: 0.6832 - val_loss: 0.8763 - val_accuracy: 0.6232\n",
            "Epoch 100/500\n",
            "104/104 [==============================] - 2s 24ms/step - loss: 0.7785 - accuracy: 0.6844 - val_loss: 0.8869 - val_accuracy: 0.6473\n",
            "Epoch 101/500\n",
            "104/104 [==============================] - 2s 23ms/step - loss: 0.7968 - accuracy: 0.6892 - val_loss: 0.8697 - val_accuracy: 0.6377\n",
            "Epoch 102/500\n",
            "104/104 [==============================] - 3s 24ms/step - loss: 0.7677 - accuracy: 0.6953 - val_loss: 0.8345 - val_accuracy: 0.6812\n",
            "Epoch 103/500\n",
            "104/104 [==============================] - 3s 25ms/step - loss: 0.7777 - accuracy: 0.6904 - val_loss: 0.8449 - val_accuracy: 0.6329\n",
            "Epoch 104/500\n",
            "104/104 [==============================] - 3s 25ms/step - loss: 0.7675 - accuracy: 0.6989 - val_loss: 0.8069 - val_accuracy: 0.6715\n",
            "Epoch 105/500\n",
            "104/104 [==============================] - 3s 25ms/step - loss: 0.7701 - accuracy: 0.6898 - val_loss: 0.8476 - val_accuracy: 0.6184\n",
            "Epoch 106/500\n",
            "104/104 [==============================] - 2s 24ms/step - loss: 0.7793 - accuracy: 0.6917 - val_loss: 0.8472 - val_accuracy: 0.6377\n",
            "Epoch 107/500\n",
            "104/104 [==============================] - 2s 24ms/step - loss: 0.7716 - accuracy: 0.7007 - val_loss: 0.8266 - val_accuracy: 0.6232\n",
            "Epoch 108/500\n",
            "104/104 [==============================] - 2s 22ms/step - loss: 0.7640 - accuracy: 0.7001 - val_loss: 0.8308 - val_accuracy: 0.6618\n",
            "Epoch 109/500\n",
            "104/104 [==============================] - 2s 23ms/step - loss: 0.7516 - accuracy: 0.6959 - val_loss: 0.7945 - val_accuracy: 0.6667\n",
            "Epoch 110/500\n",
            "104/104 [==============================] - 2s 22ms/step - loss: 0.7580 - accuracy: 0.6886 - val_loss: 0.8151 - val_accuracy: 0.6618\n",
            "Epoch 111/500\n",
            "104/104 [==============================] - 2s 21ms/step - loss: 0.7496 - accuracy: 0.7062 - val_loss: 0.8066 - val_accuracy: 0.6715\n",
            "Epoch 112/500\n",
            "104/104 [==============================] - 2s 22ms/step - loss: 0.7449 - accuracy: 0.7092 - val_loss: 0.7768 - val_accuracy: 0.6763\n",
            "Epoch 113/500\n",
            "104/104 [==============================] - 2s 21ms/step - loss: 0.7479 - accuracy: 0.7007 - val_loss: 0.8479 - val_accuracy: 0.6425\n",
            "Epoch 114/500\n",
            "104/104 [==============================] - 2s 22ms/step - loss: 0.7479 - accuracy: 0.7044 - val_loss: 0.8500 - val_accuracy: 0.6522\n",
            "Epoch 115/500\n",
            "104/104 [==============================] - 2s 22ms/step - loss: 0.7358 - accuracy: 0.7201 - val_loss: 0.8158 - val_accuracy: 0.6570\n",
            "Epoch 116/500\n",
            "104/104 [==============================] - 2s 22ms/step - loss: 0.7525 - accuracy: 0.7037 - val_loss: 0.8791 - val_accuracy: 0.6425\n",
            "Epoch 117/500\n",
            "104/104 [==============================] - 2s 22ms/step - loss: 0.7109 - accuracy: 0.7152 - val_loss: 0.7944 - val_accuracy: 0.6618\n",
            "Epoch 118/500\n",
            "104/104 [==============================] - 2s 22ms/step - loss: 0.7292 - accuracy: 0.7104 - val_loss: 0.7998 - val_accuracy: 0.6618\n",
            "Epoch 119/500\n",
            "104/104 [==============================] - 2s 23ms/step - loss: 0.7133 - accuracy: 0.7140 - val_loss: 0.7770 - val_accuracy: 0.6715\n",
            "Epoch 120/500\n",
            "104/104 [==============================] - 2s 23ms/step - loss: 0.6959 - accuracy: 0.7219 - val_loss: 0.8454 - val_accuracy: 0.6715\n",
            "Epoch 121/500\n",
            "104/104 [==============================] - 2s 22ms/step - loss: 0.7040 - accuracy: 0.7370 - val_loss: 0.8525 - val_accuracy: 0.6618\n",
            "Epoch 122/500\n",
            "104/104 [==============================] - 2s 21ms/step - loss: 0.7100 - accuracy: 0.7219 - val_loss: 0.7763 - val_accuracy: 0.6667\n",
            "Epoch 123/500\n",
            "104/104 [==============================] - 2s 22ms/step - loss: 0.7007 - accuracy: 0.7189 - val_loss: 0.7896 - val_accuracy: 0.6908\n",
            "Epoch 124/500\n",
            "104/104 [==============================] - 2s 21ms/step - loss: 0.7096 - accuracy: 0.7158 - val_loss: 0.7790 - val_accuracy: 0.6618\n",
            "Epoch 125/500\n",
            "104/104 [==============================] - 2s 21ms/step - loss: 0.6966 - accuracy: 0.7364 - val_loss: 0.7600 - val_accuracy: 0.6763\n",
            "Epoch 126/500\n",
            "104/104 [==============================] - 2s 22ms/step - loss: 0.6896 - accuracy: 0.7304 - val_loss: 0.7672 - val_accuracy: 0.6908\n",
            "Epoch 127/500\n",
            "104/104 [==============================] - 2s 21ms/step - loss: 0.6884 - accuracy: 0.7316 - val_loss: 0.8169 - val_accuracy: 0.6522\n",
            "Epoch 128/500\n",
            "104/104 [==============================] - 2s 21ms/step - loss: 0.6783 - accuracy: 0.7316 - val_loss: 0.7585 - val_accuracy: 0.6667\n",
            "Epoch 129/500\n",
            "104/104 [==============================] - 2s 21ms/step - loss: 0.6836 - accuracy: 0.7231 - val_loss: 0.7690 - val_accuracy: 0.6908\n",
            "Epoch 130/500\n",
            "104/104 [==============================] - 2s 22ms/step - loss: 0.6830 - accuracy: 0.7285 - val_loss: 0.7588 - val_accuracy: 0.7053\n",
            "Epoch 131/500\n",
            "104/104 [==============================] - 2s 20ms/step - loss: 0.6518 - accuracy: 0.7418 - val_loss: 0.7827 - val_accuracy: 0.6908\n",
            "Epoch 132/500\n",
            "104/104 [==============================] - 2s 20ms/step - loss: 0.6670 - accuracy: 0.7352 - val_loss: 0.7489 - val_accuracy: 0.7005\n",
            "Epoch 133/500\n",
            "104/104 [==============================] - 2s 22ms/step - loss: 0.6593 - accuracy: 0.7328 - val_loss: 0.7670 - val_accuracy: 0.6860\n",
            "Epoch 134/500\n",
            "104/104 [==============================] - 2s 21ms/step - loss: 0.6475 - accuracy: 0.7467 - val_loss: 0.7746 - val_accuracy: 0.6570\n",
            "Epoch 135/500\n",
            "104/104 [==============================] - 2s 20ms/step - loss: 0.6550 - accuracy: 0.7485 - val_loss: 0.7287 - val_accuracy: 0.7150\n",
            "Epoch 136/500\n",
            "104/104 [==============================] - 2s 23ms/step - loss: 0.6631 - accuracy: 0.7418 - val_loss: 0.7795 - val_accuracy: 0.6812\n",
            "Epoch 137/500\n",
            "104/104 [==============================] - 3s 25ms/step - loss: 0.6396 - accuracy: 0.7594 - val_loss: 0.7522 - val_accuracy: 0.6957\n",
            "Epoch 138/500\n",
            "104/104 [==============================] - 3s 25ms/step - loss: 0.6622 - accuracy: 0.7418 - val_loss: 0.7794 - val_accuracy: 0.6618\n",
            "Epoch 139/500\n",
            "104/104 [==============================] - 2s 23ms/step - loss: 0.6633 - accuracy: 0.7273 - val_loss: 0.7458 - val_accuracy: 0.7053\n",
            "Epoch 140/500\n",
            "104/104 [==============================] - 2s 22ms/step - loss: 0.6624 - accuracy: 0.7310 - val_loss: 0.7230 - val_accuracy: 0.7053\n",
            "Epoch 141/500\n",
            "104/104 [==============================] - 2s 22ms/step - loss: 0.6199 - accuracy: 0.7473 - val_loss: 0.7641 - val_accuracy: 0.7053\n",
            "Epoch 142/500\n",
            "104/104 [==============================] - 2s 22ms/step - loss: 0.6458 - accuracy: 0.7503 - val_loss: 0.7355 - val_accuracy: 0.7005\n",
            "Epoch 143/500\n",
            "104/104 [==============================] - 2s 21ms/step - loss: 0.6115 - accuracy: 0.7666 - val_loss: 0.7274 - val_accuracy: 0.7246\n",
            "Epoch 144/500\n",
            "104/104 [==============================] - 2s 21ms/step - loss: 0.6274 - accuracy: 0.7600 - val_loss: 0.7584 - val_accuracy: 0.7150\n",
            "Epoch 145/500\n",
            "104/104 [==============================] - 2s 22ms/step - loss: 0.6446 - accuracy: 0.7485 - val_loss: 0.7563 - val_accuracy: 0.6667\n",
            "Epoch 146/500\n",
            "104/104 [==============================] - 2s 21ms/step - loss: 0.6019 - accuracy: 0.7684 - val_loss: 0.7652 - val_accuracy: 0.6570\n",
            "Epoch 147/500\n",
            "104/104 [==============================] - 2s 21ms/step - loss: 0.6374 - accuracy: 0.7412 - val_loss: 0.7468 - val_accuracy: 0.6860\n",
            "Epoch 148/500\n",
            "104/104 [==============================] - 2s 21ms/step - loss: 0.6113 - accuracy: 0.7594 - val_loss: 0.8336 - val_accuracy: 0.6425\n",
            "Epoch 149/500\n",
            "104/104 [==============================] - 2s 20ms/step - loss: 0.6276 - accuracy: 0.7594 - val_loss: 0.6802 - val_accuracy: 0.7101\n",
            "Epoch 150/500\n",
            "104/104 [==============================] - 2s 20ms/step - loss: 0.5997 - accuracy: 0.7684 - val_loss: 0.6922 - val_accuracy: 0.7198\n",
            "Epoch 151/500\n",
            "104/104 [==============================] - 2s 20ms/step - loss: 0.5941 - accuracy: 0.7763 - val_loss: 0.7553 - val_accuracy: 0.6763\n",
            "Epoch 152/500\n",
            "104/104 [==============================] - 2s 20ms/step - loss: 0.6006 - accuracy: 0.7696 - val_loss: 0.7774 - val_accuracy: 0.6957\n",
            "Epoch 153/500\n",
            "104/104 [==============================] - 2s 20ms/step - loss: 0.5996 - accuracy: 0.7612 - val_loss: 0.7115 - val_accuracy: 0.7295\n",
            "Epoch 154/500\n",
            "104/104 [==============================] - 2s 20ms/step - loss: 0.5979 - accuracy: 0.7648 - val_loss: 0.7730 - val_accuracy: 0.6812\n",
            "Epoch 155/500\n",
            "104/104 [==============================] - 2s 21ms/step - loss: 0.5960 - accuracy: 0.7672 - val_loss: 0.7472 - val_accuracy: 0.6763\n",
            "Epoch 156/500\n",
            "104/104 [==============================] - 2s 21ms/step - loss: 0.6174 - accuracy: 0.7551 - val_loss: 0.7595 - val_accuracy: 0.7391\n",
            "Epoch 157/500\n",
            "104/104 [==============================] - 2s 21ms/step - loss: 0.5596 - accuracy: 0.7769 - val_loss: 0.6746 - val_accuracy: 0.7150\n",
            "Epoch 158/500\n",
            "104/104 [==============================] - 2s 20ms/step - loss: 0.6024 - accuracy: 0.7660 - val_loss: 0.7019 - val_accuracy: 0.6763\n",
            "Epoch 159/500\n",
            "104/104 [==============================] - 2s 20ms/step - loss: 0.5935 - accuracy: 0.7739 - val_loss: 0.7160 - val_accuracy: 0.6908\n",
            "Epoch 160/500\n",
            "104/104 [==============================] - 2s 22ms/step - loss: 0.5802 - accuracy: 0.7751 - val_loss: 0.6743 - val_accuracy: 0.7391\n",
            "Epoch 161/500\n",
            "104/104 [==============================] - 2s 21ms/step - loss: 0.5628 - accuracy: 0.7763 - val_loss: 0.7314 - val_accuracy: 0.6957\n",
            "Epoch 162/500\n",
            "104/104 [==============================] - 2s 21ms/step - loss: 0.5568 - accuracy: 0.7811 - val_loss: 0.6914 - val_accuracy: 0.7536\n",
            "Epoch 163/500\n",
            "104/104 [==============================] - 2s 23ms/step - loss: 0.5619 - accuracy: 0.7866 - val_loss: 0.6910 - val_accuracy: 0.7440\n",
            "Epoch 164/500\n",
            "104/104 [==============================] - 2s 22ms/step - loss: 0.5610 - accuracy: 0.7751 - val_loss: 0.6904 - val_accuracy: 0.7053\n",
            "Epoch 165/500\n",
            "104/104 [==============================] - 2s 22ms/step - loss: 0.5849 - accuracy: 0.7805 - val_loss: 0.6848 - val_accuracy: 0.7246\n",
            "Epoch 166/500\n",
            "104/104 [==============================] - 2s 22ms/step - loss: 0.5721 - accuracy: 0.7769 - val_loss: 0.6952 - val_accuracy: 0.6860\n",
            "Epoch 167/500\n",
            "104/104 [==============================] - 2s 22ms/step - loss: 0.5420 - accuracy: 0.7854 - val_loss: 0.7044 - val_accuracy: 0.6957\n",
            "Epoch 168/500\n",
            "104/104 [==============================] - 2s 22ms/step - loss: 0.5490 - accuracy: 0.7842 - val_loss: 0.7282 - val_accuracy: 0.6908\n",
            "Epoch 169/500\n",
            "104/104 [==============================] - 2s 21ms/step - loss: 0.5568 - accuracy: 0.7908 - val_loss: 0.7324 - val_accuracy: 0.6908\n",
            "Epoch 170/500\n",
            "104/104 [==============================] - 2s 20ms/step - loss: 0.5271 - accuracy: 0.7908 - val_loss: 0.6580 - val_accuracy: 0.7391\n",
            "Epoch 171/500\n",
            "104/104 [==============================] - 2s 20ms/step - loss: 0.5598 - accuracy: 0.7956 - val_loss: 0.7291 - val_accuracy: 0.7101\n",
            "Epoch 172/500\n",
            "104/104 [==============================] - 2s 22ms/step - loss: 0.5706 - accuracy: 0.7793 - val_loss: 0.7230 - val_accuracy: 0.7005\n",
            "Epoch 173/500\n",
            "104/104 [==============================] - 2s 21ms/step - loss: 0.5352 - accuracy: 0.7830 - val_loss: 0.7181 - val_accuracy: 0.7053\n",
            "Epoch 174/500\n",
            "104/104 [==============================] - 2s 22ms/step - loss: 0.5507 - accuracy: 0.7878 - val_loss: 0.6785 - val_accuracy: 0.7295\n",
            "Epoch 175/500\n",
            "104/104 [==============================] - 2s 23ms/step - loss: 0.5287 - accuracy: 0.7866 - val_loss: 0.6569 - val_accuracy: 0.7101\n",
            "Epoch 176/500\n",
            "104/104 [==============================] - 2s 24ms/step - loss: 0.5434 - accuracy: 0.7926 - val_loss: 0.6666 - val_accuracy: 0.7198\n",
            "Epoch 177/500\n",
            "104/104 [==============================] - 2s 23ms/step - loss: 0.5551 - accuracy: 0.7811 - val_loss: 0.7146 - val_accuracy: 0.7198\n",
            "Epoch 178/500\n",
            "104/104 [==============================] - 2s 23ms/step - loss: 0.5232 - accuracy: 0.7896 - val_loss: 0.6914 - val_accuracy: 0.7005\n",
            "Epoch 179/500\n",
            "104/104 [==============================] - 2s 23ms/step - loss: 0.5194 - accuracy: 0.8023 - val_loss: 0.6533 - val_accuracy: 0.7295\n",
            "Epoch 180/500\n",
            "104/104 [==============================] - 2s 23ms/step - loss: 0.5179 - accuracy: 0.7956 - val_loss: 0.6864 - val_accuracy: 0.7295\n",
            "Epoch 181/500\n",
            "104/104 [==============================] - 2s 22ms/step - loss: 0.5118 - accuracy: 0.8138 - val_loss: 0.7079 - val_accuracy: 0.7198\n",
            "Epoch 182/500\n",
            "104/104 [==============================] - 2s 22ms/step - loss: 0.5179 - accuracy: 0.8011 - val_loss: 0.7201 - val_accuracy: 0.6860\n",
            "Epoch 183/500\n",
            "104/104 [==============================] - 2s 22ms/step - loss: 0.5217 - accuracy: 0.8059 - val_loss: 0.6768 - val_accuracy: 0.7198\n",
            "Epoch 184/500\n",
            "104/104 [==============================] - 2s 23ms/step - loss: 0.5080 - accuracy: 0.8017 - val_loss: 0.6513 - val_accuracy: 0.7488\n",
            "Epoch 185/500\n",
            "104/104 [==============================] - 2s 23ms/step - loss: 0.5330 - accuracy: 0.7920 - val_loss: 0.6802 - val_accuracy: 0.7488\n",
            "Epoch 186/500\n",
            "104/104 [==============================] - 2s 22ms/step - loss: 0.5445 - accuracy: 0.7848 - val_loss: 0.6859 - val_accuracy: 0.7150\n",
            "Epoch 187/500\n",
            "104/104 [==============================] - 2s 21ms/step - loss: 0.5197 - accuracy: 0.7969 - val_loss: 0.6513 - val_accuracy: 0.7343\n",
            "Epoch 188/500\n",
            "104/104 [==============================] - 2s 21ms/step - loss: 0.5068 - accuracy: 0.8035 - val_loss: 0.6833 - val_accuracy: 0.7391\n",
            "Epoch 189/500\n",
            "104/104 [==============================] - 2s 20ms/step - loss: 0.5236 - accuracy: 0.8083 - val_loss: 0.6490 - val_accuracy: 0.7343\n",
            "Epoch 190/500\n",
            "104/104 [==============================] - 2s 21ms/step - loss: 0.4946 - accuracy: 0.8156 - val_loss: 0.6563 - val_accuracy: 0.7343\n",
            "Epoch 191/500\n",
            "104/104 [==============================] - 2s 21ms/step - loss: 0.4903 - accuracy: 0.7993 - val_loss: 0.6787 - val_accuracy: 0.7246\n",
            "Epoch 192/500\n",
            "104/104 [==============================] - 2s 20ms/step - loss: 0.4829 - accuracy: 0.8114 - val_loss: 0.6723 - val_accuracy: 0.6860\n",
            "Epoch 193/500\n",
            "104/104 [==============================] - 2s 21ms/step - loss: 0.4957 - accuracy: 0.8126 - val_loss: 0.7372 - val_accuracy: 0.6812\n",
            "Epoch 194/500\n",
            "104/104 [==============================] - 2s 21ms/step - loss: 0.4960 - accuracy: 0.8096 - val_loss: 0.6871 - val_accuracy: 0.7343\n",
            "Epoch 195/500\n",
            "104/104 [==============================] - 2s 21ms/step - loss: 0.4836 - accuracy: 0.8017 - val_loss: 0.6399 - val_accuracy: 0.7488\n",
            "Epoch 196/500\n",
            "104/104 [==============================] - 3s 24ms/step - loss: 0.4622 - accuracy: 0.8253 - val_loss: 0.7700 - val_accuracy: 0.6812\n",
            "Epoch 197/500\n",
            "104/104 [==============================] - 2s 22ms/step - loss: 0.4751 - accuracy: 0.8186 - val_loss: 0.6817 - val_accuracy: 0.7150\n",
            "Epoch 198/500\n",
            "104/104 [==============================] - 2s 21ms/step - loss: 0.4826 - accuracy: 0.8077 - val_loss: 0.6729 - val_accuracy: 0.7343\n",
            "Epoch 199/500\n",
            "104/104 [==============================] - 2s 20ms/step - loss: 0.4805 - accuracy: 0.8204 - val_loss: 0.6885 - val_accuracy: 0.7150\n",
            "Epoch 200/500\n",
            "104/104 [==============================] - 2s 21ms/step - loss: 0.4945 - accuracy: 0.8120 - val_loss: 0.6482 - val_accuracy: 0.7488\n",
            "Epoch 201/500\n",
            "104/104 [==============================] - 2s 20ms/step - loss: 0.4809 - accuracy: 0.8156 - val_loss: 0.6624 - val_accuracy: 0.7488\n",
            "Epoch 202/500\n",
            "104/104 [==============================] - 2s 20ms/step - loss: 0.4549 - accuracy: 0.8216 - val_loss: 0.6782 - val_accuracy: 0.7295\n",
            "Epoch 203/500\n",
            "104/104 [==============================] - 2s 21ms/step - loss: 0.4659 - accuracy: 0.8253 - val_loss: 0.6501 - val_accuracy: 0.7488\n",
            "Epoch 204/500\n",
            "104/104 [==============================] - 2s 21ms/step - loss: 0.4849 - accuracy: 0.8126 - val_loss: 0.6203 - val_accuracy: 0.7681\n",
            "Epoch 205/500\n",
            "104/104 [==============================] - 2s 21ms/step - loss: 0.4781 - accuracy: 0.8174 - val_loss: 0.6108 - val_accuracy: 0.7343\n",
            "Epoch 206/500\n",
            "104/104 [==============================] - 2s 20ms/step - loss: 0.4657 - accuracy: 0.8180 - val_loss: 0.6415 - val_accuracy: 0.7391\n",
            "Epoch 207/500\n",
            "104/104 [==============================] - 2s 20ms/step - loss: 0.4699 - accuracy: 0.8138 - val_loss: 0.6924 - val_accuracy: 0.7053\n",
            "Epoch 208/500\n",
            "104/104 [==============================] - 2s 23ms/step - loss: 0.4877 - accuracy: 0.8235 - val_loss: 0.6529 - val_accuracy: 0.7101\n",
            "Epoch 209/500\n",
            "104/104 [==============================] - 3s 25ms/step - loss: 0.4469 - accuracy: 0.8277 - val_loss: 0.6367 - val_accuracy: 0.7391\n",
            "Epoch 210/500\n",
            "104/104 [==============================] - 3s 25ms/step - loss: 0.4644 - accuracy: 0.8156 - val_loss: 0.6620 - val_accuracy: 0.7343\n",
            "Epoch 211/500\n",
            "104/104 [==============================] - 3s 25ms/step - loss: 0.4484 - accuracy: 0.8241 - val_loss: 0.6266 - val_accuracy: 0.7681\n",
            "Epoch 212/500\n",
            "104/104 [==============================] - 3s 25ms/step - loss: 0.4471 - accuracy: 0.8313 - val_loss: 0.6591 - val_accuracy: 0.7488\n",
            "Epoch 213/500\n",
            "104/104 [==============================] - 3s 25ms/step - loss: 0.4777 - accuracy: 0.8186 - val_loss: 0.6335 - val_accuracy: 0.7633\n",
            "Epoch 214/500\n",
            "104/104 [==============================] - 2s 23ms/step - loss: 0.4380 - accuracy: 0.8229 - val_loss: 0.6516 - val_accuracy: 0.7633\n",
            "Epoch 215/500\n",
            "104/104 [==============================] - 2s 22ms/step - loss: 0.4257 - accuracy: 0.8349 - val_loss: 0.6311 - val_accuracy: 0.7585\n",
            "Epoch 216/500\n",
            "104/104 [==============================] - 2s 22ms/step - loss: 0.4423 - accuracy: 0.8235 - val_loss: 0.6283 - val_accuracy: 0.7391\n",
            "Epoch 217/500\n",
            "104/104 [==============================] - 2s 24ms/step - loss: 0.3969 - accuracy: 0.8507 - val_loss: 0.7011 - val_accuracy: 0.7101\n",
            "Epoch 218/500\n",
            "104/104 [==============================] - 3s 26ms/step - loss: 0.4317 - accuracy: 0.8434 - val_loss: 0.7338 - val_accuracy: 0.7198\n",
            "Epoch 219/500\n",
            "104/104 [==============================] - 4s 42ms/step - loss: 0.4135 - accuracy: 0.8458 - val_loss: 0.6622 - val_accuracy: 0.7440\n",
            "Epoch 220/500\n",
            "104/104 [==============================] - 4s 40ms/step - loss: 0.4373 - accuracy: 0.8307 - val_loss: 0.6885 - val_accuracy: 0.7681\n",
            "Epoch 221/500\n",
            "104/104 [==============================] - 5s 45ms/step - loss: 0.4309 - accuracy: 0.8283 - val_loss: 0.7232 - val_accuracy: 0.7585\n",
            "Epoch 222/500\n",
            "104/104 [==============================] - 3s 30ms/step - loss: 0.4190 - accuracy: 0.8452 - val_loss: 0.6451 - val_accuracy: 0.7729\n",
            "Epoch 223/500\n",
            "104/104 [==============================] - 3s 25ms/step - loss: 0.4188 - accuracy: 0.8380 - val_loss: 0.6595 - val_accuracy: 0.7343\n",
            "Epoch 224/500\n",
            "104/104 [==============================] - 3s 25ms/step - loss: 0.4235 - accuracy: 0.8362 - val_loss: 0.6330 - val_accuracy: 0.7585\n",
            "Epoch 225/500\n",
            "104/104 [==============================] - 3s 25ms/step - loss: 0.4203 - accuracy: 0.8404 - val_loss: 0.7015 - val_accuracy: 0.7295\n",
            "Epoch 226/500\n",
            "104/104 [==============================] - 3s 25ms/step - loss: 0.4323 - accuracy: 0.8362 - val_loss: 0.6385 - val_accuracy: 0.7536\n",
            "Epoch 227/500\n",
            "104/104 [==============================] - 2s 22ms/step - loss: 0.3803 - accuracy: 0.8561 - val_loss: 0.6430 - val_accuracy: 0.7295\n",
            "Epoch 228/500\n",
            "104/104 [==============================] - 2s 22ms/step - loss: 0.3980 - accuracy: 0.8398 - val_loss: 0.6247 - val_accuracy: 0.7440\n",
            "Epoch 229/500\n",
            "104/104 [==============================] - 2s 21ms/step - loss: 0.4168 - accuracy: 0.8458 - val_loss: 0.5964 - val_accuracy: 0.7778\n",
            "Epoch 230/500\n",
            "104/104 [==============================] - 2s 22ms/step - loss: 0.4214 - accuracy: 0.8476 - val_loss: 0.7708 - val_accuracy: 0.6908\n",
            "Epoch 231/500\n",
            "104/104 [==============================] - 2s 21ms/step - loss: 0.3829 - accuracy: 0.8579 - val_loss: 0.6606 - val_accuracy: 0.7585\n",
            "Epoch 232/500\n",
            "104/104 [==============================] - 2s 21ms/step - loss: 0.4187 - accuracy: 0.8440 - val_loss: 0.6216 - val_accuracy: 0.7681\n",
            "Epoch 233/500\n",
            "104/104 [==============================] - 2s 21ms/step - loss: 0.4088 - accuracy: 0.8482 - val_loss: 0.6526 - val_accuracy: 0.7101\n",
            "Epoch 234/500\n",
            "104/104 [==============================] - 2s 21ms/step - loss: 0.4003 - accuracy: 0.8416 - val_loss: 0.6591 - val_accuracy: 0.7585\n",
            "Epoch 235/500\n",
            "104/104 [==============================] - 2s 21ms/step - loss: 0.4014 - accuracy: 0.8446 - val_loss: 0.6471 - val_accuracy: 0.7246\n",
            "Epoch 236/500\n",
            "104/104 [==============================] - 2s 20ms/step - loss: 0.3950 - accuracy: 0.8476 - val_loss: 0.6240 - val_accuracy: 0.7488\n",
            "Epoch 237/500\n",
            "104/104 [==============================] - 2s 20ms/step - loss: 0.4052 - accuracy: 0.8531 - val_loss: 0.5839 - val_accuracy: 0.7585\n",
            "Epoch 238/500\n",
            "104/104 [==============================] - 2s 20ms/step - loss: 0.3762 - accuracy: 0.8573 - val_loss: 0.6380 - val_accuracy: 0.7343\n",
            "Epoch 239/500\n",
            "104/104 [==============================] - 2s 20ms/step - loss: 0.4049 - accuracy: 0.8501 - val_loss: 0.6365 - val_accuracy: 0.7440\n",
            "Epoch 240/500\n",
            "104/104 [==============================] - 2s 20ms/step - loss: 0.4209 - accuracy: 0.8374 - val_loss: 0.6303 - val_accuracy: 0.7536\n",
            "Epoch 241/500\n",
            "104/104 [==============================] - 2s 20ms/step - loss: 0.3996 - accuracy: 0.8404 - val_loss: 0.6043 - val_accuracy: 0.7488\n",
            "Epoch 242/500\n",
            "104/104 [==============================] - 2s 21ms/step - loss: 0.4017 - accuracy: 0.8464 - val_loss: 0.6247 - val_accuracy: 0.7343\n",
            "Epoch 243/500\n",
            "104/104 [==============================] - 2s 20ms/step - loss: 0.3944 - accuracy: 0.8428 - val_loss: 0.6968 - val_accuracy: 0.7150\n",
            "Epoch 244/500\n",
            "104/104 [==============================] - 2s 19ms/step - loss: 0.3739 - accuracy: 0.8531 - val_loss: 0.6266 - val_accuracy: 0.7440\n",
            "Epoch 245/500\n",
            "104/104 [==============================] - 2s 19ms/step - loss: 0.3964 - accuracy: 0.8464 - val_loss: 0.6128 - val_accuracy: 0.7633\n",
            "Epoch 246/500\n",
            "104/104 [==============================] - 2s 20ms/step - loss: 0.3876 - accuracy: 0.8531 - val_loss: 0.6163 - val_accuracy: 0.7778\n",
            "Epoch 247/500\n",
            "104/104 [==============================] - 2s 22ms/step - loss: 0.3776 - accuracy: 0.8579 - val_loss: 0.6309 - val_accuracy: 0.7440\n",
            "Epoch 248/500\n",
            "104/104 [==============================] - 2s 20ms/step - loss: 0.3836 - accuracy: 0.8585 - val_loss: 0.6262 - val_accuracy: 0.7633\n",
            "Epoch 249/500\n",
            "104/104 [==============================] - 2s 20ms/step - loss: 0.3841 - accuracy: 0.8579 - val_loss: 0.6278 - val_accuracy: 0.7633\n",
            "Epoch 250/500\n",
            "104/104 [==============================] - 2s 23ms/step - loss: 0.3652 - accuracy: 0.8585 - val_loss: 0.7147 - val_accuracy: 0.6957\n",
            "Epoch 251/500\n",
            "104/104 [==============================] - 2s 21ms/step - loss: 0.3996 - accuracy: 0.8464 - val_loss: 0.6862 - val_accuracy: 0.7295\n",
            "Epoch 252/500\n",
            "104/104 [==============================] - 2s 20ms/step - loss: 0.3830 - accuracy: 0.8519 - val_loss: 0.6111 - val_accuracy: 0.7343\n",
            "Epoch 253/500\n",
            "104/104 [==============================] - 2s 19ms/step - loss: 0.3739 - accuracy: 0.8622 - val_loss: 0.6600 - val_accuracy: 0.7440\n",
            "Epoch 254/500\n",
            "104/104 [==============================] - 2s 19ms/step - loss: 0.3491 - accuracy: 0.8785 - val_loss: 0.6175 - val_accuracy: 0.7391\n",
            "Epoch 255/500\n",
            "104/104 [==============================] - 2s 20ms/step - loss: 0.3768 - accuracy: 0.8507 - val_loss: 0.6301 - val_accuracy: 0.7391\n",
            "Epoch 256/500\n",
            "104/104 [==============================] - 2s 20ms/step - loss: 0.3877 - accuracy: 0.8531 - val_loss: 0.6741 - val_accuracy: 0.7440\n",
            "Epoch 257/500\n",
            "104/104 [==============================] - 2s 20ms/step - loss: 0.3713 - accuracy: 0.8615 - val_loss: 0.6324 - val_accuracy: 0.7874\n",
            "Epoch 258/500\n",
            "104/104 [==============================] - 2s 23ms/step - loss: 0.3588 - accuracy: 0.8682 - val_loss: 0.6480 - val_accuracy: 0.7536\n",
            "Epoch 259/500\n",
            "104/104 [==============================] - 3s 26ms/step - loss: 0.3577 - accuracy: 0.8597 - val_loss: 0.6156 - val_accuracy: 0.7585\n",
            "Epoch 260/500\n",
            "104/104 [==============================] - 2s 20ms/step - loss: 0.3387 - accuracy: 0.8694 - val_loss: 0.6530 - val_accuracy: 0.7150\n",
            "Epoch 261/500\n",
            "104/104 [==============================] - 2s 20ms/step - loss: 0.3578 - accuracy: 0.8646 - val_loss: 0.6489 - val_accuracy: 0.7101\n",
            "Epoch 262/500\n",
            "104/104 [==============================] - 2s 21ms/step - loss: 0.3315 - accuracy: 0.8736 - val_loss: 0.6597 - val_accuracy: 0.7246\n",
            "Epoch 263/500\n",
            "104/104 [==============================] - 2s 21ms/step - loss: 0.3868 - accuracy: 0.8573 - val_loss: 0.7741 - val_accuracy: 0.7150\n",
            "Epoch 264/500\n",
            "104/104 [==============================] - 2s 21ms/step - loss: 0.3448 - accuracy: 0.8742 - val_loss: 0.5809 - val_accuracy: 0.7729\n",
            "Epoch 265/500\n",
            "104/104 [==============================] - 2s 21ms/step - loss: 0.3387 - accuracy: 0.8736 - val_loss: 0.6603 - val_accuracy: 0.7440\n",
            "Epoch 266/500\n",
            "104/104 [==============================] - 2s 23ms/step - loss: 0.3712 - accuracy: 0.8634 - val_loss: 0.6105 - val_accuracy: 0.7874\n",
            "Epoch 267/500\n",
            "104/104 [==============================] - 2s 22ms/step - loss: 0.3476 - accuracy: 0.8779 - val_loss: 0.5997 - val_accuracy: 0.7874\n",
            "Epoch 268/500\n",
            "104/104 [==============================] - 2s 21ms/step - loss: 0.3518 - accuracy: 0.8640 - val_loss: 0.6343 - val_accuracy: 0.7585\n",
            "Epoch 269/500\n",
            "104/104 [==============================] - 2s 21ms/step - loss: 0.3379 - accuracy: 0.8761 - val_loss: 0.6506 - val_accuracy: 0.7343\n",
            "Epoch 270/500\n",
            "104/104 [==============================] - 2s 21ms/step - loss: 0.3464 - accuracy: 0.8742 - val_loss: 0.6541 - val_accuracy: 0.7440\n",
            "Epoch 271/500\n",
            "104/104 [==============================] - 2s 21ms/step - loss: 0.3515 - accuracy: 0.8718 - val_loss: 0.6445 - val_accuracy: 0.7488\n",
            "Epoch 272/500\n",
            "104/104 [==============================] - 2s 21ms/step - loss: 0.3481 - accuracy: 0.8700 - val_loss: 0.6102 - val_accuracy: 0.7729\n",
            "Epoch 273/500\n",
            "104/104 [==============================] - 2s 21ms/step - loss: 0.3435 - accuracy: 0.8652 - val_loss: 0.6386 - val_accuracy: 0.7585\n",
            "Epoch 274/500\n",
            "104/104 [==============================] - 2s 21ms/step - loss: 0.3465 - accuracy: 0.8670 - val_loss: 0.6309 - val_accuracy: 0.7440\n",
            "Epoch 275/500\n",
            "104/104 [==============================] - 2s 22ms/step - loss: 0.3305 - accuracy: 0.8742 - val_loss: 0.6023 - val_accuracy: 0.8068\n",
            "Epoch 276/500\n",
            "104/104 [==============================] - 2s 22ms/step - loss: 0.3416 - accuracy: 0.8706 - val_loss: 0.6636 - val_accuracy: 0.7440\n",
            "Epoch 277/500\n",
            "104/104 [==============================] - 2s 21ms/step - loss: 0.3484 - accuracy: 0.8712 - val_loss: 0.6178 - val_accuracy: 0.7826\n",
            "Epoch 278/500\n",
            "104/104 [==============================] - 2s 21ms/step - loss: 0.3291 - accuracy: 0.8809 - val_loss: 0.6245 - val_accuracy: 0.7826\n",
            "Epoch 279/500\n",
            "104/104 [==============================] - 2s 21ms/step - loss: 0.3412 - accuracy: 0.8767 - val_loss: 0.6510 - val_accuracy: 0.7295\n",
            "Epoch 280/500\n",
            "104/104 [==============================] - 2s 21ms/step - loss: 0.3321 - accuracy: 0.8785 - val_loss: 0.5742 - val_accuracy: 0.7874\n",
            "Epoch 281/500\n",
            "104/104 [==============================] - 2s 21ms/step - loss: 0.3317 - accuracy: 0.8785 - val_loss: 0.7025 - val_accuracy: 0.7391\n",
            "Epoch 282/500\n",
            "104/104 [==============================] - 2s 21ms/step - loss: 0.3337 - accuracy: 0.8712 - val_loss: 0.6281 - val_accuracy: 0.7778\n",
            "Epoch 283/500\n",
            "104/104 [==============================] - 2s 21ms/step - loss: 0.3073 - accuracy: 0.8845 - val_loss: 0.6145 - val_accuracy: 0.7778\n",
            "Epoch 284/500\n",
            "104/104 [==============================] - 2s 20ms/step - loss: 0.3128 - accuracy: 0.8748 - val_loss: 0.6207 - val_accuracy: 0.7681\n",
            "Epoch 285/500\n",
            "104/104 [==============================] - 2s 21ms/step - loss: 0.3148 - accuracy: 0.8857 - val_loss: 0.6120 - val_accuracy: 0.7633\n",
            "Epoch 286/500\n",
            "104/104 [==============================] - 2s 21ms/step - loss: 0.3269 - accuracy: 0.8857 - val_loss: 0.6461 - val_accuracy: 0.7488\n",
            "Epoch 287/500\n",
            "104/104 [==============================] - 2s 20ms/step - loss: 0.3350 - accuracy: 0.8736 - val_loss: 0.6275 - val_accuracy: 0.7488\n",
            "Epoch 288/500\n",
            "104/104 [==============================] - 2s 21ms/step - loss: 0.3030 - accuracy: 0.8900 - val_loss: 0.5912 - val_accuracy: 0.8019\n",
            "Epoch 289/500\n",
            "104/104 [==============================] - 2s 21ms/step - loss: 0.3179 - accuracy: 0.8833 - val_loss: 0.6899 - val_accuracy: 0.7198\n",
            "Epoch 290/500\n",
            "104/104 [==============================] - 2s 21ms/step - loss: 0.2996 - accuracy: 0.8845 - val_loss: 0.6730 - val_accuracy: 0.7391\n",
            "Epoch 291/500\n",
            "104/104 [==============================] - 2s 20ms/step - loss: 0.3290 - accuracy: 0.8773 - val_loss: 0.6365 - val_accuracy: 0.7391\n",
            "Epoch 292/500\n",
            "104/104 [==============================] - 2s 21ms/step - loss: 0.3055 - accuracy: 0.8875 - val_loss: 0.6199 - val_accuracy: 0.7536\n",
            "Epoch 293/500\n",
            "104/104 [==============================] - 2s 21ms/step - loss: 0.2920 - accuracy: 0.8894 - val_loss: 0.6455 - val_accuracy: 0.7585\n",
            "Epoch 294/500\n",
            "104/104 [==============================] - 2s 21ms/step - loss: 0.2833 - accuracy: 0.8918 - val_loss: 0.6278 - val_accuracy: 0.7826\n",
            "Epoch 295/500\n",
            "104/104 [==============================] - 2s 21ms/step - loss: 0.3120 - accuracy: 0.8821 - val_loss: 0.7017 - val_accuracy: 0.7633\n",
            "Epoch 296/500\n",
            "104/104 [==============================] - 2s 20ms/step - loss: 0.3054 - accuracy: 0.8827 - val_loss: 0.6444 - val_accuracy: 0.7585\n",
            "Epoch 297/500\n",
            "104/104 [==============================] - 2s 21ms/step - loss: 0.3291 - accuracy: 0.8755 - val_loss: 0.5731 - val_accuracy: 0.8261\n",
            "Epoch 298/500\n",
            "104/104 [==============================] - 2s 21ms/step - loss: 0.3025 - accuracy: 0.8833 - val_loss: 0.6467 - val_accuracy: 0.7971\n",
            "Epoch 299/500\n",
            "104/104 [==============================] - 2s 21ms/step - loss: 0.2871 - accuracy: 0.8930 - val_loss: 0.6081 - val_accuracy: 0.7778\n",
            "Epoch 300/500\n",
            "104/104 [==============================] - 2s 21ms/step - loss: 0.2796 - accuracy: 0.8906 - val_loss: 0.6204 - val_accuracy: 0.7826\n",
            "Epoch 301/500\n",
            "104/104 [==============================] - 2s 21ms/step - loss: 0.2859 - accuracy: 0.8918 - val_loss: 0.7229 - val_accuracy: 0.7440\n",
            "Epoch 302/500\n",
            "104/104 [==============================] - 2s 21ms/step - loss: 0.3336 - accuracy: 0.8755 - val_loss: 0.5953 - val_accuracy: 0.7633\n",
            "Epoch 303/500\n",
            "104/104 [==============================] - 2s 20ms/step - loss: 0.2971 - accuracy: 0.8900 - val_loss: 0.5830 - val_accuracy: 0.7923\n",
            "Epoch 304/500\n",
            "104/104 [==============================] - 2s 21ms/step - loss: 0.3158 - accuracy: 0.8839 - val_loss: 0.5778 - val_accuracy: 0.8019\n",
            "Epoch 305/500\n",
            "104/104 [==============================] - 2s 20ms/step - loss: 0.3165 - accuracy: 0.8833 - val_loss: 0.5938 - val_accuracy: 0.7874\n",
            "Epoch 306/500\n",
            "104/104 [==============================] - 2s 20ms/step - loss: 0.2900 - accuracy: 0.8966 - val_loss: 0.6062 - val_accuracy: 0.8068\n",
            "Epoch 307/500\n",
            "104/104 [==============================] - 2s 21ms/step - loss: 0.3032 - accuracy: 0.8930 - val_loss: 0.6326 - val_accuracy: 0.7923\n",
            "Epoch 308/500\n",
            "104/104 [==============================] - 2s 20ms/step - loss: 0.3094 - accuracy: 0.8894 - val_loss: 0.5619 - val_accuracy: 0.8213\n",
            "Epoch 309/500\n",
            "104/104 [==============================] - 2s 21ms/step - loss: 0.2626 - accuracy: 0.8960 - val_loss: 0.5720 - val_accuracy: 0.8164\n",
            "Epoch 310/500\n",
            "104/104 [==============================] - 2s 21ms/step - loss: 0.2756 - accuracy: 0.9008 - val_loss: 0.6159 - val_accuracy: 0.7729\n",
            "Epoch 311/500\n",
            "104/104 [==============================] - 2s 22ms/step - loss: 0.2813 - accuracy: 0.8960 - val_loss: 0.6052 - val_accuracy: 0.7923\n",
            "Epoch 312/500\n",
            "104/104 [==============================] - 2s 21ms/step - loss: 0.2797 - accuracy: 0.8972 - val_loss: 0.6063 - val_accuracy: 0.7778\n",
            "Epoch 313/500\n",
            "104/104 [==============================] - 2s 21ms/step - loss: 0.2765 - accuracy: 0.8960 - val_loss: 0.6407 - val_accuracy: 0.7633\n",
            "Epoch 314/500\n",
            "104/104 [==============================] - 2s 21ms/step - loss: 0.2810 - accuracy: 0.8954 - val_loss: 0.5778 - val_accuracy: 0.7971\n",
            "Epoch 315/500\n",
            "104/104 [==============================] - 2s 21ms/step - loss: 0.2798 - accuracy: 0.9002 - val_loss: 0.5861 - val_accuracy: 0.8068\n",
            "Epoch 316/500\n",
            "104/104 [==============================] - 2s 21ms/step - loss: 0.2960 - accuracy: 0.8857 - val_loss: 0.6130 - val_accuracy: 0.7826\n",
            "Epoch 317/500\n",
            "104/104 [==============================] - 2s 21ms/step - loss: 0.2836 - accuracy: 0.8954 - val_loss: 0.6546 - val_accuracy: 0.7826\n",
            "Epoch 318/500\n",
            "104/104 [==============================] - 2s 21ms/step - loss: 0.2963 - accuracy: 0.8900 - val_loss: 0.6125 - val_accuracy: 0.7729\n",
            "Epoch 319/500\n",
            "104/104 [==============================] - 2s 21ms/step - loss: 0.2711 - accuracy: 0.8996 - val_loss: 0.6298 - val_accuracy: 0.8164\n",
            "Epoch 320/500\n",
            "104/104 [==============================] - 2s 21ms/step - loss: 0.2591 - accuracy: 0.9069 - val_loss: 0.6886 - val_accuracy: 0.7488\n",
            "Epoch 321/500\n",
            "104/104 [==============================] - 2s 20ms/step - loss: 0.2877 - accuracy: 0.8912 - val_loss: 0.5834 - val_accuracy: 0.8019\n",
            "Epoch 322/500\n",
            "104/104 [==============================] - 2s 21ms/step - loss: 0.2674 - accuracy: 0.9069 - val_loss: 0.5374 - val_accuracy: 0.8068\n",
            "Epoch 323/500\n",
            "104/104 [==============================] - 2s 20ms/step - loss: 0.2881 - accuracy: 0.8924 - val_loss: 0.6915 - val_accuracy: 0.7343\n",
            "Epoch 324/500\n",
            "104/104 [==============================] - 2s 20ms/step - loss: 0.2881 - accuracy: 0.9021 - val_loss: 0.6129 - val_accuracy: 0.7585\n",
            "Epoch 325/500\n",
            "104/104 [==============================] - 2s 21ms/step - loss: 0.2570 - accuracy: 0.9051 - val_loss: 0.5753 - val_accuracy: 0.7923\n",
            "Epoch 326/500\n",
            "104/104 [==============================] - 2s 21ms/step - loss: 0.2769 - accuracy: 0.8954 - val_loss: 0.6244 - val_accuracy: 0.7826\n",
            "Epoch 327/500\n",
            "104/104 [==============================] - 2s 21ms/step - loss: 0.2544 - accuracy: 0.9087 - val_loss: 0.7067 - val_accuracy: 0.7295\n",
            "Epoch 328/500\n",
            "104/104 [==============================] - 2s 21ms/step - loss: 0.2922 - accuracy: 0.8966 - val_loss: 0.6413 - val_accuracy: 0.7633\n",
            "Epoch 329/500\n",
            "104/104 [==============================] - 2s 21ms/step - loss: 0.2617 - accuracy: 0.9075 - val_loss: 0.6745 - val_accuracy: 0.7343\n",
            "Epoch 330/500\n",
            "104/104 [==============================] - 2s 22ms/step - loss: 0.2635 - accuracy: 0.9051 - val_loss: 0.6045 - val_accuracy: 0.7874\n",
            "Epoch 331/500\n",
            "104/104 [==============================] - 2s 21ms/step - loss: 0.2772 - accuracy: 0.9027 - val_loss: 0.6164 - val_accuracy: 0.7729\n",
            "Epoch 332/500\n",
            "104/104 [==============================] - 2s 22ms/step - loss: 0.2793 - accuracy: 0.8930 - val_loss: 0.6274 - val_accuracy: 0.7729\n",
            "Epoch 333/500\n",
            "104/104 [==============================] - 2s 21ms/step - loss: 0.2625 - accuracy: 0.9087 - val_loss: 0.6474 - val_accuracy: 0.7585\n",
            "Epoch 334/500\n",
            "104/104 [==============================] - 2s 22ms/step - loss: 0.2606 - accuracy: 0.9015 - val_loss: 0.6220 - val_accuracy: 0.7729\n",
            "Epoch 335/500\n",
            "104/104 [==============================] - 2s 22ms/step - loss: 0.2692 - accuracy: 0.9015 - val_loss: 0.6604 - val_accuracy: 0.7681\n",
            "Epoch 336/500\n",
            "104/104 [==============================] - 2s 22ms/step - loss: 0.2352 - accuracy: 0.9135 - val_loss: 0.6253 - val_accuracy: 0.7923\n",
            "Epoch 337/500\n",
            "104/104 [==============================] - 2s 22ms/step - loss: 0.2648 - accuracy: 0.9039 - val_loss: 0.6005 - val_accuracy: 0.7923\n",
            "Epoch 338/500\n",
            "104/104 [==============================] - 2s 22ms/step - loss: 0.2689 - accuracy: 0.8942 - val_loss: 0.6399 - val_accuracy: 0.7826\n",
            "Epoch 339/500\n",
            "104/104 [==============================] - 2s 21ms/step - loss: 0.2647 - accuracy: 0.9063 - val_loss: 0.6476 - val_accuracy: 0.7440\n",
            "Epoch 340/500\n",
            "104/104 [==============================] - 2s 22ms/step - loss: 0.2470 - accuracy: 0.9117 - val_loss: 0.6260 - val_accuracy: 0.7681\n",
            "Epoch 341/500\n",
            "104/104 [==============================] - 2s 22ms/step - loss: 0.2474 - accuracy: 0.9081 - val_loss: 0.6111 - val_accuracy: 0.7874\n",
            "Epoch 342/500\n",
            "104/104 [==============================] - 2s 22ms/step - loss: 0.2664 - accuracy: 0.9015 - val_loss: 0.6405 - val_accuracy: 0.8164\n",
            "Epoch 343/500\n",
            "104/104 [==============================] - 2s 21ms/step - loss: 0.2827 - accuracy: 0.9033 - val_loss: 0.6058 - val_accuracy: 0.7874\n",
            "Epoch 344/500\n",
            "104/104 [==============================] - 2s 22ms/step - loss: 0.2594 - accuracy: 0.9099 - val_loss: 0.6551 - val_accuracy: 0.7826\n",
            "Epoch 345/500\n",
            "104/104 [==============================] - 2s 21ms/step - loss: 0.2821 - accuracy: 0.8984 - val_loss: 0.6046 - val_accuracy: 0.7923\n",
            "Epoch 346/500\n",
            "104/104 [==============================] - 2s 22ms/step - loss: 0.2584 - accuracy: 0.8978 - val_loss: 0.6037 - val_accuracy: 0.7923\n",
            "Epoch 347/500\n",
            "104/104 [==============================] - 2s 21ms/step - loss: 0.2402 - accuracy: 0.9166 - val_loss: 0.5866 - val_accuracy: 0.8164\n",
            "Epoch 348/500\n",
            "104/104 [==============================] - 2s 22ms/step - loss: 0.2329 - accuracy: 0.9250 - val_loss: 0.6268 - val_accuracy: 0.7826\n",
            "Epoch 349/500\n",
            "104/104 [==============================] - 2s 22ms/step - loss: 0.2552 - accuracy: 0.9039 - val_loss: 0.6139 - val_accuracy: 0.7729\n",
            "Epoch 350/500\n",
            "104/104 [==============================] - 2s 22ms/step - loss: 0.2489 - accuracy: 0.9123 - val_loss: 0.6955 - val_accuracy: 0.7778\n",
            "Epoch 351/500\n",
            "104/104 [==============================] - 2s 21ms/step - loss: 0.2737 - accuracy: 0.9033 - val_loss: 0.6125 - val_accuracy: 0.7778\n",
            "Epoch 352/500\n",
            "104/104 [==============================] - 2s 21ms/step - loss: 0.2556 - accuracy: 0.9045 - val_loss: 0.5729 - val_accuracy: 0.8213\n",
            "Epoch 353/500\n",
            "104/104 [==============================] - 2s 21ms/step - loss: 0.2580 - accuracy: 0.9069 - val_loss: 0.5652 - val_accuracy: 0.7971\n",
            "Epoch 354/500\n",
            "104/104 [==============================] - 2s 21ms/step - loss: 0.2493 - accuracy: 0.9051 - val_loss: 0.6192 - val_accuracy: 0.7923\n",
            "Epoch 355/500\n",
            "104/104 [==============================] - 2s 22ms/step - loss: 0.2557 - accuracy: 0.9093 - val_loss: 0.6445 - val_accuracy: 0.7971\n",
            "Epoch 356/500\n",
            "104/104 [==============================] - 2s 21ms/step - loss: 0.2482 - accuracy: 0.9069 - val_loss: 0.6475 - val_accuracy: 0.7778\n",
            "Epoch 357/500\n",
            "104/104 [==============================] - 2s 21ms/step - loss: 0.2691 - accuracy: 0.9117 - val_loss: 0.6953 - val_accuracy: 0.7971\n",
            "Epoch 358/500\n",
            "104/104 [==============================] - 2s 21ms/step - loss: 0.2388 - accuracy: 0.9232 - val_loss: 0.6149 - val_accuracy: 0.7874\n",
            "Epoch 359/500\n",
            "104/104 [==============================] - 2s 21ms/step - loss: 0.2481 - accuracy: 0.9154 - val_loss: 0.5805 - val_accuracy: 0.7826\n",
            "Epoch 360/500\n",
            "104/104 [==============================] - 2s 20ms/step - loss: 0.2550 - accuracy: 0.9087 - val_loss: 0.6225 - val_accuracy: 0.7681\n",
            "Epoch 361/500\n",
            "104/104 [==============================] - 2s 21ms/step - loss: 0.2387 - accuracy: 0.9129 - val_loss: 0.6161 - val_accuracy: 0.7826\n",
            "Epoch 362/500\n",
            "104/104 [==============================] - 2s 21ms/step - loss: 0.2249 - accuracy: 0.9178 - val_loss: 0.6174 - val_accuracy: 0.8068\n",
            "Epoch 363/500\n",
            "104/104 [==============================] - 2s 22ms/step - loss: 0.2392 - accuracy: 0.9123 - val_loss: 0.6631 - val_accuracy: 0.7681\n",
            "Epoch 364/500\n",
            "104/104 [==============================] - 2s 22ms/step - loss: 0.2070 - accuracy: 0.9202 - val_loss: 0.6740 - val_accuracy: 0.7826\n",
            "Epoch 365/500\n",
            "104/104 [==============================] - 2s 21ms/step - loss: 0.2325 - accuracy: 0.9172 - val_loss: 0.7328 - val_accuracy: 0.7536\n",
            "Epoch 366/500\n",
            "104/104 [==============================] - 2s 22ms/step - loss: 0.2204 - accuracy: 0.9178 - val_loss: 0.6680 - val_accuracy: 0.7971\n",
            "Epoch 367/500\n",
            "104/104 [==============================] - 2s 23ms/step - loss: 0.2448 - accuracy: 0.9160 - val_loss: 0.5982 - val_accuracy: 0.8213\n",
            "Epoch 368/500\n",
            "104/104 [==============================] - 2s 21ms/step - loss: 0.2401 - accuracy: 0.9039 - val_loss: 0.6420 - val_accuracy: 0.8068\n",
            "Epoch 369/500\n",
            "104/104 [==============================] - 2s 22ms/step - loss: 0.2417 - accuracy: 0.9105 - val_loss: 0.5596 - val_accuracy: 0.7971\n",
            "Epoch 370/500\n",
            "104/104 [==============================] - 2s 22ms/step - loss: 0.2270 - accuracy: 0.9202 - val_loss: 0.6402 - val_accuracy: 0.7923\n",
            "Epoch 371/500\n",
            "104/104 [==============================] - 2s 22ms/step - loss: 0.2136 - accuracy: 0.9220 - val_loss: 0.7027 - val_accuracy: 0.7585\n",
            "Epoch 372/500\n",
            "104/104 [==============================] - 2s 22ms/step - loss: 0.2291 - accuracy: 0.9214 - val_loss: 0.6106 - val_accuracy: 0.7874\n",
            "Epoch 373/500\n",
            "104/104 [==============================] - 2s 21ms/step - loss: 0.2165 - accuracy: 0.9135 - val_loss: 0.7211 - val_accuracy: 0.7295\n",
            "Epoch 374/500\n",
            "104/104 [==============================] - 2s 22ms/step - loss: 0.2390 - accuracy: 0.9117 - val_loss: 0.6246 - val_accuracy: 0.7778\n",
            "Epoch 375/500\n",
            "104/104 [==============================] - 2s 21ms/step - loss: 0.2413 - accuracy: 0.9129 - val_loss: 0.6651 - val_accuracy: 0.7633\n",
            "Epoch 376/500\n",
            "104/104 [==============================] - 2s 21ms/step - loss: 0.2064 - accuracy: 0.9268 - val_loss: 0.6650 - val_accuracy: 0.7633\n",
            "Epoch 377/500\n",
            "104/104 [==============================] - 2s 21ms/step - loss: 0.2091 - accuracy: 0.9220 - val_loss: 0.6587 - val_accuracy: 0.7874\n",
            "Epoch 378/500\n",
            "104/104 [==============================] - 2s 21ms/step - loss: 0.2416 - accuracy: 0.9196 - val_loss: 0.6495 - val_accuracy: 0.7826\n",
            "Epoch 379/500\n",
            "104/104 [==============================] - 2s 21ms/step - loss: 0.2292 - accuracy: 0.9184 - val_loss: 0.6574 - val_accuracy: 0.7681\n",
            "Epoch 380/500\n",
            "104/104 [==============================] - 2s 22ms/step - loss: 0.2167 - accuracy: 0.9262 - val_loss: 0.6793 - val_accuracy: 0.7585\n",
            "Epoch 381/500\n",
            "104/104 [==============================] - 2s 22ms/step - loss: 0.2251 - accuracy: 0.9232 - val_loss: 0.5762 - val_accuracy: 0.8116\n",
            "Epoch 382/500\n",
            "104/104 [==============================] - 2s 21ms/step - loss: 0.2177 - accuracy: 0.9262 - val_loss: 0.6460 - val_accuracy: 0.7923\n",
            "Epoch 383/500\n",
            "104/104 [==============================] - 2s 22ms/step - loss: 0.2342 - accuracy: 0.9160 - val_loss: 0.6428 - val_accuracy: 0.7585\n",
            "Epoch 384/500\n",
            "104/104 [==============================] - 2s 22ms/step - loss: 0.2252 - accuracy: 0.9117 - val_loss: 0.7204 - val_accuracy: 0.7585\n",
            "Epoch 385/500\n",
            "104/104 [==============================] - 2s 21ms/step - loss: 0.2148 - accuracy: 0.9123 - val_loss: 0.6543 - val_accuracy: 0.7536\n",
            "Epoch 386/500\n",
            "104/104 [==============================] - 2s 22ms/step - loss: 0.2343 - accuracy: 0.9172 - val_loss: 0.6265 - val_accuracy: 0.7729\n",
            "Epoch 387/500\n",
            "104/104 [==============================] - 2s 22ms/step - loss: 0.2380 - accuracy: 0.9178 - val_loss: 0.6439 - val_accuracy: 0.7729\n",
            "Epoch 388/500\n",
            "104/104 [==============================] - 2s 23ms/step - loss: 0.2191 - accuracy: 0.9190 - val_loss: 0.6311 - val_accuracy: 0.7971\n",
            "Epoch 389/500\n",
            "104/104 [==============================] - 2s 22ms/step - loss: 0.2122 - accuracy: 0.9256 - val_loss: 0.6341 - val_accuracy: 0.7971\n",
            "Epoch 390/500\n",
            "104/104 [==============================] - 2s 22ms/step - loss: 0.1943 - accuracy: 0.9371 - val_loss: 0.6374 - val_accuracy: 0.7923\n",
            "Epoch 391/500\n",
            "104/104 [==============================] - 2s 23ms/step - loss: 0.1932 - accuracy: 0.9305 - val_loss: 0.7724 - val_accuracy: 0.7681\n",
            "Epoch 392/500\n",
            "104/104 [==============================] - 2s 22ms/step - loss: 0.2327 - accuracy: 0.9238 - val_loss: 0.6445 - val_accuracy: 0.7633\n",
            "Epoch 393/500\n",
            "104/104 [==============================] - 2s 22ms/step - loss: 0.2030 - accuracy: 0.9287 - val_loss: 0.6368 - val_accuracy: 0.7488\n",
            "Epoch 394/500\n",
            "104/104 [==============================] - 2s 22ms/step - loss: 0.2156 - accuracy: 0.9256 - val_loss: 0.6076 - val_accuracy: 0.7681\n",
            "Epoch 395/500\n",
            "104/104 [==============================] - 2s 22ms/step - loss: 0.2114 - accuracy: 0.9238 - val_loss: 0.5971 - val_accuracy: 0.8019\n",
            "Epoch 396/500\n",
            "104/104 [==============================] - 2s 22ms/step - loss: 0.2066 - accuracy: 0.9238 - val_loss: 0.6923 - val_accuracy: 0.7971\n",
            "Epoch 397/500\n",
            "104/104 [==============================] - 2s 23ms/step - loss: 0.2104 - accuracy: 0.9262 - val_loss: 0.6179 - val_accuracy: 0.7874\n",
            "Epoch 398/500\n",
            "104/104 [==============================] - 2s 22ms/step - loss: 0.2014 - accuracy: 0.9281 - val_loss: 0.6510 - val_accuracy: 0.7633\n",
            "Epoch 399/500\n",
            "104/104 [==============================] - 2s 23ms/step - loss: 0.2194 - accuracy: 0.9226 - val_loss: 0.6477 - val_accuracy: 0.7971\n",
            "Epoch 400/500\n",
            "104/104 [==============================] - 2s 21ms/step - loss: 0.2285 - accuracy: 0.9208 - val_loss: 0.6438 - val_accuracy: 0.8068\n",
            "Epoch 401/500\n",
            "104/104 [==============================] - 2s 23ms/step - loss: 0.2171 - accuracy: 0.9208 - val_loss: 0.6548 - val_accuracy: 0.7778\n",
            "Epoch 402/500\n",
            "104/104 [==============================] - 2s 24ms/step - loss: 0.2036 - accuracy: 0.9293 - val_loss: 0.6387 - val_accuracy: 0.7826\n",
            "Epoch 403/500\n",
            "104/104 [==============================] - 3s 26ms/step - loss: 0.1926 - accuracy: 0.9262 - val_loss: 0.6848 - val_accuracy: 0.7826\n",
            "Epoch 404/500\n",
            "104/104 [==============================] - 3s 26ms/step - loss: 0.2061 - accuracy: 0.9281 - val_loss: 0.6380 - val_accuracy: 0.7826\n",
            "Epoch 405/500\n",
            "104/104 [==============================] - 2s 24ms/step - loss: 0.2253 - accuracy: 0.9190 - val_loss: 0.5931 - val_accuracy: 0.8213\n",
            "Epoch 406/500\n",
            "104/104 [==============================] - 2s 22ms/step - loss: 0.1945 - accuracy: 0.9311 - val_loss: 0.6217 - val_accuracy: 0.8116\n",
            "Epoch 407/500\n",
            "104/104 [==============================] - 2s 22ms/step - loss: 0.2241 - accuracy: 0.9208 - val_loss: 0.6063 - val_accuracy: 0.8068\n",
            "Epoch 408/500\n",
            "104/104 [==============================] - 2s 22ms/step - loss: 0.1914 - accuracy: 0.9311 - val_loss: 0.6311 - val_accuracy: 0.7923\n",
            "Epoch 409/500\n",
            "104/104 [==============================] - 3s 25ms/step - loss: 0.2027 - accuracy: 0.9196 - val_loss: 0.6463 - val_accuracy: 0.7585\n",
            "Epoch 410/500\n",
            "104/104 [==============================] - 3s 25ms/step - loss: 0.2097 - accuracy: 0.9262 - val_loss: 0.6985 - val_accuracy: 0.7923\n",
            "Epoch 411/500\n",
            "104/104 [==============================] - 2s 22ms/step - loss: 0.2040 - accuracy: 0.9353 - val_loss: 0.6780 - val_accuracy: 0.7923\n",
            "Epoch 412/500\n",
            "104/104 [==============================] - 2s 21ms/step - loss: 0.2026 - accuracy: 0.9281 - val_loss: 0.6700 - val_accuracy: 0.7826\n",
            "Epoch 413/500\n",
            "104/104 [==============================] - 3s 24ms/step - loss: 0.2174 - accuracy: 0.9323 - val_loss: 0.6273 - val_accuracy: 0.8213\n",
            "Epoch 414/500\n",
            "104/104 [==============================] - 3s 26ms/step - loss: 0.1958 - accuracy: 0.9281 - val_loss: 0.6426 - val_accuracy: 0.8019\n",
            "Epoch 415/500\n",
            "104/104 [==============================] - 2s 24ms/step - loss: 0.2095 - accuracy: 0.9226 - val_loss: 0.5986 - val_accuracy: 0.7923\n",
            "Epoch 416/500\n",
            "104/104 [==============================] - 2s 24ms/step - loss: 0.2166 - accuracy: 0.9244 - val_loss: 0.5812 - val_accuracy: 0.8019\n",
            "Epoch 417/500\n",
            "104/104 [==============================] - 3s 25ms/step - loss: 0.2004 - accuracy: 0.9323 - val_loss: 0.6421 - val_accuracy: 0.7729\n",
            "Epoch 418/500\n",
            "104/104 [==============================] - 3s 25ms/step - loss: 0.2038 - accuracy: 0.9305 - val_loss: 0.7226 - val_accuracy: 0.7681\n",
            "Epoch 419/500\n",
            "104/104 [==============================] - 2s 24ms/step - loss: 0.1664 - accuracy: 0.9395 - val_loss: 0.6776 - val_accuracy: 0.7633\n",
            "Epoch 420/500\n",
            "104/104 [==============================] - 2s 22ms/step - loss: 0.1811 - accuracy: 0.9323 - val_loss: 0.7476 - val_accuracy: 0.7778\n",
            "Epoch 421/500\n",
            "104/104 [==============================] - 2s 23ms/step - loss: 0.1995 - accuracy: 0.9250 - val_loss: 0.6657 - val_accuracy: 0.8164\n",
            "Epoch 422/500\n",
            "104/104 [==============================] - 2s 23ms/step - loss: 0.1878 - accuracy: 0.9395 - val_loss: 0.6513 - val_accuracy: 0.7826\n",
            "Epoch 423/500\n",
            "104/104 [==============================] - 2s 24ms/step - loss: 0.1884 - accuracy: 0.9377 - val_loss: 0.6381 - val_accuracy: 0.7729\n",
            "Epoch 424/500\n",
            "104/104 [==============================] - 2s 23ms/step - loss: 0.1683 - accuracy: 0.9389 - val_loss: 0.6261 - val_accuracy: 0.8116\n",
            "Epoch 425/500\n",
            "104/104 [==============================] - 2s 23ms/step - loss: 0.1788 - accuracy: 0.9371 - val_loss: 0.6739 - val_accuracy: 0.7923\n",
            "Epoch 426/500\n",
            "104/104 [==============================] - 2s 22ms/step - loss: 0.1843 - accuracy: 0.9371 - val_loss: 0.5926 - val_accuracy: 0.8406\n",
            "Epoch 427/500\n",
            "104/104 [==============================] - 2s 24ms/step - loss: 0.1824 - accuracy: 0.9335 - val_loss: 0.6764 - val_accuracy: 0.7536\n",
            "Epoch 428/500\n",
            "104/104 [==============================] - 2s 24ms/step - loss: 0.2016 - accuracy: 0.9268 - val_loss: 0.6614 - val_accuracy: 0.7923\n",
            "Epoch 429/500\n",
            "104/104 [==============================] - 2s 24ms/step - loss: 0.1782 - accuracy: 0.9353 - val_loss: 0.6183 - val_accuracy: 0.8164\n",
            "Epoch 430/500\n",
            "104/104 [==============================] - 2s 22ms/step - loss: 0.1750 - accuracy: 0.9377 - val_loss: 0.6048 - val_accuracy: 0.7826\n",
            "Epoch 431/500\n",
            "104/104 [==============================] - 2s 22ms/step - loss: 0.1987 - accuracy: 0.9274 - val_loss: 0.7482 - val_accuracy: 0.7585\n",
            "Epoch 432/500\n",
            "104/104 [==============================] - 2s 23ms/step - loss: 0.1895 - accuracy: 0.9347 - val_loss: 0.6505 - val_accuracy: 0.7971\n",
            "Epoch 433/500\n",
            "104/104 [==============================] - 2s 23ms/step - loss: 0.1933 - accuracy: 0.9305 - val_loss: 0.6525 - val_accuracy: 0.8116\n",
            "Epoch 434/500\n",
            "104/104 [==============================] - 2s 23ms/step - loss: 0.1893 - accuracy: 0.9383 - val_loss: 0.6080 - val_accuracy: 0.8019\n",
            "Epoch 435/500\n",
            "104/104 [==============================] - 2s 24ms/step - loss: 0.1933 - accuracy: 0.9359 - val_loss: 0.6380 - val_accuracy: 0.8116\n",
            "Epoch 436/500\n",
            "104/104 [==============================] - 3s 24ms/step - loss: 0.2157 - accuracy: 0.9299 - val_loss: 0.7723 - val_accuracy: 0.7633\n",
            "Epoch 437/500\n",
            "104/104 [==============================] - 2s 23ms/step - loss: 0.1608 - accuracy: 0.9389 - val_loss: 0.6867 - val_accuracy: 0.8068\n",
            "Epoch 438/500\n",
            "104/104 [==============================] - 3s 25ms/step - loss: 0.1877 - accuracy: 0.9438 - val_loss: 0.6328 - val_accuracy: 0.8116\n",
            "Epoch 439/500\n",
            "104/104 [==============================] - 3s 25ms/step - loss: 0.2141 - accuracy: 0.9281 - val_loss: 0.6410 - val_accuracy: 0.7729\n",
            "Epoch 440/500\n",
            "104/104 [==============================] - 3s 24ms/step - loss: 0.1680 - accuracy: 0.9395 - val_loss: 0.6616 - val_accuracy: 0.7826\n",
            "Epoch 441/500\n",
            "104/104 [==============================] - 2s 23ms/step - loss: 0.1857 - accuracy: 0.9329 - val_loss: 0.6259 - val_accuracy: 0.7923\n",
            "Epoch 442/500\n",
            "104/104 [==============================] - 2s 23ms/step - loss: 0.2093 - accuracy: 0.9335 - val_loss: 0.6643 - val_accuracy: 0.7923\n",
            "Epoch 443/500\n",
            "104/104 [==============================] - 3s 24ms/step - loss: 0.1730 - accuracy: 0.9401 - val_loss: 0.6154 - val_accuracy: 0.8116\n",
            "Epoch 444/500\n",
            "104/104 [==============================] - 2s 22ms/step - loss: 0.1862 - accuracy: 0.9407 - val_loss: 0.5975 - val_accuracy: 0.8357\n",
            "Epoch 445/500\n",
            "104/104 [==============================] - 2s 22ms/step - loss: 0.1766 - accuracy: 0.9426 - val_loss: 0.6623 - val_accuracy: 0.7874\n",
            "Epoch 446/500\n",
            "104/104 [==============================] - 2s 22ms/step - loss: 0.1920 - accuracy: 0.9311 - val_loss: 0.6363 - val_accuracy: 0.7826\n",
            "Epoch 447/500\n",
            "104/104 [==============================] - 2s 23ms/step - loss: 0.1809 - accuracy: 0.9347 - val_loss: 0.6312 - val_accuracy: 0.7874\n",
            "Epoch 448/500\n",
            "104/104 [==============================] - 2s 22ms/step - loss: 0.1714 - accuracy: 0.9407 - val_loss: 0.6575 - val_accuracy: 0.7923\n",
            "Epoch 449/500\n",
            "104/104 [==============================] - 2s 24ms/step - loss: 0.1786 - accuracy: 0.9389 - val_loss: 0.5640 - val_accuracy: 0.8309\n",
            "Epoch 450/500\n",
            "104/104 [==============================] - 2s 23ms/step - loss: 0.1670 - accuracy: 0.9395 - val_loss: 0.6882 - val_accuracy: 0.7826\n",
            "Epoch 451/500\n",
            "104/104 [==============================] - 2s 22ms/step - loss: 0.1894 - accuracy: 0.9359 - val_loss: 0.5746 - val_accuracy: 0.8309\n",
            "Epoch 452/500\n",
            "104/104 [==============================] - 2s 23ms/step - loss: 0.1677 - accuracy: 0.9414 - val_loss: 0.7066 - val_accuracy: 0.8019\n",
            "Epoch 453/500\n",
            "104/104 [==============================] - 3s 24ms/step - loss: 0.1647 - accuracy: 0.9371 - val_loss: 0.6322 - val_accuracy: 0.7874\n",
            "Epoch 454/500\n",
            "104/104 [==============================] - 2s 23ms/step - loss: 0.1596 - accuracy: 0.9426 - val_loss: 0.6311 - val_accuracy: 0.7729\n",
            "Epoch 455/500\n",
            "104/104 [==============================] - 2s 23ms/step - loss: 0.1691 - accuracy: 0.9395 - val_loss: 0.8028 - val_accuracy: 0.7778\n",
            "Epoch 456/500\n",
            "104/104 [==============================] - 2s 22ms/step - loss: 0.1799 - accuracy: 0.9426 - val_loss: 0.5832 - val_accuracy: 0.7923\n",
            "Epoch 457/500\n",
            "104/104 [==============================] - 2s 23ms/step - loss: 0.1823 - accuracy: 0.9377 - val_loss: 0.6071 - val_accuracy: 0.8019\n",
            "Epoch 458/500\n",
            "104/104 [==============================] - 2s 24ms/step - loss: 0.1718 - accuracy: 0.9347 - val_loss: 0.6555 - val_accuracy: 0.7681\n",
            "Epoch 459/500\n",
            "104/104 [==============================] - 2s 22ms/step - loss: 0.1901 - accuracy: 0.9317 - val_loss: 0.5929 - val_accuracy: 0.8068\n",
            "Epoch 460/500\n",
            "104/104 [==============================] - 2s 23ms/step - loss: 0.1546 - accuracy: 0.9474 - val_loss: 0.7163 - val_accuracy: 0.8019\n",
            "Epoch 461/500\n",
            "104/104 [==============================] - 2s 22ms/step - loss: 0.1681 - accuracy: 0.9414 - val_loss: 0.7307 - val_accuracy: 0.8019\n",
            "Epoch 462/500\n",
            "104/104 [==============================] - 2s 23ms/step - loss: 0.1757 - accuracy: 0.9407 - val_loss: 0.6728 - val_accuracy: 0.7971\n",
            "Epoch 463/500\n",
            "104/104 [==============================] - 2s 21ms/step - loss: 0.1644 - accuracy: 0.9407 - val_loss: 0.6061 - val_accuracy: 0.8406\n",
            "Epoch 464/500\n",
            "104/104 [==============================] - 2s 22ms/step - loss: 0.1701 - accuracy: 0.9353 - val_loss: 0.6656 - val_accuracy: 0.7971\n",
            "Epoch 465/500\n",
            "104/104 [==============================] - 2s 22ms/step - loss: 0.1542 - accuracy: 0.9468 - val_loss: 0.8339 - val_accuracy: 0.7585\n",
            "Epoch 466/500\n",
            "104/104 [==============================] - 2s 23ms/step - loss: 0.1606 - accuracy: 0.9371 - val_loss: 0.6412 - val_accuracy: 0.7826\n",
            "Epoch 467/500\n",
            "104/104 [==============================] - 2s 23ms/step - loss: 0.1682 - accuracy: 0.9438 - val_loss: 0.5961 - val_accuracy: 0.7778\n",
            "Epoch 468/500\n",
            "104/104 [==============================] - 2s 21ms/step - loss: 0.1854 - accuracy: 0.9432 - val_loss: 0.6284 - val_accuracy: 0.7778\n",
            "Epoch 469/500\n",
            "104/104 [==============================] - 2s 23ms/step - loss: 0.1810 - accuracy: 0.9317 - val_loss: 0.6702 - val_accuracy: 0.7971\n",
            "Epoch 470/500\n",
            "104/104 [==============================] - 2s 23ms/step - loss: 0.1636 - accuracy: 0.9462 - val_loss: 0.5946 - val_accuracy: 0.7826\n",
            "Epoch 471/500\n",
            "104/104 [==============================] - 2s 23ms/step - loss: 0.1762 - accuracy: 0.9480 - val_loss: 0.6247 - val_accuracy: 0.8116\n",
            "Epoch 472/500\n",
            "104/104 [==============================] - 3s 25ms/step - loss: 0.1750 - accuracy: 0.9383 - val_loss: 0.6466 - val_accuracy: 0.8164\n",
            "Epoch 473/500\n",
            "104/104 [==============================] - 2s 23ms/step - loss: 0.1696 - accuracy: 0.9432 - val_loss: 0.5860 - val_accuracy: 0.8019\n",
            "Epoch 474/500\n",
            "104/104 [==============================] - 2s 23ms/step - loss: 0.1618 - accuracy: 0.9522 - val_loss: 0.7347 - val_accuracy: 0.7729\n",
            "Epoch 475/500\n",
            "104/104 [==============================] - 3s 24ms/step - loss: 0.1575 - accuracy: 0.9426 - val_loss: 0.6627 - val_accuracy: 0.8019\n",
            "Epoch 476/500\n",
            "104/104 [==============================] - 2s 21ms/step - loss: 0.1862 - accuracy: 0.9359 - val_loss: 0.5137 - val_accuracy: 0.8164\n",
            "Epoch 477/500\n",
            "104/104 [==============================] - 2s 22ms/step - loss: 0.1817 - accuracy: 0.9377 - val_loss: 0.6704 - val_accuracy: 0.8068\n",
            "Epoch 478/500\n",
            "104/104 [==============================] - 2s 23ms/step - loss: 0.1594 - accuracy: 0.9432 - val_loss: 0.6294 - val_accuracy: 0.8068\n",
            "Epoch 479/500\n",
            "104/104 [==============================] - 2s 22ms/step - loss: 0.1532 - accuracy: 0.9504 - val_loss: 0.5831 - val_accuracy: 0.8261\n",
            "Epoch 480/500\n",
            "104/104 [==============================] - 2s 22ms/step - loss: 0.1804 - accuracy: 0.9365 - val_loss: 0.6256 - val_accuracy: 0.7729\n",
            "Epoch 481/500\n",
            "104/104 [==============================] - 2s 22ms/step - loss: 0.1605 - accuracy: 0.9414 - val_loss: 0.5911 - val_accuracy: 0.8261\n",
            "Epoch 482/500\n",
            "104/104 [==============================] - 2s 24ms/step - loss: 0.1685 - accuracy: 0.9420 - val_loss: 0.5466 - val_accuracy: 0.8019\n",
            "Epoch 483/500\n",
            "104/104 [==============================] - 3s 26ms/step - loss: 0.1691 - accuracy: 0.9456 - val_loss: 0.6733 - val_accuracy: 0.7585\n",
            "Epoch 484/500\n",
            "104/104 [==============================] - 3s 26ms/step - loss: 0.1517 - accuracy: 0.9474 - val_loss: 0.7516 - val_accuracy: 0.7633\n",
            "Epoch 485/500\n",
            "104/104 [==============================] - 3s 27ms/step - loss: 0.1899 - accuracy: 0.9365 - val_loss: 0.6649 - val_accuracy: 0.8213\n",
            "Epoch 486/500\n",
            "104/104 [==============================] - 3s 26ms/step - loss: 0.1522 - accuracy: 0.9462 - val_loss: 0.6298 - val_accuracy: 0.8551\n",
            "Epoch 487/500\n",
            "104/104 [==============================] - 3s 24ms/step - loss: 0.1533 - accuracy: 0.9480 - val_loss: 0.6725 - val_accuracy: 0.7826\n",
            "Epoch 488/500\n",
            "104/104 [==============================] - 2s 22ms/step - loss: 0.1800 - accuracy: 0.9317 - val_loss: 0.6952 - val_accuracy: 0.8019\n",
            "Epoch 489/500\n",
            "104/104 [==============================] - 2s 23ms/step - loss: 0.1658 - accuracy: 0.9426 - val_loss: 0.6627 - val_accuracy: 0.7826\n",
            "Epoch 490/500\n",
            "104/104 [==============================] - 2s 22ms/step - loss: 0.1755 - accuracy: 0.9414 - val_loss: 0.6382 - val_accuracy: 0.7923\n",
            "Epoch 491/500\n",
            "104/104 [==============================] - 2s 24ms/step - loss: 0.1826 - accuracy: 0.9371 - val_loss: 0.6640 - val_accuracy: 0.7681\n",
            "Epoch 492/500\n",
            "104/104 [==============================] - 2s 23ms/step - loss: 0.1353 - accuracy: 0.9492 - val_loss: 0.6368 - val_accuracy: 0.8068\n",
            "Epoch 493/500\n",
            "104/104 [==============================] - 2s 21ms/step - loss: 0.1468 - accuracy: 0.9486 - val_loss: 0.6377 - val_accuracy: 0.7971\n",
            "Epoch 494/500\n",
            "104/104 [==============================] - 2s 22ms/step - loss: 0.1450 - accuracy: 0.9474 - val_loss: 0.6298 - val_accuracy: 0.7874\n",
            "Epoch 495/500\n",
            "104/104 [==============================] - 2s 24ms/step - loss: 0.1456 - accuracy: 0.9414 - val_loss: 0.6986 - val_accuracy: 0.7778\n",
            "Epoch 496/500\n",
            "104/104 [==============================] - 3s 25ms/step - loss: 0.1863 - accuracy: 0.9317 - val_loss: 0.6973 - val_accuracy: 0.7874\n",
            "Epoch 497/500\n",
            "104/104 [==============================] - 3s 24ms/step - loss: 0.1495 - accuracy: 0.9456 - val_loss: 0.6477 - val_accuracy: 0.8019\n",
            "Epoch 498/500\n",
            "104/104 [==============================] - 3s 26ms/step - loss: 0.1602 - accuracy: 0.9450 - val_loss: 0.6210 - val_accuracy: 0.8309\n",
            "Epoch 499/500\n",
            "104/104 [==============================] - 3s 29ms/step - loss: 0.1731 - accuracy: 0.9432 - val_loss: 0.5814 - val_accuracy: 0.8164\n",
            "Epoch 500/500\n",
            "104/104 [==============================] - 3s 27ms/step - loss: 0.1475 - accuracy: 0.9541 - val_loss: 0.6911 - val_accuracy: 0.7681\n"
          ]
        }
      ]
    },
    {
      "cell_type": "code",
      "source": [
        "plt.plot(cnnhistory.history['loss'])\n",
        "plt.plot(cnnhistory.history['val_loss'])\n",
        "plt.title('model loss')\n",
        "plt.ylabel('loss')\n",
        "plt.xlabel('epoch')\n",
        "plt.legend(['train','test'], loc='upper left')\n",
        "plt.show()"
      ],
      "metadata": {
        "colab": {
          "base_uri": "https://localhost:8080/",
          "height": 295
        },
        "id": "oQYnuaCrDH_A",
        "outputId": "4bff5ac2-6880-4164-c7f4-4a4d7f7bd7f4"
      },
      "execution_count": 22,
      "outputs": [
        {
          "output_type": "display_data",
          "data": {
            "image/png": "[encoded data removed]",
            "text/plain": [
              "<Figure size 432x288 with 1 Axes>"
            ]
          },
          "metadata": {
            "needs_background": "light"
          }
        }
      ]
    },
    {
      "cell_type": "code",
      "source": [
        ""
      ],
      "metadata": {
        "id": "01otXNBSCLs9"
      },
      "execution_count": null,
      "outputs": []
    },
    {
      "cell_type": "code",
      "source": [
        "plt.plot(cnnhistory.history['accuracy'])\n",
        "plt.plot(cnnhistory.history['val_accuracy'])\n",
        "plt.title('model accuracy')\n",
        "plt.ylabel('accuracy')\n",
        "plt.xlabel('epoch')\n",
        "plt.legend(['train','test'], loc='upper left')\n",
        "plt.show()"
      ],
      "metadata": {
        "colab": {
          "base_uri": "https://localhost:8080/",
          "height": 295
        },
        "id": "IFkTuO8nDNdq",
        "outputId": "426c7b7d-712d-4754-cbf6-996d03deda83"
      },
      "execution_count": 23,
      "outputs": [
        {
          "output_type": "display_data",
          "data": {
            "image/png": "[encoded data removed]",
            "text/plain": [
              "<Figure size 432x288 with 1 Axes>"
            ]
          },
          "metadata": {
            "needs_background": "light"
          }
        }
      ]
    },
    {
      "cell_type": "code",
      "source": [
        "#predictions = model.predict_classes(x_testcnn)\n",
        "predictions = model.predict(x_testcnn)"
      ],
      "metadata": {
        "id": "A2xtrN5wDQgY"
      },
      "execution_count": 24,
      "outputs": []
    },
    {
      "cell_type": "code",
      "source": [
        "predictions"
      ],
      "metadata": {
        "colab": {
          "base_uri": "https://localhost:8080/"
        },
        "id": "_f_ohjXKDUpY",
        "outputId": "50022809-4f72-4ea6-9667-f81bbde74b9a"
      },
      "execution_count": 25,
      "outputs": [
        {
          "output_type": "execute_result",
          "data": {
            "text/plain": [
              "array([[3.6945089e-03, 2.1693850e-02, 9.0481110e-02, 1.2446282e-02,\n",
              "        6.5397274e-01, 2.1771148e-01],\n",
              "       [3.6402718e-05, 9.9693573e-01, 8.7570970e-06, 1.9298944e-03,\n",
              "        1.0868990e-03, 2.2258976e-06],\n",
              "       [1.3379362e-05, 2.2191041e-04, 9.9629968e-01, 2.0174008e-05,\n",
              "        3.1681214e-03, 2.7675516e-04],\n",
              "       ...,\n",
              "       [4.3569977e-05, 5.7348927e-07, 9.3112438e-04, 1.6334870e-04,\n",
              "        9.8051810e-01, 1.8343279e-02],\n",
              "       [9.2729839e-04, 3.2178323e-05, 9.5006028e-05, 8.1418735e-01,\n",
              "        1.2861990e-04, 1.8462956e-01],\n",
              "       [1.5327862e-05, 1.0354538e-07, 2.7578392e-03, 3.1100568e-01,\n",
              "        1.4993172e-10, 6.8622100e-01]], dtype=float32)"
            ]
          },
          "metadata": {},
          "execution_count": 25
        }
      ]
    },
    {
      "cell_type": "code",
      "source": [
        "y_test"
      ],
      "metadata": {
        "colab": {
          "base_uri": "https://localhost:8080/"
        },
        "id": "cmA2bFgsDW3D",
        "outputId": "78d821db-19f8-4593-9e78-7393deea88d3"
      },
      "execution_count": 26,
      "outputs": [
        {
          "output_type": "execute_result",
          "data": {
            "text/plain": [
              "array([5, 1, 2, 5, 4, 3, 2, 0, 3, 0, 3, 2, 0, 3, 3, 0, 5, 0, 2, 4, 0, 0,\n",
              "       1, 3, 2, 3, 2, 5, 3, 1, 2, 4, 2, 2, 5, 5, 3, 5, 3, 3, 4, 1, 2, 2,\n",
              "       3, 1, 5, 3, 1, 0, 4, 5, 5, 5, 5, 1, 2, 3, 2, 5, 0, 2, 4, 2, 5, 4,\n",
              "       2, 0, 2, 3, 5, 2, 0, 3, 4, 4, 4, 0, 5, 5, 3, 4, 5, 3, 2, 4, 1, 5,\n",
              "       0, 5, 0, 5, 4, 0, 1, 4, 0, 2, 2, 0, 2, 4, 5, 3, 4, 5, 3, 1, 2, 2,\n",
              "       2, 1, 3, 2, 1, 2, 4, 4, 2, 1, 2, 4, 5, 1, 4, 2, 0, 4, 5, 5, 3, 1,\n",
              "       2, 1, 5, 5, 1, 2, 3, 3, 0, 3, 3, 0, 1, 0, 1, 2, 2, 5, 2, 2, 2, 1,\n",
              "       1, 0, 1, 1, 1, 4, 0, 1, 5, 1, 5, 5, 5, 4, 1, 0, 3, 5, 2, 4, 1, 4,\n",
              "       1, 3, 2, 0, 5, 5, 3, 5, 4, 5, 4, 0, 4, 1, 2, 1, 4, 0, 4, 3, 2, 1,\n",
              "       0, 3, 5, 0, 4, 5, 4, 5, 3])"
            ]
          },
          "metadata": {},
          "execution_count": 26
        }
      ]
    },
    {
      "cell_type": "code",
      "source": [
        "new_Ytest = y_test.astype(int)"
      ],
      "metadata": {
        "id": "0PHDKWJWDY3g"
      },
      "execution_count": 27,
      "outputs": []
    },
    {
      "cell_type": "code",
      "source": [
        "new_Ytest"
      ],
      "metadata": {
        "colab": {
          "base_uri": "https://localhost:8080/"
        },
        "id": "k68v2i-pDbZE",
        "outputId": "409c0a05-0469-483a-e0c9-2e67f17b20bc"
      },
      "execution_count": 28,
      "outputs": [
        {
          "output_type": "execute_result",
          "data": {
            "text/plain": [
              "array([5, 1, 2, 5, 4, 3, 2, 0, 3, 0, 3, 2, 0, 3, 3, 0, 5, 0, 2, 4, 0, 0,\n",
              "       1, 3, 2, 3, 2, 5, 3, 1, 2, 4, 2, 2, 5, 5, 3, 5, 3, 3, 4, 1, 2, 2,\n",
              "       3, 1, 5, 3, 1, 0, 4, 5, 5, 5, 5, 1, 2, 3, 2, 5, 0, 2, 4, 2, 5, 4,\n",
              "       2, 0, 2, 3, 5, 2, 0, 3, 4, 4, 4, 0, 5, 5, 3, 4, 5, 3, 2, 4, 1, 5,\n",
              "       0, 5, 0, 5, 4, 0, 1, 4, 0, 2, 2, 0, 2, 4, 5, 3, 4, 5, 3, 1, 2, 2,\n",
              "       2, 1, 3, 2, 1, 2, 4, 4, 2, 1, 2, 4, 5, 1, 4, 2, 0, 4, 5, 5, 3, 1,\n",
              "       2, 1, 5, 5, 1, 2, 3, 3, 0, 3, 3, 0, 1, 0, 1, 2, 2, 5, 2, 2, 2, 1,\n",
              "       1, 0, 1, 1, 1, 4, 0, 1, 5, 1, 5, 5, 5, 4, 1, 0, 3, 5, 2, 4, 1, 4,\n",
              "       1, 3, 2, 0, 5, 5, 3, 5, 4, 5, 4, 0, 4, 1, 2, 1, 4, 0, 4, 3, 2, 1,\n",
              "       0, 3, 5, 0, 4, 5, 4, 5, 3])"
            ]
          },
          "metadata": {},
          "execution_count": 28
        }
      ]
    },
    {
      "cell_type": "code",
      "source": [
        "preds1=predictions.argmax(axis=1)\n",
        "preds1"
      ],
      "metadata": {
        "colab": {
          "base_uri": "https://localhost:8080/"
        },
        "id": "4_cAI39VFhtp",
        "outputId": "5d0aada8-ea1d-4a1e-ca59-7fe63aa517b4"
      },
      "execution_count": 29,
      "outputs": [
        {
          "output_type": "execute_result",
          "data": {
            "text/plain": [
              "array([4, 1, 2, 5, 4, 1, 2, 0, 3, 0, 3, 2, 0, 3, 3, 0, 5, 3, 2, 4, 2, 1,\n",
              "       1, 3, 2, 5, 2, 2, 3, 3, 2, 4, 2, 2, 5, 4, 1, 5, 3, 2, 5, 1, 4, 5,\n",
              "       3, 1, 5, 3, 1, 1, 4, 2, 2, 2, 4, 1, 2, 3, 2, 5, 0, 2, 3, 4, 5, 4,\n",
              "       2, 0, 2, 3, 3, 2, 0, 3, 4, 4, 4, 1, 5, 5, 3, 4, 5, 3, 2, 4, 1, 5,\n",
              "       1, 5, 0, 5, 4, 0, 1, 4, 3, 4, 2, 4, 2, 4, 5, 3, 4, 5, 5, 1, 2, 2,\n",
              "       2, 1, 3, 2, 1, 5, 4, 4, 2, 1, 5, 4, 0, 1, 4, 4, 2, 4, 4, 5, 5, 1,\n",
              "       4, 1, 5, 5, 1, 3, 3, 3, 0, 3, 3, 0, 1, 0, 1, 2, 4, 5, 2, 2, 4, 1,\n",
              "       1, 0, 1, 1, 1, 4, 0, 1, 5, 1, 5, 5, 5, 4, 1, 0, 3, 1, 2, 4, 3, 4,\n",
              "       1, 3, 1, 5, 5, 5, 3, 5, 4, 5, 4, 0, 4, 0, 2, 1, 4, 0, 4, 1, 2, 0,\n",
              "       0, 5, 5, 0, 4, 2, 4, 3, 5])"
            ]
          },
          "metadata": {},
          "execution_count": 29
        }
      ]
    },
    {
      "cell_type": "code",
      "source": [
        "abc = preds1.astype(int).flatten()"
      ],
      "metadata": {
        "id": "H4WEmM60NfQn"
      },
      "execution_count": 30,
      "outputs": []
    },
    {
      "cell_type": "code",
      "source": [
        "from sklearn.metrics import confusion_matrix\n",
        "c = confusion_matrix(new_Ytest, abc) \n",
        "c"
      ],
      "metadata": {
        "colab": {
          "base_uri": "https://localhost:8080/"
        },
        "id": "bKEBeEBlFjB8",
        "outputId": "37f281fb-1d9f-4154-c9ee-df23aad73865"
      },
      "execution_count": 31,
      "outputs": [
        {
          "output_type": "execute_result",
          "data": {
            "text/plain": [
              "array([[19,  4,  2,  2,  1,  1],\n",
              "       [ 2, 28,  0,  2,  0,  0],\n",
              "       [ 0,  1, 29,  1,  7,  3],\n",
              "       [ 0,  3,  1, 23,  0,  5],\n",
              "       [ 0,  0,  0,  1, 30,  1],\n",
              "       [ 1,  1,  5,  2,  4, 28]])"
            ]
          },
          "metadata": {},
          "execution_count": 31
        }
      ]
    },
    {
      "cell_type": "code",
      "source": [
        "y_test"
      ],
      "metadata": {
        "colab": {
          "base_uri": "https://localhost:8080/"
        },
        "id": "m4RjG7LWLSQx",
        "outputId": "c7c6efbc-ca43-4f15-87a0-cf4b30db1e05"
      },
      "execution_count": 32,
      "outputs": [
        {
          "output_type": "execute_result",
          "data": {
            "text/plain": [
              "array([5, 1, 2, 5, 4, 3, 2, 0, 3, 0, 3, 2, 0, 3, 3, 0, 5, 0, 2, 4, 0, 0,\n",
              "       1, 3, 2, 3, 2, 5, 3, 1, 2, 4, 2, 2, 5, 5, 3, 5, 3, 3, 4, 1, 2, 2,\n",
              "       3, 1, 5, 3, 1, 0, 4, 5, 5, 5, 5, 1, 2, 3, 2, 5, 0, 2, 4, 2, 5, 4,\n",
              "       2, 0, 2, 3, 5, 2, 0, 3, 4, 4, 4, 0, 5, 5, 3, 4, 5, 3, 2, 4, 1, 5,\n",
              "       0, 5, 0, 5, 4, 0, 1, 4, 0, 2, 2, 0, 2, 4, 5, 3, 4, 5, 3, 1, 2, 2,\n",
              "       2, 1, 3, 2, 1, 2, 4, 4, 2, 1, 2, 4, 5, 1, 4, 2, 0, 4, 5, 5, 3, 1,\n",
              "       2, 1, 5, 5, 1, 2, 3, 3, 0, 3, 3, 0, 1, 0, 1, 2, 2, 5, 2, 2, 2, 1,\n",
              "       1, 0, 1, 1, 1, 4, 0, 1, 5, 1, 5, 5, 5, 4, 1, 0, 3, 5, 2, 4, 1, 4,\n",
              "       1, 3, 2, 0, 5, 5, 3, 5, 4, 5, 4, 0, 4, 1, 2, 1, 4, 0, 4, 3, 2, 1,\n",
              "       0, 3, 5, 0, 4, 5, 4, 5, 3])"
            ]
          },
          "metadata": {},
          "execution_count": 32
        }
      ]
    },
    {
      "cell_type": "code",
      "source": [
        "model.save('/content/drive/My Drive/graduation project/audio/paper_code/mariam/original_500 epoch_with_valid_RMS3')\n",
        "print(\"MODEL SAVED\")"
      ],
      "metadata": {
        "colab": {
          "base_uri": "https://localhost:8080/"
        },
        "id": "lsJBNeMWDl6Z",
        "outputId": "db5a4cb9-d888-4458-c0fc-8fef5ca9c1e8"
      },
      "execution_count": 33,
      "outputs": [
        {
          "output_type": "stream",
          "name": "stdout",
          "text": [
            "INFO:tensorflow:Assets written to: /content/drive/My Drive/graduation project/audio/paper_code/mariam/original_500 epoch_with_valid_RMS3/assets\n",
            "MODEL SAVED\n"
          ]
        }
      ]
    },
    {
      "cell_type": "code",
      "source": [
        "new_model=keras.models.load_model('/content/drive/My Drive/graduation project/audio/paper_code/mariam/original_500 epoch_with_valid_RMS3')\n",
        "new_model.summary()"
      ],
      "metadata": {
        "colab": {
          "base_uri": "https://localhost:8080/"
        },
        "id": "Q3KjaO9GDoNl",
        "outputId": "b73c3eec-369f-49c2-8c49-24c275476d04"
      },
      "execution_count": 34,
      "outputs": [
        {
          "output_type": "stream",
          "name": "stdout",
          "text": [
            "Model: \"sequential\"\n",
            "_________________________________________________________________\n",
            " Layer (type)                Output Shape              Param #   \n",
            "=================================================================\n",
            " conv1d (Conv1D)             (None, 40, 128)           1152      \n",
            "                                                                 \n",
            " activation (Activation)     (None, 40, 128)           0         \n",
            "                                                                 \n",
            " dropout (Dropout)           (None, 40, 128)           0         \n",
            "                                                                 \n",
            " max_pooling1d (MaxPooling1D  (None, 8, 128)           0         \n",
            " )                                                               \n",
            "                                                                 \n",
            " conv1d_1 (Conv1D)           (None, 8, 256)            262400    \n",
            "                                                                 \n",
            " activation_1 (Activation)   (None, 8, 256)            0         \n",
            "                                                                 \n",
            " dropout_1 (Dropout)         (None, 8, 256)            0         \n",
            "                                                                 \n",
            " max_pooling1d_1 (MaxPooling  (None, 1, 256)           0         \n",
            " 1D)                                                             \n",
            "                                                                 \n",
            " flatten (Flatten)           (None, 256)               0         \n",
            "                                                                 \n",
            " dense (Dense)               (None, 256)               65792     \n",
            "                                                                 \n",
            " activation_2 (Activation)   (None, 256)               0         \n",
            "                                                                 \n",
            " dense_1 (Dense)             (None, 256)               65792     \n",
            "                                                                 \n",
            " activation_3 (Activation)   (None, 256)               0         \n",
            "                                                                 \n",
            " dense_2 (Dense)             (None, 6)                 1542      \n",
            "                                                                 \n",
            " activation_4 (Activation)   (None, 6)                 0         \n",
            "                                                                 \n",
            "=================================================================\n",
            "Total params: 396,678\n",
            "Trainable params: 396,678\n",
            "Non-trainable params: 0\n",
            "_________________________________________________________________\n"
          ]
        }
      ]
    },
    {
      "cell_type": "code",
      "source": [
        "predictions = new_model.predict(x_testcnn)"
      ],
      "metadata": {
        "id": "WOKeSzc7T-MZ"
      },
      "execution_count": 35,
      "outputs": []
    },
    {
      "cell_type": "code",
      "source": [
        "predictions"
      ],
      "metadata": {
        "colab": {
          "base_uri": "https://localhost:8080/"
        },
        "id": "3RjQxa2RUBKQ",
        "outputId": "b2ae6485-cd63-483d-a238-80911f01d464"
      },
      "execution_count": 36,
      "outputs": [
        {
          "output_type": "execute_result",
          "data": {
            "text/plain": [
              "array([[3.6945089e-03, 2.1693850e-02, 9.0481110e-02, 1.2446282e-02,\n",
              "        6.5397274e-01, 2.1771148e-01],\n",
              "       [3.6402718e-05, 9.9693573e-01, 8.7570970e-06, 1.9298944e-03,\n",
              "        1.0868990e-03, 2.2258976e-06],\n",
              "       [1.3379362e-05, 2.2191041e-04, 9.9629968e-01, 2.0174008e-05,\n",
              "        3.1681214e-03, 2.7675516e-04],\n",
              "       ...,\n",
              "       [4.3569977e-05, 5.7348927e-07, 9.3112438e-04, 1.6334870e-04,\n",
              "        9.8051810e-01, 1.8343279e-02],\n",
              "       [9.2729839e-04, 3.2178323e-05, 9.5006028e-05, 8.1418735e-01,\n",
              "        1.2861990e-04, 1.8462956e-01],\n",
              "       [1.5327862e-05, 1.0354538e-07, 2.7578392e-03, 3.1100568e-01,\n",
              "        1.4993172e-10, 6.8622100e-01]], dtype=float32)"
            ]
          },
          "metadata": {},
          "execution_count": 36
        }
      ]
    },
    {
      "cell_type": "code",
      "source": [
        "loss, acc =new_model.evaluate(x_testcnn, y_test)\n",
        "print(\"Restored model, accuracy: {:5.2f}%\".format(100*acc))"
      ],
      "metadata": {
        "colab": {
          "base_uri": "https://localhost:8080/"
        },
        "id": "n3kzoqPkDqqS",
        "outputId": "2fc9b9c7-9b43-4ae9-db22-91660d3af229"
      },
      "execution_count": 37,
      "outputs": [
        {
          "output_type": "stream",
          "name": "stdout",
          "text": [
            "7/7 [==============================] - 0s 6ms/step - loss: 0.8628 - accuracy: 0.7585\n",
            "Restored model, accuracy: 75.85%\n"
          ]
        }
      ]
    },
    {
      "cell_type": "code",
      "source": [
        "loss, acc =new_model.evaluate(X_train, y_train)\n",
        "print(\"Restored model train, accuracy: {:5.2f}%\".format(100*acc))"
      ],
      "metadata": {
        "id": "fJDTGH_OUX0z",
        "colab": {
          "base_uri": "https://localhost:8080/"
        },
        "outputId": "d2e60551-92c5-45a7-d56f-e6b98e26253b"
      },
      "execution_count": 38,
      "outputs": [
        {
          "output_type": "stream",
          "name": "stdout",
          "text": [
            "52/52 [==============================] - 0s 5ms/step - loss: 0.0660 - accuracy: 0.9873\n",
            "Restored model train, accuracy: 98.73%\n"
          ]
        }
      ]
    },
    {
      "cell_type": "code",
      "source": [
        "from sklearn.metrics import classification_report, confusion_matrix,accuracy_score\n",
        "import seaborn as sn\n",
        "\n",
        "print(classification_report(new_Ytest,abc))\n",
        "\n",
        "acc = float(accuracy_score(new_Ytest,abc))*100\n",
        "print(\"----accuracy score %s ----\" % acc)\n",
        "\n",
        "cm = confusion_matrix(new_Ytest,abc)\n",
        "#df_cm = pd.DataFrame(cm)\n",
        "class_names = ['neutral','calm', 'happy','sad','angry', 'fearful' ]\n",
        "df_cm = pd.DataFrame(cm, index=class_names, columns=class_names,)\n",
        "sn.heatmap(df_cm, annot=True, fmt='')\n",
        "plt.show()"
      ],
      "metadata": {
        "colab": {
          "base_uri": "https://localhost:8080/",
          "height": 512
        },
        "id": "SfSC3El94LZg",
        "outputId": "2cd26228-9374-4880-f6e0-c210a3255dc3"
      },
      "execution_count": 39,
      "outputs": [
        {
          "output_type": "stream",
          "name": "stdout",
          "text": [
            "              precision    recall  f1-score   support\n",
            "\n",
            "           0       0.86      0.66      0.75        29\n",
            "           1       0.76      0.88      0.81        32\n",
            "           2       0.78      0.71      0.74        41\n",
            "           3       0.74      0.72      0.73        32\n",
            "           4       0.71      0.94      0.81        32\n",
            "           5       0.74      0.68      0.71        41\n",
            "\n",
            "    accuracy                           0.76       207\n",
            "   macro avg       0.77      0.76      0.76       207\n",
            "weighted avg       0.76      0.76      0.76       207\n",
            "\n",
            "----accuracy score 75.84541062801932 ----\n"
          ]
        },
        {
          "output_type": "display_data",
          "data": {
            "image/png": "[encoded data removed]",
            "text/plain": [
              "<Figure size 432x288 with 2 Axes>"
            ]
          },
          "metadata": {
            "needs_background": "light"
          }
        }
      ]
    },
    {
      "cell_type": "code",
      "source": [
        ""
      ],
      "metadata": {
        "id": "y5OoGgupF7kU"
      },
      "execution_count": null,
      "outputs": []
    }
  ]
}