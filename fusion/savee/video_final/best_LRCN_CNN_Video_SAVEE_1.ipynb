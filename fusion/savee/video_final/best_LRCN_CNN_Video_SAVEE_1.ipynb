{
  "cells": [
    {
      "cell_type": "code",
      "execution_count": 1,
      "metadata": {
        "colab": {
          "base_uri": "https://localhost:8080/"
        },
        "id": "iC_o_HaWEBQ4",
        "outputId": "32d6ed4b-0ae1-43be-a4c9-0be38da9c0b4"
      },
      "outputs": [
        {
          "output_type": "stream",
          "name": "stdout",
          "text": [
            "Looking in indexes: https://pypi.org/simple, https://us-python.pkg.dev/colab-wheels/public/simple/\n",
            "Requirement already satisfied: tensorflow in /usr/local/lib/python3.7/dist-packages (2.8.2+zzzcolab20220527125636)\n",
            "Requirement already satisfied: opencv-contrib-python in /usr/local/lib/python3.7/dist-packages (4.1.2.30)\n",
            "Collecting youtube-dl\n",
            "  Downloading youtube_dl-2021.12.17-py2.py3-none-any.whl (1.9 MB)\n",
            "\u001b[K     |████████████████████████████████| 1.9 MB 8.3 MB/s \n",
            "\u001b[?25hRequirement already satisfied: moviepy in /usr/local/lib/python3.7/dist-packages (0.2.3.5)\n",
            "Requirement already satisfied: pydot in /usr/local/lib/python3.7/dist-packages (1.3.0)\n",
            "Requirement already satisfied: astunparse>=1.6.0 in /usr/local/lib/python3.7/dist-packages (from tensorflow) (1.6.3)\n",
            "Requirement already satisfied: flatbuffers>=1.12 in /usr/local/lib/python3.7/dist-packages (from tensorflow) (2.0)\n",
            "Requirement already satisfied: grpcio<2.0,>=1.24.3 in /usr/local/lib/python3.7/dist-packages (from tensorflow) (1.46.3)\n",
            "Requirement already satisfied: protobuf<3.20,>=3.9.2 in /usr/local/lib/python3.7/dist-packages (from tensorflow) (3.17.3)\n",
            "Requirement already satisfied: setuptools in /usr/local/lib/python3.7/dist-packages (from tensorflow) (57.4.0)\n",
            "Requirement already satisfied: wrapt>=1.11.0 in /usr/local/lib/python3.7/dist-packages (from tensorflow) (1.14.1)\n",
            "Requirement already satisfied: libclang>=9.0.1 in /usr/local/lib/python3.7/dist-packages (from tensorflow) (14.0.1)\n",
            "Requirement already satisfied: opt-einsum>=2.3.2 in /usr/local/lib/python3.7/dist-packages (from tensorflow) (3.3.0)\n",
            "Requirement already satisfied: google-pasta>=0.1.1 in /usr/local/lib/python3.7/dist-packages (from tensorflow) (0.2.0)\n",
            "Requirement already satisfied: numpy>=1.20 in /usr/local/lib/python3.7/dist-packages (from tensorflow) (1.21.6)\n",
            "Requirement already satisfied: h5py>=2.9.0 in /usr/local/lib/python3.7/dist-packages (from tensorflow) (3.1.0)\n",
            "Requirement already satisfied: keras-preprocessing>=1.1.1 in /usr/local/lib/python3.7/dist-packages (from tensorflow) (1.1.2)\n",
            "Requirement already satisfied: tensorboard<2.9,>=2.8 in /usr/local/lib/python3.7/dist-packages (from tensorflow) (2.8.0)\n",
            "Requirement already satisfied: tensorflow-io-gcs-filesystem>=0.23.1 in /usr/local/lib/python3.7/dist-packages (from tensorflow) (0.26.0)\n",
            "Requirement already satisfied: gast>=0.2.1 in /usr/local/lib/python3.7/dist-packages (from tensorflow) (0.5.3)\n",
            "Requirement already satisfied: termcolor>=1.1.0 in /usr/local/lib/python3.7/dist-packages (from tensorflow) (1.1.0)\n",
            "Requirement already satisfied: typing-extensions>=3.6.6 in /usr/local/lib/python3.7/dist-packages (from tensorflow) (4.2.0)\n",
            "Requirement already satisfied: tensorflow-estimator<2.9,>=2.8 in /usr/local/lib/python3.7/dist-packages (from tensorflow) (2.8.0)\n",
            "Requirement already satisfied: absl-py>=0.4.0 in /usr/local/lib/python3.7/dist-packages (from tensorflow) (1.1.0)\n",
            "Requirement already satisfied: six>=1.12.0 in /usr/local/lib/python3.7/dist-packages (from tensorflow) (1.15.0)\n",
            "Requirement already satisfied: keras<2.9,>=2.8.0rc0 in /usr/local/lib/python3.7/dist-packages (from tensorflow) (2.8.0)\n",
            "Requirement already satisfied: wheel<1.0,>=0.23.0 in /usr/local/lib/python3.7/dist-packages (from astunparse>=1.6.0->tensorflow) (0.37.1)\n",
            "Requirement already satisfied: cached-property in /usr/local/lib/python3.7/dist-packages (from h5py>=2.9.0->tensorflow) (1.5.2)\n",
            "Requirement already satisfied: tensorboard-plugin-wit>=1.6.0 in /usr/local/lib/python3.7/dist-packages (from tensorboard<2.9,>=2.8->tensorflow) (1.8.1)\n",
            "Requirement already satisfied: requests<3,>=2.21.0 in /usr/local/lib/python3.7/dist-packages (from tensorboard<2.9,>=2.8->tensorflow) (2.23.0)\n",
            "Requirement already satisfied: werkzeug>=0.11.15 in /usr/local/lib/python3.7/dist-packages (from tensorboard<2.9,>=2.8->tensorflow) (1.0.1)\n",
            "Requirement already satisfied: markdown>=2.6.8 in /usr/local/lib/python3.7/dist-packages (from tensorboard<2.9,>=2.8->tensorflow) (3.3.7)\n",
            "Requirement already satisfied: tensorboard-data-server<0.7.0,>=0.6.0 in /usr/local/lib/python3.7/dist-packages (from tensorboard<2.9,>=2.8->tensorflow) (0.6.1)\n",
            "Requirement already satisfied: google-auth<3,>=1.6.3 in /usr/local/lib/python3.7/dist-packages (from tensorboard<2.9,>=2.8->tensorflow) (1.35.0)\n",
            "Requirement already satisfied: google-auth-oauthlib<0.5,>=0.4.1 in /usr/local/lib/python3.7/dist-packages (from tensorboard<2.9,>=2.8->tensorflow) (0.4.6)\n",
            "Requirement already satisfied: cachetools<5.0,>=2.0.0 in /usr/local/lib/python3.7/dist-packages (from google-auth<3,>=1.6.3->tensorboard<2.9,>=2.8->tensorflow) (4.2.4)\n",
            "Requirement already satisfied: pyasn1-modules>=0.2.1 in /usr/local/lib/python3.7/dist-packages (from google-auth<3,>=1.6.3->tensorboard<2.9,>=2.8->tensorflow) (0.2.8)\n",
            "Requirement already satisfied: rsa<5,>=3.1.4 in /usr/local/lib/python3.7/dist-packages (from google-auth<3,>=1.6.3->tensorboard<2.9,>=2.8->tensorflow) (4.8)\n",
            "Requirement already satisfied: requests-oauthlib>=0.7.0 in /usr/local/lib/python3.7/dist-packages (from google-auth-oauthlib<0.5,>=0.4.1->tensorboard<2.9,>=2.8->tensorflow) (1.3.1)\n",
            "Requirement already satisfied: importlib-metadata>=4.4 in /usr/local/lib/python3.7/dist-packages (from markdown>=2.6.8->tensorboard<2.9,>=2.8->tensorflow) (4.11.4)\n",
            "Requirement already satisfied: zipp>=0.5 in /usr/local/lib/python3.7/dist-packages (from importlib-metadata>=4.4->markdown>=2.6.8->tensorboard<2.9,>=2.8->tensorflow) (3.8.0)\n",
            "Requirement already satisfied: pyasn1<0.5.0,>=0.4.6 in /usr/local/lib/python3.7/dist-packages (from pyasn1-modules>=0.2.1->google-auth<3,>=1.6.3->tensorboard<2.9,>=2.8->tensorflow) (0.4.8)\n",
            "Requirement already satisfied: certifi>=2017.4.17 in /usr/local/lib/python3.7/dist-packages (from requests<3,>=2.21.0->tensorboard<2.9,>=2.8->tensorflow) (2022.5.18.1)\n",
            "Requirement already satisfied: idna<3,>=2.5 in /usr/local/lib/python3.7/dist-packages (from requests<3,>=2.21.0->tensorboard<2.9,>=2.8->tensorflow) (2.10)\n",
            "Requirement already satisfied: urllib3!=1.25.0,!=1.25.1,<1.26,>=1.21.1 in /usr/local/lib/python3.7/dist-packages (from requests<3,>=2.21.0->tensorboard<2.9,>=2.8->tensorflow) (1.24.3)\n",
            "Requirement already satisfied: chardet<4,>=3.0.2 in /usr/local/lib/python3.7/dist-packages (from requests<3,>=2.21.0->tensorboard<2.9,>=2.8->tensorflow) (3.0.4)\n",
            "Requirement already satisfied: oauthlib>=3.0.0 in /usr/local/lib/python3.7/dist-packages (from requests-oauthlib>=0.7.0->google-auth-oauthlib<0.5,>=0.4.1->tensorboard<2.9,>=2.8->tensorflow) (3.2.0)\n",
            "Requirement already satisfied: tqdm<5.0,>=4.11.2 in /usr/local/lib/python3.7/dist-packages (from moviepy) (4.64.0)\n",
            "Requirement already satisfied: imageio<3.0,>=2.1.2 in /usr/local/lib/python3.7/dist-packages (from moviepy) (2.4.1)\n",
            "Requirement already satisfied: decorator<5.0,>=4.0.2 in /usr/local/lib/python3.7/dist-packages (from moviepy) (4.4.2)\n",
            "Requirement already satisfied: pillow in /usr/local/lib/python3.7/dist-packages (from imageio<3.0,>=2.1.2->moviepy) (7.1.2)\n",
            "Requirement already satisfied: pyparsing>=2.1.4 in /usr/local/lib/python3.7/dist-packages (from pydot) (3.0.9)\n",
            "Installing collected packages: youtube-dl\n",
            "Successfully installed youtube-dl-2021.12.17\n",
            "Looking in indexes: https://pypi.org/simple, https://us-python.pkg.dev/colab-wheels/public/simple/\n",
            "Collecting pafy\n",
            "  Cloning https://github.com/TahaAnwar/pafy.git to /tmp/pip-install-20inb9ut/pafy_c74503dbd11c443e82802965f888bbb4\n",
            "  Running command git clone -q https://github.com/TahaAnwar/pafy.git /tmp/pip-install-20inb9ut/pafy_c74503dbd11c443e82802965f888bbb4\n",
            "Building wheels for collected packages: pafy\n",
            "  Building wheel for pafy (setup.py) ... \u001b[?25l\u001b[?25hdone\n",
            "  Created wheel for pafy: filename=pafy-0.5.5-py2.py3-none-any.whl size=35706 sha256=b639ecd41bae43c490396ede07262b58261496024968bb3502de13d8a381f89d\n",
            "  Stored in directory: /tmp/pip-ephem-wheel-cache-a45doyfk/wheels/64/82/dd/3d7823b3bbbe1aca9b30f8cf0d6bb6c1b72ccd95e3360f8190\n",
            "Successfully built pafy\n",
            "Installing collected packages: pafy\n",
            "Successfully installed pafy-0.5.5\n"
          ]
        }
      ],
      "source": [
        "# Discard the output of this cell.\n",
        "#%%capture\n",
        "\n",
        "# Install the required libraries.\n",
        "!pip install tensorflow opencv-contrib-python youtube-dl moviepy pydot\n",
        "!pip install git+https://github.com/TahaAnwar/pafy.git#egg=pafy"
      ]
    },
    {
      "cell_type": "code",
      "source": [
        "from google.colab import drive\n",
        "drive.mount('/content/drive')"
      ],
      "metadata": {
        "colab": {
          "base_uri": "https://localhost:8080/"
        },
        "id": "773CUmldFLWW",
        "outputId": "9e0ef56b-f4c4-4c10-df0b-4c74e27b75fa"
      },
      "execution_count": 2,
      "outputs": [
        {
          "output_type": "stream",
          "name": "stdout",
          "text": [
            "Mounted at /content/drive\n"
          ]
        }
      ]
    },
    {
      "cell_type": "code",
      "source": [
        "# Import the required libraries.\n",
        "import os\n",
        "import cv2\n",
        "import pafy\n",
        "import math\n",
        "import random\n",
        "import numpy as np\n",
        "import datetime as dt\n",
        "import tensorflow as tf\n",
        "from collections import deque\n",
        "import matplotlib.pyplot as plt\n",
        "\n",
        "from moviepy.editor import *\n",
        "%matplotlib inline\n",
        "\n",
        "from sklearn.model_selection import train_test_split\n",
        "\n",
        "from tensorflow.keras.layers import *\n",
        "from tensorflow.keras.models import Sequential\n",
        "from tensorflow.keras.utils import to_categorical\n",
        "from tensorflow.keras.callbacks import EarlyStopping\n",
        "from tensorflow.keras.utils import plot_model"
      ],
      "metadata": {
        "id": "pI_Uxj54EZA-",
        "colab": {
          "base_uri": "https://localhost:8080/"
        },
        "outputId": "934230b4-281a-4ecc-ec28-64d5e10814a4"
      },
      "execution_count": 3,
      "outputs": [
        {
          "output_type": "stream",
          "name": "stdout",
          "text": [
            "Imageio: 'ffmpeg-linux64-v3.3.1' was not found on your computer; downloading it now.\n",
            "Try 1. Download from https://github.com/imageio/imageio-binaries/raw/master/ffmpeg/ffmpeg-linux64-v3.3.1 (43.8 MB)\n",
            "Downloading: 8192/45929032 bytes (0.0%)\b\b\b\b\b\b\b\b\b\b\b\b\b\b\b\b\b\b\b\b\b\b\b\b\b\b3211264/45929032 bytes (7.0%)\b\b\b\b\b\b\b\b\b\b\b\b\b\b\b\b\b\b\b\b\b\b\b\b\b\b\b\b\b6971392/45929032 bytes (15.2%)\b\b\b\b\b\b\b\b\b\b\b\b\b\b\b\b\b\b\b\b\b\b\b\b\b\b\b\b\b\b10641408/45929032 bytes (23.2%)\b\b\b\b\b\b\b\b\b\b\b\b\b\b\b\b\b\b\b\b\b\b\b\b\b\b\b\b\b\b\b14254080/45929032 bytes (31.0%)\b\b\b\b\b\b\b\b\b\b\b\b\b\b\b\b\b\b\b\b\b\b\b\b\b\b\b\b\b\b\b17891328/45929032 bytes (39.0%)\b\b\b\b\b\b\b\b\b\b\b\b\b\b\b\b\b\b\b\b\b\b\b\b\b\b\b\b\b\b\b21692416/45929032 bytes (47.2%)\b\b\b\b\b\b\b\b\b\b\b\b\b\b\b\b\b\b\b\b\b\b\b\b\b\b\b\b\b\b\b25485312/45929032 bytes (55.5%)\b\b\b\b\b\b\b\b\b\b\b\b\b\b\b\b\b\b\b\b\b\b\b\b\b\b\b\b\b\b\b29155328/45929032 bytes (63.5%)\b\b\b\b\b\b\b\b\b\b\b\b\b\b\b\b\b\b\b\b\b\b\b\b\b\b\b\b\b\b\b32825344/45929032 bytes (71.5%)\b\b\b\b\b\b\b\b\b\b\b\b\b\b\b\b\b\b\b\b\b\b\b\b\b\b\b\b\b\b\b36413440/45929032 bytes (79.3%)\b\b\b\b\b\b\b\b\b\b\b\b\b\b\b\b\b\b\b\b\b\b\b\b\b\b\b\b\b\b\b39952384/45929032 bytes (87.0%)\b\b\b\b\b\b\b\b\b\b\b\b\b\b\b\b\b\b\b\b\b\b\b\b\b\b\b\b\b\b\b43655168/45929032 bytes (95.0%)\b\b\b\b\b\b\b\b\b\b\b\b\b\b\b\b\b\b\b\b\b\b\b\b\b\b\b\b\b\b\b45929032/45929032 bytes (100.0%)\n",
            "  Done\n",
            "File saved as /root/.imageio/ffmpeg/ffmpeg-linux64-v3.3.1.\n"
          ]
        }
      ]
    },
    {
      "cell_type": "code",
      "source": [
        "# Specify the height and width to which each video frame will be resized in our dataset.\n",
        "IMAGE_HEIGHT , IMAGE_WIDTH = 64, 64\n",
        "\n",
        "# Specify the number of frames of a video that will be fed to the model as one sequence.\n",
        "SEQUENCE_LENGTH = 30\n",
        "\n",
        "# Specify the directory containing the UCF50 dataset. \n",
        "DATASET_DIR = \"/content/drive/MyDrive/SAVEEvideowithlabel/\"\n",
        "\n",
        "# Specify the list containing the names of the classes used for training. Feel free to choose any set of classes.\n",
        "CLASSES_LIST = [\"neutral\", \"happy\", \"sad\",\"angry\",\"fearful\"]"
      ],
      "metadata": {
        "id": "SjdIu5iUEtFT"
      },
      "execution_count": 4,
      "outputs": []
    },
    {
      "cell_type": "code",
      "source": [
        "import joblib\n",
        "path='/content/drive/My Drive/fusion/savee/audio/data_set/expert1/'\n",
        "train_path_name=joblib.load(path+'train/video_train_path')\n",
        "valid_path_name=joblib.load(path+'valid/video_valid_path')\n",
        "test_path_name=joblib.load(path+'test/video_test_path')\n",
        "\n",
        "labels_train=joblib.load(path+'train/labels_train')\n",
        "labels_valid=joblib.load(path+'valid/labels_valid')\n",
        "labels_test=joblib.load(path+'test/labels_test')\n"
      ],
      "metadata": {
        "id": "bX4U29oQ2pim"
      },
      "execution_count": 5,
      "outputs": []
    },
    {
      "cell_type": "code",
      "source": [
        "len(train_path_name),len(valid_path_name),len(test_path_name),len(labels_train),len(labels_valid),len(labels_test)"
      ],
      "metadata": {
        "colab": {
          "base_uri": "https://localhost:8080/"
        },
        "id": "h0ruZZrrBkht",
        "outputId": "ed784a37-43b0-4111-b747-a09af11a03dc"
      },
      "execution_count": 6,
      "outputs": [
        {
          "output_type": "execute_result",
          "data": {
            "text/plain": [
              "(288, 36, 36, 288, 36, 36)"
            ]
          },
          "metadata": {},
          "execution_count": 6
        }
      ]
    },
    {
      "cell_type": "code",
      "source": [
        "def frames_extraction(video_path):\n",
        "    '''\n",
        "    This function will extract the required frames from a video after resizing and normalizing them.\n",
        "    Args:\n",
        "        video_path: The path of the video in the disk, whose frames are to be extracted.\n",
        "    Returns:\n",
        "        frames_list: A list containing the resized and normalized frames of the video.\n",
        "    '''\n",
        "\n",
        "    # Declare a list to store video frames.\n",
        "    frames_list = []\n",
        "    # Read the Video File using the VideoCapture object.\n",
        "    video_reader = cv2.VideoCapture(video_path)\n",
        "\n",
        "    # Get the total number of frames in the video.\n",
        "    video_frames_count = int(video_reader.get(cv2.CAP_PROP_FRAME_COUNT))\n",
        "\n",
        "    # Calculate the the interval after which frames will be added to the list.\n",
        "    skip_frames_window = max(int(video_frames_count/SEQUENCE_LENGTH), 1)\n",
        "\n",
        "    # Iterate through the Video Frames.\n",
        "    for frame_counter in range(SEQUENCE_LENGTH):\n",
        "\n",
        "        # Set the current frame position of the video.\n",
        "        video_reader.set(cv2.CAP_PROP_POS_FRAMES, frame_counter * skip_frames_window)\n",
        "\n",
        "        # Reading the frame from the video. \n",
        "        success, frame = video_reader.read() \n",
        "\n",
        "        # Check if Video frame is not successfully read then break the loop\n",
        "        if not success:\n",
        "            break\n",
        "\n",
        "        # Resize the Frame to fixed height and width.\n",
        "        resized_frame = cv2.resize(frame, (IMAGE_HEIGHT, IMAGE_WIDTH))\n",
        "        \n",
        "        # Normalize the resized frame by dividing it with 255 so that each pixel value then lies between 0 and 1\n",
        "        normalized_frame = resized_frame / 255\n",
        "        \n",
        "        # Append the normalized frame into the frames list\n",
        "        frames_list.append(normalized_frame)\n",
        "    \n",
        "    # Release the VideoCapture object. \n",
        "    video_reader.release()\n",
        "\n",
        "    # Return the frames list.\n",
        "    return frames_list"
      ],
      "metadata": {
        "id": "FDdQgjx3wZ7I"
      },
      "execution_count": 7,
      "outputs": []
    },
    {
      "cell_type": "code",
      "source": [
        "def create_dataset(video_path):\n",
        "    '''\n",
        "    This function will extract the data of the selected classes and create the required dataset.\n",
        "    Returns:\n",
        "        features:          A list containing the extracted frames of the videos.\n",
        "        labels:            A list containing the indexes of the classes associated with the videos.\n",
        "        video_files_paths: A list containing the paths of the videos in the disk.\n",
        "    '''\n",
        "\n",
        "    # Declared Empty Lists to store the features, labels and video file path values.\n",
        "    features = []\n",
        "    #labels = []\n",
        "    #video_files_paths = []\n",
        "    #count=0\n",
        "    # Iterating through all the classes mentioned in the classes list\n",
        "    #for class_index, class_name in enumerate(CLASSES_LIST):\n",
        "    for i in video_path:   \n",
        "        # Display the name of the class whose data is being extracted.\n",
        "        #print(f'Extracting Data of Class: {class_name}')\n",
        "        \n",
        "        # Get the list of video files present in the specific class name directory.\n",
        "        #files_list = os.listdir(os.path.join(DATASET_DIR, class_name))\n",
        "        \n",
        "        # Iterate through all the files present in the files list.\n",
        "        #for file_name in files_list:\n",
        "            \n",
        "            # Get the complete video path.\n",
        "            #video_file_path = os.path.join(DATASET_DIR, class_name, file_name)\n",
        "            video_file_path=DATASET_DIR+i\n",
        "            print(video_file_path)\n",
        "            # Extract the frames of the video file.\n",
        "            frames = frames_extraction(video_file_path)\n",
        "            \n",
        "            # Check if the extracted frames are equal to the SEQUENCE_LENGTH specified above.\n",
        "            # So ignore the vides having frames less than the SEQUENCE_LENGTH.\n",
        "            if len(frames) == SEQUENCE_LENGTH:\n",
        "\n",
        "                # Append the data to their repective lists.\n",
        "                features.append(frames)\n",
        "                #labels.append(class_index)\n",
        "            \n",
        "\n",
        "    # Converting the list to numpy arrays\n",
        "    features = np.asarray(features)\n",
        "    \n",
        "    #labels = np.array(labels)  \n",
        "    \n",
        "    # Return the frames, class index, and video file path.\n",
        "    return features"
      ],
      "metadata": {
        "id": "ZsZMU8CWwidt"
      },
      "execution_count": 8,
      "outputs": []
    },
    {
      "cell_type": "code",
      "source": [
        "features_train=create_dataset(train_path_name)\n",
        "features_test=create_dataset(test_path_name)\n",
        "features_valid=create_dataset(valid_path_name)"
      ],
      "metadata": {
        "colab": {
          "base_uri": "https://localhost:8080/"
        },
        "id": "5dVZii6-wjPV",
        "outputId": "f0734349-0811-4bb8-c636-8e160775402d"
      },
      "execution_count": 9,
      "outputs": [
        {
          "output_type": "stream",
          "name": "stdout",
          "text": [
            "/content/drive/MyDrive/SAVEEvideowithlabel/angry/a15jk.avi\n",
            "/content/drive/MyDrive/SAVEEvideowithlabel/happy/h1jk.avi\n",
            "/content/drive/MyDrive/SAVEEvideowithlabel/neutral/n12dc.avi\n",
            "/content/drive/MyDrive/SAVEEvideowithlabel/happy/h4kl.avi\n",
            "/content/drive/MyDrive/SAVEEvideowithlabel/sad/sa4kl.avi\n",
            "/content/drive/MyDrive/SAVEEvideowithlabel/fearful/f10dc.avi\n",
            "/content/drive/MyDrive/SAVEEvideowithlabel/angry/a4je.avi\n",
            "/content/drive/MyDrive/SAVEEvideowithlabel/angry/a12jk.avi\n",
            "/content/drive/MyDrive/SAVEEvideowithlabel/angry/a3dc.avi\n",
            "/content/drive/MyDrive/SAVEEvideowithlabel/sad/sa15je.avi\n",
            "/content/drive/MyDrive/SAVEEvideowithlabel/sad/sa13jk.avi\n",
            "/content/drive/MyDrive/SAVEEvideowithlabel/neutral/n4dc.avi\n",
            "/content/drive/MyDrive/SAVEEvideowithlabel/happy/h1kl.avi\n",
            "/content/drive/MyDrive/SAVEEvideowithlabel/neutral/n7je.avi\n",
            "/content/drive/MyDrive/SAVEEvideowithlabel/neutral/n16jk.avi\n",
            "/content/drive/MyDrive/SAVEEvideowithlabel/neutral/n8je.avi\n",
            "/content/drive/MyDrive/SAVEEvideowithlabel/sad/sa14je.avi\n",
            "/content/drive/MyDrive/SAVEEvideowithlabel/angry/a8jk.avi\n",
            "/content/drive/MyDrive/SAVEEvideowithlabel/happy/h11dc.avi\n",
            "/content/drive/MyDrive/SAVEEvideowithlabel/happy/h13jk.avi\n",
            "/content/drive/MyDrive/SAVEEvideowithlabel/happy/h11je.avi\n",
            "/content/drive/MyDrive/SAVEEvideowithlabel/fearful/f13dc.avi\n",
            "/content/drive/MyDrive/SAVEEvideowithlabel/neutral/n26dc.avi\n",
            "/content/drive/MyDrive/SAVEEvideowithlabel/angry/a9je.avi\n",
            "/content/drive/MyDrive/SAVEEvideowithlabel/happy/h10jk.avi\n",
            "/content/drive/MyDrive/SAVEEvideowithlabel/neutral/n21jk.avi\n",
            "/content/drive/MyDrive/SAVEEvideowithlabel/sad/sa12kl.avi\n",
            "/content/drive/MyDrive/SAVEEvideowithlabel/happy/h15je.avi\n",
            "/content/drive/MyDrive/SAVEEvideowithlabel/fearful/f14dc.avi\n",
            "/content/drive/MyDrive/SAVEEvideowithlabel/neutral/n7kl.avi\n",
            "/content/drive/MyDrive/SAVEEvideowithlabel/neutral/n30je.avi\n",
            "/content/drive/MyDrive/SAVEEvideowithlabel/sad/sa3kl.avi\n",
            "/content/drive/MyDrive/SAVEEvideowithlabel/fearful/f11dc.avi\n",
            "/content/drive/MyDrive/SAVEEvideowithlabel/angry/a5jk.avi\n",
            "/content/drive/MyDrive/SAVEEvideowithlabel/neutral/n11jk.avi\n",
            "/content/drive/MyDrive/SAVEEvideowithlabel/neutral/n29kl.avi\n",
            "/content/drive/MyDrive/SAVEEvideowithlabel/sad/sa1je.avi\n",
            "/content/drive/MyDrive/SAVEEvideowithlabel/fearful/f8dc.avi\n",
            "/content/drive/MyDrive/SAVEEvideowithlabel/neutral/n10dc.avi\n",
            "/content/drive/MyDrive/SAVEEvideowithlabel/angry/a15kl.avi\n",
            "/content/drive/MyDrive/SAVEEvideowithlabel/happy/h7jk.avi\n",
            "/content/drive/MyDrive/SAVEEvideowithlabel/happy/h7je.avi\n",
            "/content/drive/MyDrive/SAVEEvideowithlabel/neutral/n6dc.avi\n",
            "/content/drive/MyDrive/SAVEEvideowithlabel/sad/sa11kl.avi\n",
            "/content/drive/MyDrive/SAVEEvideowithlabel/angry/a11jk.avi\n",
            "/content/drive/MyDrive/SAVEEvideowithlabel/happy/h12jk.avi\n",
            "/content/drive/MyDrive/SAVEEvideowithlabel/angry/a2kl.avi\n",
            "/content/drive/MyDrive/SAVEEvideowithlabel/sad/sa12dc.avi\n",
            "/content/drive/MyDrive/SAVEEvideowithlabel/neutral/n22dc.avi\n",
            "/content/drive/MyDrive/SAVEEvideowithlabel/sad/sa8kl.avi\n",
            "/content/drive/MyDrive/SAVEEvideowithlabel/neutral/n28jk.avi\n",
            "/content/drive/MyDrive/SAVEEvideowithlabel/fearful/f6je.avi\n",
            "/content/drive/MyDrive/SAVEEvideowithlabel/fearful/f3je.avi\n",
            "/content/drive/MyDrive/SAVEEvideowithlabel/neutral/n20jk.avi\n",
            "/content/drive/MyDrive/SAVEEvideowithlabel/fearful/f14kl.avi\n",
            "/content/drive/MyDrive/SAVEEvideowithlabel/angry/a2je.avi\n",
            "/content/drive/MyDrive/SAVEEvideowithlabel/happy/h8kl.avi\n",
            "/content/drive/MyDrive/SAVEEvideowithlabel/neutral/n10jk.avi\n",
            "/content/drive/MyDrive/SAVEEvideowithlabel/neutral/n11je.avi\n",
            "/content/drive/MyDrive/SAVEEvideowithlabel/angry/a10je.avi\n",
            "/content/drive/MyDrive/SAVEEvideowithlabel/neutral/n13dc.avi\n",
            "/content/drive/MyDrive/SAVEEvideowithlabel/neutral/n15je.avi\n",
            "/content/drive/MyDrive/SAVEEvideowithlabel/angry/a8kl.avi\n",
            "/content/drive/MyDrive/SAVEEvideowithlabel/sad/sa10dc.avi\n",
            "/content/drive/MyDrive/SAVEEvideowithlabel/fearful/f7kl.avi\n",
            "/content/drive/MyDrive/SAVEEvideowithlabel/angry/a14kl.avi\n",
            "/content/drive/MyDrive/SAVEEvideowithlabel/happy/h10je.avi\n",
            "/content/drive/MyDrive/SAVEEvideowithlabel/angry/a3kl.avi\n",
            "/content/drive/MyDrive/SAVEEvideowithlabel/fearful/f2dc.avi\n",
            "/content/drive/MyDrive/SAVEEvideowithlabel/happy/h2je.avi\n",
            "/content/drive/MyDrive/SAVEEvideowithlabel/neutral/n27kl.avi\n",
            "/content/drive/MyDrive/SAVEEvideowithlabel/happy/h2dc.avi\n",
            "/content/drive/MyDrive/SAVEEvideowithlabel/angry/a6jk.avi\n",
            "/content/drive/MyDrive/SAVEEvideowithlabel/happy/h5kl.avi\n",
            "/content/drive/MyDrive/SAVEEvideowithlabel/angry/a1dc.avi\n",
            "/content/drive/MyDrive/SAVEEvideowithlabel/fearful/f15jk.avi\n",
            "/content/drive/MyDrive/SAVEEvideowithlabel/sad/sa2jk.avi\n",
            "/content/drive/MyDrive/SAVEEvideowithlabel/neutral/n6kl.avi\n",
            "/content/drive/MyDrive/SAVEEvideowithlabel/angry/a4dc.avi\n",
            "/content/drive/MyDrive/SAVEEvideowithlabel/neutral/n26kl.avi\n",
            "/content/drive/MyDrive/SAVEEvideowithlabel/sad/sa1kl.avi\n",
            "/content/drive/MyDrive/SAVEEvideowithlabel/neutral/n17jk.avi\n",
            "/content/drive/MyDrive/SAVEEvideowithlabel/neutral/n27je.avi\n",
            "/content/drive/MyDrive/SAVEEvideowithlabel/angry/a10dc.avi\n",
            "/content/drive/MyDrive/SAVEEvideowithlabel/neutral/n13jk.avi\n",
            "/content/drive/MyDrive/SAVEEvideowithlabel/fearful/f2je.avi\n",
            "/content/drive/MyDrive/SAVEEvideowithlabel/sad/sa7kl.avi\n",
            "/content/drive/MyDrive/SAVEEvideowithlabel/fearful/f15kl.avi\n",
            "/content/drive/MyDrive/SAVEEvideowithlabel/fearful/f12kl.avi\n",
            "/content/drive/MyDrive/SAVEEvideowithlabel/sad/sa13je.avi\n",
            "/content/drive/MyDrive/SAVEEvideowithlabel/neutral/n14jk.avi\n",
            "/content/drive/MyDrive/SAVEEvideowithlabel/sad/sa9dc.avi\n",
            "/content/drive/MyDrive/SAVEEvideowithlabel/neutral/n8dc.avi\n",
            "/content/drive/MyDrive/SAVEEvideowithlabel/neutral/n30dc.avi\n",
            "/content/drive/MyDrive/SAVEEvideowithlabel/sad/sa2dc.avi\n",
            "/content/drive/MyDrive/SAVEEvideowithlabel/happy/h14je.avi\n",
            "/content/drive/MyDrive/SAVEEvideowithlabel/happy/h14dc.avi\n",
            "/content/drive/MyDrive/SAVEEvideowithlabel/neutral/n19kl.avi\n",
            "/content/drive/MyDrive/SAVEEvideowithlabel/neutral/n5dc.avi\n",
            "/content/drive/MyDrive/SAVEEvideowithlabel/neutral/n12kl.avi\n",
            "/content/drive/MyDrive/SAVEEvideowithlabel/happy/h10kl.avi\n",
            "/content/drive/MyDrive/SAVEEvideowithlabel/fearful/f5jk.avi\n",
            "/content/drive/MyDrive/SAVEEvideowithlabel/neutral/n24dc.avi\n",
            "/content/drive/MyDrive/SAVEEvideowithlabel/neutral/n1jk.avi\n",
            "/content/drive/MyDrive/SAVEEvideowithlabel/neutral/n4jk.avi\n",
            "/content/drive/MyDrive/SAVEEvideowithlabel/angry/a6je.avi\n",
            "/content/drive/MyDrive/SAVEEvideowithlabel/angry/a15je.avi\n",
            "/content/drive/MyDrive/SAVEEvideowithlabel/sad/sa5je.avi\n",
            "/content/drive/MyDrive/SAVEEvideowithlabel/fearful/f13kl.avi\n",
            "/content/drive/MyDrive/SAVEEvideowithlabel/fearful/f4dc.avi\n",
            "/content/drive/MyDrive/SAVEEvideowithlabel/fearful/f4je.avi\n",
            "/content/drive/MyDrive/SAVEEvideowithlabel/neutral/n21kl.avi\n",
            "/content/drive/MyDrive/SAVEEvideowithlabel/neutral/n20kl.avi\n",
            "/content/drive/MyDrive/SAVEEvideowithlabel/fearful/f9jk.avi\n",
            "/content/drive/MyDrive/SAVEEvideowithlabel/angry/a12kl.avi\n",
            "/content/drive/MyDrive/SAVEEvideowithlabel/sad/sa4je.avi\n",
            "/content/drive/MyDrive/SAVEEvideowithlabel/fearful/f7je.avi\n",
            "/content/drive/MyDrive/SAVEEvideowithlabel/sad/sa7dc.avi\n",
            "/content/drive/MyDrive/SAVEEvideowithlabel/neutral/n9jk.avi\n",
            "/content/drive/MyDrive/SAVEEvideowithlabel/fearful/f10jk.avi\n",
            "/content/drive/MyDrive/SAVEEvideowithlabel/fearful/f1dc.avi\n",
            "/content/drive/MyDrive/SAVEEvideowithlabel/neutral/n4je.avi\n",
            "/content/drive/MyDrive/SAVEEvideowithlabel/sad/sa15kl.avi\n",
            "/content/drive/MyDrive/SAVEEvideowithlabel/sad/sa11dc.avi\n",
            "/content/drive/MyDrive/SAVEEvideowithlabel/neutral/n26je.avi\n",
            "/content/drive/MyDrive/SAVEEvideowithlabel/fearful/f7jk.avi\n",
            "/content/drive/MyDrive/SAVEEvideowithlabel/neutral/n22je.avi\n",
            "/content/drive/MyDrive/SAVEEvideowithlabel/happy/h6kl.avi\n",
            "/content/drive/MyDrive/SAVEEvideowithlabel/fearful/f6dc.avi\n",
            "/content/drive/MyDrive/SAVEEvideowithlabel/neutral/n14je.avi\n",
            "/content/drive/MyDrive/SAVEEvideowithlabel/angry/a13kl.avi\n",
            "/content/drive/MyDrive/SAVEEvideowithlabel/angry/a9kl.avi\n",
            "/content/drive/MyDrive/SAVEEvideowithlabel/neutral/n16dc.avi\n",
            "/content/drive/MyDrive/SAVEEvideowithlabel/neutral/n15jk.avi\n",
            "/content/drive/MyDrive/SAVEEvideowithlabel/angry/a5kl.avi\n",
            "/content/drive/MyDrive/SAVEEvideowithlabel/angry/a11je.avi\n",
            "/content/drive/MyDrive/SAVEEvideowithlabel/happy/h1je.avi\n",
            "/content/drive/MyDrive/SAVEEvideowithlabel/neutral/n3kl.avi\n",
            "/content/drive/MyDrive/SAVEEvideowithlabel/sad/sa10kl.avi\n",
            "/content/drive/MyDrive/SAVEEvideowithlabel/sad/sa6kl.avi\n",
            "/content/drive/MyDrive/SAVEEvideowithlabel/fearful/f5kl.avi\n",
            "/content/drive/MyDrive/SAVEEvideowithlabel/angry/a9dc.avi\n",
            "/content/drive/MyDrive/SAVEEvideowithlabel/happy/h12dc.avi\n",
            "/content/drive/MyDrive/SAVEEvideowithlabel/happy/h12je.avi\n",
            "/content/drive/MyDrive/SAVEEvideowithlabel/fearful/f2kl.avi\n",
            "/content/drive/MyDrive/SAVEEvideowithlabel/fearful/f6jk.avi\n",
            "/content/drive/MyDrive/SAVEEvideowithlabel/angry/a7dc.avi\n",
            "/content/drive/MyDrive/SAVEEvideowithlabel/fearful/f3dc.avi\n",
            "/content/drive/MyDrive/SAVEEvideowithlabel/angry/a8dc.avi\n",
            "/content/drive/MyDrive/SAVEEvideowithlabel/angry/a1kl.avi\n",
            "/content/drive/MyDrive/SAVEEvideowithlabel/neutral/n1dc.avi\n",
            "/content/drive/MyDrive/SAVEEvideowithlabel/happy/h6je.avi\n",
            "/content/drive/MyDrive/SAVEEvideowithlabel/fearful/f1je.avi\n",
            "/content/drive/MyDrive/SAVEEvideowithlabel/neutral/n5jk.avi\n",
            "/content/drive/MyDrive/SAVEEvideowithlabel/neutral/n6jk.avi\n",
            "/content/drive/MyDrive/SAVEEvideowithlabel/happy/h15jk.avi\n",
            "/content/drive/MyDrive/SAVEEvideowithlabel/neutral/n21dc.avi\n",
            "/content/drive/MyDrive/SAVEEvideowithlabel/fearful/f3kl.avi\n",
            "/content/drive/MyDrive/SAVEEvideowithlabel/neutral/n23jk.avi\n",
            "/content/drive/MyDrive/SAVEEvideowithlabel/fearful/f12dc.avi\n",
            "/content/drive/MyDrive/SAVEEvideowithlabel/angry/a5je.avi\n",
            "/content/drive/MyDrive/SAVEEvideowithlabel/fearful/f7dc.avi\n",
            "/content/drive/MyDrive/SAVEEvideowithlabel/sad/sa3je.avi\n",
            "/content/drive/MyDrive/SAVEEvideowithlabel/angry/a6dc.avi\n",
            "/content/drive/MyDrive/SAVEEvideowithlabel/angry/a13jk.avi\n",
            "/content/drive/MyDrive/SAVEEvideowithlabel/neutral/n25kl.avi\n",
            "/content/drive/MyDrive/SAVEEvideowithlabel/fearful/f5dc.avi\n",
            "/content/drive/MyDrive/SAVEEvideowithlabel/neutral/n29jk.avi\n",
            "/content/drive/MyDrive/SAVEEvideowithlabel/sad/sa6jk.avi\n",
            "/content/drive/MyDrive/SAVEEvideowithlabel/sad/sa2je.avi\n",
            "/content/drive/MyDrive/SAVEEvideowithlabel/sad/sa6je.avi\n",
            "/content/drive/MyDrive/SAVEEvideowithlabel/fearful/f1jk.avi\n",
            "/content/drive/MyDrive/SAVEEvideowithlabel/neutral/n5kl.avi\n",
            "/content/drive/MyDrive/SAVEEvideowithlabel/sad/sa12jk.avi\n",
            "/content/drive/MyDrive/SAVEEvideowithlabel/neutral/n1kl.avi\n",
            "/content/drive/MyDrive/SAVEEvideowithlabel/neutral/n27jk.avi\n",
            "/content/drive/MyDrive/SAVEEvideowithlabel/fearful/f1kl.avi\n",
            "/content/drive/MyDrive/SAVEEvideowithlabel/happy/h6dc.avi\n",
            "/content/drive/MyDrive/SAVEEvideowithlabel/sad/sa14kl.avi\n",
            "/content/drive/MyDrive/SAVEEvideowithlabel/neutral/n7dc.avi\n",
            "/content/drive/MyDrive/SAVEEvideowithlabel/neutral/n13je.avi\n",
            "/content/drive/MyDrive/SAVEEvideowithlabel/happy/h13kl.avi\n",
            "/content/drive/MyDrive/SAVEEvideowithlabel/angry/a4jk.avi\n",
            "/content/drive/MyDrive/SAVEEvideowithlabel/sad/sa13kl.avi\n",
            "/content/drive/MyDrive/SAVEEvideowithlabel/happy/h2jk.avi\n",
            "/content/drive/MyDrive/SAVEEvideowithlabel/neutral/n18dc.avi\n",
            "/content/drive/MyDrive/SAVEEvideowithlabel/neutral/n22jk.avi\n",
            "/content/drive/MyDrive/SAVEEvideowithlabel/angry/a15dc.avi\n",
            "/content/drive/MyDrive/SAVEEvideowithlabel/neutral/n18je.avi\n",
            "/content/drive/MyDrive/SAVEEvideowithlabel/angry/a7je.avi\n",
            "/content/drive/MyDrive/SAVEEvideowithlabel/happy/h7dc.avi\n",
            "/content/drive/MyDrive/SAVEEvideowithlabel/fearful/f8je.avi\n",
            "/content/drive/MyDrive/SAVEEvideowithlabel/happy/h15kl.avi\n",
            "/content/drive/MyDrive/SAVEEvideowithlabel/angry/a1jk.avi\n",
            "/content/drive/MyDrive/SAVEEvideowithlabel/neutral/n29je.avi\n",
            "/content/drive/MyDrive/SAVEEvideowithlabel/fearful/f6kl.avi\n",
            "/content/drive/MyDrive/SAVEEvideowithlabel/neutral/n16kl.avi\n",
            "/content/drive/MyDrive/SAVEEvideowithlabel/neutral/n8kl.avi\n",
            "/content/drive/MyDrive/SAVEEvideowithlabel/angry/a3je.avi\n",
            "/content/drive/MyDrive/SAVEEvideowithlabel/neutral/n25je.avi\n",
            "/content/drive/MyDrive/SAVEEvideowithlabel/happy/h14kl.avi\n",
            "/content/drive/MyDrive/SAVEEvideowithlabel/neutral/n4kl.avi\n",
            "/content/drive/MyDrive/SAVEEvideowithlabel/sad/sa11je.avi\n",
            "/content/drive/MyDrive/SAVEEvideowithlabel/neutral/n23je.avi\n",
            "/content/drive/MyDrive/SAVEEvideowithlabel/angry/a12dc.avi\n",
            "/content/drive/MyDrive/SAVEEvideowithlabel/fearful/f3jk.avi\n",
            "/content/drive/MyDrive/SAVEEvideowithlabel/sad/sa7je.avi\n",
            "/content/drive/MyDrive/SAVEEvideowithlabel/sad/sa9je.avi\n",
            "/content/drive/MyDrive/SAVEEvideowithlabel/angry/a11dc.avi\n",
            "/content/drive/MyDrive/SAVEEvideowithlabel/sad/sa15dc.avi\n",
            "/content/drive/MyDrive/SAVEEvideowithlabel/happy/h9dc.avi\n",
            "/content/drive/MyDrive/SAVEEvideowithlabel/neutral/n2dc.avi\n",
            "/content/drive/MyDrive/SAVEEvideowithlabel/sad/sa14dc.avi\n",
            "/content/drive/MyDrive/SAVEEvideowithlabel/happy/h14jk.avi\n",
            "/content/drive/MyDrive/SAVEEvideowithlabel/fearful/f14jk.avi\n",
            "/content/drive/MyDrive/SAVEEvideowithlabel/neutral/n9je.avi\n",
            "/content/drive/MyDrive/SAVEEvideowithlabel/neutral/n28dc.avi\n",
            "/content/drive/MyDrive/SAVEEvideowithlabel/sad/sa9kl.avi\n",
            "/content/drive/MyDrive/SAVEEvideowithlabel/fearful/f9je.avi\n",
            "/content/drive/MyDrive/SAVEEvideowithlabel/angry/a7kl.avi\n",
            "/content/drive/MyDrive/SAVEEvideowithlabel/neutral/n13kl.avi\n",
            "/content/drive/MyDrive/SAVEEvideowithlabel/neutral/n2kl.avi\n",
            "/content/drive/MyDrive/SAVEEvideowithlabel/sad/sa5jk.avi\n",
            "/content/drive/MyDrive/SAVEEvideowithlabel/fearful/f8jk.avi\n",
            "/content/drive/MyDrive/SAVEEvideowithlabel/sad/sa3dc.avi\n",
            "/content/drive/MyDrive/SAVEEvideowithlabel/neutral/n2jk.avi\n",
            "/content/drive/MyDrive/SAVEEvideowithlabel/neutral/n21je.avi\n",
            "/content/drive/MyDrive/SAVEEvideowithlabel/sad/sa3jk.avi\n",
            "/content/drive/MyDrive/SAVEEvideowithlabel/happy/h5jk.avi\n",
            "/content/drive/MyDrive/SAVEEvideowithlabel/angry/a7jk.avi\n",
            "/content/drive/MyDrive/SAVEEvideowithlabel/happy/h11jk.avi\n",
            "/content/drive/MyDrive/SAVEEvideowithlabel/neutral/n10kl.avi\n",
            "/content/drive/MyDrive/SAVEEvideowithlabel/happy/h12kl.avi\n",
            "/content/drive/MyDrive/SAVEEvideowithlabel/happy/h5je.avi\n",
            "/content/drive/MyDrive/SAVEEvideowithlabel/neutral/n20dc.avi\n",
            "/content/drive/MyDrive/SAVEEvideowithlabel/sad/sa5kl.avi\n",
            "/content/drive/MyDrive/SAVEEvideowithlabel/happy/h1dc.avi\n",
            "/content/drive/MyDrive/SAVEEvideowithlabel/sad/sa9jk.avi\n",
            "/content/drive/MyDrive/SAVEEvideowithlabel/angry/a11kl.avi\n",
            "/content/drive/MyDrive/SAVEEvideowithlabel/fearful/f5je.avi\n",
            "/content/drive/MyDrive/SAVEEvideowithlabel/neutral/n29dc.avi\n",
            "/content/drive/MyDrive/SAVEEvideowithlabel/happy/h3kl.avi\n",
            "/content/drive/MyDrive/SAVEEvideowithlabel/happy/h13dc.avi\n",
            "/content/drive/MyDrive/SAVEEvideowithlabel/neutral/n18kl.avi\n",
            "/content/drive/MyDrive/SAVEEvideowithlabel/happy/h4dc.avi\n",
            "/content/drive/MyDrive/SAVEEvideowithlabel/happy/h3dc.avi\n",
            "/content/drive/MyDrive/SAVEEvideowithlabel/neutral/n19dc.avi\n",
            "/content/drive/MyDrive/SAVEEvideowithlabel/fearful/f15dc.avi\n",
            "/content/drive/MyDrive/SAVEEvideowithlabel/neutral/n17dc.avi\n",
            "/content/drive/MyDrive/SAVEEvideowithlabel/happy/h7kl.avi\n",
            "/content/drive/MyDrive/SAVEEvideowithlabel/neutral/n14kl.avi\n",
            "/content/drive/MyDrive/SAVEEvideowithlabel/fearful/f13je.avi\n",
            "/content/drive/MyDrive/SAVEEvideowithlabel/fearful/f4kl.avi\n",
            "/content/drive/MyDrive/SAVEEvideowithlabel/neutral/n7jk.avi\n",
            "/content/drive/MyDrive/SAVEEvideowithlabel/angry/a13je.avi\n",
            "/content/drive/MyDrive/SAVEEvideowithlabel/angry/a5dc.avi\n",
            "/content/drive/MyDrive/SAVEEvideowithlabel/neutral/n17je.avi\n",
            "/content/drive/MyDrive/SAVEEvideowithlabel/sad/sa4jk.avi\n",
            "/content/drive/MyDrive/SAVEEvideowithlabel/fearful/f9dc.avi\n",
            "/content/drive/MyDrive/SAVEEvideowithlabel/sad/sa10jk.avi\n",
            "/content/drive/MyDrive/SAVEEvideowithlabel/neutral/n9dc.avi\n",
            "/content/drive/MyDrive/SAVEEvideowithlabel/happy/h6jk.avi\n",
            "/content/drive/MyDrive/SAVEEvideowithlabel/fearful/f11jk.avi\n",
            "/content/drive/MyDrive/SAVEEvideowithlabel/happy/h15dc.avi\n",
            "/content/drive/MyDrive/SAVEEvideowithlabel/neutral/n18jk.avi\n",
            "/content/drive/MyDrive/SAVEEvideowithlabel/sad/sa7jk.avi\n",
            "/content/drive/MyDrive/SAVEEvideowithlabel/fearful/f9kl.avi\n",
            "/content/drive/MyDrive/SAVEEvideowithlabel/happy/h3jk.avi\n",
            "/content/drive/MyDrive/SAVEEvideowithlabel/neutral/n3je.avi\n",
            "/content/drive/MyDrive/SAVEEvideowithlabel/neutral/n11dc.avi\n",
            "/content/drive/MyDrive/SAVEEvideowithlabel/happy/h4jk.avi\n",
            "/content/drive/MyDrive/SAVEEvideowithlabel/neutral/n3jk.avi\n",
            "/content/drive/MyDrive/SAVEEvideowithlabel/sad/sa8je.avi\n",
            "/content/drive/MyDrive/SAVEEvideowithlabel/sad/sa12je.avi\n",
            "/content/drive/MyDrive/SAVEEvideowithlabel/angry/a3jk.avi\n",
            "/content/drive/MyDrive/SAVEEvideowithlabel/neutral/n19je.avi\n",
            "/content/drive/MyDrive/SAVEEvideowithlabel/sad/sa14jk.avi\n",
            "/content/drive/MyDrive/SAVEEvideowithlabel/fearful/f11je.avi\n",
            "/content/drive/MyDrive/SAVEEvideowithlabel/neutral/n12je.avi\n",
            "/content/drive/MyDrive/SAVEEvideowithlabel/neutral/n28je.avi\n",
            "/content/drive/MyDrive/SAVEEvideowithlabel/happy/h8je.avi\n",
            "/content/drive/MyDrive/SAVEEvideowithlabel/neutral/n3dc.avi\n",
            "/content/drive/MyDrive/SAVEEvideowithlabel/happy/h5dc.avi\n",
            "/content/drive/MyDrive/SAVEEvideowithlabel/angry/a12je.avi\n",
            "/content/drive/MyDrive/SAVEEvideowithlabel/neutral/n26jk.avi\n",
            "/content/drive/MyDrive/SAVEEvideowithlabel/happy/h11kl.avi\n",
            "/content/drive/MyDrive/SAVEEvideowithlabel/fearful/f4jk.avi\n",
            "/content/drive/MyDrive/SAVEEvideowithlabel/angry/a6kl.avi\n",
            "/content/drive/MyDrive/SAVEEvideowithlabel/neutral/n30jk.avi\n",
            "/content/drive/MyDrive/SAVEEvideowithlabel/angry/a13dc.avi\n",
            "/content/drive/MyDrive/SAVEEvideowithlabel/sad/sa6dc.avi\n",
            "/content/drive/MyDrive/SAVEEvideowithlabel/neutral/n11kl.avi\n",
            "/content/drive/MyDrive/SAVEEvideowithlabel/neutral/n8jk.avi\n",
            "/content/drive/MyDrive/SAVEEvideowithlabel/happy/h8jk.avi\n",
            "/content/drive/MyDrive/SAVEEvideowithlabel/sad/sa13dc.avi\n",
            "/content/drive/MyDrive/SAVEEvideowithlabel/neutral/n30kl.avi\n",
            "/content/drive/MyDrive/SAVEEvideowithlabel/neutral/n25dc.avi\n",
            "/content/drive/MyDrive/SAVEEvideowithlabel/neutral/n22kl.avi\n",
            "/content/drive/MyDrive/SAVEEvideowithlabel/sad/sa2kl.avi\n",
            "/content/drive/MyDrive/SAVEEvideowithlabel/neutral/n23dc.avi\n",
            "/content/drive/MyDrive/SAVEEvideowithlabel/fearful/f11kl.avi\n",
            "/content/drive/MyDrive/SAVEEvideowithlabel/happy/h4je.avi\n",
            "/content/drive/MyDrive/SAVEEvideowithlabel/neutral/n25jk.avi\n",
            "/content/drive/MyDrive/SAVEEvideowithlabel/angry/a14jk.avi\n",
            "/content/drive/MyDrive/SAVEEvideowithlabel/angry/a2jk.avi\n",
            "/content/drive/MyDrive/SAVEEvideowithlabel/neutral/n24jk.avi\n",
            "/content/drive/MyDrive/SAVEEvideowithlabel/neutral/n1je.avi\n",
            "/content/drive/MyDrive/SAVEEvideowithlabel/neutral/n17kl.avi\n",
            "/content/drive/MyDrive/SAVEEvideowithlabel/neutral/n6je.avi\n",
            "/content/drive/MyDrive/SAVEEvideowithlabel/happy/h9kl.avi\n",
            "/content/drive/MyDrive/SAVEEvideowithlabel/fearful/f13jk.avi\n",
            "/content/drive/MyDrive/SAVEEvideowithlabel/angry/a8je.avi\n",
            "/content/drive/MyDrive/SAVEEvideowithlabel/neutral/n28kl.avi\n",
            "/content/drive/MyDrive/SAVEEvideowithlabel/happy/h13je.avi\n",
            "/content/drive/MyDrive/SAVEEvideowithlabel/neutral/n15kl.avi\n",
            "/content/drive/MyDrive/SAVEEvideowithlabel/neutral/n20je.avi\n",
            "/content/drive/MyDrive/SAVEEvideowithlabel/angry/a14dc.avi\n",
            "/content/drive/MyDrive/SAVEEvideowithlabel/happy/h3je.avi\n",
            "/content/drive/MyDrive/SAVEEvideowithlabel/neutral/n24je.avi\n",
            "/content/drive/MyDrive/SAVEEvideowithlabel/neutral/n9kl.avi\n",
            "/content/drive/MyDrive/SAVEEvideowithlabel/angry/a10kl.avi\n",
            "/content/drive/MyDrive/SAVEEvideowithlabel/neutral/n15dc.avi\n",
            "/content/drive/MyDrive/SAVEEvideowithlabel/sad/sa1jk.avi\n",
            "/content/drive/MyDrive/SAVEEvideowithlabel/sad/sa4dc.avi\n",
            "/content/drive/MyDrive/SAVEEvideowithlabel/sad/sa10je.avi\n",
            "/content/drive/MyDrive/SAVEEvideowithlabel/sad/sa8dc.avi\n",
            "/content/drive/MyDrive/SAVEEvideowithlabel/neutral/n16je.avi\n",
            "/content/drive/MyDrive/SAVEEvideowithlabel/neutral/n12jk.avi\n",
            "/content/drive/MyDrive/SAVEEvideowithlabel/angry/a9jk.avi\n",
            "/content/drive/MyDrive/SAVEEvideowithlabel/fearful/f10kl.avi\n",
            "/content/drive/MyDrive/SAVEEvideowithlabel/fearful/f2jk.avi\n",
            "/content/drive/MyDrive/SAVEEvideowithlabel/sad/sa5dc.avi\n",
            "/content/drive/MyDrive/SAVEEvideowithlabel/angry/a2dc.avi\n",
            "/content/drive/MyDrive/SAVEEvideowithlabel/neutral/n2je.avi\n",
            "/content/drive/MyDrive/SAVEEvideowithlabel/sad/sa8jk.avi\n",
            "/content/drive/MyDrive/SAVEEvideowithlabel/angry/a14je.avi\n",
            "/content/drive/MyDrive/SAVEEvideowithlabel/fearful/f15je.avi\n",
            "/content/drive/MyDrive/SAVEEvideowithlabel/fearful/f14je.avi\n",
            "/content/drive/MyDrive/SAVEEvideowithlabel/sad/sa11jk.avi\n",
            "/content/drive/MyDrive/SAVEEvideowithlabel/fearful/f12je.avi\n",
            "/content/drive/MyDrive/SAVEEvideowithlabel/neutral/n14dc.avi\n",
            "/content/drive/MyDrive/SAVEEvideowithlabel/happy/h9je.avi\n",
            "/content/drive/MyDrive/SAVEEvideowithlabel/sad/sa15jk.avi\n",
            "/content/drive/MyDrive/SAVEEvideowithlabel/neutral/n24kl.avi\n",
            "/content/drive/MyDrive/SAVEEvideowithlabel/happy/h2kl.avi\n",
            "/content/drive/MyDrive/SAVEEvideowithlabel/sad/sa1dc.avi\n",
            "/content/drive/MyDrive/SAVEEvideowithlabel/angry/a10jk.avi\n",
            "/content/drive/MyDrive/SAVEEvideowithlabel/angry/a4kl.avi\n",
            "/content/drive/MyDrive/SAVEEvideowithlabel/fearful/f8kl.avi\n",
            "/content/drive/MyDrive/SAVEEvideowithlabel/neutral/n27dc.avi\n",
            "/content/drive/MyDrive/SAVEEvideowithlabel/neutral/n23kl.avi\n",
            "/content/drive/MyDrive/SAVEEvideowithlabel/angry/a1je.avi\n",
            "/content/drive/MyDrive/SAVEEvideowithlabel/fearful/f10je.avi\n",
            "/content/drive/MyDrive/SAVEEvideowithlabel/neutral/n10je.avi\n",
            "/content/drive/MyDrive/SAVEEvideowithlabel/fearful/f12jk.avi\n",
            "/content/drive/MyDrive/SAVEEvideowithlabel/neutral/n19jk.avi\n",
            "/content/drive/MyDrive/SAVEEvideowithlabel/happy/h9jk.avi\n",
            "/content/drive/MyDrive/SAVEEvideowithlabel/happy/h8dc.avi\n",
            "/content/drive/MyDrive/SAVEEvideowithlabel/neutral/n5je.avi\n",
            "/content/drive/MyDrive/SAVEEvideowithlabel/happy/h10dc.avi\n"
          ]
        }
      ]
    },
    {
      "cell_type": "code",
      "source": [
        "labels_train = np.array(labels_train)\n",
        "labels_test = np.array(labels_test)\n",
        "labels_valid = np.array(labels_valid)"
      ],
      "metadata": {
        "id": "YSRZYFTZckym"
      },
      "execution_count": 10,
      "outputs": []
    },
    {
      "cell_type": "code",
      "source": [
        "features_train.shape,features_test.shape,features_valid.shape"
      ],
      "metadata": {
        "colab": {
          "base_uri": "https://localhost:8080/"
        },
        "id": "MU9jM0FlE-aH",
        "outputId": "3aba3f82-4db7-4f60-a0d5-1b074c0c9bde"
      },
      "execution_count": 11,
      "outputs": [
        {
          "output_type": "execute_result",
          "data": {
            "text/plain": [
              "((288, 30, 64, 64, 3), (36, 30, 64, 64, 3), (36, 30, 64, 64, 3))"
            ]
          },
          "metadata": {},
          "execution_count": 11
        }
      ]
    },
    {
      "cell_type": "code",
      "source": [
        "labels_train.shape,labels_test.shape,labels_valid.shape"
      ],
      "metadata": {
        "colab": {
          "base_uri": "https://localhost:8080/"
        },
        "id": "kr5PJu0KdER-",
        "outputId": "27d2146c-13e7-4068-f914-fcdc83180e6e"
      },
      "execution_count": 12,
      "outputs": [
        {
          "output_type": "execute_result",
          "data": {
            "text/plain": [
              "((288,), (36,), (36,))"
            ]
          },
          "metadata": {},
          "execution_count": 12
        }
      ]
    },
    {
      "cell_type": "code",
      "source": [
        "labels_train = to_categorical(labels_train)\n",
        "labels_test = to_categorical(labels_test)\n",
        "labels_valid = to_categorical(labels_valid)"
      ],
      "metadata": {
        "id": "t6-P1EP9sDPD"
      },
      "execution_count": 13,
      "outputs": []
    },
    {
      "cell_type": "code",
      "source": [
        "labels_train.shape,labels_test.shape,labels_valid.shape"
      ],
      "metadata": {
        "colab": {
          "base_uri": "https://localhost:8080/"
        },
        "id": "8j-GrkZ2sVjU",
        "outputId": "1c51b328-0505-49d8-fefd-569ae9c5a716"
      },
      "execution_count": 14,
      "outputs": [
        {
          "output_type": "execute_result",
          "data": {
            "text/plain": [
              "((288, 5), (36, 5), (36, 5))"
            ]
          },
          "metadata": {},
          "execution_count": 14
        }
      ]
    },
    {
      "cell_type": "code",
      "source": [
        "def create_LRCN_model():\n",
        "    '''\n",
        "    This function will construct the required LRCN model.\n",
        "    Returns:\n",
        "        model: It is the required constructed LRCN model.\n",
        "    '''\n",
        "\n",
        "    # We will use a Sequential model for model construction.\n",
        "    model = Sequential()\n",
        "   \n",
        "    # Define the Model Architecture.\n",
        "    ########################################################################################################################\n",
        "    \n",
        "    model.add(TimeDistributed(Conv2D(16, (5, 5), padding='same'),\n",
        "                              input_shape = (SEQUENCE_LENGTH, IMAGE_HEIGHT, IMAGE_WIDTH, 3)))\n",
        "    model.add(TimeDistributed(BatchNormalization()))\n",
        "    model.add(TimeDistributed(Activation('relu')))\n",
        "    model.add(TimeDistributed(MaxPooling2D((4, 4)))) \n",
        "    model.add(TimeDistributed(Dropout(0.1)))\n",
        "    \n",
        "    model.add(TimeDistributed(Conv2D(32, (5, 5), padding='same')))\n",
        "    model.add(TimeDistributed(BatchNormalization()))\n",
        "    model.add(TimeDistributed(Activation('relu')))\n",
        "    model.add(TimeDistributed(MaxPooling2D((4, 4))))\n",
        "    model.add(TimeDistributed(Dropout(0.2)))\n",
        "    \n",
        "    model.add(TimeDistributed(Conv2D(64, (5, 5), padding='same')))\n",
        "    model.add(TimeDistributed(BatchNormalization()))\n",
        "    model.add(TimeDistributed(Activation('relu')))\n",
        "    model.add(TimeDistributed(MaxPooling2D((2, 2))))\n",
        "    model.add(TimeDistributed(Dropout(0.3)))\n",
        "    \n",
        "    model.add(TimeDistributed(Conv2D(64, (5, 5), padding='same')))\n",
        "    model.add(TimeDistributed(BatchNormalization()))\n",
        "    model.add(TimeDistributed(Activation('relu')))\n",
        "    model.add(TimeDistributed(MaxPooling2D((2, 2))))\n",
        "    #model.add(TimeDistributed(Dropout(0.25)))\n",
        "                                      \n",
        "    model.add(TimeDistributed(Flatten()))\n",
        "                                      \n",
        "    model.add(LSTM(64))\n",
        "                                      \n",
        "    model.add(Dense(len(CLASSES_LIST), activation = 'softmax'))\n",
        "\n",
        "    ########################################################################################################################\n",
        "\n",
        "    # Display the models summary.\n",
        "    model.summary()\n",
        "    \n",
        "    # Return the constructed LRCN model.\n",
        "    return model\n"
      ],
      "metadata": {
        "id": "4WmDntbuFEzc"
      },
      "execution_count": 15,
      "outputs": []
    },
    {
      "cell_type": "code",
      "source": [
        "# Construct the required LRCN model.\n",
        "LRCN_model = create_LRCN_model()\n",
        "\n",
        "# Display the success message.\n",
        "print(\"Model Created Successfully!\")\n"
      ],
      "metadata": {
        "colab": {
          "base_uri": "https://localhost:8080/"
        },
        "id": "2Mjr6pjzFOkd",
        "outputId": "ea4e6f4b-adf5-4fd1-b615-fd76eecc0802"
      },
      "execution_count": 16,
      "outputs": [
        {
          "output_type": "stream",
          "name": "stdout",
          "text": [
            "Model: \"sequential\"\n",
            "_________________________________________________________________\n",
            " Layer (type)                Output Shape              Param #   \n",
            "=================================================================\n",
            " time_distributed (TimeDistr  (None, 30, 64, 64, 16)   1216      \n",
            " ibuted)                                                         \n",
            "                                                                 \n",
            " time_distributed_1 (TimeDis  (None, 30, 64, 64, 16)   64        \n",
            " tributed)                                                       \n",
            "                                                                 \n",
            " time_distributed_2 (TimeDis  (None, 30, 64, 64, 16)   0         \n",
            " tributed)                                                       \n",
            "                                                                 \n",
            " time_distributed_3 (TimeDis  (None, 30, 16, 16, 16)   0         \n",
            " tributed)                                                       \n",
            "                                                                 \n",
            " time_distributed_4 (TimeDis  (None, 30, 16, 16, 16)   0         \n",
            " tributed)                                                       \n",
            "                                                                 \n",
            " time_distributed_5 (TimeDis  (None, 30, 16, 16, 32)   12832     \n",
            " tributed)                                                       \n",
            "                                                                 \n",
            " time_distributed_6 (TimeDis  (None, 30, 16, 16, 32)   128       \n",
            " tributed)                                                       \n",
            "                                                                 \n",
            " time_distributed_7 (TimeDis  (None, 30, 16, 16, 32)   0         \n",
            " tributed)                                                       \n",
            "                                                                 \n",
            " time_distributed_8 (TimeDis  (None, 30, 4, 4, 32)     0         \n",
            " tributed)                                                       \n",
            "                                                                 \n",
            " time_distributed_9 (TimeDis  (None, 30, 4, 4, 32)     0         \n",
            " tributed)                                                       \n",
            "                                                                 \n",
            " time_distributed_10 (TimeDi  (None, 30, 4, 4, 64)     51264     \n",
            " stributed)                                                      \n",
            "                                                                 \n",
            " time_distributed_11 (TimeDi  (None, 30, 4, 4, 64)     256       \n",
            " stributed)                                                      \n",
            "                                                                 \n",
            " time_distributed_12 (TimeDi  (None, 30, 4, 4, 64)     0         \n",
            " stributed)                                                      \n",
            "                                                                 \n",
            " time_distributed_13 (TimeDi  (None, 30, 2, 2, 64)     0         \n",
            " stributed)                                                      \n",
            "                                                                 \n",
            " time_distributed_14 (TimeDi  (None, 30, 2, 2, 64)     0         \n",
            " stributed)                                                      \n",
            "                                                                 \n",
            " time_distributed_15 (TimeDi  (None, 30, 2, 2, 64)     102464    \n",
            " stributed)                                                      \n",
            "                                                                 \n",
            " time_distributed_16 (TimeDi  (None, 30, 2, 2, 64)     256       \n",
            " stributed)                                                      \n",
            "                                                                 \n",
            " time_distributed_17 (TimeDi  (None, 30, 2, 2, 64)     0         \n",
            " stributed)                                                      \n",
            "                                                                 \n",
            " time_distributed_18 (TimeDi  (None, 30, 1, 1, 64)     0         \n",
            " stributed)                                                      \n",
            "                                                                 \n",
            " time_distributed_19 (TimeDi  (None, 30, 64)           0         \n",
            " stributed)                                                      \n",
            "                                                                 \n",
            " lstm (LSTM)                 (None, 64)                33024     \n",
            "                                                                 \n",
            " dense (Dense)               (None, 5)                 325       \n",
            "                                                                 \n",
            "=================================================================\n",
            "Total params: 201,829\n",
            "Trainable params: 201,477\n",
            "Non-trainable params: 352\n",
            "_________________________________________________________________\n",
            "Model Created Successfully!\n"
          ]
        }
      ]
    },
    {
      "cell_type": "code",
      "source": [
        "\n",
        "# Create an Instance of Early Stopping Callback.\n",
        "early_stopping_callback = EarlyStopping(monitor = 'val_loss', patience = 25, mode = 'min', restore_best_weights = True)\n",
        " \n",
        "# Compile the model and specify loss function, optimizer and metrics to the model.\n",
        "LRCN_model.compile(loss = 'categorical_crossentropy', optimizer = 'Adam', metrics = [\"accuracy\"])\n",
        "\n",
        "# Start training the model.\n",
        "LRCN_model_training_history = LRCN_model.fit(x = features_train, y = labels_train, epochs = 100, batch_size = 4 ,\n",
        "                                             shuffle = True, validation_data =(features_valid,labels_valid), callbacks = [early_stopping_callback])"
      ],
      "metadata": {
        "colab": {
          "base_uri": "https://localhost:8080/"
        },
        "id": "dvXcqO0TFRzR",
        "outputId": "633e7b63-a7d5-4355-b5e8-1d2a0b13d902"
      },
      "execution_count": 17,
      "outputs": [
        {
          "output_type": "stream",
          "name": "stdout",
          "text": [
            "Epoch 1/100\n",
            "72/72 [==============================] - 16s 24ms/step - loss: 1.6347 - accuracy: 0.2882 - val_loss: 1.5862 - val_accuracy: 0.2778\n",
            "Epoch 2/100\n",
            "72/72 [==============================] - 1s 13ms/step - loss: 1.5484 - accuracy: 0.3576 - val_loss: 1.5756 - val_accuracy: 0.2778\n",
            "Epoch 3/100\n",
            "72/72 [==============================] - 1s 12ms/step - loss: 1.4842 - accuracy: 0.3958 - val_loss: 1.6318 - val_accuracy: 0.2778\n",
            "Epoch 4/100\n",
            "72/72 [==============================] - 1s 13ms/step - loss: 1.4871 - accuracy: 0.3681 - val_loss: 1.8789 - val_accuracy: 0.2778\n",
            "Epoch 5/100\n",
            "72/72 [==============================] - 1s 12ms/step - loss: 1.4330 - accuracy: 0.3854 - val_loss: 1.8914 - val_accuracy: 0.2778\n",
            "Epoch 6/100\n",
            "72/72 [==============================] - 1s 12ms/step - loss: 1.3263 - accuracy: 0.4479 - val_loss: 1.7432 - val_accuracy: 0.2778\n",
            "Epoch 7/100\n",
            "72/72 [==============================] - 1s 13ms/step - loss: 1.2229 - accuracy: 0.4757 - val_loss: 1.5105 - val_accuracy: 0.3611\n",
            "Epoch 8/100\n",
            "72/72 [==============================] - 1s 13ms/step - loss: 1.2048 - accuracy: 0.4479 - val_loss: 1.1849 - val_accuracy: 0.4722\n",
            "Epoch 9/100\n",
            "72/72 [==============================] - 1s 13ms/step - loss: 1.0990 - accuracy: 0.4757 - val_loss: 1.1389 - val_accuracy: 0.3889\n",
            "Epoch 10/100\n",
            "72/72 [==============================] - 1s 13ms/step - loss: 1.1596 - accuracy: 0.4792 - val_loss: 1.0791 - val_accuracy: 0.4722\n",
            "Epoch 11/100\n",
            "72/72 [==============================] - 1s 13ms/step - loss: 1.0196 - accuracy: 0.5521 - val_loss: 1.0730 - val_accuracy: 0.5000\n",
            "Epoch 12/100\n",
            "72/72 [==============================] - 1s 13ms/step - loss: 0.9546 - accuracy: 0.5903 - val_loss: 0.9709 - val_accuracy: 0.5278\n",
            "Epoch 13/100\n",
            "72/72 [==============================] - 1s 13ms/step - loss: 0.8241 - accuracy: 0.6389 - val_loss: 0.7865 - val_accuracy: 0.6944\n",
            "Epoch 14/100\n",
            "72/72 [==============================] - 1s 12ms/step - loss: 0.8561 - accuracy: 0.6215 - val_loss: 0.8923 - val_accuracy: 0.5833\n",
            "Epoch 15/100\n",
            "72/72 [==============================] - 1s 12ms/step - loss: 0.8024 - accuracy: 0.6562 - val_loss: 1.3605 - val_accuracy: 0.5000\n",
            "Epoch 16/100\n",
            "72/72 [==============================] - 1s 12ms/step - loss: 0.7745 - accuracy: 0.6806 - val_loss: 1.2084 - val_accuracy: 0.5556\n",
            "Epoch 17/100\n",
            "72/72 [==============================] - 1s 13ms/step - loss: 0.6946 - accuracy: 0.7326 - val_loss: 0.6257 - val_accuracy: 0.6944\n",
            "Epoch 18/100\n",
            "72/72 [==============================] - 1s 13ms/step - loss: 0.5196 - accuracy: 0.7986 - val_loss: 0.7475 - val_accuracy: 0.6389\n",
            "Epoch 19/100\n",
            "72/72 [==============================] - 1s 13ms/step - loss: 0.4993 - accuracy: 0.8090 - val_loss: 0.8014 - val_accuracy: 0.6667\n",
            "Epoch 20/100\n",
            "72/72 [==============================] - 1s 12ms/step - loss: 0.5503 - accuracy: 0.7639 - val_loss: 0.5093 - val_accuracy: 0.7778\n",
            "Epoch 21/100\n",
            "72/72 [==============================] - 1s 13ms/step - loss: 0.4457 - accuracy: 0.8229 - val_loss: 0.8145 - val_accuracy: 0.6389\n",
            "Epoch 22/100\n",
            "72/72 [==============================] - 1s 13ms/step - loss: 0.3550 - accuracy: 0.8611 - val_loss: 0.4648 - val_accuracy: 0.8333\n",
            "Epoch 23/100\n",
            "72/72 [==============================] - 1s 12ms/step - loss: 0.2941 - accuracy: 0.8750 - val_loss: 0.5545 - val_accuracy: 0.7778\n",
            "Epoch 24/100\n",
            "72/72 [==============================] - 1s 13ms/step - loss: 0.3379 - accuracy: 0.8785 - val_loss: 0.4419 - val_accuracy: 0.8611\n",
            "Epoch 25/100\n",
            "72/72 [==============================] - 1s 13ms/step - loss: 0.4776 - accuracy: 0.8194 - val_loss: 1.4795 - val_accuracy: 0.5556\n",
            "Epoch 26/100\n",
            "72/72 [==============================] - 1s 12ms/step - loss: 0.3001 - accuracy: 0.8958 - val_loss: 0.5830 - val_accuracy: 0.7778\n",
            "Epoch 27/100\n",
            "72/72 [==============================] - 1s 12ms/step - loss: 0.3174 - accuracy: 0.8924 - val_loss: 1.1777 - val_accuracy: 0.5833\n",
            "Epoch 28/100\n",
            "72/72 [==============================] - 1s 13ms/step - loss: 0.2537 - accuracy: 0.9132 - val_loss: 0.3269 - val_accuracy: 0.8889\n",
            "Epoch 29/100\n",
            "72/72 [==============================] - 1s 13ms/step - loss: 0.1838 - accuracy: 0.9375 - val_loss: 0.3045 - val_accuracy: 0.8611\n",
            "Epoch 30/100\n",
            "72/72 [==============================] - 1s 12ms/step - loss: 0.2260 - accuracy: 0.9132 - val_loss: 0.4254 - val_accuracy: 0.8611\n",
            "Epoch 31/100\n",
            "72/72 [==============================] - 1s 12ms/step - loss: 0.2046 - accuracy: 0.9340 - val_loss: 0.3376 - val_accuracy: 0.8333\n",
            "Epoch 32/100\n",
            "72/72 [==============================] - 1s 12ms/step - loss: 0.1695 - accuracy: 0.9375 - val_loss: 0.3486 - val_accuracy: 0.8889\n",
            "Epoch 33/100\n",
            "72/72 [==============================] - 1s 12ms/step - loss: 0.1314 - accuracy: 0.9653 - val_loss: 0.4623 - val_accuracy: 0.8611\n",
            "Epoch 34/100\n",
            "72/72 [==============================] - 1s 13ms/step - loss: 0.1289 - accuracy: 0.9549 - val_loss: 0.3900 - val_accuracy: 0.8611\n",
            "Epoch 35/100\n",
            "72/72 [==============================] - 1s 12ms/step - loss: 0.1816 - accuracy: 0.9201 - val_loss: 0.4900 - val_accuracy: 0.8333\n",
            "Epoch 36/100\n",
            "72/72 [==============================] - 1s 13ms/step - loss: 0.1705 - accuracy: 0.9444 - val_loss: 0.5696 - val_accuracy: 0.8333\n",
            "Epoch 37/100\n",
            "72/72 [==============================] - 1s 13ms/step - loss: 0.1564 - accuracy: 0.9549 - val_loss: 0.3438 - val_accuracy: 0.8889\n",
            "Epoch 38/100\n",
            "72/72 [==============================] - 1s 13ms/step - loss: 0.1160 - accuracy: 0.9688 - val_loss: 0.2482 - val_accuracy: 0.9167\n",
            "Epoch 39/100\n",
            "72/72 [==============================] - 1s 12ms/step - loss: 0.1210 - accuracy: 0.9688 - val_loss: 0.4555 - val_accuracy: 0.8611\n",
            "Epoch 40/100\n",
            "72/72 [==============================] - 1s 12ms/step - loss: 0.1394 - accuracy: 0.9479 - val_loss: 0.4676 - val_accuracy: 0.8889\n",
            "Epoch 41/100\n",
            "72/72 [==============================] - 1s 13ms/step - loss: 0.2274 - accuracy: 0.9410 - val_loss: 0.6125 - val_accuracy: 0.8056\n",
            "Epoch 42/100\n",
            "72/72 [==============================] - 1s 13ms/step - loss: 0.1645 - accuracy: 0.9410 - val_loss: 0.9081 - val_accuracy: 0.6944\n",
            "Epoch 43/100\n",
            "72/72 [==============================] - 1s 12ms/step - loss: 0.1734 - accuracy: 0.9410 - val_loss: 1.4146 - val_accuracy: 0.6111\n",
            "Epoch 44/100\n",
            "72/72 [==============================] - 1s 12ms/step - loss: 0.3392 - accuracy: 0.8715 - val_loss: 0.4482 - val_accuracy: 0.8333\n",
            "Epoch 45/100\n",
            "72/72 [==============================] - 1s 13ms/step - loss: 0.1182 - accuracy: 0.9653 - val_loss: 0.3944 - val_accuracy: 0.8611\n",
            "Epoch 46/100\n",
            "72/72 [==============================] - 1s 12ms/step - loss: 0.0840 - accuracy: 0.9792 - val_loss: 0.2849 - val_accuracy: 0.8889\n",
            "Epoch 47/100\n",
            "72/72 [==============================] - 1s 12ms/step - loss: 0.0699 - accuracy: 0.9792 - val_loss: 0.3774 - val_accuracy: 0.8889\n",
            "Epoch 48/100\n",
            "72/72 [==============================] - 1s 13ms/step - loss: 0.0616 - accuracy: 0.9757 - val_loss: 0.3065 - val_accuracy: 0.8889\n",
            "Epoch 49/100\n",
            "72/72 [==============================] - 1s 13ms/step - loss: 0.1010 - accuracy: 0.9653 - val_loss: 0.8278 - val_accuracy: 0.7778\n",
            "Epoch 50/100\n",
            "72/72 [==============================] - 1s 12ms/step - loss: 0.1021 - accuracy: 0.9653 - val_loss: 0.1533 - val_accuracy: 0.9444\n",
            "Epoch 51/100\n",
            "72/72 [==============================] - 1s 12ms/step - loss: 0.0604 - accuracy: 0.9826 - val_loss: 0.1884 - val_accuracy: 0.9167\n",
            "Epoch 52/100\n",
            "72/72 [==============================] - 1s 12ms/step - loss: 0.0847 - accuracy: 0.9618 - val_loss: 0.1572 - val_accuracy: 0.9167\n",
            "Epoch 53/100\n",
            "72/72 [==============================] - 1s 12ms/step - loss: 0.1106 - accuracy: 0.9653 - val_loss: 0.5068 - val_accuracy: 0.8611\n",
            "Epoch 54/100\n",
            "72/72 [==============================] - 1s 12ms/step - loss: 0.1743 - accuracy: 0.9375 - val_loss: 0.2779 - val_accuracy: 0.8611\n",
            "Epoch 55/100\n",
            "72/72 [==============================] - 1s 13ms/step - loss: 0.0540 - accuracy: 0.9792 - val_loss: 0.2778 - val_accuracy: 0.9444\n",
            "Epoch 56/100\n",
            "72/72 [==============================] - 1s 13ms/step - loss: 0.0351 - accuracy: 0.9896 - val_loss: 0.3517 - val_accuracy: 0.8889\n",
            "Epoch 57/100\n",
            "72/72 [==============================] - 1s 12ms/step - loss: 0.0689 - accuracy: 0.9826 - val_loss: 0.5121 - val_accuracy: 0.8333\n",
            "Epoch 58/100\n",
            "72/72 [==============================] - 1s 12ms/step - loss: 0.1021 - accuracy: 0.9549 - val_loss: 0.5117 - val_accuracy: 0.8056\n",
            "Epoch 59/100\n",
            "72/72 [==============================] - 1s 13ms/step - loss: 0.0682 - accuracy: 0.9861 - val_loss: 0.3590 - val_accuracy: 0.9167\n",
            "Epoch 60/100\n",
            "72/72 [==============================] - 1s 13ms/step - loss: 0.0439 - accuracy: 0.9861 - val_loss: 0.2240 - val_accuracy: 0.9167\n",
            "Epoch 61/100\n",
            "72/72 [==============================] - 1s 13ms/step - loss: 0.0923 - accuracy: 0.9688 - val_loss: 0.1986 - val_accuracy: 0.9167\n",
            "Epoch 62/100\n",
            "72/72 [==============================] - 1s 12ms/step - loss: 0.1428 - accuracy: 0.9514 - val_loss: 0.3500 - val_accuracy: 0.8611\n",
            "Epoch 63/100\n",
            "72/72 [==============================] - 1s 13ms/step - loss: 0.1669 - accuracy: 0.9444 - val_loss: 0.3951 - val_accuracy: 0.8889\n",
            "Epoch 64/100\n",
            "72/72 [==============================] - 1s 13ms/step - loss: 0.0450 - accuracy: 0.9896 - val_loss: 0.2058 - val_accuracy: 0.8889\n",
            "Epoch 65/100\n",
            "72/72 [==============================] - 1s 12ms/step - loss: 0.0347 - accuracy: 0.9931 - val_loss: 0.3694 - val_accuracy: 0.8889\n",
            "Epoch 66/100\n",
            "72/72 [==============================] - 1s 13ms/step - loss: 0.0528 - accuracy: 0.9826 - val_loss: 0.1611 - val_accuracy: 0.9444\n",
            "Epoch 67/100\n",
            "72/72 [==============================] - 1s 12ms/step - loss: 0.0440 - accuracy: 0.9861 - val_loss: 0.2011 - val_accuracy: 0.9444\n",
            "Epoch 68/100\n",
            "72/72 [==============================] - 1s 13ms/step - loss: 0.0138 - accuracy: 0.9965 - val_loss: 0.1311 - val_accuracy: 0.9444\n",
            "Epoch 69/100\n",
            "72/72 [==============================] - 1s 13ms/step - loss: 0.0195 - accuracy: 0.9931 - val_loss: 0.0988 - val_accuracy: 0.9722\n",
            "Epoch 70/100\n",
            "72/72 [==============================] - 1s 13ms/step - loss: 0.0132 - accuracy: 0.9965 - val_loss: 0.0926 - val_accuracy: 0.9722\n",
            "Epoch 71/100\n",
            "72/72 [==============================] - 1s 12ms/step - loss: 0.0058 - accuracy: 1.0000 - val_loss: 0.1270 - val_accuracy: 0.9722\n",
            "Epoch 72/100\n",
            "72/72 [==============================] - 1s 13ms/step - loss: 0.0175 - accuracy: 0.9931 - val_loss: 0.1661 - val_accuracy: 0.9444\n",
            "Epoch 73/100\n",
            "72/72 [==============================] - 1s 13ms/step - loss: 0.0173 - accuracy: 0.9931 - val_loss: 0.1206 - val_accuracy: 0.9444\n",
            "Epoch 74/100\n",
            "72/72 [==============================] - 1s 13ms/step - loss: 0.0226 - accuracy: 0.9931 - val_loss: 0.1523 - val_accuracy: 0.9722\n",
            "Epoch 75/100\n",
            "72/72 [==============================] - 1s 14ms/step - loss: 0.0053 - accuracy: 1.0000 - val_loss: 0.1073 - val_accuracy: 0.9722\n",
            "Epoch 76/100\n",
            "72/72 [==============================] - 1s 13ms/step - loss: 0.0093 - accuracy: 0.9965 - val_loss: 0.2314 - val_accuracy: 0.9167\n",
            "Epoch 77/100\n",
            "72/72 [==============================] - 1s 13ms/step - loss: 0.0958 - accuracy: 0.9688 - val_loss: 0.3800 - val_accuracy: 0.8889\n",
            "Epoch 78/100\n",
            "72/72 [==============================] - 1s 12ms/step - loss: 0.0660 - accuracy: 0.9826 - val_loss: 0.5085 - val_accuracy: 0.8611\n",
            "Epoch 79/100\n",
            "72/72 [==============================] - 1s 13ms/step - loss: 0.1116 - accuracy: 0.9549 - val_loss: 0.1851 - val_accuracy: 0.9167\n",
            "Epoch 80/100\n",
            "72/72 [==============================] - 1s 13ms/step - loss: 0.0269 - accuracy: 0.9965 - val_loss: 0.1783 - val_accuracy: 0.9167\n",
            "Epoch 81/100\n",
            "72/72 [==============================] - 1s 13ms/step - loss: 0.0159 - accuracy: 0.9931 - val_loss: 0.1196 - val_accuracy: 0.9444\n",
            "Epoch 82/100\n",
            "72/72 [==============================] - 1s 13ms/step - loss: 0.0168 - accuracy: 0.9965 - val_loss: 0.1910 - val_accuracy: 0.9167\n",
            "Epoch 83/100\n",
            "72/72 [==============================] - 1s 12ms/step - loss: 0.1996 - accuracy: 0.9549 - val_loss: 0.2258 - val_accuracy: 0.9167\n",
            "Epoch 84/100\n",
            "72/72 [==============================] - 1s 13ms/step - loss: 0.0620 - accuracy: 0.9757 - val_loss: 0.3431 - val_accuracy: 0.8889\n",
            "Epoch 85/100\n",
            "72/72 [==============================] - 1s 12ms/step - loss: 0.0332 - accuracy: 0.9931 - val_loss: 0.1874 - val_accuracy: 0.9167\n",
            "Epoch 86/100\n",
            "72/72 [==============================] - 1s 12ms/step - loss: 0.0065 - accuracy: 1.0000 - val_loss: 0.1687 - val_accuracy: 0.9444\n",
            "Epoch 87/100\n",
            "72/72 [==============================] - 1s 13ms/step - loss: 0.0068 - accuracy: 1.0000 - val_loss: 0.1112 - val_accuracy: 0.9722\n",
            "Epoch 88/100\n",
            "72/72 [==============================] - 1s 13ms/step - loss: 0.0078 - accuracy: 1.0000 - val_loss: 0.1871 - val_accuracy: 0.9444\n",
            "Epoch 89/100\n",
            "72/72 [==============================] - 1s 13ms/step - loss: 0.0056 - accuracy: 1.0000 - val_loss: 0.1498 - val_accuracy: 0.9444\n",
            "Epoch 90/100\n",
            "72/72 [==============================] - 1s 13ms/step - loss: 0.0033 - accuracy: 1.0000 - val_loss: 0.1401 - val_accuracy: 0.9722\n",
            "Epoch 91/100\n",
            "72/72 [==============================] - 1s 13ms/step - loss: 0.0236 - accuracy: 0.9965 - val_loss: 0.4703 - val_accuracy: 0.9167\n",
            "Epoch 92/100\n",
            "72/72 [==============================] - 1s 12ms/step - loss: 0.0569 - accuracy: 0.9826 - val_loss: 0.2667 - val_accuracy: 0.8889\n",
            "Epoch 93/100\n",
            "72/72 [==============================] - 1s 13ms/step - loss: 0.0119 - accuracy: 0.9965 - val_loss: 0.2125 - val_accuracy: 0.9444\n",
            "Epoch 94/100\n",
            "72/72 [==============================] - 1s 13ms/step - loss: 0.1109 - accuracy: 0.9653 - val_loss: 0.4716 - val_accuracy: 0.8611\n",
            "Epoch 95/100\n",
            "72/72 [==============================] - 1s 13ms/step - loss: 0.1267 - accuracy: 0.9618 - val_loss: 0.5068 - val_accuracy: 0.8611\n"
          ]
        }
      ]
    },
    {
      "cell_type": "code",
      "source": [
        "# Evaluate the trained model.\n",
        "model_evaluation_history = LRCN_model.evaluate(features_test, labels_test)"
      ],
      "metadata": {
        "colab": {
          "base_uri": "https://localhost:8080/"
        },
        "id": "vm7uj3_NBZNd",
        "outputId": "3f3567d6-b0d7-47ab-ce50-b91cba5f0fab"
      },
      "execution_count": 18,
      "outputs": [
        {
          "output_type": "stream",
          "name": "stdout",
          "text": [
            "2/2 [==============================] - 1s 11ms/step - loss: 0.0241 - accuracy: 1.0000\n"
          ]
        }
      ]
    },
    {
      "cell_type": "code",
      "source": [
        "# Evaluate the trained model.\n",
        "model_evaluation_history = LRCN_model.evaluate(features_train, labels_train)"
      ],
      "metadata": {
        "colab": {
          "base_uri": "https://localhost:8080/"
        },
        "id": "edLOJjeiBb1R",
        "outputId": "55485838-c7a3-47c3-8c92-072381c2c84b"
      },
      "execution_count": 19,
      "outputs": [
        {
          "output_type": "stream",
          "name": "stdout",
          "text": [
            "9/9 [==============================] - 0s 30ms/step - loss: 0.0052 - accuracy: 1.0000\n"
          ]
        }
      ]
    },
    {
      "cell_type": "code",
      "source": [
        "# Get the loss and accuracy from model_evaluation_history.\n",
        "model_evaluation_loss, model_evaluation_accuracy = model_evaluation_history\n",
        "\n",
        "# Define the string date format.\n",
        "# Get the current Date and Time in a DateTime Object.\n",
        "# Convert the DateTime object to string according to the style mentioned in date_time_format string.\n",
        "#date_time_format = '%Y_%m_%d__%H_%M_%S'\n",
        "#current_date_time_dt = dt.datetime.now()\n",
        "#current_date_time_string = dt.datetime.strftime(current_date_time_dt, date_time_format)\n",
        "    \n",
        "# Define a useful name for our model to make it easy for us while navigating through multiple saved models.\n",
        "model_file_name = f'/content/drive/My Drive/fusion/savee/video/model/expert1/best_LRCN_model___Loss_{model_evaluation_loss}___Accuracy_{model_evaluation_accuracy}.h5'\n",
        "\n",
        "# Save the Model.\n",
        "LRCN_model.save(model_file_name)"
      ],
      "metadata": {
        "id": "jbolY9H4Bf6K"
      },
      "execution_count": 20,
      "outputs": []
    },
    {
      "cell_type": "code",
      "source": [
        "from keras.models import save_model\n",
        "\n",
        "# you can write whatever you desire instead of 'my_model'\n",
        "# model = Your trained model\n",
        "LRCN_model.save('/content/drive/My Drive/fusion/savee/video/model/expert1/best_LRCN_model')\n"
      ],
      "metadata": {
        "colab": {
          "base_uri": "https://localhost:8080/"
        },
        "id": "nVvWA9nABhDJ",
        "outputId": "34cf0fcf-532f-4866-9d0d-14bb4f73c2a2"
      },
      "execution_count": 21,
      "outputs": [
        {
          "output_type": "stream",
          "name": "stderr",
          "text": [
            "WARNING:absl:Found untraced functions such as lstm_cell_layer_call_fn, lstm_cell_layer_call_and_return_conditional_losses while saving (showing 2 of 2). These functions will not be directly callable after loading.\n"
          ]
        },
        {
          "output_type": "stream",
          "name": "stdout",
          "text": [
            "INFO:tensorflow:Assets written to: /content/drive/My Drive/fusion/savee/video/model/expert1/best_LRCN_model/assets\n"
          ]
        },
        {
          "output_type": "stream",
          "name": "stderr",
          "text": [
            "INFO:tensorflow:Assets written to: /content/drive/My Drive/fusion/savee/video/model/expert1/best_LRCN_model/assets\n",
            "WARNING:absl:<keras.layers.recurrent.LSTMCell object at 0x7f1c500bbc90> has the same name 'LSTMCell' as a built-in Keras object. Consider renaming <class 'keras.layers.recurrent.LSTMCell'> to avoid naming conflicts when loading with `tf.keras.models.load_model`. If renaming is not possible, pass the object in the `custom_objects` parameter of the load function.\n"
          ]
        }
      ]
    },
    {
      "cell_type": "code",
      "source": [
        "# serialize model to JSON\n",
        "model_json = LRCN_model.to_json()\n",
        "with open(\"/content/drive/My Drive/fusion/savee/video/model/expert1/best_LRCN_model.json\", \"w\") as json_file:\n",
        "    json_file.write(model_json)"
      ],
      "metadata": {
        "id": "X4lwQaIcBlUB"
      },
      "execution_count": 22,
      "outputs": []
    },
    {
      "cell_type": "code",
      "source": [
        "def plot_metric(model_training_history, metric_name_1, metric_name_2, plot_name):\n",
        "    '''\n",
        "    This function will plot the metrics passed to it in a graph.\n",
        "    Args:\n",
        "        model_training_history: A history object containing a record of training and validation \n",
        "                                loss values and metrics values at successive epochs\n",
        "        metric_name_1:          The name of the first metric that needs to be plotted in the graph.\n",
        "        metric_name_2:          The name of the second metric that needs to be plotted in the graph.\n",
        "        plot_name:              The title of the graph.\n",
        "    '''\n",
        "    \n",
        "    # Get metric values using metric names as identifiers.\n",
        "    metric_value_1 = model_training_history.history[metric_name_1]\n",
        "    metric_value_2 = model_training_history.history[metric_name_2]\n",
        "    \n",
        "    # Construct a range object which will be used as x-axis (horizontal plane) of the graph.\n",
        "    epochs = range(len(metric_value_1))\n",
        "\n",
        "    # Plot the Graph.\n",
        "    plt.plot(epochs, metric_value_1, 'blue', label = metric_name_1)\n",
        "    plt.plot(epochs, metric_value_2, 'red', label = metric_name_2)\n",
        "\n",
        "    # Add title to the plot.\n",
        "    plt.title(str(plot_name))\n",
        "\n",
        "    # Add legend to the plot.\n",
        "    plt.legend()"
      ],
      "metadata": {
        "id": "NOHBaSPJBoHJ"
      },
      "execution_count": 23,
      "outputs": []
    },
    {
      "cell_type": "code",
      "source": [
        "# Visualize the training and validation loss metrices.\n",
        "plot_metric(LRCN_model_training_history, 'loss', 'val_loss', 'Total Loss vs Total Validation Loss')"
      ],
      "metadata": {
        "colab": {
          "base_uri": "https://localhost:8080/",
          "height": 281
        },
        "id": "Wd3LiO_UBsRR",
        "outputId": "cccc6289-d42b-470d-b1f4-6b2371feb772"
      },
      "execution_count": 24,
      "outputs": [
        {
          "output_type": "display_data",
          "data": {
            "text/plain": [
              "<Figure size 432x288 with 1 Axes>"
            ],
            "image/png": "[encoded data removed]"
          },
          "metadata": {
            "needs_background": "light"
          }
        }
      ]
    },
    {
      "cell_type": "code",
      "source": [
        "# Visualize the training and validation accuracy metrices.\n",
        "plot_metric(LRCN_model_training_history, 'accuracy', 'val_accuracy', 'Total Accuracy vs Total Validation Accuracy')"
      ],
      "metadata": {
        "colab": {
          "base_uri": "https://localhost:8080/",
          "height": 281
        },
        "id": "oXaSWJqABvKe",
        "outputId": "b4a37928-a51b-41b2-fe3a-dfd77120e7ac"
      },
      "execution_count": 25,
      "outputs": [
        {
          "output_type": "display_data",
          "data": {
            "text/plain": [
              "<Figure size 432x288 with 1 Axes>"
            ],
            "image/png": "[encoded data removed]"
          },
          "metadata": {
            "needs_background": "light"
          }
        }
      ]
    },
    {
      "cell_type": "code",
      "source": [
        "predictions =  LRCN_model.predict(features_test)\n",
        "predictions"
      ],
      "metadata": {
        "colab": {
          "base_uri": "https://localhost:8080/"
        },
        "id": "UIQGDtkcGGu0",
        "outputId": "72b9d460-761e-45d8-faa3-47faa8916e43"
      },
      "execution_count": 26,
      "outputs": [
        {
          "output_type": "execute_result",
          "data": {
            "text/plain": [
              "array([[9.99560773e-01, 7.45841044e-06, 1.24763392e-04, 2.54639395e-04,\n",
              "        5.23167510e-05],\n",
              "       [2.94596248e-04, 2.01914212e-04, 9.24804073e-04, 9.98502851e-01,\n",
              "        7.59257164e-05],\n",
              "       [3.46448243e-04, 4.95980552e-04, 9.88443077e-01, 2.00702553e-03,\n",
              "        8.70756153e-03],\n",
              "       [9.98876274e-01, 1.70681196e-05, 2.83927162e-04, 7.23120989e-04,\n",
              "        9.96488016e-05],\n",
              "       [9.99321342e-01, 1.11109293e-05, 9.01537278e-05, 5.11985039e-04,\n",
              "        6.54543910e-05],\n",
              "       [6.28885937e-06, 9.99476135e-01, 1.11014495e-04, 1.26250437e-04,\n",
              "        2.80362117e-04],\n",
              "       [3.35872057e-04, 5.52330632e-04, 9.87656116e-01, 2.11110665e-03,\n",
              "        9.34448466e-03],\n",
              "       [9.99031425e-01, 1.44727082e-05, 1.85893805e-04, 6.97825511e-04,\n",
              "        7.03650803e-05],\n",
              "       [9.99301553e-01, 1.37497482e-05, 1.93562475e-04, 4.24899772e-04,\n",
              "        6.61953309e-05],\n",
              "       [9.99625683e-01, 7.23614130e-06, 1.68540893e-04, 1.27582447e-04,\n",
              "        7.08643274e-05],\n",
              "       [4.20075608e-04, 5.77371276e-04, 9.82046306e-01, 2.52264459e-03,\n",
              "        1.44336587e-02],\n",
              "       [9.99228239e-01, 1.36161270e-05, 1.71305262e-04, 5.26636082e-04,\n",
              "        6.02374603e-05],\n",
              "       [1.11554087e-04, 2.60397588e-04, 1.45416078e-03, 3.67083085e-05,\n",
              "        9.98137116e-01],\n",
              "       [4.94951473e-06, 9.99445021e-01, 8.39110871e-05, 1.55556671e-04,\n",
              "        3.10530420e-04],\n",
              "       [9.98341203e-01, 2.32640832e-05, 1.63688033e-04, 1.40913995e-03,\n",
              "        6.26817346e-05],\n",
              "       [1.12637784e-03, 2.34010062e-04, 1.61139970e-03, 9.96922553e-01,\n",
              "        1.05606137e-04],\n",
              "       [2.35428888e-04, 3.03027511e-04, 8.15686712e-04, 9.98538613e-01,\n",
              "        1.07224332e-04],\n",
              "       [9.99680758e-01, 5.26703980e-06, 1.29194203e-04, 1.39743002e-04,\n",
              "        4.50708249e-05],\n",
              "       [9.97352958e-01, 2.47252101e-05, 1.69724372e-04, 2.36464129e-03,\n",
              "        8.79537329e-05],\n",
              "       [9.99547780e-01, 1.08608947e-05, 1.72337634e-04, 1.69839652e-04,\n",
              "        9.91962152e-05],\n",
              "       [9.97982502e-01, 1.97852514e-05, 1.27573192e-04, 1.80232641e-03,\n",
              "        6.78442520e-05],\n",
              "       [4.23649954e-06, 9.99453247e-01, 8.64773101e-05, 1.54651658e-04,\n",
              "        3.01327847e-04],\n",
              "       [1.14718809e-04, 2.38283246e-04, 1.19435706e-03, 3.54215626e-05,\n",
              "        9.98417258e-01],\n",
              "       [1.95290311e-03, 2.96027167e-04, 1.56987971e-03, 9.96059418e-01,\n",
              "        1.21809629e-04],\n",
              "       [9.99347746e-01, 1.41174824e-05, 3.78285797e-04, 1.50828928e-04,\n",
              "        1.09005712e-04],\n",
              "       [5.65788605e-06, 9.99376714e-01, 8.48659038e-05, 1.91943167e-04,\n",
              "        3.41003557e-04],\n",
              "       [5.95760703e-01, 3.50307040e-02, 3.53388605e-03, 3.60968202e-01,\n",
              "        4.70645213e-03],\n",
              "       [9.98873770e-01, 1.30301723e-05, 9.43928680e-05, 9.62980383e-04,\n",
              "        5.58641950e-05],\n",
              "       [3.87872162e-04, 1.93060943e-04, 1.26636063e-03, 9.98076200e-01,\n",
              "        7.64607394e-05],\n",
              "       [9.03082400e-06, 9.99088883e-01, 1.01345075e-04, 2.91471719e-04,\n",
              "        5.09240897e-04],\n",
              "       [9.97991204e-01, 1.95138964e-05, 1.28619155e-04, 1.79487176e-03,\n",
              "        6.58174031e-05],\n",
              "       [9.99413013e-01, 1.36913486e-05, 3.91265814e-04, 7.22062614e-05,\n",
              "        1.09873268e-04],\n",
              "       [4.00146557e-04, 3.27504415e-04, 6.46760629e-04, 9.98550236e-01,\n",
              "        7.53775385e-05],\n",
              "       [9.99267399e-01, 1.42218396e-05, 1.87973099e-04, 4.63328004e-04,\n",
              "        6.70623631e-05],\n",
              "       [1.58022776e-01, 1.80254190e-03, 7.73147583e-01, 5.34083368e-03,\n",
              "        6.16862476e-02],\n",
              "       [3.43501801e-04, 5.27792319e-04, 9.88664627e-01, 1.98301417e-03,\n",
              "        8.48104060e-03]], dtype=float32)"
            ]
          },
          "metadata": {},
          "execution_count": 26
        }
      ]
    },
    {
      "cell_type": "code",
      "source": [
        "preds=predictions.argmax(axis=1)\n",
        "preds"
      ],
      "metadata": {
        "colab": {
          "base_uri": "https://localhost:8080/"
        },
        "id": "TtHTnWF7B1y0",
        "outputId": "eef3b5bd-7e66-401f-fe66-fb77a46d8b3e"
      },
      "execution_count": 27,
      "outputs": [
        {
          "output_type": "execute_result",
          "data": {
            "text/plain": [
              "array([0, 3, 2, 0, 0, 1, 2, 0, 0, 0, 2, 0, 4, 1, 0, 3, 3, 0, 0, 0, 0, 1,\n",
              "       4, 3, 0, 1, 0, 0, 3, 1, 0, 0, 3, 0, 2, 2])"
            ]
          },
          "metadata": {},
          "execution_count": 27
        }
      ]
    },
    {
      "cell_type": "code",
      "source": [
        "new_preds = preds.astype(int).flatten()\n",
        "new_preds"
      ],
      "metadata": {
        "id": "DvrDaZw2GPHK",
        "colab": {
          "base_uri": "https://localhost:8080/"
        },
        "outputId": "213db57d-a18c-44db-eea7-a9f6d759df2e"
      },
      "execution_count": 28,
      "outputs": [
        {
          "output_type": "execute_result",
          "data": {
            "text/plain": [
              "array([0, 3, 2, 0, 0, 1, 2, 0, 0, 0, 2, 0, 4, 1, 0, 3, 3, 0, 0, 0, 0, 1,\n",
              "       4, 3, 0, 1, 0, 0, 3, 1, 0, 0, 3, 0, 2, 2])"
            ]
          },
          "metadata": {},
          "execution_count": 28
        }
      ]
    },
    {
      "cell_type": "code",
      "source": [
        "from sklearn.metrics import classification_report, confusion_matrix,accuracy_score\n",
        "import seaborn as sn\n",
        "import pandas as pd\n",
        "import numpy as np\n",
        "new_labels=np.argmax(labels_test, axis=1)\n",
        "print(classification_report(new_labels,new_preds))\n",
        "\n",
        "acc = float(accuracy_score(new_labels,new_preds))*100\n",
        "print(\"----accuracy score %s ----\" % acc)\n",
        "\n",
        "cm = confusion_matrix(new_labels,new_preds)\n",
        "#df_cm = pd.DataFrame(cm)\n",
        "class_names = ['neutral', 'happy','sad','angry', 'fearful' ]\n",
        "df_cm = pd.DataFrame(cm, index=class_names, columns=class_names,)\n",
        "sn.heatmap(df_cm, annot=True, fmt='')\n",
        "plt.show()"
      ],
      "metadata": {
        "colab": {
          "base_uri": "https://localhost:8080/",
          "height": 495
        },
        "id": "7p7e1ihVGSke",
        "outputId": "c465cc0a-bddf-405a-9814-82fc91e856a3"
      },
      "execution_count": 29,
      "outputs": [
        {
          "output_type": "stream",
          "name": "stdout",
          "text": [
            "              precision    recall  f1-score   support\n",
            "\n",
            "           0       1.00      1.00      1.00        18\n",
            "           1       1.00      1.00      1.00         5\n",
            "           2       1.00      1.00      1.00         5\n",
            "           3       1.00      1.00      1.00         6\n",
            "           4       1.00      1.00      1.00         2\n",
            "\n",
            "    accuracy                           1.00        36\n",
            "   macro avg       1.00      1.00      1.00        36\n",
            "weighted avg       1.00      1.00      1.00        36\n",
            "\n",
            "----accuracy score 100.0 ----\n"
          ]
        },
        {
          "output_type": "display_data",
          "data": {
            "text/plain": [
              "<Figure size 432x288 with 2 Axes>"
            ],
            "image/png": "[encoded data removed]"
          },
          "metadata": {
            "needs_background": "light"
          }
        }
      ]
    },
    {
      "cell_type": "code",
      "source": [
        "predictions_train=LRCN_model.predict(features_train)\n",
        "predictions_valid=LRCN_model.predict(features_valid)"
      ],
      "metadata": {
        "id": "Mr6xwbi0Az4-"
      },
      "execution_count": 30,
      "outputs": []
    },
    {
      "cell_type": "code",
      "source": [
        "df_video_train=pd.DataFrame(predictions_train,columns=[\"OV_\"+str(i) for i in range(5)]) \n",
        "df_video_test=pd.DataFrame(predictions,columns=[\"OV_\"+str(i) for i in range(5)]) \n",
        "df_video_valid=pd.DataFrame(predictions_valid,columns=[\"OV_\"+str(i) for i in range(5)])"
      ],
      "metadata": {
        "id": "JBQxVEsxB6LW"
      },
      "execution_count": 31,
      "outputs": []
    },
    {
      "cell_type": "code",
      "source": [
        "save_dir = '/content/drive/My Drive/fusion/savee/video/data_set/expert1'\n",
        "\n",
        "savedvX = joblib.dump(df_video_train, os.path.join(save_dir, 'train/pred_train'))\n",
        "savedvX = joblib.dump(df_video_test, os.path.join(save_dir, 'test/pred_test'))\n",
        "savedvX = joblib.dump(df_video_valid, os.path.join(save_dir, 'valid/pred_valid'))"
      ],
      "metadata": {
        "id": "GwiWQx4kA4WO"
      },
      "execution_count": 32,
      "outputs": []
    },
    {
      "cell_type": "code",
      "source": [
        ""
      ],
      "metadata": {
        "id": "xf-HGx14JUOE"
      },
      "execution_count": null,
      "outputs": []
    },
    {
      "cell_type": "code",
      "source": [
        ""
      ],
      "metadata": {
        "id": "_yh18bSjCCkQ"
      },
      "execution_count": 32,
      "outputs": []
    }
  ],
  "metadata": {
    "accelerator": "GPU",
    "colab": {
      "name": "best_LRCN_CNN_Video_SAVEE_1.ipynb",
      "provenance": [],
      "machine_shape": "hm",
      "collapsed_sections": []
    },
    "kernelspec": {
      "display_name": "Python 3",
      "name": "python3"
    },
    "language_info": {
      "name": "python"
    }
  },
  "nbformat": 4,
  "nbformat_minor": 0
}