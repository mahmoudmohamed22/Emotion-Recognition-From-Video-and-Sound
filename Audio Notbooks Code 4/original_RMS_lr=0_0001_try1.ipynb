{
  "nbformat": 4,
  "nbformat_minor": 0,
  "metadata": {
    "colab": {
      "name": "original RMS lr=0.0001 try1.ipynb",
      "provenance": [],
      "collapsed_sections": []
    },
    "kernelspec": {
      "name": "python3",
      "display_name": "Python 3"
    },
    "language_info": {
      "name": "python"
    },
    "accelerator": "GPU"
  },
  "cells": [
    {
      "cell_type": "code",
      "execution_count": 9,
      "metadata": {
        "colab": {
          "base_uri": "https://localhost:8080/"
        },
        "id": "9SRCO-a_AlH5",
        "outputId": "9b041841-05e7-4acd-ecaf-490954e46555"
      },
      "outputs": [
        {
          "output_type": "stream",
          "name": "stdout",
          "text": [
            "Drive already mounted at /content/drive; to attempt to forcibly remount, call drive.mount(\"/content/drive\", force_remount=True).\n"
          ]
        }
      ],
      "source": [
        "from google.colab import drive\n",
        "drive.mount('/content/drive')"
      ]
    },
    {
      "cell_type": "code",
      "source": [
        "!pip install librosa"
      ],
      "metadata": {
        "colab": {
          "base_uri": "https://localhost:8080/"
        },
        "id": "oi8pWV3yBVjO",
        "outputId": "47c617dd-8cea-40b8-b6a9-39a3fb373ef3"
      },
      "execution_count": 10,
      "outputs": [
        {
          "output_type": "stream",
          "name": "stdout",
          "text": [
            "Looking in indexes: https://pypi.org/simple, https://us-python.pkg.dev/colab-wheels/public/simple/\n",
            "Requirement already satisfied: librosa in /usr/local/lib/python3.7/dist-packages (0.8.1)\n",
            "Requirement already satisfied: scikit-learn!=0.19.0,>=0.14.0 in /usr/local/lib/python3.7/dist-packages (from librosa) (1.0.2)\n",
            "Requirement already satisfied: numba>=0.43.0 in /usr/local/lib/python3.7/dist-packages (from librosa) (0.51.2)\n",
            "Requirement already satisfied: packaging>=20.0 in /usr/local/lib/python3.7/dist-packages (from librosa) (21.3)\n",
            "Requirement already satisfied: audioread>=2.0.0 in /usr/local/lib/python3.7/dist-packages (from librosa) (2.1.9)\n",
            "Requirement already satisfied: decorator>=3.0.0 in /usr/local/lib/python3.7/dist-packages (from librosa) (4.4.2)\n",
            "Requirement already satisfied: joblib>=0.14 in /usr/local/lib/python3.7/dist-packages (from librosa) (1.1.0)\n",
            "Requirement already satisfied: soundfile>=0.10.2 in /usr/local/lib/python3.7/dist-packages (from librosa) (0.10.3.post1)\n",
            "Requirement already satisfied: scipy>=1.0.0 in /usr/local/lib/python3.7/dist-packages (from librosa) (1.4.1)\n",
            "Requirement already satisfied: resampy>=0.2.2 in /usr/local/lib/python3.7/dist-packages (from librosa) (0.2.2)\n",
            "Requirement already satisfied: numpy>=1.15.0 in /usr/local/lib/python3.7/dist-packages (from librosa) (1.21.6)\n",
            "Requirement already satisfied: pooch>=1.0 in /usr/local/lib/python3.7/dist-packages (from librosa) (1.6.0)\n",
            "Requirement already satisfied: setuptools in /usr/local/lib/python3.7/dist-packages (from numba>=0.43.0->librosa) (57.4.0)\n",
            "Requirement already satisfied: llvmlite<0.35,>=0.34.0.dev0 in /usr/local/lib/python3.7/dist-packages (from numba>=0.43.0->librosa) (0.34.0)\n",
            "Requirement already satisfied: pyparsing!=3.0.5,>=2.0.2 in /usr/local/lib/python3.7/dist-packages (from packaging>=20.0->librosa) (3.0.9)\n",
            "Requirement already satisfied: appdirs>=1.3.0 in /usr/local/lib/python3.7/dist-packages (from pooch>=1.0->librosa) (1.4.4)\n",
            "Requirement already satisfied: requests>=2.19.0 in /usr/local/lib/python3.7/dist-packages (from pooch>=1.0->librosa) (2.23.0)\n",
            "Requirement already satisfied: idna<3,>=2.5 in /usr/local/lib/python3.7/dist-packages (from requests>=2.19.0->pooch>=1.0->librosa) (2.10)\n",
            "Requirement already satisfied: urllib3!=1.25.0,!=1.25.1,<1.26,>=1.21.1 in /usr/local/lib/python3.7/dist-packages (from requests>=2.19.0->pooch>=1.0->librosa) (1.24.3)\n",
            "Requirement already satisfied: certifi>=2017.4.17 in /usr/local/lib/python3.7/dist-packages (from requests>=2.19.0->pooch>=1.0->librosa) (2022.5.18.1)\n",
            "Requirement already satisfied: chardet<4,>=3.0.2 in /usr/local/lib/python3.7/dist-packages (from requests>=2.19.0->pooch>=1.0->librosa) (3.0.4)\n",
            "Requirement already satisfied: six>=1.3 in /usr/local/lib/python3.7/dist-packages (from resampy>=0.2.2->librosa) (1.15.0)\n",
            "Requirement already satisfied: threadpoolctl>=2.0.0 in /usr/local/lib/python3.7/dist-packages (from scikit-learn!=0.19.0,>=0.14.0->librosa) (3.1.0)\n",
            "Requirement already satisfied: cffi>=1.0 in /usr/local/lib/python3.7/dist-packages (from soundfile>=0.10.2->librosa) (1.15.0)\n",
            "Requirement already satisfied: pycparser in /usr/local/lib/python3.7/dist-packages (from cffi>=1.0->soundfile>=0.10.2->librosa) (2.21)\n"
          ]
        }
      ]
    },
    {
      "cell_type": "code",
      "metadata": {
        "id": "HJjcbxwy46bG",
        "colab": {
          "base_uri": "https://localhost:8080/",
          "height": 17
        },
        "outputId": "15c1f2f1-be64-433c-ed0e-75786a0a2bb4"
      },
      "source": [
        "# Orignial Notebook: https://github.com/MITESHPUTHRANNEU/Speech-Emotion-Analyzer/blob/master/final_results_gender_test.ipynb\n",
        "# This notebook author: Reza Chu\n",
        "# Last Editing Date: 31st May 2019\n",
        "\n",
        "## Python\n",
        "import os\n",
        "import random\n",
        "import sys\n",
        "\n",
        "import IPython\n",
        "from IPython.display import Audio\n",
        "from IPython.display import Image\n",
        "import matplotlib.pyplot as plt\n",
        "\n",
        "## Package\n",
        "import glob \n",
        "import keras\n",
        "import IPython.display as ipd\n",
        "import librosa\n",
        "import librosa.display\n",
        "import matplotlib.pyplot as plt\n",
        "import numpy as np\n",
        "import pandas as pd\n",
        "import plotly.graph_objs as go\n",
        "import plotly.offline as py\n",
        "import plotly.tools as tls\n",
        "import seaborn as sns\n",
        "import scipy.io.wavfile\n",
        "import tensorflow as tf\n",
        "py.init_notebook_mode(connected=True)\n",
        "\n",
        "## Keras\n",
        "from keras import regularizers\n",
        "from keras.callbacks import ModelCheckpoint, LearningRateScheduler, EarlyStopping\n",
        "from keras.callbacks import  History, ReduceLROnPlateau, CSVLogger\n",
        "from keras.models import Model, Sequential\n",
        "from keras.layers import Dense, Embedding, LSTM\n",
        "from keras.layers import Input, Flatten, Dropout, Activation, BatchNormalization\n",
        "from keras.layers import Conv1D, MaxPooling1D, AveragePooling1D\n",
        "from keras.preprocessing import sequence\n",
        "from keras.preprocessing.sequence import pad_sequences\n",
        "from keras.preprocessing.text import Tokenizer\n",
        "from keras.utils import np_utils\n",
        "from tensorflow.keras.utils import to_categorical\n",
        "\n",
        "## Sklearn\n",
        "from sklearn.metrics import confusion_matrix\n",
        "from sklearn.preprocessing import LabelEncoder\n",
        "\n",
        "## Rest\n",
        "from scipy.fftpack import fft\n",
        "from scipy import signal\n",
        "from scipy.io import wavfile\n",
        "from tqdm import tqdm\n",
        "\n",
        "input_duration=3\n",
        "# % pylab inline"
      ],
      "execution_count": 11,
      "outputs": [
        {
          "output_type": "display_data",
          "data": {
            "text/html": [
              "        <script type=\"text/javascript\">\n",
              "        window.PlotlyConfig = {MathJaxConfig: 'local'};\n",
              "        if (window.MathJax) {MathJax.Hub.Config({SVG: {font: \"STIX-Web\"}});}\n",
              "        if (typeof require !== 'undefined') {\n",
              "        require.undef(\"plotly\");\n",
              "        requirejs.config({\n",
              "            paths: {\n",
              "                'plotly': ['https://cdn.plot.ly/plotly-2.8.3.min']\n",
              "            }\n",
              "        });\n",
              "        require(['plotly'], function(Plotly) {\n",
              "            window._Plotly = Plotly;\n",
              "        });\n",
              "        }\n",
              "        </script>\n",
              "        "
            ]
          },
          "metadata": {}
        }
      ]
    },
    {
      "cell_type": "code",
      "source": [
        "#radvass speech and song\n",
        "import time\n",
        "import os\n",
        "import librosa\n",
        "from librosa import display\n",
        "import matplotlib.pyplot as plt\n",
        "\n",
        "count=0\n",
        "path1 = '/content/drive/MyDrive/RAVDESS_speech'\n",
        "path2 = '/content/drive/MyDrive/RAVDESS_song'\n",
        "\n",
        "lst = []\n",
        "\n",
        "start_time = time.time()\n",
        "\n",
        "for subdir, dirs, files in os.walk(path2):\n",
        "  print(dirs)\n",
        "  print(subdir)\n",
        "  #print(files)\n",
        "  for file in files:\n",
        "      try:\n",
        "        count +=1\n",
        "        #Load librosa array, obtain mfcss, store the file and the mcss information in a new array\n",
        "        X, sample_rate = librosa.load(os.path.join(subdir,file), res_type='kaiser_fast')\n",
        "        mfccs = np.mean(librosa.feature.mfcc(y=X, sr=sample_rate, n_mfcc=40).T,axis=0) \n",
        "        # The instruction below converts the labels (from 1 to 8) to a series from 0 to 7\n",
        "        # This is because our predictor needs to start from 0 otherwise it will try to predict also 0.\n",
        "        file = int(file[7:8]) - 1 \n",
        "        arr = mfccs, file\n",
        "        lst.append(arr)\n",
        "      # If the file is not valid, skip it\n",
        "      except ValueError:\n",
        "        continue\n",
        "\n",
        "for subdir, dirs, files in os.walk(path1):\n",
        "  print(dirs)\n",
        "  print(subdir)\n",
        " # print(files)\n",
        "  for file in files:\n",
        "      try:\n",
        "        #Load librosa array, obtain mfcss, store the file and the mcss information in a new array\n",
        "        X, sample_rate = librosa.load(os.path.join(subdir,file), res_type='kaiser_fast')\n",
        "        mfccs = np.mean(librosa.feature.mfcc(y=X, sr=sample_rate, n_mfcc=40).T,axis=0) \n",
        "        # The instruction below converts the labels (from 1 to 8) to a series from 0 to 7\n",
        "        # This is because our predictor needs to start from 0 otherwise it will try to predict also 0.\n",
        "        file = int(file[7:8]) - 1 \n",
        "        if(file ==6 or file==7):\n",
        "          continue\n",
        "        count +=1\n",
        "        arr = mfccs, file\n",
        "        lst.append(arr)\n",
        "      # If the file is not valid, skip it\n",
        "      except ValueError:\n",
        "        continue\n",
        "\n",
        "\n",
        "\n",
        "print(\"--- Data loaded. Loading time: %s seconds ---\" % (time.time() - start_time))"
      ],
      "metadata": {
        "colab": {
          "base_uri": "https://localhost:8080/"
        },
        "id": "IfuyRZl42ccZ",
        "outputId": "92509888-e831-4089-cae7-9050d3b3d111"
      },
      "execution_count": 12,
      "outputs": [
        {
          "output_type": "stream",
          "name": "stdout",
          "text": [
            "['Actor_10', 'Actor_11', 'Actor_13', 'Actor_12', 'Actor_14', 'Actor_15', 'Actor_16', 'Actor_17', 'Actor_18', 'Actor_19', 'Actor_21', 'Actor_22', 'Actor_23', 'Actor_09', 'Actor_24', 'Actor_04', 'Actor_08', 'Actor_03', 'Actor_02', 'Actor_06', 'Actor_05', 'Actor_01', 'Actor_07', 'Actor_20']\n",
            "/content/drive/MyDrive/RAVDESS_song\n",
            "[]\n",
            "/content/drive/MyDrive/RAVDESS_song/Actor_10\n",
            "[]\n",
            "/content/drive/MyDrive/RAVDESS_song/Actor_11\n",
            "[]\n",
            "/content/drive/MyDrive/RAVDESS_song/Actor_13\n",
            "[]\n",
            "/content/drive/MyDrive/RAVDESS_song/Actor_12\n",
            "[]\n",
            "/content/drive/MyDrive/RAVDESS_song/Actor_14\n",
            "[]\n",
            "/content/drive/MyDrive/RAVDESS_song/Actor_15\n",
            "[]\n",
            "/content/drive/MyDrive/RAVDESS_song/Actor_16\n",
            "[]\n",
            "/content/drive/MyDrive/RAVDESS_song/Actor_17\n",
            "[]\n",
            "/content/drive/MyDrive/RAVDESS_song/Actor_18\n",
            "[]\n",
            "/content/drive/MyDrive/RAVDESS_song/Actor_19\n",
            "[]\n",
            "/content/drive/MyDrive/RAVDESS_song/Actor_21\n",
            "[]\n",
            "/content/drive/MyDrive/RAVDESS_song/Actor_22\n",
            "[]\n",
            "/content/drive/MyDrive/RAVDESS_song/Actor_23\n",
            "[]\n",
            "/content/drive/MyDrive/RAVDESS_song/Actor_09\n",
            "[]\n",
            "/content/drive/MyDrive/RAVDESS_song/Actor_24\n",
            "[]\n",
            "/content/drive/MyDrive/RAVDESS_song/Actor_04\n",
            "[]\n",
            "/content/drive/MyDrive/RAVDESS_song/Actor_08\n",
            "[]\n",
            "/content/drive/MyDrive/RAVDESS_song/Actor_03\n",
            "[]\n",
            "/content/drive/MyDrive/RAVDESS_song/Actor_02\n",
            "[]\n",
            "/content/drive/MyDrive/RAVDESS_song/Actor_06\n",
            "[]\n",
            "/content/drive/MyDrive/RAVDESS_song/Actor_05\n",
            "[]\n",
            "/content/drive/MyDrive/RAVDESS_song/Actor_01\n",
            "[]\n",
            "/content/drive/MyDrive/RAVDESS_song/Actor_07\n",
            "[]\n",
            "/content/drive/MyDrive/RAVDESS_song/Actor_20\n",
            "['Actor_05', 'Actor_08', 'Actor_10', 'Actor_04', 'Actor_09', 'Actor_14', 'Actor_12', 'Actor_13', 'Actor_11', 'Actor_06', 'Actor_24', 'Actor_07', 'Actor_23', 'Actor_22', 'Actor_21', 'Actor_20', 'Actor_02', 'Actor_19', 'Actor_18', 'Actor_17', 'Actor_16', 'Actor_15', 'Actor_03', 'Actor_01']\n",
            "/content/drive/MyDrive/RAVDESS_speech\n",
            "[]\n",
            "/content/drive/MyDrive/RAVDESS_speech/Actor_05\n",
            "[]\n",
            "/content/drive/MyDrive/RAVDESS_speech/Actor_08\n",
            "[]\n",
            "/content/drive/MyDrive/RAVDESS_speech/Actor_10\n",
            "[]\n",
            "/content/drive/MyDrive/RAVDESS_speech/Actor_04\n",
            "[]\n",
            "/content/drive/MyDrive/RAVDESS_speech/Actor_09\n",
            "[]\n",
            "/content/drive/MyDrive/RAVDESS_speech/Actor_14\n",
            "[]\n",
            "/content/drive/MyDrive/RAVDESS_speech/Actor_12\n",
            "[]\n",
            "/content/drive/MyDrive/RAVDESS_speech/Actor_13\n",
            "[]\n",
            "/content/drive/MyDrive/RAVDESS_speech/Actor_11\n",
            "[]\n",
            "/content/drive/MyDrive/RAVDESS_speech/Actor_06\n",
            "[]\n",
            "/content/drive/MyDrive/RAVDESS_speech/Actor_24\n",
            "[]\n",
            "/content/drive/MyDrive/RAVDESS_speech/Actor_07\n",
            "[]\n",
            "/content/drive/MyDrive/RAVDESS_speech/Actor_23\n",
            "[]\n",
            "/content/drive/MyDrive/RAVDESS_speech/Actor_22\n",
            "[]\n",
            "/content/drive/MyDrive/RAVDESS_speech/Actor_21\n",
            "[]\n",
            "/content/drive/MyDrive/RAVDESS_speech/Actor_20\n",
            "[]\n",
            "/content/drive/MyDrive/RAVDESS_speech/Actor_02\n",
            "[]\n",
            "/content/drive/MyDrive/RAVDESS_speech/Actor_19\n",
            "[]\n",
            "/content/drive/MyDrive/RAVDESS_speech/Actor_18\n",
            "[]\n",
            "/content/drive/MyDrive/RAVDESS_speech/Actor_17\n",
            "[]\n",
            "/content/drive/MyDrive/RAVDESS_speech/Actor_16\n",
            "[]\n",
            "/content/drive/MyDrive/RAVDESS_speech/Actor_15\n",
            "[]\n",
            "/content/drive/MyDrive/RAVDESS_speech/Actor_03\n",
            "[]\n",
            "/content/drive/MyDrive/RAVDESS_speech/Actor_01\n",
            "--- Data loaded. Loading time: 756.4914510250092 seconds ---\n"
          ]
        }
      ]
    },
    {
      "cell_type": "code",
      "source": [
        "count"
      ],
      "metadata": {
        "id": "Ltlhi25L2AI5",
        "colab": {
          "base_uri": "https://localhost:8080/"
        },
        "outputId": "9c82409b-cb8a-465a-d898-8a38162f1294"
      },
      "execution_count": 13,
      "outputs": [
        {
          "output_type": "execute_result",
          "data": {
            "text/plain": [
              "2068"
            ]
          },
          "metadata": {},
          "execution_count": 13
        }
      ]
    },
    {
      "cell_type": "code",
      "source": [
        "from numpy.core.fromnumeric import size\n",
        "size(lst)"
      ],
      "metadata": {
        "id": "HMOH7d7mzHB7",
        "colab": {
          "base_uri": "https://localhost:8080/"
        },
        "outputId": "ac93d79c-6b25-4057-a118-882ca3d4f347"
      },
      "execution_count": 14,
      "outputs": [
        {
          "output_type": "stream",
          "name": "stderr",
          "text": [
            "/usr/local/lib/python3.7/dist-packages/numpy/core/fromnumeric.py:3208: VisibleDeprecationWarning:\n",
            "\n",
            "Creating an ndarray from ragged nested sequences (which is a list-or-tuple of lists-or-tuples-or ndarrays with different lengths or shapes) is deprecated. If you meant to do this, you must specify 'dtype=object' when creating the ndarray.\n",
            "\n"
          ]
        },
        {
          "output_type": "execute_result",
          "data": {
            "text/plain": [
              "4136"
            ]
          },
          "metadata": {},
          "execution_count": 14
        }
      ]
    },
    {
      "cell_type": "code",
      "source": [
        "# Creating X and y: zip makes a list of all the first elements, and a list of all the second elements.\n",
        "X, y = zip(*lst)"
      ],
      "metadata": {
        "id": "ocdL7tSTBoMt"
      },
      "execution_count": 15,
      "outputs": []
    },
    {
      "cell_type": "code",
      "source": [
        "import numpy as np\n",
        "X = np.asarray(X)\n",
        "y = np.asarray(y)\n",
        "X.shape, y.shape"
      ],
      "metadata": {
        "id": "vHKwUGTbBtnF",
        "colab": {
          "base_uri": "https://localhost:8080/"
        },
        "outputId": "abda46ea-55e3-4f62-a16a-805aa58a4811"
      },
      "execution_count": 16,
      "outputs": [
        {
          "output_type": "execute_result",
          "data": {
            "text/plain": [
              "((2068, 40), (2068,))"
            ]
          },
          "metadata": {},
          "execution_count": 16
        }
      ]
    },
    {
      "cell_type": "code",
      "source": [
        "X.shape"
      ],
      "metadata": {
        "id": "2sUCtbfMztE5",
        "colab": {
          "base_uri": "https://localhost:8080/"
        },
        "outputId": "5d168939-c326-4878-e788-a9549caadb17"
      },
      "execution_count": 17,
      "outputs": [
        {
          "output_type": "execute_result",
          "data": {
            "text/plain": [
              "(2068, 40)"
            ]
          },
          "metadata": {},
          "execution_count": 17
        }
      ]
    },
    {
      "cell_type": "code",
      "source": [
        "# # Saving joblib files to not load them again with the loop above\n",
        "\n",
        "# import joblib\n",
        "\n",
        "# X_name = 'x.joblib'\n",
        "# y_name = 'y.joblib'\n",
        "# save_dir = '/content/drive/My Drive/graduation project/audio/paper_code/features'\n",
        "\n",
        "# savedX = joblib.dump(X, os.path.join(save_dir, X_name))\n",
        "# savedy = joblib.dump(y, os.path.join(save_dir, y_name))"
      ],
      "metadata": {
        "id": "UCzic8rlDcuk"
      },
      "execution_count": 18,
      "outputs": []
    },
    {
      "cell_type": "code",
      "source": [
        "# # Loading saved models\n",
        "# import joblib\n",
        "# X = joblib.load('/content/drive/My Drive/graduation project/audio/paper_code/features/x.joblib')\n",
        "# y = joblib.load('/content/drive/My Drive/graduation project/audio/paper_code/features/y.joblib')"
      ],
      "metadata": {
        "id": "Q35CN6zDrzg1"
      },
      "execution_count": 19,
      "outputs": []
    },
    {
      "cell_type": "code",
      "source": [
        "X.shape"
      ],
      "metadata": {
        "colab": {
          "base_uri": "https://localhost:8080/"
        },
        "id": "7PSTurzjCo5K",
        "outputId": "9c204bd4-55a7-467d-c342-e38d7e98244b"
      },
      "execution_count": 20,
      "outputs": [
        {
          "output_type": "execute_result",
          "data": {
            "text/plain": [
              "(2068, 40)"
            ]
          },
          "metadata": {},
          "execution_count": 20
        }
      ]
    },
    {
      "cell_type": "code",
      "source": [
        "from sklearn.model_selection import train_test_split\n",
        "\n",
        "X_train, X_test, y_train, y_test = train_test_split(X,y, test_size=0.2,train_size=0.8, random_state=42)\n",
        "X_valid, X_test, y_valid, y_test = train_test_split(X_test,y_test, test_size=0.5,train_size=0.5, random_state=42)"
      ],
      "metadata": {
        "id": "Ai4Fy5cPCiq1"
      },
      "execution_count": 21,
      "outputs": []
    },
    {
      "cell_type": "code",
      "source": [
        "import numpy as np\n",
        "x_traincnn = np.expand_dims(X_train, axis=2)\n",
        "x_testcnn = np.expand_dims(X_test, axis=2)\n",
        "X_valid= np.expand_dims(X_valid, axis=2)"
      ],
      "metadata": {
        "id": "tp1Fm5K3CEXu"
      },
      "execution_count": 22,
      "outputs": []
    },
    {
      "cell_type": "code",
      "source": [
        "x_traincnn.shape, x_testcnn.shape , X_valid.shape"
      ],
      "metadata": {
        "id": "RI0MxoIPBws5",
        "colab": {
          "base_uri": "https://localhost:8080/"
        },
        "outputId": "5267d471-def7-4f07-9c22-bd31af8e4183"
      },
      "execution_count": 23,
      "outputs": [
        {
          "output_type": "execute_result",
          "data": {
            "text/plain": [
              "((1654, 40, 1), (207, 40, 1), (207, 40, 1))"
            ]
          },
          "metadata": {},
          "execution_count": 23
        }
      ]
    },
    {
      "cell_type": "code",
      "source": [
        "!pip install tensorflow"
      ],
      "metadata": {
        "id": "goxL4Y3jKICC",
        "colab": {
          "base_uri": "https://localhost:8080/"
        },
        "outputId": "cc6ff6ef-1e35-431b-b9a6-3a6c073822c2"
      },
      "execution_count": 24,
      "outputs": [
        {
          "output_type": "stream",
          "name": "stdout",
          "text": [
            "Looking in indexes: https://pypi.org/simple, https://us-python.pkg.dev/colab-wheels/public/simple/\n",
            "Requirement already satisfied: tensorflow in /usr/local/lib/python3.7/dist-packages (2.8.2+zzzcolab20220527125636)\n",
            "Requirement already satisfied: setuptools in /usr/local/lib/python3.7/dist-packages (from tensorflow) (57.4.0)\n",
            "Requirement already satisfied: astunparse>=1.6.0 in /usr/local/lib/python3.7/dist-packages (from tensorflow) (1.6.3)\n",
            "Requirement already satisfied: libclang>=9.0.1 in /usr/local/lib/python3.7/dist-packages (from tensorflow) (14.0.1)\n",
            "Requirement already satisfied: tensorflow-estimator<2.9,>=2.8 in /usr/local/lib/python3.7/dist-packages (from tensorflow) (2.8.0)\n",
            "Requirement already satisfied: numpy>=1.20 in /usr/local/lib/python3.7/dist-packages (from tensorflow) (1.21.6)\n",
            "Requirement already satisfied: absl-py>=0.4.0 in /usr/local/lib/python3.7/dist-packages (from tensorflow) (1.0.0)\n",
            "Requirement already satisfied: grpcio<2.0,>=1.24.3 in /usr/local/lib/python3.7/dist-packages (from tensorflow) (1.46.3)\n",
            "Requirement already satisfied: six>=1.12.0 in /usr/local/lib/python3.7/dist-packages (from tensorflow) (1.15.0)\n",
            "Requirement already satisfied: keras-preprocessing>=1.1.1 in /usr/local/lib/python3.7/dist-packages (from tensorflow) (1.1.2)\n",
            "Requirement already satisfied: flatbuffers>=1.12 in /usr/local/lib/python3.7/dist-packages (from tensorflow) (2.0)\n",
            "Requirement already satisfied: wrapt>=1.11.0 in /usr/local/lib/python3.7/dist-packages (from tensorflow) (1.14.1)\n",
            "Requirement already satisfied: keras<2.9,>=2.8.0rc0 in /usr/local/lib/python3.7/dist-packages (from tensorflow) (2.8.0)\n",
            "Requirement already satisfied: h5py>=2.9.0 in /usr/local/lib/python3.7/dist-packages (from tensorflow) (3.1.0)\n",
            "Requirement already satisfied: tensorflow-io-gcs-filesystem>=0.23.1 in /usr/local/lib/python3.7/dist-packages (from tensorflow) (0.26.0)\n",
            "Requirement already satisfied: tensorboard<2.9,>=2.8 in /usr/local/lib/python3.7/dist-packages (from tensorflow) (2.8.0)\n",
            "Requirement already satisfied: protobuf<3.20,>=3.9.2 in /usr/local/lib/python3.7/dist-packages (from tensorflow) (3.17.3)\n",
            "Requirement already satisfied: opt-einsum>=2.3.2 in /usr/local/lib/python3.7/dist-packages (from tensorflow) (3.3.0)\n",
            "Requirement already satisfied: typing-extensions>=3.6.6 in /usr/local/lib/python3.7/dist-packages (from tensorflow) (4.2.0)\n",
            "Requirement already satisfied: termcolor>=1.1.0 in /usr/local/lib/python3.7/dist-packages (from tensorflow) (1.1.0)\n",
            "Requirement already satisfied: gast>=0.2.1 in /usr/local/lib/python3.7/dist-packages (from tensorflow) (0.5.3)\n",
            "Requirement already satisfied: google-pasta>=0.1.1 in /usr/local/lib/python3.7/dist-packages (from tensorflow) (0.2.0)\n",
            "Requirement already satisfied: wheel<1.0,>=0.23.0 in /usr/local/lib/python3.7/dist-packages (from astunparse>=1.6.0->tensorflow) (0.37.1)\n",
            "Requirement already satisfied: cached-property in /usr/local/lib/python3.7/dist-packages (from h5py>=2.9.0->tensorflow) (1.5.2)\n",
            "Requirement already satisfied: google-auth-oauthlib<0.5,>=0.4.1 in /usr/local/lib/python3.7/dist-packages (from tensorboard<2.9,>=2.8->tensorflow) (0.4.6)\n",
            "Requirement already satisfied: markdown>=2.6.8 in /usr/local/lib/python3.7/dist-packages (from tensorboard<2.9,>=2.8->tensorflow) (3.3.7)\n",
            "Requirement already satisfied: tensorboard-data-server<0.7.0,>=0.6.0 in /usr/local/lib/python3.7/dist-packages (from tensorboard<2.9,>=2.8->tensorflow) (0.6.1)\n",
            "Requirement already satisfied: werkzeug>=0.11.15 in /usr/local/lib/python3.7/dist-packages (from tensorboard<2.9,>=2.8->tensorflow) (1.0.1)\n",
            "Requirement already satisfied: tensorboard-plugin-wit>=1.6.0 in /usr/local/lib/python3.7/dist-packages (from tensorboard<2.9,>=2.8->tensorflow) (1.8.1)\n",
            "Requirement already satisfied: requests<3,>=2.21.0 in /usr/local/lib/python3.7/dist-packages (from tensorboard<2.9,>=2.8->tensorflow) (2.23.0)\n",
            "Requirement already satisfied: google-auth<3,>=1.6.3 in /usr/local/lib/python3.7/dist-packages (from tensorboard<2.9,>=2.8->tensorflow) (1.35.0)\n",
            "Requirement already satisfied: rsa<5,>=3.1.4 in /usr/local/lib/python3.7/dist-packages (from google-auth<3,>=1.6.3->tensorboard<2.9,>=2.8->tensorflow) (4.8)\n",
            "Requirement already satisfied: cachetools<5.0,>=2.0.0 in /usr/local/lib/python3.7/dist-packages (from google-auth<3,>=1.6.3->tensorboard<2.9,>=2.8->tensorflow) (4.2.4)\n",
            "Requirement already satisfied: pyasn1-modules>=0.2.1 in /usr/local/lib/python3.7/dist-packages (from google-auth<3,>=1.6.3->tensorboard<2.9,>=2.8->tensorflow) (0.2.8)\n",
            "Requirement already satisfied: requests-oauthlib>=0.7.0 in /usr/local/lib/python3.7/dist-packages (from google-auth-oauthlib<0.5,>=0.4.1->tensorboard<2.9,>=2.8->tensorflow) (1.3.1)\n",
            "Requirement already satisfied: importlib-metadata>=4.4 in /usr/local/lib/python3.7/dist-packages (from markdown>=2.6.8->tensorboard<2.9,>=2.8->tensorflow) (4.11.4)\n",
            "Requirement already satisfied: zipp>=0.5 in /usr/local/lib/python3.7/dist-packages (from importlib-metadata>=4.4->markdown>=2.6.8->tensorboard<2.9,>=2.8->tensorflow) (3.8.0)\n",
            "Requirement already satisfied: pyasn1<0.5.0,>=0.4.6 in /usr/local/lib/python3.7/dist-packages (from pyasn1-modules>=0.2.1->google-auth<3,>=1.6.3->tensorboard<2.9,>=2.8->tensorflow) (0.4.8)\n",
            "Requirement already satisfied: urllib3!=1.25.0,!=1.25.1,<1.26,>=1.21.1 in /usr/local/lib/python3.7/dist-packages (from requests<3,>=2.21.0->tensorboard<2.9,>=2.8->tensorflow) (1.24.3)\n",
            "Requirement already satisfied: idna<3,>=2.5 in /usr/local/lib/python3.7/dist-packages (from requests<3,>=2.21.0->tensorboard<2.9,>=2.8->tensorflow) (2.10)\n",
            "Requirement already satisfied: certifi>=2017.4.17 in /usr/local/lib/python3.7/dist-packages (from requests<3,>=2.21.0->tensorboard<2.9,>=2.8->tensorflow) (2022.5.18.1)\n",
            "Requirement already satisfied: chardet<4,>=3.0.2 in /usr/local/lib/python3.7/dist-packages (from requests<3,>=2.21.0->tensorboard<2.9,>=2.8->tensorflow) (3.0.4)\n",
            "Requirement already satisfied: oauthlib>=3.0.0 in /usr/local/lib/python3.7/dist-packages (from requests-oauthlib>=0.7.0->google-auth-oauthlib<0.5,>=0.4.1->tensorboard<2.9,>=2.8->tensorflow) (3.2.0)\n"
          ]
        }
      ]
    },
    {
      "cell_type": "code",
      "source": [
        "!pip install keras"
      ],
      "metadata": {
        "id": "EkcmN9UrKSxj",
        "colab": {
          "base_uri": "https://localhost:8080/"
        },
        "outputId": "30a84aee-b246-47f9-d034-3d88ca3cafd7"
      },
      "execution_count": 25,
      "outputs": [
        {
          "output_type": "stream",
          "name": "stdout",
          "text": [
            "Looking in indexes: https://pypi.org/simple, https://us-python.pkg.dev/colab-wheels/public/simple/\n",
            "Requirement already satisfied: keras in /usr/local/lib/python3.7/dist-packages (2.8.0)\n"
          ]
        }
      ]
    },
    {
      "cell_type": "code",
      "source": [
        "import keras\n",
        "import numpy as np\n",
        "import matplotlib.pyplot as plt\n",
        "import tensorflow as tf\n",
        "from keras.preprocessing import sequence\n",
        "from keras.models import Sequential\n",
        "from keras.layers import Dense, Embedding\n",
        "from tensorflow.keras.utils import to_categorical\n",
        "from keras.layers import Input, Flatten, Dropout, Activation\n",
        "from keras.layers import Conv1D, MaxPooling1D\n",
        "from keras.models import Model\n",
        "from keras.callbacks import ModelCheckpoint\n",
        "from tensorflow.keras import optimizers\n",
        "\n",
        "model = Sequential()\n",
        "\n",
        "model.add(Conv1D(128, 8,padding='same', #classifier.add(Convolution2D(64, (3, 3), padding = 'same', input_shape = (128, 128, 3), activation = 'relu'))\n",
        "                 input_shape=(40,1)))\n",
        "model.add(Activation('relu'))\n",
        "model.add(Dropout(0.3))\n",
        "model.add(MaxPooling1D(pool_size=(5)))\n",
        "\n",
        "\n",
        "model.add(Conv1D(256,8,padding='same',))\n",
        "model.add(Activation('relu'))\n",
        "model.add(Dropout(0.3))\n",
        "model.add(MaxPooling1D(pool_size=(5)))\n",
        "\n",
        "model.add(Flatten())\n",
        "\n",
        "model.add(Dense(256))\n",
        "model.add(Activation('relu'))\n",
        "model.add(Dense(256))\n",
        "model.add(Activation('relu'))\n",
        "\n",
        "model.add(Dense(6))\n",
        "model.add(Activation('softmax'))\n",
        "\n",
        "#opt = tf.keras.optimizers.Adam(lr=0.00002)\n",
        "opt = tf.keras.optimizers.RMSprop(lr=0.0001, rho=0.9, epsilon=1e-07, decay=0.0)\n",
        "#opt = tf.keras.optimizers.SGD(lr=0.001, momentum=0.0, decay=0.0, nesterov=False)"
      ],
      "metadata": {
        "id": "g74fXWVAC4Cr",
        "colab": {
          "base_uri": "https://localhost:8080/"
        },
        "outputId": "dfd9403d-806b-4ac0-aee0-3f6bc22953a1"
      },
      "execution_count": 26,
      "outputs": [
        {
          "output_type": "stream",
          "name": "stderr",
          "text": [
            "/usr/local/lib/python3.7/dist-packages/keras/optimizer_v2/rmsprop.py:130: UserWarning:\n",
            "\n",
            "The `lr` argument is deprecated, use `learning_rate` instead.\n",
            "\n"
          ]
        }
      ]
    },
    {
      "cell_type": "code",
      "source": [
        "model.summary()"
      ],
      "metadata": {
        "colab": {
          "base_uri": "https://localhost:8080/"
        },
        "id": "H6ukOxAGC_I4",
        "outputId": "9a7b18a6-6df0-4004-a804-9caf0f15a935"
      },
      "execution_count": 27,
      "outputs": [
        {
          "output_type": "stream",
          "name": "stdout",
          "text": [
            "Model: \"sequential\"\n",
            "_________________________________________________________________\n",
            " Layer (type)                Output Shape              Param #   \n",
            "=================================================================\n",
            " conv1d (Conv1D)             (None, 40, 128)           1152      \n",
            "                                                                 \n",
            " activation (Activation)     (None, 40, 128)           0         \n",
            "                                                                 \n",
            " dropout (Dropout)           (None, 40, 128)           0         \n",
            "                                                                 \n",
            " max_pooling1d (MaxPooling1D  (None, 8, 128)           0         \n",
            " )                                                               \n",
            "                                                                 \n",
            " conv1d_1 (Conv1D)           (None, 8, 256)            262400    \n",
            "                                                                 \n",
            " activation_1 (Activation)   (None, 8, 256)            0         \n",
            "                                                                 \n",
            " dropout_1 (Dropout)         (None, 8, 256)            0         \n",
            "                                                                 \n",
            " max_pooling1d_1 (MaxPooling  (None, 1, 256)           0         \n",
            " 1D)                                                             \n",
            "                                                                 \n",
            " flatten (Flatten)           (None, 256)               0         \n",
            "                                                                 \n",
            " dense (Dense)               (None, 256)               65792     \n",
            "                                                                 \n",
            " activation_2 (Activation)   (None, 256)               0         \n",
            "                                                                 \n",
            " dense_1 (Dense)             (None, 256)               65792     \n",
            "                                                                 \n",
            " activation_3 (Activation)   (None, 256)               0         \n",
            "                                                                 \n",
            " dense_2 (Dense)             (None, 6)                 1542      \n",
            "                                                                 \n",
            " activation_4 (Activation)   (None, 6)                 0         \n",
            "                                                                 \n",
            "=================================================================\n",
            "Total params: 396,678\n",
            "Trainable params: 396,678\n",
            "Non-trainable params: 0\n",
            "_________________________________________________________________\n"
          ]
        }
      ]
    },
    {
      "cell_type": "code",
      "source": [
        "model.compile(loss='sparse_categorical_crossentropy',\n",
        "              optimizer=opt,\n",
        "              metrics=['accuracy'])"
      ],
      "metadata": {
        "id": "AbMlLNk4DCBM"
      },
      "execution_count": 28,
      "outputs": []
    },
    {
      "cell_type": "code",
      "source": [
        "#cnnhistory=model.fit(x_traincnn, y_train, batch_size=16, epochs=700, validation_data=(x_testcnn, y_test))\n",
        "cnnhistory=model.fit(x_traincnn, y_train, batch_size=16, epochs=500 , validation_data=(X_valid, y_valid))"
      ],
      "metadata": {
        "colab": {
          "base_uri": "https://localhost:8080/"
        },
        "id": "RI1v2AuADFhy",
        "outputId": "8e166e5e-7102-4798-e088-10c3bf81166f"
      },
      "execution_count": 29,
      "outputs": [
        {
          "output_type": "stream",
          "name": "stdout",
          "text": [
            "Epoch 1/500\n",
            "104/104 [==============================] - 16s 19ms/step - loss: 4.9219 - accuracy: 0.1741 - val_loss: 2.0500 - val_accuracy: 0.1836\n",
            "Epoch 2/500\n",
            "104/104 [==============================] - 1s 10ms/step - loss: 2.9902 - accuracy: 0.1759 - val_loss: 2.0220 - val_accuracy: 0.2029\n",
            "Epoch 3/500\n",
            "104/104 [==============================] - 1s 9ms/step - loss: 2.3372 - accuracy: 0.2044 - val_loss: 1.6790 - val_accuracy: 0.3140\n",
            "Epoch 4/500\n",
            "104/104 [==============================] - 1s 8ms/step - loss: 2.1756 - accuracy: 0.2122 - val_loss: 1.8728 - val_accuracy: 0.1836\n",
            "Epoch 5/500\n",
            "104/104 [==============================] - 1s 8ms/step - loss: 2.0661 - accuracy: 0.2279 - val_loss: 1.9706 - val_accuracy: 0.0628\n",
            "Epoch 6/500\n",
            "104/104 [==============================] - 1s 9ms/step - loss: 1.9766 - accuracy: 0.2019 - val_loss: 1.7018 - val_accuracy: 0.3720\n",
            "Epoch 7/500\n",
            "104/104 [==============================] - 1s 8ms/step - loss: 1.9279 - accuracy: 0.2261 - val_loss: 1.7021 - val_accuracy: 0.3043\n",
            "Epoch 8/500\n",
            "104/104 [==============================] - 1s 8ms/step - loss: 1.9105 - accuracy: 0.2177 - val_loss: 1.6933 - val_accuracy: 0.3140\n",
            "Epoch 9/500\n",
            "104/104 [==============================] - 1s 9ms/step - loss: 1.8303 - accuracy: 0.2521 - val_loss: 1.6892 - val_accuracy: 0.2657\n",
            "Epoch 10/500\n",
            "104/104 [==============================] - 1s 9ms/step - loss: 1.8213 - accuracy: 0.2449 - val_loss: 1.7464 - val_accuracy: 0.2271\n",
            "Epoch 11/500\n",
            "104/104 [==============================] - 1s 8ms/step - loss: 1.7586 - accuracy: 0.2703 - val_loss: 1.6566 - val_accuracy: 0.3237\n",
            "Epoch 12/500\n",
            "104/104 [==============================] - 1s 9ms/step - loss: 1.7521 - accuracy: 0.2860 - val_loss: 1.6001 - val_accuracy: 0.3720\n",
            "Epoch 13/500\n",
            "104/104 [==============================] - 1s 9ms/step - loss: 1.7100 - accuracy: 0.2854 - val_loss: 1.6558 - val_accuracy: 0.2512\n",
            "Epoch 14/500\n",
            "104/104 [==============================] - 1s 8ms/step - loss: 1.7030 - accuracy: 0.2848 - val_loss: 1.6102 - val_accuracy: 0.3043\n",
            "Epoch 15/500\n",
            "104/104 [==============================] - 1s 8ms/step - loss: 1.7299 - accuracy: 0.2648 - val_loss: 1.6158 - val_accuracy: 0.3188\n",
            "Epoch 16/500\n",
            "104/104 [==============================] - 1s 9ms/step - loss: 1.6614 - accuracy: 0.3023 - val_loss: 1.5557 - val_accuracy: 0.4010\n",
            "Epoch 17/500\n",
            "104/104 [==============================] - 1s 9ms/step - loss: 1.6462 - accuracy: 0.3180 - val_loss: 1.5836 - val_accuracy: 0.3478\n",
            "Epoch 18/500\n",
            "104/104 [==============================] - 1s 8ms/step - loss: 1.6217 - accuracy: 0.3241 - val_loss: 1.5897 - val_accuracy: 0.3188\n",
            "Epoch 19/500\n",
            "104/104 [==============================] - 1s 8ms/step - loss: 1.6159 - accuracy: 0.3531 - val_loss: 1.5369 - val_accuracy: 0.4155\n",
            "Epoch 20/500\n",
            "104/104 [==============================] - 1s 8ms/step - loss: 1.5753 - accuracy: 0.3416 - val_loss: 1.5393 - val_accuracy: 0.3768\n",
            "Epoch 21/500\n",
            "104/104 [==============================] - 1s 7ms/step - loss: 1.5843 - accuracy: 0.3362 - val_loss: 1.5155 - val_accuracy: 0.3575\n",
            "Epoch 22/500\n",
            "104/104 [==============================] - 1s 5ms/step - loss: 1.5563 - accuracy: 0.3470 - val_loss: 1.5312 - val_accuracy: 0.3720\n",
            "Epoch 23/500\n",
            "104/104 [==============================] - 0s 5ms/step - loss: 1.5294 - accuracy: 0.3773 - val_loss: 1.4455 - val_accuracy: 0.4734\n",
            "Epoch 24/500\n",
            "104/104 [==============================] - 0s 5ms/step - loss: 1.5447 - accuracy: 0.3615 - val_loss: 1.4258 - val_accuracy: 0.4541\n",
            "Epoch 25/500\n",
            "104/104 [==============================] - 1s 5ms/step - loss: 1.4786 - accuracy: 0.3863 - val_loss: 1.4396 - val_accuracy: 0.4058\n",
            "Epoch 26/500\n",
            "104/104 [==============================] - 1s 5ms/step - loss: 1.4989 - accuracy: 0.3851 - val_loss: 1.3969 - val_accuracy: 0.3961\n",
            "Epoch 27/500\n",
            "104/104 [==============================] - 1s 5ms/step - loss: 1.4425 - accuracy: 0.3984 - val_loss: 1.4357 - val_accuracy: 0.3961\n",
            "Epoch 28/500\n",
            "104/104 [==============================] - 1s 5ms/step - loss: 1.4650 - accuracy: 0.3972 - val_loss: 1.4533 - val_accuracy: 0.4444\n",
            "Epoch 29/500\n",
            "104/104 [==============================] - 1s 5ms/step - loss: 1.4485 - accuracy: 0.4117 - val_loss: 1.3911 - val_accuracy: 0.4155\n",
            "Epoch 30/500\n",
            "104/104 [==============================] - 1s 5ms/step - loss: 1.4096 - accuracy: 0.4166 - val_loss: 1.4570 - val_accuracy: 0.3382\n",
            "Epoch 31/500\n",
            "104/104 [==============================] - 0s 5ms/step - loss: 1.4214 - accuracy: 0.4129 - val_loss: 1.3661 - val_accuracy: 0.4879\n",
            "Epoch 32/500\n",
            "104/104 [==============================] - 1s 5ms/step - loss: 1.4095 - accuracy: 0.4256 - val_loss: 1.3623 - val_accuracy: 0.4976\n",
            "Epoch 33/500\n",
            "104/104 [==============================] - 1s 5ms/step - loss: 1.3976 - accuracy: 0.4178 - val_loss: 1.3641 - val_accuracy: 0.4879\n",
            "Epoch 34/500\n",
            "104/104 [==============================] - 1s 5ms/step - loss: 1.3827 - accuracy: 0.4274 - val_loss: 1.3309 - val_accuracy: 0.4783\n",
            "Epoch 35/500\n",
            "104/104 [==============================] - 1s 5ms/step - loss: 1.3539 - accuracy: 0.4389 - val_loss: 1.3563 - val_accuracy: 0.4879\n",
            "Epoch 36/500\n",
            "104/104 [==============================] - 1s 5ms/step - loss: 1.3482 - accuracy: 0.4377 - val_loss: 1.2639 - val_accuracy: 0.5024\n",
            "Epoch 37/500\n",
            "104/104 [==============================] - 1s 5ms/step - loss: 1.3377 - accuracy: 0.4601 - val_loss: 1.2961 - val_accuracy: 0.4783\n",
            "Epoch 38/500\n",
            "104/104 [==============================] - 1s 5ms/step - loss: 1.3260 - accuracy: 0.4432 - val_loss: 1.2717 - val_accuracy: 0.5121\n",
            "Epoch 39/500\n",
            "104/104 [==============================] - 1s 5ms/step - loss: 1.2903 - accuracy: 0.4813 - val_loss: 1.2105 - val_accuracy: 0.5604\n",
            "Epoch 40/500\n",
            "104/104 [==============================] - 1s 5ms/step - loss: 1.2694 - accuracy: 0.4758 - val_loss: 1.1732 - val_accuracy: 0.5507\n",
            "Epoch 41/500\n",
            "104/104 [==============================] - 1s 5ms/step - loss: 1.2907 - accuracy: 0.4807 - val_loss: 1.3568 - val_accuracy: 0.4396\n",
            "Epoch 42/500\n",
            "104/104 [==============================] - 1s 5ms/step - loss: 1.2723 - accuracy: 0.4764 - val_loss: 1.2707 - val_accuracy: 0.4831\n",
            "Epoch 43/500\n",
            "104/104 [==============================] - 1s 5ms/step - loss: 1.2342 - accuracy: 0.4958 - val_loss: 1.2027 - val_accuracy: 0.5024\n",
            "Epoch 44/500\n",
            "104/104 [==============================] - 1s 5ms/step - loss: 1.2515 - accuracy: 0.4891 - val_loss: 1.1496 - val_accuracy: 0.5845\n",
            "Epoch 45/500\n",
            "104/104 [==============================] - 1s 5ms/step - loss: 1.2203 - accuracy: 0.5200 - val_loss: 1.2036 - val_accuracy: 0.5024\n",
            "Epoch 46/500\n",
            "104/104 [==============================] - 1s 5ms/step - loss: 1.2226 - accuracy: 0.5079 - val_loss: 1.1760 - val_accuracy: 0.5700\n",
            "Epoch 47/500\n",
            "104/104 [==============================] - 1s 5ms/step - loss: 1.2107 - accuracy: 0.5054 - val_loss: 1.1474 - val_accuracy: 0.5507\n",
            "Epoch 48/500\n",
            "104/104 [==============================] - 1s 5ms/step - loss: 1.2054 - accuracy: 0.5036 - val_loss: 1.1557 - val_accuracy: 0.5411\n",
            "Epoch 49/500\n",
            "104/104 [==============================] - 1s 5ms/step - loss: 1.2041 - accuracy: 0.5060 - val_loss: 1.1395 - val_accuracy: 0.5797\n",
            "Epoch 50/500\n",
            "104/104 [==============================] - 1s 5ms/step - loss: 1.1940 - accuracy: 0.5091 - val_loss: 1.1782 - val_accuracy: 0.5314\n",
            "Epoch 51/500\n",
            "104/104 [==============================] - 1s 5ms/step - loss: 1.1589 - accuracy: 0.5230 - val_loss: 1.1132 - val_accuracy: 0.5894\n",
            "Epoch 52/500\n",
            "104/104 [==============================] - 1s 5ms/step - loss: 1.1693 - accuracy: 0.5175 - val_loss: 1.0936 - val_accuracy: 0.5797\n",
            "Epoch 53/500\n",
            "104/104 [==============================] - 1s 5ms/step - loss: 1.1626 - accuracy: 0.5435 - val_loss: 1.0971 - val_accuracy: 0.5845\n",
            "Epoch 54/500\n",
            "104/104 [==============================] - 1s 5ms/step - loss: 1.1416 - accuracy: 0.5302 - val_loss: 1.0894 - val_accuracy: 0.5894\n",
            "Epoch 55/500\n",
            "104/104 [==============================] - 1s 5ms/step - loss: 1.1354 - accuracy: 0.5345 - val_loss: 1.1588 - val_accuracy: 0.5266\n",
            "Epoch 56/500\n",
            "104/104 [==============================] - 0s 5ms/step - loss: 1.1103 - accuracy: 0.5387 - val_loss: 1.1117 - val_accuracy: 0.5507\n",
            "Epoch 57/500\n",
            "104/104 [==============================] - 1s 5ms/step - loss: 1.1337 - accuracy: 0.5453 - val_loss: 1.1372 - val_accuracy: 0.5797\n",
            "Epoch 58/500\n",
            "104/104 [==============================] - 1s 5ms/step - loss: 1.0962 - accuracy: 0.5520 - val_loss: 1.0546 - val_accuracy: 0.6087\n",
            "Epoch 59/500\n",
            "104/104 [==============================] - 1s 5ms/step - loss: 1.0942 - accuracy: 0.5689 - val_loss: 1.0541 - val_accuracy: 0.5942\n",
            "Epoch 60/500\n",
            "104/104 [==============================] - 1s 5ms/step - loss: 1.0756 - accuracy: 0.5605 - val_loss: 1.0646 - val_accuracy: 0.5894\n",
            "Epoch 61/500\n",
            "104/104 [==============================] - 1s 5ms/step - loss: 1.0847 - accuracy: 0.5623 - val_loss: 1.1009 - val_accuracy: 0.5604\n",
            "Epoch 62/500\n",
            "104/104 [==============================] - 1s 5ms/step - loss: 1.0799 - accuracy: 0.5526 - val_loss: 1.0525 - val_accuracy: 0.6232\n",
            "Epoch 63/500\n",
            "104/104 [==============================] - 1s 5ms/step - loss: 1.0661 - accuracy: 0.5756 - val_loss: 1.0871 - val_accuracy: 0.5894\n",
            "Epoch 64/500\n",
            "104/104 [==============================] - 1s 5ms/step - loss: 1.0527 - accuracy: 0.5786 - val_loss: 1.0451 - val_accuracy: 0.5749\n",
            "Epoch 65/500\n",
            "104/104 [==============================] - 1s 5ms/step - loss: 1.0441 - accuracy: 0.5689 - val_loss: 1.0245 - val_accuracy: 0.6184\n",
            "Epoch 66/500\n",
            "104/104 [==============================] - 1s 5ms/step - loss: 1.0486 - accuracy: 0.5701 - val_loss: 1.0223 - val_accuracy: 0.6039\n",
            "Epoch 67/500\n",
            "104/104 [==============================] - 1s 5ms/step - loss: 1.0352 - accuracy: 0.5756 - val_loss: 1.0138 - val_accuracy: 0.5990\n",
            "Epoch 68/500\n",
            "104/104 [==============================] - 1s 5ms/step - loss: 1.0111 - accuracy: 0.5877 - val_loss: 1.0363 - val_accuracy: 0.5845\n",
            "Epoch 69/500\n",
            "104/104 [==============================] - 1s 5ms/step - loss: 1.0253 - accuracy: 0.5871 - val_loss: 0.9800 - val_accuracy: 0.6522\n",
            "Epoch 70/500\n",
            "104/104 [==============================] - 0s 5ms/step - loss: 1.0278 - accuracy: 0.5877 - val_loss: 0.9884 - val_accuracy: 0.6280\n",
            "Epoch 71/500\n",
            "104/104 [==============================] - 1s 5ms/step - loss: 0.9861 - accuracy: 0.6004 - val_loss: 1.0367 - val_accuracy: 0.5797\n",
            "Epoch 72/500\n",
            "104/104 [==============================] - 1s 5ms/step - loss: 1.0203 - accuracy: 0.5865 - val_loss: 1.0021 - val_accuracy: 0.6087\n",
            "Epoch 73/500\n",
            "104/104 [==============================] - 1s 5ms/step - loss: 1.0051 - accuracy: 0.5955 - val_loss: 0.9749 - val_accuracy: 0.6184\n",
            "Epoch 74/500\n",
            "104/104 [==============================] - 1s 5ms/step - loss: 0.9875 - accuracy: 0.5931 - val_loss: 0.9854 - val_accuracy: 0.6135\n",
            "Epoch 75/500\n",
            "104/104 [==============================] - 0s 5ms/step - loss: 0.9820 - accuracy: 0.5998 - val_loss: 0.9554 - val_accuracy: 0.6570\n",
            "Epoch 76/500\n",
            "104/104 [==============================] - 1s 5ms/step - loss: 0.9712 - accuracy: 0.6040 - val_loss: 0.9679 - val_accuracy: 0.5894\n",
            "Epoch 77/500\n",
            "104/104 [==============================] - 1s 5ms/step - loss: 0.9600 - accuracy: 0.6112 - val_loss: 0.9468 - val_accuracy: 0.5990\n",
            "Epoch 78/500\n",
            "104/104 [==============================] - 1s 5ms/step - loss: 0.9591 - accuracy: 0.6300 - val_loss: 0.9803 - val_accuracy: 0.5942\n",
            "Epoch 79/500\n",
            "104/104 [==============================] - 1s 5ms/step - loss: 0.9571 - accuracy: 0.6046 - val_loss: 0.9774 - val_accuracy: 0.6184\n",
            "Epoch 80/500\n",
            "104/104 [==============================] - 1s 5ms/step - loss: 0.9316 - accuracy: 0.6209 - val_loss: 0.9162 - val_accuracy: 0.6570\n",
            "Epoch 81/500\n",
            "104/104 [==============================] - 0s 5ms/step - loss: 0.9193 - accuracy: 0.6360 - val_loss: 0.9789 - val_accuracy: 0.5797\n",
            "Epoch 82/500\n",
            "104/104 [==============================] - 1s 5ms/step - loss: 0.9425 - accuracy: 0.6239 - val_loss: 0.9511 - val_accuracy: 0.6232\n",
            "Epoch 83/500\n",
            "104/104 [==============================] - 0s 5ms/step - loss: 0.9220 - accuracy: 0.6245 - val_loss: 0.9439 - val_accuracy: 0.5942\n",
            "Epoch 84/500\n",
            "104/104 [==============================] - 0s 5ms/step - loss: 0.9240 - accuracy: 0.6239 - val_loss: 0.9234 - val_accuracy: 0.6232\n",
            "Epoch 85/500\n",
            "104/104 [==============================] - 1s 5ms/step - loss: 0.9081 - accuracy: 0.6354 - val_loss: 0.9364 - val_accuracy: 0.6329\n",
            "Epoch 86/500\n",
            "104/104 [==============================] - 1s 5ms/step - loss: 0.9233 - accuracy: 0.6270 - val_loss: 0.9194 - val_accuracy: 0.6135\n",
            "Epoch 87/500\n",
            "104/104 [==============================] - 0s 5ms/step - loss: 0.8822 - accuracy: 0.6493 - val_loss: 0.9021 - val_accuracy: 0.6377\n",
            "Epoch 88/500\n",
            "104/104 [==============================] - 1s 5ms/step - loss: 0.9060 - accuracy: 0.6397 - val_loss: 0.8880 - val_accuracy: 0.6715\n",
            "Epoch 89/500\n",
            "104/104 [==============================] - 1s 5ms/step - loss: 0.8995 - accuracy: 0.6366 - val_loss: 0.9021 - val_accuracy: 0.6425\n",
            "Epoch 90/500\n",
            "104/104 [==============================] - 1s 5ms/step - loss: 0.8873 - accuracy: 0.6463 - val_loss: 0.8963 - val_accuracy: 0.6377\n",
            "Epoch 91/500\n",
            "104/104 [==============================] - 1s 5ms/step - loss: 0.8836 - accuracy: 0.6518 - val_loss: 0.9243 - val_accuracy: 0.6473\n",
            "Epoch 92/500\n",
            "104/104 [==============================] - 1s 5ms/step - loss: 0.8713 - accuracy: 0.6560 - val_loss: 0.9106 - val_accuracy: 0.6329\n",
            "Epoch 93/500\n",
            "104/104 [==============================] - 1s 5ms/step - loss: 0.8796 - accuracy: 0.6620 - val_loss: 0.8645 - val_accuracy: 0.7005\n",
            "Epoch 94/500\n",
            "104/104 [==============================] - 1s 5ms/step - loss: 0.8470 - accuracy: 0.6584 - val_loss: 0.8842 - val_accuracy: 0.6715\n",
            "Epoch 95/500\n",
            "104/104 [==============================] - 1s 5ms/step - loss: 0.8815 - accuracy: 0.6457 - val_loss: 0.9083 - val_accuracy: 0.6087\n",
            "Epoch 96/500\n",
            "104/104 [==============================] - 1s 5ms/step - loss: 0.8472 - accuracy: 0.6548 - val_loss: 0.8909 - val_accuracy: 0.6522\n",
            "Epoch 97/500\n",
            "104/104 [==============================] - 1s 5ms/step - loss: 0.8584 - accuracy: 0.6524 - val_loss: 0.9281 - val_accuracy: 0.6232\n",
            "Epoch 98/500\n",
            "104/104 [==============================] - 1s 5ms/step - loss: 0.8419 - accuracy: 0.6657 - val_loss: 0.8821 - val_accuracy: 0.6329\n",
            "Epoch 99/500\n",
            "104/104 [==============================] - 1s 5ms/step - loss: 0.8486 - accuracy: 0.6741 - val_loss: 0.9247 - val_accuracy: 0.6184\n",
            "Epoch 100/500\n",
            "104/104 [==============================] - 1s 5ms/step - loss: 0.8267 - accuracy: 0.6669 - val_loss: 0.8497 - val_accuracy: 0.6570\n",
            "Epoch 101/500\n",
            "104/104 [==============================] - 1s 5ms/step - loss: 0.8367 - accuracy: 0.6554 - val_loss: 0.9419 - val_accuracy: 0.6087\n",
            "Epoch 102/500\n",
            "104/104 [==============================] - 1s 5ms/step - loss: 0.8405 - accuracy: 0.6536 - val_loss: 0.8659 - val_accuracy: 0.6570\n",
            "Epoch 103/500\n",
            "104/104 [==============================] - 1s 5ms/step - loss: 0.8196 - accuracy: 0.6693 - val_loss: 0.8950 - val_accuracy: 0.6667\n",
            "Epoch 104/500\n",
            "104/104 [==============================] - 1s 5ms/step - loss: 0.8051 - accuracy: 0.6814 - val_loss: 0.8957 - val_accuracy: 0.6667\n",
            "Epoch 105/500\n",
            "104/104 [==============================] - 1s 5ms/step - loss: 0.8130 - accuracy: 0.6687 - val_loss: 0.8412 - val_accuracy: 0.6812\n",
            "Epoch 106/500\n",
            "104/104 [==============================] - 1s 5ms/step - loss: 0.7934 - accuracy: 0.6880 - val_loss: 0.9029 - val_accuracy: 0.6039\n",
            "Epoch 107/500\n",
            "104/104 [==============================] - 1s 5ms/step - loss: 0.8089 - accuracy: 0.6669 - val_loss: 0.8308 - val_accuracy: 0.6522\n",
            "Epoch 108/500\n",
            "104/104 [==============================] - 1s 5ms/step - loss: 0.7781 - accuracy: 0.6838 - val_loss: 0.8361 - val_accuracy: 0.6763\n",
            "Epoch 109/500\n",
            "104/104 [==============================] - 1s 5ms/step - loss: 0.7891 - accuracy: 0.6844 - val_loss: 0.8999 - val_accuracy: 0.6377\n",
            "Epoch 110/500\n",
            "104/104 [==============================] - 0s 5ms/step - loss: 0.7925 - accuracy: 0.6729 - val_loss: 0.8589 - val_accuracy: 0.6425\n",
            "Epoch 111/500\n",
            "104/104 [==============================] - 1s 5ms/step - loss: 0.7785 - accuracy: 0.6929 - val_loss: 0.8217 - val_accuracy: 0.6860\n",
            "Epoch 112/500\n",
            "104/104 [==============================] - 1s 5ms/step - loss: 0.7897 - accuracy: 0.6868 - val_loss: 0.8267 - val_accuracy: 0.6957\n",
            "Epoch 113/500\n",
            "104/104 [==============================] - 1s 5ms/step - loss: 0.7705 - accuracy: 0.6971 - val_loss: 0.8298 - val_accuracy: 0.6957\n",
            "Epoch 114/500\n",
            "104/104 [==============================] - 0s 5ms/step - loss: 0.7834 - accuracy: 0.6874 - val_loss: 0.9177 - val_accuracy: 0.6329\n",
            "Epoch 115/500\n",
            "104/104 [==============================] - 1s 5ms/step - loss: 0.7556 - accuracy: 0.7025 - val_loss: 0.8942 - val_accuracy: 0.6377\n",
            "Epoch 116/500\n",
            "104/104 [==============================] - 1s 5ms/step - loss: 0.7739 - accuracy: 0.6838 - val_loss: 0.8602 - val_accuracy: 0.6184\n",
            "Epoch 117/500\n",
            "104/104 [==============================] - 1s 5ms/step - loss: 0.7435 - accuracy: 0.7007 - val_loss: 0.8089 - val_accuracy: 0.6908\n",
            "Epoch 118/500\n",
            "104/104 [==============================] - 0s 5ms/step - loss: 0.7529 - accuracy: 0.6923 - val_loss: 0.8182 - val_accuracy: 0.6957\n",
            "Epoch 119/500\n",
            "104/104 [==============================] - 1s 5ms/step - loss: 0.7477 - accuracy: 0.7086 - val_loss: 0.8005 - val_accuracy: 0.6812\n",
            "Epoch 120/500\n",
            "104/104 [==============================] - 0s 5ms/step - loss: 0.7613 - accuracy: 0.6947 - val_loss: 0.8176 - val_accuracy: 0.6618\n",
            "Epoch 121/500\n",
            "104/104 [==============================] - 1s 5ms/step - loss: 0.7552 - accuracy: 0.7031 - val_loss: 0.7982 - val_accuracy: 0.7005\n",
            "Epoch 122/500\n",
            "104/104 [==============================] - 0s 5ms/step - loss: 0.7254 - accuracy: 0.7177 - val_loss: 0.8042 - val_accuracy: 0.6957\n",
            "Epoch 123/500\n",
            "104/104 [==============================] - 1s 5ms/step - loss: 0.7447 - accuracy: 0.6892 - val_loss: 0.8315 - val_accuracy: 0.7101\n",
            "Epoch 124/500\n",
            "104/104 [==============================] - 1s 5ms/step - loss: 0.7320 - accuracy: 0.7104 - val_loss: 0.8107 - val_accuracy: 0.7005\n",
            "Epoch 125/500\n",
            "104/104 [==============================] - 1s 5ms/step - loss: 0.7122 - accuracy: 0.7207 - val_loss: 0.8075 - val_accuracy: 0.6763\n",
            "Epoch 126/500\n",
            "104/104 [==============================] - 1s 5ms/step - loss: 0.7264 - accuracy: 0.7152 - val_loss: 0.8361 - val_accuracy: 0.6763\n",
            "Epoch 127/500\n",
            "104/104 [==============================] - 1s 5ms/step - loss: 0.7052 - accuracy: 0.7201 - val_loss: 0.7738 - val_accuracy: 0.6763\n",
            "Epoch 128/500\n",
            "104/104 [==============================] - 0s 5ms/step - loss: 0.7132 - accuracy: 0.7189 - val_loss: 0.7978 - val_accuracy: 0.7246\n",
            "Epoch 129/500\n",
            "104/104 [==============================] - 1s 9ms/step - loss: 0.6986 - accuracy: 0.7261 - val_loss: 0.7952 - val_accuracy: 0.6715\n",
            "Epoch 130/500\n",
            "104/104 [==============================] - 1s 8ms/step - loss: 0.6848 - accuracy: 0.7376 - val_loss: 0.8321 - val_accuracy: 0.6570\n",
            "Epoch 131/500\n",
            "104/104 [==============================] - 1s 8ms/step - loss: 0.7037 - accuracy: 0.7158 - val_loss: 0.7652 - val_accuracy: 0.7053\n",
            "Epoch 132/500\n",
            "104/104 [==============================] - 1s 8ms/step - loss: 0.6950 - accuracy: 0.7237 - val_loss: 0.7829 - val_accuracy: 0.7005\n",
            "Epoch 133/500\n",
            "104/104 [==============================] - 1s 9ms/step - loss: 0.6870 - accuracy: 0.7376 - val_loss: 0.8182 - val_accuracy: 0.6570\n",
            "Epoch 134/500\n",
            "104/104 [==============================] - 1s 7ms/step - loss: 0.6732 - accuracy: 0.7310 - val_loss: 0.7541 - val_accuracy: 0.6957\n",
            "Epoch 135/500\n",
            "104/104 [==============================] - 1s 5ms/step - loss: 0.6865 - accuracy: 0.7304 - val_loss: 0.7616 - val_accuracy: 0.7005\n",
            "Epoch 136/500\n",
            "104/104 [==============================] - 1s 5ms/step - loss: 0.6627 - accuracy: 0.7352 - val_loss: 0.7593 - val_accuracy: 0.7005\n",
            "Epoch 137/500\n",
            "104/104 [==============================] - 1s 5ms/step - loss: 0.6875 - accuracy: 0.7334 - val_loss: 0.7729 - val_accuracy: 0.6763\n",
            "Epoch 138/500\n",
            "104/104 [==============================] - 1s 5ms/step - loss: 0.6847 - accuracy: 0.7207 - val_loss: 0.8066 - val_accuracy: 0.6667\n",
            "Epoch 139/500\n",
            "104/104 [==============================] - 1s 5ms/step - loss: 0.6473 - accuracy: 0.7527 - val_loss: 0.8056 - val_accuracy: 0.6908\n",
            "Epoch 140/500\n",
            "104/104 [==============================] - 1s 5ms/step - loss: 0.6622 - accuracy: 0.7352 - val_loss: 0.7534 - val_accuracy: 0.7053\n",
            "Epoch 141/500\n",
            "104/104 [==============================] - 0s 5ms/step - loss: 0.6486 - accuracy: 0.7418 - val_loss: 0.7866 - val_accuracy: 0.6522\n",
            "Epoch 142/500\n",
            "104/104 [==============================] - 1s 5ms/step - loss: 0.6480 - accuracy: 0.7473 - val_loss: 0.7647 - val_accuracy: 0.6812\n",
            "Epoch 143/500\n",
            "104/104 [==============================] - 1s 5ms/step - loss: 0.6608 - accuracy: 0.7437 - val_loss: 0.7315 - val_accuracy: 0.7053\n",
            "Epoch 144/500\n",
            "104/104 [==============================] - 1s 5ms/step - loss: 0.6516 - accuracy: 0.7388 - val_loss: 0.7467 - val_accuracy: 0.6957\n",
            "Epoch 145/500\n",
            "104/104 [==============================] - 1s 5ms/step - loss: 0.6448 - accuracy: 0.7388 - val_loss: 0.7731 - val_accuracy: 0.6763\n",
            "Epoch 146/500\n",
            "104/104 [==============================] - 1s 6ms/step - loss: 0.6454 - accuracy: 0.7515 - val_loss: 0.7598 - val_accuracy: 0.6957\n",
            "Epoch 147/500\n",
            "104/104 [==============================] - 1s 5ms/step - loss: 0.6442 - accuracy: 0.7582 - val_loss: 0.7319 - val_accuracy: 0.6957\n",
            "Epoch 148/500\n",
            "104/104 [==============================] - 1s 5ms/step - loss: 0.6478 - accuracy: 0.7437 - val_loss: 0.7536 - val_accuracy: 0.6957\n",
            "Epoch 149/500\n",
            "104/104 [==============================] - 1s 5ms/step - loss: 0.6381 - accuracy: 0.7545 - val_loss: 0.7475 - val_accuracy: 0.6957\n",
            "Epoch 150/500\n",
            "104/104 [==============================] - 1s 5ms/step - loss: 0.6384 - accuracy: 0.7509 - val_loss: 0.7306 - val_accuracy: 0.7101\n",
            "Epoch 151/500\n",
            "104/104 [==============================] - 1s 5ms/step - loss: 0.6351 - accuracy: 0.7527 - val_loss: 0.7983 - val_accuracy: 0.7053\n",
            "Epoch 152/500\n",
            "104/104 [==============================] - 1s 5ms/step - loss: 0.6381 - accuracy: 0.7533 - val_loss: 0.7497 - val_accuracy: 0.6957\n",
            "Epoch 153/500\n",
            "104/104 [==============================] - 1s 5ms/step - loss: 0.6287 - accuracy: 0.7503 - val_loss: 0.7856 - val_accuracy: 0.6812\n",
            "Epoch 154/500\n",
            "104/104 [==============================] - 1s 5ms/step - loss: 0.6322 - accuracy: 0.7594 - val_loss: 0.7241 - val_accuracy: 0.7053\n",
            "Epoch 155/500\n",
            "104/104 [==============================] - 1s 5ms/step - loss: 0.6151 - accuracy: 0.7642 - val_loss: 0.7328 - val_accuracy: 0.7005\n",
            "Epoch 156/500\n",
            "104/104 [==============================] - 1s 5ms/step - loss: 0.6164 - accuracy: 0.7594 - val_loss: 0.7716 - val_accuracy: 0.6957\n",
            "Epoch 157/500\n",
            "104/104 [==============================] - 1s 5ms/step - loss: 0.6167 - accuracy: 0.7509 - val_loss: 0.7043 - val_accuracy: 0.7198\n",
            "Epoch 158/500\n",
            "104/104 [==============================] - 1s 5ms/step - loss: 0.6028 - accuracy: 0.7624 - val_loss: 0.7403 - val_accuracy: 0.7053\n",
            "Epoch 159/500\n",
            "104/104 [==============================] - 1s 5ms/step - loss: 0.6125 - accuracy: 0.7696 - val_loss: 0.7417 - val_accuracy: 0.7488\n",
            "Epoch 160/500\n",
            "104/104 [==============================] - 1s 5ms/step - loss: 0.6033 - accuracy: 0.7563 - val_loss: 0.7299 - val_accuracy: 0.7005\n",
            "Epoch 161/500\n",
            "104/104 [==============================] - 1s 5ms/step - loss: 0.6156 - accuracy: 0.7563 - val_loss: 0.7227 - val_accuracy: 0.7391\n",
            "Epoch 162/500\n",
            "104/104 [==============================] - 1s 5ms/step - loss: 0.5787 - accuracy: 0.7709 - val_loss: 0.7735 - val_accuracy: 0.6715\n",
            "Epoch 163/500\n",
            "104/104 [==============================] - 1s 5ms/step - loss: 0.5987 - accuracy: 0.7654 - val_loss: 0.7151 - val_accuracy: 0.7198\n",
            "Epoch 164/500\n",
            "104/104 [==============================] - 1s 5ms/step - loss: 0.5792 - accuracy: 0.7672 - val_loss: 0.7657 - val_accuracy: 0.6763\n",
            "Epoch 165/500\n",
            "104/104 [==============================] - 1s 5ms/step - loss: 0.5810 - accuracy: 0.7751 - val_loss: 0.7336 - val_accuracy: 0.6908\n",
            "Epoch 166/500\n",
            "104/104 [==============================] - 1s 5ms/step - loss: 0.5869 - accuracy: 0.7739 - val_loss: 0.6983 - val_accuracy: 0.7101\n",
            "Epoch 167/500\n",
            "104/104 [==============================] - 1s 5ms/step - loss: 0.5743 - accuracy: 0.7799 - val_loss: 0.7212 - val_accuracy: 0.7295\n",
            "Epoch 168/500\n",
            "104/104 [==============================] - 1s 5ms/step - loss: 0.5804 - accuracy: 0.7763 - val_loss: 0.7388 - val_accuracy: 0.7101\n",
            "Epoch 169/500\n",
            "104/104 [==============================] - 1s 5ms/step - loss: 0.5703 - accuracy: 0.7872 - val_loss: 0.7302 - val_accuracy: 0.7585\n",
            "Epoch 170/500\n",
            "104/104 [==============================] - 1s 5ms/step - loss: 0.5622 - accuracy: 0.7854 - val_loss: 0.7462 - val_accuracy: 0.7295\n",
            "Epoch 171/500\n",
            "104/104 [==============================] - 1s 5ms/step - loss: 0.5778 - accuracy: 0.7890 - val_loss: 0.7430 - val_accuracy: 0.6957\n",
            "Epoch 172/500\n",
            "104/104 [==============================] - 1s 5ms/step - loss: 0.5692 - accuracy: 0.7739 - val_loss: 0.7113 - val_accuracy: 0.7585\n",
            "Epoch 173/500\n",
            "104/104 [==============================] - 1s 5ms/step - loss: 0.5627 - accuracy: 0.7757 - val_loss: 0.7512 - val_accuracy: 0.7053\n",
            "Epoch 174/500\n",
            "104/104 [==============================] - 1s 5ms/step - loss: 0.5157 - accuracy: 0.7963 - val_loss: 0.7169 - val_accuracy: 0.7295\n",
            "Epoch 175/500\n",
            "104/104 [==============================] - 1s 5ms/step - loss: 0.5565 - accuracy: 0.7823 - val_loss: 0.7281 - val_accuracy: 0.7150\n",
            "Epoch 176/500\n",
            "104/104 [==============================] - 1s 5ms/step - loss: 0.5573 - accuracy: 0.7860 - val_loss: 0.7355 - val_accuracy: 0.6957\n",
            "Epoch 177/500\n",
            "104/104 [==============================] - 1s 5ms/step - loss: 0.5353 - accuracy: 0.8005 - val_loss: 0.6988 - val_accuracy: 0.7536\n",
            "Epoch 178/500\n",
            "104/104 [==============================] - 1s 5ms/step - loss: 0.5438 - accuracy: 0.7932 - val_loss: 0.7053 - val_accuracy: 0.7101\n",
            "Epoch 179/500\n",
            "104/104 [==============================] - 1s 5ms/step - loss: 0.5361 - accuracy: 0.7854 - val_loss: 0.6980 - val_accuracy: 0.7246\n",
            "Epoch 180/500\n",
            "104/104 [==============================] - 1s 5ms/step - loss: 0.5351 - accuracy: 0.7956 - val_loss: 0.7356 - val_accuracy: 0.6812\n",
            "Epoch 181/500\n",
            "104/104 [==============================] - 1s 5ms/step - loss: 0.5560 - accuracy: 0.7896 - val_loss: 0.6933 - val_accuracy: 0.7101\n",
            "Epoch 182/500\n",
            "104/104 [==============================] - 1s 5ms/step - loss: 0.5298 - accuracy: 0.7938 - val_loss: 0.7009 - val_accuracy: 0.7198\n",
            "Epoch 183/500\n",
            "104/104 [==============================] - 1s 5ms/step - loss: 0.5349 - accuracy: 0.7950 - val_loss: 0.6918 - val_accuracy: 0.7198\n",
            "Epoch 184/500\n",
            "104/104 [==============================] - 1s 5ms/step - loss: 0.5151 - accuracy: 0.8071 - val_loss: 0.7176 - val_accuracy: 0.7101\n",
            "Epoch 185/500\n",
            "104/104 [==============================] - 1s 5ms/step - loss: 0.5279 - accuracy: 0.8047 - val_loss: 0.7227 - val_accuracy: 0.7150\n",
            "Epoch 186/500\n",
            "104/104 [==============================] - 1s 5ms/step - loss: 0.5233 - accuracy: 0.7908 - val_loss: 0.7222 - val_accuracy: 0.7053\n",
            "Epoch 187/500\n",
            "104/104 [==============================] - 1s 5ms/step - loss: 0.5324 - accuracy: 0.7890 - val_loss: 0.6838 - val_accuracy: 0.7295\n",
            "Epoch 188/500\n",
            "104/104 [==============================] - 1s 5ms/step - loss: 0.5100 - accuracy: 0.8017 - val_loss: 0.7357 - val_accuracy: 0.7198\n",
            "Epoch 189/500\n",
            "104/104 [==============================] - 1s 5ms/step - loss: 0.5058 - accuracy: 0.8035 - val_loss: 0.7226 - val_accuracy: 0.7198\n",
            "Epoch 190/500\n",
            "104/104 [==============================] - 1s 5ms/step - loss: 0.5139 - accuracy: 0.8023 - val_loss: 0.6722 - val_accuracy: 0.7246\n",
            "Epoch 191/500\n",
            "104/104 [==============================] - 1s 5ms/step - loss: 0.5068 - accuracy: 0.8077 - val_loss: 0.6804 - val_accuracy: 0.7246\n",
            "Epoch 192/500\n",
            "104/104 [==============================] - 1s 5ms/step - loss: 0.5136 - accuracy: 0.8041 - val_loss: 0.6947 - val_accuracy: 0.7585\n",
            "Epoch 193/500\n",
            "104/104 [==============================] - 1s 5ms/step - loss: 0.5135 - accuracy: 0.8120 - val_loss: 0.7522 - val_accuracy: 0.7150\n",
            "Epoch 194/500\n",
            "104/104 [==============================] - 1s 5ms/step - loss: 0.4978 - accuracy: 0.8017 - val_loss: 0.7353 - val_accuracy: 0.7198\n",
            "Epoch 195/500\n",
            "104/104 [==============================] - 1s 5ms/step - loss: 0.4947 - accuracy: 0.8126 - val_loss: 0.6552 - val_accuracy: 0.7391\n",
            "Epoch 196/500\n",
            "104/104 [==============================] - 1s 5ms/step - loss: 0.4823 - accuracy: 0.8229 - val_loss: 0.6943 - val_accuracy: 0.7246\n",
            "Epoch 197/500\n",
            "104/104 [==============================] - 1s 5ms/step - loss: 0.4840 - accuracy: 0.8186 - val_loss: 0.6954 - val_accuracy: 0.7246\n",
            "Epoch 198/500\n",
            "104/104 [==============================] - 1s 5ms/step - loss: 0.4892 - accuracy: 0.8114 - val_loss: 0.7263 - val_accuracy: 0.6667\n",
            "Epoch 199/500\n",
            "104/104 [==============================] - 1s 5ms/step - loss: 0.5298 - accuracy: 0.7963 - val_loss: 0.7236 - val_accuracy: 0.6908\n",
            "Epoch 200/500\n",
            "104/104 [==============================] - 1s 5ms/step - loss: 0.4732 - accuracy: 0.8156 - val_loss: 0.7209 - val_accuracy: 0.7198\n",
            "Epoch 201/500\n",
            "104/104 [==============================] - 1s 5ms/step - loss: 0.4901 - accuracy: 0.8168 - val_loss: 0.7239 - val_accuracy: 0.7343\n",
            "Epoch 202/500\n",
            "104/104 [==============================] - 1s 5ms/step - loss: 0.4803 - accuracy: 0.8126 - val_loss: 0.6923 - val_accuracy: 0.7826\n",
            "Epoch 203/500\n",
            "104/104 [==============================] - 1s 5ms/step - loss: 0.4823 - accuracy: 0.8174 - val_loss: 0.6722 - val_accuracy: 0.7391\n",
            "Epoch 204/500\n",
            "104/104 [==============================] - 1s 5ms/step - loss: 0.4796 - accuracy: 0.8077 - val_loss: 0.6575 - val_accuracy: 0.7536\n",
            "Epoch 205/500\n",
            "104/104 [==============================] - 1s 5ms/step - loss: 0.4703 - accuracy: 0.8156 - val_loss: 0.6977 - val_accuracy: 0.7246\n",
            "Epoch 206/500\n",
            "104/104 [==============================] - 1s 5ms/step - loss: 0.4694 - accuracy: 0.8204 - val_loss: 0.7045 - val_accuracy: 0.7198\n",
            "Epoch 207/500\n",
            "104/104 [==============================] - 1s 5ms/step - loss: 0.4801 - accuracy: 0.8186 - val_loss: 0.6747 - val_accuracy: 0.7101\n",
            "Epoch 208/500\n",
            "104/104 [==============================] - 1s 5ms/step - loss: 0.4816 - accuracy: 0.8089 - val_loss: 0.6554 - val_accuracy: 0.7343\n",
            "Epoch 209/500\n",
            "104/104 [==============================] - 1s 5ms/step - loss: 0.4673 - accuracy: 0.8162 - val_loss: 0.6589 - val_accuracy: 0.7585\n",
            "Epoch 210/500\n",
            "104/104 [==============================] - 1s 5ms/step - loss: 0.4631 - accuracy: 0.8235 - val_loss: 0.6774 - val_accuracy: 0.7440\n",
            "Epoch 211/500\n",
            "104/104 [==============================] - 1s 5ms/step - loss: 0.4695 - accuracy: 0.8295 - val_loss: 0.7151 - val_accuracy: 0.7343\n",
            "Epoch 212/500\n",
            "104/104 [==============================] - 1s 5ms/step - loss: 0.4582 - accuracy: 0.8059 - val_loss: 0.6795 - val_accuracy: 0.7246\n",
            "Epoch 213/500\n",
            "104/104 [==============================] - 1s 5ms/step - loss: 0.4584 - accuracy: 0.8204 - val_loss: 0.6536 - val_accuracy: 0.7585\n",
            "Epoch 214/500\n",
            "104/104 [==============================] - 1s 5ms/step - loss: 0.4356 - accuracy: 0.8325 - val_loss: 0.6484 - val_accuracy: 0.7778\n",
            "Epoch 215/500\n",
            "104/104 [==============================] - 1s 5ms/step - loss: 0.4435 - accuracy: 0.8374 - val_loss: 0.6433 - val_accuracy: 0.7440\n",
            "Epoch 216/500\n",
            "104/104 [==============================] - 1s 5ms/step - loss: 0.4612 - accuracy: 0.8283 - val_loss: 0.6441 - val_accuracy: 0.7391\n",
            "Epoch 217/500\n",
            "104/104 [==============================] - 1s 5ms/step - loss: 0.4435 - accuracy: 0.8368 - val_loss: 0.6514 - val_accuracy: 0.7198\n",
            "Epoch 218/500\n",
            "104/104 [==============================] - 1s 5ms/step - loss: 0.4445 - accuracy: 0.8337 - val_loss: 0.6504 - val_accuracy: 0.7488\n",
            "Epoch 219/500\n",
            "104/104 [==============================] - 1s 5ms/step - loss: 0.4191 - accuracy: 0.8416 - val_loss: 0.6846 - val_accuracy: 0.7343\n",
            "Epoch 220/500\n",
            "104/104 [==============================] - 1s 5ms/step - loss: 0.4413 - accuracy: 0.8198 - val_loss: 0.6420 - val_accuracy: 0.7681\n",
            "Epoch 221/500\n",
            "104/104 [==============================] - 1s 5ms/step - loss: 0.4424 - accuracy: 0.8428 - val_loss: 0.6402 - val_accuracy: 0.7440\n",
            "Epoch 222/500\n",
            "104/104 [==============================] - 1s 5ms/step - loss: 0.4294 - accuracy: 0.8277 - val_loss: 0.6999 - val_accuracy: 0.7198\n",
            "Epoch 223/500\n",
            "104/104 [==============================] - 1s 5ms/step - loss: 0.4451 - accuracy: 0.8368 - val_loss: 0.6966 - val_accuracy: 0.7053\n",
            "Epoch 224/500\n",
            "104/104 [==============================] - 1s 5ms/step - loss: 0.4130 - accuracy: 0.8416 - val_loss: 0.6331 - val_accuracy: 0.7874\n",
            "Epoch 225/500\n",
            "104/104 [==============================] - 1s 5ms/step - loss: 0.4225 - accuracy: 0.8386 - val_loss: 0.6596 - val_accuracy: 0.7440\n",
            "Epoch 226/500\n",
            "104/104 [==============================] - 1s 5ms/step - loss: 0.4379 - accuracy: 0.8446 - val_loss: 0.6540 - val_accuracy: 0.7440\n",
            "Epoch 227/500\n",
            "104/104 [==============================] - 1s 5ms/step - loss: 0.4152 - accuracy: 0.8386 - val_loss: 0.6463 - val_accuracy: 0.7488\n",
            "Epoch 228/500\n",
            "104/104 [==============================] - 1s 5ms/step - loss: 0.4219 - accuracy: 0.8422 - val_loss: 0.6739 - val_accuracy: 0.7198\n",
            "Epoch 229/500\n",
            "104/104 [==============================] - 1s 5ms/step - loss: 0.4309 - accuracy: 0.8374 - val_loss: 0.6760 - val_accuracy: 0.7101\n",
            "Epoch 230/500\n",
            "104/104 [==============================] - 1s 5ms/step - loss: 0.4136 - accuracy: 0.8458 - val_loss: 0.7504 - val_accuracy: 0.6908\n",
            "Epoch 231/500\n",
            "104/104 [==============================] - 1s 5ms/step - loss: 0.4409 - accuracy: 0.8374 - val_loss: 0.6884 - val_accuracy: 0.7440\n",
            "Epoch 232/500\n",
            "104/104 [==============================] - 1s 5ms/step - loss: 0.3875 - accuracy: 0.8591 - val_loss: 0.6436 - val_accuracy: 0.7729\n",
            "Epoch 233/500\n",
            "104/104 [==============================] - 1s 5ms/step - loss: 0.4218 - accuracy: 0.8428 - val_loss: 0.6623 - val_accuracy: 0.7198\n",
            "Epoch 234/500\n",
            "104/104 [==============================] - 1s 5ms/step - loss: 0.3892 - accuracy: 0.8519 - val_loss: 0.6273 - val_accuracy: 0.7681\n",
            "Epoch 235/500\n",
            "104/104 [==============================] - 1s 5ms/step - loss: 0.4204 - accuracy: 0.8392 - val_loss: 0.6816 - val_accuracy: 0.7343\n",
            "Epoch 236/500\n",
            "104/104 [==============================] - 1s 5ms/step - loss: 0.4043 - accuracy: 0.8422 - val_loss: 0.6704 - val_accuracy: 0.7729\n",
            "Epoch 237/500\n",
            "104/104 [==============================] - 1s 5ms/step - loss: 0.4277 - accuracy: 0.8331 - val_loss: 0.6371 - val_accuracy: 0.7246\n",
            "Epoch 238/500\n",
            "104/104 [==============================] - 1s 5ms/step - loss: 0.4166 - accuracy: 0.8392 - val_loss: 0.6713 - val_accuracy: 0.7729\n",
            "Epoch 239/500\n",
            "104/104 [==============================] - 1s 5ms/step - loss: 0.3907 - accuracy: 0.8482 - val_loss: 0.6884 - val_accuracy: 0.7343\n",
            "Epoch 240/500\n",
            "104/104 [==============================] - 1s 5ms/step - loss: 0.3848 - accuracy: 0.8434 - val_loss: 0.7010 - val_accuracy: 0.7150\n",
            "Epoch 241/500\n",
            "104/104 [==============================] - 1s 5ms/step - loss: 0.4082 - accuracy: 0.8495 - val_loss: 0.6186 - val_accuracy: 0.7778\n",
            "Epoch 242/500\n",
            "104/104 [==============================] - 1s 5ms/step - loss: 0.4139 - accuracy: 0.8428 - val_loss: 0.5975 - val_accuracy: 0.7729\n",
            "Epoch 243/500\n",
            "104/104 [==============================] - 1s 5ms/step - loss: 0.3798 - accuracy: 0.8549 - val_loss: 0.6225 - val_accuracy: 0.7488\n",
            "Epoch 244/500\n",
            "104/104 [==============================] - 1s 5ms/step - loss: 0.3775 - accuracy: 0.8537 - val_loss: 0.6347 - val_accuracy: 0.7343\n",
            "Epoch 245/500\n",
            "104/104 [==============================] - 1s 5ms/step - loss: 0.3919 - accuracy: 0.8658 - val_loss: 0.6421 - val_accuracy: 0.7295\n",
            "Epoch 246/500\n",
            "104/104 [==============================] - 1s 5ms/step - loss: 0.3779 - accuracy: 0.8585 - val_loss: 0.6465 - val_accuracy: 0.7343\n",
            "Epoch 247/500\n",
            "104/104 [==============================] - 1s 5ms/step - loss: 0.3872 - accuracy: 0.8549 - val_loss: 0.6767 - val_accuracy: 0.7633\n",
            "Epoch 248/500\n",
            "104/104 [==============================] - 1s 5ms/step - loss: 0.4253 - accuracy: 0.8386 - val_loss: 0.6582 - val_accuracy: 0.7536\n",
            "Epoch 249/500\n",
            "104/104 [==============================] - 1s 5ms/step - loss: 0.3826 - accuracy: 0.8507 - val_loss: 0.6568 - val_accuracy: 0.7343\n",
            "Epoch 250/500\n",
            "104/104 [==============================] - 1s 5ms/step - loss: 0.3878 - accuracy: 0.8555 - val_loss: 0.6360 - val_accuracy: 0.7343\n",
            "Epoch 251/500\n",
            "104/104 [==============================] - 1s 5ms/step - loss: 0.3742 - accuracy: 0.8585 - val_loss: 0.6995 - val_accuracy: 0.7295\n",
            "Epoch 252/500\n",
            "104/104 [==============================] - 1s 5ms/step - loss: 0.3758 - accuracy: 0.8519 - val_loss: 0.6697 - val_accuracy: 0.7198\n",
            "Epoch 253/500\n",
            "104/104 [==============================] - 1s 5ms/step - loss: 0.3601 - accuracy: 0.8634 - val_loss: 0.6090 - val_accuracy: 0.7729\n",
            "Epoch 254/500\n",
            "104/104 [==============================] - 1s 5ms/step - loss: 0.3602 - accuracy: 0.8567 - val_loss: 0.6256 - val_accuracy: 0.7440\n",
            "Epoch 255/500\n",
            "104/104 [==============================] - 1s 5ms/step - loss: 0.3794 - accuracy: 0.8513 - val_loss: 0.6365 - val_accuracy: 0.7343\n",
            "Epoch 256/500\n",
            "104/104 [==============================] - 1s 5ms/step - loss: 0.3668 - accuracy: 0.8652 - val_loss: 0.6280 - val_accuracy: 0.7536\n",
            "Epoch 257/500\n",
            "104/104 [==============================] - 1s 5ms/step - loss: 0.3711 - accuracy: 0.8561 - val_loss: 0.6123 - val_accuracy: 0.7681\n",
            "Epoch 258/500\n",
            "104/104 [==============================] - 1s 5ms/step - loss: 0.3696 - accuracy: 0.8543 - val_loss: 0.6241 - val_accuracy: 0.7681\n",
            "Epoch 259/500\n",
            "104/104 [==============================] - 1s 5ms/step - loss: 0.4022 - accuracy: 0.8567 - val_loss: 0.6244 - val_accuracy: 0.7778\n",
            "Epoch 260/500\n",
            "104/104 [==============================] - 1s 5ms/step - loss: 0.3517 - accuracy: 0.8646 - val_loss: 0.6386 - val_accuracy: 0.7585\n",
            "Epoch 261/500\n",
            "104/104 [==============================] - 1s 5ms/step - loss: 0.3467 - accuracy: 0.8676 - val_loss: 0.6529 - val_accuracy: 0.7391\n",
            "Epoch 262/500\n",
            "104/104 [==============================] - 1s 6ms/step - loss: 0.3758 - accuracy: 0.8513 - val_loss: 0.6030 - val_accuracy: 0.7923\n",
            "Epoch 263/500\n",
            "104/104 [==============================] - 1s 5ms/step - loss: 0.3542 - accuracy: 0.8603 - val_loss: 0.6439 - val_accuracy: 0.7633\n",
            "Epoch 264/500\n",
            "104/104 [==============================] - 1s 6ms/step - loss: 0.3531 - accuracy: 0.8652 - val_loss: 0.6183 - val_accuracy: 0.7440\n",
            "Epoch 265/500\n",
            "104/104 [==============================] - 1s 5ms/step - loss: 0.3597 - accuracy: 0.8603 - val_loss: 0.6589 - val_accuracy: 0.7729\n",
            "Epoch 266/500\n",
            "104/104 [==============================] - 1s 5ms/step - loss: 0.3543 - accuracy: 0.8628 - val_loss: 0.6302 - val_accuracy: 0.7343\n",
            "Epoch 267/500\n",
            "104/104 [==============================] - 1s 5ms/step - loss: 0.3698 - accuracy: 0.8658 - val_loss: 0.6103 - val_accuracy: 0.7633\n",
            "Epoch 268/500\n",
            "104/104 [==============================] - 1s 5ms/step - loss: 0.3353 - accuracy: 0.8730 - val_loss: 0.6431 - val_accuracy: 0.7585\n",
            "Epoch 269/500\n",
            "104/104 [==============================] - 1s 6ms/step - loss: 0.3411 - accuracy: 0.8700 - val_loss: 0.6826 - val_accuracy: 0.7488\n",
            "Epoch 270/500\n",
            "104/104 [==============================] - 1s 5ms/step - loss: 0.3569 - accuracy: 0.8773 - val_loss: 0.5850 - val_accuracy: 0.8068\n",
            "Epoch 271/500\n",
            "104/104 [==============================] - 1s 5ms/step - loss: 0.3641 - accuracy: 0.8567 - val_loss: 0.6498 - val_accuracy: 0.7633\n",
            "Epoch 272/500\n",
            "104/104 [==============================] - 1s 5ms/step - loss: 0.3370 - accuracy: 0.8730 - val_loss: 0.6416 - val_accuracy: 0.7536\n",
            "Epoch 273/500\n",
            "104/104 [==============================] - 1s 5ms/step - loss: 0.3329 - accuracy: 0.8803 - val_loss: 0.6278 - val_accuracy: 0.7778\n",
            "Epoch 274/500\n",
            "104/104 [==============================] - 1s 6ms/step - loss: 0.3279 - accuracy: 0.8676 - val_loss: 0.6317 - val_accuracy: 0.7488\n",
            "Epoch 275/500\n",
            "104/104 [==============================] - 1s 5ms/step - loss: 0.3128 - accuracy: 0.8785 - val_loss: 0.7354 - val_accuracy: 0.6908\n",
            "Epoch 276/500\n",
            "104/104 [==============================] - 1s 5ms/step - loss: 0.3137 - accuracy: 0.8900 - val_loss: 0.6247 - val_accuracy: 0.7536\n",
            "Epoch 277/500\n",
            "104/104 [==============================] - 1s 5ms/step - loss: 0.3442 - accuracy: 0.8706 - val_loss: 0.6728 - val_accuracy: 0.7681\n",
            "Epoch 278/500\n",
            "104/104 [==============================] - 1s 5ms/step - loss: 0.3695 - accuracy: 0.8609 - val_loss: 0.5483 - val_accuracy: 0.7971\n",
            "Epoch 279/500\n",
            "104/104 [==============================] - 1s 5ms/step - loss: 0.3370 - accuracy: 0.8742 - val_loss: 0.6202 - val_accuracy: 0.7681\n",
            "Epoch 280/500\n",
            "104/104 [==============================] - 1s 5ms/step - loss: 0.3467 - accuracy: 0.8682 - val_loss: 0.5756 - val_accuracy: 0.8116\n",
            "Epoch 281/500\n",
            "104/104 [==============================] - 1s 5ms/step - loss: 0.3191 - accuracy: 0.8730 - val_loss: 0.6115 - val_accuracy: 0.7585\n",
            "Epoch 282/500\n",
            "104/104 [==============================] - 1s 5ms/step - loss: 0.3307 - accuracy: 0.8700 - val_loss: 0.6290 - val_accuracy: 0.7778\n",
            "Epoch 283/500\n",
            "104/104 [==============================] - 1s 5ms/step - loss: 0.2937 - accuracy: 0.8875 - val_loss: 0.6928 - val_accuracy: 0.7198\n",
            "Epoch 284/500\n",
            "104/104 [==============================] - 1s 5ms/step - loss: 0.3145 - accuracy: 0.8809 - val_loss: 0.6103 - val_accuracy: 0.7778\n",
            "Epoch 285/500\n",
            "104/104 [==============================] - 1s 5ms/step - loss: 0.3283 - accuracy: 0.8827 - val_loss: 0.6085 - val_accuracy: 0.7633\n",
            "Epoch 286/500\n",
            "104/104 [==============================] - 1s 5ms/step - loss: 0.3333 - accuracy: 0.8712 - val_loss: 0.6554 - val_accuracy: 0.7826\n",
            "Epoch 287/500\n",
            "104/104 [==============================] - 1s 5ms/step - loss: 0.3288 - accuracy: 0.8869 - val_loss: 0.6407 - val_accuracy: 0.7633\n",
            "Epoch 288/500\n",
            "104/104 [==============================] - 1s 5ms/step - loss: 0.2965 - accuracy: 0.8948 - val_loss: 0.6179 - val_accuracy: 0.7778\n",
            "Epoch 289/500\n",
            "104/104 [==============================] - 1s 5ms/step - loss: 0.3106 - accuracy: 0.8863 - val_loss: 0.6422 - val_accuracy: 0.7778\n",
            "Epoch 290/500\n",
            "104/104 [==============================] - 1s 5ms/step - loss: 0.3269 - accuracy: 0.8742 - val_loss: 0.6349 - val_accuracy: 0.7488\n",
            "Epoch 291/500\n",
            "104/104 [==============================] - 1s 6ms/step - loss: 0.2942 - accuracy: 0.8857 - val_loss: 0.6179 - val_accuracy: 0.7391\n",
            "Epoch 292/500\n",
            "104/104 [==============================] - 1s 5ms/step - loss: 0.3058 - accuracy: 0.8869 - val_loss: 0.6147 - val_accuracy: 0.7633\n",
            "Epoch 293/500\n",
            "104/104 [==============================] - 1s 5ms/step - loss: 0.2991 - accuracy: 0.8972 - val_loss: 0.6506 - val_accuracy: 0.6957\n",
            "Epoch 294/500\n",
            "104/104 [==============================] - 1s 5ms/step - loss: 0.3144 - accuracy: 0.8869 - val_loss: 0.6048 - val_accuracy: 0.7536\n",
            "Epoch 295/500\n",
            "104/104 [==============================] - 1s 5ms/step - loss: 0.3206 - accuracy: 0.8827 - val_loss: 0.6652 - val_accuracy: 0.7343\n",
            "Epoch 296/500\n",
            "104/104 [==============================] - 1s 5ms/step - loss: 0.2832 - accuracy: 0.8875 - val_loss: 0.6686 - val_accuracy: 0.7343\n",
            "Epoch 297/500\n",
            "104/104 [==============================] - 1s 5ms/step - loss: 0.3038 - accuracy: 0.8881 - val_loss: 0.5956 - val_accuracy: 0.7633\n",
            "Epoch 298/500\n",
            "104/104 [==============================] - 1s 6ms/step - loss: 0.2943 - accuracy: 0.8972 - val_loss: 0.6270 - val_accuracy: 0.7391\n",
            "Epoch 299/500\n",
            "104/104 [==============================] - 1s 5ms/step - loss: 0.2810 - accuracy: 0.8906 - val_loss: 0.6665 - val_accuracy: 0.7536\n",
            "Epoch 300/500\n",
            "104/104 [==============================] - 1s 5ms/step - loss: 0.2753 - accuracy: 0.8954 - val_loss: 0.6252 - val_accuracy: 0.7488\n",
            "Epoch 301/500\n",
            "104/104 [==============================] - 1s 6ms/step - loss: 0.2885 - accuracy: 0.8863 - val_loss: 0.7075 - val_accuracy: 0.7585\n",
            "Epoch 302/500\n",
            "104/104 [==============================] - 1s 5ms/step - loss: 0.2885 - accuracy: 0.8960 - val_loss: 0.6175 - val_accuracy: 0.7536\n",
            "Epoch 303/500\n",
            "104/104 [==============================] - 1s 6ms/step - loss: 0.2948 - accuracy: 0.8797 - val_loss: 0.6913 - val_accuracy: 0.7343\n",
            "Epoch 304/500\n",
            "104/104 [==============================] - 1s 5ms/step - loss: 0.3127 - accuracy: 0.8875 - val_loss: 0.7011 - val_accuracy: 0.7536\n",
            "Epoch 305/500\n",
            "104/104 [==============================] - 1s 6ms/step - loss: 0.3026 - accuracy: 0.8857 - val_loss: 0.6836 - val_accuracy: 0.7633\n",
            "Epoch 306/500\n",
            "104/104 [==============================] - 1s 5ms/step - loss: 0.3091 - accuracy: 0.8881 - val_loss: 0.6397 - val_accuracy: 0.7391\n",
            "Epoch 307/500\n",
            "104/104 [==============================] - 1s 6ms/step - loss: 0.2879 - accuracy: 0.9015 - val_loss: 0.5642 - val_accuracy: 0.8019\n",
            "Epoch 308/500\n",
            "104/104 [==============================] - 1s 6ms/step - loss: 0.2946 - accuracy: 0.8942 - val_loss: 0.6115 - val_accuracy: 0.7729\n",
            "Epoch 309/500\n",
            "104/104 [==============================] - 1s 5ms/step - loss: 0.2823 - accuracy: 0.8948 - val_loss: 0.6056 - val_accuracy: 0.7585\n",
            "Epoch 310/500\n",
            "104/104 [==============================] - 1s 6ms/step - loss: 0.2725 - accuracy: 0.9039 - val_loss: 0.6105 - val_accuracy: 0.7391\n",
            "Epoch 311/500\n",
            "104/104 [==============================] - 1s 6ms/step - loss: 0.2934 - accuracy: 0.8815 - val_loss: 0.6453 - val_accuracy: 0.7585\n",
            "Epoch 312/500\n",
            "104/104 [==============================] - 1s 6ms/step - loss: 0.2615 - accuracy: 0.9057 - val_loss: 0.6695 - val_accuracy: 0.7536\n",
            "Epoch 313/500\n",
            "104/104 [==============================] - 1s 6ms/step - loss: 0.2802 - accuracy: 0.8954 - val_loss: 0.5866 - val_accuracy: 0.7971\n",
            "Epoch 314/500\n",
            "104/104 [==============================] - 1s 6ms/step - loss: 0.2816 - accuracy: 0.8918 - val_loss: 0.6206 - val_accuracy: 0.7440\n",
            "Epoch 315/500\n",
            "104/104 [==============================] - 1s 6ms/step - loss: 0.2888 - accuracy: 0.8978 - val_loss: 0.6909 - val_accuracy: 0.7488\n",
            "Epoch 316/500\n",
            "104/104 [==============================] - 1s 5ms/step - loss: 0.2967 - accuracy: 0.8936 - val_loss: 0.5884 - val_accuracy: 0.7971\n",
            "Epoch 317/500\n",
            "104/104 [==============================] - 1s 5ms/step - loss: 0.2818 - accuracy: 0.8966 - val_loss: 0.6683 - val_accuracy: 0.7440\n",
            "Epoch 318/500\n",
            "104/104 [==============================] - 1s 6ms/step - loss: 0.2982 - accuracy: 0.8827 - val_loss: 0.5990 - val_accuracy: 0.7585\n",
            "Epoch 319/500\n",
            "104/104 [==============================] - 1s 6ms/step - loss: 0.2740 - accuracy: 0.8906 - val_loss: 0.6035 - val_accuracy: 0.7681\n",
            "Epoch 320/500\n",
            "104/104 [==============================] - 1s 5ms/step - loss: 0.2957 - accuracy: 0.8960 - val_loss: 0.6433 - val_accuracy: 0.7488\n",
            "Epoch 321/500\n",
            "104/104 [==============================] - 1s 5ms/step - loss: 0.2845 - accuracy: 0.8960 - val_loss: 0.6034 - val_accuracy: 0.7971\n",
            "Epoch 322/500\n",
            "104/104 [==============================] - 1s 6ms/step - loss: 0.2755 - accuracy: 0.9051 - val_loss: 0.5800 - val_accuracy: 0.8019\n",
            "Epoch 323/500\n",
            "104/104 [==============================] - 1s 6ms/step - loss: 0.2805 - accuracy: 0.8978 - val_loss: 0.6243 - val_accuracy: 0.7874\n",
            "Epoch 324/500\n",
            "104/104 [==============================] - 1s 5ms/step - loss: 0.2634 - accuracy: 0.8984 - val_loss: 0.6171 - val_accuracy: 0.7246\n",
            "Epoch 325/500\n",
            "104/104 [==============================] - 1s 6ms/step - loss: 0.2680 - accuracy: 0.9008 - val_loss: 0.6426 - val_accuracy: 0.7488\n",
            "Epoch 326/500\n",
            "104/104 [==============================] - 1s 5ms/step - loss: 0.2727 - accuracy: 0.8972 - val_loss: 0.6108 - val_accuracy: 0.8019\n",
            "Epoch 327/500\n",
            "104/104 [==============================] - 1s 5ms/step - loss: 0.2640 - accuracy: 0.9045 - val_loss: 0.5650 - val_accuracy: 0.7971\n",
            "Epoch 328/500\n",
            "104/104 [==============================] - 1s 5ms/step - loss: 0.2812 - accuracy: 0.9033 - val_loss: 0.6419 - val_accuracy: 0.7585\n",
            "Epoch 329/500\n",
            "104/104 [==============================] - 1s 5ms/step - loss: 0.2644 - accuracy: 0.9027 - val_loss: 0.6000 - val_accuracy: 0.7681\n",
            "Epoch 330/500\n",
            "104/104 [==============================] - 1s 6ms/step - loss: 0.2706 - accuracy: 0.9033 - val_loss: 0.5942 - val_accuracy: 0.7923\n",
            "Epoch 331/500\n",
            "104/104 [==============================] - 1s 5ms/step - loss: 0.2787 - accuracy: 0.8984 - val_loss: 0.6251 - val_accuracy: 0.7440\n",
            "Epoch 332/500\n",
            "104/104 [==============================] - 1s 6ms/step - loss: 0.2526 - accuracy: 0.8966 - val_loss: 0.6919 - val_accuracy: 0.7391\n",
            "Epoch 333/500\n",
            "104/104 [==============================] - 1s 7ms/step - loss: 0.2729 - accuracy: 0.8912 - val_loss: 0.6235 - val_accuracy: 0.7874\n",
            "Epoch 334/500\n",
            "104/104 [==============================] - 1s 7ms/step - loss: 0.2603 - accuracy: 0.9045 - val_loss: 0.6190 - val_accuracy: 0.7826\n",
            "Epoch 335/500\n",
            "104/104 [==============================] - 1s 7ms/step - loss: 0.2450 - accuracy: 0.9069 - val_loss: 0.6433 - val_accuracy: 0.7488\n",
            "Epoch 336/500\n",
            "104/104 [==============================] - 1s 7ms/step - loss: 0.2615 - accuracy: 0.8960 - val_loss: 0.6047 - val_accuracy: 0.7585\n",
            "Epoch 337/500\n",
            "104/104 [==============================] - 1s 7ms/step - loss: 0.2427 - accuracy: 0.9099 - val_loss: 0.6101 - val_accuracy: 0.7729\n",
            "Epoch 338/500\n",
            "104/104 [==============================] - 1s 5ms/step - loss: 0.2469 - accuracy: 0.9045 - val_loss: 0.6237 - val_accuracy: 0.7681\n",
            "Epoch 339/500\n",
            "104/104 [==============================] - 1s 5ms/step - loss: 0.2370 - accuracy: 0.9129 - val_loss: 0.5952 - val_accuracy: 0.8068\n",
            "Epoch 340/500\n",
            "104/104 [==============================] - 1s 6ms/step - loss: 0.2524 - accuracy: 0.9039 - val_loss: 0.6382 - val_accuracy: 0.7150\n",
            "Epoch 341/500\n",
            "104/104 [==============================] - 1s 5ms/step - loss: 0.2354 - accuracy: 0.9166 - val_loss: 0.6712 - val_accuracy: 0.7633\n",
            "Epoch 342/500\n",
            "104/104 [==============================] - 1s 5ms/step - loss: 0.2358 - accuracy: 0.9154 - val_loss: 0.6908 - val_accuracy: 0.7343\n",
            "Epoch 343/500\n",
            "104/104 [==============================] - 1s 5ms/step - loss: 0.2483 - accuracy: 0.9141 - val_loss: 0.5950 - val_accuracy: 0.7971\n",
            "Epoch 344/500\n",
            "104/104 [==============================] - 1s 5ms/step - loss: 0.2479 - accuracy: 0.9099 - val_loss: 0.6068 - val_accuracy: 0.7778\n",
            "Epoch 345/500\n",
            "104/104 [==============================] - 1s 5ms/step - loss: 0.2243 - accuracy: 0.9274 - val_loss: 0.6011 - val_accuracy: 0.7923\n",
            "Epoch 346/500\n",
            "104/104 [==============================] - 1s 5ms/step - loss: 0.2440 - accuracy: 0.9069 - val_loss: 0.6275 - val_accuracy: 0.7826\n",
            "Epoch 347/500\n",
            "104/104 [==============================] - 1s 5ms/step - loss: 0.2641 - accuracy: 0.9051 - val_loss: 0.5792 - val_accuracy: 0.8019\n",
            "Epoch 348/500\n",
            "104/104 [==============================] - 1s 6ms/step - loss: 0.2430 - accuracy: 0.9057 - val_loss: 0.6552 - val_accuracy: 0.7488\n",
            "Epoch 349/500\n",
            "104/104 [==============================] - 1s 5ms/step - loss: 0.2338 - accuracy: 0.9081 - val_loss: 0.5561 - val_accuracy: 0.7681\n",
            "Epoch 350/500\n",
            "104/104 [==============================] - 1s 5ms/step - loss: 0.2542 - accuracy: 0.9105 - val_loss: 0.5817 - val_accuracy: 0.7971\n",
            "Epoch 351/500\n",
            "104/104 [==============================] - 1s 5ms/step - loss: 0.2252 - accuracy: 0.9202 - val_loss: 0.6309 - val_accuracy: 0.7826\n",
            "Epoch 352/500\n",
            "104/104 [==============================] - 1s 5ms/step - loss: 0.2075 - accuracy: 0.9220 - val_loss: 0.6449 - val_accuracy: 0.7633\n",
            "Epoch 353/500\n",
            "104/104 [==============================] - 1s 5ms/step - loss: 0.2472 - accuracy: 0.9148 - val_loss: 0.6478 - val_accuracy: 0.7729\n",
            "Epoch 354/500\n",
            "104/104 [==============================] - 1s 6ms/step - loss: 0.2288 - accuracy: 0.9184 - val_loss: 0.7101 - val_accuracy: 0.8213\n",
            "Epoch 355/500\n",
            "104/104 [==============================] - 1s 6ms/step - loss: 0.2444 - accuracy: 0.9172 - val_loss: 0.6805 - val_accuracy: 0.7391\n",
            "Epoch 356/500\n",
            "104/104 [==============================] - 1s 5ms/step - loss: 0.2270 - accuracy: 0.9172 - val_loss: 0.7149 - val_accuracy: 0.7488\n",
            "Epoch 357/500\n",
            "104/104 [==============================] - 1s 5ms/step - loss: 0.2548 - accuracy: 0.9021 - val_loss: 0.6041 - val_accuracy: 0.7729\n",
            "Epoch 358/500\n",
            "104/104 [==============================] - 1s 6ms/step - loss: 0.2164 - accuracy: 0.9232 - val_loss: 0.6321 - val_accuracy: 0.7778\n",
            "Epoch 359/500\n",
            "104/104 [==============================] - 1s 5ms/step - loss: 0.2367 - accuracy: 0.9184 - val_loss: 0.6589 - val_accuracy: 0.7343\n",
            "Epoch 360/500\n",
            "104/104 [==============================] - 1s 5ms/step - loss: 0.2169 - accuracy: 0.9268 - val_loss: 0.6598 - val_accuracy: 0.7246\n",
            "Epoch 361/500\n",
            "104/104 [==============================] - 1s 5ms/step - loss: 0.2230 - accuracy: 0.9220 - val_loss: 0.6447 - val_accuracy: 0.7778\n",
            "Epoch 362/500\n",
            "104/104 [==============================] - 1s 6ms/step - loss: 0.2405 - accuracy: 0.9117 - val_loss: 0.6339 - val_accuracy: 0.7536\n",
            "Epoch 363/500\n",
            "104/104 [==============================] - 1s 6ms/step - loss: 0.2559 - accuracy: 0.9075 - val_loss: 0.5887 - val_accuracy: 0.7874\n",
            "Epoch 364/500\n",
            "104/104 [==============================] - 1s 5ms/step - loss: 0.2495 - accuracy: 0.9160 - val_loss: 0.5947 - val_accuracy: 0.7874\n",
            "Epoch 365/500\n",
            "104/104 [==============================] - 1s 5ms/step - loss: 0.2249 - accuracy: 0.9202 - val_loss: 0.6053 - val_accuracy: 0.7681\n",
            "Epoch 366/500\n",
            "104/104 [==============================] - 1s 5ms/step - loss: 0.2105 - accuracy: 0.9244 - val_loss: 0.6593 - val_accuracy: 0.7681\n",
            "Epoch 367/500\n",
            "104/104 [==============================] - 1s 5ms/step - loss: 0.2266 - accuracy: 0.9154 - val_loss: 0.6481 - val_accuracy: 0.8019\n",
            "Epoch 368/500\n",
            "104/104 [==============================] - 1s 5ms/step - loss: 0.2132 - accuracy: 0.9268 - val_loss: 0.6175 - val_accuracy: 0.7874\n",
            "Epoch 369/500\n",
            "104/104 [==============================] - 1s 5ms/step - loss: 0.2401 - accuracy: 0.9202 - val_loss: 0.6223 - val_accuracy: 0.8116\n",
            "Epoch 370/500\n",
            "104/104 [==============================] - 1s 5ms/step - loss: 0.2435 - accuracy: 0.9117 - val_loss: 0.6771 - val_accuracy: 0.7729\n",
            "Epoch 371/500\n",
            "104/104 [==============================] - 1s 6ms/step - loss: 0.2283 - accuracy: 0.9196 - val_loss: 0.6221 - val_accuracy: 0.7923\n",
            "Epoch 372/500\n",
            "104/104 [==============================] - 1s 6ms/step - loss: 0.2222 - accuracy: 0.9166 - val_loss: 0.6319 - val_accuracy: 0.7536\n",
            "Epoch 373/500\n",
            "104/104 [==============================] - 1s 6ms/step - loss: 0.2090 - accuracy: 0.9202 - val_loss: 0.7138 - val_accuracy: 0.7729\n",
            "Epoch 374/500\n",
            "104/104 [==============================] - 1s 5ms/step - loss: 0.2151 - accuracy: 0.9166 - val_loss: 0.6277 - val_accuracy: 0.8019\n",
            "Epoch 375/500\n",
            "104/104 [==============================] - 1s 5ms/step - loss: 0.2245 - accuracy: 0.9190 - val_loss: 0.7432 - val_accuracy: 0.7391\n",
            "Epoch 376/500\n",
            "104/104 [==============================] - 1s 5ms/step - loss: 0.2254 - accuracy: 0.9166 - val_loss: 0.6797 - val_accuracy: 0.7633\n",
            "Epoch 377/500\n",
            "104/104 [==============================] - 1s 6ms/step - loss: 0.2195 - accuracy: 0.9166 - val_loss: 0.6729 - val_accuracy: 0.8116\n",
            "Epoch 378/500\n",
            "104/104 [==============================] - 1s 5ms/step - loss: 0.2113 - accuracy: 0.9196 - val_loss: 0.6429 - val_accuracy: 0.7585\n",
            "Epoch 379/500\n",
            "104/104 [==============================] - 1s 6ms/step - loss: 0.2112 - accuracy: 0.9226 - val_loss: 0.6227 - val_accuracy: 0.7778\n",
            "Epoch 380/500\n",
            "104/104 [==============================] - 1s 5ms/step - loss: 0.2091 - accuracy: 0.9274 - val_loss: 0.6064 - val_accuracy: 0.8068\n",
            "Epoch 381/500\n",
            "104/104 [==============================] - 1s 5ms/step - loss: 0.2151 - accuracy: 0.9238 - val_loss: 0.6237 - val_accuracy: 0.7826\n",
            "Epoch 382/500\n",
            "104/104 [==============================] - 1s 5ms/step - loss: 0.2179 - accuracy: 0.9178 - val_loss: 0.6609 - val_accuracy: 0.7778\n",
            "Epoch 383/500\n",
            "104/104 [==============================] - 1s 5ms/step - loss: 0.2245 - accuracy: 0.9250 - val_loss: 0.7148 - val_accuracy: 0.7681\n",
            "Epoch 384/500\n",
            "104/104 [==============================] - 1s 5ms/step - loss: 0.2191 - accuracy: 0.9226 - val_loss: 0.6722 - val_accuracy: 0.7633\n",
            "Epoch 385/500\n",
            "104/104 [==============================] - 1s 6ms/step - loss: 0.2186 - accuracy: 0.9214 - val_loss: 0.5756 - val_accuracy: 0.7826\n",
            "Epoch 386/500\n",
            "104/104 [==============================] - 1s 6ms/step - loss: 0.2110 - accuracy: 0.9190 - val_loss: 0.5918 - val_accuracy: 0.8019\n",
            "Epoch 387/500\n",
            "104/104 [==============================] - 1s 5ms/step - loss: 0.2307 - accuracy: 0.9226 - val_loss: 0.5579 - val_accuracy: 0.8213\n",
            "Epoch 388/500\n",
            "104/104 [==============================] - 1s 6ms/step - loss: 0.2289 - accuracy: 0.9160 - val_loss: 0.6721 - val_accuracy: 0.7585\n",
            "Epoch 389/500\n",
            "104/104 [==============================] - 1s 6ms/step - loss: 0.2253 - accuracy: 0.9262 - val_loss: 0.6831 - val_accuracy: 0.7729\n",
            "Epoch 390/500\n",
            "104/104 [==============================] - 1s 5ms/step - loss: 0.2083 - accuracy: 0.9268 - val_loss: 0.6068 - val_accuracy: 0.7971\n",
            "Epoch 391/500\n",
            "104/104 [==============================] - 1s 6ms/step - loss: 0.2324 - accuracy: 0.9190 - val_loss: 0.5638 - val_accuracy: 0.8068\n",
            "Epoch 392/500\n",
            "104/104 [==============================] - 1s 6ms/step - loss: 0.2210 - accuracy: 0.9220 - val_loss: 0.6810 - val_accuracy: 0.7923\n",
            "Epoch 393/500\n",
            "104/104 [==============================] - 1s 5ms/step - loss: 0.1842 - accuracy: 0.9299 - val_loss: 0.6809 - val_accuracy: 0.7729\n",
            "Epoch 394/500\n",
            "104/104 [==============================] - 1s 5ms/step - loss: 0.2215 - accuracy: 0.9190 - val_loss: 0.6393 - val_accuracy: 0.7536\n",
            "Epoch 395/500\n",
            "104/104 [==============================] - 1s 5ms/step - loss: 0.2000 - accuracy: 0.9232 - val_loss: 0.5759 - val_accuracy: 0.8213\n",
            "Epoch 396/500\n",
            "104/104 [==============================] - 1s 6ms/step - loss: 0.2057 - accuracy: 0.9353 - val_loss: 0.5769 - val_accuracy: 0.8068\n",
            "Epoch 397/500\n",
            "104/104 [==============================] - 1s 5ms/step - loss: 0.2042 - accuracy: 0.9299 - val_loss: 0.6305 - val_accuracy: 0.8068\n",
            "Epoch 398/500\n",
            "104/104 [==============================] - 1s 6ms/step - loss: 0.2313 - accuracy: 0.9244 - val_loss: 0.6295 - val_accuracy: 0.7681\n",
            "Epoch 399/500\n",
            "104/104 [==============================] - 1s 5ms/step - loss: 0.1937 - accuracy: 0.9341 - val_loss: 0.6555 - val_accuracy: 0.7971\n",
            "Epoch 400/500\n",
            "104/104 [==============================] - 1s 5ms/step - loss: 0.1945 - accuracy: 0.9311 - val_loss: 0.5761 - val_accuracy: 0.8019\n",
            "Epoch 401/500\n",
            "104/104 [==============================] - 1s 6ms/step - loss: 0.2103 - accuracy: 0.9287 - val_loss: 0.6613 - val_accuracy: 0.7729\n",
            "Epoch 402/500\n",
            "104/104 [==============================] - 1s 5ms/step - loss: 0.2270 - accuracy: 0.9232 - val_loss: 0.5769 - val_accuracy: 0.8068\n",
            "Epoch 403/500\n",
            "104/104 [==============================] - 1s 5ms/step - loss: 0.2018 - accuracy: 0.9220 - val_loss: 0.6618 - val_accuracy: 0.7971\n",
            "Epoch 404/500\n",
            "104/104 [==============================] - 1s 5ms/step - loss: 0.1989 - accuracy: 0.9250 - val_loss: 0.6787 - val_accuracy: 0.7826\n",
            "Epoch 405/500\n",
            "104/104 [==============================] - 1s 6ms/step - loss: 0.2115 - accuracy: 0.9190 - val_loss: 0.6785 - val_accuracy: 0.7923\n",
            "Epoch 406/500\n",
            "104/104 [==============================] - 1s 5ms/step - loss: 0.1923 - accuracy: 0.9281 - val_loss: 0.6972 - val_accuracy: 0.7923\n",
            "Epoch 407/500\n",
            "104/104 [==============================] - 1s 5ms/step - loss: 0.2059 - accuracy: 0.9311 - val_loss: 0.7196 - val_accuracy: 0.7440\n",
            "Epoch 408/500\n",
            "104/104 [==============================] - 1s 5ms/step - loss: 0.2117 - accuracy: 0.9220 - val_loss: 0.7349 - val_accuracy: 0.8068\n",
            "Epoch 409/500\n",
            "104/104 [==============================] - 1s 6ms/step - loss: 0.1902 - accuracy: 0.9353 - val_loss: 0.6483 - val_accuracy: 0.7729\n",
            "Epoch 410/500\n",
            "104/104 [==============================] - 1s 6ms/step - loss: 0.1768 - accuracy: 0.9389 - val_loss: 0.6232 - val_accuracy: 0.7874\n",
            "Epoch 411/500\n",
            "104/104 [==============================] - 1s 5ms/step - loss: 0.1616 - accuracy: 0.9456 - val_loss: 0.7247 - val_accuracy: 0.8019\n",
            "Epoch 412/500\n",
            "104/104 [==============================] - 1s 6ms/step - loss: 0.1839 - accuracy: 0.9347 - val_loss: 0.5921 - val_accuracy: 0.7874\n",
            "Epoch 413/500\n",
            "104/104 [==============================] - 1s 6ms/step - loss: 0.1883 - accuracy: 0.9371 - val_loss: 0.6081 - val_accuracy: 0.8068\n",
            "Epoch 414/500\n",
            "104/104 [==============================] - 1s 5ms/step - loss: 0.1878 - accuracy: 0.9329 - val_loss: 0.6525 - val_accuracy: 0.7971\n",
            "Epoch 415/500\n",
            "104/104 [==============================] - 1s 6ms/step - loss: 0.1795 - accuracy: 0.9377 - val_loss: 0.6353 - val_accuracy: 0.8164\n",
            "Epoch 416/500\n",
            "104/104 [==============================] - 1s 5ms/step - loss: 0.2081 - accuracy: 0.9226 - val_loss: 0.6745 - val_accuracy: 0.7681\n",
            "Epoch 417/500\n",
            "104/104 [==============================] - 1s 5ms/step - loss: 0.2060 - accuracy: 0.9232 - val_loss: 0.7009 - val_accuracy: 0.7681\n",
            "Epoch 418/500\n",
            "104/104 [==============================] - 1s 6ms/step - loss: 0.2013 - accuracy: 0.9256 - val_loss: 0.6769 - val_accuracy: 0.8019\n",
            "Epoch 419/500\n",
            "104/104 [==============================] - 1s 5ms/step - loss: 0.2193 - accuracy: 0.9226 - val_loss: 0.6372 - val_accuracy: 0.7729\n",
            "Epoch 420/500\n",
            "104/104 [==============================] - 1s 6ms/step - loss: 0.1937 - accuracy: 0.9323 - val_loss: 0.6523 - val_accuracy: 0.7971\n",
            "Epoch 421/500\n",
            "104/104 [==============================] - 1s 6ms/step - loss: 0.1926 - accuracy: 0.9281 - val_loss: 0.6801 - val_accuracy: 0.8019\n",
            "Epoch 422/500\n",
            "104/104 [==============================] - 1s 6ms/step - loss: 0.2017 - accuracy: 0.9329 - val_loss: 0.6968 - val_accuracy: 0.7585\n",
            "Epoch 423/500\n",
            "104/104 [==============================] - 1s 6ms/step - loss: 0.1881 - accuracy: 0.9317 - val_loss: 0.6367 - val_accuracy: 0.7826\n",
            "Epoch 424/500\n",
            "104/104 [==============================] - 1s 5ms/step - loss: 0.1950 - accuracy: 0.9238 - val_loss: 0.6341 - val_accuracy: 0.7778\n",
            "Epoch 425/500\n",
            "104/104 [==============================] - 1s 6ms/step - loss: 0.1594 - accuracy: 0.9420 - val_loss: 0.6769 - val_accuracy: 0.7343\n",
            "Epoch 426/500\n",
            "104/104 [==============================] - 1s 6ms/step - loss: 0.1837 - accuracy: 0.9359 - val_loss: 0.6107 - val_accuracy: 0.8019\n",
            "Epoch 427/500\n",
            "104/104 [==============================] - 1s 6ms/step - loss: 0.1984 - accuracy: 0.9238 - val_loss: 0.6891 - val_accuracy: 0.7681\n",
            "Epoch 428/500\n",
            "104/104 [==============================] - 1s 5ms/step - loss: 0.1964 - accuracy: 0.9347 - val_loss: 0.6258 - val_accuracy: 0.8261\n",
            "Epoch 429/500\n",
            "104/104 [==============================] - 1s 6ms/step - loss: 0.1679 - accuracy: 0.9371 - val_loss: 0.7115 - val_accuracy: 0.8213\n",
            "Epoch 430/500\n",
            "104/104 [==============================] - 1s 6ms/step - loss: 0.1796 - accuracy: 0.9407 - val_loss: 0.5734 - val_accuracy: 0.7971\n",
            "Epoch 431/500\n",
            "104/104 [==============================] - 1s 6ms/step - loss: 0.1890 - accuracy: 0.9353 - val_loss: 0.6878 - val_accuracy: 0.8116\n",
            "Epoch 432/500\n",
            "104/104 [==============================] - 1s 6ms/step - loss: 0.1992 - accuracy: 0.9250 - val_loss: 0.6527 - val_accuracy: 0.7536\n",
            "Epoch 433/500\n",
            "104/104 [==============================] - 1s 6ms/step - loss: 0.1928 - accuracy: 0.9359 - val_loss: 0.6674 - val_accuracy: 0.7874\n",
            "Epoch 434/500\n",
            "104/104 [==============================] - 1s 6ms/step - loss: 0.1756 - accuracy: 0.9377 - val_loss: 0.7496 - val_accuracy: 0.7874\n",
            "Epoch 435/500\n",
            "104/104 [==============================] - 1s 5ms/step - loss: 0.1673 - accuracy: 0.9414 - val_loss: 0.6769 - val_accuracy: 0.7729\n",
            "Epoch 436/500\n",
            "104/104 [==============================] - 1s 5ms/step - loss: 0.1690 - accuracy: 0.9389 - val_loss: 0.6048 - val_accuracy: 0.8068\n",
            "Epoch 437/500\n",
            "104/104 [==============================] - 1s 5ms/step - loss: 0.1913 - accuracy: 0.9365 - val_loss: 0.6775 - val_accuracy: 0.7826\n",
            "Epoch 438/500\n",
            "104/104 [==============================] - 1s 6ms/step - loss: 0.1755 - accuracy: 0.9317 - val_loss: 0.7079 - val_accuracy: 0.7633\n",
            "Epoch 439/500\n",
            "104/104 [==============================] - 1s 5ms/step - loss: 0.1796 - accuracy: 0.9401 - val_loss: 0.6555 - val_accuracy: 0.8164\n",
            "Epoch 440/500\n",
            "104/104 [==============================] - 1s 6ms/step - loss: 0.1870 - accuracy: 0.9341 - val_loss: 0.6435 - val_accuracy: 0.8019\n",
            "Epoch 441/500\n",
            "104/104 [==============================] - 1s 5ms/step - loss: 0.1948 - accuracy: 0.9389 - val_loss: 0.6447 - val_accuracy: 0.8261\n",
            "Epoch 442/500\n",
            "104/104 [==============================] - 1s 5ms/step - loss: 0.1537 - accuracy: 0.9426 - val_loss: 0.6349 - val_accuracy: 0.8164\n",
            "Epoch 443/500\n",
            "104/104 [==============================] - 1s 5ms/step - loss: 0.1703 - accuracy: 0.9335 - val_loss: 0.6858 - val_accuracy: 0.7923\n",
            "Epoch 444/500\n",
            "104/104 [==============================] - 1s 6ms/step - loss: 0.1840 - accuracy: 0.9371 - val_loss: 0.7357 - val_accuracy: 0.7874\n",
            "Epoch 445/500\n",
            "104/104 [==============================] - 1s 6ms/step - loss: 0.1550 - accuracy: 0.9474 - val_loss: 0.7072 - val_accuracy: 0.7681\n",
            "Epoch 446/500\n",
            "104/104 [==============================] - 1s 5ms/step - loss: 0.2100 - accuracy: 0.9274 - val_loss: 0.7256 - val_accuracy: 0.7585\n",
            "Epoch 447/500\n",
            "104/104 [==============================] - 1s 5ms/step - loss: 0.1825 - accuracy: 0.9305 - val_loss: 0.6731 - val_accuracy: 0.7874\n",
            "Epoch 448/500\n",
            "104/104 [==============================] - 1s 6ms/step - loss: 0.2050 - accuracy: 0.9365 - val_loss: 0.6867 - val_accuracy: 0.8164\n",
            "Epoch 449/500\n",
            "104/104 [==============================] - 1s 5ms/step - loss: 0.1724 - accuracy: 0.9420 - val_loss: 0.6754 - val_accuracy: 0.7923\n",
            "Epoch 450/500\n",
            "104/104 [==============================] - 1s 6ms/step - loss: 0.1845 - accuracy: 0.9377 - val_loss: 0.6828 - val_accuracy: 0.7874\n",
            "Epoch 451/500\n",
            "104/104 [==============================] - 1s 6ms/step - loss: 0.1822 - accuracy: 0.9347 - val_loss: 0.6929 - val_accuracy: 0.7923\n",
            "Epoch 452/500\n",
            "104/104 [==============================] - 1s 6ms/step - loss: 0.1726 - accuracy: 0.9359 - val_loss: 0.5891 - val_accuracy: 0.8068\n",
            "Epoch 453/500\n",
            "104/104 [==============================] - 1s 6ms/step - loss: 0.1566 - accuracy: 0.9407 - val_loss: 0.7166 - val_accuracy: 0.7923\n",
            "Epoch 454/500\n",
            "104/104 [==============================] - 1s 6ms/step - loss: 0.1717 - accuracy: 0.9395 - val_loss: 0.5975 - val_accuracy: 0.7971\n",
            "Epoch 455/500\n",
            "104/104 [==============================] - 1s 6ms/step - loss: 0.1525 - accuracy: 0.9438 - val_loss: 0.6809 - val_accuracy: 0.8019\n",
            "Epoch 456/500\n",
            "104/104 [==============================] - 1s 5ms/step - loss: 0.1501 - accuracy: 0.9522 - val_loss: 0.7069 - val_accuracy: 0.7923\n",
            "Epoch 457/500\n",
            "104/104 [==============================] - 1s 6ms/step - loss: 0.1610 - accuracy: 0.9407 - val_loss: 0.6949 - val_accuracy: 0.7681\n",
            "Epoch 458/500\n",
            "104/104 [==============================] - 1s 5ms/step - loss: 0.1878 - accuracy: 0.9371 - val_loss: 0.7409 - val_accuracy: 0.8116\n",
            "Epoch 459/500\n",
            "104/104 [==============================] - 1s 5ms/step - loss: 0.1805 - accuracy: 0.9407 - val_loss: 0.6314 - val_accuracy: 0.7874\n",
            "Epoch 460/500\n",
            "104/104 [==============================] - 1s 5ms/step - loss: 0.1646 - accuracy: 0.9480 - val_loss: 0.6677 - val_accuracy: 0.7778\n",
            "Epoch 461/500\n",
            "104/104 [==============================] - 1s 6ms/step - loss: 0.1720 - accuracy: 0.9359 - val_loss: 0.5806 - val_accuracy: 0.7874\n",
            "Epoch 462/500\n",
            "104/104 [==============================] - 1s 6ms/step - loss: 0.1951 - accuracy: 0.9359 - val_loss: 0.6353 - val_accuracy: 0.7874\n",
            "Epoch 463/500\n",
            "104/104 [==============================] - 1s 6ms/step - loss: 0.1914 - accuracy: 0.9359 - val_loss: 0.7395 - val_accuracy: 0.7971\n",
            "Epoch 464/500\n",
            "104/104 [==============================] - 1s 6ms/step - loss: 0.1506 - accuracy: 0.9474 - val_loss: 0.6405 - val_accuracy: 0.7633\n",
            "Epoch 465/500\n",
            "104/104 [==============================] - 1s 5ms/step - loss: 0.1383 - accuracy: 0.9522 - val_loss: 0.6799 - val_accuracy: 0.8164\n",
            "Epoch 466/500\n",
            "104/104 [==============================] - 1s 6ms/step - loss: 0.1672 - accuracy: 0.9395 - val_loss: 0.6070 - val_accuracy: 0.8213\n",
            "Epoch 467/500\n",
            "104/104 [==============================] - 1s 6ms/step - loss: 0.1523 - accuracy: 0.9450 - val_loss: 0.6014 - val_accuracy: 0.7826\n",
            "Epoch 468/500\n",
            "104/104 [==============================] - 1s 6ms/step - loss: 0.1840 - accuracy: 0.9347 - val_loss: 0.6725 - val_accuracy: 0.8213\n",
            "Epoch 469/500\n",
            "104/104 [==============================] - 1s 5ms/step - loss: 0.1706 - accuracy: 0.9395 - val_loss: 0.6569 - val_accuracy: 0.8213\n",
            "Epoch 470/500\n",
            "104/104 [==============================] - 1s 5ms/step - loss: 0.1801 - accuracy: 0.9365 - val_loss: 0.6717 - val_accuracy: 0.7971\n",
            "Epoch 471/500\n",
            "104/104 [==============================] - 1s 5ms/step - loss: 0.1637 - accuracy: 0.9414 - val_loss: 0.6097 - val_accuracy: 0.7874\n",
            "Epoch 472/500\n",
            "104/104 [==============================] - 1s 5ms/step - loss: 0.2011 - accuracy: 0.9305 - val_loss: 0.7091 - val_accuracy: 0.7440\n",
            "Epoch 473/500\n",
            "104/104 [==============================] - 1s 5ms/step - loss: 0.1677 - accuracy: 0.9414 - val_loss: 0.7260 - val_accuracy: 0.7971\n",
            "Epoch 474/500\n",
            "104/104 [==============================] - 1s 5ms/step - loss: 0.1593 - accuracy: 0.9480 - val_loss: 0.6551 - val_accuracy: 0.7923\n",
            "Epoch 475/500\n",
            "104/104 [==============================] - 1s 5ms/step - loss: 0.1449 - accuracy: 0.9498 - val_loss: 0.6791 - val_accuracy: 0.8213\n",
            "Epoch 476/500\n",
            "104/104 [==============================] - 1s 5ms/step - loss: 0.1631 - accuracy: 0.9420 - val_loss: 0.7382 - val_accuracy: 0.7971\n",
            "Epoch 477/500\n",
            "104/104 [==============================] - 1s 6ms/step - loss: 0.1751 - accuracy: 0.9456 - val_loss: 0.6834 - val_accuracy: 0.8019\n",
            "Epoch 478/500\n",
            "104/104 [==============================] - 1s 5ms/step - loss: 0.1562 - accuracy: 0.9407 - val_loss: 0.6744 - val_accuracy: 0.7971\n",
            "Epoch 479/500\n",
            "104/104 [==============================] - 1s 6ms/step - loss: 0.1649 - accuracy: 0.9389 - val_loss: 0.6646 - val_accuracy: 0.8019\n",
            "Epoch 480/500\n",
            "104/104 [==============================] - 1s 6ms/step - loss: 0.1401 - accuracy: 0.9534 - val_loss: 0.6933 - val_accuracy: 0.7923\n",
            "Epoch 481/500\n",
            "104/104 [==============================] - 1s 6ms/step - loss: 0.1555 - accuracy: 0.9468 - val_loss: 0.8419 - val_accuracy: 0.7440\n",
            "Epoch 482/500\n",
            "104/104 [==============================] - 1s 5ms/step - loss: 0.1743 - accuracy: 0.9341 - val_loss: 0.6472 - val_accuracy: 0.7729\n",
            "Epoch 483/500\n",
            "104/104 [==============================] - 1s 6ms/step - loss: 0.1336 - accuracy: 0.9462 - val_loss: 0.6622 - val_accuracy: 0.8213\n",
            "Epoch 484/500\n",
            "104/104 [==============================] - 1s 6ms/step - loss: 0.1633 - accuracy: 0.9395 - val_loss: 0.7102 - val_accuracy: 0.7826\n",
            "Epoch 485/500\n",
            "104/104 [==============================] - 1s 5ms/step - loss: 0.1480 - accuracy: 0.9522 - val_loss: 0.7538 - val_accuracy: 0.7729\n",
            "Epoch 486/500\n",
            "104/104 [==============================] - 1s 5ms/step - loss: 0.1650 - accuracy: 0.9450 - val_loss: 0.6999 - val_accuracy: 0.7778\n",
            "Epoch 487/500\n",
            "104/104 [==============================] - 1s 6ms/step - loss: 0.1585 - accuracy: 0.9450 - val_loss: 0.6667 - val_accuracy: 0.8068\n",
            "Epoch 488/500\n",
            "104/104 [==============================] - 1s 6ms/step - loss: 0.1595 - accuracy: 0.9492 - val_loss: 0.6667 - val_accuracy: 0.8019\n",
            "Epoch 489/500\n",
            "104/104 [==============================] - 1s 5ms/step - loss: 0.1854 - accuracy: 0.9414 - val_loss: 0.6964 - val_accuracy: 0.7971\n",
            "Epoch 490/500\n",
            "104/104 [==============================] - 1s 6ms/step - loss: 0.1727 - accuracy: 0.9432 - val_loss: 0.7532 - val_accuracy: 0.7971\n",
            "Epoch 491/500\n",
            "104/104 [==============================] - 1s 6ms/step - loss: 0.1357 - accuracy: 0.9516 - val_loss: 0.6181 - val_accuracy: 0.7923\n",
            "Epoch 492/500\n",
            "104/104 [==============================] - 1s 6ms/step - loss: 0.1359 - accuracy: 0.9541 - val_loss: 0.7167 - val_accuracy: 0.7923\n",
            "Epoch 493/500\n",
            "104/104 [==============================] - 1s 6ms/step - loss: 0.1563 - accuracy: 0.9498 - val_loss: 0.7012 - val_accuracy: 0.7778\n",
            "Epoch 494/500\n",
            "104/104 [==============================] - 1s 6ms/step - loss: 0.1418 - accuracy: 0.9553 - val_loss: 0.6900 - val_accuracy: 0.8116\n",
            "Epoch 495/500\n",
            "104/104 [==============================] - 1s 5ms/step - loss: 0.1416 - accuracy: 0.9510 - val_loss: 0.6951 - val_accuracy: 0.8019\n",
            "Epoch 496/500\n",
            "104/104 [==============================] - 1s 5ms/step - loss: 0.1633 - accuracy: 0.9432 - val_loss: 0.7732 - val_accuracy: 0.7874\n",
            "Epoch 497/500\n",
            "104/104 [==============================] - 1s 6ms/step - loss: 0.1382 - accuracy: 0.9534 - val_loss: 0.7336 - val_accuracy: 0.7923\n",
            "Epoch 498/500\n",
            "104/104 [==============================] - 1s 6ms/step - loss: 0.1634 - accuracy: 0.9420 - val_loss: 0.7627 - val_accuracy: 0.7971\n",
            "Epoch 499/500\n",
            "104/104 [==============================] - 1s 5ms/step - loss: 0.1552 - accuracy: 0.9504 - val_loss: 0.6633 - val_accuracy: 0.7874\n",
            "Epoch 500/500\n",
            "104/104 [==============================] - 1s 6ms/step - loss: 0.1467 - accuracy: 0.9498 - val_loss: 0.6017 - val_accuracy: 0.8019\n"
          ]
        }
      ]
    },
    {
      "cell_type": "code",
      "source": [
        "plt.plot(cnnhistory.history['loss'])\n",
        "plt.plot(cnnhistory.history['val_loss'])\n",
        "plt.title('model loss')\n",
        "plt.ylabel('loss')\n",
        "plt.xlabel('epoch')\n",
        "plt.legend(['train','test'], loc='upper left')\n",
        "plt.show()"
      ],
      "metadata": {
        "colab": {
          "base_uri": "https://localhost:8080/",
          "height": 295
        },
        "id": "oQYnuaCrDH_A",
        "outputId": "a2edd442-c49a-414d-e895-72280dc1ac55"
      },
      "execution_count": 30,
      "outputs": [
        {
          "output_type": "display_data",
          "data": {
            "text/plain": [
              "<Figure size 432x288 with 1 Axes>"
            ],
            "image/png": "[encoded data removed]"
          },
          "metadata": {
            "needs_background": "light"
          }
        }
      ]
    },
    {
      "cell_type": "code",
      "source": [
        "plt.plot(cnnhistory.history['accuracy'])\n",
        "plt.plot(cnnhistory.history['val_accuracy'])\n",
        "plt.title('model accuracy')\n",
        "plt.ylabel('accuracy')\n",
        "plt.xlabel('epoch')\n",
        "plt.legend(['train','test'], loc='upper left')\n",
        "plt.show()"
      ],
      "metadata": {
        "colab": {
          "base_uri": "https://localhost:8080/",
          "height": 295
        },
        "id": "IFkTuO8nDNdq",
        "outputId": "4bacd41e-06ef-4b66-d3f3-d22cb24b8f2b"
      },
      "execution_count": 31,
      "outputs": [
        {
          "output_type": "display_data",
          "data": {
            "text/plain": [
              "<Figure size 432x288 with 1 Axes>"
            ],
            "image/png": "[encoded data removed]"
          },
          "metadata": {
            "needs_background": "light"
          }
        }
      ]
    },
    {
      "cell_type": "code",
      "source": [
        "#predictions = model.predict_classes(x_testcnn)\n",
        "predictions = model.predict(x_testcnn)"
      ],
      "metadata": {
        "id": "A2xtrN5wDQgY"
      },
      "execution_count": 32,
      "outputs": []
    },
    {
      "cell_type": "code",
      "source": [
        "predictions"
      ],
      "metadata": {
        "colab": {
          "base_uri": "https://localhost:8080/"
        },
        "id": "_f_ohjXKDUpY",
        "outputId": "da54e755-fee4-4902-df47-34a92468983e"
      },
      "execution_count": 33,
      "outputs": [
        {
          "output_type": "execute_result",
          "data": {
            "text/plain": [
              "array([[3.3817546e-11, 5.1348304e-11, 4.7857538e-01, 1.0136532e-05,\n",
              "        2.2799730e-02, 4.9861470e-01],\n",
              "       [1.7718390e-03, 9.9745017e-01, 2.8948483e-04, 4.4951716e-04,\n",
              "        1.5099467e-05, 2.3896875e-05],\n",
              "       [3.7354599e-08, 9.2374121e-06, 9.9841058e-01, 6.5917178e-09,\n",
              "        2.0756219e-04, 1.3725265e-03],\n",
              "       ...,\n",
              "       [2.7437417e-09, 3.0467051e-09, 5.2380060e-06, 3.8137700e-06,\n",
              "        9.9901640e-01, 9.7454188e-04],\n",
              "       [1.3136150e-03, 3.2729164e-04, 1.3697044e-03, 6.1544043e-01,\n",
              "        3.8233009e-04, 3.8116670e-01],\n",
              "       [1.2701667e-02, 3.1856536e-03, 1.2398501e-04, 5.3936638e-02,\n",
              "        9.3004954e-01, 2.5483682e-06]], dtype=float32)"
            ]
          },
          "metadata": {},
          "execution_count": 33
        }
      ]
    },
    {
      "cell_type": "code",
      "source": [
        "y_test"
      ],
      "metadata": {
        "colab": {
          "base_uri": "https://localhost:8080/"
        },
        "id": "cmA2bFgsDW3D",
        "outputId": "37429980-db6f-4b57-bc06-30d0f7ccd9f0"
      },
      "execution_count": 34,
      "outputs": [
        {
          "output_type": "execute_result",
          "data": {
            "text/plain": [
              "array([5, 1, 2, 5, 3, 4, 2, 0, 3, 1, 3, 2, 1, 4, 3, 0, 5, 0, 2, 5, 0, 0,\n",
              "       1, 3, 2, 3, 2, 5, 4, 2, 2, 3, 1, 2, 5, 5, 3, 5, 3, 3, 4, 1, 3, 2,\n",
              "       3, 1, 5, 3, 1, 2, 4, 4, 5, 5, 5, 1, 2, 3, 2, 5, 0, 2, 4, 2, 5, 4,\n",
              "       3, 0, 1, 2, 5, 2, 1, 2, 4, 5, 4, 1, 5, 5, 3, 1, 5, 3, 2, 4, 2, 5,\n",
              "       0, 5, 0, 5, 4, 0, 2, 4, 0, 2, 2, 0, 2, 3, 5, 3, 5, 5, 3, 1, 2, 2,\n",
              "       2, 1, 3, 2, 1, 3, 4, 4, 1, 1, 2, 4, 4, 1, 4, 2, 0, 4, 5, 5, 3, 1,\n",
              "       2, 1, 5, 5, 1, 2, 3, 3, 0, 3, 3, 0, 1, 0, 1, 2, 1, 5, 1, 2, 2, 0,\n",
              "       1, 1, 1, 1, 1, 4, 0, 1, 5, 1, 4, 5, 5, 4, 1, 0, 3, 5, 2, 3, 0, 4,\n",
              "       1, 3, 1, 0, 5, 5, 3, 5, 4, 5, 4, 0, 4, 1, 2, 1, 5, 0, 4, 3, 2, 1,\n",
              "       0, 3, 5, 0, 4, 5, 4, 5, 4])"
            ]
          },
          "metadata": {},
          "execution_count": 34
        }
      ]
    },
    {
      "cell_type": "code",
      "source": [
        "new_Ytest = y_test.astype(int)"
      ],
      "metadata": {
        "id": "0PHDKWJWDY3g"
      },
      "execution_count": 35,
      "outputs": []
    },
    {
      "cell_type": "code",
      "source": [
        "new_Ytest"
      ],
      "metadata": {
        "colab": {
          "base_uri": "https://localhost:8080/"
        },
        "id": "k68v2i-pDbZE",
        "outputId": "eb2e3e26-361e-4ce1-be56-32f6bae1bd5c"
      },
      "execution_count": 36,
      "outputs": [
        {
          "output_type": "execute_result",
          "data": {
            "text/plain": [
              "array([5, 1, 2, 5, 3, 4, 2, 0, 3, 1, 3, 2, 1, 4, 3, 0, 5, 0, 2, 5, 0, 0,\n",
              "       1, 3, 2, 3, 2, 5, 4, 2, 2, 3, 1, 2, 5, 5, 3, 5, 3, 3, 4, 1, 3, 2,\n",
              "       3, 1, 5, 3, 1, 2, 4, 4, 5, 5, 5, 1, 2, 3, 2, 5, 0, 2, 4, 2, 5, 4,\n",
              "       3, 0, 1, 2, 5, 2, 1, 2, 4, 5, 4, 1, 5, 5, 3, 1, 5, 3, 2, 4, 2, 5,\n",
              "       0, 5, 0, 5, 4, 0, 2, 4, 0, 2, 2, 0, 2, 3, 5, 3, 5, 5, 3, 1, 2, 2,\n",
              "       2, 1, 3, 2, 1, 3, 4, 4, 1, 1, 2, 4, 4, 1, 4, 2, 0, 4, 5, 5, 3, 1,\n",
              "       2, 1, 5, 5, 1, 2, 3, 3, 0, 3, 3, 0, 1, 0, 1, 2, 1, 5, 1, 2, 2, 0,\n",
              "       1, 1, 1, 1, 1, 4, 0, 1, 5, 1, 4, 5, 5, 4, 1, 0, 3, 5, 2, 3, 0, 4,\n",
              "       1, 3, 1, 0, 5, 5, 3, 5, 4, 5, 4, 0, 4, 1, 2, 1, 5, 0, 4, 3, 2, 1,\n",
              "       0, 3, 5, 0, 4, 5, 4, 5, 4])"
            ]
          },
          "metadata": {},
          "execution_count": 36
        }
      ]
    },
    {
      "cell_type": "code",
      "source": [
        "preds1=predictions.argmax(axis=1)\n",
        "preds1"
      ],
      "metadata": {
        "colab": {
          "base_uri": "https://localhost:8080/"
        },
        "id": "4_cAI39VFhtp",
        "outputId": "03300e57-f16f-45bd-aee0-12d1e44b05b6"
      },
      "execution_count": 37,
      "outputs": [
        {
          "output_type": "execute_result",
          "data": {
            "text/plain": [
              "array([5, 1, 2, 5, 1, 4, 2, 0, 3, 0, 3, 2, 1, 4, 3, 0, 5, 3, 2, 5, 2, 0,\n",
              "       1, 3, 2, 5, 2, 5, 2, 2, 2, 5, 1, 2, 5, 5, 1, 5, 3, 3, 4, 1, 2, 2,\n",
              "       4, 0, 5, 3, 1, 2, 4, 4, 5, 2, 4, 1, 2, 3, 2, 5, 0, 2, 4, 2, 5, 4,\n",
              "       3, 1, 1, 2, 5, 2, 1, 2, 4, 3, 4, 1, 5, 2, 3, 2, 5, 3, 2, 4, 2, 3,\n",
              "       0, 2, 0, 3, 4, 0, 3, 4, 3, 4, 2, 3, 2, 0, 5, 3, 5, 2, 5, 1, 2, 2,\n",
              "       2, 1, 3, 2, 1, 3, 4, 4, 1, 1, 2, 4, 4, 1, 4, 2, 2, 4, 4, 5, 5, 1,\n",
              "       4, 1, 2, 5, 1, 3, 3, 3, 0, 3, 5, 0, 1, 0, 1, 2, 1, 5, 1, 2, 2, 0,\n",
              "       1, 1, 1, 1, 2, 4, 0, 1, 5, 1, 4, 5, 5, 2, 1, 0, 5, 1, 2, 2, 1, 4,\n",
              "       1, 3, 1, 0, 5, 2, 3, 5, 4, 5, 0, 0, 0, 1, 2, 1, 2, 0, 4, 1, 2, 0,\n",
              "       1, 5, 5, 3, 4, 5, 4, 3, 4])"
            ]
          },
          "metadata": {},
          "execution_count": 37
        }
      ]
    },
    {
      "cell_type": "code",
      "source": [
        "abc = preds1.astype(int).flatten()"
      ],
      "metadata": {
        "id": "H4WEmM60NfQn"
      },
      "execution_count": 38,
      "outputs": []
    },
    {
      "cell_type": "code",
      "source": [
        "from sklearn.metrics import confusion_matrix\n",
        "c = confusion_matrix(new_Ytest, abc) \n",
        "c"
      ],
      "metadata": {
        "colab": {
          "base_uri": "https://localhost:8080/"
        },
        "id": "bKEBeEBlFjB8",
        "outputId": "05fa68b1-1f21-4a48-a444-aac2887a2a1c"
      },
      "execution_count": 39,
      "outputs": [
        {
          "output_type": "execute_result",
          "data": {
            "text/plain": [
              "array([[16,  3,  2,  4,  0,  0],\n",
              "       [ 3, 34,  2,  0,  0,  0],\n",
              "       [ 0,  0, 34,  2,  2,  0],\n",
              "       [ 1,  3,  2, 19,  1,  7],\n",
              "       [ 2,  0,  2,  0, 26,  0],\n",
              "       [ 0,  1,  7,  4,  2, 28]])"
            ]
          },
          "metadata": {},
          "execution_count": 39
        }
      ]
    },
    {
      "cell_type": "code",
      "source": [
        "y_test"
      ],
      "metadata": {
        "colab": {
          "base_uri": "https://localhost:8080/"
        },
        "id": "m4RjG7LWLSQx",
        "outputId": "4edec865-2a4c-47c9-f95b-c804d2419ae6"
      },
      "execution_count": 40,
      "outputs": [
        {
          "output_type": "execute_result",
          "data": {
            "text/plain": [
              "array([5, 1, 2, 5, 3, 4, 2, 0, 3, 1, 3, 2, 1, 4, 3, 0, 5, 0, 2, 5, 0, 0,\n",
              "       1, 3, 2, 3, 2, 5, 4, 2, 2, 3, 1, 2, 5, 5, 3, 5, 3, 3, 4, 1, 3, 2,\n",
              "       3, 1, 5, 3, 1, 2, 4, 4, 5, 5, 5, 1, 2, 3, 2, 5, 0, 2, 4, 2, 5, 4,\n",
              "       3, 0, 1, 2, 5, 2, 1, 2, 4, 5, 4, 1, 5, 5, 3, 1, 5, 3, 2, 4, 2, 5,\n",
              "       0, 5, 0, 5, 4, 0, 2, 4, 0, 2, 2, 0, 2, 3, 5, 3, 5, 5, 3, 1, 2, 2,\n",
              "       2, 1, 3, 2, 1, 3, 4, 4, 1, 1, 2, 4, 4, 1, 4, 2, 0, 4, 5, 5, 3, 1,\n",
              "       2, 1, 5, 5, 1, 2, 3, 3, 0, 3, 3, 0, 1, 0, 1, 2, 1, 5, 1, 2, 2, 0,\n",
              "       1, 1, 1, 1, 1, 4, 0, 1, 5, 1, 4, 5, 5, 4, 1, 0, 3, 5, 2, 3, 0, 4,\n",
              "       1, 3, 1, 0, 5, 5, 3, 5, 4, 5, 4, 0, 4, 1, 2, 1, 5, 0, 4, 3, 2, 1,\n",
              "       0, 3, 5, 0, 4, 5, 4, 5, 4])"
            ]
          },
          "metadata": {},
          "execution_count": 40
        }
      ]
    },
    {
      "cell_type": "code",
      "source": [
        "model.save('/content/drive/My Drive/graduation project/audio/paper_code/mariam/original_500 epoch_with_valid_Adam2_3')\n",
        "print(\"MODEL SAVED\")"
      ],
      "metadata": {
        "colab": {
          "base_uri": "https://localhost:8080/"
        },
        "id": "lsJBNeMWDl6Z",
        "outputId": "fdf913e8-556c-4e26-bcf4-1d47e58f4768"
      },
      "execution_count": 41,
      "outputs": [
        {
          "output_type": "stream",
          "name": "stdout",
          "text": [
            "INFO:tensorflow:Assets written to: /content/drive/My Drive/graduation project/audio/paper_code/mariam/original_500 epoch_with_valid_Adam2_3/assets\n",
            "MODEL SAVED\n"
          ]
        }
      ]
    },
    {
      "cell_type": "code",
      "source": [
        "new_model=keras.models.load_model('/content/drive/My Drive/graduation project/audio/paper_code/mariam/original_500 epoch_with_valid_Adam2_3')\n",
        "new_model.summary()"
      ],
      "metadata": {
        "colab": {
          "base_uri": "https://localhost:8080/"
        },
        "id": "Q3KjaO9GDoNl",
        "outputId": "4284d4e7-5f6f-42ec-dd98-4b1a6e029eef"
      },
      "execution_count": 43,
      "outputs": [
        {
          "output_type": "stream",
          "name": "stdout",
          "text": [
            "Model: \"sequential\"\n",
            "_________________________________________________________________\n",
            " Layer (type)                Output Shape              Param #   \n",
            "=================================================================\n",
            " conv1d (Conv1D)             (None, 40, 128)           1152      \n",
            "                                                                 \n",
            " activation (Activation)     (None, 40, 128)           0         \n",
            "                                                                 \n",
            " dropout (Dropout)           (None, 40, 128)           0         \n",
            "                                                                 \n",
            " max_pooling1d (MaxPooling1D  (None, 8, 128)           0         \n",
            " )                                                               \n",
            "                                                                 \n",
            " conv1d_1 (Conv1D)           (None, 8, 256)            262400    \n",
            "                                                                 \n",
            " activation_1 (Activation)   (None, 8, 256)            0         \n",
            "                                                                 \n",
            " dropout_1 (Dropout)         (None, 8, 256)            0         \n",
            "                                                                 \n",
            " max_pooling1d_1 (MaxPooling  (None, 1, 256)           0         \n",
            " 1D)                                                             \n",
            "                                                                 \n",
            " flatten (Flatten)           (None, 256)               0         \n",
            "                                                                 \n",
            " dense (Dense)               (None, 256)               65792     \n",
            "                                                                 \n",
            " activation_2 (Activation)   (None, 256)               0         \n",
            "                                                                 \n",
            " dense_1 (Dense)             (None, 256)               65792     \n",
            "                                                                 \n",
            " activation_3 (Activation)   (None, 256)               0         \n",
            "                                                                 \n",
            " dense_2 (Dense)             (None, 6)                 1542      \n",
            "                                                                 \n",
            " activation_4 (Activation)   (None, 6)                 0         \n",
            "                                                                 \n",
            "=================================================================\n",
            "Total params: 396,678\n",
            "Trainable params: 396,678\n",
            "Non-trainable params: 0\n",
            "_________________________________________________________________\n"
          ]
        }
      ]
    },
    {
      "cell_type": "code",
      "source": [
        "loss, acc =model.evaluate(x_testcnn, y_test)\n",
        "print(\"Restored model, accuracy: {:5.2f}%\".format(100*acc))"
      ],
      "metadata": {
        "colab": {
          "base_uri": "https://localhost:8080/"
        },
        "id": "n3kzoqPkDqqS",
        "outputId": "c14c62ac-eb91-47a3-c480-c2408aa95c9e"
      },
      "execution_count": 44,
      "outputs": [
        {
          "output_type": "stream",
          "name": "stdout",
          "text": [
            "7/7 [==============================] - 0s 3ms/step - loss: 0.7311 - accuracy: 0.7585\n",
            "Restored model, accuracy: 75.85%\n"
          ]
        }
      ]
    },
    {
      "cell_type": "code",
      "source": [
        "loss, acc =model.evaluate(X_train, y_train)\n",
        "print(\"Restored model train, accuracy: {:5.2f}%\".format(100*acc))"
      ],
      "metadata": {
        "id": "fJDTGH_OUX0z",
        "colab": {
          "base_uri": "https://localhost:8080/"
        },
        "outputId": "e3dce739-1278-474c-d220-69e56c7642c5"
      },
      "execution_count": 45,
      "outputs": [
        {
          "output_type": "stream",
          "name": "stdout",
          "text": [
            "52/52 [==============================] - 0s 4ms/step - loss: 0.0597 - accuracy: 0.9921\n",
            "Restored model train, accuracy: 99.21%\n"
          ]
        }
      ]
    },
    {
      "cell_type": "code",
      "source": [
        "from sklearn.metrics import classification_report, confusion_matrix,accuracy_score\n",
        "import seaborn as sn\n",
        "\n",
        "print(classification_report(new_Ytest,abc))\n",
        "\n",
        "acc = float(accuracy_score(new_Ytest,abc))*100\n",
        "print(\"----accuracy score %s ----\" % acc)\n",
        "\n",
        "cm = confusion_matrix(new_Ytest,abc)\n",
        "#df_cm = pd.DataFrame(cm)\n",
        "class_names = ['neutral','calm', 'happy','sad','angry', 'fearful' ]\n",
        "df_cm = pd.DataFrame(cm, index=class_names, columns=class_names,)\n",
        "sn.heatmap(df_cm, annot=True, fmt='')\n",
        "plt.show()"
      ],
      "metadata": {
        "colab": {
          "base_uri": "https://localhost:8080/",
          "height": 517
        },
        "id": "SfSC3El94LZg",
        "outputId": "fbe56d33-e133-44c9-9937-9b66cb9888be"
      },
      "execution_count": 46,
      "outputs": [
        {
          "output_type": "stream",
          "name": "stdout",
          "text": [
            "              precision    recall  f1-score   support\n",
            "\n",
            "           0       0.73      0.64      0.68        25\n",
            "           1       0.83      0.87      0.85        39\n",
            "           2       0.69      0.89      0.78        38\n",
            "           3       0.66      0.58      0.61        33\n",
            "           4       0.84      0.87      0.85        30\n",
            "           5       0.80      0.67      0.73        42\n",
            "\n",
            "    accuracy                           0.76       207\n",
            "   macro avg       0.76      0.75      0.75       207\n",
            "weighted avg       0.76      0.76      0.75       207\n",
            "\n",
            "----accuracy score 75.84541062801932 ----\n"
          ]
        },
        {
          "output_type": "display_data",
          "data": {
            "text/plain": [
              "<Figure size 432x288 with 2 Axes>"
            ],
            "image/png": "[encoded data removed]"
          },
          "metadata": {
            "needs_background": "light"
          }
        }
      ]
    },
    {
      "cell_type": "code",
      "source": [
        ""
      ],
      "metadata": {
        "id": "LGpgwFQqkpyU"
      },
      "execution_count": null,
      "outputs": []
    }
  ]
}