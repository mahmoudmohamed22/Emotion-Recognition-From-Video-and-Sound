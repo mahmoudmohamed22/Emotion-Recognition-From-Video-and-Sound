{
  "nbformat": 4,
  "nbformat_minor": 0,
  "metadata": {
    "colab": {
      "name": "original_remove_2_dense_layers_RMS_lr=0_0002 increase_kernal_size_to_12 & Batch & change in dropout colab pro try 2.ipynb",
      "provenance": [],
      "collapsed_sections": [],
      "machine_shape": "hm"
    },
    "kernelspec": {
      "name": "python3",
      "display_name": "Python 3"
    },
    "language_info": {
      "name": "python"
    },
    "accelerator": "GPU"
  },
  "cells": [
    {
      "cell_type": "code",
      "execution_count": 1,
      "metadata": {
        "colab": {
          "base_uri": "https://localhost:8080/"
        },
        "id": "9SRCO-a_AlH5",
        "outputId": "0f0d73d2-6602-4304-ee7a-2ce683e56ce6"
      },
      "outputs": [
        {
          "output_type": "stream",
          "name": "stdout",
          "text": [
            "Drive already mounted at /content/drive; to attempt to forcibly remount, call drive.mount(\"/content/drive\", force_remount=True).\n"
          ]
        }
      ],
      "source": [
        "from google.colab import drive\n",
        "drive.mount('/content/drive')"
      ]
    },
    {
      "cell_type": "code",
      "source": [
        "!pip install librosa"
      ],
      "metadata": {
        "colab": {
          "base_uri": "https://localhost:8080/"
        },
        "id": "5Lo4mUwG9RMd",
        "outputId": "18838898-1abb-4511-d579-bb7a0c73fd5b"
      },
      "execution_count": 2,
      "outputs": [
        {
          "output_type": "stream",
          "name": "stdout",
          "text": [
            "Looking in indexes: https://pypi.org/simple, https://us-python.pkg.dev/colab-wheels/public/simple/\n",
            "Requirement already satisfied: librosa in /usr/local/lib/python3.7/dist-packages (0.8.1)\n",
            "Requirement already satisfied: resampy>=0.2.2 in /usr/local/lib/python3.7/dist-packages (from librosa) (0.2.2)\n",
            "Requirement already satisfied: decorator>=3.0.0 in /usr/local/lib/python3.7/dist-packages (from librosa) (4.4.2)\n",
            "Requirement already satisfied: scikit-learn!=0.19.0,>=0.14.0 in /usr/local/lib/python3.7/dist-packages (from librosa) (1.0.2)\n",
            "Requirement already satisfied: scipy>=1.0.0 in /usr/local/lib/python3.7/dist-packages (from librosa) (1.4.1)\n",
            "Requirement already satisfied: soundfile>=0.10.2 in /usr/local/lib/python3.7/dist-packages (from librosa) (0.10.3.post1)\n",
            "Requirement already satisfied: packaging>=20.0 in /usr/local/lib/python3.7/dist-packages (from librosa) (21.3)\n",
            "Requirement already satisfied: pooch>=1.0 in /usr/local/lib/python3.7/dist-packages (from librosa) (1.6.0)\n",
            "Requirement already satisfied: audioread>=2.0.0 in /usr/local/lib/python3.7/dist-packages (from librosa) (2.1.9)\n",
            "Requirement already satisfied: joblib>=0.14 in /usr/local/lib/python3.7/dist-packages (from librosa) (1.1.0)\n",
            "Requirement already satisfied: numpy>=1.15.0 in /usr/local/lib/python3.7/dist-packages (from librosa) (1.21.6)\n",
            "Requirement already satisfied: numba>=0.43.0 in /usr/local/lib/python3.7/dist-packages (from librosa) (0.51.2)\n",
            "Requirement already satisfied: setuptools in /usr/local/lib/python3.7/dist-packages (from numba>=0.43.0->librosa) (57.4.0)\n",
            "Requirement already satisfied: llvmlite<0.35,>=0.34.0.dev0 in /usr/local/lib/python3.7/dist-packages (from numba>=0.43.0->librosa) (0.34.0)\n",
            "Requirement already satisfied: pyparsing!=3.0.5,>=2.0.2 in /usr/local/lib/python3.7/dist-packages (from packaging>=20.0->librosa) (3.0.9)\n",
            "Requirement already satisfied: requests>=2.19.0 in /usr/local/lib/python3.7/dist-packages (from pooch>=1.0->librosa) (2.23.0)\n",
            "Requirement already satisfied: appdirs>=1.3.0 in /usr/local/lib/python3.7/dist-packages (from pooch>=1.0->librosa) (1.4.4)\n",
            "Requirement already satisfied: certifi>=2017.4.17 in /usr/local/lib/python3.7/dist-packages (from requests>=2.19.0->pooch>=1.0->librosa) (2022.5.18.1)\n",
            "Requirement already satisfied: urllib3!=1.25.0,!=1.25.1,<1.26,>=1.21.1 in /usr/local/lib/python3.7/dist-packages (from requests>=2.19.0->pooch>=1.0->librosa) (1.24.3)\n",
            "Requirement already satisfied: chardet<4,>=3.0.2 in /usr/local/lib/python3.7/dist-packages (from requests>=2.19.0->pooch>=1.0->librosa) (3.0.4)\n",
            "Requirement already satisfied: idna<3,>=2.5 in /usr/local/lib/python3.7/dist-packages (from requests>=2.19.0->pooch>=1.0->librosa) (2.10)\n",
            "Requirement already satisfied: six>=1.3 in /usr/local/lib/python3.7/dist-packages (from resampy>=0.2.2->librosa) (1.15.0)\n",
            "Requirement already satisfied: threadpoolctl>=2.0.0 in /usr/local/lib/python3.7/dist-packages (from scikit-learn!=0.19.0,>=0.14.0->librosa) (3.1.0)\n",
            "Requirement already satisfied: cffi>=1.0 in /usr/local/lib/python3.7/dist-packages (from soundfile>=0.10.2->librosa) (1.15.0)\n",
            "Requirement already satisfied: pycparser in /usr/local/lib/python3.7/dist-packages (from cffi>=1.0->soundfile>=0.10.2->librosa) (2.21)\n"
          ]
        }
      ]
    },
    {
      "cell_type": "code",
      "metadata": {
        "id": "HJjcbxwy46bG",
        "colab": {
          "base_uri": "https://localhost:8080/",
          "height": 17
        },
        "outputId": "9b33aa9d-bb48-4931-caeb-a5be7bf1c0be"
      },
      "source": [
        "# Orignial Notebook: https://github.com/MITESHPUTHRANNEU/Speech-Emotion-Analyzer/blob/master/final_results_gender_test.ipynb\n",
        "# This notebook author: Reza Chu\n",
        "# Last Editing Date: 31st May 2019\n",
        "\n",
        "## Python\n",
        "import os\n",
        "import random\n",
        "import sys\n",
        "\n",
        "import IPython\n",
        "from IPython.display import Audio\n",
        "from IPython.display import Image\n",
        "import matplotlib.pyplot as plt\n",
        "\n",
        "## Package\n",
        "import glob \n",
        "import keras\n",
        "import IPython.display as ipd\n",
        "import librosa\n",
        "import librosa.display\n",
        "import matplotlib.pyplot as plt\n",
        "import numpy as np\n",
        "import pandas as pd\n",
        "import plotly.graph_objs as go\n",
        "import plotly.offline as py\n",
        "import plotly.tools as tls\n",
        "import seaborn as sns\n",
        "import scipy.io.wavfile\n",
        "import tensorflow as tf\n",
        "py.init_notebook_mode(connected=True)\n",
        "\n",
        "## Keras\n",
        "from keras import regularizers\n",
        "from keras.callbacks import ModelCheckpoint, LearningRateScheduler, EarlyStopping\n",
        "from keras.callbacks import  History, ReduceLROnPlateau, CSVLogger\n",
        "from keras.models import Model, Sequential\n",
        "from keras.layers import Dense, Embedding, LSTM\n",
        "from keras.layers import Input, Flatten, Dropout, Activation, BatchNormalization\n",
        "from keras.layers import Conv1D, MaxPooling1D, AveragePooling1D\n",
        "from keras.preprocessing import sequence\n",
        "from keras.preprocessing.sequence import pad_sequences\n",
        "from keras.preprocessing.text import Tokenizer\n",
        "from keras.utils import np_utils\n",
        "from tensorflow.keras.utils import to_categorical\n",
        "\n",
        "## Sklearn\n",
        "from sklearn.metrics import confusion_matrix\n",
        "from sklearn.preprocessing import LabelEncoder\n",
        "\n",
        "## Rest\n",
        "from scipy.fftpack import fft\n",
        "from scipy import signal\n",
        "from scipy.io import wavfile\n",
        "from tqdm import tqdm\n",
        "\n",
        "input_duration=3\n",
        "# % pylab inline"
      ],
      "execution_count": 3,
      "outputs": [
        {
          "output_type": "display_data",
          "data": {
            "text/html": [
              "        <script type=\"text/javascript\">\n",
              "        window.PlotlyConfig = {MathJaxConfig: 'local'};\n",
              "        if (window.MathJax) {MathJax.Hub.Config({SVG: {font: \"STIX-Web\"}});}\n",
              "        if (typeof require !== 'undefined') {\n",
              "        require.undef(\"plotly\");\n",
              "        requirejs.config({\n",
              "            paths: {\n",
              "                'plotly': ['https://cdn.plot.ly/plotly-2.8.3.min']\n",
              "            }\n",
              "        });\n",
              "        require(['plotly'], function(Plotly) {\n",
              "            window._Plotly = Plotly;\n",
              "        });\n",
              "        }\n",
              "        </script>\n",
              "        "
            ]
          },
          "metadata": {}
        }
      ]
    },
    {
      "cell_type": "code",
      "source": [
        "# # Saving joblib files to not load them again with the loop above\n",
        "\n",
        "# import joblib\n",
        "\n",
        "# X_name = 'x.joblib'\n",
        "# y_name = 'y.joblib'\n",
        "# save_dir = '/content/drive/My Drive/graduation project/audio/paper_code/features'\n",
        "\n",
        "# savedX = joblib.dump(X, os.path.join(save_dir, X_name))\n",
        "# savedy = joblib.dump(y, os.path.join(save_dir, y_name))"
      ],
      "metadata": {
        "id": "UCzic8rlDcuk"
      },
      "execution_count": 4,
      "outputs": []
    },
    {
      "cell_type": "code",
      "source": [
        "# # Loading saved models\n",
        "import joblib\n",
        "X = joblib.load('/content/drive/My Drive/graduation project/audio/paper_code/features/x.joblib')\n",
        "y = joblib.load('/content/drive/My Drive/graduation project/audio/paper_code/features/y.joblib')"
      ],
      "metadata": {
        "id": "Q35CN6zDrzg1"
      },
      "execution_count": 5,
      "outputs": []
    },
    {
      "cell_type": "code",
      "source": [
        "X.shape"
      ],
      "metadata": {
        "id": "7PSTurzjCo5K",
        "colab": {
          "base_uri": "https://localhost:8080/"
        },
        "outputId": "bc834c0a-3154-4391-8f23-d4101e1817e8"
      },
      "execution_count": 6,
      "outputs": [
        {
          "output_type": "execute_result",
          "data": {
            "text/plain": [
              "(2068, 40)"
            ]
          },
          "metadata": {},
          "execution_count": 6
        }
      ]
    },
    {
      "cell_type": "code",
      "source": [
        "from sklearn.model_selection import train_test_split\n",
        "\n",
        "X_train, X_test, y_train, y_test = train_test_split(X,y, test_size=0.1 ,shuffle = True\n",
        "                                                    , random_state=42)\n",
        "X_train , X_valid, y_train, y_valid = train_test_split(X_train,y_train, test_size=0.1112305212 , shuffle = True \n",
        "                                                       , random_state=42)"
      ],
      "metadata": {
        "id": "Ai4Fy5cPCiq1"
      },
      "execution_count": 7,
      "outputs": []
    },
    {
      "cell_type": "code",
      "source": [
        "import numpy as np\n",
        "x_traincnn = np.expand_dims(X_train, axis=2)\n",
        "x_testcnn = np.expand_dims(X_test, axis=2)\n",
        "X_valid= np.expand_dims(X_valid, axis=2)"
      ],
      "metadata": {
        "id": "tp1Fm5K3CEXu"
      },
      "execution_count": 8,
      "outputs": []
    },
    {
      "cell_type": "code",
      "source": [
        "x_traincnn.shape, x_testcnn.shape , X_valid.shape\n",
        "#1861"
      ],
      "metadata": {
        "id": "RI0MxoIPBws5",
        "colab": {
          "base_uri": "https://localhost:8080/"
        },
        "outputId": "cb8cedfb-8317-4e41-e9a9-85c8cb146165"
      },
      "execution_count": 9,
      "outputs": [
        {
          "output_type": "execute_result",
          "data": {
            "text/plain": [
              "((1654, 40, 1), (207, 40, 1), (207, 40, 1))"
            ]
          },
          "metadata": {},
          "execution_count": 9
        }
      ]
    },
    {
      "cell_type": "code",
      "source": [
        "!pip install tensorflow"
      ],
      "metadata": {
        "id": "oALhiMUd9G2Y",
        "colab": {
          "base_uri": "https://localhost:8080/"
        },
        "outputId": "5c542243-bcf4-4c10-d6d6-390ff4b48d66"
      },
      "execution_count": 10,
      "outputs": [
        {
          "output_type": "stream",
          "name": "stdout",
          "text": [
            "Looking in indexes: https://pypi.org/simple, https://us-python.pkg.dev/colab-wheels/public/simple/\n",
            "Requirement already satisfied: tensorflow in /usr/local/lib/python3.7/dist-packages (2.8.2+zzzcolab20220527125636)\n",
            "Requirement already satisfied: grpcio<2.0,>=1.24.3 in /usr/local/lib/python3.7/dist-packages (from tensorflow) (1.46.3)\n",
            "Requirement already satisfied: astunparse>=1.6.0 in /usr/local/lib/python3.7/dist-packages (from tensorflow) (1.6.3)\n",
            "Requirement already satisfied: tensorflow-io-gcs-filesystem>=0.23.1 in /usr/local/lib/python3.7/dist-packages (from tensorflow) (0.26.0)\n",
            "Requirement already satisfied: tensorflow-estimator<2.9,>=2.8 in /usr/local/lib/python3.7/dist-packages (from tensorflow) (2.8.0)\n",
            "Requirement already satisfied: h5py>=2.9.0 in /usr/local/lib/python3.7/dist-packages (from tensorflow) (3.1.0)\n",
            "Requirement already satisfied: gast>=0.2.1 in /usr/local/lib/python3.7/dist-packages (from tensorflow) (0.5.3)\n",
            "Requirement already satisfied: keras-preprocessing>=1.1.1 in /usr/local/lib/python3.7/dist-packages (from tensorflow) (1.1.2)\n",
            "Requirement already satisfied: libclang>=9.0.1 in /usr/local/lib/python3.7/dist-packages (from tensorflow) (14.0.1)\n",
            "Requirement already satisfied: wrapt>=1.11.0 in /usr/local/lib/python3.7/dist-packages (from tensorflow) (1.14.1)\n",
            "Requirement already satisfied: typing-extensions>=3.6.6 in /usr/local/lib/python3.7/dist-packages (from tensorflow) (4.2.0)\n",
            "Requirement already satisfied: numpy>=1.20 in /usr/local/lib/python3.7/dist-packages (from tensorflow) (1.21.6)\n",
            "Requirement already satisfied: six>=1.12.0 in /usr/local/lib/python3.7/dist-packages (from tensorflow) (1.15.0)\n",
            "Requirement already satisfied: flatbuffers>=1.12 in /usr/local/lib/python3.7/dist-packages (from tensorflow) (2.0)\n",
            "Requirement already satisfied: keras<2.9,>=2.8.0rc0 in /usr/local/lib/python3.7/dist-packages (from tensorflow) (2.8.0)\n",
            "Requirement already satisfied: protobuf<3.20,>=3.9.2 in /usr/local/lib/python3.7/dist-packages (from tensorflow) (3.17.3)\n",
            "Requirement already satisfied: setuptools in /usr/local/lib/python3.7/dist-packages (from tensorflow) (57.4.0)\n",
            "Requirement already satisfied: google-pasta>=0.1.1 in /usr/local/lib/python3.7/dist-packages (from tensorflow) (0.2.0)\n",
            "Requirement already satisfied: opt-einsum>=2.3.2 in /usr/local/lib/python3.7/dist-packages (from tensorflow) (3.3.0)\n",
            "Requirement already satisfied: tensorboard<2.9,>=2.8 in /usr/local/lib/python3.7/dist-packages (from tensorflow) (2.8.0)\n",
            "Requirement already satisfied: termcolor>=1.1.0 in /usr/local/lib/python3.7/dist-packages (from tensorflow) (1.1.0)\n",
            "Requirement already satisfied: absl-py>=0.4.0 in /usr/local/lib/python3.7/dist-packages (from tensorflow) (1.0.0)\n",
            "Requirement already satisfied: wheel<1.0,>=0.23.0 in /usr/local/lib/python3.7/dist-packages (from astunparse>=1.6.0->tensorflow) (0.37.1)\n",
            "Requirement already satisfied: cached-property in /usr/local/lib/python3.7/dist-packages (from h5py>=2.9.0->tensorflow) (1.5.2)\n",
            "Requirement already satisfied: werkzeug>=0.11.15 in /usr/local/lib/python3.7/dist-packages (from tensorboard<2.9,>=2.8->tensorflow) (1.0.1)\n",
            "Requirement already satisfied: markdown>=2.6.8 in /usr/local/lib/python3.7/dist-packages (from tensorboard<2.9,>=2.8->tensorflow) (3.3.7)\n",
            "Requirement already satisfied: google-auth<3,>=1.6.3 in /usr/local/lib/python3.7/dist-packages (from tensorboard<2.9,>=2.8->tensorflow) (1.35.0)\n",
            "Requirement already satisfied: tensorboard-data-server<0.7.0,>=0.6.0 in /usr/local/lib/python3.7/dist-packages (from tensorboard<2.9,>=2.8->tensorflow) (0.6.1)\n",
            "Requirement already satisfied: requests<3,>=2.21.0 in /usr/local/lib/python3.7/dist-packages (from tensorboard<2.9,>=2.8->tensorflow) (2.23.0)\n",
            "Requirement already satisfied: tensorboard-plugin-wit>=1.6.0 in /usr/local/lib/python3.7/dist-packages (from tensorboard<2.9,>=2.8->tensorflow) (1.8.1)\n",
            "Requirement already satisfied: google-auth-oauthlib<0.5,>=0.4.1 in /usr/local/lib/python3.7/dist-packages (from tensorboard<2.9,>=2.8->tensorflow) (0.4.6)\n",
            "Requirement already satisfied: pyasn1-modules>=0.2.1 in /usr/local/lib/python3.7/dist-packages (from google-auth<3,>=1.6.3->tensorboard<2.9,>=2.8->tensorflow) (0.2.8)\n",
            "Requirement already satisfied: rsa<5,>=3.1.4 in /usr/local/lib/python3.7/dist-packages (from google-auth<3,>=1.6.3->tensorboard<2.9,>=2.8->tensorflow) (4.8)\n",
            "Requirement already satisfied: cachetools<5.0,>=2.0.0 in /usr/local/lib/python3.7/dist-packages (from google-auth<3,>=1.6.3->tensorboard<2.9,>=2.8->tensorflow) (4.2.4)\n",
            "Requirement already satisfied: requests-oauthlib>=0.7.0 in /usr/local/lib/python3.7/dist-packages (from google-auth-oauthlib<0.5,>=0.4.1->tensorboard<2.9,>=2.8->tensorflow) (1.3.1)\n",
            "Requirement already satisfied: importlib-metadata>=4.4 in /usr/local/lib/python3.7/dist-packages (from markdown>=2.6.8->tensorboard<2.9,>=2.8->tensorflow) (4.11.4)\n",
            "Requirement already satisfied: zipp>=0.5 in /usr/local/lib/python3.7/dist-packages (from importlib-metadata>=4.4->markdown>=2.6.8->tensorboard<2.9,>=2.8->tensorflow) (3.8.0)\n",
            "Requirement already satisfied: pyasn1<0.5.0,>=0.4.6 in /usr/local/lib/python3.7/dist-packages (from pyasn1-modules>=0.2.1->google-auth<3,>=1.6.3->tensorboard<2.9,>=2.8->tensorflow) (0.4.8)\n",
            "Requirement already satisfied: chardet<4,>=3.0.2 in /usr/local/lib/python3.7/dist-packages (from requests<3,>=2.21.0->tensorboard<2.9,>=2.8->tensorflow) (3.0.4)\n",
            "Requirement already satisfied: urllib3!=1.25.0,!=1.25.1,<1.26,>=1.21.1 in /usr/local/lib/python3.7/dist-packages (from requests<3,>=2.21.0->tensorboard<2.9,>=2.8->tensorflow) (1.24.3)\n",
            "Requirement already satisfied: certifi>=2017.4.17 in /usr/local/lib/python3.7/dist-packages (from requests<3,>=2.21.0->tensorboard<2.9,>=2.8->tensorflow) (2022.5.18.1)\n",
            "Requirement already satisfied: idna<3,>=2.5 in /usr/local/lib/python3.7/dist-packages (from requests<3,>=2.21.0->tensorboard<2.9,>=2.8->tensorflow) (2.10)\n",
            "Requirement already satisfied: oauthlib>=3.0.0 in /usr/local/lib/python3.7/dist-packages (from requests-oauthlib>=0.7.0->google-auth-oauthlib<0.5,>=0.4.1->tensorboard<2.9,>=2.8->tensorflow) (3.2.0)\n"
          ]
        }
      ]
    },
    {
      "cell_type": "code",
      "source": [
        "import keras\n",
        "import numpy as np\n",
        "import matplotlib.pyplot as plt\n",
        "import tensorflow as tf\n",
        "from keras.preprocessing import sequence\n",
        "from keras.models import Sequential\n",
        "from keras.layers import Dense, Embedding\n",
        "from tensorflow.keras.utils import to_categorical\n",
        "from keras.layers import Input, Flatten, Dropout, Activation\n",
        "from keras.layers import Conv1D, MaxPooling1D\n",
        "from keras.models import Model\n",
        "from keras.callbacks import ModelCheckpoint\n",
        "from tensorflow.keras import optimizers\n",
        "\n",
        "model = Sequential()\n",
        "\n",
        "model.add(Conv1D(128, 12,padding='same', #classifier.add(Convolution2D(64, (3, 3), padding = 'same', input_shape = (128, 128, 3), activation = 'relu'))\n",
        "                 input_shape=(40,1)))\n",
        "model.add(BatchNormalization())\n",
        "model.add(Activation('relu'))\n",
        "model.add(Dropout(0.1))\n",
        "model.add(MaxPooling1D(pool_size=(5)))\n",
        "\n",
        "\n",
        "model.add(Conv1D(256,12,padding='same',))\n",
        "model.add(BatchNormalization())\n",
        "model.add(Activation('relu'))\n",
        "model.add(Dropout(0.3))\n",
        "model.add(MaxPooling1D(pool_size=(5)))\n",
        "\n",
        "#model.add(MaxPooling1D(pool_size=(5)))\n",
        "\n",
        "model.add(Flatten())\n",
        "\n",
        "\n",
        "\n",
        "model.add(Dense(6))\n",
        "model.add(Activation('softmax'))\n",
        "\n",
        "\n",
        "opt = tf.keras.optimizers.RMSprop(lr=0.0002 , decay=0.0)\n",
        "#opt = tf.keras.optimizers.Adam(lr=0.0002 , decay=0.0)\n",
        "#opt = tf.keras.optimizers.RMSprop(lr=0.0001, rho=0.9, epsilon=1e-07, decay=0.0)\n",
        "#opt = tf.keras.optimizers.SGD(lr=0.001, momentum=0.0, decay=0.0, nesterov=False)"
      ],
      "metadata": {
        "id": "g74fXWVAC4Cr",
        "colab": {
          "base_uri": "https://localhost:8080/"
        },
        "outputId": "ec6df65f-fe12-403b-edef-4c3eb5392157"
      },
      "execution_count": 11,
      "outputs": [
        {
          "output_type": "stream",
          "name": "stderr",
          "text": [
            "/usr/local/lib/python3.7/dist-packages/keras/optimizer_v2/rmsprop.py:130: UserWarning:\n",
            "\n",
            "The `lr` argument is deprecated, use `learning_rate` instead.\n",
            "\n"
          ]
        }
      ]
    },
    {
      "cell_type": "code",
      "source": [
        "model.summary()"
      ],
      "metadata": {
        "id": "H6ukOxAGC_I4",
        "colab": {
          "base_uri": "https://localhost:8080/"
        },
        "outputId": "8b2c3056-ebcd-48ed-971a-cba51027e8f9"
      },
      "execution_count": 12,
      "outputs": [
        {
          "output_type": "stream",
          "name": "stdout",
          "text": [
            "Model: \"sequential\"\n",
            "_________________________________________________________________\n",
            " Layer (type)                Output Shape              Param #   \n",
            "=================================================================\n",
            " conv1d (Conv1D)             (None, 40, 128)           1664      \n",
            "                                                                 \n",
            " batch_normalization (BatchN  (None, 40, 128)          512       \n",
            " ormalization)                                                   \n",
            "                                                                 \n",
            " activation (Activation)     (None, 40, 128)           0         \n",
            "                                                                 \n",
            " dropout (Dropout)           (None, 40, 128)           0         \n",
            "                                                                 \n",
            " max_pooling1d (MaxPooling1D  (None, 8, 128)           0         \n",
            " )                                                               \n",
            "                                                                 \n",
            " conv1d_1 (Conv1D)           (None, 8, 256)            393472    \n",
            "                                                                 \n",
            " batch_normalization_1 (Batc  (None, 8, 256)           1024      \n",
            " hNormalization)                                                 \n",
            "                                                                 \n",
            " activation_1 (Activation)   (None, 8, 256)            0         \n",
            "                                                                 \n",
            " dropout_1 (Dropout)         (None, 8, 256)            0         \n",
            "                                                                 \n",
            " max_pooling1d_1 (MaxPooling  (None, 1, 256)           0         \n",
            " 1D)                                                             \n",
            "                                                                 \n",
            " flatten (Flatten)           (None, 256)               0         \n",
            "                                                                 \n",
            " dense (Dense)               (None, 6)                 1542      \n",
            "                                                                 \n",
            " activation_2 (Activation)   (None, 6)                 0         \n",
            "                                                                 \n",
            "=================================================================\n",
            "Total params: 398,214\n",
            "Trainable params: 397,446\n",
            "Non-trainable params: 768\n",
            "_________________________________________________________________\n"
          ]
        }
      ]
    },
    {
      "cell_type": "code",
      "source": [
        "model.compile(loss='sparse_categorical_crossentropy',\n",
        "              optimizer=opt,\n",
        "              metrics=['accuracy'])"
      ],
      "metadata": {
        "id": "AbMlLNk4DCBM"
      },
      "execution_count": 13,
      "outputs": []
    },
    {
      "cell_type": "code",
      "source": [
        "# Create an Instance of Early Stopping Callback.\n",
        "early_stopping_callback = EarlyStopping(monitor = 'val_loss', patience = 25, mode = 'min', restore_best_weights = True)\n",
        "\n",
        "cnnhistory=model.fit(x_traincnn, y_train, batch_size=16, epochs=500 , shuffle = True, \n",
        "                     validation_data=(X_valid, y_valid) , callbacks = [early_stopping_callback])"
      ],
      "metadata": {
        "id": "RI1v2AuADFhy",
        "colab": {
          "base_uri": "https://localhost:8080/"
        },
        "outputId": "df41fcaf-4eb3-4ae1-d7eb-89ab525693a7"
      },
      "execution_count": 14,
      "outputs": [
        {
          "output_type": "stream",
          "name": "stdout",
          "text": [
            "Epoch 1/500\n",
            "104/104 [==============================] - 3s 7ms/step - loss: 2.0538 - accuracy: 0.2551 - val_loss: 3.7135 - val_accuracy: 0.1594\n",
            "Epoch 2/500\n",
            "104/104 [==============================] - 1s 5ms/step - loss: 1.7787 - accuracy: 0.3083 - val_loss: 2.5829 - val_accuracy: 0.1884\n",
            "Epoch 3/500\n",
            "104/104 [==============================] - 0s 5ms/step - loss: 1.6531 - accuracy: 0.3337 - val_loss: 2.1381 - val_accuracy: 0.2657\n",
            "Epoch 4/500\n",
            "104/104 [==============================] - 0s 5ms/step - loss: 1.5808 - accuracy: 0.3519 - val_loss: 1.4131 - val_accuracy: 0.4203\n",
            "Epoch 5/500\n",
            "104/104 [==============================] - 0s 5ms/step - loss: 1.5325 - accuracy: 0.3718 - val_loss: 1.5129 - val_accuracy: 0.3382\n",
            "Epoch 6/500\n",
            "104/104 [==============================] - 0s 5ms/step - loss: 1.5011 - accuracy: 0.3918 - val_loss: 1.3819 - val_accuracy: 0.4348\n",
            "Epoch 7/500\n",
            "104/104 [==============================] - 1s 6ms/step - loss: 1.4123 - accuracy: 0.4226 - val_loss: 1.3156 - val_accuracy: 0.4686\n",
            "Epoch 8/500\n",
            "104/104 [==============================] - 1s 6ms/step - loss: 1.3786 - accuracy: 0.4414 - val_loss: 1.2932 - val_accuracy: 0.5169\n",
            "Epoch 9/500\n",
            "104/104 [==============================] - 1s 7ms/step - loss: 1.3417 - accuracy: 0.4516 - val_loss: 1.4254 - val_accuracy: 0.3865\n",
            "Epoch 10/500\n",
            "104/104 [==============================] - 1s 6ms/step - loss: 1.3115 - accuracy: 0.4667 - val_loss: 1.2859 - val_accuracy: 0.5072\n",
            "Epoch 11/500\n",
            "104/104 [==============================] - 1s 6ms/step - loss: 1.2731 - accuracy: 0.4873 - val_loss: 1.1873 - val_accuracy: 0.5749\n",
            "Epoch 12/500\n",
            "104/104 [==============================] - 1s 7ms/step - loss: 1.2774 - accuracy: 0.4976 - val_loss: 1.2091 - val_accuracy: 0.4831\n",
            "Epoch 13/500\n",
            "104/104 [==============================] - 1s 6ms/step - loss: 1.2412 - accuracy: 0.4994 - val_loss: 1.2625 - val_accuracy: 0.4976\n",
            "Epoch 14/500\n",
            "104/104 [==============================] - 1s 7ms/step - loss: 1.1972 - accuracy: 0.5242 - val_loss: 1.2183 - val_accuracy: 0.5169\n",
            "Epoch 15/500\n",
            "104/104 [==============================] - 1s 7ms/step - loss: 1.1848 - accuracy: 0.5326 - val_loss: 1.2710 - val_accuracy: 0.4783\n",
            "Epoch 16/500\n",
            "104/104 [==============================] - 1s 6ms/step - loss: 1.1773 - accuracy: 0.5508 - val_loss: 1.3182 - val_accuracy: 0.4010\n",
            "Epoch 17/500\n",
            "104/104 [==============================] - 1s 7ms/step - loss: 1.1359 - accuracy: 0.5478 - val_loss: 1.2607 - val_accuracy: 0.5072\n",
            "Epoch 18/500\n",
            "104/104 [==============================] - 1s 7ms/step - loss: 1.1416 - accuracy: 0.5411 - val_loss: 1.3088 - val_accuracy: 0.4396\n",
            "Epoch 19/500\n",
            "104/104 [==============================] - 1s 7ms/step - loss: 1.1122 - accuracy: 0.5562 - val_loss: 1.1605 - val_accuracy: 0.5266\n",
            "Epoch 20/500\n",
            "104/104 [==============================] - 1s 7ms/step - loss: 1.1027 - accuracy: 0.5762 - val_loss: 1.4166 - val_accuracy: 0.4155\n",
            "Epoch 21/500\n",
            "104/104 [==============================] - 1s 7ms/step - loss: 1.0736 - accuracy: 0.5919 - val_loss: 1.2489 - val_accuracy: 0.4928\n",
            "Epoch 22/500\n",
            "104/104 [==============================] - 1s 6ms/step - loss: 1.0623 - accuracy: 0.5846 - val_loss: 1.1409 - val_accuracy: 0.4831\n",
            "Epoch 23/500\n",
            "104/104 [==============================] - 1s 6ms/step - loss: 1.0369 - accuracy: 0.5913 - val_loss: 1.2609 - val_accuracy: 0.4444\n",
            "Epoch 24/500\n",
            "104/104 [==============================] - 1s 5ms/step - loss: 1.0331 - accuracy: 0.6131 - val_loss: 1.1421 - val_accuracy: 0.4976\n",
            "Epoch 25/500\n",
            "104/104 [==============================] - 0s 5ms/step - loss: 1.0214 - accuracy: 0.6004 - val_loss: 1.0655 - val_accuracy: 0.5942\n",
            "Epoch 26/500\n",
            "104/104 [==============================] - 0s 5ms/step - loss: 1.0290 - accuracy: 0.5985 - val_loss: 1.0598 - val_accuracy: 0.5556\n",
            "Epoch 27/500\n",
            "104/104 [==============================] - 0s 5ms/step - loss: 0.9714 - accuracy: 0.6155 - val_loss: 1.0588 - val_accuracy: 0.5459\n",
            "Epoch 28/500\n",
            "104/104 [==============================] - 0s 5ms/step - loss: 0.9658 - accuracy: 0.6245 - val_loss: 1.0921 - val_accuracy: 0.5169\n",
            "Epoch 29/500\n",
            "104/104 [==============================] - 0s 5ms/step - loss: 0.9558 - accuracy: 0.6258 - val_loss: 0.9931 - val_accuracy: 0.5700\n",
            "Epoch 30/500\n",
            "104/104 [==============================] - 0s 5ms/step - loss: 0.9363 - accuracy: 0.6294 - val_loss: 0.9582 - val_accuracy: 0.6087\n",
            "Epoch 31/500\n",
            "104/104 [==============================] - 0s 5ms/step - loss: 0.9444 - accuracy: 0.6245 - val_loss: 1.1575 - val_accuracy: 0.5266\n",
            "Epoch 32/500\n",
            "104/104 [==============================] - 0s 5ms/step - loss: 0.9164 - accuracy: 0.6499 - val_loss: 1.0741 - val_accuracy: 0.5652\n",
            "Epoch 33/500\n",
            "104/104 [==============================] - 0s 5ms/step - loss: 0.9143 - accuracy: 0.6518 - val_loss: 1.0412 - val_accuracy: 0.5652\n",
            "Epoch 34/500\n",
            "104/104 [==============================] - 0s 5ms/step - loss: 0.9121 - accuracy: 0.6524 - val_loss: 0.9979 - val_accuracy: 0.5700\n",
            "Epoch 35/500\n",
            "104/104 [==============================] - 0s 5ms/step - loss: 0.9019 - accuracy: 0.6548 - val_loss: 0.9960 - val_accuracy: 0.6184\n",
            "Epoch 36/500\n",
            "104/104 [==============================] - 0s 5ms/step - loss: 0.8652 - accuracy: 0.6626 - val_loss: 0.9115 - val_accuracy: 0.6184\n",
            "Epoch 37/500\n",
            "104/104 [==============================] - 0s 5ms/step - loss: 0.8567 - accuracy: 0.6741 - val_loss: 0.9191 - val_accuracy: 0.5942\n",
            "Epoch 38/500\n",
            "104/104 [==============================] - 0s 5ms/step - loss: 0.8769 - accuracy: 0.6469 - val_loss: 0.9344 - val_accuracy: 0.6280\n",
            "Epoch 39/500\n",
            "104/104 [==============================] - 0s 5ms/step - loss: 0.8494 - accuracy: 0.6784 - val_loss: 0.9448 - val_accuracy: 0.6184\n",
            "Epoch 40/500\n",
            "104/104 [==============================] - 0s 5ms/step - loss: 0.8491 - accuracy: 0.6802 - val_loss: 0.8955 - val_accuracy: 0.6329\n",
            "Epoch 41/500\n",
            "104/104 [==============================] - 0s 5ms/step - loss: 0.8385 - accuracy: 0.6790 - val_loss: 0.9550 - val_accuracy: 0.6280\n",
            "Epoch 42/500\n",
            "104/104 [==============================] - 0s 5ms/step - loss: 0.8202 - accuracy: 0.6717 - val_loss: 0.9146 - val_accuracy: 0.6087\n",
            "Epoch 43/500\n",
            "104/104 [==============================] - 0s 5ms/step - loss: 0.8179 - accuracy: 0.6898 - val_loss: 0.9831 - val_accuracy: 0.5990\n",
            "Epoch 44/500\n",
            "104/104 [==============================] - 0s 5ms/step - loss: 0.8137 - accuracy: 0.6790 - val_loss: 0.9004 - val_accuracy: 0.6377\n",
            "Epoch 45/500\n",
            "104/104 [==============================] - 0s 5ms/step - loss: 0.7935 - accuracy: 0.6917 - val_loss: 0.9267 - val_accuracy: 0.6377\n",
            "Epoch 46/500\n",
            "104/104 [==============================] - 0s 5ms/step - loss: 0.7769 - accuracy: 0.7013 - val_loss: 0.9285 - val_accuracy: 0.6377\n",
            "Epoch 47/500\n",
            "104/104 [==============================] - 0s 5ms/step - loss: 0.7797 - accuracy: 0.6904 - val_loss: 0.9254 - val_accuracy: 0.6087\n",
            "Epoch 48/500\n",
            "104/104 [==============================] - 0s 5ms/step - loss: 0.7852 - accuracy: 0.6983 - val_loss: 0.9208 - val_accuracy: 0.5990\n",
            "Epoch 49/500\n",
            "104/104 [==============================] - 0s 5ms/step - loss: 0.7677 - accuracy: 0.7019 - val_loss: 0.8580 - val_accuracy: 0.6425\n",
            "Epoch 50/500\n",
            "104/104 [==============================] - 0s 5ms/step - loss: 0.7459 - accuracy: 0.7104 - val_loss: 1.2528 - val_accuracy: 0.4879\n",
            "Epoch 51/500\n",
            "104/104 [==============================] - 0s 5ms/step - loss: 0.7358 - accuracy: 0.7225 - val_loss: 0.8637 - val_accuracy: 0.6184\n",
            "Epoch 52/500\n",
            "104/104 [==============================] - 0s 5ms/step - loss: 0.7325 - accuracy: 0.7170 - val_loss: 0.8382 - val_accuracy: 0.7150\n",
            "Epoch 53/500\n",
            "104/104 [==============================] - 1s 5ms/step - loss: 0.7256 - accuracy: 0.7195 - val_loss: 0.8696 - val_accuracy: 0.6522\n",
            "Epoch 54/500\n",
            "104/104 [==============================] - 0s 5ms/step - loss: 0.7532 - accuracy: 0.7074 - val_loss: 0.9000 - val_accuracy: 0.6184\n",
            "Epoch 55/500\n",
            "104/104 [==============================] - 0s 5ms/step - loss: 0.7187 - accuracy: 0.7291 - val_loss: 0.8231 - val_accuracy: 0.6715\n",
            "Epoch 56/500\n",
            "104/104 [==============================] - 0s 5ms/step - loss: 0.7154 - accuracy: 0.7261 - val_loss: 0.7737 - val_accuracy: 0.6908\n",
            "Epoch 57/500\n",
            "104/104 [==============================] - 0s 5ms/step - loss: 0.7007 - accuracy: 0.7189 - val_loss: 0.7755 - val_accuracy: 0.7005\n",
            "Epoch 58/500\n",
            "104/104 [==============================] - 0s 5ms/step - loss: 0.7020 - accuracy: 0.7195 - val_loss: 0.8732 - val_accuracy: 0.6618\n",
            "Epoch 59/500\n",
            "104/104 [==============================] - 0s 5ms/step - loss: 0.7000 - accuracy: 0.7291 - val_loss: 0.8019 - val_accuracy: 0.6618\n",
            "Epoch 60/500\n",
            "104/104 [==============================] - 0s 5ms/step - loss: 0.6591 - accuracy: 0.7449 - val_loss: 0.8890 - val_accuracy: 0.6377\n",
            "Epoch 61/500\n",
            "104/104 [==============================] - 0s 5ms/step - loss: 0.6709 - accuracy: 0.7473 - val_loss: 1.2930 - val_accuracy: 0.4928\n",
            "Epoch 62/500\n",
            "104/104 [==============================] - 0s 5ms/step - loss: 0.7113 - accuracy: 0.7231 - val_loss: 0.8806 - val_accuracy: 0.6522\n",
            "Epoch 63/500\n",
            "104/104 [==============================] - 0s 5ms/step - loss: 0.6663 - accuracy: 0.7449 - val_loss: 0.8023 - val_accuracy: 0.6715\n",
            "Epoch 64/500\n",
            "104/104 [==============================] - 0s 5ms/step - loss: 0.6704 - accuracy: 0.7533 - val_loss: 1.1694 - val_accuracy: 0.5169\n",
            "Epoch 65/500\n",
            "104/104 [==============================] - 1s 5ms/step - loss: 0.6660 - accuracy: 0.7461 - val_loss: 0.7692 - val_accuracy: 0.6763\n",
            "Epoch 66/500\n",
            "104/104 [==============================] - 1s 5ms/step - loss: 0.6570 - accuracy: 0.7400 - val_loss: 0.8479 - val_accuracy: 0.6377\n",
            "Epoch 67/500\n",
            "104/104 [==============================] - 1s 5ms/step - loss: 0.6415 - accuracy: 0.7473 - val_loss: 0.8396 - val_accuracy: 0.6570\n",
            "Epoch 68/500\n",
            "104/104 [==============================] - 1s 5ms/step - loss: 0.6400 - accuracy: 0.7491 - val_loss: 0.8719 - val_accuracy: 0.6425\n",
            "Epoch 69/500\n",
            "104/104 [==============================] - 1s 5ms/step - loss: 0.6105 - accuracy: 0.7690 - val_loss: 0.7945 - val_accuracy: 0.6908\n",
            "Epoch 70/500\n",
            "104/104 [==============================] - 0s 5ms/step - loss: 0.6453 - accuracy: 0.7521 - val_loss: 0.8897 - val_accuracy: 0.6184\n",
            "Epoch 71/500\n",
            "104/104 [==============================] - 0s 5ms/step - loss: 0.6247 - accuracy: 0.7636 - val_loss: 0.7208 - val_accuracy: 0.6908\n",
            "Epoch 72/500\n",
            "104/104 [==============================] - 0s 5ms/step - loss: 0.6273 - accuracy: 0.7690 - val_loss: 0.8685 - val_accuracy: 0.6329\n",
            "Epoch 73/500\n",
            "104/104 [==============================] - 1s 6ms/step - loss: 0.6038 - accuracy: 0.7696 - val_loss: 0.8305 - val_accuracy: 0.6715\n",
            "Epoch 74/500\n",
            "104/104 [==============================] - 1s 5ms/step - loss: 0.6124 - accuracy: 0.7709 - val_loss: 0.7448 - val_accuracy: 0.6957\n",
            "Epoch 75/500\n",
            "104/104 [==============================] - 1s 6ms/step - loss: 0.5953 - accuracy: 0.7709 - val_loss: 0.7959 - val_accuracy: 0.6522\n",
            "Epoch 76/500\n",
            "104/104 [==============================] - 1s 6ms/step - loss: 0.6199 - accuracy: 0.7606 - val_loss: 0.7004 - val_accuracy: 0.7246\n",
            "Epoch 77/500\n",
            "104/104 [==============================] - 1s 5ms/step - loss: 0.5884 - accuracy: 0.7739 - val_loss: 0.8089 - val_accuracy: 0.6908\n",
            "Epoch 78/500\n",
            "104/104 [==============================] - 0s 5ms/step - loss: 0.5840 - accuracy: 0.7793 - val_loss: 0.7393 - val_accuracy: 0.6860\n",
            "Epoch 79/500\n",
            "104/104 [==============================] - 0s 5ms/step - loss: 0.5685 - accuracy: 0.7811 - val_loss: 0.8231 - val_accuracy: 0.6425\n",
            "Epoch 80/500\n",
            "104/104 [==============================] - 0s 5ms/step - loss: 0.5769 - accuracy: 0.7781 - val_loss: 0.9072 - val_accuracy: 0.6377\n",
            "Epoch 81/500\n",
            "104/104 [==============================] - 0s 5ms/step - loss: 0.5643 - accuracy: 0.7902 - val_loss: 0.7925 - val_accuracy: 0.6763\n",
            "Epoch 82/500\n",
            "104/104 [==============================] - 0s 5ms/step - loss: 0.5623 - accuracy: 0.7799 - val_loss: 0.7442 - val_accuracy: 0.6908\n",
            "Epoch 83/500\n",
            "104/104 [==============================] - 0s 5ms/step - loss: 0.5464 - accuracy: 0.7956 - val_loss: 0.7874 - val_accuracy: 0.6763\n",
            "Epoch 84/500\n",
            "104/104 [==============================] - 0s 5ms/step - loss: 0.5495 - accuracy: 0.7950 - val_loss: 0.8222 - val_accuracy: 0.6618\n",
            "Epoch 85/500\n",
            "104/104 [==============================] - 0s 5ms/step - loss: 0.5353 - accuracy: 0.7854 - val_loss: 0.7843 - val_accuracy: 0.6860\n",
            "Epoch 86/500\n",
            "104/104 [==============================] - 0s 5ms/step - loss: 0.5312 - accuracy: 0.7938 - val_loss: 0.7393 - val_accuracy: 0.7053\n",
            "Epoch 87/500\n",
            "104/104 [==============================] - 0s 5ms/step - loss: 0.5363 - accuracy: 0.7969 - val_loss: 0.8229 - val_accuracy: 0.6667\n",
            "Epoch 88/500\n",
            "104/104 [==============================] - 0s 5ms/step - loss: 0.5155 - accuracy: 0.8041 - val_loss: 0.6867 - val_accuracy: 0.7295\n",
            "Epoch 89/500\n",
            "104/104 [==============================] - 0s 5ms/step - loss: 0.5026 - accuracy: 0.8083 - val_loss: 0.7250 - val_accuracy: 0.7053\n",
            "Epoch 90/500\n",
            "104/104 [==============================] - 0s 5ms/step - loss: 0.5224 - accuracy: 0.7932 - val_loss: 0.7732 - val_accuracy: 0.6957\n",
            "Epoch 91/500\n",
            "104/104 [==============================] - 0s 5ms/step - loss: 0.5176 - accuracy: 0.8071 - val_loss: 0.6755 - val_accuracy: 0.7295\n",
            "Epoch 92/500\n",
            "104/104 [==============================] - 0s 5ms/step - loss: 0.5004 - accuracy: 0.8132 - val_loss: 0.8157 - val_accuracy: 0.6957\n",
            "Epoch 93/500\n",
            "104/104 [==============================] - 0s 5ms/step - loss: 0.4956 - accuracy: 0.8065 - val_loss: 0.7382 - val_accuracy: 0.6860\n",
            "Epoch 94/500\n",
            "104/104 [==============================] - 0s 5ms/step - loss: 0.4885 - accuracy: 0.8174 - val_loss: 0.7140 - val_accuracy: 0.7150\n",
            "Epoch 95/500\n",
            "104/104 [==============================] - 0s 5ms/step - loss: 0.5071 - accuracy: 0.8023 - val_loss: 0.8629 - val_accuracy: 0.6763\n",
            "Epoch 96/500\n",
            "104/104 [==============================] - 0s 5ms/step - loss: 0.4722 - accuracy: 0.8210 - val_loss: 0.6401 - val_accuracy: 0.7729\n",
            "Epoch 97/500\n",
            "104/104 [==============================] - 0s 5ms/step - loss: 0.4969 - accuracy: 0.8047 - val_loss: 0.6493 - val_accuracy: 0.7391\n",
            "Epoch 98/500\n",
            "104/104 [==============================] - 0s 5ms/step - loss: 0.4955 - accuracy: 0.8120 - val_loss: 0.6766 - val_accuracy: 0.7391\n",
            "Epoch 99/500\n",
            "104/104 [==============================] - 0s 5ms/step - loss: 0.4580 - accuracy: 0.8247 - val_loss: 0.6439 - val_accuracy: 0.7585\n",
            "Epoch 100/500\n",
            "104/104 [==============================] - 0s 5ms/step - loss: 0.4825 - accuracy: 0.8192 - val_loss: 0.6539 - val_accuracy: 0.7488\n",
            "Epoch 101/500\n",
            "104/104 [==============================] - 0s 5ms/step - loss: 0.4809 - accuracy: 0.8204 - val_loss: 0.6769 - val_accuracy: 0.7295\n",
            "Epoch 102/500\n",
            "104/104 [==============================] - 0s 5ms/step - loss: 0.4464 - accuracy: 0.8374 - val_loss: 0.7552 - val_accuracy: 0.6667\n",
            "Epoch 103/500\n",
            "104/104 [==============================] - 0s 5ms/step - loss: 0.4507 - accuracy: 0.8386 - val_loss: 0.6657 - val_accuracy: 0.7633\n",
            "Epoch 104/500\n",
            "104/104 [==============================] - 0s 5ms/step - loss: 0.4724 - accuracy: 0.8144 - val_loss: 0.7170 - val_accuracy: 0.7150\n",
            "Epoch 105/500\n",
            "104/104 [==============================] - 0s 5ms/step - loss: 0.4170 - accuracy: 0.8452 - val_loss: 0.6880 - val_accuracy: 0.7150\n",
            "Epoch 106/500\n",
            "104/104 [==============================] - 0s 5ms/step - loss: 0.4585 - accuracy: 0.8283 - val_loss: 0.8712 - val_accuracy: 0.6570\n",
            "Epoch 107/500\n",
            "104/104 [==============================] - 0s 5ms/step - loss: 0.4461 - accuracy: 0.8319 - val_loss: 0.6894 - val_accuracy: 0.7343\n",
            "Epoch 108/500\n",
            "104/104 [==============================] - 0s 5ms/step - loss: 0.4429 - accuracy: 0.8356 - val_loss: 0.7460 - val_accuracy: 0.7246\n",
            "Epoch 109/500\n",
            "104/104 [==============================] - 0s 5ms/step - loss: 0.4272 - accuracy: 0.8380 - val_loss: 0.7412 - val_accuracy: 0.7101\n",
            "Epoch 110/500\n",
            "104/104 [==============================] - 0s 5ms/step - loss: 0.4483 - accuracy: 0.8301 - val_loss: 0.7690 - val_accuracy: 0.6957\n",
            "Epoch 111/500\n",
            "104/104 [==============================] - 0s 5ms/step - loss: 0.4114 - accuracy: 0.8482 - val_loss: 0.6146 - val_accuracy: 0.7488\n",
            "Epoch 112/500\n",
            "104/104 [==============================] - 0s 5ms/step - loss: 0.4335 - accuracy: 0.8422 - val_loss: 0.7561 - val_accuracy: 0.6908\n",
            "Epoch 113/500\n",
            "104/104 [==============================] - 0s 5ms/step - loss: 0.4103 - accuracy: 0.8410 - val_loss: 0.7452 - val_accuracy: 0.7101\n",
            "Epoch 114/500\n",
            "104/104 [==============================] - 1s 5ms/step - loss: 0.3794 - accuracy: 0.8628 - val_loss: 0.6353 - val_accuracy: 0.7440\n",
            "Epoch 115/500\n",
            "104/104 [==============================] - 0s 5ms/step - loss: 0.4139 - accuracy: 0.8434 - val_loss: 0.8744 - val_accuracy: 0.6667\n",
            "Epoch 116/500\n",
            "104/104 [==============================] - 0s 5ms/step - loss: 0.4175 - accuracy: 0.8519 - val_loss: 0.6854 - val_accuracy: 0.7246\n",
            "Epoch 117/500\n",
            "104/104 [==============================] - 0s 5ms/step - loss: 0.4170 - accuracy: 0.8501 - val_loss: 0.6371 - val_accuracy: 0.7440\n",
            "Epoch 118/500\n",
            "104/104 [==============================] - 0s 5ms/step - loss: 0.4079 - accuracy: 0.8410 - val_loss: 0.6765 - val_accuracy: 0.7536\n",
            "Epoch 119/500\n",
            "104/104 [==============================] - 0s 5ms/step - loss: 0.3947 - accuracy: 0.8507 - val_loss: 0.7250 - val_accuracy: 0.7198\n",
            "Epoch 120/500\n",
            "104/104 [==============================] - 0s 5ms/step - loss: 0.3753 - accuracy: 0.8652 - val_loss: 0.6880 - val_accuracy: 0.7440\n",
            "Epoch 121/500\n",
            "104/104 [==============================] - 0s 5ms/step - loss: 0.4031 - accuracy: 0.8464 - val_loss: 0.5793 - val_accuracy: 0.7826\n",
            "Epoch 122/500\n",
            "104/104 [==============================] - 0s 5ms/step - loss: 0.3850 - accuracy: 0.8640 - val_loss: 0.6357 - val_accuracy: 0.7585\n",
            "Epoch 123/500\n",
            "104/104 [==============================] - 0s 5ms/step - loss: 0.4111 - accuracy: 0.8476 - val_loss: 0.7141 - val_accuracy: 0.7246\n",
            "Epoch 124/500\n",
            "104/104 [==============================] - 0s 5ms/step - loss: 0.3846 - accuracy: 0.8519 - val_loss: 0.7033 - val_accuracy: 0.7246\n",
            "Epoch 125/500\n",
            "104/104 [==============================] - 0s 5ms/step - loss: 0.3627 - accuracy: 0.8597 - val_loss: 0.6806 - val_accuracy: 0.7488\n",
            "Epoch 126/500\n",
            "104/104 [==============================] - 0s 5ms/step - loss: 0.3854 - accuracy: 0.8628 - val_loss: 0.7075 - val_accuracy: 0.7681\n",
            "Epoch 127/500\n",
            "104/104 [==============================] - 0s 5ms/step - loss: 0.3767 - accuracy: 0.8579 - val_loss: 0.7559 - val_accuracy: 0.6715\n",
            "Epoch 128/500\n",
            "104/104 [==============================] - 0s 5ms/step - loss: 0.3899 - accuracy: 0.8628 - val_loss: 0.6142 - val_accuracy: 0.7681\n",
            "Epoch 129/500\n",
            "104/104 [==============================] - 0s 5ms/step - loss: 0.3535 - accuracy: 0.8724 - val_loss: 0.6601 - val_accuracy: 0.7536\n",
            "Epoch 130/500\n",
            "104/104 [==============================] - 0s 5ms/step - loss: 0.3366 - accuracy: 0.8857 - val_loss: 0.7384 - val_accuracy: 0.7440\n",
            "Epoch 131/500\n",
            "104/104 [==============================] - 0s 5ms/step - loss: 0.3587 - accuracy: 0.8736 - val_loss: 0.8130 - val_accuracy: 0.6715\n",
            "Epoch 132/500\n",
            "104/104 [==============================] - 0s 5ms/step - loss: 0.3335 - accuracy: 0.8779 - val_loss: 0.7946 - val_accuracy: 0.6812\n",
            "Epoch 133/500\n",
            "104/104 [==============================] - 0s 5ms/step - loss: 0.3448 - accuracy: 0.8682 - val_loss: 0.6699 - val_accuracy: 0.7391\n",
            "Epoch 134/500\n",
            "104/104 [==============================] - 0s 5ms/step - loss: 0.3679 - accuracy: 0.8646 - val_loss: 0.8853 - val_accuracy: 0.6667\n",
            "Epoch 135/500\n",
            "104/104 [==============================] - 0s 5ms/step - loss: 0.3267 - accuracy: 0.8827 - val_loss: 0.7496 - val_accuracy: 0.7150\n",
            "Epoch 136/500\n",
            "104/104 [==============================] - 0s 5ms/step - loss: 0.3406 - accuracy: 0.8779 - val_loss: 0.6212 - val_accuracy: 0.7585\n",
            "Epoch 137/500\n",
            "104/104 [==============================] - 0s 5ms/step - loss: 0.3314 - accuracy: 0.8748 - val_loss: 0.6907 - val_accuracy: 0.7343\n",
            "Epoch 138/500\n",
            "104/104 [==============================] - 0s 5ms/step - loss: 0.3388 - accuracy: 0.8779 - val_loss: 0.7323 - val_accuracy: 0.7198\n",
            "Epoch 139/500\n",
            "104/104 [==============================] - 0s 5ms/step - loss: 0.3375 - accuracy: 0.8755 - val_loss: 0.6102 - val_accuracy: 0.7923\n",
            "Epoch 140/500\n",
            "104/104 [==============================] - 0s 5ms/step - loss: 0.3353 - accuracy: 0.8761 - val_loss: 0.7825 - val_accuracy: 0.6908\n",
            "Epoch 141/500\n",
            "104/104 [==============================] - 0s 5ms/step - loss: 0.3039 - accuracy: 0.8924 - val_loss: 0.8075 - val_accuracy: 0.7198\n",
            "Epoch 142/500\n",
            "104/104 [==============================] - 0s 5ms/step - loss: 0.3378 - accuracy: 0.8700 - val_loss: 0.6332 - val_accuracy: 0.7633\n",
            "Epoch 143/500\n",
            "104/104 [==============================] - 0s 5ms/step - loss: 0.3237 - accuracy: 0.8863 - val_loss: 0.6096 - val_accuracy: 0.7874\n",
            "Epoch 144/500\n",
            "104/104 [==============================] - 0s 5ms/step - loss: 0.3236 - accuracy: 0.8839 - val_loss: 0.8147 - val_accuracy: 0.7101\n",
            "Epoch 145/500\n",
            "104/104 [==============================] - 0s 5ms/step - loss: 0.3143 - accuracy: 0.8821 - val_loss: 0.7147 - val_accuracy: 0.7150\n",
            "Epoch 146/500\n",
            "104/104 [==============================] - 0s 5ms/step - loss: 0.3077 - accuracy: 0.8918 - val_loss: 0.5970 - val_accuracy: 0.7874\n"
          ]
        }
      ]
    },
    {
      "cell_type": "code",
      "source": [
        "plt.plot(cnnhistory.history['loss'])\n",
        "plt.plot(cnnhistory.history['val_loss'])\n",
        "plt.title('model loss')\n",
        "plt.ylabel('loss')\n",
        "plt.xlabel('epoch')\n",
        "plt.legend(['train','test'], loc='upper left')\n",
        "plt.show()"
      ],
      "metadata": {
        "id": "oQYnuaCrDH_A",
        "colab": {
          "base_uri": "https://localhost:8080/",
          "height": 295
        },
        "outputId": "68cc052d-4e02-4406-a198-bbe044b35f19"
      },
      "execution_count": 15,
      "outputs": [
        {
          "output_type": "display_data",
          "data": {
            "text/plain": [
              "<Figure size 432x288 with 1 Axes>"
            ],
            "image/png": "[encoded data removed]"
          },
          "metadata": {
            "needs_background": "light"
          }
        }
      ]
    },
    {
      "cell_type": "code",
      "source": [
        "plt.plot(cnnhistory.history['accuracy'])\n",
        "plt.plot(cnnhistory.history['val_accuracy'])\n",
        "plt.title('model accuracy')\n",
        "plt.ylabel('accuracy')\n",
        "plt.xlabel('epoch')\n",
        "plt.legend(['train','test'], loc='upper left')\n",
        "plt.show()"
      ],
      "metadata": {
        "id": "IFkTuO8nDNdq",
        "colab": {
          "base_uri": "https://localhost:8080/",
          "height": 295
        },
        "outputId": "22c825c6-7be0-4294-f497-110313c7bb3b"
      },
      "execution_count": 16,
      "outputs": [
        {
          "output_type": "display_data",
          "data": {
            "text/plain": [
              "<Figure size 432x288 with 1 Axes>"
            ],
            "image/png": "[encoded data removed]"
          },
          "metadata": {
            "needs_background": "light"
          }
        }
      ]
    },
    {
      "cell_type": "code",
      "source": [
        "predictions = model.predict(x_testcnn)"
      ],
      "metadata": {
        "id": "A2xtrN5wDQgY"
      },
      "execution_count": 17,
      "outputs": []
    },
    {
      "cell_type": "code",
      "source": [
        "predictions"
      ],
      "metadata": {
        "id": "_f_ohjXKDUpY",
        "colab": {
          "base_uri": "https://localhost:8080/"
        },
        "outputId": "6324a094-3b42-46f6-c0e2-69f7bc119adf"
      },
      "execution_count": 18,
      "outputs": [
        {
          "output_type": "execute_result",
          "data": {
            "text/plain": [
              "array([[1.79801047e-01, 2.04875208e-02, 1.13798670e-01, 1.42741874e-01,\n",
              "        4.51784790e-01, 9.13860276e-02],\n",
              "       [2.97842678e-02, 1.05251966e-03, 5.94197118e-05, 8.30214262e-01,\n",
              "        1.87378784e-04, 1.38702214e-01],\n",
              "       [2.84754932e-01, 1.79598257e-01, 9.15949792e-03, 3.13323677e-01,\n",
              "        6.79050572e-03, 2.06373170e-01],\n",
              "       ...,\n",
              "       [4.62522403e-05, 1.10834108e-07, 5.12250583e-04, 1.28889005e-05,\n",
              "        9.97592747e-01, 1.83574203e-03],\n",
              "       [8.87173694e-04, 7.65845120e-01, 8.91663060e-02, 4.52540291e-04,\n",
              "        1.39308289e-01, 4.34048800e-03],\n",
              "       [7.47886836e-04, 8.69391806e-05, 8.37397017e-03, 5.03140211e-04,\n",
              "        9.84522700e-01, 5.76536590e-03]], dtype=float32)"
            ]
          },
          "metadata": {},
          "execution_count": 18
        }
      ]
    },
    {
      "cell_type": "code",
      "source": [
        "y_test"
      ],
      "metadata": {
        "id": "cmA2bFgsDW3D",
        "colab": {
          "base_uri": "https://localhost:8080/"
        },
        "outputId": "6dc919e3-7a91-460b-d8d9-a68192cd638f"
      },
      "execution_count": 19,
      "outputs": [
        {
          "output_type": "execute_result",
          "data": {
            "text/plain": [
              "array([3, 3, 3, 0, 4, 4, 1, 2, 5, 0, 5, 3, 2, 2, 1, 4, 4, 5, 2, 4, 1, 2,\n",
              "       3, 5, 4, 2, 1, 2, 2, 2, 2, 5, 2, 5, 3, 1, 2, 0, 4, 5, 2, 3, 2, 2,\n",
              "       5, 2, 0, 1, 3, 4, 4, 5, 1, 1, 4, 4, 5, 1, 1, 1, 0, 1, 5, 0, 4, 1,\n",
              "       1, 0, 1, 4, 1, 0, 4, 1, 3, 1, 2, 2, 1, 2, 3, 0, 5, 3, 5, 5, 2, 4,\n",
              "       5, 1, 5, 1, 5, 3, 4, 1, 4, 1, 5, 4, 5, 1, 2, 1, 1, 5, 1, 3, 2, 5,\n",
              "       2, 1, 3, 5, 4, 4, 0, 0, 3, 1, 2, 2, 3, 5, 1, 5, 3, 4, 2, 2, 0, 2,\n",
              "       2, 5, 5, 0, 3, 3, 2, 2, 0, 3, 4, 0, 4, 2, 4, 5, 4, 1, 5, 3, 2, 2,\n",
              "       5, 4, 3, 3, 4, 3, 3, 4, 1, 5, 2, 3, 2, 2, 0, 2, 1, 3, 1, 2, 2, 5,\n",
              "       5, 1, 4, 2, 2, 1, 1, 3, 3, 5, 5, 2, 5, 1, 5, 0, 3, 3, 0, 5, 1, 4,\n",
              "       1, 4, 2, 5, 5, 1, 4, 2, 4])"
            ]
          },
          "metadata": {},
          "execution_count": 19
        }
      ]
    },
    {
      "cell_type": "code",
      "source": [
        "new_Ytest = y_test.astype(int)"
      ],
      "metadata": {
        "id": "0PHDKWJWDY3g"
      },
      "execution_count": 20,
      "outputs": []
    },
    {
      "cell_type": "code",
      "source": [
        "new_Ytest"
      ],
      "metadata": {
        "id": "k68v2i-pDbZE",
        "colab": {
          "base_uri": "https://localhost:8080/"
        },
        "outputId": "b66d6721-372e-4178-c25f-5f8c09afbe80"
      },
      "execution_count": 21,
      "outputs": [
        {
          "output_type": "execute_result",
          "data": {
            "text/plain": [
              "array([3, 3, 3, 0, 4, 4, 1, 2, 5, 0, 5, 3, 2, 2, 1, 4, 4, 5, 2, 4, 1, 2,\n",
              "       3, 5, 4, 2, 1, 2, 2, 2, 2, 5, 2, 5, 3, 1, 2, 0, 4, 5, 2, 3, 2, 2,\n",
              "       5, 2, 0, 1, 3, 4, 4, 5, 1, 1, 4, 4, 5, 1, 1, 1, 0, 1, 5, 0, 4, 1,\n",
              "       1, 0, 1, 4, 1, 0, 4, 1, 3, 1, 2, 2, 1, 2, 3, 0, 5, 3, 5, 5, 2, 4,\n",
              "       5, 1, 5, 1, 5, 3, 4, 1, 4, 1, 5, 4, 5, 1, 2, 1, 1, 5, 1, 3, 2, 5,\n",
              "       2, 1, 3, 5, 4, 4, 0, 0, 3, 1, 2, 2, 3, 5, 1, 5, 3, 4, 2, 2, 0, 2,\n",
              "       2, 5, 5, 0, 3, 3, 2, 2, 0, 3, 4, 0, 4, 2, 4, 5, 4, 1, 5, 3, 2, 2,\n",
              "       5, 4, 3, 3, 4, 3, 3, 4, 1, 5, 2, 3, 2, 2, 0, 2, 1, 3, 1, 2, 2, 5,\n",
              "       5, 1, 4, 2, 2, 1, 1, 3, 3, 5, 5, 2, 5, 1, 5, 0, 3, 3, 0, 5, 1, 4,\n",
              "       1, 4, 2, 5, 5, 1, 4, 2, 4])"
            ]
          },
          "metadata": {},
          "execution_count": 21
        }
      ]
    },
    {
      "cell_type": "code",
      "source": [
        "preds1=predictions.argmax(axis=1)\n",
        "preds1"
      ],
      "metadata": {
        "id": "4_cAI39VFhtp",
        "colab": {
          "base_uri": "https://localhost:8080/"
        },
        "outputId": "f7b17886-08f0-4e12-8bb8-45dc6daad3bd"
      },
      "execution_count": 22,
      "outputs": [
        {
          "output_type": "execute_result",
          "data": {
            "text/plain": [
              "array([4, 3, 3, 4, 4, 4, 1, 2, 5, 1, 4, 3, 2, 1, 0, 4, 4, 5, 4, 4, 1, 2,\n",
              "       0, 2, 4, 2, 1, 1, 4, 2, 2, 5, 2, 5, 3, 1, 2, 0, 4, 5, 2, 3, 2, 2,\n",
              "       5, 4, 1, 1, 0, 4, 4, 5, 1, 1, 4, 4, 5, 1, 1, 1, 0, 1, 2, 1, 4, 1,\n",
              "       1, 1, 1, 4, 1, 0, 4, 1, 5, 4, 2, 2, 1, 4, 1, 0, 5, 3, 5, 5, 2, 4,\n",
              "       5, 1, 4, 1, 5, 5, 4, 1, 4, 1, 5, 4, 5, 1, 2, 1, 1, 5, 1, 5, 2, 5,\n",
              "       5, 0, 3, 5, 4, 4, 0, 0, 3, 1, 1, 2, 1, 4, 0, 5, 3, 4, 2, 2, 0, 4,\n",
              "       2, 3, 3, 0, 5, 3, 2, 4, 0, 3, 4, 0, 4, 1, 4, 5, 4, 1, 5, 3, 2, 2,\n",
              "       5, 4, 4, 3, 4, 5, 3, 4, 1, 5, 2, 3, 2, 2, 0, 2, 1, 3, 1, 4, 4, 5,\n",
              "       5, 1, 4, 2, 4, 1, 1, 3, 3, 5, 5, 2, 5, 1, 4, 1, 3, 3, 5, 4, 1, 4,\n",
              "       1, 4, 3, 5, 4, 3, 4, 1, 4])"
            ]
          },
          "metadata": {},
          "execution_count": 22
        }
      ]
    },
    {
      "cell_type": "code",
      "source": [
        "abc = preds1.astype(int).flatten()"
      ],
      "metadata": {
        "id": "H4WEmM60NfQn"
      },
      "execution_count": 23,
      "outputs": []
    },
    {
      "cell_type": "code",
      "source": [
        "from sklearn.metrics import confusion_matrix\n",
        "c = confusion_matrix(new_Ytest, abc) \n",
        "c"
      ],
      "metadata": {
        "id": "bKEBeEBlFjB8",
        "colab": {
          "base_uri": "https://localhost:8080/"
        },
        "outputId": "9ae15fa4-a3fb-45df-d40a-d069501be975"
      },
      "execution_count": 24,
      "outputs": [
        {
          "output_type": "execute_result",
          "data": {
            "text/plain": [
              "array([[11,  5,  0,  0,  1,  1],\n",
              "       [ 3, 36,  0,  1,  1,  0],\n",
              "       [ 0,  5, 29,  1,  9,  1],\n",
              "       [ 2,  2,  0, 20,  2,  5],\n",
              "       [ 0,  0,  0,  0, 33,  0],\n",
              "       [ 0,  0,  2,  2,  6, 29]])"
            ]
          },
          "metadata": {},
          "execution_count": 24
        }
      ]
    },
    {
      "cell_type": "code",
      "source": [
        "y_test"
      ],
      "metadata": {
        "id": "m4RjG7LWLSQx",
        "colab": {
          "base_uri": "https://localhost:8080/"
        },
        "outputId": "21e97ba0-dc77-4374-b253-8781e7f5d8d2"
      },
      "execution_count": 25,
      "outputs": [
        {
          "output_type": "execute_result",
          "data": {
            "text/plain": [
              "array([3, 3, 3, 0, 4, 4, 1, 2, 5, 0, 5, 3, 2, 2, 1, 4, 4, 5, 2, 4, 1, 2,\n",
              "       3, 5, 4, 2, 1, 2, 2, 2, 2, 5, 2, 5, 3, 1, 2, 0, 4, 5, 2, 3, 2, 2,\n",
              "       5, 2, 0, 1, 3, 4, 4, 5, 1, 1, 4, 4, 5, 1, 1, 1, 0, 1, 5, 0, 4, 1,\n",
              "       1, 0, 1, 4, 1, 0, 4, 1, 3, 1, 2, 2, 1, 2, 3, 0, 5, 3, 5, 5, 2, 4,\n",
              "       5, 1, 5, 1, 5, 3, 4, 1, 4, 1, 5, 4, 5, 1, 2, 1, 1, 5, 1, 3, 2, 5,\n",
              "       2, 1, 3, 5, 4, 4, 0, 0, 3, 1, 2, 2, 3, 5, 1, 5, 3, 4, 2, 2, 0, 2,\n",
              "       2, 5, 5, 0, 3, 3, 2, 2, 0, 3, 4, 0, 4, 2, 4, 5, 4, 1, 5, 3, 2, 2,\n",
              "       5, 4, 3, 3, 4, 3, 3, 4, 1, 5, 2, 3, 2, 2, 0, 2, 1, 3, 1, 2, 2, 5,\n",
              "       5, 1, 4, 2, 2, 1, 1, 3, 3, 5, 5, 2, 5, 1, 5, 0, 3, 3, 0, 5, 1, 4,\n",
              "       1, 4, 2, 5, 5, 1, 4, 2, 4])"
            ]
          },
          "metadata": {},
          "execution_count": 25
        }
      ]
    },
    {
      "cell_type": "code",
      "source": [
        "loss, acc =model.evaluate(x_testcnn, y_test)\n",
        "print(\"Restored model, accuracy: {:5.2f}%\".format(100*acc))"
      ],
      "metadata": {
        "id": "n3kzoqPkDqqS",
        "colab": {
          "base_uri": "https://localhost:8080/"
        },
        "outputId": "7e4c98f3-e971-4296-b694-5535a829ad9a"
      },
      "execution_count": 26,
      "outputs": [
        {
          "output_type": "stream",
          "name": "stdout",
          "text": [
            "7/7 [==============================] - 0s 3ms/step - loss: 0.6120 - accuracy: 0.7633\n",
            "Restored model, accuracy: 76.33%\n"
          ]
        }
      ]
    },
    {
      "cell_type": "code",
      "source": [
        "loss, acc =model.evaluate(X_train, y_train)\n",
        "print(\"Restored model train, accuracy: {:5.2f}%\".format(100*acc))"
      ],
      "metadata": {
        "id": "fJDTGH_OUX0z",
        "colab": {
          "base_uri": "https://localhost:8080/"
        },
        "outputId": "29ad9141-0cc8-45b5-bd1a-655767be2e84"
      },
      "execution_count": 27,
      "outputs": [
        {
          "output_type": "stream",
          "name": "stdout",
          "text": [
            "52/52 [==============================] - 0s 3ms/step - loss: 0.3105 - accuracy: 0.9184\n",
            "Restored model train, accuracy: 91.84%\n"
          ]
        }
      ]
    },
    {
      "cell_type": "code",
      "source": [
        "from sklearn.metrics import classification_report, confusion_matrix,accuracy_score\n",
        "import seaborn as sn\n",
        "\n",
        "print(classification_report(new_Ytest,abc))\n",
        "\n",
        "acc = float(accuracy_score(new_Ytest,abc))*100\n",
        "print(\"----accuracy score %s ----\" % acc)\n",
        "\n",
        "cm = confusion_matrix(new_Ytest,abc)\n",
        "#df_cm = pd.DataFrame(cm)\n",
        "class_names = ['neutral','calm', 'happy','sad','angry', 'fearful' ]\n",
        "df_cm = pd.DataFrame(cm, index=class_names, columns=class_names,)\n",
        "sn.heatmap(df_cm, annot=True, fmt='')\n",
        "plt.show()"
      ],
      "metadata": {
        "id": "SfSC3El94LZg",
        "colab": {
          "base_uri": "https://localhost:8080/",
          "height": 521
        },
        "outputId": "b8651539-10fb-46c4-eb24-01ff4c54b18d"
      },
      "execution_count": 28,
      "outputs": [
        {
          "output_type": "stream",
          "name": "stdout",
          "text": [
            "              precision    recall  f1-score   support\n",
            "\n",
            "           0       0.69      0.61      0.65        18\n",
            "           1       0.75      0.88      0.81        41\n",
            "           2       0.94      0.64      0.76        45\n",
            "           3       0.83      0.65      0.73        31\n",
            "           4       0.63      1.00      0.78        33\n",
            "           5       0.81      0.74      0.77        39\n",
            "\n",
            "    accuracy                           0.76       207\n",
            "   macro avg       0.77      0.75      0.75       207\n",
            "weighted avg       0.79      0.76      0.76       207\n",
            "\n",
            "----accuracy score 76.32850241545893 ----\n"
          ]
        },
        {
          "output_type": "display_data",
          "data": {
            "text/plain": [
              "<Figure size 432x288 with 2 Axes>"
            ],
            "image/png": "[encoded data removed]"
          },
          "metadata": {
            "needs_background": "light"
          }
        }
      ]
    }
  ]
}