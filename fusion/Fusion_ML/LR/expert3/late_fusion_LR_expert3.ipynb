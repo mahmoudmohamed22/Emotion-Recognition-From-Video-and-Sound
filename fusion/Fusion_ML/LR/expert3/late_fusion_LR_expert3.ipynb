{
  "nbformat": 4,
  "nbformat_minor": 0,
  "metadata": {
    "colab": {
      "name": "late_fusion_LR_expert3.ipynb",
      "provenance": [],
      "collapsed_sections": []
    },
    "kernelspec": {
      "name": "python3",
      "display_name": "Python 3"
    },
    "language_info": {
      "name": "python"
    }
  },
  "cells": [
    {
      "cell_type": "code",
      "source": [
        "# stacked generalization with linear meta model on blobs dataset\n",
        "from sklearn.metrics import accuracy_score\n",
        "from sklearn.linear_model import LogisticRegression\n",
        "from matplotlib import pyplot\n"
      ],
      "metadata": {
        "id": "XQj4f23-Ix-w"
      },
      "execution_count": 1,
      "outputs": []
    },
    {
      "cell_type": "code",
      "source": [
        "from google.colab import drive\n",
        "drive.mount('/content/drive')"
      ],
      "metadata": {
        "colab": {
          "base_uri": "https://localhost:8080/"
        },
        "id": "qj9wMQtlI1os",
        "outputId": "736e1082-6aa7-49f0-b0c4-151c5038c2f3"
      },
      "execution_count": 2,
      "outputs": [
        {
          "output_type": "stream",
          "name": "stdout",
          "text": [
            "Drive already mounted at /content/drive; to attempt to forcibly remount, call drive.mount(\"/content/drive\", force_remount=True).\n"
          ]
        }
      ]
    },
    {
      "cell_type": "code",
      "source": [
        "#x_train  y_train to train\n",
        "#x_test   y_test to test\n",
        "#x_valid  y_valid \n",
        "#video\n",
        "import joblib\n",
        "x_test_prediction = joblib.load('/content/drive/My Drive/fusion/video/data_set_fusion/expert3/test/pred_test')\n",
        "x_train_prediction = joblib.load('/content/drive/My Drive/fusion/video/data_set_fusion/expert3/train/pred_train')\n",
        "x_valid_prediction = joblib.load('/content/drive/My Drive/fusion/video/data_set_fusion/expert3/valid/pred_valid')\n",
        "y_test = joblib.load('/content/drive/My Drive/fusion/video/data_set_fusion/expert3/test/labels_test')\n",
        "y_train = joblib.load('/content/drive/My Drive/fusion/video/data_set_fusion/expert3/train/labels_train')\n",
        "y_valid = joblib.load('/content/drive/My Drive/fusion/video/data_set_fusion/expert3/valid/labels_valid')\n",
        "#audio\n",
        "\n",
        "x_audio_test_prediction = joblib.load('/content/drive/My Drive/fusion/audio/new_data_set_fusion/expert3/test/predict_test')\n",
        "x_audio_train_prediction = joblib.load('/content/drive/My Drive/fusion/audio/new_data_set_fusion/expert3/train/predict_train')\n",
        "x_audio_valid_prediction = joblib.load('/content/drive/My Drive/fusion/audio/new_data_set_fusion/expert3/valid/predict_valid')\n",
        "\"\"\"\n",
        "#samples name\n",
        "test_videos= joblib.load('/content/drive/My Drive/fusion/video/data_set_fusion/expert1/test/video_test_path')\n",
        "train_videos = joblib.load('/content/drive/My Drive/fusion/video/data_set_fusion/expert1/train/video_train_path')\n",
        "valid_videos = joblib.load('/content/drive/My Drive/fusion/video/data_set_fusion/expert1/valid/video_valid_path')\n",
        "\"\"\""
      ],
      "metadata": {
        "id": "gb8C-44ct_Yp",
        "colab": {
          "base_uri": "https://localhost:8080/",
          "height": 53
        },
        "outputId": "d3ef634f-c976-432c-af6d-982a84e8f660"
      },
      "execution_count": 3,
      "outputs": [
        {
          "output_type": "execute_result",
          "data": {
            "text/plain": [
              "\"\\n#samples name\\ntest_videos= joblib.load('/content/drive/My Drive/fusion/video/data_set_fusion/expert1/test/video_test_path')\\ntrain_videos = joblib.load('/content/drive/My Drive/fusion/video/data_set_fusion/expert1/train/video_train_path')\\nvalid_videos = joblib.load('/content/drive/My Drive/fusion/video/data_set_fusion/expert1/valid/video_valid_path')\\n\""
            ],
            "application/vnd.google.colaboratory.intrinsic+json": {
              "type": "string"
            }
          },
          "metadata": {},
          "execution_count": 3
        }
      ]
    },
    {
      "cell_type": "code",
      "source": [
        "len(x_test_prediction),len(x_train_prediction),len(x_audio_test_prediction),len(x_audio_train_prediction),len(x_valid_prediction),len(x_audio_valid_prediction)"
      ],
      "metadata": {
        "colab": {
          "base_uri": "https://localhost:8080/"
        },
        "id": "Qz1Z3Vgdxaaw",
        "outputId": "2a0e59fd-6ed4-4830-cca6-417f267194fe"
      },
      "execution_count": 4,
      "outputs": [
        {
          "output_type": "execute_result",
          "data": {
            "text/plain": [
              "(207, 1653, 207, 1653, 207, 207)"
            ]
          },
          "metadata": {},
          "execution_count": 4
        }
      ]
    },
    {
      "cell_type": "code",
      "source": [
        "#x_train for video\n",
        "x_train_prediction=x_train_prediction.append(x_valid_prediction,ignore_index = True)\n",
        "#x_train for audio\n",
        "x_audio_train_prediction=x_audio_train_prediction.append(x_audio_valid_prediction,ignore_index = True)"
      ],
      "metadata": {
        "id": "QgDf-FF0utgP"
      },
      "execution_count": 5,
      "outputs": []
    },
    {
      "cell_type": "code",
      "source": [
        "len(x_audio_train_prediction),len(x_train_prediction)"
      ],
      "metadata": {
        "colab": {
          "base_uri": "https://localhost:8080/"
        },
        "id": "3G4-X-MLv79s",
        "outputId": "3589ed31-ddf5-4f75-f698-54bf7132355c"
      },
      "execution_count": 6,
      "outputs": [
        {
          "output_type": "execute_result",
          "data": {
            "text/plain": [
              "(1860, 1860)"
            ]
          },
          "metadata": {},
          "execution_count": 6
        }
      ]
    },
    {
      "cell_type": "code",
      "source": [
        "from pandas.core.frame import DataFrame\n",
        "df_train=DataFrame(y_train,columns=['labels'])\n",
        "df_valid=DataFrame(y_valid,columns=['labels'])"
      ],
      "metadata": {
        "id": "JrYaQCyZw06M"
      },
      "execution_count": 7,
      "outputs": []
    },
    {
      "cell_type": "code",
      "source": [
        "df_train=df_train.append(df_valid,ignore_index = True)"
      ],
      "metadata": {
        "id": "Rq3yhw26xjfy"
      },
      "execution_count": 8,
      "outputs": []
    },
    {
      "cell_type": "code",
      "source": [
        "len(df_train)"
      ],
      "metadata": {
        "colab": {
          "base_uri": "https://localhost:8080/"
        },
        "id": "dvYKmNurx1KR",
        "outputId": "e90db098-1805-4c56-ded6-d113f3c89551"
      },
      "execution_count": 9,
      "outputs": [
        {
          "output_type": "execute_result",
          "data": {
            "text/plain": [
              "1860"
            ]
          },
          "metadata": {},
          "execution_count": 9
        }
      ]
    },
    {
      "cell_type": "code",
      "source": [
        "df_train"
      ],
      "metadata": {
        "colab": {
          "base_uri": "https://localhost:8080/",
          "height": 424
        },
        "id": "Pfp2YX591X1F",
        "outputId": "56feab4a-78b5-4577-c19f-22f46a9d69bc"
      },
      "execution_count": 10,
      "outputs": [
        {
          "output_type": "execute_result",
          "data": {
            "text/plain": [
              "      labels\n",
              "0          5\n",
              "1          3\n",
              "2          4\n",
              "3          4\n",
              "4          1\n",
              "...      ...\n",
              "1855       4\n",
              "1856       5\n",
              "1857       4\n",
              "1858       5\n",
              "1859       2\n",
              "\n",
              "[1860 rows x 1 columns]"
            ],
            "text/html": [
              "\n",
              "  <div id=\"df-58f70dd1-4b9a-4905-8c2b-381c7f9c8c4e\">\n",
              "    <div class=\"colab-df-container\">\n",
              "      <div>\n",
              "<style scoped>\n",
              "    .dataframe tbody tr th:only-of-type {\n",
              "        vertical-align: middle;\n",
              "    }\n",
              "\n",
              "    .dataframe tbody tr th {\n",
              "        vertical-align: top;\n",
              "    }\n",
              "\n",
              "    .dataframe thead th {\n",
              "        text-align: right;\n",
              "    }\n",
              "</style>\n",
              "<table border=\"1\" class=\"dataframe\">\n",
              "  <thead>\n",
              "    <tr style=\"text-align: right;\">\n",
              "      <th></th>\n",
              "      <th>labels</th>\n",
              "    </tr>\n",
              "  </thead>\n",
              "  <tbody>\n",
              "    <tr>\n",
              "      <th>0</th>\n",
              "      <td>5</td>\n",
              "    </tr>\n",
              "    <tr>\n",
              "      <th>1</th>\n",
              "      <td>3</td>\n",
              "    </tr>\n",
              "    <tr>\n",
              "      <th>2</th>\n",
              "      <td>4</td>\n",
              "    </tr>\n",
              "    <tr>\n",
              "      <th>3</th>\n",
              "      <td>4</td>\n",
              "    </tr>\n",
              "    <tr>\n",
              "      <th>4</th>\n",
              "      <td>1</td>\n",
              "    </tr>\n",
              "    <tr>\n",
              "      <th>...</th>\n",
              "      <td>...</td>\n",
              "    </tr>\n",
              "    <tr>\n",
              "      <th>1855</th>\n",
              "      <td>4</td>\n",
              "    </tr>\n",
              "    <tr>\n",
              "      <th>1856</th>\n",
              "      <td>5</td>\n",
              "    </tr>\n",
              "    <tr>\n",
              "      <th>1857</th>\n",
              "      <td>4</td>\n",
              "    </tr>\n",
              "    <tr>\n",
              "      <th>1858</th>\n",
              "      <td>5</td>\n",
              "    </tr>\n",
              "    <tr>\n",
              "      <th>1859</th>\n",
              "      <td>2</td>\n",
              "    </tr>\n",
              "  </tbody>\n",
              "</table>\n",
              "<p>1860 rows × 1 columns</p>\n",
              "</div>\n",
              "      <button class=\"colab-df-convert\" onclick=\"convertToInteractive('df-58f70dd1-4b9a-4905-8c2b-381c7f9c8c4e')\"\n",
              "              title=\"Convert this dataframe to an interactive table.\"\n",
              "              style=\"display:none;\">\n",
              "        \n",
              "  <svg xmlns=\"http://www.w3.org/2000/svg\" height=\"24px\"viewBox=\"0 0 24 24\"\n",
              "       width=\"24px\">\n",
              "    <path d=\"M0 0h24v24H0V0z\" fill=\"none\"/>\n",
              "    <path d=\"M18.56 5.44l.94 2.06.94-2.06 2.06-.94-2.06-.94-.94-2.06-.94 2.06-2.06.94zm-11 1L8.5 8.5l.94-2.06 2.06-.94-2.06-.94L8.5 2.5l-.94 2.06-2.06.94zm10 10l.94 2.06.94-2.06 2.06-.94-2.06-.94-.94-2.06-.94 2.06-2.06.94z\"/><path d=\"M17.41 7.96l-1.37-1.37c-.4-.4-.92-.59-1.43-.59-.52 0-1.04.2-1.43.59L10.3 9.45l-7.72 7.72c-.78.78-.78 2.05 0 2.83L4 21.41c.39.39.9.59 1.41.59.51 0 1.02-.2 1.41-.59l7.78-7.78 2.81-2.81c.8-.78.8-2.07 0-2.86zM5.41 20L4 18.59l7.72-7.72 1.47 1.35L5.41 20z\"/>\n",
              "  </svg>\n",
              "      </button>\n",
              "      \n",
              "  <style>\n",
              "    .colab-df-container {\n",
              "      display:flex;\n",
              "      flex-wrap:wrap;\n",
              "      gap: 12px;\n",
              "    }\n",
              "\n",
              "    .colab-df-convert {\n",
              "      background-color: #E8F0FE;\n",
              "      border: none;\n",
              "      border-radius: 50%;\n",
              "      cursor: pointer;\n",
              "      display: none;\n",
              "      fill: #1967D2;\n",
              "      height: 32px;\n",
              "      padding: 0 0 0 0;\n",
              "      width: 32px;\n",
              "    }\n",
              "\n",
              "    .colab-df-convert:hover {\n",
              "      background-color: #E2EBFA;\n",
              "      box-shadow: 0px 1px 2px rgba(60, 64, 67, 0.3), 0px 1px 3px 1px rgba(60, 64, 67, 0.15);\n",
              "      fill: #174EA6;\n",
              "    }\n",
              "\n",
              "    [theme=dark] .colab-df-convert {\n",
              "      background-color: #3B4455;\n",
              "      fill: #D2E3FC;\n",
              "    }\n",
              "\n",
              "    [theme=dark] .colab-df-convert:hover {\n",
              "      background-color: #434B5C;\n",
              "      box-shadow: 0px 1px 3px 1px rgba(0, 0, 0, 0.15);\n",
              "      filter: drop-shadow(0px 1px 2px rgba(0, 0, 0, 0.3));\n",
              "      fill: #FFFFFF;\n",
              "    }\n",
              "  </style>\n",
              "\n",
              "      <script>\n",
              "        const buttonEl =\n",
              "          document.querySelector('#df-58f70dd1-4b9a-4905-8c2b-381c7f9c8c4e button.colab-df-convert');\n",
              "        buttonEl.style.display =\n",
              "          google.colab.kernel.accessAllowed ? 'block' : 'none';\n",
              "\n",
              "        async function convertToInteractive(key) {\n",
              "          const element = document.querySelector('#df-58f70dd1-4b9a-4905-8c2b-381c7f9c8c4e');\n",
              "          const dataTable =\n",
              "            await google.colab.kernel.invokeFunction('convertToInteractive',\n",
              "                                                     [key], {});\n",
              "          if (!dataTable) return;\n",
              "\n",
              "          const docLinkHtml = 'Like what you see? Visit the ' +\n",
              "            '<a target=\"_blank\" href=https://colab.research.google.com/notebooks/data_table.ipynb>data table notebook</a>'\n",
              "            + ' to learn more about interactive tables.';\n",
              "          element.innerHTML = '';\n",
              "          dataTable['output_type'] = 'display_data';\n",
              "          await google.colab.output.renderOutput(dataTable, element);\n",
              "          const docLink = document.createElement('div');\n",
              "          docLink.innerHTML = docLinkHtml;\n",
              "          element.appendChild(docLink);\n",
              "        }\n",
              "      </script>\n",
              "    </div>\n",
              "  </div>\n",
              "  "
            ]
          },
          "metadata": {},
          "execution_count": 10
        }
      ]
    },
    {
      "cell_type": "code",
      "source": [
        "import pandas as pd\n",
        "\n",
        "x_train = pd.concat([x_train_prediction, x_audio_train_prediction], axis=1,join='inner')\n",
        "x_test =  pd.concat([x_test_prediction, x_audio_test_prediction], axis=1,join='inner')"
      ],
      "metadata": {
        "id": "sbkgIXaFwKwh"
      },
      "execution_count": 11,
      "outputs": []
    },
    {
      "cell_type": "code",
      "source": [
        "x_test"
      ],
      "metadata": {
        "colab": {
          "base_uri": "https://localhost:8080/",
          "height": 424
        },
        "id": "78gEQ1w7w_fd",
        "outputId": "dd6598df-6654-4e7e-8235-408e55000fbe"
      },
      "execution_count": 12,
      "outputs": [
        {
          "output_type": "execute_result",
          "data": {
            "text/plain": [
              "             OV_0      OV_1      OV_2      OV_3      OV_4      OV_5  \\\n",
              "0    3.847681e-07  0.000165  0.999427  0.000011  0.000015  0.000382   \n",
              "1    4.080357e-04  0.000278  0.000032  0.975605  0.000084  0.023593   \n",
              "2    8.029334e-06  0.000003  0.000078  0.000781  0.000026  0.999103   \n",
              "3    8.195345e-01  0.010879  0.000053  0.161156  0.000378  0.008000   \n",
              "4    9.327391e-08  0.000213  0.999510  0.000028  0.000003  0.000246   \n",
              "..            ...       ...       ...       ...       ...       ...   \n",
              "202  4.144497e-04  0.000421  0.000023  0.994940  0.000056  0.004145   \n",
              "203  6.430261e-05  0.068198  0.931112  0.000107  0.000038  0.000480   \n",
              "204  1.150483e-02  0.986242  0.000204  0.002006  0.000028  0.000016   \n",
              "205  1.152764e-05  0.000007  0.000231  0.004078  0.000060  0.995612   \n",
              "206  7.806483e-04  0.001267  0.000008  0.997295  0.000183  0.000467   \n",
              "\n",
              "             OA_0          OA_1          OA_2          OA_3          OA_4  \\\n",
              "0    5.709566e-10  6.048259e-05  9.983827e-01  1.003871e-03  4.657778e-04   \n",
              "1    3.210036e-08  6.641395e-05  2.010758e-06  9.993819e-01  5.591047e-07   \n",
              "2    2.191268e-08  6.277464e-09  7.538927e-06  7.692809e-01  6.501456e-07   \n",
              "3    1.192593e-12  3.812688e-12  7.447705e-19  1.000000e+00  3.033021e-09   \n",
              "4    1.365382e-14  3.206715e-08  9.999564e-01  3.360592e-10  4.361143e-05   \n",
              "..            ...           ...           ...           ...           ...   \n",
              "202  4.196479e-04  4.794175e-04  1.040976e-01  8.565566e-01  4.861494e-03   \n",
              "203  1.452160e-12  3.306182e-09  9.999998e-01  1.836027e-09  2.017630e-07   \n",
              "204  1.576803e-03  9.876078e-01  3.730932e-03  7.075741e-03  1.962299e-07   \n",
              "205  2.021221e-08  1.525252e-08  1.082264e-02  8.012521e-03  4.813148e-03   \n",
              "206  1.010946e-03  8.907119e-04  4.810526e-04  5.073053e-01  4.832578e-03   \n",
              "\n",
              "             OA_5  \n",
              "0    8.722467e-05  \n",
              "1    5.490086e-04  \n",
              "2    2.307109e-01  \n",
              "3    5.245816e-11  \n",
              "4    1.483322e-10  \n",
              "..            ...  \n",
              "202  3.358527e-02  \n",
              "203  1.592038e-08  \n",
              "204  8.604891e-06  \n",
              "205  9.763516e-01  \n",
              "206  4.854794e-01  \n",
              "\n",
              "[207 rows x 12 columns]"
            ],
            "text/html": [
              "\n",
              "  <div id=\"df-09d358fc-6521-40d1-9758-e541907a1257\">\n",
              "    <div class=\"colab-df-container\">\n",
              "      <div>\n",
              "<style scoped>\n",
              "    .dataframe tbody tr th:only-of-type {\n",
              "        vertical-align: middle;\n",
              "    }\n",
              "\n",
              "    .dataframe tbody tr th {\n",
              "        vertical-align: top;\n",
              "    }\n",
              "\n",
              "    .dataframe thead th {\n",
              "        text-align: right;\n",
              "    }\n",
              "</style>\n",
              "<table border=\"1\" class=\"dataframe\">\n",
              "  <thead>\n",
              "    <tr style=\"text-align: right;\">\n",
              "      <th></th>\n",
              "      <th>OV_0</th>\n",
              "      <th>OV_1</th>\n",
              "      <th>OV_2</th>\n",
              "      <th>OV_3</th>\n",
              "      <th>OV_4</th>\n",
              "      <th>OV_5</th>\n",
              "      <th>OA_0</th>\n",
              "      <th>OA_1</th>\n",
              "      <th>OA_2</th>\n",
              "      <th>OA_3</th>\n",
              "      <th>OA_4</th>\n",
              "      <th>OA_5</th>\n",
              "    </tr>\n",
              "  </thead>\n",
              "  <tbody>\n",
              "    <tr>\n",
              "      <th>0</th>\n",
              "      <td>3.847681e-07</td>\n",
              "      <td>0.000165</td>\n",
              "      <td>0.999427</td>\n",
              "      <td>0.000011</td>\n",
              "      <td>0.000015</td>\n",
              "      <td>0.000382</td>\n",
              "      <td>5.709566e-10</td>\n",
              "      <td>6.048259e-05</td>\n",
              "      <td>9.983827e-01</td>\n",
              "      <td>1.003871e-03</td>\n",
              "      <td>4.657778e-04</td>\n",
              "      <td>8.722467e-05</td>\n",
              "    </tr>\n",
              "    <tr>\n",
              "      <th>1</th>\n",
              "      <td>4.080357e-04</td>\n",
              "      <td>0.000278</td>\n",
              "      <td>0.000032</td>\n",
              "      <td>0.975605</td>\n",
              "      <td>0.000084</td>\n",
              "      <td>0.023593</td>\n",
              "      <td>3.210036e-08</td>\n",
              "      <td>6.641395e-05</td>\n",
              "      <td>2.010758e-06</td>\n",
              "      <td>9.993819e-01</td>\n",
              "      <td>5.591047e-07</td>\n",
              "      <td>5.490086e-04</td>\n",
              "    </tr>\n",
              "    <tr>\n",
              "      <th>2</th>\n",
              "      <td>8.029334e-06</td>\n",
              "      <td>0.000003</td>\n",
              "      <td>0.000078</td>\n",
              "      <td>0.000781</td>\n",
              "      <td>0.000026</td>\n",
              "      <td>0.999103</td>\n",
              "      <td>2.191268e-08</td>\n",
              "      <td>6.277464e-09</td>\n",
              "      <td>7.538927e-06</td>\n",
              "      <td>7.692809e-01</td>\n",
              "      <td>6.501456e-07</td>\n",
              "      <td>2.307109e-01</td>\n",
              "    </tr>\n",
              "    <tr>\n",
              "      <th>3</th>\n",
              "      <td>8.195345e-01</td>\n",
              "      <td>0.010879</td>\n",
              "      <td>0.000053</td>\n",
              "      <td>0.161156</td>\n",
              "      <td>0.000378</td>\n",
              "      <td>0.008000</td>\n",
              "      <td>1.192593e-12</td>\n",
              "      <td>3.812688e-12</td>\n",
              "      <td>7.447705e-19</td>\n",
              "      <td>1.000000e+00</td>\n",
              "      <td>3.033021e-09</td>\n",
              "      <td>5.245816e-11</td>\n",
              "    </tr>\n",
              "    <tr>\n",
              "      <th>4</th>\n",
              "      <td>9.327391e-08</td>\n",
              "      <td>0.000213</td>\n",
              "      <td>0.999510</td>\n",
              "      <td>0.000028</td>\n",
              "      <td>0.000003</td>\n",
              "      <td>0.000246</td>\n",
              "      <td>1.365382e-14</td>\n",
              "      <td>3.206715e-08</td>\n",
              "      <td>9.999564e-01</td>\n",
              "      <td>3.360592e-10</td>\n",
              "      <td>4.361143e-05</td>\n",
              "      <td>1.483322e-10</td>\n",
              "    </tr>\n",
              "    <tr>\n",
              "      <th>...</th>\n",
              "      <td>...</td>\n",
              "      <td>...</td>\n",
              "      <td>...</td>\n",
              "      <td>...</td>\n",
              "      <td>...</td>\n",
              "      <td>...</td>\n",
              "      <td>...</td>\n",
              "      <td>...</td>\n",
              "      <td>...</td>\n",
              "      <td>...</td>\n",
              "      <td>...</td>\n",
              "      <td>...</td>\n",
              "    </tr>\n",
              "    <tr>\n",
              "      <th>202</th>\n",
              "      <td>4.144497e-04</td>\n",
              "      <td>0.000421</td>\n",
              "      <td>0.000023</td>\n",
              "      <td>0.994940</td>\n",
              "      <td>0.000056</td>\n",
              "      <td>0.004145</td>\n",
              "      <td>4.196479e-04</td>\n",
              "      <td>4.794175e-04</td>\n",
              "      <td>1.040976e-01</td>\n",
              "      <td>8.565566e-01</td>\n",
              "      <td>4.861494e-03</td>\n",
              "      <td>3.358527e-02</td>\n",
              "    </tr>\n",
              "    <tr>\n",
              "      <th>203</th>\n",
              "      <td>6.430261e-05</td>\n",
              "      <td>0.068198</td>\n",
              "      <td>0.931112</td>\n",
              "      <td>0.000107</td>\n",
              "      <td>0.000038</td>\n",
              "      <td>0.000480</td>\n",
              "      <td>1.452160e-12</td>\n",
              "      <td>3.306182e-09</td>\n",
              "      <td>9.999998e-01</td>\n",
              "      <td>1.836027e-09</td>\n",
              "      <td>2.017630e-07</td>\n",
              "      <td>1.592038e-08</td>\n",
              "    </tr>\n",
              "    <tr>\n",
              "      <th>204</th>\n",
              "      <td>1.150483e-02</td>\n",
              "      <td>0.986242</td>\n",
              "      <td>0.000204</td>\n",
              "      <td>0.002006</td>\n",
              "      <td>0.000028</td>\n",
              "      <td>0.000016</td>\n",
              "      <td>1.576803e-03</td>\n",
              "      <td>9.876078e-01</td>\n",
              "      <td>3.730932e-03</td>\n",
              "      <td>7.075741e-03</td>\n",
              "      <td>1.962299e-07</td>\n",
              "      <td>8.604891e-06</td>\n",
              "    </tr>\n",
              "    <tr>\n",
              "      <th>205</th>\n",
              "      <td>1.152764e-05</td>\n",
              "      <td>0.000007</td>\n",
              "      <td>0.000231</td>\n",
              "      <td>0.004078</td>\n",
              "      <td>0.000060</td>\n",
              "      <td>0.995612</td>\n",
              "      <td>2.021221e-08</td>\n",
              "      <td>1.525252e-08</td>\n",
              "      <td>1.082264e-02</td>\n",
              "      <td>8.012521e-03</td>\n",
              "      <td>4.813148e-03</td>\n",
              "      <td>9.763516e-01</td>\n",
              "    </tr>\n",
              "    <tr>\n",
              "      <th>206</th>\n",
              "      <td>7.806483e-04</td>\n",
              "      <td>0.001267</td>\n",
              "      <td>0.000008</td>\n",
              "      <td>0.997295</td>\n",
              "      <td>0.000183</td>\n",
              "      <td>0.000467</td>\n",
              "      <td>1.010946e-03</td>\n",
              "      <td>8.907119e-04</td>\n",
              "      <td>4.810526e-04</td>\n",
              "      <td>5.073053e-01</td>\n",
              "      <td>4.832578e-03</td>\n",
              "      <td>4.854794e-01</td>\n",
              "    </tr>\n",
              "  </tbody>\n",
              "</table>\n",
              "<p>207 rows × 12 columns</p>\n",
              "</div>\n",
              "      <button class=\"colab-df-convert\" onclick=\"convertToInteractive('df-09d358fc-6521-40d1-9758-e541907a1257')\"\n",
              "              title=\"Convert this dataframe to an interactive table.\"\n",
              "              style=\"display:none;\">\n",
              "        \n",
              "  <svg xmlns=\"http://www.w3.org/2000/svg\" height=\"24px\"viewBox=\"0 0 24 24\"\n",
              "       width=\"24px\">\n",
              "    <path d=\"M0 0h24v24H0V0z\" fill=\"none\"/>\n",
              "    <path d=\"M18.56 5.44l.94 2.06.94-2.06 2.06-.94-2.06-.94-.94-2.06-.94 2.06-2.06.94zm-11 1L8.5 8.5l.94-2.06 2.06-.94-2.06-.94L8.5 2.5l-.94 2.06-2.06.94zm10 10l.94 2.06.94-2.06 2.06-.94-2.06-.94-.94-2.06-.94 2.06-2.06.94z\"/><path d=\"M17.41 7.96l-1.37-1.37c-.4-.4-.92-.59-1.43-.59-.52 0-1.04.2-1.43.59L10.3 9.45l-7.72 7.72c-.78.78-.78 2.05 0 2.83L4 21.41c.39.39.9.59 1.41.59.51 0 1.02-.2 1.41-.59l7.78-7.78 2.81-2.81c.8-.78.8-2.07 0-2.86zM5.41 20L4 18.59l7.72-7.72 1.47 1.35L5.41 20z\"/>\n",
              "  </svg>\n",
              "      </button>\n",
              "      \n",
              "  <style>\n",
              "    .colab-df-container {\n",
              "      display:flex;\n",
              "      flex-wrap:wrap;\n",
              "      gap: 12px;\n",
              "    }\n",
              "\n",
              "    .colab-df-convert {\n",
              "      background-color: #E8F0FE;\n",
              "      border: none;\n",
              "      border-radius: 50%;\n",
              "      cursor: pointer;\n",
              "      display: none;\n",
              "      fill: #1967D2;\n",
              "      height: 32px;\n",
              "      padding: 0 0 0 0;\n",
              "      width: 32px;\n",
              "    }\n",
              "\n",
              "    .colab-df-convert:hover {\n",
              "      background-color: #E2EBFA;\n",
              "      box-shadow: 0px 1px 2px rgba(60, 64, 67, 0.3), 0px 1px 3px 1px rgba(60, 64, 67, 0.15);\n",
              "      fill: #174EA6;\n",
              "    }\n",
              "\n",
              "    [theme=dark] .colab-df-convert {\n",
              "      background-color: #3B4455;\n",
              "      fill: #D2E3FC;\n",
              "    }\n",
              "\n",
              "    [theme=dark] .colab-df-convert:hover {\n",
              "      background-color: #434B5C;\n",
              "      box-shadow: 0px 1px 3px 1px rgba(0, 0, 0, 0.15);\n",
              "      filter: drop-shadow(0px 1px 2px rgba(0, 0, 0, 0.3));\n",
              "      fill: #FFFFFF;\n",
              "    }\n",
              "  </style>\n",
              "\n",
              "      <script>\n",
              "        const buttonEl =\n",
              "          document.querySelector('#df-09d358fc-6521-40d1-9758-e541907a1257 button.colab-df-convert');\n",
              "        buttonEl.style.display =\n",
              "          google.colab.kernel.accessAllowed ? 'block' : 'none';\n",
              "\n",
              "        async function convertToInteractive(key) {\n",
              "          const element = document.querySelector('#df-09d358fc-6521-40d1-9758-e541907a1257');\n",
              "          const dataTable =\n",
              "            await google.colab.kernel.invokeFunction('convertToInteractive',\n",
              "                                                     [key], {});\n",
              "          if (!dataTable) return;\n",
              "\n",
              "          const docLinkHtml = 'Like what you see? Visit the ' +\n",
              "            '<a target=\"_blank\" href=https://colab.research.google.com/notebooks/data_table.ipynb>data table notebook</a>'\n",
              "            + ' to learn more about interactive tables.';\n",
              "          element.innerHTML = '';\n",
              "          dataTable['output_type'] = 'display_data';\n",
              "          await google.colab.output.renderOutput(dataTable, element);\n",
              "          const docLink = document.createElement('div');\n",
              "          docLink.innerHTML = docLinkHtml;\n",
              "          element.appendChild(docLink);\n",
              "        }\n",
              "      </script>\n",
              "    </div>\n",
              "  </div>\n",
              "  "
            ]
          },
          "metadata": {},
          "execution_count": 12
        }
      ]
    },
    {
      "cell_type": "code",
      "source": [
        "len(x_test),len(x_train)"
      ],
      "metadata": {
        "colab": {
          "base_uri": "https://localhost:8080/"
        },
        "id": "ryRQjTkUyZJv",
        "outputId": "2f5563d4-c181-4ca3-ff27-8d0fe8e649bd"
      },
      "execution_count": 13,
      "outputs": [
        {
          "output_type": "execute_result",
          "data": {
            "text/plain": [
              "(207, 1860)"
            ]
          },
          "metadata": {},
          "execution_count": 13
        }
      ]
    },
    {
      "cell_type": "code",
      "source": [
        "x_train"
      ],
      "metadata": {
        "colab": {
          "base_uri": "https://localhost:8080/",
          "height": 424
        },
        "id": "1e5kgXiFwzx3",
        "outputId": "da292ee5-3b61-4249-eafa-2a70a49ab36c"
      },
      "execution_count": 14,
      "outputs": [
        {
          "output_type": "execute_result",
          "data": {
            "text/plain": [
              "              OV_0      OV_1          OV_2      OV_3      OV_4          OV_5  \\\n",
              "0     1.342762e-05  0.000012  2.062135e-04  0.004942  0.000055  9.947707e-01   \n",
              "1     6.808462e-04  0.000532  1.420739e-04  0.967613  0.000086  3.094518e-02   \n",
              "2     6.382396e-06  0.000014  3.164888e-07  0.000078  0.999668  2.334870e-04   \n",
              "3     1.216768e-05  0.000016  9.738202e-07  0.000070  0.999058  8.416994e-04   \n",
              "4     3.387133e-05  0.999711  1.496905e-04  0.000090  0.000015  7.047519e-07   \n",
              "...            ...       ...           ...       ...       ...           ...   \n",
              "1855  1.730688e-03  0.000940  9.109009e-05  0.042585  0.514992  4.396609e-01   \n",
              "1856  7.937995e-05  0.000008  8.498927e-05  0.006586  0.000129  9.931120e-01   \n",
              "1857  4.019840e-07  0.000003  9.252089e-08  0.000062  0.999855  7.927581e-05   \n",
              "1858  2.571352e-05  0.000011  2.133435e-04  0.015691  0.000191  9.838685e-01   \n",
              "1859  8.006435e-07  0.001160  9.986746e-01  0.000017  0.000023  1.246707e-04   \n",
              "\n",
              "              OA_0          OA_1          OA_2          OA_3          OA_4  \\\n",
              "0     2.467135e-10  1.031010e-13  7.202210e-11  6.935531e-04  3.309902e-05   \n",
              "1     4.183742e-03  1.883682e-03  3.485763e-04  9.928458e-01  7.599917e-06   \n",
              "2     4.291472e-11  2.094751e-14  3.376433e-09  7.982301e-07  9.999894e-01   \n",
              "3     2.389318e-06  2.958119e-08  1.107930e-04  1.670382e-05  9.998677e-01   \n",
              "4     7.133755e-10  9.999399e-01  5.691175e-05  2.263207e-06  8.316588e-07   \n",
              "...            ...           ...           ...           ...           ...   \n",
              "1855  3.800477e-05  4.158589e-06  9.094679e-02  4.744317e-03  8.813667e-01   \n",
              "1856  1.410332e-11  1.408649e-11  4.407951e-12  9.819090e-01  6.792979e-07   \n",
              "1857  1.325367e-10  1.554187e-11  5.853306e-06  2.239259e-05  9.999714e-01   \n",
              "1858  8.621478e-04  1.110208e-05  3.831854e-03  2.622769e-01  1.219267e-02   \n",
              "1859  3.998406e-12  4.655214e-04  9.995151e-01  4.181138e-07  1.864972e-05   \n",
              "\n",
              "              OA_5  \n",
              "0     9.992734e-01  \n",
              "1     7.305745e-04  \n",
              "2     9.769135e-06  \n",
              "3     2.399141e-06  \n",
              "4     7.332062e-08  \n",
              "...            ...  \n",
              "1855  2.289999e-02  \n",
              "1856  1.809031e-02  \n",
              "1857  3.096777e-07  \n",
              "1858  7.208254e-01  \n",
              "1859  2.984690e-07  \n",
              "\n",
              "[1860 rows x 12 columns]"
            ],
            "text/html": [
              "\n",
              "  <div id=\"df-b5a4fab6-8e15-40d3-8807-ba3cbaceb996\">\n",
              "    <div class=\"colab-df-container\">\n",
              "      <div>\n",
              "<style scoped>\n",
              "    .dataframe tbody tr th:only-of-type {\n",
              "        vertical-align: middle;\n",
              "    }\n",
              "\n",
              "    .dataframe tbody tr th {\n",
              "        vertical-align: top;\n",
              "    }\n",
              "\n",
              "    .dataframe thead th {\n",
              "        text-align: right;\n",
              "    }\n",
              "</style>\n",
              "<table border=\"1\" class=\"dataframe\">\n",
              "  <thead>\n",
              "    <tr style=\"text-align: right;\">\n",
              "      <th></th>\n",
              "      <th>OV_0</th>\n",
              "      <th>OV_1</th>\n",
              "      <th>OV_2</th>\n",
              "      <th>OV_3</th>\n",
              "      <th>OV_4</th>\n",
              "      <th>OV_5</th>\n",
              "      <th>OA_0</th>\n",
              "      <th>OA_1</th>\n",
              "      <th>OA_2</th>\n",
              "      <th>OA_3</th>\n",
              "      <th>OA_4</th>\n",
              "      <th>OA_5</th>\n",
              "    </tr>\n",
              "  </thead>\n",
              "  <tbody>\n",
              "    <tr>\n",
              "      <th>0</th>\n",
              "      <td>1.342762e-05</td>\n",
              "      <td>0.000012</td>\n",
              "      <td>2.062135e-04</td>\n",
              "      <td>0.004942</td>\n",
              "      <td>0.000055</td>\n",
              "      <td>9.947707e-01</td>\n",
              "      <td>2.467135e-10</td>\n",
              "      <td>1.031010e-13</td>\n",
              "      <td>7.202210e-11</td>\n",
              "      <td>6.935531e-04</td>\n",
              "      <td>3.309902e-05</td>\n",
              "      <td>9.992734e-01</td>\n",
              "    </tr>\n",
              "    <tr>\n",
              "      <th>1</th>\n",
              "      <td>6.808462e-04</td>\n",
              "      <td>0.000532</td>\n",
              "      <td>1.420739e-04</td>\n",
              "      <td>0.967613</td>\n",
              "      <td>0.000086</td>\n",
              "      <td>3.094518e-02</td>\n",
              "      <td>4.183742e-03</td>\n",
              "      <td>1.883682e-03</td>\n",
              "      <td>3.485763e-04</td>\n",
              "      <td>9.928458e-01</td>\n",
              "      <td>7.599917e-06</td>\n",
              "      <td>7.305745e-04</td>\n",
              "    </tr>\n",
              "    <tr>\n",
              "      <th>2</th>\n",
              "      <td>6.382396e-06</td>\n",
              "      <td>0.000014</td>\n",
              "      <td>3.164888e-07</td>\n",
              "      <td>0.000078</td>\n",
              "      <td>0.999668</td>\n",
              "      <td>2.334870e-04</td>\n",
              "      <td>4.291472e-11</td>\n",
              "      <td>2.094751e-14</td>\n",
              "      <td>3.376433e-09</td>\n",
              "      <td>7.982301e-07</td>\n",
              "      <td>9.999894e-01</td>\n",
              "      <td>9.769135e-06</td>\n",
              "    </tr>\n",
              "    <tr>\n",
              "      <th>3</th>\n",
              "      <td>1.216768e-05</td>\n",
              "      <td>0.000016</td>\n",
              "      <td>9.738202e-07</td>\n",
              "      <td>0.000070</td>\n",
              "      <td>0.999058</td>\n",
              "      <td>8.416994e-04</td>\n",
              "      <td>2.389318e-06</td>\n",
              "      <td>2.958119e-08</td>\n",
              "      <td>1.107930e-04</td>\n",
              "      <td>1.670382e-05</td>\n",
              "      <td>9.998677e-01</td>\n",
              "      <td>2.399141e-06</td>\n",
              "    </tr>\n",
              "    <tr>\n",
              "      <th>4</th>\n",
              "      <td>3.387133e-05</td>\n",
              "      <td>0.999711</td>\n",
              "      <td>1.496905e-04</td>\n",
              "      <td>0.000090</td>\n",
              "      <td>0.000015</td>\n",
              "      <td>7.047519e-07</td>\n",
              "      <td>7.133755e-10</td>\n",
              "      <td>9.999399e-01</td>\n",
              "      <td>5.691175e-05</td>\n",
              "      <td>2.263207e-06</td>\n",
              "      <td>8.316588e-07</td>\n",
              "      <td>7.332062e-08</td>\n",
              "    </tr>\n",
              "    <tr>\n",
              "      <th>...</th>\n",
              "      <td>...</td>\n",
              "      <td>...</td>\n",
              "      <td>...</td>\n",
              "      <td>...</td>\n",
              "      <td>...</td>\n",
              "      <td>...</td>\n",
              "      <td>...</td>\n",
              "      <td>...</td>\n",
              "      <td>...</td>\n",
              "      <td>...</td>\n",
              "      <td>...</td>\n",
              "      <td>...</td>\n",
              "    </tr>\n",
              "    <tr>\n",
              "      <th>1855</th>\n",
              "      <td>1.730688e-03</td>\n",
              "      <td>0.000940</td>\n",
              "      <td>9.109009e-05</td>\n",
              "      <td>0.042585</td>\n",
              "      <td>0.514992</td>\n",
              "      <td>4.396609e-01</td>\n",
              "      <td>3.800477e-05</td>\n",
              "      <td>4.158589e-06</td>\n",
              "      <td>9.094679e-02</td>\n",
              "      <td>4.744317e-03</td>\n",
              "      <td>8.813667e-01</td>\n",
              "      <td>2.289999e-02</td>\n",
              "    </tr>\n",
              "    <tr>\n",
              "      <th>1856</th>\n",
              "      <td>7.937995e-05</td>\n",
              "      <td>0.000008</td>\n",
              "      <td>8.498927e-05</td>\n",
              "      <td>0.006586</td>\n",
              "      <td>0.000129</td>\n",
              "      <td>9.931120e-01</td>\n",
              "      <td>1.410332e-11</td>\n",
              "      <td>1.408649e-11</td>\n",
              "      <td>4.407951e-12</td>\n",
              "      <td>9.819090e-01</td>\n",
              "      <td>6.792979e-07</td>\n",
              "      <td>1.809031e-02</td>\n",
              "    </tr>\n",
              "    <tr>\n",
              "      <th>1857</th>\n",
              "      <td>4.019840e-07</td>\n",
              "      <td>0.000003</td>\n",
              "      <td>9.252089e-08</td>\n",
              "      <td>0.000062</td>\n",
              "      <td>0.999855</td>\n",
              "      <td>7.927581e-05</td>\n",
              "      <td>1.325367e-10</td>\n",
              "      <td>1.554187e-11</td>\n",
              "      <td>5.853306e-06</td>\n",
              "      <td>2.239259e-05</td>\n",
              "      <td>9.999714e-01</td>\n",
              "      <td>3.096777e-07</td>\n",
              "    </tr>\n",
              "    <tr>\n",
              "      <th>1858</th>\n",
              "      <td>2.571352e-05</td>\n",
              "      <td>0.000011</td>\n",
              "      <td>2.133435e-04</td>\n",
              "      <td>0.015691</td>\n",
              "      <td>0.000191</td>\n",
              "      <td>9.838685e-01</td>\n",
              "      <td>8.621478e-04</td>\n",
              "      <td>1.110208e-05</td>\n",
              "      <td>3.831854e-03</td>\n",
              "      <td>2.622769e-01</td>\n",
              "      <td>1.219267e-02</td>\n",
              "      <td>7.208254e-01</td>\n",
              "    </tr>\n",
              "    <tr>\n",
              "      <th>1859</th>\n",
              "      <td>8.006435e-07</td>\n",
              "      <td>0.001160</td>\n",
              "      <td>9.986746e-01</td>\n",
              "      <td>0.000017</td>\n",
              "      <td>0.000023</td>\n",
              "      <td>1.246707e-04</td>\n",
              "      <td>3.998406e-12</td>\n",
              "      <td>4.655214e-04</td>\n",
              "      <td>9.995151e-01</td>\n",
              "      <td>4.181138e-07</td>\n",
              "      <td>1.864972e-05</td>\n",
              "      <td>2.984690e-07</td>\n",
              "    </tr>\n",
              "  </tbody>\n",
              "</table>\n",
              "<p>1860 rows × 12 columns</p>\n",
              "</div>\n",
              "      <button class=\"colab-df-convert\" onclick=\"convertToInteractive('df-b5a4fab6-8e15-40d3-8807-ba3cbaceb996')\"\n",
              "              title=\"Convert this dataframe to an interactive table.\"\n",
              "              style=\"display:none;\">\n",
              "        \n",
              "  <svg xmlns=\"http://www.w3.org/2000/svg\" height=\"24px\"viewBox=\"0 0 24 24\"\n",
              "       width=\"24px\">\n",
              "    <path d=\"M0 0h24v24H0V0z\" fill=\"none\"/>\n",
              "    <path d=\"M18.56 5.44l.94 2.06.94-2.06 2.06-.94-2.06-.94-.94-2.06-.94 2.06-2.06.94zm-11 1L8.5 8.5l.94-2.06 2.06-.94-2.06-.94L8.5 2.5l-.94 2.06-2.06.94zm10 10l.94 2.06.94-2.06 2.06-.94-2.06-.94-.94-2.06-.94 2.06-2.06.94z\"/><path d=\"M17.41 7.96l-1.37-1.37c-.4-.4-.92-.59-1.43-.59-.52 0-1.04.2-1.43.59L10.3 9.45l-7.72 7.72c-.78.78-.78 2.05 0 2.83L4 21.41c.39.39.9.59 1.41.59.51 0 1.02-.2 1.41-.59l7.78-7.78 2.81-2.81c.8-.78.8-2.07 0-2.86zM5.41 20L4 18.59l7.72-7.72 1.47 1.35L5.41 20z\"/>\n",
              "  </svg>\n",
              "      </button>\n",
              "      \n",
              "  <style>\n",
              "    .colab-df-container {\n",
              "      display:flex;\n",
              "      flex-wrap:wrap;\n",
              "      gap: 12px;\n",
              "    }\n",
              "\n",
              "    .colab-df-convert {\n",
              "      background-color: #E8F0FE;\n",
              "      border: none;\n",
              "      border-radius: 50%;\n",
              "      cursor: pointer;\n",
              "      display: none;\n",
              "      fill: #1967D2;\n",
              "      height: 32px;\n",
              "      padding: 0 0 0 0;\n",
              "      width: 32px;\n",
              "    }\n",
              "\n",
              "    .colab-df-convert:hover {\n",
              "      background-color: #E2EBFA;\n",
              "      box-shadow: 0px 1px 2px rgba(60, 64, 67, 0.3), 0px 1px 3px 1px rgba(60, 64, 67, 0.15);\n",
              "      fill: #174EA6;\n",
              "    }\n",
              "\n",
              "    [theme=dark] .colab-df-convert {\n",
              "      background-color: #3B4455;\n",
              "      fill: #D2E3FC;\n",
              "    }\n",
              "\n",
              "    [theme=dark] .colab-df-convert:hover {\n",
              "      background-color: #434B5C;\n",
              "      box-shadow: 0px 1px 3px 1px rgba(0, 0, 0, 0.15);\n",
              "      filter: drop-shadow(0px 1px 2px rgba(0, 0, 0, 0.3));\n",
              "      fill: #FFFFFF;\n",
              "    }\n",
              "  </style>\n",
              "\n",
              "      <script>\n",
              "        const buttonEl =\n",
              "          document.querySelector('#df-b5a4fab6-8e15-40d3-8807-ba3cbaceb996 button.colab-df-convert');\n",
              "        buttonEl.style.display =\n",
              "          google.colab.kernel.accessAllowed ? 'block' : 'none';\n",
              "\n",
              "        async function convertToInteractive(key) {\n",
              "          const element = document.querySelector('#df-b5a4fab6-8e15-40d3-8807-ba3cbaceb996');\n",
              "          const dataTable =\n",
              "            await google.colab.kernel.invokeFunction('convertToInteractive',\n",
              "                                                     [key], {});\n",
              "          if (!dataTable) return;\n",
              "\n",
              "          const docLinkHtml = 'Like what you see? Visit the ' +\n",
              "            '<a target=\"_blank\" href=https://colab.research.google.com/notebooks/data_table.ipynb>data table notebook</a>'\n",
              "            + ' to learn more about interactive tables.';\n",
              "          element.innerHTML = '';\n",
              "          dataTable['output_type'] = 'display_data';\n",
              "          await google.colab.output.renderOutput(dataTable, element);\n",
              "          const docLink = document.createElement('div');\n",
              "          docLink.innerHTML = docLinkHtml;\n",
              "          element.appendChild(docLink);\n",
              "        }\n",
              "      </script>\n",
              "    </div>\n",
              "  </div>\n",
              "  "
            ]
          },
          "metadata": {},
          "execution_count": 14
        }
      ]
    },
    {
      "cell_type": "code",
      "source": [
        "from sklearn.utils import shuffle\n",
        "seed=42\n",
        "new_x_train = shuffle(x_train,random_state=seed)\n",
        "new_y_train = shuffle(df_train,random_state=seed)\n",
        "new_x_train = new_x_train.reset_index(drop=True)\n",
        "new_y_train = new_y_train.reset_index(drop=True)\n",
        "\"\"\"\n",
        "y_train=df_train.to_numpy()\n",
        "y_train=y_train.reshape(1860,)\n",
        "y_train, y_train.shape\n",
        "\"\"\""
      ],
      "metadata": {
        "colab": {
          "base_uri": "https://localhost:8080/",
          "height": 36
        },
        "id": "p5veJq2ei1vA",
        "outputId": "edfd7f31-2b7c-49a8-a56a-bc87ae5f9bd1"
      },
      "execution_count": 15,
      "outputs": [
        {
          "output_type": "execute_result",
          "data": {
            "text/plain": [
              "'\\ny_train=df_train.to_numpy()\\ny_train=y_train.reshape(1860,)\\ny_train, y_train.shape\\n'"
            ],
            "application/vnd.google.colaboratory.intrinsic+json": {
              "type": "string"
            }
          },
          "metadata": {},
          "execution_count": 15
        }
      ]
    },
    {
      "cell_type": "code",
      "source": [
        "len(new_y_train)"
      ],
      "metadata": {
        "colab": {
          "base_uri": "https://localhost:8080/"
        },
        "id": "pFfSFyo-7NfO",
        "outputId": "44529ec3-8f87-4d2b-97a1-ad2e4ea1c9ce"
      },
      "execution_count": 16,
      "outputs": [
        {
          "output_type": "execute_result",
          "data": {
            "text/plain": [
              "1860"
            ]
          },
          "metadata": {},
          "execution_count": 16
        }
      ]
    },
    {
      "cell_type": "code",
      "source": [
        "from sklearn.preprocessing import StandardScaler, MinMaxScaler\n",
        "scaler = MinMaxScaler(feature_range=(0, 1))\n",
        "new_x_train = scaler.fit_transform(new_x_train)\n",
        "X_test = scaler.transform(x_test)"
      ],
      "metadata": {
        "id": "wPUM0nKyxmkZ"
      },
      "execution_count": 17,
      "outputs": []
    },
    {
      "cell_type": "code",
      "source": [
        "y_train=df_train.to_numpy()\n",
        "y_train=y_train.reshape(1860,)\n",
        "y_train, y_train.shape"
      ],
      "metadata": {
        "colab": {
          "base_uri": "https://localhost:8080/"
        },
        "id": "4UmZkWm-tMOU",
        "outputId": "5416c6f7-5400-4390-b9e1-2795b54ec6c0"
      },
      "execution_count": 18,
      "outputs": [
        {
          "output_type": "execute_result",
          "data": {
            "text/plain": [
              "(array([5, 3, 4, ..., 4, 5, 2]), (1860,))"
            ]
          },
          "metadata": {},
          "execution_count": 18
        }
      ]
    },
    {
      "cell_type": "markdown",
      "source": [
        "# training machine learning"
      ],
      "metadata": {
        "id": "1hZPjTpT4lb3"
      }
    },
    {
      "cell_type": "code",
      "source": [
        "from sklearn.linear_model import LogisticRegression\n",
        "model = LogisticRegression(multi_class='multinomial')\n",
        "LR=model.fit(new_x_train,new_y_train)\n",
        "predictions = model.predict(x_test)\n",
        "#print(\"Restored model, accuracy: {:5.2f}%\".format(100*acc))"
      ],
      "metadata": {
        "id": "PS4PZtkj5G8k",
        "colab": {
          "base_uri": "https://localhost:8080/"
        },
        "outputId": "d71d2a6c-8595-4f16-fcfc-7273e868f0a6"
      },
      "execution_count": 19,
      "outputs": [
        {
          "output_type": "stream",
          "name": "stderr",
          "text": [
            "/usr/local/lib/python3.7/dist-packages/sklearn/utils/validation.py:993: DataConversionWarning: A column-vector y was passed when a 1d array was expected. Please change the shape of y to (n_samples, ), for example using ravel().\n",
            "  y = column_or_1d(y, warn=True)\n",
            "/usr/local/lib/python3.7/dist-packages/sklearn/base.py:444: UserWarning: X has feature names, but LogisticRegression was fitted without feature names\n",
            "  f\"X has feature names, but {self.__class__.__name__} was fitted without\"\n"
          ]
        }
      ]
    },
    {
      "cell_type": "code",
      "source": [
        "predictions"
      ],
      "metadata": {
        "colab": {
          "base_uri": "https://localhost:8080/"
        },
        "id": "ibm_g_O66uKI",
        "outputId": "882bfecd-a059-491a-8b4d-b779a8b592fb"
      },
      "execution_count": 20,
      "outputs": [
        {
          "output_type": "execute_result",
          "data": {
            "text/plain": [
              "array([2, 3, 5, 3, 2, 4, 1, 4, 0, 5, 0, 3, 1, 5, 3, 2, 1, 3, 1, 2, 4, 5,\n",
              "       5, 5, 1, 2, 1, 2, 2, 2, 2, 5, 3, 5, 3, 2, 1, 3, 4, 3, 1, 3, 0, 4,\n",
              "       1, 1, 0, 0, 4, 3, 1, 2, 4, 1, 3, 5, 2, 5, 2, 4, 0, 3, 5, 4, 3, 5,\n",
              "       5, 2, 3, 1, 5, 5, 5, 3, 3, 4, 1, 1, 5, 3, 2, 0, 5, 0, 3, 4, 1, 0,\n",
              "       5, 0, 1, 4, 1, 4, 3, 3, 1, 0, 4, 3, 1, 0, 2, 5, 0, 5, 1, 0, 1, 2,\n",
              "       3, 4, 4, 0, 4, 5, 1, 0, 2, 1, 4, 5, 5, 2, 1, 0, 3, 3, 2, 1, 4, 5,\n",
              "       4, 1, 2, 4, 3, 1, 4, 2, 4, 4, 3, 5, 2, 2, 0, 2, 5, 4, 4, 2, 1, 3,\n",
              "       1, 1, 4, 2, 0, 2, 5, 0, 2, 1, 3, 3, 2, 4, 3, 2, 4, 3, 1, 0, 2, 3,\n",
              "       1, 2, 2, 4, 1, 5, 5, 4, 2, 3, 4, 4, 5, 2, 4, 5, 2, 1, 1, 3, 4, 4,\n",
              "       3, 0, 2, 2, 3, 2, 1, 5, 3])"
            ]
          },
          "metadata": {},
          "execution_count": 20
        }
      ]
    },
    {
      "cell_type": "code",
      "source": [
        "from sklearn.metrics import classification_report, confusion_matrix,accuracy_score\n",
        "import seaborn as sn\n",
        "import matplotlib.pyplot as plt\n",
        "\n",
        "print(classification_report(y_test,predictions))\n",
        "\n",
        "acc = float(accuracy_score(y_test,predictions))*100\n",
        "print(\"----accuracy score %s ----\" % acc)\n",
        "\n",
        "cm = confusion_matrix(y_test,predictions)\n",
        "#df_cm = pd.DataFrame(cm)\n",
        "class_names = ['neutral','calm', 'happy','sad','angry', 'fearful' ]\n",
        "df_cm = pd.DataFrame(cm, index=class_names, columns=class_names,)\n",
        "sn.heatmap(df_cm, annot=True, fmt='')\n",
        "plt.show()"
      ],
      "metadata": {
        "colab": {
          "base_uri": "https://localhost:8080/",
          "height": 512
        },
        "id": "A9gR6pV063GP",
        "outputId": "e7aea853-50b1-4c8f-be84-cd582334a640"
      },
      "execution_count": 21,
      "outputs": [
        {
          "output_type": "stream",
          "name": "stdout",
          "text": [
            "              precision    recall  f1-score   support\n",
            "\n",
            "           0       0.95      0.95      0.95        22\n",
            "           1       0.95      0.97      0.96        37\n",
            "           2       1.00      1.00      1.00        40\n",
            "           3       0.92      0.95      0.93        37\n",
            "           4       0.97      1.00      0.99        35\n",
            "           5       0.97      0.89      0.93        36\n",
            "\n",
            "    accuracy                           0.96       207\n",
            "   macro avg       0.96      0.96      0.96       207\n",
            "weighted avg       0.96      0.96      0.96       207\n",
            "\n",
            "----accuracy score 96.1352657004831 ----\n"
          ]
        },
        {
          "output_type": "display_data",
          "data": {
            "text/plain": [
              "<Figure size 432x288 with 2 Axes>"
            ],
            "image/png": "[encoded data removed]"
          },
          "metadata": {
            "needs_background": "light"
          }
        }
      ]
    },
    {
      "cell_type": "code",
      "source": [
        "path='/content/drive/My Drive/fusion/fusion_model/logistic_regression/expert3'\n",
        "savedvX = joblib.dump(model, path)\n",
        "\n",
        "print(\"MODEL SAVED\")"
      ],
      "metadata": {
        "colab": {
          "base_uri": "https://localhost:8080/"
        },
        "id": "WFonuoIS7NTg",
        "outputId": "c3147980-fb44-4fd5-d063-b3d06855ffae"
      },
      "execution_count": 22,
      "outputs": [
        {
          "output_type": "stream",
          "name": "stdout",
          "text": [
            "MODEL SAVED\n"
          ]
        }
      ]
    },
    {
      "cell_type": "code",
      "source": [
        ""
      ],
      "metadata": {
        "id": "Bp4nDNcd7lc_"
      },
      "execution_count": null,
      "outputs": []
    }
  ]
}