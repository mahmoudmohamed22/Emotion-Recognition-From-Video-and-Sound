{
  "nbformat": 4,
  "nbformat_minor": 0,
  "metadata": {
    "colab": {
      "name": "video_emotion_recognition_change_dropout_2.ipynb",
      "provenance": [],
      "collapsed_sections": [],
      "machine_shape": "hm"
    },
    "kernelspec": {
      "name": "python3",
      "display_name": "Python 3"
    },
    "accelerator": "GPU"
  },
  "cells": [
    {
      "cell_type": "code",
      "source": [
        "from google.colab import drive\n",
        "drive.mount('/content/drive')"
      ],
      "metadata": {
        "colab": {
          "base_uri": "https://localhost:8080/"
        },
        "id": "o94I67GBPVfM",
        "outputId": "6d7f9d6b-b5ac-4df8-e696-5b6ef1817863"
      },
      "execution_count": 6,
      "outputs": [
        {
          "output_type": "stream",
          "name": "stdout",
          "text": [
            "Mounted at /content/drive\n"
          ]
        }
      ]
    },
    {
      "cell_type": "code",
      "source": [
        "# Discard the output of this cell.\n",
        "#%%capture\n",
        "\n",
        "# Install the required libraries.\n",
        "!pip install tensorflow opencv-contrib-python youtube-dl moviepy pydot\n",
        "!pip install git+https://github.com/TahaAnwar/pafy.git#egg=pafy"
      ],
      "metadata": {
        "colab": {
          "base_uri": "https://localhost:8080/"
        },
        "id": "6OQ7vRnzP6n8",
        "outputId": "8eb26ce4-c4c1-444a-fafc-77c1bcecfd9b"
      },
      "execution_count": 1,
      "outputs": [
        {
          "output_type": "stream",
          "name": "stdout",
          "text": [
            "Looking in indexes: https://pypi.org/simple, https://us-python.pkg.dev/colab-wheels/public/simple/\n",
            "Requirement already satisfied: tensorflow in /usr/local/lib/python3.7/dist-packages (2.8.2+zzzcolab20220527125636)\n",
            "Requirement already satisfied: opencv-contrib-python in /usr/local/lib/python3.7/dist-packages (4.1.2.30)\n",
            "Requirement already satisfied: youtube-dl in /usr/local/lib/python3.7/dist-packages (2021.12.17)\n",
            "Requirement already satisfied: moviepy in /usr/local/lib/python3.7/dist-packages (0.2.3.5)\n",
            "Requirement already satisfied: pydot in /usr/local/lib/python3.7/dist-packages (1.3.0)\n",
            "Requirement already satisfied: termcolor>=1.1.0 in /usr/local/lib/python3.7/dist-packages (from tensorflow) (1.1.0)\n",
            "Requirement already satisfied: google-pasta>=0.1.1 in /usr/local/lib/python3.7/dist-packages (from tensorflow) (0.2.0)\n",
            "Requirement already satisfied: astunparse>=1.6.0 in /usr/local/lib/python3.7/dist-packages (from tensorflow) (1.6.3)\n",
            "Requirement already satisfied: keras<2.9,>=2.8.0rc0 in /usr/local/lib/python3.7/dist-packages (from tensorflow) (2.8.0)\n",
            "Requirement already satisfied: tensorboard<2.9,>=2.8 in /usr/local/lib/python3.7/dist-packages (from tensorflow) (2.8.0)\n",
            "Requirement already satisfied: gast>=0.2.1 in /usr/local/lib/python3.7/dist-packages (from tensorflow) (0.5.3)\n",
            "Requirement already satisfied: tensorflow-io-gcs-filesystem>=0.23.1 in /usr/local/lib/python3.7/dist-packages (from tensorflow) (0.26.0)\n",
            "Requirement already satisfied: keras-preprocessing>=1.1.1 in /usr/local/lib/python3.7/dist-packages (from tensorflow) (1.1.2)\n",
            "Requirement already satisfied: typing-extensions>=3.6.6 in /usr/local/lib/python3.7/dist-packages (from tensorflow) (4.2.0)\n",
            "Requirement already satisfied: wrapt>=1.11.0 in /usr/local/lib/python3.7/dist-packages (from tensorflow) (1.14.1)\n",
            "Requirement already satisfied: libclang>=9.0.1 in /usr/local/lib/python3.7/dist-packages (from tensorflow) (14.0.1)\n",
            "Requirement already satisfied: opt-einsum>=2.3.2 in /usr/local/lib/python3.7/dist-packages (from tensorflow) (3.3.0)\n",
            "Requirement already satisfied: tensorflow-estimator<2.9,>=2.8 in /usr/local/lib/python3.7/dist-packages (from tensorflow) (2.8.0)\n",
            "Requirement already satisfied: grpcio<2.0,>=1.24.3 in /usr/local/lib/python3.7/dist-packages (from tensorflow) (1.46.3)\n",
            "Requirement already satisfied: six>=1.12.0 in /usr/local/lib/python3.7/dist-packages (from tensorflow) (1.15.0)\n",
            "Requirement already satisfied: h5py>=2.9.0 in /usr/local/lib/python3.7/dist-packages (from tensorflow) (3.1.0)\n",
            "Requirement already satisfied: numpy>=1.20 in /usr/local/lib/python3.7/dist-packages (from tensorflow) (1.21.6)\n",
            "Requirement already satisfied: flatbuffers>=1.12 in /usr/local/lib/python3.7/dist-packages (from tensorflow) (2.0)\n",
            "Requirement already satisfied: absl-py>=0.4.0 in /usr/local/lib/python3.7/dist-packages (from tensorflow) (1.0.0)\n",
            "Requirement already satisfied: setuptools in /usr/local/lib/python3.7/dist-packages (from tensorflow) (57.4.0)\n",
            "Requirement already satisfied: protobuf<3.20,>=3.9.2 in /usr/local/lib/python3.7/dist-packages (from tensorflow) (3.17.3)\n",
            "Requirement already satisfied: wheel<1.0,>=0.23.0 in /usr/local/lib/python3.7/dist-packages (from astunparse>=1.6.0->tensorflow) (0.37.1)\n",
            "Requirement already satisfied: cached-property in /usr/local/lib/python3.7/dist-packages (from h5py>=2.9.0->tensorflow) (1.5.2)\n",
            "Requirement already satisfied: google-auth<3,>=1.6.3 in /usr/local/lib/python3.7/dist-packages (from tensorboard<2.9,>=2.8->tensorflow) (1.35.0)\n",
            "Requirement already satisfied: tensorboard-plugin-wit>=1.6.0 in /usr/local/lib/python3.7/dist-packages (from tensorboard<2.9,>=2.8->tensorflow) (1.8.1)\n",
            "Requirement already satisfied: google-auth-oauthlib<0.5,>=0.4.1 in /usr/local/lib/python3.7/dist-packages (from tensorboard<2.9,>=2.8->tensorflow) (0.4.6)\n",
            "Requirement already satisfied: werkzeug>=0.11.15 in /usr/local/lib/python3.7/dist-packages (from tensorboard<2.9,>=2.8->tensorflow) (1.0.1)\n",
            "Requirement already satisfied: requests<3,>=2.21.0 in /usr/local/lib/python3.7/dist-packages (from tensorboard<2.9,>=2.8->tensorflow) (2.23.0)\n",
            "Requirement already satisfied: tensorboard-data-server<0.7.0,>=0.6.0 in /usr/local/lib/python3.7/dist-packages (from tensorboard<2.9,>=2.8->tensorflow) (0.6.1)\n",
            "Requirement already satisfied: markdown>=2.6.8 in /usr/local/lib/python3.7/dist-packages (from tensorboard<2.9,>=2.8->tensorflow) (3.3.7)\n",
            "Requirement already satisfied: rsa<5,>=3.1.4 in /usr/local/lib/python3.7/dist-packages (from google-auth<3,>=1.6.3->tensorboard<2.9,>=2.8->tensorflow) (4.8)\n",
            "Requirement already satisfied: pyasn1-modules>=0.2.1 in /usr/local/lib/python3.7/dist-packages (from google-auth<3,>=1.6.3->tensorboard<2.9,>=2.8->tensorflow) (0.2.8)\n",
            "Requirement already satisfied: cachetools<5.0,>=2.0.0 in /usr/local/lib/python3.7/dist-packages (from google-auth<3,>=1.6.3->tensorboard<2.9,>=2.8->tensorflow) (4.2.4)\n",
            "Requirement already satisfied: requests-oauthlib>=0.7.0 in /usr/local/lib/python3.7/dist-packages (from google-auth-oauthlib<0.5,>=0.4.1->tensorboard<2.9,>=2.8->tensorflow) (1.3.1)\n",
            "Requirement already satisfied: importlib-metadata>=4.4 in /usr/local/lib/python3.7/dist-packages (from markdown>=2.6.8->tensorboard<2.9,>=2.8->tensorflow) (4.11.4)\n",
            "Requirement already satisfied: zipp>=0.5 in /usr/local/lib/python3.7/dist-packages (from importlib-metadata>=4.4->markdown>=2.6.8->tensorboard<2.9,>=2.8->tensorflow) (3.8.0)\n",
            "Requirement already satisfied: pyasn1<0.5.0,>=0.4.6 in /usr/local/lib/python3.7/dist-packages (from pyasn1-modules>=0.2.1->google-auth<3,>=1.6.3->tensorboard<2.9,>=2.8->tensorflow) (0.4.8)\n",
            "Requirement already satisfied: chardet<4,>=3.0.2 in /usr/local/lib/python3.7/dist-packages (from requests<3,>=2.21.0->tensorboard<2.9,>=2.8->tensorflow) (3.0.4)\n",
            "Requirement already satisfied: urllib3!=1.25.0,!=1.25.1,<1.26,>=1.21.1 in /usr/local/lib/python3.7/dist-packages (from requests<3,>=2.21.0->tensorboard<2.9,>=2.8->tensorflow) (1.24.3)\n",
            "Requirement already satisfied: idna<3,>=2.5 in /usr/local/lib/python3.7/dist-packages (from requests<3,>=2.21.0->tensorboard<2.9,>=2.8->tensorflow) (2.10)\n",
            "Requirement already satisfied: certifi>=2017.4.17 in /usr/local/lib/python3.7/dist-packages (from requests<3,>=2.21.0->tensorboard<2.9,>=2.8->tensorflow) (2022.5.18.1)\n",
            "Requirement already satisfied: oauthlib>=3.0.0 in /usr/local/lib/python3.7/dist-packages (from requests-oauthlib>=0.7.0->google-auth-oauthlib<0.5,>=0.4.1->tensorboard<2.9,>=2.8->tensorflow) (3.2.0)\n",
            "Requirement already satisfied: tqdm<5.0,>=4.11.2 in /usr/local/lib/python3.7/dist-packages (from moviepy) (4.64.0)\n",
            "Requirement already satisfied: imageio<3.0,>=2.1.2 in /usr/local/lib/python3.7/dist-packages (from moviepy) (2.4.1)\n",
            "Requirement already satisfied: decorator<5.0,>=4.0.2 in /usr/local/lib/python3.7/dist-packages (from moviepy) (4.4.2)\n",
            "Requirement already satisfied: pillow in /usr/local/lib/python3.7/dist-packages (from imageio<3.0,>=2.1.2->moviepy) (7.1.2)\n",
            "Requirement already satisfied: pyparsing>=2.1.4 in /usr/local/lib/python3.7/dist-packages (from pydot) (3.0.9)\n",
            "Looking in indexes: https://pypi.org/simple, https://us-python.pkg.dev/colab-wheels/public/simple/\n",
            "Collecting pafy\n",
            "  Cloning https://github.com/TahaAnwar/pafy.git to /tmp/pip-install-upze_gfq/pafy_92765883dd984cd7b35157da72a31e82\n",
            "  Running command git clone -q https://github.com/TahaAnwar/pafy.git /tmp/pip-install-upze_gfq/pafy_92765883dd984cd7b35157da72a31e82\n"
          ]
        }
      ]
    },
    {
      "cell_type": "code",
      "source": [
        "# Import the required libraries.\n",
        "import os\n",
        "import cv2\n",
        "import pafy\n",
        "import math\n",
        "import random\n",
        "import numpy as np\n",
        "import datetime as dt\n",
        "import tensorflow as tf\n",
        "from collections import deque\n",
        "import matplotlib.pyplot as plt\n",
        "\n",
        "from moviepy.editor import *\n",
        "%matplotlib inline\n",
        "\n",
        "from sklearn.model_selection import train_test_split\n",
        "\n",
        "from tensorflow.keras.layers import *\n",
        "from tensorflow.keras.models import Sequential\n",
        "from tensorflow.keras.utils import to_categorical\n",
        "from tensorflow.keras.callbacks import EarlyStopping\n",
        "from tensorflow.keras.utils import plot_model"
      ],
      "metadata": {
        "id": "LiLwshTpP-OB"
      },
      "execution_count": 2,
      "outputs": []
    },
    {
      "cell_type": "code",
      "source": [
        "seed_constant = 27\n",
        "np.random.seed(seed_constant)\n",
        "random.seed(seed_constant)\n",
        "tf.random.set_seed(seed_constant)"
      ],
      "metadata": {
        "id": "u4EtD4rrQEnb"
      },
      "execution_count": 3,
      "outputs": []
    },
    {
      "cell_type": "code",
      "source": [
        "# Specify the height and width to which each video frame will be resized in our dataset.\n",
        "IMAGE_HEIGHT , IMAGE_WIDTH = 64, 64\n",
        "\n",
        "# Specify the number of frames of a video that will be fed to the model as one sequence.\n",
        "SEQUENCE_LENGTH = 30\n",
        "\n",
        "# Specify the directory containing the UCF50 dataset. \n",
        "#DATASET_DIR = \"/content/drive/MyDrive/videospeech_label\"\n",
        "\n",
        "# Specify the list containing the names of the classes used for training. Feel free to choose any set of classes.\n",
        "CLASSES_LIST = [\"neutral\", \"calm\", \"happy\", \"sad\",\"angry\",\"fearful\"]"
      ],
      "metadata": {
        "id": "7H6KBiblQKE9"
      },
      "execution_count": 4,
      "outputs": []
    },
    {
      "cell_type": "code",
      "source": [
        "import joblib\n",
        "features=joblib.load('/content/drive/My Drive/features_ravdess/original_data_set/features_data')\n",
        "labels=joblib.load('/content/drive/My Drive/features_ravdess/original_data_set/labels')\n",
        "video_file_path=joblib.load('/content/drive/My Drive/features_ravdess/original_data_set/video_path')"
      ],
      "metadata": {
        "id": "V_rh-id5cmwd"
      },
      "execution_count": 5,
      "outputs": []
    },
    {
      "cell_type": "code",
      "source": [
        "features = np.asarray(features)\n",
        "labels = np.array(labels)  "
      ],
      "metadata": {
        "id": "WI3wNd7zdKzJ"
      },
      "execution_count": 6,
      "outputs": []
    },
    {
      "cell_type": "code",
      "source": [
        "features.shape"
      ],
      "metadata": {
        "colab": {
          "base_uri": "https://localhost:8080/"
        },
        "id": "pnnmkPz5Qh75",
        "outputId": "dc669ace-3b1c-4fe9-b819-41b959154a54"
      },
      "execution_count": 7,
      "outputs": [
        {
          "output_type": "execute_result",
          "data": {
            "text/plain": [
              "(2068, 30, 64, 64, 3)"
            ]
          },
          "metadata": {},
          "execution_count": 7
        }
      ]
    },
    {
      "cell_type": "code",
      "source": [
        "labels.shape"
      ],
      "metadata": {
        "colab": {
          "base_uri": "https://localhost:8080/"
        },
        "id": "kSGvdE_hQklC",
        "outputId": "28b57d42-8cce-4530-ac41-d8683e02230b"
      },
      "execution_count": 8,
      "outputs": [
        {
          "output_type": "execute_result",
          "data": {
            "text/plain": [
              "(2068,)"
            ]
          },
          "metadata": {},
          "execution_count": 8
        }
      ]
    },
    {
      "cell_type": "code",
      "source": [
        "# Using Keras's to_categorical method to convert labels into one-hot-encoded vectors\n",
        "one_hot_encoded_labels = to_categorical(labels)"
      ],
      "metadata": {
        "id": "DGicVwcRQn9x"
      },
      "execution_count": 9,
      "outputs": []
    },
    {
      "cell_type": "code",
      "source": [
        "# Split the Data into Train ( 80% ) and Test Set ( 20% ).\n",
        "features_train, features_test, labels_train, labels_test = train_test_split(features, one_hot_encoded_labels,\n",
        "                                                                            test_size = 0.10, shuffle = True,\n",
        "                                                                            random_state = seed_constant)"
      ],
      "metadata": {
        "id": "pysOwWbgQrBv"
      },
      "execution_count": 10,
      "outputs": []
    },
    {
      "cell_type": "code",
      "source": [
        "def create_LRCN_model():\n",
        "    '''\n",
        "    This function will construct the required LRCN model.\n",
        "    Returns:\n",
        "        model: It is the required constructed LRCN model.\n",
        "    '''\n",
        "\n",
        "    # We will use a Sequential model for model construction.\n",
        "    model = Sequential()\n",
        "    \n",
        "    # Define the Model Architecture.\n",
        "    ########################################################################################################################\n",
        "    \n",
        "    model.add(TimeDistributed(Conv2D(16, (3, 3), padding='same',activation = 'relu'),\n",
        "                              input_shape = (SEQUENCE_LENGTH, IMAGE_HEIGHT, IMAGE_WIDTH, 3)))\n",
        "    \n",
        "    model.add(TimeDistributed(MaxPooling2D((4, 4)))) \n",
        "    model.add(TimeDistributed(Dropout(0.1)))\n",
        "    \n",
        "    model.add(TimeDistributed(Conv2D(32, (3, 3), padding='same',activation = 'relu')))\n",
        "    model.add(TimeDistributed(MaxPooling2D((4, 4))))\n",
        "    model.add(TimeDistributed(Dropout(0.2)))\n",
        "    \n",
        "    model.add(TimeDistributed(Conv2D(64, (3, 3), padding='same',activation = 'relu')))\n",
        "    model.add(TimeDistributed(MaxPooling2D((2, 2))))\n",
        "    model.add(TimeDistributed(Dropout(0.3)))\n",
        "    \n",
        "    model.add(TimeDistributed(Conv2D(64, (3, 3), padding='same',activation = 'relu')))\n",
        "    model.add(TimeDistributed(MaxPooling2D((2, 2))))\n",
        "    #model.add(TimeDistributed(Dropout(0.25)))\n",
        "                                      \n",
        "    model.add(TimeDistributed(Flatten()))\n",
        "                                      \n",
        "    model.add(LSTM(32))\n",
        "                                      \n",
        "    model.add(Dense(len(CLASSES_LIST), activation = 'softmax'))\n",
        "\n",
        "    ########################################################################################################################\n",
        "\n",
        "    # Display the models summary.\n",
        "    model.summary()\n",
        "    \n",
        "    # Return the constructed LRCN model.\n",
        "    return model"
      ],
      "metadata": {
        "id": "01zL-4EVQt3J"
      },
      "execution_count": 11,
      "outputs": []
    },
    {
      "cell_type": "code",
      "source": [
        "# Construct the required LRCN model.\n",
        "LRCN_model = create_LRCN_model()\n",
        "\n",
        "# Display the success message.\n",
        "print(\"Model Created Successfully!\")"
      ],
      "metadata": {
        "colab": {
          "base_uri": "https://localhost:8080/"
        },
        "id": "sFdjcb8zQxX4",
        "outputId": "4485d9fc-e7a0-4c9d-cd47-30ee6dc911e9"
      },
      "execution_count": 12,
      "outputs": [
        {
          "output_type": "stream",
          "name": "stdout",
          "text": [
            "Model: \"sequential\"\n",
            "_________________________________________________________________\n",
            " Layer (type)                Output Shape              Param #   \n",
            "=================================================================\n",
            " time_distributed (TimeDistr  (None, 30, 64, 64, 16)   448       \n",
            " ibuted)                                                         \n",
            "                                                                 \n",
            " time_distributed_1 (TimeDis  (None, 30, 16, 16, 16)   0         \n",
            " tributed)                                                       \n",
            "                                                                 \n",
            " time_distributed_2 (TimeDis  (None, 30, 16, 16, 16)   0         \n",
            " tributed)                                                       \n",
            "                                                                 \n",
            " time_distributed_3 (TimeDis  (None, 30, 16, 16, 32)   4640      \n",
            " tributed)                                                       \n",
            "                                                                 \n",
            " time_distributed_4 (TimeDis  (None, 30, 4, 4, 32)     0         \n",
            " tributed)                                                       \n",
            "                                                                 \n",
            " time_distributed_5 (TimeDis  (None, 30, 4, 4, 32)     0         \n",
            " tributed)                                                       \n",
            "                                                                 \n",
            " time_distributed_6 (TimeDis  (None, 30, 4, 4, 64)     18496     \n",
            " tributed)                                                       \n",
            "                                                                 \n",
            " time_distributed_7 (TimeDis  (None, 30, 2, 2, 64)     0         \n",
            " tributed)                                                       \n",
            "                                                                 \n",
            " time_distributed_8 (TimeDis  (None, 30, 2, 2, 64)     0         \n",
            " tributed)                                                       \n",
            "                                                                 \n",
            " time_distributed_9 (TimeDis  (None, 30, 2, 2, 64)     36928     \n",
            " tributed)                                                       \n",
            "                                                                 \n",
            " time_distributed_10 (TimeDi  (None, 30, 1, 1, 64)     0         \n",
            " stributed)                                                      \n",
            "                                                                 \n",
            " time_distributed_11 (TimeDi  (None, 30, 64)           0         \n",
            " stributed)                                                      \n",
            "                                                                 \n",
            " lstm (LSTM)                 (None, 32)                12416     \n",
            "                                                                 \n",
            " dense (Dense)               (None, 6)                 198       \n",
            "                                                                 \n",
            "=================================================================\n",
            "Total params: 73,126\n",
            "Trainable params: 73,126\n",
            "Non-trainable params: 0\n",
            "_________________________________________________________________\n",
            "Model Created Successfully!\n"
          ]
        }
      ]
    },
    {
      "cell_type": "code",
      "source": [
        "# Create an Instance of Early Stopping Callback.\n",
        "early_stopping_callback = EarlyStopping(monitor = 'val_loss', patience = 25, mode = 'min', restore_best_weights = True)\n",
        " \n",
        "# Compile the model and specify loss function, optimizer and metrics to the model.\n",
        "LRCN_model.compile(loss = 'categorical_crossentropy', optimizer = 'Adam', metrics = [\"accuracy\"])\n",
        "\n",
        "# Start training the model.\n",
        "LRCN_model_training_history = LRCN_model.fit(x = features_train, y = labels_train, epochs = 100, batch_size = 4 ,\n",
        "                                             shuffle = True, validation_split = 0.1, callbacks = [early_stopping_callback])"
      ],
      "metadata": {
        "colab": {
          "base_uri": "https://localhost:8080/"
        },
        "id": "cVmXzItZQ4-r",
        "outputId": "a7277172-6c73-4511-8f11-c41f38a20afd"
      },
      "execution_count": 13,
      "outputs": [
        {
          "output_type": "stream",
          "name": "stdout",
          "text": [
            "Epoch 1/100\n",
            "419/419 [==============================] - 20s 14ms/step - loss: 1.7791 - accuracy: 0.1858 - val_loss: 1.7765 - val_accuracy: 0.1925\n",
            "Epoch 2/100\n",
            "419/419 [==============================] - 4s 11ms/step - loss: 1.7717 - accuracy: 0.1667 - val_loss: 1.7767 - val_accuracy: 0.1390\n",
            "Epoch 3/100\n",
            "419/419 [==============================] - 4s 11ms/step - loss: 1.7667 - accuracy: 0.1828 - val_loss: 1.7772 - val_accuracy: 0.2086\n",
            "Epoch 4/100\n",
            "419/419 [==============================] - 4s 11ms/step - loss: 1.7665 - accuracy: 0.1947 - val_loss: 1.7709 - val_accuracy: 0.1872\n",
            "Epoch 5/100\n",
            "419/419 [==============================] - 4s 11ms/step - loss: 1.7383 - accuracy: 0.2252 - val_loss: 1.6847 - val_accuracy: 0.2139\n",
            "Epoch 6/100\n",
            "419/419 [==============================] - 4s 11ms/step - loss: 1.6421 - accuracy: 0.2885 - val_loss: 1.5565 - val_accuracy: 0.3048\n",
            "Epoch 7/100\n",
            "419/419 [==============================] - 4s 11ms/step - loss: 1.5150 - accuracy: 0.3596 - val_loss: 1.4955 - val_accuracy: 0.3583\n",
            "Epoch 8/100\n",
            "419/419 [==============================] - 4s 11ms/step - loss: 1.4327 - accuracy: 0.3835 - val_loss: 1.4341 - val_accuracy: 0.3529\n",
            "Epoch 9/100\n",
            "419/419 [==============================] - 4s 11ms/step - loss: 1.3843 - accuracy: 0.4044 - val_loss: 1.4561 - val_accuracy: 0.3316\n",
            "Epoch 10/100\n",
            "419/419 [==============================] - 4s 11ms/step - loss: 1.3223 - accuracy: 0.4319 - val_loss: 1.3616 - val_accuracy: 0.4064\n",
            "Epoch 11/100\n",
            "419/419 [==============================] - 4s 11ms/step - loss: 1.3090 - accuracy: 0.4522 - val_loss: 1.3384 - val_accuracy: 0.3957\n",
            "Epoch 12/100\n",
            "419/419 [==============================] - 4s 11ms/step - loss: 1.2674 - accuracy: 0.4677 - val_loss: 1.2849 - val_accuracy: 0.4706\n",
            "Epoch 13/100\n",
            "419/419 [==============================] - 4s 11ms/step - loss: 1.2323 - accuracy: 0.4671 - val_loss: 1.3425 - val_accuracy: 0.4332\n",
            "Epoch 14/100\n",
            "419/419 [==============================] - 4s 11ms/step - loss: 1.1855 - accuracy: 0.5072 - val_loss: 1.2357 - val_accuracy: 0.4813\n",
            "Epoch 15/100\n",
            "419/419 [==============================] - 4s 11ms/step - loss: 1.1582 - accuracy: 0.5227 - val_loss: 1.3080 - val_accuracy: 0.4652\n",
            "Epoch 16/100\n",
            "419/419 [==============================] - 4s 11ms/step - loss: 1.1575 - accuracy: 0.5203 - val_loss: 1.3264 - val_accuracy: 0.4171\n",
            "Epoch 17/100\n",
            "419/419 [==============================] - 5s 11ms/step - loss: 1.0931 - accuracy: 0.5526 - val_loss: 1.2538 - val_accuracy: 0.4920\n",
            "Epoch 18/100\n",
            "419/419 [==============================] - 5s 11ms/step - loss: 1.0524 - accuracy: 0.5771 - val_loss: 1.2737 - val_accuracy: 0.4759\n",
            "Epoch 19/100\n",
            "419/419 [==============================] - 5s 11ms/step - loss: 1.0106 - accuracy: 0.5902 - val_loss: 1.1255 - val_accuracy: 0.5615\n",
            "Epoch 20/100\n",
            "419/419 [==============================] - 5s 11ms/step - loss: 0.9656 - accuracy: 0.6189 - val_loss: 1.1641 - val_accuracy: 0.5561\n",
            "Epoch 21/100\n",
            "419/419 [==============================] - 4s 11ms/step - loss: 0.9079 - accuracy: 0.6464 - val_loss: 1.0369 - val_accuracy: 0.5936\n",
            "Epoch 22/100\n",
            "419/419 [==============================] - 4s 11ms/step - loss: 0.8643 - accuracy: 0.6535 - val_loss: 0.9724 - val_accuracy: 0.6096\n",
            "Epoch 23/100\n",
            "419/419 [==============================] - 5s 11ms/step - loss: 0.8343 - accuracy: 0.6732 - val_loss: 0.9027 - val_accuracy: 0.6631\n",
            "Epoch 24/100\n",
            "419/419 [==============================] - 4s 11ms/step - loss: 0.7694 - accuracy: 0.6983 - val_loss: 1.0390 - val_accuracy: 0.5936\n",
            "Epoch 25/100\n",
            "419/419 [==============================] - 4s 11ms/step - loss: 0.7336 - accuracy: 0.7133 - val_loss: 0.8528 - val_accuracy: 0.6578\n",
            "Epoch 26/100\n",
            "419/419 [==============================] - 4s 11ms/step - loss: 0.6962 - accuracy: 0.7354 - val_loss: 0.8016 - val_accuracy: 0.6845\n",
            "Epoch 27/100\n",
            "419/419 [==============================] - 4s 11ms/step - loss: 0.6418 - accuracy: 0.7491 - val_loss: 0.7957 - val_accuracy: 0.7112\n",
            "Epoch 28/100\n",
            "419/419 [==============================] - 4s 11ms/step - loss: 0.6473 - accuracy: 0.7593 - val_loss: 0.9273 - val_accuracy: 0.6471\n",
            "Epoch 29/100\n",
            "419/419 [==============================] - 4s 11ms/step - loss: 0.5936 - accuracy: 0.7808 - val_loss: 0.6797 - val_accuracy: 0.7219\n",
            "Epoch 30/100\n",
            "419/419 [==============================] - 5s 11ms/step - loss: 0.5709 - accuracy: 0.7772 - val_loss: 0.8340 - val_accuracy: 0.6738\n",
            "Epoch 31/100\n",
            "419/419 [==============================] - 4s 11ms/step - loss: 0.5572 - accuracy: 0.7951 - val_loss: 0.7045 - val_accuracy: 0.7380\n",
            "Epoch 32/100\n",
            "419/419 [==============================] - 4s 11ms/step - loss: 0.5454 - accuracy: 0.7945 - val_loss: 0.8222 - val_accuracy: 0.7005\n",
            "Epoch 33/100\n",
            "419/419 [==============================] - 4s 11ms/step - loss: 0.5050 - accuracy: 0.8094 - val_loss: 0.7813 - val_accuracy: 0.7219\n",
            "Epoch 34/100\n",
            "419/419 [==============================] - 4s 11ms/step - loss: 0.4772 - accuracy: 0.8303 - val_loss: 0.8973 - val_accuracy: 0.6684\n",
            "Epoch 35/100\n",
            "419/419 [==============================] - 4s 11ms/step - loss: 0.4794 - accuracy: 0.8154 - val_loss: 0.7043 - val_accuracy: 0.7647\n",
            "Epoch 36/100\n",
            "419/419 [==============================] - 4s 11ms/step - loss: 0.4508 - accuracy: 0.8327 - val_loss: 0.9105 - val_accuracy: 0.6791\n",
            "Epoch 37/100\n",
            "419/419 [==============================] - 4s 11ms/step - loss: 0.4531 - accuracy: 0.8357 - val_loss: 0.7429 - val_accuracy: 0.7112\n",
            "Epoch 38/100\n",
            "419/419 [==============================] - 5s 11ms/step - loss: 0.4370 - accuracy: 0.8375 - val_loss: 0.6404 - val_accuracy: 0.7273\n",
            "Epoch 39/100\n",
            "419/419 [==============================] - 4s 11ms/step - loss: 0.3994 - accuracy: 0.8548 - val_loss: 0.6805 - val_accuracy: 0.7647\n",
            "Epoch 40/100\n",
            "419/419 [==============================] - 5s 11ms/step - loss: 0.3700 - accuracy: 0.8656 - val_loss: 0.7971 - val_accuracy: 0.7005\n",
            "Epoch 41/100\n",
            "419/419 [==============================] - 5s 11ms/step - loss: 0.3817 - accuracy: 0.8602 - val_loss: 0.6408 - val_accuracy: 0.7433\n",
            "Epoch 42/100\n",
            "419/419 [==============================] - 5s 11ms/step - loss: 0.3547 - accuracy: 0.8722 - val_loss: 0.6422 - val_accuracy: 0.7968\n",
            "Epoch 43/100\n",
            "419/419 [==============================] - 5s 11ms/step - loss: 0.3391 - accuracy: 0.8734 - val_loss: 0.7837 - val_accuracy: 0.7594\n",
            "Epoch 44/100\n",
            "419/419 [==============================] - 5s 11ms/step - loss: 0.3637 - accuracy: 0.8674 - val_loss: 0.7906 - val_accuracy: 0.7112\n",
            "Epoch 45/100\n",
            "419/419 [==============================] - 5s 11ms/step - loss: 0.3301 - accuracy: 0.8734 - val_loss: 0.7746 - val_accuracy: 0.7540\n",
            "Epoch 46/100\n",
            "419/419 [==============================] - 4s 11ms/step - loss: 0.3064 - accuracy: 0.8931 - val_loss: 0.8459 - val_accuracy: 0.7219\n",
            "Epoch 47/100\n",
            "419/419 [==============================] - 5s 11ms/step - loss: 0.2943 - accuracy: 0.8955 - val_loss: 0.8063 - val_accuracy: 0.7273\n",
            "Epoch 48/100\n",
            "419/419 [==============================] - 5s 11ms/step - loss: 0.3251 - accuracy: 0.8853 - val_loss: 0.6131 - val_accuracy: 0.8128\n",
            "Epoch 49/100\n",
            "419/419 [==============================] - 5s 11ms/step - loss: 0.3266 - accuracy: 0.8805 - val_loss: 0.7104 - val_accuracy: 0.7380\n",
            "Epoch 50/100\n",
            "419/419 [==============================] - 5s 11ms/step - loss: 0.2817 - accuracy: 0.8973 - val_loss: 0.7775 - val_accuracy: 0.7487\n",
            "Epoch 51/100\n",
            "419/419 [==============================] - 5s 11ms/step - loss: 0.2763 - accuracy: 0.9062 - val_loss: 0.6189 - val_accuracy: 0.7861\n",
            "Epoch 52/100\n",
            "419/419 [==============================] - 5s 11ms/step - loss: 0.2903 - accuracy: 0.8883 - val_loss: 0.6563 - val_accuracy: 0.7594\n",
            "Epoch 53/100\n",
            "419/419 [==============================] - 5s 11ms/step - loss: 0.2459 - accuracy: 0.9170 - val_loss: 0.6563 - val_accuracy: 0.7701\n",
            "Epoch 54/100\n",
            "419/419 [==============================] - 5s 11ms/step - loss: 0.2756 - accuracy: 0.9032 - val_loss: 0.6232 - val_accuracy: 0.7914\n",
            "Epoch 55/100\n",
            "419/419 [==============================] - 5s 11ms/step - loss: 0.2064 - accuracy: 0.9301 - val_loss: 0.6594 - val_accuracy: 0.7807\n",
            "Epoch 56/100\n",
            "419/419 [==============================] - 5s 11ms/step - loss: 0.2462 - accuracy: 0.9092 - val_loss: 0.6886 - val_accuracy: 0.7807\n",
            "Epoch 57/100\n",
            "419/419 [==============================] - 5s 11ms/step - loss: 0.2462 - accuracy: 0.9074 - val_loss: 0.6670 - val_accuracy: 0.7861\n",
            "Epoch 58/100\n",
            "419/419 [==============================] - 5s 11ms/step - loss: 0.2544 - accuracy: 0.9032 - val_loss: 0.7474 - val_accuracy: 0.7754\n",
            "Epoch 59/100\n",
            "419/419 [==============================] - 5s 11ms/step - loss: 0.2183 - accuracy: 0.9182 - val_loss: 0.9383 - val_accuracy: 0.7487\n",
            "Epoch 60/100\n",
            "419/419 [==============================] - 5s 11ms/step - loss: 0.2312 - accuracy: 0.9146 - val_loss: 0.6012 - val_accuracy: 0.8128\n",
            "Epoch 61/100\n",
            "419/419 [==============================] - 5s 11ms/step - loss: 0.2104 - accuracy: 0.9200 - val_loss: 0.7194 - val_accuracy: 0.7701\n",
            "Epoch 62/100\n",
            "419/419 [==============================] - 5s 11ms/step - loss: 0.2218 - accuracy: 0.9211 - val_loss: 0.8239 - val_accuracy: 0.7487\n",
            "Epoch 63/100\n",
            "419/419 [==============================] - 5s 11ms/step - loss: 0.2113 - accuracy: 0.9295 - val_loss: 0.6611 - val_accuracy: 0.7701\n",
            "Epoch 64/100\n",
            "419/419 [==============================] - 5s 11ms/step - loss: 0.2290 - accuracy: 0.9247 - val_loss: 0.7034 - val_accuracy: 0.7807\n",
            "Epoch 65/100\n",
            "419/419 [==============================] - 5s 11ms/step - loss: 0.2017 - accuracy: 0.9265 - val_loss: 0.8603 - val_accuracy: 0.7701\n",
            "Epoch 66/100\n",
            "419/419 [==============================] - 5s 11ms/step - loss: 0.1925 - accuracy: 0.9337 - val_loss: 0.6333 - val_accuracy: 0.8021\n",
            "Epoch 67/100\n",
            "419/419 [==============================] - 5s 11ms/step - loss: 0.1776 - accuracy: 0.9403 - val_loss: 0.6236 - val_accuracy: 0.8075\n",
            "Epoch 68/100\n",
            "419/419 [==============================] - 5s 11ms/step - loss: 0.1826 - accuracy: 0.9325 - val_loss: 0.6870 - val_accuracy: 0.8075\n",
            "Epoch 69/100\n",
            "419/419 [==============================] - 5s 11ms/step - loss: 0.1837 - accuracy: 0.9367 - val_loss: 0.9614 - val_accuracy: 0.7273\n",
            "Epoch 70/100\n",
            "419/419 [==============================] - 5s 11ms/step - loss: 0.2159 - accuracy: 0.9223 - val_loss: 0.8175 - val_accuracy: 0.7647\n",
            "Epoch 71/100\n",
            "419/419 [==============================] - 5s 11ms/step - loss: 0.1722 - accuracy: 0.9427 - val_loss: 0.8181 - val_accuracy: 0.7540\n",
            "Epoch 72/100\n",
            "419/419 [==============================] - 5s 11ms/step - loss: 0.1411 - accuracy: 0.9516 - val_loss: 0.6764 - val_accuracy: 0.8182\n",
            "Epoch 73/100\n",
            "419/419 [==============================] - 5s 11ms/step - loss: 0.2048 - accuracy: 0.9331 - val_loss: 0.6960 - val_accuracy: 0.7914\n",
            "Epoch 74/100\n",
            "419/419 [==============================] - 5s 11ms/step - loss: 0.1766 - accuracy: 0.9415 - val_loss: 0.8512 - val_accuracy: 0.7701\n",
            "Epoch 75/100\n",
            "419/419 [==============================] - 5s 11ms/step - loss: 0.1548 - accuracy: 0.9385 - val_loss: 0.7352 - val_accuracy: 0.7968\n",
            "Epoch 76/100\n",
            "419/419 [==============================] - 5s 11ms/step - loss: 0.1764 - accuracy: 0.9468 - val_loss: 0.8107 - val_accuracy: 0.7754\n",
            "Epoch 77/100\n",
            "419/419 [==============================] - 5s 11ms/step - loss: 0.1416 - accuracy: 0.9534 - val_loss: 0.6336 - val_accuracy: 0.7968\n",
            "Epoch 78/100\n",
            "419/419 [==============================] - 5s 11ms/step - loss: 0.1950 - accuracy: 0.9283 - val_loss: 0.7568 - val_accuracy: 0.7807\n",
            "Epoch 79/100\n",
            "419/419 [==============================] - 5s 11ms/step - loss: 0.1872 - accuracy: 0.9367 - val_loss: 0.7616 - val_accuracy: 0.7754\n",
            "Epoch 80/100\n",
            "419/419 [==============================] - 5s 11ms/step - loss: 0.1624 - accuracy: 0.9438 - val_loss: 0.7993 - val_accuracy: 0.7540\n",
            "Epoch 81/100\n",
            "419/419 [==============================] - 5s 11ms/step - loss: 0.1271 - accuracy: 0.9570 - val_loss: 0.8400 - val_accuracy: 0.7540\n",
            "Epoch 82/100\n",
            "419/419 [==============================] - 5s 11ms/step - loss: 0.1830 - accuracy: 0.9343 - val_loss: 0.8976 - val_accuracy: 0.7647\n",
            "Epoch 83/100\n",
            "419/419 [==============================] - 5s 11ms/step - loss: 0.1132 - accuracy: 0.9606 - val_loss: 0.7402 - val_accuracy: 0.8182\n",
            "Epoch 84/100\n",
            "419/419 [==============================] - 5s 11ms/step - loss: 0.2028 - accuracy: 0.9277 - val_loss: 0.7659 - val_accuracy: 0.8021\n",
            "Epoch 85/100\n",
            "419/419 [==============================] - 5s 11ms/step - loss: 0.1206 - accuracy: 0.9600 - val_loss: 0.8176 - val_accuracy: 0.7647\n"
          ]
        }
      ]
    },
    {
      "cell_type": "code",
      "source": [
        "# Evaluate the trained model.\n",
        "model_evaluation_history = LRCN_model.evaluate(features_test, labels_test)"
      ],
      "metadata": {
        "colab": {
          "base_uri": "https://localhost:8080/"
        },
        "id": "sa-sTkK6Q-ks",
        "outputId": "5b5d09c8-bc82-4b2d-a8c5-38a05d465e6f"
      },
      "execution_count": 14,
      "outputs": [
        {
          "output_type": "stream",
          "name": "stdout",
          "text": [
            "7/7 [==============================] - 0s 29ms/step - loss: 0.6779 - accuracy: 0.7874\n"
          ]
        }
      ]
    },
    {
      "cell_type": "code",
      "source": [
        "# Get the loss and accuracy from model_evaluation_history.\n",
        "model_evaluation_loss, model_evaluation_accuracy = model_evaluation_history\n",
        "\n",
        "# Define the string date format.\n",
        "# Get the current Date and Time in a DateTime Object.\n",
        "# Convert the DateTime object to string according to the style mentioned in date_time_format string.\n",
        "date_time_format = '%Y_%m_%d__%H_%M_%S'\n",
        "current_date_time_dt = dt.datetime.now()\n",
        "current_date_time_string = dt.datetime.strftime(current_date_time_dt, date_time_format)\n",
        "    \n",
        "# Define a useful name for our model to make it easy for us while navigating through multiple saved models.\n",
        "model_file_name = f'LRCN_model___Date_Time_{current_date_time_string}___Loss_{model_evaluation_loss}___Accuracy_{model_evaluation_accuracy}.h5'\n",
        "\n",
        "# Save the Model.\n",
        "LRCN_model.save(model_file_name)"
      ],
      "metadata": {
        "id": "D3J57fVJRCEa"
      },
      "execution_count": null,
      "outputs": []
    },
    {
      "cell_type": "code",
      "source": [
        "def plot_metric(model_training_history, metric_name_1, metric_name_2, plot_name):\n",
        "    '''\n",
        "    This function will plot the metrics passed to it in a graph.\n",
        "    Args:\n",
        "        model_training_history: A history object containing a record of training and validation \n",
        "                                loss values and metrics values at successive epochs\n",
        "        metric_name_1:          The name of the first metric that needs to be plotted in the graph.\n",
        "        metric_name_2:          The name of the second metric that needs to be plotted in the graph.\n",
        "        plot_name:              The title of the graph.\n",
        "    '''\n",
        "    \n",
        "    # Get metric values using metric names as identifiers.\n",
        "    metric_value_1 = model_training_history.history[metric_name_1]\n",
        "    metric_value_2 = model_training_history.history[metric_name_2]\n",
        "    \n",
        "    # Construct a range object which will be used as x-axis (horizontal plane) of the graph.\n",
        "    epochs = range(len(metric_value_1))\n",
        "\n",
        "    # Plot the Graph.\n",
        "    plt.plot(epochs, metric_value_1, 'blue', label = metric_name_1)\n",
        "    plt.plot(epochs, metric_value_2, 'red', label = metric_name_2)\n",
        "\n",
        "    # Add title to the plot.\n",
        "    plt.title(str(plot_name))\n",
        "\n",
        "    # Add legend to the plot.\n",
        "    plt.legend()"
      ],
      "metadata": {
        "id": "sXhBv91xRFgU"
      },
      "execution_count": 15,
      "outputs": []
    },
    {
      "cell_type": "code",
      "source": [
        "# Visualize the training and validation loss metrices.\n",
        "plot_metric(LRCN_model_training_history, 'loss', 'val_loss', 'Total Loss vs Total Validation Loss')"
      ],
      "metadata": {
        "colab": {
          "base_uri": "https://localhost:8080/",
          "height": 281
        },
        "id": "cKhf3si1RJUW",
        "outputId": "fad102f2-4a14-473b-e4a2-aaaa53f638c7"
      },
      "execution_count": 16,
      "outputs": [
        {
          "output_type": "display_data",
          "data": {
            "text/plain": [
              "<Figure size 432x288 with 1 Axes>"
            ],
            "image/png": "[encoded data removed]"
          },
          "metadata": {
            "needs_background": "light"
          }
        }
      ]
    },
    {
      "cell_type": "code",
      "source": [
        "# Visualize the training and validation accuracy metrices.\n",
        "plot_metric(LRCN_model_training_history, 'accuracy', 'val_accuracy', 'Total Accuracy vs Total Validation Accuracy')"
      ],
      "metadata": {
        "colab": {
          "base_uri": "https://localhost:8080/",
          "height": 281
        },
        "id": "5JB37wh3RLWX",
        "outputId": "a602cb88-d4ee-4801-a8a0-ff5f7e259df7"
      },
      "execution_count": 17,
      "outputs": [
        {
          "output_type": "display_data",
          "data": {
            "text/plain": [
              "<Figure size 432x288 with 1 Axes>"
            ],
            "image/png": "[encoded data removed]"
          },
          "metadata": {
            "needs_background": "light"
          }
        }
      ]
    },
    {
      "cell_type": "code",
      "source": [
        "predictions =  LRCN_model.predict(features_test)\n",
        "predictions\n"
      ],
      "metadata": {
        "colab": {
          "base_uri": "https://localhost:8080/"
        },
        "id": "yM7edJgyRf-P",
        "outputId": "59765ddb-4cc5-4d68-c389-6b9784ea3c82"
      },
      "execution_count": 18,
      "outputs": [
        {
          "output_type": "execute_result",
          "data": {
            "text/plain": [
              "array([[1.6548210e-03, 9.3747383e-01, 4.9229944e-04, 4.6497654e-02,\n",
              "        1.3370141e-02, 5.1116501e-04],\n",
              "       [3.5971403e-04, 6.9234247e-04, 3.3206805e-05, 9.9610883e-01,\n",
              "        1.6477221e-03, 1.1581426e-03],\n",
              "       [1.7153252e-06, 2.7771051e-05, 9.9946958e-01, 8.7347711e-05,\n",
              "        5.8540750e-06, 4.0779129e-04],\n",
              "       ...,\n",
              "       [4.3754000e-04, 3.7118062e-01, 4.1555303e-01, 2.7309207e-03,\n",
              "        9.4408922e-02, 1.1568899e-01],\n",
              "       [5.7015732e-06, 3.7448716e-04, 9.9954200e-01, 3.5295279e-06,\n",
              "        1.0052594e-06, 7.3199495e-05],\n",
              "       [1.3801258e-03, 8.3877397e-01, 1.5761185e-01, 8.6410675e-04,\n",
              "        1.1994726e-03, 1.7033616e-04]], dtype=float32)"
            ]
          },
          "metadata": {},
          "execution_count": 18
        }
      ]
    },
    {
      "cell_type": "code",
      "source": [
        "preds=predictions.argmax(axis=1)\n",
        "preds"
      ],
      "metadata": {
        "colab": {
          "base_uri": "https://localhost:8080/"
        },
        "id": "DNHaLfq2RjeT",
        "outputId": "d658ea2b-3423-4adb-f1a8-b77e9df6d0c4"
      },
      "execution_count": 19,
      "outputs": [
        {
          "output_type": "execute_result",
          "data": {
            "text/plain": [
              "array([1, 3, 2, 3, 5, 2, 4, 1, 3, 0, 3, 0, 2, 0, 5, 3, 3, 1, 1, 0, 5, 5,\n",
              "       0, 2, 2, 3, 4, 4, 4, 5, 4, 4, 5, 3, 5, 2, 4, 1, 2, 4, 2, 2, 1, 3,\n",
              "       1, 1, 5, 5, 4, 3, 2, 2, 4, 3, 3, 0, 0, 0, 2, 5, 4, 5, 5, 3, 1, 3,\n",
              "       1, 0, 5, 1, 1, 2, 4, 5, 5, 4, 0, 3, 4, 5, 3, 3, 5, 0, 3, 1, 2, 3,\n",
              "       5, 4, 2, 1, 0, 1, 5, 3, 1, 2, 1, 5, 3, 5, 5, 5, 2, 3, 5, 1, 3, 2,\n",
              "       5, 4, 0, 1, 3, 0, 4, 4, 1, 1, 1, 5, 1, 5, 1, 5, 5, 2, 1, 1, 2, 1,\n",
              "       1, 2, 1, 0, 3, 0, 5, 1, 2, 2, 3, 3, 1, 2, 2, 0, 0, 3, 5, 5, 5, 5,\n",
              "       3, 2, 1, 4, 0, 0, 3, 3, 2, 2, 4, 1, 0, 0, 5, 4, 4, 5, 1, 4, 3, 1,\n",
              "       5, 0, 5, 5, 5, 0, 3, 3, 4, 3, 1, 4, 3, 4, 1, 4, 1, 0, 4, 4, 3, 1,\n",
              "       5, 5, 4, 2, 5, 2, 2, 2, 1])"
            ]
          },
          "metadata": {},
          "execution_count": 19
        }
      ]
    },
    {
      "cell_type": "code",
      "source": [
        "new_preds = preds.astype(int).flatten()\n",
        "new_preds"
      ],
      "metadata": {
        "colab": {
          "base_uri": "https://localhost:8080/"
        },
        "id": "0W618McKRl02",
        "outputId": "a7f2e20e-46fc-48f7-8b7d-9360d9605491"
      },
      "execution_count": 20,
      "outputs": [
        {
          "output_type": "execute_result",
          "data": {
            "text/plain": [
              "array([1, 3, 2, 3, 5, 2, 4, 1, 3, 0, 3, 0, 2, 0, 5, 3, 3, 1, 1, 0, 5, 5,\n",
              "       0, 2, 2, 3, 4, 4, 4, 5, 4, 4, 5, 3, 5, 2, 4, 1, 2, 4, 2, 2, 1, 3,\n",
              "       1, 1, 5, 5, 4, 3, 2, 2, 4, 3, 3, 0, 0, 0, 2, 5, 4, 5, 5, 3, 1, 3,\n",
              "       1, 0, 5, 1, 1, 2, 4, 5, 5, 4, 0, 3, 4, 5, 3, 3, 5, 0, 3, 1, 2, 3,\n",
              "       5, 4, 2, 1, 0, 1, 5, 3, 1, 2, 1, 5, 3, 5, 5, 5, 2, 3, 5, 1, 3, 2,\n",
              "       5, 4, 0, 1, 3, 0, 4, 4, 1, 1, 1, 5, 1, 5, 1, 5, 5, 2, 1, 1, 2, 1,\n",
              "       1, 2, 1, 0, 3, 0, 5, 1, 2, 2, 3, 3, 1, 2, 2, 0, 0, 3, 5, 5, 5, 5,\n",
              "       3, 2, 1, 4, 0, 0, 3, 3, 2, 2, 4, 1, 0, 0, 5, 4, 4, 5, 1, 4, 3, 1,\n",
              "       5, 0, 5, 5, 5, 0, 3, 3, 4, 3, 1, 4, 3, 4, 1, 4, 1, 0, 4, 4, 3, 1,\n",
              "       5, 5, 4, 2, 5, 2, 2, 2, 1])"
            ]
          },
          "metadata": {},
          "execution_count": 20
        }
      ]
    },
    {
      "cell_type": "code",
      "source": [
        "\n",
        "from sklearn.metrics import classification_report, confusion_matrix,accuracy_score\n",
        "import seaborn as sn\n",
        "import pandas as pd\n",
        "import numpy as np\n",
        "new_labels=np.argmax(labels_test, axis=1)\n",
        "print(classification_report(new_labels,new_preds))\n",
        "\n",
        "acc = float(accuracy_score(new_labels,new_preds))*100\n",
        "print(\"----accuracy score %s ----\" % acc)\n",
        "\n",
        "cm = confusion_matrix(new_labels,new_preds)\n",
        "#df_cm = pd.DataFrame(cm)\n",
        "class_names = ['neutral','calm', 'happy','sad','angry', 'fearful' ]\n",
        "df_cm = pd.DataFrame(cm, index=class_names, columns=class_names,)\n",
        "sn.heatmap(df_cm, annot=True, fmt='')\n",
        "plt.show()\n"
      ],
      "metadata": {
        "colab": {
          "base_uri": "https://localhost:8080/",
          "height": 512
        },
        "id": "cTET95L8RoVW",
        "outputId": "eafef038-2a5c-430a-9258-e6a447bae832"
      },
      "execution_count": 21,
      "outputs": [
        {
          "output_type": "stream",
          "name": "stdout",
          "text": [
            "              precision    recall  f1-score   support\n",
            "\n",
            "           0       0.88      0.81      0.85        27\n",
            "           1       0.88      0.80      0.83        44\n",
            "           2       0.88      0.88      0.88        32\n",
            "           3       0.70      0.70      0.70        37\n",
            "           4       0.77      0.72      0.74        32\n",
            "           5       0.67      0.83      0.74        35\n",
            "\n",
            "    accuracy                           0.79       207\n",
            "   macro avg       0.80      0.79      0.79       207\n",
            "weighted avg       0.79      0.79      0.79       207\n",
            "\n",
            "----accuracy score 78.74396135265701 ----\n"
          ]
        },
        {
          "output_type": "display_data",
          "data": {
            "text/plain": [
              "<Figure size 432x288 with 2 Axes>"
            ],
            "image/png": "[encoded data removed]"
          },
          "metadata": {
            "needs_background": "light"
          }
        }
      ]
    },
    {
      "cell_type": "code",
      "source": [
        ""
      ],
      "metadata": {
        "id": "c3nbyK6BfnDR"
      },
      "execution_count": null,
      "outputs": []
    }
  ]
}