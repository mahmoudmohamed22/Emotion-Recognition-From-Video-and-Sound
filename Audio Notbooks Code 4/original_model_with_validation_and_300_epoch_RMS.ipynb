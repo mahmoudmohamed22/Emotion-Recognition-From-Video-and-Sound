{
  "nbformat": 4,
  "nbformat_minor": 0,
  "metadata": {
    "colab": {
      "name": "original model with validation and 300 epoch_RMS",
      "provenance": [],
      "collapsed_sections": []
    },
    "kernelspec": {
      "name": "python3",
      "display_name": "Python 3"
    },
    "language_info": {
      "name": "python"
    }
  },
  "cells": [
    {
      "cell_type": "code",
      "execution_count": 1,
      "metadata": {
        "colab": {
          "base_uri": "https://localhost:8080/"
        },
        "id": "9SRCO-a_AlH5",
        "outputId": "7c374c79-b7e1-4cfd-e3ed-ea91ea426668"
      },
      "outputs": [
        {
          "output_type": "stream",
          "name": "stdout",
          "text": [
            "Mounted at /content/drive\n"
          ]
        }
      ],
      "source": [
        "from google.colab import drive\n",
        "drive.mount('/content/drive')"
      ]
    },
    {
      "cell_type": "code",
      "source": [
        "!pip install librosa"
      ],
      "metadata": {
        "colab": {
          "base_uri": "https://localhost:8080/"
        },
        "id": "oi8pWV3yBVjO",
        "outputId": "d62db882-d485-432e-f7b7-8a88adfc71dd"
      },
      "execution_count": 2,
      "outputs": [
        {
          "output_type": "stream",
          "name": "stdout",
          "text": [
            "Requirement already satisfied: librosa in /usr/local/lib/python3.7/dist-packages (0.8.1)\n",
            "Requirement already satisfied: audioread>=2.0.0 in /usr/local/lib/python3.7/dist-packages (from librosa) (2.1.9)\n",
            "Requirement already satisfied: scikit-learn!=0.19.0,>=0.14.0 in /usr/local/lib/python3.7/dist-packages (from librosa) (1.0.2)\n",
            "Requirement already satisfied: resampy>=0.2.2 in /usr/local/lib/python3.7/dist-packages (from librosa) (0.2.2)\n",
            "Requirement already satisfied: joblib>=0.14 in /usr/local/lib/python3.7/dist-packages (from librosa) (1.1.0)\n",
            "Requirement already satisfied: numba>=0.43.0 in /usr/local/lib/python3.7/dist-packages (from librosa) (0.51.2)\n",
            "Requirement already satisfied: pooch>=1.0 in /usr/local/lib/python3.7/dist-packages (from librosa) (1.6.0)\n",
            "Requirement already satisfied: packaging>=20.0 in /usr/local/lib/python3.7/dist-packages (from librosa) (21.3)\n",
            "Requirement already satisfied: decorator>=3.0.0 in /usr/local/lib/python3.7/dist-packages (from librosa) (4.4.2)\n",
            "Requirement already satisfied: numpy>=1.15.0 in /usr/local/lib/python3.7/dist-packages (from librosa) (1.21.5)\n",
            "Requirement already satisfied: soundfile>=0.10.2 in /usr/local/lib/python3.7/dist-packages (from librosa) (0.10.3.post1)\n",
            "Requirement already satisfied: scipy>=1.0.0 in /usr/local/lib/python3.7/dist-packages (from librosa) (1.4.1)\n",
            "Requirement already satisfied: setuptools in /usr/local/lib/python3.7/dist-packages (from numba>=0.43.0->librosa) (57.4.0)\n",
            "Requirement already satisfied: llvmlite<0.35,>=0.34.0.dev0 in /usr/local/lib/python3.7/dist-packages (from numba>=0.43.0->librosa) (0.34.0)\n",
            "Requirement already satisfied: pyparsing!=3.0.5,>=2.0.2 in /usr/local/lib/python3.7/dist-packages (from packaging>=20.0->librosa) (3.0.7)\n",
            "Requirement already satisfied: requests>=2.19.0 in /usr/local/lib/python3.7/dist-packages (from pooch>=1.0->librosa) (2.23.0)\n",
            "Requirement already satisfied: appdirs>=1.3.0 in /usr/local/lib/python3.7/dist-packages (from pooch>=1.0->librosa) (1.4.4)\n",
            "Requirement already satisfied: certifi>=2017.4.17 in /usr/local/lib/python3.7/dist-packages (from requests>=2.19.0->pooch>=1.0->librosa) (2021.10.8)\n",
            "Requirement already satisfied: chardet<4,>=3.0.2 in /usr/local/lib/python3.7/dist-packages (from requests>=2.19.0->pooch>=1.0->librosa) (3.0.4)\n",
            "Requirement already satisfied: idna<3,>=2.5 in /usr/local/lib/python3.7/dist-packages (from requests>=2.19.0->pooch>=1.0->librosa) (2.10)\n",
            "Requirement already satisfied: urllib3!=1.25.0,!=1.25.1,<1.26,>=1.21.1 in /usr/local/lib/python3.7/dist-packages (from requests>=2.19.0->pooch>=1.0->librosa) (1.24.3)\n",
            "Requirement already satisfied: six>=1.3 in /usr/local/lib/python3.7/dist-packages (from resampy>=0.2.2->librosa) (1.15.0)\n",
            "Requirement already satisfied: threadpoolctl>=2.0.0 in /usr/local/lib/python3.7/dist-packages (from scikit-learn!=0.19.0,>=0.14.0->librosa) (3.1.0)\n",
            "Requirement already satisfied: cffi>=1.0 in /usr/local/lib/python3.7/dist-packages (from soundfile>=0.10.2->librosa) (1.15.0)\n",
            "Requirement already satisfied: pycparser in /usr/local/lib/python3.7/dist-packages (from cffi>=1.0->soundfile>=0.10.2->librosa) (2.21)\n"
          ]
        }
      ]
    },
    {
      "cell_type": "code",
      "source": [
        ""
      ],
      "metadata": {
        "id": "wsaoikiQGfqd"
      },
      "execution_count": null,
      "outputs": []
    },
    {
      "cell_type": "code",
      "metadata": {
        "id": "HJjcbxwy46bG",
        "colab": {
          "base_uri": "https://localhost:8080/",
          "height": 17
        },
        "outputId": "3420bf98-c4bc-49b9-878e-c7af48dc0632"
      },
      "source": [
        "# Orignial Notebook: https://github.com/MITESHPUTHRANNEU/Speech-Emotion-Analyzer/blob/master/final_results_gender_test.ipynb\n",
        "# This notebook author: Reza Chu\n",
        "# Last Editing Date: 31st May 2019\n",
        "\n",
        "## Python\n",
        "import os\n",
        "import random\n",
        "import sys\n",
        "\n",
        "import IPython\n",
        "from IPython.display import Audio\n",
        "from IPython.display import Image\n",
        "import matplotlib.pyplot as plt\n",
        "\n",
        "## Package\n",
        "import glob \n",
        "import keras\n",
        "import IPython.display as ipd\n",
        "import librosa\n",
        "import librosa.display\n",
        "import matplotlib.pyplot as plt\n",
        "import numpy as np\n",
        "import pandas as pd\n",
        "import plotly.graph_objs as go\n",
        "import plotly.offline as py\n",
        "import plotly.tools as tls\n",
        "import seaborn as sns\n",
        "import scipy.io.wavfile\n",
        "import tensorflow as tf\n",
        "py.init_notebook_mode(connected=True)\n",
        "\n",
        "## Keras\n",
        "from keras import regularizers\n",
        "from keras.callbacks import ModelCheckpoint, LearningRateScheduler, EarlyStopping\n",
        "from keras.callbacks import  History, ReduceLROnPlateau, CSVLogger\n",
        "from keras.models import Model, Sequential\n",
        "from keras.layers import Dense, Embedding, LSTM\n",
        "from keras.layers import Input, Flatten, Dropout, Activation, BatchNormalization\n",
        "from keras.layers import Conv1D, MaxPooling1D, AveragePooling1D\n",
        "from keras.preprocessing import sequence\n",
        "from keras.preprocessing.sequence import pad_sequences\n",
        "from keras.preprocessing.text import Tokenizer\n",
        "from keras.utils import np_utils\n",
        "from tensorflow.keras.utils import to_categorical\n",
        "\n",
        "## Sklearn\n",
        "from sklearn.metrics import confusion_matrix\n",
        "from sklearn.preprocessing import LabelEncoder\n",
        "\n",
        "## Rest\n",
        "from scipy.fftpack import fft\n",
        "from scipy import signal\n",
        "from scipy.io import wavfile\n",
        "from tqdm import tqdm\n",
        "\n",
        "input_duration=3\n",
        "# % pylab inline"
      ],
      "execution_count": 3,
      "outputs": [
        {
          "output_type": "display_data",
          "data": {
            "text/html": [
              "        <script type=\"text/javascript\">\n",
              "        window.PlotlyConfig = {MathJaxConfig: 'local'};\n",
              "        if (window.MathJax) {MathJax.Hub.Config({SVG: {font: \"STIX-Web\"}});}\n",
              "        if (typeof require !== 'undefined') {\n",
              "        require.undef(\"plotly\");\n",
              "        requirejs.config({\n",
              "            paths: {\n",
              "                'plotly': ['https://cdn.plot.ly/plotly-2.8.3.min']\n",
              "            }\n",
              "        });\n",
              "        require(['plotly'], function(Plotly) {\n",
              "            window._Plotly = Plotly;\n",
              "        });\n",
              "        }\n",
              "        </script>\n",
              "        "
            ]
          },
          "metadata": {}
        }
      ]
    },
    {
      "cell_type": "code",
      "source": [
        "#radvass speech and song\n",
        "import time\n",
        "import os\n",
        "import librosa\n",
        "from librosa import display\n",
        "import matplotlib.pyplot as plt\n",
        "\n",
        "count=0\n",
        "path1 = '/content/drive/My Drive/data_set/RAVDESS_speech'\n",
        "path2 = '/content/drive/My Drive/data_set/RAVDESS_song'\n",
        "\n",
        "lst = []\n",
        "\n",
        "start_time = time.time()\n",
        "\n",
        "for subdir, dirs, files in os.walk(path2):\n",
        "  print(dirs)\n",
        "  print(subdir)\n",
        "  #print(files)\n",
        "  for file in files:\n",
        "      try:\n",
        "        count +=1\n",
        "        #Load librosa array, obtain mfcss, store the file and the mcss information in a new array\n",
        "        X, sample_rate = librosa.load(os.path.join(subdir,file), res_type='kaiser_fast')\n",
        "        mfccs = np.mean(librosa.feature.mfcc(y=X, sr=sample_rate, n_mfcc=40).T,axis=0) \n",
        "        # The instruction below converts the labels (from 1 to 8) to a series from 0 to 7\n",
        "        # This is because our predictor needs to start from 0 otherwise it will try to predict also 0.\n",
        "        file = int(file[7:8]) - 1 \n",
        "        arr = mfccs, file\n",
        "        lst.append(arr)\n",
        "      # If the file is not valid, skip it\n",
        "      except ValueError:\n",
        "        continue\n",
        "\n",
        "for subdir, dirs, files in os.walk(path1):\n",
        "  print(dirs)\n",
        "  print(subdir)\n",
        " # print(files)\n",
        "  for file in files:\n",
        "      try:\n",
        "        #Load librosa array, obtain mfcss, store the file and the mcss information in a new array\n",
        "        X, sample_rate = librosa.load(os.path.join(subdir,file), res_type='kaiser_fast')\n",
        "        mfccs = np.mean(librosa.feature.mfcc(y=X, sr=sample_rate, n_mfcc=40).T,axis=0) \n",
        "        # The instruction below converts the labels (from 1 to 8) to a series from 0 to 7\n",
        "        # This is because our predictor needs to start from 0 otherwise it will try to predict also 0.\n",
        "        file = int(file[7:8]) - 1 \n",
        "        if(file ==6 or file==7):\n",
        "          continue\n",
        "        count +=1\n",
        "        arr = mfccs, file\n",
        "        lst.append(arr)\n",
        "      # If the file is not valid, skip it\n",
        "      except ValueError:\n",
        "        continue\n",
        "\n",
        "\n",
        "\n",
        "print(\"--- Data loaded. Loading time: %s seconds ---\" % (time.time() - start_time))"
      ],
      "metadata": {
        "colab": {
          "base_uri": "https://localhost:8080/"
        },
        "id": "IfuyRZl42ccZ",
        "outputId": "fb32e6f2-18ea-42f7-e4ae-0d282a63e9c6"
      },
      "execution_count": 4,
      "outputs": [
        {
          "output_type": "stream",
          "name": "stdout",
          "text": [
            "['Actor_10', 'Actor_11', 'Actor_13', 'Actor_12', 'Actor_14', 'Actor_15', 'Actor_16', 'Actor_17', 'Actor_18', 'Actor_19', 'Actor_21', 'Actor_22', 'Actor_23', 'Actor_09', 'Actor_24', 'Actor_04', 'Actor_08', 'Actor_03', 'Actor_02', 'Actor_06', 'Actor_05', 'Actor_01', 'Actor_07', 'Actor_20']\n",
            "/content/drive/My Drive/data_set/RAVDESS_song\n",
            "[]\n",
            "/content/drive/My Drive/data_set/RAVDESS_song/Actor_10\n",
            "[]\n",
            "/content/drive/My Drive/data_set/RAVDESS_song/Actor_11\n",
            "[]\n",
            "/content/drive/My Drive/data_set/RAVDESS_song/Actor_13\n",
            "[]\n",
            "/content/drive/My Drive/data_set/RAVDESS_song/Actor_12\n",
            "[]\n",
            "/content/drive/My Drive/data_set/RAVDESS_song/Actor_14\n",
            "[]\n",
            "/content/drive/My Drive/data_set/RAVDESS_song/Actor_15\n",
            "[]\n",
            "/content/drive/My Drive/data_set/RAVDESS_song/Actor_16\n",
            "[]\n",
            "/content/drive/My Drive/data_set/RAVDESS_song/Actor_17\n",
            "[]\n",
            "/content/drive/My Drive/data_set/RAVDESS_song/Actor_18\n",
            "[]\n",
            "/content/drive/My Drive/data_set/RAVDESS_song/Actor_19\n",
            "[]\n",
            "/content/drive/My Drive/data_set/RAVDESS_song/Actor_21\n",
            "[]\n",
            "/content/drive/My Drive/data_set/RAVDESS_song/Actor_22\n",
            "[]\n",
            "/content/drive/My Drive/data_set/RAVDESS_song/Actor_23\n",
            "[]\n",
            "/content/drive/My Drive/data_set/RAVDESS_song/Actor_09\n",
            "[]\n",
            "/content/drive/My Drive/data_set/RAVDESS_song/Actor_24\n",
            "[]\n",
            "/content/drive/My Drive/data_set/RAVDESS_song/Actor_04\n",
            "[]\n",
            "/content/drive/My Drive/data_set/RAVDESS_song/Actor_08\n",
            "[]\n",
            "/content/drive/My Drive/data_set/RAVDESS_song/Actor_03\n",
            "[]\n",
            "/content/drive/My Drive/data_set/RAVDESS_song/Actor_02\n",
            "[]\n",
            "/content/drive/My Drive/data_set/RAVDESS_song/Actor_06\n",
            "[]\n",
            "/content/drive/My Drive/data_set/RAVDESS_song/Actor_05\n",
            "[]\n",
            "/content/drive/My Drive/data_set/RAVDESS_song/Actor_01\n",
            "[]\n",
            "/content/drive/My Drive/data_set/RAVDESS_song/Actor_07\n",
            "[]\n",
            "/content/drive/My Drive/data_set/RAVDESS_song/Actor_20\n",
            "['Actor_05', 'Actor_08', 'Actor_10', 'Actor_04', 'Actor_09', 'Actor_14', 'Actor_12', 'Actor_13', 'Actor_11', 'Actor_06', 'Actor_24', 'Actor_07', 'Actor_23', 'Actor_22', 'Actor_21', 'Actor_20', 'Actor_02', 'Actor_19', 'Actor_18', 'Actor_17', 'Actor_16', 'Actor_15', 'Actor_03', 'Actor_01']\n",
            "/content/drive/My Drive/data_set/RAVDESS_speech\n",
            "[]\n",
            "/content/drive/My Drive/data_set/RAVDESS_speech/Actor_05\n",
            "[]\n",
            "/content/drive/My Drive/data_set/RAVDESS_speech/Actor_08\n",
            "[]\n",
            "/content/drive/My Drive/data_set/RAVDESS_speech/Actor_10\n",
            "[]\n",
            "/content/drive/My Drive/data_set/RAVDESS_speech/Actor_04\n",
            "[]\n",
            "/content/drive/My Drive/data_set/RAVDESS_speech/Actor_09\n",
            "[]\n",
            "/content/drive/My Drive/data_set/RAVDESS_speech/Actor_14\n",
            "[]\n",
            "/content/drive/My Drive/data_set/RAVDESS_speech/Actor_12\n",
            "[]\n",
            "/content/drive/My Drive/data_set/RAVDESS_speech/Actor_13\n",
            "[]\n",
            "/content/drive/My Drive/data_set/RAVDESS_speech/Actor_11\n",
            "[]\n",
            "/content/drive/My Drive/data_set/RAVDESS_speech/Actor_06\n",
            "[]\n",
            "/content/drive/My Drive/data_set/RAVDESS_speech/Actor_24\n",
            "[]\n",
            "/content/drive/My Drive/data_set/RAVDESS_speech/Actor_07\n",
            "[]\n",
            "/content/drive/My Drive/data_set/RAVDESS_speech/Actor_23\n",
            "[]\n",
            "/content/drive/My Drive/data_set/RAVDESS_speech/Actor_22\n",
            "[]\n",
            "/content/drive/My Drive/data_set/RAVDESS_speech/Actor_21\n",
            "[]\n",
            "/content/drive/My Drive/data_set/RAVDESS_speech/Actor_20\n",
            "[]\n",
            "/content/drive/My Drive/data_set/RAVDESS_speech/Actor_02\n",
            "[]\n",
            "/content/drive/My Drive/data_set/RAVDESS_speech/Actor_19\n",
            "[]\n",
            "/content/drive/My Drive/data_set/RAVDESS_speech/Actor_18\n",
            "[]\n",
            "/content/drive/My Drive/data_set/RAVDESS_speech/Actor_17\n",
            "[]\n",
            "/content/drive/My Drive/data_set/RAVDESS_speech/Actor_16\n",
            "[]\n",
            "/content/drive/My Drive/data_set/RAVDESS_speech/Actor_15\n",
            "[]\n",
            "/content/drive/My Drive/data_set/RAVDESS_speech/Actor_03\n",
            "[]\n",
            "/content/drive/My Drive/data_set/RAVDESS_speech/Actor_01\n",
            "--- Data loaded. Loading time: 833.654878616333 seconds ---\n"
          ]
        }
      ]
    },
    {
      "cell_type": "code",
      "source": [
        "count"
      ],
      "metadata": {
        "id": "Ltlhi25L2AI5",
        "colab": {
          "base_uri": "https://localhost:8080/"
        },
        "outputId": "379d880e-d726-41a7-9625-9676ad5773a8"
      },
      "execution_count": 5,
      "outputs": [
        {
          "output_type": "execute_result",
          "data": {
            "text/plain": [
              "2068"
            ]
          },
          "metadata": {},
          "execution_count": 5
        }
      ]
    },
    {
      "cell_type": "code",
      "source": [
        "from numpy.core.fromnumeric import size\n",
        "size(lst)"
      ],
      "metadata": {
        "id": "HMOH7d7mzHB7",
        "colab": {
          "base_uri": "https://localhost:8080/"
        },
        "outputId": "e06a8a2a-9b51-4788-d102-1d1c6c985a3b"
      },
      "execution_count": 6,
      "outputs": [
        {
          "output_type": "stream",
          "name": "stderr",
          "text": [
            "/usr/local/lib/python3.7/dist-packages/numpy/core/fromnumeric.py:3208: VisibleDeprecationWarning:\n",
            "\n",
            "Creating an ndarray from ragged nested sequences (which is a list-or-tuple of lists-or-tuples-or ndarrays with different lengths or shapes) is deprecated. If you meant to do this, you must specify 'dtype=object' when creating the ndarray.\n",
            "\n"
          ]
        },
        {
          "output_type": "execute_result",
          "data": {
            "text/plain": [
              "4136"
            ]
          },
          "metadata": {},
          "execution_count": 6
        }
      ]
    },
    {
      "cell_type": "code",
      "source": [
        "# Creating X and y: zip makes a list of all the first elements, and a list of all the second elements.\n",
        "X, y = zip(*lst)"
      ],
      "metadata": {
        "id": "ocdL7tSTBoMt"
      },
      "execution_count": 7,
      "outputs": []
    },
    {
      "cell_type": "code",
      "source": [
        "import numpy as np\n",
        "X = np.asarray(X)\n",
        "y = np.asarray(y)\n",
        "X.shape, y.shape"
      ],
      "metadata": {
        "id": "vHKwUGTbBtnF",
        "colab": {
          "base_uri": "https://localhost:8080/"
        },
        "outputId": "4e7ef8cd-d6d1-4ab3-83b7-f2c6a41b7b24"
      },
      "execution_count": 8,
      "outputs": [
        {
          "output_type": "execute_result",
          "data": {
            "text/plain": [
              "((2068, 40), (2068,))"
            ]
          },
          "metadata": {},
          "execution_count": 8
        }
      ]
    },
    {
      "cell_type": "code",
      "source": [
        "X.shape"
      ],
      "metadata": {
        "id": "2sUCtbfMztE5",
        "colab": {
          "base_uri": "https://localhost:8080/"
        },
        "outputId": "e654c863-c5d1-4630-ea5f-61936088bbc8"
      },
      "execution_count": 9,
      "outputs": [
        {
          "output_type": "execute_result",
          "data": {
            "text/plain": [
              "(2068, 40)"
            ]
          },
          "metadata": {},
          "execution_count": 9
        }
      ]
    },
    {
      "cell_type": "code",
      "source": [
        "# Saving joblib files to not load them again with the loop above\n",
        "\n",
        "import joblib\n",
        "\n",
        "X_name = 'saveex5.joblib'\n",
        "y_name = 'saveey5.joblib'\n",
        "save_dir = '/content/drive/My Drive/graduation project/audio/improvement1/features'\n",
        "\n",
        "savedX = joblib.dump(X, os.path.join(save_dir, X_name))\n",
        "savedy = joblib.dump(y, os.path.join(save_dir, y_name))"
      ],
      "metadata": {
        "id": "UCzic8rlDcuk"
      },
      "execution_count": 10,
      "outputs": []
    },
    {
      "cell_type": "code",
      "source": [
        "# Loading saved models\n",
        "import joblib\n",
        "X = joblib.load('/content/drive/My Drive/models/CNN_2/last/features/speech&songx6.joblib')\n",
        "y = joblib.load('/content/drive/My Drive/models/CNN_2/last/features/speech&songy6.joblib')"
      ],
      "metadata": {
        "id": "Q35CN6zDrzg1"
      },
      "execution_count": 11,
      "outputs": []
    },
    {
      "cell_type": "code",
      "source": [
        "from sklearn.model_selection import train_test_split\n",
        "\n",
        "X_train, X_test, y_train, y_test = train_test_split(X,y, test_size=0.2,train_size=0.8, random_state=42)\n",
        "X_valid, X_test, y_valid, y_test = train_test_split(X_test,y_test, test_size=0.5,train_size=0.5, random_state=42)"
      ],
      "metadata": {
        "id": "Ai4Fy5cPCiq1"
      },
      "execution_count": 12,
      "outputs": []
    },
    {
      "cell_type": "code",
      "source": [
        "X.shape"
      ],
      "metadata": {
        "colab": {
          "base_uri": "https://localhost:8080/"
        },
        "id": "7PSTurzjCo5K",
        "outputId": "cfa2e731-a7f3-406e-a060-5a2068b8b7a0"
      },
      "execution_count": 13,
      "outputs": [
        {
          "output_type": "execute_result",
          "data": {
            "text/plain": [
              "(2068, 40)"
            ]
          },
          "metadata": {},
          "execution_count": 13
        }
      ]
    },
    {
      "cell_type": "code",
      "source": [
        "import numpy as np\n",
        "x_traincnn = np.expand_dims(X_train, axis=2)\n",
        "x_testcnn = np.expand_dims(X_test, axis=2)\n",
        "X_valid= np.expand_dims(X_valid, axis=2)"
      ],
      "metadata": {
        "id": "tp1Fm5K3CEXu"
      },
      "execution_count": 14,
      "outputs": []
    },
    {
      "cell_type": "code",
      "source": [
        "x_traincnn.shape, x_testcnn.shape , X_valid.shape"
      ],
      "metadata": {
        "id": "RI0MxoIPBws5",
        "colab": {
          "base_uri": "https://localhost:8080/"
        },
        "outputId": "713b640b-eddb-4b4c-eb56-63a7016a389e"
      },
      "execution_count": 15,
      "outputs": [
        {
          "output_type": "execute_result",
          "data": {
            "text/plain": [
              "((1654, 40, 1), (207, 40, 1), (207, 40, 1))"
            ]
          },
          "metadata": {},
          "execution_count": 15
        }
      ]
    },
    {
      "cell_type": "code",
      "source": [
        "!pip install tensorflow"
      ],
      "metadata": {
        "id": "goxL4Y3jKICC",
        "colab": {
          "base_uri": "https://localhost:8080/"
        },
        "outputId": "1bfec8eb-85c4-493f-b14e-ae6c7eb1479b"
      },
      "execution_count": 16,
      "outputs": [
        {
          "output_type": "stream",
          "name": "stdout",
          "text": [
            "Requirement already satisfied: tensorflow in /usr/local/lib/python3.7/dist-packages (2.8.0)\n",
            "Requirement already satisfied: absl-py>=0.4.0 in /usr/local/lib/python3.7/dist-packages (from tensorflow) (1.0.0)\n",
            "Requirement already satisfied: termcolor>=1.1.0 in /usr/local/lib/python3.7/dist-packages (from tensorflow) (1.1.0)\n",
            "Requirement already satisfied: tensorflow-io-gcs-filesystem>=0.23.1 in /usr/local/lib/python3.7/dist-packages (from tensorflow) (0.24.0)\n",
            "Requirement already satisfied: keras-preprocessing>=1.1.1 in /usr/local/lib/python3.7/dist-packages (from tensorflow) (1.1.2)\n",
            "Requirement already satisfied: astunparse>=1.6.0 in /usr/local/lib/python3.7/dist-packages (from tensorflow) (1.6.3)\n",
            "Requirement already satisfied: opt-einsum>=2.3.2 in /usr/local/lib/python3.7/dist-packages (from tensorflow) (3.3.0)\n",
            "Requirement already satisfied: keras<2.9,>=2.8.0rc0 in /usr/local/lib/python3.7/dist-packages (from tensorflow) (2.8.0)\n",
            "Requirement already satisfied: typing-extensions>=3.6.6 in /usr/local/lib/python3.7/dist-packages (from tensorflow) (3.10.0.2)\n",
            "Requirement already satisfied: h5py>=2.9.0 in /usr/local/lib/python3.7/dist-packages (from tensorflow) (3.1.0)\n",
            "Requirement already satisfied: setuptools in /usr/local/lib/python3.7/dist-packages (from tensorflow) (57.4.0)\n",
            "Requirement already satisfied: numpy>=1.20 in /usr/local/lib/python3.7/dist-packages (from tensorflow) (1.21.5)\n",
            "Requirement already satisfied: wrapt>=1.11.0 in /usr/local/lib/python3.7/dist-packages (from tensorflow) (1.13.3)\n",
            "Requirement already satisfied: six>=1.12.0 in /usr/local/lib/python3.7/dist-packages (from tensorflow) (1.15.0)\n",
            "Requirement already satisfied: google-pasta>=0.1.1 in /usr/local/lib/python3.7/dist-packages (from tensorflow) (0.2.0)\n",
            "Requirement already satisfied: libclang>=9.0.1 in /usr/local/lib/python3.7/dist-packages (from tensorflow) (13.0.0)\n",
            "Requirement already satisfied: protobuf>=3.9.2 in /usr/local/lib/python3.7/dist-packages (from tensorflow) (3.17.3)\n",
            "Requirement already satisfied: tensorboard<2.9,>=2.8 in /usr/local/lib/python3.7/dist-packages (from tensorflow) (2.8.0)\n",
            "Requirement already satisfied: gast>=0.2.1 in /usr/local/lib/python3.7/dist-packages (from tensorflow) (0.5.3)\n",
            "Requirement already satisfied: flatbuffers>=1.12 in /usr/local/lib/python3.7/dist-packages (from tensorflow) (2.0)\n",
            "Requirement already satisfied: grpcio<2.0,>=1.24.3 in /usr/local/lib/python3.7/dist-packages (from tensorflow) (1.44.0)\n",
            "Collecting tf-estimator-nightly==2.8.0.dev2021122109\n",
            "  Downloading tf_estimator_nightly-2.8.0.dev2021122109-py2.py3-none-any.whl (462 kB)\n",
            "\u001b[K     |████████████████████████████████| 462 kB 18.9 MB/s \n",
            "\u001b[?25hRequirement already satisfied: wheel<1.0,>=0.23.0 in /usr/local/lib/python3.7/dist-packages (from astunparse>=1.6.0->tensorflow) (0.37.1)\n",
            "Requirement already satisfied: cached-property in /usr/local/lib/python3.7/dist-packages (from h5py>=2.9.0->tensorflow) (1.5.2)\n",
            "Requirement already satisfied: google-auth-oauthlib<0.5,>=0.4.1 in /usr/local/lib/python3.7/dist-packages (from tensorboard<2.9,>=2.8->tensorflow) (0.4.6)\n",
            "Requirement already satisfied: tensorboard-data-server<0.7.0,>=0.6.0 in /usr/local/lib/python3.7/dist-packages (from tensorboard<2.9,>=2.8->tensorflow) (0.6.1)\n",
            "Requirement already satisfied: google-auth<3,>=1.6.3 in /usr/local/lib/python3.7/dist-packages (from tensorboard<2.9,>=2.8->tensorflow) (1.35.0)\n",
            "Requirement already satisfied: werkzeug>=0.11.15 in /usr/local/lib/python3.7/dist-packages (from tensorboard<2.9,>=2.8->tensorflow) (1.0.1)\n",
            "Requirement already satisfied: tensorboard-plugin-wit>=1.6.0 in /usr/local/lib/python3.7/dist-packages (from tensorboard<2.9,>=2.8->tensorflow) (1.8.1)\n",
            "Requirement already satisfied: requests<3,>=2.21.0 in /usr/local/lib/python3.7/dist-packages (from tensorboard<2.9,>=2.8->tensorflow) (2.23.0)\n",
            "Requirement already satisfied: markdown>=2.6.8 in /usr/local/lib/python3.7/dist-packages (from tensorboard<2.9,>=2.8->tensorflow) (3.3.6)\n",
            "Requirement already satisfied: rsa<5,>=3.1.4 in /usr/local/lib/python3.7/dist-packages (from google-auth<3,>=1.6.3->tensorboard<2.9,>=2.8->tensorflow) (4.8)\n",
            "Requirement already satisfied: pyasn1-modules>=0.2.1 in /usr/local/lib/python3.7/dist-packages (from google-auth<3,>=1.6.3->tensorboard<2.9,>=2.8->tensorflow) (0.2.8)\n",
            "Requirement already satisfied: cachetools<5.0,>=2.0.0 in /usr/local/lib/python3.7/dist-packages (from google-auth<3,>=1.6.3->tensorboard<2.9,>=2.8->tensorflow) (4.2.4)\n",
            "Requirement already satisfied: requests-oauthlib>=0.7.0 in /usr/local/lib/python3.7/dist-packages (from google-auth-oauthlib<0.5,>=0.4.1->tensorboard<2.9,>=2.8->tensorflow) (1.3.1)\n",
            "Requirement already satisfied: importlib-metadata>=4.4 in /usr/local/lib/python3.7/dist-packages (from markdown>=2.6.8->tensorboard<2.9,>=2.8->tensorflow) (4.11.2)\n",
            "Requirement already satisfied: zipp>=0.5 in /usr/local/lib/python3.7/dist-packages (from importlib-metadata>=4.4->markdown>=2.6.8->tensorboard<2.9,>=2.8->tensorflow) (3.7.0)\n",
            "Requirement already satisfied: pyasn1<0.5.0,>=0.4.6 in /usr/local/lib/python3.7/dist-packages (from pyasn1-modules>=0.2.1->google-auth<3,>=1.6.3->tensorboard<2.9,>=2.8->tensorflow) (0.4.8)\n",
            "Requirement already satisfied: urllib3!=1.25.0,!=1.25.1,<1.26,>=1.21.1 in /usr/local/lib/python3.7/dist-packages (from requests<3,>=2.21.0->tensorboard<2.9,>=2.8->tensorflow) (1.24.3)\n",
            "Requirement already satisfied: idna<3,>=2.5 in /usr/local/lib/python3.7/dist-packages (from requests<3,>=2.21.0->tensorboard<2.9,>=2.8->tensorflow) (2.10)\n",
            "Requirement already satisfied: certifi>=2017.4.17 in /usr/local/lib/python3.7/dist-packages (from requests<3,>=2.21.0->tensorboard<2.9,>=2.8->tensorflow) (2021.10.8)\n",
            "Requirement already satisfied: chardet<4,>=3.0.2 in /usr/local/lib/python3.7/dist-packages (from requests<3,>=2.21.0->tensorboard<2.9,>=2.8->tensorflow) (3.0.4)\n",
            "Requirement already satisfied: oauthlib>=3.0.0 in /usr/local/lib/python3.7/dist-packages (from requests-oauthlib>=0.7.0->google-auth-oauthlib<0.5,>=0.4.1->tensorboard<2.9,>=2.8->tensorflow) (3.2.0)\n",
            "Installing collected packages: tf-estimator-nightly\n",
            "Successfully installed tf-estimator-nightly-2.8.0.dev2021122109\n"
          ]
        }
      ]
    },
    {
      "cell_type": "code",
      "source": [
        "!pip install keras"
      ],
      "metadata": {
        "id": "EkcmN9UrKSxj",
        "colab": {
          "base_uri": "https://localhost:8080/"
        },
        "outputId": "48ff089f-3481-4391-f2fe-95f024072285"
      },
      "execution_count": 17,
      "outputs": [
        {
          "output_type": "stream",
          "name": "stdout",
          "text": [
            "Requirement already satisfied: keras in /usr/local/lib/python3.7/dist-packages (2.8.0)\n"
          ]
        }
      ]
    },
    {
      "cell_type": "code",
      "source": [
        "import keras\n",
        "import numpy as np\n",
        "import matplotlib.pyplot as plt\n",
        "import tensorflow as tf\n",
        "from keras.preprocessing import sequence\n",
        "from keras.models import Sequential\n",
        "from keras.layers import Dense, Embedding\n",
        "from tensorflow.keras.utils import to_categorical\n",
        "from keras.layers import Input, Flatten, Dropout, Activation\n",
        "from keras.layers import Conv1D, MaxPooling1D\n",
        "from keras.models import Model\n",
        "from keras.callbacks import ModelCheckpoint\n",
        "from tensorflow.keras import optimizers\n",
        "\n",
        "model = Sequential()\n",
        "\n",
        "model.add(Conv1D(128, 8,padding='same', #classifier.add(Convolution2D(64, (3, 3), padding = 'same', input_shape = (128, 128, 3), activation = 'relu'))\n",
        "                 input_shape=(40,1)))\n",
        "model.add(Activation('relu'))\n",
        "model.add(Dropout(0.3))\n",
        "model.add(MaxPooling1D(pool_size=(5)))\n",
        "\n",
        "\n",
        "model.add(Conv1D(256,8,padding='same',))\n",
        "model.add(Activation('relu'))\n",
        "model.add(Dropout(0.3))\n",
        "model.add(MaxPooling1D(pool_size=(5)))\n",
        "\n",
        "model.add(Flatten())\n",
        "\n",
        "model.add(Dense(256))\n",
        "model.add(Activation('relu'))\n",
        "model.add(Dense(256))\n",
        "model.add(Activation('relu'))\n",
        "\n",
        "model.add(Dense(6))\n",
        "model.add(Activation('softmax'))\n",
        "\n",
        "#opt = tf.keras.optimizers.Adam(lr=0.00002)\n",
        "opt = tf.keras.optimizers.RMSprop(lr=0.0001, rho=0.9, epsilon=1e-07, decay=0.0)\n",
        "#opt = tf.keras.optimizers.SGD(lr=0.0001, momentum=0.0, decay=0.0, nesterov=False)"
      ],
      "metadata": {
        "id": "g74fXWVAC4Cr",
        "colab": {
          "base_uri": "https://localhost:8080/"
        },
        "outputId": "0262eca1-f86a-4554-91e0-ce94c025792a"
      },
      "execution_count": 18,
      "outputs": [
        {
          "output_type": "stream",
          "name": "stderr",
          "text": [
            "/usr/local/lib/python3.7/dist-packages/keras/optimizer_v2/rmsprop.py:130: UserWarning:\n",
            "\n",
            "The `lr` argument is deprecated, use `learning_rate` instead.\n",
            "\n"
          ]
        }
      ]
    },
    {
      "cell_type": "code",
      "source": [
        "model.summary()"
      ],
      "metadata": {
        "colab": {
          "base_uri": "https://localhost:8080/"
        },
        "id": "H6ukOxAGC_I4",
        "outputId": "54a4ef1e-0a34-4293-8761-c10bb4030d05"
      },
      "execution_count": 19,
      "outputs": [
        {
          "output_type": "stream",
          "name": "stdout",
          "text": [
            "Model: \"sequential\"\n",
            "_________________________________________________________________\n",
            " Layer (type)                Output Shape              Param #   \n",
            "=================================================================\n",
            " conv1d (Conv1D)             (None, 40, 128)           1152      \n",
            "                                                                 \n",
            " activation (Activation)     (None, 40, 128)           0         \n",
            "                                                                 \n",
            " dropout (Dropout)           (None, 40, 128)           0         \n",
            "                                                                 \n",
            " max_pooling1d (MaxPooling1D  (None, 8, 128)           0         \n",
            " )                                                               \n",
            "                                                                 \n",
            " conv1d_1 (Conv1D)           (None, 8, 256)            262400    \n",
            "                                                                 \n",
            " activation_1 (Activation)   (None, 8, 256)            0         \n",
            "                                                                 \n",
            " dropout_1 (Dropout)         (None, 8, 256)            0         \n",
            "                                                                 \n",
            " max_pooling1d_1 (MaxPooling  (None, 1, 256)           0         \n",
            " 1D)                                                             \n",
            "                                                                 \n",
            " flatten (Flatten)           (None, 256)               0         \n",
            "                                                                 \n",
            " dense (Dense)               (None, 256)               65792     \n",
            "                                                                 \n",
            " activation_2 (Activation)   (None, 256)               0         \n",
            "                                                                 \n",
            " dense_1 (Dense)             (None, 256)               65792     \n",
            "                                                                 \n",
            " activation_3 (Activation)   (None, 256)               0         \n",
            "                                                                 \n",
            " dense_2 (Dense)             (None, 6)                 1542      \n",
            "                                                                 \n",
            " activation_4 (Activation)   (None, 6)                 0         \n",
            "                                                                 \n",
            "=================================================================\n",
            "Total params: 396,678\n",
            "Trainable params: 396,678\n",
            "Non-trainable params: 0\n",
            "_________________________________________________________________\n"
          ]
        }
      ]
    },
    {
      "cell_type": "code",
      "source": [
        "model.compile(loss='sparse_categorical_crossentropy',\n",
        "              optimizer=opt,\n",
        "              metrics=['accuracy'])"
      ],
      "metadata": {
        "id": "AbMlLNk4DCBM"
      },
      "execution_count": 20,
      "outputs": []
    },
    {
      "cell_type": "code",
      "source": [
        "#cnnhistory=model.fit(x_traincnn, y_train, batch_size=16, epochs=700, validation_data=(x_testcnn, y_test))\n",
        "cnnhistory=model.fit(x_traincnn, y_train, batch_size=16, epochs=300 , validation_data=(X_valid, y_valid))"
      ],
      "metadata": {
        "colab": {
          "base_uri": "https://localhost:8080/"
        },
        "id": "RI1v2AuADFhy",
        "outputId": "2e26f168-a090-4805-dad7-97f1c6ef5472"
      },
      "execution_count": 21,
      "outputs": [
        {
          "output_type": "stream",
          "name": "stdout",
          "text": [
            "Epoch 1/300\n",
            "104/104 [==============================] - 7s 43ms/step - loss: 4.5532 - accuracy: 0.2013 - val_loss: 2.4745 - val_accuracy: 0.2029\n",
            "Epoch 2/300\n",
            "104/104 [==============================] - 3s 33ms/step - loss: 3.0253 - accuracy: 0.1832 - val_loss: 1.7980 - val_accuracy: 0.2126\n",
            "Epoch 3/300\n",
            "104/104 [==============================] - 2s 22ms/step - loss: 2.4161 - accuracy: 0.1923 - val_loss: 1.8710 - val_accuracy: 0.2319\n",
            "Epoch 4/300\n",
            "104/104 [==============================] - 2s 22ms/step - loss: 2.1686 - accuracy: 0.2068 - val_loss: 1.8889 - val_accuracy: 0.1932\n",
            "Epoch 5/300\n",
            "104/104 [==============================] - 2s 22ms/step - loss: 2.0619 - accuracy: 0.2128 - val_loss: 1.6769 - val_accuracy: 0.3188\n",
            "Epoch 6/300\n",
            "104/104 [==============================] - 2s 22ms/step - loss: 1.9607 - accuracy: 0.2346 - val_loss: 1.8462 - val_accuracy: 0.1787\n",
            "Epoch 7/300\n",
            "104/104 [==============================] - 2s 22ms/step - loss: 1.8749 - accuracy: 0.2509 - val_loss: 1.6669 - val_accuracy: 0.2947\n",
            "Epoch 8/300\n",
            "104/104 [==============================] - 2s 22ms/step - loss: 1.8425 - accuracy: 0.2666 - val_loss: 1.7590 - val_accuracy: 0.1932\n",
            "Epoch 9/300\n",
            "104/104 [==============================] - 2s 22ms/step - loss: 1.8205 - accuracy: 0.2660 - val_loss: 1.6730 - val_accuracy: 0.2899\n",
            "Epoch 10/300\n",
            "104/104 [==============================] - 2s 23ms/step - loss: 1.8042 - accuracy: 0.2672 - val_loss: 1.6326 - val_accuracy: 0.2850\n",
            "Epoch 11/300\n",
            "104/104 [==============================] - 2s 22ms/step - loss: 1.7924 - accuracy: 0.2521 - val_loss: 1.6520 - val_accuracy: 0.2754\n",
            "Epoch 12/300\n",
            "104/104 [==============================] - 2s 22ms/step - loss: 1.7304 - accuracy: 0.2836 - val_loss: 1.6878 - val_accuracy: 0.2512\n",
            "Epoch 13/300\n",
            "104/104 [==============================] - 2s 22ms/step - loss: 1.7079 - accuracy: 0.2866 - val_loss: 1.5947 - val_accuracy: 0.3285\n",
            "Epoch 14/300\n",
            "104/104 [==============================] - 2s 22ms/step - loss: 1.7067 - accuracy: 0.2969 - val_loss: 1.5994 - val_accuracy: 0.3092\n",
            "Epoch 15/300\n",
            "104/104 [==============================] - 2s 22ms/step - loss: 1.6782 - accuracy: 0.3077 - val_loss: 1.5595 - val_accuracy: 0.3720\n",
            "Epoch 16/300\n",
            "104/104 [==============================] - 2s 22ms/step - loss: 1.6647 - accuracy: 0.3126 - val_loss: 1.6328 - val_accuracy: 0.3140\n",
            "Epoch 17/300\n",
            "104/104 [==============================] - 2s 22ms/step - loss: 1.6136 - accuracy: 0.3404 - val_loss: 1.5966 - val_accuracy: 0.2754\n",
            "Epoch 18/300\n",
            "104/104 [==============================] - 2s 22ms/step - loss: 1.6496 - accuracy: 0.3162 - val_loss: 1.5798 - val_accuracy: 0.2850\n",
            "Epoch 19/300\n",
            "104/104 [==============================] - 2s 22ms/step - loss: 1.5931 - accuracy: 0.3567 - val_loss: 1.6147 - val_accuracy: 0.2947\n",
            "Epoch 20/300\n",
            "104/104 [==============================] - 2s 22ms/step - loss: 1.5985 - accuracy: 0.3368 - val_loss: 1.5945 - val_accuracy: 0.3188\n",
            "Epoch 21/300\n",
            "104/104 [==============================] - 2s 22ms/step - loss: 1.5570 - accuracy: 0.3549 - val_loss: 1.5010 - val_accuracy: 0.3865\n",
            "Epoch 22/300\n",
            "104/104 [==============================] - 2s 22ms/step - loss: 1.5610 - accuracy: 0.3664 - val_loss: 1.5240 - val_accuracy: 0.3671\n",
            "Epoch 23/300\n",
            "104/104 [==============================] - 2s 22ms/step - loss: 1.5393 - accuracy: 0.3827 - val_loss: 1.5611 - val_accuracy: 0.3671\n",
            "Epoch 24/300\n",
            "104/104 [==============================] - 2s 22ms/step - loss: 1.5245 - accuracy: 0.3724 - val_loss: 1.4247 - val_accuracy: 0.4251\n",
            "Epoch 25/300\n",
            "104/104 [==============================] - 2s 22ms/step - loss: 1.4927 - accuracy: 0.3948 - val_loss: 1.4235 - val_accuracy: 0.4541\n",
            "Epoch 26/300\n",
            "104/104 [==============================] - 2s 22ms/step - loss: 1.4752 - accuracy: 0.3912 - val_loss: 1.4673 - val_accuracy: 0.3865\n",
            "Epoch 27/300\n",
            "104/104 [==============================] - 2s 22ms/step - loss: 1.4450 - accuracy: 0.4202 - val_loss: 1.3983 - val_accuracy: 0.3961\n",
            "Epoch 28/300\n",
            "104/104 [==============================] - 2s 23ms/step - loss: 1.4263 - accuracy: 0.4244 - val_loss: 1.3189 - val_accuracy: 0.5217\n",
            "Epoch 29/300\n",
            "104/104 [==============================] - 2s 22ms/step - loss: 1.4070 - accuracy: 0.4317 - val_loss: 1.3479 - val_accuracy: 0.4879\n",
            "Epoch 30/300\n",
            "104/104 [==============================] - 2s 22ms/step - loss: 1.4016 - accuracy: 0.4123 - val_loss: 1.2936 - val_accuracy: 0.4686\n",
            "Epoch 31/300\n",
            "104/104 [==============================] - 2s 22ms/step - loss: 1.3798 - accuracy: 0.4426 - val_loss: 1.3261 - val_accuracy: 0.4783\n",
            "Epoch 32/300\n",
            "104/104 [==============================] - 2s 22ms/step - loss: 1.3649 - accuracy: 0.4480 - val_loss: 1.3131 - val_accuracy: 0.4251\n",
            "Epoch 33/300\n",
            "104/104 [==============================] - 2s 22ms/step - loss: 1.3630 - accuracy: 0.4553 - val_loss: 1.2699 - val_accuracy: 0.5121\n",
            "Epoch 34/300\n",
            "104/104 [==============================] - 2s 22ms/step - loss: 1.3375 - accuracy: 0.4456 - val_loss: 1.2612 - val_accuracy: 0.5024\n",
            "Epoch 35/300\n",
            "104/104 [==============================] - 2s 22ms/step - loss: 1.3331 - accuracy: 0.4553 - val_loss: 1.3013 - val_accuracy: 0.4976\n",
            "Epoch 36/300\n",
            "104/104 [==============================] - 2s 22ms/step - loss: 1.3068 - accuracy: 0.4734 - val_loss: 1.2883 - val_accuracy: 0.4879\n",
            "Epoch 37/300\n",
            "104/104 [==============================] - 2s 22ms/step - loss: 1.3063 - accuracy: 0.4716 - val_loss: 1.3065 - val_accuracy: 0.4783\n",
            "Epoch 38/300\n",
            "104/104 [==============================] - 2s 22ms/step - loss: 1.2698 - accuracy: 0.4692 - val_loss: 1.2712 - val_accuracy: 0.5217\n",
            "Epoch 39/300\n",
            "104/104 [==============================] - 2s 22ms/step - loss: 1.2655 - accuracy: 0.4752 - val_loss: 1.2703 - val_accuracy: 0.4638\n",
            "Epoch 40/300\n",
            "104/104 [==============================] - 2s 22ms/step - loss: 1.2592 - accuracy: 0.5018 - val_loss: 1.1540 - val_accuracy: 0.5652\n",
            "Epoch 41/300\n",
            "104/104 [==============================] - 3s 29ms/step - loss: 1.2424 - accuracy: 0.5054 - val_loss: 1.2040 - val_accuracy: 0.5121\n",
            "Epoch 42/300\n",
            "104/104 [==============================] - 4s 41ms/step - loss: 1.2228 - accuracy: 0.4940 - val_loss: 1.2020 - val_accuracy: 0.5072\n",
            "Epoch 43/300\n",
            "104/104 [==============================] - 2s 22ms/step - loss: 1.2232 - accuracy: 0.5109 - val_loss: 1.1782 - val_accuracy: 0.5217\n",
            "Epoch 44/300\n",
            "104/104 [==============================] - 2s 22ms/step - loss: 1.2080 - accuracy: 0.5121 - val_loss: 1.2399 - val_accuracy: 0.4638\n",
            "Epoch 45/300\n",
            "104/104 [==============================] - 2s 22ms/step - loss: 1.1878 - accuracy: 0.5145 - val_loss: 1.0815 - val_accuracy: 0.5990\n",
            "Epoch 46/300\n",
            "104/104 [==============================] - 2s 22ms/step - loss: 1.1835 - accuracy: 0.5236 - val_loss: 1.1382 - val_accuracy: 0.5507\n",
            "Epoch 47/300\n",
            "104/104 [==============================] - 2s 22ms/step - loss: 1.1702 - accuracy: 0.5339 - val_loss: 1.1276 - val_accuracy: 0.5266\n",
            "Epoch 48/300\n",
            "104/104 [==============================] - 2s 22ms/step - loss: 1.1682 - accuracy: 0.5302 - val_loss: 1.2061 - val_accuracy: 0.4928\n",
            "Epoch 49/300\n",
            "104/104 [==============================] - 2s 22ms/step - loss: 1.1753 - accuracy: 0.5369 - val_loss: 1.2727 - val_accuracy: 0.4589\n",
            "Epoch 50/300\n",
            "104/104 [==============================] - 2s 22ms/step - loss: 1.1714 - accuracy: 0.5266 - val_loss: 1.1802 - val_accuracy: 0.5314\n",
            "Epoch 51/300\n",
            "104/104 [==============================] - 2s 22ms/step - loss: 1.1447 - accuracy: 0.5387 - val_loss: 1.0795 - val_accuracy: 0.5362\n",
            "Epoch 52/300\n",
            "104/104 [==============================] - 2s 22ms/step - loss: 1.1323 - accuracy: 0.5302 - val_loss: 1.1337 - val_accuracy: 0.5266\n",
            "Epoch 53/300\n",
            "104/104 [==============================] - 2s 22ms/step - loss: 1.1223 - accuracy: 0.5447 - val_loss: 1.0933 - val_accuracy: 0.5894\n",
            "Epoch 54/300\n",
            "104/104 [==============================] - 2s 22ms/step - loss: 1.1226 - accuracy: 0.5526 - val_loss: 1.1636 - val_accuracy: 0.5217\n",
            "Epoch 55/300\n",
            "104/104 [==============================] - 2s 22ms/step - loss: 1.0994 - accuracy: 0.5635 - val_loss: 1.1455 - val_accuracy: 0.5266\n",
            "Epoch 56/300\n",
            "104/104 [==============================] - 2s 22ms/step - loss: 1.0927 - accuracy: 0.5562 - val_loss: 1.0859 - val_accuracy: 0.5700\n",
            "Epoch 57/300\n",
            "104/104 [==============================] - 2s 22ms/step - loss: 1.0797 - accuracy: 0.5726 - val_loss: 1.0788 - val_accuracy: 0.5604\n",
            "Epoch 58/300\n",
            "104/104 [==============================] - 2s 22ms/step - loss: 1.0810 - accuracy: 0.5611 - val_loss: 1.1130 - val_accuracy: 0.5604\n",
            "Epoch 59/300\n",
            "104/104 [==============================] - 2s 22ms/step - loss: 1.0666 - accuracy: 0.5738 - val_loss: 1.1150 - val_accuracy: 0.5797\n",
            "Epoch 60/300\n",
            "104/104 [==============================] - 2s 22ms/step - loss: 1.0572 - accuracy: 0.5840 - val_loss: 1.0364 - val_accuracy: 0.5942\n",
            "Epoch 61/300\n",
            "104/104 [==============================] - 2s 22ms/step - loss: 1.0393 - accuracy: 0.5877 - val_loss: 1.0595 - val_accuracy: 0.5652\n",
            "Epoch 62/300\n",
            "104/104 [==============================] - 2s 22ms/step - loss: 1.0145 - accuracy: 0.5943 - val_loss: 1.0223 - val_accuracy: 0.5942\n",
            "Epoch 63/300\n",
            "104/104 [==============================] - 2s 22ms/step - loss: 1.0188 - accuracy: 0.6046 - val_loss: 1.0332 - val_accuracy: 0.6087\n",
            "Epoch 64/300\n",
            "104/104 [==============================] - 2s 22ms/step - loss: 1.0067 - accuracy: 0.5919 - val_loss: 0.9632 - val_accuracy: 0.6184\n",
            "Epoch 65/300\n",
            "104/104 [==============================] - 2s 22ms/step - loss: 1.0221 - accuracy: 0.5798 - val_loss: 0.9811 - val_accuracy: 0.6135\n",
            "Epoch 66/300\n",
            "104/104 [==============================] - 2s 22ms/step - loss: 0.9658 - accuracy: 0.6112 - val_loss: 0.9855 - val_accuracy: 0.6087\n",
            "Epoch 67/300\n",
            "104/104 [==============================] - 2s 22ms/step - loss: 1.0124 - accuracy: 0.5998 - val_loss: 1.0891 - val_accuracy: 0.5749\n",
            "Epoch 68/300\n",
            "104/104 [==============================] - 2s 22ms/step - loss: 1.0003 - accuracy: 0.6143 - val_loss: 1.0515 - val_accuracy: 0.5459\n",
            "Epoch 69/300\n",
            "104/104 [==============================] - 2s 22ms/step - loss: 0.9936 - accuracy: 0.6100 - val_loss: 0.9874 - val_accuracy: 0.6039\n",
            "Epoch 70/300\n",
            "104/104 [==============================] - 2s 22ms/step - loss: 0.9769 - accuracy: 0.6167 - val_loss: 0.9883 - val_accuracy: 0.6135\n",
            "Epoch 71/300\n",
            "104/104 [==============================] - 2s 22ms/step - loss: 0.9608 - accuracy: 0.5985 - val_loss: 0.9881 - val_accuracy: 0.6473\n",
            "Epoch 72/300\n",
            "104/104 [==============================] - 2s 22ms/step - loss: 0.9731 - accuracy: 0.6046 - val_loss: 0.9721 - val_accuracy: 0.6232\n",
            "Epoch 73/300\n",
            "104/104 [==============================] - 2s 22ms/step - loss: 0.9586 - accuracy: 0.6161 - val_loss: 0.9655 - val_accuracy: 0.6522\n",
            "Epoch 74/300\n",
            "104/104 [==============================] - 2s 22ms/step - loss: 0.9604 - accuracy: 0.6167 - val_loss: 0.9650 - val_accuracy: 0.5942\n",
            "Epoch 75/300\n",
            "104/104 [==============================] - 2s 22ms/step - loss: 0.9503 - accuracy: 0.6197 - val_loss: 0.9432 - val_accuracy: 0.6329\n",
            "Epoch 76/300\n",
            "104/104 [==============================] - 2s 22ms/step - loss: 0.9464 - accuracy: 0.6179 - val_loss: 0.9669 - val_accuracy: 0.6184\n",
            "Epoch 77/300\n",
            "104/104 [==============================] - 2s 22ms/step - loss: 0.9355 - accuracy: 0.6336 - val_loss: 0.8985 - val_accuracy: 0.6425\n",
            "Epoch 78/300\n",
            "104/104 [==============================] - 2s 22ms/step - loss: 0.9166 - accuracy: 0.6324 - val_loss: 0.9032 - val_accuracy: 0.6425\n",
            "Epoch 79/300\n",
            "104/104 [==============================] - 2s 22ms/step - loss: 0.8838 - accuracy: 0.6318 - val_loss: 0.8736 - val_accuracy: 0.6667\n",
            "Epoch 80/300\n",
            "104/104 [==============================] - 2s 22ms/step - loss: 0.9070 - accuracy: 0.6348 - val_loss: 0.9077 - val_accuracy: 0.6232\n",
            "Epoch 81/300\n",
            "104/104 [==============================] - 2s 22ms/step - loss: 0.8858 - accuracy: 0.6487 - val_loss: 0.9447 - val_accuracy: 0.6377\n",
            "Epoch 82/300\n",
            "104/104 [==============================] - 2s 22ms/step - loss: 0.9014 - accuracy: 0.6433 - val_loss: 0.8672 - val_accuracy: 0.6522\n",
            "Epoch 83/300\n",
            "104/104 [==============================] - 2s 22ms/step - loss: 0.9022 - accuracy: 0.6372 - val_loss: 0.9025 - val_accuracy: 0.6473\n",
            "Epoch 84/300\n",
            "104/104 [==============================] - 2s 22ms/step - loss: 0.8760 - accuracy: 0.6487 - val_loss: 0.9057 - val_accuracy: 0.6812\n",
            "Epoch 85/300\n",
            "104/104 [==============================] - 2s 22ms/step - loss: 0.8828 - accuracy: 0.6397 - val_loss: 0.9195 - val_accuracy: 0.6377\n",
            "Epoch 86/300\n",
            "104/104 [==============================] - 2s 22ms/step - loss: 0.8673 - accuracy: 0.6584 - val_loss: 0.8665 - val_accuracy: 0.6570\n",
            "Epoch 87/300\n",
            "104/104 [==============================] - 2s 22ms/step - loss: 0.8492 - accuracy: 0.6596 - val_loss: 0.8231 - val_accuracy: 0.7005\n",
            "Epoch 88/300\n",
            "104/104 [==============================] - 2s 22ms/step - loss: 0.8546 - accuracy: 0.6578 - val_loss: 0.8718 - val_accuracy: 0.6667\n",
            "Epoch 89/300\n",
            "104/104 [==============================] - 2s 22ms/step - loss: 0.8516 - accuracy: 0.6602 - val_loss: 0.8646 - val_accuracy: 0.6908\n",
            "Epoch 90/300\n",
            "104/104 [==============================] - 2s 23ms/step - loss: 0.8402 - accuracy: 0.6602 - val_loss: 0.9216 - val_accuracy: 0.6232\n",
            "Epoch 91/300\n",
            "104/104 [==============================] - 2s 22ms/step - loss: 0.8403 - accuracy: 0.6747 - val_loss: 0.8707 - val_accuracy: 0.6812\n",
            "Epoch 92/300\n",
            "104/104 [==============================] - 2s 22ms/step - loss: 0.8144 - accuracy: 0.6765 - val_loss: 0.8975 - val_accuracy: 0.6232\n",
            "Epoch 93/300\n",
            "104/104 [==============================] - 2s 22ms/step - loss: 0.8138 - accuracy: 0.6832 - val_loss: 0.8428 - val_accuracy: 0.6377\n",
            "Epoch 94/300\n",
            "104/104 [==============================] - 2s 22ms/step - loss: 0.8152 - accuracy: 0.6778 - val_loss: 0.8765 - val_accuracy: 0.6280\n",
            "Epoch 95/300\n",
            "104/104 [==============================] - 2s 23ms/step - loss: 0.8035 - accuracy: 0.6771 - val_loss: 0.8968 - val_accuracy: 0.6425\n",
            "Epoch 96/300\n",
            "104/104 [==============================] - 2s 23ms/step - loss: 0.7889 - accuracy: 0.6814 - val_loss: 0.8680 - val_accuracy: 0.6667\n",
            "Epoch 97/300\n",
            "104/104 [==============================] - 2s 22ms/step - loss: 0.7964 - accuracy: 0.6989 - val_loss: 0.8219 - val_accuracy: 0.7101\n",
            "Epoch 98/300\n",
            "104/104 [==============================] - 2s 22ms/step - loss: 0.7901 - accuracy: 0.6693 - val_loss: 0.8503 - val_accuracy: 0.6329\n",
            "Epoch 99/300\n",
            "104/104 [==============================] - 2s 22ms/step - loss: 0.7902 - accuracy: 0.6868 - val_loss: 0.8005 - val_accuracy: 0.6667\n",
            "Epoch 100/300\n",
            "104/104 [==============================] - 2s 22ms/step - loss: 0.7883 - accuracy: 0.6929 - val_loss: 0.8547 - val_accuracy: 0.6667\n",
            "Epoch 101/300\n",
            "104/104 [==============================] - 2s 22ms/step - loss: 0.7629 - accuracy: 0.7013 - val_loss: 0.8627 - val_accuracy: 0.6860\n",
            "Epoch 102/300\n",
            "104/104 [==============================] - 2s 22ms/step - loss: 0.7789 - accuracy: 0.6923 - val_loss: 0.8281 - val_accuracy: 0.6957\n",
            "Epoch 103/300\n",
            "104/104 [==============================] - 2s 22ms/step - loss: 0.7806 - accuracy: 0.6856 - val_loss: 0.8291 - val_accuracy: 0.6473\n",
            "Epoch 104/300\n",
            "104/104 [==============================] - 2s 23ms/step - loss: 0.7951 - accuracy: 0.6929 - val_loss: 0.8374 - val_accuracy: 0.6715\n",
            "Epoch 105/300\n",
            "104/104 [==============================] - 2s 22ms/step - loss: 0.7764 - accuracy: 0.7013 - val_loss: 0.8204 - val_accuracy: 0.7005\n",
            "Epoch 106/300\n",
            "104/104 [==============================] - 2s 22ms/step - loss: 0.7730 - accuracy: 0.6947 - val_loss: 0.8273 - val_accuracy: 0.6860\n",
            "Epoch 107/300\n",
            "104/104 [==============================] - 2s 22ms/step - loss: 0.7543 - accuracy: 0.7050 - val_loss: 0.7958 - val_accuracy: 0.6908\n",
            "Epoch 108/300\n",
            "104/104 [==============================] - 2s 22ms/step - loss: 0.7223 - accuracy: 0.7243 - val_loss: 0.7934 - val_accuracy: 0.7150\n",
            "Epoch 109/300\n",
            "104/104 [==============================] - 2s 22ms/step - loss: 0.7399 - accuracy: 0.7110 - val_loss: 0.7774 - val_accuracy: 0.7005\n",
            "Epoch 110/300\n",
            "104/104 [==============================] - 2s 22ms/step - loss: 0.7242 - accuracy: 0.7122 - val_loss: 0.7901 - val_accuracy: 0.6908\n",
            "Epoch 111/300\n",
            "104/104 [==============================] - 2s 22ms/step - loss: 0.7472 - accuracy: 0.7092 - val_loss: 0.8048 - val_accuracy: 0.6860\n",
            "Epoch 112/300\n",
            "104/104 [==============================] - 2s 23ms/step - loss: 0.7334 - accuracy: 0.6995 - val_loss: 0.8024 - val_accuracy: 0.6522\n",
            "Epoch 113/300\n",
            "104/104 [==============================] - 2s 22ms/step - loss: 0.7323 - accuracy: 0.7140 - val_loss: 0.8035 - val_accuracy: 0.6812\n",
            "Epoch 114/300\n",
            "104/104 [==============================] - 2s 22ms/step - loss: 0.7278 - accuracy: 0.7098 - val_loss: 0.7802 - val_accuracy: 0.6860\n",
            "Epoch 115/300\n",
            "104/104 [==============================] - 2s 23ms/step - loss: 0.7317 - accuracy: 0.7189 - val_loss: 0.8468 - val_accuracy: 0.6667\n",
            "Epoch 116/300\n",
            "104/104 [==============================] - 2s 22ms/step - loss: 0.7160 - accuracy: 0.7207 - val_loss: 0.8021 - val_accuracy: 0.7005\n",
            "Epoch 117/300\n",
            "104/104 [==============================] - 2s 23ms/step - loss: 0.7043 - accuracy: 0.7110 - val_loss: 0.8317 - val_accuracy: 0.7005\n",
            "Epoch 118/300\n",
            "104/104 [==============================] - 2s 23ms/step - loss: 0.7250 - accuracy: 0.7074 - val_loss: 0.7688 - val_accuracy: 0.7150\n",
            "Epoch 119/300\n",
            "104/104 [==============================] - 2s 23ms/step - loss: 0.7119 - accuracy: 0.7177 - val_loss: 0.8128 - val_accuracy: 0.6860\n",
            "Epoch 120/300\n",
            "104/104 [==============================] - 2s 23ms/step - loss: 0.7119 - accuracy: 0.7243 - val_loss: 0.7543 - val_accuracy: 0.6908\n",
            "Epoch 121/300\n",
            "104/104 [==============================] - 2s 22ms/step - loss: 0.6984 - accuracy: 0.7207 - val_loss: 0.7847 - val_accuracy: 0.7295\n",
            "Epoch 122/300\n",
            "104/104 [==============================] - 2s 22ms/step - loss: 0.6975 - accuracy: 0.7219 - val_loss: 0.7609 - val_accuracy: 0.6957\n",
            "Epoch 123/300\n",
            "104/104 [==============================] - 2s 22ms/step - loss: 0.6804 - accuracy: 0.7364 - val_loss: 0.7451 - val_accuracy: 0.7246\n",
            "Epoch 124/300\n",
            "104/104 [==============================] - 2s 23ms/step - loss: 0.6784 - accuracy: 0.7334 - val_loss: 0.7806 - val_accuracy: 0.6715\n",
            "Epoch 125/300\n",
            "104/104 [==============================] - 2s 22ms/step - loss: 0.6865 - accuracy: 0.7243 - val_loss: 0.7493 - val_accuracy: 0.7150\n",
            "Epoch 126/300\n",
            "104/104 [==============================] - 2s 22ms/step - loss: 0.6892 - accuracy: 0.7424 - val_loss: 0.8055 - val_accuracy: 0.6618\n",
            "Epoch 127/300\n",
            "104/104 [==============================] - 2s 22ms/step - loss: 0.6957 - accuracy: 0.7285 - val_loss: 0.7708 - val_accuracy: 0.7053\n",
            "Epoch 128/300\n",
            "104/104 [==============================] - 2s 22ms/step - loss: 0.6674 - accuracy: 0.7418 - val_loss: 0.7409 - val_accuracy: 0.7246\n",
            "Epoch 129/300\n",
            "104/104 [==============================] - 2s 22ms/step - loss: 0.6692 - accuracy: 0.7352 - val_loss: 0.7555 - val_accuracy: 0.7053\n",
            "Epoch 130/300\n",
            "104/104 [==============================] - 2s 23ms/step - loss: 0.6395 - accuracy: 0.7497 - val_loss: 0.7413 - val_accuracy: 0.6812\n",
            "Epoch 131/300\n",
            "104/104 [==============================] - 2s 22ms/step - loss: 0.6497 - accuracy: 0.7467 - val_loss: 0.7510 - val_accuracy: 0.7391\n",
            "Epoch 132/300\n",
            "104/104 [==============================] - 2s 22ms/step - loss: 0.6540 - accuracy: 0.7437 - val_loss: 0.7334 - val_accuracy: 0.7150\n",
            "Epoch 133/300\n",
            "104/104 [==============================] - 2s 23ms/step - loss: 0.6227 - accuracy: 0.7678 - val_loss: 0.7233 - val_accuracy: 0.7053\n",
            "Epoch 134/300\n",
            "104/104 [==============================] - 2s 22ms/step - loss: 0.6189 - accuracy: 0.7594 - val_loss: 0.7378 - val_accuracy: 0.6908\n",
            "Epoch 135/300\n",
            "104/104 [==============================] - 2s 22ms/step - loss: 0.6600 - accuracy: 0.7406 - val_loss: 0.7632 - val_accuracy: 0.7005\n",
            "Epoch 136/300\n",
            "104/104 [==============================] - 2s 22ms/step - loss: 0.6060 - accuracy: 0.7563 - val_loss: 0.7697 - val_accuracy: 0.6957\n",
            "Epoch 137/300\n",
            "104/104 [==============================] - 2s 22ms/step - loss: 0.6508 - accuracy: 0.7461 - val_loss: 0.7213 - val_accuracy: 0.7198\n",
            "Epoch 138/300\n",
            "104/104 [==============================] - 2s 22ms/step - loss: 0.6484 - accuracy: 0.7382 - val_loss: 0.7524 - val_accuracy: 0.7005\n",
            "Epoch 139/300\n",
            "104/104 [==============================] - 2s 23ms/step - loss: 0.6062 - accuracy: 0.7606 - val_loss: 0.7683 - val_accuracy: 0.6908\n",
            "Epoch 140/300\n",
            "104/104 [==============================] - 2s 22ms/step - loss: 0.6267 - accuracy: 0.7588 - val_loss: 0.7594 - val_accuracy: 0.7150\n",
            "Epoch 141/300\n",
            "104/104 [==============================] - 2s 23ms/step - loss: 0.6185 - accuracy: 0.7594 - val_loss: 0.6854 - val_accuracy: 0.7295\n",
            "Epoch 142/300\n",
            "104/104 [==============================] - 2s 22ms/step - loss: 0.6185 - accuracy: 0.7515 - val_loss: 0.7284 - val_accuracy: 0.7150\n",
            "Epoch 143/300\n",
            "104/104 [==============================] - 2s 23ms/step - loss: 0.6152 - accuracy: 0.7630 - val_loss: 0.8101 - val_accuracy: 0.7101\n",
            "Epoch 144/300\n",
            "104/104 [==============================] - 2s 22ms/step - loss: 0.6174 - accuracy: 0.7557 - val_loss: 0.7336 - val_accuracy: 0.6908\n",
            "Epoch 145/300\n",
            "104/104 [==============================] - 2s 23ms/step - loss: 0.5962 - accuracy: 0.7660 - val_loss: 0.7221 - val_accuracy: 0.7053\n",
            "Epoch 146/300\n",
            "104/104 [==============================] - 2s 22ms/step - loss: 0.6105 - accuracy: 0.7660 - val_loss: 0.7529 - val_accuracy: 0.7150\n",
            "Epoch 147/300\n",
            "104/104 [==============================] - 2s 23ms/step - loss: 0.5909 - accuracy: 0.7763 - val_loss: 0.7177 - val_accuracy: 0.6860\n",
            "Epoch 148/300\n",
            "104/104 [==============================] - 2s 23ms/step - loss: 0.5967 - accuracy: 0.7684 - val_loss: 0.6914 - val_accuracy: 0.7585\n",
            "Epoch 149/300\n",
            "104/104 [==============================] - 2s 23ms/step - loss: 0.5886 - accuracy: 0.7727 - val_loss: 0.7069 - val_accuracy: 0.7246\n",
            "Epoch 150/300\n",
            "104/104 [==============================] - 2s 22ms/step - loss: 0.5946 - accuracy: 0.7703 - val_loss: 0.7485 - val_accuracy: 0.6812\n",
            "Epoch 151/300\n",
            "104/104 [==============================] - 2s 23ms/step - loss: 0.5691 - accuracy: 0.7751 - val_loss: 0.6671 - val_accuracy: 0.7198\n",
            "Epoch 152/300\n",
            "104/104 [==============================] - 2s 22ms/step - loss: 0.5739 - accuracy: 0.7811 - val_loss: 0.6938 - val_accuracy: 0.7101\n",
            "Epoch 153/300\n",
            "104/104 [==============================] - 2s 22ms/step - loss: 0.5843 - accuracy: 0.7727 - val_loss: 0.6862 - val_accuracy: 0.7246\n",
            "Epoch 154/300\n",
            "104/104 [==============================] - 2s 22ms/step - loss: 0.5731 - accuracy: 0.7733 - val_loss: 0.7111 - val_accuracy: 0.7536\n",
            "Epoch 155/300\n",
            "104/104 [==============================] - 2s 22ms/step - loss: 0.5842 - accuracy: 0.7672 - val_loss: 0.6910 - val_accuracy: 0.7343\n",
            "Epoch 156/300\n",
            "104/104 [==============================] - 2s 23ms/step - loss: 0.5544 - accuracy: 0.7866 - val_loss: 0.7798 - val_accuracy: 0.6812\n",
            "Epoch 157/300\n",
            "104/104 [==============================] - 2s 23ms/step - loss: 0.5637 - accuracy: 0.7763 - val_loss: 0.7109 - val_accuracy: 0.7343\n",
            "Epoch 158/300\n",
            "104/104 [==============================] - 2s 23ms/step - loss: 0.5585 - accuracy: 0.7805 - val_loss: 0.7109 - val_accuracy: 0.7198\n",
            "Epoch 159/300\n",
            "104/104 [==============================] - 2s 23ms/step - loss: 0.5595 - accuracy: 0.7811 - val_loss: 0.7211 - val_accuracy: 0.6860\n",
            "Epoch 160/300\n",
            "104/104 [==============================] - 2s 23ms/step - loss: 0.5498 - accuracy: 0.7823 - val_loss: 0.7399 - val_accuracy: 0.6715\n",
            "Epoch 161/300\n",
            "104/104 [==============================] - 2s 22ms/step - loss: 0.5494 - accuracy: 0.7969 - val_loss: 0.7212 - val_accuracy: 0.7295\n",
            "Epoch 162/300\n",
            "104/104 [==============================] - 2s 23ms/step - loss: 0.5434 - accuracy: 0.7830 - val_loss: 0.7510 - val_accuracy: 0.6957\n",
            "Epoch 163/300\n",
            "104/104 [==============================] - 2s 23ms/step - loss: 0.5443 - accuracy: 0.7963 - val_loss: 0.6840 - val_accuracy: 0.7295\n",
            "Epoch 164/300\n",
            "104/104 [==============================] - 2s 22ms/step - loss: 0.5270 - accuracy: 0.7969 - val_loss: 0.7049 - val_accuracy: 0.7005\n",
            "Epoch 165/300\n",
            "104/104 [==============================] - 2s 22ms/step - loss: 0.5326 - accuracy: 0.7932 - val_loss: 0.6719 - val_accuracy: 0.7633\n",
            "Epoch 166/300\n",
            "104/104 [==============================] - 2s 23ms/step - loss: 0.5432 - accuracy: 0.7890 - val_loss: 0.6649 - val_accuracy: 0.7391\n",
            "Epoch 167/300\n",
            "104/104 [==============================] - 2s 23ms/step - loss: 0.5185 - accuracy: 0.7926 - val_loss: 0.6624 - val_accuracy: 0.7198\n",
            "Epoch 168/300\n",
            "104/104 [==============================] - 2s 23ms/step - loss: 0.5214 - accuracy: 0.7956 - val_loss: 0.6972 - val_accuracy: 0.7053\n",
            "Epoch 169/300\n",
            "104/104 [==============================] - 2s 23ms/step - loss: 0.5211 - accuracy: 0.8029 - val_loss: 0.6874 - val_accuracy: 0.6957\n",
            "Epoch 170/300\n",
            "104/104 [==============================] - 2s 23ms/step - loss: 0.5399 - accuracy: 0.7914 - val_loss: 0.7292 - val_accuracy: 0.7150\n",
            "Epoch 171/300\n",
            "104/104 [==============================] - 2s 23ms/step - loss: 0.5302 - accuracy: 0.7860 - val_loss: 0.7399 - val_accuracy: 0.7053\n",
            "Epoch 172/300\n",
            "104/104 [==============================] - 2s 22ms/step - loss: 0.5268 - accuracy: 0.7956 - val_loss: 0.6334 - val_accuracy: 0.7681\n",
            "Epoch 173/300\n",
            "104/104 [==============================] - 2s 23ms/step - loss: 0.5398 - accuracy: 0.7950 - val_loss: 0.6791 - val_accuracy: 0.7343\n",
            "Epoch 174/300\n",
            "104/104 [==============================] - 2s 23ms/step - loss: 0.5279 - accuracy: 0.7963 - val_loss: 0.7134 - val_accuracy: 0.6763\n",
            "Epoch 175/300\n",
            "104/104 [==============================] - 2s 23ms/step - loss: 0.5080 - accuracy: 0.8011 - val_loss: 0.6668 - val_accuracy: 0.7729\n",
            "Epoch 176/300\n",
            "104/104 [==============================] - 2s 23ms/step - loss: 0.4943 - accuracy: 0.8162 - val_loss: 0.6477 - val_accuracy: 0.7343\n",
            "Epoch 177/300\n",
            "104/104 [==============================] - 2s 23ms/step - loss: 0.5196 - accuracy: 0.7969 - val_loss: 0.6701 - val_accuracy: 0.7391\n",
            "Epoch 178/300\n",
            "104/104 [==============================] - 2s 23ms/step - loss: 0.5127 - accuracy: 0.7975 - val_loss: 0.6729 - val_accuracy: 0.7246\n",
            "Epoch 179/300\n",
            "104/104 [==============================] - 2s 23ms/step - loss: 0.4968 - accuracy: 0.7981 - val_loss: 0.6544 - val_accuracy: 0.7488\n",
            "Epoch 180/300\n",
            "104/104 [==============================] - 2s 23ms/step - loss: 0.5196 - accuracy: 0.8011 - val_loss: 0.6412 - val_accuracy: 0.7343\n",
            "Epoch 181/300\n",
            "104/104 [==============================] - 2s 23ms/step - loss: 0.4622 - accuracy: 0.8253 - val_loss: 0.6500 - val_accuracy: 0.7681\n",
            "Epoch 182/300\n",
            "104/104 [==============================] - 2s 23ms/step - loss: 0.5111 - accuracy: 0.8089 - val_loss: 0.6959 - val_accuracy: 0.7295\n",
            "Epoch 183/300\n",
            "104/104 [==============================] - 2s 23ms/step - loss: 0.4907 - accuracy: 0.8114 - val_loss: 0.7239 - val_accuracy: 0.7150\n",
            "Epoch 184/300\n",
            "104/104 [==============================] - 2s 23ms/step - loss: 0.4998 - accuracy: 0.8253 - val_loss: 0.6505 - val_accuracy: 0.7295\n",
            "Epoch 185/300\n",
            "104/104 [==============================] - 2s 24ms/step - loss: 0.4727 - accuracy: 0.8216 - val_loss: 0.6967 - val_accuracy: 0.6812\n",
            "Epoch 186/300\n",
            "104/104 [==============================] - 2s 23ms/step - loss: 0.4768 - accuracy: 0.8089 - val_loss: 0.7517 - val_accuracy: 0.7053\n",
            "Epoch 187/300\n",
            "104/104 [==============================] - 2s 23ms/step - loss: 0.4971 - accuracy: 0.8029 - val_loss: 0.6186 - val_accuracy: 0.7440\n",
            "Epoch 188/300\n",
            "104/104 [==============================] - 2s 23ms/step - loss: 0.4868 - accuracy: 0.8144 - val_loss: 0.6448 - val_accuracy: 0.7343\n",
            "Epoch 189/300\n",
            "104/104 [==============================] - 2s 23ms/step - loss: 0.4854 - accuracy: 0.8108 - val_loss: 0.6741 - val_accuracy: 0.7295\n",
            "Epoch 190/300\n",
            "104/104 [==============================] - 2s 23ms/step - loss: 0.4824 - accuracy: 0.8156 - val_loss: 0.6602 - val_accuracy: 0.7295\n",
            "Epoch 191/300\n",
            "104/104 [==============================] - 2s 24ms/step - loss: 0.4690 - accuracy: 0.8138 - val_loss: 0.6793 - val_accuracy: 0.7343\n",
            "Epoch 192/300\n",
            "104/104 [==============================] - 2s 23ms/step - loss: 0.4430 - accuracy: 0.8362 - val_loss: 0.6679 - val_accuracy: 0.7585\n",
            "Epoch 193/300\n",
            "104/104 [==============================] - 2s 23ms/step - loss: 0.4795 - accuracy: 0.8247 - val_loss: 0.6875 - val_accuracy: 0.7440\n",
            "Epoch 194/300\n",
            "104/104 [==============================] - 2s 23ms/step - loss: 0.4371 - accuracy: 0.8349 - val_loss: 0.6619 - val_accuracy: 0.7101\n",
            "Epoch 195/300\n",
            "104/104 [==============================] - 2s 23ms/step - loss: 0.4491 - accuracy: 0.8289 - val_loss: 0.6687 - val_accuracy: 0.7295\n",
            "Epoch 196/300\n",
            "104/104 [==============================] - 2s 23ms/step - loss: 0.4416 - accuracy: 0.8356 - val_loss: 0.6776 - val_accuracy: 0.7101\n",
            "Epoch 197/300\n",
            "104/104 [==============================] - 2s 23ms/step - loss: 0.4617 - accuracy: 0.8150 - val_loss: 0.6637 - val_accuracy: 0.7295\n",
            "Epoch 198/300\n",
            "104/104 [==============================] - 2s 23ms/step - loss: 0.4632 - accuracy: 0.8283 - val_loss: 0.6995 - val_accuracy: 0.7150\n",
            "Epoch 199/300\n",
            "104/104 [==============================] - 2s 23ms/step - loss: 0.4420 - accuracy: 0.8283 - val_loss: 0.6531 - val_accuracy: 0.7440\n",
            "Epoch 200/300\n",
            "104/104 [==============================] - 2s 22ms/step - loss: 0.4364 - accuracy: 0.8271 - val_loss: 0.6762 - val_accuracy: 0.7391\n",
            "Epoch 201/300\n",
            "104/104 [==============================] - 2s 22ms/step - loss: 0.4584 - accuracy: 0.8204 - val_loss: 0.6686 - val_accuracy: 0.7633\n",
            "Epoch 202/300\n",
            "104/104 [==============================] - 2s 22ms/step - loss: 0.4615 - accuracy: 0.8174 - val_loss: 0.6627 - val_accuracy: 0.7585\n",
            "Epoch 203/300\n",
            "104/104 [==============================] - 2s 23ms/step - loss: 0.4329 - accuracy: 0.8313 - val_loss: 0.6513 - val_accuracy: 0.7391\n",
            "Epoch 204/300\n",
            "104/104 [==============================] - 2s 23ms/step - loss: 0.4256 - accuracy: 0.8301 - val_loss: 0.6351 - val_accuracy: 0.7440\n",
            "Epoch 205/300\n",
            "104/104 [==============================] - 2s 23ms/step - loss: 0.4632 - accuracy: 0.8247 - val_loss: 0.6462 - val_accuracy: 0.7536\n",
            "Epoch 206/300\n",
            "104/104 [==============================] - 2s 23ms/step - loss: 0.4505 - accuracy: 0.8277 - val_loss: 0.6164 - val_accuracy: 0.7343\n",
            "Epoch 207/300\n",
            "104/104 [==============================] - 4s 36ms/step - loss: 0.4255 - accuracy: 0.8374 - val_loss: 0.6497 - val_accuracy: 0.7681\n",
            "Epoch 208/300\n",
            "104/104 [==============================] - 5s 44ms/step - loss: 0.4320 - accuracy: 0.8210 - val_loss: 0.6102 - val_accuracy: 0.7488\n",
            "Epoch 209/300\n",
            "104/104 [==============================] - 4s 43ms/step - loss: 0.4179 - accuracy: 0.8489 - val_loss: 0.6333 - val_accuracy: 0.7585\n",
            "Epoch 210/300\n",
            "104/104 [==============================] - 4s 40ms/step - loss: 0.4312 - accuracy: 0.8337 - val_loss: 0.6350 - val_accuracy: 0.7150\n",
            "Epoch 211/300\n",
            "104/104 [==============================] - 3s 32ms/step - loss: 0.4166 - accuracy: 0.8440 - val_loss: 0.6527 - val_accuracy: 0.7343\n",
            "Epoch 212/300\n",
            "104/104 [==============================] - 2s 23ms/step - loss: 0.4296 - accuracy: 0.8356 - val_loss: 0.6057 - val_accuracy: 0.7778\n",
            "Epoch 213/300\n",
            "104/104 [==============================] - 2s 23ms/step - loss: 0.4161 - accuracy: 0.8380 - val_loss: 0.6189 - val_accuracy: 0.7826\n",
            "Epoch 214/300\n",
            "104/104 [==============================] - 2s 23ms/step - loss: 0.3979 - accuracy: 0.8410 - val_loss: 0.6260 - val_accuracy: 0.7585\n",
            "Epoch 215/300\n",
            "104/104 [==============================] - 2s 23ms/step - loss: 0.3942 - accuracy: 0.8386 - val_loss: 0.5987 - val_accuracy: 0.7633\n",
            "Epoch 216/300\n",
            "104/104 [==============================] - 2s 23ms/step - loss: 0.4080 - accuracy: 0.8464 - val_loss: 0.6056 - val_accuracy: 0.7536\n",
            "Epoch 217/300\n",
            "104/104 [==============================] - 2s 24ms/step - loss: 0.4489 - accuracy: 0.8229 - val_loss: 0.5697 - val_accuracy: 0.7778\n",
            "Epoch 218/300\n",
            "104/104 [==============================] - 2s 23ms/step - loss: 0.4123 - accuracy: 0.8470 - val_loss: 0.6194 - val_accuracy: 0.7488\n",
            "Epoch 219/300\n",
            "104/104 [==============================] - 2s 23ms/step - loss: 0.4026 - accuracy: 0.8531 - val_loss: 0.6103 - val_accuracy: 0.7246\n",
            "Epoch 220/300\n",
            "104/104 [==============================] - 2s 23ms/step - loss: 0.4034 - accuracy: 0.8476 - val_loss: 0.5955 - val_accuracy: 0.7633\n",
            "Epoch 221/300\n",
            "104/104 [==============================] - 2s 23ms/step - loss: 0.3856 - accuracy: 0.8579 - val_loss: 0.5601 - val_accuracy: 0.7923\n",
            "Epoch 222/300\n",
            "104/104 [==============================] - 2s 23ms/step - loss: 0.4206 - accuracy: 0.8434 - val_loss: 0.6309 - val_accuracy: 0.7295\n",
            "Epoch 223/300\n",
            "104/104 [==============================] - 2s 23ms/step - loss: 0.3811 - accuracy: 0.8555 - val_loss: 0.6085 - val_accuracy: 0.7585\n",
            "Epoch 224/300\n",
            "104/104 [==============================] - 2s 23ms/step - loss: 0.3958 - accuracy: 0.8597 - val_loss: 0.6118 - val_accuracy: 0.7729\n",
            "Epoch 225/300\n",
            "104/104 [==============================] - 2s 23ms/step - loss: 0.3617 - accuracy: 0.8646 - val_loss: 0.6448 - val_accuracy: 0.7246\n",
            "Epoch 226/300\n",
            "104/104 [==============================] - 2s 23ms/step - loss: 0.3899 - accuracy: 0.8537 - val_loss: 0.5745 - val_accuracy: 0.7536\n",
            "Epoch 227/300\n",
            "104/104 [==============================] - 2s 23ms/step - loss: 0.3932 - accuracy: 0.8525 - val_loss: 0.6095 - val_accuracy: 0.7729\n",
            "Epoch 228/300\n",
            "104/104 [==============================] - 2s 23ms/step - loss: 0.3741 - accuracy: 0.8700 - val_loss: 0.5967 - val_accuracy: 0.7391\n",
            "Epoch 229/300\n",
            "104/104 [==============================] - 2s 23ms/step - loss: 0.3529 - accuracy: 0.8628 - val_loss: 0.5920 - val_accuracy: 0.7729\n",
            "Epoch 230/300\n",
            "104/104 [==============================] - 2s 23ms/step - loss: 0.3689 - accuracy: 0.8603 - val_loss: 0.6506 - val_accuracy: 0.7488\n",
            "Epoch 231/300\n",
            "104/104 [==============================] - 2s 23ms/step - loss: 0.3494 - accuracy: 0.8640 - val_loss: 0.6216 - val_accuracy: 0.7488\n",
            "Epoch 232/300\n",
            "104/104 [==============================] - 2s 23ms/step - loss: 0.3854 - accuracy: 0.8464 - val_loss: 0.5929 - val_accuracy: 0.7923\n",
            "Epoch 233/300\n",
            "104/104 [==============================] - 2s 23ms/step - loss: 0.3634 - accuracy: 0.8513 - val_loss: 0.6032 - val_accuracy: 0.8019\n",
            "Epoch 234/300\n",
            "104/104 [==============================] - 2s 23ms/step - loss: 0.3770 - accuracy: 0.8579 - val_loss: 0.6026 - val_accuracy: 0.7440\n",
            "Epoch 235/300\n",
            "104/104 [==============================] - 2s 23ms/step - loss: 0.3930 - accuracy: 0.8428 - val_loss: 0.6042 - val_accuracy: 0.7778\n",
            "Epoch 236/300\n",
            "104/104 [==============================] - 2s 23ms/step - loss: 0.3661 - accuracy: 0.8603 - val_loss: 0.6134 - val_accuracy: 0.7874\n",
            "Epoch 237/300\n",
            "104/104 [==============================] - 2s 22ms/step - loss: 0.3478 - accuracy: 0.8694 - val_loss: 0.5774 - val_accuracy: 0.7633\n",
            "Epoch 238/300\n",
            "104/104 [==============================] - 2s 23ms/step - loss: 0.3695 - accuracy: 0.8628 - val_loss: 0.6018 - val_accuracy: 0.7585\n",
            "Epoch 239/300\n",
            "104/104 [==============================] - 2s 23ms/step - loss: 0.3553 - accuracy: 0.8567 - val_loss: 0.6131 - val_accuracy: 0.7440\n",
            "Epoch 240/300\n",
            "104/104 [==============================] - 2s 23ms/step - loss: 0.3616 - accuracy: 0.8555 - val_loss: 0.6257 - val_accuracy: 0.7295\n",
            "Epoch 241/300\n",
            "104/104 [==============================] - 2s 23ms/step - loss: 0.3771 - accuracy: 0.8476 - val_loss: 0.5828 - val_accuracy: 0.7585\n",
            "Epoch 242/300\n",
            "104/104 [==============================] - 2s 23ms/step - loss: 0.3682 - accuracy: 0.8525 - val_loss: 0.5954 - val_accuracy: 0.7585\n",
            "Epoch 243/300\n",
            "104/104 [==============================] - 2s 23ms/step - loss: 0.3412 - accuracy: 0.8688 - val_loss: 0.5816 - val_accuracy: 0.7343\n",
            "Epoch 244/300\n",
            "104/104 [==============================] - 2s 23ms/step - loss: 0.3522 - accuracy: 0.8658 - val_loss: 0.5826 - val_accuracy: 0.7391\n",
            "Epoch 245/300\n",
            "104/104 [==============================] - 2s 23ms/step - loss: 0.3627 - accuracy: 0.8579 - val_loss: 0.6301 - val_accuracy: 0.7150\n",
            "Epoch 246/300\n",
            "104/104 [==============================] - 2s 23ms/step - loss: 0.3085 - accuracy: 0.8888 - val_loss: 0.6027 - val_accuracy: 0.7536\n",
            "Epoch 247/300\n",
            "104/104 [==============================] - 2s 23ms/step - loss: 0.3270 - accuracy: 0.8761 - val_loss: 0.6217 - val_accuracy: 0.7391\n",
            "Epoch 248/300\n",
            "104/104 [==============================] - 3s 27ms/step - loss: 0.3580 - accuracy: 0.8682 - val_loss: 0.5961 - val_accuracy: 0.7633\n",
            "Epoch 249/300\n",
            "104/104 [==============================] - 2s 23ms/step - loss: 0.3415 - accuracy: 0.8706 - val_loss: 0.6080 - val_accuracy: 0.7778\n",
            "Epoch 250/300\n",
            "104/104 [==============================] - 2s 24ms/step - loss: 0.3603 - accuracy: 0.8628 - val_loss: 0.6151 - val_accuracy: 0.7295\n",
            "Epoch 251/300\n",
            "104/104 [==============================] - 2s 23ms/step - loss: 0.3378 - accuracy: 0.8730 - val_loss: 0.6358 - val_accuracy: 0.7585\n",
            "Epoch 252/300\n",
            "104/104 [==============================] - 2s 23ms/step - loss: 0.3457 - accuracy: 0.8706 - val_loss: 0.6235 - val_accuracy: 0.7633\n",
            "Epoch 253/300\n",
            "104/104 [==============================] - 2s 23ms/step - loss: 0.3441 - accuracy: 0.8742 - val_loss: 0.5990 - val_accuracy: 0.7585\n",
            "Epoch 254/300\n",
            "104/104 [==============================] - 2s 23ms/step - loss: 0.3362 - accuracy: 0.8718 - val_loss: 0.5890 - val_accuracy: 0.7681\n",
            "Epoch 255/300\n",
            "104/104 [==============================] - 2s 23ms/step - loss: 0.3268 - accuracy: 0.8797 - val_loss: 0.6384 - val_accuracy: 0.7295\n",
            "Epoch 256/300\n",
            "104/104 [==============================] - 2s 23ms/step - loss: 0.3094 - accuracy: 0.8851 - val_loss: 0.5985 - val_accuracy: 0.7633\n",
            "Epoch 257/300\n",
            "104/104 [==============================] - 2s 23ms/step - loss: 0.3291 - accuracy: 0.8779 - val_loss: 0.6557 - val_accuracy: 0.7343\n",
            "Epoch 258/300\n",
            "104/104 [==============================] - 2s 23ms/step - loss: 0.3085 - accuracy: 0.8912 - val_loss: 0.6287 - val_accuracy: 0.7585\n",
            "Epoch 259/300\n",
            "104/104 [==============================] - 2s 23ms/step - loss: 0.3517 - accuracy: 0.8615 - val_loss: 0.5943 - val_accuracy: 0.7585\n",
            "Epoch 260/300\n",
            "104/104 [==============================] - 2s 24ms/step - loss: 0.3291 - accuracy: 0.8742 - val_loss: 0.6202 - val_accuracy: 0.7729\n",
            "Epoch 261/300\n",
            "104/104 [==============================] - 2s 23ms/step - loss: 0.3147 - accuracy: 0.8839 - val_loss: 0.5727 - val_accuracy: 0.7778\n",
            "Epoch 262/300\n",
            "104/104 [==============================] - 2s 24ms/step - loss: 0.3239 - accuracy: 0.8779 - val_loss: 0.5459 - val_accuracy: 0.7923\n",
            "Epoch 263/300\n",
            "104/104 [==============================] - 2s 24ms/step - loss: 0.3240 - accuracy: 0.8748 - val_loss: 0.5918 - val_accuracy: 0.7971\n",
            "Epoch 264/300\n",
            "104/104 [==============================] - 2s 24ms/step - loss: 0.3073 - accuracy: 0.8942 - val_loss: 0.6054 - val_accuracy: 0.7729\n",
            "Epoch 265/300\n",
            "104/104 [==============================] - 2s 23ms/step - loss: 0.3441 - accuracy: 0.8767 - val_loss: 0.5663 - val_accuracy: 0.8019\n",
            "Epoch 266/300\n",
            "104/104 [==============================] - 2s 23ms/step - loss: 0.3075 - accuracy: 0.8869 - val_loss: 0.5686 - val_accuracy: 0.7826\n",
            "Epoch 267/300\n",
            "104/104 [==============================] - 2s 23ms/step - loss: 0.2925 - accuracy: 0.8930 - val_loss: 0.5774 - val_accuracy: 0.7633\n",
            "Epoch 268/300\n",
            "104/104 [==============================] - 2s 23ms/step - loss: 0.3180 - accuracy: 0.8797 - val_loss: 0.6116 - val_accuracy: 0.7633\n",
            "Epoch 269/300\n",
            "104/104 [==============================] - 2s 24ms/step - loss: 0.3013 - accuracy: 0.8875 - val_loss: 0.6023 - val_accuracy: 0.7440\n",
            "Epoch 270/300\n",
            "104/104 [==============================] - 2s 24ms/step - loss: 0.3089 - accuracy: 0.8881 - val_loss: 0.6230 - val_accuracy: 0.7633\n",
            "Epoch 271/300\n",
            "104/104 [==============================] - 2s 24ms/step - loss: 0.3146 - accuracy: 0.8773 - val_loss: 0.6231 - val_accuracy: 0.7633\n",
            "Epoch 272/300\n",
            "104/104 [==============================] - 2s 24ms/step - loss: 0.3048 - accuracy: 0.8748 - val_loss: 0.5918 - val_accuracy: 0.7874\n",
            "Epoch 273/300\n",
            "104/104 [==============================] - 2s 23ms/step - loss: 0.2762 - accuracy: 0.8912 - val_loss: 0.6138 - val_accuracy: 0.7681\n",
            "Epoch 274/300\n",
            "104/104 [==============================] - 2s 24ms/step - loss: 0.3018 - accuracy: 0.8900 - val_loss: 0.6313 - val_accuracy: 0.7440\n",
            "Epoch 275/300\n",
            "104/104 [==============================] - 2s 23ms/step - loss: 0.2980 - accuracy: 0.8833 - val_loss: 0.6192 - val_accuracy: 0.7585\n",
            "Epoch 276/300\n",
            "104/104 [==============================] - 2s 24ms/step - loss: 0.3012 - accuracy: 0.8900 - val_loss: 0.5752 - val_accuracy: 0.7633\n",
            "Epoch 277/300\n",
            "104/104 [==============================] - 3s 24ms/step - loss: 0.2984 - accuracy: 0.8881 - val_loss: 0.5862 - val_accuracy: 0.7681\n",
            "Epoch 278/300\n",
            "104/104 [==============================] - 2s 24ms/step - loss: 0.2861 - accuracy: 0.8954 - val_loss: 0.5715 - val_accuracy: 0.7681\n",
            "Epoch 279/300\n",
            "104/104 [==============================] - 2s 24ms/step - loss: 0.3037 - accuracy: 0.8815 - val_loss: 0.5561 - val_accuracy: 0.7778\n",
            "Epoch 280/300\n",
            "104/104 [==============================] - 2s 24ms/step - loss: 0.2996 - accuracy: 0.8827 - val_loss: 0.5864 - val_accuracy: 0.7778\n",
            "Epoch 281/300\n",
            "104/104 [==============================] - 2s 24ms/step - loss: 0.3286 - accuracy: 0.8724 - val_loss: 0.5946 - val_accuracy: 0.7536\n",
            "Epoch 282/300\n",
            "104/104 [==============================] - 2s 23ms/step - loss: 0.2979 - accuracy: 0.8894 - val_loss: 0.5916 - val_accuracy: 0.7681\n",
            "Epoch 283/300\n",
            "104/104 [==============================] - 2s 23ms/step - loss: 0.2805 - accuracy: 0.8912 - val_loss: 0.6158 - val_accuracy: 0.7440\n",
            "Epoch 284/300\n",
            "104/104 [==============================] - 2s 24ms/step - loss: 0.2784 - accuracy: 0.8978 - val_loss: 0.5757 - val_accuracy: 0.7633\n",
            "Epoch 285/300\n",
            "104/104 [==============================] - 2s 23ms/step - loss: 0.3057 - accuracy: 0.8779 - val_loss: 0.5935 - val_accuracy: 0.7681\n",
            "Epoch 286/300\n",
            "104/104 [==============================] - 2s 23ms/step - loss: 0.2957 - accuracy: 0.8881 - val_loss: 0.6050 - val_accuracy: 0.7585\n",
            "Epoch 287/300\n",
            "104/104 [==============================] - 2s 23ms/step - loss: 0.2831 - accuracy: 0.8954 - val_loss: 0.5617 - val_accuracy: 0.7874\n",
            "Epoch 288/300\n",
            "104/104 [==============================] - 2s 24ms/step - loss: 0.2796 - accuracy: 0.8942 - val_loss: 0.5631 - val_accuracy: 0.7826\n",
            "Epoch 289/300\n",
            "104/104 [==============================] - 2s 23ms/step - loss: 0.2822 - accuracy: 0.8845 - val_loss: 0.5772 - val_accuracy: 0.7729\n",
            "Epoch 290/300\n",
            "104/104 [==============================] - 2s 23ms/step - loss: 0.2813 - accuracy: 0.9015 - val_loss: 0.6065 - val_accuracy: 0.7440\n",
            "Epoch 291/300\n",
            "104/104 [==============================] - 3s 28ms/step - loss: 0.2750 - accuracy: 0.9021 - val_loss: 0.6343 - val_accuracy: 0.7488\n",
            "Epoch 292/300\n",
            "104/104 [==============================] - 2s 23ms/step - loss: 0.2884 - accuracy: 0.8863 - val_loss: 0.5703 - val_accuracy: 0.7826\n",
            "Epoch 293/300\n",
            "104/104 [==============================] - 2s 23ms/step - loss: 0.3042 - accuracy: 0.8912 - val_loss: 0.6710 - val_accuracy: 0.7585\n",
            "Epoch 294/300\n",
            "104/104 [==============================] - 2s 24ms/step - loss: 0.3036 - accuracy: 0.8924 - val_loss: 0.5567 - val_accuracy: 0.7729\n",
            "Epoch 295/300\n",
            "104/104 [==============================] - 3s 27ms/step - loss: 0.2506 - accuracy: 0.9111 - val_loss: 0.5733 - val_accuracy: 0.7923\n",
            "Epoch 296/300\n",
            "104/104 [==============================] - 2s 24ms/step - loss: 0.2759 - accuracy: 0.8966 - val_loss: 0.5559 - val_accuracy: 0.7633\n",
            "Epoch 297/300\n",
            "104/104 [==============================] - 2s 23ms/step - loss: 0.2848 - accuracy: 0.8930 - val_loss: 0.5851 - val_accuracy: 0.7488\n",
            "Epoch 298/300\n",
            "104/104 [==============================] - 2s 23ms/step - loss: 0.2811 - accuracy: 0.8936 - val_loss: 0.5582 - val_accuracy: 0.7923\n",
            "Epoch 299/300\n",
            "104/104 [==============================] - 3s 24ms/step - loss: 0.2767 - accuracy: 0.8936 - val_loss: 0.5337 - val_accuracy: 0.7826\n",
            "Epoch 300/300\n",
            "104/104 [==============================] - 2s 23ms/step - loss: 0.2675 - accuracy: 0.8936 - val_loss: 0.5817 - val_accuracy: 0.7971\n"
          ]
        }
      ]
    },
    {
      "cell_type": "code",
      "source": [
        "plt.plot(cnnhistory.history['loss'])\n",
        "plt.plot(cnnhistory.history['val_loss'])\n",
        "plt.title('model loss')\n",
        "plt.ylabel('loss')\n",
        "plt.xlabel('epoch')\n",
        "plt.legend(['train','test'], loc='upper left')\n",
        "plt.show()"
      ],
      "metadata": {
        "colab": {
          "base_uri": "https://localhost:8080/",
          "height": 295
        },
        "id": "oQYnuaCrDH_A",
        "outputId": "9a1bebc5-411f-4b17-e766-a0111a040934"
      },
      "execution_count": 22,
      "outputs": [
        {
          "output_type": "display_data",
          "data": {
            "image/png": "[encoded data removed]",
            "text/plain": [
              "<Figure size 432x288 with 1 Axes>"
            ]
          },
          "metadata": {
            "needs_background": "light"
          }
        }
      ]
    },
    {
      "cell_type": "code",
      "source": [
        ""
      ],
      "metadata": {
        "id": "01otXNBSCLs9"
      },
      "execution_count": null,
      "outputs": []
    },
    {
      "cell_type": "code",
      "source": [
        "plt.plot(cnnhistory.history['accuracy'])\n",
        "plt.plot(cnnhistory.history['val_accuracy'])\n",
        "plt.title('model accuracy')\n",
        "plt.ylabel('accuracy')\n",
        "plt.xlabel('epoch')\n",
        "plt.legend(['train','test'], loc='upper left')\n",
        "plt.show()"
      ],
      "metadata": {
        "colab": {
          "base_uri": "https://localhost:8080/",
          "height": 295
        },
        "id": "IFkTuO8nDNdq",
        "outputId": "2013d7c0-57a9-48e7-f6e9-0e2a442813e6"
      },
      "execution_count": 23,
      "outputs": [
        {
          "output_type": "display_data",
          "data": {
            "image/png": "[encoded data removed]",
            "text/plain": [
              "<Figure size 432x288 with 1 Axes>"
            ]
          },
          "metadata": {
            "needs_background": "light"
          }
        }
      ]
    },
    {
      "cell_type": "code",
      "source": [
        "#predictions = model.predict_classes(x_testcnn)\n",
        "predictions = model.predict(x_testcnn)"
      ],
      "metadata": {
        "id": "A2xtrN5wDQgY"
      },
      "execution_count": 24,
      "outputs": []
    },
    {
      "cell_type": "code",
      "source": [
        "predictions"
      ],
      "metadata": {
        "colab": {
          "base_uri": "https://localhost:8080/"
        },
        "id": "_f_ohjXKDUpY",
        "outputId": "79243864-6aa7-4866-9d24-0be27af24852"
      },
      "execution_count": 25,
      "outputs": [
        {
          "output_type": "execute_result",
          "data": {
            "text/plain": [
              "array([[2.22977833e-03, 1.98922376e-03, 4.36319783e-02, 2.06612926e-02,\n",
              "        8.11857224e-01, 1.19630486e-01],\n",
              "       [5.28292032e-03, 9.71840024e-01, 7.19915051e-03, 1.42891696e-02,\n",
              "        8.64988717e-04, 5.23862022e-04],\n",
              "       [6.21842204e-08, 1.06848616e-04, 9.98501778e-01, 2.93970788e-05,\n",
              "        1.08315342e-03, 2.78780324e-04],\n",
              "       ...,\n",
              "       [3.39141727e-04, 5.09374013e-06, 3.61689250e-04, 8.32061749e-03,\n",
              "        9.30237472e-01, 6.07359558e-02],\n",
              "       [4.34835954e-03, 6.66015036e-03, 8.00568704e-03, 4.36496526e-01,\n",
              "        9.01469437e-04, 5.43587744e-01],\n",
              "       [1.10857663e-05, 3.57782437e-06, 8.35619285e-05, 6.46142900e-01,\n",
              "        2.40960787e-07, 3.53758633e-01]], dtype=float32)"
            ]
          },
          "metadata": {},
          "execution_count": 25
        }
      ]
    },
    {
      "cell_type": "code",
      "source": [
        "y_test"
      ],
      "metadata": {
        "colab": {
          "base_uri": "https://localhost:8080/"
        },
        "id": "cmA2bFgsDW3D",
        "outputId": "a77c40f3-97e5-4fb5-de23-d370fb02937a"
      },
      "execution_count": 26,
      "outputs": [
        {
          "output_type": "execute_result",
          "data": {
            "text/plain": [
              "array([5, 1, 2, 5, 4, 3, 2, 0, 3, 0, 3, 2, 0, 3, 3, 0, 5, 0, 2, 4, 0, 0,\n",
              "       1, 3, 2, 3, 2, 5, 3, 1, 2, 4, 2, 2, 5, 5, 3, 5, 3, 3, 4, 1, 2, 2,\n",
              "       3, 1, 5, 3, 1, 0, 4, 5, 5, 5, 5, 1, 2, 3, 2, 5, 0, 2, 4, 2, 5, 4,\n",
              "       2, 0, 2, 3, 5, 2, 0, 3, 4, 4, 4, 0, 5, 5, 3, 4, 5, 3, 2, 4, 1, 5,\n",
              "       0, 5, 0, 5, 4, 0, 1, 4, 0, 2, 2, 0, 2, 4, 5, 3, 4, 5, 3, 1, 2, 2,\n",
              "       2, 1, 3, 2, 1, 2, 4, 4, 2, 1, 2, 4, 5, 1, 4, 2, 0, 4, 5, 5, 3, 1,\n",
              "       2, 1, 5, 5, 1, 2, 3, 3, 0, 3, 3, 0, 1, 0, 1, 2, 2, 5, 2, 2, 2, 1,\n",
              "       1, 0, 1, 1, 1, 4, 0, 1, 5, 1, 5, 5, 5, 4, 1, 0, 3, 5, 2, 4, 1, 4,\n",
              "       1, 3, 2, 0, 5, 5, 3, 5, 4, 5, 4, 0, 4, 1, 2, 1, 4, 0, 4, 3, 2, 1,\n",
              "       0, 3, 5, 0, 4, 5, 4, 5, 3])"
            ]
          },
          "metadata": {},
          "execution_count": 26
        }
      ]
    },
    {
      "cell_type": "code",
      "source": [
        "new_Ytest = y_test.astype(int)"
      ],
      "metadata": {
        "id": "0PHDKWJWDY3g"
      },
      "execution_count": 27,
      "outputs": []
    },
    {
      "cell_type": "code",
      "source": [
        "new_Ytest"
      ],
      "metadata": {
        "colab": {
          "base_uri": "https://localhost:8080/"
        },
        "id": "k68v2i-pDbZE",
        "outputId": "c27915dc-f171-492a-dd91-115f28208fe8"
      },
      "execution_count": 28,
      "outputs": [
        {
          "output_type": "execute_result",
          "data": {
            "text/plain": [
              "array([5, 1, 2, 5, 4, 3, 2, 0, 3, 0, 3, 2, 0, 3, 3, 0, 5, 0, 2, 4, 0, 0,\n",
              "       1, 3, 2, 3, 2, 5, 3, 1, 2, 4, 2, 2, 5, 5, 3, 5, 3, 3, 4, 1, 2, 2,\n",
              "       3, 1, 5, 3, 1, 0, 4, 5, 5, 5, 5, 1, 2, 3, 2, 5, 0, 2, 4, 2, 5, 4,\n",
              "       2, 0, 2, 3, 5, 2, 0, 3, 4, 4, 4, 0, 5, 5, 3, 4, 5, 3, 2, 4, 1, 5,\n",
              "       0, 5, 0, 5, 4, 0, 1, 4, 0, 2, 2, 0, 2, 4, 5, 3, 4, 5, 3, 1, 2, 2,\n",
              "       2, 1, 3, 2, 1, 2, 4, 4, 2, 1, 2, 4, 5, 1, 4, 2, 0, 4, 5, 5, 3, 1,\n",
              "       2, 1, 5, 5, 1, 2, 3, 3, 0, 3, 3, 0, 1, 0, 1, 2, 2, 5, 2, 2, 2, 1,\n",
              "       1, 0, 1, 1, 1, 4, 0, 1, 5, 1, 5, 5, 5, 4, 1, 0, 3, 5, 2, 4, 1, 4,\n",
              "       1, 3, 2, 0, 5, 5, 3, 5, 4, 5, 4, 0, 4, 1, 2, 1, 4, 0, 4, 3, 2, 1,\n",
              "       0, 3, 5, 0, 4, 5, 4, 5, 3])"
            ]
          },
          "metadata": {},
          "execution_count": 28
        }
      ]
    },
    {
      "cell_type": "code",
      "source": [
        "preds1=predictions.argmax(axis=1)\n",
        "preds1"
      ],
      "metadata": {
        "colab": {
          "base_uri": "https://localhost:8080/"
        },
        "id": "4_cAI39VFhtp",
        "outputId": "1fc976f9-8443-40fc-dc3d-d0adc80b00fe"
      },
      "execution_count": 29,
      "outputs": [
        {
          "output_type": "execute_result",
          "data": {
            "text/plain": [
              "array([4, 1, 2, 5, 0, 1, 2, 0, 3, 0, 3, 3, 0, 3, 3, 0, 5, 3, 2, 3, 0, 3,\n",
              "       1, 3, 1, 3, 2, 5, 3, 3, 2, 4, 2, 2, 5, 5, 1, 5, 3, 3, 5, 1, 4, 2,\n",
              "       3, 1, 3, 3, 1, 1, 4, 5, 2, 2, 4, 1, 1, 3, 2, 5, 0, 2, 3, 2, 5, 4,\n",
              "       5, 3, 2, 3, 3, 2, 0, 1, 4, 4, 4, 3, 5, 5, 3, 2, 5, 3, 2, 4, 1, 5,\n",
              "       1, 5, 0, 5, 4, 0, 3, 4, 3, 0, 2, 4, 2, 3, 0, 3, 4, 5, 5, 0, 2, 2,\n",
              "       2, 1, 3, 2, 1, 5, 4, 4, 2, 1, 5, 4, 0, 1, 4, 5, 0, 2, 4, 5, 5, 1,\n",
              "       4, 1, 5, 5, 1, 3, 3, 3, 0, 3, 3, 0, 2, 0, 1, 2, 4, 2, 2, 2, 4, 1,\n",
              "       1, 0, 1, 1, 2, 3, 0, 1, 5, 1, 5, 5, 5, 4, 1, 0, 3, 1, 2, 4, 3, 4,\n",
              "       1, 3, 1, 5, 5, 5, 3, 5, 4, 5, 0, 0, 0, 3, 2, 1, 4, 0, 4, 3, 2, 0,\n",
              "       0, 4, 5, 0, 2, 2, 4, 5, 3])"
            ]
          },
          "metadata": {},
          "execution_count": 29
        }
      ]
    },
    {
      "cell_type": "code",
      "source": [
        "abc = preds1.astype(int).flatten()"
      ],
      "metadata": {
        "id": "H4WEmM60NfQn"
      },
      "execution_count": 30,
      "outputs": []
    },
    {
      "cell_type": "code",
      "source": [
        "from sklearn.metrics import confusion_matrix\n",
        "c = confusion_matrix(new_Ytest, abc) \n",
        "c"
      ],
      "metadata": {
        "colab": {
          "base_uri": "https://localhost:8080/"
        },
        "id": "bKEBeEBlFjB8",
        "outputId": "53db9ec8-5120-4982-c3ed-94277fd2a6c4"
      },
      "execution_count": 31,
      "outputs": [
        {
          "output_type": "execute_result",
          "data": {
            "text/plain": [
              "array([[20,  2,  0,  5,  1,  1],\n",
              "       [ 2, 24,  2,  4,  0,  0],\n",
              "       [ 1,  3, 27,  2,  4,  4],\n",
              "       [ 0,  3,  0, 26,  1,  2],\n",
              "       [ 3,  0,  3,  4, 21,  1],\n",
              "       [ 2,  1,  4,  2,  3, 29]])"
            ]
          },
          "metadata": {},
          "execution_count": 31
        }
      ]
    },
    {
      "cell_type": "code",
      "source": [
        "y_test"
      ],
      "metadata": {
        "colab": {
          "base_uri": "https://localhost:8080/"
        },
        "id": "m4RjG7LWLSQx",
        "outputId": "b97fab86-684b-4ff0-a721-64375c58df6f"
      },
      "execution_count": 32,
      "outputs": [
        {
          "output_type": "execute_result",
          "data": {
            "text/plain": [
              "array([5, 1, 2, 5, 4, 3, 2, 0, 3, 0, 3, 2, 0, 3, 3, 0, 5, 0, 2, 4, 0, 0,\n",
              "       1, 3, 2, 3, 2, 5, 3, 1, 2, 4, 2, 2, 5, 5, 3, 5, 3, 3, 4, 1, 2, 2,\n",
              "       3, 1, 5, 3, 1, 0, 4, 5, 5, 5, 5, 1, 2, 3, 2, 5, 0, 2, 4, 2, 5, 4,\n",
              "       2, 0, 2, 3, 5, 2, 0, 3, 4, 4, 4, 0, 5, 5, 3, 4, 5, 3, 2, 4, 1, 5,\n",
              "       0, 5, 0, 5, 4, 0, 1, 4, 0, 2, 2, 0, 2, 4, 5, 3, 4, 5, 3, 1, 2, 2,\n",
              "       2, 1, 3, 2, 1, 2, 4, 4, 2, 1, 2, 4, 5, 1, 4, 2, 0, 4, 5, 5, 3, 1,\n",
              "       2, 1, 5, 5, 1, 2, 3, 3, 0, 3, 3, 0, 1, 0, 1, 2, 2, 5, 2, 2, 2, 1,\n",
              "       1, 0, 1, 1, 1, 4, 0, 1, 5, 1, 5, 5, 5, 4, 1, 0, 3, 5, 2, 4, 1, 4,\n",
              "       1, 3, 2, 0, 5, 5, 3, 5, 4, 5, 4, 0, 4, 1, 2, 1, 4, 0, 4, 3, 2, 1,\n",
              "       0, 3, 5, 0, 4, 5, 4, 5, 3])"
            ]
          },
          "metadata": {},
          "execution_count": 32
        }
      ]
    },
    {
      "cell_type": "code",
      "source": [
        "model.save('/content/drive/My Drive/graduation project/audio/paper_code/mariam/original_300 epoch_with_valid_RMS')\n",
        "print(\"MODEL SAVED\")"
      ],
      "metadata": {
        "colab": {
          "base_uri": "https://localhost:8080/"
        },
        "id": "lsJBNeMWDl6Z",
        "outputId": "c35abfee-255d-4b36-b500-e8afc10c4a03"
      },
      "execution_count": 33,
      "outputs": [
        {
          "output_type": "stream",
          "name": "stdout",
          "text": [
            "INFO:tensorflow:Assets written to: /content/drive/My Drive/graduation project/audio/paper_code/mariam/original_300 epoch_with_valid_RMS/assets\n",
            "MODEL SAVED\n"
          ]
        }
      ]
    },
    {
      "cell_type": "code",
      "source": [
        "new_model=keras.models.load_model('/content/drive/My Drive/graduation project/audio/paper_code/mariam/original_300 epoch_with_valid_RMS')\n",
        "new_model.summary()"
      ],
      "metadata": {
        "colab": {
          "base_uri": "https://localhost:8080/"
        },
        "id": "Q3KjaO9GDoNl",
        "outputId": "11ef31fc-4bd6-40fe-e8fe-36b2659b23e2"
      },
      "execution_count": 34,
      "outputs": [
        {
          "output_type": "stream",
          "name": "stdout",
          "text": [
            "Model: \"sequential\"\n",
            "_________________________________________________________________\n",
            " Layer (type)                Output Shape              Param #   \n",
            "=================================================================\n",
            " conv1d (Conv1D)             (None, 40, 128)           1152      \n",
            "                                                                 \n",
            " activation (Activation)     (None, 40, 128)           0         \n",
            "                                                                 \n",
            " dropout (Dropout)           (None, 40, 128)           0         \n",
            "                                                                 \n",
            " max_pooling1d (MaxPooling1D  (None, 8, 128)           0         \n",
            " )                                                               \n",
            "                                                                 \n",
            " conv1d_1 (Conv1D)           (None, 8, 256)            262400    \n",
            "                                                                 \n",
            " activation_1 (Activation)   (None, 8, 256)            0         \n",
            "                                                                 \n",
            " dropout_1 (Dropout)         (None, 8, 256)            0         \n",
            "                                                                 \n",
            " max_pooling1d_1 (MaxPooling  (None, 1, 256)           0         \n",
            " 1D)                                                             \n",
            "                                                                 \n",
            " flatten (Flatten)           (None, 256)               0         \n",
            "                                                                 \n",
            " dense (Dense)               (None, 256)               65792     \n",
            "                                                                 \n",
            " activation_2 (Activation)   (None, 256)               0         \n",
            "                                                                 \n",
            " dense_1 (Dense)             (None, 256)               65792     \n",
            "                                                                 \n",
            " activation_3 (Activation)   (None, 256)               0         \n",
            "                                                                 \n",
            " dense_2 (Dense)             (None, 6)                 1542      \n",
            "                                                                 \n",
            " activation_4 (Activation)   (None, 6)                 0         \n",
            "                                                                 \n",
            "=================================================================\n",
            "Total params: 396,678\n",
            "Trainable params: 396,678\n",
            "Non-trainable params: 0\n",
            "_________________________________________________________________\n"
          ]
        }
      ]
    },
    {
      "cell_type": "code",
      "source": [
        "predictions = new_model.predict(x_testcnn)"
      ],
      "metadata": {
        "id": "WOKeSzc7T-MZ"
      },
      "execution_count": 35,
      "outputs": []
    },
    {
      "cell_type": "code",
      "source": [
        "predictions"
      ],
      "metadata": {
        "colab": {
          "base_uri": "https://localhost:8080/"
        },
        "id": "3RjQxa2RUBKQ",
        "outputId": "ce512676-ccb4-4350-d44e-494e5d5904f8"
      },
      "execution_count": 36,
      "outputs": [
        {
          "output_type": "execute_result",
          "data": {
            "text/plain": [
              "array([[2.22977833e-03, 1.98922376e-03, 4.36319783e-02, 2.06612926e-02,\n",
              "        8.11857224e-01, 1.19630486e-01],\n",
              "       [5.28292032e-03, 9.71840024e-01, 7.19915051e-03, 1.42891696e-02,\n",
              "        8.64988717e-04, 5.23862022e-04],\n",
              "       [6.21842204e-08, 1.06848616e-04, 9.98501778e-01, 2.93970788e-05,\n",
              "        1.08315342e-03, 2.78780324e-04],\n",
              "       ...,\n",
              "       [3.39141727e-04, 5.09374013e-06, 3.61689250e-04, 8.32061749e-03,\n",
              "        9.30237472e-01, 6.07359558e-02],\n",
              "       [4.34835954e-03, 6.66015036e-03, 8.00568704e-03, 4.36496526e-01,\n",
              "        9.01469437e-04, 5.43587744e-01],\n",
              "       [1.10857663e-05, 3.57782437e-06, 8.35619285e-05, 6.46142900e-01,\n",
              "        2.40960787e-07, 3.53758633e-01]], dtype=float32)"
            ]
          },
          "metadata": {},
          "execution_count": 36
        }
      ]
    },
    {
      "cell_type": "code",
      "source": [
        "loss, acc =new_model.evaluate(x_testcnn, y_test)\n",
        "print(\"Restored model, accuracy: {:5.2f}%\".format(100*acc))"
      ],
      "metadata": {
        "colab": {
          "base_uri": "https://localhost:8080/"
        },
        "id": "n3kzoqPkDqqS",
        "outputId": "61574e73-9100-42de-b24a-9ee715090aee"
      },
      "execution_count": 37,
      "outputs": [
        {
          "output_type": "stream",
          "name": "stdout",
          "text": [
            "7/7 [==============================] - 0s 5ms/step - loss: 0.8289 - accuracy: 0.7101\n",
            "Restored model, accuracy: 71.01%\n"
          ]
        }
      ]
    },
    {
      "cell_type": "code",
      "source": [
        "loss, acc =new_model.evaluate(X_train, y_train)\n",
        "print(\"Restored model train, accuracy: {:5.2f}%\".format(100*acc))"
      ],
      "metadata": {
        "id": "fJDTGH_OUX0z",
        "colab": {
          "base_uri": "https://localhost:8080/"
        },
        "outputId": "dc851bd6-799a-4737-c9a9-b54aef95dff5"
      },
      "execution_count": 38,
      "outputs": [
        {
          "output_type": "stream",
          "name": "stdout",
          "text": [
            "52/52 [==============================] - 0s 6ms/step - loss: 0.1464 - accuracy: 0.9770\n",
            "Restored model train, accuracy: 97.70%\n"
          ]
        }
      ]
    },
    {
      "cell_type": "code",
      "source": [
        "from sklearn.metrics import classification_report, confusion_matrix,accuracy_score\n",
        "import seaborn as sn\n",
        "\n",
        "print(classification_report(new_Ytest,abc))\n",
        "\n",
        "acc = float(accuracy_score(new_Ytest,abc))*100\n",
        "print(\"----accuracy score %s ----\" % acc)\n",
        "\n",
        "cm = confusion_matrix(new_Ytest,abc)\n",
        "#df_cm = pd.DataFrame(cm)\n",
        "class_names = ['neutral','calm', 'happy','sad','angry', 'fearful' ]\n",
        "df_cm = pd.DataFrame(cm, index=class_names, columns=class_names,)\n",
        "sn.heatmap(df_cm, annot=True, fmt='')\n",
        "plt.show()"
      ],
      "metadata": {
        "colab": {
          "base_uri": "https://localhost:8080/",
          "height": 508
        },
        "id": "SfSC3El94LZg",
        "outputId": "fe3bb659-29a1-44c3-994f-03ecbdf2f981"
      },
      "execution_count": 39,
      "outputs": [
        {
          "output_type": "stream",
          "name": "stdout",
          "text": [
            "              precision    recall  f1-score   support\n",
            "\n",
            "           0       0.71      0.69      0.70        29\n",
            "           1       0.73      0.75      0.74        32\n",
            "           2       0.75      0.66      0.70        41\n",
            "           3       0.60      0.81      0.69        32\n",
            "           4       0.70      0.66      0.68        32\n",
            "           5       0.78      0.71      0.74        41\n",
            "\n",
            "    accuracy                           0.71       207\n",
            "   macro avg       0.71      0.71      0.71       207\n",
            "weighted avg       0.72      0.71      0.71       207\n",
            "\n",
            "----accuracy score 71.01449275362319 ----\n"
          ]
        },
        {
          "output_type": "display_data",
          "data": {
            "image/png": "[encoded data removed]",
            "text/plain": [
              "<Figure size 432x288 with 2 Axes>"
            ]
          },
          "metadata": {
            "needs_background": "light"
          }
        }
      ]
    },
    {
      "cell_type": "code",
      "source": [
        ""
      ],
      "metadata": {
        "id": "y5OoGgupF7kU"
      },
      "execution_count": null,
      "outputs": []
    }
  ]
}