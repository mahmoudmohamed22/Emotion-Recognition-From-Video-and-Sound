{
  "nbformat": 4,
  "nbformat_minor": 0,
  "metadata": {
    "colab": {
      "name": "count files in dataset.ipynb",
      "provenance": [],
      "collapsed_sections": []
    },
    "kernelspec": {
      "name": "python3",
      "display_name": "Python 3"
    },
    "language_info": {
      "name": "python"
    }
  },
  "cells": [
    {
      "cell_type": "code",
      "execution_count": 15,
      "metadata": {
        "colab": {
          "base_uri": "https://localhost:8080/"
        },
        "id": "HFQH1o68Kq7o",
        "outputId": "826db492-5e66-4baf-bc52-ca7dbebcf46e"
      },
      "outputs": [
        {
          "output_type": "stream",
          "name": "stdout",
          "text": [
            "/content/drive/MyDrive/Video_Speech\n",
            "/content/drive/MyDrive/Video_Speech/Actor_06\n",
            "/content/drive/MyDrive/Video_Speech/Actor_07\n",
            "/content/drive/MyDrive/Video_Speech/Actor_08\n",
            "/content/drive/MyDrive/Video_Speech/Actor_09\n",
            "/content/drive/MyDrive/Video_Speech/Actor_10\n",
            "/content/drive/MyDrive/Video_Speech/Actor_11\n",
            "/content/drive/MyDrive/Video_Speech/Actor_12\n",
            "/content/drive/MyDrive/Video_Speech/Actor_13\n",
            "/content/drive/MyDrive/Video_Speech/Actor_14\n",
            "/content/drive/MyDrive/Video_Speech/Actor_15\n",
            "/content/drive/MyDrive/Video_Speech/Actor_16\n",
            "/content/drive/MyDrive/Video_Speech/Actor_17\n",
            "/content/drive/MyDrive/Video_Speech/Actor_01\n",
            "/content/drive/MyDrive/Video_Speech/Actor_02\n",
            "/content/drive/MyDrive/Video_Speech/Actor_03\n",
            "/content/drive/MyDrive/Video_Speech/Actor_04\n",
            "/content/drive/MyDrive/Video_Speech/Actor_05\n",
            "/content/drive/MyDrive/Video_Speech/Actor_18\n",
            "/content/drive/MyDrive/Video_Speech/Actor_19\n",
            "/content/drive/MyDrive/Video_Speech/Actor_20\n",
            "/content/drive/MyDrive/Video_Speech/Actor_21\n",
            "/content/drive/MyDrive/Video_Speech/Actor_22\n",
            "/content/drive/MyDrive/Video_Speech/Actor_23\n",
            "/content/drive/MyDrive/Video_Speech/Actor_24\n",
            "2880\n"
          ]
        }
      ],
      "source": [
        "import shutil\n",
        "import time\n",
        "import os\n",
        "import librosa\n",
        "from librosa import display\n",
        "import matplotlib.pyplot as plt\n",
        "\n",
        "count=0\n",
        "\n",
        "path1='/content/drive/MyDrive/Video_Speech'\n",
        "\n",
        "for subdir, dirs, files in os.walk(path1):\n",
        "  print(subdir)\n",
        "  for file in files:\n",
        "      \n",
        "      count=count+1\n",
        "      \n",
        "    \n",
        "        \n",
        "       \n",
        "      # If the file is not valid, skip it\n",
        "      \n",
        "print(count) "
      ]
    }
  ]
}