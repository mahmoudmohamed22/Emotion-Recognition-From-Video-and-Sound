{
  "nbformat": 4,
  "nbformat_minor": 0,
  "metadata": {
    "colab": {
      "name": "expert3.ipynb",
      "provenance": [],
      "collapsed_sections": [],
      "machine_shape": "hm"
    },
    "kernelspec": {
      "name": "python3",
      "display_name": "Python 3"
    },
    "accelerator": "GPU"
  },
  "cells": [
    {
      "cell_type": "code",
      "source": [
        "# Discard the output of this cell.\n",
        "#%%capture\n",
        "\n",
        "# Install the required libraries.\n",
        "!pip install tensorflow opencv-contrib-python youtube-dl moviepy pydot\n",
        "!pip install git+https://github.com/TahaAnwar/pafy.git#egg=pafy"
      ],
      "metadata": {
        "id": "MChAq7xYwD1o",
        "outputId": "87030c52-b4e2-4196-b8e7-7bf0b5660b14",
        "colab": {
          "base_uri": "https://localhost:8080/"
        }
      },
      "execution_count": 1,
      "outputs": [
        {
          "output_type": "stream",
          "name": "stdout",
          "text": [
            "Looking in indexes: https://pypi.org/simple, https://us-python.pkg.dev/colab-wheels/public/simple/\n",
            "Requirement already satisfied: tensorflow in /usr/local/lib/python3.7/dist-packages (2.8.2+zzzcolab20220527125636)\n",
            "Requirement already satisfied: opencv-contrib-python in /usr/local/lib/python3.7/dist-packages (4.1.2.30)\n",
            "Requirement already satisfied: youtube-dl in /usr/local/lib/python3.7/dist-packages (2021.12.17)\n",
            "Requirement already satisfied: moviepy in /usr/local/lib/python3.7/dist-packages (0.2.3.5)\n",
            "Requirement already satisfied: pydot in /usr/local/lib/python3.7/dist-packages (1.3.0)\n",
            "Requirement already satisfied: tensorflow-estimator<2.9,>=2.8 in /usr/local/lib/python3.7/dist-packages (from tensorflow) (2.8.0)\n",
            "Requirement already satisfied: opt-einsum>=2.3.2 in /usr/local/lib/python3.7/dist-packages (from tensorflow) (3.3.0)\n",
            "Requirement already satisfied: typing-extensions>=3.6.6 in /usr/local/lib/python3.7/dist-packages (from tensorflow) (4.2.0)\n",
            "Requirement already satisfied: six>=1.12.0 in /usr/local/lib/python3.7/dist-packages (from tensorflow) (1.15.0)\n",
            "Requirement already satisfied: grpcio<2.0,>=1.24.3 in /usr/local/lib/python3.7/dist-packages (from tensorflow) (1.46.3)\n",
            "Requirement already satisfied: protobuf<3.20,>=3.9.2 in /usr/local/lib/python3.7/dist-packages (from tensorflow) (3.17.3)\n",
            "Requirement already satisfied: astunparse>=1.6.0 in /usr/local/lib/python3.7/dist-packages (from tensorflow) (1.6.3)\n",
            "Requirement already satisfied: tensorboard<2.9,>=2.8 in /usr/local/lib/python3.7/dist-packages (from tensorflow) (2.8.0)\n",
            "Requirement already satisfied: google-pasta>=0.1.1 in /usr/local/lib/python3.7/dist-packages (from tensorflow) (0.2.0)\n",
            "Requirement already satisfied: setuptools in /usr/local/lib/python3.7/dist-packages (from tensorflow) (57.4.0)\n",
            "Requirement already satisfied: gast>=0.2.1 in /usr/local/lib/python3.7/dist-packages (from tensorflow) (0.5.3)\n",
            "Requirement already satisfied: termcolor>=1.1.0 in /usr/local/lib/python3.7/dist-packages (from tensorflow) (1.1.0)\n",
            "Requirement already satisfied: wrapt>=1.11.0 in /usr/local/lib/python3.7/dist-packages (from tensorflow) (1.14.1)\n",
            "Requirement already satisfied: h5py>=2.9.0 in /usr/local/lib/python3.7/dist-packages (from tensorflow) (3.1.0)\n",
            "Requirement already satisfied: keras-preprocessing>=1.1.1 in /usr/local/lib/python3.7/dist-packages (from tensorflow) (1.1.2)\n",
            "Requirement already satisfied: numpy>=1.20 in /usr/local/lib/python3.7/dist-packages (from tensorflow) (1.21.6)\n",
            "Requirement already satisfied: keras<2.9,>=2.8.0rc0 in /usr/local/lib/python3.7/dist-packages (from tensorflow) (2.8.0)\n",
            "Requirement already satisfied: tensorflow-io-gcs-filesystem>=0.23.1 in /usr/local/lib/python3.7/dist-packages (from tensorflow) (0.26.0)\n",
            "Requirement already satisfied: flatbuffers>=1.12 in /usr/local/lib/python3.7/dist-packages (from tensorflow) (2.0)\n",
            "Requirement already satisfied: libclang>=9.0.1 in /usr/local/lib/python3.7/dist-packages (from tensorflow) (14.0.1)\n",
            "Requirement already satisfied: absl-py>=0.4.0 in /usr/local/lib/python3.7/dist-packages (from tensorflow) (1.0.0)\n",
            "Requirement already satisfied: wheel<1.0,>=0.23.0 in /usr/local/lib/python3.7/dist-packages (from astunparse>=1.6.0->tensorflow) (0.37.1)\n",
            "Requirement already satisfied: cached-property in /usr/local/lib/python3.7/dist-packages (from h5py>=2.9.0->tensorflow) (1.5.2)\n",
            "Requirement already satisfied: requests<3,>=2.21.0 in /usr/local/lib/python3.7/dist-packages (from tensorboard<2.9,>=2.8->tensorflow) (2.23.0)\n",
            "Requirement already satisfied: werkzeug>=0.11.15 in /usr/local/lib/python3.7/dist-packages (from tensorboard<2.9,>=2.8->tensorflow) (1.0.1)\n",
            "Requirement already satisfied: google-auth<3,>=1.6.3 in /usr/local/lib/python3.7/dist-packages (from tensorboard<2.9,>=2.8->tensorflow) (1.35.0)\n",
            "Requirement already satisfied: google-auth-oauthlib<0.5,>=0.4.1 in /usr/local/lib/python3.7/dist-packages (from tensorboard<2.9,>=2.8->tensorflow) (0.4.6)\n",
            "Requirement already satisfied: tensorboard-data-server<0.7.0,>=0.6.0 in /usr/local/lib/python3.7/dist-packages (from tensorboard<2.9,>=2.8->tensorflow) (0.6.1)\n",
            "Requirement already satisfied: markdown>=2.6.8 in /usr/local/lib/python3.7/dist-packages (from tensorboard<2.9,>=2.8->tensorflow) (3.3.7)\n",
            "Requirement already satisfied: tensorboard-plugin-wit>=1.6.0 in /usr/local/lib/python3.7/dist-packages (from tensorboard<2.9,>=2.8->tensorflow) (1.8.1)\n",
            "Requirement already satisfied: rsa<5,>=3.1.4 in /usr/local/lib/python3.7/dist-packages (from google-auth<3,>=1.6.3->tensorboard<2.9,>=2.8->tensorflow) (4.8)\n",
            "Requirement already satisfied: pyasn1-modules>=0.2.1 in /usr/local/lib/python3.7/dist-packages (from google-auth<3,>=1.6.3->tensorboard<2.9,>=2.8->tensorflow) (0.2.8)\n",
            "Requirement already satisfied: cachetools<5.0,>=2.0.0 in /usr/local/lib/python3.7/dist-packages (from google-auth<3,>=1.6.3->tensorboard<2.9,>=2.8->tensorflow) (4.2.4)\n",
            "Requirement already satisfied: requests-oauthlib>=0.7.0 in /usr/local/lib/python3.7/dist-packages (from google-auth-oauthlib<0.5,>=0.4.1->tensorboard<2.9,>=2.8->tensorflow) (1.3.1)\n",
            "Requirement already satisfied: importlib-metadata>=4.4 in /usr/local/lib/python3.7/dist-packages (from markdown>=2.6.8->tensorboard<2.9,>=2.8->tensorflow) (4.11.4)\n",
            "Requirement already satisfied: zipp>=0.5 in /usr/local/lib/python3.7/dist-packages (from importlib-metadata>=4.4->markdown>=2.6.8->tensorboard<2.9,>=2.8->tensorflow) (3.8.0)\n",
            "Requirement already satisfied: pyasn1<0.5.0,>=0.4.6 in /usr/local/lib/python3.7/dist-packages (from pyasn1-modules>=0.2.1->google-auth<3,>=1.6.3->tensorboard<2.9,>=2.8->tensorflow) (0.4.8)\n",
            "Requirement already satisfied: urllib3!=1.25.0,!=1.25.1,<1.26,>=1.21.1 in /usr/local/lib/python3.7/dist-packages (from requests<3,>=2.21.0->tensorboard<2.9,>=2.8->tensorflow) (1.24.3)\n",
            "Requirement already satisfied: certifi>=2017.4.17 in /usr/local/lib/python3.7/dist-packages (from requests<3,>=2.21.0->tensorboard<2.9,>=2.8->tensorflow) (2022.5.18.1)\n",
            "Requirement already satisfied: idna<3,>=2.5 in /usr/local/lib/python3.7/dist-packages (from requests<3,>=2.21.0->tensorboard<2.9,>=2.8->tensorflow) (2.10)\n",
            "Requirement already satisfied: chardet<4,>=3.0.2 in /usr/local/lib/python3.7/dist-packages (from requests<3,>=2.21.0->tensorboard<2.9,>=2.8->tensorflow) (3.0.4)\n",
            "Requirement already satisfied: oauthlib>=3.0.0 in /usr/local/lib/python3.7/dist-packages (from requests-oauthlib>=0.7.0->google-auth-oauthlib<0.5,>=0.4.1->tensorboard<2.9,>=2.8->tensorflow) (3.2.0)\n",
            "Requirement already satisfied: decorator<5.0,>=4.0.2 in /usr/local/lib/python3.7/dist-packages (from moviepy) (4.4.2)\n",
            "Requirement already satisfied: imageio<3.0,>=2.1.2 in /usr/local/lib/python3.7/dist-packages (from moviepy) (2.4.1)\n",
            "Requirement already satisfied: tqdm<5.0,>=4.11.2 in /usr/local/lib/python3.7/dist-packages (from moviepy) (4.64.0)\n",
            "Requirement already satisfied: pillow in /usr/local/lib/python3.7/dist-packages (from imageio<3.0,>=2.1.2->moviepy) (7.1.2)\n",
            "Requirement already satisfied: pyparsing>=2.1.4 in /usr/local/lib/python3.7/dist-packages (from pydot) (3.0.9)\n",
            "Looking in indexes: https://pypi.org/simple, https://us-python.pkg.dev/colab-wheels/public/simple/\n",
            "Collecting pafy\n",
            "  Cloning https://github.com/TahaAnwar/pafy.git to /tmp/pip-install-86ftuw5s/pafy_30ecac9d1a7249d7b9ae69cdd1f9a5b4\n",
            "  Running command git clone -q https://github.com/TahaAnwar/pafy.git /tmp/pip-install-86ftuw5s/pafy_30ecac9d1a7249d7b9ae69cdd1f9a5b4\n"
          ]
        }
      ]
    },
    {
      "cell_type": "code",
      "source": [
        "# Import the required libraries.\n",
        "import os\n",
        "import cv2\n",
        "import pafy\n",
        "import math\n",
        "import random\n",
        "import numpy as np\n",
        "import datetime as dt\n",
        "import tensorflow as tf\n",
        "from collections import deque\n",
        "import matplotlib.pyplot as plt\n",
        "\n",
        "from moviepy.editor import *\n",
        "%matplotlib inline\n",
        "\n",
        "from sklearn.model_selection import train_test_split\n",
        "\n",
        "from tensorflow.keras.layers import *\n",
        "from tensorflow.keras.models import Sequential\n",
        "from tensorflow.keras.utils import to_categorical\n",
        "from tensorflow.keras.callbacks import EarlyStopping\n",
        "from tensorflow.keras.utils import plot_model\n",
        "import glob"
      ],
      "metadata": {
        "id": "1nJVuzQAwGQp"
      },
      "execution_count": 2,
      "outputs": []
    },
    {
      "cell_type": "code",
      "source": [
        "seed_constant = 27\n",
        "np.random.seed(seed_constant)\n",
        "random.seed(seed_constant)\n",
        "tf.random.set_seed(seed_constant)\n"
      ],
      "metadata": {
        "id": "IoMuaveSwK6K"
      },
      "execution_count": 3,
      "outputs": []
    },
    {
      "cell_type": "code",
      "source": [
        "# Specify the height and width to which each video frame will be resized in our dataset.\n",
        "IMAGE_HEIGHT , IMAGE_WIDTH = 64, 64\n",
        "\n",
        "# Specify the number of frames of a video that will be fed to the model as one sequence.\n",
        "SEQUENCE_LENGTH = 30\n",
        "\n",
        "# Specify the directory containing the UCF50 dataset. \n",
        "#DATASET_DIR = \"/content/drive/MyDrive/frames_ravdess_label\"\n",
        "\n",
        "# Specify the list containing the names of the classes used for training. Feel free to choose any set of classes.\n",
        "CLASSES_LIST = [\"neutral\", \"calm\", \"happy\", \"sad\",\"angry\",\"fearful\"]"
      ],
      "metadata": {
        "id": "GcOPbLHXwNW6"
      },
      "execution_count": 4,
      "outputs": []
    },
    {
      "cell_type": "code",
      "source": [
        "from google.colab import drive\n",
        "drive.mount('/content/drive')"
      ],
      "metadata": {
        "id": "R4qTnVYzwtnU",
        "outputId": "c26f0617-733d-4116-b7b3-209feabd7bab",
        "colab": {
          "base_uri": "https://localhost:8080/"
        }
      },
      "execution_count": 5,
      "outputs": [
        {
          "output_type": "stream",
          "name": "stdout",
          "text": [
            "Mounted at /content/drive\n"
          ]
        }
      ]
    },
    {
      "cell_type": "code",
      "source": [
        "import joblib\n",
        "features = joblib.load('/content/drive/My Drive/features_ravdess/data_set/features_data')\n",
        "labels = joblib.load('/content/drive/MyDrive/features_ravdess/data_set/labels')\n",
        "video_files_paths = joblib.load('/content/drive/My Drive/features_ravdess/data_set/video_path')"
      ],
      "metadata": {
        "id": "Hpib_QJowRPo"
      },
      "execution_count": 5,
      "outputs": []
    },
    {
      "cell_type": "code",
      "source": [
        "features = np.asarray(features)\n",
        "labels = np.array(labels)  "
      ],
      "metadata": {
        "id": "PH_q4iTSwt_7"
      },
      "execution_count": 6,
      "outputs": []
    },
    {
      "cell_type": "code",
      "source": [
        "features.shape"
      ],
      "metadata": {
        "id": "EcUFSl-ExLkk",
        "outputId": "33d63294-f9a9-4a33-87bc-05870d738b38",
        "colab": {
          "base_uri": "https://localhost:8080/"
        }
      },
      "execution_count": 7,
      "outputs": [
        {
          "output_type": "execute_result",
          "data": {
            "text/plain": [
              "(2067, 30, 64, 64, 3)"
            ]
          },
          "metadata": {},
          "execution_count": 7
        }
      ]
    },
    {
      "cell_type": "code",
      "source": [
        "# Using Keras's to_categorical method to convert labels into one-hot-encoded vectors\n",
        "one_hot_encoded_labels = to_categorical(labels)"
      ],
      "metadata": {
        "id": "byN_xKZ1w3db"
      },
      "execution_count": 8,
      "outputs": []
    },
    {
      "cell_type": "code",
      "source": [
        "# Split the Data into Train ( 80% ) and Test Set ( 20% ).\n",
        "features_train, features_test, labels_train, labels_test = train_test_split(features, one_hot_encoded_labels,\n",
        "                                                                            test_size = 0.10, shuffle = True,\n",
        "                                                                            random_state = seed_constant)"
      ],
      "metadata": {
        "id": "Xbo5u-ynw4bP"
      },
      "execution_count": 9,
      "outputs": []
    },
    {
      "cell_type": "code",
      "source": [
        "def create_LRCN_model():\n",
        "    '''\n",
        "    This function will construct the required LRCN model.\n",
        "    Returns:\n",
        "        model: It is the required constructed LRCN model.\n",
        "    '''\n",
        "\n",
        "    # We will use a Sequential model for model construction.\n",
        "    model = Sequential()\n",
        "   \n",
        "    # Define the Model Architecture.\n",
        "    ########################################################################################################################\n",
        "    \n",
        "    model.add(TimeDistributed(Conv2D(16, (3,3), padding='same'),\n",
        "                              input_shape = (SEQUENCE_LENGTH, IMAGE_HEIGHT, IMAGE_WIDTH, 3)))\n",
        "    model.add(TimeDistributed(BatchNormalization()))\n",
        "    model.add(TimeDistributed(Activation('relu')))\n",
        "    model.add(TimeDistributed(MaxPooling2D((4, 4)))) \n",
        "    model.add(TimeDistributed(Dropout(0.1)))\n",
        "    \n",
        "    model.add(TimeDistributed(Conv2D(32, (3,3), padding='same')))\n",
        "    model.add(TimeDistributed(BatchNormalization()))\n",
        "    model.add(TimeDistributed(Activation('relu')))\n",
        "    model.add(TimeDistributed(MaxPooling2D((4, 4))))\n",
        "    model.add(TimeDistributed(Dropout(0.2)))\n",
        "    \n",
        "    model.add(TimeDistributed(Conv2D(64, (3,3), padding='same')))\n",
        "    model.add(TimeDistributed(BatchNormalization()))\n",
        "    model.add(TimeDistributed(Activation('relu')))\n",
        "    model.add(TimeDistributed(MaxPooling2D((2, 2))))\n",
        "    model.add(TimeDistributed(Dropout(0.3)))\n",
        "    \n",
        "    model.add(TimeDistributed(Conv2D(64, (3,3), padding='same')))\n",
        "    model.add(TimeDistributed(BatchNormalization()))\n",
        "    model.add(TimeDistributed(Activation('relu')))\n",
        "    model.add(TimeDistributed(MaxPooling2D((2, 2))))\n",
        "    #model.add(TimeDistributed(Dropout(0.25)))\n",
        "                                      \n",
        "    model.add(TimeDistributed(Flatten()))\n",
        "                                      \n",
        "    model.add(LSTM(64))\n",
        "                                      \n",
        "    model.add(Dense(len(CLASSES_LIST), activation = 'softmax'))\n",
        "\n",
        "    ########################################################################################################################\n",
        "\n",
        "    # Display the models summary.\n",
        "    model.summary()\n",
        "    \n",
        "    # Return the constructed LRCN model.\n",
        "    return model"
      ],
      "metadata": {
        "id": "ANf9NyOAw7Fa"
      },
      "execution_count": 10,
      "outputs": []
    },
    {
      "cell_type": "code",
      "source": [
        "# Construct the required LRCN model.\n",
        "LRCN_model = create_LRCN_model()\n",
        "\n",
        "# Display the success message.\n",
        "print(\"Model Created Successfully!\")"
      ],
      "metadata": {
        "id": "VX1aE7GoxSHl",
        "outputId": "ffbe6d4f-5a38-4b20-b3b8-44f45931ae04",
        "colab": {
          "base_uri": "https://localhost:8080/"
        }
      },
      "execution_count": 11,
      "outputs": [
        {
          "output_type": "stream",
          "name": "stdout",
          "text": [
            "Model: \"sequential\"\n",
            "_________________________________________________________________\n",
            " Layer (type)                Output Shape              Param #   \n",
            "=================================================================\n",
            " time_distributed (TimeDistr  (None, 30, 64, 64, 16)   448       \n",
            " ibuted)                                                         \n",
            "                                                                 \n",
            " time_distributed_1 (TimeDis  (None, 30, 64, 64, 16)   64        \n",
            " tributed)                                                       \n",
            "                                                                 \n",
            " time_distributed_2 (TimeDis  (None, 30, 64, 64, 16)   0         \n",
            " tributed)                                                       \n",
            "                                                                 \n",
            " time_distributed_3 (TimeDis  (None, 30, 16, 16, 16)   0         \n",
            " tributed)                                                       \n",
            "                                                                 \n",
            " time_distributed_4 (TimeDis  (None, 30, 16, 16, 16)   0         \n",
            " tributed)                                                       \n",
            "                                                                 \n",
            " time_distributed_5 (TimeDis  (None, 30, 16, 16, 32)   4640      \n",
            " tributed)                                                       \n",
            "                                                                 \n",
            " time_distributed_6 (TimeDis  (None, 30, 16, 16, 32)   128       \n",
            " tributed)                                                       \n",
            "                                                                 \n",
            " time_distributed_7 (TimeDis  (None, 30, 16, 16, 32)   0         \n",
            " tributed)                                                       \n",
            "                                                                 \n",
            " time_distributed_8 (TimeDis  (None, 30, 4, 4, 32)     0         \n",
            " tributed)                                                       \n",
            "                                                                 \n",
            " time_distributed_9 (TimeDis  (None, 30, 4, 4, 32)     0         \n",
            " tributed)                                                       \n",
            "                                                                 \n",
            " time_distributed_10 (TimeDi  (None, 30, 4, 4, 64)     18496     \n",
            " stributed)                                                      \n",
            "                                                                 \n",
            " time_distributed_11 (TimeDi  (None, 30, 4, 4, 64)     256       \n",
            " stributed)                                                      \n",
            "                                                                 \n",
            " time_distributed_12 (TimeDi  (None, 30, 4, 4, 64)     0         \n",
            " stributed)                                                      \n",
            "                                                                 \n",
            " time_distributed_13 (TimeDi  (None, 30, 2, 2, 64)     0         \n",
            " stributed)                                                      \n",
            "                                                                 \n",
            " time_distributed_14 (TimeDi  (None, 30, 2, 2, 64)     0         \n",
            " stributed)                                                      \n",
            "                                                                 \n",
            " time_distributed_15 (TimeDi  (None, 30, 2, 2, 64)     36928     \n",
            " stributed)                                                      \n",
            "                                                                 \n",
            " time_distributed_16 (TimeDi  (None, 30, 2, 2, 64)     256       \n",
            " stributed)                                                      \n",
            "                                                                 \n",
            " time_distributed_17 (TimeDi  (None, 30, 2, 2, 64)     0         \n",
            " stributed)                                                      \n",
            "                                                                 \n",
            " time_distributed_18 (TimeDi  (None, 30, 1, 1, 64)     0         \n",
            " stributed)                                                      \n",
            "                                                                 \n",
            " time_distributed_19 (TimeDi  (None, 30, 64)           0         \n",
            " stributed)                                                      \n",
            "                                                                 \n",
            " lstm (LSTM)                 (None, 64)                33024     \n",
            "                                                                 \n",
            " dense (Dense)               (None, 6)                 390       \n",
            "                                                                 \n",
            "=================================================================\n",
            "Total params: 94,630\n",
            "Trainable params: 94,278\n",
            "Non-trainable params: 352\n",
            "_________________________________________________________________\n",
            "Model Created Successfully!\n"
          ]
        }
      ]
    },
    {
      "cell_type": "code",
      "source": [
        "# Create an Instance of Early Stopping Callback.\n",
        "early_stopping_callback = EarlyStopping(monitor = 'val_loss', patience = 25, mode = 'min', restore_best_weights = True)\n",
        " \n",
        "# Compile the model and specify loss function, optimizer and metrics to the model.\n",
        "LRCN_model.compile(loss = 'categorical_crossentropy', optimizer = 'Adam', metrics = [\"accuracy\"])\n",
        "\n",
        "# Start training the model.\n",
        "LRCN_model_training_history = LRCN_model.fit(x = features_train, y = labels_train, epochs = 100, batch_size = 8 ,\n",
        "                                             shuffle = True, validation_split = 0.1, callbacks = [early_stopping_callback])"
      ],
      "metadata": {
        "id": "-wmt7CHExUgm",
        "outputId": "d22bcc5a-d77a-4101-94ac-adf1e7e3f018",
        "colab": {
          "base_uri": "https://localhost:8080/"
        }
      },
      "execution_count": 12,
      "outputs": [
        {
          "output_type": "stream",
          "name": "stdout",
          "text": [
            "Epoch 1/100\n",
            "210/210 [==============================] - 21s 29ms/step - loss: 1.5622 - accuracy: 0.3716 - val_loss: 2.3844 - val_accuracy: 0.1398\n",
            "Epoch 2/100\n",
            "210/210 [==============================] - 5s 23ms/step - loss: 1.1569 - accuracy: 0.5215 - val_loss: 1.7169 - val_accuracy: 0.2903\n",
            "Epoch 3/100\n",
            "210/210 [==============================] - 5s 23ms/step - loss: 1.0085 - accuracy: 0.5968 - val_loss: 1.4910 - val_accuracy: 0.4194\n",
            "Epoch 4/100\n",
            "210/210 [==============================] - 5s 23ms/step - loss: 0.8719 - accuracy: 0.6535 - val_loss: 0.9264 - val_accuracy: 0.6075\n",
            "Epoch 5/100\n",
            "210/210 [==============================] - 5s 23ms/step - loss: 0.8024 - accuracy: 0.6906 - val_loss: 1.8792 - val_accuracy: 0.3441\n",
            "Epoch 6/100\n",
            "210/210 [==============================] - 5s 23ms/step - loss: 0.7323 - accuracy: 0.7198 - val_loss: 0.8428 - val_accuracy: 0.6344\n",
            "Epoch 7/100\n",
            "210/210 [==============================] - 5s 23ms/step - loss: 0.6531 - accuracy: 0.7563 - val_loss: 1.3116 - val_accuracy: 0.4892\n",
            "Epoch 8/100\n",
            "210/210 [==============================] - 5s 23ms/step - loss: 0.5787 - accuracy: 0.7772 - val_loss: 1.2777 - val_accuracy: 0.5806\n",
            "Epoch 9/100\n",
            "210/210 [==============================] - 5s 23ms/step - loss: 0.5722 - accuracy: 0.7927 - val_loss: 0.9593 - val_accuracy: 0.6774\n",
            "Epoch 10/100\n",
            "210/210 [==============================] - 5s 23ms/step - loss: 0.4490 - accuracy: 0.8345 - val_loss: 0.7965 - val_accuracy: 0.7312\n",
            "Epoch 11/100\n",
            "210/210 [==============================] - 5s 23ms/step - loss: 0.4999 - accuracy: 0.8184 - val_loss: 0.9492 - val_accuracy: 0.6720\n",
            "Epoch 12/100\n",
            "210/210 [==============================] - 5s 23ms/step - loss: 0.4390 - accuracy: 0.8321 - val_loss: 0.8241 - val_accuracy: 0.7097\n",
            "Epoch 13/100\n",
            "210/210 [==============================] - 5s 23ms/step - loss: 0.3888 - accuracy: 0.8536 - val_loss: 0.6617 - val_accuracy: 0.7742\n",
            "Epoch 14/100\n",
            "210/210 [==============================] - 5s 23ms/step - loss: 0.3514 - accuracy: 0.8716 - val_loss: 0.4782 - val_accuracy: 0.8172\n",
            "Epoch 15/100\n",
            "210/210 [==============================] - 5s 23ms/step - loss: 0.3389 - accuracy: 0.8793 - val_loss: 0.9249 - val_accuracy: 0.6720\n",
            "Epoch 16/100\n",
            "210/210 [==============================] - 5s 23ms/step - loss: 0.3295 - accuracy: 0.8775 - val_loss: 0.8748 - val_accuracy: 0.6989\n",
            "Epoch 17/100\n",
            "210/210 [==============================] - 5s 23ms/step - loss: 0.3368 - accuracy: 0.8728 - val_loss: 0.8339 - val_accuracy: 0.7419\n",
            "Epoch 18/100\n",
            "210/210 [==============================] - 5s 23ms/step - loss: 0.2930 - accuracy: 0.8931 - val_loss: 0.6103 - val_accuracy: 0.7742\n",
            "Epoch 19/100\n",
            "210/210 [==============================] - 5s 23ms/step - loss: 0.3061 - accuracy: 0.8931 - val_loss: 0.4924 - val_accuracy: 0.8172\n",
            "Epoch 20/100\n",
            "210/210 [==============================] - 5s 23ms/step - loss: 0.2942 - accuracy: 0.8943 - val_loss: 0.5889 - val_accuracy: 0.8118\n",
            "Epoch 21/100\n",
            "210/210 [==============================] - 5s 23ms/step - loss: 0.2673 - accuracy: 0.8996 - val_loss: 0.8159 - val_accuracy: 0.7204\n",
            "Epoch 22/100\n",
            "210/210 [==============================] - 5s 23ms/step - loss: 0.2317 - accuracy: 0.9128 - val_loss: 0.2159 - val_accuracy: 0.9032\n",
            "Epoch 23/100\n",
            "210/210 [==============================] - 5s 23ms/step - loss: 0.2758 - accuracy: 0.9014 - val_loss: 0.9789 - val_accuracy: 0.6828\n",
            "Epoch 24/100\n",
            "210/210 [==============================] - 5s 23ms/step - loss: 0.2213 - accuracy: 0.9194 - val_loss: 0.4053 - val_accuracy: 0.8656\n",
            "Epoch 25/100\n",
            "210/210 [==============================] - 5s 23ms/step - loss: 0.1971 - accuracy: 0.9289 - val_loss: 0.4164 - val_accuracy: 0.8602\n",
            "Epoch 26/100\n",
            "210/210 [==============================] - 5s 23ms/step - loss: 0.1868 - accuracy: 0.9313 - val_loss: 0.8889 - val_accuracy: 0.7312\n",
            "Epoch 27/100\n",
            "210/210 [==============================] - 5s 23ms/step - loss: 0.2403 - accuracy: 0.9223 - val_loss: 0.2941 - val_accuracy: 0.9032\n",
            "Epoch 28/100\n",
            "210/210 [==============================] - 5s 23ms/step - loss: 0.1906 - accuracy: 0.9295 - val_loss: 0.8876 - val_accuracy: 0.7419\n",
            "Epoch 29/100\n",
            "210/210 [==============================] - 5s 23ms/step - loss: 0.2040 - accuracy: 0.9223 - val_loss: 0.3492 - val_accuracy: 0.8871\n",
            "Epoch 30/100\n",
            "210/210 [==============================] - 5s 23ms/step - loss: 0.1736 - accuracy: 0.9409 - val_loss: 0.3534 - val_accuracy: 0.8871\n",
            "Epoch 31/100\n",
            "210/210 [==============================] - 5s 23ms/step - loss: 0.1860 - accuracy: 0.9343 - val_loss: 0.4546 - val_accuracy: 0.8280\n",
            "Epoch 32/100\n",
            "210/210 [==============================] - 5s 23ms/step - loss: 0.1523 - accuracy: 0.9444 - val_loss: 0.4369 - val_accuracy: 0.8441\n",
            "Epoch 33/100\n",
            "210/210 [==============================] - 5s 23ms/step - loss: 0.2254 - accuracy: 0.9194 - val_loss: 0.4511 - val_accuracy: 0.8495\n",
            "Epoch 34/100\n",
            "210/210 [==============================] - 5s 23ms/step - loss: 0.1956 - accuracy: 0.9307 - val_loss: 0.3083 - val_accuracy: 0.8656\n",
            "Epoch 35/100\n",
            "210/210 [==============================] - 5s 23ms/step - loss: 0.1936 - accuracy: 0.9277 - val_loss: 0.3892 - val_accuracy: 0.8763\n",
            "Epoch 36/100\n",
            "210/210 [==============================] - 5s 23ms/step - loss: 0.1722 - accuracy: 0.9421 - val_loss: 0.2181 - val_accuracy: 0.9409\n",
            "Epoch 37/100\n",
            "210/210 [==============================] - 5s 23ms/step - loss: 0.1538 - accuracy: 0.9444 - val_loss: 0.4656 - val_accuracy: 0.8763\n",
            "Epoch 38/100\n",
            "210/210 [==============================] - 5s 23ms/step - loss: 0.1665 - accuracy: 0.9427 - val_loss: 0.3090 - val_accuracy: 0.9086\n",
            "Epoch 39/100\n",
            "210/210 [==============================] - 5s 23ms/step - loss: 0.1346 - accuracy: 0.9498 - val_loss: 0.7325 - val_accuracy: 0.7849\n",
            "Epoch 40/100\n",
            "210/210 [==============================] - 5s 22ms/step - loss: 0.1223 - accuracy: 0.9612 - val_loss: 0.3497 - val_accuracy: 0.8656\n",
            "Epoch 41/100\n",
            "210/210 [==============================] - 5s 23ms/step - loss: 0.1624 - accuracy: 0.9444 - val_loss: 0.6774 - val_accuracy: 0.7957\n",
            "Epoch 42/100\n",
            "210/210 [==============================] - 5s 23ms/step - loss: 0.1493 - accuracy: 0.9516 - val_loss: 0.3212 - val_accuracy: 0.9140\n",
            "Epoch 43/100\n",
            "210/210 [==============================] - 5s 23ms/step - loss: 0.1387 - accuracy: 0.9474 - val_loss: 0.2550 - val_accuracy: 0.9032\n",
            "Epoch 44/100\n",
            "210/210 [==============================] - 5s 23ms/step - loss: 0.1287 - accuracy: 0.9498 - val_loss: 0.2203 - val_accuracy: 0.9301\n",
            "Epoch 45/100\n",
            "210/210 [==============================] - 5s 23ms/step - loss: 0.1177 - accuracy: 0.9582 - val_loss: 0.7815 - val_accuracy: 0.7849\n",
            "Epoch 46/100\n",
            "210/210 [==============================] - 5s 23ms/step - loss: 0.1038 - accuracy: 0.9618 - val_loss: 0.1756 - val_accuracy: 0.9301\n",
            "Epoch 47/100\n",
            "210/210 [==============================] - 5s 23ms/step - loss: 0.1433 - accuracy: 0.9516 - val_loss: 0.9689 - val_accuracy: 0.7419\n",
            "Epoch 48/100\n",
            "210/210 [==============================] - 5s 23ms/step - loss: 0.1427 - accuracy: 0.9486 - val_loss: 0.6042 - val_accuracy: 0.8118\n",
            "Epoch 49/100\n",
            "210/210 [==============================] - 5s 23ms/step - loss: 0.1010 - accuracy: 0.9642 - val_loss: 0.3805 - val_accuracy: 0.8817\n",
            "Epoch 50/100\n",
            "210/210 [==============================] - 5s 23ms/step - loss: 0.0872 - accuracy: 0.9719 - val_loss: 0.2068 - val_accuracy: 0.9247\n",
            "Epoch 51/100\n",
            "210/210 [==============================] - 5s 23ms/step - loss: 0.1061 - accuracy: 0.9677 - val_loss: 0.6782 - val_accuracy: 0.8333\n",
            "Epoch 52/100\n",
            "210/210 [==============================] - 5s 23ms/step - loss: 0.0988 - accuracy: 0.9695 - val_loss: 1.1795 - val_accuracy: 0.6935\n",
            "Epoch 53/100\n",
            "210/210 [==============================] - 5s 23ms/step - loss: 0.1121 - accuracy: 0.9618 - val_loss: 0.3368 - val_accuracy: 0.8817\n",
            "Epoch 54/100\n",
            "210/210 [==============================] - 5s 23ms/step - loss: 0.1083 - accuracy: 0.9636 - val_loss: 0.2821 - val_accuracy: 0.9140\n",
            "Epoch 55/100\n",
            "210/210 [==============================] - 5s 23ms/step - loss: 0.0892 - accuracy: 0.9683 - val_loss: 0.6954 - val_accuracy: 0.7903\n",
            "Epoch 56/100\n",
            "210/210 [==============================] - 5s 23ms/step - loss: 0.1382 - accuracy: 0.9516 - val_loss: 0.3226 - val_accuracy: 0.8925\n",
            "Epoch 57/100\n",
            "210/210 [==============================] - 5s 23ms/step - loss: 0.0989 - accuracy: 0.9642 - val_loss: 0.6026 - val_accuracy: 0.8172\n",
            "Epoch 58/100\n",
            "210/210 [==============================] - 5s 23ms/step - loss: 0.0909 - accuracy: 0.9695 - val_loss: 0.2235 - val_accuracy: 0.9247\n",
            "Epoch 59/100\n",
            "210/210 [==============================] - 5s 23ms/step - loss: 0.0698 - accuracy: 0.9773 - val_loss: 0.1648 - val_accuracy: 0.9570\n",
            "Epoch 60/100\n",
            "210/210 [==============================] - 5s 23ms/step - loss: 0.1133 - accuracy: 0.9588 - val_loss: 0.5925 - val_accuracy: 0.8602\n",
            "Epoch 61/100\n",
            "210/210 [==============================] - 5s 23ms/step - loss: 0.0872 - accuracy: 0.9695 - val_loss: 0.6220 - val_accuracy: 0.8118\n",
            "Epoch 62/100\n",
            "210/210 [==============================] - 5s 23ms/step - loss: 0.0870 - accuracy: 0.9701 - val_loss: 0.4874 - val_accuracy: 0.8656\n",
            "Epoch 63/100\n",
            "210/210 [==============================] - 5s 23ms/step - loss: 0.1159 - accuracy: 0.9582 - val_loss: 0.1892 - val_accuracy: 0.9355\n",
            "Epoch 64/100\n",
            "210/210 [==============================] - 5s 23ms/step - loss: 0.0935 - accuracy: 0.9671 - val_loss: 0.1729 - val_accuracy: 0.9409\n",
            "Epoch 65/100\n",
            "210/210 [==============================] - 5s 23ms/step - loss: 0.0999 - accuracy: 0.9648 - val_loss: 0.1720 - val_accuracy: 0.9409\n",
            "Epoch 66/100\n",
            "210/210 [==============================] - 5s 23ms/step - loss: 0.0557 - accuracy: 0.9815 - val_loss: 0.4347 - val_accuracy: 0.8763\n",
            "Epoch 67/100\n",
            "210/210 [==============================] - 5s 23ms/step - loss: 0.0580 - accuracy: 0.9791 - val_loss: 0.1475 - val_accuracy: 0.9624\n",
            "Epoch 68/100\n",
            "210/210 [==============================] - 5s 23ms/step - loss: 0.0559 - accuracy: 0.9797 - val_loss: 0.3841 - val_accuracy: 0.8817\n",
            "Epoch 69/100\n",
            "210/210 [==============================] - 5s 23ms/step - loss: 0.0981 - accuracy: 0.9618 - val_loss: 0.4858 - val_accuracy: 0.8548\n",
            "Epoch 70/100\n",
            "210/210 [==============================] - 5s 23ms/step - loss: 0.0579 - accuracy: 0.9779 - val_loss: 0.1947 - val_accuracy: 0.9516\n",
            "Epoch 71/100\n",
            "210/210 [==============================] - 5s 23ms/step - loss: 0.0822 - accuracy: 0.9671 - val_loss: 0.1389 - val_accuracy: 0.9570\n",
            "Epoch 72/100\n",
            "210/210 [==============================] - 5s 23ms/step - loss: 0.0538 - accuracy: 0.9815 - val_loss: 0.2040 - val_accuracy: 0.9462\n",
            "Epoch 73/100\n",
            "210/210 [==============================] - 5s 23ms/step - loss: 0.0843 - accuracy: 0.9719 - val_loss: 0.3624 - val_accuracy: 0.9140\n",
            "Epoch 74/100\n",
            "210/210 [==============================] - 5s 23ms/step - loss: 0.0452 - accuracy: 0.9839 - val_loss: 0.3211 - val_accuracy: 0.9086\n",
            "Epoch 75/100\n",
            "210/210 [==============================] - 5s 23ms/step - loss: 0.0674 - accuracy: 0.9761 - val_loss: 0.3966 - val_accuracy: 0.8871\n",
            "Epoch 76/100\n",
            "210/210 [==============================] - 5s 23ms/step - loss: 0.0942 - accuracy: 0.9707 - val_loss: 0.1609 - val_accuracy: 0.9516\n",
            "Epoch 77/100\n",
            "210/210 [==============================] - 5s 23ms/step - loss: 0.0651 - accuracy: 0.9791 - val_loss: 0.7636 - val_accuracy: 0.7742\n",
            "Epoch 78/100\n",
            "210/210 [==============================] - 5s 23ms/step - loss: 0.0707 - accuracy: 0.9737 - val_loss: 0.3963 - val_accuracy: 0.9086\n",
            "Epoch 79/100\n",
            "210/210 [==============================] - 5s 23ms/step - loss: 0.0623 - accuracy: 0.9755 - val_loss: 0.2412 - val_accuracy: 0.9409\n",
            "Epoch 80/100\n",
            "210/210 [==============================] - 5s 23ms/step - loss: 0.0545 - accuracy: 0.9815 - val_loss: 0.4377 - val_accuracy: 0.8495\n",
            "Epoch 81/100\n",
            "210/210 [==============================] - 5s 23ms/step - loss: 0.0779 - accuracy: 0.9719 - val_loss: 0.3501 - val_accuracy: 0.8978\n",
            "Epoch 82/100\n",
            "210/210 [==============================] - 5s 23ms/step - loss: 0.0574 - accuracy: 0.9803 - val_loss: 0.2102 - val_accuracy: 0.9570\n",
            "Epoch 83/100\n",
            "210/210 [==============================] - 5s 23ms/step - loss: 0.0429 - accuracy: 0.9863 - val_loss: 0.1135 - val_accuracy: 0.9624\n",
            "Epoch 84/100\n",
            "210/210 [==============================] - 5s 23ms/step - loss: 0.0631 - accuracy: 0.9797 - val_loss: 0.2115 - val_accuracy: 0.9301\n",
            "Epoch 85/100\n",
            "210/210 [==============================] - 5s 23ms/step - loss: 0.0443 - accuracy: 0.9839 - val_loss: 0.2614 - val_accuracy: 0.9301\n",
            "Epoch 86/100\n",
            "210/210 [==============================] - 5s 23ms/step - loss: 0.0494 - accuracy: 0.9845 - val_loss: 0.7396 - val_accuracy: 0.8387\n",
            "Epoch 87/100\n",
            "210/210 [==============================] - 5s 23ms/step - loss: 0.0675 - accuracy: 0.9719 - val_loss: 0.3457 - val_accuracy: 0.8871\n",
            "Epoch 88/100\n",
            "210/210 [==============================] - 5s 23ms/step - loss: 0.0542 - accuracy: 0.9833 - val_loss: 0.5792 - val_accuracy: 0.8710\n",
            "Epoch 89/100\n",
            "210/210 [==============================] - 5s 23ms/step - loss: 0.0530 - accuracy: 0.9773 - val_loss: 0.5482 - val_accuracy: 0.8710\n",
            "Epoch 90/100\n",
            "210/210 [==============================] - 5s 23ms/step - loss: 0.0336 - accuracy: 0.9881 - val_loss: 0.2019 - val_accuracy: 0.9301\n",
            "Epoch 91/100\n",
            "210/210 [==============================] - 5s 23ms/step - loss: 0.0982 - accuracy: 0.9707 - val_loss: 0.2414 - val_accuracy: 0.9194\n",
            "Epoch 92/100\n",
            "210/210 [==============================] - 5s 23ms/step - loss: 0.0521 - accuracy: 0.9851 - val_loss: 0.5804 - val_accuracy: 0.8387\n",
            "Epoch 93/100\n",
            "210/210 [==============================] - 5s 23ms/step - loss: 0.0268 - accuracy: 0.9910 - val_loss: 0.3171 - val_accuracy: 0.8925\n",
            "Epoch 94/100\n",
            "210/210 [==============================] - 5s 23ms/step - loss: 0.0585 - accuracy: 0.9797 - val_loss: 0.2093 - val_accuracy: 0.9355\n",
            "Epoch 95/100\n",
            "210/210 [==============================] - 5s 23ms/step - loss: 0.0447 - accuracy: 0.9869 - val_loss: 0.4711 - val_accuracy: 0.8710\n",
            "Epoch 96/100\n",
            "210/210 [==============================] - 5s 23ms/step - loss: 0.0584 - accuracy: 0.9809 - val_loss: 0.1778 - val_accuracy: 0.9247\n",
            "Epoch 97/100\n",
            "210/210 [==============================] - 5s 23ms/step - loss: 0.0608 - accuracy: 0.9761 - val_loss: 0.1039 - val_accuracy: 0.9570\n",
            "Epoch 98/100\n",
            "210/210 [==============================] - 5s 23ms/step - loss: 0.0562 - accuracy: 0.9797 - val_loss: 0.4822 - val_accuracy: 0.8495\n",
            "Epoch 99/100\n",
            "210/210 [==============================] - 5s 23ms/step - loss: 0.0329 - accuracy: 0.9869 - val_loss: 0.2504 - val_accuracy: 0.9194\n",
            "Epoch 100/100\n",
            "210/210 [==============================] - 5s 23ms/step - loss: 0.0372 - accuracy: 0.9875 - val_loss: 0.1744 - val_accuracy: 0.9462\n"
          ]
        }
      ]
    },
    {
      "cell_type": "code",
      "source": [
        "# Evaluate the trained model.\n",
        "model_evaluation_history = LRCN_model.evaluate(features_test, labels_test)"
      ],
      "metadata": {
        "id": "hhLgaWvCxZ-e",
        "outputId": "9bc5bd08-6a8b-4be4-ec3b-82f9eb420782",
        "colab": {
          "base_uri": "https://localhost:8080/"
        }
      },
      "execution_count": 13,
      "outputs": [
        {
          "output_type": "stream",
          "name": "stdout",
          "text": [
            "7/7 [==============================] - 0s 33ms/step - loss: 0.2801 - accuracy: 0.9324\n"
          ]
        }
      ]
    },
    {
      "cell_type": "code",
      "source": [
        "# Get the loss and accuracy from model_evaluation_history.\n",
        "model_evaluation_loss, model_evaluation_accuracy = model_evaluation_history\n",
        "\n",
        "# Define the string date format.\n",
        "# Get the current Date and Time in a DateTime Object.\n",
        "# Convert the DateTime object to string according to the style mentioned in date_time_format string.\n",
        "date_time_format = '%Y_%m_%d__%H_%M_%S'\n",
        "current_date_time_dt = dt.datetime.now()\n",
        "current_date_time_string = dt.datetime.strftime(current_date_time_dt, date_time_format)\n",
        "    \n",
        "# Define a useful name for our model to make it easy for us while navigating through multiple saved models.\n",
        "model_file_name = f'landmark3_lr=0.001___Accuracy_{model_evaluation_accuracy}___Loss_{model_evaluation_loss}.h5'\n",
        "\n",
        "# Save the Model.\n",
        "#LRCN_model.save('/content/drive/My Drive/marwa/saved_models/lrcn/'+model_file_name)"
      ],
      "metadata": {
        "id": "g8wWe5lR1GRp"
      },
      "execution_count": null,
      "outputs": []
    },
    {
      "cell_type": "code",
      "source": [
        "def plot_metric(model_training_history, metric_name_1, metric_name_2, plot_name):\n",
        "    '''\n",
        "    This function will plot the metrics passed to it in a graph.\n",
        "    Args:\n",
        "        model_training_history: A history object containing a record of training and validation \n",
        "                                loss values and metrics values at successive epochs\n",
        "        metric_name_1:          The name of the first metric that needs to be plotted in the graph.\n",
        "        metric_name_2:          The name of the second metric that needs to be plotted in the graph.\n",
        "        plot_name:              The title of the graph.\n",
        "    '''\n",
        "    \n",
        "    # Get metric values using metric names as identifiers.\n",
        "    metric_value_1 = model_training_history.history[metric_name_1]\n",
        "    metric_value_2 = model_training_history.history[metric_name_2]\n",
        "    \n",
        "    # Construct a range object which will be used as x-axis (horizontal plane) of the graph.\n",
        "    epochs = range(len(metric_value_1))\n",
        "\n",
        "    # Plot the Graph.\n",
        "    plt.plot(epochs, metric_value_1, 'blue', label = metric_name_1)\n",
        "    plt.plot(epochs, metric_value_2, 'red', label = metric_name_2)\n",
        "\n",
        "    # Add title to the plot.\n",
        "    plt.title(str(plot_name))\n",
        "\n",
        "    # Add legend to the plot.\n",
        "    plt.legend()"
      ],
      "metadata": {
        "id": "ZiSh_i871KAd"
      },
      "execution_count": 14,
      "outputs": []
    },
    {
      "cell_type": "code",
      "source": [
        "# Visualize the training and validation loss metrices.\n",
        "plot_metric(LRCN_model_training_history, 'loss', 'val_loss', 'Total Loss vs Total Validation Loss')"
      ],
      "metadata": {
        "id": "7HjkIAJj1Ncw",
        "outputId": "c32265fc-e3aa-468f-b6e7-2ebf1e72ea5a",
        "colab": {
          "base_uri": "https://localhost:8080/",
          "height": 281
        }
      },
      "execution_count": 15,
      "outputs": [
        {
          "output_type": "display_data",
          "data": {
            "text/plain": [
              "<Figure size 432x288 with 1 Axes>"
            ],
            "image/png": "[encoded data removed]"
          },
          "metadata": {
            "needs_background": "light"
          }
        }
      ]
    },
    {
      "cell_type": "code",
      "source": [
        "\n",
        "# Visualize the training and validation accuracy metrices.\n",
        "plot_metric(LRCN_model_training_history, 'accuracy', 'val_accuracy', 'Total Accuracy vs Total Validation Accuracy')"
      ],
      "metadata": {
        "id": "sYTDhDnq1Qce",
        "outputId": "e936166f-fa57-40dc-ce02-82d2cfc9944a",
        "colab": {
          "base_uri": "https://localhost:8080/",
          "height": 281
        }
      },
      "execution_count": 16,
      "outputs": [
        {
          "output_type": "display_data",
          "data": {
            "text/plain": [
              "<Figure size 432x288 with 1 Axes>"
            ],
            "image/png": "[encoded data removed]"
          },
          "metadata": {
            "needs_background": "light"
          }
        }
      ]
    },
    {
      "cell_type": "code",
      "source": [
        "predictions =  LRCN_model.predict(features_test)\n",
        "predictions"
      ],
      "metadata": {
        "id": "KrJfAkU41SlN",
        "outputId": "d3dfeb9a-36a2-4cb1-9c8e-db50af7d388a",
        "colab": {
          "base_uri": "https://localhost:8080/"
        }
      },
      "execution_count": 17,
      "outputs": [
        {
          "output_type": "execute_result",
          "data": {
            "text/plain": [
              "array([[9.9963784e-01, 2.1234382e-04, 4.3415198e-06, 1.1997700e-04,\n",
              "        1.3381282e-05, 1.2075073e-05],\n",
              "       [1.7377928e-04, 9.5406091e-01, 5.4938078e-04, 2.6303125e-03,\n",
              "        4.0091842e-02, 2.4937892e-03],\n",
              "       [6.8850949e-07, 1.9224333e-05, 9.9996305e-01, 2.9174594e-06,\n",
              "        9.7071943e-06, 4.5018528e-06],\n",
              "       ...,\n",
              "       [6.5879583e-01, 5.8829592e-04, 3.9907981e-04, 7.4726208e-03,\n",
              "        2.3517436e-01, 9.7569883e-02],\n",
              "       [4.1196077e-07, 3.3656815e-07, 7.7280035e-08, 6.8769759e-06,\n",
              "        9.9995947e-01, 3.2795804e-05],\n",
              "       [2.4468418e-05, 9.9895477e-01, 1.0147562e-03, 2.5706306e-06,\n",
              "        3.9599897e-07, 3.0827243e-06]], dtype=float32)"
            ]
          },
          "metadata": {},
          "execution_count": 17
        }
      ]
    },
    {
      "cell_type": "code",
      "source": [
        "preds=predictions.argmax(axis=1)\n",
        "preds"
      ],
      "metadata": {
        "id": "IWZvTQCa1W6M",
        "outputId": "f143559e-0137-4b49-b6bf-f8aed6bebc26",
        "colab": {
          "base_uri": "https://localhost:8080/"
        }
      },
      "execution_count": 18,
      "outputs": [
        {
          "output_type": "execute_result",
          "data": {
            "text/plain": [
              "array([0, 1, 2, 5, 5, 2, 5, 1, 4, 0, 3, 1, 4, 0, 4, 3, 4, 1, 1, 1, 5, 2,\n",
              "       0, 2, 2, 5, 3, 5, 5, 5, 5, 4, 5, 0, 2, 2, 4, 1, 5, 4, 2, 2, 1, 5,\n",
              "       2, 1, 5, 5, 4, 5, 4, 2, 1, 3, 3, 0, 5, 0, 2, 5, 4, 4, 5, 0, 0, 3,\n",
              "       2, 0, 5, 1, 1, 2, 5, 3, 5, 4, 0, 3, 4, 2, 3, 4, 5, 0, 0, 1, 2, 3,\n",
              "       3, 5, 5, 1, 0, 1, 5, 5, 1, 2, 5, 0, 4, 3, 3, 3, 4, 3, 2, 1, 4, 1,\n",
              "       5, 2, 0, 1, 4, 0, 4, 1, 1, 1, 1, 5, 1, 4, 1, 2, 3, 2, 5, 1, 2, 0,\n",
              "       1, 5, 1, 0, 5, 0, 1, 1, 2, 1, 2, 3, 1, 2, 3, 0, 0, 3, 2, 3, 5, 3,\n",
              "       1, 2, 1, 3, 0, 0, 1, 3, 3, 2, 4, 1, 0, 0, 5, 4, 4, 3, 1, 4, 3, 1,\n",
              "       5, 0, 4, 5, 4, 0, 0, 5, 3, 3, 1, 3, 3, 4, 1, 4, 1, 0, 4, 2, 3, 1,\n",
              "       4, 5, 3, 2, 5, 2, 0, 4, 1])"
            ]
          },
          "metadata": {},
          "execution_count": 18
        }
      ]
    },
    {
      "cell_type": "code",
      "source": [
        "new_preds = preds.astype(int).flatten()\n",
        "new_preds"
      ],
      "metadata": {
        "id": "0CpgXIkh1Z_v",
        "outputId": "b7e7cf80-e99a-438c-8f2b-518e4e5f2aa4",
        "colab": {
          "base_uri": "https://localhost:8080/"
        }
      },
      "execution_count": 19,
      "outputs": [
        {
          "output_type": "execute_result",
          "data": {
            "text/plain": [
              "array([0, 1, 2, 5, 5, 2, 5, 1, 4, 0, 3, 1, 4, 0, 4, 3, 4, 1, 1, 1, 5, 2,\n",
              "       0, 2, 2, 5, 3, 5, 5, 5, 5, 4, 5, 0, 2, 2, 4, 1, 5, 4, 2, 2, 1, 5,\n",
              "       2, 1, 5, 5, 4, 5, 4, 2, 1, 3, 3, 0, 5, 0, 2, 5, 4, 4, 5, 0, 0, 3,\n",
              "       2, 0, 5, 1, 1, 2, 5, 3, 5, 4, 0, 3, 4, 2, 3, 4, 5, 0, 0, 1, 2, 3,\n",
              "       3, 5, 5, 1, 0, 1, 5, 5, 1, 2, 5, 0, 4, 3, 3, 3, 4, 3, 2, 1, 4, 1,\n",
              "       5, 2, 0, 1, 4, 0, 4, 1, 1, 1, 1, 5, 1, 4, 1, 2, 3, 2, 5, 1, 2, 0,\n",
              "       1, 5, 1, 0, 5, 0, 1, 1, 2, 1, 2, 3, 1, 2, 3, 0, 0, 3, 2, 3, 5, 3,\n",
              "       1, 2, 1, 3, 0, 0, 1, 3, 3, 2, 4, 1, 0, 0, 5, 4, 4, 3, 1, 4, 3, 1,\n",
              "       5, 0, 4, 5, 4, 0, 0, 5, 3, 3, 1, 3, 3, 4, 1, 4, 1, 0, 4, 2, 3, 1,\n",
              "       4, 5, 3, 2, 5, 2, 0, 4, 1])"
            ]
          },
          "metadata": {},
          "execution_count": 19
        }
      ]
    },
    {
      "cell_type": "code",
      "source": [
        "\n",
        "from sklearn.metrics import classification_report, confusion_matrix,accuracy_score\n",
        "import seaborn as sn\n",
        "import pandas as pd\n",
        "import numpy as np\n",
        "new_labels=np.argmax(labels_test, axis=1)\n",
        "print(classification_report(new_labels,new_preds))\n",
        "\n",
        "acc = float(accuracy_score(new_labels,new_preds))*100\n",
        "print(\"----accuracy score %s ----\" % acc)\n",
        "\n",
        "cm = confusion_matrix(new_labels,new_preds)\n",
        "#df_cm = pd.DataFrame(cm)\n",
        "class_names = ['neutral','calm', 'happy','sad','angry', 'fearful' ]\n",
        "df_cm = pd.DataFrame(cm, index=class_names, columns=class_names,)\n",
        "sn.heatmap(df_cm, annot=True, fmt='')\n",
        "plt.show()"
      ],
      "metadata": {
        "id": "7U3HwUqc1cft",
        "outputId": "4552d316-4cff-4604-ffc8-7efa0ca5a708",
        "colab": {
          "base_uri": "https://localhost:8080/",
          "height": 508
        }
      },
      "execution_count": 20,
      "outputs": [
        {
          "output_type": "stream",
          "name": "stdout",
          "text": [
            "              precision    recall  f1-score   support\n",
            "\n",
            "           0       0.84      0.96      0.90        27\n",
            "           1       0.95      0.93      0.94        44\n",
            "           2       0.94      0.97      0.95        30\n",
            "           3       0.94      0.88      0.91        34\n",
            "           4       1.00      0.91      0.95        34\n",
            "           5       0.92      0.95      0.94        38\n",
            "\n",
            "    accuracy                           0.93       207\n",
            "   macro avg       0.93      0.93      0.93       207\n",
            "weighted avg       0.94      0.93      0.93       207\n",
            "\n",
            "----accuracy score 93.23671497584542 ----\n"
          ]
        },
        {
          "output_type": "display_data",
          "data": {
            "text/plain": [
              "<Figure size 432x288 with 2 Axes>"
            ],
            "image/png": "[encoded data removed]"
          },
          "metadata": {
            "needs_background": "light"
          }
        }
      ]
    },
    {
      "cell_type": "code",
      "source": [
        ""
      ],
      "metadata": {
        "id": "pVlEoCq0-0n3"
      },
      "execution_count": null,
      "outputs": []
    }
  ]
}