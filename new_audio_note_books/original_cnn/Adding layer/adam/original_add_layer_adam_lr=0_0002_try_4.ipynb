{
  "nbformat": 4,
  "nbformat_minor": 0,
  "metadata": {
    "colab": {
      "name": "original add layer adam lr=0.0002 try 4.ipynb",
      "provenance": [],
      "collapsed_sections": []
    },
    "kernelspec": {
      "name": "python3",
      "display_name": "Python 3"
    },
    "language_info": {
      "name": "python"
    },
    "accelerator": "GPU"
  },
  "cells": [
    {
      "cell_type": "code",
      "execution_count": 1,
      "metadata": {
        "colab": {
          "base_uri": "https://localhost:8080/"
        },
        "id": "9SRCO-a_AlH5",
        "outputId": "4de852d0-0718-4285-bcb1-943b4f79ef64"
      },
      "outputs": [
        {
          "output_type": "stream",
          "name": "stdout",
          "text": [
            "Drive already mounted at /content/drive; to attempt to forcibly remount, call drive.mount(\"/content/drive\", force_remount=True).\n"
          ]
        }
      ],
      "source": [
        "from google.colab import drive\n",
        "drive.mount('/content/drive')"
      ]
    },
    {
      "cell_type": "code",
      "source": [
        "!pip install librosa"
      ],
      "metadata": {
        "colab": {
          "base_uri": "https://localhost:8080/"
        },
        "id": "5Lo4mUwG9RMd",
        "outputId": "eb45f976-48f9-413f-f5c8-172f077c3de8"
      },
      "execution_count": 2,
      "outputs": [
        {
          "output_type": "stream",
          "name": "stdout",
          "text": [
            "Looking in indexes: https://pypi.org/simple, https://us-python.pkg.dev/colab-wheels/public/simple/\n",
            "Requirement already satisfied: librosa in /usr/local/lib/python3.7/dist-packages (0.8.1)\n",
            "Requirement already satisfied: pooch>=1.0 in /usr/local/lib/python3.7/dist-packages (from librosa) (1.6.0)\n",
            "Requirement already satisfied: numba>=0.43.0 in /usr/local/lib/python3.7/dist-packages (from librosa) (0.51.2)\n",
            "Requirement already satisfied: scikit-learn!=0.19.0,>=0.14.0 in /usr/local/lib/python3.7/dist-packages (from librosa) (1.0.2)\n",
            "Requirement already satisfied: decorator>=3.0.0 in /usr/local/lib/python3.7/dist-packages (from librosa) (4.4.2)\n",
            "Requirement already satisfied: resampy>=0.2.2 in /usr/local/lib/python3.7/dist-packages (from librosa) (0.2.2)\n",
            "Requirement already satisfied: audioread>=2.0.0 in /usr/local/lib/python3.7/dist-packages (from librosa) (2.1.9)\n",
            "Requirement already satisfied: scipy>=1.0.0 in /usr/local/lib/python3.7/dist-packages (from librosa) (1.4.1)\n",
            "Requirement already satisfied: joblib>=0.14 in /usr/local/lib/python3.7/dist-packages (from librosa) (1.1.0)\n",
            "Requirement already satisfied: numpy>=1.15.0 in /usr/local/lib/python3.7/dist-packages (from librosa) (1.21.6)\n",
            "Requirement already satisfied: packaging>=20.0 in /usr/local/lib/python3.7/dist-packages (from librosa) (21.3)\n",
            "Requirement already satisfied: soundfile>=0.10.2 in /usr/local/lib/python3.7/dist-packages (from librosa) (0.10.3.post1)\n",
            "Requirement already satisfied: setuptools in /usr/local/lib/python3.7/dist-packages (from numba>=0.43.0->librosa) (57.4.0)\n",
            "Requirement already satisfied: llvmlite<0.35,>=0.34.0.dev0 in /usr/local/lib/python3.7/dist-packages (from numba>=0.43.0->librosa) (0.34.0)\n",
            "Requirement already satisfied: pyparsing!=3.0.5,>=2.0.2 in /usr/local/lib/python3.7/dist-packages (from packaging>=20.0->librosa) (3.0.9)\n",
            "Requirement already satisfied: requests>=2.19.0 in /usr/local/lib/python3.7/dist-packages (from pooch>=1.0->librosa) (2.23.0)\n",
            "Requirement already satisfied: appdirs>=1.3.0 in /usr/local/lib/python3.7/dist-packages (from pooch>=1.0->librosa) (1.4.4)\n",
            "Requirement already satisfied: idna<3,>=2.5 in /usr/local/lib/python3.7/dist-packages (from requests>=2.19.0->pooch>=1.0->librosa) (2.10)\n",
            "Requirement already satisfied: chardet<4,>=3.0.2 in /usr/local/lib/python3.7/dist-packages (from requests>=2.19.0->pooch>=1.0->librosa) (3.0.4)\n",
            "Requirement already satisfied: urllib3!=1.25.0,!=1.25.1,<1.26,>=1.21.1 in /usr/local/lib/python3.7/dist-packages (from requests>=2.19.0->pooch>=1.0->librosa) (1.24.3)\n",
            "Requirement already satisfied: certifi>=2017.4.17 in /usr/local/lib/python3.7/dist-packages (from requests>=2.19.0->pooch>=1.0->librosa) (2022.5.18.1)\n",
            "Requirement already satisfied: six>=1.3 in /usr/local/lib/python3.7/dist-packages (from resampy>=0.2.2->librosa) (1.15.0)\n",
            "Requirement already satisfied: threadpoolctl>=2.0.0 in /usr/local/lib/python3.7/dist-packages (from scikit-learn!=0.19.0,>=0.14.0->librosa) (3.1.0)\n",
            "Requirement already satisfied: cffi>=1.0 in /usr/local/lib/python3.7/dist-packages (from soundfile>=0.10.2->librosa) (1.15.0)\n",
            "Requirement already satisfied: pycparser in /usr/local/lib/python3.7/dist-packages (from cffi>=1.0->soundfile>=0.10.2->librosa) (2.21)\n"
          ]
        }
      ]
    },
    {
      "cell_type": "code",
      "metadata": {
        "id": "HJjcbxwy46bG",
        "colab": {
          "base_uri": "https://localhost:8080/",
          "height": 17
        },
        "outputId": "87506f67-cfc9-4fff-fef4-9c8f1c397674"
      },
      "source": [
        "# Orignial Notebook: https://github.com/MITESHPUTHRANNEU/Speech-Emotion-Analyzer/blob/master/final_results_gender_test.ipynb\n",
        "# This notebook author: Reza Chu\n",
        "# Last Editing Date: 31st May 2019\n",
        "\n",
        "## Python\n",
        "import os\n",
        "import random\n",
        "import sys\n",
        "\n",
        "import IPython\n",
        "from IPython.display import Audio\n",
        "from IPython.display import Image\n",
        "import matplotlib.pyplot as plt\n",
        "\n",
        "## Package\n",
        "import glob \n",
        "import keras\n",
        "import IPython.display as ipd\n",
        "import librosa\n",
        "import librosa.display\n",
        "import matplotlib.pyplot as plt\n",
        "import numpy as np\n",
        "import pandas as pd\n",
        "import plotly.graph_objs as go\n",
        "import plotly.offline as py\n",
        "import plotly.tools as tls\n",
        "import seaborn as sns\n",
        "import scipy.io.wavfile\n",
        "import tensorflow as tf\n",
        "py.init_notebook_mode(connected=True)\n",
        "\n",
        "## Keras\n",
        "from keras import regularizers\n",
        "from keras.callbacks import ModelCheckpoint, LearningRateScheduler, EarlyStopping\n",
        "from keras.callbacks import  History, ReduceLROnPlateau, CSVLogger\n",
        "from keras.models import Model, Sequential\n",
        "from keras.layers import Dense, Embedding, LSTM\n",
        "from keras.layers import Input, Flatten, Dropout, Activation, BatchNormalization\n",
        "from keras.layers import Conv1D, MaxPooling1D, AveragePooling1D\n",
        "from keras.preprocessing import sequence\n",
        "from keras.preprocessing.sequence import pad_sequences\n",
        "from keras.preprocessing.text import Tokenizer\n",
        "from keras.utils import np_utils\n",
        "from tensorflow.keras.utils import to_categorical\n",
        "\n",
        "## Sklearn\n",
        "from sklearn.metrics import confusion_matrix\n",
        "from sklearn.preprocessing import LabelEncoder\n",
        "\n",
        "## Rest\n",
        "from scipy.fftpack import fft\n",
        "from scipy import signal\n",
        "from scipy.io import wavfile\n",
        "from tqdm import tqdm\n",
        "\n",
        "input_duration=3\n",
        "# % pylab inline"
      ],
      "execution_count": 3,
      "outputs": [
        {
          "output_type": "display_data",
          "data": {
            "text/html": [
              "        <script type=\"text/javascript\">\n",
              "        window.PlotlyConfig = {MathJaxConfig: 'local'};\n",
              "        if (window.MathJax) {MathJax.Hub.Config({SVG: {font: \"STIX-Web\"}});}\n",
              "        if (typeof require !== 'undefined') {\n",
              "        require.undef(\"plotly\");\n",
              "        requirejs.config({\n",
              "            paths: {\n",
              "                'plotly': ['https://cdn.plot.ly/plotly-2.8.3.min']\n",
              "            }\n",
              "        });\n",
              "        require(['plotly'], function(Plotly) {\n",
              "            window._Plotly = Plotly;\n",
              "        });\n",
              "        }\n",
              "        </script>\n",
              "        "
            ]
          },
          "metadata": {}
        }
      ]
    },
    {
      "cell_type": "code",
      "source": [
        "# # Saving joblib files to not load them again with the loop above\n",
        "\n",
        "# import joblib\n",
        "\n",
        "# X_name = 'x.joblib'\n",
        "# y_name = 'y.joblib'\n",
        "# save_dir = '/content/drive/My Drive/graduation project/audio/paper_code/features'\n",
        "\n",
        "# savedX = joblib.dump(X, os.path.join(save_dir, X_name))\n",
        "# savedy = joblib.dump(y, os.path.join(save_dir, y_name))"
      ],
      "metadata": {
        "id": "UCzic8rlDcuk"
      },
      "execution_count": 4,
      "outputs": []
    },
    {
      "cell_type": "code",
      "source": [
        "# # Loading saved models\n",
        "import joblib\n",
        "X = joblib.load('/content/drive/My Drive/graduation project/audio/paper_code/features/x.joblib')\n",
        "y = joblib.load('/content/drive/My Drive/graduation project/audio/paper_code/features/y.joblib')"
      ],
      "metadata": {
        "id": "Q35CN6zDrzg1"
      },
      "execution_count": 5,
      "outputs": []
    },
    {
      "cell_type": "code",
      "source": [
        "X.shape"
      ],
      "metadata": {
        "colab": {
          "base_uri": "https://localhost:8080/"
        },
        "id": "7PSTurzjCo5K",
        "outputId": "bae9ccf4-4b9a-413d-eb29-0d4742ca1194"
      },
      "execution_count": 6,
      "outputs": [
        {
          "output_type": "execute_result",
          "data": {
            "text/plain": [
              "(2068, 40)"
            ]
          },
          "metadata": {},
          "execution_count": 6
        }
      ]
    },
    {
      "cell_type": "code",
      "source": [
        "from sklearn.model_selection import train_test_split\n",
        "\n",
        "X_train, X_test, y_train, y_test = train_test_split(X,y, test_size=0.1 ,shuffle = True\n",
        "                                                    , random_state=42)\n",
        "X_train , X_valid, y_train, y_valid = train_test_split(X_train,y_train, test_size=0.1112305212 , shuffle = True \n",
        "                                                       , random_state=42)"
      ],
      "metadata": {
        "id": "Ai4Fy5cPCiq1"
      },
      "execution_count": 7,
      "outputs": []
    },
    {
      "cell_type": "code",
      "source": [
        "import numpy as np\n",
        "x_traincnn = np.expand_dims(X_train, axis=2)\n",
        "x_testcnn = np.expand_dims(X_test, axis=2)\n",
        "X_valid= np.expand_dims(X_valid, axis=2)"
      ],
      "metadata": {
        "id": "tp1Fm5K3CEXu"
      },
      "execution_count": 8,
      "outputs": []
    },
    {
      "cell_type": "code",
      "source": [
        "x_traincnn.shape, x_testcnn.shape , X_valid.shape\n",
        "#1861"
      ],
      "metadata": {
        "id": "RI0MxoIPBws5",
        "colab": {
          "base_uri": "https://localhost:8080/"
        },
        "outputId": "b5d63903-5138-4613-f894-fb921d65a99b"
      },
      "execution_count": 9,
      "outputs": [
        {
          "output_type": "execute_result",
          "data": {
            "text/plain": [
              "((1654, 40, 1), (207, 40, 1), (207, 40, 1))"
            ]
          },
          "metadata": {},
          "execution_count": 9
        }
      ]
    },
    {
      "cell_type": "code",
      "source": [
        "!pip install tensorflow"
      ],
      "metadata": {
        "colab": {
          "base_uri": "https://localhost:8080/"
        },
        "id": "oALhiMUd9G2Y",
        "outputId": "a91f0b90-df35-4404-8404-3c5220679327"
      },
      "execution_count": 10,
      "outputs": [
        {
          "output_type": "stream",
          "name": "stdout",
          "text": [
            "Looking in indexes: https://pypi.org/simple, https://us-python.pkg.dev/colab-wheels/public/simple/\n",
            "Requirement already satisfied: tensorflow in /usr/local/lib/python3.7/dist-packages (2.8.2+zzzcolab20220527125636)\n",
            "Requirement already satisfied: grpcio<2.0,>=1.24.3 in /usr/local/lib/python3.7/dist-packages (from tensorflow) (1.46.3)\n",
            "Requirement already satisfied: tensorflow-estimator<2.9,>=2.8 in /usr/local/lib/python3.7/dist-packages (from tensorflow) (2.8.0)\n",
            "Requirement already satisfied: keras<2.9,>=2.8.0rc0 in /usr/local/lib/python3.7/dist-packages (from tensorflow) (2.8.0)\n",
            "Requirement already satisfied: tensorboard<2.9,>=2.8 in /usr/local/lib/python3.7/dist-packages (from tensorflow) (2.8.0)\n",
            "Requirement already satisfied: numpy>=1.20 in /usr/local/lib/python3.7/dist-packages (from tensorflow) (1.21.6)\n",
            "Requirement already satisfied: protobuf<3.20,>=3.9.2 in /usr/local/lib/python3.7/dist-packages (from tensorflow) (3.17.3)\n",
            "Requirement already satisfied: termcolor>=1.1.0 in /usr/local/lib/python3.7/dist-packages (from tensorflow) (1.1.0)\n",
            "Requirement already satisfied: wrapt>=1.11.0 in /usr/local/lib/python3.7/dist-packages (from tensorflow) (1.14.1)\n",
            "Requirement already satisfied: astunparse>=1.6.0 in /usr/local/lib/python3.7/dist-packages (from tensorflow) (1.6.3)\n",
            "Requirement already satisfied: opt-einsum>=2.3.2 in /usr/local/lib/python3.7/dist-packages (from tensorflow) (3.3.0)\n",
            "Requirement already satisfied: flatbuffers>=1.12 in /usr/local/lib/python3.7/dist-packages (from tensorflow) (2.0)\n",
            "Requirement already satisfied: absl-py>=0.4.0 in /usr/local/lib/python3.7/dist-packages (from tensorflow) (1.0.0)\n",
            "Requirement already satisfied: gast>=0.2.1 in /usr/local/lib/python3.7/dist-packages (from tensorflow) (0.5.3)\n",
            "Requirement already satisfied: libclang>=9.0.1 in /usr/local/lib/python3.7/dist-packages (from tensorflow) (14.0.1)\n",
            "Requirement already satisfied: six>=1.12.0 in /usr/local/lib/python3.7/dist-packages (from tensorflow) (1.15.0)\n",
            "Requirement already satisfied: keras-preprocessing>=1.1.1 in /usr/local/lib/python3.7/dist-packages (from tensorflow) (1.1.2)\n",
            "Requirement already satisfied: setuptools in /usr/local/lib/python3.7/dist-packages (from tensorflow) (57.4.0)\n",
            "Requirement already satisfied: tensorflow-io-gcs-filesystem>=0.23.1 in /usr/local/lib/python3.7/dist-packages (from tensorflow) (0.26.0)\n",
            "Requirement already satisfied: typing-extensions>=3.6.6 in /usr/local/lib/python3.7/dist-packages (from tensorflow) (4.2.0)\n",
            "Requirement already satisfied: google-pasta>=0.1.1 in /usr/local/lib/python3.7/dist-packages (from tensorflow) (0.2.0)\n",
            "Requirement already satisfied: h5py>=2.9.0 in /usr/local/lib/python3.7/dist-packages (from tensorflow) (3.1.0)\n",
            "Requirement already satisfied: wheel<1.0,>=0.23.0 in /usr/local/lib/python3.7/dist-packages (from astunparse>=1.6.0->tensorflow) (0.37.1)\n",
            "Requirement already satisfied: cached-property in /usr/local/lib/python3.7/dist-packages (from h5py>=2.9.0->tensorflow) (1.5.2)\n",
            "Requirement already satisfied: requests<3,>=2.21.0 in /usr/local/lib/python3.7/dist-packages (from tensorboard<2.9,>=2.8->tensorflow) (2.23.0)\n",
            "Requirement already satisfied: markdown>=2.6.8 in /usr/local/lib/python3.7/dist-packages (from tensorboard<2.9,>=2.8->tensorflow) (3.3.7)\n",
            "Requirement already satisfied: google-auth-oauthlib<0.5,>=0.4.1 in /usr/local/lib/python3.7/dist-packages (from tensorboard<2.9,>=2.8->tensorflow) (0.4.6)\n",
            "Requirement already satisfied: werkzeug>=0.11.15 in /usr/local/lib/python3.7/dist-packages (from tensorboard<2.9,>=2.8->tensorflow) (1.0.1)\n",
            "Requirement already satisfied: google-auth<3,>=1.6.3 in /usr/local/lib/python3.7/dist-packages (from tensorboard<2.9,>=2.8->tensorflow) (1.35.0)\n",
            "Requirement already satisfied: tensorboard-data-server<0.7.0,>=0.6.0 in /usr/local/lib/python3.7/dist-packages (from tensorboard<2.9,>=2.8->tensorflow) (0.6.1)\n",
            "Requirement already satisfied: tensorboard-plugin-wit>=1.6.0 in /usr/local/lib/python3.7/dist-packages (from tensorboard<2.9,>=2.8->tensorflow) (1.8.1)\n",
            "Requirement already satisfied: pyasn1-modules>=0.2.1 in /usr/local/lib/python3.7/dist-packages (from google-auth<3,>=1.6.3->tensorboard<2.9,>=2.8->tensorflow) (0.2.8)\n",
            "Requirement already satisfied: rsa<5,>=3.1.4 in /usr/local/lib/python3.7/dist-packages (from google-auth<3,>=1.6.3->tensorboard<2.9,>=2.8->tensorflow) (4.8)\n",
            "Requirement already satisfied: cachetools<5.0,>=2.0.0 in /usr/local/lib/python3.7/dist-packages (from google-auth<3,>=1.6.3->tensorboard<2.9,>=2.8->tensorflow) (4.2.4)\n",
            "Requirement already satisfied: requests-oauthlib>=0.7.0 in /usr/local/lib/python3.7/dist-packages (from google-auth-oauthlib<0.5,>=0.4.1->tensorboard<2.9,>=2.8->tensorflow) (1.3.1)\n",
            "Requirement already satisfied: importlib-metadata>=4.4 in /usr/local/lib/python3.7/dist-packages (from markdown>=2.6.8->tensorboard<2.9,>=2.8->tensorflow) (4.11.4)\n",
            "Requirement already satisfied: zipp>=0.5 in /usr/local/lib/python3.7/dist-packages (from importlib-metadata>=4.4->markdown>=2.6.8->tensorboard<2.9,>=2.8->tensorflow) (3.8.0)\n",
            "Requirement already satisfied: pyasn1<0.5.0,>=0.4.6 in /usr/local/lib/python3.7/dist-packages (from pyasn1-modules>=0.2.1->google-auth<3,>=1.6.3->tensorboard<2.9,>=2.8->tensorflow) (0.4.8)\n",
            "Requirement already satisfied: idna<3,>=2.5 in /usr/local/lib/python3.7/dist-packages (from requests<3,>=2.21.0->tensorboard<2.9,>=2.8->tensorflow) (2.10)\n",
            "Requirement already satisfied: chardet<4,>=3.0.2 in /usr/local/lib/python3.7/dist-packages (from requests<3,>=2.21.0->tensorboard<2.9,>=2.8->tensorflow) (3.0.4)\n",
            "Requirement already satisfied: certifi>=2017.4.17 in /usr/local/lib/python3.7/dist-packages (from requests<3,>=2.21.0->tensorboard<2.9,>=2.8->tensorflow) (2022.5.18.1)\n",
            "Requirement already satisfied: urllib3!=1.25.0,!=1.25.1,<1.26,>=1.21.1 in /usr/local/lib/python3.7/dist-packages (from requests<3,>=2.21.0->tensorboard<2.9,>=2.8->tensorflow) (1.24.3)\n",
            "Requirement already satisfied: oauthlib>=3.0.0 in /usr/local/lib/python3.7/dist-packages (from requests-oauthlib>=0.7.0->google-auth-oauthlib<0.5,>=0.4.1->tensorboard<2.9,>=2.8->tensorflow) (3.2.0)\n"
          ]
        }
      ]
    },
    {
      "cell_type": "code",
      "source": [
        "import keras\n",
        "import numpy as np\n",
        "import matplotlib.pyplot as plt\n",
        "import tensorflow as tf\n",
        "from keras.preprocessing import sequence\n",
        "from keras.models import Sequential\n",
        "from keras.layers import Dense, Embedding\n",
        "from tensorflow.keras.utils import to_categorical\n",
        "from keras.layers import Input, Flatten, Dropout, Activation\n",
        "from keras.layers import Conv1D, MaxPooling1D\n",
        "from keras.models import Model\n",
        "from keras.callbacks import ModelCheckpoint\n",
        "from tensorflow.keras import optimizers\n",
        "\n",
        "model = Sequential()\n",
        "\n",
        "model.add(Conv1D(128, 8,padding='same', #classifier.add(Convolution2D(64, (3, 3), padding = 'same', input_shape = (128, 128, 3), activation = 'relu'))\n",
        "                 input_shape=(40,1)))\n",
        "model.add(Activation('relu'))\n",
        "model.add(Dropout(0.3))\n",
        "model.add(MaxPooling1D(pool_size=(5)))\n",
        "\n",
        "\n",
        "model.add(Conv1D(256,8,padding='same',))\n",
        "model.add(Activation('relu'))\n",
        "model.add(Dropout(0.3))\n",
        "model.add(MaxPooling1D(pool_size=(5)))\n",
        "\n",
        "model.add(Conv1D(256,8,padding='same',))\n",
        "model.add(Activation('relu'))\n",
        "model.add(Dropout(0.3))\n",
        "#model.add(MaxPooling1D(pool_size=(5)))\n",
        "\n",
        "model.add(Flatten())\n",
        "\n",
        "model.add(Dense(256))\n",
        "model.add(Activation('relu'))\n",
        "model.add(Dense(256))\n",
        "model.add(Activation('relu'))\n",
        "\n",
        "model.add(Dense(6))\n",
        "model.add(Activation('softmax'))\n",
        "\n",
        "opt = tf.keras.optimizers.Adam(lr=0.0002 , decay=0.0)\n",
        "#opt = tf.keras.optimizers.RMSprop(lr=0.0001, rho=0.9, epsilon=1e-07, decay=0.0)\n",
        "#opt = tf.keras.optimizers.SGD(lr=0.001, momentum=0.0, decay=0.0, nesterov=False)"
      ],
      "metadata": {
        "id": "g74fXWVAC4Cr",
        "colab": {
          "base_uri": "https://localhost:8080/"
        },
        "outputId": "1ebb5463-f411-48b3-90cc-d83c8606dd02"
      },
      "execution_count": 11,
      "outputs": [
        {
          "output_type": "stream",
          "name": "stderr",
          "text": [
            "/usr/local/lib/python3.7/dist-packages/keras/optimizer_v2/adam.py:105: UserWarning:\n",
            "\n",
            "The `lr` argument is deprecated, use `learning_rate` instead.\n",
            "\n"
          ]
        }
      ]
    },
    {
      "cell_type": "code",
      "source": [
        "model.summary()"
      ],
      "metadata": {
        "colab": {
          "base_uri": "https://localhost:8080/"
        },
        "id": "H6ukOxAGC_I4",
        "outputId": "0e9c86b1-b682-4f9b-bdea-5b3cb28cfa51"
      },
      "execution_count": 12,
      "outputs": [
        {
          "output_type": "stream",
          "name": "stdout",
          "text": [
            "Model: \"sequential\"\n",
            "_________________________________________________________________\n",
            " Layer (type)                Output Shape              Param #   \n",
            "=================================================================\n",
            " conv1d (Conv1D)             (None, 40, 128)           1152      \n",
            "                                                                 \n",
            " activation (Activation)     (None, 40, 128)           0         \n",
            "                                                                 \n",
            " dropout (Dropout)           (None, 40, 128)           0         \n",
            "                                                                 \n",
            " max_pooling1d (MaxPooling1D  (None, 8, 128)           0         \n",
            " )                                                               \n",
            "                                                                 \n",
            " conv1d_1 (Conv1D)           (None, 8, 256)            262400    \n",
            "                                                                 \n",
            " activation_1 (Activation)   (None, 8, 256)            0         \n",
            "                                                                 \n",
            " dropout_1 (Dropout)         (None, 8, 256)            0         \n",
            "                                                                 \n",
            " max_pooling1d_1 (MaxPooling  (None, 1, 256)           0         \n",
            " 1D)                                                             \n",
            "                                                                 \n",
            " conv1d_2 (Conv1D)           (None, 1, 256)            524544    \n",
            "                                                                 \n",
            " activation_2 (Activation)   (None, 1, 256)            0         \n",
            "                                                                 \n",
            " dropout_2 (Dropout)         (None, 1, 256)            0         \n",
            "                                                                 \n",
            " flatten (Flatten)           (None, 256)               0         \n",
            "                                                                 \n",
            " dense (Dense)               (None, 256)               65792     \n",
            "                                                                 \n",
            " activation_3 (Activation)   (None, 256)               0         \n",
            "                                                                 \n",
            " dense_1 (Dense)             (None, 256)               65792     \n",
            "                                                                 \n",
            " activation_4 (Activation)   (None, 256)               0         \n",
            "                                                                 \n",
            " dense_2 (Dense)             (None, 6)                 1542      \n",
            "                                                                 \n",
            " activation_5 (Activation)   (None, 6)                 0         \n",
            "                                                                 \n",
            "=================================================================\n",
            "Total params: 921,222\n",
            "Trainable params: 921,222\n",
            "Non-trainable params: 0\n",
            "_________________________________________________________________\n"
          ]
        }
      ]
    },
    {
      "cell_type": "code",
      "source": [
        "model.compile(loss='sparse_categorical_crossentropy',\n",
        "              optimizer=opt,\n",
        "              metrics=['accuracy'])"
      ],
      "metadata": {
        "id": "AbMlLNk4DCBM"
      },
      "execution_count": 13,
      "outputs": []
    },
    {
      "cell_type": "code",
      "source": [
        "# Create an Instance of Early Stopping Callback.\n",
        "early_stopping_callback = EarlyStopping(monitor = 'val_loss', patience = 25, mode = 'min', restore_best_weights = True)\n",
        "\n",
        "cnnhistory=model.fit(x_traincnn, y_train, batch_size=16, epochs=500 , shuffle = True, \n",
        "                     validation_data=(X_valid, y_valid) , callbacks = [early_stopping_callback])"
      ],
      "metadata": {
        "colab": {
          "base_uri": "https://localhost:8080/"
        },
        "id": "RI1v2AuADFhy",
        "outputId": "cf3877ea-652e-4521-e26e-f6a510fca566"
      },
      "execution_count": 14,
      "outputs": [
        {
          "output_type": "stream",
          "name": "stdout",
          "text": [
            "Epoch 1/500\n",
            "104/104 [==============================] - 5s 15ms/step - loss: 2.1752 - accuracy: 0.1778 - val_loss: 1.8340 - val_accuracy: 0.1739\n",
            "Epoch 2/500\n",
            "104/104 [==============================] - 1s 11ms/step - loss: 1.8294 - accuracy: 0.1983 - val_loss: 1.8136 - val_accuracy: 0.1594\n",
            "Epoch 3/500\n",
            "104/104 [==============================] - 1s 12ms/step - loss: 1.8221 - accuracy: 0.1856 - val_loss: 1.7849 - val_accuracy: 0.2029\n",
            "Epoch 4/500\n",
            "104/104 [==============================] - 1s 13ms/step - loss: 1.8057 - accuracy: 0.1886 - val_loss: 1.7803 - val_accuracy: 0.1932\n",
            "Epoch 5/500\n",
            "104/104 [==============================] - 1s 11ms/step - loss: 1.7727 - accuracy: 0.2019 - val_loss: 1.7687 - val_accuracy: 0.2512\n",
            "Epoch 6/500\n",
            "104/104 [==============================] - 1s 11ms/step - loss: 1.7796 - accuracy: 0.2134 - val_loss: 1.7596 - val_accuracy: 0.2367\n",
            "Epoch 7/500\n",
            "104/104 [==============================] - 1s 13ms/step - loss: 1.7585 - accuracy: 0.2316 - val_loss: 1.7603 - val_accuracy: 0.2367\n",
            "Epoch 8/500\n",
            "104/104 [==============================] - 1s 12ms/step - loss: 1.7618 - accuracy: 0.2001 - val_loss: 1.7473 - val_accuracy: 0.2560\n",
            "Epoch 9/500\n",
            "104/104 [==============================] - 1s 11ms/step - loss: 1.7419 - accuracy: 0.2249 - val_loss: 1.7242 - val_accuracy: 0.2367\n",
            "Epoch 10/500\n",
            "104/104 [==============================] - 1s 9ms/step - loss: 1.7299 - accuracy: 0.2316 - val_loss: 1.6985 - val_accuracy: 0.2802\n",
            "Epoch 11/500\n",
            "104/104 [==============================] - 1s 8ms/step - loss: 1.6961 - accuracy: 0.2678 - val_loss: 1.7131 - val_accuracy: 0.2657\n",
            "Epoch 12/500\n",
            "104/104 [==============================] - 1s 10ms/step - loss: 1.6816 - accuracy: 0.2594 - val_loss: 1.6664 - val_accuracy: 0.2705\n",
            "Epoch 13/500\n",
            "104/104 [==============================] - 1s 10ms/step - loss: 1.6607 - accuracy: 0.2690 - val_loss: 1.6215 - val_accuracy: 0.3043\n",
            "Epoch 14/500\n",
            "104/104 [==============================] - 1s 10ms/step - loss: 1.6390 - accuracy: 0.2836 - val_loss: 1.6326 - val_accuracy: 0.3478\n",
            "Epoch 15/500\n",
            "104/104 [==============================] - 1s 11ms/step - loss: 1.6173 - accuracy: 0.2926 - val_loss: 1.6187 - val_accuracy: 0.2754\n",
            "Epoch 16/500\n",
            "104/104 [==============================] - 1s 10ms/step - loss: 1.6161 - accuracy: 0.2830 - val_loss: 1.6119 - val_accuracy: 0.3092\n",
            "Epoch 17/500\n",
            "104/104 [==============================] - 1s 9ms/step - loss: 1.6061 - accuracy: 0.2944 - val_loss: 1.6149 - val_accuracy: 0.3092\n",
            "Epoch 18/500\n",
            "104/104 [==============================] - 1s 9ms/step - loss: 1.5909 - accuracy: 0.2920 - val_loss: 1.6357 - val_accuracy: 0.3333\n",
            "Epoch 19/500\n",
            "104/104 [==============================] - 1s 11ms/step - loss: 1.5847 - accuracy: 0.3150 - val_loss: 1.5831 - val_accuracy: 0.2947\n",
            "Epoch 20/500\n",
            "104/104 [==============================] - 1s 10ms/step - loss: 1.5719 - accuracy: 0.3047 - val_loss: 1.5818 - val_accuracy: 0.3285\n",
            "Epoch 21/500\n",
            "104/104 [==============================] - 1s 10ms/step - loss: 1.5438 - accuracy: 0.3259 - val_loss: 1.5775 - val_accuracy: 0.4058\n",
            "Epoch 22/500\n",
            "104/104 [==============================] - 1s 10ms/step - loss: 1.5434 - accuracy: 0.3144 - val_loss: 1.5497 - val_accuracy: 0.3865\n",
            "Epoch 23/500\n",
            "104/104 [==============================] - 1s 9ms/step - loss: 1.5470 - accuracy: 0.3216 - val_loss: 1.5574 - val_accuracy: 0.3961\n",
            "Epoch 24/500\n",
            "104/104 [==============================] - 1s 10ms/step - loss: 1.5168 - accuracy: 0.3440 - val_loss: 1.5095 - val_accuracy: 0.3478\n",
            "Epoch 25/500\n",
            "104/104 [==============================] - 1s 9ms/step - loss: 1.4891 - accuracy: 0.3694 - val_loss: 1.5203 - val_accuracy: 0.3575\n",
            "Epoch 26/500\n",
            "104/104 [==============================] - 1s 9ms/step - loss: 1.4814 - accuracy: 0.3706 - val_loss: 1.4932 - val_accuracy: 0.3913\n",
            "Epoch 27/500\n",
            "104/104 [==============================] - 1s 8ms/step - loss: 1.4702 - accuracy: 0.3809 - val_loss: 1.4572 - val_accuracy: 0.4444\n",
            "Epoch 28/500\n",
            "104/104 [==============================] - 1s 10ms/step - loss: 1.4360 - accuracy: 0.3761 - val_loss: 1.4668 - val_accuracy: 0.4010\n",
            "Epoch 29/500\n",
            "104/104 [==============================] - 1s 5ms/step - loss: 1.4159 - accuracy: 0.3912 - val_loss: 1.4032 - val_accuracy: 0.4396\n",
            "Epoch 30/500\n",
            "104/104 [==============================] - 1s 6ms/step - loss: 1.3962 - accuracy: 0.4039 - val_loss: 1.3520 - val_accuracy: 0.4493\n",
            "Epoch 31/500\n",
            "104/104 [==============================] - 1s 6ms/step - loss: 1.3775 - accuracy: 0.4208 - val_loss: 1.3711 - val_accuracy: 0.4155\n",
            "Epoch 32/500\n",
            "104/104 [==============================] - 1s 5ms/step - loss: 1.3256 - accuracy: 0.4486 - val_loss: 1.3437 - val_accuracy: 0.4638\n",
            "Epoch 33/500\n",
            "104/104 [==============================] - 1s 6ms/step - loss: 1.3111 - accuracy: 0.4534 - val_loss: 1.2564 - val_accuracy: 0.4976\n",
            "Epoch 34/500\n",
            "104/104 [==============================] - 1s 5ms/step - loss: 1.3052 - accuracy: 0.4764 - val_loss: 1.2436 - val_accuracy: 0.4589\n",
            "Epoch 35/500\n",
            "104/104 [==============================] - 1s 5ms/step - loss: 1.2627 - accuracy: 0.4764 - val_loss: 1.1974 - val_accuracy: 0.5314\n",
            "Epoch 36/500\n",
            "104/104 [==============================] - 1s 6ms/step - loss: 1.2478 - accuracy: 0.4710 - val_loss: 1.2057 - val_accuracy: 0.4783\n",
            "Epoch 37/500\n",
            "104/104 [==============================] - 1s 5ms/step - loss: 1.1945 - accuracy: 0.5060 - val_loss: 1.1547 - val_accuracy: 0.5266\n",
            "Epoch 38/500\n",
            "104/104 [==============================] - 1s 6ms/step - loss: 1.1863 - accuracy: 0.5018 - val_loss: 1.1565 - val_accuracy: 0.4928\n",
            "Epoch 39/500\n",
            "104/104 [==============================] - 1s 5ms/step - loss: 1.1547 - accuracy: 0.5181 - val_loss: 1.1669 - val_accuracy: 0.5072\n",
            "Epoch 40/500\n",
            "104/104 [==============================] - 1s 5ms/step - loss: 1.1495 - accuracy: 0.5320 - val_loss: 1.1831 - val_accuracy: 0.5169\n",
            "Epoch 41/500\n",
            "104/104 [==============================] - 1s 6ms/step - loss: 1.1325 - accuracy: 0.5284 - val_loss: 1.1071 - val_accuracy: 0.5507\n",
            "Epoch 42/500\n",
            "104/104 [==============================] - 1s 6ms/step - loss: 1.0918 - accuracy: 0.5375 - val_loss: 1.1829 - val_accuracy: 0.4541\n",
            "Epoch 43/500\n",
            "104/104 [==============================] - 1s 6ms/step - loss: 1.0838 - accuracy: 0.5375 - val_loss: 1.1123 - val_accuracy: 0.5072\n",
            "Epoch 44/500\n",
            "104/104 [==============================] - 1s 5ms/step - loss: 1.0754 - accuracy: 0.5580 - val_loss: 1.1397 - val_accuracy: 0.4879\n",
            "Epoch 45/500\n",
            "104/104 [==============================] - 1s 5ms/step - loss: 1.0771 - accuracy: 0.5689 - val_loss: 1.0957 - val_accuracy: 0.5362\n",
            "Epoch 46/500\n",
            "104/104 [==============================] - 1s 6ms/step - loss: 1.0621 - accuracy: 0.5586 - val_loss: 1.0569 - val_accuracy: 0.5604\n",
            "Epoch 47/500\n",
            "104/104 [==============================] - 1s 5ms/step - loss: 1.0400 - accuracy: 0.5713 - val_loss: 1.0395 - val_accuracy: 0.5121\n",
            "Epoch 48/500\n",
            "104/104 [==============================] - 1s 6ms/step - loss: 1.0327 - accuracy: 0.5798 - val_loss: 1.0324 - val_accuracy: 0.6087\n",
            "Epoch 49/500\n",
            "104/104 [==============================] - 1s 5ms/step - loss: 1.0017 - accuracy: 0.5683 - val_loss: 1.0059 - val_accuracy: 0.6087\n",
            "Epoch 50/500\n",
            "104/104 [==============================] - 1s 5ms/step - loss: 1.0074 - accuracy: 0.5871 - val_loss: 0.9921 - val_accuracy: 0.5845\n",
            "Epoch 51/500\n",
            "104/104 [==============================] - 1s 6ms/step - loss: 0.9904 - accuracy: 0.5768 - val_loss: 1.0151 - val_accuracy: 0.5652\n",
            "Epoch 52/500\n",
            "104/104 [==============================] - 1s 5ms/step - loss: 0.9795 - accuracy: 0.5913 - val_loss: 0.9705 - val_accuracy: 0.6135\n",
            "Epoch 53/500\n",
            "104/104 [==============================] - 1s 6ms/step - loss: 0.9645 - accuracy: 0.6022 - val_loss: 0.9712 - val_accuracy: 0.6280\n",
            "Epoch 54/500\n",
            "104/104 [==============================] - 1s 5ms/step - loss: 0.9453 - accuracy: 0.6034 - val_loss: 0.9580 - val_accuracy: 0.6039\n",
            "Epoch 55/500\n",
            "104/104 [==============================] - 1s 5ms/step - loss: 0.9298 - accuracy: 0.6197 - val_loss: 0.9550 - val_accuracy: 0.5942\n",
            "Epoch 56/500\n",
            "104/104 [==============================] - 1s 6ms/step - loss: 0.9491 - accuracy: 0.6155 - val_loss: 0.9622 - val_accuracy: 0.5990\n",
            "Epoch 57/500\n",
            "104/104 [==============================] - 0s 5ms/step - loss: 0.9257 - accuracy: 0.6173 - val_loss: 0.9154 - val_accuracy: 0.6570\n",
            "Epoch 58/500\n",
            "104/104 [==============================] - 1s 6ms/step - loss: 0.9171 - accuracy: 0.6197 - val_loss: 0.8945 - val_accuracy: 0.6377\n",
            "Epoch 59/500\n",
            "104/104 [==============================] - 1s 5ms/step - loss: 0.8734 - accuracy: 0.6415 - val_loss: 0.8983 - val_accuracy: 0.6473\n",
            "Epoch 60/500\n",
            "104/104 [==============================] - 1s 5ms/step - loss: 0.8885 - accuracy: 0.6469 - val_loss: 0.8716 - val_accuracy: 0.6184\n",
            "Epoch 61/500\n",
            "104/104 [==============================] - 1s 6ms/step - loss: 0.8699 - accuracy: 0.6669 - val_loss: 0.8920 - val_accuracy: 0.6329\n",
            "Epoch 62/500\n",
            "104/104 [==============================] - 1s 5ms/step - loss: 0.8515 - accuracy: 0.6584 - val_loss: 0.8916 - val_accuracy: 0.6425\n",
            "Epoch 63/500\n",
            "104/104 [==============================] - 1s 6ms/step - loss: 0.8860 - accuracy: 0.6403 - val_loss: 0.8850 - val_accuracy: 0.6763\n",
            "Epoch 64/500\n",
            "104/104 [==============================] - 1s 5ms/step - loss: 0.8614 - accuracy: 0.6457 - val_loss: 0.8613 - val_accuracy: 0.6667\n",
            "Epoch 65/500\n",
            "104/104 [==============================] - 1s 5ms/step - loss: 0.8446 - accuracy: 0.6518 - val_loss: 0.8166 - val_accuracy: 0.6522\n",
            "Epoch 66/500\n",
            "104/104 [==============================] - 1s 6ms/step - loss: 0.8432 - accuracy: 0.6626 - val_loss: 0.8352 - val_accuracy: 0.6763\n",
            "Epoch 67/500\n",
            "104/104 [==============================] - 1s 5ms/step - loss: 0.8111 - accuracy: 0.6838 - val_loss: 0.8066 - val_accuracy: 0.6812\n",
            "Epoch 68/500\n",
            "104/104 [==============================] - 1s 6ms/step - loss: 0.8270 - accuracy: 0.6771 - val_loss: 0.8308 - val_accuracy: 0.6618\n",
            "Epoch 69/500\n",
            "104/104 [==============================] - 1s 5ms/step - loss: 0.8161 - accuracy: 0.6687 - val_loss: 0.7948 - val_accuracy: 0.7005\n",
            "Epoch 70/500\n",
            "104/104 [==============================] - 1s 5ms/step - loss: 0.8159 - accuracy: 0.6669 - val_loss: 0.8108 - val_accuracy: 0.6667\n",
            "Epoch 71/500\n",
            "104/104 [==============================] - 1s 5ms/step - loss: 0.7916 - accuracy: 0.6880 - val_loss: 0.7844 - val_accuracy: 0.6908\n",
            "Epoch 72/500\n",
            "104/104 [==============================] - 1s 5ms/step - loss: 0.7764 - accuracy: 0.6784 - val_loss: 0.8391 - val_accuracy: 0.6715\n",
            "Epoch 73/500\n",
            "104/104 [==============================] - 0s 5ms/step - loss: 0.7707 - accuracy: 0.6977 - val_loss: 0.7877 - val_accuracy: 0.7053\n",
            "Epoch 74/500\n",
            "104/104 [==============================] - 1s 5ms/step - loss: 0.7861 - accuracy: 0.6753 - val_loss: 0.8102 - val_accuracy: 0.6715\n",
            "Epoch 75/500\n",
            "104/104 [==============================] - 1s 5ms/step - loss: 0.7624 - accuracy: 0.6862 - val_loss: 0.7852 - val_accuracy: 0.6908\n",
            "Epoch 76/500\n",
            "104/104 [==============================] - 1s 5ms/step - loss: 0.7799 - accuracy: 0.6790 - val_loss: 0.7632 - val_accuracy: 0.7053\n",
            "Epoch 77/500\n",
            "104/104 [==============================] - 1s 5ms/step - loss: 0.7664 - accuracy: 0.6911 - val_loss: 0.8035 - val_accuracy: 0.7246\n",
            "Epoch 78/500\n",
            "104/104 [==============================] - 1s 5ms/step - loss: 0.7745 - accuracy: 0.6971 - val_loss: 0.9423 - val_accuracy: 0.5797\n",
            "Epoch 79/500\n",
            "104/104 [==============================] - 1s 5ms/step - loss: 0.7421 - accuracy: 0.7037 - val_loss: 0.7578 - val_accuracy: 0.7005\n",
            "Epoch 80/500\n",
            "104/104 [==============================] - 1s 6ms/step - loss: 0.7022 - accuracy: 0.7304 - val_loss: 0.7579 - val_accuracy: 0.7101\n",
            "Epoch 81/500\n",
            "104/104 [==============================] - 1s 5ms/step - loss: 0.7150 - accuracy: 0.7225 - val_loss: 0.7639 - val_accuracy: 0.6957\n",
            "Epoch 82/500\n",
            "104/104 [==============================] - 1s 6ms/step - loss: 0.7318 - accuracy: 0.7134 - val_loss: 0.7716 - val_accuracy: 0.7053\n",
            "Epoch 83/500\n",
            "104/104 [==============================] - 1s 6ms/step - loss: 0.7081 - accuracy: 0.7098 - val_loss: 0.7906 - val_accuracy: 0.6812\n",
            "Epoch 84/500\n",
            "104/104 [==============================] - 1s 5ms/step - loss: 0.6870 - accuracy: 0.7297 - val_loss: 0.7610 - val_accuracy: 0.6908\n",
            "Epoch 85/500\n",
            "104/104 [==============================] - 1s 6ms/step - loss: 0.6853 - accuracy: 0.7370 - val_loss: 0.7015 - val_accuracy: 0.7488\n",
            "Epoch 86/500\n",
            "104/104 [==============================] - 1s 5ms/step - loss: 0.6668 - accuracy: 0.7334 - val_loss: 0.7179 - val_accuracy: 0.7343\n",
            "Epoch 87/500\n",
            "104/104 [==============================] - 1s 5ms/step - loss: 0.6574 - accuracy: 0.7358 - val_loss: 0.6975 - val_accuracy: 0.7391\n",
            "Epoch 88/500\n",
            "104/104 [==============================] - 1s 6ms/step - loss: 0.6506 - accuracy: 0.7352 - val_loss: 0.7309 - val_accuracy: 0.7440\n",
            "Epoch 89/500\n",
            "104/104 [==============================] - 1s 6ms/step - loss: 0.6602 - accuracy: 0.7231 - val_loss: 0.6913 - val_accuracy: 0.7295\n",
            "Epoch 90/500\n",
            "104/104 [==============================] - 1s 6ms/step - loss: 0.6777 - accuracy: 0.7394 - val_loss: 0.7465 - val_accuracy: 0.7101\n",
            "Epoch 91/500\n",
            "104/104 [==============================] - 1s 6ms/step - loss: 0.6584 - accuracy: 0.7437 - val_loss: 0.7364 - val_accuracy: 0.6957\n",
            "Epoch 92/500\n",
            "104/104 [==============================] - 1s 5ms/step - loss: 0.6452 - accuracy: 0.7491 - val_loss: 0.7230 - val_accuracy: 0.7246\n",
            "Epoch 93/500\n",
            "104/104 [==============================] - 1s 6ms/step - loss: 0.6310 - accuracy: 0.7509 - val_loss: 0.6923 - val_accuracy: 0.7536\n",
            "Epoch 94/500\n",
            "104/104 [==============================] - 1s 5ms/step - loss: 0.6229 - accuracy: 0.7551 - val_loss: 0.7059 - val_accuracy: 0.7295\n",
            "Epoch 95/500\n",
            "104/104 [==============================] - 1s 6ms/step - loss: 0.6170 - accuracy: 0.7539 - val_loss: 0.7012 - val_accuracy: 0.7246\n",
            "Epoch 96/500\n",
            "104/104 [==============================] - 1s 6ms/step - loss: 0.5865 - accuracy: 0.7684 - val_loss: 0.6892 - val_accuracy: 0.7391\n",
            "Epoch 97/500\n",
            "104/104 [==============================] - 1s 5ms/step - loss: 0.6176 - accuracy: 0.7509 - val_loss: 0.6865 - val_accuracy: 0.7391\n",
            "Epoch 98/500\n",
            "104/104 [==============================] - 1s 6ms/step - loss: 0.6054 - accuracy: 0.7576 - val_loss: 0.6602 - val_accuracy: 0.7391\n",
            "Epoch 99/500\n",
            "104/104 [==============================] - 1s 5ms/step - loss: 0.6173 - accuracy: 0.7515 - val_loss: 0.7016 - val_accuracy: 0.7101\n",
            "Epoch 100/500\n",
            "104/104 [==============================] - 1s 5ms/step - loss: 0.6199 - accuracy: 0.7515 - val_loss: 0.6821 - val_accuracy: 0.7391\n",
            "Epoch 101/500\n",
            "104/104 [==============================] - 1s 6ms/step - loss: 0.5612 - accuracy: 0.7775 - val_loss: 0.6646 - val_accuracy: 0.7585\n",
            "Epoch 102/500\n",
            "104/104 [==============================] - 1s 5ms/step - loss: 0.5956 - accuracy: 0.7570 - val_loss: 0.7296 - val_accuracy: 0.7101\n",
            "Epoch 103/500\n",
            "104/104 [==============================] - 1s 6ms/step - loss: 0.5697 - accuracy: 0.7811 - val_loss: 0.6357 - val_accuracy: 0.7633\n",
            "Epoch 104/500\n",
            "104/104 [==============================] - 1s 5ms/step - loss: 0.5695 - accuracy: 0.7690 - val_loss: 0.6385 - val_accuracy: 0.7488\n",
            "Epoch 105/500\n",
            "104/104 [==============================] - 1s 6ms/step - loss: 0.5780 - accuracy: 0.7672 - val_loss: 0.6549 - val_accuracy: 0.7585\n",
            "Epoch 106/500\n",
            "104/104 [==============================] - 1s 6ms/step - loss: 0.5758 - accuracy: 0.7630 - val_loss: 0.6719 - val_accuracy: 0.7053\n",
            "Epoch 107/500\n",
            "104/104 [==============================] - 1s 5ms/step - loss: 0.5768 - accuracy: 0.7721 - val_loss: 0.7228 - val_accuracy: 0.7101\n",
            "Epoch 108/500\n",
            "104/104 [==============================] - 1s 6ms/step - loss: 0.5534 - accuracy: 0.7932 - val_loss: 0.6430 - val_accuracy: 0.7729\n",
            "Epoch 109/500\n",
            "104/104 [==============================] - 1s 5ms/step - loss: 0.5635 - accuracy: 0.7690 - val_loss: 0.6777 - val_accuracy: 0.7150\n",
            "Epoch 110/500\n",
            "104/104 [==============================] - 1s 5ms/step - loss: 0.5352 - accuracy: 0.7884 - val_loss: 0.6282 - val_accuracy: 0.7729\n",
            "Epoch 111/500\n",
            "104/104 [==============================] - 1s 6ms/step - loss: 0.5376 - accuracy: 0.7763 - val_loss: 0.6616 - val_accuracy: 0.7488\n",
            "Epoch 112/500\n",
            "104/104 [==============================] - 1s 5ms/step - loss: 0.5176 - accuracy: 0.7926 - val_loss: 0.6294 - val_accuracy: 0.7874\n",
            "Epoch 113/500\n",
            "104/104 [==============================] - 1s 6ms/step - loss: 0.5185 - accuracy: 0.7956 - val_loss: 0.6583 - val_accuracy: 0.7246\n",
            "Epoch 114/500\n",
            "104/104 [==============================] - 1s 6ms/step - loss: 0.5280 - accuracy: 0.7938 - val_loss: 0.6605 - val_accuracy: 0.7585\n",
            "Epoch 115/500\n",
            "104/104 [==============================] - 1s 5ms/step - loss: 0.5122 - accuracy: 0.7963 - val_loss: 0.6346 - val_accuracy: 0.7343\n",
            "Epoch 116/500\n",
            "104/104 [==============================] - 1s 6ms/step - loss: 0.5110 - accuracy: 0.7932 - val_loss: 0.6598 - val_accuracy: 0.7295\n",
            "Epoch 117/500\n",
            "104/104 [==============================] - 1s 5ms/step - loss: 0.4831 - accuracy: 0.8035 - val_loss: 0.6099 - val_accuracy: 0.7681\n",
            "Epoch 118/500\n",
            "104/104 [==============================] - 1s 5ms/step - loss: 0.5193 - accuracy: 0.8065 - val_loss: 0.6663 - val_accuracy: 0.7295\n",
            "Epoch 119/500\n",
            "104/104 [==============================] - 1s 6ms/step - loss: 0.5168 - accuracy: 0.8059 - val_loss: 0.6435 - val_accuracy: 0.7440\n",
            "Epoch 120/500\n",
            "104/104 [==============================] - 1s 5ms/step - loss: 0.5152 - accuracy: 0.7932 - val_loss: 0.6297 - val_accuracy: 0.7585\n",
            "Epoch 121/500\n",
            "104/104 [==============================] - 1s 5ms/step - loss: 0.4916 - accuracy: 0.8029 - val_loss: 0.6548 - val_accuracy: 0.7488\n",
            "Epoch 122/500\n",
            "104/104 [==============================] - 1s 5ms/step - loss: 0.4880 - accuracy: 0.8071 - val_loss: 0.6407 - val_accuracy: 0.7488\n",
            "Epoch 123/500\n",
            "104/104 [==============================] - 1s 5ms/step - loss: 0.5342 - accuracy: 0.7836 - val_loss: 0.7067 - val_accuracy: 0.7150\n",
            "Epoch 124/500\n",
            "104/104 [==============================] - 1s 6ms/step - loss: 0.4883 - accuracy: 0.8102 - val_loss: 0.6636 - val_accuracy: 0.7295\n",
            "Epoch 125/500\n",
            "104/104 [==============================] - 0s 5ms/step - loss: 0.5085 - accuracy: 0.8096 - val_loss: 0.6279 - val_accuracy: 0.7778\n",
            "Epoch 126/500\n",
            "104/104 [==============================] - 1s 5ms/step - loss: 0.4575 - accuracy: 0.8343 - val_loss: 0.7108 - val_accuracy: 0.7101\n",
            "Epoch 127/500\n",
            "104/104 [==============================] - 1s 5ms/step - loss: 0.4838 - accuracy: 0.8077 - val_loss: 0.6046 - val_accuracy: 0.7536\n",
            "Epoch 128/500\n",
            "104/104 [==============================] - 1s 12ms/step - loss: 0.4633 - accuracy: 0.8162 - val_loss: 0.6309 - val_accuracy: 0.7343\n",
            "Epoch 129/500\n",
            "104/104 [==============================] - 1s 7ms/step - loss: 0.4546 - accuracy: 0.8174 - val_loss: 0.6874 - val_accuracy: 0.7150\n",
            "Epoch 130/500\n",
            "104/104 [==============================] - 1s 8ms/step - loss: 0.4649 - accuracy: 0.8186 - val_loss: 0.6237 - val_accuracy: 0.7681\n",
            "Epoch 131/500\n",
            "104/104 [==============================] - 1s 9ms/step - loss: 0.4360 - accuracy: 0.8325 - val_loss: 0.6537 - val_accuracy: 0.7681\n",
            "Epoch 132/500\n",
            "104/104 [==============================] - 1s 6ms/step - loss: 0.4552 - accuracy: 0.8174 - val_loss: 0.6140 - val_accuracy: 0.7778\n",
            "Epoch 133/500\n",
            "104/104 [==============================] - 1s 6ms/step - loss: 0.4033 - accuracy: 0.8458 - val_loss: 0.6226 - val_accuracy: 0.7440\n",
            "Epoch 134/500\n",
            "104/104 [==============================] - 1s 6ms/step - loss: 0.4303 - accuracy: 0.8271 - val_loss: 0.5600 - val_accuracy: 0.7826\n",
            "Epoch 135/500\n",
            "104/104 [==============================] - 0s 5ms/step - loss: 0.4179 - accuracy: 0.8525 - val_loss: 0.5932 - val_accuracy: 0.7681\n",
            "Epoch 136/500\n",
            "104/104 [==============================] - 1s 5ms/step - loss: 0.4454 - accuracy: 0.8307 - val_loss: 0.6160 - val_accuracy: 0.7729\n",
            "Epoch 137/500\n",
            "104/104 [==============================] - 1s 5ms/step - loss: 0.4484 - accuracy: 0.8301 - val_loss: 0.6464 - val_accuracy: 0.7633\n",
            "Epoch 138/500\n",
            "104/104 [==============================] - 1s 5ms/step - loss: 0.4620 - accuracy: 0.8192 - val_loss: 0.5964 - val_accuracy: 0.7633\n",
            "Epoch 139/500\n",
            "104/104 [==============================] - 1s 6ms/step - loss: 0.4467 - accuracy: 0.8186 - val_loss: 0.6032 - val_accuracy: 0.7585\n",
            "Epoch 140/500\n",
            "104/104 [==============================] - 1s 5ms/step - loss: 0.4301 - accuracy: 0.8271 - val_loss: 0.6360 - val_accuracy: 0.7440\n",
            "Epoch 141/500\n",
            "104/104 [==============================] - 1s 6ms/step - loss: 0.4236 - accuracy: 0.8356 - val_loss: 0.6054 - val_accuracy: 0.7681\n",
            "Epoch 142/500\n",
            "104/104 [==============================] - 1s 6ms/step - loss: 0.4046 - accuracy: 0.8392 - val_loss: 0.7081 - val_accuracy: 0.7343\n",
            "Epoch 143/500\n",
            "104/104 [==============================] - 1s 5ms/step - loss: 0.4286 - accuracy: 0.8428 - val_loss: 0.6351 - val_accuracy: 0.7585\n",
            "Epoch 144/500\n",
            "104/104 [==============================] - 1s 6ms/step - loss: 0.4038 - accuracy: 0.8470 - val_loss: 0.5656 - val_accuracy: 0.7923\n",
            "Epoch 145/500\n",
            "104/104 [==============================] - 1s 5ms/step - loss: 0.4095 - accuracy: 0.8416 - val_loss: 0.6273 - val_accuracy: 0.7681\n",
            "Epoch 146/500\n",
            "104/104 [==============================] - 1s 6ms/step - loss: 0.3989 - accuracy: 0.8392 - val_loss: 0.6459 - val_accuracy: 0.7681\n",
            "Epoch 147/500\n",
            "104/104 [==============================] - 1s 6ms/step - loss: 0.4325 - accuracy: 0.8362 - val_loss: 0.5909 - val_accuracy: 0.7874\n",
            "Epoch 148/500\n",
            "104/104 [==============================] - 1s 5ms/step - loss: 0.4201 - accuracy: 0.8392 - val_loss: 0.6477 - val_accuracy: 0.7633\n",
            "Epoch 149/500\n",
            "104/104 [==============================] - 1s 6ms/step - loss: 0.4291 - accuracy: 0.8307 - val_loss: 0.6316 - val_accuracy: 0.7729\n",
            "Epoch 150/500\n",
            "104/104 [==============================] - 1s 5ms/step - loss: 0.3817 - accuracy: 0.8537 - val_loss: 0.5943 - val_accuracy: 0.7826\n",
            "Epoch 151/500\n",
            "104/104 [==============================] - 1s 6ms/step - loss: 0.3739 - accuracy: 0.8585 - val_loss: 0.5926 - val_accuracy: 0.7681\n",
            "Epoch 152/500\n",
            "104/104 [==============================] - 1s 5ms/step - loss: 0.3685 - accuracy: 0.8615 - val_loss: 0.6482 - val_accuracy: 0.7343\n",
            "Epoch 153/500\n",
            "104/104 [==============================] - 1s 5ms/step - loss: 0.3699 - accuracy: 0.8549 - val_loss: 0.6080 - val_accuracy: 0.7923\n",
            "Epoch 154/500\n",
            "104/104 [==============================] - 1s 6ms/step - loss: 0.3977 - accuracy: 0.8458 - val_loss: 0.5948 - val_accuracy: 0.7874\n",
            "Epoch 155/500\n",
            "104/104 [==============================] - 1s 5ms/step - loss: 0.3880 - accuracy: 0.8573 - val_loss: 0.6196 - val_accuracy: 0.7778\n",
            "Epoch 156/500\n",
            "104/104 [==============================] - 1s 6ms/step - loss: 0.3590 - accuracy: 0.8591 - val_loss: 0.6336 - val_accuracy: 0.7874\n",
            "Epoch 157/500\n",
            "104/104 [==============================] - 1s 6ms/step - loss: 0.3508 - accuracy: 0.8579 - val_loss: 0.6270 - val_accuracy: 0.7826\n",
            "Epoch 158/500\n",
            "104/104 [==============================] - 1s 5ms/step - loss: 0.3529 - accuracy: 0.8700 - val_loss: 0.6102 - val_accuracy: 0.8019\n",
            "Epoch 159/500\n",
            "104/104 [==============================] - 1s 6ms/step - loss: 0.3687 - accuracy: 0.8452 - val_loss: 0.6277 - val_accuracy: 0.7536\n"
          ]
        }
      ]
    },
    {
      "cell_type": "code",
      "source": [
        "plt.plot(cnnhistory.history['loss'])\n",
        "plt.plot(cnnhistory.history['val_loss'])\n",
        "plt.title('model loss')\n",
        "plt.ylabel('loss')\n",
        "plt.xlabel('epoch')\n",
        "plt.legend(['train','test'], loc='upper left')\n",
        "plt.show()"
      ],
      "metadata": {
        "colab": {
          "base_uri": "https://localhost:8080/",
          "height": 295
        },
        "id": "oQYnuaCrDH_A",
        "outputId": "883299e0-f828-4bd1-ea44-603341ce2933"
      },
      "execution_count": 15,
      "outputs": [
        {
          "output_type": "display_data",
          "data": {
            "text/plain": [
              "<Figure size 432x288 with 1 Axes>"
            ],
            "image/png": "[encoded data removed]"
          },
          "metadata": {
            "needs_background": "light"
          }
        }
      ]
    },
    {
      "cell_type": "code",
      "source": [
        "plt.plot(cnnhistory.history['accuracy'])\n",
        "plt.plot(cnnhistory.history['val_accuracy'])\n",
        "plt.title('model accuracy')\n",
        "plt.ylabel('accuracy')\n",
        "plt.xlabel('epoch')\n",
        "plt.legend(['train','test'], loc='upper left')\n",
        "plt.show()"
      ],
      "metadata": {
        "colab": {
          "base_uri": "https://localhost:8080/",
          "height": 295
        },
        "id": "IFkTuO8nDNdq",
        "outputId": "96f33c52-f47b-4cf1-d5ac-0a1045ac9005"
      },
      "execution_count": 16,
      "outputs": [
        {
          "output_type": "display_data",
          "data": {
            "text/plain": [
              "<Figure size 432x288 with 1 Axes>"
            ],
            "image/png": "[encoded data removed]"
          },
          "metadata": {
            "needs_background": "light"
          }
        }
      ]
    },
    {
      "cell_type": "code",
      "source": [
        "predictions = model.predict(x_testcnn)"
      ],
      "metadata": {
        "id": "A2xtrN5wDQgY"
      },
      "execution_count": 17,
      "outputs": []
    },
    {
      "cell_type": "code",
      "source": [
        "predictions"
      ],
      "metadata": {
        "colab": {
          "base_uri": "https://localhost:8080/"
        },
        "id": "_f_ohjXKDUpY",
        "outputId": "9ad6dcb7-5e74-499e-c1e8-d447b8126ba6"
      },
      "execution_count": 18,
      "outputs": [
        {
          "output_type": "execute_result",
          "data": {
            "text/plain": [
              "array([[6.95536286e-02, 3.91525365e-02, 3.08975309e-01, 4.07478929e-01,\n",
              "        8.99500772e-02, 8.48895609e-02],\n",
              "       [2.92917684e-04, 2.98491614e-06, 1.50835859e-08, 9.80693936e-01,\n",
              "        1.31459296e-06, 1.90088451e-02],\n",
              "       [2.07134426e-01, 1.15054965e-01, 1.01674415e-01, 3.22446853e-01,\n",
              "        1.41017400e-02, 2.39587635e-01],\n",
              "       ...,\n",
              "       [3.09866209e-06, 1.62892491e-08, 2.04458571e-04, 5.63338363e-05,\n",
              "        9.80723441e-01, 1.90127026e-02],\n",
              "       [1.27888881e-02, 4.37059224e-01, 4.67145532e-01, 1.91225074e-02,\n",
              "        6.52363757e-03, 5.73601946e-02],\n",
              "       [4.11360743e-05, 5.60655735e-06, 1.92571301e-02, 1.41751923e-04,\n",
              "        9.73197460e-01, 7.35692540e-03]], dtype=float32)"
            ]
          },
          "metadata": {},
          "execution_count": 18
        }
      ]
    },
    {
      "cell_type": "code",
      "source": [
        "y_test"
      ],
      "metadata": {
        "colab": {
          "base_uri": "https://localhost:8080/"
        },
        "id": "cmA2bFgsDW3D",
        "outputId": "bb2e9a56-86c7-4955-c932-eec2cf8bc718"
      },
      "execution_count": 19,
      "outputs": [
        {
          "output_type": "execute_result",
          "data": {
            "text/plain": [
              "array([3, 3, 3, 0, 4, 4, 1, 2, 5, 0, 5, 3, 2, 2, 1, 4, 4, 5, 2, 4, 1, 2,\n",
              "       3, 5, 4, 2, 1, 2, 2, 2, 2, 5, 2, 5, 3, 1, 2, 0, 4, 5, 2, 3, 2, 2,\n",
              "       5, 2, 0, 1, 3, 4, 4, 5, 1, 1, 4, 4, 5, 1, 1, 1, 0, 1, 5, 0, 4, 1,\n",
              "       1, 0, 1, 4, 1, 0, 4, 1, 3, 1, 2, 2, 1, 2, 3, 0, 5, 3, 5, 5, 2, 4,\n",
              "       5, 1, 5, 1, 5, 3, 4, 1, 4, 1, 5, 4, 5, 1, 2, 1, 1, 5, 1, 3, 2, 5,\n",
              "       2, 1, 3, 5, 4, 4, 0, 0, 3, 1, 2, 2, 3, 5, 1, 5, 3, 4, 2, 2, 0, 2,\n",
              "       2, 5, 5, 0, 3, 3, 2, 2, 0, 3, 4, 0, 4, 2, 4, 5, 4, 1, 5, 3, 2, 2,\n",
              "       5, 4, 3, 3, 4, 3, 3, 4, 1, 5, 2, 3, 2, 2, 0, 2, 1, 3, 1, 2, 2, 5,\n",
              "       5, 1, 4, 2, 2, 1, 1, 3, 3, 5, 5, 2, 5, 1, 5, 0, 3, 3, 0, 5, 1, 4,\n",
              "       1, 4, 2, 5, 5, 1, 4, 2, 4])"
            ]
          },
          "metadata": {},
          "execution_count": 19
        }
      ]
    },
    {
      "cell_type": "code",
      "source": [
        "new_Ytest = y_test.astype(int)"
      ],
      "metadata": {
        "id": "0PHDKWJWDY3g"
      },
      "execution_count": 20,
      "outputs": []
    },
    {
      "cell_type": "code",
      "source": [
        "new_Ytest"
      ],
      "metadata": {
        "colab": {
          "base_uri": "https://localhost:8080/"
        },
        "id": "k68v2i-pDbZE",
        "outputId": "af527b15-9e8e-4e0c-9e3f-624670208813"
      },
      "execution_count": 21,
      "outputs": [
        {
          "output_type": "execute_result",
          "data": {
            "text/plain": [
              "array([3, 3, 3, 0, 4, 4, 1, 2, 5, 0, 5, 3, 2, 2, 1, 4, 4, 5, 2, 4, 1, 2,\n",
              "       3, 5, 4, 2, 1, 2, 2, 2, 2, 5, 2, 5, 3, 1, 2, 0, 4, 5, 2, 3, 2, 2,\n",
              "       5, 2, 0, 1, 3, 4, 4, 5, 1, 1, 4, 4, 5, 1, 1, 1, 0, 1, 5, 0, 4, 1,\n",
              "       1, 0, 1, 4, 1, 0, 4, 1, 3, 1, 2, 2, 1, 2, 3, 0, 5, 3, 5, 5, 2, 4,\n",
              "       5, 1, 5, 1, 5, 3, 4, 1, 4, 1, 5, 4, 5, 1, 2, 1, 1, 5, 1, 3, 2, 5,\n",
              "       2, 1, 3, 5, 4, 4, 0, 0, 3, 1, 2, 2, 3, 5, 1, 5, 3, 4, 2, 2, 0, 2,\n",
              "       2, 5, 5, 0, 3, 3, 2, 2, 0, 3, 4, 0, 4, 2, 4, 5, 4, 1, 5, 3, 2, 2,\n",
              "       5, 4, 3, 3, 4, 3, 3, 4, 1, 5, 2, 3, 2, 2, 0, 2, 1, 3, 1, 2, 2, 5,\n",
              "       5, 1, 4, 2, 2, 1, 1, 3, 3, 5, 5, 2, 5, 1, 5, 0, 3, 3, 0, 5, 1, 4,\n",
              "       1, 4, 2, 5, 5, 1, 4, 2, 4])"
            ]
          },
          "metadata": {},
          "execution_count": 21
        }
      ]
    },
    {
      "cell_type": "code",
      "source": [
        "preds1=predictions.argmax(axis=1)\n",
        "preds1"
      ],
      "metadata": {
        "colab": {
          "base_uri": "https://localhost:8080/"
        },
        "id": "4_cAI39VFhtp",
        "outputId": "46d9d475-f771-4d59-afd4-678e0bf2b6fa"
      },
      "execution_count": 22,
      "outputs": [
        {
          "output_type": "execute_result",
          "data": {
            "text/plain": [
              "array([3, 3, 3, 2, 4, 4, 1, 2, 5, 1, 5, 3, 2, 2, 1, 4, 4, 5, 3, 4, 2, 2,\n",
              "       3, 3, 4, 2, 1, 2, 2, 2, 2, 5, 2, 5, 3, 1, 2, 0, 4, 2, 2, 5, 2, 2,\n",
              "       5, 4, 1, 1, 3, 4, 4, 2, 1, 1, 4, 4, 5, 1, 0, 1, 3, 1, 2, 1, 4, 1,\n",
              "       1, 1, 1, 4, 1, 0, 4, 1, 5, 5, 2, 2, 1, 2, 1, 0, 5, 3, 5, 5, 2, 5,\n",
              "       3, 1, 5, 1, 5, 3, 2, 2, 4, 0, 5, 4, 5, 1, 5, 1, 1, 5, 1, 5, 2, 5,\n",
              "       5, 2, 3, 5, 4, 4, 2, 0, 3, 1, 1, 2, 1, 3, 1, 5, 3, 5, 2, 5, 0, 2,\n",
              "       2, 3, 3, 0, 3, 3, 2, 2, 0, 3, 4, 0, 4, 4, 4, 2, 4, 1, 5, 3, 2, 2,\n",
              "       5, 4, 3, 3, 4, 5, 5, 4, 1, 5, 2, 3, 2, 2, 0, 2, 1, 3, 1, 2, 4, 5,\n",
              "       5, 1, 4, 2, 4, 1, 1, 3, 3, 5, 5, 2, 5, 1, 2, 1, 3, 3, 2, 5, 1, 4,\n",
              "       1, 5, 5, 2, 5, 2, 4, 2, 4])"
            ]
          },
          "metadata": {},
          "execution_count": 22
        }
      ]
    },
    {
      "cell_type": "code",
      "source": [
        "abc = preds1.astype(int).flatten()"
      ],
      "metadata": {
        "id": "H4WEmM60NfQn"
      },
      "execution_count": 23,
      "outputs": []
    },
    {
      "cell_type": "code",
      "source": [
        "from sklearn.metrics import confusion_matrix\n",
        "c = confusion_matrix(new_Ytest, abc) \n",
        "c"
      ],
      "metadata": {
        "colab": {
          "base_uri": "https://localhost:8080/"
        },
        "id": "bKEBeEBlFjB8",
        "outputId": "bc479343-fdb6-4c78-bf44-8436b220a4aa"
      },
      "execution_count": 24,
      "outputs": [
        {
          "output_type": "execute_result",
          "data": {
            "text/plain": [
              "array([[ 9,  5,  3,  1,  0,  0],\n",
              "       [ 2, 34,  4,  0,  0,  1],\n",
              "       [ 0,  1, 35,  1,  4,  4],\n",
              "       [ 0,  2,  0, 24,  0,  5],\n",
              "       [ 0,  0,  1,  0, 29,  3],\n",
              "       [ 0,  0,  6,  5,  0, 28]])"
            ]
          },
          "metadata": {},
          "execution_count": 24
        }
      ]
    },
    {
      "cell_type": "code",
      "source": [
        "y_test"
      ],
      "metadata": {
        "colab": {
          "base_uri": "https://localhost:8080/"
        },
        "id": "m4RjG7LWLSQx",
        "outputId": "bf27e429-e885-49b8-f3a1-eadc2ea66601"
      },
      "execution_count": 25,
      "outputs": [
        {
          "output_type": "execute_result",
          "data": {
            "text/plain": [
              "array([3, 3, 3, 0, 4, 4, 1, 2, 5, 0, 5, 3, 2, 2, 1, 4, 4, 5, 2, 4, 1, 2,\n",
              "       3, 5, 4, 2, 1, 2, 2, 2, 2, 5, 2, 5, 3, 1, 2, 0, 4, 5, 2, 3, 2, 2,\n",
              "       5, 2, 0, 1, 3, 4, 4, 5, 1, 1, 4, 4, 5, 1, 1, 1, 0, 1, 5, 0, 4, 1,\n",
              "       1, 0, 1, 4, 1, 0, 4, 1, 3, 1, 2, 2, 1, 2, 3, 0, 5, 3, 5, 5, 2, 4,\n",
              "       5, 1, 5, 1, 5, 3, 4, 1, 4, 1, 5, 4, 5, 1, 2, 1, 1, 5, 1, 3, 2, 5,\n",
              "       2, 1, 3, 5, 4, 4, 0, 0, 3, 1, 2, 2, 3, 5, 1, 5, 3, 4, 2, 2, 0, 2,\n",
              "       2, 5, 5, 0, 3, 3, 2, 2, 0, 3, 4, 0, 4, 2, 4, 5, 4, 1, 5, 3, 2, 2,\n",
              "       5, 4, 3, 3, 4, 3, 3, 4, 1, 5, 2, 3, 2, 2, 0, 2, 1, 3, 1, 2, 2, 5,\n",
              "       5, 1, 4, 2, 2, 1, 1, 3, 3, 5, 5, 2, 5, 1, 5, 0, 3, 3, 0, 5, 1, 4,\n",
              "       1, 4, 2, 5, 5, 1, 4, 2, 4])"
            ]
          },
          "metadata": {},
          "execution_count": 25
        }
      ]
    },
    {
      "cell_type": "code",
      "source": [
        "loss, acc =model.evaluate(x_testcnn, y_test)\n",
        "print(\"Restored model, accuracy: {:5.2f}%\".format(100*acc))"
      ],
      "metadata": {
        "colab": {
          "base_uri": "https://localhost:8080/"
        },
        "id": "n3kzoqPkDqqS",
        "outputId": "53cd628d-923d-4b1d-dd0a-8659fb9f9972"
      },
      "execution_count": 26,
      "outputs": [
        {
          "output_type": "stream",
          "name": "stdout",
          "text": [
            "7/7 [==============================] - 0s 4ms/step - loss: 0.6101 - accuracy: 0.7681\n",
            "Restored model, accuracy: 76.81%\n"
          ]
        }
      ]
    },
    {
      "cell_type": "code",
      "source": [
        "loss, acc =model.evaluate(X_train, y_train)\n",
        "print(\"Restored model train, accuracy: {:5.2f}%\".format(100*acc))"
      ],
      "metadata": {
        "id": "fJDTGH_OUX0z",
        "colab": {
          "base_uri": "https://localhost:8080/"
        },
        "outputId": "a64781cc-01a7-4705-9404-28086a2404f1"
      },
      "execution_count": 27,
      "outputs": [
        {
          "output_type": "stream",
          "name": "stdout",
          "text": [
            "52/52 [==============================] - 0s 6ms/step - loss: 0.2928 - accuracy: 0.9287\n",
            "Restored model train, accuracy: 92.87%\n"
          ]
        }
      ]
    },
    {
      "cell_type": "code",
      "source": [
        "from sklearn.metrics import classification_report, confusion_matrix,accuracy_score\n",
        "import seaborn as sn\n",
        "\n",
        "print(classification_report(new_Ytest,abc))\n",
        "\n",
        "acc = float(accuracy_score(new_Ytest,abc))*100\n",
        "print(\"----accuracy score %s ----\" % acc)\n",
        "\n",
        "cm = confusion_matrix(new_Ytest,abc)\n",
        "#df_cm = pd.DataFrame(cm)\n",
        "class_names = ['neutral','calm', 'happy','sad','angry', 'fearful' ]\n",
        "df_cm = pd.DataFrame(cm, index=class_names, columns=class_names,)\n",
        "sn.heatmap(df_cm, annot=True, fmt='')\n",
        "plt.show()"
      ],
      "metadata": {
        "colab": {
          "base_uri": "https://localhost:8080/",
          "height": 512
        },
        "id": "SfSC3El94LZg",
        "outputId": "4f0f7161-54b5-4c0d-84d7-d018cb237b7d"
      },
      "execution_count": 28,
      "outputs": [
        {
          "output_type": "stream",
          "name": "stdout",
          "text": [
            "              precision    recall  f1-score   support\n",
            "\n",
            "           0       0.82      0.50      0.62        18\n",
            "           1       0.81      0.83      0.82        41\n",
            "           2       0.71      0.78      0.74        45\n",
            "           3       0.77      0.77      0.77        31\n",
            "           4       0.88      0.88      0.88        33\n",
            "           5       0.68      0.72      0.70        39\n",
            "\n",
            "    accuracy                           0.77       207\n",
            "   macro avg       0.78      0.75      0.76       207\n",
            "weighted avg       0.77      0.77      0.77       207\n",
            "\n",
            "----accuracy score 76.81159420289855 ----\n"
          ]
        },
        {
          "output_type": "display_data",
          "data": {
            "text/plain": [
              "<Figure size 432x288 with 2 Axes>"
            ],
            "image/png": "[encoded data removed]"
          },
          "metadata": {
            "needs_background": "light"
          }
        }
      ]
    }
  ]
}