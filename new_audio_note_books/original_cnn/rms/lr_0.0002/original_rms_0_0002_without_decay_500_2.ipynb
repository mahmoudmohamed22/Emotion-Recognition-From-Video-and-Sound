{
  "nbformat": 4,
  "nbformat_minor": 0,
  "metadata": {
    "colab": {
      "name": "original_rms_0.0002_without decay_500_2.ipynb",
      "provenance": [],
      "collapsed_sections": []
    },
    "kernelspec": {
      "name": "python3",
      "display_name": "Python 3"
    },
    "language_info": {
      "name": "python"
    },
    "accelerator": "GPU"
  },
  "cells": [
    {
      "cell_type": "code",
      "execution_count": 1,
      "metadata": {
        "colab": {
          "base_uri": "https://localhost:8080/"
        },
        "id": "9SRCO-a_AlH5",
        "outputId": "34b7e32c-0862-4ab1-f613-509f56012d56"
      },
      "outputs": [
        {
          "output_type": "stream",
          "name": "stdout",
          "text": [
            "Drive already mounted at /content/drive; to attempt to forcibly remount, call drive.mount(\"/content/drive\", force_remount=True).\n"
          ]
        }
      ],
      "source": [
        "from google.colab import drive\n",
        "drive.mount('/content/drive')"
      ]
    },
    {
      "cell_type": "code",
      "source": [
        "!pip install librosa"
      ],
      "metadata": {
        "colab": {
          "base_uri": "https://localhost:8080/"
        },
        "id": "5Lo4mUwG9RMd",
        "outputId": "3e228d74-0a32-47b7-fe52-34280e9df3f5"
      },
      "execution_count": 2,
      "outputs": [
        {
          "output_type": "stream",
          "name": "stdout",
          "text": [
            "Looking in indexes: https://pypi.org/simple, https://us-python.pkg.dev/colab-wheels/public/simple/\n",
            "Requirement already satisfied: librosa in /usr/local/lib/python3.7/dist-packages (0.8.1)\n",
            "Requirement already satisfied: packaging>=20.0 in /usr/local/lib/python3.7/dist-packages (from librosa) (21.3)\n",
            "Requirement already satisfied: pooch>=1.0 in /usr/local/lib/python3.7/dist-packages (from librosa) (1.6.0)\n",
            "Requirement already satisfied: audioread>=2.0.0 in /usr/local/lib/python3.7/dist-packages (from librosa) (2.1.9)\n",
            "Requirement already satisfied: numpy>=1.15.0 in /usr/local/lib/python3.7/dist-packages (from librosa) (1.21.6)\n",
            "Requirement already satisfied: numba>=0.43.0 in /usr/local/lib/python3.7/dist-packages (from librosa) (0.51.2)\n",
            "Requirement already satisfied: resampy>=0.2.2 in /usr/local/lib/python3.7/dist-packages (from librosa) (0.2.2)\n",
            "Requirement already satisfied: soundfile>=0.10.2 in /usr/local/lib/python3.7/dist-packages (from librosa) (0.10.3.post1)\n",
            "Requirement already satisfied: scikit-learn!=0.19.0,>=0.14.0 in /usr/local/lib/python3.7/dist-packages (from librosa) (1.0.2)\n",
            "Requirement already satisfied: joblib>=0.14 in /usr/local/lib/python3.7/dist-packages (from librosa) (1.1.0)\n",
            "Requirement already satisfied: decorator>=3.0.0 in /usr/local/lib/python3.7/dist-packages (from librosa) (4.4.2)\n",
            "Requirement already satisfied: scipy>=1.0.0 in /usr/local/lib/python3.7/dist-packages (from librosa) (1.4.1)\n",
            "Requirement already satisfied: setuptools in /usr/local/lib/python3.7/dist-packages (from numba>=0.43.0->librosa) (57.4.0)\n",
            "Requirement already satisfied: llvmlite<0.35,>=0.34.0.dev0 in /usr/local/lib/python3.7/dist-packages (from numba>=0.43.0->librosa) (0.34.0)\n",
            "Requirement already satisfied: pyparsing!=3.0.5,>=2.0.2 in /usr/local/lib/python3.7/dist-packages (from packaging>=20.0->librosa) (3.0.9)\n",
            "Requirement already satisfied: appdirs>=1.3.0 in /usr/local/lib/python3.7/dist-packages (from pooch>=1.0->librosa) (1.4.4)\n",
            "Requirement already satisfied: requests>=2.19.0 in /usr/local/lib/python3.7/dist-packages (from pooch>=1.0->librosa) (2.23.0)\n",
            "Requirement already satisfied: urllib3!=1.25.0,!=1.25.1,<1.26,>=1.21.1 in /usr/local/lib/python3.7/dist-packages (from requests>=2.19.0->pooch>=1.0->librosa) (1.24.3)\n",
            "Requirement already satisfied: chardet<4,>=3.0.2 in /usr/local/lib/python3.7/dist-packages (from requests>=2.19.0->pooch>=1.0->librosa) (3.0.4)\n",
            "Requirement already satisfied: idna<3,>=2.5 in /usr/local/lib/python3.7/dist-packages (from requests>=2.19.0->pooch>=1.0->librosa) (2.10)\n",
            "Requirement already satisfied: certifi>=2017.4.17 in /usr/local/lib/python3.7/dist-packages (from requests>=2.19.0->pooch>=1.0->librosa) (2022.5.18.1)\n",
            "Requirement already satisfied: six>=1.3 in /usr/local/lib/python3.7/dist-packages (from resampy>=0.2.2->librosa) (1.15.0)\n",
            "Requirement already satisfied: threadpoolctl>=2.0.0 in /usr/local/lib/python3.7/dist-packages (from scikit-learn!=0.19.0,>=0.14.0->librosa) (3.1.0)\n",
            "Requirement already satisfied: cffi>=1.0 in /usr/local/lib/python3.7/dist-packages (from soundfile>=0.10.2->librosa) (1.15.0)\n",
            "Requirement already satisfied: pycparser in /usr/local/lib/python3.7/dist-packages (from cffi>=1.0->soundfile>=0.10.2->librosa) (2.21)\n"
          ]
        }
      ]
    },
    {
      "cell_type": "code",
      "metadata": {
        "id": "HJjcbxwy46bG",
        "colab": {
          "base_uri": "https://localhost:8080/",
          "height": 17
        },
        "outputId": "2e826227-3197-4744-bcb6-dbc5f04cc79f"
      },
      "source": [
        "# Orignial Notebook: https://github.com/MITESHPUTHRANNEU/Speech-Emotion-Analyzer/blob/master/final_results_gender_test.ipynb\n",
        "# This notebook author: Reza Chu\n",
        "# Last Editing Date: 31st May 2019\n",
        "\n",
        "## Python\n",
        "import os\n",
        "import random\n",
        "import sys\n",
        "\n",
        "import IPython\n",
        "from IPython.display import Audio\n",
        "from IPython.display import Image\n",
        "import matplotlib.pyplot as plt\n",
        "\n",
        "## Package\n",
        "import glob \n",
        "import keras\n",
        "import IPython.display as ipd\n",
        "import librosa\n",
        "import librosa.display\n",
        "import matplotlib.pyplot as plt\n",
        "import numpy as np\n",
        "import pandas as pd\n",
        "import plotly.graph_objs as go\n",
        "import plotly.offline as py\n",
        "import plotly.tools as tls\n",
        "import seaborn as sns\n",
        "import scipy.io.wavfile\n",
        "import tensorflow as tf\n",
        "py.init_notebook_mode(connected=True)\n",
        "\n",
        "## Keras\n",
        "from keras import regularizers\n",
        "from keras.callbacks import ModelCheckpoint, LearningRateScheduler, EarlyStopping\n",
        "from keras.callbacks import  History, ReduceLROnPlateau, CSVLogger\n",
        "from keras.models import Model, Sequential\n",
        "from keras.layers import Dense, Embedding, LSTM\n",
        "from keras.layers import Input, Flatten, Dropout, Activation, BatchNormalization\n",
        "from keras.layers import Conv1D, MaxPooling1D, AveragePooling1D\n",
        "from keras.preprocessing import sequence\n",
        "from keras.preprocessing.sequence import pad_sequences\n",
        "from keras.preprocessing.text import Tokenizer\n",
        "from keras.utils import np_utils\n",
        "from tensorflow.keras.utils import to_categorical\n",
        "\n",
        "## Sklearn\n",
        "from sklearn.metrics import confusion_matrix\n",
        "from sklearn.preprocessing import LabelEncoder\n",
        "\n",
        "## Rest\n",
        "from scipy.fftpack import fft\n",
        "from scipy import signal\n",
        "from scipy.io import wavfile\n",
        "from tqdm import tqdm\n",
        "\n",
        "input_duration=3\n",
        "# % pylab inline"
      ],
      "execution_count": 3,
      "outputs": [
        {
          "output_type": "display_data",
          "data": {
            "text/html": [
              "        <script type=\"text/javascript\">\n",
              "        window.PlotlyConfig = {MathJaxConfig: 'local'};\n",
              "        if (window.MathJax) {MathJax.Hub.Config({SVG: {font: \"STIX-Web\"}});}\n",
              "        if (typeof require !== 'undefined') {\n",
              "        require.undef(\"plotly\");\n",
              "        requirejs.config({\n",
              "            paths: {\n",
              "                'plotly': ['https://cdn.plot.ly/plotly-2.8.3.min']\n",
              "            }\n",
              "        });\n",
              "        require(['plotly'], function(Plotly) {\n",
              "            window._Plotly = Plotly;\n",
              "        });\n",
              "        }\n",
              "        </script>\n",
              "        "
            ]
          },
          "metadata": {}
        }
      ]
    },
    {
      "cell_type": "code",
      "source": [
        "# # Saving joblib files to not load them again with the loop above\n",
        "\n",
        "# import joblib\n",
        "\n",
        "# X_name = 'x.joblib'\n",
        "# y_name = 'y.joblib'\n",
        "# save_dir = '/content/drive/My Drive/graduation project/audio/paper_code/features'\n",
        "\n",
        "# savedX = joblib.dump(X, os.path.join(save_dir, X_name))\n",
        "# savedy = joblib.dump(y, os.path.join(save_dir, y_name))"
      ],
      "metadata": {
        "id": "UCzic8rlDcuk"
      },
      "execution_count": 4,
      "outputs": []
    },
    {
      "cell_type": "code",
      "source": [
        "# # Loading saved models\n",
        "import joblib\n",
        "X = joblib.load('/content/drive/My Drive/graduation project/audio/paper_code/features/x.joblib')\n",
        "y = joblib.load('/content/drive/My Drive/graduation project/audio/paper_code/features/y.joblib')"
      ],
      "metadata": {
        "id": "Q35CN6zDrzg1"
      },
      "execution_count": 5,
      "outputs": []
    },
    {
      "cell_type": "code",
      "source": [
        "X.shape"
      ],
      "metadata": {
        "colab": {
          "base_uri": "https://localhost:8080/"
        },
        "id": "7PSTurzjCo5K",
        "outputId": "d91b0ae2-0262-450f-ff98-21adfd6ce4c5"
      },
      "execution_count": 6,
      "outputs": [
        {
          "output_type": "execute_result",
          "data": {
            "text/plain": [
              "(2068, 40)"
            ]
          },
          "metadata": {},
          "execution_count": 6
        }
      ]
    },
    {
      "cell_type": "code",
      "source": [
        "from sklearn.model_selection import train_test_split\n",
        "\n",
        "X_train, X_test, y_train, y_test = train_test_split(X,y, test_size=0.1 ,shuffle = True\n",
        "                                                    , random_state=42)\n",
        "X_train , X_valid, y_train, y_valid = train_test_split(X_train,y_train, test_size=0.1112305212 , shuffle = True \n",
        "                                                       , random_state=42)"
      ],
      "metadata": {
        "id": "Ai4Fy5cPCiq1"
      },
      "execution_count": 7,
      "outputs": []
    },
    {
      "cell_type": "code",
      "source": [
        "import numpy as np\n",
        "x_traincnn = np.expand_dims(X_train, axis=2)\n",
        "x_testcnn = np.expand_dims(X_test, axis=2)\n",
        "X_valid= np.expand_dims(X_valid, axis=2)"
      ],
      "metadata": {
        "id": "tp1Fm5K3CEXu"
      },
      "execution_count": 8,
      "outputs": []
    },
    {
      "cell_type": "code",
      "source": [
        "x_traincnn.shape, x_testcnn.shape , X_valid.shape\n",
        "#1861"
      ],
      "metadata": {
        "id": "RI0MxoIPBws5",
        "colab": {
          "base_uri": "https://localhost:8080/"
        },
        "outputId": "32f9ccfd-ff6f-4525-b6f7-c296277b4366"
      },
      "execution_count": 9,
      "outputs": [
        {
          "output_type": "execute_result",
          "data": {
            "text/plain": [
              "((1654, 40, 1), (207, 40, 1), (207, 40, 1))"
            ]
          },
          "metadata": {},
          "execution_count": 9
        }
      ]
    },
    {
      "cell_type": "code",
      "source": [
        "!pip install tensorflow"
      ],
      "metadata": {
        "colab": {
          "base_uri": "https://localhost:8080/"
        },
        "id": "oALhiMUd9G2Y",
        "outputId": "de170186-2d8a-4f9c-aa73-645fed8175b8"
      },
      "execution_count": 10,
      "outputs": [
        {
          "output_type": "stream",
          "name": "stdout",
          "text": [
            "Looking in indexes: https://pypi.org/simple, https://us-python.pkg.dev/colab-wheels/public/simple/\n",
            "Requirement already satisfied: tensorflow in /usr/local/lib/python3.7/dist-packages (2.8.2+zzzcolab20220527125636)\n",
            "Requirement already satisfied: absl-py>=0.4.0 in /usr/local/lib/python3.7/dist-packages (from tensorflow) (1.0.0)\n",
            "Requirement already satisfied: gast>=0.2.1 in /usr/local/lib/python3.7/dist-packages (from tensorflow) (0.5.3)\n",
            "Requirement already satisfied: astunparse>=1.6.0 in /usr/local/lib/python3.7/dist-packages (from tensorflow) (1.6.3)\n",
            "Requirement already satisfied: opt-einsum>=2.3.2 in /usr/local/lib/python3.7/dist-packages (from tensorflow) (3.3.0)\n",
            "Requirement already satisfied: numpy>=1.20 in /usr/local/lib/python3.7/dist-packages (from tensorflow) (1.21.6)\n",
            "Requirement already satisfied: keras<2.9,>=2.8.0rc0 in /usr/local/lib/python3.7/dist-packages (from tensorflow) (2.8.0)\n",
            "Requirement already satisfied: protobuf<3.20,>=3.9.2 in /usr/local/lib/python3.7/dist-packages (from tensorflow) (3.17.3)\n",
            "Requirement already satisfied: flatbuffers>=1.12 in /usr/local/lib/python3.7/dist-packages (from tensorflow) (2.0)\n",
            "Requirement already satisfied: tensorboard<2.9,>=2.8 in /usr/local/lib/python3.7/dist-packages (from tensorflow) (2.8.0)\n",
            "Requirement already satisfied: libclang>=9.0.1 in /usr/local/lib/python3.7/dist-packages (from tensorflow) (14.0.1)\n",
            "Requirement already satisfied: termcolor>=1.1.0 in /usr/local/lib/python3.7/dist-packages (from tensorflow) (1.1.0)\n",
            "Requirement already satisfied: setuptools in /usr/local/lib/python3.7/dist-packages (from tensorflow) (57.4.0)\n",
            "Requirement already satisfied: keras-preprocessing>=1.1.1 in /usr/local/lib/python3.7/dist-packages (from tensorflow) (1.1.2)\n",
            "Requirement already satisfied: h5py>=2.9.0 in /usr/local/lib/python3.7/dist-packages (from tensorflow) (3.1.0)\n",
            "Requirement already satisfied: grpcio<2.0,>=1.24.3 in /usr/local/lib/python3.7/dist-packages (from tensorflow) (1.46.3)\n",
            "Requirement already satisfied: google-pasta>=0.1.1 in /usr/local/lib/python3.7/dist-packages (from tensorflow) (0.2.0)\n",
            "Requirement already satisfied: typing-extensions>=3.6.6 in /usr/local/lib/python3.7/dist-packages (from tensorflow) (4.2.0)\n",
            "Requirement already satisfied: tensorflow-estimator<2.9,>=2.8 in /usr/local/lib/python3.7/dist-packages (from tensorflow) (2.8.0)\n",
            "Requirement already satisfied: tensorflow-io-gcs-filesystem>=0.23.1 in /usr/local/lib/python3.7/dist-packages (from tensorflow) (0.26.0)\n",
            "Requirement already satisfied: six>=1.12.0 in /usr/local/lib/python3.7/dist-packages (from tensorflow) (1.15.0)\n",
            "Requirement already satisfied: wrapt>=1.11.0 in /usr/local/lib/python3.7/dist-packages (from tensorflow) (1.14.1)\n",
            "Requirement already satisfied: wheel<1.0,>=0.23.0 in /usr/local/lib/python3.7/dist-packages (from astunparse>=1.6.0->tensorflow) (0.37.1)\n",
            "Requirement already satisfied: cached-property in /usr/local/lib/python3.7/dist-packages (from h5py>=2.9.0->tensorflow) (1.5.2)\n",
            "Requirement already satisfied: tensorboard-plugin-wit>=1.6.0 in /usr/local/lib/python3.7/dist-packages (from tensorboard<2.9,>=2.8->tensorflow) (1.8.1)\n",
            "Requirement already satisfied: google-auth<3,>=1.6.3 in /usr/local/lib/python3.7/dist-packages (from tensorboard<2.9,>=2.8->tensorflow) (1.35.0)\n",
            "Requirement already satisfied: tensorboard-data-server<0.7.0,>=0.6.0 in /usr/local/lib/python3.7/dist-packages (from tensorboard<2.9,>=2.8->tensorflow) (0.6.1)\n",
            "Requirement already satisfied: werkzeug>=0.11.15 in /usr/local/lib/python3.7/dist-packages (from tensorboard<2.9,>=2.8->tensorflow) (1.0.1)\n",
            "Requirement already satisfied: google-auth-oauthlib<0.5,>=0.4.1 in /usr/local/lib/python3.7/dist-packages (from tensorboard<2.9,>=2.8->tensorflow) (0.4.6)\n",
            "Requirement already satisfied: requests<3,>=2.21.0 in /usr/local/lib/python3.7/dist-packages (from tensorboard<2.9,>=2.8->tensorflow) (2.23.0)\n",
            "Requirement already satisfied: markdown>=2.6.8 in /usr/local/lib/python3.7/dist-packages (from tensorboard<2.9,>=2.8->tensorflow) (3.3.7)\n",
            "Requirement already satisfied: rsa<5,>=3.1.4 in /usr/local/lib/python3.7/dist-packages (from google-auth<3,>=1.6.3->tensorboard<2.9,>=2.8->tensorflow) (4.8)\n",
            "Requirement already satisfied: pyasn1-modules>=0.2.1 in /usr/local/lib/python3.7/dist-packages (from google-auth<3,>=1.6.3->tensorboard<2.9,>=2.8->tensorflow) (0.2.8)\n",
            "Requirement already satisfied: cachetools<5.0,>=2.0.0 in /usr/local/lib/python3.7/dist-packages (from google-auth<3,>=1.6.3->tensorboard<2.9,>=2.8->tensorflow) (4.2.4)\n",
            "Requirement already satisfied: requests-oauthlib>=0.7.0 in /usr/local/lib/python3.7/dist-packages (from google-auth-oauthlib<0.5,>=0.4.1->tensorboard<2.9,>=2.8->tensorflow) (1.3.1)\n",
            "Requirement already satisfied: importlib-metadata>=4.4 in /usr/local/lib/python3.7/dist-packages (from markdown>=2.6.8->tensorboard<2.9,>=2.8->tensorflow) (4.11.4)\n",
            "Requirement already satisfied: zipp>=0.5 in /usr/local/lib/python3.7/dist-packages (from importlib-metadata>=4.4->markdown>=2.6.8->tensorboard<2.9,>=2.8->tensorflow) (3.8.0)\n",
            "Requirement already satisfied: pyasn1<0.5.0,>=0.4.6 in /usr/local/lib/python3.7/dist-packages (from pyasn1-modules>=0.2.1->google-auth<3,>=1.6.3->tensorboard<2.9,>=2.8->tensorflow) (0.4.8)\n",
            "Requirement already satisfied: chardet<4,>=3.0.2 in /usr/local/lib/python3.7/dist-packages (from requests<3,>=2.21.0->tensorboard<2.9,>=2.8->tensorflow) (3.0.4)\n",
            "Requirement already satisfied: urllib3!=1.25.0,!=1.25.1,<1.26,>=1.21.1 in /usr/local/lib/python3.7/dist-packages (from requests<3,>=2.21.0->tensorboard<2.9,>=2.8->tensorflow) (1.24.3)\n",
            "Requirement already satisfied: idna<3,>=2.5 in /usr/local/lib/python3.7/dist-packages (from requests<3,>=2.21.0->tensorboard<2.9,>=2.8->tensorflow) (2.10)\n",
            "Requirement already satisfied: certifi>=2017.4.17 in /usr/local/lib/python3.7/dist-packages (from requests<3,>=2.21.0->tensorboard<2.9,>=2.8->tensorflow) (2022.5.18.1)\n",
            "Requirement already satisfied: oauthlib>=3.0.0 in /usr/local/lib/python3.7/dist-packages (from requests-oauthlib>=0.7.0->google-auth-oauthlib<0.5,>=0.4.1->tensorboard<2.9,>=2.8->tensorflow) (3.2.0)\n"
          ]
        }
      ]
    },
    {
      "cell_type": "code",
      "source": [
        "import keras\n",
        "import numpy as np\n",
        "import matplotlib.pyplot as plt\n",
        "import tensorflow as tf\n",
        "from keras.preprocessing import sequence\n",
        "from keras.models import Sequential\n",
        "from keras.layers import Dense, Embedding\n",
        "from tensorflow.keras.utils import to_categorical\n",
        "from keras.layers import Input, Flatten, Dropout, Activation\n",
        "from keras.layers import Conv1D, MaxPooling1D\n",
        "from keras.models import Model\n",
        "from keras.callbacks import ModelCheckpoint\n",
        "from tensorflow.keras import optimizers\n",
        "\n",
        "model = Sequential()\n",
        "\n",
        "model.add(Conv1D(128, 8,padding='same', #classifier.add(Convolution2D(64, (3, 3), padding = 'same', input_shape = (128, 128, 3), activation = 'relu'))\n",
        "                 input_shape=(40,1)))\n",
        "model.add(Activation('relu'))\n",
        "model.add(Dropout(0.3))\n",
        "model.add(MaxPooling1D(pool_size=(5)))\n",
        "\n",
        "\n",
        "model.add(Conv1D(256,8,padding='same',))\n",
        "model.add(Activation('relu'))\n",
        "model.add(Dropout(0.3))\n",
        "model.add(MaxPooling1D(pool_size=(5)))\n",
        "\n",
        "model.add(Flatten())\n",
        "\n",
        "model.add(Dense(256))\n",
        "model.add(Activation('relu'))\n",
        "model.add(Dense(256))\n",
        "model.add(Activation('relu'))\n",
        "\n",
        "model.add(Dense(6))\n",
        "model.add(Activation('softmax'))\n",
        "\n",
        "opt = tf.keras.optimizers.RMSprop(lr=0.0002 , decay=0.0)\n",
        "#opt = tf.keras.optimizers.RMSprop(lr=0.0001, rho=0.9, epsilon=1e-07, decay=0.0)\n",
        "#opt = tf.keras.optimizers.SGD(lr=0.001, momentum=0.0, decay=0.0, nesterov=False)"
      ],
      "metadata": {
        "id": "g74fXWVAC4Cr",
        "colab": {
          "base_uri": "https://localhost:8080/"
        },
        "outputId": "929feb44-886c-4bde-eb56-986d5b7213f3"
      },
      "execution_count": 11,
      "outputs": [
        {
          "output_type": "stream",
          "name": "stderr",
          "text": [
            "/usr/local/lib/python3.7/dist-packages/keras/optimizer_v2/rmsprop.py:130: UserWarning:\n",
            "\n",
            "The `lr` argument is deprecated, use `learning_rate` instead.\n",
            "\n"
          ]
        }
      ]
    },
    {
      "cell_type": "code",
      "source": [
        "model.summary()"
      ],
      "metadata": {
        "colab": {
          "base_uri": "https://localhost:8080/"
        },
        "id": "H6ukOxAGC_I4",
        "outputId": "148e4702-0345-43c1-d2bd-f31dc24727a2"
      },
      "execution_count": 12,
      "outputs": [
        {
          "output_type": "stream",
          "name": "stdout",
          "text": [
            "Model: \"sequential\"\n",
            "_________________________________________________________________\n",
            " Layer (type)                Output Shape              Param #   \n",
            "=================================================================\n",
            " conv1d (Conv1D)             (None, 40, 128)           1152      \n",
            "                                                                 \n",
            " activation (Activation)     (None, 40, 128)           0         \n",
            "                                                                 \n",
            " dropout (Dropout)           (None, 40, 128)           0         \n",
            "                                                                 \n",
            " max_pooling1d (MaxPooling1D  (None, 8, 128)           0         \n",
            " )                                                               \n",
            "                                                                 \n",
            " conv1d_1 (Conv1D)           (None, 8, 256)            262400    \n",
            "                                                                 \n",
            " activation_1 (Activation)   (None, 8, 256)            0         \n",
            "                                                                 \n",
            " dropout_1 (Dropout)         (None, 8, 256)            0         \n",
            "                                                                 \n",
            " max_pooling1d_1 (MaxPooling  (None, 1, 256)           0         \n",
            " 1D)                                                             \n",
            "                                                                 \n",
            " flatten (Flatten)           (None, 256)               0         \n",
            "                                                                 \n",
            " dense (Dense)               (None, 256)               65792     \n",
            "                                                                 \n",
            " activation_2 (Activation)   (None, 256)               0         \n",
            "                                                                 \n",
            " dense_1 (Dense)             (None, 256)               65792     \n",
            "                                                                 \n",
            " activation_3 (Activation)   (None, 256)               0         \n",
            "                                                                 \n",
            " dense_2 (Dense)             (None, 6)                 1542      \n",
            "                                                                 \n",
            " activation_4 (Activation)   (None, 6)                 0         \n",
            "                                                                 \n",
            "=================================================================\n",
            "Total params: 396,678\n",
            "Trainable params: 396,678\n",
            "Non-trainable params: 0\n",
            "_________________________________________________________________\n"
          ]
        }
      ]
    },
    {
      "cell_type": "code",
      "source": [
        "model.compile(loss='sparse_categorical_crossentropy',\n",
        "              optimizer=opt,\n",
        "              metrics=['accuracy'])"
      ],
      "metadata": {
        "id": "AbMlLNk4DCBM"
      },
      "execution_count": 13,
      "outputs": []
    },
    {
      "cell_type": "code",
      "source": [
        "# Create an Instance of Early Stopping Callback.\n",
        "early_stopping_callback = EarlyStopping(monitor = 'val_loss', patience = 25, mode = 'min', restore_best_weights = True)\n",
        "\n",
        "cnnhistory=model.fit(x_traincnn, y_train, batch_size=16, epochs=500 , shuffle = True, \n",
        "                     validation_data=(X_valid, y_valid) , callbacks = [early_stopping_callback])"
      ],
      "metadata": {
        "colab": {
          "base_uri": "https://localhost:8080/"
        },
        "id": "RI1v2AuADFhy",
        "outputId": "6d22927e-18f8-46c9-f062-23f0c1de0002"
      },
      "execution_count": 14,
      "outputs": [
        {
          "output_type": "stream",
          "name": "stdout",
          "text": [
            "Epoch 1/500\n",
            "104/104 [==============================] - 4s 8ms/step - loss: 4.2868 - accuracy: 0.1771 - val_loss: 2.2883 - val_accuracy: 0.1643\n",
            "Epoch 2/500\n",
            "104/104 [==============================] - 1s 5ms/step - loss: 2.5101 - accuracy: 0.1959 - val_loss: 1.9346 - val_accuracy: 0.1401\n",
            "Epoch 3/500\n",
            "104/104 [==============================] - 1s 5ms/step - loss: 2.1060 - accuracy: 0.1832 - val_loss: 1.9965 - val_accuracy: 0.1739\n",
            "Epoch 4/500\n",
            "104/104 [==============================] - 0s 5ms/step - loss: 1.9913 - accuracy: 0.2007 - val_loss: 1.7813 - val_accuracy: 0.2367\n",
            "Epoch 5/500\n",
            "104/104 [==============================] - 0s 5ms/step - loss: 1.8407 - accuracy: 0.2449 - val_loss: 1.8515 - val_accuracy: 0.2415\n",
            "Epoch 6/500\n",
            "104/104 [==============================] - 0s 5ms/step - loss: 1.8287 - accuracy: 0.2533 - val_loss: 1.7596 - val_accuracy: 0.2560\n",
            "Epoch 7/500\n",
            "104/104 [==============================] - 1s 5ms/step - loss: 1.7803 - accuracy: 0.2461 - val_loss: 1.7247 - val_accuracy: 0.2560\n",
            "Epoch 8/500\n",
            "104/104 [==============================] - 1s 6ms/step - loss: 1.7688 - accuracy: 0.2588 - val_loss: 1.7283 - val_accuracy: 0.2271\n",
            "Epoch 9/500\n",
            "104/104 [==============================] - 1s 7ms/step - loss: 1.7119 - accuracy: 0.2751 - val_loss: 1.6887 - val_accuracy: 0.2899\n",
            "Epoch 10/500\n",
            "104/104 [==============================] - 1s 8ms/step - loss: 1.6929 - accuracy: 0.2848 - val_loss: 1.8219 - val_accuracy: 0.2029\n",
            "Epoch 11/500\n",
            "104/104 [==============================] - 1s 8ms/step - loss: 1.6613 - accuracy: 0.2975 - val_loss: 1.6425 - val_accuracy: 0.2754\n",
            "Epoch 12/500\n",
            "104/104 [==============================] - 1s 8ms/step - loss: 1.6615 - accuracy: 0.3035 - val_loss: 1.6752 - val_accuracy: 0.2850\n",
            "Epoch 13/500\n",
            "104/104 [==============================] - 1s 8ms/step - loss: 1.6146 - accuracy: 0.3229 - val_loss: 1.6313 - val_accuracy: 0.2899\n",
            "Epoch 14/500\n",
            "104/104 [==============================] - 1s 8ms/step - loss: 1.5896 - accuracy: 0.3362 - val_loss: 1.6150 - val_accuracy: 0.3140\n",
            "Epoch 15/500\n",
            "104/104 [==============================] - 1s 8ms/step - loss: 1.5555 - accuracy: 0.3543 - val_loss: 1.4827 - val_accuracy: 0.3913\n",
            "Epoch 16/500\n",
            "104/104 [==============================] - 1s 8ms/step - loss: 1.5302 - accuracy: 0.3748 - val_loss: 1.6715 - val_accuracy: 0.1981\n",
            "Epoch 17/500\n",
            "104/104 [==============================] - 1s 8ms/step - loss: 1.5102 - accuracy: 0.3694 - val_loss: 1.4820 - val_accuracy: 0.3671\n",
            "Epoch 18/500\n",
            "104/104 [==============================] - 1s 7ms/step - loss: 1.4735 - accuracy: 0.3942 - val_loss: 1.5862 - val_accuracy: 0.3043\n",
            "Epoch 19/500\n",
            "104/104 [==============================] - 1s 7ms/step - loss: 1.4775 - accuracy: 0.3924 - val_loss: 1.4384 - val_accuracy: 0.4058\n",
            "Epoch 20/500\n",
            "104/104 [==============================] - 1s 7ms/step - loss: 1.4319 - accuracy: 0.3960 - val_loss: 1.4713 - val_accuracy: 0.3671\n",
            "Epoch 21/500\n",
            "104/104 [==============================] - 1s 9ms/step - loss: 1.3907 - accuracy: 0.4129 - val_loss: 1.4416 - val_accuracy: 0.4203\n",
            "Epoch 22/500\n",
            "104/104 [==============================] - 1s 9ms/step - loss: 1.3808 - accuracy: 0.4274 - val_loss: 1.4272 - val_accuracy: 0.4058\n",
            "Epoch 23/500\n",
            "104/104 [==============================] - 1s 8ms/step - loss: 1.3740 - accuracy: 0.4293 - val_loss: 1.3903 - val_accuracy: 0.4155\n",
            "Epoch 24/500\n",
            "104/104 [==============================] - 1s 9ms/step - loss: 1.3385 - accuracy: 0.4293 - val_loss: 1.3520 - val_accuracy: 0.4010\n",
            "Epoch 25/500\n",
            "104/104 [==============================] - 1s 7ms/step - loss: 1.3249 - accuracy: 0.4468 - val_loss: 1.2584 - val_accuracy: 0.4879\n",
            "Epoch 26/500\n",
            "104/104 [==============================] - 1s 8ms/step - loss: 1.2970 - accuracy: 0.4692 - val_loss: 1.3163 - val_accuracy: 0.4589\n",
            "Epoch 27/500\n",
            "104/104 [==============================] - 1s 8ms/step - loss: 1.2652 - accuracy: 0.4674 - val_loss: 1.2854 - val_accuracy: 0.4686\n",
            "Epoch 28/500\n",
            "104/104 [==============================] - 1s 9ms/step - loss: 1.2476 - accuracy: 0.4764 - val_loss: 1.1750 - val_accuracy: 0.5072\n",
            "Epoch 29/500\n",
            "104/104 [==============================] - 1s 8ms/step - loss: 1.2498 - accuracy: 0.4782 - val_loss: 1.2380 - val_accuracy: 0.4783\n",
            "Epoch 30/500\n",
            "104/104 [==============================] - 1s 8ms/step - loss: 1.2087 - accuracy: 0.4927 - val_loss: 1.2248 - val_accuracy: 0.5169\n",
            "Epoch 31/500\n",
            "104/104 [==============================] - 1s 9ms/step - loss: 1.2037 - accuracy: 0.5024 - val_loss: 1.1859 - val_accuracy: 0.5169\n",
            "Epoch 32/500\n",
            "104/104 [==============================] - 1s 8ms/step - loss: 1.1873 - accuracy: 0.5133 - val_loss: 1.1205 - val_accuracy: 0.5362\n",
            "Epoch 33/500\n",
            "104/104 [==============================] - 1s 8ms/step - loss: 1.1585 - accuracy: 0.5169 - val_loss: 1.1900 - val_accuracy: 0.5314\n",
            "Epoch 34/500\n",
            "104/104 [==============================] - 1s 8ms/step - loss: 1.1625 - accuracy: 0.5200 - val_loss: 1.1317 - val_accuracy: 0.5797\n",
            "Epoch 35/500\n",
            "104/104 [==============================] - 1s 7ms/step - loss: 1.1276 - accuracy: 0.5466 - val_loss: 1.2135 - val_accuracy: 0.4928\n",
            "Epoch 36/500\n",
            "104/104 [==============================] - 1s 8ms/step - loss: 1.1164 - accuracy: 0.5381 - val_loss: 1.2352 - val_accuracy: 0.4734\n",
            "Epoch 37/500\n",
            "104/104 [==============================] - 1s 5ms/step - loss: 1.1055 - accuracy: 0.5532 - val_loss: 1.0961 - val_accuracy: 0.5990\n",
            "Epoch 38/500\n",
            "104/104 [==============================] - 1s 5ms/step - loss: 1.0765 - accuracy: 0.5605 - val_loss: 1.0464 - val_accuracy: 0.6280\n",
            "Epoch 39/500\n",
            "104/104 [==============================] - 1s 5ms/step - loss: 1.0701 - accuracy: 0.5562 - val_loss: 1.0513 - val_accuracy: 0.5942\n",
            "Epoch 40/500\n",
            "104/104 [==============================] - 1s 5ms/step - loss: 1.0575 - accuracy: 0.5647 - val_loss: 1.1261 - val_accuracy: 0.5604\n",
            "Epoch 41/500\n",
            "104/104 [==============================] - 1s 5ms/step - loss: 1.0326 - accuracy: 0.5593 - val_loss: 1.0969 - val_accuracy: 0.5507\n",
            "Epoch 42/500\n",
            "104/104 [==============================] - 1s 5ms/step - loss: 1.0220 - accuracy: 0.5907 - val_loss: 1.0458 - val_accuracy: 0.5797\n",
            "Epoch 43/500\n",
            "104/104 [==============================] - 0s 5ms/step - loss: 1.0143 - accuracy: 0.5762 - val_loss: 0.9914 - val_accuracy: 0.5894\n",
            "Epoch 44/500\n",
            "104/104 [==============================] - 0s 5ms/step - loss: 1.0233 - accuracy: 0.5719 - val_loss: 1.0668 - val_accuracy: 0.5700\n",
            "Epoch 45/500\n",
            "104/104 [==============================] - 0s 5ms/step - loss: 0.9837 - accuracy: 0.6167 - val_loss: 1.0482 - val_accuracy: 0.5749\n",
            "Epoch 46/500\n",
            "104/104 [==============================] - 0s 5ms/step - loss: 0.9787 - accuracy: 0.6106 - val_loss: 1.0851 - val_accuracy: 0.5459\n",
            "Epoch 47/500\n",
            "104/104 [==============================] - 1s 5ms/step - loss: 0.9829 - accuracy: 0.5961 - val_loss: 0.9696 - val_accuracy: 0.5990\n",
            "Epoch 48/500\n",
            "104/104 [==============================] - 1s 5ms/step - loss: 0.9405 - accuracy: 0.6348 - val_loss: 0.9284 - val_accuracy: 0.6570\n",
            "Epoch 49/500\n",
            "104/104 [==============================] - 0s 4ms/step - loss: 0.9397 - accuracy: 0.6203 - val_loss: 0.9201 - val_accuracy: 0.6425\n",
            "Epoch 50/500\n",
            "104/104 [==============================] - 1s 5ms/step - loss: 0.9154 - accuracy: 0.6282 - val_loss: 0.8797 - val_accuracy: 0.6522\n",
            "Epoch 51/500\n",
            "104/104 [==============================] - 1s 5ms/step - loss: 0.9452 - accuracy: 0.6028 - val_loss: 0.9523 - val_accuracy: 0.6329\n",
            "Epoch 52/500\n",
            "104/104 [==============================] - 0s 4ms/step - loss: 0.9251 - accuracy: 0.6252 - val_loss: 0.9700 - val_accuracy: 0.5990\n",
            "Epoch 53/500\n",
            "104/104 [==============================] - 0s 5ms/step - loss: 0.9036 - accuracy: 0.6403 - val_loss: 0.9144 - val_accuracy: 0.6667\n",
            "Epoch 54/500\n",
            "104/104 [==============================] - 1s 5ms/step - loss: 0.9344 - accuracy: 0.6209 - val_loss: 0.9363 - val_accuracy: 0.6957\n",
            "Epoch 55/500\n",
            "104/104 [==============================] - 0s 5ms/step - loss: 0.8914 - accuracy: 0.6378 - val_loss: 0.9221 - val_accuracy: 0.6570\n",
            "Epoch 56/500\n",
            "104/104 [==============================] - 0s 5ms/step - loss: 0.8813 - accuracy: 0.6451 - val_loss: 0.8575 - val_accuracy: 0.6618\n",
            "Epoch 57/500\n",
            "104/104 [==============================] - 0s 4ms/step - loss: 0.8797 - accuracy: 0.6536 - val_loss: 0.8847 - val_accuracy: 0.6039\n",
            "Epoch 58/500\n",
            "104/104 [==============================] - 0s 5ms/step - loss: 0.8596 - accuracy: 0.6675 - val_loss: 0.8604 - val_accuracy: 0.6667\n",
            "Epoch 59/500\n",
            "104/104 [==============================] - 0s 5ms/step - loss: 0.8751 - accuracy: 0.6469 - val_loss: 0.8413 - val_accuracy: 0.7005\n",
            "Epoch 60/500\n",
            "104/104 [==============================] - 1s 5ms/step - loss: 0.8400 - accuracy: 0.6511 - val_loss: 0.8319 - val_accuracy: 0.6908\n",
            "Epoch 61/500\n",
            "104/104 [==============================] - 1s 5ms/step - loss: 0.8274 - accuracy: 0.6717 - val_loss: 0.8544 - val_accuracy: 0.6860\n",
            "Epoch 62/500\n",
            "104/104 [==============================] - 0s 5ms/step - loss: 0.8286 - accuracy: 0.6747 - val_loss: 0.8441 - val_accuracy: 0.7246\n",
            "Epoch 63/500\n",
            "104/104 [==============================] - 0s 4ms/step - loss: 0.8237 - accuracy: 0.6729 - val_loss: 0.9175 - val_accuracy: 0.5749\n",
            "Epoch 64/500\n",
            "104/104 [==============================] - 0s 4ms/step - loss: 0.8330 - accuracy: 0.6759 - val_loss: 0.8687 - val_accuracy: 0.6329\n",
            "Epoch 65/500\n",
            "104/104 [==============================] - 1s 5ms/step - loss: 0.7901 - accuracy: 0.6802 - val_loss: 0.7813 - val_accuracy: 0.7246\n",
            "Epoch 66/500\n",
            "104/104 [==============================] - 1s 5ms/step - loss: 0.7926 - accuracy: 0.6844 - val_loss: 0.8011 - val_accuracy: 0.7053\n",
            "Epoch 67/500\n",
            "104/104 [==============================] - 1s 5ms/step - loss: 0.7938 - accuracy: 0.6826 - val_loss: 0.8422 - val_accuracy: 0.6763\n",
            "Epoch 68/500\n",
            "104/104 [==============================] - 0s 5ms/step - loss: 0.7782 - accuracy: 0.6874 - val_loss: 0.8491 - val_accuracy: 0.6570\n",
            "Epoch 69/500\n",
            "104/104 [==============================] - 1s 5ms/step - loss: 0.7656 - accuracy: 0.6941 - val_loss: 0.7867 - val_accuracy: 0.6763\n",
            "Epoch 70/500\n",
            "104/104 [==============================] - 1s 5ms/step - loss: 0.7623 - accuracy: 0.6935 - val_loss: 0.8986 - val_accuracy: 0.6184\n",
            "Epoch 71/500\n",
            "104/104 [==============================] - 0s 4ms/step - loss: 0.7594 - accuracy: 0.7080 - val_loss: 0.7825 - val_accuracy: 0.7150\n",
            "Epoch 72/500\n",
            "104/104 [==============================] - 0s 5ms/step - loss: 0.7592 - accuracy: 0.6947 - val_loss: 0.8352 - val_accuracy: 0.6860\n",
            "Epoch 73/500\n",
            "104/104 [==============================] - 0s 5ms/step - loss: 0.7567 - accuracy: 0.6953 - val_loss: 0.9312 - val_accuracy: 0.5942\n",
            "Epoch 74/500\n",
            "104/104 [==============================] - 1s 5ms/step - loss: 0.7477 - accuracy: 0.6989 - val_loss: 0.7991 - val_accuracy: 0.6618\n",
            "Epoch 75/500\n",
            "104/104 [==============================] - 0s 5ms/step - loss: 0.7406 - accuracy: 0.6929 - val_loss: 0.8502 - val_accuracy: 0.6618\n",
            "Epoch 76/500\n",
            "104/104 [==============================] - 0s 5ms/step - loss: 0.7460 - accuracy: 0.7013 - val_loss: 0.7744 - val_accuracy: 0.6860\n",
            "Epoch 77/500\n",
            "104/104 [==============================] - 0s 5ms/step - loss: 0.7240 - accuracy: 0.6977 - val_loss: 0.8078 - val_accuracy: 0.6812\n",
            "Epoch 78/500\n",
            "104/104 [==============================] - 0s 5ms/step - loss: 0.7088 - accuracy: 0.7207 - val_loss: 0.8028 - val_accuracy: 0.6570\n",
            "Epoch 79/500\n",
            "104/104 [==============================] - 1s 5ms/step - loss: 0.7011 - accuracy: 0.7158 - val_loss: 0.7643 - val_accuracy: 0.6908\n",
            "Epoch 80/500\n",
            "104/104 [==============================] - 1s 5ms/step - loss: 0.7230 - accuracy: 0.7104 - val_loss: 0.8907 - val_accuracy: 0.6329\n",
            "Epoch 81/500\n",
            "104/104 [==============================] - 1s 5ms/step - loss: 0.7125 - accuracy: 0.7080 - val_loss: 0.7468 - val_accuracy: 0.7005\n",
            "Epoch 82/500\n",
            "104/104 [==============================] - 1s 5ms/step - loss: 0.7319 - accuracy: 0.7050 - val_loss: 0.7651 - val_accuracy: 0.7633\n",
            "Epoch 83/500\n",
            "104/104 [==============================] - 1s 5ms/step - loss: 0.6915 - accuracy: 0.7310 - val_loss: 0.7718 - val_accuracy: 0.7295\n",
            "Epoch 84/500\n",
            "104/104 [==============================] - 1s 5ms/step - loss: 0.6945 - accuracy: 0.7219 - val_loss: 0.8780 - val_accuracy: 0.6184\n",
            "Epoch 85/500\n",
            "104/104 [==============================] - 1s 5ms/step - loss: 0.6826 - accuracy: 0.7273 - val_loss: 0.6951 - val_accuracy: 0.7488\n",
            "Epoch 86/500\n",
            "104/104 [==============================] - 1s 5ms/step - loss: 0.6918 - accuracy: 0.7146 - val_loss: 0.7145 - val_accuracy: 0.7343\n",
            "Epoch 87/500\n",
            "104/104 [==============================] - 0s 5ms/step - loss: 0.6900 - accuracy: 0.7146 - val_loss: 0.7953 - val_accuracy: 0.6715\n",
            "Epoch 88/500\n",
            "104/104 [==============================] - 0s 5ms/step - loss: 0.6733 - accuracy: 0.7279 - val_loss: 0.7125 - val_accuracy: 0.7343\n",
            "Epoch 89/500\n",
            "104/104 [==============================] - 0s 5ms/step - loss: 0.6623 - accuracy: 0.7388 - val_loss: 0.7244 - val_accuracy: 0.7295\n",
            "Epoch 90/500\n",
            "104/104 [==============================] - 0s 5ms/step - loss: 0.6675 - accuracy: 0.7370 - val_loss: 0.6998 - val_accuracy: 0.7295\n",
            "Epoch 91/500\n",
            "104/104 [==============================] - 0s 5ms/step - loss: 0.6682 - accuracy: 0.7352 - val_loss: 0.6776 - val_accuracy: 0.7488\n",
            "Epoch 92/500\n",
            "104/104 [==============================] - 0s 5ms/step - loss: 0.6475 - accuracy: 0.7430 - val_loss: 0.6535 - val_accuracy: 0.8019\n",
            "Epoch 93/500\n",
            "104/104 [==============================] - 1s 5ms/step - loss: 0.6184 - accuracy: 0.7588 - val_loss: 0.7774 - val_accuracy: 0.6908\n",
            "Epoch 94/500\n",
            "104/104 [==============================] - 0s 4ms/step - loss: 0.6566 - accuracy: 0.7455 - val_loss: 0.6948 - val_accuracy: 0.7633\n",
            "Epoch 95/500\n",
            "104/104 [==============================] - 1s 5ms/step - loss: 0.6397 - accuracy: 0.7503 - val_loss: 0.7560 - val_accuracy: 0.7295\n",
            "Epoch 96/500\n",
            "104/104 [==============================] - 0s 5ms/step - loss: 0.6634 - accuracy: 0.7521 - val_loss: 0.7220 - val_accuracy: 0.7295\n",
            "Epoch 97/500\n",
            "104/104 [==============================] - 0s 5ms/step - loss: 0.6086 - accuracy: 0.7660 - val_loss: 0.7038 - val_accuracy: 0.7343\n",
            "Epoch 98/500\n",
            "104/104 [==============================] - 0s 4ms/step - loss: 0.6364 - accuracy: 0.7636 - val_loss: 0.7236 - val_accuracy: 0.7343\n",
            "Epoch 99/500\n",
            "104/104 [==============================] - 1s 5ms/step - loss: 0.6283 - accuracy: 0.7461 - val_loss: 0.7257 - val_accuracy: 0.7585\n",
            "Epoch 100/500\n",
            "104/104 [==============================] - 0s 4ms/step - loss: 0.6081 - accuracy: 0.7594 - val_loss: 0.7070 - val_accuracy: 0.7440\n",
            "Epoch 101/500\n",
            "104/104 [==============================] - 0s 5ms/step - loss: 0.6245 - accuracy: 0.7467 - val_loss: 0.6847 - val_accuracy: 0.7101\n",
            "Epoch 102/500\n",
            "104/104 [==============================] - 1s 5ms/step - loss: 0.6043 - accuracy: 0.7666 - val_loss: 0.7111 - val_accuracy: 0.7198\n",
            "Epoch 103/500\n",
            "104/104 [==============================] - 0s 5ms/step - loss: 0.5880 - accuracy: 0.7624 - val_loss: 0.6946 - val_accuracy: 0.7295\n",
            "Epoch 104/500\n",
            "104/104 [==============================] - 1s 5ms/step - loss: 0.6290 - accuracy: 0.7551 - val_loss: 0.6802 - val_accuracy: 0.7633\n",
            "Epoch 105/500\n",
            "104/104 [==============================] - 1s 5ms/step - loss: 0.5930 - accuracy: 0.7570 - val_loss: 0.6685 - val_accuracy: 0.7633\n",
            "Epoch 106/500\n",
            "104/104 [==============================] - 0s 5ms/step - loss: 0.6047 - accuracy: 0.7545 - val_loss: 0.6641 - val_accuracy: 0.7488\n",
            "Epoch 107/500\n",
            "104/104 [==============================] - 0s 5ms/step - loss: 0.5987 - accuracy: 0.7630 - val_loss: 0.7071 - val_accuracy: 0.7101\n",
            "Epoch 108/500\n",
            "104/104 [==============================] - 0s 5ms/step - loss: 0.5662 - accuracy: 0.7793 - val_loss: 0.6489 - val_accuracy: 0.7585\n",
            "Epoch 109/500\n",
            "104/104 [==============================] - 0s 5ms/step - loss: 0.5718 - accuracy: 0.7872 - val_loss: 0.7035 - val_accuracy: 0.7536\n",
            "Epoch 110/500\n",
            "104/104 [==============================] - 0s 5ms/step - loss: 0.5724 - accuracy: 0.7690 - val_loss: 0.7281 - val_accuracy: 0.7150\n",
            "Epoch 111/500\n",
            "104/104 [==============================] - 0s 5ms/step - loss: 0.5669 - accuracy: 0.7721 - val_loss: 0.6538 - val_accuracy: 0.7681\n",
            "Epoch 112/500\n",
            "104/104 [==============================] - 1s 5ms/step - loss: 0.5449 - accuracy: 0.7721 - val_loss: 0.7328 - val_accuracy: 0.6812\n",
            "Epoch 113/500\n",
            "104/104 [==============================] - 1s 5ms/step - loss: 0.5664 - accuracy: 0.7817 - val_loss: 0.7836 - val_accuracy: 0.6570\n",
            "Epoch 114/500\n",
            "104/104 [==============================] - 1s 5ms/step - loss: 0.5645 - accuracy: 0.7805 - val_loss: 0.6721 - val_accuracy: 0.7488\n",
            "Epoch 115/500\n",
            "104/104 [==============================] - 1s 5ms/step - loss: 0.5437 - accuracy: 0.7926 - val_loss: 0.6769 - val_accuracy: 0.7585\n",
            "Epoch 116/500\n",
            "104/104 [==============================] - 1s 5ms/step - loss: 0.5486 - accuracy: 0.7866 - val_loss: 0.6430 - val_accuracy: 0.7681\n",
            "Epoch 117/500\n",
            "104/104 [==============================] - 1s 5ms/step - loss: 0.5464 - accuracy: 0.7884 - val_loss: 0.6822 - val_accuracy: 0.7585\n",
            "Epoch 118/500\n",
            "104/104 [==============================] - 0s 5ms/step - loss: 0.5434 - accuracy: 0.7854 - val_loss: 0.6247 - val_accuracy: 0.7923\n",
            "Epoch 119/500\n",
            "104/104 [==============================] - 0s 5ms/step - loss: 0.5568 - accuracy: 0.7854 - val_loss: 0.8040 - val_accuracy: 0.6715\n",
            "Epoch 120/500\n",
            "104/104 [==============================] - 0s 5ms/step - loss: 0.5293 - accuracy: 0.8005 - val_loss: 0.6357 - val_accuracy: 0.7585\n",
            "Epoch 121/500\n",
            "104/104 [==============================] - 1s 5ms/step - loss: 0.5351 - accuracy: 0.7926 - val_loss: 0.7133 - val_accuracy: 0.7536\n",
            "Epoch 122/500\n",
            "104/104 [==============================] - 1s 5ms/step - loss: 0.5022 - accuracy: 0.8144 - val_loss: 0.6065 - val_accuracy: 0.7778\n",
            "Epoch 123/500\n",
            "104/104 [==============================] - 0s 5ms/step - loss: 0.5390 - accuracy: 0.7999 - val_loss: 0.6610 - val_accuracy: 0.7488\n",
            "Epoch 124/500\n",
            "104/104 [==============================] - 1s 5ms/step - loss: 0.5177 - accuracy: 0.8017 - val_loss: 0.6756 - val_accuracy: 0.7633\n",
            "Epoch 125/500\n",
            "104/104 [==============================] - 0s 5ms/step - loss: 0.4942 - accuracy: 0.8005 - val_loss: 0.7294 - val_accuracy: 0.7343\n",
            "Epoch 126/500\n",
            "104/104 [==============================] - 0s 5ms/step - loss: 0.4983 - accuracy: 0.8029 - val_loss: 0.7213 - val_accuracy: 0.7150\n",
            "Epoch 127/500\n",
            "104/104 [==============================] - 0s 5ms/step - loss: 0.5074 - accuracy: 0.8053 - val_loss: 0.6710 - val_accuracy: 0.7585\n",
            "Epoch 128/500\n",
            "104/104 [==============================] - 1s 5ms/step - loss: 0.5170 - accuracy: 0.8011 - val_loss: 0.6170 - val_accuracy: 0.7536\n",
            "Epoch 129/500\n",
            "104/104 [==============================] - 0s 5ms/step - loss: 0.4951 - accuracy: 0.8089 - val_loss: 0.6165 - val_accuracy: 0.7874\n",
            "Epoch 130/500\n",
            "104/104 [==============================] - 1s 5ms/step - loss: 0.5051 - accuracy: 0.8011 - val_loss: 0.6902 - val_accuracy: 0.7101\n",
            "Epoch 131/500\n",
            "104/104 [==============================] - 1s 5ms/step - loss: 0.4854 - accuracy: 0.8053 - val_loss: 0.7691 - val_accuracy: 0.6860\n",
            "Epoch 132/500\n",
            "104/104 [==============================] - 0s 5ms/step - loss: 0.4844 - accuracy: 0.8053 - val_loss: 0.7645 - val_accuracy: 0.6667\n",
            "Epoch 133/500\n",
            "104/104 [==============================] - 1s 7ms/step - loss: 0.5197 - accuracy: 0.8011 - val_loss: 0.6491 - val_accuracy: 0.7633\n",
            "Epoch 134/500\n",
            "104/104 [==============================] - 1s 8ms/step - loss: 0.5058 - accuracy: 0.8071 - val_loss: 0.7048 - val_accuracy: 0.7150\n",
            "Epoch 135/500\n",
            "104/104 [==============================] - 1s 8ms/step - loss: 0.4916 - accuracy: 0.8150 - val_loss: 0.6046 - val_accuracy: 0.7971\n",
            "Epoch 136/500\n",
            "104/104 [==============================] - 1s 6ms/step - loss: 0.4697 - accuracy: 0.8138 - val_loss: 0.6073 - val_accuracy: 0.7729\n",
            "Epoch 137/500\n",
            "104/104 [==============================] - 1s 9ms/step - loss: 0.5147 - accuracy: 0.8017 - val_loss: 0.6137 - val_accuracy: 0.7681\n",
            "Epoch 138/500\n",
            "104/104 [==============================] - 1s 5ms/step - loss: 0.4995 - accuracy: 0.8023 - val_loss: 0.6260 - val_accuracy: 0.7488\n",
            "Epoch 139/500\n",
            "104/104 [==============================] - 1s 5ms/step - loss: 0.4965 - accuracy: 0.8150 - val_loss: 0.6385 - val_accuracy: 0.7681\n",
            "Epoch 140/500\n",
            "104/104 [==============================] - 1s 5ms/step - loss: 0.4800 - accuracy: 0.8192 - val_loss: 0.7818 - val_accuracy: 0.7053\n",
            "Epoch 141/500\n",
            "104/104 [==============================] - 1s 5ms/step - loss: 0.4502 - accuracy: 0.8235 - val_loss: 0.6210 - val_accuracy: 0.7681\n",
            "Epoch 142/500\n",
            "104/104 [==============================] - 1s 5ms/step - loss: 0.4824 - accuracy: 0.8222 - val_loss: 0.6573 - val_accuracy: 0.7681\n",
            "Epoch 143/500\n",
            "104/104 [==============================] - 0s 5ms/step - loss: 0.4573 - accuracy: 0.8259 - val_loss: 0.6545 - val_accuracy: 0.7246\n",
            "Epoch 144/500\n",
            "104/104 [==============================] - 0s 5ms/step - loss: 0.4512 - accuracy: 0.8277 - val_loss: 0.6154 - val_accuracy: 0.7440\n",
            "Epoch 145/500\n",
            "104/104 [==============================] - 0s 5ms/step - loss: 0.4702 - accuracy: 0.8144 - val_loss: 0.5958 - val_accuracy: 0.8068\n",
            "Epoch 146/500\n",
            "104/104 [==============================] - 1s 5ms/step - loss: 0.4452 - accuracy: 0.8235 - val_loss: 0.6518 - val_accuracy: 0.7488\n",
            "Epoch 147/500\n",
            "104/104 [==============================] - 1s 5ms/step - loss: 0.4401 - accuracy: 0.8319 - val_loss: 0.6309 - val_accuracy: 0.7923\n",
            "Epoch 148/500\n",
            "104/104 [==============================] - 0s 5ms/step - loss: 0.4710 - accuracy: 0.8204 - val_loss: 0.6714 - val_accuracy: 0.7633\n",
            "Epoch 149/500\n",
            "104/104 [==============================] - 1s 5ms/step - loss: 0.4231 - accuracy: 0.8356 - val_loss: 0.6887 - val_accuracy: 0.7391\n",
            "Epoch 150/500\n",
            "104/104 [==============================] - 0s 5ms/step - loss: 0.4760 - accuracy: 0.8180 - val_loss: 0.5885 - val_accuracy: 0.7778\n",
            "Epoch 151/500\n",
            "104/104 [==============================] - 0s 5ms/step - loss: 0.4327 - accuracy: 0.8307 - val_loss: 0.6349 - val_accuracy: 0.7778\n",
            "Epoch 152/500\n",
            "104/104 [==============================] - 0s 5ms/step - loss: 0.4495 - accuracy: 0.8325 - val_loss: 0.6533 - val_accuracy: 0.7826\n",
            "Epoch 153/500\n",
            "104/104 [==============================] - 1s 5ms/step - loss: 0.4799 - accuracy: 0.8337 - val_loss: 0.7575 - val_accuracy: 0.7246\n",
            "Epoch 154/500\n",
            "104/104 [==============================] - 1s 5ms/step - loss: 0.4274 - accuracy: 0.8325 - val_loss: 0.6718 - val_accuracy: 0.7440\n",
            "Epoch 155/500\n",
            "104/104 [==============================] - 0s 5ms/step - loss: 0.4394 - accuracy: 0.8398 - val_loss: 0.6868 - val_accuracy: 0.7246\n",
            "Epoch 156/500\n",
            "104/104 [==============================] - 1s 5ms/step - loss: 0.4422 - accuracy: 0.8247 - val_loss: 0.7085 - val_accuracy: 0.7246\n",
            "Epoch 157/500\n",
            "104/104 [==============================] - 1s 5ms/step - loss: 0.4065 - accuracy: 0.8464 - val_loss: 0.6385 - val_accuracy: 0.7343\n",
            "Epoch 158/500\n",
            "104/104 [==============================] - 1s 5ms/step - loss: 0.4116 - accuracy: 0.8428 - val_loss: 0.7521 - val_accuracy: 0.7246\n",
            "Epoch 159/500\n",
            "104/104 [==============================] - 1s 5ms/step - loss: 0.4116 - accuracy: 0.8446 - val_loss: 0.6701 - val_accuracy: 0.7198\n",
            "Epoch 160/500\n",
            "104/104 [==============================] - 1s 5ms/step - loss: 0.4347 - accuracy: 0.8386 - val_loss: 0.6744 - val_accuracy: 0.7246\n",
            "Epoch 161/500\n",
            "104/104 [==============================] - 0s 5ms/step - loss: 0.4202 - accuracy: 0.8416 - val_loss: 0.6060 - val_accuracy: 0.7971\n",
            "Epoch 162/500\n",
            "104/104 [==============================] - 0s 5ms/step - loss: 0.4163 - accuracy: 0.8440 - val_loss: 0.6795 - val_accuracy: 0.7198\n",
            "Epoch 163/500\n",
            "104/104 [==============================] - 1s 5ms/step - loss: 0.4142 - accuracy: 0.8446 - val_loss: 0.6289 - val_accuracy: 0.7633\n",
            "Epoch 164/500\n",
            "104/104 [==============================] - 0s 5ms/step - loss: 0.4063 - accuracy: 0.8440 - val_loss: 0.6899 - val_accuracy: 0.7488\n",
            "Epoch 165/500\n",
            "104/104 [==============================] - 1s 5ms/step - loss: 0.4150 - accuracy: 0.8392 - val_loss: 0.6752 - val_accuracy: 0.7536\n",
            "Epoch 166/500\n",
            "104/104 [==============================] - 1s 5ms/step - loss: 0.3932 - accuracy: 0.8507 - val_loss: 0.5729 - val_accuracy: 0.7923\n",
            "Epoch 167/500\n",
            "104/104 [==============================] - 1s 5ms/step - loss: 0.3873 - accuracy: 0.8476 - val_loss: 0.6544 - val_accuracy: 0.7343\n",
            "Epoch 168/500\n",
            "104/104 [==============================] - 0s 5ms/step - loss: 0.3830 - accuracy: 0.8549 - val_loss: 0.6838 - val_accuracy: 0.7681\n",
            "Epoch 169/500\n",
            "104/104 [==============================] - 1s 5ms/step - loss: 0.4014 - accuracy: 0.8452 - val_loss: 0.6316 - val_accuracy: 0.7343\n",
            "Epoch 170/500\n",
            "104/104 [==============================] - 1s 5ms/step - loss: 0.4299 - accuracy: 0.8501 - val_loss: 0.6544 - val_accuracy: 0.7536\n",
            "Epoch 171/500\n",
            "104/104 [==============================] - 1s 5ms/step - loss: 0.3940 - accuracy: 0.8531 - val_loss: 0.7108 - val_accuracy: 0.7295\n",
            "Epoch 172/500\n",
            "104/104 [==============================] - 0s 5ms/step - loss: 0.4129 - accuracy: 0.8416 - val_loss: 0.6919 - val_accuracy: 0.7633\n",
            "Epoch 173/500\n",
            "104/104 [==============================] - 0s 5ms/step - loss: 0.4029 - accuracy: 0.8440 - val_loss: 0.6127 - val_accuracy: 0.7778\n",
            "Epoch 174/500\n",
            "104/104 [==============================] - 0s 5ms/step - loss: 0.3726 - accuracy: 0.8609 - val_loss: 0.6263 - val_accuracy: 0.7826\n",
            "Epoch 175/500\n",
            "104/104 [==============================] - 0s 5ms/step - loss: 0.4182 - accuracy: 0.8446 - val_loss: 0.6529 - val_accuracy: 0.7536\n",
            "Epoch 176/500\n",
            "104/104 [==============================] - 1s 5ms/step - loss: 0.3633 - accuracy: 0.8694 - val_loss: 0.6158 - val_accuracy: 0.7729\n",
            "Epoch 177/500\n",
            "104/104 [==============================] - 1s 5ms/step - loss: 0.3717 - accuracy: 0.8591 - val_loss: 0.6804 - val_accuracy: 0.7536\n",
            "Epoch 178/500\n",
            "104/104 [==============================] - 0s 5ms/step - loss: 0.3606 - accuracy: 0.8549 - val_loss: 0.7023 - val_accuracy: 0.7585\n",
            "Epoch 179/500\n",
            "104/104 [==============================] - 0s 5ms/step - loss: 0.3665 - accuracy: 0.8579 - val_loss: 0.5990 - val_accuracy: 0.7585\n",
            "Epoch 180/500\n",
            "104/104 [==============================] - 0s 5ms/step - loss: 0.3735 - accuracy: 0.8555 - val_loss: 0.5949 - val_accuracy: 0.7923\n",
            "Epoch 181/500\n",
            "104/104 [==============================] - 1s 5ms/step - loss: 0.4190 - accuracy: 0.8464 - val_loss: 0.5900 - val_accuracy: 0.7826\n",
            "Epoch 182/500\n",
            "104/104 [==============================] - 1s 5ms/step - loss: 0.3975 - accuracy: 0.8525 - val_loss: 0.6064 - val_accuracy: 0.7971\n",
            "Epoch 183/500\n",
            "104/104 [==============================] - 0s 5ms/step - loss: 0.3732 - accuracy: 0.8694 - val_loss: 0.7137 - val_accuracy: 0.7536\n",
            "Epoch 184/500\n",
            "104/104 [==============================] - 1s 5ms/step - loss: 0.3751 - accuracy: 0.8640 - val_loss: 0.6447 - val_accuracy: 0.7536\n",
            "Epoch 185/500\n",
            "104/104 [==============================] - 1s 5ms/step - loss: 0.3788 - accuracy: 0.8664 - val_loss: 0.6457 - val_accuracy: 0.8068\n",
            "Epoch 186/500\n",
            "104/104 [==============================] - 1s 5ms/step - loss: 0.3716 - accuracy: 0.8628 - val_loss: 0.6293 - val_accuracy: 0.7826\n",
            "Epoch 187/500\n",
            "104/104 [==============================] - 1s 5ms/step - loss: 0.3670 - accuracy: 0.8615 - val_loss: 0.6578 - val_accuracy: 0.7826\n",
            "Epoch 188/500\n",
            "104/104 [==============================] - 1s 5ms/step - loss: 0.3631 - accuracy: 0.8561 - val_loss: 0.6411 - val_accuracy: 0.7874\n",
            "Epoch 189/500\n",
            "104/104 [==============================] - 1s 5ms/step - loss: 0.3353 - accuracy: 0.8736 - val_loss: 0.7101 - val_accuracy: 0.7536\n",
            "Epoch 190/500\n",
            "104/104 [==============================] - 0s 5ms/step - loss: 0.4126 - accuracy: 0.8543 - val_loss: 0.7555 - val_accuracy: 0.7343\n",
            "Epoch 191/500\n",
            "104/104 [==============================] - 1s 5ms/step - loss: 0.3399 - accuracy: 0.8694 - val_loss: 0.7704 - val_accuracy: 0.7101\n"
          ]
        }
      ]
    },
    {
      "cell_type": "code",
      "source": [
        "plt.plot(cnnhistory.history['loss'])\n",
        "plt.plot(cnnhistory.history['val_loss'])\n",
        "plt.title('model loss')\n",
        "plt.ylabel('loss')\n",
        "plt.xlabel('epoch')\n",
        "plt.legend(['train','test'], loc='upper left')\n",
        "plt.show()"
      ],
      "metadata": {
        "colab": {
          "base_uri": "https://localhost:8080/",
          "height": 295
        },
        "id": "oQYnuaCrDH_A",
        "outputId": "17522fb0-cf91-430b-ea3a-25e36f01b3b2"
      },
      "execution_count": 15,
      "outputs": [
        {
          "output_type": "display_data",
          "data": {
            "text/plain": [
              "<Figure size 432x288 with 1 Axes>"
            ],
            "image/png": "[encoded data removed]"
          },
          "metadata": {
            "needs_background": "light"
          }
        }
      ]
    },
    {
      "cell_type": "code",
      "source": [
        "plt.plot(cnnhistory.history['accuracy'])\n",
        "plt.plot(cnnhistory.history['val_accuracy'])\n",
        "plt.title('model accuracy')\n",
        "plt.ylabel('accuracy')\n",
        "plt.xlabel('epoch')\n",
        "plt.legend(['train','test'], loc='upper left')\n",
        "plt.show()"
      ],
      "metadata": {
        "colab": {
          "base_uri": "https://localhost:8080/",
          "height": 295
        },
        "id": "IFkTuO8nDNdq",
        "outputId": "ea09f50e-df80-4576-8a22-f98eb6f15c8d"
      },
      "execution_count": 16,
      "outputs": [
        {
          "output_type": "display_data",
          "data": {
            "text/plain": [
              "<Figure size 432x288 with 1 Axes>"
            ],
            "image/png": "[encoded data removed]"
          },
          "metadata": {
            "needs_background": "light"
          }
        }
      ]
    },
    {
      "cell_type": "code",
      "source": [
        "predictions = model.predict(x_testcnn)"
      ],
      "metadata": {
        "id": "A2xtrN5wDQgY"
      },
      "execution_count": 17,
      "outputs": []
    },
    {
      "cell_type": "code",
      "source": [
        "predictions"
      ],
      "metadata": {
        "colab": {
          "base_uri": "https://localhost:8080/"
        },
        "id": "_f_ohjXKDUpY",
        "outputId": "02b5ca98-2867-415f-99f8-085caf0b288c"
      },
      "execution_count": 18,
      "outputs": [
        {
          "output_type": "execute_result",
          "data": {
            "text/plain": [
              "array([[2.5849286e-01, 4.7031082e-02, 3.5186294e-01, 2.4265042e-01,\n",
              "        7.3956653e-02, 2.6006056e-02],\n",
              "       [2.8348143e-06, 2.0164171e-06, 2.2601505e-09, 9.9666649e-01,\n",
              "        3.0107653e-08, 3.3285860e-03],\n",
              "       [1.1600400e-01, 2.0477553e-01, 2.4616240e-02, 3.4044304e-01,\n",
              "        1.6962817e-02, 2.9719839e-01],\n",
              "       ...,\n",
              "       [2.2347703e-13, 4.1278426e-14, 2.4403798e-08, 1.8636084e-10,\n",
              "        9.9999928e-01, 6.8634938e-07],\n",
              "       [2.6932462e-06, 4.0585831e-01, 5.8904928e-01, 2.5032906e-04,\n",
              "        2.9681379e-03, 1.8712885e-03],\n",
              "       [2.2613276e-07, 2.9715497e-07, 2.3081228e-02, 2.3525352e-05,\n",
              "        9.7525871e-01, 1.6359797e-03]], dtype=float32)"
            ]
          },
          "metadata": {},
          "execution_count": 18
        }
      ]
    },
    {
      "cell_type": "code",
      "source": [
        "y_test"
      ],
      "metadata": {
        "colab": {
          "base_uri": "https://localhost:8080/"
        },
        "id": "cmA2bFgsDW3D",
        "outputId": "5511c3e9-af6b-4433-96df-020198b6741c"
      },
      "execution_count": 19,
      "outputs": [
        {
          "output_type": "execute_result",
          "data": {
            "text/plain": [
              "array([3, 3, 3, 0, 4, 4, 1, 2, 5, 0, 5, 3, 2, 2, 1, 4, 4, 5, 2, 4, 1, 2,\n",
              "       3, 5, 4, 2, 1, 2, 2, 2, 2, 5, 2, 5, 3, 1, 2, 0, 4, 5, 2, 3, 2, 2,\n",
              "       5, 2, 0, 1, 3, 4, 4, 5, 1, 1, 4, 4, 5, 1, 1, 1, 0, 1, 5, 0, 4, 1,\n",
              "       1, 0, 1, 4, 1, 0, 4, 1, 3, 1, 2, 2, 1, 2, 3, 0, 5, 3, 5, 5, 2, 4,\n",
              "       5, 1, 5, 1, 5, 3, 4, 1, 4, 1, 5, 4, 5, 1, 2, 1, 1, 5, 1, 3, 2, 5,\n",
              "       2, 1, 3, 5, 4, 4, 0, 0, 3, 1, 2, 2, 3, 5, 1, 5, 3, 4, 2, 2, 0, 2,\n",
              "       2, 5, 5, 0, 3, 3, 2, 2, 0, 3, 4, 0, 4, 2, 4, 5, 4, 1, 5, 3, 2, 2,\n",
              "       5, 4, 3, 3, 4, 3, 3, 4, 1, 5, 2, 3, 2, 2, 0, 2, 1, 3, 1, 2, 2, 5,\n",
              "       5, 1, 4, 2, 2, 1, 1, 3, 3, 5, 5, 2, 5, 1, 5, 0, 3, 3, 0, 5, 1, 4,\n",
              "       1, 4, 2, 5, 5, 1, 4, 2, 4])"
            ]
          },
          "metadata": {},
          "execution_count": 19
        }
      ]
    },
    {
      "cell_type": "code",
      "source": [
        "new_Ytest = y_test.astype(int)"
      ],
      "metadata": {
        "id": "0PHDKWJWDY3g"
      },
      "execution_count": 20,
      "outputs": []
    },
    {
      "cell_type": "code",
      "source": [
        "new_Ytest"
      ],
      "metadata": {
        "colab": {
          "base_uri": "https://localhost:8080/"
        },
        "id": "k68v2i-pDbZE",
        "outputId": "1e7115fa-74fd-4206-94b9-6571200706e6"
      },
      "execution_count": 21,
      "outputs": [
        {
          "output_type": "execute_result",
          "data": {
            "text/plain": [
              "array([3, 3, 3, 0, 4, 4, 1, 2, 5, 0, 5, 3, 2, 2, 1, 4, 4, 5, 2, 4, 1, 2,\n",
              "       3, 5, 4, 2, 1, 2, 2, 2, 2, 5, 2, 5, 3, 1, 2, 0, 4, 5, 2, 3, 2, 2,\n",
              "       5, 2, 0, 1, 3, 4, 4, 5, 1, 1, 4, 4, 5, 1, 1, 1, 0, 1, 5, 0, 4, 1,\n",
              "       1, 0, 1, 4, 1, 0, 4, 1, 3, 1, 2, 2, 1, 2, 3, 0, 5, 3, 5, 5, 2, 4,\n",
              "       5, 1, 5, 1, 5, 3, 4, 1, 4, 1, 5, 4, 5, 1, 2, 1, 1, 5, 1, 3, 2, 5,\n",
              "       2, 1, 3, 5, 4, 4, 0, 0, 3, 1, 2, 2, 3, 5, 1, 5, 3, 4, 2, 2, 0, 2,\n",
              "       2, 5, 5, 0, 3, 3, 2, 2, 0, 3, 4, 0, 4, 2, 4, 5, 4, 1, 5, 3, 2, 2,\n",
              "       5, 4, 3, 3, 4, 3, 3, 4, 1, 5, 2, 3, 2, 2, 0, 2, 1, 3, 1, 2, 2, 5,\n",
              "       5, 1, 4, 2, 2, 1, 1, 3, 3, 5, 5, 2, 5, 1, 5, 0, 3, 3, 0, 5, 1, 4,\n",
              "       1, 4, 2, 5, 5, 1, 4, 2, 4])"
            ]
          },
          "metadata": {},
          "execution_count": 21
        }
      ]
    },
    {
      "cell_type": "code",
      "source": [
        "preds1=predictions.argmax(axis=1)\n",
        "preds1"
      ],
      "metadata": {
        "colab": {
          "base_uri": "https://localhost:8080/"
        },
        "id": "4_cAI39VFhtp",
        "outputId": "5068cad6-03a4-4415-a245-b1c2f64bce26"
      },
      "execution_count": 22,
      "outputs": [
        {
          "output_type": "execute_result",
          "data": {
            "text/plain": [
              "array([2, 3, 3, 0, 4, 4, 1, 2, 5, 1, 4, 3, 2, 2, 0, 4, 4, 3, 2, 4, 2, 2,\n",
              "       3, 5, 4, 2, 1, 0, 2, 2, 2, 5, 2, 5, 3, 1, 2, 0, 4, 5, 2, 5, 2, 2,\n",
              "       3, 2, 1, 1, 3, 4, 4, 5, 1, 1, 4, 4, 5, 1, 1, 1, 3, 1, 2, 1, 4, 1,\n",
              "       1, 1, 1, 4, 0, 2, 4, 1, 5, 1, 2, 2, 1, 2, 1, 0, 5, 3, 5, 4, 2, 4,\n",
              "       3, 1, 5, 1, 5, 3, 4, 2, 4, 0, 5, 4, 5, 1, 2, 1, 1, 5, 1, 5, 2, 5,\n",
              "       3, 1, 3, 5, 4, 4, 2, 0, 3, 1, 1, 2, 1, 5, 1, 3, 3, 4, 2, 2, 0, 2,\n",
              "       2, 3, 5, 0, 3, 3, 2, 4, 0, 3, 4, 0, 4, 4, 4, 2, 4, 1, 5, 3, 2, 2,\n",
              "       5, 4, 3, 5, 4, 5, 3, 4, 1, 5, 2, 3, 2, 2, 0, 2, 1, 2, 1, 2, 4, 5,\n",
              "       5, 1, 4, 2, 4, 1, 1, 3, 3, 5, 5, 2, 5, 1, 4, 1, 3, 3, 2, 4, 1, 4,\n",
              "       1, 4, 5, 2, 5, 2, 4, 2, 4])"
            ]
          },
          "metadata": {},
          "execution_count": 22
        }
      ]
    },
    {
      "cell_type": "code",
      "source": [
        "abc = preds1.astype(int).flatten()"
      ],
      "metadata": {
        "id": "H4WEmM60NfQn"
      },
      "execution_count": 23,
      "outputs": []
    },
    {
      "cell_type": "code",
      "source": [
        "from sklearn.metrics import confusion_matrix\n",
        "c = confusion_matrix(new_Ytest, abc) \n",
        "c"
      ],
      "metadata": {
        "colab": {
          "base_uri": "https://localhost:8080/"
        },
        "id": "bKEBeEBlFjB8",
        "outputId": "3e3e77d9-aefd-41c2-da92-0121738ff568"
      },
      "execution_count": 24,
      "outputs": [
        {
          "output_type": "execute_result",
          "data": {
            "text/plain": [
              "array([[ 9,  5,  3,  1,  0,  0],\n",
              "       [ 3, 35,  3,  0,  0,  0],\n",
              "       [ 1,  1, 37,  1,  4,  1],\n",
              "       [ 0,  2,  2, 22,  0,  5],\n",
              "       [ 0,  0,  0,  0, 33,  0],\n",
              "       [ 0,  0,  3,  5,  4, 27]])"
            ]
          },
          "metadata": {},
          "execution_count": 24
        }
      ]
    },
    {
      "cell_type": "code",
      "source": [
        "y_test"
      ],
      "metadata": {
        "colab": {
          "base_uri": "https://localhost:8080/"
        },
        "id": "m4RjG7LWLSQx",
        "outputId": "7073a567-ffe4-4c0e-d20c-ee4728a4e8db"
      },
      "execution_count": 25,
      "outputs": [
        {
          "output_type": "execute_result",
          "data": {
            "text/plain": [
              "array([3, 3, 3, 0, 4, 4, 1, 2, 5, 0, 5, 3, 2, 2, 1, 4, 4, 5, 2, 4, 1, 2,\n",
              "       3, 5, 4, 2, 1, 2, 2, 2, 2, 5, 2, 5, 3, 1, 2, 0, 4, 5, 2, 3, 2, 2,\n",
              "       5, 2, 0, 1, 3, 4, 4, 5, 1, 1, 4, 4, 5, 1, 1, 1, 0, 1, 5, 0, 4, 1,\n",
              "       1, 0, 1, 4, 1, 0, 4, 1, 3, 1, 2, 2, 1, 2, 3, 0, 5, 3, 5, 5, 2, 4,\n",
              "       5, 1, 5, 1, 5, 3, 4, 1, 4, 1, 5, 4, 5, 1, 2, 1, 1, 5, 1, 3, 2, 5,\n",
              "       2, 1, 3, 5, 4, 4, 0, 0, 3, 1, 2, 2, 3, 5, 1, 5, 3, 4, 2, 2, 0, 2,\n",
              "       2, 5, 5, 0, 3, 3, 2, 2, 0, 3, 4, 0, 4, 2, 4, 5, 4, 1, 5, 3, 2, 2,\n",
              "       5, 4, 3, 3, 4, 3, 3, 4, 1, 5, 2, 3, 2, 2, 0, 2, 1, 3, 1, 2, 2, 5,\n",
              "       5, 1, 4, 2, 2, 1, 1, 3, 3, 5, 5, 2, 5, 1, 5, 0, 3, 3, 0, 5, 1, 4,\n",
              "       1, 4, 2, 5, 5, 1, 4, 2, 4])"
            ]
          },
          "metadata": {},
          "execution_count": 25
        }
      ]
    },
    {
      "cell_type": "code",
      "source": [
        "loss, acc =model.evaluate(x_testcnn, y_test)\n",
        "print(\"Restored model, accuracy: {:5.2f}%\".format(100*acc))"
      ],
      "metadata": {
        "colab": {
          "base_uri": "https://localhost:8080/"
        },
        "id": "n3kzoqPkDqqS",
        "outputId": "d423bd78-1696-45bf-845f-46b3cf722d96"
      },
      "execution_count": 26,
      "outputs": [
        {
          "output_type": "stream",
          "name": "stdout",
          "text": [
            "7/7 [==============================] - 0s 3ms/step - loss: 0.5593 - accuracy: 0.7874\n",
            "Restored model, accuracy: 78.74%\n"
          ]
        }
      ]
    },
    {
      "cell_type": "code",
      "source": [
        "loss, acc =model.evaluate(X_train, y_train)\n",
        "print(\"Restored model train, accuracy: {:5.2f}%\".format(100*acc))"
      ],
      "metadata": {
        "id": "fJDTGH_OUX0z",
        "colab": {
          "base_uri": "https://localhost:8080/"
        },
        "outputId": "4fd8db13-6c72-4ffc-97c4-10e2f6928d38"
      },
      "execution_count": 27,
      "outputs": [
        {
          "output_type": "stream",
          "name": "stdout",
          "text": [
            "52/52 [==============================] - 0s 4ms/step - loss: 0.2398 - accuracy: 0.9389\n",
            "Restored model train, accuracy: 93.89%\n"
          ]
        }
      ]
    },
    {
      "cell_type": "code",
      "source": [
        "from sklearn.metrics import classification_report, confusion_matrix,accuracy_score\n",
        "import seaborn as sn\n",
        "\n",
        "print(classification_report(new_Ytest,abc))\n",
        "\n",
        "acc = float(accuracy_score(new_Ytest,abc))*100\n",
        "print(\"----accuracy score %s ----\" % acc)\n",
        "\n",
        "cm = confusion_matrix(new_Ytest,abc)\n",
        "#df_cm = pd.DataFrame(cm)\n",
        "class_names = ['neutral','calm', 'happy','sad','angry', 'fearful' ]\n",
        "df_cm = pd.DataFrame(cm, index=class_names, columns=class_names,)\n",
        "sn.heatmap(df_cm, annot=True, fmt='')\n",
        "plt.show()"
      ],
      "metadata": {
        "colab": {
          "base_uri": "https://localhost:8080/",
          "height": 508
        },
        "id": "SfSC3El94LZg",
        "outputId": "8b82322c-378b-4c7c-83f9-559c27256e44"
      },
      "execution_count": 28,
      "outputs": [
        {
          "output_type": "stream",
          "name": "stdout",
          "text": [
            "              precision    recall  f1-score   support\n",
            "\n",
            "           0       0.69      0.50      0.58        18\n",
            "           1       0.81      0.85      0.83        41\n",
            "           2       0.77      0.82      0.80        45\n",
            "           3       0.76      0.71      0.73        31\n",
            "           4       0.80      1.00      0.89        33\n",
            "           5       0.82      0.69      0.75        39\n",
            "\n",
            "    accuracy                           0.79       207\n",
            "   macro avg       0.78      0.76      0.76       207\n",
            "weighted avg       0.79      0.79      0.78       207\n",
            "\n",
            "----accuracy score 78.74396135265701 ----\n"
          ]
        },
        {
          "output_type": "display_data",
          "data": {
            "text/plain": [
              "<Figure size 432x288 with 2 Axes>"
            ],
            "image/png": "[encoded data removed]"
          },
          "metadata": {
            "needs_background": "light"
          }
        }
      ]
    }
  ]
}