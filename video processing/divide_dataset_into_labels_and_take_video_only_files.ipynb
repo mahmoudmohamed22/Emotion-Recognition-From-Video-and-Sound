{
  "nbformat": 4,
  "nbformat_minor": 0,
  "metadata": {
    "colab": {
      "name": "divide dataset into labels and take video only files.ipynb",
      "provenance": []
    },
    "kernelspec": {
      "name": "python3",
      "display_name": "Python 3"
    },
    "language_info": {
      "name": "python"
    }
  },
  "cells": [
    {
      "cell_type": "code",
      "execution_count": 10,
      "metadata": {
        "colab": {
          "base_uri": "https://localhost:8080/"
        },
        "id": "DV0tVFwrug2-",
        "outputId": "a1f114b0-556f-4cf4-ae1d-5af2bd536168"
      },
      "outputs": [
        {
          "output_type": "stream",
          "name": "stdout",
          "text": [
            "/content/drive/MyDrive/video_song\n",
            "/content/drive/MyDrive/video_song/Actor_01\n",
            "/content/drive/MyDrive/video_song/Actor_11\n",
            "/content/drive/MyDrive/video_song/Actor_06\n",
            "/content/drive/MyDrive/video_song/Actor_02\n",
            "/content/drive/MyDrive/video_song/Actor_07\n",
            "/content/drive/MyDrive/video_song/Actor_24\n",
            "/content/drive/MyDrive/video_song/Actor_03\n",
            "/content/drive/MyDrive/video_song/Actor_08\n",
            "/content/drive/MyDrive/video_song/Actor_04\n",
            "/content/drive/MyDrive/video_song/Actor_21\n",
            "/content/drive/MyDrive/video_song/Actor_09\n",
            "/content/drive/MyDrive/video_song/Actor_05\n",
            "/content/drive/MyDrive/video_song/Actor_10\n",
            "/content/drive/MyDrive/video_song/Actor_22\n",
            "/content/drive/MyDrive/video_song/Actor_23\n",
            "/content/drive/MyDrive/video_song/Actor_12\n",
            "/content/drive/MyDrive/video_song/Actor_16\n",
            "/content/drive/MyDrive/video_song/Actor_17\n",
            "/content/drive/MyDrive/video_song/Actor_19\n",
            "/content/drive/MyDrive/video_song/Actor_20\n",
            "/content/drive/MyDrive/video_song/Actor_13\n",
            "/content/drive/MyDrive/video_song/Actor_15\n",
            "/content/drive/MyDrive/video_song/Actor_14\n",
            "1012\n"
          ]
        }
      ],
      "source": [
        "import shutil\n",
        "import time\n",
        "import os\n",
        "import librosa\n",
        "from librosa import display\n",
        "import matplotlib.pyplot as plt\n",
        "\n",
        "count=0\n",
        "\n",
        "path1='/content/drive/MyDrive/video_song'\n",
        "\n",
        "for subdir, dirs, files in os.walk(path1):\n",
        " \n",
        "  print(subdir)\n",
        "  for file in files:\n",
        "      l=int(file[1:2])\n",
        "      if(l==2):\n",
        "      \n",
        "          emo = int(file[7:8]) - 1 \n",
        "          if(emo==6 or emo==7):\n",
        "            continue\n",
        "          if(emo==0):\n",
        "            newf=subdir+'/'+file\n",
        "            shutil.copyfile(newf,('/content/drive/MyDrive/videospeechsong_label/neutral/'+file))\n",
        "            count=count+1\n",
        "            \n",
        "          if(emo==1):\n",
        "            newf=subdir+'/'+file\n",
        "            shutil.copyfile(newf,('/content/drive/MyDrive/videospeechsong_label/calm/'+file))\n",
        "            count=count+1\n",
        "\n",
        "          if(emo==2):\n",
        "            newf=subdir+'/'+file\n",
        "            shutil.copyfile(newf,('/content/drive/MyDrive/videospeechsong_label/happy/'+file))\n",
        "            count=count+1\n",
        "          \n",
        "          if(emo==3):\n",
        "            newf=subdir+'/'+file\n",
        "            shutil.copyfile(newf,('/content/drive/MyDrive/videospeechsong_label/sad/'+file))\n",
        "            count=count+1\n",
        "          \n",
        "          if(emo==4):\n",
        "            newf=subdir+'/'+file\n",
        "            shutil.copyfile(newf,('/content/drive/MyDrive/videospeechsong_label/angry/'+file))\n",
        "            count=count+1\n",
        "          \n",
        "          if(emo==5):\n",
        "            newf=subdir+'/'+file\n",
        "            shutil.copyfile(newf,('/content/drive/MyDrive/videospeechsong_label/fearful/'+file))\n",
        "            count=count+1\n",
        "        \n",
        "\n",
        "\n",
        "print(count)\n",
        "    \n",
        "        \n",
        "        \n",
        "      # If the file is not valid, skip it\n",
        "     "
      ]
    }
  ]
}