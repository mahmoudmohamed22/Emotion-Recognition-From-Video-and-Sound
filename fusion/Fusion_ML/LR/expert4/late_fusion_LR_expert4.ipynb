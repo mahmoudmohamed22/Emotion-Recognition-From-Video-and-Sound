{
  "nbformat": 4,
  "nbformat_minor": 0,
  "metadata": {
    "colab": {
      "name": "late_fusion_LR_expert4.ipynb",
      "provenance": [],
      "collapsed_sections": []
    },
    "kernelspec": {
      "name": "python3",
      "display_name": "Python 3"
    },
    "language_info": {
      "name": "python"
    }
  },
  "cells": [
    {
      "cell_type": "code",
      "source": [
        "# stacked generalization with linear meta model on blobs dataset\n",
        "from sklearn.metrics import accuracy_score\n",
        "from sklearn.linear_model import LogisticRegression\n",
        "from matplotlib import pyplot\n"
      ],
      "metadata": {
        "id": "XQj4f23-Ix-w"
      },
      "execution_count": 1,
      "outputs": []
    },
    {
      "cell_type": "code",
      "source": [
        "from google.colab import drive\n",
        "drive.mount('/content/drive')"
      ],
      "metadata": {
        "colab": {
          "base_uri": "https://localhost:8080/"
        },
        "id": "qj9wMQtlI1os",
        "outputId": "a9c7d749-b5f1-4d82-b9f0-3bc90f5d81f5"
      },
      "execution_count": 2,
      "outputs": [
        {
          "output_type": "stream",
          "name": "stdout",
          "text": [
            "Drive already mounted at /content/drive; to attempt to forcibly remount, call drive.mount(\"/content/drive\", force_remount=True).\n"
          ]
        }
      ]
    },
    {
      "cell_type": "code",
      "source": [
        "#x_train  y_train to train\n",
        "#x_test   y_test to test\n",
        "#x_valid  y_valid \n",
        "#video\n",
        "import joblib\n",
        "x_test_prediction = joblib.load('/content/drive/My Drive/fusion/video/data_set_fusion/expert4/test/pred_test')\n",
        "x_train_prediction = joblib.load('/content/drive/My Drive/fusion/video/data_set_fusion/expert4/train/pred_train')\n",
        "x_valid_prediction = joblib.load('/content/drive/My Drive/fusion/video/data_set_fusion/expert4/valid/pred_valid')\n",
        "y_test = joblib.load('/content/drive/My Drive/fusion/video/data_set_fusion/expert4/test/labels_test')\n",
        "y_train = joblib.load('/content/drive/My Drive/fusion/video/data_set_fusion/expert4/train/labels_train')\n",
        "y_valid = joblib.load('/content/drive/My Drive/fusion/video/data_set_fusion/expert4/valid/labels_valid')\n",
        "#audio\n",
        "\n",
        "x_audio_test_prediction = joblib.load('/content/drive/My Drive/fusion/audio/new_data_set_fusion/expert4/test/predict_test')\n",
        "x_audio_train_prediction = joblib.load('/content/drive/My Drive/fusion/audio/new_data_set_fusion/expert4/train/predict_train')\n",
        "x_audio_valid_prediction = joblib.load('/content/drive/My Drive/fusion/audio/new_data_set_fusion/expert4/valid/predict_valid')\n",
        "\"\"\"\n",
        "#samples name\n",
        "test_videos= joblib.load('/content/drive/My Drive/fusion/video/data_set_fusion/expert1/test/video_test_path')\n",
        "train_videos = joblib.load('/content/drive/My Drive/fusion/video/data_set_fusion/expert1/train/video_train_path')\n",
        "valid_videos = joblib.load('/content/drive/My Drive/fusion/video/data_set_fusion/expert1/valid/video_valid_path')\n",
        "\"\"\""
      ],
      "metadata": {
        "id": "gb8C-44ct_Yp",
        "colab": {
          "base_uri": "https://localhost:8080/",
          "height": 53
        },
        "outputId": "e31b6b59-8870-4811-9e87-9a49719c5ba7"
      },
      "execution_count": 3,
      "outputs": [
        {
          "output_type": "execute_result",
          "data": {
            "text/plain": [
              "\"\\n#samples name\\ntest_videos= joblib.load('/content/drive/My Drive/fusion/video/data_set_fusion/expert1/test/video_test_path')\\ntrain_videos = joblib.load('/content/drive/My Drive/fusion/video/data_set_fusion/expert1/train/video_train_path')\\nvalid_videos = joblib.load('/content/drive/My Drive/fusion/video/data_set_fusion/expert1/valid/video_valid_path')\\n\""
            ],
            "application/vnd.google.colaboratory.intrinsic+json": {
              "type": "string"
            }
          },
          "metadata": {},
          "execution_count": 3
        }
      ]
    },
    {
      "cell_type": "code",
      "source": [
        "len(x_test_prediction),len(x_train_prediction),len(x_audio_test_prediction),len(x_audio_train_prediction),len(x_valid_prediction),len(x_audio_valid_prediction)"
      ],
      "metadata": {
        "colab": {
          "base_uri": "https://localhost:8080/"
        },
        "id": "Qz1Z3Vgdxaaw",
        "outputId": "7f39d2d8-985f-4eb7-bdd1-f24773c74296"
      },
      "execution_count": 4,
      "outputs": [
        {
          "output_type": "execute_result",
          "data": {
            "text/plain": [
              "(207, 1653, 207, 1653, 207, 207)"
            ]
          },
          "metadata": {},
          "execution_count": 4
        }
      ]
    },
    {
      "cell_type": "code",
      "source": [
        "#x_train for video\n",
        "x_train_prediction=x_train_prediction.append(x_valid_prediction,ignore_index = True)\n",
        "#x_train for audio\n",
        "x_audio_train_prediction=x_audio_train_prediction.append(x_audio_valid_prediction,ignore_index = True)"
      ],
      "metadata": {
        "id": "QgDf-FF0utgP"
      },
      "execution_count": 5,
      "outputs": []
    },
    {
      "cell_type": "code",
      "source": [
        "len(x_audio_train_prediction),len(x_train_prediction)"
      ],
      "metadata": {
        "colab": {
          "base_uri": "https://localhost:8080/"
        },
        "id": "3G4-X-MLv79s",
        "outputId": "5c2c5eca-4318-498e-bc2b-599d006f9110"
      },
      "execution_count": 6,
      "outputs": [
        {
          "output_type": "execute_result",
          "data": {
            "text/plain": [
              "(1860, 1860)"
            ]
          },
          "metadata": {},
          "execution_count": 6
        }
      ]
    },
    {
      "cell_type": "code",
      "source": [
        "from pandas.core.frame import DataFrame\n",
        "df_train=DataFrame(y_train,columns=['labels'])\n",
        "df_valid=DataFrame(y_valid,columns=['labels'])"
      ],
      "metadata": {
        "id": "JrYaQCyZw06M"
      },
      "execution_count": 7,
      "outputs": []
    },
    {
      "cell_type": "code",
      "source": [
        "df_train=df_train.append(df_valid,ignore_index = True)"
      ],
      "metadata": {
        "id": "Rq3yhw26xjfy"
      },
      "execution_count": 8,
      "outputs": []
    },
    {
      "cell_type": "code",
      "source": [
        "len(df_train)"
      ],
      "metadata": {
        "colab": {
          "base_uri": "https://localhost:8080/"
        },
        "id": "dvYKmNurx1KR",
        "outputId": "d9e59e1e-ad1d-4b73-96bd-78bc546b21c8"
      },
      "execution_count": 9,
      "outputs": [
        {
          "output_type": "execute_result",
          "data": {
            "text/plain": [
              "1860"
            ]
          },
          "metadata": {},
          "execution_count": 9
        }
      ]
    },
    {
      "cell_type": "code",
      "source": [
        "df_train"
      ],
      "metadata": {
        "colab": {
          "base_uri": "https://localhost:8080/",
          "height": 424
        },
        "id": "Pfp2YX591X1F",
        "outputId": "aca252c5-5e40-4a4a-bf96-e17bc824a920"
      },
      "execution_count": 10,
      "outputs": [
        {
          "output_type": "execute_result",
          "data": {
            "text/plain": [
              "      labels\n",
              "0          3\n",
              "1          4\n",
              "2          5\n",
              "3          3\n",
              "4          5\n",
              "...      ...\n",
              "1855       4\n",
              "1856       3\n",
              "1857       5\n",
              "1858       5\n",
              "1859       5\n",
              "\n",
              "[1860 rows x 1 columns]"
            ],
            "text/html": [
              "\n",
              "  <div id=\"df-e4fa49a0-b78c-4336-b9fb-40f8667ce5c0\">\n",
              "    <div class=\"colab-df-container\">\n",
              "      <div>\n",
              "<style scoped>\n",
              "    .dataframe tbody tr th:only-of-type {\n",
              "        vertical-align: middle;\n",
              "    }\n",
              "\n",
              "    .dataframe tbody tr th {\n",
              "        vertical-align: top;\n",
              "    }\n",
              "\n",
              "    .dataframe thead th {\n",
              "        text-align: right;\n",
              "    }\n",
              "</style>\n",
              "<table border=\"1\" class=\"dataframe\">\n",
              "  <thead>\n",
              "    <tr style=\"text-align: right;\">\n",
              "      <th></th>\n",
              "      <th>labels</th>\n",
              "    </tr>\n",
              "  </thead>\n",
              "  <tbody>\n",
              "    <tr>\n",
              "      <th>0</th>\n",
              "      <td>3</td>\n",
              "    </tr>\n",
              "    <tr>\n",
              "      <th>1</th>\n",
              "      <td>4</td>\n",
              "    </tr>\n",
              "    <tr>\n",
              "      <th>2</th>\n",
              "      <td>5</td>\n",
              "    </tr>\n",
              "    <tr>\n",
              "      <th>3</th>\n",
              "      <td>3</td>\n",
              "    </tr>\n",
              "    <tr>\n",
              "      <th>4</th>\n",
              "      <td>5</td>\n",
              "    </tr>\n",
              "    <tr>\n",
              "      <th>...</th>\n",
              "      <td>...</td>\n",
              "    </tr>\n",
              "    <tr>\n",
              "      <th>1855</th>\n",
              "      <td>4</td>\n",
              "    </tr>\n",
              "    <tr>\n",
              "      <th>1856</th>\n",
              "      <td>3</td>\n",
              "    </tr>\n",
              "    <tr>\n",
              "      <th>1857</th>\n",
              "      <td>5</td>\n",
              "    </tr>\n",
              "    <tr>\n",
              "      <th>1858</th>\n",
              "      <td>5</td>\n",
              "    </tr>\n",
              "    <tr>\n",
              "      <th>1859</th>\n",
              "      <td>5</td>\n",
              "    </tr>\n",
              "  </tbody>\n",
              "</table>\n",
              "<p>1860 rows × 1 columns</p>\n",
              "</div>\n",
              "      <button class=\"colab-df-convert\" onclick=\"convertToInteractive('df-e4fa49a0-b78c-4336-b9fb-40f8667ce5c0')\"\n",
              "              title=\"Convert this dataframe to an interactive table.\"\n",
              "              style=\"display:none;\">\n",
              "        \n",
              "  <svg xmlns=\"http://www.w3.org/2000/svg\" height=\"24px\"viewBox=\"0 0 24 24\"\n",
              "       width=\"24px\">\n",
              "    <path d=\"M0 0h24v24H0V0z\" fill=\"none\"/>\n",
              "    <path d=\"M18.56 5.44l.94 2.06.94-2.06 2.06-.94-2.06-.94-.94-2.06-.94 2.06-2.06.94zm-11 1L8.5 8.5l.94-2.06 2.06-.94-2.06-.94L8.5 2.5l-.94 2.06-2.06.94zm10 10l.94 2.06.94-2.06 2.06-.94-2.06-.94-.94-2.06-.94 2.06-2.06.94z\"/><path d=\"M17.41 7.96l-1.37-1.37c-.4-.4-.92-.59-1.43-.59-.52 0-1.04.2-1.43.59L10.3 9.45l-7.72 7.72c-.78.78-.78 2.05 0 2.83L4 21.41c.39.39.9.59 1.41.59.51 0 1.02-.2 1.41-.59l7.78-7.78 2.81-2.81c.8-.78.8-2.07 0-2.86zM5.41 20L4 18.59l7.72-7.72 1.47 1.35L5.41 20z\"/>\n",
              "  </svg>\n",
              "      </button>\n",
              "      \n",
              "  <style>\n",
              "    .colab-df-container {\n",
              "      display:flex;\n",
              "      flex-wrap:wrap;\n",
              "      gap: 12px;\n",
              "    }\n",
              "\n",
              "    .colab-df-convert {\n",
              "      background-color: #E8F0FE;\n",
              "      border: none;\n",
              "      border-radius: 50%;\n",
              "      cursor: pointer;\n",
              "      display: none;\n",
              "      fill: #1967D2;\n",
              "      height: 32px;\n",
              "      padding: 0 0 0 0;\n",
              "      width: 32px;\n",
              "    }\n",
              "\n",
              "    .colab-df-convert:hover {\n",
              "      background-color: #E2EBFA;\n",
              "      box-shadow: 0px 1px 2px rgba(60, 64, 67, 0.3), 0px 1px 3px 1px rgba(60, 64, 67, 0.15);\n",
              "      fill: #174EA6;\n",
              "    }\n",
              "\n",
              "    [theme=dark] .colab-df-convert {\n",
              "      background-color: #3B4455;\n",
              "      fill: #D2E3FC;\n",
              "    }\n",
              "\n",
              "    [theme=dark] .colab-df-convert:hover {\n",
              "      background-color: #434B5C;\n",
              "      box-shadow: 0px 1px 3px 1px rgba(0, 0, 0, 0.15);\n",
              "      filter: drop-shadow(0px 1px 2px rgba(0, 0, 0, 0.3));\n",
              "      fill: #FFFFFF;\n",
              "    }\n",
              "  </style>\n",
              "\n",
              "      <script>\n",
              "        const buttonEl =\n",
              "          document.querySelector('#df-e4fa49a0-b78c-4336-b9fb-40f8667ce5c0 button.colab-df-convert');\n",
              "        buttonEl.style.display =\n",
              "          google.colab.kernel.accessAllowed ? 'block' : 'none';\n",
              "\n",
              "        async function convertToInteractive(key) {\n",
              "          const element = document.querySelector('#df-e4fa49a0-b78c-4336-b9fb-40f8667ce5c0');\n",
              "          const dataTable =\n",
              "            await google.colab.kernel.invokeFunction('convertToInteractive',\n",
              "                                                     [key], {});\n",
              "          if (!dataTable) return;\n",
              "\n",
              "          const docLinkHtml = 'Like what you see? Visit the ' +\n",
              "            '<a target=\"_blank\" href=https://colab.research.google.com/notebooks/data_table.ipynb>data table notebook</a>'\n",
              "            + ' to learn more about interactive tables.';\n",
              "          element.innerHTML = '';\n",
              "          dataTable['output_type'] = 'display_data';\n",
              "          await google.colab.output.renderOutput(dataTable, element);\n",
              "          const docLink = document.createElement('div');\n",
              "          docLink.innerHTML = docLinkHtml;\n",
              "          element.appendChild(docLink);\n",
              "        }\n",
              "      </script>\n",
              "    </div>\n",
              "  </div>\n",
              "  "
            ]
          },
          "metadata": {},
          "execution_count": 10
        }
      ]
    },
    {
      "cell_type": "code",
      "source": [
        "import pandas as pd\n",
        "\n",
        "x_train = pd.concat([x_train_prediction, x_audio_train_prediction], axis=1,join='inner')\n",
        "x_test =  pd.concat([x_test_prediction, x_audio_test_prediction], axis=1,join='inner')"
      ],
      "metadata": {
        "id": "sbkgIXaFwKwh"
      },
      "execution_count": 11,
      "outputs": []
    },
    {
      "cell_type": "code",
      "source": [
        "x_test"
      ],
      "metadata": {
        "colab": {
          "base_uri": "https://localhost:8080/",
          "height": 424
        },
        "id": "78gEQ1w7w_fd",
        "outputId": "deb946f1-f35c-4a0f-c931-bb72558cafe5"
      },
      "execution_count": 12,
      "outputs": [
        {
          "output_type": "execute_result",
          "data": {
            "text/plain": [
              "             OV_0      OV_1          OV_2      OV_3          OV_4      OV_5  \\\n",
              "0    4.600655e-06  0.000157  9.997899e-01  0.000012  1.032134e-06  0.000035   \n",
              "1    4.257174e-06  0.000003  8.445079e-06  0.005218  9.794852e-05  0.994668   \n",
              "2    1.291070e-06  0.000097  9.998935e-01  0.000002  1.729752e-07  0.000006   \n",
              "3    1.267258e-06  0.000001  1.642191e-05  0.000334  1.060658e-04  0.999541   \n",
              "4    5.767955e-05  0.999416  1.630818e-04  0.000330  3.037682e-05  0.000002   \n",
              "..            ...       ...           ...       ...           ...       ...   \n",
              "202  9.926456e-01  0.002794  1.416627e-06  0.004482  1.063430e-05  0.000067   \n",
              "203  9.668189e-01  0.004124  1.504883e-06  0.028835  3.340599e-05  0.000186   \n",
              "204  6.655590e-07  0.000033  1.857604e-07  0.000006  9.999404e-01  0.000019   \n",
              "205  3.019764e-07  0.000008  2.230916e-06  0.000057  9.993665e-01  0.000566   \n",
              "206  8.268742e-07  0.000001  1.297933e-05  0.000576  7.483098e-05  0.999335   \n",
              "\n",
              "             OA_0          OA_1          OA_2          OA_3          OA_4  \\\n",
              "0    9.054683e-07  9.213522e-11  6.929899e-01  1.326010e-04  2.952529e-01   \n",
              "1    2.149902e-08  7.843706e-07  9.558252e-06  9.528995e-07  4.035396e-07   \n",
              "2    2.463840e-07  1.604680e-05  9.492878e-01  1.498522e-04  1.817268e-04   \n",
              "3    2.476359e-12  3.181673e-20  1.301923e-09  9.551988e-09  1.599870e-07   \n",
              "4    1.207815e-14  1.000000e+00  1.163998e-08  3.423513e-15  1.462046e-12   \n",
              "..            ...           ...           ...           ...           ...   \n",
              "202  6.620331e-01  3.090378e-01  8.573449e-05  1.363977e-02  1.499404e-02   \n",
              "203  9.956704e-01  3.310483e-04  2.700433e-03  1.152585e-03  1.331307e-04   \n",
              "204  1.291904e-11  1.270171e-13  2.590350e-08  2.695536e-09  9.998796e-01   \n",
              "205  3.476416e-12  6.823733e-11  9.893400e-01  2.912820e-09  1.065918e-02   \n",
              "206  6.625219e-12  6.710625e-14  3.516151e-03  9.374920e-08  1.076356e-03   \n",
              "\n",
              "             OA_5  \n",
              "0    1.162368e-02  \n",
              "1    9.999883e-01  \n",
              "2    5.036429e-02  \n",
              "3    9.999999e-01  \n",
              "4    5.542384e-16  \n",
              "..            ...  \n",
              "202  2.095360e-04  \n",
              "203  1.232870e-05  \n",
              "204  1.203977e-04  \n",
              "205  7.683245e-07  \n",
              "206  9.954074e-01  \n",
              "\n",
              "[207 rows x 12 columns]"
            ],
            "text/html": [
              "\n",
              "  <div id=\"df-cda3438b-b85d-43e1-9f76-de4364a34678\">\n",
              "    <div class=\"colab-df-container\">\n",
              "      <div>\n",
              "<style scoped>\n",
              "    .dataframe tbody tr th:only-of-type {\n",
              "        vertical-align: middle;\n",
              "    }\n",
              "\n",
              "    .dataframe tbody tr th {\n",
              "        vertical-align: top;\n",
              "    }\n",
              "\n",
              "    .dataframe thead th {\n",
              "        text-align: right;\n",
              "    }\n",
              "</style>\n",
              "<table border=\"1\" class=\"dataframe\">\n",
              "  <thead>\n",
              "    <tr style=\"text-align: right;\">\n",
              "      <th></th>\n",
              "      <th>OV_0</th>\n",
              "      <th>OV_1</th>\n",
              "      <th>OV_2</th>\n",
              "      <th>OV_3</th>\n",
              "      <th>OV_4</th>\n",
              "      <th>OV_5</th>\n",
              "      <th>OA_0</th>\n",
              "      <th>OA_1</th>\n",
              "      <th>OA_2</th>\n",
              "      <th>OA_3</th>\n",
              "      <th>OA_4</th>\n",
              "      <th>OA_5</th>\n",
              "    </tr>\n",
              "  </thead>\n",
              "  <tbody>\n",
              "    <tr>\n",
              "      <th>0</th>\n",
              "      <td>4.600655e-06</td>\n",
              "      <td>0.000157</td>\n",
              "      <td>9.997899e-01</td>\n",
              "      <td>0.000012</td>\n",
              "      <td>1.032134e-06</td>\n",
              "      <td>0.000035</td>\n",
              "      <td>9.054683e-07</td>\n",
              "      <td>9.213522e-11</td>\n",
              "      <td>6.929899e-01</td>\n",
              "      <td>1.326010e-04</td>\n",
              "      <td>2.952529e-01</td>\n",
              "      <td>1.162368e-02</td>\n",
              "    </tr>\n",
              "    <tr>\n",
              "      <th>1</th>\n",
              "      <td>4.257174e-06</td>\n",
              "      <td>0.000003</td>\n",
              "      <td>8.445079e-06</td>\n",
              "      <td>0.005218</td>\n",
              "      <td>9.794852e-05</td>\n",
              "      <td>0.994668</td>\n",
              "      <td>2.149902e-08</td>\n",
              "      <td>7.843706e-07</td>\n",
              "      <td>9.558252e-06</td>\n",
              "      <td>9.528995e-07</td>\n",
              "      <td>4.035396e-07</td>\n",
              "      <td>9.999883e-01</td>\n",
              "    </tr>\n",
              "    <tr>\n",
              "      <th>2</th>\n",
              "      <td>1.291070e-06</td>\n",
              "      <td>0.000097</td>\n",
              "      <td>9.998935e-01</td>\n",
              "      <td>0.000002</td>\n",
              "      <td>1.729752e-07</td>\n",
              "      <td>0.000006</td>\n",
              "      <td>2.463840e-07</td>\n",
              "      <td>1.604680e-05</td>\n",
              "      <td>9.492878e-01</td>\n",
              "      <td>1.498522e-04</td>\n",
              "      <td>1.817268e-04</td>\n",
              "      <td>5.036429e-02</td>\n",
              "    </tr>\n",
              "    <tr>\n",
              "      <th>3</th>\n",
              "      <td>1.267258e-06</td>\n",
              "      <td>0.000001</td>\n",
              "      <td>1.642191e-05</td>\n",
              "      <td>0.000334</td>\n",
              "      <td>1.060658e-04</td>\n",
              "      <td>0.999541</td>\n",
              "      <td>2.476359e-12</td>\n",
              "      <td>3.181673e-20</td>\n",
              "      <td>1.301923e-09</td>\n",
              "      <td>9.551988e-09</td>\n",
              "      <td>1.599870e-07</td>\n",
              "      <td>9.999999e-01</td>\n",
              "    </tr>\n",
              "    <tr>\n",
              "      <th>4</th>\n",
              "      <td>5.767955e-05</td>\n",
              "      <td>0.999416</td>\n",
              "      <td>1.630818e-04</td>\n",
              "      <td>0.000330</td>\n",
              "      <td>3.037682e-05</td>\n",
              "      <td>0.000002</td>\n",
              "      <td>1.207815e-14</td>\n",
              "      <td>1.000000e+00</td>\n",
              "      <td>1.163998e-08</td>\n",
              "      <td>3.423513e-15</td>\n",
              "      <td>1.462046e-12</td>\n",
              "      <td>5.542384e-16</td>\n",
              "    </tr>\n",
              "    <tr>\n",
              "      <th>...</th>\n",
              "      <td>...</td>\n",
              "      <td>...</td>\n",
              "      <td>...</td>\n",
              "      <td>...</td>\n",
              "      <td>...</td>\n",
              "      <td>...</td>\n",
              "      <td>...</td>\n",
              "      <td>...</td>\n",
              "      <td>...</td>\n",
              "      <td>...</td>\n",
              "      <td>...</td>\n",
              "      <td>...</td>\n",
              "    </tr>\n",
              "    <tr>\n",
              "      <th>202</th>\n",
              "      <td>9.926456e-01</td>\n",
              "      <td>0.002794</td>\n",
              "      <td>1.416627e-06</td>\n",
              "      <td>0.004482</td>\n",
              "      <td>1.063430e-05</td>\n",
              "      <td>0.000067</td>\n",
              "      <td>6.620331e-01</td>\n",
              "      <td>3.090378e-01</td>\n",
              "      <td>8.573449e-05</td>\n",
              "      <td>1.363977e-02</td>\n",
              "      <td>1.499404e-02</td>\n",
              "      <td>2.095360e-04</td>\n",
              "    </tr>\n",
              "    <tr>\n",
              "      <th>203</th>\n",
              "      <td>9.668189e-01</td>\n",
              "      <td>0.004124</td>\n",
              "      <td>1.504883e-06</td>\n",
              "      <td>0.028835</td>\n",
              "      <td>3.340599e-05</td>\n",
              "      <td>0.000186</td>\n",
              "      <td>9.956704e-01</td>\n",
              "      <td>3.310483e-04</td>\n",
              "      <td>2.700433e-03</td>\n",
              "      <td>1.152585e-03</td>\n",
              "      <td>1.331307e-04</td>\n",
              "      <td>1.232870e-05</td>\n",
              "    </tr>\n",
              "    <tr>\n",
              "      <th>204</th>\n",
              "      <td>6.655590e-07</td>\n",
              "      <td>0.000033</td>\n",
              "      <td>1.857604e-07</td>\n",
              "      <td>0.000006</td>\n",
              "      <td>9.999404e-01</td>\n",
              "      <td>0.000019</td>\n",
              "      <td>1.291904e-11</td>\n",
              "      <td>1.270171e-13</td>\n",
              "      <td>2.590350e-08</td>\n",
              "      <td>2.695536e-09</td>\n",
              "      <td>9.998796e-01</td>\n",
              "      <td>1.203977e-04</td>\n",
              "    </tr>\n",
              "    <tr>\n",
              "      <th>205</th>\n",
              "      <td>3.019764e-07</td>\n",
              "      <td>0.000008</td>\n",
              "      <td>2.230916e-06</td>\n",
              "      <td>0.000057</td>\n",
              "      <td>9.993665e-01</td>\n",
              "      <td>0.000566</td>\n",
              "      <td>3.476416e-12</td>\n",
              "      <td>6.823733e-11</td>\n",
              "      <td>9.893400e-01</td>\n",
              "      <td>2.912820e-09</td>\n",
              "      <td>1.065918e-02</td>\n",
              "      <td>7.683245e-07</td>\n",
              "    </tr>\n",
              "    <tr>\n",
              "      <th>206</th>\n",
              "      <td>8.268742e-07</td>\n",
              "      <td>0.000001</td>\n",
              "      <td>1.297933e-05</td>\n",
              "      <td>0.000576</td>\n",
              "      <td>7.483098e-05</td>\n",
              "      <td>0.999335</td>\n",
              "      <td>6.625219e-12</td>\n",
              "      <td>6.710625e-14</td>\n",
              "      <td>3.516151e-03</td>\n",
              "      <td>9.374920e-08</td>\n",
              "      <td>1.076356e-03</td>\n",
              "      <td>9.954074e-01</td>\n",
              "    </tr>\n",
              "  </tbody>\n",
              "</table>\n",
              "<p>207 rows × 12 columns</p>\n",
              "</div>\n",
              "      <button class=\"colab-df-convert\" onclick=\"convertToInteractive('df-cda3438b-b85d-43e1-9f76-de4364a34678')\"\n",
              "              title=\"Convert this dataframe to an interactive table.\"\n",
              "              style=\"display:none;\">\n",
              "        \n",
              "  <svg xmlns=\"http://www.w3.org/2000/svg\" height=\"24px\"viewBox=\"0 0 24 24\"\n",
              "       width=\"24px\">\n",
              "    <path d=\"M0 0h24v24H0V0z\" fill=\"none\"/>\n",
              "    <path d=\"M18.56 5.44l.94 2.06.94-2.06 2.06-.94-2.06-.94-.94-2.06-.94 2.06-2.06.94zm-11 1L8.5 8.5l.94-2.06 2.06-.94-2.06-.94L8.5 2.5l-.94 2.06-2.06.94zm10 10l.94 2.06.94-2.06 2.06-.94-2.06-.94-.94-2.06-.94 2.06-2.06.94z\"/><path d=\"M17.41 7.96l-1.37-1.37c-.4-.4-.92-.59-1.43-.59-.52 0-1.04.2-1.43.59L10.3 9.45l-7.72 7.72c-.78.78-.78 2.05 0 2.83L4 21.41c.39.39.9.59 1.41.59.51 0 1.02-.2 1.41-.59l7.78-7.78 2.81-2.81c.8-.78.8-2.07 0-2.86zM5.41 20L4 18.59l7.72-7.72 1.47 1.35L5.41 20z\"/>\n",
              "  </svg>\n",
              "      </button>\n",
              "      \n",
              "  <style>\n",
              "    .colab-df-container {\n",
              "      display:flex;\n",
              "      flex-wrap:wrap;\n",
              "      gap: 12px;\n",
              "    }\n",
              "\n",
              "    .colab-df-convert {\n",
              "      background-color: #E8F0FE;\n",
              "      border: none;\n",
              "      border-radius: 50%;\n",
              "      cursor: pointer;\n",
              "      display: none;\n",
              "      fill: #1967D2;\n",
              "      height: 32px;\n",
              "      padding: 0 0 0 0;\n",
              "      width: 32px;\n",
              "    }\n",
              "\n",
              "    .colab-df-convert:hover {\n",
              "      background-color: #E2EBFA;\n",
              "      box-shadow: 0px 1px 2px rgba(60, 64, 67, 0.3), 0px 1px 3px 1px rgba(60, 64, 67, 0.15);\n",
              "      fill: #174EA6;\n",
              "    }\n",
              "\n",
              "    [theme=dark] .colab-df-convert {\n",
              "      background-color: #3B4455;\n",
              "      fill: #D2E3FC;\n",
              "    }\n",
              "\n",
              "    [theme=dark] .colab-df-convert:hover {\n",
              "      background-color: #434B5C;\n",
              "      box-shadow: 0px 1px 3px 1px rgba(0, 0, 0, 0.15);\n",
              "      filter: drop-shadow(0px 1px 2px rgba(0, 0, 0, 0.3));\n",
              "      fill: #FFFFFF;\n",
              "    }\n",
              "  </style>\n",
              "\n",
              "      <script>\n",
              "        const buttonEl =\n",
              "          document.querySelector('#df-cda3438b-b85d-43e1-9f76-de4364a34678 button.colab-df-convert');\n",
              "        buttonEl.style.display =\n",
              "          google.colab.kernel.accessAllowed ? 'block' : 'none';\n",
              "\n",
              "        async function convertToInteractive(key) {\n",
              "          const element = document.querySelector('#df-cda3438b-b85d-43e1-9f76-de4364a34678');\n",
              "          const dataTable =\n",
              "            await google.colab.kernel.invokeFunction('convertToInteractive',\n",
              "                                                     [key], {});\n",
              "          if (!dataTable) return;\n",
              "\n",
              "          const docLinkHtml = 'Like what you see? Visit the ' +\n",
              "            '<a target=\"_blank\" href=https://colab.research.google.com/notebooks/data_table.ipynb>data table notebook</a>'\n",
              "            + ' to learn more about interactive tables.';\n",
              "          element.innerHTML = '';\n",
              "          dataTable['output_type'] = 'display_data';\n",
              "          await google.colab.output.renderOutput(dataTable, element);\n",
              "          const docLink = document.createElement('div');\n",
              "          docLink.innerHTML = docLinkHtml;\n",
              "          element.appendChild(docLink);\n",
              "        }\n",
              "      </script>\n",
              "    </div>\n",
              "  </div>\n",
              "  "
            ]
          },
          "metadata": {},
          "execution_count": 12
        }
      ]
    },
    {
      "cell_type": "code",
      "source": [
        "len(x_test),len(x_train)"
      ],
      "metadata": {
        "colab": {
          "base_uri": "https://localhost:8080/"
        },
        "id": "ryRQjTkUyZJv",
        "outputId": "8957bdf3-128b-4041-b045-f7561f3c995e"
      },
      "execution_count": 13,
      "outputs": [
        {
          "output_type": "execute_result",
          "data": {
            "text/plain": [
              "(207, 1860)"
            ]
          },
          "metadata": {},
          "execution_count": 13
        }
      ]
    },
    {
      "cell_type": "code",
      "source": [
        "x_train"
      ],
      "metadata": {
        "colab": {
          "base_uri": "https://localhost:8080/",
          "height": 424
        },
        "id": "1e5kgXiFwzx3",
        "outputId": "f0995046-589f-4932-aeb5-811594b5297b"
      },
      "execution_count": 14,
      "outputs": [
        {
          "output_type": "execute_result",
          "data": {
            "text/plain": [
              "              OV_0          OV_1          OV_2      OV_3      OV_4      OV_5  \\\n",
              "0     6.563866e-06  3.023613e-04  3.476024e-06  0.999369  0.000005  0.000313   \n",
              "1     6.660532e-07  1.111468e-05  4.777901e-07  0.000003  0.999941  0.000044   \n",
              "2     3.196978e-06  1.084502e-06  6.119757e-05  0.000540  0.000130  0.999265   \n",
              "3     1.672899e-04  3.690411e-05  7.654433e-06  0.996621  0.000001  0.003166   \n",
              "4     6.228225e-06  2.223077e-06  1.080643e-04  0.000279  0.000155  0.999449   \n",
              "...            ...           ...           ...       ...       ...       ...   \n",
              "1855  2.267656e-06  5.500071e-05  6.257817e-05  0.000025  0.999060  0.000795   \n",
              "1856  5.436857e-06  4.640588e-05  2.539234e-07  0.999771  0.000002  0.000175   \n",
              "1857  2.219884e-06  1.371802e-06  1.270682e-05  0.001495  0.000036  0.998452   \n",
              "1858  1.302802e-06  1.391211e-06  2.840016e-05  0.000200  0.000314  0.999455   \n",
              "1859  6.064461e-07  7.634380e-07  9.921577e-06  0.000262  0.000092  0.999635   \n",
              "\n",
              "              OA_0          OA_1          OA_2          OA_3          OA_4  \\\n",
              "0     7.118237e-11  4.275941e-13  5.818291e-13  9.999392e-01  7.229541e-09   \n",
              "1     7.413488e-16  7.650040e-17  1.922507e-06  1.123869e-15  9.999981e-01   \n",
              "2     1.758199e-16  8.524090e-23  4.244590e-09  9.078223e-20  2.119835e-06   \n",
              "3     5.098788e-09  4.011979e-18  2.702849e-19  1.000000e+00  2.130679e-12   \n",
              "4     9.727850e-17  8.955978e-16  9.544772e-10  6.929045e-12  7.811868e-09   \n",
              "...            ...           ...           ...           ...           ...   \n",
              "1855  5.674626e-12  1.665472e-10  1.155466e-08  3.783825e-11  9.999992e-01   \n",
              "1856  7.438766e-13  1.396276e-11  3.158646e-13  9.994886e-01  1.764659e-10   \n",
              "1857  1.034732e-06  7.297560e-12  4.155130e-03  1.771651e-06  5.884054e-04   \n",
              "1858  1.126768e-11  1.225455e-09  2.025999e-01  1.614645e-09  7.940712e-01   \n",
              "1859  1.233940e-09  1.370324e-14  2.694767e-07  3.489715e-06  1.348973e-06   \n",
              "\n",
              "              OA_5  \n",
              "0     6.074523e-05  \n",
              "1     1.385700e-09  \n",
              "2     9.999979e-01  \n",
              "3     1.804896e-09  \n",
              "4     1.000000e+00  \n",
              "...            ...  \n",
              "1855  8.919573e-07  \n",
              "1856  5.114353e-04  \n",
              "1857  9.952537e-01  \n",
              "1858  3.328925e-03  \n",
              "1859  9.999949e-01  \n",
              "\n",
              "[1860 rows x 12 columns]"
            ],
            "text/html": [
              "\n",
              "  <div id=\"df-6f9e107c-7f1a-493c-a877-442d7f0e58e7\">\n",
              "    <div class=\"colab-df-container\">\n",
              "      <div>\n",
              "<style scoped>\n",
              "    .dataframe tbody tr th:only-of-type {\n",
              "        vertical-align: middle;\n",
              "    }\n",
              "\n",
              "    .dataframe tbody tr th {\n",
              "        vertical-align: top;\n",
              "    }\n",
              "\n",
              "    .dataframe thead th {\n",
              "        text-align: right;\n",
              "    }\n",
              "</style>\n",
              "<table border=\"1\" class=\"dataframe\">\n",
              "  <thead>\n",
              "    <tr style=\"text-align: right;\">\n",
              "      <th></th>\n",
              "      <th>OV_0</th>\n",
              "      <th>OV_1</th>\n",
              "      <th>OV_2</th>\n",
              "      <th>OV_3</th>\n",
              "      <th>OV_4</th>\n",
              "      <th>OV_5</th>\n",
              "      <th>OA_0</th>\n",
              "      <th>OA_1</th>\n",
              "      <th>OA_2</th>\n",
              "      <th>OA_3</th>\n",
              "      <th>OA_4</th>\n",
              "      <th>OA_5</th>\n",
              "    </tr>\n",
              "  </thead>\n",
              "  <tbody>\n",
              "    <tr>\n",
              "      <th>0</th>\n",
              "      <td>6.563866e-06</td>\n",
              "      <td>3.023613e-04</td>\n",
              "      <td>3.476024e-06</td>\n",
              "      <td>0.999369</td>\n",
              "      <td>0.000005</td>\n",
              "      <td>0.000313</td>\n",
              "      <td>7.118237e-11</td>\n",
              "      <td>4.275941e-13</td>\n",
              "      <td>5.818291e-13</td>\n",
              "      <td>9.999392e-01</td>\n",
              "      <td>7.229541e-09</td>\n",
              "      <td>6.074523e-05</td>\n",
              "    </tr>\n",
              "    <tr>\n",
              "      <th>1</th>\n",
              "      <td>6.660532e-07</td>\n",
              "      <td>1.111468e-05</td>\n",
              "      <td>4.777901e-07</td>\n",
              "      <td>0.000003</td>\n",
              "      <td>0.999941</td>\n",
              "      <td>0.000044</td>\n",
              "      <td>7.413488e-16</td>\n",
              "      <td>7.650040e-17</td>\n",
              "      <td>1.922507e-06</td>\n",
              "      <td>1.123869e-15</td>\n",
              "      <td>9.999981e-01</td>\n",
              "      <td>1.385700e-09</td>\n",
              "    </tr>\n",
              "    <tr>\n",
              "      <th>2</th>\n",
              "      <td>3.196978e-06</td>\n",
              "      <td>1.084502e-06</td>\n",
              "      <td>6.119757e-05</td>\n",
              "      <td>0.000540</td>\n",
              "      <td>0.000130</td>\n",
              "      <td>0.999265</td>\n",
              "      <td>1.758199e-16</td>\n",
              "      <td>8.524090e-23</td>\n",
              "      <td>4.244590e-09</td>\n",
              "      <td>9.078223e-20</td>\n",
              "      <td>2.119835e-06</td>\n",
              "      <td>9.999979e-01</td>\n",
              "    </tr>\n",
              "    <tr>\n",
              "      <th>3</th>\n",
              "      <td>1.672899e-04</td>\n",
              "      <td>3.690411e-05</td>\n",
              "      <td>7.654433e-06</td>\n",
              "      <td>0.996621</td>\n",
              "      <td>0.000001</td>\n",
              "      <td>0.003166</td>\n",
              "      <td>5.098788e-09</td>\n",
              "      <td>4.011979e-18</td>\n",
              "      <td>2.702849e-19</td>\n",
              "      <td>1.000000e+00</td>\n",
              "      <td>2.130679e-12</td>\n",
              "      <td>1.804896e-09</td>\n",
              "    </tr>\n",
              "    <tr>\n",
              "      <th>4</th>\n",
              "      <td>6.228225e-06</td>\n",
              "      <td>2.223077e-06</td>\n",
              "      <td>1.080643e-04</td>\n",
              "      <td>0.000279</td>\n",
              "      <td>0.000155</td>\n",
              "      <td>0.999449</td>\n",
              "      <td>9.727850e-17</td>\n",
              "      <td>8.955978e-16</td>\n",
              "      <td>9.544772e-10</td>\n",
              "      <td>6.929045e-12</td>\n",
              "      <td>7.811868e-09</td>\n",
              "      <td>1.000000e+00</td>\n",
              "    </tr>\n",
              "    <tr>\n",
              "      <th>...</th>\n",
              "      <td>...</td>\n",
              "      <td>...</td>\n",
              "      <td>...</td>\n",
              "      <td>...</td>\n",
              "      <td>...</td>\n",
              "      <td>...</td>\n",
              "      <td>...</td>\n",
              "      <td>...</td>\n",
              "      <td>...</td>\n",
              "      <td>...</td>\n",
              "      <td>...</td>\n",
              "      <td>...</td>\n",
              "    </tr>\n",
              "    <tr>\n",
              "      <th>1855</th>\n",
              "      <td>2.267656e-06</td>\n",
              "      <td>5.500071e-05</td>\n",
              "      <td>6.257817e-05</td>\n",
              "      <td>0.000025</td>\n",
              "      <td>0.999060</td>\n",
              "      <td>0.000795</td>\n",
              "      <td>5.674626e-12</td>\n",
              "      <td>1.665472e-10</td>\n",
              "      <td>1.155466e-08</td>\n",
              "      <td>3.783825e-11</td>\n",
              "      <td>9.999992e-01</td>\n",
              "      <td>8.919573e-07</td>\n",
              "    </tr>\n",
              "    <tr>\n",
              "      <th>1856</th>\n",
              "      <td>5.436857e-06</td>\n",
              "      <td>4.640588e-05</td>\n",
              "      <td>2.539234e-07</td>\n",
              "      <td>0.999771</td>\n",
              "      <td>0.000002</td>\n",
              "      <td>0.000175</td>\n",
              "      <td>7.438766e-13</td>\n",
              "      <td>1.396276e-11</td>\n",
              "      <td>3.158646e-13</td>\n",
              "      <td>9.994886e-01</td>\n",
              "      <td>1.764659e-10</td>\n",
              "      <td>5.114353e-04</td>\n",
              "    </tr>\n",
              "    <tr>\n",
              "      <th>1857</th>\n",
              "      <td>2.219884e-06</td>\n",
              "      <td>1.371802e-06</td>\n",
              "      <td>1.270682e-05</td>\n",
              "      <td>0.001495</td>\n",
              "      <td>0.000036</td>\n",
              "      <td>0.998452</td>\n",
              "      <td>1.034732e-06</td>\n",
              "      <td>7.297560e-12</td>\n",
              "      <td>4.155130e-03</td>\n",
              "      <td>1.771651e-06</td>\n",
              "      <td>5.884054e-04</td>\n",
              "      <td>9.952537e-01</td>\n",
              "    </tr>\n",
              "    <tr>\n",
              "      <th>1858</th>\n",
              "      <td>1.302802e-06</td>\n",
              "      <td>1.391211e-06</td>\n",
              "      <td>2.840016e-05</td>\n",
              "      <td>0.000200</td>\n",
              "      <td>0.000314</td>\n",
              "      <td>0.999455</td>\n",
              "      <td>1.126768e-11</td>\n",
              "      <td>1.225455e-09</td>\n",
              "      <td>2.025999e-01</td>\n",
              "      <td>1.614645e-09</td>\n",
              "      <td>7.940712e-01</td>\n",
              "      <td>3.328925e-03</td>\n",
              "    </tr>\n",
              "    <tr>\n",
              "      <th>1859</th>\n",
              "      <td>6.064461e-07</td>\n",
              "      <td>7.634380e-07</td>\n",
              "      <td>9.921577e-06</td>\n",
              "      <td>0.000262</td>\n",
              "      <td>0.000092</td>\n",
              "      <td>0.999635</td>\n",
              "      <td>1.233940e-09</td>\n",
              "      <td>1.370324e-14</td>\n",
              "      <td>2.694767e-07</td>\n",
              "      <td>3.489715e-06</td>\n",
              "      <td>1.348973e-06</td>\n",
              "      <td>9.999949e-01</td>\n",
              "    </tr>\n",
              "  </tbody>\n",
              "</table>\n",
              "<p>1860 rows × 12 columns</p>\n",
              "</div>\n",
              "      <button class=\"colab-df-convert\" onclick=\"convertToInteractive('df-6f9e107c-7f1a-493c-a877-442d7f0e58e7')\"\n",
              "              title=\"Convert this dataframe to an interactive table.\"\n",
              "              style=\"display:none;\">\n",
              "        \n",
              "  <svg xmlns=\"http://www.w3.org/2000/svg\" height=\"24px\"viewBox=\"0 0 24 24\"\n",
              "       width=\"24px\">\n",
              "    <path d=\"M0 0h24v24H0V0z\" fill=\"none\"/>\n",
              "    <path d=\"M18.56 5.44l.94 2.06.94-2.06 2.06-.94-2.06-.94-.94-2.06-.94 2.06-2.06.94zm-11 1L8.5 8.5l.94-2.06 2.06-.94-2.06-.94L8.5 2.5l-.94 2.06-2.06.94zm10 10l.94 2.06.94-2.06 2.06-.94-2.06-.94-.94-2.06-.94 2.06-2.06.94z\"/><path d=\"M17.41 7.96l-1.37-1.37c-.4-.4-.92-.59-1.43-.59-.52 0-1.04.2-1.43.59L10.3 9.45l-7.72 7.72c-.78.78-.78 2.05 0 2.83L4 21.41c.39.39.9.59 1.41.59.51 0 1.02-.2 1.41-.59l7.78-7.78 2.81-2.81c.8-.78.8-2.07 0-2.86zM5.41 20L4 18.59l7.72-7.72 1.47 1.35L5.41 20z\"/>\n",
              "  </svg>\n",
              "      </button>\n",
              "      \n",
              "  <style>\n",
              "    .colab-df-container {\n",
              "      display:flex;\n",
              "      flex-wrap:wrap;\n",
              "      gap: 12px;\n",
              "    }\n",
              "\n",
              "    .colab-df-convert {\n",
              "      background-color: #E8F0FE;\n",
              "      border: none;\n",
              "      border-radius: 50%;\n",
              "      cursor: pointer;\n",
              "      display: none;\n",
              "      fill: #1967D2;\n",
              "      height: 32px;\n",
              "      padding: 0 0 0 0;\n",
              "      width: 32px;\n",
              "    }\n",
              "\n",
              "    .colab-df-convert:hover {\n",
              "      background-color: #E2EBFA;\n",
              "      box-shadow: 0px 1px 2px rgba(60, 64, 67, 0.3), 0px 1px 3px 1px rgba(60, 64, 67, 0.15);\n",
              "      fill: #174EA6;\n",
              "    }\n",
              "\n",
              "    [theme=dark] .colab-df-convert {\n",
              "      background-color: #3B4455;\n",
              "      fill: #D2E3FC;\n",
              "    }\n",
              "\n",
              "    [theme=dark] .colab-df-convert:hover {\n",
              "      background-color: #434B5C;\n",
              "      box-shadow: 0px 1px 3px 1px rgba(0, 0, 0, 0.15);\n",
              "      filter: drop-shadow(0px 1px 2px rgba(0, 0, 0, 0.3));\n",
              "      fill: #FFFFFF;\n",
              "    }\n",
              "  </style>\n",
              "\n",
              "      <script>\n",
              "        const buttonEl =\n",
              "          document.querySelector('#df-6f9e107c-7f1a-493c-a877-442d7f0e58e7 button.colab-df-convert');\n",
              "        buttonEl.style.display =\n",
              "          google.colab.kernel.accessAllowed ? 'block' : 'none';\n",
              "\n",
              "        async function convertToInteractive(key) {\n",
              "          const element = document.querySelector('#df-6f9e107c-7f1a-493c-a877-442d7f0e58e7');\n",
              "          const dataTable =\n",
              "            await google.colab.kernel.invokeFunction('convertToInteractive',\n",
              "                                                     [key], {});\n",
              "          if (!dataTable) return;\n",
              "\n",
              "          const docLinkHtml = 'Like what you see? Visit the ' +\n",
              "            '<a target=\"_blank\" href=https://colab.research.google.com/notebooks/data_table.ipynb>data table notebook</a>'\n",
              "            + ' to learn more about interactive tables.';\n",
              "          element.innerHTML = '';\n",
              "          dataTable['output_type'] = 'display_data';\n",
              "          await google.colab.output.renderOutput(dataTable, element);\n",
              "          const docLink = document.createElement('div');\n",
              "          docLink.innerHTML = docLinkHtml;\n",
              "          element.appendChild(docLink);\n",
              "        }\n",
              "      </script>\n",
              "    </div>\n",
              "  </div>\n",
              "  "
            ]
          },
          "metadata": {},
          "execution_count": 14
        }
      ]
    },
    {
      "cell_type": "code",
      "source": [
        "from sklearn.utils import shuffle\n",
        "seed=42\n",
        "new_x_train = shuffle(x_train,random_state=seed)\n",
        "new_y_train = shuffle(df_train,random_state=seed)\n",
        "new_x_train = new_x_train.reset_index(drop=True)\n",
        "new_y_train = new_y_train.reset_index(drop=True)\n",
        "\"\"\"\n",
        "y_train=df_train.to_numpy()\n",
        "y_train=y_train.reshape(1860,)\n",
        "y_train, y_train.shape\n",
        "\"\"\""
      ],
      "metadata": {
        "colab": {
          "base_uri": "https://localhost:8080/",
          "height": 36
        },
        "id": "p5veJq2ei1vA",
        "outputId": "80ea90c5-6779-4d9e-b0a9-c0f0bb55f91e"
      },
      "execution_count": 15,
      "outputs": [
        {
          "output_type": "execute_result",
          "data": {
            "text/plain": [
              "'\\ny_train=df_train.to_numpy()\\ny_train=y_train.reshape(1860,)\\ny_train, y_train.shape\\n'"
            ],
            "application/vnd.google.colaboratory.intrinsic+json": {
              "type": "string"
            }
          },
          "metadata": {},
          "execution_count": 15
        }
      ]
    },
    {
      "cell_type": "code",
      "source": [
        "len(new_y_train)"
      ],
      "metadata": {
        "colab": {
          "base_uri": "https://localhost:8080/"
        },
        "id": "pFfSFyo-7NfO",
        "outputId": "927d0a2c-e7c3-481f-d746-dc62b85385bf"
      },
      "execution_count": 16,
      "outputs": [
        {
          "output_type": "execute_result",
          "data": {
            "text/plain": [
              "1860"
            ]
          },
          "metadata": {},
          "execution_count": 16
        }
      ]
    },
    {
      "cell_type": "code",
      "source": [
        "from sklearn.preprocessing import StandardScaler, MinMaxScaler\n",
        "scaler = MinMaxScaler(feature_range=(0, 1))\n",
        "new_x_train = scaler.fit_transform(new_x_train)\n",
        "X_test = scaler.transform(x_test)"
      ],
      "metadata": {
        "id": "wPUM0nKyxmkZ"
      },
      "execution_count": 17,
      "outputs": []
    },
    {
      "cell_type": "code",
      "source": [
        "y_train=df_train.to_numpy()\n",
        "y_train=y_train.reshape(1860,)\n",
        "y_train, y_train.shape"
      ],
      "metadata": {
        "colab": {
          "base_uri": "https://localhost:8080/"
        },
        "id": "4UmZkWm-tMOU",
        "outputId": "3f528d82-a38a-4ea3-9b7d-128421a53cb6"
      },
      "execution_count": 18,
      "outputs": [
        {
          "output_type": "execute_result",
          "data": {
            "text/plain": [
              "(array([3, 4, 5, ..., 5, 5, 5]), (1860,))"
            ]
          },
          "metadata": {},
          "execution_count": 18
        }
      ]
    },
    {
      "cell_type": "markdown",
      "source": [
        "# training machine learning"
      ],
      "metadata": {
        "id": "1hZPjTpT4lb3"
      }
    },
    {
      "cell_type": "code",
      "source": [
        "from sklearn.linear_model import LogisticRegression\n",
        "model = LogisticRegression(multi_class='multinomial')\n",
        "LR=model.fit(new_x_train,new_y_train)\n",
        "predictions = model.predict(x_test)\n",
        "#print(\"Restored model, accuracy: {:5.2f}%\".format(100*acc))"
      ],
      "metadata": {
        "id": "PS4PZtkj5G8k",
        "colab": {
          "base_uri": "https://localhost:8080/"
        },
        "outputId": "0926fdf9-9d10-47da-d4d1-add0e6fb1d15"
      },
      "execution_count": 19,
      "outputs": [
        {
          "output_type": "stream",
          "name": "stderr",
          "text": [
            "/usr/local/lib/python3.7/dist-packages/sklearn/utils/validation.py:993: DataConversionWarning: A column-vector y was passed when a 1d array was expected. Please change the shape of y to (n_samples, ), for example using ravel().\n",
            "  y = column_or_1d(y, warn=True)\n",
            "/usr/local/lib/python3.7/dist-packages/sklearn/base.py:444: UserWarning: X has feature names, but LogisticRegression was fitted without feature names\n",
            "  f\"X has feature names, but {self.__class__.__name__} was fitted without\"\n"
          ]
        }
      ]
    },
    {
      "cell_type": "code",
      "source": [
        "predictions"
      ],
      "metadata": {
        "colab": {
          "base_uri": "https://localhost:8080/"
        },
        "id": "ibm_g_O66uKI",
        "outputId": "521e345b-da95-46ef-9c97-9632a00ef8e0"
      },
      "execution_count": 20,
      "outputs": [
        {
          "output_type": "execute_result",
          "data": {
            "text/plain": [
              "array([2, 5, 2, 5, 1, 1, 5, 1, 5, 5, 1, 2, 3, 1, 4, 2, 2, 3, 0, 1, 3, 2,\n",
              "       3, 5, 3, 2, 4, 1, 4, 4, 1, 3, 0, 1, 2, 1, 4, 1, 4, 2, 4, 3, 1, 3,\n",
              "       1, 4, 3, 3, 1, 4, 5, 2, 2, 3, 1, 2, 2, 1, 1, 1, 5, 1, 4, 2, 0, 2,\n",
              "       5, 0, 1, 5, 4, 5, 2, 2, 3, 4, 5, 5, 2, 2, 2, 5, 2, 5, 4, 1, 2, 5,\n",
              "       0, 4, 2, 4, 5, 4, 3, 5, 5, 4, 4, 1, 0, 4, 1, 4, 3, 4, 1, 1, 5, 0,\n",
              "       2, 5, 2, 1, 4, 4, 5, 0, 4, 2, 1, 3, 0, 3, 1, 3, 2, 2, 4, 3, 5, 1,\n",
              "       4, 4, 0, 2, 2, 2, 4, 4, 1, 2, 0, 4, 1, 4, 4, 2, 2, 4, 2, 3, 4, 0,\n",
              "       2, 5, 5, 4, 4, 1, 1, 5, 1, 1, 5, 1, 4, 4, 1, 5, 2, 4, 0, 0, 4, 1,\n",
              "       0, 2, 5, 2, 4, 5, 5, 4, 3, 1, 3, 3, 0, 5, 2, 2, 1, 4, 2, 5, 0, 3,\n",
              "       1, 2, 2, 3, 0, 0, 4, 4, 5])"
            ]
          },
          "metadata": {},
          "execution_count": 20
        }
      ]
    },
    {
      "cell_type": "code",
      "source": [
        "from sklearn.metrics import classification_report, confusion_matrix,accuracy_score\n",
        "import seaborn as sn\n",
        "import matplotlib.pyplot as plt\n",
        "\n",
        "print(classification_report(y_test,predictions))\n",
        "\n",
        "acc = float(accuracy_score(y_test,predictions))*100\n",
        "print(\"----accuracy score %s ----\" % acc)\n",
        "\n",
        "cm = confusion_matrix(y_test,predictions)\n",
        "#df_cm = pd.DataFrame(cm)\n",
        "class_names = ['neutral','calm', 'happy','sad','angry', 'fearful' ]\n",
        "df_cm = pd.DataFrame(cm, index=class_names, columns=class_names,)\n",
        "sn.heatmap(df_cm, annot=True, fmt='')\n",
        "plt.show()"
      ],
      "metadata": {
        "colab": {
          "base_uri": "https://localhost:8080/",
          "height": 508
        },
        "id": "A9gR6pV063GP",
        "outputId": "8c208811-6fc2-49ca-f6dd-63a822eda38c"
      },
      "execution_count": 21,
      "outputs": [
        {
          "output_type": "stream",
          "name": "stdout",
          "text": [
            "              precision    recall  f1-score   support\n",
            "\n",
            "           0       0.95      0.95      0.95        19\n",
            "           1       0.93      0.95      0.94        40\n",
            "           2       1.00      0.98      0.99        45\n",
            "           3       0.88      0.88      0.88        24\n",
            "           4       0.96      1.00      0.98        43\n",
            "           5       0.94      0.89      0.91        36\n",
            "\n",
            "    accuracy                           0.95       207\n",
            "   macro avg       0.94      0.94      0.94       207\n",
            "weighted avg       0.95      0.95      0.95       207\n",
            "\n",
            "----accuracy score 94.68599033816425 ----\n"
          ]
        },
        {
          "output_type": "display_data",
          "data": {
            "text/plain": [
              "<Figure size 432x288 with 2 Axes>"
            ],
            "image/png": "[encoded data removed]"
          },
          "metadata": {
            "needs_background": "light"
          }
        }
      ]
    },
    {
      "cell_type": "code",
      "source": [
        "path='/content/drive/My Drive/fusion/fusion_model/logistic_regression/expert4'\n",
        "savedvX = joblib.dump(model, path)\n",
        "\n",
        "print(\"MODEL SAVED\")"
      ],
      "metadata": {
        "colab": {
          "base_uri": "https://localhost:8080/"
        },
        "id": "WFonuoIS7NTg",
        "outputId": "be4c14cb-c115-49b1-ff45-78577a8ad330"
      },
      "execution_count": 22,
      "outputs": [
        {
          "output_type": "stream",
          "name": "stdout",
          "text": [
            "MODEL SAVED\n"
          ]
        }
      ]
    },
    {
      "cell_type": "code",
      "source": [
        ""
      ],
      "metadata": {
        "id": "Bp4nDNcd7lc_"
      },
      "execution_count": null,
      "outputs": []
    }
  ]
}