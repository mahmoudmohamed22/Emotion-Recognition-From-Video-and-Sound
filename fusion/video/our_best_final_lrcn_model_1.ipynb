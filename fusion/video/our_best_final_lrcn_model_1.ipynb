{
  "cells": [
    {
      "cell_type": "code",
      "execution_count": 1,
      "metadata": {
        "colab": {
          "base_uri": "https://localhost:8080/"
        },
        "id": "iC_o_HaWEBQ4",
        "outputId": "df004e0d-6def-44ad-b8b8-06e14dbeed33"
      },
      "outputs": [
        {
          "output_type": "stream",
          "name": "stdout",
          "text": [
            "Looking in indexes: https://pypi.org/simple, https://us-python.pkg.dev/colab-wheels/public/simple/\n",
            "Requirement already satisfied: tensorflow in /usr/local/lib/python3.7/dist-packages (2.8.2+zzzcolab20220527125636)\n",
            "Requirement already satisfied: opencv-contrib-python in /usr/local/lib/python3.7/dist-packages (4.1.2.30)\n",
            "Collecting youtube-dl\n",
            "  Downloading youtube_dl-2021.12.17-py2.py3-none-any.whl (1.9 MB)\n",
            "\u001b[K     |████████████████████████████████| 1.9 MB 5.1 MB/s \n",
            "\u001b[?25hRequirement already satisfied: moviepy in /usr/local/lib/python3.7/dist-packages (0.2.3.5)\n",
            "Requirement already satisfied: pydot in /usr/local/lib/python3.7/dist-packages (1.3.0)\n",
            "Requirement already satisfied: typing-extensions>=3.6.6 in /usr/local/lib/python3.7/dist-packages (from tensorflow) (4.2.0)\n",
            "Requirement already satisfied: tensorflow-estimator<2.9,>=2.8 in /usr/local/lib/python3.7/dist-packages (from tensorflow) (2.8.0)\n",
            "Requirement already satisfied: keras<2.9,>=2.8.0rc0 in /usr/local/lib/python3.7/dist-packages (from tensorflow) (2.8.0)\n",
            "Requirement already satisfied: wrapt>=1.11.0 in /usr/local/lib/python3.7/dist-packages (from tensorflow) (1.14.1)\n",
            "Requirement already satisfied: astunparse>=1.6.0 in /usr/local/lib/python3.7/dist-packages (from tensorflow) (1.6.3)\n",
            "Requirement already satisfied: h5py>=2.9.0 in /usr/local/lib/python3.7/dist-packages (from tensorflow) (3.1.0)\n",
            "Requirement already satisfied: google-pasta>=0.1.1 in /usr/local/lib/python3.7/dist-packages (from tensorflow) (0.2.0)\n",
            "Requirement already satisfied: gast>=0.2.1 in /usr/local/lib/python3.7/dist-packages (from tensorflow) (0.5.3)\n",
            "Requirement already satisfied: protobuf<3.20,>=3.9.2 in /usr/local/lib/python3.7/dist-packages (from tensorflow) (3.17.3)\n",
            "Requirement already satisfied: keras-preprocessing>=1.1.1 in /usr/local/lib/python3.7/dist-packages (from tensorflow) (1.1.2)\n",
            "Requirement already satisfied: opt-einsum>=2.3.2 in /usr/local/lib/python3.7/dist-packages (from tensorflow) (3.3.0)\n",
            "Requirement already satisfied: libclang>=9.0.1 in /usr/local/lib/python3.7/dist-packages (from tensorflow) (14.0.1)\n",
            "Requirement already satisfied: numpy>=1.20 in /usr/local/lib/python3.7/dist-packages (from tensorflow) (1.21.6)\n",
            "Requirement already satisfied: setuptools in /usr/local/lib/python3.7/dist-packages (from tensorflow) (57.4.0)\n",
            "Requirement already satisfied: tensorflow-io-gcs-filesystem>=0.23.1 in /usr/local/lib/python3.7/dist-packages (from tensorflow) (0.26.0)\n",
            "Requirement already satisfied: grpcio<2.0,>=1.24.3 in /usr/local/lib/python3.7/dist-packages (from tensorflow) (1.46.3)\n",
            "Requirement already satisfied: tensorboard<2.9,>=2.8 in /usr/local/lib/python3.7/dist-packages (from tensorflow) (2.8.0)\n",
            "Requirement already satisfied: flatbuffers>=1.12 in /usr/local/lib/python3.7/dist-packages (from tensorflow) (2.0)\n",
            "Requirement already satisfied: absl-py>=0.4.0 in /usr/local/lib/python3.7/dist-packages (from tensorflow) (1.0.0)\n",
            "Requirement already satisfied: termcolor>=1.1.0 in /usr/local/lib/python3.7/dist-packages (from tensorflow) (1.1.0)\n",
            "Requirement already satisfied: six>=1.12.0 in /usr/local/lib/python3.7/dist-packages (from tensorflow) (1.15.0)\n",
            "Requirement already satisfied: wheel<1.0,>=0.23.0 in /usr/local/lib/python3.7/dist-packages (from astunparse>=1.6.0->tensorflow) (0.37.1)\n",
            "Requirement already satisfied: cached-property in /usr/local/lib/python3.7/dist-packages (from h5py>=2.9.0->tensorflow) (1.5.2)\n",
            "Requirement already satisfied: google-auth-oauthlib<0.5,>=0.4.1 in /usr/local/lib/python3.7/dist-packages (from tensorboard<2.9,>=2.8->tensorflow) (0.4.6)\n",
            "Requirement already satisfied: tensorboard-data-server<0.7.0,>=0.6.0 in /usr/local/lib/python3.7/dist-packages (from tensorboard<2.9,>=2.8->tensorflow) (0.6.1)\n",
            "Requirement already satisfied: tensorboard-plugin-wit>=1.6.0 in /usr/local/lib/python3.7/dist-packages (from tensorboard<2.9,>=2.8->tensorflow) (1.8.1)\n",
            "Requirement already satisfied: markdown>=2.6.8 in /usr/local/lib/python3.7/dist-packages (from tensorboard<2.9,>=2.8->tensorflow) (3.3.7)\n",
            "Requirement already satisfied: google-auth<3,>=1.6.3 in /usr/local/lib/python3.7/dist-packages (from tensorboard<2.9,>=2.8->tensorflow) (1.35.0)\n",
            "Requirement already satisfied: requests<3,>=2.21.0 in /usr/local/lib/python3.7/dist-packages (from tensorboard<2.9,>=2.8->tensorflow) (2.23.0)\n",
            "Requirement already satisfied: werkzeug>=0.11.15 in /usr/local/lib/python3.7/dist-packages (from tensorboard<2.9,>=2.8->tensorflow) (1.0.1)\n",
            "Requirement already satisfied: rsa<5,>=3.1.4 in /usr/local/lib/python3.7/dist-packages (from google-auth<3,>=1.6.3->tensorboard<2.9,>=2.8->tensorflow) (4.8)\n",
            "Requirement already satisfied: pyasn1-modules>=0.2.1 in /usr/local/lib/python3.7/dist-packages (from google-auth<3,>=1.6.3->tensorboard<2.9,>=2.8->tensorflow) (0.2.8)\n",
            "Requirement already satisfied: cachetools<5.0,>=2.0.0 in /usr/local/lib/python3.7/dist-packages (from google-auth<3,>=1.6.3->tensorboard<2.9,>=2.8->tensorflow) (4.2.4)\n",
            "Requirement already satisfied: requests-oauthlib>=0.7.0 in /usr/local/lib/python3.7/dist-packages (from google-auth-oauthlib<0.5,>=0.4.1->tensorboard<2.9,>=2.8->tensorflow) (1.3.1)\n",
            "Requirement already satisfied: importlib-metadata>=4.4 in /usr/local/lib/python3.7/dist-packages (from markdown>=2.6.8->tensorboard<2.9,>=2.8->tensorflow) (4.11.4)\n",
            "Requirement already satisfied: zipp>=0.5 in /usr/local/lib/python3.7/dist-packages (from importlib-metadata>=4.4->markdown>=2.6.8->tensorboard<2.9,>=2.8->tensorflow) (3.8.0)\n",
            "Requirement already satisfied: pyasn1<0.5.0,>=0.4.6 in /usr/local/lib/python3.7/dist-packages (from pyasn1-modules>=0.2.1->google-auth<3,>=1.6.3->tensorboard<2.9,>=2.8->tensorflow) (0.4.8)\n",
            "Requirement already satisfied: urllib3!=1.25.0,!=1.25.1,<1.26,>=1.21.1 in /usr/local/lib/python3.7/dist-packages (from requests<3,>=2.21.0->tensorboard<2.9,>=2.8->tensorflow) (1.24.3)\n",
            "Requirement already satisfied: idna<3,>=2.5 in /usr/local/lib/python3.7/dist-packages (from requests<3,>=2.21.0->tensorboard<2.9,>=2.8->tensorflow) (2.10)\n",
            "Requirement already satisfied: chardet<4,>=3.0.2 in /usr/local/lib/python3.7/dist-packages (from requests<3,>=2.21.0->tensorboard<2.9,>=2.8->tensorflow) (3.0.4)\n",
            "Requirement already satisfied: certifi>=2017.4.17 in /usr/local/lib/python3.7/dist-packages (from requests<3,>=2.21.0->tensorboard<2.9,>=2.8->tensorflow) (2022.5.18.1)\n",
            "Requirement already satisfied: oauthlib>=3.0.0 in /usr/local/lib/python3.7/dist-packages (from requests-oauthlib>=0.7.0->google-auth-oauthlib<0.5,>=0.4.1->tensorboard<2.9,>=2.8->tensorflow) (3.2.0)\n",
            "Requirement already satisfied: imageio<3.0,>=2.1.2 in /usr/local/lib/python3.7/dist-packages (from moviepy) (2.4.1)\n",
            "Requirement already satisfied: decorator<5.0,>=4.0.2 in /usr/local/lib/python3.7/dist-packages (from moviepy) (4.4.2)\n",
            "Requirement already satisfied: tqdm<5.0,>=4.11.2 in /usr/local/lib/python3.7/dist-packages (from moviepy) (4.64.0)\n",
            "Requirement already satisfied: pillow in /usr/local/lib/python3.7/dist-packages (from imageio<3.0,>=2.1.2->moviepy) (7.1.2)\n",
            "Requirement already satisfied: pyparsing>=2.1.4 in /usr/local/lib/python3.7/dist-packages (from pydot) (3.0.9)\n",
            "Installing collected packages: youtube-dl\n",
            "Successfully installed youtube-dl-2021.12.17\n",
            "Looking in indexes: https://pypi.org/simple, https://us-python.pkg.dev/colab-wheels/public/simple/\n",
            "Collecting pafy\n",
            "  Cloning https://github.com/TahaAnwar/pafy.git to /tmp/pip-install-5d2tn2hv/pafy_54c00e1dbad04a56a2d3bc8bc80a90cb\n",
            "  Running command git clone -q https://github.com/TahaAnwar/pafy.git /tmp/pip-install-5d2tn2hv/pafy_54c00e1dbad04a56a2d3bc8bc80a90cb\n",
            "Building wheels for collected packages: pafy\n",
            "  Building wheel for pafy (setup.py) ... \u001b[?25l\u001b[?25hdone\n",
            "  Created wheel for pafy: filename=pafy-0.5.5-py2.py3-none-any.whl size=35706 sha256=eb7bbcc517f5f0e191850d3c922ea6b528701c7cd1964e500889d55c6aac8899\n",
            "  Stored in directory: /tmp/pip-ephem-wheel-cache-_rt2f0j5/wheels/64/82/dd/3d7823b3bbbe1aca9b30f8cf0d6bb6c1b72ccd95e3360f8190\n",
            "Successfully built pafy\n",
            "Installing collected packages: pafy\n",
            "Successfully installed pafy-0.5.5\n"
          ]
        }
      ],
      "source": [
        "# Discard the output of this cell.\n",
        "#%%capture\n",
        "\n",
        "# Install the required libraries.\n",
        "!pip install tensorflow opencv-contrib-python youtube-dl moviepy pydot\n",
        "!pip install git+https://github.com/TahaAnwar/pafy.git#egg=pafy"
      ]
    },
    {
      "cell_type": "code",
      "execution_count": 2,
      "metadata": {
        "colab": {
          "base_uri": "https://localhost:8080/"
        },
        "id": "773CUmldFLWW",
        "outputId": "eeadf3ca-53f2-40df-93fa-7562597b93dd"
      },
      "outputs": [
        {
          "output_type": "stream",
          "name": "stdout",
          "text": [
            "Mounted at /content/drive\n"
          ]
        }
      ],
      "source": [
        "from google.colab import drive\n",
        "drive.mount('/content/drive')"
      ]
    },
    {
      "cell_type": "code",
      "execution_count": 3,
      "metadata": {
        "id": "pI_Uxj54EZA-",
        "colab": {
          "base_uri": "https://localhost:8080/"
        },
        "outputId": "e4ba29b8-002b-4378-c112-23d7b70748c5"
      },
      "outputs": [
        {
          "output_type": "stream",
          "name": "stdout",
          "text": [
            "Imageio: 'ffmpeg-linux64-v3.3.1' was not found on your computer; downloading it now.\n",
            "Try 1. Download from https://github.com/imageio/imageio-binaries/raw/master/ffmpeg/ffmpeg-linux64-v3.3.1 (43.8 MB)\n",
            "Downloading: 8192/45929032 bytes (0.0%)\b\b\b\b\b\b\b\b\b\b\b\b\b\b\b\b\b\b\b\b\b\b\b\b\b\b2285568/45929032 bytes (5.0%)\b\b\b\b\b\b\b\b\b\b\b\b\b\b\b\b\b\b\b\b\b\b\b\b\b\b\b\b\b5840896/45929032 bytes (12.7%)\b\b\b\b\b\b\b\b\b\b\b\b\b\b\b\b\b\b\b\b\b\b\b\b\b\b\b\b\b\b9551872/45929032 bytes (20.8%)\b\b\b\b\b\b\b\b\b\b\b\b\b\b\b\b\b\b\b\b\b\b\b\b\b\b\b\b\b\b13058048/45929032 bytes (28.4%)\b\b\b\b\b\b\b\b\b\b\b\b\b\b\b\b\b\b\b\b\b\b\b\b\b\b\b\b\b\b\b16343040/45929032 bytes (35.6%)\b\b\b\b\b\b\b\b\b\b\b\b\b\b\b\b\b\b\b\b\b\b\b\b\b\b\b\b\b\b\b19947520/45929032 bytes (43.4%)\b\b\b\b\b\b\b\b\b\b\b\b\b\b\b\b\b\b\b\b\b\b\b\b\b\b\b\b\b\b\b22929408/45929032 bytes (49.9%)\b\b\b\b\b\b\b\b\b\b\b\b\b\b\b\b\b\b\b\b\b\b\b\b\b\b\b\b\b\b\b25640960/45929032 bytes (55.8%)\b\b\b\b\b\b\b\b\b\b\b\b\b\b\b\b\b\b\b\b\b\b\b\b\b\b\b\b\b\b\b28860416/45929032 bytes (62.8%)\b\b\b\b\b\b\b\b\b\b\b\b\b\b\b\b\b\b\b\b\b\b\b\b\b\b\b\b\b\b\b32464896/45929032 bytes (70.7%)\b\b\b\b\b\b\b\b\b\b\b\b\b\b\b\b\b\b\b\b\b\b\b\b\b\b\b\b\b\b\b35979264/45929032 bytes (78.3%)\b\b\b\b\b\b\b\b\b\b\b\b\b\b\b\b\b\b\b\b\b\b\b\b\b\b\b\b\b\b\b39157760/45929032 bytes (85.3%)\b\b\b\b\b\b\b\b\b\b\b\b\b\b\b\b\b\b\b\b\b\b\b\b\b\b\b\b\b\b\b42450944/45929032 bytes (92.4%)\b\b\b\b\b\b\b\b\b\b\b\b\b\b\b\b\b\b\b\b\b\b\b\b\b\b\b\b\b\b\b45929032/45929032 bytes (100.0%)\n",
            "  Done\n",
            "File saved as /root/.imageio/ffmpeg/ffmpeg-linux64-v3.3.1.\n"
          ]
        }
      ],
      "source": [
        "# Import the required libraries.\n",
        "import os\n",
        "import cv2\n",
        "import pafy\n",
        "import math\n",
        "import random\n",
        "import numpy as np\n",
        "import datetime as dt\n",
        "import tensorflow as tf\n",
        "from collections import deque\n",
        "import matplotlib.pyplot as plt\n",
        "\n",
        "from moviepy.editor import *\n",
        "%matplotlib inline\n",
        "\n",
        "from sklearn.model_selection import train_test_split\n",
        "\n",
        "from tensorflow.keras.layers import *\n",
        "from tensorflow.keras.models import Sequential\n",
        "from tensorflow.keras.utils import to_categorical\n",
        "from tensorflow.keras.callbacks import EarlyStopping\n",
        "from tensorflow.keras.utils import plot_model"
      ]
    },
    {
      "cell_type": "code",
      "execution_count": 6,
      "metadata": {
        "id": "p_XR9N_KEd0h",
        "colab": {
          "base_uri": "https://localhost:8080/"
        },
        "outputId": "93518a1c-fd76-4052-8432-8c77f1534f15"
      },
      "outputs": [
        {
          "output_type": "stream",
          "name": "stdout",
          "text": [
            "27\n",
            "None\n",
            "None\n",
            "None\n",
            "27\n"
          ]
        }
      ],
      "source": [
        "seed_constant = 27\n",
        "my_seed=np.random.seed(seed_constant)\n",
        "print(seed_constant)\n",
        "print(my_seed)\n",
        "my_seed=random.seed(seed_constant)\n",
        "print(my_seed)\n",
        "my_seed=tf.random.set_seed(seed_constant)\n",
        "print(my_seed)\n",
        "print(seed_constant)"
      ]
    },
    {
      "cell_type": "code",
      "execution_count": 7,
      "metadata": {
        "id": "SjdIu5iUEtFT"
      },
      "outputs": [],
      "source": [
        "# Specify the height and width to which each video frame will be resized in our dataset.\n",
        "IMAGE_HEIGHT , IMAGE_WIDTH = 64, 64\n",
        "\n",
        "# Specify the number of frames of a video that will be fed to the model as one sequence.\n",
        "SEQUENCE_LENGTH = 30\n",
        "\n",
        "# Specify the directory containing the UCF50 dataset. \n",
        "#DATASET_DIR = \"/content/drive/MyDrive/videospeechsong_label\"\n",
        "\n",
        "# Specify the list containing the names of the classes used for training. Feel free to choose any set of classes.\n",
        "CLASSES_LIST = [\"neutral\", \"calm\", \"happy\", \"sad\",\"angry\",\"fearful\"]"
      ]
    },
    {
      "cell_type": "code",
      "execution_count": 15,
      "metadata": {
        "id": "z1PugGDOFidu"
      },
      "outputs": [],
      "source": [
        "import joblib\n",
        "features = joblib.load('/content/drive/My Drive/features_ravdess/data_set/features_data')\n",
        "labels = joblib.load('/content/drive/MyDrive/features_ravdess/data_set/labels')\n",
        "video_files_paths = joblib.load('/content/drive/My Drive/features_ravdess/data_set/video_path')"
      ]
    },
    {
      "cell_type": "code",
      "execution_count": 16,
      "metadata": {
        "id": "AQLmPjgCf52M"
      },
      "outputs": [],
      "source": [
        "features = np.asarray(features)\n",
        "labels = np.array(labels)"
      ]
    },
    {
      "cell_type": "code",
      "execution_count": 17,
      "metadata": {
        "colab": {
          "base_uri": "https://localhost:8080/"
        },
        "id": "MU9jM0FlE-aH",
        "outputId": "2696d0c8-3943-43a6-88af-27039bfa2b0a"
      },
      "outputs": [
        {
          "output_type": "execute_result",
          "data": {
            "text/plain": [
              "((2067, 30, 64, 64, 3), (2067,), 2067)"
            ]
          },
          "metadata": {},
          "execution_count": 17
        }
      ],
      "source": [
        "features.shape,labels.shape,len(video_files_paths)"
      ]
    },
    {
      "cell_type": "code",
      "source": [
        "\n",
        "# Split the Data into Train ( 80% ) and Test Set ( 20% ).\n",
        "features_train, features_test, labels_train, labels_test,video_train_path,video_test_path = train_test_split(features, labels,video_files_paths,\n",
        "                                                                            test_size = 0.10, shuffle = True,\n",
        "                                                                            random_state = seed_constant)"
      ],
      "metadata": {
        "id": "7ygQ1ZFPHD4v"
      },
      "execution_count": 18,
      "outputs": []
    },
    {
      "cell_type": "code",
      "source": [
        "len(features_train),len(features_test),len(labels_train),len(labels_test),len(video_train_path),len(video_test_path)"
      ],
      "metadata": {
        "colab": {
          "base_uri": "https://localhost:8080/"
        },
        "id": "BiEcB_EoH7_y",
        "outputId": "b63922d2-1bb3-408b-906e-0bb6f8e71d17"
      },
      "execution_count": 19,
      "outputs": [
        {
          "output_type": "execute_result",
          "data": {
            "text/plain": [
              "(1860, 207, 1860, 207, 1860, 207)"
            ]
          },
          "metadata": {},
          "execution_count": 19
        }
      ]
    },
    {
      "cell_type": "code",
      "source": [
        "\n",
        "# Split train the Data into Train ( 80% ) and valid Set ( 20% ).\n",
        "features_train, features_valid, labels_train, labels_valid,video_train_path,video_valid_path = train_test_split(features_train, labels_train,video_train_path,\n",
        "                                                                            test_size = 0.11129032258, shuffle = True,\n",
        "                                                                            random_state = seed_constant)"
      ],
      "metadata": {
        "id": "9tk83FqyIKrO"
      },
      "execution_count": 20,
      "outputs": []
    },
    {
      "cell_type": "code",
      "source": [
        "len(features_train),len(features_valid),len(labels_train),len(labels_valid),len(video_train_path),len(video_valid_path)"
      ],
      "metadata": {
        "colab": {
          "base_uri": "https://localhost:8080/"
        },
        "id": "jJAp-BHdHFDd",
        "outputId": "79be1cc4-4b8c-4082-c730-f3c70f977c93"
      },
      "execution_count": 21,
      "outputs": [
        {
          "output_type": "execute_result",
          "data": {
            "text/plain": [
              "(1653, 207, 1653, 207, 1653, 207)"
            ]
          },
          "metadata": {},
          "execution_count": 21
        }
      ]
    },
    {
      "cell_type": "code",
      "source": [
        "video_valid_path"
      ],
      "metadata": {
        "colab": {
          "base_uri": "https://localhost:8080/"
        },
        "id": "0X0V_x1-KGz7",
        "outputId": "5ec8c31f-a8b0-4ce3-ed88-8e15bee1eb02"
      },
      "execution_count": 22,
      "outputs": [
        {
          "output_type": "execute_result",
          "data": {
            "text/plain": [
              "['/content/drive/MyDrive/frames_ravdess_label/happy/01-01-03-01-02-02-18.mp4',\n",
              " '/content/drive/MyDrive/frames_ravdess_label/sad/01-01-04-01-02-01-07.mp4',\n",
              " '/content/drive/MyDrive/frames_ravdess_label/sad/01-01-04-02-02-01-23.mp4',\n",
              " '/content/drive/MyDrive/frames_ravdess_label/calm/01-02-02-02-01-02-17.mp4',\n",
              " '/content/drive/MyDrive/frames_ravdess_label/happy/01-01-03-02-01-02-15.mp4',\n",
              " '/content/drive/MyDrive/frames_ravdess_label/happy/01-02-03-02-01-02-22.mp4',\n",
              " '/content/drive/MyDrive/frames_ravdess_label/sad/01-01-04-01-02-01-19.mp4',\n",
              " '/content/drive/MyDrive/frames_ravdess_label/calm/01-01-02-02-01-01-21.mp4',\n",
              " '/content/drive/MyDrive/frames_ravdess_label/fearful/01-01-06-02-02-02-16.mp4',\n",
              " '/content/drive/MyDrive/frames_ravdess_label/fearful/01-01-06-02-01-01-16.mp4',\n",
              " '/content/drive/MyDrive/frames_ravdess_label/fearful/01-02-06-01-02-01-13.mp4',\n",
              " '/content/drive/MyDrive/frames_ravdess_label/calm/01-02-02-01-02-01-11.mp4',\n",
              " '/content/drive/MyDrive/frames_ravdess_label/calm/01-02-02-02-01-02-04.mp4',\n",
              " '/content/drive/MyDrive/frames_ravdess_label/happy/01-02-03-02-01-01-14.mp4',\n",
              " '/content/drive/MyDrive/frames_ravdess_label/sad/01-02-04-02-02-02-03.mp4',\n",
              " '/content/drive/MyDrive/frames_ravdess_label/neutral/01-02-01-01-02-02-02.mp4',\n",
              " '/content/drive/MyDrive/frames_ravdess_label/angry/01-02-05-01-02-01-11.mp4',\n",
              " '/content/drive/MyDrive/frames_ravdess_label/sad/01-01-04-02-02-01-10.mp4',\n",
              " '/content/drive/MyDrive/frames_ravdess_label/neutral/01-01-01-01-01-02-14.mp4',\n",
              " '/content/drive/MyDrive/frames_ravdess_label/angry/01-01-05-01-02-01-04.mp4',\n",
              " '/content/drive/MyDrive/frames_ravdess_label/angry/01-01-05-02-02-02-07.mp4',\n",
              " '/content/drive/MyDrive/frames_ravdess_label/calm/01-02-02-02-02-02-15.mp4',\n",
              " '/content/drive/MyDrive/frames_ravdess_label/angry/01-01-05-01-02-01-11.mp4',\n",
              " '/content/drive/MyDrive/frames_ravdess_label/happy/01-02-03-02-02-01-03.mp4',\n",
              " '/content/drive/MyDrive/frames_ravdess_label/calm/01-02-02-02-02-01-10.mp4',\n",
              " '/content/drive/MyDrive/frames_ravdess_label/sad/01-02-04-02-01-02-14.mp4',\n",
              " '/content/drive/MyDrive/frames_ravdess_label/calm/01-02-02-02-01-01-03.mp4',\n",
              " '/content/drive/MyDrive/frames_ravdess_label/calm/01-02-02-01-01-02-17.mp4',\n",
              " '/content/drive/MyDrive/frames_ravdess_label/sad/01-01-04-01-01-01-06.mp4',\n",
              " '/content/drive/MyDrive/frames_ravdess_label/happy/01-01-03-01-01-02-08.mp4',\n",
              " '/content/drive/MyDrive/frames_ravdess_label/sad/01-01-04-02-01-01-18.mp4',\n",
              " '/content/drive/MyDrive/frames_ravdess_label/fearful/01-01-06-02-02-02-02.mp4',\n",
              " '/content/drive/MyDrive/frames_ravdess_label/calm/01-01-02-02-01-01-18.mp4',\n",
              " '/content/drive/MyDrive/frames_ravdess_label/happy/01-02-03-02-01-01-01.mp4',\n",
              " '/content/drive/MyDrive/frames_ravdess_label/sad/01-02-04-01-02-01-16.mp4',\n",
              " '/content/drive/MyDrive/frames_ravdess_label/fearful/01-02-06-02-01-02-24.mp4',\n",
              " '/content/drive/MyDrive/frames_ravdess_label/calm/01-02-02-02-02-01-09.mp4',\n",
              " '/content/drive/MyDrive/frames_ravdess_label/calm/01-01-02-02-01-01-19.mp4',\n",
              " '/content/drive/MyDrive/frames_ravdess_label/happy/01-02-03-01-02-01-10.mp4',\n",
              " '/content/drive/MyDrive/frames_ravdess_label/angry/01-02-05-02-02-02-16.mp4',\n",
              " '/content/drive/MyDrive/frames_ravdess_label/calm/01-01-02-01-01-01-23.mp4',\n",
              " '/content/drive/MyDrive/frames_ravdess_label/angry/01-01-05-01-01-01-07.mp4',\n",
              " '/content/drive/MyDrive/frames_ravdess_label/fearful/01-01-06-01-01-01-16.mp4',\n",
              " '/content/drive/MyDrive/frames_ravdess_label/sad/01-01-04-01-01-01-01.mp4',\n",
              " '/content/drive/MyDrive/frames_ravdess_label/calm/01-02-02-01-01-01-16.mp4',\n",
              " '/content/drive/MyDrive/frames_ravdess_label/happy/01-01-03-01-01-02-07.mp4',\n",
              " '/content/drive/MyDrive/frames_ravdess_label/sad/01-02-04-02-01-02-23.mp4',\n",
              " '/content/drive/MyDrive/frames_ravdess_label/angry/01-02-05-01-01-02-08.mp4',\n",
              " '/content/drive/MyDrive/frames_ravdess_label/sad/01-02-04-01-02-01-05.mp4',\n",
              " '/content/drive/MyDrive/frames_ravdess_label/fearful/01-02-06-01-01-01-01.mp4',\n",
              " '/content/drive/MyDrive/frames_ravdess_label/happy/01-01-03-01-02-02-03.mp4',\n",
              " '/content/drive/MyDrive/frames_ravdess_label/fearful/01-02-06-01-01-02-06.mp4',\n",
              " '/content/drive/MyDrive/frames_ravdess_label/angry/01-01-05-02-01-01-24.mp4',\n",
              " '/content/drive/MyDrive/frames_ravdess_label/sad/01-01-04-01-02-01-11.mp4',\n",
              " '/content/drive/MyDrive/frames_ravdess_label/neutral/01-01-01-01-01-02-17.mp4',\n",
              " '/content/drive/MyDrive/frames_ravdess_label/angry/01-01-05-01-01-02-07.mp4',\n",
              " '/content/drive/MyDrive/frames_ravdess_label/sad/01-02-04-01-02-01-09.mp4',\n",
              " '/content/drive/MyDrive/frames_ravdess_label/happy/01-01-03-01-01-01-14.mp4',\n",
              " '/content/drive/MyDrive/frames_ravdess_label/calm/01-01-02-01-02-01-11.mp4',\n",
              " '/content/drive/MyDrive/frames_ravdess_label/sad/01-01-04-01-02-01-05.mp4',\n",
              " '/content/drive/MyDrive/frames_ravdess_label/happy/01-02-03-02-01-02-19.mp4',\n",
              " '/content/drive/MyDrive/frames_ravdess_label/happy/01-02-03-01-01-02-17.mp4',\n",
              " '/content/drive/MyDrive/frames_ravdess_label/fearful/01-02-06-02-01-02-13.mp4',\n",
              " '/content/drive/MyDrive/frames_ravdess_label/fearful/01-01-06-01-02-01-21.mp4',\n",
              " '/content/drive/MyDrive/frames_ravdess_label/happy/01-01-03-02-01-02-03.mp4',\n",
              " '/content/drive/MyDrive/frames_ravdess_label/angry/01-01-05-02-01-02-18.mp4',\n",
              " '/content/drive/MyDrive/frames_ravdess_label/sad/01-02-04-01-01-02-17.mp4',\n",
              " '/content/drive/MyDrive/frames_ravdess_label/calm/01-02-02-02-01-01-10.mp4',\n",
              " '/content/drive/MyDrive/frames_ravdess_label/happy/01-01-03-02-02-01-12.mp4',\n",
              " '/content/drive/MyDrive/frames_ravdess_label/neutral/01-02-01-01-02-01-19.mp4',\n",
              " '/content/drive/MyDrive/frames_ravdess_label/sad/01-02-04-02-02-02-17.mp4',\n",
              " '/content/drive/MyDrive/frames_ravdess_label/fearful/01-02-06-01-01-01-20.mp4',\n",
              " '/content/drive/MyDrive/frames_ravdess_label/sad/01-02-04-01-02-02-23.mp4',\n",
              " '/content/drive/MyDrive/frames_ravdess_label/angry/01-01-05-01-02-02-21.mp4',\n",
              " '/content/drive/MyDrive/frames_ravdess_label/happy/01-02-03-01-01-02-14.mp4',\n",
              " '/content/drive/MyDrive/frames_ravdess_label/neutral/01-01-01-01-02-01-20.mp4',\n",
              " '/content/drive/MyDrive/frames_ravdess_label/angry/01-01-05-02-01-01-01.mp4',\n",
              " '/content/drive/MyDrive/frames_ravdess_label/calm/01-01-02-02-01-02-24.mp4',\n",
              " '/content/drive/MyDrive/frames_ravdess_label/fearful/01-01-06-01-01-02-06.mp4',\n",
              " '/content/drive/MyDrive/frames_ravdess_label/angry/01-01-05-01-01-01-14.mp4',\n",
              " '/content/drive/MyDrive/frames_ravdess_label/calm/01-02-02-02-01-01-09.mp4',\n",
              " '/content/drive/MyDrive/frames_ravdess_label/sad/01-02-04-01-01-01-17.mp4',\n",
              " '/content/drive/MyDrive/frames_ravdess_label/happy/01-01-03-01-02-01-23.mp4',\n",
              " '/content/drive/MyDrive/frames_ravdess_label/sad/01-01-04-01-01-02-21.mp4',\n",
              " '/content/drive/MyDrive/frames_ravdess_label/sad/01-01-04-01-02-02-21.mp4',\n",
              " '/content/drive/MyDrive/frames_ravdess_label/sad/01-01-04-02-02-02-12.mp4',\n",
              " '/content/drive/MyDrive/frames_ravdess_label/neutral/01-01-01-01-02-02-17.mp4',\n",
              " '/content/drive/MyDrive/frames_ravdess_label/angry/01-02-05-02-01-01-21.mp4',\n",
              " '/content/drive/MyDrive/frames_ravdess_label/happy/01-01-03-01-02-01-13.mp4',\n",
              " '/content/drive/MyDrive/frames_ravdess_label/calm/01-01-02-02-02-01-08.mp4',\n",
              " '/content/drive/MyDrive/frames_ravdess_label/happy/01-02-03-01-01-02-16.mp4',\n",
              " '/content/drive/MyDrive/frames_ravdess_label/fearful/01-02-06-02-01-02-09.mp4',\n",
              " '/content/drive/MyDrive/frames_ravdess_label/sad/01-01-04-02-01-02-16.mp4',\n",
              " '/content/drive/MyDrive/frames_ravdess_label/angry/01-01-05-02-02-02-11.mp4',\n",
              " '/content/drive/MyDrive/frames_ravdess_label/calm/01-02-02-02-01-02-21.mp4',\n",
              " '/content/drive/MyDrive/frames_ravdess_label/sad/01-02-04-01-02-01-02.mp4',\n",
              " '/content/drive/MyDrive/frames_ravdess_label/calm/01-02-02-02-02-02-13.mp4',\n",
              " '/content/drive/MyDrive/frames_ravdess_label/happy/01-02-03-01-01-01-23.mp4',\n",
              " '/content/drive/MyDrive/frames_ravdess_label/angry/01-01-05-01-02-01-03.mp4',\n",
              " '/content/drive/MyDrive/frames_ravdess_label/happy/01-02-03-01-01-01-14.mp4',\n",
              " '/content/drive/MyDrive/frames_ravdess_label/calm/01-02-02-02-02-02-08.mp4',\n",
              " '/content/drive/MyDrive/frames_ravdess_label/calm/01-02-02-01-02-01-16.mp4',\n",
              " '/content/drive/MyDrive/frames_ravdess_label/calm/01-01-02-01-02-02-17.mp4',\n",
              " '/content/drive/MyDrive/frames_ravdess_label/angry/01-01-05-02-01-01-14.mp4',\n",
              " '/content/drive/MyDrive/frames_ravdess_label/sad/01-01-04-01-02-02-07.mp4',\n",
              " '/content/drive/MyDrive/frames_ravdess_label/fearful/01-02-06-02-01-01-22.mp4',\n",
              " '/content/drive/MyDrive/frames_ravdess_label/happy/01-01-03-02-02-01-02.mp4',\n",
              " '/content/drive/MyDrive/frames_ravdess_label/sad/01-01-04-02-01-02-21.mp4',\n",
              " '/content/drive/MyDrive/frames_ravdess_label/happy/01-02-03-02-01-02-13.mp4',\n",
              " '/content/drive/MyDrive/frames_ravdess_label/happy/01-01-03-02-02-02-13.mp4',\n",
              " '/content/drive/MyDrive/frames_ravdess_label/fearful/01-02-06-01-01-02-21.mp4',\n",
              " '/content/drive/MyDrive/frames_ravdess_label/fearful/01-01-06-01-02-02-01.mp4',\n",
              " '/content/drive/MyDrive/frames_ravdess_label/neutral/01-01-01-01-02-01-12.mp4',\n",
              " '/content/drive/MyDrive/frames_ravdess_label/angry/01-01-05-02-01-01-04.mp4',\n",
              " '/content/drive/MyDrive/frames_ravdess_label/angry/01-01-05-01-01-01-17.mp4',\n",
              " '/content/drive/MyDrive/frames_ravdess_label/sad/01-02-04-02-02-01-17.mp4',\n",
              " '/content/drive/MyDrive/frames_ravdess_label/fearful/01-02-06-01-01-02-17.mp4',\n",
              " '/content/drive/MyDrive/frames_ravdess_label/sad/01-01-04-01-01-02-05.mp4',\n",
              " '/content/drive/MyDrive/frames_ravdess_label/angry/01-01-05-02-02-02-19.mp4',\n",
              " '/content/drive/MyDrive/frames_ravdess_label/calm/01-01-02-01-02-02-11.mp4',\n",
              " '/content/drive/MyDrive/frames_ravdess_label/calm/01-02-02-02-01-02-10.mp4',\n",
              " '/content/drive/MyDrive/frames_ravdess_label/fearful/01-02-06-02-02-01-04.mp4',\n",
              " '/content/drive/MyDrive/frames_ravdess_label/angry/01-01-05-02-02-02-10.mp4',\n",
              " '/content/drive/MyDrive/frames_ravdess_label/happy/01-02-03-02-01-02-09.mp4',\n",
              " '/content/drive/MyDrive/frames_ravdess_label/calm/01-02-02-02-01-02-16.mp4',\n",
              " '/content/drive/MyDrive/frames_ravdess_label/angry/01-01-05-01-01-01-16.mp4',\n",
              " '/content/drive/MyDrive/frames_ravdess_label/fearful/01-01-06-01-02-01-05.mp4',\n",
              " '/content/drive/MyDrive/frames_ravdess_label/calm/01-02-02-01-02-02-11.mp4',\n",
              " '/content/drive/MyDrive/frames_ravdess_label/sad/01-01-04-01-02-01-01.mp4',\n",
              " '/content/drive/MyDrive/frames_ravdess_label/sad/01-01-04-02-01-02-15.mp4',\n",
              " '/content/drive/MyDrive/frames_ravdess_label/sad/01-02-04-01-01-01-11.mp4',\n",
              " '/content/drive/MyDrive/frames_ravdess_label/angry/01-01-05-02-01-01-23.mp4',\n",
              " '/content/drive/MyDrive/frames_ravdess_label/fearful/01-01-06-01-01-02-01.mp4',\n",
              " '/content/drive/MyDrive/frames_ravdess_label/calm/01-01-02-01-01-01-22.mp4',\n",
              " '/content/drive/MyDrive/frames_ravdess_label/calm/01-02-02-01-02-02-24.mp4',\n",
              " '/content/drive/MyDrive/frames_ravdess_label/happy/01-02-03-01-01-02-03.mp4',\n",
              " '/content/drive/MyDrive/frames_ravdess_label/fearful/01-01-06-02-01-02-15.mp4',\n",
              " '/content/drive/MyDrive/frames_ravdess_label/sad/01-01-04-02-02-02-01.mp4',\n",
              " '/content/drive/MyDrive/frames_ravdess_label/sad/01-02-04-02-01-01-03.mp4',\n",
              " '/content/drive/MyDrive/frames_ravdess_label/calm/01-01-02-01-01-01-20.mp4',\n",
              " '/content/drive/MyDrive/frames_ravdess_label/angry/01-02-05-02-02-01-15.mp4',\n",
              " '/content/drive/MyDrive/frames_ravdess_label/angry/01-02-05-01-02-02-19.mp4',\n",
              " '/content/drive/MyDrive/frames_ravdess_label/sad/01-02-04-01-02-01-24.mp4',\n",
              " '/content/drive/MyDrive/frames_ravdess_label/neutral/01-01-01-01-02-02-20.mp4',\n",
              " '/content/drive/MyDrive/frames_ravdess_label/sad/01-02-04-01-02-02-19.mp4',\n",
              " '/content/drive/MyDrive/frames_ravdess_label/happy/01-01-03-01-02-02-08.mp4',\n",
              " '/content/drive/MyDrive/frames_ravdess_label/fearful/01-01-06-01-02-02-12.mp4',\n",
              " '/content/drive/MyDrive/frames_ravdess_label/calm/01-01-02-01-02-01-16.mp4',\n",
              " '/content/drive/MyDrive/frames_ravdess_label/sad/01-02-04-01-02-01-14.mp4',\n",
              " '/content/drive/MyDrive/frames_ravdess_label/neutral/01-01-01-01-01-02-20.mp4',\n",
              " '/content/drive/MyDrive/frames_ravdess_label/neutral/01-01-01-01-02-01-04.mp4',\n",
              " '/content/drive/MyDrive/frames_ravdess_label/angry/01-01-05-01-01-02-20.mp4',\n",
              " '/content/drive/MyDrive/frames_ravdess_label/sad/01-02-04-01-01-02-10.mp4',\n",
              " '/content/drive/MyDrive/frames_ravdess_label/calm/01-01-02-02-01-01-10.mp4',\n",
              " '/content/drive/MyDrive/frames_ravdess_label/sad/01-01-04-02-01-02-18.mp4',\n",
              " '/content/drive/MyDrive/frames_ravdess_label/calm/01-02-02-01-01-01-01.mp4',\n",
              " '/content/drive/MyDrive/frames_ravdess_label/sad/01-02-04-01-01-01-15.mp4',\n",
              " '/content/drive/MyDrive/frames_ravdess_label/sad/01-02-04-02-02-01-11.mp4',\n",
              " '/content/drive/MyDrive/frames_ravdess_label/fearful/01-02-06-02-02-01-22.mp4',\n",
              " '/content/drive/MyDrive/frames_ravdess_label/calm/01-01-02-02-01-02-21.mp4',\n",
              " '/content/drive/MyDrive/frames_ravdess_label/sad/01-02-04-02-02-02-16.mp4',\n",
              " '/content/drive/MyDrive/frames_ravdess_label/sad/01-01-04-01-01-02-15.mp4',\n",
              " '/content/drive/MyDrive/frames_ravdess_label/fearful/01-01-06-01-02-01-18.mp4',\n",
              " '/content/drive/MyDrive/frames_ravdess_label/calm/01-02-02-01-02-01-13.mp4',\n",
              " '/content/drive/MyDrive/frames_ravdess_label/angry/01-02-05-02-02-02-19.mp4',\n",
              " '/content/drive/MyDrive/frames_ravdess_label/happy/01-02-03-01-01-02-22.mp4',\n",
              " '/content/drive/MyDrive/frames_ravdess_label/neutral/01-01-01-01-02-01-13.mp4',\n",
              " '/content/drive/MyDrive/frames_ravdess_label/happy/01-02-03-02-02-01-13.mp4',\n",
              " '/content/drive/MyDrive/frames_ravdess_label/happy/01-02-03-02-01-01-08.mp4',\n",
              " '/content/drive/MyDrive/frames_ravdess_label/calm/01-01-02-02-01-01-09.mp4',\n",
              " '/content/drive/MyDrive/frames_ravdess_label/angry/01-02-05-02-02-01-06.mp4',\n",
              " '/content/drive/MyDrive/frames_ravdess_label/neutral/01-01-01-01-01-02-12.mp4',\n",
              " '/content/drive/MyDrive/frames_ravdess_label/sad/01-02-04-02-02-02-01.mp4',\n",
              " '/content/drive/MyDrive/frames_ravdess_label/sad/01-02-04-02-01-01-16.mp4',\n",
              " '/content/drive/MyDrive/frames_ravdess_label/angry/01-01-05-01-02-01-18.mp4',\n",
              " '/content/drive/MyDrive/frames_ravdess_label/fearful/01-01-06-01-02-01-19.mp4',\n",
              " '/content/drive/MyDrive/frames_ravdess_label/calm/01-01-02-02-02-02-11.mp4',\n",
              " '/content/drive/MyDrive/frames_ravdess_label/fearful/01-01-06-01-01-02-16.mp4',\n",
              " '/content/drive/MyDrive/frames_ravdess_label/calm/01-02-02-02-01-01-13.mp4',\n",
              " '/content/drive/MyDrive/frames_ravdess_label/neutral/01-01-01-01-02-02-23.mp4',\n",
              " '/content/drive/MyDrive/frames_ravdess_label/angry/01-01-05-02-02-01-14.mp4',\n",
              " '/content/drive/MyDrive/frames_ravdess_label/angry/01-01-05-02-01-02-14.mp4',\n",
              " '/content/drive/MyDrive/frames_ravdess_label/sad/01-01-04-01-01-02-12.mp4',\n",
              " '/content/drive/MyDrive/frames_ravdess_label/angry/01-01-05-01-01-02-13.mp4',\n",
              " '/content/drive/MyDrive/frames_ravdess_label/calm/01-01-02-02-01-01-08.mp4',\n",
              " '/content/drive/MyDrive/frames_ravdess_label/angry/01-02-05-01-02-02-16.mp4',\n",
              " '/content/drive/MyDrive/frames_ravdess_label/sad/01-02-04-01-01-01-04.mp4',\n",
              " '/content/drive/MyDrive/frames_ravdess_label/calm/01-01-02-01-02-01-03.mp4',\n",
              " '/content/drive/MyDrive/frames_ravdess_label/calm/01-02-02-01-02-01-22.mp4',\n",
              " '/content/drive/MyDrive/frames_ravdess_label/angry/01-01-05-02-01-02-19.mp4',\n",
              " '/content/drive/MyDrive/frames_ravdess_label/fearful/01-02-06-01-01-01-06.mp4',\n",
              " '/content/drive/MyDrive/frames_ravdess_label/neutral/01-01-01-01-02-02-11.mp4',\n",
              " '/content/drive/MyDrive/frames_ravdess_label/happy/01-02-03-02-02-02-03.mp4',\n",
              " '/content/drive/MyDrive/frames_ravdess_label/fearful/01-02-06-01-01-02-15.mp4',\n",
              " '/content/drive/MyDrive/frames_ravdess_label/happy/01-01-03-02-02-02-18.mp4',\n",
              " '/content/drive/MyDrive/frames_ravdess_label/calm/01-02-02-01-01-01-22.mp4',\n",
              " '/content/drive/MyDrive/frames_ravdess_label/angry/01-01-05-02-01-02-23.mp4',\n",
              " '/content/drive/MyDrive/frames_ravdess_label/fearful/01-01-06-01-02-02-05.mp4',\n",
              " '/content/drive/MyDrive/frames_ravdess_label/angry/01-02-05-01-02-01-04.mp4',\n",
              " '/content/drive/MyDrive/frames_ravdess_label/angry/01-01-05-01-02-02-24.mp4',\n",
              " '/content/drive/MyDrive/frames_ravdess_label/neutral/01-02-01-01-01-02-04.mp4',\n",
              " '/content/drive/MyDrive/frames_ravdess_label/neutral/01-01-01-01-02-01-14.mp4',\n",
              " '/content/drive/MyDrive/frames_ravdess_label/calm/01-02-02-02-01-01-02.mp4',\n",
              " '/content/drive/MyDrive/frames_ravdess_label/fearful/01-01-06-01-01-01-20.mp4',\n",
              " '/content/drive/MyDrive/frames_ravdess_label/angry/01-01-05-02-01-02-10.mp4',\n",
              " '/content/drive/MyDrive/frames_ravdess_label/fearful/01-02-06-01-02-02-24.mp4',\n",
              " '/content/drive/MyDrive/frames_ravdess_label/angry/01-01-05-02-02-01-01.mp4']"
            ]
          },
          "metadata": {},
          "execution_count": 22
        }
      ]
    },
    {
      "cell_type": "markdown",
      "source": [
        "**please not forget to change expert number**"
      ],
      "metadata": {
        "id": "yODensEaOZ-E"
      }
    },
    {
      "cell_type": "code",
      "source": [
        "import joblib\n",
        "\n",
        "save_dir = '/content/drive/My Drive/fusion/video/data_set_fusion/expert1'\n",
        "\n",
        "savedvX = joblib.dump(labels_train, os.path.join(save_dir, 'train/labels_train'))\n",
        "savedvX = joblib.dump(labels_test, os.path.join(save_dir, 'test/labels_test'))\n",
        "savedvX = joblib.dump(labels_valid, os.path.join(save_dir, 'valid/labels_valid'))\n",
        "savedvX = joblib.dump(video_train_path, os.path.join(save_dir, 'train/video_train_path'))\n",
        "savedvX = joblib.dump(video_test_path, os.path.join(save_dir, 'test/video_test_path'))\n",
        "savedvX = joblib.dump(video_valid_path, os.path.join(save_dir, 'valid/video_valid_path'))"
      ],
      "metadata": {
        "id": "Tchx6xO0HHzb"
      },
      "execution_count": 23,
      "outputs": []
    },
    {
      "cell_type": "code",
      "source": [
        "labels_test=to_categorical(labels_test)\n",
        "labels_train=to_categorical(labels_train)\n",
        "labels_valid=to_categorical(labels_valid)"
      ],
      "metadata": {
        "id": "6lLzecnJHMaY"
      },
      "execution_count": 24,
      "outputs": []
    },
    {
      "cell_type": "code",
      "execution_count": 25,
      "metadata": {
        "id": "4WmDntbuFEzc"
      },
      "outputs": [],
      "source": [
        "def create_LRCN_model():\n",
        "    '''\n",
        "    This function will construct the required LRCN model.\n",
        "    Returns:\n",
        "        model: It is the required constructed LRCN model.\n",
        "    '''\n",
        "\n",
        "    # We will use a Sequential model for model construction.\n",
        "    model = Sequential()\n",
        "   \n",
        "    # Define the Model Architecture.\n",
        "    ########################################################################################################################\n",
        "    \n",
        "    model.add(TimeDistributed(Conv2D(16, (5, 5), padding='same'),\n",
        "                              input_shape = (SEQUENCE_LENGTH, IMAGE_HEIGHT, IMAGE_WIDTH, 3)))\n",
        "    model.add(TimeDistributed(BatchNormalization()))\n",
        "    model.add(TimeDistributed(Activation('relu')))\n",
        "    model.add(TimeDistributed(MaxPooling2D((4, 4)))) \n",
        "    model.add(TimeDistributed(Dropout(0.1)))\n",
        "    \n",
        "    model.add(TimeDistributed(Conv2D(32, (5, 5), padding='same')))\n",
        "    model.add(TimeDistributed(BatchNormalization()))\n",
        "    model.add(TimeDistributed(Activation('relu')))\n",
        "    model.add(TimeDistributed(MaxPooling2D((4, 4))))\n",
        "    model.add(TimeDistributed(Dropout(0.2)))\n",
        "    \n",
        "    model.add(TimeDistributed(Conv2D(64, (5, 5), padding='same')))\n",
        "    model.add(TimeDistributed(BatchNormalization()))\n",
        "    model.add(TimeDistributed(Activation('relu')))\n",
        "    model.add(TimeDistributed(MaxPooling2D((2, 2))))\n",
        "    model.add(TimeDistributed(Dropout(0.3)))\n",
        "    \n",
        "    model.add(TimeDistributed(Conv2D(64, (5, 5), padding='same')))\n",
        "    model.add(TimeDistributed(BatchNormalization()))\n",
        "    model.add(TimeDistributed(Activation('relu')))\n",
        "    model.add(TimeDistributed(MaxPooling2D((2, 2))))\n",
        "    #model.add(TimeDistributed(Dropout(0.25)))\n",
        "                                      \n",
        "    model.add(TimeDistributed(Flatten()))\n",
        "                                      \n",
        "    model.add(LSTM(64))\n",
        "                                      \n",
        "    model.add(Dense(len(CLASSES_LIST), activation = 'softmax'))\n",
        "\n",
        "    ########################################################################################################################\n",
        "\n",
        "    # Display the models summary.\n",
        "    model.summary()\n",
        "    \n",
        "    # Return the constructed LRCN model.\n",
        "    return model"
      ]
    },
    {
      "cell_type": "code",
      "execution_count": 26,
      "metadata": {
        "colab": {
          "base_uri": "https://localhost:8080/"
        },
        "id": "2Mjr6pjzFOkd",
        "outputId": "2125fe61-a69a-4b3c-c043-41a381ac332e"
      },
      "outputs": [
        {
          "output_type": "stream",
          "name": "stdout",
          "text": [
            "Model: \"sequential\"\n",
            "_________________________________________________________________\n",
            " Layer (type)                Output Shape              Param #   \n",
            "=================================================================\n",
            " time_distributed (TimeDistr  (None, 30, 64, 64, 16)   1216      \n",
            " ibuted)                                                         \n",
            "                                                                 \n",
            " time_distributed_1 (TimeDis  (None, 30, 64, 64, 16)   64        \n",
            " tributed)                                                       \n",
            "                                                                 \n",
            " time_distributed_2 (TimeDis  (None, 30, 64, 64, 16)   0         \n",
            " tributed)                                                       \n",
            "                                                                 \n",
            " time_distributed_3 (TimeDis  (None, 30, 16, 16, 16)   0         \n",
            " tributed)                                                       \n",
            "                                                                 \n",
            " time_distributed_4 (TimeDis  (None, 30, 16, 16, 16)   0         \n",
            " tributed)                                                       \n",
            "                                                                 \n",
            " time_distributed_5 (TimeDis  (None, 30, 16, 16, 32)   12832     \n",
            " tributed)                                                       \n",
            "                                                                 \n",
            " time_distributed_6 (TimeDis  (None, 30, 16, 16, 32)   128       \n",
            " tributed)                                                       \n",
            "                                                                 \n",
            " time_distributed_7 (TimeDis  (None, 30, 16, 16, 32)   0         \n",
            " tributed)                                                       \n",
            "                                                                 \n",
            " time_distributed_8 (TimeDis  (None, 30, 4, 4, 32)     0         \n",
            " tributed)                                                       \n",
            "                                                                 \n",
            " time_distributed_9 (TimeDis  (None, 30, 4, 4, 32)     0         \n",
            " tributed)                                                       \n",
            "                                                                 \n",
            " time_distributed_10 (TimeDi  (None, 30, 4, 4, 64)     51264     \n",
            " stributed)                                                      \n",
            "                                                                 \n",
            " time_distributed_11 (TimeDi  (None, 30, 4, 4, 64)     256       \n",
            " stributed)                                                      \n",
            "                                                                 \n",
            " time_distributed_12 (TimeDi  (None, 30, 4, 4, 64)     0         \n",
            " stributed)                                                      \n",
            "                                                                 \n",
            " time_distributed_13 (TimeDi  (None, 30, 2, 2, 64)     0         \n",
            " stributed)                                                      \n",
            "                                                                 \n",
            " time_distributed_14 (TimeDi  (None, 30, 2, 2, 64)     0         \n",
            " stributed)                                                      \n",
            "                                                                 \n",
            " time_distributed_15 (TimeDi  (None, 30, 2, 2, 64)     102464    \n",
            " stributed)                                                      \n",
            "                                                                 \n",
            " time_distributed_16 (TimeDi  (None, 30, 2, 2, 64)     256       \n",
            " stributed)                                                      \n",
            "                                                                 \n",
            " time_distributed_17 (TimeDi  (None, 30, 2, 2, 64)     0         \n",
            " stributed)                                                      \n",
            "                                                                 \n",
            " time_distributed_18 (TimeDi  (None, 30, 1, 1, 64)     0         \n",
            " stributed)                                                      \n",
            "                                                                 \n",
            " time_distributed_19 (TimeDi  (None, 30, 64)           0         \n",
            " stributed)                                                      \n",
            "                                                                 \n",
            " lstm (LSTM)                 (None, 64)                33024     \n",
            "                                                                 \n",
            " dense (Dense)               (None, 6)                 390       \n",
            "                                                                 \n",
            "=================================================================\n",
            "Total params: 201,894\n",
            "Trainable params: 201,542\n",
            "Non-trainable params: 352\n",
            "_________________________________________________________________\n",
            "Model Created Successfully!\n"
          ]
        }
      ],
      "source": [
        "# Construct the required LRCN model.\n",
        "LRCN_model = create_LRCN_model()\n",
        "\n",
        "# Display the success message.\n",
        "print(\"Model Created Successfully!\")\n"
      ]
    },
    {
      "cell_type": "code",
      "execution_count": 28,
      "metadata": {
        "colab": {
          "base_uri": "https://localhost:8080/"
        },
        "id": "dvXcqO0TFRzR",
        "outputId": "1d9acdf3-0aed-412c-8743-51bcf3996cfb"
      },
      "outputs": [
        {
          "output_type": "stream",
          "name": "stdout",
          "text": [
            "Epoch 1/100\n",
            "414/414 [==============================] - 29s 22ms/step - loss: 1.6086 - accuracy: 0.3079 - val_loss: 1.5888 - val_accuracy: 0.3140\n",
            "Epoch 2/100\n",
            "414/414 [==============================] - 7s 16ms/step - loss: 1.2088 - accuracy: 0.4737 - val_loss: 1.2115 - val_accuracy: 0.4879\n",
            "Epoch 3/100\n",
            "414/414 [==============================] - 7s 16ms/step - loss: 1.0761 - accuracy: 0.5396 - val_loss: 1.0053 - val_accuracy: 0.5121\n",
            "Epoch 4/100\n",
            "414/414 [==============================] - 7s 16ms/step - loss: 0.9680 - accuracy: 0.6031 - val_loss: 1.0734 - val_accuracy: 0.5604\n",
            "Epoch 5/100\n",
            "414/414 [==============================] - 7s 16ms/step - loss: 0.8792 - accuracy: 0.6376 - val_loss: 0.9307 - val_accuracy: 0.6184\n",
            "Epoch 6/100\n",
            "414/414 [==============================] - 7s 16ms/step - loss: 0.8201 - accuracy: 0.6630 - val_loss: 1.9441 - val_accuracy: 0.4155\n",
            "Epoch 7/100\n",
            "414/414 [==============================] - 7s 16ms/step - loss: 0.7769 - accuracy: 0.6866 - val_loss: 1.2039 - val_accuracy: 0.5990\n",
            "Epoch 8/100\n",
            "414/414 [==============================] - 7s 16ms/step - loss: 0.6654 - accuracy: 0.7592 - val_loss: 0.7111 - val_accuracy: 0.7246\n",
            "Epoch 9/100\n",
            "414/414 [==============================] - 7s 16ms/step - loss: 0.6012 - accuracy: 0.7834 - val_loss: 0.5744 - val_accuracy: 0.7826\n",
            "Epoch 10/100\n",
            "414/414 [==============================] - 7s 16ms/step - loss: 0.5323 - accuracy: 0.8064 - val_loss: 0.5384 - val_accuracy: 0.8164\n",
            "Epoch 11/100\n",
            "414/414 [==============================] - 7s 16ms/step - loss: 0.4820 - accuracy: 0.8246 - val_loss: 0.8685 - val_accuracy: 0.6812\n",
            "Epoch 12/100\n",
            "414/414 [==============================] - 7s 16ms/step - loss: 0.4171 - accuracy: 0.8524 - val_loss: 0.7037 - val_accuracy: 0.7681\n",
            "Epoch 13/100\n",
            "414/414 [==============================] - 7s 16ms/step - loss: 0.4054 - accuracy: 0.8584 - val_loss: 0.5614 - val_accuracy: 0.7778\n",
            "Epoch 14/100\n",
            "414/414 [==============================] - 7s 16ms/step - loss: 0.3715 - accuracy: 0.8675 - val_loss: 0.8153 - val_accuracy: 0.6957\n",
            "Epoch 15/100\n",
            "414/414 [==============================] - 7s 16ms/step - loss: 0.3408 - accuracy: 0.8784 - val_loss: 0.8439 - val_accuracy: 0.7343\n",
            "Epoch 16/100\n",
            "414/414 [==============================] - 7s 16ms/step - loss: 0.3352 - accuracy: 0.8778 - val_loss: 0.4062 - val_accuracy: 0.8454\n",
            "Epoch 17/100\n",
            "414/414 [==============================] - 7s 16ms/step - loss: 0.2863 - accuracy: 0.9020 - val_loss: 0.3666 - val_accuracy: 0.8647\n",
            "Epoch 18/100\n",
            "414/414 [==============================] - 7s 16ms/step - loss: 0.2779 - accuracy: 0.8990 - val_loss: 0.9400 - val_accuracy: 0.7053\n",
            "Epoch 19/100\n",
            "414/414 [==============================] - 7s 16ms/step - loss: 0.2513 - accuracy: 0.9044 - val_loss: 0.5555 - val_accuracy: 0.8116\n",
            "Epoch 20/100\n",
            "414/414 [==============================] - 7s 16ms/step - loss: 0.2439 - accuracy: 0.9177 - val_loss: 0.2883 - val_accuracy: 0.9130\n",
            "Epoch 21/100\n",
            "414/414 [==============================] - 7s 16ms/step - loss: 0.2275 - accuracy: 0.9214 - val_loss: 0.3925 - val_accuracy: 0.8841\n",
            "Epoch 22/100\n",
            "414/414 [==============================] - 7s 16ms/step - loss: 0.2095 - accuracy: 0.9195 - val_loss: 0.6256 - val_accuracy: 0.7874\n",
            "Epoch 23/100\n",
            "414/414 [==============================] - 7s 16ms/step - loss: 0.2038 - accuracy: 0.9304 - val_loss: 0.4948 - val_accuracy: 0.8406\n",
            "Epoch 24/100\n",
            "414/414 [==============================] - 7s 16ms/step - loss: 0.1635 - accuracy: 0.9383 - val_loss: 0.2439 - val_accuracy: 0.9130\n",
            "Epoch 25/100\n",
            "414/414 [==============================] - 7s 16ms/step - loss: 0.1978 - accuracy: 0.9328 - val_loss: 0.3567 - val_accuracy: 0.8696\n",
            "Epoch 26/100\n",
            "414/414 [==============================] - 7s 16ms/step - loss: 0.1803 - accuracy: 0.9359 - val_loss: 0.3843 - val_accuracy: 0.8647\n",
            "Epoch 27/100\n",
            "414/414 [==============================] - 7s 16ms/step - loss: 0.1444 - accuracy: 0.9540 - val_loss: 0.3761 - val_accuracy: 0.8357\n",
            "Epoch 28/100\n",
            "414/414 [==============================] - 7s 16ms/step - loss: 0.1515 - accuracy: 0.9468 - val_loss: 0.4590 - val_accuracy: 0.8454\n",
            "Epoch 29/100\n",
            "414/414 [==============================] - 7s 16ms/step - loss: 0.1516 - accuracy: 0.9437 - val_loss: 0.2794 - val_accuracy: 0.8889\n",
            "Epoch 30/100\n",
            "414/414 [==============================] - 7s 16ms/step - loss: 0.1181 - accuracy: 0.9625 - val_loss: 0.4609 - val_accuracy: 0.8792\n",
            "Epoch 31/100\n",
            "414/414 [==============================] - 7s 16ms/step - loss: 0.1257 - accuracy: 0.9516 - val_loss: 0.4935 - val_accuracy: 0.8454\n",
            "Epoch 32/100\n",
            "414/414 [==============================] - 7s 16ms/step - loss: 0.1235 - accuracy: 0.9522 - val_loss: 0.5942 - val_accuracy: 0.8213\n",
            "Epoch 33/100\n",
            "414/414 [==============================] - 7s 16ms/step - loss: 0.1443 - accuracy: 0.9522 - val_loss: 0.2897 - val_accuracy: 0.8986\n",
            "Epoch 34/100\n",
            "414/414 [==============================] - 7s 16ms/step - loss: 0.1191 - accuracy: 0.9619 - val_loss: 0.7230 - val_accuracy: 0.7778\n",
            "Epoch 35/100\n",
            "414/414 [==============================] - 7s 16ms/step - loss: 0.1230 - accuracy: 0.9552 - val_loss: 0.5648 - val_accuracy: 0.8454\n",
            "Epoch 36/100\n",
            "414/414 [==============================] - 7s 16ms/step - loss: 0.1345 - accuracy: 0.9540 - val_loss: 0.2595 - val_accuracy: 0.9082\n",
            "Epoch 37/100\n",
            "414/414 [==============================] - 7s 16ms/step - loss: 0.0945 - accuracy: 0.9710 - val_loss: 0.4310 - val_accuracy: 0.8599\n",
            "Epoch 38/100\n",
            "414/414 [==============================] - 7s 16ms/step - loss: 0.1236 - accuracy: 0.9625 - val_loss: 0.2975 - val_accuracy: 0.9179\n",
            "Epoch 39/100\n",
            "414/414 [==============================] - 7s 17ms/step - loss: 0.1238 - accuracy: 0.9546 - val_loss: 0.8599 - val_accuracy: 0.7343\n",
            "Epoch 40/100\n",
            "414/414 [==============================] - 7s 16ms/step - loss: 0.1132 - accuracy: 0.9589 - val_loss: 0.4686 - val_accuracy: 0.8502\n",
            "Epoch 41/100\n",
            "414/414 [==============================] - 7s 17ms/step - loss: 0.0873 - accuracy: 0.9661 - val_loss: 0.4068 - val_accuracy: 0.8792\n",
            "Epoch 42/100\n",
            "414/414 [==============================] - 7s 16ms/step - loss: 0.0843 - accuracy: 0.9710 - val_loss: 0.6719 - val_accuracy: 0.7923\n",
            "Epoch 43/100\n",
            "414/414 [==============================] - 7s 16ms/step - loss: 0.0979 - accuracy: 0.9691 - val_loss: 0.3917 - val_accuracy: 0.8696\n",
            "Epoch 44/100\n",
            "414/414 [==============================] - 7s 16ms/step - loss: 0.1121 - accuracy: 0.9631 - val_loss: 0.4094 - val_accuracy: 0.8454\n",
            "Epoch 45/100\n",
            "414/414 [==============================] - 7s 16ms/step - loss: 0.0998 - accuracy: 0.9685 - val_loss: 0.3776 - val_accuracy: 0.8841\n",
            "Epoch 46/100\n",
            "414/414 [==============================] - 7s 16ms/step - loss: 0.0610 - accuracy: 0.9788 - val_loss: 0.2985 - val_accuracy: 0.8937\n",
            "Epoch 47/100\n",
            "414/414 [==============================] - 7s 16ms/step - loss: 0.0915 - accuracy: 0.9661 - val_loss: 0.2116 - val_accuracy: 0.9227\n",
            "Epoch 48/100\n",
            "414/414 [==============================] - 7s 16ms/step - loss: 0.0795 - accuracy: 0.9734 - val_loss: 0.6609 - val_accuracy: 0.7874\n",
            "Epoch 49/100\n",
            "414/414 [==============================] - 7s 16ms/step - loss: 0.0987 - accuracy: 0.9655 - val_loss: 0.4085 - val_accuracy: 0.8889\n",
            "Epoch 50/100\n",
            "414/414 [==============================] - 7s 16ms/step - loss: 0.0830 - accuracy: 0.9722 - val_loss: 0.3277 - val_accuracy: 0.8744\n",
            "Epoch 51/100\n",
            "414/414 [==============================] - 7s 16ms/step - loss: 0.0483 - accuracy: 0.9867 - val_loss: 0.3146 - val_accuracy: 0.8889\n",
            "Epoch 52/100\n",
            "414/414 [==============================] - 7s 16ms/step - loss: 0.0940 - accuracy: 0.9667 - val_loss: 0.4307 - val_accuracy: 0.8744\n",
            "Epoch 53/100\n",
            "414/414 [==============================] - 7s 16ms/step - loss: 0.0753 - accuracy: 0.9764 - val_loss: 0.4059 - val_accuracy: 0.8696\n",
            "Epoch 54/100\n",
            "414/414 [==============================] - 7s 16ms/step - loss: 0.0645 - accuracy: 0.9800 - val_loss: 0.4269 - val_accuracy: 0.8551\n",
            "Epoch 55/100\n",
            "414/414 [==============================] - 7s 16ms/step - loss: 0.0574 - accuracy: 0.9782 - val_loss: 0.3998 - val_accuracy: 0.8744\n",
            "Epoch 56/100\n",
            "414/414 [==============================] - 7s 17ms/step - loss: 0.0810 - accuracy: 0.9740 - val_loss: 0.3038 - val_accuracy: 0.8986\n",
            "Epoch 57/100\n",
            "414/414 [==============================] - 7s 16ms/step - loss: 0.0777 - accuracy: 0.9752 - val_loss: 0.2914 - val_accuracy: 0.8986\n",
            "Epoch 58/100\n",
            "414/414 [==============================] - 7s 16ms/step - loss: 0.0855 - accuracy: 0.9698 - val_loss: 0.4475 - val_accuracy: 0.8841\n",
            "Epoch 59/100\n",
            "414/414 [==============================] - 7s 16ms/step - loss: 0.0277 - accuracy: 0.9927 - val_loss: 0.4642 - val_accuracy: 0.8647\n",
            "Epoch 60/100\n",
            "414/414 [==============================] - 7s 16ms/step - loss: 0.0484 - accuracy: 0.9843 - val_loss: 0.3913 - val_accuracy: 0.8937\n",
            "Epoch 61/100\n",
            "414/414 [==============================] - 7s 16ms/step - loss: 0.0538 - accuracy: 0.9825 - val_loss: 0.6472 - val_accuracy: 0.8309\n",
            "Epoch 62/100\n",
            "414/414 [==============================] - 7s 16ms/step - loss: 0.0655 - accuracy: 0.9806 - val_loss: 0.4498 - val_accuracy: 0.8937\n",
            "Epoch 63/100\n",
            "414/414 [==============================] - 7s 16ms/step - loss: 0.0778 - accuracy: 0.9716 - val_loss: 0.3688 - val_accuracy: 0.8744\n",
            "Epoch 64/100\n",
            "414/414 [==============================] - 7s 16ms/step - loss: 0.0513 - accuracy: 0.9837 - val_loss: 0.3476 - val_accuracy: 0.8889\n",
            "Epoch 65/100\n",
            "414/414 [==============================] - 7s 16ms/step - loss: 0.0314 - accuracy: 0.9927 - val_loss: 0.3889 - val_accuracy: 0.9082\n",
            "Epoch 66/100\n",
            "414/414 [==============================] - 7s 16ms/step - loss: 0.0746 - accuracy: 0.9734 - val_loss: 0.4132 - val_accuracy: 0.8792\n",
            "Epoch 67/100\n",
            "414/414 [==============================] - 7s 16ms/step - loss: 0.0717 - accuracy: 0.9746 - val_loss: 0.3329 - val_accuracy: 0.9227\n",
            "Epoch 68/100\n",
            "414/414 [==============================] - 7s 16ms/step - loss: 0.0511 - accuracy: 0.9831 - val_loss: 0.5135 - val_accuracy: 0.8792\n",
            "Epoch 69/100\n",
            "414/414 [==============================] - 7s 16ms/step - loss: 0.0529 - accuracy: 0.9806 - val_loss: 0.4230 - val_accuracy: 0.8841\n",
            "Epoch 70/100\n",
            "414/414 [==============================] - 7s 16ms/step - loss: 0.0377 - accuracy: 0.9903 - val_loss: 0.2668 - val_accuracy: 0.9372\n",
            "Epoch 71/100\n",
            "414/414 [==============================] - 7s 16ms/step - loss: 0.0513 - accuracy: 0.9831 - val_loss: 0.4896 - val_accuracy: 0.8744\n",
            "Epoch 72/100\n",
            "414/414 [==============================] - 7s 16ms/step - loss: 0.0519 - accuracy: 0.9794 - val_loss: 0.3861 - val_accuracy: 0.8841\n"
          ]
        }
      ],
      "source": [
        "# Create an Instance of Early Stopping Callback.\n",
        "early_stopping_callback = EarlyStopping(monitor = 'val_loss', patience = 25, mode = 'min', restore_best_weights = True)\n",
        " \n",
        "# Compile the model and specify loss function, optimizer and metrics to the model.\n",
        "LRCN_model.compile(loss = 'categorical_crossentropy', optimizer = 'Adam', metrics = [\"accuracy\"])\n",
        "\n",
        "# Start training the model.\n",
        "LRCN_model_training_history = LRCN_model.fit(x = features_train, y = labels_train, epochs = 100, batch_size = 4 ,\n",
        "                                             shuffle = True, validation_data = (features_valid,labels_valid), callbacks = [early_stopping_callback])"
      ]
    },
    {
      "cell_type": "code",
      "execution_count": 29,
      "metadata": {
        "colab": {
          "base_uri": "https://localhost:8080/"
        },
        "id": "2UP4-H_oF4TZ",
        "outputId": "590b7b46-f468-43b2-b943-72b9835f0cd8"
      },
      "outputs": [
        {
          "output_type": "stream",
          "name": "stdout",
          "text": [
            "7/7 [==============================] - 0s 39ms/step - loss: 0.2197 - accuracy: 0.9130\n"
          ]
        }
      ],
      "source": [
        "# Evaluate the trained model.\n",
        "model_evaluation_history = LRCN_model.evaluate(features_test, labels_test)"
      ]
    },
    {
      "cell_type": "markdown",
      "source": [
        "**please don't forget to change expert number**"
      ],
      "metadata": {
        "id": "6cFm75mqPQv2"
      }
    },
    {
      "cell_type": "code",
      "execution_count": 33,
      "metadata": {
        "id": "ZQFzvcgbF73v"
      },
      "outputs": [],
      "source": [
        "# Get the loss and accuracy from model_evaluation_history.\n",
        "model_evaluation_loss, model_evaluation_accuracy = model_evaluation_history\n",
        "\n",
        "# Define the string date format.\n",
        "# Get the current Date and Time in a DateTime Object.\n",
        "# Convert the DateTime object to string according to the style mentioned in date_time_format string.\n",
        "#date_time_format = '%Y_%m_%d__%H_%M_%S'\n",
        "#current_date_time_dt = dt.datetime.now()\n",
        "#current_date_time_string = dt.datetime.strftime(current_date_time_dt, date_time_format)\n",
        "    \n",
        "# Define a useful name for our model to make it easy for us while navigating through multiple saved models.\n",
        "model_file_name = f'/content/drive/My Drive/fusion/video/model/expert1/best_LRCN_model___Loss_{model_evaluation_loss}___Accuracy_{model_evaluation_accuracy}.h5'\n",
        "\n",
        "# Save the Model.\n",
        "LRCN_model.save(model_file_name)"
      ]
    },
    {
      "cell_type": "code",
      "source": [
        "from keras.models import save_model\n",
        "\n",
        "# you can write whatever you desire instead of 'my_model'\n",
        "# model = Your trained model\n",
        "LRCN_model.save('/content/drive/My Drive/fusion/video/model/expert1/best_LRCN_model')\n"
      ],
      "metadata": {
        "colab": {
          "base_uri": "https://localhost:8080/"
        },
        "id": "A18RutO-XK26",
        "outputId": "8549d842-9479-485e-a368-402e45f7388b"
      },
      "execution_count": 34,
      "outputs": [
        {
          "output_type": "stream",
          "name": "stderr",
          "text": [
            "WARNING:absl:Found untraced functions such as lstm_cell_layer_call_fn, lstm_cell_layer_call_and_return_conditional_losses while saving (showing 2 of 2). These functions will not be directly callable after loading.\n"
          ]
        },
        {
          "output_type": "stream",
          "name": "stdout",
          "text": [
            "INFO:tensorflow:Assets written to: /content/drive/My Drive/fusion/video/model/expert1/best_LRCN_model/assets\n"
          ]
        },
        {
          "output_type": "stream",
          "name": "stderr",
          "text": [
            "INFO:tensorflow:Assets written to: /content/drive/My Drive/fusion/video/model/expert1/best_LRCN_model/assets\n",
            "WARNING:absl:<keras.layers.recurrent.LSTMCell object at 0x7f753040b650> has the same name 'LSTMCell' as a built-in Keras object. Consider renaming <class 'keras.layers.recurrent.LSTMCell'> to avoid naming conflicts when loading with `tf.keras.models.load_model`. If renaming is not possible, pass the object in the `custom_objects` parameter of the load function.\n"
          ]
        }
      ]
    },
    {
      "cell_type": "code",
      "source": [
        "# serialize model to JSON\n",
        "model_json = LRCN_model.to_json()\n",
        "with open(\"/content/drive/My Drive/fusion/video/model/expert1/best_LRCN_model.json\", \"w\") as json_file:\n",
        "    json_file.write(model_json)"
      ],
      "metadata": {
        "id": "Ttu6HwNtXx7x"
      },
      "execution_count": 35,
      "outputs": []
    },
    {
      "cell_type": "code",
      "execution_count": 36,
      "metadata": {
        "id": "f6YHM7o_F-LU"
      },
      "outputs": [],
      "source": [
        "def plot_metric(model_training_history, metric_name_1, metric_name_2, plot_name):\n",
        "    '''\n",
        "    This function will plot the metrics passed to it in a graph.\n",
        "    Args:\n",
        "        model_training_history: A history object containing a record of training and validation \n",
        "                                loss values and metrics values at successive epochs\n",
        "        metric_name_1:          The name of the first metric that needs to be plotted in the graph.\n",
        "        metric_name_2:          The name of the second metric that needs to be plotted in the graph.\n",
        "        plot_name:              The title of the graph.\n",
        "    '''\n",
        "    \n",
        "    # Get metric values using metric names as identifiers.\n",
        "    metric_value_1 = model_training_history.history[metric_name_1]\n",
        "    metric_value_2 = model_training_history.history[metric_name_2]\n",
        "    \n",
        "    # Construct a range object which will be used as x-axis (horizontal plane) of the graph.\n",
        "    epochs = range(len(metric_value_1))\n",
        "\n",
        "    # Plot the Graph.\n",
        "    plt.plot(epochs, metric_value_1, 'blue', label = metric_name_1)\n",
        "    plt.plot(epochs, metric_value_2, 'red', label = metric_name_2)\n",
        "\n",
        "    # Add title to the plot.\n",
        "    plt.title(str(plot_name))\n",
        "\n",
        "    # Add legend to the plot.\n",
        "    plt.legend()"
      ]
    },
    {
      "cell_type": "code",
      "execution_count": 37,
      "metadata": {
        "colab": {
          "base_uri": "https://localhost:8080/",
          "height": 281
        },
        "id": "3V346_N6GAKN",
        "outputId": "6b7587a6-4ceb-4b27-ec13-ad874197586f"
      },
      "outputs": [
        {
          "output_type": "display_data",
          "data": {
            "text/plain": [
              "<Figure size 432x288 with 1 Axes>"
            ],
            "image/png": "[encoded data removed]"
          },
          "metadata": {
            "needs_background": "light"
          }
        }
      ],
      "source": [
        "# Visualize the training and validation loss metrices.\n",
        "plot_metric(LRCN_model_training_history, 'loss', 'val_loss', 'Total Loss vs Total Validation Loss')"
      ]
    },
    {
      "cell_type": "code",
      "execution_count": 38,
      "metadata": {
        "colab": {
          "base_uri": "https://localhost:8080/",
          "height": 281
        },
        "id": "K-2dqoIFGCZl",
        "outputId": "216633fd-e47c-4e75-f886-9c16575f1045"
      },
      "outputs": [
        {
          "output_type": "display_data",
          "data": {
            "text/plain": [
              "<Figure size 432x288 with 1 Axes>"
            ],
            "image/png": "[encoded data removed]"
          },
          "metadata": {
            "needs_background": "light"
          }
        }
      ],
      "source": [
        "# Visualize the training and validation accuracy metrices.\n",
        "plot_metric(LRCN_model_training_history, 'accuracy', 'val_accuracy', 'Total Accuracy vs Total Validation Accuracy')"
      ]
    },
    {
      "cell_type": "code",
      "execution_count": 39,
      "metadata": {
        "colab": {
          "base_uri": "https://localhost:8080/"
        },
        "id": "UIQGDtkcGGu0",
        "outputId": "d03d5719-00c0-4aaf-9cda-71a70aabb19f"
      },
      "outputs": [
        {
          "output_type": "execute_result",
          "data": {
            "text/plain": [
              "array([[9.8682308e-01, 3.8750996e-03, 1.7230903e-05, 8.4163491e-03,\n",
              "        1.4429707e-04, 7.2388869e-04],\n",
              "       [4.4804419e-05, 2.3541336e-03, 1.2225547e-04, 9.6983039e-01,\n",
              "        1.7407885e-03, 2.5907701e-02],\n",
              "       [3.2442310e-07, 8.6506807e-05, 9.9989998e-01, 5.5364749e-06,\n",
              "        1.3359470e-06, 6.4477631e-06],\n",
              "       ...,\n",
              "       [1.6278661e-03, 4.6927966e-03, 3.2865725e-04, 4.0435940e-03,\n",
              "        8.3194947e-01, 1.5735771e-01],\n",
              "       [4.3168922e-05, 2.3177735e-04, 9.1872716e-05, 3.4788526e-03,\n",
              "        8.2316494e-01, 1.7298935e-01],\n",
              "       [4.5240507e-04, 9.9756002e-01, 1.7179789e-03, 2.5444012e-04,\n",
              "        7.7225504e-06, 7.4657619e-06]], dtype=float32)"
            ]
          },
          "metadata": {},
          "execution_count": 39
        }
      ],
      "source": [
        "predictions =  LRCN_model.predict(features_test)\n",
        "predictions"
      ]
    },
    {
      "cell_type": "code",
      "execution_count": 40,
      "metadata": {
        "colab": {
          "base_uri": "https://localhost:8080/"
        },
        "id": "E7smnX9oGMly",
        "outputId": "7d5cf3e4-9a82-486d-8a49-860d760a0ccd"
      },
      "outputs": [
        {
          "output_type": "execute_result",
          "data": {
            "text/plain": [
              "array([0, 3, 2, 5, 5, 2, 5, 1, 4, 0, 3, 1, 4, 0, 1, 5, 4, 1, 1, 1, 5, 2,\n",
              "       0, 2, 2, 5, 3, 5, 5, 3, 5, 4, 5, 0, 2, 2, 4, 1, 5, 4, 2, 2, 1, 5,\n",
              "       2, 1, 5, 5, 4, 3, 4, 2, 1, 3, 3, 0, 0, 0, 2, 3, 4, 4, 5, 0, 1, 3,\n",
              "       2, 0, 5, 1, 1, 2, 5, 3, 5, 4, 0, 3, 4, 4, 3, 0, 4, 0, 1, 1, 2, 3,\n",
              "       3, 5, 5, 1, 0, 1, 5, 5, 1, 2, 5, 3, 4, 3, 3, 0, 4, 3, 2, 1, 4, 1,\n",
              "       5, 2, 0, 1, 4, 0, 4, 1, 1, 1, 1, 5, 1, 4, 1, 2, 3, 2, 3, 1, 2, 0,\n",
              "       1, 3, 1, 0, 5, 0, 1, 1, 2, 1, 2, 3, 1, 2, 3, 0, 0, 3, 2, 3, 5, 0,\n",
              "       1, 2, 1, 3, 0, 0, 1, 3, 3, 2, 4, 1, 0, 0, 5, 4, 4, 3, 1, 5, 3, 1,\n",
              "       5, 0, 4, 5, 4, 0, 1, 5, 3, 3, 1, 3, 3, 4, 1, 4, 1, 0, 4, 2, 3, 1,\n",
              "       5, 5, 3, 2, 5, 2, 4, 4, 1])"
            ]
          },
          "metadata": {},
          "execution_count": 40
        }
      ],
      "source": [
        "preds=predictions.argmax(axis=1)\n",
        "preds"
      ]
    },
    {
      "cell_type": "code",
      "execution_count": 41,
      "metadata": {
        "colab": {
          "base_uri": "https://localhost:8080/"
        },
        "id": "DvrDaZw2GPHK",
        "outputId": "2e3d14b9-64fe-4b94-ce4e-361606f7c1d8"
      },
      "outputs": [
        {
          "output_type": "execute_result",
          "data": {
            "text/plain": [
              "array([0, 3, 2, 5, 5, 2, 5, 1, 4, 0, 3, 1, 4, 0, 1, 5, 4, 1, 1, 1, 5, 2,\n",
              "       0, 2, 2, 5, 3, 5, 5, 3, 5, 4, 5, 0, 2, 2, 4, 1, 5, 4, 2, 2, 1, 5,\n",
              "       2, 1, 5, 5, 4, 3, 4, 2, 1, 3, 3, 0, 0, 0, 2, 3, 4, 4, 5, 0, 1, 3,\n",
              "       2, 0, 5, 1, 1, 2, 5, 3, 5, 4, 0, 3, 4, 4, 3, 0, 4, 0, 1, 1, 2, 3,\n",
              "       3, 5, 5, 1, 0, 1, 5, 5, 1, 2, 5, 3, 4, 3, 3, 0, 4, 3, 2, 1, 4, 1,\n",
              "       5, 2, 0, 1, 4, 0, 4, 1, 1, 1, 1, 5, 1, 4, 1, 2, 3, 2, 3, 1, 2, 0,\n",
              "       1, 3, 1, 0, 5, 0, 1, 1, 2, 1, 2, 3, 1, 2, 3, 0, 0, 3, 2, 3, 5, 0,\n",
              "       1, 2, 1, 3, 0, 0, 1, 3, 3, 2, 4, 1, 0, 0, 5, 4, 4, 3, 1, 5, 3, 1,\n",
              "       5, 0, 4, 5, 4, 0, 1, 5, 3, 3, 1, 3, 3, 4, 1, 4, 1, 0, 4, 2, 3, 1,\n",
              "       5, 5, 3, 2, 5, 2, 4, 4, 1])"
            ]
          },
          "metadata": {},
          "execution_count": 41
        }
      ],
      "source": [
        "new_preds = preds.astype(int).flatten()\n",
        "new_preds"
      ]
    },
    {
      "cell_type": "code",
      "execution_count": 42,
      "metadata": {
        "colab": {
          "base_uri": "https://localhost:8080/",
          "height": 508
        },
        "id": "7p7e1ihVGSke",
        "outputId": "da13f79a-7c70-4166-f2d4-2ffb8d24673f"
      },
      "outputs": [
        {
          "output_type": "stream",
          "name": "stdout",
          "text": [
            "              precision    recall  f1-score   support\n",
            "\n",
            "           0       0.83      0.93      0.88        27\n",
            "           1       0.91      0.95      0.93        44\n",
            "           2       0.97      0.97      0.97        30\n",
            "           3       0.86      0.91      0.89        34\n",
            "           4       1.00      0.88      0.94        34\n",
            "           5       0.91      0.84      0.88        38\n",
            "\n",
            "    accuracy                           0.91       207\n",
            "   macro avg       0.91      0.91      0.91       207\n",
            "weighted avg       0.92      0.91      0.91       207\n",
            "\n",
            "----accuracy score 91.30434782608695 ----\n"
          ]
        },
        {
          "output_type": "display_data",
          "data": {
            "text/plain": [
              "<Figure size 432x288 with 2 Axes>"
            ],
            "image/png": "[encoded data removed]"
          },
          "metadata": {
            "needs_background": "light"
          }
        }
      ],
      "source": [
        "from sklearn.metrics import classification_report, confusion_matrix,accuracy_score\n",
        "import seaborn as sn\n",
        "import pandas as pd\n",
        "import numpy as np\n",
        "new_labels=np.argmax(labels_test, axis=1)\n",
        "print(classification_report(new_labels,new_preds))\n",
        "\n",
        "acc = float(accuracy_score(new_labels,new_preds))*100\n",
        "print(\"----accuracy score %s ----\" % acc)\n",
        "\n",
        "cm = confusion_matrix(new_labels,new_preds)\n",
        "#df_cm = pd.DataFrame(cm)\n",
        "class_names = ['neutral','calm', 'happy','sad','angry', 'fearful' ]\n",
        "df_cm = pd.DataFrame(cm, index=class_names, columns=class_names,)\n",
        "sn.heatmap(df_cm, annot=True, fmt='')\n",
        "plt.show()"
      ]
    },
    {
      "cell_type": "code",
      "source": [
        "predictions_train=LRCN_model.predict(features_train)\n",
        "predictions_valid=LRCN_model.predict(features_valid)"
      ],
      "metadata": {
        "id": "n3lLZ2bpZ3u0"
      },
      "execution_count": 45,
      "outputs": []
    },
    {
      "cell_type": "code",
      "source": [
        "df_video_train=pd.DataFrame(predictions_train,columns=[\"OV_\"+str(i) for i in range(6)]) \n",
        "df_video_test=pd.DataFrame(predictions,columns=[\"OV_\"+str(i) for i in range(6)]) \n",
        "df_video_valid=pd.DataFrame(predictions_valid,columns=[\"OV_\"+str(i) for i in range(6)])"
      ],
      "metadata": {
        "id": "FYlqyEzUcl7n"
      },
      "execution_count": 46,
      "outputs": []
    },
    {
      "cell_type": "code",
      "source": [
        "df_video_valid"
      ],
      "metadata": {
        "colab": {
          "base_uri": "https://localhost:8080/",
          "height": 424
        },
        "id": "rz92KqhXcw3Q",
        "outputId": "9773f7de-cda6-4c00-ec6c-2091402262f7"
      },
      "execution_count": 47,
      "outputs": [
        {
          "output_type": "execute_result",
          "data": {
            "text/plain": [
              "             OV_0      OV_1      OV_2      OV_3      OV_4      OV_5\n",
              "0    1.801540e-07  0.000050  0.999919  0.000018  0.000001  0.000011\n",
              "1    4.498919e-03  0.002966  0.000169  0.297283  0.001508  0.693575\n",
              "2    5.254856e-06  0.000164  0.000006  0.999618  0.000018  0.000188\n",
              "3    1.005179e-03  0.997459  0.000782  0.000730  0.000003  0.000020\n",
              "4    5.681583e-08  0.000012  0.999946  0.000013  0.000001  0.000027\n",
              "..            ...       ...       ...       ...       ...       ...\n",
              "202  2.386935e-03  0.992171  0.004256  0.001075  0.000007  0.000105\n",
              "203  9.088054e-02  0.003614  0.000219  0.675536  0.000492  0.229259\n",
              "204  6.606330e-06  0.000776  0.000345  0.000146  0.992820  0.005906\n",
              "205  9.965926e-05  0.000174  0.000029  0.001711  0.000860  0.997127\n",
              "206  2.576359e-07  0.000035  0.000007  0.000117  0.999703  0.000138\n",
              "\n",
              "[207 rows x 6 columns]"
            ],
            "text/html": [
              "\n",
              "  <div id=\"df-0b8dad3b-fd44-4a2b-bed9-bcaa8eb86b5b\">\n",
              "    <div class=\"colab-df-container\">\n",
              "      <div>\n",
              "<style scoped>\n",
              "    .dataframe tbody tr th:only-of-type {\n",
              "        vertical-align: middle;\n",
              "    }\n",
              "\n",
              "    .dataframe tbody tr th {\n",
              "        vertical-align: top;\n",
              "    }\n",
              "\n",
              "    .dataframe thead th {\n",
              "        text-align: right;\n",
              "    }\n",
              "</style>\n",
              "<table border=\"1\" class=\"dataframe\">\n",
              "  <thead>\n",
              "    <tr style=\"text-align: right;\">\n",
              "      <th></th>\n",
              "      <th>OV_0</th>\n",
              "      <th>OV_1</th>\n",
              "      <th>OV_2</th>\n",
              "      <th>OV_3</th>\n",
              "      <th>OV_4</th>\n",
              "      <th>OV_5</th>\n",
              "    </tr>\n",
              "  </thead>\n",
              "  <tbody>\n",
              "    <tr>\n",
              "      <th>0</th>\n",
              "      <td>1.801540e-07</td>\n",
              "      <td>0.000050</td>\n",
              "      <td>0.999919</td>\n",
              "      <td>0.000018</td>\n",
              "      <td>0.000001</td>\n",
              "      <td>0.000011</td>\n",
              "    </tr>\n",
              "    <tr>\n",
              "      <th>1</th>\n",
              "      <td>4.498919e-03</td>\n",
              "      <td>0.002966</td>\n",
              "      <td>0.000169</td>\n",
              "      <td>0.297283</td>\n",
              "      <td>0.001508</td>\n",
              "      <td>0.693575</td>\n",
              "    </tr>\n",
              "    <tr>\n",
              "      <th>2</th>\n",
              "      <td>5.254856e-06</td>\n",
              "      <td>0.000164</td>\n",
              "      <td>0.000006</td>\n",
              "      <td>0.999618</td>\n",
              "      <td>0.000018</td>\n",
              "      <td>0.000188</td>\n",
              "    </tr>\n",
              "    <tr>\n",
              "      <th>3</th>\n",
              "      <td>1.005179e-03</td>\n",
              "      <td>0.997459</td>\n",
              "      <td>0.000782</td>\n",
              "      <td>0.000730</td>\n",
              "      <td>0.000003</td>\n",
              "      <td>0.000020</td>\n",
              "    </tr>\n",
              "    <tr>\n",
              "      <th>4</th>\n",
              "      <td>5.681583e-08</td>\n",
              "      <td>0.000012</td>\n",
              "      <td>0.999946</td>\n",
              "      <td>0.000013</td>\n",
              "      <td>0.000001</td>\n",
              "      <td>0.000027</td>\n",
              "    </tr>\n",
              "    <tr>\n",
              "      <th>...</th>\n",
              "      <td>...</td>\n",
              "      <td>...</td>\n",
              "      <td>...</td>\n",
              "      <td>...</td>\n",
              "      <td>...</td>\n",
              "      <td>...</td>\n",
              "    </tr>\n",
              "    <tr>\n",
              "      <th>202</th>\n",
              "      <td>2.386935e-03</td>\n",
              "      <td>0.992171</td>\n",
              "      <td>0.004256</td>\n",
              "      <td>0.001075</td>\n",
              "      <td>0.000007</td>\n",
              "      <td>0.000105</td>\n",
              "    </tr>\n",
              "    <tr>\n",
              "      <th>203</th>\n",
              "      <td>9.088054e-02</td>\n",
              "      <td>0.003614</td>\n",
              "      <td>0.000219</td>\n",
              "      <td>0.675536</td>\n",
              "      <td>0.000492</td>\n",
              "      <td>0.229259</td>\n",
              "    </tr>\n",
              "    <tr>\n",
              "      <th>204</th>\n",
              "      <td>6.606330e-06</td>\n",
              "      <td>0.000776</td>\n",
              "      <td>0.000345</td>\n",
              "      <td>0.000146</td>\n",
              "      <td>0.992820</td>\n",
              "      <td>0.005906</td>\n",
              "    </tr>\n",
              "    <tr>\n",
              "      <th>205</th>\n",
              "      <td>9.965926e-05</td>\n",
              "      <td>0.000174</td>\n",
              "      <td>0.000029</td>\n",
              "      <td>0.001711</td>\n",
              "      <td>0.000860</td>\n",
              "      <td>0.997127</td>\n",
              "    </tr>\n",
              "    <tr>\n",
              "      <th>206</th>\n",
              "      <td>2.576359e-07</td>\n",
              "      <td>0.000035</td>\n",
              "      <td>0.000007</td>\n",
              "      <td>0.000117</td>\n",
              "      <td>0.999703</td>\n",
              "      <td>0.000138</td>\n",
              "    </tr>\n",
              "  </tbody>\n",
              "</table>\n",
              "<p>207 rows × 6 columns</p>\n",
              "</div>\n",
              "      <button class=\"colab-df-convert\" onclick=\"convertToInteractive('df-0b8dad3b-fd44-4a2b-bed9-bcaa8eb86b5b')\"\n",
              "              title=\"Convert this dataframe to an interactive table.\"\n",
              "              style=\"display:none;\">\n",
              "        \n",
              "  <svg xmlns=\"http://www.w3.org/2000/svg\" height=\"24px\"viewBox=\"0 0 24 24\"\n",
              "       width=\"24px\">\n",
              "    <path d=\"M0 0h24v24H0V0z\" fill=\"none\"/>\n",
              "    <path d=\"M18.56 5.44l.94 2.06.94-2.06 2.06-.94-2.06-.94-.94-2.06-.94 2.06-2.06.94zm-11 1L8.5 8.5l.94-2.06 2.06-.94-2.06-.94L8.5 2.5l-.94 2.06-2.06.94zm10 10l.94 2.06.94-2.06 2.06-.94-2.06-.94-.94-2.06-.94 2.06-2.06.94z\"/><path d=\"M17.41 7.96l-1.37-1.37c-.4-.4-.92-.59-1.43-.59-.52 0-1.04.2-1.43.59L10.3 9.45l-7.72 7.72c-.78.78-.78 2.05 0 2.83L4 21.41c.39.39.9.59 1.41.59.51 0 1.02-.2 1.41-.59l7.78-7.78 2.81-2.81c.8-.78.8-2.07 0-2.86zM5.41 20L4 18.59l7.72-7.72 1.47 1.35L5.41 20z\"/>\n",
              "  </svg>\n",
              "      </button>\n",
              "      \n",
              "  <style>\n",
              "    .colab-df-container {\n",
              "      display:flex;\n",
              "      flex-wrap:wrap;\n",
              "      gap: 12px;\n",
              "    }\n",
              "\n",
              "    .colab-df-convert {\n",
              "      background-color: #E8F0FE;\n",
              "      border: none;\n",
              "      border-radius: 50%;\n",
              "      cursor: pointer;\n",
              "      display: none;\n",
              "      fill: #1967D2;\n",
              "      height: 32px;\n",
              "      padding: 0 0 0 0;\n",
              "      width: 32px;\n",
              "    }\n",
              "\n",
              "    .colab-df-convert:hover {\n",
              "      background-color: #E2EBFA;\n",
              "      box-shadow: 0px 1px 2px rgba(60, 64, 67, 0.3), 0px 1px 3px 1px rgba(60, 64, 67, 0.15);\n",
              "      fill: #174EA6;\n",
              "    }\n",
              "\n",
              "    [theme=dark] .colab-df-convert {\n",
              "      background-color: #3B4455;\n",
              "      fill: #D2E3FC;\n",
              "    }\n",
              "\n",
              "    [theme=dark] .colab-df-convert:hover {\n",
              "      background-color: #434B5C;\n",
              "      box-shadow: 0px 1px 3px 1px rgba(0, 0, 0, 0.15);\n",
              "      filter: drop-shadow(0px 1px 2px rgba(0, 0, 0, 0.3));\n",
              "      fill: #FFFFFF;\n",
              "    }\n",
              "  </style>\n",
              "\n",
              "      <script>\n",
              "        const buttonEl =\n",
              "          document.querySelector('#df-0b8dad3b-fd44-4a2b-bed9-bcaa8eb86b5b button.colab-df-convert');\n",
              "        buttonEl.style.display =\n",
              "          google.colab.kernel.accessAllowed ? 'block' : 'none';\n",
              "\n",
              "        async function convertToInteractive(key) {\n",
              "          const element = document.querySelector('#df-0b8dad3b-fd44-4a2b-bed9-bcaa8eb86b5b');\n",
              "          const dataTable =\n",
              "            await google.colab.kernel.invokeFunction('convertToInteractive',\n",
              "                                                     [key], {});\n",
              "          if (!dataTable) return;\n",
              "\n",
              "          const docLinkHtml = 'Like what you see? Visit the ' +\n",
              "            '<a target=\"_blank\" href=https://colab.research.google.com/notebooks/data_table.ipynb>data table notebook</a>'\n",
              "            + ' to learn more about interactive tables.';\n",
              "          element.innerHTML = '';\n",
              "          dataTable['output_type'] = 'display_data';\n",
              "          await google.colab.output.renderOutput(dataTable, element);\n",
              "          const docLink = document.createElement('div');\n",
              "          docLink.innerHTML = docLinkHtml;\n",
              "          element.appendChild(docLink);\n",
              "        }\n",
              "      </script>\n",
              "    </div>\n",
              "  </div>\n",
              "  "
            ]
          },
          "metadata": {},
          "execution_count": 47
        }
      ]
    },
    {
      "cell_type": "code",
      "source": [
        "save_dir = '/content/drive/My Drive/fusion/video/data_set_fusion/expert1'\n",
        "\n",
        "savedvX = joblib.dump(df_video_train, os.path.join(save_dir, 'train/pred_train'))\n",
        "savedvX = joblib.dump(df_video_test, os.path.join(save_dir, 'test/pred_test'))\n",
        "savedvX = joblib.dump(df_video_valid, os.path.join(save_dir, 'valid/pred_valid'))"
      ],
      "metadata": {
        "id": "cJrh9R1CZKY-"
      },
      "execution_count": 60,
      "outputs": []
    },
    {
      "cell_type": "code",
      "source": [
        ""
      ],
      "metadata": {
        "id": "1puKDjgKjNgO"
      },
      "execution_count": null,
      "outputs": []
    }
  ],
  "metadata": {
    "accelerator": "GPU",
    "colab": {
      "machine_shape": "hm",
      "name": "our_best_final_lrcn_model_1.ipynb",
      "provenance": [],
      "collapsed_sections": []
    },
    "kernelspec": {
      "display_name": "Python 3",
      "name": "python3"
    },
    "language_info": {
      "name": "python"
    }
  },
  "nbformat": 4,
  "nbformat_minor": 0
}