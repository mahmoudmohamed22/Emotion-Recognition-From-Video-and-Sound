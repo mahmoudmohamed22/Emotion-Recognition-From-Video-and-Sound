{
  "nbformat": 4,
  "nbformat_minor": 0,
  "metadata": {
    "colab": {
      "name": "original_rms_0.0002_without decay_500_1.ipynb",
      "provenance": [],
      "collapsed_sections": []
    },
    "kernelspec": {
      "name": "python3",
      "display_name": "Python 3"
    },
    "language_info": {
      "name": "python"
    },
    "accelerator": "GPU"
  },
  "cells": [
    {
      "cell_type": "code",
      "execution_count": 1,
      "metadata": {
        "colab": {
          "base_uri": "https://localhost:8080/"
        },
        "id": "9SRCO-a_AlH5",
        "outputId": "3842e93e-0130-4313-d573-dc5a6d648a7e"
      },
      "outputs": [
        {
          "output_type": "stream",
          "name": "stdout",
          "text": [
            "Drive already mounted at /content/drive; to attempt to forcibly remount, call drive.mount(\"/content/drive\", force_remount=True).\n"
          ]
        }
      ],
      "source": [
        "from google.colab import drive\n",
        "drive.mount('/content/drive')"
      ]
    },
    {
      "cell_type": "code",
      "source": [
        "!pip install librosa"
      ],
      "metadata": {
        "colab": {
          "base_uri": "https://localhost:8080/"
        },
        "id": "5Lo4mUwG9RMd",
        "outputId": "1e9ce0e5-8282-44a9-c4f0-7bcbb4f39a97"
      },
      "execution_count": 2,
      "outputs": [
        {
          "output_type": "stream",
          "name": "stdout",
          "text": [
            "Looking in indexes: https://pypi.org/simple, https://us-python.pkg.dev/colab-wheels/public/simple/\n",
            "Requirement already satisfied: librosa in /usr/local/lib/python3.7/dist-packages (0.8.1)\n",
            "Requirement already satisfied: resampy>=0.2.2 in /usr/local/lib/python3.7/dist-packages (from librosa) (0.2.2)\n",
            "Requirement already satisfied: packaging>=20.0 in /usr/local/lib/python3.7/dist-packages (from librosa) (21.3)\n",
            "Requirement already satisfied: scikit-learn!=0.19.0,>=0.14.0 in /usr/local/lib/python3.7/dist-packages (from librosa) (1.0.2)\n",
            "Requirement already satisfied: numba>=0.43.0 in /usr/local/lib/python3.7/dist-packages (from librosa) (0.51.2)\n",
            "Requirement already satisfied: joblib>=0.14 in /usr/local/lib/python3.7/dist-packages (from librosa) (1.1.0)\n",
            "Requirement already satisfied: audioread>=2.0.0 in /usr/local/lib/python3.7/dist-packages (from librosa) (2.1.9)\n",
            "Requirement already satisfied: scipy>=1.0.0 in /usr/local/lib/python3.7/dist-packages (from librosa) (1.4.1)\n",
            "Requirement already satisfied: pooch>=1.0 in /usr/local/lib/python3.7/dist-packages (from librosa) (1.6.0)\n",
            "Requirement already satisfied: soundfile>=0.10.2 in /usr/local/lib/python3.7/dist-packages (from librosa) (0.10.3.post1)\n",
            "Requirement already satisfied: numpy>=1.15.0 in /usr/local/lib/python3.7/dist-packages (from librosa) (1.21.6)\n",
            "Requirement already satisfied: decorator>=3.0.0 in /usr/local/lib/python3.7/dist-packages (from librosa) (4.4.2)\n",
            "Requirement already satisfied: setuptools in /usr/local/lib/python3.7/dist-packages (from numba>=0.43.0->librosa) (57.4.0)\n",
            "Requirement already satisfied: llvmlite<0.35,>=0.34.0.dev0 in /usr/local/lib/python3.7/dist-packages (from numba>=0.43.0->librosa) (0.34.0)\n",
            "Requirement already satisfied: pyparsing!=3.0.5,>=2.0.2 in /usr/local/lib/python3.7/dist-packages (from packaging>=20.0->librosa) (3.0.9)\n",
            "Requirement already satisfied: requests>=2.19.0 in /usr/local/lib/python3.7/dist-packages (from pooch>=1.0->librosa) (2.23.0)\n",
            "Requirement already satisfied: appdirs>=1.3.0 in /usr/local/lib/python3.7/dist-packages (from pooch>=1.0->librosa) (1.4.4)\n",
            "Requirement already satisfied: certifi>=2017.4.17 in /usr/local/lib/python3.7/dist-packages (from requests>=2.19.0->pooch>=1.0->librosa) (2022.5.18.1)\n",
            "Requirement already satisfied: urllib3!=1.25.0,!=1.25.1,<1.26,>=1.21.1 in /usr/local/lib/python3.7/dist-packages (from requests>=2.19.0->pooch>=1.0->librosa) (1.24.3)\n",
            "Requirement already satisfied: idna<3,>=2.5 in /usr/local/lib/python3.7/dist-packages (from requests>=2.19.0->pooch>=1.0->librosa) (2.10)\n",
            "Requirement already satisfied: chardet<4,>=3.0.2 in /usr/local/lib/python3.7/dist-packages (from requests>=2.19.0->pooch>=1.0->librosa) (3.0.4)\n",
            "Requirement already satisfied: six>=1.3 in /usr/local/lib/python3.7/dist-packages (from resampy>=0.2.2->librosa) (1.15.0)\n",
            "Requirement already satisfied: threadpoolctl>=2.0.0 in /usr/local/lib/python3.7/dist-packages (from scikit-learn!=0.19.0,>=0.14.0->librosa) (3.1.0)\n",
            "Requirement already satisfied: cffi>=1.0 in /usr/local/lib/python3.7/dist-packages (from soundfile>=0.10.2->librosa) (1.15.0)\n",
            "Requirement already satisfied: pycparser in /usr/local/lib/python3.7/dist-packages (from cffi>=1.0->soundfile>=0.10.2->librosa) (2.21)\n"
          ]
        }
      ]
    },
    {
      "cell_type": "code",
      "metadata": {
        "id": "HJjcbxwy46bG",
        "colab": {
          "base_uri": "https://localhost:8080/",
          "height": 17
        },
        "outputId": "056cbaf5-e09d-470c-b7ed-075e270c3586"
      },
      "source": [
        "# Orignial Notebook: https://github.com/MITESHPUTHRANNEU/Speech-Emotion-Analyzer/blob/master/final_results_gender_test.ipynb\n",
        "# This notebook author: Reza Chu\n",
        "# Last Editing Date: 31st May 2019\n",
        "\n",
        "## Python\n",
        "import os\n",
        "import random\n",
        "import sys\n",
        "\n",
        "import IPython\n",
        "from IPython.display import Audio\n",
        "from IPython.display import Image\n",
        "import matplotlib.pyplot as plt\n",
        "\n",
        "## Package\n",
        "import glob \n",
        "import keras\n",
        "import IPython.display as ipd\n",
        "import librosa\n",
        "import librosa.display\n",
        "import matplotlib.pyplot as plt\n",
        "import numpy as np\n",
        "import pandas as pd\n",
        "import plotly.graph_objs as go\n",
        "import plotly.offline as py\n",
        "import plotly.tools as tls\n",
        "import seaborn as sns\n",
        "import scipy.io.wavfile\n",
        "import tensorflow as tf\n",
        "py.init_notebook_mode(connected=True)\n",
        "\n",
        "## Keras\n",
        "from keras import regularizers\n",
        "from keras.callbacks import ModelCheckpoint, LearningRateScheduler, EarlyStopping\n",
        "from keras.callbacks import  History, ReduceLROnPlateau, CSVLogger\n",
        "from keras.models import Model, Sequential\n",
        "from keras.layers import Dense, Embedding, LSTM\n",
        "from keras.layers import Input, Flatten, Dropout, Activation, BatchNormalization\n",
        "from keras.layers import Conv1D, MaxPooling1D, AveragePooling1D\n",
        "from keras.preprocessing import sequence\n",
        "from keras.preprocessing.sequence import pad_sequences\n",
        "from keras.preprocessing.text import Tokenizer\n",
        "from keras.utils import np_utils\n",
        "from tensorflow.keras.utils import to_categorical\n",
        "\n",
        "## Sklearn\n",
        "from sklearn.metrics import confusion_matrix\n",
        "from sklearn.preprocessing import LabelEncoder\n",
        "\n",
        "## Rest\n",
        "from scipy.fftpack import fft\n",
        "from scipy import signal\n",
        "from scipy.io import wavfile\n",
        "from tqdm import tqdm\n",
        "\n",
        "input_duration=3\n",
        "# % pylab inline"
      ],
      "execution_count": 3,
      "outputs": [
        {
          "output_type": "display_data",
          "data": {
            "text/html": [
              "        <script type=\"text/javascript\">\n",
              "        window.PlotlyConfig = {MathJaxConfig: 'local'};\n",
              "        if (window.MathJax) {MathJax.Hub.Config({SVG: {font: \"STIX-Web\"}});}\n",
              "        if (typeof require !== 'undefined') {\n",
              "        require.undef(\"plotly\");\n",
              "        requirejs.config({\n",
              "            paths: {\n",
              "                'plotly': ['https://cdn.plot.ly/plotly-2.8.3.min']\n",
              "            }\n",
              "        });\n",
              "        require(['plotly'], function(Plotly) {\n",
              "            window._Plotly = Plotly;\n",
              "        });\n",
              "        }\n",
              "        </script>\n",
              "        "
            ]
          },
          "metadata": {}
        }
      ]
    },
    {
      "cell_type": "code",
      "source": [
        "# # Saving joblib files to not load them again with the loop above\n",
        "\n",
        "# import joblib\n",
        "\n",
        "# X_name = 'x.joblib'\n",
        "# y_name = 'y.joblib'\n",
        "# save_dir = '/content/drive/My Drive/graduation project/audio/paper_code/features'\n",
        "\n",
        "# savedX = joblib.dump(X, os.path.join(save_dir, X_name))\n",
        "# savedy = joblib.dump(y, os.path.join(save_dir, y_name))"
      ],
      "metadata": {
        "id": "UCzic8rlDcuk"
      },
      "execution_count": 4,
      "outputs": []
    },
    {
      "cell_type": "code",
      "source": [
        "# # Loading saved models\n",
        "import joblib\n",
        "X = joblib.load('/content/drive/My Drive/graduation project/audio/paper_code/features/x.joblib')\n",
        "y = joblib.load('/content/drive/My Drive/graduation project/audio/paper_code/features/y.joblib')"
      ],
      "metadata": {
        "id": "Q35CN6zDrzg1"
      },
      "execution_count": 5,
      "outputs": []
    },
    {
      "cell_type": "code",
      "source": [
        "X.shape"
      ],
      "metadata": {
        "colab": {
          "base_uri": "https://localhost:8080/"
        },
        "id": "7PSTurzjCo5K",
        "outputId": "2e77b7a4-c100-486b-cf99-ddba70b93430"
      },
      "execution_count": 6,
      "outputs": [
        {
          "output_type": "execute_result",
          "data": {
            "text/plain": [
              "(2068, 40)"
            ]
          },
          "metadata": {},
          "execution_count": 6
        }
      ]
    },
    {
      "cell_type": "code",
      "source": [
        "from sklearn.model_selection import train_test_split\n",
        "\n",
        "X_train, X_test, y_train, y_test = train_test_split(X,y, test_size=0.1 ,shuffle = True\n",
        "                                                    , random_state=42)\n",
        "X_train , X_valid, y_train, y_valid = train_test_split(X_train,y_train, test_size=0.1112305212 , shuffle = True \n",
        "                                                       , random_state=42)"
      ],
      "metadata": {
        "id": "Ai4Fy5cPCiq1"
      },
      "execution_count": 7,
      "outputs": []
    },
    {
      "cell_type": "code",
      "source": [
        "import numpy as np\n",
        "x_traincnn = np.expand_dims(X_train, axis=2)\n",
        "x_testcnn = np.expand_dims(X_test, axis=2)\n",
        "X_valid= np.expand_dims(X_valid, axis=2)"
      ],
      "metadata": {
        "id": "tp1Fm5K3CEXu"
      },
      "execution_count": 8,
      "outputs": []
    },
    {
      "cell_type": "code",
      "source": [
        "x_traincnn.shape, x_testcnn.shape , X_valid.shape\n",
        "#1861"
      ],
      "metadata": {
        "id": "RI0MxoIPBws5",
        "colab": {
          "base_uri": "https://localhost:8080/"
        },
        "outputId": "d8853c58-f46a-45f3-9cd0-41f5b4329ec7"
      },
      "execution_count": 9,
      "outputs": [
        {
          "output_type": "execute_result",
          "data": {
            "text/plain": [
              "((1654, 40, 1), (207, 40, 1), (207, 40, 1))"
            ]
          },
          "metadata": {},
          "execution_count": 9
        }
      ]
    },
    {
      "cell_type": "code",
      "source": [
        "!pip install tensorflow"
      ],
      "metadata": {
        "colab": {
          "base_uri": "https://localhost:8080/"
        },
        "id": "oALhiMUd9G2Y",
        "outputId": "d7fdbfb2-2430-487c-828a-e60ff03fae5a"
      },
      "execution_count": 10,
      "outputs": [
        {
          "output_type": "stream",
          "name": "stdout",
          "text": [
            "Looking in indexes: https://pypi.org/simple, https://us-python.pkg.dev/colab-wheels/public/simple/\n",
            "Requirement already satisfied: tensorflow in /usr/local/lib/python3.7/dist-packages (2.8.2+zzzcolab20220527125636)\n",
            "Requirement already satisfied: keras<2.9,>=2.8.0rc0 in /usr/local/lib/python3.7/dist-packages (from tensorflow) (2.8.0)\n",
            "Requirement already satisfied: google-pasta>=0.1.1 in /usr/local/lib/python3.7/dist-packages (from tensorflow) (0.2.0)\n",
            "Requirement already satisfied: tensorflow-estimator<2.9,>=2.8 in /usr/local/lib/python3.7/dist-packages (from tensorflow) (2.8.0)\n",
            "Requirement already satisfied: tensorboard<2.9,>=2.8 in /usr/local/lib/python3.7/dist-packages (from tensorflow) (2.8.0)\n",
            "Requirement already satisfied: flatbuffers>=1.12 in /usr/local/lib/python3.7/dist-packages (from tensorflow) (2.0)\n",
            "Requirement already satisfied: keras-preprocessing>=1.1.1 in /usr/local/lib/python3.7/dist-packages (from tensorflow) (1.1.2)\n",
            "Requirement already satisfied: libclang>=9.0.1 in /usr/local/lib/python3.7/dist-packages (from tensorflow) (14.0.1)\n",
            "Requirement already satisfied: typing-extensions>=3.6.6 in /usr/local/lib/python3.7/dist-packages (from tensorflow) (4.2.0)\n",
            "Requirement already satisfied: opt-einsum>=2.3.2 in /usr/local/lib/python3.7/dist-packages (from tensorflow) (3.3.0)\n",
            "Requirement already satisfied: astunparse>=1.6.0 in /usr/local/lib/python3.7/dist-packages (from tensorflow) (1.6.3)\n",
            "Requirement already satisfied: protobuf<3.20,>=3.9.2 in /usr/local/lib/python3.7/dist-packages (from tensorflow) (3.17.3)\n",
            "Requirement already satisfied: termcolor>=1.1.0 in /usr/local/lib/python3.7/dist-packages (from tensorflow) (1.1.0)\n",
            "Requirement already satisfied: wrapt>=1.11.0 in /usr/local/lib/python3.7/dist-packages (from tensorflow) (1.14.1)\n",
            "Requirement already satisfied: grpcio<2.0,>=1.24.3 in /usr/local/lib/python3.7/dist-packages (from tensorflow) (1.46.3)\n",
            "Requirement already satisfied: numpy>=1.20 in /usr/local/lib/python3.7/dist-packages (from tensorflow) (1.21.6)\n",
            "Requirement already satisfied: h5py>=2.9.0 in /usr/local/lib/python3.7/dist-packages (from tensorflow) (3.1.0)\n",
            "Requirement already satisfied: gast>=0.2.1 in /usr/local/lib/python3.7/dist-packages (from tensorflow) (0.5.3)\n",
            "Requirement already satisfied: absl-py>=0.4.0 in /usr/local/lib/python3.7/dist-packages (from tensorflow) (1.0.0)\n",
            "Requirement already satisfied: six>=1.12.0 in /usr/local/lib/python3.7/dist-packages (from tensorflow) (1.15.0)\n",
            "Requirement already satisfied: setuptools in /usr/local/lib/python3.7/dist-packages (from tensorflow) (57.4.0)\n",
            "Requirement already satisfied: tensorflow-io-gcs-filesystem>=0.23.1 in /usr/local/lib/python3.7/dist-packages (from tensorflow) (0.26.0)\n",
            "Requirement already satisfied: wheel<1.0,>=0.23.0 in /usr/local/lib/python3.7/dist-packages (from astunparse>=1.6.0->tensorflow) (0.37.1)\n",
            "Requirement already satisfied: cached-property in /usr/local/lib/python3.7/dist-packages (from h5py>=2.9.0->tensorflow) (1.5.2)\n",
            "Requirement already satisfied: werkzeug>=0.11.15 in /usr/local/lib/python3.7/dist-packages (from tensorboard<2.9,>=2.8->tensorflow) (1.0.1)\n",
            "Requirement already satisfied: google-auth<3,>=1.6.3 in /usr/local/lib/python3.7/dist-packages (from tensorboard<2.9,>=2.8->tensorflow) (1.35.0)\n",
            "Requirement already satisfied: google-auth-oauthlib<0.5,>=0.4.1 in /usr/local/lib/python3.7/dist-packages (from tensorboard<2.9,>=2.8->tensorflow) (0.4.6)\n",
            "Requirement already satisfied: tensorboard-plugin-wit>=1.6.0 in /usr/local/lib/python3.7/dist-packages (from tensorboard<2.9,>=2.8->tensorflow) (1.8.1)\n",
            "Requirement already satisfied: tensorboard-data-server<0.7.0,>=0.6.0 in /usr/local/lib/python3.7/dist-packages (from tensorboard<2.9,>=2.8->tensorflow) (0.6.1)\n",
            "Requirement already satisfied: requests<3,>=2.21.0 in /usr/local/lib/python3.7/dist-packages (from tensorboard<2.9,>=2.8->tensorflow) (2.23.0)\n",
            "Requirement already satisfied: markdown>=2.6.8 in /usr/local/lib/python3.7/dist-packages (from tensorboard<2.9,>=2.8->tensorflow) (3.3.7)\n",
            "Requirement already satisfied: cachetools<5.0,>=2.0.0 in /usr/local/lib/python3.7/dist-packages (from google-auth<3,>=1.6.3->tensorboard<2.9,>=2.8->tensorflow) (4.2.4)\n",
            "Requirement already satisfied: pyasn1-modules>=0.2.1 in /usr/local/lib/python3.7/dist-packages (from google-auth<3,>=1.6.3->tensorboard<2.9,>=2.8->tensorflow) (0.2.8)\n",
            "Requirement already satisfied: rsa<5,>=3.1.4 in /usr/local/lib/python3.7/dist-packages (from google-auth<3,>=1.6.3->tensorboard<2.9,>=2.8->tensorflow) (4.8)\n",
            "Requirement already satisfied: requests-oauthlib>=0.7.0 in /usr/local/lib/python3.7/dist-packages (from google-auth-oauthlib<0.5,>=0.4.1->tensorboard<2.9,>=2.8->tensorflow) (1.3.1)\n",
            "Requirement already satisfied: importlib-metadata>=4.4 in /usr/local/lib/python3.7/dist-packages (from markdown>=2.6.8->tensorboard<2.9,>=2.8->tensorflow) (4.11.4)\n",
            "Requirement already satisfied: zipp>=0.5 in /usr/local/lib/python3.7/dist-packages (from importlib-metadata>=4.4->markdown>=2.6.8->tensorboard<2.9,>=2.8->tensorflow) (3.8.0)\n",
            "Requirement already satisfied: pyasn1<0.5.0,>=0.4.6 in /usr/local/lib/python3.7/dist-packages (from pyasn1-modules>=0.2.1->google-auth<3,>=1.6.3->tensorboard<2.9,>=2.8->tensorflow) (0.4.8)\n",
            "Requirement already satisfied: chardet<4,>=3.0.2 in /usr/local/lib/python3.7/dist-packages (from requests<3,>=2.21.0->tensorboard<2.9,>=2.8->tensorflow) (3.0.4)\n",
            "Requirement already satisfied: urllib3!=1.25.0,!=1.25.1,<1.26,>=1.21.1 in /usr/local/lib/python3.7/dist-packages (from requests<3,>=2.21.0->tensorboard<2.9,>=2.8->tensorflow) (1.24.3)\n",
            "Requirement already satisfied: idna<3,>=2.5 in /usr/local/lib/python3.7/dist-packages (from requests<3,>=2.21.0->tensorboard<2.9,>=2.8->tensorflow) (2.10)\n",
            "Requirement already satisfied: certifi>=2017.4.17 in /usr/local/lib/python3.7/dist-packages (from requests<3,>=2.21.0->tensorboard<2.9,>=2.8->tensorflow) (2022.5.18.1)\n",
            "Requirement already satisfied: oauthlib>=3.0.0 in /usr/local/lib/python3.7/dist-packages (from requests-oauthlib>=0.7.0->google-auth-oauthlib<0.5,>=0.4.1->tensorboard<2.9,>=2.8->tensorflow) (3.2.0)\n"
          ]
        }
      ]
    },
    {
      "cell_type": "code",
      "source": [
        "import keras\n",
        "import numpy as np\n",
        "import matplotlib.pyplot as plt\n",
        "import tensorflow as tf\n",
        "from keras.preprocessing import sequence\n",
        "from keras.models import Sequential\n",
        "from keras.layers import Dense, Embedding\n",
        "from tensorflow.keras.utils import to_categorical\n",
        "from keras.layers import Input, Flatten, Dropout, Activation\n",
        "from keras.layers import Conv1D, MaxPooling1D\n",
        "from keras.models import Model\n",
        "from keras.callbacks import ModelCheckpoint\n",
        "from tensorflow.keras import optimizers\n",
        "\n",
        "model = Sequential()\n",
        "\n",
        "model.add(Conv1D(128, 8,padding='same', #classifier.add(Convolution2D(64, (3, 3), padding = 'same', input_shape = (128, 128, 3), activation = 'relu'))\n",
        "                 input_shape=(40,1)))\n",
        "model.add(Activation('relu'))\n",
        "model.add(Dropout(0.3))\n",
        "model.add(MaxPooling1D(pool_size=(5)))\n",
        "\n",
        "\n",
        "model.add(Conv1D(256,8,padding='same',))\n",
        "model.add(Activation('relu'))\n",
        "model.add(Dropout(0.3))\n",
        "model.add(MaxPooling1D(pool_size=(5)))\n",
        "\n",
        "model.add(Flatten())\n",
        "\n",
        "model.add(Dense(256))\n",
        "model.add(Activation('relu'))\n",
        "model.add(Dense(256))\n",
        "model.add(Activation('relu'))\n",
        "\n",
        "model.add(Dense(6))\n",
        "model.add(Activation('softmax'))\n",
        "\n",
        "opt = tf.keras.optimizers.RMSprop(lr=0.0002 , decay=0.0)\n",
        "#opt = tf.keras.optimizers.RMSprop(lr=0.0001, rho=0.9, epsilon=1e-07, decay=0.0)\n",
        "#opt = tf.keras.optimizers.SGD(lr=0.001, momentum=0.0, decay=0.0, nesterov=False)"
      ],
      "metadata": {
        "id": "g74fXWVAC4Cr",
        "colab": {
          "base_uri": "https://localhost:8080/"
        },
        "outputId": "4c05a876-4bca-4fa3-85d8-b732225c8956"
      },
      "execution_count": 11,
      "outputs": [
        {
          "output_type": "stream",
          "name": "stderr",
          "text": [
            "/usr/local/lib/python3.7/dist-packages/keras/optimizer_v2/rmsprop.py:130: UserWarning:\n",
            "\n",
            "The `lr` argument is deprecated, use `learning_rate` instead.\n",
            "\n"
          ]
        }
      ]
    },
    {
      "cell_type": "code",
      "source": [
        "model.summary()"
      ],
      "metadata": {
        "colab": {
          "base_uri": "https://localhost:8080/"
        },
        "id": "H6ukOxAGC_I4",
        "outputId": "94a2df8c-552d-4b3a-a88a-4deb1f759ce0"
      },
      "execution_count": 12,
      "outputs": [
        {
          "output_type": "stream",
          "name": "stdout",
          "text": [
            "Model: \"sequential\"\n",
            "_________________________________________________________________\n",
            " Layer (type)                Output Shape              Param #   \n",
            "=================================================================\n",
            " conv1d (Conv1D)             (None, 40, 128)           1152      \n",
            "                                                                 \n",
            " activation (Activation)     (None, 40, 128)           0         \n",
            "                                                                 \n",
            " dropout (Dropout)           (None, 40, 128)           0         \n",
            "                                                                 \n",
            " max_pooling1d (MaxPooling1D  (None, 8, 128)           0         \n",
            " )                                                               \n",
            "                                                                 \n",
            " conv1d_1 (Conv1D)           (None, 8, 256)            262400    \n",
            "                                                                 \n",
            " activation_1 (Activation)   (None, 8, 256)            0         \n",
            "                                                                 \n",
            " dropout_1 (Dropout)         (None, 8, 256)            0         \n",
            "                                                                 \n",
            " max_pooling1d_1 (MaxPooling  (None, 1, 256)           0         \n",
            " 1D)                                                             \n",
            "                                                                 \n",
            " flatten (Flatten)           (None, 256)               0         \n",
            "                                                                 \n",
            " dense (Dense)               (None, 256)               65792     \n",
            "                                                                 \n",
            " activation_2 (Activation)   (None, 256)               0         \n",
            "                                                                 \n",
            " dense_1 (Dense)             (None, 256)               65792     \n",
            "                                                                 \n",
            " activation_3 (Activation)   (None, 256)               0         \n",
            "                                                                 \n",
            " dense_2 (Dense)             (None, 6)                 1542      \n",
            "                                                                 \n",
            " activation_4 (Activation)   (None, 6)                 0         \n",
            "                                                                 \n",
            "=================================================================\n",
            "Total params: 396,678\n",
            "Trainable params: 396,678\n",
            "Non-trainable params: 0\n",
            "_________________________________________________________________\n"
          ]
        }
      ]
    },
    {
      "cell_type": "code",
      "source": [
        "model.compile(loss='sparse_categorical_crossentropy',\n",
        "              optimizer=opt,\n",
        "              metrics=['accuracy'])"
      ],
      "metadata": {
        "id": "AbMlLNk4DCBM"
      },
      "execution_count": 13,
      "outputs": []
    },
    {
      "cell_type": "code",
      "source": [
        "# Create an Instance of Early Stopping Callback.\n",
        "early_stopping_callback = EarlyStopping(monitor = 'val_loss', patience = 25, mode = 'min', restore_best_weights = True)\n",
        "\n",
        "cnnhistory=model.fit(x_traincnn, y_train, batch_size=16, epochs=500 , shuffle = True, \n",
        "                     validation_data=(X_valid, y_valid) , callbacks = [early_stopping_callback])"
      ],
      "metadata": {
        "colab": {
          "base_uri": "https://localhost:8080/"
        },
        "id": "RI1v2AuADFhy",
        "outputId": "95670ce0-1988-4230-a2e8-62b0a66e44ca"
      },
      "execution_count": 14,
      "outputs": [
        {
          "output_type": "stream",
          "name": "stdout",
          "text": [
            "Epoch 1/500\n",
            "104/104 [==============================] - 5s 12ms/step - loss: 4.6503 - accuracy: 0.1620 - val_loss: 2.0565 - val_accuracy: 0.1159\n",
            "Epoch 2/500\n",
            "104/104 [==============================] - 1s 8ms/step - loss: 2.4870 - accuracy: 0.2098 - val_loss: 2.1610 - val_accuracy: 0.1884\n",
            "Epoch 3/500\n",
            "104/104 [==============================] - 1s 8ms/step - loss: 2.1212 - accuracy: 0.2080 - val_loss: 1.8484 - val_accuracy: 0.2560\n",
            "Epoch 4/500\n",
            "104/104 [==============================] - 1s 8ms/step - loss: 1.9683 - accuracy: 0.2195 - val_loss: 1.7342 - val_accuracy: 0.2077\n",
            "Epoch 5/500\n",
            "104/104 [==============================] - 1s 8ms/step - loss: 1.9107 - accuracy: 0.2195 - val_loss: 1.7757 - val_accuracy: 0.2126\n",
            "Epoch 6/500\n",
            "104/104 [==============================] - 1s 8ms/step - loss: 1.8493 - accuracy: 0.2231 - val_loss: 1.7480 - val_accuracy: 0.2174\n",
            "Epoch 7/500\n",
            "104/104 [==============================] - 1s 8ms/step - loss: 1.8000 - accuracy: 0.2225 - val_loss: 1.8830 - val_accuracy: 0.1063\n",
            "Epoch 8/500\n",
            "104/104 [==============================] - 1s 8ms/step - loss: 1.8061 - accuracy: 0.2310 - val_loss: 1.7949 - val_accuracy: 0.2029\n",
            "Epoch 9/500\n",
            "104/104 [==============================] - 1s 8ms/step - loss: 1.7369 - accuracy: 0.2678 - val_loss: 1.6959 - val_accuracy: 0.2850\n",
            "Epoch 10/500\n",
            "104/104 [==============================] - 1s 10ms/step - loss: 1.7233 - accuracy: 0.2696 - val_loss: 1.6787 - val_accuracy: 0.2995\n",
            "Epoch 11/500\n",
            "104/104 [==============================] - 1s 9ms/step - loss: 1.7097 - accuracy: 0.2805 - val_loss: 1.6728 - val_accuracy: 0.2367\n",
            "Epoch 12/500\n",
            "104/104 [==============================] - 1s 8ms/step - loss: 1.6902 - accuracy: 0.2715 - val_loss: 1.6334 - val_accuracy: 0.3333\n",
            "Epoch 13/500\n",
            "104/104 [==============================] - 1s 8ms/step - loss: 1.6720 - accuracy: 0.2884 - val_loss: 1.6422 - val_accuracy: 0.3430\n",
            "Epoch 14/500\n",
            "104/104 [==============================] - 1s 9ms/step - loss: 1.6428 - accuracy: 0.2987 - val_loss: 1.6234 - val_accuracy: 0.2850\n",
            "Epoch 15/500\n",
            "104/104 [==============================] - 1s 8ms/step - loss: 1.6299 - accuracy: 0.3114 - val_loss: 1.6322 - val_accuracy: 0.2947\n",
            "Epoch 16/500\n",
            "104/104 [==============================] - 1s 8ms/step - loss: 1.5986 - accuracy: 0.3253 - val_loss: 1.6432 - val_accuracy: 0.2802\n",
            "Epoch 17/500\n",
            "104/104 [==============================] - 1s 9ms/step - loss: 1.5658 - accuracy: 0.3307 - val_loss: 1.5411 - val_accuracy: 0.4010\n",
            "Epoch 18/500\n",
            "104/104 [==============================] - 1s 8ms/step - loss: 1.5460 - accuracy: 0.3537 - val_loss: 1.5307 - val_accuracy: 0.3720\n",
            "Epoch 19/500\n",
            "104/104 [==============================] - 1s 8ms/step - loss: 1.5465 - accuracy: 0.3664 - val_loss: 1.4894 - val_accuracy: 0.4396\n",
            "Epoch 20/500\n",
            "104/104 [==============================] - 1s 8ms/step - loss: 1.5001 - accuracy: 0.3773 - val_loss: 1.6282 - val_accuracy: 0.3043\n",
            "Epoch 21/500\n",
            "104/104 [==============================] - 1s 9ms/step - loss: 1.4835 - accuracy: 0.3827 - val_loss: 1.4469 - val_accuracy: 0.4010\n",
            "Epoch 22/500\n",
            "104/104 [==============================] - 1s 8ms/step - loss: 1.4541 - accuracy: 0.3942 - val_loss: 1.4929 - val_accuracy: 0.3623\n",
            "Epoch 23/500\n",
            "104/104 [==============================] - 1s 7ms/step - loss: 1.4123 - accuracy: 0.4093 - val_loss: 1.3467 - val_accuracy: 0.4928\n",
            "Epoch 24/500\n",
            "104/104 [==============================] - 1s 7ms/step - loss: 1.4223 - accuracy: 0.4039 - val_loss: 1.4188 - val_accuracy: 0.3865\n",
            "Epoch 25/500\n",
            "104/104 [==============================] - 1s 7ms/step - loss: 1.3732 - accuracy: 0.4160 - val_loss: 1.3777 - val_accuracy: 0.4831\n",
            "Epoch 26/500\n",
            "104/104 [==============================] - 0s 5ms/step - loss: 1.3485 - accuracy: 0.4432 - val_loss: 1.3901 - val_accuracy: 0.3720\n",
            "Epoch 27/500\n",
            "104/104 [==============================] - 1s 5ms/step - loss: 1.3280 - accuracy: 0.4456 - val_loss: 1.3005 - val_accuracy: 0.4976\n",
            "Epoch 28/500\n",
            "104/104 [==============================] - 1s 5ms/step - loss: 1.3147 - accuracy: 0.4522 - val_loss: 1.3132 - val_accuracy: 0.4444\n",
            "Epoch 29/500\n",
            "104/104 [==============================] - 0s 5ms/step - loss: 1.2821 - accuracy: 0.4819 - val_loss: 1.3496 - val_accuracy: 0.4106\n",
            "Epoch 30/500\n",
            "104/104 [==============================] - 1s 5ms/step - loss: 1.2606 - accuracy: 0.4794 - val_loss: 1.2800 - val_accuracy: 0.4734\n",
            "Epoch 31/500\n",
            "104/104 [==============================] - 1s 5ms/step - loss: 1.2431 - accuracy: 0.4952 - val_loss: 1.3563 - val_accuracy: 0.4155\n",
            "Epoch 32/500\n",
            "104/104 [==============================] - 0s 5ms/step - loss: 1.2355 - accuracy: 0.4800 - val_loss: 1.2930 - val_accuracy: 0.4976\n",
            "Epoch 33/500\n",
            "104/104 [==============================] - 1s 5ms/step - loss: 1.2022 - accuracy: 0.5030 - val_loss: 1.1916 - val_accuracy: 0.4976\n",
            "Epoch 34/500\n",
            "104/104 [==============================] - 1s 5ms/step - loss: 1.1896 - accuracy: 0.5060 - val_loss: 1.1983 - val_accuracy: 0.5024\n",
            "Epoch 35/500\n",
            "104/104 [==============================] - 1s 5ms/step - loss: 1.1761 - accuracy: 0.5157 - val_loss: 1.2132 - val_accuracy: 0.4734\n",
            "Epoch 36/500\n",
            "104/104 [==============================] - 0s 5ms/step - loss: 1.1533 - accuracy: 0.5333 - val_loss: 1.2103 - val_accuracy: 0.4638\n",
            "Epoch 37/500\n",
            "104/104 [==============================] - 0s 5ms/step - loss: 1.1390 - accuracy: 0.5441 - val_loss: 1.1528 - val_accuracy: 0.5362\n",
            "Epoch 38/500\n",
            "104/104 [==============================] - 1s 5ms/step - loss: 1.1065 - accuracy: 0.5459 - val_loss: 1.1326 - val_accuracy: 0.5459\n",
            "Epoch 39/500\n",
            "104/104 [==============================] - 0s 4ms/step - loss: 1.1061 - accuracy: 0.5429 - val_loss: 1.1681 - val_accuracy: 0.5314\n",
            "Epoch 40/500\n",
            "104/104 [==============================] - 1s 5ms/step - loss: 1.1106 - accuracy: 0.5405 - val_loss: 1.1067 - val_accuracy: 0.5411\n",
            "Epoch 41/500\n",
            "104/104 [==============================] - 0s 5ms/step - loss: 1.0662 - accuracy: 0.5593 - val_loss: 1.0898 - val_accuracy: 0.5845\n",
            "Epoch 42/500\n",
            "104/104 [==============================] - 1s 5ms/step - loss: 1.0899 - accuracy: 0.5580 - val_loss: 1.1506 - val_accuracy: 0.5700\n",
            "Epoch 43/500\n",
            "104/104 [==============================] - 0s 4ms/step - loss: 1.0627 - accuracy: 0.5828 - val_loss: 1.1075 - val_accuracy: 0.5362\n",
            "Epoch 44/500\n",
            "104/104 [==============================] - 1s 5ms/step - loss: 1.0527 - accuracy: 0.5744 - val_loss: 1.0567 - val_accuracy: 0.5749\n",
            "Epoch 45/500\n",
            "104/104 [==============================] - 0s 5ms/step - loss: 1.0269 - accuracy: 0.5744 - val_loss: 1.0530 - val_accuracy: 0.5507\n",
            "Epoch 46/500\n",
            "104/104 [==============================] - 0s 5ms/step - loss: 1.0302 - accuracy: 0.5768 - val_loss: 0.9923 - val_accuracy: 0.5894\n",
            "Epoch 47/500\n",
            "104/104 [==============================] - 1s 5ms/step - loss: 1.0039 - accuracy: 0.5840 - val_loss: 0.9841 - val_accuracy: 0.6135\n",
            "Epoch 48/500\n",
            "104/104 [==============================] - 1s 5ms/step - loss: 1.0047 - accuracy: 0.5768 - val_loss: 0.9691 - val_accuracy: 0.6135\n",
            "Epoch 49/500\n",
            "104/104 [==============================] - 1s 5ms/step - loss: 0.9898 - accuracy: 0.6010 - val_loss: 0.9660 - val_accuracy: 0.6860\n",
            "Epoch 50/500\n",
            "104/104 [==============================] - 1s 5ms/step - loss: 0.9695 - accuracy: 0.5925 - val_loss: 1.0954 - val_accuracy: 0.6135\n",
            "Epoch 51/500\n",
            "104/104 [==============================] - 1s 5ms/step - loss: 0.9621 - accuracy: 0.6100 - val_loss: 0.9812 - val_accuracy: 0.6232\n",
            "Epoch 52/500\n",
            "104/104 [==============================] - 1s 5ms/step - loss: 0.9530 - accuracy: 0.6233 - val_loss: 0.9772 - val_accuracy: 0.5894\n",
            "Epoch 53/500\n",
            "104/104 [==============================] - 1s 5ms/step - loss: 0.9294 - accuracy: 0.6245 - val_loss: 0.9857 - val_accuracy: 0.5894\n",
            "Epoch 54/500\n",
            "104/104 [==============================] - 1s 5ms/step - loss: 0.9110 - accuracy: 0.6342 - val_loss: 1.1155 - val_accuracy: 0.5169\n",
            "Epoch 55/500\n",
            "104/104 [==============================] - 0s 5ms/step - loss: 0.9143 - accuracy: 0.6391 - val_loss: 0.9687 - val_accuracy: 0.6135\n",
            "Epoch 56/500\n",
            "104/104 [==============================] - 0s 5ms/step - loss: 0.9179 - accuracy: 0.6245 - val_loss: 0.9873 - val_accuracy: 0.5700\n",
            "Epoch 57/500\n",
            "104/104 [==============================] - 1s 5ms/step - loss: 0.8889 - accuracy: 0.6439 - val_loss: 0.9469 - val_accuracy: 0.6184\n",
            "Epoch 58/500\n",
            "104/104 [==============================] - 0s 5ms/step - loss: 0.8640 - accuracy: 0.6511 - val_loss: 0.9855 - val_accuracy: 0.5700\n",
            "Epoch 59/500\n",
            "104/104 [==============================] - 0s 5ms/step - loss: 0.8702 - accuracy: 0.6451 - val_loss: 0.9678 - val_accuracy: 0.5894\n",
            "Epoch 60/500\n",
            "104/104 [==============================] - 0s 5ms/step - loss: 0.8753 - accuracy: 0.6475 - val_loss: 0.9427 - val_accuracy: 0.5797\n",
            "Epoch 61/500\n",
            "104/104 [==============================] - 0s 5ms/step - loss: 0.8595 - accuracy: 0.6451 - val_loss: 0.8943 - val_accuracy: 0.6425\n",
            "Epoch 62/500\n",
            "104/104 [==============================] - 1s 5ms/step - loss: 0.8406 - accuracy: 0.6590 - val_loss: 1.0167 - val_accuracy: 0.5362\n",
            "Epoch 63/500\n",
            "104/104 [==============================] - 1s 5ms/step - loss: 0.8536 - accuracy: 0.6602 - val_loss: 0.8437 - val_accuracy: 0.6908\n",
            "Epoch 64/500\n",
            "104/104 [==============================] - 1s 5ms/step - loss: 0.8077 - accuracy: 0.6771 - val_loss: 0.8427 - val_accuracy: 0.6618\n",
            "Epoch 65/500\n",
            "104/104 [==============================] - 0s 5ms/step - loss: 0.8248 - accuracy: 0.6608 - val_loss: 0.8881 - val_accuracy: 0.6184\n",
            "Epoch 66/500\n",
            "104/104 [==============================] - 1s 5ms/step - loss: 0.8197 - accuracy: 0.6663 - val_loss: 0.8546 - val_accuracy: 0.6812\n",
            "Epoch 67/500\n",
            "104/104 [==============================] - 1s 5ms/step - loss: 0.8164 - accuracy: 0.6886 - val_loss: 0.8451 - val_accuracy: 0.6908\n",
            "Epoch 68/500\n",
            "104/104 [==============================] - 1s 5ms/step - loss: 0.7937 - accuracy: 0.6771 - val_loss: 0.8565 - val_accuracy: 0.6377\n",
            "Epoch 69/500\n",
            "104/104 [==============================] - 0s 4ms/step - loss: 0.7789 - accuracy: 0.6868 - val_loss: 0.9032 - val_accuracy: 0.6425\n",
            "Epoch 70/500\n",
            "104/104 [==============================] - 1s 5ms/step - loss: 0.8031 - accuracy: 0.6904 - val_loss: 0.8880 - val_accuracy: 0.6280\n",
            "Epoch 71/500\n",
            "104/104 [==============================] - 0s 5ms/step - loss: 0.8043 - accuracy: 0.6663 - val_loss: 0.7772 - val_accuracy: 0.6957\n",
            "Epoch 72/500\n",
            "104/104 [==============================] - 1s 5ms/step - loss: 0.7646 - accuracy: 0.6904 - val_loss: 0.8360 - val_accuracy: 0.6715\n",
            "Epoch 73/500\n",
            "104/104 [==============================] - 0s 4ms/step - loss: 0.7779 - accuracy: 0.6771 - val_loss: 0.9178 - val_accuracy: 0.6329\n",
            "Epoch 74/500\n",
            "104/104 [==============================] - 0s 5ms/step - loss: 0.7614 - accuracy: 0.7062 - val_loss: 0.7685 - val_accuracy: 0.7053\n",
            "Epoch 75/500\n",
            "104/104 [==============================] - 0s 4ms/step - loss: 0.7494 - accuracy: 0.7074 - val_loss: 0.7856 - val_accuracy: 0.6860\n",
            "Epoch 76/500\n",
            "104/104 [==============================] - 1s 5ms/step - loss: 0.7416 - accuracy: 0.7116 - val_loss: 0.8054 - val_accuracy: 0.6763\n",
            "Epoch 77/500\n",
            "104/104 [==============================] - 1s 5ms/step - loss: 0.7609 - accuracy: 0.7050 - val_loss: 0.8868 - val_accuracy: 0.6280\n",
            "Epoch 78/500\n",
            "104/104 [==============================] - 0s 4ms/step - loss: 0.7282 - accuracy: 0.7037 - val_loss: 0.7898 - val_accuracy: 0.7150\n",
            "Epoch 79/500\n",
            "104/104 [==============================] - 1s 5ms/step - loss: 0.7291 - accuracy: 0.7285 - val_loss: 0.7373 - val_accuracy: 0.7391\n",
            "Epoch 80/500\n",
            "104/104 [==============================] - 1s 5ms/step - loss: 0.7087 - accuracy: 0.7189 - val_loss: 0.7430 - val_accuracy: 0.7295\n",
            "Epoch 81/500\n",
            "104/104 [==============================] - 1s 5ms/step - loss: 0.7248 - accuracy: 0.7050 - val_loss: 0.8012 - val_accuracy: 0.6522\n",
            "Epoch 82/500\n",
            "104/104 [==============================] - 0s 5ms/step - loss: 0.7107 - accuracy: 0.7128 - val_loss: 0.7612 - val_accuracy: 0.7053\n",
            "Epoch 83/500\n",
            "104/104 [==============================] - 1s 5ms/step - loss: 0.6980 - accuracy: 0.7285 - val_loss: 0.7423 - val_accuracy: 0.7295\n",
            "Epoch 84/500\n",
            "104/104 [==============================] - 1s 5ms/step - loss: 0.7006 - accuracy: 0.7225 - val_loss: 0.7693 - val_accuracy: 0.6860\n",
            "Epoch 85/500\n",
            "104/104 [==============================] - 1s 5ms/step - loss: 0.6877 - accuracy: 0.7237 - val_loss: 0.7940 - val_accuracy: 0.6957\n",
            "Epoch 86/500\n",
            "104/104 [==============================] - 0s 5ms/step - loss: 0.6894 - accuracy: 0.7297 - val_loss: 0.7501 - val_accuracy: 0.7005\n",
            "Epoch 87/500\n",
            "104/104 [==============================] - 1s 5ms/step - loss: 0.6866 - accuracy: 0.7340 - val_loss: 0.7870 - val_accuracy: 0.7150\n",
            "Epoch 88/500\n",
            "104/104 [==============================] - 1s 5ms/step - loss: 0.6813 - accuracy: 0.7304 - val_loss: 0.7096 - val_accuracy: 0.7440\n",
            "Epoch 89/500\n",
            "104/104 [==============================] - 1s 5ms/step - loss: 0.6729 - accuracy: 0.7479 - val_loss: 0.7983 - val_accuracy: 0.6812\n",
            "Epoch 90/500\n",
            "104/104 [==============================] - 0s 5ms/step - loss: 0.6697 - accuracy: 0.7346 - val_loss: 0.7005 - val_accuracy: 0.7053\n",
            "Epoch 91/500\n",
            "104/104 [==============================] - 0s 5ms/step - loss: 0.6500 - accuracy: 0.7388 - val_loss: 0.7556 - val_accuracy: 0.7246\n",
            "Epoch 92/500\n",
            "104/104 [==============================] - 1s 5ms/step - loss: 0.6469 - accuracy: 0.7394 - val_loss: 0.8016 - val_accuracy: 0.7150\n",
            "Epoch 93/500\n",
            "104/104 [==============================] - 1s 5ms/step - loss: 0.6495 - accuracy: 0.7479 - val_loss: 0.7494 - val_accuracy: 0.7198\n",
            "Epoch 94/500\n",
            "104/104 [==============================] - 1s 5ms/step - loss: 0.6495 - accuracy: 0.7479 - val_loss: 0.7315 - val_accuracy: 0.7343\n",
            "Epoch 95/500\n",
            "104/104 [==============================] - 1s 5ms/step - loss: 0.6344 - accuracy: 0.7509 - val_loss: 0.7699 - val_accuracy: 0.6570\n",
            "Epoch 96/500\n",
            "104/104 [==============================] - 1s 5ms/step - loss: 0.6256 - accuracy: 0.7582 - val_loss: 0.7262 - val_accuracy: 0.7053\n",
            "Epoch 97/500\n",
            "104/104 [==============================] - 0s 5ms/step - loss: 0.6200 - accuracy: 0.7521 - val_loss: 0.7246 - val_accuracy: 0.6763\n",
            "Epoch 98/500\n",
            "104/104 [==============================] - 1s 5ms/step - loss: 0.6245 - accuracy: 0.7594 - val_loss: 0.7574 - val_accuracy: 0.7198\n",
            "Epoch 99/500\n",
            "104/104 [==============================] - 0s 5ms/step - loss: 0.6194 - accuracy: 0.7563 - val_loss: 0.7072 - val_accuracy: 0.7440\n",
            "Epoch 100/500\n",
            "104/104 [==============================] - 0s 5ms/step - loss: 0.6097 - accuracy: 0.7557 - val_loss: 0.6912 - val_accuracy: 0.7391\n",
            "Epoch 101/500\n",
            "104/104 [==============================] - 0s 5ms/step - loss: 0.5914 - accuracy: 0.7823 - val_loss: 0.7470 - val_accuracy: 0.7005\n",
            "Epoch 102/500\n",
            "104/104 [==============================] - 0s 5ms/step - loss: 0.6099 - accuracy: 0.7594 - val_loss: 0.7218 - val_accuracy: 0.7101\n",
            "Epoch 103/500\n",
            "104/104 [==============================] - 0s 5ms/step - loss: 0.6149 - accuracy: 0.7545 - val_loss: 0.8689 - val_accuracy: 0.6425\n",
            "Epoch 104/500\n",
            "104/104 [==============================] - 1s 5ms/step - loss: 0.5578 - accuracy: 0.7866 - val_loss: 0.7593 - val_accuracy: 0.7101\n",
            "Epoch 105/500\n",
            "104/104 [==============================] - 1s 5ms/step - loss: 0.5841 - accuracy: 0.7721 - val_loss: 0.7769 - val_accuracy: 0.6860\n",
            "Epoch 106/500\n",
            "104/104 [==============================] - 0s 5ms/step - loss: 0.5794 - accuracy: 0.7811 - val_loss: 0.6922 - val_accuracy: 0.7391\n",
            "Epoch 107/500\n",
            "104/104 [==============================] - 1s 5ms/step - loss: 0.5664 - accuracy: 0.7769 - val_loss: 0.7589 - val_accuracy: 0.6957\n",
            "Epoch 108/500\n",
            "104/104 [==============================] - 1s 5ms/step - loss: 0.5835 - accuracy: 0.7684 - val_loss: 0.7051 - val_accuracy: 0.7101\n",
            "Epoch 109/500\n",
            "104/104 [==============================] - 1s 5ms/step - loss: 0.5661 - accuracy: 0.7793 - val_loss: 0.7284 - val_accuracy: 0.7005\n",
            "Epoch 110/500\n",
            "104/104 [==============================] - 0s 5ms/step - loss: 0.5845 - accuracy: 0.7588 - val_loss: 0.6503 - val_accuracy: 0.7536\n",
            "Epoch 111/500\n",
            "104/104 [==============================] - 0s 5ms/step - loss: 0.5586 - accuracy: 0.7727 - val_loss: 0.6491 - val_accuracy: 0.7681\n",
            "Epoch 112/500\n",
            "104/104 [==============================] - 1s 5ms/step - loss: 0.5518 - accuracy: 0.7944 - val_loss: 0.7087 - val_accuracy: 0.7488\n",
            "Epoch 113/500\n",
            "104/104 [==============================] - 0s 5ms/step - loss: 0.5346 - accuracy: 0.7896 - val_loss: 0.6577 - val_accuracy: 0.7633\n",
            "Epoch 114/500\n",
            "104/104 [==============================] - 1s 5ms/step - loss: 0.5294 - accuracy: 0.7932 - val_loss: 0.6399 - val_accuracy: 0.7536\n",
            "Epoch 115/500\n",
            "104/104 [==============================] - 0s 5ms/step - loss: 0.5635 - accuracy: 0.7848 - val_loss: 0.7753 - val_accuracy: 0.6908\n",
            "Epoch 116/500\n",
            "104/104 [==============================] - 1s 5ms/step - loss: 0.5662 - accuracy: 0.7769 - val_loss: 0.7054 - val_accuracy: 0.7343\n",
            "Epoch 117/500\n",
            "104/104 [==============================] - 1s 5ms/step - loss: 0.5281 - accuracy: 0.7956 - val_loss: 0.8025 - val_accuracy: 0.7053\n",
            "Epoch 118/500\n",
            "104/104 [==============================] - 1s 5ms/step - loss: 0.5111 - accuracy: 0.7944 - val_loss: 0.7172 - val_accuracy: 0.7150\n",
            "Epoch 119/500\n",
            "104/104 [==============================] - 1s 5ms/step - loss: 0.5394 - accuracy: 0.7932 - val_loss: 0.7297 - val_accuracy: 0.7343\n",
            "Epoch 120/500\n",
            "104/104 [==============================] - 1s 5ms/step - loss: 0.5184 - accuracy: 0.8023 - val_loss: 0.7553 - val_accuracy: 0.7101\n",
            "Epoch 121/500\n",
            "104/104 [==============================] - 1s 7ms/step - loss: 0.5290 - accuracy: 0.7932 - val_loss: 0.6760 - val_accuracy: 0.7536\n",
            "Epoch 122/500\n",
            "104/104 [==============================] - 1s 7ms/step - loss: 0.5122 - accuracy: 0.8102 - val_loss: 0.6078 - val_accuracy: 0.7729\n",
            "Epoch 123/500\n",
            "104/104 [==============================] - 1s 8ms/step - loss: 0.5084 - accuracy: 0.8047 - val_loss: 0.7870 - val_accuracy: 0.7053\n",
            "Epoch 124/500\n",
            "104/104 [==============================] - 1s 6ms/step - loss: 0.5456 - accuracy: 0.7926 - val_loss: 0.8025 - val_accuracy: 0.6860\n",
            "Epoch 125/500\n",
            "104/104 [==============================] - 1s 5ms/step - loss: 0.5113 - accuracy: 0.7999 - val_loss: 0.6602 - val_accuracy: 0.7295\n",
            "Epoch 126/500\n",
            "104/104 [==============================] - 1s 5ms/step - loss: 0.4907 - accuracy: 0.8041 - val_loss: 0.7303 - val_accuracy: 0.7150\n",
            "Epoch 127/500\n",
            "104/104 [==============================] - 1s 5ms/step - loss: 0.5219 - accuracy: 0.7950 - val_loss: 0.6416 - val_accuracy: 0.7440\n",
            "Epoch 128/500\n",
            "104/104 [==============================] - 0s 5ms/step - loss: 0.4762 - accuracy: 0.8186 - val_loss: 0.6181 - val_accuracy: 0.7536\n",
            "Epoch 129/500\n",
            "104/104 [==============================] - 0s 5ms/step - loss: 0.4770 - accuracy: 0.8180 - val_loss: 0.6633 - val_accuracy: 0.7488\n",
            "Epoch 130/500\n",
            "104/104 [==============================] - 1s 5ms/step - loss: 0.4799 - accuracy: 0.8174 - val_loss: 0.6829 - val_accuracy: 0.7246\n",
            "Epoch 131/500\n",
            "104/104 [==============================] - 1s 5ms/step - loss: 0.4870 - accuracy: 0.8168 - val_loss: 0.6722 - val_accuracy: 0.7246\n",
            "Epoch 132/500\n",
            "104/104 [==============================] - 1s 5ms/step - loss: 0.4758 - accuracy: 0.8301 - val_loss: 0.6394 - val_accuracy: 0.7585\n",
            "Epoch 133/500\n",
            "104/104 [==============================] - 1s 5ms/step - loss: 0.4726 - accuracy: 0.8259 - val_loss: 0.6648 - val_accuracy: 0.7391\n",
            "Epoch 134/500\n",
            "104/104 [==============================] - 1s 5ms/step - loss: 0.4341 - accuracy: 0.8386 - val_loss: 0.7861 - val_accuracy: 0.6908\n",
            "Epoch 135/500\n",
            "104/104 [==============================] - 0s 5ms/step - loss: 0.4645 - accuracy: 0.8289 - val_loss: 0.6538 - val_accuracy: 0.7391\n",
            "Epoch 136/500\n",
            "104/104 [==============================] - 1s 5ms/step - loss: 0.4808 - accuracy: 0.8065 - val_loss: 0.7915 - val_accuracy: 0.6908\n",
            "Epoch 137/500\n",
            "104/104 [==============================] - 0s 5ms/step - loss: 0.5117 - accuracy: 0.8065 - val_loss: 0.6797 - val_accuracy: 0.7295\n",
            "Epoch 138/500\n",
            "104/104 [==============================] - 1s 5ms/step - loss: 0.4760 - accuracy: 0.8247 - val_loss: 0.7022 - val_accuracy: 0.7101\n",
            "Epoch 139/500\n",
            "104/104 [==============================] - 1s 5ms/step - loss: 0.4643 - accuracy: 0.8162 - val_loss: 0.6622 - val_accuracy: 0.7488\n",
            "Epoch 140/500\n",
            "104/104 [==============================] - 1s 7ms/step - loss: 0.4657 - accuracy: 0.8168 - val_loss: 0.7210 - val_accuracy: 0.7391\n",
            "Epoch 141/500\n",
            "104/104 [==============================] - 1s 7ms/step - loss: 0.4602 - accuracy: 0.8204 - val_loss: 0.6170 - val_accuracy: 0.7488\n",
            "Epoch 142/500\n",
            "104/104 [==============================] - 0s 5ms/step - loss: 0.4545 - accuracy: 0.8283 - val_loss: 0.6800 - val_accuracy: 0.7295\n",
            "Epoch 143/500\n",
            "104/104 [==============================] - 0s 5ms/step - loss: 0.4529 - accuracy: 0.8428 - val_loss: 0.6538 - val_accuracy: 0.7778\n",
            "Epoch 144/500\n",
            "104/104 [==============================] - 0s 5ms/step - loss: 0.4697 - accuracy: 0.8265 - val_loss: 0.6631 - val_accuracy: 0.7440\n",
            "Epoch 145/500\n",
            "104/104 [==============================] - 1s 5ms/step - loss: 0.4454 - accuracy: 0.8368 - val_loss: 0.6824 - val_accuracy: 0.7391\n",
            "Epoch 146/500\n",
            "104/104 [==============================] - 1s 5ms/step - loss: 0.4376 - accuracy: 0.8325 - val_loss: 0.6717 - val_accuracy: 0.7585\n",
            "Epoch 147/500\n",
            "104/104 [==============================] - 1s 5ms/step - loss: 0.4152 - accuracy: 0.8356 - val_loss: 0.7240 - val_accuracy: 0.7536\n"
          ]
        }
      ]
    },
    {
      "cell_type": "code",
      "source": [
        "plt.plot(cnnhistory.history['loss'])\n",
        "plt.plot(cnnhistory.history['val_loss'])\n",
        "plt.title('model loss')\n",
        "plt.ylabel('loss')\n",
        "plt.xlabel('epoch')\n",
        "plt.legend(['train','test'], loc='upper left')\n",
        "plt.show()"
      ],
      "metadata": {
        "colab": {
          "base_uri": "https://localhost:8080/",
          "height": 295
        },
        "id": "oQYnuaCrDH_A",
        "outputId": "a2cae221-7c92-4152-d8b6-1cb1f819630f"
      },
      "execution_count": 15,
      "outputs": [
        {
          "output_type": "display_data",
          "data": {
            "text/plain": [
              "<Figure size 432x288 with 1 Axes>"
            ],
            "image/png": "[encoded data removed]"
          },
          "metadata": {
            "needs_background": "light"
          }
        }
      ]
    },
    {
      "cell_type": "code",
      "source": [
        "plt.plot(cnnhistory.history['accuracy'])\n",
        "plt.plot(cnnhistory.history['val_accuracy'])\n",
        "plt.title('model accuracy')\n",
        "plt.ylabel('accuracy')\n",
        "plt.xlabel('epoch')\n",
        "plt.legend(['train','test'], loc='upper left')\n",
        "plt.show()"
      ],
      "metadata": {
        "colab": {
          "base_uri": "https://localhost:8080/",
          "height": 295
        },
        "id": "IFkTuO8nDNdq",
        "outputId": "061367a1-73a6-4eca-ae68-7f397965af69"
      },
      "execution_count": 16,
      "outputs": [
        {
          "output_type": "display_data",
          "data": {
            "text/plain": [
              "<Figure size 432x288 with 1 Axes>"
            ],
            "image/png": "[encoded data removed]"
          },
          "metadata": {
            "needs_background": "light"
          }
        }
      ]
    },
    {
      "cell_type": "code",
      "source": [
        "predictions = model.predict(x_testcnn)"
      ],
      "metadata": {
        "id": "A2xtrN5wDQgY"
      },
      "execution_count": 17,
      "outputs": []
    },
    {
      "cell_type": "code",
      "source": [
        "predictions"
      ],
      "metadata": {
        "colab": {
          "base_uri": "https://localhost:8080/"
        },
        "id": "_f_ohjXKDUpY",
        "outputId": "6402467a-4cd9-4ef8-f5e2-b1676b9d5b94"
      },
      "execution_count": 18,
      "outputs": [
        {
          "output_type": "execute_result",
          "data": {
            "text/plain": [
              "array([[2.4850182e-01, 5.9412070e-02, 2.9024771e-01, 2.6433954e-01,\n",
              "        8.3988130e-02, 5.3510692e-02],\n",
              "       [2.3471059e-04, 2.0239600e-05, 7.5619114e-06, 9.0886152e-01,\n",
              "        8.5217580e-05, 9.0790741e-02],\n",
              "       [1.8458304e-01, 1.3766375e-01, 1.8727812e-01, 2.4159046e-01,\n",
              "        6.8938091e-02, 1.7994654e-01],\n",
              "       ...,\n",
              "       [2.2770560e-07, 1.3868211e-10, 1.0352665e-04, 1.0221908e-06,\n",
              "        9.9934644e-01, 5.4875121e-04],\n",
              "       [9.0879250e-05, 7.6070029e-01, 2.3581544e-01, 1.4251070e-03,\n",
              "        8.7883318e-04, 1.0894366e-03],\n",
              "       [2.7077274e-05, 6.3806237e-06, 5.7802364e-02, 2.9783169e-04,\n",
              "        9.3065584e-01, 1.1210445e-02]], dtype=float32)"
            ]
          },
          "metadata": {},
          "execution_count": 18
        }
      ]
    },
    {
      "cell_type": "code",
      "source": [
        "y_test"
      ],
      "metadata": {
        "colab": {
          "base_uri": "https://localhost:8080/"
        },
        "id": "cmA2bFgsDW3D",
        "outputId": "cb7893f0-467f-4e15-c2d0-17d44bddb481"
      },
      "execution_count": 19,
      "outputs": [
        {
          "output_type": "execute_result",
          "data": {
            "text/plain": [
              "array([3, 3, 3, 0, 4, 4, 1, 2, 5, 0, 5, 3, 2, 2, 1, 4, 4, 5, 2, 4, 1, 2,\n",
              "       3, 5, 4, 2, 1, 2, 2, 2, 2, 5, 2, 5, 3, 1, 2, 0, 4, 5, 2, 3, 2, 2,\n",
              "       5, 2, 0, 1, 3, 4, 4, 5, 1, 1, 4, 4, 5, 1, 1, 1, 0, 1, 5, 0, 4, 1,\n",
              "       1, 0, 1, 4, 1, 0, 4, 1, 3, 1, 2, 2, 1, 2, 3, 0, 5, 3, 5, 5, 2, 4,\n",
              "       5, 1, 5, 1, 5, 3, 4, 1, 4, 1, 5, 4, 5, 1, 2, 1, 1, 5, 1, 3, 2, 5,\n",
              "       2, 1, 3, 5, 4, 4, 0, 0, 3, 1, 2, 2, 3, 5, 1, 5, 3, 4, 2, 2, 0, 2,\n",
              "       2, 5, 5, 0, 3, 3, 2, 2, 0, 3, 4, 0, 4, 2, 4, 5, 4, 1, 5, 3, 2, 2,\n",
              "       5, 4, 3, 3, 4, 3, 3, 4, 1, 5, 2, 3, 2, 2, 0, 2, 1, 3, 1, 2, 2, 5,\n",
              "       5, 1, 4, 2, 2, 1, 1, 3, 3, 5, 5, 2, 5, 1, 5, 0, 3, 3, 0, 5, 1, 4,\n",
              "       1, 4, 2, 5, 5, 1, 4, 2, 4])"
            ]
          },
          "metadata": {},
          "execution_count": 19
        }
      ]
    },
    {
      "cell_type": "code",
      "source": [
        "new_Ytest = y_test.astype(int)"
      ],
      "metadata": {
        "id": "0PHDKWJWDY3g"
      },
      "execution_count": 20,
      "outputs": []
    },
    {
      "cell_type": "code",
      "source": [
        "new_Ytest"
      ],
      "metadata": {
        "colab": {
          "base_uri": "https://localhost:8080/"
        },
        "id": "k68v2i-pDbZE",
        "outputId": "126a38e7-0e2e-4dc7-d1da-7b79b6b2b382"
      },
      "execution_count": 21,
      "outputs": [
        {
          "output_type": "execute_result",
          "data": {
            "text/plain": [
              "array([3, 3, 3, 0, 4, 4, 1, 2, 5, 0, 5, 3, 2, 2, 1, 4, 4, 5, 2, 4, 1, 2,\n",
              "       3, 5, 4, 2, 1, 2, 2, 2, 2, 5, 2, 5, 3, 1, 2, 0, 4, 5, 2, 3, 2, 2,\n",
              "       5, 2, 0, 1, 3, 4, 4, 5, 1, 1, 4, 4, 5, 1, 1, 1, 0, 1, 5, 0, 4, 1,\n",
              "       1, 0, 1, 4, 1, 0, 4, 1, 3, 1, 2, 2, 1, 2, 3, 0, 5, 3, 5, 5, 2, 4,\n",
              "       5, 1, 5, 1, 5, 3, 4, 1, 4, 1, 5, 4, 5, 1, 2, 1, 1, 5, 1, 3, 2, 5,\n",
              "       2, 1, 3, 5, 4, 4, 0, 0, 3, 1, 2, 2, 3, 5, 1, 5, 3, 4, 2, 2, 0, 2,\n",
              "       2, 5, 5, 0, 3, 3, 2, 2, 0, 3, 4, 0, 4, 2, 4, 5, 4, 1, 5, 3, 2, 2,\n",
              "       5, 4, 3, 3, 4, 3, 3, 4, 1, 5, 2, 3, 2, 2, 0, 2, 1, 3, 1, 2, 2, 5,\n",
              "       5, 1, 4, 2, 2, 1, 1, 3, 3, 5, 5, 2, 5, 1, 5, 0, 3, 3, 0, 5, 1, 4,\n",
              "       1, 4, 2, 5, 5, 1, 4, 2, 4])"
            ]
          },
          "metadata": {},
          "execution_count": 21
        }
      ]
    },
    {
      "cell_type": "code",
      "source": [
        "preds1=predictions.argmax(axis=1)\n",
        "preds1"
      ],
      "metadata": {
        "colab": {
          "base_uri": "https://localhost:8080/"
        },
        "id": "4_cAI39VFhtp",
        "outputId": "ffe0d972-6fa7-4f5a-c47f-222500c7f2a5"
      },
      "execution_count": 22,
      "outputs": [
        {
          "output_type": "execute_result",
          "data": {
            "text/plain": [
              "array([2, 3, 3, 2, 4, 4, 1, 2, 5, 1, 4, 3, 2, 2, 0, 4, 4, 0, 3, 4, 2, 2,\n",
              "       2, 2, 5, 2, 1, 2, 2, 2, 2, 5, 2, 5, 3, 1, 2, 0, 4, 5, 2, 5, 2, 2,\n",
              "       5, 2, 1, 1, 3, 4, 4, 5, 1, 1, 4, 2, 5, 1, 1, 1, 3, 1, 2, 1, 4, 1,\n",
              "       1, 1, 1, 4, 0, 2, 4, 1, 5, 2, 2, 2, 1, 2, 1, 0, 5, 3, 5, 5, 2, 3,\n",
              "       5, 1, 5, 1, 5, 3, 2, 1, 0, 1, 5, 4, 5, 1, 2, 1, 1, 5, 1, 5, 2, 5,\n",
              "       3, 2, 3, 5, 4, 4, 2, 0, 3, 1, 1, 4, 1, 3, 1, 3, 3, 5, 2, 2, 1, 2,\n",
              "       2, 3, 3, 0, 5, 3, 2, 4, 0, 5, 4, 0, 4, 4, 4, 2, 4, 1, 5, 3, 2, 2,\n",
              "       5, 4, 2, 3, 4, 5, 3, 4, 1, 5, 2, 3, 2, 2, 0, 2, 1, 2, 1, 2, 4, 5,\n",
              "       5, 1, 4, 2, 4, 1, 1, 3, 3, 5, 5, 2, 5, 1, 2, 1, 3, 3, 2, 5, 1, 4,\n",
              "       1, 4, 0, 5, 5, 1, 4, 1, 4])"
            ]
          },
          "metadata": {},
          "execution_count": 22
        }
      ]
    },
    {
      "cell_type": "code",
      "source": [
        "abc = preds1.astype(int).flatten()"
      ],
      "metadata": {
        "id": "H4WEmM60NfQn"
      },
      "execution_count": 23,
      "outputs": []
    },
    {
      "cell_type": "code",
      "source": [
        "from sklearn.metrics import confusion_matrix\n",
        "c = confusion_matrix(new_Ytest, abc) \n",
        "c"
      ],
      "metadata": {
        "colab": {
          "base_uri": "https://localhost:8080/"
        },
        "id": "bKEBeEBlFjB8",
        "outputId": "4541c8bf-d2cc-4dfc-a173-a5c74f074032"
      },
      "execution_count": 24,
      "outputs": [
        {
          "output_type": "execute_result",
          "data": {
            "text/plain": [
              "array([[ 7,  6,  4,  1,  0,  0],\n",
              "       [ 2, 36,  3,  0,  0,  0],\n",
              "       [ 1,  2, 35,  2,  5,  0],\n",
              "       [ 0,  2,  4, 19,  0,  6],\n",
              "       [ 1,  0,  2,  1, 27,  2],\n",
              "       [ 1,  0,  4,  4,  1, 29]])"
            ]
          },
          "metadata": {},
          "execution_count": 24
        }
      ]
    },
    {
      "cell_type": "code",
      "source": [
        "y_test"
      ],
      "metadata": {
        "colab": {
          "base_uri": "https://localhost:8080/"
        },
        "id": "m4RjG7LWLSQx",
        "outputId": "8347410e-fd21-42d9-b55a-a3dbc83ce357"
      },
      "execution_count": 25,
      "outputs": [
        {
          "output_type": "execute_result",
          "data": {
            "text/plain": [
              "array([3, 3, 3, 0, 4, 4, 1, 2, 5, 0, 5, 3, 2, 2, 1, 4, 4, 5, 2, 4, 1, 2,\n",
              "       3, 5, 4, 2, 1, 2, 2, 2, 2, 5, 2, 5, 3, 1, 2, 0, 4, 5, 2, 3, 2, 2,\n",
              "       5, 2, 0, 1, 3, 4, 4, 5, 1, 1, 4, 4, 5, 1, 1, 1, 0, 1, 5, 0, 4, 1,\n",
              "       1, 0, 1, 4, 1, 0, 4, 1, 3, 1, 2, 2, 1, 2, 3, 0, 5, 3, 5, 5, 2, 4,\n",
              "       5, 1, 5, 1, 5, 3, 4, 1, 4, 1, 5, 4, 5, 1, 2, 1, 1, 5, 1, 3, 2, 5,\n",
              "       2, 1, 3, 5, 4, 4, 0, 0, 3, 1, 2, 2, 3, 5, 1, 5, 3, 4, 2, 2, 0, 2,\n",
              "       2, 5, 5, 0, 3, 3, 2, 2, 0, 3, 4, 0, 4, 2, 4, 5, 4, 1, 5, 3, 2, 2,\n",
              "       5, 4, 3, 3, 4, 3, 3, 4, 1, 5, 2, 3, 2, 2, 0, 2, 1, 3, 1, 2, 2, 5,\n",
              "       5, 1, 4, 2, 2, 1, 1, 3, 3, 5, 5, 2, 5, 1, 5, 0, 3, 3, 0, 5, 1, 4,\n",
              "       1, 4, 2, 5, 5, 1, 4, 2, 4])"
            ]
          },
          "metadata": {},
          "execution_count": 25
        }
      ]
    },
    {
      "cell_type": "code",
      "source": [
        "loss, acc =model.evaluate(x_testcnn, y_test)\n",
        "print(\"Restored model, accuracy: {:5.2f}%\".format(100*acc))"
      ],
      "metadata": {
        "colab": {
          "base_uri": "https://localhost:8080/"
        },
        "id": "n3kzoqPkDqqS",
        "outputId": "8adfe000-c09b-46c4-b22d-f7ee2153b682"
      },
      "execution_count": 26,
      "outputs": [
        {
          "output_type": "stream",
          "name": "stdout",
          "text": [
            "7/7 [==============================] - 0s 3ms/step - loss: 0.6387 - accuracy: 0.7391\n",
            "Restored model, accuracy: 73.91%\n"
          ]
        }
      ]
    },
    {
      "cell_type": "code",
      "source": [
        "loss, acc =model.evaluate(X_train, y_train)\n",
        "print(\"Restored model train, accuracy: {:5.2f}%\".format(100*acc))"
      ],
      "metadata": {
        "id": "fJDTGH_OUX0z",
        "colab": {
          "base_uri": "https://localhost:8080/"
        },
        "outputId": "a75ce98d-12b7-4384-a248-ebd2dbbc1f4c"
      },
      "execution_count": 27,
      "outputs": [
        {
          "output_type": "stream",
          "name": "stdout",
          "text": [
            "52/52 [==============================] - 0s 4ms/step - loss: 0.3749 - accuracy: 0.8827\n",
            "Restored model train, accuracy: 88.27%\n"
          ]
        }
      ]
    },
    {
      "cell_type": "code",
      "source": [
        "from sklearn.metrics import classification_report, confusion_matrix,accuracy_score\n",
        "import seaborn as sn\n",
        "\n",
        "print(classification_report(new_Ytest,abc))\n",
        "\n",
        "acc = float(accuracy_score(new_Ytest,abc))*100\n",
        "print(\"----accuracy score %s ----\" % acc)\n",
        "\n",
        "cm = confusion_matrix(new_Ytest,abc)\n",
        "#df_cm = pd.DataFrame(cm)\n",
        "class_names = ['neutral','calm', 'happy','sad','angry', 'fearful' ]\n",
        "df_cm = pd.DataFrame(cm, index=class_names, columns=class_names,)\n",
        "sn.heatmap(df_cm, annot=True, fmt='')\n",
        "plt.show()"
      ],
      "metadata": {
        "colab": {
          "base_uri": "https://localhost:8080/",
          "height": 508
        },
        "id": "SfSC3El94LZg",
        "outputId": "2e303685-645f-45f1-954f-b8ae171c86d3"
      },
      "execution_count": 28,
      "outputs": [
        {
          "output_type": "stream",
          "name": "stdout",
          "text": [
            "              precision    recall  f1-score   support\n",
            "\n",
            "           0       0.58      0.39      0.47        18\n",
            "           1       0.78      0.88      0.83        41\n",
            "           2       0.67      0.78      0.72        45\n",
            "           3       0.70      0.61      0.66        31\n",
            "           4       0.82      0.82      0.82        33\n",
            "           5       0.78      0.74      0.76        39\n",
            "\n",
            "    accuracy                           0.74       207\n",
            "   macro avg       0.72      0.70      0.71       207\n",
            "weighted avg       0.74      0.74      0.73       207\n",
            "\n",
            "----accuracy score 73.91304347826086 ----\n"
          ]
        },
        {
          "output_type": "display_data",
          "data": {
            "text/plain": [
              "<Figure size 432x288 with 2 Axes>"
            ],
            "image/png": "[encoded data removed]"
          },
          "metadata": {
            "needs_background": "light"
          }
        }
      ]
    }
  ]
}