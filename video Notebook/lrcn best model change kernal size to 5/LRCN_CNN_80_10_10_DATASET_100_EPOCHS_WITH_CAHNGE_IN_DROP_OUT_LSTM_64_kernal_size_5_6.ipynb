{
  "cells": [
    {
      "cell_type": "code",
      "execution_count": 1,
      "metadata": {
        "colab": {
          "base_uri": "https://localhost:8080/"
        },
        "id": "iC_o_HaWEBQ4",
        "outputId": "6f0bf439-4f78-4c3f-9427-b30693ee86c0"
      },
      "outputs": [
        {
          "output_type": "stream",
          "name": "stdout",
          "text": [
            "Looking in indexes: https://pypi.org/simple, https://us-python.pkg.dev/colab-wheels/public/simple/\n",
            "Requirement already satisfied: tensorflow in /usr/local/lib/python3.7/dist-packages (2.8.2+zzzcolab20220527125636)\n",
            "Requirement already satisfied: opencv-contrib-python in /usr/local/lib/python3.7/dist-packages (4.1.2.30)\n",
            "Requirement already satisfied: youtube-dl in /usr/local/lib/python3.7/dist-packages (2021.12.17)\n",
            "Requirement already satisfied: moviepy in /usr/local/lib/python3.7/dist-packages (0.2.3.5)\n",
            "Requirement already satisfied: pydot in /usr/local/lib/python3.7/dist-packages (1.3.0)\n",
            "Requirement already satisfied: wrapt>=1.11.0 in /usr/local/lib/python3.7/dist-packages (from tensorflow) (1.14.1)\n",
            "Requirement already satisfied: h5py>=2.9.0 in /usr/local/lib/python3.7/dist-packages (from tensorflow) (3.1.0)\n",
            "Requirement already satisfied: absl-py>=0.4.0 in /usr/local/lib/python3.7/dist-packages (from tensorflow) (1.0.0)\n",
            "Requirement already satisfied: keras-preprocessing>=1.1.1 in /usr/local/lib/python3.7/dist-packages (from tensorflow) (1.1.2)\n",
            "Requirement already satisfied: grpcio<2.0,>=1.24.3 in /usr/local/lib/python3.7/dist-packages (from tensorflow) (1.46.3)\n",
            "Requirement already satisfied: google-pasta>=0.1.1 in /usr/local/lib/python3.7/dist-packages (from tensorflow) (0.2.0)\n",
            "Requirement already satisfied: termcolor>=1.1.0 in /usr/local/lib/python3.7/dist-packages (from tensorflow) (1.1.0)\n",
            "Requirement already satisfied: tensorflow-io-gcs-filesystem>=0.23.1 in /usr/local/lib/python3.7/dist-packages (from tensorflow) (0.26.0)\n",
            "Requirement already satisfied: libclang>=9.0.1 in /usr/local/lib/python3.7/dist-packages (from tensorflow) (14.0.1)\n",
            "Requirement already satisfied: numpy>=1.20 in /usr/local/lib/python3.7/dist-packages (from tensorflow) (1.21.6)\n",
            "Requirement already satisfied: six>=1.12.0 in /usr/local/lib/python3.7/dist-packages (from tensorflow) (1.15.0)\n",
            "Requirement already satisfied: astunparse>=1.6.0 in /usr/local/lib/python3.7/dist-packages (from tensorflow) (1.6.3)\n",
            "Requirement already satisfied: setuptools in /usr/local/lib/python3.7/dist-packages (from tensorflow) (57.4.0)\n",
            "Requirement already satisfied: gast>=0.2.1 in /usr/local/lib/python3.7/dist-packages (from tensorflow) (0.5.3)\n",
            "Requirement already satisfied: flatbuffers>=1.12 in /usr/local/lib/python3.7/dist-packages (from tensorflow) (2.0)\n",
            "Requirement already satisfied: tensorflow-estimator<2.9,>=2.8 in /usr/local/lib/python3.7/dist-packages (from tensorflow) (2.8.0)\n",
            "Requirement already satisfied: keras<2.9,>=2.8.0rc0 in /usr/local/lib/python3.7/dist-packages (from tensorflow) (2.8.0)\n",
            "Requirement already satisfied: opt-einsum>=2.3.2 in /usr/local/lib/python3.7/dist-packages (from tensorflow) (3.3.0)\n",
            "Requirement already satisfied: protobuf<3.20,>=3.9.2 in /usr/local/lib/python3.7/dist-packages (from tensorflow) (3.17.3)\n",
            "Requirement already satisfied: tensorboard<2.9,>=2.8 in /usr/local/lib/python3.7/dist-packages (from tensorflow) (2.8.0)\n",
            "Requirement already satisfied: typing-extensions>=3.6.6 in /usr/local/lib/python3.7/dist-packages (from tensorflow) (4.2.0)\n",
            "Requirement already satisfied: wheel<1.0,>=0.23.0 in /usr/local/lib/python3.7/dist-packages (from astunparse>=1.6.0->tensorflow) (0.37.1)\n",
            "Requirement already satisfied: cached-property in /usr/local/lib/python3.7/dist-packages (from h5py>=2.9.0->tensorflow) (1.5.2)\n",
            "Requirement already satisfied: werkzeug>=0.11.15 in /usr/local/lib/python3.7/dist-packages (from tensorboard<2.9,>=2.8->tensorflow) (1.0.1)\n",
            "Requirement already satisfied: google-auth-oauthlib<0.5,>=0.4.1 in /usr/local/lib/python3.7/dist-packages (from tensorboard<2.9,>=2.8->tensorflow) (0.4.6)\n",
            "Requirement already satisfied: tensorboard-plugin-wit>=1.6.0 in /usr/local/lib/python3.7/dist-packages (from tensorboard<2.9,>=2.8->tensorflow) (1.8.1)\n",
            "Requirement already satisfied: requests<3,>=2.21.0 in /usr/local/lib/python3.7/dist-packages (from tensorboard<2.9,>=2.8->tensorflow) (2.23.0)\n",
            "Requirement already satisfied: google-auth<3,>=1.6.3 in /usr/local/lib/python3.7/dist-packages (from tensorboard<2.9,>=2.8->tensorflow) (1.35.0)\n",
            "Requirement already satisfied: tensorboard-data-server<0.7.0,>=0.6.0 in /usr/local/lib/python3.7/dist-packages (from tensorboard<2.9,>=2.8->tensorflow) (0.6.1)\n",
            "Requirement already satisfied: markdown>=2.6.8 in /usr/local/lib/python3.7/dist-packages (from tensorboard<2.9,>=2.8->tensorflow) (3.3.7)\n",
            "Requirement already satisfied: rsa<5,>=3.1.4 in /usr/local/lib/python3.7/dist-packages (from google-auth<3,>=1.6.3->tensorboard<2.9,>=2.8->tensorflow) (4.8)\n",
            "Requirement already satisfied: cachetools<5.0,>=2.0.0 in /usr/local/lib/python3.7/dist-packages (from google-auth<3,>=1.6.3->tensorboard<2.9,>=2.8->tensorflow) (4.2.4)\n",
            "Requirement already satisfied: pyasn1-modules>=0.2.1 in /usr/local/lib/python3.7/dist-packages (from google-auth<3,>=1.6.3->tensorboard<2.9,>=2.8->tensorflow) (0.2.8)\n",
            "Requirement already satisfied: requests-oauthlib>=0.7.0 in /usr/local/lib/python3.7/dist-packages (from google-auth-oauthlib<0.5,>=0.4.1->tensorboard<2.9,>=2.8->tensorflow) (1.3.1)\n",
            "Requirement already satisfied: importlib-metadata>=4.4 in /usr/local/lib/python3.7/dist-packages (from markdown>=2.6.8->tensorboard<2.9,>=2.8->tensorflow) (4.11.4)\n",
            "Requirement already satisfied: zipp>=0.5 in /usr/local/lib/python3.7/dist-packages (from importlib-metadata>=4.4->markdown>=2.6.8->tensorboard<2.9,>=2.8->tensorflow) (3.8.0)\n",
            "Requirement already satisfied: pyasn1<0.5.0,>=0.4.6 in /usr/local/lib/python3.7/dist-packages (from pyasn1-modules>=0.2.1->google-auth<3,>=1.6.3->tensorboard<2.9,>=2.8->tensorflow) (0.4.8)\n",
            "Requirement already satisfied: urllib3!=1.25.0,!=1.25.1,<1.26,>=1.21.1 in /usr/local/lib/python3.7/dist-packages (from requests<3,>=2.21.0->tensorboard<2.9,>=2.8->tensorflow) (1.24.3)\n",
            "Requirement already satisfied: idna<3,>=2.5 in /usr/local/lib/python3.7/dist-packages (from requests<3,>=2.21.0->tensorboard<2.9,>=2.8->tensorflow) (2.10)\n",
            "Requirement already satisfied: chardet<4,>=3.0.2 in /usr/local/lib/python3.7/dist-packages (from requests<3,>=2.21.0->tensorboard<2.9,>=2.8->tensorflow) (3.0.4)\n",
            "Requirement already satisfied: certifi>=2017.4.17 in /usr/local/lib/python3.7/dist-packages (from requests<3,>=2.21.0->tensorboard<2.9,>=2.8->tensorflow) (2022.5.18.1)\n",
            "Requirement already satisfied: oauthlib>=3.0.0 in /usr/local/lib/python3.7/dist-packages (from requests-oauthlib>=0.7.0->google-auth-oauthlib<0.5,>=0.4.1->tensorboard<2.9,>=2.8->tensorflow) (3.2.0)\n",
            "Requirement already satisfied: tqdm<5.0,>=4.11.2 in /usr/local/lib/python3.7/dist-packages (from moviepy) (4.64.0)\n",
            "Requirement already satisfied: decorator<5.0,>=4.0.2 in /usr/local/lib/python3.7/dist-packages (from moviepy) (4.4.2)\n",
            "Requirement already satisfied: imageio<3.0,>=2.1.2 in /usr/local/lib/python3.7/dist-packages (from moviepy) (2.4.1)\n",
            "Requirement already satisfied: pillow in /usr/local/lib/python3.7/dist-packages (from imageio<3.0,>=2.1.2->moviepy) (7.1.2)\n",
            "Requirement already satisfied: pyparsing>=2.1.4 in /usr/local/lib/python3.7/dist-packages (from pydot) (3.0.9)\n",
            "Looking in indexes: https://pypi.org/simple, https://us-python.pkg.dev/colab-wheels/public/simple/\n",
            "Collecting pafy\n",
            "  Cloning https://github.com/TahaAnwar/pafy.git to /tmp/pip-install-tjtzofd1/pafy_8c2be64c74e64919be869d21321604a3\n",
            "  Running command git clone -q https://github.com/TahaAnwar/pafy.git /tmp/pip-install-tjtzofd1/pafy_8c2be64c74e64919be869d21321604a3\n"
          ]
        }
      ],
      "source": [
        "# Discard the output of this cell.\n",
        "#%%capture\n",
        "\n",
        "# Install the required libraries.\n",
        "!pip install tensorflow opencv-contrib-python youtube-dl moviepy pydot\n",
        "!pip install git+https://github.com/TahaAnwar/pafy.git#egg=pafy"
      ]
    },
    {
      "cell_type": "code",
      "execution_count": 2,
      "metadata": {
        "colab": {
          "base_uri": "https://localhost:8080/"
        },
        "id": "773CUmldFLWW",
        "outputId": "fe94af1c-eb03-49f6-d35c-14f4259c8d98"
      },
      "outputs": [
        {
          "output_type": "stream",
          "name": "stdout",
          "text": [
            "Drive already mounted at /content/drive; to attempt to forcibly remount, call drive.mount(\"/content/drive\", force_remount=True).\n"
          ]
        }
      ],
      "source": [
        "from google.colab import drive\n",
        "drive.mount('/content/drive')"
      ]
    },
    {
      "cell_type": "code",
      "execution_count": 3,
      "metadata": {
        "id": "pI_Uxj54EZA-"
      },
      "outputs": [],
      "source": [
        "# Import the required libraries.\n",
        "import os\n",
        "import cv2\n",
        "import pafy\n",
        "import math\n",
        "import random\n",
        "import numpy as np\n",
        "import datetime as dt\n",
        "import tensorflow as tf\n",
        "from collections import deque\n",
        "import matplotlib.pyplot as plt\n",
        "\n",
        "from moviepy.editor import *\n",
        "%matplotlib inline\n",
        "\n",
        "from sklearn.model_selection import train_test_split\n",
        "\n",
        "from tensorflow.keras.layers import *\n",
        "from tensorflow.keras.models import Sequential\n",
        "from tensorflow.keras.utils import to_categorical\n",
        "from tensorflow.keras.callbacks import EarlyStopping\n",
        "from tensorflow.keras.utils import plot_model"
      ]
    },
    {
      "cell_type": "code",
      "execution_count": 4,
      "metadata": {
        "id": "p_XR9N_KEd0h"
      },
      "outputs": [],
      "source": [
        "seed_constant = 27\n",
        "np.random.seed(seed_constant)\n",
        "random.seed(seed_constant)\n",
        "tf.random.set_seed(seed_constant)"
      ]
    },
    {
      "cell_type": "code",
      "execution_count": 5,
      "metadata": {
        "id": "SjdIu5iUEtFT"
      },
      "outputs": [],
      "source": [
        "# Specify the height and width to which each video frame will be resized in our dataset.\n",
        "IMAGE_HEIGHT , IMAGE_WIDTH = 64, 64\n",
        "\n",
        "# Specify the number of frames of a video that will be fed to the model as one sequence.\n",
        "SEQUENCE_LENGTH = 30\n",
        "\n",
        "# Specify the directory containing the UCF50 dataset. \n",
        "#DATASET_DIR = \"/content/drive/MyDrive/videospeechsong_label\"\n",
        "\n",
        "# Specify the list containing the names of the classes used for training. Feel free to choose any set of classes.\n",
        "CLASSES_LIST = [\"neutral\", \"calm\", \"happy\", \"sad\",\"angry\",\"fearful\"]"
      ]
    },
    {
      "cell_type": "code",
      "execution_count": 6,
      "metadata": {
        "id": "z1PugGDOFidu"
      },
      "outputs": [],
      "source": [
        "import joblib\n",
        "features = joblib.load('/content/drive/My Drive/features_ravdess/data_set/features_data')\n",
        "labels = joblib.load('/content/drive/MyDrive/features_ravdess/data_set/labels')\n",
        "video_files_paths = joblib.load('/content/drive/My Drive/features_ravdess/data_set/video_path')"
      ]
    },
    {
      "cell_type": "code",
      "execution_count": 7,
      "metadata": {
        "id": "AQLmPjgCf52M"
      },
      "outputs": [],
      "source": [
        "features = np.asarray(features)\n",
        "labels = np.array(labels)"
      ]
    },
    {
      "cell_type": "code",
      "execution_count": 8,
      "metadata": {
        "colab": {
          "base_uri": "https://localhost:8080/"
        },
        "id": "MU9jM0FlE-aH",
        "outputId": "9d713cbd-daf9-405f-c4ec-dc67c707eb54"
      },
      "outputs": [
        {
          "output_type": "execute_result",
          "data": {
            "text/plain": [
              "(2067, 30, 64, 64, 3)"
            ]
          },
          "metadata": {},
          "execution_count": 8
        }
      ],
      "source": [
        "features.shape"
      ]
    },
    {
      "cell_type": "code",
      "execution_count": 9,
      "metadata": {
        "id": "yXZWmUYXE_YJ"
      },
      "outputs": [],
      "source": [
        "# Using Keras's to_categorical method to convert labels into one-hot-encoded vectors\n",
        "one_hot_encoded_labels = to_categorical(labels)"
      ]
    },
    {
      "cell_type": "code",
      "execution_count": 10,
      "metadata": {
        "id": "h3LFmAqnFBdu"
      },
      "outputs": [],
      "source": [
        "\n",
        "# Split the Data into Train ( 80% ) and Test Set ( 20% ).\n",
        "features_train, features_test, labels_train, labels_test = train_test_split(features, one_hot_encoded_labels,\n",
        "                                                                            test_size = 0.10, shuffle = True,\n",
        "                                                                            random_state = seed_constant)"
      ]
    },
    {
      "cell_type": "code",
      "execution_count": 11,
      "metadata": {
        "id": "4WmDntbuFEzc"
      },
      "outputs": [],
      "source": [
        "def create_LRCN_model():\n",
        "    '''\n",
        "    This function will construct the required LRCN model.\n",
        "    Returns:\n",
        "        model: It is the required constructed LRCN model.\n",
        "    '''\n",
        "\n",
        "    # We will use a Sequential model for model construction.\n",
        "    model = Sequential()\n",
        "   \n",
        "    # Define the Model Architecture.\n",
        "    ########################################################################################################################\n",
        "    \n",
        "    model.add(TimeDistributed(Conv2D(16, (5, 5), padding='same'),\n",
        "                              input_shape = (SEQUENCE_LENGTH, IMAGE_HEIGHT, IMAGE_WIDTH, 3)))\n",
        "    model.add(TimeDistributed(BatchNormalization()))\n",
        "    model.add(TimeDistributed(Activation('relu')))\n",
        "    model.add(TimeDistributed(MaxPooling2D((4, 4)))) \n",
        "    model.add(TimeDistributed(Dropout(0.1)))\n",
        "    \n",
        "    model.add(TimeDistributed(Conv2D(32, (5, 5), padding='same')))\n",
        "    model.add(TimeDistributed(BatchNormalization()))\n",
        "    model.add(TimeDistributed(Activation('relu')))\n",
        "    model.add(TimeDistributed(MaxPooling2D((4, 4))))\n",
        "    model.add(TimeDistributed(Dropout(0.2)))\n",
        "    \n",
        "    model.add(TimeDistributed(Conv2D(64, (5, 5), padding='same')))\n",
        "    model.add(TimeDistributed(BatchNormalization()))\n",
        "    model.add(TimeDistributed(Activation('relu')))\n",
        "    model.add(TimeDistributed(MaxPooling2D((2, 2))))\n",
        "    model.add(TimeDistributed(Dropout(0.3)))\n",
        "    \n",
        "    model.add(TimeDistributed(Conv2D(64, (5, 5), padding='same')))\n",
        "    model.add(TimeDistributed(BatchNormalization()))\n",
        "    model.add(TimeDistributed(Activation('relu')))\n",
        "    model.add(TimeDistributed(MaxPooling2D((2, 2))))\n",
        "    #model.add(TimeDistributed(Dropout(0.25)))\n",
        "                                      \n",
        "    model.add(TimeDistributed(Flatten()))\n",
        "                                      \n",
        "    model.add(LSTM(64))\n",
        "                                      \n",
        "    model.add(Dense(len(CLASSES_LIST), activation = 'softmax'))\n",
        "\n",
        "    ########################################################################################################################\n",
        "\n",
        "    # Display the models summary.\n",
        "    model.summary()\n",
        "    \n",
        "    # Return the constructed LRCN model.\n",
        "    return model"
      ]
    },
    {
      "cell_type": "code",
      "execution_count": 12,
      "metadata": {
        "colab": {
          "base_uri": "https://localhost:8080/"
        },
        "id": "2Mjr6pjzFOkd",
        "outputId": "517bd5ac-b216-4065-92c1-05f488e3fd55"
      },
      "outputs": [
        {
          "output_type": "stream",
          "name": "stdout",
          "text": [
            "Model: \"sequential\"\n",
            "_________________________________________________________________\n",
            " Layer (type)                Output Shape              Param #   \n",
            "=================================================================\n",
            " time_distributed (TimeDistr  (None, 30, 64, 64, 16)   1216      \n",
            " ibuted)                                                         \n",
            "                                                                 \n",
            " time_distributed_1 (TimeDis  (None, 30, 64, 64, 16)   64        \n",
            " tributed)                                                       \n",
            "                                                                 \n",
            " time_distributed_2 (TimeDis  (None, 30, 64, 64, 16)   0         \n",
            " tributed)                                                       \n",
            "                                                                 \n",
            " time_distributed_3 (TimeDis  (None, 30, 16, 16, 16)   0         \n",
            " tributed)                                                       \n",
            "                                                                 \n",
            " time_distributed_4 (TimeDis  (None, 30, 16, 16, 16)   0         \n",
            " tributed)                                                       \n",
            "                                                                 \n",
            " time_distributed_5 (TimeDis  (None, 30, 16, 16, 32)   12832     \n",
            " tributed)                                                       \n",
            "                                                                 \n",
            " time_distributed_6 (TimeDis  (None, 30, 16, 16, 32)   128       \n",
            " tributed)                                                       \n",
            "                                                                 \n",
            " time_distributed_7 (TimeDis  (None, 30, 16, 16, 32)   0         \n",
            " tributed)                                                       \n",
            "                                                                 \n",
            " time_distributed_8 (TimeDis  (None, 30, 4, 4, 32)     0         \n",
            " tributed)                                                       \n",
            "                                                                 \n",
            " time_distributed_9 (TimeDis  (None, 30, 4, 4, 32)     0         \n",
            " tributed)                                                       \n",
            "                                                                 \n",
            " time_distributed_10 (TimeDi  (None, 30, 4, 4, 64)     51264     \n",
            " stributed)                                                      \n",
            "                                                                 \n",
            " time_distributed_11 (TimeDi  (None, 30, 4, 4, 64)     256       \n",
            " stributed)                                                      \n",
            "                                                                 \n",
            " time_distributed_12 (TimeDi  (None, 30, 4, 4, 64)     0         \n",
            " stributed)                                                      \n",
            "                                                                 \n",
            " time_distributed_13 (TimeDi  (None, 30, 2, 2, 64)     0         \n",
            " stributed)                                                      \n",
            "                                                                 \n",
            " time_distributed_14 (TimeDi  (None, 30, 2, 2, 64)     0         \n",
            " stributed)                                                      \n",
            "                                                                 \n",
            " time_distributed_15 (TimeDi  (None, 30, 2, 2, 64)     102464    \n",
            " stributed)                                                      \n",
            "                                                                 \n",
            " time_distributed_16 (TimeDi  (None, 30, 2, 2, 64)     256       \n",
            " stributed)                                                      \n",
            "                                                                 \n",
            " time_distributed_17 (TimeDi  (None, 30, 2, 2, 64)     0         \n",
            " stributed)                                                      \n",
            "                                                                 \n",
            " time_distributed_18 (TimeDi  (None, 30, 1, 1, 64)     0         \n",
            " stributed)                                                      \n",
            "                                                                 \n",
            " time_distributed_19 (TimeDi  (None, 30, 64)           0         \n",
            " stributed)                                                      \n",
            "                                                                 \n",
            " lstm (LSTM)                 (None, 64)                33024     \n",
            "                                                                 \n",
            " dense (Dense)               (None, 6)                 390       \n",
            "                                                                 \n",
            "=================================================================\n",
            "Total params: 201,894\n",
            "Trainable params: 201,542\n",
            "Non-trainable params: 352\n",
            "_________________________________________________________________\n",
            "Model Created Successfully!\n"
          ]
        }
      ],
      "source": [
        "# Construct the required LRCN model.\n",
        "LRCN_model = create_LRCN_model()\n",
        "\n",
        "# Display the success message.\n",
        "print(\"Model Created Successfully!\")\n"
      ]
    },
    {
      "cell_type": "code",
      "execution_count": 13,
      "metadata": {
        "colab": {
          "base_uri": "https://localhost:8080/"
        },
        "id": "dvXcqO0TFRzR",
        "outputId": "ddafce9f-341c-4777-e89d-ea8de6518201"
      },
      "outputs": [
        {
          "output_type": "stream",
          "name": "stdout",
          "text": [
            "Epoch 1/100\n",
            "419/419 [==============================] - 26s 22ms/step - loss: 1.6187 - accuracy: 0.3148 - val_loss: 1.9704 - val_accuracy: 0.2581\n",
            "Epoch 2/100\n",
            "419/419 [==============================] - 7s 17ms/step - loss: 1.2147 - accuracy: 0.4875 - val_loss: 1.0902 - val_accuracy: 0.5054\n",
            "Epoch 3/100\n",
            "419/419 [==============================] - 7s 17ms/step - loss: 1.1129 - accuracy: 0.5209 - val_loss: 1.1272 - val_accuracy: 0.5484\n",
            "Epoch 4/100\n",
            "419/419 [==============================] - 7s 17ms/step - loss: 0.9909 - accuracy: 0.5645 - val_loss: 1.0960 - val_accuracy: 0.5645\n",
            "Epoch 5/100\n",
            "419/419 [==============================] - 7s 17ms/step - loss: 0.9317 - accuracy: 0.6189 - val_loss: 0.9437 - val_accuracy: 0.5968\n",
            "Epoch 6/100\n",
            "419/419 [==============================] - 7s 17ms/step - loss: 0.8459 - accuracy: 0.6559 - val_loss: 1.1592 - val_accuracy: 0.5753\n",
            "Epoch 7/100\n",
            "419/419 [==============================] - 7s 17ms/step - loss: 0.7875 - accuracy: 0.6792 - val_loss: 0.6766 - val_accuracy: 0.7742\n",
            "Epoch 8/100\n",
            "419/419 [==============================] - 7s 17ms/step - loss: 0.7248 - accuracy: 0.7067 - val_loss: 0.5935 - val_accuracy: 0.7796\n",
            "Epoch 9/100\n",
            "419/419 [==============================] - 7s 17ms/step - loss: 0.6802 - accuracy: 0.7419 - val_loss: 0.8344 - val_accuracy: 0.7151\n",
            "Epoch 10/100\n",
            "419/419 [==============================] - 7s 17ms/step - loss: 0.6029 - accuracy: 0.7682 - val_loss: 0.6638 - val_accuracy: 0.7204\n",
            "Epoch 11/100\n",
            "419/419 [==============================] - 7s 17ms/step - loss: 0.5394 - accuracy: 0.7957 - val_loss: 0.9080 - val_accuracy: 0.6667\n",
            "Epoch 12/100\n",
            "419/419 [==============================] - 7s 17ms/step - loss: 0.4851 - accuracy: 0.8208 - val_loss: 0.7462 - val_accuracy: 0.7419\n",
            "Epoch 13/100\n",
            "419/419 [==============================] - 7s 17ms/step - loss: 0.4447 - accuracy: 0.8321 - val_loss: 0.3652 - val_accuracy: 0.8817\n",
            "Epoch 14/100\n",
            "419/419 [==============================] - 7s 17ms/step - loss: 0.4045 - accuracy: 0.8620 - val_loss: 0.5887 - val_accuracy: 0.7849\n",
            "Epoch 15/100\n",
            "419/419 [==============================] - 7s 18ms/step - loss: 0.3472 - accuracy: 0.8710 - val_loss: 0.5566 - val_accuracy: 0.7742\n",
            "Epoch 16/100\n",
            "419/419 [==============================] - 7s 17ms/step - loss: 0.3415 - accuracy: 0.8757 - val_loss: 0.4394 - val_accuracy: 0.8548\n",
            "Epoch 17/100\n",
            "419/419 [==============================] - 7s 17ms/step - loss: 0.3618 - accuracy: 0.8728 - val_loss: 0.4392 - val_accuracy: 0.8333\n",
            "Epoch 18/100\n",
            "419/419 [==============================] - 7s 18ms/step - loss: 0.2539 - accuracy: 0.9032 - val_loss: 0.3595 - val_accuracy: 0.8763\n",
            "Epoch 19/100\n",
            "419/419 [==============================] - 7s 17ms/step - loss: 0.2486 - accuracy: 0.9122 - val_loss: 0.8262 - val_accuracy: 0.7473\n",
            "Epoch 20/100\n",
            "419/419 [==============================] - 7s 17ms/step - loss: 0.2894 - accuracy: 0.8978 - val_loss: 0.2495 - val_accuracy: 0.9247\n",
            "Epoch 21/100\n",
            "419/419 [==============================] - 7s 17ms/step - loss: 0.2249 - accuracy: 0.9217 - val_loss: 0.2834 - val_accuracy: 0.9032\n",
            "Epoch 22/100\n",
            "419/419 [==============================] - 7s 17ms/step - loss: 0.2124 - accuracy: 0.9271 - val_loss: 0.4268 - val_accuracy: 0.8763\n",
            "Epoch 23/100\n",
            "419/419 [==============================] - 7s 17ms/step - loss: 0.2060 - accuracy: 0.9277 - val_loss: 0.5013 - val_accuracy: 0.8495\n",
            "Epoch 24/100\n",
            "419/419 [==============================] - 7s 17ms/step - loss: 0.1965 - accuracy: 0.9289 - val_loss: 0.4020 - val_accuracy: 0.8656\n",
            "Epoch 25/100\n",
            "419/419 [==============================] - 7s 17ms/step - loss: 0.1683 - accuracy: 0.9438 - val_loss: 0.3703 - val_accuracy: 0.8548\n",
            "Epoch 26/100\n",
            "419/419 [==============================] - 7s 17ms/step - loss: 0.1541 - accuracy: 0.9462 - val_loss: 0.3381 - val_accuracy: 0.8763\n",
            "Epoch 27/100\n",
            "419/419 [==============================] - 7s 17ms/step - loss: 0.1544 - accuracy: 0.9462 - val_loss: 0.4568 - val_accuracy: 0.8710\n",
            "Epoch 28/100\n",
            "419/419 [==============================] - 7s 17ms/step - loss: 0.1496 - accuracy: 0.9510 - val_loss: 0.3036 - val_accuracy: 0.9140\n",
            "Epoch 29/100\n",
            "419/419 [==============================] - 7s 18ms/step - loss: 0.1892 - accuracy: 0.9349 - val_loss: 0.5465 - val_accuracy: 0.8441\n",
            "Epoch 30/100\n",
            "419/419 [==============================] - 7s 17ms/step - loss: 0.1651 - accuracy: 0.9498 - val_loss: 0.3589 - val_accuracy: 0.9140\n",
            "Epoch 31/100\n",
            "419/419 [==============================] - 7s 17ms/step - loss: 0.1587 - accuracy: 0.9415 - val_loss: 0.4910 - val_accuracy: 0.8602\n",
            "Epoch 32/100\n",
            "419/419 [==============================] - 7s 17ms/step - loss: 0.1356 - accuracy: 0.9504 - val_loss: 0.4179 - val_accuracy: 0.8710\n",
            "Epoch 33/100\n",
            "419/419 [==============================] - 7s 17ms/step - loss: 0.1526 - accuracy: 0.9468 - val_loss: 0.2787 - val_accuracy: 0.9140\n",
            "Epoch 34/100\n",
            "419/419 [==============================] - 7s 17ms/step - loss: 0.1150 - accuracy: 0.9618 - val_loss: 0.3636 - val_accuracy: 0.9032\n",
            "Epoch 35/100\n",
            "419/419 [==============================] - 7s 17ms/step - loss: 0.1495 - accuracy: 0.9516 - val_loss: 0.3087 - val_accuracy: 0.9247\n",
            "Epoch 36/100\n",
            "419/419 [==============================] - 7s 17ms/step - loss: 0.1083 - accuracy: 0.9659 - val_loss: 0.3280 - val_accuracy: 0.9086\n",
            "Epoch 37/100\n",
            "419/419 [==============================] - 7s 17ms/step - loss: 0.1378 - accuracy: 0.9558 - val_loss: 0.2769 - val_accuracy: 0.9140\n",
            "Epoch 38/100\n",
            "419/419 [==============================] - 7s 17ms/step - loss: 0.1300 - accuracy: 0.9546 - val_loss: 0.1694 - val_accuracy: 0.9355\n",
            "Epoch 39/100\n",
            "419/419 [==============================] - 7s 18ms/step - loss: 0.0887 - accuracy: 0.9671 - val_loss: 0.3517 - val_accuracy: 0.9086\n",
            "Epoch 40/100\n",
            "419/419 [==============================] - 7s 18ms/step - loss: 0.0984 - accuracy: 0.9665 - val_loss: 0.2280 - val_accuracy: 0.9247\n",
            "Epoch 41/100\n",
            "419/419 [==============================] - 7s 18ms/step - loss: 0.0957 - accuracy: 0.9648 - val_loss: 0.2879 - val_accuracy: 0.8978\n",
            "Epoch 42/100\n",
            "419/419 [==============================] - 7s 18ms/step - loss: 0.1182 - accuracy: 0.9510 - val_loss: 0.2515 - val_accuracy: 0.9355\n",
            "Epoch 43/100\n",
            "419/419 [==============================] - 7s 17ms/step - loss: 0.0855 - accuracy: 0.9707 - val_loss: 0.3222 - val_accuracy: 0.8925\n",
            "Epoch 44/100\n",
            "419/419 [==============================] - 7s 18ms/step - loss: 0.0797 - accuracy: 0.9719 - val_loss: 0.2566 - val_accuracy: 0.9194\n",
            "Epoch 45/100\n",
            "419/419 [==============================] - 7s 17ms/step - loss: 0.0836 - accuracy: 0.9725 - val_loss: 0.7605 - val_accuracy: 0.8118\n",
            "Epoch 46/100\n",
            "419/419 [==============================] - 7s 17ms/step - loss: 0.1184 - accuracy: 0.9636 - val_loss: 0.2042 - val_accuracy: 0.9462\n",
            "Epoch 47/100\n",
            "419/419 [==============================] - 7s 17ms/step - loss: 0.0821 - accuracy: 0.9749 - val_loss: 0.2450 - val_accuracy: 0.9355\n",
            "Epoch 48/100\n",
            "419/419 [==============================] - 7s 17ms/step - loss: 0.0761 - accuracy: 0.9725 - val_loss: 0.2481 - val_accuracy: 0.9140\n",
            "Epoch 49/100\n",
            "419/419 [==============================] - 7s 17ms/step - loss: 0.0475 - accuracy: 0.9869 - val_loss: 0.3124 - val_accuracy: 0.8978\n",
            "Epoch 50/100\n",
            "419/419 [==============================] - 7s 17ms/step - loss: 0.0866 - accuracy: 0.9767 - val_loss: 0.3374 - val_accuracy: 0.9086\n",
            "Epoch 51/100\n",
            "419/419 [==============================] - 7s 17ms/step - loss: 0.0754 - accuracy: 0.9761 - val_loss: 0.3593 - val_accuracy: 0.9086\n",
            "Epoch 52/100\n",
            "419/419 [==============================] - 7s 17ms/step - loss: 0.0866 - accuracy: 0.9731 - val_loss: 0.2475 - val_accuracy: 0.9355\n",
            "Epoch 53/100\n",
            "419/419 [==============================] - 7s 18ms/step - loss: 0.0618 - accuracy: 0.9803 - val_loss: 0.3731 - val_accuracy: 0.8925\n",
            "Epoch 54/100\n",
            "419/419 [==============================] - 7s 17ms/step - loss: 0.0726 - accuracy: 0.9749 - val_loss: 0.3982 - val_accuracy: 0.8978\n",
            "Epoch 55/100\n",
            "419/419 [==============================] - 7s 18ms/step - loss: 0.0627 - accuracy: 0.9779 - val_loss: 0.2479 - val_accuracy: 0.9301\n",
            "Epoch 56/100\n",
            "419/419 [==============================] - 7s 18ms/step - loss: 0.0519 - accuracy: 0.9845 - val_loss: 0.3128 - val_accuracy: 0.9247\n",
            "Epoch 57/100\n",
            "419/419 [==============================] - 7s 17ms/step - loss: 0.0628 - accuracy: 0.9809 - val_loss: 0.4261 - val_accuracy: 0.9086\n",
            "Epoch 58/100\n",
            "419/419 [==============================] - 7s 17ms/step - loss: 0.0793 - accuracy: 0.9725 - val_loss: 0.2708 - val_accuracy: 0.9516\n",
            "Epoch 59/100\n",
            "419/419 [==============================] - 7s 17ms/step - loss: 0.0726 - accuracy: 0.9731 - val_loss: 0.5148 - val_accuracy: 0.8710\n",
            "Epoch 60/100\n",
            "419/419 [==============================] - 7s 17ms/step - loss: 0.0489 - accuracy: 0.9857 - val_loss: 0.3627 - val_accuracy: 0.9194\n",
            "Epoch 61/100\n",
            "419/419 [==============================] - 7s 17ms/step - loss: 0.0588 - accuracy: 0.9773 - val_loss: 0.2900 - val_accuracy: 0.9194\n",
            "Epoch 62/100\n",
            "419/419 [==============================] - 7s 17ms/step - loss: 0.0509 - accuracy: 0.9833 - val_loss: 0.3889 - val_accuracy: 0.8978\n",
            "Epoch 63/100\n",
            "419/419 [==============================] - 7s 18ms/step - loss: 0.0762 - accuracy: 0.9767 - val_loss: 0.2788 - val_accuracy: 0.9086\n"
          ]
        }
      ],
      "source": [
        "# Create an Instance of Early Stopping Callback.\n",
        "early_stopping_callback = EarlyStopping(monitor = 'val_loss', patience = 25, mode = 'min', restore_best_weights = True)\n",
        " \n",
        "# Compile the model and specify loss function, optimizer and metrics to the model.\n",
        "LRCN_model.compile(loss = 'categorical_crossentropy', optimizer = 'Adam', metrics = [\"accuracy\"])\n",
        "\n",
        "# Start training the model.\n",
        "LRCN_model_training_history = LRCN_model.fit(x = features_train, y = labels_train, epochs = 100, batch_size = 4 ,\n",
        "                                             shuffle = True, validation_split = 0.1, callbacks = [early_stopping_callback])"
      ]
    },
    {
      "cell_type": "code",
      "execution_count": 14,
      "metadata": {
        "colab": {
          "base_uri": "https://localhost:8080/"
        },
        "id": "2UP4-H_oF4TZ",
        "outputId": "fa7f0558-4b11-4ddb-c08e-eaa09f1f18ef"
      },
      "outputs": [
        {
          "output_type": "stream",
          "name": "stdout",
          "text": [
            "7/7 [==============================] - 0s 36ms/step - loss: 0.1733 - accuracy: 0.9324\n"
          ]
        }
      ],
      "source": [
        "# Evaluate the trained model.\n",
        "model_evaluation_history = LRCN_model.evaluate(features_test, labels_test)"
      ]
    },
    {
      "cell_type": "code",
      "execution_count": 15,
      "metadata": {
        "id": "ZQFzvcgbF73v"
      },
      "outputs": [],
      "source": [
        "# Get the loss and accuracy from model_evaluation_history.\n",
        "model_evaluation_loss, model_evaluation_accuracy = model_evaluation_history\n",
        "\n",
        "# Define the string date format.\n",
        "# Get the current Date and Time in a DateTime Object.\n",
        "# Convert the DateTime object to string according to the style mentioned in date_time_format string.\n",
        "date_time_format = '%Y_%m_%d__%H_%M_%S'\n",
        "current_date_time_dt = dt.datetime.now()\n",
        "current_date_time_string = dt.datetime.strftime(current_date_time_dt, date_time_format)\n",
        "    \n",
        "# Define a useful name for our model to make it easy for us while navigating through multiple saved models.\n",
        "model_file_name = f'LRCN_model___Date_Time_{current_date_time_string}___Loss_{model_evaluation_loss}___Accuracy_{model_evaluation_accuracy}.h5'\n",
        "\n",
        "# Save the Model.\n",
        "LRCN_model.save(model_file_name)"
      ]
    },
    {
      "cell_type": "code",
      "execution_count": 16,
      "metadata": {
        "id": "f6YHM7o_F-LU"
      },
      "outputs": [],
      "source": [
        "def plot_metric(model_training_history, metric_name_1, metric_name_2, plot_name):\n",
        "    '''\n",
        "    This function will plot the metrics passed to it in a graph.\n",
        "    Args:\n",
        "        model_training_history: A history object containing a record of training and validation \n",
        "                                loss values and metrics values at successive epochs\n",
        "        metric_name_1:          The name of the first metric that needs to be plotted in the graph.\n",
        "        metric_name_2:          The name of the second metric that needs to be plotted in the graph.\n",
        "        plot_name:              The title of the graph.\n",
        "    '''\n",
        "    \n",
        "    # Get metric values using metric names as identifiers.\n",
        "    metric_value_1 = model_training_history.history[metric_name_1]\n",
        "    metric_value_2 = model_training_history.history[metric_name_2]\n",
        "    \n",
        "    # Construct a range object which will be used as x-axis (horizontal plane) of the graph.\n",
        "    epochs = range(len(metric_value_1))\n",
        "\n",
        "    # Plot the Graph.\n",
        "    plt.plot(epochs, metric_value_1, 'blue', label = metric_name_1)\n",
        "    plt.plot(epochs, metric_value_2, 'red', label = metric_name_2)\n",
        "\n",
        "    # Add title to the plot.\n",
        "    plt.title(str(plot_name))\n",
        "\n",
        "    # Add legend to the plot.\n",
        "    plt.legend()"
      ]
    },
    {
      "cell_type": "code",
      "execution_count": 17,
      "metadata": {
        "colab": {
          "base_uri": "https://localhost:8080/",
          "height": 281
        },
        "id": "3V346_N6GAKN",
        "outputId": "38ba4dea-e656-46f4-bc2a-76954b77ef5a"
      },
      "outputs": [
        {
          "output_type": "display_data",
          "data": {
            "text/plain": [
              "<Figure size 432x288 with 1 Axes>"
            ],
            "image/png": "[encoded data removed]"
          },
          "metadata": {
            "needs_background": "light"
          }
        }
      ],
      "source": [
        "# Visualize the training and validation loss metrices.\n",
        "plot_metric(LRCN_model_training_history, 'loss', 'val_loss', 'Total Loss vs Total Validation Loss')"
      ]
    },
    {
      "cell_type": "code",
      "execution_count": 18,
      "metadata": {
        "colab": {
          "base_uri": "https://localhost:8080/",
          "height": 281
        },
        "id": "K-2dqoIFGCZl",
        "outputId": "98876d46-e04a-446b-e723-d0d1a0b29c46"
      },
      "outputs": [
        {
          "output_type": "display_data",
          "data": {
            "text/plain": [
              "<Figure size 432x288 with 1 Axes>"
            ],
            "image/png": "[encoded data removed]"
          },
          "metadata": {
            "needs_background": "light"
          }
        }
      ],
      "source": [
        "# Visualize the training and validation accuracy metrices.\n",
        "plot_metric(LRCN_model_training_history, 'accuracy', 'val_accuracy', 'Total Accuracy vs Total Validation Accuracy')"
      ]
    },
    {
      "cell_type": "code",
      "execution_count": 19,
      "metadata": {
        "colab": {
          "base_uri": "https://localhost:8080/"
        },
        "id": "UIQGDtkcGGu0",
        "outputId": "7b30bb12-d56a-44dd-a05b-6384bbcb7a88"
      },
      "outputs": [
        {
          "output_type": "execute_result",
          "data": {
            "text/plain": [
              "array([[9.6897697e-01, 7.4006049e-03, 6.8334994e-05, 2.0035291e-02,\n",
              "        2.3875244e-04, 3.2800687e-03],\n",
              "       [1.3239169e-03, 8.6060148e-03, 1.2446439e-04, 9.7136849e-01,\n",
              "        7.0125828e-03, 1.1564420e-02],\n",
              "       [1.6587821e-06, 2.7507680e-04, 9.9947506e-01, 1.5642754e-05,\n",
              "        1.2635354e-04, 1.0618727e-04],\n",
              "       ...,\n",
              "       [3.0735019e-04, 7.4749906e-04, 7.3973766e-05, 8.4784930e-04,\n",
              "        8.9930606e-01, 9.8717347e-02],\n",
              "       [9.2837064e-07, 8.6061300e-06, 9.4769057e-06, 4.5935332e-05,\n",
              "        9.9637359e-01, 3.5613617e-03],\n",
              "       [1.1083493e-03, 9.9564266e-01, 2.5631927e-03, 2.6617726e-04,\n",
              "        4.0416559e-04, 1.5532047e-05]], dtype=float32)"
            ]
          },
          "metadata": {},
          "execution_count": 19
        }
      ],
      "source": [
        "predictions =  LRCN_model.predict(features_test)\n",
        "predictions"
      ]
    },
    {
      "cell_type": "code",
      "execution_count": 20,
      "metadata": {
        "colab": {
          "base_uri": "https://localhost:8080/"
        },
        "id": "E7smnX9oGMly",
        "outputId": "10f83979-9882-4dd2-ba6e-9b771a6c4544"
      },
      "outputs": [
        {
          "output_type": "execute_result",
          "data": {
            "text/plain": [
              "array([0, 3, 2, 5, 5, 2, 5, 1, 4, 0, 3, 1, 4, 0, 4, 5, 4, 1, 1, 1, 5, 2,\n",
              "       0, 2, 2, 5, 3, 4, 5, 5, 5, 4, 5, 0, 2, 2, 4, 1, 5, 4, 2, 2, 1, 5,\n",
              "       2, 1, 5, 5, 4, 5, 4, 2, 1, 1, 3, 0, 3, 0, 2, 5, 4, 4, 5, 0, 1, 3,\n",
              "       2, 0, 5, 1, 1, 2, 5, 3, 5, 4, 0, 3, 4, 4, 3, 4, 4, 0, 0, 1, 2, 3,\n",
              "       3, 5, 5, 1, 1, 1, 5, 4, 1, 2, 5, 3, 4, 3, 3, 5, 4, 3, 2, 1, 4, 1,\n",
              "       5, 2, 0, 1, 4, 0, 4, 1, 1, 1, 1, 5, 1, 4, 1, 2, 3, 2, 5, 1, 2, 0,\n",
              "       1, 5, 1, 0, 5, 0, 1, 1, 2, 1, 2, 3, 1, 2, 3, 0, 0, 3, 2, 3, 5, 0,\n",
              "       1, 2, 1, 3, 0, 0, 1, 3, 3, 2, 4, 1, 0, 0, 5, 4, 4, 3, 1, 4, 3, 1,\n",
              "       5, 0, 4, 4, 4, 0, 0, 5, 3, 3, 1, 3, 3, 4, 1, 4, 1, 0, 4, 2, 3, 1,\n",
              "       4, 5, 3, 2, 5, 2, 4, 4, 1])"
            ]
          },
          "metadata": {},
          "execution_count": 20
        }
      ],
      "source": [
        "preds=predictions.argmax(axis=1)\n",
        "preds"
      ]
    },
    {
      "cell_type": "code",
      "execution_count": 21,
      "metadata": {
        "colab": {
          "base_uri": "https://localhost:8080/"
        },
        "id": "DvrDaZw2GPHK",
        "outputId": "da49d42c-5c95-424d-8b17-14e6a49de7ee"
      },
      "outputs": [
        {
          "output_type": "execute_result",
          "data": {
            "text/plain": [
              "array([0, 3, 2, 5, 5, 2, 5, 1, 4, 0, 3, 1, 4, 0, 4, 5, 4, 1, 1, 1, 5, 2,\n",
              "       0, 2, 2, 5, 3, 4, 5, 5, 5, 4, 5, 0, 2, 2, 4, 1, 5, 4, 2, 2, 1, 5,\n",
              "       2, 1, 5, 5, 4, 5, 4, 2, 1, 1, 3, 0, 3, 0, 2, 5, 4, 4, 5, 0, 1, 3,\n",
              "       2, 0, 5, 1, 1, 2, 5, 3, 5, 4, 0, 3, 4, 4, 3, 4, 4, 0, 0, 1, 2, 3,\n",
              "       3, 5, 5, 1, 1, 1, 5, 4, 1, 2, 5, 3, 4, 3, 3, 5, 4, 3, 2, 1, 4, 1,\n",
              "       5, 2, 0, 1, 4, 0, 4, 1, 1, 1, 1, 5, 1, 4, 1, 2, 3, 2, 5, 1, 2, 0,\n",
              "       1, 5, 1, 0, 5, 0, 1, 1, 2, 1, 2, 3, 1, 2, 3, 0, 0, 3, 2, 3, 5, 0,\n",
              "       1, 2, 1, 3, 0, 0, 1, 3, 3, 2, 4, 1, 0, 0, 5, 4, 4, 3, 1, 4, 3, 1,\n",
              "       5, 0, 4, 4, 4, 0, 0, 5, 3, 3, 1, 3, 3, 4, 1, 4, 1, 0, 4, 2, 3, 1,\n",
              "       4, 5, 3, 2, 5, 2, 4, 4, 1])"
            ]
          },
          "metadata": {},
          "execution_count": 21
        }
      ],
      "source": [
        "new_preds = preds.astype(int).flatten()\n",
        "new_preds"
      ]
    },
    {
      "cell_type": "code",
      "execution_count": 22,
      "metadata": {
        "colab": {
          "base_uri": "https://localhost:8080/",
          "height": 508
        },
        "id": "7p7e1ihVGSke",
        "outputId": "87b0bf86-96c5-4323-97df-09a5bd0927bb"
      },
      "outputs": [
        {
          "output_type": "stream",
          "name": "stdout",
          "text": [
            "              precision    recall  f1-score   support\n",
            "\n",
            "           0       0.89      0.93      0.91        27\n",
            "           1       0.93      0.95      0.94        44\n",
            "           2       0.97      0.97      0.97        30\n",
            "           3       0.94      0.85      0.89        34\n",
            "           4       0.92      1.00      0.96        34\n",
            "           5       0.94      0.89      0.92        38\n",
            "\n",
            "    accuracy                           0.93       207\n",
            "   macro avg       0.93      0.93      0.93       207\n",
            "weighted avg       0.93      0.93      0.93       207\n",
            "\n",
            "----accuracy score 93.23671497584542 ----\n"
          ]
        },
        {
          "output_type": "display_data",
          "data": {
            "text/plain": [
              "<Figure size 432x288 with 2 Axes>"
            ],
            "image/png": "[encoded data removed]"
          },
          "metadata": {
            "needs_background": "light"
          }
        }
      ],
      "source": [
        "from sklearn.metrics import classification_report, confusion_matrix,accuracy_score\n",
        "import seaborn as sn\n",
        "import pandas as pd\n",
        "import numpy as np\n",
        "new_labels=np.argmax(labels_test, axis=1)\n",
        "print(classification_report(new_labels,new_preds))\n",
        "\n",
        "acc = float(accuracy_score(new_labels,new_preds))*100\n",
        "print(\"----accuracy score %s ----\" % acc)\n",
        "\n",
        "cm = confusion_matrix(new_labels,new_preds)\n",
        "#df_cm = pd.DataFrame(cm)\n",
        "class_names = ['neutral','calm', 'happy','sad','angry', 'fearful' ]\n",
        "df_cm = pd.DataFrame(cm, index=class_names, columns=class_names,)\n",
        "sn.heatmap(df_cm, annot=True, fmt='')\n",
        "plt.show()"
      ]
    },
    {
      "cell_type": "code",
      "source": [
        ""
      ],
      "metadata": {
        "id": "zoHsKTXl0Dw7"
      },
      "execution_count": 22,
      "outputs": []
    }
  ],
  "metadata": {
    "accelerator": "GPU",
    "colab": {
      "machine_shape": "hm",
      "name": "LRCN_CNN_80_10_10_DATASET_100_EPOCHS_WITH_CAHNGE_IN_DROP_OUT_LSTM_64_kernal_size_5_6.ipynb",
      "provenance": [],
      "collapsed_sections": []
    },
    "kernelspec": {
      "display_name": "Python 3",
      "name": "python3"
    },
    "language_info": {
      "name": "python"
    }
  },
  "nbformat": 4,
  "nbformat_minor": 0
}