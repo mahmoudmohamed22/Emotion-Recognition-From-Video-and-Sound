{
  "nbformat": 4,
  "nbformat_minor": 0,
  "metadata": {
    "colab": {
      "name": "original RMS lr=0.0001 try2.ipynb",
      "provenance": [],
      "collapsed_sections": []
    },
    "kernelspec": {
      "name": "python3",
      "display_name": "Python 3"
    },
    "language_info": {
      "name": "python"
    },
    "accelerator": "GPU"
  },
  "cells": [
    {
      "cell_type": "code",
      "execution_count": 1,
      "metadata": {
        "colab": {
          "base_uri": "https://localhost:8080/"
        },
        "id": "9SRCO-a_AlH5",
        "outputId": "33ecf772-bdea-43fe-ebf6-5d5b5310b979"
      },
      "outputs": [
        {
          "output_type": "stream",
          "name": "stdout",
          "text": [
            "Drive already mounted at /content/drive; to attempt to forcibly remount, call drive.mount(\"/content/drive\", force_remount=True).\n"
          ]
        }
      ],
      "source": [
        "from google.colab import drive\n",
        "drive.mount('/content/drive')"
      ]
    },
    {
      "cell_type": "code",
      "source": [
        "!pip install librosa"
      ],
      "metadata": {
        "colab": {
          "base_uri": "https://localhost:8080/"
        },
        "id": "oi8pWV3yBVjO",
        "outputId": "7902fc16-8d5d-40d5-97fb-c580a6eba4eb"
      },
      "execution_count": 2,
      "outputs": [
        {
          "output_type": "stream",
          "name": "stdout",
          "text": [
            "Looking in indexes: https://pypi.org/simple, https://us-python.pkg.dev/colab-wheels/public/simple/\n",
            "Requirement already satisfied: librosa in /usr/local/lib/python3.7/dist-packages (0.8.1)\n",
            "Requirement already satisfied: numpy>=1.15.0 in /usr/local/lib/python3.7/dist-packages (from librosa) (1.21.6)\n",
            "Requirement already satisfied: decorator>=3.0.0 in /usr/local/lib/python3.7/dist-packages (from librosa) (4.4.2)\n",
            "Requirement already satisfied: packaging>=20.0 in /usr/local/lib/python3.7/dist-packages (from librosa) (21.3)\n",
            "Requirement already satisfied: soundfile>=0.10.2 in /usr/local/lib/python3.7/dist-packages (from librosa) (0.10.3.post1)\n",
            "Requirement already satisfied: resampy>=0.2.2 in /usr/local/lib/python3.7/dist-packages (from librosa) (0.2.2)\n",
            "Requirement already satisfied: scipy>=1.0.0 in /usr/local/lib/python3.7/dist-packages (from librosa) (1.4.1)\n",
            "Requirement already satisfied: audioread>=2.0.0 in /usr/local/lib/python3.7/dist-packages (from librosa) (2.1.9)\n",
            "Requirement already satisfied: pooch>=1.0 in /usr/local/lib/python3.7/dist-packages (from librosa) (1.6.0)\n",
            "Requirement already satisfied: joblib>=0.14 in /usr/local/lib/python3.7/dist-packages (from librosa) (1.1.0)\n",
            "Requirement already satisfied: numba>=0.43.0 in /usr/local/lib/python3.7/dist-packages (from librosa) (0.51.2)\n",
            "Requirement already satisfied: scikit-learn!=0.19.0,>=0.14.0 in /usr/local/lib/python3.7/dist-packages (from librosa) (1.0.2)\n",
            "Requirement already satisfied: setuptools in /usr/local/lib/python3.7/dist-packages (from numba>=0.43.0->librosa) (57.4.0)\n",
            "Requirement already satisfied: llvmlite<0.35,>=0.34.0.dev0 in /usr/local/lib/python3.7/dist-packages (from numba>=0.43.0->librosa) (0.34.0)\n",
            "Requirement already satisfied: pyparsing!=3.0.5,>=2.0.2 in /usr/local/lib/python3.7/dist-packages (from packaging>=20.0->librosa) (3.0.9)\n",
            "Requirement already satisfied: requests>=2.19.0 in /usr/local/lib/python3.7/dist-packages (from pooch>=1.0->librosa) (2.23.0)\n",
            "Requirement already satisfied: appdirs>=1.3.0 in /usr/local/lib/python3.7/dist-packages (from pooch>=1.0->librosa) (1.4.4)\n",
            "Requirement already satisfied: urllib3!=1.25.0,!=1.25.1,<1.26,>=1.21.1 in /usr/local/lib/python3.7/dist-packages (from requests>=2.19.0->pooch>=1.0->librosa) (1.24.3)\n",
            "Requirement already satisfied: chardet<4,>=3.0.2 in /usr/local/lib/python3.7/dist-packages (from requests>=2.19.0->pooch>=1.0->librosa) (3.0.4)\n",
            "Requirement already satisfied: idna<3,>=2.5 in /usr/local/lib/python3.7/dist-packages (from requests>=2.19.0->pooch>=1.0->librosa) (2.10)\n",
            "Requirement already satisfied: certifi>=2017.4.17 in /usr/local/lib/python3.7/dist-packages (from requests>=2.19.0->pooch>=1.0->librosa) (2022.5.18.1)\n",
            "Requirement already satisfied: six>=1.3 in /usr/local/lib/python3.7/dist-packages (from resampy>=0.2.2->librosa) (1.15.0)\n",
            "Requirement already satisfied: threadpoolctl>=2.0.0 in /usr/local/lib/python3.7/dist-packages (from scikit-learn!=0.19.0,>=0.14.0->librosa) (3.1.0)\n",
            "Requirement already satisfied: cffi>=1.0 in /usr/local/lib/python3.7/dist-packages (from soundfile>=0.10.2->librosa) (1.15.0)\n",
            "Requirement already satisfied: pycparser in /usr/local/lib/python3.7/dist-packages (from cffi>=1.0->soundfile>=0.10.2->librosa) (2.21)\n"
          ]
        }
      ]
    },
    {
      "cell_type": "code",
      "metadata": {
        "id": "HJjcbxwy46bG",
        "colab": {
          "base_uri": "https://localhost:8080/",
          "height": 17
        },
        "outputId": "21ec63a3-ad90-4e21-9c0d-14487df64491"
      },
      "source": [
        "# Orignial Notebook: https://github.com/MITESHPUTHRANNEU/Speech-Emotion-Analyzer/blob/master/final_results_gender_test.ipynb\n",
        "# This notebook author: Reza Chu\n",
        "# Last Editing Date: 31st May 2019\n",
        "\n",
        "## Python\n",
        "import os\n",
        "import random\n",
        "import sys\n",
        "\n",
        "import IPython\n",
        "from IPython.display import Audio\n",
        "from IPython.display import Image\n",
        "import matplotlib.pyplot as plt\n",
        "\n",
        "## Package\n",
        "import glob \n",
        "import keras\n",
        "import IPython.display as ipd\n",
        "import librosa\n",
        "import librosa.display\n",
        "import matplotlib.pyplot as plt\n",
        "import numpy as np\n",
        "import pandas as pd\n",
        "import plotly.graph_objs as go\n",
        "import plotly.offline as py\n",
        "import plotly.tools as tls\n",
        "import seaborn as sns\n",
        "import scipy.io.wavfile\n",
        "import tensorflow as tf\n",
        "py.init_notebook_mode(connected=True)\n",
        "\n",
        "## Keras\n",
        "from keras import regularizers\n",
        "from keras.callbacks import ModelCheckpoint, LearningRateScheduler, EarlyStopping\n",
        "from keras.callbacks import  History, ReduceLROnPlateau, CSVLogger\n",
        "from keras.models import Model, Sequential\n",
        "from keras.layers import Dense, Embedding, LSTM\n",
        "from keras.layers import Input, Flatten, Dropout, Activation, BatchNormalization\n",
        "from keras.layers import Conv1D, MaxPooling1D, AveragePooling1D\n",
        "from keras.preprocessing import sequence\n",
        "from keras.preprocessing.sequence import pad_sequences\n",
        "from keras.preprocessing.text import Tokenizer\n",
        "from keras.utils import np_utils\n",
        "from tensorflow.keras.utils import to_categorical\n",
        "\n",
        "## Sklearn\n",
        "from sklearn.metrics import confusion_matrix\n",
        "from sklearn.preprocessing import LabelEncoder\n",
        "\n",
        "## Rest\n",
        "from scipy.fftpack import fft\n",
        "from scipy import signal\n",
        "from scipy.io import wavfile\n",
        "from tqdm import tqdm\n",
        "\n",
        "input_duration=3\n",
        "# % pylab inline"
      ],
      "execution_count": 3,
      "outputs": [
        {
          "output_type": "display_data",
          "data": {
            "text/html": [
              "        <script type=\"text/javascript\">\n",
              "        window.PlotlyConfig = {MathJaxConfig: 'local'};\n",
              "        if (window.MathJax) {MathJax.Hub.Config({SVG: {font: \"STIX-Web\"}});}\n",
              "        if (typeof require !== 'undefined') {\n",
              "        require.undef(\"plotly\");\n",
              "        requirejs.config({\n",
              "            paths: {\n",
              "                'plotly': ['https://cdn.plot.ly/plotly-2.8.3.min']\n",
              "            }\n",
              "        });\n",
              "        require(['plotly'], function(Plotly) {\n",
              "            window._Plotly = Plotly;\n",
              "        });\n",
              "        }\n",
              "        </script>\n",
              "        "
            ]
          },
          "metadata": {}
        }
      ]
    },
    {
      "cell_type": "code",
      "source": [
        "#radvass speech and song\n",
        "import time\n",
        "import os\n",
        "import librosa\n",
        "from librosa import display\n",
        "import matplotlib.pyplot as plt\n",
        "\n",
        "count=0\n",
        "path1 = '/content/drive/MyDrive/RAVDESS_speech'\n",
        "path2 = '/content/drive/MyDrive/RAVDESS_song'\n",
        "\n",
        "lst = []\n",
        "\n",
        "start_time = time.time()\n",
        "\n",
        "for subdir, dirs, files in os.walk(path2):\n",
        "  print(dirs)\n",
        "  print(subdir)\n",
        "  #print(files)\n",
        "  for file in files:\n",
        "      try:\n",
        "        count +=1\n",
        "        #Load librosa array, obtain mfcss, store the file and the mcss information in a new array\n",
        "        X, sample_rate = librosa.load(os.path.join(subdir,file), res_type='kaiser_fast')\n",
        "        mfccs = np.mean(librosa.feature.mfcc(y=X, sr=sample_rate, n_mfcc=40).T,axis=0) \n",
        "        # The instruction below converts the labels (from 1 to 8) to a series from 0 to 7\n",
        "        # This is because our predictor needs to start from 0 otherwise it will try to predict also 0.\n",
        "        file = int(file[7:8]) - 1 \n",
        "        arr = mfccs, file\n",
        "        lst.append(arr)\n",
        "      # If the file is not valid, skip it\n",
        "      except ValueError:\n",
        "        continue\n",
        "\n",
        "for subdir, dirs, files in os.walk(path1):\n",
        "  print(dirs)\n",
        "  print(subdir)\n",
        " # print(files)\n",
        "  for file in files:\n",
        "      try:\n",
        "        #Load librosa array, obtain mfcss, store the file and the mcss information in a new array\n",
        "        X, sample_rate = librosa.load(os.path.join(subdir,file), res_type='kaiser_fast')\n",
        "        mfccs = np.mean(librosa.feature.mfcc(y=X, sr=sample_rate, n_mfcc=40).T,axis=0) \n",
        "        # The instruction below converts the labels (from 1 to 8) to a series from 0 to 7\n",
        "        # This is because our predictor needs to start from 0 otherwise it will try to predict also 0.\n",
        "        file = int(file[7:8]) - 1 \n",
        "        if(file ==6 or file==7):\n",
        "          continue\n",
        "        count +=1\n",
        "        arr = mfccs, file\n",
        "        lst.append(arr)\n",
        "      # If the file is not valid, skip it\n",
        "      except ValueError:\n",
        "        continue\n",
        "\n",
        "\n",
        "\n",
        "print(\"--- Data loaded. Loading time: %s seconds ---\" % (time.time() - start_time))"
      ],
      "metadata": {
        "colab": {
          "base_uri": "https://localhost:8080/"
        },
        "id": "IfuyRZl42ccZ",
        "outputId": "766e7030-5496-491d-b0e1-b64a591a4d62"
      },
      "execution_count": 4,
      "outputs": [
        {
          "output_type": "stream",
          "name": "stdout",
          "text": [
            "['Actor_10', 'Actor_11', 'Actor_13', 'Actor_12', 'Actor_14', 'Actor_15', 'Actor_16', 'Actor_17', 'Actor_18', 'Actor_19', 'Actor_21', 'Actor_22', 'Actor_23', 'Actor_09', 'Actor_24', 'Actor_04', 'Actor_08', 'Actor_03', 'Actor_02', 'Actor_06', 'Actor_05', 'Actor_01', 'Actor_07', 'Actor_20']\n",
            "/content/drive/MyDrive/RAVDESS_song\n",
            "[]\n",
            "/content/drive/MyDrive/RAVDESS_song/Actor_10\n",
            "[]\n",
            "/content/drive/MyDrive/RAVDESS_song/Actor_11\n",
            "[]\n",
            "/content/drive/MyDrive/RAVDESS_song/Actor_13\n",
            "[]\n",
            "/content/drive/MyDrive/RAVDESS_song/Actor_12\n",
            "[]\n",
            "/content/drive/MyDrive/RAVDESS_song/Actor_14\n",
            "[]\n",
            "/content/drive/MyDrive/RAVDESS_song/Actor_15\n",
            "[]\n",
            "/content/drive/MyDrive/RAVDESS_song/Actor_16\n",
            "[]\n",
            "/content/drive/MyDrive/RAVDESS_song/Actor_17\n",
            "[]\n",
            "/content/drive/MyDrive/RAVDESS_song/Actor_18\n",
            "[]\n",
            "/content/drive/MyDrive/RAVDESS_song/Actor_19\n",
            "[]\n",
            "/content/drive/MyDrive/RAVDESS_song/Actor_21\n",
            "[]\n",
            "/content/drive/MyDrive/RAVDESS_song/Actor_22\n",
            "[]\n",
            "/content/drive/MyDrive/RAVDESS_song/Actor_23\n",
            "[]\n",
            "/content/drive/MyDrive/RAVDESS_song/Actor_09\n",
            "[]\n",
            "/content/drive/MyDrive/RAVDESS_song/Actor_24\n",
            "[]\n",
            "/content/drive/MyDrive/RAVDESS_song/Actor_04\n",
            "[]\n",
            "/content/drive/MyDrive/RAVDESS_song/Actor_08\n",
            "[]\n",
            "/content/drive/MyDrive/RAVDESS_song/Actor_03\n",
            "[]\n",
            "/content/drive/MyDrive/RAVDESS_song/Actor_02\n",
            "[]\n",
            "/content/drive/MyDrive/RAVDESS_song/Actor_06\n",
            "[]\n",
            "/content/drive/MyDrive/RAVDESS_song/Actor_05\n",
            "[]\n",
            "/content/drive/MyDrive/RAVDESS_song/Actor_01\n",
            "[]\n",
            "/content/drive/MyDrive/RAVDESS_song/Actor_07\n",
            "[]\n",
            "/content/drive/MyDrive/RAVDESS_song/Actor_20\n",
            "['Actor_05', 'Actor_08', 'Actor_10', 'Actor_04', 'Actor_09', 'Actor_14', 'Actor_12', 'Actor_13', 'Actor_11', 'Actor_06', 'Actor_24', 'Actor_07', 'Actor_23', 'Actor_22', 'Actor_21', 'Actor_20', 'Actor_02', 'Actor_19', 'Actor_18', 'Actor_17', 'Actor_16', 'Actor_15', 'Actor_03', 'Actor_01']\n",
            "/content/drive/MyDrive/RAVDESS_speech\n",
            "[]\n",
            "/content/drive/MyDrive/RAVDESS_speech/Actor_05\n",
            "[]\n",
            "/content/drive/MyDrive/RAVDESS_speech/Actor_08\n",
            "[]\n",
            "/content/drive/MyDrive/RAVDESS_speech/Actor_10\n",
            "[]\n",
            "/content/drive/MyDrive/RAVDESS_speech/Actor_04\n",
            "[]\n",
            "/content/drive/MyDrive/RAVDESS_speech/Actor_09\n",
            "[]\n",
            "/content/drive/MyDrive/RAVDESS_speech/Actor_14\n",
            "[]\n",
            "/content/drive/MyDrive/RAVDESS_speech/Actor_12\n",
            "[]\n",
            "/content/drive/MyDrive/RAVDESS_speech/Actor_13\n",
            "[]\n",
            "/content/drive/MyDrive/RAVDESS_speech/Actor_11\n",
            "[]\n",
            "/content/drive/MyDrive/RAVDESS_speech/Actor_06\n",
            "[]\n",
            "/content/drive/MyDrive/RAVDESS_speech/Actor_24\n",
            "[]\n",
            "/content/drive/MyDrive/RAVDESS_speech/Actor_07\n",
            "[]\n",
            "/content/drive/MyDrive/RAVDESS_speech/Actor_23\n",
            "[]\n",
            "/content/drive/MyDrive/RAVDESS_speech/Actor_22\n",
            "[]\n",
            "/content/drive/MyDrive/RAVDESS_speech/Actor_21\n",
            "[]\n",
            "/content/drive/MyDrive/RAVDESS_speech/Actor_20\n",
            "[]\n",
            "/content/drive/MyDrive/RAVDESS_speech/Actor_02\n",
            "[]\n",
            "/content/drive/MyDrive/RAVDESS_speech/Actor_19\n",
            "[]\n",
            "/content/drive/MyDrive/RAVDESS_speech/Actor_18\n",
            "[]\n",
            "/content/drive/MyDrive/RAVDESS_speech/Actor_17\n",
            "[]\n",
            "/content/drive/MyDrive/RAVDESS_speech/Actor_16\n",
            "[]\n",
            "/content/drive/MyDrive/RAVDESS_speech/Actor_15\n",
            "[]\n",
            "/content/drive/MyDrive/RAVDESS_speech/Actor_03\n",
            "[]\n",
            "/content/drive/MyDrive/RAVDESS_speech/Actor_01\n",
            "--- Data loaded. Loading time: 218.32681012153625 seconds ---\n"
          ]
        }
      ]
    },
    {
      "cell_type": "code",
      "source": [
        "count"
      ],
      "metadata": {
        "id": "Ltlhi25L2AI5",
        "colab": {
          "base_uri": "https://localhost:8080/"
        },
        "outputId": "2ed68ae1-bf3d-4e76-e77a-5953f5c62b66"
      },
      "execution_count": 5,
      "outputs": [
        {
          "output_type": "execute_result",
          "data": {
            "text/plain": [
              "2068"
            ]
          },
          "metadata": {},
          "execution_count": 5
        }
      ]
    },
    {
      "cell_type": "code",
      "source": [
        "from numpy.core.fromnumeric import size\n",
        "size(lst)"
      ],
      "metadata": {
        "id": "HMOH7d7mzHB7",
        "colab": {
          "base_uri": "https://localhost:8080/"
        },
        "outputId": "6427d6b5-f8e0-4ed0-ab1a-7f207ea6aad0"
      },
      "execution_count": 6,
      "outputs": [
        {
          "output_type": "stream",
          "name": "stderr",
          "text": [
            "/usr/local/lib/python3.7/dist-packages/numpy/core/fromnumeric.py:3208: VisibleDeprecationWarning:\n",
            "\n",
            "Creating an ndarray from ragged nested sequences (which is a list-or-tuple of lists-or-tuples-or ndarrays with different lengths or shapes) is deprecated. If you meant to do this, you must specify 'dtype=object' when creating the ndarray.\n",
            "\n"
          ]
        },
        {
          "output_type": "execute_result",
          "data": {
            "text/plain": [
              "4136"
            ]
          },
          "metadata": {},
          "execution_count": 6
        }
      ]
    },
    {
      "cell_type": "code",
      "source": [
        "# Creating X and y: zip makes a list of all the first elements, and a list of all the second elements.\n",
        "X, y = zip(*lst)"
      ],
      "metadata": {
        "id": "ocdL7tSTBoMt"
      },
      "execution_count": 7,
      "outputs": []
    },
    {
      "cell_type": "code",
      "source": [
        "import numpy as np\n",
        "X = np.asarray(X)\n",
        "y = np.asarray(y)\n",
        "X.shape, y.shape"
      ],
      "metadata": {
        "id": "vHKwUGTbBtnF",
        "colab": {
          "base_uri": "https://localhost:8080/"
        },
        "outputId": "fc513455-a2d8-4d0b-b152-ca8437fdeb5f"
      },
      "execution_count": 8,
      "outputs": [
        {
          "output_type": "execute_result",
          "data": {
            "text/plain": [
              "((2068, 40), (2068,))"
            ]
          },
          "metadata": {},
          "execution_count": 8
        }
      ]
    },
    {
      "cell_type": "code",
      "source": [
        "X.shape"
      ],
      "metadata": {
        "id": "2sUCtbfMztE5",
        "colab": {
          "base_uri": "https://localhost:8080/"
        },
        "outputId": "2f319fad-a0de-44e5-ea30-2f3a429f04ef"
      },
      "execution_count": 9,
      "outputs": [
        {
          "output_type": "execute_result",
          "data": {
            "text/plain": [
              "(2068, 40)"
            ]
          },
          "metadata": {},
          "execution_count": 9
        }
      ]
    },
    {
      "cell_type": "code",
      "source": [
        "# # Saving joblib files to not load them again with the loop above\n",
        "\n",
        "# import joblib\n",
        "\n",
        "# X_name = 'x.joblib'\n",
        "# y_name = 'y.joblib'\n",
        "# save_dir = '/content/drive/My Drive/graduation project/audio/paper_code/features'\n",
        "\n",
        "# savedX = joblib.dump(X, os.path.join(save_dir, X_name))\n",
        "# savedy = joblib.dump(y, os.path.join(save_dir, y_name))"
      ],
      "metadata": {
        "id": "UCzic8rlDcuk"
      },
      "execution_count": 10,
      "outputs": []
    },
    {
      "cell_type": "code",
      "source": [
        "# # Loading saved models\n",
        "# import joblib\n",
        "# X = joblib.load('/content/drive/My Drive/graduation project/audio/paper_code/features/x.joblib')\n",
        "# y = joblib.load('/content/drive/My Drive/graduation project/audio/paper_code/features/y.joblib')"
      ],
      "metadata": {
        "id": "Q35CN6zDrzg1"
      },
      "execution_count": 11,
      "outputs": []
    },
    {
      "cell_type": "code",
      "source": [
        "X.shape"
      ],
      "metadata": {
        "colab": {
          "base_uri": "https://localhost:8080/"
        },
        "id": "7PSTurzjCo5K",
        "outputId": "a6e37341-4039-4f99-9fd8-f57941f9c4dd"
      },
      "execution_count": 12,
      "outputs": [
        {
          "output_type": "execute_result",
          "data": {
            "text/plain": [
              "(2068, 40)"
            ]
          },
          "metadata": {},
          "execution_count": 12
        }
      ]
    },
    {
      "cell_type": "code",
      "source": [
        "from sklearn.model_selection import train_test_split\n",
        "\n",
        "X_train, X_test, y_train, y_test = train_test_split(X,y, test_size=0.2,train_size=0.8, random_state=42)\n",
        "X_valid, X_test, y_valid, y_test = train_test_split(X_test,y_test, test_size=0.5,train_size=0.5, random_state=42)"
      ],
      "metadata": {
        "id": "Ai4Fy5cPCiq1"
      },
      "execution_count": 13,
      "outputs": []
    },
    {
      "cell_type": "code",
      "source": [
        "import numpy as np\n",
        "x_traincnn = np.expand_dims(X_train, axis=2)\n",
        "x_testcnn = np.expand_dims(X_test, axis=2)\n",
        "X_valid= np.expand_dims(X_valid, axis=2)"
      ],
      "metadata": {
        "id": "tp1Fm5K3CEXu"
      },
      "execution_count": 14,
      "outputs": []
    },
    {
      "cell_type": "code",
      "source": [
        "x_traincnn.shape, x_testcnn.shape , X_valid.shape"
      ],
      "metadata": {
        "id": "RI0MxoIPBws5",
        "colab": {
          "base_uri": "https://localhost:8080/"
        },
        "outputId": "e6c0ed0d-340e-4348-9929-c5822ffbbebc"
      },
      "execution_count": 15,
      "outputs": [
        {
          "output_type": "execute_result",
          "data": {
            "text/plain": [
              "((1654, 40, 1), (207, 40, 1), (207, 40, 1))"
            ]
          },
          "metadata": {},
          "execution_count": 15
        }
      ]
    },
    {
      "cell_type": "code",
      "source": [
        "!pip install tensorflow"
      ],
      "metadata": {
        "id": "goxL4Y3jKICC",
        "colab": {
          "base_uri": "https://localhost:8080/"
        },
        "outputId": "ed32d024-fd7d-48b8-a5cb-42d37639e5c3"
      },
      "execution_count": 16,
      "outputs": [
        {
          "output_type": "stream",
          "name": "stdout",
          "text": [
            "Looking in indexes: https://pypi.org/simple, https://us-python.pkg.dev/colab-wheels/public/simple/\n",
            "Requirement already satisfied: tensorflow in /usr/local/lib/python3.7/dist-packages (2.8.2+zzzcolab20220527125636)\n",
            "Requirement already satisfied: flatbuffers>=1.12 in /usr/local/lib/python3.7/dist-packages (from tensorflow) (2.0)\n",
            "Requirement already satisfied: setuptools in /usr/local/lib/python3.7/dist-packages (from tensorflow) (57.4.0)\n",
            "Requirement already satisfied: six>=1.12.0 in /usr/local/lib/python3.7/dist-packages (from tensorflow) (1.15.0)\n",
            "Requirement already satisfied: google-pasta>=0.1.1 in /usr/local/lib/python3.7/dist-packages (from tensorflow) (0.2.0)\n",
            "Requirement already satisfied: tensorflow-io-gcs-filesystem>=0.23.1 in /usr/local/lib/python3.7/dist-packages (from tensorflow) (0.26.0)\n",
            "Requirement already satisfied: typing-extensions>=3.6.6 in /usr/local/lib/python3.7/dist-packages (from tensorflow) (4.2.0)\n",
            "Requirement already satisfied: gast>=0.2.1 in /usr/local/lib/python3.7/dist-packages (from tensorflow) (0.5.3)\n",
            "Requirement already satisfied: astunparse>=1.6.0 in /usr/local/lib/python3.7/dist-packages (from tensorflow) (1.6.3)\n",
            "Requirement already satisfied: keras<2.9,>=2.8.0rc0 in /usr/local/lib/python3.7/dist-packages (from tensorflow) (2.8.0)\n",
            "Requirement already satisfied: tensorflow-estimator<2.9,>=2.8 in /usr/local/lib/python3.7/dist-packages (from tensorflow) (2.8.0)\n",
            "Requirement already satisfied: libclang>=9.0.1 in /usr/local/lib/python3.7/dist-packages (from tensorflow) (14.0.1)\n",
            "Requirement already satisfied: wrapt>=1.11.0 in /usr/local/lib/python3.7/dist-packages (from tensorflow) (1.14.1)\n",
            "Requirement already satisfied: grpcio<2.0,>=1.24.3 in /usr/local/lib/python3.7/dist-packages (from tensorflow) (1.46.3)\n",
            "Requirement already satisfied: protobuf<3.20,>=3.9.2 in /usr/local/lib/python3.7/dist-packages (from tensorflow) (3.17.3)\n",
            "Requirement already satisfied: opt-einsum>=2.3.2 in /usr/local/lib/python3.7/dist-packages (from tensorflow) (3.3.0)\n",
            "Requirement already satisfied: h5py>=2.9.0 in /usr/local/lib/python3.7/dist-packages (from tensorflow) (3.1.0)\n",
            "Requirement already satisfied: absl-py>=0.4.0 in /usr/local/lib/python3.7/dist-packages (from tensorflow) (1.0.0)\n",
            "Requirement already satisfied: keras-preprocessing>=1.1.1 in /usr/local/lib/python3.7/dist-packages (from tensorflow) (1.1.2)\n",
            "Requirement already satisfied: termcolor>=1.1.0 in /usr/local/lib/python3.7/dist-packages (from tensorflow) (1.1.0)\n",
            "Requirement already satisfied: numpy>=1.20 in /usr/local/lib/python3.7/dist-packages (from tensorflow) (1.21.6)\n",
            "Requirement already satisfied: tensorboard<2.9,>=2.8 in /usr/local/lib/python3.7/dist-packages (from tensorflow) (2.8.0)\n",
            "Requirement already satisfied: wheel<1.0,>=0.23.0 in /usr/local/lib/python3.7/dist-packages (from astunparse>=1.6.0->tensorflow) (0.37.1)\n",
            "Requirement already satisfied: cached-property in /usr/local/lib/python3.7/dist-packages (from h5py>=2.9.0->tensorflow) (1.5.2)\n",
            "Requirement already satisfied: markdown>=2.6.8 in /usr/local/lib/python3.7/dist-packages (from tensorboard<2.9,>=2.8->tensorflow) (3.3.7)\n",
            "Requirement already satisfied: requests<3,>=2.21.0 in /usr/local/lib/python3.7/dist-packages (from tensorboard<2.9,>=2.8->tensorflow) (2.23.0)\n",
            "Requirement already satisfied: tensorboard-data-server<0.7.0,>=0.6.0 in /usr/local/lib/python3.7/dist-packages (from tensorboard<2.9,>=2.8->tensorflow) (0.6.1)\n",
            "Requirement already satisfied: google-auth-oauthlib<0.5,>=0.4.1 in /usr/local/lib/python3.7/dist-packages (from tensorboard<2.9,>=2.8->tensorflow) (0.4.6)\n",
            "Requirement already satisfied: tensorboard-plugin-wit>=1.6.0 in /usr/local/lib/python3.7/dist-packages (from tensorboard<2.9,>=2.8->tensorflow) (1.8.1)\n",
            "Requirement already satisfied: google-auth<3,>=1.6.3 in /usr/local/lib/python3.7/dist-packages (from tensorboard<2.9,>=2.8->tensorflow) (1.35.0)\n",
            "Requirement already satisfied: werkzeug>=0.11.15 in /usr/local/lib/python3.7/dist-packages (from tensorboard<2.9,>=2.8->tensorflow) (1.0.1)\n",
            "Requirement already satisfied: cachetools<5.0,>=2.0.0 in /usr/local/lib/python3.7/dist-packages (from google-auth<3,>=1.6.3->tensorboard<2.9,>=2.8->tensorflow) (4.2.4)\n",
            "Requirement already satisfied: pyasn1-modules>=0.2.1 in /usr/local/lib/python3.7/dist-packages (from google-auth<3,>=1.6.3->tensorboard<2.9,>=2.8->tensorflow) (0.2.8)\n",
            "Requirement already satisfied: rsa<5,>=3.1.4 in /usr/local/lib/python3.7/dist-packages (from google-auth<3,>=1.6.3->tensorboard<2.9,>=2.8->tensorflow) (4.8)\n",
            "Requirement already satisfied: requests-oauthlib>=0.7.0 in /usr/local/lib/python3.7/dist-packages (from google-auth-oauthlib<0.5,>=0.4.1->tensorboard<2.9,>=2.8->tensorflow) (1.3.1)\n",
            "Requirement already satisfied: importlib-metadata>=4.4 in /usr/local/lib/python3.7/dist-packages (from markdown>=2.6.8->tensorboard<2.9,>=2.8->tensorflow) (4.11.4)\n",
            "Requirement already satisfied: zipp>=0.5 in /usr/local/lib/python3.7/dist-packages (from importlib-metadata>=4.4->markdown>=2.6.8->tensorboard<2.9,>=2.8->tensorflow) (3.8.0)\n",
            "Requirement already satisfied: pyasn1<0.5.0,>=0.4.6 in /usr/local/lib/python3.7/dist-packages (from pyasn1-modules>=0.2.1->google-auth<3,>=1.6.3->tensorboard<2.9,>=2.8->tensorflow) (0.4.8)\n",
            "Requirement already satisfied: urllib3!=1.25.0,!=1.25.1,<1.26,>=1.21.1 in /usr/local/lib/python3.7/dist-packages (from requests<3,>=2.21.0->tensorboard<2.9,>=2.8->tensorflow) (1.24.3)\n",
            "Requirement already satisfied: idna<3,>=2.5 in /usr/local/lib/python3.7/dist-packages (from requests<3,>=2.21.0->tensorboard<2.9,>=2.8->tensorflow) (2.10)\n",
            "Requirement already satisfied: certifi>=2017.4.17 in /usr/local/lib/python3.7/dist-packages (from requests<3,>=2.21.0->tensorboard<2.9,>=2.8->tensorflow) (2022.5.18.1)\n",
            "Requirement already satisfied: chardet<4,>=3.0.2 in /usr/local/lib/python3.7/dist-packages (from requests<3,>=2.21.0->tensorboard<2.9,>=2.8->tensorflow) (3.0.4)\n",
            "Requirement already satisfied: oauthlib>=3.0.0 in /usr/local/lib/python3.7/dist-packages (from requests-oauthlib>=0.7.0->google-auth-oauthlib<0.5,>=0.4.1->tensorboard<2.9,>=2.8->tensorflow) (3.2.0)\n"
          ]
        }
      ]
    },
    {
      "cell_type": "code",
      "source": [
        "!pip install keras"
      ],
      "metadata": {
        "id": "EkcmN9UrKSxj",
        "colab": {
          "base_uri": "https://localhost:8080/"
        },
        "outputId": "87446cc1-0897-4c55-b2c4-1821823b8071"
      },
      "execution_count": 17,
      "outputs": [
        {
          "output_type": "stream",
          "name": "stdout",
          "text": [
            "Looking in indexes: https://pypi.org/simple, https://us-python.pkg.dev/colab-wheels/public/simple/\n",
            "Requirement already satisfied: keras in /usr/local/lib/python3.7/dist-packages (2.8.0)\n"
          ]
        }
      ]
    },
    {
      "cell_type": "code",
      "source": [
        "import keras\n",
        "import numpy as np\n",
        "import matplotlib.pyplot as plt\n",
        "import tensorflow as tf\n",
        "from keras.preprocessing import sequence\n",
        "from keras.models import Sequential\n",
        "from keras.layers import Dense, Embedding\n",
        "from tensorflow.keras.utils import to_categorical\n",
        "from keras.layers import Input, Flatten, Dropout, Activation\n",
        "from keras.layers import Conv1D, MaxPooling1D\n",
        "from keras.models import Model\n",
        "from keras.callbacks import ModelCheckpoint\n",
        "from tensorflow.keras import optimizers\n",
        "\n",
        "model = Sequential()\n",
        "\n",
        "model.add(Conv1D(128, 8,padding='same', #classifier.add(Convolution2D(64, (3, 3), padding = 'same', input_shape = (128, 128, 3), activation = 'relu'))\n",
        "                 input_shape=(40,1)))\n",
        "model.add(Activation('relu'))\n",
        "model.add(Dropout(0.3))\n",
        "model.add(MaxPooling1D(pool_size=(5)))\n",
        "\n",
        "\n",
        "model.add(Conv1D(256,8,padding='same',))\n",
        "model.add(Activation('relu'))\n",
        "model.add(Dropout(0.3))\n",
        "model.add(MaxPooling1D(pool_size=(5)))\n",
        "\n",
        "model.add(Flatten())\n",
        "\n",
        "model.add(Dense(256))\n",
        "model.add(Activation('relu'))\n",
        "model.add(Dense(256))\n",
        "model.add(Activation('relu'))\n",
        "\n",
        "model.add(Dense(6))\n",
        "model.add(Activation('softmax'))\n",
        "\n",
        "#opt = tf.keras.optimizers.Adam(lr=0.00002)\n",
        "opt = tf.keras.optimizers.RMSprop(lr=0.0001, rho=0.9, epsilon=1e-07, decay=0.0)\n",
        "#opt = tf.keras.optimizers.SGD(lr=0.001, momentum=0.0, decay=0.0, nesterov=False)"
      ],
      "metadata": {
        "id": "g74fXWVAC4Cr",
        "colab": {
          "base_uri": "https://localhost:8080/"
        },
        "outputId": "0e74a4b7-0ea4-4955-845c-569361d73fc3"
      },
      "execution_count": 18,
      "outputs": [
        {
          "output_type": "stream",
          "name": "stderr",
          "text": [
            "/usr/local/lib/python3.7/dist-packages/keras/optimizer_v2/rmsprop.py:130: UserWarning:\n",
            "\n",
            "The `lr` argument is deprecated, use `learning_rate` instead.\n",
            "\n"
          ]
        }
      ]
    },
    {
      "cell_type": "code",
      "source": [
        "model.summary()"
      ],
      "metadata": {
        "colab": {
          "base_uri": "https://localhost:8080/"
        },
        "id": "H6ukOxAGC_I4",
        "outputId": "e23667ea-3cb2-47bb-ab7a-cebb8a00efe1"
      },
      "execution_count": 19,
      "outputs": [
        {
          "output_type": "stream",
          "name": "stdout",
          "text": [
            "Model: \"sequential\"\n",
            "_________________________________________________________________\n",
            " Layer (type)                Output Shape              Param #   \n",
            "=================================================================\n",
            " conv1d (Conv1D)             (None, 40, 128)           1152      \n",
            "                                                                 \n",
            " activation (Activation)     (None, 40, 128)           0         \n",
            "                                                                 \n",
            " dropout (Dropout)           (None, 40, 128)           0         \n",
            "                                                                 \n",
            " max_pooling1d (MaxPooling1D  (None, 8, 128)           0         \n",
            " )                                                               \n",
            "                                                                 \n",
            " conv1d_1 (Conv1D)           (None, 8, 256)            262400    \n",
            "                                                                 \n",
            " activation_1 (Activation)   (None, 8, 256)            0         \n",
            "                                                                 \n",
            " dropout_1 (Dropout)         (None, 8, 256)            0         \n",
            "                                                                 \n",
            " max_pooling1d_1 (MaxPooling  (None, 1, 256)           0         \n",
            " 1D)                                                             \n",
            "                                                                 \n",
            " flatten (Flatten)           (None, 256)               0         \n",
            "                                                                 \n",
            " dense (Dense)               (None, 256)               65792     \n",
            "                                                                 \n",
            " activation_2 (Activation)   (None, 256)               0         \n",
            "                                                                 \n",
            " dense_1 (Dense)             (None, 256)               65792     \n",
            "                                                                 \n",
            " activation_3 (Activation)   (None, 256)               0         \n",
            "                                                                 \n",
            " dense_2 (Dense)             (None, 6)                 1542      \n",
            "                                                                 \n",
            " activation_4 (Activation)   (None, 6)                 0         \n",
            "                                                                 \n",
            "=================================================================\n",
            "Total params: 396,678\n",
            "Trainable params: 396,678\n",
            "Non-trainable params: 0\n",
            "_________________________________________________________________\n"
          ]
        }
      ]
    },
    {
      "cell_type": "code",
      "source": [
        "model.compile(loss='sparse_categorical_crossentropy',\n",
        "              optimizer=opt,\n",
        "              metrics=['accuracy'])"
      ],
      "metadata": {
        "id": "AbMlLNk4DCBM"
      },
      "execution_count": 20,
      "outputs": []
    },
    {
      "cell_type": "code",
      "source": [
        "#cnnhistory=model.fit(x_traincnn, y_train, batch_size=16, epochs=700, validation_data=(x_testcnn, y_test))\n",
        "cnnhistory=model.fit(x_traincnn, y_train, batch_size=16, epochs=500 , validation_data=(X_valid, y_valid))"
      ],
      "metadata": {
        "colab": {
          "base_uri": "https://localhost:8080/"
        },
        "id": "RI1v2AuADFhy",
        "outputId": "df650686-5035-407f-a677-6db6c3da5d3d"
      },
      "execution_count": 21,
      "outputs": [
        {
          "output_type": "stream",
          "name": "stdout",
          "text": [
            "Epoch 1/500\n",
            "104/104 [==============================] - 4s 8ms/step - loss: 4.3891 - accuracy: 0.1886 - val_loss: 2.0547 - val_accuracy: 0.2512\n",
            "Epoch 2/500\n",
            "104/104 [==============================] - 1s 6ms/step - loss: 2.7326 - accuracy: 0.1892 - val_loss: 1.7597 - val_accuracy: 0.2367\n",
            "Epoch 3/500\n",
            "104/104 [==============================] - 1s 5ms/step - loss: 2.2902 - accuracy: 0.2001 - val_loss: 1.7534 - val_accuracy: 0.2560\n",
            "Epoch 4/500\n",
            "104/104 [==============================] - 1s 5ms/step - loss: 2.1584 - accuracy: 0.2134 - val_loss: 1.9825 - val_accuracy: 0.2271\n",
            "Epoch 5/500\n",
            "104/104 [==============================] - 1s 8ms/step - loss: 2.0365 - accuracy: 0.2116 - val_loss: 1.6594 - val_accuracy: 0.3623\n",
            "Epoch 6/500\n",
            "104/104 [==============================] - 1s 8ms/step - loss: 1.9414 - accuracy: 0.2328 - val_loss: 1.6803 - val_accuracy: 0.2995\n",
            "Epoch 7/500\n",
            "104/104 [==============================] - 1s 9ms/step - loss: 1.8994 - accuracy: 0.2388 - val_loss: 1.6479 - val_accuracy: 0.2609\n",
            "Epoch 8/500\n",
            "104/104 [==============================] - 1s 8ms/step - loss: 1.8665 - accuracy: 0.2394 - val_loss: 1.6689 - val_accuracy: 0.2850\n",
            "Epoch 9/500\n",
            "104/104 [==============================] - 1s 9ms/step - loss: 1.8539 - accuracy: 0.2364 - val_loss: 1.6541 - val_accuracy: 0.3333\n",
            "Epoch 10/500\n",
            "104/104 [==============================] - 1s 8ms/step - loss: 1.7965 - accuracy: 0.2594 - val_loss: 1.6633 - val_accuracy: 0.2367\n",
            "Epoch 11/500\n",
            "104/104 [==============================] - 1s 8ms/step - loss: 1.7639 - accuracy: 0.2684 - val_loss: 1.6365 - val_accuracy: 0.3140\n",
            "Epoch 12/500\n",
            "104/104 [==============================] - 1s 9ms/step - loss: 1.7618 - accuracy: 0.2672 - val_loss: 1.6152 - val_accuracy: 0.2995\n",
            "Epoch 13/500\n",
            "104/104 [==============================] - 1s 8ms/step - loss: 1.7235 - accuracy: 0.2890 - val_loss: 1.6475 - val_accuracy: 0.2512\n",
            "Epoch 14/500\n",
            "104/104 [==============================] - 1s 8ms/step - loss: 1.6938 - accuracy: 0.2902 - val_loss: 1.6872 - val_accuracy: 0.2464\n",
            "Epoch 15/500\n",
            "104/104 [==============================] - 1s 8ms/step - loss: 1.6831 - accuracy: 0.3053 - val_loss: 1.6099 - val_accuracy: 0.2754\n",
            "Epoch 16/500\n",
            "104/104 [==============================] - 1s 8ms/step - loss: 1.6798 - accuracy: 0.3065 - val_loss: 1.6020 - val_accuracy: 0.3188\n",
            "Epoch 17/500\n",
            "104/104 [==============================] - 1s 8ms/step - loss: 1.6714 - accuracy: 0.3096 - val_loss: 1.5189 - val_accuracy: 0.3430\n",
            "Epoch 18/500\n",
            "104/104 [==============================] - 1s 8ms/step - loss: 1.6573 - accuracy: 0.2860 - val_loss: 1.5283 - val_accuracy: 0.4348\n",
            "Epoch 19/500\n",
            "104/104 [==============================] - 1s 9ms/step - loss: 1.6091 - accuracy: 0.3349 - val_loss: 1.5989 - val_accuracy: 0.3382\n",
            "Epoch 20/500\n",
            "104/104 [==============================] - 1s 10ms/step - loss: 1.5829 - accuracy: 0.3434 - val_loss: 1.5206 - val_accuracy: 0.3816\n",
            "Epoch 21/500\n",
            "104/104 [==============================] - 1s 8ms/step - loss: 1.5649 - accuracy: 0.3591 - val_loss: 1.4784 - val_accuracy: 0.4300\n",
            "Epoch 22/500\n",
            "104/104 [==============================] - 1s 8ms/step - loss: 1.5396 - accuracy: 0.3615 - val_loss: 1.4919 - val_accuracy: 0.3527\n",
            "Epoch 23/500\n",
            "104/104 [==============================] - 1s 9ms/step - loss: 1.5481 - accuracy: 0.3513 - val_loss: 1.5736 - val_accuracy: 0.3285\n",
            "Epoch 24/500\n",
            "104/104 [==============================] - 1s 10ms/step - loss: 1.5156 - accuracy: 0.3779 - val_loss: 1.4430 - val_accuracy: 0.3816\n",
            "Epoch 25/500\n",
            "104/104 [==============================] - 1s 8ms/step - loss: 1.5035 - accuracy: 0.3791 - val_loss: 1.6422 - val_accuracy: 0.3188\n",
            "Epoch 26/500\n",
            "104/104 [==============================] - 1s 10ms/step - loss: 1.4832 - accuracy: 0.3894 - val_loss: 1.3819 - val_accuracy: 0.4831\n",
            "Epoch 27/500\n",
            "104/104 [==============================] - 1s 8ms/step - loss: 1.4732 - accuracy: 0.3857 - val_loss: 1.3790 - val_accuracy: 0.4348\n",
            "Epoch 28/500\n",
            "104/104 [==============================] - 1s 10ms/step - loss: 1.4800 - accuracy: 0.3942 - val_loss: 1.3797 - val_accuracy: 0.4638\n",
            "Epoch 29/500\n",
            "104/104 [==============================] - 1s 9ms/step - loss: 1.4290 - accuracy: 0.4371 - val_loss: 1.3655 - val_accuracy: 0.5362\n",
            "Epoch 30/500\n",
            "104/104 [==============================] - 1s 8ms/step - loss: 1.4255 - accuracy: 0.4051 - val_loss: 1.3387 - val_accuracy: 0.5362\n",
            "Epoch 31/500\n",
            "104/104 [==============================] - 1s 8ms/step - loss: 1.4106 - accuracy: 0.4232 - val_loss: 1.3520 - val_accuracy: 0.4396\n",
            "Epoch 32/500\n",
            "104/104 [==============================] - 1s 8ms/step - loss: 1.3989 - accuracy: 0.4220 - val_loss: 1.3398 - val_accuracy: 0.4638\n",
            "Epoch 33/500\n",
            "104/104 [==============================] - 1s 9ms/step - loss: 1.3560 - accuracy: 0.4541 - val_loss: 1.3662 - val_accuracy: 0.4541\n",
            "Epoch 34/500\n",
            "104/104 [==============================] - 1s 10ms/step - loss: 1.3615 - accuracy: 0.4389 - val_loss: 1.2903 - val_accuracy: 0.4831\n",
            "Epoch 35/500\n",
            "104/104 [==============================] - 1s 8ms/step - loss: 1.3423 - accuracy: 0.4474 - val_loss: 1.3217 - val_accuracy: 0.4928\n",
            "Epoch 36/500\n",
            "104/104 [==============================] - 1s 8ms/step - loss: 1.3584 - accuracy: 0.4547 - val_loss: 1.3006 - val_accuracy: 0.4831\n",
            "Epoch 37/500\n",
            "104/104 [==============================] - 1s 8ms/step - loss: 1.3125 - accuracy: 0.4583 - val_loss: 1.2600 - val_accuracy: 0.5217\n",
            "Epoch 38/500\n",
            "104/104 [==============================] - 1s 7ms/step - loss: 1.2964 - accuracy: 0.4746 - val_loss: 1.2695 - val_accuracy: 0.5266\n",
            "Epoch 39/500\n",
            "104/104 [==============================] - 1s 5ms/step - loss: 1.2953 - accuracy: 0.4692 - val_loss: 1.2827 - val_accuracy: 0.4783\n",
            "Epoch 40/500\n",
            "104/104 [==============================] - 1s 5ms/step - loss: 1.2721 - accuracy: 0.4686 - val_loss: 1.2261 - val_accuracy: 0.5169\n",
            "Epoch 41/500\n",
            "104/104 [==============================] - 1s 5ms/step - loss: 1.2800 - accuracy: 0.4807 - val_loss: 1.2549 - val_accuracy: 0.5072\n",
            "Epoch 42/500\n",
            "104/104 [==============================] - 1s 5ms/step - loss: 1.2135 - accuracy: 0.4873 - val_loss: 1.1956 - val_accuracy: 0.5314\n",
            "Epoch 43/500\n",
            "104/104 [==============================] - 1s 5ms/step - loss: 1.2594 - accuracy: 0.4988 - val_loss: 1.1678 - val_accuracy: 0.5604\n",
            "Epoch 44/500\n",
            "104/104 [==============================] - 1s 5ms/step - loss: 1.2238 - accuracy: 0.5000 - val_loss: 1.2872 - val_accuracy: 0.4541\n",
            "Epoch 45/500\n",
            "104/104 [==============================] - 0s 5ms/step - loss: 1.1846 - accuracy: 0.5242 - val_loss: 1.2562 - val_accuracy: 0.5121\n",
            "Epoch 46/500\n",
            "104/104 [==============================] - 1s 5ms/step - loss: 1.2108 - accuracy: 0.5169 - val_loss: 1.1330 - val_accuracy: 0.5604\n",
            "Epoch 47/500\n",
            "104/104 [==============================] - 1s 5ms/step - loss: 1.1885 - accuracy: 0.5151 - val_loss: 1.1251 - val_accuracy: 0.5507\n",
            "Epoch 48/500\n",
            "104/104 [==============================] - 1s 5ms/step - loss: 1.1819 - accuracy: 0.5079 - val_loss: 1.1107 - val_accuracy: 0.5652\n",
            "Epoch 49/500\n",
            "104/104 [==============================] - 1s 5ms/step - loss: 1.1604 - accuracy: 0.5260 - val_loss: 1.1620 - val_accuracy: 0.5411\n",
            "Epoch 50/500\n",
            "104/104 [==============================] - 1s 7ms/step - loss: 1.1604 - accuracy: 0.5266 - val_loss: 1.1533 - val_accuracy: 0.5700\n",
            "Epoch 51/500\n",
            "104/104 [==============================] - 1s 7ms/step - loss: 1.1524 - accuracy: 0.5405 - val_loss: 1.1491 - val_accuracy: 0.5266\n",
            "Epoch 52/500\n",
            "104/104 [==============================] - 1s 7ms/step - loss: 1.1418 - accuracy: 0.5151 - val_loss: 1.0944 - val_accuracy: 0.5459\n",
            "Epoch 53/500\n",
            "104/104 [==============================] - 1s 7ms/step - loss: 1.1473 - accuracy: 0.5363 - val_loss: 1.0603 - val_accuracy: 0.5942\n",
            "Epoch 54/500\n",
            "104/104 [==============================] - 1s 6ms/step - loss: 1.1182 - accuracy: 0.5514 - val_loss: 1.0636 - val_accuracy: 0.6184\n",
            "Epoch 55/500\n",
            "104/104 [==============================] - 1s 5ms/step - loss: 1.1102 - accuracy: 0.5435 - val_loss: 1.0734 - val_accuracy: 0.5652\n",
            "Epoch 56/500\n",
            "104/104 [==============================] - 1s 5ms/step - loss: 1.0990 - accuracy: 0.5526 - val_loss: 1.0489 - val_accuracy: 0.6087\n",
            "Epoch 57/500\n",
            "104/104 [==============================] - 1s 5ms/step - loss: 1.0878 - accuracy: 0.5671 - val_loss: 1.0585 - val_accuracy: 0.6232\n",
            "Epoch 58/500\n",
            "104/104 [==============================] - 0s 5ms/step - loss: 1.0975 - accuracy: 0.5586 - val_loss: 1.0915 - val_accuracy: 0.5314\n",
            "Epoch 59/500\n",
            "104/104 [==============================] - 1s 5ms/step - loss: 1.0700 - accuracy: 0.5653 - val_loss: 1.1160 - val_accuracy: 0.5217\n",
            "Epoch 60/500\n",
            "104/104 [==============================] - 1s 5ms/step - loss: 1.0946 - accuracy: 0.5459 - val_loss: 1.1206 - val_accuracy: 0.6039\n",
            "Epoch 61/500\n",
            "104/104 [==============================] - 1s 5ms/step - loss: 1.0612 - accuracy: 0.5828 - val_loss: 1.0322 - val_accuracy: 0.6087\n",
            "Epoch 62/500\n",
            "104/104 [==============================] - 1s 5ms/step - loss: 1.0298 - accuracy: 0.5828 - val_loss: 1.0855 - val_accuracy: 0.5700\n",
            "Epoch 63/500\n",
            "104/104 [==============================] - 1s 5ms/step - loss: 1.0681 - accuracy: 0.5683 - val_loss: 1.0261 - val_accuracy: 0.6087\n",
            "Epoch 64/500\n",
            "104/104 [==============================] - 1s 5ms/step - loss: 1.0412 - accuracy: 0.5732 - val_loss: 1.0232 - val_accuracy: 0.5652\n",
            "Epoch 65/500\n",
            "104/104 [==============================] - 1s 5ms/step - loss: 1.0348 - accuracy: 0.5859 - val_loss: 0.9885 - val_accuracy: 0.6232\n",
            "Epoch 66/500\n",
            "104/104 [==============================] - 1s 5ms/step - loss: 1.0151 - accuracy: 0.5895 - val_loss: 0.9970 - val_accuracy: 0.6280\n",
            "Epoch 67/500\n",
            "104/104 [==============================] - 1s 5ms/step - loss: 1.0096 - accuracy: 0.5961 - val_loss: 1.0890 - val_accuracy: 0.5749\n",
            "Epoch 68/500\n",
            "104/104 [==============================] - 1s 5ms/step - loss: 0.9877 - accuracy: 0.6064 - val_loss: 0.9760 - val_accuracy: 0.6135\n",
            "Epoch 69/500\n",
            "104/104 [==============================] - 1s 5ms/step - loss: 0.9908 - accuracy: 0.6004 - val_loss: 0.9851 - val_accuracy: 0.6184\n",
            "Epoch 70/500\n",
            "104/104 [==============================] - 0s 5ms/step - loss: 1.0140 - accuracy: 0.5852 - val_loss: 1.0869 - val_accuracy: 0.5604\n",
            "Epoch 71/500\n",
            "104/104 [==============================] - 1s 5ms/step - loss: 1.0085 - accuracy: 0.5804 - val_loss: 1.0003 - val_accuracy: 0.6135\n",
            "Epoch 72/500\n",
            "104/104 [==============================] - 1s 5ms/step - loss: 0.9810 - accuracy: 0.6119 - val_loss: 1.0201 - val_accuracy: 0.5749\n",
            "Epoch 73/500\n",
            "104/104 [==============================] - 1s 5ms/step - loss: 0.9629 - accuracy: 0.6227 - val_loss: 1.0095 - val_accuracy: 0.5894\n",
            "Epoch 74/500\n",
            "104/104 [==============================] - 0s 5ms/step - loss: 0.9747 - accuracy: 0.6052 - val_loss: 0.9781 - val_accuracy: 0.5942\n",
            "Epoch 75/500\n",
            "104/104 [==============================] - 1s 5ms/step - loss: 0.9734 - accuracy: 0.6076 - val_loss: 0.9338 - val_accuracy: 0.6667\n",
            "Epoch 76/500\n",
            "104/104 [==============================] - 1s 5ms/step - loss: 0.9497 - accuracy: 0.6149 - val_loss: 0.9428 - val_accuracy: 0.6425\n",
            "Epoch 77/500\n",
            "104/104 [==============================] - 1s 5ms/step - loss: 0.9436 - accuracy: 0.6409 - val_loss: 0.9547 - val_accuracy: 0.6280\n",
            "Epoch 78/500\n",
            "104/104 [==============================] - 1s 5ms/step - loss: 0.9416 - accuracy: 0.6312 - val_loss: 0.9702 - val_accuracy: 0.6232\n",
            "Epoch 79/500\n",
            "104/104 [==============================] - 0s 5ms/step - loss: 0.9235 - accuracy: 0.6330 - val_loss: 0.9432 - val_accuracy: 0.6232\n",
            "Epoch 80/500\n",
            "104/104 [==============================] - 1s 5ms/step - loss: 0.9323 - accuracy: 0.6270 - val_loss: 0.9144 - val_accuracy: 0.6522\n",
            "Epoch 81/500\n",
            "104/104 [==============================] - 1s 5ms/step - loss: 0.9197 - accuracy: 0.6221 - val_loss: 0.9287 - val_accuracy: 0.6522\n",
            "Epoch 82/500\n",
            "104/104 [==============================] - 0s 5ms/step - loss: 0.9138 - accuracy: 0.6366 - val_loss: 0.9235 - val_accuracy: 0.6667\n",
            "Epoch 83/500\n",
            "104/104 [==============================] - 1s 5ms/step - loss: 0.9003 - accuracy: 0.6372 - val_loss: 0.9475 - val_accuracy: 0.6329\n",
            "Epoch 84/500\n",
            "104/104 [==============================] - 1s 5ms/step - loss: 0.9014 - accuracy: 0.6403 - val_loss: 0.8816 - val_accuracy: 0.6618\n",
            "Epoch 85/500\n",
            "104/104 [==============================] - 1s 5ms/step - loss: 0.9029 - accuracy: 0.6481 - val_loss: 0.9166 - val_accuracy: 0.6425\n",
            "Epoch 86/500\n",
            "104/104 [==============================] - 1s 5ms/step - loss: 0.8760 - accuracy: 0.6409 - val_loss: 0.9076 - val_accuracy: 0.6329\n",
            "Epoch 87/500\n",
            "104/104 [==============================] - 1s 5ms/step - loss: 0.8783 - accuracy: 0.6403 - val_loss: 0.9529 - val_accuracy: 0.6135\n",
            "Epoch 88/500\n",
            "104/104 [==============================] - 1s 5ms/step - loss: 0.8738 - accuracy: 0.6475 - val_loss: 0.9121 - val_accuracy: 0.6473\n",
            "Epoch 89/500\n",
            "104/104 [==============================] - 1s 5ms/step - loss: 0.8663 - accuracy: 0.6554 - val_loss: 0.9485 - val_accuracy: 0.6329\n",
            "Epoch 90/500\n",
            "104/104 [==============================] - 0s 5ms/step - loss: 0.8433 - accuracy: 0.6602 - val_loss: 0.8886 - val_accuracy: 0.6522\n",
            "Epoch 91/500\n",
            "104/104 [==============================] - 1s 5ms/step - loss: 0.8689 - accuracy: 0.6644 - val_loss: 0.9088 - val_accuracy: 0.6087\n",
            "Epoch 92/500\n",
            "104/104 [==============================] - 1s 5ms/step - loss: 0.8508 - accuracy: 0.6644 - val_loss: 0.8846 - val_accuracy: 0.6860\n",
            "Epoch 93/500\n",
            "104/104 [==============================] - 1s 5ms/step - loss: 0.8798 - accuracy: 0.6391 - val_loss: 0.8882 - val_accuracy: 0.6473\n",
            "Epoch 94/500\n",
            "104/104 [==============================] - 1s 5ms/step - loss: 0.8549 - accuracy: 0.6572 - val_loss: 0.8720 - val_accuracy: 0.6957\n",
            "Epoch 95/500\n",
            "104/104 [==============================] - 1s 5ms/step - loss: 0.8414 - accuracy: 0.6657 - val_loss: 0.8642 - val_accuracy: 0.6473\n",
            "Epoch 96/500\n",
            "104/104 [==============================] - 1s 5ms/step - loss: 0.8314 - accuracy: 0.6681 - val_loss: 0.8696 - val_accuracy: 0.6425\n",
            "Epoch 97/500\n",
            "104/104 [==============================] - 1s 5ms/step - loss: 0.8423 - accuracy: 0.6693 - val_loss: 0.9696 - val_accuracy: 0.6087\n",
            "Epoch 98/500\n",
            "104/104 [==============================] - 1s 5ms/step - loss: 0.8357 - accuracy: 0.6765 - val_loss: 0.9089 - val_accuracy: 0.6377\n",
            "Epoch 99/500\n",
            "104/104 [==============================] - 1s 5ms/step - loss: 0.8055 - accuracy: 0.6790 - val_loss: 0.9001 - val_accuracy: 0.6570\n",
            "Epoch 100/500\n",
            "104/104 [==============================] - 1s 5ms/step - loss: 0.8154 - accuracy: 0.6705 - val_loss: 0.8440 - val_accuracy: 0.6522\n",
            "Epoch 101/500\n",
            "104/104 [==============================] - 1s 5ms/step - loss: 0.8102 - accuracy: 0.6771 - val_loss: 0.8701 - val_accuracy: 0.6667\n",
            "Epoch 102/500\n",
            "104/104 [==============================] - 1s 5ms/step - loss: 0.8121 - accuracy: 0.6693 - val_loss: 0.8459 - val_accuracy: 0.6860\n",
            "Epoch 103/500\n",
            "104/104 [==============================] - 1s 5ms/step - loss: 0.8029 - accuracy: 0.6820 - val_loss: 0.8518 - val_accuracy: 0.6425\n",
            "Epoch 104/500\n",
            "104/104 [==============================] - 1s 5ms/step - loss: 0.7939 - accuracy: 0.6886 - val_loss: 0.8838 - val_accuracy: 0.6667\n",
            "Epoch 105/500\n",
            "104/104 [==============================] - 1s 5ms/step - loss: 0.7905 - accuracy: 0.6778 - val_loss: 0.9194 - val_accuracy: 0.6280\n",
            "Epoch 106/500\n",
            "104/104 [==============================] - 1s 5ms/step - loss: 0.8177 - accuracy: 0.6711 - val_loss: 0.8708 - val_accuracy: 0.6715\n",
            "Epoch 107/500\n",
            "104/104 [==============================] - 1s 5ms/step - loss: 0.7803 - accuracy: 0.6844 - val_loss: 0.8484 - val_accuracy: 0.6860\n",
            "Epoch 108/500\n",
            "104/104 [==============================] - 1s 5ms/step - loss: 0.7856 - accuracy: 0.6790 - val_loss: 0.8513 - val_accuracy: 0.6908\n",
            "Epoch 109/500\n",
            "104/104 [==============================] - 0s 5ms/step - loss: 0.7645 - accuracy: 0.6983 - val_loss: 0.8499 - val_accuracy: 0.6812\n",
            "Epoch 110/500\n",
            "104/104 [==============================] - 1s 5ms/step - loss: 0.7739 - accuracy: 0.6923 - val_loss: 0.8911 - val_accuracy: 0.6377\n",
            "Epoch 111/500\n",
            "104/104 [==============================] - 1s 5ms/step - loss: 0.7708 - accuracy: 0.6917 - val_loss: 0.8736 - val_accuracy: 0.6184\n",
            "Epoch 112/500\n",
            "104/104 [==============================] - 1s 5ms/step - loss: 0.7441 - accuracy: 0.7134 - val_loss: 0.8371 - val_accuracy: 0.6812\n",
            "Epoch 113/500\n",
            "104/104 [==============================] - 1s 5ms/step - loss: 0.7569 - accuracy: 0.6947 - val_loss: 0.8127 - val_accuracy: 0.7101\n",
            "Epoch 114/500\n",
            "104/104 [==============================] - 0s 5ms/step - loss: 0.7373 - accuracy: 0.7050 - val_loss: 0.8074 - val_accuracy: 0.6715\n",
            "Epoch 115/500\n",
            "104/104 [==============================] - 1s 5ms/step - loss: 0.7383 - accuracy: 0.7092 - val_loss: 0.8463 - val_accuracy: 0.6522\n",
            "Epoch 116/500\n",
            "104/104 [==============================] - 1s 5ms/step - loss: 0.7154 - accuracy: 0.7158 - val_loss: 0.8448 - val_accuracy: 0.6522\n",
            "Epoch 117/500\n",
            "104/104 [==============================] - 1s 5ms/step - loss: 0.7553 - accuracy: 0.7007 - val_loss: 0.8131 - val_accuracy: 0.6908\n",
            "Epoch 118/500\n",
            "104/104 [==============================] - 1s 5ms/step - loss: 0.7257 - accuracy: 0.7104 - val_loss: 0.8252 - val_accuracy: 0.6763\n",
            "Epoch 119/500\n",
            "104/104 [==============================] - 1s 5ms/step - loss: 0.7456 - accuracy: 0.7134 - val_loss: 0.8324 - val_accuracy: 0.6812\n",
            "Epoch 120/500\n",
            "104/104 [==============================] - 1s 5ms/step - loss: 0.7242 - accuracy: 0.7116 - val_loss: 0.8303 - val_accuracy: 0.6715\n",
            "Epoch 121/500\n",
            "104/104 [==============================] - 1s 5ms/step - loss: 0.7102 - accuracy: 0.7261 - val_loss: 0.7905 - val_accuracy: 0.7053\n",
            "Epoch 122/500\n",
            "104/104 [==============================] - 1s 5ms/step - loss: 0.7319 - accuracy: 0.7158 - val_loss: 0.8546 - val_accuracy: 0.6667\n",
            "Epoch 123/500\n",
            "104/104 [==============================] - 1s 5ms/step - loss: 0.7158 - accuracy: 0.7104 - val_loss: 0.7900 - val_accuracy: 0.7101\n",
            "Epoch 124/500\n",
            "104/104 [==============================] - 1s 5ms/step - loss: 0.7209 - accuracy: 0.7104 - val_loss: 0.7776 - val_accuracy: 0.6957\n",
            "Epoch 125/500\n",
            "104/104 [==============================] - 1s 5ms/step - loss: 0.7128 - accuracy: 0.7170 - val_loss: 0.7759 - val_accuracy: 0.7295\n",
            "Epoch 126/500\n",
            "104/104 [==============================] - 1s 5ms/step - loss: 0.6861 - accuracy: 0.7304 - val_loss: 0.7855 - val_accuracy: 0.7005\n",
            "Epoch 127/500\n",
            "104/104 [==============================] - 1s 5ms/step - loss: 0.6979 - accuracy: 0.7310 - val_loss: 0.7684 - val_accuracy: 0.6957\n",
            "Epoch 128/500\n",
            "104/104 [==============================] - 1s 5ms/step - loss: 0.6838 - accuracy: 0.7304 - val_loss: 0.7924 - val_accuracy: 0.7005\n",
            "Epoch 129/500\n",
            "104/104 [==============================] - 1s 5ms/step - loss: 0.6918 - accuracy: 0.7225 - val_loss: 0.7993 - val_accuracy: 0.6763\n",
            "Epoch 130/500\n",
            "104/104 [==============================] - 0s 5ms/step - loss: 0.7115 - accuracy: 0.7122 - val_loss: 0.8322 - val_accuracy: 0.6473\n",
            "Epoch 131/500\n",
            "104/104 [==============================] - 1s 5ms/step - loss: 0.6705 - accuracy: 0.7364 - val_loss: 0.7798 - val_accuracy: 0.7101\n",
            "Epoch 132/500\n",
            "104/104 [==============================] - 1s 5ms/step - loss: 0.6872 - accuracy: 0.7279 - val_loss: 0.8154 - val_accuracy: 0.6715\n",
            "Epoch 133/500\n",
            "104/104 [==============================] - 1s 5ms/step - loss: 0.6823 - accuracy: 0.7328 - val_loss: 0.7912 - val_accuracy: 0.6763\n",
            "Epoch 134/500\n",
            "104/104 [==============================] - 1s 5ms/step - loss: 0.6743 - accuracy: 0.7316 - val_loss: 0.7739 - val_accuracy: 0.6812\n",
            "Epoch 135/500\n",
            "104/104 [==============================] - 1s 5ms/step - loss: 0.6836 - accuracy: 0.7279 - val_loss: 0.7900 - val_accuracy: 0.6908\n",
            "Epoch 136/500\n",
            "104/104 [==============================] - 1s 5ms/step - loss: 0.6521 - accuracy: 0.7388 - val_loss: 0.7507 - val_accuracy: 0.7053\n",
            "Epoch 137/500\n",
            "104/104 [==============================] - 0s 5ms/step - loss: 0.6413 - accuracy: 0.7533 - val_loss: 0.8349 - val_accuracy: 0.6522\n",
            "Epoch 138/500\n",
            "104/104 [==============================] - 1s 5ms/step - loss: 0.6571 - accuracy: 0.7334 - val_loss: 0.7769 - val_accuracy: 0.7053\n",
            "Epoch 139/500\n",
            "104/104 [==============================] - 1s 5ms/step - loss: 0.6624 - accuracy: 0.7443 - val_loss: 0.7776 - val_accuracy: 0.6618\n",
            "Epoch 140/500\n",
            "104/104 [==============================] - 1s 5ms/step - loss: 0.6249 - accuracy: 0.7624 - val_loss: 0.7692 - val_accuracy: 0.6715\n",
            "Epoch 141/500\n",
            "104/104 [==============================] - 1s 5ms/step - loss: 0.6497 - accuracy: 0.7527 - val_loss: 0.7761 - val_accuracy: 0.6667\n",
            "Epoch 142/500\n",
            "104/104 [==============================] - 1s 5ms/step - loss: 0.6539 - accuracy: 0.7430 - val_loss: 0.7713 - val_accuracy: 0.6812\n",
            "Epoch 143/500\n",
            "104/104 [==============================] - 1s 8ms/step - loss: 0.6200 - accuracy: 0.7612 - val_loss: 0.7685 - val_accuracy: 0.7053\n",
            "Epoch 144/500\n",
            "104/104 [==============================] - 1s 8ms/step - loss: 0.6253 - accuracy: 0.7600 - val_loss: 0.7601 - val_accuracy: 0.7295\n",
            "Epoch 145/500\n",
            "104/104 [==============================] - 1s 7ms/step - loss: 0.6192 - accuracy: 0.7515 - val_loss: 0.7463 - val_accuracy: 0.7101\n",
            "Epoch 146/500\n",
            "104/104 [==============================] - 1s 9ms/step - loss: 0.6302 - accuracy: 0.7576 - val_loss: 0.8200 - val_accuracy: 0.6860\n",
            "Epoch 147/500\n",
            "104/104 [==============================] - 1s 7ms/step - loss: 0.6195 - accuracy: 0.7654 - val_loss: 0.8151 - val_accuracy: 0.6329\n",
            "Epoch 148/500\n",
            "104/104 [==============================] - 1s 9ms/step - loss: 0.6458 - accuracy: 0.7449 - val_loss: 0.8119 - val_accuracy: 0.6473\n",
            "Epoch 149/500\n",
            "104/104 [==============================] - 1s 5ms/step - loss: 0.6251 - accuracy: 0.7612 - val_loss: 0.7576 - val_accuracy: 0.7005\n",
            "Epoch 150/500\n",
            "104/104 [==============================] - 1s 5ms/step - loss: 0.6121 - accuracy: 0.7563 - val_loss: 0.7646 - val_accuracy: 0.7343\n",
            "Epoch 151/500\n",
            "104/104 [==============================] - 1s 5ms/step - loss: 0.6143 - accuracy: 0.7672 - val_loss: 0.7366 - val_accuracy: 0.7005\n",
            "Epoch 152/500\n",
            "104/104 [==============================] - 1s 5ms/step - loss: 0.6158 - accuracy: 0.7588 - val_loss: 0.7764 - val_accuracy: 0.7053\n",
            "Epoch 153/500\n",
            "104/104 [==============================] - 1s 5ms/step - loss: 0.6038 - accuracy: 0.7582 - val_loss: 0.7062 - val_accuracy: 0.7536\n",
            "Epoch 154/500\n",
            "104/104 [==============================] - 1s 5ms/step - loss: 0.6093 - accuracy: 0.7630 - val_loss: 0.8054 - val_accuracy: 0.6522\n",
            "Epoch 155/500\n",
            "104/104 [==============================] - 1s 5ms/step - loss: 0.6111 - accuracy: 0.7696 - val_loss: 0.7761 - val_accuracy: 0.6522\n",
            "Epoch 156/500\n",
            "104/104 [==============================] - 1s 5ms/step - loss: 0.6096 - accuracy: 0.7624 - val_loss: 0.7628 - val_accuracy: 0.7295\n",
            "Epoch 157/500\n",
            "104/104 [==============================] - 1s 5ms/step - loss: 0.5788 - accuracy: 0.7763 - val_loss: 0.7417 - val_accuracy: 0.6908\n",
            "Epoch 158/500\n",
            "104/104 [==============================] - 1s 5ms/step - loss: 0.6076 - accuracy: 0.7624 - val_loss: 0.7681 - val_accuracy: 0.6860\n",
            "Epoch 159/500\n",
            "104/104 [==============================] - 1s 5ms/step - loss: 0.6098 - accuracy: 0.7648 - val_loss: 0.7757 - val_accuracy: 0.6812\n",
            "Epoch 160/500\n",
            "104/104 [==============================] - 1s 5ms/step - loss: 0.5894 - accuracy: 0.7660 - val_loss: 0.7293 - val_accuracy: 0.7295\n",
            "Epoch 161/500\n",
            "104/104 [==============================] - 1s 5ms/step - loss: 0.5566 - accuracy: 0.7763 - val_loss: 0.7875 - val_accuracy: 0.6715\n",
            "Epoch 162/500\n",
            "104/104 [==============================] - 1s 5ms/step - loss: 0.5677 - accuracy: 0.7830 - val_loss: 0.7729 - val_accuracy: 0.6860\n",
            "Epoch 163/500\n",
            "104/104 [==============================] - 1s 5ms/step - loss: 0.5691 - accuracy: 0.7842 - val_loss: 0.7270 - val_accuracy: 0.7246\n",
            "Epoch 164/500\n",
            "104/104 [==============================] - 1s 5ms/step - loss: 0.5630 - accuracy: 0.7733 - val_loss: 0.7170 - val_accuracy: 0.7053\n",
            "Epoch 165/500\n",
            "104/104 [==============================] - 1s 5ms/step - loss: 0.5701 - accuracy: 0.7787 - val_loss: 0.7051 - val_accuracy: 0.7440\n",
            "Epoch 166/500\n",
            "104/104 [==============================] - 1s 5ms/step - loss: 0.5699 - accuracy: 0.7739 - val_loss: 0.6921 - val_accuracy: 0.7488\n",
            "Epoch 167/500\n",
            "104/104 [==============================] - 1s 5ms/step - loss: 0.5345 - accuracy: 0.7969 - val_loss: 0.6935 - val_accuracy: 0.7150\n",
            "Epoch 168/500\n",
            "104/104 [==============================] - 1s 5ms/step - loss: 0.5247 - accuracy: 0.7981 - val_loss: 0.7601 - val_accuracy: 0.6860\n",
            "Epoch 169/500\n",
            "104/104 [==============================] - 1s 5ms/step - loss: 0.5490 - accuracy: 0.7830 - val_loss: 0.7338 - val_accuracy: 0.7101\n",
            "Epoch 170/500\n",
            "104/104 [==============================] - 1s 5ms/step - loss: 0.5606 - accuracy: 0.7799 - val_loss: 0.6856 - val_accuracy: 0.7391\n",
            "Epoch 171/500\n",
            "104/104 [==============================] - 1s 5ms/step - loss: 0.5245 - accuracy: 0.8035 - val_loss: 0.7002 - val_accuracy: 0.7343\n",
            "Epoch 172/500\n",
            "104/104 [==============================] - 1s 5ms/step - loss: 0.5626 - accuracy: 0.7745 - val_loss: 0.7246 - val_accuracy: 0.7246\n",
            "Epoch 173/500\n",
            "104/104 [==============================] - 1s 5ms/step - loss: 0.5300 - accuracy: 0.7987 - val_loss: 0.7436 - val_accuracy: 0.6957\n",
            "Epoch 174/500\n",
            "104/104 [==============================] - 1s 5ms/step - loss: 0.5595 - accuracy: 0.7920 - val_loss: 0.7612 - val_accuracy: 0.7101\n",
            "Epoch 175/500\n",
            "104/104 [==============================] - 1s 5ms/step - loss: 0.5080 - accuracy: 0.8089 - val_loss: 0.6893 - val_accuracy: 0.7440\n",
            "Epoch 176/500\n",
            "104/104 [==============================] - 1s 5ms/step - loss: 0.5564 - accuracy: 0.7908 - val_loss: 0.7817 - val_accuracy: 0.6715\n",
            "Epoch 177/500\n",
            "104/104 [==============================] - 1s 5ms/step - loss: 0.5352 - accuracy: 0.7914 - val_loss: 0.7072 - val_accuracy: 0.7101\n",
            "Epoch 178/500\n",
            "104/104 [==============================] - 1s 5ms/step - loss: 0.5431 - accuracy: 0.8047 - val_loss: 0.7398 - val_accuracy: 0.6957\n",
            "Epoch 179/500\n",
            "104/104 [==============================] - 1s 5ms/step - loss: 0.5226 - accuracy: 0.7944 - val_loss: 0.7370 - val_accuracy: 0.7150\n",
            "Epoch 180/500\n",
            "104/104 [==============================] - 1s 5ms/step - loss: 0.5268 - accuracy: 0.7914 - val_loss: 0.7932 - val_accuracy: 0.6715\n",
            "Epoch 181/500\n",
            "104/104 [==============================] - 1s 5ms/step - loss: 0.5200 - accuracy: 0.8041 - val_loss: 0.7251 - val_accuracy: 0.7488\n",
            "Epoch 182/500\n",
            "104/104 [==============================] - 1s 5ms/step - loss: 0.5302 - accuracy: 0.7938 - val_loss: 0.7243 - val_accuracy: 0.7198\n",
            "Epoch 183/500\n",
            "104/104 [==============================] - 1s 5ms/step - loss: 0.5157 - accuracy: 0.8005 - val_loss: 0.7836 - val_accuracy: 0.7150\n",
            "Epoch 184/500\n",
            "104/104 [==============================] - 1s 5ms/step - loss: 0.5302 - accuracy: 0.7987 - val_loss: 0.7082 - val_accuracy: 0.7343\n",
            "Epoch 185/500\n",
            "104/104 [==============================] - 1s 5ms/step - loss: 0.4972 - accuracy: 0.8071 - val_loss: 0.7411 - val_accuracy: 0.7198\n",
            "Epoch 186/500\n",
            "104/104 [==============================] - 1s 5ms/step - loss: 0.4937 - accuracy: 0.8089 - val_loss: 0.6892 - val_accuracy: 0.7343\n",
            "Epoch 187/500\n",
            "104/104 [==============================] - 1s 5ms/step - loss: 0.5089 - accuracy: 0.8071 - val_loss: 0.6811 - val_accuracy: 0.7150\n",
            "Epoch 188/500\n",
            "104/104 [==============================] - 1s 5ms/step - loss: 0.4961 - accuracy: 0.8077 - val_loss: 0.6963 - val_accuracy: 0.7150\n",
            "Epoch 189/500\n",
            "104/104 [==============================] - 1s 5ms/step - loss: 0.4833 - accuracy: 0.8180 - val_loss: 0.6931 - val_accuracy: 0.7440\n",
            "Epoch 190/500\n",
            "104/104 [==============================] - 1s 5ms/step - loss: 0.4887 - accuracy: 0.8150 - val_loss: 0.6929 - val_accuracy: 0.7295\n",
            "Epoch 191/500\n",
            "104/104 [==============================] - 1s 5ms/step - loss: 0.4777 - accuracy: 0.8253 - val_loss: 0.7239 - val_accuracy: 0.7101\n",
            "Epoch 192/500\n",
            "104/104 [==============================] - 1s 5ms/step - loss: 0.4739 - accuracy: 0.8216 - val_loss: 0.7548 - val_accuracy: 0.6860\n",
            "Epoch 193/500\n",
            "104/104 [==============================] - 1s 5ms/step - loss: 0.5019 - accuracy: 0.8089 - val_loss: 0.6705 - val_accuracy: 0.7488\n",
            "Epoch 194/500\n",
            "104/104 [==============================] - 1s 5ms/step - loss: 0.4974 - accuracy: 0.8108 - val_loss: 0.6786 - val_accuracy: 0.7488\n",
            "Epoch 195/500\n",
            "104/104 [==============================] - 1s 5ms/step - loss: 0.4744 - accuracy: 0.8192 - val_loss: 0.6835 - val_accuracy: 0.7101\n",
            "Epoch 196/500\n",
            "104/104 [==============================] - 1s 5ms/step - loss: 0.4740 - accuracy: 0.8253 - val_loss: 0.6544 - val_accuracy: 0.7343\n",
            "Epoch 197/500\n",
            "104/104 [==============================] - 1s 5ms/step - loss: 0.4832 - accuracy: 0.8053 - val_loss: 0.7291 - val_accuracy: 0.7246\n",
            "Epoch 198/500\n",
            "104/104 [==============================] - 1s 5ms/step - loss: 0.4505 - accuracy: 0.8271 - val_loss: 0.8746 - val_accuracy: 0.6667\n",
            "Epoch 199/500\n",
            "104/104 [==============================] - 1s 5ms/step - loss: 0.4824 - accuracy: 0.8174 - val_loss: 0.7937 - val_accuracy: 0.7053\n",
            "Epoch 200/500\n",
            "104/104 [==============================] - 1s 5ms/step - loss: 0.4752 - accuracy: 0.8259 - val_loss: 0.7020 - val_accuracy: 0.7101\n",
            "Epoch 201/500\n",
            "104/104 [==============================] - 1s 5ms/step - loss: 0.4504 - accuracy: 0.8235 - val_loss: 0.6999 - val_accuracy: 0.7198\n",
            "Epoch 202/500\n",
            "104/104 [==============================] - 1s 5ms/step - loss: 0.4594 - accuracy: 0.8144 - val_loss: 0.7436 - val_accuracy: 0.7198\n",
            "Epoch 203/500\n",
            "104/104 [==============================] - 1s 5ms/step - loss: 0.4694 - accuracy: 0.8174 - val_loss: 0.6948 - val_accuracy: 0.7391\n",
            "Epoch 204/500\n",
            "104/104 [==============================] - 1s 5ms/step - loss: 0.4600 - accuracy: 0.8307 - val_loss: 0.6815 - val_accuracy: 0.7585\n",
            "Epoch 205/500\n",
            "104/104 [==============================] - 1s 5ms/step - loss: 0.4434 - accuracy: 0.8295 - val_loss: 0.7143 - val_accuracy: 0.7488\n",
            "Epoch 206/500\n",
            "104/104 [==============================] - 1s 5ms/step - loss: 0.4484 - accuracy: 0.8343 - val_loss: 0.6805 - val_accuracy: 0.7343\n",
            "Epoch 207/500\n",
            "104/104 [==============================] - 1s 5ms/step - loss: 0.4425 - accuracy: 0.8331 - val_loss: 0.6900 - val_accuracy: 0.7246\n",
            "Epoch 208/500\n",
            "104/104 [==============================] - 1s 5ms/step - loss: 0.4346 - accuracy: 0.8301 - val_loss: 0.7316 - val_accuracy: 0.7198\n",
            "Epoch 209/500\n",
            "104/104 [==============================] - 1s 5ms/step - loss: 0.4616 - accuracy: 0.8362 - val_loss: 0.7170 - val_accuracy: 0.7343\n",
            "Epoch 210/500\n",
            "104/104 [==============================] - 1s 5ms/step - loss: 0.4220 - accuracy: 0.8362 - val_loss: 0.7571 - val_accuracy: 0.7295\n",
            "Epoch 211/500\n",
            "104/104 [==============================] - 1s 5ms/step - loss: 0.4650 - accuracy: 0.8229 - val_loss: 0.7674 - val_accuracy: 0.7198\n",
            "Epoch 212/500\n",
            "104/104 [==============================] - 1s 5ms/step - loss: 0.4303 - accuracy: 0.8265 - val_loss: 0.6872 - val_accuracy: 0.7536\n",
            "Epoch 213/500\n",
            "104/104 [==============================] - 1s 5ms/step - loss: 0.4451 - accuracy: 0.8319 - val_loss: 0.6832 - val_accuracy: 0.7101\n",
            "Epoch 214/500\n",
            "104/104 [==============================] - 1s 5ms/step - loss: 0.4324 - accuracy: 0.8259 - val_loss: 0.7381 - val_accuracy: 0.6860\n",
            "Epoch 215/500\n",
            "104/104 [==============================] - 1s 5ms/step - loss: 0.4040 - accuracy: 0.8392 - val_loss: 0.6986 - val_accuracy: 0.7343\n",
            "Epoch 216/500\n",
            "104/104 [==============================] - 1s 5ms/step - loss: 0.4422 - accuracy: 0.8307 - val_loss: 0.7276 - val_accuracy: 0.6957\n",
            "Epoch 217/500\n",
            "104/104 [==============================] - 1s 5ms/step - loss: 0.4189 - accuracy: 0.8362 - val_loss: 0.7643 - val_accuracy: 0.6812\n",
            "Epoch 218/500\n",
            "104/104 [==============================] - 1s 5ms/step - loss: 0.4334 - accuracy: 0.8362 - val_loss: 0.6447 - val_accuracy: 0.7778\n",
            "Epoch 219/500\n",
            "104/104 [==============================] - 1s 5ms/step - loss: 0.4219 - accuracy: 0.8368 - val_loss: 0.6827 - val_accuracy: 0.7295\n",
            "Epoch 220/500\n",
            "104/104 [==============================] - 1s 5ms/step - loss: 0.4125 - accuracy: 0.8368 - val_loss: 0.7607 - val_accuracy: 0.7150\n",
            "Epoch 221/500\n",
            "104/104 [==============================] - 1s 5ms/step - loss: 0.4065 - accuracy: 0.8404 - val_loss: 0.6558 - val_accuracy: 0.7198\n",
            "Epoch 222/500\n",
            "104/104 [==============================] - 1s 5ms/step - loss: 0.4175 - accuracy: 0.8398 - val_loss: 0.6815 - val_accuracy: 0.7295\n",
            "Epoch 223/500\n",
            "104/104 [==============================] - 1s 5ms/step - loss: 0.4281 - accuracy: 0.8464 - val_loss: 0.6395 - val_accuracy: 0.8019\n",
            "Epoch 224/500\n",
            "104/104 [==============================] - 1s 5ms/step - loss: 0.4002 - accuracy: 0.8519 - val_loss: 0.6745 - val_accuracy: 0.7391\n",
            "Epoch 225/500\n",
            "104/104 [==============================] - 1s 6ms/step - loss: 0.3924 - accuracy: 0.8513 - val_loss: 0.7093 - val_accuracy: 0.7198\n",
            "Epoch 226/500\n",
            "104/104 [==============================] - 1s 5ms/step - loss: 0.3848 - accuracy: 0.8561 - val_loss: 0.6767 - val_accuracy: 0.7198\n",
            "Epoch 227/500\n",
            "104/104 [==============================] - 1s 5ms/step - loss: 0.3905 - accuracy: 0.8440 - val_loss: 0.7172 - val_accuracy: 0.7246\n",
            "Epoch 228/500\n",
            "104/104 [==============================] - 1s 6ms/step - loss: 0.3777 - accuracy: 0.8567 - val_loss: 0.8284 - val_accuracy: 0.6618\n",
            "Epoch 229/500\n",
            "104/104 [==============================] - 1s 5ms/step - loss: 0.4076 - accuracy: 0.8585 - val_loss: 0.6574 - val_accuracy: 0.7729\n",
            "Epoch 230/500\n",
            "104/104 [==============================] - 1s 5ms/step - loss: 0.3805 - accuracy: 0.8567 - val_loss: 0.7479 - val_accuracy: 0.7633\n",
            "Epoch 231/500\n",
            "104/104 [==============================] - 1s 5ms/step - loss: 0.3826 - accuracy: 0.8543 - val_loss: 0.7169 - val_accuracy: 0.6908\n",
            "Epoch 232/500\n",
            "104/104 [==============================] - 1s 5ms/step - loss: 0.4026 - accuracy: 0.8561 - val_loss: 0.6817 - val_accuracy: 0.7198\n",
            "Epoch 233/500\n",
            "104/104 [==============================] - 1s 6ms/step - loss: 0.3888 - accuracy: 0.8525 - val_loss: 0.6876 - val_accuracy: 0.7246\n",
            "Epoch 234/500\n",
            "104/104 [==============================] - 1s 5ms/step - loss: 0.3937 - accuracy: 0.8567 - val_loss: 0.7307 - val_accuracy: 0.7053\n",
            "Epoch 235/500\n",
            "104/104 [==============================] - 1s 5ms/step - loss: 0.3848 - accuracy: 0.8555 - val_loss: 0.6817 - val_accuracy: 0.7536\n",
            "Epoch 236/500\n",
            "104/104 [==============================] - 1s 5ms/step - loss: 0.3750 - accuracy: 0.8495 - val_loss: 0.6871 - val_accuracy: 0.7246\n",
            "Epoch 237/500\n",
            "104/104 [==============================] - 1s 5ms/step - loss: 0.3897 - accuracy: 0.8591 - val_loss: 0.6900 - val_accuracy: 0.7440\n",
            "Epoch 238/500\n",
            "104/104 [==============================] - 1s 6ms/step - loss: 0.3908 - accuracy: 0.8464 - val_loss: 0.6828 - val_accuracy: 0.7005\n",
            "Epoch 239/500\n",
            "104/104 [==============================] - 1s 5ms/step - loss: 0.3960 - accuracy: 0.8507 - val_loss: 0.6729 - val_accuracy: 0.7585\n",
            "Epoch 240/500\n",
            "104/104 [==============================] - 1s 5ms/step - loss: 0.3885 - accuracy: 0.8622 - val_loss: 0.7365 - val_accuracy: 0.7053\n",
            "Epoch 241/500\n",
            "104/104 [==============================] - 1s 5ms/step - loss: 0.3706 - accuracy: 0.8658 - val_loss: 0.6726 - val_accuracy: 0.7246\n",
            "Epoch 242/500\n",
            "104/104 [==============================] - 1s 5ms/step - loss: 0.3667 - accuracy: 0.8688 - val_loss: 0.7059 - val_accuracy: 0.7488\n",
            "Epoch 243/500\n",
            "104/104 [==============================] - 1s 5ms/step - loss: 0.3839 - accuracy: 0.8609 - val_loss: 0.6600 - val_accuracy: 0.7391\n",
            "Epoch 244/500\n",
            "104/104 [==============================] - 1s 6ms/step - loss: 0.3619 - accuracy: 0.8597 - val_loss: 0.6948 - val_accuracy: 0.7150\n",
            "Epoch 245/500\n",
            "104/104 [==============================] - 1s 5ms/step - loss: 0.3606 - accuracy: 0.8640 - val_loss: 0.6822 - val_accuracy: 0.7005\n",
            "Epoch 246/500\n",
            "104/104 [==============================] - 1s 5ms/step - loss: 0.3588 - accuracy: 0.8652 - val_loss: 0.6575 - val_accuracy: 0.7536\n",
            "Epoch 247/500\n",
            "104/104 [==============================] - 1s 5ms/step - loss: 0.3538 - accuracy: 0.8640 - val_loss: 0.6740 - val_accuracy: 0.7633\n",
            "Epoch 248/500\n",
            "104/104 [==============================] - 1s 5ms/step - loss: 0.3556 - accuracy: 0.8628 - val_loss: 0.7158 - val_accuracy: 0.7246\n",
            "Epoch 249/500\n",
            "104/104 [==============================] - 1s 5ms/step - loss: 0.3566 - accuracy: 0.8640 - val_loss: 0.6622 - val_accuracy: 0.7633\n",
            "Epoch 250/500\n",
            "104/104 [==============================] - 1s 5ms/step - loss: 0.3561 - accuracy: 0.8634 - val_loss: 0.7033 - val_accuracy: 0.7053\n",
            "Epoch 251/500\n",
            "104/104 [==============================] - 1s 6ms/step - loss: 0.3875 - accuracy: 0.8597 - val_loss: 0.6706 - val_accuracy: 0.7633\n",
            "Epoch 252/500\n",
            "104/104 [==============================] - 1s 6ms/step - loss: 0.3561 - accuracy: 0.8712 - val_loss: 0.6978 - val_accuracy: 0.7295\n",
            "Epoch 253/500\n",
            "104/104 [==============================] - 1s 5ms/step - loss: 0.3495 - accuracy: 0.8706 - val_loss: 0.6208 - val_accuracy: 0.7585\n",
            "Epoch 254/500\n",
            "104/104 [==============================] - 1s 5ms/step - loss: 0.3379 - accuracy: 0.8773 - val_loss: 0.7603 - val_accuracy: 0.7101\n",
            "Epoch 255/500\n",
            "104/104 [==============================] - 1s 5ms/step - loss: 0.3531 - accuracy: 0.8676 - val_loss: 0.7446 - val_accuracy: 0.6957\n",
            "Epoch 256/500\n",
            "104/104 [==============================] - 1s 5ms/step - loss: 0.3375 - accuracy: 0.8791 - val_loss: 0.7098 - val_accuracy: 0.7440\n",
            "Epoch 257/500\n",
            "104/104 [==============================] - 1s 5ms/step - loss: 0.3772 - accuracy: 0.8549 - val_loss: 0.6468 - val_accuracy: 0.7778\n",
            "Epoch 258/500\n",
            "104/104 [==============================] - 1s 6ms/step - loss: 0.3202 - accuracy: 0.8761 - val_loss: 0.7197 - val_accuracy: 0.7053\n",
            "Epoch 259/500\n",
            "104/104 [==============================] - 1s 5ms/step - loss: 0.3338 - accuracy: 0.8797 - val_loss: 0.6677 - val_accuracy: 0.7536\n",
            "Epoch 260/500\n",
            "104/104 [==============================] - 1s 5ms/step - loss: 0.3490 - accuracy: 0.8682 - val_loss: 0.6913 - val_accuracy: 0.7488\n",
            "Epoch 261/500\n",
            "104/104 [==============================] - 1s 5ms/step - loss: 0.3552 - accuracy: 0.8718 - val_loss: 0.7383 - val_accuracy: 0.7005\n",
            "Epoch 262/500\n",
            "104/104 [==============================] - 1s 5ms/step - loss: 0.3683 - accuracy: 0.8640 - val_loss: 0.6844 - val_accuracy: 0.7488\n",
            "Epoch 263/500\n",
            "104/104 [==============================] - 1s 5ms/step - loss: 0.3386 - accuracy: 0.8797 - val_loss: 0.7013 - val_accuracy: 0.7343\n",
            "Epoch 264/500\n",
            "104/104 [==============================] - 1s 5ms/step - loss: 0.3279 - accuracy: 0.8827 - val_loss: 0.6737 - val_accuracy: 0.7633\n",
            "Epoch 265/500\n",
            "104/104 [==============================] - 1s 5ms/step - loss: 0.3309 - accuracy: 0.8718 - val_loss: 0.6812 - val_accuracy: 0.7440\n",
            "Epoch 266/500\n",
            "104/104 [==============================] - 1s 5ms/step - loss: 0.3299 - accuracy: 0.8779 - val_loss: 0.6381 - val_accuracy: 0.7681\n",
            "Epoch 267/500\n",
            "104/104 [==============================] - 1s 5ms/step - loss: 0.3523 - accuracy: 0.8718 - val_loss: 0.6471 - val_accuracy: 0.7633\n",
            "Epoch 268/500\n",
            "104/104 [==============================] - 1s 5ms/step - loss: 0.3017 - accuracy: 0.8894 - val_loss: 0.6716 - val_accuracy: 0.7440\n",
            "Epoch 269/500\n",
            "104/104 [==============================] - 1s 5ms/step - loss: 0.3141 - accuracy: 0.8742 - val_loss: 0.6770 - val_accuracy: 0.7440\n",
            "Epoch 270/500\n",
            "104/104 [==============================] - 1s 6ms/step - loss: 0.3234 - accuracy: 0.8767 - val_loss: 0.6464 - val_accuracy: 0.7295\n",
            "Epoch 271/500\n",
            "104/104 [==============================] - 1s 6ms/step - loss: 0.3062 - accuracy: 0.8863 - val_loss: 0.6438 - val_accuracy: 0.7681\n",
            "Epoch 272/500\n",
            "104/104 [==============================] - 1s 5ms/step - loss: 0.3298 - accuracy: 0.8773 - val_loss: 0.6535 - val_accuracy: 0.7536\n",
            "Epoch 273/500\n",
            "104/104 [==============================] - 1s 6ms/step - loss: 0.3136 - accuracy: 0.8815 - val_loss: 0.6536 - val_accuracy: 0.7585\n",
            "Epoch 274/500\n",
            "104/104 [==============================] - 1s 5ms/step - loss: 0.3287 - accuracy: 0.8748 - val_loss: 0.6620 - val_accuracy: 0.7633\n",
            "Epoch 275/500\n",
            "104/104 [==============================] - 1s 5ms/step - loss: 0.2942 - accuracy: 0.8948 - val_loss: 0.7381 - val_accuracy: 0.7826\n",
            "Epoch 276/500\n",
            "104/104 [==============================] - 1s 5ms/step - loss: 0.3247 - accuracy: 0.8815 - val_loss: 0.6847 - val_accuracy: 0.7295\n",
            "Epoch 277/500\n",
            "104/104 [==============================] - 1s 5ms/step - loss: 0.3039 - accuracy: 0.8845 - val_loss: 0.7025 - val_accuracy: 0.7585\n",
            "Epoch 278/500\n",
            "104/104 [==============================] - 1s 6ms/step - loss: 0.2930 - accuracy: 0.8906 - val_loss: 0.6723 - val_accuracy: 0.7391\n",
            "Epoch 279/500\n",
            "104/104 [==============================] - 1s 6ms/step - loss: 0.3097 - accuracy: 0.8900 - val_loss: 0.6579 - val_accuracy: 0.7633\n",
            "Epoch 280/500\n",
            "104/104 [==============================] - 1s 6ms/step - loss: 0.3052 - accuracy: 0.8863 - val_loss: 0.6449 - val_accuracy: 0.7923\n",
            "Epoch 281/500\n",
            "104/104 [==============================] - 1s 5ms/step - loss: 0.2974 - accuracy: 0.8930 - val_loss: 0.6808 - val_accuracy: 0.7585\n",
            "Epoch 282/500\n",
            "104/104 [==============================] - 1s 5ms/step - loss: 0.3211 - accuracy: 0.8869 - val_loss: 0.6610 - val_accuracy: 0.7536\n",
            "Epoch 283/500\n",
            "104/104 [==============================] - 1s 5ms/step - loss: 0.2978 - accuracy: 0.8942 - val_loss: 0.6551 - val_accuracy: 0.7729\n",
            "Epoch 284/500\n",
            "104/104 [==============================] - 1s 5ms/step - loss: 0.2920 - accuracy: 0.8888 - val_loss: 0.8050 - val_accuracy: 0.6908\n",
            "Epoch 285/500\n",
            "104/104 [==============================] - 1s 5ms/step - loss: 0.3204 - accuracy: 0.8724 - val_loss: 0.6974 - val_accuracy: 0.7681\n",
            "Epoch 286/500\n",
            "104/104 [==============================] - 1s 5ms/step - loss: 0.3031 - accuracy: 0.8918 - val_loss: 0.6801 - val_accuracy: 0.7681\n",
            "Epoch 287/500\n",
            "104/104 [==============================] - 1s 6ms/step - loss: 0.2760 - accuracy: 0.8912 - val_loss: 0.6416 - val_accuracy: 0.7585\n",
            "Epoch 288/500\n",
            "104/104 [==============================] - 1s 5ms/step - loss: 0.2877 - accuracy: 0.8912 - val_loss: 0.6708 - val_accuracy: 0.7536\n",
            "Epoch 289/500\n",
            "104/104 [==============================] - 1s 5ms/step - loss: 0.2982 - accuracy: 0.8924 - val_loss: 0.7162 - val_accuracy: 0.7778\n",
            "Epoch 290/500\n",
            "104/104 [==============================] - 1s 5ms/step - loss: 0.2792 - accuracy: 0.8960 - val_loss: 0.7247 - val_accuracy: 0.7488\n",
            "Epoch 291/500\n",
            "104/104 [==============================] - 1s 5ms/step - loss: 0.3039 - accuracy: 0.8936 - val_loss: 0.6788 - val_accuracy: 0.7778\n",
            "Epoch 292/500\n",
            "104/104 [==============================] - 1s 5ms/step - loss: 0.2857 - accuracy: 0.8881 - val_loss: 0.6855 - val_accuracy: 0.7246\n",
            "Epoch 293/500\n",
            "104/104 [==============================] - 1s 5ms/step - loss: 0.2806 - accuracy: 0.8966 - val_loss: 0.6785 - val_accuracy: 0.7440\n",
            "Epoch 294/500\n",
            "104/104 [==============================] - 1s 5ms/step - loss: 0.2786 - accuracy: 0.8990 - val_loss: 0.6809 - val_accuracy: 0.7246\n",
            "Epoch 295/500\n",
            "104/104 [==============================] - 1s 6ms/step - loss: 0.2880 - accuracy: 0.8924 - val_loss: 0.6532 - val_accuracy: 0.7440\n",
            "Epoch 296/500\n",
            "104/104 [==============================] - 1s 5ms/step - loss: 0.2838 - accuracy: 0.8912 - val_loss: 0.6126 - val_accuracy: 0.8164\n",
            "Epoch 297/500\n",
            "104/104 [==============================] - 1s 6ms/step - loss: 0.2834 - accuracy: 0.8954 - val_loss: 0.6166 - val_accuracy: 0.7778\n",
            "Epoch 298/500\n",
            "104/104 [==============================] - 1s 5ms/step - loss: 0.2768 - accuracy: 0.8960 - val_loss: 0.6470 - val_accuracy: 0.7778\n",
            "Epoch 299/500\n",
            "104/104 [==============================] - 1s 5ms/step - loss: 0.2736 - accuracy: 0.8972 - val_loss: 0.6836 - val_accuracy: 0.7440\n",
            "Epoch 300/500\n",
            "104/104 [==============================] - 1s 5ms/step - loss: 0.2931 - accuracy: 0.8888 - val_loss: 0.7248 - val_accuracy: 0.7826\n",
            "Epoch 301/500\n",
            "104/104 [==============================] - 1s 6ms/step - loss: 0.2788 - accuracy: 0.8924 - val_loss: 0.7368 - val_accuracy: 0.7295\n",
            "Epoch 302/500\n",
            "104/104 [==============================] - 1s 5ms/step - loss: 0.2698 - accuracy: 0.9033 - val_loss: 0.6279 - val_accuracy: 0.7923\n",
            "Epoch 303/500\n",
            "104/104 [==============================] - 1s 5ms/step - loss: 0.2721 - accuracy: 0.8960 - val_loss: 0.6556 - val_accuracy: 0.7826\n",
            "Epoch 304/500\n",
            "104/104 [==============================] - 1s 6ms/step - loss: 0.2646 - accuracy: 0.9027 - val_loss: 0.6459 - val_accuracy: 0.7923\n",
            "Epoch 305/500\n",
            "104/104 [==============================] - 1s 6ms/step - loss: 0.2730 - accuracy: 0.9087 - val_loss: 0.6773 - val_accuracy: 0.7585\n",
            "Epoch 306/500\n",
            "104/104 [==============================] - 1s 6ms/step - loss: 0.2794 - accuracy: 0.9015 - val_loss: 0.6712 - val_accuracy: 0.7778\n",
            "Epoch 307/500\n",
            "104/104 [==============================] - 1s 5ms/step - loss: 0.2817 - accuracy: 0.8966 - val_loss: 0.7519 - val_accuracy: 0.7295\n",
            "Epoch 308/500\n",
            "104/104 [==============================] - 1s 5ms/step - loss: 0.2779 - accuracy: 0.8978 - val_loss: 0.7270 - val_accuracy: 0.7971\n",
            "Epoch 309/500\n",
            "104/104 [==============================] - 1s 5ms/step - loss: 0.2449 - accuracy: 0.9111 - val_loss: 0.6574 - val_accuracy: 0.7536\n",
            "Epoch 310/500\n",
            "104/104 [==============================] - 1s 5ms/step - loss: 0.2794 - accuracy: 0.8936 - val_loss: 0.6912 - val_accuracy: 0.7536\n",
            "Epoch 311/500\n",
            "104/104 [==============================] - 1s 5ms/step - loss: 0.3006 - accuracy: 0.8978 - val_loss: 0.6483 - val_accuracy: 0.7778\n",
            "Epoch 312/500\n",
            "104/104 [==============================] - 1s 6ms/step - loss: 0.2472 - accuracy: 0.9081 - val_loss: 0.6400 - val_accuracy: 0.7971\n",
            "Epoch 313/500\n",
            "104/104 [==============================] - 1s 6ms/step - loss: 0.2470 - accuracy: 0.9051 - val_loss: 0.7312 - val_accuracy: 0.7295\n",
            "Epoch 314/500\n",
            "104/104 [==============================] - 1s 6ms/step - loss: 0.2525 - accuracy: 0.9093 - val_loss: 0.7060 - val_accuracy: 0.7488\n",
            "Epoch 315/500\n",
            "104/104 [==============================] - 1s 5ms/step - loss: 0.2648 - accuracy: 0.8954 - val_loss: 0.6666 - val_accuracy: 0.7923\n",
            "Epoch 316/500\n",
            "104/104 [==============================] - 1s 5ms/step - loss: 0.2607 - accuracy: 0.9045 - val_loss: 0.7184 - val_accuracy: 0.7633\n",
            "Epoch 317/500\n",
            "104/104 [==============================] - 1s 6ms/step - loss: 0.2839 - accuracy: 0.8930 - val_loss: 0.7281 - val_accuracy: 0.7440\n",
            "Epoch 318/500\n",
            "104/104 [==============================] - 1s 6ms/step - loss: 0.2561 - accuracy: 0.9093 - val_loss: 0.7031 - val_accuracy: 0.7536\n",
            "Epoch 319/500\n",
            "104/104 [==============================] - 1s 5ms/step - loss: 0.2532 - accuracy: 0.9075 - val_loss: 0.6855 - val_accuracy: 0.7681\n",
            "Epoch 320/500\n",
            "104/104 [==============================] - 1s 6ms/step - loss: 0.2816 - accuracy: 0.9027 - val_loss: 0.7159 - val_accuracy: 0.7633\n",
            "Epoch 321/500\n",
            "104/104 [==============================] - 1s 6ms/step - loss: 0.2574 - accuracy: 0.9039 - val_loss: 0.7349 - val_accuracy: 0.7585\n",
            "Epoch 322/500\n",
            "104/104 [==============================] - 1s 5ms/step - loss: 0.2625 - accuracy: 0.9021 - val_loss: 0.6876 - val_accuracy: 0.7874\n",
            "Epoch 323/500\n",
            "104/104 [==============================] - 1s 6ms/step - loss: 0.2460 - accuracy: 0.9033 - val_loss: 0.7474 - val_accuracy: 0.7729\n",
            "Epoch 324/500\n",
            "104/104 [==============================] - 1s 5ms/step - loss: 0.2748 - accuracy: 0.9002 - val_loss: 0.6795 - val_accuracy: 0.7923\n",
            "Epoch 325/500\n",
            "104/104 [==============================] - 1s 6ms/step - loss: 0.2438 - accuracy: 0.9226 - val_loss: 0.7482 - val_accuracy: 0.7729\n",
            "Epoch 326/500\n",
            "104/104 [==============================] - 1s 5ms/step - loss: 0.2585 - accuracy: 0.9051 - val_loss: 0.7136 - val_accuracy: 0.7391\n",
            "Epoch 327/500\n",
            "104/104 [==============================] - 1s 5ms/step - loss: 0.2164 - accuracy: 0.9166 - val_loss: 0.6841 - val_accuracy: 0.7826\n",
            "Epoch 328/500\n",
            "104/104 [==============================] - 1s 6ms/step - loss: 0.2607 - accuracy: 0.9033 - val_loss: 0.7689 - val_accuracy: 0.7053\n",
            "Epoch 329/500\n",
            "104/104 [==============================] - 1s 6ms/step - loss: 0.2686 - accuracy: 0.9008 - val_loss: 0.6898 - val_accuracy: 0.7585\n",
            "Epoch 330/500\n",
            "104/104 [==============================] - 1s 6ms/step - loss: 0.2217 - accuracy: 0.9196 - val_loss: 0.6766 - val_accuracy: 0.7729\n",
            "Epoch 331/500\n",
            "104/104 [==============================] - 1s 5ms/step - loss: 0.2422 - accuracy: 0.9135 - val_loss: 0.7179 - val_accuracy: 0.7681\n",
            "Epoch 332/500\n",
            "104/104 [==============================] - 1s 6ms/step - loss: 0.2412 - accuracy: 0.9141 - val_loss: 0.7331 - val_accuracy: 0.7585\n",
            "Epoch 333/500\n",
            "104/104 [==============================] - 1s 6ms/step - loss: 0.2752 - accuracy: 0.9002 - val_loss: 0.7382 - val_accuracy: 0.7440\n",
            "Epoch 334/500\n",
            "104/104 [==============================] - 1s 5ms/step - loss: 0.2319 - accuracy: 0.9166 - val_loss: 0.8174 - val_accuracy: 0.7391\n",
            "Epoch 335/500\n",
            "104/104 [==============================] - 1s 6ms/step - loss: 0.2383 - accuracy: 0.9190 - val_loss: 0.7103 - val_accuracy: 0.7729\n",
            "Epoch 336/500\n",
            "104/104 [==============================] - 1s 6ms/step - loss: 0.2356 - accuracy: 0.9117 - val_loss: 0.7157 - val_accuracy: 0.7440\n",
            "Epoch 337/500\n",
            "104/104 [==============================] - 1s 5ms/step - loss: 0.2302 - accuracy: 0.9111 - val_loss: 0.7379 - val_accuracy: 0.7391\n",
            "Epoch 338/500\n",
            "104/104 [==============================] - 1s 5ms/step - loss: 0.2412 - accuracy: 0.9129 - val_loss: 0.7269 - val_accuracy: 0.7729\n",
            "Epoch 339/500\n",
            "104/104 [==============================] - 1s 6ms/step - loss: 0.2398 - accuracy: 0.9160 - val_loss: 0.7957 - val_accuracy: 0.7488\n",
            "Epoch 340/500\n",
            "104/104 [==============================] - 1s 5ms/step - loss: 0.2403 - accuracy: 0.9093 - val_loss: 0.7883 - val_accuracy: 0.7391\n",
            "Epoch 341/500\n",
            "104/104 [==============================] - 1s 5ms/step - loss: 0.2374 - accuracy: 0.9135 - val_loss: 0.7007 - val_accuracy: 0.7343\n",
            "Epoch 342/500\n",
            "104/104 [==============================] - 1s 6ms/step - loss: 0.2228 - accuracy: 0.9129 - val_loss: 0.6892 - val_accuracy: 0.7874\n",
            "Epoch 343/500\n",
            "104/104 [==============================] - 1s 5ms/step - loss: 0.2367 - accuracy: 0.9135 - val_loss: 0.7115 - val_accuracy: 0.7391\n",
            "Epoch 344/500\n",
            "104/104 [==============================] - 1s 6ms/step - loss: 0.2434 - accuracy: 0.9099 - val_loss: 0.6553 - val_accuracy: 0.7923\n",
            "Epoch 345/500\n",
            "104/104 [==============================] - 1s 6ms/step - loss: 0.2606 - accuracy: 0.9111 - val_loss: 0.8051 - val_accuracy: 0.7633\n",
            "Epoch 346/500\n",
            "104/104 [==============================] - 1s 6ms/step - loss: 0.2115 - accuracy: 0.9250 - val_loss: 0.6876 - val_accuracy: 0.7923\n",
            "Epoch 347/500\n",
            "104/104 [==============================] - 1s 5ms/step - loss: 0.2121 - accuracy: 0.9226 - val_loss: 0.7447 - val_accuracy: 0.7874\n",
            "Epoch 348/500\n",
            "104/104 [==============================] - 1s 6ms/step - loss: 0.2305 - accuracy: 0.9178 - val_loss: 0.6985 - val_accuracy: 0.7778\n",
            "Epoch 349/500\n",
            "104/104 [==============================] - 1s 5ms/step - loss: 0.2187 - accuracy: 0.9226 - val_loss: 0.7320 - val_accuracy: 0.7585\n",
            "Epoch 350/500\n",
            "104/104 [==============================] - 1s 5ms/step - loss: 0.2414 - accuracy: 0.9184 - val_loss: 0.6608 - val_accuracy: 0.8068\n",
            "Epoch 351/500\n",
            "104/104 [==============================] - 1s 6ms/step - loss: 0.2352 - accuracy: 0.9178 - val_loss: 0.7939 - val_accuracy: 0.7343\n",
            "Epoch 352/500\n",
            "104/104 [==============================] - 1s 6ms/step - loss: 0.2111 - accuracy: 0.9220 - val_loss: 0.7654 - val_accuracy: 0.8019\n",
            "Epoch 353/500\n",
            "104/104 [==============================] - 1s 5ms/step - loss: 0.2423 - accuracy: 0.9160 - val_loss: 0.6908 - val_accuracy: 0.8019\n",
            "Epoch 354/500\n",
            "104/104 [==============================] - 1s 5ms/step - loss: 0.2181 - accuracy: 0.9220 - val_loss: 0.7294 - val_accuracy: 0.7874\n",
            "Epoch 355/500\n",
            "104/104 [==============================] - 1s 6ms/step - loss: 0.2485 - accuracy: 0.9075 - val_loss: 0.8064 - val_accuracy: 0.7585\n",
            "Epoch 356/500\n",
            "104/104 [==============================] - 1s 5ms/step - loss: 0.2217 - accuracy: 0.9268 - val_loss: 0.7500 - val_accuracy: 0.7826\n",
            "Epoch 357/500\n",
            "104/104 [==============================] - 1s 5ms/step - loss: 0.2358 - accuracy: 0.9214 - val_loss: 0.7779 - val_accuracy: 0.7633\n",
            "Epoch 358/500\n",
            "104/104 [==============================] - 1s 5ms/step - loss: 0.2360 - accuracy: 0.9190 - val_loss: 0.8052 - val_accuracy: 0.7488\n",
            "Epoch 359/500\n",
            "104/104 [==============================] - 1s 5ms/step - loss: 0.2131 - accuracy: 0.9311 - val_loss: 0.7467 - val_accuracy: 0.7681\n",
            "Epoch 360/500\n",
            "104/104 [==============================] - 1s 6ms/step - loss: 0.2149 - accuracy: 0.9274 - val_loss: 0.7463 - val_accuracy: 0.7778\n",
            "Epoch 361/500\n",
            "104/104 [==============================] - 1s 5ms/step - loss: 0.2179 - accuracy: 0.9287 - val_loss: 0.7190 - val_accuracy: 0.7729\n",
            "Epoch 362/500\n",
            "104/104 [==============================] - 1s 5ms/step - loss: 0.2131 - accuracy: 0.9208 - val_loss: 0.7204 - val_accuracy: 0.7923\n",
            "Epoch 363/500\n",
            "104/104 [==============================] - 1s 6ms/step - loss: 0.2116 - accuracy: 0.9208 - val_loss: 0.8051 - val_accuracy: 0.7536\n",
            "Epoch 364/500\n",
            "104/104 [==============================] - 1s 6ms/step - loss: 0.2211 - accuracy: 0.9208 - val_loss: 0.7478 - val_accuracy: 0.7633\n",
            "Epoch 365/500\n",
            "104/104 [==============================] - 1s 5ms/step - loss: 0.2141 - accuracy: 0.9148 - val_loss: 0.7603 - val_accuracy: 0.7681\n",
            "Epoch 366/500\n",
            "104/104 [==============================] - 1s 6ms/step - loss: 0.2341 - accuracy: 0.9178 - val_loss: 0.7210 - val_accuracy: 0.7874\n",
            "Epoch 367/500\n",
            "104/104 [==============================] - 1s 6ms/step - loss: 0.2047 - accuracy: 0.9154 - val_loss: 0.8113 - val_accuracy: 0.7923\n",
            "Epoch 368/500\n",
            "104/104 [==============================] - 1s 5ms/step - loss: 0.2160 - accuracy: 0.9250 - val_loss: 0.7180 - val_accuracy: 0.7729\n",
            "Epoch 369/500\n",
            "104/104 [==============================] - 1s 6ms/step - loss: 0.2071 - accuracy: 0.9293 - val_loss: 0.7418 - val_accuracy: 0.7633\n",
            "Epoch 370/500\n",
            "104/104 [==============================] - 1s 5ms/step - loss: 0.2192 - accuracy: 0.9214 - val_loss: 0.7075 - val_accuracy: 0.7729\n",
            "Epoch 371/500\n",
            "104/104 [==============================] - 1s 6ms/step - loss: 0.2466 - accuracy: 0.9160 - val_loss: 0.6775 - val_accuracy: 0.7440\n",
            "Epoch 372/500\n",
            "104/104 [==============================] - 1s 6ms/step - loss: 0.2039 - accuracy: 0.9323 - val_loss: 0.7030 - val_accuracy: 0.8019\n",
            "Epoch 373/500\n",
            "104/104 [==============================] - 1s 5ms/step - loss: 0.2405 - accuracy: 0.9172 - val_loss: 0.7031 - val_accuracy: 0.7778\n",
            "Epoch 374/500\n",
            "104/104 [==============================] - 1s 5ms/step - loss: 0.2160 - accuracy: 0.9220 - val_loss: 0.7336 - val_accuracy: 0.7536\n",
            "Epoch 375/500\n",
            "104/104 [==============================] - 1s 6ms/step - loss: 0.2064 - accuracy: 0.9281 - val_loss: 0.8541 - val_accuracy: 0.7198\n",
            "Epoch 376/500\n",
            "104/104 [==============================] - 1s 6ms/step - loss: 0.2038 - accuracy: 0.9256 - val_loss: 0.7716 - val_accuracy: 0.7729\n",
            "Epoch 377/500\n",
            "104/104 [==============================] - 1s 5ms/step - loss: 0.1993 - accuracy: 0.9244 - val_loss: 0.8060 - val_accuracy: 0.7729\n",
            "Epoch 378/500\n",
            "104/104 [==============================] - 1s 6ms/step - loss: 0.1860 - accuracy: 0.9317 - val_loss: 0.6875 - val_accuracy: 0.7971\n",
            "Epoch 379/500\n",
            "104/104 [==============================] - 1s 5ms/step - loss: 0.2296 - accuracy: 0.9184 - val_loss: 0.7486 - val_accuracy: 0.7633\n",
            "Epoch 380/500\n",
            "104/104 [==============================] - 1s 5ms/step - loss: 0.1857 - accuracy: 0.9299 - val_loss: 0.7299 - val_accuracy: 0.8068\n",
            "Epoch 381/500\n",
            "104/104 [==============================] - 1s 5ms/step - loss: 0.2065 - accuracy: 0.9214 - val_loss: 0.7647 - val_accuracy: 0.7681\n",
            "Epoch 382/500\n",
            "104/104 [==============================] - 1s 5ms/step - loss: 0.1948 - accuracy: 0.9281 - val_loss: 0.7174 - val_accuracy: 0.7778\n",
            "Epoch 383/500\n",
            "104/104 [==============================] - 1s 5ms/step - loss: 0.2142 - accuracy: 0.9160 - val_loss: 0.7399 - val_accuracy: 0.8164\n",
            "Epoch 384/500\n",
            "104/104 [==============================] - 1s 5ms/step - loss: 0.1902 - accuracy: 0.9268 - val_loss: 0.7753 - val_accuracy: 0.7585\n",
            "Epoch 385/500\n",
            "104/104 [==============================] - 1s 5ms/step - loss: 0.2264 - accuracy: 0.9214 - val_loss: 0.8908 - val_accuracy: 0.7681\n",
            "Epoch 386/500\n",
            "104/104 [==============================] - 1s 5ms/step - loss: 0.1969 - accuracy: 0.9293 - val_loss: 0.7574 - val_accuracy: 0.7633\n",
            "Epoch 387/500\n",
            "104/104 [==============================] - 1s 5ms/step - loss: 0.2122 - accuracy: 0.9268 - val_loss: 0.7242 - val_accuracy: 0.7826\n",
            "Epoch 388/500\n",
            "104/104 [==============================] - 1s 6ms/step - loss: 0.2034 - accuracy: 0.9335 - val_loss: 0.6946 - val_accuracy: 0.7874\n",
            "Epoch 389/500\n",
            "104/104 [==============================] - 1s 6ms/step - loss: 0.1994 - accuracy: 0.9305 - val_loss: 0.8046 - val_accuracy: 0.7343\n",
            "Epoch 390/500\n",
            "104/104 [==============================] - 1s 5ms/step - loss: 0.1947 - accuracy: 0.9383 - val_loss: 0.6845 - val_accuracy: 0.8019\n",
            "Epoch 391/500\n",
            "104/104 [==============================] - 1s 5ms/step - loss: 0.1893 - accuracy: 0.9329 - val_loss: 0.6818 - val_accuracy: 0.8068\n",
            "Epoch 392/500\n",
            "104/104 [==============================] - 1s 6ms/step - loss: 0.2249 - accuracy: 0.9256 - val_loss: 0.7744 - val_accuracy: 0.7633\n",
            "Epoch 393/500\n",
            "104/104 [==============================] - 1s 5ms/step - loss: 0.1889 - accuracy: 0.9383 - val_loss: 0.8625 - val_accuracy: 0.7633\n",
            "Epoch 394/500\n",
            "104/104 [==============================] - 1s 6ms/step - loss: 0.2197 - accuracy: 0.9220 - val_loss: 0.8489 - val_accuracy: 0.7585\n",
            "Epoch 395/500\n",
            "104/104 [==============================] - 1s 5ms/step - loss: 0.1768 - accuracy: 0.9329 - val_loss: 0.7363 - val_accuracy: 0.7874\n",
            "Epoch 396/500\n",
            "104/104 [==============================] - 1s 6ms/step - loss: 0.2072 - accuracy: 0.9274 - val_loss: 0.7573 - val_accuracy: 0.7633\n",
            "Epoch 397/500\n",
            "104/104 [==============================] - 1s 5ms/step - loss: 0.1623 - accuracy: 0.9438 - val_loss: 0.8924 - val_accuracy: 0.7391\n",
            "Epoch 398/500\n",
            "104/104 [==============================] - 1s 6ms/step - loss: 0.1909 - accuracy: 0.9323 - val_loss: 0.8992 - val_accuracy: 0.7536\n",
            "Epoch 399/500\n",
            "104/104 [==============================] - 1s 5ms/step - loss: 0.1876 - accuracy: 0.9347 - val_loss: 0.7813 - val_accuracy: 0.7778\n",
            "Epoch 400/500\n",
            "104/104 [==============================] - 1s 5ms/step - loss: 0.1716 - accuracy: 0.9438 - val_loss: 0.7714 - val_accuracy: 0.7681\n",
            "Epoch 401/500\n",
            "104/104 [==============================] - 1s 5ms/step - loss: 0.1969 - accuracy: 0.9293 - val_loss: 0.7018 - val_accuracy: 0.7971\n",
            "Epoch 402/500\n",
            "104/104 [==============================] - 1s 6ms/step - loss: 0.1936 - accuracy: 0.9341 - val_loss: 0.7853 - val_accuracy: 0.7778\n",
            "Epoch 403/500\n",
            "104/104 [==============================] - 1s 5ms/step - loss: 0.1809 - accuracy: 0.9305 - val_loss: 0.7718 - val_accuracy: 0.7826\n",
            "Epoch 404/500\n",
            "104/104 [==============================] - 1s 6ms/step - loss: 0.1998 - accuracy: 0.9262 - val_loss: 0.7788 - val_accuracy: 0.7923\n",
            "Epoch 405/500\n",
            "104/104 [==============================] - 1s 5ms/step - loss: 0.1813 - accuracy: 0.9414 - val_loss: 0.7804 - val_accuracy: 0.7585\n",
            "Epoch 406/500\n",
            "104/104 [==============================] - 1s 6ms/step - loss: 0.1732 - accuracy: 0.9389 - val_loss: 0.8157 - val_accuracy: 0.7778\n",
            "Epoch 407/500\n",
            "104/104 [==============================] - 1s 5ms/step - loss: 0.1822 - accuracy: 0.9341 - val_loss: 0.7639 - val_accuracy: 0.7874\n",
            "Epoch 408/500\n",
            "104/104 [==============================] - 1s 6ms/step - loss: 0.1926 - accuracy: 0.9347 - val_loss: 0.7825 - val_accuracy: 0.7585\n",
            "Epoch 409/500\n",
            "104/104 [==============================] - 1s 5ms/step - loss: 0.2061 - accuracy: 0.9353 - val_loss: 0.7887 - val_accuracy: 0.7778\n",
            "Epoch 410/500\n",
            "104/104 [==============================] - 1s 5ms/step - loss: 0.1702 - accuracy: 0.9426 - val_loss: 0.7700 - val_accuracy: 0.7874\n",
            "Epoch 411/500\n",
            "104/104 [==============================] - 1s 5ms/step - loss: 0.2078 - accuracy: 0.9256 - val_loss: 0.9292 - val_accuracy: 0.7536\n",
            "Epoch 412/500\n",
            "104/104 [==============================] - 1s 5ms/step - loss: 0.1858 - accuracy: 0.9305 - val_loss: 0.8288 - val_accuracy: 0.7971\n",
            "Epoch 413/500\n",
            "104/104 [==============================] - 1s 6ms/step - loss: 0.2001 - accuracy: 0.9287 - val_loss: 0.7701 - val_accuracy: 0.7778\n",
            "Epoch 414/500\n",
            "104/104 [==============================] - 1s 5ms/step - loss: 0.2013 - accuracy: 0.9268 - val_loss: 0.8305 - val_accuracy: 0.7440\n",
            "Epoch 415/500\n",
            "104/104 [==============================] - 1s 5ms/step - loss: 0.1931 - accuracy: 0.9281 - val_loss: 0.7872 - val_accuracy: 0.7778\n",
            "Epoch 416/500\n",
            "104/104 [==============================] - 1s 5ms/step - loss: 0.2022 - accuracy: 0.9287 - val_loss: 0.7242 - val_accuracy: 0.7971\n",
            "Epoch 417/500\n",
            "104/104 [==============================] - 1s 5ms/step - loss: 0.1916 - accuracy: 0.9329 - val_loss: 0.8305 - val_accuracy: 0.7971\n",
            "Epoch 418/500\n",
            "104/104 [==============================] - 1s 6ms/step - loss: 0.1881 - accuracy: 0.9407 - val_loss: 0.8835 - val_accuracy: 0.7536\n",
            "Epoch 419/500\n",
            "104/104 [==============================] - 1s 6ms/step - loss: 0.1836 - accuracy: 0.9335 - val_loss: 0.7039 - val_accuracy: 0.8213\n",
            "Epoch 420/500\n",
            "104/104 [==============================] - 1s 6ms/step - loss: 0.1939 - accuracy: 0.9305 - val_loss: 0.7984 - val_accuracy: 0.7971\n",
            "Epoch 421/500\n",
            "104/104 [==============================] - 1s 5ms/step - loss: 0.1973 - accuracy: 0.9262 - val_loss: 0.7384 - val_accuracy: 0.7778\n",
            "Epoch 422/500\n",
            "104/104 [==============================] - 1s 5ms/step - loss: 0.1778 - accuracy: 0.9359 - val_loss: 0.7500 - val_accuracy: 0.8019\n",
            "Epoch 423/500\n",
            "104/104 [==============================] - 1s 6ms/step - loss: 0.1875 - accuracy: 0.9293 - val_loss: 0.8545 - val_accuracy: 0.7826\n",
            "Epoch 424/500\n",
            "104/104 [==============================] - 1s 5ms/step - loss: 0.1496 - accuracy: 0.9450 - val_loss: 0.7621 - val_accuracy: 0.7971\n",
            "Epoch 425/500\n",
            "104/104 [==============================] - 1s 6ms/step - loss: 0.1879 - accuracy: 0.9281 - val_loss: 0.8849 - val_accuracy: 0.7729\n",
            "Epoch 426/500\n",
            "104/104 [==============================] - 1s 5ms/step - loss: 0.1653 - accuracy: 0.9414 - val_loss: 0.7487 - val_accuracy: 0.7874\n",
            "Epoch 427/500\n",
            "104/104 [==============================] - 1s 5ms/step - loss: 0.1785 - accuracy: 0.9383 - val_loss: 0.7263 - val_accuracy: 0.8068\n",
            "Epoch 428/500\n",
            "104/104 [==============================] - 1s 6ms/step - loss: 0.1677 - accuracy: 0.9395 - val_loss: 0.7486 - val_accuracy: 0.7923\n",
            "Epoch 429/500\n",
            "104/104 [==============================] - 1s 5ms/step - loss: 0.1742 - accuracy: 0.9401 - val_loss: 0.7521 - val_accuracy: 0.7923\n",
            "Epoch 430/500\n",
            "104/104 [==============================] - 1s 6ms/step - loss: 0.1533 - accuracy: 0.9480 - val_loss: 0.7660 - val_accuracy: 0.7826\n",
            "Epoch 431/500\n",
            "104/104 [==============================] - 1s 5ms/step - loss: 0.1762 - accuracy: 0.9311 - val_loss: 0.7653 - val_accuracy: 0.7826\n",
            "Epoch 432/500\n",
            "104/104 [==============================] - 1s 6ms/step - loss: 0.2000 - accuracy: 0.9353 - val_loss: 0.7220 - val_accuracy: 0.7971\n",
            "Epoch 433/500\n",
            "104/104 [==============================] - 1s 5ms/step - loss: 0.1931 - accuracy: 0.9262 - val_loss: 0.8473 - val_accuracy: 0.7585\n",
            "Epoch 434/500\n",
            "104/104 [==============================] - 1s 6ms/step - loss: 0.1918 - accuracy: 0.9353 - val_loss: 0.8222 - val_accuracy: 0.7729\n",
            "Epoch 435/500\n",
            "104/104 [==============================] - 1s 6ms/step - loss: 0.1720 - accuracy: 0.9432 - val_loss: 0.7401 - val_accuracy: 0.8068\n",
            "Epoch 436/500\n",
            "104/104 [==============================] - 1s 6ms/step - loss: 0.1731 - accuracy: 0.9444 - val_loss: 0.8114 - val_accuracy: 0.8213\n",
            "Epoch 437/500\n",
            "104/104 [==============================] - 1s 5ms/step - loss: 0.1683 - accuracy: 0.9468 - val_loss: 0.7763 - val_accuracy: 0.7971\n",
            "Epoch 438/500\n",
            "104/104 [==============================] - 1s 5ms/step - loss: 0.1823 - accuracy: 0.9329 - val_loss: 0.8550 - val_accuracy: 0.7826\n",
            "Epoch 439/500\n",
            "104/104 [==============================] - 1s 6ms/step - loss: 0.1904 - accuracy: 0.9323 - val_loss: 0.8948 - val_accuracy: 0.8068\n",
            "Epoch 440/500\n",
            "104/104 [==============================] - 1s 6ms/step - loss: 0.1760 - accuracy: 0.9335 - val_loss: 0.8032 - val_accuracy: 0.7874\n",
            "Epoch 441/500\n",
            "104/104 [==============================] - 1s 5ms/step - loss: 0.1656 - accuracy: 0.9426 - val_loss: 0.7956 - val_accuracy: 0.7681\n",
            "Epoch 442/500\n",
            "104/104 [==============================] - 1s 5ms/step - loss: 0.1602 - accuracy: 0.9516 - val_loss: 0.8592 - val_accuracy: 0.7778\n",
            "Epoch 443/500\n",
            "104/104 [==============================] - 1s 5ms/step - loss: 0.1609 - accuracy: 0.9395 - val_loss: 0.8036 - val_accuracy: 0.7826\n",
            "Epoch 444/500\n",
            "104/104 [==============================] - 1s 6ms/step - loss: 0.1785 - accuracy: 0.9462 - val_loss: 0.7932 - val_accuracy: 0.7440\n",
            "Epoch 445/500\n",
            "104/104 [==============================] - 1s 6ms/step - loss: 0.1909 - accuracy: 0.9359 - val_loss: 0.8504 - val_accuracy: 0.7633\n",
            "Epoch 446/500\n",
            "104/104 [==============================] - 1s 5ms/step - loss: 0.1671 - accuracy: 0.9347 - val_loss: 0.8735 - val_accuracy: 0.7778\n",
            "Epoch 447/500\n",
            "104/104 [==============================] - 1s 5ms/step - loss: 0.1652 - accuracy: 0.9432 - val_loss: 0.8614 - val_accuracy: 0.7391\n",
            "Epoch 448/500\n",
            "104/104 [==============================] - 1s 5ms/step - loss: 0.1879 - accuracy: 0.9444 - val_loss: 0.8224 - val_accuracy: 0.8309\n",
            "Epoch 449/500\n",
            "104/104 [==============================] - 1s 6ms/step - loss: 0.1628 - accuracy: 0.9444 - val_loss: 0.8571 - val_accuracy: 0.7826\n",
            "Epoch 450/500\n",
            "104/104 [==============================] - 1s 6ms/step - loss: 0.1764 - accuracy: 0.9462 - val_loss: 0.8337 - val_accuracy: 0.7923\n",
            "Epoch 451/500\n",
            "104/104 [==============================] - 1s 5ms/step - loss: 0.1669 - accuracy: 0.9420 - val_loss: 0.7705 - val_accuracy: 0.7681\n",
            "Epoch 452/500\n",
            "104/104 [==============================] - 1s 6ms/step - loss: 0.2204 - accuracy: 0.9329 - val_loss: 0.8443 - val_accuracy: 0.8116\n",
            "Epoch 453/500\n",
            "104/104 [==============================] - 1s 6ms/step - loss: 0.1623 - accuracy: 0.9359 - val_loss: 0.8508 - val_accuracy: 0.7826\n",
            "Epoch 454/500\n",
            "104/104 [==============================] - 1s 6ms/step - loss: 0.1455 - accuracy: 0.9444 - val_loss: 0.8389 - val_accuracy: 0.7826\n",
            "Epoch 455/500\n",
            "104/104 [==============================] - 1s 6ms/step - loss: 0.1706 - accuracy: 0.9353 - val_loss: 0.8777 - val_accuracy: 0.7778\n",
            "Epoch 456/500\n",
            "104/104 [==============================] - 1s 5ms/step - loss: 0.1820 - accuracy: 0.9341 - val_loss: 0.8623 - val_accuracy: 0.7826\n",
            "Epoch 457/500\n",
            "104/104 [==============================] - 1s 5ms/step - loss: 0.1465 - accuracy: 0.9474 - val_loss: 0.7784 - val_accuracy: 0.8164\n",
            "Epoch 458/500\n",
            "104/104 [==============================] - 1s 6ms/step - loss: 0.1655 - accuracy: 0.9420 - val_loss: 0.7459 - val_accuracy: 0.8019\n",
            "Epoch 459/500\n",
            "104/104 [==============================] - 1s 6ms/step - loss: 0.1587 - accuracy: 0.9474 - val_loss: 0.8732 - val_accuracy: 0.7826\n",
            "Epoch 460/500\n",
            "104/104 [==============================] - 1s 5ms/step - loss: 0.1785 - accuracy: 0.9377 - val_loss: 0.8874 - val_accuracy: 0.7923\n",
            "Epoch 461/500\n",
            "104/104 [==============================] - 1s 5ms/step - loss: 0.1404 - accuracy: 0.9528 - val_loss: 0.7657 - val_accuracy: 0.8116\n",
            "Epoch 462/500\n",
            "104/104 [==============================] - 1s 6ms/step - loss: 0.1791 - accuracy: 0.9414 - val_loss: 0.8585 - val_accuracy: 0.7971\n",
            "Epoch 463/500\n",
            "104/104 [==============================] - 1s 5ms/step - loss: 0.1768 - accuracy: 0.9401 - val_loss: 0.8149 - val_accuracy: 0.8068\n",
            "Epoch 464/500\n",
            "104/104 [==============================] - 1s 6ms/step - loss: 0.1402 - accuracy: 0.9474 - val_loss: 0.8548 - val_accuracy: 0.7778\n",
            "Epoch 465/500\n",
            "104/104 [==============================] - 1s 5ms/step - loss: 0.1538 - accuracy: 0.9414 - val_loss: 0.8087 - val_accuracy: 0.7971\n",
            "Epoch 466/500\n",
            "104/104 [==============================] - 1s 5ms/step - loss: 0.1821 - accuracy: 0.9389 - val_loss: 0.7372 - val_accuracy: 0.8019\n",
            "Epoch 467/500\n",
            "104/104 [==============================] - 1s 6ms/step - loss: 0.1753 - accuracy: 0.9426 - val_loss: 0.8096 - val_accuracy: 0.7971\n",
            "Epoch 468/500\n",
            "104/104 [==============================] - 1s 5ms/step - loss: 0.1569 - accuracy: 0.9462 - val_loss: 0.8739 - val_accuracy: 0.7681\n",
            "Epoch 469/500\n",
            "104/104 [==============================] - 1s 6ms/step - loss: 0.1369 - accuracy: 0.9522 - val_loss: 0.8972 - val_accuracy: 0.8019\n",
            "Epoch 470/500\n",
            "104/104 [==============================] - 1s 6ms/step - loss: 0.1558 - accuracy: 0.9486 - val_loss: 0.9022 - val_accuracy: 0.7874\n",
            "Epoch 471/500\n",
            "104/104 [==============================] - 1s 6ms/step - loss: 0.1546 - accuracy: 0.9444 - val_loss: 0.8873 - val_accuracy: 0.7971\n",
            "Epoch 472/500\n",
            "104/104 [==============================] - 1s 5ms/step - loss: 0.1763 - accuracy: 0.9407 - val_loss: 0.8402 - val_accuracy: 0.8068\n",
            "Epoch 473/500\n",
            "104/104 [==============================] - 1s 5ms/step - loss: 0.1836 - accuracy: 0.9414 - val_loss: 0.7442 - val_accuracy: 0.7874\n",
            "Epoch 474/500\n",
            "104/104 [==============================] - 1s 6ms/step - loss: 0.1360 - accuracy: 0.9528 - val_loss: 0.8435 - val_accuracy: 0.7778\n",
            "Epoch 475/500\n",
            "104/104 [==============================] - 1s 6ms/step - loss: 0.1409 - accuracy: 0.9486 - val_loss: 0.8561 - val_accuracy: 0.8164\n",
            "Epoch 476/500\n",
            "104/104 [==============================] - 1s 5ms/step - loss: 0.1910 - accuracy: 0.9353 - val_loss: 0.8579 - val_accuracy: 0.7681\n",
            "Epoch 477/500\n",
            "104/104 [==============================] - 1s 6ms/step - loss: 0.1669 - accuracy: 0.9395 - val_loss: 0.7815 - val_accuracy: 0.7826\n",
            "Epoch 478/500\n",
            "104/104 [==============================] - 1s 5ms/step - loss: 0.1494 - accuracy: 0.9510 - val_loss: 0.8901 - val_accuracy: 0.7971\n",
            "Epoch 479/500\n",
            "104/104 [==============================] - 1s 6ms/step - loss: 0.1414 - accuracy: 0.9474 - val_loss: 0.8000 - val_accuracy: 0.7826\n",
            "Epoch 480/500\n",
            "104/104 [==============================] - 1s 7ms/step - loss: 0.1566 - accuracy: 0.9420 - val_loss: 0.8055 - val_accuracy: 0.8068\n",
            "Epoch 481/500\n",
            "104/104 [==============================] - 1s 7ms/step - loss: 0.1457 - accuracy: 0.9498 - val_loss: 0.8597 - val_accuracy: 0.7923\n",
            "Epoch 482/500\n",
            "104/104 [==============================] - 1s 7ms/step - loss: 0.1641 - accuracy: 0.9474 - val_loss: 0.9026 - val_accuracy: 0.7923\n",
            "Epoch 483/500\n",
            "104/104 [==============================] - 1s 7ms/step - loss: 0.1398 - accuracy: 0.9510 - val_loss: 0.8549 - val_accuracy: 0.7681\n",
            "Epoch 484/500\n",
            "104/104 [==============================] - 1s 7ms/step - loss: 0.1533 - accuracy: 0.9468 - val_loss: 0.8518 - val_accuracy: 0.7971\n",
            "Epoch 485/500\n",
            "104/104 [==============================] - 1s 6ms/step - loss: 0.1473 - accuracy: 0.9468 - val_loss: 1.0099 - val_accuracy: 0.7585\n",
            "Epoch 486/500\n",
            "104/104 [==============================] - 1s 5ms/step - loss: 0.1595 - accuracy: 0.9438 - val_loss: 0.9272 - val_accuracy: 0.7633\n",
            "Epoch 487/500\n",
            "104/104 [==============================] - 1s 5ms/step - loss: 0.1617 - accuracy: 0.9474 - val_loss: 0.9005 - val_accuracy: 0.7971\n",
            "Epoch 488/500\n",
            "104/104 [==============================] - 1s 6ms/step - loss: 0.1319 - accuracy: 0.9541 - val_loss: 0.9467 - val_accuracy: 0.7729\n",
            "Epoch 489/500\n",
            "104/104 [==============================] - 1s 6ms/step - loss: 0.1635 - accuracy: 0.9492 - val_loss: 0.8802 - val_accuracy: 0.8019\n",
            "Epoch 490/500\n",
            "104/104 [==============================] - 1s 6ms/step - loss: 0.1768 - accuracy: 0.9420 - val_loss: 0.8527 - val_accuracy: 0.7874\n",
            "Epoch 491/500\n",
            "104/104 [==============================] - 1s 6ms/step - loss: 0.1517 - accuracy: 0.9498 - val_loss: 0.7722 - val_accuracy: 0.7826\n",
            "Epoch 492/500\n",
            "104/104 [==============================] - 1s 6ms/step - loss: 0.1767 - accuracy: 0.9414 - val_loss: 0.7894 - val_accuracy: 0.8019\n",
            "Epoch 493/500\n",
            "104/104 [==============================] - 1s 5ms/step - loss: 0.1453 - accuracy: 0.9522 - val_loss: 0.8394 - val_accuracy: 0.7729\n",
            "Epoch 494/500\n",
            "104/104 [==============================] - 1s 6ms/step - loss: 0.1551 - accuracy: 0.9462 - val_loss: 0.9077 - val_accuracy: 0.7874\n",
            "Epoch 495/500\n",
            "104/104 [==============================] - 1s 6ms/step - loss: 0.1599 - accuracy: 0.9401 - val_loss: 0.7963 - val_accuracy: 0.7681\n",
            "Epoch 496/500\n",
            "104/104 [==============================] - 1s 5ms/step - loss: 0.1343 - accuracy: 0.9534 - val_loss: 0.8632 - val_accuracy: 0.7729\n",
            "Epoch 497/500\n",
            "104/104 [==============================] - 1s 6ms/step - loss: 0.1674 - accuracy: 0.9432 - val_loss: 0.9226 - val_accuracy: 0.7729\n",
            "Epoch 498/500\n",
            "104/104 [==============================] - 1s 5ms/step - loss: 0.1443 - accuracy: 0.9486 - val_loss: 0.7492 - val_accuracy: 0.8164\n",
            "Epoch 499/500\n",
            "104/104 [==============================] - 1s 6ms/step - loss: 0.1543 - accuracy: 0.9474 - val_loss: 0.9641 - val_accuracy: 0.7633\n",
            "Epoch 500/500\n",
            "104/104 [==============================] - 1s 6ms/step - loss: 0.1291 - accuracy: 0.9522 - val_loss: 0.9139 - val_accuracy: 0.7585\n"
          ]
        }
      ]
    },
    {
      "cell_type": "code",
      "source": [
        "plt.plot(cnnhistory.history['loss'])\n",
        "plt.plot(cnnhistory.history['val_loss'])\n",
        "plt.title('model loss')\n",
        "plt.ylabel('loss')\n",
        "plt.xlabel('epoch')\n",
        "plt.legend(['train','test'], loc='upper left')\n",
        "plt.show()"
      ],
      "metadata": {
        "colab": {
          "base_uri": "https://localhost:8080/",
          "height": 295
        },
        "id": "oQYnuaCrDH_A",
        "outputId": "919f47bc-a30f-4f60-cdf0-514642116a4f"
      },
      "execution_count": 22,
      "outputs": [
        {
          "output_type": "display_data",
          "data": {
            "text/plain": [
              "<Figure size 432x288 with 1 Axes>"
            ],
            "image/png": "[encoded data removed]"
          },
          "metadata": {
            "needs_background": "light"
          }
        }
      ]
    },
    {
      "cell_type": "code",
      "source": [
        "plt.plot(cnnhistory.history['accuracy'])\n",
        "plt.plot(cnnhistory.history['val_accuracy'])\n",
        "plt.title('model accuracy')\n",
        "plt.ylabel('accuracy')\n",
        "plt.xlabel('epoch')\n",
        "plt.legend(['train','test'], loc='upper left')\n",
        "plt.show()"
      ],
      "metadata": {
        "colab": {
          "base_uri": "https://localhost:8080/",
          "height": 295
        },
        "id": "IFkTuO8nDNdq",
        "outputId": "b484d21b-24b6-4cf1-8028-7556f722743c"
      },
      "execution_count": 23,
      "outputs": [
        {
          "output_type": "display_data",
          "data": {
            "text/plain": [
              "<Figure size 432x288 with 1 Axes>"
            ],
            "image/png": "[encoded data removed]"
          },
          "metadata": {
            "needs_background": "light"
          }
        }
      ]
    },
    {
      "cell_type": "code",
      "source": [
        "#predictions = model.predict_classes(x_testcnn)\n",
        "predictions = model.predict(x_testcnn)"
      ],
      "metadata": {
        "id": "A2xtrN5wDQgY"
      },
      "execution_count": 24,
      "outputs": []
    },
    {
      "cell_type": "code",
      "source": [
        "predictions"
      ],
      "metadata": {
        "colab": {
          "base_uri": "https://localhost:8080/"
        },
        "id": "_f_ohjXKDUpY",
        "outputId": "d8858f3a-6c06-4ccc-b1ff-211dda85d6d6"
      },
      "execution_count": 25,
      "outputs": [
        {
          "output_type": "execute_result",
          "data": {
            "text/plain": [
              "array([[5.7568856e-09, 2.2054616e-10, 2.7440407e-03, 3.6848638e-07,\n",
              "        1.4711208e-05, 9.9724078e-01],\n",
              "       [2.0756341e-04, 9.9704832e-01, 1.6157343e-05, 2.5709418e-03,\n",
              "        1.4838784e-04, 8.6865739e-06],\n",
              "       [4.6079223e-15, 5.1103830e-06, 9.9999464e-01, 2.1217236e-10,\n",
              "        1.4270108e-07, 1.4684247e-07],\n",
              "       ...,\n",
              "       [1.3173266e-07, 7.2995947e-09, 1.0594547e-04, 1.3564589e-05,\n",
              "        9.9791354e-01, 1.9667959e-03],\n",
              "       [2.0077599e-04, 7.4346943e-05, 2.2372338e-05, 9.4355595e-01,\n",
              "        1.2103354e-05, 5.6134459e-02],\n",
              "       [8.7414846e-02, 1.6280819e-02, 5.0913768e-05, 1.5923541e-02,\n",
              "        8.8032794e-01, 1.8440790e-06]], dtype=float32)"
            ]
          },
          "metadata": {},
          "execution_count": 25
        }
      ]
    },
    {
      "cell_type": "code",
      "source": [
        "y_test"
      ],
      "metadata": {
        "colab": {
          "base_uri": "https://localhost:8080/"
        },
        "id": "cmA2bFgsDW3D",
        "outputId": "f5da3fa2-4f22-4104-ae14-bb35c732733c"
      },
      "execution_count": 26,
      "outputs": [
        {
          "output_type": "execute_result",
          "data": {
            "text/plain": [
              "array([5, 1, 2, 5, 3, 4, 2, 0, 3, 1, 3, 2, 1, 4, 3, 0, 5, 0, 2, 5, 0, 0,\n",
              "       1, 3, 2, 3, 2, 5, 4, 2, 2, 3, 1, 2, 5, 5, 3, 5, 3, 3, 4, 1, 3, 2,\n",
              "       3, 1, 5, 3, 1, 2, 4, 4, 5, 5, 5, 1, 2, 3, 2, 5, 0, 2, 4, 2, 5, 4,\n",
              "       3, 0, 1, 2, 5, 2, 1, 2, 4, 5, 4, 1, 5, 5, 3, 1, 5, 3, 2, 4, 2, 5,\n",
              "       0, 5, 0, 5, 4, 0, 2, 4, 0, 2, 2, 0, 2, 3, 5, 3, 5, 5, 3, 1, 2, 2,\n",
              "       2, 1, 3, 2, 1, 3, 4, 4, 1, 1, 2, 4, 4, 1, 4, 2, 0, 4, 5, 5, 3, 1,\n",
              "       2, 1, 5, 5, 1, 2, 3, 3, 0, 3, 3, 0, 1, 0, 1, 2, 1, 5, 1, 2, 2, 0,\n",
              "       1, 1, 1, 1, 1, 4, 0, 1, 5, 1, 4, 5, 5, 4, 1, 0, 3, 5, 2, 3, 0, 4,\n",
              "       1, 3, 1, 0, 5, 5, 3, 5, 4, 5, 4, 0, 4, 1, 2, 1, 5, 0, 4, 3, 2, 1,\n",
              "       0, 3, 5, 0, 4, 5, 4, 5, 4])"
            ]
          },
          "metadata": {},
          "execution_count": 26
        }
      ]
    },
    {
      "cell_type": "code",
      "source": [
        "new_Ytest = y_test.astype(int)"
      ],
      "metadata": {
        "id": "0PHDKWJWDY3g"
      },
      "execution_count": 27,
      "outputs": []
    },
    {
      "cell_type": "code",
      "source": [
        "new_Ytest"
      ],
      "metadata": {
        "colab": {
          "base_uri": "https://localhost:8080/"
        },
        "id": "k68v2i-pDbZE",
        "outputId": "a4f98d6e-5e31-46ac-8985-d1abe78cfc85"
      },
      "execution_count": 28,
      "outputs": [
        {
          "output_type": "execute_result",
          "data": {
            "text/plain": [
              "array([5, 1, 2, 5, 3, 4, 2, 0, 3, 1, 3, 2, 1, 4, 3, 0, 5, 0, 2, 5, 0, 0,\n",
              "       1, 3, 2, 3, 2, 5, 4, 2, 2, 3, 1, 2, 5, 5, 3, 5, 3, 3, 4, 1, 3, 2,\n",
              "       3, 1, 5, 3, 1, 2, 4, 4, 5, 5, 5, 1, 2, 3, 2, 5, 0, 2, 4, 2, 5, 4,\n",
              "       3, 0, 1, 2, 5, 2, 1, 2, 4, 5, 4, 1, 5, 5, 3, 1, 5, 3, 2, 4, 2, 5,\n",
              "       0, 5, 0, 5, 4, 0, 2, 4, 0, 2, 2, 0, 2, 3, 5, 3, 5, 5, 3, 1, 2, 2,\n",
              "       2, 1, 3, 2, 1, 3, 4, 4, 1, 1, 2, 4, 4, 1, 4, 2, 0, 4, 5, 5, 3, 1,\n",
              "       2, 1, 5, 5, 1, 2, 3, 3, 0, 3, 3, 0, 1, 0, 1, 2, 1, 5, 1, 2, 2, 0,\n",
              "       1, 1, 1, 1, 1, 4, 0, 1, 5, 1, 4, 5, 5, 4, 1, 0, 3, 5, 2, 3, 0, 4,\n",
              "       1, 3, 1, 0, 5, 5, 3, 5, 4, 5, 4, 0, 4, 1, 2, 1, 5, 0, 4, 3, 2, 1,\n",
              "       0, 3, 5, 0, 4, 5, 4, 5, 4])"
            ]
          },
          "metadata": {},
          "execution_count": 28
        }
      ]
    },
    {
      "cell_type": "code",
      "source": [
        "preds1=predictions.argmax(axis=1)\n",
        "preds1"
      ],
      "metadata": {
        "colab": {
          "base_uri": "https://localhost:8080/"
        },
        "id": "4_cAI39VFhtp",
        "outputId": "0144ea50-fc2e-43bc-bfad-b5e04029b221"
      },
      "execution_count": 29,
      "outputs": [
        {
          "output_type": "execute_result",
          "data": {
            "text/plain": [
              "array([5, 1, 2, 5, 1, 4, 2, 0, 3, 0, 3, 2, 1, 4, 3, 0, 5, 3, 2, 5, 2, 0,\n",
              "       1, 3, 2, 3, 2, 0, 4, 2, 2, 3, 0, 2, 5, 4, 1, 5, 3, 3, 4, 1, 2, 2,\n",
              "       3, 0, 3, 3, 1, 2, 4, 4, 5, 5, 3, 1, 2, 3, 4, 5, 0, 2, 4, 2, 5, 4,\n",
              "       3, 0, 1, 2, 3, 2, 1, 2, 4, 5, 4, 1, 5, 2, 3, 1, 5, 3, 2, 4, 2, 3,\n",
              "       0, 2, 0, 5, 4, 0, 3, 4, 3, 4, 2, 0, 2, 3, 5, 3, 5, 2, 5, 1, 4, 2,\n",
              "       2, 1, 3, 2, 1, 3, 4, 4, 0, 1, 2, 4, 4, 1, 4, 2, 0, 4, 4, 5, 5, 1,\n",
              "       2, 1, 2, 5, 1, 3, 3, 3, 0, 3, 5, 0, 1, 0, 1, 2, 1, 5, 0, 2, 2, 0,\n",
              "       1, 4, 1, 1, 2, 4, 0, 1, 5, 1, 4, 5, 4, 2, 1, 0, 5, 1, 2, 3, 1, 4,\n",
              "       1, 3, 1, 0, 5, 2, 3, 5, 4, 4, 2, 0, 4, 0, 2, 1, 3, 0, 4, 1, 2, 1,\n",
              "       1, 4, 5, 0, 4, 5, 4, 3, 4])"
            ]
          },
          "metadata": {},
          "execution_count": 29
        }
      ]
    },
    {
      "cell_type": "code",
      "source": [
        "abc = preds1.astype(int).flatten()"
      ],
      "metadata": {
        "id": "H4WEmM60NfQn"
      },
      "execution_count": 30,
      "outputs": []
    },
    {
      "cell_type": "code",
      "source": [
        "from sklearn.metrics import confusion_matrix\n",
        "c = confusion_matrix(new_Ytest, abc) \n",
        "c"
      ],
      "metadata": {
        "colab": {
          "base_uri": "https://localhost:8080/"
        },
        "id": "bKEBeEBlFjB8",
        "outputId": "2e29f51a-7be5-43da-b93f-83d6210e0fd9"
      },
      "execution_count": 31,
      "outputs": [
        {
          "output_type": "execute_result",
          "data": {
            "text/plain": [
              "array([[20,  2,  1,  2,  0,  0],\n",
              "       [ 6, 31,  1,  0,  1,  0],\n",
              "       [ 0,  0, 33,  2,  3,  0],\n",
              "       [ 0,  3,  1, 24,  1,  4],\n",
              "       [ 0,  0,  2,  0, 28,  0],\n",
              "       [ 1,  1,  5,  6,  4, 25]])"
            ]
          },
          "metadata": {},
          "execution_count": 31
        }
      ]
    },
    {
      "cell_type": "code",
      "source": [
        "y_test"
      ],
      "metadata": {
        "colab": {
          "base_uri": "https://localhost:8080/"
        },
        "id": "m4RjG7LWLSQx",
        "outputId": "6306117c-188e-4efd-ed2e-ffe33e71e952"
      },
      "execution_count": 32,
      "outputs": [
        {
          "output_type": "execute_result",
          "data": {
            "text/plain": [
              "array([5, 1, 2, 5, 3, 4, 2, 0, 3, 1, 3, 2, 1, 4, 3, 0, 5, 0, 2, 5, 0, 0,\n",
              "       1, 3, 2, 3, 2, 5, 4, 2, 2, 3, 1, 2, 5, 5, 3, 5, 3, 3, 4, 1, 3, 2,\n",
              "       3, 1, 5, 3, 1, 2, 4, 4, 5, 5, 5, 1, 2, 3, 2, 5, 0, 2, 4, 2, 5, 4,\n",
              "       3, 0, 1, 2, 5, 2, 1, 2, 4, 5, 4, 1, 5, 5, 3, 1, 5, 3, 2, 4, 2, 5,\n",
              "       0, 5, 0, 5, 4, 0, 2, 4, 0, 2, 2, 0, 2, 3, 5, 3, 5, 5, 3, 1, 2, 2,\n",
              "       2, 1, 3, 2, 1, 3, 4, 4, 1, 1, 2, 4, 4, 1, 4, 2, 0, 4, 5, 5, 3, 1,\n",
              "       2, 1, 5, 5, 1, 2, 3, 3, 0, 3, 3, 0, 1, 0, 1, 2, 1, 5, 1, 2, 2, 0,\n",
              "       1, 1, 1, 1, 1, 4, 0, 1, 5, 1, 4, 5, 5, 4, 1, 0, 3, 5, 2, 3, 0, 4,\n",
              "       1, 3, 1, 0, 5, 5, 3, 5, 4, 5, 4, 0, 4, 1, 2, 1, 5, 0, 4, 3, 2, 1,\n",
              "       0, 3, 5, 0, 4, 5, 4, 5, 4])"
            ]
          },
          "metadata": {},
          "execution_count": 32
        }
      ]
    },
    {
      "cell_type": "code",
      "source": [
        "model.save('/content/drive/My Drive/graduation project/audio/paper_code/mariam/original_500 epoch_with_valid_Adam2_3')\n",
        "print(\"MODEL SAVED\")"
      ],
      "metadata": {
        "colab": {
          "base_uri": "https://localhost:8080/"
        },
        "id": "lsJBNeMWDl6Z",
        "outputId": "a63c6fa5-69fa-4a9e-94b3-39bdd79a6bf9"
      },
      "execution_count": 33,
      "outputs": [
        {
          "output_type": "stream",
          "name": "stdout",
          "text": [
            "INFO:tensorflow:Assets written to: /content/drive/My Drive/graduation project/audio/paper_code/mariam/original_500 epoch_with_valid_Adam2_3/assets\n",
            "MODEL SAVED\n"
          ]
        }
      ]
    },
    {
      "cell_type": "code",
      "source": [
        "new_model=keras.models.load_model('/content/drive/My Drive/graduation project/audio/paper_code/mariam/original_500 epoch_with_valid_Adam2_3')\n",
        "new_model.summary()"
      ],
      "metadata": {
        "colab": {
          "base_uri": "https://localhost:8080/"
        },
        "id": "Q3KjaO9GDoNl",
        "outputId": "fa373069-5541-4b54-997b-7ca175e254b8"
      },
      "execution_count": 34,
      "outputs": [
        {
          "output_type": "stream",
          "name": "stdout",
          "text": [
            "Model: \"sequential\"\n",
            "_________________________________________________________________\n",
            " Layer (type)                Output Shape              Param #   \n",
            "=================================================================\n",
            " conv1d (Conv1D)             (None, 40, 128)           1152      \n",
            "                                                                 \n",
            " activation (Activation)     (None, 40, 128)           0         \n",
            "                                                                 \n",
            " dropout (Dropout)           (None, 40, 128)           0         \n",
            "                                                                 \n",
            " max_pooling1d (MaxPooling1D  (None, 8, 128)           0         \n",
            " )                                                               \n",
            "                                                                 \n",
            " conv1d_1 (Conv1D)           (None, 8, 256)            262400    \n",
            "                                                                 \n",
            " activation_1 (Activation)   (None, 8, 256)            0         \n",
            "                                                                 \n",
            " dropout_1 (Dropout)         (None, 8, 256)            0         \n",
            "                                                                 \n",
            " max_pooling1d_1 (MaxPooling  (None, 1, 256)           0         \n",
            " 1D)                                                             \n",
            "                                                                 \n",
            " flatten (Flatten)           (None, 256)               0         \n",
            "                                                                 \n",
            " dense (Dense)               (None, 256)               65792     \n",
            "                                                                 \n",
            " activation_2 (Activation)   (None, 256)               0         \n",
            "                                                                 \n",
            " dense_1 (Dense)             (None, 256)               65792     \n",
            "                                                                 \n",
            " activation_3 (Activation)   (None, 256)               0         \n",
            "                                                                 \n",
            " dense_2 (Dense)             (None, 6)                 1542      \n",
            "                                                                 \n",
            " activation_4 (Activation)   (None, 6)                 0         \n",
            "                                                                 \n",
            "=================================================================\n",
            "Total params: 396,678\n",
            "Trainable params: 396,678\n",
            "Non-trainable params: 0\n",
            "_________________________________________________________________\n"
          ]
        }
      ]
    },
    {
      "cell_type": "code",
      "source": [
        "loss, acc =model.evaluate(x_testcnn, y_test)\n",
        "print(\"Restored model, accuracy: {:5.2f}%\".format(100*acc))"
      ],
      "metadata": {
        "colab": {
          "base_uri": "https://localhost:8080/"
        },
        "id": "n3kzoqPkDqqS",
        "outputId": "c85d5505-7478-4279-e5f1-e5b9edb7eea0"
      },
      "execution_count": 35,
      "outputs": [
        {
          "output_type": "stream",
          "name": "stdout",
          "text": [
            "7/7 [==============================] - 0s 3ms/step - loss: 0.7448 - accuracy: 0.7778\n",
            "Restored model, accuracy: 77.78%\n"
          ]
        }
      ]
    },
    {
      "cell_type": "code",
      "source": [
        "loss, acc =model.evaluate(X_train, y_train)\n",
        "print(\"Restored model train, accuracy: {:5.2f}%\".format(100*acc))"
      ],
      "metadata": {
        "id": "fJDTGH_OUX0z",
        "colab": {
          "base_uri": "https://localhost:8080/"
        },
        "outputId": "85da8a03-4d5d-4472-9d1b-a43ba1750fbe"
      },
      "execution_count": 36,
      "outputs": [
        {
          "output_type": "stream",
          "name": "stdout",
          "text": [
            "52/52 [==============================] - 0s 4ms/step - loss: 0.0508 - accuracy: 0.9891\n",
            "Restored model train, accuracy: 98.91%\n"
          ]
        }
      ]
    },
    {
      "cell_type": "code",
      "source": [
        "from sklearn.metrics import classification_report, confusion_matrix,accuracy_score\n",
        "import seaborn as sn\n",
        "\n",
        "print(classification_report(new_Ytest,abc))\n",
        "\n",
        "acc = float(accuracy_score(new_Ytest,abc))*100\n",
        "print(\"----accuracy score %s ----\" % acc)\n",
        "\n",
        "cm = confusion_matrix(new_Ytest,abc)\n",
        "#df_cm = pd.DataFrame(cm)\n",
        "class_names = ['neutral','calm', 'happy','sad','angry', 'fearful' ]\n",
        "df_cm = pd.DataFrame(cm, index=class_names, columns=class_names,)\n",
        "sn.heatmap(df_cm, annot=True, fmt='')\n",
        "plt.show()"
      ],
      "metadata": {
        "colab": {
          "base_uri": "https://localhost:8080/",
          "height": 517
        },
        "id": "SfSC3El94LZg",
        "outputId": "b87eefbc-4c20-443b-cda1-f90ab6d0300b"
      },
      "execution_count": 37,
      "outputs": [
        {
          "output_type": "stream",
          "name": "stdout",
          "text": [
            "              precision    recall  f1-score   support\n",
            "\n",
            "           0       0.74      0.80      0.77        25\n",
            "           1       0.84      0.79      0.82        39\n",
            "           2       0.77      0.87      0.81        38\n",
            "           3       0.71      0.73      0.72        33\n",
            "           4       0.76      0.93      0.84        30\n",
            "           5       0.86      0.60      0.70        42\n",
            "\n",
            "    accuracy                           0.78       207\n",
            "   macro avg       0.78      0.79      0.78       207\n",
            "weighted avg       0.79      0.78      0.77       207\n",
            "\n",
            "----accuracy score 77.77777777777779 ----\n"
          ]
        },
        {
          "output_type": "display_data",
          "data": {
            "text/plain": [
              "<Figure size 432x288 with 2 Axes>"
            ],
            "image/png": "[encoded data removed]"
          },
          "metadata": {
            "needs_background": "light"
          }
        }
      ]
    },
    {
      "cell_type": "code",
      "source": [
        ""
      ],
      "metadata": {
        "id": "LGpgwFQqkpyU"
      },
      "execution_count": 37,
      "outputs": []
    }
  ]
}