{
  "nbformat": 4,
  "nbformat_minor": 0,
  "metadata": {
    "colab": {
      "name": "original_remove_2_dense_layers_RMS_lr=0_0002_try_1 increase kernal size to 12.ipynb",
      "provenance": [],
      "collapsed_sections": []
    },
    "kernelspec": {
      "name": "python3",
      "display_name": "Python 3"
    },
    "language_info": {
      "name": "python"
    },
    "accelerator": "TPU"
  },
  "cells": [
    {
      "cell_type": "code",
      "execution_count": 1,
      "metadata": {
        "colab": {
          "base_uri": "https://localhost:8080/"
        },
        "id": "9SRCO-a_AlH5",
        "outputId": "8466ac71-9cba-497c-b648-90d41091270d"
      },
      "outputs": [
        {
          "output_type": "stream",
          "name": "stdout",
          "text": [
            "Drive already mounted at /content/drive; to attempt to forcibly remount, call drive.mount(\"/content/drive\", force_remount=True).\n"
          ]
        }
      ],
      "source": [
        "from google.colab import drive\n",
        "drive.mount('/content/drive')"
      ]
    },
    {
      "cell_type": "code",
      "source": [
        "!pip install librosa"
      ],
      "metadata": {
        "colab": {
          "base_uri": "https://localhost:8080/"
        },
        "id": "5Lo4mUwG9RMd",
        "outputId": "77a7aebe-fc98-4090-93c2-23572d6575e4"
      },
      "execution_count": 2,
      "outputs": [
        {
          "output_type": "stream",
          "name": "stdout",
          "text": [
            "Looking in indexes: https://pypi.org/simple, https://us-python.pkg.dev/colab-wheels/public/simple/\n",
            "Requirement already satisfied: librosa in /usr/local/lib/python3.7/dist-packages (0.8.1)\n",
            "Requirement already satisfied: resampy>=0.2.2 in /usr/local/lib/python3.7/dist-packages (from librosa) (0.2.2)\n",
            "Requirement already satisfied: decorator>=3.0.0 in /usr/local/lib/python3.7/dist-packages (from librosa) (4.4.2)\n",
            "Requirement already satisfied: joblib>=0.14 in /usr/local/lib/python3.7/dist-packages (from librosa) (1.1.0)\n",
            "Requirement already satisfied: soundfile>=0.10.2 in /usr/local/lib/python3.7/dist-packages (from librosa) (0.10.3.post1)\n",
            "Requirement already satisfied: scikit-learn!=0.19.0,>=0.14.0 in /usr/local/lib/python3.7/dist-packages (from librosa) (1.0.2)\n",
            "Requirement already satisfied: pooch>=1.0 in /usr/local/lib/python3.7/dist-packages (from librosa) (1.6.0)\n",
            "Requirement already satisfied: scipy>=1.0.0 in /usr/local/lib/python3.7/dist-packages (from librosa) (1.4.1)\n",
            "Requirement already satisfied: numba>=0.43.0 in /usr/local/lib/python3.7/dist-packages (from librosa) (0.51.2)\n",
            "Requirement already satisfied: numpy>=1.15.0 in /usr/local/lib/python3.7/dist-packages (from librosa) (1.21.6)\n",
            "Requirement already satisfied: audioread>=2.0.0 in /usr/local/lib/python3.7/dist-packages (from librosa) (2.1.9)\n",
            "Requirement already satisfied: packaging>=20.0 in /usr/local/lib/python3.7/dist-packages (from librosa) (21.3)\n",
            "Requirement already satisfied: llvmlite<0.35,>=0.34.0.dev0 in /usr/local/lib/python3.7/dist-packages (from numba>=0.43.0->librosa) (0.34.0)\n",
            "Requirement already satisfied: setuptools in /usr/local/lib/python3.7/dist-packages (from numba>=0.43.0->librosa) (57.4.0)\n",
            "Requirement already satisfied: pyparsing!=3.0.5,>=2.0.2 in /usr/local/lib/python3.7/dist-packages (from packaging>=20.0->librosa) (3.0.9)\n",
            "Requirement already satisfied: appdirs>=1.3.0 in /usr/local/lib/python3.7/dist-packages (from pooch>=1.0->librosa) (1.4.4)\n",
            "Requirement already satisfied: requests>=2.19.0 in /usr/local/lib/python3.7/dist-packages (from pooch>=1.0->librosa) (2.23.0)\n",
            "Requirement already satisfied: certifi>=2017.4.17 in /usr/local/lib/python3.7/dist-packages (from requests>=2.19.0->pooch>=1.0->librosa) (2022.5.18.1)\n",
            "Requirement already satisfied: idna<3,>=2.5 in /usr/local/lib/python3.7/dist-packages (from requests>=2.19.0->pooch>=1.0->librosa) (2.10)\n",
            "Requirement already satisfied: urllib3!=1.25.0,!=1.25.1,<1.26,>=1.21.1 in /usr/local/lib/python3.7/dist-packages (from requests>=2.19.0->pooch>=1.0->librosa) (1.24.3)\n",
            "Requirement already satisfied: chardet<4,>=3.0.2 in /usr/local/lib/python3.7/dist-packages (from requests>=2.19.0->pooch>=1.0->librosa) (3.0.4)\n",
            "Requirement already satisfied: six>=1.3 in /usr/local/lib/python3.7/dist-packages (from resampy>=0.2.2->librosa) (1.15.0)\n",
            "Requirement already satisfied: threadpoolctl>=2.0.0 in /usr/local/lib/python3.7/dist-packages (from scikit-learn!=0.19.0,>=0.14.0->librosa) (3.1.0)\n",
            "Requirement already satisfied: cffi>=1.0 in /usr/local/lib/python3.7/dist-packages (from soundfile>=0.10.2->librosa) (1.15.0)\n",
            "Requirement already satisfied: pycparser in /usr/local/lib/python3.7/dist-packages (from cffi>=1.0->soundfile>=0.10.2->librosa) (2.21)\n"
          ]
        }
      ]
    },
    {
      "cell_type": "code",
      "metadata": {
        "id": "HJjcbxwy46bG",
        "colab": {
          "base_uri": "https://localhost:8080/",
          "height": 17
        },
        "outputId": "96c2bc4e-b2da-413f-aafc-b87c06cd17ba"
      },
      "source": [
        "# Orignial Notebook: https://github.com/MITESHPUTHRANNEU/Speech-Emotion-Analyzer/blob/master/final_results_gender_test.ipynb\n",
        "# This notebook author: Reza Chu\n",
        "# Last Editing Date: 31st May 2019\n",
        "\n",
        "## Python\n",
        "import os\n",
        "import random\n",
        "import sys\n",
        "\n",
        "import IPython\n",
        "from IPython.display import Audio\n",
        "from IPython.display import Image\n",
        "import matplotlib.pyplot as plt\n",
        "\n",
        "## Package\n",
        "import glob \n",
        "import keras\n",
        "import IPython.display as ipd\n",
        "import librosa\n",
        "import librosa.display\n",
        "import matplotlib.pyplot as plt\n",
        "import numpy as np\n",
        "import pandas as pd\n",
        "import plotly.graph_objs as go\n",
        "import plotly.offline as py\n",
        "import plotly.tools as tls\n",
        "import seaborn as sns\n",
        "import scipy.io.wavfile\n",
        "import tensorflow as tf\n",
        "py.init_notebook_mode(connected=True)\n",
        "\n",
        "## Keras\n",
        "from keras import regularizers\n",
        "from keras.callbacks import ModelCheckpoint, LearningRateScheduler, EarlyStopping\n",
        "from keras.callbacks import  History, ReduceLROnPlateau, CSVLogger\n",
        "from keras.models import Model, Sequential\n",
        "from keras.layers import Dense, Embedding, LSTM\n",
        "from keras.layers import Input, Flatten, Dropout, Activation, BatchNormalization\n",
        "from keras.layers import Conv1D, MaxPooling1D, AveragePooling1D\n",
        "from keras.preprocessing import sequence\n",
        "from keras.preprocessing.sequence import pad_sequences\n",
        "from keras.preprocessing.text import Tokenizer\n",
        "from keras.utils import np_utils\n",
        "from tensorflow.keras.utils import to_categorical\n",
        "\n",
        "## Sklearn\n",
        "from sklearn.metrics import confusion_matrix\n",
        "from sklearn.preprocessing import LabelEncoder\n",
        "\n",
        "## Rest\n",
        "from scipy.fftpack import fft\n",
        "from scipy import signal\n",
        "from scipy.io import wavfile\n",
        "from tqdm import tqdm\n",
        "\n",
        "input_duration=3\n",
        "# % pylab inline"
      ],
      "execution_count": 3,
      "outputs": [
        {
          "output_type": "display_data",
          "data": {
            "text/html": [
              "        <script type=\"text/javascript\">\n",
              "        window.PlotlyConfig = {MathJaxConfig: 'local'};\n",
              "        if (window.MathJax) {MathJax.Hub.Config({SVG: {font: \"STIX-Web\"}});}\n",
              "        if (typeof require !== 'undefined') {\n",
              "        require.undef(\"plotly\");\n",
              "        requirejs.config({\n",
              "            paths: {\n",
              "                'plotly': ['https://cdn.plot.ly/plotly-2.8.3.min']\n",
              "            }\n",
              "        });\n",
              "        require(['plotly'], function(Plotly) {\n",
              "            window._Plotly = Plotly;\n",
              "        });\n",
              "        }\n",
              "        </script>\n",
              "        "
            ]
          },
          "metadata": {}
        }
      ]
    },
    {
      "cell_type": "code",
      "source": [
        "# # Saving joblib files to not load them again with the loop above\n",
        "\n",
        "# import joblib\n",
        "\n",
        "# X_name = 'x.joblib'\n",
        "# y_name = 'y.joblib'\n",
        "# save_dir = '/content/drive/My Drive/graduation project/audio/paper_code/features'\n",
        "\n",
        "# savedX = joblib.dump(X, os.path.join(save_dir, X_name))\n",
        "# savedy = joblib.dump(y, os.path.join(save_dir, y_name))"
      ],
      "metadata": {
        "id": "UCzic8rlDcuk"
      },
      "execution_count": 4,
      "outputs": []
    },
    {
      "cell_type": "code",
      "source": [
        "# # Loading saved models\n",
        "import joblib\n",
        "X = joblib.load('/content/drive/My Drive/graduation project/audio/paper_code/features/x.joblib')\n",
        "y = joblib.load('/content/drive/My Drive/graduation project/audio/paper_code/features/y.joblib')"
      ],
      "metadata": {
        "id": "Q35CN6zDrzg1"
      },
      "execution_count": 5,
      "outputs": []
    },
    {
      "cell_type": "code",
      "source": [
        "X.shape"
      ],
      "metadata": {
        "id": "7PSTurzjCo5K",
        "colab": {
          "base_uri": "https://localhost:8080/"
        },
        "outputId": "837292b9-f444-417b-8a8f-3fac5c9d38cf"
      },
      "execution_count": 6,
      "outputs": [
        {
          "output_type": "execute_result",
          "data": {
            "text/plain": [
              "(2068, 40)"
            ]
          },
          "metadata": {},
          "execution_count": 6
        }
      ]
    },
    {
      "cell_type": "code",
      "source": [
        "from sklearn.model_selection import train_test_split\n",
        "\n",
        "X_train, X_test, y_train, y_test = train_test_split(X,y, test_size=0.1 ,shuffle = True\n",
        "                                                    , random_state=42)\n",
        "X_train , X_valid, y_train, y_valid = train_test_split(X_train,y_train, test_size=0.1112305212 , shuffle = True \n",
        "                                                       , random_state=42)"
      ],
      "metadata": {
        "id": "Ai4Fy5cPCiq1"
      },
      "execution_count": 7,
      "outputs": []
    },
    {
      "cell_type": "code",
      "source": [
        "import numpy as np\n",
        "x_traincnn = np.expand_dims(X_train, axis=2)\n",
        "x_testcnn = np.expand_dims(X_test, axis=2)\n",
        "X_valid= np.expand_dims(X_valid, axis=2)"
      ],
      "metadata": {
        "id": "tp1Fm5K3CEXu"
      },
      "execution_count": 8,
      "outputs": []
    },
    {
      "cell_type": "code",
      "source": [
        "x_traincnn.shape, x_testcnn.shape , X_valid.shape\n",
        "#1861"
      ],
      "metadata": {
        "id": "RI0MxoIPBws5",
        "colab": {
          "base_uri": "https://localhost:8080/"
        },
        "outputId": "334e5325-4ec3-41ce-c140-0b3a419af532"
      },
      "execution_count": 9,
      "outputs": [
        {
          "output_type": "execute_result",
          "data": {
            "text/plain": [
              "((1654, 40, 1), (207, 40, 1), (207, 40, 1))"
            ]
          },
          "metadata": {},
          "execution_count": 9
        }
      ]
    },
    {
      "cell_type": "code",
      "source": [
        "!pip install tensorflow"
      ],
      "metadata": {
        "id": "oALhiMUd9G2Y",
        "colab": {
          "base_uri": "https://localhost:8080/"
        },
        "outputId": "313cfaf8-f2cd-4f31-9688-87d023e754b8"
      },
      "execution_count": 10,
      "outputs": [
        {
          "output_type": "stream",
          "name": "stdout",
          "text": [
            "Looking in indexes: https://pypi.org/simple, https://us-python.pkg.dev/colab-wheels/public/simple/\n",
            "Requirement already satisfied: tensorflow in /usr/local/lib/python3.7/dist-packages (2.8.2+zzzcolab20220527125636)\n",
            "Requirement already satisfied: grpcio<2.0,>=1.24.3 in /usr/local/lib/python3.7/dist-packages (from tensorflow) (1.46.3)\n",
            "Requirement already satisfied: wrapt>=1.11.0 in /usr/local/lib/python3.7/dist-packages (from tensorflow) (1.14.1)\n",
            "Requirement already satisfied: flatbuffers>=1.12 in /usr/local/lib/python3.7/dist-packages (from tensorflow) (2.0)\n",
            "Requirement already satisfied: absl-py>=0.4.0 in /usr/local/lib/python3.7/dist-packages (from tensorflow) (1.0.0)\n",
            "Requirement already satisfied: numpy>=1.20 in /usr/local/lib/python3.7/dist-packages (from tensorflow) (1.21.6)\n",
            "Requirement already satisfied: keras-preprocessing>=1.1.1 in /usr/local/lib/python3.7/dist-packages (from tensorflow) (1.1.2)\n",
            "Requirement already satisfied: opt-einsum>=2.3.2 in /usr/local/lib/python3.7/dist-packages (from tensorflow) (3.3.0)\n",
            "Requirement already satisfied: typing-extensions>=3.6.6 in /usr/local/lib/python3.7/dist-packages (from tensorflow) (4.2.0)\n",
            "Requirement already satisfied: keras<2.9,>=2.8.0rc0 in /usr/local/lib/python3.7/dist-packages (from tensorflow) (2.8.0)\n",
            "Requirement already satisfied: h5py>=2.9.0 in /usr/local/lib/python3.7/dist-packages (from tensorflow) (3.1.0)\n",
            "Requirement already satisfied: setuptools in /usr/local/lib/python3.7/dist-packages (from tensorflow) (57.4.0)\n",
            "Requirement already satisfied: termcolor>=1.1.0 in /usr/local/lib/python3.7/dist-packages (from tensorflow) (1.1.0)\n",
            "Requirement already satisfied: google-pasta>=0.1.1 in /usr/local/lib/python3.7/dist-packages (from tensorflow) (0.2.0)\n",
            "Requirement already satisfied: tensorflow-io-gcs-filesystem>=0.23.1 in /usr/local/lib/python3.7/dist-packages (from tensorflow) (0.26.0)\n",
            "Requirement already satisfied: six>=1.12.0 in /usr/local/lib/python3.7/dist-packages (from tensorflow) (1.15.0)\n",
            "Requirement already satisfied: gast>=0.2.1 in /usr/local/lib/python3.7/dist-packages (from tensorflow) (0.5.3)\n",
            "Requirement already satisfied: protobuf<3.20,>=3.9.2 in /usr/local/lib/python3.7/dist-packages (from tensorflow) (3.17.3)\n",
            "Requirement already satisfied: tensorboard<2.9,>=2.8 in /usr/local/lib/python3.7/dist-packages (from tensorflow) (2.8.0)\n",
            "Requirement already satisfied: tensorflow-estimator<2.9,>=2.8 in /usr/local/lib/python3.7/dist-packages (from tensorflow) (2.8.0)\n",
            "Requirement already satisfied: libclang>=9.0.1 in /usr/local/lib/python3.7/dist-packages (from tensorflow) (14.0.1)\n",
            "Requirement already satisfied: astunparse>=1.6.0 in /usr/local/lib/python3.7/dist-packages (from tensorflow) (1.6.3)\n",
            "Requirement already satisfied: wheel<1.0,>=0.23.0 in /usr/local/lib/python3.7/dist-packages (from astunparse>=1.6.0->tensorflow) (0.37.1)\n",
            "Requirement already satisfied: cached-property in /usr/local/lib/python3.7/dist-packages (from h5py>=2.9.0->tensorflow) (1.5.2)\n",
            "Requirement already satisfied: google-auth<3,>=1.6.3 in /usr/local/lib/python3.7/dist-packages (from tensorboard<2.9,>=2.8->tensorflow) (1.35.0)\n",
            "Requirement already satisfied: werkzeug>=0.11.15 in /usr/local/lib/python3.7/dist-packages (from tensorboard<2.9,>=2.8->tensorflow) (1.0.1)\n",
            "Requirement already satisfied: google-auth-oauthlib<0.5,>=0.4.1 in /usr/local/lib/python3.7/dist-packages (from tensorboard<2.9,>=2.8->tensorflow) (0.4.6)\n",
            "Requirement already satisfied: markdown>=2.6.8 in /usr/local/lib/python3.7/dist-packages (from tensorboard<2.9,>=2.8->tensorflow) (3.3.7)\n",
            "Requirement already satisfied: requests<3,>=2.21.0 in /usr/local/lib/python3.7/dist-packages (from tensorboard<2.9,>=2.8->tensorflow) (2.23.0)\n",
            "Requirement already satisfied: tensorboard-data-server<0.7.0,>=0.6.0 in /usr/local/lib/python3.7/dist-packages (from tensorboard<2.9,>=2.8->tensorflow) (0.6.1)\n",
            "Requirement already satisfied: tensorboard-plugin-wit>=1.6.0 in /usr/local/lib/python3.7/dist-packages (from tensorboard<2.9,>=2.8->tensorflow) (1.8.1)\n",
            "Requirement already satisfied: pyasn1-modules>=0.2.1 in /usr/local/lib/python3.7/dist-packages (from google-auth<3,>=1.6.3->tensorboard<2.9,>=2.8->tensorflow) (0.2.8)\n",
            "Requirement already satisfied: cachetools<5.0,>=2.0.0 in /usr/local/lib/python3.7/dist-packages (from google-auth<3,>=1.6.3->tensorboard<2.9,>=2.8->tensorflow) (4.2.4)\n",
            "Requirement already satisfied: rsa<5,>=3.1.4 in /usr/local/lib/python3.7/dist-packages (from google-auth<3,>=1.6.3->tensorboard<2.9,>=2.8->tensorflow) (4.8)\n",
            "Requirement already satisfied: requests-oauthlib>=0.7.0 in /usr/local/lib/python3.7/dist-packages (from google-auth-oauthlib<0.5,>=0.4.1->tensorboard<2.9,>=2.8->tensorflow) (1.3.1)\n",
            "Requirement already satisfied: importlib-metadata>=4.4 in /usr/local/lib/python3.7/dist-packages (from markdown>=2.6.8->tensorboard<2.9,>=2.8->tensorflow) (4.11.4)\n",
            "Requirement already satisfied: zipp>=0.5 in /usr/local/lib/python3.7/dist-packages (from importlib-metadata>=4.4->markdown>=2.6.8->tensorboard<2.9,>=2.8->tensorflow) (3.8.0)\n",
            "Requirement already satisfied: pyasn1<0.5.0,>=0.4.6 in /usr/local/lib/python3.7/dist-packages (from pyasn1-modules>=0.2.1->google-auth<3,>=1.6.3->tensorboard<2.9,>=2.8->tensorflow) (0.4.8)\n",
            "Requirement already satisfied: certifi>=2017.4.17 in /usr/local/lib/python3.7/dist-packages (from requests<3,>=2.21.0->tensorboard<2.9,>=2.8->tensorflow) (2022.5.18.1)\n",
            "Requirement already satisfied: idna<3,>=2.5 in /usr/local/lib/python3.7/dist-packages (from requests<3,>=2.21.0->tensorboard<2.9,>=2.8->tensorflow) (2.10)\n",
            "Requirement already satisfied: urllib3!=1.25.0,!=1.25.1,<1.26,>=1.21.1 in /usr/local/lib/python3.7/dist-packages (from requests<3,>=2.21.0->tensorboard<2.9,>=2.8->tensorflow) (1.24.3)\n",
            "Requirement already satisfied: chardet<4,>=3.0.2 in /usr/local/lib/python3.7/dist-packages (from requests<3,>=2.21.0->tensorboard<2.9,>=2.8->tensorflow) (3.0.4)\n",
            "Requirement already satisfied: oauthlib>=3.0.0 in /usr/local/lib/python3.7/dist-packages (from requests-oauthlib>=0.7.0->google-auth-oauthlib<0.5,>=0.4.1->tensorboard<2.9,>=2.8->tensorflow) (3.2.0)\n"
          ]
        }
      ]
    },
    {
      "cell_type": "code",
      "source": [
        "import keras\n",
        "import numpy as np\n",
        "import matplotlib.pyplot as plt\n",
        "import tensorflow as tf\n",
        "from keras.preprocessing import sequence\n",
        "from keras.models import Sequential\n",
        "from keras.layers import Dense, Embedding\n",
        "from tensorflow.keras.utils import to_categorical\n",
        "from keras.layers import Input, Flatten, Dropout, Activation\n",
        "from keras.layers import Conv1D, MaxPooling1D\n",
        "from keras.models import Model\n",
        "from keras.callbacks import ModelCheckpoint\n",
        "from tensorflow.keras import optimizers\n",
        "\n",
        "model = Sequential()\n",
        "\n",
        "model.add(Conv1D(128, 12,padding='same', #classifier.add(Convolution2D(64, (3, 3), padding = 'same', input_shape = (128, 128, 3), activation = 'relu'))\n",
        "                 input_shape=(40,1)))\n",
        "model.add(Activation('relu'))\n",
        "model.add(Dropout(0.3))\n",
        "model.add(MaxPooling1D(pool_size=(5)))\n",
        "\n",
        "\n",
        "model.add(Conv1D(256,12,padding='same',))\n",
        "model.add(Activation('relu'))\n",
        "model.add(Dropout(0.3))\n",
        "model.add(MaxPooling1D(pool_size=(5)))\n",
        "\n",
        "#model.add(MaxPooling1D(pool_size=(5)))\n",
        "\n",
        "model.add(Flatten())\n",
        "\n",
        "\n",
        "\n",
        "model.add(Dense(6))\n",
        "model.add(Activation('softmax'))\n",
        "\n",
        "\n",
        "opt = tf.keras.optimizers.RMSprop(lr=0.0002 , decay=0.0)\n",
        "#opt = tf.keras.optimizers.Adam(lr=0.0002 , decay=0.0)\n",
        "#opt = tf.keras.optimizers.RMSprop(lr=0.0001, rho=0.9, epsilon=1e-07, decay=0.0)\n",
        "#opt = tf.keras.optimizers.SGD(lr=0.001, momentum=0.0, decay=0.0, nesterov=False)"
      ],
      "metadata": {
        "id": "g74fXWVAC4Cr",
        "colab": {
          "base_uri": "https://localhost:8080/"
        },
        "outputId": "1fbfd643-a4dc-4a0c-8406-c0a24a8e7e4c"
      },
      "execution_count": 11,
      "outputs": [
        {
          "output_type": "stream",
          "name": "stderr",
          "text": [
            "/usr/local/lib/python3.7/dist-packages/keras/optimizer_v2/rmsprop.py:130: UserWarning:\n",
            "\n",
            "The `lr` argument is deprecated, use `learning_rate` instead.\n",
            "\n"
          ]
        }
      ]
    },
    {
      "cell_type": "code",
      "source": [
        "model.summary()"
      ],
      "metadata": {
        "id": "H6ukOxAGC_I4",
        "colab": {
          "base_uri": "https://localhost:8080/"
        },
        "outputId": "db8d2666-1c9e-4b18-9aaa-f914e2bd579e"
      },
      "execution_count": 12,
      "outputs": [
        {
          "output_type": "stream",
          "name": "stdout",
          "text": [
            "Model: \"sequential\"\n",
            "_________________________________________________________________\n",
            " Layer (type)                Output Shape              Param #   \n",
            "=================================================================\n",
            " conv1d (Conv1D)             (None, 40, 128)           1664      \n",
            "                                                                 \n",
            " activation (Activation)     (None, 40, 128)           0         \n",
            "                                                                 \n",
            " dropout (Dropout)           (None, 40, 128)           0         \n",
            "                                                                 \n",
            " max_pooling1d (MaxPooling1D  (None, 8, 128)           0         \n",
            " )                                                               \n",
            "                                                                 \n",
            " conv1d_1 (Conv1D)           (None, 8, 256)            393472    \n",
            "                                                                 \n",
            " activation_1 (Activation)   (None, 8, 256)            0         \n",
            "                                                                 \n",
            " dropout_1 (Dropout)         (None, 8, 256)            0         \n",
            "                                                                 \n",
            " max_pooling1d_1 (MaxPooling  (None, 1, 256)           0         \n",
            " 1D)                                                             \n",
            "                                                                 \n",
            " flatten (Flatten)           (None, 256)               0         \n",
            "                                                                 \n",
            " dense (Dense)               (None, 6)                 1542      \n",
            "                                                                 \n",
            " activation_2 (Activation)   (None, 6)                 0         \n",
            "                                                                 \n",
            "=================================================================\n",
            "Total params: 396,678\n",
            "Trainable params: 396,678\n",
            "Non-trainable params: 0\n",
            "_________________________________________________________________\n"
          ]
        }
      ]
    },
    {
      "cell_type": "code",
      "source": [
        "model.compile(loss='sparse_categorical_crossentropy',\n",
        "              optimizer=opt,\n",
        "              metrics=['accuracy'])"
      ],
      "metadata": {
        "id": "AbMlLNk4DCBM"
      },
      "execution_count": 13,
      "outputs": []
    },
    {
      "cell_type": "code",
      "source": [
        "# Create an Instance of Early Stopping Callback.\n",
        "early_stopping_callback = EarlyStopping(monitor = 'val_loss', patience = 100, mode = 'min', restore_best_weights = True)\n",
        "\n",
        "cnnhistory=model.fit(x_traincnn, y_train, batch_size=16, epochs=500 , shuffle = True, \n",
        "                     validation_data=(X_valid, y_valid) , callbacks = [early_stopping_callback])"
      ],
      "metadata": {
        "id": "RI1v2AuADFhy",
        "colab": {
          "base_uri": "https://localhost:8080/"
        },
        "outputId": "882c9d00-efe1-4020-8e1a-17302f738fe8"
      },
      "execution_count": 14,
      "outputs": [
        {
          "output_type": "stream",
          "name": "stdout",
          "text": [
            "Epoch 1/500\n",
            "104/104 [==============================] - 4s 35ms/step - loss: 12.0481 - accuracy: 0.1941 - val_loss: 9.1633 - val_accuracy: 0.1594\n",
            "Epoch 2/500\n",
            "104/104 [==============================] - 4s 34ms/step - loss: 9.3126 - accuracy: 0.1947 - val_loss: 7.7193 - val_accuracy: 0.1932\n",
            "Epoch 3/500\n",
            "104/104 [==============================] - 5s 50ms/step - loss: 7.3210 - accuracy: 0.2219 - val_loss: 8.0039 - val_accuracy: 0.1594\n",
            "Epoch 4/500\n",
            "104/104 [==============================] - 5s 50ms/step - loss: 6.4019 - accuracy: 0.2255 - val_loss: 2.6583 - val_accuracy: 0.2126\n",
            "Epoch 5/500\n",
            "104/104 [==============================] - 5s 50ms/step - loss: 5.3213 - accuracy: 0.2509 - val_loss: 4.2773 - val_accuracy: 0.2609\n",
            "Epoch 6/500\n",
            "104/104 [==============================] - 5s 51ms/step - loss: 4.8066 - accuracy: 0.2370 - val_loss: 1.7151 - val_accuracy: 0.3527\n",
            "Epoch 7/500\n",
            "104/104 [==============================] - 5s 52ms/step - loss: 4.2132 - accuracy: 0.2497 - val_loss: 3.1066 - val_accuracy: 0.2609\n",
            "Epoch 8/500\n",
            "104/104 [==============================] - 6s 53ms/step - loss: 3.7463 - accuracy: 0.2570 - val_loss: 2.9956 - val_accuracy: 0.2415\n",
            "Epoch 9/500\n",
            "104/104 [==============================] - 4s 36ms/step - loss: 3.3344 - accuracy: 0.2866 - val_loss: 2.2406 - val_accuracy: 0.3237\n",
            "Epoch 10/500\n",
            "104/104 [==============================] - 3s 29ms/step - loss: 2.9611 - accuracy: 0.3017 - val_loss: 2.0334 - val_accuracy: 0.2705\n",
            "Epoch 11/500\n",
            "104/104 [==============================] - 3s 29ms/step - loss: 2.8355 - accuracy: 0.3065 - val_loss: 1.8950 - val_accuracy: 0.2754\n",
            "Epoch 12/500\n",
            "104/104 [==============================] - 3s 29ms/step - loss: 2.6087 - accuracy: 0.3023 - val_loss: 1.8131 - val_accuracy: 0.3043\n",
            "Epoch 13/500\n",
            "104/104 [==============================] - 3s 29ms/step - loss: 2.3456 - accuracy: 0.3368 - val_loss: 1.9071 - val_accuracy: 0.3043\n",
            "Epoch 14/500\n",
            "104/104 [==============================] - 3s 28ms/step - loss: 2.2603 - accuracy: 0.3507 - val_loss: 1.6517 - val_accuracy: 0.4058\n",
            "Epoch 15/500\n",
            "104/104 [==============================] - 3s 29ms/step - loss: 2.0763 - accuracy: 0.3603 - val_loss: 2.1363 - val_accuracy: 0.2464\n",
            "Epoch 16/500\n",
            "104/104 [==============================] - 3s 33ms/step - loss: 1.9994 - accuracy: 0.3724 - val_loss: 1.4979 - val_accuracy: 0.4251\n",
            "Epoch 17/500\n",
            "104/104 [==============================] - 3s 30ms/step - loss: 1.8282 - accuracy: 0.3966 - val_loss: 1.4316 - val_accuracy: 0.3913\n",
            "Epoch 18/500\n",
            "104/104 [==============================] - 3s 30ms/step - loss: 1.8268 - accuracy: 0.3888 - val_loss: 1.2269 - val_accuracy: 0.5411\n",
            "Epoch 19/500\n",
            "104/104 [==============================] - 3s 29ms/step - loss: 1.6530 - accuracy: 0.4262 - val_loss: 1.3446 - val_accuracy: 0.4734\n",
            "Epoch 20/500\n",
            "104/104 [==============================] - 3s 29ms/step - loss: 1.5904 - accuracy: 0.4383 - val_loss: 1.3481 - val_accuracy: 0.4493\n",
            "Epoch 21/500\n",
            "104/104 [==============================] - 3s 29ms/step - loss: 1.5205 - accuracy: 0.4420 - val_loss: 1.3237 - val_accuracy: 0.4058\n",
            "Epoch 22/500\n",
            "104/104 [==============================] - 3s 30ms/step - loss: 1.4615 - accuracy: 0.4698 - val_loss: 1.4142 - val_accuracy: 0.4010\n",
            "Epoch 23/500\n",
            "104/104 [==============================] - 3s 30ms/step - loss: 1.4549 - accuracy: 0.4776 - val_loss: 1.1643 - val_accuracy: 0.5604\n",
            "Epoch 24/500\n",
            "104/104 [==============================] - 3s 29ms/step - loss: 1.3352 - accuracy: 0.4994 - val_loss: 1.1378 - val_accuracy: 0.5894\n",
            "Epoch 25/500\n",
            "104/104 [==============================] - 3s 30ms/step - loss: 1.3411 - accuracy: 0.4994 - val_loss: 1.1900 - val_accuracy: 0.5845\n",
            "Epoch 26/500\n",
            "104/104 [==============================] - 3s 30ms/step - loss: 1.2991 - accuracy: 0.5097 - val_loss: 1.1664 - val_accuracy: 0.5507\n",
            "Epoch 27/500\n",
            "104/104 [==============================] - 3s 31ms/step - loss: 1.2761 - accuracy: 0.5290 - val_loss: 1.3013 - val_accuracy: 0.4444\n",
            "Epoch 28/500\n",
            "104/104 [==============================] - 3s 30ms/step - loss: 1.2274 - accuracy: 0.5193 - val_loss: 1.3264 - val_accuracy: 0.4396\n",
            "Epoch 29/500\n",
            "104/104 [==============================] - 3s 30ms/step - loss: 1.2297 - accuracy: 0.5345 - val_loss: 1.1947 - val_accuracy: 0.5024\n",
            "Epoch 30/500\n",
            "104/104 [==============================] - 3s 29ms/step - loss: 1.2000 - accuracy: 0.5490 - val_loss: 1.1041 - val_accuracy: 0.5894\n",
            "Epoch 31/500\n",
            "104/104 [==============================] - 3s 30ms/step - loss: 1.1414 - accuracy: 0.5659 - val_loss: 1.1550 - val_accuracy: 0.5845\n",
            "Epoch 32/500\n",
            "104/104 [==============================] - 3s 30ms/step - loss: 1.1030 - accuracy: 0.5750 - val_loss: 1.0787 - val_accuracy: 0.5894\n",
            "Epoch 33/500\n",
            "104/104 [==============================] - 4s 37ms/step - loss: 1.1089 - accuracy: 0.5744 - val_loss: 1.0290 - val_accuracy: 0.6232\n",
            "Epoch 34/500\n",
            "104/104 [==============================] - 3s 31ms/step - loss: 1.0624 - accuracy: 0.5907 - val_loss: 1.1441 - val_accuracy: 0.4928\n",
            "Epoch 35/500\n",
            "104/104 [==============================] - 4s 38ms/step - loss: 1.0365 - accuracy: 0.6076 - val_loss: 1.0731 - val_accuracy: 0.5797\n",
            "Epoch 36/500\n",
            "104/104 [==============================] - 4s 37ms/step - loss: 1.0075 - accuracy: 0.6040 - val_loss: 0.9753 - val_accuracy: 0.6763\n",
            "Epoch 37/500\n",
            "104/104 [==============================] - 3s 30ms/step - loss: 1.0140 - accuracy: 0.6034 - val_loss: 0.9460 - val_accuracy: 0.6715\n",
            "Epoch 38/500\n",
            "104/104 [==============================] - 3s 30ms/step - loss: 0.9835 - accuracy: 0.6252 - val_loss: 0.9338 - val_accuracy: 0.6763\n",
            "Epoch 39/500\n",
            "104/104 [==============================] - 3s 30ms/step - loss: 0.9779 - accuracy: 0.6197 - val_loss: 0.9568 - val_accuracy: 0.6425\n",
            "Epoch 40/500\n",
            "104/104 [==============================] - 3s 30ms/step - loss: 0.9618 - accuracy: 0.6197 - val_loss: 1.0801 - val_accuracy: 0.5507\n",
            "Epoch 41/500\n",
            "104/104 [==============================] - 3s 31ms/step - loss: 0.9424 - accuracy: 0.6403 - val_loss: 0.9823 - val_accuracy: 0.6522\n",
            "Epoch 42/500\n",
            "104/104 [==============================] - 3s 30ms/step - loss: 0.9218 - accuracy: 0.6469 - val_loss: 0.9176 - val_accuracy: 0.6763\n",
            "Epoch 43/500\n",
            "104/104 [==============================] - 3s 29ms/step - loss: 0.9173 - accuracy: 0.6421 - val_loss: 0.9010 - val_accuracy: 0.6957\n",
            "Epoch 44/500\n",
            "104/104 [==============================] - 3s 29ms/step - loss: 0.8957 - accuracy: 0.6481 - val_loss: 0.9333 - val_accuracy: 0.6425\n",
            "Epoch 45/500\n",
            "104/104 [==============================] - 3s 29ms/step - loss: 0.8914 - accuracy: 0.6560 - val_loss: 1.0372 - val_accuracy: 0.5700\n",
            "Epoch 46/500\n",
            "104/104 [==============================] - 3s 30ms/step - loss: 0.8704 - accuracy: 0.6566 - val_loss: 0.9690 - val_accuracy: 0.5990\n",
            "Epoch 47/500\n",
            "104/104 [==============================] - 3s 29ms/step - loss: 0.8552 - accuracy: 0.6463 - val_loss: 0.8591 - val_accuracy: 0.6860\n",
            "Epoch 48/500\n",
            "104/104 [==============================] - 3s 29ms/step - loss: 0.8313 - accuracy: 0.6663 - val_loss: 0.8246 - val_accuracy: 0.7343\n",
            "Epoch 49/500\n",
            "104/104 [==============================] - 3s 29ms/step - loss: 0.8452 - accuracy: 0.6753 - val_loss: 0.8500 - val_accuracy: 0.6860\n",
            "Epoch 50/500\n",
            "104/104 [==============================] - 3s 28ms/step - loss: 0.8406 - accuracy: 0.6741 - val_loss: 0.8660 - val_accuracy: 0.7053\n",
            "Epoch 51/500\n",
            "104/104 [==============================] - 3s 30ms/step - loss: 0.7996 - accuracy: 0.6917 - val_loss: 0.8589 - val_accuracy: 0.6860\n",
            "Epoch 52/500\n",
            "104/104 [==============================] - 3s 29ms/step - loss: 0.8167 - accuracy: 0.6904 - val_loss: 0.8561 - val_accuracy: 0.6763\n",
            "Epoch 53/500\n",
            "104/104 [==============================] - 3s 29ms/step - loss: 0.7973 - accuracy: 0.6886 - val_loss: 0.9130 - val_accuracy: 0.6329\n",
            "Epoch 54/500\n",
            "104/104 [==============================] - 3s 29ms/step - loss: 0.7996 - accuracy: 0.6868 - val_loss: 0.8476 - val_accuracy: 0.7101\n",
            "Epoch 55/500\n",
            "104/104 [==============================] - 3s 29ms/step - loss: 0.7802 - accuracy: 0.7037 - val_loss: 0.9878 - val_accuracy: 0.5604\n",
            "Epoch 56/500\n",
            "104/104 [==============================] - 3s 29ms/step - loss: 0.7760 - accuracy: 0.6929 - val_loss: 0.8790 - val_accuracy: 0.6618\n",
            "Epoch 57/500\n",
            "104/104 [==============================] - 3s 29ms/step - loss: 0.7839 - accuracy: 0.6983 - val_loss: 0.8240 - val_accuracy: 0.6957\n",
            "Epoch 58/500\n",
            "104/104 [==============================] - 3s 29ms/step - loss: 0.7598 - accuracy: 0.7037 - val_loss: 0.7774 - val_accuracy: 0.7536\n",
            "Epoch 59/500\n",
            "104/104 [==============================] - 3s 30ms/step - loss: 0.7462 - accuracy: 0.7116 - val_loss: 0.8102 - val_accuracy: 0.6860\n",
            "Epoch 60/500\n",
            "104/104 [==============================] - 3s 29ms/step - loss: 0.7405 - accuracy: 0.7219 - val_loss: 0.7509 - val_accuracy: 0.7343\n",
            "Epoch 61/500\n",
            "104/104 [==============================] - 3s 29ms/step - loss: 0.7570 - accuracy: 0.7122 - val_loss: 0.8009 - val_accuracy: 0.6908\n",
            "Epoch 62/500\n",
            "104/104 [==============================] - 3s 30ms/step - loss: 0.7189 - accuracy: 0.7279 - val_loss: 0.7619 - val_accuracy: 0.7440\n",
            "Epoch 63/500\n",
            "104/104 [==============================] - 3s 29ms/step - loss: 0.6977 - accuracy: 0.7164 - val_loss: 0.8450 - val_accuracy: 0.6667\n",
            "Epoch 64/500\n",
            "104/104 [==============================] - 3s 29ms/step - loss: 0.7115 - accuracy: 0.7285 - val_loss: 0.8002 - val_accuracy: 0.6908\n",
            "Epoch 65/500\n",
            "104/104 [==============================] - 3s 29ms/step - loss: 0.7129 - accuracy: 0.7183 - val_loss: 0.7612 - val_accuracy: 0.7295\n",
            "Epoch 66/500\n",
            "104/104 [==============================] - 3s 29ms/step - loss: 0.7054 - accuracy: 0.7279 - val_loss: 0.8225 - val_accuracy: 0.7053\n",
            "Epoch 67/500\n",
            "104/104 [==============================] - 3s 30ms/step - loss: 0.6732 - accuracy: 0.7382 - val_loss: 0.9217 - val_accuracy: 0.6329\n",
            "Epoch 68/500\n",
            "104/104 [==============================] - 3s 29ms/step - loss: 0.7069 - accuracy: 0.7267 - val_loss: 0.7403 - val_accuracy: 0.7150\n",
            "Epoch 69/500\n",
            "104/104 [==============================] - 3s 29ms/step - loss: 0.6614 - accuracy: 0.7545 - val_loss: 0.8558 - val_accuracy: 0.6667\n",
            "Epoch 70/500\n",
            "104/104 [==============================] - 3s 28ms/step - loss: 0.6492 - accuracy: 0.7503 - val_loss: 0.7243 - val_accuracy: 0.7633\n",
            "Epoch 71/500\n",
            "104/104 [==============================] - 3s 29ms/step - loss: 0.6633 - accuracy: 0.7388 - val_loss: 0.7629 - val_accuracy: 0.7536\n",
            "Epoch 72/500\n",
            "104/104 [==============================] - 3s 29ms/step - loss: 0.6601 - accuracy: 0.7388 - val_loss: 0.8682 - val_accuracy: 0.6860\n",
            "Epoch 73/500\n",
            "104/104 [==============================] - 3s 30ms/step - loss: 0.6525 - accuracy: 0.7557 - val_loss: 0.8041 - val_accuracy: 0.6860\n",
            "Epoch 74/500\n",
            "104/104 [==============================] - 3s 29ms/step - loss: 0.6356 - accuracy: 0.7576 - val_loss: 0.7900 - val_accuracy: 0.7101\n",
            "Epoch 75/500\n",
            "104/104 [==============================] - 3s 29ms/step - loss: 0.6276 - accuracy: 0.7533 - val_loss: 0.8152 - val_accuracy: 0.6908\n",
            "Epoch 76/500\n",
            "104/104 [==============================] - 3s 29ms/step - loss: 0.6181 - accuracy: 0.7612 - val_loss: 0.7272 - val_accuracy: 0.7440\n",
            "Epoch 77/500\n",
            "104/104 [==============================] - 3s 30ms/step - loss: 0.6333 - accuracy: 0.7491 - val_loss: 0.8277 - val_accuracy: 0.6715\n",
            "Epoch 78/500\n",
            "104/104 [==============================] - 3s 31ms/step - loss: 0.5812 - accuracy: 0.7751 - val_loss: 0.8175 - val_accuracy: 0.6957\n",
            "Epoch 79/500\n",
            "104/104 [==============================] - 3s 30ms/step - loss: 0.6289 - accuracy: 0.7612 - val_loss: 0.8954 - val_accuracy: 0.6522\n",
            "Epoch 80/500\n",
            "104/104 [==============================] - 3s 29ms/step - loss: 0.5844 - accuracy: 0.7817 - val_loss: 0.7193 - val_accuracy: 0.7391\n",
            "Epoch 81/500\n",
            "104/104 [==============================] - 3s 29ms/step - loss: 0.5741 - accuracy: 0.7781 - val_loss: 0.7767 - val_accuracy: 0.7101\n",
            "Epoch 82/500\n",
            "104/104 [==============================] - 3s 29ms/step - loss: 0.5944 - accuracy: 0.7703 - val_loss: 0.6739 - val_accuracy: 0.7729\n",
            "Epoch 83/500\n",
            "104/104 [==============================] - 3s 30ms/step - loss: 0.5630 - accuracy: 0.7872 - val_loss: 0.7255 - val_accuracy: 0.7391\n",
            "Epoch 84/500\n",
            "104/104 [==============================] - 3s 29ms/step - loss: 0.5681 - accuracy: 0.7836 - val_loss: 0.7257 - val_accuracy: 0.7343\n",
            "Epoch 85/500\n",
            "104/104 [==============================] - 3s 29ms/step - loss: 0.5675 - accuracy: 0.7848 - val_loss: 0.6432 - val_accuracy: 0.7729\n",
            "Epoch 86/500\n",
            "104/104 [==============================] - 3s 29ms/step - loss: 0.5346 - accuracy: 0.7981 - val_loss: 0.7191 - val_accuracy: 0.7536\n",
            "Epoch 87/500\n",
            "104/104 [==============================] - 3s 29ms/step - loss: 0.5429 - accuracy: 0.7902 - val_loss: 0.6676 - val_accuracy: 0.7729\n",
            "Epoch 88/500\n",
            "104/104 [==============================] - 3s 29ms/step - loss: 0.5447 - accuracy: 0.7963 - val_loss: 0.7354 - val_accuracy: 0.7198\n",
            "Epoch 89/500\n",
            "104/104 [==============================] - 3s 29ms/step - loss: 0.5323 - accuracy: 0.7866 - val_loss: 0.6788 - val_accuracy: 0.7681\n",
            "Epoch 90/500\n",
            "104/104 [==============================] - 3s 29ms/step - loss: 0.5501 - accuracy: 0.7926 - val_loss: 0.6309 - val_accuracy: 0.7681\n",
            "Epoch 91/500\n",
            "104/104 [==============================] - 3s 29ms/step - loss: 0.5205 - accuracy: 0.7950 - val_loss: 0.7068 - val_accuracy: 0.7198\n",
            "Epoch 92/500\n",
            "104/104 [==============================] - 3s 30ms/step - loss: 0.5201 - accuracy: 0.8029 - val_loss: 0.6826 - val_accuracy: 0.7440\n",
            "Epoch 93/500\n",
            "104/104 [==============================] - 3s 29ms/step - loss: 0.5128 - accuracy: 0.8005 - val_loss: 0.6662 - val_accuracy: 0.7585\n",
            "Epoch 94/500\n",
            "104/104 [==============================] - 3s 29ms/step - loss: 0.5089 - accuracy: 0.8126 - val_loss: 0.6892 - val_accuracy: 0.7536\n",
            "Epoch 95/500\n",
            "104/104 [==============================] - 3s 29ms/step - loss: 0.5206 - accuracy: 0.7981 - val_loss: 0.6768 - val_accuracy: 0.7440\n",
            "Epoch 96/500\n",
            "104/104 [==============================] - 3s 29ms/step - loss: 0.5034 - accuracy: 0.8096 - val_loss: 0.6563 - val_accuracy: 0.7536\n",
            "Epoch 97/500\n",
            "104/104 [==============================] - 3s 29ms/step - loss: 0.5185 - accuracy: 0.8059 - val_loss: 0.7637 - val_accuracy: 0.6957\n",
            "Epoch 98/500\n",
            "104/104 [==============================] - 3s 29ms/step - loss: 0.5015 - accuracy: 0.8071 - val_loss: 0.7451 - val_accuracy: 0.7053\n",
            "Epoch 99/500\n",
            "104/104 [==============================] - 3s 29ms/step - loss: 0.4825 - accuracy: 0.8138 - val_loss: 0.6635 - val_accuracy: 0.7488\n",
            "Epoch 100/500\n",
            "104/104 [==============================] - 3s 29ms/step - loss: 0.4954 - accuracy: 0.8132 - val_loss: 0.6681 - val_accuracy: 0.7633\n",
            "Epoch 101/500\n",
            "104/104 [==============================] - 3s 28ms/step - loss: 0.4907 - accuracy: 0.8047 - val_loss: 0.6437 - val_accuracy: 0.7585\n",
            "Epoch 102/500\n",
            "104/104 [==============================] - 3s 29ms/step - loss: 0.5097 - accuracy: 0.8114 - val_loss: 0.8181 - val_accuracy: 0.6522\n",
            "Epoch 103/500\n",
            "104/104 [==============================] - 3s 29ms/step - loss: 0.4741 - accuracy: 0.8150 - val_loss: 0.7107 - val_accuracy: 0.7343\n",
            "Epoch 104/500\n",
            "104/104 [==============================] - 3s 29ms/step - loss: 0.4521 - accuracy: 0.8174 - val_loss: 0.6770 - val_accuracy: 0.7729\n",
            "Epoch 105/500\n",
            "104/104 [==============================] - 3s 29ms/step - loss: 0.4696 - accuracy: 0.8156 - val_loss: 0.6241 - val_accuracy: 0.7633\n",
            "Epoch 106/500\n",
            "104/104 [==============================] - 3s 29ms/step - loss: 0.4463 - accuracy: 0.8374 - val_loss: 0.7002 - val_accuracy: 0.7198\n",
            "Epoch 107/500\n",
            "104/104 [==============================] - 3s 29ms/step - loss: 0.4599 - accuracy: 0.8259 - val_loss: 0.6500 - val_accuracy: 0.7681\n",
            "Epoch 108/500\n",
            "104/104 [==============================] - 3s 29ms/step - loss: 0.4404 - accuracy: 0.8271 - val_loss: 0.6691 - val_accuracy: 0.7536\n",
            "Epoch 109/500\n",
            "104/104 [==============================] - 3s 29ms/step - loss: 0.4522 - accuracy: 0.8404 - val_loss: 0.7800 - val_accuracy: 0.7198\n",
            "Epoch 110/500\n",
            "104/104 [==============================] - 3s 29ms/step - loss: 0.4290 - accuracy: 0.8386 - val_loss: 0.6122 - val_accuracy: 0.7778\n",
            "Epoch 111/500\n",
            "104/104 [==============================] - 3s 29ms/step - loss: 0.4210 - accuracy: 0.8374 - val_loss: 0.6302 - val_accuracy: 0.7585\n",
            "Epoch 112/500\n",
            "104/104 [==============================] - 3s 29ms/step - loss: 0.4287 - accuracy: 0.8368 - val_loss: 0.6138 - val_accuracy: 0.7633\n",
            "Epoch 113/500\n",
            "104/104 [==============================] - 3s 29ms/step - loss: 0.4414 - accuracy: 0.8283 - val_loss: 0.6496 - val_accuracy: 0.7488\n",
            "Epoch 114/500\n",
            "104/104 [==============================] - 3s 29ms/step - loss: 0.4305 - accuracy: 0.8343 - val_loss: 0.5842 - val_accuracy: 0.7681\n",
            "Epoch 115/500\n",
            "104/104 [==============================] - 3s 29ms/step - loss: 0.4281 - accuracy: 0.8404 - val_loss: 0.6405 - val_accuracy: 0.7295\n",
            "Epoch 116/500\n",
            "104/104 [==============================] - 3s 30ms/step - loss: 0.4031 - accuracy: 0.8561 - val_loss: 0.5938 - val_accuracy: 0.7923\n",
            "Epoch 117/500\n",
            "104/104 [==============================] - 3s 29ms/step - loss: 0.4002 - accuracy: 0.8525 - val_loss: 0.6228 - val_accuracy: 0.7729\n",
            "Epoch 118/500\n",
            "104/104 [==============================] - 3s 29ms/step - loss: 0.3886 - accuracy: 0.8555 - val_loss: 0.6526 - val_accuracy: 0.7681\n",
            "Epoch 119/500\n",
            "104/104 [==============================] - 3s 29ms/step - loss: 0.4214 - accuracy: 0.8416 - val_loss: 0.6559 - val_accuracy: 0.7874\n",
            "Epoch 120/500\n",
            "104/104 [==============================] - 3s 29ms/step - loss: 0.4111 - accuracy: 0.8519 - val_loss: 0.6998 - val_accuracy: 0.7440\n",
            "Epoch 121/500\n",
            "104/104 [==============================] - 3s 30ms/step - loss: 0.4049 - accuracy: 0.8464 - val_loss: 0.6806 - val_accuracy: 0.7536\n",
            "Epoch 122/500\n",
            "104/104 [==============================] - 3s 30ms/step - loss: 0.3868 - accuracy: 0.8597 - val_loss: 0.6765 - val_accuracy: 0.7440\n",
            "Epoch 123/500\n",
            "104/104 [==============================] - 3s 30ms/step - loss: 0.3840 - accuracy: 0.8579 - val_loss: 0.6032 - val_accuracy: 0.7826\n",
            "Epoch 124/500\n",
            "104/104 [==============================] - 3s 29ms/step - loss: 0.3916 - accuracy: 0.8597 - val_loss: 0.5774 - val_accuracy: 0.7971\n",
            "Epoch 125/500\n",
            "104/104 [==============================] - 3s 29ms/step - loss: 0.3895 - accuracy: 0.8567 - val_loss: 0.6091 - val_accuracy: 0.7874\n",
            "Epoch 126/500\n",
            "104/104 [==============================] - 3s 29ms/step - loss: 0.3811 - accuracy: 0.8567 - val_loss: 0.7768 - val_accuracy: 0.7101\n",
            "Epoch 127/500\n",
            "104/104 [==============================] - 3s 29ms/step - loss: 0.3706 - accuracy: 0.8670 - val_loss: 0.6544 - val_accuracy: 0.7536\n",
            "Epoch 128/500\n",
            "104/104 [==============================] - 3s 29ms/step - loss: 0.3725 - accuracy: 0.8622 - val_loss: 0.6851 - val_accuracy: 0.7488\n",
            "Epoch 129/500\n",
            "104/104 [==============================] - 3s 29ms/step - loss: 0.3594 - accuracy: 0.8664 - val_loss: 0.6076 - val_accuracy: 0.7826\n",
            "Epoch 130/500\n",
            "104/104 [==============================] - 3s 29ms/step - loss: 0.3790 - accuracy: 0.8531 - val_loss: 0.6066 - val_accuracy: 0.7729\n",
            "Epoch 131/500\n",
            "104/104 [==============================] - 3s 29ms/step - loss: 0.3660 - accuracy: 0.8640 - val_loss: 0.6639 - val_accuracy: 0.7488\n",
            "Epoch 132/500\n",
            "104/104 [==============================] - 3s 29ms/step - loss: 0.3763 - accuracy: 0.8628 - val_loss: 0.6361 - val_accuracy: 0.7585\n",
            "Epoch 133/500\n",
            "104/104 [==============================] - 3s 29ms/step - loss: 0.3654 - accuracy: 0.8676 - val_loss: 0.5770 - val_accuracy: 0.7681\n",
            "Epoch 134/500\n",
            "104/104 [==============================] - 3s 29ms/step - loss: 0.3476 - accuracy: 0.8785 - val_loss: 0.6246 - val_accuracy: 0.7633\n",
            "Epoch 135/500\n",
            "104/104 [==============================] - 3s 29ms/step - loss: 0.3748 - accuracy: 0.8615 - val_loss: 0.6824 - val_accuracy: 0.7295\n",
            "Epoch 136/500\n",
            "104/104 [==============================] - 3s 29ms/step - loss: 0.3697 - accuracy: 0.8603 - val_loss: 0.6020 - val_accuracy: 0.7971\n",
            "Epoch 137/500\n",
            "104/104 [==============================] - 3s 29ms/step - loss: 0.3286 - accuracy: 0.8724 - val_loss: 0.6957 - val_accuracy: 0.7343\n",
            "Epoch 138/500\n",
            "104/104 [==============================] - 3s 29ms/step - loss: 0.3484 - accuracy: 0.8779 - val_loss: 0.5613 - val_accuracy: 0.8068\n",
            "Epoch 139/500\n",
            "104/104 [==============================] - 3s 29ms/step - loss: 0.3255 - accuracy: 0.8815 - val_loss: 0.6559 - val_accuracy: 0.7585\n",
            "Epoch 140/500\n",
            "104/104 [==============================] - 3s 29ms/step - loss: 0.3365 - accuracy: 0.8845 - val_loss: 0.6287 - val_accuracy: 0.7440\n",
            "Epoch 141/500\n",
            "104/104 [==============================] - 3s 29ms/step - loss: 0.3191 - accuracy: 0.8748 - val_loss: 0.6110 - val_accuracy: 0.7778\n",
            "Epoch 142/500\n",
            "104/104 [==============================] - 3s 29ms/step - loss: 0.3517 - accuracy: 0.8742 - val_loss: 0.6542 - val_accuracy: 0.7923\n",
            "Epoch 143/500\n",
            "104/104 [==============================] - 3s 29ms/step - loss: 0.3265 - accuracy: 0.8682 - val_loss: 0.5690 - val_accuracy: 0.7923\n",
            "Epoch 144/500\n",
            "104/104 [==============================] - 3s 29ms/step - loss: 0.3038 - accuracy: 0.8875 - val_loss: 0.5810 - val_accuracy: 0.7874\n",
            "Epoch 145/500\n",
            "104/104 [==============================] - 3s 29ms/step - loss: 0.3063 - accuracy: 0.8894 - val_loss: 0.6297 - val_accuracy: 0.7681\n",
            "Epoch 146/500\n",
            "104/104 [==============================] - 3s 29ms/step - loss: 0.3142 - accuracy: 0.8827 - val_loss: 0.6688 - val_accuracy: 0.7295\n",
            "Epoch 147/500\n",
            "104/104 [==============================] - 3s 29ms/step - loss: 0.3268 - accuracy: 0.8779 - val_loss: 0.6020 - val_accuracy: 0.7923\n",
            "Epoch 148/500\n",
            "104/104 [==============================] - 3s 29ms/step - loss: 0.3090 - accuracy: 0.8827 - val_loss: 0.6525 - val_accuracy: 0.7826\n",
            "Epoch 149/500\n",
            "104/104 [==============================] - 3s 29ms/step - loss: 0.3255 - accuracy: 0.8821 - val_loss: 0.6133 - val_accuracy: 0.7729\n",
            "Epoch 150/500\n",
            "104/104 [==============================] - 3s 29ms/step - loss: 0.3280 - accuracy: 0.8791 - val_loss: 0.5566 - val_accuracy: 0.7971\n",
            "Epoch 151/500\n",
            "104/104 [==============================] - 3s 29ms/step - loss: 0.3169 - accuracy: 0.8888 - val_loss: 0.6677 - val_accuracy: 0.7391\n",
            "Epoch 152/500\n",
            "104/104 [==============================] - 3s 29ms/step - loss: 0.3083 - accuracy: 0.8791 - val_loss: 0.5815 - val_accuracy: 0.7874\n",
            "Epoch 153/500\n",
            "104/104 [==============================] - 3s 29ms/step - loss: 0.3124 - accuracy: 0.8809 - val_loss: 0.5908 - val_accuracy: 0.7826\n",
            "Epoch 154/500\n",
            "104/104 [==============================] - 3s 29ms/step - loss: 0.3189 - accuracy: 0.8845 - val_loss: 0.6251 - val_accuracy: 0.7874\n",
            "Epoch 155/500\n",
            "104/104 [==============================] - 3s 29ms/step - loss: 0.2754 - accuracy: 0.8906 - val_loss: 0.5582 - val_accuracy: 0.7971\n",
            "Epoch 156/500\n",
            "104/104 [==============================] - 3s 29ms/step - loss: 0.2716 - accuracy: 0.9051 - val_loss: 0.5565 - val_accuracy: 0.8213\n",
            "Epoch 157/500\n",
            "104/104 [==============================] - 3s 29ms/step - loss: 0.2789 - accuracy: 0.8918 - val_loss: 0.5921 - val_accuracy: 0.7681\n",
            "Epoch 158/500\n",
            "104/104 [==============================] - 3s 29ms/step - loss: 0.2832 - accuracy: 0.8972 - val_loss: 0.6515 - val_accuracy: 0.7729\n",
            "Epoch 159/500\n",
            "104/104 [==============================] - 3s 29ms/step - loss: 0.2943 - accuracy: 0.8900 - val_loss: 0.5376 - val_accuracy: 0.8164\n",
            "Epoch 160/500\n",
            "104/104 [==============================] - 3s 29ms/step - loss: 0.2899 - accuracy: 0.8863 - val_loss: 0.5893 - val_accuracy: 0.7874\n",
            "Epoch 161/500\n",
            "104/104 [==============================] - 3s 30ms/step - loss: 0.2903 - accuracy: 0.8942 - val_loss: 0.6869 - val_accuracy: 0.7488\n",
            "Epoch 162/500\n",
            "104/104 [==============================] - 3s 30ms/step - loss: 0.2765 - accuracy: 0.8996 - val_loss: 0.6256 - val_accuracy: 0.7971\n",
            "Epoch 163/500\n",
            "104/104 [==============================] - 3s 30ms/step - loss: 0.2856 - accuracy: 0.8857 - val_loss: 0.5633 - val_accuracy: 0.8068\n",
            "Epoch 164/500\n",
            "104/104 [==============================] - 3s 30ms/step - loss: 0.2778 - accuracy: 0.8900 - val_loss: 0.5259 - val_accuracy: 0.8116\n",
            "Epoch 165/500\n",
            "104/104 [==============================] - 3s 29ms/step - loss: 0.2794 - accuracy: 0.9021 - val_loss: 0.5556 - val_accuracy: 0.8116\n",
            "Epoch 166/500\n",
            "104/104 [==============================] - 3s 29ms/step - loss: 0.2645 - accuracy: 0.8966 - val_loss: 0.5365 - val_accuracy: 0.8116\n",
            "Epoch 167/500\n",
            "104/104 [==============================] - 3s 29ms/step - loss: 0.2575 - accuracy: 0.9015 - val_loss: 0.5950 - val_accuracy: 0.7923\n",
            "Epoch 168/500\n",
            "104/104 [==============================] - 3s 29ms/step - loss: 0.2674 - accuracy: 0.9002 - val_loss: 0.5704 - val_accuracy: 0.7874\n",
            "Epoch 169/500\n",
            "104/104 [==============================] - 3s 29ms/step - loss: 0.2861 - accuracy: 0.8954 - val_loss: 0.5909 - val_accuracy: 0.7874\n",
            "Epoch 170/500\n",
            "104/104 [==============================] - 3s 29ms/step - loss: 0.2681 - accuracy: 0.8978 - val_loss: 0.5764 - val_accuracy: 0.7874\n",
            "Epoch 171/500\n",
            "104/104 [==============================] - 3s 29ms/step - loss: 0.2641 - accuracy: 0.8996 - val_loss: 0.5767 - val_accuracy: 0.7874\n",
            "Epoch 172/500\n",
            "104/104 [==============================] - 3s 29ms/step - loss: 0.2583 - accuracy: 0.9015 - val_loss: 0.6628 - val_accuracy: 0.7536\n",
            "Epoch 173/500\n",
            "104/104 [==============================] - 3s 29ms/step - loss: 0.2653 - accuracy: 0.8984 - val_loss: 0.6247 - val_accuracy: 0.7923\n",
            "Epoch 174/500\n",
            "104/104 [==============================] - 3s 30ms/step - loss: 0.2708 - accuracy: 0.8966 - val_loss: 0.5368 - val_accuracy: 0.8213\n",
            "Epoch 175/500\n",
            "104/104 [==============================] - 3s 30ms/step - loss: 0.2447 - accuracy: 0.9123 - val_loss: 0.6487 - val_accuracy: 0.7343\n",
            "Epoch 176/500\n",
            "104/104 [==============================] - 3s 30ms/step - loss: 0.2504 - accuracy: 0.9141 - val_loss: 0.6784 - val_accuracy: 0.7681\n",
            "Epoch 177/500\n",
            "104/104 [==============================] - 3s 29ms/step - loss: 0.2343 - accuracy: 0.9105 - val_loss: 0.5563 - val_accuracy: 0.7971\n",
            "Epoch 178/500\n",
            "104/104 [==============================] - 3s 29ms/step - loss: 0.2264 - accuracy: 0.9111 - val_loss: 0.6574 - val_accuracy: 0.7585\n",
            "Epoch 179/500\n",
            "104/104 [==============================] - 3s 29ms/step - loss: 0.2550 - accuracy: 0.9027 - val_loss: 0.6419 - val_accuracy: 0.7874\n",
            "Epoch 180/500\n",
            "104/104 [==============================] - 3s 29ms/step - loss: 0.2556 - accuracy: 0.9015 - val_loss: 0.5646 - val_accuracy: 0.8261\n",
            "Epoch 181/500\n",
            "104/104 [==============================] - 3s 29ms/step - loss: 0.2482 - accuracy: 0.9160 - val_loss: 0.5703 - val_accuracy: 0.8164\n",
            "Epoch 182/500\n",
            "104/104 [==============================] - 3s 29ms/step - loss: 0.2639 - accuracy: 0.9105 - val_loss: 0.5556 - val_accuracy: 0.8164\n",
            "Epoch 183/500\n",
            "104/104 [==============================] - 3s 29ms/step - loss: 0.2505 - accuracy: 0.9027 - val_loss: 0.6536 - val_accuracy: 0.7923\n",
            "Epoch 184/500\n",
            "104/104 [==============================] - 3s 29ms/step - loss: 0.2712 - accuracy: 0.8966 - val_loss: 0.6536 - val_accuracy: 0.7971\n",
            "Epoch 185/500\n",
            "104/104 [==============================] - 3s 30ms/step - loss: 0.2192 - accuracy: 0.9244 - val_loss: 0.6085 - val_accuracy: 0.7874\n",
            "Epoch 186/500\n",
            "104/104 [==============================] - 3s 29ms/step - loss: 0.2421 - accuracy: 0.9057 - val_loss: 0.6538 - val_accuracy: 0.7923\n",
            "Epoch 187/500\n",
            "104/104 [==============================] - 3s 29ms/step - loss: 0.2379 - accuracy: 0.9105 - val_loss: 0.5766 - val_accuracy: 0.8213\n",
            "Epoch 188/500\n",
            "104/104 [==============================] - 3s 29ms/step - loss: 0.2275 - accuracy: 0.9135 - val_loss: 0.5531 - val_accuracy: 0.7874\n",
            "Epoch 189/500\n",
            "104/104 [==============================] - 3s 29ms/step - loss: 0.2376 - accuracy: 0.9057 - val_loss: 0.6322 - val_accuracy: 0.8068\n",
            "Epoch 190/500\n",
            "104/104 [==============================] - 3s 29ms/step - loss: 0.2441 - accuracy: 0.9129 - val_loss: 0.7031 - val_accuracy: 0.7729\n",
            "Epoch 191/500\n",
            "104/104 [==============================] - 3s 29ms/step - loss: 0.2372 - accuracy: 0.9099 - val_loss: 0.6540 - val_accuracy: 0.7729\n",
            "Epoch 192/500\n",
            "104/104 [==============================] - 3s 29ms/step - loss: 0.2413 - accuracy: 0.9129 - val_loss: 0.5821 - val_accuracy: 0.7874\n",
            "Epoch 193/500\n",
            "104/104 [==============================] - 3s 29ms/step - loss: 0.2085 - accuracy: 0.9262 - val_loss: 0.5643 - val_accuracy: 0.8019\n",
            "Epoch 194/500\n",
            "104/104 [==============================] - 3s 29ms/step - loss: 0.2304 - accuracy: 0.9196 - val_loss: 0.5574 - val_accuracy: 0.7826\n",
            "Epoch 195/500\n",
            "104/104 [==============================] - 3s 29ms/step - loss: 0.2301 - accuracy: 0.9166 - val_loss: 0.5810 - val_accuracy: 0.8019\n",
            "Epoch 196/500\n",
            "104/104 [==============================] - 3s 29ms/step - loss: 0.2499 - accuracy: 0.9087 - val_loss: 0.5752 - val_accuracy: 0.8116\n",
            "Epoch 197/500\n",
            "104/104 [==============================] - 3s 30ms/step - loss: 0.2053 - accuracy: 0.9244 - val_loss: 0.6513 - val_accuracy: 0.7633\n",
            "Epoch 198/500\n",
            "104/104 [==============================] - 3s 29ms/step - loss: 0.2191 - accuracy: 0.9232 - val_loss: 0.7217 - val_accuracy: 0.7536\n",
            "Epoch 199/500\n",
            "104/104 [==============================] - 3s 29ms/step - loss: 0.2167 - accuracy: 0.9214 - val_loss: 0.5699 - val_accuracy: 0.7874\n",
            "Epoch 200/500\n",
            "104/104 [==============================] - 3s 29ms/step - loss: 0.2145 - accuracy: 0.9220 - val_loss: 0.5869 - val_accuracy: 0.7874\n",
            "Epoch 201/500\n",
            "104/104 [==============================] - 3s 29ms/step - loss: 0.2183 - accuracy: 0.9117 - val_loss: 0.5566 - val_accuracy: 0.8164\n",
            "Epoch 202/500\n",
            "104/104 [==============================] - 3s 30ms/step - loss: 0.2235 - accuracy: 0.9148 - val_loss: 0.7770 - val_accuracy: 0.7585\n",
            "Epoch 203/500\n",
            "104/104 [==============================] - 3s 29ms/step - loss: 0.2342 - accuracy: 0.9172 - val_loss: 0.6104 - val_accuracy: 0.7923\n",
            "Epoch 204/500\n",
            "104/104 [==============================] - 3s 29ms/step - loss: 0.2107 - accuracy: 0.9274 - val_loss: 0.6343 - val_accuracy: 0.8019\n",
            "Epoch 205/500\n",
            "104/104 [==============================] - 3s 30ms/step - loss: 0.2337 - accuracy: 0.9190 - val_loss: 0.5746 - val_accuracy: 0.8309\n",
            "Epoch 206/500\n",
            "104/104 [==============================] - 3s 30ms/step - loss: 0.2096 - accuracy: 0.9232 - val_loss: 0.5449 - val_accuracy: 0.8309\n",
            "Epoch 207/500\n",
            "104/104 [==============================] - 3s 29ms/step - loss: 0.2047 - accuracy: 0.9268 - val_loss: 0.5644 - val_accuracy: 0.8116\n",
            "Epoch 208/500\n",
            "104/104 [==============================] - 3s 29ms/step - loss: 0.2192 - accuracy: 0.9268 - val_loss: 0.7114 - val_accuracy: 0.7536\n",
            "Epoch 209/500\n",
            "104/104 [==============================] - 3s 29ms/step - loss: 0.1927 - accuracy: 0.9353 - val_loss: 0.7299 - val_accuracy: 0.7681\n",
            "Epoch 210/500\n",
            "104/104 [==============================] - 3s 30ms/step - loss: 0.2206 - accuracy: 0.9238 - val_loss: 0.6000 - val_accuracy: 0.8213\n",
            "Epoch 211/500\n",
            "104/104 [==============================] - 3s 31ms/step - loss: 0.1986 - accuracy: 0.9311 - val_loss: 0.6304 - val_accuracy: 0.7874\n",
            "Epoch 212/500\n",
            "104/104 [==============================] - 3s 31ms/step - loss: 0.1952 - accuracy: 0.9305 - val_loss: 0.5668 - val_accuracy: 0.8116\n",
            "Epoch 213/500\n",
            "104/104 [==============================] - 3s 30ms/step - loss: 0.1943 - accuracy: 0.9220 - val_loss: 0.6760 - val_accuracy: 0.7585\n",
            "Epoch 214/500\n",
            "104/104 [==============================] - 3s 30ms/step - loss: 0.1807 - accuracy: 0.9335 - val_loss: 0.6911 - val_accuracy: 0.7778\n",
            "Epoch 215/500\n",
            "104/104 [==============================] - 3s 31ms/step - loss: 0.2034 - accuracy: 0.9256 - val_loss: 0.6506 - val_accuracy: 0.7874\n",
            "Epoch 216/500\n",
            "104/104 [==============================] - 3s 31ms/step - loss: 0.1761 - accuracy: 0.9395 - val_loss: 0.6217 - val_accuracy: 0.7874\n",
            "Epoch 217/500\n",
            "104/104 [==============================] - 3s 31ms/step - loss: 0.1917 - accuracy: 0.9293 - val_loss: 0.6152 - val_accuracy: 0.8068\n",
            "Epoch 218/500\n",
            "104/104 [==============================] - 3s 30ms/step - loss: 0.1958 - accuracy: 0.9323 - val_loss: 0.6331 - val_accuracy: 0.7971\n",
            "Epoch 219/500\n",
            "104/104 [==============================] - 3s 29ms/step - loss: 0.2035 - accuracy: 0.9268 - val_loss: 0.6490 - val_accuracy: 0.7585\n",
            "Epoch 220/500\n",
            "104/104 [==============================] - 3s 30ms/step - loss: 0.1820 - accuracy: 0.9323 - val_loss: 0.6995 - val_accuracy: 0.7681\n",
            "Epoch 221/500\n",
            "104/104 [==============================] - 3s 30ms/step - loss: 0.1876 - accuracy: 0.9347 - val_loss: 0.6146 - val_accuracy: 0.7826\n",
            "Epoch 222/500\n",
            "104/104 [==============================] - 3s 31ms/step - loss: 0.1928 - accuracy: 0.9323 - val_loss: 0.6351 - val_accuracy: 0.7923\n",
            "Epoch 223/500\n",
            "104/104 [==============================] - 3s 31ms/step - loss: 0.2021 - accuracy: 0.9305 - val_loss: 0.5886 - val_accuracy: 0.7923\n",
            "Epoch 224/500\n",
            "104/104 [==============================] - 3s 30ms/step - loss: 0.1887 - accuracy: 0.9335 - val_loss: 0.5730 - val_accuracy: 0.7923\n",
            "Epoch 225/500\n",
            "104/104 [==============================] - 3s 31ms/step - loss: 0.2162 - accuracy: 0.9244 - val_loss: 0.6029 - val_accuracy: 0.7971\n",
            "Epoch 226/500\n",
            "104/104 [==============================] - 3s 30ms/step - loss: 0.1762 - accuracy: 0.9401 - val_loss: 0.6120 - val_accuracy: 0.8019\n",
            "Epoch 227/500\n",
            "104/104 [==============================] - 3s 30ms/step - loss: 0.2005 - accuracy: 0.9305 - val_loss: 0.6185 - val_accuracy: 0.7585\n",
            "Epoch 228/500\n",
            "104/104 [==============================] - 3s 30ms/step - loss: 0.1878 - accuracy: 0.9335 - val_loss: 0.6399 - val_accuracy: 0.7681\n",
            "Epoch 229/500\n",
            "104/104 [==============================] - 3s 30ms/step - loss: 0.1745 - accuracy: 0.9341 - val_loss: 0.7459 - val_accuracy: 0.7971\n",
            "Epoch 230/500\n",
            "104/104 [==============================] - 3s 29ms/step - loss: 0.1820 - accuracy: 0.9353 - val_loss: 0.6257 - val_accuracy: 0.7826\n",
            "Epoch 231/500\n",
            "104/104 [==============================] - 3s 29ms/step - loss: 0.1762 - accuracy: 0.9371 - val_loss: 0.5451 - val_accuracy: 0.8309\n",
            "Epoch 232/500\n",
            "104/104 [==============================] - 3s 30ms/step - loss: 0.1707 - accuracy: 0.9353 - val_loss: 0.6024 - val_accuracy: 0.8357\n",
            "Epoch 233/500\n",
            "104/104 [==============================] - 3s 29ms/step - loss: 0.1779 - accuracy: 0.9371 - val_loss: 0.6004 - val_accuracy: 0.8213\n",
            "Epoch 234/500\n",
            "104/104 [==============================] - 3s 30ms/step - loss: 0.1811 - accuracy: 0.9389 - val_loss: 0.6916 - val_accuracy: 0.7681\n",
            "Epoch 235/500\n",
            "104/104 [==============================] - 3s 30ms/step - loss: 0.1914 - accuracy: 0.9383 - val_loss: 0.6926 - val_accuracy: 0.8019\n",
            "Epoch 236/500\n",
            "104/104 [==============================] - 3s 30ms/step - loss: 0.1910 - accuracy: 0.9359 - val_loss: 0.6227 - val_accuracy: 0.7874\n",
            "Epoch 237/500\n",
            "104/104 [==============================] - 3s 30ms/step - loss: 0.1866 - accuracy: 0.9353 - val_loss: 0.6555 - val_accuracy: 0.7874\n",
            "Epoch 238/500\n",
            "104/104 [==============================] - 3s 29ms/step - loss: 0.1625 - accuracy: 0.9438 - val_loss: 0.7056 - val_accuracy: 0.7874\n",
            "Epoch 239/500\n",
            "104/104 [==============================] - 3s 29ms/step - loss: 0.1744 - accuracy: 0.9359 - val_loss: 0.5542 - val_accuracy: 0.8213\n",
            "Epoch 240/500\n",
            "104/104 [==============================] - 3s 30ms/step - loss: 0.1541 - accuracy: 0.9468 - val_loss: 0.6077 - val_accuracy: 0.7874\n",
            "Epoch 241/500\n",
            "104/104 [==============================] - 3s 30ms/step - loss: 0.2059 - accuracy: 0.9299 - val_loss: 0.5540 - val_accuracy: 0.8357\n",
            "Epoch 242/500\n",
            "104/104 [==============================] - 3s 30ms/step - loss: 0.1511 - accuracy: 0.9462 - val_loss: 0.5872 - val_accuracy: 0.8357\n",
            "Epoch 243/500\n",
            "104/104 [==============================] - 3s 29ms/step - loss: 0.1674 - accuracy: 0.9383 - val_loss: 0.6350 - val_accuracy: 0.8068\n",
            "Epoch 244/500\n",
            "104/104 [==============================] - 3s 29ms/step - loss: 0.1728 - accuracy: 0.9383 - val_loss: 0.6395 - val_accuracy: 0.7874\n",
            "Epoch 245/500\n",
            "104/104 [==============================] - 3s 30ms/step - loss: 0.1722 - accuracy: 0.9395 - val_loss: 0.5753 - val_accuracy: 0.8019\n",
            "Epoch 246/500\n",
            "104/104 [==============================] - 3s 30ms/step - loss: 0.1547 - accuracy: 0.9395 - val_loss: 0.6099 - val_accuracy: 0.8164\n",
            "Epoch 247/500\n",
            "104/104 [==============================] - 3s 30ms/step - loss: 0.1733 - accuracy: 0.9353 - val_loss: 0.6780 - val_accuracy: 0.7681\n",
            "Epoch 248/500\n",
            "104/104 [==============================] - 3s 30ms/step - loss: 0.1666 - accuracy: 0.9365 - val_loss: 0.5777 - val_accuracy: 0.8261\n",
            "Epoch 249/500\n",
            "104/104 [==============================] - 3s 30ms/step - loss: 0.1637 - accuracy: 0.9432 - val_loss: 0.6370 - val_accuracy: 0.8019\n",
            "Epoch 250/500\n",
            "104/104 [==============================] - 3s 30ms/step - loss: 0.1649 - accuracy: 0.9444 - val_loss: 0.5946 - val_accuracy: 0.8068\n",
            "Epoch 251/500\n",
            "104/104 [==============================] - 3s 30ms/step - loss: 0.1660 - accuracy: 0.9389 - val_loss: 0.7432 - val_accuracy: 0.7729\n",
            "Epoch 252/500\n",
            "104/104 [==============================] - 3s 30ms/step - loss: 0.1627 - accuracy: 0.9389 - val_loss: 0.6255 - val_accuracy: 0.7923\n",
            "Epoch 253/500\n",
            "104/104 [==============================] - 3s 30ms/step - loss: 0.1685 - accuracy: 0.9371 - val_loss: 0.6378 - val_accuracy: 0.8406\n",
            "Epoch 254/500\n",
            "104/104 [==============================] - 3s 30ms/step - loss: 0.1801 - accuracy: 0.9335 - val_loss: 0.5879 - val_accuracy: 0.8019\n",
            "Epoch 255/500\n",
            "104/104 [==============================] - 3s 30ms/step - loss: 0.1676 - accuracy: 0.9414 - val_loss: 0.6453 - val_accuracy: 0.8116\n",
            "Epoch 256/500\n",
            "104/104 [==============================] - 3s 30ms/step - loss: 0.1634 - accuracy: 0.9383 - val_loss: 0.5980 - val_accuracy: 0.8261\n",
            "Epoch 257/500\n",
            "104/104 [==============================] - 3s 30ms/step - loss: 0.1675 - accuracy: 0.9395 - val_loss: 0.6615 - val_accuracy: 0.8261\n",
            "Epoch 258/500\n",
            "104/104 [==============================] - 3s 31ms/step - loss: 0.1708 - accuracy: 0.9462 - val_loss: 0.5828 - val_accuracy: 0.8357\n",
            "Epoch 259/500\n",
            "104/104 [==============================] - 3s 30ms/step - loss: 0.1336 - accuracy: 0.9504 - val_loss: 0.7532 - val_accuracy: 0.8164\n",
            "Epoch 260/500\n",
            "104/104 [==============================] - 3s 30ms/step - loss: 0.1600 - accuracy: 0.9426 - val_loss: 0.6785 - val_accuracy: 0.7826\n",
            "Epoch 261/500\n",
            "104/104 [==============================] - 3s 31ms/step - loss: 0.1980 - accuracy: 0.9347 - val_loss: 0.6139 - val_accuracy: 0.8116\n",
            "Epoch 262/500\n",
            "104/104 [==============================] - 3s 30ms/step - loss: 0.1379 - accuracy: 0.9498 - val_loss: 0.6391 - val_accuracy: 0.8213\n",
            "Epoch 263/500\n",
            "104/104 [==============================] - 3s 30ms/step - loss: 0.1566 - accuracy: 0.9444 - val_loss: 0.5903 - val_accuracy: 0.8164\n",
            "Epoch 264/500\n",
            "104/104 [==============================] - 3s 30ms/step - loss: 0.1329 - accuracy: 0.9522 - val_loss: 0.6392 - val_accuracy: 0.8068\n"
          ]
        }
      ]
    },
    {
      "cell_type": "code",
      "source": [
        "plt.plot(cnnhistory.history['loss'])\n",
        "plt.plot(cnnhistory.history['val_loss'])\n",
        "plt.title('model loss')\n",
        "plt.ylabel('loss')\n",
        "plt.xlabel('epoch')\n",
        "plt.legend(['train','test'], loc='upper left')\n",
        "plt.show()"
      ],
      "metadata": {
        "id": "oQYnuaCrDH_A",
        "colab": {
          "base_uri": "https://localhost:8080/",
          "height": 295
        },
        "outputId": "be1200d7-f119-4597-aa45-afaf6048ac7f"
      },
      "execution_count": 15,
      "outputs": [
        {
          "output_type": "display_data",
          "data": {
            "text/plain": [
              "<Figure size 432x288 with 1 Axes>"
            ],
            "image/png": "[encoded data removed]"
          },
          "metadata": {
            "needs_background": "light"
          }
        }
      ]
    },
    {
      "cell_type": "code",
      "source": [
        "plt.plot(cnnhistory.history['accuracy'])\n",
        "plt.plot(cnnhistory.history['val_accuracy'])\n",
        "plt.title('model accuracy')\n",
        "plt.ylabel('accuracy')\n",
        "plt.xlabel('epoch')\n",
        "plt.legend(['train','test'], loc='upper left')\n",
        "plt.show()"
      ],
      "metadata": {
        "id": "IFkTuO8nDNdq",
        "colab": {
          "base_uri": "https://localhost:8080/",
          "height": 295
        },
        "outputId": "a8b2b776-f555-47c6-c843-7a1a6a6ca929"
      },
      "execution_count": 16,
      "outputs": [
        {
          "output_type": "display_data",
          "data": {
            "text/plain": [
              "<Figure size 432x288 with 1 Axes>"
            ],
            "image/png": "[encoded data removed]"
          },
          "metadata": {
            "needs_background": "light"
          }
        }
      ]
    },
    {
      "cell_type": "code",
      "source": [
        "predictions = model.predict(x_testcnn)"
      ],
      "metadata": {
        "id": "A2xtrN5wDQgY"
      },
      "execution_count": 17,
      "outputs": []
    },
    {
      "cell_type": "code",
      "source": [
        "predictions"
      ],
      "metadata": {
        "id": "_f_ohjXKDUpY",
        "colab": {
          "base_uri": "https://localhost:8080/"
        },
        "outputId": "d6ff455c-4b77-472c-8003-1b494ce25709"
      },
      "execution_count": 18,
      "outputs": [
        {
          "output_type": "execute_result",
          "data": {
            "text/plain": [
              "array([[3.9894471e-01, 2.8915269e-02, 2.2310844e-01, 2.9325864e-01,\n",
              "        4.1029096e-02, 1.4743914e-02],\n",
              "       [1.3335144e-04, 1.8046096e-04, 4.4412172e-06, 9.4094896e-01,\n",
              "        1.7542652e-05, 5.8715329e-02],\n",
              "       [1.2592070e-01, 1.1804767e-01, 1.1576266e-02, 7.0870060e-01,\n",
              "        2.8382700e-03, 3.2916576e-02],\n",
              "       ...,\n",
              "       [5.0963314e-07, 3.1610239e-09, 4.3523694e-05, 3.5354371e-06,\n",
              "        9.9744809e-01, 2.5044351e-03],\n",
              "       [2.9227556e-05, 8.2408404e-01, 1.7445718e-01, 6.4593152e-04,\n",
              "        2.7977960e-04, 5.0374854e-04],\n",
              "       [6.4800784e-05, 5.2433781e-04, 1.9494670e-02, 2.1987924e-04,\n",
              "        9.5098507e-01, 2.8711291e-02]], dtype=float32)"
            ]
          },
          "metadata": {},
          "execution_count": 18
        }
      ]
    },
    {
      "cell_type": "code",
      "source": [
        "y_test"
      ],
      "metadata": {
        "id": "cmA2bFgsDW3D",
        "colab": {
          "base_uri": "https://localhost:8080/"
        },
        "outputId": "851e7187-ef04-4c8a-ef94-d5365e59b71f"
      },
      "execution_count": 19,
      "outputs": [
        {
          "output_type": "execute_result",
          "data": {
            "text/plain": [
              "array([3, 3, 3, 0, 4, 4, 1, 2, 5, 0, 5, 3, 2, 2, 1, 4, 4, 5, 2, 4, 1, 2,\n",
              "       3, 5, 4, 2, 1, 2, 2, 2, 2, 5, 2, 5, 3, 1, 2, 0, 4, 5, 2, 3, 2, 2,\n",
              "       5, 2, 0, 1, 3, 4, 4, 5, 1, 1, 4, 4, 5, 1, 1, 1, 0, 1, 5, 0, 4, 1,\n",
              "       1, 0, 1, 4, 1, 0, 4, 1, 3, 1, 2, 2, 1, 2, 3, 0, 5, 3, 5, 5, 2, 4,\n",
              "       5, 1, 5, 1, 5, 3, 4, 1, 4, 1, 5, 4, 5, 1, 2, 1, 1, 5, 1, 3, 2, 5,\n",
              "       2, 1, 3, 5, 4, 4, 0, 0, 3, 1, 2, 2, 3, 5, 1, 5, 3, 4, 2, 2, 0, 2,\n",
              "       2, 5, 5, 0, 3, 3, 2, 2, 0, 3, 4, 0, 4, 2, 4, 5, 4, 1, 5, 3, 2, 2,\n",
              "       5, 4, 3, 3, 4, 3, 3, 4, 1, 5, 2, 3, 2, 2, 0, 2, 1, 3, 1, 2, 2, 5,\n",
              "       5, 1, 4, 2, 2, 1, 1, 3, 3, 5, 5, 2, 5, 1, 5, 0, 3, 3, 0, 5, 1, 4,\n",
              "       1, 4, 2, 5, 5, 1, 4, 2, 4])"
            ]
          },
          "metadata": {},
          "execution_count": 19
        }
      ]
    },
    {
      "cell_type": "code",
      "source": [
        "new_Ytest = y_test.astype(int)"
      ],
      "metadata": {
        "id": "0PHDKWJWDY3g"
      },
      "execution_count": 20,
      "outputs": []
    },
    {
      "cell_type": "code",
      "source": [
        "new_Ytest"
      ],
      "metadata": {
        "id": "k68v2i-pDbZE",
        "colab": {
          "base_uri": "https://localhost:8080/"
        },
        "outputId": "6a499937-2030-4ed8-d5f7-b7dc5a811c5a"
      },
      "execution_count": 21,
      "outputs": [
        {
          "output_type": "execute_result",
          "data": {
            "text/plain": [
              "array([3, 3, 3, 0, 4, 4, 1, 2, 5, 0, 5, 3, 2, 2, 1, 4, 4, 5, 2, 4, 1, 2,\n",
              "       3, 5, 4, 2, 1, 2, 2, 2, 2, 5, 2, 5, 3, 1, 2, 0, 4, 5, 2, 3, 2, 2,\n",
              "       5, 2, 0, 1, 3, 4, 4, 5, 1, 1, 4, 4, 5, 1, 1, 1, 0, 1, 5, 0, 4, 1,\n",
              "       1, 0, 1, 4, 1, 0, 4, 1, 3, 1, 2, 2, 1, 2, 3, 0, 5, 3, 5, 5, 2, 4,\n",
              "       5, 1, 5, 1, 5, 3, 4, 1, 4, 1, 5, 4, 5, 1, 2, 1, 1, 5, 1, 3, 2, 5,\n",
              "       2, 1, 3, 5, 4, 4, 0, 0, 3, 1, 2, 2, 3, 5, 1, 5, 3, 4, 2, 2, 0, 2,\n",
              "       2, 5, 5, 0, 3, 3, 2, 2, 0, 3, 4, 0, 4, 2, 4, 5, 4, 1, 5, 3, 2, 2,\n",
              "       5, 4, 3, 3, 4, 3, 3, 4, 1, 5, 2, 3, 2, 2, 0, 2, 1, 3, 1, 2, 2, 5,\n",
              "       5, 1, 4, 2, 2, 1, 1, 3, 3, 5, 5, 2, 5, 1, 5, 0, 3, 3, 0, 5, 1, 4,\n",
              "       1, 4, 2, 5, 5, 1, 4, 2, 4])"
            ]
          },
          "metadata": {},
          "execution_count": 21
        }
      ]
    },
    {
      "cell_type": "code",
      "source": [
        "preds1=predictions.argmax(axis=1)\n",
        "preds1"
      ],
      "metadata": {
        "id": "4_cAI39VFhtp",
        "colab": {
          "base_uri": "https://localhost:8080/"
        },
        "outputId": "f2254f00-9e06-46b6-a3f9-fd1d302b7336"
      },
      "execution_count": 22,
      "outputs": [
        {
          "output_type": "execute_result",
          "data": {
            "text/plain": [
              "array([0, 3, 3, 0, 4, 4, 1, 2, 5, 1, 2, 3, 1, 2, 1, 4, 4, 3, 3, 4, 2, 2,\n",
              "       3, 3, 4, 2, 1, 2, 2, 2, 2, 5, 2, 5, 3, 1, 2, 0, 4, 5, 2, 3, 2, 2,\n",
              "       3, 2, 1, 1, 3, 4, 4, 1, 1, 1, 4, 4, 5, 1, 1, 1, 0, 1, 2, 1, 4, 1,\n",
              "       1, 1, 1, 4, 1, 0, 4, 1, 3, 1, 2, 2, 1, 2, 1, 0, 5, 3, 5, 5, 2, 3,\n",
              "       3, 1, 4, 1, 5, 3, 2, 1, 4, 1, 5, 4, 5, 1, 2, 1, 1, 5, 1, 3, 2, 5,\n",
              "       1, 3, 3, 5, 4, 4, 3, 0, 3, 1, 1, 2, 1, 3, 1, 3, 3, 2, 2, 2, 0, 2,\n",
              "       2, 3, 3, 0, 3, 3, 2, 2, 0, 3, 4, 4, 4, 2, 4, 2, 4, 1, 5, 3, 2, 2,\n",
              "       5, 4, 3, 3, 4, 3, 3, 4, 1, 5, 2, 3, 2, 2, 0, 2, 1, 3, 1, 2, 2, 5,\n",
              "       5, 1, 4, 2, 2, 1, 2, 3, 3, 5, 5, 2, 5, 1, 2, 1, 3, 3, 1, 2, 1, 4,\n",
              "       1, 4, 3, 5, 5, 1, 4, 1, 4])"
            ]
          },
          "metadata": {},
          "execution_count": 22
        }
      ]
    },
    {
      "cell_type": "code",
      "source": [
        "abc = preds1.astype(int).flatten()"
      ],
      "metadata": {
        "id": "H4WEmM60NfQn"
      },
      "execution_count": 23,
      "outputs": []
    },
    {
      "cell_type": "code",
      "source": [
        "from sklearn.metrics import confusion_matrix\n",
        "c = confusion_matrix(new_Ytest, abc) \n",
        "c"
      ],
      "metadata": {
        "id": "bKEBeEBlFjB8",
        "colab": {
          "base_uri": "https://localhost:8080/"
        },
        "outputId": "3ea508b5-7707-49a8-d0fd-3e3cfaf87da9"
      },
      "execution_count": 24,
      "outputs": [
        {
          "output_type": "execute_result",
          "data": {
            "text/plain": [
              "array([[10,  6,  0,  1,  1,  0],\n",
              "       [ 0, 38,  2,  1,  0,  0],\n",
              "       [ 0,  4, 39,  2,  0,  0],\n",
              "       [ 1,  2,  0, 28,  0,  0],\n",
              "       [ 0,  0,  2,  1, 30,  0],\n",
              "       [ 0,  1,  5,  8,  1, 24]])"
            ]
          },
          "metadata": {},
          "execution_count": 24
        }
      ]
    },
    {
      "cell_type": "code",
      "source": [
        "y_test"
      ],
      "metadata": {
        "id": "m4RjG7LWLSQx",
        "colab": {
          "base_uri": "https://localhost:8080/"
        },
        "outputId": "2d09e23c-8071-4998-f0fa-0cc2db48c48e"
      },
      "execution_count": 25,
      "outputs": [
        {
          "output_type": "execute_result",
          "data": {
            "text/plain": [
              "array([3, 3, 3, 0, 4, 4, 1, 2, 5, 0, 5, 3, 2, 2, 1, 4, 4, 5, 2, 4, 1, 2,\n",
              "       3, 5, 4, 2, 1, 2, 2, 2, 2, 5, 2, 5, 3, 1, 2, 0, 4, 5, 2, 3, 2, 2,\n",
              "       5, 2, 0, 1, 3, 4, 4, 5, 1, 1, 4, 4, 5, 1, 1, 1, 0, 1, 5, 0, 4, 1,\n",
              "       1, 0, 1, 4, 1, 0, 4, 1, 3, 1, 2, 2, 1, 2, 3, 0, 5, 3, 5, 5, 2, 4,\n",
              "       5, 1, 5, 1, 5, 3, 4, 1, 4, 1, 5, 4, 5, 1, 2, 1, 1, 5, 1, 3, 2, 5,\n",
              "       2, 1, 3, 5, 4, 4, 0, 0, 3, 1, 2, 2, 3, 5, 1, 5, 3, 4, 2, 2, 0, 2,\n",
              "       2, 5, 5, 0, 3, 3, 2, 2, 0, 3, 4, 0, 4, 2, 4, 5, 4, 1, 5, 3, 2, 2,\n",
              "       5, 4, 3, 3, 4, 3, 3, 4, 1, 5, 2, 3, 2, 2, 0, 2, 1, 3, 1, 2, 2, 5,\n",
              "       5, 1, 4, 2, 2, 1, 1, 3, 3, 5, 5, 2, 5, 1, 5, 0, 3, 3, 0, 5, 1, 4,\n",
              "       1, 4, 2, 5, 5, 1, 4, 2, 4])"
            ]
          },
          "metadata": {},
          "execution_count": 25
        }
      ]
    },
    {
      "cell_type": "code",
      "source": [
        "loss, acc =model.evaluate(x_testcnn, y_test)\n",
        "print(\"Restored model, accuracy: {:5.2f}%\".format(100*acc))"
      ],
      "metadata": {
        "id": "n3kzoqPkDqqS",
        "colab": {
          "base_uri": "https://localhost:8080/"
        },
        "outputId": "2ae46119-2d24-425e-8b48-31c4f020118b"
      },
      "execution_count": 26,
      "outputs": [
        {
          "output_type": "stream",
          "name": "stdout",
          "text": [
            "7/7 [==============================] - 0s 7ms/step - loss: 0.5309 - accuracy: 0.8164\n",
            "Restored model, accuracy: 81.64%\n"
          ]
        }
      ]
    },
    {
      "cell_type": "code",
      "source": [
        "loss, acc =model.evaluate(X_train, y_train)\n",
        "print(\"Restored model train, accuracy: {:5.2f}%\".format(100*acc))"
      ],
      "metadata": {
        "id": "fJDTGH_OUX0z",
        "colab": {
          "base_uri": "https://localhost:8080/"
        },
        "outputId": "79c6c024-fdb9-4fb6-9e92-89643149518d"
      },
      "execution_count": 27,
      "outputs": [
        {
          "output_type": "stream",
          "name": "stdout",
          "text": [
            "52/52 [==============================] - 1s 8ms/step - loss: 0.1328 - accuracy: 0.9788\n",
            "Restored model train, accuracy: 97.88%\n"
          ]
        }
      ]
    },
    {
      "cell_type": "code",
      "source": [
        "from sklearn.metrics import classification_report, confusion_matrix,accuracy_score\n",
        "import seaborn as sn\n",
        "\n",
        "print(classification_report(new_Ytest,abc))\n",
        "\n",
        "acc = float(accuracy_score(new_Ytest,abc))*100\n",
        "print(\"----accuracy score %s ----\" % acc)\n",
        "\n",
        "cm = confusion_matrix(new_Ytest,abc)\n",
        "#df_cm = pd.DataFrame(cm)\n",
        "class_names = ['neutral','calm', 'happy','sad','angry', 'fearful' ]\n",
        "df_cm = pd.DataFrame(cm, index=class_names, columns=class_names,)\n",
        "sn.heatmap(df_cm, annot=True, fmt='')\n",
        "plt.show()"
      ],
      "metadata": {
        "id": "SfSC3El94LZg",
        "colab": {
          "base_uri": "https://localhost:8080/",
          "height": 522
        },
        "outputId": "bf088c51-3ef1-4bd9-8755-381fedc00539"
      },
      "execution_count": 28,
      "outputs": [
        {
          "output_type": "stream",
          "name": "stdout",
          "text": [
            "              precision    recall  f1-score   support\n",
            "\n",
            "           0       0.91      0.56      0.69        18\n",
            "           1       0.75      0.93      0.83        41\n",
            "           2       0.81      0.87      0.84        45\n",
            "           3       0.68      0.90      0.78        31\n",
            "           4       0.94      0.91      0.92        33\n",
            "           5       1.00      0.62      0.76        39\n",
            "\n",
            "    accuracy                           0.82       207\n",
            "   macro avg       0.85      0.80      0.80       207\n",
            "weighted avg       0.84      0.82      0.81       207\n",
            "\n",
            "----accuracy score 81.64251207729468 ----\n"
          ]
        },
        {
          "output_type": "display_data",
          "data": {
            "text/plain": [
              "<Figure size 432x288 with 2 Axes>"
            ],
            "image/png": "[encoded data removed]"
          },
          "metadata": {
            "needs_background": "light"
          }
        }
      ]
    }
  ]
}