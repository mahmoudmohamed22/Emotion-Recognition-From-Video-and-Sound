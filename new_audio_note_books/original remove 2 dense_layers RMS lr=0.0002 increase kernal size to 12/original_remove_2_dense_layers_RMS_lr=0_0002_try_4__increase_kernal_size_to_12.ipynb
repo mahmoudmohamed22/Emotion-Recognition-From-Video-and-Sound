{
  "nbformat": 4,
  "nbformat_minor": 0,
  "metadata": {
    "colab": {
      "name": "original_remove_2_dense_layers_RMS_lr=0_0002_try_4_ increase kernal size to 12.ipynb",
      "provenance": [],
      "collapsed_sections": []
    },
    "kernelspec": {
      "name": "python3",
      "display_name": "Python 3"
    },
    "language_info": {
      "name": "python"
    },
    "accelerator": "TPU"
  },
  "cells": [
    {
      "cell_type": "code",
      "execution_count": 1,
      "metadata": {
        "colab": {
          "base_uri": "https://localhost:8080/"
        },
        "id": "9SRCO-a_AlH5",
        "outputId": "35790318-b67a-43ba-fb03-ab7a7e796755"
      },
      "outputs": [
        {
          "output_type": "stream",
          "name": "stdout",
          "text": [
            "Drive already mounted at /content/drive; to attempt to forcibly remount, call drive.mount(\"/content/drive\", force_remount=True).\n"
          ]
        }
      ],
      "source": [
        "from google.colab import drive\n",
        "drive.mount('/content/drive')"
      ]
    },
    {
      "cell_type": "code",
      "source": [
        "!pip install librosa"
      ],
      "metadata": {
        "colab": {
          "base_uri": "https://localhost:8080/"
        },
        "id": "5Lo4mUwG9RMd",
        "outputId": "b8dfb11b-6732-4a41-e508-1510508d77e5"
      },
      "execution_count": 2,
      "outputs": [
        {
          "output_type": "stream",
          "name": "stdout",
          "text": [
            "Looking in indexes: https://pypi.org/simple, https://us-python.pkg.dev/colab-wheels/public/simple/\n",
            "Requirement already satisfied: librosa in /usr/local/lib/python3.7/dist-packages (0.8.1)\n",
            "Requirement already satisfied: decorator>=3.0.0 in /usr/local/lib/python3.7/dist-packages (from librosa) (4.4.2)\n",
            "Requirement already satisfied: packaging>=20.0 in /usr/local/lib/python3.7/dist-packages (from librosa) (21.3)\n",
            "Requirement already satisfied: resampy>=0.2.2 in /usr/local/lib/python3.7/dist-packages (from librosa) (0.2.2)\n",
            "Requirement already satisfied: scikit-learn!=0.19.0,>=0.14.0 in /usr/local/lib/python3.7/dist-packages (from librosa) (1.0.2)\n",
            "Requirement already satisfied: soundfile>=0.10.2 in /usr/local/lib/python3.7/dist-packages (from librosa) (0.10.3.post1)\n",
            "Requirement already satisfied: numba>=0.43.0 in /usr/local/lib/python3.7/dist-packages (from librosa) (0.51.2)\n",
            "Requirement already satisfied: pooch>=1.0 in /usr/local/lib/python3.7/dist-packages (from librosa) (1.6.0)\n",
            "Requirement already satisfied: numpy>=1.15.0 in /usr/local/lib/python3.7/dist-packages (from librosa) (1.21.6)\n",
            "Requirement already satisfied: audioread>=2.0.0 in /usr/local/lib/python3.7/dist-packages (from librosa) (2.1.9)\n",
            "Requirement already satisfied: joblib>=0.14 in /usr/local/lib/python3.7/dist-packages (from librosa) (1.1.0)\n",
            "Requirement already satisfied: scipy>=1.0.0 in /usr/local/lib/python3.7/dist-packages (from librosa) (1.4.1)\n",
            "Requirement already satisfied: llvmlite<0.35,>=0.34.0.dev0 in /usr/local/lib/python3.7/dist-packages (from numba>=0.43.0->librosa) (0.34.0)\n",
            "Requirement already satisfied: setuptools in /usr/local/lib/python3.7/dist-packages (from numba>=0.43.0->librosa) (57.4.0)\n",
            "Requirement already satisfied: pyparsing!=3.0.5,>=2.0.2 in /usr/local/lib/python3.7/dist-packages (from packaging>=20.0->librosa) (3.0.9)\n",
            "Requirement already satisfied: appdirs>=1.3.0 in /usr/local/lib/python3.7/dist-packages (from pooch>=1.0->librosa) (1.4.4)\n",
            "Requirement already satisfied: requests>=2.19.0 in /usr/local/lib/python3.7/dist-packages (from pooch>=1.0->librosa) (2.23.0)\n",
            "Requirement already satisfied: certifi>=2017.4.17 in /usr/local/lib/python3.7/dist-packages (from requests>=2.19.0->pooch>=1.0->librosa) (2022.5.18.1)\n",
            "Requirement already satisfied: idna<3,>=2.5 in /usr/local/lib/python3.7/dist-packages (from requests>=2.19.0->pooch>=1.0->librosa) (2.10)\n",
            "Requirement already satisfied: chardet<4,>=3.0.2 in /usr/local/lib/python3.7/dist-packages (from requests>=2.19.0->pooch>=1.0->librosa) (3.0.4)\n",
            "Requirement already satisfied: urllib3!=1.25.0,!=1.25.1,<1.26,>=1.21.1 in /usr/local/lib/python3.7/dist-packages (from requests>=2.19.0->pooch>=1.0->librosa) (1.24.3)\n",
            "Requirement already satisfied: six>=1.3 in /usr/local/lib/python3.7/dist-packages (from resampy>=0.2.2->librosa) (1.15.0)\n",
            "Requirement already satisfied: threadpoolctl>=2.0.0 in /usr/local/lib/python3.7/dist-packages (from scikit-learn!=0.19.0,>=0.14.0->librosa) (3.1.0)\n",
            "Requirement already satisfied: cffi>=1.0 in /usr/local/lib/python3.7/dist-packages (from soundfile>=0.10.2->librosa) (1.15.0)\n",
            "Requirement already satisfied: pycparser in /usr/local/lib/python3.7/dist-packages (from cffi>=1.0->soundfile>=0.10.2->librosa) (2.21)\n"
          ]
        }
      ]
    },
    {
      "cell_type": "code",
      "metadata": {
        "id": "HJjcbxwy46bG",
        "colab": {
          "base_uri": "https://localhost:8080/",
          "height": 17
        },
        "outputId": "cb01971c-1dd0-470c-da07-6630aeaaf85c"
      },
      "source": [
        "# Orignial Notebook: https://github.com/MITESHPUTHRANNEU/Speech-Emotion-Analyzer/blob/master/final_results_gender_test.ipynb\n",
        "# This notebook author: Reza Chu\n",
        "# Last Editing Date: 31st May 2019\n",
        "\n",
        "## Python\n",
        "import os\n",
        "import random\n",
        "import sys\n",
        "\n",
        "import IPython\n",
        "from IPython.display import Audio\n",
        "from IPython.display import Image\n",
        "import matplotlib.pyplot as plt\n",
        "\n",
        "## Package\n",
        "import glob \n",
        "import keras\n",
        "import IPython.display as ipd\n",
        "import librosa\n",
        "import librosa.display\n",
        "import matplotlib.pyplot as plt\n",
        "import numpy as np\n",
        "import pandas as pd\n",
        "import plotly.graph_objs as go\n",
        "import plotly.offline as py\n",
        "import plotly.tools as tls\n",
        "import seaborn as sns\n",
        "import scipy.io.wavfile\n",
        "import tensorflow as tf\n",
        "py.init_notebook_mode(connected=True)\n",
        "\n",
        "## Keras\n",
        "from keras import regularizers\n",
        "from keras.callbacks import ModelCheckpoint, LearningRateScheduler, EarlyStopping\n",
        "from keras.callbacks import  History, ReduceLROnPlateau, CSVLogger\n",
        "from keras.models import Model, Sequential\n",
        "from keras.layers import Dense, Embedding, LSTM\n",
        "from keras.layers import Input, Flatten, Dropout, Activation, BatchNormalization\n",
        "from keras.layers import Conv1D, MaxPooling1D, AveragePooling1D\n",
        "from keras.preprocessing import sequence\n",
        "from keras.preprocessing.sequence import pad_sequences\n",
        "from keras.preprocessing.text import Tokenizer\n",
        "from keras.utils import np_utils\n",
        "from tensorflow.keras.utils import to_categorical\n",
        "\n",
        "## Sklearn\n",
        "from sklearn.metrics import confusion_matrix\n",
        "from sklearn.preprocessing import LabelEncoder\n",
        "\n",
        "## Rest\n",
        "from scipy.fftpack import fft\n",
        "from scipy import signal\n",
        "from scipy.io import wavfile\n",
        "from tqdm import tqdm\n",
        "\n",
        "input_duration=3\n",
        "# % pylab inline"
      ],
      "execution_count": 3,
      "outputs": [
        {
          "output_type": "display_data",
          "data": {
            "text/html": [
              "        <script type=\"text/javascript\">\n",
              "        window.PlotlyConfig = {MathJaxConfig: 'local'};\n",
              "        if (window.MathJax) {MathJax.Hub.Config({SVG: {font: \"STIX-Web\"}});}\n",
              "        if (typeof require !== 'undefined') {\n",
              "        require.undef(\"plotly\");\n",
              "        requirejs.config({\n",
              "            paths: {\n",
              "                'plotly': ['https://cdn.plot.ly/plotly-2.8.3.min']\n",
              "            }\n",
              "        });\n",
              "        require(['plotly'], function(Plotly) {\n",
              "            window._Plotly = Plotly;\n",
              "        });\n",
              "        }\n",
              "        </script>\n",
              "        "
            ]
          },
          "metadata": {}
        }
      ]
    },
    {
      "cell_type": "code",
      "source": [
        "# # Saving joblib files to not load them again with the loop above\n",
        "\n",
        "# import joblib\n",
        "\n",
        "# X_name = 'x.joblib'\n",
        "# y_name = 'y.joblib'\n",
        "# save_dir = '/content/drive/My Drive/graduation project/audio/paper_code/features'\n",
        "\n",
        "# savedX = joblib.dump(X, os.path.join(save_dir, X_name))\n",
        "# savedy = joblib.dump(y, os.path.join(save_dir, y_name))"
      ],
      "metadata": {
        "id": "UCzic8rlDcuk"
      },
      "execution_count": 4,
      "outputs": []
    },
    {
      "cell_type": "code",
      "source": [
        "# # Loading saved models\n",
        "import joblib\n",
        "X = joblib.load('/content/drive/My Drive/graduation project/audio/paper_code/features/x.joblib')\n",
        "y = joblib.load('/content/drive/My Drive/graduation project/audio/paper_code/features/y.joblib')"
      ],
      "metadata": {
        "id": "Q35CN6zDrzg1"
      },
      "execution_count": 5,
      "outputs": []
    },
    {
      "cell_type": "code",
      "source": [
        "X.shape"
      ],
      "metadata": {
        "id": "7PSTurzjCo5K",
        "colab": {
          "base_uri": "https://localhost:8080/"
        },
        "outputId": "ad980964-ae0c-4d75-a46f-26c5f06f90b0"
      },
      "execution_count": 6,
      "outputs": [
        {
          "output_type": "execute_result",
          "data": {
            "text/plain": [
              "(2068, 40)"
            ]
          },
          "metadata": {},
          "execution_count": 6
        }
      ]
    },
    {
      "cell_type": "code",
      "source": [
        "from sklearn.model_selection import train_test_split\n",
        "\n",
        "X_train, X_test, y_train, y_test = train_test_split(X,y, test_size=0.1 ,shuffle = True\n",
        "                                                    , random_state=42)\n",
        "X_train , X_valid, y_train, y_valid = train_test_split(X_train,y_train, test_size=0.1112305212 , shuffle = True \n",
        "                                                       , random_state=42)"
      ],
      "metadata": {
        "id": "Ai4Fy5cPCiq1"
      },
      "execution_count": 7,
      "outputs": []
    },
    {
      "cell_type": "code",
      "source": [
        "import numpy as np\n",
        "x_traincnn = np.expand_dims(X_train, axis=2)\n",
        "x_testcnn = np.expand_dims(X_test, axis=2)\n",
        "X_valid= np.expand_dims(X_valid, axis=2)"
      ],
      "metadata": {
        "id": "tp1Fm5K3CEXu"
      },
      "execution_count": 8,
      "outputs": []
    },
    {
      "cell_type": "code",
      "source": [
        "x_traincnn.shape, x_testcnn.shape , X_valid.shape\n",
        "#1861"
      ],
      "metadata": {
        "id": "RI0MxoIPBws5",
        "colab": {
          "base_uri": "https://localhost:8080/"
        },
        "outputId": "dff94cce-27bb-41ed-fd29-2f654c807b19"
      },
      "execution_count": 9,
      "outputs": [
        {
          "output_type": "execute_result",
          "data": {
            "text/plain": [
              "((1654, 40, 1), (207, 40, 1), (207, 40, 1))"
            ]
          },
          "metadata": {},
          "execution_count": 9
        }
      ]
    },
    {
      "cell_type": "code",
      "source": [
        "!pip install tensorflow"
      ],
      "metadata": {
        "id": "oALhiMUd9G2Y",
        "colab": {
          "base_uri": "https://localhost:8080/"
        },
        "outputId": "3a0d4b29-766b-40bb-b974-c7812ddb7644"
      },
      "execution_count": 10,
      "outputs": [
        {
          "output_type": "stream",
          "name": "stdout",
          "text": [
            "Looking in indexes: https://pypi.org/simple, https://us-python.pkg.dev/colab-wheels/public/simple/\n",
            "Requirement already satisfied: tensorflow in /usr/local/lib/python3.7/dist-packages (2.8.2+zzzcolab20220527125636)\n",
            "Requirement already satisfied: google-pasta>=0.1.1 in /usr/local/lib/python3.7/dist-packages (from tensorflow) (0.2.0)\n",
            "Requirement already satisfied: numpy>=1.20 in /usr/local/lib/python3.7/dist-packages (from tensorflow) (1.21.6)\n",
            "Requirement already satisfied: grpcio<2.0,>=1.24.3 in /usr/local/lib/python3.7/dist-packages (from tensorflow) (1.46.3)\n",
            "Requirement already satisfied: wrapt>=1.11.0 in /usr/local/lib/python3.7/dist-packages (from tensorflow) (1.14.1)\n",
            "Requirement already satisfied: libclang>=9.0.1 in /usr/local/lib/python3.7/dist-packages (from tensorflow) (14.0.1)\n",
            "Requirement already satisfied: six>=1.12.0 in /usr/local/lib/python3.7/dist-packages (from tensorflow) (1.15.0)\n",
            "Requirement already satisfied: typing-extensions>=3.6.6 in /usr/local/lib/python3.7/dist-packages (from tensorflow) (4.2.0)\n",
            "Requirement already satisfied: absl-py>=0.4.0 in /usr/local/lib/python3.7/dist-packages (from tensorflow) (1.0.0)\n",
            "Requirement already satisfied: flatbuffers>=1.12 in /usr/local/lib/python3.7/dist-packages (from tensorflow) (2.0)\n",
            "Requirement already satisfied: termcolor>=1.1.0 in /usr/local/lib/python3.7/dist-packages (from tensorflow) (1.1.0)\n",
            "Requirement already satisfied: tensorboard<2.9,>=2.8 in /usr/local/lib/python3.7/dist-packages (from tensorflow) (2.8.0)\n",
            "Requirement already satisfied: tensorflow-io-gcs-filesystem>=0.23.1 in /usr/local/lib/python3.7/dist-packages (from tensorflow) (0.26.0)\n",
            "Requirement already satisfied: setuptools in /usr/local/lib/python3.7/dist-packages (from tensorflow) (57.4.0)\n",
            "Requirement already satisfied: protobuf<3.20,>=3.9.2 in /usr/local/lib/python3.7/dist-packages (from tensorflow) (3.17.3)\n",
            "Requirement already satisfied: astunparse>=1.6.0 in /usr/local/lib/python3.7/dist-packages (from tensorflow) (1.6.3)\n",
            "Requirement already satisfied: keras<2.9,>=2.8.0rc0 in /usr/local/lib/python3.7/dist-packages (from tensorflow) (2.8.0)\n",
            "Requirement already satisfied: gast>=0.2.1 in /usr/local/lib/python3.7/dist-packages (from tensorflow) (0.5.3)\n",
            "Requirement already satisfied: opt-einsum>=2.3.2 in /usr/local/lib/python3.7/dist-packages (from tensorflow) (3.3.0)\n",
            "Requirement already satisfied: tensorflow-estimator<2.9,>=2.8 in /usr/local/lib/python3.7/dist-packages (from tensorflow) (2.8.0)\n",
            "Requirement already satisfied: keras-preprocessing>=1.1.1 in /usr/local/lib/python3.7/dist-packages (from tensorflow) (1.1.2)\n",
            "Requirement already satisfied: h5py>=2.9.0 in /usr/local/lib/python3.7/dist-packages (from tensorflow) (3.1.0)\n",
            "Requirement already satisfied: wheel<1.0,>=0.23.0 in /usr/local/lib/python3.7/dist-packages (from astunparse>=1.6.0->tensorflow) (0.37.1)\n",
            "Requirement already satisfied: cached-property in /usr/local/lib/python3.7/dist-packages (from h5py>=2.9.0->tensorflow) (1.5.2)\n",
            "Requirement already satisfied: google-auth<3,>=1.6.3 in /usr/local/lib/python3.7/dist-packages (from tensorboard<2.9,>=2.8->tensorflow) (1.35.0)\n",
            "Requirement already satisfied: google-auth-oauthlib<0.5,>=0.4.1 in /usr/local/lib/python3.7/dist-packages (from tensorboard<2.9,>=2.8->tensorflow) (0.4.6)\n",
            "Requirement already satisfied: requests<3,>=2.21.0 in /usr/local/lib/python3.7/dist-packages (from tensorboard<2.9,>=2.8->tensorflow) (2.23.0)\n",
            "Requirement already satisfied: tensorboard-plugin-wit>=1.6.0 in /usr/local/lib/python3.7/dist-packages (from tensorboard<2.9,>=2.8->tensorflow) (1.8.1)\n",
            "Requirement already satisfied: markdown>=2.6.8 in /usr/local/lib/python3.7/dist-packages (from tensorboard<2.9,>=2.8->tensorflow) (3.3.7)\n",
            "Requirement already satisfied: tensorboard-data-server<0.7.0,>=0.6.0 in /usr/local/lib/python3.7/dist-packages (from tensorboard<2.9,>=2.8->tensorflow) (0.6.1)\n",
            "Requirement already satisfied: werkzeug>=0.11.15 in /usr/local/lib/python3.7/dist-packages (from tensorboard<2.9,>=2.8->tensorflow) (1.0.1)\n",
            "Requirement already satisfied: pyasn1-modules>=0.2.1 in /usr/local/lib/python3.7/dist-packages (from google-auth<3,>=1.6.3->tensorboard<2.9,>=2.8->tensorflow) (0.2.8)\n",
            "Requirement already satisfied: rsa<5,>=3.1.4 in /usr/local/lib/python3.7/dist-packages (from google-auth<3,>=1.6.3->tensorboard<2.9,>=2.8->tensorflow) (4.8)\n",
            "Requirement already satisfied: cachetools<5.0,>=2.0.0 in /usr/local/lib/python3.7/dist-packages (from google-auth<3,>=1.6.3->tensorboard<2.9,>=2.8->tensorflow) (4.2.4)\n",
            "Requirement already satisfied: requests-oauthlib>=0.7.0 in /usr/local/lib/python3.7/dist-packages (from google-auth-oauthlib<0.5,>=0.4.1->tensorboard<2.9,>=2.8->tensorflow) (1.3.1)\n",
            "Requirement already satisfied: importlib-metadata>=4.4 in /usr/local/lib/python3.7/dist-packages (from markdown>=2.6.8->tensorboard<2.9,>=2.8->tensorflow) (4.11.4)\n",
            "Requirement already satisfied: zipp>=0.5 in /usr/local/lib/python3.7/dist-packages (from importlib-metadata>=4.4->markdown>=2.6.8->tensorboard<2.9,>=2.8->tensorflow) (3.8.0)\n",
            "Requirement already satisfied: pyasn1<0.5.0,>=0.4.6 in /usr/local/lib/python3.7/dist-packages (from pyasn1-modules>=0.2.1->google-auth<3,>=1.6.3->tensorboard<2.9,>=2.8->tensorflow) (0.4.8)\n",
            "Requirement already satisfied: urllib3!=1.25.0,!=1.25.1,<1.26,>=1.21.1 in /usr/local/lib/python3.7/dist-packages (from requests<3,>=2.21.0->tensorboard<2.9,>=2.8->tensorflow) (1.24.3)\n",
            "Requirement already satisfied: certifi>=2017.4.17 in /usr/local/lib/python3.7/dist-packages (from requests<3,>=2.21.0->tensorboard<2.9,>=2.8->tensorflow) (2022.5.18.1)\n",
            "Requirement already satisfied: idna<3,>=2.5 in /usr/local/lib/python3.7/dist-packages (from requests<3,>=2.21.0->tensorboard<2.9,>=2.8->tensorflow) (2.10)\n",
            "Requirement already satisfied: chardet<4,>=3.0.2 in /usr/local/lib/python3.7/dist-packages (from requests<3,>=2.21.0->tensorboard<2.9,>=2.8->tensorflow) (3.0.4)\n",
            "Requirement already satisfied: oauthlib>=3.0.0 in /usr/local/lib/python3.7/dist-packages (from requests-oauthlib>=0.7.0->google-auth-oauthlib<0.5,>=0.4.1->tensorboard<2.9,>=2.8->tensorflow) (3.2.0)\n"
          ]
        }
      ]
    },
    {
      "cell_type": "code",
      "source": [
        "import keras\n",
        "import numpy as np\n",
        "import matplotlib.pyplot as plt\n",
        "import tensorflow as tf\n",
        "from keras.preprocessing import sequence\n",
        "from keras.models import Sequential\n",
        "from keras.layers import Dense, Embedding\n",
        "from tensorflow.keras.utils import to_categorical\n",
        "from keras.layers import Input, Flatten, Dropout, Activation\n",
        "from keras.layers import Conv1D, MaxPooling1D\n",
        "from keras.models import Model\n",
        "from keras.callbacks import ModelCheckpoint\n",
        "from tensorflow.keras import optimizers\n",
        "\n",
        "model = Sequential()\n",
        "\n",
        "model.add(Conv1D(128, 12,padding='same', #classifier.add(Convolution2D(64, (3, 3), padding = 'same', input_shape = (128, 128, 3), activation = 'relu'))\n",
        "                 input_shape=(40,1)))\n",
        "model.add(Activation('relu'))\n",
        "model.add(Dropout(0.3))\n",
        "model.add(MaxPooling1D(pool_size=(5)))\n",
        "\n",
        "\n",
        "model.add(Conv1D(256,12,padding='same',))\n",
        "model.add(Activation('relu'))\n",
        "model.add(Dropout(0.3))\n",
        "model.add(MaxPooling1D(pool_size=(5)))\n",
        "\n",
        "#model.add(MaxPooling1D(pool_size=(5)))\n",
        "\n",
        "model.add(Flatten())\n",
        "\n",
        "\n",
        "\n",
        "model.add(Dense(6))\n",
        "model.add(Activation('softmax'))\n",
        "\n",
        "\n",
        "opt = tf.keras.optimizers.RMSprop(lr=0.0002 , decay=0.0)\n",
        "#opt = tf.keras.optimizers.Adam(lr=0.0002 , decay=0.0)\n",
        "#opt = tf.keras.optimizers.RMSprop(lr=0.0001, rho=0.9, epsilon=1e-07, decay=0.0)\n",
        "#opt = tf.keras.optimizers.SGD(lr=0.001, momentum=0.0, decay=0.0, nesterov=False)"
      ],
      "metadata": {
        "id": "g74fXWVAC4Cr",
        "colab": {
          "base_uri": "https://localhost:8080/"
        },
        "outputId": "aacafdc2-1d7d-44d8-f481-27661930a8f5"
      },
      "execution_count": 11,
      "outputs": [
        {
          "output_type": "stream",
          "name": "stderr",
          "text": [
            "/usr/local/lib/python3.7/dist-packages/keras/optimizer_v2/rmsprop.py:130: UserWarning:\n",
            "\n",
            "The `lr` argument is deprecated, use `learning_rate` instead.\n",
            "\n"
          ]
        }
      ]
    },
    {
      "cell_type": "code",
      "source": [
        "model.summary()"
      ],
      "metadata": {
        "id": "H6ukOxAGC_I4",
        "colab": {
          "base_uri": "https://localhost:8080/"
        },
        "outputId": "5d9b1daf-14f2-42c5-f5f7-9358dc81dcea"
      },
      "execution_count": 12,
      "outputs": [
        {
          "output_type": "stream",
          "name": "stdout",
          "text": [
            "Model: \"sequential\"\n",
            "_________________________________________________________________\n",
            " Layer (type)                Output Shape              Param #   \n",
            "=================================================================\n",
            " conv1d (Conv1D)             (None, 40, 128)           1664      \n",
            "                                                                 \n",
            " activation (Activation)     (None, 40, 128)           0         \n",
            "                                                                 \n",
            " dropout (Dropout)           (None, 40, 128)           0         \n",
            "                                                                 \n",
            " max_pooling1d (MaxPooling1D  (None, 8, 128)           0         \n",
            " )                                                               \n",
            "                                                                 \n",
            " conv1d_1 (Conv1D)           (None, 8, 256)            393472    \n",
            "                                                                 \n",
            " activation_1 (Activation)   (None, 8, 256)            0         \n",
            "                                                                 \n",
            " dropout_1 (Dropout)         (None, 8, 256)            0         \n",
            "                                                                 \n",
            " max_pooling1d_1 (MaxPooling  (None, 1, 256)           0         \n",
            " 1D)                                                             \n",
            "                                                                 \n",
            " flatten (Flatten)           (None, 256)               0         \n",
            "                                                                 \n",
            " dense (Dense)               (None, 6)                 1542      \n",
            "                                                                 \n",
            " activation_2 (Activation)   (None, 6)                 0         \n",
            "                                                                 \n",
            "=================================================================\n",
            "Total params: 396,678\n",
            "Trainable params: 396,678\n",
            "Non-trainable params: 0\n",
            "_________________________________________________________________\n"
          ]
        }
      ]
    },
    {
      "cell_type": "code",
      "source": [
        "model.compile(loss='sparse_categorical_crossentropy',\n",
        "              optimizer=opt,\n",
        "              metrics=['accuracy'])"
      ],
      "metadata": {
        "id": "AbMlLNk4DCBM"
      },
      "execution_count": 13,
      "outputs": []
    },
    {
      "cell_type": "code",
      "source": [
        "# Create an Instance of Early Stopping Callback.\n",
        "early_stopping_callback = EarlyStopping(monitor = 'val_loss', patience = 25, mode = 'min', restore_best_weights = True)\n",
        "\n",
        "cnnhistory=model.fit(x_traincnn, y_train, batch_size=16, epochs=500 , shuffle = True, \n",
        "                     validation_data=(X_valid, y_valid) , callbacks = [early_stopping_callback])"
      ],
      "metadata": {
        "id": "RI1v2AuADFhy",
        "colab": {
          "base_uri": "https://localhost:8080/"
        },
        "outputId": "66deda0d-1826-4fe3-f896-22b286e2ec22"
      },
      "execution_count": 14,
      "outputs": [
        {
          "output_type": "stream",
          "name": "stdout",
          "text": [
            "Epoch 1/500\n",
            "104/104 [==============================] - 8s 60ms/step - loss: 12.2628 - accuracy: 0.1711 - val_loss: 6.1755 - val_accuracy: 0.2367\n",
            "Epoch 2/500\n",
            "104/104 [==============================] - 5s 52ms/step - loss: 9.2614 - accuracy: 0.1959 - val_loss: 7.0480 - val_accuracy: 0.1594\n",
            "Epoch 3/500\n",
            "104/104 [==============================] - 6s 55ms/step - loss: 7.2111 - accuracy: 0.2443 - val_loss: 4.6210 - val_accuracy: 0.2512\n",
            "Epoch 4/500\n",
            "104/104 [==============================] - 6s 54ms/step - loss: 6.5376 - accuracy: 0.2352 - val_loss: 2.9421 - val_accuracy: 0.2319\n",
            "Epoch 5/500\n",
            "104/104 [==============================] - 6s 59ms/step - loss: 5.1339 - accuracy: 0.2497 - val_loss: 2.4765 - val_accuracy: 0.2995\n",
            "Epoch 6/500\n",
            "104/104 [==============================] - 6s 54ms/step - loss: 4.6722 - accuracy: 0.2521 - val_loss: 5.2127 - val_accuracy: 0.1594\n",
            "Epoch 7/500\n",
            "104/104 [==============================] - 4s 38ms/step - loss: 4.0845 - accuracy: 0.2642 - val_loss: 2.2140 - val_accuracy: 0.3623\n",
            "Epoch 8/500\n",
            "104/104 [==============================] - 3s 31ms/step - loss: 3.8183 - accuracy: 0.2636 - val_loss: 2.0252 - val_accuracy: 0.2222\n",
            "Epoch 9/500\n",
            "104/104 [==============================] - 3s 31ms/step - loss: 3.2799 - accuracy: 0.2920 - val_loss: 2.3464 - val_accuracy: 0.1932\n",
            "Epoch 10/500\n",
            "104/104 [==============================] - 3s 30ms/step - loss: 2.9814 - accuracy: 0.2956 - val_loss: 1.8031 - val_accuracy: 0.3382\n",
            "Epoch 11/500\n",
            "104/104 [==============================] - 3s 30ms/step - loss: 2.6044 - accuracy: 0.3337 - val_loss: 1.6941 - val_accuracy: 0.3575\n",
            "Epoch 12/500\n",
            "104/104 [==============================] - 3s 31ms/step - loss: 2.4918 - accuracy: 0.3452 - val_loss: 1.6312 - val_accuracy: 0.3527\n",
            "Epoch 13/500\n",
            "104/104 [==============================] - 3s 31ms/step - loss: 2.3753 - accuracy: 0.3356 - val_loss: 1.6718 - val_accuracy: 0.3527\n",
            "Epoch 14/500\n",
            "104/104 [==============================] - 3s 31ms/step - loss: 2.0806 - accuracy: 0.3646 - val_loss: 1.4454 - val_accuracy: 0.3720\n",
            "Epoch 15/500\n",
            "104/104 [==============================] - 3s 29ms/step - loss: 2.0234 - accuracy: 0.3730 - val_loss: 1.5107 - val_accuracy: 0.3768\n",
            "Epoch 16/500\n",
            "104/104 [==============================] - 3s 30ms/step - loss: 1.8951 - accuracy: 0.4081 - val_loss: 1.4989 - val_accuracy: 0.3865\n",
            "Epoch 17/500\n",
            "104/104 [==============================] - 3s 30ms/step - loss: 1.7880 - accuracy: 0.4184 - val_loss: 1.3941 - val_accuracy: 0.4493\n",
            "Epoch 18/500\n",
            "104/104 [==============================] - 3s 30ms/step - loss: 1.6934 - accuracy: 0.4311 - val_loss: 1.2529 - val_accuracy: 0.5411\n",
            "Epoch 19/500\n",
            "104/104 [==============================] - 3s 31ms/step - loss: 1.6207 - accuracy: 0.4274 - val_loss: 1.7080 - val_accuracy: 0.3188\n",
            "Epoch 20/500\n",
            "104/104 [==============================] - 3s 31ms/step - loss: 1.5688 - accuracy: 0.4492 - val_loss: 1.2580 - val_accuracy: 0.5314\n",
            "Epoch 21/500\n",
            "104/104 [==============================] - 3s 30ms/step - loss: 1.5054 - accuracy: 0.4788 - val_loss: 1.3091 - val_accuracy: 0.5072\n",
            "Epoch 22/500\n",
            "104/104 [==============================] - 3s 30ms/step - loss: 1.4199 - accuracy: 0.4722 - val_loss: 1.2669 - val_accuracy: 0.4541\n",
            "Epoch 23/500\n",
            "104/104 [==============================] - 3s 30ms/step - loss: 1.4116 - accuracy: 0.4903 - val_loss: 1.3574 - val_accuracy: 0.4638\n",
            "Epoch 24/500\n",
            "104/104 [==============================] - 3s 31ms/step - loss: 1.3501 - accuracy: 0.4976 - val_loss: 1.2536 - val_accuracy: 0.5266\n",
            "Epoch 25/500\n",
            "104/104 [==============================] - 3s 30ms/step - loss: 1.2958 - accuracy: 0.5163 - val_loss: 1.2895 - val_accuracy: 0.5024\n",
            "Epoch 26/500\n",
            "104/104 [==============================] - 3s 31ms/step - loss: 1.2991 - accuracy: 0.5212 - val_loss: 1.2280 - val_accuracy: 0.4831\n",
            "Epoch 27/500\n",
            "104/104 [==============================] - 3s 32ms/step - loss: 1.2198 - accuracy: 0.5417 - val_loss: 1.0513 - val_accuracy: 0.6280\n",
            "Epoch 28/500\n",
            "104/104 [==============================] - 3s 31ms/step - loss: 1.2014 - accuracy: 0.5550 - val_loss: 1.0920 - val_accuracy: 0.5894\n",
            "Epoch 29/500\n",
            "104/104 [==============================] - 3s 29ms/step - loss: 1.1399 - accuracy: 0.5671 - val_loss: 1.0892 - val_accuracy: 0.5797\n",
            "Epoch 30/500\n",
            "104/104 [==============================] - 3s 30ms/step - loss: 1.1242 - accuracy: 0.5713 - val_loss: 1.2474 - val_accuracy: 0.4686\n",
            "Epoch 31/500\n",
            "104/104 [==============================] - 3s 30ms/step - loss: 1.1427 - accuracy: 0.5550 - val_loss: 1.0030 - val_accuracy: 0.6473\n",
            "Epoch 32/500\n",
            "104/104 [==============================] - 3s 30ms/step - loss: 1.1024 - accuracy: 0.5768 - val_loss: 1.0389 - val_accuracy: 0.5845\n",
            "Epoch 33/500\n",
            "104/104 [==============================] - 3s 29ms/step - loss: 1.0706 - accuracy: 0.5931 - val_loss: 1.0771 - val_accuracy: 0.5845\n",
            "Epoch 34/500\n",
            "104/104 [==============================] - 3s 31ms/step - loss: 1.0378 - accuracy: 0.5992 - val_loss: 1.0277 - val_accuracy: 0.6280\n",
            "Epoch 35/500\n",
            "104/104 [==============================] - 5s 45ms/step - loss: 1.0256 - accuracy: 0.6040 - val_loss: 0.9992 - val_accuracy: 0.5652\n",
            "Epoch 36/500\n",
            "104/104 [==============================] - 4s 37ms/step - loss: 1.0259 - accuracy: 0.6149 - val_loss: 1.0357 - val_accuracy: 0.6184\n",
            "Epoch 37/500\n",
            "104/104 [==============================] - 3s 30ms/step - loss: 0.9741 - accuracy: 0.6137 - val_loss: 1.0097 - val_accuracy: 0.6522\n",
            "Epoch 38/500\n",
            "104/104 [==============================] - 3s 31ms/step - loss: 0.9861 - accuracy: 0.6137 - val_loss: 1.0370 - val_accuracy: 0.6039\n",
            "Epoch 39/500\n",
            "104/104 [==============================] - 3s 30ms/step - loss: 0.9714 - accuracy: 0.6264 - val_loss: 0.9593 - val_accuracy: 0.5990\n",
            "Epoch 40/500\n",
            "104/104 [==============================] - 3s 30ms/step - loss: 0.9859 - accuracy: 0.6330 - val_loss: 0.9361 - val_accuracy: 0.6715\n",
            "Epoch 41/500\n",
            "104/104 [==============================] - 3s 29ms/step - loss: 0.9246 - accuracy: 0.6366 - val_loss: 1.0648 - val_accuracy: 0.5217\n",
            "Epoch 42/500\n",
            "104/104 [==============================] - 3s 30ms/step - loss: 0.8924 - accuracy: 0.6590 - val_loss: 0.9795 - val_accuracy: 0.6570\n",
            "Epoch 43/500\n",
            "104/104 [==============================] - 3s 30ms/step - loss: 0.8996 - accuracy: 0.6439 - val_loss: 0.9077 - val_accuracy: 0.6618\n",
            "Epoch 44/500\n",
            "104/104 [==============================] - 3s 31ms/step - loss: 0.8785 - accuracy: 0.6475 - val_loss: 0.9218 - val_accuracy: 0.6570\n",
            "Epoch 45/500\n",
            "104/104 [==============================] - 3s 31ms/step - loss: 0.8766 - accuracy: 0.6638 - val_loss: 0.8350 - val_accuracy: 0.7101\n",
            "Epoch 46/500\n",
            "104/104 [==============================] - 3s 30ms/step - loss: 0.8901 - accuracy: 0.6524 - val_loss: 0.8998 - val_accuracy: 0.6618\n",
            "Epoch 47/500\n",
            "104/104 [==============================] - 3s 29ms/step - loss: 0.8195 - accuracy: 0.6741 - val_loss: 0.8217 - val_accuracy: 0.7295\n",
            "Epoch 48/500\n",
            "104/104 [==============================] - 3s 30ms/step - loss: 0.8423 - accuracy: 0.6765 - val_loss: 1.0001 - val_accuracy: 0.5845\n",
            "Epoch 49/500\n",
            "104/104 [==============================] - 3s 31ms/step - loss: 0.8209 - accuracy: 0.6790 - val_loss: 0.8870 - val_accuracy: 0.6232\n",
            "Epoch 50/500\n",
            "104/104 [==============================] - 3s 32ms/step - loss: 0.8195 - accuracy: 0.6717 - val_loss: 0.8511 - val_accuracy: 0.6715\n",
            "Epoch 51/500\n",
            "104/104 [==============================] - 3s 30ms/step - loss: 0.7907 - accuracy: 0.6929 - val_loss: 0.8859 - val_accuracy: 0.6522\n",
            "Epoch 52/500\n",
            "104/104 [==============================] - 3s 31ms/step - loss: 0.8005 - accuracy: 0.7056 - val_loss: 0.8441 - val_accuracy: 0.6812\n",
            "Epoch 53/500\n",
            "104/104 [==============================] - 3s 31ms/step - loss: 0.7702 - accuracy: 0.7062 - val_loss: 0.8827 - val_accuracy: 0.6570\n",
            "Epoch 54/500\n",
            "104/104 [==============================] - 3s 31ms/step - loss: 0.7580 - accuracy: 0.7074 - val_loss: 0.8335 - val_accuracy: 0.7053\n",
            "Epoch 55/500\n",
            "104/104 [==============================] - 3s 32ms/step - loss: 0.7561 - accuracy: 0.7013 - val_loss: 0.7530 - val_accuracy: 0.7536\n",
            "Epoch 56/500\n",
            "104/104 [==============================] - 3s 33ms/step - loss: 0.7506 - accuracy: 0.6965 - val_loss: 0.8251 - val_accuracy: 0.7150\n",
            "Epoch 57/500\n",
            "104/104 [==============================] - 3s 31ms/step - loss: 0.7347 - accuracy: 0.7255 - val_loss: 0.7635 - val_accuracy: 0.6860\n",
            "Epoch 58/500\n",
            "104/104 [==============================] - 3s 30ms/step - loss: 0.7385 - accuracy: 0.7019 - val_loss: 0.8423 - val_accuracy: 0.6957\n",
            "Epoch 59/500\n",
            "104/104 [==============================] - 3s 30ms/step - loss: 0.7243 - accuracy: 0.7219 - val_loss: 0.7582 - val_accuracy: 0.7053\n",
            "Epoch 60/500\n",
            "104/104 [==============================] - 3s 30ms/step - loss: 0.7065 - accuracy: 0.7189 - val_loss: 0.8126 - val_accuracy: 0.7150\n",
            "Epoch 61/500\n",
            "104/104 [==============================] - 3s 30ms/step - loss: 0.7247 - accuracy: 0.7177 - val_loss: 0.8043 - val_accuracy: 0.6667\n",
            "Epoch 62/500\n",
            "104/104 [==============================] - 3s 30ms/step - loss: 0.7040 - accuracy: 0.7382 - val_loss: 0.7332 - val_accuracy: 0.7198\n",
            "Epoch 63/500\n",
            "104/104 [==============================] - 3s 31ms/step - loss: 0.6939 - accuracy: 0.7273 - val_loss: 0.7447 - val_accuracy: 0.7343\n",
            "Epoch 64/500\n",
            "104/104 [==============================] - 3s 30ms/step - loss: 0.6628 - accuracy: 0.7473 - val_loss: 0.7617 - val_accuracy: 0.7053\n",
            "Epoch 65/500\n",
            "104/104 [==============================] - 3s 30ms/step - loss: 0.6571 - accuracy: 0.7443 - val_loss: 0.9526 - val_accuracy: 0.6135\n",
            "Epoch 66/500\n",
            "104/104 [==============================] - 3s 30ms/step - loss: 0.6443 - accuracy: 0.7533 - val_loss: 0.7104 - val_accuracy: 0.7101\n",
            "Epoch 67/500\n",
            "104/104 [==============================] - 3s 30ms/step - loss: 0.6479 - accuracy: 0.7545 - val_loss: 0.7477 - val_accuracy: 0.7150\n",
            "Epoch 68/500\n",
            "104/104 [==============================] - 3s 31ms/step - loss: 0.6504 - accuracy: 0.7467 - val_loss: 0.7846 - val_accuracy: 0.6957\n",
            "Epoch 69/500\n",
            "104/104 [==============================] - 3s 30ms/step - loss: 0.6452 - accuracy: 0.7509 - val_loss: 0.7368 - val_accuracy: 0.7295\n",
            "Epoch 70/500\n",
            "104/104 [==============================] - 3s 30ms/step - loss: 0.6555 - accuracy: 0.7551 - val_loss: 0.7773 - val_accuracy: 0.6618\n",
            "Epoch 71/500\n",
            "104/104 [==============================] - 3s 30ms/step - loss: 0.6187 - accuracy: 0.7491 - val_loss: 0.7467 - val_accuracy: 0.7343\n",
            "Epoch 72/500\n",
            "104/104 [==============================] - 3s 31ms/step - loss: 0.6326 - accuracy: 0.7582 - val_loss: 0.6717 - val_accuracy: 0.7536\n",
            "Epoch 73/500\n",
            "104/104 [==============================] - 3s 30ms/step - loss: 0.6247 - accuracy: 0.7588 - val_loss: 0.6862 - val_accuracy: 0.7391\n",
            "Epoch 74/500\n",
            "104/104 [==============================] - 3s 31ms/step - loss: 0.6159 - accuracy: 0.7690 - val_loss: 0.7241 - val_accuracy: 0.7101\n",
            "Epoch 75/500\n",
            "104/104 [==============================] - 3s 32ms/step - loss: 0.6032 - accuracy: 0.7696 - val_loss: 0.6992 - val_accuracy: 0.7101\n",
            "Epoch 76/500\n",
            "104/104 [==============================] - 3s 30ms/step - loss: 0.6047 - accuracy: 0.7672 - val_loss: 0.6943 - val_accuracy: 0.7440\n",
            "Epoch 77/500\n",
            "104/104 [==============================] - 3s 29ms/step - loss: 0.5948 - accuracy: 0.7684 - val_loss: 0.6317 - val_accuracy: 0.7536\n",
            "Epoch 78/500\n",
            "104/104 [==============================] - 3s 30ms/step - loss: 0.5690 - accuracy: 0.7799 - val_loss: 0.6597 - val_accuracy: 0.7729\n",
            "Epoch 79/500\n",
            "104/104 [==============================] - 3s 30ms/step - loss: 0.5691 - accuracy: 0.7836 - val_loss: 0.7540 - val_accuracy: 0.6860\n",
            "Epoch 80/500\n",
            "104/104 [==============================] - 3s 30ms/step - loss: 0.5523 - accuracy: 0.7896 - val_loss: 0.6763 - val_accuracy: 0.7391\n",
            "Epoch 81/500\n",
            "104/104 [==============================] - 3s 31ms/step - loss: 0.5588 - accuracy: 0.7763 - val_loss: 0.7137 - val_accuracy: 0.7150\n",
            "Epoch 82/500\n",
            "104/104 [==============================] - 3s 31ms/step - loss: 0.5701 - accuracy: 0.7781 - val_loss: 0.6341 - val_accuracy: 0.7729\n",
            "Epoch 83/500\n",
            "104/104 [==============================] - 3s 30ms/step - loss: 0.5548 - accuracy: 0.7872 - val_loss: 0.7117 - val_accuracy: 0.7198\n",
            "Epoch 84/500\n",
            "104/104 [==============================] - 3s 30ms/step - loss: 0.5700 - accuracy: 0.7751 - val_loss: 0.7158 - val_accuracy: 0.7488\n",
            "Epoch 85/500\n",
            "104/104 [==============================] - 3s 31ms/step - loss: 0.5290 - accuracy: 0.7963 - val_loss: 0.6679 - val_accuracy: 0.7440\n",
            "Epoch 86/500\n",
            "104/104 [==============================] - 3s 31ms/step - loss: 0.5189 - accuracy: 0.8035 - val_loss: 0.6815 - val_accuracy: 0.7391\n",
            "Epoch 87/500\n",
            "104/104 [==============================] - 3s 30ms/step - loss: 0.5504 - accuracy: 0.7830 - val_loss: 0.6449 - val_accuracy: 0.7440\n",
            "Epoch 88/500\n",
            "104/104 [==============================] - 3s 32ms/step - loss: 0.5181 - accuracy: 0.8096 - val_loss: 0.6421 - val_accuracy: 0.7343\n",
            "Epoch 89/500\n",
            "104/104 [==============================] - 3s 31ms/step - loss: 0.5272 - accuracy: 0.7854 - val_loss: 0.7100 - val_accuracy: 0.6860\n",
            "Epoch 90/500\n",
            "104/104 [==============================] - 3s 30ms/step - loss: 0.4865 - accuracy: 0.8186 - val_loss: 0.6715 - val_accuracy: 0.7391\n",
            "Epoch 91/500\n",
            "104/104 [==============================] - 3s 31ms/step - loss: 0.5403 - accuracy: 0.7963 - val_loss: 0.6377 - val_accuracy: 0.7729\n",
            "Epoch 92/500\n",
            "104/104 [==============================] - 3s 30ms/step - loss: 0.5214 - accuracy: 0.8023 - val_loss: 0.6350 - val_accuracy: 0.7440\n",
            "Epoch 93/500\n",
            "104/104 [==============================] - 3s 30ms/step - loss: 0.4946 - accuracy: 0.8089 - val_loss: 0.7392 - val_accuracy: 0.7005\n",
            "Epoch 94/500\n",
            "104/104 [==============================] - 3s 30ms/step - loss: 0.4874 - accuracy: 0.8126 - val_loss: 0.6431 - val_accuracy: 0.7536\n",
            "Epoch 95/500\n",
            "104/104 [==============================] - 3s 30ms/step - loss: 0.4940 - accuracy: 0.8059 - val_loss: 0.6202 - val_accuracy: 0.7536\n",
            "Epoch 96/500\n",
            "104/104 [==============================] - 3s 30ms/step - loss: 0.4876 - accuracy: 0.8174 - val_loss: 0.6144 - val_accuracy: 0.7633\n",
            "Epoch 97/500\n",
            "104/104 [==============================] - 3s 31ms/step - loss: 0.4871 - accuracy: 0.8283 - val_loss: 0.6636 - val_accuracy: 0.7488\n",
            "Epoch 98/500\n",
            "104/104 [==============================] - 3s 31ms/step - loss: 0.4695 - accuracy: 0.8289 - val_loss: 0.6293 - val_accuracy: 0.7440\n",
            "Epoch 99/500\n",
            "104/104 [==============================] - 3s 31ms/step - loss: 0.4771 - accuracy: 0.8150 - val_loss: 0.6227 - val_accuracy: 0.7440\n",
            "Epoch 100/500\n",
            "104/104 [==============================] - 3s 30ms/step - loss: 0.4433 - accuracy: 0.8325 - val_loss: 0.6184 - val_accuracy: 0.7536\n",
            "Epoch 101/500\n",
            "104/104 [==============================] - 3s 32ms/step - loss: 0.4649 - accuracy: 0.8289 - val_loss: 0.5771 - val_accuracy: 0.7778\n",
            "Epoch 102/500\n",
            "104/104 [==============================] - 3s 30ms/step - loss: 0.4408 - accuracy: 0.8283 - val_loss: 0.5683 - val_accuracy: 0.7874\n",
            "Epoch 103/500\n",
            "104/104 [==============================] - 3s 31ms/step - loss: 0.4358 - accuracy: 0.8343 - val_loss: 0.5825 - val_accuracy: 0.7778\n",
            "Epoch 104/500\n",
            "104/104 [==============================] - 3s 30ms/step - loss: 0.4558 - accuracy: 0.8259 - val_loss: 0.6913 - val_accuracy: 0.7440\n",
            "Epoch 105/500\n",
            "104/104 [==============================] - 3s 31ms/step - loss: 0.4524 - accuracy: 0.8313 - val_loss: 0.6540 - val_accuracy: 0.7536\n",
            "Epoch 106/500\n",
            "104/104 [==============================] - 3s 32ms/step - loss: 0.4449 - accuracy: 0.8325 - val_loss: 0.5703 - val_accuracy: 0.7826\n",
            "Epoch 107/500\n",
            "104/104 [==============================] - 3s 30ms/step - loss: 0.4245 - accuracy: 0.8271 - val_loss: 0.6616 - val_accuracy: 0.7488\n",
            "Epoch 108/500\n",
            "104/104 [==============================] - 3s 32ms/step - loss: 0.4471 - accuracy: 0.8331 - val_loss: 0.5795 - val_accuracy: 0.7923\n",
            "Epoch 109/500\n",
            "104/104 [==============================] - 3s 30ms/step - loss: 0.4080 - accuracy: 0.8446 - val_loss: 0.6339 - val_accuracy: 0.7585\n",
            "Epoch 110/500\n",
            "104/104 [==============================] - 3s 30ms/step - loss: 0.4142 - accuracy: 0.8482 - val_loss: 0.6149 - val_accuracy: 0.7536\n",
            "Epoch 111/500\n",
            "104/104 [==============================] - 3s 29ms/step - loss: 0.4276 - accuracy: 0.8349 - val_loss: 0.5362 - val_accuracy: 0.7874\n",
            "Epoch 112/500\n",
            "104/104 [==============================] - 3s 31ms/step - loss: 0.3975 - accuracy: 0.8337 - val_loss: 0.6826 - val_accuracy: 0.7488\n",
            "Epoch 113/500\n",
            "104/104 [==============================] - 3s 30ms/step - loss: 0.3829 - accuracy: 0.8615 - val_loss: 0.6306 - val_accuracy: 0.7295\n",
            "Epoch 114/500\n",
            "104/104 [==============================] - 3s 30ms/step - loss: 0.4087 - accuracy: 0.8422 - val_loss: 0.5926 - val_accuracy: 0.7778\n",
            "Epoch 115/500\n",
            "104/104 [==============================] - 3s 29ms/step - loss: 0.3940 - accuracy: 0.8513 - val_loss: 0.6232 - val_accuracy: 0.7488\n",
            "Epoch 116/500\n",
            "104/104 [==============================] - 3s 30ms/step - loss: 0.3910 - accuracy: 0.8597 - val_loss: 0.6108 - val_accuracy: 0.7343\n",
            "Epoch 117/500\n",
            "104/104 [==============================] - 3s 30ms/step - loss: 0.3899 - accuracy: 0.8561 - val_loss: 0.5715 - val_accuracy: 0.7585\n",
            "Epoch 118/500\n",
            "104/104 [==============================] - 3s 30ms/step - loss: 0.3630 - accuracy: 0.8664 - val_loss: 0.5943 - val_accuracy: 0.7585\n",
            "Epoch 119/500\n",
            "104/104 [==============================] - 3s 30ms/step - loss: 0.3681 - accuracy: 0.8549 - val_loss: 0.6267 - val_accuracy: 0.7198\n",
            "Epoch 120/500\n",
            "104/104 [==============================] - 3s 30ms/step - loss: 0.3927 - accuracy: 0.8591 - val_loss: 0.6056 - val_accuracy: 0.7826\n",
            "Epoch 121/500\n",
            "104/104 [==============================] - 3s 31ms/step - loss: 0.3694 - accuracy: 0.8634 - val_loss: 0.5837 - val_accuracy: 0.7729\n",
            "Epoch 122/500\n",
            "104/104 [==============================] - 3s 32ms/step - loss: 0.3708 - accuracy: 0.8579 - val_loss: 0.5546 - val_accuracy: 0.8116\n",
            "Epoch 123/500\n",
            "104/104 [==============================] - 3s 31ms/step - loss: 0.3770 - accuracy: 0.8628 - val_loss: 0.6998 - val_accuracy: 0.7246\n",
            "Epoch 124/500\n",
            "104/104 [==============================] - 3s 33ms/step - loss: 0.3719 - accuracy: 0.8670 - val_loss: 0.5492 - val_accuracy: 0.7585\n",
            "Epoch 125/500\n",
            "104/104 [==============================] - 3s 31ms/step - loss: 0.3477 - accuracy: 0.8664 - val_loss: 0.5523 - val_accuracy: 0.8068\n",
            "Epoch 126/500\n",
            "104/104 [==============================] - 3s 32ms/step - loss: 0.3823 - accuracy: 0.8622 - val_loss: 0.5336 - val_accuracy: 0.8116\n",
            "Epoch 127/500\n",
            "104/104 [==============================] - 3s 33ms/step - loss: 0.3396 - accuracy: 0.8736 - val_loss: 0.6537 - val_accuracy: 0.7681\n",
            "Epoch 128/500\n",
            "104/104 [==============================] - 3s 31ms/step - loss: 0.3341 - accuracy: 0.8634 - val_loss: 0.7645 - val_accuracy: 0.6812\n",
            "Epoch 129/500\n",
            "104/104 [==============================] - 3s 32ms/step - loss: 0.3502 - accuracy: 0.8694 - val_loss: 0.6015 - val_accuracy: 0.7536\n",
            "Epoch 130/500\n",
            "104/104 [==============================] - 3s 31ms/step - loss: 0.3534 - accuracy: 0.8694 - val_loss: 0.6429 - val_accuracy: 0.7488\n",
            "Epoch 131/500\n",
            "104/104 [==============================] - 3s 33ms/step - loss: 0.3433 - accuracy: 0.8694 - val_loss: 0.5933 - val_accuracy: 0.7923\n",
            "Epoch 132/500\n",
            "104/104 [==============================] - 3s 31ms/step - loss: 0.3458 - accuracy: 0.8724 - val_loss: 0.7375 - val_accuracy: 0.7343\n",
            "Epoch 133/500\n",
            "104/104 [==============================] - 3s 31ms/step - loss: 0.3480 - accuracy: 0.8785 - val_loss: 0.5050 - val_accuracy: 0.8116\n",
            "Epoch 134/500\n",
            "104/104 [==============================] - 3s 32ms/step - loss: 0.3260 - accuracy: 0.8857 - val_loss: 0.5444 - val_accuracy: 0.8068\n",
            "Epoch 135/500\n",
            "104/104 [==============================] - 3s 33ms/step - loss: 0.3140 - accuracy: 0.8857 - val_loss: 0.5146 - val_accuracy: 0.7874\n",
            "Epoch 136/500\n",
            "104/104 [==============================] - 3s 32ms/step - loss: 0.3114 - accuracy: 0.8875 - val_loss: 0.5515 - val_accuracy: 0.7536\n",
            "Epoch 137/500\n",
            "104/104 [==============================] - 3s 32ms/step - loss: 0.3108 - accuracy: 0.8821 - val_loss: 0.5138 - val_accuracy: 0.8116\n",
            "Epoch 138/500\n",
            "104/104 [==============================] - 3s 31ms/step - loss: 0.3037 - accuracy: 0.8875 - val_loss: 0.5367 - val_accuracy: 0.8164\n",
            "Epoch 139/500\n",
            "104/104 [==============================] - 3s 32ms/step - loss: 0.3198 - accuracy: 0.8839 - val_loss: 0.5163 - val_accuracy: 0.7826\n",
            "Epoch 140/500\n",
            "104/104 [==============================] - 3s 33ms/step - loss: 0.3112 - accuracy: 0.8881 - val_loss: 0.5647 - val_accuracy: 0.7874\n",
            "Epoch 141/500\n",
            "104/104 [==============================] - 3s 32ms/step - loss: 0.3148 - accuracy: 0.8761 - val_loss: 0.5795 - val_accuracy: 0.8019\n",
            "Epoch 142/500\n",
            "104/104 [==============================] - 3s 32ms/step - loss: 0.2942 - accuracy: 0.8954 - val_loss: 0.5498 - val_accuracy: 0.7826\n",
            "Epoch 143/500\n",
            "104/104 [==============================] - 3s 31ms/step - loss: 0.2943 - accuracy: 0.8990 - val_loss: 0.5188 - val_accuracy: 0.7971\n",
            "Epoch 144/500\n",
            "104/104 [==============================] - 3s 32ms/step - loss: 0.3112 - accuracy: 0.8845 - val_loss: 0.5723 - val_accuracy: 0.7971\n",
            "Epoch 145/500\n",
            "104/104 [==============================] - 3s 32ms/step - loss: 0.2939 - accuracy: 0.8924 - val_loss: 0.6051 - val_accuracy: 0.7633\n",
            "Epoch 146/500\n",
            "104/104 [==============================] - 3s 32ms/step - loss: 0.3008 - accuracy: 0.8924 - val_loss: 0.5985 - val_accuracy: 0.8068\n",
            "Epoch 147/500\n",
            "104/104 [==============================] - 3s 33ms/step - loss: 0.3160 - accuracy: 0.8827 - val_loss: 0.5659 - val_accuracy: 0.7874\n",
            "Epoch 148/500\n",
            "104/104 [==============================] - 3s 32ms/step - loss: 0.2853 - accuracy: 0.8863 - val_loss: 0.5332 - val_accuracy: 0.8164\n",
            "Epoch 149/500\n",
            "104/104 [==============================] - 3s 32ms/step - loss: 0.2747 - accuracy: 0.9021 - val_loss: 0.5733 - val_accuracy: 0.8019\n",
            "Epoch 150/500\n",
            "104/104 [==============================] - 3s 31ms/step - loss: 0.2955 - accuracy: 0.8857 - val_loss: 0.5106 - val_accuracy: 0.8213\n",
            "Epoch 151/500\n",
            "104/104 [==============================] - 3s 31ms/step - loss: 0.2923 - accuracy: 0.8900 - val_loss: 0.4806 - val_accuracy: 0.8502\n",
            "Epoch 152/500\n",
            "104/104 [==============================] - 3s 31ms/step - loss: 0.2762 - accuracy: 0.9027 - val_loss: 0.5441 - val_accuracy: 0.8068\n",
            "Epoch 153/500\n",
            "104/104 [==============================] - 3s 32ms/step - loss: 0.2801 - accuracy: 0.8966 - val_loss: 0.6500 - val_accuracy: 0.7150\n",
            "Epoch 154/500\n",
            "104/104 [==============================] - 3s 31ms/step - loss: 0.2850 - accuracy: 0.8942 - val_loss: 0.6761 - val_accuracy: 0.7681\n",
            "Epoch 155/500\n",
            "104/104 [==============================] - 3s 33ms/step - loss: 0.2774 - accuracy: 0.9021 - val_loss: 0.4938 - val_accuracy: 0.8116\n",
            "Epoch 156/500\n",
            "104/104 [==============================] - 3s 32ms/step - loss: 0.2855 - accuracy: 0.8912 - val_loss: 0.6187 - val_accuracy: 0.7826\n",
            "Epoch 157/500\n",
            "104/104 [==============================] - 3s 32ms/step - loss: 0.2773 - accuracy: 0.8996 - val_loss: 0.5200 - val_accuracy: 0.8261\n",
            "Epoch 158/500\n",
            "104/104 [==============================] - 3s 32ms/step - loss: 0.2742 - accuracy: 0.8978 - val_loss: 0.4479 - val_accuracy: 0.8502\n",
            "Epoch 159/500\n",
            "104/104 [==============================] - 3s 33ms/step - loss: 0.2688 - accuracy: 0.8954 - val_loss: 0.5020 - val_accuracy: 0.8068\n",
            "Epoch 160/500\n",
            "104/104 [==============================] - 3s 31ms/step - loss: 0.2485 - accuracy: 0.9087 - val_loss: 0.5990 - val_accuracy: 0.8019\n",
            "Epoch 161/500\n",
            "104/104 [==============================] - 3s 32ms/step - loss: 0.2783 - accuracy: 0.8972 - val_loss: 0.5235 - val_accuracy: 0.7923\n",
            "Epoch 162/500\n",
            "104/104 [==============================] - 3s 33ms/step - loss: 0.2658 - accuracy: 0.8984 - val_loss: 0.4718 - val_accuracy: 0.8309\n",
            "Epoch 163/500\n",
            "104/104 [==============================] - 3s 32ms/step - loss: 0.2367 - accuracy: 0.9148 - val_loss: 0.5322 - val_accuracy: 0.8019\n",
            "Epoch 164/500\n",
            "104/104 [==============================] - 3s 31ms/step - loss: 0.2366 - accuracy: 0.9135 - val_loss: 0.5188 - val_accuracy: 0.8261\n",
            "Epoch 165/500\n",
            "104/104 [==============================] - 3s 31ms/step - loss: 0.2662 - accuracy: 0.9008 - val_loss: 0.5341 - val_accuracy: 0.7923\n",
            "Epoch 166/500\n",
            "104/104 [==============================] - 3s 31ms/step - loss: 0.2291 - accuracy: 0.9129 - val_loss: 0.5296 - val_accuracy: 0.8019\n",
            "Epoch 167/500\n",
            "104/104 [==============================] - 3s 31ms/step - loss: 0.2607 - accuracy: 0.9027 - val_loss: 0.5395 - val_accuracy: 0.8164\n",
            "Epoch 168/500\n",
            "104/104 [==============================] - 3s 31ms/step - loss: 0.2505 - accuracy: 0.9057 - val_loss: 0.5869 - val_accuracy: 0.8068\n",
            "Epoch 169/500\n",
            "104/104 [==============================] - 3s 32ms/step - loss: 0.2442 - accuracy: 0.9063 - val_loss: 0.5261 - val_accuracy: 0.8068\n",
            "Epoch 170/500\n",
            "104/104 [==============================] - 3s 31ms/step - loss: 0.2429 - accuracy: 0.9178 - val_loss: 0.5522 - val_accuracy: 0.7971\n",
            "Epoch 171/500\n",
            "104/104 [==============================] - 3s 30ms/step - loss: 0.2595 - accuracy: 0.9021 - val_loss: 0.4673 - val_accuracy: 0.8357\n",
            "Epoch 172/500\n",
            "104/104 [==============================] - 3s 31ms/step - loss: 0.2400 - accuracy: 0.9117 - val_loss: 0.4760 - val_accuracy: 0.8068\n",
            "Epoch 173/500\n",
            "104/104 [==============================] - 3s 30ms/step - loss: 0.2353 - accuracy: 0.9178 - val_loss: 0.5149 - val_accuracy: 0.8213\n",
            "Epoch 174/500\n",
            "104/104 [==============================] - 3s 31ms/step - loss: 0.2373 - accuracy: 0.9160 - val_loss: 0.5519 - val_accuracy: 0.8019\n",
            "Epoch 175/500\n",
            "104/104 [==============================] - 3s 31ms/step - loss: 0.2589 - accuracy: 0.9015 - val_loss: 0.4918 - val_accuracy: 0.8213\n",
            "Epoch 176/500\n",
            "104/104 [==============================] - 3s 33ms/step - loss: 0.2484 - accuracy: 0.9111 - val_loss: 0.5495 - val_accuracy: 0.7874\n",
            "Epoch 177/500\n",
            "104/104 [==============================] - 3s 31ms/step - loss: 0.2240 - accuracy: 0.9154 - val_loss: 0.6699 - val_accuracy: 0.7778\n",
            "Epoch 178/500\n",
            "104/104 [==============================] - 3s 31ms/step - loss: 0.2442 - accuracy: 0.9045 - val_loss: 0.5590 - val_accuracy: 0.7874\n",
            "Epoch 179/500\n",
            "104/104 [==============================] - 3s 30ms/step - loss: 0.2195 - accuracy: 0.9220 - val_loss: 0.6432 - val_accuracy: 0.7681\n",
            "Epoch 180/500\n",
            "104/104 [==============================] - 3s 31ms/step - loss: 0.2298 - accuracy: 0.9190 - val_loss: 0.4696 - val_accuracy: 0.8502\n",
            "Epoch 181/500\n",
            "104/104 [==============================] - 3s 32ms/step - loss: 0.2245 - accuracy: 0.9220 - val_loss: 0.5418 - val_accuracy: 0.7971\n",
            "Epoch 182/500\n",
            "104/104 [==============================] - 3s 30ms/step - loss: 0.2200 - accuracy: 0.9184 - val_loss: 0.4895 - val_accuracy: 0.8261\n",
            "Epoch 183/500\n",
            "104/104 [==============================] - 3s 31ms/step - loss: 0.2476 - accuracy: 0.9057 - val_loss: 0.5316 - val_accuracy: 0.7971\n"
          ]
        }
      ]
    },
    {
      "cell_type": "code",
      "source": [
        "plt.plot(cnnhistory.history['loss'])\n",
        "plt.plot(cnnhistory.history['val_loss'])\n",
        "plt.title('model loss')\n",
        "plt.ylabel('loss')\n",
        "plt.xlabel('epoch')\n",
        "plt.legend(['train','test'], loc='upper left')\n",
        "plt.show()"
      ],
      "metadata": {
        "id": "oQYnuaCrDH_A",
        "colab": {
          "base_uri": "https://localhost:8080/",
          "height": 295
        },
        "outputId": "9eae5d68-bc1e-44f0-e629-ce3c05b13f35"
      },
      "execution_count": 15,
      "outputs": [
        {
          "output_type": "display_data",
          "data": {
            "text/plain": [
              "<Figure size 432x288 with 1 Axes>"
            ],
            "image/png": "[encoded data removed]"
          },
          "metadata": {
            "needs_background": "light"
          }
        }
      ]
    },
    {
      "cell_type": "code",
      "source": [
        "plt.plot(cnnhistory.history['accuracy'])\n",
        "plt.plot(cnnhistory.history['val_accuracy'])\n",
        "plt.title('model accuracy')\n",
        "plt.ylabel('accuracy')\n",
        "plt.xlabel('epoch')\n",
        "plt.legend(['train','test'], loc='upper left')\n",
        "plt.show()"
      ],
      "metadata": {
        "id": "IFkTuO8nDNdq",
        "colab": {
          "base_uri": "https://localhost:8080/",
          "height": 295
        },
        "outputId": "de204c54-2af8-4aed-ba06-1a6880a2cbaf"
      },
      "execution_count": 16,
      "outputs": [
        {
          "output_type": "display_data",
          "data": {
            "text/plain": [
              "<Figure size 432x288 with 1 Axes>"
            ],
            "image/png": "[encoded data removed]"
          },
          "metadata": {
            "needs_background": "light"
          }
        }
      ]
    },
    {
      "cell_type": "code",
      "source": [
        "predictions = model.predict(x_testcnn)"
      ],
      "metadata": {
        "id": "A2xtrN5wDQgY"
      },
      "execution_count": 17,
      "outputs": []
    },
    {
      "cell_type": "code",
      "source": [
        "predictions"
      ],
      "metadata": {
        "id": "_f_ohjXKDUpY",
        "colab": {
          "base_uri": "https://localhost:8080/"
        },
        "outputId": "0b791263-7657-410e-b125-1e6f5fe927e7"
      },
      "execution_count": 18,
      "outputs": [
        {
          "output_type": "execute_result",
          "data": {
            "text/plain": [
              "array([[4.8849899e-01, 5.1106557e-02, 2.5804374e-01, 1.7174016e-01,\n",
              "        2.3853434e-02, 6.7571616e-03],\n",
              "       [4.6345557e-04, 6.5209846e-05, 9.2142372e-08, 9.8557603e-01,\n",
              "        4.3771297e-07, 1.3894834e-02],\n",
              "       [2.2677292e-01, 1.9011335e-01, 2.4208304e-02, 5.0713962e-01,\n",
              "        1.2905417e-02, 3.8860407e-02],\n",
              "       ...,\n",
              "       [2.3175731e-05, 2.1173653e-08, 4.4759428e-05, 2.6954028e-06,\n",
              "        9.9973994e-01, 1.8940796e-04],\n",
              "       [1.1129022e-04, 5.8639175e-01, 4.1224188e-01, 1.0113299e-04,\n",
              "        8.9272529e-05, 1.0646685e-03],\n",
              "       [2.3549020e-03, 1.8864168e-03, 1.1873696e-01, 5.8406512e-03,\n",
              "        7.9437292e-01, 7.6808155e-02]], dtype=float32)"
            ]
          },
          "metadata": {},
          "execution_count": 18
        }
      ]
    },
    {
      "cell_type": "code",
      "source": [
        "y_test"
      ],
      "metadata": {
        "id": "cmA2bFgsDW3D",
        "colab": {
          "base_uri": "https://localhost:8080/"
        },
        "outputId": "8b6c0224-8bbc-4fc3-ad80-35ba55298d71"
      },
      "execution_count": 19,
      "outputs": [
        {
          "output_type": "execute_result",
          "data": {
            "text/plain": [
              "array([3, 3, 3, 0, 4, 4, 1, 2, 5, 0, 5, 3, 2, 2, 1, 4, 4, 5, 2, 4, 1, 2,\n",
              "       3, 5, 4, 2, 1, 2, 2, 2, 2, 5, 2, 5, 3, 1, 2, 0, 4, 5, 2, 3, 2, 2,\n",
              "       5, 2, 0, 1, 3, 4, 4, 5, 1, 1, 4, 4, 5, 1, 1, 1, 0, 1, 5, 0, 4, 1,\n",
              "       1, 0, 1, 4, 1, 0, 4, 1, 3, 1, 2, 2, 1, 2, 3, 0, 5, 3, 5, 5, 2, 4,\n",
              "       5, 1, 5, 1, 5, 3, 4, 1, 4, 1, 5, 4, 5, 1, 2, 1, 1, 5, 1, 3, 2, 5,\n",
              "       2, 1, 3, 5, 4, 4, 0, 0, 3, 1, 2, 2, 3, 5, 1, 5, 3, 4, 2, 2, 0, 2,\n",
              "       2, 5, 5, 0, 3, 3, 2, 2, 0, 3, 4, 0, 4, 2, 4, 5, 4, 1, 5, 3, 2, 2,\n",
              "       5, 4, 3, 3, 4, 3, 3, 4, 1, 5, 2, 3, 2, 2, 0, 2, 1, 3, 1, 2, 2, 5,\n",
              "       5, 1, 4, 2, 2, 1, 1, 3, 3, 5, 5, 2, 5, 1, 5, 0, 3, 3, 0, 5, 1, 4,\n",
              "       1, 4, 2, 5, 5, 1, 4, 2, 4])"
            ]
          },
          "metadata": {},
          "execution_count": 19
        }
      ]
    },
    {
      "cell_type": "code",
      "source": [
        "new_Ytest = y_test.astype(int)"
      ],
      "metadata": {
        "id": "0PHDKWJWDY3g"
      },
      "execution_count": 20,
      "outputs": []
    },
    {
      "cell_type": "code",
      "source": [
        "new_Ytest"
      ],
      "metadata": {
        "id": "k68v2i-pDbZE",
        "colab": {
          "base_uri": "https://localhost:8080/"
        },
        "outputId": "400ba2c7-2849-41fa-fb10-d172c70bf0a2"
      },
      "execution_count": 21,
      "outputs": [
        {
          "output_type": "execute_result",
          "data": {
            "text/plain": [
              "array([3, 3, 3, 0, 4, 4, 1, 2, 5, 0, 5, 3, 2, 2, 1, 4, 4, 5, 2, 4, 1, 2,\n",
              "       3, 5, 4, 2, 1, 2, 2, 2, 2, 5, 2, 5, 3, 1, 2, 0, 4, 5, 2, 3, 2, 2,\n",
              "       5, 2, 0, 1, 3, 4, 4, 5, 1, 1, 4, 4, 5, 1, 1, 1, 0, 1, 5, 0, 4, 1,\n",
              "       1, 0, 1, 4, 1, 0, 4, 1, 3, 1, 2, 2, 1, 2, 3, 0, 5, 3, 5, 5, 2, 4,\n",
              "       5, 1, 5, 1, 5, 3, 4, 1, 4, 1, 5, 4, 5, 1, 2, 1, 1, 5, 1, 3, 2, 5,\n",
              "       2, 1, 3, 5, 4, 4, 0, 0, 3, 1, 2, 2, 3, 5, 1, 5, 3, 4, 2, 2, 0, 2,\n",
              "       2, 5, 5, 0, 3, 3, 2, 2, 0, 3, 4, 0, 4, 2, 4, 5, 4, 1, 5, 3, 2, 2,\n",
              "       5, 4, 3, 3, 4, 3, 3, 4, 1, 5, 2, 3, 2, 2, 0, 2, 1, 3, 1, 2, 2, 5,\n",
              "       5, 1, 4, 2, 2, 1, 1, 3, 3, 5, 5, 2, 5, 1, 5, 0, 3, 3, 0, 5, 1, 4,\n",
              "       1, 4, 2, 5, 5, 1, 4, 2, 4])"
            ]
          },
          "metadata": {},
          "execution_count": 21
        }
      ]
    },
    {
      "cell_type": "code",
      "source": [
        "preds1=predictions.argmax(axis=1)\n",
        "preds1"
      ],
      "metadata": {
        "id": "4_cAI39VFhtp",
        "colab": {
          "base_uri": "https://localhost:8080/"
        },
        "outputId": "071f15ac-13d4-446e-dfb7-1ff08c0841ed"
      },
      "execution_count": 22,
      "outputs": [
        {
          "output_type": "execute_result",
          "data": {
            "text/plain": [
              "array([0, 3, 3, 0, 4, 4, 1, 2, 5, 1, 5, 3, 1, 2, 0, 4, 4, 3, 3, 4, 2, 2,\n",
              "       0, 3, 4, 2, 1, 1, 2, 2, 2, 5, 2, 5, 3, 1, 2, 0, 4, 5, 2, 5, 2, 2,\n",
              "       5, 2, 1, 1, 3, 4, 4, 1, 1, 1, 4, 4, 5, 1, 1, 1, 0, 1, 2, 1, 4, 1,\n",
              "       1, 1, 1, 4, 1, 0, 4, 1, 5, 1, 2, 2, 1, 2, 1, 0, 5, 3, 5, 5, 2, 5,\n",
              "       5, 1, 0, 1, 5, 3, 4, 1, 0, 1, 5, 4, 5, 1, 2, 1, 1, 5, 1, 3, 2, 5,\n",
              "       1, 1, 3, 5, 4, 4, 3, 0, 3, 1, 1, 2, 1, 3, 0, 5, 3, 5, 2, 2, 0, 2,\n",
              "       2, 3, 3, 0, 3, 3, 2, 2, 0, 3, 4, 0, 4, 4, 4, 1, 4, 1, 5, 3, 2, 2,\n",
              "       5, 4, 3, 5, 4, 5, 3, 4, 1, 5, 2, 3, 2, 2, 0, 2, 1, 3, 1, 4, 2, 5,\n",
              "       5, 1, 4, 2, 4, 1, 1, 3, 3, 5, 5, 2, 5, 1, 2, 0, 3, 3, 2, 2, 1, 4,\n",
              "       1, 4, 0, 5, 5, 3, 4, 1, 4])"
            ]
          },
          "metadata": {},
          "execution_count": 22
        }
      ]
    },
    {
      "cell_type": "code",
      "source": [
        "abc = preds1.astype(int).flatten()"
      ],
      "metadata": {
        "id": "H4WEmM60NfQn"
      },
      "execution_count": 23,
      "outputs": []
    },
    {
      "cell_type": "code",
      "source": [
        "from sklearn.metrics import confusion_matrix\n",
        "c = confusion_matrix(new_Ytest, abc) \n",
        "c"
      ],
      "metadata": {
        "id": "bKEBeEBlFjB8",
        "colab": {
          "base_uri": "https://localhost:8080/"
        },
        "outputId": "f38117d3-b4d7-4a82-d084-be493d99ce76"
      },
      "execution_count": 24,
      "outputs": [
        {
          "output_type": "execute_result",
          "data": {
            "text/plain": [
              "array([[12,  4,  1,  1,  0,  0],\n",
              "       [ 2, 37,  1,  1,  0,  0],\n",
              "       [ 1,  5, 35,  1,  3,  0],\n",
              "       [ 2,  2,  0, 23,  0,  4],\n",
              "       [ 1,  0,  0,  0, 30,  2],\n",
              "       [ 1,  2,  3,  5,  0, 28]])"
            ]
          },
          "metadata": {},
          "execution_count": 24
        }
      ]
    },
    {
      "cell_type": "code",
      "source": [
        "y_test"
      ],
      "metadata": {
        "id": "m4RjG7LWLSQx",
        "colab": {
          "base_uri": "https://localhost:8080/"
        },
        "outputId": "caad6626-38c5-4a70-b705-129d4c98e43f"
      },
      "execution_count": 25,
      "outputs": [
        {
          "output_type": "execute_result",
          "data": {
            "text/plain": [
              "array([3, 3, 3, 0, 4, 4, 1, 2, 5, 0, 5, 3, 2, 2, 1, 4, 4, 5, 2, 4, 1, 2,\n",
              "       3, 5, 4, 2, 1, 2, 2, 2, 2, 5, 2, 5, 3, 1, 2, 0, 4, 5, 2, 3, 2, 2,\n",
              "       5, 2, 0, 1, 3, 4, 4, 5, 1, 1, 4, 4, 5, 1, 1, 1, 0, 1, 5, 0, 4, 1,\n",
              "       1, 0, 1, 4, 1, 0, 4, 1, 3, 1, 2, 2, 1, 2, 3, 0, 5, 3, 5, 5, 2, 4,\n",
              "       5, 1, 5, 1, 5, 3, 4, 1, 4, 1, 5, 4, 5, 1, 2, 1, 1, 5, 1, 3, 2, 5,\n",
              "       2, 1, 3, 5, 4, 4, 0, 0, 3, 1, 2, 2, 3, 5, 1, 5, 3, 4, 2, 2, 0, 2,\n",
              "       2, 5, 5, 0, 3, 3, 2, 2, 0, 3, 4, 0, 4, 2, 4, 5, 4, 1, 5, 3, 2, 2,\n",
              "       5, 4, 3, 3, 4, 3, 3, 4, 1, 5, 2, 3, 2, 2, 0, 2, 1, 3, 1, 2, 2, 5,\n",
              "       5, 1, 4, 2, 2, 1, 1, 3, 3, 5, 5, 2, 5, 1, 5, 0, 3, 3, 0, 5, 1, 4,\n",
              "       1, 4, 2, 5, 5, 1, 4, 2, 4])"
            ]
          },
          "metadata": {},
          "execution_count": 25
        }
      ]
    },
    {
      "cell_type": "code",
      "source": [
        "loss, acc =model.evaluate(x_testcnn, y_test)\n",
        "print(\"Restored model, accuracy: {:5.2f}%\".format(100*acc))"
      ],
      "metadata": {
        "id": "n3kzoqPkDqqS",
        "colab": {
          "base_uri": "https://localhost:8080/"
        },
        "outputId": "bf126f42-a05e-4abe-d241-5d1db863d7d3"
      },
      "execution_count": 26,
      "outputs": [
        {
          "output_type": "stream",
          "name": "stdout",
          "text": [
            "7/7 [==============================] - 0s 13ms/step - loss: 0.5044 - accuracy: 0.7971\n",
            "Restored model, accuracy: 79.71%\n"
          ]
        }
      ]
    },
    {
      "cell_type": "code",
      "source": [
        "loss, acc =model.evaluate(X_train, y_train)\n",
        "print(\"Restored model train, accuracy: {:5.2f}%\".format(100*acc))"
      ],
      "metadata": {
        "id": "fJDTGH_OUX0z",
        "colab": {
          "base_uri": "https://localhost:8080/"
        },
        "outputId": "ee2a0c8e-d07f-4d15-dedb-f53a68e27822"
      },
      "execution_count": 27,
      "outputs": [
        {
          "output_type": "stream",
          "name": "stdout",
          "text": [
            "52/52 [==============================] - 1s 14ms/step - loss: 0.1272 - accuracy: 0.9794\n",
            "Restored model train, accuracy: 97.94%\n"
          ]
        }
      ]
    },
    {
      "cell_type": "code",
      "source": [
        "from sklearn.metrics import classification_report, confusion_matrix,accuracy_score\n",
        "import seaborn as sn\n",
        "\n",
        "print(classification_report(new_Ytest,abc))\n",
        "\n",
        "acc = float(accuracy_score(new_Ytest,abc))*100\n",
        "print(\"----accuracy score %s ----\" % acc)\n",
        "\n",
        "cm = confusion_matrix(new_Ytest,abc)\n",
        "#df_cm = pd.DataFrame(cm)\n",
        "class_names = ['neutral','calm', 'happy','sad','angry', 'fearful' ]\n",
        "df_cm = pd.DataFrame(cm, index=class_names, columns=class_names,)\n",
        "sn.heatmap(df_cm, annot=True, fmt='')\n",
        "plt.show()"
      ],
      "metadata": {
        "id": "SfSC3El94LZg",
        "colab": {
          "base_uri": "https://localhost:8080/",
          "height": 522
        },
        "outputId": "aa72e71d-629e-4e47-e08f-acf193b0a6b1"
      },
      "execution_count": 28,
      "outputs": [
        {
          "output_type": "stream",
          "name": "stdout",
          "text": [
            "              precision    recall  f1-score   support\n",
            "\n",
            "           0       0.63      0.67      0.65        18\n",
            "           1       0.74      0.90      0.81        41\n",
            "           2       0.88      0.78      0.82        45\n",
            "           3       0.74      0.74      0.74        31\n",
            "           4       0.91      0.91      0.91        33\n",
            "           5       0.82      0.72      0.77        39\n",
            "\n",
            "    accuracy                           0.80       207\n",
            "   macro avg       0.79      0.79      0.78       207\n",
            "weighted avg       0.80      0.80      0.80       207\n",
            "\n",
            "----accuracy score 79.71014492753623 ----\n"
          ]
        },
        {
          "output_type": "display_data",
          "data": {
            "text/plain": [
              "<Figure size 432x288 with 2 Axes>"
            ],
            "image/png": "[encoded data removed]"
          },
          "metadata": {
            "needs_background": "light"
          }
        }
      ]
    }
  ]
}