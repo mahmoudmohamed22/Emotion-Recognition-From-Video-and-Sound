{
  "nbformat": 4,
  "nbformat_minor": 0,
  "metadata": {
    "colab": {
      "name": "divide video into frames.ipynb",
      "provenance": [],
      "collapsed_sections": []
    },
    "kernelspec": {
      "name": "python3",
      "display_name": "Python 3"
    },
    "language_info": {
      "name": "python"
    }
  },
  "cells": [
    {
      "cell_type": "code",
      "execution_count": 65,
      "metadata": {
        "id": "I4h0dMY3tqWm"
      },
      "outputs": [],
      "source": [
        "import os\n",
        "import cv2\n",
        "import numpy as np\n",
        "from moviepy.editor import VideoFileClip\n",
        "\n",
        "\n",
        "class VideoProcessor(object):\n",
        "    def __init__(self, video_path, landmark_path, output_folder, extract_audio):\n",
        "        # path of the video file\n",
        "        self.video_path = video_path\n",
        "        self.landmarks_path = landmark_path\n",
        "        self.extract_audio = extract_audio\n",
        "        self.frames_folder = os.path.join(output_folder, \"frames\")\n",
        "        self.audios_folder = os.path.join(output_folder, \"audios\")\n",
        "\n",
        "        if not os.path.exists(output_folder):\n",
        "            os.mkdir(output_folder)\n",
        "        if not os.path.exists(self.audios_folder):\n",
        "            os.mkdir(self.audios_folder)\n",
        "        if not os.path.exists(self.frames_folder):\n",
        "            os.mkdir(self.frames_folder)\n",
        "\n",
        "    def preprocess(self, seq_len=30, target_resolution=(224, 224)):\n",
        "        \"\"\"\n",
        "        extract frames and audio from the video,\n",
        "        store the cropped frames and audio file in the output folders\n",
        "        seq_len: how many frames will be extracted from the video.\n",
        "                  Considering all videos from this dataset have similar duration\n",
        "                  video_duration = seq_len / fps\n",
        "        target_resolution: (desired_height, desired_width) of the facial frame extracted\n",
        "        \"\"\"\n",
        "        print(\"self video path : \"+self.video_path)\n",
        "        video = VideoFileClip(self.video_path, audio=self.extract_audio, target_resolution=target_resolution)\n",
        "        if self.extract_audio:\n",
        "            video.audio.write_audiofile(os.path.join(self.audios_folder, \"audio.wav\"))\n",
        "\n",
        "        times = list(np.arange(0, video.duration, video.duration/seq_len))\n",
        "        if len(times) < seq_len:\n",
        "            times.append(video.duration)\n",
        "        times = times[:seq_len]\n",
        "\n",
        "        # extract 2D points from csv\n",
        "        data = np.genfromtxt(self.landmarks_path, delimiter=',')[1:]\n",
        "        lm_times = [int(np.ceil(t)) for t in list(np.arange(0, len(data), len(data) / seq_len))]\n",
        "        if len(lm_times) < seq_len:\n",
        "            lm_times.append(len(data) - 1)\n",
        "        lm_times = lm_times[:seq_len]\n",
        "        index_x = (298, 366)\n",
        "        index_y = (366, 433)\n",
        "        landmarks_2d_x = [data[t, index_x[0] - 1:index_x[1] - 1] * (1 / 1280) for t in lm_times]\n",
        "        landmarks_2d_y = [data[t, index_y[0] - 1:index_y[1]] * (1 / 720) for t in lm_times]\n",
        "\n",
        "        for i, t in enumerate(times):\n",
        "            img = cv2.cvtColor(video.get_frame(t), cv2.COLOR_BGR2RGB)\n",
        "            # extract roi from landmarks and crop\n",
        "            xs, ys = landmarks_2d_x[i], landmarks_2d_y[i]\n",
        "            bottom = int(max(ys) * img.shape[0])\n",
        "            right = int(max(xs) * img.shape[1])\n",
        "            top = int(min(ys) * img.shape[0])\n",
        "            left = int(min(xs) * img.shape[1])\n",
        "\n",
        "            cropped = cv2.resize(img[top:bottom, left:right, :], target_resolution)\n",
        "            cv2.imwrite(os.path.join(self.frames_folder, \"frame_{0:.2f}.jpg\".format(t)), cropped)\n",
        "\n",
        "        print(\"Video duration {} seconds. Extracted {} frames\".format(video.duration, len(times)))"
      ]
    },
    {
      "cell_type": "code",
      "source": [
        "import numpy as np\n",
        "import glob\n",
        "import os\n",
        "import argparse\n",
        "from tqdm import tqdm\n",
        "import librosa\n",
        "\n",
        "\n",
        "\n",
        "def preprocess_video(dataset_folder):\n",
        "    output_folder = os.path.join(dataset_folder, \"preprocessed\")\n",
        "    landmark_folder = os.path.join(dataset_folder, \"landmarks\")\n",
        "\n",
        "    for each_actor in glob.glob(os.path.join(dataset_folder, \"Actor*\")):\n",
        "        actor_name = os.path.basename(each_actor)\n",
        "        output_actor_folder = os.path.join(output_folder, actor_name)\n",
        "        print(\"output actor folder : \"+output_actor_folder)\n",
        "        if not os.path.exists(output_actor_folder):\n",
        "            os.makedirs(output_actor_folder)\n",
        "\n",
        "        for each_video in glob.glob(os.path.join(each_actor, \"*.mp4\")):\n",
        "            print(\"each video :\"+each_video)\n",
        "            name = each_video.split(\"/\")[-1].split(\"-\")[0]\n",
        "            print(\"name : \"+name)\n",
        "            if int(name) == 2:\n",
        "                continue\n",
        "            video_name = os.path.basename(each_video)\n",
        "            print('video name : '+video_name)\n",
        "            landmark_path = os.path.join(landmark_folder, video_name[:-4] + '.csv')\n",
        "            print('landmark path : '+landmark_path)\n",
        "            frames_folder = os.path.join(output_actor_folder, video_name)\n",
        "            print(\"frames folder : \"+frames_folder)\n",
        "            if not os.path.exists(frames_folder):\n",
        "                os.mkdir(frames_folder)\n",
        "            print(\"frame folder : \"+frames_folder)    \n",
        "            video_processor = VideoProcessor(video_path=each_video, landmark_path=landmark_path,\n",
        "                                             output_folder=frames_folder, extract_audio=True)\n",
        "            video_processor.preprocess(seq_len=30, target_resolution=(224, 224))"
      ],
      "metadata": {
        "id": "IxeUfVO-w5fw"
      },
      "execution_count": 66,
      "outputs": []
    },
    {
      "cell_type": "code",
      "source": [
        "if __name__ == \"__main__\":\n",
        "    #parser = argparse.ArgumentParser()\n",
        "    #parser.add_argument('/content/drive/MyDrive/Datasetvideo/', type=str, help='dataset directory', default='RAVDESS')\n",
        "    #args = parser.parse_args()\n",
        "\n",
        "    print(\"Processing videos...\")\n",
        "    preprocess_video('/content/drive/MyDrive/Datasetvideo/')\n",
        "\n",
        "   \n",
        "\n",
        "    print(\"Preprocessed dataset located in \", os.path.join('/content/drive/MyDrive/Datasetvideo/', 'preprocessed'))"
      ],
      "metadata": {
        "colab": {
          "base_uri": "https://localhost:8080/"
        },
        "id": "8UIyzllTxB2Y",
        "outputId": "24bad53d-4dc3-476f-ab45-4724b4bc345e"
      },
      "execution_count": 67,
      "outputs": [
        {
          "output_type": "stream",
          "name": "stdout",
          "text": [
            "Processing videos...\n",
            "output actor folder : /content/drive/MyDrive/Datasetvideo/preprocessed/Actor_01\n",
            "each video :/content/drive/MyDrive/Datasetvideo/Actor_01/01-01-01-01-01-01-01.mp4\n",
            "name : 01\n",
            "video name : 01-01-01-01-01-01-01.mp4\n",
            "landmark path : /content/drive/MyDrive/Datasetvideo/landmarks/01-01-01-01-01-01-01.csv\n",
            "frames folder : /content/drive/MyDrive/Datasetvideo/preprocessed/Actor_01/01-01-01-01-01-01-01.mp4\n",
            "frame folder : /content/drive/MyDrive/Datasetvideo/preprocessed/Actor_01/01-01-01-01-01-01-01.mp4\n",
            "self video path : /content/drive/MyDrive/Datasetvideo/Actor_01/01-01-01-01-01-01-01.mp4\n",
            "[MoviePy] Writing audio in /content/drive/MyDrive/Datasetvideo/preprocessed/Actor_01/01-01-01-01-01-01-01.mp4/audios/audio.wav\n"
          ]
        },
        {
          "output_type": "stream",
          "name": "stderr",
          "text": [
            "100%|██████████| 74/74 [00:00<00:00, 1731.86it/s]"
          ]
        },
        {
          "output_type": "stream",
          "name": "stdout",
          "text": [
            "[MoviePy] Done.\n"
          ]
        },
        {
          "output_type": "stream",
          "name": "stderr",
          "text": [
            "\n"
          ]
        },
        {
          "output_type": "stream",
          "name": "stdout",
          "text": [
            "Video duration 3.35 seconds. Extracted 30 frames\n",
            "each video :/content/drive/MyDrive/Datasetvideo/Actor_01/01-01-01-01-02-01-01.mp4\n",
            "name : 01\n",
            "video name : 01-01-01-01-02-01-01.mp4\n",
            "landmark path : /content/drive/MyDrive/Datasetvideo/landmarks/01-01-01-01-02-01-01.csv\n",
            "frames folder : /content/drive/MyDrive/Datasetvideo/preprocessed/Actor_01/01-01-01-01-02-01-01.mp4\n",
            "frame folder : /content/drive/MyDrive/Datasetvideo/preprocessed/Actor_01/01-01-01-01-02-01-01.mp4\n",
            "self video path : /content/drive/MyDrive/Datasetvideo/Actor_01/01-01-01-01-02-01-01.mp4\n",
            "[MoviePy] Writing audio in /content/drive/MyDrive/Datasetvideo/preprocessed/Actor_01/01-01-01-01-02-01-01.mp4/audios/audio.wav\n"
          ]
        },
        {
          "output_type": "stream",
          "name": "stderr",
          "text": [
            "100%|██████████| 73/73 [00:00<00:00, 1693.40it/s]"
          ]
        },
        {
          "output_type": "stream",
          "name": "stdout",
          "text": [
            "[MoviePy] Done.\n"
          ]
        },
        {
          "output_type": "stream",
          "name": "stderr",
          "text": [
            "\n"
          ]
        },
        {
          "output_type": "stream",
          "name": "stdout",
          "text": [
            "Video duration 3.31 seconds. Extracted 30 frames\n",
            "each video :/content/drive/MyDrive/Datasetvideo/Actor_01/01-01-02-01-02-01-01.mp4\n",
            "name : 01\n",
            "video name : 01-01-02-01-02-01-01.mp4\n",
            "landmark path : /content/drive/MyDrive/Datasetvideo/landmarks/01-01-02-01-02-01-01.csv\n",
            "frames folder : /content/drive/MyDrive/Datasetvideo/preprocessed/Actor_01/01-01-02-01-02-01-01.mp4\n",
            "frame folder : /content/drive/MyDrive/Datasetvideo/preprocessed/Actor_01/01-01-02-01-02-01-01.mp4\n",
            "self video path : /content/drive/MyDrive/Datasetvideo/Actor_01/01-01-02-01-02-01-01.mp4\n",
            "[MoviePy] Writing audio in /content/drive/MyDrive/Datasetvideo/preprocessed/Actor_01/01-01-02-01-02-01-01.mp4/audios/audio.wav\n"
          ]
        },
        {
          "output_type": "stream",
          "name": "stderr",
          "text": [
            "100%|██████████| 79/79 [00:00<00:00, 1568.62it/s]"
          ]
        },
        {
          "output_type": "stream",
          "name": "stdout",
          "text": [
            "[MoviePy] Done.\n"
          ]
        },
        {
          "output_type": "stream",
          "name": "stderr",
          "text": [
            "\n"
          ]
        },
        {
          "output_type": "stream",
          "name": "stdout",
          "text": [
            "Video duration 3.54 seconds. Extracted 30 frames\n",
            "each video :/content/drive/MyDrive/Datasetvideo/Actor_01/01-01-02-01-02-02-01.mp4\n",
            "name : 01\n",
            "video name : 01-01-02-01-02-02-01.mp4\n",
            "landmark path : /content/drive/MyDrive/Datasetvideo/landmarks/01-01-02-01-02-02-01.csv\n",
            "frames folder : /content/drive/MyDrive/Datasetvideo/preprocessed/Actor_01/01-01-02-01-02-02-01.mp4\n",
            "frame folder : /content/drive/MyDrive/Datasetvideo/preprocessed/Actor_01/01-01-02-01-02-02-01.mp4\n",
            "self video path : /content/drive/MyDrive/Datasetvideo/Actor_01/01-01-02-01-02-02-01.mp4\n",
            "[MoviePy] Writing audio in /content/drive/MyDrive/Datasetvideo/preprocessed/Actor_01/01-01-02-01-02-02-01.mp4/audios/audio.wav\n"
          ]
        },
        {
          "output_type": "stream",
          "name": "stderr",
          "text": [
            "100%|██████████| 78/78 [00:00<00:00, 1746.70it/s]"
          ]
        },
        {
          "output_type": "stream",
          "name": "stdout",
          "text": [
            "[MoviePy] Done.\n"
          ]
        },
        {
          "output_type": "stream",
          "name": "stderr",
          "text": [
            "\n"
          ]
        },
        {
          "output_type": "stream",
          "name": "stdout",
          "text": [
            "Video duration 3.52 seconds. Extracted 30 frames\n",
            "each video :/content/drive/MyDrive/Datasetvideo/Actor_01/01-01-02-01-01-01-01.mp4\n",
            "name : 01\n",
            "video name : 01-01-02-01-01-01-01.mp4\n",
            "landmark path : /content/drive/MyDrive/Datasetvideo/landmarks/01-01-02-01-01-01-01.csv\n",
            "frames folder : /content/drive/MyDrive/Datasetvideo/preprocessed/Actor_01/01-01-02-01-01-01-01.mp4\n",
            "frame folder : /content/drive/MyDrive/Datasetvideo/preprocessed/Actor_01/01-01-02-01-01-01-01.mp4\n",
            "self video path : /content/drive/MyDrive/Datasetvideo/Actor_01/01-01-02-01-01-01-01.mp4\n",
            "[MoviePy] Writing audio in /content/drive/MyDrive/Datasetvideo/preprocessed/Actor_01/01-01-02-01-01-01-01.mp4/audios/audio.wav\n"
          ]
        },
        {
          "output_type": "stream",
          "name": "stderr",
          "text": [
            "100%|██████████| 79/79 [00:00<00:00, 1655.52it/s]"
          ]
        },
        {
          "output_type": "stream",
          "name": "stdout",
          "text": [
            "[MoviePy] Done.\n"
          ]
        },
        {
          "output_type": "stream",
          "name": "stderr",
          "text": [
            "\n"
          ]
        },
        {
          "output_type": "stream",
          "name": "stdout",
          "text": [
            "Video duration 3.58 seconds. Extracted 30 frames\n",
            "each video :/content/drive/MyDrive/Datasetvideo/Actor_01/01-01-02-01-01-02-01.mp4\n",
            "name : 01\n",
            "video name : 01-01-02-01-01-02-01.mp4\n",
            "landmark path : /content/drive/MyDrive/Datasetvideo/landmarks/01-01-02-01-01-02-01.csv\n",
            "frames folder : /content/drive/MyDrive/Datasetvideo/preprocessed/Actor_01/01-01-02-01-01-02-01.mp4\n",
            "frame folder : /content/drive/MyDrive/Datasetvideo/preprocessed/Actor_01/01-01-02-01-01-02-01.mp4\n",
            "self video path : /content/drive/MyDrive/Datasetvideo/Actor_01/01-01-02-01-01-02-01.mp4\n",
            "[MoviePy] Writing audio in /content/drive/MyDrive/Datasetvideo/preprocessed/Actor_01/01-01-02-01-01-02-01.mp4/audios/audio.wav\n"
          ]
        },
        {
          "output_type": "stream",
          "name": "stderr",
          "text": [
            "100%|██████████| 81/81 [00:00<00:00, 1654.59it/s]"
          ]
        },
        {
          "output_type": "stream",
          "name": "stdout",
          "text": [
            "[MoviePy] Done.\n"
          ]
        },
        {
          "output_type": "stream",
          "name": "stderr",
          "text": [
            "\n"
          ]
        },
        {
          "output_type": "stream",
          "name": "stdout",
          "text": [
            "Video duration 3.65 seconds. Extracted 30 frames\n",
            "each video :/content/drive/MyDrive/Datasetvideo/Actor_01/01-01-01-01-01-02-01.mp4\n",
            "name : 01\n",
            "video name : 01-01-01-01-01-02-01.mp4\n",
            "landmark path : /content/drive/MyDrive/Datasetvideo/landmarks/01-01-01-01-01-02-01.csv\n",
            "frames folder : /content/drive/MyDrive/Datasetvideo/preprocessed/Actor_01/01-01-01-01-01-02-01.mp4\n",
            "frame folder : /content/drive/MyDrive/Datasetvideo/preprocessed/Actor_01/01-01-01-01-01-02-01.mp4\n",
            "self video path : /content/drive/MyDrive/Datasetvideo/Actor_01/01-01-01-01-01-02-01.mp4\n",
            "[MoviePy] Writing audio in /content/drive/MyDrive/Datasetvideo/preprocessed/Actor_01/01-01-01-01-01-02-01.mp4/audios/audio.wav\n"
          ]
        },
        {
          "output_type": "stream",
          "name": "stderr",
          "text": [
            "100%|██████████| 75/75 [00:00<00:00, 1622.91it/s]"
          ]
        },
        {
          "output_type": "stream",
          "name": "stdout",
          "text": [
            "[MoviePy] Done.\n"
          ]
        },
        {
          "output_type": "stream",
          "name": "stderr",
          "text": [
            "\n"
          ]
        },
        {
          "output_type": "stream",
          "name": "stdout",
          "text": [
            "Video duration 3.37 seconds. Extracted 30 frames\n",
            "each video :/content/drive/MyDrive/Datasetvideo/Actor_01/01-01-01-01-02-02-01.mp4\n",
            "name : 01\n",
            "video name : 01-01-01-01-02-02-01.mp4\n",
            "landmark path : /content/drive/MyDrive/Datasetvideo/landmarks/01-01-01-01-02-02-01.csv\n",
            "frames folder : /content/drive/MyDrive/Datasetvideo/preprocessed/Actor_01/01-01-01-01-02-02-01.mp4\n",
            "frame folder : /content/drive/MyDrive/Datasetvideo/preprocessed/Actor_01/01-01-01-01-02-02-01.mp4\n",
            "self video path : /content/drive/MyDrive/Datasetvideo/Actor_01/01-01-01-01-02-02-01.mp4\n",
            "[MoviePy] Writing audio in /content/drive/MyDrive/Datasetvideo/preprocessed/Actor_01/01-01-01-01-02-02-01.mp4/audios/audio.wav\n"
          ]
        },
        {
          "output_type": "stream",
          "name": "stderr",
          "text": [
            "100%|██████████| 72/72 [00:00<00:00, 1437.49it/s]"
          ]
        },
        {
          "output_type": "stream",
          "name": "stdout",
          "text": [
            "[MoviePy] Done.\n"
          ]
        },
        {
          "output_type": "stream",
          "name": "stderr",
          "text": [
            "\n"
          ]
        },
        {
          "output_type": "stream",
          "name": "stdout",
          "text": [
            "Video duration 3.22 seconds. Extracted 30 frames\n",
            "each video :/content/drive/MyDrive/Datasetvideo/Actor_01/01-01-02-02-01-01-01.mp4\n",
            "name : 01\n",
            "video name : 01-01-02-02-01-01-01.mp4\n",
            "landmark path : /content/drive/MyDrive/Datasetvideo/landmarks/01-01-02-02-01-01-01.csv\n",
            "frames folder : /content/drive/MyDrive/Datasetvideo/preprocessed/Actor_01/01-01-02-02-01-01-01.mp4\n",
            "frame folder : /content/drive/MyDrive/Datasetvideo/preprocessed/Actor_01/01-01-02-02-01-01-01.mp4\n",
            "self video path : /content/drive/MyDrive/Datasetvideo/Actor_01/01-01-02-02-01-01-01.mp4\n",
            "[MoviePy] Writing audio in /content/drive/MyDrive/Datasetvideo/preprocessed/Actor_01/01-01-02-02-01-01-01.mp4/audios/audio.wav\n"
          ]
        },
        {
          "output_type": "stream",
          "name": "stderr",
          "text": [
            "100%|██████████| 83/83 [00:00<00:00, 1600.67it/s]"
          ]
        },
        {
          "output_type": "stream",
          "name": "stdout",
          "text": [
            "[MoviePy] Done.\n"
          ]
        },
        {
          "output_type": "stream",
          "name": "stderr",
          "text": [
            "\n"
          ]
        },
        {
          "output_type": "stream",
          "name": "stdout",
          "text": [
            "Video duration 3.75 seconds. Extracted 30 frames\n",
            "each video :/content/drive/MyDrive/Datasetvideo/Actor_01/01-01-02-02-01-02-01.mp4\n",
            "name : 01\n",
            "video name : 01-01-02-02-01-02-01.mp4\n",
            "landmark path : /content/drive/MyDrive/Datasetvideo/landmarks/01-01-02-02-01-02-01.csv\n",
            "frames folder : /content/drive/MyDrive/Datasetvideo/preprocessed/Actor_01/01-01-02-02-01-02-01.mp4\n",
            "frame folder : /content/drive/MyDrive/Datasetvideo/preprocessed/Actor_01/01-01-02-02-01-02-01.mp4\n",
            "self video path : /content/drive/MyDrive/Datasetvideo/Actor_01/01-01-02-02-01-02-01.mp4\n",
            "[MoviePy] Writing audio in /content/drive/MyDrive/Datasetvideo/preprocessed/Actor_01/01-01-02-02-01-02-01.mp4/audios/audio.wav\n"
          ]
        },
        {
          "output_type": "stream",
          "name": "stderr",
          "text": [
            "100%|██████████| 90/90 [00:00<00:00, 1163.63it/s]"
          ]
        },
        {
          "output_type": "stream",
          "name": "stdout",
          "text": [
            "[MoviePy] Done.\n"
          ]
        },
        {
          "output_type": "stream",
          "name": "stderr",
          "text": [
            "\n"
          ]
        },
        {
          "output_type": "stream",
          "name": "stdout",
          "text": [
            "Video duration 4.05 seconds. Extracted 30 frames\n",
            "each video :/content/drive/MyDrive/Datasetvideo/Actor_01/01-01-02-02-02-01-01.mp4\n",
            "name : 01\n",
            "video name : 01-01-02-02-02-01-01.mp4\n",
            "landmark path : /content/drive/MyDrive/Datasetvideo/landmarks/01-01-02-02-02-01-01.csv\n",
            "frames folder : /content/drive/MyDrive/Datasetvideo/preprocessed/Actor_01/01-01-02-02-02-01-01.mp4\n",
            "frame folder : /content/drive/MyDrive/Datasetvideo/preprocessed/Actor_01/01-01-02-02-02-01-01.mp4\n",
            "self video path : /content/drive/MyDrive/Datasetvideo/Actor_01/01-01-02-02-02-01-01.mp4\n",
            "[MoviePy] Writing audio in /content/drive/MyDrive/Datasetvideo/preprocessed/Actor_01/01-01-02-02-02-01-01.mp4/audios/audio.wav\n"
          ]
        },
        {
          "output_type": "stream",
          "name": "stderr",
          "text": [
            "100%|██████████| 94/94 [00:00<00:00, 1557.96it/s]"
          ]
        },
        {
          "output_type": "stream",
          "name": "stdout",
          "text": [
            "[MoviePy] Done.\n"
          ]
        },
        {
          "output_type": "stream",
          "name": "stderr",
          "text": [
            "\n"
          ]
        },
        {
          "output_type": "stream",
          "name": "stdout",
          "text": [
            "Video duration 4.25 seconds. Extracted 30 frames\n",
            "each video :/content/drive/MyDrive/Datasetvideo/Actor_01/01-01-03-01-01-01-01.mp4\n",
            "name : 01\n",
            "video name : 01-01-03-01-01-01-01.mp4\n",
            "landmark path : /content/drive/MyDrive/Datasetvideo/landmarks/01-01-03-01-01-01-01.csv\n",
            "frames folder : /content/drive/MyDrive/Datasetvideo/preprocessed/Actor_01/01-01-03-01-01-01-01.mp4\n",
            "frame folder : /content/drive/MyDrive/Datasetvideo/preprocessed/Actor_01/01-01-03-01-01-01-01.mp4\n",
            "self video path : /content/drive/MyDrive/Datasetvideo/Actor_01/01-01-03-01-01-01-01.mp4\n",
            "[MoviePy] Writing audio in /content/drive/MyDrive/Datasetvideo/preprocessed/Actor_01/01-01-03-01-01-01-01.mp4/audios/audio.wav\n"
          ]
        },
        {
          "output_type": "stream",
          "name": "stderr",
          "text": [
            "100%|██████████| 78/78 [00:00<00:00, 1790.91it/s]"
          ]
        },
        {
          "output_type": "stream",
          "name": "stdout",
          "text": [
            "[MoviePy] Done.\n"
          ]
        },
        {
          "output_type": "stream",
          "name": "stderr",
          "text": [
            "\n"
          ]
        },
        {
          "output_type": "stream",
          "name": "stdout",
          "text": [
            "Video duration 3.52 seconds. Extracted 30 frames\n",
            "each video :/content/drive/MyDrive/Datasetvideo/Actor_01/01-01-02-02-02-02-01.mp4\n",
            "name : 01\n",
            "video name : 01-01-02-02-02-02-01.mp4\n",
            "landmark path : /content/drive/MyDrive/Datasetvideo/landmarks/01-01-02-02-02-02-01.csv\n",
            "frames folder : /content/drive/MyDrive/Datasetvideo/preprocessed/Actor_01/01-01-02-02-02-02-01.mp4\n",
            "frame folder : /content/drive/MyDrive/Datasetvideo/preprocessed/Actor_01/01-01-02-02-02-02-01.mp4\n",
            "self video path : /content/drive/MyDrive/Datasetvideo/Actor_01/01-01-02-02-02-02-01.mp4\n",
            "[MoviePy] Writing audio in /content/drive/MyDrive/Datasetvideo/preprocessed/Actor_01/01-01-02-02-02-02-01.mp4/audios/audio.wav\n"
          ]
        },
        {
          "output_type": "stream",
          "name": "stderr",
          "text": [
            "100%|██████████| 90/90 [00:00<00:00, 1191.77it/s]"
          ]
        },
        {
          "output_type": "stream",
          "name": "stdout",
          "text": [
            "[MoviePy] Done.\n"
          ]
        },
        {
          "output_type": "stream",
          "name": "stderr",
          "text": [
            "\n"
          ]
        },
        {
          "output_type": "stream",
          "name": "stdout",
          "text": [
            "Video duration 4.05 seconds. Extracted 30 frames\n",
            "each video :/content/drive/MyDrive/Datasetvideo/Actor_01/01-01-03-01-02-01-01.mp4\n",
            "name : 01\n",
            "video name : 01-01-03-01-02-01-01.mp4\n",
            "landmark path : /content/drive/MyDrive/Datasetvideo/landmarks/01-01-03-01-02-01-01.csv\n",
            "frames folder : /content/drive/MyDrive/Datasetvideo/preprocessed/Actor_01/01-01-03-01-02-01-01.mp4\n",
            "frame folder : /content/drive/MyDrive/Datasetvideo/preprocessed/Actor_01/01-01-03-01-02-01-01.mp4\n",
            "self video path : /content/drive/MyDrive/Datasetvideo/Actor_01/01-01-03-01-02-01-01.mp4\n",
            "[MoviePy] Writing audio in /content/drive/MyDrive/Datasetvideo/preprocessed/Actor_01/01-01-03-01-02-01-01.mp4/audios/audio.wav\n"
          ]
        },
        {
          "output_type": "stream",
          "name": "stderr",
          "text": [
            "100%|██████████| 79/79 [00:00<00:00, 790.21it/s]"
          ]
        },
        {
          "output_type": "stream",
          "name": "stdout",
          "text": [
            "[MoviePy] Done.\n"
          ]
        },
        {
          "output_type": "stream",
          "name": "stderr",
          "text": [
            "\n"
          ]
        },
        {
          "output_type": "stream",
          "name": "stdout",
          "text": [
            "Video duration 3.58 seconds. Extracted 30 frames\n",
            "each video :/content/drive/MyDrive/Datasetvideo/Actor_01/01-01-03-02-02-01-01.mp4\n",
            "name : 01\n",
            "video name : 01-01-03-02-02-01-01.mp4\n",
            "landmark path : /content/drive/MyDrive/Datasetvideo/landmarks/01-01-03-02-02-01-01.csv\n",
            "frames folder : /content/drive/MyDrive/Datasetvideo/preprocessed/Actor_01/01-01-03-02-02-01-01.mp4\n",
            "frame folder : /content/drive/MyDrive/Datasetvideo/preprocessed/Actor_01/01-01-03-02-02-01-01.mp4\n",
            "self video path : /content/drive/MyDrive/Datasetvideo/Actor_01/01-01-03-02-02-01-01.mp4\n",
            "[MoviePy] Writing audio in /content/drive/MyDrive/Datasetvideo/preprocessed/Actor_01/01-01-03-02-02-01-01.mp4/audios/audio.wav\n"
          ]
        },
        {
          "output_type": "stream",
          "name": "stderr",
          "text": [
            "100%|██████████| 88/88 [00:00<00:00, 1409.88it/s]"
          ]
        },
        {
          "output_type": "stream",
          "name": "stdout",
          "text": [
            "[MoviePy] Done.\n"
          ]
        },
        {
          "output_type": "stream",
          "name": "stderr",
          "text": [
            "\n"
          ]
        },
        {
          "output_type": "stream",
          "name": "stdout",
          "text": [
            "Video duration 3.99 seconds. Extracted 30 frames\n",
            "each video :/content/drive/MyDrive/Datasetvideo/Actor_01/01-01-03-02-01-01-01.mp4\n",
            "name : 01\n",
            "video name : 01-01-03-02-01-01-01.mp4\n",
            "landmark path : /content/drive/MyDrive/Datasetvideo/landmarks/01-01-03-02-01-01-01.csv\n",
            "frames folder : /content/drive/MyDrive/Datasetvideo/preprocessed/Actor_01/01-01-03-02-01-01-01.mp4\n",
            "frame folder : /content/drive/MyDrive/Datasetvideo/preprocessed/Actor_01/01-01-03-02-01-01-01.mp4\n",
            "self video path : /content/drive/MyDrive/Datasetvideo/Actor_01/01-01-03-02-01-01-01.mp4\n",
            "[MoviePy] Writing audio in /content/drive/MyDrive/Datasetvideo/preprocessed/Actor_01/01-01-03-02-01-01-01.mp4/audios/audio.wav\n"
          ]
        },
        {
          "output_type": "stream",
          "name": "stderr",
          "text": [
            "100%|██████████| 82/82 [00:00<00:00, 1724.54it/s]"
          ]
        },
        {
          "output_type": "stream",
          "name": "stdout",
          "text": [
            "[MoviePy] Done.\n"
          ]
        },
        {
          "output_type": "stream",
          "name": "stderr",
          "text": [
            "\n"
          ]
        },
        {
          "output_type": "stream",
          "name": "stdout",
          "text": [
            "Video duration 3.71 seconds. Extracted 30 frames\n",
            "each video :/content/drive/MyDrive/Datasetvideo/Actor_01/01-01-03-01-01-02-01.mp4\n",
            "name : 01\n",
            "video name : 01-01-03-01-01-02-01.mp4\n",
            "landmark path : /content/drive/MyDrive/Datasetvideo/landmarks/01-01-03-01-01-02-01.csv\n",
            "frames folder : /content/drive/MyDrive/Datasetvideo/preprocessed/Actor_01/01-01-03-01-01-02-01.mp4\n",
            "frame folder : /content/drive/MyDrive/Datasetvideo/preprocessed/Actor_01/01-01-03-01-01-02-01.mp4\n",
            "self video path : /content/drive/MyDrive/Datasetvideo/Actor_01/01-01-03-01-01-02-01.mp4\n",
            "[MoviePy] Writing audio in /content/drive/MyDrive/Datasetvideo/preprocessed/Actor_01/01-01-03-01-01-02-01.mp4/audios/audio.wav\n"
          ]
        },
        {
          "output_type": "stream",
          "name": "stderr",
          "text": [
            "100%|██████████| 78/78 [00:00<00:00, 1537.51it/s]"
          ]
        },
        {
          "output_type": "stream",
          "name": "stdout",
          "text": [
            "[MoviePy] Done.\n"
          ]
        },
        {
          "output_type": "stream",
          "name": "stderr",
          "text": [
            "\n"
          ]
        },
        {
          "output_type": "stream",
          "name": "stdout",
          "text": [
            "Video duration 3.52 seconds. Extracted 30 frames\n",
            "each video :/content/drive/MyDrive/Datasetvideo/Actor_01/01-01-03-01-02-02-01.mp4\n",
            "name : 01\n",
            "video name : 01-01-03-01-02-02-01.mp4\n",
            "landmark path : /content/drive/MyDrive/Datasetvideo/landmarks/01-01-03-01-02-02-01.csv\n",
            "frames folder : /content/drive/MyDrive/Datasetvideo/preprocessed/Actor_01/01-01-03-01-02-02-01.mp4\n",
            "frame folder : /content/drive/MyDrive/Datasetvideo/preprocessed/Actor_01/01-01-03-01-02-02-01.mp4\n",
            "self video path : /content/drive/MyDrive/Datasetvideo/Actor_01/01-01-03-01-02-02-01.mp4\n",
            "[MoviePy] Writing audio in /content/drive/MyDrive/Datasetvideo/preprocessed/Actor_01/01-01-03-01-02-02-01.mp4/audios/audio.wav\n"
          ]
        },
        {
          "output_type": "stream",
          "name": "stderr",
          "text": [
            "100%|██████████| 83/83 [00:00<00:00, 1620.69it/s]"
          ]
        },
        {
          "output_type": "stream",
          "name": "stdout",
          "text": [
            "[MoviePy] Done.\n"
          ]
        },
        {
          "output_type": "stream",
          "name": "stderr",
          "text": [
            "\n"
          ]
        },
        {
          "output_type": "stream",
          "name": "stdout",
          "text": [
            "Video duration 3.75 seconds. Extracted 30 frames\n",
            "each video :/content/drive/MyDrive/Datasetvideo/Actor_01/01-01-03-02-01-02-01.mp4\n",
            "name : 01\n",
            "video name : 01-01-03-02-01-02-01.mp4\n",
            "landmark path : /content/drive/MyDrive/Datasetvideo/landmarks/01-01-03-02-01-02-01.csv\n",
            "frames folder : /content/drive/MyDrive/Datasetvideo/preprocessed/Actor_01/01-01-03-02-01-02-01.mp4\n",
            "frame folder : /content/drive/MyDrive/Datasetvideo/preprocessed/Actor_01/01-01-03-02-01-02-01.mp4\n",
            "self video path : /content/drive/MyDrive/Datasetvideo/Actor_01/01-01-03-02-01-02-01.mp4\n",
            "[MoviePy] Writing audio in /content/drive/MyDrive/Datasetvideo/preprocessed/Actor_01/01-01-03-02-01-02-01.mp4/audios/audio.wav\n"
          ]
        },
        {
          "output_type": "stream",
          "name": "stderr",
          "text": [
            "100%|██████████| 82/82 [00:00<00:00, 1184.21it/s]"
          ]
        },
        {
          "output_type": "stream",
          "name": "stdout",
          "text": [
            "[MoviePy] Done.\n"
          ]
        },
        {
          "output_type": "stream",
          "name": "stderr",
          "text": [
            "\n"
          ]
        },
        {
          "output_type": "stream",
          "name": "stdout",
          "text": [
            "Video duration 3.69 seconds. Extracted 30 frames\n",
            "each video :/content/drive/MyDrive/Datasetvideo/Actor_01/01-01-04-01-01-01-01.mp4\n",
            "name : 01\n",
            "video name : 01-01-04-01-01-01-01.mp4\n",
            "landmark path : /content/drive/MyDrive/Datasetvideo/landmarks/01-01-04-01-01-01-01.csv\n",
            "frames folder : /content/drive/MyDrive/Datasetvideo/preprocessed/Actor_01/01-01-04-01-01-01-01.mp4\n",
            "frame folder : /content/drive/MyDrive/Datasetvideo/preprocessed/Actor_01/01-01-04-01-01-01-01.mp4\n",
            "self video path : /content/drive/MyDrive/Datasetvideo/Actor_01/01-01-04-01-01-01-01.mp4\n",
            "[MoviePy] Writing audio in /content/drive/MyDrive/Datasetvideo/preprocessed/Actor_01/01-01-04-01-01-01-01.mp4/audios/audio.wav\n"
          ]
        },
        {
          "output_type": "stream",
          "name": "stderr",
          "text": [
            "100%|██████████| 86/86 [00:00<00:00, 1759.01it/s]"
          ]
        },
        {
          "output_type": "stream",
          "name": "stdout",
          "text": [
            "[MoviePy] Done.\n"
          ]
        },
        {
          "output_type": "stream",
          "name": "stderr",
          "text": [
            "\n"
          ]
        },
        {
          "output_type": "stream",
          "name": "stdout",
          "text": [
            "Video duration 3.88 seconds. Extracted 30 frames\n",
            "each video :/content/drive/MyDrive/Datasetvideo/Actor_01/01-01-03-02-02-02-01.mp4\n",
            "name : 01\n",
            "video name : 01-01-03-02-02-02-01.mp4\n",
            "landmark path : /content/drive/MyDrive/Datasetvideo/landmarks/01-01-03-02-02-02-01.csv\n",
            "frames folder : /content/drive/MyDrive/Datasetvideo/preprocessed/Actor_01/01-01-03-02-02-02-01.mp4\n",
            "frame folder : /content/drive/MyDrive/Datasetvideo/preprocessed/Actor_01/01-01-03-02-02-02-01.mp4\n",
            "self video path : /content/drive/MyDrive/Datasetvideo/Actor_01/01-01-03-02-02-02-01.mp4\n",
            "[MoviePy] Writing audio in /content/drive/MyDrive/Datasetvideo/preprocessed/Actor_01/01-01-03-02-02-02-01.mp4/audios/audio.wav\n"
          ]
        },
        {
          "output_type": "stream",
          "name": "stderr",
          "text": [
            "100%|██████████| 88/88 [00:00<00:00, 1164.20it/s]"
          ]
        },
        {
          "output_type": "stream",
          "name": "stdout",
          "text": [
            "[MoviePy] Done.\n"
          ]
        },
        {
          "output_type": "stream",
          "name": "stderr",
          "text": [
            "\n"
          ]
        },
        {
          "output_type": "stream",
          "name": "stdout",
          "text": [
            "Video duration 3.99 seconds. Extracted 30 frames\n",
            "each video :/content/drive/MyDrive/Datasetvideo/Actor_01/01-01-04-02-01-01-01.mp4\n",
            "name : 01\n",
            "video name : 01-01-04-02-01-01-01.mp4\n",
            "landmark path : /content/drive/MyDrive/Datasetvideo/landmarks/01-01-04-02-01-01-01.csv\n",
            "frames folder : /content/drive/MyDrive/Datasetvideo/preprocessed/Actor_01/01-01-04-02-01-01-01.mp4\n",
            "frame folder : /content/drive/MyDrive/Datasetvideo/preprocessed/Actor_01/01-01-04-02-01-01-01.mp4\n",
            "self video path : /content/drive/MyDrive/Datasetvideo/Actor_01/01-01-04-02-01-01-01.mp4\n",
            "[MoviePy] Writing audio in /content/drive/MyDrive/Datasetvideo/preprocessed/Actor_01/01-01-04-02-01-01-01.mp4/audios/audio.wav\n"
          ]
        },
        {
          "output_type": "stream",
          "name": "stderr",
          "text": [
            "100%|██████████| 85/85 [00:00<00:00, 1632.32it/s]"
          ]
        },
        {
          "output_type": "stream",
          "name": "stdout",
          "text": [
            "[MoviePy] Done.\n"
          ]
        },
        {
          "output_type": "stream",
          "name": "stderr",
          "text": [
            "\n"
          ]
        },
        {
          "output_type": "stream",
          "name": "stdout",
          "text": [
            "Video duration 3.84 seconds. Extracted 30 frames\n",
            "each video :/content/drive/MyDrive/Datasetvideo/Actor_01/01-01-04-01-01-02-01.mp4\n",
            "name : 01\n",
            "video name : 01-01-04-01-01-02-01.mp4\n",
            "landmark path : /content/drive/MyDrive/Datasetvideo/landmarks/01-01-04-01-01-02-01.csv\n",
            "frames folder : /content/drive/MyDrive/Datasetvideo/preprocessed/Actor_01/01-01-04-01-01-02-01.mp4\n",
            "frame folder : /content/drive/MyDrive/Datasetvideo/preprocessed/Actor_01/01-01-04-01-01-02-01.mp4\n",
            "self video path : /content/drive/MyDrive/Datasetvideo/Actor_01/01-01-04-01-01-02-01.mp4\n",
            "[MoviePy] Writing audio in /content/drive/MyDrive/Datasetvideo/preprocessed/Actor_01/01-01-04-01-01-02-01.mp4/audios/audio.wav\n"
          ]
        },
        {
          "output_type": "stream",
          "name": "stderr",
          "text": [
            "100%|██████████| 80/80 [00:00<00:00, 1637.94it/s]"
          ]
        },
        {
          "output_type": "stream",
          "name": "stdout",
          "text": [
            "[MoviePy] Done.\n"
          ]
        },
        {
          "output_type": "stream",
          "name": "stderr",
          "text": [
            "\n"
          ]
        },
        {
          "output_type": "stream",
          "name": "stdout",
          "text": [
            "Video duration 3.61 seconds. Extracted 30 frames\n",
            "each video :/content/drive/MyDrive/Datasetvideo/Actor_01/01-01-04-01-02-01-01.mp4\n",
            "name : 01\n",
            "video name : 01-01-04-01-02-01-01.mp4\n",
            "landmark path : /content/drive/MyDrive/Datasetvideo/landmarks/01-01-04-01-02-01-01.csv\n",
            "frames folder : /content/drive/MyDrive/Datasetvideo/preprocessed/Actor_01/01-01-04-01-02-01-01.mp4\n",
            "frame folder : /content/drive/MyDrive/Datasetvideo/preprocessed/Actor_01/01-01-04-01-02-01-01.mp4\n",
            "self video path : /content/drive/MyDrive/Datasetvideo/Actor_01/01-01-04-01-02-01-01.mp4\n",
            "[MoviePy] Writing audio in /content/drive/MyDrive/Datasetvideo/preprocessed/Actor_01/01-01-04-01-02-01-01.mp4/audios/audio.wav\n"
          ]
        },
        {
          "output_type": "stream",
          "name": "stderr",
          "text": [
            "100%|██████████| 79/79 [00:00<00:00, 1562.24it/s]"
          ]
        },
        {
          "output_type": "stream",
          "name": "stdout",
          "text": [
            "[MoviePy] Done.\n"
          ]
        },
        {
          "output_type": "stream",
          "name": "stderr",
          "text": [
            "\n"
          ]
        },
        {
          "output_type": "stream",
          "name": "stdout",
          "text": [
            "Video duration 3.54 seconds. Extracted 30 frames\n",
            "each video :/content/drive/MyDrive/Datasetvideo/Actor_01/01-01-04-01-02-02-01.mp4\n",
            "name : 01\n",
            "video name : 01-01-04-01-02-02-01.mp4\n",
            "landmark path : /content/drive/MyDrive/Datasetvideo/landmarks/01-01-04-01-02-02-01.csv\n",
            "frames folder : /content/drive/MyDrive/Datasetvideo/preprocessed/Actor_01/01-01-04-01-02-02-01.mp4\n",
            "frame folder : /content/drive/MyDrive/Datasetvideo/preprocessed/Actor_01/01-01-04-01-02-02-01.mp4\n",
            "self video path : /content/drive/MyDrive/Datasetvideo/Actor_01/01-01-04-01-02-02-01.mp4\n",
            "[MoviePy] Writing audio in /content/drive/MyDrive/Datasetvideo/preprocessed/Actor_01/01-01-04-01-02-02-01.mp4/audios/audio.wav\n"
          ]
        },
        {
          "output_type": "stream",
          "name": "stderr",
          "text": [
            "100%|██████████| 76/76 [00:00<00:00, 1204.59it/s]"
          ]
        },
        {
          "output_type": "stream",
          "name": "stdout",
          "text": [
            "[MoviePy] Done.\n"
          ]
        },
        {
          "output_type": "stream",
          "name": "stderr",
          "text": [
            "\n"
          ]
        },
        {
          "output_type": "stream",
          "name": "stdout",
          "text": [
            "Video duration 3.41 seconds. Extracted 30 frames\n",
            "each video :/content/drive/MyDrive/Datasetvideo/Actor_01/01-01-05-01-01-01-01.mp4\n",
            "name : 01\n",
            "video name : 01-01-05-01-01-01-01.mp4\n",
            "landmark path : /content/drive/MyDrive/Datasetvideo/landmarks/01-01-05-01-01-01-01.csv\n",
            "frames folder : /content/drive/MyDrive/Datasetvideo/preprocessed/Actor_01/01-01-05-01-01-01-01.mp4\n",
            "frame folder : /content/drive/MyDrive/Datasetvideo/preprocessed/Actor_01/01-01-05-01-01-01-01.mp4\n",
            "self video path : /content/drive/MyDrive/Datasetvideo/Actor_01/01-01-05-01-01-01-01.mp4\n",
            "[MoviePy] Writing audio in /content/drive/MyDrive/Datasetvideo/preprocessed/Actor_01/01-01-05-01-01-01-01.mp4/audios/audio.wav\n"
          ]
        },
        {
          "output_type": "stream",
          "name": "stderr",
          "text": [
            "100%|██████████| 86/86 [00:00<00:00, 1728.75it/s]"
          ]
        },
        {
          "output_type": "stream",
          "name": "stdout",
          "text": [
            "[MoviePy] Done.\n"
          ]
        },
        {
          "output_type": "stream",
          "name": "stderr",
          "text": [
            "\n"
          ]
        },
        {
          "output_type": "stream",
          "name": "stdout",
          "text": [
            "Video duration 3.9 seconds. Extracted 30 frames\n",
            "each video :/content/drive/MyDrive/Datasetvideo/Actor_01/01-01-05-01-02-01-01.mp4\n",
            "name : 01\n",
            "video name : 01-01-05-01-02-01-01.mp4\n",
            "landmark path : /content/drive/MyDrive/Datasetvideo/landmarks/01-01-05-01-02-01-01.csv\n",
            "frames folder : /content/drive/MyDrive/Datasetvideo/preprocessed/Actor_01/01-01-05-01-02-01-01.mp4\n",
            "frame folder : /content/drive/MyDrive/Datasetvideo/preprocessed/Actor_01/01-01-05-01-02-01-01.mp4\n",
            "self video path : /content/drive/MyDrive/Datasetvideo/Actor_01/01-01-05-01-02-01-01.mp4\n",
            "[MoviePy] Writing audio in /content/drive/MyDrive/Datasetvideo/preprocessed/Actor_01/01-01-05-01-02-01-01.mp4/audios/audio.wav\n"
          ]
        },
        {
          "output_type": "stream",
          "name": "stderr",
          "text": [
            "100%|██████████| 79/79 [00:00<00:00, 1438.78it/s]"
          ]
        },
        {
          "output_type": "stream",
          "name": "stdout",
          "text": [
            "[MoviePy] Done.\n"
          ]
        },
        {
          "output_type": "stream",
          "name": "stderr",
          "text": [
            "\n"
          ]
        },
        {
          "output_type": "stream",
          "name": "stdout",
          "text": [
            "Video duration 3.54 seconds. Extracted 30 frames\n",
            "each video :/content/drive/MyDrive/Datasetvideo/Actor_01/01-01-04-02-02-02-01.mp4\n",
            "name : 01\n",
            "video name : 01-01-04-02-02-02-01.mp4\n",
            "landmark path : /content/drive/MyDrive/Datasetvideo/landmarks/01-01-04-02-02-02-01.csv\n",
            "frames folder : /content/drive/MyDrive/Datasetvideo/preprocessed/Actor_01/01-01-04-02-02-02-01.mp4\n",
            "frame folder : /content/drive/MyDrive/Datasetvideo/preprocessed/Actor_01/01-01-04-02-02-02-01.mp4\n",
            "self video path : /content/drive/MyDrive/Datasetvideo/Actor_01/01-01-04-02-02-02-01.mp4\n",
            "[MoviePy] Writing audio in /content/drive/MyDrive/Datasetvideo/preprocessed/Actor_01/01-01-04-02-02-02-01.mp4/audios/audio.wav\n"
          ]
        },
        {
          "output_type": "stream",
          "name": "stderr",
          "text": [
            "100%|██████████| 84/84 [00:00<00:00, 1546.74it/s]"
          ]
        },
        {
          "output_type": "stream",
          "name": "stdout",
          "text": [
            "[MoviePy] Done.\n"
          ]
        },
        {
          "output_type": "stream",
          "name": "stderr",
          "text": [
            "\n"
          ]
        },
        {
          "output_type": "stream",
          "name": "stdout",
          "text": [
            "Video duration 3.7800000000000002 seconds. Extracted 30 frames\n",
            "each video :/content/drive/MyDrive/Datasetvideo/Actor_01/01-01-04-02-02-01-01.mp4\n",
            "name : 01\n",
            "video name : 01-01-04-02-02-01-01.mp4\n",
            "landmark path : /content/drive/MyDrive/Datasetvideo/landmarks/01-01-04-02-02-01-01.csv\n",
            "frames folder : /content/drive/MyDrive/Datasetvideo/preprocessed/Actor_01/01-01-04-02-02-01-01.mp4\n",
            "frame folder : /content/drive/MyDrive/Datasetvideo/preprocessed/Actor_01/01-01-04-02-02-01-01.mp4\n",
            "self video path : /content/drive/MyDrive/Datasetvideo/Actor_01/01-01-04-02-02-01-01.mp4\n",
            "[MoviePy] Writing audio in /content/drive/MyDrive/Datasetvideo/preprocessed/Actor_01/01-01-04-02-02-01-01.mp4/audios/audio.wav\n"
          ]
        },
        {
          "output_type": "stream",
          "name": "stderr",
          "text": [
            "100%|██████████| 84/84 [00:00<00:00, 1688.32it/s]"
          ]
        },
        {
          "output_type": "stream",
          "name": "stdout",
          "text": [
            "[MoviePy] Done.\n"
          ]
        },
        {
          "output_type": "stream",
          "name": "stderr",
          "text": [
            "\n"
          ]
        },
        {
          "output_type": "stream",
          "name": "stdout",
          "text": [
            "Video duration 3.7800000000000002 seconds. Extracted 30 frames\n",
            "each video :/content/drive/MyDrive/Datasetvideo/Actor_01/01-01-04-02-01-02-01.mp4\n",
            "name : 01\n",
            "video name : 01-01-04-02-01-02-01.mp4\n",
            "landmark path : /content/drive/MyDrive/Datasetvideo/landmarks/01-01-04-02-01-02-01.csv\n",
            "frames folder : /content/drive/MyDrive/Datasetvideo/preprocessed/Actor_01/01-01-04-02-01-02-01.mp4\n",
            "frame folder : /content/drive/MyDrive/Datasetvideo/preprocessed/Actor_01/01-01-04-02-01-02-01.mp4\n",
            "self video path : /content/drive/MyDrive/Datasetvideo/Actor_01/01-01-04-02-01-02-01.mp4\n",
            "[MoviePy] Writing audio in /content/drive/MyDrive/Datasetvideo/preprocessed/Actor_01/01-01-04-02-01-02-01.mp4/audios/audio.wav\n"
          ]
        },
        {
          "output_type": "stream",
          "name": "stderr",
          "text": [
            "100%|██████████| 83/83 [00:00<00:00, 1670.63it/s]"
          ]
        },
        {
          "output_type": "stream",
          "name": "stdout",
          "text": [
            "[MoviePy] Done.\n"
          ]
        },
        {
          "output_type": "stream",
          "name": "stderr",
          "text": [
            "\n"
          ]
        },
        {
          "output_type": "stream",
          "name": "stdout",
          "text": [
            "Video duration 3.75 seconds. Extracted 30 frames\n",
            "each video :/content/drive/MyDrive/Datasetvideo/Actor_01/01-01-05-01-01-02-01.mp4\n",
            "name : 01\n",
            "video name : 01-01-05-01-01-02-01.mp4\n",
            "landmark path : /content/drive/MyDrive/Datasetvideo/landmarks/01-01-05-01-01-02-01.csv\n",
            "frames folder : /content/drive/MyDrive/Datasetvideo/preprocessed/Actor_01/01-01-05-01-01-02-01.mp4\n",
            "frame folder : /content/drive/MyDrive/Datasetvideo/preprocessed/Actor_01/01-01-05-01-01-02-01.mp4\n",
            "self video path : /content/drive/MyDrive/Datasetvideo/Actor_01/01-01-05-01-01-02-01.mp4\n",
            "[MoviePy] Writing audio in /content/drive/MyDrive/Datasetvideo/preprocessed/Actor_01/01-01-05-01-01-02-01.mp4/audios/audio.wav\n"
          ]
        },
        {
          "output_type": "stream",
          "name": "stderr",
          "text": [
            "100%|██████████| 88/88 [00:00<00:00, 1133.87it/s]"
          ]
        },
        {
          "output_type": "stream",
          "name": "stdout",
          "text": [
            "[MoviePy] Done.\n"
          ]
        },
        {
          "output_type": "stream",
          "name": "stderr",
          "text": [
            "\n"
          ]
        },
        {
          "output_type": "stream",
          "name": "stdout",
          "text": [
            "Video duration 3.99 seconds. Extracted 30 frames\n",
            "each video :/content/drive/MyDrive/Datasetvideo/Actor_01/01-01-05-02-02-01-01.mp4\n",
            "name : 01\n",
            "video name : 01-01-05-02-02-01-01.mp4\n",
            "landmark path : /content/drive/MyDrive/Datasetvideo/landmarks/01-01-05-02-02-01-01.csv\n",
            "frames folder : /content/drive/MyDrive/Datasetvideo/preprocessed/Actor_01/01-01-05-02-02-01-01.mp4\n",
            "frame folder : /content/drive/MyDrive/Datasetvideo/preprocessed/Actor_01/01-01-05-02-02-01-01.mp4\n",
            "self video path : /content/drive/MyDrive/Datasetvideo/Actor_01/01-01-05-02-02-01-01.mp4\n",
            "[MoviePy] Writing audio in /content/drive/MyDrive/Datasetvideo/preprocessed/Actor_01/01-01-05-02-02-01-01.mp4/audios/audio.wav\n"
          ]
        },
        {
          "output_type": "stream",
          "name": "stderr",
          "text": [
            "100%|██████████| 93/93 [00:00<00:00, 1647.60it/s]"
          ]
        },
        {
          "output_type": "stream",
          "name": "stdout",
          "text": [
            "[MoviePy] Done.\n"
          ]
        },
        {
          "output_type": "stream",
          "name": "stderr",
          "text": [
            "\n"
          ]
        },
        {
          "output_type": "stream",
          "name": "stdout",
          "text": [
            "Video duration 4.18 seconds. Extracted 30 frames\n",
            "each video :/content/drive/MyDrive/Datasetvideo/Actor_01/01-01-05-02-02-02-01.mp4\n",
            "name : 01\n",
            "video name : 01-01-05-02-02-02-01.mp4\n",
            "landmark path : /content/drive/MyDrive/Datasetvideo/landmarks/01-01-05-02-02-02-01.csv\n",
            "frames folder : /content/drive/MyDrive/Datasetvideo/preprocessed/Actor_01/01-01-05-02-02-02-01.mp4\n",
            "frame folder : /content/drive/MyDrive/Datasetvideo/preprocessed/Actor_01/01-01-05-02-02-02-01.mp4\n",
            "self video path : /content/drive/MyDrive/Datasetvideo/Actor_01/01-01-05-02-02-02-01.mp4\n",
            "[MoviePy] Writing audio in /content/drive/MyDrive/Datasetvideo/preprocessed/Actor_01/01-01-05-02-02-02-01.mp4/audios/audio.wav\n"
          ]
        },
        {
          "output_type": "stream",
          "name": "stderr",
          "text": [
            "100%|██████████| 99/99 [00:00<00:00, 1721.76it/s]"
          ]
        },
        {
          "output_type": "stream",
          "name": "stdout",
          "text": [
            "[MoviePy] Done.\n"
          ]
        },
        {
          "output_type": "stream",
          "name": "stderr",
          "text": [
            "\n"
          ]
        },
        {
          "output_type": "stream",
          "name": "stdout",
          "text": [
            "Video duration 4.48 seconds. Extracted 30 frames\n",
            "each video :/content/drive/MyDrive/Datasetvideo/Actor_01/01-01-05-02-01-01-01.mp4\n",
            "name : 01\n",
            "video name : 01-01-05-02-01-01-01.mp4\n",
            "landmark path : /content/drive/MyDrive/Datasetvideo/landmarks/01-01-05-02-01-01-01.csv\n",
            "frames folder : /content/drive/MyDrive/Datasetvideo/preprocessed/Actor_01/01-01-05-02-01-01-01.mp4\n",
            "frame folder : /content/drive/MyDrive/Datasetvideo/preprocessed/Actor_01/01-01-05-02-01-01-01.mp4\n",
            "self video path : /content/drive/MyDrive/Datasetvideo/Actor_01/01-01-05-02-01-01-01.mp4\n",
            "[MoviePy] Writing audio in /content/drive/MyDrive/Datasetvideo/preprocessed/Actor_01/01-01-05-02-01-01-01.mp4/audios/audio.wav\n"
          ]
        },
        {
          "output_type": "stream",
          "name": "stderr",
          "text": [
            "100%|██████████| 92/92 [00:00<00:00, 1836.21it/s]"
          ]
        },
        {
          "output_type": "stream",
          "name": "stdout",
          "text": [
            "[MoviePy] Done.\n"
          ]
        },
        {
          "output_type": "stream",
          "name": "stderr",
          "text": [
            "\n"
          ]
        },
        {
          "output_type": "stream",
          "name": "stdout",
          "text": [
            "Video duration 4.14 seconds. Extracted 30 frames\n",
            "each video :/content/drive/MyDrive/Datasetvideo/Actor_01/01-01-05-01-02-02-01.mp4\n",
            "name : 01\n",
            "video name : 01-01-05-01-02-02-01.mp4\n",
            "landmark path : /content/drive/MyDrive/Datasetvideo/landmarks/01-01-05-01-02-02-01.csv\n",
            "frames folder : /content/drive/MyDrive/Datasetvideo/preprocessed/Actor_01/01-01-05-01-02-02-01.mp4\n",
            "frame folder : /content/drive/MyDrive/Datasetvideo/preprocessed/Actor_01/01-01-05-01-02-02-01.mp4\n",
            "self video path : /content/drive/MyDrive/Datasetvideo/Actor_01/01-01-05-01-02-02-01.mp4\n",
            "[MoviePy] Writing audio in /content/drive/MyDrive/Datasetvideo/preprocessed/Actor_01/01-01-05-01-02-02-01.mp4/audios/audio.wav\n"
          ]
        },
        {
          "output_type": "stream",
          "name": "stderr",
          "text": [
            "100%|██████████| 84/84 [00:00<00:00, 1690.98it/s]"
          ]
        },
        {
          "output_type": "stream",
          "name": "stdout",
          "text": [
            "[MoviePy] Done.\n"
          ]
        },
        {
          "output_type": "stream",
          "name": "stderr",
          "text": [
            "\n"
          ]
        },
        {
          "output_type": "stream",
          "name": "stdout",
          "text": [
            "Video duration 3.7800000000000002 seconds. Extracted 30 frames\n",
            "each video :/content/drive/MyDrive/Datasetvideo/Actor_01/01-01-05-02-01-02-01.mp4\n",
            "name : 01\n",
            "video name : 01-01-05-02-01-02-01.mp4\n",
            "landmark path : /content/drive/MyDrive/Datasetvideo/landmarks/01-01-05-02-01-02-01.csv\n",
            "frames folder : /content/drive/MyDrive/Datasetvideo/preprocessed/Actor_01/01-01-05-02-01-02-01.mp4\n",
            "frame folder : /content/drive/MyDrive/Datasetvideo/preprocessed/Actor_01/01-01-05-02-01-02-01.mp4\n",
            "self video path : /content/drive/MyDrive/Datasetvideo/Actor_01/01-01-05-02-01-02-01.mp4\n",
            "[MoviePy] Writing audio in /content/drive/MyDrive/Datasetvideo/preprocessed/Actor_01/01-01-05-02-01-02-01.mp4/audios/audio.wav\n"
          ]
        },
        {
          "output_type": "stream",
          "name": "stderr",
          "text": [
            "100%|██████████| 98/98 [00:00<00:00, 1130.60it/s]"
          ]
        },
        {
          "output_type": "stream",
          "name": "stdout",
          "text": [
            "[MoviePy] Done.\n"
          ]
        },
        {
          "output_type": "stream",
          "name": "stderr",
          "text": [
            "\n"
          ]
        },
        {
          "output_type": "stream",
          "name": "stdout",
          "text": [
            "Video duration 4.42 seconds. Extracted 30 frames\n",
            "each video :/content/drive/MyDrive/Datasetvideo/Actor_01/01-01-06-01-01-01-01.mp4\n",
            "name : 01\n",
            "video name : 01-01-06-01-01-01-01.mp4\n",
            "landmark path : /content/drive/MyDrive/Datasetvideo/landmarks/01-01-06-01-01-01-01.csv\n",
            "frames folder : /content/drive/MyDrive/Datasetvideo/preprocessed/Actor_01/01-01-06-01-01-01-01.mp4\n",
            "frame folder : /content/drive/MyDrive/Datasetvideo/preprocessed/Actor_01/01-01-06-01-01-01-01.mp4\n",
            "self video path : /content/drive/MyDrive/Datasetvideo/Actor_01/01-01-06-01-01-01-01.mp4\n",
            "[MoviePy] Writing audio in /content/drive/MyDrive/Datasetvideo/preprocessed/Actor_01/01-01-06-01-01-01-01.mp4/audios/audio.wav\n"
          ]
        },
        {
          "output_type": "stream",
          "name": "stderr",
          "text": [
            "100%|██████████| 82/82 [00:00<00:00, 1599.76it/s]"
          ]
        },
        {
          "output_type": "stream",
          "name": "stdout",
          "text": [
            "[MoviePy] Done.\n"
          ]
        },
        {
          "output_type": "stream",
          "name": "stderr",
          "text": [
            "\n"
          ]
        },
        {
          "output_type": "stream",
          "name": "stdout",
          "text": [
            "Video duration 3.71 seconds. Extracted 30 frames\n",
            "each video :/content/drive/MyDrive/Datasetvideo/Actor_01/01-01-06-01-02-01-01.mp4\n",
            "name : 01\n",
            "video name : 01-01-06-01-02-01-01.mp4\n",
            "landmark path : /content/drive/MyDrive/Datasetvideo/landmarks/01-01-06-01-02-01-01.csv\n",
            "frames folder : /content/drive/MyDrive/Datasetvideo/preprocessed/Actor_01/01-01-06-01-02-01-01.mp4\n",
            "frame folder : /content/drive/MyDrive/Datasetvideo/preprocessed/Actor_01/01-01-06-01-02-01-01.mp4\n",
            "self video path : /content/drive/MyDrive/Datasetvideo/Actor_01/01-01-06-01-02-01-01.mp4\n",
            "[MoviePy] Writing audio in /content/drive/MyDrive/Datasetvideo/preprocessed/Actor_01/01-01-06-01-02-01-01.mp4/audios/audio.wav\n"
          ]
        },
        {
          "output_type": "stream",
          "name": "stderr",
          "text": [
            "100%|██████████| 77/77 [00:00<00:00, 1471.38it/s]"
          ]
        },
        {
          "output_type": "stream",
          "name": "stdout",
          "text": [
            "[MoviePy] Done.\n"
          ]
        },
        {
          "output_type": "stream",
          "name": "stderr",
          "text": [
            "\n"
          ]
        },
        {
          "output_type": "stream",
          "name": "stdout",
          "text": [
            "Video duration 3.48 seconds. Extracted 30 frames\n",
            "each video :/content/drive/MyDrive/Datasetvideo/Actor_01/01-01-06-01-02-02-01.mp4\n",
            "name : 01\n",
            "video name : 01-01-06-01-02-02-01.mp4\n",
            "landmark path : /content/drive/MyDrive/Datasetvideo/landmarks/01-01-06-01-02-02-01.csv\n",
            "frames folder : /content/drive/MyDrive/Datasetvideo/preprocessed/Actor_01/01-01-06-01-02-02-01.mp4\n",
            "frame folder : /content/drive/MyDrive/Datasetvideo/preprocessed/Actor_01/01-01-06-01-02-02-01.mp4\n",
            "self video path : /content/drive/MyDrive/Datasetvideo/Actor_01/01-01-06-01-02-02-01.mp4\n",
            "[MoviePy] Writing audio in /content/drive/MyDrive/Datasetvideo/preprocessed/Actor_01/01-01-06-01-02-02-01.mp4/audios/audio.wav\n"
          ]
        },
        {
          "output_type": "stream",
          "name": "stderr",
          "text": [
            "100%|██████████| 83/83 [00:00<00:00, 1622.89it/s]"
          ]
        },
        {
          "output_type": "stream",
          "name": "stdout",
          "text": [
            "[MoviePy] Done.\n"
          ]
        },
        {
          "output_type": "stream",
          "name": "stderr",
          "text": [
            "\n"
          ]
        },
        {
          "output_type": "stream",
          "name": "stdout",
          "text": [
            "Video duration 3.75 seconds. Extracted 30 frames\n",
            "each video :/content/drive/MyDrive/Datasetvideo/Actor_01/01-01-06-02-01-01-01.mp4\n",
            "name : 01\n",
            "video name : 01-01-06-02-01-01-01.mp4\n",
            "landmark path : /content/drive/MyDrive/Datasetvideo/landmarks/01-01-06-02-01-01-01.csv\n",
            "frames folder : /content/drive/MyDrive/Datasetvideo/preprocessed/Actor_01/01-01-06-02-01-01-01.mp4\n",
            "frame folder : /content/drive/MyDrive/Datasetvideo/preprocessed/Actor_01/01-01-06-02-01-01-01.mp4\n",
            "self video path : /content/drive/MyDrive/Datasetvideo/Actor_01/01-01-06-02-01-01-01.mp4\n",
            "[MoviePy] Writing audio in /content/drive/MyDrive/Datasetvideo/preprocessed/Actor_01/01-01-06-02-01-01-01.mp4/audios/audio.wav\n"
          ]
        },
        {
          "output_type": "stream",
          "name": "stderr",
          "text": [
            "100%|██████████| 112/112 [00:00<00:00, 1373.20it/s]"
          ]
        },
        {
          "output_type": "stream",
          "name": "stdout",
          "text": [
            "[MoviePy] Done.\n"
          ]
        },
        {
          "output_type": "stream",
          "name": "stderr",
          "text": [
            "\n"
          ]
        },
        {
          "output_type": "stream",
          "name": "stdout",
          "text": [
            "Video duration 5.06 seconds. Extracted 30 frames\n",
            "each video :/content/drive/MyDrive/Datasetvideo/Actor_01/01-01-06-01-01-02-01.mp4\n",
            "name : 01\n",
            "video name : 01-01-06-01-01-02-01.mp4\n",
            "landmark path : /content/drive/MyDrive/Datasetvideo/landmarks/01-01-06-01-01-02-01.csv\n",
            "frames folder : /content/drive/MyDrive/Datasetvideo/preprocessed/Actor_01/01-01-06-01-01-02-01.mp4\n",
            "frame folder : /content/drive/MyDrive/Datasetvideo/preprocessed/Actor_01/01-01-06-01-01-02-01.mp4\n",
            "self video path : /content/drive/MyDrive/Datasetvideo/Actor_01/01-01-06-01-01-02-01.mp4\n",
            "[MoviePy] Writing audio in /content/drive/MyDrive/Datasetvideo/preprocessed/Actor_01/01-01-06-01-01-02-01.mp4/audios/audio.wav\n"
          ]
        },
        {
          "output_type": "stream",
          "name": "stderr",
          "text": [
            "100%|██████████| 82/82 [00:00<00:00, 1666.45it/s]"
          ]
        },
        {
          "output_type": "stream",
          "name": "stdout",
          "text": [
            "[MoviePy] Done.\n"
          ]
        },
        {
          "output_type": "stream",
          "name": "stderr",
          "text": [
            "\n"
          ]
        },
        {
          "output_type": "stream",
          "name": "stdout",
          "text": [
            "Video duration 3.69 seconds. Extracted 30 frames\n",
            "each video :/content/drive/MyDrive/Datasetvideo/Actor_01/01-01-06-02-01-02-01.mp4\n",
            "name : 01\n",
            "video name : 01-01-06-02-01-02-01.mp4\n",
            "landmark path : /content/drive/MyDrive/Datasetvideo/landmarks/01-01-06-02-01-02-01.csv\n",
            "frames folder : /content/drive/MyDrive/Datasetvideo/preprocessed/Actor_01/01-01-06-02-01-02-01.mp4\n",
            "frame folder : /content/drive/MyDrive/Datasetvideo/preprocessed/Actor_01/01-01-06-02-01-02-01.mp4\n",
            "self video path : /content/drive/MyDrive/Datasetvideo/Actor_01/01-01-06-02-01-02-01.mp4\n",
            "[MoviePy] Writing audio in /content/drive/MyDrive/Datasetvideo/preprocessed/Actor_01/01-01-06-02-01-02-01.mp4/audios/audio.wav\n"
          ]
        },
        {
          "output_type": "stream",
          "name": "stderr",
          "text": [
            "100%|██████████| 95/95 [00:00<00:00, 1415.25it/s]"
          ]
        },
        {
          "output_type": "stream",
          "name": "stdout",
          "text": [
            "[MoviePy] Done.\n"
          ]
        },
        {
          "output_type": "stream",
          "name": "stderr",
          "text": [
            "\n"
          ]
        },
        {
          "output_type": "stream",
          "name": "stdout",
          "text": [
            "Video duration 4.29 seconds. Extracted 30 frames\n",
            "each video :/content/drive/MyDrive/Datasetvideo/Actor_01/01-01-07-01-02-01-01.mp4\n",
            "name : 01\n",
            "video name : 01-01-07-01-02-01-01.mp4\n",
            "landmark path : /content/drive/MyDrive/Datasetvideo/landmarks/01-01-07-01-02-01-01.csv\n",
            "frames folder : /content/drive/MyDrive/Datasetvideo/preprocessed/Actor_01/01-01-07-01-02-01-01.mp4\n",
            "frame folder : /content/drive/MyDrive/Datasetvideo/preprocessed/Actor_01/01-01-07-01-02-01-01.mp4\n",
            "self video path : /content/drive/MyDrive/Datasetvideo/Actor_01/01-01-07-01-02-01-01.mp4\n",
            "[MoviePy] Writing audio in /content/drive/MyDrive/Datasetvideo/preprocessed/Actor_01/01-01-07-01-02-01-01.mp4/audios/audio.wav\n"
          ]
        },
        {
          "output_type": "stream",
          "name": "stderr",
          "text": [
            "100%|██████████| 88/88 [00:00<00:00, 1814.60it/s]"
          ]
        },
        {
          "output_type": "stream",
          "name": "stdout",
          "text": [
            "[MoviePy] Done.\n"
          ]
        },
        {
          "output_type": "stream",
          "name": "stderr",
          "text": [
            "\n"
          ]
        },
        {
          "output_type": "stream",
          "name": "stdout",
          "text": [
            "Video duration 3.95 seconds. Extracted 30 frames\n",
            "each video :/content/drive/MyDrive/Datasetvideo/Actor_01/01-01-07-01-01-01-01.mp4\n",
            "name : 01\n",
            "video name : 01-01-07-01-01-01-01.mp4\n",
            "landmark path : /content/drive/MyDrive/Datasetvideo/landmarks/01-01-07-01-01-01-01.csv\n",
            "frames folder : /content/drive/MyDrive/Datasetvideo/preprocessed/Actor_01/01-01-07-01-01-01-01.mp4\n",
            "frame folder : /content/drive/MyDrive/Datasetvideo/preprocessed/Actor_01/01-01-07-01-01-01-01.mp4\n",
            "self video path : /content/drive/MyDrive/Datasetvideo/Actor_01/01-01-07-01-01-01-01.mp4\n",
            "[MoviePy] Writing audio in /content/drive/MyDrive/Datasetvideo/preprocessed/Actor_01/01-01-07-01-01-01-01.mp4/audios/audio.wav\n"
          ]
        },
        {
          "output_type": "stream",
          "name": "stderr",
          "text": [
            "100%|██████████| 86/86 [00:00<00:00, 1793.74it/s]"
          ]
        },
        {
          "output_type": "stream",
          "name": "stdout",
          "text": [
            "[MoviePy] Done.\n"
          ]
        },
        {
          "output_type": "stream",
          "name": "stderr",
          "text": [
            "\n"
          ]
        },
        {
          "output_type": "stream",
          "name": "stdout",
          "text": [
            "Video duration 3.9 seconds. Extracted 30 frames\n",
            "each video :/content/drive/MyDrive/Datasetvideo/Actor_01/01-01-06-02-02-01-01.mp4\n",
            "name : 01\n",
            "video name : 01-01-06-02-02-01-01.mp4\n",
            "landmark path : /content/drive/MyDrive/Datasetvideo/landmarks/01-01-06-02-02-01-01.csv\n",
            "frames folder : /content/drive/MyDrive/Datasetvideo/preprocessed/Actor_01/01-01-06-02-02-01-01.mp4\n",
            "frame folder : /content/drive/MyDrive/Datasetvideo/preprocessed/Actor_01/01-01-06-02-02-01-01.mp4\n",
            "self video path : /content/drive/MyDrive/Datasetvideo/Actor_01/01-01-06-02-02-01-01.mp4\n",
            "[MoviePy] Writing audio in /content/drive/MyDrive/Datasetvideo/preprocessed/Actor_01/01-01-06-02-02-01-01.mp4/audios/audio.wav\n"
          ]
        },
        {
          "output_type": "stream",
          "name": "stderr",
          "text": [
            "100%|██████████| 89/89 [00:00<00:00, 1596.20it/s]"
          ]
        },
        {
          "output_type": "stream",
          "name": "stdout",
          "text": [
            "[MoviePy] Done.\n"
          ]
        },
        {
          "output_type": "stream",
          "name": "stderr",
          "text": [
            "\n"
          ]
        },
        {
          "output_type": "stream",
          "name": "stdout",
          "text": [
            "Video duration 4.01 seconds. Extracted 30 frames\n",
            "each video :/content/drive/MyDrive/Datasetvideo/Actor_01/01-01-07-01-01-02-01.mp4\n",
            "name : 01\n",
            "video name : 01-01-07-01-01-02-01.mp4\n",
            "landmark path : /content/drive/MyDrive/Datasetvideo/landmarks/01-01-07-01-01-02-01.csv\n",
            "frames folder : /content/drive/MyDrive/Datasetvideo/preprocessed/Actor_01/01-01-07-01-01-02-01.mp4\n",
            "frame folder : /content/drive/MyDrive/Datasetvideo/preprocessed/Actor_01/01-01-07-01-01-02-01.mp4\n",
            "self video path : /content/drive/MyDrive/Datasetvideo/Actor_01/01-01-07-01-01-02-01.mp4\n",
            "[MoviePy] Writing audio in /content/drive/MyDrive/Datasetvideo/preprocessed/Actor_01/01-01-07-01-01-02-01.mp4/audios/audio.wav\n"
          ]
        },
        {
          "output_type": "stream",
          "name": "stderr",
          "text": [
            "100%|██████████| 88/88 [00:00<00:00, 1475.67it/s]"
          ]
        },
        {
          "output_type": "stream",
          "name": "stdout",
          "text": [
            "[MoviePy] Done.\n"
          ]
        },
        {
          "output_type": "stream",
          "name": "stderr",
          "text": [
            "\n"
          ]
        },
        {
          "output_type": "stream",
          "name": "stdout",
          "text": [
            "Video duration 3.95 seconds. Extracted 30 frames\n",
            "each video :/content/drive/MyDrive/Datasetvideo/Actor_01/01-01-06-02-02-02-01.mp4\n",
            "name : 01\n",
            "video name : 01-01-06-02-02-02-01.mp4\n",
            "landmark path : /content/drive/MyDrive/Datasetvideo/landmarks/01-01-06-02-02-02-01.csv\n",
            "frames folder : /content/drive/MyDrive/Datasetvideo/preprocessed/Actor_01/01-01-06-02-02-02-01.mp4\n",
            "frame folder : /content/drive/MyDrive/Datasetvideo/preprocessed/Actor_01/01-01-06-02-02-02-01.mp4\n",
            "self video path : /content/drive/MyDrive/Datasetvideo/Actor_01/01-01-06-02-02-02-01.mp4\n",
            "[MoviePy] Writing audio in /content/drive/MyDrive/Datasetvideo/preprocessed/Actor_01/01-01-06-02-02-02-01.mp4/audios/audio.wav\n"
          ]
        },
        {
          "output_type": "stream",
          "name": "stderr",
          "text": [
            "100%|██████████| 88/88 [00:00<00:00, 1543.20it/s]"
          ]
        },
        {
          "output_type": "stream",
          "name": "stdout",
          "text": [
            "[MoviePy] Done.\n"
          ]
        },
        {
          "output_type": "stream",
          "name": "stderr",
          "text": [
            "\n"
          ]
        },
        {
          "output_type": "stream",
          "name": "stdout",
          "text": [
            "Video duration 3.95 seconds. Extracted 30 frames\n",
            "each video :/content/drive/MyDrive/Datasetvideo/Actor_01/01-01-07-02-01-02-01.mp4\n",
            "name : 01\n",
            "video name : 01-01-07-02-01-02-01.mp4\n",
            "landmark path : /content/drive/MyDrive/Datasetvideo/landmarks/01-01-07-02-01-02-01.csv\n",
            "frames folder : /content/drive/MyDrive/Datasetvideo/preprocessed/Actor_01/01-01-07-02-01-02-01.mp4\n",
            "frame folder : /content/drive/MyDrive/Datasetvideo/preprocessed/Actor_01/01-01-07-02-01-02-01.mp4\n",
            "self video path : /content/drive/MyDrive/Datasetvideo/Actor_01/01-01-07-02-01-02-01.mp4\n",
            "[MoviePy] Writing audio in /content/drive/MyDrive/Datasetvideo/preprocessed/Actor_01/01-01-07-02-01-02-01.mp4/audios/audio.wav\n"
          ]
        },
        {
          "output_type": "stream",
          "name": "stderr",
          "text": [
            "100%|██████████| 92/92 [00:00<00:00, 1708.89it/s]"
          ]
        },
        {
          "output_type": "stream",
          "name": "stdout",
          "text": [
            "[MoviePy] Done.\n"
          ]
        },
        {
          "output_type": "stream",
          "name": "stderr",
          "text": [
            "\n"
          ]
        },
        {
          "output_type": "stream",
          "name": "stdout",
          "text": [
            "Video duration 4.14 seconds. Extracted 30 frames\n",
            "each video :/content/drive/MyDrive/Datasetvideo/Actor_01/01-01-07-02-02-01-01.mp4\n",
            "name : 01\n",
            "video name : 01-01-07-02-02-01-01.mp4\n",
            "landmark path : /content/drive/MyDrive/Datasetvideo/landmarks/01-01-07-02-02-01-01.csv\n",
            "frames folder : /content/drive/MyDrive/Datasetvideo/preprocessed/Actor_01/01-01-07-02-02-01-01.mp4\n",
            "frame folder : /content/drive/MyDrive/Datasetvideo/preprocessed/Actor_01/01-01-07-02-02-01-01.mp4\n",
            "self video path : /content/drive/MyDrive/Datasetvideo/Actor_01/01-01-07-02-02-01-01.mp4\n",
            "[MoviePy] Writing audio in /content/drive/MyDrive/Datasetvideo/preprocessed/Actor_01/01-01-07-02-02-01-01.mp4/audios/audio.wav\n"
          ]
        },
        {
          "output_type": "stream",
          "name": "stderr",
          "text": [
            "100%|██████████| 90/90 [00:00<00:00, 1719.20it/s]"
          ]
        },
        {
          "output_type": "stream",
          "name": "stdout",
          "text": [
            "[MoviePy] Done.\n"
          ]
        },
        {
          "output_type": "stream",
          "name": "stderr",
          "text": [
            "\n"
          ]
        },
        {
          "output_type": "stream",
          "name": "stdout",
          "text": [
            "Video duration 4.07 seconds. Extracted 30 frames\n",
            "each video :/content/drive/MyDrive/Datasetvideo/Actor_01/01-01-07-02-02-02-01.mp4\n",
            "name : 01\n",
            "video name : 01-01-07-02-02-02-01.mp4\n",
            "landmark path : /content/drive/MyDrive/Datasetvideo/landmarks/01-01-07-02-02-02-01.csv\n",
            "frames folder : /content/drive/MyDrive/Datasetvideo/preprocessed/Actor_01/01-01-07-02-02-02-01.mp4\n",
            "frame folder : /content/drive/MyDrive/Datasetvideo/preprocessed/Actor_01/01-01-07-02-02-02-01.mp4\n",
            "self video path : /content/drive/MyDrive/Datasetvideo/Actor_01/01-01-07-02-02-02-01.mp4\n",
            "[MoviePy] Writing audio in /content/drive/MyDrive/Datasetvideo/preprocessed/Actor_01/01-01-07-02-02-02-01.mp4/audios/audio.wav\n"
          ]
        },
        {
          "output_type": "stream",
          "name": "stderr",
          "text": [
            "100%|██████████| 98/98 [00:00<00:00, 1356.57it/s]"
          ]
        },
        {
          "output_type": "stream",
          "name": "stdout",
          "text": [
            "[MoviePy] Done.\n"
          ]
        },
        {
          "output_type": "stream",
          "name": "stderr",
          "text": [
            "\n"
          ]
        },
        {
          "output_type": "stream",
          "name": "stdout",
          "text": [
            "Video duration 4.42 seconds. Extracted 30 frames\n",
            "each video :/content/drive/MyDrive/Datasetvideo/Actor_01/01-01-07-01-02-02-01.mp4\n",
            "name : 01\n",
            "video name : 01-01-07-01-02-02-01.mp4\n",
            "landmark path : /content/drive/MyDrive/Datasetvideo/landmarks/01-01-07-01-02-02-01.csv\n",
            "frames folder : /content/drive/MyDrive/Datasetvideo/preprocessed/Actor_01/01-01-07-01-02-02-01.mp4\n",
            "frame folder : /content/drive/MyDrive/Datasetvideo/preprocessed/Actor_01/01-01-07-01-02-02-01.mp4\n",
            "self video path : /content/drive/MyDrive/Datasetvideo/Actor_01/01-01-07-01-02-02-01.mp4\n",
            "[MoviePy] Writing audio in /content/drive/MyDrive/Datasetvideo/preprocessed/Actor_01/01-01-07-01-02-02-01.mp4/audios/audio.wav\n"
          ]
        },
        {
          "output_type": "stream",
          "name": "stderr",
          "text": [
            "100%|██████████| 86/86 [00:00<00:00, 1592.77it/s]"
          ]
        },
        {
          "output_type": "stream",
          "name": "stdout",
          "text": [
            "[MoviePy] Done.\n"
          ]
        },
        {
          "output_type": "stream",
          "name": "stderr",
          "text": [
            "\n"
          ]
        },
        {
          "output_type": "stream",
          "name": "stdout",
          "text": [
            "Video duration 3.88 seconds. Extracted 30 frames\n",
            "each video :/content/drive/MyDrive/Datasetvideo/Actor_01/01-01-07-02-01-01-01.mp4\n",
            "name : 01\n",
            "video name : 01-01-07-02-01-01-01.mp4\n",
            "landmark path : /content/drive/MyDrive/Datasetvideo/landmarks/01-01-07-02-01-01-01.csv\n",
            "frames folder : /content/drive/MyDrive/Datasetvideo/preprocessed/Actor_01/01-01-07-02-01-01-01.mp4\n",
            "frame folder : /content/drive/MyDrive/Datasetvideo/preprocessed/Actor_01/01-01-07-02-01-01-01.mp4\n",
            "self video path : /content/drive/MyDrive/Datasetvideo/Actor_01/01-01-07-02-01-01-01.mp4\n",
            "[MoviePy] Writing audio in /content/drive/MyDrive/Datasetvideo/preprocessed/Actor_01/01-01-07-02-01-01-01.mp4/audios/audio.wav\n"
          ]
        },
        {
          "output_type": "stream",
          "name": "stderr",
          "text": [
            "100%|██████████| 96/96 [00:00<00:00, 1454.67it/s]"
          ]
        },
        {
          "output_type": "stream",
          "name": "stdout",
          "text": [
            "[MoviePy] Done.\n"
          ]
        },
        {
          "output_type": "stream",
          "name": "stderr",
          "text": [
            "\n"
          ]
        },
        {
          "output_type": "stream",
          "name": "stdout",
          "text": [
            "Video duration 4.35 seconds. Extracted 30 frames\n",
            "each video :/content/drive/MyDrive/Datasetvideo/Actor_01/01-01-08-02-02-01-01.mp4\n",
            "name : 01\n",
            "video name : 01-01-08-02-02-01-01.mp4\n",
            "landmark path : /content/drive/MyDrive/Datasetvideo/landmarks/01-01-08-02-02-01-01.csv\n",
            "frames folder : /content/drive/MyDrive/Datasetvideo/preprocessed/Actor_01/01-01-08-02-02-01-01.mp4\n",
            "frame folder : /content/drive/MyDrive/Datasetvideo/preprocessed/Actor_01/01-01-08-02-02-01-01.mp4\n",
            "self video path : /content/drive/MyDrive/Datasetvideo/Actor_01/01-01-08-02-02-01-01.mp4\n",
            "[MoviePy] Writing audio in /content/drive/MyDrive/Datasetvideo/preprocessed/Actor_01/01-01-08-02-02-01-01.mp4/audios/audio.wav\n"
          ]
        },
        {
          "output_type": "stream",
          "name": "stderr",
          "text": [
            "100%|██████████| 79/79 [00:00<00:00, 1064.19it/s]"
          ]
        },
        {
          "output_type": "stream",
          "name": "stdout",
          "text": [
            "[MoviePy] Done.\n"
          ]
        },
        {
          "output_type": "stream",
          "name": "stderr",
          "text": [
            "\n"
          ]
        },
        {
          "output_type": "stream",
          "name": "stdout",
          "text": [
            "Video duration 3.54 seconds. Extracted 30 frames\n",
            "each video :/content/drive/MyDrive/Datasetvideo/Actor_01/01-01-08-02-01-02-01.mp4\n",
            "name : 01\n",
            "video name : 01-01-08-02-01-02-01.mp4\n",
            "landmark path : /content/drive/MyDrive/Datasetvideo/landmarks/01-01-08-02-01-02-01.csv\n",
            "frames folder : /content/drive/MyDrive/Datasetvideo/preprocessed/Actor_01/01-01-08-02-01-02-01.mp4\n",
            "frame folder : /content/drive/MyDrive/Datasetvideo/preprocessed/Actor_01/01-01-08-02-01-02-01.mp4\n",
            "self video path : /content/drive/MyDrive/Datasetvideo/Actor_01/01-01-08-02-01-02-01.mp4\n",
            "[MoviePy] Writing audio in /content/drive/MyDrive/Datasetvideo/preprocessed/Actor_01/01-01-08-02-01-02-01.mp4/audios/audio.wav\n"
          ]
        },
        {
          "output_type": "stream",
          "name": "stderr",
          "text": [
            "100%|██████████| 80/80 [00:00<00:00, 1495.31it/s]"
          ]
        },
        {
          "output_type": "stream",
          "name": "stdout",
          "text": [
            "[MoviePy] Done.\n"
          ]
        },
        {
          "output_type": "stream",
          "name": "stderr",
          "text": [
            "\n"
          ]
        },
        {
          "output_type": "stream",
          "name": "stdout",
          "text": [
            "Video duration 3.61 seconds. Extracted 30 frames\n",
            "each video :/content/drive/MyDrive/Datasetvideo/Actor_01/01-01-08-01-01-01-01.mp4\n",
            "name : 01\n",
            "video name : 01-01-08-01-01-01-01.mp4\n",
            "landmark path : /content/drive/MyDrive/Datasetvideo/landmarks/01-01-08-01-01-01-01.csv\n",
            "frames folder : /content/drive/MyDrive/Datasetvideo/preprocessed/Actor_01/01-01-08-01-01-01-01.mp4\n",
            "frame folder : /content/drive/MyDrive/Datasetvideo/preprocessed/Actor_01/01-01-08-01-01-01-01.mp4\n",
            "self video path : /content/drive/MyDrive/Datasetvideo/Actor_01/01-01-08-01-01-01-01.mp4\n",
            "[MoviePy] Writing audio in /content/drive/MyDrive/Datasetvideo/preprocessed/Actor_01/01-01-08-01-01-01-01.mp4/audios/audio.wav\n"
          ]
        },
        {
          "output_type": "stream",
          "name": "stderr",
          "text": [
            "100%|██████████| 77/77 [00:00<00:00, 1281.55it/s]"
          ]
        },
        {
          "output_type": "stream",
          "name": "stdout",
          "text": [
            "[MoviePy] Done.\n"
          ]
        },
        {
          "output_type": "stream",
          "name": "stderr",
          "text": [
            "\n"
          ]
        },
        {
          "output_type": "stream",
          "name": "stdout",
          "text": [
            "Video duration 3.46 seconds. Extracted 30 frames\n",
            "each video :/content/drive/MyDrive/Datasetvideo/Actor_01/01-01-08-02-01-01-01.mp4\n",
            "name : 01\n",
            "video name : 01-01-08-02-01-01-01.mp4\n",
            "landmark path : /content/drive/MyDrive/Datasetvideo/landmarks/01-01-08-02-01-01-01.csv\n",
            "frames folder : /content/drive/MyDrive/Datasetvideo/preprocessed/Actor_01/01-01-08-02-01-01-01.mp4\n",
            "frame folder : /content/drive/MyDrive/Datasetvideo/preprocessed/Actor_01/01-01-08-02-01-01-01.mp4\n",
            "self video path : /content/drive/MyDrive/Datasetvideo/Actor_01/01-01-08-02-01-01-01.mp4\n",
            "[MoviePy] Writing audio in /content/drive/MyDrive/Datasetvideo/preprocessed/Actor_01/01-01-08-02-01-01-01.mp4/audios/audio.wav\n"
          ]
        },
        {
          "output_type": "stream",
          "name": "stderr",
          "text": [
            "100%|██████████| 77/77 [00:00<00:00, 1719.01it/s]"
          ]
        },
        {
          "output_type": "stream",
          "name": "stdout",
          "text": [
            "[MoviePy] Done.\n"
          ]
        },
        {
          "output_type": "stream",
          "name": "stderr",
          "text": [
            "\n"
          ]
        },
        {
          "output_type": "stream",
          "name": "stdout",
          "text": [
            "Video duration 3.48 seconds. Extracted 30 frames\n",
            "each video :/content/drive/MyDrive/Datasetvideo/Actor_01/01-01-08-01-01-02-01.mp4\n",
            "name : 01\n",
            "video name : 01-01-08-01-01-02-01.mp4\n",
            "landmark path : /content/drive/MyDrive/Datasetvideo/landmarks/01-01-08-01-01-02-01.csv\n",
            "frames folder : /content/drive/MyDrive/Datasetvideo/preprocessed/Actor_01/01-01-08-01-01-02-01.mp4\n",
            "frame folder : /content/drive/MyDrive/Datasetvideo/preprocessed/Actor_01/01-01-08-01-01-02-01.mp4\n",
            "self video path : /content/drive/MyDrive/Datasetvideo/Actor_01/01-01-08-01-01-02-01.mp4\n",
            "[MoviePy] Writing audio in /content/drive/MyDrive/Datasetvideo/preprocessed/Actor_01/01-01-08-01-01-02-01.mp4/audios/audio.wav\n"
          ]
        },
        {
          "output_type": "stream",
          "name": "stderr",
          "text": [
            "100%|██████████| 73/73 [00:00<00:00, 1585.83it/s]"
          ]
        },
        {
          "output_type": "stream",
          "name": "stdout",
          "text": [
            "[MoviePy] Done.\n"
          ]
        },
        {
          "output_type": "stream",
          "name": "stderr",
          "text": [
            "\n"
          ]
        },
        {
          "output_type": "stream",
          "name": "stdout",
          "text": [
            "Video duration 3.31 seconds. Extracted 30 frames\n",
            "each video :/content/drive/MyDrive/Datasetvideo/Actor_01/01-01-08-01-02-01-01.mp4\n",
            "name : 01\n",
            "video name : 01-01-08-01-02-01-01.mp4\n",
            "landmark path : /content/drive/MyDrive/Datasetvideo/landmarks/01-01-08-01-02-01-01.csv\n",
            "frames folder : /content/drive/MyDrive/Datasetvideo/preprocessed/Actor_01/01-01-08-01-02-01-01.mp4\n",
            "frame folder : /content/drive/MyDrive/Datasetvideo/preprocessed/Actor_01/01-01-08-01-02-01-01.mp4\n",
            "self video path : /content/drive/MyDrive/Datasetvideo/Actor_01/01-01-08-01-02-01-01.mp4\n",
            "[MoviePy] Writing audio in /content/drive/MyDrive/Datasetvideo/preprocessed/Actor_01/01-01-08-01-02-01-01.mp4/audios/audio.wav\n"
          ]
        },
        {
          "output_type": "stream",
          "name": "stderr",
          "text": [
            "100%|██████████| 79/79 [00:00<00:00, 1494.86it/s]"
          ]
        },
        {
          "output_type": "stream",
          "name": "stdout",
          "text": [
            "[MoviePy] Done.\n"
          ]
        },
        {
          "output_type": "stream",
          "name": "stderr",
          "text": [
            "\n"
          ]
        },
        {
          "output_type": "stream",
          "name": "stdout",
          "text": [
            "Video duration 3.58 seconds. Extracted 30 frames\n",
            "each video :/content/drive/MyDrive/Datasetvideo/Actor_01/01-01-08-01-02-02-01.mp4\n",
            "name : 01\n",
            "video name : 01-01-08-01-02-02-01.mp4\n",
            "landmark path : /content/drive/MyDrive/Datasetvideo/landmarks/01-01-08-01-02-02-01.csv\n",
            "frames folder : /content/drive/MyDrive/Datasetvideo/preprocessed/Actor_01/01-01-08-01-02-02-01.mp4\n",
            "frame folder : /content/drive/MyDrive/Datasetvideo/preprocessed/Actor_01/01-01-08-01-02-02-01.mp4\n",
            "self video path : /content/drive/MyDrive/Datasetvideo/Actor_01/01-01-08-01-02-02-01.mp4\n",
            "[MoviePy] Writing audio in /content/drive/MyDrive/Datasetvideo/preprocessed/Actor_01/01-01-08-01-02-02-01.mp4/audios/audio.wav\n"
          ]
        },
        {
          "output_type": "stream",
          "name": "stderr",
          "text": [
            "100%|██████████| 73/73 [00:00<00:00, 1466.65it/s]"
          ]
        },
        {
          "output_type": "stream",
          "name": "stdout",
          "text": [
            "[MoviePy] Done.\n"
          ]
        },
        {
          "output_type": "stream",
          "name": "stderr",
          "text": [
            "\n"
          ]
        },
        {
          "output_type": "stream",
          "name": "stdout",
          "text": [
            "Video duration 3.31 seconds. Extracted 30 frames\n",
            "each video :/content/drive/MyDrive/Datasetvideo/Actor_01/02-01-01-01-01-01-01.mp4\n",
            "name : 02\n",
            "each video :/content/drive/MyDrive/Datasetvideo/Actor_01/02-01-01-01-02-01-01.mp4\n",
            "name : 02\n",
            "each video :/content/drive/MyDrive/Datasetvideo/Actor_01/02-01-01-01-01-02-01.mp4\n",
            "name : 02\n",
            "each video :/content/drive/MyDrive/Datasetvideo/Actor_01/02-01-02-01-01-01-01.mp4\n",
            "name : 02\n",
            "each video :/content/drive/MyDrive/Datasetvideo/Actor_01/02-01-02-01-01-02-01.mp4\n",
            "name : 02\n",
            "each video :/content/drive/MyDrive/Datasetvideo/Actor_01/01-01-08-02-02-02-01.mp4\n",
            "name : 01\n",
            "video name : 01-01-08-02-02-02-01.mp4\n",
            "landmark path : /content/drive/MyDrive/Datasetvideo/landmarks/01-01-08-02-02-02-01.csv\n",
            "frames folder : /content/drive/MyDrive/Datasetvideo/preprocessed/Actor_01/01-01-08-02-02-02-01.mp4\n",
            "frame folder : /content/drive/MyDrive/Datasetvideo/preprocessed/Actor_01/01-01-08-02-02-02-01.mp4\n",
            "self video path : /content/drive/MyDrive/Datasetvideo/Actor_01/01-01-08-02-02-02-01.mp4\n",
            "[MoviePy] Writing audio in /content/drive/MyDrive/Datasetvideo/preprocessed/Actor_01/01-01-08-02-02-02-01.mp4/audios/audio.wav\n"
          ]
        },
        {
          "output_type": "stream",
          "name": "stderr",
          "text": [
            "100%|██████████| 73/73 [00:00<00:00, 1850.27it/s]"
          ]
        },
        {
          "output_type": "stream",
          "name": "stdout",
          "text": [
            "[MoviePy] Done.\n"
          ]
        },
        {
          "output_type": "stream",
          "name": "stderr",
          "text": [
            "\n"
          ]
        },
        {
          "output_type": "stream",
          "name": "stdout",
          "text": [
            "Video duration 3.31 seconds. Extracted 30 frames\n",
            "each video :/content/drive/MyDrive/Datasetvideo/Actor_01/02-01-01-01-02-02-01.mp4\n",
            "name : 02\n",
            "each video :/content/drive/MyDrive/Datasetvideo/Actor_01/02-01-02-01-02-01-01.mp4\n",
            "name : 02\n",
            "each video :/content/drive/MyDrive/Datasetvideo/Actor_01/02-01-02-02-01-02-01.mp4\n",
            "name : 02\n",
            "each video :/content/drive/MyDrive/Datasetvideo/Actor_01/02-01-02-01-02-02-01.mp4\n",
            "name : 02\n",
            "each video :/content/drive/MyDrive/Datasetvideo/Actor_01/02-01-02-02-01-01-01.mp4\n",
            "name : 02\n",
            "each video :/content/drive/MyDrive/Datasetvideo/Actor_01/02-01-02-02-02-01-01.mp4\n",
            "name : 02\n",
            "each video :/content/drive/MyDrive/Datasetvideo/Actor_01/02-01-02-02-02-02-01.mp4\n",
            "name : 02\n",
            "each video :/content/drive/MyDrive/Datasetvideo/Actor_01/02-01-03-02-01-02-01.mp4\n",
            "name : 02\n",
            "each video :/content/drive/MyDrive/Datasetvideo/Actor_01/02-01-03-01-02-01-01.mp4\n",
            "name : 02\n",
            "each video :/content/drive/MyDrive/Datasetvideo/Actor_01/02-01-03-01-01-02-01.mp4\n",
            "name : 02\n",
            "each video :/content/drive/MyDrive/Datasetvideo/Actor_01/02-01-03-02-01-01-01.mp4\n",
            "name : 02\n",
            "each video :/content/drive/MyDrive/Datasetvideo/Actor_01/02-01-03-01-01-01-01.mp4\n",
            "name : 02\n",
            "each video :/content/drive/MyDrive/Datasetvideo/Actor_01/02-01-03-01-02-02-01.mp4\n",
            "name : 02\n",
            "each video :/content/drive/MyDrive/Datasetvideo/Actor_01/02-01-04-01-01-02-01.mp4\n",
            "name : 02\n",
            "each video :/content/drive/MyDrive/Datasetvideo/Actor_01/02-01-04-01-01-01-01.mp4\n",
            "name : 02\n",
            "each video :/content/drive/MyDrive/Datasetvideo/Actor_01/02-01-04-01-02-01-01.mp4\n",
            "name : 02\n",
            "each video :/content/drive/MyDrive/Datasetvideo/Actor_01/02-01-03-02-02-02-01.mp4\n",
            "name : 02\n",
            "each video :/content/drive/MyDrive/Datasetvideo/Actor_01/02-01-04-01-02-02-01.mp4\n",
            "name : 02\n",
            "each video :/content/drive/MyDrive/Datasetvideo/Actor_01/02-01-03-02-02-01-01.mp4\n",
            "name : 02\n",
            "each video :/content/drive/MyDrive/Datasetvideo/Actor_01/02-01-04-02-01-01-01.mp4\n",
            "name : 02\n",
            "each video :/content/drive/MyDrive/Datasetvideo/Actor_01/02-01-05-01-01-02-01.mp4\n",
            "name : 02\n",
            "each video :/content/drive/MyDrive/Datasetvideo/Actor_01/02-01-04-02-02-01-01.mp4\n",
            "name : 02\n",
            "each video :/content/drive/MyDrive/Datasetvideo/Actor_01/02-01-04-02-01-02-01.mp4\n",
            "name : 02\n",
            "each video :/content/drive/MyDrive/Datasetvideo/Actor_01/02-01-05-01-01-01-01.mp4\n",
            "name : 02\n",
            "each video :/content/drive/MyDrive/Datasetvideo/Actor_01/02-01-04-02-02-02-01.mp4\n",
            "name : 02\n",
            "each video :/content/drive/MyDrive/Datasetvideo/Actor_01/02-01-05-01-02-02-01.mp4\n",
            "name : 02\n",
            "each video :/content/drive/MyDrive/Datasetvideo/Actor_01/02-01-05-02-02-01-01.mp4\n",
            "name : 02\n",
            "each video :/content/drive/MyDrive/Datasetvideo/Actor_01/02-01-05-02-01-01-01.mp4\n",
            "name : 02\n",
            "each video :/content/drive/MyDrive/Datasetvideo/Actor_01/02-01-05-01-02-01-01.mp4\n",
            "name : 02\n",
            "each video :/content/drive/MyDrive/Datasetvideo/Actor_01/02-01-05-02-01-02-01.mp4\n",
            "name : 02\n",
            "each video :/content/drive/MyDrive/Datasetvideo/Actor_01/02-01-06-01-02-01-01.mp4\n",
            "name : 02\n",
            "each video :/content/drive/MyDrive/Datasetvideo/Actor_01/02-01-06-02-01-01-01.mp4\n",
            "name : 02\n",
            "each video :/content/drive/MyDrive/Datasetvideo/Actor_01/02-01-05-02-02-02-01.mp4\n",
            "name : 02\n",
            "each video :/content/drive/MyDrive/Datasetvideo/Actor_01/02-01-06-01-02-02-01.mp4\n",
            "name : 02\n",
            "each video :/content/drive/MyDrive/Datasetvideo/Actor_01/02-01-06-01-01-01-01.mp4\n",
            "name : 02\n",
            "each video :/content/drive/MyDrive/Datasetvideo/Actor_01/02-01-06-01-01-02-01.mp4\n",
            "name : 02\n",
            "each video :/content/drive/MyDrive/Datasetvideo/Actor_01/02-01-06-02-02-01-01.mp4\n",
            "name : 02\n",
            "each video :/content/drive/MyDrive/Datasetvideo/Actor_01/02-01-07-01-01-02-01.mp4\n",
            "name : 02\n",
            "each video :/content/drive/MyDrive/Datasetvideo/Actor_01/02-01-06-02-01-02-01.mp4\n",
            "name : 02\n",
            "each video :/content/drive/MyDrive/Datasetvideo/Actor_01/02-01-07-01-01-01-01.mp4\n",
            "name : 02\n",
            "each video :/content/drive/MyDrive/Datasetvideo/Actor_01/02-01-06-02-02-02-01.mp4\n",
            "name : 02\n",
            "each video :/content/drive/MyDrive/Datasetvideo/Actor_01/02-01-07-01-02-01-01.mp4\n",
            "name : 02\n",
            "each video :/content/drive/MyDrive/Datasetvideo/Actor_01/02-01-07-02-01-01-01.mp4\n",
            "name : 02\n",
            "each video :/content/drive/MyDrive/Datasetvideo/Actor_01/02-01-07-01-02-02-01.mp4\n",
            "name : 02\n",
            "each video :/content/drive/MyDrive/Datasetvideo/Actor_01/02-01-07-02-02-01-01.mp4\n",
            "name : 02\n",
            "each video :/content/drive/MyDrive/Datasetvideo/Actor_01/02-01-07-02-01-02-01.mp4\n",
            "name : 02\n",
            "each video :/content/drive/MyDrive/Datasetvideo/Actor_01/02-01-07-02-02-02-01.mp4\n",
            "name : 02\n",
            "each video :/content/drive/MyDrive/Datasetvideo/Actor_01/02-01-08-02-01-01-01.mp4\n",
            "name : 02\n",
            "each video :/content/drive/MyDrive/Datasetvideo/Actor_01/02-01-08-01-01-01-01.mp4\n",
            "name : 02\n",
            "each video :/content/drive/MyDrive/Datasetvideo/Actor_01/02-01-08-01-02-02-01.mp4\n",
            "name : 02\n",
            "each video :/content/drive/MyDrive/Datasetvideo/Actor_01/02-01-08-01-01-02-01.mp4\n",
            "name : 02\n",
            "each video :/content/drive/MyDrive/Datasetvideo/Actor_01/02-01-08-01-02-01-01.mp4\n",
            "name : 02\n",
            "each video :/content/drive/MyDrive/Datasetvideo/Actor_01/02-01-08-02-01-02-01.mp4\n",
            "name : 02\n",
            "each video :/content/drive/MyDrive/Datasetvideo/Actor_01/02-01-08-02-02-02-01.mp4\n",
            "name : 02\n",
            "each video :/content/drive/MyDrive/Datasetvideo/Actor_01/02-01-08-02-02-01-01.mp4\n",
            "name : 02\n",
            "Preprocessed dataset located in  /content/drive/MyDrive/Datasetvideo/preprocessed\n"
          ]
        }
      ]
    }
  ]
}