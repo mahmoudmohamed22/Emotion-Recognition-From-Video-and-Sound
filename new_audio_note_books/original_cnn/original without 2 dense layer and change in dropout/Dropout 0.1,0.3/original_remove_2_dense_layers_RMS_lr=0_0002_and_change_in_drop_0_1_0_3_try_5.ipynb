{
  "nbformat": 4,
  "nbformat_minor": 0,
  "metadata": {
    "colab": {
      "name": "original remove 2 dense layers RMS lr=0.0002 and change in drop 0.1 0.3 try 5.ipynb",
      "provenance": [],
      "collapsed_sections": []
    },
    "kernelspec": {
      "name": "python3",
      "display_name": "Python 3"
    },
    "language_info": {
      "name": "python"
    },
    "accelerator": "GPU"
  },
  "cells": [
    {
      "cell_type": "code",
      "execution_count": 1,
      "metadata": {
        "colab": {
          "base_uri": "https://localhost:8080/"
        },
        "id": "9SRCO-a_AlH5",
        "outputId": "f371643a-22e8-45b6-a70e-d5ebc54f9695"
      },
      "outputs": [
        {
          "output_type": "stream",
          "name": "stdout",
          "text": [
            "Drive already mounted at /content/drive; to attempt to forcibly remount, call drive.mount(\"/content/drive\", force_remount=True).\n"
          ]
        }
      ],
      "source": [
        "from google.colab import drive\n",
        "drive.mount('/content/drive')"
      ]
    },
    {
      "cell_type": "code",
      "source": [
        "!pip install librosa"
      ],
      "metadata": {
        "colab": {
          "base_uri": "https://localhost:8080/"
        },
        "id": "5Lo4mUwG9RMd",
        "outputId": "f7ee5752-84af-4e4c-a3e1-bb7eaa894479"
      },
      "execution_count": 2,
      "outputs": [
        {
          "output_type": "stream",
          "name": "stdout",
          "text": [
            "Looking in indexes: https://pypi.org/simple, https://us-python.pkg.dev/colab-wheels/public/simple/\n",
            "Requirement already satisfied: librosa in /usr/local/lib/python3.7/dist-packages (0.8.1)\n",
            "Requirement already satisfied: soundfile>=0.10.2 in /usr/local/lib/python3.7/dist-packages (from librosa) (0.10.3.post1)\n",
            "Requirement already satisfied: decorator>=3.0.0 in /usr/local/lib/python3.7/dist-packages (from librosa) (4.4.2)\n",
            "Requirement already satisfied: scikit-learn!=0.19.0,>=0.14.0 in /usr/local/lib/python3.7/dist-packages (from librosa) (1.0.2)\n",
            "Requirement already satisfied: scipy>=1.0.0 in /usr/local/lib/python3.7/dist-packages (from librosa) (1.4.1)\n",
            "Requirement already satisfied: resampy>=0.2.2 in /usr/local/lib/python3.7/dist-packages (from librosa) (0.2.2)\n",
            "Requirement already satisfied: joblib>=0.14 in /usr/local/lib/python3.7/dist-packages (from librosa) (1.1.0)\n",
            "Requirement already satisfied: audioread>=2.0.0 in /usr/local/lib/python3.7/dist-packages (from librosa) (2.1.9)\n",
            "Requirement already satisfied: numpy>=1.15.0 in /usr/local/lib/python3.7/dist-packages (from librosa) (1.21.6)\n",
            "Requirement already satisfied: packaging>=20.0 in /usr/local/lib/python3.7/dist-packages (from librosa) (21.3)\n",
            "Requirement already satisfied: pooch>=1.0 in /usr/local/lib/python3.7/dist-packages (from librosa) (1.6.0)\n",
            "Requirement already satisfied: numba>=0.43.0 in /usr/local/lib/python3.7/dist-packages (from librosa) (0.51.2)\n",
            "Requirement already satisfied: setuptools in /usr/local/lib/python3.7/dist-packages (from numba>=0.43.0->librosa) (57.4.0)\n",
            "Requirement already satisfied: llvmlite<0.35,>=0.34.0.dev0 in /usr/local/lib/python3.7/dist-packages (from numba>=0.43.0->librosa) (0.34.0)\n",
            "Requirement already satisfied: pyparsing!=3.0.5,>=2.0.2 in /usr/local/lib/python3.7/dist-packages (from packaging>=20.0->librosa) (3.0.9)\n",
            "Requirement already satisfied: requests>=2.19.0 in /usr/local/lib/python3.7/dist-packages (from pooch>=1.0->librosa) (2.23.0)\n",
            "Requirement already satisfied: appdirs>=1.3.0 in /usr/local/lib/python3.7/dist-packages (from pooch>=1.0->librosa) (1.4.4)\n",
            "Requirement already satisfied: idna<3,>=2.5 in /usr/local/lib/python3.7/dist-packages (from requests>=2.19.0->pooch>=1.0->librosa) (2.10)\n",
            "Requirement already satisfied: urllib3!=1.25.0,!=1.25.1,<1.26,>=1.21.1 in /usr/local/lib/python3.7/dist-packages (from requests>=2.19.0->pooch>=1.0->librosa) (1.24.3)\n",
            "Requirement already satisfied: chardet<4,>=3.0.2 in /usr/local/lib/python3.7/dist-packages (from requests>=2.19.0->pooch>=1.0->librosa) (3.0.4)\n",
            "Requirement already satisfied: certifi>=2017.4.17 in /usr/local/lib/python3.7/dist-packages (from requests>=2.19.0->pooch>=1.0->librosa) (2022.5.18.1)\n",
            "Requirement already satisfied: six>=1.3 in /usr/local/lib/python3.7/dist-packages (from resampy>=0.2.2->librosa) (1.15.0)\n",
            "Requirement already satisfied: threadpoolctl>=2.0.0 in /usr/local/lib/python3.7/dist-packages (from scikit-learn!=0.19.0,>=0.14.0->librosa) (3.1.0)\n",
            "Requirement already satisfied: cffi>=1.0 in /usr/local/lib/python3.7/dist-packages (from soundfile>=0.10.2->librosa) (1.15.0)\n",
            "Requirement already satisfied: pycparser in /usr/local/lib/python3.7/dist-packages (from cffi>=1.0->soundfile>=0.10.2->librosa) (2.21)\n"
          ]
        }
      ]
    },
    {
      "cell_type": "code",
      "metadata": {
        "id": "HJjcbxwy46bG",
        "colab": {
          "base_uri": "https://localhost:8080/",
          "height": 17
        },
        "outputId": "be1a47e6-3b39-4b38-91f5-3b8f5d64ffed"
      },
      "source": [
        "# Orignial Notebook: https://github.com/MITESHPUTHRANNEU/Speech-Emotion-Analyzer/blob/master/final_results_gender_test.ipynb\n",
        "# This notebook author: Reza Chu\n",
        "# Last Editing Date: 31st May 2019\n",
        "\n",
        "## Python\n",
        "import os\n",
        "import random\n",
        "import sys\n",
        "\n",
        "import IPython\n",
        "from IPython.display import Audio\n",
        "from IPython.display import Image\n",
        "import matplotlib.pyplot as plt\n",
        "\n",
        "## Package\n",
        "import glob \n",
        "import keras\n",
        "import IPython.display as ipd\n",
        "import librosa\n",
        "import librosa.display\n",
        "import matplotlib.pyplot as plt\n",
        "import numpy as np\n",
        "import pandas as pd\n",
        "import plotly.graph_objs as go\n",
        "import plotly.offline as py\n",
        "import plotly.tools as tls\n",
        "import seaborn as sns\n",
        "import scipy.io.wavfile\n",
        "import tensorflow as tf\n",
        "py.init_notebook_mode(connected=True)\n",
        "\n",
        "## Keras\n",
        "from keras import regularizers\n",
        "from keras.callbacks import ModelCheckpoint, LearningRateScheduler, EarlyStopping\n",
        "from keras.callbacks import  History, ReduceLROnPlateau, CSVLogger\n",
        "from keras.models import Model, Sequential\n",
        "from keras.layers import Dense, Embedding, LSTM\n",
        "from keras.layers import Input, Flatten, Dropout, Activation, BatchNormalization\n",
        "from keras.layers import Conv1D, MaxPooling1D, AveragePooling1D\n",
        "from keras.preprocessing import sequence\n",
        "from keras.preprocessing.sequence import pad_sequences\n",
        "from keras.preprocessing.text import Tokenizer\n",
        "from keras.utils import np_utils\n",
        "from tensorflow.keras.utils import to_categorical\n",
        "\n",
        "## Sklearn\n",
        "from sklearn.metrics import confusion_matrix\n",
        "from sklearn.preprocessing import LabelEncoder\n",
        "\n",
        "## Rest\n",
        "from scipy.fftpack import fft\n",
        "from scipy import signal\n",
        "from scipy.io import wavfile\n",
        "from tqdm import tqdm\n",
        "\n",
        "input_duration=3\n",
        "# % pylab inline"
      ],
      "execution_count": 3,
      "outputs": [
        {
          "output_type": "display_data",
          "data": {
            "text/html": [
              "        <script type=\"text/javascript\">\n",
              "        window.PlotlyConfig = {MathJaxConfig: 'local'};\n",
              "        if (window.MathJax) {MathJax.Hub.Config({SVG: {font: \"STIX-Web\"}});}\n",
              "        if (typeof require !== 'undefined') {\n",
              "        require.undef(\"plotly\");\n",
              "        requirejs.config({\n",
              "            paths: {\n",
              "                'plotly': ['https://cdn.plot.ly/plotly-2.8.3.min']\n",
              "            }\n",
              "        });\n",
              "        require(['plotly'], function(Plotly) {\n",
              "            window._Plotly = Plotly;\n",
              "        });\n",
              "        }\n",
              "        </script>\n",
              "        "
            ]
          },
          "metadata": {}
        }
      ]
    },
    {
      "cell_type": "code",
      "source": [
        "# # Saving joblib files to not load them again with the loop above\n",
        "\n",
        "# import joblib\n",
        "\n",
        "# X_name = 'x.joblib'\n",
        "# y_name = 'y.joblib'\n",
        "# save_dir = '/content/drive/My Drive/graduation project/audio/paper_code/features'\n",
        "\n",
        "# savedX = joblib.dump(X, os.path.join(save_dir, X_name))\n",
        "# savedy = joblib.dump(y, os.path.join(save_dir, y_name))"
      ],
      "metadata": {
        "id": "UCzic8rlDcuk"
      },
      "execution_count": 4,
      "outputs": []
    },
    {
      "cell_type": "code",
      "source": [
        "# # Loading saved models\n",
        "import joblib\n",
        "X = joblib.load('/content/drive/My Drive/graduation project/audio/paper_code/features/x.joblib')\n",
        "y = joblib.load('/content/drive/My Drive/graduation project/audio/paper_code/features/y.joblib')"
      ],
      "metadata": {
        "id": "Q35CN6zDrzg1"
      },
      "execution_count": 5,
      "outputs": []
    },
    {
      "cell_type": "code",
      "source": [
        "X.shape"
      ],
      "metadata": {
        "colab": {
          "base_uri": "https://localhost:8080/"
        },
        "id": "7PSTurzjCo5K",
        "outputId": "a1a7f612-d930-408e-e969-e953a75cfdfe"
      },
      "execution_count": 6,
      "outputs": [
        {
          "output_type": "execute_result",
          "data": {
            "text/plain": [
              "(2068, 40)"
            ]
          },
          "metadata": {},
          "execution_count": 6
        }
      ]
    },
    {
      "cell_type": "code",
      "source": [
        "from sklearn.model_selection import train_test_split\n",
        "\n",
        "X_train, X_test, y_train, y_test = train_test_split(X,y, test_size=0.1 ,shuffle = True\n",
        "                                                    , random_state=42)\n",
        "X_train , X_valid, y_train, y_valid = train_test_split(X_train,y_train, test_size=0.1112305212 , shuffle = True \n",
        "                                                       , random_state=42)"
      ],
      "metadata": {
        "id": "Ai4Fy5cPCiq1"
      },
      "execution_count": 7,
      "outputs": []
    },
    {
      "cell_type": "code",
      "source": [
        "import numpy as np\n",
        "x_traincnn = np.expand_dims(X_train, axis=2)\n",
        "x_testcnn = np.expand_dims(X_test, axis=2)\n",
        "X_valid= np.expand_dims(X_valid, axis=2)"
      ],
      "metadata": {
        "id": "tp1Fm5K3CEXu"
      },
      "execution_count": 8,
      "outputs": []
    },
    {
      "cell_type": "code",
      "source": [
        "x_traincnn.shape, x_testcnn.shape , X_valid.shape\n",
        "#1861"
      ],
      "metadata": {
        "id": "RI0MxoIPBws5",
        "colab": {
          "base_uri": "https://localhost:8080/"
        },
        "outputId": "6ef589b5-6a10-47a8-f421-1c5b9b8d9994"
      },
      "execution_count": 9,
      "outputs": [
        {
          "output_type": "execute_result",
          "data": {
            "text/plain": [
              "((1654, 40, 1), (207, 40, 1), (207, 40, 1))"
            ]
          },
          "metadata": {},
          "execution_count": 9
        }
      ]
    },
    {
      "cell_type": "code",
      "source": [
        "!pip install tensorflow"
      ],
      "metadata": {
        "colab": {
          "base_uri": "https://localhost:8080/"
        },
        "id": "oALhiMUd9G2Y",
        "outputId": "2a9a5d74-cf7b-4e9c-f35c-877214b0a927"
      },
      "execution_count": 10,
      "outputs": [
        {
          "output_type": "stream",
          "name": "stdout",
          "text": [
            "Looking in indexes: https://pypi.org/simple, https://us-python.pkg.dev/colab-wheels/public/simple/\n",
            "Requirement already satisfied: tensorflow in /usr/local/lib/python3.7/dist-packages (2.8.2+zzzcolab20220527125636)\n",
            "Requirement already satisfied: termcolor>=1.1.0 in /usr/local/lib/python3.7/dist-packages (from tensorflow) (1.1.0)\n",
            "Requirement already satisfied: google-pasta>=0.1.1 in /usr/local/lib/python3.7/dist-packages (from tensorflow) (0.2.0)\n",
            "Requirement already satisfied: keras<2.9,>=2.8.0rc0 in /usr/local/lib/python3.7/dist-packages (from tensorflow) (2.8.0)\n",
            "Requirement already satisfied: grpcio<2.0,>=1.24.3 in /usr/local/lib/python3.7/dist-packages (from tensorflow) (1.46.3)\n",
            "Requirement already satisfied: setuptools in /usr/local/lib/python3.7/dist-packages (from tensorflow) (57.4.0)\n",
            "Requirement already satisfied: six>=1.12.0 in /usr/local/lib/python3.7/dist-packages (from tensorflow) (1.15.0)\n",
            "Requirement already satisfied: opt-einsum>=2.3.2 in /usr/local/lib/python3.7/dist-packages (from tensorflow) (3.3.0)\n",
            "Requirement already satisfied: gast>=0.2.1 in /usr/local/lib/python3.7/dist-packages (from tensorflow) (0.5.3)\n",
            "Requirement already satisfied: protobuf<3.20,>=3.9.2 in /usr/local/lib/python3.7/dist-packages (from tensorflow) (3.17.3)\n",
            "Requirement already satisfied: wrapt>=1.11.0 in /usr/local/lib/python3.7/dist-packages (from tensorflow) (1.14.1)\n",
            "Requirement already satisfied: tensorflow-estimator<2.9,>=2.8 in /usr/local/lib/python3.7/dist-packages (from tensorflow) (2.8.0)\n",
            "Requirement already satisfied: tensorboard<2.9,>=2.8 in /usr/local/lib/python3.7/dist-packages (from tensorflow) (2.8.0)\n",
            "Requirement already satisfied: tensorflow-io-gcs-filesystem>=0.23.1 in /usr/local/lib/python3.7/dist-packages (from tensorflow) (0.26.0)\n",
            "Requirement already satisfied: absl-py>=0.4.0 in /usr/local/lib/python3.7/dist-packages (from tensorflow) (1.0.0)\n",
            "Requirement already satisfied: keras-preprocessing>=1.1.1 in /usr/local/lib/python3.7/dist-packages (from tensorflow) (1.1.2)\n",
            "Requirement already satisfied: typing-extensions>=3.6.6 in /usr/local/lib/python3.7/dist-packages (from tensorflow) (4.2.0)\n",
            "Requirement already satisfied: libclang>=9.0.1 in /usr/local/lib/python3.7/dist-packages (from tensorflow) (14.0.1)\n",
            "Requirement already satisfied: astunparse>=1.6.0 in /usr/local/lib/python3.7/dist-packages (from tensorflow) (1.6.3)\n",
            "Requirement already satisfied: h5py>=2.9.0 in /usr/local/lib/python3.7/dist-packages (from tensorflow) (3.1.0)\n",
            "Requirement already satisfied: flatbuffers>=1.12 in /usr/local/lib/python3.7/dist-packages (from tensorflow) (2.0)\n",
            "Requirement already satisfied: numpy>=1.20 in /usr/local/lib/python3.7/dist-packages (from tensorflow) (1.21.6)\n",
            "Requirement already satisfied: wheel<1.0,>=0.23.0 in /usr/local/lib/python3.7/dist-packages (from astunparse>=1.6.0->tensorflow) (0.37.1)\n",
            "Requirement already satisfied: cached-property in /usr/local/lib/python3.7/dist-packages (from h5py>=2.9.0->tensorflow) (1.5.2)\n",
            "Requirement already satisfied: google-auth<3,>=1.6.3 in /usr/local/lib/python3.7/dist-packages (from tensorboard<2.9,>=2.8->tensorflow) (1.35.0)\n",
            "Requirement already satisfied: google-auth-oauthlib<0.5,>=0.4.1 in /usr/local/lib/python3.7/dist-packages (from tensorboard<2.9,>=2.8->tensorflow) (0.4.6)\n",
            "Requirement already satisfied: markdown>=2.6.8 in /usr/local/lib/python3.7/dist-packages (from tensorboard<2.9,>=2.8->tensorflow) (3.3.7)\n",
            "Requirement already satisfied: requests<3,>=2.21.0 in /usr/local/lib/python3.7/dist-packages (from tensorboard<2.9,>=2.8->tensorflow) (2.23.0)\n",
            "Requirement already satisfied: werkzeug>=0.11.15 in /usr/local/lib/python3.7/dist-packages (from tensorboard<2.9,>=2.8->tensorflow) (1.0.1)\n",
            "Requirement already satisfied: tensorboard-data-server<0.7.0,>=0.6.0 in /usr/local/lib/python3.7/dist-packages (from tensorboard<2.9,>=2.8->tensorflow) (0.6.1)\n",
            "Requirement already satisfied: tensorboard-plugin-wit>=1.6.0 in /usr/local/lib/python3.7/dist-packages (from tensorboard<2.9,>=2.8->tensorflow) (1.8.1)\n",
            "Requirement already satisfied: pyasn1-modules>=0.2.1 in /usr/local/lib/python3.7/dist-packages (from google-auth<3,>=1.6.3->tensorboard<2.9,>=2.8->tensorflow) (0.2.8)\n",
            "Requirement already satisfied: rsa<5,>=3.1.4 in /usr/local/lib/python3.7/dist-packages (from google-auth<3,>=1.6.3->tensorboard<2.9,>=2.8->tensorflow) (4.8)\n",
            "Requirement already satisfied: cachetools<5.0,>=2.0.0 in /usr/local/lib/python3.7/dist-packages (from google-auth<3,>=1.6.3->tensorboard<2.9,>=2.8->tensorflow) (4.2.4)\n",
            "Requirement already satisfied: requests-oauthlib>=0.7.0 in /usr/local/lib/python3.7/dist-packages (from google-auth-oauthlib<0.5,>=0.4.1->tensorboard<2.9,>=2.8->tensorflow) (1.3.1)\n",
            "Requirement already satisfied: importlib-metadata>=4.4 in /usr/local/lib/python3.7/dist-packages (from markdown>=2.6.8->tensorboard<2.9,>=2.8->tensorflow) (4.11.4)\n",
            "Requirement already satisfied: zipp>=0.5 in /usr/local/lib/python3.7/dist-packages (from importlib-metadata>=4.4->markdown>=2.6.8->tensorboard<2.9,>=2.8->tensorflow) (3.8.0)\n",
            "Requirement already satisfied: pyasn1<0.5.0,>=0.4.6 in /usr/local/lib/python3.7/dist-packages (from pyasn1-modules>=0.2.1->google-auth<3,>=1.6.3->tensorboard<2.9,>=2.8->tensorflow) (0.4.8)\n",
            "Requirement already satisfied: urllib3!=1.25.0,!=1.25.1,<1.26,>=1.21.1 in /usr/local/lib/python3.7/dist-packages (from requests<3,>=2.21.0->tensorboard<2.9,>=2.8->tensorflow) (1.24.3)\n",
            "Requirement already satisfied: chardet<4,>=3.0.2 in /usr/local/lib/python3.7/dist-packages (from requests<3,>=2.21.0->tensorboard<2.9,>=2.8->tensorflow) (3.0.4)\n",
            "Requirement already satisfied: certifi>=2017.4.17 in /usr/local/lib/python3.7/dist-packages (from requests<3,>=2.21.0->tensorboard<2.9,>=2.8->tensorflow) (2022.5.18.1)\n",
            "Requirement already satisfied: idna<3,>=2.5 in /usr/local/lib/python3.7/dist-packages (from requests<3,>=2.21.0->tensorboard<2.9,>=2.8->tensorflow) (2.10)\n",
            "Requirement already satisfied: oauthlib>=3.0.0 in /usr/local/lib/python3.7/dist-packages (from requests-oauthlib>=0.7.0->google-auth-oauthlib<0.5,>=0.4.1->tensorboard<2.9,>=2.8->tensorflow) (3.2.0)\n"
          ]
        }
      ]
    },
    {
      "cell_type": "code",
      "source": [
        "import keras\n",
        "import numpy as np\n",
        "import matplotlib.pyplot as plt\n",
        "import tensorflow as tf\n",
        "from keras.preprocessing import sequence\n",
        "from keras.models import Sequential\n",
        "from keras.layers import Dense, Embedding\n",
        "from tensorflow.keras.utils import to_categorical\n",
        "from keras.layers import Input, Flatten, Dropout, Activation\n",
        "from keras.layers import Conv1D, MaxPooling1D\n",
        "from keras.models import Model\n",
        "from keras.callbacks import ModelCheckpoint\n",
        "from tensorflow.keras import optimizers\n",
        "\n",
        "model = Sequential()\n",
        "\n",
        "model.add(Conv1D(128, 8,padding='same', #classifier.add(Convolution2D(64, (3, 3), padding = 'same', input_shape = (128, 128, 3), activation = 'relu'))\n",
        "                 input_shape=(40,1)))\n",
        "model.add(Activation('relu'))\n",
        "model.add(Dropout(0.1))\n",
        "model.add(MaxPooling1D(pool_size=(5)))\n",
        "\n",
        "\n",
        "model.add(Conv1D(256,8,padding='same',))\n",
        "model.add(Activation('relu'))\n",
        "model.add(Dropout(0.3))\n",
        "model.add(MaxPooling1D(pool_size=(5)))\n",
        "\n",
        "#model.add(MaxPooling1D(pool_size=(5)))\n",
        "\n",
        "model.add(Flatten())\n",
        "\n",
        "\n",
        "\n",
        "model.add(Dense(6))\n",
        "model.add(Activation('softmax'))\n",
        "\n",
        "\n",
        "opt = tf.keras.optimizers.RMSprop(lr=0.0002 , decay=0.0)\n",
        "#opt = tf.keras.optimizers.Adam(lr=0.0002 , decay=0.0)\n",
        "#opt = tf.keras.optimizers.RMSprop(lr=0.0001, rho=0.9, epsilon=1e-07, decay=0.0)\n",
        "#opt = tf.keras.optimizers.SGD(lr=0.001, momentum=0.0, decay=0.0, nesterov=False)"
      ],
      "metadata": {
        "id": "g74fXWVAC4Cr",
        "colab": {
          "base_uri": "https://localhost:8080/"
        },
        "outputId": "6dfa2277-afa6-470a-864c-6e73aedc9cac"
      },
      "execution_count": 11,
      "outputs": [
        {
          "output_type": "stream",
          "name": "stderr",
          "text": [
            "/usr/local/lib/python3.7/dist-packages/keras/optimizer_v2/rmsprop.py:130: UserWarning:\n",
            "\n",
            "The `lr` argument is deprecated, use `learning_rate` instead.\n",
            "\n"
          ]
        }
      ]
    },
    {
      "cell_type": "code",
      "source": [
        "model.summary()"
      ],
      "metadata": {
        "colab": {
          "base_uri": "https://localhost:8080/"
        },
        "id": "H6ukOxAGC_I4",
        "outputId": "d33f4d65-9009-435e-e168-f5722e5bbde0"
      },
      "execution_count": 12,
      "outputs": [
        {
          "output_type": "stream",
          "name": "stdout",
          "text": [
            "Model: \"sequential\"\n",
            "_________________________________________________________________\n",
            " Layer (type)                Output Shape              Param #   \n",
            "=================================================================\n",
            " conv1d (Conv1D)             (None, 40, 128)           1152      \n",
            "                                                                 \n",
            " activation (Activation)     (None, 40, 128)           0         \n",
            "                                                                 \n",
            " dropout (Dropout)           (None, 40, 128)           0         \n",
            "                                                                 \n",
            " max_pooling1d (MaxPooling1D  (None, 8, 128)           0         \n",
            " )                                                               \n",
            "                                                                 \n",
            " conv1d_1 (Conv1D)           (None, 8, 256)            262400    \n",
            "                                                                 \n",
            " activation_1 (Activation)   (None, 8, 256)            0         \n",
            "                                                                 \n",
            " dropout_1 (Dropout)         (None, 8, 256)            0         \n",
            "                                                                 \n",
            " max_pooling1d_1 (MaxPooling  (None, 1, 256)           0         \n",
            " 1D)                                                             \n",
            "                                                                 \n",
            " flatten (Flatten)           (None, 256)               0         \n",
            "                                                                 \n",
            " dense (Dense)               (None, 6)                 1542      \n",
            "                                                                 \n",
            " activation_2 (Activation)   (None, 6)                 0         \n",
            "                                                                 \n",
            "=================================================================\n",
            "Total params: 265,094\n",
            "Trainable params: 265,094\n",
            "Non-trainable params: 0\n",
            "_________________________________________________________________\n"
          ]
        }
      ]
    },
    {
      "cell_type": "code",
      "source": [
        "model.compile(loss='sparse_categorical_crossentropy',\n",
        "              optimizer=opt,\n",
        "              metrics=['accuracy'])"
      ],
      "metadata": {
        "id": "AbMlLNk4DCBM"
      },
      "execution_count": 13,
      "outputs": []
    },
    {
      "cell_type": "code",
      "source": [
        "# Create an Instance of Early Stopping Callback.\n",
        "early_stopping_callback = EarlyStopping(monitor = 'val_loss', patience = 25, mode = 'min', restore_best_weights = True)\n",
        "\n",
        "cnnhistory=model.fit(x_traincnn, y_train, batch_size=16, epochs=500 , shuffle = True, \n",
        "                     validation_data=(X_valid, y_valid) , callbacks = [early_stopping_callback])"
      ],
      "metadata": {
        "colab": {
          "base_uri": "https://localhost:8080/"
        },
        "id": "RI1v2AuADFhy",
        "outputId": "a34d3b65-dde8-44f0-cd96-e5ad83e3fb2a"
      },
      "execution_count": 14,
      "outputs": [
        {
          "output_type": "stream",
          "name": "stdout",
          "text": [
            "Epoch 1/500\n",
            "104/104 [==============================] - 5s 13ms/step - loss: 10.0994 - accuracy: 0.1826 - val_loss: 5.1255 - val_accuracy: 0.2560\n",
            "Epoch 2/500\n",
            "104/104 [==============================] - 1s 8ms/step - loss: 7.2007 - accuracy: 0.2340 - val_loss: 5.5409 - val_accuracy: 0.1643\n",
            "Epoch 3/500\n",
            "104/104 [==============================] - 1s 7ms/step - loss: 6.1006 - accuracy: 0.2237 - val_loss: 3.1527 - val_accuracy: 0.2754\n",
            "Epoch 4/500\n",
            "104/104 [==============================] - 1s 7ms/step - loss: 5.1948 - accuracy: 0.2376 - val_loss: 5.9383 - val_accuracy: 0.1884\n",
            "Epoch 5/500\n",
            "104/104 [==============================] - 1s 7ms/step - loss: 4.5632 - accuracy: 0.2570 - val_loss: 2.8580 - val_accuracy: 0.2512\n",
            "Epoch 6/500\n",
            "104/104 [==============================] - 1s 8ms/step - loss: 4.1100 - accuracy: 0.2576 - val_loss: 2.7451 - val_accuracy: 0.1932\n",
            "Epoch 7/500\n",
            "104/104 [==============================] - 1s 8ms/step - loss: 3.6154 - accuracy: 0.2896 - val_loss: 3.4432 - val_accuracy: 0.2754\n",
            "Epoch 8/500\n",
            "104/104 [==============================] - 1s 9ms/step - loss: 3.4436 - accuracy: 0.2963 - val_loss: 4.7563 - val_accuracy: 0.1739\n",
            "Epoch 9/500\n",
            "104/104 [==============================] - 1s 9ms/step - loss: 3.2322 - accuracy: 0.2914 - val_loss: 2.0064 - val_accuracy: 0.3237\n",
            "Epoch 10/500\n",
            "104/104 [==============================] - 1s 7ms/step - loss: 3.0916 - accuracy: 0.3198 - val_loss: 2.3791 - val_accuracy: 0.2802\n",
            "Epoch 11/500\n",
            "104/104 [==============================] - 1s 9ms/step - loss: 2.9921 - accuracy: 0.3077 - val_loss: 1.6578 - val_accuracy: 0.3382\n",
            "Epoch 12/500\n",
            "104/104 [==============================] - 1s 10ms/step - loss: 2.6951 - accuracy: 0.3579 - val_loss: 1.7894 - val_accuracy: 0.2802\n",
            "Epoch 13/500\n",
            "104/104 [==============================] - 1s 8ms/step - loss: 2.6518 - accuracy: 0.3561 - val_loss: 2.0759 - val_accuracy: 0.3478\n",
            "Epoch 14/500\n",
            "104/104 [==============================] - 1s 10ms/step - loss: 2.5374 - accuracy: 0.3706 - val_loss: 1.9400 - val_accuracy: 0.3092\n",
            "Epoch 15/500\n",
            "104/104 [==============================] - 1s 8ms/step - loss: 2.4508 - accuracy: 0.3501 - val_loss: 2.0404 - val_accuracy: 0.3575\n",
            "Epoch 16/500\n",
            "104/104 [==============================] - 1s 9ms/step - loss: 2.2472 - accuracy: 0.3888 - val_loss: 1.4177 - val_accuracy: 0.4589\n",
            "Epoch 17/500\n",
            "104/104 [==============================] - 1s 9ms/step - loss: 2.2077 - accuracy: 0.3924 - val_loss: 2.3594 - val_accuracy: 0.2609\n",
            "Epoch 18/500\n",
            "104/104 [==============================] - 1s 9ms/step - loss: 2.1149 - accuracy: 0.3978 - val_loss: 2.1819 - val_accuracy: 0.3527\n",
            "Epoch 19/500\n",
            "104/104 [==============================] - 1s 9ms/step - loss: 1.9386 - accuracy: 0.4299 - val_loss: 1.7441 - val_accuracy: 0.3671\n",
            "Epoch 20/500\n",
            "104/104 [==============================] - 1s 8ms/step - loss: 1.8463 - accuracy: 0.4250 - val_loss: 1.8794 - val_accuracy: 0.4300\n",
            "Epoch 21/500\n",
            "104/104 [==============================] - 1s 10ms/step - loss: 1.8630 - accuracy: 0.4262 - val_loss: 1.5145 - val_accuracy: 0.4686\n",
            "Epoch 22/500\n",
            "104/104 [==============================] - 1s 9ms/step - loss: 1.7894 - accuracy: 0.4516 - val_loss: 1.3198 - val_accuracy: 0.4686\n",
            "Epoch 23/500\n",
            "104/104 [==============================] - 1s 8ms/step - loss: 1.6822 - accuracy: 0.4571 - val_loss: 1.2433 - val_accuracy: 0.5266\n",
            "Epoch 24/500\n",
            "104/104 [==============================] - 1s 10ms/step - loss: 1.6043 - accuracy: 0.4770 - val_loss: 1.5481 - val_accuracy: 0.4300\n",
            "Epoch 25/500\n",
            "104/104 [==============================] - 1s 8ms/step - loss: 1.5497 - accuracy: 0.4825 - val_loss: 1.8914 - val_accuracy: 0.4251\n",
            "Epoch 26/500\n",
            "104/104 [==============================] - 1s 8ms/step - loss: 1.5025 - accuracy: 0.4915 - val_loss: 1.1242 - val_accuracy: 0.5700\n",
            "Epoch 27/500\n",
            "104/104 [==============================] - 1s 7ms/step - loss: 1.4500 - accuracy: 0.5085 - val_loss: 1.2029 - val_accuracy: 0.5459\n",
            "Epoch 28/500\n",
            "104/104 [==============================] - 1s 8ms/step - loss: 1.4278 - accuracy: 0.5242 - val_loss: 1.2622 - val_accuracy: 0.5411\n",
            "Epoch 29/500\n",
            "104/104 [==============================] - 1s 7ms/step - loss: 1.3182 - accuracy: 0.5254 - val_loss: 1.1422 - val_accuracy: 0.5266\n",
            "Epoch 30/500\n",
            "104/104 [==============================] - 1s 5ms/step - loss: 1.3292 - accuracy: 0.5314 - val_loss: 1.1050 - val_accuracy: 0.5797\n",
            "Epoch 31/500\n",
            "104/104 [==============================] - 1s 5ms/step - loss: 1.2183 - accuracy: 0.5659 - val_loss: 1.2522 - val_accuracy: 0.5314\n",
            "Epoch 32/500\n",
            "104/104 [==============================] - 0s 5ms/step - loss: 1.2436 - accuracy: 0.5447 - val_loss: 1.1572 - val_accuracy: 0.5797\n",
            "Epoch 33/500\n",
            "104/104 [==============================] - 0s 5ms/step - loss: 1.1645 - accuracy: 0.5804 - val_loss: 1.0971 - val_accuracy: 0.5894\n",
            "Epoch 34/500\n",
            "104/104 [==============================] - 1s 5ms/step - loss: 1.1260 - accuracy: 0.5834 - val_loss: 1.2165 - val_accuracy: 0.5314\n",
            "Epoch 35/500\n",
            "104/104 [==============================] - 1s 5ms/step - loss: 1.1347 - accuracy: 0.5701 - val_loss: 1.0282 - val_accuracy: 0.5894\n",
            "Epoch 36/500\n",
            "104/104 [==============================] - 0s 5ms/step - loss: 1.1160 - accuracy: 0.5998 - val_loss: 1.0947 - val_accuracy: 0.5217\n",
            "Epoch 37/500\n",
            "104/104 [==============================] - 1s 5ms/step - loss: 1.0649 - accuracy: 0.6034 - val_loss: 0.9191 - val_accuracy: 0.6522\n",
            "Epoch 38/500\n",
            "104/104 [==============================] - 0s 5ms/step - loss: 1.0483 - accuracy: 0.6082 - val_loss: 1.0245 - val_accuracy: 0.6039\n",
            "Epoch 39/500\n",
            "104/104 [==============================] - 1s 5ms/step - loss: 1.0035 - accuracy: 0.6100 - val_loss: 1.0399 - val_accuracy: 0.6377\n",
            "Epoch 40/500\n",
            "104/104 [==============================] - 1s 5ms/step - loss: 1.0299 - accuracy: 0.6119 - val_loss: 0.9292 - val_accuracy: 0.6618\n",
            "Epoch 41/500\n",
            "104/104 [==============================] - 0s 5ms/step - loss: 0.9743 - accuracy: 0.6336 - val_loss: 0.9301 - val_accuracy: 0.6618\n",
            "Epoch 42/500\n",
            "104/104 [==============================] - 0s 5ms/step - loss: 0.9667 - accuracy: 0.6233 - val_loss: 0.9230 - val_accuracy: 0.6280\n",
            "Epoch 43/500\n",
            "104/104 [==============================] - 1s 5ms/step - loss: 0.9773 - accuracy: 0.6276 - val_loss: 0.9256 - val_accuracy: 0.6184\n",
            "Epoch 44/500\n",
            "104/104 [==============================] - 0s 5ms/step - loss: 0.9268 - accuracy: 0.6493 - val_loss: 1.1806 - val_accuracy: 0.5362\n",
            "Epoch 45/500\n",
            "104/104 [==============================] - 1s 5ms/step - loss: 0.9425 - accuracy: 0.6566 - val_loss: 1.0008 - val_accuracy: 0.6473\n",
            "Epoch 46/500\n",
            "104/104 [==============================] - 1s 5ms/step - loss: 0.8650 - accuracy: 0.6784 - val_loss: 0.9205 - val_accuracy: 0.6329\n",
            "Epoch 47/500\n",
            "104/104 [==============================] - 0s 5ms/step - loss: 0.8806 - accuracy: 0.6820 - val_loss: 1.0862 - val_accuracy: 0.5604\n",
            "Epoch 48/500\n",
            "104/104 [==============================] - 1s 5ms/step - loss: 0.8516 - accuracy: 0.6808 - val_loss: 1.1942 - val_accuracy: 0.4976\n",
            "Epoch 49/500\n",
            "104/104 [==============================] - 1s 5ms/step - loss: 0.8269 - accuracy: 0.6790 - val_loss: 0.9494 - val_accuracy: 0.5749\n",
            "Epoch 50/500\n",
            "104/104 [==============================] - 0s 5ms/step - loss: 0.8279 - accuracy: 0.6814 - val_loss: 0.8116 - val_accuracy: 0.6957\n",
            "Epoch 51/500\n",
            "104/104 [==============================] - 1s 5ms/step - loss: 0.8454 - accuracy: 0.6759 - val_loss: 0.7839 - val_accuracy: 0.7391\n",
            "Epoch 52/500\n",
            "104/104 [==============================] - 1s 5ms/step - loss: 0.7878 - accuracy: 0.7019 - val_loss: 0.9489 - val_accuracy: 0.6522\n",
            "Epoch 53/500\n",
            "104/104 [==============================] - 1s 5ms/step - loss: 0.7948 - accuracy: 0.6983 - val_loss: 0.8030 - val_accuracy: 0.7150\n",
            "Epoch 54/500\n",
            "104/104 [==============================] - 1s 6ms/step - loss: 0.7830 - accuracy: 0.6953 - val_loss: 0.9428 - val_accuracy: 0.6087\n",
            "Epoch 55/500\n",
            "104/104 [==============================] - 0s 5ms/step - loss: 0.7577 - accuracy: 0.7068 - val_loss: 0.8161 - val_accuracy: 0.7005\n",
            "Epoch 56/500\n",
            "104/104 [==============================] - 1s 5ms/step - loss: 0.7802 - accuracy: 0.6959 - val_loss: 0.7443 - val_accuracy: 0.7391\n",
            "Epoch 57/500\n",
            "104/104 [==============================] - 1s 5ms/step - loss: 0.7461 - accuracy: 0.7189 - val_loss: 0.8636 - val_accuracy: 0.6860\n",
            "Epoch 58/500\n",
            "104/104 [==============================] - 0s 4ms/step - loss: 0.7374 - accuracy: 0.7104 - val_loss: 0.8042 - val_accuracy: 0.6957\n",
            "Epoch 59/500\n",
            "104/104 [==============================] - 1s 5ms/step - loss: 0.7410 - accuracy: 0.7104 - val_loss: 0.9518 - val_accuracy: 0.6618\n",
            "Epoch 60/500\n",
            "104/104 [==============================] - 1s 5ms/step - loss: 0.7297 - accuracy: 0.7183 - val_loss: 0.7776 - val_accuracy: 0.7053\n",
            "Epoch 61/500\n",
            "104/104 [==============================] - 0s 4ms/step - loss: 0.7146 - accuracy: 0.7310 - val_loss: 0.8199 - val_accuracy: 0.6522\n",
            "Epoch 62/500\n",
            "104/104 [==============================] - 1s 5ms/step - loss: 0.7121 - accuracy: 0.7358 - val_loss: 0.7029 - val_accuracy: 0.7536\n",
            "Epoch 63/500\n",
            "104/104 [==============================] - 0s 5ms/step - loss: 0.6871 - accuracy: 0.7334 - val_loss: 0.7617 - val_accuracy: 0.7101\n",
            "Epoch 64/500\n",
            "104/104 [==============================] - 0s 5ms/step - loss: 0.6713 - accuracy: 0.7412 - val_loss: 0.7452 - val_accuracy: 0.7101\n",
            "Epoch 65/500\n",
            "104/104 [==============================] - 1s 5ms/step - loss: 0.6721 - accuracy: 0.7539 - val_loss: 0.8883 - val_accuracy: 0.6425\n",
            "Epoch 66/500\n",
            "104/104 [==============================] - 1s 5ms/step - loss: 0.6524 - accuracy: 0.7551 - val_loss: 0.7252 - val_accuracy: 0.7101\n",
            "Epoch 67/500\n",
            "104/104 [==============================] - 0s 5ms/step - loss: 0.6454 - accuracy: 0.7545 - val_loss: 0.7737 - val_accuracy: 0.6763\n",
            "Epoch 68/500\n",
            "104/104 [==============================] - 1s 5ms/step - loss: 0.6445 - accuracy: 0.7527 - val_loss: 0.7748 - val_accuracy: 0.7150\n",
            "Epoch 69/500\n",
            "104/104 [==============================] - 0s 5ms/step - loss: 0.6256 - accuracy: 0.7551 - val_loss: 0.6499 - val_accuracy: 0.7826\n",
            "Epoch 70/500\n",
            "104/104 [==============================] - 0s 5ms/step - loss: 0.6421 - accuracy: 0.7624 - val_loss: 0.6810 - val_accuracy: 0.7536\n",
            "Epoch 71/500\n",
            "104/104 [==============================] - 1s 5ms/step - loss: 0.6350 - accuracy: 0.7551 - val_loss: 0.7464 - val_accuracy: 0.7343\n",
            "Epoch 72/500\n",
            "104/104 [==============================] - 0s 5ms/step - loss: 0.6187 - accuracy: 0.7582 - val_loss: 0.7347 - val_accuracy: 0.7246\n",
            "Epoch 73/500\n",
            "104/104 [==============================] - 1s 5ms/step - loss: 0.6175 - accuracy: 0.7588 - val_loss: 0.6819 - val_accuracy: 0.7585\n",
            "Epoch 74/500\n",
            "104/104 [==============================] - 1s 5ms/step - loss: 0.6128 - accuracy: 0.7648 - val_loss: 0.9055 - val_accuracy: 0.6522\n",
            "Epoch 75/500\n",
            "104/104 [==============================] - 0s 5ms/step - loss: 0.5930 - accuracy: 0.7696 - val_loss: 0.8657 - val_accuracy: 0.7053\n",
            "Epoch 76/500\n",
            "104/104 [==============================] - 1s 5ms/step - loss: 0.5687 - accuracy: 0.7751 - val_loss: 0.7170 - val_accuracy: 0.7391\n",
            "Epoch 77/500\n",
            "104/104 [==============================] - 1s 5ms/step - loss: 0.5764 - accuracy: 0.7811 - val_loss: 0.7496 - val_accuracy: 0.7440\n",
            "Epoch 78/500\n",
            "104/104 [==============================] - 0s 5ms/step - loss: 0.5528 - accuracy: 0.7896 - val_loss: 0.7493 - val_accuracy: 0.6860\n",
            "Epoch 79/500\n",
            "104/104 [==============================] - 1s 5ms/step - loss: 0.5691 - accuracy: 0.7884 - val_loss: 0.7295 - val_accuracy: 0.7536\n",
            "Epoch 80/500\n",
            "104/104 [==============================] - 1s 5ms/step - loss: 0.5552 - accuracy: 0.7872 - val_loss: 0.7476 - val_accuracy: 0.7150\n",
            "Epoch 81/500\n",
            "104/104 [==============================] - 0s 5ms/step - loss: 0.5681 - accuracy: 0.7745 - val_loss: 0.9076 - val_accuracy: 0.6715\n",
            "Epoch 82/500\n",
            "104/104 [==============================] - 1s 5ms/step - loss: 0.5444 - accuracy: 0.7944 - val_loss: 0.6997 - val_accuracy: 0.7488\n",
            "Epoch 83/500\n",
            "104/104 [==============================] - 1s 5ms/step - loss: 0.5261 - accuracy: 0.7932 - val_loss: 0.7480 - val_accuracy: 0.7150\n",
            "Epoch 84/500\n",
            "104/104 [==============================] - 0s 5ms/step - loss: 0.5275 - accuracy: 0.8096 - val_loss: 0.7727 - val_accuracy: 0.7246\n",
            "Epoch 85/500\n",
            "104/104 [==============================] - 1s 5ms/step - loss: 0.5178 - accuracy: 0.8029 - val_loss: 0.7689 - val_accuracy: 0.7198\n",
            "Epoch 86/500\n",
            "104/104 [==============================] - 0s 5ms/step - loss: 0.5095 - accuracy: 0.7956 - val_loss: 0.7285 - val_accuracy: 0.7295\n",
            "Epoch 87/500\n",
            "104/104 [==============================] - 1s 5ms/step - loss: 0.4970 - accuracy: 0.8216 - val_loss: 0.6244 - val_accuracy: 0.7681\n",
            "Epoch 88/500\n",
            "104/104 [==============================] - 1s 5ms/step - loss: 0.4942 - accuracy: 0.8077 - val_loss: 0.7068 - val_accuracy: 0.7343\n",
            "Epoch 89/500\n",
            "104/104 [==============================] - 0s 5ms/step - loss: 0.4954 - accuracy: 0.8114 - val_loss: 0.6694 - val_accuracy: 0.7536\n",
            "Epoch 90/500\n",
            "104/104 [==============================] - 1s 5ms/step - loss: 0.4757 - accuracy: 0.8156 - val_loss: 0.8345 - val_accuracy: 0.6763\n",
            "Epoch 91/500\n",
            "104/104 [==============================] - 1s 5ms/step - loss: 0.4921 - accuracy: 0.8222 - val_loss: 0.7038 - val_accuracy: 0.7585\n",
            "Epoch 92/500\n",
            "104/104 [==============================] - 1s 5ms/step - loss: 0.4683 - accuracy: 0.8289 - val_loss: 0.6868 - val_accuracy: 0.7681\n",
            "Epoch 93/500\n",
            "104/104 [==============================] - 1s 5ms/step - loss: 0.4829 - accuracy: 0.8271 - val_loss: 0.7410 - val_accuracy: 0.7343\n",
            "Epoch 94/500\n",
            "104/104 [==============================] - 1s 5ms/step - loss: 0.4661 - accuracy: 0.8198 - val_loss: 0.6190 - val_accuracy: 0.7681\n",
            "Epoch 95/500\n",
            "104/104 [==============================] - 1s 5ms/step - loss: 0.4768 - accuracy: 0.8259 - val_loss: 0.6651 - val_accuracy: 0.7295\n",
            "Epoch 96/500\n",
            "104/104 [==============================] - 1s 6ms/step - loss: 0.4460 - accuracy: 0.8295 - val_loss: 0.6385 - val_accuracy: 0.7536\n",
            "Epoch 97/500\n",
            "104/104 [==============================] - 0s 4ms/step - loss: 0.4365 - accuracy: 0.8307 - val_loss: 0.8186 - val_accuracy: 0.6908\n",
            "Epoch 98/500\n",
            "104/104 [==============================] - 1s 5ms/step - loss: 0.4238 - accuracy: 0.8452 - val_loss: 0.7092 - val_accuracy: 0.7440\n",
            "Epoch 99/500\n",
            "104/104 [==============================] - 1s 5ms/step - loss: 0.4411 - accuracy: 0.8277 - val_loss: 0.6216 - val_accuracy: 0.7681\n",
            "Epoch 100/500\n",
            "104/104 [==============================] - 0s 5ms/step - loss: 0.4266 - accuracy: 0.8319 - val_loss: 0.6760 - val_accuracy: 0.7585\n",
            "Epoch 101/500\n",
            "104/104 [==============================] - 1s 5ms/step - loss: 0.4253 - accuracy: 0.8362 - val_loss: 0.6861 - val_accuracy: 0.7633\n",
            "Epoch 102/500\n",
            "104/104 [==============================] - 0s 5ms/step - loss: 0.4374 - accuracy: 0.8265 - val_loss: 0.6410 - val_accuracy: 0.7826\n",
            "Epoch 103/500\n",
            "104/104 [==============================] - 0s 4ms/step - loss: 0.4154 - accuracy: 0.8446 - val_loss: 0.6391 - val_accuracy: 0.7681\n",
            "Epoch 104/500\n",
            "104/104 [==============================] - 1s 5ms/step - loss: 0.4069 - accuracy: 0.8458 - val_loss: 0.5754 - val_accuracy: 0.7923\n",
            "Epoch 105/500\n",
            "104/104 [==============================] - 1s 5ms/step - loss: 0.4025 - accuracy: 0.8501 - val_loss: 0.6328 - val_accuracy: 0.7391\n",
            "Epoch 106/500\n",
            "104/104 [==============================] - 0s 5ms/step - loss: 0.4018 - accuracy: 0.8555 - val_loss: 0.6395 - val_accuracy: 0.7536\n",
            "Epoch 107/500\n",
            "104/104 [==============================] - 1s 6ms/step - loss: 0.4043 - accuracy: 0.8428 - val_loss: 0.7115 - val_accuracy: 0.7488\n",
            "Epoch 108/500\n",
            "104/104 [==============================] - 0s 5ms/step - loss: 0.3964 - accuracy: 0.8476 - val_loss: 0.6885 - val_accuracy: 0.7536\n",
            "Epoch 109/500\n",
            "104/104 [==============================] - 1s 5ms/step - loss: 0.3878 - accuracy: 0.8567 - val_loss: 0.7668 - val_accuracy: 0.7536\n",
            "Epoch 110/500\n",
            "104/104 [==============================] - 1s 5ms/step - loss: 0.3853 - accuracy: 0.8537 - val_loss: 0.6949 - val_accuracy: 0.7440\n",
            "Epoch 111/500\n",
            "104/104 [==============================] - 0s 5ms/step - loss: 0.3818 - accuracy: 0.8482 - val_loss: 0.5707 - val_accuracy: 0.8068\n",
            "Epoch 112/500\n",
            "104/104 [==============================] - 1s 5ms/step - loss: 0.3767 - accuracy: 0.8579 - val_loss: 0.5953 - val_accuracy: 0.7778\n",
            "Epoch 113/500\n",
            "104/104 [==============================] - 1s 5ms/step - loss: 0.3698 - accuracy: 0.8736 - val_loss: 0.6881 - val_accuracy: 0.7874\n",
            "Epoch 114/500\n",
            "104/104 [==============================] - 0s 5ms/step - loss: 0.3761 - accuracy: 0.8615 - val_loss: 0.7021 - val_accuracy: 0.7488\n",
            "Epoch 115/500\n",
            "104/104 [==============================] - 1s 6ms/step - loss: 0.3724 - accuracy: 0.8567 - val_loss: 0.6484 - val_accuracy: 0.7681\n",
            "Epoch 116/500\n",
            "104/104 [==============================] - 0s 5ms/step - loss: 0.3706 - accuracy: 0.8573 - val_loss: 0.6293 - val_accuracy: 0.7874\n",
            "Epoch 117/500\n",
            "104/104 [==============================] - 1s 5ms/step - loss: 0.3856 - accuracy: 0.8652 - val_loss: 0.5696 - val_accuracy: 0.7923\n",
            "Epoch 118/500\n",
            "104/104 [==============================] - 1s 5ms/step - loss: 0.3533 - accuracy: 0.8724 - val_loss: 0.7099 - val_accuracy: 0.7488\n",
            "Epoch 119/500\n",
            "104/104 [==============================] - 0s 5ms/step - loss: 0.3658 - accuracy: 0.8694 - val_loss: 0.5728 - val_accuracy: 0.8068\n",
            "Epoch 120/500\n",
            "104/104 [==============================] - 1s 5ms/step - loss: 0.3275 - accuracy: 0.8755 - val_loss: 0.5911 - val_accuracy: 0.7681\n",
            "Epoch 121/500\n",
            "104/104 [==============================] - 0s 5ms/step - loss: 0.3659 - accuracy: 0.8489 - val_loss: 0.5708 - val_accuracy: 0.7971\n",
            "Epoch 122/500\n",
            "104/104 [==============================] - 1s 5ms/step - loss: 0.3337 - accuracy: 0.8694 - val_loss: 0.6410 - val_accuracy: 0.7729\n",
            "Epoch 123/500\n",
            "104/104 [==============================] - 1s 6ms/step - loss: 0.3452 - accuracy: 0.8688 - val_loss: 0.8138 - val_accuracy: 0.7101\n",
            "Epoch 124/500\n",
            "104/104 [==============================] - 1s 5ms/step - loss: 0.3368 - accuracy: 0.8748 - val_loss: 0.6795 - val_accuracy: 0.7391\n",
            "Epoch 125/500\n",
            "104/104 [==============================] - 1s 5ms/step - loss: 0.3298 - accuracy: 0.8803 - val_loss: 0.6350 - val_accuracy: 0.7536\n",
            "Epoch 126/500\n",
            "104/104 [==============================] - 1s 5ms/step - loss: 0.3206 - accuracy: 0.8755 - val_loss: 0.5986 - val_accuracy: 0.7633\n",
            "Epoch 127/500\n",
            "104/104 [==============================] - 0s 4ms/step - loss: 0.3287 - accuracy: 0.8730 - val_loss: 0.6710 - val_accuracy: 0.7536\n",
            "Epoch 128/500\n",
            "104/104 [==============================] - 1s 6ms/step - loss: 0.3345 - accuracy: 0.8736 - val_loss: 0.6567 - val_accuracy: 0.7778\n",
            "Epoch 129/500\n",
            "104/104 [==============================] - 1s 5ms/step - loss: 0.3338 - accuracy: 0.8803 - val_loss: 0.6154 - val_accuracy: 0.8019\n",
            "Epoch 130/500\n",
            "104/104 [==============================] - 1s 5ms/step - loss: 0.3145 - accuracy: 0.8791 - val_loss: 0.6971 - val_accuracy: 0.7778\n",
            "Epoch 131/500\n",
            "104/104 [==============================] - 1s 8ms/step - loss: 0.3025 - accuracy: 0.8894 - val_loss: 0.5246 - val_accuracy: 0.8116\n",
            "Epoch 132/500\n",
            "104/104 [==============================] - 1s 6ms/step - loss: 0.2900 - accuracy: 0.8906 - val_loss: 0.6423 - val_accuracy: 0.7681\n",
            "Epoch 133/500\n",
            "104/104 [==============================] - 1s 8ms/step - loss: 0.3062 - accuracy: 0.8863 - val_loss: 0.6975 - val_accuracy: 0.7778\n",
            "Epoch 134/500\n",
            "104/104 [==============================] - 1s 7ms/step - loss: 0.2875 - accuracy: 0.8972 - val_loss: 0.6065 - val_accuracy: 0.7585\n",
            "Epoch 135/500\n",
            "104/104 [==============================] - 1s 10ms/step - loss: 0.3047 - accuracy: 0.8827 - val_loss: 0.7394 - val_accuracy: 0.7343\n",
            "Epoch 136/500\n",
            "104/104 [==============================] - 1s 7ms/step - loss: 0.2952 - accuracy: 0.8948 - val_loss: 0.7631 - val_accuracy: 0.7246\n",
            "Epoch 137/500\n",
            "104/104 [==============================] - 1s 9ms/step - loss: 0.2823 - accuracy: 0.8900 - val_loss: 0.6788 - val_accuracy: 0.7826\n",
            "Epoch 138/500\n",
            "104/104 [==============================] - 1s 7ms/step - loss: 0.2828 - accuracy: 0.8960 - val_loss: 0.5732 - val_accuracy: 0.7971\n",
            "Epoch 139/500\n",
            "104/104 [==============================] - 1s 9ms/step - loss: 0.2790 - accuracy: 0.8984 - val_loss: 0.5595 - val_accuracy: 0.7826\n",
            "Epoch 140/500\n",
            "104/104 [==============================] - 1s 6ms/step - loss: 0.2960 - accuracy: 0.8875 - val_loss: 0.5543 - val_accuracy: 0.7729\n",
            "Epoch 141/500\n",
            "104/104 [==============================] - 0s 5ms/step - loss: 0.2657 - accuracy: 0.9015 - val_loss: 0.6292 - val_accuracy: 0.7971\n",
            "Epoch 142/500\n",
            "104/104 [==============================] - 1s 5ms/step - loss: 0.2834 - accuracy: 0.8918 - val_loss: 0.7141 - val_accuracy: 0.7633\n",
            "Epoch 143/500\n",
            "104/104 [==============================] - 1s 5ms/step - loss: 0.2819 - accuracy: 0.8942 - val_loss: 0.8070 - val_accuracy: 0.7343\n",
            "Epoch 144/500\n",
            "104/104 [==============================] - 0s 5ms/step - loss: 0.2805 - accuracy: 0.8851 - val_loss: 0.7424 - val_accuracy: 0.7246\n",
            "Epoch 145/500\n",
            "104/104 [==============================] - 1s 5ms/step - loss: 0.2672 - accuracy: 0.8954 - val_loss: 0.6470 - val_accuracy: 0.7585\n",
            "Epoch 146/500\n",
            "104/104 [==============================] - 0s 5ms/step - loss: 0.2312 - accuracy: 0.9123 - val_loss: 0.6345 - val_accuracy: 0.8068\n",
            "Epoch 147/500\n",
            "104/104 [==============================] - 1s 5ms/step - loss: 0.2727 - accuracy: 0.8942 - val_loss: 0.5144 - val_accuracy: 0.8116\n",
            "Epoch 148/500\n",
            "104/104 [==============================] - 1s 6ms/step - loss: 0.2543 - accuracy: 0.9051 - val_loss: 0.6217 - val_accuracy: 0.7681\n",
            "Epoch 149/500\n",
            "104/104 [==============================] - 1s 5ms/step - loss: 0.2686 - accuracy: 0.9008 - val_loss: 0.6081 - val_accuracy: 0.7874\n",
            "Epoch 150/500\n",
            "104/104 [==============================] - 0s 5ms/step - loss: 0.2439 - accuracy: 0.9105 - val_loss: 0.6497 - val_accuracy: 0.7633\n",
            "Epoch 151/500\n",
            "104/104 [==============================] - 1s 6ms/step - loss: 0.2570 - accuracy: 0.9045 - val_loss: 0.6662 - val_accuracy: 0.7729\n",
            "Epoch 152/500\n",
            "104/104 [==============================] - 1s 5ms/step - loss: 0.2774 - accuracy: 0.8960 - val_loss: 0.5052 - val_accuracy: 0.8019\n",
            "Epoch 153/500\n",
            "104/104 [==============================] - 1s 5ms/step - loss: 0.2513 - accuracy: 0.9069 - val_loss: 0.6567 - val_accuracy: 0.7633\n",
            "Epoch 154/500\n",
            "104/104 [==============================] - 1s 5ms/step - loss: 0.2510 - accuracy: 0.9135 - val_loss: 0.5953 - val_accuracy: 0.7923\n",
            "Epoch 155/500\n",
            "104/104 [==============================] - 1s 5ms/step - loss: 0.2408 - accuracy: 0.9135 - val_loss: 0.7216 - val_accuracy: 0.7440\n",
            "Epoch 156/500\n",
            "104/104 [==============================] - 1s 6ms/step - loss: 0.2403 - accuracy: 0.9117 - val_loss: 0.5737 - val_accuracy: 0.7971\n",
            "Epoch 157/500\n",
            "104/104 [==============================] - 1s 5ms/step - loss: 0.2434 - accuracy: 0.9160 - val_loss: 0.5496 - val_accuracy: 0.8116\n",
            "Epoch 158/500\n",
            "104/104 [==============================] - 1s 5ms/step - loss: 0.2408 - accuracy: 0.9172 - val_loss: 0.6218 - val_accuracy: 0.7923\n",
            "Epoch 159/500\n",
            "104/104 [==============================] - 1s 5ms/step - loss: 0.2263 - accuracy: 0.9178 - val_loss: 0.5373 - val_accuracy: 0.8019\n",
            "Epoch 160/500\n",
            "104/104 [==============================] - 1s 5ms/step - loss: 0.2333 - accuracy: 0.9160 - val_loss: 0.8632 - val_accuracy: 0.7295\n",
            "Epoch 161/500\n",
            "104/104 [==============================] - 1s 5ms/step - loss: 0.2236 - accuracy: 0.9202 - val_loss: 0.6001 - val_accuracy: 0.8019\n",
            "Epoch 162/500\n",
            "104/104 [==============================] - 1s 6ms/step - loss: 0.2238 - accuracy: 0.9184 - val_loss: 0.5056 - val_accuracy: 0.8068\n",
            "Epoch 163/500\n",
            "104/104 [==============================] - 0s 5ms/step - loss: 0.2188 - accuracy: 0.9244 - val_loss: 0.5337 - val_accuracy: 0.7923\n",
            "Epoch 164/500\n",
            "104/104 [==============================] - 1s 6ms/step - loss: 0.2362 - accuracy: 0.9196 - val_loss: 0.7177 - val_accuracy: 0.7633\n",
            "Epoch 165/500\n",
            "104/104 [==============================] - 1s 5ms/step - loss: 0.2215 - accuracy: 0.9226 - val_loss: 0.6666 - val_accuracy: 0.7536\n",
            "Epoch 166/500\n",
            "104/104 [==============================] - 0s 5ms/step - loss: 0.2171 - accuracy: 0.9196 - val_loss: 0.5134 - val_accuracy: 0.8019\n",
            "Epoch 167/500\n",
            "104/104 [==============================] - 1s 5ms/step - loss: 0.2132 - accuracy: 0.9226 - val_loss: 0.5817 - val_accuracy: 0.7923\n",
            "Epoch 168/500\n",
            "104/104 [==============================] - 0s 5ms/step - loss: 0.2300 - accuracy: 0.9135 - val_loss: 0.6738 - val_accuracy: 0.7440\n",
            "Epoch 169/500\n",
            "104/104 [==============================] - 1s 5ms/step - loss: 0.2138 - accuracy: 0.9268 - val_loss: 0.6355 - val_accuracy: 0.7923\n",
            "Epoch 170/500\n",
            "104/104 [==============================] - 1s 5ms/step - loss: 0.2112 - accuracy: 0.9305 - val_loss: 0.6598 - val_accuracy: 0.7488\n",
            "Epoch 171/500\n",
            "104/104 [==============================] - 1s 5ms/step - loss: 0.2036 - accuracy: 0.9214 - val_loss: 0.6032 - val_accuracy: 0.7681\n",
            "Epoch 172/500\n",
            "104/104 [==============================] - 1s 5ms/step - loss: 0.2099 - accuracy: 0.9256 - val_loss: 0.6036 - val_accuracy: 0.8019\n",
            "Epoch 173/500\n",
            "104/104 [==============================] - 1s 5ms/step - loss: 0.2037 - accuracy: 0.9250 - val_loss: 0.5623 - val_accuracy: 0.8261\n",
            "Epoch 174/500\n",
            "104/104 [==============================] - 1s 5ms/step - loss: 0.2084 - accuracy: 0.9232 - val_loss: 0.5527 - val_accuracy: 0.8164\n",
            "Epoch 175/500\n",
            "104/104 [==============================] - 1s 6ms/step - loss: 0.1993 - accuracy: 0.9268 - val_loss: 0.5433 - val_accuracy: 0.7874\n",
            "Epoch 176/500\n",
            "104/104 [==============================] - 0s 5ms/step - loss: 0.1922 - accuracy: 0.9268 - val_loss: 0.5403 - val_accuracy: 0.8164\n",
            "Epoch 177/500\n",
            "104/104 [==============================] - 1s 5ms/step - loss: 0.2005 - accuracy: 0.9287 - val_loss: 0.5619 - val_accuracy: 0.7971\n"
          ]
        }
      ]
    },
    {
      "cell_type": "code",
      "source": [
        "plt.plot(cnnhistory.history['loss'])\n",
        "plt.plot(cnnhistory.history['val_loss'])\n",
        "plt.title('model loss')\n",
        "plt.ylabel('loss')\n",
        "plt.xlabel('epoch')\n",
        "plt.legend(['train','test'], loc='upper left')\n",
        "plt.show()"
      ],
      "metadata": {
        "colab": {
          "base_uri": "https://localhost:8080/",
          "height": 295
        },
        "id": "oQYnuaCrDH_A",
        "outputId": "4b76e2c1-b33b-43fb-f5c7-70c1d6ab9d2a"
      },
      "execution_count": 15,
      "outputs": [
        {
          "output_type": "display_data",
          "data": {
            "text/plain": [
              "<Figure size 432x288 with 1 Axes>"
            ],
            "image/png": "[encoded data removed]"
          },
          "metadata": {
            "needs_background": "light"
          }
        }
      ]
    },
    {
      "cell_type": "code",
      "source": [
        "plt.plot(cnnhistory.history['accuracy'])\n",
        "plt.plot(cnnhistory.history['val_accuracy'])\n",
        "plt.title('model accuracy')\n",
        "plt.ylabel('accuracy')\n",
        "plt.xlabel('epoch')\n",
        "plt.legend(['train','test'], loc='upper left')\n",
        "plt.show()"
      ],
      "metadata": {
        "colab": {
          "base_uri": "https://localhost:8080/",
          "height": 295
        },
        "id": "IFkTuO8nDNdq",
        "outputId": "f6718abe-eb29-4527-a7ed-14fda17421a7"
      },
      "execution_count": 16,
      "outputs": [
        {
          "output_type": "display_data",
          "data": {
            "text/plain": [
              "<Figure size 432x288 with 1 Axes>"
            ],
            "image/png": "[encoded data removed]"
          },
          "metadata": {
            "needs_background": "light"
          }
        }
      ]
    },
    {
      "cell_type": "code",
      "source": [
        "predictions = model.predict(x_testcnn)"
      ],
      "metadata": {
        "id": "A2xtrN5wDQgY"
      },
      "execution_count": 17,
      "outputs": []
    },
    {
      "cell_type": "code",
      "source": [
        "predictions"
      ],
      "metadata": {
        "colab": {
          "base_uri": "https://localhost:8080/"
        },
        "id": "_f_ohjXKDUpY",
        "outputId": "79c5ed8b-5319-491f-d702-938f980e66cc"
      },
      "execution_count": 18,
      "outputs": [
        {
          "output_type": "execute_result",
          "data": {
            "text/plain": [
              "array([[5.0289381e-01, 2.0582285e-02, 2.3840822e-01, 1.7617278e-01,\n",
              "        4.1473649e-02, 2.0469293e-02],\n",
              "       [3.1888749e-06, 3.5862868e-07, 8.5877756e-11, 9.9224865e-01,\n",
              "        1.1791498e-07, 7.7477037e-03],\n",
              "       [7.8062281e-02, 2.0078203e-02, 2.0213511e-03, 8.8867426e-01,\n",
              "        8.4960304e-04, 1.0314432e-02],\n",
              "       ...,\n",
              "       [1.6623642e-05, 1.3145240e-09, 7.1692598e-06, 4.1752348e-05,\n",
              "        9.9881220e-01, 1.1222879e-03],\n",
              "       [9.0446425e-05, 5.8721405e-01, 3.8411948e-01, 3.0937867e-04,\n",
              "        1.6205447e-02, 1.2061168e-02],\n",
              "       [4.8167429e-05, 8.3423829e-06, 5.9621385e-03, 7.2847406e-04,\n",
              "        9.8889726e-01, 4.3556131e-03]], dtype=float32)"
            ]
          },
          "metadata": {},
          "execution_count": 18
        }
      ]
    },
    {
      "cell_type": "code",
      "source": [
        "y_test"
      ],
      "metadata": {
        "colab": {
          "base_uri": "https://localhost:8080/"
        },
        "id": "cmA2bFgsDW3D",
        "outputId": "b4d0f784-ad65-4532-b5ae-b13a4784bdfc"
      },
      "execution_count": 19,
      "outputs": [
        {
          "output_type": "execute_result",
          "data": {
            "text/plain": [
              "array([3, 3, 3, 0, 4, 4, 1, 2, 5, 0, 5, 3, 2, 2, 1, 4, 4, 5, 2, 4, 1, 2,\n",
              "       3, 5, 4, 2, 1, 2, 2, 2, 2, 5, 2, 5, 3, 1, 2, 0, 4, 5, 2, 3, 2, 2,\n",
              "       5, 2, 0, 1, 3, 4, 4, 5, 1, 1, 4, 4, 5, 1, 1, 1, 0, 1, 5, 0, 4, 1,\n",
              "       1, 0, 1, 4, 1, 0, 4, 1, 3, 1, 2, 2, 1, 2, 3, 0, 5, 3, 5, 5, 2, 4,\n",
              "       5, 1, 5, 1, 5, 3, 4, 1, 4, 1, 5, 4, 5, 1, 2, 1, 1, 5, 1, 3, 2, 5,\n",
              "       2, 1, 3, 5, 4, 4, 0, 0, 3, 1, 2, 2, 3, 5, 1, 5, 3, 4, 2, 2, 0, 2,\n",
              "       2, 5, 5, 0, 3, 3, 2, 2, 0, 3, 4, 0, 4, 2, 4, 5, 4, 1, 5, 3, 2, 2,\n",
              "       5, 4, 3, 3, 4, 3, 3, 4, 1, 5, 2, 3, 2, 2, 0, 2, 1, 3, 1, 2, 2, 5,\n",
              "       5, 1, 4, 2, 2, 1, 1, 3, 3, 5, 5, 2, 5, 1, 5, 0, 3, 3, 0, 5, 1, 4,\n",
              "       1, 4, 2, 5, 5, 1, 4, 2, 4])"
            ]
          },
          "metadata": {},
          "execution_count": 19
        }
      ]
    },
    {
      "cell_type": "code",
      "source": [
        "new_Ytest = y_test.astype(int)"
      ],
      "metadata": {
        "id": "0PHDKWJWDY3g"
      },
      "execution_count": 20,
      "outputs": []
    },
    {
      "cell_type": "code",
      "source": [
        "new_Ytest"
      ],
      "metadata": {
        "colab": {
          "base_uri": "https://localhost:8080/"
        },
        "id": "k68v2i-pDbZE",
        "outputId": "1407d558-4976-43c6-b1dc-97e12e316927"
      },
      "execution_count": 21,
      "outputs": [
        {
          "output_type": "execute_result",
          "data": {
            "text/plain": [
              "array([3, 3, 3, 0, 4, 4, 1, 2, 5, 0, 5, 3, 2, 2, 1, 4, 4, 5, 2, 4, 1, 2,\n",
              "       3, 5, 4, 2, 1, 2, 2, 2, 2, 5, 2, 5, 3, 1, 2, 0, 4, 5, 2, 3, 2, 2,\n",
              "       5, 2, 0, 1, 3, 4, 4, 5, 1, 1, 4, 4, 5, 1, 1, 1, 0, 1, 5, 0, 4, 1,\n",
              "       1, 0, 1, 4, 1, 0, 4, 1, 3, 1, 2, 2, 1, 2, 3, 0, 5, 3, 5, 5, 2, 4,\n",
              "       5, 1, 5, 1, 5, 3, 4, 1, 4, 1, 5, 4, 5, 1, 2, 1, 1, 5, 1, 3, 2, 5,\n",
              "       2, 1, 3, 5, 4, 4, 0, 0, 3, 1, 2, 2, 3, 5, 1, 5, 3, 4, 2, 2, 0, 2,\n",
              "       2, 5, 5, 0, 3, 3, 2, 2, 0, 3, 4, 0, 4, 2, 4, 5, 4, 1, 5, 3, 2, 2,\n",
              "       5, 4, 3, 3, 4, 3, 3, 4, 1, 5, 2, 3, 2, 2, 0, 2, 1, 3, 1, 2, 2, 5,\n",
              "       5, 1, 4, 2, 2, 1, 1, 3, 3, 5, 5, 2, 5, 1, 5, 0, 3, 3, 0, 5, 1, 4,\n",
              "       1, 4, 2, 5, 5, 1, 4, 2, 4])"
            ]
          },
          "metadata": {},
          "execution_count": 21
        }
      ]
    },
    {
      "cell_type": "code",
      "source": [
        "preds1=predictions.argmax(axis=1)\n",
        "preds1"
      ],
      "metadata": {
        "colab": {
          "base_uri": "https://localhost:8080/"
        },
        "id": "4_cAI39VFhtp",
        "outputId": "8bcbcd26-a357-497f-ceea-cee937c10c6e"
      },
      "execution_count": 22,
      "outputs": [
        {
          "output_type": "execute_result",
          "data": {
            "text/plain": [
              "array([0, 3, 3, 0, 4, 4, 1, 2, 5, 1, 5, 3, 1, 2, 1, 4, 4, 3, 3, 4, 0, 2,\n",
              "       3, 3, 4, 2, 1, 0, 4, 2, 2, 5, 2, 5, 3, 1, 2, 0, 4, 5, 2, 5, 2, 2,\n",
              "       3, 4, 1, 1, 3, 4, 4, 5, 1, 1, 4, 4, 5, 1, 1, 1, 0, 1, 5, 1, 4, 1,\n",
              "       1, 1, 1, 4, 0, 0, 4, 1, 5, 1, 2, 2, 1, 4, 1, 0, 5, 3, 5, 5, 2, 5,\n",
              "       3, 1, 5, 1, 5, 3, 4, 1, 4, 1, 5, 4, 5, 1, 2, 1, 1, 5, 1, 3, 2, 5,\n",
              "       5, 1, 3, 5, 4, 4, 3, 0, 3, 1, 1, 2, 1, 3, 0, 3, 3, 5, 2, 2, 0, 2,\n",
              "       2, 3, 5, 0, 3, 3, 2, 2, 0, 3, 4, 0, 4, 4, 4, 2, 4, 1, 5, 3, 2, 2,\n",
              "       5, 4, 3, 3, 5, 5, 3, 4, 1, 5, 2, 3, 2, 2, 0, 2, 1, 3, 1, 4, 4, 5,\n",
              "       5, 1, 4, 2, 4, 1, 1, 3, 3, 5, 5, 2, 5, 1, 4, 1, 3, 3, 1, 4, 1, 4,\n",
              "       1, 4, 3, 5, 5, 1, 4, 1, 4])"
            ]
          },
          "metadata": {},
          "execution_count": 22
        }
      ]
    },
    {
      "cell_type": "code",
      "source": [
        "abc = preds1.astype(int).flatten()"
      ],
      "metadata": {
        "id": "H4WEmM60NfQn"
      },
      "execution_count": 23,
      "outputs": []
    },
    {
      "cell_type": "code",
      "source": [
        "from sklearn.metrics import confusion_matrix\n",
        "c = confusion_matrix(new_Ytest, abc) \n",
        "c"
      ],
      "metadata": {
        "colab": {
          "base_uri": "https://localhost:8080/"
        },
        "id": "bKEBeEBlFjB8",
        "outputId": "04352123-eac8-443a-8d92-3dd5e9b4cfb0"
      },
      "execution_count": 24,
      "outputs": [
        {
          "output_type": "execute_result",
          "data": {
            "text/plain": [
              "array([[11,  6,  0,  1,  0,  0],\n",
              "       [ 3, 38,  0,  0,  0,  0],\n",
              "       [ 1,  3, 31,  2,  7,  1],\n",
              "       [ 1,  2,  0, 25,  0,  3],\n",
              "       [ 0,  0,  0,  0, 30,  3],\n",
              "       [ 0,  0,  1,  7,  2, 29]])"
            ]
          },
          "metadata": {},
          "execution_count": 24
        }
      ]
    },
    {
      "cell_type": "code",
      "source": [
        "y_test"
      ],
      "metadata": {
        "colab": {
          "base_uri": "https://localhost:8080/"
        },
        "id": "m4RjG7LWLSQx",
        "outputId": "7c4097f1-dc90-442a-ef97-518c7ad03465"
      },
      "execution_count": 25,
      "outputs": [
        {
          "output_type": "execute_result",
          "data": {
            "text/plain": [
              "array([3, 3, 3, 0, 4, 4, 1, 2, 5, 0, 5, 3, 2, 2, 1, 4, 4, 5, 2, 4, 1, 2,\n",
              "       3, 5, 4, 2, 1, 2, 2, 2, 2, 5, 2, 5, 3, 1, 2, 0, 4, 5, 2, 3, 2, 2,\n",
              "       5, 2, 0, 1, 3, 4, 4, 5, 1, 1, 4, 4, 5, 1, 1, 1, 0, 1, 5, 0, 4, 1,\n",
              "       1, 0, 1, 4, 1, 0, 4, 1, 3, 1, 2, 2, 1, 2, 3, 0, 5, 3, 5, 5, 2, 4,\n",
              "       5, 1, 5, 1, 5, 3, 4, 1, 4, 1, 5, 4, 5, 1, 2, 1, 1, 5, 1, 3, 2, 5,\n",
              "       2, 1, 3, 5, 4, 4, 0, 0, 3, 1, 2, 2, 3, 5, 1, 5, 3, 4, 2, 2, 0, 2,\n",
              "       2, 5, 5, 0, 3, 3, 2, 2, 0, 3, 4, 0, 4, 2, 4, 5, 4, 1, 5, 3, 2, 2,\n",
              "       5, 4, 3, 3, 4, 3, 3, 4, 1, 5, 2, 3, 2, 2, 0, 2, 1, 3, 1, 2, 2, 5,\n",
              "       5, 1, 4, 2, 2, 1, 1, 3, 3, 5, 5, 2, 5, 1, 5, 0, 3, 3, 0, 5, 1, 4,\n",
              "       1, 4, 2, 5, 5, 1, 4, 2, 4])"
            ]
          },
          "metadata": {},
          "execution_count": 25
        }
      ]
    },
    {
      "cell_type": "code",
      "source": [
        "loss, acc =model.evaluate(x_testcnn, y_test)\n",
        "print(\"Restored model, accuracy: {:5.2f}%\".format(100*acc))"
      ],
      "metadata": {
        "colab": {
          "base_uri": "https://localhost:8080/"
        },
        "id": "n3kzoqPkDqqS",
        "outputId": "ee665b50-6c0a-4290-c610-3722a1504922"
      },
      "execution_count": 26,
      "outputs": [
        {
          "output_type": "stream",
          "name": "stdout",
          "text": [
            "7/7 [==============================] - 0s 3ms/step - loss: 0.5328 - accuracy: 0.7923\n",
            "Restored model, accuracy: 79.23%\n"
          ]
        }
      ]
    },
    {
      "cell_type": "code",
      "source": [
        "loss, acc =model.evaluate(X_train, y_train)\n",
        "print(\"Restored model train, accuracy: {:5.2f}%\".format(100*acc))"
      ],
      "metadata": {
        "id": "fJDTGH_OUX0z",
        "colab": {
          "base_uri": "https://localhost:8080/"
        },
        "outputId": "76a87c75-7fd9-4f9c-fb53-0bd053ac8576"
      },
      "execution_count": 27,
      "outputs": [
        {
          "output_type": "stream",
          "name": "stdout",
          "text": [
            "52/52 [==============================] - 0s 4ms/step - loss: 0.1044 - accuracy: 0.9807\n",
            "Restored model train, accuracy: 98.07%\n"
          ]
        }
      ]
    },
    {
      "cell_type": "code",
      "source": [
        "from sklearn.metrics import classification_report, confusion_matrix,accuracy_score\n",
        "import seaborn as sn\n",
        "\n",
        "print(classification_report(new_Ytest,abc))\n",
        "\n",
        "acc = float(accuracy_score(new_Ytest,abc))*100\n",
        "print(\"----accuracy score %s ----\" % acc)\n",
        "\n",
        "cm = confusion_matrix(new_Ytest,abc)\n",
        "#df_cm = pd.DataFrame(cm)\n",
        "class_names = ['neutral','calm', 'happy','sad','angry', 'fearful' ]\n",
        "df_cm = pd.DataFrame(cm, index=class_names, columns=class_names,)\n",
        "sn.heatmap(df_cm, annot=True, fmt='')\n",
        "plt.show()"
      ],
      "metadata": {
        "colab": {
          "base_uri": "https://localhost:8080/",
          "height": 508
        },
        "id": "SfSC3El94LZg",
        "outputId": "69c452c2-9b1f-4a16-86cc-21227ea185a1"
      },
      "execution_count": 28,
      "outputs": [
        {
          "output_type": "stream",
          "name": "stdout",
          "text": [
            "              precision    recall  f1-score   support\n",
            "\n",
            "           0       0.69      0.61      0.65        18\n",
            "           1       0.78      0.93      0.84        41\n",
            "           2       0.97      0.69      0.81        45\n",
            "           3       0.71      0.81      0.76        31\n",
            "           4       0.77      0.91      0.83        33\n",
            "           5       0.81      0.74      0.77        39\n",
            "\n",
            "    accuracy                           0.79       207\n",
            "   macro avg       0.79      0.78      0.78       207\n",
            "weighted avg       0.81      0.79      0.79       207\n",
            "\n",
            "----accuracy score 79.22705314009661 ----\n"
          ]
        },
        {
          "output_type": "display_data",
          "data": {
            "text/plain": [
              "<Figure size 432x288 with 2 Axes>"
            ],
            "image/png": "[encoded data removed]"
          },
          "metadata": {
            "needs_background": "light"
          }
        }
      ]
    }
  ]
}