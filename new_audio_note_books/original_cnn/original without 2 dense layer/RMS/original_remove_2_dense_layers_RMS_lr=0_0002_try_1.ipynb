{
  "nbformat": 4,
  "nbformat_minor": 0,
  "metadata": {
    "colab": {
      "name": "original remove 2 dense layers RMS lr=0.0002 try 1.ipynb",
      "provenance": [],
      "collapsed_sections": []
    },
    "kernelspec": {
      "name": "python3",
      "display_name": "Python 3"
    },
    "language_info": {
      "name": "python"
    },
    "accelerator": "GPU"
  },
  "cells": [
    {
      "cell_type": "code",
      "execution_count": 1,
      "metadata": {
        "colab": {
          "base_uri": "https://localhost:8080/"
        },
        "id": "9SRCO-a_AlH5",
        "outputId": "61db6dbe-54ee-4d84-ba56-e052ac33ad04"
      },
      "outputs": [
        {
          "output_type": "stream",
          "name": "stdout",
          "text": [
            "Drive already mounted at /content/drive; to attempt to forcibly remount, call drive.mount(\"/content/drive\", force_remount=True).\n"
          ]
        }
      ],
      "source": [
        "from google.colab import drive\n",
        "drive.mount('/content/drive')"
      ]
    },
    {
      "cell_type": "code",
      "source": [
        "!pip install librosa"
      ],
      "metadata": {
        "colab": {
          "base_uri": "https://localhost:8080/"
        },
        "id": "5Lo4mUwG9RMd",
        "outputId": "8ed50370-ed37-47ce-a0c0-e205bdf02359"
      },
      "execution_count": 2,
      "outputs": [
        {
          "output_type": "stream",
          "name": "stdout",
          "text": [
            "Looking in indexes: https://pypi.org/simple, https://us-python.pkg.dev/colab-wheels/public/simple/\n",
            "Requirement already satisfied: librosa in /usr/local/lib/python3.7/dist-packages (0.8.1)\n",
            "Requirement already satisfied: scipy>=1.0.0 in /usr/local/lib/python3.7/dist-packages (from librosa) (1.4.1)\n",
            "Requirement already satisfied: decorator>=3.0.0 in /usr/local/lib/python3.7/dist-packages (from librosa) (4.4.2)\n",
            "Requirement already satisfied: packaging>=20.0 in /usr/local/lib/python3.7/dist-packages (from librosa) (21.3)\n",
            "Requirement already satisfied: joblib>=0.14 in /usr/local/lib/python3.7/dist-packages (from librosa) (1.1.0)\n",
            "Requirement already satisfied: pooch>=1.0 in /usr/local/lib/python3.7/dist-packages (from librosa) (1.6.0)\n",
            "Requirement already satisfied: numpy>=1.15.0 in /usr/local/lib/python3.7/dist-packages (from librosa) (1.21.6)\n",
            "Requirement already satisfied: audioread>=2.0.0 in /usr/local/lib/python3.7/dist-packages (from librosa) (2.1.9)\n",
            "Requirement already satisfied: soundfile>=0.10.2 in /usr/local/lib/python3.7/dist-packages (from librosa) (0.10.3.post1)\n",
            "Requirement already satisfied: resampy>=0.2.2 in /usr/local/lib/python3.7/dist-packages (from librosa) (0.2.2)\n",
            "Requirement already satisfied: scikit-learn!=0.19.0,>=0.14.0 in /usr/local/lib/python3.7/dist-packages (from librosa) (1.0.2)\n",
            "Requirement already satisfied: numba>=0.43.0 in /usr/local/lib/python3.7/dist-packages (from librosa) (0.51.2)\n",
            "Requirement already satisfied: llvmlite<0.35,>=0.34.0.dev0 in /usr/local/lib/python3.7/dist-packages (from numba>=0.43.0->librosa) (0.34.0)\n",
            "Requirement already satisfied: setuptools in /usr/local/lib/python3.7/dist-packages (from numba>=0.43.0->librosa) (57.4.0)\n",
            "Requirement already satisfied: pyparsing!=3.0.5,>=2.0.2 in /usr/local/lib/python3.7/dist-packages (from packaging>=20.0->librosa) (3.0.9)\n",
            "Requirement already satisfied: appdirs>=1.3.0 in /usr/local/lib/python3.7/dist-packages (from pooch>=1.0->librosa) (1.4.4)\n",
            "Requirement already satisfied: requests>=2.19.0 in /usr/local/lib/python3.7/dist-packages (from pooch>=1.0->librosa) (2.23.0)\n",
            "Requirement already satisfied: urllib3!=1.25.0,!=1.25.1,<1.26,>=1.21.1 in /usr/local/lib/python3.7/dist-packages (from requests>=2.19.0->pooch>=1.0->librosa) (1.24.3)\n",
            "Requirement already satisfied: chardet<4,>=3.0.2 in /usr/local/lib/python3.7/dist-packages (from requests>=2.19.0->pooch>=1.0->librosa) (3.0.4)\n",
            "Requirement already satisfied: certifi>=2017.4.17 in /usr/local/lib/python3.7/dist-packages (from requests>=2.19.0->pooch>=1.0->librosa) (2022.5.18.1)\n",
            "Requirement already satisfied: idna<3,>=2.5 in /usr/local/lib/python3.7/dist-packages (from requests>=2.19.0->pooch>=1.0->librosa) (2.10)\n",
            "Requirement already satisfied: six>=1.3 in /usr/local/lib/python3.7/dist-packages (from resampy>=0.2.2->librosa) (1.15.0)\n",
            "Requirement already satisfied: threadpoolctl>=2.0.0 in /usr/local/lib/python3.7/dist-packages (from scikit-learn!=0.19.0,>=0.14.0->librosa) (3.1.0)\n",
            "Requirement already satisfied: cffi>=1.0 in /usr/local/lib/python3.7/dist-packages (from soundfile>=0.10.2->librosa) (1.15.0)\n",
            "Requirement already satisfied: pycparser in /usr/local/lib/python3.7/dist-packages (from cffi>=1.0->soundfile>=0.10.2->librosa) (2.21)\n"
          ]
        }
      ]
    },
    {
      "cell_type": "code",
      "metadata": {
        "id": "HJjcbxwy46bG",
        "colab": {
          "base_uri": "https://localhost:8080/",
          "height": 17
        },
        "outputId": "4ea5a24f-6461-42be-996f-ca3f16167e9d"
      },
      "source": [
        "# Orignial Notebook: https://github.com/MITESHPUTHRANNEU/Speech-Emotion-Analyzer/blob/master/final_results_gender_test.ipynb\n",
        "# This notebook author: Reza Chu\n",
        "# Last Editing Date: 31st May 2019\n",
        "\n",
        "## Python\n",
        "import os\n",
        "import random\n",
        "import sys\n",
        "\n",
        "import IPython\n",
        "from IPython.display import Audio\n",
        "from IPython.display import Image\n",
        "import matplotlib.pyplot as plt\n",
        "\n",
        "## Package\n",
        "import glob \n",
        "import keras\n",
        "import IPython.display as ipd\n",
        "import librosa\n",
        "import librosa.display\n",
        "import matplotlib.pyplot as plt\n",
        "import numpy as np\n",
        "import pandas as pd\n",
        "import plotly.graph_objs as go\n",
        "import plotly.offline as py\n",
        "import plotly.tools as tls\n",
        "import seaborn as sns\n",
        "import scipy.io.wavfile\n",
        "import tensorflow as tf\n",
        "py.init_notebook_mode(connected=True)\n",
        "\n",
        "## Keras\n",
        "from keras import regularizers\n",
        "from keras.callbacks import ModelCheckpoint, LearningRateScheduler, EarlyStopping\n",
        "from keras.callbacks import  History, ReduceLROnPlateau, CSVLogger\n",
        "from keras.models import Model, Sequential\n",
        "from keras.layers import Dense, Embedding, LSTM\n",
        "from keras.layers import Input, Flatten, Dropout, Activation, BatchNormalization\n",
        "from keras.layers import Conv1D, MaxPooling1D, AveragePooling1D\n",
        "from keras.preprocessing import sequence\n",
        "from keras.preprocessing.sequence import pad_sequences\n",
        "from keras.preprocessing.text import Tokenizer\n",
        "from keras.utils import np_utils\n",
        "from tensorflow.keras.utils import to_categorical\n",
        "\n",
        "## Sklearn\n",
        "from sklearn.metrics import confusion_matrix\n",
        "from sklearn.preprocessing import LabelEncoder\n",
        "\n",
        "## Rest\n",
        "from scipy.fftpack import fft\n",
        "from scipy import signal\n",
        "from scipy.io import wavfile\n",
        "from tqdm import tqdm\n",
        "\n",
        "input_duration=3\n",
        "# % pylab inline"
      ],
      "execution_count": 3,
      "outputs": [
        {
          "output_type": "display_data",
          "data": {
            "text/html": [
              "        <script type=\"text/javascript\">\n",
              "        window.PlotlyConfig = {MathJaxConfig: 'local'};\n",
              "        if (window.MathJax) {MathJax.Hub.Config({SVG: {font: \"STIX-Web\"}});}\n",
              "        if (typeof require !== 'undefined') {\n",
              "        require.undef(\"plotly\");\n",
              "        requirejs.config({\n",
              "            paths: {\n",
              "                'plotly': ['https://cdn.plot.ly/plotly-2.8.3.min']\n",
              "            }\n",
              "        });\n",
              "        require(['plotly'], function(Plotly) {\n",
              "            window._Plotly = Plotly;\n",
              "        });\n",
              "        }\n",
              "        </script>\n",
              "        "
            ]
          },
          "metadata": {}
        }
      ]
    },
    {
      "cell_type": "code",
      "source": [
        "# # Saving joblib files to not load them again with the loop above\n",
        "\n",
        "# import joblib\n",
        "\n",
        "# X_name = 'x.joblib'\n",
        "# y_name = 'y.joblib'\n",
        "# save_dir = '/content/drive/My Drive/graduation project/audio/paper_code/features'\n",
        "\n",
        "# savedX = joblib.dump(X, os.path.join(save_dir, X_name))\n",
        "# savedy = joblib.dump(y, os.path.join(save_dir, y_name))"
      ],
      "metadata": {
        "id": "UCzic8rlDcuk"
      },
      "execution_count": 4,
      "outputs": []
    },
    {
      "cell_type": "code",
      "source": [
        "# # Loading saved models\n",
        "import joblib\n",
        "X = joblib.load('/content/drive/My Drive/graduation project/audio/paper_code/features/x.joblib')\n",
        "y = joblib.load('/content/drive/My Drive/graduation project/audio/paper_code/features/y.joblib')"
      ],
      "metadata": {
        "id": "Q35CN6zDrzg1"
      },
      "execution_count": 5,
      "outputs": []
    },
    {
      "cell_type": "code",
      "source": [
        "X.shape"
      ],
      "metadata": {
        "colab": {
          "base_uri": "https://localhost:8080/"
        },
        "id": "7PSTurzjCo5K",
        "outputId": "a9d1708d-7844-4cb5-faa3-d60b8abaa615"
      },
      "execution_count": 6,
      "outputs": [
        {
          "output_type": "execute_result",
          "data": {
            "text/plain": [
              "(2068, 40)"
            ]
          },
          "metadata": {},
          "execution_count": 6
        }
      ]
    },
    {
      "cell_type": "code",
      "source": [
        "from sklearn.model_selection import train_test_split\n",
        "\n",
        "X_train, X_test, y_train, y_test = train_test_split(X,y, test_size=0.1 ,shuffle = True\n",
        "                                                    , random_state=42)\n",
        "X_train , X_valid, y_train, y_valid = train_test_split(X_train,y_train, test_size=0.1112305212 , shuffle = True \n",
        "                                                       , random_state=42)"
      ],
      "metadata": {
        "id": "Ai4Fy5cPCiq1"
      },
      "execution_count": 7,
      "outputs": []
    },
    {
      "cell_type": "code",
      "source": [
        "import numpy as np\n",
        "x_traincnn = np.expand_dims(X_train, axis=2)\n",
        "x_testcnn = np.expand_dims(X_test, axis=2)\n",
        "X_valid= np.expand_dims(X_valid, axis=2)"
      ],
      "metadata": {
        "id": "tp1Fm5K3CEXu"
      },
      "execution_count": 8,
      "outputs": []
    },
    {
      "cell_type": "code",
      "source": [
        "x_traincnn.shape, x_testcnn.shape , X_valid.shape\n",
        "#1861"
      ],
      "metadata": {
        "id": "RI0MxoIPBws5",
        "colab": {
          "base_uri": "https://localhost:8080/"
        },
        "outputId": "aa25de12-ff0f-4498-af40-927986cacb47"
      },
      "execution_count": 9,
      "outputs": [
        {
          "output_type": "execute_result",
          "data": {
            "text/plain": [
              "((1654, 40, 1), (207, 40, 1), (207, 40, 1))"
            ]
          },
          "metadata": {},
          "execution_count": 9
        }
      ]
    },
    {
      "cell_type": "code",
      "source": [
        "!pip install tensorflow"
      ],
      "metadata": {
        "colab": {
          "base_uri": "https://localhost:8080/"
        },
        "id": "oALhiMUd9G2Y",
        "outputId": "bdb5c110-c568-4c01-cad4-f594b93b137f"
      },
      "execution_count": 10,
      "outputs": [
        {
          "output_type": "stream",
          "name": "stdout",
          "text": [
            "Looking in indexes: https://pypi.org/simple, https://us-python.pkg.dev/colab-wheels/public/simple/\n",
            "Requirement already satisfied: tensorflow in /usr/local/lib/python3.7/dist-packages (2.8.2+zzzcolab20220527125636)\n",
            "Requirement already satisfied: setuptools in /usr/local/lib/python3.7/dist-packages (from tensorflow) (57.4.0)\n",
            "Requirement already satisfied: tensorflow-estimator<2.9,>=2.8 in /usr/local/lib/python3.7/dist-packages (from tensorflow) (2.8.0)\n",
            "Requirement already satisfied: grpcio<2.0,>=1.24.3 in /usr/local/lib/python3.7/dist-packages (from tensorflow) (1.46.3)\n",
            "Requirement already satisfied: gast>=0.2.1 in /usr/local/lib/python3.7/dist-packages (from tensorflow) (0.5.3)\n",
            "Requirement already satisfied: opt-einsum>=2.3.2 in /usr/local/lib/python3.7/dist-packages (from tensorflow) (3.3.0)\n",
            "Requirement already satisfied: absl-py>=0.4.0 in /usr/local/lib/python3.7/dist-packages (from tensorflow) (1.0.0)\n",
            "Requirement already satisfied: typing-extensions>=3.6.6 in /usr/local/lib/python3.7/dist-packages (from tensorflow) (4.2.0)\n",
            "Requirement already satisfied: tensorboard<2.9,>=2.8 in /usr/local/lib/python3.7/dist-packages (from tensorflow) (2.8.0)\n",
            "Requirement already satisfied: termcolor>=1.1.0 in /usr/local/lib/python3.7/dist-packages (from tensorflow) (1.1.0)\n",
            "Requirement already satisfied: libclang>=9.0.1 in /usr/local/lib/python3.7/dist-packages (from tensorflow) (14.0.1)\n",
            "Requirement already satisfied: protobuf<3.20,>=3.9.2 in /usr/local/lib/python3.7/dist-packages (from tensorflow) (3.17.3)\n",
            "Requirement already satisfied: google-pasta>=0.1.1 in /usr/local/lib/python3.7/dist-packages (from tensorflow) (0.2.0)\n",
            "Requirement already satisfied: flatbuffers>=1.12 in /usr/local/lib/python3.7/dist-packages (from tensorflow) (2.0)\n",
            "Requirement already satisfied: wrapt>=1.11.0 in /usr/local/lib/python3.7/dist-packages (from tensorflow) (1.14.1)\n",
            "Requirement already satisfied: keras<2.9,>=2.8.0rc0 in /usr/local/lib/python3.7/dist-packages (from tensorflow) (2.8.0)\n",
            "Requirement already satisfied: h5py>=2.9.0 in /usr/local/lib/python3.7/dist-packages (from tensorflow) (3.1.0)\n",
            "Requirement already satisfied: six>=1.12.0 in /usr/local/lib/python3.7/dist-packages (from tensorflow) (1.15.0)\n",
            "Requirement already satisfied: keras-preprocessing>=1.1.1 in /usr/local/lib/python3.7/dist-packages (from tensorflow) (1.1.2)\n",
            "Requirement already satisfied: tensorflow-io-gcs-filesystem>=0.23.1 in /usr/local/lib/python3.7/dist-packages (from tensorflow) (0.26.0)\n",
            "Requirement already satisfied: astunparse>=1.6.0 in /usr/local/lib/python3.7/dist-packages (from tensorflow) (1.6.3)\n",
            "Requirement already satisfied: numpy>=1.20 in /usr/local/lib/python3.7/dist-packages (from tensorflow) (1.21.6)\n",
            "Requirement already satisfied: wheel<1.0,>=0.23.0 in /usr/local/lib/python3.7/dist-packages (from astunparse>=1.6.0->tensorflow) (0.37.1)\n",
            "Requirement already satisfied: cached-property in /usr/local/lib/python3.7/dist-packages (from h5py>=2.9.0->tensorflow) (1.5.2)\n",
            "Requirement already satisfied: markdown>=2.6.8 in /usr/local/lib/python3.7/dist-packages (from tensorboard<2.9,>=2.8->tensorflow) (3.3.7)\n",
            "Requirement already satisfied: tensorboard-data-server<0.7.0,>=0.6.0 in /usr/local/lib/python3.7/dist-packages (from tensorboard<2.9,>=2.8->tensorflow) (0.6.1)\n",
            "Requirement already satisfied: google-auth-oauthlib<0.5,>=0.4.1 in /usr/local/lib/python3.7/dist-packages (from tensorboard<2.9,>=2.8->tensorflow) (0.4.6)\n",
            "Requirement already satisfied: google-auth<3,>=1.6.3 in /usr/local/lib/python3.7/dist-packages (from tensorboard<2.9,>=2.8->tensorflow) (1.35.0)\n",
            "Requirement already satisfied: werkzeug>=0.11.15 in /usr/local/lib/python3.7/dist-packages (from tensorboard<2.9,>=2.8->tensorflow) (1.0.1)\n",
            "Requirement already satisfied: requests<3,>=2.21.0 in /usr/local/lib/python3.7/dist-packages (from tensorboard<2.9,>=2.8->tensorflow) (2.23.0)\n",
            "Requirement already satisfied: tensorboard-plugin-wit>=1.6.0 in /usr/local/lib/python3.7/dist-packages (from tensorboard<2.9,>=2.8->tensorflow) (1.8.1)\n",
            "Requirement already satisfied: cachetools<5.0,>=2.0.0 in /usr/local/lib/python3.7/dist-packages (from google-auth<3,>=1.6.3->tensorboard<2.9,>=2.8->tensorflow) (4.2.4)\n",
            "Requirement already satisfied: rsa<5,>=3.1.4 in /usr/local/lib/python3.7/dist-packages (from google-auth<3,>=1.6.3->tensorboard<2.9,>=2.8->tensorflow) (4.8)\n",
            "Requirement already satisfied: pyasn1-modules>=0.2.1 in /usr/local/lib/python3.7/dist-packages (from google-auth<3,>=1.6.3->tensorboard<2.9,>=2.8->tensorflow) (0.2.8)\n",
            "Requirement already satisfied: requests-oauthlib>=0.7.0 in /usr/local/lib/python3.7/dist-packages (from google-auth-oauthlib<0.5,>=0.4.1->tensorboard<2.9,>=2.8->tensorflow) (1.3.1)\n",
            "Requirement already satisfied: importlib-metadata>=4.4 in /usr/local/lib/python3.7/dist-packages (from markdown>=2.6.8->tensorboard<2.9,>=2.8->tensorflow) (4.11.4)\n",
            "Requirement already satisfied: zipp>=0.5 in /usr/local/lib/python3.7/dist-packages (from importlib-metadata>=4.4->markdown>=2.6.8->tensorboard<2.9,>=2.8->tensorflow) (3.8.0)\n",
            "Requirement already satisfied: pyasn1<0.5.0,>=0.4.6 in /usr/local/lib/python3.7/dist-packages (from pyasn1-modules>=0.2.1->google-auth<3,>=1.6.3->tensorboard<2.9,>=2.8->tensorflow) (0.4.8)\n",
            "Requirement already satisfied: idna<3,>=2.5 in /usr/local/lib/python3.7/dist-packages (from requests<3,>=2.21.0->tensorboard<2.9,>=2.8->tensorflow) (2.10)\n",
            "Requirement already satisfied: urllib3!=1.25.0,!=1.25.1,<1.26,>=1.21.1 in /usr/local/lib/python3.7/dist-packages (from requests<3,>=2.21.0->tensorboard<2.9,>=2.8->tensorflow) (1.24.3)\n",
            "Requirement already satisfied: certifi>=2017.4.17 in /usr/local/lib/python3.7/dist-packages (from requests<3,>=2.21.0->tensorboard<2.9,>=2.8->tensorflow) (2022.5.18.1)\n",
            "Requirement already satisfied: chardet<4,>=3.0.2 in /usr/local/lib/python3.7/dist-packages (from requests<3,>=2.21.0->tensorboard<2.9,>=2.8->tensorflow) (3.0.4)\n",
            "Requirement already satisfied: oauthlib>=3.0.0 in /usr/local/lib/python3.7/dist-packages (from requests-oauthlib>=0.7.0->google-auth-oauthlib<0.5,>=0.4.1->tensorboard<2.9,>=2.8->tensorflow) (3.2.0)\n"
          ]
        }
      ]
    },
    {
      "cell_type": "code",
      "source": [
        "import keras\n",
        "import numpy as np\n",
        "import matplotlib.pyplot as plt\n",
        "import tensorflow as tf\n",
        "from keras.preprocessing import sequence\n",
        "from keras.models import Sequential\n",
        "from keras.layers import Dense, Embedding\n",
        "from tensorflow.keras.utils import to_categorical\n",
        "from keras.layers import Input, Flatten, Dropout, Activation\n",
        "from keras.layers import Conv1D, MaxPooling1D\n",
        "from keras.models import Model\n",
        "from keras.callbacks import ModelCheckpoint\n",
        "from tensorflow.keras import optimizers\n",
        "\n",
        "model = Sequential()\n",
        "\n",
        "model.add(Conv1D(128, 8,padding='same', #classifier.add(Convolution2D(64, (3, 3), padding = 'same', input_shape = (128, 128, 3), activation = 'relu'))\n",
        "                 input_shape=(40,1)))\n",
        "model.add(Activation('relu'))\n",
        "model.add(Dropout(0.3))\n",
        "model.add(MaxPooling1D(pool_size=(5)))\n",
        "\n",
        "\n",
        "model.add(Conv1D(256,8,padding='same',))\n",
        "model.add(Activation('relu'))\n",
        "model.add(Dropout(0.3))\n",
        "model.add(MaxPooling1D(pool_size=(5)))\n",
        "\n",
        "#model.add(MaxPooling1D(pool_size=(5)))\n",
        "\n",
        "model.add(Flatten())\n",
        "\n",
        "\n",
        "\n",
        "model.add(Dense(6))\n",
        "model.add(Activation('softmax'))\n",
        "\n",
        "\n",
        "opt = tf.keras.optimizers.RMSprop(lr=0.0002 , decay=0.0)\n",
        "#opt = tf.keras.optimizers.Adam(lr=0.0002 , decay=0.0)\n",
        "#opt = tf.keras.optimizers.RMSprop(lr=0.0001, rho=0.9, epsilon=1e-07, decay=0.0)\n",
        "#opt = tf.keras.optimizers.SGD(lr=0.001, momentum=0.0, decay=0.0, nesterov=False)"
      ],
      "metadata": {
        "id": "g74fXWVAC4Cr",
        "colab": {
          "base_uri": "https://localhost:8080/"
        },
        "outputId": "fcb1b834-3e5a-47ce-b8a0-5afee1619933"
      },
      "execution_count": 11,
      "outputs": [
        {
          "output_type": "stream",
          "name": "stderr",
          "text": [
            "/usr/local/lib/python3.7/dist-packages/keras/optimizer_v2/rmsprop.py:130: UserWarning:\n",
            "\n",
            "The `lr` argument is deprecated, use `learning_rate` instead.\n",
            "\n"
          ]
        }
      ]
    },
    {
      "cell_type": "code",
      "source": [
        "model.summary()"
      ],
      "metadata": {
        "colab": {
          "base_uri": "https://localhost:8080/"
        },
        "id": "H6ukOxAGC_I4",
        "outputId": "43b07682-2f26-44ef-e9e1-9c12706f8596"
      },
      "execution_count": 12,
      "outputs": [
        {
          "output_type": "stream",
          "name": "stdout",
          "text": [
            "Model: \"sequential\"\n",
            "_________________________________________________________________\n",
            " Layer (type)                Output Shape              Param #   \n",
            "=================================================================\n",
            " conv1d (Conv1D)             (None, 40, 128)           1152      \n",
            "                                                                 \n",
            " activation (Activation)     (None, 40, 128)           0         \n",
            "                                                                 \n",
            " dropout (Dropout)           (None, 40, 128)           0         \n",
            "                                                                 \n",
            " max_pooling1d (MaxPooling1D  (None, 8, 128)           0         \n",
            " )                                                               \n",
            "                                                                 \n",
            " conv1d_1 (Conv1D)           (None, 8, 256)            262400    \n",
            "                                                                 \n",
            " activation_1 (Activation)   (None, 8, 256)            0         \n",
            "                                                                 \n",
            " dropout_1 (Dropout)         (None, 8, 256)            0         \n",
            "                                                                 \n",
            " max_pooling1d_1 (MaxPooling  (None, 1, 256)           0         \n",
            " 1D)                                                             \n",
            "                                                                 \n",
            " flatten (Flatten)           (None, 256)               0         \n",
            "                                                                 \n",
            " dense (Dense)               (None, 6)                 1542      \n",
            "                                                                 \n",
            " activation_2 (Activation)   (None, 6)                 0         \n",
            "                                                                 \n",
            "=================================================================\n",
            "Total params: 265,094\n",
            "Trainable params: 265,094\n",
            "Non-trainable params: 0\n",
            "_________________________________________________________________\n"
          ]
        }
      ]
    },
    {
      "cell_type": "code",
      "source": [
        "model.compile(loss='sparse_categorical_crossentropy',\n",
        "              optimizer=opt,\n",
        "              metrics=['accuracy'])"
      ],
      "metadata": {
        "id": "AbMlLNk4DCBM"
      },
      "execution_count": 13,
      "outputs": []
    },
    {
      "cell_type": "code",
      "source": [
        "# Create an Instance of Early Stopping Callback.\n",
        "early_stopping_callback = EarlyStopping(monitor = 'val_loss', patience = 25, mode = 'min', restore_best_weights = True)\n",
        "\n",
        "cnnhistory=model.fit(x_traincnn, y_train, batch_size=16, epochs=500 , shuffle = True, \n",
        "                     validation_data=(X_valid, y_valid) , callbacks = [early_stopping_callback])"
      ],
      "metadata": {
        "colab": {
          "base_uri": "https://localhost:8080/"
        },
        "id": "RI1v2AuADFhy",
        "outputId": "a60bc35f-df00-406f-b2a0-af625a011d95"
      },
      "execution_count": 14,
      "outputs": [
        {
          "output_type": "stream",
          "name": "stdout",
          "text": [
            "Epoch 1/500\n",
            "104/104 [==============================] - 5s 12ms/step - loss: 12.8894 - accuracy: 0.1711 - val_loss: 4.7589 - val_accuracy: 0.1932\n",
            "Epoch 2/500\n",
            "104/104 [==============================] - 1s 8ms/step - loss: 9.3226 - accuracy: 0.1935 - val_loss: 3.4985 - val_accuracy: 0.2947\n",
            "Epoch 3/500\n",
            "104/104 [==============================] - 1s 9ms/step - loss: 7.6304 - accuracy: 0.2128 - val_loss: 2.7055 - val_accuracy: 0.2754\n",
            "Epoch 4/500\n",
            "104/104 [==============================] - 1s 8ms/step - loss: 6.2472 - accuracy: 0.2382 - val_loss: 7.3580 - val_accuracy: 0.1594\n",
            "Epoch 5/500\n",
            "104/104 [==============================] - 1s 8ms/step - loss: 5.2978 - accuracy: 0.2654 - val_loss: 3.4037 - val_accuracy: 0.2512\n",
            "Epoch 6/500\n",
            "104/104 [==============================] - 1s 9ms/step - loss: 4.6813 - accuracy: 0.2461 - val_loss: 2.6492 - val_accuracy: 0.2560\n",
            "Epoch 7/500\n",
            "104/104 [==============================] - 1s 8ms/step - loss: 4.1970 - accuracy: 0.2576 - val_loss: 4.5664 - val_accuracy: 0.1932\n",
            "Epoch 8/500\n",
            "104/104 [==============================] - 1s 8ms/step - loss: 3.9263 - accuracy: 0.2678 - val_loss: 2.3892 - val_accuracy: 0.3140\n",
            "Epoch 9/500\n",
            "104/104 [==============================] - 1s 9ms/step - loss: 3.4192 - accuracy: 0.2811 - val_loss: 1.7833 - val_accuracy: 0.2657\n",
            "Epoch 10/500\n",
            "104/104 [==============================] - 1s 8ms/step - loss: 2.9924 - accuracy: 0.3053 - val_loss: 1.8104 - val_accuracy: 0.3333\n",
            "Epoch 11/500\n",
            "104/104 [==============================] - 1s 8ms/step - loss: 2.8449 - accuracy: 0.2932 - val_loss: 1.6456 - val_accuracy: 0.3961\n",
            "Epoch 12/500\n",
            "104/104 [==============================] - 1s 9ms/step - loss: 2.6129 - accuracy: 0.3168 - val_loss: 1.6991 - val_accuracy: 0.3575\n",
            "Epoch 13/500\n",
            "104/104 [==============================] - 1s 11ms/step - loss: 2.5380 - accuracy: 0.3253 - val_loss: 1.7825 - val_accuracy: 0.3237\n",
            "Epoch 14/500\n",
            "104/104 [==============================] - 1s 10ms/step - loss: 2.4153 - accuracy: 0.3356 - val_loss: 1.6413 - val_accuracy: 0.4010\n",
            "Epoch 15/500\n",
            "104/104 [==============================] - 1s 9ms/step - loss: 2.2570 - accuracy: 0.3458 - val_loss: 1.5182 - val_accuracy: 0.3768\n",
            "Epoch 16/500\n",
            "104/104 [==============================] - 1s 9ms/step - loss: 2.1237 - accuracy: 0.3501 - val_loss: 1.5764 - val_accuracy: 0.3333\n",
            "Epoch 17/500\n",
            "104/104 [==============================] - 1s 7ms/step - loss: 1.9714 - accuracy: 0.3863 - val_loss: 1.9206 - val_accuracy: 0.3285\n",
            "Epoch 18/500\n",
            "104/104 [==============================] - 1s 9ms/step - loss: 1.9027 - accuracy: 0.3924 - val_loss: 1.4113 - val_accuracy: 0.3913\n",
            "Epoch 19/500\n",
            "104/104 [==============================] - 1s 9ms/step - loss: 1.8330 - accuracy: 0.4099 - val_loss: 1.3684 - val_accuracy: 0.5024\n",
            "Epoch 20/500\n",
            "104/104 [==============================] - 1s 9ms/step - loss: 1.7509 - accuracy: 0.4160 - val_loss: 1.2781 - val_accuracy: 0.5169\n",
            "Epoch 21/500\n",
            "104/104 [==============================] - 1s 9ms/step - loss: 1.6701 - accuracy: 0.4256 - val_loss: 1.6054 - val_accuracy: 0.3092\n",
            "Epoch 22/500\n",
            "104/104 [==============================] - 1s 9ms/step - loss: 1.5636 - accuracy: 0.4534 - val_loss: 1.2553 - val_accuracy: 0.5024\n",
            "Epoch 23/500\n",
            "104/104 [==============================] - 1s 10ms/step - loss: 1.5298 - accuracy: 0.4710 - val_loss: 1.2668 - val_accuracy: 0.4879\n",
            "Epoch 24/500\n",
            "104/104 [==============================] - 1s 10ms/step - loss: 1.4718 - accuracy: 0.4692 - val_loss: 1.3500 - val_accuracy: 0.4541\n",
            "Epoch 25/500\n",
            "104/104 [==============================] - 1s 10ms/step - loss: 1.4245 - accuracy: 0.4927 - val_loss: 1.2913 - val_accuracy: 0.4444\n",
            "Epoch 26/500\n",
            "104/104 [==============================] - 1s 7ms/step - loss: 1.3863 - accuracy: 0.4897 - val_loss: 1.3289 - val_accuracy: 0.4879\n",
            "Epoch 27/500\n",
            "104/104 [==============================] - 1s 7ms/step - loss: 1.3355 - accuracy: 0.4921 - val_loss: 1.1550 - val_accuracy: 0.5507\n",
            "Epoch 28/500\n",
            "104/104 [==============================] - 1s 10ms/step - loss: 1.2960 - accuracy: 0.5230 - val_loss: 1.1798 - val_accuracy: 0.5700\n",
            "Epoch 29/500\n",
            "104/104 [==============================] - 1s 11ms/step - loss: 1.2295 - accuracy: 0.5290 - val_loss: 1.1838 - val_accuracy: 0.5121\n",
            "Epoch 30/500\n",
            "104/104 [==============================] - 1s 14ms/step - loss: 1.2310 - accuracy: 0.5441 - val_loss: 1.1705 - val_accuracy: 0.5169\n",
            "Epoch 31/500\n",
            "104/104 [==============================] - 1s 11ms/step - loss: 1.2336 - accuracy: 0.5369 - val_loss: 1.0994 - val_accuracy: 0.5894\n",
            "Epoch 32/500\n",
            "104/104 [==============================] - 1s 8ms/step - loss: 1.1511 - accuracy: 0.5453 - val_loss: 1.1441 - val_accuracy: 0.5556\n",
            "Epoch 33/500\n",
            "104/104 [==============================] - 1s 8ms/step - loss: 1.1198 - accuracy: 0.5568 - val_loss: 1.0714 - val_accuracy: 0.5507\n",
            "Epoch 34/500\n",
            "104/104 [==============================] - 1s 8ms/step - loss: 1.1402 - accuracy: 0.5605 - val_loss: 1.0717 - val_accuracy: 0.6135\n",
            "Epoch 35/500\n",
            "104/104 [==============================] - 1s 9ms/step - loss: 1.1386 - accuracy: 0.5447 - val_loss: 1.0661 - val_accuracy: 0.5990\n",
            "Epoch 36/500\n",
            "104/104 [==============================] - 1s 8ms/step - loss: 1.0553 - accuracy: 0.5949 - val_loss: 1.1099 - val_accuracy: 0.5266\n",
            "Epoch 37/500\n",
            "104/104 [==============================] - 1s 8ms/step - loss: 1.0664 - accuracy: 0.5901 - val_loss: 1.0056 - val_accuracy: 0.6135\n",
            "Epoch 38/500\n",
            "104/104 [==============================] - 1s 8ms/step - loss: 1.0714 - accuracy: 0.5828 - val_loss: 1.0093 - val_accuracy: 0.6039\n",
            "Epoch 39/500\n",
            "104/104 [==============================] - 1s 8ms/step - loss: 1.0210 - accuracy: 0.6058 - val_loss: 1.0266 - val_accuracy: 0.6232\n",
            "Epoch 40/500\n",
            "104/104 [==============================] - 1s 6ms/step - loss: 1.0182 - accuracy: 0.6010 - val_loss: 1.0368 - val_accuracy: 0.5845\n",
            "Epoch 41/500\n",
            "104/104 [==============================] - 1s 5ms/step - loss: 0.9537 - accuracy: 0.6306 - val_loss: 1.0416 - val_accuracy: 0.6184\n",
            "Epoch 42/500\n",
            "104/104 [==============================] - 1s 5ms/step - loss: 0.9844 - accuracy: 0.6197 - val_loss: 1.0970 - val_accuracy: 0.5507\n",
            "Epoch 43/500\n",
            "104/104 [==============================] - 1s 5ms/step - loss: 0.9441 - accuracy: 0.6306 - val_loss: 0.9860 - val_accuracy: 0.6184\n",
            "Epoch 44/500\n",
            "104/104 [==============================] - 1s 5ms/step - loss: 0.9692 - accuracy: 0.6312 - val_loss: 0.9816 - val_accuracy: 0.5700\n",
            "Epoch 45/500\n",
            "104/104 [==============================] - 1s 5ms/step - loss: 0.9271 - accuracy: 0.6524 - val_loss: 1.0372 - val_accuracy: 0.6377\n",
            "Epoch 46/500\n",
            "104/104 [==============================] - 1s 5ms/step - loss: 0.9279 - accuracy: 0.6445 - val_loss: 0.9165 - val_accuracy: 0.6667\n",
            "Epoch 47/500\n",
            "104/104 [==============================] - 1s 5ms/step - loss: 0.9249 - accuracy: 0.6282 - val_loss: 0.9971 - val_accuracy: 0.5990\n",
            "Epoch 48/500\n",
            "104/104 [==============================] - 1s 5ms/step - loss: 0.9163 - accuracy: 0.6530 - val_loss: 1.0515 - val_accuracy: 0.5604\n",
            "Epoch 49/500\n",
            "104/104 [==============================] - 1s 5ms/step - loss: 0.9153 - accuracy: 0.6421 - val_loss: 0.9958 - val_accuracy: 0.6039\n",
            "Epoch 50/500\n",
            "104/104 [==============================] - 1s 6ms/step - loss: 0.8958 - accuracy: 0.6481 - val_loss: 0.8768 - val_accuracy: 0.7101\n",
            "Epoch 51/500\n",
            "104/104 [==============================] - 1s 8ms/step - loss: 0.8806 - accuracy: 0.6584 - val_loss: 0.9677 - val_accuracy: 0.6087\n",
            "Epoch 52/500\n",
            "104/104 [==============================] - 1s 8ms/step - loss: 0.8763 - accuracy: 0.6487 - val_loss: 0.9185 - val_accuracy: 0.6812\n",
            "Epoch 53/500\n",
            "104/104 [==============================] - 1s 8ms/step - loss: 0.8397 - accuracy: 0.6590 - val_loss: 0.9064 - val_accuracy: 0.6908\n",
            "Epoch 54/500\n",
            "104/104 [==============================] - 1s 9ms/step - loss: 0.8490 - accuracy: 0.6699 - val_loss: 0.8585 - val_accuracy: 0.7005\n",
            "Epoch 55/500\n",
            "104/104 [==============================] - 1s 8ms/step - loss: 0.8524 - accuracy: 0.6784 - val_loss: 0.8885 - val_accuracy: 0.6522\n",
            "Epoch 56/500\n",
            "104/104 [==============================] - 1s 7ms/step - loss: 0.8325 - accuracy: 0.6735 - val_loss: 0.8791 - val_accuracy: 0.6957\n",
            "Epoch 57/500\n",
            "104/104 [==============================] - 0s 5ms/step - loss: 0.8048 - accuracy: 0.6898 - val_loss: 0.9783 - val_accuracy: 0.6135\n",
            "Epoch 58/500\n",
            "104/104 [==============================] - 1s 5ms/step - loss: 0.8090 - accuracy: 0.6959 - val_loss: 0.8733 - val_accuracy: 0.6763\n",
            "Epoch 59/500\n",
            "104/104 [==============================] - 1s 5ms/step - loss: 0.7854 - accuracy: 0.6862 - val_loss: 0.8727 - val_accuracy: 0.6860\n",
            "Epoch 60/500\n",
            "104/104 [==============================] - 1s 5ms/step - loss: 0.7903 - accuracy: 0.7001 - val_loss: 0.8205 - val_accuracy: 0.7198\n",
            "Epoch 61/500\n",
            "104/104 [==============================] - 1s 5ms/step - loss: 0.7760 - accuracy: 0.7031 - val_loss: 0.8427 - val_accuracy: 0.7005\n",
            "Epoch 62/500\n",
            "104/104 [==============================] - 0s 5ms/step - loss: 0.7545 - accuracy: 0.7056 - val_loss: 0.9986 - val_accuracy: 0.6135\n",
            "Epoch 63/500\n",
            "104/104 [==============================] - 1s 5ms/step - loss: 0.7546 - accuracy: 0.6995 - val_loss: 0.8323 - val_accuracy: 0.7198\n",
            "Epoch 64/500\n",
            "104/104 [==============================] - 0s 5ms/step - loss: 0.7593 - accuracy: 0.7080 - val_loss: 0.8061 - val_accuracy: 0.7729\n",
            "Epoch 65/500\n",
            "104/104 [==============================] - 1s 5ms/step - loss: 0.7467 - accuracy: 0.7116 - val_loss: 0.8286 - val_accuracy: 0.6908\n",
            "Epoch 66/500\n",
            "104/104 [==============================] - 0s 5ms/step - loss: 0.7355 - accuracy: 0.7044 - val_loss: 0.7802 - val_accuracy: 0.7198\n",
            "Epoch 67/500\n",
            "104/104 [==============================] - 1s 5ms/step - loss: 0.7513 - accuracy: 0.7031 - val_loss: 0.8434 - val_accuracy: 0.7053\n",
            "Epoch 68/500\n",
            "104/104 [==============================] - 0s 5ms/step - loss: 0.7358 - accuracy: 0.7062 - val_loss: 0.9000 - val_accuracy: 0.6860\n",
            "Epoch 69/500\n",
            "104/104 [==============================] - 1s 5ms/step - loss: 0.7081 - accuracy: 0.7213 - val_loss: 0.8088 - val_accuracy: 0.7343\n",
            "Epoch 70/500\n",
            "104/104 [==============================] - 0s 5ms/step - loss: 0.7045 - accuracy: 0.7255 - val_loss: 0.8339 - val_accuracy: 0.7343\n",
            "Epoch 71/500\n",
            "104/104 [==============================] - 1s 5ms/step - loss: 0.7194 - accuracy: 0.7128 - val_loss: 0.8073 - val_accuracy: 0.7150\n",
            "Epoch 72/500\n",
            "104/104 [==============================] - 0s 5ms/step - loss: 0.6903 - accuracy: 0.7285 - val_loss: 0.7807 - val_accuracy: 0.7440\n",
            "Epoch 73/500\n",
            "104/104 [==============================] - 1s 5ms/step - loss: 0.7000 - accuracy: 0.7267 - val_loss: 0.8191 - val_accuracy: 0.7198\n",
            "Epoch 74/500\n",
            "104/104 [==============================] - 0s 5ms/step - loss: 0.6611 - accuracy: 0.7412 - val_loss: 0.7681 - val_accuracy: 0.7488\n",
            "Epoch 75/500\n",
            "104/104 [==============================] - 1s 5ms/step - loss: 0.6547 - accuracy: 0.7449 - val_loss: 0.8010 - val_accuracy: 0.7295\n",
            "Epoch 76/500\n",
            "104/104 [==============================] - 1s 5ms/step - loss: 0.6372 - accuracy: 0.7642 - val_loss: 0.8192 - val_accuracy: 0.6860\n",
            "Epoch 77/500\n",
            "104/104 [==============================] - 1s 5ms/step - loss: 0.6706 - accuracy: 0.7406 - val_loss: 0.7751 - val_accuracy: 0.7488\n",
            "Epoch 78/500\n",
            "104/104 [==============================] - 1s 5ms/step - loss: 0.6644 - accuracy: 0.7388 - val_loss: 0.7680 - val_accuracy: 0.7101\n",
            "Epoch 79/500\n",
            "104/104 [==============================] - 0s 5ms/step - loss: 0.6862 - accuracy: 0.7406 - val_loss: 0.8152 - val_accuracy: 0.7246\n",
            "Epoch 80/500\n",
            "104/104 [==============================] - 1s 5ms/step - loss: 0.6624 - accuracy: 0.7473 - val_loss: 0.8361 - val_accuracy: 0.7246\n",
            "Epoch 81/500\n",
            "104/104 [==============================] - 0s 5ms/step - loss: 0.6380 - accuracy: 0.7515 - val_loss: 0.7747 - val_accuracy: 0.7198\n",
            "Epoch 82/500\n",
            "104/104 [==============================] - 1s 5ms/step - loss: 0.6376 - accuracy: 0.7533 - val_loss: 0.7819 - val_accuracy: 0.7295\n",
            "Epoch 83/500\n",
            "104/104 [==============================] - 1s 5ms/step - loss: 0.6425 - accuracy: 0.7551 - val_loss: 0.7029 - val_accuracy: 0.7536\n",
            "Epoch 84/500\n",
            "104/104 [==============================] - 0s 5ms/step - loss: 0.6072 - accuracy: 0.7624 - val_loss: 0.7730 - val_accuracy: 0.7391\n",
            "Epoch 85/500\n",
            "104/104 [==============================] - 1s 5ms/step - loss: 0.6062 - accuracy: 0.7684 - val_loss: 0.7298 - val_accuracy: 0.7826\n",
            "Epoch 86/500\n",
            "104/104 [==============================] - 0s 5ms/step - loss: 0.6177 - accuracy: 0.7588 - val_loss: 0.7552 - val_accuracy: 0.7343\n",
            "Epoch 87/500\n",
            "104/104 [==============================] - 1s 5ms/step - loss: 0.6203 - accuracy: 0.7648 - val_loss: 0.7330 - val_accuracy: 0.7536\n",
            "Epoch 88/500\n",
            "104/104 [==============================] - 1s 5ms/step - loss: 0.6135 - accuracy: 0.7503 - val_loss: 0.7147 - val_accuracy: 0.7633\n",
            "Epoch 89/500\n",
            "104/104 [==============================] - 0s 5ms/step - loss: 0.5770 - accuracy: 0.7757 - val_loss: 0.7625 - val_accuracy: 0.7585\n",
            "Epoch 90/500\n",
            "104/104 [==============================] - 0s 4ms/step - loss: 0.6054 - accuracy: 0.7648 - val_loss: 0.8240 - val_accuracy: 0.7053\n",
            "Epoch 91/500\n",
            "104/104 [==============================] - 0s 5ms/step - loss: 0.5720 - accuracy: 0.8005 - val_loss: 0.7736 - val_accuracy: 0.7343\n",
            "Epoch 92/500\n",
            "104/104 [==============================] - 0s 5ms/step - loss: 0.5964 - accuracy: 0.7618 - val_loss: 0.7178 - val_accuracy: 0.7391\n",
            "Epoch 93/500\n",
            "104/104 [==============================] - 0s 5ms/step - loss: 0.5718 - accuracy: 0.7817 - val_loss: 0.7601 - val_accuracy: 0.7488\n",
            "Epoch 94/500\n",
            "104/104 [==============================] - 0s 4ms/step - loss: 0.5484 - accuracy: 0.7908 - val_loss: 0.7401 - val_accuracy: 0.7488\n",
            "Epoch 95/500\n",
            "104/104 [==============================] - 0s 4ms/step - loss: 0.5575 - accuracy: 0.7817 - val_loss: 0.7430 - val_accuracy: 0.7440\n",
            "Epoch 96/500\n",
            "104/104 [==============================] - 0s 5ms/step - loss: 0.5805 - accuracy: 0.7799 - val_loss: 0.7331 - val_accuracy: 0.7681\n",
            "Epoch 97/500\n",
            "104/104 [==============================] - 0s 4ms/step - loss: 0.5546 - accuracy: 0.7817 - val_loss: 0.7919 - val_accuracy: 0.7101\n",
            "Epoch 98/500\n",
            "104/104 [==============================] - 0s 4ms/step - loss: 0.5548 - accuracy: 0.7769 - val_loss: 0.6903 - val_accuracy: 0.7681\n",
            "Epoch 99/500\n",
            "104/104 [==============================] - 0s 4ms/step - loss: 0.5754 - accuracy: 0.7763 - val_loss: 0.7189 - val_accuracy: 0.7391\n",
            "Epoch 100/500\n",
            "104/104 [==============================] - 0s 4ms/step - loss: 0.5318 - accuracy: 0.7975 - val_loss: 0.7475 - val_accuracy: 0.7198\n",
            "Epoch 101/500\n",
            "104/104 [==============================] - 0s 4ms/step - loss: 0.5643 - accuracy: 0.7811 - val_loss: 0.6957 - val_accuracy: 0.7488\n",
            "Epoch 102/500\n",
            "104/104 [==============================] - 0s 4ms/step - loss: 0.5367 - accuracy: 0.7914 - val_loss: 0.7086 - val_accuracy: 0.7343\n",
            "Epoch 103/500\n",
            "104/104 [==============================] - 0s 5ms/step - loss: 0.5433 - accuracy: 0.7902 - val_loss: 0.7059 - val_accuracy: 0.7391\n",
            "Epoch 104/500\n",
            "104/104 [==============================] - 1s 6ms/step - loss: 0.5167 - accuracy: 0.8017 - val_loss: 0.6682 - val_accuracy: 0.7633\n",
            "Epoch 105/500\n",
            "104/104 [==============================] - 0s 5ms/step - loss: 0.5154 - accuracy: 0.8041 - val_loss: 0.6779 - val_accuracy: 0.7585\n",
            "Epoch 106/500\n",
            "104/104 [==============================] - 1s 5ms/step - loss: 0.5112 - accuracy: 0.8132 - val_loss: 0.7191 - val_accuracy: 0.7585\n",
            "Epoch 107/500\n",
            "104/104 [==============================] - 1s 5ms/step - loss: 0.5086 - accuracy: 0.8035 - val_loss: 0.6813 - val_accuracy: 0.7633\n",
            "Epoch 108/500\n",
            "104/104 [==============================] - 1s 5ms/step - loss: 0.5095 - accuracy: 0.8065 - val_loss: 0.7353 - val_accuracy: 0.7536\n",
            "Epoch 109/500\n",
            "104/104 [==============================] - 1s 5ms/step - loss: 0.5141 - accuracy: 0.8059 - val_loss: 0.7798 - val_accuracy: 0.7295\n",
            "Epoch 110/500\n",
            "104/104 [==============================] - 0s 5ms/step - loss: 0.5179 - accuracy: 0.8102 - val_loss: 0.7648 - val_accuracy: 0.7053\n",
            "Epoch 111/500\n",
            "104/104 [==============================] - 1s 5ms/step - loss: 0.4927 - accuracy: 0.8162 - val_loss: 0.7546 - val_accuracy: 0.7536\n",
            "Epoch 112/500\n",
            "104/104 [==============================] - 1s 6ms/step - loss: 0.5154 - accuracy: 0.8047 - val_loss: 0.6872 - val_accuracy: 0.7488\n",
            "Epoch 113/500\n",
            "104/104 [==============================] - 1s 5ms/step - loss: 0.4905 - accuracy: 0.8265 - val_loss: 0.6737 - val_accuracy: 0.7729\n",
            "Epoch 114/500\n",
            "104/104 [==============================] - 1s 5ms/step - loss: 0.4815 - accuracy: 0.8253 - val_loss: 0.7220 - val_accuracy: 0.7295\n",
            "Epoch 115/500\n",
            "104/104 [==============================] - 1s 6ms/step - loss: 0.5012 - accuracy: 0.8126 - val_loss: 0.7742 - val_accuracy: 0.7101\n",
            "Epoch 116/500\n",
            "104/104 [==============================] - 1s 5ms/step - loss: 0.4859 - accuracy: 0.8253 - val_loss: 0.7285 - val_accuracy: 0.7440\n",
            "Epoch 117/500\n",
            "104/104 [==============================] - 1s 5ms/step - loss: 0.4776 - accuracy: 0.8156 - val_loss: 0.7453 - val_accuracy: 0.7488\n",
            "Epoch 118/500\n",
            "104/104 [==============================] - 1s 5ms/step - loss: 0.4699 - accuracy: 0.8253 - val_loss: 0.6579 - val_accuracy: 0.7729\n",
            "Epoch 119/500\n",
            "104/104 [==============================] - 0s 5ms/step - loss: 0.4629 - accuracy: 0.8247 - val_loss: 0.6546 - val_accuracy: 0.7536\n",
            "Epoch 120/500\n",
            "104/104 [==============================] - 1s 5ms/step - loss: 0.4755 - accuracy: 0.8222 - val_loss: 0.6958 - val_accuracy: 0.7633\n",
            "Epoch 121/500\n",
            "104/104 [==============================] - 1s 5ms/step - loss: 0.4554 - accuracy: 0.8229 - val_loss: 0.7311 - val_accuracy: 0.7488\n",
            "Epoch 122/500\n",
            "104/104 [==============================] - 1s 5ms/step - loss: 0.4507 - accuracy: 0.8289 - val_loss: 0.6532 - val_accuracy: 0.7826\n",
            "Epoch 123/500\n",
            "104/104 [==============================] - 1s 6ms/step - loss: 0.4671 - accuracy: 0.8156 - val_loss: 0.6540 - val_accuracy: 0.7923\n",
            "Epoch 124/500\n",
            "104/104 [==============================] - 1s 5ms/step - loss: 0.4518 - accuracy: 0.8222 - val_loss: 0.6382 - val_accuracy: 0.7536\n",
            "Epoch 125/500\n",
            "104/104 [==============================] - 0s 5ms/step - loss: 0.4561 - accuracy: 0.8313 - val_loss: 0.7199 - val_accuracy: 0.7440\n",
            "Epoch 126/500\n",
            "104/104 [==============================] - 1s 5ms/step - loss: 0.4684 - accuracy: 0.8198 - val_loss: 0.6692 - val_accuracy: 0.7874\n",
            "Epoch 127/500\n",
            "104/104 [==============================] - 1s 5ms/step - loss: 0.4671 - accuracy: 0.8180 - val_loss: 0.7368 - val_accuracy: 0.7778\n",
            "Epoch 128/500\n",
            "104/104 [==============================] - 1s 5ms/step - loss: 0.4363 - accuracy: 0.8386 - val_loss: 0.6300 - val_accuracy: 0.7778\n",
            "Epoch 129/500\n",
            "104/104 [==============================] - 1s 5ms/step - loss: 0.4310 - accuracy: 0.8331 - val_loss: 0.6464 - val_accuracy: 0.7826\n",
            "Epoch 130/500\n",
            "104/104 [==============================] - 0s 4ms/step - loss: 0.4232 - accuracy: 0.8410 - val_loss: 0.6937 - val_accuracy: 0.7101\n",
            "Epoch 131/500\n",
            "104/104 [==============================] - 1s 5ms/step - loss: 0.4299 - accuracy: 0.8307 - val_loss: 0.6718 - val_accuracy: 0.7633\n",
            "Epoch 132/500\n",
            "104/104 [==============================] - 1s 5ms/step - loss: 0.4163 - accuracy: 0.8428 - val_loss: 0.6409 - val_accuracy: 0.7729\n",
            "Epoch 133/500\n",
            "104/104 [==============================] - 1s 5ms/step - loss: 0.4200 - accuracy: 0.8368 - val_loss: 0.6127 - val_accuracy: 0.7874\n",
            "Epoch 134/500\n",
            "104/104 [==============================] - 1s 5ms/step - loss: 0.4261 - accuracy: 0.8325 - val_loss: 0.6817 - val_accuracy: 0.7585\n",
            "Epoch 135/500\n",
            "104/104 [==============================] - 1s 5ms/step - loss: 0.4296 - accuracy: 0.8422 - val_loss: 0.6433 - val_accuracy: 0.7874\n",
            "Epoch 136/500\n",
            "104/104 [==============================] - 0s 5ms/step - loss: 0.4182 - accuracy: 0.8380 - val_loss: 0.6513 - val_accuracy: 0.7826\n",
            "Epoch 137/500\n",
            "104/104 [==============================] - 1s 6ms/step - loss: 0.4019 - accuracy: 0.8501 - val_loss: 0.6368 - val_accuracy: 0.8019\n",
            "Epoch 138/500\n",
            "104/104 [==============================] - 1s 5ms/step - loss: 0.4068 - accuracy: 0.8501 - val_loss: 0.7041 - val_accuracy: 0.7585\n",
            "Epoch 139/500\n",
            "104/104 [==============================] - 1s 5ms/step - loss: 0.4058 - accuracy: 0.8543 - val_loss: 0.6260 - val_accuracy: 0.7971\n",
            "Epoch 140/500\n",
            "104/104 [==============================] - 1s 5ms/step - loss: 0.4072 - accuracy: 0.8434 - val_loss: 0.7401 - val_accuracy: 0.7440\n",
            "Epoch 141/500\n",
            "104/104 [==============================] - 0s 4ms/step - loss: 0.3752 - accuracy: 0.8537 - val_loss: 0.6271 - val_accuracy: 0.7971\n",
            "Epoch 142/500\n",
            "104/104 [==============================] - 1s 5ms/step - loss: 0.4006 - accuracy: 0.8507 - val_loss: 0.6238 - val_accuracy: 0.7923\n",
            "Epoch 143/500\n",
            "104/104 [==============================] - 1s 5ms/step - loss: 0.3990 - accuracy: 0.8549 - val_loss: 0.6823 - val_accuracy: 0.7536\n",
            "Epoch 144/500\n",
            "104/104 [==============================] - 0s 4ms/step - loss: 0.3911 - accuracy: 0.8537 - val_loss: 0.6437 - val_accuracy: 0.7681\n",
            "Epoch 145/500\n",
            "104/104 [==============================] - 1s 5ms/step - loss: 0.4068 - accuracy: 0.8464 - val_loss: 0.6654 - val_accuracy: 0.7633\n",
            "Epoch 146/500\n",
            "104/104 [==============================] - 1s 5ms/step - loss: 0.3802 - accuracy: 0.8603 - val_loss: 0.6292 - val_accuracy: 0.7681\n",
            "Epoch 147/500\n",
            "104/104 [==============================] - 0s 5ms/step - loss: 0.3778 - accuracy: 0.8585 - val_loss: 0.6315 - val_accuracy: 0.7729\n",
            "Epoch 148/500\n",
            "104/104 [==============================] - 1s 5ms/step - loss: 0.3862 - accuracy: 0.8531 - val_loss: 0.6621 - val_accuracy: 0.7536\n",
            "Epoch 149/500\n",
            "104/104 [==============================] - 1s 5ms/step - loss: 0.3833 - accuracy: 0.8603 - val_loss: 0.7648 - val_accuracy: 0.7633\n",
            "Epoch 150/500\n",
            "104/104 [==============================] - 1s 5ms/step - loss: 0.3666 - accuracy: 0.8597 - val_loss: 0.7215 - val_accuracy: 0.7488\n",
            "Epoch 151/500\n",
            "104/104 [==============================] - 1s 5ms/step - loss: 0.3728 - accuracy: 0.8628 - val_loss: 0.6012 - val_accuracy: 0.8019\n",
            "Epoch 152/500\n",
            "104/104 [==============================] - 1s 5ms/step - loss: 0.3577 - accuracy: 0.8718 - val_loss: 0.6310 - val_accuracy: 0.7633\n",
            "Epoch 153/500\n",
            "104/104 [==============================] - 1s 5ms/step - loss: 0.3908 - accuracy: 0.8458 - val_loss: 0.5999 - val_accuracy: 0.7874\n",
            "Epoch 154/500\n",
            "104/104 [==============================] - 1s 5ms/step - loss: 0.3584 - accuracy: 0.8688 - val_loss: 0.5557 - val_accuracy: 0.8019\n",
            "Epoch 155/500\n",
            "104/104 [==============================] - 1s 5ms/step - loss: 0.3839 - accuracy: 0.8567 - val_loss: 0.6007 - val_accuracy: 0.7826\n",
            "Epoch 156/500\n",
            "104/104 [==============================] - 1s 5ms/step - loss: 0.3456 - accuracy: 0.8597 - val_loss: 0.6229 - val_accuracy: 0.7778\n",
            "Epoch 157/500\n",
            "104/104 [==============================] - 1s 5ms/step - loss: 0.3603 - accuracy: 0.8585 - val_loss: 0.6752 - val_accuracy: 0.7681\n",
            "Epoch 158/500\n",
            "104/104 [==============================] - 0s 5ms/step - loss: 0.3658 - accuracy: 0.8591 - val_loss: 0.6402 - val_accuracy: 0.7874\n",
            "Epoch 159/500\n",
            "104/104 [==============================] - 1s 5ms/step - loss: 0.3629 - accuracy: 0.8634 - val_loss: 0.6584 - val_accuracy: 0.7729\n",
            "Epoch 160/500\n",
            "104/104 [==============================] - 0s 5ms/step - loss: 0.3393 - accuracy: 0.8779 - val_loss: 0.5992 - val_accuracy: 0.8068\n",
            "Epoch 161/500\n",
            "104/104 [==============================] - 1s 5ms/step - loss: 0.3649 - accuracy: 0.8609 - val_loss: 0.7516 - val_accuracy: 0.7440\n",
            "Epoch 162/500\n",
            "104/104 [==============================] - 1s 5ms/step - loss: 0.3493 - accuracy: 0.8688 - val_loss: 0.5950 - val_accuracy: 0.8019\n",
            "Epoch 163/500\n",
            "104/104 [==============================] - 0s 4ms/step - loss: 0.3644 - accuracy: 0.8634 - val_loss: 0.5881 - val_accuracy: 0.7729\n",
            "Epoch 164/500\n",
            "104/104 [==============================] - 1s 5ms/step - loss: 0.3570 - accuracy: 0.8609 - val_loss: 0.5776 - val_accuracy: 0.8164\n",
            "Epoch 165/500\n",
            "104/104 [==============================] - 1s 5ms/step - loss: 0.3408 - accuracy: 0.8773 - val_loss: 0.6587 - val_accuracy: 0.7681\n",
            "Epoch 166/500\n",
            "104/104 [==============================] - 1s 5ms/step - loss: 0.3520 - accuracy: 0.8706 - val_loss: 0.5981 - val_accuracy: 0.7778\n",
            "Epoch 167/500\n",
            "104/104 [==============================] - 1s 5ms/step - loss: 0.3414 - accuracy: 0.8773 - val_loss: 0.5639 - val_accuracy: 0.8116\n",
            "Epoch 168/500\n",
            "104/104 [==============================] - 0s 4ms/step - loss: 0.3365 - accuracy: 0.8712 - val_loss: 0.6503 - val_accuracy: 0.7826\n",
            "Epoch 169/500\n",
            "104/104 [==============================] - 1s 5ms/step - loss: 0.3307 - accuracy: 0.8815 - val_loss: 0.5930 - val_accuracy: 0.7874\n",
            "Epoch 170/500\n",
            "104/104 [==============================] - 1s 6ms/step - loss: 0.3442 - accuracy: 0.8767 - val_loss: 0.5788 - val_accuracy: 0.7826\n",
            "Epoch 171/500\n",
            "104/104 [==============================] - 1s 5ms/step - loss: 0.3296 - accuracy: 0.8761 - val_loss: 0.6199 - val_accuracy: 0.7633\n",
            "Epoch 172/500\n",
            "104/104 [==============================] - 1s 6ms/step - loss: 0.3146 - accuracy: 0.8803 - val_loss: 0.5893 - val_accuracy: 0.8019\n",
            "Epoch 173/500\n",
            "104/104 [==============================] - 1s 5ms/step - loss: 0.3337 - accuracy: 0.8761 - val_loss: 0.6145 - val_accuracy: 0.7874\n",
            "Epoch 174/500\n",
            "104/104 [==============================] - 0s 4ms/step - loss: 0.3135 - accuracy: 0.8875 - val_loss: 0.6188 - val_accuracy: 0.7681\n",
            "Epoch 175/500\n",
            "104/104 [==============================] - 1s 5ms/step - loss: 0.3308 - accuracy: 0.8791 - val_loss: 0.5821 - val_accuracy: 0.7874\n",
            "Epoch 176/500\n",
            "104/104 [==============================] - 1s 5ms/step - loss: 0.3225 - accuracy: 0.8888 - val_loss: 0.6356 - val_accuracy: 0.7536\n",
            "Epoch 177/500\n",
            "104/104 [==============================] - 0s 5ms/step - loss: 0.3193 - accuracy: 0.8881 - val_loss: 0.6017 - val_accuracy: 0.7826\n",
            "Epoch 178/500\n",
            "104/104 [==============================] - 1s 6ms/step - loss: 0.3294 - accuracy: 0.8827 - val_loss: 0.5379 - val_accuracy: 0.8116\n",
            "Epoch 179/500\n",
            "104/104 [==============================] - 1s 5ms/step - loss: 0.3406 - accuracy: 0.8791 - val_loss: 0.5907 - val_accuracy: 0.8019\n",
            "Epoch 180/500\n",
            "104/104 [==============================] - 1s 5ms/step - loss: 0.3373 - accuracy: 0.8755 - val_loss: 0.5767 - val_accuracy: 0.7729\n",
            "Epoch 181/500\n",
            "104/104 [==============================] - 1s 6ms/step - loss: 0.2859 - accuracy: 0.8960 - val_loss: 0.5863 - val_accuracy: 0.8116\n",
            "Epoch 182/500\n",
            "104/104 [==============================] - 1s 6ms/step - loss: 0.3465 - accuracy: 0.8688 - val_loss: 0.6166 - val_accuracy: 0.7971\n",
            "Epoch 183/500\n",
            "104/104 [==============================] - 1s 5ms/step - loss: 0.3061 - accuracy: 0.8803 - val_loss: 0.6350 - val_accuracy: 0.7971\n",
            "Epoch 184/500\n",
            "104/104 [==============================] - 1s 5ms/step - loss: 0.3207 - accuracy: 0.8803 - val_loss: 0.5856 - val_accuracy: 0.7874\n",
            "Epoch 185/500\n",
            "104/104 [==============================] - 1s 5ms/step - loss: 0.2943 - accuracy: 0.8815 - val_loss: 0.6488 - val_accuracy: 0.7633\n",
            "Epoch 186/500\n",
            "104/104 [==============================] - 1s 5ms/step - loss: 0.3131 - accuracy: 0.8875 - val_loss: 0.6305 - val_accuracy: 0.7874\n",
            "Epoch 187/500\n",
            "104/104 [==============================] - 0s 5ms/step - loss: 0.2850 - accuracy: 0.8960 - val_loss: 0.5913 - val_accuracy: 0.7874\n",
            "Epoch 188/500\n",
            "104/104 [==============================] - 1s 5ms/step - loss: 0.2980 - accuracy: 0.8924 - val_loss: 0.5982 - val_accuracy: 0.7826\n",
            "Epoch 189/500\n",
            "104/104 [==============================] - 1s 5ms/step - loss: 0.3046 - accuracy: 0.8869 - val_loss: 0.6141 - val_accuracy: 0.7971\n",
            "Epoch 190/500\n",
            "104/104 [==============================] - 0s 5ms/step - loss: 0.3157 - accuracy: 0.8809 - val_loss: 0.6445 - val_accuracy: 0.7633\n",
            "Epoch 191/500\n",
            "104/104 [==============================] - 1s 5ms/step - loss: 0.2940 - accuracy: 0.8948 - val_loss: 0.6957 - val_accuracy: 0.7198\n",
            "Epoch 192/500\n",
            "104/104 [==============================] - 0s 5ms/step - loss: 0.2841 - accuracy: 0.8954 - val_loss: 0.5834 - val_accuracy: 0.7923\n",
            "Epoch 193/500\n",
            "104/104 [==============================] - 1s 5ms/step - loss: 0.2993 - accuracy: 0.8833 - val_loss: 0.5974 - val_accuracy: 0.7633\n",
            "Epoch 194/500\n",
            "104/104 [==============================] - 1s 5ms/step - loss: 0.3116 - accuracy: 0.8869 - val_loss: 0.6149 - val_accuracy: 0.7874\n",
            "Epoch 195/500\n",
            "104/104 [==============================] - 1s 5ms/step - loss: 0.2865 - accuracy: 0.8936 - val_loss: 0.5998 - val_accuracy: 0.7343\n",
            "Epoch 196/500\n",
            "104/104 [==============================] - 1s 5ms/step - loss: 0.2831 - accuracy: 0.8960 - val_loss: 0.6501 - val_accuracy: 0.7826\n",
            "Epoch 197/500\n",
            "104/104 [==============================] - 0s 5ms/step - loss: 0.2887 - accuracy: 0.8906 - val_loss: 0.5683 - val_accuracy: 0.7971\n",
            "Epoch 198/500\n",
            "104/104 [==============================] - 0s 5ms/step - loss: 0.2752 - accuracy: 0.9075 - val_loss: 0.6196 - val_accuracy: 0.7778\n",
            "Epoch 199/500\n",
            "104/104 [==============================] - 1s 5ms/step - loss: 0.2826 - accuracy: 0.8972 - val_loss: 0.7178 - val_accuracy: 0.7150\n",
            "Epoch 200/500\n",
            "104/104 [==============================] - 1s 7ms/step - loss: 0.2932 - accuracy: 0.8881 - val_loss: 0.6091 - val_accuracy: 0.7778\n",
            "Epoch 201/500\n",
            "104/104 [==============================] - 1s 9ms/step - loss: 0.2845 - accuracy: 0.8978 - val_loss: 0.5757 - val_accuracy: 0.8068\n",
            "Epoch 202/500\n",
            "104/104 [==============================] - 1s 9ms/step - loss: 0.2882 - accuracy: 0.8966 - val_loss: 0.5683 - val_accuracy: 0.7971\n",
            "Epoch 203/500\n",
            "104/104 [==============================] - 1s 7ms/step - loss: 0.2876 - accuracy: 0.8906 - val_loss: 0.5737 - val_accuracy: 0.8068\n"
          ]
        }
      ]
    },
    {
      "cell_type": "code",
      "source": [
        "plt.plot(cnnhistory.history['loss'])\n",
        "plt.plot(cnnhistory.history['val_loss'])\n",
        "plt.title('model loss')\n",
        "plt.ylabel('loss')\n",
        "plt.xlabel('epoch')\n",
        "plt.legend(['train','test'], loc='upper left')\n",
        "plt.show()"
      ],
      "metadata": {
        "colab": {
          "base_uri": "https://localhost:8080/",
          "height": 295
        },
        "id": "oQYnuaCrDH_A",
        "outputId": "b11ab538-8463-4160-af4d-09de6d4d18e4"
      },
      "execution_count": 15,
      "outputs": [
        {
          "output_type": "display_data",
          "data": {
            "text/plain": [
              "<Figure size 432x288 with 1 Axes>"
            ],
            "image/png": "[encoded data removed]"
          },
          "metadata": {
            "needs_background": "light"
          }
        }
      ]
    },
    {
      "cell_type": "code",
      "source": [
        "plt.plot(cnnhistory.history['accuracy'])\n",
        "plt.plot(cnnhistory.history['val_accuracy'])\n",
        "plt.title('model accuracy')\n",
        "plt.ylabel('accuracy')\n",
        "plt.xlabel('epoch')\n",
        "plt.legend(['train','test'], loc='upper left')\n",
        "plt.show()"
      ],
      "metadata": {
        "colab": {
          "base_uri": "https://localhost:8080/",
          "height": 295
        },
        "id": "IFkTuO8nDNdq",
        "outputId": "edd8fa18-e52c-4759-8133-fea9c975ac31"
      },
      "execution_count": 16,
      "outputs": [
        {
          "output_type": "display_data",
          "data": {
            "text/plain": [
              "<Figure size 432x288 with 1 Axes>"
            ],
            "image/png": "[encoded data removed]"
          },
          "metadata": {
            "needs_background": "light"
          }
        }
      ]
    },
    {
      "cell_type": "code",
      "source": [
        "predictions = model.predict(x_testcnn)"
      ],
      "metadata": {
        "id": "A2xtrN5wDQgY"
      },
      "execution_count": 17,
      "outputs": []
    },
    {
      "cell_type": "code",
      "source": [
        "predictions"
      ],
      "metadata": {
        "colab": {
          "base_uri": "https://localhost:8080/"
        },
        "id": "_f_ohjXKDUpY",
        "outputId": "cf4372bb-1264-464d-c95a-46e76e35eaa1"
      },
      "execution_count": 18,
      "outputs": [
        {
          "output_type": "execute_result",
          "data": {
            "text/plain": [
              "array([[4.0844396e-01, 2.9633546e-02, 2.5526878e-01, 2.1325265e-01,\n",
              "        5.9337486e-02, 3.4063607e-02],\n",
              "       [2.3463253e-05, 9.2852440e-07, 3.5585608e-09, 9.8622662e-01,\n",
              "        8.7805091e-07, 1.3748207e-02],\n",
              "       [1.6843505e-01, 4.0324666e-02, 3.4335260e-03, 6.8269140e-01,\n",
              "        1.5159558e-03, 1.0359942e-01],\n",
              "       ...,\n",
              "       [3.0776215e-04, 4.6932792e-07, 6.9651986e-04, 1.7612231e-04,\n",
              "        9.9402702e-01, 4.7921855e-03],\n",
              "       [1.0017802e-03, 5.7733142e-01, 3.9674661e-01, 2.3729249e-03,\n",
              "        1.9529399e-02, 3.0178945e-03],\n",
              "       [3.2491006e-03, 5.6569828e-03, 1.4865075e-01, 8.1789400e-03,\n",
              "        7.5410080e-01, 8.0163427e-02]], dtype=float32)"
            ]
          },
          "metadata": {},
          "execution_count": 18
        }
      ]
    },
    {
      "cell_type": "code",
      "source": [
        "y_test"
      ],
      "metadata": {
        "colab": {
          "base_uri": "https://localhost:8080/"
        },
        "id": "cmA2bFgsDW3D",
        "outputId": "5314817c-545c-46ac-a872-0e56628afd94"
      },
      "execution_count": 19,
      "outputs": [
        {
          "output_type": "execute_result",
          "data": {
            "text/plain": [
              "array([3, 3, 3, 0, 4, 4, 1, 2, 5, 0, 5, 3, 2, 2, 1, 4, 4, 5, 2, 4, 1, 2,\n",
              "       3, 5, 4, 2, 1, 2, 2, 2, 2, 5, 2, 5, 3, 1, 2, 0, 4, 5, 2, 3, 2, 2,\n",
              "       5, 2, 0, 1, 3, 4, 4, 5, 1, 1, 4, 4, 5, 1, 1, 1, 0, 1, 5, 0, 4, 1,\n",
              "       1, 0, 1, 4, 1, 0, 4, 1, 3, 1, 2, 2, 1, 2, 3, 0, 5, 3, 5, 5, 2, 4,\n",
              "       5, 1, 5, 1, 5, 3, 4, 1, 4, 1, 5, 4, 5, 1, 2, 1, 1, 5, 1, 3, 2, 5,\n",
              "       2, 1, 3, 5, 4, 4, 0, 0, 3, 1, 2, 2, 3, 5, 1, 5, 3, 4, 2, 2, 0, 2,\n",
              "       2, 5, 5, 0, 3, 3, 2, 2, 0, 3, 4, 0, 4, 2, 4, 5, 4, 1, 5, 3, 2, 2,\n",
              "       5, 4, 3, 3, 4, 3, 3, 4, 1, 5, 2, 3, 2, 2, 0, 2, 1, 3, 1, 2, 2, 5,\n",
              "       5, 1, 4, 2, 2, 1, 1, 3, 3, 5, 5, 2, 5, 1, 5, 0, 3, 3, 0, 5, 1, 4,\n",
              "       1, 4, 2, 5, 5, 1, 4, 2, 4])"
            ]
          },
          "metadata": {},
          "execution_count": 19
        }
      ]
    },
    {
      "cell_type": "code",
      "source": [
        "new_Ytest = y_test.astype(int)"
      ],
      "metadata": {
        "id": "0PHDKWJWDY3g"
      },
      "execution_count": 20,
      "outputs": []
    },
    {
      "cell_type": "code",
      "source": [
        "new_Ytest"
      ],
      "metadata": {
        "colab": {
          "base_uri": "https://localhost:8080/"
        },
        "id": "k68v2i-pDbZE",
        "outputId": "f8216e73-237e-4958-ab8c-ecf35de133d3"
      },
      "execution_count": 21,
      "outputs": [
        {
          "output_type": "execute_result",
          "data": {
            "text/plain": [
              "array([3, 3, 3, 0, 4, 4, 1, 2, 5, 0, 5, 3, 2, 2, 1, 4, 4, 5, 2, 4, 1, 2,\n",
              "       3, 5, 4, 2, 1, 2, 2, 2, 2, 5, 2, 5, 3, 1, 2, 0, 4, 5, 2, 3, 2, 2,\n",
              "       5, 2, 0, 1, 3, 4, 4, 5, 1, 1, 4, 4, 5, 1, 1, 1, 0, 1, 5, 0, 4, 1,\n",
              "       1, 0, 1, 4, 1, 0, 4, 1, 3, 1, 2, 2, 1, 2, 3, 0, 5, 3, 5, 5, 2, 4,\n",
              "       5, 1, 5, 1, 5, 3, 4, 1, 4, 1, 5, 4, 5, 1, 2, 1, 1, 5, 1, 3, 2, 5,\n",
              "       2, 1, 3, 5, 4, 4, 0, 0, 3, 1, 2, 2, 3, 5, 1, 5, 3, 4, 2, 2, 0, 2,\n",
              "       2, 5, 5, 0, 3, 3, 2, 2, 0, 3, 4, 0, 4, 2, 4, 5, 4, 1, 5, 3, 2, 2,\n",
              "       5, 4, 3, 3, 4, 3, 3, 4, 1, 5, 2, 3, 2, 2, 0, 2, 1, 3, 1, 2, 2, 5,\n",
              "       5, 1, 4, 2, 2, 1, 1, 3, 3, 5, 5, 2, 5, 1, 5, 0, 3, 3, 0, 5, 1, 4,\n",
              "       1, 4, 2, 5, 5, 1, 4, 2, 4])"
            ]
          },
          "metadata": {},
          "execution_count": 21
        }
      ]
    },
    {
      "cell_type": "code",
      "source": [
        "preds1=predictions.argmax(axis=1)\n",
        "preds1"
      ],
      "metadata": {
        "colab": {
          "base_uri": "https://localhost:8080/"
        },
        "id": "4_cAI39VFhtp",
        "outputId": "ecc359d2-49c7-4f36-d4ea-8dbd42641b79"
      },
      "execution_count": 22,
      "outputs": [
        {
          "output_type": "execute_result",
          "data": {
            "text/plain": [
              "array([0, 3, 3, 0, 4, 4, 1, 2, 5, 1, 5, 3, 1, 2, 1, 4, 4, 3, 3, 4, 2, 2,\n",
              "       3, 3, 4, 2, 1, 2, 2, 2, 2, 5, 2, 5, 3, 1, 2, 0, 4, 5, 2, 5, 2, 2,\n",
              "       5, 2, 1, 1, 3, 4, 4, 5, 1, 1, 4, 4, 5, 1, 1, 1, 0, 1, 2, 1, 4, 1,\n",
              "       1, 1, 1, 4, 0, 0, 4, 1, 3, 1, 2, 2, 1, 2, 1, 0, 5, 3, 5, 5, 2, 4,\n",
              "       5, 1, 0, 1, 5, 3, 4, 1, 0, 1, 5, 4, 5, 1, 2, 1, 1, 5, 1, 3, 2, 5,\n",
              "       3, 1, 3, 5, 4, 4, 2, 0, 3, 1, 1, 2, 1, 3, 1, 3, 3, 5, 2, 2, 0, 2,\n",
              "       2, 3, 3, 0, 3, 3, 2, 2, 0, 3, 4, 1, 4, 1, 4, 2, 4, 1, 5, 3, 2, 2,\n",
              "       5, 4, 3, 3, 4, 5, 3, 4, 1, 5, 2, 3, 2, 2, 0, 2, 1, 3, 1, 2, 2, 5,\n",
              "       5, 1, 4, 2, 2, 1, 1, 3, 3, 5, 2, 2, 3, 1, 2, 1, 3, 3, 1, 5, 1, 4,\n",
              "       1, 4, 3, 5, 5, 1, 4, 1, 4])"
            ]
          },
          "metadata": {},
          "execution_count": 22
        }
      ]
    },
    {
      "cell_type": "code",
      "source": [
        "abc = preds1.astype(int).flatten()"
      ],
      "metadata": {
        "id": "H4WEmM60NfQn"
      },
      "execution_count": 23,
      "outputs": []
    },
    {
      "cell_type": "code",
      "source": [
        "from sklearn.metrics import confusion_matrix\n",
        "c = confusion_matrix(new_Ytest, abc) \n",
        "c"
      ],
      "metadata": {
        "colab": {
          "base_uri": "https://localhost:8080/"
        },
        "id": "bKEBeEBlFjB8",
        "outputId": "9a3d9e38-290e-470a-9a8e-53c76ed230e0"
      },
      "execution_count": 24,
      "outputs": [
        {
          "output_type": "execute_result",
          "data": {
            "text/plain": [
              "array([[10,  7,  1,  0,  0,  0],\n",
              "       [ 1, 39,  1,  0,  0,  0],\n",
              "       [ 0,  4, 38,  3,  0,  0],\n",
              "       [ 1,  2,  0, 26,  0,  2],\n",
              "       [ 1,  0,  0,  0, 31,  1],\n",
              "       [ 1,  0,  4,  7,  0, 27]])"
            ]
          },
          "metadata": {},
          "execution_count": 24
        }
      ]
    },
    {
      "cell_type": "code",
      "source": [
        "y_test"
      ],
      "metadata": {
        "colab": {
          "base_uri": "https://localhost:8080/"
        },
        "id": "m4RjG7LWLSQx",
        "outputId": "ed475157-ae09-43d3-f435-93c0f716aeb5"
      },
      "execution_count": 25,
      "outputs": [
        {
          "output_type": "execute_result",
          "data": {
            "text/plain": [
              "array([3, 3, 3, 0, 4, 4, 1, 2, 5, 0, 5, 3, 2, 2, 1, 4, 4, 5, 2, 4, 1, 2,\n",
              "       3, 5, 4, 2, 1, 2, 2, 2, 2, 5, 2, 5, 3, 1, 2, 0, 4, 5, 2, 3, 2, 2,\n",
              "       5, 2, 0, 1, 3, 4, 4, 5, 1, 1, 4, 4, 5, 1, 1, 1, 0, 1, 5, 0, 4, 1,\n",
              "       1, 0, 1, 4, 1, 0, 4, 1, 3, 1, 2, 2, 1, 2, 3, 0, 5, 3, 5, 5, 2, 4,\n",
              "       5, 1, 5, 1, 5, 3, 4, 1, 4, 1, 5, 4, 5, 1, 2, 1, 1, 5, 1, 3, 2, 5,\n",
              "       2, 1, 3, 5, 4, 4, 0, 0, 3, 1, 2, 2, 3, 5, 1, 5, 3, 4, 2, 2, 0, 2,\n",
              "       2, 5, 5, 0, 3, 3, 2, 2, 0, 3, 4, 0, 4, 2, 4, 5, 4, 1, 5, 3, 2, 2,\n",
              "       5, 4, 3, 3, 4, 3, 3, 4, 1, 5, 2, 3, 2, 2, 0, 2, 1, 3, 1, 2, 2, 5,\n",
              "       5, 1, 4, 2, 2, 1, 1, 3, 3, 5, 5, 2, 5, 1, 5, 0, 3, 3, 0, 5, 1, 4,\n",
              "       1, 4, 2, 5, 5, 1, 4, 2, 4])"
            ]
          },
          "metadata": {},
          "execution_count": 25
        }
      ]
    },
    {
      "cell_type": "code",
      "source": [
        "loss, acc =model.evaluate(x_testcnn, y_test)\n",
        "print(\"Restored model, accuracy: {:5.2f}%\".format(100*acc))"
      ],
      "metadata": {
        "colab": {
          "base_uri": "https://localhost:8080/"
        },
        "id": "n3kzoqPkDqqS",
        "outputId": "0554c6ad-e8c2-42e1-81b1-559fbe74f5af"
      },
      "execution_count": 26,
      "outputs": [
        {
          "output_type": "stream",
          "name": "stdout",
          "text": [
            "7/7 [==============================] - 0s 4ms/step - loss: 0.5127 - accuracy: 0.8261\n",
            "Restored model, accuracy: 82.61%\n"
          ]
        }
      ]
    },
    {
      "cell_type": "code",
      "source": [
        "loss, acc =model.evaluate(X_train, y_train)\n",
        "print(\"Restored model train, accuracy: {:5.2f}%\".format(100*acc))"
      ],
      "metadata": {
        "id": "fJDTGH_OUX0z",
        "colab": {
          "base_uri": "https://localhost:8080/"
        },
        "outputId": "54b39b60-cd2e-468a-817b-7f94147da24e"
      },
      "execution_count": 27,
      "outputs": [
        {
          "output_type": "stream",
          "name": "stdout",
          "text": [
            "52/52 [==============================] - 0s 4ms/step - loss: 0.1669 - accuracy: 0.9764\n",
            "Restored model train, accuracy: 97.64%\n"
          ]
        }
      ]
    },
    {
      "cell_type": "code",
      "source": [
        "from sklearn.metrics import classification_report, confusion_matrix,accuracy_score\n",
        "import seaborn as sn\n",
        "\n",
        "print(classification_report(new_Ytest,abc))\n",
        "\n",
        "acc = float(accuracy_score(new_Ytest,abc))*100\n",
        "print(\"----accuracy score %s ----\" % acc)\n",
        "\n",
        "cm = confusion_matrix(new_Ytest,abc)\n",
        "#df_cm = pd.DataFrame(cm)\n",
        "class_names = ['neutral','calm', 'happy','sad','angry', 'fearful' ]\n",
        "df_cm = pd.DataFrame(cm, index=class_names, columns=class_names,)\n",
        "sn.heatmap(df_cm, annot=True, fmt='')\n",
        "plt.show()"
      ],
      "metadata": {
        "colab": {
          "base_uri": "https://localhost:8080/",
          "height": 508
        },
        "id": "SfSC3El94LZg",
        "outputId": "c3a7855e-e000-4045-a9f3-757b46afa2fc"
      },
      "execution_count": 28,
      "outputs": [
        {
          "output_type": "stream",
          "name": "stdout",
          "text": [
            "              precision    recall  f1-score   support\n",
            "\n",
            "           0       0.71      0.56      0.63        18\n",
            "           1       0.75      0.95      0.84        41\n",
            "           2       0.86      0.84      0.85        45\n",
            "           3       0.72      0.84      0.78        31\n",
            "           4       1.00      0.94      0.97        33\n",
            "           5       0.90      0.69      0.78        39\n",
            "\n",
            "    accuracy                           0.83       207\n",
            "   macro avg       0.83      0.80      0.81       207\n",
            "weighted avg       0.84      0.83      0.82       207\n",
            "\n",
            "----accuracy score 82.6086956521739 ----\n"
          ]
        },
        {
          "output_type": "display_data",
          "data": {
            "text/plain": [
              "<Figure size 432x288 with 2 Axes>"
            ],
            "image/png": "[encoded data removed]"
          },
          "metadata": {
            "needs_background": "light"
          }
        }
      ]
    }
  ]
}