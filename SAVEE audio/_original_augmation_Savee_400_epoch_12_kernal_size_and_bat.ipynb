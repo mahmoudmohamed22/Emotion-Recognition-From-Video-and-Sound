{
  "cells": [
    {
      "cell_type": "code",
      "execution_count": null,
      "metadata": {
        "colab": {
          "base_uri": "https://localhost:8080/"
        },
        "id": "uzZTLwtNdxKi",
        "outputId": "6a6f5a12-a0d2-4825-e5f7-f9e8cd2dd5ae"
      },
      "outputs": [
        {
          "name": "stdout",
          "output_type": "stream",
          "text": [
            "Requirement already satisfied: keras in /opt/conda/envs/rapids/lib/python3.7/site-packages (2.8.0)\n",
            "\u001b[33mWARNING: Running pip as the 'root' user can result in broken permissions and conflicting behaviour with the system package manager. It is recommended to use a virtual environment instead: https://pip.pypa.io/warnings/venv\u001b[0m\n",
            "Note: you may need to restart the kernel to use updated packages.\n"
          ]
        }
      ],
      "source": [
        "pip install keras"
      ]
    },
    {
      "cell_type": "code",
      "source": [
        "from google.colab import drive\n",
        "drive.mount('/content/drive')"
      ],
      "metadata": {
        "colab": {
          "base_uri": "https://localhost:8080/"
        },
        "id": "cB9NV-RLdSLZ",
        "outputId": "2c1a7a0b-1023-4dbc-94ff-bfd7991f7f2f"
      },
      "execution_count": 1,
      "outputs": [
        {
          "output_type": "stream",
          "name": "stdout",
          "text": [
            "Mounted at /content/drive\n"
          ]
        }
      ]
    },
    {
      "cell_type": "code",
      "execution_count": null,
      "metadata": {
        "id": "EbHyBIe_dOYb",
        "outputId": "65c42ecd-cb15-422c-9f7c-006f2a33e71f"
      },
      "outputs": [
        {
          "name": "stdout",
          "output_type": "stream",
          "text": [
            "Requirement already satisfied: tensorflow in /opt/conda/envs/rapids/lib/python3.7/site-packages (2.8.0)\n",
            "Requirement already satisfied: termcolor>=1.1.0 in /opt/conda/envs/rapids/lib/python3.7/site-packages (from tensorflow) (1.1.0)\n",
            "Requirement already satisfied: tf-estimator-nightly==2.8.0.dev2021122109 in /opt/conda/envs/rapids/lib/python3.7/site-packages (from tensorflow) (2.8.0.dev2021122109)\n",
            "Requirement already satisfied: numpy>=1.20 in /opt/conda/envs/rapids/lib/python3.7/site-packages (from tensorflow) (1.21.1)\n",
            "Requirement already satisfied: libclang>=9.0.1 in /opt/conda/envs/rapids/lib/python3.7/site-packages (from tensorflow) (13.0.0)\n",
            "Requirement already satisfied: gast>=0.2.1 in /opt/conda/envs/rapids/lib/python3.7/site-packages (from tensorflow) (0.5.3)\n",
            "Requirement already satisfied: tensorflow-io-gcs-filesystem>=0.23.1 in /opt/conda/envs/rapids/lib/python3.7/site-packages (from tensorflow) (0.24.0)\n",
            "Requirement already satisfied: h5py>=2.9.0 in /opt/conda/envs/rapids/lib/python3.7/site-packages (from tensorflow) (3.6.0)\n",
            "Requirement already satisfied: setuptools in /opt/conda/envs/rapids/lib/python3.7/site-packages (from tensorflow) (49.6.0.post20210108)\n",
            "Requirement already satisfied: grpcio<2.0,>=1.24.3 in /opt/conda/envs/rapids/lib/python3.7/site-packages (from tensorflow) (1.44.0)\n",
            "Requirement already satisfied: keras<2.9,>=2.8.0rc0 in /opt/conda/envs/rapids/lib/python3.7/site-packages (from tensorflow) (2.8.0)\n",
            "Requirement already satisfied: wrapt>=1.11.0 in /opt/conda/envs/rapids/lib/python3.7/site-packages (from tensorflow) (1.12.1)\n",
            "Requirement already satisfied: google-pasta>=0.1.1 in /opt/conda/envs/rapids/lib/python3.7/site-packages (from tensorflow) (0.2.0)\n",
            "Requirement already satisfied: absl-py>=0.4.0 in /opt/conda/envs/rapids/lib/python3.7/site-packages (from tensorflow) (1.0.0)\n",
            "Requirement already satisfied: opt-einsum>=2.3.2 in /opt/conda/envs/rapids/lib/python3.7/site-packages (from tensorflow) (3.3.0)\n",
            "Requirement already satisfied: astunparse>=1.6.0 in /opt/conda/envs/rapids/lib/python3.7/site-packages (from tensorflow) (1.6.3)\n",
            "Requirement already satisfied: six>=1.12.0 in /opt/conda/envs/rapids/lib/python3.7/site-packages (from tensorflow) (1.16.0)\n",
            "Requirement already satisfied: tensorboard<2.9,>=2.8 in /opt/conda/envs/rapids/lib/python3.7/site-packages (from tensorflow) (2.8.0)\n",
            "Requirement already satisfied: flatbuffers>=1.12 in /opt/conda/envs/rapids/lib/python3.7/site-packages (from tensorflow) (2.0)\n",
            "Requirement already satisfied: keras-preprocessing>=1.1.1 in /opt/conda/envs/rapids/lib/python3.7/site-packages (from tensorflow) (1.1.2)\n",
            "Requirement already satisfied: typing-extensions>=3.6.6 in /opt/conda/envs/rapids/lib/python3.7/site-packages (from tensorflow) (3.10.0.0)\n",
            "Requirement already satisfied: protobuf>=3.9.2 in /opt/conda/envs/rapids/lib/python3.7/site-packages (from tensorflow) (3.16.0)\n",
            "Requirement already satisfied: wheel<1.0,>=0.23.0 in /opt/conda/envs/rapids/lib/python3.7/site-packages (from astunparse>=1.6.0->tensorflow) (0.37.0)\n",
            "Requirement already satisfied: cached-property in /opt/conda/envs/rapids/lib/python3.7/site-packages (from h5py>=2.9.0->tensorflow) (1.5.2)\n",
            "Requirement already satisfied: markdown>=2.6.8 in /opt/conda/envs/rapids/lib/python3.7/site-packages (from tensorboard<2.9,>=2.8->tensorflow) (3.3.4)\n",
            "Requirement already satisfied: tensorboard-plugin-wit>=1.6.0 in /opt/conda/envs/rapids/lib/python3.7/site-packages (from tensorboard<2.9,>=2.8->tensorflow) (1.8.1)\n",
            "Requirement already satisfied: tensorboard-data-server<0.7.0,>=0.6.0 in /opt/conda/envs/rapids/lib/python3.7/site-packages (from tensorboard<2.9,>=2.8->tensorflow) (0.6.1)\n",
            "Requirement already satisfied: google-auth<3,>=1.6.3 in /opt/conda/envs/rapids/lib/python3.7/site-packages (from tensorboard<2.9,>=2.8->tensorflow) (2.6.0)\n",
            "Requirement already satisfied: requests<3,>=2.21.0 in /opt/conda/envs/rapids/lib/python3.7/site-packages (from tensorboard<2.9,>=2.8->tensorflow) (2.26.0)\n",
            "Requirement already satisfied: werkzeug>=0.11.15 in /opt/conda/envs/rapids/lib/python3.7/site-packages (from tensorboard<2.9,>=2.8->tensorflow) (2.0.3)\n",
            "Requirement already satisfied: google-auth-oauthlib<0.5,>=0.4.1 in /opt/conda/envs/rapids/lib/python3.7/site-packages (from tensorboard<2.9,>=2.8->tensorflow) (0.4.6)\n",
            "Requirement already satisfied: cachetools<6.0,>=2.0.0 in /opt/conda/envs/rapids/lib/python3.7/site-packages (from google-auth<3,>=1.6.3->tensorboard<2.9,>=2.8->tensorflow) (4.2.2)\n",
            "Requirement already satisfied: pyasn1-modules>=0.2.1 in /opt/conda/envs/rapids/lib/python3.7/site-packages (from google-auth<3,>=1.6.3->tensorboard<2.9,>=2.8->tensorflow) (0.2.8)\n",
            "Requirement already satisfied: rsa<5,>=3.1.4 in /opt/conda/envs/rapids/lib/python3.7/site-packages (from google-auth<3,>=1.6.3->tensorboard<2.9,>=2.8->tensorflow) (4.8)\n",
            "Requirement already satisfied: requests-oauthlib>=0.7.0 in /opt/conda/envs/rapids/lib/python3.7/site-packages (from google-auth-oauthlib<0.5,>=0.4.1->tensorboard<2.9,>=2.8->tensorflow) (1.3.1)\n",
            "Requirement already satisfied: importlib-metadata in /opt/conda/envs/rapids/lib/python3.7/site-packages (from markdown>=2.6.8->tensorboard<2.9,>=2.8->tensorflow) (4.6.4)\n",
            "Requirement already satisfied: pyasn1<0.5.0,>=0.4.6 in /opt/conda/envs/rapids/lib/python3.7/site-packages (from pyasn1-modules>=0.2.1->google-auth<3,>=1.6.3->tensorboard<2.9,>=2.8->tensorflow) (0.4.8)\n",
            "Requirement already satisfied: urllib3<1.27,>=1.21.1 in /opt/conda/envs/rapids/lib/python3.7/site-packages (from requests<3,>=2.21.0->tensorboard<2.9,>=2.8->tensorflow) (1.26.6)\n",
            "Requirement already satisfied: certifi>=2017.4.17 in /opt/conda/envs/rapids/lib/python3.7/site-packages (from requests<3,>=2.21.0->tensorboard<2.9,>=2.8->tensorflow) (2021.10.8)\n",
            "Requirement already satisfied: idna<4,>=2.5 in /opt/conda/envs/rapids/lib/python3.7/site-packages (from requests<3,>=2.21.0->tensorboard<2.9,>=2.8->tensorflow) (3.1)\n",
            "Requirement already satisfied: charset-normalizer~=2.0.0 in /opt/conda/envs/rapids/lib/python3.7/site-packages (from requests<3,>=2.21.0->tensorboard<2.9,>=2.8->tensorflow) (2.0.0)\n",
            "Requirement already satisfied: oauthlib>=3.0.0 in /opt/conda/envs/rapids/lib/python3.7/site-packages (from requests-oauthlib>=0.7.0->google-auth-oauthlib<0.5,>=0.4.1->tensorboard<2.9,>=2.8->tensorflow) (3.2.0)\n",
            "Requirement already satisfied: zipp>=0.5 in /opt/conda/envs/rapids/lib/python3.7/site-packages (from importlib-metadata->markdown>=2.6.8->tensorboard<2.9,>=2.8->tensorflow) (3.5.0)\n",
            "\u001b[33mWARNING: Running pip as the 'root' user can result in broken permissions and conflicting behaviour with the system package manager. It is recommended to use a virtual environment instead: https://pip.pypa.io/warnings/venv\u001b[0m\n",
            "Note: you may need to restart the kernel to use updated packages.\n"
          ]
        }
      ],
      "source": [
        "pip install tensorflow"
      ]
    },
    {
      "cell_type": "code",
      "execution_count": null,
      "metadata": {
        "id": "-2iPI3-RdOYc",
        "outputId": "2509154d-3389-4ed5-bb2b-ee9ecd547258"
      },
      "outputs": [
        {
          "name": "stdout",
          "output_type": "stream",
          "text": [
            "Collecting package metadata (current_repodata.json): done\n",
            "Solving environment: done\n",
            "\n",
            "# All requested packages already installed.\n",
            "\n",
            "\n",
            "Note: you may need to restart the kernel to use updated packages.\n"
          ]
        }
      ],
      "source": [
        "conda install librosa "
      ]
    },
    {
      "cell_type": "code",
      "execution_count": null,
      "metadata": {
        "id": "bcVbQcYAdOYd",
        "outputId": "1390c775-5026-4e4a-9499-dda6f863afb1"
      },
      "outputs": [
        {
          "name": "stdout",
          "output_type": "stream",
          "text": [
            "Requirement already satisfied: plotly in /opt/conda/envs/rapids/lib/python3.7/site-packages (5.6.0)\n",
            "Requirement already satisfied: tenacity>=6.2.0 in /opt/conda/envs/rapids/lib/python3.7/site-packages (from plotly) (8.0.1)\n",
            "Requirement already satisfied: six in /opt/conda/envs/rapids/lib/python3.7/site-packages (from plotly) (1.16.0)\n",
            "\u001b[33mWARNING: Running pip as the 'root' user can result in broken permissions and conflicting behaviour with the system package manager. It is recommended to use a virtual environment instead: https://pip.pypa.io/warnings/venv\u001b[0m\n",
            "Note: you may need to restart the kernel to use updated packages.\n"
          ]
        }
      ],
      "source": [
        "pip install plotly"
      ]
    },
    {
      "cell_type": "code",
      "execution_count": null,
      "metadata": {
        "id": "QeizPlDkdOYe",
        "outputId": "0307d276-8ddb-469d-d681-866e0cd6afab"
      },
      "outputs": [
        {
          "name": "stdout",
          "output_type": "stream",
          "text": [
            "Requirement already satisfied: librosa in /opt/conda/envs/rapids/lib/python3.7/site-packages (0.9.1)\n",
            "Requirement already satisfied: resampy>=0.2.2 in /opt/conda/envs/rapids/lib/python3.7/site-packages (from librosa) (0.2.2)\n",
            "Requirement already satisfied: scikit-learn>=0.19.1 in /opt/conda/envs/rapids/lib/python3.7/site-packages (from librosa) (0.23.1)\n",
            "Requirement already satisfied: pooch>=1.0 in /opt/conda/envs/rapids/lib/python3.7/site-packages (from librosa) (1.5.1)\n",
            "Requirement already satisfied: audioread>=2.1.5 in /opt/conda/envs/rapids/lib/python3.7/site-packages (from librosa) (2.1.9)\n",
            "Requirement already satisfied: packaging>=20.0 in /opt/conda/envs/rapids/lib/python3.7/site-packages (from librosa) (21.0)\n",
            "Requirement already satisfied: numpy>=1.17.0 in /opt/conda/envs/rapids/lib/python3.7/site-packages (from librosa) (1.21.1)\n",
            "Requirement already satisfied: decorator>=4.0.10 in /opt/conda/envs/rapids/lib/python3.7/site-packages (from librosa) (4.4.2)\n",
            "Requirement already satisfied: joblib>=0.14 in /opt/conda/envs/rapids/lib/python3.7/site-packages (from librosa) (1.0.1)\n",
            "Requirement already satisfied: numba>=0.45.1 in /opt/conda/envs/rapids/lib/python3.7/site-packages (from librosa) (0.53.1)\n",
            "Requirement already satisfied: scipy>=1.2.0 in /opt/conda/envs/rapids/lib/python3.7/site-packages (from librosa) (1.6.0)\n",
            "Requirement already satisfied: soundfile>=0.10.2 in /opt/conda/envs/rapids/lib/python3.7/site-packages (from librosa) (0.10.3.post1)\n",
            "Requirement already satisfied: llvmlite<0.37,>=0.36.0rc1 in /opt/conda/envs/rapids/lib/python3.7/site-packages (from numba>=0.45.1->librosa) (0.36.0)\n",
            "Requirement already satisfied: setuptools in /opt/conda/envs/rapids/lib/python3.7/site-packages (from numba>=0.45.1->librosa) (49.6.0.post20210108)\n",
            "Requirement already satisfied: pyparsing>=2.0.2 in /opt/conda/envs/rapids/lib/python3.7/site-packages (from packaging>=20.0->librosa) (2.4.7)\n",
            "Requirement already satisfied: requests in /opt/conda/envs/rapids/lib/python3.7/site-packages (from pooch>=1.0->librosa) (2.26.0)\n",
            "Requirement already satisfied: appdirs in /opt/conda/envs/rapids/lib/python3.7/site-packages (from pooch>=1.0->librosa) (1.4.4)\n",
            "Requirement already satisfied: six>=1.3 in /opt/conda/envs/rapids/lib/python3.7/site-packages (from resampy>=0.2.2->librosa) (1.16.0)\n",
            "Requirement already satisfied: threadpoolctl>=2.0.0 in /opt/conda/envs/rapids/lib/python3.7/site-packages (from scikit-learn>=0.19.1->librosa) (2.2.0)\n",
            "Requirement already satisfied: cffi>=1.0 in /opt/conda/envs/rapids/lib/python3.7/site-packages (from soundfile>=0.10.2->librosa) (1.14.6)\n",
            "Requirement already satisfied: pycparser in /opt/conda/envs/rapids/lib/python3.7/site-packages (from cffi>=1.0->soundfile>=0.10.2->librosa) (2.20)\n",
            "Requirement already satisfied: certifi>=2017.4.17 in /opt/conda/envs/rapids/lib/python3.7/site-packages (from requests->pooch>=1.0->librosa) (2021.10.8)\n",
            "Requirement already satisfied: urllib3<1.27,>=1.21.1 in /opt/conda/envs/rapids/lib/python3.7/site-packages (from requests->pooch>=1.0->librosa) (1.26.6)\n",
            "Requirement already satisfied: charset-normalizer~=2.0.0 in /opt/conda/envs/rapids/lib/python3.7/site-packages (from requests->pooch>=1.0->librosa) (2.0.0)\n",
            "Requirement already satisfied: idna<4,>=2.5 in /opt/conda/envs/rapids/lib/python3.7/site-packages (from requests->pooch>=1.0->librosa) (3.1)\n",
            "\u001b[33mWARNING: Running pip as the 'root' user can result in broken permissions and conflicting behaviour with the system package manager. It is recommended to use a virtual environment instead: https://pip.pypa.io/warnings/venv\u001b[0m\n",
            "Note: you may need to restart the kernel to use updated packages.\n"
          ]
        }
      ],
      "source": [
        "pip install librosa"
      ]
    },
    {
      "cell_type": "code",
      "execution_count": 2,
      "metadata": {
        "colab": {
          "base_uri": "https://localhost:8080/",
          "height": 17
        },
        "id": "NgJohC6sdr-S",
        "outputId": "a867d195-9554-404c-b9f3-30ed53014e80"
      },
      "outputs": [
        {
          "output_type": "display_data",
          "data": {
            "text/html": [
              "        <script type=\"text/javascript\">\n",
              "        window.PlotlyConfig = {MathJaxConfig: 'local'};\n",
              "        if (window.MathJax) {MathJax.Hub.Config({SVG: {font: \"STIX-Web\"}});}\n",
              "        if (typeof require !== 'undefined') {\n",
              "        require.undef(\"plotly\");\n",
              "        requirejs.config({\n",
              "            paths: {\n",
              "                'plotly': ['https://cdn.plot.ly/plotly-2.8.3.min']\n",
              "            }\n",
              "        });\n",
              "        require(['plotly'], function(Plotly) {\n",
              "            window._Plotly = Plotly;\n",
              "        });\n",
              "        }\n",
              "        </script>\n",
              "        "
            ]
          },
          "metadata": {}
        }
      ],
      "source": [
        "# Orignial Notebook: https://github.com/MITESHPUTHRANNEU/Speech-Emotion-Analyzer/blob/master/final_results_gender_test.ipynb\n",
        "# This notebook author: Reza Chu\n",
        "# Last Editing Date: 31st May 2019\n",
        "\n",
        "## Python\n",
        "import os\n",
        "import random\n",
        "import sys\n",
        "\n",
        "import IPython\n",
        "from IPython.display import Audio\n",
        "from IPython.display import Image\n",
        "import matplotlib.pyplot as plt\n",
        "\n",
        "## Package\n",
        "import glob \n",
        "import keras\n",
        "import IPython.display as ipd\n",
        "import librosa\n",
        "import librosa.display\n",
        "import matplotlib.pyplot as plt\n",
        "import numpy as np\n",
        "import pandas as pd\n",
        "import plotly.graph_objs as go\n",
        "import plotly.offline as py\n",
        "import plotly.tools as tls\n",
        "import seaborn as sns\n",
        "import scipy.io.wavfile\n",
        "import tensorflow as tf\n",
        "py.init_notebook_mode(connected=True)\n",
        "\n",
        "## Keras\n",
        "from keras import regularizers\n",
        "from keras.callbacks import ModelCheckpoint, LearningRateScheduler, EarlyStopping\n",
        "from keras.callbacks import  History, ReduceLROnPlateau, CSVLogger\n",
        "from keras.models import Model, Sequential\n",
        "from keras.layers import Dense, Embedding, LSTM\n",
        "from keras.layers import Input, Flatten, Dropout, Activation, BatchNormalization\n",
        "from keras.layers import Conv1D, MaxPooling1D, AveragePooling1D\n",
        "from keras.preprocessing import sequence\n",
        "from keras.preprocessing.sequence import pad_sequences\n",
        "from keras.preprocessing.text import Tokenizer\n",
        "from keras.utils import np_utils\n",
        "from tensorflow.keras.utils import to_categorical\n",
        "\n",
        "## Sklearn\n",
        "from sklearn.metrics import confusion_matrix\n",
        "from sklearn.preprocessing import LabelEncoder\n",
        "\n",
        "## Rest\n",
        "from scipy.fftpack import fft\n",
        "from scipy import signal\n",
        "from scipy.io import wavfile\n",
        "from tqdm import tqdm\n",
        "\n",
        "input_duration=3\n",
        "# % pylab inline"
      ]
    },
    {
      "cell_type": "code",
      "execution_count": 3,
      "metadata": {
        "colab": {
          "base_uri": "https://localhost:8080/"
        },
        "id": "a9_TpDKveU1d",
        "outputId": "262306be-5c57-4d6e-9ea8-10431b8861f2"
      },
      "outputs": [
        {
          "output_type": "stream",
          "name": "stdout",
          "text": [
            "--- Data loaded. Loading time: 28.808045148849487 seconds ---\n"
          ]
        }
      ],
      "source": [
        "#only SAVEE data set\n",
        "import time\n",
        "import os\n",
        "import librosa\n",
        "from librosa import display\n",
        "import matplotlib.pyplot as plt\n",
        "\n",
        "lst = []\n",
        "count=0\n",
        "start_time = time.time()\n",
        "\n",
        "path3 = '/content/drive/My Drive/data_set/SAVEE'\n",
        "for subdir, dirs, files in os.walk(path3):\n",
        "  for file in files:\n",
        "      try:\n",
        "        #0 = neutral,  1 = fearful, 2 = happy, 3 = sad, 4 = angry\n",
        "        if file.startswith('a'):\n",
        "            emotion=4\n",
        "        elif file.startswith('d'):\n",
        "            continue\n",
        "        elif file.startswith('f'):\n",
        "            emotion=1\n",
        "        elif file.startswith('h'):\n",
        "            emotion=2\n",
        "        elif file.startswith('n'):\n",
        "            emotion=0\n",
        "        elif file.startswith('sa'):\n",
        "            emotion=3\n",
        "        elif file.startswith('su'):\n",
        "            continue\n",
        "        else:\n",
        "            continue\n",
        "        #Load librosa array, obtain mfcss, store the file and the mcss information in a new array\n",
        "        X, sample_rate = librosa.load(os.path.join(subdir,file), res_type='kaiser_fast')\n",
        "        #print(sample_rate)\n",
        "       # mfccs = np.mean(librosa.feature.mfcc(y=X, sr=sample_rate, n_mfcc=40).T,axis=0) \n",
        "        count +=1\n",
        "        # The instruction below converts the labels (from 1 to 8) to a series from 0 to 7\n",
        "        # This is because our predictor needs to start from 0 otherwise it will try to predict also 0.\n",
        "        #file = int(file[7:8]) - 1 \n",
        "        #0 = neutral, 1 = calm, 2 = happy, 3 = sad, 4 = angry, 5 = fearful, 6 = disgust, 7 = surprised\n",
        "        arr = X, emotion\n",
        "        lst.append(arr)\n",
        "      # If the file is not valid, skip it\n",
        "      except ValueError:\n",
        "        continue\n",
        "\n",
        "print(\"--- Data loaded. Loading time: %s seconds ---\" % (time.time() - start_time))"
      ]
    },
    {
      "cell_type": "code",
      "execution_count": 4,
      "metadata": {
        "colab": {
          "base_uri": "https://localhost:8080/"
        },
        "id": "XVaArAIkdOYj",
        "outputId": "0b3ce596-6d50-4539-e0bc-f28a817cda9e"
      },
      "outputs": [
        {
          "output_type": "stream",
          "name": "stderr",
          "text": [
            "/usr/local/lib/python3.7/dist-packages/numpy/core/fromnumeric.py:3208: VisibleDeprecationWarning:\n",
            "\n",
            "Creating an ndarray from ragged nested sequences (which is a list-or-tuple of lists-or-tuples-or ndarrays with different lengths or shapes) is deprecated. If you meant to do this, you must specify 'dtype=object' when creating the ndarray.\n",
            "\n"
          ]
        },
        {
          "output_type": "execute_result",
          "data": {
            "text/plain": [
              "720"
            ]
          },
          "metadata": {},
          "execution_count": 4
        }
      ],
      "source": [
        "from numpy.core.fromnumeric import size\n",
        "size(lst)\n"
      ]
    },
    {
      "cell_type": "code",
      "execution_count": 5,
      "metadata": {
        "colab": {
          "base_uri": "https://localhost:8080/"
        },
        "id": "uo6fLwandOYl",
        "outputId": "f2591226-9f8e-4d2a-97d3-2eb68773afba"
      },
      "outputs": [
        {
          "output_type": "stream",
          "name": "stderr",
          "text": [
            "/usr/local/lib/python3.7/dist-packages/numpy/core/fromnumeric.py:3208: VisibleDeprecationWarning:\n",
            "\n",
            "Creating an ndarray from ragged nested sequences (which is a list-or-tuple of lists-or-tuples-or ndarrays with different lengths or shapes) is deprecated. If you meant to do this, you must specify 'dtype=object' when creating the ndarray.\n",
            "\n"
          ]
        },
        {
          "output_type": "execute_result",
          "data": {
            "text/plain": [
              "720"
            ]
          },
          "metadata": {},
          "execution_count": 5
        }
      ],
      "source": [
        "from numpy.core.fromnumeric import size\n",
        "size(lst)\n"
      ]
    },
    {
      "cell_type": "code",
      "execution_count": 6,
      "metadata": {
        "colab": {
          "base_uri": "https://localhost:8080/"
        },
        "id": "2vTLVo3SdOYm",
        "outputId": "e5fcba67-f474-413b-8193-9690ebf0f00d"
      },
      "outputs": [
        {
          "output_type": "stream",
          "name": "stderr",
          "text": [
            "/usr/local/lib/python3.7/dist-packages/ipykernel_launcher.py:2: VisibleDeprecationWarning:\n",
            "\n",
            "Creating an ndarray from ragged nested sequences (which is a list-or-tuple of lists-or-tuples-or ndarrays with different lengths or shapes) is deprecated. If you meant to do this, you must specify 'dtype=object' when creating the ndarray.\n",
            "\n"
          ]
        }
      ],
      "source": [
        "audio_file, emotion = zip(*lst)\n",
        "audio_file=np.asarray(audio_file)\n",
        "emotion=np.asarray(emotion)\n"
      ]
    },
    {
      "cell_type": "code",
      "execution_count": 7,
      "metadata": {
        "colab": {
          "base_uri": "https://localhost:8080/"
        },
        "id": "M-pbYcFDd5a2",
        "outputId": "0c16cadf-252d-4b14-dc61-5c8a31f63024"
      },
      "outputs": [
        {
          "output_type": "execute_result",
          "data": {
            "text/plain": [
              "((288,), (36,), (36,))"
            ]
          },
          "metadata": {},
          "execution_count": 7
        }
      ],
      "source": [
        "\n",
        "emotion.shape,audio_file.shape\n",
        "\n",
        "from sklearn.model_selection import train_test_split\n",
        "\n",
        "signal_train, signal_test, emo_train, emo_test = train_test_split(audio_file,emotion, test_size=0.2, random_state=42)\n",
        "signal_valid, signal_test, emo_valid, emo_test = train_test_split(signal_test,emo_test, test_size=0.5,train_size=0.5, random_state=42)\n",
        "signal_train.shape,signal_valid.shape,signal_test.shape"
      ]
    },
    {
      "cell_type": "code",
      "execution_count": 8,
      "metadata": {
        "id": "OflClL3QfDoj"
      },
      "outputs": [],
      "source": [
        "x_valid=[]\n",
        "x_test=[]\n",
        "for i in range(signal_valid.size):\n",
        "  x_valid.append(np.mean(librosa.feature.mfcc(y=signal_valid[i], sr=sample_rate, n_mfcc=40).T,axis=0))\n",
        "  #x_valid.append(np.mean(librosa.feature.chroma_stft(S=np.abs(librosa.stft(signal_valid[i])), sr=sample_rate ,n_chroma=12).T,axis=0))\n",
        "\n",
        "for i in range(signal_test.size):\n",
        "  x_test.append(np.mean(librosa.feature.mfcc(y=signal_test[i], sr=sample_rate, n_mfcc=40).T,axis=0))\n",
        "  #x_test.append(np.mean(librosa.feature.chroma_stft(S=np.abs(librosa.stft(signal_test[i])), sr=sample_rate,n_chroma=12).T,axis=0))\n",
        "#resv = np.hstack((resv, mfccsv))  \n",
        "#resv = np.hstack((resv, cromav))  \n",
        "#resv = np.hstack((resv, melv))  \n",
        "\n",
        "#rest = np.hstack((rest, mfccst))  \n",
        "#rest = np.hstack((rest, cromat))  \n",
        "#rest = np.hstack((rest, melt))\n",
        "\n",
        "#x_valid.append(resv)\n",
        "#x_test.append(rest)"
      ]
    },
    {
      "cell_type": "code",
      "execution_count": 9,
      "metadata": {
        "colab": {
          "base_uri": "https://localhost:8080/"
        },
        "id": "kJkN-K17gSvD",
        "outputId": "34604380-ec27-48d2-9052-a0eaf0c2a100"
      },
      "outputs": [
        {
          "output_type": "execute_result",
          "data": {
            "text/plain": [
              "((36, 40), (36, 40))"
            ]
          },
          "metadata": {},
          "execution_count": 9
        }
      ],
      "source": [
        "x_valid=np.asarray(x_valid)\n",
        "x_test=np.asarray(x_test)\n",
        "x_valid.shape,x_test.shape"
      ]
    },
    {
      "cell_type": "code",
      "execution_count": 10,
      "metadata": {
        "id": "k43cyWMKgXo9"
      },
      "outputs": [],
      "source": [
        "train_lst=[]\n",
        "for i in range(signal_train.size):\n",
        "  emo=emo_train[i]\n",
        "  x=signal_train[i]\n",
        "  arr=x,emo\n",
        "  train_lst.append(arr)\n",
        "  x=librosa.effects.time_stretch(signal_train[i],0.5)\n",
        "  arr=x,emo\n",
        "  train_lst.append(arr)\n",
        "  x=librosa.effects.time_stretch(signal_train[i],1.5)\n",
        "  arr=x,emo\n",
        "  train_lst.append(arr)\n",
        "  x=librosa.effects.pitch_shift(signal_train[i],sample_rate,2)\n",
        "  arr=x,emo\n",
        "  train_lst.append(arr)"
      ]
    },
    {
      "cell_type": "code",
      "execution_count": 11,
      "metadata": {
        "id": "gFL9v0A9kYvD"
      },
      "outputs": [],
      "source": [
        "signal, y_train = zip(*train_lst)"
      ]
    },
    {
      "cell_type": "code",
      "execution_count": 12,
      "metadata": {
        "colab": {
          "base_uri": "https://localhost:8080/"
        },
        "id": "ulnUCfZikY7Y",
        "outputId": "8b61d4f3-90d0-4c24-d1a8-e03b0878a7c2"
      },
      "outputs": [
        {
          "output_type": "stream",
          "name": "stderr",
          "text": [
            "/usr/local/lib/python3.7/dist-packages/ipykernel_launcher.py:1: VisibleDeprecationWarning:\n",
            "\n",
            "Creating an ndarray from ragged nested sequences (which is a list-or-tuple of lists-or-tuples-or ndarrays with different lengths or shapes) is deprecated. If you meant to do this, you must specify 'dtype=object' when creating the ndarray.\n",
            "\n"
          ]
        }
      ],
      "source": [
        "signal=np.asarray(signal)\n",
        "y_train=np.asarray(y_train)"
      ]
    },
    {
      "cell_type": "code",
      "execution_count": 13,
      "metadata": {
        "colab": {
          "base_uri": "https://localhost:8080/"
        },
        "id": "Bt0pm0g4kY9q",
        "outputId": "da2646b3-dc75-4ca8-eadd-c94ecf359ff7"
      },
      "outputs": [
        {
          "output_type": "execute_result",
          "data": {
            "text/plain": [
              "(1152,)"
            ]
          },
          "metadata": {},
          "execution_count": 13
        }
      ],
      "source": [
        "y_train.shape"
      ]
    },
    {
      "cell_type": "code",
      "execution_count": 14,
      "metadata": {
        "id": "yGPv5UDikY_f"
      },
      "outputs": [],
      "source": [
        "x_train=[]\n",
        "for i in range(signal.size):\n",
        "  x_train.append(np.mean(librosa.feature.mfcc(y=signal[i], sr=sample_rate, n_mfcc=40).T,axis=0))"
      ]
    },
    {
      "cell_type": "code",
      "execution_count": 15,
      "metadata": {
        "colab": {
          "base_uri": "https://localhost:8080/"
        },
        "id": "7qnveahvkj3U",
        "outputId": "7596001e-551b-4b58-9b78-6931cb35f698"
      },
      "outputs": [
        {
          "output_type": "execute_result",
          "data": {
            "text/plain": [
              "(1152, 40)"
            ]
          },
          "metadata": {},
          "execution_count": 15
        }
      ],
      "source": [
        "x_train=np.asarray(x_train)\n",
        "x_train.shape"
      ]
    },
    {
      "cell_type": "code",
      "execution_count": 16,
      "metadata": {
        "colab": {
          "base_uri": "https://localhost:8080/"
        },
        "id": "LFnBsKPXkmDV",
        "outputId": "5f90dd47-0569-4287-835a-73182df068b4"
      },
      "outputs": [
        {
          "output_type": "execute_result",
          "data": {
            "text/plain": [
              "(1152,)"
            ]
          },
          "metadata": {},
          "execution_count": 16
        }
      ],
      "source": [
        "y_train.shape"
      ]
    },
    {
      "cell_type": "code",
      "execution_count": 17,
      "metadata": {
        "colab": {
          "base_uri": "https://localhost:8080/"
        },
        "id": "zlvfnkyLkxWx",
        "outputId": "f2430f78-035c-47e5-ac71-d94b86f22522"
      },
      "outputs": [
        {
          "output_type": "stream",
          "name": "stderr",
          "text": [
            "/usr/local/lib/python3.7/dist-packages/keras/optimizer_v2/adam.py:105: UserWarning:\n",
            "\n",
            "The `lr` argument is deprecated, use `learning_rate` instead.\n",
            "\n"
          ]
        }
      ],
      "source": [
        "import keras\n",
        "import numpy as np\n",
        "import matplotlib.pyplot as plt\n",
        "import tensorflow as tf\n",
        "from keras.preprocessing import sequence\n",
        "from keras.models import Sequential\n",
        "from keras.layers import Dense, Embedding\n",
        "from tensorflow.keras.utils import to_categorical\n",
        "from keras.layers import Input, Flatten, Dropout, Activation\n",
        "from keras.layers import Conv1D, MaxPooling1D\n",
        "from keras.models import Model\n",
        "from keras.callbacks import ModelCheckpoint\n",
        "from tensorflow.keras import optimizers\n",
        "from keras.models import InputLayer\n",
        "\n",
        "model = Sequential(InputLayer((40,1)))\n",
        "model.add(BatchNormalization())\n",
        "\n",
        "model.add(Conv1D(128, 12,padding='same', ))\n",
        "model.add(BatchNormalization())\n",
        "model.add(Activation('relu'))\n",
        "model.add(Dropout(0.1))\n",
        "model.add(MaxPooling1D(pool_size=(5)))\n",
        "\n",
        "\n",
        "model.add(Conv1D(256,12,padding='same',))\n",
        "model.add(BatchNormalization())\n",
        "model.add(Activation('relu'))\n",
        "model.add(Dropout(0.3))\n",
        "model.add(MaxPooling1D(pool_size=(5)))\n",
        "\n",
        "model.add(Flatten())\n",
        "model.add(Dense(6))\n",
        "model.add(Activation('softmax'))\n",
        "\n",
        "opt = tf.keras.optimizers.Adam(lr=0.0002)\n",
        "#opt = tf.keras.optimizers.RMSprop(lr=0.0001, rho=0.9, epsilon=1e-07, decay=0.0)\n",
        "#opt = tf.keras.optimizers.SGD(lr=0.001, momentum=0.0, decay=0.0, nesterov=False)"
      ]
    },
    {
      "cell_type": "code",
      "execution_count": 18,
      "metadata": {
        "colab": {
          "base_uri": "https://localhost:8080/"
        },
        "id": "1-Xsvw44kzg1",
        "outputId": "7a91c348-e6d7-4144-c602-2bfe4990d4a1"
      },
      "outputs": [
        {
          "output_type": "stream",
          "name": "stdout",
          "text": [
            "Model: \"sequential\"\n",
            "_________________________________________________________________\n",
            " Layer (type)                Output Shape              Param #   \n",
            "=================================================================\n",
            " batch_normalization (BatchN  (None, 40, 1)            4         \n",
            " ormalization)                                                   \n",
            "                                                                 \n",
            " conv1d (Conv1D)             (None, 40, 128)           1664      \n",
            "                                                                 \n",
            " batch_normalization_1 (Batc  (None, 40, 128)          512       \n",
            " hNormalization)                                                 \n",
            "                                                                 \n",
            " activation (Activation)     (None, 40, 128)           0         \n",
            "                                                                 \n",
            " dropout (Dropout)           (None, 40, 128)           0         \n",
            "                                                                 \n",
            " max_pooling1d (MaxPooling1D  (None, 8, 128)           0         \n",
            " )                                                               \n",
            "                                                                 \n",
            " conv1d_1 (Conv1D)           (None, 8, 256)            393472    \n",
            "                                                                 \n",
            " batch_normalization_2 (Batc  (None, 8, 256)           1024      \n",
            " hNormalization)                                                 \n",
            "                                                                 \n",
            " activation_1 (Activation)   (None, 8, 256)            0         \n",
            "                                                                 \n",
            " dropout_1 (Dropout)         (None, 8, 256)            0         \n",
            "                                                                 \n",
            " max_pooling1d_1 (MaxPooling  (None, 1, 256)           0         \n",
            " 1D)                                                             \n",
            "                                                                 \n",
            " flatten (Flatten)           (None, 256)               0         \n",
            "                                                                 \n",
            " dense (Dense)               (None, 6)                 1542      \n",
            "                                                                 \n",
            " activation_2 (Activation)   (None, 6)                 0         \n",
            "                                                                 \n",
            "=================================================================\n",
            "Total params: 398,218\n",
            "Trainable params: 397,448\n",
            "Non-trainable params: 770\n",
            "_________________________________________________________________\n"
          ]
        }
      ],
      "source": [
        "model.summary()"
      ]
    },
    {
      "cell_type": "code",
      "execution_count": 19,
      "metadata": {
        "id": "m0w5VpjNk1d7"
      },
      "outputs": [],
      "source": [
        "model.compile(loss='sparse_categorical_crossentropy',\n",
        "              optimizer=opt,\n",
        "              metrics=['accuracy'])"
      ]
    },
    {
      "cell_type": "code",
      "execution_count": 20,
      "metadata": {
        "colab": {
          "base_uri": "https://localhost:8080/"
        },
        "id": "Tz-HMdw4k3Vt",
        "outputId": "5fdc164f-d75e-40c2-8585-539b9b939a33"
      },
      "outputs": [
        {
          "output_type": "stream",
          "name": "stdout",
          "text": [
            "Epoch 1/400\n",
            "72/72 [==============================] - 3s 23ms/step - loss: 1.7240 - accuracy: 0.3741 - val_loss: 1.8565 - val_accuracy: 0.1389\n",
            "Epoch 2/400\n",
            "72/72 [==============================] - 1s 20ms/step - loss: 1.2785 - accuracy: 0.5104 - val_loss: 2.0463 - val_accuracy: 0.0278\n",
            "Epoch 3/400\n",
            "72/72 [==============================] - 2s 21ms/step - loss: 1.0766 - accuracy: 0.5825 - val_loss: 2.5100 - val_accuracy: 0.0278\n",
            "Epoch 4/400\n",
            "72/72 [==============================] - 1s 20ms/step - loss: 0.9936 - accuracy: 0.6189 - val_loss: 2.6372 - val_accuracy: 0.0278\n",
            "Epoch 5/400\n",
            "72/72 [==============================] - 2s 21ms/step - loss: 0.9372 - accuracy: 0.6302 - val_loss: 2.3385 - val_accuracy: 0.0278\n",
            "Epoch 6/400\n",
            "72/72 [==============================] - 1s 21ms/step - loss: 0.8726 - accuracy: 0.6675 - val_loss: 1.7168 - val_accuracy: 0.0833\n",
            "Epoch 7/400\n",
            "72/72 [==============================] - 1s 20ms/step - loss: 0.8065 - accuracy: 0.6832 - val_loss: 1.6207 - val_accuracy: 0.2778\n",
            "Epoch 8/400\n",
            "72/72 [==============================] - 1s 20ms/step - loss: 0.8075 - accuracy: 0.6736 - val_loss: 1.0208 - val_accuracy: 0.6111\n",
            "Epoch 9/400\n",
            "72/72 [==============================] - 1s 20ms/step - loss: 0.7645 - accuracy: 0.6918 - val_loss: 0.8884 - val_accuracy: 0.5833\n",
            "Epoch 10/400\n",
            "72/72 [==============================] - 1s 20ms/step - loss: 0.7331 - accuracy: 0.7118 - val_loss: 0.8727 - val_accuracy: 0.6111\n",
            "Epoch 11/400\n",
            "72/72 [==============================] - 1s 20ms/step - loss: 0.7031 - accuracy: 0.7326 - val_loss: 0.6739 - val_accuracy: 0.7222\n",
            "Epoch 12/400\n",
            "72/72 [==============================] - 1s 20ms/step - loss: 0.6990 - accuracy: 0.7231 - val_loss: 0.6933 - val_accuracy: 0.6667\n",
            "Epoch 13/400\n",
            "72/72 [==============================] - 1s 21ms/step - loss: 0.6869 - accuracy: 0.7292 - val_loss: 0.8260 - val_accuracy: 0.6944\n",
            "Epoch 14/400\n",
            "72/72 [==============================] - 1s 20ms/step - loss: 0.6133 - accuracy: 0.7517 - val_loss: 0.7494 - val_accuracy: 0.6667\n",
            "Epoch 15/400\n",
            "72/72 [==============================] - 2s 21ms/step - loss: 0.6337 - accuracy: 0.7517 - val_loss: 0.8007 - val_accuracy: 0.6944\n",
            "Epoch 16/400\n",
            "72/72 [==============================] - 1s 20ms/step - loss: 0.5834 - accuracy: 0.7648 - val_loss: 0.6301 - val_accuracy: 0.7222\n",
            "Epoch 17/400\n",
            "72/72 [==============================] - 1s 20ms/step - loss: 0.5594 - accuracy: 0.7630 - val_loss: 0.9743 - val_accuracy: 0.6389\n",
            "Epoch 18/400\n",
            "72/72 [==============================] - 1s 21ms/step - loss: 0.5931 - accuracy: 0.7491 - val_loss: 0.7228 - val_accuracy: 0.6389\n",
            "Epoch 19/400\n",
            "72/72 [==============================] - 2s 29ms/step - loss: 0.5335 - accuracy: 0.7882 - val_loss: 0.7450 - val_accuracy: 0.7222\n",
            "Epoch 20/400\n",
            "72/72 [==============================] - 1s 20ms/step - loss: 0.5865 - accuracy: 0.7752 - val_loss: 0.5659 - val_accuracy: 0.7222\n",
            "Epoch 21/400\n",
            "72/72 [==============================] - 1s 21ms/step - loss: 0.5402 - accuracy: 0.7752 - val_loss: 0.7585 - val_accuracy: 0.6667\n",
            "Epoch 22/400\n",
            "72/72 [==============================] - 1s 21ms/step - loss: 0.5112 - accuracy: 0.7882 - val_loss: 0.6273 - val_accuracy: 0.7222\n",
            "Epoch 23/400\n",
            "72/72 [==============================] - 1s 21ms/step - loss: 0.4952 - accuracy: 0.7917 - val_loss: 0.8569 - val_accuracy: 0.6389\n",
            "Epoch 24/400\n",
            "72/72 [==============================] - 1s 20ms/step - loss: 0.4975 - accuracy: 0.8003 - val_loss: 0.5922 - val_accuracy: 0.6944\n",
            "Epoch 25/400\n",
            "72/72 [==============================] - 2s 25ms/step - loss: 0.4655 - accuracy: 0.8142 - val_loss: 0.5423 - val_accuracy: 0.7500\n",
            "Epoch 26/400\n",
            "72/72 [==============================] - 1s 20ms/step - loss: 0.4531 - accuracy: 0.8212 - val_loss: 0.4977 - val_accuracy: 0.8056\n",
            "Epoch 27/400\n",
            "72/72 [==============================] - 1s 21ms/step - loss: 0.4242 - accuracy: 0.8168 - val_loss: 0.5925 - val_accuracy: 0.7500\n",
            "Epoch 28/400\n",
            "72/72 [==============================] - 1s 21ms/step - loss: 0.4176 - accuracy: 0.8299 - val_loss: 0.5894 - val_accuracy: 0.6944\n",
            "Epoch 29/400\n",
            "72/72 [==============================] - 1s 20ms/step - loss: 0.4029 - accuracy: 0.8299 - val_loss: 0.6216 - val_accuracy: 0.7500\n",
            "Epoch 30/400\n",
            "72/72 [==============================] - 1s 21ms/step - loss: 0.4179 - accuracy: 0.8264 - val_loss: 0.8778 - val_accuracy: 0.6667\n",
            "Epoch 31/400\n",
            "72/72 [==============================] - 2s 21ms/step - loss: 0.4206 - accuracy: 0.8342 - val_loss: 0.6152 - val_accuracy: 0.6944\n",
            "Epoch 32/400\n",
            "72/72 [==============================] - 2s 21ms/step - loss: 0.3858 - accuracy: 0.8446 - val_loss: 0.4847 - val_accuracy: 0.8056\n",
            "Epoch 33/400\n",
            "72/72 [==============================] - 2s 22ms/step - loss: 0.3781 - accuracy: 0.8481 - val_loss: 0.8812 - val_accuracy: 0.6111\n",
            "Epoch 34/400\n",
            "72/72 [==============================] - 2s 22ms/step - loss: 0.3690 - accuracy: 0.8516 - val_loss: 0.4754 - val_accuracy: 0.7778\n",
            "Epoch 35/400\n",
            "72/72 [==============================] - 2s 21ms/step - loss: 0.3335 - accuracy: 0.8568 - val_loss: 0.4680 - val_accuracy: 0.7778\n",
            "Epoch 36/400\n",
            "72/72 [==============================] - 1s 21ms/step - loss: 0.3317 - accuracy: 0.8628 - val_loss: 0.7040 - val_accuracy: 0.6944\n",
            "Epoch 37/400\n",
            "72/72 [==============================] - 1s 21ms/step - loss: 0.3199 - accuracy: 0.8733 - val_loss: 0.5719 - val_accuracy: 0.7778\n",
            "Epoch 38/400\n",
            "72/72 [==============================] - 2s 21ms/step - loss: 0.3605 - accuracy: 0.8628 - val_loss: 0.6977 - val_accuracy: 0.7778\n",
            "Epoch 39/400\n",
            "72/72 [==============================] - 1s 21ms/step - loss: 0.3431 - accuracy: 0.8620 - val_loss: 0.6273 - val_accuracy: 0.6944\n",
            "Epoch 40/400\n",
            "72/72 [==============================] - 1s 21ms/step - loss: 0.3442 - accuracy: 0.8533 - val_loss: 0.3859 - val_accuracy: 0.7778\n",
            "Epoch 41/400\n",
            "72/72 [==============================] - 1s 20ms/step - loss: 0.2809 - accuracy: 0.8906 - val_loss: 0.6244 - val_accuracy: 0.6944\n",
            "Epoch 42/400\n",
            "72/72 [==============================] - 1s 20ms/step - loss: 0.2891 - accuracy: 0.8880 - val_loss: 0.6322 - val_accuracy: 0.7500\n",
            "Epoch 43/400\n",
            "72/72 [==============================] - 1s 21ms/step - loss: 0.3008 - accuracy: 0.8741 - val_loss: 0.4695 - val_accuracy: 0.7500\n",
            "Epoch 44/400\n",
            "72/72 [==============================] - 2s 21ms/step - loss: 0.2870 - accuracy: 0.8854 - val_loss: 0.4836 - val_accuracy: 0.8056\n",
            "Epoch 45/400\n",
            "72/72 [==============================] - 1s 21ms/step - loss: 0.2930 - accuracy: 0.8819 - val_loss: 0.4898 - val_accuracy: 0.8333\n",
            "Epoch 46/400\n",
            "72/72 [==============================] - 1s 21ms/step - loss: 0.2910 - accuracy: 0.8837 - val_loss: 0.6516 - val_accuracy: 0.6944\n",
            "Epoch 47/400\n",
            "72/72 [==============================] - 2s 21ms/step - loss: 0.2616 - accuracy: 0.8880 - val_loss: 0.7153 - val_accuracy: 0.6944\n",
            "Epoch 48/400\n",
            "72/72 [==============================] - 2s 21ms/step - loss: 0.2591 - accuracy: 0.8915 - val_loss: 0.5710 - val_accuracy: 0.7222\n",
            "Epoch 49/400\n",
            "72/72 [==============================] - 2s 21ms/step - loss: 0.2314 - accuracy: 0.9062 - val_loss: 0.6438 - val_accuracy: 0.7500\n",
            "Epoch 50/400\n",
            "72/72 [==============================] - 2s 21ms/step - loss: 0.2379 - accuracy: 0.9123 - val_loss: 0.3896 - val_accuracy: 0.8333\n",
            "Epoch 51/400\n",
            "72/72 [==============================] - 1s 21ms/step - loss: 0.2351 - accuracy: 0.9089 - val_loss: 0.4320 - val_accuracy: 0.7778\n",
            "Epoch 52/400\n",
            "72/72 [==============================] - 2s 21ms/step - loss: 0.2218 - accuracy: 0.9201 - val_loss: 0.3781 - val_accuracy: 0.8056\n",
            "Epoch 53/400\n",
            "72/72 [==============================] - 1s 21ms/step - loss: 0.2172 - accuracy: 0.9097 - val_loss: 0.4373 - val_accuracy: 0.8056\n",
            "Epoch 54/400\n",
            "72/72 [==============================] - 1s 20ms/step - loss: 0.2334 - accuracy: 0.9123 - val_loss: 0.3789 - val_accuracy: 0.8611\n",
            "Epoch 55/400\n",
            "72/72 [==============================] - 2s 21ms/step - loss: 0.1963 - accuracy: 0.9245 - val_loss: 0.4512 - val_accuracy: 0.8333\n",
            "Epoch 56/400\n",
            "72/72 [==============================] - 1s 20ms/step - loss: 0.1935 - accuracy: 0.9201 - val_loss: 0.2740 - val_accuracy: 0.9167\n",
            "Epoch 57/400\n",
            "72/72 [==============================] - 2s 21ms/step - loss: 0.2065 - accuracy: 0.9201 - val_loss: 0.5559 - val_accuracy: 0.7500\n",
            "Epoch 58/400\n",
            "72/72 [==============================] - 2s 21ms/step - loss: 0.2082 - accuracy: 0.9141 - val_loss: 0.4116 - val_accuracy: 0.8056\n",
            "Epoch 59/400\n",
            "72/72 [==============================] - 1s 21ms/step - loss: 0.1755 - accuracy: 0.9332 - val_loss: 0.4336 - val_accuracy: 0.7500\n",
            "Epoch 60/400\n",
            "72/72 [==============================] - 2s 21ms/step - loss: 0.1667 - accuracy: 0.9488 - val_loss: 0.4261 - val_accuracy: 0.7500\n",
            "Epoch 61/400\n",
            "72/72 [==============================] - 1s 21ms/step - loss: 0.1724 - accuracy: 0.9332 - val_loss: 0.6712 - val_accuracy: 0.7500\n",
            "Epoch 62/400\n",
            "72/72 [==============================] - 1s 21ms/step - loss: 0.1655 - accuracy: 0.9392 - val_loss: 0.5849 - val_accuracy: 0.7222\n",
            "Epoch 63/400\n",
            "72/72 [==============================] - 1s 21ms/step - loss: 0.1971 - accuracy: 0.9349 - val_loss: 0.4603 - val_accuracy: 0.7500\n",
            "Epoch 64/400\n",
            "72/72 [==============================] - 2s 21ms/step - loss: 0.1787 - accuracy: 0.9358 - val_loss: 0.2720 - val_accuracy: 0.8889\n",
            "Epoch 65/400\n",
            "72/72 [==============================] - 2s 21ms/step - loss: 0.1596 - accuracy: 0.9427 - val_loss: 0.4348 - val_accuracy: 0.7778\n",
            "Epoch 66/400\n",
            "72/72 [==============================] - 2s 21ms/step - loss: 0.1433 - accuracy: 0.9505 - val_loss: 0.2826 - val_accuracy: 0.8889\n",
            "Epoch 67/400\n",
            "72/72 [==============================] - 2s 21ms/step - loss: 0.1414 - accuracy: 0.9444 - val_loss: 0.3982 - val_accuracy: 0.8056\n",
            "Epoch 68/400\n",
            "72/72 [==============================] - 1s 21ms/step - loss: 0.1715 - accuracy: 0.9366 - val_loss: 0.2787 - val_accuracy: 0.8889\n",
            "Epoch 69/400\n",
            "72/72 [==============================] - 1s 21ms/step - loss: 0.1568 - accuracy: 0.9358 - val_loss: 0.6286 - val_accuracy: 0.7222\n",
            "Epoch 70/400\n",
            "72/72 [==============================] - 1s 20ms/step - loss: 0.1547 - accuracy: 0.9470 - val_loss: 0.5003 - val_accuracy: 0.7500\n",
            "Epoch 71/400\n",
            "72/72 [==============================] - 2s 21ms/step - loss: 0.1498 - accuracy: 0.9444 - val_loss: 0.4032 - val_accuracy: 0.8056\n",
            "Epoch 72/400\n",
            "72/72 [==============================] - 2s 21ms/step - loss: 0.1706 - accuracy: 0.9349 - val_loss: 0.4828 - val_accuracy: 0.8056\n",
            "Epoch 73/400\n",
            "72/72 [==============================] - 2s 21ms/step - loss: 0.1323 - accuracy: 0.9566 - val_loss: 0.6422 - val_accuracy: 0.7778\n",
            "Epoch 74/400\n",
            "72/72 [==============================] - 1s 21ms/step - loss: 0.1568 - accuracy: 0.9410 - val_loss: 0.4598 - val_accuracy: 0.8056\n",
            "Epoch 75/400\n",
            "72/72 [==============================] - 1s 21ms/step - loss: 0.1401 - accuracy: 0.9479 - val_loss: 0.4956 - val_accuracy: 0.8333\n",
            "Epoch 76/400\n",
            "72/72 [==============================] - 2s 21ms/step - loss: 0.1121 - accuracy: 0.9653 - val_loss: 0.4061 - val_accuracy: 0.8611\n",
            "Epoch 77/400\n",
            "72/72 [==============================] - 2s 21ms/step - loss: 0.1150 - accuracy: 0.9601 - val_loss: 0.4484 - val_accuracy: 0.8333\n",
            "Epoch 78/400\n",
            "72/72 [==============================] - 2s 22ms/step - loss: 0.1163 - accuracy: 0.9540 - val_loss: 0.4035 - val_accuracy: 0.7778\n",
            "Epoch 79/400\n",
            "72/72 [==============================] - 2s 21ms/step - loss: 0.1277 - accuracy: 0.9549 - val_loss: 0.5251 - val_accuracy: 0.7500\n",
            "Epoch 80/400\n",
            "72/72 [==============================] - 2s 21ms/step - loss: 0.0901 - accuracy: 0.9714 - val_loss: 0.6018 - val_accuracy: 0.8333\n",
            "Epoch 81/400\n",
            "72/72 [==============================] - 2s 21ms/step - loss: 0.0944 - accuracy: 0.9679 - val_loss: 0.4849 - val_accuracy: 0.7500\n",
            "Epoch 82/400\n",
            "72/72 [==============================] - 2s 22ms/step - loss: 0.1084 - accuracy: 0.9609 - val_loss: 0.5225 - val_accuracy: 0.6944\n",
            "Epoch 83/400\n",
            "72/72 [==============================] - 2s 21ms/step - loss: 0.1031 - accuracy: 0.9661 - val_loss: 0.3290 - val_accuracy: 0.8333\n",
            "Epoch 84/400\n",
            "72/72 [==============================] - 2s 22ms/step - loss: 0.1010 - accuracy: 0.9609 - val_loss: 0.2935 - val_accuracy: 0.8889\n",
            "Epoch 85/400\n",
            "72/72 [==============================] - 2s 21ms/step - loss: 0.1134 - accuracy: 0.9583 - val_loss: 0.6097 - val_accuracy: 0.7500\n",
            "Epoch 86/400\n",
            "72/72 [==============================] - 2s 21ms/step - loss: 0.1285 - accuracy: 0.9514 - val_loss: 0.5149 - val_accuracy: 0.7500\n",
            "Epoch 87/400\n",
            "72/72 [==============================] - 2s 22ms/step - loss: 0.1322 - accuracy: 0.9531 - val_loss: 0.3210 - val_accuracy: 0.8333\n",
            "Epoch 88/400\n",
            "72/72 [==============================] - 2s 22ms/step - loss: 0.0933 - accuracy: 0.9653 - val_loss: 0.3144 - val_accuracy: 0.8056\n",
            "Epoch 89/400\n",
            "72/72 [==============================] - 2s 22ms/step - loss: 0.0907 - accuracy: 0.9670 - val_loss: 0.4757 - val_accuracy: 0.8056\n",
            "Epoch 90/400\n",
            "72/72 [==============================] - 2s 21ms/step - loss: 0.0993 - accuracy: 0.9609 - val_loss: 0.3861 - val_accuracy: 0.8333\n",
            "Epoch 91/400\n",
            "72/72 [==============================] - 2s 21ms/step - loss: 0.0804 - accuracy: 0.9696 - val_loss: 0.3845 - val_accuracy: 0.8056\n",
            "Epoch 92/400\n",
            "72/72 [==============================] - 2s 22ms/step - loss: 0.1005 - accuracy: 0.9670 - val_loss: 0.5525 - val_accuracy: 0.7500\n",
            "Epoch 93/400\n",
            "72/72 [==============================] - 2s 21ms/step - loss: 0.0957 - accuracy: 0.9705 - val_loss: 0.5066 - val_accuracy: 0.7222\n",
            "Epoch 94/400\n",
            "72/72 [==============================] - 2s 21ms/step - loss: 0.0845 - accuracy: 0.9679 - val_loss: 0.4037 - val_accuracy: 0.8056\n",
            "Epoch 95/400\n",
            "72/72 [==============================] - 2s 21ms/step - loss: 0.0838 - accuracy: 0.9731 - val_loss: 0.3808 - val_accuracy: 0.7778\n",
            "Epoch 96/400\n",
            "72/72 [==============================] - 2s 21ms/step - loss: 0.1026 - accuracy: 0.9609 - val_loss: 0.3319 - val_accuracy: 0.8056\n",
            "Epoch 97/400\n",
            "72/72 [==============================] - 2s 21ms/step - loss: 0.1086 - accuracy: 0.9592 - val_loss: 0.4286 - val_accuracy: 0.8056\n",
            "Epoch 98/400\n",
            "72/72 [==============================] - 2s 21ms/step - loss: 0.1108 - accuracy: 0.9592 - val_loss: 0.2866 - val_accuracy: 0.8611\n",
            "Epoch 99/400\n",
            "72/72 [==============================] - 2s 21ms/step - loss: 0.0998 - accuracy: 0.9566 - val_loss: 0.6705 - val_accuracy: 0.8056\n",
            "Epoch 100/400\n",
            "72/72 [==============================] - 2s 21ms/step - loss: 0.1172 - accuracy: 0.9549 - val_loss: 0.3992 - val_accuracy: 0.8333\n",
            "Epoch 101/400\n",
            "72/72 [==============================] - 2s 21ms/step - loss: 0.0742 - accuracy: 0.9748 - val_loss: 0.4537 - val_accuracy: 0.7778\n",
            "Epoch 102/400\n",
            "72/72 [==============================] - 2s 22ms/step - loss: 0.0605 - accuracy: 0.9826 - val_loss: 0.4009 - val_accuracy: 0.8333\n",
            "Epoch 103/400\n",
            "72/72 [==============================] - 2s 22ms/step - loss: 0.0578 - accuracy: 0.9826 - val_loss: 0.4654 - val_accuracy: 0.8333\n",
            "Epoch 104/400\n",
            "72/72 [==============================] - 2s 22ms/step - loss: 0.0810 - accuracy: 0.9740 - val_loss: 0.4032 - val_accuracy: 0.8333\n",
            "Epoch 105/400\n",
            "72/72 [==============================] - 2s 21ms/step - loss: 0.0736 - accuracy: 0.9748 - val_loss: 0.6684 - val_accuracy: 0.6944\n",
            "Epoch 106/400\n",
            "72/72 [==============================] - 2s 22ms/step - loss: 0.0695 - accuracy: 0.9757 - val_loss: 0.4438 - val_accuracy: 0.8611\n",
            "Epoch 107/400\n",
            "72/72 [==============================] - 2s 22ms/step - loss: 0.0651 - accuracy: 0.9809 - val_loss: 0.3664 - val_accuracy: 0.7778\n",
            "Epoch 108/400\n",
            "72/72 [==============================] - 2s 21ms/step - loss: 0.0615 - accuracy: 0.9800 - val_loss: 0.5368 - val_accuracy: 0.8056\n",
            "Epoch 109/400\n",
            "72/72 [==============================] - 2s 21ms/step - loss: 0.0664 - accuracy: 0.9748 - val_loss: 0.4255 - val_accuracy: 0.7778\n",
            "Epoch 110/400\n",
            "72/72 [==============================] - 1s 21ms/step - loss: 0.0608 - accuracy: 0.9809 - val_loss: 0.6691 - val_accuracy: 0.7222\n",
            "Epoch 111/400\n",
            "72/72 [==============================] - 2s 21ms/step - loss: 0.0636 - accuracy: 0.9792 - val_loss: 0.5161 - val_accuracy: 0.7778\n",
            "Epoch 112/400\n",
            "72/72 [==============================] - 2s 21ms/step - loss: 0.0752 - accuracy: 0.9757 - val_loss: 0.3884 - val_accuracy: 0.8056\n",
            "Epoch 113/400\n",
            "72/72 [==============================] - 2s 22ms/step - loss: 0.0743 - accuracy: 0.9696 - val_loss: 0.3634 - val_accuracy: 0.8056\n",
            "Epoch 114/400\n",
            "72/72 [==============================] - 2s 21ms/step - loss: 0.0641 - accuracy: 0.9800 - val_loss: 0.4506 - val_accuracy: 0.8056\n",
            "Epoch 115/400\n",
            "72/72 [==============================] - 2s 21ms/step - loss: 0.0652 - accuracy: 0.9792 - val_loss: 0.5685 - val_accuracy: 0.7778\n",
            "Epoch 116/400\n",
            "72/72 [==============================] - 2s 22ms/step - loss: 0.0586 - accuracy: 0.9818 - val_loss: 0.4673 - val_accuracy: 0.8056\n",
            "Epoch 117/400\n",
            "72/72 [==============================] - 2s 22ms/step - loss: 0.0660 - accuracy: 0.9766 - val_loss: 0.5186 - val_accuracy: 0.8056\n",
            "Epoch 118/400\n",
            "72/72 [==============================] - 2s 21ms/step - loss: 0.0638 - accuracy: 0.9774 - val_loss: 0.5113 - val_accuracy: 0.7778\n",
            "Epoch 119/400\n",
            "72/72 [==============================] - 2s 21ms/step - loss: 0.0498 - accuracy: 0.9852 - val_loss: 0.5383 - val_accuracy: 0.8056\n",
            "Epoch 120/400\n",
            "72/72 [==============================] - 2s 21ms/step - loss: 0.0497 - accuracy: 0.9844 - val_loss: 0.4536 - val_accuracy: 0.8333\n",
            "Epoch 121/400\n",
            "72/72 [==============================] - 2s 22ms/step - loss: 0.0391 - accuracy: 0.9896 - val_loss: 0.3831 - val_accuracy: 0.8056\n",
            "Epoch 122/400\n",
            "72/72 [==============================] - 2s 21ms/step - loss: 0.0438 - accuracy: 0.9861 - val_loss: 0.4575 - val_accuracy: 0.8056\n",
            "Epoch 123/400\n",
            "72/72 [==============================] - 2s 22ms/step - loss: 0.0561 - accuracy: 0.9809 - val_loss: 0.3874 - val_accuracy: 0.7778\n",
            "Epoch 124/400\n",
            "72/72 [==============================] - 2s 21ms/step - loss: 0.0553 - accuracy: 0.9783 - val_loss: 0.5563 - val_accuracy: 0.7778\n",
            "Epoch 125/400\n",
            "72/72 [==============================] - 2s 22ms/step - loss: 0.0584 - accuracy: 0.9800 - val_loss: 0.5657 - val_accuracy: 0.8056\n",
            "Epoch 126/400\n",
            "72/72 [==============================] - 2s 21ms/step - loss: 0.0811 - accuracy: 0.9714 - val_loss: 0.4414 - val_accuracy: 0.7778\n",
            "Epoch 127/400\n",
            "72/72 [==============================] - 2s 22ms/step - loss: 0.0409 - accuracy: 0.9896 - val_loss: 0.4408 - val_accuracy: 0.8333\n",
            "Epoch 128/400\n",
            "72/72 [==============================] - 2s 22ms/step - loss: 0.0628 - accuracy: 0.9740 - val_loss: 0.5166 - val_accuracy: 0.7778\n",
            "Epoch 129/400\n",
            "72/72 [==============================] - 2s 21ms/step - loss: 0.0530 - accuracy: 0.9800 - val_loss: 0.3094 - val_accuracy: 0.8611\n",
            "Epoch 130/400\n",
            "72/72 [==============================] - 2s 21ms/step - loss: 0.0569 - accuracy: 0.9818 - val_loss: 0.3227 - val_accuracy: 0.8611\n",
            "Epoch 131/400\n",
            "72/72 [==============================] - 2s 22ms/step - loss: 0.0536 - accuracy: 0.9809 - val_loss: 0.4978 - val_accuracy: 0.7778\n",
            "Epoch 132/400\n",
            "72/72 [==============================] - 2s 21ms/step - loss: 0.0401 - accuracy: 0.9878 - val_loss: 0.4073 - val_accuracy: 0.8889\n",
            "Epoch 133/400\n",
            "72/72 [==============================] - 2s 22ms/step - loss: 0.0531 - accuracy: 0.9826 - val_loss: 0.7204 - val_accuracy: 0.7778\n",
            "Epoch 134/400\n",
            "72/72 [==============================] - 2s 22ms/step - loss: 0.0659 - accuracy: 0.9757 - val_loss: 0.3910 - val_accuracy: 0.8333\n",
            "Epoch 135/400\n",
            "72/72 [==============================] - 2s 21ms/step - loss: 0.0535 - accuracy: 0.9792 - val_loss: 0.4136 - val_accuracy: 0.8056\n",
            "Epoch 136/400\n",
            "72/72 [==============================] - 2s 21ms/step - loss: 0.0533 - accuracy: 0.9835 - val_loss: 0.3472 - val_accuracy: 0.7778\n",
            "Epoch 137/400\n",
            "72/72 [==============================] - 2s 22ms/step - loss: 0.0387 - accuracy: 0.9887 - val_loss: 0.2921 - val_accuracy: 0.8333\n",
            "Epoch 138/400\n",
            "72/72 [==============================] - 1s 21ms/step - loss: 0.0423 - accuracy: 0.9887 - val_loss: 0.4623 - val_accuracy: 0.8333\n",
            "Epoch 139/400\n",
            "72/72 [==============================] - 1s 21ms/step - loss: 0.0413 - accuracy: 0.9852 - val_loss: 0.3780 - val_accuracy: 0.8056\n",
            "Epoch 140/400\n",
            "72/72 [==============================] - 2s 21ms/step - loss: 0.0374 - accuracy: 0.9870 - val_loss: 0.4924 - val_accuracy: 0.8056\n",
            "Epoch 141/400\n",
            "72/72 [==============================] - 2s 21ms/step - loss: 0.0566 - accuracy: 0.9792 - val_loss: 0.4519 - val_accuracy: 0.8056\n",
            "Epoch 142/400\n",
            "72/72 [==============================] - 2s 21ms/step - loss: 0.0327 - accuracy: 0.9913 - val_loss: 0.3908 - val_accuracy: 0.7778\n",
            "Epoch 143/400\n",
            "72/72 [==============================] - 2s 21ms/step - loss: 0.0407 - accuracy: 0.9852 - val_loss: 0.5530 - val_accuracy: 0.8056\n",
            "Epoch 144/400\n",
            "72/72 [==============================] - 2s 21ms/step - loss: 0.0399 - accuracy: 0.9878 - val_loss: 0.5210 - val_accuracy: 0.7500\n",
            "Epoch 145/400\n",
            "72/72 [==============================] - 2s 22ms/step - loss: 0.0269 - accuracy: 0.9931 - val_loss: 0.4491 - val_accuracy: 0.8056\n",
            "Epoch 146/400\n",
            "72/72 [==============================] - 2s 21ms/step - loss: 0.0512 - accuracy: 0.9774 - val_loss: 0.4249 - val_accuracy: 0.8056\n",
            "Epoch 147/400\n",
            "72/72 [==============================] - 2s 22ms/step - loss: 0.0379 - accuracy: 0.9913 - val_loss: 0.5892 - val_accuracy: 0.8056\n",
            "Epoch 148/400\n",
            "72/72 [==============================] - 2s 22ms/step - loss: 0.0448 - accuracy: 0.9835 - val_loss: 0.7480 - val_accuracy: 0.7222\n",
            "Epoch 149/400\n",
            "72/72 [==============================] - 2s 22ms/step - loss: 0.0326 - accuracy: 0.9913 - val_loss: 0.3405 - val_accuracy: 0.8333\n",
            "Epoch 150/400\n",
            "72/72 [==============================] - 2s 22ms/step - loss: 0.0387 - accuracy: 0.9887 - val_loss: 0.4141 - val_accuracy: 0.8056\n",
            "Epoch 151/400\n",
            "72/72 [==============================] - 2s 21ms/step - loss: 0.0337 - accuracy: 0.9887 - val_loss: 0.4925 - val_accuracy: 0.8056\n",
            "Epoch 152/400\n",
            "72/72 [==============================] - 2s 21ms/step - loss: 0.0354 - accuracy: 0.9896 - val_loss: 0.5235 - val_accuracy: 0.8056\n",
            "Epoch 153/400\n",
            "72/72 [==============================] - 2s 22ms/step - loss: 0.0406 - accuracy: 0.9852 - val_loss: 0.4168 - val_accuracy: 0.8056\n",
            "Epoch 154/400\n",
            "72/72 [==============================] - 2s 21ms/step - loss: 0.0299 - accuracy: 0.9913 - val_loss: 0.4830 - val_accuracy: 0.8333\n",
            "Epoch 155/400\n",
            "72/72 [==============================] - 2s 22ms/step - loss: 0.0258 - accuracy: 0.9913 - val_loss: 0.3608 - val_accuracy: 0.8333\n",
            "Epoch 156/400\n",
            "72/72 [==============================] - 2s 21ms/step - loss: 0.0377 - accuracy: 0.9905 - val_loss: 0.4017 - val_accuracy: 0.7778\n",
            "Epoch 157/400\n",
            "72/72 [==============================] - 2s 22ms/step - loss: 0.0256 - accuracy: 0.9931 - val_loss: 0.4104 - val_accuracy: 0.8056\n",
            "Epoch 158/400\n",
            "72/72 [==============================] - 2s 21ms/step - loss: 0.0280 - accuracy: 0.9922 - val_loss: 0.3556 - val_accuracy: 0.8056\n",
            "Epoch 159/400\n",
            "72/72 [==============================] - 2s 21ms/step - loss: 0.0364 - accuracy: 0.9878 - val_loss: 0.7169 - val_accuracy: 0.7778\n",
            "Epoch 160/400\n",
            "72/72 [==============================] - 2s 22ms/step - loss: 0.0312 - accuracy: 0.9922 - val_loss: 0.4601 - val_accuracy: 0.7778\n",
            "Epoch 161/400\n",
            "72/72 [==============================] - 2s 21ms/step - loss: 0.0280 - accuracy: 0.9939 - val_loss: 0.3683 - val_accuracy: 0.8333\n",
            "Epoch 162/400\n",
            "72/72 [==============================] - 2s 22ms/step - loss: 0.0289 - accuracy: 0.9939 - val_loss: 0.5117 - val_accuracy: 0.7778\n",
            "Epoch 163/400\n",
            "72/72 [==============================] - 2s 21ms/step - loss: 0.0188 - accuracy: 0.9974 - val_loss: 0.3225 - val_accuracy: 0.8333\n",
            "Epoch 164/400\n",
            "72/72 [==============================] - 2s 21ms/step - loss: 0.0274 - accuracy: 0.9887 - val_loss: 0.3866 - val_accuracy: 0.8333\n",
            "Epoch 165/400\n",
            "72/72 [==============================] - 2s 22ms/step - loss: 0.0218 - accuracy: 0.9939 - val_loss: 0.4524 - val_accuracy: 0.8056\n",
            "Epoch 166/400\n",
            "72/72 [==============================] - 2s 22ms/step - loss: 0.0194 - accuracy: 0.9939 - val_loss: 0.5530 - val_accuracy: 0.8333\n",
            "Epoch 167/400\n",
            "72/72 [==============================] - 2s 23ms/step - loss: 0.0245 - accuracy: 0.9931 - val_loss: 0.5003 - val_accuracy: 0.7778\n",
            "Epoch 168/400\n",
            "72/72 [==============================] - 2s 22ms/step - loss: 0.0263 - accuracy: 0.9913 - val_loss: 0.3680 - val_accuracy: 0.7778\n",
            "Epoch 169/400\n",
            "72/72 [==============================] - 2s 23ms/step - loss: 0.0602 - accuracy: 0.9774 - val_loss: 0.2958 - val_accuracy: 0.8056\n",
            "Epoch 170/400\n",
            "72/72 [==============================] - 2s 21ms/step - loss: 0.0492 - accuracy: 0.9861 - val_loss: 0.4912 - val_accuracy: 0.8333\n",
            "Epoch 171/400\n",
            "72/72 [==============================] - 2s 22ms/step - loss: 0.0278 - accuracy: 0.9965 - val_loss: 0.3983 - val_accuracy: 0.8333\n",
            "Epoch 172/400\n",
            "72/72 [==============================] - 2s 22ms/step - loss: 0.0288 - accuracy: 0.9905 - val_loss: 0.4580 - val_accuracy: 0.7778\n",
            "Epoch 173/400\n",
            "72/72 [==============================] - 2s 23ms/step - loss: 0.0338 - accuracy: 0.9878 - val_loss: 0.5233 - val_accuracy: 0.8611\n",
            "Epoch 174/400\n",
            "72/72 [==============================] - 2s 23ms/step - loss: 0.0401 - accuracy: 0.9896 - val_loss: 0.5028 - val_accuracy: 0.8056\n",
            "Epoch 175/400\n",
            "72/72 [==============================] - 2s 23ms/step - loss: 0.0194 - accuracy: 0.9957 - val_loss: 0.3961 - val_accuracy: 0.8056\n",
            "Epoch 176/400\n",
            "72/72 [==============================] - 2s 22ms/step - loss: 0.0341 - accuracy: 0.9887 - val_loss: 0.2898 - val_accuracy: 0.8611\n",
            "Epoch 177/400\n",
            "72/72 [==============================] - 2s 22ms/step - loss: 0.0191 - accuracy: 0.9983 - val_loss: 0.3672 - val_accuracy: 0.8611\n",
            "Epoch 178/400\n",
            "72/72 [==============================] - 2s 22ms/step - loss: 0.0178 - accuracy: 0.9957 - val_loss: 0.5301 - val_accuracy: 0.7778\n",
            "Epoch 179/400\n",
            "72/72 [==============================] - 2s 22ms/step - loss: 0.0097 - accuracy: 0.9991 - val_loss: 0.5258 - val_accuracy: 0.8056\n",
            "Epoch 180/400\n",
            "72/72 [==============================] - 2s 22ms/step - loss: 0.0290 - accuracy: 0.9913 - val_loss: 0.7396 - val_accuracy: 0.7222\n",
            "Epoch 181/400\n",
            "72/72 [==============================] - 2s 21ms/step - loss: 0.0291 - accuracy: 0.9948 - val_loss: 0.5711 - val_accuracy: 0.7778\n",
            "Epoch 182/400\n",
            "72/72 [==============================] - 2s 22ms/step - loss: 0.0250 - accuracy: 0.9957 - val_loss: 0.4536 - val_accuracy: 0.8333\n",
            "Epoch 183/400\n",
            "72/72 [==============================] - 2s 22ms/step - loss: 0.0201 - accuracy: 0.9957 - val_loss: 0.4728 - val_accuracy: 0.7778\n",
            "Epoch 184/400\n",
            "72/72 [==============================] - 2s 21ms/step - loss: 0.0336 - accuracy: 0.9905 - val_loss: 0.3378 - val_accuracy: 0.8611\n",
            "Epoch 185/400\n",
            "72/72 [==============================] - 2s 22ms/step - loss: 0.0411 - accuracy: 0.9861 - val_loss: 0.5010 - val_accuracy: 0.8056\n",
            "Epoch 186/400\n",
            "72/72 [==============================] - 2s 22ms/step - loss: 0.0234 - accuracy: 0.9939 - val_loss: 0.5000 - val_accuracy: 0.8056\n",
            "Epoch 187/400\n",
            "72/72 [==============================] - 2s 22ms/step - loss: 0.0211 - accuracy: 0.9939 - val_loss: 0.4662 - val_accuracy: 0.7778\n",
            "Epoch 188/400\n",
            "72/72 [==============================] - 2s 23ms/step - loss: 0.0182 - accuracy: 0.9983 - val_loss: 0.6186 - val_accuracy: 0.8056\n",
            "Epoch 189/400\n",
            "72/72 [==============================] - 2s 21ms/step - loss: 0.0256 - accuracy: 0.9948 - val_loss: 0.2889 - val_accuracy: 0.8333\n",
            "Epoch 190/400\n",
            "72/72 [==============================] - 2s 23ms/step - loss: 0.0267 - accuracy: 0.9922 - val_loss: 0.4782 - val_accuracy: 0.8333\n",
            "Epoch 191/400\n",
            "72/72 [==============================] - 2s 22ms/step - loss: 0.0295 - accuracy: 0.9922 - val_loss: 0.4613 - val_accuracy: 0.8611\n",
            "Epoch 192/400\n",
            "72/72 [==============================] - 2s 22ms/step - loss: 0.0194 - accuracy: 0.9965 - val_loss: 0.3965 - val_accuracy: 0.8333\n",
            "Epoch 193/400\n",
            "72/72 [==============================] - 2s 22ms/step - loss: 0.0259 - accuracy: 0.9887 - val_loss: 0.4025 - val_accuracy: 0.8333\n",
            "Epoch 194/400\n",
            "72/72 [==============================] - 2s 22ms/step - loss: 0.0272 - accuracy: 0.9913 - val_loss: 0.3872 - val_accuracy: 0.8333\n",
            "Epoch 195/400\n",
            "72/72 [==============================] - 2s 22ms/step - loss: 0.0285 - accuracy: 0.9931 - val_loss: 0.4670 - val_accuracy: 0.8056\n",
            "Epoch 196/400\n",
            "72/72 [==============================] - 2s 21ms/step - loss: 0.0240 - accuracy: 0.9922 - val_loss: 0.5733 - val_accuracy: 0.7778\n",
            "Epoch 197/400\n",
            "72/72 [==============================] - 2s 21ms/step - loss: 0.0220 - accuracy: 0.9939 - val_loss: 0.3577 - val_accuracy: 0.8333\n",
            "Epoch 198/400\n",
            "72/72 [==============================] - 2s 23ms/step - loss: 0.0310 - accuracy: 0.9905 - val_loss: 0.6579 - val_accuracy: 0.7500\n",
            "Epoch 199/400\n",
            "72/72 [==============================] - 2s 24ms/step - loss: 0.0323 - accuracy: 0.9887 - val_loss: 0.4500 - val_accuracy: 0.7778\n",
            "Epoch 200/400\n",
            "72/72 [==============================] - 2s 24ms/step - loss: 0.0257 - accuracy: 0.9905 - val_loss: 0.7324 - val_accuracy: 0.7222\n",
            "Epoch 201/400\n",
            "72/72 [==============================] - 2s 25ms/step - loss: 0.0232 - accuracy: 0.9939 - val_loss: 0.5353 - val_accuracy: 0.8056\n",
            "Epoch 202/400\n",
            "72/72 [==============================] - 2s 22ms/step - loss: 0.0184 - accuracy: 0.9948 - val_loss: 0.5673 - val_accuracy: 0.8056\n",
            "Epoch 203/400\n",
            "72/72 [==============================] - 2s 22ms/step - loss: 0.0119 - accuracy: 0.9974 - val_loss: 0.5713 - val_accuracy: 0.8333\n",
            "Epoch 204/400\n",
            "72/72 [==============================] - 2s 22ms/step - loss: 0.0234 - accuracy: 0.9931 - val_loss: 0.4700 - val_accuracy: 0.7778\n",
            "Epoch 205/400\n",
            "72/72 [==============================] - 2s 22ms/step - loss: 0.0142 - accuracy: 0.9957 - val_loss: 0.5388 - val_accuracy: 0.7778\n",
            "Epoch 206/400\n",
            "72/72 [==============================] - 2s 22ms/step - loss: 0.0140 - accuracy: 0.9957 - val_loss: 0.5291 - val_accuracy: 0.8056\n",
            "Epoch 207/400\n",
            "72/72 [==============================] - 2s 23ms/step - loss: 0.0212 - accuracy: 0.9939 - val_loss: 0.3997 - val_accuracy: 0.8333\n",
            "Epoch 208/400\n",
            "72/72 [==============================] - 2s 22ms/step - loss: 0.0238 - accuracy: 0.9931 - val_loss: 0.4225 - val_accuracy: 0.8056\n",
            "Epoch 209/400\n",
            "72/72 [==============================] - 2s 22ms/step - loss: 0.0159 - accuracy: 0.9974 - val_loss: 0.4447 - val_accuracy: 0.8611\n",
            "Epoch 210/400\n",
            "72/72 [==============================] - 2s 22ms/step - loss: 0.0224 - accuracy: 0.9939 - val_loss: 0.8392 - val_accuracy: 0.7500\n",
            "Epoch 211/400\n",
            "72/72 [==============================] - 2s 22ms/step - loss: 0.0376 - accuracy: 0.9852 - val_loss: 0.6482 - val_accuracy: 0.7778\n",
            "Epoch 212/400\n",
            "72/72 [==============================] - 2s 23ms/step - loss: 0.0168 - accuracy: 0.9957 - val_loss: 0.4850 - val_accuracy: 0.8056\n",
            "Epoch 213/400\n",
            "72/72 [==============================] - 2s 22ms/step - loss: 0.0121 - accuracy: 0.9974 - val_loss: 0.4953 - val_accuracy: 0.8333\n",
            "Epoch 214/400\n",
            "72/72 [==============================] - 2s 22ms/step - loss: 0.0266 - accuracy: 0.9931 - val_loss: 0.4265 - val_accuracy: 0.8333\n",
            "Epoch 215/400\n",
            "72/72 [==============================] - 2s 21ms/step - loss: 0.0164 - accuracy: 0.9957 - val_loss: 0.4816 - val_accuracy: 0.7778\n",
            "Epoch 216/400\n",
            "72/72 [==============================] - 2s 22ms/step - loss: 0.0091 - accuracy: 0.9991 - val_loss: 0.4647 - val_accuracy: 0.8056\n",
            "Epoch 217/400\n",
            "72/72 [==============================] - 2s 21ms/step - loss: 0.0147 - accuracy: 0.9948 - val_loss: 0.4373 - val_accuracy: 0.8056\n",
            "Epoch 218/400\n",
            "72/72 [==============================] - 2s 22ms/step - loss: 0.0222 - accuracy: 0.9931 - val_loss: 0.4873 - val_accuracy: 0.8056\n",
            "Epoch 219/400\n",
            "72/72 [==============================] - 2s 22ms/step - loss: 0.0246 - accuracy: 0.9887 - val_loss: 0.7964 - val_accuracy: 0.7222\n",
            "Epoch 220/400\n",
            "72/72 [==============================] - 2s 23ms/step - loss: 0.0277 - accuracy: 0.9913 - val_loss: 0.4826 - val_accuracy: 0.7778\n",
            "Epoch 221/400\n",
            "72/72 [==============================] - 2s 22ms/step - loss: 0.0190 - accuracy: 0.9939 - val_loss: 0.5064 - val_accuracy: 0.8056\n",
            "Epoch 222/400\n",
            "72/72 [==============================] - 2s 21ms/step - loss: 0.0289 - accuracy: 0.9878 - val_loss: 0.6355 - val_accuracy: 0.7500\n",
            "Epoch 223/400\n",
            "72/72 [==============================] - 2s 22ms/step - loss: 0.0218 - accuracy: 0.9948 - val_loss: 0.5130 - val_accuracy: 0.7778\n",
            "Epoch 224/400\n",
            "72/72 [==============================] - 2s 21ms/step - loss: 0.0135 - accuracy: 0.9974 - val_loss: 0.5037 - val_accuracy: 0.8056\n",
            "Epoch 225/400\n",
            "72/72 [==============================] - 2s 22ms/step - loss: 0.0227 - accuracy: 0.9905 - val_loss: 0.6119 - val_accuracy: 0.7778\n",
            "Epoch 226/400\n",
            "72/72 [==============================] - 2s 22ms/step - loss: 0.0121 - accuracy: 0.9974 - val_loss: 0.5926 - val_accuracy: 0.8056\n",
            "Epoch 227/400\n",
            "72/72 [==============================] - 2s 22ms/step - loss: 0.0154 - accuracy: 0.9965 - val_loss: 0.4320 - val_accuracy: 0.8056\n",
            "Epoch 228/400\n",
            "72/72 [==============================] - 2s 22ms/step - loss: 0.0231 - accuracy: 0.9939 - val_loss: 0.4573 - val_accuracy: 0.8333\n",
            "Epoch 229/400\n",
            "72/72 [==============================] - 2s 22ms/step - loss: 0.0226 - accuracy: 0.9922 - val_loss: 0.7391 - val_accuracy: 0.7500\n",
            "Epoch 230/400\n",
            "72/72 [==============================] - 2s 23ms/step - loss: 0.0171 - accuracy: 0.9948 - val_loss: 0.4716 - val_accuracy: 0.8333\n",
            "Epoch 231/400\n",
            "72/72 [==============================] - 2s 25ms/step - loss: 0.0132 - accuracy: 0.9983 - val_loss: 0.5400 - val_accuracy: 0.8056\n",
            "Epoch 232/400\n",
            "72/72 [==============================] - 2s 23ms/step - loss: 0.0103 - accuracy: 0.9983 - val_loss: 0.7086 - val_accuracy: 0.7778\n",
            "Epoch 233/400\n",
            "72/72 [==============================] - 2s 23ms/step - loss: 0.0107 - accuracy: 0.9965 - val_loss: 0.4656 - val_accuracy: 0.8056\n",
            "Epoch 234/400\n",
            "72/72 [==============================] - 2s 22ms/step - loss: 0.0199 - accuracy: 0.9931 - val_loss: 0.6327 - val_accuracy: 0.8056\n",
            "Epoch 235/400\n",
            "72/72 [==============================] - 2s 22ms/step - loss: 0.0237 - accuracy: 0.9913 - val_loss: 0.3733 - val_accuracy: 0.8333\n",
            "Epoch 236/400\n",
            "72/72 [==============================] - 2s 23ms/step - loss: 0.0413 - accuracy: 0.9878 - val_loss: 0.3234 - val_accuracy: 0.8611\n",
            "Epoch 237/400\n",
            "72/72 [==============================] - 2s 23ms/step - loss: 0.0270 - accuracy: 0.9905 - val_loss: 0.6194 - val_accuracy: 0.7500\n",
            "Epoch 238/400\n",
            "72/72 [==============================] - 2s 22ms/step - loss: 0.0267 - accuracy: 0.9905 - val_loss: 0.4943 - val_accuracy: 0.8333\n",
            "Epoch 239/400\n",
            "72/72 [==============================] - 2s 22ms/step - loss: 0.0403 - accuracy: 0.9826 - val_loss: 0.6112 - val_accuracy: 0.7500\n",
            "Epoch 240/400\n",
            "72/72 [==============================] - 2s 23ms/step - loss: 0.0385 - accuracy: 0.9835 - val_loss: 0.3675 - val_accuracy: 0.8056\n",
            "Epoch 241/400\n",
            "72/72 [==============================] - 2s 21ms/step - loss: 0.0168 - accuracy: 0.9948 - val_loss: 0.6098 - val_accuracy: 0.7500\n",
            "Epoch 242/400\n",
            "72/72 [==============================] - 2s 22ms/step - loss: 0.0081 - accuracy: 0.9991 - val_loss: 0.4571 - val_accuracy: 0.8333\n",
            "Epoch 243/400\n",
            "72/72 [==============================] - 2s 22ms/step - loss: 0.0114 - accuracy: 0.9983 - val_loss: 0.6315 - val_accuracy: 0.8056\n",
            "Epoch 244/400\n",
            "72/72 [==============================] - 2s 22ms/step - loss: 0.0077 - accuracy: 0.9991 - val_loss: 0.5090 - val_accuracy: 0.7778\n",
            "Epoch 245/400\n",
            "72/72 [==============================] - 2s 22ms/step - loss: 0.0138 - accuracy: 0.9965 - val_loss: 0.4547 - val_accuracy: 0.8333\n",
            "Epoch 246/400\n",
            "72/72 [==============================] - 2s 21ms/step - loss: 0.0134 - accuracy: 0.9965 - val_loss: 0.4313 - val_accuracy: 0.8333\n",
            "Epoch 247/400\n",
            "72/72 [==============================] - 2s 21ms/step - loss: 0.0099 - accuracy: 0.9983 - val_loss: 0.5455 - val_accuracy: 0.7778\n",
            "Epoch 248/400\n",
            "72/72 [==============================] - 2s 21ms/step - loss: 0.0072 - accuracy: 0.9991 - val_loss: 0.4990 - val_accuracy: 0.8056\n",
            "Epoch 249/400\n",
            "72/72 [==============================] - 2s 22ms/step - loss: 0.0056 - accuracy: 1.0000 - val_loss: 0.5493 - val_accuracy: 0.7500\n",
            "Epoch 250/400\n",
            "72/72 [==============================] - 2s 22ms/step - loss: 0.0049 - accuracy: 1.0000 - val_loss: 0.4434 - val_accuracy: 0.8056\n",
            "Epoch 251/400\n",
            "72/72 [==============================] - 2s 21ms/step - loss: 0.0066 - accuracy: 0.9991 - val_loss: 0.6959 - val_accuracy: 0.8056\n",
            "Epoch 252/400\n",
            "72/72 [==============================] - 2s 21ms/step - loss: 0.0164 - accuracy: 0.9948 - val_loss: 0.5725 - val_accuracy: 0.7778\n",
            "Epoch 253/400\n",
            "72/72 [==============================] - 2s 22ms/step - loss: 0.0069 - accuracy: 1.0000 - val_loss: 0.4577 - val_accuracy: 0.7778\n",
            "Epoch 254/400\n",
            "72/72 [==============================] - 2s 22ms/step - loss: 0.0108 - accuracy: 0.9974 - val_loss: 0.4261 - val_accuracy: 0.8056\n",
            "Epoch 255/400\n",
            "72/72 [==============================] - 2s 22ms/step - loss: 0.0127 - accuracy: 0.9965 - val_loss: 0.6439 - val_accuracy: 0.7778\n",
            "Epoch 256/400\n",
            "72/72 [==============================] - 2s 22ms/step - loss: 0.0167 - accuracy: 0.9957 - val_loss: 0.7182 - val_accuracy: 0.8056\n",
            "Epoch 257/400\n",
            "72/72 [==============================] - 2s 22ms/step - loss: 0.0118 - accuracy: 0.9957 - val_loss: 0.6879 - val_accuracy: 0.8056\n",
            "Epoch 258/400\n",
            "72/72 [==============================] - 2s 22ms/step - loss: 0.0095 - accuracy: 0.9974 - val_loss: 0.4798 - val_accuracy: 0.8056\n",
            "Epoch 259/400\n",
            "72/72 [==============================] - 2s 22ms/step - loss: 0.0219 - accuracy: 0.9957 - val_loss: 0.5400 - val_accuracy: 0.7778\n",
            "Epoch 260/400\n",
            "72/72 [==============================] - 2s 22ms/step - loss: 0.0391 - accuracy: 0.9852 - val_loss: 0.4784 - val_accuracy: 0.8056\n",
            "Epoch 261/400\n",
            "72/72 [==============================] - 2s 22ms/step - loss: 0.0421 - accuracy: 0.9844 - val_loss: 0.5137 - val_accuracy: 0.8333\n",
            "Epoch 262/400\n",
            "72/72 [==============================] - 2s 23ms/step - loss: 0.0524 - accuracy: 0.9792 - val_loss: 0.3271 - val_accuracy: 0.8611\n",
            "Epoch 263/400\n",
            "72/72 [==============================] - 2s 23ms/step - loss: 0.0363 - accuracy: 0.9878 - val_loss: 0.3580 - val_accuracy: 0.8611\n",
            "Epoch 264/400\n",
            "72/72 [==============================] - 2s 21ms/step - loss: 0.0352 - accuracy: 0.9861 - val_loss: 0.4055 - val_accuracy: 0.8611\n",
            "Epoch 265/400\n",
            "72/72 [==============================] - 2s 22ms/step - loss: 0.0184 - accuracy: 0.9939 - val_loss: 0.3354 - val_accuracy: 0.8056\n",
            "Epoch 266/400\n",
            "72/72 [==============================] - 2s 22ms/step - loss: 0.0206 - accuracy: 0.9939 - val_loss: 0.3977 - val_accuracy: 0.8611\n",
            "Epoch 267/400\n",
            "72/72 [==============================] - 2s 22ms/step - loss: 0.0073 - accuracy: 0.9991 - val_loss: 0.4998 - val_accuracy: 0.8056\n",
            "Epoch 268/400\n",
            "72/72 [==============================] - 2s 22ms/step - loss: 0.0068 - accuracy: 0.9983 - val_loss: 0.7105 - val_accuracy: 0.7500\n",
            "Epoch 269/400\n",
            "72/72 [==============================] - 2s 23ms/step - loss: 0.0060 - accuracy: 0.9991 - val_loss: 0.4571 - val_accuracy: 0.8611\n",
            "Epoch 270/400\n",
            "72/72 [==============================] - 2s 22ms/step - loss: 0.0047 - accuracy: 1.0000 - val_loss: 0.4613 - val_accuracy: 0.7778\n",
            "Epoch 271/400\n",
            "72/72 [==============================] - 2s 21ms/step - loss: 0.0189 - accuracy: 0.9948 - val_loss: 0.7834 - val_accuracy: 0.7778\n",
            "Epoch 272/400\n",
            "72/72 [==============================] - 2s 22ms/step - loss: 0.0084 - accuracy: 1.0000 - val_loss: 0.4378 - val_accuracy: 0.8611\n",
            "Epoch 273/400\n",
            "72/72 [==============================] - 2s 22ms/step - loss: 0.0044 - accuracy: 0.9991 - val_loss: 0.4424 - val_accuracy: 0.8333\n",
            "Epoch 274/400\n",
            "72/72 [==============================] - 2s 22ms/step - loss: 0.0110 - accuracy: 0.9957 - val_loss: 0.5192 - val_accuracy: 0.8333\n",
            "Epoch 275/400\n",
            "72/72 [==============================] - 2s 21ms/step - loss: 0.0305 - accuracy: 0.9905 - val_loss: 0.6397 - val_accuracy: 0.7222\n",
            "Epoch 276/400\n",
            "72/72 [==============================] - 2s 23ms/step - loss: 0.0142 - accuracy: 0.9974 - val_loss: 0.5150 - val_accuracy: 0.7778\n",
            "Epoch 277/400\n",
            "72/72 [==============================] - 2s 22ms/step - loss: 0.0157 - accuracy: 0.9957 - val_loss: 0.5139 - val_accuracy: 0.7778\n",
            "Epoch 278/400\n",
            "72/72 [==============================] - 2s 22ms/step - loss: 0.0112 - accuracy: 0.9957 - val_loss: 0.5030 - val_accuracy: 0.7778\n",
            "Epoch 279/400\n",
            "72/72 [==============================] - 2s 24ms/step - loss: 0.0128 - accuracy: 0.9965 - val_loss: 0.5161 - val_accuracy: 0.8333\n",
            "Epoch 280/400\n",
            "72/72 [==============================] - 2s 22ms/step - loss: 0.0138 - accuracy: 0.9965 - val_loss: 0.4781 - val_accuracy: 0.8333\n",
            "Epoch 281/400\n",
            "72/72 [==============================] - 2s 22ms/step - loss: 0.0068 - accuracy: 0.9991 - val_loss: 0.5123 - val_accuracy: 0.8056\n",
            "Epoch 282/400\n",
            "72/72 [==============================] - 2s 23ms/step - loss: 0.0125 - accuracy: 0.9974 - val_loss: 0.6227 - val_accuracy: 0.8056\n",
            "Epoch 283/400\n",
            "72/72 [==============================] - 2s 23ms/step - loss: 0.0348 - accuracy: 0.9896 - val_loss: 0.4680 - val_accuracy: 0.7500\n",
            "Epoch 284/400\n",
            "72/72 [==============================] - 2s 22ms/step - loss: 0.0258 - accuracy: 0.9905 - val_loss: 0.4377 - val_accuracy: 0.8056\n",
            "Epoch 285/400\n",
            "72/72 [==============================] - 2s 22ms/step - loss: 0.0067 - accuracy: 1.0000 - val_loss: 0.4829 - val_accuracy: 0.8056\n",
            "Epoch 286/400\n",
            "72/72 [==============================] - 2s 22ms/step - loss: 0.0218 - accuracy: 0.9922 - val_loss: 0.7049 - val_accuracy: 0.7778\n",
            "Epoch 287/400\n",
            "72/72 [==============================] - 2s 22ms/step - loss: 0.0143 - accuracy: 0.9948 - val_loss: 0.3294 - val_accuracy: 0.8056\n",
            "Epoch 288/400\n",
            "72/72 [==============================] - 2s 22ms/step - loss: 0.0124 - accuracy: 0.9965 - val_loss: 0.4912 - val_accuracy: 0.8056\n",
            "Epoch 289/400\n",
            "72/72 [==============================] - 2s 22ms/step - loss: 0.0112 - accuracy: 0.9965 - val_loss: 0.4129 - val_accuracy: 0.8056\n",
            "Epoch 290/400\n",
            "72/72 [==============================] - 2s 22ms/step - loss: 0.0082 - accuracy: 0.9991 - val_loss: 0.5458 - val_accuracy: 0.7778\n",
            "Epoch 291/400\n",
            "72/72 [==============================] - 2s 22ms/step - loss: 0.0126 - accuracy: 0.9965 - val_loss: 0.5377 - val_accuracy: 0.8056\n",
            "Epoch 292/400\n",
            "72/72 [==============================] - 2s 22ms/step - loss: 0.0111 - accuracy: 0.9957 - val_loss: 0.5324 - val_accuracy: 0.8333\n",
            "Epoch 293/400\n",
            "72/72 [==============================] - 2s 23ms/step - loss: 0.0069 - accuracy: 1.0000 - val_loss: 0.4796 - val_accuracy: 0.8333\n",
            "Epoch 294/400\n",
            "72/72 [==============================] - 2s 22ms/step - loss: 0.0092 - accuracy: 0.9974 - val_loss: 0.7015 - val_accuracy: 0.7778\n",
            "Epoch 295/400\n",
            "72/72 [==============================] - 2s 23ms/step - loss: 0.0081 - accuracy: 0.9983 - val_loss: 0.6032 - val_accuracy: 0.7778\n",
            "Epoch 296/400\n",
            "72/72 [==============================] - 2s 22ms/step - loss: 0.0065 - accuracy: 0.9983 - val_loss: 0.2968 - val_accuracy: 0.8611\n",
            "Epoch 297/400\n",
            "72/72 [==============================] - 2s 23ms/step - loss: 0.0282 - accuracy: 0.9922 - val_loss: 0.6406 - val_accuracy: 0.8333\n",
            "Epoch 298/400\n",
            "72/72 [==============================] - 2s 22ms/step - loss: 0.0106 - accuracy: 0.9974 - val_loss: 0.6555 - val_accuracy: 0.7500\n",
            "Epoch 299/400\n",
            "72/72 [==============================] - 2s 23ms/step - loss: 0.0155 - accuracy: 0.9965 - val_loss: 0.5905 - val_accuracy: 0.7778\n",
            "Epoch 300/400\n",
            "72/72 [==============================] - 2s 22ms/step - loss: 0.0124 - accuracy: 0.9974 - val_loss: 0.4343 - val_accuracy: 0.8333\n",
            "Epoch 301/400\n",
            "72/72 [==============================] - 2s 22ms/step - loss: 0.0079 - accuracy: 0.9974 - val_loss: 0.6071 - val_accuracy: 0.8333\n",
            "Epoch 302/400\n",
            "72/72 [==============================] - 2s 22ms/step - loss: 0.0100 - accuracy: 0.9991 - val_loss: 0.6955 - val_accuracy: 0.7500\n",
            "Epoch 303/400\n",
            "72/72 [==============================] - 2s 22ms/step - loss: 0.0083 - accuracy: 0.9965 - val_loss: 0.5559 - val_accuracy: 0.7778\n",
            "Epoch 304/400\n",
            "72/72 [==============================] - 2s 22ms/step - loss: 0.0052 - accuracy: 1.0000 - val_loss: 0.5144 - val_accuracy: 0.8056\n",
            "Epoch 305/400\n",
            "72/72 [==============================] - 2s 23ms/step - loss: 0.0028 - accuracy: 1.0000 - val_loss: 0.4605 - val_accuracy: 0.8056\n",
            "Epoch 306/400\n",
            "72/72 [==============================] - 2s 23ms/step - loss: 0.0044 - accuracy: 0.9991 - val_loss: 0.4889 - val_accuracy: 0.8333\n",
            "Epoch 307/400\n",
            "72/72 [==============================] - 2s 23ms/step - loss: 0.0063 - accuracy: 0.9983 - val_loss: 0.5599 - val_accuracy: 0.8056\n",
            "Epoch 308/400\n",
            "72/72 [==============================] - 2s 23ms/step - loss: 0.0037 - accuracy: 1.0000 - val_loss: 0.6091 - val_accuracy: 0.7778\n",
            "Epoch 309/400\n",
            "72/72 [==============================] - 2s 22ms/step - loss: 0.0077 - accuracy: 0.9983 - val_loss: 0.3536 - val_accuracy: 0.8333\n",
            "Epoch 310/400\n",
            "72/72 [==============================] - 2s 23ms/step - loss: 0.0081 - accuracy: 0.9965 - val_loss: 0.3532 - val_accuracy: 0.8056\n",
            "Epoch 311/400\n",
            "72/72 [==============================] - 2s 25ms/step - loss: 0.0061 - accuracy: 1.0000 - val_loss: 0.4736 - val_accuracy: 0.8056\n",
            "Epoch 312/400\n",
            "72/72 [==============================] - 2s 25ms/step - loss: 0.0068 - accuracy: 0.9991 - val_loss: 0.4955 - val_accuracy: 0.8333\n",
            "Epoch 313/400\n",
            "72/72 [==============================] - 2s 24ms/step - loss: 0.0103 - accuracy: 0.9983 - val_loss: 0.7538 - val_accuracy: 0.7778\n",
            "Epoch 314/400\n",
            "72/72 [==============================] - 2s 23ms/step - loss: 0.0298 - accuracy: 0.9870 - val_loss: 0.3938 - val_accuracy: 0.8611\n",
            "Epoch 315/400\n",
            "72/72 [==============================] - 2s 22ms/step - loss: 0.0218 - accuracy: 0.9922 - val_loss: 0.4286 - val_accuracy: 0.7500\n",
            "Epoch 316/400\n",
            "72/72 [==============================] - 2s 24ms/step - loss: 0.0191 - accuracy: 0.9948 - val_loss: 0.6407 - val_accuracy: 0.8056\n",
            "Epoch 317/400\n",
            "72/72 [==============================] - 2s 22ms/step - loss: 0.0187 - accuracy: 0.9948 - val_loss: 0.5820 - val_accuracy: 0.8056\n",
            "Epoch 318/400\n",
            "72/72 [==============================] - 2s 23ms/step - loss: 0.0243 - accuracy: 0.9905 - val_loss: 0.4450 - val_accuracy: 0.8611\n",
            "Epoch 319/400\n",
            "72/72 [==============================] - 2s 22ms/step - loss: 0.0332 - accuracy: 0.9887 - val_loss: 0.5067 - val_accuracy: 0.8056\n",
            "Epoch 320/400\n",
            "72/72 [==============================] - 2s 23ms/step - loss: 0.0291 - accuracy: 0.9931 - val_loss: 0.6002 - val_accuracy: 0.7500\n",
            "Epoch 321/400\n",
            "72/72 [==============================] - 2s 23ms/step - loss: 0.0251 - accuracy: 0.9913 - val_loss: 0.4760 - val_accuracy: 0.7778\n",
            "Epoch 322/400\n",
            "72/72 [==============================] - 2s 25ms/step - loss: 0.0086 - accuracy: 0.9983 - val_loss: 0.3870 - val_accuracy: 0.8611\n",
            "Epoch 323/400\n",
            "72/72 [==============================] - 2s 24ms/step - loss: 0.0111 - accuracy: 0.9974 - val_loss: 0.4463 - val_accuracy: 0.8333\n",
            "Epoch 324/400\n",
            "72/72 [==============================] - 2s 24ms/step - loss: 0.0188 - accuracy: 0.9922 - val_loss: 0.4906 - val_accuracy: 0.8889\n",
            "Epoch 325/400\n",
            "72/72 [==============================] - 2s 25ms/step - loss: 0.0138 - accuracy: 0.9957 - val_loss: 0.5540 - val_accuracy: 0.8056\n",
            "Epoch 326/400\n",
            "72/72 [==============================] - 2s 23ms/step - loss: 0.0128 - accuracy: 0.9983 - val_loss: 0.8915 - val_accuracy: 0.7500\n",
            "Epoch 327/400\n",
            "72/72 [==============================] - 2s 23ms/step - loss: 0.0274 - accuracy: 0.9922 - val_loss: 0.6652 - val_accuracy: 0.8056\n",
            "Epoch 328/400\n",
            "72/72 [==============================] - 2s 24ms/step - loss: 0.0123 - accuracy: 0.9983 - val_loss: 0.5169 - val_accuracy: 0.7778\n",
            "Epoch 329/400\n",
            "72/72 [==============================] - 2s 24ms/step - loss: 0.0186 - accuracy: 0.9957 - val_loss: 0.4952 - val_accuracy: 0.8333\n",
            "Epoch 330/400\n",
            "72/72 [==============================] - 2s 22ms/step - loss: 0.0097 - accuracy: 0.9965 - val_loss: 0.5918 - val_accuracy: 0.8056\n",
            "Epoch 331/400\n",
            "72/72 [==============================] - 2s 23ms/step - loss: 0.0075 - accuracy: 0.9974 - val_loss: 0.5969 - val_accuracy: 0.7778\n",
            "Epoch 332/400\n",
            "72/72 [==============================] - 2s 22ms/step - loss: 0.0035 - accuracy: 1.0000 - val_loss: 0.6765 - val_accuracy: 0.7500\n",
            "Epoch 333/400\n",
            "72/72 [==============================] - 2s 22ms/step - loss: 0.0035 - accuracy: 1.0000 - val_loss: 0.6858 - val_accuracy: 0.8333\n",
            "Epoch 334/400\n",
            "72/72 [==============================] - 2s 22ms/step - loss: 0.0046 - accuracy: 1.0000 - val_loss: 0.5513 - val_accuracy: 0.8333\n",
            "Epoch 335/400\n",
            "72/72 [==============================] - 2s 22ms/step - loss: 0.0036 - accuracy: 1.0000 - val_loss: 0.5706 - val_accuracy: 0.8056\n",
            "Epoch 336/400\n",
            "72/72 [==============================] - 2s 23ms/step - loss: 0.0021 - accuracy: 1.0000 - val_loss: 0.6139 - val_accuracy: 0.8333\n",
            "Epoch 337/400\n",
            "72/72 [==============================] - 2s 22ms/step - loss: 0.0038 - accuracy: 0.9991 - val_loss: 0.5962 - val_accuracy: 0.8056\n",
            "Epoch 338/400\n",
            "72/72 [==============================] - 2s 23ms/step - loss: 0.0028 - accuracy: 0.9991 - val_loss: 0.4944 - val_accuracy: 0.8333\n",
            "Epoch 339/400\n",
            "72/72 [==============================] - 2s 22ms/step - loss: 0.0058 - accuracy: 0.9991 - val_loss: 0.6690 - val_accuracy: 0.7500\n",
            "Epoch 340/400\n",
            "72/72 [==============================] - 2s 23ms/step - loss: 0.0223 - accuracy: 0.9931 - val_loss: 0.5351 - val_accuracy: 0.7778\n",
            "Epoch 341/400\n",
            "72/72 [==============================] - 2s 24ms/step - loss: 0.0173 - accuracy: 0.9957 - val_loss: 0.7311 - val_accuracy: 0.8056\n",
            "Epoch 342/400\n",
            "72/72 [==============================] - 2s 23ms/step - loss: 0.0163 - accuracy: 0.9965 - val_loss: 0.4815 - val_accuracy: 0.8056\n",
            "Epoch 343/400\n",
            "72/72 [==============================] - 2s 23ms/step - loss: 0.0152 - accuracy: 0.9957 - val_loss: 0.8016 - val_accuracy: 0.6944\n",
            "Epoch 344/400\n",
            "72/72 [==============================] - 2s 22ms/step - loss: 0.0106 - accuracy: 0.9983 - val_loss: 0.4156 - val_accuracy: 0.8333\n",
            "Epoch 345/400\n",
            "72/72 [==============================] - 2s 24ms/step - loss: 0.0078 - accuracy: 0.9983 - val_loss: 0.4681 - val_accuracy: 0.8056\n",
            "Epoch 346/400\n",
            "72/72 [==============================] - 2s 22ms/step - loss: 0.0073 - accuracy: 0.9991 - val_loss: 0.4600 - val_accuracy: 0.7778\n",
            "Epoch 347/400\n",
            "72/72 [==============================] - 2s 23ms/step - loss: 0.0088 - accuracy: 0.9983 - val_loss: 0.5529 - val_accuracy: 0.7778\n",
            "Epoch 348/400\n",
            "72/72 [==============================] - 2s 22ms/step - loss: 0.0327 - accuracy: 0.9905 - val_loss: 0.4709 - val_accuracy: 0.8333\n",
            "Epoch 349/400\n",
            "72/72 [==============================] - 2s 22ms/step - loss: 0.0305 - accuracy: 0.9905 - val_loss: 0.6701 - val_accuracy: 0.7778\n",
            "Epoch 350/400\n",
            "72/72 [==============================] - 2s 22ms/step - loss: 0.0263 - accuracy: 0.9905 - val_loss: 0.8729 - val_accuracy: 0.7500\n",
            "Epoch 351/400\n",
            "72/72 [==============================] - 2s 22ms/step - loss: 0.0201 - accuracy: 0.9913 - val_loss: 0.6469 - val_accuracy: 0.7778\n",
            "Epoch 352/400\n",
            "72/72 [==============================] - 2s 23ms/step - loss: 0.0063 - accuracy: 0.9991 - val_loss: 0.6355 - val_accuracy: 0.8056\n",
            "Epoch 353/400\n",
            "72/72 [==============================] - 2s 22ms/step - loss: 0.0032 - accuracy: 1.0000 - val_loss: 0.5605 - val_accuracy: 0.8056\n",
            "Epoch 354/400\n",
            "72/72 [==============================] - 2s 23ms/step - loss: 0.0037 - accuracy: 1.0000 - val_loss: 0.7130 - val_accuracy: 0.7778\n",
            "Epoch 355/400\n",
            "72/72 [==============================] - 2s 24ms/step - loss: 0.0060 - accuracy: 0.9991 - val_loss: 0.7711 - val_accuracy: 0.7778\n",
            "Epoch 356/400\n",
            "72/72 [==============================] - 2s 24ms/step - loss: 0.0126 - accuracy: 0.9931 - val_loss: 0.5641 - val_accuracy: 0.8056\n",
            "Epoch 357/400\n",
            "72/72 [==============================] - 2s 23ms/step - loss: 0.0154 - accuracy: 0.9948 - val_loss: 0.8200 - val_accuracy: 0.7778\n",
            "Epoch 358/400\n",
            "72/72 [==============================] - 2s 23ms/step - loss: 0.0169 - accuracy: 0.9939 - val_loss: 0.6285 - val_accuracy: 0.8333\n",
            "Epoch 359/400\n",
            "72/72 [==============================] - 2s 23ms/step - loss: 0.0160 - accuracy: 0.9948 - val_loss: 0.4438 - val_accuracy: 0.8333\n",
            "Epoch 360/400\n",
            "72/72 [==============================] - 2s 23ms/step - loss: 0.0059 - accuracy: 0.9991 - val_loss: 0.4428 - val_accuracy: 0.8333\n",
            "Epoch 361/400\n",
            "72/72 [==============================] - 2s 23ms/step - loss: 0.0104 - accuracy: 0.9974 - val_loss: 0.5725 - val_accuracy: 0.8056\n",
            "Epoch 362/400\n",
            "72/72 [==============================] - 2s 22ms/step - loss: 0.0113 - accuracy: 0.9983 - val_loss: 0.4249 - val_accuracy: 0.8333\n",
            "Epoch 363/400\n",
            "72/72 [==============================] - 2s 22ms/step - loss: 0.0074 - accuracy: 0.9974 - val_loss: 0.4184 - val_accuracy: 0.8333\n",
            "Epoch 364/400\n",
            "72/72 [==============================] - 2s 23ms/step - loss: 0.0172 - accuracy: 0.9948 - val_loss: 0.7851 - val_accuracy: 0.7222\n",
            "Epoch 365/400\n",
            "72/72 [==============================] - 2s 23ms/step - loss: 0.0039 - accuracy: 1.0000 - val_loss: 0.6190 - val_accuracy: 0.8056\n",
            "Epoch 366/400\n",
            "72/72 [==============================] - 2s 23ms/step - loss: 0.0072 - accuracy: 0.9983 - val_loss: 0.5321 - val_accuracy: 0.7778\n",
            "Epoch 367/400\n",
            "72/72 [==============================] - 2s 24ms/step - loss: 0.0173 - accuracy: 0.9931 - val_loss: 0.4979 - val_accuracy: 0.8333\n",
            "Epoch 368/400\n",
            "72/72 [==============================] - 2s 23ms/step - loss: 0.0110 - accuracy: 0.9965 - val_loss: 0.5749 - val_accuracy: 0.7778\n",
            "Epoch 369/400\n",
            "72/72 [==============================] - 2s 23ms/step - loss: 0.0072 - accuracy: 0.9991 - val_loss: 0.5249 - val_accuracy: 0.8056\n",
            "Epoch 370/400\n",
            "72/72 [==============================] - 2s 22ms/step - loss: 0.0226 - accuracy: 0.9922 - val_loss: 0.9819 - val_accuracy: 0.7778\n",
            "Epoch 371/400\n",
            "72/72 [==============================] - 2s 22ms/step - loss: 0.0223 - accuracy: 0.9896 - val_loss: 0.5983 - val_accuracy: 0.8056\n",
            "Epoch 372/400\n",
            "72/72 [==============================] - 2s 24ms/step - loss: 0.0132 - accuracy: 0.9974 - val_loss: 0.5264 - val_accuracy: 0.8056\n",
            "Epoch 373/400\n",
            "72/72 [==============================] - 2s 24ms/step - loss: 0.0073 - accuracy: 0.9974 - val_loss: 0.5730 - val_accuracy: 0.8333\n",
            "Epoch 374/400\n",
            "72/72 [==============================] - 2s 23ms/step - loss: 0.0052 - accuracy: 0.9983 - val_loss: 0.6471 - val_accuracy: 0.8056\n",
            "Epoch 375/400\n",
            "72/72 [==============================] - 2s 22ms/step - loss: 0.0112 - accuracy: 0.9974 - val_loss: 0.5947 - val_accuracy: 0.8333\n",
            "Epoch 376/400\n",
            "72/72 [==============================] - 2s 22ms/step - loss: 0.0093 - accuracy: 0.9965 - val_loss: 0.6658 - val_accuracy: 0.8056\n",
            "Epoch 377/400\n",
            "72/72 [==============================] - 2s 24ms/step - loss: 0.0131 - accuracy: 0.9948 - val_loss: 0.6995 - val_accuracy: 0.7222\n",
            "Epoch 378/400\n",
            "72/72 [==============================] - 2s 23ms/step - loss: 0.0102 - accuracy: 0.9974 - val_loss: 0.6620 - val_accuracy: 0.8056\n",
            "Epoch 379/400\n",
            "72/72 [==============================] - 2s 24ms/step - loss: 0.0068 - accuracy: 0.9983 - val_loss: 0.5760 - val_accuracy: 0.8056\n",
            "Epoch 380/400\n",
            "72/72 [==============================] - 2s 23ms/step - loss: 0.0137 - accuracy: 0.9957 - val_loss: 0.8807 - val_accuracy: 0.7500\n",
            "Epoch 381/400\n",
            "72/72 [==============================] - 2s 23ms/step - loss: 0.0155 - accuracy: 0.9948 - val_loss: 0.9700 - val_accuracy: 0.7500\n",
            "Epoch 382/400\n",
            "72/72 [==============================] - 2s 23ms/step - loss: 0.0119 - accuracy: 0.9983 - val_loss: 0.4363 - val_accuracy: 0.8333\n",
            "Epoch 383/400\n",
            "72/72 [==============================] - 2s 24ms/step - loss: 0.0056 - accuracy: 0.9991 - val_loss: 0.4769 - val_accuracy: 0.7778\n",
            "Epoch 384/400\n",
            "72/72 [==============================] - 2s 23ms/step - loss: 0.0043 - accuracy: 0.9983 - val_loss: 0.3895 - val_accuracy: 0.8333\n",
            "Epoch 385/400\n",
            "72/72 [==============================] - 2s 24ms/step - loss: 0.0064 - accuracy: 0.9983 - val_loss: 0.4363 - val_accuracy: 0.8611\n",
            "Epoch 386/400\n",
            "72/72 [==============================] - 2s 24ms/step - loss: 0.0070 - accuracy: 0.9974 - val_loss: 0.4057 - val_accuracy: 0.8333\n",
            "Epoch 387/400\n",
            "72/72 [==============================] - 2s 24ms/step - loss: 0.0074 - accuracy: 0.9983 - val_loss: 0.5741 - val_accuracy: 0.8611\n",
            "Epoch 388/400\n",
            "72/72 [==============================] - 2s 23ms/step - loss: 0.0048 - accuracy: 0.9983 - val_loss: 0.8227 - val_accuracy: 0.7778\n",
            "Epoch 389/400\n",
            "72/72 [==============================] - 2s 23ms/step - loss: 0.0129 - accuracy: 0.9983 - val_loss: 0.5636 - val_accuracy: 0.8056\n",
            "Epoch 390/400\n",
            "72/72 [==============================] - 2s 24ms/step - loss: 0.0108 - accuracy: 0.9974 - val_loss: 0.7913 - val_accuracy: 0.7222\n",
            "Epoch 391/400\n",
            "72/72 [==============================] - 2s 23ms/step - loss: 0.0045 - accuracy: 1.0000 - val_loss: 0.7858 - val_accuracy: 0.6944\n",
            "Epoch 392/400\n",
            "72/72 [==============================] - 2s 24ms/step - loss: 0.0032 - accuracy: 1.0000 - val_loss: 0.5348 - val_accuracy: 0.7778\n",
            "Epoch 393/400\n",
            "72/72 [==============================] - 2s 22ms/step - loss: 0.0074 - accuracy: 0.9974 - val_loss: 0.3876 - val_accuracy: 0.8889\n",
            "Epoch 394/400\n",
            "72/72 [==============================] - 2s 23ms/step - loss: 0.0064 - accuracy: 0.9983 - val_loss: 0.5681 - val_accuracy: 0.8056\n",
            "Epoch 395/400\n",
            "72/72 [==============================] - 2s 23ms/step - loss: 0.0064 - accuracy: 0.9983 - val_loss: 0.7066 - val_accuracy: 0.7778\n",
            "Epoch 396/400\n",
            "72/72 [==============================] - 2s 24ms/step - loss: 0.0042 - accuracy: 0.9983 - val_loss: 0.5103 - val_accuracy: 0.8056\n",
            "Epoch 397/400\n",
            "72/72 [==============================] - 2s 23ms/step - loss: 0.0022 - accuracy: 1.0000 - val_loss: 0.5468 - val_accuracy: 0.8056\n",
            "Epoch 398/400\n",
            "72/72 [==============================] - 2s 23ms/step - loss: 0.0020 - accuracy: 1.0000 - val_loss: 0.6052 - val_accuracy: 0.7778\n",
            "Epoch 399/400\n",
            "72/72 [==============================] - 2s 26ms/step - loss: 0.0127 - accuracy: 0.9957 - val_loss: 0.8160 - val_accuracy: 0.7500\n",
            "Epoch 400/400\n",
            "72/72 [==============================] - 2s 23ms/step - loss: 0.0055 - accuracy: 0.9991 - val_loss: 0.4967 - val_accuracy: 0.8056\n"
          ]
        }
      ],
      "source": [
        "cnnhistory=model.fit(x_train, y_train, batch_size=16, epochs=400,validation_data=(x_valid, emo_valid))"
      ]
    },
    {
      "cell_type": "code",
      "execution_count": 21,
      "metadata": {
        "colab": {
          "base_uri": "https://localhost:8080/"
        },
        "id": "EWT6F8K425LT",
        "outputId": "7fc83d06-94ea-44e1-a6a4-9ce6e41b05a7"
      },
      "outputs": [
        {
          "output_type": "stream",
          "name": "stdout",
          "text": [
            "0.9611566822975874\n"
          ]
        }
      ],
      "source": [
        "ava_acc=np.mean(cnnhistory.history['accuracy']) # numpy assumed imported as np\n",
        "print(ava_acc)"
      ]
    },
    {
      "cell_type": "code",
      "execution_count": 22,
      "metadata": {
        "colab": {
          "base_uri": "https://localhost:8080/",
          "height": 295
        },
        "id": "3_HGLS8F29Qr",
        "outputId": "9bcb435c-f985-4485-9fae-3006c2444efe"
      },
      "outputs": [
        {
          "output_type": "display_data",
          "data": {
            "image/png": "[encoded data removed]",
            "text/plain": [
              "<Figure size 432x288 with 1 Axes>"
            ]
          },
          "metadata": {
            "needs_background": "light"
          }
        }
      ],
      "source": [
        "plt.plot(cnnhistory.history['loss'])\n",
        "plt.plot(cnnhistory.history['val_loss'])\n",
        "plt.title('model loss')\n",
        "plt.ylabel('loss')\n",
        "plt.xlabel('epoch')\n",
        "plt.legend(['train', 'valid'], loc='upper left')\n",
        "plt.show()"
      ]
    },
    {
      "cell_type": "code",
      "execution_count": 23,
      "metadata": {
        "colab": {
          "base_uri": "https://localhost:8080/",
          "height": 295
        },
        "id": "YlkBpKyX3El2",
        "outputId": "abfea4ba-d3ef-4074-e475-b5220b0225f9"
      },
      "outputs": [
        {
          "output_type": "display_data",
          "data": {
            "image/png": "[encoded data removed]",
            "text/plain": [
              "<Figure size 432x288 with 1 Axes>"
            ]
          },
          "metadata": {
            "needs_background": "light"
          }
        }
      ],
      "source": [
        "plt.plot(cnnhistory.history['accuracy'])\n",
        "plt.plot(cnnhistory.history['val_accuracy'])\n",
        "plt.title('model accuracy')\n",
        "plt.ylabel('accuracy')\n",
        "plt.xlabel('epoch')\n",
        "plt.legend(['train', 'valid'], loc='upper left')\n",
        "plt.show()"
      ]
    },
    {
      "cell_type": "code",
      "execution_count": 24,
      "metadata": {
        "colab": {
          "base_uri": "https://localhost:8080/"
        },
        "id": "jVaxLrTj3Hxc",
        "outputId": "d7d58f9f-3627-4b5f-dec7-4b78dbfabe88"
      },
      "outputs": [
        {
          "output_type": "execute_result",
          "data": {
            "text/plain": [
              "array([[9.99999762e-01, 4.02139558e-13, 7.24186119e-13, 2.13038717e-07,\n",
              "        2.13097630e-11, 6.81063790e-18],\n",
              "       [4.64277505e-09, 4.24458951e-01, 5.74484110e-01, 1.04840154e-07,\n",
              "        1.05686008e-03, 6.05665684e-10],\n",
              "       [9.99992847e-01, 2.39948577e-07, 3.07057374e-12, 6.06177855e-06,\n",
              "        8.28732936e-07, 6.39795291e-12],\n",
              "       [7.16699380e-03, 3.03201880e-02, 3.18247676e-01, 7.82211404e-03,\n",
              "        6.36442184e-01, 8.80233813e-07],\n",
              "       [1.10778027e-14, 9.98096287e-01, 2.67979021e-06, 1.90097548e-03,\n",
              "        9.18297438e-09, 3.16892860e-17],\n",
              "       [2.34937936e-08, 6.98978156e-02, 8.06823432e-01, 1.12251109e-05,\n",
              "        1.23267516e-01, 6.21458263e-09],\n",
              "       [6.10921105e-11, 3.34959506e-04, 3.45912543e-09, 9.99664545e-01,\n",
              "        4.68665974e-07, 5.81675101e-16],\n",
              "       [1.88169622e-07, 9.99984622e-01, 7.01072986e-06, 6.89684020e-06,\n",
              "        1.13337842e-06, 2.29247454e-11],\n",
              "       [5.02273963e-07, 5.03921732e-02, 9.46564853e-01, 7.62650045e-04,\n",
              "        2.27985857e-03, 7.33074224e-09],\n",
              "       [9.54597414e-01, 3.92195032e-09, 8.95941765e-10, 4.54024374e-02,\n",
              "        7.64799779e-08, 2.31579968e-12],\n",
              "       [9.18928301e-04, 3.72867875e-10, 1.56369229e-08, 2.87510445e-12,\n",
              "        9.99081016e-01, 1.85688223e-14],\n",
              "       [9.89226034e-10, 3.22345465e-01, 2.58061498e-01, 3.60976685e-07,\n",
              "        4.19592619e-01, 1.07294659e-10],\n",
              "       [5.67508823e-06, 4.49584877e-05, 9.99698043e-01, 5.21949005e-05,\n",
              "        1.99102462e-04, 1.42324319e-09],\n",
              "       [6.37330534e-03, 3.78934294e-03, 3.14473527e-06, 9.88692641e-01,\n",
              "        1.14160706e-03, 7.35730854e-09],\n",
              "       [5.45466086e-04, 5.49611577e-04, 3.76558751e-01, 3.63216677e-04,\n",
              "        6.21982872e-01, 1.26288171e-07],\n",
              "       [9.99974608e-01, 4.87835905e-09, 2.54536104e-07, 2.51074543e-05,\n",
              "        1.11711862e-09, 1.68896429e-12],\n",
              "       [9.29617286e-11, 7.69704158e-08, 5.35937765e-08, 5.71126566e-12,\n",
              "        9.99999881e-01, 1.50063515e-13],\n",
              "       [3.52249073e-04, 3.13423044e-07, 3.26325477e-07, 9.99647021e-01,\n",
              "        1.44841820e-07, 2.97505326e-10],\n",
              "       [9.99997616e-01, 1.02642495e-09, 3.00971487e-13, 5.27788693e-08,\n",
              "        2.34789172e-06, 1.41213782e-13],\n",
              "       [1.53134806e-07, 2.05765449e-04, 3.96302305e-02, 8.54754944e-06,\n",
              "        9.60155308e-01, 8.52680315e-10],\n",
              "       [1.11749294e-07, 8.34593550e-07, 2.65854895e-01, 6.75191529e-07,\n",
              "        7.34143436e-01, 1.27836991e-10],\n",
              "       [1.19181341e-05, 2.11659539e-02, 2.60674092e-03, 6.56360939e-08,\n",
              "        9.76215363e-01, 1.14493046e-08],\n",
              "       [1.36054206e-11, 9.79617238e-02, 9.00875330e-01, 9.92337391e-06,\n",
              "        1.15308946e-03, 5.88110696e-14],\n",
              "       [9.99929309e-01, 1.36073390e-06, 2.91313550e-13, 6.92917456e-05,\n",
              "        1.29373603e-07, 8.36272544e-12],\n",
              "       [2.69992654e-07, 5.89684409e-04, 6.41249400e-03, 5.05676496e-07,\n",
              "        9.92997110e-01, 2.57354582e-08],\n",
              "       [9.99996662e-01, 2.67605627e-09, 1.20095331e-11, 7.53081792e-07,\n",
              "        2.65213248e-06, 2.57065311e-13],\n",
              "       [3.67262203e-08, 1.96641395e-05, 1.41706422e-03, 5.21642960e-06,\n",
              "        9.98557985e-01, 6.35955233e-10],\n",
              "       [2.72492238e-04, 3.96917994e-06, 6.66899145e-01, 2.38571010e-04,\n",
              "        3.32585871e-01, 3.98459088e-09],\n",
              "       [6.08394980e-01, 1.61655387e-03, 3.50472576e-04, 1.75564915e-01,\n",
              "        2.14072987e-01, 7.81017562e-08],\n",
              "       [9.99999762e-01, 1.35865798e-11, 6.98840779e-13, 2.31202620e-07,\n",
              "        1.58173812e-08, 5.65739076e-16],\n",
              "       [7.04958588e-02, 4.57392493e-03, 3.60557903e-03, 6.02455635e-04,\n",
              "        9.20722187e-01, 1.43007262e-09],\n",
              "       [4.14516848e-07, 3.89665189e-09, 5.89331431e-11, 9.99999523e-01,\n",
              "        1.02456876e-09, 6.29336047e-13],\n",
              "       [1.51147733e-10, 4.89481807e-01, 2.30777161e-10, 5.10517716e-01,\n",
              "        4.06148843e-07, 6.50634528e-17],\n",
              "       [4.08298956e-06, 3.31536680e-02, 9.66300786e-01, 3.06090328e-06,\n",
              "        5.38250897e-04, 1.73253423e-09],\n",
              "       [1.71406835e-04, 5.58486954e-06, 3.57227486e-06, 6.99736063e-07,\n",
              "        9.99818742e-01, 6.28645955e-11],\n",
              "       [9.93952248e-03, 1.00165607e-05, 2.86825775e-06, 9.90040839e-01,\n",
              "        6.69837254e-06, 3.83022680e-09]], dtype=float32)"
            ]
          },
          "metadata": {},
          "execution_count": 24
        }
      ],
      "source": [
        "#predictions = model.predict_classes(x_testcnn)\n",
        "predictions = model.predict(x_test)\n",
        "predictions"
      ]
    },
    {
      "cell_type": "code",
      "execution_count": 25,
      "metadata": {
        "colab": {
          "base_uri": "https://localhost:8080/"
        },
        "id": "Y01xRIqN3Kv7",
        "outputId": "309437fb-c73e-4ed9-9967-798922f0a4c8"
      },
      "outputs": [
        {
          "output_type": "execute_result",
          "data": {
            "text/plain": [
              "array([0, 2, 0, 2, 1, 1, 3, 1, 2, 0, 4, 4, 2, 3, 4, 0, 4, 0, 0, 4, 4, 1,\n",
              "       2, 0, 4, 0, 4, 2, 0, 0, 1, 3, 3, 2, 4, 0])"
            ]
          },
          "metadata": {},
          "execution_count": 25
        }
      ],
      "source": [
        "emo_test"
      ]
    },
    {
      "cell_type": "code",
      "execution_count": 26,
      "metadata": {
        "colab": {
          "base_uri": "https://localhost:8080/"
        },
        "id": "DLhoAcuI3N3Z",
        "outputId": "367dcad1-0074-4a33-d417-2b950167d247"
      },
      "outputs": [
        {
          "output_type": "execute_result",
          "data": {
            "text/plain": [
              "array([0, 2, 0, 2, 1, 1, 3, 1, 2, 0, 4, 4, 2, 3, 4, 0, 4, 0, 0, 4, 4, 1,\n",
              "       2, 0, 4, 0, 4, 2, 0, 0, 1, 3, 3, 2, 4, 0])"
            ]
          },
          "metadata": {},
          "execution_count": 26
        }
      ],
      "source": [
        "new_Ytest = emo_test.astype(int)\n",
        "new_Ytest"
      ]
    },
    {
      "cell_type": "code",
      "execution_count": 27,
      "metadata": {
        "colab": {
          "base_uri": "https://localhost:8080/"
        },
        "id": "msg0xsZw3ROh",
        "outputId": "1abe2971-3366-46bc-9ec3-90e9026cc666"
      },
      "outputs": [
        {
          "output_type": "execute_result",
          "data": {
            "text/plain": [
              "array([0, 2, 0, 4, 1, 2, 3, 1, 2, 0, 4, 4, 2, 3, 4, 0, 4, 3, 0, 4, 4, 4,\n",
              "       2, 0, 4, 0, 4, 2, 0, 0, 4, 3, 3, 2, 4, 3])"
            ]
          },
          "metadata": {},
          "execution_count": 27
        }
      ],
      "source": [
        "preds1=predictions.argmax(axis=1)\n",
        "preds1"
      ]
    },
    {
      "cell_type": "code",
      "execution_count": 28,
      "metadata": {
        "colab": {
          "base_uri": "https://localhost:8080/"
        },
        "id": "-nADWckp3UHg",
        "outputId": "f7056cca-b003-46ba-cdee-458de5f4494a"
      },
      "outputs": [
        {
          "output_type": "execute_result",
          "data": {
            "text/plain": [
              "array([[9, 0, 0, 2, 0],\n",
              "       [0, 2, 1, 0, 2],\n",
              "       [0, 0, 6, 0, 1],\n",
              "       [0, 0, 0, 4, 0],\n",
              "       [0, 0, 0, 0, 9]])"
            ]
          },
          "metadata": {},
          "execution_count": 28
        }
      ],
      "source": [
        "abc = preds1.astype(int).flatten()\n",
        "from sklearn.metrics import confusion_matrix\n",
        "c = confusion_matrix(new_Ytest, abc) \n",
        "c"
      ]
    },
    {
      "cell_type": "code",
      "execution_count": 29,
      "metadata": {
        "colab": {
          "base_uri": "https://localhost:8080/"
        },
        "id": "2fbTq6qW3UOm",
        "outputId": "59b9c4d6-f6db-4fe9-ca57-69dc09161b1d"
      },
      "outputs": [
        {
          "output_type": "execute_result",
          "data": {
            "text/plain": [
              "array([0, 2, 0, 2, 1, 1, 3, 1, 2, 0, 4, 4, 2, 3, 4, 0, 4, 0, 0, 4, 4, 1,\n",
              "       2, 0, 4, 0, 4, 2, 0, 0, 1, 3, 3, 2, 4, 0])"
            ]
          },
          "metadata": {},
          "execution_count": 29
        }
      ],
      "source": [
        "emo_test"
      ]
    },
    {
      "cell_type": "code",
      "execution_count": null,
      "metadata": {
        "colab": {
          "base_uri": "https://localhost:8080/"
        },
        "id": "vcuBTzA93UQk",
        "outputId": "66daa917-2408-41a5-f703-47f61f54d807"
      },
      "outputs": [
        {
          "name": "stdout",
          "output_type": "stream",
          "text": [
            "INFO:tensorflow:Assets written to: /content/drive/My Drive/graduation project/audio/model/bestloss2/assets\n",
            "MODEL SAVED\n"
          ]
        }
      ],
      "source": [
        "#model.save('/content/drive/My Drive/augmanted_radvass')\n",
        "model.save('/content/drive/My Drive/graduation project/audio/model/bestloss2')\n",
        "print(\"MODEL SAVED\")"
      ]
    },
    {
      "cell_type": "code",
      "execution_count": null,
      "metadata": {
        "colab": {
          "base_uri": "https://localhost:8080/"
        },
        "id": "gleoIwgk3aRm",
        "outputId": "1c5483f9-af16-41e1-9765-13a64fd3b64c"
      },
      "outputs": [
        {
          "name": "stdout",
          "output_type": "stream",
          "text": [
            "Model: \"sequential_4\"\n",
            "_________________________________________________________________\n",
            " Layer (type)                Output Shape              Param #   \n",
            "=================================================================\n",
            " batch_normalization_6 (Batc  (None, 40, 1)            4         \n",
            " hNormalization)                                                 \n",
            "                                                                 \n",
            " conv1d_8 (Conv1D)           (None, 40, 128)           1664      \n",
            "                                                                 \n",
            " batch_normalization_7 (Batc  (None, 40, 128)          512       \n",
            " hNormalization)                                                 \n",
            "                                                                 \n",
            " activation_12 (Activation)  (None, 40, 128)           0         \n",
            "                                                                 \n",
            " dropout_8 (Dropout)         (None, 40, 128)           0         \n",
            "                                                                 \n",
            " max_pooling1d_8 (MaxPooling  (None, 8, 128)           0         \n",
            " 1D)                                                             \n",
            "                                                                 \n",
            " conv1d_9 (Conv1D)           (None, 8, 256)            393472    \n",
            "                                                                 \n",
            " batch_normalization_8 (Batc  (None, 8, 256)           1024      \n",
            " hNormalization)                                                 \n",
            "                                                                 \n",
            " activation_13 (Activation)  (None, 8, 256)            0         \n",
            "                                                                 \n",
            " dropout_9 (Dropout)         (None, 8, 256)            0         \n",
            "                                                                 \n",
            " max_pooling1d_9 (MaxPooling  (None, 1, 256)           0         \n",
            " 1D)                                                             \n",
            "                                                                 \n",
            " flatten_4 (Flatten)         (None, 256)               0         \n",
            "                                                                 \n",
            " dense_4 (Dense)             (None, 6)                 1542      \n",
            "                                                                 \n",
            " activation_14 (Activation)  (None, 6)                 0         \n",
            "                                                                 \n",
            "=================================================================\n",
            "Total params: 398,218\n",
            "Trainable params: 397,448\n",
            "Non-trainable params: 770\n",
            "_________________________________________________________________\n"
          ]
        }
      ],
      "source": [
        "#new_model=keras.models.load_model('/content/drive/My Drive/augmanted_radvass')\n",
        "new_model=keras.models.load_model('/content/drive/My Drive/graduation project/audio/model/bestloss2')\n",
        "new_model.summary()"
      ]
    },
    {
      "cell_type": "code",
      "execution_count": 30,
      "metadata": {
        "colab": {
          "base_uri": "https://localhost:8080/"
        },
        "id": "Pufwy7Ia3b12",
        "outputId": "5d7f4243-73aa-4e74-8325-27a74eaeb7dd"
      },
      "outputs": [
        {
          "output_type": "stream",
          "name": "stdout",
          "text": [
            "2/2 [==============================] - 0s 8ms/step - loss: 0.8249 - accuracy: 0.8333\n",
            "Restored model, accuracy: 83.33%\n"
          ]
        }
      ],
      "source": [
        "loss, acc = model.evaluate(x_test, emo_test)\n",
        "print(\"Restored model, accuracy: {:5.2f}%\".format(100*acc))"
      ]
    },
    {
      "cell_type": "code",
      "execution_count": 32,
      "metadata": {
        "colab": {
          "base_uri": "https://localhost:8080/"
        },
        "id": "gqYIsrpY3drM",
        "outputId": "63fe654c-c106-4c03-d234-f05661eb2602"
      },
      "outputs": [
        {
          "output_type": "stream",
          "name": "stdout",
          "text": [
            "36/36 [==============================] - 0s 6ms/step - loss: 9.5669e-04 - accuracy: 1.0000\n",
            "Restored model, accuracy: 100.00%\n"
          ]
        }
      ],
      "source": [
        "loss, acc = model.evaluate(x_train, y_train)\n",
        "print(\"Restored model, accuracy: {:5.2f}%\".format(100*acc))"
      ]
    },
    {
      "cell_type": "code",
      "execution_count": 33,
      "metadata": {
        "colab": {
          "base_uri": "https://localhost:8080/",
          "height": 606
        },
        "id": "biI56TZV3fPV",
        "outputId": "024b3daa-2358-4840-c9fe-2d191c8517ec"
      },
      "outputs": [
        {
          "output_type": "stream",
          "name": "stdout",
          "text": [
            "              precision    recall  f1-score   support\n",
            "\n",
            "           0       1.00      0.82      0.90        11\n",
            "           1       1.00      0.40      0.57         5\n",
            "           2       0.86      0.86      0.86         7\n",
            "           3       0.67      1.00      0.80         4\n",
            "           4       0.75      1.00      0.86         9\n",
            "\n",
            "    accuracy                           0.83        36\n",
            "   macro avg       0.85      0.82      0.80        36\n",
            "weighted avg       0.87      0.83      0.82        36\n",
            "\n",
            "----accuracy score 83.33333333333334 ----\n"
          ]
        },
        {
          "output_type": "error",
          "ename": "ValueError",
          "evalue": "ignored",
          "traceback": [
            "\u001b[0;31m---------------------------------------------------------------------------\u001b[0m",
            "\u001b[0;31mValueError\u001b[0m                                Traceback (most recent call last)",
            "\u001b[0;32m<ipython-input-33-ced4651393a1>\u001b[0m in \u001b[0;36m<module>\u001b[0;34m()\u001b[0m\n\u001b[1;32m     10\u001b[0m \u001b[0;31m#df_cm = pd.DataFrame(cm)\u001b[0m\u001b[0;34m\u001b[0m\u001b[0;34m\u001b[0m\u001b[0;34m\u001b[0m\u001b[0m\n\u001b[1;32m     11\u001b[0m \u001b[0mclass_names\u001b[0m \u001b[0;34m=\u001b[0m \u001b[0;34m[\u001b[0m\u001b[0;34m'neutral'\u001b[0m\u001b[0;34m,\u001b[0m\u001b[0;34m'calm'\u001b[0m\u001b[0;34m,\u001b[0m \u001b[0;34m'happy'\u001b[0m\u001b[0;34m,\u001b[0m\u001b[0;34m'sad'\u001b[0m\u001b[0;34m,\u001b[0m\u001b[0;34m'angry'\u001b[0m\u001b[0;34m,\u001b[0m \u001b[0;34m'fearful'\u001b[0m \u001b[0;34m]\u001b[0m\u001b[0;34m\u001b[0m\u001b[0;34m\u001b[0m\u001b[0m\n\u001b[0;32m---> 12\u001b[0;31m \u001b[0mdf_cm\u001b[0m \u001b[0;34m=\u001b[0m \u001b[0mpd\u001b[0m\u001b[0;34m.\u001b[0m\u001b[0mDataFrame\u001b[0m\u001b[0;34m(\u001b[0m\u001b[0mcm\u001b[0m\u001b[0;34m,\u001b[0m \u001b[0mindex\u001b[0m\u001b[0;34m=\u001b[0m\u001b[0mclass_names\u001b[0m\u001b[0;34m,\u001b[0m \u001b[0mcolumns\u001b[0m\u001b[0;34m=\u001b[0m\u001b[0mclass_names\u001b[0m\u001b[0;34m,\u001b[0m\u001b[0;34m)\u001b[0m\u001b[0;34m\u001b[0m\u001b[0;34m\u001b[0m\u001b[0m\n\u001b[0m\u001b[1;32m     13\u001b[0m \u001b[0msn\u001b[0m\u001b[0;34m.\u001b[0m\u001b[0mheatmap\u001b[0m\u001b[0;34m(\u001b[0m\u001b[0mdf_cm\u001b[0m\u001b[0;34m,\u001b[0m \u001b[0mannot\u001b[0m\u001b[0;34m=\u001b[0m\u001b[0;32mTrue\u001b[0m\u001b[0;34m,\u001b[0m \u001b[0mfmt\u001b[0m\u001b[0;34m=\u001b[0m\u001b[0;34m''\u001b[0m\u001b[0;34m)\u001b[0m\u001b[0;34m\u001b[0m\u001b[0;34m\u001b[0m\u001b[0m\n\u001b[1;32m     14\u001b[0m \u001b[0mplt\u001b[0m\u001b[0;34m.\u001b[0m\u001b[0mshow\u001b[0m\u001b[0;34m(\u001b[0m\u001b[0;34m)\u001b[0m\u001b[0;34m\u001b[0m\u001b[0;34m\u001b[0m\u001b[0m\n",
            "\u001b[0;32m/usr/local/lib/python3.7/dist-packages/pandas/core/frame.py\u001b[0m in \u001b[0;36m__init__\u001b[0;34m(self, data, index, columns, dtype, copy)\u001b[0m\n\u001b[1;32m    676\u001b[0m                     \u001b[0mdtype\u001b[0m\u001b[0;34m=\u001b[0m\u001b[0mdtype\u001b[0m\u001b[0;34m,\u001b[0m\u001b[0;34m\u001b[0m\u001b[0;34m\u001b[0m\u001b[0m\n\u001b[1;32m    677\u001b[0m                     \u001b[0mcopy\u001b[0m\u001b[0;34m=\u001b[0m\u001b[0mcopy\u001b[0m\u001b[0;34m,\u001b[0m\u001b[0;34m\u001b[0m\u001b[0;34m\u001b[0m\u001b[0m\n\u001b[0;32m--> 678\u001b[0;31m                     \u001b[0mtyp\u001b[0m\u001b[0;34m=\u001b[0m\u001b[0mmanager\u001b[0m\u001b[0;34m,\u001b[0m\u001b[0;34m\u001b[0m\u001b[0;34m\u001b[0m\u001b[0m\n\u001b[0m\u001b[1;32m    679\u001b[0m                 )\n\u001b[1;32m    680\u001b[0m \u001b[0;34m\u001b[0m\u001b[0m\n",
            "\u001b[0;32m/usr/local/lib/python3.7/dist-packages/pandas/core/internals/construction.py\u001b[0m in \u001b[0;36mndarray_to_mgr\u001b[0;34m(values, index, columns, dtype, copy, typ)\u001b[0m\n\u001b[1;32m    322\u001b[0m     )\n\u001b[1;32m    323\u001b[0m \u001b[0;34m\u001b[0m\u001b[0m\n\u001b[0;32m--> 324\u001b[0;31m     \u001b[0m_check_values_indices_shape_match\u001b[0m\u001b[0;34m(\u001b[0m\u001b[0mvalues\u001b[0m\u001b[0;34m,\u001b[0m \u001b[0mindex\u001b[0m\u001b[0;34m,\u001b[0m \u001b[0mcolumns\u001b[0m\u001b[0;34m)\u001b[0m\u001b[0;34m\u001b[0m\u001b[0;34m\u001b[0m\u001b[0m\n\u001b[0m\u001b[1;32m    325\u001b[0m \u001b[0;34m\u001b[0m\u001b[0m\n\u001b[1;32m    326\u001b[0m     \u001b[0;32mif\u001b[0m \u001b[0mtyp\u001b[0m \u001b[0;34m==\u001b[0m \u001b[0;34m\"array\"\u001b[0m\u001b[0;34m:\u001b[0m\u001b[0;34m\u001b[0m\u001b[0;34m\u001b[0m\u001b[0m\n",
            "\u001b[0;32m/usr/local/lib/python3.7/dist-packages/pandas/core/internals/construction.py\u001b[0m in \u001b[0;36m_check_values_indices_shape_match\u001b[0;34m(values, index, columns)\u001b[0m\n\u001b[1;32m    391\u001b[0m         \u001b[0mpassed\u001b[0m \u001b[0;34m=\u001b[0m \u001b[0mvalues\u001b[0m\u001b[0;34m.\u001b[0m\u001b[0mshape\u001b[0m\u001b[0;34m\u001b[0m\u001b[0;34m\u001b[0m\u001b[0m\n\u001b[1;32m    392\u001b[0m         \u001b[0mimplied\u001b[0m \u001b[0;34m=\u001b[0m \u001b[0;34m(\u001b[0m\u001b[0mlen\u001b[0m\u001b[0;34m(\u001b[0m\u001b[0mindex\u001b[0m\u001b[0;34m)\u001b[0m\u001b[0;34m,\u001b[0m \u001b[0mlen\u001b[0m\u001b[0;34m(\u001b[0m\u001b[0mcolumns\u001b[0m\u001b[0;34m)\u001b[0m\u001b[0;34m)\u001b[0m\u001b[0;34m\u001b[0m\u001b[0;34m\u001b[0m\u001b[0m\n\u001b[0;32m--> 393\u001b[0;31m         \u001b[0;32mraise\u001b[0m \u001b[0mValueError\u001b[0m\u001b[0;34m(\u001b[0m\u001b[0;34mf\"Shape of passed values is {passed}, indices imply {implied}\"\u001b[0m\u001b[0;34m)\u001b[0m\u001b[0;34m\u001b[0m\u001b[0;34m\u001b[0m\u001b[0m\n\u001b[0m\u001b[1;32m    394\u001b[0m \u001b[0;34m\u001b[0m\u001b[0m\n\u001b[1;32m    395\u001b[0m \u001b[0;34m\u001b[0m\u001b[0m\n",
            "\u001b[0;31mValueError\u001b[0m: Shape of passed values is (5, 5), indices imply (6, 6)"
          ]
        }
      ],
      "source": [
        "from sklearn.metrics import classification_report, confusion_matrix,accuracy_score\n",
        "import seaborn as sn\n",
        "\n",
        "print(classification_report(emo_test,abc))\n",
        "\n",
        "acc = float(accuracy_score(emo_test,abc))*100\n",
        "print(\"----accuracy score %s ----\" % acc)\n",
        "\n",
        "cm = confusion_matrix(emo_test,abc)\n",
        "#df_cm = pd.DataFrame(cm)\n",
        "class_names = ['neutral','calm', 'happy','sad','angry', 'fearful' ]\n",
        "df_cm = pd.DataFrame(cm, index=class_names, columns=class_names,)\n",
        "sn.heatmap(df_cm, annot=True, fmt='')\n",
        "plt.show()"
      ]
    },
    {
      "cell_type": "code",
      "execution_count": null,
      "metadata": {
        "id": "59mA6uxedOYx"
      },
      "outputs": [],
      "source": [
        ""
      ]
    }
  ],
  "metadata": {
    "colab": {
      "collapsed_sections": [],
      "name": "_original_augmation_Savee_400_epoch_12_kernal_size_and_bat.ipynb",
      "provenance": []
    },
    "kernelspec": {
      "display_name": "Python 3",
      "language": "python",
      "name": "python3"
    },
    "language_info": {
      "codemirror_mode": {
        "name": "ipython",
        "version": 3
      },
      "file_extension": ".py",
      "mimetype": "text/x-python",
      "name": "python",
      "nbconvert_exporter": "python",
      "pygments_lexer": "ipython3",
      "version": "3.7.10"
    }
  },
  "nbformat": 4,
  "nbformat_minor": 0
}