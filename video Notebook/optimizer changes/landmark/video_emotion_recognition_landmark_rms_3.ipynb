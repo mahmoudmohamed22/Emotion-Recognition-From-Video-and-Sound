{
  "nbformat": 4,
  "nbformat_minor": 0,
  "metadata": {
    "colab": {
      "name": "video_emotion_recognition_landmark_rms_3.ipynb",
      "provenance": [],
      "collapsed_sections": [],
      "machine_shape": "hm"
    },
    "kernelspec": {
      "name": "python3",
      "display_name": "Python 3"
    },
    "accelerator": "GPU"
  },
  "cells": [
    {
      "cell_type": "code",
      "source": [
        "from google.colab import drive\n",
        "drive.mount('/content/drive')"
      ],
      "metadata": {
        "colab": {
          "base_uri": "https://localhost:8080/"
        },
        "id": "o94I67GBPVfM",
        "outputId": "0dd03eca-ab61-4cf8-cdc5-3e9da32f2644"
      },
      "execution_count": 1,
      "outputs": [
        {
          "output_type": "stream",
          "name": "stdout",
          "text": [
            "Mounted at /content/drive\n"
          ]
        }
      ]
    },
    {
      "cell_type": "code",
      "source": [
        "# Discard the output of this cell.\n",
        "#%%capture\n",
        "\n",
        "# Install the required libraries.\n",
        "!pip install tensorflow opencv-contrib-python youtube-dl moviepy pydot\n",
        "!pip install git+https://github.com/TahaAnwar/pafy.git#egg=pafy"
      ],
      "metadata": {
        "colab": {
          "base_uri": "https://localhost:8080/"
        },
        "id": "6OQ7vRnzP6n8",
        "outputId": "3f346484-da74-4e7a-9be7-ed4fab153f1d"
      },
      "execution_count": 1,
      "outputs": [
        {
          "output_type": "stream",
          "name": "stdout",
          "text": [
            "Looking in indexes: https://pypi.org/simple, https://us-python.pkg.dev/colab-wheels/public/simple/\n",
            "Requirement already satisfied: tensorflow in /usr/local/lib/python3.7/dist-packages (2.8.2+zzzcolab20220527125636)\n",
            "Requirement already satisfied: opencv-contrib-python in /usr/local/lib/python3.7/dist-packages (4.1.2.30)\n",
            "Requirement already satisfied: youtube-dl in /usr/local/lib/python3.7/dist-packages (2021.12.17)\n",
            "Requirement already satisfied: moviepy in /usr/local/lib/python3.7/dist-packages (0.2.3.5)\n",
            "Requirement already satisfied: pydot in /usr/local/lib/python3.7/dist-packages (1.3.0)\n",
            "Requirement already satisfied: tensorflow-io-gcs-filesystem>=0.23.1 in /usr/local/lib/python3.7/dist-packages (from tensorflow) (0.26.0)\n",
            "Requirement already satisfied: wrapt>=1.11.0 in /usr/local/lib/python3.7/dist-packages (from tensorflow) (1.14.1)\n",
            "Requirement already satisfied: astunparse>=1.6.0 in /usr/local/lib/python3.7/dist-packages (from tensorflow) (1.6.3)\n",
            "Requirement already satisfied: keras-preprocessing>=1.1.1 in /usr/local/lib/python3.7/dist-packages (from tensorflow) (1.1.2)\n",
            "Requirement already satisfied: h5py>=2.9.0 in /usr/local/lib/python3.7/dist-packages (from tensorflow) (3.1.0)\n",
            "Requirement already satisfied: setuptools in /usr/local/lib/python3.7/dist-packages (from tensorflow) (57.4.0)\n",
            "Requirement already satisfied: tensorflow-estimator<2.9,>=2.8 in /usr/local/lib/python3.7/dist-packages (from tensorflow) (2.8.0)\n",
            "Requirement already satisfied: six>=1.12.0 in /usr/local/lib/python3.7/dist-packages (from tensorflow) (1.15.0)\n",
            "Requirement already satisfied: termcolor>=1.1.0 in /usr/local/lib/python3.7/dist-packages (from tensorflow) (1.1.0)\n",
            "Requirement already satisfied: typing-extensions>=3.6.6 in /usr/local/lib/python3.7/dist-packages (from tensorflow) (4.2.0)\n",
            "Requirement already satisfied: libclang>=9.0.1 in /usr/local/lib/python3.7/dist-packages (from tensorflow) (14.0.1)\n",
            "Requirement already satisfied: tensorboard<2.9,>=2.8 in /usr/local/lib/python3.7/dist-packages (from tensorflow) (2.8.0)\n",
            "Requirement already satisfied: flatbuffers>=1.12 in /usr/local/lib/python3.7/dist-packages (from tensorflow) (2.0)\n",
            "Requirement already satisfied: numpy>=1.20 in /usr/local/lib/python3.7/dist-packages (from tensorflow) (1.21.6)\n",
            "Requirement already satisfied: protobuf<3.20,>=3.9.2 in /usr/local/lib/python3.7/dist-packages (from tensorflow) (3.17.3)\n",
            "Requirement already satisfied: absl-py>=0.4.0 in /usr/local/lib/python3.7/dist-packages (from tensorflow) (1.0.0)\n",
            "Requirement already satisfied: gast>=0.2.1 in /usr/local/lib/python3.7/dist-packages (from tensorflow) (0.5.3)\n",
            "Requirement already satisfied: google-pasta>=0.1.1 in /usr/local/lib/python3.7/dist-packages (from tensorflow) (0.2.0)\n",
            "Requirement already satisfied: opt-einsum>=2.3.2 in /usr/local/lib/python3.7/dist-packages (from tensorflow) (3.3.0)\n",
            "Requirement already satisfied: keras<2.9,>=2.8.0rc0 in /usr/local/lib/python3.7/dist-packages (from tensorflow) (2.8.0)\n",
            "Requirement already satisfied: grpcio<2.0,>=1.24.3 in /usr/local/lib/python3.7/dist-packages (from tensorflow) (1.46.3)\n",
            "Requirement already satisfied: wheel<1.0,>=0.23.0 in /usr/local/lib/python3.7/dist-packages (from astunparse>=1.6.0->tensorflow) (0.37.1)\n",
            "Requirement already satisfied: cached-property in /usr/local/lib/python3.7/dist-packages (from h5py>=2.9.0->tensorflow) (1.5.2)\n",
            "Requirement already satisfied: markdown>=2.6.8 in /usr/local/lib/python3.7/dist-packages (from tensorboard<2.9,>=2.8->tensorflow) (3.3.7)\n",
            "Requirement already satisfied: tensorboard-plugin-wit>=1.6.0 in /usr/local/lib/python3.7/dist-packages (from tensorboard<2.9,>=2.8->tensorflow) (1.8.1)\n",
            "Requirement already satisfied: werkzeug>=0.11.15 in /usr/local/lib/python3.7/dist-packages (from tensorboard<2.9,>=2.8->tensorflow) (1.0.1)\n",
            "Requirement already satisfied: google-auth<3,>=1.6.3 in /usr/local/lib/python3.7/dist-packages (from tensorboard<2.9,>=2.8->tensorflow) (1.35.0)\n",
            "Requirement already satisfied: google-auth-oauthlib<0.5,>=0.4.1 in /usr/local/lib/python3.7/dist-packages (from tensorboard<2.9,>=2.8->tensorflow) (0.4.6)\n",
            "Requirement already satisfied: tensorboard-data-server<0.7.0,>=0.6.0 in /usr/local/lib/python3.7/dist-packages (from tensorboard<2.9,>=2.8->tensorflow) (0.6.1)\n",
            "Requirement already satisfied: requests<3,>=2.21.0 in /usr/local/lib/python3.7/dist-packages (from tensorboard<2.9,>=2.8->tensorflow) (2.23.0)\n",
            "Requirement already satisfied: pyasn1-modules>=0.2.1 in /usr/local/lib/python3.7/dist-packages (from google-auth<3,>=1.6.3->tensorboard<2.9,>=2.8->tensorflow) (0.2.8)\n",
            "Requirement already satisfied: cachetools<5.0,>=2.0.0 in /usr/local/lib/python3.7/dist-packages (from google-auth<3,>=1.6.3->tensorboard<2.9,>=2.8->tensorflow) (4.2.4)\n",
            "Requirement already satisfied: rsa<5,>=3.1.4 in /usr/local/lib/python3.7/dist-packages (from google-auth<3,>=1.6.3->tensorboard<2.9,>=2.8->tensorflow) (4.8)\n",
            "Requirement already satisfied: requests-oauthlib>=0.7.0 in /usr/local/lib/python3.7/dist-packages (from google-auth-oauthlib<0.5,>=0.4.1->tensorboard<2.9,>=2.8->tensorflow) (1.3.1)\n",
            "Requirement already satisfied: importlib-metadata>=4.4 in /usr/local/lib/python3.7/dist-packages (from markdown>=2.6.8->tensorboard<2.9,>=2.8->tensorflow) (4.11.4)\n",
            "Requirement already satisfied: zipp>=0.5 in /usr/local/lib/python3.7/dist-packages (from importlib-metadata>=4.4->markdown>=2.6.8->tensorboard<2.9,>=2.8->tensorflow) (3.8.0)\n",
            "Requirement already satisfied: pyasn1<0.5.0,>=0.4.6 in /usr/local/lib/python3.7/dist-packages (from pyasn1-modules>=0.2.1->google-auth<3,>=1.6.3->tensorboard<2.9,>=2.8->tensorflow) (0.4.8)\n",
            "Requirement already satisfied: chardet<4,>=3.0.2 in /usr/local/lib/python3.7/dist-packages (from requests<3,>=2.21.0->tensorboard<2.9,>=2.8->tensorflow) (3.0.4)\n",
            "Requirement already satisfied: urllib3!=1.25.0,!=1.25.1,<1.26,>=1.21.1 in /usr/local/lib/python3.7/dist-packages (from requests<3,>=2.21.0->tensorboard<2.9,>=2.8->tensorflow) (1.24.3)\n",
            "Requirement already satisfied: idna<3,>=2.5 in /usr/local/lib/python3.7/dist-packages (from requests<3,>=2.21.0->tensorboard<2.9,>=2.8->tensorflow) (2.10)\n",
            "Requirement already satisfied: certifi>=2017.4.17 in /usr/local/lib/python3.7/dist-packages (from requests<3,>=2.21.0->tensorboard<2.9,>=2.8->tensorflow) (2022.5.18.1)\n",
            "Requirement already satisfied: oauthlib>=3.0.0 in /usr/local/lib/python3.7/dist-packages (from requests-oauthlib>=0.7.0->google-auth-oauthlib<0.5,>=0.4.1->tensorboard<2.9,>=2.8->tensorflow) (3.2.0)\n",
            "Requirement already satisfied: tqdm<5.0,>=4.11.2 in /usr/local/lib/python3.7/dist-packages (from moviepy) (4.64.0)\n",
            "Requirement already satisfied: imageio<3.0,>=2.1.2 in /usr/local/lib/python3.7/dist-packages (from moviepy) (2.4.1)\n",
            "Requirement already satisfied: decorator<5.0,>=4.0.2 in /usr/local/lib/python3.7/dist-packages (from moviepy) (4.4.2)\n",
            "Requirement already satisfied: pillow in /usr/local/lib/python3.7/dist-packages (from imageio<3.0,>=2.1.2->moviepy) (7.1.2)\n",
            "Requirement already satisfied: pyparsing>=2.1.4 in /usr/local/lib/python3.7/dist-packages (from pydot) (3.0.9)\n",
            "Looking in indexes: https://pypi.org/simple, https://us-python.pkg.dev/colab-wheels/public/simple/\n",
            "Collecting pafy\n",
            "  Cloning https://github.com/TahaAnwar/pafy.git to /tmp/pip-install-hxgpf8v4/pafy_ac58229d07f143aca990fb3423288b04\n",
            "  Running command git clone -q https://github.com/TahaAnwar/pafy.git /tmp/pip-install-hxgpf8v4/pafy_ac58229d07f143aca990fb3423288b04\n"
          ]
        }
      ]
    },
    {
      "cell_type": "code",
      "source": [
        "# Import the required libraries.\n",
        "import os\n",
        "import cv2\n",
        "import pafy\n",
        "import math\n",
        "import random\n",
        "import numpy as np\n",
        "import datetime as dt\n",
        "import tensorflow as tf\n",
        "from collections import deque\n",
        "import matplotlib.pyplot as plt\n",
        "\n",
        "from moviepy.editor import *\n",
        "%matplotlib inline\n",
        "\n",
        "from sklearn.model_selection import train_test_split\n",
        "\n",
        "from tensorflow.keras.layers import *\n",
        "from tensorflow.keras.models import Sequential\n",
        "from tensorflow.keras.utils import to_categorical\n",
        "from tensorflow.keras.callbacks import EarlyStopping\n",
        "from tensorflow.keras.utils import plot_model"
      ],
      "metadata": {
        "id": "LiLwshTpP-OB"
      },
      "execution_count": 2,
      "outputs": []
    },
    {
      "cell_type": "code",
      "source": [
        "seed_constant = 27\n",
        "np.random.seed(seed_constant)\n",
        "random.seed(seed_constant)\n",
        "tf.random.set_seed(seed_constant)"
      ],
      "metadata": {
        "id": "u4EtD4rrQEnb"
      },
      "execution_count": 3,
      "outputs": []
    },
    {
      "cell_type": "code",
      "source": [
        "# Specify the height and width to which each video frame will be resized in our dataset.\n",
        "IMAGE_HEIGHT , IMAGE_WIDTH = 64, 64\n",
        "\n",
        "# Specify the number of frames of a video that will be fed to the model as one sequence.\n",
        "SEQUENCE_LENGTH = 30\n",
        "\n",
        "# Specify the directory containing the UCF50 dataset. \n",
        "#DATASET_DIR = \"/content/drive/MyDrive/videospeech_label\"\n",
        "\n",
        "# Specify the list containing the names of the classes used for training. Feel free to choose any set of classes.\n",
        "CLASSES_LIST = [\"neutral\", \"calm\", \"happy\", \"sad\",\"angry\",\"fearful\"]"
      ],
      "metadata": {
        "id": "7H6KBiblQKE9"
      },
      "execution_count": 4,
      "outputs": []
    },
    {
      "cell_type": "code",
      "source": [
        "import joblib\n",
        "features=joblib.load('/content/drive/My Drive/features_ravdess/data_set/features_data')\n",
        "labels=joblib.load('/content/drive/My Drive/features_ravdess/data_set/labels')\n",
        "video_file_path=joblib.load('/content/drive/My Drive/features_ravdess/data_set/video_path')"
      ],
      "metadata": {
        "id": "V_rh-id5cmwd"
      },
      "execution_count": 5,
      "outputs": []
    },
    {
      "cell_type": "code",
      "source": [
        "features = np.asarray(features)\n",
        "labels = np.array(labels)  "
      ],
      "metadata": {
        "id": "WI3wNd7zdKzJ"
      },
      "execution_count": 6,
      "outputs": []
    },
    {
      "cell_type": "code",
      "source": [
        "features.shape"
      ],
      "metadata": {
        "colab": {
          "base_uri": "https://localhost:8080/"
        },
        "id": "pnnmkPz5Qh75",
        "outputId": "cc4e17f0-483c-4ce6-d0fb-93357625de4d"
      },
      "execution_count": 7,
      "outputs": [
        {
          "output_type": "execute_result",
          "data": {
            "text/plain": [
              "(2067, 30, 64, 64, 3)"
            ]
          },
          "metadata": {},
          "execution_count": 7
        }
      ]
    },
    {
      "cell_type": "code",
      "source": [
        "labels.shape"
      ],
      "metadata": {
        "colab": {
          "base_uri": "https://localhost:8080/"
        },
        "id": "kSGvdE_hQklC",
        "outputId": "b53aa237-65cb-4f98-9590-238496f18bc0"
      },
      "execution_count": 8,
      "outputs": [
        {
          "output_type": "execute_result",
          "data": {
            "text/plain": [
              "(2067,)"
            ]
          },
          "metadata": {},
          "execution_count": 8
        }
      ]
    },
    {
      "cell_type": "code",
      "source": [
        "# Using Keras's to_categorical method to convert labels into one-hot-encoded vectors\n",
        "one_hot_encoded_labels = to_categorical(labels)"
      ],
      "metadata": {
        "id": "DGicVwcRQn9x"
      },
      "execution_count": 9,
      "outputs": []
    },
    {
      "cell_type": "code",
      "source": [
        "# Split the Data into Train ( 80% ) and Test Set ( 20% ).\n",
        "features_train, features_test, labels_train, labels_test = train_test_split(features, one_hot_encoded_labels,\n",
        "                                                                            test_size = 0.10, shuffle = True,\n",
        "                                                                            random_state = seed_constant)"
      ],
      "metadata": {
        "id": "pysOwWbgQrBv"
      },
      "execution_count": 10,
      "outputs": []
    },
    {
      "cell_type": "code",
      "source": [
        "def create_LRCN_model():\n",
        "    '''\n",
        "    This function will construct the required LRCN model.\n",
        "    Returns:\n",
        "        model: It is the required constructed LRCN model.\n",
        "    '''\n",
        "\n",
        "    # We will use a Sequential model for model construction.\n",
        "    model = Sequential()\n",
        "    \n",
        "    # Define the Model Architecture.\n",
        "    ########################################################################################################################\n",
        "    \n",
        "    model.add(TimeDistributed(Conv2D(16, (3, 3), padding='same',activation = 'relu'),\n",
        "                              input_shape = (SEQUENCE_LENGTH, IMAGE_HEIGHT, IMAGE_WIDTH, 3)))\n",
        "    \n",
        "    model.add(TimeDistributed(MaxPooling2D((4, 4)))) \n",
        "    model.add(TimeDistributed(Dropout(0.25)))\n",
        "    \n",
        "    model.add(TimeDistributed(Conv2D(32, (3, 3), padding='same',activation = 'relu')))\n",
        "    model.add(TimeDistributed(MaxPooling2D((4, 4))))\n",
        "    model.add(TimeDistributed(Dropout(0.25)))\n",
        "    \n",
        "    model.add(TimeDistributed(Conv2D(64, (3, 3), padding='same',activation = 'relu')))\n",
        "    model.add(TimeDistributed(MaxPooling2D((2, 2))))\n",
        "    model.add(TimeDistributed(Dropout(0.25)))\n",
        "    \n",
        "    model.add(TimeDistributed(Conv2D(64, (3, 3), padding='same',activation = 'relu')))\n",
        "    model.add(TimeDistributed(MaxPooling2D((2, 2))))\n",
        "    #model.add(TimeDistributed(Dropout(0.25)))\n",
        "                                      \n",
        "    model.add(TimeDistributed(Flatten()))\n",
        "                                      \n",
        "    model.add(LSTM(32))\n",
        "                                      \n",
        "    model.add(Dense(len(CLASSES_LIST), activation = 'softmax'))\n",
        "\n",
        "    ########################################################################################################################\n",
        "\n",
        "    # Display the models summary.\n",
        "    model.summary()\n",
        "    \n",
        "    # Return the constructed LRCN model.\n",
        "    return model"
      ],
      "metadata": {
        "id": "01zL-4EVQt3J"
      },
      "execution_count": 11,
      "outputs": []
    },
    {
      "cell_type": "code",
      "source": [
        "# Construct the required LRCN model.\n",
        "LRCN_model = create_LRCN_model()\n",
        "\n",
        "# Display the success message.\n",
        "print(\"Model Created Successfully!\")"
      ],
      "metadata": {
        "colab": {
          "base_uri": "https://localhost:8080/"
        },
        "id": "sFdjcb8zQxX4",
        "outputId": "068b0a4f-3138-4ee7-9d07-678100a4a509"
      },
      "execution_count": 12,
      "outputs": [
        {
          "output_type": "stream",
          "name": "stdout",
          "text": [
            "Model: \"sequential\"\n",
            "_________________________________________________________________\n",
            " Layer (type)                Output Shape              Param #   \n",
            "=================================================================\n",
            " time_distributed (TimeDistr  (None, 30, 64, 64, 16)   448       \n",
            " ibuted)                                                         \n",
            "                                                                 \n",
            " time_distributed_1 (TimeDis  (None, 30, 16, 16, 16)   0         \n",
            " tributed)                                                       \n",
            "                                                                 \n",
            " time_distributed_2 (TimeDis  (None, 30, 16, 16, 16)   0         \n",
            " tributed)                                                       \n",
            "                                                                 \n",
            " time_distributed_3 (TimeDis  (None, 30, 16, 16, 32)   4640      \n",
            " tributed)                                                       \n",
            "                                                                 \n",
            " time_distributed_4 (TimeDis  (None, 30, 4, 4, 32)     0         \n",
            " tributed)                                                       \n",
            "                                                                 \n",
            " time_distributed_5 (TimeDis  (None, 30, 4, 4, 32)     0         \n",
            " tributed)                                                       \n",
            "                                                                 \n",
            " time_distributed_6 (TimeDis  (None, 30, 4, 4, 64)     18496     \n",
            " tributed)                                                       \n",
            "                                                                 \n",
            " time_distributed_7 (TimeDis  (None, 30, 2, 2, 64)     0         \n",
            " tributed)                                                       \n",
            "                                                                 \n",
            " time_distributed_8 (TimeDis  (None, 30, 2, 2, 64)     0         \n",
            " tributed)                                                       \n",
            "                                                                 \n",
            " time_distributed_9 (TimeDis  (None, 30, 2, 2, 64)     36928     \n",
            " tributed)                                                       \n",
            "                                                                 \n",
            " time_distributed_10 (TimeDi  (None, 30, 1, 1, 64)     0         \n",
            " stributed)                                                      \n",
            "                                                                 \n",
            " time_distributed_11 (TimeDi  (None, 30, 64)           0         \n",
            " stributed)                                                      \n",
            "                                                                 \n",
            " lstm (LSTM)                 (None, 32)                12416     \n",
            "                                                                 \n",
            " dense (Dense)               (None, 6)                 198       \n",
            "                                                                 \n",
            "=================================================================\n",
            "Total params: 73,126\n",
            "Trainable params: 73,126\n",
            "Non-trainable params: 0\n",
            "_________________________________________________________________\n",
            "Model Created Successfully!\n"
          ]
        }
      ]
    },
    {
      "cell_type": "code",
      "source": [
        "# Create an Instance of Early Stopping Callback.\n",
        "early_stopping_callback = EarlyStopping(monitor = 'val_loss', patience = 20, mode = 'min', restore_best_weights = True)\n",
        " \n",
        "# Compile the model and specify loss function, optimizer and metrics to the model.\n",
        "LRCN_model.compile(loss = 'categorical_crossentropy', optimizer = 'RMSprop', metrics = [\"accuracy\"])\n",
        "\n",
        "# Start training the model.\n",
        "LRCN_model_training_history = LRCN_model.fit(x = features_train, y = labels_train, epochs = 100, batch_size = 4 ,\n",
        "                                             shuffle = True, validation_split = 0.1, callbacks = [early_stopping_callback])"
      ],
      "metadata": {
        "colab": {
          "base_uri": "https://localhost:8080/"
        },
        "id": "cVmXzItZQ4-r",
        "outputId": "c230db6b-89b4-4ba0-cee9-dc63b8d0caea"
      },
      "execution_count": 13,
      "outputs": [
        {
          "output_type": "stream",
          "name": "stdout",
          "text": [
            "Epoch 1/100\n",
            "419/419 [==============================] - 20s 14ms/step - loss: 1.7787 - accuracy: 0.1906 - val_loss: 1.7728 - val_accuracy: 0.2097\n",
            "Epoch 2/100\n",
            "419/419 [==============================] - 5s 12ms/step - loss: 1.6808 - accuracy: 0.2802 - val_loss: 1.5913 - val_accuracy: 0.3065\n",
            "Epoch 3/100\n",
            "419/419 [==============================] - 5s 12ms/step - loss: 1.5501 - accuracy: 0.3244 - val_loss: 1.5683 - val_accuracy: 0.3011\n",
            "Epoch 4/100\n",
            "419/419 [==============================] - 5s 12ms/step - loss: 1.3140 - accuracy: 0.4373 - val_loss: 1.1590 - val_accuracy: 0.4785\n",
            "Epoch 5/100\n",
            "419/419 [==============================] - 5s 12ms/step - loss: 1.1502 - accuracy: 0.5072 - val_loss: 1.0707 - val_accuracy: 0.4946\n",
            "Epoch 6/100\n",
            "419/419 [==============================] - 5s 12ms/step - loss: 1.0582 - accuracy: 0.5639 - val_loss: 0.9839 - val_accuracy: 0.5968\n",
            "Epoch 7/100\n",
            "419/419 [==============================] - 5s 12ms/step - loss: 0.9794 - accuracy: 0.5998 - val_loss: 1.0266 - val_accuracy: 0.5376\n",
            "Epoch 8/100\n",
            "419/419 [==============================] - 5s 12ms/step - loss: 0.8977 - accuracy: 0.6266 - val_loss: 0.9608 - val_accuracy: 0.6129\n",
            "Epoch 9/100\n",
            "419/419 [==============================] - 5s 12ms/step - loss: 0.8320 - accuracy: 0.6804 - val_loss: 1.0584 - val_accuracy: 0.5806\n",
            "Epoch 10/100\n",
            "419/419 [==============================] - 5s 12ms/step - loss: 0.7985 - accuracy: 0.6768 - val_loss: 0.8240 - val_accuracy: 0.6882\n",
            "Epoch 11/100\n",
            "419/419 [==============================] - 5s 12ms/step - loss: 0.7217 - accuracy: 0.7121 - val_loss: 0.7064 - val_accuracy: 0.7258\n",
            "Epoch 12/100\n",
            "419/419 [==============================] - 5s 12ms/step - loss: 0.6894 - accuracy: 0.7246 - val_loss: 0.6351 - val_accuracy: 0.7419\n",
            "Epoch 13/100\n",
            "419/419 [==============================] - 5s 12ms/step - loss: 0.6418 - accuracy: 0.7593 - val_loss: 0.7183 - val_accuracy: 0.7366\n",
            "Epoch 14/100\n",
            "419/419 [==============================] - 5s 12ms/step - loss: 0.5957 - accuracy: 0.7700 - val_loss: 0.6917 - val_accuracy: 0.6882\n",
            "Epoch 15/100\n",
            "419/419 [==============================] - 5s 12ms/step - loss: 0.5553 - accuracy: 0.7957 - val_loss: 0.5443 - val_accuracy: 0.8118\n",
            "Epoch 16/100\n",
            "419/419 [==============================] - 5s 12ms/step - loss: 0.4993 - accuracy: 0.8220 - val_loss: 0.9915 - val_accuracy: 0.6613\n",
            "Epoch 17/100\n",
            "419/419 [==============================] - 5s 12ms/step - loss: 0.5111 - accuracy: 0.8053 - val_loss: 0.7866 - val_accuracy: 0.7312\n",
            "Epoch 18/100\n",
            "419/419 [==============================] - 5s 12ms/step - loss: 0.4845 - accuracy: 0.8232 - val_loss: 0.6130 - val_accuracy: 0.7796\n",
            "Epoch 19/100\n",
            "419/419 [==============================] - 5s 12ms/step - loss: 0.4615 - accuracy: 0.8262 - val_loss: 0.6152 - val_accuracy: 0.7849\n",
            "Epoch 20/100\n",
            "419/419 [==============================] - 5s 12ms/step - loss: 0.4524 - accuracy: 0.8345 - val_loss: 0.6301 - val_accuracy: 0.7419\n",
            "Epoch 21/100\n",
            "419/419 [==============================] - 5s 12ms/step - loss: 0.4078 - accuracy: 0.8560 - val_loss: 0.5373 - val_accuracy: 0.7957\n",
            "Epoch 22/100\n",
            "419/419 [==============================] - 5s 12ms/step - loss: 0.4093 - accuracy: 0.8507 - val_loss: 0.4930 - val_accuracy: 0.8548\n",
            "Epoch 23/100\n",
            "419/419 [==============================] - 5s 12ms/step - loss: 0.3796 - accuracy: 0.8608 - val_loss: 0.4844 - val_accuracy: 0.8226\n",
            "Epoch 24/100\n",
            "419/419 [==============================] - 5s 12ms/step - loss: 0.3478 - accuracy: 0.8668 - val_loss: 0.5049 - val_accuracy: 0.8387\n",
            "Epoch 25/100\n",
            "419/419 [==============================] - 5s 12ms/step - loss: 0.3530 - accuracy: 0.8793 - val_loss: 0.7936 - val_accuracy: 0.7527\n",
            "Epoch 26/100\n",
            "419/419 [==============================] - 5s 12ms/step - loss: 0.3155 - accuracy: 0.8913 - val_loss: 0.7526 - val_accuracy: 0.7796\n",
            "Epoch 27/100\n",
            "419/419 [==============================] - 5s 12ms/step - loss: 0.3156 - accuracy: 0.8925 - val_loss: 0.6108 - val_accuracy: 0.7957\n",
            "Epoch 28/100\n",
            "419/419 [==============================] - 5s 12ms/step - loss: 0.3208 - accuracy: 0.8877 - val_loss: 0.4795 - val_accuracy: 0.8441\n",
            "Epoch 29/100\n",
            "419/419 [==============================] - 5s 12ms/step - loss: 0.2920 - accuracy: 0.8961 - val_loss: 0.6160 - val_accuracy: 0.8118\n",
            "Epoch 30/100\n",
            "419/419 [==============================] - 5s 12ms/step - loss: 0.3108 - accuracy: 0.9026 - val_loss: 0.7270 - val_accuracy: 0.7796\n",
            "Epoch 31/100\n",
            "419/419 [==============================] - 5s 12ms/step - loss: 0.3012 - accuracy: 0.8865 - val_loss: 0.4637 - val_accuracy: 0.8710\n",
            "Epoch 32/100\n",
            "419/419 [==============================] - 5s 12ms/step - loss: 0.2736 - accuracy: 0.8990 - val_loss: 0.4133 - val_accuracy: 0.8602\n",
            "Epoch 33/100\n",
            "419/419 [==============================] - 5s 12ms/step - loss: 0.2676 - accuracy: 0.9044 - val_loss: 0.7066 - val_accuracy: 0.7634\n",
            "Epoch 34/100\n",
            "419/419 [==============================] - 5s 12ms/step - loss: 0.2559 - accuracy: 0.9098 - val_loss: 0.5923 - val_accuracy: 0.8011\n",
            "Epoch 35/100\n",
            "419/419 [==============================] - 5s 12ms/step - loss: 0.2404 - accuracy: 0.9176 - val_loss: 0.5187 - val_accuracy: 0.8548\n",
            "Epoch 36/100\n",
            "419/419 [==============================] - 5s 12ms/step - loss: 0.2480 - accuracy: 0.9128 - val_loss: 0.6386 - val_accuracy: 0.8280\n",
            "Epoch 37/100\n",
            "419/419 [==============================] - 5s 12ms/step - loss: 0.2382 - accuracy: 0.9182 - val_loss: 0.4817 - val_accuracy: 0.8226\n",
            "Epoch 38/100\n",
            "419/419 [==============================] - 5s 12ms/step - loss: 0.2317 - accuracy: 0.9217 - val_loss: 0.5504 - val_accuracy: 0.8065\n",
            "Epoch 39/100\n",
            "419/419 [==============================] - 5s 12ms/step - loss: 0.2239 - accuracy: 0.9247 - val_loss: 0.5104 - val_accuracy: 0.8656\n",
            "Epoch 40/100\n",
            "419/419 [==============================] - 5s 12ms/step - loss: 0.2223 - accuracy: 0.9253 - val_loss: 0.5271 - val_accuracy: 0.8387\n",
            "Epoch 41/100\n",
            "419/419 [==============================] - 5s 12ms/step - loss: 0.2232 - accuracy: 0.9253 - val_loss: 0.4379 - val_accuracy: 0.8656\n",
            "Epoch 42/100\n",
            "419/419 [==============================] - 5s 12ms/step - loss: 0.2084 - accuracy: 0.9331 - val_loss: 0.4916 - val_accuracy: 0.8602\n",
            "Epoch 43/100\n",
            "419/419 [==============================] - 5s 12ms/step - loss: 0.1890 - accuracy: 0.9307 - val_loss: 0.4669 - val_accuracy: 0.8495\n",
            "Epoch 44/100\n",
            "419/419 [==============================] - 5s 12ms/step - loss: 0.1898 - accuracy: 0.9343 - val_loss: 0.7537 - val_accuracy: 0.7742\n",
            "Epoch 45/100\n",
            "419/419 [==============================] - 5s 12ms/step - loss: 0.1904 - accuracy: 0.9301 - val_loss: 0.6763 - val_accuracy: 0.8065\n",
            "Epoch 46/100\n",
            "419/419 [==============================] - 5s 12ms/step - loss: 0.1872 - accuracy: 0.9241 - val_loss: 0.4546 - val_accuracy: 0.8602\n",
            "Epoch 47/100\n",
            "419/419 [==============================] - 5s 12ms/step - loss: 0.1778 - accuracy: 0.9373 - val_loss: 0.4376 - val_accuracy: 0.8441\n",
            "Epoch 48/100\n",
            "419/419 [==============================] - 5s 12ms/step - loss: 0.1867 - accuracy: 0.9367 - val_loss: 0.5110 - val_accuracy: 0.8710\n",
            "Epoch 49/100\n",
            "419/419 [==============================] - 5s 12ms/step - loss: 0.1782 - accuracy: 0.9343 - val_loss: 0.3757 - val_accuracy: 0.9140\n",
            "Epoch 50/100\n",
            "419/419 [==============================] - 5s 12ms/step - loss: 0.1825 - accuracy: 0.9403 - val_loss: 0.4516 - val_accuracy: 0.8817\n",
            "Epoch 51/100\n",
            "419/419 [==============================] - 5s 12ms/step - loss: 0.1674 - accuracy: 0.9421 - val_loss: 0.4654 - val_accuracy: 0.8548\n",
            "Epoch 52/100\n",
            "419/419 [==============================] - 5s 12ms/step - loss: 0.1783 - accuracy: 0.9379 - val_loss: 0.3938 - val_accuracy: 0.8871\n",
            "Epoch 53/100\n",
            "419/419 [==============================] - 5s 12ms/step - loss: 0.1666 - accuracy: 0.9444 - val_loss: 0.4044 - val_accuracy: 0.8871\n",
            "Epoch 54/100\n",
            "419/419 [==============================] - 5s 12ms/step - loss: 0.1497 - accuracy: 0.9480 - val_loss: 0.5623 - val_accuracy: 0.8817\n",
            "Epoch 55/100\n",
            "419/419 [==============================] - 5s 12ms/step - loss: 0.1650 - accuracy: 0.9432 - val_loss: 0.5902 - val_accuracy: 0.8710\n",
            "Epoch 56/100\n",
            "419/419 [==============================] - 5s 12ms/step - loss: 0.1534 - accuracy: 0.9438 - val_loss: 0.5123 - val_accuracy: 0.8333\n",
            "Epoch 57/100\n",
            "419/419 [==============================] - 5s 12ms/step - loss: 0.1803 - accuracy: 0.9421 - val_loss: 0.4189 - val_accuracy: 0.8656\n",
            "Epoch 58/100\n",
            "419/419 [==============================] - 5s 12ms/step - loss: 0.1640 - accuracy: 0.9421 - val_loss: 0.4418 - val_accuracy: 0.8763\n",
            "Epoch 59/100\n",
            "419/419 [==============================] - 5s 12ms/step - loss: 0.1543 - accuracy: 0.9450 - val_loss: 0.6712 - val_accuracy: 0.8172\n",
            "Epoch 60/100\n",
            "419/419 [==============================] - 5s 12ms/step - loss: 0.1358 - accuracy: 0.9504 - val_loss: 0.4024 - val_accuracy: 0.8925\n",
            "Epoch 61/100\n",
            "419/419 [==============================] - 5s 12ms/step - loss: 0.1415 - accuracy: 0.9528 - val_loss: 0.3575 - val_accuracy: 0.9086\n",
            "Epoch 62/100\n",
            "419/419 [==============================] - 5s 12ms/step - loss: 0.1517 - accuracy: 0.9528 - val_loss: 0.4262 - val_accuracy: 0.9032\n",
            "Epoch 63/100\n",
            "419/419 [==============================] - 5s 12ms/step - loss: 0.1453 - accuracy: 0.9522 - val_loss: 0.9488 - val_accuracy: 0.7957\n",
            "Epoch 64/100\n",
            "419/419 [==============================] - 5s 12ms/step - loss: 0.1577 - accuracy: 0.9456 - val_loss: 0.5508 - val_accuracy: 0.8656\n",
            "Epoch 65/100\n",
            "419/419 [==============================] - 5s 12ms/step - loss: 0.1350 - accuracy: 0.9516 - val_loss: 0.3439 - val_accuracy: 0.9086\n",
            "Epoch 66/100\n",
            "419/419 [==============================] - 5s 12ms/step - loss: 0.1347 - accuracy: 0.9534 - val_loss: 0.5335 - val_accuracy: 0.8441\n",
            "Epoch 67/100\n",
            "419/419 [==============================] - 5s 12ms/step - loss: 0.1541 - accuracy: 0.9528 - val_loss: 0.4728 - val_accuracy: 0.9032\n",
            "Epoch 68/100\n",
            "419/419 [==============================] - 5s 12ms/step - loss: 0.1212 - accuracy: 0.9570 - val_loss: 0.6646 - val_accuracy: 0.8441\n",
            "Epoch 69/100\n",
            "419/419 [==============================] - 5s 12ms/step - loss: 0.1468 - accuracy: 0.9540 - val_loss: 0.5380 - val_accuracy: 0.8871\n",
            "Epoch 70/100\n",
            "419/419 [==============================] - 5s 12ms/step - loss: 0.1603 - accuracy: 0.9450 - val_loss: 0.5209 - val_accuracy: 0.8817\n",
            "Epoch 71/100\n",
            "419/419 [==============================] - 5s 12ms/step - loss: 0.1344 - accuracy: 0.9534 - val_loss: 0.4853 - val_accuracy: 0.8656\n",
            "Epoch 72/100\n",
            "419/419 [==============================] - 5s 12ms/step - loss: 0.1205 - accuracy: 0.9600 - val_loss: 0.3158 - val_accuracy: 0.9247\n",
            "Epoch 73/100\n",
            "419/419 [==============================] - 5s 12ms/step - loss: 0.1572 - accuracy: 0.9504 - val_loss: 0.3919 - val_accuracy: 0.8978\n",
            "Epoch 74/100\n",
            "419/419 [==============================] - 5s 12ms/step - loss: 0.1373 - accuracy: 0.9534 - val_loss: 0.3962 - val_accuracy: 0.8978\n",
            "Epoch 75/100\n",
            "419/419 [==============================] - 5s 12ms/step - loss: 0.1282 - accuracy: 0.9618 - val_loss: 0.4775 - val_accuracy: 0.8817\n",
            "Epoch 76/100\n",
            "419/419 [==============================] - 5s 12ms/step - loss: 0.1225 - accuracy: 0.9582 - val_loss: 0.6121 - val_accuracy: 0.8387\n",
            "Epoch 77/100\n",
            "419/419 [==============================] - 5s 12ms/step - loss: 0.1343 - accuracy: 0.9576 - val_loss: 0.4073 - val_accuracy: 0.8871\n",
            "Epoch 78/100\n",
            "419/419 [==============================] - 5s 12ms/step - loss: 0.1088 - accuracy: 0.9588 - val_loss: 0.3942 - val_accuracy: 0.8925\n",
            "Epoch 79/100\n",
            "419/419 [==============================] - 5s 12ms/step - loss: 0.1317 - accuracy: 0.9570 - val_loss: 0.4649 - val_accuracy: 0.8978\n",
            "Epoch 80/100\n",
            "419/419 [==============================] - 5s 12ms/step - loss: 0.1185 - accuracy: 0.9665 - val_loss: 0.4280 - val_accuracy: 0.8763\n",
            "Epoch 81/100\n",
            "419/419 [==============================] - 5s 12ms/step - loss: 0.1422 - accuracy: 0.9576 - val_loss: 0.5722 - val_accuracy: 0.8710\n",
            "Epoch 82/100\n",
            "419/419 [==============================] - 5s 12ms/step - loss: 0.1429 - accuracy: 0.9546 - val_loss: 0.3518 - val_accuracy: 0.9032\n",
            "Epoch 83/100\n",
            "419/419 [==============================] - 5s 12ms/step - loss: 0.1191 - accuracy: 0.9588 - val_loss: 0.3587 - val_accuracy: 0.8817\n",
            "Epoch 84/100\n",
            "419/419 [==============================] - 5s 12ms/step - loss: 0.1355 - accuracy: 0.9558 - val_loss: 0.4633 - val_accuracy: 0.8925\n",
            "Epoch 85/100\n",
            "419/419 [==============================] - 5s 12ms/step - loss: 0.1205 - accuracy: 0.9594 - val_loss: 0.3640 - val_accuracy: 0.9086\n",
            "Epoch 86/100\n",
            "419/419 [==============================] - 5s 12ms/step - loss: 0.1200 - accuracy: 0.9630 - val_loss: 0.3823 - val_accuracy: 0.9086\n",
            "Epoch 87/100\n",
            "419/419 [==============================] - 5s 12ms/step - loss: 0.1032 - accuracy: 0.9659 - val_loss: 0.4664 - val_accuracy: 0.8925\n",
            "Epoch 88/100\n",
            "419/419 [==============================] - 5s 12ms/step - loss: 0.0973 - accuracy: 0.9701 - val_loss: 0.5007 - val_accuracy: 0.8817\n",
            "Epoch 89/100\n",
            "419/419 [==============================] - 5s 12ms/step - loss: 0.1479 - accuracy: 0.9522 - val_loss: 0.3852 - val_accuracy: 0.8871\n",
            "Epoch 90/100\n",
            "419/419 [==============================] - 5s 12ms/step - loss: 0.1190 - accuracy: 0.9606 - val_loss: 0.5070 - val_accuracy: 0.8817\n",
            "Epoch 91/100\n",
            "419/419 [==============================] - 5s 12ms/step - loss: 0.1225 - accuracy: 0.9648 - val_loss: 0.5288 - val_accuracy: 0.8710\n",
            "Epoch 92/100\n",
            "419/419 [==============================] - 5s 12ms/step - loss: 0.1022 - accuracy: 0.9677 - val_loss: 0.4687 - val_accuracy: 0.8763\n"
          ]
        }
      ]
    },
    {
      "cell_type": "code",
      "source": [
        "# Evaluate the trained model.\n",
        "model_evaluation_history = LRCN_model.evaluate(features_test, labels_test)"
      ],
      "metadata": {
        "colab": {
          "base_uri": "https://localhost:8080/"
        },
        "id": "sa-sTkK6Q-ks",
        "outputId": "6a2e4036-4936-4821-d17f-3fdd3240f278"
      },
      "execution_count": 14,
      "outputs": [
        {
          "output_type": "stream",
          "name": "stdout",
          "text": [
            "7/7 [==============================] - 0s 29ms/step - loss: 0.4245 - accuracy: 0.8937\n"
          ]
        }
      ]
    },
    {
      "cell_type": "code",
      "source": [
        "# Get the loss and accuracy from model_evaluation_history.\n",
        "model_evaluation_loss, model_evaluation_accuracy = model_evaluation_history\n",
        "\n",
        "# Define the string date format.\n",
        "# Get the current Date and Time in a DateTime Object.\n",
        "# Convert the DateTime object to string according to the style mentioned in date_time_format string.\n",
        "date_time_format = '%Y_%m_%d__%H_%M_%S'\n",
        "current_date_time_dt = dt.datetime.now()\n",
        "current_date_time_string = dt.datetime.strftime(current_date_time_dt, date_time_format)\n",
        "    \n",
        "# Define a useful name for our model to make it easy for us while navigating through multiple saved models.\n",
        "model_file_name = f'LRCN_model___Date_Time_{current_date_time_string}___Loss_{model_evaluation_loss}___Accuracy_{model_evaluation_accuracy}.h5'\n",
        "\n",
        "# Save the Model.\n",
        "LRCN_model.save(model_file_name)"
      ],
      "metadata": {
        "id": "D3J57fVJRCEa"
      },
      "execution_count": null,
      "outputs": []
    },
    {
      "cell_type": "code",
      "source": [
        "def plot_metric(model_training_history, metric_name_1, metric_name_2, plot_name):\n",
        "    '''\n",
        "    This function will plot the metrics passed to it in a graph.\n",
        "    Args:\n",
        "        model_training_history: A history object containing a record of training and validation \n",
        "                                loss values and metrics values at successive epochs\n",
        "        metric_name_1:          The name of the first metric that needs to be plotted in the graph.\n",
        "        metric_name_2:          The name of the second metric that needs to be plotted in the graph.\n",
        "        plot_name:              The title of the graph.\n",
        "    '''\n",
        "    \n",
        "    # Get metric values using metric names as identifiers.\n",
        "    metric_value_1 = model_training_history.history[metric_name_1]\n",
        "    metric_value_2 = model_training_history.history[metric_name_2]\n",
        "    \n",
        "    # Construct a range object which will be used as x-axis (horizontal plane) of the graph.\n",
        "    epochs = range(len(metric_value_1))\n",
        "\n",
        "    # Plot the Graph.\n",
        "    plt.plot(epochs, metric_value_1, 'blue', label = metric_name_1)\n",
        "    plt.plot(epochs, metric_value_2, 'red', label = metric_name_2)\n",
        "\n",
        "    # Add title to the plot.\n",
        "    plt.title(str(plot_name))\n",
        "\n",
        "    # Add legend to the plot.\n",
        "    plt.legend()"
      ],
      "metadata": {
        "id": "sXhBv91xRFgU"
      },
      "execution_count": 15,
      "outputs": []
    },
    {
      "cell_type": "code",
      "source": [
        "# Visualize the training and validation loss metrices.\n",
        "plot_metric(LRCN_model_training_history, 'loss', 'val_loss', 'Total Loss vs Total Validation Loss')"
      ],
      "metadata": {
        "colab": {
          "base_uri": "https://localhost:8080/",
          "height": 281
        },
        "id": "cKhf3si1RJUW",
        "outputId": "67ea5cea-3223-458d-f54c-c6186fcfa8c4"
      },
      "execution_count": 16,
      "outputs": [
        {
          "output_type": "display_data",
          "data": {
            "text/plain": [
              "<Figure size 432x288 with 1 Axes>"
            ],
            "image/png": "[encoded data removed]"
          },
          "metadata": {
            "needs_background": "light"
          }
        }
      ]
    },
    {
      "cell_type": "code",
      "source": [
        "# Visualize the training and validation accuracy metrices.\n",
        "plot_metric(LRCN_model_training_history, 'accuracy', 'val_accuracy', 'Total Accuracy vs Total Validation Accuracy')"
      ],
      "metadata": {
        "colab": {
          "base_uri": "https://localhost:8080/",
          "height": 281
        },
        "id": "5JB37wh3RLWX",
        "outputId": "60b9a157-b3d4-4a9b-c378-1266d3a8c064"
      },
      "execution_count": 17,
      "outputs": [
        {
          "output_type": "display_data",
          "data": {
            "text/plain": [
              "<Figure size 432x288 with 1 Axes>"
            ],
            "image/png": "[encoded data removed]"
          },
          "metadata": {
            "needs_background": "light"
          }
        }
      ]
    },
    {
      "cell_type": "code",
      "source": [
        "predictions =  LRCN_model.predict(features_test)\n",
        "predictions\n"
      ],
      "metadata": {
        "colab": {
          "base_uri": "https://localhost:8080/"
        },
        "id": "yM7edJgyRf-P",
        "outputId": "593e5c2a-5641-42f9-c596-83a605c4a8b1"
      },
      "execution_count": 18,
      "outputs": [
        {
          "output_type": "execute_result",
          "data": {
            "text/plain": [
              "array([[8.6225718e-01, 6.3033234e-03, 1.0739045e-05, 1.2852544e-01,\n",
              "        1.5574206e-03, 1.3458251e-03],\n",
              "       [2.4350613e-05, 2.1521437e-03, 3.4401246e-06, 9.9236828e-01,\n",
              "        3.7735871e-03, 1.6781905e-03],\n",
              "       [3.2317277e-07, 3.0968302e-05, 9.9996674e-01, 7.5128742e-07,\n",
              "        1.9319515e-07, 1.0315810e-06],\n",
              "       ...,\n",
              "       [1.5857291e-03, 1.9597552e-04, 2.8255672e-04, 4.7996728e-04,\n",
              "        6.4213705e-01, 3.5531870e-01],\n",
              "       [4.7366402e-07, 4.9077386e-07, 1.3306621e-07, 2.5518773e-05,\n",
              "        9.9982965e-01, 1.4369960e-04],\n",
              "       [1.3192755e-04, 9.9044669e-01, 8.3333915e-03, 5.9043308e-04,\n",
              "        2.8923224e-04, 2.0836551e-04]], dtype=float32)"
            ]
          },
          "metadata": {},
          "execution_count": 18
        }
      ]
    },
    {
      "cell_type": "code",
      "source": [
        "preds=predictions.argmax(axis=1)\n",
        "preds"
      ],
      "metadata": {
        "colab": {
          "base_uri": "https://localhost:8080/"
        },
        "id": "DNHaLfq2RjeT",
        "outputId": "2af3fdf8-68e3-4261-d102-f4712f7a07b9"
      },
      "execution_count": 19,
      "outputs": [
        {
          "output_type": "execute_result",
          "data": {
            "text/plain": [
              "array([0, 3, 2, 5, 5, 2, 5, 1, 3, 0, 3, 1, 4, 0, 4, 5, 4, 1, 2, 1, 5, 2,\n",
              "       0, 2, 2, 5, 3, 5, 5, 5, 5, 4, 5, 0, 1, 2, 3, 1, 5, 4, 2, 2, 1, 5,\n",
              "       2, 0, 5, 0, 3, 5, 4, 2, 1, 3, 3, 0, 5, 0, 2, 5, 4, 4, 5, 3, 1, 3,\n",
              "       1, 0, 5, 1, 1, 2, 5, 3, 5, 4, 0, 3, 4, 4, 3, 0, 4, 0, 3, 1, 2, 3,\n",
              "       3, 5, 5, 1, 0, 1, 5, 5, 1, 2, 5, 0, 5, 3, 3, 5, 4, 3, 2, 1, 4, 1,\n",
              "       5, 2, 0, 0, 4, 0, 4, 4, 1, 1, 1, 5, 1, 4, 1, 2, 3, 2, 5, 1, 1, 0,\n",
              "       1, 5, 1, 0, 5, 0, 1, 1, 2, 1, 2, 3, 1, 2, 3, 0, 0, 3, 2, 3, 5, 3,\n",
              "       1, 2, 1, 3, 1, 0, 1, 3, 3, 2, 4, 1, 0, 0, 5, 4, 4, 3, 1, 4, 3, 1,\n",
              "       5, 0, 4, 5, 4, 0, 3, 5, 3, 3, 1, 3, 3, 4, 1, 4, 1, 0, 4, 2, 3, 1,\n",
              "       4, 5, 3, 2, 5, 2, 4, 4, 1])"
            ]
          },
          "metadata": {},
          "execution_count": 19
        }
      ]
    },
    {
      "cell_type": "code",
      "source": [
        "new_preds = preds.astype(int).flatten()\n",
        "new_preds"
      ],
      "metadata": {
        "colab": {
          "base_uri": "https://localhost:8080/"
        },
        "id": "0W618McKRl02",
        "outputId": "47bc9714-1e0b-400b-b5a7-bacc818373bb"
      },
      "execution_count": 20,
      "outputs": [
        {
          "output_type": "execute_result",
          "data": {
            "text/plain": [
              "array([0, 3, 2, 5, 5, 2, 5, 1, 3, 0, 3, 1, 4, 0, 4, 5, 4, 1, 2, 1, 5, 2,\n",
              "       0, 2, 2, 5, 3, 5, 5, 5, 5, 4, 5, 0, 1, 2, 3, 1, 5, 4, 2, 2, 1, 5,\n",
              "       2, 0, 5, 0, 3, 5, 4, 2, 1, 3, 3, 0, 5, 0, 2, 5, 4, 4, 5, 3, 1, 3,\n",
              "       1, 0, 5, 1, 1, 2, 5, 3, 5, 4, 0, 3, 4, 4, 3, 0, 4, 0, 3, 1, 2, 3,\n",
              "       3, 5, 5, 1, 0, 1, 5, 5, 1, 2, 5, 0, 5, 3, 3, 5, 4, 3, 2, 1, 4, 1,\n",
              "       5, 2, 0, 0, 4, 0, 4, 4, 1, 1, 1, 5, 1, 4, 1, 2, 3, 2, 5, 1, 1, 0,\n",
              "       1, 5, 1, 0, 5, 0, 1, 1, 2, 1, 2, 3, 1, 2, 3, 0, 0, 3, 2, 3, 5, 3,\n",
              "       1, 2, 1, 3, 1, 0, 1, 3, 3, 2, 4, 1, 0, 0, 5, 4, 4, 3, 1, 4, 3, 1,\n",
              "       5, 0, 4, 5, 4, 0, 3, 5, 3, 3, 1, 3, 3, 4, 1, 4, 1, 0, 4, 2, 3, 1,\n",
              "       4, 5, 3, 2, 5, 2, 4, 4, 1])"
            ]
          },
          "metadata": {},
          "execution_count": 20
        }
      ]
    },
    {
      "cell_type": "code",
      "source": [
        "\n",
        "from sklearn.metrics import classification_report, confusion_matrix,accuracy_score\n",
        "import seaborn as sn\n",
        "import pandas as pd\n",
        "import numpy as np\n",
        "new_labels=np.argmax(labels_test, axis=1)\n",
        "print(classification_report(new_labels,new_preds))\n",
        "\n",
        "acc = float(accuracy_score(new_labels,new_preds))*100\n",
        "print(\"----accuracy score %s ----\" % acc)\n",
        "\n",
        "cm = confusion_matrix(new_labels,new_preds)\n",
        "#df_cm = pd.DataFrame(cm)\n",
        "class_names = ['neutral','calm', 'happy','sad','angry', 'fearful' ]\n",
        "df_cm = pd.DataFrame(cm, index=class_names, columns=class_names,)\n",
        "sn.heatmap(df_cm, annot=True, fmt='')\n",
        "plt.show()\n"
      ],
      "metadata": {
        "colab": {
          "base_uri": "https://localhost:8080/",
          "height": 508
        },
        "id": "cTET95L8RoVW",
        "outputId": "7ceb2d50-b5ed-4cff-a7f7-490687f0f7ce"
      },
      "execution_count": 21,
      "outputs": [
        {
          "output_type": "stream",
          "name": "stdout",
          "text": [
            "              precision    recall  f1-score   support\n",
            "\n",
            "           0       0.79      0.85      0.82        27\n",
            "           1       0.91      0.89      0.90        44\n",
            "           2       0.96      0.90      0.93        30\n",
            "           3       0.84      0.91      0.87        34\n",
            "           4       0.97      0.85      0.91        34\n",
            "           5       0.90      0.95      0.92        38\n",
            "\n",
            "    accuracy                           0.89       207\n",
            "   macro avg       0.89      0.89      0.89       207\n",
            "weighted avg       0.90      0.89      0.89       207\n",
            "\n",
            "----accuracy score 89.3719806763285 ----\n"
          ]
        },
        {
          "output_type": "display_data",
          "data": {
            "text/plain": [
              "<Figure size 432x288 with 2 Axes>"
            ],
            "image/png": "[encoded data removed]"
          },
          "metadata": {
            "needs_background": "light"
          }
        }
      ]
    },
    {
      "cell_type": "code",
      "source": [
        ""
      ],
      "metadata": {
        "id": "c3nbyK6BfnDR"
      },
      "execution_count": null,
      "outputs": []
    }
  ]
}