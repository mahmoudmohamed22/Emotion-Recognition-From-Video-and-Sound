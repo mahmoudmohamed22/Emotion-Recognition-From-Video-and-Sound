{
  "nbformat": 4,
  "nbformat_minor": 0,
  "metadata": {
    "colab": {
      "name": "video_emotion_recognition_landmark_rms_1.ipynb",
      "provenance": [],
      "collapsed_sections": [],
      "machine_shape": "hm"
    },
    "kernelspec": {
      "name": "python3",
      "display_name": "Python 3"
    },
    "accelerator": "GPU"
  },
  "cells": [
    {
      "cell_type": "code",
      "source": [
        "from google.colab import drive\n",
        "drive.mount('/content/drive')"
      ],
      "metadata": {
        "colab": {
          "base_uri": "https://localhost:8080/"
        },
        "id": "o94I67GBPVfM",
        "outputId": "0dd03eca-ab61-4cf8-cdc5-3e9da32f2644"
      },
      "execution_count": 1,
      "outputs": [
        {
          "output_type": "stream",
          "name": "stdout",
          "text": [
            "Mounted at /content/drive\n"
          ]
        }
      ]
    },
    {
      "cell_type": "code",
      "source": [
        "# Discard the output of this cell.\n",
        "#%%capture\n",
        "\n",
        "# Install the required libraries.\n",
        "!pip install tensorflow opencv-contrib-python youtube-dl moviepy pydot\n",
        "!pip install git+https://github.com/TahaAnwar/pafy.git#egg=pafy"
      ],
      "metadata": {
        "colab": {
          "base_uri": "https://localhost:8080/"
        },
        "id": "6OQ7vRnzP6n8",
        "outputId": "b9478631-db64-42ab-f149-eeb570fa0640"
      },
      "execution_count": 2,
      "outputs": [
        {
          "output_type": "stream",
          "name": "stdout",
          "text": [
            "Looking in indexes: https://pypi.org/simple, https://us-python.pkg.dev/colab-wheels/public/simple/\n",
            "Requirement already satisfied: tensorflow in /usr/local/lib/python3.7/dist-packages (2.8.2+zzzcolab20220527125636)\n",
            "Requirement already satisfied: opencv-contrib-python in /usr/local/lib/python3.7/dist-packages (4.1.2.30)\n",
            "Collecting youtube-dl\n",
            "  Downloading youtube_dl-2021.12.17-py2.py3-none-any.whl (1.9 MB)\n",
            "\u001b[K     |████████████████████████████████| 1.9 MB 7.9 MB/s \n",
            "\u001b[?25hRequirement already satisfied: moviepy in /usr/local/lib/python3.7/dist-packages (0.2.3.5)\n",
            "Requirement already satisfied: pydot in /usr/local/lib/python3.7/dist-packages (1.3.0)\n",
            "Requirement already satisfied: wrapt>=1.11.0 in /usr/local/lib/python3.7/dist-packages (from tensorflow) (1.14.1)\n",
            "Requirement already satisfied: keras-preprocessing>=1.1.1 in /usr/local/lib/python3.7/dist-packages (from tensorflow) (1.1.2)\n",
            "Requirement already satisfied: termcolor>=1.1.0 in /usr/local/lib/python3.7/dist-packages (from tensorflow) (1.1.0)\n",
            "Requirement already satisfied: grpcio<2.0,>=1.24.3 in /usr/local/lib/python3.7/dist-packages (from tensorflow) (1.46.3)\n",
            "Requirement already satisfied: tensorflow-io-gcs-filesystem>=0.23.1 in /usr/local/lib/python3.7/dist-packages (from tensorflow) (0.26.0)\n",
            "Requirement already satisfied: opt-einsum>=2.3.2 in /usr/local/lib/python3.7/dist-packages (from tensorflow) (3.3.0)\n",
            "Requirement already satisfied: typing-extensions>=3.6.6 in /usr/local/lib/python3.7/dist-packages (from tensorflow) (4.2.0)\n",
            "Requirement already satisfied: astunparse>=1.6.0 in /usr/local/lib/python3.7/dist-packages (from tensorflow) (1.6.3)\n",
            "Requirement already satisfied: six>=1.12.0 in /usr/local/lib/python3.7/dist-packages (from tensorflow) (1.15.0)\n",
            "Requirement already satisfied: google-pasta>=0.1.1 in /usr/local/lib/python3.7/dist-packages (from tensorflow) (0.2.0)\n",
            "Requirement already satisfied: keras<2.9,>=2.8.0rc0 in /usr/local/lib/python3.7/dist-packages (from tensorflow) (2.8.0)\n",
            "Requirement already satisfied: absl-py>=0.4.0 in /usr/local/lib/python3.7/dist-packages (from tensorflow) (1.0.0)\n",
            "Requirement already satisfied: h5py>=2.9.0 in /usr/local/lib/python3.7/dist-packages (from tensorflow) (3.1.0)\n",
            "Requirement already satisfied: protobuf<3.20,>=3.9.2 in /usr/local/lib/python3.7/dist-packages (from tensorflow) (3.17.3)\n",
            "Requirement already satisfied: tensorboard<2.9,>=2.8 in /usr/local/lib/python3.7/dist-packages (from tensorflow) (2.8.0)\n",
            "Requirement already satisfied: setuptools in /usr/local/lib/python3.7/dist-packages (from tensorflow) (57.4.0)\n",
            "Requirement already satisfied: tensorflow-estimator<2.9,>=2.8 in /usr/local/lib/python3.7/dist-packages (from tensorflow) (2.8.0)\n",
            "Requirement already satisfied: flatbuffers>=1.12 in /usr/local/lib/python3.7/dist-packages (from tensorflow) (2.0)\n",
            "Requirement already satisfied: numpy>=1.20 in /usr/local/lib/python3.7/dist-packages (from tensorflow) (1.21.6)\n",
            "Requirement already satisfied: gast>=0.2.1 in /usr/local/lib/python3.7/dist-packages (from tensorflow) (0.5.3)\n",
            "Requirement already satisfied: libclang>=9.0.1 in /usr/local/lib/python3.7/dist-packages (from tensorflow) (14.0.1)\n",
            "Requirement already satisfied: wheel<1.0,>=0.23.0 in /usr/local/lib/python3.7/dist-packages (from astunparse>=1.6.0->tensorflow) (0.37.1)\n",
            "Requirement already satisfied: cached-property in /usr/local/lib/python3.7/dist-packages (from h5py>=2.9.0->tensorflow) (1.5.2)\n",
            "Requirement already satisfied: tensorboard-data-server<0.7.0,>=0.6.0 in /usr/local/lib/python3.7/dist-packages (from tensorboard<2.9,>=2.8->tensorflow) (0.6.1)\n",
            "Requirement already satisfied: tensorboard-plugin-wit>=1.6.0 in /usr/local/lib/python3.7/dist-packages (from tensorboard<2.9,>=2.8->tensorflow) (1.8.1)\n",
            "Requirement already satisfied: werkzeug>=0.11.15 in /usr/local/lib/python3.7/dist-packages (from tensorboard<2.9,>=2.8->tensorflow) (1.0.1)\n",
            "Requirement already satisfied: google-auth-oauthlib<0.5,>=0.4.1 in /usr/local/lib/python3.7/dist-packages (from tensorboard<2.9,>=2.8->tensorflow) (0.4.6)\n",
            "Requirement already satisfied: google-auth<3,>=1.6.3 in /usr/local/lib/python3.7/dist-packages (from tensorboard<2.9,>=2.8->tensorflow) (1.35.0)\n",
            "Requirement already satisfied: requests<3,>=2.21.0 in /usr/local/lib/python3.7/dist-packages (from tensorboard<2.9,>=2.8->tensorflow) (2.23.0)\n",
            "Requirement already satisfied: markdown>=2.6.8 in /usr/local/lib/python3.7/dist-packages (from tensorboard<2.9,>=2.8->tensorflow) (3.3.7)\n",
            "Requirement already satisfied: cachetools<5.0,>=2.0.0 in /usr/local/lib/python3.7/dist-packages (from google-auth<3,>=1.6.3->tensorboard<2.9,>=2.8->tensorflow) (4.2.4)\n",
            "Requirement already satisfied: rsa<5,>=3.1.4 in /usr/local/lib/python3.7/dist-packages (from google-auth<3,>=1.6.3->tensorboard<2.9,>=2.8->tensorflow) (4.8)\n",
            "Requirement already satisfied: pyasn1-modules>=0.2.1 in /usr/local/lib/python3.7/dist-packages (from google-auth<3,>=1.6.3->tensorboard<2.9,>=2.8->tensorflow) (0.2.8)\n",
            "Requirement already satisfied: requests-oauthlib>=0.7.0 in /usr/local/lib/python3.7/dist-packages (from google-auth-oauthlib<0.5,>=0.4.1->tensorboard<2.9,>=2.8->tensorflow) (1.3.1)\n",
            "Requirement already satisfied: importlib-metadata>=4.4 in /usr/local/lib/python3.7/dist-packages (from markdown>=2.6.8->tensorboard<2.9,>=2.8->tensorflow) (4.11.4)\n",
            "Requirement already satisfied: zipp>=0.5 in /usr/local/lib/python3.7/dist-packages (from importlib-metadata>=4.4->markdown>=2.6.8->tensorboard<2.9,>=2.8->tensorflow) (3.8.0)\n",
            "Requirement already satisfied: pyasn1<0.5.0,>=0.4.6 in /usr/local/lib/python3.7/dist-packages (from pyasn1-modules>=0.2.1->google-auth<3,>=1.6.3->tensorboard<2.9,>=2.8->tensorflow) (0.4.8)\n",
            "Requirement already satisfied: urllib3!=1.25.0,!=1.25.1,<1.26,>=1.21.1 in /usr/local/lib/python3.7/dist-packages (from requests<3,>=2.21.0->tensorboard<2.9,>=2.8->tensorflow) (1.24.3)\n",
            "Requirement already satisfied: chardet<4,>=3.0.2 in /usr/local/lib/python3.7/dist-packages (from requests<3,>=2.21.0->tensorboard<2.9,>=2.8->tensorflow) (3.0.4)\n",
            "Requirement already satisfied: idna<3,>=2.5 in /usr/local/lib/python3.7/dist-packages (from requests<3,>=2.21.0->tensorboard<2.9,>=2.8->tensorflow) (2.10)\n",
            "Requirement already satisfied: certifi>=2017.4.17 in /usr/local/lib/python3.7/dist-packages (from requests<3,>=2.21.0->tensorboard<2.9,>=2.8->tensorflow) (2022.5.18.1)\n",
            "Requirement already satisfied: oauthlib>=3.0.0 in /usr/local/lib/python3.7/dist-packages (from requests-oauthlib>=0.7.0->google-auth-oauthlib<0.5,>=0.4.1->tensorboard<2.9,>=2.8->tensorflow) (3.2.0)\n",
            "Requirement already satisfied: decorator<5.0,>=4.0.2 in /usr/local/lib/python3.7/dist-packages (from moviepy) (4.4.2)\n",
            "Requirement already satisfied: imageio<3.0,>=2.1.2 in /usr/local/lib/python3.7/dist-packages (from moviepy) (2.4.1)\n",
            "Requirement already satisfied: tqdm<5.0,>=4.11.2 in /usr/local/lib/python3.7/dist-packages (from moviepy) (4.64.0)\n",
            "Requirement already satisfied: pillow in /usr/local/lib/python3.7/dist-packages (from imageio<3.0,>=2.1.2->moviepy) (7.1.2)\n",
            "Requirement already satisfied: pyparsing>=2.1.4 in /usr/local/lib/python3.7/dist-packages (from pydot) (3.0.9)\n",
            "Installing collected packages: youtube-dl\n",
            "Successfully installed youtube-dl-2021.12.17\n",
            "Looking in indexes: https://pypi.org/simple, https://us-python.pkg.dev/colab-wheels/public/simple/\n",
            "Collecting pafy\n",
            "  Cloning https://github.com/TahaAnwar/pafy.git to /tmp/pip-install-h8k37qsf/pafy_24b52e8df36f4f6483bb8055a4b9f7c5\n",
            "  Running command git clone -q https://github.com/TahaAnwar/pafy.git /tmp/pip-install-h8k37qsf/pafy_24b52e8df36f4f6483bb8055a4b9f7c5\n",
            "Building wheels for collected packages: pafy\n",
            "  Building wheel for pafy (setup.py) ... \u001b[?25l\u001b[?25hdone\n",
            "  Created wheel for pafy: filename=pafy-0.5.5-py2.py3-none-any.whl size=35706 sha256=96996f17791ea4b863ac34cd5508836d7d16e9e80bb3e98a2fb469098ed9b6b9\n",
            "  Stored in directory: /tmp/pip-ephem-wheel-cache-z6ip_dhp/wheels/64/82/dd/3d7823b3bbbe1aca9b30f8cf0d6bb6c1b72ccd95e3360f8190\n",
            "Successfully built pafy\n",
            "Installing collected packages: pafy\n",
            "Successfully installed pafy-0.5.5\n"
          ]
        }
      ]
    },
    {
      "cell_type": "code",
      "source": [
        "# Import the required libraries.\n",
        "import os\n",
        "import cv2\n",
        "import pafy\n",
        "import math\n",
        "import random\n",
        "import numpy as np\n",
        "import datetime as dt\n",
        "import tensorflow as tf\n",
        "from collections import deque\n",
        "import matplotlib.pyplot as plt\n",
        "\n",
        "from moviepy.editor import *\n",
        "%matplotlib inline\n",
        "\n",
        "from sklearn.model_selection import train_test_split\n",
        "\n",
        "from tensorflow.keras.layers import *\n",
        "from tensorflow.keras.models import Sequential\n",
        "from tensorflow.keras.utils import to_categorical\n",
        "from tensorflow.keras.callbacks import EarlyStopping\n",
        "from tensorflow.keras.utils import plot_model"
      ],
      "metadata": {
        "id": "LiLwshTpP-OB",
        "colab": {
          "base_uri": "https://localhost:8080/"
        },
        "outputId": "1bef3080-97fe-4cf2-f4e0-2c8dba68e58a"
      },
      "execution_count": 3,
      "outputs": [
        {
          "output_type": "stream",
          "name": "stdout",
          "text": [
            "Imageio: 'ffmpeg-linux64-v3.3.1' was not found on your computer; downloading it now.\n",
            "Try 1. Download from https://github.com/imageio/imageio-binaries/raw/master/ffmpeg/ffmpeg-linux64-v3.3.1 (43.8 MB)\n",
            "Downloading: 8192/45929032 bytes (0.0%)\b\b\b\b\b\b\b\b\b\b\b\b\b\b\b\b\b\b\b\b\b\b\b\b\b\b2916352/45929032 bytes (6.3%)\b\b\b\b\b\b\b\b\b\b\b\b\b\b\b\b\b\b\b\b\b\b\b\b\b\b\b\b\b6561792/45929032 bytes (14.3%)\b\b\b\b\b\b\b\b\b\b\b\b\b\b\b\b\b\b\b\b\b\b\b\b\b\b\b\b\b\b10027008/45929032 bytes (21.8%)\b\b\b\b\b\b\b\b\b\b\b\b\b\b\b\b\b\b\b\b\b\b\b\b\b\b\b\b\b\b\b13377536/45929032 bytes (29.1%)\b\b\b\b\b\b\b\b\b\b\b\b\b\b\b\b\b\b\b\b\b\b\b\b\b\b\b\b\b\b\b16596992/45929032 bytes (36.1%)\b\b\b\b\b\b\b\b\b\b\b\b\b\b\b\b\b\b\b\b\b\b\b\b\b\b\b\b\b\b\b19259392/45929032 bytes (41.9%)\b\b\b\b\b\b\b\b\b\b\b\b\b\b\b\b\b\b\b\b\b\b\b\b\b\b\b\b\b\b\b22544384/45929032 bytes (49.1%)\b\b\b\b\b\b\b\b\b\b\b\b\b\b\b\b\b\b\b\b\b\b\b\b\b\b\b\b\b\b\b25772032/45929032 bytes (56.1%)\b\b\b\b\b\b\b\b\b\b\b\b\b\b\b\b\b\b\b\b\b\b\b\b\b\b\b\b\b\b\b29270016/45929032 bytes (63.7%)\b\b\b\b\b\b\b\b\b\b\b\b\b\b\b\b\b\b\b\b\b\b\b\b\b\b\b\b\b\b\b32735232/45929032 bytes (71.3%)\b\b\b\b\b\b\b\b\b\b\b\b\b\b\b\b\b\b\b\b\b\b\b\b\b\b\b\b\b\b\b35971072/45929032 bytes (78.3%)\b\b\b\b\b\b\b\b\b\b\b\b\b\b\b\b\b\b\b\b\b\b\b\b\b\b\b\b\b\b\b39960576/45929032 bytes (87.0%)\b\b\b\b\b\b\b\b\b\b\b\b\b\b\b\b\b\b\b\b\b\b\b\b\b\b\b\b\b\b\b43450368/45929032 bytes (94.6%)\b\b\b\b\b\b\b\b\b\b\b\b\b\b\b\b\b\b\b\b\b\b\b\b\b\b\b\b\b\b\b45929032/45929032 bytes (100.0%)\n",
            "  Done\n",
            "File saved as /root/.imageio/ffmpeg/ffmpeg-linux64-v3.3.1.\n"
          ]
        }
      ]
    },
    {
      "cell_type": "code",
      "source": [
        "seed_constant = 27\n",
        "np.random.seed(seed_constant)\n",
        "random.seed(seed_constant)\n",
        "tf.random.set_seed(seed_constant)"
      ],
      "metadata": {
        "id": "u4EtD4rrQEnb"
      },
      "execution_count": 4,
      "outputs": []
    },
    {
      "cell_type": "code",
      "source": [
        "# Specify the height and width to which each video frame will be resized in our dataset.\n",
        "IMAGE_HEIGHT , IMAGE_WIDTH = 64, 64\n",
        "\n",
        "# Specify the number of frames of a video that will be fed to the model as one sequence.\n",
        "SEQUENCE_LENGTH = 30\n",
        "\n",
        "# Specify the directory containing the UCF50 dataset. \n",
        "#DATASET_DIR = \"/content/drive/MyDrive/videospeech_label\"\n",
        "\n",
        "# Specify the list containing the names of the classes used for training. Feel free to choose any set of classes.\n",
        "CLASSES_LIST = [\"neutral\", \"calm\", \"happy\", \"sad\",\"angry\",\"fearful\"]"
      ],
      "metadata": {
        "id": "7H6KBiblQKE9"
      },
      "execution_count": 5,
      "outputs": []
    },
    {
      "cell_type": "code",
      "source": [
        "import joblib\n",
        "features=joblib.load('/content/drive/My Drive/features_ravdess/data_set/features_data')\n",
        "labels=joblib.load('/content/drive/My Drive/features_ravdess/data_set/labels')\n",
        "video_file_path=joblib.load('/content/drive/My Drive/features_ravdess/data_set/video_path')"
      ],
      "metadata": {
        "id": "V_rh-id5cmwd"
      },
      "execution_count": 6,
      "outputs": []
    },
    {
      "cell_type": "code",
      "source": [
        "features = np.asarray(features)\n",
        "labels = np.array(labels)  "
      ],
      "metadata": {
        "id": "WI3wNd7zdKzJ"
      },
      "execution_count": 7,
      "outputs": []
    },
    {
      "cell_type": "code",
      "source": [
        "features.shape"
      ],
      "metadata": {
        "colab": {
          "base_uri": "https://localhost:8080/"
        },
        "id": "pnnmkPz5Qh75",
        "outputId": "e1b6623d-299b-469b-dd3c-f3186f11af8c"
      },
      "execution_count": 8,
      "outputs": [
        {
          "output_type": "execute_result",
          "data": {
            "text/plain": [
              "(2067, 30, 64, 64, 3)"
            ]
          },
          "metadata": {},
          "execution_count": 8
        }
      ]
    },
    {
      "cell_type": "code",
      "source": [
        "labels.shape"
      ],
      "metadata": {
        "colab": {
          "base_uri": "https://localhost:8080/"
        },
        "id": "kSGvdE_hQklC",
        "outputId": "3f6c9300-b61b-4620-e0e9-8e4c4c240cb4"
      },
      "execution_count": 9,
      "outputs": [
        {
          "output_type": "execute_result",
          "data": {
            "text/plain": [
              "(2067,)"
            ]
          },
          "metadata": {},
          "execution_count": 9
        }
      ]
    },
    {
      "cell_type": "code",
      "source": [
        "# Using Keras's to_categorical method to convert labels into one-hot-encoded vectors\n",
        "one_hot_encoded_labels = to_categorical(labels)"
      ],
      "metadata": {
        "id": "DGicVwcRQn9x"
      },
      "execution_count": 10,
      "outputs": []
    },
    {
      "cell_type": "code",
      "source": [
        "# Split the Data into Train ( 80% ) and Test Set ( 20% ).\n",
        "features_train, features_test, labels_train, labels_test = train_test_split(features, one_hot_encoded_labels,\n",
        "                                                                            test_size = 0.10, shuffle = True,\n",
        "                                                                            random_state = seed_constant)"
      ],
      "metadata": {
        "id": "pysOwWbgQrBv"
      },
      "execution_count": 11,
      "outputs": []
    },
    {
      "cell_type": "code",
      "source": [
        "def create_LRCN_model():\n",
        "    '''\n",
        "    This function will construct the required LRCN model.\n",
        "    Returns:\n",
        "        model: It is the required constructed LRCN model.\n",
        "    '''\n",
        "\n",
        "    # We will use a Sequential model for model construction.\n",
        "    model = Sequential()\n",
        "    \n",
        "    # Define the Model Architecture.\n",
        "    ########################################################################################################################\n",
        "    \n",
        "    model.add(TimeDistributed(Conv2D(16, (3, 3), padding='same',activation = 'relu'),\n",
        "                              input_shape = (SEQUENCE_LENGTH, IMAGE_HEIGHT, IMAGE_WIDTH, 3)))\n",
        "    \n",
        "    model.add(TimeDistributed(MaxPooling2D((4, 4)))) \n",
        "    model.add(TimeDistributed(Dropout(0.25)))\n",
        "    \n",
        "    model.add(TimeDistributed(Conv2D(32, (3, 3), padding='same',activation = 'relu')))\n",
        "    model.add(TimeDistributed(MaxPooling2D((4, 4))))\n",
        "    model.add(TimeDistributed(Dropout(0.25)))\n",
        "    \n",
        "    model.add(TimeDistributed(Conv2D(64, (3, 3), padding='same',activation = 'relu')))\n",
        "    model.add(TimeDistributed(MaxPooling2D((2, 2))))\n",
        "    model.add(TimeDistributed(Dropout(0.25)))\n",
        "    \n",
        "    model.add(TimeDistributed(Conv2D(64, (3, 3), padding='same',activation = 'relu')))\n",
        "    model.add(TimeDistributed(MaxPooling2D((2, 2))))\n",
        "    #model.add(TimeDistributed(Dropout(0.25)))\n",
        "                                      \n",
        "    model.add(TimeDistributed(Flatten()))\n",
        "                                      \n",
        "    model.add(LSTM(32))\n",
        "                                      \n",
        "    model.add(Dense(len(CLASSES_LIST), activation = 'softmax'))\n",
        "\n",
        "    ########################################################################################################################\n",
        "\n",
        "    # Display the models summary.\n",
        "    model.summary()\n",
        "    \n",
        "    # Return the constructed LRCN model.\n",
        "    return model"
      ],
      "metadata": {
        "id": "01zL-4EVQt3J"
      },
      "execution_count": 12,
      "outputs": []
    },
    {
      "cell_type": "code",
      "source": [
        "# Construct the required LRCN model.\n",
        "LRCN_model = create_LRCN_model()\n",
        "\n",
        "# Display the success message.\n",
        "print(\"Model Created Successfully!\")"
      ],
      "metadata": {
        "colab": {
          "base_uri": "https://localhost:8080/"
        },
        "id": "sFdjcb8zQxX4",
        "outputId": "73e9c5d1-ef89-4f30-f442-f8b64d00999d"
      },
      "execution_count": 13,
      "outputs": [
        {
          "output_type": "stream",
          "name": "stdout",
          "text": [
            "Model: \"sequential\"\n",
            "_________________________________________________________________\n",
            " Layer (type)                Output Shape              Param #   \n",
            "=================================================================\n",
            " time_distributed (TimeDistr  (None, 30, 64, 64, 16)   448       \n",
            " ibuted)                                                         \n",
            "                                                                 \n",
            " time_distributed_1 (TimeDis  (None, 30, 16, 16, 16)   0         \n",
            " tributed)                                                       \n",
            "                                                                 \n",
            " time_distributed_2 (TimeDis  (None, 30, 16, 16, 16)   0         \n",
            " tributed)                                                       \n",
            "                                                                 \n",
            " time_distributed_3 (TimeDis  (None, 30, 16, 16, 32)   4640      \n",
            " tributed)                                                       \n",
            "                                                                 \n",
            " time_distributed_4 (TimeDis  (None, 30, 4, 4, 32)     0         \n",
            " tributed)                                                       \n",
            "                                                                 \n",
            " time_distributed_5 (TimeDis  (None, 30, 4, 4, 32)     0         \n",
            " tributed)                                                       \n",
            "                                                                 \n",
            " time_distributed_6 (TimeDis  (None, 30, 4, 4, 64)     18496     \n",
            " tributed)                                                       \n",
            "                                                                 \n",
            " time_distributed_7 (TimeDis  (None, 30, 2, 2, 64)     0         \n",
            " tributed)                                                       \n",
            "                                                                 \n",
            " time_distributed_8 (TimeDis  (None, 30, 2, 2, 64)     0         \n",
            " tributed)                                                       \n",
            "                                                                 \n",
            " time_distributed_9 (TimeDis  (None, 30, 2, 2, 64)     36928     \n",
            " tributed)                                                       \n",
            "                                                                 \n",
            " time_distributed_10 (TimeDi  (None, 30, 1, 1, 64)     0         \n",
            " stributed)                                                      \n",
            "                                                                 \n",
            " time_distributed_11 (TimeDi  (None, 30, 64)           0         \n",
            " stributed)                                                      \n",
            "                                                                 \n",
            " lstm (LSTM)                 (None, 32)                12416     \n",
            "                                                                 \n",
            " dense (Dense)               (None, 6)                 198       \n",
            "                                                                 \n",
            "=================================================================\n",
            "Total params: 73,126\n",
            "Trainable params: 73,126\n",
            "Non-trainable params: 0\n",
            "_________________________________________________________________\n",
            "Model Created Successfully!\n"
          ]
        }
      ]
    },
    {
      "cell_type": "code",
      "source": [
        "# Create an Instance of Early Stopping Callback.\n",
        "early_stopping_callback = EarlyStopping(monitor = 'val_loss', patience = 20, mode = 'min', restore_best_weights = True)\n",
        " \n",
        "# Compile the model and specify loss function, optimizer and metrics to the model.\n",
        "LRCN_model.compile(loss = 'categorical_crossentropy', optimizer = 'RMSprop', metrics = [\"accuracy\"])\n",
        "\n",
        "# Start training the model.\n",
        "LRCN_model_training_history = LRCN_model.fit(x = features_train, y = labels_train, epochs = 100, batch_size = 4 ,\n",
        "                                             shuffle = True, validation_split = 0.1, callbacks = [early_stopping_callback])"
      ],
      "metadata": {
        "colab": {
          "base_uri": "https://localhost:8080/"
        },
        "id": "cVmXzItZQ4-r",
        "outputId": "96f9c855-f11f-419f-b6b1-89f186aa6445"
      },
      "execution_count": 16,
      "outputs": [
        {
          "output_type": "stream",
          "name": "stdout",
          "text": [
            "Epoch 1/100\n",
            "419/419 [==============================] - 8s 14ms/step - loss: 1.6603 - accuracy: 0.2808 - val_loss: 1.5425 - val_accuracy: 0.3710\n",
            "Epoch 2/100\n",
            "419/419 [==============================] - 5s 11ms/step - loss: 1.4113 - accuracy: 0.4092 - val_loss: 1.2371 - val_accuracy: 0.4516\n",
            "Epoch 3/100\n",
            "419/419 [==============================] - 5s 11ms/step - loss: 1.1680 - accuracy: 0.5006 - val_loss: 1.1946 - val_accuracy: 0.5215\n",
            "Epoch 4/100\n",
            "419/419 [==============================] - 5s 11ms/step - loss: 1.0645 - accuracy: 0.5579 - val_loss: 0.9722 - val_accuracy: 0.6237\n",
            "Epoch 5/100\n",
            "419/419 [==============================] - 5s 11ms/step - loss: 0.9630 - accuracy: 0.6057 - val_loss: 0.9292 - val_accuracy: 0.6129\n",
            "Epoch 6/100\n",
            "419/419 [==============================] - 5s 11ms/step - loss: 0.8855 - accuracy: 0.6464 - val_loss: 1.0488 - val_accuracy: 0.6129\n",
            "Epoch 7/100\n",
            "419/419 [==============================] - 5s 11ms/step - loss: 0.8335 - accuracy: 0.6786 - val_loss: 0.9283 - val_accuracy: 0.5806\n",
            "Epoch 8/100\n",
            "419/419 [==============================] - 5s 11ms/step - loss: 0.7981 - accuracy: 0.6858 - val_loss: 0.7397 - val_accuracy: 0.7204\n",
            "Epoch 9/100\n",
            "419/419 [==============================] - 5s 11ms/step - loss: 0.7016 - accuracy: 0.7342 - val_loss: 0.6713 - val_accuracy: 0.7634\n",
            "Epoch 10/100\n",
            "419/419 [==============================] - 5s 11ms/step - loss: 0.6794 - accuracy: 0.7401 - val_loss: 0.6615 - val_accuracy: 0.7581\n",
            "Epoch 11/100\n",
            "419/419 [==============================] - 5s 11ms/step - loss: 0.6320 - accuracy: 0.7605 - val_loss: 0.5363 - val_accuracy: 0.8065\n",
            "Epoch 12/100\n",
            "419/419 [==============================] - 5s 11ms/step - loss: 0.6221 - accuracy: 0.7682 - val_loss: 0.5980 - val_accuracy: 0.7742\n",
            "Epoch 13/100\n",
            "419/419 [==============================] - 5s 11ms/step - loss: 0.5757 - accuracy: 0.7820 - val_loss: 0.7232 - val_accuracy: 0.7419\n",
            "Epoch 14/100\n",
            "419/419 [==============================] - 5s 11ms/step - loss: 0.5461 - accuracy: 0.7963 - val_loss: 0.7099 - val_accuracy: 0.7258\n",
            "Epoch 15/100\n",
            "419/419 [==============================] - 5s 11ms/step - loss: 0.5259 - accuracy: 0.8124 - val_loss: 0.6811 - val_accuracy: 0.7581\n",
            "Epoch 16/100\n",
            "419/419 [==============================] - 5s 12ms/step - loss: 0.4563 - accuracy: 0.8280 - val_loss: 0.6644 - val_accuracy: 0.7742\n",
            "Epoch 17/100\n",
            "419/419 [==============================] - 5s 12ms/step - loss: 0.4609 - accuracy: 0.8399 - val_loss: 0.4892 - val_accuracy: 0.8387\n",
            "Epoch 18/100\n",
            "419/419 [==============================] - 5s 12ms/step - loss: 0.4147 - accuracy: 0.8596 - val_loss: 0.7163 - val_accuracy: 0.7581\n",
            "Epoch 19/100\n",
            "419/419 [==============================] - 5s 12ms/step - loss: 0.4231 - accuracy: 0.8566 - val_loss: 0.6761 - val_accuracy: 0.7527\n",
            "Epoch 20/100\n",
            "419/419 [==============================] - 5s 12ms/step - loss: 0.3985 - accuracy: 0.8626 - val_loss: 0.3955 - val_accuracy: 0.8817\n",
            "Epoch 21/100\n",
            "419/419 [==============================] - 5s 12ms/step - loss: 0.3743 - accuracy: 0.8674 - val_loss: 0.6945 - val_accuracy: 0.8065\n",
            "Epoch 22/100\n",
            "419/419 [==============================] - 5s 12ms/step - loss: 0.3553 - accuracy: 0.8686 - val_loss: 0.4238 - val_accuracy: 0.8441\n",
            "Epoch 23/100\n",
            "419/419 [==============================] - 5s 12ms/step - loss: 0.3481 - accuracy: 0.8734 - val_loss: 0.3666 - val_accuracy: 0.8710\n",
            "Epoch 24/100\n",
            "419/419 [==============================] - 5s 12ms/step - loss: 0.3122 - accuracy: 0.8913 - val_loss: 0.7023 - val_accuracy: 0.7903\n",
            "Epoch 25/100\n",
            "419/419 [==============================] - 5s 12ms/step - loss: 0.3294 - accuracy: 0.8757 - val_loss: 0.6735 - val_accuracy: 0.8011\n",
            "Epoch 26/100\n",
            "419/419 [==============================] - 5s 12ms/step - loss: 0.3437 - accuracy: 0.8763 - val_loss: 0.4508 - val_accuracy: 0.8441\n",
            "Epoch 27/100\n",
            "419/419 [==============================] - 5s 12ms/step - loss: 0.3056 - accuracy: 0.8901 - val_loss: 0.6901 - val_accuracy: 0.7796\n",
            "Epoch 28/100\n",
            "419/419 [==============================] - 5s 12ms/step - loss: 0.2809 - accuracy: 0.9026 - val_loss: 0.4491 - val_accuracy: 0.8441\n",
            "Epoch 29/100\n",
            "419/419 [==============================] - 5s 12ms/step - loss: 0.3156 - accuracy: 0.8859 - val_loss: 0.5525 - val_accuracy: 0.8495\n",
            "Epoch 30/100\n",
            "419/419 [==============================] - 5s 12ms/step - loss: 0.2801 - accuracy: 0.9032 - val_loss: 0.7445 - val_accuracy: 0.8065\n",
            "Epoch 31/100\n",
            "419/419 [==============================] - 5s 12ms/step - loss: 0.3020 - accuracy: 0.8967 - val_loss: 0.6263 - val_accuracy: 0.8172\n",
            "Epoch 32/100\n",
            "419/419 [==============================] - 5s 12ms/step - loss: 0.2890 - accuracy: 0.9068 - val_loss: 0.2969 - val_accuracy: 0.8925\n",
            "Epoch 33/100\n",
            "419/419 [==============================] - 5s 12ms/step - loss: 0.2801 - accuracy: 0.8937 - val_loss: 0.4224 - val_accuracy: 0.8871\n",
            "Epoch 34/100\n",
            "419/419 [==============================] - 5s 12ms/step - loss: 0.2501 - accuracy: 0.9164 - val_loss: 0.4845 - val_accuracy: 0.8441\n",
            "Epoch 35/100\n",
            "419/419 [==============================] - 5s 12ms/step - loss: 0.2424 - accuracy: 0.9176 - val_loss: 0.5123 - val_accuracy: 0.8441\n",
            "Epoch 36/100\n",
            "419/419 [==============================] - 5s 12ms/step - loss: 0.2522 - accuracy: 0.9146 - val_loss: 0.5998 - val_accuracy: 0.8387\n",
            "Epoch 37/100\n",
            "419/419 [==============================] - 5s 12ms/step - loss: 0.2640 - accuracy: 0.9080 - val_loss: 0.5768 - val_accuracy: 0.8333\n",
            "Epoch 38/100\n",
            "419/419 [==============================] - 5s 12ms/step - loss: 0.2287 - accuracy: 0.9241 - val_loss: 0.4579 - val_accuracy: 0.8495\n",
            "Epoch 39/100\n",
            "419/419 [==============================] - 5s 12ms/step - loss: 0.2186 - accuracy: 0.9152 - val_loss: 0.5006 - val_accuracy: 0.8602\n",
            "Epoch 40/100\n",
            "419/419 [==============================] - 5s 12ms/step - loss: 0.2079 - accuracy: 0.9265 - val_loss: 0.3645 - val_accuracy: 0.8871\n",
            "Epoch 41/100\n",
            "419/419 [==============================] - 5s 12ms/step - loss: 0.1925 - accuracy: 0.9313 - val_loss: 0.5710 - val_accuracy: 0.8387\n",
            "Epoch 42/100\n",
            "419/419 [==============================] - 5s 12ms/step - loss: 0.1995 - accuracy: 0.9301 - val_loss: 0.4736 - val_accuracy: 0.8710\n",
            "Epoch 43/100\n",
            "419/419 [==============================] - 5s 12ms/step - loss: 0.2104 - accuracy: 0.9265 - val_loss: 0.6533 - val_accuracy: 0.8333\n",
            "Epoch 44/100\n",
            "419/419 [==============================] - 5s 12ms/step - loss: 0.1782 - accuracy: 0.9349 - val_loss: 0.5042 - val_accuracy: 0.8871\n",
            "Epoch 45/100\n",
            "419/419 [==============================] - 5s 12ms/step - loss: 0.2026 - accuracy: 0.9295 - val_loss: 0.6224 - val_accuracy: 0.8280\n",
            "Epoch 46/100\n",
            "419/419 [==============================] - 5s 12ms/step - loss: 0.1699 - accuracy: 0.9438 - val_loss: 1.2380 - val_accuracy: 0.6935\n",
            "Epoch 47/100\n",
            "419/419 [==============================] - 5s 12ms/step - loss: 0.2156 - accuracy: 0.9235 - val_loss: 0.3457 - val_accuracy: 0.9032\n",
            "Epoch 48/100\n",
            "419/419 [==============================] - 5s 12ms/step - loss: 0.1849 - accuracy: 0.9361 - val_loss: 0.4344 - val_accuracy: 0.8763\n",
            "Epoch 49/100\n",
            "419/419 [==============================] - 5s 12ms/step - loss: 0.2023 - accuracy: 0.9319 - val_loss: 0.2996 - val_accuracy: 0.9194\n",
            "Epoch 50/100\n",
            "419/419 [==============================] - 5s 12ms/step - loss: 0.1623 - accuracy: 0.9456 - val_loss: 0.4552 - val_accuracy: 0.8763\n",
            "Epoch 51/100\n",
            "419/419 [==============================] - 5s 12ms/step - loss: 0.1678 - accuracy: 0.9444 - val_loss: 0.3487 - val_accuracy: 0.9032\n",
            "Epoch 52/100\n",
            "419/419 [==============================] - 5s 12ms/step - loss: 0.1648 - accuracy: 0.9474 - val_loss: 0.2900 - val_accuracy: 0.9301\n",
            "Epoch 53/100\n",
            "419/419 [==============================] - 5s 12ms/step - loss: 0.1538 - accuracy: 0.9492 - val_loss: 0.4228 - val_accuracy: 0.8978\n",
            "Epoch 54/100\n",
            "419/419 [==============================] - 5s 12ms/step - loss: 0.1599 - accuracy: 0.9474 - val_loss: 0.3794 - val_accuracy: 0.8925\n",
            "Epoch 55/100\n",
            "419/419 [==============================] - 5s 12ms/step - loss: 0.1795 - accuracy: 0.9397 - val_loss: 0.4748 - val_accuracy: 0.8710\n",
            "Epoch 56/100\n",
            "419/419 [==============================] - 5s 12ms/step - loss: 0.1452 - accuracy: 0.9534 - val_loss: 0.2289 - val_accuracy: 0.9409\n",
            "Epoch 57/100\n",
            "419/419 [==============================] - 5s 12ms/step - loss: 0.1735 - accuracy: 0.9450 - val_loss: 0.4680 - val_accuracy: 0.8495\n",
            "Epoch 58/100\n",
            "419/419 [==============================] - 5s 12ms/step - loss: 0.1743 - accuracy: 0.9421 - val_loss: 0.3695 - val_accuracy: 0.8978\n",
            "Epoch 59/100\n",
            "419/419 [==============================] - 5s 12ms/step - loss: 0.1577 - accuracy: 0.9492 - val_loss: 0.4813 - val_accuracy: 0.8548\n",
            "Epoch 60/100\n",
            "419/419 [==============================] - 5s 12ms/step - loss: 0.1513 - accuracy: 0.9480 - val_loss: 0.3188 - val_accuracy: 0.9194\n",
            "Epoch 61/100\n",
            "419/419 [==============================] - 5s 12ms/step - loss: 0.1290 - accuracy: 0.9618 - val_loss: 0.4026 - val_accuracy: 0.8925\n",
            "Epoch 62/100\n",
            "419/419 [==============================] - 5s 12ms/step - loss: 0.1528 - accuracy: 0.9516 - val_loss: 0.5653 - val_accuracy: 0.8871\n",
            "Epoch 63/100\n",
            "419/419 [==============================] - 5s 12ms/step - loss: 0.1555 - accuracy: 0.9486 - val_loss: 0.4701 - val_accuracy: 0.8710\n",
            "Epoch 64/100\n",
            "419/419 [==============================] - 5s 12ms/step - loss: 0.1476 - accuracy: 0.9570 - val_loss: 0.3420 - val_accuracy: 0.9086\n",
            "Epoch 65/100\n",
            "419/419 [==============================] - 5s 12ms/step - loss: 0.1446 - accuracy: 0.9522 - val_loss: 0.3994 - val_accuracy: 0.9086\n",
            "Epoch 66/100\n",
            "419/419 [==============================] - 5s 12ms/step - loss: 0.1539 - accuracy: 0.9474 - val_loss: 0.4335 - val_accuracy: 0.8763\n",
            "Epoch 67/100\n",
            "419/419 [==============================] - 5s 12ms/step - loss: 0.1322 - accuracy: 0.9570 - val_loss: 0.5491 - val_accuracy: 0.8495\n",
            "Epoch 68/100\n",
            "419/419 [==============================] - 5s 12ms/step - loss: 0.1360 - accuracy: 0.9576 - val_loss: 0.5216 - val_accuracy: 0.8763\n",
            "Epoch 69/100\n",
            "419/419 [==============================] - 5s 12ms/step - loss: 0.1319 - accuracy: 0.9552 - val_loss: 0.4160 - val_accuracy: 0.9086\n",
            "Epoch 70/100\n",
            "419/419 [==============================] - 5s 12ms/step - loss: 0.1371 - accuracy: 0.9528 - val_loss: 0.4849 - val_accuracy: 0.8925\n",
            "Epoch 71/100\n",
            "419/419 [==============================] - 5s 12ms/step - loss: 0.1119 - accuracy: 0.9558 - val_loss: 0.4438 - val_accuracy: 0.9140\n",
            "Epoch 72/100\n",
            "419/419 [==============================] - 5s 12ms/step - loss: 0.1370 - accuracy: 0.9522 - val_loss: 0.4887 - val_accuracy: 0.8871\n",
            "Epoch 73/100\n",
            "419/419 [==============================] - 5s 12ms/step - loss: 0.1437 - accuracy: 0.9528 - val_loss: 0.2661 - val_accuracy: 0.9355\n",
            "Epoch 74/100\n",
            "419/419 [==============================] - 5s 12ms/step - loss: 0.1356 - accuracy: 0.9594 - val_loss: 0.4915 - val_accuracy: 0.8871\n",
            "Epoch 75/100\n",
            "419/419 [==============================] - 5s 12ms/step - loss: 0.1275 - accuracy: 0.9600 - val_loss: 0.4803 - val_accuracy: 0.8925\n",
            "Epoch 76/100\n",
            "419/419 [==============================] - 5s 12ms/step - loss: 0.1745 - accuracy: 0.9492 - val_loss: 0.5133 - val_accuracy: 0.8763\n"
          ]
        }
      ]
    },
    {
      "cell_type": "code",
      "source": [
        "# Evaluate the trained model.\n",
        "model_evaluation_history = LRCN_model.evaluate(features_test, labels_test)"
      ],
      "metadata": {
        "colab": {
          "base_uri": "https://localhost:8080/"
        },
        "id": "sa-sTkK6Q-ks",
        "outputId": "c9f35270-9a70-44a6-ce1c-aa681a916d70"
      },
      "execution_count": 17,
      "outputs": [
        {
          "output_type": "stream",
          "name": "stdout",
          "text": [
            "7/7 [==============================] - 0s 29ms/step - loss: 0.4704 - accuracy: 0.8841\n"
          ]
        }
      ]
    },
    {
      "cell_type": "code",
      "source": [
        "# Get the loss and accuracy from model_evaluation_history.\n",
        "model_evaluation_loss, model_evaluation_accuracy = model_evaluation_history\n",
        "\n",
        "# Define the string date format.\n",
        "# Get the current Date and Time in a DateTime Object.\n",
        "# Convert the DateTime object to string according to the style mentioned in date_time_format string.\n",
        "date_time_format = '%Y_%m_%d__%H_%M_%S'\n",
        "current_date_time_dt = dt.datetime.now()\n",
        "current_date_time_string = dt.datetime.strftime(current_date_time_dt, date_time_format)\n",
        "    \n",
        "# Define a useful name for our model to make it easy for us while navigating through multiple saved models.\n",
        "model_file_name = f'LRCN_model___Date_Time_{current_date_time_string}___Loss_{model_evaluation_loss}___Accuracy_{model_evaluation_accuracy}.h5'\n",
        "\n",
        "# Save the Model.\n",
        "LRCN_model.save(model_file_name)"
      ],
      "metadata": {
        "id": "D3J57fVJRCEa"
      },
      "execution_count": null,
      "outputs": []
    },
    {
      "cell_type": "code",
      "source": [
        "def plot_metric(model_training_history, metric_name_1, metric_name_2, plot_name):\n",
        "    '''\n",
        "    This function will plot the metrics passed to it in a graph.\n",
        "    Args:\n",
        "        model_training_history: A history object containing a record of training and validation \n",
        "                                loss values and metrics values at successive epochs\n",
        "        metric_name_1:          The name of the first metric that needs to be plotted in the graph.\n",
        "        metric_name_2:          The name of the second metric that needs to be plotted in the graph.\n",
        "        plot_name:              The title of the graph.\n",
        "    '''\n",
        "    \n",
        "    # Get metric values using metric names as identifiers.\n",
        "    metric_value_1 = model_training_history.history[metric_name_1]\n",
        "    metric_value_2 = model_training_history.history[metric_name_2]\n",
        "    \n",
        "    # Construct a range object which will be used as x-axis (horizontal plane) of the graph.\n",
        "    epochs = range(len(metric_value_1))\n",
        "\n",
        "    # Plot the Graph.\n",
        "    plt.plot(epochs, metric_value_1, 'blue', label = metric_name_1)\n",
        "    plt.plot(epochs, metric_value_2, 'red', label = metric_name_2)\n",
        "\n",
        "    # Add title to the plot.\n",
        "    plt.title(str(plot_name))\n",
        "\n",
        "    # Add legend to the plot.\n",
        "    plt.legend()"
      ],
      "metadata": {
        "id": "sXhBv91xRFgU"
      },
      "execution_count": 18,
      "outputs": []
    },
    {
      "cell_type": "code",
      "source": [
        "# Visualize the training and validation loss metrices.\n",
        "plot_metric(LRCN_model_training_history, 'loss', 'val_loss', 'Total Loss vs Total Validation Loss')"
      ],
      "metadata": {
        "colab": {
          "base_uri": "https://localhost:8080/",
          "height": 281
        },
        "id": "cKhf3si1RJUW",
        "outputId": "c6d16565-0d65-4240-ad3f-a7bedafcee09"
      },
      "execution_count": 19,
      "outputs": [
        {
          "output_type": "display_data",
          "data": {
            "text/plain": [
              "<Figure size 432x288 with 1 Axes>"
            ],
            "image/png": "[encoded data removed]"
          },
          "metadata": {
            "needs_background": "light"
          }
        }
      ]
    },
    {
      "cell_type": "code",
      "source": [
        "# Visualize the training and validation accuracy metrices.\n",
        "plot_metric(LRCN_model_training_history, 'accuracy', 'val_accuracy', 'Total Accuracy vs Total Validation Accuracy')"
      ],
      "metadata": {
        "colab": {
          "base_uri": "https://localhost:8080/",
          "height": 281
        },
        "id": "5JB37wh3RLWX",
        "outputId": "645daf5b-ab4e-49ae-b06f-25641515b6fe"
      },
      "execution_count": 20,
      "outputs": [
        {
          "output_type": "display_data",
          "data": {
            "text/plain": [
              "<Figure size 432x288 with 1 Axes>"
            ],
            "image/png": "[encoded data removed]"
          },
          "metadata": {
            "needs_background": "light"
          }
        }
      ]
    },
    {
      "cell_type": "code",
      "source": [
        "predictions =  LRCN_model.predict(features_test)\n",
        "predictions\n"
      ],
      "metadata": {
        "colab": {
          "base_uri": "https://localhost:8080/"
        },
        "id": "yM7edJgyRf-P",
        "outputId": "f793d831-6ac5-455a-a3d6-21aa9e3c8a4c"
      },
      "execution_count": 21,
      "outputs": [
        {
          "output_type": "execute_result",
          "data": {
            "text/plain": [
              "array([[9.9877828e-01, 4.5769979e-04, 6.0029902e-07, 6.1948749e-04,\n",
              "        1.8284532e-05, 1.2564313e-04],\n",
              "       [2.7938404e-05, 1.1627671e-03, 5.1701850e-06, 9.2649662e-01,\n",
              "        1.1027682e-04, 7.2197117e-02],\n",
              "       [3.1804861e-06, 1.9908707e-04, 9.9979049e-01, 2.1716598e-06,\n",
              "        1.3654428e-06, 3.7282821e-06],\n",
              "       ...,\n",
              "       [1.6816378e-03, 5.2604632e-04, 5.2742220e-05, 1.0653780e-03,\n",
              "        9.8566276e-01, 1.1011404e-02],\n",
              "       [1.2974589e-05, 2.1564400e-05, 8.1137941e-06, 1.2748349e-04,\n",
              "        9.9877423e-01, 1.0556107e-03],\n",
              "       [1.5067130e-04, 9.9926442e-01, 2.7471056e-04, 2.8844990e-04,\n",
              "        7.3466881e-06, 1.4358145e-05]], dtype=float32)"
            ]
          },
          "metadata": {},
          "execution_count": 21
        }
      ]
    },
    {
      "cell_type": "code",
      "source": [
        "preds=predictions.argmax(axis=1)\n",
        "preds"
      ],
      "metadata": {
        "colab": {
          "base_uri": "https://localhost:8080/"
        },
        "id": "DNHaLfq2RjeT",
        "outputId": "2c54d6d5-b5e3-4730-d4ae-f1960595ec56"
      },
      "execution_count": 22,
      "outputs": [
        {
          "output_type": "execute_result",
          "data": {
            "text/plain": [
              "array([0, 3, 2, 5, 5, 2, 5, 1, 5, 0, 3, 1, 4, 0, 4, 5, 4, 1, 2, 1, 5, 2,\n",
              "       0, 2, 2, 5, 3, 5, 5, 5, 5, 4, 5, 0, 2, 2, 4, 1, 5, 4, 2, 2, 1, 5,\n",
              "       2, 1, 5, 5, 4, 5, 4, 2, 1, 3, 3, 0, 0, 0, 2, 5, 4, 4, 5, 0, 0, 3,\n",
              "       1, 0, 5, 1, 1, 2, 5, 5, 5, 4, 0, 3, 4, 4, 3, 0, 4, 0, 1, 1, 2, 3,\n",
              "       3, 5, 5, 1, 0, 1, 5, 5, 1, 2, 5, 3, 3, 3, 0, 5, 5, 5, 2, 1, 4, 1,\n",
              "       5, 2, 0, 1, 4, 0, 4, 1, 1, 1, 1, 5, 1, 4, 1, 2, 3, 2, 5, 1, 2, 0,\n",
              "       1, 5, 1, 0, 5, 0, 1, 0, 2, 2, 2, 5, 0, 2, 3, 0, 0, 3, 2, 3, 5, 0,\n",
              "       1, 2, 1, 3, 1, 0, 1, 3, 3, 2, 4, 0, 0, 0, 5, 4, 4, 3, 1, 5, 3, 1,\n",
              "       5, 0, 4, 5, 4, 0, 1, 5, 3, 3, 2, 3, 3, 4, 1, 4, 1, 0, 4, 2, 3, 1,\n",
              "       4, 5, 3, 2, 5, 2, 4, 4, 1])"
            ]
          },
          "metadata": {},
          "execution_count": 22
        }
      ]
    },
    {
      "cell_type": "code",
      "source": [
        "new_preds = preds.astype(int).flatten()\n",
        "new_preds"
      ],
      "metadata": {
        "colab": {
          "base_uri": "https://localhost:8080/"
        },
        "id": "0W618McKRl02",
        "outputId": "17004f4f-3465-4c28-8daf-71f4641cf1d4"
      },
      "execution_count": 23,
      "outputs": [
        {
          "output_type": "execute_result",
          "data": {
            "text/plain": [
              "array([0, 3, 2, 5, 5, 2, 5, 1, 5, 0, 3, 1, 4, 0, 4, 5, 4, 1, 2, 1, 5, 2,\n",
              "       0, 2, 2, 5, 3, 5, 5, 5, 5, 4, 5, 0, 2, 2, 4, 1, 5, 4, 2, 2, 1, 5,\n",
              "       2, 1, 5, 5, 4, 5, 4, 2, 1, 3, 3, 0, 0, 0, 2, 5, 4, 4, 5, 0, 0, 3,\n",
              "       1, 0, 5, 1, 1, 2, 5, 5, 5, 4, 0, 3, 4, 4, 3, 0, 4, 0, 1, 1, 2, 3,\n",
              "       3, 5, 5, 1, 0, 1, 5, 5, 1, 2, 5, 3, 3, 3, 0, 5, 5, 5, 2, 1, 4, 1,\n",
              "       5, 2, 0, 1, 4, 0, 4, 1, 1, 1, 1, 5, 1, 4, 1, 2, 3, 2, 5, 1, 2, 0,\n",
              "       1, 5, 1, 0, 5, 0, 1, 0, 2, 2, 2, 5, 0, 2, 3, 0, 0, 3, 2, 3, 5, 0,\n",
              "       1, 2, 1, 3, 1, 0, 1, 3, 3, 2, 4, 0, 0, 0, 5, 4, 4, 3, 1, 5, 3, 1,\n",
              "       5, 0, 4, 5, 4, 0, 1, 5, 3, 3, 2, 3, 3, 4, 1, 4, 1, 0, 4, 2, 3, 1,\n",
              "       4, 5, 3, 2, 5, 2, 4, 4, 1])"
            ]
          },
          "metadata": {},
          "execution_count": 23
        }
      ]
    },
    {
      "cell_type": "code",
      "source": [
        "\n",
        "from sklearn.metrics import classification_report, confusion_matrix,accuracy_score\n",
        "import seaborn as sn\n",
        "import pandas as pd\n",
        "import numpy as np\n",
        "new_labels=np.argmax(labels_test, axis=1)\n",
        "print(classification_report(new_labels,new_preds))\n",
        "\n",
        "acc = float(accuracy_score(new_labels,new_preds))*100\n",
        "print(\"----accuracy score %s ----\" % acc)\n",
        "\n",
        "cm = confusion_matrix(new_labels,new_preds)\n",
        "#df_cm = pd.DataFrame(cm)\n",
        "class_names = ['neutral','calm', 'happy','sad','angry', 'fearful' ]\n",
        "df_cm = pd.DataFrame(cm, index=class_names, columns=class_names,)\n",
        "sn.heatmap(df_cm, annot=True, fmt='')\n",
        "plt.show()\n"
      ],
      "metadata": {
        "colab": {
          "base_uri": "https://localhost:8080/",
          "height": 508
        },
        "id": "cTET95L8RoVW",
        "outputId": "f547ea87-488c-4611-e470-be3d64919c69"
      },
      "execution_count": 24,
      "outputs": [
        {
          "output_type": "stream",
          "name": "stdout",
          "text": [
            "              precision    recall  f1-score   support\n",
            "\n",
            "           0       0.73      0.89      0.80        27\n",
            "           1       0.90      0.82      0.86        44\n",
            "           2       0.91      0.97      0.94        30\n",
            "           3       0.96      0.79      0.87        34\n",
            "           4       1.00      0.85      0.92        34\n",
            "           5       0.84      1.00      0.92        38\n",
            "\n",
            "    accuracy                           0.88       207\n",
            "   macro avg       0.89      0.89      0.88       207\n",
            "weighted avg       0.90      0.88      0.88       207\n",
            "\n",
            "----accuracy score 88.40579710144928 ----\n"
          ]
        },
        {
          "output_type": "display_data",
          "data": {
            "text/plain": [
              "<Figure size 432x288 with 2 Axes>"
            ],
            "image/png": "[encoded data removed]"
          },
          "metadata": {
            "needs_background": "light"
          }
        }
      ]
    },
    {
      "cell_type": "code",
      "source": [
        ""
      ],
      "metadata": {
        "id": "c3nbyK6BfnDR"
      },
      "execution_count": null,
      "outputs": []
    }
  ]
}