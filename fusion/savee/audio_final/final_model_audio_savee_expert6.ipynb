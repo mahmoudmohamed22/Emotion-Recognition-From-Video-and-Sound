{
  "cells": [
    {
      "cell_type": "code",
      "execution_count": 1,
      "metadata": {
        "colab": {
          "base_uri": "https://localhost:8080/"
        },
        "id": "Ov-QDEMOtb8r",
        "outputId": "e480ef3b-3186-4dd5-aade-e60c9a7d7163"
      },
      "outputs": [
        {
          "output_type": "stream",
          "name": "stdout",
          "text": [
            "Mounted at /content/drive\n"
          ]
        }
      ],
      "source": [
        "from google.colab import drive\n",
        "drive.mount('/content/drive')"
      ]
    },
    {
      "cell_type": "code",
      "execution_count": 2,
      "metadata": {
        "colab": {
          "base_uri": "https://localhost:8080/",
          "height": 17
        },
        "id": "NgJohC6sdr-S",
        "outputId": "8f5d9ead-f44e-4e74-9c65-34ce61ae4259"
      },
      "outputs": [
        {
          "output_type": "display_data",
          "data": {
            "text/html": [
              "        <script type=\"text/javascript\">\n",
              "        window.PlotlyConfig = {MathJaxConfig: 'local'};\n",
              "        if (window.MathJax) {MathJax.Hub.Config({SVG: {font: \"STIX-Web\"}});}\n",
              "        if (typeof require !== 'undefined') {\n",
              "        require.undef(\"plotly\");\n",
              "        requirejs.config({\n",
              "            paths: {\n",
              "                'plotly': ['https://cdn.plot.ly/plotly-2.8.3.min']\n",
              "            }\n",
              "        });\n",
              "        require(['plotly'], function(Plotly) {\n",
              "            window._Plotly = Plotly;\n",
              "        });\n",
              "        }\n",
              "        </script>\n",
              "        "
            ]
          },
          "metadata": {}
        }
      ],
      "source": [
        "# Orignial Notebook: https://github.com/MITESHPUTHRANNEU/Speech-Emotion-Analyzer/blob/master/final_results_gender_test.ipynb\n",
        "# This notebook author: Reza Chu\n",
        "# Last Editing Date: 31st May 2019\n",
        "\n",
        "## Python\n",
        "import os\n",
        "import random\n",
        "import sys\n",
        "\n",
        "import IPython\n",
        "from IPython.display import Audio\n",
        "from IPython.display import Image\n",
        "import matplotlib.pyplot as plt\n",
        "\n",
        "## Package\n",
        "import glob \n",
        "import keras\n",
        "import IPython.display as ipd\n",
        "import librosa\n",
        "import librosa.display\n",
        "import matplotlib.pyplot as plt\n",
        "import numpy as np\n",
        "import pandas as pd\n",
        "import plotly.graph_objs as go\n",
        "import plotly.offline as py\n",
        "import plotly.tools as tls\n",
        "import seaborn as sns\n",
        "import scipy.io.wavfile\n",
        "import tensorflow as tf\n",
        "py.init_notebook_mode(connected=True)\n",
        "\n",
        "## Keras\n",
        "from keras import regularizers\n",
        "from keras.callbacks import ModelCheckpoint, LearningRateScheduler, EarlyStopping\n",
        "from keras.callbacks import  History, ReduceLROnPlateau, CSVLogger\n",
        "from keras.models import Model, Sequential\n",
        "from keras.layers import Dense, Embedding, LSTM\n",
        "from keras.layers import Input, Flatten, Dropout, Activation, BatchNormalization\n",
        "from keras.layers import Conv1D, MaxPooling1D, AveragePooling1D\n",
        "from keras.preprocessing import sequence\n",
        "from keras.preprocessing.sequence import pad_sequences\n",
        "from keras.preprocessing.text import Tokenizer\n",
        "from keras.utils import np_utils\n",
        "from tensorflow.keras.utils import to_categorical\n",
        "\n",
        "## Sklearn\n",
        "from sklearn.metrics import confusion_matrix\n",
        "from sklearn.preprocessing import LabelEncoder\n",
        "\n",
        "## Rest\n",
        "from scipy.fftpack import fft\n",
        "from scipy import signal\n",
        "from scipy.io import wavfile\n",
        "from tqdm import tqdm\n",
        "\n",
        "input_duration=3\n",
        "# % pylab inline"
      ]
    },
    {
      "cell_type": "code",
      "source": [
        "#only SAVEE data set\n",
        "import time\n",
        "import os\n",
        "import librosa\n",
        "from librosa import display\n",
        "import matplotlib.pyplot as plt\n",
        "#sad/sa2dc.avi\n",
        "labels = []\n",
        "video_name=[]\n",
        "audio_name=[]\n",
        "features=[]\n",
        "count=0\n",
        "start_time = time.time()\n",
        "CLASSES_LIST=['KL','JK ','JE','DC']\n",
        "DATASET_DIR = '/content/drive/My Drive/SAVEE'\n",
        "emotion_LIST = [\"neutral\", \"happy\", \"sad\",\"angry\",\"fearful\"]\n",
        "for class_index, class_name in enumerate(CLASSES_LIST):\n",
        "#for subdir, dirs, files in os.walk(path):\n",
        "  print(class_name)\n",
        "  #dir=subdir.split('/')[4]\n",
        "  #print(dir)\n",
        "  \n",
        "  files= os.listdir(os.path.join(DATASET_DIR, class_name))\n",
        "  for file in files:\n",
        "      try:\n",
        "        print(file)\n",
        "        #Load librosa array, obtain mfcss, store the file and the mcss information in a new array\n",
        "        X, sample_rate = librosa.load(DATASET_DIR+'/'+class_name+'/'+file, res_type='kaiser_fast')\n",
        "        mfccs = np.mean(librosa.feature.mfcc(y=X, sr=sample_rate, n_mfcc=40).T,axis=0) \n",
        "        count +=1\n",
        "        # The instruction below converts the labels (from 1 to 8) to a series from 0 to 7\n",
        "        # This is because our predictor needs to start from 0 otherwise it will try to predict also 0.\n",
        "        #file = int(file[7:8]) - 1 \n",
        "        #0 = neutral, 1 = happy, 2 = sad, 3 = angry, 4 = fearful, 6 = disgust, 7 = surprised\n",
        "        if file.startswith('a'):\n",
        "            emotion=3\n",
        "            c='a'\n",
        "    \n",
        "        elif file.startswith('f'):\n",
        "            emotion=4\n",
        "            c='f'\n",
        "        elif file.startswith('h'):\n",
        "            emotion=1\n",
        "            c='h'\n",
        "        elif file.startswith('n'):\n",
        "            emotion=0\n",
        "            c='n'\n",
        "        elif file.startswith('sa'):\n",
        "            emotion=2\n",
        "            c='sa'\n",
        "       \n",
        "        else:\n",
        "            continue\n",
        "        my_class_name=class_name\n",
        "        my_class_name=my_class_name.replace(\" \", \"\")\n",
        "        num=file.split('.')[0]\n",
        "        #print(num)\n",
        "        if(c=='sa'):\n",
        "          num=num[2:]\n",
        "        else:\n",
        "          num=num[1:]\n",
        "        num=int(num)\n",
        "        num=str(num)\n",
        "        #print(num)\n",
        "       \n",
        "        v=emotion_LIST[emotion]+'/'+c+num+my_class_name.lower()+'.avi'\n",
        "        video_name.append(v)\n",
        "        a=class_name+'/'+file\n",
        "\n",
        "        audio_name.append(a)\n",
        "        labels.append(emotion)\n",
        "        \n",
        "        features.append(mfccs)\n",
        "      # If the file is not valid, skip it\n",
        "      except ValueError:\n",
        "        continue\n",
        "\n",
        "print(\"--- Data loaded. Loading time: %s seconds ---\" % (time.time() - start_time))"
      ],
      "metadata": {
        "colab": {
          "base_uri": "https://localhost:8080/"
        },
        "id": "5Jb9K9BxckxP",
        "outputId": "9b13dc8b-3675-437a-8f21-ad7be1e70754"
      },
      "execution_count": 3,
      "outputs": [
        {
          "output_type": "stream",
          "name": "stdout",
          "text": [
            "KL\n",
            "a01.wav\n",
            "a02.wav\n",
            "a03.wav\n",
            "a04.wav\n",
            "a05.wav\n",
            "a07.wav\n",
            "a10.wav\n",
            "a09.wav\n",
            "a08.wav\n",
            "a06.wav\n",
            "a15.wav\n",
            "a14.wav\n",
            "a13.wav\n",
            "a12.wav\n",
            "a11.wav\n",
            "d05.wav\n",
            "d04.wav\n",
            "d03.wav\n",
            "d02.wav\n",
            "d01.wav\n",
            "d10.wav\n",
            "d09.wav\n",
            "d08.wav\n",
            "d07.wav\n",
            "d06.wav\n",
            "d15.wav\n",
            "d14.wav\n",
            "d13.wav\n",
            "d12.wav\n",
            "d11.wav\n",
            "f05.wav\n",
            "f04.wav\n",
            "f03.wav\n",
            "f02.wav\n",
            "f01.wav\n",
            "f10.wav\n",
            "f09.wav\n",
            "f08.wav\n",
            "f07.wav\n",
            "f06.wav\n",
            "f15.wav\n",
            "f14.wav\n",
            "f13.wav\n",
            "f12.wav\n",
            "f11.wav\n",
            "h05.wav\n",
            "h04.wav\n",
            "h03.wav\n",
            "h02.wav\n",
            "h01.wav\n",
            "h10.wav\n",
            "h09.wav\n",
            "h08.wav\n",
            "h07.wav\n",
            "h06.wav\n",
            "h15.wav\n",
            "h14.wav\n",
            "h13.wav\n",
            "h12.wav\n",
            "h11.wav\n",
            "sa05.wav\n",
            "sa04.wav\n",
            "sa03.wav\n",
            "sa02.wav\n",
            "sa01.wav\n",
            "sa10.wav\n",
            "sa09.wav\n",
            "sa08.wav\n",
            "sa07.wav\n",
            "sa06.wav\n",
            "sa11.wav\n",
            "sa14.wav\n",
            "sa13.wav\n",
            "sa12.wav\n",
            "sa15.wav\n",
            "su05.wav\n",
            "su03.wav\n",
            "su02.wav\n",
            "su01.wav\n",
            "su10.wav\n",
            "su09.wav\n",
            "su08.wav\n",
            "su07.wav\n",
            "su06.wav\n",
            "su15.wav\n",
            "su14.wav\n",
            "su13.wav\n",
            "su12.wav\n",
            "su11.wav\n",
            "su04.wav\n",
            "n01.wav\n",
            "n05.wav\n",
            "n04.wav\n",
            "n03.wav\n",
            "n02.wav\n",
            "n10.wav\n",
            "n09.wav\n",
            "n08.wav\n",
            "n07.wav\n",
            "n06.wav\n",
            "n20.wav\n",
            "n19.wav\n",
            "n18.wav\n",
            "n17.wav\n",
            "n16.wav\n",
            "n25.wav\n",
            "n24.wav\n",
            "n23.wav\n",
            "n22.wav\n",
            "n21.wav\n",
            "n30.wav\n",
            "n29.wav\n",
            "n28.wav\n",
            "n27.wav\n",
            "n26.wav\n",
            "n15.wav\n",
            "n14.wav\n",
            "n13.wav\n",
            "n12.wav\n",
            "n11.wav\n",
            "JK \n",
            "a01.wav\n",
            "a02.wav\n",
            "a03.wav\n",
            "a04.wav\n",
            "a05.wav\n",
            "a06.wav\n",
            "a07.wav\n",
            "a08.wav\n",
            "a09.wav\n",
            "a10.wav\n",
            "a11.wav\n",
            "a12.wav\n",
            "a13.wav\n",
            "a14.wav\n",
            "a15.wav\n",
            "d01.wav\n",
            "d02.wav\n",
            "d03.wav\n",
            "d04.wav\n",
            "d06.wav\n",
            "d07.wav\n",
            "d08.wav\n",
            "d09.wav\n",
            "d11.wav\n",
            "d12.wav\n",
            "d13.wav\n",
            "d14.wav\n",
            "d15.wav\n",
            "d05.wav\n",
            "d10.wav\n",
            "f01.wav\n",
            "f02.wav\n",
            "f03.wav\n",
            "f04.wav\n",
            "f05.wav\n",
            "f06.wav\n",
            "f07.wav\n",
            "f08.wav\n",
            "f10.wav\n",
            "f11.wav\n",
            "f12.wav\n",
            "f13.wav\n",
            "f14.wav\n",
            "f15.wav\n",
            "f09.wav\n",
            "h01.wav\n",
            "h02.wav\n",
            "h03.wav\n",
            "h04.wav\n",
            "h05.wav\n",
            "h06.wav\n",
            "h07.wav\n",
            "h08.wav\n",
            "h09.wav\n",
            "h10.wav\n",
            "h11.wav\n",
            "h12.wav\n",
            "h13.wav\n",
            "h14.wav\n",
            "h15.wav\n",
            "n01.wav\n",
            "n02.wav\n",
            "n03.wav\n",
            "n04.wav\n",
            "n05.wav\n",
            "n06.wav\n",
            "n07.wav\n",
            "n08.wav\n",
            "n09.wav\n",
            "n10.wav\n",
            "n11.wav\n",
            "n12.wav\n",
            "n13.wav\n",
            "n14.wav\n",
            "n15.wav\n",
            "n20.wav\n",
            "n19.wav\n",
            "n18.wav\n",
            "n17.wav\n",
            "n16.wav\n",
            "n25.wav\n",
            "n23.wav\n",
            "n22.wav\n",
            "n21.wav\n",
            "n26.wav\n",
            "n30.wav\n",
            "n29.wav\n",
            "n28.wav\n",
            "n27.wav\n",
            "sa05.wav\n",
            "sa04.wav\n",
            "sa03.wav\n",
            "sa02.wav\n",
            "sa01.wav\n",
            "sa10.wav\n",
            "sa09.wav\n",
            "sa08.wav\n",
            "sa07.wav\n",
            "sa06.wav\n",
            "sa15.wav\n",
            "sa14.wav\n",
            "sa13.wav\n",
            "sa12.wav\n",
            "sa11.wav\n",
            "su05.wav\n",
            "su04.wav\n",
            "su15.wav\n",
            "su14.wav\n",
            "su13.wav\n",
            "su12.wav\n",
            "su11.wav\n",
            "su10.wav\n",
            "su09.wav\n",
            "su08.wav\n",
            "su07.wav\n",
            "su06.wav\n",
            "su03.wav\n",
            "su02.wav\n",
            "su01.wav\n",
            "n24.wav\n",
            "JE\n",
            "a01.wav\n",
            "a02.wav\n",
            "a03.wav\n",
            "a04.wav\n",
            "a05.wav\n",
            "a07.wav\n",
            "a06.wav\n",
            "a08.wav\n",
            "a09.wav\n",
            "a10.wav\n",
            "a11.wav\n",
            "a12.wav\n",
            "a13.wav\n",
            "a14.wav\n",
            "a15.wav\n",
            "d05.wav\n",
            "d04.wav\n",
            "d03.wav\n",
            "d02.wav\n",
            "d01.wav\n",
            "d09.wav\n",
            "d08.wav\n",
            "d07.wav\n",
            "d06.wav\n",
            "d10.wav\n",
            "d15.wav\n",
            "d14.wav\n",
            "d13.wav\n",
            "d12.wav\n",
            "d11.wav\n",
            "f05.wav\n",
            "f04.wav\n",
            "f03.wav\n",
            "f02.wav\n",
            "f01.wav\n",
            "f10.wav\n",
            "f09.wav\n",
            "f08.wav\n",
            "f07.wav\n",
            "f06.wav\n",
            "f14.wav\n",
            "f13.wav\n",
            "f12.wav\n",
            "f11.wav\n",
            "f15.wav\n",
            "h05.wav\n",
            "h04.wav\n",
            "h03.wav\n",
            "h02.wav\n",
            "h01.wav\n",
            "h10.wav\n",
            "h09.wav\n",
            "h08.wav\n",
            "h07.wav\n",
            "h06.wav\n",
            "h14.wav\n",
            "h13.wav\n",
            "h12.wav\n",
            "h11.wav\n",
            "h15.wav\n",
            "n18.wav\n",
            "n17.wav\n",
            "n16.wav\n",
            "n05.wav\n",
            "n04.wav\n",
            "n03.wav\n",
            "n02.wav\n",
            "n01.wav\n",
            "n10.wav\n",
            "n09.wav\n",
            "n08.wav\n",
            "n07.wav\n",
            "n06.wav\n",
            "n15.wav\n",
            "n14.wav\n",
            "n13.wav\n",
            "n12.wav\n",
            "n11.wav\n",
            "n20.wav\n",
            "n19.wav\n",
            "n25.wav\n",
            "n24.wav\n",
            "n23.wav\n",
            "n22.wav\n",
            "n21.wav\n",
            "n30.wav\n",
            "n29.wav\n",
            "n28.wav\n",
            "n27.wav\n",
            "n26.wav\n",
            "sa04.wav\n",
            "sa03.wav\n",
            "sa02.wav\n",
            "sa01.wav\n",
            "sa13.wav\n",
            "sa12.wav\n",
            "sa11.wav\n",
            "sa05.wav\n",
            "sa10.wav\n",
            "sa09.wav\n",
            "sa08.wav\n",
            "sa07.wav\n",
            "sa06.wav\n",
            "sa15.wav\n",
            "sa14.wav\n",
            "su05.wav\n",
            "su04.wav\n",
            "su03.wav\n",
            "su02.wav\n",
            "su01.wav\n",
            "su10.wav\n",
            "su09.wav\n",
            "su08.wav\n",
            "su07.wav\n",
            "su06.wav\n",
            "su13.wav\n",
            "su12.wav\n",
            "su11.wav\n",
            "su15.wav\n",
            "su14.wav\n",
            "DC\n",
            "a15.wav\n",
            "a14.wav\n",
            "a05.wav\n",
            "a04.wav\n",
            "a03.wav\n",
            "a02.wav\n",
            "a01.wav\n",
            "a06.wav\n",
            "a07.wav\n",
            "a08.wav\n",
            "a09.wav\n",
            "a10.wav\n",
            "a13.wav\n",
            "a12.wav\n",
            "a11.wav\n",
            "d01.wav\n",
            "d02.wav\n",
            "d03.wav\n",
            "d04.wav\n",
            "d05.wav\n",
            "d10.wav\n",
            "d09.wav\n",
            "d08.wav\n",
            "d07.wav\n",
            "d06.wav\n",
            "d15.wav\n",
            "d14.wav\n",
            "d13.wav\n",
            "d12.wav\n",
            "d11.wav\n",
            "f01.wav\n",
            "f02.wav\n",
            "f03.wav\n",
            "f04.wav\n",
            "f05.wav\n",
            "f10.wav\n",
            "f09.wav\n",
            "f08.wav\n",
            "f07.wav\n",
            "f06.wav\n",
            "f15.wav\n",
            "f14.wav\n",
            "f13.wav\n",
            "f12.wav\n",
            "f11.wav\n",
            "h01.wav\n",
            "h02.wav\n",
            "h03.wav\n",
            "h04.wav\n",
            "h05.wav\n",
            "h10.wav\n",
            "h09.wav\n",
            "h08.wav\n",
            "h07.wav\n",
            "h06.wav\n",
            "h11.wav\n",
            "h12.wav\n",
            "h13.wav\n",
            "h14.wav\n",
            "h15.wav\n",
            "n05.wav\n",
            "n04.wav\n",
            "n03.wav\n",
            "n02.wav\n",
            "n01.wav\n",
            "n06.wav\n",
            "n07.wav\n",
            "n08.wav\n",
            "n09.wav\n",
            "n10.wav\n",
            "n11.wav\n",
            "n12.wav\n",
            "n13.wav\n",
            "n14.wav\n",
            "n15.wav\n",
            "n20.wav\n",
            "n19.wav\n",
            "n18.wav\n",
            "n17.wav\n",
            "n16.wav\n",
            "n21.wav\n",
            "n22.wav\n",
            "n23.wav\n",
            "n24.wav\n",
            "n25.wav\n",
            "n26.wav\n",
            "n27.wav\n",
            "n28.wav\n",
            "n29.wav\n",
            "n30.wav\n",
            "sa01.wav\n",
            "sa02.wav\n",
            "sa03.wav\n",
            "sa04.wav\n",
            "sa09.wav\n",
            "sa08.wav\n",
            "sa07.wav\n",
            "sa06.wav\n",
            "sa11.wav\n",
            "sa12.wav\n",
            "sa13.wav\n",
            "sa14.wav\n",
            "sa15.wav\n",
            "sa05.wav\n",
            "sa10.wav\n",
            "su01.wav\n",
            "su02.wav\n",
            "su03.wav\n",
            "su04.wav\n",
            "su05.wav\n",
            "su06.wav\n",
            "su07.wav\n",
            "su08.wav\n",
            "su09.wav\n",
            "su11.wav\n",
            "su12.wav\n",
            "su13.wav\n",
            "su14.wav\n",
            "su15.wav\n",
            "su10.wav\n",
            "--- Data loaded. Loading time: 87.21637725830078 seconds ---\n"
          ]
        }
      ]
    },
    {
      "cell_type": "code",
      "source": [
        "seed_constant = 845052\n"
      ],
      "metadata": {
        "id": "HiImqX3dnmC9"
      },
      "execution_count": 4,
      "outputs": []
    },
    {
      "cell_type": "code",
      "source": [
        "from sklearn.model_selection import train_test_split\n",
        "# Split the Data into Train ( 80% ) and Test Set ( 20% ).\n",
        "x_train, x_test, y_train, y_test,video_train_path,video_test_path,audio_train_path,audio_test_path = train_test_split(features, labels,video_name,audio_name,\n",
        "                                                                            test_size = 0.10, shuffle = True,\n",
        "                                                                            random_state = seed_constant)"
      ],
      "metadata": {
        "id": "0r4CRQcJmxP2"
      },
      "execution_count": 5,
      "outputs": []
    },
    {
      "cell_type": "code",
      "source": [
        "\n",
        "# Split train the Data into Train ( 80% ) and valid Set ( 20% ).\n",
        "x_train, x_valid, y_train, y_valid,video_train_path,video_valid_path,audio_train_path,audio_valid_path = train_test_split(x_train, y_train,video_train_path,audio_train_path,\n",
        "                                                                            test_size = 0.11, shuffle = True,\n",
        "                                                                            random_state = seed_constant)"
      ],
      "metadata": {
        "id": "607iO6YunQ1g"
      },
      "execution_count": 6,
      "outputs": []
    },
    {
      "cell_type": "code",
      "source": [
        "#288,36,36\n",
        "len(x_train),len(x_valid),len(x_test),len(y_train),len(y_valid),len(y_test),len(video_train_path),len(video_valid_path),len(video_test_path),len(audio_train_path),len(audio_valid_path),len(audio_test_path)"
      ],
      "metadata": {
        "colab": {
          "base_uri": "https://localhost:8080/"
        },
        "id": "pTU9Ip0Hn32p",
        "outputId": "7fdfd106-b935-4669-fe40-9a8c49e9e2a9"
      },
      "execution_count": 7,
      "outputs": [
        {
          "output_type": "execute_result",
          "data": {
            "text/plain": [
              "(288, 36, 36, 288, 36, 36, 288, 36, 36, 288, 36, 36)"
            ]
          },
          "metadata": {},
          "execution_count": 7
        }
      ]
    },
    {
      "cell_type": "code",
      "source": [
        "import joblib\n",
        "\n",
        "save_dir = '/content/drive/My Drive/fusion/savee/audio/data_set/expert6'\n",
        "\n",
        "savedvX = joblib.dump(y_train, os.path.join(save_dir, 'train/labels_train'))\n",
        "savedvX = joblib.dump(y_test, os.path.join(save_dir, 'test/labels_test'))\n",
        "savedvX = joblib.dump(y_valid, os.path.join(save_dir, 'valid/labels_valid'))\n",
        "savedvX = joblib.dump(video_train_path, os.path.join(save_dir, 'train/video_train_path'))\n",
        "savedvX = joblib.dump(video_test_path, os.path.join(save_dir, 'test/video_test_path'))\n",
        "savedvX = joblib.dump(video_valid_path, os.path.join(save_dir, 'valid/video_valid_path'))\n",
        "savedvX = joblib.dump(audio_train_path, os.path.join(save_dir, 'train/audio_train_path'))\n",
        "savedvX = joblib.dump(audio_test_path, os.path.join(save_dir, 'test/audio_test_path'))\n",
        "savedvX = joblib.dump(audio_valid_path, os.path.join(save_dir, 'valid/audio_valid_path'))"
      ],
      "metadata": {
        "id": "HRotP7k-pZDj"
      },
      "execution_count": 8,
      "outputs": []
    },
    {
      "cell_type": "code",
      "execution_count": 9,
      "metadata": {
        "colab": {
          "base_uri": "https://localhost:8080/"
        },
        "id": "kJkN-K17gSvD",
        "outputId": "e70377ba-2559-403c-8931-bc0d0bafa69d"
      },
      "outputs": [
        {
          "output_type": "execute_result",
          "data": {
            "text/plain": [
              "((36, 40), (36, 40), (288, 40), (36,), (36,), (288,))"
            ]
          },
          "metadata": {},
          "execution_count": 9
        }
      ],
      "source": [
        "x_valid=np.asarray(x_valid)\n",
        "x_test=np.asarray(x_test)\n",
        "x_train=np.asarray(x_train)\n",
        "y_train=np.asarray(y_train)\n",
        "y_test=np.asarray(y_test)\n",
        "y_valid=np.asarray(y_valid)\n",
        "x_valid.shape,x_test.shape,x_train.shape,y_valid.shape,y_test.shape,y_train.shape"
      ]
    },
    {
      "cell_type": "code",
      "execution_count": 10,
      "metadata": {
        "colab": {
          "base_uri": "https://localhost:8080/"
        },
        "id": "zlvfnkyLkxWx",
        "outputId": "63425265-0258-494b-a6d0-2e2c65f171a5"
      },
      "outputs": [
        {
          "output_type": "stream",
          "name": "stderr",
          "text": [
            "/usr/local/lib/python3.7/dist-packages/keras/optimizer_v2/adam.py:105: UserWarning:\n",
            "\n",
            "The `lr` argument is deprecated, use `learning_rate` instead.\n",
            "\n"
          ]
        }
      ],
      "source": [
        "import keras\n",
        "import numpy as np\n",
        "import matplotlib.pyplot as plt\n",
        "import tensorflow as tf\n",
        "from keras.preprocessing import sequence\n",
        "from keras.models import Sequential\n",
        "from keras.layers import Dense, Embedding\n",
        "from tensorflow.keras.utils import to_categorical\n",
        "from keras.layers import Input, Flatten, Dropout, Activation\n",
        "from keras.layers import Conv1D, MaxPooling1D\n",
        "from keras.models import Model\n",
        "from keras.callbacks import ModelCheckpoint\n",
        "from tensorflow.keras import optimizers\n",
        "from keras.models import InputLayer\n",
        "\n",
        "model = Sequential(InputLayer((40,1)))\n",
        "model.add(BatchNormalization())\n",
        "\n",
        "model.add(Conv1D(128, 12,padding='same', ))\n",
        "model.add(BatchNormalization())\n",
        "model.add(Activation('relu'))\n",
        "model.add(Dropout(0.1))\n",
        "model.add(MaxPooling1D(pool_size=(5)))\n",
        "\n",
        "\n",
        "model.add(Conv1D(256,12,padding='same',))\n",
        "model.add(BatchNormalization())\n",
        "model.add(Activation('relu'))\n",
        "model.add(Dropout(0.3))\n",
        "model.add(MaxPooling1D(pool_size=(5)))\n",
        "\n",
        "model.add(Flatten())\n",
        "model.add(Dense(5))\n",
        "model.add(Activation('softmax'))\n",
        "opt = tf.keras.optimizers.Adam(lr=0.0002)"
      ]
    },
    {
      "cell_type": "code",
      "execution_count": 11,
      "metadata": {
        "colab": {
          "base_uri": "https://localhost:8080/"
        },
        "id": "1-Xsvw44kzg1",
        "outputId": "d2e23878-d9ec-41fe-c3f5-27d79e33f1fa"
      },
      "outputs": [
        {
          "output_type": "stream",
          "name": "stdout",
          "text": [
            "Model: \"sequential\"\n",
            "_________________________________________________________________\n",
            " Layer (type)                Output Shape              Param #   \n",
            "=================================================================\n",
            " batch_normalization (BatchN  (None, 40, 1)            4         \n",
            " ormalization)                                                   \n",
            "                                                                 \n",
            " conv1d (Conv1D)             (None, 40, 128)           1664      \n",
            "                                                                 \n",
            " batch_normalization_1 (Batc  (None, 40, 128)          512       \n",
            " hNormalization)                                                 \n",
            "                                                                 \n",
            " activation (Activation)     (None, 40, 128)           0         \n",
            "                                                                 \n",
            " dropout (Dropout)           (None, 40, 128)           0         \n",
            "                                                                 \n",
            " max_pooling1d (MaxPooling1D  (None, 8, 128)           0         \n",
            " )                                                               \n",
            "                                                                 \n",
            " conv1d_1 (Conv1D)           (None, 8, 256)            393472    \n",
            "                                                                 \n",
            " batch_normalization_2 (Batc  (None, 8, 256)           1024      \n",
            " hNormalization)                                                 \n",
            "                                                                 \n",
            " activation_1 (Activation)   (None, 8, 256)            0         \n",
            "                                                                 \n",
            " dropout_1 (Dropout)         (None, 8, 256)            0         \n",
            "                                                                 \n",
            " max_pooling1d_1 (MaxPooling  (None, 1, 256)           0         \n",
            " 1D)                                                             \n",
            "                                                                 \n",
            " flatten (Flatten)           (None, 256)               0         \n",
            "                                                                 \n",
            " dense (Dense)               (None, 5)                 1285      \n",
            "                                                                 \n",
            " activation_2 (Activation)   (None, 5)                 0         \n",
            "                                                                 \n",
            "=================================================================\n",
            "Total params: 397,961\n",
            "Trainable params: 397,191\n",
            "Non-trainable params: 770\n",
            "_________________________________________________________________\n"
          ]
        }
      ],
      "source": [
        "model.summary()"
      ]
    },
    {
      "cell_type": "code",
      "source": [
        "x_traincnn = np.expand_dims(x_train, axis=2)\n",
        "x_testcnn = np.expand_dims(x_test, axis=2)\n",
        "x_valid= np.expand_dims(x_valid, axis=2)\n",
        "x_traincnn.shape, x_testcnn.shape , x_valid.shape"
      ],
      "metadata": {
        "colab": {
          "base_uri": "https://localhost:8080/"
        },
        "id": "stkRAksEouLD",
        "outputId": "8b21c4ca-1710-4e88-f40c-19ab8085c558"
      },
      "execution_count": 12,
      "outputs": [
        {
          "output_type": "execute_result",
          "data": {
            "text/plain": [
              "((288, 40, 1), (36, 40, 1), (36, 40, 1))"
            ]
          },
          "metadata": {},
          "execution_count": 12
        }
      ]
    },
    {
      "cell_type": "code",
      "execution_count": 13,
      "metadata": {
        "id": "Xt2o-rzF0wyE",
        "colab": {
          "base_uri": "https://localhost:8080/"
        },
        "outputId": "ae60306e-a4f1-4781-f8b4-e21513ac1bd7"
      },
      "outputs": [
        {
          "output_type": "stream",
          "name": "stdout",
          "text": [
            "Epoch 1/500\n",
            "18/18 [==============================] - 12s 21ms/step - loss: 2.0286 - accuracy: 0.2812 - val_loss: 1.5847 - val_accuracy: 0.1944\n",
            "Epoch 2/500\n",
            "18/18 [==============================] - 0s 5ms/step - loss: 1.6184 - accuracy: 0.3993 - val_loss: 1.5499 - val_accuracy: 0.1944\n",
            "Epoch 3/500\n",
            "18/18 [==============================] - 0s 5ms/step - loss: 1.3523 - accuracy: 0.5069 - val_loss: 1.5617 - val_accuracy: 0.1944\n",
            "Epoch 4/500\n",
            "18/18 [==============================] - 0s 5ms/step - loss: 1.4029 - accuracy: 0.4965 - val_loss: 1.6563 - val_accuracy: 0.1667\n",
            "Epoch 5/500\n",
            "18/18 [==============================] - 0s 5ms/step - loss: 1.3114 - accuracy: 0.4965 - val_loss: 1.6957 - val_accuracy: 0.1667\n",
            "Epoch 6/500\n",
            "18/18 [==============================] - 0s 5ms/step - loss: 1.2721 - accuracy: 0.5694 - val_loss: 1.8074 - val_accuracy: 0.1667\n",
            "Epoch 7/500\n",
            "18/18 [==============================] - 0s 5ms/step - loss: 1.1443 - accuracy: 0.5938 - val_loss: 1.8810 - val_accuracy: 0.1667\n",
            "Epoch 8/500\n",
            "18/18 [==============================] - 0s 5ms/step - loss: 1.1561 - accuracy: 0.5799 - val_loss: 1.9380 - val_accuracy: 0.1667\n",
            "Epoch 9/500\n",
            "18/18 [==============================] - 0s 5ms/step - loss: 1.0098 - accuracy: 0.5660 - val_loss: 2.1597 - val_accuracy: 0.1667\n",
            "Epoch 10/500\n",
            "18/18 [==============================] - 0s 5ms/step - loss: 1.0018 - accuracy: 0.6076 - val_loss: 2.2367 - val_accuracy: 0.1667\n",
            "Epoch 11/500\n",
            "18/18 [==============================] - 0s 5ms/step - loss: 0.9972 - accuracy: 0.5833 - val_loss: 2.2975 - val_accuracy: 0.1667\n",
            "Epoch 12/500\n",
            "18/18 [==============================] - 0s 5ms/step - loss: 0.8756 - accuracy: 0.6771 - val_loss: 2.3994 - val_accuracy: 0.1667\n",
            "Epoch 13/500\n",
            "18/18 [==============================] - 0s 5ms/step - loss: 0.8939 - accuracy: 0.6632 - val_loss: 2.6024 - val_accuracy: 0.1667\n",
            "Epoch 14/500\n",
            "18/18 [==============================] - 0s 5ms/step - loss: 0.9575 - accuracy: 0.6389 - val_loss: 2.6004 - val_accuracy: 0.1667\n",
            "Epoch 15/500\n",
            "18/18 [==============================] - 0s 5ms/step - loss: 0.9679 - accuracy: 0.6701 - val_loss: 2.4981 - val_accuracy: 0.1667\n",
            "Epoch 16/500\n",
            "18/18 [==============================] - 0s 5ms/step - loss: 0.8685 - accuracy: 0.6736 - val_loss: 2.6863 - val_accuracy: 0.1667\n",
            "Epoch 17/500\n",
            "18/18 [==============================] - 0s 5ms/step - loss: 0.8332 - accuracy: 0.6736 - val_loss: 2.6420 - val_accuracy: 0.1667\n",
            "Epoch 18/500\n",
            "18/18 [==============================] - 0s 5ms/step - loss: 0.9022 - accuracy: 0.6458 - val_loss: 2.3887 - val_accuracy: 0.1667\n",
            "Epoch 19/500\n",
            "18/18 [==============================] - 0s 5ms/step - loss: 0.8215 - accuracy: 0.6667 - val_loss: 2.4050 - val_accuracy: 0.1667\n",
            "Epoch 20/500\n",
            "18/18 [==============================] - 0s 5ms/step - loss: 0.7679 - accuracy: 0.6875 - val_loss: 2.0838 - val_accuracy: 0.1667\n",
            "Epoch 21/500\n",
            "18/18 [==============================] - 0s 5ms/step - loss: 0.7982 - accuracy: 0.7049 - val_loss: 2.0827 - val_accuracy: 0.1667\n",
            "Epoch 22/500\n",
            "18/18 [==============================] - 0s 5ms/step - loss: 0.7796 - accuracy: 0.6944 - val_loss: 1.8676 - val_accuracy: 0.1944\n",
            "Epoch 23/500\n",
            "18/18 [==============================] - 0s 5ms/step - loss: 0.7148 - accuracy: 0.7049 - val_loss: 1.7543 - val_accuracy: 0.1944\n",
            "Epoch 24/500\n",
            "18/18 [==============================] - 0s 5ms/step - loss: 0.7655 - accuracy: 0.6806 - val_loss: 1.5171 - val_accuracy: 0.1944\n",
            "Epoch 25/500\n",
            "18/18 [==============================] - 0s 5ms/step - loss: 0.7464 - accuracy: 0.7188 - val_loss: 1.4044 - val_accuracy: 0.2778\n",
            "Epoch 26/500\n",
            "18/18 [==============================] - 0s 5ms/step - loss: 0.7401 - accuracy: 0.6910 - val_loss: 1.3024 - val_accuracy: 0.2778\n",
            "Epoch 27/500\n",
            "18/18 [==============================] - 0s 5ms/step - loss: 0.7520 - accuracy: 0.7049 - val_loss: 1.1344 - val_accuracy: 0.5000\n",
            "Epoch 28/500\n",
            "18/18 [==============================] - 0s 5ms/step - loss: 0.7126 - accuracy: 0.7083 - val_loss: 1.0877 - val_accuracy: 0.4167\n",
            "Epoch 29/500\n",
            "18/18 [==============================] - 0s 5ms/step - loss: 0.7521 - accuracy: 0.6944 - val_loss: 0.8187 - val_accuracy: 0.6389\n",
            "Epoch 30/500\n",
            "18/18 [==============================] - 0s 5ms/step - loss: 0.7188 - accuracy: 0.7083 - val_loss: 0.9249 - val_accuracy: 0.6389\n",
            "Epoch 31/500\n",
            "18/18 [==============================] - 0s 5ms/step - loss: 0.7808 - accuracy: 0.6910 - val_loss: 1.0547 - val_accuracy: 0.5833\n",
            "Epoch 32/500\n",
            "18/18 [==============================] - 0s 5ms/step - loss: 0.6524 - accuracy: 0.7326 - val_loss: 0.6683 - val_accuracy: 0.8333\n",
            "Epoch 33/500\n",
            "18/18 [==============================] - 0s 5ms/step - loss: 0.6713 - accuracy: 0.7188 - val_loss: 0.7397 - val_accuracy: 0.7222\n",
            "Epoch 34/500\n",
            "18/18 [==============================] - 0s 5ms/step - loss: 0.6910 - accuracy: 0.7188 - val_loss: 0.7104 - val_accuracy: 0.7500\n",
            "Epoch 35/500\n",
            "18/18 [==============================] - 0s 5ms/step - loss: 0.6654 - accuracy: 0.7118 - val_loss: 0.7526 - val_accuracy: 0.6389\n",
            "Epoch 36/500\n",
            "18/18 [==============================] - 0s 5ms/step - loss: 0.6840 - accuracy: 0.7361 - val_loss: 0.6078 - val_accuracy: 0.7778\n",
            "Epoch 37/500\n",
            "18/18 [==============================] - 0s 5ms/step - loss: 0.7372 - accuracy: 0.7083 - val_loss: 0.8110 - val_accuracy: 0.6944\n",
            "Epoch 38/500\n",
            "18/18 [==============================] - 0s 5ms/step - loss: 0.6816 - accuracy: 0.7361 - val_loss: 0.6288 - val_accuracy: 0.8333\n",
            "Epoch 39/500\n",
            "18/18 [==============================] - 0s 5ms/step - loss: 0.5866 - accuracy: 0.7778 - val_loss: 0.7414 - val_accuracy: 0.7500\n",
            "Epoch 40/500\n",
            "18/18 [==============================] - 0s 5ms/step - loss: 0.5700 - accuracy: 0.7812 - val_loss: 0.5195 - val_accuracy: 0.8889\n",
            "Epoch 41/500\n",
            "18/18 [==============================] - 0s 5ms/step - loss: 0.6114 - accuracy: 0.7535 - val_loss: 0.5429 - val_accuracy: 0.8611\n",
            "Epoch 42/500\n",
            "18/18 [==============================] - 0s 5ms/step - loss: 0.6336 - accuracy: 0.7431 - val_loss: 0.5534 - val_accuracy: 0.8333\n",
            "Epoch 43/500\n",
            "18/18 [==============================] - 0s 5ms/step - loss: 0.6410 - accuracy: 0.7708 - val_loss: 0.6110 - val_accuracy: 0.8056\n",
            "Epoch 44/500\n",
            "18/18 [==============================] - 0s 5ms/step - loss: 0.5930 - accuracy: 0.7569 - val_loss: 0.5343 - val_accuracy: 0.8056\n",
            "Epoch 45/500\n",
            "18/18 [==============================] - 0s 5ms/step - loss: 0.5821 - accuracy: 0.7604 - val_loss: 0.5384 - val_accuracy: 0.8333\n",
            "Epoch 46/500\n",
            "18/18 [==============================] - 0s 5ms/step - loss: 0.5508 - accuracy: 0.7847 - val_loss: 0.6181 - val_accuracy: 0.8056\n",
            "Epoch 47/500\n",
            "18/18 [==============================] - 0s 5ms/step - loss: 0.5614 - accuracy: 0.7812 - val_loss: 0.6450 - val_accuracy: 0.7500\n",
            "Epoch 48/500\n",
            "18/18 [==============================] - 0s 5ms/step - loss: 0.5893 - accuracy: 0.7743 - val_loss: 0.5650 - val_accuracy: 0.8056\n",
            "Epoch 49/500\n",
            "18/18 [==============================] - 0s 5ms/step - loss: 0.5375 - accuracy: 0.7812 - val_loss: 0.5945 - val_accuracy: 0.7778\n",
            "Epoch 50/500\n",
            "18/18 [==============================] - 0s 5ms/step - loss: 0.6182 - accuracy: 0.7361 - val_loss: 0.5689 - val_accuracy: 0.8333\n",
            "Epoch 51/500\n",
            "18/18 [==============================] - 0s 5ms/step - loss: 0.5877 - accuracy: 0.7569 - val_loss: 0.4926 - val_accuracy: 0.8889\n",
            "Epoch 52/500\n",
            "18/18 [==============================] - 0s 5ms/step - loss: 0.5550 - accuracy: 0.7847 - val_loss: 0.5337 - val_accuracy: 0.8333\n",
            "Epoch 53/500\n",
            "18/18 [==============================] - 0s 5ms/step - loss: 0.5038 - accuracy: 0.7743 - val_loss: 0.5305 - val_accuracy: 0.8889\n",
            "Epoch 54/500\n",
            "18/18 [==============================] - 0s 5ms/step - loss: 0.5330 - accuracy: 0.7708 - val_loss: 0.4839 - val_accuracy: 0.8611\n",
            "Epoch 55/500\n",
            "18/18 [==============================] - 0s 5ms/step - loss: 0.5437 - accuracy: 0.7708 - val_loss: 0.4859 - val_accuracy: 0.8611\n",
            "Epoch 56/500\n",
            "18/18 [==============================] - 0s 5ms/step - loss: 0.5497 - accuracy: 0.7604 - val_loss: 0.5964 - val_accuracy: 0.8056\n",
            "Epoch 57/500\n",
            "18/18 [==============================] - 0s 5ms/step - loss: 0.5330 - accuracy: 0.7847 - val_loss: 0.5909 - val_accuracy: 0.7222\n",
            "Epoch 58/500\n",
            "18/18 [==============================] - 0s 5ms/step - loss: 0.5491 - accuracy: 0.7569 - val_loss: 0.5199 - val_accuracy: 0.8333\n",
            "Epoch 59/500\n",
            "18/18 [==============================] - 0s 5ms/step - loss: 0.5071 - accuracy: 0.7986 - val_loss: 0.5617 - val_accuracy: 0.8333\n",
            "Epoch 60/500\n",
            "18/18 [==============================] - 0s 5ms/step - loss: 0.4970 - accuracy: 0.7812 - val_loss: 0.5334 - val_accuracy: 0.8333\n",
            "Epoch 61/500\n",
            "18/18 [==============================] - 0s 5ms/step - loss: 0.5238 - accuracy: 0.7847 - val_loss: 0.5850 - val_accuracy: 0.7778\n",
            "Epoch 62/500\n",
            "18/18 [==============================] - 0s 5ms/step - loss: 0.5171 - accuracy: 0.7917 - val_loss: 0.6459 - val_accuracy: 0.8056\n",
            "Epoch 63/500\n",
            "18/18 [==============================] - 0s 5ms/step - loss: 0.5737 - accuracy: 0.7604 - val_loss: 0.6087 - val_accuracy: 0.7778\n",
            "Epoch 64/500\n",
            "18/18 [==============================] - 0s 5ms/step - loss: 0.5214 - accuracy: 0.7708 - val_loss: 0.5216 - val_accuracy: 0.8333\n",
            "Epoch 65/500\n",
            "18/18 [==============================] - 0s 5ms/step - loss: 0.5701 - accuracy: 0.7535 - val_loss: 0.5278 - val_accuracy: 0.8333\n",
            "Epoch 66/500\n",
            "18/18 [==============================] - 0s 5ms/step - loss: 0.4496 - accuracy: 0.8194 - val_loss: 0.5245 - val_accuracy: 0.8611\n",
            "Epoch 67/500\n",
            "18/18 [==============================] - 0s 5ms/step - loss: 0.4503 - accuracy: 0.7951 - val_loss: 0.5000 - val_accuracy: 0.8333\n",
            "Epoch 68/500\n",
            "18/18 [==============================] - 0s 5ms/step - loss: 0.4868 - accuracy: 0.8056 - val_loss: 0.4639 - val_accuracy: 0.8333\n",
            "Epoch 69/500\n",
            "18/18 [==============================] - 0s 5ms/step - loss: 0.4608 - accuracy: 0.8090 - val_loss: 0.4527 - val_accuracy: 0.8333\n",
            "Epoch 70/500\n",
            "18/18 [==============================] - 0s 5ms/step - loss: 0.4594 - accuracy: 0.8090 - val_loss: 0.6133 - val_accuracy: 0.7778\n",
            "Epoch 71/500\n",
            "18/18 [==============================] - 0s 5ms/step - loss: 0.4164 - accuracy: 0.8299 - val_loss: 0.5472 - val_accuracy: 0.8056\n",
            "Epoch 72/500\n",
            "18/18 [==============================] - 0s 5ms/step - loss: 0.4978 - accuracy: 0.8264 - val_loss: 0.5098 - val_accuracy: 0.8333\n",
            "Epoch 73/500\n",
            "18/18 [==============================] - 0s 5ms/step - loss: 0.4317 - accuracy: 0.8160 - val_loss: 0.4960 - val_accuracy: 0.8333\n",
            "Epoch 74/500\n",
            "18/18 [==============================] - 0s 5ms/step - loss: 0.3752 - accuracy: 0.8646 - val_loss: 0.6904 - val_accuracy: 0.7222\n",
            "Epoch 75/500\n",
            "18/18 [==============================] - 0s 5ms/step - loss: 0.4047 - accuracy: 0.8194 - val_loss: 0.5513 - val_accuracy: 0.7500\n",
            "Epoch 76/500\n",
            "18/18 [==============================] - 0s 5ms/step - loss: 0.4080 - accuracy: 0.8264 - val_loss: 0.4800 - val_accuracy: 0.8333\n",
            "Epoch 77/500\n",
            "18/18 [==============================] - 0s 5ms/step - loss: 0.4496 - accuracy: 0.8264 - val_loss: 0.5382 - val_accuracy: 0.8611\n",
            "Epoch 78/500\n",
            "18/18 [==============================] - 0s 5ms/step - loss: 0.4301 - accuracy: 0.8021 - val_loss: 0.6102 - val_accuracy: 0.7778\n",
            "Epoch 79/500\n",
            "18/18 [==============================] - 0s 5ms/step - loss: 0.4253 - accuracy: 0.8229 - val_loss: 0.6255 - val_accuracy: 0.7500\n",
            "Epoch 80/500\n",
            "18/18 [==============================] - 0s 5ms/step - loss: 0.3828 - accuracy: 0.8264 - val_loss: 0.5877 - val_accuracy: 0.7500\n",
            "Epoch 81/500\n",
            "18/18 [==============================] - 0s 5ms/step - loss: 0.4139 - accuracy: 0.8264 - val_loss: 0.5813 - val_accuracy: 0.7778\n",
            "Epoch 82/500\n",
            "18/18 [==============================] - 0s 5ms/step - loss: 0.3707 - accuracy: 0.8333 - val_loss: 0.5201 - val_accuracy: 0.8611\n",
            "Epoch 83/500\n",
            "18/18 [==============================] - 0s 5ms/step - loss: 0.3362 - accuracy: 0.8715 - val_loss: 0.5032 - val_accuracy: 0.8333\n",
            "Epoch 84/500\n",
            "18/18 [==============================] - 0s 5ms/step - loss: 0.3518 - accuracy: 0.8472 - val_loss: 0.4693 - val_accuracy: 0.8333\n",
            "Epoch 85/500\n",
            "18/18 [==============================] - 0s 5ms/step - loss: 0.4010 - accuracy: 0.8333 - val_loss: 0.6134 - val_accuracy: 0.8611\n",
            "Epoch 86/500\n",
            "18/18 [==============================] - 0s 5ms/step - loss: 0.3740 - accuracy: 0.8438 - val_loss: 0.5074 - val_accuracy: 0.8611\n",
            "Epoch 87/500\n",
            "18/18 [==============================] - 0s 5ms/step - loss: 0.3724 - accuracy: 0.8264 - val_loss: 0.4329 - val_accuracy: 0.8889\n",
            "Epoch 88/500\n",
            "18/18 [==============================] - 0s 5ms/step - loss: 0.3698 - accuracy: 0.8542 - val_loss: 0.5307 - val_accuracy: 0.8611\n",
            "Epoch 89/500\n",
            "18/18 [==============================] - 0s 5ms/step - loss: 0.3471 - accuracy: 0.8646 - val_loss: 0.5210 - val_accuracy: 0.8056\n",
            "Epoch 90/500\n",
            "18/18 [==============================] - 0s 5ms/step - loss: 0.4162 - accuracy: 0.8229 - val_loss: 0.5763 - val_accuracy: 0.8611\n",
            "Epoch 91/500\n",
            "18/18 [==============================] - 0s 5ms/step - loss: 0.3538 - accuracy: 0.8542 - val_loss: 0.5739 - val_accuracy: 0.7778\n",
            "Epoch 92/500\n",
            "18/18 [==============================] - 0s 5ms/step - loss: 0.3839 - accuracy: 0.8090 - val_loss: 0.6598 - val_accuracy: 0.7500\n",
            "Epoch 93/500\n",
            "18/18 [==============================] - 0s 5ms/step - loss: 0.3916 - accuracy: 0.8299 - val_loss: 0.5014 - val_accuracy: 0.8611\n",
            "Epoch 94/500\n",
            "18/18 [==============================] - 0s 5ms/step - loss: 0.3232 - accuracy: 0.8542 - val_loss: 0.6501 - val_accuracy: 0.7500\n",
            "Epoch 95/500\n",
            "18/18 [==============================] - 0s 5ms/step - loss: 0.3647 - accuracy: 0.8507 - val_loss: 0.5837 - val_accuracy: 0.8333\n",
            "Epoch 96/500\n",
            "18/18 [==============================] - 0s 5ms/step - loss: 0.3616 - accuracy: 0.8611 - val_loss: 0.7830 - val_accuracy: 0.7500\n",
            "Epoch 97/500\n",
            "18/18 [==============================] - 0s 5ms/step - loss: 0.3559 - accuracy: 0.8542 - val_loss: 0.4820 - val_accuracy: 0.8333\n",
            "Epoch 98/500\n",
            "18/18 [==============================] - 0s 5ms/step - loss: 0.3299 - accuracy: 0.8715 - val_loss: 0.4688 - val_accuracy: 0.8333\n",
            "Epoch 99/500\n",
            "18/18 [==============================] - 0s 5ms/step - loss: 0.3047 - accuracy: 0.8611 - val_loss: 0.5560 - val_accuracy: 0.7500\n",
            "Epoch 100/500\n",
            "18/18 [==============================] - 0s 5ms/step - loss: 0.3786 - accuracy: 0.8785 - val_loss: 0.5938 - val_accuracy: 0.8056\n",
            "Epoch 101/500\n",
            "18/18 [==============================] - 0s 5ms/step - loss: 0.3872 - accuracy: 0.8368 - val_loss: 0.7002 - val_accuracy: 0.7500\n",
            "Epoch 102/500\n",
            "18/18 [==============================] - 0s 5ms/step - loss: 0.3372 - accuracy: 0.8542 - val_loss: 0.5648 - val_accuracy: 0.8333\n",
            "Epoch 103/500\n",
            "18/18 [==============================] - 0s 5ms/step - loss: 0.3639 - accuracy: 0.8472 - val_loss: 0.6597 - val_accuracy: 0.7222\n",
            "Epoch 104/500\n",
            "18/18 [==============================] - 0s 5ms/step - loss: 0.3171 - accuracy: 0.8750 - val_loss: 0.6473 - val_accuracy: 0.6944\n",
            "Epoch 105/500\n",
            "18/18 [==============================] - 0s 5ms/step - loss: 0.3180 - accuracy: 0.8646 - val_loss: 0.5006 - val_accuracy: 0.8611\n",
            "Epoch 106/500\n",
            "18/18 [==============================] - 0s 5ms/step - loss: 0.3056 - accuracy: 0.8681 - val_loss: 0.6591 - val_accuracy: 0.7500\n",
            "Epoch 107/500\n",
            "18/18 [==============================] - 0s 5ms/step - loss: 0.3307 - accuracy: 0.8333 - val_loss: 0.5537 - val_accuracy: 0.6944\n",
            "Epoch 108/500\n",
            "18/18 [==============================] - 0s 5ms/step - loss: 0.2666 - accuracy: 0.9097 - val_loss: 0.4716 - val_accuracy: 0.8333\n",
            "Epoch 109/500\n",
            "18/18 [==============================] - 0s 5ms/step - loss: 0.2730 - accuracy: 0.8889 - val_loss: 0.6651 - val_accuracy: 0.7500\n",
            "Epoch 110/500\n",
            "18/18 [==============================] - 0s 5ms/step - loss: 0.3061 - accuracy: 0.8750 - val_loss: 0.5037 - val_accuracy: 0.8056\n",
            "Epoch 111/500\n",
            "18/18 [==============================] - 0s 5ms/step - loss: 0.2598 - accuracy: 0.9132 - val_loss: 0.5684 - val_accuracy: 0.8056\n",
            "Epoch 112/500\n",
            "18/18 [==============================] - 0s 5ms/step - loss: 0.2902 - accuracy: 0.8681 - val_loss: 0.4791 - val_accuracy: 0.8333\n",
            "Epoch 113/500\n",
            "18/18 [==============================] - 0s 5ms/step - loss: 0.2886 - accuracy: 0.8993 - val_loss: 0.4873 - val_accuracy: 0.8611\n",
            "Epoch 114/500\n",
            "18/18 [==============================] - 0s 5ms/step - loss: 0.2924 - accuracy: 0.8854 - val_loss: 0.5951 - val_accuracy: 0.7778\n",
            "Epoch 115/500\n",
            "18/18 [==============================] - 0s 5ms/step - loss: 0.3106 - accuracy: 0.8715 - val_loss: 0.5393 - val_accuracy: 0.8056\n",
            "Epoch 116/500\n",
            "18/18 [==============================] - 0s 5ms/step - loss: 0.2142 - accuracy: 0.9201 - val_loss: 0.4775 - val_accuracy: 0.8333\n",
            "Epoch 117/500\n",
            "18/18 [==============================] - 0s 5ms/step - loss: 0.2806 - accuracy: 0.8889 - val_loss: 0.5268 - val_accuracy: 0.8333\n",
            "Epoch 118/500\n",
            "18/18 [==============================] - 0s 5ms/step - loss: 0.2684 - accuracy: 0.8611 - val_loss: 0.5648 - val_accuracy: 0.8056\n",
            "Epoch 119/500\n",
            "18/18 [==============================] - 0s 5ms/step - loss: 0.2404 - accuracy: 0.9340 - val_loss: 0.4898 - val_accuracy: 0.8611\n",
            "Epoch 120/500\n",
            "18/18 [==============================] - 0s 5ms/step - loss: 0.2594 - accuracy: 0.8889 - val_loss: 0.5383 - val_accuracy: 0.8611\n",
            "Epoch 121/500\n",
            "18/18 [==============================] - 0s 5ms/step - loss: 0.2393 - accuracy: 0.8924 - val_loss: 0.5249 - val_accuracy: 0.8889\n",
            "Epoch 122/500\n",
            "18/18 [==============================] - 0s 5ms/step - loss: 0.2609 - accuracy: 0.8958 - val_loss: 0.5261 - val_accuracy: 0.8056\n",
            "Epoch 123/500\n",
            "18/18 [==============================] - 0s 5ms/step - loss: 0.2306 - accuracy: 0.9097 - val_loss: 0.4940 - val_accuracy: 0.8611\n",
            "Epoch 124/500\n",
            "18/18 [==============================] - 0s 5ms/step - loss: 0.2402 - accuracy: 0.9028 - val_loss: 0.6407 - val_accuracy: 0.7778\n",
            "Epoch 125/500\n",
            "18/18 [==============================] - 0s 5ms/step - loss: 0.2492 - accuracy: 0.9062 - val_loss: 0.5886 - val_accuracy: 0.8333\n",
            "Epoch 126/500\n",
            "18/18 [==============================] - 0s 5ms/step - loss: 0.2463 - accuracy: 0.9062 - val_loss: 0.5646 - val_accuracy: 0.8333\n",
            "Epoch 127/500\n",
            "18/18 [==============================] - 0s 5ms/step - loss: 0.2198 - accuracy: 0.9167 - val_loss: 0.5204 - val_accuracy: 0.8333\n",
            "Epoch 128/500\n",
            "18/18 [==============================] - 0s 5ms/step - loss: 0.2905 - accuracy: 0.8854 - val_loss: 0.3910 - val_accuracy: 0.8333\n",
            "Epoch 129/500\n",
            "18/18 [==============================] - 0s 5ms/step - loss: 0.2706 - accuracy: 0.9097 - val_loss: 0.3589 - val_accuracy: 0.8889\n",
            "Epoch 130/500\n",
            "18/18 [==============================] - 0s 5ms/step - loss: 0.2210 - accuracy: 0.9132 - val_loss: 0.5729 - val_accuracy: 0.8056\n",
            "Epoch 131/500\n",
            "18/18 [==============================] - 0s 5ms/step - loss: 0.1949 - accuracy: 0.9236 - val_loss: 0.5517 - val_accuracy: 0.8333\n",
            "Epoch 132/500\n",
            "18/18 [==============================] - 0s 5ms/step - loss: 0.2436 - accuracy: 0.9062 - val_loss: 0.5168 - val_accuracy: 0.8889\n",
            "Epoch 133/500\n",
            "18/18 [==============================] - 0s 5ms/step - loss: 0.2985 - accuracy: 0.8542 - val_loss: 0.6109 - val_accuracy: 0.7500\n",
            "Epoch 134/500\n",
            "18/18 [==============================] - 0s 5ms/step - loss: 0.2072 - accuracy: 0.9410 - val_loss: 0.6056 - val_accuracy: 0.7778\n",
            "Epoch 135/500\n",
            "18/18 [==============================] - 0s 5ms/step - loss: 0.2252 - accuracy: 0.9236 - val_loss: 0.4381 - val_accuracy: 0.8611\n",
            "Epoch 136/500\n",
            "18/18 [==============================] - 0s 5ms/step - loss: 0.1909 - accuracy: 0.9201 - val_loss: 0.5086 - val_accuracy: 0.8611\n",
            "Epoch 137/500\n",
            "18/18 [==============================] - 0s 5ms/step - loss: 0.1760 - accuracy: 0.9340 - val_loss: 0.4712 - val_accuracy: 0.8333\n",
            "Epoch 138/500\n",
            "18/18 [==============================] - 0s 5ms/step - loss: 0.1945 - accuracy: 0.9097 - val_loss: 0.5372 - val_accuracy: 0.8611\n",
            "Epoch 139/500\n",
            "18/18 [==============================] - 0s 5ms/step - loss: 0.2255 - accuracy: 0.8993 - val_loss: 0.5415 - val_accuracy: 0.8333\n",
            "Epoch 140/500\n",
            "18/18 [==============================] - 0s 5ms/step - loss: 0.1927 - accuracy: 0.9306 - val_loss: 0.4137 - val_accuracy: 0.8889\n",
            "Epoch 141/500\n",
            "18/18 [==============================] - 0s 5ms/step - loss: 0.2158 - accuracy: 0.9201 - val_loss: 0.4591 - val_accuracy: 0.8333\n",
            "Epoch 142/500\n",
            "18/18 [==============================] - 0s 5ms/step - loss: 0.2106 - accuracy: 0.9062 - val_loss: 0.4717 - val_accuracy: 0.8889\n",
            "Epoch 143/500\n",
            "18/18 [==============================] - 0s 5ms/step - loss: 0.1909 - accuracy: 0.9306 - val_loss: 0.5559 - val_accuracy: 0.7500\n",
            "Epoch 144/500\n",
            "18/18 [==============================] - 0s 5ms/step - loss: 0.1770 - accuracy: 0.9236 - val_loss: 0.4755 - val_accuracy: 0.8889\n",
            "Epoch 145/500\n",
            "18/18 [==============================] - 0s 5ms/step - loss: 0.2055 - accuracy: 0.9306 - val_loss: 0.4687 - val_accuracy: 0.8333\n",
            "Epoch 146/500\n",
            "18/18 [==============================] - 0s 5ms/step - loss: 0.1734 - accuracy: 0.9201 - val_loss: 0.4599 - val_accuracy: 0.8333\n",
            "Epoch 147/500\n",
            "18/18 [==============================] - 0s 5ms/step - loss: 0.1827 - accuracy: 0.9306 - val_loss: 0.4013 - val_accuracy: 0.8611\n",
            "Epoch 148/500\n",
            "18/18 [==============================] - 0s 5ms/step - loss: 0.1965 - accuracy: 0.9306 - val_loss: 0.5261 - val_accuracy: 0.8333\n",
            "Epoch 149/500\n",
            "18/18 [==============================] - 0s 5ms/step - loss: 0.1923 - accuracy: 0.9271 - val_loss: 0.7100 - val_accuracy: 0.7778\n",
            "Epoch 150/500\n",
            "18/18 [==============================] - 0s 5ms/step - loss: 0.2035 - accuracy: 0.9271 - val_loss: 0.5134 - val_accuracy: 0.8056\n",
            "Epoch 151/500\n",
            "18/18 [==============================] - 0s 5ms/step - loss: 0.1665 - accuracy: 0.9479 - val_loss: 0.4289 - val_accuracy: 0.8611\n",
            "Epoch 152/500\n",
            "18/18 [==============================] - 0s 5ms/step - loss: 0.1528 - accuracy: 0.9444 - val_loss: 0.4863 - val_accuracy: 0.8333\n",
            "Epoch 153/500\n",
            "18/18 [==============================] - 0s 5ms/step - loss: 0.1336 - accuracy: 0.9549 - val_loss: 0.4826 - val_accuracy: 0.8333\n",
            "Epoch 154/500\n",
            "18/18 [==============================] - 0s 5ms/step - loss: 0.1660 - accuracy: 0.9549 - val_loss: 0.4902 - val_accuracy: 0.8056\n",
            "Epoch 155/500\n",
            "18/18 [==============================] - 0s 5ms/step - loss: 0.1571 - accuracy: 0.9410 - val_loss: 0.4450 - val_accuracy: 0.8611\n",
            "Epoch 156/500\n",
            "18/18 [==============================] - 0s 5ms/step - loss: 0.1612 - accuracy: 0.9514 - val_loss: 0.4166 - val_accuracy: 0.8611\n",
            "Epoch 157/500\n",
            "18/18 [==============================] - 0s 5ms/step - loss: 0.1912 - accuracy: 0.9271 - val_loss: 0.5128 - val_accuracy: 0.8056\n",
            "Epoch 158/500\n",
            "18/18 [==============================] - 0s 5ms/step - loss: 0.1493 - accuracy: 0.9479 - val_loss: 0.4964 - val_accuracy: 0.8056\n",
            "Epoch 159/500\n",
            "18/18 [==============================] - 0s 5ms/step - loss: 0.1415 - accuracy: 0.9583 - val_loss: 0.5514 - val_accuracy: 0.8333\n",
            "Epoch 160/500\n",
            "18/18 [==============================] - 0s 5ms/step - loss: 0.1482 - accuracy: 0.9583 - val_loss: 0.4994 - val_accuracy: 0.8333\n",
            "Epoch 161/500\n",
            "18/18 [==============================] - 0s 5ms/step - loss: 0.1911 - accuracy: 0.9306 - val_loss: 0.5104 - val_accuracy: 0.8333\n",
            "Epoch 162/500\n",
            "18/18 [==============================] - 0s 5ms/step - loss: 0.1819 - accuracy: 0.9340 - val_loss: 0.5574 - val_accuracy: 0.7778\n",
            "Epoch 163/500\n",
            "18/18 [==============================] - 0s 5ms/step - loss: 0.1628 - accuracy: 0.9410 - val_loss: 0.6319 - val_accuracy: 0.7778\n",
            "Epoch 164/500\n",
            "18/18 [==============================] - 0s 5ms/step - loss: 0.1316 - accuracy: 0.9583 - val_loss: 0.6375 - val_accuracy: 0.7500\n",
            "Epoch 165/500\n",
            "18/18 [==============================] - 0s 5ms/step - loss: 0.1636 - accuracy: 0.9306 - val_loss: 0.5646 - val_accuracy: 0.8611\n",
            "Epoch 166/500\n",
            "18/18 [==============================] - 0s 5ms/step - loss: 0.1893 - accuracy: 0.9271 - val_loss: 0.4383 - val_accuracy: 0.8333\n",
            "Epoch 167/500\n",
            "18/18 [==============================] - 0s 5ms/step - loss: 0.1978 - accuracy: 0.9236 - val_loss: 0.4490 - val_accuracy: 0.8333\n",
            "Epoch 168/500\n",
            "18/18 [==============================] - 0s 5ms/step - loss: 0.1879 - accuracy: 0.9444 - val_loss: 0.5568 - val_accuracy: 0.8889\n",
            "Epoch 169/500\n",
            "18/18 [==============================] - 0s 5ms/step - loss: 0.1456 - accuracy: 0.9514 - val_loss: 0.5429 - val_accuracy: 0.8611\n",
            "Epoch 170/500\n",
            "18/18 [==============================] - 0s 5ms/step - loss: 0.1564 - accuracy: 0.9410 - val_loss: 0.4992 - val_accuracy: 0.8611\n",
            "Epoch 171/500\n",
            "18/18 [==============================] - 0s 5ms/step - loss: 0.1756 - accuracy: 0.9375 - val_loss: 0.4566 - val_accuracy: 0.8333\n",
            "Epoch 172/500\n",
            "18/18 [==============================] - 0s 5ms/step - loss: 0.1500 - accuracy: 0.9479 - val_loss: 0.4599 - val_accuracy: 0.8333\n",
            "Epoch 173/500\n",
            "18/18 [==============================] - 0s 5ms/step - loss: 0.1459 - accuracy: 0.9306 - val_loss: 0.5142 - val_accuracy: 0.8333\n",
            "Epoch 174/500\n",
            "18/18 [==============================] - 0s 5ms/step - loss: 0.1347 - accuracy: 0.9583 - val_loss: 0.4711 - val_accuracy: 0.8611\n",
            "Epoch 175/500\n",
            "18/18 [==============================] - 0s 5ms/step - loss: 0.1489 - accuracy: 0.9444 - val_loss: 0.4732 - val_accuracy: 0.8333\n",
            "Epoch 176/500\n",
            "18/18 [==============================] - 0s 5ms/step - loss: 0.1314 - accuracy: 0.9653 - val_loss: 0.4241 - val_accuracy: 0.8333\n",
            "Epoch 177/500\n",
            "18/18 [==============================] - 0s 5ms/step - loss: 0.0856 - accuracy: 0.9722 - val_loss: 0.4191 - val_accuracy: 0.8611\n",
            "Epoch 178/500\n",
            "18/18 [==============================] - 0s 5ms/step - loss: 0.1341 - accuracy: 0.9514 - val_loss: 0.4930 - val_accuracy: 0.8333\n",
            "Epoch 179/500\n",
            "18/18 [==============================] - 0s 5ms/step - loss: 0.1673 - accuracy: 0.9340 - val_loss: 0.6699 - val_accuracy: 0.8056\n",
            "Epoch 180/500\n",
            "18/18 [==============================] - 0s 5ms/step - loss: 0.1264 - accuracy: 0.9479 - val_loss: 0.4673 - val_accuracy: 0.8056\n",
            "Epoch 181/500\n",
            "18/18 [==============================] - 0s 5ms/step - loss: 0.1377 - accuracy: 0.9479 - val_loss: 0.5730 - val_accuracy: 0.8333\n",
            "Epoch 182/500\n",
            "18/18 [==============================] - 0s 5ms/step - loss: 0.1122 - accuracy: 0.9618 - val_loss: 0.4604 - val_accuracy: 0.8333\n",
            "Epoch 183/500\n",
            "18/18 [==============================] - 0s 5ms/step - loss: 0.1175 - accuracy: 0.9618 - val_loss: 0.6510 - val_accuracy: 0.8056\n",
            "Epoch 184/500\n",
            "18/18 [==============================] - 0s 5ms/step - loss: 0.1177 - accuracy: 0.9688 - val_loss: 0.6689 - val_accuracy: 0.8333\n",
            "Epoch 185/500\n",
            "18/18 [==============================] - 0s 5ms/step - loss: 0.1316 - accuracy: 0.9514 - val_loss: 0.5586 - val_accuracy: 0.8056\n",
            "Epoch 186/500\n",
            "18/18 [==============================] - 0s 5ms/step - loss: 0.1181 - accuracy: 0.9479 - val_loss: 0.6003 - val_accuracy: 0.7778\n",
            "Epoch 187/500\n",
            "18/18 [==============================] - 0s 5ms/step - loss: 0.1095 - accuracy: 0.9618 - val_loss: 0.6412 - val_accuracy: 0.7500\n",
            "Epoch 188/500\n",
            "18/18 [==============================] - 0s 5ms/step - loss: 0.1258 - accuracy: 0.9549 - val_loss: 0.4820 - val_accuracy: 0.8333\n",
            "Epoch 189/500\n",
            "18/18 [==============================] - 0s 5ms/step - loss: 0.1089 - accuracy: 0.9549 - val_loss: 0.4645 - val_accuracy: 0.8611\n",
            "Epoch 190/500\n",
            "18/18 [==============================] - 0s 5ms/step - loss: 0.1227 - accuracy: 0.9549 - val_loss: 0.5999 - val_accuracy: 0.7778\n",
            "Epoch 191/500\n",
            "18/18 [==============================] - 0s 5ms/step - loss: 0.1613 - accuracy: 0.9306 - val_loss: 0.4525 - val_accuracy: 0.8611\n",
            "Epoch 192/500\n",
            "18/18 [==============================] - 0s 5ms/step - loss: 0.0813 - accuracy: 0.9792 - val_loss: 0.4781 - val_accuracy: 0.8611\n",
            "Epoch 193/500\n",
            "18/18 [==============================] - 0s 5ms/step - loss: 0.0924 - accuracy: 0.9653 - val_loss: 0.5185 - val_accuracy: 0.8333\n",
            "Epoch 194/500\n",
            "18/18 [==============================] - 0s 5ms/step - loss: 0.0843 - accuracy: 0.9757 - val_loss: 0.4265 - val_accuracy: 0.8611\n"
          ]
        }
      ],
      "source": [
        "model.compile(loss = 'sparse_categorical_crossentropy', optimizer = opt, metrics = [\"accuracy\"])\n",
        "\n",
        "early_stopping_callback = EarlyStopping(monitor = 'val_loss', patience = 65, mode = 'min', restore_best_weights = True)\n",
        "cnnhistory=model.fit(x_traincnn, y_train, batch_size=16, epochs=500 , shuffle = True, \n",
        "                     validation_data=(x_valid, y_valid), callbacks = [early_stopping_callback])"
      ]
    },
    {
      "cell_type": "code",
      "source": [
        "plt.plot(cnnhistory.history['loss'])\n",
        "plt.plot(cnnhistory.history['val_loss'])\n",
        "plt.title('model loss')\n",
        "plt.ylabel('loss')\n",
        "plt.xlabel('epoch')\n",
        "plt.legend(['train', 'valid'], loc='upper left')\n",
        "plt.show()"
      ],
      "metadata": {
        "colab": {
          "base_uri": "https://localhost:8080/",
          "height": 295
        },
        "id": "fuwtwqf1JwEn",
        "outputId": "c2e6f5de-8acc-4973-db52-6590fd976020"
      },
      "execution_count": 14,
      "outputs": [
        {
          "output_type": "display_data",
          "data": {
            "text/plain": [
              "<Figure size 432x288 with 1 Axes>"
            ],
            "image/png": "[encoded data removed]"
          },
          "metadata": {
            "needs_background": "light"
          }
        }
      ]
    },
    {
      "cell_type": "code",
      "source": [
        "plt.plot(cnnhistory.history['accuracy'])\n",
        "plt.plot(cnnhistory.history['val_accuracy'])\n",
        "plt.title('model accuracy')\n",
        "plt.ylabel('accuracy')\n",
        "plt.xlabel('epoch')\n",
        "plt.legend(['train','test'], loc='upper left')\n",
        "plt.show()"
      ],
      "metadata": {
        "colab": {
          "base_uri": "https://localhost:8080/",
          "height": 295
        },
        "id": "85gaEoLgJz2u",
        "outputId": "332777f3-1bdb-4262-8324-73674b3fdc01"
      },
      "execution_count": 15,
      "outputs": [
        {
          "output_type": "display_data",
          "data": {
            "text/plain": [
              "<Figure size 432x288 with 1 Axes>"
            ],
            "image/png": "[encoded data removed]"
          },
          "metadata": {
            "needs_background": "light"
          }
        }
      ]
    },
    {
      "cell_type": "code",
      "source": [
        "loss, acc =model.evaluate(x_traincnn,y_train )\n",
        "print(\"Restored model train, accuracy: {:5.2f}%\".format(100*acc))"
      ],
      "metadata": {
        "colab": {
          "base_uri": "https://localhost:8080/"
        },
        "id": "k9lNlYcXpKAA",
        "outputId": "9d7da225-8679-474f-eb15-fefe7828fb3a"
      },
      "execution_count": 16,
      "outputs": [
        {
          "output_type": "stream",
          "name": "stdout",
          "text": [
            "9/9 [==============================] - 0s 3ms/step - loss: 0.2298 - accuracy: 0.8993\n",
            "Restored model train, accuracy: 89.93%\n"
          ]
        }
      ]
    },
    {
      "cell_type": "code",
      "source": [
        "loss, acc = model.evaluate(x_test, y_test)\n",
        "print(\"Restored model, accuracy: {:5.2f}%\".format(100*acc))"
      ],
      "metadata": {
        "colab": {
          "base_uri": "https://localhost:8080/"
        },
        "id": "VsXjcE8fJ9yB",
        "outputId": "e8c3aa99-75e0-4b8c-efb1-cd167dc9c968"
      },
      "execution_count": 17,
      "outputs": [
        {
          "output_type": "stream",
          "name": "stdout",
          "text": [
            "2/2 [==============================] - 0s 6ms/step - loss: 0.6664 - accuracy: 0.7500\n",
            "Restored model, accuracy: 75.00%\n"
          ]
        }
      ]
    },
    {
      "cell_type": "code",
      "source": [
        "#predictions = model.predict_classes(x_testcnn)\n",
        "predictions = model.predict(x_test)\n",
        "predictions"
      ],
      "metadata": {
        "colab": {
          "base_uri": "https://localhost:8080/"
        },
        "id": "J19se9vJKCFn",
        "outputId": "bebcfe34-1498-414e-ff8a-cc1a4c8f7b58"
      },
      "execution_count": 18,
      "outputs": [
        {
          "output_type": "execute_result",
          "data": {
            "text/plain": [
              "array([[8.55728795e-05, 4.01710927e-01, 2.76037783e-04, 5.93365967e-01,\n",
              "        4.56151133e-03],\n",
              "       [9.90785003e-01, 6.77273958e-04, 1.43085676e-03, 7.10459333e-03,\n",
              "        2.39082533e-06],\n",
              "       [1.78911156e-04, 5.09678781e-01, 3.69234149e-05, 4.11046967e-02,\n",
              "        4.49000686e-01],\n",
              "       [1.36874092e-04, 8.98490250e-01, 2.62620510e-03, 4.84239645e-02,\n",
              "        5.03226407e-02],\n",
              "       [1.08850283e-04, 1.29593372e-01, 6.35678089e-06, 1.19809229e-02,\n",
              "        8.58310461e-01],\n",
              "       [3.22520441e-06, 9.75803137e-01, 1.50620863e-05, 6.81408169e-03,\n",
              "        1.73644274e-02],\n",
              "       [2.79214024e-03, 2.03827415e-02, 7.90109552e-05, 2.01034738e-04,\n",
              "        9.76545036e-01],\n",
              "       [2.20271977e-05, 9.60344791e-01, 3.47361311e-05, 1.21080754e-02,\n",
              "        2.74903979e-02],\n",
              "       [1.05475774e-04, 1.13098575e-02, 8.59414104e-06, 9.88527656e-01,\n",
              "        4.84771590e-05],\n",
              "       [6.60160277e-03, 3.47718924e-01, 8.60212254e-04, 5.87741137e-01,\n",
              "        5.70782088e-02],\n",
              "       [2.51947553e-03, 8.50349009e-01, 1.07239612e-04, 2.04739776e-02,\n",
              "        1.26550317e-01],\n",
              "       [8.61033380e-01, 1.50716724e-03, 1.33036986e-01, 4.31717979e-03,\n",
              "        1.05224601e-04],\n",
              "       [9.00300860e-01, 4.04230505e-03, 9.45562124e-02, 9.25409433e-04,\n",
              "        1.75271096e-04],\n",
              "       [3.28837785e-07, 2.30101645e-02, 4.40630793e-05, 9.71805096e-01,\n",
              "        5.14046336e-03],\n",
              "       [9.72714603e-01, 5.45126968e-04, 2.66689565e-02, 1.89417860e-05,\n",
              "        5.23715207e-05],\n",
              "       [9.92394567e-01, 1.97991598e-04, 6.29505655e-03, 1.00244733e-03,\n",
              "        1.09926441e-04],\n",
              "       [7.35979080e-01, 3.96197662e-03, 2.48401761e-01, 1.11719221e-02,\n",
              "        4.85277589e-04],\n",
              "       [9.85685110e-01, 7.96608801e-04, 1.21231629e-02, 1.36126275e-03,\n",
              "        3.39341459e-05],\n",
              "       [8.68133008e-01, 5.30813180e-04, 1.31172031e-01, 1.49482818e-04,\n",
              "        1.46732318e-05],\n",
              "       [9.38771665e-01, 4.21549380e-03, 5.62602505e-02, 7.38838164e-04,\n",
              "        1.37762008e-05],\n",
              "       [8.64708156e-04, 9.42820191e-01, 5.81976892e-05, 4.85075004e-02,\n",
              "        7.74943549e-03],\n",
              "       [4.64508049e-02, 1.36587769e-01, 5.87161817e-03, 6.51961684e-01,\n",
              "        1.59128115e-01],\n",
              "       [2.41959806e-05, 9.44406450e-01, 2.08832877e-04, 2.11649085e-03,\n",
              "        5.32441027e-02],\n",
              "       [9.83038306e-01, 5.63565700e-05, 1.67081747e-02, 1.32147834e-04,\n",
              "        6.50223446e-05],\n",
              "       [7.87322760e-01, 2.51259953e-02, 1.41283438e-01, 1.51150851e-02,\n",
              "        3.11528444e-02],\n",
              "       [1.43439156e-05, 1.62204623e-01, 5.12106162e-05, 8.37176502e-01,\n",
              "        5.53401769e-04],\n",
              "       [1.36083793e-06, 1.88012227e-01, 6.02606597e-05, 8.02807271e-01,\n",
              "        9.11878608e-03],\n",
              "       [1.27146050e-04, 6.16406322e-01, 6.66980864e-04, 3.82554233e-01,\n",
              "        2.45381059e-04],\n",
              "       [3.01020942e-03, 2.16785714e-01, 1.86123099e-04, 2.31820578e-03,\n",
              "        7.77699709e-01],\n",
              "       [8.94024596e-03, 4.65566367e-01, 8.60487856e-03, 4.74360555e-01,\n",
              "        4.25279960e-02],\n",
              "       [2.14307238e-05, 4.58700247e-02, 7.18141735e-01, 3.73829040e-03,\n",
              "        2.32228473e-01],\n",
              "       [6.58820510e-01, 3.88441198e-02, 3.02062362e-01, 5.88727889e-05,\n",
              "        2.14175161e-04],\n",
              "       [1.45543764e-08, 6.11241255e-03, 7.59517134e-04, 4.23803052e-04,\n",
              "        9.92704272e-01],\n",
              "       [1.31349266e-03, 8.32115114e-01, 3.22092734e-02, 1.23677753e-01,\n",
              "        1.06844055e-02],\n",
              "       [6.83373655e-05, 4.03767049e-01, 3.47572859e-05, 5.95150530e-01,\n",
              "        9.79272183e-04],\n",
              "       [2.22081795e-01, 1.37429172e-02, 3.74200433e-01, 3.86448056e-01,\n",
              "        3.52678774e-03]], dtype=float32)"
            ]
          },
          "metadata": {},
          "execution_count": 18
        }
      ]
    },
    {
      "cell_type": "code",
      "execution_count": 19,
      "metadata": {
        "id": "oLAtoP9kH7cd"
      },
      "outputs": [],
      "source": [
        "\n",
        "df_audio_test = pd.DataFrame(predictions,columns=[\"OA_\"+str(i) for i in range(5)])\n"
      ]
    },
    {
      "cell_type": "code",
      "execution_count": 20,
      "metadata": {
        "id": "Y01xRIqN3Kv7",
        "colab": {
          "base_uri": "https://localhost:8080/"
        },
        "outputId": "4aed947f-0a70-4374-f2fe-d7c1e307da51"
      },
      "outputs": [
        {
          "output_type": "execute_result",
          "data": {
            "text/plain": [
              "array([1, 0, 1, 4, 4, 4, 4, 1, 3, 3, 1, 0, 0, 3, 0, 0, 0, 0, 0, 0, 1, 3,\n",
              "       4, 0, 2, 1, 1, 1, 4, 3, 2, 2, 4, 1, 3, 2])"
            ]
          },
          "metadata": {},
          "execution_count": 20
        }
      ],
      "source": [
        "y_test"
      ]
    },
    {
      "cell_type": "code",
      "execution_count": 21,
      "metadata": {
        "id": "DLhoAcuI3N3Z",
        "colab": {
          "base_uri": "https://localhost:8080/"
        },
        "outputId": "ac5f795a-a9bd-4e73-c363-7157a13fce84"
      },
      "outputs": [
        {
          "output_type": "execute_result",
          "data": {
            "text/plain": [
              "array([1, 0, 1, 4, 4, 4, 4, 1, 3, 3, 1, 0, 0, 3, 0, 0, 0, 0, 0, 0, 1, 3,\n",
              "       4, 0, 2, 1, 1, 1, 4, 3, 2, 2, 4, 1, 3, 2])"
            ]
          },
          "metadata": {},
          "execution_count": 21
        }
      ],
      "source": [
        "new_Ytest = y_test.astype(int)\n",
        "new_Ytest"
      ]
    },
    {
      "cell_type": "code",
      "execution_count": 22,
      "metadata": {
        "id": "msg0xsZw3ROh",
        "colab": {
          "base_uri": "https://localhost:8080/"
        },
        "outputId": "533ac141-d336-4509-8c66-da0562c19470"
      },
      "outputs": [
        {
          "output_type": "execute_result",
          "data": {
            "text/plain": [
              "array([3, 0, 1, 1, 4, 1, 4, 1, 3, 3, 1, 0, 0, 3, 0, 0, 0, 0, 0, 0, 1, 3,\n",
              "       1, 0, 0, 3, 3, 1, 4, 3, 2, 0, 4, 1, 3, 3])"
            ]
          },
          "metadata": {},
          "execution_count": 22
        }
      ],
      "source": [
        "preds1=predictions.argmax(axis=1)\n",
        "preds1"
      ]
    },
    {
      "cell_type": "code",
      "execution_count": 23,
      "metadata": {
        "id": "-nADWckp3UHg",
        "colab": {
          "base_uri": "https://localhost:8080/"
        },
        "outputId": "cee139ae-7448-4f04-c282-48a292b4ebbf"
      },
      "outputs": [
        {
          "output_type": "execute_result",
          "data": {
            "text/plain": [
              "array([[10,  0,  0,  0,  0],\n",
              "       [ 0,  6,  0,  3,  0],\n",
              "       [ 2,  0,  1,  1,  0],\n",
              "       [ 0,  0,  0,  6,  0],\n",
              "       [ 0,  3,  0,  0,  4]])"
            ]
          },
          "metadata": {},
          "execution_count": 23
        }
      ],
      "source": [
        "abc = preds1.astype(int).flatten()\n",
        "from sklearn.metrics import confusion_matrix\n",
        "c = confusion_matrix(new_Ytest, abc) \n",
        "c"
      ]
    },
    {
      "cell_type": "code",
      "execution_count": 24,
      "metadata": {
        "id": "biI56TZV3fPV",
        "colab": {
          "base_uri": "https://localhost:8080/",
          "height": 495
        },
        "outputId": "a7870dcb-38dc-45c6-9168-d111801c3b36"
      },
      "outputs": [
        {
          "output_type": "stream",
          "name": "stdout",
          "text": [
            "              precision    recall  f1-score   support\n",
            "\n",
            "           0       0.83      1.00      0.91        10\n",
            "           1       0.67      0.67      0.67         9\n",
            "           2       1.00      0.25      0.40         4\n",
            "           3       0.60      1.00      0.75         6\n",
            "           4       1.00      0.57      0.73         7\n",
            "\n",
            "    accuracy                           0.75        36\n",
            "   macro avg       0.82      0.70      0.69        36\n",
            "weighted avg       0.80      0.75      0.73        36\n",
            "\n",
            "----accuracy score 75.0 ----\n"
          ]
        },
        {
          "output_type": "display_data",
          "data": {
            "text/plain": [
              "<Figure size 432x288 with 2 Axes>"
            ],
            "image/png": "[encoded data removed]"
          },
          "metadata": {
            "needs_background": "light"
          }
        }
      ],
      "source": [
        "from sklearn.metrics import classification_report, confusion_matrix,accuracy_score\n",
        "import seaborn as sn\n",
        "\n",
        "print(classification_report(y_test,abc))\n",
        "\n",
        "acc = float(accuracy_score(y_test,abc))*100\n",
        "print(\"----accuracy score %s ----\" % acc)\n",
        "\n",
        "cm = confusion_matrix(y_test,abc)\n",
        "#df_cm = pd.DataFrame(cm)\n",
        "class_names = ['neutral', 'happy','sad','angry', 'fearful' ]\n",
        "df_cm = pd.DataFrame(cm, index=class_names, columns=class_names,)\n",
        "sn.heatmap(df_cm, annot=True, fmt='')\n",
        "plt.show()"
      ]
    },
    {
      "cell_type": "code",
      "execution_count": 25,
      "metadata": {
        "id": "vcuBTzA93UQk",
        "colab": {
          "base_uri": "https://localhost:8080/"
        },
        "outputId": "d72f28bd-52b3-4e13-865a-485e88a353df"
      },
      "outputs": [
        {
          "output_type": "stream",
          "name": "stdout",
          "text": [
            "INFO:tensorflow:Assets written to: /content/drive/My Drive/fusion/savee/audio/model/expert6/best_CNN_model/assets\n",
            "MODEL SAVED\n"
          ]
        }
      ],
      "source": [
        "model.save('/content/drive/My Drive/fusion/savee/audio/model/expert6/best_CNN_model')\n",
        "print(\"MODEL SAVED\")"
      ]
    },
    {
      "cell_type": "code",
      "execution_count": 26,
      "metadata": {
        "id": "nGyu3Eyagpf2"
      },
      "outputs": [],
      "source": [
        "model_file_name = f'/content/drive/My Drive/fusion/savee/audio/model/expert6/best_CNN_model___Loss_{loss}___Accuracy_{acc}.h5'\n",
        "\n",
        "# Save the Model.\n",
        "model.save(model_file_name)"
      ]
    },
    {
      "cell_type": "code",
      "execution_count": 27,
      "metadata": {
        "id": "eVzRK3BBgg9l"
      },
      "outputs": [],
      "source": [
        "# serialize model to JSON\n",
        "model_json = model.to_json()\n",
        "with open(\"/content/drive/My Drive/fusion/savee/audio/model/expert6/best_CNN_model.json\", \"w\") as json_file:\n",
        "    json_file.write(model_json)"
      ]
    },
    {
      "cell_type": "code",
      "source": [
        "prediction_train = model.predict(x_traincnn)\n",
        "prediction_train"
      ],
      "metadata": {
        "colab": {
          "base_uri": "https://localhost:8080/"
        },
        "id": "MQKHp2Zepvt-",
        "outputId": "44851f7f-2dd8-4e4f-8cab-448dd0b4a4fb"
      },
      "execution_count": 28,
      "outputs": [
        {
          "output_type": "execute_result",
          "data": {
            "text/plain": [
              "array([[5.8707715e-06, 9.9364221e-01, 1.5726440e-05, 5.2220938e-03,\n",
              "        1.1140401e-03],\n",
              "       [4.0694798e-04, 5.0894779e-01, 2.9053665e-03, 4.8743272e-01,\n",
              "        3.0720033e-04],\n",
              "       [2.5770624e-04, 3.8134418e-02, 7.3016931e-06, 3.3433451e-03,\n",
              "        9.5825726e-01],\n",
              "       ...,\n",
              "       [6.6974229e-04, 7.4097282e-01, 3.0598142e-03, 2.4658255e-01,\n",
              "        8.7150699e-03],\n",
              "       [9.7302973e-01, 5.5921864e-04, 2.5252411e-02, 1.3601934e-04,\n",
              "        1.0226601e-03],\n",
              "       [6.5741844e-02, 5.9501179e-02, 1.1237385e-03, 8.6803204e-01,\n",
              "        5.6011337e-03]], dtype=float32)"
            ]
          },
          "metadata": {},
          "execution_count": 28
        }
      ]
    },
    {
      "cell_type": "code",
      "source": [
        "df_audio_train = pd.DataFrame(prediction_train,columns=[\"OA_\"+str(i) for i in range(5)])"
      ],
      "metadata": {
        "id": "OzTsbZuiKJCs"
      },
      "execution_count": 29,
      "outputs": []
    },
    {
      "cell_type": "code",
      "source": [
        "prediction_valid = model.predict(x_valid)\n",
        "prediction_valid"
      ],
      "metadata": {
        "colab": {
          "base_uri": "https://localhost:8080/"
        },
        "id": "7-NgOypyKMSE",
        "outputId": "31a2eba5-1b3d-48c6-b76d-76093d0c8425"
      },
      "execution_count": 30,
      "outputs": [
        {
          "output_type": "execute_result",
          "data": {
            "text/plain": [
              "array([[1.6478435e-03, 6.1595973e-02, 1.0103298e-03, 9.3494576e-01,\n",
              "        8.0009393e-04],\n",
              "       [8.0386093e-03, 3.6359597e-02, 3.6474147e-01, 5.8224088e-01,\n",
              "        8.6194584e-03],\n",
              "       [9.9927860e-01, 9.5694071e-05, 3.7147533e-04, 2.2838726e-04,\n",
              "        2.5801413e-05],\n",
              "       [3.3715391e-01, 4.3735397e-03, 6.5441507e-01, 3.8193266e-03,\n",
              "        2.3809758e-04],\n",
              "       [9.9565244e-01, 6.0979382e-05, 4.2172209e-03, 6.7803310e-05,\n",
              "        1.5425584e-06],\n",
              "       [9.9422342e-01, 2.0698048e-04, 5.4535661e-03, 1.1202162e-04,\n",
              "        4.0409454e-06],\n",
              "       [3.5217062e-03, 2.8427443e-02, 2.4272455e-02, 8.7131700e-03,\n",
              "        9.3506527e-01],\n",
              "       [3.1640357e-03, 3.1478014e-03, 9.2683231e-06, 9.9364412e-01,\n",
              "        3.4793509e-05],\n",
              "       [1.1074720e-05, 9.9428409e-01, 3.5940146e-05, 2.2762895e-03,\n",
              "        3.3925867e-03],\n",
              "       [1.2092672e-05, 3.6105666e-05, 9.9560779e-01, 3.7218830e-05,\n",
              "        4.3068063e-03],\n",
              "       [7.7608579e-01, 1.7049747e-02, 1.8851063e-01, 3.8128139e-03,\n",
              "        1.4541152e-02],\n",
              "       [9.9891293e-01, 1.3227768e-04, 6.4292224e-04, 3.1104809e-04,\n",
              "        8.5217908e-07],\n",
              "       [3.9948365e-01, 1.9973891e-02, 5.6645483e-01, 1.2452057e-02,\n",
              "        1.6356645e-03],\n",
              "       [8.7692851e-01, 6.9619915e-03, 1.1571172e-01, 3.7508909e-04,\n",
              "        2.2657297e-05],\n",
              "       [2.8213935e-05, 8.4895539e-01, 6.2724843e-04, 1.4991309e-01,\n",
              "        4.7605709e-04],\n",
              "       [9.7935039e-01, 2.0601540e-03, 3.1032017e-03, 1.5470322e-02,\n",
              "        1.5962711e-05],\n",
              "       [2.5268733e-03, 3.1957784e-01, 2.7418422e-04, 5.0350642e-03,\n",
              "        6.7258608e-01],\n",
              "       [4.5048511e-03, 8.1674761e-01, 7.3170797e-03, 9.4981221e-03,\n",
              "        1.6193235e-01],\n",
              "       [8.4131753e-01, 4.8720192e-02, 1.0604935e-01, 2.2777929e-03,\n",
              "        1.6351735e-03],\n",
              "       [9.9651259e-01, 2.1251391e-04, 1.4309371e-03, 1.8402337e-03,\n",
              "        3.7164275e-06],\n",
              "       [9.6316800e-02, 4.4764341e-03, 8.9824551e-01, 8.8116759e-04,\n",
              "        8.0062295e-05],\n",
              "       [5.8854872e-01, 3.1168398e-02, 2.8980196e-01, 7.8439720e-02,\n",
              "        1.2041237e-02],\n",
              "       [1.2269418e-04, 1.0641578e-02, 2.2004434e-04, 9.8871720e-01,\n",
              "        2.9838170e-04],\n",
              "       [9.9866259e-01, 7.1115792e-05, 1.0383531e-03, 2.2082758e-04,\n",
              "        7.2014459e-06],\n",
              "       [1.7668320e-04, 7.5152767e-01, 8.2812906e-04, 8.1972005e-03,\n",
              "        2.3927040e-01],\n",
              "       [2.4843977e-05, 9.6849370e-01, 1.3318494e-05, 2.5338739e-02,\n",
              "        6.1294241e-03],\n",
              "       [9.4913167e-01, 3.9325878e-03, 4.1115981e-02, 4.9814200e-03,\n",
              "        8.3832536e-04],\n",
              "       [1.2802593e-04, 1.7590469e-02, 2.6229986e-06, 8.6618252e-03,\n",
              "        9.7361708e-01],\n",
              "       [5.5993721e-03, 6.7055386e-01, 5.9112287e-03, 3.1549355e-01,\n",
              "        2.4420111e-03],\n",
              "       [9.9573863e-01, 6.8873970e-04, 1.2339952e-03, 2.3312720e-03,\n",
              "        7.3182318e-06],\n",
              "       [1.4052297e-06, 8.6635405e-01, 5.9249446e-06, 1.2257954e-01,\n",
              "        1.1059093e-02],\n",
              "       [6.5575396e-06, 1.4171387e-02, 4.2887172e-05, 9.8480487e-01,\n",
              "        9.7436417e-04],\n",
              "       [2.2185784e-04, 3.0763730e-02, 3.9223755e-06, 1.3959359e-03,\n",
              "        9.6761459e-01],\n",
              "       [4.2321719e-03, 7.9904139e-01, 7.8806165e-04, 1.1293799e-01,\n",
              "        8.3000317e-02],\n",
              "       [8.8220781e-01, 8.4411244e-05, 1.1768302e-01, 2.2048149e-05,\n",
              "        2.6614969e-06],\n",
              "       [2.8261223e-03, 1.0922638e-03, 8.0105048e-01, 1.7336664e-03,\n",
              "        1.9329746e-01]], dtype=float32)"
            ]
          },
          "metadata": {},
          "execution_count": 30
        }
      ]
    },
    {
      "cell_type": "code",
      "source": [
        "df_audio_valid = pd.DataFrame(prediction_valid,columns=[\"OA_\"+str(i) for i in range(5)])"
      ],
      "metadata": {
        "id": "Po6mRX1CKQAy"
      },
      "execution_count": 31,
      "outputs": []
    },
    {
      "cell_type": "code",
      "source": [
        "import joblib\n",
        "\n",
        "save_dir = '/content/drive/My Drive/fusion/savee/audio/data_set/expert6'\n",
        "\n",
        "savedvX = joblib.dump(df_audio_train, os.path.join(save_dir, 'train/predict_train'))\n",
        "savedvX = joblib.dump(df_audio_test, os.path.join(save_dir, 'test/predict_test'))\n",
        "savedvX = joblib.dump(df_audio_valid, os.path.join(save_dir, 'valid/predict_valid'))"
      ],
      "metadata": {
        "id": "m7xRo0_bBvxL"
      },
      "execution_count": 32,
      "outputs": []
    },
    {
      "cell_type": "code",
      "source": [
        ""
      ],
      "metadata": {
        "id": "qVLirBo3xb0n"
      },
      "execution_count": 32,
      "outputs": []
    }
  ],
  "metadata": {
    "accelerator": "GPU",
    "colab": {
      "collapsed_sections": [],
      "name": "final_model_audio_savee_expert6.ipynb",
      "provenance": [],
      "machine_shape": "hm"
    },
    "kernelspec": {
      "display_name": "Python 3",
      "language": "python",
      "name": "python3"
    },
    "language_info": {
      "codemirror_mode": {
        "name": "ipython",
        "version": 3
      },
      "file_extension": ".py",
      "mimetype": "text/x-python",
      "name": "python",
      "nbconvert_exporter": "python",
      "pygments_lexer": "ipython3",
      "version": "3.7.10"
    }
  },
  "nbformat": 4,
  "nbformat_minor": 0
}