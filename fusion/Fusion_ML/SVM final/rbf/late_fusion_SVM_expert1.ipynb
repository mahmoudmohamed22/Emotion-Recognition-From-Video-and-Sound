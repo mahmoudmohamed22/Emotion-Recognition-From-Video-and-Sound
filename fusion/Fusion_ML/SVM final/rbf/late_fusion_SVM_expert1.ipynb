{
  "nbformat": 4,
  "nbformat_minor": 0,
  "metadata": {
    "colab": {
      "name": "late_fusion_SVM_expert1.ipynb",
      "provenance": [],
      "collapsed_sections": []
    },
    "kernelspec": {
      "name": "python3",
      "display_name": "Python 3"
    },
    "language_info": {
      "name": "python"
    }
  },
  "cells": [
    {
      "cell_type": "code",
      "source": [
        "# stacked generalization with linear meta model on blobs dataset\n",
        "from sklearn.metrics import accuracy_score\n",
        "from sklearn.linear_model import LogisticRegression\n",
        "from matplotlib import pyplot\n"
      ],
      "metadata": {
        "id": "XQj4f23-Ix-w"
      },
      "execution_count": 1,
      "outputs": []
    },
    {
      "cell_type": "code",
      "source": [
        "from google.colab import drive\n",
        "drive.mount('/content/drive')"
      ],
      "metadata": {
        "colab": {
          "base_uri": "https://localhost:8080/"
        },
        "id": "qj9wMQtlI1os",
        "outputId": "293a06c1-d180-4527-98a2-a3c4c1197735"
      },
      "execution_count": 2,
      "outputs": [
        {
          "output_type": "stream",
          "name": "stdout",
          "text": [
            "Mounted at /content/drive\n"
          ]
        }
      ]
    },
    {
      "cell_type": "code",
      "source": [
        "#x_train  y_train to train\n",
        "#x_test   y_test to test\n",
        "#x_valid  y_valid \n",
        "#video\n",
        "import joblib\n",
        "x_test_prediction = joblib.load('/content/drive/My Drive/fusion/video/data_set_fusion/expert1/test/pred_test')\n",
        "x_train_prediction = joblib.load('/content/drive/My Drive/fusion/video/data_set_fusion/expert1/train/pred_train')\n",
        "x_valid_prediction = joblib.load('/content/drive/My Drive/fusion/video/data_set_fusion/expert1/valid/pred_valid')\n",
        "y_test = joblib.load('/content/drive/My Drive/fusion/video/data_set_fusion/expert1/test/labels_test')\n",
        "y_train = joblib.load('/content/drive/My Drive/fusion/video/data_set_fusion/expert1/train/labels_train')\n",
        "y_valid = joblib.load('/content/drive/My Drive/fusion/video/data_set_fusion/expert1/valid/labels_valid')\n",
        "#audio\n",
        "\n",
        "x_audio_test_prediction = joblib.load('/content/drive/My Drive/fusion/final_audio/data_set_fusion/expert1/test/predict_test')\n",
        "x_audio_train_prediction = joblib.load('/content/drive/My Drive/fusion/final_audio/data_set_fusion/expert1/train/predict_train')\n",
        "x_audio_valid_prediction = joblib.load('/content/drive/My Drive/fusion/final_audio/data_set_fusion/expert1/valid/predict_valid')\n",
        "\"\"\"\n",
        "#samples name\n",
        "test_videos= joblib.load('/content/drive/My Drive/fusion/video/data_set_fusion/expert1/test/video_test_path')\n",
        "train_videos = joblib.load('/content/drive/My Drive/fusion/video/data_set_fusion/expert1/train/video_train_path')\n",
        "valid_videos = joblib.load('/content/drive/My Drive/fusion/video/data_set_fusion/expert1/valid/video_valid_path')\n",
        "\"\"\""
      ],
      "metadata": {
        "id": "gb8C-44ct_Yp",
        "colab": {
          "base_uri": "https://localhost:8080/",
          "height": 53
        },
        "outputId": "76c44b9e-1cf2-4d2b-991a-3f6e1bbf497f"
      },
      "execution_count": 3,
      "outputs": [
        {
          "output_type": "execute_result",
          "data": {
            "text/plain": [
              "\"\\n#samples name\\ntest_videos= joblib.load('/content/drive/My Drive/fusion/video/data_set_fusion/expert1/test/video_test_path')\\ntrain_videos = joblib.load('/content/drive/My Drive/fusion/video/data_set_fusion/expert1/train/video_train_path')\\nvalid_videos = joblib.load('/content/drive/My Drive/fusion/video/data_set_fusion/expert1/valid/video_valid_path')\\n\""
            ],
            "application/vnd.google.colaboratory.intrinsic+json": {
              "type": "string"
            }
          },
          "metadata": {},
          "execution_count": 3
        }
      ]
    },
    {
      "cell_type": "code",
      "source": [
        "len(x_test_prediction),len(x_train_prediction),len(x_audio_test_prediction),len(x_audio_train_prediction),len(x_valid_prediction),len(x_audio_valid_prediction)"
      ],
      "metadata": {
        "colab": {
          "base_uri": "https://localhost:8080/"
        },
        "id": "Qz1Z3Vgdxaaw",
        "outputId": "9500686c-96d2-4bed-f444-648cbcee5934"
      },
      "execution_count": 4,
      "outputs": [
        {
          "output_type": "execute_result",
          "data": {
            "text/plain": [
              "(207, 1653, 207, 1653, 207, 207)"
            ]
          },
          "metadata": {},
          "execution_count": 4
        }
      ]
    },
    {
      "cell_type": "code",
      "source": [
        "#x_train for video\n",
        "x_train_prediction=x_train_prediction.append(x_valid_prediction,ignore_index = True)\n",
        "#x_train for audio\n",
        "x_audio_train_prediction=x_audio_train_prediction.append(x_audio_valid_prediction,ignore_index = True)"
      ],
      "metadata": {
        "id": "QgDf-FF0utgP"
      },
      "execution_count": 5,
      "outputs": []
    },
    {
      "cell_type": "code",
      "source": [
        "len(x_audio_train_prediction),len(x_train_prediction)"
      ],
      "metadata": {
        "colab": {
          "base_uri": "https://localhost:8080/"
        },
        "id": "3G4-X-MLv79s",
        "outputId": "05c2773c-37be-45c3-c75b-b19a00bf6f23"
      },
      "execution_count": 6,
      "outputs": [
        {
          "output_type": "execute_result",
          "data": {
            "text/plain": [
              "(1860, 1860)"
            ]
          },
          "metadata": {},
          "execution_count": 6
        }
      ]
    },
    {
      "cell_type": "code",
      "source": [
        "from pandas.core.frame import DataFrame\n",
        "df_train=DataFrame(y_train,columns=['labels'])\n",
        "df_valid=DataFrame(y_valid,columns=['labels'])"
      ],
      "metadata": {
        "id": "JrYaQCyZw06M"
      },
      "execution_count": 7,
      "outputs": []
    },
    {
      "cell_type": "code",
      "source": [
        "df_train=df_train.append(df_valid,ignore_index = True)"
      ],
      "metadata": {
        "id": "Rq3yhw26xjfy"
      },
      "execution_count": 8,
      "outputs": []
    },
    {
      "cell_type": "code",
      "source": [
        "len(df_train)"
      ],
      "metadata": {
        "colab": {
          "base_uri": "https://localhost:8080/"
        },
        "id": "dvYKmNurx1KR",
        "outputId": "996ca419-d511-4cda-de06-6fcc72f6acf6"
      },
      "execution_count": 9,
      "outputs": [
        {
          "output_type": "execute_result",
          "data": {
            "text/plain": [
              "1860"
            ]
          },
          "metadata": {},
          "execution_count": 9
        }
      ]
    },
    {
      "cell_type": "code",
      "source": [
        "df_train"
      ],
      "metadata": {
        "colab": {
          "base_uri": "https://localhost:8080/",
          "height": 424
        },
        "id": "Pfp2YX591X1F",
        "outputId": "4c1635ed-2613-4d7e-94e0-2660f633e53d"
      },
      "execution_count": 10,
      "outputs": [
        {
          "output_type": "execute_result",
          "data": {
            "text/plain": [
              "      labels\n",
              "0          3\n",
              "1          2\n",
              "2          5\n",
              "3          1\n",
              "4          4\n",
              "...      ...\n",
              "1855       1\n",
              "1856       5\n",
              "1857       4\n",
              "1858       5\n",
              "1859       4\n",
              "\n",
              "[1860 rows x 1 columns]"
            ],
            "text/html": [
              "\n",
              "  <div id=\"df-2eafefd7-ab38-4e8f-8df4-7412d46ba58b\">\n",
              "    <div class=\"colab-df-container\">\n",
              "      <div>\n",
              "<style scoped>\n",
              "    .dataframe tbody tr th:only-of-type {\n",
              "        vertical-align: middle;\n",
              "    }\n",
              "\n",
              "    .dataframe tbody tr th {\n",
              "        vertical-align: top;\n",
              "    }\n",
              "\n",
              "    .dataframe thead th {\n",
              "        text-align: right;\n",
              "    }\n",
              "</style>\n",
              "<table border=\"1\" class=\"dataframe\">\n",
              "  <thead>\n",
              "    <tr style=\"text-align: right;\">\n",
              "      <th></th>\n",
              "      <th>labels</th>\n",
              "    </tr>\n",
              "  </thead>\n",
              "  <tbody>\n",
              "    <tr>\n",
              "      <th>0</th>\n",
              "      <td>3</td>\n",
              "    </tr>\n",
              "    <tr>\n",
              "      <th>1</th>\n",
              "      <td>2</td>\n",
              "    </tr>\n",
              "    <tr>\n",
              "      <th>2</th>\n",
              "      <td>5</td>\n",
              "    </tr>\n",
              "    <tr>\n",
              "      <th>3</th>\n",
              "      <td>1</td>\n",
              "    </tr>\n",
              "    <tr>\n",
              "      <th>4</th>\n",
              "      <td>4</td>\n",
              "    </tr>\n",
              "    <tr>\n",
              "      <th>...</th>\n",
              "      <td>...</td>\n",
              "    </tr>\n",
              "    <tr>\n",
              "      <th>1855</th>\n",
              "      <td>1</td>\n",
              "    </tr>\n",
              "    <tr>\n",
              "      <th>1856</th>\n",
              "      <td>5</td>\n",
              "    </tr>\n",
              "    <tr>\n",
              "      <th>1857</th>\n",
              "      <td>4</td>\n",
              "    </tr>\n",
              "    <tr>\n",
              "      <th>1858</th>\n",
              "      <td>5</td>\n",
              "    </tr>\n",
              "    <tr>\n",
              "      <th>1859</th>\n",
              "      <td>4</td>\n",
              "    </tr>\n",
              "  </tbody>\n",
              "</table>\n",
              "<p>1860 rows × 1 columns</p>\n",
              "</div>\n",
              "      <button class=\"colab-df-convert\" onclick=\"convertToInteractive('df-2eafefd7-ab38-4e8f-8df4-7412d46ba58b')\"\n",
              "              title=\"Convert this dataframe to an interactive table.\"\n",
              "              style=\"display:none;\">\n",
              "        \n",
              "  <svg xmlns=\"http://www.w3.org/2000/svg\" height=\"24px\"viewBox=\"0 0 24 24\"\n",
              "       width=\"24px\">\n",
              "    <path d=\"M0 0h24v24H0V0z\" fill=\"none\"/>\n",
              "    <path d=\"M18.56 5.44l.94 2.06.94-2.06 2.06-.94-2.06-.94-.94-2.06-.94 2.06-2.06.94zm-11 1L8.5 8.5l.94-2.06 2.06-.94-2.06-.94L8.5 2.5l-.94 2.06-2.06.94zm10 10l.94 2.06.94-2.06 2.06-.94-2.06-.94-.94-2.06-.94 2.06-2.06.94z\"/><path d=\"M17.41 7.96l-1.37-1.37c-.4-.4-.92-.59-1.43-.59-.52 0-1.04.2-1.43.59L10.3 9.45l-7.72 7.72c-.78.78-.78 2.05 0 2.83L4 21.41c.39.39.9.59 1.41.59.51 0 1.02-.2 1.41-.59l7.78-7.78 2.81-2.81c.8-.78.8-2.07 0-2.86zM5.41 20L4 18.59l7.72-7.72 1.47 1.35L5.41 20z\"/>\n",
              "  </svg>\n",
              "      </button>\n",
              "      \n",
              "  <style>\n",
              "    .colab-df-container {\n",
              "      display:flex;\n",
              "      flex-wrap:wrap;\n",
              "      gap: 12px;\n",
              "    }\n",
              "\n",
              "    .colab-df-convert {\n",
              "      background-color: #E8F0FE;\n",
              "      border: none;\n",
              "      border-radius: 50%;\n",
              "      cursor: pointer;\n",
              "      display: none;\n",
              "      fill: #1967D2;\n",
              "      height: 32px;\n",
              "      padding: 0 0 0 0;\n",
              "      width: 32px;\n",
              "    }\n",
              "\n",
              "    .colab-df-convert:hover {\n",
              "      background-color: #E2EBFA;\n",
              "      box-shadow: 0px 1px 2px rgba(60, 64, 67, 0.3), 0px 1px 3px 1px rgba(60, 64, 67, 0.15);\n",
              "      fill: #174EA6;\n",
              "    }\n",
              "\n",
              "    [theme=dark] .colab-df-convert {\n",
              "      background-color: #3B4455;\n",
              "      fill: #D2E3FC;\n",
              "    }\n",
              "\n",
              "    [theme=dark] .colab-df-convert:hover {\n",
              "      background-color: #434B5C;\n",
              "      box-shadow: 0px 1px 3px 1px rgba(0, 0, 0, 0.15);\n",
              "      filter: drop-shadow(0px 1px 2px rgba(0, 0, 0, 0.3));\n",
              "      fill: #FFFFFF;\n",
              "    }\n",
              "  </style>\n",
              "\n",
              "      <script>\n",
              "        const buttonEl =\n",
              "          document.querySelector('#df-2eafefd7-ab38-4e8f-8df4-7412d46ba58b button.colab-df-convert');\n",
              "        buttonEl.style.display =\n",
              "          google.colab.kernel.accessAllowed ? 'block' : 'none';\n",
              "\n",
              "        async function convertToInteractive(key) {\n",
              "          const element = document.querySelector('#df-2eafefd7-ab38-4e8f-8df4-7412d46ba58b');\n",
              "          const dataTable =\n",
              "            await google.colab.kernel.invokeFunction('convertToInteractive',\n",
              "                                                     [key], {});\n",
              "          if (!dataTable) return;\n",
              "\n",
              "          const docLinkHtml = 'Like what you see? Visit the ' +\n",
              "            '<a target=\"_blank\" href=https://colab.research.google.com/notebooks/data_table.ipynb>data table notebook</a>'\n",
              "            + ' to learn more about interactive tables.';\n",
              "          element.innerHTML = '';\n",
              "          dataTable['output_type'] = 'display_data';\n",
              "          await google.colab.output.renderOutput(dataTable, element);\n",
              "          const docLink = document.createElement('div');\n",
              "          docLink.innerHTML = docLinkHtml;\n",
              "          element.appendChild(docLink);\n",
              "        }\n",
              "      </script>\n",
              "    </div>\n",
              "  </div>\n",
              "  "
            ]
          },
          "metadata": {},
          "execution_count": 10
        }
      ]
    },
    {
      "cell_type": "code",
      "source": [
        "import pandas as pd\n",
        "\n",
        "x_train = pd.concat([x_train_prediction, x_audio_train_prediction], axis=1,join='inner')\n",
        "x_test =  pd.concat([x_test_prediction, x_audio_test_prediction], axis=1,join='inner')"
      ],
      "metadata": {
        "id": "sbkgIXaFwKwh"
      },
      "execution_count": 11,
      "outputs": []
    },
    {
      "cell_type": "code",
      "source": [
        "x_test"
      ],
      "metadata": {
        "colab": {
          "base_uri": "https://localhost:8080/",
          "height": 424
        },
        "id": "78gEQ1w7w_fd",
        "outputId": "61fa7cbc-90f4-4559-e6a6-221dd98da17e"
      },
      "execution_count": 12,
      "outputs": [
        {
          "output_type": "execute_result",
          "data": {
            "text/plain": [
              "             OV_0      OV_1      OV_2      OV_3      OV_4      OV_5  \\\n",
              "0    9.868231e-01  0.003875  0.000017  0.008416  0.000144  0.000724   \n",
              "1    4.480442e-05  0.002354  0.000122  0.969830  0.001741  0.025908   \n",
              "2    3.244231e-07  0.000087  0.999900  0.000006  0.000001  0.000006   \n",
              "3    7.267597e-05  0.000142  0.000079  0.107955  0.000029  0.891723   \n",
              "4    5.066096e-04  0.001949  0.000253  0.029472  0.000321  0.967497   \n",
              "..            ...       ...       ...       ...       ...       ...   \n",
              "202  5.786679e-05  0.000258  0.000029  0.000694  0.004409  0.994552   \n",
              "203  1.949344e-07  0.000052  0.999928  0.000009  0.000001  0.000009   \n",
              "204  1.627866e-03  0.004693  0.000329  0.004044  0.831949  0.157358   \n",
              "205  4.316892e-05  0.000232  0.000092  0.003479  0.823165  0.172989   \n",
              "206  4.524051e-04  0.997560  0.001718  0.000254  0.000008  0.000007   \n",
              "\n",
              "             OA_0          OA_1          OA_2          OA_3          OA_4  \\\n",
              "0    9.999895e-01  1.943254e-09  3.874030e-14  1.661305e-08  1.350210e-07   \n",
              "1    4.609876e-09  1.058811e-09  2.108981e-09  7.488494e-01  5.589756e-07   \n",
              "2    7.721853e-06  1.307011e-06  8.536524e-01  1.188563e-03  2.653863e-04   \n",
              "3    1.743934e-02  9.820557e-04  6.650287e-03  6.928495e-02  1.146925e-02   \n",
              "4    2.913451e-07  1.317156e-01  6.436100e-05  8.377543e-01  5.032727e-06   \n",
              "..            ...           ...           ...           ...           ...   \n",
              "202  3.011852e-08  3.308199e-09  4.849932e-05  2.195966e-04  5.819585e-03   \n",
              "203  6.629297e-09  4.512537e-08  9.959085e-01  9.253233e-07  4.090046e-03   \n",
              "204  4.349038e-04  5.632761e-05  1.647181e-02  9.186048e-03  9.645699e-01   \n",
              "205  3.169973e-10  8.959618e-08  3.770728e-06  9.074619e-09  9.989550e-01   \n",
              "206  7.399646e-12  9.999410e-01  1.188174e-06  5.776330e-05  1.710615e-09   \n",
              "\n",
              "             OA_5  \n",
              "0    1.036642e-05  \n",
              "1    2.511501e-01  \n",
              "2    1.448845e-01  \n",
              "3    8.941740e-01  \n",
              "4    3.046048e-02  \n",
              "..            ...  \n",
              "202  9.939123e-01  \n",
              "203  4.614144e-07  \n",
              "204  9.280946e-03  \n",
              "205  1.041152e-03  \n",
              "206  5.626810e-12  \n",
              "\n",
              "[207 rows x 12 columns]"
            ],
            "text/html": [
              "\n",
              "  <div id=\"df-8716de61-a3c2-4178-8cf3-a173c5ea2b26\">\n",
              "    <div class=\"colab-df-container\">\n",
              "      <div>\n",
              "<style scoped>\n",
              "    .dataframe tbody tr th:only-of-type {\n",
              "        vertical-align: middle;\n",
              "    }\n",
              "\n",
              "    .dataframe tbody tr th {\n",
              "        vertical-align: top;\n",
              "    }\n",
              "\n",
              "    .dataframe thead th {\n",
              "        text-align: right;\n",
              "    }\n",
              "</style>\n",
              "<table border=\"1\" class=\"dataframe\">\n",
              "  <thead>\n",
              "    <tr style=\"text-align: right;\">\n",
              "      <th></th>\n",
              "      <th>OV_0</th>\n",
              "      <th>OV_1</th>\n",
              "      <th>OV_2</th>\n",
              "      <th>OV_3</th>\n",
              "      <th>OV_4</th>\n",
              "      <th>OV_5</th>\n",
              "      <th>OA_0</th>\n",
              "      <th>OA_1</th>\n",
              "      <th>OA_2</th>\n",
              "      <th>OA_3</th>\n",
              "      <th>OA_4</th>\n",
              "      <th>OA_5</th>\n",
              "    </tr>\n",
              "  </thead>\n",
              "  <tbody>\n",
              "    <tr>\n",
              "      <th>0</th>\n",
              "      <td>9.868231e-01</td>\n",
              "      <td>0.003875</td>\n",
              "      <td>0.000017</td>\n",
              "      <td>0.008416</td>\n",
              "      <td>0.000144</td>\n",
              "      <td>0.000724</td>\n",
              "      <td>9.999895e-01</td>\n",
              "      <td>1.943254e-09</td>\n",
              "      <td>3.874030e-14</td>\n",
              "      <td>1.661305e-08</td>\n",
              "      <td>1.350210e-07</td>\n",
              "      <td>1.036642e-05</td>\n",
              "    </tr>\n",
              "    <tr>\n",
              "      <th>1</th>\n",
              "      <td>4.480442e-05</td>\n",
              "      <td>0.002354</td>\n",
              "      <td>0.000122</td>\n",
              "      <td>0.969830</td>\n",
              "      <td>0.001741</td>\n",
              "      <td>0.025908</td>\n",
              "      <td>4.609876e-09</td>\n",
              "      <td>1.058811e-09</td>\n",
              "      <td>2.108981e-09</td>\n",
              "      <td>7.488494e-01</td>\n",
              "      <td>5.589756e-07</td>\n",
              "      <td>2.511501e-01</td>\n",
              "    </tr>\n",
              "    <tr>\n",
              "      <th>2</th>\n",
              "      <td>3.244231e-07</td>\n",
              "      <td>0.000087</td>\n",
              "      <td>0.999900</td>\n",
              "      <td>0.000006</td>\n",
              "      <td>0.000001</td>\n",
              "      <td>0.000006</td>\n",
              "      <td>7.721853e-06</td>\n",
              "      <td>1.307011e-06</td>\n",
              "      <td>8.536524e-01</td>\n",
              "      <td>1.188563e-03</td>\n",
              "      <td>2.653863e-04</td>\n",
              "      <td>1.448845e-01</td>\n",
              "    </tr>\n",
              "    <tr>\n",
              "      <th>3</th>\n",
              "      <td>7.267597e-05</td>\n",
              "      <td>0.000142</td>\n",
              "      <td>0.000079</td>\n",
              "      <td>0.107955</td>\n",
              "      <td>0.000029</td>\n",
              "      <td>0.891723</td>\n",
              "      <td>1.743934e-02</td>\n",
              "      <td>9.820557e-04</td>\n",
              "      <td>6.650287e-03</td>\n",
              "      <td>6.928495e-02</td>\n",
              "      <td>1.146925e-02</td>\n",
              "      <td>8.941740e-01</td>\n",
              "    </tr>\n",
              "    <tr>\n",
              "      <th>4</th>\n",
              "      <td>5.066096e-04</td>\n",
              "      <td>0.001949</td>\n",
              "      <td>0.000253</td>\n",
              "      <td>0.029472</td>\n",
              "      <td>0.000321</td>\n",
              "      <td>0.967497</td>\n",
              "      <td>2.913451e-07</td>\n",
              "      <td>1.317156e-01</td>\n",
              "      <td>6.436100e-05</td>\n",
              "      <td>8.377543e-01</td>\n",
              "      <td>5.032727e-06</td>\n",
              "      <td>3.046048e-02</td>\n",
              "    </tr>\n",
              "    <tr>\n",
              "      <th>...</th>\n",
              "      <td>...</td>\n",
              "      <td>...</td>\n",
              "      <td>...</td>\n",
              "      <td>...</td>\n",
              "      <td>...</td>\n",
              "      <td>...</td>\n",
              "      <td>...</td>\n",
              "      <td>...</td>\n",
              "      <td>...</td>\n",
              "      <td>...</td>\n",
              "      <td>...</td>\n",
              "      <td>...</td>\n",
              "    </tr>\n",
              "    <tr>\n",
              "      <th>202</th>\n",
              "      <td>5.786679e-05</td>\n",
              "      <td>0.000258</td>\n",
              "      <td>0.000029</td>\n",
              "      <td>0.000694</td>\n",
              "      <td>0.004409</td>\n",
              "      <td>0.994552</td>\n",
              "      <td>3.011852e-08</td>\n",
              "      <td>3.308199e-09</td>\n",
              "      <td>4.849932e-05</td>\n",
              "      <td>2.195966e-04</td>\n",
              "      <td>5.819585e-03</td>\n",
              "      <td>9.939123e-01</td>\n",
              "    </tr>\n",
              "    <tr>\n",
              "      <th>203</th>\n",
              "      <td>1.949344e-07</td>\n",
              "      <td>0.000052</td>\n",
              "      <td>0.999928</td>\n",
              "      <td>0.000009</td>\n",
              "      <td>0.000001</td>\n",
              "      <td>0.000009</td>\n",
              "      <td>6.629297e-09</td>\n",
              "      <td>4.512537e-08</td>\n",
              "      <td>9.959085e-01</td>\n",
              "      <td>9.253233e-07</td>\n",
              "      <td>4.090046e-03</td>\n",
              "      <td>4.614144e-07</td>\n",
              "    </tr>\n",
              "    <tr>\n",
              "      <th>204</th>\n",
              "      <td>1.627866e-03</td>\n",
              "      <td>0.004693</td>\n",
              "      <td>0.000329</td>\n",
              "      <td>0.004044</td>\n",
              "      <td>0.831949</td>\n",
              "      <td>0.157358</td>\n",
              "      <td>4.349038e-04</td>\n",
              "      <td>5.632761e-05</td>\n",
              "      <td>1.647181e-02</td>\n",
              "      <td>9.186048e-03</td>\n",
              "      <td>9.645699e-01</td>\n",
              "      <td>9.280946e-03</td>\n",
              "    </tr>\n",
              "    <tr>\n",
              "      <th>205</th>\n",
              "      <td>4.316892e-05</td>\n",
              "      <td>0.000232</td>\n",
              "      <td>0.000092</td>\n",
              "      <td>0.003479</td>\n",
              "      <td>0.823165</td>\n",
              "      <td>0.172989</td>\n",
              "      <td>3.169973e-10</td>\n",
              "      <td>8.959618e-08</td>\n",
              "      <td>3.770728e-06</td>\n",
              "      <td>9.074619e-09</td>\n",
              "      <td>9.989550e-01</td>\n",
              "      <td>1.041152e-03</td>\n",
              "    </tr>\n",
              "    <tr>\n",
              "      <th>206</th>\n",
              "      <td>4.524051e-04</td>\n",
              "      <td>0.997560</td>\n",
              "      <td>0.001718</td>\n",
              "      <td>0.000254</td>\n",
              "      <td>0.000008</td>\n",
              "      <td>0.000007</td>\n",
              "      <td>7.399646e-12</td>\n",
              "      <td>9.999410e-01</td>\n",
              "      <td>1.188174e-06</td>\n",
              "      <td>5.776330e-05</td>\n",
              "      <td>1.710615e-09</td>\n",
              "      <td>5.626810e-12</td>\n",
              "    </tr>\n",
              "  </tbody>\n",
              "</table>\n",
              "<p>207 rows × 12 columns</p>\n",
              "</div>\n",
              "      <button class=\"colab-df-convert\" onclick=\"convertToInteractive('df-8716de61-a3c2-4178-8cf3-a173c5ea2b26')\"\n",
              "              title=\"Convert this dataframe to an interactive table.\"\n",
              "              style=\"display:none;\">\n",
              "        \n",
              "  <svg xmlns=\"http://www.w3.org/2000/svg\" height=\"24px\"viewBox=\"0 0 24 24\"\n",
              "       width=\"24px\">\n",
              "    <path d=\"M0 0h24v24H0V0z\" fill=\"none\"/>\n",
              "    <path d=\"M18.56 5.44l.94 2.06.94-2.06 2.06-.94-2.06-.94-.94-2.06-.94 2.06-2.06.94zm-11 1L8.5 8.5l.94-2.06 2.06-.94-2.06-.94L8.5 2.5l-.94 2.06-2.06.94zm10 10l.94 2.06.94-2.06 2.06-.94-2.06-.94-.94-2.06-.94 2.06-2.06.94z\"/><path d=\"M17.41 7.96l-1.37-1.37c-.4-.4-.92-.59-1.43-.59-.52 0-1.04.2-1.43.59L10.3 9.45l-7.72 7.72c-.78.78-.78 2.05 0 2.83L4 21.41c.39.39.9.59 1.41.59.51 0 1.02-.2 1.41-.59l7.78-7.78 2.81-2.81c.8-.78.8-2.07 0-2.86zM5.41 20L4 18.59l7.72-7.72 1.47 1.35L5.41 20z\"/>\n",
              "  </svg>\n",
              "      </button>\n",
              "      \n",
              "  <style>\n",
              "    .colab-df-container {\n",
              "      display:flex;\n",
              "      flex-wrap:wrap;\n",
              "      gap: 12px;\n",
              "    }\n",
              "\n",
              "    .colab-df-convert {\n",
              "      background-color: #E8F0FE;\n",
              "      border: none;\n",
              "      border-radius: 50%;\n",
              "      cursor: pointer;\n",
              "      display: none;\n",
              "      fill: #1967D2;\n",
              "      height: 32px;\n",
              "      padding: 0 0 0 0;\n",
              "      width: 32px;\n",
              "    }\n",
              "\n",
              "    .colab-df-convert:hover {\n",
              "      background-color: #E2EBFA;\n",
              "      box-shadow: 0px 1px 2px rgba(60, 64, 67, 0.3), 0px 1px 3px 1px rgba(60, 64, 67, 0.15);\n",
              "      fill: #174EA6;\n",
              "    }\n",
              "\n",
              "    [theme=dark] .colab-df-convert {\n",
              "      background-color: #3B4455;\n",
              "      fill: #D2E3FC;\n",
              "    }\n",
              "\n",
              "    [theme=dark] .colab-df-convert:hover {\n",
              "      background-color: #434B5C;\n",
              "      box-shadow: 0px 1px 3px 1px rgba(0, 0, 0, 0.15);\n",
              "      filter: drop-shadow(0px 1px 2px rgba(0, 0, 0, 0.3));\n",
              "      fill: #FFFFFF;\n",
              "    }\n",
              "  </style>\n",
              "\n",
              "      <script>\n",
              "        const buttonEl =\n",
              "          document.querySelector('#df-8716de61-a3c2-4178-8cf3-a173c5ea2b26 button.colab-df-convert');\n",
              "        buttonEl.style.display =\n",
              "          google.colab.kernel.accessAllowed ? 'block' : 'none';\n",
              "\n",
              "        async function convertToInteractive(key) {\n",
              "          const element = document.querySelector('#df-8716de61-a3c2-4178-8cf3-a173c5ea2b26');\n",
              "          const dataTable =\n",
              "            await google.colab.kernel.invokeFunction('convertToInteractive',\n",
              "                                                     [key], {});\n",
              "          if (!dataTable) return;\n",
              "\n",
              "          const docLinkHtml = 'Like what you see? Visit the ' +\n",
              "            '<a target=\"_blank\" href=https://colab.research.google.com/notebooks/data_table.ipynb>data table notebook</a>'\n",
              "            + ' to learn more about interactive tables.';\n",
              "          element.innerHTML = '';\n",
              "          dataTable['output_type'] = 'display_data';\n",
              "          await google.colab.output.renderOutput(dataTable, element);\n",
              "          const docLink = document.createElement('div');\n",
              "          docLink.innerHTML = docLinkHtml;\n",
              "          element.appendChild(docLink);\n",
              "        }\n",
              "      </script>\n",
              "    </div>\n",
              "  </div>\n",
              "  "
            ]
          },
          "metadata": {},
          "execution_count": 12
        }
      ]
    },
    {
      "cell_type": "code",
      "source": [
        "len(x_test),len(x_train)"
      ],
      "metadata": {
        "colab": {
          "base_uri": "https://localhost:8080/"
        },
        "id": "ryRQjTkUyZJv",
        "outputId": "aee56c62-861a-4208-e1d6-1d168248ae53"
      },
      "execution_count": 13,
      "outputs": [
        {
          "output_type": "execute_result",
          "data": {
            "text/plain": [
              "(207, 1860)"
            ]
          },
          "metadata": {},
          "execution_count": 13
        }
      ]
    },
    {
      "cell_type": "code",
      "source": [
        "x_train"
      ],
      "metadata": {
        "colab": {
          "base_uri": "https://localhost:8080/",
          "height": 424
        },
        "id": "1e5kgXiFwzx3",
        "outputId": "0d09a135-7909-4088-dabc-9eb241f29399"
      },
      "execution_count": 14,
      "outputs": [
        {
          "output_type": "execute_result",
          "data": {
            "text/plain": [
              "              OV_0      OV_1      OV_2      OV_3      OV_4      OV_5  \\\n",
              "0     3.139591e-05  0.000790  0.000003  0.998874  0.000018  0.000285   \n",
              "1     1.103409e-07  0.000032  0.999933  0.000022  0.000001  0.000011   \n",
              "2     7.565987e-03  0.003240  0.000197  0.093270  0.000536  0.895191   \n",
              "3     9.221826e-04  0.972584  0.026023  0.000381  0.000035  0.000054   \n",
              "4     1.234611e-04  0.000554  0.000002  0.003309  0.995933  0.000079   \n",
              "...            ...       ...       ...       ...       ...       ...   \n",
              "1855  2.386935e-03  0.992171  0.004256  0.001075  0.000007  0.000105   \n",
              "1856  9.088054e-02  0.003614  0.000219  0.675536  0.000492  0.229259   \n",
              "1857  6.606330e-06  0.000776  0.000345  0.000146  0.992820  0.005906   \n",
              "1858  9.965926e-05  0.000174  0.000029  0.001711  0.000860  0.997127   \n",
              "1859  2.576359e-07  0.000035  0.000007  0.000117  0.999703  0.000138   \n",
              "\n",
              "              OA_0          OA_1          OA_2          OA_3          OA_4  \\\n",
              "0     4.537499e-04  2.186385e-03  1.921270e-02  9.781222e-01  1.616703e-05   \n",
              "1     6.513397e-05  4.031113e-03  9.932030e-01  1.059530e-04  1.171815e-04   \n",
              "2     8.289167e-11  2.243380e-13  2.174509e-12  2.728343e-03  1.528476e-05   \n",
              "3     1.693225e-04  9.994117e-01  7.083039e-05  3.478866e-04  3.347439e-08   \n",
              "4     1.028812e-08  1.459955e-11  5.230266e-05  6.553133e-07  9.998713e-01   \n",
              "...            ...           ...           ...           ...           ...   \n",
              "1855  1.874193e-11  9.999986e-01  1.378440e-06  6.596931e-08  2.597924e-11   \n",
              "1856  1.895219e-04  5.131278e-06  3.377298e-03  2.157966e-03  1.551926e-06   \n",
              "1857  2.098486e-08  9.905566e-10  3.027236e-03  3.572612e-06  9.928765e-01   \n",
              "1858  2.520962e-05  6.674693e-08  2.527978e-08  3.137696e-03  1.635702e-06   \n",
              "1859  1.339690e-11  6.993236e-12  1.096002e-04  6.996599e-08  9.998640e-01   \n",
              "\n",
              "              OA_5  \n",
              "0     8.820393e-06  \n",
              "1     2.477502e-03  \n",
              "2     9.972563e-01  \n",
              "3     1.574630e-07  \n",
              "4     7.583751e-05  \n",
              "...            ...  \n",
              "1855  5.920534e-13  \n",
              "1856  9.942685e-01  \n",
              "1857  4.092691e-03  \n",
              "1858  9.968354e-01  \n",
              "1859  2.629944e-05  \n",
              "\n",
              "[1860 rows x 12 columns]"
            ],
            "text/html": [
              "\n",
              "  <div id=\"df-4e5c54fd-ea47-4794-82af-c1b24768613f\">\n",
              "    <div class=\"colab-df-container\">\n",
              "      <div>\n",
              "<style scoped>\n",
              "    .dataframe tbody tr th:only-of-type {\n",
              "        vertical-align: middle;\n",
              "    }\n",
              "\n",
              "    .dataframe tbody tr th {\n",
              "        vertical-align: top;\n",
              "    }\n",
              "\n",
              "    .dataframe thead th {\n",
              "        text-align: right;\n",
              "    }\n",
              "</style>\n",
              "<table border=\"1\" class=\"dataframe\">\n",
              "  <thead>\n",
              "    <tr style=\"text-align: right;\">\n",
              "      <th></th>\n",
              "      <th>OV_0</th>\n",
              "      <th>OV_1</th>\n",
              "      <th>OV_2</th>\n",
              "      <th>OV_3</th>\n",
              "      <th>OV_4</th>\n",
              "      <th>OV_5</th>\n",
              "      <th>OA_0</th>\n",
              "      <th>OA_1</th>\n",
              "      <th>OA_2</th>\n",
              "      <th>OA_3</th>\n",
              "      <th>OA_4</th>\n",
              "      <th>OA_5</th>\n",
              "    </tr>\n",
              "  </thead>\n",
              "  <tbody>\n",
              "    <tr>\n",
              "      <th>0</th>\n",
              "      <td>3.139591e-05</td>\n",
              "      <td>0.000790</td>\n",
              "      <td>0.000003</td>\n",
              "      <td>0.998874</td>\n",
              "      <td>0.000018</td>\n",
              "      <td>0.000285</td>\n",
              "      <td>4.537499e-04</td>\n",
              "      <td>2.186385e-03</td>\n",
              "      <td>1.921270e-02</td>\n",
              "      <td>9.781222e-01</td>\n",
              "      <td>1.616703e-05</td>\n",
              "      <td>8.820393e-06</td>\n",
              "    </tr>\n",
              "    <tr>\n",
              "      <th>1</th>\n",
              "      <td>1.103409e-07</td>\n",
              "      <td>0.000032</td>\n",
              "      <td>0.999933</td>\n",
              "      <td>0.000022</td>\n",
              "      <td>0.000001</td>\n",
              "      <td>0.000011</td>\n",
              "      <td>6.513397e-05</td>\n",
              "      <td>4.031113e-03</td>\n",
              "      <td>9.932030e-01</td>\n",
              "      <td>1.059530e-04</td>\n",
              "      <td>1.171815e-04</td>\n",
              "      <td>2.477502e-03</td>\n",
              "    </tr>\n",
              "    <tr>\n",
              "      <th>2</th>\n",
              "      <td>7.565987e-03</td>\n",
              "      <td>0.003240</td>\n",
              "      <td>0.000197</td>\n",
              "      <td>0.093270</td>\n",
              "      <td>0.000536</td>\n",
              "      <td>0.895191</td>\n",
              "      <td>8.289167e-11</td>\n",
              "      <td>2.243380e-13</td>\n",
              "      <td>2.174509e-12</td>\n",
              "      <td>2.728343e-03</td>\n",
              "      <td>1.528476e-05</td>\n",
              "      <td>9.972563e-01</td>\n",
              "    </tr>\n",
              "    <tr>\n",
              "      <th>3</th>\n",
              "      <td>9.221826e-04</td>\n",
              "      <td>0.972584</td>\n",
              "      <td>0.026023</td>\n",
              "      <td>0.000381</td>\n",
              "      <td>0.000035</td>\n",
              "      <td>0.000054</td>\n",
              "      <td>1.693225e-04</td>\n",
              "      <td>9.994117e-01</td>\n",
              "      <td>7.083039e-05</td>\n",
              "      <td>3.478866e-04</td>\n",
              "      <td>3.347439e-08</td>\n",
              "      <td>1.574630e-07</td>\n",
              "    </tr>\n",
              "    <tr>\n",
              "      <th>4</th>\n",
              "      <td>1.234611e-04</td>\n",
              "      <td>0.000554</td>\n",
              "      <td>0.000002</td>\n",
              "      <td>0.003309</td>\n",
              "      <td>0.995933</td>\n",
              "      <td>0.000079</td>\n",
              "      <td>1.028812e-08</td>\n",
              "      <td>1.459955e-11</td>\n",
              "      <td>5.230266e-05</td>\n",
              "      <td>6.553133e-07</td>\n",
              "      <td>9.998713e-01</td>\n",
              "      <td>7.583751e-05</td>\n",
              "    </tr>\n",
              "    <tr>\n",
              "      <th>...</th>\n",
              "      <td>...</td>\n",
              "      <td>...</td>\n",
              "      <td>...</td>\n",
              "      <td>...</td>\n",
              "      <td>...</td>\n",
              "      <td>...</td>\n",
              "      <td>...</td>\n",
              "      <td>...</td>\n",
              "      <td>...</td>\n",
              "      <td>...</td>\n",
              "      <td>...</td>\n",
              "      <td>...</td>\n",
              "    </tr>\n",
              "    <tr>\n",
              "      <th>1855</th>\n",
              "      <td>2.386935e-03</td>\n",
              "      <td>0.992171</td>\n",
              "      <td>0.004256</td>\n",
              "      <td>0.001075</td>\n",
              "      <td>0.000007</td>\n",
              "      <td>0.000105</td>\n",
              "      <td>1.874193e-11</td>\n",
              "      <td>9.999986e-01</td>\n",
              "      <td>1.378440e-06</td>\n",
              "      <td>6.596931e-08</td>\n",
              "      <td>2.597924e-11</td>\n",
              "      <td>5.920534e-13</td>\n",
              "    </tr>\n",
              "    <tr>\n",
              "      <th>1856</th>\n",
              "      <td>9.088054e-02</td>\n",
              "      <td>0.003614</td>\n",
              "      <td>0.000219</td>\n",
              "      <td>0.675536</td>\n",
              "      <td>0.000492</td>\n",
              "      <td>0.229259</td>\n",
              "      <td>1.895219e-04</td>\n",
              "      <td>5.131278e-06</td>\n",
              "      <td>3.377298e-03</td>\n",
              "      <td>2.157966e-03</td>\n",
              "      <td>1.551926e-06</td>\n",
              "      <td>9.942685e-01</td>\n",
              "    </tr>\n",
              "    <tr>\n",
              "      <th>1857</th>\n",
              "      <td>6.606330e-06</td>\n",
              "      <td>0.000776</td>\n",
              "      <td>0.000345</td>\n",
              "      <td>0.000146</td>\n",
              "      <td>0.992820</td>\n",
              "      <td>0.005906</td>\n",
              "      <td>2.098486e-08</td>\n",
              "      <td>9.905566e-10</td>\n",
              "      <td>3.027236e-03</td>\n",
              "      <td>3.572612e-06</td>\n",
              "      <td>9.928765e-01</td>\n",
              "      <td>4.092691e-03</td>\n",
              "    </tr>\n",
              "    <tr>\n",
              "      <th>1858</th>\n",
              "      <td>9.965926e-05</td>\n",
              "      <td>0.000174</td>\n",
              "      <td>0.000029</td>\n",
              "      <td>0.001711</td>\n",
              "      <td>0.000860</td>\n",
              "      <td>0.997127</td>\n",
              "      <td>2.520962e-05</td>\n",
              "      <td>6.674693e-08</td>\n",
              "      <td>2.527978e-08</td>\n",
              "      <td>3.137696e-03</td>\n",
              "      <td>1.635702e-06</td>\n",
              "      <td>9.968354e-01</td>\n",
              "    </tr>\n",
              "    <tr>\n",
              "      <th>1859</th>\n",
              "      <td>2.576359e-07</td>\n",
              "      <td>0.000035</td>\n",
              "      <td>0.000007</td>\n",
              "      <td>0.000117</td>\n",
              "      <td>0.999703</td>\n",
              "      <td>0.000138</td>\n",
              "      <td>1.339690e-11</td>\n",
              "      <td>6.993236e-12</td>\n",
              "      <td>1.096002e-04</td>\n",
              "      <td>6.996599e-08</td>\n",
              "      <td>9.998640e-01</td>\n",
              "      <td>2.629944e-05</td>\n",
              "    </tr>\n",
              "  </tbody>\n",
              "</table>\n",
              "<p>1860 rows × 12 columns</p>\n",
              "</div>\n",
              "      <button class=\"colab-df-convert\" onclick=\"convertToInteractive('df-4e5c54fd-ea47-4794-82af-c1b24768613f')\"\n",
              "              title=\"Convert this dataframe to an interactive table.\"\n",
              "              style=\"display:none;\">\n",
              "        \n",
              "  <svg xmlns=\"http://www.w3.org/2000/svg\" height=\"24px\"viewBox=\"0 0 24 24\"\n",
              "       width=\"24px\">\n",
              "    <path d=\"M0 0h24v24H0V0z\" fill=\"none\"/>\n",
              "    <path d=\"M18.56 5.44l.94 2.06.94-2.06 2.06-.94-2.06-.94-.94-2.06-.94 2.06-2.06.94zm-11 1L8.5 8.5l.94-2.06 2.06-.94-2.06-.94L8.5 2.5l-.94 2.06-2.06.94zm10 10l.94 2.06.94-2.06 2.06-.94-2.06-.94-.94-2.06-.94 2.06-2.06.94z\"/><path d=\"M17.41 7.96l-1.37-1.37c-.4-.4-.92-.59-1.43-.59-.52 0-1.04.2-1.43.59L10.3 9.45l-7.72 7.72c-.78.78-.78 2.05 0 2.83L4 21.41c.39.39.9.59 1.41.59.51 0 1.02-.2 1.41-.59l7.78-7.78 2.81-2.81c.8-.78.8-2.07 0-2.86zM5.41 20L4 18.59l7.72-7.72 1.47 1.35L5.41 20z\"/>\n",
              "  </svg>\n",
              "      </button>\n",
              "      \n",
              "  <style>\n",
              "    .colab-df-container {\n",
              "      display:flex;\n",
              "      flex-wrap:wrap;\n",
              "      gap: 12px;\n",
              "    }\n",
              "\n",
              "    .colab-df-convert {\n",
              "      background-color: #E8F0FE;\n",
              "      border: none;\n",
              "      border-radius: 50%;\n",
              "      cursor: pointer;\n",
              "      display: none;\n",
              "      fill: #1967D2;\n",
              "      height: 32px;\n",
              "      padding: 0 0 0 0;\n",
              "      width: 32px;\n",
              "    }\n",
              "\n",
              "    .colab-df-convert:hover {\n",
              "      background-color: #E2EBFA;\n",
              "      box-shadow: 0px 1px 2px rgba(60, 64, 67, 0.3), 0px 1px 3px 1px rgba(60, 64, 67, 0.15);\n",
              "      fill: #174EA6;\n",
              "    }\n",
              "\n",
              "    [theme=dark] .colab-df-convert {\n",
              "      background-color: #3B4455;\n",
              "      fill: #D2E3FC;\n",
              "    }\n",
              "\n",
              "    [theme=dark] .colab-df-convert:hover {\n",
              "      background-color: #434B5C;\n",
              "      box-shadow: 0px 1px 3px 1px rgba(0, 0, 0, 0.15);\n",
              "      filter: drop-shadow(0px 1px 2px rgba(0, 0, 0, 0.3));\n",
              "      fill: #FFFFFF;\n",
              "    }\n",
              "  </style>\n",
              "\n",
              "      <script>\n",
              "        const buttonEl =\n",
              "          document.querySelector('#df-4e5c54fd-ea47-4794-82af-c1b24768613f button.colab-df-convert');\n",
              "        buttonEl.style.display =\n",
              "          google.colab.kernel.accessAllowed ? 'block' : 'none';\n",
              "\n",
              "        async function convertToInteractive(key) {\n",
              "          const element = document.querySelector('#df-4e5c54fd-ea47-4794-82af-c1b24768613f');\n",
              "          const dataTable =\n",
              "            await google.colab.kernel.invokeFunction('convertToInteractive',\n",
              "                                                     [key], {});\n",
              "          if (!dataTable) return;\n",
              "\n",
              "          const docLinkHtml = 'Like what you see? Visit the ' +\n",
              "            '<a target=\"_blank\" href=https://colab.research.google.com/notebooks/data_table.ipynb>data table notebook</a>'\n",
              "            + ' to learn more about interactive tables.';\n",
              "          element.innerHTML = '';\n",
              "          dataTable['output_type'] = 'display_data';\n",
              "          await google.colab.output.renderOutput(dataTable, element);\n",
              "          const docLink = document.createElement('div');\n",
              "          docLink.innerHTML = docLinkHtml;\n",
              "          element.appendChild(docLink);\n",
              "        }\n",
              "      </script>\n",
              "    </div>\n",
              "  </div>\n",
              "  "
            ]
          },
          "metadata": {},
          "execution_count": 14
        }
      ]
    },
    {
      "cell_type": "code",
      "source": [
        "from sklearn.utils import shuffle\n",
        "seed=42\n",
        "new_x_train = shuffle(x_train,random_state=seed)\n",
        "new_y_train = shuffle(df_train,random_state=seed)\n",
        "new_x_train = new_x_train.reset_index(drop=True)\n",
        "new_y_train = new_y_train.reset_index(drop=True)\n",
        "\"\"\"\n",
        "y_train=df_train.to_numpy()\n",
        "y_train=y_train.reshape(1860,)\n",
        "y_train, y_train.shape\n",
        "\"\"\""
      ],
      "metadata": {
        "colab": {
          "base_uri": "https://localhost:8080/",
          "height": 36
        },
        "id": "p5veJq2ei1vA",
        "outputId": "c35f8621-74ad-400f-b42c-e0d88bf86058"
      },
      "execution_count": 15,
      "outputs": [
        {
          "output_type": "execute_result",
          "data": {
            "text/plain": [
              "'\\ny_train=df_train.to_numpy()\\ny_train=y_train.reshape(1860,)\\ny_train, y_train.shape\\n'"
            ],
            "application/vnd.google.colaboratory.intrinsic+json": {
              "type": "string"
            }
          },
          "metadata": {},
          "execution_count": 15
        }
      ]
    },
    {
      "cell_type": "code",
      "source": [
        "len(new_y_train)"
      ],
      "metadata": {
        "colab": {
          "base_uri": "https://localhost:8080/"
        },
        "id": "pFfSFyo-7NfO",
        "outputId": "42bccf9f-3a3e-49aa-c59d-94c055558d0a"
      },
      "execution_count": 16,
      "outputs": [
        {
          "output_type": "execute_result",
          "data": {
            "text/plain": [
              "1860"
            ]
          },
          "metadata": {},
          "execution_count": 16
        }
      ]
    },
    {
      "cell_type": "code",
      "source": [
        "from sklearn.preprocessing import StandardScaler, MinMaxScaler\n",
        "scaler = MinMaxScaler(feature_range=(0, 1))\n",
        "new_x_train = scaler.fit_transform(new_x_train)\n",
        "X_test = scaler.transform(x_test)"
      ],
      "metadata": {
        "id": "wPUM0nKyxmkZ"
      },
      "execution_count": 17,
      "outputs": []
    },
    {
      "cell_type": "code",
      "source": [
        "y_train=df_train.to_numpy()\n",
        "y_train=y_train.reshape(1860,)\n",
        "y_train, y_train.shape"
      ],
      "metadata": {
        "colab": {
          "base_uri": "https://localhost:8080/"
        },
        "id": "4UmZkWm-tMOU",
        "outputId": "cbcdfbca-9bbd-4e20-ae5d-112dd9bf7d9c"
      },
      "execution_count": 18,
      "outputs": [
        {
          "output_type": "execute_result",
          "data": {
            "text/plain": [
              "(array([3, 2, 5, ..., 4, 5, 4]), (1860,))"
            ]
          },
          "metadata": {},
          "execution_count": 18
        }
      ]
    },
    {
      "cell_type": "markdown",
      "source": [
        "# training machine learning"
      ],
      "metadata": {
        "id": "1hZPjTpT4lb3"
      }
    },
    {
      "cell_type": "code",
      "source": [
        "from sklearn.svm import SVC\n",
        "model = SVC(random_state=seed, kernel='rbf')\n",
        "svm=model.fit(x_train,y_train)\n",
        "predictions = model.predict(x_test)\n",
        "#print(\"Restored model, accuracy: {:5.2f}%\".format(100*acc))"
      ],
      "metadata": {
        "id": "PS4PZtkj5G8k"
      },
      "execution_count": 19,
      "outputs": []
    },
    {
      "cell_type": "code",
      "source": [
        "predictions"
      ],
      "metadata": {
        "colab": {
          "base_uri": "https://localhost:8080/"
        },
        "id": "ibm_g_O66uKI",
        "outputId": "04c19e82-1b4e-4469-8ea8-3900bcd00a16"
      },
      "execution_count": 20,
      "outputs": [
        {
          "output_type": "execute_result",
          "data": {
            "text/plain": [
              "array([0, 3, 2, 5, 5, 2, 5, 1, 4, 0, 3, 1, 4, 0, 4, 5, 4, 1, 1, 1, 5, 2,\n",
              "       0, 2, 1, 5, 3, 5, 5, 5, 5, 4, 5, 0, 2, 2, 4, 1, 5, 4, 2, 2, 1, 5,\n",
              "       2, 1, 5, 5, 4, 3, 4, 2, 1, 3, 3, 0, 0, 0, 2, 4, 4, 4, 5, 0, 1, 3,\n",
              "       1, 3, 5, 1, 1, 2, 5, 3, 5, 4, 0, 3, 4, 4, 3, 4, 4, 0, 0, 1, 2, 3,\n",
              "       3, 5, 5, 1, 0, 1, 5, 5, 1, 2, 4, 3, 4, 3, 3, 0, 4, 5, 2, 1, 4, 1,\n",
              "       5, 2, 0, 1, 4, 0, 4, 1, 1, 1, 1, 5, 1, 4, 1, 2, 3, 2, 5, 1, 2, 0,\n",
              "       1, 5, 1, 0, 5, 0, 1, 1, 2, 1, 2, 3, 1, 2, 3, 0, 0, 3, 2, 3, 5, 0,\n",
              "       1, 2, 1, 3, 0, 0, 1, 3, 3, 2, 4, 1, 0, 0, 5, 4, 4, 3, 1, 4, 3, 1,\n",
              "       5, 0, 4, 5, 4, 0, 0, 5, 3, 3, 1, 3, 3, 4, 1, 4, 1, 1, 4, 2, 3, 1,\n",
              "       4, 5, 3, 2, 5, 2, 4, 4, 1])"
            ]
          },
          "metadata": {},
          "execution_count": 20
        }
      ]
    },
    {
      "cell_type": "code",
      "source": [
        "from sklearn.metrics import classification_report, confusion_matrix,accuracy_score\n",
        "import seaborn as sn\n",
        "import matplotlib.pyplot as plt\n",
        "\n",
        "print(classification_report(y_test,predictions))\n",
        "\n",
        "acc = float(accuracy_score(y_test,predictions))*100\n",
        "print(\"----accuracy score %s ----\" % acc)\n",
        "\n",
        "cm = confusion_matrix(y_test,predictions)\n",
        "#df_cm = pd.DataFrame(cm)\n",
        "class_names = ['neutral','calm', 'happy','sad','angry', 'fearful' ]\n",
        "df_cm = pd.DataFrame(cm, index=class_names, columns=class_names,)\n",
        "sn.heatmap(df_cm, annot=True, fmt='')\n",
        "plt.show()"
      ],
      "metadata": {
        "colab": {
          "base_uri": "https://localhost:8080/",
          "height": 508
        },
        "id": "A9gR6pV063GP",
        "outputId": "5bc23976-abde-4498-d546-94ff305a37e7"
      },
      "execution_count": 21,
      "outputs": [
        {
          "output_type": "stream",
          "name": "stdout",
          "text": [
            "              precision    recall  f1-score   support\n",
            "\n",
            "           0       0.90      0.96      0.93        27\n",
            "           1       0.96      1.00      0.98        44\n",
            "           2       1.00      0.93      0.97        30\n",
            "           3       0.94      0.88      0.91        34\n",
            "           4       0.94      1.00      0.97        34\n",
            "           5       0.94      0.89      0.92        38\n",
            "\n",
            "    accuracy                           0.95       207\n",
            "   macro avg       0.95      0.95      0.95       207\n",
            "weighted avg       0.95      0.95      0.95       207\n",
            "\n",
            "----accuracy score 94.68599033816425 ----\n"
          ]
        },
        {
          "output_type": "display_data",
          "data": {
            "text/plain": [
              "<Figure size 432x288 with 2 Axes>"
            ],
            "image/png": "[encoded data removed]"
          },
          "metadata": {
            "needs_background": "light"
          }
        }
      ]
    },
    {
      "cell_type": "code",
      "source": [
        "path='/content/drive/My Drive/fusion/fusion_model/SVM/rbf/expert1'\n",
        "savedvX = joblib.dump(model, path)\n",
        "\n",
        "print(\"MODEL SAVED\")"
      ],
      "metadata": {
        "colab": {
          "base_uri": "https://localhost:8080/"
        },
        "id": "WFonuoIS7NTg",
        "outputId": "f85b444e-144a-49f9-c1ad-9c641a074f01"
      },
      "execution_count": 22,
      "outputs": [
        {
          "output_type": "stream",
          "name": "stdout",
          "text": [
            "MODEL SAVED\n"
          ]
        }
      ]
    },
    {
      "cell_type": "code",
      "source": [
        ""
      ],
      "metadata": {
        "id": "Bp4nDNcd7lc_"
      },
      "execution_count": 22,
      "outputs": []
    }
  ]
}