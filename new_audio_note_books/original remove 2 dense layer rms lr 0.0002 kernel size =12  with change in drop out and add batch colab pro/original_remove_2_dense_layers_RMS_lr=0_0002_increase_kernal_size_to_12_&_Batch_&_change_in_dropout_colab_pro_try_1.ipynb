{
  "nbformat": 4,
  "nbformat_minor": 0,
  "metadata": {
    "colab": {
      "name": "original_remove_2_dense_layers_RMS_lr=0_0002 increase_kernal_size_to_12 & Batch & change in dropout colab pro try 1.ipynb",
      "provenance": [],
      "collapsed_sections": [],
      "machine_shape": "hm"
    },
    "kernelspec": {
      "name": "python3",
      "display_name": "Python 3"
    },
    "language_info": {
      "name": "python"
    },
    "accelerator": "GPU"
  },
  "cells": [
    {
      "cell_type": "code",
      "execution_count": 1,
      "metadata": {
        "colab": {
          "base_uri": "https://localhost:8080/"
        },
        "id": "9SRCO-a_AlH5",
        "outputId": "6762e7c6-b0fe-4b57-d109-ee47f4dffbdc"
      },
      "outputs": [
        {
          "output_type": "stream",
          "name": "stdout",
          "text": [
            "Drive already mounted at /content/drive; to attempt to forcibly remount, call drive.mount(\"/content/drive\", force_remount=True).\n"
          ]
        }
      ],
      "source": [
        "from google.colab import drive\n",
        "drive.mount('/content/drive')"
      ]
    },
    {
      "cell_type": "code",
      "source": [
        "!pip install librosa"
      ],
      "metadata": {
        "colab": {
          "base_uri": "https://localhost:8080/"
        },
        "id": "5Lo4mUwG9RMd",
        "outputId": "4b07cb79-8445-4ba5-965a-25fc7c2e9d30"
      },
      "execution_count": 2,
      "outputs": [
        {
          "output_type": "stream",
          "name": "stdout",
          "text": [
            "Looking in indexes: https://pypi.org/simple, https://us-python.pkg.dev/colab-wheels/public/simple/\n",
            "Requirement already satisfied: librosa in /usr/local/lib/python3.7/dist-packages (0.8.1)\n",
            "Requirement already satisfied: joblib>=0.14 in /usr/local/lib/python3.7/dist-packages (from librosa) (1.1.0)\n",
            "Requirement already satisfied: decorator>=3.0.0 in /usr/local/lib/python3.7/dist-packages (from librosa) (4.4.2)\n",
            "Requirement already satisfied: pooch>=1.0 in /usr/local/lib/python3.7/dist-packages (from librosa) (1.6.0)\n",
            "Requirement already satisfied: scikit-learn!=0.19.0,>=0.14.0 in /usr/local/lib/python3.7/dist-packages (from librosa) (1.0.2)\n",
            "Requirement already satisfied: audioread>=2.0.0 in /usr/local/lib/python3.7/dist-packages (from librosa) (2.1.9)\n",
            "Requirement already satisfied: resampy>=0.2.2 in /usr/local/lib/python3.7/dist-packages (from librosa) (0.2.2)\n",
            "Requirement already satisfied: numpy>=1.15.0 in /usr/local/lib/python3.7/dist-packages (from librosa) (1.21.6)\n",
            "Requirement already satisfied: scipy>=1.0.0 in /usr/local/lib/python3.7/dist-packages (from librosa) (1.4.1)\n",
            "Requirement already satisfied: packaging>=20.0 in /usr/local/lib/python3.7/dist-packages (from librosa) (21.3)\n",
            "Requirement already satisfied: numba>=0.43.0 in /usr/local/lib/python3.7/dist-packages (from librosa) (0.51.2)\n",
            "Requirement already satisfied: soundfile>=0.10.2 in /usr/local/lib/python3.7/dist-packages (from librosa) (0.10.3.post1)\n",
            "Requirement already satisfied: setuptools in /usr/local/lib/python3.7/dist-packages (from numba>=0.43.0->librosa) (57.4.0)\n",
            "Requirement already satisfied: llvmlite<0.35,>=0.34.0.dev0 in /usr/local/lib/python3.7/dist-packages (from numba>=0.43.0->librosa) (0.34.0)\n",
            "Requirement already satisfied: pyparsing!=3.0.5,>=2.0.2 in /usr/local/lib/python3.7/dist-packages (from packaging>=20.0->librosa) (3.0.9)\n",
            "Requirement already satisfied: requests>=2.19.0 in /usr/local/lib/python3.7/dist-packages (from pooch>=1.0->librosa) (2.23.0)\n",
            "Requirement already satisfied: appdirs>=1.3.0 in /usr/local/lib/python3.7/dist-packages (from pooch>=1.0->librosa) (1.4.4)\n",
            "Requirement already satisfied: chardet<4,>=3.0.2 in /usr/local/lib/python3.7/dist-packages (from requests>=2.19.0->pooch>=1.0->librosa) (3.0.4)\n",
            "Requirement already satisfied: urllib3!=1.25.0,!=1.25.1,<1.26,>=1.21.1 in /usr/local/lib/python3.7/dist-packages (from requests>=2.19.0->pooch>=1.0->librosa) (1.24.3)\n",
            "Requirement already satisfied: idna<3,>=2.5 in /usr/local/lib/python3.7/dist-packages (from requests>=2.19.0->pooch>=1.0->librosa) (2.10)\n",
            "Requirement already satisfied: certifi>=2017.4.17 in /usr/local/lib/python3.7/dist-packages (from requests>=2.19.0->pooch>=1.0->librosa) (2022.5.18.1)\n",
            "Requirement already satisfied: six>=1.3 in /usr/local/lib/python3.7/dist-packages (from resampy>=0.2.2->librosa) (1.15.0)\n",
            "Requirement already satisfied: threadpoolctl>=2.0.0 in /usr/local/lib/python3.7/dist-packages (from scikit-learn!=0.19.0,>=0.14.0->librosa) (3.1.0)\n",
            "Requirement already satisfied: cffi>=1.0 in /usr/local/lib/python3.7/dist-packages (from soundfile>=0.10.2->librosa) (1.15.0)\n",
            "Requirement already satisfied: pycparser in /usr/local/lib/python3.7/dist-packages (from cffi>=1.0->soundfile>=0.10.2->librosa) (2.21)\n"
          ]
        }
      ]
    },
    {
      "cell_type": "code",
      "metadata": {
        "id": "HJjcbxwy46bG",
        "colab": {
          "base_uri": "https://localhost:8080/",
          "height": 17
        },
        "outputId": "52c20542-ad81-43f7-8969-f3bdb6f20d70"
      },
      "source": [
        "# Orignial Notebook: https://github.com/MITESHPUTHRANNEU/Speech-Emotion-Analyzer/blob/master/final_results_gender_test.ipynb\n",
        "# This notebook author: Reza Chu\n",
        "# Last Editing Date: 31st May 2019\n",
        "\n",
        "## Python\n",
        "import os\n",
        "import random\n",
        "import sys\n",
        "\n",
        "import IPython\n",
        "from IPython.display import Audio\n",
        "from IPython.display import Image\n",
        "import matplotlib.pyplot as plt\n",
        "\n",
        "## Package\n",
        "import glob \n",
        "import keras\n",
        "import IPython.display as ipd\n",
        "import librosa\n",
        "import librosa.display\n",
        "import matplotlib.pyplot as plt\n",
        "import numpy as np\n",
        "import pandas as pd\n",
        "import plotly.graph_objs as go\n",
        "import plotly.offline as py\n",
        "import plotly.tools as tls\n",
        "import seaborn as sns\n",
        "import scipy.io.wavfile\n",
        "import tensorflow as tf\n",
        "py.init_notebook_mode(connected=True)\n",
        "\n",
        "## Keras\n",
        "from keras import regularizers\n",
        "from keras.callbacks import ModelCheckpoint, LearningRateScheduler, EarlyStopping\n",
        "from keras.callbacks import  History, ReduceLROnPlateau, CSVLogger\n",
        "from keras.models import Model, Sequential\n",
        "from keras.layers import Dense, Embedding, LSTM\n",
        "from keras.layers import Input, Flatten, Dropout, Activation, BatchNormalization\n",
        "from keras.layers import Conv1D, MaxPooling1D, AveragePooling1D\n",
        "from keras.preprocessing import sequence\n",
        "from keras.preprocessing.sequence import pad_sequences\n",
        "from keras.preprocessing.text import Tokenizer\n",
        "from keras.utils import np_utils\n",
        "from tensorflow.keras.utils import to_categorical\n",
        "\n",
        "## Sklearn\n",
        "from sklearn.metrics import confusion_matrix\n",
        "from sklearn.preprocessing import LabelEncoder\n",
        "\n",
        "## Rest\n",
        "from scipy.fftpack import fft\n",
        "from scipy import signal\n",
        "from scipy.io import wavfile\n",
        "from tqdm import tqdm\n",
        "\n",
        "input_duration=3\n",
        "# % pylab inline"
      ],
      "execution_count": 3,
      "outputs": [
        {
          "output_type": "display_data",
          "data": {
            "text/html": [
              "        <script type=\"text/javascript\">\n",
              "        window.PlotlyConfig = {MathJaxConfig: 'local'};\n",
              "        if (window.MathJax) {MathJax.Hub.Config({SVG: {font: \"STIX-Web\"}});}\n",
              "        if (typeof require !== 'undefined') {\n",
              "        require.undef(\"plotly\");\n",
              "        requirejs.config({\n",
              "            paths: {\n",
              "                'plotly': ['https://cdn.plot.ly/plotly-2.8.3.min']\n",
              "            }\n",
              "        });\n",
              "        require(['plotly'], function(Plotly) {\n",
              "            window._Plotly = Plotly;\n",
              "        });\n",
              "        }\n",
              "        </script>\n",
              "        "
            ]
          },
          "metadata": {}
        }
      ]
    },
    {
      "cell_type": "code",
      "source": [
        "# # Saving joblib files to not load them again with the loop above\n",
        "\n",
        "# import joblib\n",
        "\n",
        "# X_name = 'x.joblib'\n",
        "# y_name = 'y.joblib'\n",
        "# save_dir = '/content/drive/My Drive/graduation project/audio/paper_code/features'\n",
        "\n",
        "# savedX = joblib.dump(X, os.path.join(save_dir, X_name))\n",
        "# savedy = joblib.dump(y, os.path.join(save_dir, y_name))"
      ],
      "metadata": {
        "id": "UCzic8rlDcuk"
      },
      "execution_count": 4,
      "outputs": []
    },
    {
      "cell_type": "code",
      "source": [
        "# # Loading saved models\n",
        "import joblib\n",
        "X = joblib.load('/content/drive/My Drive/graduation project/audio/paper_code/features/x.joblib')\n",
        "y = joblib.load('/content/drive/My Drive/graduation project/audio/paper_code/features/y.joblib')"
      ],
      "metadata": {
        "id": "Q35CN6zDrzg1"
      },
      "execution_count": 5,
      "outputs": []
    },
    {
      "cell_type": "code",
      "source": [
        "X.shape"
      ],
      "metadata": {
        "id": "7PSTurzjCo5K",
        "colab": {
          "base_uri": "https://localhost:8080/"
        },
        "outputId": "55a0be7b-1877-461b-9a37-34bea6d2b0fc"
      },
      "execution_count": 6,
      "outputs": [
        {
          "output_type": "execute_result",
          "data": {
            "text/plain": [
              "(2068, 40)"
            ]
          },
          "metadata": {},
          "execution_count": 6
        }
      ]
    },
    {
      "cell_type": "code",
      "source": [
        "from sklearn.model_selection import train_test_split\n",
        "\n",
        "X_train, X_test, y_train, y_test = train_test_split(X,y, test_size=0.1 ,shuffle = True\n",
        "                                                    , random_state=42)\n",
        "X_train , X_valid, y_train, y_valid = train_test_split(X_train,y_train, test_size=0.1112305212 , shuffle = True \n",
        "                                                       , random_state=42)"
      ],
      "metadata": {
        "id": "Ai4Fy5cPCiq1"
      },
      "execution_count": 7,
      "outputs": []
    },
    {
      "cell_type": "code",
      "source": [
        "import numpy as np\n",
        "x_traincnn = np.expand_dims(X_train, axis=2)\n",
        "x_testcnn = np.expand_dims(X_test, axis=2)\n",
        "X_valid= np.expand_dims(X_valid, axis=2)"
      ],
      "metadata": {
        "id": "tp1Fm5K3CEXu"
      },
      "execution_count": 8,
      "outputs": []
    },
    {
      "cell_type": "code",
      "source": [
        "x_traincnn.shape, x_testcnn.shape , X_valid.shape\n",
        "#1861"
      ],
      "metadata": {
        "id": "RI0MxoIPBws5",
        "colab": {
          "base_uri": "https://localhost:8080/"
        },
        "outputId": "785158c9-bcab-475c-896e-a335fd119233"
      },
      "execution_count": 9,
      "outputs": [
        {
          "output_type": "execute_result",
          "data": {
            "text/plain": [
              "((1654, 40, 1), (207, 40, 1), (207, 40, 1))"
            ]
          },
          "metadata": {},
          "execution_count": 9
        }
      ]
    },
    {
      "cell_type": "code",
      "source": [
        "!pip install tensorflow"
      ],
      "metadata": {
        "id": "oALhiMUd9G2Y",
        "colab": {
          "base_uri": "https://localhost:8080/"
        },
        "outputId": "89987c03-79fc-4a9d-b8e3-bb149a1a12c5"
      },
      "execution_count": 10,
      "outputs": [
        {
          "output_type": "stream",
          "name": "stdout",
          "text": [
            "Looking in indexes: https://pypi.org/simple, https://us-python.pkg.dev/colab-wheels/public/simple/\n",
            "Requirement already satisfied: tensorflow in /usr/local/lib/python3.7/dist-packages (2.8.2+zzzcolab20220527125636)\n",
            "Requirement already satisfied: tensorboard<2.9,>=2.8 in /usr/local/lib/python3.7/dist-packages (from tensorflow) (2.8.0)\n",
            "Requirement already satisfied: opt-einsum>=2.3.2 in /usr/local/lib/python3.7/dist-packages (from tensorflow) (3.3.0)\n",
            "Requirement already satisfied: google-pasta>=0.1.1 in /usr/local/lib/python3.7/dist-packages (from tensorflow) (0.2.0)\n",
            "Requirement already satisfied: libclang>=9.0.1 in /usr/local/lib/python3.7/dist-packages (from tensorflow) (14.0.1)\n",
            "Requirement already satisfied: protobuf<3.20,>=3.9.2 in /usr/local/lib/python3.7/dist-packages (from tensorflow) (3.17.3)\n",
            "Requirement already satisfied: keras-preprocessing>=1.1.1 in /usr/local/lib/python3.7/dist-packages (from tensorflow) (1.1.2)\n",
            "Requirement already satisfied: termcolor>=1.1.0 in /usr/local/lib/python3.7/dist-packages (from tensorflow) (1.1.0)\n",
            "Requirement already satisfied: h5py>=2.9.0 in /usr/local/lib/python3.7/dist-packages (from tensorflow) (3.1.0)\n",
            "Requirement already satisfied: gast>=0.2.1 in /usr/local/lib/python3.7/dist-packages (from tensorflow) (0.5.3)\n",
            "Requirement already satisfied: grpcio<2.0,>=1.24.3 in /usr/local/lib/python3.7/dist-packages (from tensorflow) (1.46.3)\n",
            "Requirement already satisfied: numpy>=1.20 in /usr/local/lib/python3.7/dist-packages (from tensorflow) (1.21.6)\n",
            "Requirement already satisfied: tensorflow-estimator<2.9,>=2.8 in /usr/local/lib/python3.7/dist-packages (from tensorflow) (2.8.0)\n",
            "Requirement already satisfied: wrapt>=1.11.0 in /usr/local/lib/python3.7/dist-packages (from tensorflow) (1.14.1)\n",
            "Requirement already satisfied: typing-extensions>=3.6.6 in /usr/local/lib/python3.7/dist-packages (from tensorflow) (4.2.0)\n",
            "Requirement already satisfied: astunparse>=1.6.0 in /usr/local/lib/python3.7/dist-packages (from tensorflow) (1.6.3)\n",
            "Requirement already satisfied: absl-py>=0.4.0 in /usr/local/lib/python3.7/dist-packages (from tensorflow) (1.0.0)\n",
            "Requirement already satisfied: six>=1.12.0 in /usr/local/lib/python3.7/dist-packages (from tensorflow) (1.15.0)\n",
            "Requirement already satisfied: tensorflow-io-gcs-filesystem>=0.23.1 in /usr/local/lib/python3.7/dist-packages (from tensorflow) (0.26.0)\n",
            "Requirement already satisfied: flatbuffers>=1.12 in /usr/local/lib/python3.7/dist-packages (from tensorflow) (2.0)\n",
            "Requirement already satisfied: keras<2.9,>=2.8.0rc0 in /usr/local/lib/python3.7/dist-packages (from tensorflow) (2.8.0)\n",
            "Requirement already satisfied: setuptools in /usr/local/lib/python3.7/dist-packages (from tensorflow) (57.4.0)\n",
            "Requirement already satisfied: wheel<1.0,>=0.23.0 in /usr/local/lib/python3.7/dist-packages (from astunparse>=1.6.0->tensorflow) (0.37.1)\n",
            "Requirement already satisfied: cached-property in /usr/local/lib/python3.7/dist-packages (from h5py>=2.9.0->tensorflow) (1.5.2)\n",
            "Requirement already satisfied: google-auth-oauthlib<0.5,>=0.4.1 in /usr/local/lib/python3.7/dist-packages (from tensorboard<2.9,>=2.8->tensorflow) (0.4.6)\n",
            "Requirement already satisfied: requests<3,>=2.21.0 in /usr/local/lib/python3.7/dist-packages (from tensorboard<2.9,>=2.8->tensorflow) (2.23.0)\n",
            "Requirement already satisfied: werkzeug>=0.11.15 in /usr/local/lib/python3.7/dist-packages (from tensorboard<2.9,>=2.8->tensorflow) (1.0.1)\n",
            "Requirement already satisfied: google-auth<3,>=1.6.3 in /usr/local/lib/python3.7/dist-packages (from tensorboard<2.9,>=2.8->tensorflow) (1.35.0)\n",
            "Requirement already satisfied: tensorboard-plugin-wit>=1.6.0 in /usr/local/lib/python3.7/dist-packages (from tensorboard<2.9,>=2.8->tensorflow) (1.8.1)\n",
            "Requirement already satisfied: tensorboard-data-server<0.7.0,>=0.6.0 in /usr/local/lib/python3.7/dist-packages (from tensorboard<2.9,>=2.8->tensorflow) (0.6.1)\n",
            "Requirement already satisfied: markdown>=2.6.8 in /usr/local/lib/python3.7/dist-packages (from tensorboard<2.9,>=2.8->tensorflow) (3.3.7)\n",
            "Requirement already satisfied: cachetools<5.0,>=2.0.0 in /usr/local/lib/python3.7/dist-packages (from google-auth<3,>=1.6.3->tensorboard<2.9,>=2.8->tensorflow) (4.2.4)\n",
            "Requirement already satisfied: rsa<5,>=3.1.4 in /usr/local/lib/python3.7/dist-packages (from google-auth<3,>=1.6.3->tensorboard<2.9,>=2.8->tensorflow) (4.8)\n",
            "Requirement already satisfied: pyasn1-modules>=0.2.1 in /usr/local/lib/python3.7/dist-packages (from google-auth<3,>=1.6.3->tensorboard<2.9,>=2.8->tensorflow) (0.2.8)\n",
            "Requirement already satisfied: requests-oauthlib>=0.7.0 in /usr/local/lib/python3.7/dist-packages (from google-auth-oauthlib<0.5,>=0.4.1->tensorboard<2.9,>=2.8->tensorflow) (1.3.1)\n",
            "Requirement already satisfied: importlib-metadata>=4.4 in /usr/local/lib/python3.7/dist-packages (from markdown>=2.6.8->tensorboard<2.9,>=2.8->tensorflow) (4.11.4)\n",
            "Requirement already satisfied: zipp>=0.5 in /usr/local/lib/python3.7/dist-packages (from importlib-metadata>=4.4->markdown>=2.6.8->tensorboard<2.9,>=2.8->tensorflow) (3.8.0)\n",
            "Requirement already satisfied: pyasn1<0.5.0,>=0.4.6 in /usr/local/lib/python3.7/dist-packages (from pyasn1-modules>=0.2.1->google-auth<3,>=1.6.3->tensorboard<2.9,>=2.8->tensorflow) (0.4.8)\n",
            "Requirement already satisfied: certifi>=2017.4.17 in /usr/local/lib/python3.7/dist-packages (from requests<3,>=2.21.0->tensorboard<2.9,>=2.8->tensorflow) (2022.5.18.1)\n",
            "Requirement already satisfied: urllib3!=1.25.0,!=1.25.1,<1.26,>=1.21.1 in /usr/local/lib/python3.7/dist-packages (from requests<3,>=2.21.0->tensorboard<2.9,>=2.8->tensorflow) (1.24.3)\n",
            "Requirement already satisfied: idna<3,>=2.5 in /usr/local/lib/python3.7/dist-packages (from requests<3,>=2.21.0->tensorboard<2.9,>=2.8->tensorflow) (2.10)\n",
            "Requirement already satisfied: chardet<4,>=3.0.2 in /usr/local/lib/python3.7/dist-packages (from requests<3,>=2.21.0->tensorboard<2.9,>=2.8->tensorflow) (3.0.4)\n",
            "Requirement already satisfied: oauthlib>=3.0.0 in /usr/local/lib/python3.7/dist-packages (from requests-oauthlib>=0.7.0->google-auth-oauthlib<0.5,>=0.4.1->tensorboard<2.9,>=2.8->tensorflow) (3.2.0)\n"
          ]
        }
      ]
    },
    {
      "cell_type": "code",
      "source": [
        "import keras\n",
        "import numpy as np\n",
        "import matplotlib.pyplot as plt\n",
        "import tensorflow as tf\n",
        "from keras.preprocessing import sequence\n",
        "from keras.models import Sequential\n",
        "from keras.layers import Dense, Embedding\n",
        "from tensorflow.keras.utils import to_categorical\n",
        "from keras.layers import Input, Flatten, Dropout, Activation\n",
        "from keras.layers import Conv1D, MaxPooling1D\n",
        "from keras.models import Model\n",
        "from keras.callbacks import ModelCheckpoint\n",
        "from tensorflow.keras import optimizers\n",
        "\n",
        "model = Sequential()\n",
        "\n",
        "model.add(Conv1D(128, 12,padding='same', #classifier.add(Convolution2D(64, (3, 3), padding = 'same', input_shape = (128, 128, 3), activation = 'relu'))\n",
        "                 input_shape=(40,1)))\n",
        "model.add(BatchNormalization())\n",
        "model.add(Activation('relu'))\n",
        "model.add(Dropout(0.1))\n",
        "model.add(MaxPooling1D(pool_size=(5)))\n",
        "\n",
        "\n",
        "model.add(Conv1D(256,12,padding='same',))\n",
        "model.add(BatchNormalization())\n",
        "model.add(Activation('relu'))\n",
        "model.add(Dropout(0.3))\n",
        "model.add(MaxPooling1D(pool_size=(5)))\n",
        "\n",
        "#model.add(MaxPooling1D(pool_size=(5)))\n",
        "\n",
        "model.add(Flatten())\n",
        "\n",
        "\n",
        "\n",
        "model.add(Dense(6))\n",
        "model.add(Activation('softmax'))\n",
        "\n",
        "\n",
        "opt = tf.keras.optimizers.RMSprop(lr=0.0002 , decay=0.0)\n",
        "#opt = tf.keras.optimizers.Adam(lr=0.0002 , decay=0.0)\n",
        "#opt = tf.keras.optimizers.RMSprop(lr=0.0001, rho=0.9, epsilon=1e-07, decay=0.0)\n",
        "#opt = tf.keras.optimizers.SGD(lr=0.001, momentum=0.0, decay=0.0, nesterov=False)"
      ],
      "metadata": {
        "id": "g74fXWVAC4Cr",
        "colab": {
          "base_uri": "https://localhost:8080/"
        },
        "outputId": "d5eda8a1-5e58-49b3-a3a4-bb7312b88235"
      },
      "execution_count": 11,
      "outputs": [
        {
          "output_type": "stream",
          "name": "stderr",
          "text": [
            "/usr/local/lib/python3.7/dist-packages/keras/optimizer_v2/rmsprop.py:130: UserWarning:\n",
            "\n",
            "The `lr` argument is deprecated, use `learning_rate` instead.\n",
            "\n"
          ]
        }
      ]
    },
    {
      "cell_type": "code",
      "source": [
        "model.summary()"
      ],
      "metadata": {
        "id": "H6ukOxAGC_I4",
        "colab": {
          "base_uri": "https://localhost:8080/"
        },
        "outputId": "5e8fdc4e-2543-446e-f6cf-6623cfccee81"
      },
      "execution_count": 12,
      "outputs": [
        {
          "output_type": "stream",
          "name": "stdout",
          "text": [
            "Model: \"sequential\"\n",
            "_________________________________________________________________\n",
            " Layer (type)                Output Shape              Param #   \n",
            "=================================================================\n",
            " conv1d (Conv1D)             (None, 40, 128)           1664      \n",
            "                                                                 \n",
            " batch_normalization (BatchN  (None, 40, 128)          512       \n",
            " ormalization)                                                   \n",
            "                                                                 \n",
            " activation (Activation)     (None, 40, 128)           0         \n",
            "                                                                 \n",
            " dropout (Dropout)           (None, 40, 128)           0         \n",
            "                                                                 \n",
            " max_pooling1d (MaxPooling1D  (None, 8, 128)           0         \n",
            " )                                                               \n",
            "                                                                 \n",
            " conv1d_1 (Conv1D)           (None, 8, 256)            393472    \n",
            "                                                                 \n",
            " batch_normalization_1 (Batc  (None, 8, 256)           1024      \n",
            " hNormalization)                                                 \n",
            "                                                                 \n",
            " activation_1 (Activation)   (None, 8, 256)            0         \n",
            "                                                                 \n",
            " dropout_1 (Dropout)         (None, 8, 256)            0         \n",
            "                                                                 \n",
            " max_pooling1d_1 (MaxPooling  (None, 1, 256)           0         \n",
            " 1D)                                                             \n",
            "                                                                 \n",
            " flatten (Flatten)           (None, 256)               0         \n",
            "                                                                 \n",
            " dense (Dense)               (None, 6)                 1542      \n",
            "                                                                 \n",
            " activation_2 (Activation)   (None, 6)                 0         \n",
            "                                                                 \n",
            "=================================================================\n",
            "Total params: 398,214\n",
            "Trainable params: 397,446\n",
            "Non-trainable params: 768\n",
            "_________________________________________________________________\n"
          ]
        }
      ]
    },
    {
      "cell_type": "code",
      "source": [
        "model.compile(loss='sparse_categorical_crossentropy',\n",
        "              optimizer=opt,\n",
        "              metrics=['accuracy'])"
      ],
      "metadata": {
        "id": "AbMlLNk4DCBM"
      },
      "execution_count": 13,
      "outputs": []
    },
    {
      "cell_type": "code",
      "source": [
        "# Create an Instance of Early Stopping Callback.\n",
        "early_stopping_callback = EarlyStopping(monitor = 'val_loss', patience = 25, mode = 'min', restore_best_weights = True)\n",
        "\n",
        "cnnhistory=model.fit(x_traincnn, y_train, batch_size=16, epochs=500 , shuffle = True, \n",
        "                     validation_data=(X_valid, y_valid) , callbacks = [early_stopping_callback])"
      ],
      "metadata": {
        "id": "RI1v2AuADFhy",
        "colab": {
          "base_uri": "https://localhost:8080/"
        },
        "outputId": "15a9178a-c074-45b7-9421-e55fbd103dec"
      },
      "execution_count": 14,
      "outputs": [
        {
          "output_type": "stream",
          "name": "stdout",
          "text": [
            "Epoch 1/500\n",
            "104/104 [==============================] - 3s 7ms/step - loss: 2.0102 - accuracy: 0.2727 - val_loss: 3.0604 - val_accuracy: 0.1594\n",
            "Epoch 2/500\n",
            "104/104 [==============================] - 0s 5ms/step - loss: 1.7411 - accuracy: 0.3005 - val_loss: 2.7467 - val_accuracy: 0.1932\n",
            "Epoch 3/500\n",
            "104/104 [==============================] - 0s 5ms/step - loss: 1.6143 - accuracy: 0.3422 - val_loss: 1.8864 - val_accuracy: 0.2271\n",
            "Epoch 4/500\n",
            "104/104 [==============================] - 1s 5ms/step - loss: 1.5709 - accuracy: 0.3585 - val_loss: 1.8121 - val_accuracy: 0.3333\n",
            "Epoch 5/500\n",
            "104/104 [==============================] - 1s 6ms/step - loss: 1.5280 - accuracy: 0.3869 - val_loss: 1.5491 - val_accuracy: 0.3768\n",
            "Epoch 6/500\n",
            "104/104 [==============================] - 1s 7ms/step - loss: 1.5152 - accuracy: 0.3900 - val_loss: 1.3818 - val_accuracy: 0.4396\n",
            "Epoch 7/500\n",
            "104/104 [==============================] - 1s 7ms/step - loss: 1.4659 - accuracy: 0.3948 - val_loss: 1.3174 - val_accuracy: 0.4976\n",
            "Epoch 8/500\n",
            "104/104 [==============================] - 1s 7ms/step - loss: 1.3995 - accuracy: 0.4305 - val_loss: 1.2928 - val_accuracy: 0.5024\n",
            "Epoch 9/500\n",
            "104/104 [==============================] - 1s 7ms/step - loss: 1.3517 - accuracy: 0.4631 - val_loss: 1.3641 - val_accuracy: 0.4251\n",
            "Epoch 10/500\n",
            "104/104 [==============================] - 1s 6ms/step - loss: 1.3452 - accuracy: 0.4649 - val_loss: 1.2542 - val_accuracy: 0.5121\n",
            "Epoch 11/500\n",
            "104/104 [==============================] - 1s 7ms/step - loss: 1.2551 - accuracy: 0.4964 - val_loss: 1.3086 - val_accuracy: 0.4734\n",
            "Epoch 12/500\n",
            "104/104 [==============================] - 1s 7ms/step - loss: 1.2794 - accuracy: 0.4909 - val_loss: 1.2998 - val_accuracy: 0.4541\n",
            "Epoch 13/500\n",
            "104/104 [==============================] - 1s 7ms/step - loss: 1.2503 - accuracy: 0.5018 - val_loss: 1.4753 - val_accuracy: 0.4058\n",
            "Epoch 14/500\n",
            "104/104 [==============================] - 1s 7ms/step - loss: 1.2166 - accuracy: 0.5115 - val_loss: 1.1468 - val_accuracy: 0.5507\n",
            "Epoch 15/500\n",
            "104/104 [==============================] - 1s 7ms/step - loss: 1.1664 - accuracy: 0.5490 - val_loss: 1.2138 - val_accuracy: 0.4831\n",
            "Epoch 16/500\n",
            "104/104 [==============================] - 1s 7ms/step - loss: 1.1860 - accuracy: 0.5357 - val_loss: 1.2126 - val_accuracy: 0.5507\n",
            "Epoch 17/500\n",
            "104/104 [==============================] - 1s 7ms/step - loss: 1.1644 - accuracy: 0.5538 - val_loss: 1.2616 - val_accuracy: 0.4976\n",
            "Epoch 18/500\n",
            "104/104 [==============================] - 1s 8ms/step - loss: 1.1275 - accuracy: 0.5562 - val_loss: 1.0853 - val_accuracy: 0.5845\n",
            "Epoch 19/500\n",
            "104/104 [==============================] - 1s 6ms/step - loss: 1.1184 - accuracy: 0.5544 - val_loss: 1.1821 - val_accuracy: 0.5072\n",
            "Epoch 20/500\n",
            "104/104 [==============================] - 1s 6ms/step - loss: 1.0747 - accuracy: 0.5786 - val_loss: 1.0945 - val_accuracy: 0.5652\n",
            "Epoch 21/500\n",
            "104/104 [==============================] - 1s 5ms/step - loss: 1.0537 - accuracy: 0.5762 - val_loss: 1.1605 - val_accuracy: 0.5362\n",
            "Epoch 22/500\n",
            "104/104 [==============================] - 0s 5ms/step - loss: 1.0583 - accuracy: 0.5877 - val_loss: 1.1139 - val_accuracy: 0.4879\n",
            "Epoch 23/500\n",
            "104/104 [==============================] - 0s 5ms/step - loss: 1.0318 - accuracy: 0.5792 - val_loss: 1.1229 - val_accuracy: 0.5411\n",
            "Epoch 24/500\n",
            "104/104 [==============================] - 0s 5ms/step - loss: 1.0121 - accuracy: 0.5985 - val_loss: 1.0823 - val_accuracy: 0.5894\n",
            "Epoch 25/500\n",
            "104/104 [==============================] - 0s 5ms/step - loss: 0.9941 - accuracy: 0.6106 - val_loss: 1.0412 - val_accuracy: 0.6039\n",
            "Epoch 26/500\n",
            "104/104 [==============================] - 0s 5ms/step - loss: 1.0063 - accuracy: 0.6064 - val_loss: 1.1612 - val_accuracy: 0.5459\n",
            "Epoch 27/500\n",
            "104/104 [==============================] - 0s 5ms/step - loss: 0.9592 - accuracy: 0.6288 - val_loss: 1.1116 - val_accuracy: 0.5604\n",
            "Epoch 28/500\n",
            "104/104 [==============================] - 0s 5ms/step - loss: 0.9696 - accuracy: 0.6366 - val_loss: 1.0034 - val_accuracy: 0.5797\n",
            "Epoch 29/500\n",
            "104/104 [==============================] - 0s 5ms/step - loss: 0.9618 - accuracy: 0.6318 - val_loss: 1.0247 - val_accuracy: 0.5797\n",
            "Epoch 30/500\n",
            "104/104 [==============================] - 0s 5ms/step - loss: 0.9229 - accuracy: 0.6433 - val_loss: 1.0690 - val_accuracy: 0.5652\n",
            "Epoch 31/500\n",
            "104/104 [==============================] - 0s 5ms/step - loss: 0.9314 - accuracy: 0.6264 - val_loss: 0.9201 - val_accuracy: 0.6280\n",
            "Epoch 32/500\n",
            "104/104 [==============================] - 0s 5ms/step - loss: 0.8962 - accuracy: 0.6536 - val_loss: 0.9873 - val_accuracy: 0.5990\n",
            "Epoch 33/500\n",
            "104/104 [==============================] - 0s 5ms/step - loss: 0.9153 - accuracy: 0.6469 - val_loss: 0.9330 - val_accuracy: 0.6184\n",
            "Epoch 34/500\n",
            "104/104 [==============================] - 1s 5ms/step - loss: 0.8983 - accuracy: 0.6584 - val_loss: 0.8550 - val_accuracy: 0.6618\n",
            "Epoch 35/500\n",
            "104/104 [==============================] - 1s 5ms/step - loss: 0.8651 - accuracy: 0.6578 - val_loss: 1.0155 - val_accuracy: 0.5942\n",
            "Epoch 36/500\n",
            "104/104 [==============================] - 1s 5ms/step - loss: 0.8699 - accuracy: 0.6626 - val_loss: 0.9104 - val_accuracy: 0.6135\n",
            "Epoch 37/500\n",
            "104/104 [==============================] - 1s 5ms/step - loss: 0.8498 - accuracy: 0.6771 - val_loss: 0.8228 - val_accuracy: 0.6908\n",
            "Epoch 38/500\n",
            "104/104 [==============================] - 1s 5ms/step - loss: 0.8355 - accuracy: 0.6796 - val_loss: 0.8776 - val_accuracy: 0.6667\n",
            "Epoch 39/500\n",
            "104/104 [==============================] - 0s 5ms/step - loss: 0.8345 - accuracy: 0.6892 - val_loss: 0.9294 - val_accuracy: 0.6087\n",
            "Epoch 40/500\n",
            "104/104 [==============================] - 0s 5ms/step - loss: 0.8155 - accuracy: 0.6844 - val_loss: 0.9013 - val_accuracy: 0.5942\n",
            "Epoch 41/500\n",
            "104/104 [==============================] - 0s 5ms/step - loss: 0.8523 - accuracy: 0.6693 - val_loss: 0.9709 - val_accuracy: 0.5894\n",
            "Epoch 42/500\n",
            "104/104 [==============================] - 0s 5ms/step - loss: 0.8249 - accuracy: 0.6778 - val_loss: 0.9398 - val_accuracy: 0.5749\n",
            "Epoch 43/500\n",
            "104/104 [==============================] - 0s 5ms/step - loss: 0.8331 - accuracy: 0.6832 - val_loss: 1.1148 - val_accuracy: 0.5072\n",
            "Epoch 44/500\n",
            "104/104 [==============================] - 0s 5ms/step - loss: 0.7829 - accuracy: 0.7037 - val_loss: 0.9202 - val_accuracy: 0.6184\n",
            "Epoch 45/500\n",
            "104/104 [==============================] - 0s 5ms/step - loss: 0.8029 - accuracy: 0.6898 - val_loss: 0.9349 - val_accuracy: 0.6329\n",
            "Epoch 46/500\n",
            "104/104 [==============================] - 0s 5ms/step - loss: 0.7876 - accuracy: 0.6844 - val_loss: 0.9450 - val_accuracy: 0.6039\n",
            "Epoch 47/500\n",
            "104/104 [==============================] - 0s 5ms/step - loss: 0.7728 - accuracy: 0.7056 - val_loss: 0.8669 - val_accuracy: 0.6618\n",
            "Epoch 48/500\n",
            "104/104 [==============================] - 0s 5ms/step - loss: 0.7753 - accuracy: 0.7062 - val_loss: 0.8631 - val_accuracy: 0.6570\n",
            "Epoch 49/500\n",
            "104/104 [==============================] - 0s 5ms/step - loss: 0.7587 - accuracy: 0.7074 - val_loss: 0.9073 - val_accuracy: 0.6667\n",
            "Epoch 50/500\n",
            "104/104 [==============================] - 0s 5ms/step - loss: 0.7582 - accuracy: 0.7044 - val_loss: 0.8413 - val_accuracy: 0.6763\n",
            "Epoch 51/500\n",
            "104/104 [==============================] - 1s 5ms/step - loss: 0.7326 - accuracy: 0.7261 - val_loss: 0.8507 - val_accuracy: 0.6715\n",
            "Epoch 52/500\n",
            "104/104 [==============================] - 0s 5ms/step - loss: 0.7333 - accuracy: 0.7291 - val_loss: 0.8403 - val_accuracy: 0.6618\n",
            "Epoch 53/500\n",
            "104/104 [==============================] - 0s 5ms/step - loss: 0.7410 - accuracy: 0.7164 - val_loss: 0.8207 - val_accuracy: 0.6860\n",
            "Epoch 54/500\n",
            "104/104 [==============================] - 0s 5ms/step - loss: 0.7195 - accuracy: 0.7110 - val_loss: 0.8748 - val_accuracy: 0.6522\n",
            "Epoch 55/500\n",
            "104/104 [==============================] - 0s 5ms/step - loss: 0.7163 - accuracy: 0.7249 - val_loss: 0.8159 - val_accuracy: 0.6425\n",
            "Epoch 56/500\n",
            "104/104 [==============================] - 0s 5ms/step - loss: 0.7031 - accuracy: 0.7297 - val_loss: 0.8820 - val_accuracy: 0.6570\n",
            "Epoch 57/500\n",
            "104/104 [==============================] - 0s 5ms/step - loss: 0.7042 - accuracy: 0.7158 - val_loss: 0.8547 - val_accuracy: 0.6473\n",
            "Epoch 58/500\n",
            "104/104 [==============================] - 0s 5ms/step - loss: 0.6881 - accuracy: 0.7255 - val_loss: 0.8858 - val_accuracy: 0.6522\n",
            "Epoch 59/500\n",
            "104/104 [==============================] - 0s 5ms/step - loss: 0.7004 - accuracy: 0.7340 - val_loss: 0.8806 - val_accuracy: 0.6232\n",
            "Epoch 60/500\n",
            "104/104 [==============================] - 0s 5ms/step - loss: 0.6821 - accuracy: 0.7273 - val_loss: 0.8729 - val_accuracy: 0.6473\n",
            "Epoch 61/500\n",
            "104/104 [==============================] - 0s 5ms/step - loss: 0.6698 - accuracy: 0.7443 - val_loss: 0.8587 - val_accuracy: 0.6425\n",
            "Epoch 62/500\n",
            "104/104 [==============================] - 0s 5ms/step - loss: 0.6836 - accuracy: 0.7340 - val_loss: 0.8685 - val_accuracy: 0.6232\n",
            "Epoch 63/500\n",
            "104/104 [==============================] - 0s 5ms/step - loss: 0.6515 - accuracy: 0.7485 - val_loss: 0.7811 - val_accuracy: 0.6957\n",
            "Epoch 64/500\n",
            "104/104 [==============================] - 0s 5ms/step - loss: 0.6664 - accuracy: 0.7515 - val_loss: 0.8076 - val_accuracy: 0.7005\n",
            "Epoch 65/500\n",
            "104/104 [==============================] - 0s 5ms/step - loss: 0.6583 - accuracy: 0.7449 - val_loss: 0.9992 - val_accuracy: 0.5700\n",
            "Epoch 66/500\n",
            "104/104 [==============================] - 0s 5ms/step - loss: 0.6673 - accuracy: 0.7352 - val_loss: 0.9754 - val_accuracy: 0.6232\n",
            "Epoch 67/500\n",
            "104/104 [==============================] - 0s 5ms/step - loss: 0.6639 - accuracy: 0.7467 - val_loss: 0.8220 - val_accuracy: 0.6570\n",
            "Epoch 68/500\n",
            "104/104 [==============================] - 0s 5ms/step - loss: 0.6550 - accuracy: 0.7563 - val_loss: 0.9908 - val_accuracy: 0.5845\n",
            "Epoch 69/500\n",
            "104/104 [==============================] - 0s 5ms/step - loss: 0.6463 - accuracy: 0.7467 - val_loss: 0.8524 - val_accuracy: 0.6425\n",
            "Epoch 70/500\n",
            "104/104 [==============================] - 1s 6ms/step - loss: 0.6225 - accuracy: 0.7551 - val_loss: 0.9503 - val_accuracy: 0.5894\n",
            "Epoch 71/500\n",
            "104/104 [==============================] - 1s 5ms/step - loss: 0.6368 - accuracy: 0.7612 - val_loss: 0.7904 - val_accuracy: 0.6908\n",
            "Epoch 72/500\n",
            "104/104 [==============================] - 1s 6ms/step - loss: 0.5987 - accuracy: 0.7715 - val_loss: 0.8474 - val_accuracy: 0.6715\n",
            "Epoch 73/500\n",
            "104/104 [==============================] - 1s 5ms/step - loss: 0.6279 - accuracy: 0.7588 - val_loss: 0.8504 - val_accuracy: 0.6473\n",
            "Epoch 74/500\n",
            "104/104 [==============================] - 1s 5ms/step - loss: 0.5958 - accuracy: 0.7769 - val_loss: 0.7488 - val_accuracy: 0.7053\n",
            "Epoch 75/500\n",
            "104/104 [==============================] - 0s 5ms/step - loss: 0.6071 - accuracy: 0.7618 - val_loss: 0.8436 - val_accuracy: 0.6667\n",
            "Epoch 76/500\n",
            "104/104 [==============================] - 0s 5ms/step - loss: 0.5994 - accuracy: 0.7745 - val_loss: 0.8587 - val_accuracy: 0.6377\n",
            "Epoch 77/500\n",
            "104/104 [==============================] - 0s 5ms/step - loss: 0.5768 - accuracy: 0.7866 - val_loss: 0.9512 - val_accuracy: 0.6039\n",
            "Epoch 78/500\n",
            "104/104 [==============================] - 0s 5ms/step - loss: 0.5837 - accuracy: 0.7751 - val_loss: 0.9034 - val_accuracy: 0.6184\n",
            "Epoch 79/500\n",
            "104/104 [==============================] - 0s 5ms/step - loss: 0.5935 - accuracy: 0.7733 - val_loss: 0.7008 - val_accuracy: 0.7101\n",
            "Epoch 80/500\n",
            "104/104 [==============================] - 0s 5ms/step - loss: 0.5563 - accuracy: 0.7963 - val_loss: 0.8592 - val_accuracy: 0.6039\n",
            "Epoch 81/500\n",
            "104/104 [==============================] - 0s 5ms/step - loss: 0.5673 - accuracy: 0.7696 - val_loss: 0.7768 - val_accuracy: 0.6860\n",
            "Epoch 82/500\n",
            "104/104 [==============================] - 0s 5ms/step - loss: 0.5895 - accuracy: 0.7703 - val_loss: 0.7280 - val_accuracy: 0.7101\n",
            "Epoch 83/500\n",
            "104/104 [==============================] - 0s 5ms/step - loss: 0.5461 - accuracy: 0.7878 - val_loss: 0.8309 - val_accuracy: 0.6473\n",
            "Epoch 84/500\n",
            "104/104 [==============================] - 0s 5ms/step - loss: 0.5485 - accuracy: 0.7902 - val_loss: 0.9506 - val_accuracy: 0.6135\n",
            "Epoch 85/500\n",
            "104/104 [==============================] - 0s 5ms/step - loss: 0.5385 - accuracy: 0.7956 - val_loss: 0.7789 - val_accuracy: 0.6667\n",
            "Epoch 86/500\n",
            "104/104 [==============================] - 0s 5ms/step - loss: 0.5316 - accuracy: 0.7920 - val_loss: 0.7362 - val_accuracy: 0.7150\n",
            "Epoch 87/500\n",
            "104/104 [==============================] - 0s 5ms/step - loss: 0.5498 - accuracy: 0.7902 - val_loss: 0.7084 - val_accuracy: 0.7150\n",
            "Epoch 88/500\n",
            "104/104 [==============================] - 0s 5ms/step - loss: 0.5148 - accuracy: 0.8017 - val_loss: 0.9481 - val_accuracy: 0.6039\n",
            "Epoch 89/500\n",
            "104/104 [==============================] - 0s 5ms/step - loss: 0.5027 - accuracy: 0.8029 - val_loss: 0.6845 - val_accuracy: 0.7150\n",
            "Epoch 90/500\n",
            "104/104 [==============================] - 0s 5ms/step - loss: 0.5399 - accuracy: 0.8053 - val_loss: 0.8227 - val_accuracy: 0.6812\n",
            "Epoch 91/500\n",
            "104/104 [==============================] - 0s 5ms/step - loss: 0.5267 - accuracy: 0.7999 - val_loss: 0.6803 - val_accuracy: 0.7246\n",
            "Epoch 92/500\n",
            "104/104 [==============================] - 0s 5ms/step - loss: 0.5221 - accuracy: 0.8011 - val_loss: 0.7764 - val_accuracy: 0.6812\n",
            "Epoch 93/500\n",
            "104/104 [==============================] - 0s 5ms/step - loss: 0.5007 - accuracy: 0.8065 - val_loss: 0.7319 - val_accuracy: 0.6957\n",
            "Epoch 94/500\n",
            "104/104 [==============================] - 1s 5ms/step - loss: 0.5137 - accuracy: 0.8029 - val_loss: 0.6611 - val_accuracy: 0.7536\n",
            "Epoch 95/500\n",
            "104/104 [==============================] - 0s 5ms/step - loss: 0.4926 - accuracy: 0.8222 - val_loss: 0.7644 - val_accuracy: 0.6377\n",
            "Epoch 96/500\n",
            "104/104 [==============================] - 1s 5ms/step - loss: 0.4933 - accuracy: 0.8077 - val_loss: 0.7528 - val_accuracy: 0.6860\n",
            "Epoch 97/500\n",
            "104/104 [==============================] - 0s 5ms/step - loss: 0.5016 - accuracy: 0.8174 - val_loss: 0.8290 - val_accuracy: 0.6473\n",
            "Epoch 98/500\n",
            "104/104 [==============================] - 0s 5ms/step - loss: 0.4770 - accuracy: 0.8114 - val_loss: 0.7990 - val_accuracy: 0.6763\n",
            "Epoch 99/500\n",
            "104/104 [==============================] - 0s 5ms/step - loss: 0.4698 - accuracy: 0.8235 - val_loss: 0.7546 - val_accuracy: 0.6715\n",
            "Epoch 100/500\n",
            "104/104 [==============================] - 1s 5ms/step - loss: 0.4740 - accuracy: 0.8331 - val_loss: 0.8098 - val_accuracy: 0.6570\n",
            "Epoch 101/500\n",
            "104/104 [==============================] - 0s 5ms/step - loss: 0.4512 - accuracy: 0.8247 - val_loss: 0.7116 - val_accuracy: 0.7246\n",
            "Epoch 102/500\n",
            "104/104 [==============================] - 1s 5ms/step - loss: 0.4767 - accuracy: 0.8144 - val_loss: 0.9488 - val_accuracy: 0.6618\n",
            "Epoch 103/500\n",
            "104/104 [==============================] - 0s 5ms/step - loss: 0.4540 - accuracy: 0.8313 - val_loss: 0.6695 - val_accuracy: 0.7101\n",
            "Epoch 104/500\n",
            "104/104 [==============================] - 1s 5ms/step - loss: 0.4559 - accuracy: 0.8271 - val_loss: 0.7115 - val_accuracy: 0.7053\n",
            "Epoch 105/500\n",
            "104/104 [==============================] - 0s 5ms/step - loss: 0.4537 - accuracy: 0.8362 - val_loss: 0.8219 - val_accuracy: 0.6667\n",
            "Epoch 106/500\n",
            "104/104 [==============================] - 1s 5ms/step - loss: 0.4429 - accuracy: 0.8289 - val_loss: 0.6771 - val_accuracy: 0.7440\n",
            "Epoch 107/500\n",
            "104/104 [==============================] - 0s 5ms/step - loss: 0.4254 - accuracy: 0.8368 - val_loss: 0.7595 - val_accuracy: 0.6763\n",
            "Epoch 108/500\n",
            "104/104 [==============================] - 1s 5ms/step - loss: 0.4605 - accuracy: 0.8235 - val_loss: 0.8205 - val_accuracy: 0.7053\n",
            "Epoch 109/500\n",
            "104/104 [==============================] - 1s 5ms/step - loss: 0.4165 - accuracy: 0.8404 - val_loss: 0.6569 - val_accuracy: 0.7488\n",
            "Epoch 110/500\n",
            "104/104 [==============================] - 0s 5ms/step - loss: 0.4523 - accuracy: 0.8247 - val_loss: 0.7451 - val_accuracy: 0.7150\n",
            "Epoch 111/500\n",
            "104/104 [==============================] - 0s 5ms/step - loss: 0.4450 - accuracy: 0.8301 - val_loss: 0.6702 - val_accuracy: 0.7198\n",
            "Epoch 112/500\n",
            "104/104 [==============================] - 1s 5ms/step - loss: 0.4255 - accuracy: 0.8440 - val_loss: 0.6192 - val_accuracy: 0.7729\n",
            "Epoch 113/500\n",
            "104/104 [==============================] - 1s 5ms/step - loss: 0.4282 - accuracy: 0.8356 - val_loss: 0.7427 - val_accuracy: 0.7295\n",
            "Epoch 114/500\n",
            "104/104 [==============================] - 1s 5ms/step - loss: 0.4191 - accuracy: 0.8501 - val_loss: 0.6746 - val_accuracy: 0.7246\n",
            "Epoch 115/500\n",
            "104/104 [==============================] - 0s 5ms/step - loss: 0.4417 - accuracy: 0.8362 - val_loss: 0.6849 - val_accuracy: 0.6957\n",
            "Epoch 116/500\n",
            "104/104 [==============================] - 0s 5ms/step - loss: 0.3967 - accuracy: 0.8567 - val_loss: 0.6636 - val_accuracy: 0.7440\n",
            "Epoch 117/500\n",
            "104/104 [==============================] - 0s 5ms/step - loss: 0.4089 - accuracy: 0.8452 - val_loss: 0.7120 - val_accuracy: 0.7246\n",
            "Epoch 118/500\n",
            "104/104 [==============================] - 0s 5ms/step - loss: 0.3966 - accuracy: 0.8579 - val_loss: 0.6965 - val_accuracy: 0.7053\n",
            "Epoch 119/500\n",
            "104/104 [==============================] - 0s 5ms/step - loss: 0.3982 - accuracy: 0.8434 - val_loss: 0.7011 - val_accuracy: 0.7246\n",
            "Epoch 120/500\n",
            "104/104 [==============================] - 0s 5ms/step - loss: 0.3793 - accuracy: 0.8658 - val_loss: 0.6206 - val_accuracy: 0.7246\n",
            "Epoch 121/500\n",
            "104/104 [==============================] - 0s 5ms/step - loss: 0.4055 - accuracy: 0.8464 - val_loss: 0.7281 - val_accuracy: 0.7440\n",
            "Epoch 122/500\n",
            "104/104 [==============================] - 0s 5ms/step - loss: 0.3732 - accuracy: 0.8597 - val_loss: 0.6702 - val_accuracy: 0.7343\n",
            "Epoch 123/500\n",
            "104/104 [==============================] - 0s 5ms/step - loss: 0.3727 - accuracy: 0.8555 - val_loss: 0.6252 - val_accuracy: 0.7536\n",
            "Epoch 124/500\n",
            "104/104 [==============================] - 0s 5ms/step - loss: 0.3890 - accuracy: 0.8694 - val_loss: 0.7575 - val_accuracy: 0.6860\n",
            "Epoch 125/500\n",
            "104/104 [==============================] - 0s 5ms/step - loss: 0.3750 - accuracy: 0.8628 - val_loss: 0.6626 - val_accuracy: 0.7391\n",
            "Epoch 126/500\n",
            "104/104 [==============================] - 0s 5ms/step - loss: 0.3652 - accuracy: 0.8646 - val_loss: 0.7139 - val_accuracy: 0.7198\n",
            "Epoch 127/500\n",
            "104/104 [==============================] - 0s 5ms/step - loss: 0.3787 - accuracy: 0.8549 - val_loss: 0.6723 - val_accuracy: 0.7198\n",
            "Epoch 128/500\n",
            "104/104 [==============================] - 0s 5ms/step - loss: 0.3816 - accuracy: 0.8585 - val_loss: 0.6333 - val_accuracy: 0.7633\n",
            "Epoch 129/500\n",
            "104/104 [==============================] - 0s 5ms/step - loss: 0.3833 - accuracy: 0.8646 - val_loss: 0.6485 - val_accuracy: 0.7585\n",
            "Epoch 130/500\n",
            "104/104 [==============================] - 0s 5ms/step - loss: 0.3633 - accuracy: 0.8646 - val_loss: 0.7618 - val_accuracy: 0.7246\n",
            "Epoch 131/500\n",
            "104/104 [==============================] - 0s 5ms/step - loss: 0.3667 - accuracy: 0.8706 - val_loss: 0.7697 - val_accuracy: 0.7246\n",
            "Epoch 132/500\n",
            "104/104 [==============================] - 0s 5ms/step - loss: 0.3684 - accuracy: 0.8658 - val_loss: 0.5842 - val_accuracy: 0.7874\n",
            "Epoch 133/500\n",
            "104/104 [==============================] - 0s 5ms/step - loss: 0.3624 - accuracy: 0.8676 - val_loss: 0.7038 - val_accuracy: 0.7440\n",
            "Epoch 134/500\n",
            "104/104 [==============================] - 0s 5ms/step - loss: 0.3458 - accuracy: 0.8767 - val_loss: 0.6892 - val_accuracy: 0.7343\n",
            "Epoch 135/500\n",
            "104/104 [==============================] - 0s 5ms/step - loss: 0.3552 - accuracy: 0.8676 - val_loss: 0.6326 - val_accuracy: 0.7488\n",
            "Epoch 136/500\n",
            "104/104 [==============================] - 0s 5ms/step - loss: 0.3295 - accuracy: 0.8821 - val_loss: 0.6886 - val_accuracy: 0.7488\n",
            "Epoch 137/500\n",
            "104/104 [==============================] - 0s 5ms/step - loss: 0.3475 - accuracy: 0.8761 - val_loss: 0.6648 - val_accuracy: 0.7633\n",
            "Epoch 138/500\n",
            "104/104 [==============================] - 0s 5ms/step - loss: 0.3662 - accuracy: 0.8585 - val_loss: 0.6952 - val_accuracy: 0.7343\n",
            "Epoch 139/500\n",
            "104/104 [==============================] - 0s 5ms/step - loss: 0.3468 - accuracy: 0.8688 - val_loss: 0.6173 - val_accuracy: 0.7874\n",
            "Epoch 140/500\n",
            "104/104 [==============================] - 0s 5ms/step - loss: 0.3370 - accuracy: 0.8755 - val_loss: 0.6551 - val_accuracy: 0.7729\n",
            "Epoch 141/500\n",
            "104/104 [==============================] - 0s 5ms/step - loss: 0.3377 - accuracy: 0.8767 - val_loss: 0.5927 - val_accuracy: 0.7488\n",
            "Epoch 142/500\n",
            "104/104 [==============================] - 0s 5ms/step - loss: 0.3529 - accuracy: 0.8597 - val_loss: 0.7459 - val_accuracy: 0.7101\n",
            "Epoch 143/500\n",
            "104/104 [==============================] - 0s 5ms/step - loss: 0.3293 - accuracy: 0.8748 - val_loss: 0.6782 - val_accuracy: 0.7246\n",
            "Epoch 144/500\n",
            "104/104 [==============================] - 0s 5ms/step - loss: 0.3230 - accuracy: 0.8900 - val_loss: 0.6011 - val_accuracy: 0.7778\n",
            "Epoch 145/500\n",
            "104/104 [==============================] - 0s 5ms/step - loss: 0.3112 - accuracy: 0.8918 - val_loss: 0.6608 - val_accuracy: 0.7585\n",
            "Epoch 146/500\n",
            "104/104 [==============================] - 0s 5ms/step - loss: 0.3123 - accuracy: 0.8845 - val_loss: 0.5525 - val_accuracy: 0.7874\n",
            "Epoch 147/500\n",
            "104/104 [==============================] - 0s 5ms/step - loss: 0.3166 - accuracy: 0.8936 - val_loss: 0.6729 - val_accuracy: 0.7585\n",
            "Epoch 148/500\n",
            "104/104 [==============================] - 0s 5ms/step - loss: 0.3119 - accuracy: 0.8906 - val_loss: 0.6099 - val_accuracy: 0.7633\n",
            "Epoch 149/500\n",
            "104/104 [==============================] - 1s 5ms/step - loss: 0.3042 - accuracy: 0.8900 - val_loss: 0.8295 - val_accuracy: 0.6763\n",
            "Epoch 150/500\n",
            "104/104 [==============================] - 0s 5ms/step - loss: 0.3106 - accuracy: 0.8900 - val_loss: 0.7212 - val_accuracy: 0.7246\n",
            "Epoch 151/500\n",
            "104/104 [==============================] - 0s 5ms/step - loss: 0.3005 - accuracy: 0.8863 - val_loss: 0.6116 - val_accuracy: 0.7681\n",
            "Epoch 152/500\n",
            "104/104 [==============================] - 0s 5ms/step - loss: 0.3269 - accuracy: 0.8827 - val_loss: 0.8142 - val_accuracy: 0.7005\n",
            "Epoch 153/500\n",
            "104/104 [==============================] - 0s 5ms/step - loss: 0.2815 - accuracy: 0.8936 - val_loss: 0.6704 - val_accuracy: 0.7681\n",
            "Epoch 154/500\n",
            "104/104 [==============================] - 0s 5ms/step - loss: 0.3166 - accuracy: 0.8857 - val_loss: 0.6194 - val_accuracy: 0.7536\n",
            "Epoch 155/500\n",
            "104/104 [==============================] - 0s 5ms/step - loss: 0.2949 - accuracy: 0.8942 - val_loss: 0.5688 - val_accuracy: 0.7585\n",
            "Epoch 156/500\n",
            "104/104 [==============================] - 0s 5ms/step - loss: 0.3009 - accuracy: 0.8797 - val_loss: 0.6835 - val_accuracy: 0.7295\n",
            "Epoch 157/500\n",
            "104/104 [==============================] - 0s 5ms/step - loss: 0.2812 - accuracy: 0.8954 - val_loss: 0.9820 - val_accuracy: 0.6232\n",
            "Epoch 158/500\n",
            "104/104 [==============================] - 0s 5ms/step - loss: 0.2722 - accuracy: 0.9027 - val_loss: 0.5880 - val_accuracy: 0.7729\n",
            "Epoch 159/500\n",
            "104/104 [==============================] - 0s 5ms/step - loss: 0.3016 - accuracy: 0.8924 - val_loss: 0.6716 - val_accuracy: 0.7536\n",
            "Epoch 160/500\n",
            "104/104 [==============================] - 0s 5ms/step - loss: 0.2977 - accuracy: 0.8990 - val_loss: 0.6081 - val_accuracy: 0.7729\n",
            "Epoch 161/500\n",
            "104/104 [==============================] - 0s 5ms/step - loss: 0.3011 - accuracy: 0.8966 - val_loss: 0.6027 - val_accuracy: 0.7633\n",
            "Epoch 162/500\n",
            "104/104 [==============================] - 0s 5ms/step - loss: 0.2526 - accuracy: 0.9045 - val_loss: 0.7197 - val_accuracy: 0.7633\n",
            "Epoch 163/500\n",
            "104/104 [==============================] - 0s 5ms/step - loss: 0.2916 - accuracy: 0.8894 - val_loss: 0.6390 - val_accuracy: 0.7633\n",
            "Epoch 164/500\n",
            "104/104 [==============================] - 0s 5ms/step - loss: 0.2783 - accuracy: 0.9057 - val_loss: 0.6479 - val_accuracy: 0.7826\n",
            "Epoch 165/500\n",
            "104/104 [==============================] - 0s 5ms/step - loss: 0.2802 - accuracy: 0.8984 - val_loss: 0.5552 - val_accuracy: 0.7874\n",
            "Epoch 166/500\n",
            "104/104 [==============================] - 0s 5ms/step - loss: 0.2680 - accuracy: 0.9045 - val_loss: 0.5821 - val_accuracy: 0.7681\n",
            "Epoch 167/500\n",
            "104/104 [==============================] - 0s 5ms/step - loss: 0.2715 - accuracy: 0.9051 - val_loss: 0.6148 - val_accuracy: 0.7874\n",
            "Epoch 168/500\n",
            "104/104 [==============================] - 0s 5ms/step - loss: 0.2704 - accuracy: 0.8966 - val_loss: 0.6173 - val_accuracy: 0.7681\n",
            "Epoch 169/500\n",
            "104/104 [==============================] - 0s 5ms/step - loss: 0.2792 - accuracy: 0.8948 - val_loss: 0.8168 - val_accuracy: 0.6860\n",
            "Epoch 170/500\n",
            "104/104 [==============================] - 0s 5ms/step - loss: 0.2667 - accuracy: 0.9045 - val_loss: 0.7277 - val_accuracy: 0.7391\n",
            "Epoch 171/500\n",
            "104/104 [==============================] - 0s 5ms/step - loss: 0.2594 - accuracy: 0.9105 - val_loss: 0.6067 - val_accuracy: 0.7826\n"
          ]
        }
      ]
    },
    {
      "cell_type": "code",
      "source": [
        "plt.plot(cnnhistory.history['loss'])\n",
        "plt.plot(cnnhistory.history['val_loss'])\n",
        "plt.title('model loss')\n",
        "plt.ylabel('loss')\n",
        "plt.xlabel('epoch')\n",
        "plt.legend(['train','test'], loc='upper left')\n",
        "plt.show()"
      ],
      "metadata": {
        "id": "oQYnuaCrDH_A",
        "colab": {
          "base_uri": "https://localhost:8080/",
          "height": 295
        },
        "outputId": "5f9f1eb0-fdbe-4070-9f23-9dfc23c8f547"
      },
      "execution_count": 15,
      "outputs": [
        {
          "output_type": "display_data",
          "data": {
            "text/plain": [
              "<Figure size 432x288 with 1 Axes>"
            ],
            "image/png": "[encoded data removed]"
          },
          "metadata": {
            "needs_background": "light"
          }
        }
      ]
    },
    {
      "cell_type": "code",
      "source": [
        "plt.plot(cnnhistory.history['accuracy'])\n",
        "plt.plot(cnnhistory.history['val_accuracy'])\n",
        "plt.title('model accuracy')\n",
        "plt.ylabel('accuracy')\n",
        "plt.xlabel('epoch')\n",
        "plt.legend(['train','test'], loc='upper left')\n",
        "plt.show()"
      ],
      "metadata": {
        "id": "IFkTuO8nDNdq",
        "colab": {
          "base_uri": "https://localhost:8080/",
          "height": 295
        },
        "outputId": "da14f830-e09a-4500-eecb-71defc6618c5"
      },
      "execution_count": 16,
      "outputs": [
        {
          "output_type": "display_data",
          "data": {
            "text/plain": [
              "<Figure size 432x288 with 1 Axes>"
            ],
            "image/png": "[encoded data removed]"
          },
          "metadata": {
            "needs_background": "light"
          }
        }
      ]
    },
    {
      "cell_type": "code",
      "source": [
        "predictions = model.predict(x_testcnn)"
      ],
      "metadata": {
        "id": "A2xtrN5wDQgY"
      },
      "execution_count": 17,
      "outputs": []
    },
    {
      "cell_type": "code",
      "source": [
        "predictions"
      ],
      "metadata": {
        "id": "_f_ohjXKDUpY",
        "colab": {
          "base_uri": "https://localhost:8080/"
        },
        "outputId": "d5bf3abf-bab2-4364-b809-ef31dc49713d"
      },
      "execution_count": 18,
      "outputs": [
        {
          "output_type": "execute_result",
          "data": {
            "text/plain": [
              "array([[1.0593910e-01, 1.5306690e-02, 2.9896551e-01, 2.1846186e-01,\n",
              "        2.4544431e-01, 1.1588247e-01],\n",
              "       [4.6410094e-04, 7.3214687e-05, 7.3794581e-06, 9.8564470e-01,\n",
              "        1.0928934e-05, 1.3799680e-02],\n",
              "       [2.5473070e-01, 1.2950739e-01, 8.3602406e-03, 5.6424820e-01,\n",
              "        7.3984783e-04, 4.2413622e-02],\n",
              "       ...,\n",
              "       [4.6306784e-05, 3.8877991e-07, 9.6501457e-04, 7.1279967e-05,\n",
              "        9.9777812e-01, 1.1388530e-03],\n",
              "       [2.7377653e-04, 4.2296749e-01, 5.4117572e-01, 6.1657996e-04,\n",
              "        3.2090258e-02, 2.8761737e-03],\n",
              "       [1.8121609e-03, 1.1058533e-04, 3.2063100e-02, 1.2016392e-03,\n",
              "        9.5384544e-01, 1.0967078e-02]], dtype=float32)"
            ]
          },
          "metadata": {},
          "execution_count": 18
        }
      ]
    },
    {
      "cell_type": "code",
      "source": [
        "y_test"
      ],
      "metadata": {
        "id": "cmA2bFgsDW3D",
        "colab": {
          "base_uri": "https://localhost:8080/"
        },
        "outputId": "f65c2f3c-e997-46f8-95c4-ea4c61907783"
      },
      "execution_count": 19,
      "outputs": [
        {
          "output_type": "execute_result",
          "data": {
            "text/plain": [
              "array([3, 3, 3, 0, 4, 4, 1, 2, 5, 0, 5, 3, 2, 2, 1, 4, 4, 5, 2, 4, 1, 2,\n",
              "       3, 5, 4, 2, 1, 2, 2, 2, 2, 5, 2, 5, 3, 1, 2, 0, 4, 5, 2, 3, 2, 2,\n",
              "       5, 2, 0, 1, 3, 4, 4, 5, 1, 1, 4, 4, 5, 1, 1, 1, 0, 1, 5, 0, 4, 1,\n",
              "       1, 0, 1, 4, 1, 0, 4, 1, 3, 1, 2, 2, 1, 2, 3, 0, 5, 3, 5, 5, 2, 4,\n",
              "       5, 1, 5, 1, 5, 3, 4, 1, 4, 1, 5, 4, 5, 1, 2, 1, 1, 5, 1, 3, 2, 5,\n",
              "       2, 1, 3, 5, 4, 4, 0, 0, 3, 1, 2, 2, 3, 5, 1, 5, 3, 4, 2, 2, 0, 2,\n",
              "       2, 5, 5, 0, 3, 3, 2, 2, 0, 3, 4, 0, 4, 2, 4, 5, 4, 1, 5, 3, 2, 2,\n",
              "       5, 4, 3, 3, 4, 3, 3, 4, 1, 5, 2, 3, 2, 2, 0, 2, 1, 3, 1, 2, 2, 5,\n",
              "       5, 1, 4, 2, 2, 1, 1, 3, 3, 5, 5, 2, 5, 1, 5, 0, 3, 3, 0, 5, 1, 4,\n",
              "       1, 4, 2, 5, 5, 1, 4, 2, 4])"
            ]
          },
          "metadata": {},
          "execution_count": 19
        }
      ]
    },
    {
      "cell_type": "code",
      "source": [
        "new_Ytest = y_test.astype(int)"
      ],
      "metadata": {
        "id": "0PHDKWJWDY3g"
      },
      "execution_count": 20,
      "outputs": []
    },
    {
      "cell_type": "code",
      "source": [
        "new_Ytest"
      ],
      "metadata": {
        "id": "k68v2i-pDbZE",
        "colab": {
          "base_uri": "https://localhost:8080/"
        },
        "outputId": "8e82b74e-fa32-4139-c158-5309e1fdd42a"
      },
      "execution_count": 21,
      "outputs": [
        {
          "output_type": "execute_result",
          "data": {
            "text/plain": [
              "array([3, 3, 3, 0, 4, 4, 1, 2, 5, 0, 5, 3, 2, 2, 1, 4, 4, 5, 2, 4, 1, 2,\n",
              "       3, 5, 4, 2, 1, 2, 2, 2, 2, 5, 2, 5, 3, 1, 2, 0, 4, 5, 2, 3, 2, 2,\n",
              "       5, 2, 0, 1, 3, 4, 4, 5, 1, 1, 4, 4, 5, 1, 1, 1, 0, 1, 5, 0, 4, 1,\n",
              "       1, 0, 1, 4, 1, 0, 4, 1, 3, 1, 2, 2, 1, 2, 3, 0, 5, 3, 5, 5, 2, 4,\n",
              "       5, 1, 5, 1, 5, 3, 4, 1, 4, 1, 5, 4, 5, 1, 2, 1, 1, 5, 1, 3, 2, 5,\n",
              "       2, 1, 3, 5, 4, 4, 0, 0, 3, 1, 2, 2, 3, 5, 1, 5, 3, 4, 2, 2, 0, 2,\n",
              "       2, 5, 5, 0, 3, 3, 2, 2, 0, 3, 4, 0, 4, 2, 4, 5, 4, 1, 5, 3, 2, 2,\n",
              "       5, 4, 3, 3, 4, 3, 3, 4, 1, 5, 2, 3, 2, 2, 0, 2, 1, 3, 1, 2, 2, 5,\n",
              "       5, 1, 4, 2, 2, 1, 1, 3, 3, 5, 5, 2, 5, 1, 5, 0, 3, 3, 0, 5, 1, 4,\n",
              "       1, 4, 2, 5, 5, 1, 4, 2, 4])"
            ]
          },
          "metadata": {},
          "execution_count": 21
        }
      ]
    },
    {
      "cell_type": "code",
      "source": [
        "preds1=predictions.argmax(axis=1)\n",
        "preds1"
      ],
      "metadata": {
        "id": "4_cAI39VFhtp",
        "colab": {
          "base_uri": "https://localhost:8080/"
        },
        "outputId": "a9130068-bc58-43bb-f966-a8fb00914765"
      },
      "execution_count": 22,
      "outputs": [
        {
          "output_type": "execute_result",
          "data": {
            "text/plain": [
              "array([2, 3, 3, 0, 4, 4, 1, 2, 5, 1, 5, 3, 2, 2, 0, 4, 4, 5, 4, 4, 0, 2,\n",
              "       3, 5, 5, 2, 1, 0, 4, 2, 2, 5, 2, 5, 3, 1, 2, 0, 4, 5, 2, 3, 2, 2,\n",
              "       5, 2, 1, 1, 3, 4, 4, 5, 1, 1, 4, 4, 5, 1, 3, 1, 0, 1, 2, 2, 4, 1,\n",
              "       1, 1, 1, 4, 1, 0, 4, 1, 5, 1, 2, 2, 1, 2, 1, 0, 5, 3, 5, 5, 2, 4,\n",
              "       3, 1, 5, 2, 5, 3, 4, 1, 4, 0, 5, 4, 5, 1, 2, 1, 1, 5, 1, 2, 2, 5,\n",
              "       5, 3, 3, 5, 4, 4, 0, 0, 3, 1, 1, 2, 1, 5, 0, 5, 3, 2, 2, 2, 0, 4,\n",
              "       2, 3, 3, 0, 5, 3, 2, 4, 0, 5, 4, 0, 4, 2, 4, 2, 4, 1, 5, 3, 2, 2,\n",
              "       5, 4, 3, 3, 4, 5, 3, 4, 1, 5, 2, 3, 2, 2, 0, 2, 0, 3, 1, 4, 4, 3,\n",
              "       5, 0, 4, 2, 4, 1, 1, 3, 3, 5, 5, 2, 5, 0, 2, 1, 3, 3, 0, 2, 1, 4,\n",
              "       1, 4, 3, 5, 4, 1, 4, 2, 4])"
            ]
          },
          "metadata": {},
          "execution_count": 22
        }
      ]
    },
    {
      "cell_type": "code",
      "source": [
        "abc = preds1.astype(int).flatten()"
      ],
      "metadata": {
        "id": "H4WEmM60NfQn"
      },
      "execution_count": 23,
      "outputs": []
    },
    {
      "cell_type": "code",
      "source": [
        "from sklearn.metrics import confusion_matrix\n",
        "c = confusion_matrix(new_Ytest, abc) \n",
        "c"
      ],
      "metadata": {
        "id": "bKEBeEBlFjB8",
        "colab": {
          "base_uri": "https://localhost:8080/"
        },
        "outputId": "2a566279-e829-421b-fb10-543349bc9922"
      },
      "execution_count": 24,
      "outputs": [
        {
          "output_type": "execute_result",
          "data": {
            "text/plain": [
              "array([[13,  4,  1,  0,  0,  0],\n",
              "       [ 7, 31,  1,  2,  0,  0],\n",
              "       [ 1,  1, 34,  1,  7,  1],\n",
              "       [ 0,  2,  2, 23,  0,  4],\n",
              "       [ 0,  0,  1,  0, 31,  1],\n",
              "       [ 0,  0,  4,  4,  1, 30]])"
            ]
          },
          "metadata": {},
          "execution_count": 24
        }
      ]
    },
    {
      "cell_type": "code",
      "source": [
        "y_test"
      ],
      "metadata": {
        "id": "m4RjG7LWLSQx",
        "colab": {
          "base_uri": "https://localhost:8080/"
        },
        "outputId": "0dd164ef-58ed-41dd-d9f8-cf9dd5d4f177"
      },
      "execution_count": 25,
      "outputs": [
        {
          "output_type": "execute_result",
          "data": {
            "text/plain": [
              "array([3, 3, 3, 0, 4, 4, 1, 2, 5, 0, 5, 3, 2, 2, 1, 4, 4, 5, 2, 4, 1, 2,\n",
              "       3, 5, 4, 2, 1, 2, 2, 2, 2, 5, 2, 5, 3, 1, 2, 0, 4, 5, 2, 3, 2, 2,\n",
              "       5, 2, 0, 1, 3, 4, 4, 5, 1, 1, 4, 4, 5, 1, 1, 1, 0, 1, 5, 0, 4, 1,\n",
              "       1, 0, 1, 4, 1, 0, 4, 1, 3, 1, 2, 2, 1, 2, 3, 0, 5, 3, 5, 5, 2, 4,\n",
              "       5, 1, 5, 1, 5, 3, 4, 1, 4, 1, 5, 4, 5, 1, 2, 1, 1, 5, 1, 3, 2, 5,\n",
              "       2, 1, 3, 5, 4, 4, 0, 0, 3, 1, 2, 2, 3, 5, 1, 5, 3, 4, 2, 2, 0, 2,\n",
              "       2, 5, 5, 0, 3, 3, 2, 2, 0, 3, 4, 0, 4, 2, 4, 5, 4, 1, 5, 3, 2, 2,\n",
              "       5, 4, 3, 3, 4, 3, 3, 4, 1, 5, 2, 3, 2, 2, 0, 2, 1, 3, 1, 2, 2, 5,\n",
              "       5, 1, 4, 2, 2, 1, 1, 3, 3, 5, 5, 2, 5, 1, 5, 0, 3, 3, 0, 5, 1, 4,\n",
              "       1, 4, 2, 5, 5, 1, 4, 2, 4])"
            ]
          },
          "metadata": {},
          "execution_count": 25
        }
      ]
    },
    {
      "cell_type": "code",
      "source": [
        "loss, acc =model.evaluate(x_testcnn, y_test)\n",
        "print(\"Restored model, accuracy: {:5.2f}%\".format(100*acc))"
      ],
      "metadata": {
        "id": "n3kzoqPkDqqS",
        "colab": {
          "base_uri": "https://localhost:8080/"
        },
        "outputId": "213d54a2-cb2c-41ce-bea2-27b811ab13b9"
      },
      "execution_count": 26,
      "outputs": [
        {
          "output_type": "stream",
          "name": "stdout",
          "text": [
            "7/7 [==============================] - 0s 3ms/step - loss: 0.5721 - accuracy: 0.7826\n",
            "Restored model, accuracy: 78.26%\n"
          ]
        }
      ]
    },
    {
      "cell_type": "code",
      "source": [
        "loss, acc =model.evaluate(X_train, y_train)\n",
        "print(\"Restored model train, accuracy: {:5.2f}%\".format(100*acc))"
      ],
      "metadata": {
        "id": "fJDTGH_OUX0z",
        "colab": {
          "base_uri": "https://localhost:8080/"
        },
        "outputId": "2059fceb-7cdc-44f5-aa01-47ac0e72d863"
      },
      "execution_count": 27,
      "outputs": [
        {
          "output_type": "stream",
          "name": "stdout",
          "text": [
            "52/52 [==============================] - 0s 3ms/step - loss: 0.2203 - accuracy: 0.9613\n",
            "Restored model train, accuracy: 96.13%\n"
          ]
        }
      ]
    },
    {
      "cell_type": "code",
      "source": [
        "from sklearn.metrics import classification_report, confusion_matrix,accuracy_score\n",
        "import seaborn as sn\n",
        "\n",
        "print(classification_report(new_Ytest,abc))\n",
        "\n",
        "acc = float(accuracy_score(new_Ytest,abc))*100\n",
        "print(\"----accuracy score %s ----\" % acc)\n",
        "\n",
        "cm = confusion_matrix(new_Ytest,abc)\n",
        "#df_cm = pd.DataFrame(cm)\n",
        "class_names = ['neutral','calm', 'happy','sad','angry', 'fearful' ]\n",
        "df_cm = pd.DataFrame(cm, index=class_names, columns=class_names,)\n",
        "sn.heatmap(df_cm, annot=True, fmt='')\n",
        "plt.show()"
      ],
      "metadata": {
        "id": "SfSC3El94LZg",
        "colab": {
          "base_uri": "https://localhost:8080/",
          "height": 521
        },
        "outputId": "f4530370-faf1-4335-8107-8f611fe23edf"
      },
      "execution_count": 28,
      "outputs": [
        {
          "output_type": "stream",
          "name": "stdout",
          "text": [
            "              precision    recall  f1-score   support\n",
            "\n",
            "           0       0.62      0.72      0.67        18\n",
            "           1       0.82      0.76      0.78        41\n",
            "           2       0.79      0.76      0.77        45\n",
            "           3       0.77      0.74      0.75        31\n",
            "           4       0.79      0.94      0.86        33\n",
            "           5       0.83      0.77      0.80        39\n",
            "\n",
            "    accuracy                           0.78       207\n",
            "   macro avg       0.77      0.78      0.77       207\n",
            "weighted avg       0.79      0.78      0.78       207\n",
            "\n",
            "----accuracy score 78.26086956521739 ----\n"
          ]
        },
        {
          "output_type": "display_data",
          "data": {
            "text/plain": [
              "<Figure size 432x288 with 2 Axes>"
            ],
            "image/png": "[encoded data removed]"
          },
          "metadata": {
            "needs_background": "light"
          }
        }
      ]
    }
  ]
}