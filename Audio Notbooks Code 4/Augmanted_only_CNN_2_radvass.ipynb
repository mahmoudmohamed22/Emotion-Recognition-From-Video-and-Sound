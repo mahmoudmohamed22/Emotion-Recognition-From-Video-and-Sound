{
  "nbformat": 4,
  "nbformat_minor": 0,
  "metadata": {
    "colab": {
      "name": "Augmanted_only_CNN_2_radvass.ipynb",
      "provenance": [],
      "collapsed_sections": []
    },
    "kernelspec": {
      "name": "python3",
      "display_name": "Python 3"
    },
    "language_info": {
      "name": "python"
    }
  },
  "cells": [
    {
      "cell_type": "code",
      "execution_count": null,
      "metadata": {
        "colab": {
          "base_uri": "https://localhost:8080/"
        },
        "id": "9SRCO-a_AlH5",
        "outputId": "1151f6bd-f5a9-4a0b-f961-5c608245d9a6"
      },
      "outputs": [
        {
          "output_type": "stream",
          "name": "stdout",
          "text": [
            "Mounted at /content/drive\n"
          ]
        }
      ],
      "source": [
        "from google.colab import drive\n",
        "drive.mount('/content/drive')"
      ]
    },
    {
      "cell_type": "code",
      "metadata": {
        "id": "HJjcbxwy46bG",
        "colab": {
          "base_uri": "https://localhost:8080/",
          "height": 17
        },
        "outputId": "e4ea2b70-cc62-4ced-b3d8-9345dc83ecd8"
      },
      "source": [
        "# Orignial Notebook: https://github.com/MITESHPUTHRANNEU/Speech-Emotion-Analyzer/blob/master/final_results_gender_test.ipynb\n",
        "# This notebook author: Reza Chu\n",
        "# Last Editing Date: 31st May 2019\n",
        "\n",
        "## Python\n",
        "import os\n",
        "import random\n",
        "import sys\n",
        "\n",
        "import IPython\n",
        "from IPython.display import Audio\n",
        "from IPython.display import Image\n",
        "import matplotlib.pyplot as plt\n",
        "\n",
        "## Package\n",
        "import glob \n",
        "import keras\n",
        "import IPython.display as ipd\n",
        "import librosa\n",
        "import librosa.display\n",
        "import matplotlib.pyplot as plt\n",
        "import numpy as np\n",
        "import pandas as pd\n",
        "import plotly.graph_objs as go\n",
        "import plotly.offline as py\n",
        "import plotly.tools as tls\n",
        "import seaborn as sns\n",
        "import scipy.io.wavfile\n",
        "import tensorflow as tf\n",
        "py.init_notebook_mode(connected=True)\n",
        "\n",
        "## Keras\n",
        "from keras import regularizers\n",
        "from keras.callbacks import ModelCheckpoint, LearningRateScheduler, EarlyStopping\n",
        "from keras.callbacks import  History, ReduceLROnPlateau, CSVLogger\n",
        "from keras.models import Model, Sequential\n",
        "from keras.layers import Dense, Embedding, LSTM\n",
        "from keras.layers import Input, Flatten, Dropout, Activation, BatchNormalization\n",
        "from keras.layers import Conv1D, MaxPooling1D, AveragePooling1D\n",
        "from keras.preprocessing import sequence\n",
        "from keras.preprocessing.sequence import pad_sequences\n",
        "from keras.preprocessing.text import Tokenizer\n",
        "from keras.utils import np_utils\n",
        "from tensorflow.keras.utils import to_categorical\n",
        "\n",
        "## Sklearn\n",
        "from sklearn.metrics import confusion_matrix\n",
        "from sklearn.preprocessing import LabelEncoder\n",
        "\n",
        "## Rest\n",
        "from scipy.fftpack import fft\n",
        "from scipy import signal\n",
        "from scipy.io import wavfile\n",
        "from tqdm import tqdm\n",
        "\n",
        "input_duration=3\n",
        "# % pylab inline"
      ],
      "execution_count": null,
      "outputs": [
        {
          "output_type": "display_data",
          "data": {
            "text/html": [
              "        <script type=\"text/javascript\">\n",
              "        window.PlotlyConfig = {MathJaxConfig: 'local'};\n",
              "        if (window.MathJax) {MathJax.Hub.Config({SVG: {font: \"STIX-Web\"}});}\n",
              "        if (typeof require !== 'undefined') {\n",
              "        require.undef(\"plotly\");\n",
              "        requirejs.config({\n",
              "            paths: {\n",
              "                'plotly': ['https://cdn.plot.ly/plotly-2.8.3.min']\n",
              "            }\n",
              "        });\n",
              "        require(['plotly'], function(Plotly) {\n",
              "            window._Plotly = Plotly;\n",
              "        });\n",
              "        }\n",
              "        </script>\n",
              "        "
            ]
          },
          "metadata": {}
        }
      ]
    },
    {
      "cell_type": "code",
      "source": [
        "import time\n",
        "import os\n",
        "import librosa\n",
        "from librosa import display\n",
        "import matplotlib.pyplot as plt\n",
        "\n",
        "\n",
        "path1 = '/content/drive/My Drive/data_set/RAVDESS_speech'\n",
        "path2 = '/content/drive/My Drive/data_set/RAVDESS_song'\n",
        "\n",
        "lst = []\n",
        "count=0\n",
        "start_time = time.time()\n",
        "\n",
        "for subdir, dirs, files in os.walk(path1):\n",
        "  for file in files:\n",
        "      try:\n",
        "        emo = int(file[7:8]) - 1 \n",
        "        if(emo==6 or emo==7):\n",
        "          continue\n",
        "        count +=1\n",
        "        #Load librosa array, obtain mfcss, store the file and the mcss information in a new array\n",
        "        X, sample_rate = librosa.load(os.path.join(subdir,file), res_type='kaiser_fast')\n",
        "        #mfccs = np.mean(librosa.feature.mfcc(y=X, sr=sample_rate, n_mfcc=40).T,axis=0) \n",
        "        # The instruction below converts the labels (from 1 to 8) to a series from 0 to 7\n",
        "        # This is because our predictor needs to start from 0 otherwise it will try to predict also 0.\n",
        "        arr =X, emo\n",
        "        lst.append(arr)\n",
        "      # If the file is not valid, skip it\n",
        "      except ValueError:\n",
        "        continue\n",
        "\n",
        "for subdir, dirs, files in os.walk(path2):\n",
        "  for file in files:\n",
        "      try:\n",
        "        count +=1\n",
        "        #Load librosa array, obtain mfcss, store the file and the mcss information in a new array\n",
        "        X, sample_rate = librosa.load(os.path.join(subdir,file), res_type='kaiser_fast')\n",
        "        #mfccs = np.mean(librosa.feature.mfcc(y=X, sr=sample_rate, n_mfcc=40).T,axis=0) \n",
        "        # The instruction below converts the labels (from 1 to 8) to a series from 0 to 7\n",
        "        # This is because our predictor needs to start from 0 otherwise it will try to predict also 0.\n",
        "        file = int(file[7:8]) - 1 \n",
        "        arr = X, file\n",
        "        lst.append(arr)\n",
        "      # If the file is not valid, skip it\n",
        "      except ValueError:\n",
        "        continue\n",
        "\n",
        "print(\"--- Data loaded. Loading time: %s seconds ---\" % (time.time() - start_time))"
      ],
      "metadata": {
        "id": "-1eNUEyyPzeb",
        "colab": {
          "base_uri": "https://localhost:8080/"
        },
        "outputId": "ea669975-9622-40ec-fea7-8ea2776b854b"
      },
      "execution_count": null,
      "outputs": [
        {
          "output_type": "stream",
          "name": "stdout",
          "text": [
            "--- Data loaded. Loading time: 753.4020090103149 seconds ---\n"
          ]
        }
      ]
    },
    {
      "cell_type": "code",
      "source": [
        "from numpy.core.fromnumeric import size\n",
        "size(lst)"
      ],
      "metadata": {
        "colab": {
          "base_uri": "https://localhost:8080/"
        },
        "id": "HMOH7d7mzHB7",
        "outputId": "494da8ab-be05-48b4-b203-c4d9d13ede32"
      },
      "execution_count": null,
      "outputs": [
        {
          "output_type": "stream",
          "name": "stderr",
          "text": [
            "/usr/local/lib/python3.7/dist-packages/numpy/core/fromnumeric.py:3208: VisibleDeprecationWarning:\n",
            "\n",
            "Creating an ndarray from ragged nested sequences (which is a list-or-tuple of lists-or-tuples-or ndarrays with different lengths or shapes) is deprecated. If you meant to do this, you must specify 'dtype=object' when creating the ndarray.\n",
            "\n"
          ]
        },
        {
          "output_type": "execute_result",
          "data": {
            "text/plain": [
              "4136"
            ]
          },
          "metadata": {},
          "execution_count": 4
        }
      ]
    },
    {
      "cell_type": "code",
      "source": [
        "# Creating X and y: zip makes a list of all the first elements, and a list of all the second elements.\n",
        "audio_file, emotion = zip(*lst)"
      ],
      "metadata": {
        "id": "QSTRDNOgHLr6"
      },
      "execution_count": null,
      "outputs": []
    },
    {
      "cell_type": "code",
      "source": [
        "audio_file=np.asarray(audio_file)\n",
        "emotion=np.asarray(emotion)"
      ],
      "metadata": {
        "colab": {
          "base_uri": "https://localhost:8080/"
        },
        "id": "Ong1QDBXHrvk",
        "outputId": "aae8a26e-9f16-4ba1-d59d-baf01fbefaef"
      },
      "execution_count": null,
      "outputs": [
        {
          "output_type": "stream",
          "name": "stderr",
          "text": [
            "/usr/local/lib/python3.7/dist-packages/ipykernel_launcher.py:1: VisibleDeprecationWarning:\n",
            "\n",
            "Creating an ndarray from ragged nested sequences (which is a list-or-tuple of lists-or-tuples-or ndarrays with different lengths or shapes) is deprecated. If you meant to do this, you must specify 'dtype=object' when creating the ndarray.\n",
            "\n"
          ]
        }
      ]
    },
    {
      "cell_type": "code",
      "source": [
        "emotion.shape,audio_file.shape"
      ],
      "metadata": {
        "colab": {
          "base_uri": "https://localhost:8080/"
        },
        "id": "2sUCtbfMztE5",
        "outputId": "748837e6-4f7b-4fa8-aa57-2f235188936e"
      },
      "execution_count": null,
      "outputs": [
        {
          "output_type": "execute_result",
          "data": {
            "text/plain": [
              "((2068,), (2068,))"
            ]
          },
          "metadata": {},
          "execution_count": 7
        }
      ]
    },
    {
      "cell_type": "code",
      "source": [
        "from sklearn.model_selection import train_test_split\n",
        "\n",
        "signal_train, signal_test, emo_train, emo_test = train_test_split(audio_file,emotion, test_size=0.20, random_state=42)"
      ],
      "metadata": {
        "id": "62_CZk5SH_08"
      },
      "execution_count": null,
      "outputs": []
    },
    {
      "cell_type": "code",
      "source": [
        "signal_valid, signal_test, emo_valid, emo_test = train_test_split(signal_test,emo_test, test_size=0.5,train_size=0.5, random_state=42)"
      ],
      "metadata": {
        "id": "3yaCr-AlIhEK"
      },
      "execution_count": null,
      "outputs": []
    },
    {
      "cell_type": "code",
      "source": [
        "signal_train.shape,signal_valid.shape,signal_test.shape"
      ],
      "metadata": {
        "colab": {
          "base_uri": "https://localhost:8080/"
        },
        "id": "bmJZBOwkI58f",
        "outputId": "71fe888c-3f6d-4cc0-815a-acbecb529564"
      },
      "execution_count": null,
      "outputs": [
        {
          "output_type": "execute_result",
          "data": {
            "text/plain": [
              "((1654,), (207,), (207,))"
            ]
          },
          "metadata": {},
          "execution_count": 10
        }
      ]
    },
    {
      "cell_type": "code",
      "source": [
        "x_valid=[]\n",
        "x_test=[]\n"
      ],
      "metadata": {
        "id": "4suaNiPyLgqh"
      },
      "execution_count": null,
      "outputs": []
    },
    {
      "cell_type": "code",
      "source": [
        "for i in range(signal_valid.size):\n",
        "  x_valid.append(np.mean(librosa.feature.mfcc(y=signal_valid[i], sr=sample_rate, n_mfcc=40).T,axis=0))\n",
        "\n",
        "for i in range(signal_test.size):\n",
        "  x_test.append(np.mean(librosa.feature.mfcc(y=signal_test[i], sr=sample_rate, n_mfcc=40).T,axis=0))"
      ],
      "metadata": {
        "id": "cc-N9EM8KXlq"
      },
      "execution_count": null,
      "outputs": []
    },
    {
      "cell_type": "code",
      "source": [
        "x_valid=np.asarray(x_valid)\n",
        "x_test=np.asarray(x_test)"
      ],
      "metadata": {
        "id": "FjxfamKtNikQ"
      },
      "execution_count": null,
      "outputs": []
    },
    {
      "cell_type": "code",
      "source": [
        "x_valid.shape,x_test.shape"
      ],
      "metadata": {
        "colab": {
          "base_uri": "https://localhost:8080/"
        },
        "id": "2BEbwS0hNlvq",
        "outputId": "6ab84b6a-4fee-497b-e86f-9377425845f2"
      },
      "execution_count": null,
      "outputs": [
        {
          "output_type": "execute_result",
          "data": {
            "text/plain": [
              "((207, 40), (207, 40))"
            ]
          },
          "metadata": {},
          "execution_count": 14
        }
      ]
    },
    {
      "cell_type": "code",
      "source": [
        "\n",
        "train_lst=[]"
      ],
      "metadata": {
        "id": "LtvpT7lYRdL-"
      },
      "execution_count": null,
      "outputs": []
    },
    {
      "cell_type": "code",
      "source": [
        "for i in range(signal_train.size):\n",
        "  emo=emo_train[i]\n",
        "  x=signal_train[i]\n",
        "  arr=x,emo\n",
        "  train_lst.append(arr)\n",
        "  x=librosa.effects.time_stretch(signal_train[i],0.5)\n",
        "  arr=x,emo\n",
        "  train_lst.append(arr)\n",
        "  x=librosa.effects.time_stretch(signal_train[i],1.5)\n",
        "  arr=x,emo\n",
        "  train_lst.append(arr)\n",
        "  x=librosa.effects.pitch_shift(signal_train[i],sample_rate,2)\n",
        "  arr=x,emo\n",
        "  train_lst.append(arr)"
      ],
      "metadata": {
        "id": "xf2odgMXQgOH",
        "colab": {
          "base_uri": "https://localhost:8080/",
          "height": 380
        },
        "outputId": "c693d4bd-d61d-454b-f96e-e2f14febb9be"
      },
      "execution_count": null,
      "outputs": [
        {
          "output_type": "error",
          "ename": "KeyboardInterrupt",
          "evalue": "ignored",
          "traceback": [
            "\u001b[0;31m---------------------------------------------------------------------------\u001b[0m",
            "\u001b[0;31mKeyboardInterrupt\u001b[0m                         Traceback (most recent call last)",
            "\u001b[0;32m<ipython-input-16-48157e802e2b>\u001b[0m in \u001b[0;36m<module>\u001b[0;34m()\u001b[0m\n\u001b[1;32m      4\u001b[0m   \u001b[0marr\u001b[0m\u001b[0;34m=\u001b[0m\u001b[0mx\u001b[0m\u001b[0;34m,\u001b[0m\u001b[0memo\u001b[0m\u001b[0;34m\u001b[0m\u001b[0;34m\u001b[0m\u001b[0m\n\u001b[1;32m      5\u001b[0m   \u001b[0mtrain_lst\u001b[0m\u001b[0;34m.\u001b[0m\u001b[0mappend\u001b[0m\u001b[0;34m(\u001b[0m\u001b[0marr\u001b[0m\u001b[0;34m)\u001b[0m\u001b[0;34m\u001b[0m\u001b[0;34m\u001b[0m\u001b[0m\n\u001b[0;32m----> 6\u001b[0;31m   \u001b[0mx\u001b[0m\u001b[0;34m=\u001b[0m\u001b[0mlibrosa\u001b[0m\u001b[0;34m.\u001b[0m\u001b[0meffects\u001b[0m\u001b[0;34m.\u001b[0m\u001b[0mtime_stretch\u001b[0m\u001b[0;34m(\u001b[0m\u001b[0msignal_train\u001b[0m\u001b[0;34m[\u001b[0m\u001b[0mi\u001b[0m\u001b[0;34m]\u001b[0m\u001b[0;34m,\u001b[0m\u001b[0;36m0.5\u001b[0m\u001b[0;34m)\u001b[0m\u001b[0;34m\u001b[0m\u001b[0;34m\u001b[0m\u001b[0m\n\u001b[0m\u001b[1;32m      7\u001b[0m   \u001b[0marr\u001b[0m\u001b[0;34m=\u001b[0m\u001b[0mx\u001b[0m\u001b[0;34m,\u001b[0m\u001b[0memo\u001b[0m\u001b[0;34m\u001b[0m\u001b[0;34m\u001b[0m\u001b[0m\n\u001b[1;32m      8\u001b[0m   \u001b[0mtrain_lst\u001b[0m\u001b[0;34m.\u001b[0m\u001b[0mappend\u001b[0m\u001b[0;34m(\u001b[0m\u001b[0marr\u001b[0m\u001b[0;34m)\u001b[0m\u001b[0;34m\u001b[0m\u001b[0;34m\u001b[0m\u001b[0m\n",
            "\u001b[0;32m/usr/local/lib/python3.7/dist-packages/librosa/effects.py\u001b[0m in \u001b[0;36mtime_stretch\u001b[0;34m(y, rate, **kwargs)\u001b[0m\n\u001b[1;32m    253\u001b[0m \u001b[0;34m\u001b[0m\u001b[0m\n\u001b[1;32m    254\u001b[0m     \u001b[0;31m# Invert the STFT\u001b[0m\u001b[0;34m\u001b[0m\u001b[0;34m\u001b[0m\u001b[0;34m\u001b[0m\u001b[0m\n\u001b[0;32m--> 255\u001b[0;31m     \u001b[0my_stretch\u001b[0m \u001b[0;34m=\u001b[0m \u001b[0mcore\u001b[0m\u001b[0;34m.\u001b[0m\u001b[0mistft\u001b[0m\u001b[0;34m(\u001b[0m\u001b[0mstft_stretch\u001b[0m\u001b[0;34m,\u001b[0m \u001b[0mdtype\u001b[0m\u001b[0;34m=\u001b[0m\u001b[0my\u001b[0m\u001b[0;34m.\u001b[0m\u001b[0mdtype\u001b[0m\u001b[0;34m,\u001b[0m \u001b[0mlength\u001b[0m\u001b[0;34m=\u001b[0m\u001b[0mlen_stretch\u001b[0m\u001b[0;34m,\u001b[0m \u001b[0;34m**\u001b[0m\u001b[0mkwargs\u001b[0m\u001b[0;34m)\u001b[0m\u001b[0;34m\u001b[0m\u001b[0;34m\u001b[0m\u001b[0m\n\u001b[0m\u001b[1;32m    256\u001b[0m \u001b[0;34m\u001b[0m\u001b[0m\n\u001b[1;32m    257\u001b[0m     \u001b[0;32mreturn\u001b[0m \u001b[0my_stretch\u001b[0m\u001b[0;34m\u001b[0m\u001b[0;34m\u001b[0m\u001b[0m\n",
            "\u001b[0;32m/usr/local/lib/python3.7/dist-packages/librosa/core/spectrum.py\u001b[0m in \u001b[0;36mistft\u001b[0;34m(stft_matrix, hop_length, win_length, window, center, dtype, length)\u001b[0m\n\u001b[1;32m    401\u001b[0m \u001b[0;34m\u001b[0m\u001b[0m\n\u001b[1;32m    402\u001b[0m         \u001b[0;31m# Overlap-add the istft block starting at the i'th frame\u001b[0m\u001b[0;34m\u001b[0m\u001b[0;34m\u001b[0m\u001b[0;34m\u001b[0m\u001b[0m\n\u001b[0;32m--> 403\u001b[0;31m         \u001b[0m__overlap_add\u001b[0m\u001b[0;34m(\u001b[0m\u001b[0my\u001b[0m\u001b[0;34m[\u001b[0m\u001b[0mframe\u001b[0m \u001b[0;34m*\u001b[0m \u001b[0mhop_length\u001b[0m \u001b[0;34m:\u001b[0m\u001b[0;34m]\u001b[0m\u001b[0;34m,\u001b[0m \u001b[0mytmp\u001b[0m\u001b[0;34m,\u001b[0m \u001b[0mhop_length\u001b[0m\u001b[0;34m)\u001b[0m\u001b[0;34m\u001b[0m\u001b[0;34m\u001b[0m\u001b[0m\n\u001b[0m\u001b[1;32m    404\u001b[0m \u001b[0;34m\u001b[0m\u001b[0m\n\u001b[1;32m    405\u001b[0m         \u001b[0mframe\u001b[0m \u001b[0;34m+=\u001b[0m \u001b[0mbl_t\u001b[0m \u001b[0;34m-\u001b[0m \u001b[0mbl_s\u001b[0m\u001b[0;34m\u001b[0m\u001b[0;34m\u001b[0m\u001b[0m\n",
            "\u001b[0;32m/usr/local/lib/python3.7/dist-packages/numba/core/dispatcher.py\u001b[0m in \u001b[0;36m_compile_for_args\u001b[0;34m(self, *args, **kws)\u001b[0m\n\u001b[1;32m    365\u001b[0m                 \u001b[0margtypes\u001b[0m\u001b[0;34m.\u001b[0m\u001b[0mappend\u001b[0m\u001b[0;34m(\u001b[0m\u001b[0mself\u001b[0m\u001b[0;34m.\u001b[0m\u001b[0mtypeof_pyval\u001b[0m\u001b[0;34m(\u001b[0m\u001b[0ma\u001b[0m\u001b[0;34m)\u001b[0m\u001b[0;34m)\u001b[0m\u001b[0;34m\u001b[0m\u001b[0;34m\u001b[0m\u001b[0m\n\u001b[1;32m    366\u001b[0m         \u001b[0;32mtry\u001b[0m\u001b[0;34m:\u001b[0m\u001b[0;34m\u001b[0m\u001b[0;34m\u001b[0m\u001b[0m\n\u001b[0;32m--> 367\u001b[0;31m             \u001b[0;32mreturn\u001b[0m \u001b[0mself\u001b[0m\u001b[0;34m.\u001b[0m\u001b[0mcompile\u001b[0m\u001b[0;34m(\u001b[0m\u001b[0mtuple\u001b[0m\u001b[0;34m(\u001b[0m\u001b[0margtypes\u001b[0m\u001b[0;34m)\u001b[0m\u001b[0;34m)\u001b[0m\u001b[0;34m\u001b[0m\u001b[0;34m\u001b[0m\u001b[0m\n\u001b[0m\u001b[1;32m    368\u001b[0m         \u001b[0;32mexcept\u001b[0m \u001b[0merrors\u001b[0m\u001b[0;34m.\u001b[0m\u001b[0mForceLiteralArg\u001b[0m \u001b[0;32mas\u001b[0m \u001b[0me\u001b[0m\u001b[0;34m:\u001b[0m\u001b[0;34m\u001b[0m\u001b[0;34m\u001b[0m\u001b[0m\n\u001b[1;32m    369\u001b[0m             \u001b[0;31m# Received request for compiler re-entry with the list of arguments\u001b[0m\u001b[0;34m\u001b[0m\u001b[0;34m\u001b[0m\u001b[0;34m\u001b[0m\u001b[0m\n",
            "\u001b[0;32m/usr/local/lib/python3.7/dist-packages/numba/core/compiler_lock.py\u001b[0m in \u001b[0;36m_acquire_compile_lock\u001b[0;34m(*args, **kwargs)\u001b[0m\n\u001b[1;32m     30\u001b[0m         \u001b[0;32mdef\u001b[0m \u001b[0m_acquire_compile_lock\u001b[0m\u001b[0;34m(\u001b[0m\u001b[0;34m*\u001b[0m\u001b[0margs\u001b[0m\u001b[0;34m,\u001b[0m \u001b[0;34m**\u001b[0m\u001b[0mkwargs\u001b[0m\u001b[0;34m)\u001b[0m\u001b[0;34m:\u001b[0m\u001b[0;34m\u001b[0m\u001b[0;34m\u001b[0m\u001b[0m\n\u001b[1;32m     31\u001b[0m             \u001b[0;32mwith\u001b[0m \u001b[0mself\u001b[0m\u001b[0;34m:\u001b[0m\u001b[0;34m\u001b[0m\u001b[0;34m\u001b[0m\u001b[0m\n\u001b[0;32m---> 32\u001b[0;31m                 \u001b[0;32mreturn\u001b[0m \u001b[0mfunc\u001b[0m\u001b[0;34m(\u001b[0m\u001b[0;34m*\u001b[0m\u001b[0margs\u001b[0m\u001b[0;34m,\u001b[0m \u001b[0;34m**\u001b[0m\u001b[0mkwargs\u001b[0m\u001b[0;34m)\u001b[0m\u001b[0;34m\u001b[0m\u001b[0;34m\u001b[0m\u001b[0m\n\u001b[0m\u001b[1;32m     33\u001b[0m         \u001b[0;32mreturn\u001b[0m \u001b[0m_acquire_compile_lock\u001b[0m\u001b[0;34m\u001b[0m\u001b[0;34m\u001b[0m\u001b[0m\n\u001b[1;32m     34\u001b[0m \u001b[0;34m\u001b[0m\u001b[0m\n",
            "\u001b[0;32m/usr/local/lib/python3.7/dist-packages/numba/core/dispatcher.py\u001b[0m in \u001b[0;36mcompile\u001b[0;34m(self, sig)\u001b[0m\n\u001b[1;32m    817\u001b[0m             \u001b[0mself\u001b[0m\u001b[0;34m.\u001b[0m\u001b[0m_cache_misses\u001b[0m\u001b[0;34m[\u001b[0m\u001b[0msig\u001b[0m\u001b[0;34m]\u001b[0m \u001b[0;34m+=\u001b[0m \u001b[0;36m1\u001b[0m\u001b[0;34m\u001b[0m\u001b[0;34m\u001b[0m\u001b[0m\n\u001b[1;32m    818\u001b[0m             \u001b[0;32mtry\u001b[0m\u001b[0;34m:\u001b[0m\u001b[0;34m\u001b[0m\u001b[0;34m\u001b[0m\u001b[0m\n\u001b[0;32m--> 819\u001b[0;31m                 \u001b[0mcres\u001b[0m \u001b[0;34m=\u001b[0m \u001b[0mself\u001b[0m\u001b[0;34m.\u001b[0m\u001b[0m_compiler\u001b[0m\u001b[0;34m.\u001b[0m\u001b[0mcompile\u001b[0m\u001b[0;34m(\u001b[0m\u001b[0margs\u001b[0m\u001b[0;34m,\u001b[0m \u001b[0mreturn_type\u001b[0m\u001b[0;34m)\u001b[0m\u001b[0;34m\u001b[0m\u001b[0;34m\u001b[0m\u001b[0m\n\u001b[0m\u001b[1;32m    820\u001b[0m             \u001b[0;32mexcept\u001b[0m \u001b[0merrors\u001b[0m\u001b[0;34m.\u001b[0m\u001b[0mForceLiteralArg\u001b[0m \u001b[0;32mas\u001b[0m \u001b[0me\u001b[0m\u001b[0;34m:\u001b[0m\u001b[0;34m\u001b[0m\u001b[0;34m\u001b[0m\u001b[0m\n\u001b[1;32m    821\u001b[0m                 \u001b[0;32mdef\u001b[0m \u001b[0mfolded\u001b[0m\u001b[0;34m(\u001b[0m\u001b[0margs\u001b[0m\u001b[0;34m,\u001b[0m \u001b[0mkws\u001b[0m\u001b[0;34m)\u001b[0m\u001b[0;34m:\u001b[0m\u001b[0;34m\u001b[0m\u001b[0;34m\u001b[0m\u001b[0m\n",
            "\u001b[0;32m/usr/local/lib/python3.7/dist-packages/numba/core/dispatcher.py\u001b[0m in \u001b[0;36mcompile\u001b[0;34m(self, args, return_type)\u001b[0m\n\u001b[1;32m     76\u001b[0m \u001b[0;34m\u001b[0m\u001b[0m\n\u001b[1;32m     77\u001b[0m     \u001b[0;32mdef\u001b[0m \u001b[0mcompile\u001b[0m\u001b[0;34m(\u001b[0m\u001b[0mself\u001b[0m\u001b[0;34m,\u001b[0m \u001b[0margs\u001b[0m\u001b[0;34m,\u001b[0m \u001b[0mreturn_type\u001b[0m\u001b[0;34m)\u001b[0m\u001b[0;34m:\u001b[0m\u001b[0;34m\u001b[0m\u001b[0;34m\u001b[0m\u001b[0m\n\u001b[0;32m---> 78\u001b[0;31m         \u001b[0mstatus\u001b[0m\u001b[0;34m,\u001b[0m \u001b[0mretval\u001b[0m \u001b[0;34m=\u001b[0m \u001b[0mself\u001b[0m\u001b[0;34m.\u001b[0m\u001b[0m_compile_cached\u001b[0m\u001b[0;34m(\u001b[0m\u001b[0margs\u001b[0m\u001b[0;34m,\u001b[0m \u001b[0mreturn_type\u001b[0m\u001b[0;34m)\u001b[0m\u001b[0;34m\u001b[0m\u001b[0;34m\u001b[0m\u001b[0m\n\u001b[0m\u001b[1;32m     79\u001b[0m         \u001b[0;32mif\u001b[0m \u001b[0mstatus\u001b[0m\u001b[0;34m:\u001b[0m\u001b[0;34m\u001b[0m\u001b[0;34m\u001b[0m\u001b[0m\n\u001b[1;32m     80\u001b[0m             \u001b[0;32mreturn\u001b[0m \u001b[0mretval\u001b[0m\u001b[0;34m\u001b[0m\u001b[0;34m\u001b[0m\u001b[0m\n",
            "\u001b[0;32m/usr/local/lib/python3.7/dist-packages/numba/core/dispatcher.py\u001b[0m in \u001b[0;36m_compile_cached\u001b[0;34m(self, args, return_type)\u001b[0m\n\u001b[1;32m     90\u001b[0m \u001b[0;34m\u001b[0m\u001b[0m\n\u001b[1;32m     91\u001b[0m         \u001b[0;32mtry\u001b[0m\u001b[0;34m:\u001b[0m\u001b[0;34m\u001b[0m\u001b[0;34m\u001b[0m\u001b[0m\n\u001b[0;32m---> 92\u001b[0;31m             \u001b[0mretval\u001b[0m \u001b[0;34m=\u001b[0m \u001b[0mself\u001b[0m\u001b[0;34m.\u001b[0m\u001b[0m_compile_core\u001b[0m\u001b[0;34m(\u001b[0m\u001b[0margs\u001b[0m\u001b[0;34m,\u001b[0m \u001b[0mreturn_type\u001b[0m\u001b[0;34m)\u001b[0m\u001b[0;34m\u001b[0m\u001b[0;34m\u001b[0m\u001b[0m\n\u001b[0m\u001b[1;32m     93\u001b[0m         \u001b[0;32mexcept\u001b[0m \u001b[0merrors\u001b[0m\u001b[0;34m.\u001b[0m\u001b[0mTypingError\u001b[0m \u001b[0;32mas\u001b[0m \u001b[0me\u001b[0m\u001b[0;34m:\u001b[0m\u001b[0;34m\u001b[0m\u001b[0;34m\u001b[0m\u001b[0m\n\u001b[1;32m     94\u001b[0m             \u001b[0mself\u001b[0m\u001b[0;34m.\u001b[0m\u001b[0m_failed_cache\u001b[0m\u001b[0;34m[\u001b[0m\u001b[0mkey\u001b[0m\u001b[0;34m]\u001b[0m \u001b[0;34m=\u001b[0m \u001b[0me\u001b[0m\u001b[0;34m\u001b[0m\u001b[0;34m\u001b[0m\u001b[0m\n",
            "\u001b[0;32m/usr/local/lib/python3.7/dist-packages/numba/core/dispatcher.py\u001b[0m in \u001b[0;36m_compile_core\u001b[0;34m(self, args, return_type)\u001b[0m\n\u001b[1;32m    108\u001b[0m                                       \u001b[0margs\u001b[0m\u001b[0;34m=\u001b[0m\u001b[0margs\u001b[0m\u001b[0;34m,\u001b[0m \u001b[0mreturn_type\u001b[0m\u001b[0;34m=\u001b[0m\u001b[0mreturn_type\u001b[0m\u001b[0;34m,\u001b[0m\u001b[0;34m\u001b[0m\u001b[0;34m\u001b[0m\u001b[0m\n\u001b[1;32m    109\u001b[0m                                       \u001b[0mflags\u001b[0m\u001b[0;34m=\u001b[0m\u001b[0mflags\u001b[0m\u001b[0;34m,\u001b[0m \u001b[0mlocals\u001b[0m\u001b[0;34m=\u001b[0m\u001b[0mself\u001b[0m\u001b[0;34m.\u001b[0m\u001b[0mlocals\u001b[0m\u001b[0;34m,\u001b[0m\u001b[0;34m\u001b[0m\u001b[0;34m\u001b[0m\u001b[0m\n\u001b[0;32m--> 110\u001b[0;31m                                       pipeline_class=self.pipeline_class)\n\u001b[0m\u001b[1;32m    111\u001b[0m         \u001b[0;31m# Check typing error if object mode is used\u001b[0m\u001b[0;34m\u001b[0m\u001b[0;34m\u001b[0m\u001b[0;34m\u001b[0m\u001b[0m\n\u001b[1;32m    112\u001b[0m         \u001b[0;32mif\u001b[0m \u001b[0mcres\u001b[0m\u001b[0;34m.\u001b[0m\u001b[0mtyping_error\u001b[0m \u001b[0;32mis\u001b[0m \u001b[0;32mnot\u001b[0m \u001b[0;32mNone\u001b[0m \u001b[0;32mand\u001b[0m \u001b[0;32mnot\u001b[0m \u001b[0mflags\u001b[0m\u001b[0;34m.\u001b[0m\u001b[0menable_pyobject\u001b[0m\u001b[0;34m:\u001b[0m\u001b[0;34m\u001b[0m\u001b[0;34m\u001b[0m\u001b[0m\n",
            "\u001b[0;32m/usr/local/lib/python3.7/dist-packages/numba/core/compiler.py\u001b[0m in \u001b[0;36mcompile_extra\u001b[0;34m(typingctx, targetctx, func, args, return_type, flags, locals, library, pipeline_class)\u001b[0m\n\u001b[1;32m    625\u001b[0m     pipeline = pipeline_class(typingctx, targetctx, library,\n\u001b[1;32m    626\u001b[0m                               args, return_type, flags, locals)\n\u001b[0;32m--> 627\u001b[0;31m     \u001b[0;32mreturn\u001b[0m \u001b[0mpipeline\u001b[0m\u001b[0;34m.\u001b[0m\u001b[0mcompile_extra\u001b[0m\u001b[0;34m(\u001b[0m\u001b[0mfunc\u001b[0m\u001b[0;34m)\u001b[0m\u001b[0;34m\u001b[0m\u001b[0;34m\u001b[0m\u001b[0m\n\u001b[0m\u001b[1;32m    628\u001b[0m \u001b[0;34m\u001b[0m\u001b[0m\n\u001b[1;32m    629\u001b[0m \u001b[0;34m\u001b[0m\u001b[0m\n",
            "\u001b[0;32m/usr/local/lib/python3.7/dist-packages/numba/core/compiler.py\u001b[0m in \u001b[0;36mcompile_extra\u001b[0;34m(self, func)\u001b[0m\n\u001b[1;32m    361\u001b[0m         \u001b[0mself\u001b[0m\u001b[0;34m.\u001b[0m\u001b[0mstate\u001b[0m\u001b[0;34m.\u001b[0m\u001b[0mlifted\u001b[0m \u001b[0;34m=\u001b[0m \u001b[0;34m(\u001b[0m\u001b[0;34m)\u001b[0m\u001b[0;34m\u001b[0m\u001b[0;34m\u001b[0m\u001b[0m\n\u001b[1;32m    362\u001b[0m         \u001b[0mself\u001b[0m\u001b[0;34m.\u001b[0m\u001b[0mstate\u001b[0m\u001b[0;34m.\u001b[0m\u001b[0mlifted_from\u001b[0m \u001b[0;34m=\u001b[0m \u001b[0;32mNone\u001b[0m\u001b[0;34m\u001b[0m\u001b[0;34m\u001b[0m\u001b[0m\n\u001b[0;32m--> 363\u001b[0;31m         \u001b[0;32mreturn\u001b[0m \u001b[0mself\u001b[0m\u001b[0;34m.\u001b[0m\u001b[0m_compile_bytecode\u001b[0m\u001b[0;34m(\u001b[0m\u001b[0;34m)\u001b[0m\u001b[0;34m\u001b[0m\u001b[0;34m\u001b[0m\u001b[0m\n\u001b[0m\u001b[1;32m    364\u001b[0m \u001b[0;34m\u001b[0m\u001b[0m\n\u001b[1;32m    365\u001b[0m     \u001b[0;32mdef\u001b[0m \u001b[0mcompile_ir\u001b[0m\u001b[0;34m(\u001b[0m\u001b[0mself\u001b[0m\u001b[0;34m,\u001b[0m \u001b[0mfunc_ir\u001b[0m\u001b[0;34m,\u001b[0m \u001b[0mlifted\u001b[0m\u001b[0;34m=\u001b[0m\u001b[0;34m(\u001b[0m\u001b[0;34m)\u001b[0m\u001b[0;34m,\u001b[0m \u001b[0mlifted_from\u001b[0m\u001b[0;34m=\u001b[0m\u001b[0;32mNone\u001b[0m\u001b[0;34m)\u001b[0m\u001b[0;34m:\u001b[0m\u001b[0;34m\u001b[0m\u001b[0;34m\u001b[0m\u001b[0m\n",
            "\u001b[0;32m/usr/local/lib/python3.7/dist-packages/numba/core/compiler.py\u001b[0m in \u001b[0;36m_compile_bytecode\u001b[0;34m(self)\u001b[0m\n\u001b[1;32m    423\u001b[0m         \"\"\"\n\u001b[1;32m    424\u001b[0m         \u001b[0;32massert\u001b[0m \u001b[0mself\u001b[0m\u001b[0;34m.\u001b[0m\u001b[0mstate\u001b[0m\u001b[0;34m.\u001b[0m\u001b[0mfunc_ir\u001b[0m \u001b[0;32mis\u001b[0m \u001b[0;32mNone\u001b[0m\u001b[0;34m\u001b[0m\u001b[0;34m\u001b[0m\u001b[0m\n\u001b[0;32m--> 425\u001b[0;31m         \u001b[0;32mreturn\u001b[0m \u001b[0mself\u001b[0m\u001b[0;34m.\u001b[0m\u001b[0m_compile_core\u001b[0m\u001b[0;34m(\u001b[0m\u001b[0;34m)\u001b[0m\u001b[0;34m\u001b[0m\u001b[0;34m\u001b[0m\u001b[0m\n\u001b[0m\u001b[1;32m    426\u001b[0m \u001b[0;34m\u001b[0m\u001b[0m\n\u001b[1;32m    427\u001b[0m     \u001b[0;32mdef\u001b[0m \u001b[0m_compile_ir\u001b[0m\u001b[0;34m(\u001b[0m\u001b[0mself\u001b[0m\u001b[0;34m)\u001b[0m\u001b[0;34m:\u001b[0m\u001b[0;34m\u001b[0m\u001b[0;34m\u001b[0m\u001b[0m\n",
            "\u001b[0;32m/usr/local/lib/python3.7/dist-packages/numba/core/compiler.py\u001b[0m in \u001b[0;36m_compile_core\u001b[0;34m(self)\u001b[0m\n\u001b[1;32m    394\u001b[0m             \u001b[0mres\u001b[0m \u001b[0;34m=\u001b[0m \u001b[0;32mNone\u001b[0m\u001b[0;34m\u001b[0m\u001b[0;34m\u001b[0m\u001b[0m\n\u001b[1;32m    395\u001b[0m             \u001b[0;32mtry\u001b[0m\u001b[0;34m:\u001b[0m\u001b[0;34m\u001b[0m\u001b[0;34m\u001b[0m\u001b[0m\n\u001b[0;32m--> 396\u001b[0;31m                 \u001b[0mpm\u001b[0m\u001b[0;34m.\u001b[0m\u001b[0mrun\u001b[0m\u001b[0;34m(\u001b[0m\u001b[0mself\u001b[0m\u001b[0;34m.\u001b[0m\u001b[0mstate\u001b[0m\u001b[0;34m)\u001b[0m\u001b[0;34m\u001b[0m\u001b[0;34m\u001b[0m\u001b[0m\n\u001b[0m\u001b[1;32m    397\u001b[0m                 \u001b[0;32mif\u001b[0m \u001b[0mself\u001b[0m\u001b[0;34m.\u001b[0m\u001b[0mstate\u001b[0m\u001b[0;34m.\u001b[0m\u001b[0mcr\u001b[0m \u001b[0;32mis\u001b[0m \u001b[0;32mnot\u001b[0m \u001b[0;32mNone\u001b[0m\u001b[0;34m:\u001b[0m\u001b[0;34m\u001b[0m\u001b[0;34m\u001b[0m\u001b[0m\n\u001b[1;32m    398\u001b[0m                     \u001b[0;32mbreak\u001b[0m\u001b[0;34m\u001b[0m\u001b[0;34m\u001b[0m\u001b[0m\n",
            "\u001b[0;32m/usr/local/lib/python3.7/dist-packages/numba/core/compiler_machinery.py\u001b[0m in \u001b[0;36mrun\u001b[0;34m(self, state)\u001b[0m\n\u001b[1;32m    330\u001b[0m                 \u001b[0mpass_inst\u001b[0m \u001b[0;34m=\u001b[0m \u001b[0m_pass_registry\u001b[0m\u001b[0;34m.\u001b[0m\u001b[0mget\u001b[0m\u001b[0;34m(\u001b[0m\u001b[0mpss\u001b[0m\u001b[0;34m)\u001b[0m\u001b[0;34m.\u001b[0m\u001b[0mpass_inst\u001b[0m\u001b[0;34m\u001b[0m\u001b[0;34m\u001b[0m\u001b[0m\n\u001b[1;32m    331\u001b[0m                 \u001b[0;32mif\u001b[0m \u001b[0misinstance\u001b[0m\u001b[0;34m(\u001b[0m\u001b[0mpass_inst\u001b[0m\u001b[0;34m,\u001b[0m \u001b[0mCompilerPass\u001b[0m\u001b[0;34m)\u001b[0m\u001b[0;34m:\u001b[0m\u001b[0;34m\u001b[0m\u001b[0;34m\u001b[0m\u001b[0m\n\u001b[0;32m--> 332\u001b[0;31m                     \u001b[0mself\u001b[0m\u001b[0;34m.\u001b[0m\u001b[0m_runPass\u001b[0m\u001b[0;34m(\u001b[0m\u001b[0midx\u001b[0m\u001b[0;34m,\u001b[0m \u001b[0mpass_inst\u001b[0m\u001b[0;34m,\u001b[0m \u001b[0mstate\u001b[0m\u001b[0;34m)\u001b[0m\u001b[0;34m\u001b[0m\u001b[0;34m\u001b[0m\u001b[0m\n\u001b[0m\u001b[1;32m    333\u001b[0m                 \u001b[0;32melse\u001b[0m\u001b[0;34m:\u001b[0m\u001b[0;34m\u001b[0m\u001b[0;34m\u001b[0m\u001b[0m\n\u001b[1;32m    334\u001b[0m                     \u001b[0;32mraise\u001b[0m \u001b[0mBaseException\u001b[0m\u001b[0;34m(\u001b[0m\u001b[0;34m\"Legacy pass in use\"\u001b[0m\u001b[0;34m)\u001b[0m\u001b[0;34m\u001b[0m\u001b[0;34m\u001b[0m\u001b[0m\n",
            "\u001b[0;32m/usr/local/lib/python3.7/dist-packages/numba/core/compiler_lock.py\u001b[0m in \u001b[0;36m_acquire_compile_lock\u001b[0;34m(*args, **kwargs)\u001b[0m\n\u001b[1;32m     30\u001b[0m         \u001b[0;32mdef\u001b[0m \u001b[0m_acquire_compile_lock\u001b[0m\u001b[0;34m(\u001b[0m\u001b[0;34m*\u001b[0m\u001b[0margs\u001b[0m\u001b[0;34m,\u001b[0m \u001b[0;34m**\u001b[0m\u001b[0mkwargs\u001b[0m\u001b[0;34m)\u001b[0m\u001b[0;34m:\u001b[0m\u001b[0;34m\u001b[0m\u001b[0;34m\u001b[0m\u001b[0m\n\u001b[1;32m     31\u001b[0m             \u001b[0;32mwith\u001b[0m \u001b[0mself\u001b[0m\u001b[0;34m:\u001b[0m\u001b[0;34m\u001b[0m\u001b[0;34m\u001b[0m\u001b[0m\n\u001b[0;32m---> 32\u001b[0;31m                 \u001b[0;32mreturn\u001b[0m \u001b[0mfunc\u001b[0m\u001b[0;34m(\u001b[0m\u001b[0;34m*\u001b[0m\u001b[0margs\u001b[0m\u001b[0;34m,\u001b[0m \u001b[0;34m**\u001b[0m\u001b[0mkwargs\u001b[0m\u001b[0;34m)\u001b[0m\u001b[0;34m\u001b[0m\u001b[0;34m\u001b[0m\u001b[0m\n\u001b[0m\u001b[1;32m     33\u001b[0m         \u001b[0;32mreturn\u001b[0m \u001b[0m_acquire_compile_lock\u001b[0m\u001b[0;34m\u001b[0m\u001b[0;34m\u001b[0m\u001b[0m\n\u001b[1;32m     34\u001b[0m \u001b[0;34m\u001b[0m\u001b[0m\n",
            "\u001b[0;32m/usr/local/lib/python3.7/dist-packages/numba/core/compiler_machinery.py\u001b[0m in \u001b[0;36m_runPass\u001b[0;34m(self, index, pss, internal_state)\u001b[0m\n\u001b[1;32m    289\u001b[0m             \u001b[0mmutated\u001b[0m \u001b[0;34m|=\u001b[0m \u001b[0mcheck\u001b[0m\u001b[0;34m(\u001b[0m\u001b[0mpss\u001b[0m\u001b[0;34m.\u001b[0m\u001b[0mrun_initialization\u001b[0m\u001b[0;34m,\u001b[0m \u001b[0minternal_state\u001b[0m\u001b[0;34m)\u001b[0m\u001b[0;34m\u001b[0m\u001b[0;34m\u001b[0m\u001b[0m\n\u001b[1;32m    290\u001b[0m         \u001b[0;32mwith\u001b[0m \u001b[0mSimpleTimer\u001b[0m\u001b[0;34m(\u001b[0m\u001b[0;34m)\u001b[0m \u001b[0;32mas\u001b[0m \u001b[0mpass_time\u001b[0m\u001b[0;34m:\u001b[0m\u001b[0;34m\u001b[0m\u001b[0;34m\u001b[0m\u001b[0m\n\u001b[0;32m--> 291\u001b[0;31m             \u001b[0mmutated\u001b[0m \u001b[0;34m|=\u001b[0m \u001b[0mcheck\u001b[0m\u001b[0;34m(\u001b[0m\u001b[0mpss\u001b[0m\u001b[0;34m.\u001b[0m\u001b[0mrun_pass\u001b[0m\u001b[0;34m,\u001b[0m \u001b[0minternal_state\u001b[0m\u001b[0;34m)\u001b[0m\u001b[0;34m\u001b[0m\u001b[0;34m\u001b[0m\u001b[0m\n\u001b[0m\u001b[1;32m    292\u001b[0m         \u001b[0;32mwith\u001b[0m \u001b[0mSimpleTimer\u001b[0m\u001b[0;34m(\u001b[0m\u001b[0;34m)\u001b[0m \u001b[0;32mas\u001b[0m \u001b[0mfinalize_time\u001b[0m\u001b[0;34m:\u001b[0m\u001b[0;34m\u001b[0m\u001b[0;34m\u001b[0m\u001b[0m\n\u001b[1;32m    293\u001b[0m             \u001b[0mmutated\u001b[0m \u001b[0;34m|=\u001b[0m \u001b[0mcheck\u001b[0m\u001b[0;34m(\u001b[0m\u001b[0mpss\u001b[0m\u001b[0;34m.\u001b[0m\u001b[0mrun_finalizer\u001b[0m\u001b[0;34m,\u001b[0m \u001b[0minternal_state\u001b[0m\u001b[0;34m)\u001b[0m\u001b[0;34m\u001b[0m\u001b[0;34m\u001b[0m\u001b[0m\n",
            "\u001b[0;32m/usr/local/lib/python3.7/dist-packages/numba/core/compiler_machinery.py\u001b[0m in \u001b[0;36mcheck\u001b[0;34m(func, compiler_state)\u001b[0m\n\u001b[1;32m    262\u001b[0m \u001b[0;34m\u001b[0m\u001b[0m\n\u001b[1;32m    263\u001b[0m         \u001b[0;32mdef\u001b[0m \u001b[0mcheck\u001b[0m\u001b[0;34m(\u001b[0m\u001b[0mfunc\u001b[0m\u001b[0;34m,\u001b[0m \u001b[0mcompiler_state\u001b[0m\u001b[0;34m)\u001b[0m\u001b[0;34m:\u001b[0m\u001b[0;34m\u001b[0m\u001b[0;34m\u001b[0m\u001b[0m\n\u001b[0;32m--> 264\u001b[0;31m             \u001b[0mmangled\u001b[0m \u001b[0;34m=\u001b[0m \u001b[0mfunc\u001b[0m\u001b[0;34m(\u001b[0m\u001b[0mcompiler_state\u001b[0m\u001b[0;34m)\u001b[0m\u001b[0;34m\u001b[0m\u001b[0;34m\u001b[0m\u001b[0m\n\u001b[0m\u001b[1;32m    265\u001b[0m             \u001b[0;32mif\u001b[0m \u001b[0mmangled\u001b[0m \u001b[0;32mnot\u001b[0m \u001b[0;32min\u001b[0m \u001b[0;34m(\u001b[0m\u001b[0;32mTrue\u001b[0m\u001b[0;34m,\u001b[0m \u001b[0;32mFalse\u001b[0m\u001b[0;34m)\u001b[0m\u001b[0;34m:\u001b[0m\u001b[0;34m\u001b[0m\u001b[0;34m\u001b[0m\u001b[0m\n\u001b[1;32m    266\u001b[0m                 msg = (\"CompilerPass implementations should return True/False. \"\n",
            "\u001b[0;32m/usr/local/lib/python3.7/dist-packages/numba/core/typed_passes.py\u001b[0m in \u001b[0;36mrun_pass\u001b[0;34m(self, state)\u001b[0m\n\u001b[1;32m    440\u001b[0m \u001b[0;34m\u001b[0m\u001b[0m\n\u001b[1;32m    441\u001b[0m         \u001b[0;31m# TODO: Pull this out into the pipeline\u001b[0m\u001b[0;34m\u001b[0m\u001b[0;34m\u001b[0m\u001b[0;34m\u001b[0m\u001b[0m\n\u001b[0;32m--> 442\u001b[0;31m         \u001b[0mNativeLowering\u001b[0m\u001b[0;34m(\u001b[0m\u001b[0;34m)\u001b[0m\u001b[0;34m.\u001b[0m\u001b[0mrun_pass\u001b[0m\u001b[0;34m(\u001b[0m\u001b[0mstate\u001b[0m\u001b[0;34m)\u001b[0m\u001b[0;34m\u001b[0m\u001b[0;34m\u001b[0m\u001b[0m\n\u001b[0m\u001b[1;32m    443\u001b[0m         \u001b[0mlowered\u001b[0m \u001b[0;34m=\u001b[0m \u001b[0mstate\u001b[0m\u001b[0;34m[\u001b[0m\u001b[0;34m'cr'\u001b[0m\u001b[0;34m]\u001b[0m\u001b[0;34m\u001b[0m\u001b[0;34m\u001b[0m\u001b[0m\n\u001b[1;32m    444\u001b[0m         \u001b[0msignature\u001b[0m \u001b[0;34m=\u001b[0m \u001b[0mtyping\u001b[0m\u001b[0;34m.\u001b[0m\u001b[0msignature\u001b[0m\u001b[0;34m(\u001b[0m\u001b[0mstate\u001b[0m\u001b[0;34m.\u001b[0m\u001b[0mreturn_type\u001b[0m\u001b[0;34m,\u001b[0m \u001b[0;34m*\u001b[0m\u001b[0mstate\u001b[0m\u001b[0;34m.\u001b[0m\u001b[0margs\u001b[0m\u001b[0;34m)\u001b[0m\u001b[0;34m\u001b[0m\u001b[0;34m\u001b[0m\u001b[0m\n",
            "\u001b[0;32m/usr/local/lib/python3.7/dist-packages/numba/core/typed_passes.py\u001b[0m in \u001b[0;36mrun_pass\u001b[0;34m(self, state)\u001b[0m\n\u001b[1;32m    368\u001b[0m                 lower = lowering.Lower(targetctx, library, fndesc, interp,\n\u001b[1;32m    369\u001b[0m                                        metadata=metadata)\n\u001b[0;32m--> 370\u001b[0;31m                 \u001b[0mlower\u001b[0m\u001b[0;34m.\u001b[0m\u001b[0mlower\u001b[0m\u001b[0;34m(\u001b[0m\u001b[0;34m)\u001b[0m\u001b[0;34m\u001b[0m\u001b[0;34m\u001b[0m\u001b[0m\n\u001b[0m\u001b[1;32m    371\u001b[0m                 \u001b[0;32mif\u001b[0m \u001b[0;32mnot\u001b[0m \u001b[0mflags\u001b[0m\u001b[0;34m.\u001b[0m\u001b[0mno_cpython_wrapper\u001b[0m\u001b[0;34m:\u001b[0m\u001b[0;34m\u001b[0m\u001b[0;34m\u001b[0m\u001b[0m\n\u001b[1;32m    372\u001b[0m                     \u001b[0mlower\u001b[0m\u001b[0;34m.\u001b[0m\u001b[0mcreate_cpython_wrapper\u001b[0m\u001b[0;34m(\u001b[0m\u001b[0mflags\u001b[0m\u001b[0;34m.\u001b[0m\u001b[0mrelease_gil\u001b[0m\u001b[0;34m)\u001b[0m\u001b[0;34m\u001b[0m\u001b[0;34m\u001b[0m\u001b[0m\n",
            "\u001b[0;32m/usr/local/lib/python3.7/dist-packages/numba/core/lowering.py\u001b[0m in \u001b[0;36mlower\u001b[0;34m(self)\u001b[0m\n\u001b[1;32m    134\u001b[0m         \u001b[0;32mif\u001b[0m \u001b[0mself\u001b[0m\u001b[0;34m.\u001b[0m\u001b[0mgenerator_info\u001b[0m \u001b[0;32mis\u001b[0m \u001b[0;32mNone\u001b[0m\u001b[0;34m:\u001b[0m\u001b[0;34m\u001b[0m\u001b[0;34m\u001b[0m\u001b[0m\n\u001b[1;32m    135\u001b[0m             \u001b[0mself\u001b[0m\u001b[0;34m.\u001b[0m\u001b[0mgenlower\u001b[0m \u001b[0;34m=\u001b[0m \u001b[0;32mNone\u001b[0m\u001b[0;34m\u001b[0m\u001b[0;34m\u001b[0m\u001b[0m\n\u001b[0;32m--> 136\u001b[0;31m             \u001b[0mself\u001b[0m\u001b[0;34m.\u001b[0m\u001b[0mlower_normal_function\u001b[0m\u001b[0;34m(\u001b[0m\u001b[0mself\u001b[0m\u001b[0;34m.\u001b[0m\u001b[0mfndesc\u001b[0m\u001b[0;34m)\u001b[0m\u001b[0;34m\u001b[0m\u001b[0;34m\u001b[0m\u001b[0m\n\u001b[0m\u001b[1;32m    137\u001b[0m         \u001b[0;32melse\u001b[0m\u001b[0;34m:\u001b[0m\u001b[0;34m\u001b[0m\u001b[0;34m\u001b[0m\u001b[0m\n\u001b[1;32m    138\u001b[0m             \u001b[0mself\u001b[0m\u001b[0;34m.\u001b[0m\u001b[0mgenlower\u001b[0m \u001b[0;34m=\u001b[0m \u001b[0mself\u001b[0m\u001b[0;34m.\u001b[0m\u001b[0mGeneratorLower\u001b[0m\u001b[0;34m(\u001b[0m\u001b[0mself\u001b[0m\u001b[0;34m)\u001b[0m\u001b[0;34m\u001b[0m\u001b[0;34m\u001b[0m\u001b[0m\n",
            "\u001b[0;32m/usr/local/lib/python3.7/dist-packages/numba/core/lowering.py\u001b[0m in \u001b[0;36mlower_normal_function\u001b[0;34m(self, fndesc)\u001b[0m\n\u001b[1;32m    188\u001b[0m         \u001b[0;31m# Init argument values\u001b[0m\u001b[0;34m\u001b[0m\u001b[0;34m\u001b[0m\u001b[0;34m\u001b[0m\u001b[0m\n\u001b[1;32m    189\u001b[0m         \u001b[0mself\u001b[0m\u001b[0;34m.\u001b[0m\u001b[0mextract_function_arguments\u001b[0m\u001b[0;34m(\u001b[0m\u001b[0;34m)\u001b[0m\u001b[0;34m\u001b[0m\u001b[0;34m\u001b[0m\u001b[0m\n\u001b[0;32m--> 190\u001b[0;31m         \u001b[0mentry_block_tail\u001b[0m \u001b[0;34m=\u001b[0m \u001b[0mself\u001b[0m\u001b[0;34m.\u001b[0m\u001b[0mlower_function_body\u001b[0m\u001b[0;34m(\u001b[0m\u001b[0;34m)\u001b[0m\u001b[0;34m\u001b[0m\u001b[0;34m\u001b[0m\u001b[0m\n\u001b[0m\u001b[1;32m    191\u001b[0m \u001b[0;34m\u001b[0m\u001b[0m\n\u001b[1;32m    192\u001b[0m         \u001b[0;31m# Close tail of entry block\u001b[0m\u001b[0;34m\u001b[0m\u001b[0;34m\u001b[0m\u001b[0;34m\u001b[0m\u001b[0m\n",
            "\u001b[0;32m/usr/local/lib/python3.7/dist-packages/numba/core/lowering.py\u001b[0m in \u001b[0;36mlower_function_body\u001b[0;34m(self)\u001b[0m\n\u001b[1;32m    214\u001b[0m             \u001b[0mbb\u001b[0m \u001b[0;34m=\u001b[0m \u001b[0mself\u001b[0m\u001b[0;34m.\u001b[0m\u001b[0mblkmap\u001b[0m\u001b[0;34m[\u001b[0m\u001b[0moffset\u001b[0m\u001b[0;34m]\u001b[0m\u001b[0;34m\u001b[0m\u001b[0;34m\u001b[0m\u001b[0m\n\u001b[1;32m    215\u001b[0m             \u001b[0mself\u001b[0m\u001b[0;34m.\u001b[0m\u001b[0mbuilder\u001b[0m\u001b[0;34m.\u001b[0m\u001b[0mposition_at_end\u001b[0m\u001b[0;34m(\u001b[0m\u001b[0mbb\u001b[0m\u001b[0;34m)\u001b[0m\u001b[0;34m\u001b[0m\u001b[0;34m\u001b[0m\u001b[0m\n\u001b[0;32m--> 216\u001b[0;31m             \u001b[0mself\u001b[0m\u001b[0;34m.\u001b[0m\u001b[0mlower_block\u001b[0m\u001b[0;34m(\u001b[0m\u001b[0mblock\u001b[0m\u001b[0;34m)\u001b[0m\u001b[0;34m\u001b[0m\u001b[0;34m\u001b[0m\u001b[0m\n\u001b[0m\u001b[1;32m    217\u001b[0m         \u001b[0mself\u001b[0m\u001b[0;34m.\u001b[0m\u001b[0mpost_lower\u001b[0m\u001b[0;34m(\u001b[0m\u001b[0;34m)\u001b[0m\u001b[0;34m\u001b[0m\u001b[0;34m\u001b[0m\u001b[0m\n\u001b[1;32m    218\u001b[0m         \u001b[0;32mreturn\u001b[0m \u001b[0mentry_block_tail\u001b[0m\u001b[0;34m\u001b[0m\u001b[0;34m\u001b[0m\u001b[0m\n",
            "\u001b[0;32m/usr/local/lib/python3.7/dist-packages/numba/core/lowering.py\u001b[0m in \u001b[0;36mlower_block\u001b[0;34m(self, block)\u001b[0m\n\u001b[1;32m    228\u001b[0m             with new_error_context('lowering \"{inst}\" at {loc}', inst=inst,\n\u001b[1;32m    229\u001b[0m                                    loc=self.loc, errcls_=defaulterrcls):\n\u001b[0;32m--> 230\u001b[0;31m                 \u001b[0mself\u001b[0m\u001b[0;34m.\u001b[0m\u001b[0mlower_inst\u001b[0m\u001b[0;34m(\u001b[0m\u001b[0minst\u001b[0m\u001b[0;34m)\u001b[0m\u001b[0;34m\u001b[0m\u001b[0;34m\u001b[0m\u001b[0m\n\u001b[0m\u001b[1;32m    231\u001b[0m         \u001b[0mself\u001b[0m\u001b[0;34m.\u001b[0m\u001b[0mpost_block\u001b[0m\u001b[0;34m(\u001b[0m\u001b[0mblock\u001b[0m\u001b[0;34m)\u001b[0m\u001b[0;34m\u001b[0m\u001b[0;34m\u001b[0m\u001b[0m\n\u001b[1;32m    232\u001b[0m \u001b[0;34m\u001b[0m\u001b[0m\n",
            "\u001b[0;32m/usr/local/lib/python3.7/dist-packages/numba/core/lowering.py\u001b[0m in \u001b[0;36mlower_inst\u001b[0;34m(self, inst)\u001b[0m\n\u001b[1;32m    325\u001b[0m         \u001b[0;32mif\u001b[0m \u001b[0misinstance\u001b[0m\u001b[0;34m(\u001b[0m\u001b[0minst\u001b[0m\u001b[0;34m,\u001b[0m \u001b[0mir\u001b[0m\u001b[0;34m.\u001b[0m\u001b[0mAssign\u001b[0m\u001b[0;34m)\u001b[0m\u001b[0;34m:\u001b[0m\u001b[0;34m\u001b[0m\u001b[0;34m\u001b[0m\u001b[0m\n\u001b[1;32m    326\u001b[0m             \u001b[0mty\u001b[0m \u001b[0;34m=\u001b[0m \u001b[0mself\u001b[0m\u001b[0;34m.\u001b[0m\u001b[0mtypeof\u001b[0m\u001b[0;34m(\u001b[0m\u001b[0minst\u001b[0m\u001b[0;34m.\u001b[0m\u001b[0mtarget\u001b[0m\u001b[0;34m.\u001b[0m\u001b[0mname\u001b[0m\u001b[0;34m)\u001b[0m\u001b[0;34m\u001b[0m\u001b[0;34m\u001b[0m\u001b[0m\n\u001b[0;32m--> 327\u001b[0;31m             \u001b[0mval\u001b[0m \u001b[0;34m=\u001b[0m \u001b[0mself\u001b[0m\u001b[0;34m.\u001b[0m\u001b[0mlower_assign\u001b[0m\u001b[0;34m(\u001b[0m\u001b[0mty\u001b[0m\u001b[0;34m,\u001b[0m \u001b[0minst\u001b[0m\u001b[0;34m)\u001b[0m\u001b[0;34m\u001b[0m\u001b[0;34m\u001b[0m\u001b[0m\n\u001b[0m\u001b[1;32m    328\u001b[0m             \u001b[0mself\u001b[0m\u001b[0;34m.\u001b[0m\u001b[0mstorevar\u001b[0m\u001b[0;34m(\u001b[0m\u001b[0mval\u001b[0m\u001b[0;34m,\u001b[0m \u001b[0minst\u001b[0m\u001b[0;34m.\u001b[0m\u001b[0mtarget\u001b[0m\u001b[0;34m.\u001b[0m\u001b[0mname\u001b[0m\u001b[0;34m)\u001b[0m\u001b[0;34m\u001b[0m\u001b[0;34m\u001b[0m\u001b[0m\n\u001b[1;32m    329\u001b[0m \u001b[0;34m\u001b[0m\u001b[0m\n",
            "\u001b[0;32m/usr/local/lib/python3.7/dist-packages/numba/core/lowering.py\u001b[0m in \u001b[0;36mlower_assign\u001b[0;34m(self, ty, inst)\u001b[0m\n\u001b[1;32m    500\u001b[0m \u001b[0;34m\u001b[0m\u001b[0m\n\u001b[1;32m    501\u001b[0m         \u001b[0;32melif\u001b[0m \u001b[0misinstance\u001b[0m\u001b[0;34m(\u001b[0m\u001b[0mvalue\u001b[0m\u001b[0;34m,\u001b[0m \u001b[0mir\u001b[0m\u001b[0;34m.\u001b[0m\u001b[0mExpr\u001b[0m\u001b[0;34m)\u001b[0m\u001b[0;34m:\u001b[0m\u001b[0;34m\u001b[0m\u001b[0;34m\u001b[0m\u001b[0m\n\u001b[0;32m--> 502\u001b[0;31m             \u001b[0;32mreturn\u001b[0m \u001b[0mself\u001b[0m\u001b[0;34m.\u001b[0m\u001b[0mlower_expr\u001b[0m\u001b[0;34m(\u001b[0m\u001b[0mty\u001b[0m\u001b[0;34m,\u001b[0m \u001b[0mvalue\u001b[0m\u001b[0;34m)\u001b[0m\u001b[0;34m\u001b[0m\u001b[0;34m\u001b[0m\u001b[0m\n\u001b[0m\u001b[1;32m    503\u001b[0m \u001b[0;34m\u001b[0m\u001b[0m\n\u001b[1;32m    504\u001b[0m         \u001b[0;32melif\u001b[0m \u001b[0misinstance\u001b[0m\u001b[0;34m(\u001b[0m\u001b[0mvalue\u001b[0m\u001b[0;34m,\u001b[0m \u001b[0mir\u001b[0m\u001b[0;34m.\u001b[0m\u001b[0mVar\u001b[0m\u001b[0;34m)\u001b[0m\u001b[0;34m:\u001b[0m\u001b[0;34m\u001b[0m\u001b[0;34m\u001b[0m\u001b[0m\n",
            "\u001b[0;32m/usr/local/lib/python3.7/dist-packages/numba/core/lowering.py\u001b[0m in \u001b[0;36mlower_expr\u001b[0;34m(self, resty, expr)\u001b[0m\n\u001b[1;32m   1001\u001b[0m     \u001b[0;32mdef\u001b[0m \u001b[0mlower_expr\u001b[0m\u001b[0;34m(\u001b[0m\u001b[0mself\u001b[0m\u001b[0;34m,\u001b[0m \u001b[0mresty\u001b[0m\u001b[0;34m,\u001b[0m \u001b[0mexpr\u001b[0m\u001b[0;34m)\u001b[0m\u001b[0;34m:\u001b[0m\u001b[0;34m\u001b[0m\u001b[0;34m\u001b[0m\u001b[0m\n\u001b[1;32m   1002\u001b[0m         \u001b[0;32mif\u001b[0m \u001b[0mexpr\u001b[0m\u001b[0;34m.\u001b[0m\u001b[0mop\u001b[0m \u001b[0;34m==\u001b[0m \u001b[0;34m'binop'\u001b[0m\u001b[0;34m:\u001b[0m\u001b[0;34m\u001b[0m\u001b[0;34m\u001b[0m\u001b[0m\n\u001b[0;32m-> 1003\u001b[0;31m             \u001b[0;32mreturn\u001b[0m \u001b[0mself\u001b[0m\u001b[0;34m.\u001b[0m\u001b[0mlower_binop\u001b[0m\u001b[0;34m(\u001b[0m\u001b[0mresty\u001b[0m\u001b[0;34m,\u001b[0m \u001b[0mexpr\u001b[0m\u001b[0;34m,\u001b[0m \u001b[0mexpr\u001b[0m\u001b[0;34m.\u001b[0m\u001b[0mfn\u001b[0m\u001b[0;34m)\u001b[0m\u001b[0;34m\u001b[0m\u001b[0;34m\u001b[0m\u001b[0m\n\u001b[0m\u001b[1;32m   1004\u001b[0m         \u001b[0;32melif\u001b[0m \u001b[0mexpr\u001b[0m\u001b[0;34m.\u001b[0m\u001b[0mop\u001b[0m \u001b[0;34m==\u001b[0m \u001b[0;34m'inplace_binop'\u001b[0m\u001b[0;34m:\u001b[0m\u001b[0;34m\u001b[0m\u001b[0;34m\u001b[0m\u001b[0m\n\u001b[1;32m   1005\u001b[0m             \u001b[0mlty\u001b[0m \u001b[0;34m=\u001b[0m \u001b[0mself\u001b[0m\u001b[0;34m.\u001b[0m\u001b[0mtypeof\u001b[0m\u001b[0;34m(\u001b[0m\u001b[0mexpr\u001b[0m\u001b[0;34m.\u001b[0m\u001b[0mlhs\u001b[0m\u001b[0;34m.\u001b[0m\u001b[0mname\u001b[0m\u001b[0;34m)\u001b[0m\u001b[0;34m\u001b[0m\u001b[0;34m\u001b[0m\u001b[0m\n",
            "\u001b[0;32m/usr/local/lib/python3.7/dist-packages/numba/core/lowering.py\u001b[0m in \u001b[0;36mlower_binop\u001b[0;34m(self, resty, expr, op)\u001b[0m\n\u001b[1;32m    625\u001b[0m         \u001b[0;31m# Normal implementation for generic arguments\u001b[0m\u001b[0;34m\u001b[0m\u001b[0;34m\u001b[0m\u001b[0;34m\u001b[0m\u001b[0m\n\u001b[1;32m    626\u001b[0m \u001b[0;34m\u001b[0m\u001b[0m\n\u001b[0;32m--> 627\u001b[0;31m         \u001b[0msig\u001b[0m \u001b[0;34m=\u001b[0m \u001b[0mop\u001b[0m\u001b[0;34m.\u001b[0m\u001b[0mget_call_type\u001b[0m\u001b[0;34m(\u001b[0m\u001b[0mself\u001b[0m\u001b[0;34m.\u001b[0m\u001b[0mcontext\u001b[0m\u001b[0;34m.\u001b[0m\u001b[0mtyping_context\u001b[0m\u001b[0;34m,\u001b[0m \u001b[0msignature\u001b[0m\u001b[0;34m.\u001b[0m\u001b[0margs\u001b[0m\u001b[0;34m,\u001b[0m \u001b[0;34m{\u001b[0m\u001b[0;34m}\u001b[0m\u001b[0;34m)\u001b[0m\u001b[0;34m\u001b[0m\u001b[0;34m\u001b[0m\u001b[0m\n\u001b[0m\u001b[1;32m    628\u001b[0m         \u001b[0mimpl\u001b[0m \u001b[0;34m=\u001b[0m \u001b[0mself\u001b[0m\u001b[0;34m.\u001b[0m\u001b[0mcontext\u001b[0m\u001b[0;34m.\u001b[0m\u001b[0mget_function\u001b[0m\u001b[0;34m(\u001b[0m\u001b[0mop\u001b[0m\u001b[0;34m,\u001b[0m \u001b[0msig\u001b[0m\u001b[0;34m)\u001b[0m\u001b[0;34m\u001b[0m\u001b[0;34m\u001b[0m\u001b[0m\n\u001b[1;32m    629\u001b[0m         \u001b[0mres\u001b[0m \u001b[0;34m=\u001b[0m \u001b[0mimpl\u001b[0m\u001b[0;34m(\u001b[0m\u001b[0mself\u001b[0m\u001b[0;34m.\u001b[0m\u001b[0mbuilder\u001b[0m\u001b[0;34m,\u001b[0m \u001b[0;34m(\u001b[0m\u001b[0mlhs\u001b[0m\u001b[0;34m,\u001b[0m \u001b[0mrhs\u001b[0m\u001b[0;34m)\u001b[0m\u001b[0;34m)\u001b[0m\u001b[0;34m\u001b[0m\u001b[0;34m\u001b[0m\u001b[0m\n",
            "\u001b[0;32m/usr/local/lib/python3.7/dist-packages/numba/core/types/functions.py\u001b[0m in \u001b[0;36mget_call_type\u001b[0;34m(self, context, args, kws)\u001b[0m\n\u001b[1;32m    296\u001b[0m                         nolitkws = {k: _unlit_non_poison(v)\n\u001b[1;32m    297\u001b[0m                                     for k, v in kws.items()}\n\u001b[0;32m--> 298\u001b[0;31m                         \u001b[0msig\u001b[0m \u001b[0;34m=\u001b[0m \u001b[0mtemp\u001b[0m\u001b[0;34m.\u001b[0m\u001b[0mapply\u001b[0m\u001b[0;34m(\u001b[0m\u001b[0mnolitargs\u001b[0m\u001b[0;34m,\u001b[0m \u001b[0mnolitkws\u001b[0m\u001b[0;34m)\u001b[0m\u001b[0;34m\u001b[0m\u001b[0;34m\u001b[0m\u001b[0m\n\u001b[0m\u001b[1;32m    299\u001b[0m                 \u001b[0;32mexcept\u001b[0m \u001b[0mException\u001b[0m \u001b[0;32mas\u001b[0m \u001b[0me\u001b[0m\u001b[0;34m:\u001b[0m\u001b[0;34m\u001b[0m\u001b[0;34m\u001b[0m\u001b[0m\n\u001b[1;32m    300\u001b[0m                     \u001b[0msig\u001b[0m \u001b[0;34m=\u001b[0m \u001b[0;32mNone\u001b[0m\u001b[0;34m\u001b[0m\u001b[0;34m\u001b[0m\u001b[0m\n",
            "\u001b[0;32m/usr/local/lib/python3.7/dist-packages/numba/core/typing/templates.py\u001b[0m in \u001b[0;36mapply\u001b[0;34m(self, args, kws)\u001b[0m\n\u001b[1;32m    343\u001b[0m     \u001b[0;32mdef\u001b[0m \u001b[0mapply\u001b[0m\u001b[0;34m(\u001b[0m\u001b[0mself\u001b[0m\u001b[0;34m,\u001b[0m \u001b[0margs\u001b[0m\u001b[0;34m,\u001b[0m \u001b[0mkws\u001b[0m\u001b[0;34m)\u001b[0m\u001b[0;34m:\u001b[0m\u001b[0;34m\u001b[0m\u001b[0;34m\u001b[0m\u001b[0m\n\u001b[1;32m    344\u001b[0m         \u001b[0mgeneric\u001b[0m \u001b[0;34m=\u001b[0m \u001b[0mgetattr\u001b[0m\u001b[0;34m(\u001b[0m\u001b[0mself\u001b[0m\u001b[0;34m,\u001b[0m \u001b[0;34m\"generic\"\u001b[0m\u001b[0;34m)\u001b[0m\u001b[0;34m\u001b[0m\u001b[0;34m\u001b[0m\u001b[0m\n\u001b[0;32m--> 345\u001b[0;31m         \u001b[0msig\u001b[0m \u001b[0;34m=\u001b[0m \u001b[0mgeneric\u001b[0m\u001b[0;34m(\u001b[0m\u001b[0margs\u001b[0m\u001b[0;34m,\u001b[0m \u001b[0mkws\u001b[0m\u001b[0;34m)\u001b[0m\u001b[0;34m\u001b[0m\u001b[0;34m\u001b[0m\u001b[0m\n\u001b[0m\u001b[1;32m    346\u001b[0m         \u001b[0;31m# Enforce that *generic()* must return None or Signature\u001b[0m\u001b[0;34m\u001b[0m\u001b[0;34m\u001b[0m\u001b[0;34m\u001b[0m\u001b[0m\n\u001b[1;32m    347\u001b[0m         \u001b[0;32mif\u001b[0m \u001b[0msig\u001b[0m \u001b[0;32mis\u001b[0m \u001b[0;32mnot\u001b[0m \u001b[0;32mNone\u001b[0m\u001b[0;34m:\u001b[0m\u001b[0;34m\u001b[0m\u001b[0;34m\u001b[0m\u001b[0m\n",
            "\u001b[0;32m/usr/local/lib/python3.7/dist-packages/numba/core/typing/npydecl.py\u001b[0m in \u001b[0;36mgeneric\u001b[0;34m(self, args, kws)\u001b[0m\n\u001b[1;32m    179\u001b[0m         '''\n\u001b[1;32m    180\u001b[0m         \u001b[0;32mtry\u001b[0m\u001b[0;34m:\u001b[0m\u001b[0;34m\u001b[0m\u001b[0;34m\u001b[0m\u001b[0m\n\u001b[0;32m--> 181\u001b[0;31m             \u001b[0msig\u001b[0m \u001b[0;34m=\u001b[0m \u001b[0msuper\u001b[0m\u001b[0;34m(\u001b[0m\u001b[0mNumpyRulesArrayOperator\u001b[0m\u001b[0;34m,\u001b[0m \u001b[0mself\u001b[0m\u001b[0;34m)\u001b[0m\u001b[0;34m.\u001b[0m\u001b[0mgeneric\u001b[0m\u001b[0;34m(\u001b[0m\u001b[0margs\u001b[0m\u001b[0;34m,\u001b[0m \u001b[0mkws\u001b[0m\u001b[0;34m)\u001b[0m\u001b[0;34m\u001b[0m\u001b[0;34m\u001b[0m\u001b[0m\n\u001b[0m\u001b[1;32m    182\u001b[0m         \u001b[0;32mexcept\u001b[0m \u001b[0mTypingError\u001b[0m\u001b[0;34m:\u001b[0m\u001b[0;34m\u001b[0m\u001b[0;34m\u001b[0m\u001b[0m\n\u001b[1;32m    183\u001b[0m             \u001b[0;32mreturn\u001b[0m \u001b[0;32mNone\u001b[0m\u001b[0;34m\u001b[0m\u001b[0;34m\u001b[0m\u001b[0m\n",
            "\u001b[0;32m/usr/local/lib/python3.7/dist-packages/numba/core/typing/npydecl.py\u001b[0m in \u001b[0;36mgeneric\u001b[0;34m(self, args, kws)\u001b[0m\n\u001b[1;32m     98\u001b[0m         base_types, explicit_outputs, ndims, layout = self._handle_inputs(\n\u001b[1;32m     99\u001b[0m             ufunc, args, kws)\n\u001b[0;32m--> 100\u001b[0;31m         \u001b[0mufunc_loop\u001b[0m \u001b[0;34m=\u001b[0m \u001b[0mufunc_find_matching_loop\u001b[0m\u001b[0;34m(\u001b[0m\u001b[0mufunc\u001b[0m\u001b[0;34m,\u001b[0m \u001b[0mbase_types\u001b[0m\u001b[0;34m)\u001b[0m\u001b[0;34m\u001b[0m\u001b[0;34m\u001b[0m\u001b[0m\n\u001b[0m\u001b[1;32m    101\u001b[0m         \u001b[0;32mif\u001b[0m \u001b[0mufunc_loop\u001b[0m \u001b[0;32mis\u001b[0m \u001b[0;32mNone\u001b[0m\u001b[0;34m:\u001b[0m\u001b[0;34m\u001b[0m\u001b[0;34m\u001b[0m\u001b[0m\n\u001b[1;32m    102\u001b[0m             \u001b[0;32mraise\u001b[0m \u001b[0mTypingError\u001b[0m\u001b[0;34m(\u001b[0m\u001b[0;34m\"can't resolve ufunc {0} for types {1}\"\u001b[0m\u001b[0;34m.\u001b[0m\u001b[0mformat\u001b[0m\u001b[0;34m(\u001b[0m\u001b[0mufunc\u001b[0m\u001b[0;34m.\u001b[0m\u001b[0m__name__\u001b[0m\u001b[0;34m,\u001b[0m \u001b[0margs\u001b[0m\u001b[0;34m)\u001b[0m\u001b[0;34m)\u001b[0m\u001b[0;34m\u001b[0m\u001b[0;34m\u001b[0m\u001b[0m\n",
            "\u001b[0;32m/usr/local/lib/python3.7/dist-packages/numba/np/numpy_support.py\u001b[0m in \u001b[0;36mufunc_find_matching_loop\u001b[0;34m(ufunc, arg_types)\u001b[0m\n\u001b[1;32m    465\u001b[0m                     \u001b[0;32mbreak\u001b[0m\u001b[0;34m\u001b[0m\u001b[0;34m\u001b[0m\u001b[0m\n\u001b[1;32m    466\u001b[0m             elif not ufunc_can_cast(outer.char, inner,\n\u001b[0;32m--> 467\u001b[0;31m                                     has_mixed_inputs, 'safe'):\n\u001b[0m\u001b[1;32m    468\u001b[0m                 \u001b[0mfound\u001b[0m \u001b[0;34m=\u001b[0m \u001b[0;32mFalse\u001b[0m\u001b[0;34m\u001b[0m\u001b[0;34m\u001b[0m\u001b[0m\n\u001b[1;32m    469\u001b[0m                 \u001b[0;32mbreak\u001b[0m\u001b[0;34m\u001b[0m\u001b[0;34m\u001b[0m\u001b[0m\n",
            "\u001b[0;32m/usr/local/lib/python3.7/dist-packages/numba/np/numpy_support.py\u001b[0m in \u001b[0;36mufunc_can_cast\u001b[0;34m(from_, to, has_mixed_inputs, casting)\u001b[0m\n\u001b[1;32m    344\u001b[0m         \u001b[0;31m# Decide that all integers can cast to any real or complex type.\u001b[0m\u001b[0;34m\u001b[0m\u001b[0;34m\u001b[0m\u001b[0;34m\u001b[0m\u001b[0m\n\u001b[1;32m    345\u001b[0m         \u001b[0;32mreturn\u001b[0m \u001b[0;32mTrue\u001b[0m\u001b[0;34m\u001b[0m\u001b[0;34m\u001b[0m\u001b[0m\n\u001b[0;32m--> 346\u001b[0;31m     \u001b[0;32mreturn\u001b[0m \u001b[0mnp\u001b[0m\u001b[0;34m.\u001b[0m\u001b[0mcan_cast\u001b[0m\u001b[0;34m(\u001b[0m\u001b[0mfrom_\u001b[0m\u001b[0;34m,\u001b[0m \u001b[0mto\u001b[0m\u001b[0;34m,\u001b[0m \u001b[0mcasting\u001b[0m\u001b[0;34m)\u001b[0m\u001b[0;34m\u001b[0m\u001b[0;34m\u001b[0m\u001b[0m\n\u001b[0m\u001b[1;32m    347\u001b[0m \u001b[0;34m\u001b[0m\u001b[0m\n\u001b[1;32m    348\u001b[0m \u001b[0;34m\u001b[0m\u001b[0m\n",
            "\u001b[0;31mKeyboardInterrupt\u001b[0m: "
          ]
        }
      ]
    },
    {
      "cell_type": "code",
      "source": [
        "signal, y_train = zip(*train_lst)"
      ],
      "metadata": {
        "id": "CMkZ_U0rZs0z"
      },
      "execution_count": null,
      "outputs": []
    },
    {
      "cell_type": "code",
      "source": [
        "signal=np.asarray(signal)\n",
        "y_train=np.asarray(y_train)"
      ],
      "metadata": {
        "colab": {
          "base_uri": "https://localhost:8080/"
        },
        "id": "IJbOKuiIaBxx",
        "outputId": "8f517e1c-07db-410b-f2ff-863f0aa57276"
      },
      "execution_count": null,
      "outputs": [
        {
          "output_type": "stream",
          "name": "stderr",
          "text": [
            "/usr/local/lib/python3.7/dist-packages/ipykernel_launcher.py:1: VisibleDeprecationWarning:\n",
            "\n",
            "Creating an ndarray from ragged nested sequences (which is a list-or-tuple of lists-or-tuples-or ndarrays with different lengths or shapes) is deprecated. If you meant to do this, you must specify 'dtype=object' when creating the ndarray.\n",
            "\n"
          ]
        }
      ]
    },
    {
      "cell_type": "code",
      "source": [
        "x_train=[]"
      ],
      "metadata": {
        "id": "iGuQyoqTaKzR"
      },
      "execution_count": null,
      "outputs": []
    },
    {
      "cell_type": "code",
      "source": [
        "for i in range(signal.size):\n",
        "  x_train.append(np.mean(librosa.feature.mfcc(y=signal[i], sr=sample_rate, n_mfcc=40).T,axis=0))"
      ],
      "metadata": {
        "id": "Y_9_-pxcWjtj"
      },
      "execution_count": null,
      "outputs": []
    },
    {
      "cell_type": "code",
      "source": [
        "x_train=np.asarray(x_train)"
      ],
      "metadata": {
        "id": "W-giRONHaPnr"
      },
      "execution_count": null,
      "outputs": []
    },
    {
      "cell_type": "code",
      "source": [
        "x_train.shape"
      ],
      "metadata": {
        "colab": {
          "base_uri": "https://localhost:8080/"
        },
        "id": "TxH7IFawa__X",
        "outputId": "ddd50347-abca-4aa1-c709-120569a04253"
      },
      "execution_count": null,
      "outputs": [
        {
          "output_type": "execute_result",
          "data": {
            "text/plain": [
              "(37, 40)"
            ]
          },
          "metadata": {},
          "execution_count": 22
        }
      ]
    },
    {
      "cell_type": "code",
      "source": [
        "y_train.shape"
      ],
      "metadata": {
        "colab": {
          "base_uri": "https://localhost:8080/"
        },
        "id": "AvCXMuBobZAo",
        "outputId": "edcddc3a-9522-46b3-bdac-2b4c9db16df5"
      },
      "execution_count": null,
      "outputs": [
        {
          "output_type": "execute_result",
          "data": {
            "text/plain": [
              "(37,)"
            ]
          },
          "metadata": {},
          "execution_count": 23
        }
      ]
    },
    {
      "cell_type": "code",
      "source": [
        "#orignal\n",
        "import keras\n",
        "import numpy as np\n",
        "import matplotlib.pyplot as plt\n",
        "import tensorflow as tf\n",
        "from keras.preprocessing import sequence\n",
        "from keras.models import Sequential\n",
        "from keras.layers import Dense, Embedding\n",
        "from tensorflow.keras.utils import to_categorical\n",
        "from keras.layers import Input, Flatten, Dropout, Activation\n",
        "from keras.layers import Conv1D, MaxPooling1D\n",
        "from keras.models import Model\n",
        "from keras.callbacks import ModelCheckpoint\n",
        "from tensorflow.keras import optimizers\n",
        "from tensorflow import keras\n",
        "from tensorflow.keras.optimizers import schedules\n",
        "\n",
        "model = Sequential()\n",
        "\n",
        "model.add(Conv1D(64, 5,padding='same', #classifier.add(Convolution2D(64, (3, 3), padding = 'same', input_shape = (128, 128, 3), activation = 'relu'))\n",
        "                 input_shape=(40,1)))\n",
        "model.add(Activation('relu'))\n",
        "model.add(Dropout(0.1))\n",
        "model.add(MaxPooling1D(pool_size=(4)))\n",
        "model.add(Conv1D(128, 5,padding='same',))\n",
        "model.add(Activation('relu'))\n",
        "model.add(Dropout(0.1))\n",
        "model.add(MaxPooling1D(pool_size=(4)))\n",
        "model.add(Conv1D(256, 5,padding='same',))\n",
        "model.add(Activation('relu'))\n",
        "model.add(Dropout(0.1))\n",
        "model.add(Flatten())\n",
        "model.add(Dense(6))\n",
        "model.add(Activation('softmax'))\n",
        "lr_schedule = keras.optimizers.schedules.ExponentialDecay(\n",
        "    initial_learning_rate=0.0001,\n",
        "    decay_steps=10000,\n",
        "    decay_rate=0.0)\n",
        "lr_schedule = keras.optimizers.schedules.ExponentialDecay(\n",
        "    initial_learning_rate=0.0001,\n",
        "    decay_steps=10000,\n",
        "    decay_rate=0.0)\n",
        "opt = keras.optimizers.SGD(learning_rate=lr_schedule)\n",
        "#opt = keras.optimizers.SGD(learning_rate=lr_schedule)\n",
        "#opt = tf.keras.optimizers.RMSprop(lr=0.0001, rho=0.9, epsilon=1e-07, decay=0.0)\n",
        "#opt = tf.keras.optimizers.SGD(lr=0.001, momentum=0.0, decay=0.0, nesterov=False)"
      ],
      "metadata": {
        "id": "g74fXWVAC4Cr"
      },
      "execution_count": null,
      "outputs": []
    },
    {
      "cell_type": "code",
      "source": [
        "#adding new layer\n",
        "import keras\n",
        "import numpy as np\n",
        "import matplotlib.pyplot as plt\n",
        "import tensorflow as tf\n",
        "from keras.preprocessing import sequence\n",
        "from keras.models import Sequential\n",
        "from keras.layers import Dense, Embedding\n",
        "from tensorflow.keras.utils import to_categorical\n",
        "from keras.layers import Input, Flatten, Dropout, Activation\n",
        "from keras.layers import Conv1D, MaxPooling1D\n",
        "from keras.models import Model\n",
        "from keras.callbacks import ModelCheckpoint\n",
        "from tensorflow.keras import optimizers\n",
        "from tensorflow import keras\n",
        "from tensorflow.keras.optimizers import schedules\n",
        "\n",
        "\n",
        "model = Sequential()\n",
        "\n",
        "model.add(Conv1D(64, 5,padding='same', #classifier.add(Convolution2D(64, (3, 3), padding = 'same', input_shape = (128, 128, 3), activation = 'relu'))\n",
        "                 input_shape=(40,1)))\n",
        "model.add(Activation('relu'))\n",
        "model.add(Dropout(0.1))\n",
        "model.add(MaxPooling1D(pool_size=(4)))\n",
        "model.add(Conv1D(128, 5,padding='same',))\n",
        "model.add(Activation('relu'))\n",
        "model.add(Dropout(0.3))\n",
        "model.add(MaxPooling1D(pool_size=(4)))\n",
        "model.add(Conv1D(128, 5,padding='same',))\n",
        "model.add(Activation('relu'))\n",
        "model.add(Dropout(0.3))\n",
        "model.add(MaxPooling1D(pool_size=(2)))\n",
        "model.add(Conv1D(256, 5,padding='same',))\n",
        "model.add(Activation('relu'))\n",
        "model.add(Dropout(0.4))\n",
        "model.add(Flatten())\n",
        "model.add(Dense(6))\n",
        "model.add(Activation('softmax'))\n",
        "opt = keras.optimizers.Adam(learning_rate=0.0001)\n",
        "#opt = tf.keras.optimizers.RMSprop(lr=0.0001, rho=0.9, epsilon=1e-07, decay=0.0)\n",
        "#opt = tf.keras.optimizers.SGD(lr=0.001, momentum=0.0, decay=0.0, nesterov=False)"
      ],
      "metadata": {
        "id": "gudVTxSh0_hK"
      },
      "execution_count": null,
      "outputs": []
    },
    {
      "cell_type": "code",
      "source": [
        "#changing dropout\n",
        "import keras\n",
        "import numpy as np\n",
        "import matplotlib.pyplot as plt\n",
        "import tensorflow as tf\n",
        "from keras.preprocessing import sequence\n",
        "from keras.models import Sequential\n",
        "from keras.layers import Dense, Embedding\n",
        "from tensorflow.keras.utils import to_categorical\n",
        "from keras.layers import Input, Flatten, Dropout, Activation\n",
        "from keras.layers import Conv1D, MaxPooling1D\n",
        "from keras.models import Model\n",
        "from keras.callbacks import ModelCheckpoint\n",
        "from tensorflow.keras import optimizers\n",
        "from tensorflow import keras\n",
        "from tensorflow.keras.optimizers import schedules\n",
        "\n",
        "\n",
        "model = Sequential()\n",
        "\n",
        "model.add(Conv1D(64, 5,padding='same', #classifier.add(Convolution2D(64, (3, 3), padding = 'same', input_shape = (128, 128, 3), activation = 'relu'))\n",
        "                 input_shape=(40,1)))\n",
        "model.add(Activation('sigmoid'))\n",
        "model.add(Dropout(0.1))\n",
        "model.add(MaxPooling1D(pool_size=(4)))\n",
        "model.add(Conv1D(128, 5,padding='same',))\n",
        "model.add(Activation('sigmoid'))\n",
        "model.add(Dropout(0.3))\n",
        "model.add(MaxPooling1D(pool_size=(4)))\n",
        "model.add(Conv1D(256, 5,padding='same',))\n",
        "model.add(Activation('sigmoid'))\n",
        "model.add(Dropout(0.4))\n",
        "model.add(Flatten())\n",
        "model.add(Dense(6))\n",
        "model.add(Activation('softmax'))\n",
        "opt = keras.optimizers.Adam(learning_rate=0.0001)\n",
        "#opt = keras.optimizers.SGD(learning_rate=lr_schedule)\n",
        "#opt = tf.keras.optimizers.RMSprop(lr=0.0001, rho=0.9, epsilon=1e-07, decay=0.0)\n",
        "#opt = tf.keras.optimizers.SGD(lr=0.001, momentum=0.0, decay=0.0, nesterov=False)"
      ],
      "metadata": {
        "id": "xXlmfjiQ04ha"
      },
      "execution_count": null,
      "outputs": []
    },
    {
      "cell_type": "code",
      "source": [
        "model.summary()"
      ],
      "metadata": {
        "colab": {
          "base_uri": "https://localhost:8080/"
        },
        "id": "H6ukOxAGC_I4",
        "outputId": "968b26e8-2c76-4222-f0f9-387da7eec756"
      },
      "execution_count": null,
      "outputs": [
        {
          "output_type": "stream",
          "name": "stdout",
          "text": [
            "Model: \"sequential\"\n",
            "_________________________________________________________________\n",
            " Layer (type)                Output Shape              Param #   \n",
            "=================================================================\n",
            " conv1d (Conv1D)             (None, 40, 64)            384       \n",
            "                                                                 \n",
            " activation (Activation)     (None, 40, 64)            0         \n",
            "                                                                 \n",
            " dropout (Dropout)           (None, 40, 64)            0         \n",
            "                                                                 \n",
            " max_pooling1d (MaxPooling1D  (None, 10, 64)           0         \n",
            " )                                                               \n",
            "                                                                 \n",
            " conv1d_1 (Conv1D)           (None, 10, 128)           41088     \n",
            "                                                                 \n",
            " activation_1 (Activation)   (None, 10, 128)           0         \n",
            "                                                                 \n",
            " dropout_1 (Dropout)         (None, 10, 128)           0         \n",
            "                                                                 \n",
            " max_pooling1d_1 (MaxPooling  (None, 2, 128)           0         \n",
            " 1D)                                                             \n",
            "                                                                 \n",
            " conv1d_2 (Conv1D)           (None, 2, 256)            164096    \n",
            "                                                                 \n",
            " activation_2 (Activation)   (None, 2, 256)            0         \n",
            "                                                                 \n",
            " dropout_2 (Dropout)         (None, 2, 256)            0         \n",
            "                                                                 \n",
            " flatten (Flatten)           (None, 512)               0         \n",
            "                                                                 \n",
            " dense (Dense)               (None, 6)                 3078      \n",
            "                                                                 \n",
            " activation_3 (Activation)   (None, 6)                 0         \n",
            "                                                                 \n",
            "=================================================================\n",
            "Total params: 208,646\n",
            "Trainable params: 208,646\n",
            "Non-trainable params: 0\n",
            "_________________________________________________________________\n"
          ]
        }
      ]
    },
    {
      "cell_type": "code",
      "source": [
        "model.compile(loss='sparse_categorical_crossentropy',\n",
        "              optimizer=opt,\n",
        "              metrics=['accuracy'])"
      ],
      "metadata": {
        "id": "AbMlLNk4DCBM"
      },
      "execution_count": null,
      "outputs": []
    },
    {
      "cell_type": "code",
      "source": [
        "cnnhistory=model.fit(x_train, y_train, batch_size=16, epochs=500, validation_data=(x_valid, emo_valid))\n",
        "#cnnhistory=model.fit(x_traincnn, y_train, batch_size=16, epochs=700,validation_split=0.1)"
      ],
      "metadata": {
        "colab": {
          "base_uri": "https://localhost:8080/"
        },
        "id": "RI1v2AuADFhy",
        "outputId": "98b21e4e-25a8-470f-9dd3-b8661189ea92"
      },
      "execution_count": null,
      "outputs": [
        {
          "output_type": "stream",
          "name": "stdout",
          "text": [
            "Epoch 1/500\n",
            "3/3 [==============================] - 1s 154ms/step - loss: 7.2788 - accuracy: 0.1081 - val_loss: 6.4339 - val_accuracy: 0.1401\n",
            "Epoch 2/500\n",
            "3/3 [==============================] - 0s 51ms/step - loss: 6.2300 - accuracy: 0.2973 - val_loss: 6.4339 - val_accuracy: 0.1401\n",
            "Epoch 3/500\n",
            "3/3 [==============================] - 0s 54ms/step - loss: 6.8334 - accuracy: 0.1351 - val_loss: 6.4339 - val_accuracy: 0.1401\n",
            "Epoch 4/500\n",
            "3/3 [==============================] - 0s 36ms/step - loss: 6.8245 - accuracy: 0.1351 - val_loss: 6.4339 - val_accuracy: 0.1401\n",
            "Epoch 5/500\n",
            "3/3 [==============================] - 0s 50ms/step - loss: 7.1259 - accuracy: 0.1081 - val_loss: 6.4339 - val_accuracy: 0.1401\n",
            "Epoch 6/500\n",
            "3/3 [==============================] - 0s 52ms/step - loss: 6.8699 - accuracy: 0.1622 - val_loss: 6.4339 - val_accuracy: 0.1401\n",
            "Epoch 7/500\n",
            "3/3 [==============================] - 0s 36ms/step - loss: 6.8661 - accuracy: 0.1892 - val_loss: 6.4339 - val_accuracy: 0.1401\n",
            "Epoch 8/500\n",
            "3/3 [==============================] - 0s 51ms/step - loss: 6.1572 - accuracy: 0.2162 - val_loss: 6.4339 - val_accuracy: 0.1401\n",
            "Epoch 9/500\n",
            "3/3 [==============================] - 0s 36ms/step - loss: 6.4233 - accuracy: 0.1351 - val_loss: 6.4339 - val_accuracy: 0.1401\n",
            "Epoch 10/500\n",
            "3/3 [==============================] - 0s 50ms/step - loss: 6.5288 - accuracy: 0.1351 - val_loss: 6.4339 - val_accuracy: 0.1401\n",
            "Epoch 11/500\n",
            "3/3 [==============================] - 0s 33ms/step - loss: 5.7885 - accuracy: 0.2973 - val_loss: 6.4339 - val_accuracy: 0.1401\n",
            "Epoch 12/500\n",
            "3/3 [==============================] - 0s 41ms/step - loss: 7.1466 - accuracy: 0.1892 - val_loss: 6.4339 - val_accuracy: 0.1401\n",
            "Epoch 13/500\n",
            "3/3 [==============================] - 0s 53ms/step - loss: 5.7244 - accuracy: 0.2432 - val_loss: 6.4339 - val_accuracy: 0.1401\n",
            "Epoch 14/500\n",
            "3/3 [==============================] - 0s 50ms/step - loss: 6.7429 - accuracy: 0.0811 - val_loss: 6.4339 - val_accuracy: 0.1401\n",
            "Epoch 15/500\n",
            "3/3 [==============================] - 0s 53ms/step - loss: 5.9533 - accuracy: 0.1622 - val_loss: 6.4339 - val_accuracy: 0.1401\n",
            "Epoch 16/500\n",
            "3/3 [==============================] - 0s 34ms/step - loss: 5.8231 - accuracy: 0.1892 - val_loss: 6.4339 - val_accuracy: 0.1401\n",
            "Epoch 17/500\n",
            "3/3 [==============================] - 0s 51ms/step - loss: 5.5683 - accuracy: 0.1892 - val_loss: 6.4339 - val_accuracy: 0.1401\n",
            "Epoch 18/500\n",
            "3/3 [==============================] - 0s 52ms/step - loss: 5.2616 - accuracy: 0.1892 - val_loss: 6.4339 - val_accuracy: 0.1401\n",
            "Epoch 19/500\n",
            "3/3 [==============================] - 0s 50ms/step - loss: 5.6993 - accuracy: 0.1892 - val_loss: 6.4339 - val_accuracy: 0.1401\n",
            "Epoch 20/500\n",
            "3/3 [==============================] - 0s 52ms/step - loss: 6.4204 - accuracy: 0.1622 - val_loss: 6.4339 - val_accuracy: 0.1401\n",
            "Epoch 21/500\n",
            "3/3 [==============================] - 0s 51ms/step - loss: 6.1314 - accuracy: 0.2432 - val_loss: 6.4339 - val_accuracy: 0.1401\n",
            "Epoch 22/500\n",
            "3/3 [==============================] - 0s 33ms/step - loss: 6.1949 - accuracy: 0.2162 - val_loss: 6.4339 - val_accuracy: 0.1401\n",
            "Epoch 23/500\n",
            "3/3 [==============================] - 0s 51ms/step - loss: 6.7911 - accuracy: 0.1622 - val_loss: 6.4339 - val_accuracy: 0.1401\n",
            "Epoch 24/500\n",
            "3/3 [==============================] - 0s 35ms/step - loss: 5.8545 - accuracy: 0.1622 - val_loss: 6.4339 - val_accuracy: 0.1401\n",
            "Epoch 25/500\n",
            "3/3 [==============================] - 0s 51ms/step - loss: 7.3088 - accuracy: 0.1351 - val_loss: 6.4339 - val_accuracy: 0.1401\n",
            "Epoch 26/500\n",
            "3/3 [==============================] - 0s 35ms/step - loss: 5.9849 - accuracy: 0.2162 - val_loss: 6.4339 - val_accuracy: 0.1401\n",
            "Epoch 27/500\n",
            "3/3 [==============================] - 0s 35ms/step - loss: 6.2391 - accuracy: 0.1622 - val_loss: 6.4339 - val_accuracy: 0.1401\n",
            "Epoch 28/500\n",
            "3/3 [==============================] - 0s 51ms/step - loss: 6.0026 - accuracy: 0.1622 - val_loss: 6.4339 - val_accuracy: 0.1401\n",
            "Epoch 29/500\n",
            "3/3 [==============================] - 0s 35ms/step - loss: 6.4231 - accuracy: 0.1351 - val_loss: 6.4339 - val_accuracy: 0.1401\n",
            "Epoch 30/500\n",
            "3/3 [==============================] - 0s 56ms/step - loss: 6.6745 - accuracy: 0.1892 - val_loss: 6.4339 - val_accuracy: 0.1401\n",
            "Epoch 31/500\n",
            "3/3 [==============================] - 0s 50ms/step - loss: 5.9720 - accuracy: 0.2162 - val_loss: 6.4339 - val_accuracy: 0.1401\n",
            "Epoch 32/500\n",
            "3/3 [==============================] - 0s 34ms/step - loss: 7.2373 - accuracy: 0.0541 - val_loss: 6.4339 - val_accuracy: 0.1401\n",
            "Epoch 33/500\n",
            "3/3 [==============================] - 0s 36ms/step - loss: 5.9321 - accuracy: 0.1892 - val_loss: 6.4339 - val_accuracy: 0.1401\n",
            "Epoch 34/500\n",
            "3/3 [==============================] - 0s 34ms/step - loss: 6.3625 - accuracy: 0.2432 - val_loss: 6.4339 - val_accuracy: 0.1401\n",
            "Epoch 35/500\n",
            "3/3 [==============================] - 0s 50ms/step - loss: 4.9622 - accuracy: 0.1081 - val_loss: 6.4339 - val_accuracy: 0.1401\n",
            "Epoch 36/500\n",
            "3/3 [==============================] - 0s 37ms/step - loss: 6.3645 - accuracy: 0.1081 - val_loss: 6.4339 - val_accuracy: 0.1401\n",
            "Epoch 37/500\n",
            "3/3 [==============================] - 0s 50ms/step - loss: 6.4428 - accuracy: 0.1622 - val_loss: 6.4339 - val_accuracy: 0.1401\n",
            "Epoch 38/500\n",
            "3/3 [==============================] - 0s 34ms/step - loss: 6.0621 - accuracy: 0.1892 - val_loss: 6.4339 - val_accuracy: 0.1401\n",
            "Epoch 39/500\n",
            "3/3 [==============================] - 0s 35ms/step - loss: 5.6348 - accuracy: 0.2703 - val_loss: 6.4339 - val_accuracy: 0.1401\n",
            "Epoch 40/500\n",
            "3/3 [==============================] - 0s 39ms/step - loss: 5.9737 - accuracy: 0.3243 - val_loss: 6.4339 - val_accuracy: 0.1401\n",
            "Epoch 41/500\n",
            "3/3 [==============================] - 0s 50ms/step - loss: 7.0680 - accuracy: 0.0811 - val_loss: 6.4339 - val_accuracy: 0.1401\n",
            "Epoch 42/500\n",
            "3/3 [==============================] - 0s 33ms/step - loss: 6.9291 - accuracy: 0.2162 - val_loss: 6.4339 - val_accuracy: 0.1401\n",
            "Epoch 43/500\n",
            "3/3 [==============================] - 0s 51ms/step - loss: 5.8662 - accuracy: 0.2703 - val_loss: 6.4339 - val_accuracy: 0.1401\n",
            "Epoch 44/500\n",
            "3/3 [==============================] - 0s 34ms/step - loss: 6.0088 - accuracy: 0.2162 - val_loss: 6.4339 - val_accuracy: 0.1401\n",
            "Epoch 45/500\n",
            "3/3 [==============================] - 0s 32ms/step - loss: 6.3073 - accuracy: 0.1892 - val_loss: 6.4339 - val_accuracy: 0.1401\n",
            "Epoch 46/500\n",
            "3/3 [==============================] - 0s 35ms/step - loss: 5.9955 - accuracy: 0.1622 - val_loss: 6.4339 - val_accuracy: 0.1401\n",
            "Epoch 47/500\n",
            "3/3 [==============================] - 0s 51ms/step - loss: 6.4483 - accuracy: 0.1892 - val_loss: 6.4339 - val_accuracy: 0.1401\n",
            "Epoch 48/500\n",
            "3/3 [==============================] - 0s 36ms/step - loss: 5.8727 - accuracy: 0.1892 - val_loss: 6.4339 - val_accuracy: 0.1401\n",
            "Epoch 49/500\n",
            "3/3 [==============================] - 0s 34ms/step - loss: 6.5396 - accuracy: 0.1892 - val_loss: 6.4339 - val_accuracy: 0.1401\n",
            "Epoch 50/500\n",
            "3/3 [==============================] - 0s 56ms/step - loss: 6.1127 - accuracy: 0.2162 - val_loss: 6.4339 - val_accuracy: 0.1401\n",
            "Epoch 51/500\n",
            "3/3 [==============================] - 0s 50ms/step - loss: 6.2193 - accuracy: 0.1622 - val_loss: 6.4339 - val_accuracy: 0.1401\n",
            "Epoch 52/500\n",
            "3/3 [==============================] - 0s 35ms/step - loss: 6.9204 - accuracy: 0.0541 - val_loss: 6.4339 - val_accuracy: 0.1401\n",
            "Epoch 53/500\n",
            "3/3 [==============================] - 0s 50ms/step - loss: 6.0532 - accuracy: 0.2432 - val_loss: 6.4339 - val_accuracy: 0.1401\n",
            "Epoch 54/500\n",
            "3/3 [==============================] - 0s 50ms/step - loss: 5.6623 - accuracy: 0.2162 - val_loss: 6.4339 - val_accuracy: 0.1401\n",
            "Epoch 55/500\n",
            "3/3 [==============================] - 0s 54ms/step - loss: 6.3409 - accuracy: 0.1351 - val_loss: 6.4339 - val_accuracy: 0.1401\n",
            "Epoch 56/500\n",
            "3/3 [==============================] - 0s 34ms/step - loss: 5.5637 - accuracy: 0.0541 - val_loss: 6.4339 - val_accuracy: 0.1401\n",
            "Epoch 57/500\n",
            "3/3 [==============================] - 0s 36ms/step - loss: 5.9030 - accuracy: 0.2432 - val_loss: 6.4339 - val_accuracy: 0.1401\n",
            "Epoch 58/500\n",
            "3/3 [==============================] - 0s 54ms/step - loss: 6.4570 - accuracy: 0.2432 - val_loss: 6.4339 - val_accuracy: 0.1401\n",
            "Epoch 59/500\n",
            "3/3 [==============================] - 0s 38ms/step - loss: 6.2759 - accuracy: 0.2432 - val_loss: 6.4339 - val_accuracy: 0.1401\n",
            "Epoch 60/500\n",
            "3/3 [==============================] - 0s 51ms/step - loss: 6.3916 - accuracy: 0.1892 - val_loss: 6.4339 - val_accuracy: 0.1401\n",
            "Epoch 61/500\n",
            "3/3 [==============================] - 0s 36ms/step - loss: 6.8300 - accuracy: 0.1892 - val_loss: 6.4339 - val_accuracy: 0.1401\n",
            "Epoch 62/500\n",
            "3/3 [==============================] - 0s 50ms/step - loss: 6.8304 - accuracy: 0.1081 - val_loss: 6.4339 - val_accuracy: 0.1401\n",
            "Epoch 63/500\n",
            "3/3 [==============================] - 0s 34ms/step - loss: 8.0139 - accuracy: 0.0811 - val_loss: 6.4339 - val_accuracy: 0.1401\n",
            "Epoch 64/500\n",
            "3/3 [==============================] - 0s 51ms/step - loss: 6.7348 - accuracy: 0.0811 - val_loss: 6.4339 - val_accuracy: 0.1401\n",
            "Epoch 65/500\n",
            "3/3 [==============================] - 0s 37ms/step - loss: 6.9964 - accuracy: 0.1622 - val_loss: 6.4339 - val_accuracy: 0.1401\n",
            "Epoch 66/500\n",
            "3/3 [==============================] - 0s 33ms/step - loss: 6.4419 - accuracy: 0.1892 - val_loss: 6.4339 - val_accuracy: 0.1401\n",
            "Epoch 67/500\n",
            "3/3 [==============================] - 0s 51ms/step - loss: 5.6956 - accuracy: 0.1622 - val_loss: 6.4339 - val_accuracy: 0.1401\n",
            "Epoch 68/500\n",
            "3/3 [==============================] - 0s 39ms/step - loss: 6.1405 - accuracy: 0.2432 - val_loss: 6.4339 - val_accuracy: 0.1401\n",
            "Epoch 69/500\n",
            "3/3 [==============================] - 0s 51ms/step - loss: 5.3304 - accuracy: 0.3514 - val_loss: 6.4339 - val_accuracy: 0.1401\n",
            "Epoch 70/500\n",
            "3/3 [==============================] - 0s 50ms/step - loss: 6.0979 - accuracy: 0.1892 - val_loss: 6.4339 - val_accuracy: 0.1401\n",
            "Epoch 71/500\n",
            "3/3 [==============================] - 0s 51ms/step - loss: 5.9908 - accuracy: 0.1892 - val_loss: 6.4339 - val_accuracy: 0.1401\n",
            "Epoch 72/500\n",
            "3/3 [==============================] - 0s 35ms/step - loss: 5.7061 - accuracy: 0.2432 - val_loss: 6.4339 - val_accuracy: 0.1401\n",
            "Epoch 73/500\n",
            "3/3 [==============================] - 0s 37ms/step - loss: 5.1144 - accuracy: 0.2162 - val_loss: 6.4339 - val_accuracy: 0.1401\n",
            "Epoch 74/500\n",
            "3/3 [==============================] - 0s 50ms/step - loss: 5.4386 - accuracy: 0.1892 - val_loss: 6.4339 - val_accuracy: 0.1401\n",
            "Epoch 75/500\n",
            "3/3 [==============================] - 0s 36ms/step - loss: 5.5673 - accuracy: 0.2432 - val_loss: 6.4339 - val_accuracy: 0.1401\n",
            "Epoch 76/500\n",
            "3/3 [==============================] - 0s 43ms/step - loss: 6.3296 - accuracy: 0.1892 - val_loss: 6.4339 - val_accuracy: 0.1401\n",
            "Epoch 77/500\n",
            "3/3 [==============================] - 0s 52ms/step - loss: 6.2241 - accuracy: 0.2703 - val_loss: 6.4339 - val_accuracy: 0.1401\n",
            "Epoch 78/500\n",
            "3/3 [==============================] - 0s 36ms/step - loss: 6.2811 - accuracy: 0.1081 - val_loss: 6.4339 - val_accuracy: 0.1401\n",
            "Epoch 79/500\n",
            "3/3 [==============================] - 0s 38ms/step - loss: 6.3793 - accuracy: 0.2703 - val_loss: 6.4339 - val_accuracy: 0.1401\n",
            "Epoch 80/500\n",
            "3/3 [==============================] - 0s 53ms/step - loss: 6.3764 - accuracy: 0.2432 - val_loss: 6.4339 - val_accuracy: 0.1401\n",
            "Epoch 81/500\n",
            "3/3 [==============================] - 0s 51ms/step - loss: 6.8465 - accuracy: 0.1892 - val_loss: 6.4339 - val_accuracy: 0.1401\n",
            "Epoch 82/500\n",
            "3/3 [==============================] - 0s 35ms/step - loss: 7.8312 - accuracy: 0.1351 - val_loss: 6.4339 - val_accuracy: 0.1401\n",
            "Epoch 83/500\n",
            "3/3 [==============================] - 0s 52ms/step - loss: 6.7985 - accuracy: 0.2162 - val_loss: 6.4339 - val_accuracy: 0.1401\n",
            "Epoch 84/500\n",
            "3/3 [==============================] - 0s 51ms/step - loss: 6.6086 - accuracy: 0.1892 - val_loss: 6.4339 - val_accuracy: 0.1401\n",
            "Epoch 85/500\n",
            "3/3 [==============================] - 0s 36ms/step - loss: 6.1081 - accuracy: 0.1622 - val_loss: 6.4339 - val_accuracy: 0.1401\n",
            "Epoch 86/500\n",
            "3/3 [==============================] - 0s 51ms/step - loss: 4.7904 - accuracy: 0.2432 - val_loss: 6.4339 - val_accuracy: 0.1401\n",
            "Epoch 87/500\n",
            "3/3 [==============================] - 0s 37ms/step - loss: 6.1506 - accuracy: 0.1892 - val_loss: 6.4339 - val_accuracy: 0.1401\n",
            "Epoch 88/500\n",
            "3/3 [==============================] - 0s 35ms/step - loss: 5.9976 - accuracy: 0.1892 - val_loss: 6.4339 - val_accuracy: 0.1401\n",
            "Epoch 89/500\n",
            "3/3 [==============================] - 0s 51ms/step - loss: 5.2953 - accuracy: 0.2432 - val_loss: 6.4339 - val_accuracy: 0.1401\n",
            "Epoch 90/500\n",
            "3/3 [==============================] - 0s 34ms/step - loss: 6.1128 - accuracy: 0.2432 - val_loss: 6.4339 - val_accuracy: 0.1401\n",
            "Epoch 91/500\n",
            "3/3 [==============================] - 0s 36ms/step - loss: 6.0665 - accuracy: 0.2432 - val_loss: 6.4339 - val_accuracy: 0.1401\n",
            "Epoch 92/500\n",
            "3/3 [==============================] - 0s 35ms/step - loss: 6.3724 - accuracy: 0.1622 - val_loss: 6.4339 - val_accuracy: 0.1401\n",
            "Epoch 93/500\n",
            "3/3 [==============================] - 0s 37ms/step - loss: 6.2962 - accuracy: 0.1892 - val_loss: 6.4339 - val_accuracy: 0.1401\n",
            "Epoch 94/500\n",
            "3/3 [==============================] - 0s 36ms/step - loss: 5.2561 - accuracy: 0.2703 - val_loss: 6.4339 - val_accuracy: 0.1401\n",
            "Epoch 95/500\n",
            "3/3 [==============================] - 0s 52ms/step - loss: 6.1156 - accuracy: 0.1351 - val_loss: 6.4339 - val_accuracy: 0.1401\n",
            "Epoch 96/500\n",
            "3/3 [==============================] - 0s 38ms/step - loss: 6.6798 - accuracy: 0.1081 - val_loss: 6.4339 - val_accuracy: 0.1401\n",
            "Epoch 97/500\n",
            "3/3 [==============================] - 0s 39ms/step - loss: 6.0465 - accuracy: 0.1892 - val_loss: 6.4339 - val_accuracy: 0.1401\n",
            "Epoch 98/500\n",
            "3/3 [==============================] - 0s 35ms/step - loss: 6.1960 - accuracy: 0.2432 - val_loss: 6.4339 - val_accuracy: 0.1401\n",
            "Epoch 99/500\n",
            "3/3 [==============================] - 0s 33ms/step - loss: 5.5422 - accuracy: 0.1892 - val_loss: 6.4339 - val_accuracy: 0.1401\n",
            "Epoch 100/500\n",
            "3/3 [==============================] - 0s 35ms/step - loss: 7.2786 - accuracy: 0.0811 - val_loss: 6.4339 - val_accuracy: 0.1401\n",
            "Epoch 101/500\n",
            "3/3 [==============================] - 0s 52ms/step - loss: 6.2084 - accuracy: 0.2432 - val_loss: 6.4339 - val_accuracy: 0.1401\n",
            "Epoch 102/500\n",
            "3/3 [==============================] - 0s 34ms/step - loss: 5.6212 - accuracy: 0.2432 - val_loss: 6.4339 - val_accuracy: 0.1401\n",
            "Epoch 103/500\n",
            "3/3 [==============================] - 0s 35ms/step - loss: 5.9827 - accuracy: 0.0811 - val_loss: 6.4339 - val_accuracy: 0.1401\n",
            "Epoch 104/500\n",
            "3/3 [==============================] - 0s 34ms/step - loss: 6.8614 - accuracy: 0.1351 - val_loss: 6.4339 - val_accuracy: 0.1401\n",
            "Epoch 105/500\n",
            "3/3 [==============================] - 0s 34ms/step - loss: 6.6844 - accuracy: 0.1351 - val_loss: 6.4339 - val_accuracy: 0.1401\n",
            "Epoch 106/500\n",
            "3/3 [==============================] - 0s 38ms/step - loss: 6.3092 - accuracy: 0.2973 - val_loss: 6.4339 - val_accuracy: 0.1401\n",
            "Epoch 107/500\n",
            "3/3 [==============================] - 0s 39ms/step - loss: 6.1779 - accuracy: 0.1351 - val_loss: 6.4339 - val_accuracy: 0.1401\n",
            "Epoch 108/500\n",
            "3/3 [==============================] - 0s 51ms/step - loss: 5.0555 - accuracy: 0.2973 - val_loss: 6.4339 - val_accuracy: 0.1401\n",
            "Epoch 109/500\n",
            "3/3 [==============================] - 0s 40ms/step - loss: 6.4280 - accuracy: 0.2162 - val_loss: 6.4339 - val_accuracy: 0.1401\n",
            "Epoch 110/500\n",
            "3/3 [==============================] - 0s 51ms/step - loss: 5.5506 - accuracy: 0.2703 - val_loss: 6.4339 - val_accuracy: 0.1401\n",
            "Epoch 111/500\n",
            "3/3 [==============================] - 0s 53ms/step - loss: 6.5989 - accuracy: 0.1892 - val_loss: 6.4339 - val_accuracy: 0.1401\n",
            "Epoch 112/500\n",
            "3/3 [==============================] - 0s 34ms/step - loss: 6.5481 - accuracy: 0.1892 - val_loss: 6.4339 - val_accuracy: 0.1401\n",
            "Epoch 113/500\n",
            "3/3 [==============================] - 0s 51ms/step - loss: 7.0233 - accuracy: 0.2162 - val_loss: 6.4339 - val_accuracy: 0.1401\n",
            "Epoch 114/500\n",
            "3/3 [==============================] - 0s 51ms/step - loss: 5.4523 - accuracy: 0.2432 - val_loss: 6.4339 - val_accuracy: 0.1401\n",
            "Epoch 115/500\n",
            "3/3 [==============================] - 0s 51ms/step - loss: 6.1412 - accuracy: 0.1892 - val_loss: 6.4339 - val_accuracy: 0.1401\n",
            "Epoch 116/500\n",
            "3/3 [==============================] - 0s 37ms/step - loss: 6.7828 - accuracy: 0.1081 - val_loss: 6.4339 - val_accuracy: 0.1401\n",
            "Epoch 117/500\n",
            "3/3 [==============================] - 0s 55ms/step - loss: 6.3918 - accuracy: 0.2162 - val_loss: 6.4339 - val_accuracy: 0.1401\n",
            "Epoch 118/500\n",
            "3/3 [==============================] - 0s 38ms/step - loss: 6.5139 - accuracy: 0.1892 - val_loss: 6.4339 - val_accuracy: 0.1401\n",
            "Epoch 119/500\n",
            "3/3 [==============================] - 0s 34ms/step - loss: 7.2610 - accuracy: 0.1892 - val_loss: 6.4339 - val_accuracy: 0.1401\n",
            "Epoch 120/500\n",
            "3/3 [==============================] - 0s 56ms/step - loss: 5.8190 - accuracy: 0.1892 - val_loss: 6.4339 - val_accuracy: 0.1401\n",
            "Epoch 121/500\n",
            "3/3 [==============================] - 0s 52ms/step - loss: 6.0546 - accuracy: 0.0541 - val_loss: 6.4339 - val_accuracy: 0.1401\n",
            "Epoch 122/500\n",
            "3/3 [==============================] - 0s 53ms/step - loss: 6.3753 - accuracy: 0.1622 - val_loss: 6.4339 - val_accuracy: 0.1401\n",
            "Epoch 123/500\n",
            "3/3 [==============================] - 0s 34ms/step - loss: 6.9960 - accuracy: 0.1622 - val_loss: 6.4339 - val_accuracy: 0.1401\n",
            "Epoch 124/500\n",
            "3/3 [==============================] - 0s 53ms/step - loss: 6.1895 - accuracy: 0.0811 - val_loss: 6.4339 - val_accuracy: 0.1401\n",
            "Epoch 125/500\n",
            "3/3 [==============================] - 0s 54ms/step - loss: 6.9873 - accuracy: 0.0811 - val_loss: 6.4339 - val_accuracy: 0.1401\n",
            "Epoch 126/500\n",
            "3/3 [==============================] - 0s 52ms/step - loss: 7.3975 - accuracy: 0.1351 - val_loss: 6.4339 - val_accuracy: 0.1401\n",
            "Epoch 127/500\n",
            "3/3 [==============================] - 0s 35ms/step - loss: 6.9016 - accuracy: 0.1351 - val_loss: 6.4339 - val_accuracy: 0.1401\n",
            "Epoch 128/500\n",
            "3/3 [==============================] - 0s 51ms/step - loss: 6.4747 - accuracy: 0.1081 - val_loss: 6.4339 - val_accuracy: 0.1401\n",
            "Epoch 129/500\n",
            "3/3 [==============================] - 0s 35ms/step - loss: 5.8679 - accuracy: 0.2703 - val_loss: 6.4339 - val_accuracy: 0.1401\n",
            "Epoch 130/500\n",
            "3/3 [==============================] - 0s 52ms/step - loss: 6.2027 - accuracy: 0.1351 - val_loss: 6.4339 - val_accuracy: 0.1401\n",
            "Epoch 131/500\n",
            "3/3 [==============================] - 0s 53ms/step - loss: 6.2706 - accuracy: 0.2162 - val_loss: 6.4339 - val_accuracy: 0.1401\n",
            "Epoch 132/500\n",
            "3/3 [==============================] - 0s 37ms/step - loss: 5.3921 - accuracy: 0.2703 - val_loss: 6.4339 - val_accuracy: 0.1401\n",
            "Epoch 133/500\n",
            "3/3 [==============================] - 0s 35ms/step - loss: 6.1307 - accuracy: 0.1622 - val_loss: 6.4339 - val_accuracy: 0.1401\n",
            "Epoch 134/500\n",
            "3/3 [==============================] - 0s 37ms/step - loss: 6.5733 - accuracy: 0.1081 - val_loss: 6.4339 - val_accuracy: 0.1401\n",
            "Epoch 135/500\n",
            "3/3 [==============================] - 0s 36ms/step - loss: 6.6482 - accuracy: 0.2162 - val_loss: 6.4339 - val_accuracy: 0.1401\n",
            "Epoch 136/500\n",
            "3/3 [==============================] - 0s 35ms/step - loss: 5.9461 - accuracy: 0.0811 - val_loss: 6.4339 - val_accuracy: 0.1401\n",
            "Epoch 137/500\n",
            "3/3 [==============================] - 0s 37ms/step - loss: 5.4495 - accuracy: 0.2432 - val_loss: 6.4339 - val_accuracy: 0.1401\n",
            "Epoch 138/500\n",
            "3/3 [==============================] - 0s 51ms/step - loss: 6.1308 - accuracy: 0.1081 - val_loss: 6.4339 - val_accuracy: 0.1401\n",
            "Epoch 139/500\n",
            "3/3 [==============================] - 0s 51ms/step - loss: 7.3758 - accuracy: 0.0541 - val_loss: 6.4339 - val_accuracy: 0.1401\n",
            "Epoch 140/500\n",
            "3/3 [==============================] - 0s 35ms/step - loss: 6.1144 - accuracy: 0.1081 - val_loss: 6.4339 - val_accuracy: 0.1401\n",
            "Epoch 141/500\n",
            "3/3 [==============================] - 0s 36ms/step - loss: 6.9626 - accuracy: 0.2432 - val_loss: 6.4339 - val_accuracy: 0.1401\n",
            "Epoch 142/500\n",
            "3/3 [==============================] - 0s 51ms/step - loss: 6.6103 - accuracy: 0.0811 - val_loss: 6.4339 - val_accuracy: 0.1401\n",
            "Epoch 143/500\n",
            "3/3 [==============================] - 0s 50ms/step - loss: 6.8719 - accuracy: 0.1351 - val_loss: 6.4339 - val_accuracy: 0.1401\n",
            "Epoch 144/500\n",
            "3/3 [==============================] - 0s 52ms/step - loss: 6.4501 - accuracy: 0.1351 - val_loss: 6.4339 - val_accuracy: 0.1401\n",
            "Epoch 145/500\n",
            "3/3 [==============================] - 0s 53ms/step - loss: 5.7188 - accuracy: 0.1622 - val_loss: 6.4339 - val_accuracy: 0.1401\n",
            "Epoch 146/500\n",
            "3/3 [==============================] - 0s 34ms/step - loss: 6.4215 - accuracy: 0.2703 - val_loss: 6.4339 - val_accuracy: 0.1401\n",
            "Epoch 147/500\n",
            "3/3 [==============================] - 0s 39ms/step - loss: 5.8477 - accuracy: 0.2432 - val_loss: 6.4339 - val_accuracy: 0.1401\n",
            "Epoch 148/500\n",
            "3/3 [==============================] - 0s 35ms/step - loss: 5.7535 - accuracy: 0.1892 - val_loss: 6.4339 - val_accuracy: 0.1401\n",
            "Epoch 149/500\n",
            "3/3 [==============================] - 0s 51ms/step - loss: 6.0401 - accuracy: 0.1892 - val_loss: 6.4339 - val_accuracy: 0.1401\n",
            "Epoch 150/500\n",
            "3/3 [==============================] - 0s 54ms/step - loss: 6.5347 - accuracy: 0.1081 - val_loss: 6.4339 - val_accuracy: 0.1401\n",
            "Epoch 151/500\n",
            "3/3 [==============================] - 0s 36ms/step - loss: 6.4791 - accuracy: 0.1351 - val_loss: 6.4339 - val_accuracy: 0.1401\n",
            "Epoch 152/500\n",
            "3/3 [==============================] - 0s 46ms/step - loss: 7.7196 - accuracy: 0.1351 - val_loss: 6.4339 - val_accuracy: 0.1401\n",
            "Epoch 153/500\n",
            "3/3 [==============================] - 0s 51ms/step - loss: 6.0557 - accuracy: 0.2432 - val_loss: 6.4339 - val_accuracy: 0.1401\n",
            "Epoch 154/500\n",
            "3/3 [==============================] - 0s 36ms/step - loss: 6.2356 - accuracy: 0.2973 - val_loss: 6.4339 - val_accuracy: 0.1401\n",
            "Epoch 155/500\n",
            "3/3 [==============================] - 0s 37ms/step - loss: 6.1577 - accuracy: 0.1351 - val_loss: 6.4339 - val_accuracy: 0.1401\n",
            "Epoch 156/500\n",
            "3/3 [==============================] - 0s 52ms/step - loss: 5.4674 - accuracy: 0.2973 - val_loss: 6.4339 - val_accuracy: 0.1401\n",
            "Epoch 157/500\n",
            "3/3 [==============================] - 0s 34ms/step - loss: 7.0302 - accuracy: 0.2162 - val_loss: 6.4339 - val_accuracy: 0.1401\n",
            "Epoch 158/500\n",
            "3/3 [==============================] - 0s 37ms/step - loss: 5.8839 - accuracy: 0.2432 - val_loss: 6.4339 - val_accuracy: 0.1401\n",
            "Epoch 159/500\n",
            "3/3 [==============================] - 0s 53ms/step - loss: 6.7825 - accuracy: 0.1622 - val_loss: 6.4339 - val_accuracy: 0.1401\n",
            "Epoch 160/500\n",
            "3/3 [==============================] - 0s 51ms/step - loss: 4.4833 - accuracy: 0.2162 - val_loss: 6.4339 - val_accuracy: 0.1401\n",
            "Epoch 161/500\n",
            "3/3 [==============================] - 0s 55ms/step - loss: 5.7894 - accuracy: 0.1622 - val_loss: 6.4339 - val_accuracy: 0.1401\n",
            "Epoch 162/500\n",
            "3/3 [==============================] - 0s 33ms/step - loss: 6.0664 - accuracy: 0.1892 - val_loss: 6.4339 - val_accuracy: 0.1401\n",
            "Epoch 163/500\n",
            "3/3 [==============================] - 0s 42ms/step - loss: 6.6090 - accuracy: 0.0541 - val_loss: 6.4339 - val_accuracy: 0.1401\n",
            "Epoch 164/500\n",
            "3/3 [==============================] - 0s 54ms/step - loss: 5.4164 - accuracy: 0.2703 - val_loss: 6.4339 - val_accuracy: 0.1401\n",
            "Epoch 165/500\n",
            "3/3 [==============================] - 0s 51ms/step - loss: 6.4129 - accuracy: 0.2432 - val_loss: 6.4339 - val_accuracy: 0.1401\n",
            "Epoch 166/500\n",
            "3/3 [==============================] - 0s 51ms/step - loss: 6.0050 - accuracy: 0.2703 - val_loss: 6.4339 - val_accuracy: 0.1401\n",
            "Epoch 167/500\n",
            "3/3 [==============================] - 0s 52ms/step - loss: 6.4151 - accuracy: 0.1081 - val_loss: 6.4339 - val_accuracy: 0.1401\n",
            "Epoch 168/500\n",
            "3/3 [==============================] - 0s 34ms/step - loss: 5.6282 - accuracy: 0.1892 - val_loss: 6.4339 - val_accuracy: 0.1401\n",
            "Epoch 169/500\n",
            "3/3 [==============================] - 0s 36ms/step - loss: 6.8836 - accuracy: 0.2432 - val_loss: 6.4339 - val_accuracy: 0.1401\n",
            "Epoch 170/500\n",
            "3/3 [==============================] - 0s 34ms/step - loss: 6.9045 - accuracy: 0.1622 - val_loss: 6.4339 - val_accuracy: 0.1401\n",
            "Epoch 171/500\n",
            "3/3 [==============================] - 0s 35ms/step - loss: 6.6253 - accuracy: 0.1622 - val_loss: 6.4339 - val_accuracy: 0.1401\n",
            "Epoch 172/500\n",
            "3/3 [==============================] - 0s 53ms/step - loss: 5.4571 - accuracy: 0.3784 - val_loss: 6.4339 - val_accuracy: 0.1401\n",
            "Epoch 173/500\n",
            "3/3 [==============================] - 0s 51ms/step - loss: 6.6534 - accuracy: 0.1892 - val_loss: 6.4339 - val_accuracy: 0.1401\n",
            "Epoch 174/500\n",
            "3/3 [==============================] - 0s 37ms/step - loss: 5.9564 - accuracy: 0.1622 - val_loss: 6.4339 - val_accuracy: 0.1401\n",
            "Epoch 175/500\n",
            "3/3 [==============================] - 0s 35ms/step - loss: 6.5675 - accuracy: 0.1892 - val_loss: 6.4339 - val_accuracy: 0.1401\n",
            "Epoch 176/500\n",
            "3/3 [==============================] - 0s 35ms/step - loss: 6.5131 - accuracy: 0.1351 - val_loss: 6.4339 - val_accuracy: 0.1401\n",
            "Epoch 177/500\n",
            "3/3 [==============================] - 0s 35ms/step - loss: 5.7410 - accuracy: 0.1892 - val_loss: 6.4339 - val_accuracy: 0.1401\n",
            "Epoch 178/500\n",
            "3/3 [==============================] - 0s 36ms/step - loss: 6.3774 - accuracy: 0.1081 - val_loss: 6.4339 - val_accuracy: 0.1401\n",
            "Epoch 179/500\n",
            "3/3 [==============================] - 0s 34ms/step - loss: 6.3543 - accuracy: 0.1622 - val_loss: 6.4339 - val_accuracy: 0.1401\n",
            "Epoch 180/500\n",
            "3/3 [==============================] - 0s 52ms/step - loss: 5.7900 - accuracy: 0.2432 - val_loss: 6.4339 - val_accuracy: 0.1401\n",
            "Epoch 181/500\n",
            "3/3 [==============================] - 0s 38ms/step - loss: 6.7483 - accuracy: 0.1892 - val_loss: 6.4339 - val_accuracy: 0.1401\n",
            "Epoch 182/500\n",
            "3/3 [==============================] - 0s 51ms/step - loss: 6.5216 - accuracy: 0.0811 - val_loss: 6.4339 - val_accuracy: 0.1401\n",
            "Epoch 183/500\n",
            "3/3 [==============================] - 0s 36ms/step - loss: 5.9984 - accuracy: 0.2162 - val_loss: 6.4339 - val_accuracy: 0.1401\n",
            "Epoch 184/500\n",
            "3/3 [==============================] - 0s 54ms/step - loss: 5.5340 - accuracy: 0.1351 - val_loss: 6.4339 - val_accuracy: 0.1401\n",
            "Epoch 185/500\n",
            "3/3 [==============================] - 0s 52ms/step - loss: 5.8687 - accuracy: 0.1622 - val_loss: 6.4339 - val_accuracy: 0.1401\n",
            "Epoch 186/500\n",
            "3/3 [==============================] - 0s 39ms/step - loss: 6.1572 - accuracy: 0.2162 - val_loss: 6.4339 - val_accuracy: 0.1401\n",
            "Epoch 187/500\n",
            "3/3 [==============================] - 0s 53ms/step - loss: 7.4816 - accuracy: 0.0811 - val_loss: 6.4339 - val_accuracy: 0.1401\n",
            "Epoch 188/500\n",
            "3/3 [==============================] - 0s 52ms/step - loss: 5.6335 - accuracy: 0.2162 - val_loss: 6.4339 - val_accuracy: 0.1401\n",
            "Epoch 189/500\n",
            "3/3 [==============================] - 0s 56ms/step - loss: 6.3078 - accuracy: 0.1622 - val_loss: 6.4339 - val_accuracy: 0.1401\n",
            "Epoch 190/500\n",
            "3/3 [==============================] - 0s 52ms/step - loss: 6.8818 - accuracy: 0.0811 - val_loss: 6.4339 - val_accuracy: 0.1401\n",
            "Epoch 191/500\n",
            "3/3 [==============================] - 0s 45ms/step - loss: 6.9233 - accuracy: 0.0541 - val_loss: 6.4339 - val_accuracy: 0.1401\n",
            "Epoch 192/500\n",
            "3/3 [==============================] - 0s 34ms/step - loss: 6.1405 - accuracy: 0.1081 - val_loss: 6.4339 - val_accuracy: 0.1401\n",
            "Epoch 193/500\n",
            "3/3 [==============================] - 0s 35ms/step - loss: 5.8910 - accuracy: 0.1351 - val_loss: 6.4339 - val_accuracy: 0.1401\n",
            "Epoch 194/500\n",
            "3/3 [==============================] - 0s 37ms/step - loss: 6.4719 - accuracy: 0.2162 - val_loss: 6.4339 - val_accuracy: 0.1401\n",
            "Epoch 195/500\n",
            "3/3 [==============================] - 0s 52ms/step - loss: 6.4102 - accuracy: 0.1622 - val_loss: 6.4339 - val_accuracy: 0.1401\n",
            "Epoch 196/500\n",
            "3/3 [==============================] - 0s 34ms/step - loss: 6.0478 - accuracy: 0.1622 - val_loss: 6.4339 - val_accuracy: 0.1401\n",
            "Epoch 197/500\n",
            "3/3 [==============================] - 0s 38ms/step - loss: 6.2450 - accuracy: 0.1351 - val_loss: 6.4339 - val_accuracy: 0.1401\n",
            "Epoch 198/500\n",
            "3/3 [==============================] - 0s 39ms/step - loss: 5.5174 - accuracy: 0.2432 - val_loss: 6.4339 - val_accuracy: 0.1401\n",
            "Epoch 199/500\n",
            "3/3 [==============================] - 0s 53ms/step - loss: 6.3559 - accuracy: 0.2162 - val_loss: 6.4339 - val_accuracy: 0.1401\n",
            "Epoch 200/500\n",
            "3/3 [==============================] - 0s 35ms/step - loss: 6.4318 - accuracy: 0.1081 - val_loss: 6.4339 - val_accuracy: 0.1401\n",
            "Epoch 201/500\n",
            "3/3 [==============================] - 0s 52ms/step - loss: 5.2607 - accuracy: 0.2432 - val_loss: 6.4339 - val_accuracy: 0.1401\n",
            "Epoch 202/500\n",
            "3/3 [==============================] - 0s 37ms/step - loss: 6.1774 - accuracy: 0.1892 - val_loss: 6.4339 - val_accuracy: 0.1401\n",
            "Epoch 203/500\n",
            "3/3 [==============================] - 0s 34ms/step - loss: 6.9915 - accuracy: 0.1622 - val_loss: 6.4339 - val_accuracy: 0.1401\n",
            "Epoch 204/500\n",
            "3/3 [==============================] - 0s 34ms/step - loss: 6.2107 - accuracy: 0.2162 - val_loss: 6.4339 - val_accuracy: 0.1401\n",
            "Epoch 205/500\n",
            "3/3 [==============================] - 0s 52ms/step - loss: 6.5218 - accuracy: 0.1892 - val_loss: 6.4339 - val_accuracy: 0.1401\n",
            "Epoch 206/500\n",
            "3/3 [==============================] - 0s 37ms/step - loss: 6.3397 - accuracy: 0.2162 - val_loss: 6.4339 - val_accuracy: 0.1401\n",
            "Epoch 207/500\n",
            "3/3 [==============================] - 0s 34ms/step - loss: 6.3248 - accuracy: 0.1892 - val_loss: 6.4339 - val_accuracy: 0.1401\n",
            "Epoch 208/500\n",
            "3/3 [==============================] - 0s 58ms/step - loss: 6.7953 - accuracy: 0.1351 - val_loss: 6.4339 - val_accuracy: 0.1401\n",
            "Epoch 209/500\n",
            "3/3 [==============================] - 0s 35ms/step - loss: 6.7116 - accuracy: 0.1892 - val_loss: 6.4339 - val_accuracy: 0.1401\n",
            "Epoch 210/500\n",
            "3/3 [==============================] - 0s 54ms/step - loss: 6.2823 - accuracy: 0.1622 - val_loss: 6.4339 - val_accuracy: 0.1401\n",
            "Epoch 211/500\n",
            "3/3 [==============================] - 0s 52ms/step - loss: 6.7340 - accuracy: 0.1892 - val_loss: 6.4339 - val_accuracy: 0.1401\n",
            "Epoch 212/500\n",
            "3/3 [==============================] - 0s 51ms/step - loss: 7.3076 - accuracy: 0.0811 - val_loss: 6.4339 - val_accuracy: 0.1401\n",
            "Epoch 213/500\n",
            "3/3 [==============================] - 0s 38ms/step - loss: 5.9955 - accuracy: 0.2162 - val_loss: 6.4339 - val_accuracy: 0.1401\n",
            "Epoch 214/500\n",
            "3/3 [==============================] - 0s 36ms/step - loss: 6.1333 - accuracy: 0.1892 - val_loss: 6.4339 - val_accuracy: 0.1401\n",
            "Epoch 215/500\n",
            "3/3 [==============================] - 0s 52ms/step - loss: 6.7239 - accuracy: 0.2432 - val_loss: 6.4339 - val_accuracy: 0.1401\n",
            "Epoch 216/500\n",
            "3/3 [==============================] - 0s 53ms/step - loss: 6.5321 - accuracy: 0.0811 - val_loss: 6.4339 - val_accuracy: 0.1401\n",
            "Epoch 217/500\n",
            "3/3 [==============================] - 0s 36ms/step - loss: 6.1892 - accuracy: 0.1351 - val_loss: 6.4339 - val_accuracy: 0.1401\n",
            "Epoch 218/500\n",
            "3/3 [==============================] - 0s 53ms/step - loss: 5.6209 - accuracy: 0.2432 - val_loss: 6.4339 - val_accuracy: 0.1401\n",
            "Epoch 219/500\n",
            "3/3 [==============================] - 0s 53ms/step - loss: 7.6208 - accuracy: 0.1351 - val_loss: 6.4339 - val_accuracy: 0.1401\n",
            "Epoch 220/500\n",
            "3/3 [==============================] - 0s 52ms/step - loss: 5.4494 - accuracy: 0.1892 - val_loss: 6.4339 - val_accuracy: 0.1401\n",
            "Epoch 221/500\n",
            "3/3 [==============================] - 0s 37ms/step - loss: 5.9849 - accuracy: 0.1892 - val_loss: 6.4339 - val_accuracy: 0.1401\n",
            "Epoch 222/500\n",
            "3/3 [==============================] - 0s 52ms/step - loss: 6.2733 - accuracy: 0.1892 - val_loss: 6.4339 - val_accuracy: 0.1401\n",
            "Epoch 223/500\n",
            "3/3 [==============================] - 0s 36ms/step - loss: 5.3227 - accuracy: 0.1351 - val_loss: 6.4339 - val_accuracy: 0.1401\n",
            "Epoch 224/500\n",
            "3/3 [==============================] - 0s 51ms/step - loss: 6.4216 - accuracy: 0.1351 - val_loss: 6.4339 - val_accuracy: 0.1401\n",
            "Epoch 225/500\n",
            "3/3 [==============================] - 0s 56ms/step - loss: 6.3975 - accuracy: 0.2432 - val_loss: 6.4339 - val_accuracy: 0.1401\n",
            "Epoch 226/500\n",
            "3/3 [==============================] - 0s 35ms/step - loss: 6.2345 - accuracy: 0.1892 - val_loss: 6.4339 - val_accuracy: 0.1401\n",
            "Epoch 227/500\n",
            "3/3 [==============================] - 0s 53ms/step - loss: 6.5271 - accuracy: 0.1351 - val_loss: 6.4339 - val_accuracy: 0.1401\n",
            "Epoch 228/500\n",
            "3/3 [==============================] - 0s 36ms/step - loss: 5.9124 - accuracy: 0.2162 - val_loss: 6.4339 - val_accuracy: 0.1401\n",
            "Epoch 229/500\n",
            "3/3 [==============================] - 0s 37ms/step - loss: 6.6299 - accuracy: 0.2432 - val_loss: 6.4339 - val_accuracy: 0.1401\n",
            "Epoch 230/500\n",
            "3/3 [==============================] - 0s 36ms/step - loss: 6.4761 - accuracy: 0.2162 - val_loss: 6.4339 - val_accuracy: 0.1401\n",
            "Epoch 231/500\n",
            "3/3 [==============================] - 0s 35ms/step - loss: 6.1881 - accuracy: 0.2432 - val_loss: 6.4339 - val_accuracy: 0.1401\n",
            "Epoch 232/500\n",
            "3/3 [==============================] - 0s 36ms/step - loss: 7.4745 - accuracy: 0.1081 - val_loss: 6.4339 - val_accuracy: 0.1401\n",
            "Epoch 233/500\n",
            "3/3 [==============================] - 0s 53ms/step - loss: 6.4361 - accuracy: 0.2703 - val_loss: 6.4339 - val_accuracy: 0.1401\n",
            "Epoch 234/500\n",
            "3/3 [==============================] - 0s 51ms/step - loss: 6.3816 - accuracy: 0.1351 - val_loss: 6.4339 - val_accuracy: 0.1401\n",
            "Epoch 235/500\n",
            "3/3 [==============================] - 0s 51ms/step - loss: 6.6865 - accuracy: 0.1622 - val_loss: 6.4339 - val_accuracy: 0.1401\n",
            "Epoch 236/500\n",
            "3/3 [==============================] - 0s 34ms/step - loss: 6.2313 - accuracy: 0.1892 - val_loss: 6.4339 - val_accuracy: 0.1401\n",
            "Epoch 237/500\n",
            "3/3 [==============================] - 0s 36ms/step - loss: 5.6368 - accuracy: 0.2973 - val_loss: 6.4339 - val_accuracy: 0.1401\n",
            "Epoch 238/500\n",
            "3/3 [==============================] - 0s 34ms/step - loss: 5.5313 - accuracy: 0.1622 - val_loss: 6.4339 - val_accuracy: 0.1401\n",
            "Epoch 239/500\n",
            "3/3 [==============================] - 0s 51ms/step - loss: 6.3886 - accuracy: 0.2432 - val_loss: 6.4339 - val_accuracy: 0.1401\n",
            "Epoch 240/500\n",
            "3/3 [==============================] - 0s 38ms/step - loss: 6.2923 - accuracy: 0.2432 - val_loss: 6.4339 - val_accuracy: 0.1401\n",
            "Epoch 241/500\n",
            "3/3 [==============================] - 0s 52ms/step - loss: 5.9803 - accuracy: 0.1892 - val_loss: 6.4339 - val_accuracy: 0.1401\n",
            "Epoch 242/500\n",
            "3/3 [==============================] - 0s 41ms/step - loss: 5.6651 - accuracy: 0.1892 - val_loss: 6.4339 - val_accuracy: 0.1401\n",
            "Epoch 243/500\n",
            "3/3 [==============================] - 0s 51ms/step - loss: 6.5332 - accuracy: 0.1892 - val_loss: 6.4339 - val_accuracy: 0.1401\n",
            "Epoch 244/500\n",
            "3/3 [==============================] - 0s 38ms/step - loss: 6.1829 - accuracy: 0.2432 - val_loss: 6.4339 - val_accuracy: 0.1401\n",
            "Epoch 245/500\n",
            "3/3 [==============================] - 0s 34ms/step - loss: 6.7252 - accuracy: 0.1622 - val_loss: 6.4339 - val_accuracy: 0.1401\n",
            "Epoch 246/500\n",
            "3/3 [==============================] - 0s 52ms/step - loss: 6.0002 - accuracy: 0.1351 - val_loss: 6.4339 - val_accuracy: 0.1401\n",
            "Epoch 247/500\n",
            "3/3 [==============================] - 0s 51ms/step - loss: 5.8679 - accuracy: 0.2162 - val_loss: 6.4339 - val_accuracy: 0.1401\n",
            "Epoch 248/500\n",
            "3/3 [==============================] - 0s 51ms/step - loss: 6.1841 - accuracy: 0.0811 - val_loss: 6.4339 - val_accuracy: 0.1401\n",
            "Epoch 249/500\n",
            "3/3 [==============================] - 0s 34ms/step - loss: 5.5599 - accuracy: 0.2432 - val_loss: 6.4339 - val_accuracy: 0.1401\n",
            "Epoch 250/500\n",
            "3/3 [==============================] - 0s 36ms/step - loss: 6.2636 - accuracy: 0.2432 - val_loss: 6.4339 - val_accuracy: 0.1401\n",
            "Epoch 251/500\n",
            "3/3 [==============================] - 0s 38ms/step - loss: 6.3433 - accuracy: 0.1351 - val_loss: 6.4339 - val_accuracy: 0.1401\n",
            "Epoch 252/500\n",
            "3/3 [==============================] - 0s 40ms/step - loss: 7.1960 - accuracy: 0.1622 - val_loss: 6.4339 - val_accuracy: 0.1401\n",
            "Epoch 253/500\n",
            "3/3 [==============================] - 0s 39ms/step - loss: 6.1954 - accuracy: 0.1892 - val_loss: 6.4339 - val_accuracy: 0.1401\n",
            "Epoch 254/500\n",
            "3/3 [==============================] - 0s 52ms/step - loss: 6.7895 - accuracy: 0.2162 - val_loss: 6.4339 - val_accuracy: 0.1401\n",
            "Epoch 255/500\n",
            "3/3 [==============================] - 0s 37ms/step - loss: 5.7575 - accuracy: 0.2432 - val_loss: 6.4339 - val_accuracy: 0.1401\n",
            "Epoch 256/500\n",
            "3/3 [==============================] - 0s 55ms/step - loss: 6.5779 - accuracy: 0.1351 - val_loss: 6.4339 - val_accuracy: 0.1401\n",
            "Epoch 257/500\n",
            "3/3 [==============================] - 0s 35ms/step - loss: 5.5900 - accuracy: 0.2973 - val_loss: 6.4339 - val_accuracy: 0.1401\n",
            "Epoch 258/500\n",
            "3/3 [==============================] - 0s 40ms/step - loss: 6.2180 - accuracy: 0.1351 - val_loss: 6.4339 - val_accuracy: 0.1401\n",
            "Epoch 259/500\n",
            "3/3 [==============================] - 0s 52ms/step - loss: 6.6879 - accuracy: 0.1081 - val_loss: 6.4339 - val_accuracy: 0.1401\n",
            "Epoch 260/500\n",
            "3/3 [==============================] - 0s 54ms/step - loss: 5.4741 - accuracy: 0.2162 - val_loss: 6.4339 - val_accuracy: 0.1401\n",
            "Epoch 261/500\n",
            "3/3 [==============================] - 0s 52ms/step - loss: 5.5109 - accuracy: 0.3514 - val_loss: 6.4339 - val_accuracy: 0.1401\n",
            "Epoch 262/500\n",
            "3/3 [==============================] - 0s 36ms/step - loss: 5.6265 - accuracy: 0.1081 - val_loss: 6.4339 - val_accuracy: 0.1401\n",
            "Epoch 263/500\n",
            "3/3 [==============================] - 0s 40ms/step - loss: 6.2321 - accuracy: 0.1081 - val_loss: 6.4339 - val_accuracy: 0.1401\n",
            "Epoch 264/500\n",
            "3/3 [==============================] - 0s 35ms/step - loss: 6.4111 - accuracy: 0.1622 - val_loss: 6.4339 - val_accuracy: 0.1401\n",
            "Epoch 265/500\n",
            "3/3 [==============================] - 0s 52ms/step - loss: 6.5617 - accuracy: 0.1622 - val_loss: 6.4339 - val_accuracy: 0.1401\n",
            "Epoch 266/500\n",
            "3/3 [==============================] - 0s 39ms/step - loss: 6.0586 - accuracy: 0.1892 - val_loss: 6.4339 - val_accuracy: 0.1401\n",
            "Epoch 267/500\n",
            "3/3 [==============================] - 0s 53ms/step - loss: 6.4969 - accuracy: 0.1622 - val_loss: 6.4339 - val_accuracy: 0.1401\n",
            "Epoch 268/500\n",
            "3/3 [==============================] - 0s 54ms/step - loss: 5.8646 - accuracy: 0.2703 - val_loss: 6.4339 - val_accuracy: 0.1401\n",
            "Epoch 269/500\n",
            "3/3 [==============================] - 0s 54ms/step - loss: 6.3507 - accuracy: 0.2162 - val_loss: 6.4339 - val_accuracy: 0.1401\n",
            "Epoch 270/500\n",
            "3/3 [==============================] - 0s 51ms/step - loss: 6.6421 - accuracy: 0.0541 - val_loss: 6.4339 - val_accuracy: 0.1401\n",
            "Epoch 271/500\n",
            "3/3 [==============================] - 0s 53ms/step - loss: 6.0982 - accuracy: 0.1351 - val_loss: 6.4339 - val_accuracy: 0.1401\n",
            "Epoch 272/500\n",
            "3/3 [==============================] - 0s 37ms/step - loss: 6.7244 - accuracy: 0.1892 - val_loss: 6.4339 - val_accuracy: 0.1401\n",
            "Epoch 273/500\n",
            "3/3 [==============================] - 0s 38ms/step - loss: 6.8685 - accuracy: 0.1081 - val_loss: 6.4339 - val_accuracy: 0.1401\n",
            "Epoch 274/500\n",
            "3/3 [==============================] - 0s 54ms/step - loss: 6.7405 - accuracy: 0.2432 - val_loss: 6.4339 - val_accuracy: 0.1401\n",
            "Epoch 275/500\n",
            "3/3 [==============================] - 0s 52ms/step - loss: 7.7614 - accuracy: 0.1081 - val_loss: 6.4339 - val_accuracy: 0.1401\n",
            "Epoch 276/500\n",
            "3/3 [==============================] - 0s 35ms/step - loss: 6.7471 - accuracy: 0.1351 - val_loss: 6.4339 - val_accuracy: 0.1401\n",
            "Epoch 277/500\n",
            "3/3 [==============================] - 0s 40ms/step - loss: 5.9830 - accuracy: 0.1351 - val_loss: 6.4339 - val_accuracy: 0.1401\n",
            "Epoch 278/500\n",
            "3/3 [==============================] - 0s 52ms/step - loss: 6.5210 - accuracy: 0.1622 - val_loss: 6.4339 - val_accuracy: 0.1401\n",
            "Epoch 279/500\n",
            "3/3 [==============================] - 0s 54ms/step - loss: 5.9770 - accuracy: 0.1351 - val_loss: 6.4339 - val_accuracy: 0.1401\n",
            "Epoch 280/500\n",
            "3/3 [==============================] - 0s 36ms/step - loss: 7.7382 - accuracy: 0.0270 - val_loss: 6.4339 - val_accuracy: 0.1401\n",
            "Epoch 281/500\n",
            "3/3 [==============================] - 0s 54ms/step - loss: 5.0579 - accuracy: 0.3243 - val_loss: 6.4339 - val_accuracy: 0.1401\n",
            "Epoch 282/500\n",
            "3/3 [==============================] - 0s 37ms/step - loss: 5.6577 - accuracy: 0.1081 - val_loss: 6.4339 - val_accuracy: 0.1401\n",
            "Epoch 283/500\n",
            "3/3 [==============================] - 0s 35ms/step - loss: 5.2037 - accuracy: 0.2162 - val_loss: 6.4339 - val_accuracy: 0.1401\n",
            "Epoch 284/500\n",
            "3/3 [==============================] - 0s 36ms/step - loss: 5.5820 - accuracy: 0.1351 - val_loss: 6.4339 - val_accuracy: 0.1401\n",
            "Epoch 285/500\n",
            "3/3 [==============================] - 0s 56ms/step - loss: 5.9627 - accuracy: 0.1622 - val_loss: 6.4339 - val_accuracy: 0.1401\n",
            "Epoch 286/500\n",
            "3/3 [==============================] - 0s 53ms/step - loss: 5.9357 - accuracy: 0.2973 - val_loss: 6.4339 - val_accuracy: 0.1401\n",
            "Epoch 287/500\n",
            "3/3 [==============================] - 0s 37ms/step - loss: 5.7391 - accuracy: 0.1892 - val_loss: 6.4339 - val_accuracy: 0.1401\n",
            "Epoch 288/500\n",
            "3/3 [==============================] - 0s 55ms/step - loss: 5.7977 - accuracy: 0.2703 - val_loss: 6.4339 - val_accuracy: 0.1401\n",
            "Epoch 289/500\n",
            "3/3 [==============================] - 0s 52ms/step - loss: 7.6679 - accuracy: 0.0811 - val_loss: 6.4339 - val_accuracy: 0.1401\n",
            "Epoch 290/500\n",
            "3/3 [==============================] - 0s 55ms/step - loss: 6.1960 - accuracy: 0.1351 - val_loss: 6.4339 - val_accuracy: 0.1401\n",
            "Epoch 291/500\n",
            "3/3 [==============================] - 0s 36ms/step - loss: 7.2284 - accuracy: 0.0811 - val_loss: 6.4339 - val_accuracy: 0.1401\n",
            "Epoch 292/500\n",
            "3/3 [==============================] - 0s 37ms/step - loss: 6.4562 - accuracy: 0.1081 - val_loss: 6.4339 - val_accuracy: 0.1401\n",
            "Epoch 293/500\n",
            "3/3 [==============================] - 0s 52ms/step - loss: 6.4825 - accuracy: 0.1351 - val_loss: 6.4339 - val_accuracy: 0.1401\n",
            "Epoch 294/500\n",
            "3/3 [==============================] - 0s 55ms/step - loss: 7.3724 - accuracy: 0.0811 - val_loss: 6.4339 - val_accuracy: 0.1401\n",
            "Epoch 295/500\n",
            "3/3 [==============================] - 0s 52ms/step - loss: 6.2117 - accuracy: 0.2162 - val_loss: 6.4339 - val_accuracy: 0.1401\n",
            "Epoch 296/500\n",
            "3/3 [==============================] - 0s 55ms/step - loss: 7.2825 - accuracy: 0.1351 - val_loss: 6.4339 - val_accuracy: 0.1401\n",
            "Epoch 297/500\n",
            "3/3 [==============================] - 0s 34ms/step - loss: 6.3694 - accuracy: 0.2162 - val_loss: 6.4339 - val_accuracy: 0.1401\n",
            "Epoch 298/500\n",
            "3/3 [==============================] - 0s 52ms/step - loss: 7.4577 - accuracy: 0.1622 - val_loss: 6.4339 - val_accuracy: 0.1401\n",
            "Epoch 299/500\n",
            "3/3 [==============================] - 0s 37ms/step - loss: 6.1959 - accuracy: 0.2703 - val_loss: 6.4339 - val_accuracy: 0.1401\n",
            "Epoch 300/500\n",
            "3/3 [==============================] - 0s 52ms/step - loss: 5.4417 - accuracy: 0.2162 - val_loss: 6.4339 - val_accuracy: 0.1401\n",
            "Epoch 301/500\n",
            "3/3 [==============================] - 0s 35ms/step - loss: 6.3515 - accuracy: 0.1622 - val_loss: 6.4339 - val_accuracy: 0.1401\n",
            "Epoch 302/500\n",
            "3/3 [==============================] - 0s 37ms/step - loss: 5.9543 - accuracy: 0.2162 - val_loss: 6.4339 - val_accuracy: 0.1401\n",
            "Epoch 303/500\n",
            "3/3 [==============================] - 0s 38ms/step - loss: 5.9487 - accuracy: 0.1622 - val_loss: 6.4339 - val_accuracy: 0.1401\n",
            "Epoch 304/500\n",
            "3/3 [==============================] - 0s 52ms/step - loss: 7.3229 - accuracy: 0.1351 - val_loss: 6.4339 - val_accuracy: 0.1401\n",
            "Epoch 305/500\n",
            "3/3 [==============================] - 0s 52ms/step - loss: 5.8648 - accuracy: 0.2162 - val_loss: 6.4339 - val_accuracy: 0.1401\n",
            "Epoch 306/500\n",
            "3/3 [==============================] - 0s 52ms/step - loss: 5.7002 - accuracy: 0.1892 - val_loss: 6.4339 - val_accuracy: 0.1401\n",
            "Epoch 307/500\n",
            "3/3 [==============================] - 0s 38ms/step - loss: 6.5229 - accuracy: 0.1892 - val_loss: 6.4339 - val_accuracy: 0.1401\n",
            "Epoch 308/500\n",
            "3/3 [==============================] - 0s 36ms/step - loss: 6.9954 - accuracy: 0.1081 - val_loss: 6.4339 - val_accuracy: 0.1401\n",
            "Epoch 309/500\n",
            "3/3 [==============================] - 0s 35ms/step - loss: 5.5998 - accuracy: 0.2432 - val_loss: 6.4339 - val_accuracy: 0.1401\n",
            "Epoch 310/500\n",
            "3/3 [==============================] - 0s 34ms/step - loss: 6.7787 - accuracy: 0.1622 - val_loss: 6.4339 - val_accuracy: 0.1401\n",
            "Epoch 311/500\n",
            "3/3 [==============================] - 0s 53ms/step - loss: 6.1821 - accuracy: 0.1892 - val_loss: 6.4339 - val_accuracy: 0.1401\n",
            "Epoch 312/500\n",
            "3/3 [==============================] - 0s 56ms/step - loss: 6.0410 - accuracy: 0.1351 - val_loss: 6.4339 - val_accuracy: 0.1401\n",
            "Epoch 313/500\n",
            "3/3 [==============================] - 0s 52ms/step - loss: 4.9563 - accuracy: 0.4054 - val_loss: 6.4339 - val_accuracy: 0.1401\n",
            "Epoch 314/500\n",
            "3/3 [==============================] - 0s 57ms/step - loss: 5.4856 - accuracy: 0.2162 - val_loss: 6.4339 - val_accuracy: 0.1401\n",
            "Epoch 315/500\n",
            "3/3 [==============================] - 0s 36ms/step - loss: 5.8673 - accuracy: 0.1892 - val_loss: 6.4339 - val_accuracy: 0.1401\n",
            "Epoch 316/500\n",
            "3/3 [==============================] - 0s 34ms/step - loss: 5.8600 - accuracy: 0.1892 - val_loss: 6.4339 - val_accuracy: 0.1401\n",
            "Epoch 317/500\n",
            "3/3 [==============================] - 0s 33ms/step - loss: 6.7068 - accuracy: 0.2162 - val_loss: 6.4339 - val_accuracy: 0.1401\n",
            "Epoch 318/500\n",
            "3/3 [==============================] - 0s 40ms/step - loss: 7.3424 - accuracy: 0.1622 - val_loss: 6.4339 - val_accuracy: 0.1401\n",
            "Epoch 319/500\n",
            "3/3 [==============================] - 0s 34ms/step - loss: 5.5061 - accuracy: 0.1622 - val_loss: 6.4339 - val_accuracy: 0.1401\n",
            "Epoch 320/500\n",
            "3/3 [==============================] - 0s 35ms/step - loss: 6.3617 - accuracy: 0.2162 - val_loss: 6.4339 - val_accuracy: 0.1401\n",
            "Epoch 321/500\n",
            "3/3 [==============================] - 0s 53ms/step - loss: 6.8056 - accuracy: 0.1622 - val_loss: 6.4339 - val_accuracy: 0.1401\n",
            "Epoch 322/500\n",
            "3/3 [==============================] - 0s 35ms/step - loss: 6.1342 - accuracy: 0.1351 - val_loss: 6.4339 - val_accuracy: 0.1401\n",
            "Epoch 323/500\n",
            "3/3 [==============================] - 0s 36ms/step - loss: 6.3634 - accuracy: 0.1892 - val_loss: 6.4339 - val_accuracy: 0.1401\n",
            "Epoch 324/500\n",
            "3/3 [==============================] - 0s 57ms/step - loss: 6.0270 - accuracy: 0.0811 - val_loss: 6.4339 - val_accuracy: 0.1401\n",
            "Epoch 325/500\n",
            "3/3 [==============================] - 0s 52ms/step - loss: 6.2298 - accuracy: 0.1892 - val_loss: 6.4339 - val_accuracy: 0.1401\n",
            "Epoch 326/500\n",
            "3/3 [==============================] - 0s 54ms/step - loss: 7.0150 - accuracy: 0.1351 - val_loss: 6.4339 - val_accuracy: 0.1401\n",
            "Epoch 327/500\n",
            "3/3 [==============================] - 0s 52ms/step - loss: 6.5713 - accuracy: 0.1081 - val_loss: 6.4339 - val_accuracy: 0.1401\n",
            "Epoch 328/500\n",
            "3/3 [==============================] - 0s 37ms/step - loss: 6.2441 - accuracy: 0.1622 - val_loss: 6.4339 - val_accuracy: 0.1401\n",
            "Epoch 329/500\n",
            "3/3 [==============================] - 0s 40ms/step - loss: 5.8504 - accuracy: 0.1081 - val_loss: 6.4339 - val_accuracy: 0.1401\n",
            "Epoch 330/500\n",
            "3/3 [==============================] - 0s 36ms/step - loss: 5.3401 - accuracy: 0.2973 - val_loss: 6.4339 - val_accuracy: 0.1401\n",
            "Epoch 331/500\n",
            "3/3 [==============================] - 0s 36ms/step - loss: 6.3958 - accuracy: 0.1622 - val_loss: 6.4339 - val_accuracy: 0.1401\n",
            "Epoch 332/500\n",
            "3/3 [==============================] - 0s 53ms/step - loss: 5.9097 - accuracy: 0.2432 - val_loss: 6.4339 - val_accuracy: 0.1401\n",
            "Epoch 333/500\n",
            "3/3 [==============================] - 0s 51ms/step - loss: 6.7892 - accuracy: 0.1351 - val_loss: 6.4339 - val_accuracy: 0.1401\n",
            "Epoch 334/500\n",
            "3/3 [==============================] - 0s 50ms/step - loss: 7.8909 - accuracy: 0.1081 - val_loss: 6.4339 - val_accuracy: 0.1401\n",
            "Epoch 335/500\n",
            "3/3 [==============================] - 0s 37ms/step - loss: 7.2125 - accuracy: 0.1351 - val_loss: 6.4339 - val_accuracy: 0.1401\n",
            "Epoch 336/500\n",
            "3/3 [==============================] - 0s 36ms/step - loss: 6.5342 - accuracy: 0.1622 - val_loss: 6.4339 - val_accuracy: 0.1401\n",
            "Epoch 337/500\n",
            "3/3 [==============================] - 0s 52ms/step - loss: 6.8290 - accuracy: 0.0811 - val_loss: 6.4339 - val_accuracy: 0.1401\n",
            "Epoch 338/500\n",
            "3/3 [==============================] - 0s 49ms/step - loss: 6.3027 - accuracy: 0.1351 - val_loss: 6.4339 - val_accuracy: 0.1401\n",
            "Epoch 339/500\n",
            "3/3 [==============================] - 0s 101ms/step - loss: 4.7656 - accuracy: 0.2432 - val_loss: 6.4339 - val_accuracy: 0.1401\n",
            "Epoch 340/500\n",
            "3/3 [==============================] - 0s 99ms/step - loss: 6.6719 - accuracy: 0.1081 - val_loss: 6.4339 - val_accuracy: 0.1401\n",
            "Epoch 341/500\n",
            "3/3 [==============================] - 0s 49ms/step - loss: 6.6802 - accuracy: 0.1351 - val_loss: 6.4339 - val_accuracy: 0.1401\n",
            "Epoch 342/500\n",
            "3/3 [==============================] - 0s 53ms/step - loss: 7.2803 - accuracy: 0.1351 - val_loss: 6.4339 - val_accuracy: 0.1401\n",
            "Epoch 343/500\n",
            "3/3 [==============================] - 0s 35ms/step - loss: 6.8401 - accuracy: 0.1081 - val_loss: 6.4339 - val_accuracy: 0.1401\n",
            "Epoch 344/500\n",
            "3/3 [==============================] - 0s 40ms/step - loss: 6.3680 - accuracy: 0.2432 - val_loss: 6.4339 - val_accuracy: 0.1401\n",
            "Epoch 345/500\n",
            "3/3 [==============================] - 0s 52ms/step - loss: 6.4454 - accuracy: 0.1351 - val_loss: 6.4339 - val_accuracy: 0.1401\n",
            "Epoch 346/500\n",
            "3/3 [==============================] - 0s 34ms/step - loss: 6.8275 - accuracy: 0.1622 - val_loss: 6.4339 - val_accuracy: 0.1401\n",
            "Epoch 347/500\n",
            "3/3 [==============================] - 0s 33ms/step - loss: 6.3057 - accuracy: 0.1622 - val_loss: 6.4339 - val_accuracy: 0.1401\n",
            "Epoch 348/500\n",
            "3/3 [==============================] - 0s 54ms/step - loss: 4.9222 - accuracy: 0.3784 - val_loss: 6.4339 - val_accuracy: 0.1401\n",
            "Epoch 349/500\n",
            "3/3 [==============================] - 0s 36ms/step - loss: 6.7797 - accuracy: 0.1351 - val_loss: 6.4339 - val_accuracy: 0.1401\n",
            "Epoch 350/500\n",
            "3/3 [==============================] - 0s 53ms/step - loss: 6.4406 - accuracy: 0.1081 - val_loss: 6.4339 - val_accuracy: 0.1401\n",
            "Epoch 351/500\n",
            "3/3 [==============================] - 0s 55ms/step - loss: 6.9370 - accuracy: 0.1892 - val_loss: 6.4339 - val_accuracy: 0.1401\n",
            "Epoch 352/500\n",
            "3/3 [==============================] - 0s 35ms/step - loss: 5.6540 - accuracy: 0.2162 - val_loss: 6.4339 - val_accuracy: 0.1401\n",
            "Epoch 353/500\n",
            "3/3 [==============================] - 0s 36ms/step - loss: 6.6483 - accuracy: 0.2162 - val_loss: 6.4339 - val_accuracy: 0.1401\n",
            "Epoch 354/500\n",
            "3/3 [==============================] - 0s 36ms/step - loss: 6.2431 - accuracy: 0.1892 - val_loss: 6.4339 - val_accuracy: 0.1401\n",
            "Epoch 355/500\n",
            "3/3 [==============================] - 0s 35ms/step - loss: 5.9960 - accuracy: 0.1351 - val_loss: 6.4339 - val_accuracy: 0.1401\n",
            "Epoch 356/500\n",
            "3/3 [==============================] - 0s 37ms/step - loss: 7.0819 - accuracy: 0.0811 - val_loss: 6.4339 - val_accuracy: 0.1401\n",
            "Epoch 357/500\n",
            "3/3 [==============================] - 0s 35ms/step - loss: 5.5525 - accuracy: 0.1351 - val_loss: 6.4339 - val_accuracy: 0.1401\n",
            "Epoch 358/500\n",
            "3/3 [==============================] - 0s 53ms/step - loss: 5.4436 - accuracy: 0.2973 - val_loss: 6.4339 - val_accuracy: 0.1401\n",
            "Epoch 359/500\n",
            "3/3 [==============================] - 0s 34ms/step - loss: 6.7943 - accuracy: 0.1351 - val_loss: 6.4339 - val_accuracy: 0.1401\n",
            "Epoch 360/500\n",
            "3/3 [==============================] - 0s 54ms/step - loss: 5.4398 - accuracy: 0.2162 - val_loss: 6.4339 - val_accuracy: 0.1401\n",
            "Epoch 361/500\n",
            "3/3 [==============================] - 0s 52ms/step - loss: 6.4212 - accuracy: 0.1622 - val_loss: 6.4339 - val_accuracy: 0.1401\n",
            "Epoch 362/500\n",
            "3/3 [==============================] - 0s 35ms/step - loss: 6.7234 - accuracy: 0.1892 - val_loss: 6.4339 - val_accuracy: 0.1401\n",
            "Epoch 363/500\n",
            "3/3 [==============================] - 0s 35ms/step - loss: 6.3050 - accuracy: 0.1351 - val_loss: 6.4339 - val_accuracy: 0.1401\n",
            "Epoch 364/500\n",
            "3/3 [==============================] - 0s 36ms/step - loss: 5.6423 - accuracy: 0.1351 - val_loss: 6.4339 - val_accuracy: 0.1401\n",
            "Epoch 365/500\n",
            "3/3 [==============================] - 0s 52ms/step - loss: 4.6618 - accuracy: 0.2703 - val_loss: 6.4339 - val_accuracy: 0.1401\n",
            "Epoch 366/500\n",
            "3/3 [==============================] - 0s 37ms/step - loss: 6.3689 - accuracy: 0.2703 - val_loss: 6.4339 - val_accuracy: 0.1401\n",
            "Epoch 367/500\n",
            "3/3 [==============================] - 0s 39ms/step - loss: 6.7262 - accuracy: 0.1081 - val_loss: 6.4339 - val_accuracy: 0.1401\n",
            "Epoch 368/500\n",
            "3/3 [==============================] - 0s 54ms/step - loss: 6.2403 - accuracy: 0.2432 - val_loss: 6.4339 - val_accuracy: 0.1401\n",
            "Epoch 369/500\n",
            "3/3 [==============================] - 0s 37ms/step - loss: 6.9863 - accuracy: 0.1351 - val_loss: 6.4339 - val_accuracy: 0.1401\n",
            "Epoch 370/500\n",
            "3/3 [==============================] - 0s 35ms/step - loss: 6.8031 - accuracy: 0.1081 - val_loss: 6.4339 - val_accuracy: 0.1401\n",
            "Epoch 371/500\n",
            "3/3 [==============================] - 0s 51ms/step - loss: 6.5699 - accuracy: 0.2162 - val_loss: 6.4339 - val_accuracy: 0.1401\n",
            "Epoch 372/500\n",
            "3/3 [==============================] - 0s 36ms/step - loss: 6.5971 - accuracy: 0.1892 - val_loss: 6.4339 - val_accuracy: 0.1401\n",
            "Epoch 373/500\n",
            "3/3 [==============================] - 0s 33ms/step - loss: 6.8157 - accuracy: 0.1351 - val_loss: 6.4339 - val_accuracy: 0.1401\n",
            "Epoch 374/500\n",
            "3/3 [==============================] - 0s 36ms/step - loss: 6.2496 - accuracy: 0.1892 - val_loss: 6.4339 - val_accuracy: 0.1401\n",
            "Epoch 375/500\n",
            "3/3 [==============================] - 0s 52ms/step - loss: 5.3791 - accuracy: 0.3784 - val_loss: 6.4339 - val_accuracy: 0.1401\n",
            "Epoch 376/500\n",
            "3/3 [==============================] - 0s 54ms/step - loss: 6.1130 - accuracy: 0.1892 - val_loss: 6.4339 - val_accuracy: 0.1401\n",
            "Epoch 377/500\n",
            "3/3 [==============================] - 0s 36ms/step - loss: 6.5219 - accuracy: 0.1081 - val_loss: 6.4339 - val_accuracy: 0.1401\n",
            "Epoch 378/500\n",
            "3/3 [==============================] - 0s 37ms/step - loss: 5.7508 - accuracy: 0.1622 - val_loss: 6.4339 - val_accuracy: 0.1401\n",
            "Epoch 379/500\n",
            "3/3 [==============================] - 0s 53ms/step - loss: 5.5852 - accuracy: 0.2432 - val_loss: 6.4339 - val_accuracy: 0.1401\n",
            "Epoch 380/500\n",
            "3/3 [==============================] - 0s 54ms/step - loss: 5.8468 - accuracy: 0.2432 - val_loss: 6.4339 - val_accuracy: 0.1401\n",
            "Epoch 381/500\n",
            "3/3 [==============================] - 0s 53ms/step - loss: 6.8313 - accuracy: 0.1351 - val_loss: 6.4339 - val_accuracy: 0.1401\n",
            "Epoch 382/500\n",
            "3/3 [==============================] - 0s 68ms/step - loss: 5.3689 - accuracy: 0.2162 - val_loss: 6.4339 - val_accuracy: 0.1401\n",
            "Epoch 383/500\n",
            "3/3 [==============================] - 0s 43ms/step - loss: 6.3014 - accuracy: 0.2703 - val_loss: 6.4339 - val_accuracy: 0.1401\n",
            "Epoch 384/500\n",
            "3/3 [==============================] - 0s 49ms/step - loss: 6.2434 - accuracy: 0.1622 - val_loss: 6.4339 - val_accuracy: 0.1401\n",
            "Epoch 385/500\n",
            "3/3 [==============================] - 0s 57ms/step - loss: 6.6029 - accuracy: 0.1351 - val_loss: 6.4339 - val_accuracy: 0.1401\n",
            "Epoch 386/500\n",
            "3/3 [==============================] - 0s 41ms/step - loss: 6.0314 - accuracy: 0.1622 - val_loss: 6.4339 - val_accuracy: 0.1401\n",
            "Epoch 387/500\n",
            "3/3 [==============================] - 0s 59ms/step - loss: 5.6759 - accuracy: 0.2162 - val_loss: 6.4339 - val_accuracy: 0.1401\n",
            "Epoch 388/500\n",
            "3/3 [==============================] - 0s 43ms/step - loss: 6.4175 - accuracy: 0.2432 - val_loss: 6.4339 - val_accuracy: 0.1401\n",
            "Epoch 389/500\n",
            "3/3 [==============================] - 0s 40ms/step - loss: 6.7517 - accuracy: 0.1351 - val_loss: 6.4339 - val_accuracy: 0.1401\n",
            "Epoch 390/500\n",
            "3/3 [==============================] - 0s 42ms/step - loss: 5.5394 - accuracy: 0.1351 - val_loss: 6.4339 - val_accuracy: 0.1401\n",
            "Epoch 391/500\n",
            "3/3 [==============================] - 0s 44ms/step - loss: 5.8736 - accuracy: 0.1351 - val_loss: 6.4339 - val_accuracy: 0.1401\n",
            "Epoch 392/500\n",
            "3/3 [==============================] - 0s 56ms/step - loss: 5.9412 - accuracy: 0.1081 - val_loss: 6.4339 - val_accuracy: 0.1401\n",
            "Epoch 393/500\n",
            "3/3 [==============================] - 0s 56ms/step - loss: 6.0665 - accuracy: 0.1892 - val_loss: 6.4339 - val_accuracy: 0.1401\n",
            "Epoch 394/500\n",
            "3/3 [==============================] - 0s 42ms/step - loss: 6.8165 - accuracy: 0.1622 - val_loss: 6.4339 - val_accuracy: 0.1401\n",
            "Epoch 395/500\n",
            "3/3 [==============================] - 0s 56ms/step - loss: 6.3589 - accuracy: 0.1351 - val_loss: 6.4339 - val_accuracy: 0.1401\n",
            "Epoch 396/500\n",
            "3/3 [==============================] - 0s 59ms/step - loss: 6.6778 - accuracy: 0.1351 - val_loss: 6.4339 - val_accuracy: 0.1401\n",
            "Epoch 397/500\n",
            "3/3 [==============================] - 0s 49ms/step - loss: 6.1128 - accuracy: 0.1622 - val_loss: 6.4339 - val_accuracy: 0.1401\n",
            "Epoch 398/500\n",
            "3/3 [==============================] - 0s 61ms/step - loss: 6.3475 - accuracy: 0.1892 - val_loss: 6.4339 - val_accuracy: 0.1401\n",
            "Epoch 399/500\n",
            "3/3 [==============================] - 0s 41ms/step - loss: 6.6832 - accuracy: 0.2162 - val_loss: 6.4339 - val_accuracy: 0.1401\n",
            "Epoch 400/500\n",
            "3/3 [==============================] - 0s 63ms/step - loss: 6.9872 - accuracy: 0.1351 - val_loss: 6.4339 - val_accuracy: 0.1401\n",
            "Epoch 401/500\n",
            "3/3 [==============================] - 0s 46ms/step - loss: 5.8416 - accuracy: 0.1892 - val_loss: 6.4339 - val_accuracy: 0.1401\n",
            "Epoch 402/500\n",
            "3/3 [==============================] - 0s 58ms/step - loss: 4.9500 - accuracy: 0.2703 - val_loss: 6.4339 - val_accuracy: 0.1401\n",
            "Epoch 403/500\n",
            "3/3 [==============================] - 0s 45ms/step - loss: 6.1402 - accuracy: 0.1622 - val_loss: 6.4339 - val_accuracy: 0.1401\n",
            "Epoch 404/500\n",
            "3/3 [==============================] - 0s 54ms/step - loss: 5.7705 - accuracy: 0.2973 - val_loss: 6.4339 - val_accuracy: 0.1401\n",
            "Epoch 405/500\n",
            "3/3 [==============================] - 0s 59ms/step - loss: 6.0615 - accuracy: 0.2432 - val_loss: 6.4339 - val_accuracy: 0.1401\n",
            "Epoch 406/500\n",
            "3/3 [==============================] - 0s 43ms/step - loss: 6.6195 - accuracy: 0.1081 - val_loss: 6.4339 - val_accuracy: 0.1401\n",
            "Epoch 407/500\n",
            "3/3 [==============================] - 0s 42ms/step - loss: 7.9758 - accuracy: 0.1081 - val_loss: 6.4339 - val_accuracy: 0.1401\n",
            "Epoch 408/500\n",
            "3/3 [==============================] - 0s 56ms/step - loss: 6.5386 - accuracy: 0.1351 - val_loss: 6.4339 - val_accuracy: 0.1401\n",
            "Epoch 409/500\n",
            "3/3 [==============================] - 0s 90ms/step - loss: 6.2620 - accuracy: 0.2162 - val_loss: 6.4339 - val_accuracy: 0.1401\n",
            "Epoch 410/500\n",
            "3/3 [==============================] - 0s 54ms/step - loss: 6.5347 - accuracy: 0.2703 - val_loss: 6.4339 - val_accuracy: 0.1401\n",
            "Epoch 411/500\n",
            "3/3 [==============================] - 0s 61ms/step - loss: 7.1334 - accuracy: 0.1351 - val_loss: 6.4339 - val_accuracy: 0.1401\n",
            "Epoch 412/500\n",
            "3/3 [==============================] - 0s 64ms/step - loss: 6.1036 - accuracy: 0.2162 - val_loss: 6.4339 - val_accuracy: 0.1401\n",
            "Epoch 413/500\n",
            "3/3 [==============================] - 0s 60ms/step - loss: 7.0214 - accuracy: 0.1081 - val_loss: 6.4339 - val_accuracy: 0.1401\n",
            "Epoch 414/500\n",
            "3/3 [==============================] - 0s 120ms/step - loss: 5.7599 - accuracy: 0.2162 - val_loss: 6.4339 - val_accuracy: 0.1401\n",
            "Epoch 415/500\n",
            "3/3 [==============================] - 0s 66ms/step - loss: 6.7780 - accuracy: 0.1892 - val_loss: 6.4339 - val_accuracy: 0.1401\n",
            "Epoch 416/500\n",
            "3/3 [==============================] - 0s 61ms/step - loss: 6.1169 - accuracy: 0.1081 - val_loss: 6.4339 - val_accuracy: 0.1401\n",
            "Epoch 417/500\n",
            "3/3 [==============================] - 0s 67ms/step - loss: 6.8210 - accuracy: 0.1081 - val_loss: 6.4339 - val_accuracy: 0.1401\n",
            "Epoch 418/500\n",
            "3/3 [==============================] - 0s 62ms/step - loss: 6.8469 - accuracy: 0.2432 - val_loss: 6.4339 - val_accuracy: 0.1401\n",
            "Epoch 419/500\n",
            "3/3 [==============================] - 0s 70ms/step - loss: 6.7224 - accuracy: 0.1892 - val_loss: 6.4339 - val_accuracy: 0.1401\n",
            "Epoch 420/500\n",
            "3/3 [==============================] - 0s 82ms/step - loss: 6.5563 - accuracy: 0.1622 - val_loss: 6.4339 - val_accuracy: 0.1401\n",
            "Epoch 421/500\n",
            "3/3 [==============================] - 0s 62ms/step - loss: 6.3226 - accuracy: 0.0541 - val_loss: 6.4339 - val_accuracy: 0.1401\n",
            "Epoch 422/500\n",
            "3/3 [==============================] - 0s 64ms/step - loss: 7.1663 - accuracy: 0.1622 - val_loss: 6.4339 - val_accuracy: 0.1401\n",
            "Epoch 423/500\n",
            "3/3 [==============================] - 0s 55ms/step - loss: 6.7347 - accuracy: 0.1892 - val_loss: 6.4339 - val_accuracy: 0.1401\n",
            "Epoch 424/500\n",
            "3/3 [==============================] - 0s 38ms/step - loss: 6.9683 - accuracy: 0.2162 - val_loss: 6.4339 - val_accuracy: 0.1401\n",
            "Epoch 425/500\n",
            "3/3 [==============================] - 0s 55ms/step - loss: 6.2526 - accuracy: 0.1892 - val_loss: 6.4339 - val_accuracy: 0.1401\n",
            "Epoch 426/500\n",
            "3/3 [==============================] - 0s 52ms/step - loss: 5.6304 - accuracy: 0.2162 - val_loss: 6.4339 - val_accuracy: 0.1401\n",
            "Epoch 427/500\n",
            "3/3 [==============================] - 0s 66ms/step - loss: 7.3472 - accuracy: 0.0811 - val_loss: 6.4339 - val_accuracy: 0.1401\n",
            "Epoch 428/500\n",
            "3/3 [==============================] - 0s 35ms/step - loss: 6.3157 - accuracy: 0.0811 - val_loss: 6.4339 - val_accuracy: 0.1401\n",
            "Epoch 429/500\n",
            "3/3 [==============================] - 0s 39ms/step - loss: 5.9872 - accuracy: 0.2162 - val_loss: 6.4339 - val_accuracy: 0.1401\n",
            "Epoch 430/500\n",
            "3/3 [==============================] - 0s 37ms/step - loss: 5.5184 - accuracy: 0.2162 - val_loss: 6.4339 - val_accuracy: 0.1401\n",
            "Epoch 431/500\n",
            "3/3 [==============================] - 0s 54ms/step - loss: 6.9299 - accuracy: 0.0541 - val_loss: 6.4339 - val_accuracy: 0.1401\n",
            "Epoch 432/500\n",
            "3/3 [==============================] - 0s 53ms/step - loss: 6.5584 - accuracy: 0.0811 - val_loss: 6.4339 - val_accuracy: 0.1401\n",
            "Epoch 433/500\n",
            "3/3 [==============================] - 0s 36ms/step - loss: 5.9903 - accuracy: 0.2973 - val_loss: 6.4339 - val_accuracy: 0.1401\n",
            "Epoch 434/500\n",
            "3/3 [==============================] - 0s 54ms/step - loss: 6.0870 - accuracy: 0.2973 - val_loss: 6.4339 - val_accuracy: 0.1401\n",
            "Epoch 435/500\n",
            "3/3 [==============================] - 0s 40ms/step - loss: 6.6359 - accuracy: 0.1622 - val_loss: 6.4339 - val_accuracy: 0.1401\n",
            "Epoch 436/500\n",
            "3/3 [==============================] - 0s 57ms/step - loss: 6.0989 - accuracy: 0.1081 - val_loss: 6.4339 - val_accuracy: 0.1401\n",
            "Epoch 437/500\n",
            "3/3 [==============================] - 0s 36ms/step - loss: 6.6449 - accuracy: 0.2162 - val_loss: 6.4339 - val_accuracy: 0.1401\n",
            "Epoch 438/500\n",
            "3/3 [==============================] - 0s 36ms/step - loss: 5.1264 - accuracy: 0.1351 - val_loss: 6.4339 - val_accuracy: 0.1401\n",
            "Epoch 439/500\n",
            "3/3 [==============================] - 0s 36ms/step - loss: 6.1844 - accuracy: 0.1351 - val_loss: 6.4339 - val_accuracy: 0.1401\n",
            "Epoch 440/500\n",
            "3/3 [==============================] - 0s 40ms/step - loss: 5.3742 - accuracy: 0.2432 - val_loss: 6.4339 - val_accuracy: 0.1401\n",
            "Epoch 441/500\n",
            "3/3 [==============================] - 0s 38ms/step - loss: 5.8516 - accuracy: 0.2432 - val_loss: 6.4339 - val_accuracy: 0.1401\n",
            "Epoch 442/500\n",
            "3/3 [==============================] - 0s 53ms/step - loss: 6.0291 - accuracy: 0.1892 - val_loss: 6.4339 - val_accuracy: 0.1401\n",
            "Epoch 443/500\n",
            "3/3 [==============================] - 0s 52ms/step - loss: 6.5909 - accuracy: 0.1892 - val_loss: 6.4339 - val_accuracy: 0.1401\n",
            "Epoch 444/500\n",
            "3/3 [==============================] - 0s 52ms/step - loss: 6.5242 - accuracy: 0.2162 - val_loss: 6.4339 - val_accuracy: 0.1401\n",
            "Epoch 445/500\n",
            "3/3 [==============================] - 0s 36ms/step - loss: 6.0067 - accuracy: 0.1892 - val_loss: 6.4339 - val_accuracy: 0.1401\n",
            "Epoch 446/500\n",
            "3/3 [==============================] - 0s 54ms/step - loss: 5.5142 - accuracy: 0.1622 - val_loss: 6.4339 - val_accuracy: 0.1401\n",
            "Epoch 447/500\n",
            "3/3 [==============================] - 0s 52ms/step - loss: 6.7090 - accuracy: 0.1622 - val_loss: 6.4339 - val_accuracy: 0.1401\n",
            "Epoch 448/500\n",
            "3/3 [==============================] - 0s 39ms/step - loss: 5.8452 - accuracy: 0.2432 - val_loss: 6.4339 - val_accuracy: 0.1401\n",
            "Epoch 449/500\n",
            "3/3 [==============================] - 0s 53ms/step - loss: 6.5706 - accuracy: 0.1622 - val_loss: 6.4339 - val_accuracy: 0.1401\n",
            "Epoch 450/500\n",
            "3/3 [==============================] - 0s 36ms/step - loss: 5.5872 - accuracy: 0.2973 - val_loss: 6.4339 - val_accuracy: 0.1401\n",
            "Epoch 451/500\n",
            "3/3 [==============================] - 0s 37ms/step - loss: 6.8145 - accuracy: 0.2432 - val_loss: 6.4339 - val_accuracy: 0.1401\n",
            "Epoch 452/500\n",
            "3/3 [==============================] - 0s 36ms/step - loss: 5.9022 - accuracy: 0.1892 - val_loss: 6.4339 - val_accuracy: 0.1401\n",
            "Epoch 453/500\n",
            "3/3 [==============================] - 0s 55ms/step - loss: 5.2638 - accuracy: 0.3514 - val_loss: 6.4339 - val_accuracy: 0.1401\n",
            "Epoch 454/500\n",
            "3/3 [==============================] - 0s 37ms/step - loss: 6.4601 - accuracy: 0.1622 - val_loss: 6.4339 - val_accuracy: 0.1401\n",
            "Epoch 455/500\n",
            "3/3 [==============================] - 0s 53ms/step - loss: 6.8957 - accuracy: 0.1892 - val_loss: 6.4339 - val_accuracy: 0.1401\n",
            "Epoch 456/500\n",
            "3/3 [==============================] - 0s 55ms/step - loss: 6.8922 - accuracy: 0.1081 - val_loss: 6.4339 - val_accuracy: 0.1401\n",
            "Epoch 457/500\n",
            "3/3 [==============================] - 0s 38ms/step - loss: 6.8253 - accuracy: 0.1892 - val_loss: 6.4339 - val_accuracy: 0.1401\n",
            "Epoch 458/500\n",
            "3/3 [==============================] - 0s 55ms/step - loss: 6.1842 - accuracy: 0.0811 - val_loss: 6.4339 - val_accuracy: 0.1401\n",
            "Epoch 459/500\n",
            "3/3 [==============================] - 0s 41ms/step - loss: 6.6505 - accuracy: 0.1622 - val_loss: 6.4339 - val_accuracy: 0.1401\n",
            "Epoch 460/500\n",
            "3/3 [==============================] - 0s 37ms/step - loss: 6.5919 - accuracy: 0.1892 - val_loss: 6.4339 - val_accuracy: 0.1401\n",
            "Epoch 461/500\n",
            "3/3 [==============================] - 0s 52ms/step - loss: 5.6381 - accuracy: 0.2703 - val_loss: 6.4339 - val_accuracy: 0.1401\n",
            "Epoch 462/500\n",
            "3/3 [==============================] - 0s 58ms/step - loss: 6.9556 - accuracy: 0.1351 - val_loss: 6.4339 - val_accuracy: 0.1401\n",
            "Epoch 463/500\n",
            "3/3 [==============================] - 0s 54ms/step - loss: 6.6442 - accuracy: 0.1622 - val_loss: 6.4339 - val_accuracy: 0.1401\n",
            "Epoch 464/500\n",
            "3/3 [==============================] - 0s 54ms/step - loss: 6.5827 - accuracy: 0.1622 - val_loss: 6.4339 - val_accuracy: 0.1401\n",
            "Epoch 465/500\n",
            "3/3 [==============================] - 0s 41ms/step - loss: 6.4302 - accuracy: 0.1622 - val_loss: 6.4339 - val_accuracy: 0.1401\n",
            "Epoch 466/500\n",
            "3/3 [==============================] - 0s 37ms/step - loss: 6.1109 - accuracy: 0.1892 - val_loss: 6.4339 - val_accuracy: 0.1401\n",
            "Epoch 467/500\n",
            "3/3 [==============================] - 0s 53ms/step - loss: 5.9557 - accuracy: 0.1351 - val_loss: 6.4339 - val_accuracy: 0.1401\n",
            "Epoch 468/500\n",
            "3/3 [==============================] - 0s 38ms/step - loss: 5.4813 - accuracy: 0.2162 - val_loss: 6.4339 - val_accuracy: 0.1401\n",
            "Epoch 469/500\n",
            "3/3 [==============================] - 0s 36ms/step - loss: 5.8392 - accuracy: 0.2432 - val_loss: 6.4339 - val_accuracy: 0.1401\n",
            "Epoch 470/500\n",
            "3/3 [==============================] - 0s 43ms/step - loss: 5.5911 - accuracy: 0.3243 - val_loss: 6.4339 - val_accuracy: 0.1401\n",
            "Epoch 471/500\n",
            "3/3 [==============================] - 0s 53ms/step - loss: 6.4066 - accuracy: 0.1622 - val_loss: 6.4339 - val_accuracy: 0.1401\n",
            "Epoch 472/500\n",
            "3/3 [==============================] - 0s 37ms/step - loss: 6.5770 - accuracy: 0.2973 - val_loss: 6.4339 - val_accuracy: 0.1401\n",
            "Epoch 473/500\n",
            "3/3 [==============================] - 0s 70ms/step - loss: 6.3900 - accuracy: 0.1351 - val_loss: 6.4339 - val_accuracy: 0.1401\n",
            "Epoch 474/500\n",
            "3/3 [==============================] - 0s 139ms/step - loss: 6.0650 - accuracy: 0.1351 - val_loss: 6.4339 - val_accuracy: 0.1401\n",
            "Epoch 475/500\n",
            "3/3 [==============================] - 0s 135ms/step - loss: 6.7626 - accuracy: 0.2162 - val_loss: 6.4339 - val_accuracy: 0.1401\n",
            "Epoch 476/500\n",
            "3/3 [==============================] - 0s 55ms/step - loss: 5.9285 - accuracy: 0.1892 - val_loss: 6.4339 - val_accuracy: 0.1401\n",
            "Epoch 477/500\n",
            "3/3 [==============================] - 0s 55ms/step - loss: 5.2459 - accuracy: 0.2162 - val_loss: 6.4339 - val_accuracy: 0.1401\n",
            "Epoch 478/500\n",
            "3/3 [==============================] - 0s 53ms/step - loss: 6.1132 - accuracy: 0.1622 - val_loss: 6.4339 - val_accuracy: 0.1401\n",
            "Epoch 479/500\n",
            "3/3 [==============================] - 0s 42ms/step - loss: 5.0556 - accuracy: 0.2703 - val_loss: 6.4339 - val_accuracy: 0.1401\n",
            "Epoch 480/500\n",
            "3/3 [==============================] - 0s 55ms/step - loss: 6.7244 - accuracy: 0.0541 - val_loss: 6.4339 - val_accuracy: 0.1401\n",
            "Epoch 481/500\n",
            "3/3 [==============================] - 0s 53ms/step - loss: 5.8508 - accuracy: 0.1892 - val_loss: 6.4339 - val_accuracy: 0.1401\n",
            "Epoch 482/500\n",
            "3/3 [==============================] - 0s 40ms/step - loss: 6.1243 - accuracy: 0.0811 - val_loss: 6.4339 - val_accuracy: 0.1401\n",
            "Epoch 483/500\n",
            "3/3 [==============================] - 0s 38ms/step - loss: 5.8943 - accuracy: 0.1622 - val_loss: 6.4339 - val_accuracy: 0.1401\n",
            "Epoch 484/500\n",
            "3/3 [==============================] - 0s 40ms/step - loss: 5.4875 - accuracy: 0.2432 - val_loss: 6.4339 - val_accuracy: 0.1401\n",
            "Epoch 485/500\n",
            "3/3 [==============================] - 0s 43ms/step - loss: 5.9533 - accuracy: 0.1622 - val_loss: 6.4339 - val_accuracy: 0.1401\n",
            "Epoch 486/500\n",
            "3/3 [==============================] - 0s 39ms/step - loss: 5.2430 - accuracy: 0.2162 - val_loss: 6.4339 - val_accuracy: 0.1401\n",
            "Epoch 487/500\n",
            "3/3 [==============================] - 0s 39ms/step - loss: 6.9158 - accuracy: 0.1892 - val_loss: 6.4339 - val_accuracy: 0.1401\n",
            "Epoch 488/500\n",
            "3/3 [==============================] - 0s 38ms/step - loss: 7.7167 - accuracy: 0.1622 - val_loss: 6.4339 - val_accuracy: 0.1401\n",
            "Epoch 489/500\n",
            "3/3 [==============================] - 0s 35ms/step - loss: 7.4355 - accuracy: 0.0541 - val_loss: 6.4339 - val_accuracy: 0.1401\n",
            "Epoch 490/500\n",
            "3/3 [==============================] - 0s 55ms/step - loss: 7.0470 - accuracy: 0.1622 - val_loss: 6.4339 - val_accuracy: 0.1401\n",
            "Epoch 491/500\n",
            "3/3 [==============================] - 0s 38ms/step - loss: 6.3064 - accuracy: 0.1351 - val_loss: 6.4339 - val_accuracy: 0.1401\n",
            "Epoch 492/500\n",
            "3/3 [==============================] - 0s 40ms/step - loss: 5.9904 - accuracy: 0.1892 - val_loss: 6.4339 - val_accuracy: 0.1401\n",
            "Epoch 493/500\n",
            "3/3 [==============================] - 0s 60ms/step - loss: 6.1482 - accuracy: 0.2162 - val_loss: 6.4339 - val_accuracy: 0.1401\n",
            "Epoch 494/500\n",
            "3/3 [==============================] - 0s 54ms/step - loss: 6.8776 - accuracy: 0.1892 - val_loss: 6.4339 - val_accuracy: 0.1401\n",
            "Epoch 495/500\n",
            "3/3 [==============================] - 0s 38ms/step - loss: 6.8145 - accuracy: 0.1081 - val_loss: 6.4339 - val_accuracy: 0.1401\n",
            "Epoch 496/500\n",
            "3/3 [==============================] - 0s 56ms/step - loss: 5.7584 - accuracy: 0.1351 - val_loss: 6.4339 - val_accuracy: 0.1401\n",
            "Epoch 497/500\n",
            "3/3 [==============================] - 0s 37ms/step - loss: 7.5942 - accuracy: 0.0270 - val_loss: 6.4339 - val_accuracy: 0.1401\n",
            "Epoch 498/500\n",
            "3/3 [==============================] - 0s 55ms/step - loss: 6.0875 - accuracy: 0.0811 - val_loss: 6.4339 - val_accuracy: 0.1401\n",
            "Epoch 499/500\n",
            "3/3 [==============================] - 0s 37ms/step - loss: 5.9278 - accuracy: 0.1892 - val_loss: 6.4339 - val_accuracy: 0.1401\n",
            "Epoch 500/500\n",
            "3/3 [==============================] - 0s 41ms/step - loss: 5.9054 - accuracy: 0.1892 - val_loss: 6.4339 - val_accuracy: 0.1401\n"
          ]
        }
      ]
    },
    {
      "cell_type": "code",
      "source": [
        "ava_acc=np.mean(cnnhistory.history['accuracy']) # numpy assumed imported as np\n",
        "print(ava_acc)"
      ],
      "metadata": {
        "colab": {
          "base_uri": "https://localhost:8080/"
        },
        "id": "Fu7omyRcaIN3",
        "outputId": "06c46cd6-f5e7-44d7-8715-d72f1072e05c"
      },
      "execution_count": null,
      "outputs": [
        {
          "output_type": "stream",
          "name": "stdout",
          "text": [
            "0.17935135117918252\n"
          ]
        }
      ]
    },
    {
      "cell_type": "code",
      "source": [
        "plt.plot(cnnhistory.history['loss'])\n",
        "plt.plot(cnnhistory.history['val_loss'])\n",
        "plt.title('model loss')\n",
        "plt.ylabel('loss')\n",
        "plt.xlabel('epoch')\n",
        "plt.legend(['train', 'valid'], loc='upper left')\n",
        "plt.show()"
      ],
      "metadata": {
        "colab": {
          "base_uri": "https://localhost:8080/",
          "height": 295
        },
        "id": "oQYnuaCrDH_A",
        "outputId": "14378a54-d3ca-459c-c2ec-be4ea4f3624c"
      },
      "execution_count": null,
      "outputs": [
        {
          "output_type": "display_data",
          "data": {
            "image/png": "[encoded data removed]",
            "text/plain": [
              "<Figure size 432x288 with 1 Axes>"
            ]
          },
          "metadata": {
            "needs_background": "light"
          }
        }
      ]
    },
    {
      "cell_type": "code",
      "source": [
        "plt.plot(cnnhistory.history['accuracy'])\n",
        "plt.plot(cnnhistory.history['val_accuracy'])\n",
        "plt.title('model accuracy')\n",
        "plt.ylabel('accuracy')\n",
        "plt.xlabel('epoch')\n",
        "plt.legend(['train', 'valid'], loc='upper left')\n",
        "plt.show()"
      ],
      "metadata": {
        "colab": {
          "base_uri": "https://localhost:8080/",
          "height": 295
        },
        "id": "IFkTuO8nDNdq",
        "outputId": "57ea6a93-fd3e-4953-9d3f-1d12f7320dec"
      },
      "execution_count": null,
      "outputs": [
        {
          "output_type": "display_data",
          "data": {
            "image/png": "[encoded data removed]",
            "text/plain": [
              "<Figure size 432x288 with 1 Axes>"
            ]
          },
          "metadata": {
            "needs_background": "light"
          }
        }
      ]
    },
    {
      "cell_type": "code",
      "source": [
        "#predictions = model.predict_classes(x_testcnn)\n",
        "predictions = model.predict(x_test)"
      ],
      "metadata": {
        "id": "A2xtrN5wDQgY"
      },
      "execution_count": null,
      "outputs": []
    },
    {
      "cell_type": "code",
      "source": [
        "predictions"
      ],
      "metadata": {
        "colab": {
          "base_uri": "https://localhost:8080/"
        },
        "id": "_f_ohjXKDUpY",
        "outputId": "ed4c4c12-3002-4d65-ee08-eefb7e2102db"
      },
      "execution_count": null,
      "outputs": [
        {
          "output_type": "execute_result",
          "data": {
            "text/plain": [
              "array([[2.5916839e-01, 1.1579617e-01, 3.9320603e-01, 2.2537014e-02,\n",
              "        2.7758523e-07, 2.0929211e-01],\n",
              "       [2.7799544e-01, 9.1368154e-02, 5.0021094e-01, 7.3715919e-03,\n",
              "        7.5112165e-09, 1.2305381e-01],\n",
              "       [2.5244510e-01, 7.2149158e-02, 6.1491203e-01, 4.2243586e-03,\n",
              "        1.0290797e-10, 5.6269214e-02],\n",
              "       ...,\n",
              "       [3.5522670e-01, 9.1892891e-02, 4.1817334e-01, 5.4899058e-03,\n",
              "        2.6961571e-09, 1.2921727e-01],\n",
              "       [2.5121054e-01, 1.7587614e-01, 3.5837001e-01, 2.7552424e-02,\n",
              "        5.4148541e-07, 1.8699048e-01],\n",
              "       [3.6947873e-01, 8.1327915e-02, 4.6225286e-01, 1.0094118e-02,\n",
              "        6.7414709e-09, 7.6846421e-02]], dtype=float32)"
            ]
          },
          "metadata": {},
          "execution_count": 33
        }
      ]
    },
    {
      "cell_type": "code",
      "source": [
        "emo_test"
      ],
      "metadata": {
        "colab": {
          "base_uri": "https://localhost:8080/"
        },
        "id": "cmA2bFgsDW3D",
        "outputId": "debaf0b0-b18a-4425-f706-5f7058208bfe"
      },
      "execution_count": null,
      "outputs": [
        {
          "output_type": "execute_result",
          "data": {
            "text/plain": [
              "array([5, 1, 3, 5, 5, 5, 2, 1, 2, 1, 0, 3, 0, 3, 4, 1, 5, 1, 2, 3, 1, 1,\n",
              "       2, 3, 3, 4, 1, 4, 2, 2, 2, 4, 3, 3, 5, 5, 4, 5, 2, 2, 3, 0, 3, 2,\n",
              "       3, 1, 5, 5, 0, 0, 3, 5, 5, 5, 5, 3, 2, 4, 3, 5, 1, 3, 5, 2, 5, 4,\n",
              "       3, 0, 1, 3, 5, 3, 2, 2, 3, 4, 4, 0, 5, 5, 3, 2, 5, 3, 2, 5, 1, 3,\n",
              "       0, 5, 1, 4, 4, 1, 2, 5, 0, 0, 2, 0, 3, 3, 4, 5, 5, 5, 4, 1, 3, 2,\n",
              "       1, 1, 2, 3, 2, 4, 4, 4, 1, 0, 2, 2, 4, 0, 3, 3, 1, 5, 5, 5, 3, 2,\n",
              "       2, 0, 5, 4, 1, 3, 3, 2, 1, 1, 4, 0, 1, 1, 0, 1, 2, 4, 1, 2, 2, 0,\n",
              "       0, 0, 0, 2, 0, 4, 0, 1, 3, 0, 5, 4, 4, 5, 2, 3, 3, 4, 1, 4, 1, 4,\n",
              "       1, 2, 2, 1, 4, 5, 5, 5, 5, 4, 3, 0, 3, 0, 3, 1, 5, 0, 2, 4, 2, 1,\n",
              "       0, 3, 5, 1, 4, 4, 4, 4, 3])"
            ]
          },
          "metadata": {},
          "execution_count": 34
        }
      ]
    },
    {
      "cell_type": "code",
      "source": [
        "new_Ytest = emo_test.astype(int)"
      ],
      "metadata": {
        "id": "0PHDKWJWDY3g"
      },
      "execution_count": null,
      "outputs": []
    },
    {
      "cell_type": "code",
      "source": [
        "new_Ytest"
      ],
      "metadata": {
        "colab": {
          "base_uri": "https://localhost:8080/"
        },
        "id": "k68v2i-pDbZE",
        "outputId": "c1bfdbc5-eef5-4d9b-e857-d90fbba6cdaa"
      },
      "execution_count": null,
      "outputs": [
        {
          "output_type": "execute_result",
          "data": {
            "text/plain": [
              "array([5, 1, 3, 5, 5, 5, 2, 1, 2, 1, 0, 3, 0, 3, 4, 1, 5, 1, 2, 3, 1, 1,\n",
              "       2, 3, 3, 4, 1, 4, 2, 2, 2, 4, 3, 3, 5, 5, 4, 5, 2, 2, 3, 0, 3, 2,\n",
              "       3, 1, 5, 5, 0, 0, 3, 5, 5, 5, 5, 3, 2, 4, 3, 5, 1, 3, 5, 2, 5, 4,\n",
              "       3, 0, 1, 3, 5, 3, 2, 2, 3, 4, 4, 0, 5, 5, 3, 2, 5, 3, 2, 5, 1, 3,\n",
              "       0, 5, 1, 4, 4, 1, 2, 5, 0, 0, 2, 0, 3, 3, 4, 5, 5, 5, 4, 1, 3, 2,\n",
              "       1, 1, 2, 3, 2, 4, 4, 4, 1, 0, 2, 2, 4, 0, 3, 3, 1, 5, 5, 5, 3, 2,\n",
              "       2, 0, 5, 4, 1, 3, 3, 2, 1, 1, 4, 0, 1, 1, 0, 1, 2, 4, 1, 2, 2, 0,\n",
              "       0, 0, 0, 2, 0, 4, 0, 1, 3, 0, 5, 4, 4, 5, 2, 3, 3, 4, 1, 4, 1, 4,\n",
              "       1, 2, 2, 1, 4, 5, 5, 5, 5, 4, 3, 0, 3, 0, 3, 1, 5, 0, 2, 4, 2, 1,\n",
              "       0, 3, 5, 1, 4, 4, 4, 4, 3])"
            ]
          },
          "metadata": {},
          "execution_count": 36
        }
      ]
    },
    {
      "cell_type": "code",
      "source": [
        "preds1=predictions.argmax(axis=1)"
      ],
      "metadata": {
        "id": "VEw0FiZFMcOQ"
      },
      "execution_count": null,
      "outputs": []
    },
    {
      "cell_type": "code",
      "source": [
        "preds1"
      ],
      "metadata": {
        "colab": {
          "base_uri": "https://localhost:8080/"
        },
        "id": "vvyRw0M0NBOb",
        "outputId": "a9e7d75b-6ba7-429c-bdd8-36602633e9e6"
      },
      "execution_count": null,
      "outputs": [
        {
          "output_type": "execute_result",
          "data": {
            "text/plain": [
              "array([2, 2, 2, 2, 2, 2, 2, 2, 2, 2, 2, 2, 2, 2, 2, 2, 2, 2, 2, 2, 2, 2,\n",
              "       2, 2, 2, 2, 2, 2, 0, 2, 2, 2, 2, 0, 2, 0, 2, 2, 2, 2, 2, 2, 2, 2,\n",
              "       2, 2, 2, 2, 2, 2, 2, 2, 2, 2, 2, 2, 2, 2, 2, 2, 2, 2, 2, 2, 2, 2,\n",
              "       2, 2, 2, 0, 2, 2, 2, 2, 2, 2, 2, 2, 2, 2, 2, 2, 2, 2, 2, 2, 2, 2,\n",
              "       2, 2, 0, 2, 2, 2, 2, 2, 2, 2, 2, 2, 2, 2, 2, 2, 2, 2, 2, 2, 2, 2,\n",
              "       2, 2, 1, 2, 2, 5, 5, 2, 2, 2, 2, 2, 2, 2, 2, 2, 2, 2, 2, 2, 2, 2,\n",
              "       2, 2, 2, 2, 2, 2, 2, 2, 2, 2, 2, 2, 2, 2, 2, 2, 2, 2, 2, 2, 2, 2,\n",
              "       2, 2, 2, 2, 2, 2, 2, 2, 2, 2, 2, 2, 2, 2, 2, 2, 2, 2, 2, 2, 2, 2,\n",
              "       2, 2, 2, 2, 5, 2, 2, 2, 2, 2, 2, 2, 2, 2, 2, 2, 2, 2, 2, 2, 2, 0,\n",
              "       2, 2, 2, 2, 2, 0, 2, 2, 2])"
            ]
          },
          "metadata": {},
          "execution_count": 38
        }
      ]
    },
    {
      "cell_type": "code",
      "source": [
        "abc = preds1.astype(int).flatten()"
      ],
      "metadata": {
        "id": "H4WEmM60NfQn"
      },
      "execution_count": null,
      "outputs": []
    },
    {
      "cell_type": "code",
      "source": [
        "from sklearn.metrics import confusion_matrix\n",
        "c = confusion_matrix(new_Ytest, abc) \n",
        "c"
      ],
      "metadata": {
        "colab": {
          "base_uri": "https://localhost:8080/"
        },
        "id": "bKEBeEBlFjB8",
        "outputId": "bb796d3b-1a84-4639-c8b4-df92471642be"
      },
      "execution_count": null,
      "outputs": [
        {
          "output_type": "execute_result",
          "data": {
            "text/plain": [
              "array([[ 0,  0, 27,  0,  0,  0],\n",
              "       [ 2,  0, 32,  0,  0,  0],\n",
              "       [ 1,  1, 33,  0,  0,  0],\n",
              "       [ 2,  0, 37,  0,  0,  0],\n",
              "       [ 1,  0, 29,  0,  0,  3],\n",
              "       [ 1,  0, 38,  0,  0,  0]])"
            ]
          },
          "metadata": {},
          "execution_count": 40
        }
      ]
    },
    {
      "cell_type": "code",
      "source": [
        "emo_test"
      ],
      "metadata": {
        "colab": {
          "base_uri": "https://localhost:8080/"
        },
        "id": "m4RjG7LWLSQx",
        "outputId": "7308a3df-3a9b-436f-cded-ba026e90e7be"
      },
      "execution_count": null,
      "outputs": [
        {
          "output_type": "execute_result",
          "data": {
            "text/plain": [
              "array([5, 1, 3, 5, 5, 5, 2, 1, 2, 1, 0, 3, 0, 3, 4, 1, 5, 1, 2, 3, 1, 1,\n",
              "       2, 3, 3, 4, 1, 4, 2, 2, 2, 4, 3, 3, 5, 5, 4, 5, 2, 2, 3, 0, 3, 2,\n",
              "       3, 1, 5, 5, 0, 0, 3, 5, 5, 5, 5, 3, 2, 4, 3, 5, 1, 3, 5, 2, 5, 4,\n",
              "       3, 0, 1, 3, 5, 3, 2, 2, 3, 4, 4, 0, 5, 5, 3, 2, 5, 3, 2, 5, 1, 3,\n",
              "       0, 5, 1, 4, 4, 1, 2, 5, 0, 0, 2, 0, 3, 3, 4, 5, 5, 5, 4, 1, 3, 2,\n",
              "       1, 1, 2, 3, 2, 4, 4, 4, 1, 0, 2, 2, 4, 0, 3, 3, 1, 5, 5, 5, 3, 2,\n",
              "       2, 0, 5, 4, 1, 3, 3, 2, 1, 1, 4, 0, 1, 1, 0, 1, 2, 4, 1, 2, 2, 0,\n",
              "       0, 0, 0, 2, 0, 4, 0, 1, 3, 0, 5, 4, 4, 5, 2, 3, 3, 4, 1, 4, 1, 4,\n",
              "       1, 2, 2, 1, 4, 5, 5, 5, 5, 4, 3, 0, 3, 0, 3, 1, 5, 0, 2, 4, 2, 1,\n",
              "       0, 3, 5, 1, 4, 4, 4, 4, 3])"
            ]
          },
          "metadata": {},
          "execution_count": 41
        }
      ]
    },
    {
      "cell_type": "code",
      "source": [
        "model.save('/content/drive/My Drive/graduation project/audio/improvement1/mariam/augmanted_radvass_newlayer_1')\n",
        "print(\"MODEL SAVED\")"
      ],
      "metadata": {
        "colab": {
          "base_uri": "https://localhost:8080/"
        },
        "id": "lsJBNeMWDl6Z",
        "outputId": "87ba89ad-8c74-46b5-c765-5c3c898f5990"
      },
      "execution_count": null,
      "outputs": [
        {
          "output_type": "stream",
          "name": "stdout",
          "text": [
            "INFO:tensorflow:Assets written to: /content/drive/My Drive/graduation project/audio/improvement1/mariam/augmanted_radvass_newlayer_1/assets\n",
            "MODEL SAVED\n"
          ]
        }
      ]
    },
    {
      "cell_type": "code",
      "source": [
        "new_model=keras.models.load_model('/content/drive/My Drive/graduation project/audio/improvement1/mariam/augmanted_radvass_newlayer_1')\n",
        "new_model.summary()"
      ],
      "metadata": {
        "colab": {
          "base_uri": "https://localhost:8080/"
        },
        "id": "Q3KjaO9GDoNl",
        "outputId": "f0ec883e-7b14-439c-c0e0-076d291cfbf5"
      },
      "execution_count": null,
      "outputs": [
        {
          "output_type": "stream",
          "name": "stdout",
          "text": [
            "Model: \"sequential\"\n",
            "_________________________________________________________________\n",
            " Layer (type)                Output Shape              Param #   \n",
            "=================================================================\n",
            " conv1d (Conv1D)             (None, 40, 64)            384       \n",
            "                                                                 \n",
            " activation (Activation)     (None, 40, 64)            0         \n",
            "                                                                 \n",
            " dropout (Dropout)           (None, 40, 64)            0         \n",
            "                                                                 \n",
            " max_pooling1d (MaxPooling1D  (None, 10, 64)           0         \n",
            " )                                                               \n",
            "                                                                 \n",
            " conv1d_1 (Conv1D)           (None, 10, 128)           41088     \n",
            "                                                                 \n",
            " activation_1 (Activation)   (None, 10, 128)           0         \n",
            "                                                                 \n",
            " dropout_1 (Dropout)         (None, 10, 128)           0         \n",
            "                                                                 \n",
            " max_pooling1d_1 (MaxPooling  (None, 2, 128)           0         \n",
            " 1D)                                                             \n",
            "                                                                 \n",
            " conv1d_2 (Conv1D)           (None, 2, 128)            82048     \n",
            "                                                                 \n",
            " activation_2 (Activation)   (None, 2, 128)            0         \n",
            "                                                                 \n",
            " dropout_2 (Dropout)         (None, 2, 128)            0         \n",
            "                                                                 \n",
            " max_pooling1d_2 (MaxPooling  (None, 1, 128)           0         \n",
            " 1D)                                                             \n",
            "                                                                 \n",
            " conv1d_3 (Conv1D)           (None, 1, 256)            164096    \n",
            "                                                                 \n",
            " activation_3 (Activation)   (None, 1, 256)            0         \n",
            "                                                                 \n",
            " dropout_3 (Dropout)         (None, 1, 256)            0         \n",
            "                                                                 \n",
            " flatten (Flatten)           (None, 256)               0         \n",
            "                                                                 \n",
            " dense (Dense)               (None, 6)                 1542      \n",
            "                                                                 \n",
            " activation_4 (Activation)   (None, 6)                 0         \n",
            "                                                                 \n",
            "=================================================================\n",
            "Total params: 289,158\n",
            "Trainable params: 289,158\n",
            "Non-trainable params: 0\n",
            "_________________________________________________________________\n"
          ]
        }
      ]
    },
    {
      "cell_type": "code",
      "source": [
        "loss, acc = model.evaluate(x_test, emo_test)\n",
        "print(\"Restored model, accuracy: {:5.2f}%\".format(100*acc))"
      ],
      "metadata": {
        "colab": {
          "base_uri": "https://localhost:8080/"
        },
        "id": "n3kzoqPkDqqS",
        "outputId": "18a58301-2e4f-4529-b10c-576fa5dbab13"
      },
      "execution_count": null,
      "outputs": [
        {
          "output_type": "stream",
          "name": "stdout",
          "text": [
            "7/7 [==============================] - 0s 11ms/step - loss: 4.8172 - accuracy: 0.1594\n",
            "Restored model, accuracy: 15.94%\n"
          ]
        }
      ]
    },
    {
      "cell_type": "code",
      "source": [
        "from sklearn.metrics import classification_report, confusion_matrix,accuracy_score\n",
        "import seaborn as sn\n",
        "\n",
        "print(classification_report(emo_test,abc))\n",
        "\n",
        "acc = float(accuracy_score(emo_test,abc))*100\n",
        "print(\"----accuracy score %s ----\" % acc)\n",
        "\n",
        "cm = confusion_matrix(emo_test,abc)\n",
        "#df_cm = pd.DataFrame(cm)\n",
        "class_names = ['neutral','calm', 'happy','sad','angry', 'fearful' ]\n",
        "df_cm = pd.DataFrame(cm, index=class_names, columns=class_names,)\n",
        "sn.heatmap(df_cm, annot=True, fmt='')\n",
        "plt.show()"
      ],
      "metadata": {
        "id": "Yx8ogGOnNneV",
        "colab": {
          "base_uri": "https://localhost:8080/",
          "height": 512
        },
        "outputId": "f250c5f5-6fa5-4015-a0c4-95df09d4311d"
      },
      "execution_count": null,
      "outputs": [
        {
          "output_type": "stream",
          "name": "stdout",
          "text": [
            "              precision    recall  f1-score   support\n",
            "\n",
            "           0       0.85      0.81      0.83        27\n",
            "           1       0.83      0.85      0.84        34\n",
            "           2       0.78      0.80      0.79        35\n",
            "           3       0.71      0.64      0.68        39\n",
            "           4       0.91      0.91      0.91        33\n",
            "           5       0.69      0.74      0.72        39\n",
            "\n",
            "    accuracy                           0.79       207\n",
            "   macro avg       0.79      0.79      0.79       207\n",
            "weighted avg       0.79      0.79      0.79       207\n",
            "\n",
            "----accuracy score 78.74396135265701 ----\n"
          ]
        },
        {
          "output_type": "display_data",
          "data": {
            "image/png": "[encoded data removed]",
            "text/plain": [
              "<Figure size 432x288 with 2 Axes>"
            ]
          },
          "metadata": {
            "needs_background": "light"
          }
        }
      ]
    },
    {
      "cell_type": "code",
      "source": [
        ""
      ],
      "metadata": {
        "id": "fJDTGH_OUX0z"
      },
      "execution_count": null,
      "outputs": []
    }
  ]
}