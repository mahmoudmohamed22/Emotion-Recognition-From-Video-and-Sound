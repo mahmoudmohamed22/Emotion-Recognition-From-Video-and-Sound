{
  "cells": [
    {
      "cell_type": "code",
      "execution_count": 1,
      "metadata": {
        "colab": {
          "base_uri": "https://localhost:8080/"
        },
        "id": "Ov-QDEMOtb8r",
        "outputId": "8e55b562-298b-4849-b366-c5361c98bae5"
      },
      "outputs": [
        {
          "output_type": "stream",
          "name": "stdout",
          "text": [
            "Mounted at /content/drive\n"
          ]
        }
      ],
      "source": [
        "from google.colab import drive\n",
        "drive.mount('/content/drive')"
      ]
    },
    {
      "cell_type": "code",
      "execution_count": 2,
      "metadata": {
        "colab": {
          "base_uri": "https://localhost:8080/",
          "height": 17
        },
        "id": "NgJohC6sdr-S",
        "outputId": "14078a39-b218-46e4-8d2b-545adf8bd6d5"
      },
      "outputs": [
        {
          "output_type": "display_data",
          "data": {
            "text/html": [
              "        <script type=\"text/javascript\">\n",
              "        window.PlotlyConfig = {MathJaxConfig: 'local'};\n",
              "        if (window.MathJax) {MathJax.Hub.Config({SVG: {font: \"STIX-Web\"}});}\n",
              "        if (typeof require !== 'undefined') {\n",
              "        require.undef(\"plotly\");\n",
              "        requirejs.config({\n",
              "            paths: {\n",
              "                'plotly': ['https://cdn.plot.ly/plotly-2.8.3.min']\n",
              "            }\n",
              "        });\n",
              "        require(['plotly'], function(Plotly) {\n",
              "            window._Plotly = Plotly;\n",
              "        });\n",
              "        }\n",
              "        </script>\n",
              "        "
            ]
          },
          "metadata": {}
        }
      ],
      "source": [
        "# Orignial Notebook: https://github.com/MITESHPUTHRANNEU/Speech-Emotion-Analyzer/blob/master/final_results_gender_test.ipynb\n",
        "# This notebook author: Reza Chu\n",
        "# Last Editing Date: 31st May 2019\n",
        "\n",
        "## Python\n",
        "import os\n",
        "import random\n",
        "import sys\n",
        "\n",
        "import IPython\n",
        "from IPython.display import Audio\n",
        "from IPython.display import Image\n",
        "import matplotlib.pyplot as plt\n",
        "\n",
        "## Package\n",
        "import glob \n",
        "import keras\n",
        "import IPython.display as ipd\n",
        "import librosa\n",
        "import librosa.display\n",
        "import matplotlib.pyplot as plt\n",
        "import numpy as np\n",
        "import pandas as pd\n",
        "import plotly.graph_objs as go\n",
        "import plotly.offline as py\n",
        "import plotly.tools as tls\n",
        "import seaborn as sns\n",
        "import scipy.io.wavfile\n",
        "import tensorflow as tf\n",
        "py.init_notebook_mode(connected=True)\n",
        "\n",
        "## Keras\n",
        "from keras import regularizers\n",
        "from keras.callbacks import ModelCheckpoint, LearningRateScheduler, EarlyStopping\n",
        "from keras.callbacks import  History, ReduceLROnPlateau, CSVLogger\n",
        "from keras.models import Model, Sequential\n",
        "from keras.layers import Dense, Embedding, LSTM\n",
        "from keras.layers import Input, Flatten, Dropout, Activation, BatchNormalization\n",
        "from keras.layers import Conv1D, MaxPooling1D, AveragePooling1D\n",
        "from keras.preprocessing import sequence\n",
        "from keras.preprocessing.sequence import pad_sequences\n",
        "from keras.preprocessing.text import Tokenizer\n",
        "from keras.utils import np_utils\n",
        "from tensorflow.keras.utils import to_categorical\n",
        "\n",
        "## Sklearn\n",
        "from sklearn.metrics import confusion_matrix\n",
        "from sklearn.preprocessing import LabelEncoder\n",
        "\n",
        "## Rest\n",
        "from scipy.fftpack import fft\n",
        "from scipy import signal\n",
        "from scipy.io import wavfile\n",
        "from tqdm import tqdm\n",
        "\n",
        "input_duration=3\n",
        "# % pylab inline"
      ]
    },
    {
      "cell_type": "code",
      "source": [
        "#only SAVEE data set\n",
        "import time\n",
        "import os\n",
        "import librosa\n",
        "from librosa import display\n",
        "import matplotlib.pyplot as plt\n",
        "#sad/sa2dc.avi\n",
        "labels = []\n",
        "video_name=[]\n",
        "audio_name=[]\n",
        "features=[]\n",
        "count=0\n",
        "start_time = time.time()\n",
        "CLASSES_LIST=['KL','JK ','JE','DC']\n",
        "DATASET_DIR = '/content/drive/My Drive/SAVEE'\n",
        "emotion_LIST = [\"neutral\", \"happy\", \"sad\",\"angry\",\"fearful\"]\n",
        "for class_index, class_name in enumerate(CLASSES_LIST):\n",
        "#for subdir, dirs, files in os.walk(path):\n",
        "  print(class_name)\n",
        "  #dir=subdir.split('/')[4]\n",
        "  #print(dir)\n",
        "  \n",
        "  files= os.listdir(os.path.join(DATASET_DIR, class_name))\n",
        "  for file in files:\n",
        "      try:\n",
        "        print(file)\n",
        "        #Load librosa array, obtain mfcss, store the file and the mcss information in a new array\n",
        "        X, sample_rate = librosa.load(DATASET_DIR+'/'+class_name+'/'+file, res_type='kaiser_fast')\n",
        "        mfccs = np.mean(librosa.feature.mfcc(y=X, sr=sample_rate, n_mfcc=40).T,axis=0) \n",
        "        count +=1\n",
        "        # The instruction below converts the labels (from 1 to 8) to a series from 0 to 7\n",
        "        # This is because our predictor needs to start from 0 otherwise it will try to predict also 0.\n",
        "        #file = int(file[7:8]) - 1 \n",
        "        #0 = neutral, 1 = happy, 2 = sad, 3 = angry, 4 = fearful, 6 = disgust, 7 = surprised\n",
        "        if file.startswith('a'):\n",
        "            emotion=3\n",
        "            c='a'\n",
        "    \n",
        "        elif file.startswith('f'):\n",
        "            emotion=4\n",
        "            c='f'\n",
        "        elif file.startswith('h'):\n",
        "            emotion=1\n",
        "            c='h'\n",
        "        elif file.startswith('n'):\n",
        "            emotion=0\n",
        "            c='n'\n",
        "        elif file.startswith('sa'):\n",
        "            emotion=2\n",
        "            c='sa'\n",
        "       \n",
        "        else:\n",
        "            continue\n",
        "        my_class_name=class_name\n",
        "        my_class_name=my_class_name.replace(\" \", \"\")\n",
        "        num=file.split('.')[0]\n",
        "        #print(num)\n",
        "        if(c=='sa'):\n",
        "          num=num[2:]\n",
        "        else:\n",
        "          num=num[1:]\n",
        "        num=int(num)\n",
        "        num=str(num)\n",
        "        #print(num)\n",
        "       \n",
        "        v=emotion_LIST[emotion]+'/'+c+num+my_class_name.lower()+'.avi'\n",
        "        video_name.append(v)\n",
        "        a=class_name+'/'+file\n",
        "\n",
        "        audio_name.append(a)\n",
        "        labels.append(emotion)\n",
        "        \n",
        "        features.append(mfccs)\n",
        "      # If the file is not valid, skip it\n",
        "      except ValueError:\n",
        "        continue\n",
        "\n",
        "print(\"--- Data loaded. Loading time: %s seconds ---\" % (time.time() - start_time))"
      ],
      "metadata": {
        "colab": {
          "base_uri": "https://localhost:8080/"
        },
        "id": "5Jb9K9BxckxP",
        "outputId": "9ee3b89b-ac19-40e1-d3d5-580ef91e7802"
      },
      "execution_count": 3,
      "outputs": [
        {
          "output_type": "stream",
          "name": "stdout",
          "text": [
            "KL\n",
            "a01.wav\n",
            "a02.wav\n",
            "a03.wav\n",
            "a04.wav\n",
            "a05.wav\n",
            "a07.wav\n",
            "a10.wav\n",
            "a09.wav\n",
            "a08.wav\n",
            "a06.wav\n",
            "a15.wav\n",
            "a14.wav\n",
            "a13.wav\n",
            "a12.wav\n",
            "a11.wav\n",
            "d05.wav\n",
            "d04.wav\n",
            "d03.wav\n",
            "d02.wav\n",
            "d01.wav\n",
            "d10.wav\n",
            "d09.wav\n",
            "d08.wav\n",
            "d07.wav\n",
            "d06.wav\n",
            "d15.wav\n",
            "d14.wav\n",
            "d13.wav\n",
            "d12.wav\n",
            "d11.wav\n",
            "f05.wav\n",
            "f04.wav\n",
            "f03.wav\n",
            "f02.wav\n",
            "f01.wav\n",
            "f10.wav\n",
            "f09.wav\n",
            "f08.wav\n",
            "f07.wav\n",
            "f06.wav\n",
            "f15.wav\n",
            "f14.wav\n",
            "f13.wav\n",
            "f12.wav\n",
            "f11.wav\n",
            "h05.wav\n",
            "h04.wav\n",
            "h03.wav\n",
            "h02.wav\n",
            "h01.wav\n",
            "h10.wav\n",
            "h09.wav\n",
            "h08.wav\n",
            "h07.wav\n",
            "h06.wav\n",
            "h15.wav\n",
            "h14.wav\n",
            "h13.wav\n",
            "h12.wav\n",
            "h11.wav\n",
            "sa05.wav\n",
            "sa04.wav\n",
            "sa03.wav\n",
            "sa02.wav\n",
            "sa01.wav\n",
            "sa10.wav\n",
            "sa09.wav\n",
            "sa08.wav\n",
            "sa07.wav\n",
            "sa06.wav\n",
            "sa11.wav\n",
            "sa14.wav\n",
            "sa13.wav\n",
            "sa12.wav\n",
            "sa15.wav\n",
            "su05.wav\n",
            "su03.wav\n",
            "su02.wav\n",
            "su01.wav\n",
            "su10.wav\n",
            "su09.wav\n",
            "su08.wav\n",
            "su07.wav\n",
            "su06.wav\n",
            "su15.wav\n",
            "su14.wav\n",
            "su13.wav\n",
            "su12.wav\n",
            "su11.wav\n",
            "su04.wav\n",
            "n01.wav\n",
            "n05.wav\n",
            "n04.wav\n",
            "n03.wav\n",
            "n02.wav\n",
            "n10.wav\n",
            "n09.wav\n",
            "n08.wav\n",
            "n07.wav\n",
            "n06.wav\n",
            "n20.wav\n",
            "n19.wav\n",
            "n18.wav\n",
            "n17.wav\n",
            "n16.wav\n",
            "n25.wav\n",
            "n24.wav\n",
            "n23.wav\n",
            "n22.wav\n",
            "n21.wav\n",
            "n30.wav\n",
            "n29.wav\n",
            "n28.wav\n",
            "n27.wav\n",
            "n26.wav\n",
            "n15.wav\n",
            "n14.wav\n",
            "n13.wav\n",
            "n12.wav\n",
            "n11.wav\n",
            "JK \n",
            "a01.wav\n",
            "a02.wav\n",
            "a03.wav\n",
            "a04.wav\n",
            "a05.wav\n",
            "a06.wav\n",
            "a07.wav\n",
            "a08.wav\n",
            "a09.wav\n",
            "a10.wav\n",
            "a11.wav\n",
            "a12.wav\n",
            "a13.wav\n",
            "a14.wav\n",
            "a15.wav\n",
            "d01.wav\n",
            "d02.wav\n",
            "d03.wav\n",
            "d04.wav\n",
            "d06.wav\n",
            "d07.wav\n",
            "d08.wav\n",
            "d09.wav\n",
            "d11.wav\n",
            "d12.wav\n",
            "d13.wav\n",
            "d14.wav\n",
            "d15.wav\n",
            "d05.wav\n",
            "d10.wav\n",
            "f01.wav\n",
            "f02.wav\n",
            "f03.wav\n",
            "f04.wav\n",
            "f05.wav\n",
            "f06.wav\n",
            "f07.wav\n",
            "f08.wav\n",
            "f10.wav\n",
            "f11.wav\n",
            "f12.wav\n",
            "f13.wav\n",
            "f14.wav\n",
            "f15.wav\n",
            "f09.wav\n",
            "h01.wav\n",
            "h02.wav\n",
            "h03.wav\n",
            "h04.wav\n",
            "h05.wav\n",
            "h06.wav\n",
            "h07.wav\n",
            "h08.wav\n",
            "h09.wav\n",
            "h10.wav\n",
            "h11.wav\n",
            "h12.wav\n",
            "h13.wav\n",
            "h14.wav\n",
            "h15.wav\n",
            "n01.wav\n",
            "n02.wav\n",
            "n03.wav\n",
            "n04.wav\n",
            "n05.wav\n",
            "n06.wav\n",
            "n07.wav\n",
            "n08.wav\n",
            "n09.wav\n",
            "n10.wav\n",
            "n11.wav\n",
            "n12.wav\n",
            "n13.wav\n",
            "n14.wav\n",
            "n15.wav\n",
            "n20.wav\n",
            "n19.wav\n",
            "n18.wav\n",
            "n17.wav\n",
            "n16.wav\n",
            "n25.wav\n",
            "n23.wav\n",
            "n22.wav\n",
            "n21.wav\n",
            "n26.wav\n",
            "n30.wav\n",
            "n29.wav\n",
            "n28.wav\n",
            "n27.wav\n",
            "sa05.wav\n",
            "sa04.wav\n",
            "sa03.wav\n",
            "sa02.wav\n",
            "sa01.wav\n",
            "sa10.wav\n",
            "sa09.wav\n",
            "sa08.wav\n",
            "sa07.wav\n",
            "sa06.wav\n",
            "sa15.wav\n",
            "sa14.wav\n",
            "sa13.wav\n",
            "sa12.wav\n",
            "sa11.wav\n",
            "su05.wav\n",
            "su04.wav\n",
            "su15.wav\n",
            "su14.wav\n",
            "su13.wav\n",
            "su12.wav\n",
            "su11.wav\n",
            "su10.wav\n",
            "su09.wav\n",
            "su08.wav\n",
            "su07.wav\n",
            "su06.wav\n",
            "su03.wav\n",
            "su02.wav\n",
            "su01.wav\n",
            "n24.wav\n",
            "JE\n",
            "a01.wav\n",
            "a02.wav\n",
            "a03.wav\n",
            "a04.wav\n",
            "a05.wav\n",
            "a07.wav\n",
            "a06.wav\n",
            "a08.wav\n",
            "a09.wav\n",
            "a10.wav\n",
            "a11.wav\n",
            "a12.wav\n",
            "a13.wav\n",
            "a14.wav\n",
            "a15.wav\n",
            "d05.wav\n",
            "d04.wav\n",
            "d03.wav\n",
            "d02.wav\n",
            "d01.wav\n",
            "d09.wav\n",
            "d08.wav\n",
            "d07.wav\n",
            "d06.wav\n",
            "d10.wav\n",
            "d15.wav\n",
            "d14.wav\n",
            "d13.wav\n",
            "d12.wav\n",
            "d11.wav\n",
            "f05.wav\n",
            "f04.wav\n",
            "f03.wav\n",
            "f02.wav\n",
            "f01.wav\n",
            "f10.wav\n",
            "f09.wav\n",
            "f08.wav\n",
            "f07.wav\n",
            "f06.wav\n",
            "f14.wav\n",
            "f13.wav\n",
            "f12.wav\n",
            "f11.wav\n",
            "f15.wav\n",
            "h05.wav\n",
            "h04.wav\n",
            "h03.wav\n",
            "h02.wav\n",
            "h01.wav\n",
            "h10.wav\n",
            "h09.wav\n",
            "h08.wav\n",
            "h07.wav\n",
            "h06.wav\n",
            "h14.wav\n",
            "h13.wav\n",
            "h12.wav\n",
            "h11.wav\n",
            "h15.wav\n",
            "n18.wav\n",
            "n17.wav\n",
            "n16.wav\n",
            "n05.wav\n",
            "n04.wav\n",
            "n03.wav\n",
            "n02.wav\n",
            "n01.wav\n",
            "n10.wav\n",
            "n09.wav\n",
            "n08.wav\n",
            "n07.wav\n",
            "n06.wav\n",
            "n15.wav\n",
            "n14.wav\n",
            "n13.wav\n",
            "n12.wav\n",
            "n11.wav\n",
            "n20.wav\n",
            "n19.wav\n",
            "n25.wav\n",
            "n24.wav\n",
            "n23.wav\n",
            "n22.wav\n",
            "n21.wav\n",
            "n30.wav\n",
            "n29.wav\n",
            "n28.wav\n",
            "n27.wav\n",
            "n26.wav\n",
            "sa04.wav\n",
            "sa03.wav\n",
            "sa02.wav\n",
            "sa01.wav\n",
            "sa13.wav\n",
            "sa12.wav\n",
            "sa11.wav\n",
            "sa05.wav\n",
            "sa10.wav\n",
            "sa09.wav\n",
            "sa08.wav\n",
            "sa07.wav\n",
            "sa06.wav\n",
            "sa15.wav\n",
            "sa14.wav\n",
            "su05.wav\n",
            "su04.wav\n",
            "su03.wav\n",
            "su02.wav\n",
            "su01.wav\n",
            "su10.wav\n",
            "su09.wav\n",
            "su08.wav\n",
            "su07.wav\n",
            "su06.wav\n",
            "su13.wav\n",
            "su12.wav\n",
            "su11.wav\n",
            "su15.wav\n",
            "su14.wav\n",
            "DC\n",
            "a15.wav\n",
            "a14.wav\n",
            "a05.wav\n",
            "a04.wav\n",
            "a03.wav\n",
            "a02.wav\n",
            "a01.wav\n",
            "a06.wav\n",
            "a07.wav\n",
            "a08.wav\n",
            "a09.wav\n",
            "a10.wav\n",
            "a13.wav\n",
            "a12.wav\n",
            "a11.wav\n",
            "d01.wav\n",
            "d02.wav\n",
            "d03.wav\n",
            "d04.wav\n",
            "d05.wav\n",
            "d10.wav\n",
            "d09.wav\n",
            "d08.wav\n",
            "d07.wav\n",
            "d06.wav\n",
            "d15.wav\n",
            "d14.wav\n",
            "d13.wav\n",
            "d12.wav\n",
            "d11.wav\n",
            "f01.wav\n",
            "f02.wav\n",
            "f03.wav\n",
            "f04.wav\n",
            "f05.wav\n",
            "f10.wav\n",
            "f09.wav\n",
            "f08.wav\n",
            "f07.wav\n",
            "f06.wav\n",
            "f15.wav\n",
            "f14.wav\n",
            "f13.wav\n",
            "f12.wav\n",
            "f11.wav\n",
            "h01.wav\n",
            "h02.wav\n",
            "h03.wav\n",
            "h04.wav\n",
            "h05.wav\n",
            "h10.wav\n",
            "h09.wav\n",
            "h08.wav\n",
            "h07.wav\n",
            "h06.wav\n",
            "h11.wav\n",
            "h12.wav\n",
            "h13.wav\n",
            "h14.wav\n",
            "h15.wav\n",
            "n05.wav\n",
            "n04.wav\n",
            "n03.wav\n",
            "n02.wav\n",
            "n01.wav\n",
            "n06.wav\n",
            "n07.wav\n",
            "n08.wav\n",
            "n09.wav\n",
            "n10.wav\n",
            "n11.wav\n",
            "n12.wav\n",
            "n13.wav\n",
            "n14.wav\n",
            "n15.wav\n",
            "n20.wav\n",
            "n19.wav\n",
            "n18.wav\n",
            "n17.wav\n",
            "n16.wav\n",
            "n21.wav\n",
            "n22.wav\n",
            "n23.wav\n",
            "n24.wav\n",
            "n25.wav\n",
            "n26.wav\n",
            "n27.wav\n",
            "n28.wav\n",
            "n29.wav\n",
            "n30.wav\n",
            "sa01.wav\n",
            "sa02.wav\n",
            "sa03.wav\n",
            "sa04.wav\n",
            "sa09.wav\n",
            "sa08.wav\n",
            "sa07.wav\n",
            "sa06.wav\n",
            "sa11.wav\n",
            "sa12.wav\n",
            "sa13.wav\n",
            "sa14.wav\n",
            "sa15.wav\n",
            "sa05.wav\n",
            "sa10.wav\n",
            "su01.wav\n",
            "su02.wav\n",
            "su03.wav\n",
            "su04.wav\n",
            "su05.wav\n",
            "su06.wav\n",
            "su07.wav\n",
            "su08.wav\n",
            "su09.wav\n",
            "su11.wav\n",
            "su12.wav\n",
            "su13.wav\n",
            "su14.wav\n",
            "su15.wav\n",
            "su10.wav\n",
            "--- Data loaded. Loading time: 66.913015127182 seconds ---\n"
          ]
        }
      ]
    },
    {
      "cell_type": "code",
      "source": [
        "seed_constant = 27\n"
      ],
      "metadata": {
        "id": "HiImqX3dnmC9"
      },
      "execution_count": 4,
      "outputs": []
    },
    {
      "cell_type": "code",
      "source": [
        "from sklearn.model_selection import train_test_split\n",
        "# Split the Data into Train ( 80% ) and Test Set ( 20% ).\n",
        "x_train, x_test, y_train, y_test,video_train_path,video_test_path,audio_train_path,audio_test_path = train_test_split(features, labels,video_name,audio_name,\n",
        "                                                                            test_size = 0.10, shuffle = True,\n",
        "                                                                            random_state = seed_constant)"
      ],
      "metadata": {
        "id": "0r4CRQcJmxP2"
      },
      "execution_count": 5,
      "outputs": []
    },
    {
      "cell_type": "code",
      "source": [
        "\n",
        "# Split train the Data into Train ( 80% ) and valid Set ( 20% ).\n",
        "x_train, x_valid, y_train, y_valid,video_train_path,video_valid_path,audio_train_path,audio_valid_path = train_test_split(x_train, y_train,video_train_path,audio_train_path,\n",
        "                                                                            test_size = 0.11, shuffle = True,\n",
        "                                                                            random_state = seed_constant)"
      ],
      "metadata": {
        "id": "607iO6YunQ1g"
      },
      "execution_count": 6,
      "outputs": []
    },
    {
      "cell_type": "code",
      "source": [
        "#288,36,36\n",
        "len(x_train),len(x_valid),len(x_test),len(y_train),len(y_valid),len(y_test),len(video_train_path),len(video_valid_path),len(video_test_path),len(audio_train_path),len(audio_valid_path),len(audio_test_path)"
      ],
      "metadata": {
        "colab": {
          "base_uri": "https://localhost:8080/"
        },
        "id": "pTU9Ip0Hn32p",
        "outputId": "71bcb451-20d2-47f3-b0aa-f42af3f6e9bc"
      },
      "execution_count": 7,
      "outputs": [
        {
          "output_type": "execute_result",
          "data": {
            "text/plain": [
              "(288, 36, 36, 288, 36, 36, 288, 36, 36, 288, 36, 36)"
            ]
          },
          "metadata": {},
          "execution_count": 7
        }
      ]
    },
    {
      "cell_type": "code",
      "source": [
        "import joblib\n",
        "\n",
        "save_dir = '/content/drive/My Drive/fusion/savee/audio/data_set/expert5'\n",
        "\n",
        "savedvX = joblib.dump(y_train, os.path.join(save_dir, 'train/labels_train'))\n",
        "savedvX = joblib.dump(y_test, os.path.join(save_dir, 'test/labels_test'))\n",
        "savedvX = joblib.dump(y_valid, os.path.join(save_dir, 'valid/labels_valid'))\n",
        "savedvX = joblib.dump(video_train_path, os.path.join(save_dir, 'train/video_train_path'))\n",
        "savedvX = joblib.dump(video_test_path, os.path.join(save_dir, 'test/video_test_path'))\n",
        "savedvX = joblib.dump(video_valid_path, os.path.join(save_dir, 'valid/video_valid_path'))\n",
        "savedvX = joblib.dump(audio_train_path, os.path.join(save_dir, 'train/audio_train_path'))\n",
        "savedvX = joblib.dump(audio_test_path, os.path.join(save_dir, 'test/audio_test_path'))\n",
        "savedvX = joblib.dump(audio_valid_path, os.path.join(save_dir, 'valid/audio_valid_path'))"
      ],
      "metadata": {
        "id": "HRotP7k-pZDj"
      },
      "execution_count": 8,
      "outputs": []
    },
    {
      "cell_type": "code",
      "execution_count": 9,
      "metadata": {
        "colab": {
          "base_uri": "https://localhost:8080/"
        },
        "id": "kJkN-K17gSvD",
        "outputId": "069c255e-9445-4275-da88-ab0615375028"
      },
      "outputs": [
        {
          "output_type": "execute_result",
          "data": {
            "text/plain": [
              "((36, 40), (36, 40), (288, 40), (36,), (36,), (288,))"
            ]
          },
          "metadata": {},
          "execution_count": 9
        }
      ],
      "source": [
        "x_valid=np.asarray(x_valid)\n",
        "x_test=np.asarray(x_test)\n",
        "x_train=np.asarray(x_train)\n",
        "y_train=np.asarray(y_train)\n",
        "y_test=np.asarray(y_test)\n",
        "y_valid=np.asarray(y_valid)\n",
        "x_valid.shape,x_test.shape,x_train.shape,y_valid.shape,y_test.shape,y_train.shape"
      ]
    },
    {
      "cell_type": "code",
      "execution_count": 10,
      "metadata": {
        "colab": {
          "base_uri": "https://localhost:8080/"
        },
        "id": "zlvfnkyLkxWx",
        "outputId": "74299596-a8bc-4b66-8c05-fc4b0b5b6c6e"
      },
      "outputs": [
        {
          "output_type": "stream",
          "name": "stderr",
          "text": [
            "/usr/local/lib/python3.7/dist-packages/keras/optimizer_v2/adam.py:105: UserWarning:\n",
            "\n",
            "The `lr` argument is deprecated, use `learning_rate` instead.\n",
            "\n"
          ]
        }
      ],
      "source": [
        "import keras\n",
        "import numpy as np\n",
        "import matplotlib.pyplot as plt\n",
        "import tensorflow as tf\n",
        "from keras.preprocessing import sequence\n",
        "from keras.models import Sequential\n",
        "from keras.layers import Dense, Embedding\n",
        "from tensorflow.keras.utils import to_categorical\n",
        "from keras.layers import Input, Flatten, Dropout, Activation\n",
        "from keras.layers import Conv1D, MaxPooling1D\n",
        "from keras.models import Model\n",
        "from keras.callbacks import ModelCheckpoint\n",
        "from tensorflow.keras import optimizers\n",
        "from keras.models import InputLayer\n",
        "\n",
        "model = Sequential(InputLayer((40,1)))\n",
        "model.add(BatchNormalization())\n",
        "\n",
        "model.add(Conv1D(128, 12,padding='same', ))\n",
        "model.add(BatchNormalization())\n",
        "model.add(Activation('relu'))\n",
        "model.add(Dropout(0.1))\n",
        "model.add(MaxPooling1D(pool_size=(5)))\n",
        "\n",
        "\n",
        "model.add(Conv1D(256,12,padding='same',))\n",
        "model.add(BatchNormalization())\n",
        "model.add(Activation('relu'))\n",
        "model.add(Dropout(0.3))\n",
        "model.add(MaxPooling1D(pool_size=(5)))\n",
        "\n",
        "model.add(Flatten())\n",
        "model.add(Dense(5))\n",
        "model.add(Activation('softmax'))\n",
        "opt = tf.keras.optimizers.Adam(lr=0.0002)"
      ]
    },
    {
      "cell_type": "code",
      "execution_count": 11,
      "metadata": {
        "colab": {
          "base_uri": "https://localhost:8080/"
        },
        "id": "1-Xsvw44kzg1",
        "outputId": "12430947-66a4-499f-f25a-0031b1ca7c61"
      },
      "outputs": [
        {
          "output_type": "stream",
          "name": "stdout",
          "text": [
            "Model: \"sequential\"\n",
            "_________________________________________________________________\n",
            " Layer (type)                Output Shape              Param #   \n",
            "=================================================================\n",
            " batch_normalization (BatchN  (None, 40, 1)            4         \n",
            " ormalization)                                                   \n",
            "                                                                 \n",
            " conv1d (Conv1D)             (None, 40, 128)           1664      \n",
            "                                                                 \n",
            " batch_normalization_1 (Batc  (None, 40, 128)          512       \n",
            " hNormalization)                                                 \n",
            "                                                                 \n",
            " activation (Activation)     (None, 40, 128)           0         \n",
            "                                                                 \n",
            " dropout (Dropout)           (None, 40, 128)           0         \n",
            "                                                                 \n",
            " max_pooling1d (MaxPooling1D  (None, 8, 128)           0         \n",
            " )                                                               \n",
            "                                                                 \n",
            " conv1d_1 (Conv1D)           (None, 8, 256)            393472    \n",
            "                                                                 \n",
            " batch_normalization_2 (Batc  (None, 8, 256)           1024      \n",
            " hNormalization)                                                 \n",
            "                                                                 \n",
            " activation_1 (Activation)   (None, 8, 256)            0         \n",
            "                                                                 \n",
            " dropout_1 (Dropout)         (None, 8, 256)            0         \n",
            "                                                                 \n",
            " max_pooling1d_1 (MaxPooling  (None, 1, 256)           0         \n",
            " 1D)                                                             \n",
            "                                                                 \n",
            " flatten (Flatten)           (None, 256)               0         \n",
            "                                                                 \n",
            " dense (Dense)               (None, 5)                 1285      \n",
            "                                                                 \n",
            " activation_2 (Activation)   (None, 5)                 0         \n",
            "                                                                 \n",
            "=================================================================\n",
            "Total params: 397,961\n",
            "Trainable params: 397,191\n",
            "Non-trainable params: 770\n",
            "_________________________________________________________________\n"
          ]
        }
      ],
      "source": [
        "model.summary()"
      ]
    },
    {
      "cell_type": "code",
      "source": [
        "x_traincnn = np.expand_dims(x_train, axis=2)\n",
        "x_testcnn = np.expand_dims(x_test, axis=2)\n",
        "x_valid= np.expand_dims(x_valid, axis=2)\n",
        "x_traincnn.shape, x_testcnn.shape , x_valid.shape"
      ],
      "metadata": {
        "colab": {
          "base_uri": "https://localhost:8080/"
        },
        "id": "stkRAksEouLD",
        "outputId": "5af7e848-4aae-4e9e-8f1f-66151f72d8ea"
      },
      "execution_count": 12,
      "outputs": [
        {
          "output_type": "execute_result",
          "data": {
            "text/plain": [
              "((288, 40, 1), (36, 40, 1), (36, 40, 1))"
            ]
          },
          "metadata": {},
          "execution_count": 12
        }
      ]
    },
    {
      "cell_type": "code",
      "execution_count": 13,
      "metadata": {
        "id": "Xt2o-rzF0wyE",
        "colab": {
          "base_uri": "https://localhost:8080/"
        },
        "outputId": "ab9e8591-9422-4946-e55d-cbf901bd4425"
      },
      "outputs": [
        {
          "output_type": "stream",
          "name": "stdout",
          "text": [
            "Epoch 1/500\n",
            "18/18 [==============================] - 12s 20ms/step - loss: 2.2045 - accuracy: 0.2743 - val_loss: 1.5124 - val_accuracy: 0.3889\n",
            "Epoch 2/500\n",
            "18/18 [==============================] - 0s 5ms/step - loss: 1.5631 - accuracy: 0.4340 - val_loss: 1.5289 - val_accuracy: 0.5556\n",
            "Epoch 3/500\n",
            "18/18 [==============================] - 0s 5ms/step - loss: 1.4184 - accuracy: 0.4479 - val_loss: 1.5648 - val_accuracy: 0.1667\n",
            "Epoch 4/500\n",
            "18/18 [==============================] - 0s 4ms/step - loss: 1.3348 - accuracy: 0.4896 - val_loss: 1.7180 - val_accuracy: 0.1389\n",
            "Epoch 5/500\n",
            "18/18 [==============================] - 0s 4ms/step - loss: 1.2241 - accuracy: 0.5660 - val_loss: 1.7772 - val_accuracy: 0.1389\n",
            "Epoch 6/500\n",
            "18/18 [==============================] - 0s 5ms/step - loss: 1.1400 - accuracy: 0.5764 - val_loss: 1.7769 - val_accuracy: 0.1389\n",
            "Epoch 7/500\n",
            "18/18 [==============================] - 0s 5ms/step - loss: 1.1685 - accuracy: 0.5833 - val_loss: 1.8637 - val_accuracy: 0.1389\n",
            "Epoch 8/500\n",
            "18/18 [==============================] - 0s 5ms/step - loss: 1.1342 - accuracy: 0.5729 - val_loss: 1.9875 - val_accuracy: 0.1389\n",
            "Epoch 9/500\n",
            "18/18 [==============================] - 0s 5ms/step - loss: 1.0301 - accuracy: 0.5833 - val_loss: 1.9568 - val_accuracy: 0.1389\n",
            "Epoch 10/500\n",
            "18/18 [==============================] - 0s 5ms/step - loss: 1.0213 - accuracy: 0.6146 - val_loss: 2.2175 - val_accuracy: 0.1389\n",
            "Epoch 11/500\n",
            "18/18 [==============================] - 0s 5ms/step - loss: 0.9800 - accuracy: 0.6285 - val_loss: 2.1782 - val_accuracy: 0.1389\n",
            "Epoch 12/500\n",
            "18/18 [==============================] - 0s 5ms/step - loss: 0.9471 - accuracy: 0.6319 - val_loss: 2.3368 - val_accuracy: 0.1389\n",
            "Epoch 13/500\n",
            "18/18 [==============================] - 0s 5ms/step - loss: 0.8959 - accuracy: 0.6458 - val_loss: 2.1893 - val_accuracy: 0.1389\n",
            "Epoch 14/500\n",
            "18/18 [==============================] - 0s 5ms/step - loss: 0.9362 - accuracy: 0.6354 - val_loss: 2.3480 - val_accuracy: 0.1389\n",
            "Epoch 15/500\n",
            "18/18 [==============================] - 0s 5ms/step - loss: 0.8124 - accuracy: 0.7118 - val_loss: 2.1295 - val_accuracy: 0.1389\n",
            "Epoch 16/500\n",
            "18/18 [==============================] - 0s 5ms/step - loss: 0.7870 - accuracy: 0.7049 - val_loss: 2.3854 - val_accuracy: 0.1389\n",
            "Epoch 17/500\n",
            "18/18 [==============================] - 0s 5ms/step - loss: 0.7625 - accuracy: 0.7153 - val_loss: 2.1835 - val_accuracy: 0.1389\n",
            "Epoch 18/500\n",
            "18/18 [==============================] - 0s 5ms/step - loss: 0.7704 - accuracy: 0.6736 - val_loss: 2.3298 - val_accuracy: 0.1389\n",
            "Epoch 19/500\n",
            "18/18 [==============================] - 0s 5ms/step - loss: 0.8229 - accuracy: 0.7118 - val_loss: 1.7708 - val_accuracy: 0.1389\n",
            "Epoch 20/500\n",
            "18/18 [==============================] - 0s 5ms/step - loss: 0.7697 - accuracy: 0.6910 - val_loss: 2.0405 - val_accuracy: 0.1389\n",
            "Epoch 21/500\n",
            "18/18 [==============================] - 0s 5ms/step - loss: 0.7633 - accuracy: 0.7153 - val_loss: 2.1044 - val_accuracy: 0.1389\n",
            "Epoch 22/500\n",
            "18/18 [==============================] - 0s 5ms/step - loss: 0.7431 - accuracy: 0.6771 - val_loss: 1.7538 - val_accuracy: 0.1389\n",
            "Epoch 23/500\n",
            "18/18 [==============================] - 0s 5ms/step - loss: 0.8922 - accuracy: 0.6771 - val_loss: 2.0132 - val_accuracy: 0.1389\n",
            "Epoch 24/500\n",
            "18/18 [==============================] - 0s 5ms/step - loss: 0.7609 - accuracy: 0.7083 - val_loss: 2.0824 - val_accuracy: 0.1389\n",
            "Epoch 25/500\n",
            "18/18 [==============================] - 0s 5ms/step - loss: 0.7414 - accuracy: 0.7014 - val_loss: 1.4079 - val_accuracy: 0.3889\n",
            "Epoch 26/500\n",
            "18/18 [==============================] - 0s 5ms/step - loss: 0.7650 - accuracy: 0.7326 - val_loss: 1.2137 - val_accuracy: 0.4167\n",
            "Epoch 27/500\n",
            "18/18 [==============================] - 0s 5ms/step - loss: 0.7526 - accuracy: 0.6944 - val_loss: 1.2277 - val_accuracy: 0.4722\n",
            "Epoch 28/500\n",
            "18/18 [==============================] - 0s 5ms/step - loss: 0.7288 - accuracy: 0.6944 - val_loss: 1.0906 - val_accuracy: 0.4722\n",
            "Epoch 29/500\n",
            "18/18 [==============================] - 0s 5ms/step - loss: 0.6558 - accuracy: 0.7014 - val_loss: 0.8491 - val_accuracy: 0.6667\n",
            "Epoch 30/500\n",
            "18/18 [==============================] - 0s 5ms/step - loss: 0.6483 - accuracy: 0.7361 - val_loss: 0.8525 - val_accuracy: 0.6944\n",
            "Epoch 31/500\n",
            "18/18 [==============================] - 0s 5ms/step - loss: 0.6022 - accuracy: 0.7778 - val_loss: 0.8156 - val_accuracy: 0.6389\n",
            "Epoch 32/500\n",
            "18/18 [==============================] - 0s 5ms/step - loss: 0.6411 - accuracy: 0.7465 - val_loss: 0.6765 - val_accuracy: 0.7222\n",
            "Epoch 33/500\n",
            "18/18 [==============================] - 0s 5ms/step - loss: 0.6170 - accuracy: 0.7535 - val_loss: 0.8174 - val_accuracy: 0.6111\n",
            "Epoch 34/500\n",
            "18/18 [==============================] - 0s 5ms/step - loss: 0.6179 - accuracy: 0.7326 - val_loss: 0.6348 - val_accuracy: 0.7222\n",
            "Epoch 35/500\n",
            "18/18 [==============================] - 0s 5ms/step - loss: 0.6111 - accuracy: 0.7500 - val_loss: 0.7220 - val_accuracy: 0.7500\n",
            "Epoch 36/500\n",
            "18/18 [==============================] - 0s 5ms/step - loss: 0.6295 - accuracy: 0.7257 - val_loss: 0.6080 - val_accuracy: 0.8056\n",
            "Epoch 37/500\n",
            "18/18 [==============================] - 0s 5ms/step - loss: 0.6172 - accuracy: 0.7500 - val_loss: 0.6938 - val_accuracy: 0.6389\n",
            "Epoch 38/500\n",
            "18/18 [==============================] - 0s 5ms/step - loss: 0.6136 - accuracy: 0.7639 - val_loss: 0.6519 - val_accuracy: 0.7778\n",
            "Epoch 39/500\n",
            "18/18 [==============================] - 0s 5ms/step - loss: 0.6275 - accuracy: 0.7569 - val_loss: 0.5771 - val_accuracy: 0.7500\n",
            "Epoch 40/500\n",
            "18/18 [==============================] - 0s 5ms/step - loss: 0.6855 - accuracy: 0.7465 - val_loss: 0.6706 - val_accuracy: 0.7222\n",
            "Epoch 41/500\n",
            "18/18 [==============================] - 0s 5ms/step - loss: 0.6544 - accuracy: 0.7500 - val_loss: 0.5542 - val_accuracy: 0.7778\n",
            "Epoch 42/500\n",
            "18/18 [==============================] - 0s 5ms/step - loss: 0.6403 - accuracy: 0.7500 - val_loss: 0.6847 - val_accuracy: 0.7222\n",
            "Epoch 43/500\n",
            "18/18 [==============================] - 0s 5ms/step - loss: 0.6501 - accuracy: 0.7743 - val_loss: 0.6580 - val_accuracy: 0.7222\n",
            "Epoch 44/500\n",
            "18/18 [==============================] - 0s 5ms/step - loss: 0.5702 - accuracy: 0.7639 - val_loss: 0.6096 - val_accuracy: 0.7222\n",
            "Epoch 45/500\n",
            "18/18 [==============================] - 0s 5ms/step - loss: 0.5798 - accuracy: 0.7708 - val_loss: 0.5715 - val_accuracy: 0.7500\n",
            "Epoch 46/500\n",
            "18/18 [==============================] - 0s 5ms/step - loss: 0.5595 - accuracy: 0.7986 - val_loss: 0.6228 - val_accuracy: 0.6667\n",
            "Epoch 47/500\n",
            "18/18 [==============================] - 0s 5ms/step - loss: 0.5769 - accuracy: 0.7604 - val_loss: 0.5749 - val_accuracy: 0.6944\n",
            "Epoch 48/500\n",
            "18/18 [==============================] - 0s 5ms/step - loss: 0.5477 - accuracy: 0.7708 - val_loss: 0.5863 - val_accuracy: 0.7500\n",
            "Epoch 49/500\n",
            "18/18 [==============================] - 0s 5ms/step - loss: 0.5592 - accuracy: 0.7917 - val_loss: 0.6334 - val_accuracy: 0.7500\n",
            "Epoch 50/500\n",
            "18/18 [==============================] - 0s 5ms/step - loss: 0.5507 - accuracy: 0.7951 - val_loss: 0.6481 - val_accuracy: 0.6389\n",
            "Epoch 51/500\n",
            "18/18 [==============================] - 0s 5ms/step - loss: 0.4991 - accuracy: 0.8021 - val_loss: 0.5588 - val_accuracy: 0.7222\n",
            "Epoch 52/500\n",
            "18/18 [==============================] - 0s 5ms/step - loss: 0.5608 - accuracy: 0.7708 - val_loss: 0.5420 - val_accuracy: 0.7778\n",
            "Epoch 53/500\n",
            "18/18 [==============================] - 0s 5ms/step - loss: 0.5215 - accuracy: 0.7951 - val_loss: 0.6119 - val_accuracy: 0.7500\n",
            "Epoch 54/500\n",
            "18/18 [==============================] - 0s 5ms/step - loss: 0.5559 - accuracy: 0.7812 - val_loss: 0.5566 - val_accuracy: 0.7222\n",
            "Epoch 55/500\n",
            "18/18 [==============================] - 0s 5ms/step - loss: 0.5815 - accuracy: 0.7986 - val_loss: 0.7686 - val_accuracy: 0.7222\n",
            "Epoch 56/500\n",
            "18/18 [==============================] - 0s 5ms/step - loss: 0.5636 - accuracy: 0.7465 - val_loss: 0.6257 - val_accuracy: 0.7778\n",
            "Epoch 57/500\n",
            "18/18 [==============================] - 0s 5ms/step - loss: 0.5818 - accuracy: 0.7674 - val_loss: 0.5824 - val_accuracy: 0.6667\n",
            "Epoch 58/500\n",
            "18/18 [==============================] - 0s 5ms/step - loss: 0.4855 - accuracy: 0.8056 - val_loss: 0.6598 - val_accuracy: 0.6111\n",
            "Epoch 59/500\n",
            "18/18 [==============================] - 0s 5ms/step - loss: 0.5208 - accuracy: 0.7951 - val_loss: 0.6500 - val_accuracy: 0.6667\n",
            "Epoch 60/500\n",
            "18/18 [==============================] - 0s 5ms/step - loss: 0.5046 - accuracy: 0.7847 - val_loss: 0.6100 - val_accuracy: 0.6944\n",
            "Epoch 61/500\n",
            "18/18 [==============================] - 0s 5ms/step - loss: 0.4732 - accuracy: 0.8194 - val_loss: 0.5356 - val_accuracy: 0.8056\n",
            "Epoch 62/500\n",
            "18/18 [==============================] - 0s 5ms/step - loss: 0.5261 - accuracy: 0.7708 - val_loss: 0.6236 - val_accuracy: 0.7222\n",
            "Epoch 63/500\n",
            "18/18 [==============================] - 0s 5ms/step - loss: 0.4948 - accuracy: 0.8021 - val_loss: 0.6921 - val_accuracy: 0.6389\n",
            "Epoch 64/500\n",
            "18/18 [==============================] - 0s 5ms/step - loss: 0.4684 - accuracy: 0.8090 - val_loss: 0.6489 - val_accuracy: 0.6667\n",
            "Epoch 65/500\n",
            "18/18 [==============================] - 0s 5ms/step - loss: 0.4690 - accuracy: 0.8194 - val_loss: 0.6478 - val_accuracy: 0.6389\n",
            "Epoch 66/500\n",
            "18/18 [==============================] - 0s 5ms/step - loss: 0.4579 - accuracy: 0.7986 - val_loss: 0.5971 - val_accuracy: 0.7500\n",
            "Epoch 67/500\n",
            "18/18 [==============================] - 0s 5ms/step - loss: 0.4554 - accuracy: 0.8194 - val_loss: 0.5562 - val_accuracy: 0.7500\n",
            "Epoch 68/500\n",
            "18/18 [==============================] - 0s 5ms/step - loss: 0.4875 - accuracy: 0.8229 - val_loss: 0.5827 - val_accuracy: 0.7500\n",
            "Epoch 69/500\n",
            "18/18 [==============================] - 0s 5ms/step - loss: 0.4309 - accuracy: 0.8299 - val_loss: 0.5827 - val_accuracy: 0.7222\n",
            "Epoch 70/500\n",
            "18/18 [==============================] - 0s 5ms/step - loss: 0.4432 - accuracy: 0.8056 - val_loss: 0.5226 - val_accuracy: 0.7778\n",
            "Epoch 71/500\n",
            "18/18 [==============================] - 0s 5ms/step - loss: 0.4787 - accuracy: 0.8021 - val_loss: 0.5278 - val_accuracy: 0.7500\n",
            "Epoch 72/500\n",
            "18/18 [==============================] - 0s 5ms/step - loss: 0.4710 - accuracy: 0.7986 - val_loss: 0.5331 - val_accuracy: 0.7222\n",
            "Epoch 73/500\n",
            "18/18 [==============================] - 0s 5ms/step - loss: 0.4314 - accuracy: 0.8403 - val_loss: 0.5772 - val_accuracy: 0.7222\n",
            "Epoch 74/500\n",
            "18/18 [==============================] - 0s 5ms/step - loss: 0.4304 - accuracy: 0.8229 - val_loss: 0.5343 - val_accuracy: 0.7778\n",
            "Epoch 75/500\n",
            "18/18 [==============================] - 0s 5ms/step - loss: 0.4045 - accuracy: 0.8229 - val_loss: 0.5046 - val_accuracy: 0.8333\n",
            "Epoch 76/500\n",
            "18/18 [==============================] - 0s 5ms/step - loss: 0.4054 - accuracy: 0.8438 - val_loss: 0.5368 - val_accuracy: 0.7222\n",
            "Epoch 77/500\n",
            "18/18 [==============================] - 0s 5ms/step - loss: 0.3730 - accuracy: 0.8507 - val_loss: 0.5588 - val_accuracy: 0.7778\n",
            "Epoch 78/500\n",
            "18/18 [==============================] - 0s 5ms/step - loss: 0.4282 - accuracy: 0.8438 - val_loss: 0.6100 - val_accuracy: 0.7222\n",
            "Epoch 79/500\n",
            "18/18 [==============================] - 0s 5ms/step - loss: 0.4063 - accuracy: 0.8403 - val_loss: 0.6341 - val_accuracy: 0.6667\n",
            "Epoch 80/500\n",
            "18/18 [==============================] - 0s 5ms/step - loss: 0.4194 - accuracy: 0.8333 - val_loss: 0.5359 - val_accuracy: 0.7500\n",
            "Epoch 81/500\n",
            "18/18 [==============================] - 0s 5ms/step - loss: 0.3599 - accuracy: 0.8576 - val_loss: 0.5713 - val_accuracy: 0.6944\n",
            "Epoch 82/500\n",
            "18/18 [==============================] - 0s 5ms/step - loss: 0.4358 - accuracy: 0.8403 - val_loss: 0.5706 - val_accuracy: 0.6944\n",
            "Epoch 83/500\n",
            "18/18 [==============================] - 0s 5ms/step - loss: 0.3938 - accuracy: 0.8507 - val_loss: 0.6431 - val_accuracy: 0.6667\n",
            "Epoch 84/500\n",
            "18/18 [==============================] - 0s 5ms/step - loss: 0.3572 - accuracy: 0.8646 - val_loss: 0.6292 - val_accuracy: 0.6944\n",
            "Epoch 85/500\n",
            "18/18 [==============================] - 0s 5ms/step - loss: 0.3346 - accuracy: 0.8750 - val_loss: 0.5791 - val_accuracy: 0.7778\n",
            "Epoch 86/500\n",
            "18/18 [==============================] - 0s 5ms/step - loss: 0.3607 - accuracy: 0.8472 - val_loss: 0.5720 - val_accuracy: 0.6944\n",
            "Epoch 87/500\n",
            "18/18 [==============================] - 0s 5ms/step - loss: 0.3904 - accuracy: 0.8611 - val_loss: 0.5713 - val_accuracy: 0.7222\n",
            "Epoch 88/500\n",
            "18/18 [==============================] - 0s 5ms/step - loss: 0.4388 - accuracy: 0.8194 - val_loss: 0.6304 - val_accuracy: 0.5833\n",
            "Epoch 89/500\n",
            "18/18 [==============================] - 0s 5ms/step - loss: 0.3810 - accuracy: 0.8576 - val_loss: 0.6659 - val_accuracy: 0.6389\n",
            "Epoch 90/500\n",
            "18/18 [==============================] - 0s 5ms/step - loss: 0.3936 - accuracy: 0.8472 - val_loss: 0.5990 - val_accuracy: 0.7500\n",
            "Epoch 91/500\n",
            "18/18 [==============================] - 0s 5ms/step - loss: 0.3418 - accuracy: 0.8750 - val_loss: 0.6341 - val_accuracy: 0.6389\n",
            "Epoch 92/500\n",
            "18/18 [==============================] - 0s 5ms/step - loss: 0.3171 - accuracy: 0.8646 - val_loss: 0.5218 - val_accuracy: 0.7500\n",
            "Epoch 93/500\n",
            "18/18 [==============================] - 0s 5ms/step - loss: 0.2956 - accuracy: 0.8854 - val_loss: 0.6219 - val_accuracy: 0.6944\n",
            "Epoch 94/500\n",
            "18/18 [==============================] - 0s 5ms/step - loss: 0.3766 - accuracy: 0.8681 - val_loss: 0.7329 - val_accuracy: 0.6944\n",
            "Epoch 95/500\n",
            "18/18 [==============================] - 0s 5ms/step - loss: 0.3014 - accuracy: 0.8924 - val_loss: 0.6576 - val_accuracy: 0.6389\n",
            "Epoch 96/500\n",
            "18/18 [==============================] - 0s 5ms/step - loss: 0.3442 - accuracy: 0.8576 - val_loss: 0.7209 - val_accuracy: 0.6667\n",
            "Epoch 97/500\n",
            "18/18 [==============================] - 0s 5ms/step - loss: 0.3432 - accuracy: 0.8542 - val_loss: 0.6416 - val_accuracy: 0.6944\n",
            "Epoch 98/500\n",
            "18/18 [==============================] - 0s 5ms/step - loss: 0.3778 - accuracy: 0.8542 - val_loss: 0.6604 - val_accuracy: 0.6944\n",
            "Epoch 99/500\n",
            "18/18 [==============================] - 0s 5ms/step - loss: 0.3015 - accuracy: 0.8646 - val_loss: 0.5189 - val_accuracy: 0.7778\n",
            "Epoch 100/500\n",
            "18/18 [==============================] - 0s 5ms/step - loss: 0.3273 - accuracy: 0.8785 - val_loss: 0.6012 - val_accuracy: 0.6111\n",
            "Epoch 101/500\n",
            "18/18 [==============================] - 0s 5ms/step - loss: 0.2824 - accuracy: 0.9028 - val_loss: 0.4910 - val_accuracy: 0.7778\n",
            "Epoch 102/500\n",
            "18/18 [==============================] - 0s 5ms/step - loss: 0.2718 - accuracy: 0.8750 - val_loss: 0.7118 - val_accuracy: 0.7500\n",
            "Epoch 103/500\n",
            "18/18 [==============================] - 0s 5ms/step - loss: 0.3062 - accuracy: 0.8819 - val_loss: 0.5951 - val_accuracy: 0.6667\n",
            "Epoch 104/500\n",
            "18/18 [==============================] - 0s 5ms/step - loss: 0.2891 - accuracy: 0.8750 - val_loss: 0.5109 - val_accuracy: 0.7222\n",
            "Epoch 105/500\n",
            "18/18 [==============================] - 0s 5ms/step - loss: 0.2573 - accuracy: 0.9028 - val_loss: 0.4574 - val_accuracy: 0.7500\n",
            "Epoch 106/500\n",
            "18/18 [==============================] - 0s 5ms/step - loss: 0.2917 - accuracy: 0.8750 - val_loss: 0.5718 - val_accuracy: 0.6944\n",
            "Epoch 107/500\n",
            "18/18 [==============================] - 0s 5ms/step - loss: 0.3568 - accuracy: 0.8368 - val_loss: 0.5679 - val_accuracy: 0.7500\n",
            "Epoch 108/500\n",
            "18/18 [==============================] - 0s 5ms/step - loss: 0.3384 - accuracy: 0.8611 - val_loss: 0.5543 - val_accuracy: 0.7500\n",
            "Epoch 109/500\n",
            "18/18 [==============================] - 0s 5ms/step - loss: 0.2716 - accuracy: 0.8993 - val_loss: 0.4964 - val_accuracy: 0.7500\n",
            "Epoch 110/500\n",
            "18/18 [==============================] - 0s 5ms/step - loss: 0.2575 - accuracy: 0.8958 - val_loss: 0.6240 - val_accuracy: 0.6389\n",
            "Epoch 111/500\n",
            "18/18 [==============================] - 0s 5ms/step - loss: 0.2289 - accuracy: 0.9132 - val_loss: 0.4969 - val_accuracy: 0.7500\n",
            "Epoch 112/500\n",
            "18/18 [==============================] - 0s 5ms/step - loss: 0.2411 - accuracy: 0.9062 - val_loss: 0.5663 - val_accuracy: 0.7222\n",
            "Epoch 113/500\n",
            "18/18 [==============================] - 0s 5ms/step - loss: 0.2390 - accuracy: 0.9167 - val_loss: 0.5953 - val_accuracy: 0.7222\n",
            "Epoch 114/500\n",
            "18/18 [==============================] - 0s 5ms/step - loss: 0.2597 - accuracy: 0.9062 - val_loss: 0.7916 - val_accuracy: 0.6389\n",
            "Epoch 115/500\n",
            "18/18 [==============================] - 0s 5ms/step - loss: 0.3066 - accuracy: 0.8750 - val_loss: 0.6442 - val_accuracy: 0.6667\n",
            "Epoch 116/500\n",
            "18/18 [==============================] - 0s 5ms/step - loss: 0.2889 - accuracy: 0.8750 - val_loss: 0.5409 - val_accuracy: 0.7500\n",
            "Epoch 117/500\n",
            "18/18 [==============================] - 0s 5ms/step - loss: 0.2804 - accuracy: 0.9028 - val_loss: 0.5366 - val_accuracy: 0.7222\n",
            "Epoch 118/500\n",
            "18/18 [==============================] - 0s 5ms/step - loss: 0.2681 - accuracy: 0.8854 - val_loss: 0.7052 - val_accuracy: 0.6389\n",
            "Epoch 119/500\n",
            "18/18 [==============================] - 0s 5ms/step - loss: 0.2945 - accuracy: 0.8750 - val_loss: 0.7764 - val_accuracy: 0.6389\n",
            "Epoch 120/500\n",
            "18/18 [==============================] - 0s 5ms/step - loss: 0.2266 - accuracy: 0.9236 - val_loss: 0.6932 - val_accuracy: 0.6111\n",
            "Epoch 121/500\n",
            "18/18 [==============================] - 0s 5ms/step - loss: 0.2874 - accuracy: 0.8924 - val_loss: 0.6051 - val_accuracy: 0.6944\n",
            "Epoch 122/500\n",
            "18/18 [==============================] - 0s 5ms/step - loss: 0.2508 - accuracy: 0.9097 - val_loss: 0.7330 - val_accuracy: 0.6111\n",
            "Epoch 123/500\n",
            "18/18 [==============================] - 0s 5ms/step - loss: 0.2486 - accuracy: 0.9132 - val_loss: 0.6399 - val_accuracy: 0.6944\n",
            "Epoch 124/500\n",
            "18/18 [==============================] - 0s 5ms/step - loss: 0.2448 - accuracy: 0.9062 - val_loss: 0.6733 - val_accuracy: 0.6944\n",
            "Epoch 125/500\n",
            "18/18 [==============================] - 0s 5ms/step - loss: 0.2329 - accuracy: 0.9167 - val_loss: 0.5832 - val_accuracy: 0.7222\n",
            "Epoch 126/500\n",
            "18/18 [==============================] - 0s 5ms/step - loss: 0.2273 - accuracy: 0.9236 - val_loss: 0.6174 - val_accuracy: 0.6667\n",
            "Epoch 127/500\n",
            "18/18 [==============================] - 0s 5ms/step - loss: 0.2278 - accuracy: 0.9062 - val_loss: 0.5630 - val_accuracy: 0.6667\n",
            "Epoch 128/500\n",
            "18/18 [==============================] - 0s 5ms/step - loss: 0.2482 - accuracy: 0.8993 - val_loss: 0.7499 - val_accuracy: 0.6111\n",
            "Epoch 129/500\n",
            "18/18 [==============================] - 0s 5ms/step - loss: 0.2566 - accuracy: 0.8889 - val_loss: 0.6120 - val_accuracy: 0.6667\n",
            "Epoch 130/500\n",
            "18/18 [==============================] - 0s 5ms/step - loss: 0.2157 - accuracy: 0.9132 - val_loss: 0.6171 - val_accuracy: 0.7500\n",
            "Epoch 131/500\n",
            "18/18 [==============================] - 0s 5ms/step - loss: 0.1970 - accuracy: 0.9306 - val_loss: 0.5722 - val_accuracy: 0.6667\n",
            "Epoch 132/500\n",
            "18/18 [==============================] - 0s 5ms/step - loss: 0.1780 - accuracy: 0.9410 - val_loss: 0.6592 - val_accuracy: 0.6389\n",
            "Epoch 133/500\n",
            "18/18 [==============================] - 0s 5ms/step - loss: 0.1998 - accuracy: 0.9306 - val_loss: 0.5191 - val_accuracy: 0.7500\n",
            "Epoch 134/500\n",
            "18/18 [==============================] - 0s 5ms/step - loss: 0.1853 - accuracy: 0.9375 - val_loss: 0.6288 - val_accuracy: 0.7500\n",
            "Epoch 135/500\n",
            "18/18 [==============================] - 0s 5ms/step - loss: 0.1775 - accuracy: 0.9444 - val_loss: 0.5869 - val_accuracy: 0.7222\n",
            "Epoch 136/500\n",
            "18/18 [==============================] - 0s 5ms/step - loss: 0.2228 - accuracy: 0.9236 - val_loss: 0.6951 - val_accuracy: 0.6389\n",
            "Epoch 137/500\n",
            "18/18 [==============================] - 0s 5ms/step - loss: 0.2176 - accuracy: 0.9062 - val_loss: 0.6201 - val_accuracy: 0.7222\n",
            "Epoch 138/500\n",
            "18/18 [==============================] - 0s 5ms/step - loss: 0.2013 - accuracy: 0.9236 - val_loss: 0.5857 - val_accuracy: 0.7222\n",
            "Epoch 139/500\n",
            "18/18 [==============================] - 0s 5ms/step - loss: 0.2366 - accuracy: 0.9271 - val_loss: 0.6610 - val_accuracy: 0.7500\n",
            "Epoch 140/500\n",
            "18/18 [==============================] - 0s 5ms/step - loss: 0.1917 - accuracy: 0.9236 - val_loss: 0.4428 - val_accuracy: 0.7500\n",
            "Epoch 141/500\n",
            "18/18 [==============================] - 0s 5ms/step - loss: 0.1926 - accuracy: 0.9340 - val_loss: 0.5163 - val_accuracy: 0.7222\n",
            "Epoch 142/500\n",
            "18/18 [==============================] - 0s 5ms/step - loss: 0.2254 - accuracy: 0.9062 - val_loss: 0.5977 - val_accuracy: 0.7222\n",
            "Epoch 143/500\n",
            "18/18 [==============================] - 0s 5ms/step - loss: 0.1472 - accuracy: 0.9410 - val_loss: 0.5163 - val_accuracy: 0.6944\n",
            "Epoch 144/500\n",
            "18/18 [==============================] - 0s 5ms/step - loss: 0.1826 - accuracy: 0.9340 - val_loss: 0.5453 - val_accuracy: 0.7222\n",
            "Epoch 145/500\n",
            "18/18 [==============================] - 0s 5ms/step - loss: 0.1765 - accuracy: 0.9375 - val_loss: 0.5785 - val_accuracy: 0.7222\n",
            "Epoch 146/500\n",
            "18/18 [==============================] - 0s 5ms/step - loss: 0.1347 - accuracy: 0.9514 - val_loss: 0.6365 - val_accuracy: 0.6944\n",
            "Epoch 147/500\n",
            "18/18 [==============================] - 0s 5ms/step - loss: 0.1780 - accuracy: 0.9410 - val_loss: 0.6312 - val_accuracy: 0.6944\n",
            "Epoch 148/500\n",
            "18/18 [==============================] - 0s 5ms/step - loss: 0.1897 - accuracy: 0.9375 - val_loss: 0.5985 - val_accuracy: 0.6944\n",
            "Epoch 149/500\n",
            "18/18 [==============================] - 0s 5ms/step - loss: 0.1524 - accuracy: 0.9479 - val_loss: 0.4590 - val_accuracy: 0.8056\n",
            "Epoch 150/500\n",
            "18/18 [==============================] - 0s 5ms/step - loss: 0.2020 - accuracy: 0.9236 - val_loss: 0.5523 - val_accuracy: 0.7222\n",
            "Epoch 151/500\n",
            "18/18 [==============================] - 0s 5ms/step - loss: 0.1877 - accuracy: 0.9201 - val_loss: 0.5931 - val_accuracy: 0.6944\n",
            "Epoch 152/500\n",
            "18/18 [==============================] - 0s 5ms/step - loss: 0.1473 - accuracy: 0.9479 - val_loss: 0.6223 - val_accuracy: 0.7222\n",
            "Epoch 153/500\n",
            "18/18 [==============================] - 0s 5ms/step - loss: 0.1744 - accuracy: 0.9340 - val_loss: 0.6390 - val_accuracy: 0.6667\n",
            "Epoch 154/500\n",
            "18/18 [==============================] - 0s 5ms/step - loss: 0.1843 - accuracy: 0.9444 - val_loss: 0.5840 - val_accuracy: 0.6667\n",
            "Epoch 155/500\n",
            "18/18 [==============================] - 0s 5ms/step - loss: 0.1801 - accuracy: 0.9340 - val_loss: 0.6213 - val_accuracy: 0.7500\n",
            "Epoch 156/500\n",
            "18/18 [==============================] - 0s 5ms/step - loss: 0.1607 - accuracy: 0.9410 - val_loss: 0.5946 - val_accuracy: 0.7222\n",
            "Epoch 157/500\n",
            "18/18 [==============================] - 0s 5ms/step - loss: 0.1503 - accuracy: 0.9444 - val_loss: 0.6845 - val_accuracy: 0.6667\n",
            "Epoch 158/500\n",
            "18/18 [==============================] - 0s 5ms/step - loss: 0.1661 - accuracy: 0.9479 - val_loss: 0.4416 - val_accuracy: 0.7222\n",
            "Epoch 159/500\n",
            "18/18 [==============================] - 0s 5ms/step - loss: 0.1646 - accuracy: 0.9375 - val_loss: 0.4913 - val_accuracy: 0.7222\n",
            "Epoch 160/500\n",
            "18/18 [==============================] - 0s 5ms/step - loss: 0.1835 - accuracy: 0.9201 - val_loss: 0.5274 - val_accuracy: 0.7500\n",
            "Epoch 161/500\n",
            "18/18 [==============================] - 0s 5ms/step - loss: 0.1753 - accuracy: 0.9340 - val_loss: 0.6037 - val_accuracy: 0.7222\n",
            "Epoch 162/500\n",
            "18/18 [==============================] - 0s 5ms/step - loss: 0.1715 - accuracy: 0.9375 - val_loss: 0.6129 - val_accuracy: 0.7500\n",
            "Epoch 163/500\n",
            "18/18 [==============================] - 0s 5ms/step - loss: 0.1315 - accuracy: 0.9549 - val_loss: 0.5684 - val_accuracy: 0.6667\n",
            "Epoch 164/500\n",
            "18/18 [==============================] - 0s 5ms/step - loss: 0.1615 - accuracy: 0.9306 - val_loss: 0.5676 - val_accuracy: 0.7222\n",
            "Epoch 165/500\n",
            "18/18 [==============================] - 0s 5ms/step - loss: 0.1474 - accuracy: 0.9479 - val_loss: 0.5583 - val_accuracy: 0.6944\n",
            "Epoch 166/500\n",
            "18/18 [==============================] - 0s 5ms/step - loss: 0.1584 - accuracy: 0.9410 - val_loss: 0.5331 - val_accuracy: 0.7222\n",
            "Epoch 167/500\n",
            "18/18 [==============================] - 0s 5ms/step - loss: 0.1739 - accuracy: 0.9375 - val_loss: 0.5435 - val_accuracy: 0.7222\n",
            "Epoch 168/500\n",
            "18/18 [==============================] - 0s 5ms/step - loss: 0.1831 - accuracy: 0.9410 - val_loss: 0.5609 - val_accuracy: 0.6667\n",
            "Epoch 169/500\n",
            "18/18 [==============================] - 0s 5ms/step - loss: 0.1495 - accuracy: 0.9479 - val_loss: 0.5515 - val_accuracy: 0.6944\n",
            "Epoch 170/500\n",
            "18/18 [==============================] - 0s 5ms/step - loss: 0.1601 - accuracy: 0.9306 - val_loss: 0.5943 - val_accuracy: 0.7222\n",
            "Epoch 171/500\n",
            "18/18 [==============================] - 0s 5ms/step - loss: 0.1386 - accuracy: 0.9479 - val_loss: 0.5262 - val_accuracy: 0.7500\n",
            "Epoch 172/500\n",
            "18/18 [==============================] - 0s 5ms/step - loss: 0.1345 - accuracy: 0.9514 - val_loss: 0.7035 - val_accuracy: 0.6667\n",
            "Epoch 173/500\n",
            "18/18 [==============================] - 0s 5ms/step - loss: 0.1249 - accuracy: 0.9618 - val_loss: 0.7546 - val_accuracy: 0.7500\n",
            "Epoch 174/500\n",
            "18/18 [==============================] - 0s 5ms/step - loss: 0.1383 - accuracy: 0.9688 - val_loss: 0.6380 - val_accuracy: 0.6944\n",
            "Epoch 175/500\n",
            "18/18 [==============================] - 0s 5ms/step - loss: 0.1372 - accuracy: 0.9410 - val_loss: 0.6222 - val_accuracy: 0.6667\n",
            "Epoch 176/500\n",
            "18/18 [==============================] - 0s 5ms/step - loss: 0.1111 - accuracy: 0.9688 - val_loss: 0.6384 - val_accuracy: 0.7222\n",
            "Epoch 177/500\n",
            "18/18 [==============================] - 0s 5ms/step - loss: 0.1261 - accuracy: 0.9549 - val_loss: 0.6431 - val_accuracy: 0.7222\n",
            "Epoch 178/500\n",
            "18/18 [==============================] - 0s 5ms/step - loss: 0.1318 - accuracy: 0.9549 - val_loss: 0.5103 - val_accuracy: 0.7500\n",
            "Epoch 179/500\n",
            "18/18 [==============================] - 0s 5ms/step - loss: 0.1362 - accuracy: 0.9514 - val_loss: 0.6312 - val_accuracy: 0.6667\n",
            "Epoch 180/500\n",
            "18/18 [==============================] - 0s 5ms/step - loss: 0.1115 - accuracy: 0.9583 - val_loss: 0.7601 - val_accuracy: 0.7222\n",
            "Epoch 181/500\n",
            "18/18 [==============================] - 0s 5ms/step - loss: 0.1730 - accuracy: 0.9410 - val_loss: 0.7145 - val_accuracy: 0.6389\n",
            "Epoch 182/500\n",
            "18/18 [==============================] - 0s 5ms/step - loss: 0.1416 - accuracy: 0.9549 - val_loss: 0.5740 - val_accuracy: 0.7500\n",
            "Epoch 183/500\n",
            "18/18 [==============================] - 0s 5ms/step - loss: 0.1192 - accuracy: 0.9479 - val_loss: 0.5381 - val_accuracy: 0.6944\n",
            "Epoch 184/500\n",
            "18/18 [==============================] - 0s 5ms/step - loss: 0.1413 - accuracy: 0.9444 - val_loss: 0.9241 - val_accuracy: 0.6667\n",
            "Epoch 185/500\n",
            "18/18 [==============================] - 0s 5ms/step - loss: 0.1464 - accuracy: 0.9479 - val_loss: 0.7265 - val_accuracy: 0.7222\n",
            "Epoch 186/500\n",
            "18/18 [==============================] - 0s 5ms/step - loss: 0.1365 - accuracy: 0.9514 - val_loss: 0.6153 - val_accuracy: 0.6389\n",
            "Epoch 187/500\n",
            "18/18 [==============================] - 0s 5ms/step - loss: 0.1149 - accuracy: 0.9410 - val_loss: 0.5907 - val_accuracy: 0.7500\n",
            "Epoch 188/500\n",
            "18/18 [==============================] - 0s 5ms/step - loss: 0.1188 - accuracy: 0.9688 - val_loss: 0.6008 - val_accuracy: 0.7500\n",
            "Epoch 189/500\n",
            "18/18 [==============================] - 0s 5ms/step - loss: 0.1278 - accuracy: 0.9479 - val_loss: 0.7649 - val_accuracy: 0.7222\n",
            "Epoch 190/500\n",
            "18/18 [==============================] - 0s 5ms/step - loss: 0.0735 - accuracy: 0.9826 - val_loss: 0.5261 - val_accuracy: 0.6944\n",
            "Epoch 191/500\n",
            "18/18 [==============================] - 0s 5ms/step - loss: 0.0876 - accuracy: 0.9757 - val_loss: 0.6120 - val_accuracy: 0.7222\n",
            "Epoch 192/500\n",
            "18/18 [==============================] - 0s 5ms/step - loss: 0.1366 - accuracy: 0.9444 - val_loss: 0.6854 - val_accuracy: 0.7222\n",
            "Epoch 193/500\n",
            "18/18 [==============================] - 0s 5ms/step - loss: 0.1004 - accuracy: 0.9618 - val_loss: 0.5281 - val_accuracy: 0.6389\n",
            "Epoch 194/500\n",
            "18/18 [==============================] - 0s 5ms/step - loss: 0.0864 - accuracy: 0.9792 - val_loss: 0.6765 - val_accuracy: 0.7222\n",
            "Epoch 195/500\n",
            "18/18 [==============================] - 0s 5ms/step - loss: 0.1415 - accuracy: 0.9514 - val_loss: 0.6539 - val_accuracy: 0.7222\n",
            "Epoch 196/500\n",
            "18/18 [==============================] - 0s 5ms/step - loss: 0.1940 - accuracy: 0.9306 - val_loss: 0.6426 - val_accuracy: 0.7500\n",
            "Epoch 197/500\n",
            "18/18 [==============================] - 0s 5ms/step - loss: 0.1159 - accuracy: 0.9688 - val_loss: 0.6624 - val_accuracy: 0.7778\n",
            "Epoch 198/500\n",
            "18/18 [==============================] - 0s 5ms/step - loss: 0.1403 - accuracy: 0.9618 - val_loss: 0.6805 - val_accuracy: 0.6944\n",
            "Epoch 199/500\n",
            "18/18 [==============================] - 0s 5ms/step - loss: 0.0984 - accuracy: 0.9688 - val_loss: 0.5169 - val_accuracy: 0.7500\n",
            "Epoch 200/500\n",
            "18/18 [==============================] - 0s 5ms/step - loss: 0.1234 - accuracy: 0.9479 - val_loss: 0.5731 - val_accuracy: 0.7500\n",
            "Epoch 201/500\n",
            "18/18 [==============================] - 0s 5ms/step - loss: 0.0787 - accuracy: 0.9722 - val_loss: 0.5819 - val_accuracy: 0.6667\n",
            "Epoch 202/500\n",
            "18/18 [==============================] - 0s 5ms/step - loss: 0.0955 - accuracy: 0.9688 - val_loss: 0.5643 - val_accuracy: 0.6944\n",
            "Epoch 203/500\n",
            "18/18 [==============================] - 0s 5ms/step - loss: 0.0775 - accuracy: 0.9826 - val_loss: 0.5760 - val_accuracy: 0.7500\n",
            "Epoch 204/500\n",
            "18/18 [==============================] - 0s 5ms/step - loss: 0.0999 - accuracy: 0.9618 - val_loss: 0.5758 - val_accuracy: 0.7500\n",
            "Epoch 205/500\n",
            "18/18 [==============================] - 0s 5ms/step - loss: 0.0822 - accuracy: 0.9792 - val_loss: 0.5487 - val_accuracy: 0.7222\n",
            "Epoch 206/500\n",
            "18/18 [==============================] - 0s 5ms/step - loss: 0.0825 - accuracy: 0.9722 - val_loss: 0.5511 - val_accuracy: 0.6944\n",
            "Epoch 207/500\n",
            "18/18 [==============================] - 0s 6ms/step - loss: 0.0923 - accuracy: 0.9653 - val_loss: 0.6170 - val_accuracy: 0.7222\n",
            "Epoch 208/500\n",
            "18/18 [==============================] - 0s 5ms/step - loss: 0.0805 - accuracy: 0.9792 - val_loss: 0.6159 - val_accuracy: 0.6389\n",
            "Epoch 209/500\n",
            "18/18 [==============================] - 0s 5ms/step - loss: 0.0995 - accuracy: 0.9688 - val_loss: 0.5875 - val_accuracy: 0.7222\n",
            "Epoch 210/500\n",
            "18/18 [==============================] - 0s 6ms/step - loss: 0.1107 - accuracy: 0.9583 - val_loss: 0.6909 - val_accuracy: 0.7222\n",
            "Epoch 211/500\n",
            "18/18 [==============================] - 0s 6ms/step - loss: 0.0654 - accuracy: 0.9896 - val_loss: 0.5990 - val_accuracy: 0.7500\n",
            "Epoch 212/500\n",
            "18/18 [==============================] - 0s 6ms/step - loss: 0.1113 - accuracy: 0.9583 - val_loss: 0.5506 - val_accuracy: 0.7222\n",
            "Epoch 213/500\n",
            "18/18 [==============================] - 0s 6ms/step - loss: 0.1000 - accuracy: 0.9653 - val_loss: 0.7662 - val_accuracy: 0.7500\n",
            "Epoch 214/500\n",
            "18/18 [==============================] - 0s 6ms/step - loss: 0.0997 - accuracy: 0.9583 - val_loss: 0.5545 - val_accuracy: 0.7500\n",
            "Epoch 215/500\n",
            "18/18 [==============================] - 0s 5ms/step - loss: 0.1071 - accuracy: 0.9583 - val_loss: 0.6086 - val_accuracy: 0.7222\n",
            "Epoch 216/500\n",
            "18/18 [==============================] - 0s 6ms/step - loss: 0.1170 - accuracy: 0.9688 - val_loss: 0.5232 - val_accuracy: 0.7222\n",
            "Epoch 217/500\n",
            "18/18 [==============================] - 0s 6ms/step - loss: 0.1229 - accuracy: 0.9514 - val_loss: 0.5784 - val_accuracy: 0.7500\n",
            "Epoch 218/500\n",
            "18/18 [==============================] - 0s 5ms/step - loss: 0.1575 - accuracy: 0.9479 - val_loss: 0.5712 - val_accuracy: 0.7222\n",
            "Epoch 219/500\n",
            "18/18 [==============================] - 0s 6ms/step - loss: 0.2041 - accuracy: 0.9236 - val_loss: 0.7593 - val_accuracy: 0.7500\n",
            "Epoch 220/500\n",
            "18/18 [==============================] - 0s 5ms/step - loss: 0.1096 - accuracy: 0.9618 - val_loss: 0.7266 - val_accuracy: 0.7222\n",
            "Epoch 221/500\n",
            "18/18 [==============================] - 0s 6ms/step - loss: 0.0909 - accuracy: 0.9722 - val_loss: 0.5203 - val_accuracy: 0.7222\n",
            "Epoch 222/500\n",
            "18/18 [==============================] - 0s 5ms/step - loss: 0.1211 - accuracy: 0.9549 - val_loss: 0.7135 - val_accuracy: 0.7222\n",
            "Epoch 223/500\n",
            "18/18 [==============================] - 0s 6ms/step - loss: 0.0824 - accuracy: 0.9757 - val_loss: 0.5952 - val_accuracy: 0.7778\n"
          ]
        }
      ],
      "source": [
        "model.compile(loss = 'sparse_categorical_crossentropy', optimizer = opt, metrics = [\"accuracy\"])\n",
        "\n",
        "early_stopping_callback = EarlyStopping(monitor = 'val_loss', patience = 65, mode = 'min', restore_best_weights = True)\n",
        "cnnhistory=model.fit(x_traincnn, y_train, batch_size=16, epochs=500 , shuffle = True, \n",
        "                     validation_data=(x_valid, y_valid), callbacks = [early_stopping_callback])"
      ]
    },
    {
      "cell_type": "code",
      "source": [
        "plt.plot(cnnhistory.history['loss'])\n",
        "plt.plot(cnnhistory.history['val_loss'])\n",
        "plt.title('model loss')\n",
        "plt.ylabel('loss')\n",
        "plt.xlabel('epoch')\n",
        "plt.legend(['train', 'valid'], loc='upper left')\n",
        "plt.show()"
      ],
      "metadata": {
        "colab": {
          "base_uri": "https://localhost:8080/",
          "height": 295
        },
        "id": "fuwtwqf1JwEn",
        "outputId": "479c169e-ee18-4845-cff7-c912a9dcacc5"
      },
      "execution_count": 14,
      "outputs": [
        {
          "output_type": "display_data",
          "data": {
            "text/plain": [
              "<Figure size 432x288 with 1 Axes>"
            ],
            "image/png": "[encoded data removed]"
          },
          "metadata": {
            "needs_background": "light"
          }
        }
      ]
    },
    {
      "cell_type": "code",
      "source": [
        "plt.plot(cnnhistory.history['accuracy'])\n",
        "plt.plot(cnnhistory.history['val_accuracy'])\n",
        "plt.title('model accuracy')\n",
        "plt.ylabel('accuracy')\n",
        "plt.xlabel('epoch')\n",
        "plt.legend(['train','test'], loc='upper left')\n",
        "plt.show()"
      ],
      "metadata": {
        "colab": {
          "base_uri": "https://localhost:8080/",
          "height": 295
        },
        "id": "85gaEoLgJz2u",
        "outputId": "4f0e23a2-046a-4013-a382-46f0708b0ffe"
      },
      "execution_count": 15,
      "outputs": [
        {
          "output_type": "display_data",
          "data": {
            "text/plain": [
              "<Figure size 432x288 with 1 Axes>"
            ],
            "image/png": "[encoded data removed]"
          },
          "metadata": {
            "needs_background": "light"
          }
        }
      ]
    },
    {
      "cell_type": "code",
      "source": [
        "loss, acc =model.evaluate(x_traincnn,y_train )\n",
        "print(\"Restored model train, accuracy: {:5.2f}%\".format(100*acc))"
      ],
      "metadata": {
        "colab": {
          "base_uri": "https://localhost:8080/"
        },
        "id": "k9lNlYcXpKAA",
        "outputId": "5c0662f3-e794-479f-e04a-84a64a45342a"
      },
      "execution_count": 16,
      "outputs": [
        {
          "output_type": "stream",
          "name": "stdout",
          "text": [
            "9/9 [==============================] - 0s 3ms/step - loss: 0.1055 - accuracy: 0.9792\n",
            "Restored model train, accuracy: 97.92%\n"
          ]
        }
      ]
    },
    {
      "cell_type": "code",
      "source": [
        "loss, acc = model.evaluate(x_test, y_test)\n",
        "print(\"Restored model, accuracy: {:5.2f}%\".format(100*acc))"
      ],
      "metadata": {
        "colab": {
          "base_uri": "https://localhost:8080/"
        },
        "id": "VsXjcE8fJ9yB",
        "outputId": "d4467a40-617b-46c6-d1ac-651930122f76"
      },
      "execution_count": 17,
      "outputs": [
        {
          "output_type": "stream",
          "name": "stdout",
          "text": [
            "2/2 [==============================] - 0s 5ms/step - loss: 0.5741 - accuracy: 0.8333\n",
            "Restored model, accuracy: 83.33%\n"
          ]
        }
      ]
    },
    {
      "cell_type": "code",
      "source": [
        "#predictions = model.predict_classes(x_testcnn)\n",
        "predictions = model.predict(x_test)\n",
        "predictions"
      ],
      "metadata": {
        "colab": {
          "base_uri": "https://localhost:8080/"
        },
        "id": "J19se9vJKCFn",
        "outputId": "30846916-3a44-4bb4-c9dd-d7dc7c68bcc6"
      },
      "execution_count": 18,
      "outputs": [
        {
          "output_type": "execute_result",
          "data": {
            "text/plain": [
              "array([[3.94444261e-03, 6.60815001e-01, 8.96130037e-03, 7.17260595e-03,\n",
              "        3.19106668e-01],\n",
              "       [1.91102698e-01, 4.04287083e-03, 8.04723978e-01, 8.15675048e-06,\n",
              "        1.22355064e-04],\n",
              "       [4.80065979e-02, 1.75662848e-04, 9.51757431e-01, 4.77432150e-05,\n",
              "        1.25588413e-05],\n",
              "       [6.64093795e-06, 1.43230600e-05, 9.63481665e-01, 4.70471801e-04,\n",
              "        3.60268243e-02],\n",
              "       [1.10554305e-04, 1.92770982e-04, 9.02512297e-02, 1.34548116e-02,\n",
              "        8.95990610e-01],\n",
              "       [9.99092579e-01, 7.42925340e-06, 8.22070928e-04, 7.78304748e-05,\n",
              "        1.21396965e-07],\n",
              "       [9.94262099e-01, 3.94853923e-05, 1.92604435e-03, 3.76648502e-03,\n",
              "        5.91483013e-06],\n",
              "       [1.45082173e-04, 7.66318560e-01, 9.37299119e-05, 2.33367741e-01,\n",
              "        7.49392420e-05],\n",
              "       [9.97172534e-01, 3.67416396e-06, 1.88854453e-03, 9.05643683e-04,\n",
              "        2.95434802e-05],\n",
              "       [3.39983241e-03, 5.97159727e-04, 9.51910317e-01, 4.21217307e-02,\n",
              "        1.97094399e-03],\n",
              "       [1.39906049e-01, 7.13182681e-06, 8.59946430e-01, 2.79083821e-07,\n",
              "        1.40062315e-04],\n",
              "       [8.44920456e-01, 2.52206955e-04, 1.53129250e-01, 4.31238259e-05,\n",
              "        1.65492063e-03],\n",
              "       [9.98388767e-01, 1.23512309e-05, 9.27522138e-04, 6.71155402e-04,\n",
              "        2.29017004e-07],\n",
              "       [8.20415318e-01, 4.72035352e-03, 1.56866893e-01, 1.79005098e-02,\n",
              "        9.69003013e-05],\n",
              "       [9.92741585e-01, 1.05771755e-06, 7.17744883e-03, 7.92107821e-05,\n",
              "        7.49124013e-07],\n",
              "       [1.43294199e-03, 5.56685746e-01, 5.29653407e-05, 4.40943897e-01,\n",
              "        8.84455338e-04],\n",
              "       [2.11313236e-04, 4.09874439e-01, 1.10298228e-04, 1.37598172e-01,\n",
              "        4.52205718e-01],\n",
              "       [1.07535603e-03, 8.18851531e-01, 1.18472104e-04, 9.58108678e-02,\n",
              "        8.41438696e-02],\n",
              "       [1.36038673e-03, 4.19410411e-03, 1.61926132e-02, 9.50347722e-01,\n",
              "        2.79051922e-02],\n",
              "       [9.29818094e-01, 4.31092885e-05, 7.00278431e-02, 1.55926464e-05,\n",
              "        9.53427007e-05],\n",
              "       [1.06295493e-05, 2.10368589e-01, 3.52439952e-06, 7.89322078e-01,\n",
              "        2.95192935e-04],\n",
              "       [1.57858792e-03, 7.20037892e-02, 4.04108840e-04, 5.94949699e-04,\n",
              "        9.25418556e-01],\n",
              "       [4.18060117e-05, 5.27321640e-03, 5.91502157e-07, 9.94541347e-01,\n",
              "        1.43128171e-04],\n",
              "       [1.31597191e-01, 4.15409237e-01, 2.69957371e-02, 3.82454157e-01,\n",
              "        4.35436666e-02],\n",
              "       [2.97948159e-03, 1.99489994e-03, 1.67857448e-03, 9.17832494e-01,\n",
              "        7.55145922e-02],\n",
              "       [5.51503003e-01, 3.60839702e-02, 2.70362385e-02, 3.44039947e-01,\n",
              "        4.13368568e-02],\n",
              "       [6.94904923e-01, 3.23625207e-02, 3.15668844e-02, 2.40844905e-01,\n",
              "        3.20771796e-04],\n",
              "       [9.86896932e-01, 3.15664984e-05, 1.26032373e-02, 4.55255649e-04,\n",
              "        1.30125527e-05],\n",
              "       [9.90527153e-01, 1.95989719e-06, 9.43106506e-03, 3.93310620e-05,\n",
              "        4.67153001e-07],\n",
              "       [1.65024307e-04, 7.72937983e-02, 3.51258359e-06, 9.22329307e-01,\n",
              "        2.08384386e-04],\n",
              "       [9.84855741e-03, 9.20139849e-02, 9.32388473e-03, 7.00790823e-01,\n",
              "        1.88022703e-01],\n",
              "       [5.51085593e-03, 3.20999796e-04, 4.10617804e-06, 9.94160712e-01,\n",
              "        3.36576863e-06],\n",
              "       [9.84611690e-01, 3.71399665e-06, 8.94016214e-03, 6.38305256e-03,\n",
              "        6.13750308e-05],\n",
              "       [1.49066336e-02, 7.60016701e-05, 9.84504223e-01, 1.45197817e-04,\n",
              "        3.67908098e-04],\n",
              "       [6.62543171e-04, 8.69943051e-07, 9.98635948e-01, 3.98467928e-05,\n",
              "        6.60759339e-04],\n",
              "       [3.02765002e-05, 9.38186705e-01, 1.08866801e-03, 1.35906914e-03,\n",
              "        5.93352281e-02]], dtype=float32)"
            ]
          },
          "metadata": {},
          "execution_count": 18
        }
      ]
    },
    {
      "cell_type": "code",
      "execution_count": 19,
      "metadata": {
        "id": "oLAtoP9kH7cd"
      },
      "outputs": [],
      "source": [
        "\n",
        "df_audio_test = pd.DataFrame(predictions,columns=[\"OA_\"+str(i) for i in range(5)])\n"
      ]
    },
    {
      "cell_type": "code",
      "execution_count": 20,
      "metadata": {
        "id": "Y01xRIqN3Kv7",
        "colab": {
          "base_uri": "https://localhost:8080/"
        },
        "outputId": "81b1cc9c-a29f-4deb-e21c-22720e2fddb6"
      },
      "outputs": [
        {
          "output_type": "execute_result",
          "data": {
            "text/plain": [
              "array([1, 2, 2, 2, 4, 0, 0, 1, 0, 2, 2, 0, 0, 0, 0, 1, 1, 4, 4, 0, 3, 4,\n",
              "       3, 1, 3, 1, 2, 0, 0, 3, 3, 3, 0, 2, 2, 4])"
            ]
          },
          "metadata": {},
          "execution_count": 20
        }
      ],
      "source": [
        "y_test"
      ]
    },
    {
      "cell_type": "code",
      "execution_count": 21,
      "metadata": {
        "id": "DLhoAcuI3N3Z",
        "colab": {
          "base_uri": "https://localhost:8080/"
        },
        "outputId": "df63d008-4f94-4187-fa2f-7bf6129a83c6"
      },
      "outputs": [
        {
          "output_type": "execute_result",
          "data": {
            "text/plain": [
              "array([1, 2, 2, 2, 4, 0, 0, 1, 0, 2, 2, 0, 0, 0, 0, 1, 1, 4, 4, 0, 3, 4,\n",
              "       3, 1, 3, 1, 2, 0, 0, 3, 3, 3, 0, 2, 2, 4])"
            ]
          },
          "metadata": {},
          "execution_count": 21
        }
      ],
      "source": [
        "new_Ytest = y_test.astype(int)\n",
        "new_Ytest"
      ]
    },
    {
      "cell_type": "code",
      "execution_count": 22,
      "metadata": {
        "id": "msg0xsZw3ROh",
        "colab": {
          "base_uri": "https://localhost:8080/"
        },
        "outputId": "ed2b5263-92e4-468e-81ee-a3c5bf747589"
      },
      "outputs": [
        {
          "output_type": "execute_result",
          "data": {
            "text/plain": [
              "array([1, 2, 2, 2, 4, 0, 0, 1, 0, 2, 2, 0, 0, 0, 0, 1, 4, 1, 3, 0, 3, 4,\n",
              "       3, 1, 3, 0, 0, 0, 0, 3, 3, 3, 0, 2, 2, 1])"
            ]
          },
          "metadata": {},
          "execution_count": 22
        }
      ],
      "source": [
        "preds1=predictions.argmax(axis=1)\n",
        "preds1"
      ]
    },
    {
      "cell_type": "code",
      "execution_count": 23,
      "metadata": {
        "id": "-nADWckp3UHg",
        "colab": {
          "base_uri": "https://localhost:8080/"
        },
        "outputId": "bb871646-fdca-43e7-a669-9a7e6f2f592a"
      },
      "outputs": [
        {
          "output_type": "execute_result",
          "data": {
            "text/plain": [
              "array([[11,  0,  0,  0,  0],\n",
              "       [ 1,  4,  0,  0,  1],\n",
              "       [ 1,  0,  7,  0,  0],\n",
              "       [ 0,  0,  0,  6,  0],\n",
              "       [ 0,  2,  0,  1,  2]])"
            ]
          },
          "metadata": {},
          "execution_count": 23
        }
      ],
      "source": [
        "abc = preds1.astype(int).flatten()\n",
        "from sklearn.metrics import confusion_matrix\n",
        "c = confusion_matrix(new_Ytest, abc) \n",
        "c"
      ]
    },
    {
      "cell_type": "code",
      "execution_count": 24,
      "metadata": {
        "id": "biI56TZV3fPV",
        "colab": {
          "base_uri": "https://localhost:8080/",
          "height": 491
        },
        "outputId": "ed34bf55-7fe7-4f82-b50a-8bc132eb5cc1"
      },
      "outputs": [
        {
          "output_type": "stream",
          "name": "stdout",
          "text": [
            "              precision    recall  f1-score   support\n",
            "\n",
            "           0       0.85      1.00      0.92        11\n",
            "           1       0.67      0.67      0.67         6\n",
            "           2       1.00      0.88      0.93         8\n",
            "           3       0.86      1.00      0.92         6\n",
            "           4       0.67      0.40      0.50         5\n",
            "\n",
            "    accuracy                           0.83        36\n",
            "   macro avg       0.81      0.79      0.79        36\n",
            "weighted avg       0.83      0.83      0.82        36\n",
            "\n",
            "----accuracy score 83.33333333333334 ----\n"
          ]
        },
        {
          "output_type": "display_data",
          "data": {
            "text/plain": [
              "<Figure size 432x288 with 2 Axes>"
            ],
            "image/png": "[encoded data removed]"
          },
          "metadata": {
            "needs_background": "light"
          }
        }
      ],
      "source": [
        "from sklearn.metrics import classification_report, confusion_matrix,accuracy_score\n",
        "import seaborn as sn\n",
        "\n",
        "print(classification_report(y_test,abc))\n",
        "\n",
        "acc = float(accuracy_score(y_test,abc))*100\n",
        "print(\"----accuracy score %s ----\" % acc)\n",
        "\n",
        "cm = confusion_matrix(y_test,abc)\n",
        "#df_cm = pd.DataFrame(cm)\n",
        "class_names = ['neutral', 'happy','sad','angry', 'fearful' ]\n",
        "df_cm = pd.DataFrame(cm, index=class_names, columns=class_names,)\n",
        "sn.heatmap(df_cm, annot=True, fmt='')\n",
        "plt.show()"
      ]
    },
    {
      "cell_type": "code",
      "execution_count": 25,
      "metadata": {
        "id": "vcuBTzA93UQk",
        "colab": {
          "base_uri": "https://localhost:8080/"
        },
        "outputId": "363414fd-e052-43c9-c3b3-d0fb79ed7ee7"
      },
      "outputs": [
        {
          "output_type": "stream",
          "name": "stdout",
          "text": [
            "INFO:tensorflow:Assets written to: /content/drive/My Drive/fusion/savee/audio/model/expert5/best_CNN_model/assets\n",
            "MODEL SAVED\n"
          ]
        }
      ],
      "source": [
        "model.save('/content/drive/My Drive/fusion/savee/audio/model/expert5/best_CNN_model')\n",
        "print(\"MODEL SAVED\")"
      ]
    },
    {
      "cell_type": "code",
      "execution_count": 26,
      "metadata": {
        "id": "nGyu3Eyagpf2"
      },
      "outputs": [],
      "source": [
        "model_file_name = f'/content/drive/My Drive/fusion/savee/audio/model/expert5/best_CNN_model___Loss_{loss}___Accuracy_{acc}.h5'\n",
        "\n",
        "# Save the Model.\n",
        "model.save(model_file_name)"
      ]
    },
    {
      "cell_type": "code",
      "execution_count": 27,
      "metadata": {
        "id": "eVzRK3BBgg9l"
      },
      "outputs": [],
      "source": [
        "# serialize model to JSON\n",
        "model_json = model.to_json()\n",
        "with open(\"/content/drive/My Drive/fusion/savee/audio/model/expert5/best_CNN_model.json\", \"w\") as json_file:\n",
        "    json_file.write(model_json)"
      ]
    },
    {
      "cell_type": "code",
      "source": [
        "prediction_train = model.predict(x_traincnn)\n",
        "prediction_train"
      ],
      "metadata": {
        "colab": {
          "base_uri": "https://localhost:8080/"
        },
        "id": "MQKHp2Zepvt-",
        "outputId": "8f620210-6134-430a-fd79-953db635fbe8"
      },
      "execution_count": 28,
      "outputs": [
        {
          "output_type": "execute_result",
          "data": {
            "text/plain": [
              "array([[9.8499370e-01, 7.3937696e-09, 1.5005587e-02, 4.9024300e-07,\n",
              "        2.2917263e-07],\n",
              "       [9.3182909e-01, 9.4155739e-06, 6.7353368e-02, 7.7860092e-04,\n",
              "        2.9490009e-05],\n",
              "       [2.8679921e-07, 9.9965119e-01, 2.7634278e-06, 3.1444695e-04,\n",
              "        3.1340045e-05],\n",
              "       ...,\n",
              "       [8.7597674e-01, 1.4706337e-04, 1.1365231e-01, 2.3448183e-04,\n",
              "        9.9894153e-03],\n",
              "       [1.0346448e-06, 1.9526281e-03, 1.3835073e-06, 9.9765271e-01,\n",
              "        3.9226803e-04],\n",
              "       [9.3879789e-01, 1.2316610e-02, 2.8728763e-02, 1.1371984e-02,\n",
              "        8.7847225e-03]], dtype=float32)"
            ]
          },
          "metadata": {},
          "execution_count": 28
        }
      ]
    },
    {
      "cell_type": "code",
      "source": [
        "df_audio_train = pd.DataFrame(prediction_train,columns=[\"OA_\"+str(i) for i in range(5)])"
      ],
      "metadata": {
        "id": "OzTsbZuiKJCs"
      },
      "execution_count": 29,
      "outputs": []
    },
    {
      "cell_type": "code",
      "source": [
        "prediction_valid = model.predict(x_valid)\n",
        "prediction_valid"
      ],
      "metadata": {
        "colab": {
          "base_uri": "https://localhost:8080/"
        },
        "id": "7-NgOypyKMSE",
        "outputId": "d5e99e31-9ed4-434b-c9e6-45870b9b7cd4"
      },
      "execution_count": 30,
      "outputs": [
        {
          "output_type": "execute_result",
          "data": {
            "text/plain": [
              "array([[2.80946879e-05, 4.41782951e-01, 5.96751692e-04, 4.74010920e-03,\n",
              "        5.52852094e-01],\n",
              "       [5.34070132e-05, 2.99203783e-01, 1.80518509e-05, 7.00178027e-01,\n",
              "        5.46809577e-04],\n",
              "       [9.65430379e-01, 2.33655635e-04, 3.42545398e-02, 6.94552873e-05,\n",
              "        1.19709566e-05],\n",
              "       [4.98116583e-01, 1.41298995e-04, 4.89955127e-01, 5.09481586e-04,\n",
              "        1.12774298e-02],\n",
              "       [5.93002142e-06, 5.16548660e-03, 6.84614256e-02, 5.85040543e-04,\n",
              "        9.25782084e-01],\n",
              "       [1.29274702e-06, 8.50973964e-01, 1.61829498e-03, 5.38377836e-02,\n",
              "        9.35686007e-02],\n",
              "       [2.89370358e-01, 4.56088334e-02, 1.57441869e-01, 5.06556094e-01,\n",
              "        1.02277426e-03],\n",
              "       [2.19949976e-01, 9.23020634e-05, 7.76676774e-01, 3.07405344e-03,\n",
              "        2.06846526e-04],\n",
              "       [2.42161320e-07, 1.44933283e-01, 2.36421347e-05, 8.44663024e-01,\n",
              "        1.03797726e-02],\n",
              "       [3.45114357e-04, 1.58064306e-01, 6.87303036e-05, 8.30631018e-01,\n",
              "        1.08908946e-02],\n",
              "       [3.08792740e-01, 4.50055610e-04, 6.86180294e-01, 1.60364027e-04,\n",
              "        4.41656867e-03],\n",
              "       [9.99495864e-01, 5.33795628e-06, 4.84986085e-04, 1.38264986e-05,\n",
              "        3.56379957e-08],\n",
              "       [3.95941079e-01, 1.56570561e-04, 5.83530843e-01, 1.60436016e-02,\n",
              "        4.32795472e-03],\n",
              "       [3.55195407e-05, 4.52280492e-01, 3.75694544e-05, 5.45643866e-01,\n",
              "        2.00251536e-03],\n",
              "       [9.97637033e-01, 7.54125892e-07, 2.36066571e-03, 1.62518336e-06,\n",
              "        5.61926683e-08],\n",
              "       [1.35563459e-04, 9.20455515e-01, 5.43326905e-06, 6.62134215e-02,\n",
              "        1.31902043e-02],\n",
              "       [5.43601171e-04, 3.30581218e-01, 3.22009291e-04, 2.89347168e-04,\n",
              "        6.68263793e-01],\n",
              "       [1.08911947e-03, 3.33376415e-03, 9.00214538e-04, 4.53373432e-01,\n",
              "        5.41303456e-01],\n",
              "       [2.19307793e-03, 8.77795219e-01, 1.83587335e-02, 9.61362869e-02,\n",
              "        5.51671302e-03],\n",
              "       [6.62075698e-01, 2.94423942e-03, 3.32376927e-01, 9.81609803e-04,\n",
              "        1.62153249e-03],\n",
              "       [3.95442247e-02, 8.42853915e-03, 1.31982740e-03, 2.72494904e-03,\n",
              "        9.47982490e-01],\n",
              "       [9.99749124e-01, 9.43523219e-07, 2.38290027e-04, 1.13511724e-05,\n",
              "        2.42003608e-07],\n",
              "       [2.72197271e-04, 5.76586902e-01, 1.11505548e-02, 5.32724720e-04,\n",
              "        4.11457658e-01],\n",
              "       [1.21882695e-04, 8.97894561e-01, 6.80614630e-06, 1.01294078e-01,\n",
              "        6.82571903e-04],\n",
              "       [9.25604127e-06, 4.74117935e-01, 2.09391692e-05, 5.25045037e-01,\n",
              "        8.06820986e-04],\n",
              "       [9.96072412e-01, 3.86903665e-08, 3.92260309e-03, 4.61605032e-06,\n",
              "        3.32216132e-07],\n",
              "       [2.47636088e-03, 5.22554712e-03, 6.23217842e-04, 9.88319874e-01,\n",
              "        3.35492683e-03],\n",
              "       [2.46460468e-01, 5.56573123e-02, 2.17357561e-01, 3.35748136e-01,\n",
              "        1.44776478e-01],\n",
              "       [6.36670530e-01, 1.31948866e-06, 3.63258123e-01, 5.72777208e-06,\n",
              "        6.43632520e-05],\n",
              "       [4.68251016e-03, 6.99545145e-01, 1.26464234e-04, 2.78006524e-01,\n",
              "        1.76393725e-02],\n",
              "       [8.59104985e-05, 9.92657617e-02, 4.44832403e-05, 3.03762587e-04,\n",
              "        9.00300086e-01],\n",
              "       [9.71773028e-01, 4.11546935e-04, 2.68440079e-02, 8.96230515e-04,\n",
              "        7.51718253e-05],\n",
              "       [9.99398947e-01, 6.69840301e-06, 4.15499613e-04, 1.78752322e-04,\n",
              "        1.74726196e-07],\n",
              "       [4.17332473e-07, 4.26561542e-07, 9.99252498e-01, 3.37091728e-06,\n",
              "        7.43323879e-04],\n",
              "       [4.36520368e-01, 6.28943322e-04, 5.09435654e-01, 4.69251210e-03,\n",
              "        4.87225316e-02],\n",
              "       [9.87608910e-01, 3.18783492e-07, 1.23292282e-02, 6.03828303e-05,\n",
              "        1.07992491e-06]], dtype=float32)"
            ]
          },
          "metadata": {},
          "execution_count": 30
        }
      ]
    },
    {
      "cell_type": "code",
      "source": [
        "df_audio_valid = pd.DataFrame(prediction_valid,columns=[\"OA_\"+str(i) for i in range(5)])"
      ],
      "metadata": {
        "id": "Po6mRX1CKQAy"
      },
      "execution_count": 31,
      "outputs": []
    },
    {
      "cell_type": "code",
      "source": [
        "import joblib\n",
        "\n",
        "save_dir = '/content/drive/My Drive/fusion/savee/audio/data_set/expert5'\n",
        "\n",
        "savedvX = joblib.dump(df_audio_train, os.path.join(save_dir, 'train/predict_train'))\n",
        "savedvX = joblib.dump(df_audio_test, os.path.join(save_dir, 'test/predict_test'))\n",
        "savedvX = joblib.dump(df_audio_valid, os.path.join(save_dir, 'valid/predict_valid'))"
      ],
      "metadata": {
        "id": "m7xRo0_bBvxL"
      },
      "execution_count": 32,
      "outputs": []
    },
    {
      "cell_type": "code",
      "source": [
        ""
      ],
      "metadata": {
        "id": "qVLirBo3xb0n"
      },
      "execution_count": 32,
      "outputs": []
    }
  ],
  "metadata": {
    "accelerator": "GPU",
    "colab": {
      "collapsed_sections": [],
      "name": "final_model_audio_savee_expert5.ipynb",
      "provenance": [],
      "machine_shape": "hm"
    },
    "kernelspec": {
      "display_name": "Python 3",
      "language": "python",
      "name": "python3"
    },
    "language_info": {
      "codemirror_mode": {
        "name": "ipython",
        "version": 3
      },
      "file_extension": ".py",
      "mimetype": "text/x-python",
      "name": "python",
      "nbconvert_exporter": "python",
      "pygments_lexer": "ipython3",
      "version": "3.7.10"
    }
  },
  "nbformat": 4,
  "nbformat_minor": 0
}