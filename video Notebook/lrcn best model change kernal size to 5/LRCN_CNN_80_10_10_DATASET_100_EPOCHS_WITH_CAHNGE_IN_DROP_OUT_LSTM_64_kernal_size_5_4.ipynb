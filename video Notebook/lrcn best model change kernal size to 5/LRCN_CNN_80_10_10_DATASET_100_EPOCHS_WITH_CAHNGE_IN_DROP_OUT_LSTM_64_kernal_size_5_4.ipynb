{
  "cells": [
    {
      "cell_type": "code",
      "execution_count": 1,
      "metadata": {
        "colab": {
          "base_uri": "https://localhost:8080/"
        },
        "id": "iC_o_HaWEBQ4",
        "outputId": "7f01f9eb-aaa8-409f-fe34-e7ed52dff3f3"
      },
      "outputs": [
        {
          "output_type": "stream",
          "name": "stdout",
          "text": [
            "Looking in indexes: https://pypi.org/simple, https://us-python.pkg.dev/colab-wheels/public/simple/\n",
            "Requirement already satisfied: tensorflow in /usr/local/lib/python3.7/dist-packages (2.8.2+zzzcolab20220527125636)\n",
            "Requirement already satisfied: opencv-contrib-python in /usr/local/lib/python3.7/dist-packages (4.1.2.30)\n",
            "Collecting youtube-dl\n",
            "  Downloading youtube_dl-2021.12.17-py2.py3-none-any.whl (1.9 MB)\n",
            "\u001b[K     |████████████████████████████████| 1.9 MB 4.3 MB/s \n",
            "\u001b[?25hRequirement already satisfied: moviepy in /usr/local/lib/python3.7/dist-packages (0.2.3.5)\n",
            "Requirement already satisfied: pydot in /usr/local/lib/python3.7/dist-packages (1.3.0)\n",
            "Requirement already satisfied: h5py>=2.9.0 in /usr/local/lib/python3.7/dist-packages (from tensorflow) (3.1.0)\n",
            "Requirement already satisfied: absl-py>=0.4.0 in /usr/local/lib/python3.7/dist-packages (from tensorflow) (1.0.0)\n",
            "Requirement already satisfied: keras<2.9,>=2.8.0rc0 in /usr/local/lib/python3.7/dist-packages (from tensorflow) (2.8.0)\n",
            "Requirement already satisfied: astunparse>=1.6.0 in /usr/local/lib/python3.7/dist-packages (from tensorflow) (1.6.3)\n",
            "Requirement already satisfied: protobuf<3.20,>=3.9.2 in /usr/local/lib/python3.7/dist-packages (from tensorflow) (3.17.3)\n",
            "Requirement already satisfied: flatbuffers>=1.12 in /usr/local/lib/python3.7/dist-packages (from tensorflow) (2.0)\n",
            "Requirement already satisfied: tensorflow-estimator<2.9,>=2.8 in /usr/local/lib/python3.7/dist-packages (from tensorflow) (2.8.0)\n",
            "Requirement already satisfied: termcolor>=1.1.0 in /usr/local/lib/python3.7/dist-packages (from tensorflow) (1.1.0)\n",
            "Requirement already satisfied: setuptools in /usr/local/lib/python3.7/dist-packages (from tensorflow) (57.4.0)\n",
            "Requirement already satisfied: numpy>=1.20 in /usr/local/lib/python3.7/dist-packages (from tensorflow) (1.21.6)\n",
            "Requirement already satisfied: tensorboard<2.9,>=2.8 in /usr/local/lib/python3.7/dist-packages (from tensorflow) (2.8.0)\n",
            "Requirement already satisfied: keras-preprocessing>=1.1.1 in /usr/local/lib/python3.7/dist-packages (from tensorflow) (1.1.2)\n",
            "Requirement already satisfied: wrapt>=1.11.0 in /usr/local/lib/python3.7/dist-packages (from tensorflow) (1.14.1)\n",
            "Requirement already satisfied: grpcio<2.0,>=1.24.3 in /usr/local/lib/python3.7/dist-packages (from tensorflow) (1.46.3)\n",
            "Requirement already satisfied: six>=1.12.0 in /usr/local/lib/python3.7/dist-packages (from tensorflow) (1.15.0)\n",
            "Requirement already satisfied: opt-einsum>=2.3.2 in /usr/local/lib/python3.7/dist-packages (from tensorflow) (3.3.0)\n",
            "Requirement already satisfied: google-pasta>=0.1.1 in /usr/local/lib/python3.7/dist-packages (from tensorflow) (0.2.0)\n",
            "Requirement already satisfied: typing-extensions>=3.6.6 in /usr/local/lib/python3.7/dist-packages (from tensorflow) (4.2.0)\n",
            "Requirement already satisfied: gast>=0.2.1 in /usr/local/lib/python3.7/dist-packages (from tensorflow) (0.5.3)\n",
            "Requirement already satisfied: libclang>=9.0.1 in /usr/local/lib/python3.7/dist-packages (from tensorflow) (14.0.1)\n",
            "Requirement already satisfied: tensorflow-io-gcs-filesystem>=0.23.1 in /usr/local/lib/python3.7/dist-packages (from tensorflow) (0.26.0)\n",
            "Requirement already satisfied: wheel<1.0,>=0.23.0 in /usr/local/lib/python3.7/dist-packages (from astunparse>=1.6.0->tensorflow) (0.37.1)\n",
            "Requirement already satisfied: cached-property in /usr/local/lib/python3.7/dist-packages (from h5py>=2.9.0->tensorflow) (1.5.2)\n",
            "Requirement already satisfied: requests<3,>=2.21.0 in /usr/local/lib/python3.7/dist-packages (from tensorboard<2.9,>=2.8->tensorflow) (2.23.0)\n",
            "Requirement already satisfied: google-auth-oauthlib<0.5,>=0.4.1 in /usr/local/lib/python3.7/dist-packages (from tensorboard<2.9,>=2.8->tensorflow) (0.4.6)\n",
            "Requirement already satisfied: tensorboard-plugin-wit>=1.6.0 in /usr/local/lib/python3.7/dist-packages (from tensorboard<2.9,>=2.8->tensorflow) (1.8.1)\n",
            "Requirement already satisfied: werkzeug>=0.11.15 in /usr/local/lib/python3.7/dist-packages (from tensorboard<2.9,>=2.8->tensorflow) (1.0.1)\n",
            "Requirement already satisfied: google-auth<3,>=1.6.3 in /usr/local/lib/python3.7/dist-packages (from tensorboard<2.9,>=2.8->tensorflow) (1.35.0)\n",
            "Requirement already satisfied: markdown>=2.6.8 in /usr/local/lib/python3.7/dist-packages (from tensorboard<2.9,>=2.8->tensorflow) (3.3.7)\n",
            "Requirement already satisfied: tensorboard-data-server<0.7.0,>=0.6.0 in /usr/local/lib/python3.7/dist-packages (from tensorboard<2.9,>=2.8->tensorflow) (0.6.1)\n",
            "Requirement already satisfied: cachetools<5.0,>=2.0.0 in /usr/local/lib/python3.7/dist-packages (from google-auth<3,>=1.6.3->tensorboard<2.9,>=2.8->tensorflow) (4.2.4)\n",
            "Requirement already satisfied: pyasn1-modules>=0.2.1 in /usr/local/lib/python3.7/dist-packages (from google-auth<3,>=1.6.3->tensorboard<2.9,>=2.8->tensorflow) (0.2.8)\n",
            "Requirement already satisfied: rsa<5,>=3.1.4 in /usr/local/lib/python3.7/dist-packages (from google-auth<3,>=1.6.3->tensorboard<2.9,>=2.8->tensorflow) (4.8)\n",
            "Requirement already satisfied: requests-oauthlib>=0.7.0 in /usr/local/lib/python3.7/dist-packages (from google-auth-oauthlib<0.5,>=0.4.1->tensorboard<2.9,>=2.8->tensorflow) (1.3.1)\n",
            "Requirement already satisfied: importlib-metadata>=4.4 in /usr/local/lib/python3.7/dist-packages (from markdown>=2.6.8->tensorboard<2.9,>=2.8->tensorflow) (4.11.4)\n",
            "Requirement already satisfied: zipp>=0.5 in /usr/local/lib/python3.7/dist-packages (from importlib-metadata>=4.4->markdown>=2.6.8->tensorboard<2.9,>=2.8->tensorflow) (3.8.0)\n",
            "Requirement already satisfied: pyasn1<0.5.0,>=0.4.6 in /usr/local/lib/python3.7/dist-packages (from pyasn1-modules>=0.2.1->google-auth<3,>=1.6.3->tensorboard<2.9,>=2.8->tensorflow) (0.4.8)\n",
            "Requirement already satisfied: idna<3,>=2.5 in /usr/local/lib/python3.7/dist-packages (from requests<3,>=2.21.0->tensorboard<2.9,>=2.8->tensorflow) (2.10)\n",
            "Requirement already satisfied: certifi>=2017.4.17 in /usr/local/lib/python3.7/dist-packages (from requests<3,>=2.21.0->tensorboard<2.9,>=2.8->tensorflow) (2022.5.18.1)\n",
            "Requirement already satisfied: chardet<4,>=3.0.2 in /usr/local/lib/python3.7/dist-packages (from requests<3,>=2.21.0->tensorboard<2.9,>=2.8->tensorflow) (3.0.4)\n",
            "Requirement already satisfied: urllib3!=1.25.0,!=1.25.1,<1.26,>=1.21.1 in /usr/local/lib/python3.7/dist-packages (from requests<3,>=2.21.0->tensorboard<2.9,>=2.8->tensorflow) (1.24.3)\n",
            "Requirement already satisfied: oauthlib>=3.0.0 in /usr/local/lib/python3.7/dist-packages (from requests-oauthlib>=0.7.0->google-auth-oauthlib<0.5,>=0.4.1->tensorboard<2.9,>=2.8->tensorflow) (3.2.0)\n",
            "Requirement already satisfied: imageio<3.0,>=2.1.2 in /usr/local/lib/python3.7/dist-packages (from moviepy) (2.4.1)\n",
            "Requirement already satisfied: tqdm<5.0,>=4.11.2 in /usr/local/lib/python3.7/dist-packages (from moviepy) (4.64.0)\n",
            "Requirement already satisfied: decorator<5.0,>=4.0.2 in /usr/local/lib/python3.7/dist-packages (from moviepy) (4.4.2)\n",
            "Requirement already satisfied: pillow in /usr/local/lib/python3.7/dist-packages (from imageio<3.0,>=2.1.2->moviepy) (7.1.2)\n",
            "Requirement already satisfied: pyparsing>=2.1.4 in /usr/local/lib/python3.7/dist-packages (from pydot) (3.0.9)\n",
            "Installing collected packages: youtube-dl\n",
            "Successfully installed youtube-dl-2021.12.17\n",
            "Looking in indexes: https://pypi.org/simple, https://us-python.pkg.dev/colab-wheels/public/simple/\n",
            "Collecting pafy\n",
            "  Cloning https://github.com/TahaAnwar/pafy.git to /tmp/pip-install-rd8a7y7_/pafy_ff5be11d25c442efa2bc85fadaf5c3b4\n",
            "  Running command git clone -q https://github.com/TahaAnwar/pafy.git /tmp/pip-install-rd8a7y7_/pafy_ff5be11d25c442efa2bc85fadaf5c3b4\n",
            "Building wheels for collected packages: pafy\n",
            "  Building wheel for pafy (setup.py) ... \u001b[?25l\u001b[?25hdone\n",
            "  Created wheel for pafy: filename=pafy-0.5.5-py2.py3-none-any.whl size=35706 sha256=18c13eac70b114e5ce802ec02f776c95ffd18af26ab804b8dce5d31e40b88f5b\n",
            "  Stored in directory: /tmp/pip-ephem-wheel-cache-s6aeaxzc/wheels/64/82/dd/3d7823b3bbbe1aca9b30f8cf0d6bb6c1b72ccd95e3360f8190\n",
            "Successfully built pafy\n",
            "Installing collected packages: pafy\n",
            "Successfully installed pafy-0.5.5\n"
          ]
        }
      ],
      "source": [
        "# Discard the output of this cell.\n",
        "#%%capture\n",
        "\n",
        "# Install the required libraries.\n",
        "!pip install tensorflow opencv-contrib-python youtube-dl moviepy pydot\n",
        "!pip install git+https://github.com/TahaAnwar/pafy.git#egg=pafy"
      ]
    },
    {
      "cell_type": "code",
      "execution_count": 2,
      "metadata": {
        "colab": {
          "base_uri": "https://localhost:8080/"
        },
        "id": "773CUmldFLWW",
        "outputId": "d322a7c1-c34d-4bfe-e2a3-e328551c1261"
      },
      "outputs": [
        {
          "output_type": "stream",
          "name": "stdout",
          "text": [
            "Mounted at /content/drive\n"
          ]
        }
      ],
      "source": [
        "from google.colab import drive\n",
        "drive.mount('/content/drive')"
      ]
    },
    {
      "cell_type": "code",
      "execution_count": 3,
      "metadata": {
        "colab": {
          "base_uri": "https://localhost:8080/"
        },
        "id": "pI_Uxj54EZA-",
        "outputId": "8496e302-0540-41fa-886e-f574ac7a808e"
      },
      "outputs": [
        {
          "output_type": "stream",
          "name": "stdout",
          "text": [
            "Imageio: 'ffmpeg-linux64-v3.3.1' was not found on your computer; downloading it now.\n",
            "Try 1. Download from https://github.com/imageio/imageio-binaries/raw/master/ffmpeg/ffmpeg-linux64-v3.3.1 (43.8 MB)\n",
            "Downloading: 8192/45929032 bytes (0.0%)\b\b\b\b\b\b\b\b\b\b\b\b\b\b\b\b\b\b\b\b\b\b\b\b\b\b2236416/45929032 bytes (4.9%)\b\b\b\b\b\b\b\b\b\b\b\b\b\b\b\b\b\b\b\b\b\b\b\b\b\b\b\b\b5816320/45929032 bytes (12.7%)\b\b\b\b\b\b\b\b\b\b\b\b\b\b\b\b\b\b\b\b\b\b\b\b\b\b\b\b\b\b9371648/45929032 bytes (20.4%)\b\b\b\b\b\b\b\b\b\b\b\b\b\b\b\b\b\b\b\b\b\b\b\b\b\b\b\b\b\b13066240/45929032 bytes (28.4%)\b\b\b\b\b\b\b\b\b\b\b\b\b\b\b\b\b\b\b\b\b\b\b\b\b\b\b\b\b\b\b16654336/45929032 bytes (36.3%)\b\b\b\b\b\b\b\b\b\b\b\b\b\b\b\b\b\b\b\b\b\b\b\b\b\b\b\b\b\b\b20250624/45929032 bytes (44.1%)\b\b\b\b\b\b\b\b\b\b\b\b\b\b\b\b\b\b\b\b\b\b\b\b\b\b\b\b\b\b\b23863296/45929032 bytes (52.0%)\b\b\b\b\b\b\b\b\b\b\b\b\b\b\b\b\b\b\b\b\b\b\b\b\b\b\b\b\b\b\b27410432/45929032 bytes (59.7%)\b\b\b\b\b\b\b\b\b\b\b\b\b\b\b\b\b\b\b\b\b\b\b\b\b\b\b\b\b\b\b30965760/45929032 bytes (67.4%)\b\b\b\b\b\b\b\b\b\b\b\b\b\b\b\b\b\b\b\b\b\b\b\b\b\b\b\b\b\b\b34676736/45929032 bytes (75.5%)\b\b\b\b\b\b\b\b\b\b\b\b\b\b\b\b\b\b\b\b\b\b\b\b\b\b\b\b\b\b\b38191104/45929032 bytes (83.2%)\b\b\b\b\b\b\b\b\b\b\b\b\b\b\b\b\b\b\b\b\b\b\b\b\b\b\b\b\b\b\b41787392/45929032 bytes (91.0%)\b\b\b\b\b\b\b\b\b\b\b\b\b\b\b\b\b\b\b\b\b\b\b\b\b\b\b\b\b\b\b45498368/45929032 bytes (99.1%)\b\b\b\b\b\b\b\b\b\b\b\b\b\b\b\b\b\b\b\b\b\b\b\b\b\b\b\b\b\b\b45929032/45929032 bytes (100.0%)\n",
            "  Done\n",
            "File saved as /root/.imageio/ffmpeg/ffmpeg-linux64-v3.3.1.\n"
          ]
        }
      ],
      "source": [
        "# Import the required libraries.\n",
        "import os\n",
        "import cv2\n",
        "import pafy\n",
        "import math\n",
        "import random\n",
        "import numpy as np\n",
        "import datetime as dt\n",
        "import tensorflow as tf\n",
        "from collections import deque\n",
        "import matplotlib.pyplot as plt\n",
        "\n",
        "from moviepy.editor import *\n",
        "%matplotlib inline\n",
        "\n",
        "from sklearn.model_selection import train_test_split\n",
        "\n",
        "from tensorflow.keras.layers import *\n",
        "from tensorflow.keras.models import Sequential\n",
        "from tensorflow.keras.utils import to_categorical\n",
        "from tensorflow.keras.callbacks import EarlyStopping\n",
        "from tensorflow.keras.utils import plot_model"
      ]
    },
    {
      "cell_type": "code",
      "execution_count": 4,
      "metadata": {
        "id": "p_XR9N_KEd0h"
      },
      "outputs": [],
      "source": [
        "seed_constant = 27\n",
        "np.random.seed(seed_constant)\n",
        "random.seed(seed_constant)\n",
        "tf.random.set_seed(seed_constant)"
      ]
    },
    {
      "cell_type": "code",
      "execution_count": 5,
      "metadata": {
        "id": "SjdIu5iUEtFT"
      },
      "outputs": [],
      "source": [
        "# Specify the height and width to which each video frame will be resized in our dataset.\n",
        "IMAGE_HEIGHT , IMAGE_WIDTH = 64, 64\n",
        "\n",
        "# Specify the number of frames of a video that will be fed to the model as one sequence.\n",
        "SEQUENCE_LENGTH = 30\n",
        "\n",
        "# Specify the directory containing the UCF50 dataset. \n",
        "#DATASET_DIR = \"/content/drive/MyDrive/videospeechsong_label\"\n",
        "\n",
        "# Specify the list containing the names of the classes used for training. Feel free to choose any set of classes.\n",
        "CLASSES_LIST = [\"neutral\", \"calm\", \"happy\", \"sad\",\"angry\",\"fearful\"]"
      ]
    },
    {
      "cell_type": "code",
      "execution_count": 6,
      "metadata": {
        "id": "z1PugGDOFidu"
      },
      "outputs": [],
      "source": [
        "import joblib\n",
        "features = joblib.load('/content/drive/My Drive/features_ravdess/data_set/features_data')\n",
        "labels = joblib.load('/content/drive/MyDrive/features_ravdess/data_set/labels')\n",
        "video_files_paths = joblib.load('/content/drive/My Drive/features_ravdess/data_set/video_path')"
      ]
    },
    {
      "cell_type": "code",
      "execution_count": 7,
      "metadata": {
        "id": "AQLmPjgCf52M"
      },
      "outputs": [],
      "source": [
        "features = np.asarray(features)\n",
        "labels = np.array(labels)"
      ]
    },
    {
      "cell_type": "code",
      "execution_count": 8,
      "metadata": {
        "colab": {
          "base_uri": "https://localhost:8080/"
        },
        "id": "MU9jM0FlE-aH",
        "outputId": "9e6f4c88-a559-4273-bee0-538cbe3cb7cc"
      },
      "outputs": [
        {
          "output_type": "execute_result",
          "data": {
            "text/plain": [
              "(2067, 30, 64, 64, 3)"
            ]
          },
          "metadata": {},
          "execution_count": 8
        }
      ],
      "source": [
        "features.shape"
      ]
    },
    {
      "cell_type": "code",
      "execution_count": 9,
      "metadata": {
        "id": "yXZWmUYXE_YJ"
      },
      "outputs": [],
      "source": [
        "# Using Keras's to_categorical method to convert labels into one-hot-encoded vectors\n",
        "one_hot_encoded_labels = to_categorical(labels)"
      ]
    },
    {
      "cell_type": "code",
      "execution_count": 10,
      "metadata": {
        "id": "h3LFmAqnFBdu"
      },
      "outputs": [],
      "source": [
        "\n",
        "# Split the Data into Train ( 80% ) and Test Set ( 20% ).\n",
        "features_train, features_test, labels_train, labels_test = train_test_split(features, one_hot_encoded_labels,\n",
        "                                                                            test_size = 0.10, shuffle = True,\n",
        "                                                                            random_state = seed_constant)"
      ]
    },
    {
      "cell_type": "code",
      "execution_count": 11,
      "metadata": {
        "id": "4WmDntbuFEzc"
      },
      "outputs": [],
      "source": [
        "def create_LRCN_model():\n",
        "    '''\n",
        "    This function will construct the required LRCN model.\n",
        "    Returns:\n",
        "        model: It is the required constructed LRCN model.\n",
        "    '''\n",
        "\n",
        "    # We will use a Sequential model for model construction.\n",
        "    model = Sequential()\n",
        "   \n",
        "    # Define the Model Architecture.\n",
        "    ########################################################################################################################\n",
        "    \n",
        "    model.add(TimeDistributed(Conv2D(16, (5, 5), padding='same'),\n",
        "                              input_shape = (SEQUENCE_LENGTH, IMAGE_HEIGHT, IMAGE_WIDTH, 3)))\n",
        "    model.add(TimeDistributed(BatchNormalization()))\n",
        "    model.add(TimeDistributed(Activation('relu')))\n",
        "    model.add(TimeDistributed(MaxPooling2D((4, 4)))) \n",
        "    model.add(TimeDistributed(Dropout(0.1)))\n",
        "    \n",
        "    model.add(TimeDistributed(Conv2D(32, (5, 5), padding='same')))\n",
        "    model.add(TimeDistributed(BatchNormalization()))\n",
        "    model.add(TimeDistributed(Activation('relu')))\n",
        "    model.add(TimeDistributed(MaxPooling2D((4, 4))))\n",
        "    model.add(TimeDistributed(Dropout(0.2)))\n",
        "    \n",
        "    model.add(TimeDistributed(Conv2D(64, (5, 5), padding='same')))\n",
        "    model.add(TimeDistributed(BatchNormalization()))\n",
        "    model.add(TimeDistributed(Activation('relu')))\n",
        "    model.add(TimeDistributed(MaxPooling2D((2, 2))))\n",
        "    model.add(TimeDistributed(Dropout(0.3)))\n",
        "    \n",
        "    model.add(TimeDistributed(Conv2D(64, (5, 5), padding='same')))\n",
        "    model.add(TimeDistributed(BatchNormalization()))\n",
        "    model.add(TimeDistributed(Activation('relu')))\n",
        "    model.add(TimeDistributed(MaxPooling2D((2, 2))))\n",
        "    #model.add(TimeDistributed(Dropout(0.25)))\n",
        "                                      \n",
        "    model.add(TimeDistributed(Flatten()))\n",
        "                                      \n",
        "    model.add(LSTM(64))\n",
        "                                      \n",
        "    model.add(Dense(len(CLASSES_LIST), activation = 'softmax'))\n",
        "\n",
        "    ########################################################################################################################\n",
        "\n",
        "    # Display the models summary.\n",
        "    model.summary()\n",
        "    \n",
        "    # Return the constructed LRCN model.\n",
        "    return model"
      ]
    },
    {
      "cell_type": "code",
      "execution_count": 12,
      "metadata": {
        "colab": {
          "base_uri": "https://localhost:8080/"
        },
        "id": "2Mjr6pjzFOkd",
        "outputId": "0f7f6ca0-3347-4015-b809-d05100d5b830"
      },
      "outputs": [
        {
          "output_type": "stream",
          "name": "stdout",
          "text": [
            "Model: \"sequential\"\n",
            "_________________________________________________________________\n",
            " Layer (type)                Output Shape              Param #   \n",
            "=================================================================\n",
            " time_distributed (TimeDistr  (None, 30, 64, 64, 16)   1216      \n",
            " ibuted)                                                         \n",
            "                                                                 \n",
            " time_distributed_1 (TimeDis  (None, 30, 64, 64, 16)   64        \n",
            " tributed)                                                       \n",
            "                                                                 \n",
            " time_distributed_2 (TimeDis  (None, 30, 64, 64, 16)   0         \n",
            " tributed)                                                       \n",
            "                                                                 \n",
            " time_distributed_3 (TimeDis  (None, 30, 16, 16, 16)   0         \n",
            " tributed)                                                       \n",
            "                                                                 \n",
            " time_distributed_4 (TimeDis  (None, 30, 16, 16, 16)   0         \n",
            " tributed)                                                       \n",
            "                                                                 \n",
            " time_distributed_5 (TimeDis  (None, 30, 16, 16, 32)   12832     \n",
            " tributed)                                                       \n",
            "                                                                 \n",
            " time_distributed_6 (TimeDis  (None, 30, 16, 16, 32)   128       \n",
            " tributed)                                                       \n",
            "                                                                 \n",
            " time_distributed_7 (TimeDis  (None, 30, 16, 16, 32)   0         \n",
            " tributed)                                                       \n",
            "                                                                 \n",
            " time_distributed_8 (TimeDis  (None, 30, 4, 4, 32)     0         \n",
            " tributed)                                                       \n",
            "                                                                 \n",
            " time_distributed_9 (TimeDis  (None, 30, 4, 4, 32)     0         \n",
            " tributed)                                                       \n",
            "                                                                 \n",
            " time_distributed_10 (TimeDi  (None, 30, 4, 4, 64)     51264     \n",
            " stributed)                                                      \n",
            "                                                                 \n",
            " time_distributed_11 (TimeDi  (None, 30, 4, 4, 64)     256       \n",
            " stributed)                                                      \n",
            "                                                                 \n",
            " time_distributed_12 (TimeDi  (None, 30, 4, 4, 64)     0         \n",
            " stributed)                                                      \n",
            "                                                                 \n",
            " time_distributed_13 (TimeDi  (None, 30, 2, 2, 64)     0         \n",
            " stributed)                                                      \n",
            "                                                                 \n",
            " time_distributed_14 (TimeDi  (None, 30, 2, 2, 64)     0         \n",
            " stributed)                                                      \n",
            "                                                                 \n",
            " time_distributed_15 (TimeDi  (None, 30, 2, 2, 64)     102464    \n",
            " stributed)                                                      \n",
            "                                                                 \n",
            " time_distributed_16 (TimeDi  (None, 30, 2, 2, 64)     256       \n",
            " stributed)                                                      \n",
            "                                                                 \n",
            " time_distributed_17 (TimeDi  (None, 30, 2, 2, 64)     0         \n",
            " stributed)                                                      \n",
            "                                                                 \n",
            " time_distributed_18 (TimeDi  (None, 30, 1, 1, 64)     0         \n",
            " stributed)                                                      \n",
            "                                                                 \n",
            " time_distributed_19 (TimeDi  (None, 30, 64)           0         \n",
            " stributed)                                                      \n",
            "                                                                 \n",
            " lstm (LSTM)                 (None, 64)                33024     \n",
            "                                                                 \n",
            " dense (Dense)               (None, 6)                 390       \n",
            "                                                                 \n",
            "=================================================================\n",
            "Total params: 201,894\n",
            "Trainable params: 201,542\n",
            "Non-trainable params: 352\n",
            "_________________________________________________________________\n",
            "Model Created Successfully!\n"
          ]
        }
      ],
      "source": [
        "# Construct the required LRCN model.\n",
        "LRCN_model = create_LRCN_model()\n",
        "\n",
        "# Display the success message.\n",
        "print(\"Model Created Successfully!\")\n"
      ]
    },
    {
      "cell_type": "code",
      "execution_count": 13,
      "metadata": {
        "colab": {
          "base_uri": "https://localhost:8080/"
        },
        "id": "dvXcqO0TFRzR",
        "outputId": "07ef3f13-e984-46d9-a590-175c2d18f1f8"
      },
      "outputs": [
        {
          "output_type": "stream",
          "name": "stdout",
          "text": [
            "Epoch 1/100\n",
            "419/419 [==============================] - 23s 20ms/step - loss: 1.6172 - accuracy: 0.3100 - val_loss: 1.6871 - val_accuracy: 0.3280\n",
            "Epoch 2/100\n",
            "419/419 [==============================] - 7s 17ms/step - loss: 1.2333 - accuracy: 0.4624 - val_loss: 2.7166 - val_accuracy: 0.2849\n",
            "Epoch 3/100\n",
            "419/419 [==============================] - 7s 17ms/step - loss: 1.1017 - accuracy: 0.5179 - val_loss: 1.9716 - val_accuracy: 0.3065\n",
            "Epoch 4/100\n",
            "419/419 [==============================] - 7s 17ms/step - loss: 1.0189 - accuracy: 0.5615 - val_loss: 1.9164 - val_accuracy: 0.4032\n",
            "Epoch 5/100\n",
            "419/419 [==============================] - 7s 17ms/step - loss: 0.9322 - accuracy: 0.6195 - val_loss: 0.8057 - val_accuracy: 0.6398\n",
            "Epoch 6/100\n",
            "419/419 [==============================] - 7s 17ms/step - loss: 0.8636 - accuracy: 0.6404 - val_loss: 1.1003 - val_accuracy: 0.5538\n",
            "Epoch 7/100\n",
            "419/419 [==============================] - 7s 17ms/step - loss: 0.8123 - accuracy: 0.6697 - val_loss: 0.8453 - val_accuracy: 0.6774\n",
            "Epoch 8/100\n",
            "419/419 [==============================] - 7s 17ms/step - loss: 0.7612 - accuracy: 0.6888 - val_loss: 0.8533 - val_accuracy: 0.6237\n",
            "Epoch 9/100\n",
            "419/419 [==============================] - 7s 17ms/step - loss: 0.7083 - accuracy: 0.7174 - val_loss: 1.0804 - val_accuracy: 0.6075\n",
            "Epoch 10/100\n",
            "419/419 [==============================] - 7s 17ms/step - loss: 0.6314 - accuracy: 0.7551 - val_loss: 0.6729 - val_accuracy: 0.7366\n",
            "Epoch 11/100\n",
            "419/419 [==============================] - 7s 17ms/step - loss: 0.5930 - accuracy: 0.7712 - val_loss: 0.6875 - val_accuracy: 0.7097\n",
            "Epoch 12/100\n",
            "419/419 [==============================] - 7s 17ms/step - loss: 0.5253 - accuracy: 0.7981 - val_loss: 1.0376 - val_accuracy: 0.6237\n",
            "Epoch 13/100\n",
            "419/419 [==============================] - 7s 17ms/step - loss: 0.4821 - accuracy: 0.8232 - val_loss: 0.7921 - val_accuracy: 0.7366\n",
            "Epoch 14/100\n",
            "419/419 [==============================] - 7s 17ms/step - loss: 0.4698 - accuracy: 0.8315 - val_loss: 0.9377 - val_accuracy: 0.7312\n",
            "Epoch 15/100\n",
            "419/419 [==============================] - 7s 17ms/step - loss: 0.3884 - accuracy: 0.8590 - val_loss: 0.9329 - val_accuracy: 0.7258\n",
            "Epoch 16/100\n",
            "419/419 [==============================] - 7s 17ms/step - loss: 0.3618 - accuracy: 0.8781 - val_loss: 0.4094 - val_accuracy: 0.8495\n",
            "Epoch 17/100\n",
            "419/419 [==============================] - 7s 17ms/step - loss: 0.2989 - accuracy: 0.8955 - val_loss: 0.7972 - val_accuracy: 0.7473\n",
            "Epoch 18/100\n",
            "419/419 [==============================] - 7s 17ms/step - loss: 0.2838 - accuracy: 0.8883 - val_loss: 0.4623 - val_accuracy: 0.8387\n",
            "Epoch 19/100\n",
            "419/419 [==============================] - 7s 17ms/step - loss: 0.2861 - accuracy: 0.8961 - val_loss: 0.6049 - val_accuracy: 0.8172\n",
            "Epoch 20/100\n",
            "419/419 [==============================] - 7s 17ms/step - loss: 0.2696 - accuracy: 0.9002 - val_loss: 0.2985 - val_accuracy: 0.9086\n",
            "Epoch 21/100\n",
            "419/419 [==============================] - 7s 17ms/step - loss: 0.2561 - accuracy: 0.9086 - val_loss: 0.5531 - val_accuracy: 0.8441\n",
            "Epoch 22/100\n",
            "419/419 [==============================] - 7s 17ms/step - loss: 0.2308 - accuracy: 0.9086 - val_loss: 0.3307 - val_accuracy: 0.9032\n",
            "Epoch 23/100\n",
            "419/419 [==============================] - 7s 17ms/step - loss: 0.1843 - accuracy: 0.9319 - val_loss: 0.7886 - val_accuracy: 0.7903\n",
            "Epoch 24/100\n",
            "419/419 [==============================] - 7s 17ms/step - loss: 0.1939 - accuracy: 0.9313 - val_loss: 0.4347 - val_accuracy: 0.8710\n",
            "Epoch 25/100\n",
            "419/419 [==============================] - 7s 17ms/step - loss: 0.1929 - accuracy: 0.9259 - val_loss: 0.3566 - val_accuracy: 0.8656\n",
            "Epoch 26/100\n",
            "419/419 [==============================] - 7s 17ms/step - loss: 0.1440 - accuracy: 0.9480 - val_loss: 0.5502 - val_accuracy: 0.8387\n",
            "Epoch 27/100\n",
            "419/419 [==============================] - 7s 17ms/step - loss: 0.2112 - accuracy: 0.9229 - val_loss: 0.3593 - val_accuracy: 0.9086\n",
            "Epoch 28/100\n",
            "419/419 [==============================] - 7s 17ms/step - loss: 0.1447 - accuracy: 0.9498 - val_loss: 0.3711 - val_accuracy: 0.9032\n",
            "Epoch 29/100\n",
            "419/419 [==============================] - 7s 17ms/step - loss: 0.1448 - accuracy: 0.9504 - val_loss: 0.2116 - val_accuracy: 0.9247\n",
            "Epoch 30/100\n",
            "419/419 [==============================] - 7s 17ms/step - loss: 0.1489 - accuracy: 0.9510 - val_loss: 0.3135 - val_accuracy: 0.9140\n",
            "Epoch 31/100\n",
            "419/419 [==============================] - 7s 17ms/step - loss: 0.1263 - accuracy: 0.9606 - val_loss: 0.2736 - val_accuracy: 0.9247\n",
            "Epoch 32/100\n",
            "419/419 [==============================] - 7s 17ms/step - loss: 0.1431 - accuracy: 0.9498 - val_loss: 0.2629 - val_accuracy: 0.9086\n",
            "Epoch 33/100\n",
            "419/419 [==============================] - 7s 17ms/step - loss: 0.1646 - accuracy: 0.9385 - val_loss: 0.3128 - val_accuracy: 0.8871\n",
            "Epoch 34/100\n",
            "419/419 [==============================] - 7s 17ms/step - loss: 0.1186 - accuracy: 0.9636 - val_loss: 0.4132 - val_accuracy: 0.8495\n",
            "Epoch 35/100\n",
            "419/419 [==============================] - 7s 17ms/step - loss: 0.1257 - accuracy: 0.9600 - val_loss: 0.2785 - val_accuracy: 0.9194\n",
            "Epoch 36/100\n",
            "419/419 [==============================] - 7s 17ms/step - loss: 0.0819 - accuracy: 0.9725 - val_loss: 0.3546 - val_accuracy: 0.9032\n",
            "Epoch 37/100\n",
            "419/419 [==============================] - 7s 17ms/step - loss: 0.1096 - accuracy: 0.9576 - val_loss: 0.5206 - val_accuracy: 0.8710\n",
            "Epoch 38/100\n",
            "419/419 [==============================] - 7s 17ms/step - loss: 0.1214 - accuracy: 0.9546 - val_loss: 0.3379 - val_accuracy: 0.9086\n",
            "Epoch 39/100\n",
            "419/419 [==============================] - 7s 17ms/step - loss: 0.0922 - accuracy: 0.9713 - val_loss: 0.1342 - val_accuracy: 0.9570\n",
            "Epoch 40/100\n",
            "419/419 [==============================] - 7s 17ms/step - loss: 0.0947 - accuracy: 0.9713 - val_loss: 0.2524 - val_accuracy: 0.9194\n",
            "Epoch 41/100\n",
            "419/419 [==============================] - 7s 17ms/step - loss: 0.0926 - accuracy: 0.9713 - val_loss: 0.4911 - val_accuracy: 0.8602\n",
            "Epoch 42/100\n",
            "419/419 [==============================] - 7s 17ms/step - loss: 0.0821 - accuracy: 0.9749 - val_loss: 0.3687 - val_accuracy: 0.9032\n",
            "Epoch 43/100\n",
            "419/419 [==============================] - 7s 16ms/step - loss: 0.1036 - accuracy: 0.9618 - val_loss: 0.2270 - val_accuracy: 0.9301\n",
            "Epoch 44/100\n",
            "419/419 [==============================] - 7s 16ms/step - loss: 0.0884 - accuracy: 0.9689 - val_loss: 0.4656 - val_accuracy: 0.8656\n",
            "Epoch 45/100\n",
            "419/419 [==============================] - 7s 16ms/step - loss: 0.1217 - accuracy: 0.9588 - val_loss: 0.2311 - val_accuracy: 0.9301\n",
            "Epoch 46/100\n",
            "419/419 [==============================] - 7s 16ms/step - loss: 0.0809 - accuracy: 0.9737 - val_loss: 0.2188 - val_accuracy: 0.9516\n",
            "Epoch 47/100\n",
            "419/419 [==============================] - 7s 16ms/step - loss: 0.0715 - accuracy: 0.9701 - val_loss: 0.4091 - val_accuracy: 0.8871\n",
            "Epoch 48/100\n",
            "419/419 [==============================] - 7s 17ms/step - loss: 0.0609 - accuracy: 0.9791 - val_loss: 0.2658 - val_accuracy: 0.9247\n",
            "Epoch 49/100\n",
            "419/419 [==============================] - 7s 17ms/step - loss: 0.1004 - accuracy: 0.9659 - val_loss: 0.3658 - val_accuracy: 0.8871\n",
            "Epoch 50/100\n",
            "419/419 [==============================] - 7s 17ms/step - loss: 0.0843 - accuracy: 0.9689 - val_loss: 0.2365 - val_accuracy: 0.9409\n",
            "Epoch 51/100\n",
            "419/419 [==============================] - 7s 17ms/step - loss: 0.0990 - accuracy: 0.9671 - val_loss: 0.2352 - val_accuracy: 0.9194\n",
            "Epoch 52/100\n",
            "419/419 [==============================] - 7s 17ms/step - loss: 0.0475 - accuracy: 0.9833 - val_loss: 0.1586 - val_accuracy: 0.9570\n",
            "Epoch 53/100\n",
            "419/419 [==============================] - 7s 17ms/step - loss: 0.0476 - accuracy: 0.9863 - val_loss: 0.3072 - val_accuracy: 0.9194\n",
            "Epoch 54/100\n",
            "419/419 [==============================] - 7s 17ms/step - loss: 0.0544 - accuracy: 0.9821 - val_loss: 0.2125 - val_accuracy: 0.9409\n",
            "Epoch 55/100\n",
            "419/419 [==============================] - 7s 17ms/step - loss: 0.0471 - accuracy: 0.9857 - val_loss: 0.2364 - val_accuracy: 0.9409\n",
            "Epoch 56/100\n",
            "419/419 [==============================] - 7s 17ms/step - loss: 0.0636 - accuracy: 0.9773 - val_loss: 0.6075 - val_accuracy: 0.8495\n",
            "Epoch 57/100\n",
            "419/419 [==============================] - 7s 17ms/step - loss: 0.0861 - accuracy: 0.9677 - val_loss: 0.2008 - val_accuracy: 0.9516\n",
            "Epoch 58/100\n",
            "419/419 [==============================] - 7s 17ms/step - loss: 0.0445 - accuracy: 0.9892 - val_loss: 0.1927 - val_accuracy: 0.9570\n",
            "Epoch 59/100\n",
            "419/419 [==============================] - 7s 17ms/step - loss: 0.0898 - accuracy: 0.9737 - val_loss: 0.6862 - val_accuracy: 0.8333\n",
            "Epoch 60/100\n",
            "419/419 [==============================] - 7s 17ms/step - loss: 0.0762 - accuracy: 0.9725 - val_loss: 0.2053 - val_accuracy: 0.9462\n",
            "Epoch 61/100\n",
            "419/419 [==============================] - 7s 17ms/step - loss: 0.0471 - accuracy: 0.9845 - val_loss: 0.2135 - val_accuracy: 0.9409\n",
            "Epoch 62/100\n",
            "419/419 [==============================] - 7s 17ms/step - loss: 0.0617 - accuracy: 0.9779 - val_loss: 0.4488 - val_accuracy: 0.8925\n",
            "Epoch 63/100\n",
            "419/419 [==============================] - 7s 17ms/step - loss: 0.0505 - accuracy: 0.9869 - val_loss: 0.6054 - val_accuracy: 0.8602\n",
            "Epoch 64/100\n",
            "419/419 [==============================] - 7s 17ms/step - loss: 0.0630 - accuracy: 0.9773 - val_loss: 0.3169 - val_accuracy: 0.9140\n"
          ]
        }
      ],
      "source": [
        "# Create an Instance of Early Stopping Callback.\n",
        "early_stopping_callback = EarlyStopping(monitor = 'val_loss', patience = 25, mode = 'min', restore_best_weights = True)\n",
        " \n",
        "# Compile the model and specify loss function, optimizer and metrics to the model.\n",
        "LRCN_model.compile(loss = 'categorical_crossentropy', optimizer = 'Adam', metrics = [\"accuracy\"])\n",
        "\n",
        "# Start training the model.\n",
        "LRCN_model_training_history = LRCN_model.fit(x = features_train, y = labels_train, epochs = 100, batch_size = 4 ,\n",
        "                                             shuffle = True, validation_split = 0.1, callbacks = [early_stopping_callback])"
      ]
    },
    {
      "cell_type": "code",
      "execution_count": 14,
      "metadata": {
        "colab": {
          "base_uri": "https://localhost:8080/"
        },
        "id": "2UP4-H_oF4TZ",
        "outputId": "738d6de0-cdfc-410e-a933-aad6b51b2993"
      },
      "outputs": [
        {
          "output_type": "stream",
          "name": "stdout",
          "text": [
            "7/7 [==============================] - 1s 40ms/step - loss: 0.2423 - accuracy: 0.9130\n"
          ]
        }
      ],
      "source": [
        "# Evaluate the trained model.\n",
        "model_evaluation_history = LRCN_model.evaluate(features_test, labels_test)"
      ]
    },
    {
      "cell_type": "code",
      "execution_count": null,
      "metadata": {
        "id": "ZQFzvcgbF73v"
      },
      "outputs": [],
      "source": [
        "# Get the loss and accuracy from model_evaluation_history.\n",
        "model_evaluation_loss, model_evaluation_accuracy = model_evaluation_history\n",
        "\n",
        "# Define the string date format.\n",
        "# Get the current Date and Time in a DateTime Object.\n",
        "# Convert the DateTime object to string according to the style mentioned in date_time_format string.\n",
        "date_time_format = '%Y_%m_%d__%H_%M_%S'\n",
        "current_date_time_dt = dt.datetime.now()\n",
        "current_date_time_string = dt.datetime.strftime(current_date_time_dt, date_time_format)\n",
        "    \n",
        "# Define a useful name for our model to make it easy for us while navigating through multiple saved models.\n",
        "model_file_name = f'LRCN_model___Date_Time_{current_date_time_string}___Loss_{model_evaluation_loss}___Accuracy_{model_evaluation_accuracy}.h5'\n",
        "\n",
        "# Save the Model.\n",
        "LRCN_model.save(model_file_name)"
      ]
    },
    {
      "cell_type": "code",
      "execution_count": 15,
      "metadata": {
        "id": "f6YHM7o_F-LU"
      },
      "outputs": [],
      "source": [
        "def plot_metric(model_training_history, metric_name_1, metric_name_2, plot_name):\n",
        "    '''\n",
        "    This function will plot the metrics passed to it in a graph.\n",
        "    Args:\n",
        "        model_training_history: A history object containing a record of training and validation \n",
        "                                loss values and metrics values at successive epochs\n",
        "        metric_name_1:          The name of the first metric that needs to be plotted in the graph.\n",
        "        metric_name_2:          The name of the second metric that needs to be plotted in the graph.\n",
        "        plot_name:              The title of the graph.\n",
        "    '''\n",
        "    \n",
        "    # Get metric values using metric names as identifiers.\n",
        "    metric_value_1 = model_training_history.history[metric_name_1]\n",
        "    metric_value_2 = model_training_history.history[metric_name_2]\n",
        "    \n",
        "    # Construct a range object which will be used as x-axis (horizontal plane) of the graph.\n",
        "    epochs = range(len(metric_value_1))\n",
        "\n",
        "    # Plot the Graph.\n",
        "    plt.plot(epochs, metric_value_1, 'blue', label = metric_name_1)\n",
        "    plt.plot(epochs, metric_value_2, 'red', label = metric_name_2)\n",
        "\n",
        "    # Add title to the plot.\n",
        "    plt.title(str(plot_name))\n",
        "\n",
        "    # Add legend to the plot.\n",
        "    plt.legend()"
      ]
    },
    {
      "cell_type": "code",
      "execution_count": 16,
      "metadata": {
        "colab": {
          "base_uri": "https://localhost:8080/",
          "height": 281
        },
        "id": "3V346_N6GAKN",
        "outputId": "4fae69aa-8d84-49e5-f2c6-31c55c041f53"
      },
      "outputs": [
        {
          "output_type": "display_data",
          "data": {
            "text/plain": [
              "<Figure size 432x288 with 1 Axes>"
            ],
            "image/png": "[encoded data removed]"
          },
          "metadata": {
            "needs_background": "light"
          }
        }
      ],
      "source": [
        "# Visualize the training and validation loss metrices.\n",
        "plot_metric(LRCN_model_training_history, 'loss', 'val_loss', 'Total Loss vs Total Validation Loss')"
      ]
    },
    {
      "cell_type": "code",
      "execution_count": 17,
      "metadata": {
        "colab": {
          "base_uri": "https://localhost:8080/",
          "height": 281
        },
        "id": "K-2dqoIFGCZl",
        "outputId": "c4c56073-4581-4eb3-9d26-53351be7941e"
      },
      "outputs": [
        {
          "output_type": "display_data",
          "data": {
            "text/plain": [
              "<Figure size 432x288 with 1 Axes>"
            ],
            "image/png": "[encoded data removed]"
          },
          "metadata": {
            "needs_background": "light"
          }
        }
      ],
      "source": [
        "# Visualize the training and validation accuracy metrices.\n",
        "plot_metric(LRCN_model_training_history, 'accuracy', 'val_accuracy', 'Total Accuracy vs Total Validation Accuracy')"
      ]
    },
    {
      "cell_type": "code",
      "execution_count": 19,
      "metadata": {
        "colab": {
          "base_uri": "https://localhost:8080/"
        },
        "id": "UIQGDtkcGGu0",
        "outputId": "a16a5be8-b067-407e-abf6-5243ee5511da"
      },
      "outputs": [
        {
          "output_type": "execute_result",
          "data": {
            "text/plain": [
              "array([[8.3404315e-01, 1.2411269e-02, 5.9493239e-05, 1.4562708e-01,\n",
              "        4.9816361e-03, 2.8773523e-03],\n",
              "       [8.2623085e-04, 4.2704814e-03, 1.7042206e-04, 9.6844345e-01,\n",
              "        3.2984936e-03, 2.2990957e-02],\n",
              "       [9.6183747e-08, 2.0176914e-05, 9.9992359e-01, 1.2835941e-06,\n",
              "        1.9585197e-05, 3.5261324e-05],\n",
              "       ...,\n",
              "       [1.1665504e-05, 3.0081772e-04, 3.0991963e-05, 6.5281900e-04,\n",
              "        9.9407417e-01, 4.9295556e-03],\n",
              "       [6.2852814e-07, 2.9945952e-05, 1.2531692e-04, 2.0631378e-04,\n",
              "        9.6057802e-01, 3.9059725e-02],\n",
              "       [4.0394231e-04, 9.9796742e-01, 1.0382658e-03, 4.8830640e-04,\n",
              "        8.8909816e-05, 1.3174784e-05]], dtype=float32)"
            ]
          },
          "metadata": {},
          "execution_count": 19
        }
      ],
      "source": [
        "predictions =  LRCN_model.predict(features_test)\n",
        "predictions"
      ]
    },
    {
      "cell_type": "code",
      "execution_count": 20,
      "metadata": {
        "colab": {
          "base_uri": "https://localhost:8080/"
        },
        "id": "E7smnX9oGMly",
        "outputId": "7ad3da9a-dd9d-4f1b-f30f-4534f735af2e"
      },
      "outputs": [
        {
          "output_type": "execute_result",
          "data": {
            "text/plain": [
              "array([0, 3, 2, 5, 5, 2, 5, 1, 4, 0, 3, 1, 4, 0, 4, 5, 4, 1, 1, 1, 5, 2,\n",
              "       0, 2, 2, 5, 3, 5, 5, 5, 5, 4, 5, 0, 2, 2, 4, 1, 5, 4, 2, 2, 1, 5,\n",
              "       2, 1, 5, 5, 5, 5, 4, 2, 1, 4, 3, 0, 5, 0, 2, 5, 4, 4, 5, 0, 0, 3,\n",
              "       2, 0, 5, 1, 1, 2, 3, 3, 5, 4, 0, 3, 4, 4, 3, 4, 4, 0, 5, 1, 2, 3,\n",
              "       3, 5, 5, 1, 0, 1, 5, 5, 1, 2, 5, 3, 4, 3, 3, 5, 4, 5, 2, 1, 4, 1,\n",
              "       5, 2, 0, 1, 4, 0, 4, 1, 1, 1, 1, 5, 3, 4, 1, 2, 3, 2, 5, 1, 2, 0,\n",
              "       1, 5, 1, 0, 5, 0, 1, 2, 2, 1, 2, 3, 1, 2, 3, 0, 0, 3, 2, 3, 5, 3,\n",
              "       1, 2, 1, 5, 0, 0, 1, 3, 3, 2, 4, 1, 3, 0, 5, 4, 4, 3, 1, 5, 3, 1,\n",
              "       5, 0, 4, 5, 4, 0, 0, 5, 3, 3, 1, 3, 3, 4, 1, 4, 1, 1, 4, 2, 3, 1,\n",
              "       4, 5, 3, 2, 5, 2, 4, 4, 1])"
            ]
          },
          "metadata": {},
          "execution_count": 20
        }
      ],
      "source": [
        "preds=predictions.argmax(axis=1)\n",
        "preds"
      ]
    },
    {
      "cell_type": "code",
      "execution_count": 21,
      "metadata": {
        "colab": {
          "base_uri": "https://localhost:8080/"
        },
        "id": "DvrDaZw2GPHK",
        "outputId": "89e57346-a7bf-4077-898e-b283b99aec23"
      },
      "outputs": [
        {
          "output_type": "execute_result",
          "data": {
            "text/plain": [
              "array([0, 3, 2, 5, 5, 2, 5, 1, 4, 0, 3, 1, 4, 0, 4, 5, 4, 1, 1, 1, 5, 2,\n",
              "       0, 2, 2, 5, 3, 5, 5, 5, 5, 4, 5, 0, 2, 2, 4, 1, 5, 4, 2, 2, 1, 5,\n",
              "       2, 1, 5, 5, 5, 5, 4, 2, 1, 4, 3, 0, 5, 0, 2, 5, 4, 4, 5, 0, 0, 3,\n",
              "       2, 0, 5, 1, 1, 2, 3, 3, 5, 4, 0, 3, 4, 4, 3, 4, 4, 0, 5, 1, 2, 3,\n",
              "       3, 5, 5, 1, 0, 1, 5, 5, 1, 2, 5, 3, 4, 3, 3, 5, 4, 5, 2, 1, 4, 1,\n",
              "       5, 2, 0, 1, 4, 0, 4, 1, 1, 1, 1, 5, 3, 4, 1, 2, 3, 2, 5, 1, 2, 0,\n",
              "       1, 5, 1, 0, 5, 0, 1, 2, 2, 1, 2, 3, 1, 2, 3, 0, 0, 3, 2, 3, 5, 3,\n",
              "       1, 2, 1, 5, 0, 0, 1, 3, 3, 2, 4, 1, 3, 0, 5, 4, 4, 3, 1, 5, 3, 1,\n",
              "       5, 0, 4, 5, 4, 0, 0, 5, 3, 3, 1, 3, 3, 4, 1, 4, 1, 1, 4, 2, 3, 1,\n",
              "       4, 5, 3, 2, 5, 2, 4, 4, 1])"
            ]
          },
          "metadata": {},
          "execution_count": 21
        }
      ],
      "source": [
        "new_preds = preds.astype(int).flatten()\n",
        "new_preds"
      ]
    },
    {
      "cell_type": "code",
      "execution_count": 22,
      "metadata": {
        "colab": {
          "base_uri": "https://localhost:8080/",
          "height": 512
        },
        "id": "7p7e1ihVGSke",
        "outputId": "142a730c-e73f-4086-e252-0eb381b1ea3f"
      },
      "outputs": [
        {
          "output_type": "stream",
          "name": "stdout",
          "text": [
            "              precision    recall  f1-score   support\n",
            "\n",
            "           0       0.92      0.89      0.91        27\n",
            "           1       0.98      0.91      0.94        44\n",
            "           2       0.94      0.97      0.95        30\n",
            "           3       0.88      0.82      0.85        34\n",
            "           4       0.97      0.94      0.96        34\n",
            "           5       0.82      0.95      0.88        38\n",
            "\n",
            "    accuracy                           0.91       207\n",
            "   macro avg       0.92      0.91      0.91       207\n",
            "weighted avg       0.92      0.91      0.91       207\n",
            "\n",
            "----accuracy score 91.30434782608695 ----\n"
          ]
        },
        {
          "output_type": "display_data",
          "data": {
            "text/plain": [
              "<Figure size 432x288 with 2 Axes>"
            ],
            "image/png": "[encoded data removed]"
          },
          "metadata": {
            "needs_background": "light"
          }
        }
      ],
      "source": [
        "from sklearn.metrics import classification_report, confusion_matrix,accuracy_score\n",
        "import seaborn as sn\n",
        "import pandas as pd\n",
        "import numpy as np\n",
        "new_labels=np.argmax(labels_test, axis=1)\n",
        "print(classification_report(new_labels,new_preds))\n",
        "\n",
        "acc = float(accuracy_score(new_labels,new_preds))*100\n",
        "print(\"----accuracy score %s ----\" % acc)\n",
        "\n",
        "cm = confusion_matrix(new_labels,new_preds)\n",
        "#df_cm = pd.DataFrame(cm)\n",
        "class_names = ['neutral','calm', 'happy','sad','angry', 'fearful' ]\n",
        "df_cm = pd.DataFrame(cm, index=class_names, columns=class_names,)\n",
        "sn.heatmap(df_cm, annot=True, fmt='')\n",
        "plt.show()"
      ]
    },
    {
      "cell_type": "code",
      "source": [
        ""
      ],
      "metadata": {
        "id": "zoHsKTXl0Dw7"
      },
      "execution_count": null,
      "outputs": []
    }
  ],
  "metadata": {
    "accelerator": "GPU",
    "colab": {
      "machine_shape": "hm",
      "name": "LRCN_CNN_80_10_10_DATASET_100_EPOCHS_WITH_CAHNGE_IN_DROP_OUT_LSTM_64_kernal_size_5_4.ipynb",
      "provenance": [],
      "collapsed_sections": []
    },
    "kernelspec": {
      "display_name": "Python 3",
      "name": "python3"
    },
    "language_info": {
      "name": "python"
    }
  },
  "nbformat": 4,
  "nbformat_minor": 0
}