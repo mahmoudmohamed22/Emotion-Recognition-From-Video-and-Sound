{
  "nbformat": 4,
  "nbformat_minor": 0,
  "metadata": {
    "colab": {
      "name": "ramadan adam 0.0002 2.ipynb",
      "provenance": [],
      "collapsed_sections": []
    },
    "kernelspec": {
      "name": "python3",
      "display_name": "Python 3"
    },
    "language_info": {
      "name": "python"
    },
    "accelerator": "GPU"
  },
  "cells": [
    {
      "cell_type": "code",
      "execution_count": 1,
      "metadata": {
        "colab": {
          "base_uri": "https://localhost:8080/"
        },
        "id": "9SRCO-a_AlH5",
        "outputId": "db0e51c8-9ce7-4c1c-b82d-04647c1a6430"
      },
      "outputs": [
        {
          "output_type": "stream",
          "name": "stdout",
          "text": [
            "Drive already mounted at /content/drive; to attempt to forcibly remount, call drive.mount(\"/content/drive\", force_remount=True).\n"
          ]
        }
      ],
      "source": [
        "from google.colab import drive\n",
        "drive.mount('/content/drive')"
      ]
    },
    {
      "cell_type": "code",
      "source": [
        "!pip install librosa"
      ],
      "metadata": {
        "colab": {
          "base_uri": "https://localhost:8080/"
        },
        "id": "oi8pWV3yBVjO",
        "outputId": "ad094f4f-5fe4-423d-ad15-9e405888b641"
      },
      "execution_count": 2,
      "outputs": [
        {
          "output_type": "stream",
          "name": "stdout",
          "text": [
            "Looking in indexes: https://pypi.org/simple, https://us-python.pkg.dev/colab-wheels/public/simple/\n",
            "Requirement already satisfied: librosa in /usr/local/lib/python3.7/dist-packages (0.8.1)\n",
            "Requirement already satisfied: joblib>=0.14 in /usr/local/lib/python3.7/dist-packages (from librosa) (1.1.0)\n",
            "Requirement already satisfied: decorator>=3.0.0 in /usr/local/lib/python3.7/dist-packages (from librosa) (4.4.2)\n",
            "Requirement already satisfied: packaging>=20.0 in /usr/local/lib/python3.7/dist-packages (from librosa) (21.3)\n",
            "Requirement already satisfied: numpy>=1.15.0 in /usr/local/lib/python3.7/dist-packages (from librosa) (1.21.6)\n",
            "Requirement already satisfied: audioread>=2.0.0 in /usr/local/lib/python3.7/dist-packages (from librosa) (2.1.9)\n",
            "Requirement already satisfied: resampy>=0.2.2 in /usr/local/lib/python3.7/dist-packages (from librosa) (0.2.2)\n",
            "Requirement already satisfied: soundfile>=0.10.2 in /usr/local/lib/python3.7/dist-packages (from librosa) (0.10.3.post1)\n",
            "Requirement already satisfied: scipy>=1.0.0 in /usr/local/lib/python3.7/dist-packages (from librosa) (1.4.1)\n",
            "Requirement already satisfied: pooch>=1.0 in /usr/local/lib/python3.7/dist-packages (from librosa) (1.6.0)\n",
            "Requirement already satisfied: scikit-learn!=0.19.0,>=0.14.0 in /usr/local/lib/python3.7/dist-packages (from librosa) (1.0.2)\n",
            "Requirement already satisfied: numba>=0.43.0 in /usr/local/lib/python3.7/dist-packages (from librosa) (0.51.2)\n",
            "Requirement already satisfied: setuptools in /usr/local/lib/python3.7/dist-packages (from numba>=0.43.0->librosa) (57.4.0)\n",
            "Requirement already satisfied: llvmlite<0.35,>=0.34.0.dev0 in /usr/local/lib/python3.7/dist-packages (from numba>=0.43.0->librosa) (0.34.0)\n",
            "Requirement already satisfied: pyparsing!=3.0.5,>=2.0.2 in /usr/local/lib/python3.7/dist-packages (from packaging>=20.0->librosa) (3.0.9)\n",
            "Requirement already satisfied: requests>=2.19.0 in /usr/local/lib/python3.7/dist-packages (from pooch>=1.0->librosa) (2.23.0)\n",
            "Requirement already satisfied: appdirs>=1.3.0 in /usr/local/lib/python3.7/dist-packages (from pooch>=1.0->librosa) (1.4.4)\n",
            "Requirement already satisfied: idna<3,>=2.5 in /usr/local/lib/python3.7/dist-packages (from requests>=2.19.0->pooch>=1.0->librosa) (2.10)\n",
            "Requirement already satisfied: chardet<4,>=3.0.2 in /usr/local/lib/python3.7/dist-packages (from requests>=2.19.0->pooch>=1.0->librosa) (3.0.4)\n",
            "Requirement already satisfied: urllib3!=1.25.0,!=1.25.1,<1.26,>=1.21.1 in /usr/local/lib/python3.7/dist-packages (from requests>=2.19.0->pooch>=1.0->librosa) (1.24.3)\n",
            "Requirement already satisfied: certifi>=2017.4.17 in /usr/local/lib/python3.7/dist-packages (from requests>=2.19.0->pooch>=1.0->librosa) (2022.5.18.1)\n",
            "Requirement already satisfied: six>=1.3 in /usr/local/lib/python3.7/dist-packages (from resampy>=0.2.2->librosa) (1.15.0)\n",
            "Requirement already satisfied: threadpoolctl>=2.0.0 in /usr/local/lib/python3.7/dist-packages (from scikit-learn!=0.19.0,>=0.14.0->librosa) (3.1.0)\n",
            "Requirement already satisfied: cffi>=1.0 in /usr/local/lib/python3.7/dist-packages (from soundfile>=0.10.2->librosa) (1.15.0)\n",
            "Requirement already satisfied: pycparser in /usr/local/lib/python3.7/dist-packages (from cffi>=1.0->soundfile>=0.10.2->librosa) (2.21)\n"
          ]
        }
      ]
    },
    {
      "cell_type": "code",
      "metadata": {
        "id": "HJjcbxwy46bG",
        "colab": {
          "base_uri": "https://localhost:8080/",
          "height": 17
        },
        "outputId": "3b4ba01a-cf5d-471a-c5b3-fab69e1ee33b"
      },
      "source": [
        "# Orignial Notebook: https://github.com/MITESHPUTHRANNEU/Speech-Emotion-Analyzer/blob/master/final_results_gender_test.ipynb\n",
        "# This notebook author: Reza Chu\n",
        "# Last Editing Date: 31st May 2019\n",
        "\n",
        "## Python\n",
        "import os\n",
        "import random\n",
        "import sys\n",
        "\n",
        "import IPython\n",
        "from IPython.display import Audio\n",
        "from IPython.display import Image\n",
        "import matplotlib.pyplot as plt\n",
        "\n",
        "## Package\n",
        "import glob \n",
        "import keras\n",
        "import IPython.display as ipd\n",
        "import librosa\n",
        "import librosa.display\n",
        "import matplotlib.pyplot as plt\n",
        "import numpy as np\n",
        "import pandas as pd\n",
        "import plotly.graph_objs as go\n",
        "import plotly.offline as py\n",
        "import plotly.tools as tls\n",
        "import seaborn as sns\n",
        "import scipy.io.wavfile\n",
        "import tensorflow as tf\n",
        "py.init_notebook_mode(connected=True)\n",
        "\n",
        "## Keras\n",
        "from keras import regularizers\n",
        "from keras.callbacks import ModelCheckpoint, LearningRateScheduler, EarlyStopping\n",
        "from keras.callbacks import  History, ReduceLROnPlateau, CSVLogger\n",
        "from keras.models import Model, Sequential\n",
        "from keras.layers import Dense, Embedding, LSTM\n",
        "from keras.layers import Input, Flatten, Dropout, Activation, BatchNormalization\n",
        "from keras.layers import Conv1D, MaxPooling1D, AveragePooling1D\n",
        "from keras.preprocessing import sequence\n",
        "from keras.preprocessing.sequence import pad_sequences\n",
        "from keras.preprocessing.text import Tokenizer\n",
        "from keras.utils import np_utils\n",
        "from tensorflow.keras.utils import to_categorical\n",
        "\n",
        "## Sklearn\n",
        "from sklearn.metrics import confusion_matrix\n",
        "from sklearn.preprocessing import LabelEncoder\n",
        "\n",
        "## Rest\n",
        "from scipy.fftpack import fft\n",
        "from scipy import signal\n",
        "from scipy.io import wavfile\n",
        "from tqdm import tqdm\n",
        "\n",
        "input_duration=3\n",
        "# % pylab inline"
      ],
      "execution_count": 3,
      "outputs": [
        {
          "output_type": "display_data",
          "data": {
            "text/html": [
              "        <script type=\"text/javascript\">\n",
              "        window.PlotlyConfig = {MathJaxConfig: 'local'};\n",
              "        if (window.MathJax) {MathJax.Hub.Config({SVG: {font: \"STIX-Web\"}});}\n",
              "        if (typeof require !== 'undefined') {\n",
              "        require.undef(\"plotly\");\n",
              "        requirejs.config({\n",
              "            paths: {\n",
              "                'plotly': ['https://cdn.plot.ly/plotly-2.8.3.min']\n",
              "            }\n",
              "        });\n",
              "        require(['plotly'], function(Plotly) {\n",
              "            window._Plotly = Plotly;\n",
              "        });\n",
              "        }\n",
              "        </script>\n",
              "        "
            ]
          },
          "metadata": {}
        }
      ]
    },
    {
      "cell_type": "code",
      "source": [
        "#radvass speech and song\n",
        "import time\n",
        "import os\n",
        "import librosa\n",
        "from librosa import display\n",
        "import matplotlib.pyplot as plt\n",
        "\n",
        "count=0\n",
        "path1 = '/content/drive/MyDrive/RAVDESS_speech'\n",
        "path2 = '/content/drive/MyDrive/RAVDESS_song'\n",
        "\n",
        "lst = []\n",
        "\n",
        "start_time = time.time()\n",
        "\n",
        "for subdir, dirs, files in os.walk(path2):\n",
        "  print(dirs)\n",
        "  print(subdir)\n",
        "  #print(files)\n",
        "  for file in files:\n",
        "      try:\n",
        "        count +=1\n",
        "        #Load librosa array, obtain mfcss, store the file and the mcss information in a new array\n",
        "        X, sample_rate = librosa.load(os.path.join(subdir,file), res_type='kaiser_fast')\n",
        "        mfccs = np.mean(librosa.feature.mfcc(y=X, sr=sample_rate, n_mfcc=40).T,axis=0) \n",
        "        # The instruction below converts the labels (from 1 to 8) to a series from 0 to 7\n",
        "        # This is because our predictor needs to start from 0 otherwise it will try to predict also 0.\n",
        "        file = int(file[7:8]) - 1 \n",
        "        arr = mfccs, file\n",
        "        lst.append(arr)\n",
        "      # If the file is not valid, skip it\n",
        "      except ValueError:\n",
        "        continue\n",
        "\n",
        "for subdir, dirs, files in os.walk(path1):\n",
        "  print(dirs)\n",
        "  print(subdir)\n",
        " # print(files)\n",
        "  for file in files:\n",
        "      try:\n",
        "        #Load librosa array, obtain mfcss, store the file and the mcss information in a new array\n",
        "        X, sample_rate = librosa.load(os.path.join(subdir,file), res_type='kaiser_fast')\n",
        "        mfccs = np.mean(librosa.feature.mfcc(y=X, sr=sample_rate, n_mfcc=40).T,axis=0) \n",
        "        # The instruction below converts the labels (from 1 to 8) to a series from 0 to 7\n",
        "        # This is because our predictor needs to start from 0 otherwise it will try to predict also 0.\n",
        "        file = int(file[7:8]) - 1 \n",
        "        if(file ==6 or file==7):\n",
        "          continue\n",
        "        count +=1\n",
        "        arr = mfccs, file\n",
        "        lst.append(arr)\n",
        "      # If the file is not valid, skip it\n",
        "      except ValueError:\n",
        "        continue\n",
        "\n",
        "\n",
        "\n",
        "print(\"--- Data loaded. Loading time: %s seconds ---\" % (time.time() - start_time))"
      ],
      "metadata": {
        "colab": {
          "base_uri": "https://localhost:8080/"
        },
        "id": "IfuyRZl42ccZ",
        "outputId": "a59d884a-7769-4170-c2de-bf2c8c8d504f"
      },
      "execution_count": 4,
      "outputs": [
        {
          "output_type": "stream",
          "name": "stdout",
          "text": [
            "['Actor_10', 'Actor_11', 'Actor_13', 'Actor_12', 'Actor_14', 'Actor_15', 'Actor_16', 'Actor_17', 'Actor_18', 'Actor_19', 'Actor_21', 'Actor_22', 'Actor_23', 'Actor_09', 'Actor_24', 'Actor_04', 'Actor_08', 'Actor_03', 'Actor_02', 'Actor_06', 'Actor_05', 'Actor_01', 'Actor_07', 'Actor_20']\n",
            "/content/drive/MyDrive/RAVDESS_song\n",
            "[]\n",
            "/content/drive/MyDrive/RAVDESS_song/Actor_10\n",
            "[]\n",
            "/content/drive/MyDrive/RAVDESS_song/Actor_11\n",
            "[]\n",
            "/content/drive/MyDrive/RAVDESS_song/Actor_13\n",
            "[]\n",
            "/content/drive/MyDrive/RAVDESS_song/Actor_12\n",
            "[]\n",
            "/content/drive/MyDrive/RAVDESS_song/Actor_14\n",
            "[]\n",
            "/content/drive/MyDrive/RAVDESS_song/Actor_15\n",
            "[]\n",
            "/content/drive/MyDrive/RAVDESS_song/Actor_16\n",
            "[]\n",
            "/content/drive/MyDrive/RAVDESS_song/Actor_17\n",
            "[]\n",
            "/content/drive/MyDrive/RAVDESS_song/Actor_18\n",
            "[]\n",
            "/content/drive/MyDrive/RAVDESS_song/Actor_19\n",
            "[]\n",
            "/content/drive/MyDrive/RAVDESS_song/Actor_21\n",
            "[]\n",
            "/content/drive/MyDrive/RAVDESS_song/Actor_22\n",
            "[]\n",
            "/content/drive/MyDrive/RAVDESS_song/Actor_23\n",
            "[]\n",
            "/content/drive/MyDrive/RAVDESS_song/Actor_09\n",
            "[]\n",
            "/content/drive/MyDrive/RAVDESS_song/Actor_24\n",
            "[]\n",
            "/content/drive/MyDrive/RAVDESS_song/Actor_04\n",
            "[]\n",
            "/content/drive/MyDrive/RAVDESS_song/Actor_08\n",
            "[]\n",
            "/content/drive/MyDrive/RAVDESS_song/Actor_03\n",
            "[]\n",
            "/content/drive/MyDrive/RAVDESS_song/Actor_02\n",
            "[]\n",
            "/content/drive/MyDrive/RAVDESS_song/Actor_06\n",
            "[]\n",
            "/content/drive/MyDrive/RAVDESS_song/Actor_05\n",
            "[]\n",
            "/content/drive/MyDrive/RAVDESS_song/Actor_01\n",
            "[]\n",
            "/content/drive/MyDrive/RAVDESS_song/Actor_07\n",
            "[]\n",
            "/content/drive/MyDrive/RAVDESS_song/Actor_20\n",
            "['Actor_05', 'Actor_08', 'Actor_10', 'Actor_04', 'Actor_09', 'Actor_14', 'Actor_12', 'Actor_13', 'Actor_11', 'Actor_06', 'Actor_24', 'Actor_07', 'Actor_23', 'Actor_22', 'Actor_21', 'Actor_20', 'Actor_02', 'Actor_19', 'Actor_18', 'Actor_17', 'Actor_16', 'Actor_15', 'Actor_03', 'Actor_01']\n",
            "/content/drive/MyDrive/RAVDESS_speech\n",
            "[]\n",
            "/content/drive/MyDrive/RAVDESS_speech/Actor_05\n",
            "[]\n",
            "/content/drive/MyDrive/RAVDESS_speech/Actor_08\n",
            "[]\n",
            "/content/drive/MyDrive/RAVDESS_speech/Actor_10\n",
            "[]\n",
            "/content/drive/MyDrive/RAVDESS_speech/Actor_04\n",
            "[]\n",
            "/content/drive/MyDrive/RAVDESS_speech/Actor_09\n",
            "[]\n",
            "/content/drive/MyDrive/RAVDESS_speech/Actor_14\n",
            "[]\n",
            "/content/drive/MyDrive/RAVDESS_speech/Actor_12\n",
            "[]\n",
            "/content/drive/MyDrive/RAVDESS_speech/Actor_13\n",
            "[]\n",
            "/content/drive/MyDrive/RAVDESS_speech/Actor_11\n",
            "[]\n",
            "/content/drive/MyDrive/RAVDESS_speech/Actor_06\n",
            "[]\n",
            "/content/drive/MyDrive/RAVDESS_speech/Actor_24\n",
            "[]\n",
            "/content/drive/MyDrive/RAVDESS_speech/Actor_07\n",
            "[]\n",
            "/content/drive/MyDrive/RAVDESS_speech/Actor_23\n",
            "[]\n",
            "/content/drive/MyDrive/RAVDESS_speech/Actor_22\n",
            "[]\n",
            "/content/drive/MyDrive/RAVDESS_speech/Actor_21\n",
            "[]\n",
            "/content/drive/MyDrive/RAVDESS_speech/Actor_20\n",
            "[]\n",
            "/content/drive/MyDrive/RAVDESS_speech/Actor_02\n",
            "[]\n",
            "/content/drive/MyDrive/RAVDESS_speech/Actor_19\n",
            "[]\n",
            "/content/drive/MyDrive/RAVDESS_speech/Actor_18\n",
            "[]\n",
            "/content/drive/MyDrive/RAVDESS_speech/Actor_17\n",
            "[]\n",
            "/content/drive/MyDrive/RAVDESS_speech/Actor_16\n",
            "[]\n",
            "/content/drive/MyDrive/RAVDESS_speech/Actor_15\n",
            "[]\n",
            "/content/drive/MyDrive/RAVDESS_speech/Actor_03\n",
            "[]\n",
            "/content/drive/MyDrive/RAVDESS_speech/Actor_01\n",
            "--- Data loaded. Loading time: 206.69345927238464 seconds ---\n"
          ]
        }
      ]
    },
    {
      "cell_type": "code",
      "source": [
        "count"
      ],
      "metadata": {
        "id": "Ltlhi25L2AI5",
        "colab": {
          "base_uri": "https://localhost:8080/"
        },
        "outputId": "5aa8e5ce-8c69-4b65-d1c9-c1cd27167689"
      },
      "execution_count": 5,
      "outputs": [
        {
          "output_type": "execute_result",
          "data": {
            "text/plain": [
              "2068"
            ]
          },
          "metadata": {},
          "execution_count": 5
        }
      ]
    },
    {
      "cell_type": "code",
      "source": [
        "from numpy.core.fromnumeric import size\n",
        "size(lst)"
      ],
      "metadata": {
        "id": "HMOH7d7mzHB7",
        "colab": {
          "base_uri": "https://localhost:8080/"
        },
        "outputId": "5270302f-0c78-44bf-8a9b-24e1748e1c35"
      },
      "execution_count": 6,
      "outputs": [
        {
          "output_type": "stream",
          "name": "stderr",
          "text": [
            "/usr/local/lib/python3.7/dist-packages/numpy/core/fromnumeric.py:3208: VisibleDeprecationWarning:\n",
            "\n",
            "Creating an ndarray from ragged nested sequences (which is a list-or-tuple of lists-or-tuples-or ndarrays with different lengths or shapes) is deprecated. If you meant to do this, you must specify 'dtype=object' when creating the ndarray.\n",
            "\n"
          ]
        },
        {
          "output_type": "execute_result",
          "data": {
            "text/plain": [
              "4136"
            ]
          },
          "metadata": {},
          "execution_count": 6
        }
      ]
    },
    {
      "cell_type": "code",
      "source": [
        "# Creating X and y: zip makes a list of all the first elements, and a list of all the second elements.\n",
        "X, y = zip(*lst)"
      ],
      "metadata": {
        "id": "ocdL7tSTBoMt"
      },
      "execution_count": 7,
      "outputs": []
    },
    {
      "cell_type": "code",
      "source": [
        "import numpy as np\n",
        "X = np.asarray(X)\n",
        "y = np.asarray(y)\n",
        "X.shape, y.shape"
      ],
      "metadata": {
        "id": "vHKwUGTbBtnF",
        "colab": {
          "base_uri": "https://localhost:8080/"
        },
        "outputId": "d2023015-e9bf-4aef-b7d9-d8f15f490fa4"
      },
      "execution_count": 8,
      "outputs": [
        {
          "output_type": "execute_result",
          "data": {
            "text/plain": [
              "((2068, 40), (2068,))"
            ]
          },
          "metadata": {},
          "execution_count": 8
        }
      ]
    },
    {
      "cell_type": "code",
      "source": [
        "X.shape"
      ],
      "metadata": {
        "id": "2sUCtbfMztE5",
        "colab": {
          "base_uri": "https://localhost:8080/"
        },
        "outputId": "a1eb60bf-d4a7-4022-c1fc-e507c9259f75"
      },
      "execution_count": 9,
      "outputs": [
        {
          "output_type": "execute_result",
          "data": {
            "text/plain": [
              "(2068, 40)"
            ]
          },
          "metadata": {},
          "execution_count": 9
        }
      ]
    },
    {
      "cell_type": "code",
      "source": [
        "# # Saving joblib files to not load them again with the loop above\n",
        "\n",
        "# import joblib\n",
        "\n",
        "# X_name = 'x.joblib'\n",
        "# y_name = 'y.joblib'\n",
        "# save_dir = '/content/drive/My Drive/graduation project/audio/paper_code/features'\n",
        "\n",
        "# savedX = joblib.dump(X, os.path.join(save_dir, X_name))\n",
        "# savedy = joblib.dump(y, os.path.join(save_dir, y_name))"
      ],
      "metadata": {
        "id": "UCzic8rlDcuk"
      },
      "execution_count": 10,
      "outputs": []
    },
    {
      "cell_type": "code",
      "source": [
        "# # Loading saved models\n",
        "# import joblib\n",
        "# X = joblib.load('/content/drive/My Drive/graduation project/audio/paper_code/features/x.joblib')\n",
        "# y = joblib.load('/content/drive/My Drive/graduation project/audio/paper_code/features/y.joblib')"
      ],
      "metadata": {
        "id": "Q35CN6zDrzg1"
      },
      "execution_count": 11,
      "outputs": []
    },
    {
      "cell_type": "code",
      "source": [
        "X.shape"
      ],
      "metadata": {
        "colab": {
          "base_uri": "https://localhost:8080/"
        },
        "id": "7PSTurzjCo5K",
        "outputId": "89cb9296-b8a4-4fe8-9586-427b630bad0a"
      },
      "execution_count": 12,
      "outputs": [
        {
          "output_type": "execute_result",
          "data": {
            "text/plain": [
              "(2068, 40)"
            ]
          },
          "metadata": {},
          "execution_count": 12
        }
      ]
    },
    {
      "cell_type": "code",
      "source": [
        "from sklearn.model_selection import train_test_split\n",
        "\n",
        "X_train, X_test, y_train, y_test = train_test_split(X,y, test_size=0.2,train_size=0.8, random_state=42)\n",
        "X_valid, X_test, y_valid, y_test = train_test_split(X_test,y_test, test_size=0.5,train_size=0.5, random_state=42)"
      ],
      "metadata": {
        "id": "Ai4Fy5cPCiq1"
      },
      "execution_count": 13,
      "outputs": []
    },
    {
      "cell_type": "code",
      "source": [
        "import numpy as np\n",
        "x_traincnn = np.expand_dims(X_train, axis=2)\n",
        "x_testcnn = np.expand_dims(X_test, axis=2)\n",
        "X_valid= np.expand_dims(X_valid, axis=2)"
      ],
      "metadata": {
        "id": "tp1Fm5K3CEXu"
      },
      "execution_count": 14,
      "outputs": []
    },
    {
      "cell_type": "code",
      "source": [
        "x_traincnn.shape, x_testcnn.shape , X_valid.shape"
      ],
      "metadata": {
        "id": "RI0MxoIPBws5",
        "colab": {
          "base_uri": "https://localhost:8080/"
        },
        "outputId": "4844d48f-cbb6-401a-a3b0-e3380bc56a76"
      },
      "execution_count": 15,
      "outputs": [
        {
          "output_type": "execute_result",
          "data": {
            "text/plain": [
              "((1654, 40, 1), (207, 40, 1), (207, 40, 1))"
            ]
          },
          "metadata": {},
          "execution_count": 15
        }
      ]
    },
    {
      "cell_type": "code",
      "source": [
        "!pip install tensorflow"
      ],
      "metadata": {
        "id": "goxL4Y3jKICC",
        "colab": {
          "base_uri": "https://localhost:8080/"
        },
        "outputId": "a0c83139-be37-42e8-c56a-dbabaeaee38f"
      },
      "execution_count": 16,
      "outputs": [
        {
          "output_type": "stream",
          "name": "stdout",
          "text": [
            "Looking in indexes: https://pypi.org/simple, https://us-python.pkg.dev/colab-wheels/public/simple/\n",
            "Requirement already satisfied: tensorflow in /usr/local/lib/python3.7/dist-packages (2.8.2+zzzcolab20220527125636)\n",
            "Requirement already satisfied: astunparse>=1.6.0 in /usr/local/lib/python3.7/dist-packages (from tensorflow) (1.6.3)\n",
            "Requirement already satisfied: google-pasta>=0.1.1 in /usr/local/lib/python3.7/dist-packages (from tensorflow) (0.2.0)\n",
            "Requirement already satisfied: opt-einsum>=2.3.2 in /usr/local/lib/python3.7/dist-packages (from tensorflow) (3.3.0)\n",
            "Requirement already satisfied: flatbuffers>=1.12 in /usr/local/lib/python3.7/dist-packages (from tensorflow) (2.0)\n",
            "Requirement already satisfied: grpcio<2.0,>=1.24.3 in /usr/local/lib/python3.7/dist-packages (from tensorflow) (1.46.3)\n",
            "Requirement already satisfied: termcolor>=1.1.0 in /usr/local/lib/python3.7/dist-packages (from tensorflow) (1.1.0)\n",
            "Requirement already satisfied: gast>=0.2.1 in /usr/local/lib/python3.7/dist-packages (from tensorflow) (0.5.3)\n",
            "Requirement already satisfied: wrapt>=1.11.0 in /usr/local/lib/python3.7/dist-packages (from tensorflow) (1.14.1)\n",
            "Requirement already satisfied: h5py>=2.9.0 in /usr/local/lib/python3.7/dist-packages (from tensorflow) (3.1.0)\n",
            "Requirement already satisfied: tensorboard<2.9,>=2.8 in /usr/local/lib/python3.7/dist-packages (from tensorflow) (2.8.0)\n",
            "Requirement already satisfied: numpy>=1.20 in /usr/local/lib/python3.7/dist-packages (from tensorflow) (1.21.6)\n",
            "Requirement already satisfied: libclang>=9.0.1 in /usr/local/lib/python3.7/dist-packages (from tensorflow) (14.0.1)\n",
            "Requirement already satisfied: tensorflow-estimator<2.9,>=2.8 in /usr/local/lib/python3.7/dist-packages (from tensorflow) (2.8.0)\n",
            "Requirement already satisfied: protobuf<3.20,>=3.9.2 in /usr/local/lib/python3.7/dist-packages (from tensorflow) (3.17.3)\n",
            "Requirement already satisfied: keras-preprocessing>=1.1.1 in /usr/local/lib/python3.7/dist-packages (from tensorflow) (1.1.2)\n",
            "Requirement already satisfied: tensorflow-io-gcs-filesystem>=0.23.1 in /usr/local/lib/python3.7/dist-packages (from tensorflow) (0.26.0)\n",
            "Requirement already satisfied: typing-extensions>=3.6.6 in /usr/local/lib/python3.7/dist-packages (from tensorflow) (4.2.0)\n",
            "Requirement already satisfied: six>=1.12.0 in /usr/local/lib/python3.7/dist-packages (from tensorflow) (1.15.0)\n",
            "Requirement already satisfied: keras<2.9,>=2.8.0rc0 in /usr/local/lib/python3.7/dist-packages (from tensorflow) (2.8.0)\n",
            "Requirement already satisfied: absl-py>=0.4.0 in /usr/local/lib/python3.7/dist-packages (from tensorflow) (1.0.0)\n",
            "Requirement already satisfied: setuptools in /usr/local/lib/python3.7/dist-packages (from tensorflow) (57.4.0)\n",
            "Requirement already satisfied: wheel<1.0,>=0.23.0 in /usr/local/lib/python3.7/dist-packages (from astunparse>=1.6.0->tensorflow) (0.37.1)\n",
            "Requirement already satisfied: cached-property in /usr/local/lib/python3.7/dist-packages (from h5py>=2.9.0->tensorflow) (1.5.2)\n",
            "Requirement already satisfied: google-auth-oauthlib<0.5,>=0.4.1 in /usr/local/lib/python3.7/dist-packages (from tensorboard<2.9,>=2.8->tensorflow) (0.4.6)\n",
            "Requirement already satisfied: markdown>=2.6.8 in /usr/local/lib/python3.7/dist-packages (from tensorboard<2.9,>=2.8->tensorflow) (3.3.7)\n",
            "Requirement already satisfied: requests<3,>=2.21.0 in /usr/local/lib/python3.7/dist-packages (from tensorboard<2.9,>=2.8->tensorflow) (2.23.0)\n",
            "Requirement already satisfied: werkzeug>=0.11.15 in /usr/local/lib/python3.7/dist-packages (from tensorboard<2.9,>=2.8->tensorflow) (1.0.1)\n",
            "Requirement already satisfied: tensorboard-data-server<0.7.0,>=0.6.0 in /usr/local/lib/python3.7/dist-packages (from tensorboard<2.9,>=2.8->tensorflow) (0.6.1)\n",
            "Requirement already satisfied: google-auth<3,>=1.6.3 in /usr/local/lib/python3.7/dist-packages (from tensorboard<2.9,>=2.8->tensorflow) (1.35.0)\n",
            "Requirement already satisfied: tensorboard-plugin-wit>=1.6.0 in /usr/local/lib/python3.7/dist-packages (from tensorboard<2.9,>=2.8->tensorflow) (1.8.1)\n",
            "Requirement already satisfied: pyasn1-modules>=0.2.1 in /usr/local/lib/python3.7/dist-packages (from google-auth<3,>=1.6.3->tensorboard<2.9,>=2.8->tensorflow) (0.2.8)\n",
            "Requirement already satisfied: cachetools<5.0,>=2.0.0 in /usr/local/lib/python3.7/dist-packages (from google-auth<3,>=1.6.3->tensorboard<2.9,>=2.8->tensorflow) (4.2.4)\n",
            "Requirement already satisfied: rsa<5,>=3.1.4 in /usr/local/lib/python3.7/dist-packages (from google-auth<3,>=1.6.3->tensorboard<2.9,>=2.8->tensorflow) (4.8)\n",
            "Requirement already satisfied: requests-oauthlib>=0.7.0 in /usr/local/lib/python3.7/dist-packages (from google-auth-oauthlib<0.5,>=0.4.1->tensorboard<2.9,>=2.8->tensorflow) (1.3.1)\n",
            "Requirement already satisfied: importlib-metadata>=4.4 in /usr/local/lib/python3.7/dist-packages (from markdown>=2.6.8->tensorboard<2.9,>=2.8->tensorflow) (4.11.4)\n",
            "Requirement already satisfied: zipp>=0.5 in /usr/local/lib/python3.7/dist-packages (from importlib-metadata>=4.4->markdown>=2.6.8->tensorboard<2.9,>=2.8->tensorflow) (3.8.0)\n",
            "Requirement already satisfied: pyasn1<0.5.0,>=0.4.6 in /usr/local/lib/python3.7/dist-packages (from pyasn1-modules>=0.2.1->google-auth<3,>=1.6.3->tensorboard<2.9,>=2.8->tensorflow) (0.4.8)\n",
            "Requirement already satisfied: certifi>=2017.4.17 in /usr/local/lib/python3.7/dist-packages (from requests<3,>=2.21.0->tensorboard<2.9,>=2.8->tensorflow) (2022.5.18.1)\n",
            "Requirement already satisfied: urllib3!=1.25.0,!=1.25.1,<1.26,>=1.21.1 in /usr/local/lib/python3.7/dist-packages (from requests<3,>=2.21.0->tensorboard<2.9,>=2.8->tensorflow) (1.24.3)\n",
            "Requirement already satisfied: idna<3,>=2.5 in /usr/local/lib/python3.7/dist-packages (from requests<3,>=2.21.0->tensorboard<2.9,>=2.8->tensorflow) (2.10)\n",
            "Requirement already satisfied: chardet<4,>=3.0.2 in /usr/local/lib/python3.7/dist-packages (from requests<3,>=2.21.0->tensorboard<2.9,>=2.8->tensorflow) (3.0.4)\n",
            "Requirement already satisfied: oauthlib>=3.0.0 in /usr/local/lib/python3.7/dist-packages (from requests-oauthlib>=0.7.0->google-auth-oauthlib<0.5,>=0.4.1->tensorboard<2.9,>=2.8->tensorflow) (3.2.0)\n"
          ]
        }
      ]
    },
    {
      "cell_type": "code",
      "source": [
        "!pip install keras"
      ],
      "metadata": {
        "id": "EkcmN9UrKSxj",
        "colab": {
          "base_uri": "https://localhost:8080/"
        },
        "outputId": "40416c19-5c0d-46f2-eeba-b8f422b3be95"
      },
      "execution_count": 17,
      "outputs": [
        {
          "output_type": "stream",
          "name": "stdout",
          "text": [
            "Looking in indexes: https://pypi.org/simple, https://us-python.pkg.dev/colab-wheels/public/simple/\n",
            "Requirement already satisfied: keras in /usr/local/lib/python3.7/dist-packages (2.8.0)\n"
          ]
        }
      ]
    },
    {
      "cell_type": "code",
      "source": [
        "import keras\n",
        "import numpy as np\n",
        "import matplotlib.pyplot as plt\n",
        "import tensorflow as tf\n",
        "from keras.preprocessing import sequence\n",
        "from keras.models import Sequential\n",
        "from keras.layers import Dense, Embedding\n",
        "from tensorflow.keras.utils import to_categorical\n",
        "from keras.layers import Input, Flatten, Dropout, Activation\n",
        "from keras.layers import Conv1D, MaxPooling1D\n",
        "from keras.models import Model\n",
        "from keras.callbacks import ModelCheckpoint\n",
        "from tensorflow.keras import optimizers\n",
        "\n",
        "model = Sequential()\n",
        "\n",
        "model.add(Conv1D(128, 8,padding='same', #classifier.add(Convolution2D(64, (3, 3), padding = 'same', input_shape = (128, 128, 3), activation = 'relu'))\n",
        "                 input_shape=(40,1)))\n",
        "model.add(Activation('relu'))\n",
        "model.add(Dropout(0.3))\n",
        "model.add(MaxPooling1D(pool_size=(5)))\n",
        "\n",
        "\n",
        "model.add(Conv1D(256,8,padding='same',))\n",
        "model.add(Activation('relu'))\n",
        "model.add(Dropout(0.3))\n",
        "model.add(MaxPooling1D(pool_size=(5)))\n",
        "\n",
        "model.add(Flatten())\n",
        "\n",
        "model.add(Dense(256))\n",
        "model.add(Activation('relu'))\n",
        "model.add(Dense(256))\n",
        "model.add(Activation('relu'))\n",
        "\n",
        "model.add(Dense(6))\n",
        "model.add(Activation('softmax'))\n",
        "\n",
        "opt = tf.keras.optimizers.Adam(lr=0.0002)\n",
        "#opt = tf.keras.optimizers.RMSprop(lr=0.0001, rho=0.9, epsilon=1e-07, decay=0.0)\n",
        "#opt = tf.keras.optimizers.SGD(lr=0.001, momentum=0.0, decay=0.0, nesterov=False)"
      ],
      "metadata": {
        "id": "g74fXWVAC4Cr",
        "colab": {
          "base_uri": "https://localhost:8080/"
        },
        "outputId": "021897f2-4e76-4ba1-b376-72e1cd92c1f7"
      },
      "execution_count": 18,
      "outputs": [
        {
          "output_type": "stream",
          "name": "stderr",
          "text": [
            "/usr/local/lib/python3.7/dist-packages/keras/optimizer_v2/adam.py:105: UserWarning:\n",
            "\n",
            "The `lr` argument is deprecated, use `learning_rate` instead.\n",
            "\n"
          ]
        }
      ]
    },
    {
      "cell_type": "code",
      "source": [
        "model.summary()"
      ],
      "metadata": {
        "colab": {
          "base_uri": "https://localhost:8080/"
        },
        "id": "H6ukOxAGC_I4",
        "outputId": "330b217a-05a3-49f6-f537-530f5f9b6b35"
      },
      "execution_count": 19,
      "outputs": [
        {
          "output_type": "stream",
          "name": "stdout",
          "text": [
            "Model: \"sequential\"\n",
            "_________________________________________________________________\n",
            " Layer (type)                Output Shape              Param #   \n",
            "=================================================================\n",
            " conv1d (Conv1D)             (None, 40, 128)           1152      \n",
            "                                                                 \n",
            " activation (Activation)     (None, 40, 128)           0         \n",
            "                                                                 \n",
            " dropout (Dropout)           (None, 40, 128)           0         \n",
            "                                                                 \n",
            " max_pooling1d (MaxPooling1D  (None, 8, 128)           0         \n",
            " )                                                               \n",
            "                                                                 \n",
            " conv1d_1 (Conv1D)           (None, 8, 256)            262400    \n",
            "                                                                 \n",
            " activation_1 (Activation)   (None, 8, 256)            0         \n",
            "                                                                 \n",
            " dropout_1 (Dropout)         (None, 8, 256)            0         \n",
            "                                                                 \n",
            " max_pooling1d_1 (MaxPooling  (None, 1, 256)           0         \n",
            " 1D)                                                             \n",
            "                                                                 \n",
            " flatten (Flatten)           (None, 256)               0         \n",
            "                                                                 \n",
            " dense (Dense)               (None, 256)               65792     \n",
            "                                                                 \n",
            " activation_2 (Activation)   (None, 256)               0         \n",
            "                                                                 \n",
            " dense_1 (Dense)             (None, 256)               65792     \n",
            "                                                                 \n",
            " activation_3 (Activation)   (None, 256)               0         \n",
            "                                                                 \n",
            " dense_2 (Dense)             (None, 6)                 1542      \n",
            "                                                                 \n",
            " activation_4 (Activation)   (None, 6)                 0         \n",
            "                                                                 \n",
            "=================================================================\n",
            "Total params: 396,678\n",
            "Trainable params: 396,678\n",
            "Non-trainable params: 0\n",
            "_________________________________________________________________\n"
          ]
        }
      ]
    },
    {
      "cell_type": "code",
      "source": [
        "model.compile(loss='sparse_categorical_crossentropy',\n",
        "              optimizer=opt,\n",
        "              metrics=['accuracy'])"
      ],
      "metadata": {
        "id": "AbMlLNk4DCBM"
      },
      "execution_count": 20,
      "outputs": []
    },
    {
      "cell_type": "code",
      "source": [
        "#cnnhistory=model.fit(x_traincnn, y_train, batch_size=16, epochs=700, validation_data=(x_testcnn, y_test))\n",
        "cnnhistory=model.fit(x_traincnn, y_train, batch_size=16, epochs=500 , validation_data=(X_valid, y_valid))"
      ],
      "metadata": {
        "colab": {
          "base_uri": "https://localhost:8080/"
        },
        "id": "RI1v2AuADFhy",
        "outputId": "3d949747-0d39-4b22-8ca8-123e1d4fca02"
      },
      "execution_count": 21,
      "outputs": [
        {
          "output_type": "stream",
          "name": "stdout",
          "text": [
            "Epoch 1/500\n",
            "104/104 [==============================] - 4s 11ms/step - loss: 4.2674 - accuracy: 0.1620 - val_loss: 1.8118 - val_accuracy: 0.2367\n",
            "Epoch 2/500\n",
            "104/104 [==============================] - 1s 8ms/step - loss: 2.5429 - accuracy: 0.1971 - val_loss: 1.7372 - val_accuracy: 0.2271\n",
            "Epoch 3/500\n",
            "104/104 [==============================] - 1s 7ms/step - loss: 2.1849 - accuracy: 0.2116 - val_loss: 1.8135 - val_accuracy: 0.1981\n",
            "Epoch 4/500\n",
            "104/104 [==============================] - 1s 8ms/step - loss: 1.9965 - accuracy: 0.2177 - val_loss: 1.7106 - val_accuracy: 0.2705\n",
            "Epoch 5/500\n",
            "104/104 [==============================] - 1s 7ms/step - loss: 1.9519 - accuracy: 0.2177 - val_loss: 1.7590 - val_accuracy: 0.1981\n",
            "Epoch 6/500\n",
            "104/104 [==============================] - 1s 8ms/step - loss: 1.8632 - accuracy: 0.2116 - val_loss: 1.6776 - val_accuracy: 0.2754\n",
            "Epoch 7/500\n",
            "104/104 [==============================] - 1s 7ms/step - loss: 1.8287 - accuracy: 0.2449 - val_loss: 1.6898 - val_accuracy: 0.2222\n",
            "Epoch 8/500\n",
            "104/104 [==============================] - 1s 8ms/step - loss: 1.7900 - accuracy: 0.2430 - val_loss: 1.6193 - val_accuracy: 0.3478\n",
            "Epoch 9/500\n",
            "104/104 [==============================] - 1s 7ms/step - loss: 1.7878 - accuracy: 0.2418 - val_loss: 1.6908 - val_accuracy: 0.2947\n",
            "Epoch 10/500\n",
            "104/104 [==============================] - 1s 7ms/step - loss: 1.7350 - accuracy: 0.2666 - val_loss: 1.6255 - val_accuracy: 0.3092\n",
            "Epoch 11/500\n",
            "104/104 [==============================] - 1s 7ms/step - loss: 1.7143 - accuracy: 0.2672 - val_loss: 1.6153 - val_accuracy: 0.3382\n",
            "Epoch 12/500\n",
            "104/104 [==============================] - 1s 7ms/step - loss: 1.6884 - accuracy: 0.2926 - val_loss: 1.6016 - val_accuracy: 0.3720\n",
            "Epoch 13/500\n",
            "104/104 [==============================] - 1s 7ms/step - loss: 1.7004 - accuracy: 0.2842 - val_loss: 1.6511 - val_accuracy: 0.3237\n",
            "Epoch 14/500\n",
            "104/104 [==============================] - 1s 8ms/step - loss: 1.6231 - accuracy: 0.3247 - val_loss: 1.5563 - val_accuracy: 0.3768\n",
            "Epoch 15/500\n",
            "104/104 [==============================] - 1s 8ms/step - loss: 1.6247 - accuracy: 0.3210 - val_loss: 1.6840 - val_accuracy: 0.2802\n",
            "Epoch 16/500\n",
            "104/104 [==============================] - 1s 8ms/step - loss: 1.6055 - accuracy: 0.3259 - val_loss: 1.5306 - val_accuracy: 0.4010\n",
            "Epoch 17/500\n",
            "104/104 [==============================] - 1s 9ms/step - loss: 1.5805 - accuracy: 0.3470 - val_loss: 1.5801 - val_accuracy: 0.3333\n",
            "Epoch 18/500\n",
            "104/104 [==============================] - 1s 7ms/step - loss: 1.5739 - accuracy: 0.3470 - val_loss: 1.4972 - val_accuracy: 0.4251\n",
            "Epoch 19/500\n",
            "104/104 [==============================] - 1s 8ms/step - loss: 1.5390 - accuracy: 0.3573 - val_loss: 1.4854 - val_accuracy: 0.4010\n",
            "Epoch 20/500\n",
            "104/104 [==============================] - 1s 8ms/step - loss: 1.4908 - accuracy: 0.3900 - val_loss: 1.4518 - val_accuracy: 0.4203\n",
            "Epoch 21/500\n",
            "104/104 [==============================] - 1s 9ms/step - loss: 1.4714 - accuracy: 0.3978 - val_loss: 1.3588 - val_accuracy: 0.4493\n",
            "Epoch 22/500\n",
            "104/104 [==============================] - 1s 8ms/step - loss: 1.4456 - accuracy: 0.4063 - val_loss: 1.4015 - val_accuracy: 0.4251\n",
            "Epoch 23/500\n",
            "104/104 [==============================] - 1s 8ms/step - loss: 1.4221 - accuracy: 0.4093 - val_loss: 1.3445 - val_accuracy: 0.4541\n",
            "Epoch 24/500\n",
            "104/104 [==============================] - 1s 8ms/step - loss: 1.3870 - accuracy: 0.4202 - val_loss: 1.2868 - val_accuracy: 0.4928\n",
            "Epoch 25/500\n",
            "104/104 [==============================] - 1s 7ms/step - loss: 1.3557 - accuracy: 0.4341 - val_loss: 1.2690 - val_accuracy: 0.5556\n",
            "Epoch 26/500\n",
            "104/104 [==============================] - 1s 8ms/step - loss: 1.3508 - accuracy: 0.4407 - val_loss: 1.2556 - val_accuracy: 0.5459\n",
            "Epoch 27/500\n",
            "104/104 [==============================] - 1s 7ms/step - loss: 1.3069 - accuracy: 0.4619 - val_loss: 1.2166 - val_accuracy: 0.5749\n",
            "Epoch 28/500\n",
            "104/104 [==============================] - 1s 7ms/step - loss: 1.2689 - accuracy: 0.4740 - val_loss: 1.1916 - val_accuracy: 0.5604\n",
            "Epoch 29/500\n",
            "104/104 [==============================] - 1s 7ms/step - loss: 1.2648 - accuracy: 0.4770 - val_loss: 1.2089 - val_accuracy: 0.5459\n",
            "Epoch 30/500\n",
            "104/104 [==============================] - 1s 9ms/step - loss: 1.2487 - accuracy: 0.4891 - val_loss: 1.2132 - val_accuracy: 0.5024\n",
            "Epoch 31/500\n",
            "104/104 [==============================] - 1s 8ms/step - loss: 1.2476 - accuracy: 0.4885 - val_loss: 1.1837 - val_accuracy: 0.5556\n",
            "Epoch 32/500\n",
            "104/104 [==============================] - 1s 8ms/step - loss: 1.2183 - accuracy: 0.5012 - val_loss: 1.1604 - val_accuracy: 0.5845\n",
            "Epoch 33/500\n",
            "104/104 [==============================] - 1s 8ms/step - loss: 1.1902 - accuracy: 0.5115 - val_loss: 1.1439 - val_accuracy: 0.5507\n",
            "Epoch 34/500\n",
            "104/104 [==============================] - 1s 7ms/step - loss: 1.1740 - accuracy: 0.5079 - val_loss: 1.0819 - val_accuracy: 0.5845\n",
            "Epoch 35/500\n",
            "104/104 [==============================] - 1s 7ms/step - loss: 1.1604 - accuracy: 0.5242 - val_loss: 1.0539 - val_accuracy: 0.6280\n",
            "Epoch 36/500\n",
            "104/104 [==============================] - 1s 6ms/step - loss: 1.1391 - accuracy: 0.5357 - val_loss: 1.0722 - val_accuracy: 0.5894\n",
            "Epoch 37/500\n",
            "104/104 [==============================] - 0s 5ms/step - loss: 1.1048 - accuracy: 0.5520 - val_loss: 1.0442 - val_accuracy: 0.6184\n",
            "Epoch 38/500\n",
            "104/104 [==============================] - 0s 4ms/step - loss: 1.1182 - accuracy: 0.5399 - val_loss: 1.0783 - val_accuracy: 0.6087\n",
            "Epoch 39/500\n",
            "104/104 [==============================] - 0s 5ms/step - loss: 1.1072 - accuracy: 0.5417 - val_loss: 1.0824 - val_accuracy: 0.5700\n",
            "Epoch 40/500\n",
            "104/104 [==============================] - 0s 5ms/step - loss: 1.0912 - accuracy: 0.5484 - val_loss: 1.0759 - val_accuracy: 0.5700\n",
            "Epoch 41/500\n",
            "104/104 [==============================] - 0s 4ms/step - loss: 1.0628 - accuracy: 0.5653 - val_loss: 1.0369 - val_accuracy: 0.6039\n",
            "Epoch 42/500\n",
            "104/104 [==============================] - 0s 5ms/step - loss: 1.0606 - accuracy: 0.5574 - val_loss: 1.0048 - val_accuracy: 0.6473\n",
            "Epoch 43/500\n",
            "104/104 [==============================] - 0s 4ms/step - loss: 1.0476 - accuracy: 0.5768 - val_loss: 1.0275 - val_accuracy: 0.6280\n",
            "Epoch 44/500\n",
            "104/104 [==============================] - 0s 4ms/step - loss: 1.0274 - accuracy: 0.5780 - val_loss: 0.9518 - val_accuracy: 0.6763\n",
            "Epoch 45/500\n",
            "104/104 [==============================] - 0s 5ms/step - loss: 1.0243 - accuracy: 0.5804 - val_loss: 0.9783 - val_accuracy: 0.6377\n",
            "Epoch 46/500\n",
            "104/104 [==============================] - 0s 5ms/step - loss: 1.0125 - accuracy: 0.5901 - val_loss: 0.9717 - val_accuracy: 0.5990\n",
            "Epoch 47/500\n",
            "104/104 [==============================] - 0s 5ms/step - loss: 1.0094 - accuracy: 0.5810 - val_loss: 0.9933 - val_accuracy: 0.6667\n",
            "Epoch 48/500\n",
            "104/104 [==============================] - 0s 4ms/step - loss: 0.9832 - accuracy: 0.6052 - val_loss: 0.9949 - val_accuracy: 0.6232\n",
            "Epoch 49/500\n",
            "104/104 [==============================] - 0s 5ms/step - loss: 0.9927 - accuracy: 0.5955 - val_loss: 0.9392 - val_accuracy: 0.6184\n",
            "Epoch 50/500\n",
            "104/104 [==============================] - 0s 4ms/step - loss: 0.9668 - accuracy: 0.6155 - val_loss: 0.9471 - val_accuracy: 0.6184\n",
            "Epoch 51/500\n",
            "104/104 [==============================] - 0s 4ms/step - loss: 0.9561 - accuracy: 0.6070 - val_loss: 0.9748 - val_accuracy: 0.5894\n",
            "Epoch 52/500\n",
            "104/104 [==============================] - 0s 5ms/step - loss: 0.9542 - accuracy: 0.5937 - val_loss: 0.9032 - val_accuracy: 0.6570\n",
            "Epoch 53/500\n",
            "104/104 [==============================] - 1s 5ms/step - loss: 0.9352 - accuracy: 0.6155 - val_loss: 0.9324 - val_accuracy: 0.6329\n",
            "Epoch 54/500\n",
            "104/104 [==============================] - 0s 4ms/step - loss: 0.9242 - accuracy: 0.6197 - val_loss: 0.9595 - val_accuracy: 0.6232\n",
            "Epoch 55/500\n",
            "104/104 [==============================] - 0s 4ms/step - loss: 0.9023 - accuracy: 0.6294 - val_loss: 0.9342 - val_accuracy: 0.6232\n",
            "Epoch 56/500\n",
            "104/104 [==============================] - 0s 4ms/step - loss: 0.9161 - accuracy: 0.6143 - val_loss: 0.9244 - val_accuracy: 0.6377\n",
            "Epoch 57/500\n",
            "104/104 [==============================] - 0s 5ms/step - loss: 0.8991 - accuracy: 0.6318 - val_loss: 0.8871 - val_accuracy: 0.6473\n",
            "Epoch 58/500\n",
            "104/104 [==============================] - 0s 4ms/step - loss: 0.9006 - accuracy: 0.6511 - val_loss: 0.8975 - val_accuracy: 0.6860\n",
            "Epoch 59/500\n",
            "104/104 [==============================] - 0s 5ms/step - loss: 0.8768 - accuracy: 0.6451 - val_loss: 0.9035 - val_accuracy: 0.6184\n",
            "Epoch 60/500\n",
            "104/104 [==============================] - 0s 4ms/step - loss: 0.8765 - accuracy: 0.6415 - val_loss: 0.9293 - val_accuracy: 0.6039\n",
            "Epoch 61/500\n",
            "104/104 [==============================] - 0s 5ms/step - loss: 0.8704 - accuracy: 0.6403 - val_loss: 0.8775 - val_accuracy: 0.6473\n",
            "Epoch 62/500\n",
            "104/104 [==============================] - 0s 4ms/step - loss: 0.8685 - accuracy: 0.6554 - val_loss: 0.9039 - val_accuracy: 0.6473\n",
            "Epoch 63/500\n",
            "104/104 [==============================] - 0s 4ms/step - loss: 0.8377 - accuracy: 0.6735 - val_loss: 0.8502 - val_accuracy: 0.6812\n",
            "Epoch 64/500\n",
            "104/104 [==============================] - 0s 5ms/step - loss: 0.8200 - accuracy: 0.6669 - val_loss: 0.8617 - val_accuracy: 0.6570\n",
            "Epoch 65/500\n",
            "104/104 [==============================] - 0s 4ms/step - loss: 0.7904 - accuracy: 0.6838 - val_loss: 0.8480 - val_accuracy: 0.6522\n",
            "Epoch 66/500\n",
            "104/104 [==============================] - 0s 5ms/step - loss: 0.8293 - accuracy: 0.6699 - val_loss: 0.8625 - val_accuracy: 0.6473\n",
            "Epoch 67/500\n",
            "104/104 [==============================] - 0s 5ms/step - loss: 0.8120 - accuracy: 0.6735 - val_loss: 0.8379 - val_accuracy: 0.6618\n",
            "Epoch 68/500\n",
            "104/104 [==============================] - 0s 4ms/step - loss: 0.8010 - accuracy: 0.6862 - val_loss: 0.8371 - val_accuracy: 0.6715\n",
            "Epoch 69/500\n",
            "104/104 [==============================] - 0s 4ms/step - loss: 0.7938 - accuracy: 0.6741 - val_loss: 0.8263 - val_accuracy: 0.7005\n",
            "Epoch 70/500\n",
            "104/104 [==============================] - 0s 4ms/step - loss: 0.7921 - accuracy: 0.6802 - val_loss: 0.8303 - val_accuracy: 0.6812\n",
            "Epoch 71/500\n",
            "104/104 [==============================] - 0s 5ms/step - loss: 0.7813 - accuracy: 0.6929 - val_loss: 0.8369 - val_accuracy: 0.6522\n",
            "Epoch 72/500\n",
            "104/104 [==============================] - 0s 5ms/step - loss: 0.7922 - accuracy: 0.6977 - val_loss: 0.8393 - val_accuracy: 0.6763\n",
            "Epoch 73/500\n",
            "104/104 [==============================] - 0s 4ms/step - loss: 0.7742 - accuracy: 0.7013 - val_loss: 0.8012 - val_accuracy: 0.7053\n",
            "Epoch 74/500\n",
            "104/104 [==============================] - 0s 5ms/step - loss: 0.7708 - accuracy: 0.6959 - val_loss: 0.8458 - val_accuracy: 0.6522\n",
            "Epoch 75/500\n",
            "104/104 [==============================] - 0s 5ms/step - loss: 0.7542 - accuracy: 0.6838 - val_loss: 0.8112 - val_accuracy: 0.6763\n",
            "Epoch 76/500\n",
            "104/104 [==============================] - 0s 5ms/step - loss: 0.7319 - accuracy: 0.7110 - val_loss: 0.8147 - val_accuracy: 0.7101\n",
            "Epoch 77/500\n",
            "104/104 [==============================] - 1s 5ms/step - loss: 0.7388 - accuracy: 0.7001 - val_loss: 0.7869 - val_accuracy: 0.7198\n",
            "Epoch 78/500\n",
            "104/104 [==============================] - 1s 7ms/step - loss: 0.6943 - accuracy: 0.7340 - val_loss: 0.8127 - val_accuracy: 0.6957\n",
            "Epoch 79/500\n",
            "104/104 [==============================] - 0s 4ms/step - loss: 0.7276 - accuracy: 0.7098 - val_loss: 0.7867 - val_accuracy: 0.6908\n",
            "Epoch 80/500\n",
            "104/104 [==============================] - 0s 4ms/step - loss: 0.7211 - accuracy: 0.7092 - val_loss: 0.8064 - val_accuracy: 0.6908\n",
            "Epoch 81/500\n",
            "104/104 [==============================] - 0s 4ms/step - loss: 0.7077 - accuracy: 0.7056 - val_loss: 0.8271 - val_accuracy: 0.6667\n",
            "Epoch 82/500\n",
            "104/104 [==============================] - 0s 4ms/step - loss: 0.6863 - accuracy: 0.7322 - val_loss: 0.7765 - val_accuracy: 0.7198\n",
            "Epoch 83/500\n",
            "104/104 [==============================] - 0s 5ms/step - loss: 0.6677 - accuracy: 0.7322 - val_loss: 0.7698 - val_accuracy: 0.7343\n",
            "Epoch 84/500\n",
            "104/104 [==============================] - 0s 4ms/step - loss: 0.7118 - accuracy: 0.7025 - val_loss: 0.7837 - val_accuracy: 0.7005\n",
            "Epoch 85/500\n",
            "104/104 [==============================] - 0s 4ms/step - loss: 0.6786 - accuracy: 0.7370 - val_loss: 0.8293 - val_accuracy: 0.6329\n",
            "Epoch 86/500\n",
            "104/104 [==============================] - 0s 4ms/step - loss: 0.6613 - accuracy: 0.7346 - val_loss: 0.7581 - val_accuracy: 0.7391\n",
            "Epoch 87/500\n",
            "104/104 [==============================] - 0s 4ms/step - loss: 0.6754 - accuracy: 0.7231 - val_loss: 0.7802 - val_accuracy: 0.6957\n",
            "Epoch 88/500\n",
            "104/104 [==============================] - 0s 4ms/step - loss: 0.6328 - accuracy: 0.7551 - val_loss: 0.7952 - val_accuracy: 0.7005\n",
            "Epoch 89/500\n",
            "104/104 [==============================] - 0s 4ms/step - loss: 0.6217 - accuracy: 0.7424 - val_loss: 0.7322 - val_accuracy: 0.7343\n",
            "Epoch 90/500\n",
            "104/104 [==============================] - 0s 4ms/step - loss: 0.6332 - accuracy: 0.7388 - val_loss: 0.7907 - val_accuracy: 0.7005\n",
            "Epoch 91/500\n",
            "104/104 [==============================] - 0s 4ms/step - loss: 0.6320 - accuracy: 0.7400 - val_loss: 0.8048 - val_accuracy: 0.6908\n",
            "Epoch 92/500\n",
            "104/104 [==============================] - 0s 5ms/step - loss: 0.6268 - accuracy: 0.7570 - val_loss: 0.7670 - val_accuracy: 0.7005\n",
            "Epoch 93/500\n",
            "104/104 [==============================] - 0s 4ms/step - loss: 0.6400 - accuracy: 0.7473 - val_loss: 0.7437 - val_accuracy: 0.7198\n",
            "Epoch 94/500\n",
            "104/104 [==============================] - 0s 4ms/step - loss: 0.6067 - accuracy: 0.7672 - val_loss: 0.7275 - val_accuracy: 0.7101\n",
            "Epoch 95/500\n",
            "104/104 [==============================] - 0s 5ms/step - loss: 0.6024 - accuracy: 0.7612 - val_loss: 0.7442 - val_accuracy: 0.7198\n",
            "Epoch 96/500\n",
            "104/104 [==============================] - 0s 5ms/step - loss: 0.5888 - accuracy: 0.7654 - val_loss: 0.8142 - val_accuracy: 0.6618\n",
            "Epoch 97/500\n",
            "104/104 [==============================] - 0s 4ms/step - loss: 0.6125 - accuracy: 0.7479 - val_loss: 0.7466 - val_accuracy: 0.6618\n",
            "Epoch 98/500\n",
            "104/104 [==============================] - 0s 5ms/step - loss: 0.5887 - accuracy: 0.7618 - val_loss: 0.7901 - val_accuracy: 0.6570\n",
            "Epoch 99/500\n",
            "104/104 [==============================] - 0s 4ms/step - loss: 0.5551 - accuracy: 0.7763 - val_loss: 0.7316 - val_accuracy: 0.7246\n",
            "Epoch 100/500\n",
            "104/104 [==============================] - 0s 4ms/step - loss: 0.5857 - accuracy: 0.7703 - val_loss: 0.7729 - val_accuracy: 0.6715\n",
            "Epoch 101/500\n",
            "104/104 [==============================] - 0s 5ms/step - loss: 0.5843 - accuracy: 0.7612 - val_loss: 0.7141 - val_accuracy: 0.7246\n",
            "Epoch 102/500\n",
            "104/104 [==============================] - 0s 5ms/step - loss: 0.5733 - accuracy: 0.7642 - val_loss: 0.7262 - val_accuracy: 0.6812\n",
            "Epoch 103/500\n",
            "104/104 [==============================] - 0s 4ms/step - loss: 0.5555 - accuracy: 0.7787 - val_loss: 0.7645 - val_accuracy: 0.6522\n",
            "Epoch 104/500\n",
            "104/104 [==============================] - 0s 4ms/step - loss: 0.5655 - accuracy: 0.7793 - val_loss: 0.7434 - val_accuracy: 0.6957\n",
            "Epoch 105/500\n",
            "104/104 [==============================] - 0s 4ms/step - loss: 0.5481 - accuracy: 0.7842 - val_loss: 0.7127 - val_accuracy: 0.6860\n",
            "Epoch 106/500\n",
            "104/104 [==============================] - 0s 4ms/step - loss: 0.5589 - accuracy: 0.7854 - val_loss: 0.7848 - val_accuracy: 0.6618\n",
            "Epoch 107/500\n",
            "104/104 [==============================] - 1s 5ms/step - loss: 0.5334 - accuracy: 0.7848 - val_loss: 0.7601 - val_accuracy: 0.6860\n",
            "Epoch 108/500\n",
            "104/104 [==============================] - 0s 4ms/step - loss: 0.5542 - accuracy: 0.7811 - val_loss: 0.7523 - val_accuracy: 0.6715\n",
            "Epoch 109/500\n",
            "104/104 [==============================] - 0s 5ms/step - loss: 0.5300 - accuracy: 0.7908 - val_loss: 0.6868 - val_accuracy: 0.7053\n",
            "Epoch 110/500\n",
            "104/104 [==============================] - 0s 5ms/step - loss: 0.5223 - accuracy: 0.7987 - val_loss: 0.7133 - val_accuracy: 0.7198\n",
            "Epoch 111/500\n",
            "104/104 [==============================] - 0s 4ms/step - loss: 0.5282 - accuracy: 0.7860 - val_loss: 0.7392 - val_accuracy: 0.7246\n",
            "Epoch 112/500\n",
            "104/104 [==============================] - 0s 4ms/step - loss: 0.4757 - accuracy: 0.8083 - val_loss: 0.7658 - val_accuracy: 0.6715\n",
            "Epoch 113/500\n",
            "104/104 [==============================] - 1s 5ms/step - loss: 0.5300 - accuracy: 0.7854 - val_loss: 0.7392 - val_accuracy: 0.7005\n",
            "Epoch 114/500\n",
            "104/104 [==============================] - 1s 5ms/step - loss: 0.4985 - accuracy: 0.8059 - val_loss: 0.7160 - val_accuracy: 0.7053\n",
            "Epoch 115/500\n",
            "104/104 [==============================] - 0s 5ms/step - loss: 0.5087 - accuracy: 0.7969 - val_loss: 0.7417 - val_accuracy: 0.7150\n",
            "Epoch 116/500\n",
            "104/104 [==============================] - 0s 5ms/step - loss: 0.4746 - accuracy: 0.8102 - val_loss: 0.6913 - val_accuracy: 0.7488\n",
            "Epoch 117/500\n",
            "104/104 [==============================] - 0s 5ms/step - loss: 0.4564 - accuracy: 0.8210 - val_loss: 0.7444 - val_accuracy: 0.6812\n",
            "Epoch 118/500\n",
            "104/104 [==============================] - 0s 4ms/step - loss: 0.4747 - accuracy: 0.8023 - val_loss: 0.7210 - val_accuracy: 0.7005\n",
            "Epoch 119/500\n",
            "104/104 [==============================] - 0s 4ms/step - loss: 0.4638 - accuracy: 0.8138 - val_loss: 0.7383 - val_accuracy: 0.7150\n",
            "Epoch 120/500\n",
            "104/104 [==============================] - 0s 4ms/step - loss: 0.4971 - accuracy: 0.8023 - val_loss: 0.6899 - val_accuracy: 0.7488\n",
            "Epoch 121/500\n",
            "104/104 [==============================] - 1s 8ms/step - loss: 0.4427 - accuracy: 0.8210 - val_loss: 0.7312 - val_accuracy: 0.7198\n",
            "Epoch 122/500\n",
            "104/104 [==============================] - 1s 7ms/step - loss: 0.4912 - accuracy: 0.8102 - val_loss: 0.7150 - val_accuracy: 0.7633\n",
            "Epoch 123/500\n",
            "104/104 [==============================] - 1s 5ms/step - loss: 0.4430 - accuracy: 0.8174 - val_loss: 0.7292 - val_accuracy: 0.6957\n",
            "Epoch 124/500\n",
            "104/104 [==============================] - 0s 4ms/step - loss: 0.4601 - accuracy: 0.8180 - val_loss: 0.7224 - val_accuracy: 0.7440\n",
            "Epoch 125/500\n",
            "104/104 [==============================] - 0s 4ms/step - loss: 0.4534 - accuracy: 0.8186 - val_loss: 0.7067 - val_accuracy: 0.7246\n",
            "Epoch 126/500\n",
            "104/104 [==============================] - 0s 5ms/step - loss: 0.4294 - accuracy: 0.8277 - val_loss: 0.6722 - val_accuracy: 0.7295\n",
            "Epoch 127/500\n",
            "104/104 [==============================] - 0s 5ms/step - loss: 0.4553 - accuracy: 0.8192 - val_loss: 0.6900 - val_accuracy: 0.7198\n",
            "Epoch 128/500\n",
            "104/104 [==============================] - 0s 5ms/step - loss: 0.4283 - accuracy: 0.8216 - val_loss: 0.7418 - val_accuracy: 0.6812\n",
            "Epoch 129/500\n",
            "104/104 [==============================] - 0s 4ms/step - loss: 0.4218 - accuracy: 0.8343 - val_loss: 0.7001 - val_accuracy: 0.7343\n",
            "Epoch 130/500\n",
            "104/104 [==============================] - 0s 5ms/step - loss: 0.4251 - accuracy: 0.8331 - val_loss: 0.7042 - val_accuracy: 0.7150\n",
            "Epoch 131/500\n",
            "104/104 [==============================] - 1s 5ms/step - loss: 0.4140 - accuracy: 0.8337 - val_loss: 0.7170 - val_accuracy: 0.7246\n",
            "Epoch 132/500\n",
            "104/104 [==============================] - 0s 4ms/step - loss: 0.4214 - accuracy: 0.8434 - val_loss: 0.6608 - val_accuracy: 0.7778\n",
            "Epoch 133/500\n",
            "104/104 [==============================] - 0s 5ms/step - loss: 0.3921 - accuracy: 0.8495 - val_loss: 0.6830 - val_accuracy: 0.7440\n",
            "Epoch 134/500\n",
            "104/104 [==============================] - 0s 5ms/step - loss: 0.4437 - accuracy: 0.8229 - val_loss: 0.6803 - val_accuracy: 0.7343\n",
            "Epoch 135/500\n",
            "104/104 [==============================] - 0s 5ms/step - loss: 0.4119 - accuracy: 0.8458 - val_loss: 0.6879 - val_accuracy: 0.7536\n",
            "Epoch 136/500\n",
            "104/104 [==============================] - 0s 5ms/step - loss: 0.4007 - accuracy: 0.8452 - val_loss: 0.7051 - val_accuracy: 0.7440\n",
            "Epoch 137/500\n",
            "104/104 [==============================] - 0s 4ms/step - loss: 0.3862 - accuracy: 0.8585 - val_loss: 0.6928 - val_accuracy: 0.7391\n",
            "Epoch 138/500\n",
            "104/104 [==============================] - 0s 4ms/step - loss: 0.4123 - accuracy: 0.8410 - val_loss: 0.7170 - val_accuracy: 0.7391\n",
            "Epoch 139/500\n",
            "104/104 [==============================] - 0s 5ms/step - loss: 0.3845 - accuracy: 0.8392 - val_loss: 0.7341 - val_accuracy: 0.7101\n",
            "Epoch 140/500\n",
            "104/104 [==============================] - 1s 7ms/step - loss: 0.3775 - accuracy: 0.8561 - val_loss: 0.6818 - val_accuracy: 0.7536\n",
            "Epoch 141/500\n",
            "104/104 [==============================] - 1s 9ms/step - loss: 0.3766 - accuracy: 0.8555 - val_loss: 0.6891 - val_accuracy: 0.7005\n",
            "Epoch 142/500\n",
            "104/104 [==============================] - 0s 4ms/step - loss: 0.4013 - accuracy: 0.8446 - val_loss: 0.7117 - val_accuracy: 0.7101\n",
            "Epoch 143/500\n",
            "104/104 [==============================] - 0s 4ms/step - loss: 0.3729 - accuracy: 0.8555 - val_loss: 0.7010 - val_accuracy: 0.7391\n",
            "Epoch 144/500\n",
            "104/104 [==============================] - 1s 5ms/step - loss: 0.3849 - accuracy: 0.8507 - val_loss: 0.6530 - val_accuracy: 0.7633\n",
            "Epoch 145/500\n",
            "104/104 [==============================] - 0s 4ms/step - loss: 0.3431 - accuracy: 0.8646 - val_loss: 0.6662 - val_accuracy: 0.7198\n",
            "Epoch 146/500\n",
            "104/104 [==============================] - 1s 5ms/step - loss: 0.3460 - accuracy: 0.8622 - val_loss: 0.6777 - val_accuracy: 0.7440\n",
            "Epoch 147/500\n",
            "104/104 [==============================] - 0s 4ms/step - loss: 0.3373 - accuracy: 0.8718 - val_loss: 0.6579 - val_accuracy: 0.7633\n",
            "Epoch 148/500\n",
            "104/104 [==============================] - 0s 5ms/step - loss: 0.3310 - accuracy: 0.8694 - val_loss: 0.6635 - val_accuracy: 0.7681\n",
            "Epoch 149/500\n",
            "104/104 [==============================] - 0s 5ms/step - loss: 0.3391 - accuracy: 0.8742 - val_loss: 0.6842 - val_accuracy: 0.7633\n",
            "Epoch 150/500\n",
            "104/104 [==============================] - 0s 4ms/step - loss: 0.3512 - accuracy: 0.8603 - val_loss: 0.6913 - val_accuracy: 0.7778\n",
            "Epoch 151/500\n",
            "104/104 [==============================] - 0s 4ms/step - loss: 0.3377 - accuracy: 0.8712 - val_loss: 0.6513 - val_accuracy: 0.7874\n",
            "Epoch 152/500\n",
            "104/104 [==============================] - 0s 4ms/step - loss: 0.3462 - accuracy: 0.8700 - val_loss: 0.6715 - val_accuracy: 0.7633\n",
            "Epoch 153/500\n",
            "104/104 [==============================] - 0s 4ms/step - loss: 0.3087 - accuracy: 0.8845 - val_loss: 0.6500 - val_accuracy: 0.7633\n",
            "Epoch 154/500\n",
            "104/104 [==============================] - 0s 5ms/step - loss: 0.3570 - accuracy: 0.8664 - val_loss: 0.6549 - val_accuracy: 0.7440\n",
            "Epoch 155/500\n",
            "104/104 [==============================] - 0s 4ms/step - loss: 0.3215 - accuracy: 0.8797 - val_loss: 0.6500 - val_accuracy: 0.7826\n",
            "Epoch 156/500\n",
            "104/104 [==============================] - 0s 5ms/step - loss: 0.3140 - accuracy: 0.8761 - val_loss: 0.6132 - val_accuracy: 0.7971\n",
            "Epoch 157/500\n",
            "104/104 [==============================] - 1s 5ms/step - loss: 0.3613 - accuracy: 0.8634 - val_loss: 0.6791 - val_accuracy: 0.7729\n",
            "Epoch 158/500\n",
            "104/104 [==============================] - 0s 5ms/step - loss: 0.3159 - accuracy: 0.8706 - val_loss: 0.6357 - val_accuracy: 0.7681\n",
            "Epoch 159/500\n",
            "104/104 [==============================] - 1s 8ms/step - loss: 0.3337 - accuracy: 0.8730 - val_loss: 0.6616 - val_accuracy: 0.7681\n",
            "Epoch 160/500\n",
            "104/104 [==============================] - 1s 8ms/step - loss: 0.3058 - accuracy: 0.8791 - val_loss: 0.6551 - val_accuracy: 0.7488\n",
            "Epoch 161/500\n",
            "104/104 [==============================] - 0s 4ms/step - loss: 0.2915 - accuracy: 0.8863 - val_loss: 0.6230 - val_accuracy: 0.7633\n",
            "Epoch 162/500\n",
            "104/104 [==============================] - 0s 5ms/step - loss: 0.3081 - accuracy: 0.8851 - val_loss: 0.6476 - val_accuracy: 0.8213\n",
            "Epoch 163/500\n",
            "104/104 [==============================] - 1s 5ms/step - loss: 0.2988 - accuracy: 0.8875 - val_loss: 0.6507 - val_accuracy: 0.7391\n",
            "Epoch 164/500\n",
            "104/104 [==============================] - 0s 4ms/step - loss: 0.3115 - accuracy: 0.8785 - val_loss: 0.6969 - val_accuracy: 0.7440\n",
            "Epoch 165/500\n",
            "104/104 [==============================] - 1s 5ms/step - loss: 0.2827 - accuracy: 0.8960 - val_loss: 0.6219 - val_accuracy: 0.7923\n",
            "Epoch 166/500\n",
            "104/104 [==============================] - 1s 5ms/step - loss: 0.2906 - accuracy: 0.8815 - val_loss: 0.6317 - val_accuracy: 0.7971\n",
            "Epoch 167/500\n",
            "104/104 [==============================] - 0s 5ms/step - loss: 0.2882 - accuracy: 0.8924 - val_loss: 0.6952 - val_accuracy: 0.7536\n",
            "Epoch 168/500\n",
            "104/104 [==============================] - 0s 5ms/step - loss: 0.3082 - accuracy: 0.8821 - val_loss: 0.6544 - val_accuracy: 0.7681\n",
            "Epoch 169/500\n",
            "104/104 [==============================] - 0s 5ms/step - loss: 0.2688 - accuracy: 0.8960 - val_loss: 0.7024 - val_accuracy: 0.7585\n",
            "Epoch 170/500\n",
            "104/104 [==============================] - 0s 4ms/step - loss: 0.2877 - accuracy: 0.9002 - val_loss: 0.6808 - val_accuracy: 0.7585\n",
            "Epoch 171/500\n",
            "104/104 [==============================] - 0s 4ms/step - loss: 0.2821 - accuracy: 0.8984 - val_loss: 0.6596 - val_accuracy: 0.7778\n",
            "Epoch 172/500\n",
            "104/104 [==============================] - 0s 5ms/step - loss: 0.3007 - accuracy: 0.8839 - val_loss: 0.6539 - val_accuracy: 0.7729\n",
            "Epoch 173/500\n",
            "104/104 [==============================] - 0s 5ms/step - loss: 0.2792 - accuracy: 0.8930 - val_loss: 0.6769 - val_accuracy: 0.7488\n",
            "Epoch 174/500\n",
            "104/104 [==============================] - 0s 4ms/step - loss: 0.2522 - accuracy: 0.9099 - val_loss: 0.6558 - val_accuracy: 0.7826\n",
            "Epoch 175/500\n",
            "104/104 [==============================] - 0s 4ms/step - loss: 0.2807 - accuracy: 0.8990 - val_loss: 0.6824 - val_accuracy: 0.7681\n",
            "Epoch 176/500\n",
            "104/104 [==============================] - 0s 4ms/step - loss: 0.2826 - accuracy: 0.8900 - val_loss: 0.6262 - val_accuracy: 0.7874\n",
            "Epoch 177/500\n",
            "104/104 [==============================] - 0s 4ms/step - loss: 0.2520 - accuracy: 0.9063 - val_loss: 0.6969 - val_accuracy: 0.7536\n",
            "Epoch 178/500\n",
            "104/104 [==============================] - 0s 5ms/step - loss: 0.2811 - accuracy: 0.8900 - val_loss: 0.7335 - val_accuracy: 0.7633\n",
            "Epoch 179/500\n",
            "104/104 [==============================] - 0s 5ms/step - loss: 0.2813 - accuracy: 0.8990 - val_loss: 0.6594 - val_accuracy: 0.7681\n",
            "Epoch 180/500\n",
            "104/104 [==============================] - 0s 5ms/step - loss: 0.2911 - accuracy: 0.8978 - val_loss: 0.6298 - val_accuracy: 0.7536\n",
            "Epoch 181/500\n",
            "104/104 [==============================] - 0s 5ms/step - loss: 0.2427 - accuracy: 0.9027 - val_loss: 0.6412 - val_accuracy: 0.7633\n",
            "Epoch 182/500\n",
            "104/104 [==============================] - 0s 4ms/step - loss: 0.2533 - accuracy: 0.9117 - val_loss: 0.6462 - val_accuracy: 0.7633\n",
            "Epoch 183/500\n",
            "104/104 [==============================] - 0s 5ms/step - loss: 0.2484 - accuracy: 0.9045 - val_loss: 0.6324 - val_accuracy: 0.7585\n",
            "Epoch 184/500\n",
            "104/104 [==============================] - 0s 5ms/step - loss: 0.2465 - accuracy: 0.9099 - val_loss: 0.6877 - val_accuracy: 0.7778\n",
            "Epoch 185/500\n",
            "104/104 [==============================] - 1s 5ms/step - loss: 0.2460 - accuracy: 0.9039 - val_loss: 0.7059 - val_accuracy: 0.7391\n",
            "Epoch 186/500\n",
            "104/104 [==============================] - 0s 5ms/step - loss: 0.2558 - accuracy: 0.8990 - val_loss: 0.6941 - val_accuracy: 0.7440\n",
            "Epoch 187/500\n",
            "104/104 [==============================] - 0s 4ms/step - loss: 0.2651 - accuracy: 0.8990 - val_loss: 0.6275 - val_accuracy: 0.7778\n",
            "Epoch 188/500\n",
            "104/104 [==============================] - 0s 5ms/step - loss: 0.2497 - accuracy: 0.9075 - val_loss: 0.6086 - val_accuracy: 0.8019\n",
            "Epoch 189/500\n",
            "104/104 [==============================] - 0s 5ms/step - loss: 0.2232 - accuracy: 0.9172 - val_loss: 0.6576 - val_accuracy: 0.7585\n",
            "Epoch 190/500\n",
            "104/104 [==============================] - 0s 5ms/step - loss: 0.2310 - accuracy: 0.9063 - val_loss: 0.6907 - val_accuracy: 0.7246\n",
            "Epoch 191/500\n",
            "104/104 [==============================] - 0s 4ms/step - loss: 0.2445 - accuracy: 0.9075 - val_loss: 0.6820 - val_accuracy: 0.7488\n",
            "Epoch 192/500\n",
            "104/104 [==============================] - 0s 5ms/step - loss: 0.2252 - accuracy: 0.9172 - val_loss: 0.6698 - val_accuracy: 0.7536\n",
            "Epoch 193/500\n",
            "104/104 [==============================] - 1s 5ms/step - loss: 0.2590 - accuracy: 0.9069 - val_loss: 0.6477 - val_accuracy: 0.7729\n",
            "Epoch 194/500\n",
            "104/104 [==============================] - 0s 5ms/step - loss: 0.2227 - accuracy: 0.9087 - val_loss: 0.6825 - val_accuracy: 0.7874\n",
            "Epoch 195/500\n",
            "104/104 [==============================] - 0s 4ms/step - loss: 0.2179 - accuracy: 0.9166 - val_loss: 0.6703 - val_accuracy: 0.7536\n",
            "Epoch 196/500\n",
            "104/104 [==============================] - 0s 4ms/step - loss: 0.2260 - accuracy: 0.9184 - val_loss: 0.6360 - val_accuracy: 0.7874\n",
            "Epoch 197/500\n",
            "104/104 [==============================] - 0s 5ms/step - loss: 0.2029 - accuracy: 0.9208 - val_loss: 0.6354 - val_accuracy: 0.7585\n",
            "Epoch 198/500\n",
            "104/104 [==============================] - 1s 5ms/step - loss: 0.2101 - accuracy: 0.9202 - val_loss: 0.6610 - val_accuracy: 0.7488\n",
            "Epoch 199/500\n",
            "104/104 [==============================] - 0s 5ms/step - loss: 0.2004 - accuracy: 0.9208 - val_loss: 0.5900 - val_accuracy: 0.7874\n",
            "Epoch 200/500\n",
            "104/104 [==============================] - 1s 5ms/step - loss: 0.2230 - accuracy: 0.9111 - val_loss: 0.6451 - val_accuracy: 0.7729\n",
            "Epoch 201/500\n",
            "104/104 [==============================] - 0s 4ms/step - loss: 0.2272 - accuracy: 0.9105 - val_loss: 0.6387 - val_accuracy: 0.7681\n",
            "Epoch 202/500\n",
            "104/104 [==============================] - 0s 5ms/step - loss: 0.2487 - accuracy: 0.9111 - val_loss: 0.6272 - val_accuracy: 0.7536\n",
            "Epoch 203/500\n",
            "104/104 [==============================] - 0s 4ms/step - loss: 0.2069 - accuracy: 0.9232 - val_loss: 0.6550 - val_accuracy: 0.7391\n",
            "Epoch 204/500\n",
            "104/104 [==============================] - 1s 6ms/step - loss: 0.1939 - accuracy: 0.9256 - val_loss: 0.6423 - val_accuracy: 0.7633\n",
            "Epoch 205/500\n",
            "104/104 [==============================] - 1s 6ms/step - loss: 0.2085 - accuracy: 0.9274 - val_loss: 0.6560 - val_accuracy: 0.7874\n",
            "Epoch 206/500\n",
            "104/104 [==============================] - 1s 6ms/step - loss: 0.2044 - accuracy: 0.9202 - val_loss: 0.6758 - val_accuracy: 0.7633\n",
            "Epoch 207/500\n",
            "104/104 [==============================] - 1s 7ms/step - loss: 0.2131 - accuracy: 0.9141 - val_loss: 0.6822 - val_accuracy: 0.7681\n",
            "Epoch 208/500\n",
            "104/104 [==============================] - 1s 6ms/step - loss: 0.2324 - accuracy: 0.9117 - val_loss: 0.5971 - val_accuracy: 0.7971\n",
            "Epoch 209/500\n",
            "104/104 [==============================] - 1s 7ms/step - loss: 0.2062 - accuracy: 0.9220 - val_loss: 0.6068 - val_accuracy: 0.8019\n",
            "Epoch 210/500\n",
            "104/104 [==============================] - 1s 6ms/step - loss: 0.2004 - accuracy: 0.9196 - val_loss: 0.6633 - val_accuracy: 0.7778\n",
            "Epoch 211/500\n",
            "104/104 [==============================] - 0s 5ms/step - loss: 0.1974 - accuracy: 0.9293 - val_loss: 0.6225 - val_accuracy: 0.7874\n",
            "Epoch 212/500\n",
            "104/104 [==============================] - 0s 5ms/step - loss: 0.2118 - accuracy: 0.9226 - val_loss: 0.6750 - val_accuracy: 0.7874\n",
            "Epoch 213/500\n",
            "104/104 [==============================] - 0s 5ms/step - loss: 0.2108 - accuracy: 0.9214 - val_loss: 0.6641 - val_accuracy: 0.7778\n",
            "Epoch 214/500\n",
            "104/104 [==============================] - 0s 4ms/step - loss: 0.1754 - accuracy: 0.9395 - val_loss: 0.6749 - val_accuracy: 0.7585\n",
            "Epoch 215/500\n",
            "104/104 [==============================] - 0s 4ms/step - loss: 0.2005 - accuracy: 0.9226 - val_loss: 0.6671 - val_accuracy: 0.7778\n",
            "Epoch 216/500\n",
            "104/104 [==============================] - 1s 5ms/step - loss: 0.2001 - accuracy: 0.9202 - val_loss: 0.6990 - val_accuracy: 0.7729\n",
            "Epoch 217/500\n",
            "104/104 [==============================] - 0s 5ms/step - loss: 0.1963 - accuracy: 0.9287 - val_loss: 0.6612 - val_accuracy: 0.7778\n",
            "Epoch 218/500\n",
            "104/104 [==============================] - 0s 5ms/step - loss: 0.1857 - accuracy: 0.9323 - val_loss: 0.6721 - val_accuracy: 0.7729\n",
            "Epoch 219/500\n",
            "104/104 [==============================] - 0s 5ms/step - loss: 0.1914 - accuracy: 0.9299 - val_loss: 0.6281 - val_accuracy: 0.7923\n",
            "Epoch 220/500\n",
            "104/104 [==============================] - 1s 5ms/step - loss: 0.2085 - accuracy: 0.9262 - val_loss: 0.6297 - val_accuracy: 0.8019\n",
            "Epoch 221/500\n",
            "104/104 [==============================] - 0s 5ms/step - loss: 0.1737 - accuracy: 0.9371 - val_loss: 0.7178 - val_accuracy: 0.7391\n",
            "Epoch 222/500\n",
            "104/104 [==============================] - 0s 4ms/step - loss: 0.2229 - accuracy: 0.9214 - val_loss: 0.6359 - val_accuracy: 0.7923\n",
            "Epoch 223/500\n",
            "104/104 [==============================] - 0s 5ms/step - loss: 0.1791 - accuracy: 0.9329 - val_loss: 0.6320 - val_accuracy: 0.7874\n",
            "Epoch 224/500\n",
            "104/104 [==============================] - 0s 4ms/step - loss: 0.1981 - accuracy: 0.9305 - val_loss: 0.6783 - val_accuracy: 0.7971\n",
            "Epoch 225/500\n",
            "104/104 [==============================] - 0s 4ms/step - loss: 0.1609 - accuracy: 0.9353 - val_loss: 0.6781 - val_accuracy: 0.7633\n",
            "Epoch 226/500\n",
            "104/104 [==============================] - 0s 4ms/step - loss: 0.1834 - accuracy: 0.9299 - val_loss: 0.6815 - val_accuracy: 0.7826\n",
            "Epoch 227/500\n",
            "104/104 [==============================] - 0s 4ms/step - loss: 0.2187 - accuracy: 0.9178 - val_loss: 0.6991 - val_accuracy: 0.7633\n",
            "Epoch 228/500\n",
            "104/104 [==============================] - 1s 5ms/step - loss: 0.1792 - accuracy: 0.9311 - val_loss: 0.6755 - val_accuracy: 0.7778\n",
            "Epoch 229/500\n",
            "104/104 [==============================] - 1s 5ms/step - loss: 0.1968 - accuracy: 0.9268 - val_loss: 0.6213 - val_accuracy: 0.7826\n",
            "Epoch 230/500\n",
            "104/104 [==============================] - 0s 4ms/step - loss: 0.1621 - accuracy: 0.9414 - val_loss: 0.6481 - val_accuracy: 0.7681\n",
            "Epoch 231/500\n",
            "104/104 [==============================] - 1s 5ms/step - loss: 0.1625 - accuracy: 0.9395 - val_loss: 0.7136 - val_accuracy: 0.7536\n",
            "Epoch 232/500\n",
            "104/104 [==============================] - 0s 5ms/step - loss: 0.1727 - accuracy: 0.9420 - val_loss: 0.7025 - val_accuracy: 0.7729\n",
            "Epoch 233/500\n",
            "104/104 [==============================] - 0s 4ms/step - loss: 0.2185 - accuracy: 0.9244 - val_loss: 0.6886 - val_accuracy: 0.7681\n",
            "Epoch 234/500\n",
            "104/104 [==============================] - 0s 5ms/step - loss: 0.1850 - accuracy: 0.9335 - val_loss: 0.6797 - val_accuracy: 0.7826\n",
            "Epoch 235/500\n",
            "104/104 [==============================] - 1s 5ms/step - loss: 0.1712 - accuracy: 0.9395 - val_loss: 0.6906 - val_accuracy: 0.7681\n",
            "Epoch 236/500\n",
            "104/104 [==============================] - 0s 5ms/step - loss: 0.1792 - accuracy: 0.9305 - val_loss: 0.6932 - val_accuracy: 0.7488\n",
            "Epoch 237/500\n",
            "104/104 [==============================] - 0s 4ms/step - loss: 0.1811 - accuracy: 0.9317 - val_loss: 0.6703 - val_accuracy: 0.7971\n",
            "Epoch 238/500\n",
            "104/104 [==============================] - 0s 5ms/step - loss: 0.1571 - accuracy: 0.9486 - val_loss: 0.7148 - val_accuracy: 0.7778\n",
            "Epoch 239/500\n",
            "104/104 [==============================] - 0s 5ms/step - loss: 0.1685 - accuracy: 0.9395 - val_loss: 0.7287 - val_accuracy: 0.7343\n",
            "Epoch 240/500\n",
            "104/104 [==============================] - 0s 5ms/step - loss: 0.1670 - accuracy: 0.9371 - val_loss: 0.6689 - val_accuracy: 0.7826\n",
            "Epoch 241/500\n",
            "104/104 [==============================] - 0s 4ms/step - loss: 0.1310 - accuracy: 0.9589 - val_loss: 0.7062 - val_accuracy: 0.7778\n",
            "Epoch 242/500\n",
            "104/104 [==============================] - 0s 5ms/step - loss: 0.1820 - accuracy: 0.9311 - val_loss: 0.7045 - val_accuracy: 0.7874\n",
            "Epoch 243/500\n",
            "104/104 [==============================] - 0s 5ms/step - loss: 0.1357 - accuracy: 0.9492 - val_loss: 0.7804 - val_accuracy: 0.7729\n",
            "Epoch 244/500\n",
            "104/104 [==============================] - 0s 5ms/step - loss: 0.1569 - accuracy: 0.9407 - val_loss: 0.7038 - val_accuracy: 0.7826\n",
            "Epoch 245/500\n",
            "104/104 [==============================] - 1s 5ms/step - loss: 0.1666 - accuracy: 0.9341 - val_loss: 0.6858 - val_accuracy: 0.7585\n",
            "Epoch 246/500\n",
            "104/104 [==============================] - 0s 4ms/step - loss: 0.1664 - accuracy: 0.9426 - val_loss: 0.6568 - val_accuracy: 0.7729\n",
            "Epoch 247/500\n",
            "104/104 [==============================] - 0s 5ms/step - loss: 0.1808 - accuracy: 0.9305 - val_loss: 0.6821 - val_accuracy: 0.7826\n",
            "Epoch 248/500\n",
            "104/104 [==============================] - 0s 5ms/step - loss: 0.1692 - accuracy: 0.9383 - val_loss: 0.6938 - val_accuracy: 0.7536\n",
            "Epoch 249/500\n",
            "104/104 [==============================] - 0s 4ms/step - loss: 0.1947 - accuracy: 0.9323 - val_loss: 0.6957 - val_accuracy: 0.7681\n",
            "Epoch 250/500\n",
            "104/104 [==============================] - 0s 5ms/step - loss: 0.1865 - accuracy: 0.9341 - val_loss: 0.6600 - val_accuracy: 0.7923\n",
            "Epoch 251/500\n",
            "104/104 [==============================] - 0s 4ms/step - loss: 0.1617 - accuracy: 0.9359 - val_loss: 0.6398 - val_accuracy: 0.7971\n",
            "Epoch 252/500\n",
            "104/104 [==============================] - 0s 5ms/step - loss: 0.1465 - accuracy: 0.9462 - val_loss: 0.7031 - val_accuracy: 0.7536\n",
            "Epoch 253/500\n",
            "104/104 [==============================] - 0s 5ms/step - loss: 0.1480 - accuracy: 0.9486 - val_loss: 0.7189 - val_accuracy: 0.7585\n",
            "Epoch 254/500\n",
            "104/104 [==============================] - 0s 5ms/step - loss: 0.1348 - accuracy: 0.9528 - val_loss: 0.6878 - val_accuracy: 0.7681\n",
            "Epoch 255/500\n",
            "104/104 [==============================] - 0s 5ms/step - loss: 0.1356 - accuracy: 0.9504 - val_loss: 0.6817 - val_accuracy: 0.8116\n",
            "Epoch 256/500\n",
            "104/104 [==============================] - 1s 5ms/step - loss: 0.1408 - accuracy: 0.9426 - val_loss: 0.6655 - val_accuracy: 0.7681\n",
            "Epoch 257/500\n",
            "104/104 [==============================] - 0s 5ms/step - loss: 0.1397 - accuracy: 0.9510 - val_loss: 0.6752 - val_accuracy: 0.7585\n",
            "Epoch 258/500\n",
            "104/104 [==============================] - 1s 5ms/step - loss: 0.1263 - accuracy: 0.9528 - val_loss: 0.7616 - val_accuracy: 0.7391\n",
            "Epoch 259/500\n",
            "104/104 [==============================] - 1s 5ms/step - loss: 0.1322 - accuracy: 0.9547 - val_loss: 0.6730 - val_accuracy: 0.7633\n",
            "Epoch 260/500\n",
            "104/104 [==============================] - 0s 5ms/step - loss: 0.1726 - accuracy: 0.9353 - val_loss: 0.6773 - val_accuracy: 0.7729\n",
            "Epoch 261/500\n",
            "104/104 [==============================] - 1s 5ms/step - loss: 0.1545 - accuracy: 0.9407 - val_loss: 0.6812 - val_accuracy: 0.7681\n",
            "Epoch 262/500\n",
            "104/104 [==============================] - 0s 5ms/step - loss: 0.1444 - accuracy: 0.9468 - val_loss: 0.6590 - val_accuracy: 0.7729\n",
            "Epoch 263/500\n",
            "104/104 [==============================] - 1s 5ms/step - loss: 0.1711 - accuracy: 0.9329 - val_loss: 0.7742 - val_accuracy: 0.7729\n",
            "Epoch 264/500\n",
            "104/104 [==============================] - 1s 5ms/step - loss: 0.1639 - accuracy: 0.9395 - val_loss: 0.7206 - val_accuracy: 0.7633\n",
            "Epoch 265/500\n",
            "104/104 [==============================] - 1s 5ms/step - loss: 0.1598 - accuracy: 0.9377 - val_loss: 0.7342 - val_accuracy: 0.7536\n",
            "Epoch 266/500\n",
            "104/104 [==============================] - 0s 5ms/step - loss: 0.1398 - accuracy: 0.9444 - val_loss: 0.6491 - val_accuracy: 0.7923\n",
            "Epoch 267/500\n",
            "104/104 [==============================] - 0s 5ms/step - loss: 0.1786 - accuracy: 0.9347 - val_loss: 0.7329 - val_accuracy: 0.7923\n",
            "Epoch 268/500\n",
            "104/104 [==============================] - 1s 5ms/step - loss: 0.1230 - accuracy: 0.9595 - val_loss: 0.7395 - val_accuracy: 0.7585\n",
            "Epoch 269/500\n",
            "104/104 [==============================] - 1s 5ms/step - loss: 0.1293 - accuracy: 0.9486 - val_loss: 0.6773 - val_accuracy: 0.7778\n",
            "Epoch 270/500\n",
            "104/104 [==============================] - 1s 5ms/step - loss: 0.1486 - accuracy: 0.9444 - val_loss: 0.6674 - val_accuracy: 0.8019\n",
            "Epoch 271/500\n",
            "104/104 [==============================] - 1s 5ms/step - loss: 0.1330 - accuracy: 0.9468 - val_loss: 0.7231 - val_accuracy: 0.7729\n",
            "Epoch 272/500\n",
            "104/104 [==============================] - 0s 5ms/step - loss: 0.1357 - accuracy: 0.9547 - val_loss: 0.6799 - val_accuracy: 0.7633\n",
            "Epoch 273/500\n",
            "104/104 [==============================] - 0s 5ms/step - loss: 0.1254 - accuracy: 0.9589 - val_loss: 0.6819 - val_accuracy: 0.7826\n",
            "Epoch 274/500\n",
            "104/104 [==============================] - 0s 5ms/step - loss: 0.1494 - accuracy: 0.9450 - val_loss: 0.6485 - val_accuracy: 0.7874\n",
            "Epoch 275/500\n",
            "104/104 [==============================] - 0s 5ms/step - loss: 0.1447 - accuracy: 0.9401 - val_loss: 0.6708 - val_accuracy: 0.7778\n",
            "Epoch 276/500\n",
            "104/104 [==============================] - 1s 5ms/step - loss: 0.1293 - accuracy: 0.9486 - val_loss: 0.6264 - val_accuracy: 0.8116\n",
            "Epoch 277/500\n",
            "104/104 [==============================] - 1s 5ms/step - loss: 0.1180 - accuracy: 0.9607 - val_loss: 0.7159 - val_accuracy: 0.7729\n",
            "Epoch 278/500\n",
            "104/104 [==============================] - 0s 5ms/step - loss: 0.1667 - accuracy: 0.9395 - val_loss: 0.7089 - val_accuracy: 0.7874\n",
            "Epoch 279/500\n",
            "104/104 [==============================] - 1s 5ms/step - loss: 0.1317 - accuracy: 0.9516 - val_loss: 0.7336 - val_accuracy: 0.7585\n",
            "Epoch 280/500\n",
            "104/104 [==============================] - 1s 5ms/step - loss: 0.1300 - accuracy: 0.9528 - val_loss: 0.6932 - val_accuracy: 0.8019\n",
            "Epoch 281/500\n",
            "104/104 [==============================] - 1s 5ms/step - loss: 0.1461 - accuracy: 0.9480 - val_loss: 0.7142 - val_accuracy: 0.7488\n",
            "Epoch 282/500\n",
            "104/104 [==============================] - 1s 5ms/step - loss: 0.1282 - accuracy: 0.9559 - val_loss: 0.6503 - val_accuracy: 0.8068\n",
            "Epoch 283/500\n",
            "104/104 [==============================] - 1s 5ms/step - loss: 0.1125 - accuracy: 0.9553 - val_loss: 0.7261 - val_accuracy: 0.7778\n",
            "Epoch 284/500\n",
            "104/104 [==============================] - 0s 5ms/step - loss: 0.1151 - accuracy: 0.9547 - val_loss: 0.6829 - val_accuracy: 0.7778\n",
            "Epoch 285/500\n",
            "104/104 [==============================] - 0s 5ms/step - loss: 0.1283 - accuracy: 0.9541 - val_loss: 0.7613 - val_accuracy: 0.7488\n",
            "Epoch 286/500\n",
            "104/104 [==============================] - 1s 5ms/step - loss: 0.1368 - accuracy: 0.9468 - val_loss: 0.7099 - val_accuracy: 0.7778\n",
            "Epoch 287/500\n",
            "104/104 [==============================] - 1s 5ms/step - loss: 0.1386 - accuracy: 0.9504 - val_loss: 0.7952 - val_accuracy: 0.7488\n",
            "Epoch 288/500\n",
            "104/104 [==============================] - 1s 5ms/step - loss: 0.1224 - accuracy: 0.9541 - val_loss: 0.7089 - val_accuracy: 0.7488\n",
            "Epoch 289/500\n",
            "104/104 [==============================] - 0s 5ms/step - loss: 0.1083 - accuracy: 0.9589 - val_loss: 0.7415 - val_accuracy: 0.7778\n",
            "Epoch 290/500\n",
            "104/104 [==============================] - 0s 5ms/step - loss: 0.1331 - accuracy: 0.9468 - val_loss: 0.7446 - val_accuracy: 0.7826\n",
            "Epoch 291/500\n",
            "104/104 [==============================] - 1s 5ms/step - loss: 0.1460 - accuracy: 0.9474 - val_loss: 0.7238 - val_accuracy: 0.8068\n",
            "Epoch 292/500\n",
            "104/104 [==============================] - 1s 5ms/step - loss: 0.1449 - accuracy: 0.9492 - val_loss: 0.7126 - val_accuracy: 0.8019\n",
            "Epoch 293/500\n",
            "104/104 [==============================] - 1s 5ms/step - loss: 0.1337 - accuracy: 0.9468 - val_loss: 0.6941 - val_accuracy: 0.7826\n",
            "Epoch 294/500\n",
            "104/104 [==============================] - 1s 5ms/step - loss: 0.1328 - accuracy: 0.9541 - val_loss: 0.6783 - val_accuracy: 0.8116\n",
            "Epoch 295/500\n",
            "104/104 [==============================] - 0s 5ms/step - loss: 0.1266 - accuracy: 0.9504 - val_loss: 0.7027 - val_accuracy: 0.7874\n",
            "Epoch 296/500\n",
            "104/104 [==============================] - 0s 5ms/step - loss: 0.1308 - accuracy: 0.9565 - val_loss: 0.6710 - val_accuracy: 0.8019\n",
            "Epoch 297/500\n",
            "104/104 [==============================] - 1s 5ms/step - loss: 0.1176 - accuracy: 0.9571 - val_loss: 0.7282 - val_accuracy: 0.7536\n",
            "Epoch 298/500\n",
            "104/104 [==============================] - 1s 5ms/step - loss: 0.1599 - accuracy: 0.9456 - val_loss: 0.7088 - val_accuracy: 0.7633\n",
            "Epoch 299/500\n",
            "104/104 [==============================] - 0s 5ms/step - loss: 0.1113 - accuracy: 0.9607 - val_loss: 0.7257 - val_accuracy: 0.8068\n",
            "Epoch 300/500\n",
            "104/104 [==============================] - 0s 5ms/step - loss: 0.1183 - accuracy: 0.9553 - val_loss: 0.7426 - val_accuracy: 0.8019\n",
            "Epoch 301/500\n",
            "104/104 [==============================] - 0s 5ms/step - loss: 0.1169 - accuracy: 0.9583 - val_loss: 0.7251 - val_accuracy: 0.7971\n",
            "Epoch 302/500\n",
            "104/104 [==============================] - 0s 5ms/step - loss: 0.1116 - accuracy: 0.9559 - val_loss: 0.7554 - val_accuracy: 0.7633\n",
            "Epoch 303/500\n",
            "104/104 [==============================] - 1s 5ms/step - loss: 0.1291 - accuracy: 0.9528 - val_loss: 0.7387 - val_accuracy: 0.7729\n",
            "Epoch 304/500\n",
            "104/104 [==============================] - 0s 5ms/step - loss: 0.1236 - accuracy: 0.9553 - val_loss: 0.7426 - val_accuracy: 0.7826\n",
            "Epoch 305/500\n",
            "104/104 [==============================] - 1s 5ms/step - loss: 0.1310 - accuracy: 0.9571 - val_loss: 0.7046 - val_accuracy: 0.7971\n",
            "Epoch 306/500\n",
            "104/104 [==============================] - 1s 5ms/step - loss: 0.1098 - accuracy: 0.9601 - val_loss: 0.7233 - val_accuracy: 0.7729\n",
            "Epoch 307/500\n",
            "104/104 [==============================] - 0s 5ms/step - loss: 0.1326 - accuracy: 0.9516 - val_loss: 0.6568 - val_accuracy: 0.7729\n",
            "Epoch 308/500\n",
            "104/104 [==============================] - 0s 5ms/step - loss: 0.1130 - accuracy: 0.9649 - val_loss: 0.7519 - val_accuracy: 0.7826\n",
            "Epoch 309/500\n",
            "104/104 [==============================] - 0s 5ms/step - loss: 0.1074 - accuracy: 0.9655 - val_loss: 0.6895 - val_accuracy: 0.7971\n",
            "Epoch 310/500\n",
            "104/104 [==============================] - 1s 5ms/step - loss: 0.1117 - accuracy: 0.9577 - val_loss: 0.7076 - val_accuracy: 0.7826\n",
            "Epoch 311/500\n",
            "104/104 [==============================] - 1s 5ms/step - loss: 0.0931 - accuracy: 0.9655 - val_loss: 0.7105 - val_accuracy: 0.7874\n",
            "Epoch 312/500\n",
            "104/104 [==============================] - 0s 5ms/step - loss: 0.1262 - accuracy: 0.9504 - val_loss: 0.6600 - val_accuracy: 0.8357\n",
            "Epoch 313/500\n",
            "104/104 [==============================] - 1s 5ms/step - loss: 0.0935 - accuracy: 0.9649 - val_loss: 0.7068 - val_accuracy: 0.7633\n",
            "Epoch 314/500\n",
            "104/104 [==============================] - 1s 5ms/step - loss: 0.1102 - accuracy: 0.9601 - val_loss: 0.6990 - val_accuracy: 0.7729\n",
            "Epoch 315/500\n",
            "104/104 [==============================] - 1s 5ms/step - loss: 0.1104 - accuracy: 0.9583 - val_loss: 0.6736 - val_accuracy: 0.8068\n",
            "Epoch 316/500\n",
            "104/104 [==============================] - 1s 5ms/step - loss: 0.1152 - accuracy: 0.9571 - val_loss: 0.7337 - val_accuracy: 0.7826\n",
            "Epoch 317/500\n",
            "104/104 [==============================] - 0s 5ms/step - loss: 0.1052 - accuracy: 0.9674 - val_loss: 0.7196 - val_accuracy: 0.7778\n",
            "Epoch 318/500\n",
            "104/104 [==============================] - 0s 5ms/step - loss: 0.1079 - accuracy: 0.9607 - val_loss: 0.7089 - val_accuracy: 0.7923\n",
            "Epoch 319/500\n",
            "104/104 [==============================] - 1s 5ms/step - loss: 0.1433 - accuracy: 0.9438 - val_loss: 0.7564 - val_accuracy: 0.7874\n",
            "Epoch 320/500\n",
            "104/104 [==============================] - 0s 5ms/step - loss: 0.1074 - accuracy: 0.9565 - val_loss: 0.6995 - val_accuracy: 0.7729\n",
            "Epoch 321/500\n",
            "104/104 [==============================] - 1s 5ms/step - loss: 0.1156 - accuracy: 0.9583 - val_loss: 0.7031 - val_accuracy: 0.7778\n",
            "Epoch 322/500\n",
            "104/104 [==============================] - 1s 5ms/step - loss: 0.1128 - accuracy: 0.9613 - val_loss: 0.6909 - val_accuracy: 0.7874\n",
            "Epoch 323/500\n",
            "104/104 [==============================] - 1s 5ms/step - loss: 0.1216 - accuracy: 0.9528 - val_loss: 0.7148 - val_accuracy: 0.7633\n",
            "Epoch 324/500\n",
            "104/104 [==============================] - 1s 5ms/step - loss: 0.1306 - accuracy: 0.9541 - val_loss: 0.7557 - val_accuracy: 0.7826\n",
            "Epoch 325/500\n",
            "104/104 [==============================] - 0s 5ms/step - loss: 0.0993 - accuracy: 0.9649 - val_loss: 0.7470 - val_accuracy: 0.7874\n",
            "Epoch 326/500\n",
            "104/104 [==============================] - 1s 5ms/step - loss: 0.0919 - accuracy: 0.9692 - val_loss: 0.7129 - val_accuracy: 0.7923\n",
            "Epoch 327/500\n",
            "104/104 [==============================] - 1s 5ms/step - loss: 0.0888 - accuracy: 0.9680 - val_loss: 0.6851 - val_accuracy: 0.7874\n",
            "Epoch 328/500\n",
            "104/104 [==============================] - 1s 5ms/step - loss: 0.0772 - accuracy: 0.9704 - val_loss: 0.7549 - val_accuracy: 0.7923\n",
            "Epoch 329/500\n",
            "104/104 [==============================] - 1s 5ms/step - loss: 0.1182 - accuracy: 0.9601 - val_loss: 0.6988 - val_accuracy: 0.7778\n",
            "Epoch 330/500\n",
            "104/104 [==============================] - 0s 5ms/step - loss: 0.1165 - accuracy: 0.9577 - val_loss: 0.7364 - val_accuracy: 0.7874\n",
            "Epoch 331/500\n",
            "104/104 [==============================] - 1s 5ms/step - loss: 0.1216 - accuracy: 0.9541 - val_loss: 0.7259 - val_accuracy: 0.8068\n",
            "Epoch 332/500\n",
            "104/104 [==============================] - 1s 5ms/step - loss: 0.1295 - accuracy: 0.9541 - val_loss: 0.6593 - val_accuracy: 0.8068\n",
            "Epoch 333/500\n",
            "104/104 [==============================] - 0s 5ms/step - loss: 0.0934 - accuracy: 0.9680 - val_loss: 0.7173 - val_accuracy: 0.7971\n",
            "Epoch 334/500\n",
            "104/104 [==============================] - 1s 5ms/step - loss: 0.0846 - accuracy: 0.9710 - val_loss: 0.7058 - val_accuracy: 0.8068\n",
            "Epoch 335/500\n",
            "104/104 [==============================] - 1s 5ms/step - loss: 0.0826 - accuracy: 0.9704 - val_loss: 0.7086 - val_accuracy: 0.7923\n",
            "Epoch 336/500\n",
            "104/104 [==============================] - 0s 5ms/step - loss: 0.1189 - accuracy: 0.9547 - val_loss: 0.7189 - val_accuracy: 0.7923\n",
            "Epoch 337/500\n",
            "104/104 [==============================] - 0s 5ms/step - loss: 0.1377 - accuracy: 0.9498 - val_loss: 0.7846 - val_accuracy: 0.7585\n",
            "Epoch 338/500\n",
            "104/104 [==============================] - 0s 5ms/step - loss: 0.1131 - accuracy: 0.9559 - val_loss: 0.6650 - val_accuracy: 0.8116\n",
            "Epoch 339/500\n",
            "104/104 [==============================] - 0s 5ms/step - loss: 0.1045 - accuracy: 0.9583 - val_loss: 0.7743 - val_accuracy: 0.7923\n",
            "Epoch 340/500\n",
            "104/104 [==============================] - 1s 5ms/step - loss: 0.1201 - accuracy: 0.9595 - val_loss: 0.7654 - val_accuracy: 0.7874\n",
            "Epoch 341/500\n",
            "104/104 [==============================] - 1s 5ms/step - loss: 0.0844 - accuracy: 0.9674 - val_loss: 0.7403 - val_accuracy: 0.7874\n",
            "Epoch 342/500\n",
            "104/104 [==============================] - 1s 5ms/step - loss: 0.1022 - accuracy: 0.9643 - val_loss: 0.7476 - val_accuracy: 0.7971\n",
            "Epoch 343/500\n",
            "104/104 [==============================] - 1s 5ms/step - loss: 0.1039 - accuracy: 0.9601 - val_loss: 0.7941 - val_accuracy: 0.8164\n",
            "Epoch 344/500\n",
            "104/104 [==============================] - 0s 5ms/step - loss: 0.0950 - accuracy: 0.9655 - val_loss: 0.7079 - val_accuracy: 0.8116\n",
            "Epoch 345/500\n",
            "104/104 [==============================] - 1s 5ms/step - loss: 0.0965 - accuracy: 0.9643 - val_loss: 0.7407 - val_accuracy: 0.7923\n",
            "Epoch 346/500\n",
            "104/104 [==============================] - 1s 5ms/step - loss: 0.1111 - accuracy: 0.9649 - val_loss: 0.7278 - val_accuracy: 0.7923\n",
            "Epoch 347/500\n",
            "104/104 [==============================] - 1s 5ms/step - loss: 0.1106 - accuracy: 0.9547 - val_loss: 0.7816 - val_accuracy: 0.7778\n",
            "Epoch 348/500\n",
            "104/104 [==============================] - 1s 5ms/step - loss: 0.1162 - accuracy: 0.9565 - val_loss: 0.6782 - val_accuracy: 0.8357\n",
            "Epoch 349/500\n",
            "104/104 [==============================] - 1s 5ms/step - loss: 0.0737 - accuracy: 0.9758 - val_loss: 0.7138 - val_accuracy: 0.8068\n",
            "Epoch 350/500\n",
            "104/104 [==============================] - 1s 5ms/step - loss: 0.1013 - accuracy: 0.9631 - val_loss: 0.6948 - val_accuracy: 0.7778\n",
            "Epoch 351/500\n",
            "104/104 [==============================] - 1s 5ms/step - loss: 0.0886 - accuracy: 0.9686 - val_loss: 0.7363 - val_accuracy: 0.8116\n",
            "Epoch 352/500\n",
            "104/104 [==============================] - 1s 5ms/step - loss: 0.1046 - accuracy: 0.9547 - val_loss: 0.7718 - val_accuracy: 0.7923\n",
            "Epoch 353/500\n",
            "104/104 [==============================] - 0s 5ms/step - loss: 0.0966 - accuracy: 0.9674 - val_loss: 0.7495 - val_accuracy: 0.8019\n",
            "Epoch 354/500\n",
            "104/104 [==============================] - 1s 5ms/step - loss: 0.1022 - accuracy: 0.9661 - val_loss: 0.7355 - val_accuracy: 0.8357\n",
            "Epoch 355/500\n",
            "104/104 [==============================] - 1s 5ms/step - loss: 0.0883 - accuracy: 0.9643 - val_loss: 0.7495 - val_accuracy: 0.7971\n",
            "Epoch 356/500\n",
            "104/104 [==============================] - 1s 5ms/step - loss: 0.0848 - accuracy: 0.9692 - val_loss: 0.7377 - val_accuracy: 0.7681\n",
            "Epoch 357/500\n",
            "104/104 [==============================] - 1s 5ms/step - loss: 0.0994 - accuracy: 0.9655 - val_loss: 0.7189 - val_accuracy: 0.7826\n",
            "Epoch 358/500\n",
            "104/104 [==============================] - 1s 5ms/step - loss: 0.1052 - accuracy: 0.9680 - val_loss: 0.7604 - val_accuracy: 0.7826\n",
            "Epoch 359/500\n",
            "104/104 [==============================] - 1s 5ms/step - loss: 0.1137 - accuracy: 0.9589 - val_loss: 0.8023 - val_accuracy: 0.7536\n",
            "Epoch 360/500\n",
            "104/104 [==============================] - 1s 5ms/step - loss: 0.0932 - accuracy: 0.9661 - val_loss: 0.7402 - val_accuracy: 0.7874\n",
            "Epoch 361/500\n",
            "104/104 [==============================] - 0s 5ms/step - loss: 0.0880 - accuracy: 0.9649 - val_loss: 0.7524 - val_accuracy: 0.7874\n",
            "Epoch 362/500\n",
            "104/104 [==============================] - 1s 5ms/step - loss: 0.0889 - accuracy: 0.9698 - val_loss: 0.7190 - val_accuracy: 0.7923\n",
            "Epoch 363/500\n",
            "104/104 [==============================] - 0s 5ms/step - loss: 0.0949 - accuracy: 0.9649 - val_loss: 0.7938 - val_accuracy: 0.7778\n",
            "Epoch 364/500\n",
            "104/104 [==============================] - 1s 5ms/step - loss: 0.1135 - accuracy: 0.9571 - val_loss: 0.7597 - val_accuracy: 0.7778\n",
            "Epoch 365/500\n",
            "104/104 [==============================] - 0s 5ms/step - loss: 0.0823 - accuracy: 0.9686 - val_loss: 0.7935 - val_accuracy: 0.7585\n",
            "Epoch 366/500\n",
            "104/104 [==============================] - 1s 5ms/step - loss: 0.0795 - accuracy: 0.9710 - val_loss: 0.7295 - val_accuracy: 0.7826\n",
            "Epoch 367/500\n",
            "104/104 [==============================] - 1s 5ms/step - loss: 0.0782 - accuracy: 0.9692 - val_loss: 0.6740 - val_accuracy: 0.8019\n",
            "Epoch 368/500\n",
            "104/104 [==============================] - 0s 5ms/step - loss: 0.0924 - accuracy: 0.9686 - val_loss: 0.7263 - val_accuracy: 0.7826\n",
            "Epoch 369/500\n",
            "104/104 [==============================] - 1s 5ms/step - loss: 0.1071 - accuracy: 0.9601 - val_loss: 0.6840 - val_accuracy: 0.7923\n",
            "Epoch 370/500\n",
            "104/104 [==============================] - 0s 5ms/step - loss: 0.1177 - accuracy: 0.9547 - val_loss: 0.7409 - val_accuracy: 0.7923\n",
            "Epoch 371/500\n",
            "104/104 [==============================] - 1s 5ms/step - loss: 0.0943 - accuracy: 0.9686 - val_loss: 0.7136 - val_accuracy: 0.7826\n",
            "Epoch 372/500\n",
            "104/104 [==============================] - 0s 5ms/step - loss: 0.0956 - accuracy: 0.9686 - val_loss: 0.6656 - val_accuracy: 0.8164\n",
            "Epoch 373/500\n",
            "104/104 [==============================] - 0s 5ms/step - loss: 0.0948 - accuracy: 0.9625 - val_loss: 0.7589 - val_accuracy: 0.7971\n",
            "Epoch 374/500\n",
            "104/104 [==============================] - 0s 5ms/step - loss: 0.1013 - accuracy: 0.9649 - val_loss: 0.7669 - val_accuracy: 0.7778\n",
            "Epoch 375/500\n",
            "104/104 [==============================] - 0s 5ms/step - loss: 0.1214 - accuracy: 0.9571 - val_loss: 0.9431 - val_accuracy: 0.7198\n",
            "Epoch 376/500\n",
            "104/104 [==============================] - 1s 5ms/step - loss: 0.1258 - accuracy: 0.9498 - val_loss: 0.7525 - val_accuracy: 0.7681\n",
            "Epoch 377/500\n",
            "104/104 [==============================] - 0s 5ms/step - loss: 0.0817 - accuracy: 0.9698 - val_loss: 0.7735 - val_accuracy: 0.7681\n",
            "Epoch 378/500\n",
            "104/104 [==============================] - 1s 5ms/step - loss: 0.0748 - accuracy: 0.9716 - val_loss: 0.7428 - val_accuracy: 0.7778\n",
            "Epoch 379/500\n",
            "104/104 [==============================] - 1s 5ms/step - loss: 0.0906 - accuracy: 0.9680 - val_loss: 0.7429 - val_accuracy: 0.7681\n",
            "Epoch 380/500\n",
            "104/104 [==============================] - 1s 5ms/step - loss: 0.0833 - accuracy: 0.9710 - val_loss: 0.6786 - val_accuracy: 0.7585\n",
            "Epoch 381/500\n",
            "104/104 [==============================] - 1s 5ms/step - loss: 0.0872 - accuracy: 0.9722 - val_loss: 0.7203 - val_accuracy: 0.7826\n",
            "Epoch 382/500\n",
            "104/104 [==============================] - 1s 5ms/step - loss: 0.0819 - accuracy: 0.9716 - val_loss: 0.7089 - val_accuracy: 0.7778\n",
            "Epoch 383/500\n",
            "104/104 [==============================] - 0s 5ms/step - loss: 0.0919 - accuracy: 0.9716 - val_loss: 0.7043 - val_accuracy: 0.7923\n",
            "Epoch 384/500\n",
            "104/104 [==============================] - 0s 5ms/step - loss: 0.0827 - accuracy: 0.9686 - val_loss: 0.6808 - val_accuracy: 0.7826\n",
            "Epoch 385/500\n",
            "104/104 [==============================] - 1s 5ms/step - loss: 0.0890 - accuracy: 0.9692 - val_loss: 0.7503 - val_accuracy: 0.7971\n",
            "Epoch 386/500\n",
            "104/104 [==============================] - 1s 5ms/step - loss: 0.0915 - accuracy: 0.9643 - val_loss: 0.6681 - val_accuracy: 0.7923\n",
            "Epoch 387/500\n",
            "104/104 [==============================] - 0s 5ms/step - loss: 0.0930 - accuracy: 0.9613 - val_loss: 0.7548 - val_accuracy: 0.7440\n",
            "Epoch 388/500\n",
            "104/104 [==============================] - 0s 5ms/step - loss: 0.0932 - accuracy: 0.9674 - val_loss: 0.7542 - val_accuracy: 0.7536\n",
            "Epoch 389/500\n",
            "104/104 [==============================] - 1s 5ms/step - loss: 0.0976 - accuracy: 0.9619 - val_loss: 0.7625 - val_accuracy: 0.7826\n",
            "Epoch 390/500\n",
            "104/104 [==============================] - 1s 5ms/step - loss: 0.0969 - accuracy: 0.9674 - val_loss: 0.7001 - val_accuracy: 0.7585\n",
            "Epoch 391/500\n",
            "104/104 [==============================] - 0s 5ms/step - loss: 0.0856 - accuracy: 0.9692 - val_loss: 0.7179 - val_accuracy: 0.8068\n",
            "Epoch 392/500\n",
            "104/104 [==============================] - 1s 5ms/step - loss: 0.0874 - accuracy: 0.9643 - val_loss: 0.7227 - val_accuracy: 0.7778\n",
            "Epoch 393/500\n",
            "104/104 [==============================] - 1s 5ms/step - loss: 0.0821 - accuracy: 0.9740 - val_loss: 0.8167 - val_accuracy: 0.7681\n",
            "Epoch 394/500\n",
            "104/104 [==============================] - 0s 5ms/step - loss: 0.0866 - accuracy: 0.9716 - val_loss: 0.7825 - val_accuracy: 0.7826\n",
            "Epoch 395/500\n",
            "104/104 [==============================] - 1s 5ms/step - loss: 0.0875 - accuracy: 0.9680 - val_loss: 0.8229 - val_accuracy: 0.7826\n",
            "Epoch 396/500\n",
            "104/104 [==============================] - 0s 5ms/step - loss: 0.0739 - accuracy: 0.9740 - val_loss: 0.7306 - val_accuracy: 0.7826\n",
            "Epoch 397/500\n",
            "104/104 [==============================] - 1s 5ms/step - loss: 0.0881 - accuracy: 0.9674 - val_loss: 0.7110 - val_accuracy: 0.7923\n",
            "Epoch 398/500\n",
            "104/104 [==============================] - 1s 5ms/step - loss: 0.0699 - accuracy: 0.9752 - val_loss: 0.7609 - val_accuracy: 0.7633\n",
            "Epoch 399/500\n",
            "104/104 [==============================] - 0s 5ms/step - loss: 0.0919 - accuracy: 0.9655 - val_loss: 0.7688 - val_accuracy: 0.7826\n",
            "Epoch 400/500\n",
            "104/104 [==============================] - 1s 5ms/step - loss: 0.1284 - accuracy: 0.9607 - val_loss: 0.8056 - val_accuracy: 0.7585\n",
            "Epoch 401/500\n",
            "104/104 [==============================] - 1s 5ms/step - loss: 0.1049 - accuracy: 0.9655 - val_loss: 0.8321 - val_accuracy: 0.7778\n",
            "Epoch 402/500\n",
            "104/104 [==============================] - 0s 5ms/step - loss: 0.0983 - accuracy: 0.9607 - val_loss: 0.7209 - val_accuracy: 0.8309\n",
            "Epoch 403/500\n",
            "104/104 [==============================] - 0s 5ms/step - loss: 0.1056 - accuracy: 0.9643 - val_loss: 0.7437 - val_accuracy: 0.7729\n",
            "Epoch 404/500\n",
            "104/104 [==============================] - 0s 5ms/step - loss: 0.0732 - accuracy: 0.9746 - val_loss: 0.7319 - val_accuracy: 0.7874\n",
            "Epoch 405/500\n",
            "104/104 [==============================] - 0s 5ms/step - loss: 0.0754 - accuracy: 0.9704 - val_loss: 0.7342 - val_accuracy: 0.7826\n",
            "Epoch 406/500\n",
            "104/104 [==============================] - 1s 5ms/step - loss: 0.0851 - accuracy: 0.9698 - val_loss: 0.6863 - val_accuracy: 0.7874\n",
            "Epoch 407/500\n",
            "104/104 [==============================] - 0s 5ms/step - loss: 0.0663 - accuracy: 0.9746 - val_loss: 0.7557 - val_accuracy: 0.8019\n",
            "Epoch 408/500\n",
            "104/104 [==============================] - 0s 5ms/step - loss: 0.0841 - accuracy: 0.9704 - val_loss: 0.7869 - val_accuracy: 0.7729\n",
            "Epoch 409/500\n",
            "104/104 [==============================] - 1s 5ms/step - loss: 0.0952 - accuracy: 0.9667 - val_loss: 0.8568 - val_accuracy: 0.7585\n",
            "Epoch 410/500\n",
            "104/104 [==============================] - 1s 5ms/step - loss: 0.0646 - accuracy: 0.9788 - val_loss: 0.7491 - val_accuracy: 0.7971\n",
            "Epoch 411/500\n",
            "104/104 [==============================] - 1s 5ms/step - loss: 0.0805 - accuracy: 0.9728 - val_loss: 0.7857 - val_accuracy: 0.7923\n",
            "Epoch 412/500\n",
            "104/104 [==============================] - 1s 5ms/step - loss: 0.0820 - accuracy: 0.9698 - val_loss: 0.8257 - val_accuracy: 0.7729\n",
            "Epoch 413/500\n",
            "104/104 [==============================] - 1s 5ms/step - loss: 0.0782 - accuracy: 0.9710 - val_loss: 0.8167 - val_accuracy: 0.7778\n",
            "Epoch 414/500\n",
            "104/104 [==============================] - 1s 5ms/step - loss: 0.0707 - accuracy: 0.9770 - val_loss: 0.8335 - val_accuracy: 0.7778\n",
            "Epoch 415/500\n",
            "104/104 [==============================] - 0s 5ms/step - loss: 0.0702 - accuracy: 0.9740 - val_loss: 0.7384 - val_accuracy: 0.7874\n",
            "Epoch 416/500\n",
            "104/104 [==============================] - 1s 5ms/step - loss: 0.1033 - accuracy: 0.9607 - val_loss: 0.7017 - val_accuracy: 0.7778\n",
            "Epoch 417/500\n",
            "104/104 [==============================] - 0s 5ms/step - loss: 0.0700 - accuracy: 0.9776 - val_loss: 0.7853 - val_accuracy: 0.7729\n",
            "Epoch 418/500\n",
            "104/104 [==============================] - 1s 5ms/step - loss: 0.0647 - accuracy: 0.9764 - val_loss: 0.7448 - val_accuracy: 0.7826\n",
            "Epoch 419/500\n",
            "104/104 [==============================] - 1s 5ms/step - loss: 0.0523 - accuracy: 0.9788 - val_loss: 0.8703 - val_accuracy: 0.7729\n",
            "Epoch 420/500\n",
            "104/104 [==============================] - 1s 5ms/step - loss: 0.1014 - accuracy: 0.9655 - val_loss: 0.7234 - val_accuracy: 0.7874\n",
            "Epoch 421/500\n",
            "104/104 [==============================] - 1s 5ms/step - loss: 0.0762 - accuracy: 0.9752 - val_loss: 0.7977 - val_accuracy: 0.7778\n",
            "Epoch 422/500\n",
            "104/104 [==============================] - 1s 5ms/step - loss: 0.0933 - accuracy: 0.9692 - val_loss: 0.7567 - val_accuracy: 0.7633\n",
            "Epoch 423/500\n",
            "104/104 [==============================] - 1s 5ms/step - loss: 0.0950 - accuracy: 0.9667 - val_loss: 0.7715 - val_accuracy: 0.7778\n",
            "Epoch 424/500\n",
            "104/104 [==============================] - 1s 5ms/step - loss: 0.0631 - accuracy: 0.9758 - val_loss: 0.7340 - val_accuracy: 0.8068\n",
            "Epoch 425/500\n",
            "104/104 [==============================] - 1s 5ms/step - loss: 0.0672 - accuracy: 0.9710 - val_loss: 0.7299 - val_accuracy: 0.7729\n",
            "Epoch 426/500\n",
            "104/104 [==============================] - 1s 5ms/step - loss: 0.0801 - accuracy: 0.9698 - val_loss: 0.8080 - val_accuracy: 0.7923\n",
            "Epoch 427/500\n",
            "104/104 [==============================] - 1s 5ms/step - loss: 0.0782 - accuracy: 0.9728 - val_loss: 0.7044 - val_accuracy: 0.7874\n",
            "Epoch 428/500\n",
            "104/104 [==============================] - 1s 5ms/step - loss: 0.0819 - accuracy: 0.9686 - val_loss: 0.7239 - val_accuracy: 0.7971\n",
            "Epoch 429/500\n",
            "104/104 [==============================] - 1s 5ms/step - loss: 0.0759 - accuracy: 0.9716 - val_loss: 0.6945 - val_accuracy: 0.7971\n",
            "Epoch 430/500\n",
            "104/104 [==============================] - 1s 5ms/step - loss: 0.0904 - accuracy: 0.9667 - val_loss: 0.6310 - val_accuracy: 0.7923\n",
            "Epoch 431/500\n",
            "104/104 [==============================] - 1s 5ms/step - loss: 0.0688 - accuracy: 0.9692 - val_loss: 0.6890 - val_accuracy: 0.8116\n",
            "Epoch 432/500\n",
            "104/104 [==============================] - 1s 5ms/step - loss: 0.0639 - accuracy: 0.9776 - val_loss: 0.7650 - val_accuracy: 0.7874\n",
            "Epoch 433/500\n",
            "104/104 [==============================] - 1s 5ms/step - loss: 0.0681 - accuracy: 0.9764 - val_loss: 0.8053 - val_accuracy: 0.7874\n",
            "Epoch 434/500\n",
            "104/104 [==============================] - 1s 5ms/step - loss: 0.0809 - accuracy: 0.9680 - val_loss: 0.7504 - val_accuracy: 0.7826\n",
            "Epoch 435/500\n",
            "104/104 [==============================] - 1s 5ms/step - loss: 0.0692 - accuracy: 0.9740 - val_loss: 0.7414 - val_accuracy: 0.8164\n",
            "Epoch 436/500\n",
            "104/104 [==============================] - 1s 5ms/step - loss: 0.0762 - accuracy: 0.9740 - val_loss: 0.7333 - val_accuracy: 0.8116\n",
            "Epoch 437/500\n",
            "104/104 [==============================] - 1s 5ms/step - loss: 0.1019 - accuracy: 0.9613 - val_loss: 0.7151 - val_accuracy: 0.8116\n",
            "Epoch 438/500\n",
            "104/104 [==============================] - 0s 5ms/step - loss: 0.0713 - accuracy: 0.9764 - val_loss: 0.8261 - val_accuracy: 0.7778\n",
            "Epoch 439/500\n",
            "104/104 [==============================] - 1s 5ms/step - loss: 0.0756 - accuracy: 0.9740 - val_loss: 0.7616 - val_accuracy: 0.8019\n",
            "Epoch 440/500\n",
            "104/104 [==============================] - 0s 5ms/step - loss: 0.0752 - accuracy: 0.9716 - val_loss: 0.7762 - val_accuracy: 0.7874\n",
            "Epoch 441/500\n",
            "104/104 [==============================] - 1s 5ms/step - loss: 0.0683 - accuracy: 0.9758 - val_loss: 0.7022 - val_accuracy: 0.8116\n",
            "Epoch 442/500\n",
            "104/104 [==============================] - 1s 5ms/step - loss: 0.0688 - accuracy: 0.9728 - val_loss: 0.7340 - val_accuracy: 0.7923\n",
            "Epoch 443/500\n",
            "104/104 [==============================] - 0s 5ms/step - loss: 0.0660 - accuracy: 0.9758 - val_loss: 0.7134 - val_accuracy: 0.8019\n",
            "Epoch 444/500\n",
            "104/104 [==============================] - 1s 5ms/step - loss: 0.0722 - accuracy: 0.9740 - val_loss: 0.7777 - val_accuracy: 0.7778\n",
            "Epoch 445/500\n",
            "104/104 [==============================] - 1s 5ms/step - loss: 0.0729 - accuracy: 0.9734 - val_loss: 0.7094 - val_accuracy: 0.8164\n",
            "Epoch 446/500\n",
            "104/104 [==============================] - 1s 5ms/step - loss: 0.0743 - accuracy: 0.9746 - val_loss: 0.7563 - val_accuracy: 0.7971\n",
            "Epoch 447/500\n",
            "104/104 [==============================] - 0s 5ms/step - loss: 0.0894 - accuracy: 0.9692 - val_loss: 0.7949 - val_accuracy: 0.7923\n",
            "Epoch 448/500\n",
            "104/104 [==============================] - 1s 5ms/step - loss: 0.0719 - accuracy: 0.9728 - val_loss: 0.6975 - val_accuracy: 0.8068\n",
            "Epoch 449/500\n",
            "104/104 [==============================] - 1s 5ms/step - loss: 0.0703 - accuracy: 0.9728 - val_loss: 0.7649 - val_accuracy: 0.8116\n",
            "Epoch 450/500\n",
            "104/104 [==============================] - 1s 5ms/step - loss: 0.0741 - accuracy: 0.9740 - val_loss: 0.7731 - val_accuracy: 0.7874\n",
            "Epoch 451/500\n",
            "104/104 [==============================] - 1s 5ms/step - loss: 0.0655 - accuracy: 0.9752 - val_loss: 0.8225 - val_accuracy: 0.7874\n",
            "Epoch 452/500\n",
            "104/104 [==============================] - 1s 5ms/step - loss: 0.0711 - accuracy: 0.9746 - val_loss: 0.8028 - val_accuracy: 0.7681\n",
            "Epoch 453/500\n",
            "104/104 [==============================] - 1s 5ms/step - loss: 0.0728 - accuracy: 0.9758 - val_loss: 0.8067 - val_accuracy: 0.8116\n",
            "Epoch 454/500\n",
            "104/104 [==============================] - 1s 5ms/step - loss: 0.0844 - accuracy: 0.9698 - val_loss: 0.8075 - val_accuracy: 0.7826\n",
            "Epoch 455/500\n",
            "104/104 [==============================] - 1s 5ms/step - loss: 0.0617 - accuracy: 0.9764 - val_loss: 0.7324 - val_accuracy: 0.7874\n",
            "Epoch 456/500\n",
            "104/104 [==============================] - 1s 5ms/step - loss: 0.0543 - accuracy: 0.9819 - val_loss: 0.7878 - val_accuracy: 0.7874\n",
            "Epoch 457/500\n",
            "104/104 [==============================] - 1s 5ms/step - loss: 0.0713 - accuracy: 0.9776 - val_loss: 0.8164 - val_accuracy: 0.7826\n",
            "Epoch 458/500\n",
            "104/104 [==============================] - 1s 5ms/step - loss: 0.0604 - accuracy: 0.9770 - val_loss: 0.8398 - val_accuracy: 0.7874\n",
            "Epoch 459/500\n",
            "104/104 [==============================] - 1s 5ms/step - loss: 0.0706 - accuracy: 0.9722 - val_loss: 0.8243 - val_accuracy: 0.7826\n",
            "Epoch 460/500\n",
            "104/104 [==============================] - 1s 5ms/step - loss: 0.0757 - accuracy: 0.9710 - val_loss: 0.7846 - val_accuracy: 0.7971\n",
            "Epoch 461/500\n",
            "104/104 [==============================] - 1s 5ms/step - loss: 0.0715 - accuracy: 0.9734 - val_loss: 0.7869 - val_accuracy: 0.8019\n",
            "Epoch 462/500\n",
            "104/104 [==============================] - 1s 5ms/step - loss: 0.1085 - accuracy: 0.9643 - val_loss: 0.7597 - val_accuracy: 0.7778\n",
            "Epoch 463/500\n",
            "104/104 [==============================] - 1s 5ms/step - loss: 0.0752 - accuracy: 0.9770 - val_loss: 0.8084 - val_accuracy: 0.7729\n",
            "Epoch 464/500\n",
            "104/104 [==============================] - 0s 5ms/step - loss: 0.0768 - accuracy: 0.9764 - val_loss: 0.8022 - val_accuracy: 0.7923\n",
            "Epoch 465/500\n",
            "104/104 [==============================] - 1s 5ms/step - loss: 0.0708 - accuracy: 0.9782 - val_loss: 0.8255 - val_accuracy: 0.7729\n",
            "Epoch 466/500\n",
            "104/104 [==============================] - 1s 5ms/step - loss: 0.0541 - accuracy: 0.9758 - val_loss: 0.7758 - val_accuracy: 0.7778\n",
            "Epoch 467/500\n",
            "104/104 [==============================] - 1s 5ms/step - loss: 0.0759 - accuracy: 0.9716 - val_loss: 0.8369 - val_accuracy: 0.7681\n",
            "Epoch 468/500\n",
            "104/104 [==============================] - 1s 5ms/step - loss: 0.0562 - accuracy: 0.9800 - val_loss: 0.8430 - val_accuracy: 0.7778\n",
            "Epoch 469/500\n",
            "104/104 [==============================] - 1s 5ms/step - loss: 0.0795 - accuracy: 0.9746 - val_loss: 0.8632 - val_accuracy: 0.7923\n",
            "Epoch 470/500\n",
            "104/104 [==============================] - 1s 5ms/step - loss: 0.0717 - accuracy: 0.9764 - val_loss: 0.8246 - val_accuracy: 0.7971\n",
            "Epoch 471/500\n",
            "104/104 [==============================] - 1s 5ms/step - loss: 0.0780 - accuracy: 0.9770 - val_loss: 0.7447 - val_accuracy: 0.8116\n",
            "Epoch 472/500\n",
            "104/104 [==============================] - 1s 5ms/step - loss: 0.0619 - accuracy: 0.9764 - val_loss: 0.8628 - val_accuracy: 0.7585\n",
            "Epoch 473/500\n",
            "104/104 [==============================] - 1s 5ms/step - loss: 0.0603 - accuracy: 0.9794 - val_loss: 0.8715 - val_accuracy: 0.7874\n",
            "Epoch 474/500\n",
            "104/104 [==============================] - 1s 5ms/step - loss: 0.0508 - accuracy: 0.9837 - val_loss: 0.7553 - val_accuracy: 0.7826\n",
            "Epoch 475/500\n",
            "104/104 [==============================] - 1s 5ms/step - loss: 0.0679 - accuracy: 0.9776 - val_loss: 0.8431 - val_accuracy: 0.7778\n",
            "Epoch 476/500\n",
            "104/104 [==============================] - 1s 5ms/step - loss: 0.0642 - accuracy: 0.9770 - val_loss: 0.7514 - val_accuracy: 0.7923\n",
            "Epoch 477/500\n",
            "104/104 [==============================] - 1s 5ms/step - loss: 0.0828 - accuracy: 0.9692 - val_loss: 0.7727 - val_accuracy: 0.8164\n",
            "Epoch 478/500\n",
            "104/104 [==============================] - 1s 5ms/step - loss: 0.0733 - accuracy: 0.9746 - val_loss: 0.8141 - val_accuracy: 0.7874\n",
            "Epoch 479/500\n",
            "104/104 [==============================] - 1s 5ms/step - loss: 0.0578 - accuracy: 0.9800 - val_loss: 0.7974 - val_accuracy: 0.8116\n",
            "Epoch 480/500\n",
            "104/104 [==============================] - 1s 5ms/step - loss: 0.0578 - accuracy: 0.9782 - val_loss: 0.7708 - val_accuracy: 0.7971\n",
            "Epoch 481/500\n",
            "104/104 [==============================] - 1s 5ms/step - loss: 0.0726 - accuracy: 0.9752 - val_loss: 0.8037 - val_accuracy: 0.8068\n",
            "Epoch 482/500\n",
            "104/104 [==============================] - 0s 5ms/step - loss: 0.0784 - accuracy: 0.9758 - val_loss: 0.8092 - val_accuracy: 0.7778\n",
            "Epoch 483/500\n",
            "104/104 [==============================] - 1s 5ms/step - loss: 0.0722 - accuracy: 0.9728 - val_loss: 0.8117 - val_accuracy: 0.7874\n",
            "Epoch 484/500\n",
            "104/104 [==============================] - 1s 5ms/step - loss: 0.0823 - accuracy: 0.9740 - val_loss: 0.7796 - val_accuracy: 0.8116\n",
            "Epoch 485/500\n",
            "104/104 [==============================] - 1s 5ms/step - loss: 0.0753 - accuracy: 0.9746 - val_loss: 0.7470 - val_accuracy: 0.8213\n",
            "Epoch 486/500\n",
            "104/104 [==============================] - 1s 5ms/step - loss: 0.0818 - accuracy: 0.9728 - val_loss: 0.8333 - val_accuracy: 0.7874\n",
            "Epoch 487/500\n",
            "104/104 [==============================] - 1s 5ms/step - loss: 0.0646 - accuracy: 0.9770 - val_loss: 0.7355 - val_accuracy: 0.8068\n",
            "Epoch 488/500\n",
            "104/104 [==============================] - 0s 5ms/step - loss: 0.0659 - accuracy: 0.9788 - val_loss: 0.7221 - val_accuracy: 0.8068\n",
            "Epoch 489/500\n",
            "104/104 [==============================] - 1s 5ms/step - loss: 0.0723 - accuracy: 0.9764 - val_loss: 0.7461 - val_accuracy: 0.7971\n",
            "Epoch 490/500\n",
            "104/104 [==============================] - 1s 5ms/step - loss: 0.0648 - accuracy: 0.9782 - val_loss: 0.8375 - val_accuracy: 0.7778\n",
            "Epoch 491/500\n",
            "104/104 [==============================] - 1s 5ms/step - loss: 0.0636 - accuracy: 0.9752 - val_loss: 0.7475 - val_accuracy: 0.7729\n",
            "Epoch 492/500\n",
            "104/104 [==============================] - 1s 5ms/step - loss: 0.0622 - accuracy: 0.9764 - val_loss: 0.7851 - val_accuracy: 0.7923\n",
            "Epoch 493/500\n",
            "104/104 [==============================] - 1s 5ms/step - loss: 0.0827 - accuracy: 0.9740 - val_loss: 0.8035 - val_accuracy: 0.7874\n",
            "Epoch 494/500\n",
            "104/104 [==============================] - 1s 5ms/step - loss: 0.0617 - accuracy: 0.9764 - val_loss: 0.8222 - val_accuracy: 0.7681\n",
            "Epoch 495/500\n",
            "104/104 [==============================] - 1s 5ms/step - loss: 0.0663 - accuracy: 0.9758 - val_loss: 0.7456 - val_accuracy: 0.8116\n",
            "Epoch 496/500\n",
            "104/104 [==============================] - 1s 5ms/step - loss: 0.0578 - accuracy: 0.9788 - val_loss: 0.8135 - val_accuracy: 0.7923\n",
            "Epoch 497/500\n",
            "104/104 [==============================] - 1s 5ms/step - loss: 0.0678 - accuracy: 0.9782 - val_loss: 0.8850 - val_accuracy: 0.7633\n",
            "Epoch 498/500\n",
            "104/104 [==============================] - 1s 5ms/step - loss: 0.0742 - accuracy: 0.9746 - val_loss: 0.8289 - val_accuracy: 0.8019\n",
            "Epoch 499/500\n",
            "104/104 [==============================] - 1s 5ms/step - loss: 0.0682 - accuracy: 0.9764 - val_loss: 0.8402 - val_accuracy: 0.7729\n",
            "Epoch 500/500\n",
            "104/104 [==============================] - 1s 5ms/step - loss: 0.0633 - accuracy: 0.9794 - val_loss: 0.8025 - val_accuracy: 0.7681\n"
          ]
        }
      ]
    },
    {
      "cell_type": "code",
      "source": [
        "plt.plot(cnnhistory.history['loss'])\n",
        "plt.plot(cnnhistory.history['val_loss'])\n",
        "plt.title('model loss')\n",
        "plt.ylabel('loss')\n",
        "plt.xlabel('epoch')\n",
        "plt.legend(['train','test'], loc='upper left')\n",
        "plt.show()"
      ],
      "metadata": {
        "colab": {
          "base_uri": "https://localhost:8080/",
          "height": 295
        },
        "id": "oQYnuaCrDH_A",
        "outputId": "fb00ec4b-8e45-4f77-9f70-3ce718d2360a"
      },
      "execution_count": 22,
      "outputs": [
        {
          "output_type": "display_data",
          "data": {
            "text/plain": [
              "<Figure size 432x288 with 1 Axes>"
            ],
            "image/png": "[encoded data removed]"
          },
          "metadata": {
            "needs_background": "light"
          }
        }
      ]
    },
    {
      "cell_type": "code",
      "source": [
        "plt.plot(cnnhistory.history['accuracy'])\n",
        "plt.plot(cnnhistory.history['val_accuracy'])\n",
        "plt.title('model accuracy')\n",
        "plt.ylabel('accuracy')\n",
        "plt.xlabel('epoch')\n",
        "plt.legend(['train','test'], loc='upper left')\n",
        "plt.show()"
      ],
      "metadata": {
        "colab": {
          "base_uri": "https://localhost:8080/",
          "height": 295
        },
        "id": "IFkTuO8nDNdq",
        "outputId": "b7c7a617-f86d-4f5c-875a-fc1fb494a39f"
      },
      "execution_count": 23,
      "outputs": [
        {
          "output_type": "display_data",
          "data": {
            "text/plain": [
              "<Figure size 432x288 with 1 Axes>"
            ],
            "image/png": "[encoded data removed]"
          },
          "metadata": {
            "needs_background": "light"
          }
        }
      ]
    },
    {
      "cell_type": "code",
      "source": [
        "#predictions = model.predict_classes(x_testcnn)\n",
        "predictions = model.predict(x_testcnn)"
      ],
      "metadata": {
        "id": "A2xtrN5wDQgY"
      },
      "execution_count": 24,
      "outputs": []
    },
    {
      "cell_type": "code",
      "source": [
        "predictions"
      ],
      "metadata": {
        "colab": {
          "base_uri": "https://localhost:8080/"
        },
        "id": "_f_ohjXKDUpY",
        "outputId": "9fd723fa-fb5e-499a-b226-ac64fcd7c6f2"
      },
      "execution_count": 25,
      "outputs": [
        {
          "output_type": "execute_result",
          "data": {
            "text/plain": [
              "array([[1.1712772e-10, 9.1284945e-11, 1.0581963e-04, 6.9381159e-08,\n",
              "        1.9570415e-04, 9.9969840e-01],\n",
              "       [4.8592649e-03, 9.6385926e-01, 3.5265241e-08, 3.1273995e-02,\n",
              "        6.7402302e-06, 6.8374510e-07],\n",
              "       [3.5299671e-08, 1.1701117e-05, 8.1510681e-01, 1.5927767e-06,\n",
              "        1.8486601e-01, 1.3872395e-05],\n",
              "       ...,\n",
              "       [2.8303136e-08, 1.9021097e-10, 1.7154431e-06, 3.6072269e-08,\n",
              "        9.9989474e-01, 1.0346043e-04],\n",
              "       [4.9691563e-03, 3.9792224e-04, 6.8161609e-03, 6.0817921e-01,\n",
              "        3.3101827e-04, 3.7930655e-01],\n",
              "       [6.4166333e-04, 5.6584318e-05, 6.7968917e-04, 8.5807516e-04,\n",
              "        9.9776399e-01, 1.1722786e-08]], dtype=float32)"
            ]
          },
          "metadata": {},
          "execution_count": 25
        }
      ]
    },
    {
      "cell_type": "code",
      "source": [
        "y_test"
      ],
      "metadata": {
        "colab": {
          "base_uri": "https://localhost:8080/"
        },
        "id": "cmA2bFgsDW3D",
        "outputId": "1fe9fb9c-3aab-40e5-8432-b2abe32068cb"
      },
      "execution_count": 26,
      "outputs": [
        {
          "output_type": "execute_result",
          "data": {
            "text/plain": [
              "array([5, 1, 2, 5, 3, 4, 2, 0, 3, 1, 3, 2, 1, 4, 3, 0, 5, 0, 2, 5, 0, 0,\n",
              "       1, 3, 2, 3, 2, 5, 4, 2, 2, 3, 1, 2, 5, 5, 3, 5, 3, 3, 4, 1, 3, 2,\n",
              "       3, 1, 5, 3, 1, 2, 4, 4, 5, 5, 5, 1, 2, 3, 2, 5, 0, 2, 4, 2, 5, 4,\n",
              "       3, 0, 1, 2, 5, 2, 1, 2, 4, 5, 4, 1, 5, 5, 3, 1, 5, 3, 2, 4, 2, 5,\n",
              "       0, 5, 0, 5, 4, 0, 2, 4, 0, 2, 2, 0, 2, 3, 5, 3, 5, 5, 3, 1, 2, 2,\n",
              "       2, 1, 3, 2, 1, 3, 4, 4, 1, 1, 2, 4, 4, 1, 4, 2, 0, 4, 5, 5, 3, 1,\n",
              "       2, 1, 5, 5, 1, 2, 3, 3, 0, 3, 3, 0, 1, 0, 1, 2, 1, 5, 1, 2, 2, 0,\n",
              "       1, 1, 1, 1, 1, 4, 0, 1, 5, 1, 4, 5, 5, 4, 1, 0, 3, 5, 2, 3, 0, 4,\n",
              "       1, 3, 1, 0, 5, 5, 3, 5, 4, 5, 4, 0, 4, 1, 2, 1, 5, 0, 4, 3, 2, 1,\n",
              "       0, 3, 5, 0, 4, 5, 4, 5, 4])"
            ]
          },
          "metadata": {},
          "execution_count": 26
        }
      ]
    },
    {
      "cell_type": "code",
      "source": [
        "new_Ytest = y_test.astype(int)"
      ],
      "metadata": {
        "id": "0PHDKWJWDY3g"
      },
      "execution_count": 27,
      "outputs": []
    },
    {
      "cell_type": "code",
      "source": [
        "new_Ytest"
      ],
      "metadata": {
        "colab": {
          "base_uri": "https://localhost:8080/"
        },
        "id": "k68v2i-pDbZE",
        "outputId": "9163ccf3-8049-456a-d75a-3569883cd591"
      },
      "execution_count": 28,
      "outputs": [
        {
          "output_type": "execute_result",
          "data": {
            "text/plain": [
              "array([5, 1, 2, 5, 3, 4, 2, 0, 3, 1, 3, 2, 1, 4, 3, 0, 5, 0, 2, 5, 0, 0,\n",
              "       1, 3, 2, 3, 2, 5, 4, 2, 2, 3, 1, 2, 5, 5, 3, 5, 3, 3, 4, 1, 3, 2,\n",
              "       3, 1, 5, 3, 1, 2, 4, 4, 5, 5, 5, 1, 2, 3, 2, 5, 0, 2, 4, 2, 5, 4,\n",
              "       3, 0, 1, 2, 5, 2, 1, 2, 4, 5, 4, 1, 5, 5, 3, 1, 5, 3, 2, 4, 2, 5,\n",
              "       0, 5, 0, 5, 4, 0, 2, 4, 0, 2, 2, 0, 2, 3, 5, 3, 5, 5, 3, 1, 2, 2,\n",
              "       2, 1, 3, 2, 1, 3, 4, 4, 1, 1, 2, 4, 4, 1, 4, 2, 0, 4, 5, 5, 3, 1,\n",
              "       2, 1, 5, 5, 1, 2, 3, 3, 0, 3, 3, 0, 1, 0, 1, 2, 1, 5, 1, 2, 2, 0,\n",
              "       1, 1, 1, 1, 1, 4, 0, 1, 5, 1, 4, 5, 5, 4, 1, 0, 3, 5, 2, 3, 0, 4,\n",
              "       1, 3, 1, 0, 5, 5, 3, 5, 4, 5, 4, 0, 4, 1, 2, 1, 5, 0, 4, 3, 2, 1,\n",
              "       0, 3, 5, 0, 4, 5, 4, 5, 4])"
            ]
          },
          "metadata": {},
          "execution_count": 28
        }
      ]
    },
    {
      "cell_type": "code",
      "source": [
        "preds1=predictions.argmax(axis=1)\n",
        "preds1"
      ],
      "metadata": {
        "colab": {
          "base_uri": "https://localhost:8080/"
        },
        "id": "4_cAI39VFhtp",
        "outputId": "90948cd0-99ff-45d6-c3ab-1a1291e20dbc"
      },
      "execution_count": 29,
      "outputs": [
        {
          "output_type": "execute_result",
          "data": {
            "text/plain": [
              "array([5, 1, 2, 5, 3, 4, 2, 0, 3, 1, 3, 3, 1, 4, 3, 0, 5, 3, 2, 5, 1, 1,\n",
              "       1, 3, 2, 3, 2, 5, 4, 2, 2, 3, 0, 2, 5, 5, 1, 5, 3, 3, 5, 1, 3, 2,\n",
              "       3, 1, 5, 5, 1, 4, 4, 4, 5, 5, 5, 1, 2, 3, 2, 5, 0, 2, 4, 2, 5, 4,\n",
              "       3, 4, 1, 2, 5, 2, 1, 2, 4, 3, 4, 1, 5, 5, 3, 1, 5, 3, 2, 4, 2, 5,\n",
              "       0, 5, 0, 5, 4, 0, 3, 4, 3, 4, 2, 2, 2, 3, 5, 3, 5, 5, 5, 1, 2, 2,\n",
              "       2, 1, 3, 2, 1, 3, 4, 4, 1, 1, 2, 4, 4, 1, 4, 2, 1, 4, 5, 5, 5, 1,\n",
              "       4, 1, 5, 5, 1, 2, 3, 3, 0, 3, 5, 0, 1, 0, 1, 2, 1, 5, 1, 2, 2, 0,\n",
              "       1, 1, 1, 1, 1, 4, 0, 1, 5, 1, 4, 5, 5, 2, 1, 0, 2, 5, 2, 3, 3, 4,\n",
              "       1, 3, 1, 0, 5, 5, 3, 5, 4, 3, 4, 0, 0, 3, 2, 1, 5, 0, 4, 1, 2, 0,\n",
              "       1, 4, 5, 0, 2, 5, 4, 3, 4])"
            ]
          },
          "metadata": {},
          "execution_count": 29
        }
      ]
    },
    {
      "cell_type": "code",
      "source": [
        "abc = preds1.astype(int).flatten()"
      ],
      "metadata": {
        "id": "H4WEmM60NfQn"
      },
      "execution_count": 30,
      "outputs": []
    },
    {
      "cell_type": "code",
      "source": [
        "from sklearn.metrics import confusion_matrix\n",
        "c = confusion_matrix(new_Ytest, abc) \n",
        "c"
      ],
      "metadata": {
        "colab": {
          "base_uri": "https://localhost:8080/"
        },
        "id": "bKEBeEBlFjB8",
        "outputId": "35120365-9773-4e4f-ea0a-4b6932543997"
      },
      "execution_count": 31,
      "outputs": [
        {
          "output_type": "execute_result",
          "data": {
            "text/plain": [
              "array([[16,  4,  1,  3,  1,  0],\n",
              "       [ 2, 36,  0,  1,  0,  0],\n",
              "       [ 0,  0, 33,  2,  3,  0],\n",
              "       [ 0,  2,  1, 25,  1,  4],\n",
              "       [ 1,  0,  2,  0, 26,  1],\n",
              "       [ 0,  0,  0,  3,  0, 39]])"
            ]
          },
          "metadata": {},
          "execution_count": 31
        }
      ]
    },
    {
      "cell_type": "code",
      "source": [
        "y_test"
      ],
      "metadata": {
        "colab": {
          "base_uri": "https://localhost:8080/"
        },
        "id": "m4RjG7LWLSQx",
        "outputId": "03e6896d-80c3-4455-91ac-0c1d025cef28"
      },
      "execution_count": 32,
      "outputs": [
        {
          "output_type": "execute_result",
          "data": {
            "text/plain": [
              "array([5, 1, 2, 5, 3, 4, 2, 0, 3, 1, 3, 2, 1, 4, 3, 0, 5, 0, 2, 5, 0, 0,\n",
              "       1, 3, 2, 3, 2, 5, 4, 2, 2, 3, 1, 2, 5, 5, 3, 5, 3, 3, 4, 1, 3, 2,\n",
              "       3, 1, 5, 3, 1, 2, 4, 4, 5, 5, 5, 1, 2, 3, 2, 5, 0, 2, 4, 2, 5, 4,\n",
              "       3, 0, 1, 2, 5, 2, 1, 2, 4, 5, 4, 1, 5, 5, 3, 1, 5, 3, 2, 4, 2, 5,\n",
              "       0, 5, 0, 5, 4, 0, 2, 4, 0, 2, 2, 0, 2, 3, 5, 3, 5, 5, 3, 1, 2, 2,\n",
              "       2, 1, 3, 2, 1, 3, 4, 4, 1, 1, 2, 4, 4, 1, 4, 2, 0, 4, 5, 5, 3, 1,\n",
              "       2, 1, 5, 5, 1, 2, 3, 3, 0, 3, 3, 0, 1, 0, 1, 2, 1, 5, 1, 2, 2, 0,\n",
              "       1, 1, 1, 1, 1, 4, 0, 1, 5, 1, 4, 5, 5, 4, 1, 0, 3, 5, 2, 3, 0, 4,\n",
              "       1, 3, 1, 0, 5, 5, 3, 5, 4, 5, 4, 0, 4, 1, 2, 1, 5, 0, 4, 3, 2, 1,\n",
              "       0, 3, 5, 0, 4, 5, 4, 5, 4])"
            ]
          },
          "metadata": {},
          "execution_count": 32
        }
      ]
    },
    {
      "cell_type": "code",
      "source": [
        "model.save('/content/drive/My Drive/graduation project/audio/paper_code/mariam/original_500 epoch_with_valid_Adam2_3')\n",
        "print(\"MODEL SAVED\")"
      ],
      "metadata": {
        "colab": {
          "base_uri": "https://localhost:8080/"
        },
        "id": "lsJBNeMWDl6Z",
        "outputId": "c6e893cb-e933-484f-b624-1caa24cfdfa8"
      },
      "execution_count": 33,
      "outputs": [
        {
          "output_type": "stream",
          "name": "stdout",
          "text": [
            "INFO:tensorflow:Assets written to: /content/drive/My Drive/graduation project/audio/paper_code/mariam/original_500 epoch_with_valid_Adam2_3/assets\n",
            "MODEL SAVED\n"
          ]
        }
      ]
    },
    {
      "cell_type": "code",
      "source": [
        "new_model=keras.models.load_model('/content/drive/My Drive/graduation project/audio/paper_code/mariam/original_500 epoch_with_valid_Adam2_3')\n",
        "new_model.summary()"
      ],
      "metadata": {
        "colab": {
          "base_uri": "https://localhost:8080/"
        },
        "id": "Q3KjaO9GDoNl",
        "outputId": "0cf48171-a2e6-4224-bc44-de2f7ea4dbd8"
      },
      "execution_count": 34,
      "outputs": [
        {
          "output_type": "stream",
          "name": "stdout",
          "text": [
            "Model: \"sequential\"\n",
            "_________________________________________________________________\n",
            " Layer (type)                Output Shape              Param #   \n",
            "=================================================================\n",
            " conv1d (Conv1D)             (None, 40, 128)           1152      \n",
            "                                                                 \n",
            " activation (Activation)     (None, 40, 128)           0         \n",
            "                                                                 \n",
            " dropout (Dropout)           (None, 40, 128)           0         \n",
            "                                                                 \n",
            " max_pooling1d (MaxPooling1D  (None, 8, 128)           0         \n",
            " )                                                               \n",
            "                                                                 \n",
            " conv1d_1 (Conv1D)           (None, 8, 256)            262400    \n",
            "                                                                 \n",
            " activation_1 (Activation)   (None, 8, 256)            0         \n",
            "                                                                 \n",
            " dropout_1 (Dropout)         (None, 8, 256)            0         \n",
            "                                                                 \n",
            " max_pooling1d_1 (MaxPooling  (None, 1, 256)           0         \n",
            " 1D)                                                             \n",
            "                                                                 \n",
            " flatten (Flatten)           (None, 256)               0         \n",
            "                                                                 \n",
            " dense (Dense)               (None, 256)               65792     \n",
            "                                                                 \n",
            " activation_2 (Activation)   (None, 256)               0         \n",
            "                                                                 \n",
            " dense_1 (Dense)             (None, 256)               65792     \n",
            "                                                                 \n",
            " activation_3 (Activation)   (None, 256)               0         \n",
            "                                                                 \n",
            " dense_2 (Dense)             (None, 6)                 1542      \n",
            "                                                                 \n",
            " activation_4 (Activation)   (None, 6)                 0         \n",
            "                                                                 \n",
            "=================================================================\n",
            "Total params: 396,678\n",
            "Trainable params: 396,678\n",
            "Non-trainable params: 0\n",
            "_________________________________________________________________\n"
          ]
        }
      ]
    },
    {
      "cell_type": "code",
      "source": [
        "loss, acc =model.evaluate(x_testcnn, y_test)\n",
        "print(\"Restored model, accuracy: {:5.2f}%\".format(100*acc))"
      ],
      "metadata": {
        "colab": {
          "base_uri": "https://localhost:8080/"
        },
        "id": "n3kzoqPkDqqS",
        "outputId": "66407ae3-3907-4e0e-c074-f58439495c29"
      },
      "execution_count": 35,
      "outputs": [
        {
          "output_type": "stream",
          "name": "stdout",
          "text": [
            "7/7 [==============================] - 0s 3ms/step - loss: 0.6149 - accuracy: 0.8454\n",
            "Restored model, accuracy: 84.54%\n"
          ]
        }
      ]
    },
    {
      "cell_type": "code",
      "source": [
        "loss, acc =model.evaluate(X_train, y_train)\n",
        "print(\"Restored model train, accuracy: {:5.2f}%\".format(100*acc))"
      ],
      "metadata": {
        "id": "fJDTGH_OUX0z",
        "colab": {
          "base_uri": "https://localhost:8080/"
        },
        "outputId": "567f4479-07b6-4ee3-ff8c-b49dc20a892e"
      },
      "execution_count": 36,
      "outputs": [
        {
          "output_type": "stream",
          "name": "stdout",
          "text": [
            "52/52 [==============================] - 0s 4ms/step - loss: 0.0187 - accuracy: 0.9940\n",
            "Restored model train, accuracy: 99.40%\n"
          ]
        }
      ]
    },
    {
      "cell_type": "code",
      "source": [
        "from sklearn.metrics import classification_report, confusion_matrix,accuracy_score\n",
        "import seaborn as sn\n",
        "\n",
        "print(classification_report(new_Ytest,abc))\n",
        "\n",
        "acc = float(accuracy_score(new_Ytest,abc))*100\n",
        "print(\"----accuracy score %s ----\" % acc)\n",
        "\n",
        "cm = confusion_matrix(new_Ytest,abc)\n",
        "#df_cm = pd.DataFrame(cm)\n",
        "class_names = ['neutral','calm', 'happy','sad','angry', 'fearful' ]\n",
        "df_cm = pd.DataFrame(cm, index=class_names, columns=class_names,)\n",
        "sn.heatmap(df_cm, annot=True, fmt='')\n",
        "plt.show()"
      ],
      "metadata": {
        "colab": {
          "base_uri": "https://localhost:8080/",
          "height": 508
        },
        "id": "SfSC3El94LZg",
        "outputId": "395a1ab0-bc50-4be0-a9e0-47c6764861ac"
      },
      "execution_count": 37,
      "outputs": [
        {
          "output_type": "stream",
          "name": "stdout",
          "text": [
            "              precision    recall  f1-score   support\n",
            "\n",
            "           0       0.84      0.64      0.73        25\n",
            "           1       0.86      0.92      0.89        39\n",
            "           2       0.89      0.87      0.88        38\n",
            "           3       0.74      0.76      0.75        33\n",
            "           4       0.84      0.87      0.85        30\n",
            "           5       0.89      0.93      0.91        42\n",
            "\n",
            "    accuracy                           0.85       207\n",
            "   macro avg       0.84      0.83      0.83       207\n",
            "weighted avg       0.85      0.85      0.84       207\n",
            "\n",
            "----accuracy score 84.54106280193237 ----\n"
          ]
        },
        {
          "output_type": "display_data",
          "data": {
            "text/plain": [
              "<Figure size 432x288 with 2 Axes>"
            ],
            "image/png": "[encoded data removed]"
          },
          "metadata": {
            "needs_background": "light"
          }
        }
      ]
    },
    {
      "cell_type": "code",
      "source": [
        ""
      ],
      "metadata": {
        "id": "LGpgwFQqkpyU"
      },
      "execution_count": 37,
      "outputs": []
    }
  ]
}