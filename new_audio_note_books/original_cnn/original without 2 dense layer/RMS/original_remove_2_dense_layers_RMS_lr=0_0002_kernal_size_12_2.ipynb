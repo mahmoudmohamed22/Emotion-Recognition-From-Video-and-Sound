{
  "nbformat": 4,
  "nbformat_minor": 0,
  "metadata": {
    "colab": {
      "name": "original_remove_2_dense_layers_RMS_lr=0_0002_kernal_size_12_2.ipynb",
      "provenance": [],
      "collapsed_sections": []
    },
    "kernelspec": {
      "name": "python3",
      "display_name": "Python 3"
    },
    "language_info": {
      "name": "python"
    },
    "accelerator": "TPU"
  },
  "cells": [
    {
      "cell_type": "code",
      "execution_count": 1,
      "metadata": {
        "colab": {
          "base_uri": "https://localhost:8080/"
        },
        "id": "9SRCO-a_AlH5",
        "outputId": "5a80cee5-81a8-4fd6-a1e9-8ac327c855c5"
      },
      "outputs": [
        {
          "output_type": "stream",
          "name": "stdout",
          "text": [
            "Mounted at /content/drive\n"
          ]
        }
      ],
      "source": [
        "from google.colab import drive\n",
        "drive.mount('/content/drive')"
      ]
    },
    {
      "cell_type": "code",
      "source": [
        "!pip install librosa"
      ],
      "metadata": {
        "colab": {
          "base_uri": "https://localhost:8080/"
        },
        "id": "5Lo4mUwG9RMd",
        "outputId": "b3bf4e55-3014-4e59-9e85-aa8b66f4c2ce"
      },
      "execution_count": 2,
      "outputs": [
        {
          "output_type": "stream",
          "name": "stdout",
          "text": [
            "Looking in indexes: https://pypi.org/simple, https://us-python.pkg.dev/colab-wheels/public/simple/\n",
            "Requirement already satisfied: librosa in /usr/local/lib/python3.7/dist-packages (0.8.1)\n",
            "Requirement already satisfied: soundfile>=0.10.2 in /usr/local/lib/python3.7/dist-packages (from librosa) (0.10.3.post1)\n",
            "Requirement already satisfied: numpy>=1.15.0 in /usr/local/lib/python3.7/dist-packages (from librosa) (1.21.6)\n",
            "Requirement already satisfied: scipy>=1.0.0 in /usr/local/lib/python3.7/dist-packages (from librosa) (1.4.1)\n",
            "Requirement already satisfied: numba>=0.43.0 in /usr/local/lib/python3.7/dist-packages (from librosa) (0.51.2)\n",
            "Requirement already satisfied: scikit-learn!=0.19.0,>=0.14.0 in /usr/local/lib/python3.7/dist-packages (from librosa) (1.0.2)\n",
            "Requirement already satisfied: joblib>=0.14 in /usr/local/lib/python3.7/dist-packages (from librosa) (1.1.0)\n",
            "Requirement already satisfied: packaging>=20.0 in /usr/local/lib/python3.7/dist-packages (from librosa) (21.3)\n",
            "Requirement already satisfied: pooch>=1.0 in /usr/local/lib/python3.7/dist-packages (from librosa) (1.6.0)\n",
            "Requirement already satisfied: audioread>=2.0.0 in /usr/local/lib/python3.7/dist-packages (from librosa) (2.1.9)\n",
            "Requirement already satisfied: resampy>=0.2.2 in /usr/local/lib/python3.7/dist-packages (from librosa) (0.2.2)\n",
            "Requirement already satisfied: decorator>=3.0.0 in /usr/local/lib/python3.7/dist-packages (from librosa) (4.4.2)\n",
            "Requirement already satisfied: setuptools in /usr/local/lib/python3.7/dist-packages (from numba>=0.43.0->librosa) (57.4.0)\n",
            "Requirement already satisfied: llvmlite<0.35,>=0.34.0.dev0 in /usr/local/lib/python3.7/dist-packages (from numba>=0.43.0->librosa) (0.34.0)\n",
            "Requirement already satisfied: pyparsing!=3.0.5,>=2.0.2 in /usr/local/lib/python3.7/dist-packages (from packaging>=20.0->librosa) (3.0.9)\n",
            "Requirement already satisfied: requests>=2.19.0 in /usr/local/lib/python3.7/dist-packages (from pooch>=1.0->librosa) (2.23.0)\n",
            "Requirement already satisfied: appdirs>=1.3.0 in /usr/local/lib/python3.7/dist-packages (from pooch>=1.0->librosa) (1.4.4)\n",
            "Requirement already satisfied: urllib3!=1.25.0,!=1.25.1,<1.26,>=1.21.1 in /usr/local/lib/python3.7/dist-packages (from requests>=2.19.0->pooch>=1.0->librosa) (1.24.3)\n",
            "Requirement already satisfied: certifi>=2017.4.17 in /usr/local/lib/python3.7/dist-packages (from requests>=2.19.0->pooch>=1.0->librosa) (2022.5.18.1)\n",
            "Requirement already satisfied: idna<3,>=2.5 in /usr/local/lib/python3.7/dist-packages (from requests>=2.19.0->pooch>=1.0->librosa) (2.10)\n",
            "Requirement already satisfied: chardet<4,>=3.0.2 in /usr/local/lib/python3.7/dist-packages (from requests>=2.19.0->pooch>=1.0->librosa) (3.0.4)\n",
            "Requirement already satisfied: six>=1.3 in /usr/local/lib/python3.7/dist-packages (from resampy>=0.2.2->librosa) (1.15.0)\n",
            "Requirement already satisfied: threadpoolctl>=2.0.0 in /usr/local/lib/python3.7/dist-packages (from scikit-learn!=0.19.0,>=0.14.0->librosa) (3.1.0)\n",
            "Requirement already satisfied: cffi>=1.0 in /usr/local/lib/python3.7/dist-packages (from soundfile>=0.10.2->librosa) (1.15.0)\n",
            "Requirement already satisfied: pycparser in /usr/local/lib/python3.7/dist-packages (from cffi>=1.0->soundfile>=0.10.2->librosa) (2.21)\n"
          ]
        }
      ]
    },
    {
      "cell_type": "code",
      "metadata": {
        "id": "HJjcbxwy46bG",
        "colab": {
          "base_uri": "https://localhost:8080/",
          "height": 17
        },
        "outputId": "2e232edd-57f5-4f5b-946c-95502064136a"
      },
      "source": [
        "# Orignial Notebook: https://github.com/MITESHPUTHRANNEU/Speech-Emotion-Analyzer/blob/master/final_results_gender_test.ipynb\n",
        "# This notebook author: Reza Chu\n",
        "# Last Editing Date: 31st May 2019\n",
        "\n",
        "## Python\n",
        "import os\n",
        "import random\n",
        "import sys\n",
        "\n",
        "import IPython\n",
        "from IPython.display import Audio\n",
        "from IPython.display import Image\n",
        "import matplotlib.pyplot as plt\n",
        "\n",
        "## Package\n",
        "import glob \n",
        "import keras\n",
        "import IPython.display as ipd\n",
        "import librosa\n",
        "import librosa.display\n",
        "import matplotlib.pyplot as plt\n",
        "import numpy as np\n",
        "import pandas as pd\n",
        "import plotly.graph_objs as go\n",
        "import plotly.offline as py\n",
        "import plotly.tools as tls\n",
        "import seaborn as sns\n",
        "import scipy.io.wavfile\n",
        "import tensorflow as tf\n",
        "py.init_notebook_mode(connected=True)\n",
        "\n",
        "## Keras\n",
        "from keras import regularizers\n",
        "from keras.callbacks import ModelCheckpoint, LearningRateScheduler, EarlyStopping\n",
        "from keras.callbacks import  History, ReduceLROnPlateau, CSVLogger\n",
        "from keras.models import Model, Sequential\n",
        "from keras.layers import Dense, Embedding, LSTM\n",
        "from keras.layers import Input, Flatten, Dropout, Activation, BatchNormalization\n",
        "from keras.layers import Conv1D, MaxPooling1D, AveragePooling1D\n",
        "from keras.preprocessing import sequence\n",
        "from keras.preprocessing.sequence import pad_sequences\n",
        "from keras.preprocessing.text import Tokenizer\n",
        "from keras.utils import np_utils\n",
        "from tensorflow.keras.utils import to_categorical\n",
        "\n",
        "## Sklearn\n",
        "from sklearn.metrics import confusion_matrix\n",
        "from sklearn.preprocessing import LabelEncoder\n",
        "\n",
        "## Rest\n",
        "from scipy.fftpack import fft\n",
        "from scipy import signal\n",
        "from scipy.io import wavfile\n",
        "from tqdm import tqdm\n",
        "\n",
        "input_duration=3\n",
        "# % pylab inline"
      ],
      "execution_count": 3,
      "outputs": [
        {
          "output_type": "display_data",
          "data": {
            "text/html": [
              "        <script type=\"text/javascript\">\n",
              "        window.PlotlyConfig = {MathJaxConfig: 'local'};\n",
              "        if (window.MathJax) {MathJax.Hub.Config({SVG: {font: \"STIX-Web\"}});}\n",
              "        if (typeof require !== 'undefined') {\n",
              "        require.undef(\"plotly\");\n",
              "        requirejs.config({\n",
              "            paths: {\n",
              "                'plotly': ['https://cdn.plot.ly/plotly-2.8.3.min']\n",
              "            }\n",
              "        });\n",
              "        require(['plotly'], function(Plotly) {\n",
              "            window._Plotly = Plotly;\n",
              "        });\n",
              "        }\n",
              "        </script>\n",
              "        "
            ]
          },
          "metadata": {}
        }
      ]
    },
    {
      "cell_type": "code",
      "source": [
        "# # Saving joblib files to not load them again with the loop above\n",
        "\n",
        "# import joblib\n",
        "\n",
        "# X_name = 'x.joblib'\n",
        "# y_name = 'y.joblib'\n",
        "# save_dir = '/content/drive/My Drive/graduation project/audio/paper_code/features'\n",
        "\n",
        "# savedX = joblib.dump(X, os.path.join(save_dir, X_name))\n",
        "# savedy = joblib.dump(y, os.path.join(save_dir, y_name))"
      ],
      "metadata": {
        "id": "UCzic8rlDcuk"
      },
      "execution_count": null,
      "outputs": []
    },
    {
      "cell_type": "code",
      "source": [
        "# # Loading saved models\n",
        "import joblib\n",
        "X = joblib.load('/content/drive/My Drive/graduation project/audio/paper_code/features/x.joblib')\n",
        "y = joblib.load('/content/drive/My Drive/graduation project/audio/paper_code/features/y.joblib')"
      ],
      "metadata": {
        "id": "Q35CN6zDrzg1"
      },
      "execution_count": 4,
      "outputs": []
    },
    {
      "cell_type": "code",
      "source": [
        "X.shape"
      ],
      "metadata": {
        "id": "7PSTurzjCo5K",
        "colab": {
          "base_uri": "https://localhost:8080/"
        },
        "outputId": "a844a1cf-5988-487e-ad53-015653a5343e"
      },
      "execution_count": 5,
      "outputs": [
        {
          "output_type": "execute_result",
          "data": {
            "text/plain": [
              "(2068, 40)"
            ]
          },
          "metadata": {},
          "execution_count": 5
        }
      ]
    },
    {
      "cell_type": "code",
      "source": [
        "from sklearn.model_selection import train_test_split\n",
        "\n",
        "X_train, X_test, y_train, y_test = train_test_split(X,y, test_size=0.1 ,shuffle = True\n",
        "                                                    , random_state=42)\n",
        "X_train , X_valid, y_train, y_valid = train_test_split(X_train,y_train, test_size=0.1112305212 , shuffle = True \n",
        "                                                       , random_state=42)"
      ],
      "metadata": {
        "id": "Ai4Fy5cPCiq1"
      },
      "execution_count": 6,
      "outputs": []
    },
    {
      "cell_type": "code",
      "source": [
        "import numpy as np\n",
        "x_traincnn = np.expand_dims(X_train, axis=2)\n",
        "x_testcnn = np.expand_dims(X_test, axis=2)\n",
        "X_valid= np.expand_dims(X_valid, axis=2)"
      ],
      "metadata": {
        "id": "tp1Fm5K3CEXu"
      },
      "execution_count": 7,
      "outputs": []
    },
    {
      "cell_type": "code",
      "source": [
        "x_traincnn.shape, x_testcnn.shape , X_valid.shape\n",
        "#1861"
      ],
      "metadata": {
        "id": "RI0MxoIPBws5",
        "colab": {
          "base_uri": "https://localhost:8080/"
        },
        "outputId": "1546d48a-64dc-4317-c938-47503cc88d0e"
      },
      "execution_count": 8,
      "outputs": [
        {
          "output_type": "execute_result",
          "data": {
            "text/plain": [
              "((1654, 40, 1), (207, 40, 1), (207, 40, 1))"
            ]
          },
          "metadata": {},
          "execution_count": 8
        }
      ]
    },
    {
      "cell_type": "code",
      "source": [
        "!pip install tensorflow"
      ],
      "metadata": {
        "id": "oALhiMUd9G2Y",
        "colab": {
          "base_uri": "https://localhost:8080/"
        },
        "outputId": "e854865b-22c2-47d5-deb0-1dce625e2e79"
      },
      "execution_count": 9,
      "outputs": [
        {
          "output_type": "stream",
          "name": "stdout",
          "text": [
            "Looking in indexes: https://pypi.org/simple, https://us-python.pkg.dev/colab-wheels/public/simple/\n",
            "Requirement already satisfied: tensorflow in /usr/local/lib/python3.7/dist-packages (2.8.2+zzzcolab20220527125636)\n",
            "Requirement already satisfied: keras-preprocessing>=1.1.1 in /usr/local/lib/python3.7/dist-packages (from tensorflow) (1.1.2)\n",
            "Requirement already satisfied: setuptools in /usr/local/lib/python3.7/dist-packages (from tensorflow) (57.4.0)\n",
            "Requirement already satisfied: libclang>=9.0.1 in /usr/local/lib/python3.7/dist-packages (from tensorflow) (14.0.1)\n",
            "Requirement already satisfied: google-pasta>=0.1.1 in /usr/local/lib/python3.7/dist-packages (from tensorflow) (0.2.0)\n",
            "Requirement already satisfied: tensorflow-io-gcs-filesystem>=0.23.1 in /usr/local/lib/python3.7/dist-packages (from tensorflow) (0.26.0)\n",
            "Requirement already satisfied: gast>=0.2.1 in /usr/local/lib/python3.7/dist-packages (from tensorflow) (0.5.3)\n",
            "Requirement already satisfied: typing-extensions>=3.6.6 in /usr/local/lib/python3.7/dist-packages (from tensorflow) (4.2.0)\n",
            "Requirement already satisfied: opt-einsum>=2.3.2 in /usr/local/lib/python3.7/dist-packages (from tensorflow) (3.3.0)\n",
            "Requirement already satisfied: six>=1.12.0 in /usr/local/lib/python3.7/dist-packages (from tensorflow) (1.15.0)\n",
            "Requirement already satisfied: numpy>=1.20 in /usr/local/lib/python3.7/dist-packages (from tensorflow) (1.21.6)\n",
            "Requirement already satisfied: termcolor>=1.1.0 in /usr/local/lib/python3.7/dist-packages (from tensorflow) (1.1.0)\n",
            "Requirement already satisfied: keras<2.9,>=2.8.0rc0 in /usr/local/lib/python3.7/dist-packages (from tensorflow) (2.8.0)\n",
            "Requirement already satisfied: wrapt>=1.11.0 in /usr/local/lib/python3.7/dist-packages (from tensorflow) (1.14.1)\n",
            "Requirement already satisfied: protobuf<3.20,>=3.9.2 in /usr/local/lib/python3.7/dist-packages (from tensorflow) (3.17.3)\n",
            "Requirement already satisfied: tensorboard<2.9,>=2.8 in /usr/local/lib/python3.7/dist-packages (from tensorflow) (2.8.0)\n",
            "Requirement already satisfied: grpcio<2.0,>=1.24.3 in /usr/local/lib/python3.7/dist-packages (from tensorflow) (1.46.3)\n",
            "Requirement already satisfied: h5py>=2.9.0 in /usr/local/lib/python3.7/dist-packages (from tensorflow) (3.1.0)\n",
            "Requirement already satisfied: tensorflow-estimator<2.9,>=2.8 in /usr/local/lib/python3.7/dist-packages (from tensorflow) (2.8.0)\n",
            "Requirement already satisfied: astunparse>=1.6.0 in /usr/local/lib/python3.7/dist-packages (from tensorflow) (1.6.3)\n",
            "Requirement already satisfied: absl-py>=0.4.0 in /usr/local/lib/python3.7/dist-packages (from tensorflow) (1.0.0)\n",
            "Requirement already satisfied: flatbuffers>=1.12 in /usr/local/lib/python3.7/dist-packages (from tensorflow) (2.0)\n",
            "Requirement already satisfied: wheel<1.0,>=0.23.0 in /usr/local/lib/python3.7/dist-packages (from astunparse>=1.6.0->tensorflow) (0.37.1)\n",
            "Requirement already satisfied: cached-property in /usr/local/lib/python3.7/dist-packages (from h5py>=2.9.0->tensorflow) (1.5.2)\n",
            "Requirement already satisfied: markdown>=2.6.8 in /usr/local/lib/python3.7/dist-packages (from tensorboard<2.9,>=2.8->tensorflow) (3.3.7)\n",
            "Requirement already satisfied: google-auth<3,>=1.6.3 in /usr/local/lib/python3.7/dist-packages (from tensorboard<2.9,>=2.8->tensorflow) (1.35.0)\n",
            "Requirement already satisfied: tensorboard-data-server<0.7.0,>=0.6.0 in /usr/local/lib/python3.7/dist-packages (from tensorboard<2.9,>=2.8->tensorflow) (0.6.1)\n",
            "Requirement already satisfied: google-auth-oauthlib<0.5,>=0.4.1 in /usr/local/lib/python3.7/dist-packages (from tensorboard<2.9,>=2.8->tensorflow) (0.4.6)\n",
            "Requirement already satisfied: tensorboard-plugin-wit>=1.6.0 in /usr/local/lib/python3.7/dist-packages (from tensorboard<2.9,>=2.8->tensorflow) (1.8.1)\n",
            "Requirement already satisfied: werkzeug>=0.11.15 in /usr/local/lib/python3.7/dist-packages (from tensorboard<2.9,>=2.8->tensorflow) (1.0.1)\n",
            "Requirement already satisfied: requests<3,>=2.21.0 in /usr/local/lib/python3.7/dist-packages (from tensorboard<2.9,>=2.8->tensorflow) (2.23.0)\n",
            "Requirement already satisfied: cachetools<5.0,>=2.0.0 in /usr/local/lib/python3.7/dist-packages (from google-auth<3,>=1.6.3->tensorboard<2.9,>=2.8->tensorflow) (4.2.4)\n",
            "Requirement already satisfied: rsa<5,>=3.1.4 in /usr/local/lib/python3.7/dist-packages (from google-auth<3,>=1.6.3->tensorboard<2.9,>=2.8->tensorflow) (4.8)\n",
            "Requirement already satisfied: pyasn1-modules>=0.2.1 in /usr/local/lib/python3.7/dist-packages (from google-auth<3,>=1.6.3->tensorboard<2.9,>=2.8->tensorflow) (0.2.8)\n",
            "Requirement already satisfied: requests-oauthlib>=0.7.0 in /usr/local/lib/python3.7/dist-packages (from google-auth-oauthlib<0.5,>=0.4.1->tensorboard<2.9,>=2.8->tensorflow) (1.3.1)\n",
            "Requirement already satisfied: importlib-metadata>=4.4 in /usr/local/lib/python3.7/dist-packages (from markdown>=2.6.8->tensorboard<2.9,>=2.8->tensorflow) (4.11.4)\n",
            "Requirement already satisfied: zipp>=0.5 in /usr/local/lib/python3.7/dist-packages (from importlib-metadata>=4.4->markdown>=2.6.8->tensorboard<2.9,>=2.8->tensorflow) (3.8.0)\n",
            "Requirement already satisfied: pyasn1<0.5.0,>=0.4.6 in /usr/local/lib/python3.7/dist-packages (from pyasn1-modules>=0.2.1->google-auth<3,>=1.6.3->tensorboard<2.9,>=2.8->tensorflow) (0.4.8)\n",
            "Requirement already satisfied: chardet<4,>=3.0.2 in /usr/local/lib/python3.7/dist-packages (from requests<3,>=2.21.0->tensorboard<2.9,>=2.8->tensorflow) (3.0.4)\n",
            "Requirement already satisfied: urllib3!=1.25.0,!=1.25.1,<1.26,>=1.21.1 in /usr/local/lib/python3.7/dist-packages (from requests<3,>=2.21.0->tensorboard<2.9,>=2.8->tensorflow) (1.24.3)\n",
            "Requirement already satisfied: certifi>=2017.4.17 in /usr/local/lib/python3.7/dist-packages (from requests<3,>=2.21.0->tensorboard<2.9,>=2.8->tensorflow) (2022.5.18.1)\n",
            "Requirement already satisfied: idna<3,>=2.5 in /usr/local/lib/python3.7/dist-packages (from requests<3,>=2.21.0->tensorboard<2.9,>=2.8->tensorflow) (2.10)\n",
            "Requirement already satisfied: oauthlib>=3.0.0 in /usr/local/lib/python3.7/dist-packages (from requests-oauthlib>=0.7.0->google-auth-oauthlib<0.5,>=0.4.1->tensorboard<2.9,>=2.8->tensorflow) (3.2.0)\n"
          ]
        }
      ]
    },
    {
      "cell_type": "code",
      "source": [
        "import keras\n",
        "import numpy as np\n",
        "import matplotlib.pyplot as plt\n",
        "import tensorflow as tf\n",
        "from keras.preprocessing import sequence\n",
        "from keras.models import Sequential\n",
        "from keras.layers import Dense, Embedding\n",
        "from tensorflow.keras.utils import to_categorical\n",
        "from keras.layers import Input, Flatten, Dropout, Activation\n",
        "from keras.layers import Conv1D, MaxPooling1D\n",
        "from keras.models import Model\n",
        "from keras.callbacks import ModelCheckpoint\n",
        "from tensorflow.keras import optimizers\n",
        "\n",
        "model = Sequential()\n",
        "\n",
        "model.add(Conv1D(64, 12,padding='same', #classifier.add(Convolution2D(64, (3, 3), padding = 'same', input_shape = (128, 128, 3), activation = 'relu'))\n",
        "                 input_shape=(40,1)))\n",
        "model.add(Activation('relu'))\n",
        "model.add(Dropout(0.3))\n",
        "model.add(MaxPooling1D(pool_size=(5)))\n",
        "\n",
        "\n",
        "model.add(Conv1D(128,12,padding='same',))\n",
        "model.add(Activation('relu'))\n",
        "model.add(Dropout(0.3))\n",
        "model.add(MaxPooling1D(pool_size=(5)))\n",
        "\n",
        "#model.add(MaxPooling1D(pool_size=(5)))\n",
        "\n",
        "model.add(Flatten())\n",
        "\n",
        "\n",
        "\n",
        "model.add(Dense(6))\n",
        "model.add(Activation('softmax'))\n",
        "\n",
        "\n",
        "opt = tf.keras.optimizers.RMSprop(lr=0.0002 , decay=0.0)\n",
        "#opt = tf.keras.optimizers.Adam(lr=0.0002 , decay=0.0)\n",
        "#opt = tf.keras.optimizers.RMSprop(lr=0.0001, rho=0.9, epsilon=1e-07, decay=0.0)\n",
        "#opt = tf.keras.optimizers.SGD(lr=0.001, momentum=0.0, decay=0.0, nesterov=False)"
      ],
      "metadata": {
        "id": "g74fXWVAC4Cr",
        "colab": {
          "base_uri": "https://localhost:8080/"
        },
        "outputId": "1e1e6216-ddcc-41c4-c9d0-e3c1715cf486"
      },
      "execution_count": 10,
      "outputs": [
        {
          "output_type": "stream",
          "name": "stderr",
          "text": [
            "/usr/local/lib/python3.7/dist-packages/keras/optimizer_v2/rmsprop.py:130: UserWarning:\n",
            "\n",
            "The `lr` argument is deprecated, use `learning_rate` instead.\n",
            "\n"
          ]
        }
      ]
    },
    {
      "cell_type": "code",
      "source": [
        "model.summary()"
      ],
      "metadata": {
        "id": "H6ukOxAGC_I4",
        "colab": {
          "base_uri": "https://localhost:8080/"
        },
        "outputId": "6720c311-ea2f-4597-e3c4-b72265a52306"
      },
      "execution_count": 11,
      "outputs": [
        {
          "output_type": "stream",
          "name": "stdout",
          "text": [
            "Model: \"sequential\"\n",
            "_________________________________________________________________\n",
            " Layer (type)                Output Shape              Param #   \n",
            "=================================================================\n",
            " conv1d (Conv1D)             (None, 40, 64)            832       \n",
            "                                                                 \n",
            " activation (Activation)     (None, 40, 64)            0         \n",
            "                                                                 \n",
            " dropout (Dropout)           (None, 40, 64)            0         \n",
            "                                                                 \n",
            " max_pooling1d (MaxPooling1D  (None, 8, 64)            0         \n",
            " )                                                               \n",
            "                                                                 \n",
            " conv1d_1 (Conv1D)           (None, 8, 128)            98432     \n",
            "                                                                 \n",
            " activation_1 (Activation)   (None, 8, 128)            0         \n",
            "                                                                 \n",
            " dropout_1 (Dropout)         (None, 8, 128)            0         \n",
            "                                                                 \n",
            " max_pooling1d_1 (MaxPooling  (None, 1, 128)           0         \n",
            " 1D)                                                             \n",
            "                                                                 \n",
            " flatten (Flatten)           (None, 128)               0         \n",
            "                                                                 \n",
            " dense (Dense)               (None, 6)                 774       \n",
            "                                                                 \n",
            " activation_2 (Activation)   (None, 6)                 0         \n",
            "                                                                 \n",
            "=================================================================\n",
            "Total params: 100,038\n",
            "Trainable params: 100,038\n",
            "Non-trainable params: 0\n",
            "_________________________________________________________________\n"
          ]
        }
      ]
    },
    {
      "cell_type": "code",
      "source": [
        "model.compile(loss='sparse_categorical_crossentropy',\n",
        "              optimizer=opt,\n",
        "              metrics=['accuracy'])"
      ],
      "metadata": {
        "id": "AbMlLNk4DCBM"
      },
      "execution_count": 12,
      "outputs": []
    },
    {
      "cell_type": "code",
      "source": [
        "# Create an Instance of Early Stopping Callback.\n",
        "early_stopping_callback = EarlyStopping(monitor = 'val_loss', patience = 25, mode = 'min', restore_best_weights = True)\n",
        "\n",
        "cnnhistory=model.fit(x_traincnn, y_train, batch_size=16, epochs=500 , shuffle = True, \n",
        "                     validation_data=(X_valid, y_valid) , callbacks = [early_stopping_callback])"
      ],
      "metadata": {
        "id": "RI1v2AuADFhy",
        "colab": {
          "base_uri": "https://localhost:8080/"
        },
        "outputId": "a3d9b0ac-7a53-4965-8f6a-f753f9fc7249"
      },
      "execution_count": 13,
      "outputs": [
        {
          "output_type": "stream",
          "name": "stdout",
          "text": [
            "Epoch 1/500\n",
            "104/104 [==============================] - 3s 17ms/step - loss: 12.2725 - accuracy: 0.1814 - val_loss: 4.8029 - val_accuracy: 0.1691\n",
            "Epoch 2/500\n",
            "104/104 [==============================] - 1s 13ms/step - loss: 8.4438 - accuracy: 0.2031 - val_loss: 3.6840 - val_accuracy: 0.1981\n",
            "Epoch 3/500\n",
            "104/104 [==============================] - 2s 15ms/step - loss: 7.2068 - accuracy: 0.2007 - val_loss: 2.2935 - val_accuracy: 0.2512\n",
            "Epoch 4/500\n",
            "104/104 [==============================] - 2s 15ms/step - loss: 5.8764 - accuracy: 0.2170 - val_loss: 2.0725 - val_accuracy: 0.3478\n",
            "Epoch 5/500\n",
            "104/104 [==============================] - 2s 15ms/step - loss: 5.1011 - accuracy: 0.2267 - val_loss: 2.3701 - val_accuracy: 0.2657\n",
            "Epoch 6/500\n",
            "104/104 [==============================] - 1s 14ms/step - loss: 4.3189 - accuracy: 0.2527 - val_loss: 2.7661 - val_accuracy: 0.2126\n",
            "Epoch 7/500\n",
            "104/104 [==============================] - 1s 13ms/step - loss: 3.8497 - accuracy: 0.2521 - val_loss: 2.4750 - val_accuracy: 0.2077\n",
            "Epoch 8/500\n",
            "104/104 [==============================] - 1s 14ms/step - loss: 3.3803 - accuracy: 0.2678 - val_loss: 1.8517 - val_accuracy: 0.2464\n",
            "Epoch 9/500\n",
            "104/104 [==============================] - 2s 15ms/step - loss: 3.1999 - accuracy: 0.2654 - val_loss: 1.9463 - val_accuracy: 0.2512\n",
            "Epoch 10/500\n",
            "104/104 [==============================] - 2s 15ms/step - loss: 2.9579 - accuracy: 0.2926 - val_loss: 1.6244 - val_accuracy: 0.3575\n",
            "Epoch 11/500\n",
            "104/104 [==============================] - 2s 15ms/step - loss: 2.6918 - accuracy: 0.2763 - val_loss: 1.9919 - val_accuracy: 0.2802\n",
            "Epoch 12/500\n",
            "104/104 [==============================] - 2s 16ms/step - loss: 2.6568 - accuracy: 0.2715 - val_loss: 1.6505 - val_accuracy: 0.2705\n",
            "Epoch 13/500\n",
            "104/104 [==============================] - 2s 15ms/step - loss: 2.3697 - accuracy: 0.3259 - val_loss: 1.6034 - val_accuracy: 0.4348\n",
            "Epoch 14/500\n",
            "104/104 [==============================] - 2s 15ms/step - loss: 2.3562 - accuracy: 0.3271 - val_loss: 1.4801 - val_accuracy: 0.3720\n",
            "Epoch 15/500\n",
            "104/104 [==============================] - 1s 14ms/step - loss: 2.2435 - accuracy: 0.3277 - val_loss: 1.8264 - val_accuracy: 0.2899\n",
            "Epoch 16/500\n",
            "104/104 [==============================] - 1s 12ms/step - loss: 2.1864 - accuracy: 0.3198 - val_loss: 1.5466 - val_accuracy: 0.3961\n",
            "Epoch 17/500\n",
            "104/104 [==============================] - 1s 12ms/step - loss: 2.0909 - accuracy: 0.3615 - val_loss: 1.3350 - val_accuracy: 0.4396\n",
            "Epoch 18/500\n",
            "104/104 [==============================] - 1s 11ms/step - loss: 2.0663 - accuracy: 0.3434 - val_loss: 1.5417 - val_accuracy: 0.3043\n",
            "Epoch 19/500\n",
            "104/104 [==============================] - 1s 9ms/step - loss: 2.0017 - accuracy: 0.3615 - val_loss: 1.5228 - val_accuracy: 0.3527\n",
            "Epoch 20/500\n",
            "104/104 [==============================] - 1s 8ms/step - loss: 1.9310 - accuracy: 0.3827 - val_loss: 1.6051 - val_accuracy: 0.3478\n",
            "Epoch 21/500\n",
            "104/104 [==============================] - 1s 9ms/step - loss: 1.8442 - accuracy: 0.3863 - val_loss: 1.3744 - val_accuracy: 0.4058\n",
            "Epoch 22/500\n",
            "104/104 [==============================] - 1s 8ms/step - loss: 1.7838 - accuracy: 0.3888 - val_loss: 1.4517 - val_accuracy: 0.4203\n",
            "Epoch 23/500\n",
            "104/104 [==============================] - 1s 9ms/step - loss: 1.7869 - accuracy: 0.3984 - val_loss: 1.3017 - val_accuracy: 0.4734\n",
            "Epoch 24/500\n",
            "104/104 [==============================] - 1s 8ms/step - loss: 1.7116 - accuracy: 0.4075 - val_loss: 1.4033 - val_accuracy: 0.4010\n",
            "Epoch 25/500\n",
            "104/104 [==============================] - 1s 8ms/step - loss: 1.7746 - accuracy: 0.3996 - val_loss: 1.3881 - val_accuracy: 0.4541\n",
            "Epoch 26/500\n",
            "104/104 [==============================] - 1s 8ms/step - loss: 1.5969 - accuracy: 0.4389 - val_loss: 1.2627 - val_accuracy: 0.5266\n",
            "Epoch 27/500\n",
            "104/104 [==============================] - 1s 9ms/step - loss: 1.6379 - accuracy: 0.4214 - val_loss: 1.4180 - val_accuracy: 0.4106\n",
            "Epoch 28/500\n",
            "104/104 [==============================] - 1s 9ms/step - loss: 1.5763 - accuracy: 0.4516 - val_loss: 1.2342 - val_accuracy: 0.5507\n",
            "Epoch 29/500\n",
            "104/104 [==============================] - 1s 8ms/step - loss: 1.5750 - accuracy: 0.4208 - val_loss: 1.1862 - val_accuracy: 0.5459\n",
            "Epoch 30/500\n",
            "104/104 [==============================] - 1s 8ms/step - loss: 1.6039 - accuracy: 0.4432 - val_loss: 1.2913 - val_accuracy: 0.4976\n",
            "Epoch 31/500\n",
            "104/104 [==============================] - 1s 9ms/step - loss: 1.5359 - accuracy: 0.4492 - val_loss: 1.2635 - val_accuracy: 0.5362\n",
            "Epoch 32/500\n",
            "104/104 [==============================] - 1s 9ms/step - loss: 1.4879 - accuracy: 0.4667 - val_loss: 1.3589 - val_accuracy: 0.4541\n",
            "Epoch 33/500\n",
            "104/104 [==============================] - 1s 9ms/step - loss: 1.4889 - accuracy: 0.4631 - val_loss: 1.1589 - val_accuracy: 0.5362\n",
            "Epoch 34/500\n",
            "104/104 [==============================] - 1s 9ms/step - loss: 1.4242 - accuracy: 0.4698 - val_loss: 1.1795 - val_accuracy: 0.5314\n",
            "Epoch 35/500\n",
            "104/104 [==============================] - 1s 8ms/step - loss: 1.4064 - accuracy: 0.4958 - val_loss: 1.1498 - val_accuracy: 0.5894\n",
            "Epoch 36/500\n",
            "104/104 [==============================] - 1s 8ms/step - loss: 1.3850 - accuracy: 0.4770 - val_loss: 1.1778 - val_accuracy: 0.4879\n",
            "Epoch 37/500\n",
            "104/104 [==============================] - 1s 9ms/step - loss: 1.3906 - accuracy: 0.4897 - val_loss: 1.1329 - val_accuracy: 0.5556\n",
            "Epoch 38/500\n",
            "104/104 [==============================] - 1s 8ms/step - loss: 1.3353 - accuracy: 0.5012 - val_loss: 1.2328 - val_accuracy: 0.5121\n",
            "Epoch 39/500\n",
            "104/104 [==============================] - 1s 8ms/step - loss: 1.3171 - accuracy: 0.5157 - val_loss: 1.1187 - val_accuracy: 0.5749\n",
            "Epoch 40/500\n",
            "104/104 [==============================] - 1s 9ms/step - loss: 1.2939 - accuracy: 0.5054 - val_loss: 1.0920 - val_accuracy: 0.6135\n",
            "Epoch 41/500\n",
            "104/104 [==============================] - 1s 8ms/step - loss: 1.3050 - accuracy: 0.5218 - val_loss: 1.1353 - val_accuracy: 0.5604\n",
            "Epoch 42/500\n",
            "104/104 [==============================] - 1s 8ms/step - loss: 1.2666 - accuracy: 0.5302 - val_loss: 1.0797 - val_accuracy: 0.6522\n",
            "Epoch 43/500\n",
            "104/104 [==============================] - 1s 9ms/step - loss: 1.2640 - accuracy: 0.5405 - val_loss: 1.0536 - val_accuracy: 0.6473\n",
            "Epoch 44/500\n",
            "104/104 [==============================] - 1s 8ms/step - loss: 1.2533 - accuracy: 0.5236 - val_loss: 1.1622 - val_accuracy: 0.5217\n",
            "Epoch 45/500\n",
            "104/104 [==============================] - 1s 9ms/step - loss: 1.2249 - accuracy: 0.5314 - val_loss: 1.0400 - val_accuracy: 0.6280\n",
            "Epoch 46/500\n",
            "104/104 [==============================] - 1s 9ms/step - loss: 1.2117 - accuracy: 0.5405 - val_loss: 1.0590 - val_accuracy: 0.5652\n",
            "Epoch 47/500\n",
            "104/104 [==============================] - 1s 8ms/step - loss: 1.1860 - accuracy: 0.5514 - val_loss: 1.1543 - val_accuracy: 0.5411\n",
            "Epoch 48/500\n",
            "104/104 [==============================] - 1s 9ms/step - loss: 1.1783 - accuracy: 0.5514 - val_loss: 1.0494 - val_accuracy: 0.5894\n",
            "Epoch 49/500\n",
            "104/104 [==============================] - 1s 8ms/step - loss: 1.1443 - accuracy: 0.5713 - val_loss: 0.9908 - val_accuracy: 0.6763\n",
            "Epoch 50/500\n",
            "104/104 [==============================] - 1s 8ms/step - loss: 1.1420 - accuracy: 0.5695 - val_loss: 1.0438 - val_accuracy: 0.6039\n",
            "Epoch 51/500\n",
            "104/104 [==============================] - 1s 8ms/step - loss: 1.1199 - accuracy: 0.5701 - val_loss: 1.0144 - val_accuracy: 0.6280\n",
            "Epoch 52/500\n",
            "104/104 [==============================] - 1s 8ms/step - loss: 1.1095 - accuracy: 0.5580 - val_loss: 1.1054 - val_accuracy: 0.5652\n",
            "Epoch 53/500\n",
            "104/104 [==============================] - 1s 8ms/step - loss: 1.1032 - accuracy: 0.5865 - val_loss: 1.0927 - val_accuracy: 0.5749\n",
            "Epoch 54/500\n",
            "104/104 [==============================] - 1s 8ms/step - loss: 1.1131 - accuracy: 0.5671 - val_loss: 1.0008 - val_accuracy: 0.6715\n",
            "Epoch 55/500\n",
            "104/104 [==============================] - 1s 9ms/step - loss: 1.1075 - accuracy: 0.5653 - val_loss: 0.9494 - val_accuracy: 0.6860\n",
            "Epoch 56/500\n",
            "104/104 [==============================] - 1s 9ms/step - loss: 1.0635 - accuracy: 0.5913 - val_loss: 0.9825 - val_accuracy: 0.6522\n",
            "Epoch 57/500\n",
            "104/104 [==============================] - 1s 9ms/step - loss: 1.0500 - accuracy: 0.6034 - val_loss: 0.9142 - val_accuracy: 0.6763\n",
            "Epoch 58/500\n",
            "104/104 [==============================] - 1s 8ms/step - loss: 1.0258 - accuracy: 0.6034 - val_loss: 0.9356 - val_accuracy: 0.6860\n",
            "Epoch 59/500\n",
            "104/104 [==============================] - 1s 8ms/step - loss: 1.0462 - accuracy: 0.6034 - val_loss: 0.9632 - val_accuracy: 0.6522\n",
            "Epoch 60/500\n",
            "104/104 [==============================] - 1s 8ms/step - loss: 1.0351 - accuracy: 0.6131 - val_loss: 1.0023 - val_accuracy: 0.5990\n",
            "Epoch 61/500\n",
            "104/104 [==============================] - 1s 9ms/step - loss: 1.0080 - accuracy: 0.6185 - val_loss: 0.9544 - val_accuracy: 0.6860\n",
            "Epoch 62/500\n",
            "104/104 [==============================] - 1s 8ms/step - loss: 1.0026 - accuracy: 0.6119 - val_loss: 0.9773 - val_accuracy: 0.6812\n",
            "Epoch 63/500\n",
            "104/104 [==============================] - 1s 9ms/step - loss: 0.9958 - accuracy: 0.6010 - val_loss: 0.9367 - val_accuracy: 0.6667\n",
            "Epoch 64/500\n",
            "104/104 [==============================] - 1s 8ms/step - loss: 0.9458 - accuracy: 0.6360 - val_loss: 1.1569 - val_accuracy: 0.4976\n",
            "Epoch 65/500\n",
            "104/104 [==============================] - 1s 8ms/step - loss: 0.9792 - accuracy: 0.6173 - val_loss: 0.9440 - val_accuracy: 0.6377\n",
            "Epoch 66/500\n",
            "104/104 [==============================] - 1s 8ms/step - loss: 0.9650 - accuracy: 0.6348 - val_loss: 0.8827 - val_accuracy: 0.7295\n",
            "Epoch 67/500\n",
            "104/104 [==============================] - 1s 9ms/step - loss: 0.9666 - accuracy: 0.6312 - val_loss: 0.9577 - val_accuracy: 0.6232\n",
            "Epoch 68/500\n",
            "104/104 [==============================] - 1s 9ms/step - loss: 0.9608 - accuracy: 0.6439 - val_loss: 0.9315 - val_accuracy: 0.6667\n",
            "Epoch 69/500\n",
            "104/104 [==============================] - 1s 8ms/step - loss: 0.9392 - accuracy: 0.6385 - val_loss: 0.9125 - val_accuracy: 0.6618\n",
            "Epoch 70/500\n",
            "104/104 [==============================] - 1s 8ms/step - loss: 0.9349 - accuracy: 0.6306 - val_loss: 0.9027 - val_accuracy: 0.6908\n",
            "Epoch 71/500\n",
            "104/104 [==============================] - 1s 9ms/step - loss: 0.9109 - accuracy: 0.6524 - val_loss: 0.9113 - val_accuracy: 0.6860\n",
            "Epoch 72/500\n",
            "104/104 [==============================] - 1s 8ms/step - loss: 0.9275 - accuracy: 0.6445 - val_loss: 0.8943 - val_accuracy: 0.6618\n",
            "Epoch 73/500\n",
            "104/104 [==============================] - 1s 9ms/step - loss: 0.9408 - accuracy: 0.6300 - val_loss: 0.8728 - val_accuracy: 0.6715\n",
            "Epoch 74/500\n",
            "104/104 [==============================] - 1s 9ms/step - loss: 0.9070 - accuracy: 0.6493 - val_loss: 0.8904 - val_accuracy: 0.6957\n",
            "Epoch 75/500\n",
            "104/104 [==============================] - 1s 9ms/step - loss: 0.9056 - accuracy: 0.6372 - val_loss: 0.8773 - val_accuracy: 0.6908\n",
            "Epoch 76/500\n",
            "104/104 [==============================] - 1s 8ms/step - loss: 0.8944 - accuracy: 0.6511 - val_loss: 0.8618 - val_accuracy: 0.7005\n",
            "Epoch 77/500\n",
            "104/104 [==============================] - 1s 9ms/step - loss: 0.8722 - accuracy: 0.6723 - val_loss: 0.8600 - val_accuracy: 0.6715\n",
            "Epoch 78/500\n",
            "104/104 [==============================] - 1s 8ms/step - loss: 0.8790 - accuracy: 0.6499 - val_loss: 0.8806 - val_accuracy: 0.7005\n",
            "Epoch 79/500\n",
            "104/104 [==============================] - 1s 9ms/step - loss: 0.8877 - accuracy: 0.6626 - val_loss: 0.8456 - val_accuracy: 0.6812\n",
            "Epoch 80/500\n",
            "104/104 [==============================] - 1s 8ms/step - loss: 0.8440 - accuracy: 0.6608 - val_loss: 0.8556 - val_accuracy: 0.6667\n",
            "Epoch 81/500\n",
            "104/104 [==============================] - 1s 8ms/step - loss: 0.8470 - accuracy: 0.6747 - val_loss: 0.8492 - val_accuracy: 0.7005\n",
            "Epoch 82/500\n",
            "104/104 [==============================] - 1s 9ms/step - loss: 0.8484 - accuracy: 0.6699 - val_loss: 0.8603 - val_accuracy: 0.6908\n",
            "Epoch 83/500\n",
            "104/104 [==============================] - 1s 9ms/step - loss: 0.8293 - accuracy: 0.6892 - val_loss: 0.8946 - val_accuracy: 0.6377\n",
            "Epoch 84/500\n",
            "104/104 [==============================] - 1s 9ms/step - loss: 0.8398 - accuracy: 0.6765 - val_loss: 0.8142 - val_accuracy: 0.7343\n",
            "Epoch 85/500\n",
            "104/104 [==============================] - 1s 9ms/step - loss: 0.8402 - accuracy: 0.6693 - val_loss: 0.8253 - val_accuracy: 0.7150\n",
            "Epoch 86/500\n",
            "104/104 [==============================] - 1s 8ms/step - loss: 0.8217 - accuracy: 0.6693 - val_loss: 0.8462 - val_accuracy: 0.7053\n",
            "Epoch 87/500\n",
            "104/104 [==============================] - 1s 8ms/step - loss: 0.8195 - accuracy: 0.6802 - val_loss: 0.8649 - val_accuracy: 0.6522\n",
            "Epoch 88/500\n",
            "104/104 [==============================] - 1s 8ms/step - loss: 0.7956 - accuracy: 0.6898 - val_loss: 0.8428 - val_accuracy: 0.6522\n",
            "Epoch 89/500\n",
            "104/104 [==============================] - 1s 9ms/step - loss: 0.8050 - accuracy: 0.6917 - val_loss: 0.8217 - val_accuracy: 0.6908\n",
            "Epoch 90/500\n",
            "104/104 [==============================] - 1s 8ms/step - loss: 0.8077 - accuracy: 0.6844 - val_loss: 0.7925 - val_accuracy: 0.7295\n",
            "Epoch 91/500\n",
            "104/104 [==============================] - 1s 9ms/step - loss: 0.7910 - accuracy: 0.7037 - val_loss: 0.8289 - val_accuracy: 0.6763\n",
            "Epoch 92/500\n",
            "104/104 [==============================] - 1s 8ms/step - loss: 0.7530 - accuracy: 0.7158 - val_loss: 0.8036 - val_accuracy: 0.7005\n",
            "Epoch 93/500\n",
            "104/104 [==============================] - 1s 8ms/step - loss: 0.7924 - accuracy: 0.6965 - val_loss: 0.8298 - val_accuracy: 0.6667\n",
            "Epoch 94/500\n",
            "104/104 [==============================] - 1s 8ms/step - loss: 0.7848 - accuracy: 0.7037 - val_loss: 0.8313 - val_accuracy: 0.7005\n",
            "Epoch 95/500\n",
            "104/104 [==============================] - 1s 8ms/step - loss: 0.7752 - accuracy: 0.7056 - val_loss: 0.8742 - val_accuracy: 0.6667\n",
            "Epoch 96/500\n",
            "104/104 [==============================] - 1s 9ms/step - loss: 0.7813 - accuracy: 0.7007 - val_loss: 0.7772 - val_accuracy: 0.7585\n",
            "Epoch 97/500\n",
            "104/104 [==============================] - 1s 8ms/step - loss: 0.7590 - accuracy: 0.7146 - val_loss: 0.8588 - val_accuracy: 0.6570\n",
            "Epoch 98/500\n",
            "104/104 [==============================] - 1s 8ms/step - loss: 0.7536 - accuracy: 0.7183 - val_loss: 0.7825 - val_accuracy: 0.7440\n",
            "Epoch 99/500\n",
            "104/104 [==============================] - 1s 8ms/step - loss: 0.7559 - accuracy: 0.7183 - val_loss: 0.7831 - val_accuracy: 0.6667\n",
            "Epoch 100/500\n",
            "104/104 [==============================] - 1s 8ms/step - loss: 0.7665 - accuracy: 0.7001 - val_loss: 0.7741 - val_accuracy: 0.7150\n",
            "Epoch 101/500\n",
            "104/104 [==============================] - 1s 8ms/step - loss: 0.7378 - accuracy: 0.7062 - val_loss: 0.8232 - val_accuracy: 0.6715\n",
            "Epoch 102/500\n",
            "104/104 [==============================] - 1s 8ms/step - loss: 0.7481 - accuracy: 0.7074 - val_loss: 0.8256 - val_accuracy: 0.6473\n",
            "Epoch 103/500\n",
            "104/104 [==============================] - 1s 9ms/step - loss: 0.7402 - accuracy: 0.7098 - val_loss: 0.8613 - val_accuracy: 0.6715\n",
            "Epoch 104/500\n",
            "104/104 [==============================] - 1s 9ms/step - loss: 0.7320 - accuracy: 0.7183 - val_loss: 0.7773 - val_accuracy: 0.7295\n",
            "Epoch 105/500\n",
            "104/104 [==============================] - 1s 8ms/step - loss: 0.7207 - accuracy: 0.7195 - val_loss: 0.7891 - val_accuracy: 0.7053\n",
            "Epoch 106/500\n",
            "104/104 [==============================] - 1s 8ms/step - loss: 0.7294 - accuracy: 0.7164 - val_loss: 0.8176 - val_accuracy: 0.6812\n",
            "Epoch 107/500\n",
            "104/104 [==============================] - 1s 9ms/step - loss: 0.7246 - accuracy: 0.7146 - val_loss: 0.8177 - val_accuracy: 0.6860\n",
            "Epoch 108/500\n",
            "104/104 [==============================] - 1s 8ms/step - loss: 0.7354 - accuracy: 0.7195 - val_loss: 0.7429 - val_accuracy: 0.7246\n",
            "Epoch 109/500\n",
            "104/104 [==============================] - 1s 11ms/step - loss: 0.7104 - accuracy: 0.7273 - val_loss: 0.7334 - val_accuracy: 0.7198\n",
            "Epoch 110/500\n",
            "104/104 [==============================] - 1s 12ms/step - loss: 0.6958 - accuracy: 0.7418 - val_loss: 0.8246 - val_accuracy: 0.6715\n",
            "Epoch 111/500\n",
            "104/104 [==============================] - 1s 14ms/step - loss: 0.6953 - accuracy: 0.7322 - val_loss: 0.7312 - val_accuracy: 0.7729\n",
            "Epoch 112/500\n",
            "104/104 [==============================] - 2s 15ms/step - loss: 0.7081 - accuracy: 0.7334 - val_loss: 0.7570 - val_accuracy: 0.7150\n",
            "Epoch 113/500\n",
            "104/104 [==============================] - 1s 8ms/step - loss: 0.6966 - accuracy: 0.7219 - val_loss: 0.7520 - val_accuracy: 0.6908\n",
            "Epoch 114/500\n",
            "104/104 [==============================] - 1s 8ms/step - loss: 0.6839 - accuracy: 0.7424 - val_loss: 0.8788 - val_accuracy: 0.6618\n",
            "Epoch 115/500\n",
            "104/104 [==============================] - 1s 8ms/step - loss: 0.6906 - accuracy: 0.7346 - val_loss: 0.7637 - val_accuracy: 0.7488\n",
            "Epoch 116/500\n",
            "104/104 [==============================] - 1s 8ms/step - loss: 0.7013 - accuracy: 0.7237 - val_loss: 0.7000 - val_accuracy: 0.7585\n",
            "Epoch 117/500\n",
            "104/104 [==============================] - 1s 8ms/step - loss: 0.6718 - accuracy: 0.7388 - val_loss: 0.7054 - val_accuracy: 0.7343\n",
            "Epoch 118/500\n",
            "104/104 [==============================] - 1s 8ms/step - loss: 0.6740 - accuracy: 0.7340 - val_loss: 0.7319 - val_accuracy: 0.7343\n",
            "Epoch 119/500\n",
            "104/104 [==============================] - 1s 8ms/step - loss: 0.6386 - accuracy: 0.7576 - val_loss: 0.7365 - val_accuracy: 0.7101\n",
            "Epoch 120/500\n",
            "104/104 [==============================] - 1s 9ms/step - loss: 0.6583 - accuracy: 0.7285 - val_loss: 0.7042 - val_accuracy: 0.7681\n",
            "Epoch 121/500\n",
            "104/104 [==============================] - 1s 8ms/step - loss: 0.6871 - accuracy: 0.7291 - val_loss: 0.7349 - val_accuracy: 0.7295\n",
            "Epoch 122/500\n",
            "104/104 [==============================] - 1s 9ms/step - loss: 0.6716 - accuracy: 0.7382 - val_loss: 0.6891 - val_accuracy: 0.7729\n",
            "Epoch 123/500\n",
            "104/104 [==============================] - 1s 9ms/step - loss: 0.6445 - accuracy: 0.7388 - val_loss: 0.7240 - val_accuracy: 0.7246\n",
            "Epoch 124/500\n",
            "104/104 [==============================] - 1s 9ms/step - loss: 0.6703 - accuracy: 0.7491 - val_loss: 0.7461 - val_accuracy: 0.7005\n",
            "Epoch 125/500\n",
            "104/104 [==============================] - 1s 8ms/step - loss: 0.6543 - accuracy: 0.7358 - val_loss: 0.7195 - val_accuracy: 0.6957\n",
            "Epoch 126/500\n",
            "104/104 [==============================] - 1s 9ms/step - loss: 0.6211 - accuracy: 0.7539 - val_loss: 0.7050 - val_accuracy: 0.7198\n",
            "Epoch 127/500\n",
            "104/104 [==============================] - 1s 9ms/step - loss: 0.6012 - accuracy: 0.7654 - val_loss: 0.7136 - val_accuracy: 0.7198\n",
            "Epoch 128/500\n",
            "104/104 [==============================] - 1s 8ms/step - loss: 0.6508 - accuracy: 0.7394 - val_loss: 0.7213 - val_accuracy: 0.7198\n",
            "Epoch 129/500\n",
            "104/104 [==============================] - 1s 8ms/step - loss: 0.6315 - accuracy: 0.7618 - val_loss: 0.6986 - val_accuracy: 0.7585\n",
            "Epoch 130/500\n",
            "104/104 [==============================] - 1s 9ms/step - loss: 0.6353 - accuracy: 0.7521 - val_loss: 0.7434 - val_accuracy: 0.7053\n",
            "Epoch 131/500\n",
            "104/104 [==============================] - 1s 8ms/step - loss: 0.6211 - accuracy: 0.7551 - val_loss: 0.6988 - val_accuracy: 0.7440\n",
            "Epoch 132/500\n",
            "104/104 [==============================] - 1s 9ms/step - loss: 0.6322 - accuracy: 0.7570 - val_loss: 0.6764 - val_accuracy: 0.7391\n",
            "Epoch 133/500\n",
            "104/104 [==============================] - 1s 9ms/step - loss: 0.5950 - accuracy: 0.7721 - val_loss: 0.6580 - val_accuracy: 0.7488\n",
            "Epoch 134/500\n",
            "104/104 [==============================] - 1s 9ms/step - loss: 0.6010 - accuracy: 0.7739 - val_loss: 0.6589 - val_accuracy: 0.7729\n",
            "Epoch 135/500\n",
            "104/104 [==============================] - 1s 9ms/step - loss: 0.6257 - accuracy: 0.7509 - val_loss: 0.7599 - val_accuracy: 0.6812\n",
            "Epoch 136/500\n",
            "104/104 [==============================] - 1s 9ms/step - loss: 0.6327 - accuracy: 0.7588 - val_loss: 0.6870 - val_accuracy: 0.7585\n",
            "Epoch 137/500\n",
            "104/104 [==============================] - 1s 9ms/step - loss: 0.5911 - accuracy: 0.7703 - val_loss: 0.6793 - val_accuracy: 0.7343\n",
            "Epoch 138/500\n",
            "104/104 [==============================] - 1s 8ms/step - loss: 0.5793 - accuracy: 0.7805 - val_loss: 0.7221 - val_accuracy: 0.7053\n",
            "Epoch 139/500\n",
            "104/104 [==============================] - 1s 8ms/step - loss: 0.5952 - accuracy: 0.7678 - val_loss: 0.6817 - val_accuracy: 0.7488\n",
            "Epoch 140/500\n",
            "104/104 [==============================] - 1s 9ms/step - loss: 0.5734 - accuracy: 0.7721 - val_loss: 0.6797 - val_accuracy: 0.7778\n",
            "Epoch 141/500\n",
            "104/104 [==============================] - 1s 9ms/step - loss: 0.5996 - accuracy: 0.7703 - val_loss: 0.7277 - val_accuracy: 0.7101\n",
            "Epoch 142/500\n",
            "104/104 [==============================] - 1s 9ms/step - loss: 0.5885 - accuracy: 0.7769 - val_loss: 0.6810 - val_accuracy: 0.7343\n",
            "Epoch 143/500\n",
            "104/104 [==============================] - 1s 8ms/step - loss: 0.5748 - accuracy: 0.7866 - val_loss: 0.6969 - val_accuracy: 0.7053\n",
            "Epoch 144/500\n",
            "104/104 [==============================] - 1s 9ms/step - loss: 0.6066 - accuracy: 0.7642 - val_loss: 0.6828 - val_accuracy: 0.7440\n",
            "Epoch 145/500\n",
            "104/104 [==============================] - 1s 8ms/step - loss: 0.5800 - accuracy: 0.7769 - val_loss: 0.6473 - val_accuracy: 0.7826\n",
            "Epoch 146/500\n",
            "104/104 [==============================] - 1s 8ms/step - loss: 0.5858 - accuracy: 0.7805 - val_loss: 0.6672 - val_accuracy: 0.7488\n",
            "Epoch 147/500\n",
            "104/104 [==============================] - 1s 8ms/step - loss: 0.5860 - accuracy: 0.7703 - val_loss: 0.7159 - val_accuracy: 0.7053\n",
            "Epoch 148/500\n",
            "104/104 [==============================] - 1s 9ms/step - loss: 0.5604 - accuracy: 0.7920 - val_loss: 0.6572 - val_accuracy: 0.7246\n",
            "Epoch 149/500\n",
            "104/104 [==============================] - 1s 8ms/step - loss: 0.5833 - accuracy: 0.7751 - val_loss: 0.6661 - val_accuracy: 0.7343\n",
            "Epoch 150/500\n",
            "104/104 [==============================] - 1s 8ms/step - loss: 0.5859 - accuracy: 0.7763 - val_loss: 0.6815 - val_accuracy: 0.7633\n",
            "Epoch 151/500\n",
            "104/104 [==============================] - 1s 8ms/step - loss: 0.5851 - accuracy: 0.7763 - val_loss: 0.6962 - val_accuracy: 0.7391\n",
            "Epoch 152/500\n",
            "104/104 [==============================] - 1s 8ms/step - loss: 0.5637 - accuracy: 0.7793 - val_loss: 0.6585 - val_accuracy: 0.7005\n",
            "Epoch 153/500\n",
            "104/104 [==============================] - 1s 8ms/step - loss: 0.5594 - accuracy: 0.7799 - val_loss: 0.6916 - val_accuracy: 0.7295\n",
            "Epoch 154/500\n",
            "104/104 [==============================] - 1s 8ms/step - loss: 0.5752 - accuracy: 0.7781 - val_loss: 0.6388 - val_accuracy: 0.7729\n",
            "Epoch 155/500\n",
            "104/104 [==============================] - 1s 8ms/step - loss: 0.5495 - accuracy: 0.7860 - val_loss: 0.6496 - val_accuracy: 0.7343\n",
            "Epoch 156/500\n",
            "104/104 [==============================] - 1s 8ms/step - loss: 0.5619 - accuracy: 0.7775 - val_loss: 0.6423 - val_accuracy: 0.7681\n",
            "Epoch 157/500\n",
            "104/104 [==============================] - 1s 9ms/step - loss: 0.5540 - accuracy: 0.7866 - val_loss: 0.6528 - val_accuracy: 0.7440\n",
            "Epoch 158/500\n",
            "104/104 [==============================] - 1s 9ms/step - loss: 0.5418 - accuracy: 0.8011 - val_loss: 0.7090 - val_accuracy: 0.7053\n",
            "Epoch 159/500\n",
            "104/104 [==============================] - 1s 8ms/step - loss: 0.5435 - accuracy: 0.7914 - val_loss: 0.6523 - val_accuracy: 0.7536\n",
            "Epoch 160/500\n",
            "104/104 [==============================] - 1s 9ms/step - loss: 0.5519 - accuracy: 0.7872 - val_loss: 0.6404 - val_accuracy: 0.7826\n",
            "Epoch 161/500\n",
            "104/104 [==============================] - 1s 8ms/step - loss: 0.5361 - accuracy: 0.7842 - val_loss: 0.6499 - val_accuracy: 0.7585\n",
            "Epoch 162/500\n",
            "104/104 [==============================] - 1s 9ms/step - loss: 0.5683 - accuracy: 0.7830 - val_loss: 0.6347 - val_accuracy: 0.7440\n",
            "Epoch 163/500\n",
            "104/104 [==============================] - 1s 9ms/step - loss: 0.5500 - accuracy: 0.7950 - val_loss: 0.6660 - val_accuracy: 0.7440\n",
            "Epoch 164/500\n",
            "104/104 [==============================] - 1s 9ms/step - loss: 0.5382 - accuracy: 0.7860 - val_loss: 0.6738 - val_accuracy: 0.7198\n",
            "Epoch 165/500\n",
            "104/104 [==============================] - 1s 9ms/step - loss: 0.5438 - accuracy: 0.7914 - val_loss: 0.6269 - val_accuracy: 0.7729\n",
            "Epoch 166/500\n",
            "104/104 [==============================] - 1s 9ms/step - loss: 0.5136 - accuracy: 0.8023 - val_loss: 0.6274 - val_accuracy: 0.7391\n",
            "Epoch 167/500\n",
            "104/104 [==============================] - 1s 9ms/step - loss: 0.5175 - accuracy: 0.7987 - val_loss: 0.6803 - val_accuracy: 0.7101\n",
            "Epoch 168/500\n",
            "104/104 [==============================] - 1s 8ms/step - loss: 0.5419 - accuracy: 0.7830 - val_loss: 0.6573 - val_accuracy: 0.7633\n",
            "Epoch 169/500\n",
            "104/104 [==============================] - 1s 9ms/step - loss: 0.5203 - accuracy: 0.7993 - val_loss: 0.6572 - val_accuracy: 0.7585\n",
            "Epoch 170/500\n",
            "104/104 [==============================] - 1s 9ms/step - loss: 0.5101 - accuracy: 0.8126 - val_loss: 0.6501 - val_accuracy: 0.7295\n",
            "Epoch 171/500\n",
            "104/104 [==============================] - 1s 9ms/step - loss: 0.5399 - accuracy: 0.8005 - val_loss: 0.6312 - val_accuracy: 0.7343\n",
            "Epoch 172/500\n",
            "104/104 [==============================] - 1s 8ms/step - loss: 0.4903 - accuracy: 0.8162 - val_loss: 0.7032 - val_accuracy: 0.7343\n",
            "Epoch 173/500\n",
            "104/104 [==============================] - 1s 8ms/step - loss: 0.4912 - accuracy: 0.8059 - val_loss: 0.6279 - val_accuracy: 0.7585\n",
            "Epoch 174/500\n",
            "104/104 [==============================] - 1s 8ms/step - loss: 0.5026 - accuracy: 0.8065 - val_loss: 0.6417 - val_accuracy: 0.7246\n",
            "Epoch 175/500\n",
            "104/104 [==============================] - 1s 8ms/step - loss: 0.5296 - accuracy: 0.7956 - val_loss: 0.6677 - val_accuracy: 0.7295\n",
            "Epoch 176/500\n",
            "104/104 [==============================] - 1s 9ms/step - loss: 0.5185 - accuracy: 0.7987 - val_loss: 0.6538 - val_accuracy: 0.7536\n",
            "Epoch 177/500\n",
            "104/104 [==============================] - 1s 8ms/step - loss: 0.4883 - accuracy: 0.8083 - val_loss: 0.6221 - val_accuracy: 0.7440\n",
            "Epoch 178/500\n",
            "104/104 [==============================] - 1s 8ms/step - loss: 0.4785 - accuracy: 0.8096 - val_loss: 0.6160 - val_accuracy: 0.7633\n",
            "Epoch 179/500\n",
            "104/104 [==============================] - 1s 9ms/step - loss: 0.4964 - accuracy: 0.8108 - val_loss: 0.5800 - val_accuracy: 0.7633\n",
            "Epoch 180/500\n",
            "104/104 [==============================] - 1s 8ms/step - loss: 0.4849 - accuracy: 0.8156 - val_loss: 0.6489 - val_accuracy: 0.7585\n",
            "Epoch 181/500\n",
            "104/104 [==============================] - 1s 8ms/step - loss: 0.4800 - accuracy: 0.8180 - val_loss: 0.6342 - val_accuracy: 0.7633\n",
            "Epoch 182/500\n",
            "104/104 [==============================] - 1s 8ms/step - loss: 0.4983 - accuracy: 0.8083 - val_loss: 0.6505 - val_accuracy: 0.7729\n",
            "Epoch 183/500\n",
            "104/104 [==============================] - 1s 9ms/step - loss: 0.4851 - accuracy: 0.8210 - val_loss: 0.6498 - val_accuracy: 0.7150\n",
            "Epoch 184/500\n",
            "104/104 [==============================] - 1s 9ms/step - loss: 0.4857 - accuracy: 0.8126 - val_loss: 0.6531 - val_accuracy: 0.7681\n",
            "Epoch 185/500\n",
            "104/104 [==============================] - 1s 8ms/step - loss: 0.4942 - accuracy: 0.8114 - val_loss: 0.6334 - val_accuracy: 0.7391\n",
            "Epoch 186/500\n",
            "104/104 [==============================] - 1s 9ms/step - loss: 0.5085 - accuracy: 0.7999 - val_loss: 0.6017 - val_accuracy: 0.7585\n",
            "Epoch 187/500\n",
            "104/104 [==============================] - 1s 8ms/step - loss: 0.4752 - accuracy: 0.8229 - val_loss: 0.6279 - val_accuracy: 0.7440\n",
            "Epoch 188/500\n",
            "104/104 [==============================] - 1s 8ms/step - loss: 0.4769 - accuracy: 0.8180 - val_loss: 0.6970 - val_accuracy: 0.7440\n",
            "Epoch 189/500\n",
            "104/104 [==============================] - 1s 9ms/step - loss: 0.5081 - accuracy: 0.8041 - val_loss: 0.5924 - val_accuracy: 0.7681\n",
            "Epoch 190/500\n",
            "104/104 [==============================] - 1s 8ms/step - loss: 0.4551 - accuracy: 0.8241 - val_loss: 0.6416 - val_accuracy: 0.7536\n",
            "Epoch 191/500\n",
            "104/104 [==============================] - 1s 9ms/step - loss: 0.4389 - accuracy: 0.8380 - val_loss: 0.6009 - val_accuracy: 0.7488\n",
            "Epoch 192/500\n",
            "104/104 [==============================] - 1s 8ms/step - loss: 0.4894 - accuracy: 0.8071 - val_loss: 0.6255 - val_accuracy: 0.7633\n",
            "Epoch 193/500\n",
            "104/104 [==============================] - 1s 9ms/step - loss: 0.4637 - accuracy: 0.8325 - val_loss: 0.6330 - val_accuracy: 0.7391\n",
            "Epoch 194/500\n",
            "104/104 [==============================] - 1s 9ms/step - loss: 0.4345 - accuracy: 0.8416 - val_loss: 0.6223 - val_accuracy: 0.7681\n",
            "Epoch 195/500\n",
            "104/104 [==============================] - 1s 9ms/step - loss: 0.4574 - accuracy: 0.8295 - val_loss: 0.5964 - val_accuracy: 0.7440\n",
            "Epoch 196/500\n",
            "104/104 [==============================] - 1s 9ms/step - loss: 0.4806 - accuracy: 0.8150 - val_loss: 0.6290 - val_accuracy: 0.7295\n",
            "Epoch 197/500\n",
            "104/104 [==============================] - 1s 9ms/step - loss: 0.4570 - accuracy: 0.8229 - val_loss: 0.6466 - val_accuracy: 0.7343\n",
            "Epoch 198/500\n",
            "104/104 [==============================] - 1s 9ms/step - loss: 0.4817 - accuracy: 0.8150 - val_loss: 0.5850 - val_accuracy: 0.7633\n",
            "Epoch 199/500\n",
            "104/104 [==============================] - 1s 8ms/step - loss: 0.4753 - accuracy: 0.8156 - val_loss: 0.6652 - val_accuracy: 0.7343\n",
            "Epoch 200/500\n",
            "104/104 [==============================] - 1s 9ms/step - loss: 0.4313 - accuracy: 0.8349 - val_loss: 0.6094 - val_accuracy: 0.7633\n",
            "Epoch 201/500\n",
            "104/104 [==============================] - 1s 9ms/step - loss: 0.4643 - accuracy: 0.8216 - val_loss: 0.6201 - val_accuracy: 0.7391\n",
            "Epoch 202/500\n",
            "104/104 [==============================] - 1s 8ms/step - loss: 0.4414 - accuracy: 0.8319 - val_loss: 0.5892 - val_accuracy: 0.7826\n",
            "Epoch 203/500\n",
            "104/104 [==============================] - 1s 10ms/step - loss: 0.4605 - accuracy: 0.8241 - val_loss: 0.6097 - val_accuracy: 0.7633\n",
            "Epoch 204/500\n",
            "104/104 [==============================] - 1s 9ms/step - loss: 0.4061 - accuracy: 0.8482 - val_loss: 0.6196 - val_accuracy: 0.7778\n"
          ]
        }
      ]
    },
    {
      "cell_type": "code",
      "source": [
        "plt.plot(cnnhistory.history['loss'])\n",
        "plt.plot(cnnhistory.history['val_loss'])\n",
        "plt.title('model loss')\n",
        "plt.ylabel('loss')\n",
        "plt.xlabel('epoch')\n",
        "plt.legend(['train','test'], loc='upper left')\n",
        "plt.show()"
      ],
      "metadata": {
        "id": "oQYnuaCrDH_A",
        "colab": {
          "base_uri": "https://localhost:8080/",
          "height": 295
        },
        "outputId": "2160280c-6cce-4759-b6a4-a256ff384099"
      },
      "execution_count": 14,
      "outputs": [
        {
          "output_type": "display_data",
          "data": {
            "text/plain": [
              "<Figure size 432x288 with 1 Axes>"
            ],
            "image/png": "[encoded data removed]"
          },
          "metadata": {
            "needs_background": "light"
          }
        }
      ]
    },
    {
      "cell_type": "code",
      "source": [
        "plt.plot(cnnhistory.history['accuracy'])\n",
        "plt.plot(cnnhistory.history['val_accuracy'])\n",
        "plt.title('model accuracy')\n",
        "plt.ylabel('accuracy')\n",
        "plt.xlabel('epoch')\n",
        "plt.legend(['train','test'], loc='upper left')\n",
        "plt.show()"
      ],
      "metadata": {
        "id": "IFkTuO8nDNdq",
        "colab": {
          "base_uri": "https://localhost:8080/",
          "height": 295
        },
        "outputId": "367ec52b-be93-4a40-f82d-7e7a0f638b9e"
      },
      "execution_count": 15,
      "outputs": [
        {
          "output_type": "display_data",
          "data": {
            "text/plain": [
              "<Figure size 432x288 with 1 Axes>"
            ],
            "image/png": "[encoded data removed]"
          },
          "metadata": {
            "needs_background": "light"
          }
        }
      ]
    },
    {
      "cell_type": "code",
      "source": [
        "predictions = model.predict(x_testcnn)"
      ],
      "metadata": {
        "id": "A2xtrN5wDQgY"
      },
      "execution_count": 16,
      "outputs": []
    },
    {
      "cell_type": "code",
      "source": [
        "predictions"
      ],
      "metadata": {
        "id": "_f_ohjXKDUpY",
        "colab": {
          "base_uri": "https://localhost:8080/"
        },
        "outputId": "c275de1d-b80a-41f8-c918-288975608c75"
      },
      "execution_count": 17,
      "outputs": [
        {
          "output_type": "execute_result",
          "data": {
            "text/plain": [
              "array([[3.73088360e-01, 7.44915605e-02, 2.60184616e-01, 1.53047740e-01,\n",
              "        8.82201865e-02, 5.09674996e-02],\n",
              "       [3.30627523e-03, 4.34618647e-04, 9.62889590e-06, 8.60894740e-01,\n",
              "        5.60489279e-05, 1.35298714e-01],\n",
              "       [2.42715895e-01, 2.41528928e-01, 3.77644375e-02, 3.81451249e-01,\n",
              "        3.50270094e-03, 9.30368900e-02],\n",
              "       ...,\n",
              "       [6.19848666e-04, 2.35081188e-06, 2.81610381e-04, 1.87883168e-04,\n",
              "        9.93540466e-01, 5.36793051e-03],\n",
              "       [6.09994109e-04, 7.12378860e-01, 2.47117639e-01, 6.88743405e-03,\n",
              "        1.24258315e-02, 2.05802135e-02],\n",
              "       [9.83770355e-04, 2.08969973e-03, 1.27394155e-01, 1.41291553e-03,\n",
              "        8.04435313e-01, 6.36841506e-02]], dtype=float32)"
            ]
          },
          "metadata": {},
          "execution_count": 17
        }
      ]
    },
    {
      "cell_type": "code",
      "source": [
        "y_test"
      ],
      "metadata": {
        "id": "cmA2bFgsDW3D",
        "colab": {
          "base_uri": "https://localhost:8080/"
        },
        "outputId": "eeffe9e8-6ac2-4e5f-8b1f-e3ddf67896ea"
      },
      "execution_count": 18,
      "outputs": [
        {
          "output_type": "execute_result",
          "data": {
            "text/plain": [
              "array([3, 3, 3, 0, 4, 4, 1, 2, 5, 0, 5, 3, 2, 2, 1, 4, 4, 5, 2, 4, 1, 2,\n",
              "       3, 5, 4, 2, 1, 2, 2, 2, 2, 5, 2, 5, 3, 1, 2, 0, 4, 5, 2, 3, 2, 2,\n",
              "       5, 2, 0, 1, 3, 4, 4, 5, 1, 1, 4, 4, 5, 1, 1, 1, 0, 1, 5, 0, 4, 1,\n",
              "       1, 0, 1, 4, 1, 0, 4, 1, 3, 1, 2, 2, 1, 2, 3, 0, 5, 3, 5, 5, 2, 4,\n",
              "       5, 1, 5, 1, 5, 3, 4, 1, 4, 1, 5, 4, 5, 1, 2, 1, 1, 5, 1, 3, 2, 5,\n",
              "       2, 1, 3, 5, 4, 4, 0, 0, 3, 1, 2, 2, 3, 5, 1, 5, 3, 4, 2, 2, 0, 2,\n",
              "       2, 5, 5, 0, 3, 3, 2, 2, 0, 3, 4, 0, 4, 2, 4, 5, 4, 1, 5, 3, 2, 2,\n",
              "       5, 4, 3, 3, 4, 3, 3, 4, 1, 5, 2, 3, 2, 2, 0, 2, 1, 3, 1, 2, 2, 5,\n",
              "       5, 1, 4, 2, 2, 1, 1, 3, 3, 5, 5, 2, 5, 1, 5, 0, 3, 3, 0, 5, 1, 4,\n",
              "       1, 4, 2, 5, 5, 1, 4, 2, 4])"
            ]
          },
          "metadata": {},
          "execution_count": 18
        }
      ]
    },
    {
      "cell_type": "code",
      "source": [
        "new_Ytest = y_test.astype(int)"
      ],
      "metadata": {
        "id": "0PHDKWJWDY3g"
      },
      "execution_count": 19,
      "outputs": []
    },
    {
      "cell_type": "code",
      "source": [
        "new_Ytest"
      ],
      "metadata": {
        "id": "k68v2i-pDbZE",
        "colab": {
          "base_uri": "https://localhost:8080/"
        },
        "outputId": "a1d26d43-01cf-4da7-8067-0962992e7129"
      },
      "execution_count": 20,
      "outputs": [
        {
          "output_type": "execute_result",
          "data": {
            "text/plain": [
              "array([3, 3, 3, 0, 4, 4, 1, 2, 5, 0, 5, 3, 2, 2, 1, 4, 4, 5, 2, 4, 1, 2,\n",
              "       3, 5, 4, 2, 1, 2, 2, 2, 2, 5, 2, 5, 3, 1, 2, 0, 4, 5, 2, 3, 2, 2,\n",
              "       5, 2, 0, 1, 3, 4, 4, 5, 1, 1, 4, 4, 5, 1, 1, 1, 0, 1, 5, 0, 4, 1,\n",
              "       1, 0, 1, 4, 1, 0, 4, 1, 3, 1, 2, 2, 1, 2, 3, 0, 5, 3, 5, 5, 2, 4,\n",
              "       5, 1, 5, 1, 5, 3, 4, 1, 4, 1, 5, 4, 5, 1, 2, 1, 1, 5, 1, 3, 2, 5,\n",
              "       2, 1, 3, 5, 4, 4, 0, 0, 3, 1, 2, 2, 3, 5, 1, 5, 3, 4, 2, 2, 0, 2,\n",
              "       2, 5, 5, 0, 3, 3, 2, 2, 0, 3, 4, 0, 4, 2, 4, 5, 4, 1, 5, 3, 2, 2,\n",
              "       5, 4, 3, 3, 4, 3, 3, 4, 1, 5, 2, 3, 2, 2, 0, 2, 1, 3, 1, 2, 2, 5,\n",
              "       5, 1, 4, 2, 2, 1, 1, 3, 3, 5, 5, 2, 5, 1, 5, 0, 3, 3, 0, 5, 1, 4,\n",
              "       1, 4, 2, 5, 5, 1, 4, 2, 4])"
            ]
          },
          "metadata": {},
          "execution_count": 20
        }
      ]
    },
    {
      "cell_type": "code",
      "source": [
        "preds1=predictions.argmax(axis=1)\n",
        "preds1"
      ],
      "metadata": {
        "id": "4_cAI39VFhtp",
        "colab": {
          "base_uri": "https://localhost:8080/"
        },
        "outputId": "d6df319b-a362-436e-c04d-9fc1f72e56c6"
      },
      "execution_count": 21,
      "outputs": [
        {
          "output_type": "execute_result",
          "data": {
            "text/plain": [
              "array([0, 3, 3, 0, 4, 4, 1, 2, 5, 1, 4, 3, 1, 2, 0, 4, 4, 3, 2, 4, 2, 2,\n",
              "       0, 3, 5, 2, 1, 0, 2, 2, 2, 5, 2, 5, 3, 1, 2, 0, 4, 5, 2, 5, 2, 2,\n",
              "       5, 2, 1, 1, 1, 4, 4, 5, 1, 1, 4, 4, 5, 1, 1, 1, 0, 1, 2, 1, 4, 1,\n",
              "       1, 1, 1, 4, 0, 2, 5, 1, 5, 0, 2, 2, 1, 2, 1, 0, 5, 3, 5, 5, 2, 5,\n",
              "       3, 1, 0, 1, 5, 3, 2, 1, 4, 0, 5, 4, 5, 1, 5, 1, 1, 5, 1, 5, 2, 5,\n",
              "       5, 0, 3, 5, 4, 4, 0, 0, 3, 1, 1, 2, 1, 0, 1, 5, 3, 5, 2, 2, 0, 2,\n",
              "       2, 3, 3, 0, 5, 3, 2, 4, 0, 5, 4, 0, 4, 4, 4, 5, 4, 1, 5, 3, 2, 2,\n",
              "       5, 4, 3, 3, 4, 5, 3, 4, 1, 5, 2, 3, 2, 2, 0, 2, 1, 5, 1, 2, 2, 5,\n",
              "       5, 1, 4, 2, 4, 1, 1, 3, 3, 5, 5, 2, 5, 1, 5, 1, 3, 3, 2, 5, 1, 4,\n",
              "       1, 4, 0, 5, 5, 1, 4, 1, 4])"
            ]
          },
          "metadata": {},
          "execution_count": 21
        }
      ]
    },
    {
      "cell_type": "code",
      "source": [
        "abc = preds1.astype(int).flatten()"
      ],
      "metadata": {
        "id": "H4WEmM60NfQn"
      },
      "execution_count": 22,
      "outputs": []
    },
    {
      "cell_type": "code",
      "source": [
        "from sklearn.metrics import confusion_matrix\n",
        "c = confusion_matrix(new_Ytest, abc) \n",
        "c"
      ],
      "metadata": {
        "id": "bKEBeEBlFjB8",
        "colab": {
          "base_uri": "https://localhost:8080/"
        },
        "outputId": "ea5dff04-23ef-4ac2-f8cb-d9bb2ff41f49"
      },
      "execution_count": 23,
      "outputs": [
        {
          "output_type": "execute_result",
          "data": {
            "text/plain": [
              "array([[11,  5,  2,  0,  0,  0],\n",
              "       [ 5, 35,  1,  0,  0,  0],\n",
              "       [ 2,  3, 35,  0,  3,  2],\n",
              "       [ 2,  3,  0, 19,  0,  7],\n",
              "       [ 0,  0,  1,  0, 28,  4],\n",
              "       [ 2,  0,  1,  5,  1, 30]])"
            ]
          },
          "metadata": {},
          "execution_count": 23
        }
      ]
    },
    {
      "cell_type": "code",
      "source": [
        "y_test"
      ],
      "metadata": {
        "id": "m4RjG7LWLSQx",
        "colab": {
          "base_uri": "https://localhost:8080/"
        },
        "outputId": "fdf96c37-3aa9-434b-a7c4-08b76cfecf43"
      },
      "execution_count": 24,
      "outputs": [
        {
          "output_type": "execute_result",
          "data": {
            "text/plain": [
              "array([3, 3, 3, 0, 4, 4, 1, 2, 5, 0, 5, 3, 2, 2, 1, 4, 4, 5, 2, 4, 1, 2,\n",
              "       3, 5, 4, 2, 1, 2, 2, 2, 2, 5, 2, 5, 3, 1, 2, 0, 4, 5, 2, 3, 2, 2,\n",
              "       5, 2, 0, 1, 3, 4, 4, 5, 1, 1, 4, 4, 5, 1, 1, 1, 0, 1, 5, 0, 4, 1,\n",
              "       1, 0, 1, 4, 1, 0, 4, 1, 3, 1, 2, 2, 1, 2, 3, 0, 5, 3, 5, 5, 2, 4,\n",
              "       5, 1, 5, 1, 5, 3, 4, 1, 4, 1, 5, 4, 5, 1, 2, 1, 1, 5, 1, 3, 2, 5,\n",
              "       2, 1, 3, 5, 4, 4, 0, 0, 3, 1, 2, 2, 3, 5, 1, 5, 3, 4, 2, 2, 0, 2,\n",
              "       2, 5, 5, 0, 3, 3, 2, 2, 0, 3, 4, 0, 4, 2, 4, 5, 4, 1, 5, 3, 2, 2,\n",
              "       5, 4, 3, 3, 4, 3, 3, 4, 1, 5, 2, 3, 2, 2, 0, 2, 1, 3, 1, 2, 2, 5,\n",
              "       5, 1, 4, 2, 2, 1, 1, 3, 3, 5, 5, 2, 5, 1, 5, 0, 3, 3, 0, 5, 1, 4,\n",
              "       1, 4, 2, 5, 5, 1, 4, 2, 4])"
            ]
          },
          "metadata": {},
          "execution_count": 24
        }
      ]
    },
    {
      "cell_type": "code",
      "source": [
        "loss, acc =model.evaluate(x_testcnn, y_test)\n",
        "print(\"Restored model, accuracy: {:5.2f}%\".format(100*acc))"
      ],
      "metadata": {
        "id": "n3kzoqPkDqqS",
        "colab": {
          "base_uri": "https://localhost:8080/"
        },
        "outputId": "e0896d09-b165-4f99-fb81-e48dddf5dfc5"
      },
      "execution_count": 25,
      "outputs": [
        {
          "output_type": "stream",
          "name": "stdout",
          "text": [
            "7/7 [==============================] - 0s 4ms/step - loss: 0.6061 - accuracy: 0.7633\n",
            "Restored model, accuracy: 76.33%\n"
          ]
        }
      ]
    },
    {
      "cell_type": "code",
      "source": [
        "loss, acc =model.evaluate(X_train, y_train)\n",
        "print(\"Restored model train, accuracy: {:5.2f}%\".format(100*acc))"
      ],
      "metadata": {
        "id": "fJDTGH_OUX0z",
        "colab": {
          "base_uri": "https://localhost:8080/"
        },
        "outputId": "df5a7050-2cae-4ee0-99b3-46ed92f25549"
      },
      "execution_count": 26,
      "outputs": [
        {
          "output_type": "stream",
          "name": "stdout",
          "text": [
            "52/52 [==============================] - 0s 4ms/step - loss: 0.3283 - accuracy: 0.9268\n",
            "Restored model train, accuracy: 92.68%\n"
          ]
        }
      ]
    },
    {
      "cell_type": "code",
      "source": [
        "from sklearn.metrics import classification_report, confusion_matrix,accuracy_score\n",
        "import seaborn as sn\n",
        "\n",
        "print(classification_report(new_Ytest,abc))\n",
        "\n",
        "acc = float(accuracy_score(new_Ytest,abc))*100\n",
        "print(\"----accuracy score %s ----\" % acc)\n",
        "\n",
        "cm = confusion_matrix(new_Ytest,abc)\n",
        "#df_cm = pd.DataFrame(cm)\n",
        "class_names = ['neutral','calm', 'happy','sad','angry', 'fearful' ]\n",
        "df_cm = pd.DataFrame(cm, index=class_names, columns=class_names,)\n",
        "sn.heatmap(df_cm, annot=True, fmt='')\n",
        "plt.show()"
      ],
      "metadata": {
        "id": "SfSC3El94LZg",
        "colab": {
          "base_uri": "https://localhost:8080/",
          "height": 512
        },
        "outputId": "c7a2d8af-2da6-4755-e06d-2336d4e7677d"
      },
      "execution_count": 27,
      "outputs": [
        {
          "output_type": "stream",
          "name": "stdout",
          "text": [
            "              precision    recall  f1-score   support\n",
            "\n",
            "           0       0.50      0.61      0.55        18\n",
            "           1       0.76      0.85      0.80        41\n",
            "           2       0.88      0.78      0.82        45\n",
            "           3       0.79      0.61      0.69        31\n",
            "           4       0.88      0.85      0.86        33\n",
            "           5       0.70      0.77      0.73        39\n",
            "\n",
            "    accuracy                           0.76       207\n",
            "   macro avg       0.75      0.75      0.74       207\n",
            "weighted avg       0.77      0.76      0.76       207\n",
            "\n",
            "----accuracy score 76.32850241545893 ----\n"
          ]
        },
        {
          "output_type": "display_data",
          "data": {
            "text/plain": [
              "<Figure size 432x288 with 2 Axes>"
            ],
            "image/png": "[encoded data removed]"
          },
          "metadata": {
            "needs_background": "light"
          }
        }
      ]
    }
  ]
}