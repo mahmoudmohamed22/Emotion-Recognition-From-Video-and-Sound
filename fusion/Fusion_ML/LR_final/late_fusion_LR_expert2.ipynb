{
  "cells": [
    {
      "cell_type": "code",
      "execution_count": 1,
      "metadata": {
        "id": "XQj4f23-Ix-w"
      },
      "outputs": [],
      "source": [
        "# stacked generalization with linear meta model on blobs dataset\n",
        "from sklearn.metrics import accuracy_score\n",
        "from sklearn.linear_model import LogisticRegression\n",
        "from matplotlib import pyplot\n"
      ]
    },
    {
      "cell_type": "code",
      "source": [
        "from google.colab import drive\n",
        "drive.mount('/content/drive')"
      ],
      "metadata": {
        "colab": {
          "base_uri": "https://localhost:8080/"
        },
        "id": "I5zSyH1P9rt3",
        "outputId": "de532a56-e3ee-4e2a-d521-bd07792a69f0"
      },
      "execution_count": 2,
      "outputs": [
        {
          "output_type": "stream",
          "name": "stdout",
          "text": [
            "Drive already mounted at /content/drive; to attempt to forcibly remount, call drive.mount(\"/content/drive\", force_remount=True).\n"
          ]
        }
      ]
    },
    {
      "cell_type": "code",
      "execution_count": 3,
      "metadata": {
        "colab": {
          "base_uri": "https://localhost:8080/",
          "height": 70
        },
        "id": "gb8C-44ct_Yp",
        "outputId": "83a5436b-f01d-439a-9183-d9adf3f3e8e0"
      },
      "outputs": [
        {
          "output_type": "execute_result",
          "data": {
            "text/plain": [
              "\"\\n#samples name\\ntest_videos= joblib.load('/content/drive/My Drive/fusion/video/data_set_fusion/expert2/test/video_test_path')\\ntrain_videos = joblib.load('/content/drive/My Drive/fusion/video/data_set_fusion/expert2/train/video_train_path')\\nvalid_videos = joblib.load('/content/drive/My Drive/fusion/video/data_set_fusion/expert2/valid/video_valid_path')\\n\""
            ],
            "application/vnd.google.colaboratory.intrinsic+json": {
              "type": "string"
            }
          },
          "metadata": {},
          "execution_count": 3
        }
      ],
      "source": [
        "#x_train  y_train to train\n",
        "#x_test   y_test to test\n",
        "#x_valid  y_valid \n",
        "#video\n",
        "import joblib\n",
        "x_test_prediction = joblib.load('/content/drive/My Drive/fusion/video/data_set_fusion/expert2/test/pred_test')\n",
        "x_train_prediction = joblib.load('/content/drive/My Drive/fusion/video/data_set_fusion/expert2/train/pred_train')\n",
        "x_valid_prediction = joblib.load('/content/drive/My Drive/fusion/video/data_set_fusion/expert2/valid/pred_valid')\n",
        "y_test = joblib.load('/content/drive/My Drive/fusion/video/data_set_fusion/expert2/test/labels_test')\n",
        "y_train = joblib.load('/content/drive/My Drive/fusion/video/data_set_fusion/expert2/train/labels_train')\n",
        "y_valid = joblib.load('/content/drive/My Drive/fusion/video/data_set_fusion/expert2/valid/labels_valid')\n",
        "#audio\n",
        "\n",
        "x_audio_test_prediction = joblib.load('/content/drive/My Drive/fusion/final_audio/data_set_fusion/expert2/test/predict_test')\n",
        "x_audio_train_prediction = joblib.load('/content/drive/My Drive/fusion/final_audio/data_set_fusion/expert2/train/predict_train')\n",
        "x_audio_valid_prediction = joblib.load('/content/drive/My Drive/fusion/final_audio/data_set_fusion/expert2/valid/predict_valid')\n",
        "\"\"\"\n",
        "#samples name\n",
        "test_videos= joblib.load('/content/drive/My Drive/fusion/video/data_set_fusion/expert2/test/video_test_path')\n",
        "train_videos = joblib.load('/content/drive/My Drive/fusion/video/data_set_fusion/expert2/train/video_train_path')\n",
        "valid_videos = joblib.load('/content/drive/My Drive/fusion/video/data_set_fusion/expert2/valid/video_valid_path')\n",
        "\"\"\""
      ]
    },
    {
      "cell_type": "code",
      "execution_count": 4,
      "metadata": {
        "colab": {
          "base_uri": "https://localhost:8080/"
        },
        "id": "Qz1Z3Vgdxaaw",
        "outputId": "880f057d-c659-4bb0-efb5-3d1adb174d80"
      },
      "outputs": [
        {
          "output_type": "execute_result",
          "data": {
            "text/plain": [
              "(207, 1653, 207, 1653, 207, 207)"
            ]
          },
          "metadata": {},
          "execution_count": 4
        }
      ],
      "source": [
        "len(x_test_prediction),len(x_train_prediction),len(x_audio_test_prediction),len(x_audio_train_prediction),len(x_valid_prediction),len(x_audio_valid_prediction)"
      ]
    },
    {
      "cell_type": "code",
      "execution_count": 5,
      "metadata": {
        "id": "QgDf-FF0utgP"
      },
      "outputs": [],
      "source": [
        "#x_train for video\n",
        "x_train_prediction=x_train_prediction.append(x_valid_prediction,ignore_index = True)\n",
        "#x_train for audio\n",
        "x_audio_train_prediction=x_audio_train_prediction.append(x_audio_valid_prediction,ignore_index = True)"
      ]
    },
    {
      "cell_type": "code",
      "execution_count": 6,
      "metadata": {
        "colab": {
          "base_uri": "https://localhost:8080/"
        },
        "id": "3G4-X-MLv79s",
        "outputId": "9c1df83e-24a5-45d9-bcf7-3d853ae32ee6"
      },
      "outputs": [
        {
          "output_type": "execute_result",
          "data": {
            "text/plain": [
              "(1860, 1860)"
            ]
          },
          "metadata": {},
          "execution_count": 6
        }
      ],
      "source": [
        "len(x_audio_train_prediction),len(x_train_prediction)"
      ]
    },
    {
      "cell_type": "code",
      "execution_count": 7,
      "metadata": {
        "id": "JrYaQCyZw06M"
      },
      "outputs": [],
      "source": [
        "from pandas.core.frame import DataFrame\n",
        "df_train=DataFrame(y_train,columns=['labels'])\n",
        "df_valid=DataFrame(y_valid,columns=['labels'])"
      ]
    },
    {
      "cell_type": "code",
      "execution_count": 8,
      "metadata": {
        "id": "Rq3yhw26xjfy"
      },
      "outputs": [],
      "source": [
        "df_train=df_train.append(df_valid,ignore_index = True)"
      ]
    },
    {
      "cell_type": "code",
      "execution_count": 9,
      "metadata": {
        "colab": {
          "base_uri": "https://localhost:8080/"
        },
        "id": "dvYKmNurx1KR",
        "outputId": "83902495-12f2-4a25-ee31-bab59336a209"
      },
      "outputs": [
        {
          "output_type": "execute_result",
          "data": {
            "text/plain": [
              "1860"
            ]
          },
          "metadata": {},
          "execution_count": 9
        }
      ],
      "source": [
        "len(df_train)"
      ]
    },
    {
      "cell_type": "code",
      "execution_count": 10,
      "metadata": {
        "colab": {
          "base_uri": "https://localhost:8080/",
          "height": 424
        },
        "id": "Pfp2YX591X1F",
        "outputId": "8e028329-1367-4254-b51d-ab2659e4964c"
      },
      "outputs": [
        {
          "output_type": "execute_result",
          "data": {
            "text/plain": [
              "      labels\n",
              "0          5\n",
              "1          0\n",
              "2          3\n",
              "3          5\n",
              "4          4\n",
              "...      ...\n",
              "1855       4\n",
              "1856       2\n",
              "1857       5\n",
              "1858       4\n",
              "1859       5\n",
              "\n",
              "[1860 rows x 1 columns]"
            ],
            "text/html": [
              "\n",
              "  <div id=\"df-e97f13fa-92b2-4b12-b56b-bb2a347e71ff\">\n",
              "    <div class=\"colab-df-container\">\n",
              "      <div>\n",
              "<style scoped>\n",
              "    .dataframe tbody tr th:only-of-type {\n",
              "        vertical-align: middle;\n",
              "    }\n",
              "\n",
              "    .dataframe tbody tr th {\n",
              "        vertical-align: top;\n",
              "    }\n",
              "\n",
              "    .dataframe thead th {\n",
              "        text-align: right;\n",
              "    }\n",
              "</style>\n",
              "<table border=\"1\" class=\"dataframe\">\n",
              "  <thead>\n",
              "    <tr style=\"text-align: right;\">\n",
              "      <th></th>\n",
              "      <th>labels</th>\n",
              "    </tr>\n",
              "  </thead>\n",
              "  <tbody>\n",
              "    <tr>\n",
              "      <th>0</th>\n",
              "      <td>5</td>\n",
              "    </tr>\n",
              "    <tr>\n",
              "      <th>1</th>\n",
              "      <td>0</td>\n",
              "    </tr>\n",
              "    <tr>\n",
              "      <th>2</th>\n",
              "      <td>3</td>\n",
              "    </tr>\n",
              "    <tr>\n",
              "      <th>3</th>\n",
              "      <td>5</td>\n",
              "    </tr>\n",
              "    <tr>\n",
              "      <th>4</th>\n",
              "      <td>4</td>\n",
              "    </tr>\n",
              "    <tr>\n",
              "      <th>...</th>\n",
              "      <td>...</td>\n",
              "    </tr>\n",
              "    <tr>\n",
              "      <th>1855</th>\n",
              "      <td>4</td>\n",
              "    </tr>\n",
              "    <tr>\n",
              "      <th>1856</th>\n",
              "      <td>2</td>\n",
              "    </tr>\n",
              "    <tr>\n",
              "      <th>1857</th>\n",
              "      <td>5</td>\n",
              "    </tr>\n",
              "    <tr>\n",
              "      <th>1858</th>\n",
              "      <td>4</td>\n",
              "    </tr>\n",
              "    <tr>\n",
              "      <th>1859</th>\n",
              "      <td>5</td>\n",
              "    </tr>\n",
              "  </tbody>\n",
              "</table>\n",
              "<p>1860 rows × 1 columns</p>\n",
              "</div>\n",
              "      <button class=\"colab-df-convert\" onclick=\"convertToInteractive('df-e97f13fa-92b2-4b12-b56b-bb2a347e71ff')\"\n",
              "              title=\"Convert this dataframe to an interactive table.\"\n",
              "              style=\"display:none;\">\n",
              "        \n",
              "  <svg xmlns=\"http://www.w3.org/2000/svg\" height=\"24px\"viewBox=\"0 0 24 24\"\n",
              "       width=\"24px\">\n",
              "    <path d=\"M0 0h24v24H0V0z\" fill=\"none\"/>\n",
              "    <path d=\"M18.56 5.44l.94 2.06.94-2.06 2.06-.94-2.06-.94-.94-2.06-.94 2.06-2.06.94zm-11 1L8.5 8.5l.94-2.06 2.06-.94-2.06-.94L8.5 2.5l-.94 2.06-2.06.94zm10 10l.94 2.06.94-2.06 2.06-.94-2.06-.94-.94-2.06-.94 2.06-2.06.94z\"/><path d=\"M17.41 7.96l-1.37-1.37c-.4-.4-.92-.59-1.43-.59-.52 0-1.04.2-1.43.59L10.3 9.45l-7.72 7.72c-.78.78-.78 2.05 0 2.83L4 21.41c.39.39.9.59 1.41.59.51 0 1.02-.2 1.41-.59l7.78-7.78 2.81-2.81c.8-.78.8-2.07 0-2.86zM5.41 20L4 18.59l7.72-7.72 1.47 1.35L5.41 20z\"/>\n",
              "  </svg>\n",
              "      </button>\n",
              "      \n",
              "  <style>\n",
              "    .colab-df-container {\n",
              "      display:flex;\n",
              "      flex-wrap:wrap;\n",
              "      gap: 12px;\n",
              "    }\n",
              "\n",
              "    .colab-df-convert {\n",
              "      background-color: #E8F0FE;\n",
              "      border: none;\n",
              "      border-radius: 50%;\n",
              "      cursor: pointer;\n",
              "      display: none;\n",
              "      fill: #1967D2;\n",
              "      height: 32px;\n",
              "      padding: 0 0 0 0;\n",
              "      width: 32px;\n",
              "    }\n",
              "\n",
              "    .colab-df-convert:hover {\n",
              "      background-color: #E2EBFA;\n",
              "      box-shadow: 0px 1px 2px rgba(60, 64, 67, 0.3), 0px 1px 3px 1px rgba(60, 64, 67, 0.15);\n",
              "      fill: #174EA6;\n",
              "    }\n",
              "\n",
              "    [theme=dark] .colab-df-convert {\n",
              "      background-color: #3B4455;\n",
              "      fill: #D2E3FC;\n",
              "    }\n",
              "\n",
              "    [theme=dark] .colab-df-convert:hover {\n",
              "      background-color: #434B5C;\n",
              "      box-shadow: 0px 1px 3px 1px rgba(0, 0, 0, 0.15);\n",
              "      filter: drop-shadow(0px 1px 2px rgba(0, 0, 0, 0.3));\n",
              "      fill: #FFFFFF;\n",
              "    }\n",
              "  </style>\n",
              "\n",
              "      <script>\n",
              "        const buttonEl =\n",
              "          document.querySelector('#df-e97f13fa-92b2-4b12-b56b-bb2a347e71ff button.colab-df-convert');\n",
              "        buttonEl.style.display =\n",
              "          google.colab.kernel.accessAllowed ? 'block' : 'none';\n",
              "\n",
              "        async function convertToInteractive(key) {\n",
              "          const element = document.querySelector('#df-e97f13fa-92b2-4b12-b56b-bb2a347e71ff');\n",
              "          const dataTable =\n",
              "            await google.colab.kernel.invokeFunction('convertToInteractive',\n",
              "                                                     [key], {});\n",
              "          if (!dataTable) return;\n",
              "\n",
              "          const docLinkHtml = 'Like what you see? Visit the ' +\n",
              "            '<a target=\"_blank\" href=https://colab.research.google.com/notebooks/data_table.ipynb>data table notebook</a>'\n",
              "            + ' to learn more about interactive tables.';\n",
              "          element.innerHTML = '';\n",
              "          dataTable['output_type'] = 'display_data';\n",
              "          await google.colab.output.renderOutput(dataTable, element);\n",
              "          const docLink = document.createElement('div');\n",
              "          docLink.innerHTML = docLinkHtml;\n",
              "          element.appendChild(docLink);\n",
              "        }\n",
              "      </script>\n",
              "    </div>\n",
              "  </div>\n",
              "  "
            ]
          },
          "metadata": {},
          "execution_count": 10
        }
      ],
      "source": [
        "df_train"
      ]
    },
    {
      "cell_type": "code",
      "execution_count": 11,
      "metadata": {
        "id": "sbkgIXaFwKwh"
      },
      "outputs": [],
      "source": [
        "import pandas as pd\n",
        "\n",
        "x_train = pd.concat([x_train_prediction, x_audio_train_prediction], axis=1,join='inner')\n",
        "x_test =  pd.concat([x_test_prediction, x_audio_test_prediction], axis=1,join='inner')"
      ]
    },
    {
      "cell_type": "code",
      "execution_count": 12,
      "metadata": {
        "colab": {
          "base_uri": "https://localhost:8080/",
          "height": 424
        },
        "id": "78gEQ1w7w_fd",
        "outputId": "594231b7-d9b9-41b0-d502-f46b14acc9d9"
      },
      "outputs": [
        {
          "output_type": "execute_result",
          "data": {
            "text/plain": [
              "         OV_0      OV_1      OV_2      OV_3      OV_4      OV_5          OA_0  \\\n",
              "0    0.034799  0.007419  0.000058  0.858459  0.002880  0.096384  1.936922e-04   \n",
              "1    0.001396  0.987387  0.003262  0.006616  0.001280  0.000060  6.731873e-06   \n",
              "2    0.000005  0.000034  0.000028  0.001152  0.996537  0.002243  2.161565e-12   \n",
              "3    0.001346  0.986554  0.002334  0.009568  0.000139  0.000058  2.586004e-10   \n",
              "4    0.000085  0.000078  0.000104  0.014233  0.002473  0.983027  5.904779e-06   \n",
              "..        ...       ...       ...       ...       ...       ...           ...   \n",
              "202  0.000170  0.002066  0.000020  0.972698  0.003607  0.021439  3.037690e-06   \n",
              "203  0.002021  0.982734  0.007325  0.007506  0.000099  0.000315  7.445964e-09   \n",
              "204  0.829458  0.032728  0.000222  0.126060  0.000330  0.011202  1.416181e-03   \n",
              "205  0.000005  0.002402  0.997287  0.000186  0.000017  0.000103  1.083762e-08   \n",
              "206  0.003887  0.978227  0.015192  0.001549  0.001067  0.000077  1.739513e-08   \n",
              "\n",
              "             OA_1      OA_2          OA_3          OA_4          OA_5  \n",
              "0    1.908428e-03  0.078206  9.176858e-01  1.406762e-04  1.865399e-03  \n",
              "1    9.937045e-01  0.006289  1.624251e-10  5.113370e-11  1.681340e-10  \n",
              "2    4.044053e-12  0.000015  1.074866e-07  9.999853e-01  1.410446e-09  \n",
              "3    9.924563e-01  0.007544  2.036131e-08  9.353461e-11  1.013496e-09  \n",
              "4    2.185693e-03  0.251693  1.491063e-02  3.083101e-02  7.003735e-01  \n",
              "..            ...       ...           ...           ...           ...  \n",
              "202  2.796054e-09  0.000311  1.403844e-01  8.592996e-01  1.962023e-06  \n",
              "203  2.950005e-01  0.705000  4.505449e-10  2.411701e-08  1.045695e-10  \n",
              "204  1.109177e-05  0.263639  3.032667e-03  5.601445e-01  1.717570e-01  \n",
              "205  2.700381e-08  0.899450  1.228025e-03  9.923257e-02  8.986195e-05  \n",
              "206  6.726844e-01  0.327315  2.793555e-07  2.260055e-08  3.142217e-09  \n",
              "\n",
              "[207 rows x 12 columns]"
            ],
            "text/html": [
              "\n",
              "  <div id=\"df-18764dd3-85fb-4fc1-bc1c-40a349bd28f3\">\n",
              "    <div class=\"colab-df-container\">\n",
              "      <div>\n",
              "<style scoped>\n",
              "    .dataframe tbody tr th:only-of-type {\n",
              "        vertical-align: middle;\n",
              "    }\n",
              "\n",
              "    .dataframe tbody tr th {\n",
              "        vertical-align: top;\n",
              "    }\n",
              "\n",
              "    .dataframe thead th {\n",
              "        text-align: right;\n",
              "    }\n",
              "</style>\n",
              "<table border=\"1\" class=\"dataframe\">\n",
              "  <thead>\n",
              "    <tr style=\"text-align: right;\">\n",
              "      <th></th>\n",
              "      <th>OV_0</th>\n",
              "      <th>OV_1</th>\n",
              "      <th>OV_2</th>\n",
              "      <th>OV_3</th>\n",
              "      <th>OV_4</th>\n",
              "      <th>OV_5</th>\n",
              "      <th>OA_0</th>\n",
              "      <th>OA_1</th>\n",
              "      <th>OA_2</th>\n",
              "      <th>OA_3</th>\n",
              "      <th>OA_4</th>\n",
              "      <th>OA_5</th>\n",
              "    </tr>\n",
              "  </thead>\n",
              "  <tbody>\n",
              "    <tr>\n",
              "      <th>0</th>\n",
              "      <td>0.034799</td>\n",
              "      <td>0.007419</td>\n",
              "      <td>0.000058</td>\n",
              "      <td>0.858459</td>\n",
              "      <td>0.002880</td>\n",
              "      <td>0.096384</td>\n",
              "      <td>1.936922e-04</td>\n",
              "      <td>1.908428e-03</td>\n",
              "      <td>0.078206</td>\n",
              "      <td>9.176858e-01</td>\n",
              "      <td>1.406762e-04</td>\n",
              "      <td>1.865399e-03</td>\n",
              "    </tr>\n",
              "    <tr>\n",
              "      <th>1</th>\n",
              "      <td>0.001396</td>\n",
              "      <td>0.987387</td>\n",
              "      <td>0.003262</td>\n",
              "      <td>0.006616</td>\n",
              "      <td>0.001280</td>\n",
              "      <td>0.000060</td>\n",
              "      <td>6.731873e-06</td>\n",
              "      <td>9.937045e-01</td>\n",
              "      <td>0.006289</td>\n",
              "      <td>1.624251e-10</td>\n",
              "      <td>5.113370e-11</td>\n",
              "      <td>1.681340e-10</td>\n",
              "    </tr>\n",
              "    <tr>\n",
              "      <th>2</th>\n",
              "      <td>0.000005</td>\n",
              "      <td>0.000034</td>\n",
              "      <td>0.000028</td>\n",
              "      <td>0.001152</td>\n",
              "      <td>0.996537</td>\n",
              "      <td>0.002243</td>\n",
              "      <td>2.161565e-12</td>\n",
              "      <td>4.044053e-12</td>\n",
              "      <td>0.000015</td>\n",
              "      <td>1.074866e-07</td>\n",
              "      <td>9.999853e-01</td>\n",
              "      <td>1.410446e-09</td>\n",
              "    </tr>\n",
              "    <tr>\n",
              "      <th>3</th>\n",
              "      <td>0.001346</td>\n",
              "      <td>0.986554</td>\n",
              "      <td>0.002334</td>\n",
              "      <td>0.009568</td>\n",
              "      <td>0.000139</td>\n",
              "      <td>0.000058</td>\n",
              "      <td>2.586004e-10</td>\n",
              "      <td>9.924563e-01</td>\n",
              "      <td>0.007544</td>\n",
              "      <td>2.036131e-08</td>\n",
              "      <td>9.353461e-11</td>\n",
              "      <td>1.013496e-09</td>\n",
              "    </tr>\n",
              "    <tr>\n",
              "      <th>4</th>\n",
              "      <td>0.000085</td>\n",
              "      <td>0.000078</td>\n",
              "      <td>0.000104</td>\n",
              "      <td>0.014233</td>\n",
              "      <td>0.002473</td>\n",
              "      <td>0.983027</td>\n",
              "      <td>5.904779e-06</td>\n",
              "      <td>2.185693e-03</td>\n",
              "      <td>0.251693</td>\n",
              "      <td>1.491063e-02</td>\n",
              "      <td>3.083101e-02</td>\n",
              "      <td>7.003735e-01</td>\n",
              "    </tr>\n",
              "    <tr>\n",
              "      <th>...</th>\n",
              "      <td>...</td>\n",
              "      <td>...</td>\n",
              "      <td>...</td>\n",
              "      <td>...</td>\n",
              "      <td>...</td>\n",
              "      <td>...</td>\n",
              "      <td>...</td>\n",
              "      <td>...</td>\n",
              "      <td>...</td>\n",
              "      <td>...</td>\n",
              "      <td>...</td>\n",
              "      <td>...</td>\n",
              "    </tr>\n",
              "    <tr>\n",
              "      <th>202</th>\n",
              "      <td>0.000170</td>\n",
              "      <td>0.002066</td>\n",
              "      <td>0.000020</td>\n",
              "      <td>0.972698</td>\n",
              "      <td>0.003607</td>\n",
              "      <td>0.021439</td>\n",
              "      <td>3.037690e-06</td>\n",
              "      <td>2.796054e-09</td>\n",
              "      <td>0.000311</td>\n",
              "      <td>1.403844e-01</td>\n",
              "      <td>8.592996e-01</td>\n",
              "      <td>1.962023e-06</td>\n",
              "    </tr>\n",
              "    <tr>\n",
              "      <th>203</th>\n",
              "      <td>0.002021</td>\n",
              "      <td>0.982734</td>\n",
              "      <td>0.007325</td>\n",
              "      <td>0.007506</td>\n",
              "      <td>0.000099</td>\n",
              "      <td>0.000315</td>\n",
              "      <td>7.445964e-09</td>\n",
              "      <td>2.950005e-01</td>\n",
              "      <td>0.705000</td>\n",
              "      <td>4.505449e-10</td>\n",
              "      <td>2.411701e-08</td>\n",
              "      <td>1.045695e-10</td>\n",
              "    </tr>\n",
              "    <tr>\n",
              "      <th>204</th>\n",
              "      <td>0.829458</td>\n",
              "      <td>0.032728</td>\n",
              "      <td>0.000222</td>\n",
              "      <td>0.126060</td>\n",
              "      <td>0.000330</td>\n",
              "      <td>0.011202</td>\n",
              "      <td>1.416181e-03</td>\n",
              "      <td>1.109177e-05</td>\n",
              "      <td>0.263639</td>\n",
              "      <td>3.032667e-03</td>\n",
              "      <td>5.601445e-01</td>\n",
              "      <td>1.717570e-01</td>\n",
              "    </tr>\n",
              "    <tr>\n",
              "      <th>205</th>\n",
              "      <td>0.000005</td>\n",
              "      <td>0.002402</td>\n",
              "      <td>0.997287</td>\n",
              "      <td>0.000186</td>\n",
              "      <td>0.000017</td>\n",
              "      <td>0.000103</td>\n",
              "      <td>1.083762e-08</td>\n",
              "      <td>2.700381e-08</td>\n",
              "      <td>0.899450</td>\n",
              "      <td>1.228025e-03</td>\n",
              "      <td>9.923257e-02</td>\n",
              "      <td>8.986195e-05</td>\n",
              "    </tr>\n",
              "    <tr>\n",
              "      <th>206</th>\n",
              "      <td>0.003887</td>\n",
              "      <td>0.978227</td>\n",
              "      <td>0.015192</td>\n",
              "      <td>0.001549</td>\n",
              "      <td>0.001067</td>\n",
              "      <td>0.000077</td>\n",
              "      <td>1.739513e-08</td>\n",
              "      <td>6.726844e-01</td>\n",
              "      <td>0.327315</td>\n",
              "      <td>2.793555e-07</td>\n",
              "      <td>2.260055e-08</td>\n",
              "      <td>3.142217e-09</td>\n",
              "    </tr>\n",
              "  </tbody>\n",
              "</table>\n",
              "<p>207 rows × 12 columns</p>\n",
              "</div>\n",
              "      <button class=\"colab-df-convert\" onclick=\"convertToInteractive('df-18764dd3-85fb-4fc1-bc1c-40a349bd28f3')\"\n",
              "              title=\"Convert this dataframe to an interactive table.\"\n",
              "              style=\"display:none;\">\n",
              "        \n",
              "  <svg xmlns=\"http://www.w3.org/2000/svg\" height=\"24px\"viewBox=\"0 0 24 24\"\n",
              "       width=\"24px\">\n",
              "    <path d=\"M0 0h24v24H0V0z\" fill=\"none\"/>\n",
              "    <path d=\"M18.56 5.44l.94 2.06.94-2.06 2.06-.94-2.06-.94-.94-2.06-.94 2.06-2.06.94zm-11 1L8.5 8.5l.94-2.06 2.06-.94-2.06-.94L8.5 2.5l-.94 2.06-2.06.94zm10 10l.94 2.06.94-2.06 2.06-.94-2.06-.94-.94-2.06-.94 2.06-2.06.94z\"/><path d=\"M17.41 7.96l-1.37-1.37c-.4-.4-.92-.59-1.43-.59-.52 0-1.04.2-1.43.59L10.3 9.45l-7.72 7.72c-.78.78-.78 2.05 0 2.83L4 21.41c.39.39.9.59 1.41.59.51 0 1.02-.2 1.41-.59l7.78-7.78 2.81-2.81c.8-.78.8-2.07 0-2.86zM5.41 20L4 18.59l7.72-7.72 1.47 1.35L5.41 20z\"/>\n",
              "  </svg>\n",
              "      </button>\n",
              "      \n",
              "  <style>\n",
              "    .colab-df-container {\n",
              "      display:flex;\n",
              "      flex-wrap:wrap;\n",
              "      gap: 12px;\n",
              "    }\n",
              "\n",
              "    .colab-df-convert {\n",
              "      background-color: #E8F0FE;\n",
              "      border: none;\n",
              "      border-radius: 50%;\n",
              "      cursor: pointer;\n",
              "      display: none;\n",
              "      fill: #1967D2;\n",
              "      height: 32px;\n",
              "      padding: 0 0 0 0;\n",
              "      width: 32px;\n",
              "    }\n",
              "\n",
              "    .colab-df-convert:hover {\n",
              "      background-color: #E2EBFA;\n",
              "      box-shadow: 0px 1px 2px rgba(60, 64, 67, 0.3), 0px 1px 3px 1px rgba(60, 64, 67, 0.15);\n",
              "      fill: #174EA6;\n",
              "    }\n",
              "\n",
              "    [theme=dark] .colab-df-convert {\n",
              "      background-color: #3B4455;\n",
              "      fill: #D2E3FC;\n",
              "    }\n",
              "\n",
              "    [theme=dark] .colab-df-convert:hover {\n",
              "      background-color: #434B5C;\n",
              "      box-shadow: 0px 1px 3px 1px rgba(0, 0, 0, 0.15);\n",
              "      filter: drop-shadow(0px 1px 2px rgba(0, 0, 0, 0.3));\n",
              "      fill: #FFFFFF;\n",
              "    }\n",
              "  </style>\n",
              "\n",
              "      <script>\n",
              "        const buttonEl =\n",
              "          document.querySelector('#df-18764dd3-85fb-4fc1-bc1c-40a349bd28f3 button.colab-df-convert');\n",
              "        buttonEl.style.display =\n",
              "          google.colab.kernel.accessAllowed ? 'block' : 'none';\n",
              "\n",
              "        async function convertToInteractive(key) {\n",
              "          const element = document.querySelector('#df-18764dd3-85fb-4fc1-bc1c-40a349bd28f3');\n",
              "          const dataTable =\n",
              "            await google.colab.kernel.invokeFunction('convertToInteractive',\n",
              "                                                     [key], {});\n",
              "          if (!dataTable) return;\n",
              "\n",
              "          const docLinkHtml = 'Like what you see? Visit the ' +\n",
              "            '<a target=\"_blank\" href=https://colab.research.google.com/notebooks/data_table.ipynb>data table notebook</a>'\n",
              "            + ' to learn more about interactive tables.';\n",
              "          element.innerHTML = '';\n",
              "          dataTable['output_type'] = 'display_data';\n",
              "          await google.colab.output.renderOutput(dataTable, element);\n",
              "          const docLink = document.createElement('div');\n",
              "          docLink.innerHTML = docLinkHtml;\n",
              "          element.appendChild(docLink);\n",
              "        }\n",
              "      </script>\n",
              "    </div>\n",
              "  </div>\n",
              "  "
            ]
          },
          "metadata": {},
          "execution_count": 12
        }
      ],
      "source": [
        "x_test"
      ]
    },
    {
      "cell_type": "code",
      "execution_count": 13,
      "metadata": {
        "colab": {
          "base_uri": "https://localhost:8080/"
        },
        "id": "ryRQjTkUyZJv",
        "outputId": "70edc1ed-a6fc-42f4-8b80-97b1a8801748"
      },
      "outputs": [
        {
          "output_type": "execute_result",
          "data": {
            "text/plain": [
              "(207, 1860)"
            ]
          },
          "metadata": {},
          "execution_count": 13
        }
      ],
      "source": [
        "len(x_test),len(x_train)"
      ]
    },
    {
      "cell_type": "code",
      "execution_count": 14,
      "metadata": {
        "colab": {
          "base_uri": "https://localhost:8080/",
          "height": 424
        },
        "id": "1e5kgXiFwzx3",
        "outputId": "ff368752-8c3d-4d50-8a3b-f5a6e137a595"
      },
      "outputs": [
        {
          "output_type": "execute_result",
          "data": {
            "text/plain": [
              "          OV_0      OV_1      OV_2      OV_3      OV_4      OV_5  \\\n",
              "0     0.000342  0.000037  0.000024  0.027184  0.001082  0.971331   \n",
              "1     0.934390  0.031547  0.000232  0.029632  0.000626  0.003573   \n",
              "2     0.000043  0.002962  0.000067  0.982080  0.000451  0.014398   \n",
              "3     0.000082  0.000080  0.000066  0.019228  0.006593  0.973949   \n",
              "4     0.000326  0.000169  0.000031  0.005374  0.981139  0.012960   \n",
              "...        ...       ...       ...       ...       ...       ...   \n",
              "1855  0.000006  0.000039  0.000070  0.001118  0.995057  0.003711   \n",
              "1856  0.001364  0.514139  0.464604  0.017488  0.000136  0.002269   \n",
              "1857  0.000059  0.000045  0.000058  0.015229  0.002455  0.982153   \n",
              "1858  0.000124  0.000557  0.000073  0.025379  0.955971  0.017896   \n",
              "1859  0.000063  0.000039  0.000053  0.017131  0.000548  0.982165   \n",
              "\n",
              "              OA_0          OA_1          OA_2          OA_3      OA_4  \\\n",
              "0     1.477511e-05  1.385857e-05  8.573342e-03  5.370449e-03  0.011520   \n",
              "1     9.888964e-01  5.345706e-04  4.376766e-03  6.138285e-03  0.000043   \n",
              "2     5.876618e-05  8.869873e-07  3.299277e-03  9.957967e-01  0.000001   \n",
              "3     2.601166e-08  3.258120e-09  4.074245e-06  6.761953e-03  0.000006   \n",
              "4     1.885018e-15  1.793591e-16  7.978118e-06  8.331265e-12  0.999992   \n",
              "...            ...           ...           ...           ...       ...   \n",
              "1855  4.777702e-14  1.250344e-16  3.322659e-06  2.739534e-11  0.999996   \n",
              "1856  4.546801e-04  9.774865e-06  8.153062e-01  9.660709e-04  0.183262   \n",
              "1857  9.533036e-08  7.544653e-14  6.652730e-07  9.903812e-06  0.003581   \n",
              "1858  6.918514e-11  3.914774e-12  2.342406e-04  1.050079e-07  0.999754   \n",
              "1859  7.595141e-07  1.957580e-05  7.639838e-03  1.836660e-02  0.603019   \n",
              "\n",
              "              OA_5  \n",
              "0     9.745075e-01  \n",
              "1     1.134752e-05  \n",
              "2     8.428627e-04  \n",
              "3     9.932279e-01  \n",
              "4     2.289524e-08  \n",
              "...            ...  \n",
              "1855  5.177264e-07  \n",
              "1856  1.477006e-06  \n",
              "1857  9.964080e-01  \n",
              "1858  1.123510e-05  \n",
              "1859  3.709540e-01  \n",
              "\n",
              "[1860 rows x 12 columns]"
            ],
            "text/html": [
              "\n",
              "  <div id=\"df-852fa8f8-a955-4d8b-8c43-51aacdc814a8\">\n",
              "    <div class=\"colab-df-container\">\n",
              "      <div>\n",
              "<style scoped>\n",
              "    .dataframe tbody tr th:only-of-type {\n",
              "        vertical-align: middle;\n",
              "    }\n",
              "\n",
              "    .dataframe tbody tr th {\n",
              "        vertical-align: top;\n",
              "    }\n",
              "\n",
              "    .dataframe thead th {\n",
              "        text-align: right;\n",
              "    }\n",
              "</style>\n",
              "<table border=\"1\" class=\"dataframe\">\n",
              "  <thead>\n",
              "    <tr style=\"text-align: right;\">\n",
              "      <th></th>\n",
              "      <th>OV_0</th>\n",
              "      <th>OV_1</th>\n",
              "      <th>OV_2</th>\n",
              "      <th>OV_3</th>\n",
              "      <th>OV_4</th>\n",
              "      <th>OV_5</th>\n",
              "      <th>OA_0</th>\n",
              "      <th>OA_1</th>\n",
              "      <th>OA_2</th>\n",
              "      <th>OA_3</th>\n",
              "      <th>OA_4</th>\n",
              "      <th>OA_5</th>\n",
              "    </tr>\n",
              "  </thead>\n",
              "  <tbody>\n",
              "    <tr>\n",
              "      <th>0</th>\n",
              "      <td>0.000342</td>\n",
              "      <td>0.000037</td>\n",
              "      <td>0.000024</td>\n",
              "      <td>0.027184</td>\n",
              "      <td>0.001082</td>\n",
              "      <td>0.971331</td>\n",
              "      <td>1.477511e-05</td>\n",
              "      <td>1.385857e-05</td>\n",
              "      <td>8.573342e-03</td>\n",
              "      <td>5.370449e-03</td>\n",
              "      <td>0.011520</td>\n",
              "      <td>9.745075e-01</td>\n",
              "    </tr>\n",
              "    <tr>\n",
              "      <th>1</th>\n",
              "      <td>0.934390</td>\n",
              "      <td>0.031547</td>\n",
              "      <td>0.000232</td>\n",
              "      <td>0.029632</td>\n",
              "      <td>0.000626</td>\n",
              "      <td>0.003573</td>\n",
              "      <td>9.888964e-01</td>\n",
              "      <td>5.345706e-04</td>\n",
              "      <td>4.376766e-03</td>\n",
              "      <td>6.138285e-03</td>\n",
              "      <td>0.000043</td>\n",
              "      <td>1.134752e-05</td>\n",
              "    </tr>\n",
              "    <tr>\n",
              "      <th>2</th>\n",
              "      <td>0.000043</td>\n",
              "      <td>0.002962</td>\n",
              "      <td>0.000067</td>\n",
              "      <td>0.982080</td>\n",
              "      <td>0.000451</td>\n",
              "      <td>0.014398</td>\n",
              "      <td>5.876618e-05</td>\n",
              "      <td>8.869873e-07</td>\n",
              "      <td>3.299277e-03</td>\n",
              "      <td>9.957967e-01</td>\n",
              "      <td>0.000001</td>\n",
              "      <td>8.428627e-04</td>\n",
              "    </tr>\n",
              "    <tr>\n",
              "      <th>3</th>\n",
              "      <td>0.000082</td>\n",
              "      <td>0.000080</td>\n",
              "      <td>0.000066</td>\n",
              "      <td>0.019228</td>\n",
              "      <td>0.006593</td>\n",
              "      <td>0.973949</td>\n",
              "      <td>2.601166e-08</td>\n",
              "      <td>3.258120e-09</td>\n",
              "      <td>4.074245e-06</td>\n",
              "      <td>6.761953e-03</td>\n",
              "      <td>0.000006</td>\n",
              "      <td>9.932279e-01</td>\n",
              "    </tr>\n",
              "    <tr>\n",
              "      <th>4</th>\n",
              "      <td>0.000326</td>\n",
              "      <td>0.000169</td>\n",
              "      <td>0.000031</td>\n",
              "      <td>0.005374</td>\n",
              "      <td>0.981139</td>\n",
              "      <td>0.012960</td>\n",
              "      <td>1.885018e-15</td>\n",
              "      <td>1.793591e-16</td>\n",
              "      <td>7.978118e-06</td>\n",
              "      <td>8.331265e-12</td>\n",
              "      <td>0.999992</td>\n",
              "      <td>2.289524e-08</td>\n",
              "    </tr>\n",
              "    <tr>\n",
              "      <th>...</th>\n",
              "      <td>...</td>\n",
              "      <td>...</td>\n",
              "      <td>...</td>\n",
              "      <td>...</td>\n",
              "      <td>...</td>\n",
              "      <td>...</td>\n",
              "      <td>...</td>\n",
              "      <td>...</td>\n",
              "      <td>...</td>\n",
              "      <td>...</td>\n",
              "      <td>...</td>\n",
              "      <td>...</td>\n",
              "    </tr>\n",
              "    <tr>\n",
              "      <th>1855</th>\n",
              "      <td>0.000006</td>\n",
              "      <td>0.000039</td>\n",
              "      <td>0.000070</td>\n",
              "      <td>0.001118</td>\n",
              "      <td>0.995057</td>\n",
              "      <td>0.003711</td>\n",
              "      <td>4.777702e-14</td>\n",
              "      <td>1.250344e-16</td>\n",
              "      <td>3.322659e-06</td>\n",
              "      <td>2.739534e-11</td>\n",
              "      <td>0.999996</td>\n",
              "      <td>5.177264e-07</td>\n",
              "    </tr>\n",
              "    <tr>\n",
              "      <th>1856</th>\n",
              "      <td>0.001364</td>\n",
              "      <td>0.514139</td>\n",
              "      <td>0.464604</td>\n",
              "      <td>0.017488</td>\n",
              "      <td>0.000136</td>\n",
              "      <td>0.002269</td>\n",
              "      <td>4.546801e-04</td>\n",
              "      <td>9.774865e-06</td>\n",
              "      <td>8.153062e-01</td>\n",
              "      <td>9.660709e-04</td>\n",
              "      <td>0.183262</td>\n",
              "      <td>1.477006e-06</td>\n",
              "    </tr>\n",
              "    <tr>\n",
              "      <th>1857</th>\n",
              "      <td>0.000059</td>\n",
              "      <td>0.000045</td>\n",
              "      <td>0.000058</td>\n",
              "      <td>0.015229</td>\n",
              "      <td>0.002455</td>\n",
              "      <td>0.982153</td>\n",
              "      <td>9.533036e-08</td>\n",
              "      <td>7.544653e-14</td>\n",
              "      <td>6.652730e-07</td>\n",
              "      <td>9.903812e-06</td>\n",
              "      <td>0.003581</td>\n",
              "      <td>9.964080e-01</td>\n",
              "    </tr>\n",
              "    <tr>\n",
              "      <th>1858</th>\n",
              "      <td>0.000124</td>\n",
              "      <td>0.000557</td>\n",
              "      <td>0.000073</td>\n",
              "      <td>0.025379</td>\n",
              "      <td>0.955971</td>\n",
              "      <td>0.017896</td>\n",
              "      <td>6.918514e-11</td>\n",
              "      <td>3.914774e-12</td>\n",
              "      <td>2.342406e-04</td>\n",
              "      <td>1.050079e-07</td>\n",
              "      <td>0.999754</td>\n",
              "      <td>1.123510e-05</td>\n",
              "    </tr>\n",
              "    <tr>\n",
              "      <th>1859</th>\n",
              "      <td>0.000063</td>\n",
              "      <td>0.000039</td>\n",
              "      <td>0.000053</td>\n",
              "      <td>0.017131</td>\n",
              "      <td>0.000548</td>\n",
              "      <td>0.982165</td>\n",
              "      <td>7.595141e-07</td>\n",
              "      <td>1.957580e-05</td>\n",
              "      <td>7.639838e-03</td>\n",
              "      <td>1.836660e-02</td>\n",
              "      <td>0.603019</td>\n",
              "      <td>3.709540e-01</td>\n",
              "    </tr>\n",
              "  </tbody>\n",
              "</table>\n",
              "<p>1860 rows × 12 columns</p>\n",
              "</div>\n",
              "      <button class=\"colab-df-convert\" onclick=\"convertToInteractive('df-852fa8f8-a955-4d8b-8c43-51aacdc814a8')\"\n",
              "              title=\"Convert this dataframe to an interactive table.\"\n",
              "              style=\"display:none;\">\n",
              "        \n",
              "  <svg xmlns=\"http://www.w3.org/2000/svg\" height=\"24px\"viewBox=\"0 0 24 24\"\n",
              "       width=\"24px\">\n",
              "    <path d=\"M0 0h24v24H0V0z\" fill=\"none\"/>\n",
              "    <path d=\"M18.56 5.44l.94 2.06.94-2.06 2.06-.94-2.06-.94-.94-2.06-.94 2.06-2.06.94zm-11 1L8.5 8.5l.94-2.06 2.06-.94-2.06-.94L8.5 2.5l-.94 2.06-2.06.94zm10 10l.94 2.06.94-2.06 2.06-.94-2.06-.94-.94-2.06-.94 2.06-2.06.94z\"/><path d=\"M17.41 7.96l-1.37-1.37c-.4-.4-.92-.59-1.43-.59-.52 0-1.04.2-1.43.59L10.3 9.45l-7.72 7.72c-.78.78-.78 2.05 0 2.83L4 21.41c.39.39.9.59 1.41.59.51 0 1.02-.2 1.41-.59l7.78-7.78 2.81-2.81c.8-.78.8-2.07 0-2.86zM5.41 20L4 18.59l7.72-7.72 1.47 1.35L5.41 20z\"/>\n",
              "  </svg>\n",
              "      </button>\n",
              "      \n",
              "  <style>\n",
              "    .colab-df-container {\n",
              "      display:flex;\n",
              "      flex-wrap:wrap;\n",
              "      gap: 12px;\n",
              "    }\n",
              "\n",
              "    .colab-df-convert {\n",
              "      background-color: #E8F0FE;\n",
              "      border: none;\n",
              "      border-radius: 50%;\n",
              "      cursor: pointer;\n",
              "      display: none;\n",
              "      fill: #1967D2;\n",
              "      height: 32px;\n",
              "      padding: 0 0 0 0;\n",
              "      width: 32px;\n",
              "    }\n",
              "\n",
              "    .colab-df-convert:hover {\n",
              "      background-color: #E2EBFA;\n",
              "      box-shadow: 0px 1px 2px rgba(60, 64, 67, 0.3), 0px 1px 3px 1px rgba(60, 64, 67, 0.15);\n",
              "      fill: #174EA6;\n",
              "    }\n",
              "\n",
              "    [theme=dark] .colab-df-convert {\n",
              "      background-color: #3B4455;\n",
              "      fill: #D2E3FC;\n",
              "    }\n",
              "\n",
              "    [theme=dark] .colab-df-convert:hover {\n",
              "      background-color: #434B5C;\n",
              "      box-shadow: 0px 1px 3px 1px rgba(0, 0, 0, 0.15);\n",
              "      filter: drop-shadow(0px 1px 2px rgba(0, 0, 0, 0.3));\n",
              "      fill: #FFFFFF;\n",
              "    }\n",
              "  </style>\n",
              "\n",
              "      <script>\n",
              "        const buttonEl =\n",
              "          document.querySelector('#df-852fa8f8-a955-4d8b-8c43-51aacdc814a8 button.colab-df-convert');\n",
              "        buttonEl.style.display =\n",
              "          google.colab.kernel.accessAllowed ? 'block' : 'none';\n",
              "\n",
              "        async function convertToInteractive(key) {\n",
              "          const element = document.querySelector('#df-852fa8f8-a955-4d8b-8c43-51aacdc814a8');\n",
              "          const dataTable =\n",
              "            await google.colab.kernel.invokeFunction('convertToInteractive',\n",
              "                                                     [key], {});\n",
              "          if (!dataTable) return;\n",
              "\n",
              "          const docLinkHtml = 'Like what you see? Visit the ' +\n",
              "            '<a target=\"_blank\" href=https://colab.research.google.com/notebooks/data_table.ipynb>data table notebook</a>'\n",
              "            + ' to learn more about interactive tables.';\n",
              "          element.innerHTML = '';\n",
              "          dataTable['output_type'] = 'display_data';\n",
              "          await google.colab.output.renderOutput(dataTable, element);\n",
              "          const docLink = document.createElement('div');\n",
              "          docLink.innerHTML = docLinkHtml;\n",
              "          element.appendChild(docLink);\n",
              "        }\n",
              "      </script>\n",
              "    </div>\n",
              "  </div>\n",
              "  "
            ]
          },
          "metadata": {},
          "execution_count": 14
        }
      ],
      "source": [
        "x_train"
      ]
    },
    {
      "cell_type": "code",
      "execution_count": 15,
      "metadata": {
        "colab": {
          "base_uri": "https://localhost:8080/",
          "height": 36
        },
        "id": "p5veJq2ei1vA",
        "outputId": "5c715fb7-088d-43e2-99b1-4f5cd71a9945"
      },
      "outputs": [
        {
          "output_type": "execute_result",
          "data": {
            "text/plain": [
              "'\\ny_train=df_train.to_numpy()\\ny_train=y_train.reshape(1860,)\\ny_train, y_train.shape\\n'"
            ],
            "application/vnd.google.colaboratory.intrinsic+json": {
              "type": "string"
            }
          },
          "metadata": {},
          "execution_count": 15
        }
      ],
      "source": [
        "from sklearn.utils import shuffle\n",
        "seed=42\n",
        "new_x_train = shuffle(x_train,random_state=seed)\n",
        "new_y_train = shuffle(df_train,random_state=seed)\n",
        "new_x_train = new_x_train.reset_index(drop=True)\n",
        "new_y_train = new_y_train.reset_index(drop=True)\n",
        "\"\"\"\n",
        "y_train=df_train.to_numpy()\n",
        "y_train=y_train.reshape(1860,)\n",
        "y_train, y_train.shape\n",
        "\"\"\""
      ]
    },
    {
      "cell_type": "code",
      "execution_count": 16,
      "metadata": {
        "colab": {
          "base_uri": "https://localhost:8080/"
        },
        "id": "pFfSFyo-7NfO",
        "outputId": "fbe44062-f03b-44e4-c06a-5ef1b1f0e2ab"
      },
      "outputs": [
        {
          "output_type": "execute_result",
          "data": {
            "text/plain": [
              "1860"
            ]
          },
          "metadata": {},
          "execution_count": 16
        }
      ],
      "source": [
        "len(new_y_train)"
      ]
    },
    {
      "cell_type": "code",
      "execution_count": 17,
      "metadata": {
        "id": "wPUM0nKyxmkZ"
      },
      "outputs": [],
      "source": [
        "from sklearn.preprocessing import StandardScaler, MinMaxScaler\n",
        "scaler = MinMaxScaler(feature_range=(0, 1))\n",
        "new_x_train = scaler.fit_transform(new_x_train)\n",
        "X_test = scaler.transform(x_test)"
      ]
    },
    {
      "cell_type": "code",
      "execution_count": 18,
      "metadata": {
        "colab": {
          "base_uri": "https://localhost:8080/"
        },
        "id": "4UmZkWm-tMOU",
        "outputId": "c2bb5d99-593b-449d-e955-f6a7bf87c9f5"
      },
      "outputs": [
        {
          "output_type": "execute_result",
          "data": {
            "text/plain": [
              "(array([5, 0, 3, ..., 5, 4, 5]), (1860,))"
            ]
          },
          "metadata": {},
          "execution_count": 18
        }
      ],
      "source": [
        "y_train=df_train.to_numpy()\n",
        "y_train=y_train.reshape(1860,)\n",
        "y_train, y_train.shape"
      ]
    },
    {
      "cell_type": "markdown",
      "metadata": {
        "id": "1hZPjTpT4lb3"
      },
      "source": [
        "# training machine learning"
      ]
    },
    {
      "cell_type": "code",
      "execution_count": 19,
      "metadata": {
        "colab": {
          "base_uri": "https://localhost:8080/"
        },
        "id": "PS4PZtkj5G8k",
        "outputId": "e1de796c-76ee-46f0-e108-20f819533d06"
      },
      "outputs": [
        {
          "output_type": "stream",
          "name": "stderr",
          "text": [
            "/usr/local/lib/python3.7/dist-packages/sklearn/utils/validation.py:993: DataConversionWarning: A column-vector y was passed when a 1d array was expected. Please change the shape of y to (n_samples, ), for example using ravel().\n",
            "  y = column_or_1d(y, warn=True)\n",
            "/usr/local/lib/python3.7/dist-packages/sklearn/base.py:444: UserWarning: X has feature names, but LogisticRegression was fitted without feature names\n",
            "  f\"X has feature names, but {self.__class__.__name__} was fitted without\"\n"
          ]
        }
      ],
      "source": [
        "from sklearn.linear_model import LogisticRegression\n",
        "model = LogisticRegression(multi_class='multinomial')\n",
        "LR=model.fit(new_x_train,new_y_train)\n",
        "predictions = model.predict(x_test)\n",
        "#print(\"Restored model, accuracy: {:5.2f}%\".format(100*acc))"
      ]
    },
    {
      "cell_type": "code",
      "execution_count": 20,
      "metadata": {
        "colab": {
          "base_uri": "https://localhost:8080/"
        },
        "id": "ibm_g_O66uKI",
        "outputId": "704a087c-c17a-4fdd-fac7-41d45fd42406"
      },
      "outputs": [
        {
          "output_type": "execute_result",
          "data": {
            "text/plain": [
              "array([3, 1, 4, 1, 5, 3, 5, 0, 2, 2, 2, 4, 0, 1, 0, 4, 1, 1, 4, 5, 0, 2,\n",
              "       2, 1, 0, 2, 2, 3, 4, 1, 3, 0, 2, 1, 1, 3, 1, 4, 0, 3, 1, 4, 5, 1,\n",
              "       2, 2, 1, 0, 4, 5, 4, 1, 5, 0, 1, 4, 5, 3, 3, 5, 0, 3, 4, 3, 4, 5,\n",
              "       1, 4, 2, 0, 5, 2, 3, 3, 2, 1, 4, 4, 5, 5, 5, 2, 5, 4, 3, 2, 4, 4,\n",
              "       4, 4, 2, 0, 2, 1, 2, 1, 4, 1, 2, 5, 4, 5, 5, 2, 3, 2, 1, 3, 3, 5,\n",
              "       5, 1, 5, 4, 4, 2, 4, 4, 2, 2, 1, 3, 1, 5, 3, 0, 3, 1, 5, 4, 4, 4,\n",
              "       1, 5, 2, 1, 4, 4, 3, 3, 4, 1, 1, 3, 1, 1, 4, 2, 3, 3, 2, 5, 3, 3,\n",
              "       3, 3, 0, 5, 3, 4, 3, 5, 3, 2, 3, 5, 1, 3, 3, 5, 5, 2, 0, 2, 1, 5,\n",
              "       4, 5, 1, 1, 5, 1, 3, 4, 1, 2, 0, 0, 5, 2, 0, 1, 3, 0, 5, 0, 4, 1,\n",
              "       5, 5, 2, 4, 3, 1, 4, 2, 1])"
            ]
          },
          "metadata": {},
          "execution_count": 20
        }
      ],
      "source": [
        "predictions"
      ]
    },
    {
      "cell_type": "code",
      "execution_count": 21,
      "metadata": {
        "colab": {
          "base_uri": "https://localhost:8080/",
          "height": 508
        },
        "id": "A9gR6pV063GP",
        "outputId": "8a299e31-daa0-41f3-91e7-4e4149374270"
      },
      "outputs": [
        {
          "output_type": "stream",
          "name": "stdout",
          "text": [
            "              precision    recall  f1-score   support\n",
            "\n",
            "           0       1.00      0.95      0.98        21\n",
            "           1       0.95      0.97      0.96        40\n",
            "           2       1.00      0.94      0.97        36\n",
            "           3       0.95      0.81      0.88        43\n",
            "           4       0.90      1.00      0.95        35\n",
            "           5       0.86      0.97      0.91        32\n",
            "\n",
            "    accuracy                           0.94       207\n",
            "   macro avg       0.94      0.94      0.94       207\n",
            "weighted avg       0.94      0.94      0.94       207\n",
            "\n",
            "----accuracy score 93.71980676328504 ----\n"
          ]
        },
        {
          "output_type": "display_data",
          "data": {
            "text/plain": [
              "<Figure size 432x288 with 2 Axes>"
            ],
            "image/png": "[encoded data removed]"
          },
          "metadata": {
            "needs_background": "light"
          }
        }
      ],
      "source": [
        "from sklearn.metrics import classification_report, confusion_matrix,accuracy_score\n",
        "import seaborn as sn\n",
        "import matplotlib.pyplot as plt\n",
        "\n",
        "print(classification_report(y_test,predictions))\n",
        "\n",
        "acc = float(accuracy_score(y_test,predictions))*100\n",
        "print(\"----accuracy score %s ----\" % acc)\n",
        "\n",
        "cm = confusion_matrix(y_test,predictions)\n",
        "#df_cm = pd.DataFrame(cm)\n",
        "class_names = ['neutral','calm', 'happy','sad','angry', 'fearful' ]\n",
        "df_cm = pd.DataFrame(cm, index=class_names, columns=class_names,)\n",
        "sn.heatmap(df_cm, annot=True, fmt='')\n",
        "plt.show()"
      ]
    },
    {
      "cell_type": "code",
      "execution_count": 22,
      "metadata": {
        "colab": {
          "base_uri": "https://localhost:8080/"
        },
        "id": "WFonuoIS7NTg",
        "outputId": "7b82d9f3-2e97-4422-e3eb-7faa89e7f457"
      },
      "outputs": [
        {
          "output_type": "stream",
          "name": "stdout",
          "text": [
            "MODEL SAVED\n"
          ]
        }
      ],
      "source": [
        "path='/content/drive/MyDrive/LR_RESULTS/expert2'\n",
        "savedvX = joblib.dump(model, path)\n",
        "\n",
        "print(\"MODEL SAVED\")"
      ]
    }
  ],
  "metadata": {
    "colab": {
      "collapsed_sections": [],
      "name": "late_fusion_LR_expert2.ipynb",
      "provenance": []
    },
    "kernelspec": {
      "display_name": "Python 3",
      "name": "python3"
    },
    "language_info": {
      "name": "python"
    },
    "accelerator": "GPU",
    "gpuClass": "standard"
  },
  "nbformat": 4,
  "nbformat_minor": 0
}