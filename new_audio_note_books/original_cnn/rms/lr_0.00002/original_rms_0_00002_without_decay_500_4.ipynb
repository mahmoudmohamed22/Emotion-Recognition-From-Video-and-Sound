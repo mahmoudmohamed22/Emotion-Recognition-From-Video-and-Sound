{
  "nbformat": 4,
  "nbformat_minor": 0,
  "metadata": {
    "colab": {
      "name": "original_rms_0.00002_without decay_500_4.ipynb",
      "provenance": [],
      "collapsed_sections": []
    },
    "kernelspec": {
      "name": "python3",
      "display_name": "Python 3"
    },
    "language_info": {
      "name": "python"
    },
    "accelerator": "GPU"
  },
  "cells": [
    {
      "cell_type": "code",
      "execution_count": 1,
      "metadata": {
        "colab": {
          "base_uri": "https://localhost:8080/"
        },
        "id": "9SRCO-a_AlH5",
        "outputId": "019e71f5-6653-44dc-90bf-83f81fc27ebb"
      },
      "outputs": [
        {
          "output_type": "stream",
          "name": "stdout",
          "text": [
            "Drive already mounted at /content/drive; to attempt to forcibly remount, call drive.mount(\"/content/drive\", force_remount=True).\n"
          ]
        }
      ],
      "source": [
        "from google.colab import drive\n",
        "drive.mount('/content/drive')"
      ]
    },
    {
      "cell_type": "code",
      "source": [
        "!pip install librosa"
      ],
      "metadata": {
        "colab": {
          "base_uri": "https://localhost:8080/"
        },
        "id": "5Lo4mUwG9RMd",
        "outputId": "dcc61cf7-5a48-469f-fe48-874f4801a1f3"
      },
      "execution_count": 2,
      "outputs": [
        {
          "output_type": "stream",
          "name": "stdout",
          "text": [
            "Looking in indexes: https://pypi.org/simple, https://us-python.pkg.dev/colab-wheels/public/simple/\n",
            "Requirement already satisfied: librosa in /usr/local/lib/python3.7/dist-packages (0.8.1)\n",
            "Requirement already satisfied: numba>=0.43.0 in /usr/local/lib/python3.7/dist-packages (from librosa) (0.51.2)\n",
            "Requirement already satisfied: numpy>=1.15.0 in /usr/local/lib/python3.7/dist-packages (from librosa) (1.21.6)\n",
            "Requirement already satisfied: resampy>=0.2.2 in /usr/local/lib/python3.7/dist-packages (from librosa) (0.2.2)\n",
            "Requirement already satisfied: soundfile>=0.10.2 in /usr/local/lib/python3.7/dist-packages (from librosa) (0.10.3.post1)\n",
            "Requirement already satisfied: pooch>=1.0 in /usr/local/lib/python3.7/dist-packages (from librosa) (1.6.0)\n",
            "Requirement already satisfied: joblib>=0.14 in /usr/local/lib/python3.7/dist-packages (from librosa) (1.1.0)\n",
            "Requirement already satisfied: audioread>=2.0.0 in /usr/local/lib/python3.7/dist-packages (from librosa) (2.1.9)\n",
            "Requirement already satisfied: decorator>=3.0.0 in /usr/local/lib/python3.7/dist-packages (from librosa) (4.4.2)\n",
            "Requirement already satisfied: packaging>=20.0 in /usr/local/lib/python3.7/dist-packages (from librosa) (21.3)\n",
            "Requirement already satisfied: scipy>=1.0.0 in /usr/local/lib/python3.7/dist-packages (from librosa) (1.4.1)\n",
            "Requirement already satisfied: scikit-learn!=0.19.0,>=0.14.0 in /usr/local/lib/python3.7/dist-packages (from librosa) (1.0.2)\n",
            "Requirement already satisfied: setuptools in /usr/local/lib/python3.7/dist-packages (from numba>=0.43.0->librosa) (57.4.0)\n",
            "Requirement already satisfied: llvmlite<0.35,>=0.34.0.dev0 in /usr/local/lib/python3.7/dist-packages (from numba>=0.43.0->librosa) (0.34.0)\n",
            "Requirement already satisfied: pyparsing!=3.0.5,>=2.0.2 in /usr/local/lib/python3.7/dist-packages (from packaging>=20.0->librosa) (3.0.9)\n",
            "Requirement already satisfied: appdirs>=1.3.0 in /usr/local/lib/python3.7/dist-packages (from pooch>=1.0->librosa) (1.4.4)\n",
            "Requirement already satisfied: requests>=2.19.0 in /usr/local/lib/python3.7/dist-packages (from pooch>=1.0->librosa) (2.23.0)\n",
            "Requirement already satisfied: urllib3!=1.25.0,!=1.25.1,<1.26,>=1.21.1 in /usr/local/lib/python3.7/dist-packages (from requests>=2.19.0->pooch>=1.0->librosa) (1.24.3)\n",
            "Requirement already satisfied: certifi>=2017.4.17 in /usr/local/lib/python3.7/dist-packages (from requests>=2.19.0->pooch>=1.0->librosa) (2022.5.18.1)\n",
            "Requirement already satisfied: idna<3,>=2.5 in /usr/local/lib/python3.7/dist-packages (from requests>=2.19.0->pooch>=1.0->librosa) (2.10)\n",
            "Requirement already satisfied: chardet<4,>=3.0.2 in /usr/local/lib/python3.7/dist-packages (from requests>=2.19.0->pooch>=1.0->librosa) (3.0.4)\n",
            "Requirement already satisfied: six>=1.3 in /usr/local/lib/python3.7/dist-packages (from resampy>=0.2.2->librosa) (1.15.0)\n",
            "Requirement already satisfied: threadpoolctl>=2.0.0 in /usr/local/lib/python3.7/dist-packages (from scikit-learn!=0.19.0,>=0.14.0->librosa) (3.1.0)\n",
            "Requirement already satisfied: cffi>=1.0 in /usr/local/lib/python3.7/dist-packages (from soundfile>=0.10.2->librosa) (1.15.0)\n",
            "Requirement already satisfied: pycparser in /usr/local/lib/python3.7/dist-packages (from cffi>=1.0->soundfile>=0.10.2->librosa) (2.21)\n"
          ]
        }
      ]
    },
    {
      "cell_type": "code",
      "metadata": {
        "id": "HJjcbxwy46bG",
        "colab": {
          "base_uri": "https://localhost:8080/",
          "height": 17
        },
        "outputId": "3f29d78e-9c29-4624-bd7f-ff8c280e465f"
      },
      "source": [
        "# Orignial Notebook: https://github.com/MITESHPUTHRANNEU/Speech-Emotion-Analyzer/blob/master/final_results_gender_test.ipynb\n",
        "# This notebook author: Reza Chu\n",
        "# Last Editing Date: 31st May 2019\n",
        "\n",
        "## Python\n",
        "import os\n",
        "import random\n",
        "import sys\n",
        "\n",
        "import IPython\n",
        "from IPython.display import Audio\n",
        "from IPython.display import Image\n",
        "import matplotlib.pyplot as plt\n",
        "\n",
        "## Package\n",
        "import glob \n",
        "import keras\n",
        "import IPython.display as ipd\n",
        "import librosa\n",
        "import librosa.display\n",
        "import matplotlib.pyplot as plt\n",
        "import numpy as np\n",
        "import pandas as pd\n",
        "import plotly.graph_objs as go\n",
        "import plotly.offline as py\n",
        "import plotly.tools as tls\n",
        "import seaborn as sns\n",
        "import scipy.io.wavfile\n",
        "import tensorflow as tf\n",
        "py.init_notebook_mode(connected=True)\n",
        "\n",
        "## Keras\n",
        "from keras import regularizers\n",
        "from keras.callbacks import ModelCheckpoint, LearningRateScheduler, EarlyStopping\n",
        "from keras.callbacks import  History, ReduceLROnPlateau, CSVLogger\n",
        "from keras.models import Model, Sequential\n",
        "from keras.layers import Dense, Embedding, LSTM\n",
        "from keras.layers import Input, Flatten, Dropout, Activation, BatchNormalization\n",
        "from keras.layers import Conv1D, MaxPooling1D, AveragePooling1D\n",
        "from keras.preprocessing import sequence\n",
        "from keras.preprocessing.sequence import pad_sequences\n",
        "from keras.preprocessing.text import Tokenizer\n",
        "from keras.utils import np_utils\n",
        "from tensorflow.keras.utils import to_categorical\n",
        "\n",
        "## Sklearn\n",
        "from sklearn.metrics import confusion_matrix\n",
        "from sklearn.preprocessing import LabelEncoder\n",
        "\n",
        "## Rest\n",
        "from scipy.fftpack import fft\n",
        "from scipy import signal\n",
        "from scipy.io import wavfile\n",
        "from tqdm import tqdm\n",
        "\n",
        "input_duration=3\n",
        "# % pylab inline"
      ],
      "execution_count": 3,
      "outputs": [
        {
          "output_type": "display_data",
          "data": {
            "text/html": [
              "        <script type=\"text/javascript\">\n",
              "        window.PlotlyConfig = {MathJaxConfig: 'local'};\n",
              "        if (window.MathJax) {MathJax.Hub.Config({SVG: {font: \"STIX-Web\"}});}\n",
              "        if (typeof require !== 'undefined') {\n",
              "        require.undef(\"plotly\");\n",
              "        requirejs.config({\n",
              "            paths: {\n",
              "                'plotly': ['https://cdn.plot.ly/plotly-2.8.3.min']\n",
              "            }\n",
              "        });\n",
              "        require(['plotly'], function(Plotly) {\n",
              "            window._Plotly = Plotly;\n",
              "        });\n",
              "        }\n",
              "        </script>\n",
              "        "
            ]
          },
          "metadata": {}
        }
      ]
    },
    {
      "cell_type": "code",
      "source": [
        "# # Saving joblib files to not load them again with the loop above\n",
        "\n",
        "# import joblib\n",
        "\n",
        "# X_name = 'x.joblib'\n",
        "# y_name = 'y.joblib'\n",
        "# save_dir = '/content/drive/My Drive/graduation project/audio/paper_code/features'\n",
        "\n",
        "# savedX = joblib.dump(X, os.path.join(save_dir, X_name))\n",
        "# savedy = joblib.dump(y, os.path.join(save_dir, y_name))"
      ],
      "metadata": {
        "id": "UCzic8rlDcuk"
      },
      "execution_count": 4,
      "outputs": []
    },
    {
      "cell_type": "code",
      "source": [
        "# # Loading saved models\n",
        "import joblib\n",
        "X = joblib.load('/content/drive/My Drive/graduation project/audio/paper_code/features/x.joblib')\n",
        "y = joblib.load('/content/drive/My Drive/graduation project/audio/paper_code/features/y.joblib')"
      ],
      "metadata": {
        "id": "Q35CN6zDrzg1"
      },
      "execution_count": 5,
      "outputs": []
    },
    {
      "cell_type": "code",
      "source": [
        "X.shape"
      ],
      "metadata": {
        "colab": {
          "base_uri": "https://localhost:8080/"
        },
        "id": "7PSTurzjCo5K",
        "outputId": "047da516-e3bc-4cfe-9b05-b252ea55df7b"
      },
      "execution_count": 6,
      "outputs": [
        {
          "output_type": "execute_result",
          "data": {
            "text/plain": [
              "(2068, 40)"
            ]
          },
          "metadata": {},
          "execution_count": 6
        }
      ]
    },
    {
      "cell_type": "code",
      "source": [
        "from sklearn.model_selection import train_test_split\n",
        "\n",
        "X_train, X_test, y_train, y_test = train_test_split(X,y, test_size=0.1 ,shuffle = True\n",
        "                                                    , random_state=42)\n",
        "X_train , X_valid, y_train, y_valid = train_test_split(X_train,y_train, test_size=0.1112305212 , shuffle = True \n",
        "                                                       , random_state=42)"
      ],
      "metadata": {
        "id": "Ai4Fy5cPCiq1"
      },
      "execution_count": 7,
      "outputs": []
    },
    {
      "cell_type": "code",
      "source": [
        "import numpy as np\n",
        "x_traincnn = np.expand_dims(X_train, axis=2)\n",
        "x_testcnn = np.expand_dims(X_test, axis=2)\n",
        "X_valid= np.expand_dims(X_valid, axis=2)"
      ],
      "metadata": {
        "id": "tp1Fm5K3CEXu"
      },
      "execution_count": 8,
      "outputs": []
    },
    {
      "cell_type": "code",
      "source": [
        "x_traincnn.shape, x_testcnn.shape , X_valid.shape\n",
        "#1861"
      ],
      "metadata": {
        "id": "RI0MxoIPBws5",
        "colab": {
          "base_uri": "https://localhost:8080/"
        },
        "outputId": "1837b1d0-26af-4069-cf30-2f83bec8eb31"
      },
      "execution_count": 9,
      "outputs": [
        {
          "output_type": "execute_result",
          "data": {
            "text/plain": [
              "((1654, 40, 1), (207, 40, 1), (207, 40, 1))"
            ]
          },
          "metadata": {},
          "execution_count": 9
        }
      ]
    },
    {
      "cell_type": "code",
      "source": [
        "!pip install tensorflow"
      ],
      "metadata": {
        "colab": {
          "base_uri": "https://localhost:8080/"
        },
        "id": "oALhiMUd9G2Y",
        "outputId": "bae8f0e0-0cc0-47d4-faa9-9022a38d70af"
      },
      "execution_count": 10,
      "outputs": [
        {
          "output_type": "stream",
          "name": "stdout",
          "text": [
            "Looking in indexes: https://pypi.org/simple, https://us-python.pkg.dev/colab-wheels/public/simple/\n",
            "Requirement already satisfied: tensorflow in /usr/local/lib/python3.7/dist-packages (2.8.2+zzzcolab20220527125636)\n",
            "Requirement already satisfied: gast>=0.2.1 in /usr/local/lib/python3.7/dist-packages (from tensorflow) (0.5.3)\n",
            "Requirement already satisfied: numpy>=1.20 in /usr/local/lib/python3.7/dist-packages (from tensorflow) (1.21.6)\n",
            "Requirement already satisfied: grpcio<2.0,>=1.24.3 in /usr/local/lib/python3.7/dist-packages (from tensorflow) (1.46.3)\n",
            "Requirement already satisfied: flatbuffers>=1.12 in /usr/local/lib/python3.7/dist-packages (from tensorflow) (2.0)\n",
            "Requirement already satisfied: libclang>=9.0.1 in /usr/local/lib/python3.7/dist-packages (from tensorflow) (14.0.1)\n",
            "Requirement already satisfied: protobuf<3.20,>=3.9.2 in /usr/local/lib/python3.7/dist-packages (from tensorflow) (3.17.3)\n",
            "Requirement already satisfied: setuptools in /usr/local/lib/python3.7/dist-packages (from tensorflow) (57.4.0)\n",
            "Requirement already satisfied: typing-extensions>=3.6.6 in /usr/local/lib/python3.7/dist-packages (from tensorflow) (4.2.0)\n",
            "Requirement already satisfied: h5py>=2.9.0 in /usr/local/lib/python3.7/dist-packages (from tensorflow) (3.1.0)\n",
            "Requirement already satisfied: google-pasta>=0.1.1 in /usr/local/lib/python3.7/dist-packages (from tensorflow) (0.2.0)\n",
            "Requirement already satisfied: termcolor>=1.1.0 in /usr/local/lib/python3.7/dist-packages (from tensorflow) (1.1.0)\n",
            "Requirement already satisfied: tensorflow-estimator<2.9,>=2.8 in /usr/local/lib/python3.7/dist-packages (from tensorflow) (2.8.0)\n",
            "Requirement already satisfied: opt-einsum>=2.3.2 in /usr/local/lib/python3.7/dist-packages (from tensorflow) (3.3.0)\n",
            "Requirement already satisfied: absl-py>=0.4.0 in /usr/local/lib/python3.7/dist-packages (from tensorflow) (1.0.0)\n",
            "Requirement already satisfied: astunparse>=1.6.0 in /usr/local/lib/python3.7/dist-packages (from tensorflow) (1.6.3)\n",
            "Requirement already satisfied: keras-preprocessing>=1.1.1 in /usr/local/lib/python3.7/dist-packages (from tensorflow) (1.1.2)\n",
            "Requirement already satisfied: six>=1.12.0 in /usr/local/lib/python3.7/dist-packages (from tensorflow) (1.15.0)\n",
            "Requirement already satisfied: keras<2.9,>=2.8.0rc0 in /usr/local/lib/python3.7/dist-packages (from tensorflow) (2.8.0)\n",
            "Requirement already satisfied: tensorflow-io-gcs-filesystem>=0.23.1 in /usr/local/lib/python3.7/dist-packages (from tensorflow) (0.26.0)\n",
            "Requirement already satisfied: wrapt>=1.11.0 in /usr/local/lib/python3.7/dist-packages (from tensorflow) (1.14.1)\n",
            "Requirement already satisfied: tensorboard<2.9,>=2.8 in /usr/local/lib/python3.7/dist-packages (from tensorflow) (2.8.0)\n",
            "Requirement already satisfied: wheel<1.0,>=0.23.0 in /usr/local/lib/python3.7/dist-packages (from astunparse>=1.6.0->tensorflow) (0.37.1)\n",
            "Requirement already satisfied: cached-property in /usr/local/lib/python3.7/dist-packages (from h5py>=2.9.0->tensorflow) (1.5.2)\n",
            "Requirement already satisfied: google-auth<3,>=1.6.3 in /usr/local/lib/python3.7/dist-packages (from tensorboard<2.9,>=2.8->tensorflow) (1.35.0)\n",
            "Requirement already satisfied: tensorboard-plugin-wit>=1.6.0 in /usr/local/lib/python3.7/dist-packages (from tensorboard<2.9,>=2.8->tensorflow) (1.8.1)\n",
            "Requirement already satisfied: tensorboard-data-server<0.7.0,>=0.6.0 in /usr/local/lib/python3.7/dist-packages (from tensorboard<2.9,>=2.8->tensorflow) (0.6.1)\n",
            "Requirement already satisfied: google-auth-oauthlib<0.5,>=0.4.1 in /usr/local/lib/python3.7/dist-packages (from tensorboard<2.9,>=2.8->tensorflow) (0.4.6)\n",
            "Requirement already satisfied: requests<3,>=2.21.0 in /usr/local/lib/python3.7/dist-packages (from tensorboard<2.9,>=2.8->tensorflow) (2.23.0)\n",
            "Requirement already satisfied: werkzeug>=0.11.15 in /usr/local/lib/python3.7/dist-packages (from tensorboard<2.9,>=2.8->tensorflow) (1.0.1)\n",
            "Requirement already satisfied: markdown>=2.6.8 in /usr/local/lib/python3.7/dist-packages (from tensorboard<2.9,>=2.8->tensorflow) (3.3.7)\n",
            "Requirement already satisfied: rsa<5,>=3.1.4 in /usr/local/lib/python3.7/dist-packages (from google-auth<3,>=1.6.3->tensorboard<2.9,>=2.8->tensorflow) (4.8)\n",
            "Requirement already satisfied: pyasn1-modules>=0.2.1 in /usr/local/lib/python3.7/dist-packages (from google-auth<3,>=1.6.3->tensorboard<2.9,>=2.8->tensorflow) (0.2.8)\n",
            "Requirement already satisfied: cachetools<5.0,>=2.0.0 in /usr/local/lib/python3.7/dist-packages (from google-auth<3,>=1.6.3->tensorboard<2.9,>=2.8->tensorflow) (4.2.4)\n",
            "Requirement already satisfied: requests-oauthlib>=0.7.0 in /usr/local/lib/python3.7/dist-packages (from google-auth-oauthlib<0.5,>=0.4.1->tensorboard<2.9,>=2.8->tensorflow) (1.3.1)\n",
            "Requirement already satisfied: importlib-metadata>=4.4 in /usr/local/lib/python3.7/dist-packages (from markdown>=2.6.8->tensorboard<2.9,>=2.8->tensorflow) (4.11.4)\n",
            "Requirement already satisfied: zipp>=0.5 in /usr/local/lib/python3.7/dist-packages (from importlib-metadata>=4.4->markdown>=2.6.8->tensorboard<2.9,>=2.8->tensorflow) (3.8.0)\n",
            "Requirement already satisfied: pyasn1<0.5.0,>=0.4.6 in /usr/local/lib/python3.7/dist-packages (from pyasn1-modules>=0.2.1->google-auth<3,>=1.6.3->tensorboard<2.9,>=2.8->tensorflow) (0.4.8)\n",
            "Requirement already satisfied: certifi>=2017.4.17 in /usr/local/lib/python3.7/dist-packages (from requests<3,>=2.21.0->tensorboard<2.9,>=2.8->tensorflow) (2022.5.18.1)\n",
            "Requirement already satisfied: urllib3!=1.25.0,!=1.25.1,<1.26,>=1.21.1 in /usr/local/lib/python3.7/dist-packages (from requests<3,>=2.21.0->tensorboard<2.9,>=2.8->tensorflow) (1.24.3)\n",
            "Requirement already satisfied: idna<3,>=2.5 in /usr/local/lib/python3.7/dist-packages (from requests<3,>=2.21.0->tensorboard<2.9,>=2.8->tensorflow) (2.10)\n",
            "Requirement already satisfied: chardet<4,>=3.0.2 in /usr/local/lib/python3.7/dist-packages (from requests<3,>=2.21.0->tensorboard<2.9,>=2.8->tensorflow) (3.0.4)\n",
            "Requirement already satisfied: oauthlib>=3.0.0 in /usr/local/lib/python3.7/dist-packages (from requests-oauthlib>=0.7.0->google-auth-oauthlib<0.5,>=0.4.1->tensorboard<2.9,>=2.8->tensorflow) (3.2.0)\n"
          ]
        }
      ]
    },
    {
      "cell_type": "code",
      "source": [
        "import keras\n",
        "import numpy as np\n",
        "import matplotlib.pyplot as plt\n",
        "import tensorflow as tf\n",
        "from keras.preprocessing import sequence\n",
        "from keras.models import Sequential\n",
        "from keras.layers import Dense, Embedding\n",
        "from tensorflow.keras.utils import to_categorical\n",
        "from keras.layers import Input, Flatten, Dropout, Activation\n",
        "from keras.layers import Conv1D, MaxPooling1D\n",
        "from keras.models import Model\n",
        "from keras.callbacks import ModelCheckpoint\n",
        "from tensorflow.keras import optimizers\n",
        "\n",
        "model = Sequential()\n",
        "\n",
        "model.add(Conv1D(128, 8,padding='same', #classifier.add(Convolution2D(64, (3, 3), padding = 'same', input_shape = (128, 128, 3), activation = 'relu'))\n",
        "                 input_shape=(40,1)))\n",
        "model.add(Activation('relu'))\n",
        "model.add(Dropout(0.3))\n",
        "model.add(MaxPooling1D(pool_size=(5)))\n",
        "\n",
        "\n",
        "model.add(Conv1D(256,8,padding='same',))\n",
        "model.add(Activation('relu'))\n",
        "model.add(Dropout(0.3))\n",
        "model.add(MaxPooling1D(pool_size=(5)))\n",
        "\n",
        "model.add(Flatten())\n",
        "\n",
        "model.add(Dense(256))\n",
        "model.add(Activation('relu'))\n",
        "model.add(Dense(256))\n",
        "model.add(Activation('relu'))\n",
        "\n",
        "model.add(Dense(6))\n",
        "model.add(Activation('softmax'))\n",
        "\n",
        "opt = tf.keras.optimizers.RMSprop(lr=0.00002 , decay=0.0)\n",
        "#opt = tf.keras.optimizers.RMSprop(lr=0.0001, rho=0.9, epsilon=1e-07, decay=0.0)\n",
        "#opt = tf.keras.optimizers.SGD(lr=0.001, momentum=0.0, decay=0.0, nesterov=False)"
      ],
      "metadata": {
        "id": "g74fXWVAC4Cr",
        "colab": {
          "base_uri": "https://localhost:8080/"
        },
        "outputId": "960c7305-5307-4968-fb33-538c1b73b079"
      },
      "execution_count": 11,
      "outputs": [
        {
          "output_type": "stream",
          "name": "stderr",
          "text": [
            "/usr/local/lib/python3.7/dist-packages/keras/optimizer_v2/rmsprop.py:130: UserWarning:\n",
            "\n",
            "The `lr` argument is deprecated, use `learning_rate` instead.\n",
            "\n"
          ]
        }
      ]
    },
    {
      "cell_type": "code",
      "source": [
        "model.summary()"
      ],
      "metadata": {
        "colab": {
          "base_uri": "https://localhost:8080/"
        },
        "id": "H6ukOxAGC_I4",
        "outputId": "8eb3ce6b-3423-445b-9d5c-6b362bab9fba"
      },
      "execution_count": 12,
      "outputs": [
        {
          "output_type": "stream",
          "name": "stdout",
          "text": [
            "Model: \"sequential\"\n",
            "_________________________________________________________________\n",
            " Layer (type)                Output Shape              Param #   \n",
            "=================================================================\n",
            " conv1d (Conv1D)             (None, 40, 128)           1152      \n",
            "                                                                 \n",
            " activation (Activation)     (None, 40, 128)           0         \n",
            "                                                                 \n",
            " dropout (Dropout)           (None, 40, 128)           0         \n",
            "                                                                 \n",
            " max_pooling1d (MaxPooling1D  (None, 8, 128)           0         \n",
            " )                                                               \n",
            "                                                                 \n",
            " conv1d_1 (Conv1D)           (None, 8, 256)            262400    \n",
            "                                                                 \n",
            " activation_1 (Activation)   (None, 8, 256)            0         \n",
            "                                                                 \n",
            " dropout_1 (Dropout)         (None, 8, 256)            0         \n",
            "                                                                 \n",
            " max_pooling1d_1 (MaxPooling  (None, 1, 256)           0         \n",
            " 1D)                                                             \n",
            "                                                                 \n",
            " flatten (Flatten)           (None, 256)               0         \n",
            "                                                                 \n",
            " dense (Dense)               (None, 256)               65792     \n",
            "                                                                 \n",
            " activation_2 (Activation)   (None, 256)               0         \n",
            "                                                                 \n",
            " dense_1 (Dense)             (None, 256)               65792     \n",
            "                                                                 \n",
            " activation_3 (Activation)   (None, 256)               0         \n",
            "                                                                 \n",
            " dense_2 (Dense)             (None, 6)                 1542      \n",
            "                                                                 \n",
            " activation_4 (Activation)   (None, 6)                 0         \n",
            "                                                                 \n",
            "=================================================================\n",
            "Total params: 396,678\n",
            "Trainable params: 396,678\n",
            "Non-trainable params: 0\n",
            "_________________________________________________________________\n"
          ]
        }
      ]
    },
    {
      "cell_type": "code",
      "source": [
        "model.compile(loss='sparse_categorical_crossentropy',\n",
        "              optimizer=opt,\n",
        "              metrics=['accuracy'])"
      ],
      "metadata": {
        "id": "AbMlLNk4DCBM"
      },
      "execution_count": 13,
      "outputs": []
    },
    {
      "cell_type": "code",
      "source": [
        "# Create an Instance of Early Stopping Callback.\n",
        "early_stopping_callback = EarlyStopping(monitor = 'val_loss', patience = 25, mode = 'min', restore_best_weights = True)\n",
        "\n",
        "cnnhistory=model.fit(x_traincnn, y_train, batch_size=16, epochs=500 , shuffle = True, \n",
        "                     validation_data=(X_valid, y_valid) , callbacks = [early_stopping_callback])"
      ],
      "metadata": {
        "colab": {
          "base_uri": "https://localhost:8080/"
        },
        "id": "RI1v2AuADFhy",
        "outputId": "a47fff2d-9513-43e8-8187-d4d5db52ff3c"
      },
      "execution_count": 14,
      "outputs": [
        {
          "output_type": "stream",
          "name": "stdout",
          "text": [
            "Epoch 1/500\n",
            "104/104 [==============================] - 5s 13ms/step - loss: 6.0578 - accuracy: 0.1771 - val_loss: 2.6092 - val_accuracy: 0.1594\n",
            "Epoch 2/500\n",
            "104/104 [==============================] - 1s 7ms/step - loss: 4.1846 - accuracy: 0.1723 - val_loss: 2.0081 - val_accuracy: 0.2512\n",
            "Epoch 3/500\n",
            "104/104 [==============================] - 1s 8ms/step - loss: 3.6911 - accuracy: 0.1778 - val_loss: 2.0631 - val_accuracy: 0.2657\n",
            "Epoch 4/500\n",
            "104/104 [==============================] - 1s 8ms/step - loss: 3.1038 - accuracy: 0.2104 - val_loss: 1.8551 - val_accuracy: 0.2560\n",
            "Epoch 5/500\n",
            "104/104 [==============================] - 1s 8ms/step - loss: 2.7723 - accuracy: 0.2140 - val_loss: 1.8308 - val_accuracy: 0.2464\n",
            "Epoch 6/500\n",
            "104/104 [==============================] - 1s 7ms/step - loss: 2.6437 - accuracy: 0.2104 - val_loss: 1.7095 - val_accuracy: 0.2754\n",
            "Epoch 7/500\n",
            "104/104 [==============================] - 1s 8ms/step - loss: 2.5037 - accuracy: 0.1941 - val_loss: 1.7684 - val_accuracy: 0.2174\n",
            "Epoch 8/500\n",
            "104/104 [==============================] - 1s 7ms/step - loss: 2.3676 - accuracy: 0.1995 - val_loss: 1.7733 - val_accuracy: 0.2029\n",
            "Epoch 9/500\n",
            "104/104 [==============================] - 1s 8ms/step - loss: 2.2886 - accuracy: 0.2092 - val_loss: 1.7480 - val_accuracy: 0.2609\n",
            "Epoch 10/500\n",
            "104/104 [==============================] - 1s 9ms/step - loss: 2.2683 - accuracy: 0.2007 - val_loss: 1.7117 - val_accuracy: 0.3285\n",
            "Epoch 11/500\n",
            "104/104 [==============================] - 1s 9ms/step - loss: 2.1443 - accuracy: 0.2086 - val_loss: 1.7298 - val_accuracy: 0.2415\n",
            "Epoch 12/500\n",
            "104/104 [==============================] - 1s 8ms/step - loss: 2.0629 - accuracy: 0.2273 - val_loss: 1.7363 - val_accuracy: 0.2319\n",
            "Epoch 13/500\n",
            "104/104 [==============================] - 1s 8ms/step - loss: 2.0477 - accuracy: 0.2213 - val_loss: 1.7423 - val_accuracy: 0.2174\n",
            "Epoch 14/500\n",
            "104/104 [==============================] - 1s 8ms/step - loss: 2.0293 - accuracy: 0.1971 - val_loss: 1.7525 - val_accuracy: 0.2126\n",
            "Epoch 15/500\n",
            "104/104 [==============================] - 1s 8ms/step - loss: 2.0133 - accuracy: 0.2013 - val_loss: 1.7363 - val_accuracy: 0.2512\n",
            "Epoch 16/500\n",
            "104/104 [==============================] - 1s 9ms/step - loss: 1.9388 - accuracy: 0.2219 - val_loss: 1.7288 - val_accuracy: 0.2560\n",
            "Epoch 17/500\n",
            "104/104 [==============================] - 1s 8ms/step - loss: 1.9605 - accuracy: 0.2219 - val_loss: 1.7312 - val_accuracy: 0.2367\n",
            "Epoch 18/500\n",
            "104/104 [==============================] - 1s 8ms/step - loss: 1.9332 - accuracy: 0.2255 - val_loss: 1.7182 - val_accuracy: 0.2995\n",
            "Epoch 19/500\n",
            "104/104 [==============================] - 1s 10ms/step - loss: 1.9056 - accuracy: 0.2207 - val_loss: 1.7186 - val_accuracy: 0.2705\n",
            "Epoch 20/500\n",
            "104/104 [==============================] - 1s 8ms/step - loss: 1.8897 - accuracy: 0.2158 - val_loss: 1.7154 - val_accuracy: 0.2705\n",
            "Epoch 21/500\n",
            "104/104 [==============================] - 1s 8ms/step - loss: 1.8604 - accuracy: 0.2437 - val_loss: 1.7306 - val_accuracy: 0.2415\n",
            "Epoch 22/500\n",
            "104/104 [==============================] - 1s 8ms/step - loss: 1.8355 - accuracy: 0.2400 - val_loss: 1.7191 - val_accuracy: 0.2512\n",
            "Epoch 23/500\n",
            "104/104 [==============================] - 1s 7ms/step - loss: 1.8332 - accuracy: 0.2491 - val_loss: 1.7139 - val_accuracy: 0.2126\n",
            "Epoch 24/500\n",
            "104/104 [==============================] - 1s 7ms/step - loss: 1.7996 - accuracy: 0.2618 - val_loss: 1.7006 - val_accuracy: 0.2850\n",
            "Epoch 25/500\n",
            "104/104 [==============================] - 1s 7ms/step - loss: 1.8397 - accuracy: 0.2394 - val_loss: 1.7036 - val_accuracy: 0.2222\n",
            "Epoch 26/500\n",
            "104/104 [==============================] - 0s 5ms/step - loss: 1.8151 - accuracy: 0.2340 - val_loss: 1.6881 - val_accuracy: 0.3382\n",
            "Epoch 27/500\n",
            "104/104 [==============================] - 1s 5ms/step - loss: 1.7882 - accuracy: 0.2539 - val_loss: 1.6881 - val_accuracy: 0.2947\n",
            "Epoch 28/500\n",
            "104/104 [==============================] - 1s 5ms/step - loss: 1.8262 - accuracy: 0.2388 - val_loss: 1.6797 - val_accuracy: 0.3333\n",
            "Epoch 29/500\n",
            "104/104 [==============================] - 0s 5ms/step - loss: 1.7964 - accuracy: 0.2443 - val_loss: 1.6953 - val_accuracy: 0.2995\n",
            "Epoch 30/500\n",
            "104/104 [==============================] - 1s 5ms/step - loss: 1.8064 - accuracy: 0.2346 - val_loss: 1.7158 - val_accuracy: 0.3478\n",
            "Epoch 31/500\n",
            "104/104 [==============================] - 0s 5ms/step - loss: 1.7834 - accuracy: 0.2418 - val_loss: 1.6800 - val_accuracy: 0.2850\n",
            "Epoch 32/500\n",
            "104/104 [==============================] - 0s 5ms/step - loss: 1.7638 - accuracy: 0.2799 - val_loss: 1.6867 - val_accuracy: 0.3043\n",
            "Epoch 33/500\n",
            "104/104 [==============================] - 1s 5ms/step - loss: 1.7505 - accuracy: 0.2678 - val_loss: 1.6803 - val_accuracy: 0.3430\n",
            "Epoch 34/500\n",
            "104/104 [==============================] - 0s 4ms/step - loss: 1.7625 - accuracy: 0.2576 - val_loss: 1.6682 - val_accuracy: 0.3140\n",
            "Epoch 35/500\n",
            "104/104 [==============================] - 1s 5ms/step - loss: 1.7737 - accuracy: 0.2769 - val_loss: 1.6650 - val_accuracy: 0.3188\n",
            "Epoch 36/500\n",
            "104/104 [==============================] - 0s 5ms/step - loss: 1.7115 - accuracy: 0.2763 - val_loss: 1.6547 - val_accuracy: 0.2657\n",
            "Epoch 37/500\n",
            "104/104 [==============================] - 0s 5ms/step - loss: 1.7343 - accuracy: 0.2666 - val_loss: 1.6531 - val_accuracy: 0.2995\n",
            "Epoch 38/500\n",
            "104/104 [==============================] - 1s 5ms/step - loss: 1.7583 - accuracy: 0.2594 - val_loss: 1.6717 - val_accuracy: 0.2947\n",
            "Epoch 39/500\n",
            "104/104 [==============================] - 0s 5ms/step - loss: 1.7076 - accuracy: 0.2848 - val_loss: 1.6535 - val_accuracy: 0.3140\n",
            "Epoch 40/500\n",
            "104/104 [==============================] - 0s 5ms/step - loss: 1.6979 - accuracy: 0.2823 - val_loss: 1.6413 - val_accuracy: 0.3720\n",
            "Epoch 41/500\n",
            "104/104 [==============================] - 0s 4ms/step - loss: 1.7055 - accuracy: 0.2781 - val_loss: 1.6518 - val_accuracy: 0.3478\n",
            "Epoch 42/500\n",
            "104/104 [==============================] - 0s 5ms/step - loss: 1.6952 - accuracy: 0.2733 - val_loss: 1.6405 - val_accuracy: 0.3575\n",
            "Epoch 43/500\n",
            "104/104 [==============================] - 0s 5ms/step - loss: 1.6894 - accuracy: 0.2872 - val_loss: 1.6343 - val_accuracy: 0.3768\n",
            "Epoch 44/500\n",
            "104/104 [==============================] - 1s 5ms/step - loss: 1.7016 - accuracy: 0.2908 - val_loss: 1.6234 - val_accuracy: 0.3237\n",
            "Epoch 45/500\n",
            "104/104 [==============================] - 0s 4ms/step - loss: 1.6990 - accuracy: 0.2884 - val_loss: 1.6209 - val_accuracy: 0.3865\n",
            "Epoch 46/500\n",
            "104/104 [==============================] - 0s 5ms/step - loss: 1.6770 - accuracy: 0.2956 - val_loss: 1.6092 - val_accuracy: 0.3527\n",
            "Epoch 47/500\n",
            "104/104 [==============================] - 1s 5ms/step - loss: 1.6881 - accuracy: 0.2926 - val_loss: 1.6122 - val_accuracy: 0.3623\n",
            "Epoch 48/500\n",
            "104/104 [==============================] - 1s 5ms/step - loss: 1.6648 - accuracy: 0.3162 - val_loss: 1.6000 - val_accuracy: 0.3575\n",
            "Epoch 49/500\n",
            "104/104 [==============================] - 0s 5ms/step - loss: 1.6657 - accuracy: 0.2987 - val_loss: 1.6072 - val_accuracy: 0.3527\n",
            "Epoch 50/500\n",
            "104/104 [==============================] - 1s 5ms/step - loss: 1.6563 - accuracy: 0.2866 - val_loss: 1.6080 - val_accuracy: 0.3575\n",
            "Epoch 51/500\n",
            "104/104 [==============================] - 0s 4ms/step - loss: 1.6741 - accuracy: 0.2799 - val_loss: 1.6089 - val_accuracy: 0.3575\n",
            "Epoch 52/500\n",
            "104/104 [==============================] - 0s 5ms/step - loss: 1.6687 - accuracy: 0.2969 - val_loss: 1.5983 - val_accuracy: 0.3623\n",
            "Epoch 53/500\n",
            "104/104 [==============================] - 0s 4ms/step - loss: 1.6701 - accuracy: 0.2975 - val_loss: 1.6053 - val_accuracy: 0.3720\n",
            "Epoch 54/500\n",
            "104/104 [==============================] - 0s 5ms/step - loss: 1.6455 - accuracy: 0.3168 - val_loss: 1.6004 - val_accuracy: 0.4058\n",
            "Epoch 55/500\n",
            "104/104 [==============================] - 0s 4ms/step - loss: 1.6364 - accuracy: 0.2938 - val_loss: 1.5850 - val_accuracy: 0.4203\n",
            "Epoch 56/500\n",
            "104/104 [==============================] - 1s 5ms/step - loss: 1.6202 - accuracy: 0.3271 - val_loss: 1.5882 - val_accuracy: 0.3961\n",
            "Epoch 57/500\n",
            "104/104 [==============================] - 0s 4ms/step - loss: 1.6236 - accuracy: 0.3035 - val_loss: 1.5827 - val_accuracy: 0.3623\n",
            "Epoch 58/500\n",
            "104/104 [==============================] - 0s 5ms/step - loss: 1.6061 - accuracy: 0.3277 - val_loss: 1.5983 - val_accuracy: 0.3816\n",
            "Epoch 59/500\n",
            "104/104 [==============================] - 0s 4ms/step - loss: 1.6109 - accuracy: 0.3144 - val_loss: 1.5839 - val_accuracy: 0.3961\n",
            "Epoch 60/500\n",
            "104/104 [==============================] - 0s 5ms/step - loss: 1.6176 - accuracy: 0.3150 - val_loss: 1.5784 - val_accuracy: 0.3913\n",
            "Epoch 61/500\n",
            "104/104 [==============================] - 0s 5ms/step - loss: 1.6059 - accuracy: 0.3301 - val_loss: 1.5768 - val_accuracy: 0.3961\n",
            "Epoch 62/500\n",
            "104/104 [==============================] - 0s 5ms/step - loss: 1.6061 - accuracy: 0.3343 - val_loss: 1.5736 - val_accuracy: 0.3575\n",
            "Epoch 63/500\n",
            "104/104 [==============================] - 0s 4ms/step - loss: 1.5902 - accuracy: 0.3380 - val_loss: 1.5894 - val_accuracy: 0.3768\n",
            "Epoch 64/500\n",
            "104/104 [==============================] - 0s 5ms/step - loss: 1.6116 - accuracy: 0.3283 - val_loss: 1.5662 - val_accuracy: 0.3768\n",
            "Epoch 65/500\n",
            "104/104 [==============================] - 0s 4ms/step - loss: 1.5860 - accuracy: 0.3380 - val_loss: 1.5657 - val_accuracy: 0.3913\n",
            "Epoch 66/500\n",
            "104/104 [==============================] - 0s 5ms/step - loss: 1.6060 - accuracy: 0.3356 - val_loss: 1.5698 - val_accuracy: 0.3913\n",
            "Epoch 67/500\n",
            "104/104 [==============================] - 0s 5ms/step - loss: 1.5820 - accuracy: 0.3331 - val_loss: 1.5554 - val_accuracy: 0.3913\n",
            "Epoch 68/500\n",
            "104/104 [==============================] - 1s 5ms/step - loss: 1.5879 - accuracy: 0.3289 - val_loss: 1.5456 - val_accuracy: 0.4203\n",
            "Epoch 69/500\n",
            "104/104 [==============================] - 0s 5ms/step - loss: 1.5719 - accuracy: 0.3489 - val_loss: 1.5517 - val_accuracy: 0.3865\n",
            "Epoch 70/500\n",
            "104/104 [==============================] - 1s 5ms/step - loss: 1.5603 - accuracy: 0.3561 - val_loss: 1.5417 - val_accuracy: 0.3961\n",
            "Epoch 71/500\n",
            "104/104 [==============================] - 0s 5ms/step - loss: 1.5614 - accuracy: 0.3531 - val_loss: 1.5563 - val_accuracy: 0.3478\n",
            "Epoch 72/500\n",
            "104/104 [==============================] - 1s 5ms/step - loss: 1.5762 - accuracy: 0.3404 - val_loss: 1.5242 - val_accuracy: 0.4300\n",
            "Epoch 73/500\n",
            "104/104 [==============================] - 1s 5ms/step - loss: 1.5510 - accuracy: 0.3501 - val_loss: 1.5301 - val_accuracy: 0.4300\n",
            "Epoch 74/500\n",
            "104/104 [==============================] - 0s 5ms/step - loss: 1.5648 - accuracy: 0.3440 - val_loss: 1.5184 - val_accuracy: 0.4058\n",
            "Epoch 75/500\n",
            "104/104 [==============================] - 1s 5ms/step - loss: 1.5355 - accuracy: 0.3694 - val_loss: 1.5372 - val_accuracy: 0.3623\n",
            "Epoch 76/500\n",
            "104/104 [==============================] - 0s 5ms/step - loss: 1.5476 - accuracy: 0.3579 - val_loss: 1.5102 - val_accuracy: 0.4155\n",
            "Epoch 77/500\n",
            "104/104 [==============================] - 1s 5ms/step - loss: 1.5525 - accuracy: 0.3507 - val_loss: 1.5011 - val_accuracy: 0.4493\n",
            "Epoch 78/500\n",
            "104/104 [==============================] - 0s 4ms/step - loss: 1.5295 - accuracy: 0.3525 - val_loss: 1.5006 - val_accuracy: 0.4106\n",
            "Epoch 79/500\n",
            "104/104 [==============================] - 0s 5ms/step - loss: 1.5111 - accuracy: 0.3694 - val_loss: 1.4875 - val_accuracy: 0.4686\n",
            "Epoch 80/500\n",
            "104/104 [==============================] - 0s 4ms/step - loss: 1.5211 - accuracy: 0.3640 - val_loss: 1.4881 - val_accuracy: 0.4348\n",
            "Epoch 81/500\n",
            "104/104 [==============================] - 0s 5ms/step - loss: 1.5006 - accuracy: 0.3863 - val_loss: 1.4685 - val_accuracy: 0.4734\n",
            "Epoch 82/500\n",
            "104/104 [==============================] - 0s 4ms/step - loss: 1.5126 - accuracy: 0.3712 - val_loss: 1.4758 - val_accuracy: 0.4686\n",
            "Epoch 83/500\n",
            "104/104 [==============================] - 0s 5ms/step - loss: 1.5160 - accuracy: 0.3658 - val_loss: 1.4668 - val_accuracy: 0.4348\n",
            "Epoch 84/500\n",
            "104/104 [==============================] - 1s 5ms/step - loss: 1.5087 - accuracy: 0.3755 - val_loss: 1.4688 - val_accuracy: 0.4106\n",
            "Epoch 85/500\n",
            "104/104 [==============================] - 1s 5ms/step - loss: 1.5077 - accuracy: 0.3863 - val_loss: 1.4651 - val_accuracy: 0.4203\n",
            "Epoch 86/500\n",
            "104/104 [==============================] - 1s 5ms/step - loss: 1.5042 - accuracy: 0.3755 - val_loss: 1.4730 - val_accuracy: 0.3865\n",
            "Epoch 87/500\n",
            "104/104 [==============================] - 0s 5ms/step - loss: 1.4896 - accuracy: 0.3827 - val_loss: 1.4641 - val_accuracy: 0.4444\n",
            "Epoch 88/500\n",
            "104/104 [==============================] - 1s 5ms/step - loss: 1.5035 - accuracy: 0.3869 - val_loss: 1.4677 - val_accuracy: 0.4589\n",
            "Epoch 89/500\n",
            "104/104 [==============================] - 0s 5ms/step - loss: 1.4743 - accuracy: 0.3827 - val_loss: 1.4458 - val_accuracy: 0.4638\n",
            "Epoch 90/500\n",
            "104/104 [==============================] - 0s 5ms/step - loss: 1.4586 - accuracy: 0.4111 - val_loss: 1.4678 - val_accuracy: 0.4348\n",
            "Epoch 91/500\n",
            "104/104 [==============================] - 1s 5ms/step - loss: 1.4708 - accuracy: 0.3912 - val_loss: 1.4469 - val_accuracy: 0.4879\n",
            "Epoch 92/500\n",
            "104/104 [==============================] - 1s 5ms/step - loss: 1.4594 - accuracy: 0.3984 - val_loss: 1.4538 - val_accuracy: 0.4300\n",
            "Epoch 93/500\n",
            "104/104 [==============================] - 0s 5ms/step - loss: 1.4550 - accuracy: 0.4063 - val_loss: 1.4394 - val_accuracy: 0.4638\n",
            "Epoch 94/500\n",
            "104/104 [==============================] - 1s 5ms/step - loss: 1.4631 - accuracy: 0.4039 - val_loss: 1.4313 - val_accuracy: 0.4493\n",
            "Epoch 95/500\n",
            "104/104 [==============================] - 0s 5ms/step - loss: 1.4281 - accuracy: 0.4045 - val_loss: 1.4385 - val_accuracy: 0.4831\n",
            "Epoch 96/500\n",
            "104/104 [==============================] - 1s 5ms/step - loss: 1.4168 - accuracy: 0.4148 - val_loss: 1.4098 - val_accuracy: 0.4493\n",
            "Epoch 97/500\n",
            "104/104 [==============================] - 1s 5ms/step - loss: 1.4500 - accuracy: 0.3972 - val_loss: 1.4057 - val_accuracy: 0.4686\n",
            "Epoch 98/500\n",
            "104/104 [==============================] - 1s 5ms/step - loss: 1.4319 - accuracy: 0.4166 - val_loss: 1.4135 - val_accuracy: 0.4638\n",
            "Epoch 99/500\n",
            "104/104 [==============================] - 1s 5ms/step - loss: 1.4455 - accuracy: 0.4117 - val_loss: 1.4095 - val_accuracy: 0.4783\n",
            "Epoch 100/500\n",
            "104/104 [==============================] - 1s 5ms/step - loss: 1.4246 - accuracy: 0.3936 - val_loss: 1.4178 - val_accuracy: 0.4783\n",
            "Epoch 101/500\n",
            "104/104 [==============================] - 1s 5ms/step - loss: 1.4110 - accuracy: 0.4220 - val_loss: 1.3911 - val_accuracy: 0.4879\n",
            "Epoch 102/500\n",
            "104/104 [==============================] - 0s 4ms/step - loss: 1.3989 - accuracy: 0.4389 - val_loss: 1.4045 - val_accuracy: 0.5024\n",
            "Epoch 103/500\n",
            "104/104 [==============================] - 1s 5ms/step - loss: 1.4349 - accuracy: 0.4093 - val_loss: 1.4002 - val_accuracy: 0.4155\n",
            "Epoch 104/500\n",
            "104/104 [==============================] - 0s 5ms/step - loss: 1.3967 - accuracy: 0.4420 - val_loss: 1.3764 - val_accuracy: 0.4879\n",
            "Epoch 105/500\n",
            "104/104 [==============================] - 0s 5ms/step - loss: 1.4090 - accuracy: 0.4226 - val_loss: 1.3852 - val_accuracy: 0.4734\n",
            "Epoch 106/500\n",
            "104/104 [==============================] - 0s 4ms/step - loss: 1.4060 - accuracy: 0.4154 - val_loss: 1.3814 - val_accuracy: 0.4928\n",
            "Epoch 107/500\n",
            "104/104 [==============================] - 1s 5ms/step - loss: 1.4073 - accuracy: 0.4172 - val_loss: 1.3772 - val_accuracy: 0.4879\n",
            "Epoch 108/500\n",
            "104/104 [==============================] - 1s 5ms/step - loss: 1.3868 - accuracy: 0.4214 - val_loss: 1.3743 - val_accuracy: 0.4734\n",
            "Epoch 109/500\n",
            "104/104 [==============================] - 1s 5ms/step - loss: 1.3838 - accuracy: 0.4528 - val_loss: 1.3682 - val_accuracy: 0.4879\n",
            "Epoch 110/500\n",
            "104/104 [==============================] - 0s 5ms/step - loss: 1.3677 - accuracy: 0.4486 - val_loss: 1.3787 - val_accuracy: 0.4686\n",
            "Epoch 111/500\n",
            "104/104 [==============================] - 1s 5ms/step - loss: 1.3816 - accuracy: 0.4510 - val_loss: 1.3572 - val_accuracy: 0.5024\n",
            "Epoch 112/500\n",
            "104/104 [==============================] - 0s 5ms/step - loss: 1.3852 - accuracy: 0.4238 - val_loss: 1.3666 - val_accuracy: 0.4928\n",
            "Epoch 113/500\n",
            "104/104 [==============================] - 1s 5ms/step - loss: 1.3724 - accuracy: 0.4389 - val_loss: 1.3777 - val_accuracy: 0.4589\n",
            "Epoch 114/500\n",
            "104/104 [==============================] - 1s 5ms/step - loss: 1.3844 - accuracy: 0.4389 - val_loss: 1.3554 - val_accuracy: 0.4879\n",
            "Epoch 115/500\n",
            "104/104 [==============================] - 1s 5ms/step - loss: 1.3619 - accuracy: 0.4504 - val_loss: 1.3746 - val_accuracy: 0.4541\n",
            "Epoch 116/500\n",
            "104/104 [==============================] - 0s 5ms/step - loss: 1.3335 - accuracy: 0.4438 - val_loss: 1.3554 - val_accuracy: 0.4444\n",
            "Epoch 117/500\n",
            "104/104 [==============================] - 0s 5ms/step - loss: 1.3480 - accuracy: 0.4432 - val_loss: 1.3376 - val_accuracy: 0.5121\n",
            "Epoch 118/500\n",
            "104/104 [==============================] - 0s 5ms/step - loss: 1.3525 - accuracy: 0.4607 - val_loss: 1.3267 - val_accuracy: 0.5121\n",
            "Epoch 119/500\n",
            "104/104 [==============================] - 1s 5ms/step - loss: 1.3540 - accuracy: 0.4528 - val_loss: 1.3197 - val_accuracy: 0.5072\n",
            "Epoch 120/500\n",
            "104/104 [==============================] - 0s 5ms/step - loss: 1.3446 - accuracy: 0.4589 - val_loss: 1.3296 - val_accuracy: 0.5217\n",
            "Epoch 121/500\n",
            "104/104 [==============================] - 1s 5ms/step - loss: 1.3241 - accuracy: 0.4704 - val_loss: 1.3115 - val_accuracy: 0.5217\n",
            "Epoch 122/500\n",
            "104/104 [==============================] - 0s 5ms/step - loss: 1.3396 - accuracy: 0.4528 - val_loss: 1.3410 - val_accuracy: 0.4686\n",
            "Epoch 123/500\n",
            "104/104 [==============================] - 1s 6ms/step - loss: 1.3299 - accuracy: 0.4680 - val_loss: 1.3092 - val_accuracy: 0.5024\n",
            "Epoch 124/500\n",
            "104/104 [==============================] - 1s 8ms/step - loss: 1.3131 - accuracy: 0.4589 - val_loss: 1.3027 - val_accuracy: 0.5024\n",
            "Epoch 125/500\n",
            "104/104 [==============================] - 1s 7ms/step - loss: 1.3296 - accuracy: 0.4619 - val_loss: 1.3109 - val_accuracy: 0.5072\n",
            "Epoch 126/500\n",
            "104/104 [==============================] - 1s 7ms/step - loss: 1.3082 - accuracy: 0.4680 - val_loss: 1.3186 - val_accuracy: 0.4879\n",
            "Epoch 127/500\n",
            "104/104 [==============================] - 1s 8ms/step - loss: 1.3245 - accuracy: 0.4704 - val_loss: 1.3114 - val_accuracy: 0.5024\n",
            "Epoch 128/500\n",
            "104/104 [==============================] - 1s 6ms/step - loss: 1.3009 - accuracy: 0.4674 - val_loss: 1.3105 - val_accuracy: 0.5072\n",
            "Epoch 129/500\n",
            "104/104 [==============================] - 1s 5ms/step - loss: 1.2873 - accuracy: 0.4946 - val_loss: 1.2924 - val_accuracy: 0.4976\n",
            "Epoch 130/500\n",
            "104/104 [==============================] - 0s 5ms/step - loss: 1.3244 - accuracy: 0.4813 - val_loss: 1.3194 - val_accuracy: 0.4734\n",
            "Epoch 131/500\n",
            "104/104 [==============================] - 0s 5ms/step - loss: 1.3064 - accuracy: 0.4752 - val_loss: 1.2969 - val_accuracy: 0.5121\n",
            "Epoch 132/500\n",
            "104/104 [==============================] - 1s 5ms/step - loss: 1.2860 - accuracy: 0.4770 - val_loss: 1.2875 - val_accuracy: 0.4976\n",
            "Epoch 133/500\n",
            "104/104 [==============================] - 0s 5ms/step - loss: 1.3262 - accuracy: 0.4553 - val_loss: 1.3048 - val_accuracy: 0.4976\n",
            "Epoch 134/500\n",
            "104/104 [==============================] - 1s 5ms/step - loss: 1.2792 - accuracy: 0.4879 - val_loss: 1.2731 - val_accuracy: 0.5411\n",
            "Epoch 135/500\n",
            "104/104 [==============================] - 1s 5ms/step - loss: 1.2786 - accuracy: 0.4879 - val_loss: 1.2832 - val_accuracy: 0.5169\n",
            "Epoch 136/500\n",
            "104/104 [==============================] - 1s 5ms/step - loss: 1.2767 - accuracy: 0.4800 - val_loss: 1.2888 - val_accuracy: 0.5169\n",
            "Epoch 137/500\n",
            "104/104 [==============================] - 0s 5ms/step - loss: 1.2713 - accuracy: 0.4976 - val_loss: 1.2827 - val_accuracy: 0.5266\n",
            "Epoch 138/500\n",
            "104/104 [==============================] - 0s 5ms/step - loss: 1.2855 - accuracy: 0.4909 - val_loss: 1.2898 - val_accuracy: 0.4879\n",
            "Epoch 139/500\n",
            "104/104 [==============================] - 0s 5ms/step - loss: 1.2679 - accuracy: 0.4722 - val_loss: 1.2585 - val_accuracy: 0.5266\n",
            "Epoch 140/500\n",
            "104/104 [==============================] - 0s 5ms/step - loss: 1.2868 - accuracy: 0.4800 - val_loss: 1.2683 - val_accuracy: 0.5217\n",
            "Epoch 141/500\n",
            "104/104 [==============================] - 0s 5ms/step - loss: 1.2676 - accuracy: 0.4764 - val_loss: 1.2552 - val_accuracy: 0.5266\n",
            "Epoch 142/500\n",
            "104/104 [==============================] - 0s 5ms/step - loss: 1.2655 - accuracy: 0.4728 - val_loss: 1.2557 - val_accuracy: 0.5556\n",
            "Epoch 143/500\n",
            "104/104 [==============================] - 0s 5ms/step - loss: 1.2523 - accuracy: 0.5036 - val_loss: 1.2664 - val_accuracy: 0.5072\n",
            "Epoch 144/500\n",
            "104/104 [==============================] - 0s 5ms/step - loss: 1.2552 - accuracy: 0.4915 - val_loss: 1.2363 - val_accuracy: 0.5459\n",
            "Epoch 145/500\n",
            "104/104 [==============================] - 0s 5ms/step - loss: 1.2475 - accuracy: 0.4982 - val_loss: 1.2418 - val_accuracy: 0.5411\n",
            "Epoch 146/500\n",
            "104/104 [==============================] - 0s 5ms/step - loss: 1.2472 - accuracy: 0.5018 - val_loss: 1.2281 - val_accuracy: 0.5314\n",
            "Epoch 147/500\n",
            "104/104 [==============================] - 1s 5ms/step - loss: 1.2382 - accuracy: 0.4891 - val_loss: 1.2459 - val_accuracy: 0.5507\n",
            "Epoch 148/500\n",
            "104/104 [==============================] - 1s 5ms/step - loss: 1.2351 - accuracy: 0.5000 - val_loss: 1.2423 - val_accuracy: 0.5217\n",
            "Epoch 149/500\n",
            "104/104 [==============================] - 1s 5ms/step - loss: 1.2452 - accuracy: 0.4988 - val_loss: 1.2361 - val_accuracy: 0.5266\n",
            "Epoch 150/500\n",
            "104/104 [==============================] - 1s 5ms/step - loss: 1.2319 - accuracy: 0.4982 - val_loss: 1.2232 - val_accuracy: 0.5652\n",
            "Epoch 151/500\n",
            "104/104 [==============================] - 0s 5ms/step - loss: 1.2683 - accuracy: 0.4807 - val_loss: 1.2153 - val_accuracy: 0.5507\n",
            "Epoch 152/500\n",
            "104/104 [==============================] - 1s 5ms/step - loss: 1.2183 - accuracy: 0.5157 - val_loss: 1.2220 - val_accuracy: 0.5169\n",
            "Epoch 153/500\n",
            "104/104 [==============================] - 0s 5ms/step - loss: 1.2237 - accuracy: 0.5115 - val_loss: 1.2125 - val_accuracy: 0.5362\n",
            "Epoch 154/500\n",
            "104/104 [==============================] - 1s 5ms/step - loss: 1.2240 - accuracy: 0.5200 - val_loss: 1.2171 - val_accuracy: 0.5556\n",
            "Epoch 155/500\n",
            "104/104 [==============================] - 1s 5ms/step - loss: 1.2192 - accuracy: 0.5073 - val_loss: 1.2181 - val_accuracy: 0.5652\n",
            "Epoch 156/500\n",
            "104/104 [==============================] - 1s 5ms/step - loss: 1.2280 - accuracy: 0.5127 - val_loss: 1.2265 - val_accuracy: 0.5362\n",
            "Epoch 157/500\n",
            "104/104 [==============================] - 1s 5ms/step - loss: 1.2234 - accuracy: 0.5012 - val_loss: 1.2109 - val_accuracy: 0.5411\n",
            "Epoch 158/500\n",
            "104/104 [==============================] - 1s 5ms/step - loss: 1.2308 - accuracy: 0.4946 - val_loss: 1.2360 - val_accuracy: 0.5459\n",
            "Epoch 159/500\n",
            "104/104 [==============================] - 0s 5ms/step - loss: 1.2309 - accuracy: 0.5042 - val_loss: 1.2073 - val_accuracy: 0.5556\n",
            "Epoch 160/500\n",
            "104/104 [==============================] - 0s 4ms/step - loss: 1.2005 - accuracy: 0.5187 - val_loss: 1.1877 - val_accuracy: 0.5797\n",
            "Epoch 161/500\n",
            "104/104 [==============================] - 1s 5ms/step - loss: 1.1993 - accuracy: 0.5127 - val_loss: 1.1873 - val_accuracy: 0.5556\n",
            "Epoch 162/500\n",
            "104/104 [==============================] - 1s 5ms/step - loss: 1.1999 - accuracy: 0.5097 - val_loss: 1.2013 - val_accuracy: 0.5314\n",
            "Epoch 163/500\n",
            "104/104 [==============================] - 0s 5ms/step - loss: 1.2000 - accuracy: 0.5048 - val_loss: 1.1846 - val_accuracy: 0.5942\n",
            "Epoch 164/500\n",
            "104/104 [==============================] - 1s 5ms/step - loss: 1.1877 - accuracy: 0.5272 - val_loss: 1.1836 - val_accuracy: 0.5700\n",
            "Epoch 165/500\n",
            "104/104 [==============================] - 1s 5ms/step - loss: 1.1910 - accuracy: 0.5073 - val_loss: 1.1732 - val_accuracy: 0.5749\n",
            "Epoch 166/500\n",
            "104/104 [==============================] - 0s 5ms/step - loss: 1.1852 - accuracy: 0.5060 - val_loss: 1.1859 - val_accuracy: 0.5700\n",
            "Epoch 167/500\n",
            "104/104 [==============================] - 1s 5ms/step - loss: 1.1936 - accuracy: 0.5187 - val_loss: 1.1874 - val_accuracy: 0.5556\n",
            "Epoch 168/500\n",
            "104/104 [==============================] - 0s 5ms/step - loss: 1.1919 - accuracy: 0.5091 - val_loss: 1.1995 - val_accuracy: 0.5459\n",
            "Epoch 169/500\n",
            "104/104 [==============================] - 1s 5ms/step - loss: 1.1832 - accuracy: 0.5193 - val_loss: 1.1811 - val_accuracy: 0.5556\n",
            "Epoch 170/500\n",
            "104/104 [==============================] - 1s 5ms/step - loss: 1.1617 - accuracy: 0.5405 - val_loss: 1.1720 - val_accuracy: 0.5604\n",
            "Epoch 171/500\n",
            "104/104 [==============================] - 1s 5ms/step - loss: 1.1878 - accuracy: 0.5175 - val_loss: 1.1617 - val_accuracy: 0.5749\n",
            "Epoch 172/500\n",
            "104/104 [==============================] - 1s 6ms/step - loss: 1.1896 - accuracy: 0.5181 - val_loss: 1.1784 - val_accuracy: 0.5556\n",
            "Epoch 173/500\n",
            "104/104 [==============================] - 1s 5ms/step - loss: 1.1723 - accuracy: 0.5212 - val_loss: 1.1815 - val_accuracy: 0.5556\n",
            "Epoch 174/500\n",
            "104/104 [==============================] - 1s 5ms/step - loss: 1.1676 - accuracy: 0.5302 - val_loss: 1.1721 - val_accuracy: 0.5700\n",
            "Epoch 175/500\n",
            "104/104 [==============================] - 1s 5ms/step - loss: 1.1587 - accuracy: 0.5278 - val_loss: 1.1684 - val_accuracy: 0.5652\n",
            "Epoch 176/500\n",
            "104/104 [==============================] - 1s 5ms/step - loss: 1.1693 - accuracy: 0.5206 - val_loss: 1.1531 - val_accuracy: 0.5749\n",
            "Epoch 177/500\n",
            "104/104 [==============================] - 1s 5ms/step - loss: 1.1739 - accuracy: 0.5296 - val_loss: 1.1588 - val_accuracy: 0.5652\n",
            "Epoch 178/500\n",
            "104/104 [==============================] - 0s 5ms/step - loss: 1.1544 - accuracy: 0.5357 - val_loss: 1.1835 - val_accuracy: 0.5604\n",
            "Epoch 179/500\n",
            "104/104 [==============================] - 1s 5ms/step - loss: 1.1493 - accuracy: 0.5248 - val_loss: 1.1631 - val_accuracy: 0.5604\n",
            "Epoch 180/500\n",
            "104/104 [==============================] - 1s 5ms/step - loss: 1.1346 - accuracy: 0.5375 - val_loss: 1.1723 - val_accuracy: 0.5459\n",
            "Epoch 181/500\n",
            "104/104 [==============================] - 0s 5ms/step - loss: 1.1448 - accuracy: 0.5320 - val_loss: 1.1507 - val_accuracy: 0.5700\n",
            "Epoch 182/500\n",
            "104/104 [==============================] - 1s 5ms/step - loss: 1.1462 - accuracy: 0.5484 - val_loss: 1.1329 - val_accuracy: 0.5652\n",
            "Epoch 183/500\n",
            "104/104 [==============================] - 1s 5ms/step - loss: 1.1508 - accuracy: 0.5369 - val_loss: 1.1209 - val_accuracy: 0.6184\n",
            "Epoch 184/500\n",
            "104/104 [==============================] - 0s 5ms/step - loss: 1.1499 - accuracy: 0.5248 - val_loss: 1.1303 - val_accuracy: 0.5845\n",
            "Epoch 185/500\n",
            "104/104 [==============================] - 0s 5ms/step - loss: 1.1345 - accuracy: 0.5369 - val_loss: 1.1332 - val_accuracy: 0.5845\n",
            "Epoch 186/500\n",
            "104/104 [==============================] - 0s 5ms/step - loss: 1.1339 - accuracy: 0.5333 - val_loss: 1.1241 - val_accuracy: 0.5797\n",
            "Epoch 187/500\n",
            "104/104 [==============================] - 1s 5ms/step - loss: 1.1270 - accuracy: 0.5544 - val_loss: 1.1228 - val_accuracy: 0.5749\n",
            "Epoch 188/500\n",
            "104/104 [==============================] - 1s 5ms/step - loss: 1.1155 - accuracy: 0.5381 - val_loss: 1.1400 - val_accuracy: 0.5652\n",
            "Epoch 189/500\n",
            "104/104 [==============================] - 1s 5ms/step - loss: 1.1252 - accuracy: 0.5538 - val_loss: 1.1219 - val_accuracy: 0.5894\n",
            "Epoch 190/500\n",
            "104/104 [==============================] - 0s 5ms/step - loss: 1.1355 - accuracy: 0.5387 - val_loss: 1.1291 - val_accuracy: 0.6039\n",
            "Epoch 191/500\n",
            "104/104 [==============================] - 1s 5ms/step - loss: 1.1252 - accuracy: 0.5369 - val_loss: 1.1423 - val_accuracy: 0.5797\n",
            "Epoch 192/500\n",
            "104/104 [==============================] - 1s 5ms/step - loss: 1.0996 - accuracy: 0.5574 - val_loss: 1.1271 - val_accuracy: 0.6087\n",
            "Epoch 193/500\n",
            "104/104 [==============================] - 1s 5ms/step - loss: 1.1244 - accuracy: 0.5635 - val_loss: 1.1312 - val_accuracy: 0.5797\n",
            "Epoch 194/500\n",
            "104/104 [==============================] - 0s 5ms/step - loss: 1.1009 - accuracy: 0.5635 - val_loss: 1.1121 - val_accuracy: 0.6039\n",
            "Epoch 195/500\n",
            "104/104 [==============================] - 1s 5ms/step - loss: 1.1041 - accuracy: 0.5586 - val_loss: 1.1100 - val_accuracy: 0.6135\n",
            "Epoch 196/500\n",
            "104/104 [==============================] - 1s 5ms/step - loss: 1.1060 - accuracy: 0.5357 - val_loss: 1.0964 - val_accuracy: 0.6135\n",
            "Epoch 197/500\n",
            "104/104 [==============================] - 1s 5ms/step - loss: 1.0924 - accuracy: 0.5635 - val_loss: 1.1205 - val_accuracy: 0.6039\n",
            "Epoch 198/500\n",
            "104/104 [==============================] - 1s 5ms/step - loss: 1.0961 - accuracy: 0.5490 - val_loss: 1.1159 - val_accuracy: 0.5894\n",
            "Epoch 199/500\n",
            "104/104 [==============================] - 1s 5ms/step - loss: 1.1007 - accuracy: 0.5556 - val_loss: 1.1233 - val_accuracy: 0.5990\n",
            "Epoch 200/500\n",
            "104/104 [==============================] - 1s 5ms/step - loss: 1.1154 - accuracy: 0.5490 - val_loss: 1.1015 - val_accuracy: 0.6232\n",
            "Epoch 201/500\n",
            "104/104 [==============================] - 1s 5ms/step - loss: 1.1013 - accuracy: 0.5562 - val_loss: 1.0920 - val_accuracy: 0.6039\n",
            "Epoch 202/500\n",
            "104/104 [==============================] - 0s 5ms/step - loss: 1.0969 - accuracy: 0.5617 - val_loss: 1.1026 - val_accuracy: 0.5894\n",
            "Epoch 203/500\n",
            "104/104 [==============================] - 0s 5ms/step - loss: 1.1013 - accuracy: 0.5453 - val_loss: 1.0965 - val_accuracy: 0.6039\n",
            "Epoch 204/500\n",
            "104/104 [==============================] - 1s 5ms/step - loss: 1.0833 - accuracy: 0.5665 - val_loss: 1.1051 - val_accuracy: 0.5749\n",
            "Epoch 205/500\n",
            "104/104 [==============================] - 1s 5ms/step - loss: 1.0706 - accuracy: 0.5707 - val_loss: 1.0945 - val_accuracy: 0.5894\n",
            "Epoch 206/500\n",
            "104/104 [==============================] - 1s 5ms/step - loss: 1.0936 - accuracy: 0.5580 - val_loss: 1.0981 - val_accuracy: 0.5845\n",
            "Epoch 207/500\n",
            "104/104 [==============================] - 1s 5ms/step - loss: 1.0570 - accuracy: 0.5786 - val_loss: 1.0816 - val_accuracy: 0.6135\n",
            "Epoch 208/500\n",
            "104/104 [==============================] - 0s 5ms/step - loss: 1.0931 - accuracy: 0.5580 - val_loss: 1.0876 - val_accuracy: 0.5797\n",
            "Epoch 209/500\n",
            "104/104 [==============================] - 1s 5ms/step - loss: 1.0757 - accuracy: 0.5689 - val_loss: 1.0768 - val_accuracy: 0.6280\n",
            "Epoch 210/500\n",
            "104/104 [==============================] - 1s 5ms/step - loss: 1.0611 - accuracy: 0.5774 - val_loss: 1.0984 - val_accuracy: 0.5700\n",
            "Epoch 211/500\n",
            "104/104 [==============================] - 1s 5ms/step - loss: 1.0528 - accuracy: 0.5665 - val_loss: 1.0899 - val_accuracy: 0.6087\n",
            "Epoch 212/500\n",
            "104/104 [==============================] - 1s 5ms/step - loss: 1.0816 - accuracy: 0.5605 - val_loss: 1.0941 - val_accuracy: 0.6232\n",
            "Epoch 213/500\n",
            "104/104 [==============================] - 1s 5ms/step - loss: 1.0508 - accuracy: 0.5859 - val_loss: 1.0942 - val_accuracy: 0.5797\n",
            "Epoch 214/500\n",
            "104/104 [==============================] - 1s 5ms/step - loss: 1.0620 - accuracy: 0.5732 - val_loss: 1.0922 - val_accuracy: 0.6135\n",
            "Epoch 215/500\n",
            "104/104 [==============================] - 1s 5ms/step - loss: 1.0671 - accuracy: 0.5744 - val_loss: 1.0942 - val_accuracy: 0.5797\n",
            "Epoch 216/500\n",
            "104/104 [==============================] - 1s 5ms/step - loss: 1.0521 - accuracy: 0.5732 - val_loss: 1.1054 - val_accuracy: 0.5942\n",
            "Epoch 217/500\n",
            "104/104 [==============================] - 1s 5ms/step - loss: 1.0763 - accuracy: 0.5586 - val_loss: 1.0764 - val_accuracy: 0.6184\n",
            "Epoch 218/500\n",
            "104/104 [==============================] - 1s 5ms/step - loss: 1.0473 - accuracy: 0.5762 - val_loss: 1.0783 - val_accuracy: 0.5942\n",
            "Epoch 219/500\n",
            "104/104 [==============================] - 0s 5ms/step - loss: 1.0555 - accuracy: 0.5768 - val_loss: 1.0980 - val_accuracy: 0.5797\n",
            "Epoch 220/500\n",
            "104/104 [==============================] - 0s 5ms/step - loss: 1.0409 - accuracy: 0.6016 - val_loss: 1.0593 - val_accuracy: 0.6135\n",
            "Epoch 221/500\n",
            "104/104 [==============================] - 0s 5ms/step - loss: 1.0214 - accuracy: 0.5889 - val_loss: 1.0575 - val_accuracy: 0.6039\n",
            "Epoch 222/500\n",
            "104/104 [==============================] - 1s 5ms/step - loss: 1.0362 - accuracy: 0.5822 - val_loss: 1.0622 - val_accuracy: 0.6329\n",
            "Epoch 223/500\n",
            "104/104 [==============================] - 0s 5ms/step - loss: 1.0530 - accuracy: 0.5979 - val_loss: 1.0574 - val_accuracy: 0.6135\n",
            "Epoch 224/500\n",
            "104/104 [==============================] - 1s 5ms/step - loss: 1.0342 - accuracy: 0.5768 - val_loss: 1.0675 - val_accuracy: 0.5942\n",
            "Epoch 225/500\n",
            "104/104 [==============================] - 0s 5ms/step - loss: 1.0479 - accuracy: 0.5707 - val_loss: 1.0596 - val_accuracy: 0.6232\n",
            "Epoch 226/500\n",
            "104/104 [==============================] - 1s 5ms/step - loss: 1.0213 - accuracy: 0.5834 - val_loss: 1.0576 - val_accuracy: 0.5845\n",
            "Epoch 227/500\n",
            "104/104 [==============================] - 1s 5ms/step - loss: 1.0266 - accuracy: 0.5792 - val_loss: 1.0862 - val_accuracy: 0.5797\n",
            "Epoch 228/500\n",
            "104/104 [==============================] - 1s 5ms/step - loss: 1.0224 - accuracy: 0.5931 - val_loss: 1.0644 - val_accuracy: 0.5797\n",
            "Epoch 229/500\n",
            "104/104 [==============================] - 1s 5ms/step - loss: 1.0369 - accuracy: 0.5949 - val_loss: 1.0481 - val_accuracy: 0.6184\n",
            "Epoch 230/500\n",
            "104/104 [==============================] - 1s 5ms/step - loss: 1.0183 - accuracy: 0.5877 - val_loss: 1.0345 - val_accuracy: 0.6039\n",
            "Epoch 231/500\n",
            "104/104 [==============================] - 1s 5ms/step - loss: 1.0386 - accuracy: 0.5828 - val_loss: 1.0586 - val_accuracy: 0.5894\n",
            "Epoch 232/500\n",
            "104/104 [==============================] - 1s 5ms/step - loss: 1.0385 - accuracy: 0.5877 - val_loss: 1.0520 - val_accuracy: 0.6135\n",
            "Epoch 233/500\n",
            "104/104 [==============================] - 1s 5ms/step - loss: 1.0090 - accuracy: 0.6010 - val_loss: 1.0454 - val_accuracy: 0.6377\n",
            "Epoch 234/500\n",
            "104/104 [==============================] - 0s 5ms/step - loss: 1.0152 - accuracy: 0.6016 - val_loss: 1.0688 - val_accuracy: 0.6087\n",
            "Epoch 235/500\n",
            "104/104 [==============================] - 1s 5ms/step - loss: 1.0109 - accuracy: 0.5961 - val_loss: 1.0537 - val_accuracy: 0.6135\n",
            "Epoch 236/500\n",
            "104/104 [==============================] - 0s 5ms/step - loss: 1.0135 - accuracy: 0.6004 - val_loss: 1.0228 - val_accuracy: 0.6425\n",
            "Epoch 237/500\n",
            "104/104 [==============================] - 1s 5ms/step - loss: 1.0078 - accuracy: 0.5943 - val_loss: 1.0167 - val_accuracy: 0.6618\n",
            "Epoch 238/500\n",
            "104/104 [==============================] - 0s 5ms/step - loss: 1.0245 - accuracy: 0.5871 - val_loss: 1.0274 - val_accuracy: 0.5845\n",
            "Epoch 239/500\n",
            "104/104 [==============================] - 1s 5ms/step - loss: 1.0083 - accuracy: 0.5955 - val_loss: 1.0481 - val_accuracy: 0.5845\n",
            "Epoch 240/500\n",
            "104/104 [==============================] - 1s 5ms/step - loss: 1.0192 - accuracy: 0.5901 - val_loss: 1.0436 - val_accuracy: 0.6232\n",
            "Epoch 241/500\n",
            "104/104 [==============================] - 0s 5ms/step - loss: 1.0049 - accuracy: 0.5913 - val_loss: 1.0217 - val_accuracy: 0.5990\n",
            "Epoch 242/500\n",
            "104/104 [==============================] - 1s 5ms/step - loss: 1.0246 - accuracy: 0.5913 - val_loss: 1.0231 - val_accuracy: 0.6329\n",
            "Epoch 243/500\n",
            "104/104 [==============================] - 1s 5ms/step - loss: 1.0004 - accuracy: 0.6016 - val_loss: 1.0186 - val_accuracy: 0.6184\n",
            "Epoch 244/500\n",
            "104/104 [==============================] - 1s 5ms/step - loss: 0.9759 - accuracy: 0.6088 - val_loss: 1.0254 - val_accuracy: 0.6087\n",
            "Epoch 245/500\n",
            "104/104 [==============================] - 0s 5ms/step - loss: 0.9988 - accuracy: 0.5955 - val_loss: 1.0130 - val_accuracy: 0.6135\n",
            "Epoch 246/500\n",
            "104/104 [==============================] - 1s 5ms/step - loss: 0.9952 - accuracy: 0.6100 - val_loss: 0.9914 - val_accuracy: 0.6618\n",
            "Epoch 247/500\n",
            "104/104 [==============================] - 0s 5ms/step - loss: 1.0039 - accuracy: 0.5992 - val_loss: 1.0268 - val_accuracy: 0.6184\n",
            "Epoch 248/500\n",
            "104/104 [==============================] - 0s 5ms/step - loss: 0.9950 - accuracy: 0.6022 - val_loss: 0.9928 - val_accuracy: 0.6522\n",
            "Epoch 249/500\n",
            "104/104 [==============================] - 0s 5ms/step - loss: 1.0115 - accuracy: 0.5901 - val_loss: 1.0297 - val_accuracy: 0.6280\n",
            "Epoch 250/500\n",
            "104/104 [==============================] - 0s 5ms/step - loss: 0.9925 - accuracy: 0.5937 - val_loss: 1.0033 - val_accuracy: 0.6232\n",
            "Epoch 251/500\n",
            "104/104 [==============================] - 1s 5ms/step - loss: 0.9864 - accuracy: 0.6052 - val_loss: 1.0087 - val_accuracy: 0.6184\n",
            "Epoch 252/500\n",
            "104/104 [==============================] - 0s 5ms/step - loss: 0.9887 - accuracy: 0.6088 - val_loss: 1.0085 - val_accuracy: 0.6280\n",
            "Epoch 253/500\n",
            "104/104 [==============================] - 1s 5ms/step - loss: 0.9866 - accuracy: 0.5961 - val_loss: 0.9971 - val_accuracy: 0.5990\n",
            "Epoch 254/500\n",
            "104/104 [==============================] - 0s 5ms/step - loss: 0.9801 - accuracy: 0.6058 - val_loss: 1.0054 - val_accuracy: 0.6377\n",
            "Epoch 255/500\n",
            "104/104 [==============================] - 1s 5ms/step - loss: 0.9881 - accuracy: 0.5973 - val_loss: 1.0047 - val_accuracy: 0.6135\n",
            "Epoch 256/500\n",
            "104/104 [==============================] - 1s 5ms/step - loss: 0.9700 - accuracy: 0.6149 - val_loss: 0.9962 - val_accuracy: 0.6184\n",
            "Epoch 257/500\n",
            "104/104 [==============================] - 1s 5ms/step - loss: 0.9569 - accuracy: 0.6143 - val_loss: 1.0103 - val_accuracy: 0.6232\n",
            "Epoch 258/500\n",
            "104/104 [==============================] - 1s 5ms/step - loss: 0.9942 - accuracy: 0.6010 - val_loss: 1.0029 - val_accuracy: 0.5894\n",
            "Epoch 259/500\n",
            "104/104 [==============================] - 1s 5ms/step - loss: 0.9700 - accuracy: 0.6119 - val_loss: 0.9926 - val_accuracy: 0.6280\n",
            "Epoch 260/500\n",
            "104/104 [==============================] - 1s 5ms/step - loss: 0.9755 - accuracy: 0.5998 - val_loss: 0.9881 - val_accuracy: 0.6425\n",
            "Epoch 261/500\n",
            "104/104 [==============================] - 1s 5ms/step - loss: 0.9540 - accuracy: 0.6185 - val_loss: 0.9679 - val_accuracy: 0.6667\n",
            "Epoch 262/500\n",
            "104/104 [==============================] - 1s 5ms/step - loss: 0.9743 - accuracy: 0.6149 - val_loss: 0.9708 - val_accuracy: 0.6473\n",
            "Epoch 263/500\n",
            "104/104 [==============================] - 1s 5ms/step - loss: 0.9647 - accuracy: 0.6131 - val_loss: 0.9933 - val_accuracy: 0.6280\n",
            "Epoch 264/500\n",
            "104/104 [==============================] - 1s 5ms/step - loss: 0.9447 - accuracy: 0.6137 - val_loss: 0.9926 - val_accuracy: 0.6473\n",
            "Epoch 265/500\n",
            "104/104 [==============================] - 1s 5ms/step - loss: 0.9474 - accuracy: 0.6227 - val_loss: 0.9694 - val_accuracy: 0.6280\n",
            "Epoch 266/500\n",
            "104/104 [==============================] - 1s 5ms/step - loss: 0.9653 - accuracy: 0.6106 - val_loss: 0.9892 - val_accuracy: 0.6377\n",
            "Epoch 267/500\n",
            "104/104 [==============================] - 1s 5ms/step - loss: 0.9482 - accuracy: 0.6143 - val_loss: 0.9888 - val_accuracy: 0.6280\n",
            "Epoch 268/500\n",
            "104/104 [==============================] - 1s 5ms/step - loss: 0.9541 - accuracy: 0.6064 - val_loss: 0.9710 - val_accuracy: 0.6280\n",
            "Epoch 269/500\n",
            "104/104 [==============================] - 0s 5ms/step - loss: 0.9687 - accuracy: 0.6233 - val_loss: 0.9610 - val_accuracy: 0.6763\n",
            "Epoch 270/500\n",
            "104/104 [==============================] - 1s 5ms/step - loss: 0.9455 - accuracy: 0.6227 - val_loss: 0.9691 - val_accuracy: 0.6618\n",
            "Epoch 271/500\n",
            "104/104 [==============================] - 1s 5ms/step - loss: 0.9414 - accuracy: 0.6179 - val_loss: 0.9928 - val_accuracy: 0.6329\n",
            "Epoch 272/500\n",
            "104/104 [==============================] - 1s 5ms/step - loss: 0.9387 - accuracy: 0.6239 - val_loss: 0.9716 - val_accuracy: 0.6522\n",
            "Epoch 273/500\n",
            "104/104 [==============================] - 1s 5ms/step - loss: 0.9537 - accuracy: 0.6131 - val_loss: 0.9696 - val_accuracy: 0.6473\n",
            "Epoch 274/500\n",
            "104/104 [==============================] - 1s 5ms/step - loss: 0.9384 - accuracy: 0.6354 - val_loss: 0.9784 - val_accuracy: 0.6473\n",
            "Epoch 275/500\n",
            "104/104 [==============================] - 1s 5ms/step - loss: 0.9233 - accuracy: 0.6415 - val_loss: 0.9641 - val_accuracy: 0.6232\n",
            "Epoch 276/500\n",
            "104/104 [==============================] - 1s 5ms/step - loss: 0.9311 - accuracy: 0.6348 - val_loss: 0.9674 - val_accuracy: 0.6570\n",
            "Epoch 277/500\n",
            "104/104 [==============================] - 1s 5ms/step - loss: 0.9197 - accuracy: 0.6354 - val_loss: 0.9814 - val_accuracy: 0.6377\n",
            "Epoch 278/500\n",
            "104/104 [==============================] - 1s 5ms/step - loss: 0.9320 - accuracy: 0.6312 - val_loss: 0.9614 - val_accuracy: 0.6522\n",
            "Epoch 279/500\n",
            "104/104 [==============================] - 1s 5ms/step - loss: 0.9188 - accuracy: 0.6403 - val_loss: 0.9873 - val_accuracy: 0.6184\n",
            "Epoch 280/500\n",
            "104/104 [==============================] - 1s 5ms/step - loss: 0.9390 - accuracy: 0.6336 - val_loss: 0.9643 - val_accuracy: 0.6087\n",
            "Epoch 281/500\n",
            "104/104 [==============================] - 1s 5ms/step - loss: 0.9317 - accuracy: 0.6385 - val_loss: 0.9777 - val_accuracy: 0.6377\n",
            "Epoch 282/500\n",
            "104/104 [==============================] - 1s 5ms/step - loss: 0.9368 - accuracy: 0.6185 - val_loss: 0.9690 - val_accuracy: 0.6135\n",
            "Epoch 283/500\n",
            "104/104 [==============================] - 1s 5ms/step - loss: 0.9336 - accuracy: 0.6318 - val_loss: 0.9517 - val_accuracy: 0.6473\n",
            "Epoch 284/500\n",
            "104/104 [==============================] - 1s 5ms/step - loss: 0.9318 - accuracy: 0.6391 - val_loss: 0.9478 - val_accuracy: 0.6184\n",
            "Epoch 285/500\n",
            "104/104 [==============================] - 1s 5ms/step - loss: 0.9309 - accuracy: 0.6209 - val_loss: 0.9711 - val_accuracy: 0.6329\n",
            "Epoch 286/500\n",
            "104/104 [==============================] - 1s 5ms/step - loss: 0.9164 - accuracy: 0.6348 - val_loss: 0.9333 - val_accuracy: 0.6812\n",
            "Epoch 287/500\n",
            "104/104 [==============================] - 1s 5ms/step - loss: 0.9168 - accuracy: 0.6258 - val_loss: 0.9464 - val_accuracy: 0.6329\n",
            "Epoch 288/500\n",
            "104/104 [==============================] - 1s 5ms/step - loss: 0.9024 - accuracy: 0.6354 - val_loss: 0.9375 - val_accuracy: 0.6570\n",
            "Epoch 289/500\n",
            "104/104 [==============================] - 1s 5ms/step - loss: 0.9252 - accuracy: 0.6409 - val_loss: 0.9448 - val_accuracy: 0.6667\n",
            "Epoch 290/500\n",
            "104/104 [==============================] - 1s 5ms/step - loss: 0.9240 - accuracy: 0.6493 - val_loss: 0.9502 - val_accuracy: 0.6522\n",
            "Epoch 291/500\n",
            "104/104 [==============================] - 1s 5ms/step - loss: 0.9176 - accuracy: 0.6445 - val_loss: 0.9432 - val_accuracy: 0.6425\n",
            "Epoch 292/500\n",
            "104/104 [==============================] - 1s 5ms/step - loss: 0.9124 - accuracy: 0.6397 - val_loss: 0.9350 - val_accuracy: 0.6618\n",
            "Epoch 293/500\n",
            "104/104 [==============================] - 1s 5ms/step - loss: 0.9135 - accuracy: 0.6348 - val_loss: 0.9416 - val_accuracy: 0.6763\n",
            "Epoch 294/500\n",
            "104/104 [==============================] - 1s 5ms/step - loss: 0.9264 - accuracy: 0.6342 - val_loss: 0.9275 - val_accuracy: 0.6667\n",
            "Epoch 295/500\n",
            "104/104 [==============================] - 1s 5ms/step - loss: 0.9045 - accuracy: 0.6505 - val_loss: 0.9319 - val_accuracy: 0.6667\n",
            "Epoch 296/500\n",
            "104/104 [==============================] - 1s 5ms/step - loss: 0.9471 - accuracy: 0.6252 - val_loss: 0.9362 - val_accuracy: 0.6860\n",
            "Epoch 297/500\n",
            "104/104 [==============================] - 1s 5ms/step - loss: 0.9015 - accuracy: 0.6433 - val_loss: 0.9384 - val_accuracy: 0.6812\n",
            "Epoch 298/500\n",
            "104/104 [==============================] - 1s 5ms/step - loss: 0.9092 - accuracy: 0.6378 - val_loss: 0.9254 - val_accuracy: 0.6957\n",
            "Epoch 299/500\n",
            "104/104 [==============================] - 1s 5ms/step - loss: 0.8861 - accuracy: 0.6548 - val_loss: 0.9227 - val_accuracy: 0.6812\n",
            "Epoch 300/500\n",
            "104/104 [==============================] - 1s 5ms/step - loss: 0.9031 - accuracy: 0.6403 - val_loss: 0.9024 - val_accuracy: 0.6763\n",
            "Epoch 301/500\n",
            "104/104 [==============================] - 1s 5ms/step - loss: 0.8659 - accuracy: 0.6578 - val_loss: 0.9119 - val_accuracy: 0.6522\n",
            "Epoch 302/500\n",
            "104/104 [==============================] - 1s 5ms/step - loss: 0.9003 - accuracy: 0.6294 - val_loss: 0.8999 - val_accuracy: 0.6618\n",
            "Epoch 303/500\n",
            "104/104 [==============================] - 1s 5ms/step - loss: 0.8807 - accuracy: 0.6560 - val_loss: 0.9223 - val_accuracy: 0.6667\n",
            "Epoch 304/500\n",
            "104/104 [==============================] - 1s 7ms/step - loss: 0.8919 - accuracy: 0.6409 - val_loss: 0.9264 - val_accuracy: 0.6618\n",
            "Epoch 305/500\n",
            "104/104 [==============================] - 1s 6ms/step - loss: 0.8977 - accuracy: 0.6493 - val_loss: 0.9189 - val_accuracy: 0.6715\n",
            "Epoch 306/500\n",
            "104/104 [==============================] - 1s 6ms/step - loss: 0.8705 - accuracy: 0.6638 - val_loss: 0.9319 - val_accuracy: 0.6425\n",
            "Epoch 307/500\n",
            "104/104 [==============================] - 1s 7ms/step - loss: 0.8949 - accuracy: 0.6542 - val_loss: 0.9269 - val_accuracy: 0.6232\n",
            "Epoch 308/500\n",
            "104/104 [==============================] - 1s 6ms/step - loss: 0.8954 - accuracy: 0.6487 - val_loss: 0.9059 - val_accuracy: 0.6908\n",
            "Epoch 309/500\n",
            "104/104 [==============================] - 1s 5ms/step - loss: 0.8867 - accuracy: 0.6487 - val_loss: 0.9321 - val_accuracy: 0.6667\n",
            "Epoch 310/500\n",
            "104/104 [==============================] - 1s 5ms/step - loss: 0.8911 - accuracy: 0.6439 - val_loss: 0.9092 - val_accuracy: 0.6763\n",
            "Epoch 311/500\n",
            "104/104 [==============================] - 1s 5ms/step - loss: 0.8690 - accuracy: 0.6669 - val_loss: 0.8928 - val_accuracy: 0.7005\n",
            "Epoch 312/500\n",
            "104/104 [==============================] - 1s 5ms/step - loss: 0.8891 - accuracy: 0.6366 - val_loss: 0.9246 - val_accuracy: 0.6280\n",
            "Epoch 313/500\n",
            "104/104 [==============================] - 1s 5ms/step - loss: 0.8778 - accuracy: 0.6590 - val_loss: 0.9028 - val_accuracy: 0.6763\n",
            "Epoch 314/500\n",
            "104/104 [==============================] - 1s 5ms/step - loss: 0.8837 - accuracy: 0.6439 - val_loss: 0.8997 - val_accuracy: 0.6425\n",
            "Epoch 315/500\n",
            "104/104 [==============================] - 1s 5ms/step - loss: 0.8729 - accuracy: 0.6511 - val_loss: 0.9039 - val_accuracy: 0.6329\n",
            "Epoch 316/500\n",
            "104/104 [==============================] - 1s 5ms/step - loss: 0.8799 - accuracy: 0.6493 - val_loss: 0.8882 - val_accuracy: 0.6763\n",
            "Epoch 317/500\n",
            "104/104 [==============================] - 1s 5ms/step - loss: 0.8702 - accuracy: 0.6548 - val_loss: 0.9058 - val_accuracy: 0.6715\n",
            "Epoch 318/500\n",
            "104/104 [==============================] - 1s 5ms/step - loss: 0.8661 - accuracy: 0.6590 - val_loss: 0.8917 - val_accuracy: 0.6763\n",
            "Epoch 319/500\n",
            "104/104 [==============================] - 1s 5ms/step - loss: 0.8726 - accuracy: 0.6572 - val_loss: 0.9110 - val_accuracy: 0.6618\n",
            "Epoch 320/500\n",
            "104/104 [==============================] - 1s 5ms/step - loss: 0.8589 - accuracy: 0.6644 - val_loss: 0.9025 - val_accuracy: 0.6618\n",
            "Epoch 321/500\n",
            "104/104 [==============================] - 1s 5ms/step - loss: 0.8621 - accuracy: 0.6475 - val_loss: 0.8952 - val_accuracy: 0.6618\n",
            "Epoch 322/500\n",
            "104/104 [==============================] - 1s 5ms/step - loss: 0.8169 - accuracy: 0.6862 - val_loss: 0.9022 - val_accuracy: 0.6329\n",
            "Epoch 323/500\n",
            "104/104 [==============================] - 1s 5ms/step - loss: 0.8540 - accuracy: 0.6657 - val_loss: 0.9273 - val_accuracy: 0.6280\n",
            "Epoch 324/500\n",
            "104/104 [==============================] - 1s 5ms/step - loss: 0.8584 - accuracy: 0.6530 - val_loss: 0.9028 - val_accuracy: 0.6425\n",
            "Epoch 325/500\n",
            "104/104 [==============================] - 1s 5ms/step - loss: 0.8692 - accuracy: 0.6457 - val_loss: 0.8846 - val_accuracy: 0.6957\n",
            "Epoch 326/500\n",
            "104/104 [==============================] - 1s 5ms/step - loss: 0.8481 - accuracy: 0.6632 - val_loss: 0.8810 - val_accuracy: 0.7053\n",
            "Epoch 327/500\n",
            "104/104 [==============================] - 1s 5ms/step - loss: 0.8623 - accuracy: 0.6675 - val_loss: 0.8889 - val_accuracy: 0.6763\n",
            "Epoch 328/500\n",
            "104/104 [==============================] - 1s 5ms/step - loss: 0.8418 - accuracy: 0.6626 - val_loss: 0.9063 - val_accuracy: 0.6618\n",
            "Epoch 329/500\n",
            "104/104 [==============================] - 1s 5ms/step - loss: 0.8663 - accuracy: 0.6572 - val_loss: 0.9021 - val_accuracy: 0.6377\n",
            "Epoch 330/500\n",
            "104/104 [==============================] - 1s 5ms/step - loss: 0.8335 - accuracy: 0.6608 - val_loss: 0.8829 - val_accuracy: 0.6618\n",
            "Epoch 331/500\n",
            "104/104 [==============================] - 1s 5ms/step - loss: 0.8666 - accuracy: 0.6578 - val_loss: 0.8764 - val_accuracy: 0.6812\n",
            "Epoch 332/500\n",
            "104/104 [==============================] - 1s 5ms/step - loss: 0.8641 - accuracy: 0.6651 - val_loss: 0.8744 - val_accuracy: 0.6908\n",
            "Epoch 333/500\n",
            "104/104 [==============================] - 1s 5ms/step - loss: 0.8393 - accuracy: 0.6554 - val_loss: 0.8854 - val_accuracy: 0.6908\n",
            "Epoch 334/500\n",
            "104/104 [==============================] - 1s 5ms/step - loss: 0.8386 - accuracy: 0.6765 - val_loss: 0.8726 - val_accuracy: 0.6667\n",
            "Epoch 335/500\n",
            "104/104 [==============================] - 1s 5ms/step - loss: 0.8532 - accuracy: 0.6784 - val_loss: 0.8974 - val_accuracy: 0.6763\n",
            "Epoch 336/500\n",
            "104/104 [==============================] - 1s 5ms/step - loss: 0.8402 - accuracy: 0.6638 - val_loss: 0.8901 - val_accuracy: 0.6618\n",
            "Epoch 337/500\n",
            "104/104 [==============================] - 1s 5ms/step - loss: 0.8475 - accuracy: 0.6669 - val_loss: 0.8762 - val_accuracy: 0.6860\n",
            "Epoch 338/500\n",
            "104/104 [==============================] - 1s 5ms/step - loss: 0.8413 - accuracy: 0.6705 - val_loss: 0.8566 - val_accuracy: 0.7053\n",
            "Epoch 339/500\n",
            "104/104 [==============================] - 1s 5ms/step - loss: 0.8362 - accuracy: 0.6632 - val_loss: 0.8813 - val_accuracy: 0.6860\n",
            "Epoch 340/500\n",
            "104/104 [==============================] - 1s 5ms/step - loss: 0.8463 - accuracy: 0.6675 - val_loss: 0.8723 - val_accuracy: 0.6860\n",
            "Epoch 341/500\n",
            "104/104 [==============================] - 1s 5ms/step - loss: 0.8411 - accuracy: 0.6711 - val_loss: 0.8704 - val_accuracy: 0.6860\n",
            "Epoch 342/500\n",
            "104/104 [==============================] - 1s 5ms/step - loss: 0.8274 - accuracy: 0.6729 - val_loss: 0.8715 - val_accuracy: 0.7101\n",
            "Epoch 343/500\n",
            "104/104 [==============================] - 1s 5ms/step - loss: 0.8241 - accuracy: 0.6796 - val_loss: 0.8839 - val_accuracy: 0.6618\n",
            "Epoch 344/500\n",
            "104/104 [==============================] - 1s 5ms/step - loss: 0.8367 - accuracy: 0.6644 - val_loss: 0.8786 - val_accuracy: 0.6715\n",
            "Epoch 345/500\n",
            "104/104 [==============================] - 1s 5ms/step - loss: 0.8361 - accuracy: 0.6693 - val_loss: 0.8639 - val_accuracy: 0.7005\n",
            "Epoch 346/500\n",
            "104/104 [==============================] - 1s 5ms/step - loss: 0.8355 - accuracy: 0.6687 - val_loss: 0.8653 - val_accuracy: 0.6715\n",
            "Epoch 347/500\n",
            "104/104 [==============================] - 1s 5ms/step - loss: 0.8310 - accuracy: 0.6711 - val_loss: 0.8736 - val_accuracy: 0.6860\n",
            "Epoch 348/500\n",
            "104/104 [==============================] - 1s 5ms/step - loss: 0.8549 - accuracy: 0.6602 - val_loss: 0.8626 - val_accuracy: 0.6763\n",
            "Epoch 349/500\n",
            "104/104 [==============================] - 1s 5ms/step - loss: 0.8170 - accuracy: 0.6802 - val_loss: 0.8686 - val_accuracy: 0.6715\n",
            "Epoch 350/500\n",
            "104/104 [==============================] - 1s 5ms/step - loss: 0.8325 - accuracy: 0.6651 - val_loss: 0.8673 - val_accuracy: 0.6908\n",
            "Epoch 351/500\n",
            "104/104 [==============================] - 1s 5ms/step - loss: 0.8103 - accuracy: 0.6856 - val_loss: 0.8547 - val_accuracy: 0.7053\n",
            "Epoch 352/500\n",
            "104/104 [==============================] - 1s 5ms/step - loss: 0.8449 - accuracy: 0.6590 - val_loss: 0.8825 - val_accuracy: 0.6667\n",
            "Epoch 353/500\n",
            "104/104 [==============================] - 1s 5ms/step - loss: 0.8280 - accuracy: 0.6820 - val_loss: 0.8658 - val_accuracy: 0.6667\n",
            "Epoch 354/500\n",
            "104/104 [==============================] - 1s 5ms/step - loss: 0.7897 - accuracy: 0.6778 - val_loss: 0.8569 - val_accuracy: 0.6812\n",
            "Epoch 355/500\n",
            "104/104 [==============================] - 1s 5ms/step - loss: 0.8166 - accuracy: 0.6699 - val_loss: 0.8879 - val_accuracy: 0.6570\n",
            "Epoch 356/500\n",
            "104/104 [==============================] - 1s 5ms/step - loss: 0.8200 - accuracy: 0.6735 - val_loss: 0.8689 - val_accuracy: 0.6812\n",
            "Epoch 357/500\n",
            "104/104 [==============================] - 1s 5ms/step - loss: 0.8147 - accuracy: 0.6765 - val_loss: 0.8413 - val_accuracy: 0.7246\n",
            "Epoch 358/500\n",
            "104/104 [==============================] - 1s 5ms/step - loss: 0.8129 - accuracy: 0.6838 - val_loss: 0.8464 - val_accuracy: 0.6860\n",
            "Epoch 359/500\n",
            "104/104 [==============================] - 1s 5ms/step - loss: 0.8105 - accuracy: 0.6844 - val_loss: 0.8446 - val_accuracy: 0.6763\n",
            "Epoch 360/500\n",
            "104/104 [==============================] - 1s 5ms/step - loss: 0.8243 - accuracy: 0.6765 - val_loss: 0.8393 - val_accuracy: 0.7005\n",
            "Epoch 361/500\n",
            "104/104 [==============================] - 0s 5ms/step - loss: 0.8080 - accuracy: 0.6820 - val_loss: 0.8458 - val_accuracy: 0.6812\n",
            "Epoch 362/500\n",
            "104/104 [==============================] - 1s 5ms/step - loss: 0.8203 - accuracy: 0.6898 - val_loss: 0.8402 - val_accuracy: 0.7005\n",
            "Epoch 363/500\n",
            "104/104 [==============================] - 1s 5ms/step - loss: 0.8084 - accuracy: 0.6880 - val_loss: 0.8397 - val_accuracy: 0.7005\n",
            "Epoch 364/500\n",
            "104/104 [==============================] - 1s 5ms/step - loss: 0.8058 - accuracy: 0.6820 - val_loss: 0.8378 - val_accuracy: 0.7198\n",
            "Epoch 365/500\n",
            "104/104 [==============================] - 1s 5ms/step - loss: 0.8008 - accuracy: 0.6904 - val_loss: 0.8350 - val_accuracy: 0.6908\n",
            "Epoch 366/500\n",
            "104/104 [==============================] - 1s 6ms/step - loss: 0.8010 - accuracy: 0.6753 - val_loss: 0.8524 - val_accuracy: 0.7005\n",
            "Epoch 367/500\n",
            "104/104 [==============================] - 1s 5ms/step - loss: 0.8019 - accuracy: 0.6929 - val_loss: 0.8431 - val_accuracy: 0.7101\n",
            "Epoch 368/500\n",
            "104/104 [==============================] - 1s 5ms/step - loss: 0.8005 - accuracy: 0.6929 - val_loss: 0.8397 - val_accuracy: 0.7101\n",
            "Epoch 369/500\n",
            "104/104 [==============================] - 1s 5ms/step - loss: 0.8117 - accuracy: 0.6874 - val_loss: 0.8296 - val_accuracy: 0.6908\n",
            "Epoch 370/500\n",
            "104/104 [==============================] - 1s 5ms/step - loss: 0.8041 - accuracy: 0.6947 - val_loss: 0.8304 - val_accuracy: 0.7101\n",
            "Epoch 371/500\n",
            "104/104 [==============================] - 1s 5ms/step - loss: 0.7954 - accuracy: 0.7001 - val_loss: 0.8437 - val_accuracy: 0.6812\n",
            "Epoch 372/500\n",
            "104/104 [==============================] - 1s 5ms/step - loss: 0.7933 - accuracy: 0.6886 - val_loss: 0.8371 - val_accuracy: 0.6957\n",
            "Epoch 373/500\n",
            "104/104 [==============================] - 1s 5ms/step - loss: 0.7889 - accuracy: 0.6838 - val_loss: 0.8436 - val_accuracy: 0.7005\n",
            "Epoch 374/500\n",
            "104/104 [==============================] - 1s 5ms/step - loss: 0.7900 - accuracy: 0.6808 - val_loss: 0.8278 - val_accuracy: 0.6957\n",
            "Epoch 375/500\n",
            "104/104 [==============================] - 1s 5ms/step - loss: 0.8067 - accuracy: 0.6687 - val_loss: 0.8367 - val_accuracy: 0.7150\n",
            "Epoch 376/500\n",
            "104/104 [==============================] - 1s 5ms/step - loss: 0.7855 - accuracy: 0.6898 - val_loss: 0.8443 - val_accuracy: 0.6860\n",
            "Epoch 377/500\n",
            "104/104 [==============================] - 1s 5ms/step - loss: 0.7813 - accuracy: 0.6796 - val_loss: 0.8345 - val_accuracy: 0.7198\n",
            "Epoch 378/500\n",
            "104/104 [==============================] - 1s 5ms/step - loss: 0.7977 - accuracy: 0.6971 - val_loss: 0.8327 - val_accuracy: 0.6957\n",
            "Epoch 379/500\n",
            "104/104 [==============================] - 1s 5ms/step - loss: 0.7767 - accuracy: 0.6892 - val_loss: 0.8366 - val_accuracy: 0.7391\n",
            "Epoch 380/500\n",
            "104/104 [==============================] - 1s 5ms/step - loss: 0.8007 - accuracy: 0.6705 - val_loss: 0.8346 - val_accuracy: 0.6812\n",
            "Epoch 381/500\n",
            "104/104 [==============================] - 1s 5ms/step - loss: 0.7926 - accuracy: 0.6790 - val_loss: 0.8413 - val_accuracy: 0.7053\n",
            "Epoch 382/500\n",
            "104/104 [==============================] - 1s 5ms/step - loss: 0.7858 - accuracy: 0.6850 - val_loss: 0.8556 - val_accuracy: 0.6860\n",
            "Epoch 383/500\n",
            "104/104 [==============================] - 1s 5ms/step - loss: 0.8030 - accuracy: 0.6741 - val_loss: 0.8528 - val_accuracy: 0.6618\n",
            "Epoch 384/500\n",
            "104/104 [==============================] - 1s 5ms/step - loss: 0.7716 - accuracy: 0.7074 - val_loss: 0.8367 - val_accuracy: 0.6715\n",
            "Epoch 385/500\n",
            "104/104 [==============================] - 1s 5ms/step - loss: 0.7807 - accuracy: 0.6929 - val_loss: 0.8439 - val_accuracy: 0.6908\n",
            "Epoch 386/500\n",
            "104/104 [==============================] - 1s 5ms/step - loss: 0.7663 - accuracy: 0.6917 - val_loss: 0.8581 - val_accuracy: 0.6957\n",
            "Epoch 387/500\n",
            "104/104 [==============================] - 1s 5ms/step - loss: 0.7894 - accuracy: 0.6814 - val_loss: 0.8620 - val_accuracy: 0.6812\n",
            "Epoch 388/500\n",
            "104/104 [==============================] - 1s 5ms/step - loss: 0.7881 - accuracy: 0.6832 - val_loss: 0.8297 - val_accuracy: 0.7053\n",
            "Epoch 389/500\n",
            "104/104 [==============================] - 1s 5ms/step - loss: 0.7866 - accuracy: 0.6880 - val_loss: 0.8360 - val_accuracy: 0.7005\n",
            "Epoch 390/500\n",
            "104/104 [==============================] - 1s 6ms/step - loss: 0.7804 - accuracy: 0.6923 - val_loss: 0.8172 - val_accuracy: 0.7005\n",
            "Epoch 391/500\n",
            "104/104 [==============================] - 1s 5ms/step - loss: 0.7931 - accuracy: 0.6892 - val_loss: 0.8303 - val_accuracy: 0.6957\n",
            "Epoch 392/500\n",
            "104/104 [==============================] - 1s 5ms/step - loss: 0.7978 - accuracy: 0.6820 - val_loss: 0.8380 - val_accuracy: 0.7150\n",
            "Epoch 393/500\n",
            "104/104 [==============================] - 1s 5ms/step - loss: 0.8002 - accuracy: 0.6874 - val_loss: 0.8279 - val_accuracy: 0.6908\n",
            "Epoch 394/500\n",
            "104/104 [==============================] - 1s 5ms/step - loss: 0.7834 - accuracy: 0.6814 - val_loss: 0.8188 - val_accuracy: 0.7246\n",
            "Epoch 395/500\n",
            "104/104 [==============================] - 1s 5ms/step - loss: 0.7769 - accuracy: 0.6898 - val_loss: 0.8372 - val_accuracy: 0.7005\n",
            "Epoch 396/500\n",
            "104/104 [==============================] - 1s 5ms/step - loss: 0.7820 - accuracy: 0.6771 - val_loss: 0.8168 - val_accuracy: 0.7246\n",
            "Epoch 397/500\n",
            "104/104 [==============================] - 1s 5ms/step - loss: 0.7574 - accuracy: 0.7044 - val_loss: 0.8305 - val_accuracy: 0.7150\n",
            "Epoch 398/500\n",
            "104/104 [==============================] - 1s 5ms/step - loss: 0.7710 - accuracy: 0.7019 - val_loss: 0.8102 - val_accuracy: 0.6908\n",
            "Epoch 399/500\n",
            "104/104 [==============================] - 1s 6ms/step - loss: 0.7802 - accuracy: 0.6923 - val_loss: 0.8261 - val_accuracy: 0.7005\n",
            "Epoch 400/500\n",
            "104/104 [==============================] - 1s 5ms/step - loss: 0.7541 - accuracy: 0.7044 - val_loss: 0.7991 - val_accuracy: 0.7150\n",
            "Epoch 401/500\n",
            "104/104 [==============================] - 1s 5ms/step - loss: 0.7647 - accuracy: 0.7080 - val_loss: 0.8123 - val_accuracy: 0.6908\n",
            "Epoch 402/500\n",
            "104/104 [==============================] - 1s 5ms/step - loss: 0.7601 - accuracy: 0.7110 - val_loss: 0.8146 - val_accuracy: 0.7198\n",
            "Epoch 403/500\n",
            "104/104 [==============================] - 1s 5ms/step - loss: 0.7590 - accuracy: 0.7086 - val_loss: 0.8082 - val_accuracy: 0.7005\n",
            "Epoch 404/500\n",
            "104/104 [==============================] - 1s 6ms/step - loss: 0.7737 - accuracy: 0.6977 - val_loss: 0.8252 - val_accuracy: 0.7005\n",
            "Epoch 405/500\n",
            "104/104 [==============================] - 1s 5ms/step - loss: 0.7831 - accuracy: 0.6983 - val_loss: 0.8286 - val_accuracy: 0.7005\n",
            "Epoch 406/500\n",
            "104/104 [==============================] - 1s 5ms/step - loss: 0.7591 - accuracy: 0.6959 - val_loss: 0.8537 - val_accuracy: 0.6618\n",
            "Epoch 407/500\n",
            "104/104 [==============================] - 1s 5ms/step - loss: 0.7397 - accuracy: 0.7037 - val_loss: 0.8286 - val_accuracy: 0.6812\n",
            "Epoch 408/500\n",
            "104/104 [==============================] - 1s 5ms/step - loss: 0.7736 - accuracy: 0.7068 - val_loss: 0.8279 - val_accuracy: 0.6715\n",
            "Epoch 409/500\n",
            "104/104 [==============================] - 1s 6ms/step - loss: 0.7842 - accuracy: 0.6917 - val_loss: 0.8289 - val_accuracy: 0.7005\n",
            "Epoch 410/500\n",
            "104/104 [==============================] - 1s 6ms/step - loss: 0.7506 - accuracy: 0.7086 - val_loss: 0.8207 - val_accuracy: 0.6860\n",
            "Epoch 411/500\n",
            "104/104 [==============================] - 1s 5ms/step - loss: 0.7717 - accuracy: 0.7031 - val_loss: 0.8375 - val_accuracy: 0.6908\n",
            "Epoch 412/500\n",
            "104/104 [==============================] - 1s 5ms/step - loss: 0.7729 - accuracy: 0.6983 - val_loss: 0.8249 - val_accuracy: 0.6715\n",
            "Epoch 413/500\n",
            "104/104 [==============================] - 1s 6ms/step - loss: 0.7656 - accuracy: 0.6953 - val_loss: 0.8072 - val_accuracy: 0.7005\n",
            "Epoch 414/500\n",
            "104/104 [==============================] - 1s 5ms/step - loss: 0.7620 - accuracy: 0.6995 - val_loss: 0.8339 - val_accuracy: 0.7150\n",
            "Epoch 415/500\n",
            "104/104 [==============================] - 1s 5ms/step - loss: 0.7645 - accuracy: 0.7013 - val_loss: 0.8271 - val_accuracy: 0.7053\n",
            "Epoch 416/500\n",
            "104/104 [==============================] - 1s 5ms/step - loss: 0.7491 - accuracy: 0.6977 - val_loss: 0.8188 - val_accuracy: 0.7101\n",
            "Epoch 417/500\n",
            "104/104 [==============================] - 1s 5ms/step - loss: 0.7442 - accuracy: 0.7074 - val_loss: 0.8013 - val_accuracy: 0.7053\n",
            "Epoch 418/500\n",
            "104/104 [==============================] - 1s 5ms/step - loss: 0.7513 - accuracy: 0.7164 - val_loss: 0.8221 - val_accuracy: 0.6908\n",
            "Epoch 419/500\n",
            "104/104 [==============================] - 1s 5ms/step - loss: 0.7459 - accuracy: 0.7031 - val_loss: 0.8141 - val_accuracy: 0.7101\n",
            "Epoch 420/500\n",
            "104/104 [==============================] - 1s 5ms/step - loss: 0.7437 - accuracy: 0.7068 - val_loss: 0.8099 - val_accuracy: 0.6908\n",
            "Epoch 421/500\n",
            "104/104 [==============================] - 1s 6ms/step - loss: 0.7479 - accuracy: 0.7068 - val_loss: 0.8136 - val_accuracy: 0.6763\n",
            "Epoch 422/500\n",
            "104/104 [==============================] - 1s 5ms/step - loss: 0.7379 - accuracy: 0.7122 - val_loss: 0.8184 - val_accuracy: 0.7101\n",
            "Epoch 423/500\n",
            "104/104 [==============================] - 1s 5ms/step - loss: 0.7542 - accuracy: 0.6995 - val_loss: 0.8146 - val_accuracy: 0.7246\n",
            "Epoch 424/500\n",
            "104/104 [==============================] - 1s 5ms/step - loss: 0.7460 - accuracy: 0.7128 - val_loss: 0.8124 - val_accuracy: 0.7005\n",
            "Epoch 425/500\n",
            "104/104 [==============================] - 1s 6ms/step - loss: 0.7619 - accuracy: 0.6995 - val_loss: 0.8090 - val_accuracy: 0.7101\n"
          ]
        }
      ]
    },
    {
      "cell_type": "code",
      "source": [
        "plt.plot(cnnhistory.history['loss'])\n",
        "plt.plot(cnnhistory.history['val_loss'])\n",
        "plt.title('model loss')\n",
        "plt.ylabel('loss')\n",
        "plt.xlabel('epoch')\n",
        "plt.legend(['train','test'], loc='upper left')\n",
        "plt.show()"
      ],
      "metadata": {
        "colab": {
          "base_uri": "https://localhost:8080/",
          "height": 295
        },
        "id": "oQYnuaCrDH_A",
        "outputId": "a97186d8-866a-4c32-a90b-bb79719a2116"
      },
      "execution_count": 15,
      "outputs": [
        {
          "output_type": "display_data",
          "data": {
            "text/plain": [
              "<Figure size 432x288 with 1 Axes>"
            ],
            "image/png": "[encoded data removed]"
          },
          "metadata": {
            "needs_background": "light"
          }
        }
      ]
    },
    {
      "cell_type": "code",
      "source": [
        "plt.plot(cnnhistory.history['accuracy'])\n",
        "plt.plot(cnnhistory.history['val_accuracy'])\n",
        "plt.title('model accuracy')\n",
        "plt.ylabel('accuracy')\n",
        "plt.xlabel('epoch')\n",
        "plt.legend(['train','test'], loc='upper left')\n",
        "plt.show()"
      ],
      "metadata": {
        "colab": {
          "base_uri": "https://localhost:8080/",
          "height": 295
        },
        "id": "IFkTuO8nDNdq",
        "outputId": "a690d1c6-e509-4426-9473-77fd675e2fae"
      },
      "execution_count": 16,
      "outputs": [
        {
          "output_type": "display_data",
          "data": {
            "text/plain": [
              "<Figure size 432x288 with 1 Axes>"
            ],
            "image/png": "[encoded data removed]"
          },
          "metadata": {
            "needs_background": "light"
          }
        }
      ]
    },
    {
      "cell_type": "code",
      "source": [
        "predictions = model.predict(x_testcnn)"
      ],
      "metadata": {
        "id": "A2xtrN5wDQgY"
      },
      "execution_count": 17,
      "outputs": []
    },
    {
      "cell_type": "code",
      "source": [
        "predictions"
      ],
      "metadata": {
        "colab": {
          "base_uri": "https://localhost:8080/"
        },
        "id": "_f_ohjXKDUpY",
        "outputId": "77db4f8a-438a-4543-d5a2-0946573f1f8d"
      },
      "execution_count": 18,
      "outputs": [
        {
          "output_type": "execute_result",
          "data": {
            "text/plain": [
              "array([[2.5015733e-01, 1.3832989e-01, 1.4740156e-01, 2.4703437e-01,\n",
              "        1.2941372e-01, 8.7663062e-02],\n",
              "       [3.1329568e-02, 9.9704252e-04, 1.0624765e-04, 9.2202407e-01,\n",
              "        5.3672711e-03, 4.0175721e-02],\n",
              "       [1.8588932e-01, 9.0173736e-02, 1.5138696e-01, 2.9329735e-01,\n",
              "        8.6305216e-02, 1.9294751e-01],\n",
              "       ...,\n",
              "       [9.0558879e-04, 8.8468551e-05, 2.1063820e-02, 7.1392343e-03,\n",
              "        9.4031686e-01, 3.0485971e-02],\n",
              "       [5.7566085e-05, 7.3882431e-01, 2.1969350e-01, 2.2569191e-02,\n",
              "        4.9093789e-03, 1.3946041e-02],\n",
              "       [1.6166921e-03, 1.0418377e-03, 4.6409551e-02, 5.7762256e-03,\n",
              "        8.9554000e-01, 4.9615663e-02]], dtype=float32)"
            ]
          },
          "metadata": {},
          "execution_count": 18
        }
      ]
    },
    {
      "cell_type": "code",
      "source": [
        "y_test"
      ],
      "metadata": {
        "colab": {
          "base_uri": "https://localhost:8080/"
        },
        "id": "cmA2bFgsDW3D",
        "outputId": "30d09c5e-bdb1-452b-bb6a-f110b64b288b"
      },
      "execution_count": 19,
      "outputs": [
        {
          "output_type": "execute_result",
          "data": {
            "text/plain": [
              "array([3, 3, 3, 0, 4, 4, 1, 2, 5, 0, 5, 3, 2, 2, 1, 4, 4, 5, 2, 4, 1, 2,\n",
              "       3, 5, 4, 2, 1, 2, 2, 2, 2, 5, 2, 5, 3, 1, 2, 0, 4, 5, 2, 3, 2, 2,\n",
              "       5, 2, 0, 1, 3, 4, 4, 5, 1, 1, 4, 4, 5, 1, 1, 1, 0, 1, 5, 0, 4, 1,\n",
              "       1, 0, 1, 4, 1, 0, 4, 1, 3, 1, 2, 2, 1, 2, 3, 0, 5, 3, 5, 5, 2, 4,\n",
              "       5, 1, 5, 1, 5, 3, 4, 1, 4, 1, 5, 4, 5, 1, 2, 1, 1, 5, 1, 3, 2, 5,\n",
              "       2, 1, 3, 5, 4, 4, 0, 0, 3, 1, 2, 2, 3, 5, 1, 5, 3, 4, 2, 2, 0, 2,\n",
              "       2, 5, 5, 0, 3, 3, 2, 2, 0, 3, 4, 0, 4, 2, 4, 5, 4, 1, 5, 3, 2, 2,\n",
              "       5, 4, 3, 3, 4, 3, 3, 4, 1, 5, 2, 3, 2, 2, 0, 2, 1, 3, 1, 2, 2, 5,\n",
              "       5, 1, 4, 2, 2, 1, 1, 3, 3, 5, 5, 2, 5, 1, 5, 0, 3, 3, 0, 5, 1, 4,\n",
              "       1, 4, 2, 5, 5, 1, 4, 2, 4])"
            ]
          },
          "metadata": {},
          "execution_count": 19
        }
      ]
    },
    {
      "cell_type": "code",
      "source": [
        "new_Ytest = y_test.astype(int)"
      ],
      "metadata": {
        "id": "0PHDKWJWDY3g"
      },
      "execution_count": 20,
      "outputs": []
    },
    {
      "cell_type": "code",
      "source": [
        "new_Ytest"
      ],
      "metadata": {
        "colab": {
          "base_uri": "https://localhost:8080/"
        },
        "id": "k68v2i-pDbZE",
        "outputId": "74d6eb21-e0b7-4e3a-8643-e9b5c678d707"
      },
      "execution_count": 21,
      "outputs": [
        {
          "output_type": "execute_result",
          "data": {
            "text/plain": [
              "array([3, 3, 3, 0, 4, 4, 1, 2, 5, 0, 5, 3, 2, 2, 1, 4, 4, 5, 2, 4, 1, 2,\n",
              "       3, 5, 4, 2, 1, 2, 2, 2, 2, 5, 2, 5, 3, 1, 2, 0, 4, 5, 2, 3, 2, 2,\n",
              "       5, 2, 0, 1, 3, 4, 4, 5, 1, 1, 4, 4, 5, 1, 1, 1, 0, 1, 5, 0, 4, 1,\n",
              "       1, 0, 1, 4, 1, 0, 4, 1, 3, 1, 2, 2, 1, 2, 3, 0, 5, 3, 5, 5, 2, 4,\n",
              "       5, 1, 5, 1, 5, 3, 4, 1, 4, 1, 5, 4, 5, 1, 2, 1, 1, 5, 1, 3, 2, 5,\n",
              "       2, 1, 3, 5, 4, 4, 0, 0, 3, 1, 2, 2, 3, 5, 1, 5, 3, 4, 2, 2, 0, 2,\n",
              "       2, 5, 5, 0, 3, 3, 2, 2, 0, 3, 4, 0, 4, 2, 4, 5, 4, 1, 5, 3, 2, 2,\n",
              "       5, 4, 3, 3, 4, 3, 3, 4, 1, 5, 2, 3, 2, 2, 0, 2, 1, 3, 1, 2, 2, 5,\n",
              "       5, 1, 4, 2, 2, 1, 1, 3, 3, 5, 5, 2, 5, 1, 5, 0, 3, 3, 0, 5, 1, 4,\n",
              "       1, 4, 2, 5, 5, 1, 4, 2, 4])"
            ]
          },
          "metadata": {},
          "execution_count": 21
        }
      ]
    },
    {
      "cell_type": "code",
      "source": [
        "preds1=predictions.argmax(axis=1)\n",
        "preds1"
      ],
      "metadata": {
        "colab": {
          "base_uri": "https://localhost:8080/"
        },
        "id": "4_cAI39VFhtp",
        "outputId": "5acef885-7495-4a76-d297-d34a45d24f89"
      },
      "execution_count": 22,
      "outputs": [
        {
          "output_type": "execute_result",
          "data": {
            "text/plain": [
              "array([0, 3, 3, 3, 4, 4, 1, 2, 3, 1, 4, 3, 1, 2, 0, 5, 4, 3, 3, 4, 0, 2,\n",
              "       3, 3, 5, 2, 1, 3, 4, 2, 2, 5, 3, 5, 3, 1, 2, 0, 4, 5, 1, 3, 2, 2,\n",
              "       3, 2, 1, 1, 3, 4, 4, 5, 1, 1, 4, 4, 5, 1, 1, 1, 3, 1, 5, 1, 5, 1,\n",
              "       1, 1, 1, 4, 1, 2, 4, 3, 3, 2, 2, 2, 0, 4, 1, 0, 5, 3, 5, 5, 2, 3,\n",
              "       3, 1, 2, 1, 5, 3, 2, 2, 4, 1, 5, 4, 5, 1, 2, 1, 1, 5, 1, 3, 2, 5,\n",
              "       1, 3, 3, 5, 4, 4, 3, 0, 3, 0, 1, 2, 1, 3, 3, 3, 3, 3, 2, 2, 0, 4,\n",
              "       2, 3, 3, 0, 5, 3, 2, 4, 0, 3, 4, 1, 4, 4, 4, 4, 4, 1, 5, 3, 2, 2,\n",
              "       5, 4, 4, 5, 5, 5, 3, 4, 2, 5, 2, 3, 2, 2, 0, 2, 1, 3, 1, 4, 4, 3,\n",
              "       3, 1, 4, 2, 4, 1, 1, 3, 3, 5, 5, 2, 5, 1, 5, 3, 3, 3, 3, 5, 1, 4,\n",
              "       1, 4, 3, 2, 4, 2, 4, 1, 4])"
            ]
          },
          "metadata": {},
          "execution_count": 22
        }
      ]
    },
    {
      "cell_type": "code",
      "source": [
        "abc = preds1.astype(int).flatten()"
      ],
      "metadata": {
        "id": "H4WEmM60NfQn"
      },
      "execution_count": 23,
      "outputs": []
    },
    {
      "cell_type": "code",
      "source": [
        "from sklearn.metrics import confusion_matrix\n",
        "c = confusion_matrix(new_Ytest, abc) \n",
        "c"
      ],
      "metadata": {
        "colab": {
          "base_uri": "https://localhost:8080/"
        },
        "id": "bKEBeEBlFjB8",
        "outputId": "246e0112-add2-4d88-83f5-cf0b1dc4c391"
      },
      "execution_count": 24,
      "outputs": [
        {
          "output_type": "execute_result",
          "data": {
            "text/plain": [
              "array([[ 7,  5,  1,  5,  0,  0],\n",
              "       [ 4, 30,  4,  3,  0,  0],\n",
              "       [ 0,  5, 28,  4,  8,  0],\n",
              "       [ 1,  2,  0, 24,  1,  3],\n",
              "       [ 0,  0,  1,  2, 26,  4],\n",
              "       [ 0,  0,  2, 11,  3, 23]])"
            ]
          },
          "metadata": {},
          "execution_count": 24
        }
      ]
    },
    {
      "cell_type": "code",
      "source": [
        "y_test"
      ],
      "metadata": {
        "colab": {
          "base_uri": "https://localhost:8080/"
        },
        "id": "m4RjG7LWLSQx",
        "outputId": "bc0f548e-8ef9-48f7-b662-e425b43fd8ea"
      },
      "execution_count": 25,
      "outputs": [
        {
          "output_type": "execute_result",
          "data": {
            "text/plain": [
              "array([3, 3, 3, 0, 4, 4, 1, 2, 5, 0, 5, 3, 2, 2, 1, 4, 4, 5, 2, 4, 1, 2,\n",
              "       3, 5, 4, 2, 1, 2, 2, 2, 2, 5, 2, 5, 3, 1, 2, 0, 4, 5, 2, 3, 2, 2,\n",
              "       5, 2, 0, 1, 3, 4, 4, 5, 1, 1, 4, 4, 5, 1, 1, 1, 0, 1, 5, 0, 4, 1,\n",
              "       1, 0, 1, 4, 1, 0, 4, 1, 3, 1, 2, 2, 1, 2, 3, 0, 5, 3, 5, 5, 2, 4,\n",
              "       5, 1, 5, 1, 5, 3, 4, 1, 4, 1, 5, 4, 5, 1, 2, 1, 1, 5, 1, 3, 2, 5,\n",
              "       2, 1, 3, 5, 4, 4, 0, 0, 3, 1, 2, 2, 3, 5, 1, 5, 3, 4, 2, 2, 0, 2,\n",
              "       2, 5, 5, 0, 3, 3, 2, 2, 0, 3, 4, 0, 4, 2, 4, 5, 4, 1, 5, 3, 2, 2,\n",
              "       5, 4, 3, 3, 4, 3, 3, 4, 1, 5, 2, 3, 2, 2, 0, 2, 1, 3, 1, 2, 2, 5,\n",
              "       5, 1, 4, 2, 2, 1, 1, 3, 3, 5, 5, 2, 5, 1, 5, 0, 3, 3, 0, 5, 1, 4,\n",
              "       1, 4, 2, 5, 5, 1, 4, 2, 4])"
            ]
          },
          "metadata": {},
          "execution_count": 25
        }
      ]
    },
    {
      "cell_type": "code",
      "source": [
        "loss, acc =model.evaluate(x_testcnn, y_test)\n",
        "print(\"Restored model, accuracy: {:5.2f}%\".format(100*acc))"
      ],
      "metadata": {
        "colab": {
          "base_uri": "https://localhost:8080/"
        },
        "id": "n3kzoqPkDqqS",
        "outputId": "4047451b-edc5-47b6-9cda-cfadc37e77c8"
      },
      "execution_count": 26,
      "outputs": [
        {
          "output_type": "stream",
          "name": "stdout",
          "text": [
            "7/7 [==============================] - 0s 3ms/step - loss: 0.8382 - accuracy: 0.6667\n",
            "Restored model, accuracy: 66.67%\n"
          ]
        }
      ]
    },
    {
      "cell_type": "code",
      "source": [
        "loss, acc =model.evaluate(X_train, y_train)\n",
        "print(\"Restored model train, accuracy: {:5.2f}%\".format(100*acc))"
      ],
      "metadata": {
        "id": "fJDTGH_OUX0z",
        "colab": {
          "base_uri": "https://localhost:8080/"
        },
        "outputId": "7fb38304-742b-4653-83b7-9acf09571162"
      },
      "execution_count": 27,
      "outputs": [
        {
          "output_type": "stream",
          "name": "stdout",
          "text": [
            "52/52 [==============================] - 0s 4ms/step - loss: 0.6844 - accuracy: 0.7884\n",
            "Restored model train, accuracy: 78.84%\n"
          ]
        }
      ]
    },
    {
      "cell_type": "code",
      "source": [
        "from sklearn.metrics import classification_report, confusion_matrix,accuracy_score\n",
        "import seaborn as sn\n",
        "\n",
        "print(classification_report(new_Ytest,abc))\n",
        "\n",
        "acc = float(accuracy_score(new_Ytest,abc))*100\n",
        "print(\"----accuracy score %s ----\" % acc)\n",
        "\n",
        "cm = confusion_matrix(new_Ytest,abc)\n",
        "#df_cm = pd.DataFrame(cm)\n",
        "class_names = ['neutral','calm', 'happy','sad','angry', 'fearful' ]\n",
        "df_cm = pd.DataFrame(cm, index=class_names, columns=class_names,)\n",
        "sn.heatmap(df_cm, annot=True, fmt='')\n",
        "plt.show()"
      ],
      "metadata": {
        "colab": {
          "base_uri": "https://localhost:8080/",
          "height": 512
        },
        "id": "SfSC3El94LZg",
        "outputId": "24555703-4dd3-4369-9730-cab58d6ea347"
      },
      "execution_count": 28,
      "outputs": [
        {
          "output_type": "stream",
          "name": "stdout",
          "text": [
            "              precision    recall  f1-score   support\n",
            "\n",
            "           0       0.58      0.39      0.47        18\n",
            "           1       0.71      0.73      0.72        41\n",
            "           2       0.78      0.62      0.69        45\n",
            "           3       0.49      0.77      0.60        31\n",
            "           4       0.68      0.79      0.73        33\n",
            "           5       0.77      0.59      0.67        39\n",
            "\n",
            "    accuracy                           0.67       207\n",
            "   macro avg       0.67      0.65      0.65       207\n",
            "weighted avg       0.69      0.67      0.67       207\n",
            "\n",
            "----accuracy score 66.66666666666666 ----\n"
          ]
        },
        {
          "output_type": "display_data",
          "data": {
            "text/plain": [
              "<Figure size 432x288 with 2 Axes>"
            ],
            "image/png": "[encoded data removed]"
          },
          "metadata": {
            "needs_background": "light"
          }
        }
      ]
    }
  ]
}