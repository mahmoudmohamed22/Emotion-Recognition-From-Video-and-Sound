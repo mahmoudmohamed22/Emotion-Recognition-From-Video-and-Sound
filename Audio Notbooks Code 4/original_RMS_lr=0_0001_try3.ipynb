{
  "nbformat": 4,
  "nbformat_minor": 0,
  "metadata": {
    "colab": {
      "name": "original RMS lr=0.0001 try3.ipynb",
      "provenance": [],
      "collapsed_sections": []
    },
    "kernelspec": {
      "name": "python3",
      "display_name": "Python 3"
    },
    "language_info": {
      "name": "python"
    },
    "accelerator": "GPU"
  },
  "cells": [
    {
      "cell_type": "code",
      "execution_count": 1,
      "metadata": {
        "colab": {
          "base_uri": "https://localhost:8080/"
        },
        "id": "9SRCO-a_AlH5",
        "outputId": "eb7323e5-be7d-45bb-9b92-757fbbd7d6c4"
      },
      "outputs": [
        {
          "output_type": "stream",
          "name": "stdout",
          "text": [
            "Drive already mounted at /content/drive; to attempt to forcibly remount, call drive.mount(\"/content/drive\", force_remount=True).\n"
          ]
        }
      ],
      "source": [
        "from google.colab import drive\n",
        "drive.mount('/content/drive')"
      ]
    },
    {
      "cell_type": "code",
      "source": [
        "!pip install librosa"
      ],
      "metadata": {
        "colab": {
          "base_uri": "https://localhost:8080/"
        },
        "id": "oi8pWV3yBVjO",
        "outputId": "4b33d636-a7a3-41eb-fb53-c70c911e25e4"
      },
      "execution_count": 2,
      "outputs": [
        {
          "output_type": "stream",
          "name": "stdout",
          "text": [
            "Looking in indexes: https://pypi.org/simple, https://us-python.pkg.dev/colab-wheels/public/simple/\n",
            "Requirement already satisfied: librosa in /usr/local/lib/python3.7/dist-packages (0.8.1)\n",
            "Requirement already satisfied: pooch>=1.0 in /usr/local/lib/python3.7/dist-packages (from librosa) (1.6.0)\n",
            "Requirement already satisfied: resampy>=0.2.2 in /usr/local/lib/python3.7/dist-packages (from librosa) (0.2.2)\n",
            "Requirement already satisfied: numpy>=1.15.0 in /usr/local/lib/python3.7/dist-packages (from librosa) (1.21.6)\n",
            "Requirement already satisfied: scipy>=1.0.0 in /usr/local/lib/python3.7/dist-packages (from librosa) (1.4.1)\n",
            "Requirement already satisfied: soundfile>=0.10.2 in /usr/local/lib/python3.7/dist-packages (from librosa) (0.10.3.post1)\n",
            "Requirement already satisfied: joblib>=0.14 in /usr/local/lib/python3.7/dist-packages (from librosa) (1.1.0)\n",
            "Requirement already satisfied: scikit-learn!=0.19.0,>=0.14.0 in /usr/local/lib/python3.7/dist-packages (from librosa) (1.0.2)\n",
            "Requirement already satisfied: numba>=0.43.0 in /usr/local/lib/python3.7/dist-packages (from librosa) (0.51.2)\n",
            "Requirement already satisfied: decorator>=3.0.0 in /usr/local/lib/python3.7/dist-packages (from librosa) (4.4.2)\n",
            "Requirement already satisfied: audioread>=2.0.0 in /usr/local/lib/python3.7/dist-packages (from librosa) (2.1.9)\n",
            "Requirement already satisfied: packaging>=20.0 in /usr/local/lib/python3.7/dist-packages (from librosa) (21.3)\n",
            "Requirement already satisfied: llvmlite<0.35,>=0.34.0.dev0 in /usr/local/lib/python3.7/dist-packages (from numba>=0.43.0->librosa) (0.34.0)\n",
            "Requirement already satisfied: setuptools in /usr/local/lib/python3.7/dist-packages (from numba>=0.43.0->librosa) (57.4.0)\n",
            "Requirement already satisfied: pyparsing!=3.0.5,>=2.0.2 in /usr/local/lib/python3.7/dist-packages (from packaging>=20.0->librosa) (3.0.9)\n",
            "Requirement already satisfied: requests>=2.19.0 in /usr/local/lib/python3.7/dist-packages (from pooch>=1.0->librosa) (2.23.0)\n",
            "Requirement already satisfied: appdirs>=1.3.0 in /usr/local/lib/python3.7/dist-packages (from pooch>=1.0->librosa) (1.4.4)\n",
            "Requirement already satisfied: idna<3,>=2.5 in /usr/local/lib/python3.7/dist-packages (from requests>=2.19.0->pooch>=1.0->librosa) (2.10)\n",
            "Requirement already satisfied: certifi>=2017.4.17 in /usr/local/lib/python3.7/dist-packages (from requests>=2.19.0->pooch>=1.0->librosa) (2022.5.18.1)\n",
            "Requirement already satisfied: chardet<4,>=3.0.2 in /usr/local/lib/python3.7/dist-packages (from requests>=2.19.0->pooch>=1.0->librosa) (3.0.4)\n",
            "Requirement already satisfied: urllib3!=1.25.0,!=1.25.1,<1.26,>=1.21.1 in /usr/local/lib/python3.7/dist-packages (from requests>=2.19.0->pooch>=1.0->librosa) (1.24.3)\n",
            "Requirement already satisfied: six>=1.3 in /usr/local/lib/python3.7/dist-packages (from resampy>=0.2.2->librosa) (1.15.0)\n",
            "Requirement already satisfied: threadpoolctl>=2.0.0 in /usr/local/lib/python3.7/dist-packages (from scikit-learn!=0.19.0,>=0.14.0->librosa) (3.1.0)\n",
            "Requirement already satisfied: cffi>=1.0 in /usr/local/lib/python3.7/dist-packages (from soundfile>=0.10.2->librosa) (1.15.0)\n",
            "Requirement already satisfied: pycparser in /usr/local/lib/python3.7/dist-packages (from cffi>=1.0->soundfile>=0.10.2->librosa) (2.21)\n"
          ]
        }
      ]
    },
    {
      "cell_type": "code",
      "metadata": {
        "id": "HJjcbxwy46bG",
        "colab": {
          "base_uri": "https://localhost:8080/",
          "height": 17
        },
        "outputId": "911ebe9b-697c-41d3-d181-95c206342d18"
      },
      "source": [
        "# Orignial Notebook: https://github.com/MITESHPUTHRANNEU/Speech-Emotion-Analyzer/blob/master/final_results_gender_test.ipynb\n",
        "# This notebook author: Reza Chu\n",
        "# Last Editing Date: 31st May 2019\n",
        "\n",
        "## Python\n",
        "import os\n",
        "import random\n",
        "import sys\n",
        "\n",
        "import IPython\n",
        "from IPython.display import Audio\n",
        "from IPython.display import Image\n",
        "import matplotlib.pyplot as plt\n",
        "\n",
        "## Package\n",
        "import glob \n",
        "import keras\n",
        "import IPython.display as ipd\n",
        "import librosa\n",
        "import librosa.display\n",
        "import matplotlib.pyplot as plt\n",
        "import numpy as np\n",
        "import pandas as pd\n",
        "import plotly.graph_objs as go\n",
        "import plotly.offline as py\n",
        "import plotly.tools as tls\n",
        "import seaborn as sns\n",
        "import scipy.io.wavfile\n",
        "import tensorflow as tf\n",
        "py.init_notebook_mode(connected=True)\n",
        "\n",
        "## Keras\n",
        "from keras import regularizers\n",
        "from keras.callbacks import ModelCheckpoint, LearningRateScheduler, EarlyStopping\n",
        "from keras.callbacks import  History, ReduceLROnPlateau, CSVLogger\n",
        "from keras.models import Model, Sequential\n",
        "from keras.layers import Dense, Embedding, LSTM\n",
        "from keras.layers import Input, Flatten, Dropout, Activation, BatchNormalization\n",
        "from keras.layers import Conv1D, MaxPooling1D, AveragePooling1D\n",
        "from keras.preprocessing import sequence\n",
        "from keras.preprocessing.sequence import pad_sequences\n",
        "from keras.preprocessing.text import Tokenizer\n",
        "from keras.utils import np_utils\n",
        "from tensorflow.keras.utils import to_categorical\n",
        "\n",
        "## Sklearn\n",
        "from sklearn.metrics import confusion_matrix\n",
        "from sklearn.preprocessing import LabelEncoder\n",
        "\n",
        "## Rest\n",
        "from scipy.fftpack import fft\n",
        "from scipy import signal\n",
        "from scipy.io import wavfile\n",
        "from tqdm import tqdm\n",
        "\n",
        "input_duration=3\n",
        "# % pylab inline"
      ],
      "execution_count": 3,
      "outputs": [
        {
          "output_type": "display_data",
          "data": {
            "text/html": [
              "        <script type=\"text/javascript\">\n",
              "        window.PlotlyConfig = {MathJaxConfig: 'local'};\n",
              "        if (window.MathJax) {MathJax.Hub.Config({SVG: {font: \"STIX-Web\"}});}\n",
              "        if (typeof require !== 'undefined') {\n",
              "        require.undef(\"plotly\");\n",
              "        requirejs.config({\n",
              "            paths: {\n",
              "                'plotly': ['https://cdn.plot.ly/plotly-2.8.3.min']\n",
              "            }\n",
              "        });\n",
              "        require(['plotly'], function(Plotly) {\n",
              "            window._Plotly = Plotly;\n",
              "        });\n",
              "        }\n",
              "        </script>\n",
              "        "
            ]
          },
          "metadata": {}
        }
      ]
    },
    {
      "cell_type": "code",
      "source": [
        "#radvass speech and song\n",
        "import time\n",
        "import os\n",
        "import librosa\n",
        "from librosa import display\n",
        "import matplotlib.pyplot as plt\n",
        "\n",
        "count=0\n",
        "path1 = '/content/drive/MyDrive/RAVDESS_speech'\n",
        "path2 = '/content/drive/MyDrive/RAVDESS_song'\n",
        "\n",
        "lst = []\n",
        "\n",
        "start_time = time.time()\n",
        "\n",
        "for subdir, dirs, files in os.walk(path2):\n",
        "  print(dirs)\n",
        "  print(subdir)\n",
        "  #print(files)\n",
        "  for file in files:\n",
        "      try:\n",
        "        count +=1\n",
        "        #Load librosa array, obtain mfcss, store the file and the mcss information in a new array\n",
        "        X, sample_rate = librosa.load(os.path.join(subdir,file), res_type='kaiser_fast')\n",
        "        mfccs = np.mean(librosa.feature.mfcc(y=X, sr=sample_rate, n_mfcc=40).T,axis=0) \n",
        "        # The instruction below converts the labels (from 1 to 8) to a series from 0 to 7\n",
        "        # This is because our predictor needs to start from 0 otherwise it will try to predict also 0.\n",
        "        file = int(file[7:8]) - 1 \n",
        "        arr = mfccs, file\n",
        "        lst.append(arr)\n",
        "      # If the file is not valid, skip it\n",
        "      except ValueError:\n",
        "        continue\n",
        "\n",
        "for subdir, dirs, files in os.walk(path1):\n",
        "  print(dirs)\n",
        "  print(subdir)\n",
        " # print(files)\n",
        "  for file in files:\n",
        "      try:\n",
        "        #Load librosa array, obtain mfcss, store the file and the mcss information in a new array\n",
        "        X, sample_rate = librosa.load(os.path.join(subdir,file), res_type='kaiser_fast')\n",
        "        mfccs = np.mean(librosa.feature.mfcc(y=X, sr=sample_rate, n_mfcc=40).T,axis=0) \n",
        "        # The instruction below converts the labels (from 1 to 8) to a series from 0 to 7\n",
        "        # This is because our predictor needs to start from 0 otherwise it will try to predict also 0.\n",
        "        file = int(file[7:8]) - 1 \n",
        "        if(file ==6 or file==7):\n",
        "          continue\n",
        "        count +=1\n",
        "        arr = mfccs, file\n",
        "        lst.append(arr)\n",
        "      # If the file is not valid, skip it\n",
        "      except ValueError:\n",
        "        continue\n",
        "\n",
        "\n",
        "\n",
        "print(\"--- Data loaded. Loading time: %s seconds ---\" % (time.time() - start_time))"
      ],
      "metadata": {
        "colab": {
          "base_uri": "https://localhost:8080/"
        },
        "id": "IfuyRZl42ccZ",
        "outputId": "6f8b60b4-6ca8-4822-a52a-f8d94d899326"
      },
      "execution_count": 4,
      "outputs": [
        {
          "output_type": "stream",
          "name": "stdout",
          "text": [
            "['Actor_10', 'Actor_11', 'Actor_13', 'Actor_12', 'Actor_14', 'Actor_15', 'Actor_16', 'Actor_17', 'Actor_18', 'Actor_19', 'Actor_21', 'Actor_22', 'Actor_23', 'Actor_09', 'Actor_24', 'Actor_04', 'Actor_08', 'Actor_03', 'Actor_02', 'Actor_06', 'Actor_05', 'Actor_01', 'Actor_07', 'Actor_20']\n",
            "/content/drive/MyDrive/RAVDESS_song\n",
            "[]\n",
            "/content/drive/MyDrive/RAVDESS_song/Actor_10\n",
            "[]\n",
            "/content/drive/MyDrive/RAVDESS_song/Actor_11\n",
            "[]\n",
            "/content/drive/MyDrive/RAVDESS_song/Actor_13\n",
            "[]\n",
            "/content/drive/MyDrive/RAVDESS_song/Actor_12\n",
            "[]\n",
            "/content/drive/MyDrive/RAVDESS_song/Actor_14\n",
            "[]\n",
            "/content/drive/MyDrive/RAVDESS_song/Actor_15\n",
            "[]\n",
            "/content/drive/MyDrive/RAVDESS_song/Actor_16\n",
            "[]\n",
            "/content/drive/MyDrive/RAVDESS_song/Actor_17\n",
            "[]\n",
            "/content/drive/MyDrive/RAVDESS_song/Actor_18\n",
            "[]\n",
            "/content/drive/MyDrive/RAVDESS_song/Actor_19\n",
            "[]\n",
            "/content/drive/MyDrive/RAVDESS_song/Actor_21\n",
            "[]\n",
            "/content/drive/MyDrive/RAVDESS_song/Actor_22\n",
            "[]\n",
            "/content/drive/MyDrive/RAVDESS_song/Actor_23\n",
            "[]\n",
            "/content/drive/MyDrive/RAVDESS_song/Actor_09\n",
            "[]\n",
            "/content/drive/MyDrive/RAVDESS_song/Actor_24\n",
            "[]\n",
            "/content/drive/MyDrive/RAVDESS_song/Actor_04\n",
            "[]\n",
            "/content/drive/MyDrive/RAVDESS_song/Actor_08\n",
            "[]\n",
            "/content/drive/MyDrive/RAVDESS_song/Actor_03\n",
            "[]\n",
            "/content/drive/MyDrive/RAVDESS_song/Actor_02\n",
            "[]\n",
            "/content/drive/MyDrive/RAVDESS_song/Actor_06\n",
            "[]\n",
            "/content/drive/MyDrive/RAVDESS_song/Actor_05\n",
            "[]\n",
            "/content/drive/MyDrive/RAVDESS_song/Actor_01\n",
            "[]\n",
            "/content/drive/MyDrive/RAVDESS_song/Actor_07\n",
            "[]\n",
            "/content/drive/MyDrive/RAVDESS_song/Actor_20\n",
            "['Actor_05', 'Actor_08', 'Actor_10', 'Actor_04', 'Actor_09', 'Actor_14', 'Actor_12', 'Actor_13', 'Actor_11', 'Actor_06', 'Actor_24', 'Actor_07', 'Actor_23', 'Actor_22', 'Actor_21', 'Actor_20', 'Actor_02', 'Actor_19', 'Actor_18', 'Actor_17', 'Actor_16', 'Actor_15', 'Actor_03', 'Actor_01']\n",
            "/content/drive/MyDrive/RAVDESS_speech\n",
            "[]\n",
            "/content/drive/MyDrive/RAVDESS_speech/Actor_05\n",
            "[]\n",
            "/content/drive/MyDrive/RAVDESS_speech/Actor_08\n",
            "[]\n",
            "/content/drive/MyDrive/RAVDESS_speech/Actor_10\n",
            "[]\n",
            "/content/drive/MyDrive/RAVDESS_speech/Actor_04\n",
            "[]\n",
            "/content/drive/MyDrive/RAVDESS_speech/Actor_09\n",
            "[]\n",
            "/content/drive/MyDrive/RAVDESS_speech/Actor_14\n",
            "[]\n",
            "/content/drive/MyDrive/RAVDESS_speech/Actor_12\n",
            "[]\n",
            "/content/drive/MyDrive/RAVDESS_speech/Actor_13\n",
            "[]\n",
            "/content/drive/MyDrive/RAVDESS_speech/Actor_11\n",
            "[]\n",
            "/content/drive/MyDrive/RAVDESS_speech/Actor_06\n",
            "[]\n",
            "/content/drive/MyDrive/RAVDESS_speech/Actor_24\n",
            "[]\n",
            "/content/drive/MyDrive/RAVDESS_speech/Actor_07\n",
            "[]\n",
            "/content/drive/MyDrive/RAVDESS_speech/Actor_23\n",
            "[]\n",
            "/content/drive/MyDrive/RAVDESS_speech/Actor_22\n",
            "[]\n",
            "/content/drive/MyDrive/RAVDESS_speech/Actor_21\n",
            "[]\n",
            "/content/drive/MyDrive/RAVDESS_speech/Actor_20\n",
            "[]\n",
            "/content/drive/MyDrive/RAVDESS_speech/Actor_02\n",
            "[]\n",
            "/content/drive/MyDrive/RAVDESS_speech/Actor_19\n",
            "[]\n",
            "/content/drive/MyDrive/RAVDESS_speech/Actor_18\n",
            "[]\n",
            "/content/drive/MyDrive/RAVDESS_speech/Actor_17\n",
            "[]\n",
            "/content/drive/MyDrive/RAVDESS_speech/Actor_16\n",
            "[]\n",
            "/content/drive/MyDrive/RAVDESS_speech/Actor_15\n",
            "[]\n",
            "/content/drive/MyDrive/RAVDESS_speech/Actor_03\n",
            "[]\n",
            "/content/drive/MyDrive/RAVDESS_speech/Actor_01\n",
            "--- Data loaded. Loading time: 214.0721356868744 seconds ---\n"
          ]
        }
      ]
    },
    {
      "cell_type": "code",
      "source": [
        "count"
      ],
      "metadata": {
        "id": "Ltlhi25L2AI5",
        "colab": {
          "base_uri": "https://localhost:8080/"
        },
        "outputId": "c58a310b-9e6a-40bf-e739-24699ed438d6"
      },
      "execution_count": 5,
      "outputs": [
        {
          "output_type": "execute_result",
          "data": {
            "text/plain": [
              "2068"
            ]
          },
          "metadata": {},
          "execution_count": 5
        }
      ]
    },
    {
      "cell_type": "code",
      "source": [
        "from numpy.core.fromnumeric import size\n",
        "size(lst)"
      ],
      "metadata": {
        "id": "HMOH7d7mzHB7",
        "colab": {
          "base_uri": "https://localhost:8080/"
        },
        "outputId": "3b6084c8-6abf-43a4-f345-4b55350e605e"
      },
      "execution_count": 6,
      "outputs": [
        {
          "output_type": "stream",
          "name": "stderr",
          "text": [
            "/usr/local/lib/python3.7/dist-packages/numpy/core/fromnumeric.py:3208: VisibleDeprecationWarning:\n",
            "\n",
            "Creating an ndarray from ragged nested sequences (which is a list-or-tuple of lists-or-tuples-or ndarrays with different lengths or shapes) is deprecated. If you meant to do this, you must specify 'dtype=object' when creating the ndarray.\n",
            "\n"
          ]
        },
        {
          "output_type": "execute_result",
          "data": {
            "text/plain": [
              "4136"
            ]
          },
          "metadata": {},
          "execution_count": 6
        }
      ]
    },
    {
      "cell_type": "code",
      "source": [
        "# Creating X and y: zip makes a list of all the first elements, and a list of all the second elements.\n",
        "X, y = zip(*lst)"
      ],
      "metadata": {
        "id": "ocdL7tSTBoMt"
      },
      "execution_count": 7,
      "outputs": []
    },
    {
      "cell_type": "code",
      "source": [
        "import numpy as np\n",
        "X = np.asarray(X)\n",
        "y = np.asarray(y)\n",
        "X.shape, y.shape"
      ],
      "metadata": {
        "id": "vHKwUGTbBtnF",
        "colab": {
          "base_uri": "https://localhost:8080/"
        },
        "outputId": "e533ef21-a9da-43b9-f1d8-a1abdf1fbde0"
      },
      "execution_count": 8,
      "outputs": [
        {
          "output_type": "execute_result",
          "data": {
            "text/plain": [
              "((2068, 40), (2068,))"
            ]
          },
          "metadata": {},
          "execution_count": 8
        }
      ]
    },
    {
      "cell_type": "code",
      "source": [
        "X.shape"
      ],
      "metadata": {
        "id": "2sUCtbfMztE5",
        "colab": {
          "base_uri": "https://localhost:8080/"
        },
        "outputId": "96d0e01b-f74b-4145-fe90-85a6e4cc631f"
      },
      "execution_count": 9,
      "outputs": [
        {
          "output_type": "execute_result",
          "data": {
            "text/plain": [
              "(2068, 40)"
            ]
          },
          "metadata": {},
          "execution_count": 9
        }
      ]
    },
    {
      "cell_type": "code",
      "source": [
        "# # Saving joblib files to not load them again with the loop above\n",
        "\n",
        "# import joblib\n",
        "\n",
        "# X_name = 'x.joblib'\n",
        "# y_name = 'y.joblib'\n",
        "# save_dir = '/content/drive/My Drive/graduation project/audio/paper_code/features'\n",
        "\n",
        "# savedX = joblib.dump(X, os.path.join(save_dir, X_name))\n",
        "# savedy = joblib.dump(y, os.path.join(save_dir, y_name))"
      ],
      "metadata": {
        "id": "UCzic8rlDcuk"
      },
      "execution_count": 10,
      "outputs": []
    },
    {
      "cell_type": "code",
      "source": [
        "# # Loading saved models\n",
        "# import joblib\n",
        "# X = joblib.load('/content/drive/My Drive/graduation project/audio/paper_code/features/x.joblib')\n",
        "# y = joblib.load('/content/drive/My Drive/graduation project/audio/paper_code/features/y.joblib')"
      ],
      "metadata": {
        "id": "Q35CN6zDrzg1"
      },
      "execution_count": 11,
      "outputs": []
    },
    {
      "cell_type": "code",
      "source": [
        "X.shape"
      ],
      "metadata": {
        "colab": {
          "base_uri": "https://localhost:8080/"
        },
        "id": "7PSTurzjCo5K",
        "outputId": "e809c130-aa85-486a-a959-bc0533047b4b"
      },
      "execution_count": 12,
      "outputs": [
        {
          "output_type": "execute_result",
          "data": {
            "text/plain": [
              "(2068, 40)"
            ]
          },
          "metadata": {},
          "execution_count": 12
        }
      ]
    },
    {
      "cell_type": "code",
      "source": [
        "from sklearn.model_selection import train_test_split\n",
        "\n",
        "X_train, X_test, y_train, y_test = train_test_split(X,y, test_size=0.2,train_size=0.8, random_state=42)\n",
        "X_valid, X_test, y_valid, y_test = train_test_split(X_test,y_test, test_size=0.5,train_size=0.5, random_state=42)"
      ],
      "metadata": {
        "id": "Ai4Fy5cPCiq1"
      },
      "execution_count": 13,
      "outputs": []
    },
    {
      "cell_type": "code",
      "source": [
        "import numpy as np\n",
        "x_traincnn = np.expand_dims(X_train, axis=2)\n",
        "x_testcnn = np.expand_dims(X_test, axis=2)\n",
        "X_valid= np.expand_dims(X_valid, axis=2)"
      ],
      "metadata": {
        "id": "tp1Fm5K3CEXu"
      },
      "execution_count": 14,
      "outputs": []
    },
    {
      "cell_type": "code",
      "source": [
        "x_traincnn.shape, x_testcnn.shape , X_valid.shape"
      ],
      "metadata": {
        "id": "RI0MxoIPBws5",
        "colab": {
          "base_uri": "https://localhost:8080/"
        },
        "outputId": "4c82e9d0-c56e-44b8-8876-38e5dde3d5c1"
      },
      "execution_count": 15,
      "outputs": [
        {
          "output_type": "execute_result",
          "data": {
            "text/plain": [
              "((1654, 40, 1), (207, 40, 1), (207, 40, 1))"
            ]
          },
          "metadata": {},
          "execution_count": 15
        }
      ]
    },
    {
      "cell_type": "code",
      "source": [
        "!pip install tensorflow"
      ],
      "metadata": {
        "id": "goxL4Y3jKICC",
        "colab": {
          "base_uri": "https://localhost:8080/"
        },
        "outputId": "5d4568d7-fbff-43c4-fdd7-c31a5c977777"
      },
      "execution_count": 16,
      "outputs": [
        {
          "output_type": "stream",
          "name": "stdout",
          "text": [
            "Looking in indexes: https://pypi.org/simple, https://us-python.pkg.dev/colab-wheels/public/simple/\n",
            "Requirement already satisfied: tensorflow in /usr/local/lib/python3.7/dist-packages (2.8.2+zzzcolab20220527125636)\n",
            "Requirement already satisfied: libclang>=9.0.1 in /usr/local/lib/python3.7/dist-packages (from tensorflow) (14.0.1)\n",
            "Requirement already satisfied: tensorboard<2.9,>=2.8 in /usr/local/lib/python3.7/dist-packages (from tensorflow) (2.8.0)\n",
            "Requirement already satisfied: tensorflow-io-gcs-filesystem>=0.23.1 in /usr/local/lib/python3.7/dist-packages (from tensorflow) (0.26.0)\n",
            "Requirement already satisfied: setuptools in /usr/local/lib/python3.7/dist-packages (from tensorflow) (57.4.0)\n",
            "Requirement already satisfied: six>=1.12.0 in /usr/local/lib/python3.7/dist-packages (from tensorflow) (1.15.0)\n",
            "Requirement already satisfied: opt-einsum>=2.3.2 in /usr/local/lib/python3.7/dist-packages (from tensorflow) (3.3.0)\n",
            "Requirement already satisfied: h5py>=2.9.0 in /usr/local/lib/python3.7/dist-packages (from tensorflow) (3.1.0)\n",
            "Requirement already satisfied: tensorflow-estimator<2.9,>=2.8 in /usr/local/lib/python3.7/dist-packages (from tensorflow) (2.8.0)\n",
            "Requirement already satisfied: termcolor>=1.1.0 in /usr/local/lib/python3.7/dist-packages (from tensorflow) (1.1.0)\n",
            "Requirement already satisfied: google-pasta>=0.1.1 in /usr/local/lib/python3.7/dist-packages (from tensorflow) (0.2.0)\n",
            "Requirement already satisfied: flatbuffers>=1.12 in /usr/local/lib/python3.7/dist-packages (from tensorflow) (2.0)\n",
            "Requirement already satisfied: wrapt>=1.11.0 in /usr/local/lib/python3.7/dist-packages (from tensorflow) (1.14.1)\n",
            "Requirement already satisfied: typing-extensions>=3.6.6 in /usr/local/lib/python3.7/dist-packages (from tensorflow) (4.2.0)\n",
            "Requirement already satisfied: keras-preprocessing>=1.1.1 in /usr/local/lib/python3.7/dist-packages (from tensorflow) (1.1.2)\n",
            "Requirement already satisfied: grpcio<2.0,>=1.24.3 in /usr/local/lib/python3.7/dist-packages (from tensorflow) (1.46.3)\n",
            "Requirement already satisfied: absl-py>=0.4.0 in /usr/local/lib/python3.7/dist-packages (from tensorflow) (1.0.0)\n",
            "Requirement already satisfied: numpy>=1.20 in /usr/local/lib/python3.7/dist-packages (from tensorflow) (1.21.6)\n",
            "Requirement already satisfied: gast>=0.2.1 in /usr/local/lib/python3.7/dist-packages (from tensorflow) (0.5.3)\n",
            "Requirement already satisfied: protobuf<3.20,>=3.9.2 in /usr/local/lib/python3.7/dist-packages (from tensorflow) (3.17.3)\n",
            "Requirement already satisfied: astunparse>=1.6.0 in /usr/local/lib/python3.7/dist-packages (from tensorflow) (1.6.3)\n",
            "Requirement already satisfied: keras<2.9,>=2.8.0rc0 in /usr/local/lib/python3.7/dist-packages (from tensorflow) (2.8.0)\n",
            "Requirement already satisfied: wheel<1.0,>=0.23.0 in /usr/local/lib/python3.7/dist-packages (from astunparse>=1.6.0->tensorflow) (0.37.1)\n",
            "Requirement already satisfied: cached-property in /usr/local/lib/python3.7/dist-packages (from h5py>=2.9.0->tensorflow) (1.5.2)\n",
            "Requirement already satisfied: google-auth<3,>=1.6.3 in /usr/local/lib/python3.7/dist-packages (from tensorboard<2.9,>=2.8->tensorflow) (1.35.0)\n",
            "Requirement already satisfied: tensorboard-plugin-wit>=1.6.0 in /usr/local/lib/python3.7/dist-packages (from tensorboard<2.9,>=2.8->tensorflow) (1.8.1)\n",
            "Requirement already satisfied: requests<3,>=2.21.0 in /usr/local/lib/python3.7/dist-packages (from tensorboard<2.9,>=2.8->tensorflow) (2.23.0)\n",
            "Requirement already satisfied: werkzeug>=0.11.15 in /usr/local/lib/python3.7/dist-packages (from tensorboard<2.9,>=2.8->tensorflow) (1.0.1)\n",
            "Requirement already satisfied: tensorboard-data-server<0.7.0,>=0.6.0 in /usr/local/lib/python3.7/dist-packages (from tensorboard<2.9,>=2.8->tensorflow) (0.6.1)\n",
            "Requirement already satisfied: markdown>=2.6.8 in /usr/local/lib/python3.7/dist-packages (from tensorboard<2.9,>=2.8->tensorflow) (3.3.7)\n",
            "Requirement already satisfied: google-auth-oauthlib<0.5,>=0.4.1 in /usr/local/lib/python3.7/dist-packages (from tensorboard<2.9,>=2.8->tensorflow) (0.4.6)\n",
            "Requirement already satisfied: rsa<5,>=3.1.4 in /usr/local/lib/python3.7/dist-packages (from google-auth<3,>=1.6.3->tensorboard<2.9,>=2.8->tensorflow) (4.8)\n",
            "Requirement already satisfied: pyasn1-modules>=0.2.1 in /usr/local/lib/python3.7/dist-packages (from google-auth<3,>=1.6.3->tensorboard<2.9,>=2.8->tensorflow) (0.2.8)\n",
            "Requirement already satisfied: cachetools<5.0,>=2.0.0 in /usr/local/lib/python3.7/dist-packages (from google-auth<3,>=1.6.3->tensorboard<2.9,>=2.8->tensorflow) (4.2.4)\n",
            "Requirement already satisfied: requests-oauthlib>=0.7.0 in /usr/local/lib/python3.7/dist-packages (from google-auth-oauthlib<0.5,>=0.4.1->tensorboard<2.9,>=2.8->tensorflow) (1.3.1)\n",
            "Requirement already satisfied: importlib-metadata>=4.4 in /usr/local/lib/python3.7/dist-packages (from markdown>=2.6.8->tensorboard<2.9,>=2.8->tensorflow) (4.11.4)\n",
            "Requirement already satisfied: zipp>=0.5 in /usr/local/lib/python3.7/dist-packages (from importlib-metadata>=4.4->markdown>=2.6.8->tensorboard<2.9,>=2.8->tensorflow) (3.8.0)\n",
            "Requirement already satisfied: pyasn1<0.5.0,>=0.4.6 in /usr/local/lib/python3.7/dist-packages (from pyasn1-modules>=0.2.1->google-auth<3,>=1.6.3->tensorboard<2.9,>=2.8->tensorflow) (0.4.8)\n",
            "Requirement already satisfied: chardet<4,>=3.0.2 in /usr/local/lib/python3.7/dist-packages (from requests<3,>=2.21.0->tensorboard<2.9,>=2.8->tensorflow) (3.0.4)\n",
            "Requirement already satisfied: idna<3,>=2.5 in /usr/local/lib/python3.7/dist-packages (from requests<3,>=2.21.0->tensorboard<2.9,>=2.8->tensorflow) (2.10)\n",
            "Requirement already satisfied: urllib3!=1.25.0,!=1.25.1,<1.26,>=1.21.1 in /usr/local/lib/python3.7/dist-packages (from requests<3,>=2.21.0->tensorboard<2.9,>=2.8->tensorflow) (1.24.3)\n",
            "Requirement already satisfied: certifi>=2017.4.17 in /usr/local/lib/python3.7/dist-packages (from requests<3,>=2.21.0->tensorboard<2.9,>=2.8->tensorflow) (2022.5.18.1)\n",
            "Requirement already satisfied: oauthlib>=3.0.0 in /usr/local/lib/python3.7/dist-packages (from requests-oauthlib>=0.7.0->google-auth-oauthlib<0.5,>=0.4.1->tensorboard<2.9,>=2.8->tensorflow) (3.2.0)\n"
          ]
        }
      ]
    },
    {
      "cell_type": "code",
      "source": [
        "!pip install keras"
      ],
      "metadata": {
        "id": "EkcmN9UrKSxj",
        "colab": {
          "base_uri": "https://localhost:8080/"
        },
        "outputId": "2af49ede-c053-467f-81a5-85e6e71ae8b6"
      },
      "execution_count": 17,
      "outputs": [
        {
          "output_type": "stream",
          "name": "stdout",
          "text": [
            "Looking in indexes: https://pypi.org/simple, https://us-python.pkg.dev/colab-wheels/public/simple/\n",
            "Requirement already satisfied: keras in /usr/local/lib/python3.7/dist-packages (2.8.0)\n"
          ]
        }
      ]
    },
    {
      "cell_type": "code",
      "source": [
        "import keras\n",
        "import numpy as np\n",
        "import matplotlib.pyplot as plt\n",
        "import tensorflow as tf\n",
        "from keras.preprocessing import sequence\n",
        "from keras.models import Sequential\n",
        "from keras.layers import Dense, Embedding\n",
        "from tensorflow.keras.utils import to_categorical\n",
        "from keras.layers import Input, Flatten, Dropout, Activation\n",
        "from keras.layers import Conv1D, MaxPooling1D\n",
        "from keras.models import Model\n",
        "from keras.callbacks import ModelCheckpoint\n",
        "from tensorflow.keras import optimizers\n",
        "\n",
        "model = Sequential()\n",
        "\n",
        "model.add(Conv1D(128, 8,padding='same', #classifier.add(Convolution2D(64, (3, 3), padding = 'same', input_shape = (128, 128, 3), activation = 'relu'))\n",
        "                 input_shape=(40,1)))\n",
        "model.add(Activation('relu'))\n",
        "model.add(Dropout(0.3))\n",
        "model.add(MaxPooling1D(pool_size=(5)))\n",
        "\n",
        "\n",
        "model.add(Conv1D(256,8,padding='same',))\n",
        "model.add(Activation('relu'))\n",
        "model.add(Dropout(0.3))\n",
        "model.add(MaxPooling1D(pool_size=(5)))\n",
        "\n",
        "model.add(Flatten())\n",
        "\n",
        "model.add(Dense(256))\n",
        "model.add(Activation('relu'))\n",
        "model.add(Dense(256))\n",
        "model.add(Activation('relu'))\n",
        "\n",
        "model.add(Dense(6))\n",
        "model.add(Activation('softmax'))\n",
        "\n",
        "#opt = tf.keras.optimizers.Adam(lr=0.00002)\n",
        "opt = tf.keras.optimizers.RMSprop(lr=0.0001, rho=0.9, epsilon=1e-07, decay=0.0)\n",
        "#opt = tf.keras.optimizers.SGD(lr=0.001, momentum=0.0, decay=0.0, nesterov=False)"
      ],
      "metadata": {
        "id": "g74fXWVAC4Cr",
        "colab": {
          "base_uri": "https://localhost:8080/"
        },
        "outputId": "f16ff230-04bf-4221-9983-f2165fec65c6"
      },
      "execution_count": 18,
      "outputs": [
        {
          "output_type": "stream",
          "name": "stderr",
          "text": [
            "/usr/local/lib/python3.7/dist-packages/keras/optimizer_v2/rmsprop.py:130: UserWarning:\n",
            "\n",
            "The `lr` argument is deprecated, use `learning_rate` instead.\n",
            "\n"
          ]
        }
      ]
    },
    {
      "cell_type": "code",
      "source": [
        "model.summary()"
      ],
      "metadata": {
        "colab": {
          "base_uri": "https://localhost:8080/"
        },
        "id": "H6ukOxAGC_I4",
        "outputId": "c0250238-530a-4f78-ca61-1cadbbcfe1f9"
      },
      "execution_count": 19,
      "outputs": [
        {
          "output_type": "stream",
          "name": "stdout",
          "text": [
            "Model: \"sequential\"\n",
            "_________________________________________________________________\n",
            " Layer (type)                Output Shape              Param #   \n",
            "=================================================================\n",
            " conv1d (Conv1D)             (None, 40, 128)           1152      \n",
            "                                                                 \n",
            " activation (Activation)     (None, 40, 128)           0         \n",
            "                                                                 \n",
            " dropout (Dropout)           (None, 40, 128)           0         \n",
            "                                                                 \n",
            " max_pooling1d (MaxPooling1D  (None, 8, 128)           0         \n",
            " )                                                               \n",
            "                                                                 \n",
            " conv1d_1 (Conv1D)           (None, 8, 256)            262400    \n",
            "                                                                 \n",
            " activation_1 (Activation)   (None, 8, 256)            0         \n",
            "                                                                 \n",
            " dropout_1 (Dropout)         (None, 8, 256)            0         \n",
            "                                                                 \n",
            " max_pooling1d_1 (MaxPooling  (None, 1, 256)           0         \n",
            " 1D)                                                             \n",
            "                                                                 \n",
            " flatten (Flatten)           (None, 256)               0         \n",
            "                                                                 \n",
            " dense (Dense)               (None, 256)               65792     \n",
            "                                                                 \n",
            " activation_2 (Activation)   (None, 256)               0         \n",
            "                                                                 \n",
            " dense_1 (Dense)             (None, 256)               65792     \n",
            "                                                                 \n",
            " activation_3 (Activation)   (None, 256)               0         \n",
            "                                                                 \n",
            " dense_2 (Dense)             (None, 6)                 1542      \n",
            "                                                                 \n",
            " activation_4 (Activation)   (None, 6)                 0         \n",
            "                                                                 \n",
            "=================================================================\n",
            "Total params: 396,678\n",
            "Trainable params: 396,678\n",
            "Non-trainable params: 0\n",
            "_________________________________________________________________\n"
          ]
        }
      ]
    },
    {
      "cell_type": "code",
      "source": [
        "model.compile(loss='sparse_categorical_crossentropy',\n",
        "              optimizer=opt,\n",
        "              metrics=['accuracy'])"
      ],
      "metadata": {
        "id": "AbMlLNk4DCBM"
      },
      "execution_count": 20,
      "outputs": []
    },
    {
      "cell_type": "code",
      "source": [
        "#cnnhistory=model.fit(x_traincnn, y_train, batch_size=16, epochs=700, validation_data=(x_testcnn, y_test))\n",
        "cnnhistory=model.fit(x_traincnn, y_train, batch_size=16, epochs=500 , validation_data=(X_valid, y_valid))"
      ],
      "metadata": {
        "colab": {
          "base_uri": "https://localhost:8080/"
        },
        "id": "RI1v2AuADFhy",
        "outputId": "b2a7fd76-44b3-4bf1-a049-8b09595ef17b"
      },
      "execution_count": 21,
      "outputs": [
        {
          "output_type": "stream",
          "name": "stdout",
          "text": [
            "Epoch 1/500\n",
            "104/104 [==============================] - 4s 13ms/step - loss: 4.4998 - accuracy: 0.1747 - val_loss: 1.8635 - val_accuracy: 0.2415\n",
            "Epoch 2/500\n",
            "104/104 [==============================] - 1s 8ms/step - loss: 2.7765 - accuracy: 0.1947 - val_loss: 1.7838 - val_accuracy: 0.2077\n",
            "Epoch 3/500\n",
            "104/104 [==============================] - 1s 9ms/step - loss: 2.3650 - accuracy: 0.2134 - val_loss: 1.7591 - val_accuracy: 0.2367\n",
            "Epoch 4/500\n",
            "104/104 [==============================] - 1s 10ms/step - loss: 2.1337 - accuracy: 0.2068 - val_loss: 1.8037 - val_accuracy: 0.2077\n",
            "Epoch 5/500\n",
            "104/104 [==============================] - 1s 10ms/step - loss: 2.0293 - accuracy: 0.2207 - val_loss: 1.7293 - val_accuracy: 0.2126\n",
            "Epoch 6/500\n",
            "104/104 [==============================] - 1s 9ms/step - loss: 1.9808 - accuracy: 0.2164 - val_loss: 1.7519 - val_accuracy: 0.2319\n",
            "Epoch 7/500\n",
            "104/104 [==============================] - 1s 9ms/step - loss: 1.9164 - accuracy: 0.2430 - val_loss: 1.7429 - val_accuracy: 0.2222\n",
            "Epoch 8/500\n",
            "104/104 [==============================] - 1s 9ms/step - loss: 1.8613 - accuracy: 0.2485 - val_loss: 1.7613 - val_accuracy: 0.1594\n",
            "Epoch 9/500\n",
            "104/104 [==============================] - 1s 8ms/step - loss: 1.8119 - accuracy: 0.2509 - val_loss: 1.7280 - val_accuracy: 0.2174\n",
            "Epoch 10/500\n",
            "104/104 [==============================] - 1s 7ms/step - loss: 1.8018 - accuracy: 0.2594 - val_loss: 1.7006 - val_accuracy: 0.3188\n",
            "Epoch 11/500\n",
            "104/104 [==============================] - 1s 10ms/step - loss: 1.7762 - accuracy: 0.2606 - val_loss: 1.6360 - val_accuracy: 0.3092\n",
            "Epoch 12/500\n",
            "104/104 [==============================] - 1s 10ms/step - loss: 1.7512 - accuracy: 0.2666 - val_loss: 1.6096 - val_accuracy: 0.3092\n",
            "Epoch 13/500\n",
            "104/104 [==============================] - 1s 9ms/step - loss: 1.7380 - accuracy: 0.2817 - val_loss: 1.7649 - val_accuracy: 0.2415\n",
            "Epoch 14/500\n",
            "104/104 [==============================] - 1s 9ms/step - loss: 1.7116 - accuracy: 0.2836 - val_loss: 1.6631 - val_accuracy: 0.2947\n",
            "Epoch 15/500\n",
            "104/104 [==============================] - 1s 8ms/step - loss: 1.6970 - accuracy: 0.2902 - val_loss: 1.6509 - val_accuracy: 0.2609\n",
            "Epoch 16/500\n",
            "104/104 [==============================] - 1s 8ms/step - loss: 1.6631 - accuracy: 0.3120 - val_loss: 1.6308 - val_accuracy: 0.2560\n",
            "Epoch 17/500\n",
            "104/104 [==============================] - 1s 8ms/step - loss: 1.6413 - accuracy: 0.3150 - val_loss: 1.6501 - val_accuracy: 0.2995\n",
            "Epoch 18/500\n",
            "104/104 [==============================] - 1s 9ms/step - loss: 1.6256 - accuracy: 0.3343 - val_loss: 1.5650 - val_accuracy: 0.3333\n",
            "Epoch 19/500\n",
            "104/104 [==============================] - 1s 9ms/step - loss: 1.6076 - accuracy: 0.3283 - val_loss: 1.5428 - val_accuracy: 0.4155\n",
            "Epoch 20/500\n",
            "104/104 [==============================] - 1s 9ms/step - loss: 1.6068 - accuracy: 0.3356 - val_loss: 1.5509 - val_accuracy: 0.3382\n",
            "Epoch 21/500\n",
            "104/104 [==============================] - 1s 9ms/step - loss: 1.5979 - accuracy: 0.3241 - val_loss: 1.6555 - val_accuracy: 0.3092\n",
            "Epoch 22/500\n",
            "104/104 [==============================] - 1s 9ms/step - loss: 1.5909 - accuracy: 0.3482 - val_loss: 1.5044 - val_accuracy: 0.3913\n",
            "Epoch 23/500\n",
            "104/104 [==============================] - 1s 9ms/step - loss: 1.5637 - accuracy: 0.3543 - val_loss: 1.5133 - val_accuracy: 0.3913\n",
            "Epoch 24/500\n",
            "104/104 [==============================] - 1s 7ms/step - loss: 1.5510 - accuracy: 0.3349 - val_loss: 1.4705 - val_accuracy: 0.4203\n",
            "Epoch 25/500\n",
            "104/104 [==============================] - 1s 8ms/step - loss: 1.5208 - accuracy: 0.3682 - val_loss: 1.5763 - val_accuracy: 0.3092\n",
            "Epoch 26/500\n",
            "104/104 [==============================] - 1s 8ms/step - loss: 1.5206 - accuracy: 0.3628 - val_loss: 1.5041 - val_accuracy: 0.3623\n",
            "Epoch 27/500\n",
            "104/104 [==============================] - 1s 9ms/step - loss: 1.4898 - accuracy: 0.3748 - val_loss: 1.4152 - val_accuracy: 0.4928\n",
            "Epoch 28/500\n",
            "104/104 [==============================] - 1s 9ms/step - loss: 1.4981 - accuracy: 0.3712 - val_loss: 1.4210 - val_accuracy: 0.4831\n",
            "Epoch 29/500\n",
            "104/104 [==============================] - 1s 9ms/step - loss: 1.4719 - accuracy: 0.3815 - val_loss: 1.4517 - val_accuracy: 0.4348\n",
            "Epoch 30/500\n",
            "104/104 [==============================] - 1s 7ms/step - loss: 1.4477 - accuracy: 0.4093 - val_loss: 1.3876 - val_accuracy: 0.4396\n",
            "Epoch 31/500\n",
            "104/104 [==============================] - 1s 7ms/step - loss: 1.4335 - accuracy: 0.3948 - val_loss: 1.3329 - val_accuracy: 0.5072\n",
            "Epoch 32/500\n",
            "104/104 [==============================] - 1s 8ms/step - loss: 1.4181 - accuracy: 0.4232 - val_loss: 1.3577 - val_accuracy: 0.4444\n",
            "Epoch 33/500\n",
            "104/104 [==============================] - 1s 5ms/step - loss: 1.4032 - accuracy: 0.4347 - val_loss: 1.4097 - val_accuracy: 0.4493\n",
            "Epoch 34/500\n",
            "104/104 [==============================] - 1s 5ms/step - loss: 1.3939 - accuracy: 0.4305 - val_loss: 1.3290 - val_accuracy: 0.5024\n",
            "Epoch 35/500\n",
            "104/104 [==============================] - 1s 5ms/step - loss: 1.3586 - accuracy: 0.4407 - val_loss: 1.3241 - val_accuracy: 0.4928\n",
            "Epoch 36/500\n",
            "104/104 [==============================] - 0s 5ms/step - loss: 1.3605 - accuracy: 0.4311 - val_loss: 1.3536 - val_accuracy: 0.4444\n",
            "Epoch 37/500\n",
            "104/104 [==============================] - 1s 5ms/step - loss: 1.3437 - accuracy: 0.4541 - val_loss: 1.3393 - val_accuracy: 0.4879\n",
            "Epoch 38/500\n",
            "104/104 [==============================] - 1s 5ms/step - loss: 1.3318 - accuracy: 0.4528 - val_loss: 1.2977 - val_accuracy: 0.5024\n",
            "Epoch 39/500\n",
            "104/104 [==============================] - 1s 5ms/step - loss: 1.3096 - accuracy: 0.4583 - val_loss: 1.2151 - val_accuracy: 0.5700\n",
            "Epoch 40/500\n",
            "104/104 [==============================] - 1s 5ms/step - loss: 1.2845 - accuracy: 0.4788 - val_loss: 1.3395 - val_accuracy: 0.4300\n",
            "Epoch 41/500\n",
            "104/104 [==============================] - 1s 5ms/step - loss: 1.2845 - accuracy: 0.4692 - val_loss: 1.3254 - val_accuracy: 0.4879\n",
            "Epoch 42/500\n",
            "104/104 [==============================] - 1s 5ms/step - loss: 1.2838 - accuracy: 0.4855 - val_loss: 1.2398 - val_accuracy: 0.5314\n",
            "Epoch 43/500\n",
            "104/104 [==============================] - 1s 5ms/step - loss: 1.2676 - accuracy: 0.4788 - val_loss: 1.2268 - val_accuracy: 0.5507\n",
            "Epoch 44/500\n",
            "104/104 [==============================] - 1s 5ms/step - loss: 1.2751 - accuracy: 0.4674 - val_loss: 1.1954 - val_accuracy: 0.5121\n",
            "Epoch 45/500\n",
            "104/104 [==============================] - 1s 5ms/step - loss: 1.2353 - accuracy: 0.4976 - val_loss: 1.2542 - val_accuracy: 0.5169\n",
            "Epoch 46/500\n",
            "104/104 [==============================] - 1s 5ms/step - loss: 1.2419 - accuracy: 0.5036 - val_loss: 1.2010 - val_accuracy: 0.5556\n",
            "Epoch 47/500\n",
            "104/104 [==============================] - 1s 5ms/step - loss: 1.2147 - accuracy: 0.5067 - val_loss: 1.1565 - val_accuracy: 0.5362\n",
            "Epoch 48/500\n",
            "104/104 [==============================] - 1s 5ms/step - loss: 1.2047 - accuracy: 0.5054 - val_loss: 1.1997 - val_accuracy: 0.5314\n",
            "Epoch 49/500\n",
            "104/104 [==============================] - 0s 5ms/step - loss: 1.1863 - accuracy: 0.5079 - val_loss: 1.2063 - val_accuracy: 0.5217\n",
            "Epoch 50/500\n",
            "104/104 [==============================] - 1s 5ms/step - loss: 1.1854 - accuracy: 0.5193 - val_loss: 1.1338 - val_accuracy: 0.5459\n",
            "Epoch 51/500\n",
            "104/104 [==============================] - 0s 5ms/step - loss: 1.1699 - accuracy: 0.5272 - val_loss: 1.1093 - val_accuracy: 0.5749\n",
            "Epoch 52/500\n",
            "104/104 [==============================] - 1s 5ms/step - loss: 1.1721 - accuracy: 0.5206 - val_loss: 1.1726 - val_accuracy: 0.5507\n",
            "Epoch 53/500\n",
            "104/104 [==============================] - 1s 5ms/step - loss: 1.1721 - accuracy: 0.5290 - val_loss: 1.0985 - val_accuracy: 0.5556\n",
            "Epoch 54/500\n",
            "104/104 [==============================] - 1s 5ms/step - loss: 1.1465 - accuracy: 0.5254 - val_loss: 1.1020 - val_accuracy: 0.6087\n",
            "Epoch 55/500\n",
            "104/104 [==============================] - 0s 5ms/step - loss: 1.1265 - accuracy: 0.5411 - val_loss: 1.1042 - val_accuracy: 0.5314\n",
            "Epoch 56/500\n",
            "104/104 [==============================] - 1s 5ms/step - loss: 1.1268 - accuracy: 0.5302 - val_loss: 1.0884 - val_accuracy: 0.6232\n",
            "Epoch 57/500\n",
            "104/104 [==============================] - 1s 5ms/step - loss: 1.1008 - accuracy: 0.5363 - val_loss: 1.1474 - val_accuracy: 0.5652\n",
            "Epoch 58/500\n",
            "104/104 [==============================] - 1s 5ms/step - loss: 1.1172 - accuracy: 0.5393 - val_loss: 1.0628 - val_accuracy: 0.5700\n",
            "Epoch 59/500\n",
            "104/104 [==============================] - 1s 5ms/step - loss: 1.1022 - accuracy: 0.5568 - val_loss: 1.1224 - val_accuracy: 0.5556\n",
            "Epoch 60/500\n",
            "104/104 [==============================] - 1s 5ms/step - loss: 1.1032 - accuracy: 0.5453 - val_loss: 1.0637 - val_accuracy: 0.6135\n",
            "Epoch 61/500\n",
            "104/104 [==============================] - 1s 5ms/step - loss: 1.0970 - accuracy: 0.5665 - val_loss: 1.0703 - val_accuracy: 0.6329\n",
            "Epoch 62/500\n",
            "104/104 [==============================] - 1s 5ms/step - loss: 1.0843 - accuracy: 0.5653 - val_loss: 1.0929 - val_accuracy: 0.5556\n",
            "Epoch 63/500\n",
            "104/104 [==============================] - 1s 5ms/step - loss: 1.0660 - accuracy: 0.5744 - val_loss: 1.0837 - val_accuracy: 0.5604\n",
            "Epoch 64/500\n",
            "104/104 [==============================] - 1s 5ms/step - loss: 1.0585 - accuracy: 0.5768 - val_loss: 1.0600 - val_accuracy: 0.5411\n",
            "Epoch 65/500\n",
            "104/104 [==============================] - 1s 5ms/step - loss: 1.0850 - accuracy: 0.5635 - val_loss: 1.0552 - val_accuracy: 0.5990\n",
            "Epoch 66/500\n",
            "104/104 [==============================] - 1s 5ms/step - loss: 1.0274 - accuracy: 0.5707 - val_loss: 1.0464 - val_accuracy: 0.5797\n",
            "Epoch 67/500\n",
            "104/104 [==============================] - 1s 5ms/step - loss: 1.0471 - accuracy: 0.5804 - val_loss: 1.0774 - val_accuracy: 0.5845\n",
            "Epoch 68/500\n",
            "104/104 [==============================] - 1s 5ms/step - loss: 1.0306 - accuracy: 0.5810 - val_loss: 0.9883 - val_accuracy: 0.6232\n",
            "Epoch 69/500\n",
            "104/104 [==============================] - 1s 5ms/step - loss: 1.0306 - accuracy: 0.5846 - val_loss: 1.0238 - val_accuracy: 0.6425\n",
            "Epoch 70/500\n",
            "104/104 [==============================] - 0s 5ms/step - loss: 1.0011 - accuracy: 0.6034 - val_loss: 1.0107 - val_accuracy: 0.5990\n",
            "Epoch 71/500\n",
            "104/104 [==============================] - 1s 5ms/step - loss: 1.0017 - accuracy: 0.6028 - val_loss: 0.9944 - val_accuracy: 0.6087\n",
            "Epoch 72/500\n",
            "104/104 [==============================] - 0s 5ms/step - loss: 1.0015 - accuracy: 0.5889 - val_loss: 1.0280 - val_accuracy: 0.5942\n",
            "Epoch 73/500\n",
            "104/104 [==============================] - 1s 5ms/step - loss: 0.9599 - accuracy: 0.6203 - val_loss: 1.0110 - val_accuracy: 0.5894\n",
            "Epoch 74/500\n",
            "104/104 [==============================] - 1s 5ms/step - loss: 0.9656 - accuracy: 0.6016 - val_loss: 0.9815 - val_accuracy: 0.6280\n",
            "Epoch 75/500\n",
            "104/104 [==============================] - 1s 5ms/step - loss: 0.9773 - accuracy: 0.6046 - val_loss: 1.0089 - val_accuracy: 0.6184\n",
            "Epoch 76/500\n",
            "104/104 [==============================] - 1s 5ms/step - loss: 0.9688 - accuracy: 0.6070 - val_loss: 1.0512 - val_accuracy: 0.5556\n",
            "Epoch 77/500\n",
            "104/104 [==============================] - 1s 5ms/step - loss: 0.9678 - accuracy: 0.6167 - val_loss: 0.9613 - val_accuracy: 0.6280\n",
            "Epoch 78/500\n",
            "104/104 [==============================] - 1s 5ms/step - loss: 0.9509 - accuracy: 0.6203 - val_loss: 0.9971 - val_accuracy: 0.6087\n",
            "Epoch 79/500\n",
            "104/104 [==============================] - 1s 5ms/step - loss: 0.9530 - accuracy: 0.6088 - val_loss: 1.0025 - val_accuracy: 0.5845\n",
            "Epoch 80/500\n",
            "104/104 [==============================] - 1s 5ms/step - loss: 0.9305 - accuracy: 0.6306 - val_loss: 1.0020 - val_accuracy: 0.6184\n",
            "Epoch 81/500\n",
            "104/104 [==============================] - 1s 5ms/step - loss: 0.9357 - accuracy: 0.6197 - val_loss: 0.9584 - val_accuracy: 0.6522\n",
            "Epoch 82/500\n",
            "104/104 [==============================] - 0s 5ms/step - loss: 0.9303 - accuracy: 0.6264 - val_loss: 1.0707 - val_accuracy: 0.5411\n",
            "Epoch 83/500\n",
            "104/104 [==============================] - 1s 5ms/step - loss: 0.9141 - accuracy: 0.6336 - val_loss: 0.9106 - val_accuracy: 0.6135\n",
            "Epoch 84/500\n",
            "104/104 [==============================] - 1s 5ms/step - loss: 0.9113 - accuracy: 0.6330 - val_loss: 0.9499 - val_accuracy: 0.6039\n",
            "Epoch 85/500\n",
            "104/104 [==============================] - 1s 5ms/step - loss: 0.8917 - accuracy: 0.6518 - val_loss: 0.9019 - val_accuracy: 0.6425\n",
            "Epoch 86/500\n",
            "104/104 [==============================] - 1s 5ms/step - loss: 0.8962 - accuracy: 0.6433 - val_loss: 0.9411 - val_accuracy: 0.6280\n",
            "Epoch 87/500\n",
            "104/104 [==============================] - 1s 5ms/step - loss: 0.8939 - accuracy: 0.6487 - val_loss: 0.9079 - val_accuracy: 0.6522\n",
            "Epoch 88/500\n",
            "104/104 [==============================] - 1s 5ms/step - loss: 0.8920 - accuracy: 0.6385 - val_loss: 0.9166 - val_accuracy: 0.6329\n",
            "Epoch 89/500\n",
            "104/104 [==============================] - 1s 5ms/step - loss: 0.8919 - accuracy: 0.6505 - val_loss: 0.9262 - val_accuracy: 0.6329\n",
            "Epoch 90/500\n",
            "104/104 [==============================] - 1s 5ms/step - loss: 0.8989 - accuracy: 0.6378 - val_loss: 0.9013 - val_accuracy: 0.6425\n",
            "Epoch 91/500\n",
            "104/104 [==============================] - 0s 5ms/step - loss: 0.8749 - accuracy: 0.6499 - val_loss: 0.9732 - val_accuracy: 0.5845\n",
            "Epoch 92/500\n",
            "104/104 [==============================] - 0s 5ms/step - loss: 0.8650 - accuracy: 0.6554 - val_loss: 0.9406 - val_accuracy: 0.6184\n",
            "Epoch 93/500\n",
            "104/104 [==============================] - 0s 5ms/step - loss: 0.8760 - accuracy: 0.6518 - val_loss: 0.9693 - val_accuracy: 0.6280\n",
            "Epoch 94/500\n",
            "104/104 [==============================] - 1s 5ms/step - loss: 0.8505 - accuracy: 0.6632 - val_loss: 0.9466 - val_accuracy: 0.6039\n",
            "Epoch 95/500\n",
            "104/104 [==============================] - 1s 5ms/step - loss: 0.8503 - accuracy: 0.6493 - val_loss: 0.8928 - val_accuracy: 0.6184\n",
            "Epoch 96/500\n",
            "104/104 [==============================] - 1s 5ms/step - loss: 0.8385 - accuracy: 0.6717 - val_loss: 0.8997 - val_accuracy: 0.6618\n",
            "Epoch 97/500\n",
            "104/104 [==============================] - 1s 5ms/step - loss: 0.8306 - accuracy: 0.6711 - val_loss: 0.8965 - val_accuracy: 0.6715\n",
            "Epoch 98/500\n",
            "104/104 [==============================] - 1s 5ms/step - loss: 0.8686 - accuracy: 0.6518 - val_loss: 0.8917 - val_accuracy: 0.6570\n",
            "Epoch 99/500\n",
            "104/104 [==============================] - 1s 5ms/step - loss: 0.8547 - accuracy: 0.6651 - val_loss: 0.9734 - val_accuracy: 0.6087\n",
            "Epoch 100/500\n",
            "104/104 [==============================] - 1s 5ms/step - loss: 0.8109 - accuracy: 0.6699 - val_loss: 0.9006 - val_accuracy: 0.6473\n",
            "Epoch 101/500\n",
            "104/104 [==============================] - 1s 5ms/step - loss: 0.8274 - accuracy: 0.6693 - val_loss: 0.8894 - val_accuracy: 0.6618\n",
            "Epoch 102/500\n",
            "104/104 [==============================] - 1s 5ms/step - loss: 0.8132 - accuracy: 0.6699 - val_loss: 0.8693 - val_accuracy: 0.6473\n",
            "Epoch 103/500\n",
            "104/104 [==============================] - 0s 5ms/step - loss: 0.8123 - accuracy: 0.6771 - val_loss: 0.9061 - val_accuracy: 0.6377\n",
            "Epoch 104/500\n",
            "104/104 [==============================] - 1s 5ms/step - loss: 0.8046 - accuracy: 0.6626 - val_loss: 0.8895 - val_accuracy: 0.6522\n",
            "Epoch 105/500\n",
            "104/104 [==============================] - 1s 5ms/step - loss: 0.8044 - accuracy: 0.6886 - val_loss: 0.9025 - val_accuracy: 0.6329\n",
            "Epoch 106/500\n",
            "104/104 [==============================] - 1s 5ms/step - loss: 0.8070 - accuracy: 0.6790 - val_loss: 0.8674 - val_accuracy: 0.6522\n",
            "Epoch 107/500\n",
            "104/104 [==============================] - 1s 5ms/step - loss: 0.8032 - accuracy: 0.6868 - val_loss: 0.8658 - val_accuracy: 0.6425\n",
            "Epoch 108/500\n",
            "104/104 [==============================] - 1s 5ms/step - loss: 0.7729 - accuracy: 0.6917 - val_loss: 0.8482 - val_accuracy: 0.6957\n",
            "Epoch 109/500\n",
            "104/104 [==============================] - 1s 5ms/step - loss: 0.7891 - accuracy: 0.6808 - val_loss: 0.8668 - val_accuracy: 0.6812\n",
            "Epoch 110/500\n",
            "104/104 [==============================] - 1s 5ms/step - loss: 0.7731 - accuracy: 0.6995 - val_loss: 0.8420 - val_accuracy: 0.6715\n",
            "Epoch 111/500\n",
            "104/104 [==============================] - 1s 5ms/step - loss: 0.7843 - accuracy: 0.6729 - val_loss: 0.8641 - val_accuracy: 0.6763\n",
            "Epoch 112/500\n",
            "104/104 [==============================] - 1s 5ms/step - loss: 0.7631 - accuracy: 0.7062 - val_loss: 0.9037 - val_accuracy: 0.6329\n",
            "Epoch 113/500\n",
            "104/104 [==============================] - 1s 5ms/step - loss: 0.7705 - accuracy: 0.7001 - val_loss: 0.8504 - val_accuracy: 0.6715\n",
            "Epoch 114/500\n",
            "104/104 [==============================] - 1s 6ms/step - loss: 0.7612 - accuracy: 0.7074 - val_loss: 0.8448 - val_accuracy: 0.6570\n",
            "Epoch 115/500\n",
            "104/104 [==============================] - 1s 6ms/step - loss: 0.7734 - accuracy: 0.6935 - val_loss: 0.8337 - val_accuracy: 0.6570\n",
            "Epoch 116/500\n",
            "104/104 [==============================] - 1s 5ms/step - loss: 0.7662 - accuracy: 0.6923 - val_loss: 0.7972 - val_accuracy: 0.7053\n",
            "Epoch 117/500\n",
            "104/104 [==============================] - 1s 5ms/step - loss: 0.7404 - accuracy: 0.7056 - val_loss: 0.8198 - val_accuracy: 0.6908\n",
            "Epoch 118/500\n",
            "104/104 [==============================] - 1s 5ms/step - loss: 0.7593 - accuracy: 0.6995 - val_loss: 0.8259 - val_accuracy: 0.6667\n",
            "Epoch 119/500\n",
            "104/104 [==============================] - 1s 5ms/step - loss: 0.7377 - accuracy: 0.7146 - val_loss: 0.7944 - val_accuracy: 0.6957\n",
            "Epoch 120/500\n",
            "104/104 [==============================] - 1s 5ms/step - loss: 0.7203 - accuracy: 0.7140 - val_loss: 0.8080 - val_accuracy: 0.6957\n",
            "Epoch 121/500\n",
            "104/104 [==============================] - 1s 5ms/step - loss: 0.7334 - accuracy: 0.7146 - val_loss: 0.8179 - val_accuracy: 0.6667\n",
            "Epoch 122/500\n",
            "104/104 [==============================] - 1s 5ms/step - loss: 0.7226 - accuracy: 0.7098 - val_loss: 0.8099 - val_accuracy: 0.7101\n",
            "Epoch 123/500\n",
            "104/104 [==============================] - 1s 5ms/step - loss: 0.7186 - accuracy: 0.7189 - val_loss: 0.8358 - val_accuracy: 0.6763\n",
            "Epoch 124/500\n",
            "104/104 [==============================] - 1s 5ms/step - loss: 0.7260 - accuracy: 0.7044 - val_loss: 0.8276 - val_accuracy: 0.6763\n",
            "Epoch 125/500\n",
            "104/104 [==============================] - 1s 5ms/step - loss: 0.7130 - accuracy: 0.7189 - val_loss: 0.8338 - val_accuracy: 0.6860\n",
            "Epoch 126/500\n",
            "104/104 [==============================] - 1s 5ms/step - loss: 0.7174 - accuracy: 0.7219 - val_loss: 0.8534 - val_accuracy: 0.6715\n",
            "Epoch 127/500\n",
            "104/104 [==============================] - 1s 5ms/step - loss: 0.7113 - accuracy: 0.7189 - val_loss: 0.7853 - val_accuracy: 0.6957\n",
            "Epoch 128/500\n",
            "104/104 [==============================] - 0s 5ms/step - loss: 0.7093 - accuracy: 0.7110 - val_loss: 0.8337 - val_accuracy: 0.6425\n",
            "Epoch 129/500\n",
            "104/104 [==============================] - 1s 5ms/step - loss: 0.7097 - accuracy: 0.7201 - val_loss: 0.8246 - val_accuracy: 0.6522\n",
            "Epoch 130/500\n",
            "104/104 [==============================] - 0s 5ms/step - loss: 0.7041 - accuracy: 0.7158 - val_loss: 0.8330 - val_accuracy: 0.7005\n",
            "Epoch 131/500\n",
            "104/104 [==============================] - 1s 5ms/step - loss: 0.6749 - accuracy: 0.7443 - val_loss: 0.8647 - val_accuracy: 0.6763\n",
            "Epoch 132/500\n",
            "104/104 [==============================] - 1s 5ms/step - loss: 0.6793 - accuracy: 0.7297 - val_loss: 0.8354 - val_accuracy: 0.6473\n",
            "Epoch 133/500\n",
            "104/104 [==============================] - 1s 5ms/step - loss: 0.7024 - accuracy: 0.7261 - val_loss: 0.8404 - val_accuracy: 0.6618\n",
            "Epoch 134/500\n",
            "104/104 [==============================] - 1s 5ms/step - loss: 0.6852 - accuracy: 0.7310 - val_loss: 0.8147 - val_accuracy: 0.7101\n",
            "Epoch 135/500\n",
            "104/104 [==============================] - 1s 5ms/step - loss: 0.6959 - accuracy: 0.7195 - val_loss: 0.8826 - val_accuracy: 0.6667\n",
            "Epoch 136/500\n",
            "104/104 [==============================] - 1s 5ms/step - loss: 0.6867 - accuracy: 0.7304 - val_loss: 0.8174 - val_accuracy: 0.6860\n",
            "Epoch 137/500\n",
            "104/104 [==============================] - 0s 5ms/step - loss: 0.6874 - accuracy: 0.7304 - val_loss: 0.7726 - val_accuracy: 0.7101\n",
            "Epoch 138/500\n",
            "104/104 [==============================] - 1s 5ms/step - loss: 0.6574 - accuracy: 0.7370 - val_loss: 0.8029 - val_accuracy: 0.7053\n",
            "Epoch 139/500\n",
            "104/104 [==============================] - 1s 5ms/step - loss: 0.6761 - accuracy: 0.7443 - val_loss: 0.7751 - val_accuracy: 0.7101\n",
            "Epoch 140/500\n",
            "104/104 [==============================] - 1s 5ms/step - loss: 0.6720 - accuracy: 0.7412 - val_loss: 0.8343 - val_accuracy: 0.6522\n",
            "Epoch 141/500\n",
            "104/104 [==============================] - 1s 5ms/step - loss: 0.6576 - accuracy: 0.7412 - val_loss: 0.7602 - val_accuracy: 0.7005\n",
            "Epoch 142/500\n",
            "104/104 [==============================] - 1s 5ms/step - loss: 0.6393 - accuracy: 0.7515 - val_loss: 0.8160 - val_accuracy: 0.6329\n",
            "Epoch 143/500\n",
            "104/104 [==============================] - 0s 5ms/step - loss: 0.6496 - accuracy: 0.7479 - val_loss: 0.8449 - val_accuracy: 0.7150\n",
            "Epoch 144/500\n",
            "104/104 [==============================] - 1s 5ms/step - loss: 0.6413 - accuracy: 0.7521 - val_loss: 0.7939 - val_accuracy: 0.7053\n",
            "Epoch 145/500\n",
            "104/104 [==============================] - 1s 5ms/step - loss: 0.6589 - accuracy: 0.7406 - val_loss: 0.8493 - val_accuracy: 0.6715\n",
            "Epoch 146/500\n",
            "104/104 [==============================] - 1s 5ms/step - loss: 0.6515 - accuracy: 0.7527 - val_loss: 0.7959 - val_accuracy: 0.7005\n",
            "Epoch 147/500\n",
            "104/104 [==============================] - 1s 5ms/step - loss: 0.6502 - accuracy: 0.7503 - val_loss: 0.7892 - val_accuracy: 0.6957\n",
            "Epoch 148/500\n",
            "104/104 [==============================] - 1s 5ms/step - loss: 0.6328 - accuracy: 0.7551 - val_loss: 0.7579 - val_accuracy: 0.7101\n",
            "Epoch 149/500\n",
            "104/104 [==============================] - 1s 5ms/step - loss: 0.6208 - accuracy: 0.7539 - val_loss: 0.8068 - val_accuracy: 0.6908\n",
            "Epoch 150/500\n",
            "104/104 [==============================] - 1s 5ms/step - loss: 0.6216 - accuracy: 0.7551 - val_loss: 0.7654 - val_accuracy: 0.7053\n",
            "Epoch 151/500\n",
            "104/104 [==============================] - 1s 5ms/step - loss: 0.6213 - accuracy: 0.7703 - val_loss: 0.7673 - val_accuracy: 0.7150\n",
            "Epoch 152/500\n",
            "104/104 [==============================] - 1s 5ms/step - loss: 0.6385 - accuracy: 0.7509 - val_loss: 0.7551 - val_accuracy: 0.7295\n",
            "Epoch 153/500\n",
            "104/104 [==============================] - 1s 5ms/step - loss: 0.6113 - accuracy: 0.7527 - val_loss: 0.8040 - val_accuracy: 0.7005\n",
            "Epoch 154/500\n",
            "104/104 [==============================] - 1s 5ms/step - loss: 0.6211 - accuracy: 0.7600 - val_loss: 0.7359 - val_accuracy: 0.6957\n",
            "Epoch 155/500\n",
            "104/104 [==============================] - 1s 11ms/step - loss: 0.6144 - accuracy: 0.7630 - val_loss: 0.8145 - val_accuracy: 0.6957\n",
            "Epoch 156/500\n",
            "104/104 [==============================] - 1s 8ms/step - loss: 0.6154 - accuracy: 0.7612 - val_loss: 0.7607 - val_accuracy: 0.7005\n",
            "Epoch 157/500\n",
            "104/104 [==============================] - 1s 9ms/step - loss: 0.6074 - accuracy: 0.7690 - val_loss: 0.7839 - val_accuracy: 0.6908\n",
            "Epoch 158/500\n",
            "104/104 [==============================] - 1s 7ms/step - loss: 0.6104 - accuracy: 0.7709 - val_loss: 0.7902 - val_accuracy: 0.7101\n",
            "Epoch 159/500\n",
            "104/104 [==============================] - 1s 10ms/step - loss: 0.6140 - accuracy: 0.7624 - val_loss: 0.8230 - val_accuracy: 0.6908\n",
            "Epoch 160/500\n",
            "104/104 [==============================] - 1s 5ms/step - loss: 0.5867 - accuracy: 0.7588 - val_loss: 0.8207 - val_accuracy: 0.6957\n",
            "Epoch 161/500\n",
            "104/104 [==============================] - 1s 5ms/step - loss: 0.5952 - accuracy: 0.7618 - val_loss: 0.7574 - val_accuracy: 0.7005\n",
            "Epoch 162/500\n",
            "104/104 [==============================] - 1s 5ms/step - loss: 0.5935 - accuracy: 0.7678 - val_loss: 0.7802 - val_accuracy: 0.7101\n",
            "Epoch 163/500\n",
            "104/104 [==============================] - 1s 5ms/step - loss: 0.5921 - accuracy: 0.7678 - val_loss: 0.7517 - val_accuracy: 0.6812\n",
            "Epoch 164/500\n",
            "104/104 [==============================] - 1s 5ms/step - loss: 0.5944 - accuracy: 0.7696 - val_loss: 0.7134 - val_accuracy: 0.7343\n",
            "Epoch 165/500\n",
            "104/104 [==============================] - 1s 5ms/step - loss: 0.5579 - accuracy: 0.7866 - val_loss: 0.7386 - val_accuracy: 0.7150\n",
            "Epoch 166/500\n",
            "104/104 [==============================] - 1s 5ms/step - loss: 0.5664 - accuracy: 0.7817 - val_loss: 0.7708 - val_accuracy: 0.7053\n",
            "Epoch 167/500\n",
            "104/104 [==============================] - 1s 5ms/step - loss: 0.5577 - accuracy: 0.7878 - val_loss: 0.7479 - val_accuracy: 0.6908\n",
            "Epoch 168/500\n",
            "104/104 [==============================] - 1s 6ms/step - loss: 0.5655 - accuracy: 0.7817 - val_loss: 0.8415 - val_accuracy: 0.6812\n",
            "Epoch 169/500\n",
            "104/104 [==============================] - 1s 5ms/step - loss: 0.5614 - accuracy: 0.7793 - val_loss: 0.7957 - val_accuracy: 0.6908\n",
            "Epoch 170/500\n",
            "104/104 [==============================] - 1s 5ms/step - loss: 0.5638 - accuracy: 0.7769 - val_loss: 0.7388 - val_accuracy: 0.6908\n",
            "Epoch 171/500\n",
            "104/104 [==============================] - 1s 5ms/step - loss: 0.5385 - accuracy: 0.7878 - val_loss: 0.7406 - val_accuracy: 0.6860\n",
            "Epoch 172/500\n",
            "104/104 [==============================] - 1s 5ms/step - loss: 0.5523 - accuracy: 0.7914 - val_loss: 0.7189 - val_accuracy: 0.7295\n",
            "Epoch 173/500\n",
            "104/104 [==============================] - 1s 5ms/step - loss: 0.5426 - accuracy: 0.7836 - val_loss: 0.7201 - val_accuracy: 0.7343\n",
            "Epoch 174/500\n",
            "104/104 [==============================] - 1s 5ms/step - loss: 0.5442 - accuracy: 0.7914 - val_loss: 0.7146 - val_accuracy: 0.7150\n",
            "Epoch 175/500\n",
            "104/104 [==============================] - 1s 5ms/step - loss: 0.5391 - accuracy: 0.7866 - val_loss: 0.7650 - val_accuracy: 0.6860\n",
            "Epoch 176/500\n",
            "104/104 [==============================] - 1s 5ms/step - loss: 0.5389 - accuracy: 0.7872 - val_loss: 0.6875 - val_accuracy: 0.7488\n",
            "Epoch 177/500\n",
            "104/104 [==============================] - 1s 5ms/step - loss: 0.5416 - accuracy: 0.7872 - val_loss: 0.7704 - val_accuracy: 0.7005\n",
            "Epoch 178/500\n",
            "104/104 [==============================] - 1s 5ms/step - loss: 0.5359 - accuracy: 0.7920 - val_loss: 0.7143 - val_accuracy: 0.7005\n",
            "Epoch 179/500\n",
            "104/104 [==============================] - 1s 5ms/step - loss: 0.5130 - accuracy: 0.8011 - val_loss: 0.7677 - val_accuracy: 0.6860\n",
            "Epoch 180/500\n",
            "104/104 [==============================] - 1s 5ms/step - loss: 0.5246 - accuracy: 0.7993 - val_loss: 0.7639 - val_accuracy: 0.7005\n",
            "Epoch 181/500\n",
            "104/104 [==============================] - 1s 5ms/step - loss: 0.5204 - accuracy: 0.8035 - val_loss: 0.7430 - val_accuracy: 0.6957\n",
            "Epoch 182/500\n",
            "104/104 [==============================] - 1s 5ms/step - loss: 0.5237 - accuracy: 0.8005 - val_loss: 0.7176 - val_accuracy: 0.7198\n",
            "Epoch 183/500\n",
            "104/104 [==============================] - 1s 5ms/step - loss: 0.5246 - accuracy: 0.7981 - val_loss: 0.7167 - val_accuracy: 0.7150\n",
            "Epoch 184/500\n",
            "104/104 [==============================] - 1s 5ms/step - loss: 0.5133 - accuracy: 0.8047 - val_loss: 0.7764 - val_accuracy: 0.6908\n",
            "Epoch 185/500\n",
            "104/104 [==============================] - 1s 5ms/step - loss: 0.4922 - accuracy: 0.8083 - val_loss: 0.7401 - val_accuracy: 0.7005\n",
            "Epoch 186/500\n",
            "104/104 [==============================] - 1s 5ms/step - loss: 0.4954 - accuracy: 0.8041 - val_loss: 0.7123 - val_accuracy: 0.7295\n",
            "Epoch 187/500\n",
            "104/104 [==============================] - 1s 5ms/step - loss: 0.5190 - accuracy: 0.8047 - val_loss: 0.7154 - val_accuracy: 0.6908\n",
            "Epoch 188/500\n",
            "104/104 [==============================] - 1s 5ms/step - loss: 0.5114 - accuracy: 0.8047 - val_loss: 0.7511 - val_accuracy: 0.6957\n",
            "Epoch 189/500\n",
            "104/104 [==============================] - 1s 5ms/step - loss: 0.4989 - accuracy: 0.8114 - val_loss: 0.7650 - val_accuracy: 0.6812\n",
            "Epoch 190/500\n",
            "104/104 [==============================] - 1s 5ms/step - loss: 0.5000 - accuracy: 0.7975 - val_loss: 0.7154 - val_accuracy: 0.7246\n",
            "Epoch 191/500\n",
            "104/104 [==============================] - 1s 5ms/step - loss: 0.5045 - accuracy: 0.8174 - val_loss: 0.6858 - val_accuracy: 0.7729\n",
            "Epoch 192/500\n",
            "104/104 [==============================] - 1s 5ms/step - loss: 0.5043 - accuracy: 0.8059 - val_loss: 0.7453 - val_accuracy: 0.7150\n",
            "Epoch 193/500\n",
            "104/104 [==============================] - 1s 5ms/step - loss: 0.4896 - accuracy: 0.8132 - val_loss: 0.7273 - val_accuracy: 0.6812\n",
            "Epoch 194/500\n",
            "104/104 [==============================] - 1s 5ms/step - loss: 0.5218 - accuracy: 0.7987 - val_loss: 0.7620 - val_accuracy: 0.7005\n",
            "Epoch 195/500\n",
            "104/104 [==============================] - 1s 5ms/step - loss: 0.4735 - accuracy: 0.8186 - val_loss: 0.7730 - val_accuracy: 0.6908\n",
            "Epoch 196/500\n",
            "104/104 [==============================] - 1s 5ms/step - loss: 0.4911 - accuracy: 0.8029 - val_loss: 0.7612 - val_accuracy: 0.7005\n",
            "Epoch 197/500\n",
            "104/104 [==============================] - 1s 5ms/step - loss: 0.4808 - accuracy: 0.8138 - val_loss: 0.7238 - val_accuracy: 0.7246\n",
            "Epoch 198/500\n",
            "104/104 [==============================] - 1s 5ms/step - loss: 0.4744 - accuracy: 0.8144 - val_loss: 0.7377 - val_accuracy: 0.6957\n",
            "Epoch 199/500\n",
            "104/104 [==============================] - 1s 5ms/step - loss: 0.4881 - accuracy: 0.8132 - val_loss: 0.7382 - val_accuracy: 0.7440\n",
            "Epoch 200/500\n",
            "104/104 [==============================] - 1s 5ms/step - loss: 0.4952 - accuracy: 0.8029 - val_loss: 0.7392 - val_accuracy: 0.7440\n",
            "Epoch 201/500\n",
            "104/104 [==============================] - 1s 5ms/step - loss: 0.4897 - accuracy: 0.8041 - val_loss: 0.6940 - val_accuracy: 0.7005\n",
            "Epoch 202/500\n",
            "104/104 [==============================] - 1s 6ms/step - loss: 0.4603 - accuracy: 0.8222 - val_loss: 0.7223 - val_accuracy: 0.7005\n",
            "Epoch 203/500\n",
            "104/104 [==============================] - 1s 5ms/step - loss: 0.4511 - accuracy: 0.8222 - val_loss: 0.7428 - val_accuracy: 0.7005\n",
            "Epoch 204/500\n",
            "104/104 [==============================] - 1s 5ms/step - loss: 0.4829 - accuracy: 0.8162 - val_loss: 0.7516 - val_accuracy: 0.7005\n",
            "Epoch 205/500\n",
            "104/104 [==============================] - 1s 5ms/step - loss: 0.4519 - accuracy: 0.8343 - val_loss: 0.7440 - val_accuracy: 0.7295\n",
            "Epoch 206/500\n",
            "104/104 [==============================] - 1s 5ms/step - loss: 0.4870 - accuracy: 0.8102 - val_loss: 0.7294 - val_accuracy: 0.7246\n",
            "Epoch 207/500\n",
            "104/104 [==============================] - 1s 6ms/step - loss: 0.4749 - accuracy: 0.8138 - val_loss: 0.7004 - val_accuracy: 0.7246\n",
            "Epoch 208/500\n",
            "104/104 [==============================] - 1s 5ms/step - loss: 0.4480 - accuracy: 0.8259 - val_loss: 0.7183 - val_accuracy: 0.7150\n",
            "Epoch 209/500\n",
            "104/104 [==============================] - 1s 5ms/step - loss: 0.4398 - accuracy: 0.8198 - val_loss: 0.7148 - val_accuracy: 0.7005\n",
            "Epoch 210/500\n",
            "104/104 [==============================] - 1s 5ms/step - loss: 0.4393 - accuracy: 0.8307 - val_loss: 0.7210 - val_accuracy: 0.7391\n",
            "Epoch 211/500\n",
            "104/104 [==============================] - 1s 6ms/step - loss: 0.4487 - accuracy: 0.8192 - val_loss: 0.7411 - val_accuracy: 0.7391\n",
            "Epoch 212/500\n",
            "104/104 [==============================] - 1s 5ms/step - loss: 0.4390 - accuracy: 0.8337 - val_loss: 0.6721 - val_accuracy: 0.7585\n",
            "Epoch 213/500\n",
            "104/104 [==============================] - 1s 5ms/step - loss: 0.4354 - accuracy: 0.8253 - val_loss: 0.7214 - val_accuracy: 0.7053\n",
            "Epoch 214/500\n",
            "104/104 [==============================] - 1s 5ms/step - loss: 0.4487 - accuracy: 0.8186 - val_loss: 0.7709 - val_accuracy: 0.6908\n",
            "Epoch 215/500\n",
            "104/104 [==============================] - 1s 5ms/step - loss: 0.4381 - accuracy: 0.8216 - val_loss: 0.7110 - val_accuracy: 0.7488\n",
            "Epoch 216/500\n",
            "104/104 [==============================] - 1s 5ms/step - loss: 0.4516 - accuracy: 0.8301 - val_loss: 0.6809 - val_accuracy: 0.7633\n",
            "Epoch 217/500\n",
            "104/104 [==============================] - 1s 5ms/step - loss: 0.4444 - accuracy: 0.8271 - val_loss: 0.7117 - val_accuracy: 0.7101\n",
            "Epoch 218/500\n",
            "104/104 [==============================] - 1s 5ms/step - loss: 0.4365 - accuracy: 0.8325 - val_loss: 0.7442 - val_accuracy: 0.6908\n",
            "Epoch 219/500\n",
            "104/104 [==============================] - 1s 5ms/step - loss: 0.4230 - accuracy: 0.8416 - val_loss: 0.7390 - val_accuracy: 0.7053\n",
            "Epoch 220/500\n",
            "104/104 [==============================] - 1s 5ms/step - loss: 0.4130 - accuracy: 0.8501 - val_loss: 0.7397 - val_accuracy: 0.7150\n",
            "Epoch 221/500\n",
            "104/104 [==============================] - 1s 5ms/step - loss: 0.4148 - accuracy: 0.8380 - val_loss: 0.6963 - val_accuracy: 0.7440\n",
            "Epoch 222/500\n",
            "104/104 [==============================] - 1s 5ms/step - loss: 0.4129 - accuracy: 0.8398 - val_loss: 0.8209 - val_accuracy: 0.6957\n",
            "Epoch 223/500\n",
            "104/104 [==============================] - 1s 5ms/step - loss: 0.4456 - accuracy: 0.8259 - val_loss: 0.7578 - val_accuracy: 0.6957\n",
            "Epoch 224/500\n",
            "104/104 [==============================] - 1s 5ms/step - loss: 0.4191 - accuracy: 0.8356 - val_loss: 0.7084 - val_accuracy: 0.7488\n",
            "Epoch 225/500\n",
            "104/104 [==============================] - 1s 5ms/step - loss: 0.4223 - accuracy: 0.8422 - val_loss: 0.6653 - val_accuracy: 0.7440\n",
            "Epoch 226/500\n",
            "104/104 [==============================] - 1s 6ms/step - loss: 0.4213 - accuracy: 0.8356 - val_loss: 0.6764 - val_accuracy: 0.7585\n",
            "Epoch 227/500\n",
            "104/104 [==============================] - 1s 5ms/step - loss: 0.4169 - accuracy: 0.8458 - val_loss: 0.7994 - val_accuracy: 0.7150\n",
            "Epoch 228/500\n",
            "104/104 [==============================] - 1s 5ms/step - loss: 0.3910 - accuracy: 0.8555 - val_loss: 0.7827 - val_accuracy: 0.7101\n",
            "Epoch 229/500\n",
            "104/104 [==============================] - 1s 5ms/step - loss: 0.4059 - accuracy: 0.8464 - val_loss: 0.7187 - val_accuracy: 0.7391\n",
            "Epoch 230/500\n",
            "104/104 [==============================] - 1s 5ms/step - loss: 0.4072 - accuracy: 0.8410 - val_loss: 0.7384 - val_accuracy: 0.7391\n",
            "Epoch 231/500\n",
            "104/104 [==============================] - 1s 5ms/step - loss: 0.4255 - accuracy: 0.8380 - val_loss: 0.7114 - val_accuracy: 0.7295\n",
            "Epoch 232/500\n",
            "104/104 [==============================] - 1s 5ms/step - loss: 0.4012 - accuracy: 0.8446 - val_loss: 0.7224 - val_accuracy: 0.7150\n",
            "Epoch 233/500\n",
            "104/104 [==============================] - 1s 5ms/step - loss: 0.4105 - accuracy: 0.8489 - val_loss: 0.7018 - val_accuracy: 0.7295\n",
            "Epoch 234/500\n",
            "104/104 [==============================] - 1s 5ms/step - loss: 0.3969 - accuracy: 0.8470 - val_loss: 0.6849 - val_accuracy: 0.7343\n",
            "Epoch 235/500\n",
            "104/104 [==============================] - 1s 5ms/step - loss: 0.4058 - accuracy: 0.8404 - val_loss: 0.6654 - val_accuracy: 0.7681\n",
            "Epoch 236/500\n",
            "104/104 [==============================] - 1s 5ms/step - loss: 0.3969 - accuracy: 0.8476 - val_loss: 0.7333 - val_accuracy: 0.7295\n",
            "Epoch 237/500\n",
            "104/104 [==============================] - 1s 5ms/step - loss: 0.4191 - accuracy: 0.8331 - val_loss: 0.6645 - val_accuracy: 0.7585\n",
            "Epoch 238/500\n",
            "104/104 [==============================] - 1s 5ms/step - loss: 0.4204 - accuracy: 0.8464 - val_loss: 0.7119 - val_accuracy: 0.7150\n",
            "Epoch 239/500\n",
            "104/104 [==============================] - 1s 5ms/step - loss: 0.3691 - accuracy: 0.8591 - val_loss: 0.6662 - val_accuracy: 0.7536\n",
            "Epoch 240/500\n",
            "104/104 [==============================] - 1s 5ms/step - loss: 0.3617 - accuracy: 0.8634 - val_loss: 0.7909 - val_accuracy: 0.7295\n",
            "Epoch 241/500\n",
            "104/104 [==============================] - 1s 6ms/step - loss: 0.4145 - accuracy: 0.8452 - val_loss: 0.6758 - val_accuracy: 0.7440\n",
            "Epoch 242/500\n",
            "104/104 [==============================] - 1s 5ms/step - loss: 0.3783 - accuracy: 0.8609 - val_loss: 0.6739 - val_accuracy: 0.7536\n",
            "Epoch 243/500\n",
            "104/104 [==============================] - 1s 5ms/step - loss: 0.3733 - accuracy: 0.8622 - val_loss: 0.7150 - val_accuracy: 0.7391\n",
            "Epoch 244/500\n",
            "104/104 [==============================] - 1s 5ms/step - loss: 0.3742 - accuracy: 0.8567 - val_loss: 0.7120 - val_accuracy: 0.7440\n",
            "Epoch 245/500\n",
            "104/104 [==============================] - 1s 5ms/step - loss: 0.3788 - accuracy: 0.8555 - val_loss: 0.7756 - val_accuracy: 0.7053\n",
            "Epoch 246/500\n",
            "104/104 [==============================] - 1s 5ms/step - loss: 0.3730 - accuracy: 0.8646 - val_loss: 0.7211 - val_accuracy: 0.7536\n",
            "Epoch 247/500\n",
            "104/104 [==============================] - 1s 5ms/step - loss: 0.3762 - accuracy: 0.8476 - val_loss: 0.7511 - val_accuracy: 0.7198\n",
            "Epoch 248/500\n",
            "104/104 [==============================] - 1s 5ms/step - loss: 0.3514 - accuracy: 0.8688 - val_loss: 0.7732 - val_accuracy: 0.7246\n",
            "Epoch 249/500\n",
            "104/104 [==============================] - 1s 5ms/step - loss: 0.3782 - accuracy: 0.8470 - val_loss: 0.7520 - val_accuracy: 0.7053\n",
            "Epoch 250/500\n",
            "104/104 [==============================] - 1s 5ms/step - loss: 0.3662 - accuracy: 0.8634 - val_loss: 0.7382 - val_accuracy: 0.7391\n",
            "Epoch 251/500\n",
            "104/104 [==============================] - 1s 5ms/step - loss: 0.3608 - accuracy: 0.8603 - val_loss: 0.6809 - val_accuracy: 0.7729\n",
            "Epoch 252/500\n",
            "104/104 [==============================] - 1s 5ms/step - loss: 0.3783 - accuracy: 0.8537 - val_loss: 0.6982 - val_accuracy: 0.7488\n",
            "Epoch 253/500\n",
            "104/104 [==============================] - 1s 5ms/step - loss: 0.3704 - accuracy: 0.8549 - val_loss: 0.7864 - val_accuracy: 0.7150\n",
            "Epoch 254/500\n",
            "104/104 [==============================] - 1s 5ms/step - loss: 0.3697 - accuracy: 0.8622 - val_loss: 0.7322 - val_accuracy: 0.7150\n",
            "Epoch 255/500\n",
            "104/104 [==============================] - 1s 5ms/step - loss: 0.3553 - accuracy: 0.8597 - val_loss: 0.7350 - val_accuracy: 0.7440\n",
            "Epoch 256/500\n",
            "104/104 [==============================] - 1s 5ms/step - loss: 0.3662 - accuracy: 0.8646 - val_loss: 0.6900 - val_accuracy: 0.7778\n",
            "Epoch 257/500\n",
            "104/104 [==============================] - 1s 5ms/step - loss: 0.3435 - accuracy: 0.8664 - val_loss: 0.7740 - val_accuracy: 0.7053\n",
            "Epoch 258/500\n",
            "104/104 [==============================] - 1s 5ms/step - loss: 0.3682 - accuracy: 0.8628 - val_loss: 0.6948 - val_accuracy: 0.7488\n",
            "Epoch 259/500\n",
            "104/104 [==============================] - 1s 5ms/step - loss: 0.3398 - accuracy: 0.8646 - val_loss: 0.7406 - val_accuracy: 0.7198\n",
            "Epoch 260/500\n",
            "104/104 [==============================] - 1s 5ms/step - loss: 0.3549 - accuracy: 0.8634 - val_loss: 0.7582 - val_accuracy: 0.7053\n",
            "Epoch 261/500\n",
            "104/104 [==============================] - 1s 5ms/step - loss: 0.3355 - accuracy: 0.8742 - val_loss: 0.7928 - val_accuracy: 0.7005\n",
            "Epoch 262/500\n",
            "104/104 [==============================] - 1s 6ms/step - loss: 0.3538 - accuracy: 0.8718 - val_loss: 0.7642 - val_accuracy: 0.7246\n",
            "Epoch 263/500\n",
            "104/104 [==============================] - 1s 5ms/step - loss: 0.3593 - accuracy: 0.8658 - val_loss: 0.7339 - val_accuracy: 0.7343\n",
            "Epoch 264/500\n",
            "104/104 [==============================] - 1s 6ms/step - loss: 0.3437 - accuracy: 0.8670 - val_loss: 0.7483 - val_accuracy: 0.7101\n",
            "Epoch 265/500\n",
            "104/104 [==============================] - 1s 5ms/step - loss: 0.3275 - accuracy: 0.8724 - val_loss: 0.7607 - val_accuracy: 0.7391\n",
            "Epoch 266/500\n",
            "104/104 [==============================] - 1s 5ms/step - loss: 0.3428 - accuracy: 0.8682 - val_loss: 0.7454 - val_accuracy: 0.7053\n",
            "Epoch 267/500\n",
            "104/104 [==============================] - 1s 5ms/step - loss: 0.3653 - accuracy: 0.8646 - val_loss: 0.6850 - val_accuracy: 0.7343\n",
            "Epoch 268/500\n",
            "104/104 [==============================] - 1s 5ms/step - loss: 0.3311 - accuracy: 0.8785 - val_loss: 0.7146 - val_accuracy: 0.7391\n",
            "Epoch 269/500\n",
            "104/104 [==============================] - 1s 5ms/step - loss: 0.3301 - accuracy: 0.8742 - val_loss: 0.7916 - val_accuracy: 0.6908\n",
            "Epoch 270/500\n",
            "104/104 [==============================] - 1s 5ms/step - loss: 0.3462 - accuracy: 0.8615 - val_loss: 0.6885 - val_accuracy: 0.7681\n",
            "Epoch 271/500\n",
            "104/104 [==============================] - 1s 5ms/step - loss: 0.3400 - accuracy: 0.8736 - val_loss: 0.7364 - val_accuracy: 0.7150\n",
            "Epoch 272/500\n",
            "104/104 [==============================] - 1s 6ms/step - loss: 0.3413 - accuracy: 0.8730 - val_loss: 0.7680 - val_accuracy: 0.7101\n",
            "Epoch 273/500\n",
            "104/104 [==============================] - 1s 6ms/step - loss: 0.3132 - accuracy: 0.8791 - val_loss: 0.6680 - val_accuracy: 0.7729\n",
            "Epoch 274/500\n",
            "104/104 [==============================] - 1s 6ms/step - loss: 0.3122 - accuracy: 0.8779 - val_loss: 0.6823 - val_accuracy: 0.7440\n",
            "Epoch 275/500\n",
            "104/104 [==============================] - 1s 5ms/step - loss: 0.3202 - accuracy: 0.8748 - val_loss: 0.7280 - val_accuracy: 0.7391\n",
            "Epoch 276/500\n",
            "104/104 [==============================] - 1s 6ms/step - loss: 0.3232 - accuracy: 0.8797 - val_loss: 0.7129 - val_accuracy: 0.7343\n",
            "Epoch 277/500\n",
            "104/104 [==============================] - 1s 5ms/step - loss: 0.3030 - accuracy: 0.8851 - val_loss: 0.6873 - val_accuracy: 0.7778\n",
            "Epoch 278/500\n",
            "104/104 [==============================] - 1s 5ms/step - loss: 0.3123 - accuracy: 0.8833 - val_loss: 0.7511 - val_accuracy: 0.7150\n",
            "Epoch 279/500\n",
            "104/104 [==============================] - 1s 5ms/step - loss: 0.3019 - accuracy: 0.8797 - val_loss: 0.7451 - val_accuracy: 0.7536\n",
            "Epoch 280/500\n",
            "104/104 [==============================] - 1s 5ms/step - loss: 0.3097 - accuracy: 0.8827 - val_loss: 0.7640 - val_accuracy: 0.7343\n",
            "Epoch 281/500\n",
            "104/104 [==============================] - 1s 6ms/step - loss: 0.3172 - accuracy: 0.8779 - val_loss: 0.7340 - val_accuracy: 0.7053\n",
            "Epoch 282/500\n",
            "104/104 [==============================] - 1s 6ms/step - loss: 0.3091 - accuracy: 0.8875 - val_loss: 0.7521 - val_accuracy: 0.7488\n",
            "Epoch 283/500\n",
            "104/104 [==============================] - 1s 5ms/step - loss: 0.3103 - accuracy: 0.8869 - val_loss: 0.7229 - val_accuracy: 0.7343\n",
            "Epoch 284/500\n",
            "104/104 [==============================] - 1s 6ms/step - loss: 0.3173 - accuracy: 0.8827 - val_loss: 0.7061 - val_accuracy: 0.7391\n",
            "Epoch 285/500\n",
            "104/104 [==============================] - 1s 5ms/step - loss: 0.3212 - accuracy: 0.8827 - val_loss: 0.7204 - val_accuracy: 0.7440\n",
            "Epoch 286/500\n",
            "104/104 [==============================] - 1s 5ms/step - loss: 0.2927 - accuracy: 0.8960 - val_loss: 0.7428 - val_accuracy: 0.7488\n",
            "Epoch 287/500\n",
            "104/104 [==============================] - 1s 5ms/step - loss: 0.3094 - accuracy: 0.8875 - val_loss: 0.7054 - val_accuracy: 0.7440\n",
            "Epoch 288/500\n",
            "104/104 [==============================] - 1s 5ms/step - loss: 0.2999 - accuracy: 0.8863 - val_loss: 0.7389 - val_accuracy: 0.7536\n",
            "Epoch 289/500\n",
            "104/104 [==============================] - 1s 5ms/step - loss: 0.3193 - accuracy: 0.8815 - val_loss: 0.7412 - val_accuracy: 0.7391\n",
            "Epoch 290/500\n",
            "104/104 [==============================] - 1s 5ms/step - loss: 0.2933 - accuracy: 0.8930 - val_loss: 0.7040 - val_accuracy: 0.7246\n",
            "Epoch 291/500\n",
            "104/104 [==============================] - 1s 6ms/step - loss: 0.3229 - accuracy: 0.8924 - val_loss: 0.6904 - val_accuracy: 0.7391\n",
            "Epoch 292/500\n",
            "104/104 [==============================] - 1s 6ms/step - loss: 0.3047 - accuracy: 0.8815 - val_loss: 0.7310 - val_accuracy: 0.6908\n",
            "Epoch 293/500\n",
            "104/104 [==============================] - 1s 6ms/step - loss: 0.2859 - accuracy: 0.8924 - val_loss: 0.8091 - val_accuracy: 0.7295\n",
            "Epoch 294/500\n",
            "104/104 [==============================] - 1s 5ms/step - loss: 0.2906 - accuracy: 0.9002 - val_loss: 0.7535 - val_accuracy: 0.7150\n",
            "Epoch 295/500\n",
            "104/104 [==============================] - 1s 5ms/step - loss: 0.2727 - accuracy: 0.8948 - val_loss: 0.6889 - val_accuracy: 0.7681\n",
            "Epoch 296/500\n",
            "104/104 [==============================] - 1s 5ms/step - loss: 0.3156 - accuracy: 0.8761 - val_loss: 0.7057 - val_accuracy: 0.7488\n",
            "Epoch 297/500\n",
            "104/104 [==============================] - 1s 6ms/step - loss: 0.3184 - accuracy: 0.8875 - val_loss: 0.7103 - val_accuracy: 0.7440\n",
            "Epoch 298/500\n",
            "104/104 [==============================] - 1s 6ms/step - loss: 0.3033 - accuracy: 0.8815 - val_loss: 0.7723 - val_accuracy: 0.7246\n",
            "Epoch 299/500\n",
            "104/104 [==============================] - 1s 5ms/step - loss: 0.3029 - accuracy: 0.8924 - val_loss: 0.7608 - val_accuracy: 0.7585\n",
            "Epoch 300/500\n",
            "104/104 [==============================] - 1s 5ms/step - loss: 0.2973 - accuracy: 0.8869 - val_loss: 0.7366 - val_accuracy: 0.7391\n",
            "Epoch 301/500\n",
            "104/104 [==============================] - 1s 6ms/step - loss: 0.2919 - accuracy: 0.8948 - val_loss: 0.7677 - val_accuracy: 0.7440\n",
            "Epoch 302/500\n",
            "104/104 [==============================] - 1s 5ms/step - loss: 0.3020 - accuracy: 0.8948 - val_loss: 0.7645 - val_accuracy: 0.7343\n",
            "Epoch 303/500\n",
            "104/104 [==============================] - 1s 5ms/step - loss: 0.2928 - accuracy: 0.8869 - val_loss: 0.7533 - val_accuracy: 0.7536\n",
            "Epoch 304/500\n",
            "104/104 [==============================] - 1s 5ms/step - loss: 0.2756 - accuracy: 0.9002 - val_loss: 0.7240 - val_accuracy: 0.7391\n",
            "Epoch 305/500\n",
            "104/104 [==============================] - 1s 6ms/step - loss: 0.2820 - accuracy: 0.8978 - val_loss: 0.7294 - val_accuracy: 0.7778\n",
            "Epoch 306/500\n",
            "104/104 [==============================] - 1s 6ms/step - loss: 0.2815 - accuracy: 0.8948 - val_loss: 0.7021 - val_accuracy: 0.7295\n",
            "Epoch 307/500\n",
            "104/104 [==============================] - 1s 5ms/step - loss: 0.2874 - accuracy: 0.8948 - val_loss: 0.6956 - val_accuracy: 0.7923\n",
            "Epoch 308/500\n",
            "104/104 [==============================] - 1s 5ms/step - loss: 0.3024 - accuracy: 0.8761 - val_loss: 0.7847 - val_accuracy: 0.7198\n",
            "Epoch 309/500\n",
            "104/104 [==============================] - 1s 6ms/step - loss: 0.2873 - accuracy: 0.8930 - val_loss: 0.7377 - val_accuracy: 0.7488\n",
            "Epoch 310/500\n",
            "104/104 [==============================] - 1s 5ms/step - loss: 0.2552 - accuracy: 0.9008 - val_loss: 0.7617 - val_accuracy: 0.7585\n",
            "Epoch 311/500\n",
            "104/104 [==============================] - 1s 5ms/step - loss: 0.2659 - accuracy: 0.8966 - val_loss: 0.7769 - val_accuracy: 0.7391\n",
            "Epoch 312/500\n",
            "104/104 [==============================] - 1s 5ms/step - loss: 0.2764 - accuracy: 0.8948 - val_loss: 0.6750 - val_accuracy: 0.7729\n",
            "Epoch 313/500\n",
            "104/104 [==============================] - 1s 5ms/step - loss: 0.2874 - accuracy: 0.8894 - val_loss: 0.7838 - val_accuracy: 0.7488\n",
            "Epoch 314/500\n",
            "104/104 [==============================] - 1s 5ms/step - loss: 0.2986 - accuracy: 0.8978 - val_loss: 0.7345 - val_accuracy: 0.7295\n",
            "Epoch 315/500\n",
            "104/104 [==============================] - 1s 6ms/step - loss: 0.2534 - accuracy: 0.9057 - val_loss: 0.8903 - val_accuracy: 0.6715\n",
            "Epoch 316/500\n",
            "104/104 [==============================] - 1s 6ms/step - loss: 0.2608 - accuracy: 0.8954 - val_loss: 0.7703 - val_accuracy: 0.7391\n",
            "Epoch 317/500\n",
            "104/104 [==============================] - 1s 6ms/step - loss: 0.2865 - accuracy: 0.8930 - val_loss: 0.7434 - val_accuracy: 0.7343\n",
            "Epoch 318/500\n",
            "104/104 [==============================] - 1s 5ms/step - loss: 0.2910 - accuracy: 0.8900 - val_loss: 0.9032 - val_accuracy: 0.6908\n",
            "Epoch 319/500\n",
            "104/104 [==============================] - 1s 5ms/step - loss: 0.2630 - accuracy: 0.9015 - val_loss: 0.7798 - val_accuracy: 0.7295\n",
            "Epoch 320/500\n",
            "104/104 [==============================] - 1s 5ms/step - loss: 0.2637 - accuracy: 0.9015 - val_loss: 0.9538 - val_accuracy: 0.6763\n",
            "Epoch 321/500\n",
            "104/104 [==============================] - 1s 6ms/step - loss: 0.2708 - accuracy: 0.8990 - val_loss: 0.8257 - val_accuracy: 0.7488\n",
            "Epoch 322/500\n",
            "104/104 [==============================] - 1s 6ms/step - loss: 0.2762 - accuracy: 0.8930 - val_loss: 0.7385 - val_accuracy: 0.7874\n",
            "Epoch 323/500\n",
            "104/104 [==============================] - 1s 5ms/step - loss: 0.2688 - accuracy: 0.9015 - val_loss: 0.7893 - val_accuracy: 0.7633\n",
            "Epoch 324/500\n",
            "104/104 [==============================] - 1s 5ms/step - loss: 0.2685 - accuracy: 0.8996 - val_loss: 0.7819 - val_accuracy: 0.7681\n",
            "Epoch 325/500\n",
            "104/104 [==============================] - 1s 6ms/step - loss: 0.2728 - accuracy: 0.8930 - val_loss: 0.8298 - val_accuracy: 0.7488\n",
            "Epoch 326/500\n",
            "104/104 [==============================] - 1s 6ms/step - loss: 0.2566 - accuracy: 0.8996 - val_loss: 0.8490 - val_accuracy: 0.7440\n",
            "Epoch 327/500\n",
            "104/104 [==============================] - 1s 5ms/step - loss: 0.2607 - accuracy: 0.8942 - val_loss: 0.8125 - val_accuracy: 0.7585\n",
            "Epoch 328/500\n",
            "104/104 [==============================] - 1s 6ms/step - loss: 0.2558 - accuracy: 0.8990 - val_loss: 0.7019 - val_accuracy: 0.7633\n",
            "Epoch 329/500\n",
            "104/104 [==============================] - 1s 6ms/step - loss: 0.2403 - accuracy: 0.9117 - val_loss: 0.7778 - val_accuracy: 0.7343\n",
            "Epoch 330/500\n",
            "104/104 [==============================] - 1s 5ms/step - loss: 0.2587 - accuracy: 0.9093 - val_loss: 0.7336 - val_accuracy: 0.7536\n",
            "Epoch 331/500\n",
            "104/104 [==============================] - 1s 6ms/step - loss: 0.2435 - accuracy: 0.9117 - val_loss: 0.7294 - val_accuracy: 0.7778\n",
            "Epoch 332/500\n",
            "104/104 [==============================] - 1s 6ms/step - loss: 0.2556 - accuracy: 0.9099 - val_loss: 0.7669 - val_accuracy: 0.7488\n",
            "Epoch 333/500\n",
            "104/104 [==============================] - 1s 6ms/step - loss: 0.2726 - accuracy: 0.9002 - val_loss: 0.7405 - val_accuracy: 0.7343\n",
            "Epoch 334/500\n",
            "104/104 [==============================] - 1s 6ms/step - loss: 0.2563 - accuracy: 0.9111 - val_loss: 0.7679 - val_accuracy: 0.7488\n",
            "Epoch 335/500\n",
            "104/104 [==============================] - 1s 5ms/step - loss: 0.2420 - accuracy: 0.9069 - val_loss: 0.8424 - val_accuracy: 0.7246\n",
            "Epoch 336/500\n",
            "104/104 [==============================] - 1s 5ms/step - loss: 0.2761 - accuracy: 0.9002 - val_loss: 0.8134 - val_accuracy: 0.7246\n",
            "Epoch 337/500\n",
            "104/104 [==============================] - 1s 6ms/step - loss: 0.2493 - accuracy: 0.9063 - val_loss: 0.7518 - val_accuracy: 0.7585\n",
            "Epoch 338/500\n",
            "104/104 [==============================] - 1s 5ms/step - loss: 0.2392 - accuracy: 0.9099 - val_loss: 0.7729 - val_accuracy: 0.7343\n",
            "Epoch 339/500\n",
            "104/104 [==============================] - 1s 5ms/step - loss: 0.2722 - accuracy: 0.9021 - val_loss: 0.7145 - val_accuracy: 0.7585\n",
            "Epoch 340/500\n",
            "104/104 [==============================] - 1s 6ms/step - loss: 0.2240 - accuracy: 0.9154 - val_loss: 0.7656 - val_accuracy: 0.7536\n",
            "Epoch 341/500\n",
            "104/104 [==============================] - 1s 5ms/step - loss: 0.2502 - accuracy: 0.9111 - val_loss: 0.7958 - val_accuracy: 0.7198\n",
            "Epoch 342/500\n",
            "104/104 [==============================] - 1s 6ms/step - loss: 0.2704 - accuracy: 0.9039 - val_loss: 0.6869 - val_accuracy: 0.7585\n",
            "Epoch 343/500\n",
            "104/104 [==============================] - 1s 6ms/step - loss: 0.2609 - accuracy: 0.9105 - val_loss: 0.7272 - val_accuracy: 0.7729\n",
            "Epoch 344/500\n",
            "104/104 [==============================] - 1s 6ms/step - loss: 0.2391 - accuracy: 0.9148 - val_loss: 0.7797 - val_accuracy: 0.7536\n",
            "Epoch 345/500\n",
            "104/104 [==============================] - 1s 5ms/step - loss: 0.2470 - accuracy: 0.9178 - val_loss: 0.7958 - val_accuracy: 0.7536\n",
            "Epoch 346/500\n",
            "104/104 [==============================] - 1s 6ms/step - loss: 0.2315 - accuracy: 0.9093 - val_loss: 0.7761 - val_accuracy: 0.7585\n",
            "Epoch 347/500\n",
            "104/104 [==============================] - 1s 6ms/step - loss: 0.2487 - accuracy: 0.9129 - val_loss: 0.7568 - val_accuracy: 0.7295\n",
            "Epoch 348/500\n",
            "104/104 [==============================] - 1s 6ms/step - loss: 0.2273 - accuracy: 0.9172 - val_loss: 0.7347 - val_accuracy: 0.7391\n",
            "Epoch 349/500\n",
            "104/104 [==============================] - 1s 6ms/step - loss: 0.2407 - accuracy: 0.9033 - val_loss: 0.7653 - val_accuracy: 0.7585\n",
            "Epoch 350/500\n",
            "104/104 [==============================] - 1s 5ms/step - loss: 0.2385 - accuracy: 0.9172 - val_loss: 0.8142 - val_accuracy: 0.7633\n",
            "Epoch 351/500\n",
            "104/104 [==============================] - 1s 5ms/step - loss: 0.2397 - accuracy: 0.9105 - val_loss: 0.8212 - val_accuracy: 0.7488\n",
            "Epoch 352/500\n",
            "104/104 [==============================] - 1s 5ms/step - loss: 0.2544 - accuracy: 0.8996 - val_loss: 0.7614 - val_accuracy: 0.7633\n",
            "Epoch 353/500\n",
            "104/104 [==============================] - 1s 5ms/step - loss: 0.2453 - accuracy: 0.9093 - val_loss: 0.7657 - val_accuracy: 0.7488\n",
            "Epoch 354/500\n",
            "104/104 [==============================] - 1s 6ms/step - loss: 0.2382 - accuracy: 0.9148 - val_loss: 0.8317 - val_accuracy: 0.7536\n",
            "Epoch 355/500\n",
            "104/104 [==============================] - 1s 6ms/step - loss: 0.2324 - accuracy: 0.9190 - val_loss: 0.7491 - val_accuracy: 0.7633\n",
            "Epoch 356/500\n",
            "104/104 [==============================] - 1s 6ms/step - loss: 0.2308 - accuracy: 0.9202 - val_loss: 0.7487 - val_accuracy: 0.7585\n",
            "Epoch 357/500\n",
            "104/104 [==============================] - 1s 6ms/step - loss: 0.2222 - accuracy: 0.9268 - val_loss: 0.7183 - val_accuracy: 0.7778\n",
            "Epoch 358/500\n",
            "104/104 [==============================] - 1s 6ms/step - loss: 0.2459 - accuracy: 0.9111 - val_loss: 0.7655 - val_accuracy: 0.7729\n",
            "Epoch 359/500\n",
            "104/104 [==============================] - 1s 5ms/step - loss: 0.2162 - accuracy: 0.9244 - val_loss: 0.9102 - val_accuracy: 0.7391\n",
            "Epoch 360/500\n",
            "104/104 [==============================] - 1s 5ms/step - loss: 0.2292 - accuracy: 0.9160 - val_loss: 0.7390 - val_accuracy: 0.7633\n",
            "Epoch 361/500\n",
            "104/104 [==============================] - 1s 6ms/step - loss: 0.2493 - accuracy: 0.9166 - val_loss: 0.8164 - val_accuracy: 0.7585\n",
            "Epoch 362/500\n",
            "104/104 [==============================] - 1s 5ms/step - loss: 0.2459 - accuracy: 0.9123 - val_loss: 0.8208 - val_accuracy: 0.7198\n",
            "Epoch 363/500\n",
            "104/104 [==============================] - 1s 6ms/step - loss: 0.2195 - accuracy: 0.9202 - val_loss: 0.8268 - val_accuracy: 0.7295\n",
            "Epoch 364/500\n",
            "104/104 [==============================] - 1s 5ms/step - loss: 0.2096 - accuracy: 0.9244 - val_loss: 0.7381 - val_accuracy: 0.7536\n",
            "Epoch 365/500\n",
            "104/104 [==============================] - 1s 6ms/step - loss: 0.2048 - accuracy: 0.9262 - val_loss: 0.8338 - val_accuracy: 0.7391\n",
            "Epoch 366/500\n",
            "104/104 [==============================] - 1s 6ms/step - loss: 0.2199 - accuracy: 0.9274 - val_loss: 0.7724 - val_accuracy: 0.7874\n",
            "Epoch 367/500\n",
            "104/104 [==============================] - 1s 6ms/step - loss: 0.2192 - accuracy: 0.9220 - val_loss: 0.7941 - val_accuracy: 0.7633\n",
            "Epoch 368/500\n",
            "104/104 [==============================] - 1s 5ms/step - loss: 0.2075 - accuracy: 0.9172 - val_loss: 0.8009 - val_accuracy: 0.7585\n",
            "Epoch 369/500\n",
            "104/104 [==============================] - 1s 5ms/step - loss: 0.2496 - accuracy: 0.9105 - val_loss: 0.8582 - val_accuracy: 0.7343\n",
            "Epoch 370/500\n",
            "104/104 [==============================] - 1s 5ms/step - loss: 0.2227 - accuracy: 0.9117 - val_loss: 0.8339 - val_accuracy: 0.7343\n",
            "Epoch 371/500\n",
            "104/104 [==============================] - 1s 5ms/step - loss: 0.2251 - accuracy: 0.9214 - val_loss: 0.7541 - val_accuracy: 0.7440\n",
            "Epoch 372/500\n",
            "104/104 [==============================] - 1s 6ms/step - loss: 0.2293 - accuracy: 0.9166 - val_loss: 0.7926 - val_accuracy: 0.7778\n",
            "Epoch 373/500\n",
            "104/104 [==============================] - 1s 5ms/step - loss: 0.2273 - accuracy: 0.9099 - val_loss: 0.8298 - val_accuracy: 0.7633\n",
            "Epoch 374/500\n",
            "104/104 [==============================] - 1s 5ms/step - loss: 0.1971 - accuracy: 0.9323 - val_loss: 0.7872 - val_accuracy: 0.7681\n",
            "Epoch 375/500\n",
            "104/104 [==============================] - 1s 6ms/step - loss: 0.2019 - accuracy: 0.9226 - val_loss: 0.7473 - val_accuracy: 0.7729\n",
            "Epoch 376/500\n",
            "104/104 [==============================] - 1s 5ms/step - loss: 0.2218 - accuracy: 0.9220 - val_loss: 0.7395 - val_accuracy: 0.7729\n",
            "Epoch 377/500\n",
            "104/104 [==============================] - 1s 6ms/step - loss: 0.2197 - accuracy: 0.9232 - val_loss: 0.6984 - val_accuracy: 0.7778\n",
            "Epoch 378/500\n",
            "104/104 [==============================] - 1s 6ms/step - loss: 0.2327 - accuracy: 0.9214 - val_loss: 0.7538 - val_accuracy: 0.7440\n",
            "Epoch 379/500\n",
            "104/104 [==============================] - 1s 5ms/step - loss: 0.2224 - accuracy: 0.9166 - val_loss: 0.7577 - val_accuracy: 0.7729\n",
            "Epoch 380/500\n",
            "104/104 [==============================] - 1s 6ms/step - loss: 0.2335 - accuracy: 0.9081 - val_loss: 0.7417 - val_accuracy: 0.7681\n",
            "Epoch 381/500\n",
            "104/104 [==============================] - 1s 6ms/step - loss: 0.2154 - accuracy: 0.9196 - val_loss: 0.8547 - val_accuracy: 0.7295\n",
            "Epoch 382/500\n",
            "104/104 [==============================] - 1s 6ms/step - loss: 0.2127 - accuracy: 0.9190 - val_loss: 0.7821 - val_accuracy: 0.7536\n",
            "Epoch 383/500\n",
            "104/104 [==============================] - 1s 8ms/step - loss: 0.1981 - accuracy: 0.9323 - val_loss: 0.8579 - val_accuracy: 0.7585\n",
            "Epoch 384/500\n",
            "104/104 [==============================] - 1s 8ms/step - loss: 0.2197 - accuracy: 0.9293 - val_loss: 0.9152 - val_accuracy: 0.7391\n",
            "Epoch 385/500\n",
            "104/104 [==============================] - 1s 7ms/step - loss: 0.2239 - accuracy: 0.9160 - val_loss: 0.7081 - val_accuracy: 0.7923\n",
            "Epoch 386/500\n",
            "104/104 [==============================] - 1s 7ms/step - loss: 0.2057 - accuracy: 0.9178 - val_loss: 0.7454 - val_accuracy: 0.7681\n",
            "Epoch 387/500\n",
            "104/104 [==============================] - 1s 7ms/step - loss: 0.2268 - accuracy: 0.9287 - val_loss: 0.8520 - val_accuracy: 0.7681\n",
            "Epoch 388/500\n",
            "104/104 [==============================] - 1s 6ms/step - loss: 0.2148 - accuracy: 0.9208 - val_loss: 0.7908 - val_accuracy: 0.7585\n",
            "Epoch 389/500\n",
            "104/104 [==============================] - 1s 6ms/step - loss: 0.2070 - accuracy: 0.9226 - val_loss: 0.7455 - val_accuracy: 0.7729\n",
            "Epoch 390/500\n",
            "104/104 [==============================] - 1s 5ms/step - loss: 0.2175 - accuracy: 0.9262 - val_loss: 0.8606 - val_accuracy: 0.7391\n",
            "Epoch 391/500\n",
            "104/104 [==============================] - 1s 6ms/step - loss: 0.1914 - accuracy: 0.9293 - val_loss: 0.7657 - val_accuracy: 0.7826\n",
            "Epoch 392/500\n",
            "104/104 [==============================] - 1s 6ms/step - loss: 0.2078 - accuracy: 0.9299 - val_loss: 0.8280 - val_accuracy: 0.7971\n",
            "Epoch 393/500\n",
            "104/104 [==============================] - 1s 6ms/step - loss: 0.1992 - accuracy: 0.9305 - val_loss: 0.9146 - val_accuracy: 0.7585\n",
            "Epoch 394/500\n",
            "104/104 [==============================] - 1s 5ms/step - loss: 0.1890 - accuracy: 0.9317 - val_loss: 0.7644 - val_accuracy: 0.7585\n",
            "Epoch 395/500\n",
            "104/104 [==============================] - 1s 5ms/step - loss: 0.2065 - accuracy: 0.9238 - val_loss: 0.8331 - val_accuracy: 0.7343\n",
            "Epoch 396/500\n",
            "104/104 [==============================] - 1s 6ms/step - loss: 0.2194 - accuracy: 0.9202 - val_loss: 0.7747 - val_accuracy: 0.7536\n",
            "Epoch 397/500\n",
            "104/104 [==============================] - 1s 6ms/step - loss: 0.2020 - accuracy: 0.9274 - val_loss: 0.7613 - val_accuracy: 0.7681\n",
            "Epoch 398/500\n",
            "104/104 [==============================] - 1s 6ms/step - loss: 0.2135 - accuracy: 0.9232 - val_loss: 0.8401 - val_accuracy: 0.7729\n",
            "Epoch 399/500\n",
            "104/104 [==============================] - 1s 6ms/step - loss: 0.2111 - accuracy: 0.9238 - val_loss: 0.9069 - val_accuracy: 0.7198\n",
            "Epoch 400/500\n",
            "104/104 [==============================] - 1s 6ms/step - loss: 0.2040 - accuracy: 0.9244 - val_loss: 0.7807 - val_accuracy: 0.7778\n",
            "Epoch 401/500\n",
            "104/104 [==============================] - 1s 6ms/step - loss: 0.1841 - accuracy: 0.9281 - val_loss: 0.7920 - val_accuracy: 0.7778\n",
            "Epoch 402/500\n",
            "104/104 [==============================] - 1s 5ms/step - loss: 0.2002 - accuracy: 0.9256 - val_loss: 0.7580 - val_accuracy: 0.7778\n",
            "Epoch 403/500\n",
            "104/104 [==============================] - 1s 6ms/step - loss: 0.1903 - accuracy: 0.9274 - val_loss: 0.8215 - val_accuracy: 0.7440\n",
            "Epoch 404/500\n",
            "104/104 [==============================] - 1s 5ms/step - loss: 0.1806 - accuracy: 0.9371 - val_loss: 0.9079 - val_accuracy: 0.7295\n",
            "Epoch 405/500\n",
            "104/104 [==============================] - 1s 6ms/step - loss: 0.2249 - accuracy: 0.9256 - val_loss: 0.8877 - val_accuracy: 0.7440\n",
            "Epoch 406/500\n",
            "104/104 [==============================] - 1s 6ms/step - loss: 0.1839 - accuracy: 0.9317 - val_loss: 0.8069 - val_accuracy: 0.7633\n",
            "Epoch 407/500\n",
            "104/104 [==============================] - 1s 5ms/step - loss: 0.2012 - accuracy: 0.9305 - val_loss: 0.7888 - val_accuracy: 0.7826\n",
            "Epoch 408/500\n",
            "104/104 [==============================] - 1s 6ms/step - loss: 0.2187 - accuracy: 0.9232 - val_loss: 0.9251 - val_accuracy: 0.7440\n",
            "Epoch 409/500\n",
            "104/104 [==============================] - 1s 6ms/step - loss: 0.1817 - accuracy: 0.9323 - val_loss: 0.8062 - val_accuracy: 0.7633\n",
            "Epoch 410/500\n",
            "104/104 [==============================] - 1s 6ms/step - loss: 0.2042 - accuracy: 0.9287 - val_loss: 0.8364 - val_accuracy: 0.7536\n",
            "Epoch 411/500\n",
            "104/104 [==============================] - 1s 6ms/step - loss: 0.1800 - accuracy: 0.9353 - val_loss: 0.8833 - val_accuracy: 0.7488\n",
            "Epoch 412/500\n",
            "104/104 [==============================] - 1s 6ms/step - loss: 0.1786 - accuracy: 0.9383 - val_loss: 0.8136 - val_accuracy: 0.7729\n",
            "Epoch 413/500\n",
            "104/104 [==============================] - 1s 5ms/step - loss: 0.1901 - accuracy: 0.9383 - val_loss: 0.8676 - val_accuracy: 0.7585\n",
            "Epoch 414/500\n",
            "104/104 [==============================] - 1s 5ms/step - loss: 0.1882 - accuracy: 0.9311 - val_loss: 0.8123 - val_accuracy: 0.7681\n",
            "Epoch 415/500\n",
            "104/104 [==============================] - 1s 6ms/step - loss: 0.1810 - accuracy: 0.9311 - val_loss: 0.9569 - val_accuracy: 0.7246\n",
            "Epoch 416/500\n",
            "104/104 [==============================] - 1s 6ms/step - loss: 0.1999 - accuracy: 0.9250 - val_loss: 0.7610 - val_accuracy: 0.8164\n",
            "Epoch 417/500\n",
            "104/104 [==============================] - 1s 6ms/step - loss: 0.1737 - accuracy: 0.9365 - val_loss: 0.8057 - val_accuracy: 0.7778\n",
            "Epoch 418/500\n",
            "104/104 [==============================] - 1s 6ms/step - loss: 0.1758 - accuracy: 0.9299 - val_loss: 1.0225 - val_accuracy: 0.6957\n",
            "Epoch 419/500\n",
            "104/104 [==============================] - 1s 6ms/step - loss: 0.1893 - accuracy: 0.9317 - val_loss: 0.8450 - val_accuracy: 0.7440\n",
            "Epoch 420/500\n",
            "104/104 [==============================] - 1s 6ms/step - loss: 0.2075 - accuracy: 0.9238 - val_loss: 0.8581 - val_accuracy: 0.7440\n",
            "Epoch 421/500\n",
            "104/104 [==============================] - 1s 6ms/step - loss: 0.2001 - accuracy: 0.9329 - val_loss: 0.8520 - val_accuracy: 0.7633\n",
            "Epoch 422/500\n",
            "104/104 [==============================] - 1s 5ms/step - loss: 0.1820 - accuracy: 0.9335 - val_loss: 0.8852 - val_accuracy: 0.7536\n",
            "Epoch 423/500\n",
            "104/104 [==============================] - 1s 5ms/step - loss: 0.1735 - accuracy: 0.9335 - val_loss: 0.9093 - val_accuracy: 0.7488\n",
            "Epoch 424/500\n",
            "104/104 [==============================] - 1s 6ms/step - loss: 0.1601 - accuracy: 0.9480 - val_loss: 0.7990 - val_accuracy: 0.8019\n",
            "Epoch 425/500\n",
            "104/104 [==============================] - 1s 6ms/step - loss: 0.1872 - accuracy: 0.9353 - val_loss: 0.7763 - val_accuracy: 0.7729\n",
            "Epoch 426/500\n",
            "104/104 [==============================] - 1s 6ms/step - loss: 0.1876 - accuracy: 0.9256 - val_loss: 0.9279 - val_accuracy: 0.7488\n",
            "Epoch 427/500\n",
            "104/104 [==============================] - 1s 5ms/step - loss: 0.1648 - accuracy: 0.9359 - val_loss: 0.8872 - val_accuracy: 0.7633\n",
            "Epoch 428/500\n",
            "104/104 [==============================] - 1s 5ms/step - loss: 0.2088 - accuracy: 0.9341 - val_loss: 0.8641 - val_accuracy: 0.7681\n",
            "Epoch 429/500\n",
            "104/104 [==============================] - 1s 5ms/step - loss: 0.1635 - accuracy: 0.9438 - val_loss: 0.8614 - val_accuracy: 0.7923\n",
            "Epoch 430/500\n",
            "104/104 [==============================] - 1s 5ms/step - loss: 0.1811 - accuracy: 0.9335 - val_loss: 0.9157 - val_accuracy: 0.7681\n",
            "Epoch 431/500\n",
            "104/104 [==============================] - 1s 6ms/step - loss: 0.2039 - accuracy: 0.9347 - val_loss: 0.8634 - val_accuracy: 0.7874\n",
            "Epoch 432/500\n",
            "104/104 [==============================] - 1s 5ms/step - loss: 0.1593 - accuracy: 0.9456 - val_loss: 0.8250 - val_accuracy: 0.7923\n",
            "Epoch 433/500\n",
            "104/104 [==============================] - 1s 6ms/step - loss: 0.1837 - accuracy: 0.9395 - val_loss: 0.9006 - val_accuracy: 0.7391\n",
            "Epoch 434/500\n",
            "104/104 [==============================] - 1s 6ms/step - loss: 0.1616 - accuracy: 0.9371 - val_loss: 0.8380 - val_accuracy: 0.7778\n",
            "Epoch 435/500\n",
            "104/104 [==============================] - 1s 5ms/step - loss: 0.2291 - accuracy: 0.9274 - val_loss: 0.8795 - val_accuracy: 0.7633\n",
            "Epoch 436/500\n",
            "104/104 [==============================] - 1s 5ms/step - loss: 0.1978 - accuracy: 0.9262 - val_loss: 0.8063 - val_accuracy: 0.7874\n",
            "Epoch 437/500\n",
            "104/104 [==============================] - 1s 5ms/step - loss: 0.1731 - accuracy: 0.9456 - val_loss: 0.8109 - val_accuracy: 0.7729\n",
            "Epoch 438/500\n",
            "104/104 [==============================] - 1s 6ms/step - loss: 0.1745 - accuracy: 0.9365 - val_loss: 0.8414 - val_accuracy: 0.7826\n",
            "Epoch 439/500\n",
            "104/104 [==============================] - 1s 5ms/step - loss: 0.1773 - accuracy: 0.9450 - val_loss: 0.8770 - val_accuracy: 0.7440\n",
            "Epoch 440/500\n",
            "104/104 [==============================] - 1s 6ms/step - loss: 0.1956 - accuracy: 0.9359 - val_loss: 0.8179 - val_accuracy: 0.7633\n",
            "Epoch 441/500\n",
            "104/104 [==============================] - 1s 6ms/step - loss: 0.1646 - accuracy: 0.9407 - val_loss: 0.9397 - val_accuracy: 0.7585\n",
            "Epoch 442/500\n",
            "104/104 [==============================] - 1s 6ms/step - loss: 0.1911 - accuracy: 0.9347 - val_loss: 0.7518 - val_accuracy: 0.7826\n",
            "Epoch 443/500\n",
            "104/104 [==============================] - 1s 5ms/step - loss: 0.1842 - accuracy: 0.9323 - val_loss: 0.8245 - val_accuracy: 0.7681\n",
            "Epoch 444/500\n",
            "104/104 [==============================] - 1s 6ms/step - loss: 0.1781 - accuracy: 0.9389 - val_loss: 0.9448 - val_accuracy: 0.7391\n",
            "Epoch 445/500\n",
            "104/104 [==============================] - 1s 6ms/step - loss: 0.1916 - accuracy: 0.9353 - val_loss: 0.8259 - val_accuracy: 0.7536\n",
            "Epoch 446/500\n",
            "104/104 [==============================] - 1s 6ms/step - loss: 0.1855 - accuracy: 0.9341 - val_loss: 0.9882 - val_accuracy: 0.7343\n",
            "Epoch 447/500\n",
            "104/104 [==============================] - 1s 6ms/step - loss: 0.1904 - accuracy: 0.9335 - val_loss: 0.8895 - val_accuracy: 0.7440\n",
            "Epoch 448/500\n",
            "104/104 [==============================] - 1s 6ms/step - loss: 0.1691 - accuracy: 0.9389 - val_loss: 0.9525 - val_accuracy: 0.7391\n",
            "Epoch 449/500\n",
            "104/104 [==============================] - 1s 6ms/step - loss: 0.1763 - accuracy: 0.9438 - val_loss: 0.9134 - val_accuracy: 0.7681\n",
            "Epoch 450/500\n",
            "104/104 [==============================] - 1s 6ms/step - loss: 0.1769 - accuracy: 0.9444 - val_loss: 0.9572 - val_accuracy: 0.7440\n",
            "Epoch 451/500\n",
            "104/104 [==============================] - 1s 6ms/step - loss: 0.1782 - accuracy: 0.9377 - val_loss: 0.8685 - val_accuracy: 0.7729\n",
            "Epoch 452/500\n",
            "104/104 [==============================] - 1s 5ms/step - loss: 0.1660 - accuracy: 0.9383 - val_loss: 0.7191 - val_accuracy: 0.8068\n",
            "Epoch 453/500\n",
            "104/104 [==============================] - 1s 5ms/step - loss: 0.2030 - accuracy: 0.9274 - val_loss: 0.7751 - val_accuracy: 0.7971\n",
            "Epoch 454/500\n",
            "104/104 [==============================] - 1s 6ms/step - loss: 0.1669 - accuracy: 0.9407 - val_loss: 0.8146 - val_accuracy: 0.7585\n",
            "Epoch 455/500\n",
            "104/104 [==============================] - 1s 6ms/step - loss: 0.1481 - accuracy: 0.9450 - val_loss: 0.9189 - val_accuracy: 0.7536\n",
            "Epoch 456/500\n",
            "104/104 [==============================] - 1s 5ms/step - loss: 0.1755 - accuracy: 0.9371 - val_loss: 0.8665 - val_accuracy: 0.7633\n",
            "Epoch 457/500\n",
            "104/104 [==============================] - 1s 6ms/step - loss: 0.1617 - accuracy: 0.9383 - val_loss: 0.8512 - val_accuracy: 0.7633\n",
            "Epoch 458/500\n",
            "104/104 [==============================] - 1s 6ms/step - loss: 0.1715 - accuracy: 0.9468 - val_loss: 0.8134 - val_accuracy: 0.7585\n",
            "Epoch 459/500\n",
            "104/104 [==============================] - 1s 6ms/step - loss: 0.1708 - accuracy: 0.9365 - val_loss: 0.8615 - val_accuracy: 0.7681\n",
            "Epoch 460/500\n",
            "104/104 [==============================] - 1s 6ms/step - loss: 0.1560 - accuracy: 0.9486 - val_loss: 0.9836 - val_accuracy: 0.7488\n",
            "Epoch 461/500\n",
            "104/104 [==============================] - 1s 6ms/step - loss: 0.1733 - accuracy: 0.9347 - val_loss: 0.8194 - val_accuracy: 0.7923\n",
            "Epoch 462/500\n",
            "104/104 [==============================] - 1s 5ms/step - loss: 0.1852 - accuracy: 0.9414 - val_loss: 0.8717 - val_accuracy: 0.7681\n",
            "Epoch 463/500\n",
            "104/104 [==============================] - 1s 5ms/step - loss: 0.1711 - accuracy: 0.9383 - val_loss: 0.9250 - val_accuracy: 0.7585\n",
            "Epoch 464/500\n",
            "104/104 [==============================] - 1s 5ms/step - loss: 0.1829 - accuracy: 0.9359 - val_loss: 1.0309 - val_accuracy: 0.7295\n",
            "Epoch 465/500\n",
            "104/104 [==============================] - 1s 6ms/step - loss: 0.1580 - accuracy: 0.9420 - val_loss: 0.9284 - val_accuracy: 0.7536\n",
            "Epoch 466/500\n",
            "104/104 [==============================] - 1s 6ms/step - loss: 0.1555 - accuracy: 0.9510 - val_loss: 0.9110 - val_accuracy: 0.7295\n",
            "Epoch 467/500\n",
            "104/104 [==============================] - 1s 5ms/step - loss: 0.1545 - accuracy: 0.9450 - val_loss: 0.8363 - val_accuracy: 0.7826\n",
            "Epoch 468/500\n",
            "104/104 [==============================] - 1s 6ms/step - loss: 0.1642 - accuracy: 0.9492 - val_loss: 0.8951 - val_accuracy: 0.7729\n",
            "Epoch 469/500\n",
            "104/104 [==============================] - 1s 6ms/step - loss: 0.1625 - accuracy: 0.9420 - val_loss: 0.8836 - val_accuracy: 0.7681\n",
            "Epoch 470/500\n",
            "104/104 [==============================] - 1s 6ms/step - loss: 0.1619 - accuracy: 0.9341 - val_loss: 0.9490 - val_accuracy: 0.7778\n",
            "Epoch 471/500\n",
            "104/104 [==============================] - 1s 6ms/step - loss: 0.1753 - accuracy: 0.9401 - val_loss: 0.9338 - val_accuracy: 0.7536\n",
            "Epoch 472/500\n",
            "104/104 [==============================] - 1s 5ms/step - loss: 0.1578 - accuracy: 0.9432 - val_loss: 0.8588 - val_accuracy: 0.7440\n",
            "Epoch 473/500\n",
            "104/104 [==============================] - 1s 6ms/step - loss: 0.1560 - accuracy: 0.9510 - val_loss: 0.9115 - val_accuracy: 0.7874\n",
            "Epoch 474/500\n",
            "104/104 [==============================] - 1s 6ms/step - loss: 0.1634 - accuracy: 0.9407 - val_loss: 0.9026 - val_accuracy: 0.7778\n",
            "Epoch 475/500\n",
            "104/104 [==============================] - 1s 6ms/step - loss: 0.1759 - accuracy: 0.9432 - val_loss: 0.8377 - val_accuracy: 0.7633\n",
            "Epoch 476/500\n",
            "104/104 [==============================] - 1s 6ms/step - loss: 0.1559 - accuracy: 0.9528 - val_loss: 0.9146 - val_accuracy: 0.8164\n",
            "Epoch 477/500\n",
            "104/104 [==============================] - 1s 6ms/step - loss: 0.1624 - accuracy: 0.9444 - val_loss: 0.7808 - val_accuracy: 0.7729\n",
            "Epoch 478/500\n",
            "104/104 [==============================] - 1s 6ms/step - loss: 0.1753 - accuracy: 0.9407 - val_loss: 0.8597 - val_accuracy: 0.7440\n",
            "Epoch 479/500\n",
            "104/104 [==============================] - 1s 6ms/step - loss: 0.1471 - accuracy: 0.9450 - val_loss: 0.8002 - val_accuracy: 0.7778\n",
            "Epoch 480/500\n",
            "104/104 [==============================] - 1s 5ms/step - loss: 0.1633 - accuracy: 0.9401 - val_loss: 0.9610 - val_accuracy: 0.7729\n",
            "Epoch 481/500\n",
            "104/104 [==============================] - 1s 5ms/step - loss: 0.1919 - accuracy: 0.9432 - val_loss: 0.8718 - val_accuracy: 0.7874\n",
            "Epoch 482/500\n",
            "104/104 [==============================] - 1s 6ms/step - loss: 0.1663 - accuracy: 0.9407 - val_loss: 1.0424 - val_accuracy: 0.7295\n",
            "Epoch 483/500\n",
            "104/104 [==============================] - 1s 6ms/step - loss: 0.1656 - accuracy: 0.9353 - val_loss: 0.9143 - val_accuracy: 0.7488\n",
            "Epoch 484/500\n",
            "104/104 [==============================] - 1s 5ms/step - loss: 0.1451 - accuracy: 0.9486 - val_loss: 0.7619 - val_accuracy: 0.7729\n",
            "Epoch 485/500\n",
            "104/104 [==============================] - 1s 5ms/step - loss: 0.1498 - accuracy: 0.9468 - val_loss: 0.8692 - val_accuracy: 0.7923\n",
            "Epoch 486/500\n",
            "104/104 [==============================] - 1s 5ms/step - loss: 0.1379 - accuracy: 0.9516 - val_loss: 0.9174 - val_accuracy: 0.7440\n",
            "Epoch 487/500\n",
            "104/104 [==============================] - 1s 6ms/step - loss: 0.1720 - accuracy: 0.9383 - val_loss: 0.8868 - val_accuracy: 0.7488\n",
            "Epoch 488/500\n",
            "104/104 [==============================] - 1s 5ms/step - loss: 0.1621 - accuracy: 0.9432 - val_loss: 0.8971 - val_accuracy: 0.7246\n",
            "Epoch 489/500\n",
            "104/104 [==============================] - 1s 6ms/step - loss: 0.1387 - accuracy: 0.9474 - val_loss: 0.8364 - val_accuracy: 0.8019\n",
            "Epoch 490/500\n",
            "104/104 [==============================] - 1s 5ms/step - loss: 0.1567 - accuracy: 0.9438 - val_loss: 0.8503 - val_accuracy: 0.7681\n",
            "Epoch 491/500\n",
            "104/104 [==============================] - 1s 6ms/step - loss: 0.1646 - accuracy: 0.9486 - val_loss: 0.8707 - val_accuracy: 0.7681\n",
            "Epoch 492/500\n",
            "104/104 [==============================] - 1s 6ms/step - loss: 0.1503 - accuracy: 0.9450 - val_loss: 0.8938 - val_accuracy: 0.7633\n",
            "Epoch 493/500\n",
            "104/104 [==============================] - 1s 6ms/step - loss: 0.1411 - accuracy: 0.9498 - val_loss: 0.9256 - val_accuracy: 0.7778\n",
            "Epoch 494/500\n",
            "104/104 [==============================] - 1s 6ms/step - loss: 0.1502 - accuracy: 0.9438 - val_loss: 0.9831 - val_accuracy: 0.7440\n",
            "Epoch 495/500\n",
            "104/104 [==============================] - 1s 6ms/step - loss: 0.1755 - accuracy: 0.9426 - val_loss: 0.9238 - val_accuracy: 0.7681\n",
            "Epoch 496/500\n",
            "104/104 [==============================] - 1s 6ms/step - loss: 0.1672 - accuracy: 0.9377 - val_loss: 0.8849 - val_accuracy: 0.7874\n",
            "Epoch 497/500\n",
            "104/104 [==============================] - 1s 6ms/step - loss: 0.1474 - accuracy: 0.9504 - val_loss: 1.0595 - val_accuracy: 0.7536\n",
            "Epoch 498/500\n",
            "104/104 [==============================] - 1s 6ms/step - loss: 0.1644 - accuracy: 0.9444 - val_loss: 0.8812 - val_accuracy: 0.7874\n",
            "Epoch 499/500\n",
            "104/104 [==============================] - 1s 5ms/step - loss: 0.1423 - accuracy: 0.9492 - val_loss: 0.9113 - val_accuracy: 0.7633\n",
            "Epoch 500/500\n",
            "104/104 [==============================] - 1s 6ms/step - loss: 0.1502 - accuracy: 0.9462 - val_loss: 0.9147 - val_accuracy: 0.7729\n"
          ]
        }
      ]
    },
    {
      "cell_type": "code",
      "source": [
        "plt.plot(cnnhistory.history['loss'])\n",
        "plt.plot(cnnhistory.history['val_loss'])\n",
        "plt.title('model loss')\n",
        "plt.ylabel('loss')\n",
        "plt.xlabel('epoch')\n",
        "plt.legend(['train','test'], loc='upper left')\n",
        "plt.show()"
      ],
      "metadata": {
        "colab": {
          "base_uri": "https://localhost:8080/",
          "height": 295
        },
        "id": "oQYnuaCrDH_A",
        "outputId": "48e22ddf-3857-47bd-b832-944c23ae1ad3"
      },
      "execution_count": 22,
      "outputs": [
        {
          "output_type": "display_data",
          "data": {
            "text/plain": [
              "<Figure size 432x288 with 1 Axes>"
            ],
            "image/png": "[encoded data removed]"
          },
          "metadata": {
            "needs_background": "light"
          }
        }
      ]
    },
    {
      "cell_type": "code",
      "source": [
        "plt.plot(cnnhistory.history['accuracy'])\n",
        "plt.plot(cnnhistory.history['val_accuracy'])\n",
        "plt.title('model accuracy')\n",
        "plt.ylabel('accuracy')\n",
        "plt.xlabel('epoch')\n",
        "plt.legend(['train','test'], loc='upper left')\n",
        "plt.show()"
      ],
      "metadata": {
        "colab": {
          "base_uri": "https://localhost:8080/",
          "height": 295
        },
        "id": "IFkTuO8nDNdq",
        "outputId": "80bfbba2-7d2c-48ef-e6a7-0fe323b44c85"
      },
      "execution_count": 23,
      "outputs": [
        {
          "output_type": "display_data",
          "data": {
            "text/plain": [
              "<Figure size 432x288 with 1 Axes>"
            ],
            "image/png": "[encoded data removed]"
          },
          "metadata": {
            "needs_background": "light"
          }
        }
      ]
    },
    {
      "cell_type": "code",
      "source": [
        "#predictions = model.predict_classes(x_testcnn)\n",
        "predictions = model.predict(x_testcnn)"
      ],
      "metadata": {
        "id": "A2xtrN5wDQgY"
      },
      "execution_count": 24,
      "outputs": []
    },
    {
      "cell_type": "code",
      "source": [
        "predictions"
      ],
      "metadata": {
        "colab": {
          "base_uri": "https://localhost:8080/"
        },
        "id": "_f_ohjXKDUpY",
        "outputId": "6de47589-eeb2-49f2-aac8-d603e98ca7f1"
      },
      "execution_count": 25,
      "outputs": [
        {
          "output_type": "execute_result",
          "data": {
            "text/plain": [
              "array([[1.12601828e-09, 2.43268766e-10, 1.24593666e-02, 5.83344729e-07,\n",
              "        1.07255466e-02, 9.76814449e-01],\n",
              "       [2.54928484e-03, 9.96355057e-01, 3.27709313e-05, 5.93351084e-04,\n",
              "        3.34026408e-04, 1.35537979e-04],\n",
              "       [1.31811044e-06, 3.71026144e-05, 9.86826777e-01, 1.11948555e-06,\n",
              "        1.00054946e-02, 3.12811323e-03],\n",
              "       ...,\n",
              "       [1.92413590e-05, 6.38473011e-07, 8.68757372e-04, 3.55211640e-04,\n",
              "        9.82189000e-01, 1.65671930e-02],\n",
              "       [4.11505438e-03, 3.28025557e-02, 8.46304829e-05, 8.48779917e-01,\n",
              "        1.76031099e-05, 1.14200294e-01],\n",
              "       [4.90264624e-01, 2.37941742e-02, 1.58909964e-03, 1.01493195e-01,\n",
              "        3.82813990e-01, 4.49559229e-05]], dtype=float32)"
            ]
          },
          "metadata": {},
          "execution_count": 25
        }
      ]
    },
    {
      "cell_type": "code",
      "source": [
        "y_test"
      ],
      "metadata": {
        "colab": {
          "base_uri": "https://localhost:8080/"
        },
        "id": "cmA2bFgsDW3D",
        "outputId": "5ac2eeb8-1673-4f43-e36a-202b835ae49b"
      },
      "execution_count": 26,
      "outputs": [
        {
          "output_type": "execute_result",
          "data": {
            "text/plain": [
              "array([5, 1, 2, 5, 3, 4, 2, 0, 3, 1, 3, 2, 1, 4, 3, 0, 5, 0, 2, 5, 0, 0,\n",
              "       1, 3, 2, 3, 2, 5, 4, 2, 2, 3, 1, 2, 5, 5, 3, 5, 3, 3, 4, 1, 3, 2,\n",
              "       3, 1, 5, 3, 1, 2, 4, 4, 5, 5, 5, 1, 2, 3, 2, 5, 0, 2, 4, 2, 5, 4,\n",
              "       3, 0, 1, 2, 5, 2, 1, 2, 4, 5, 4, 1, 5, 5, 3, 1, 5, 3, 2, 4, 2, 5,\n",
              "       0, 5, 0, 5, 4, 0, 2, 4, 0, 2, 2, 0, 2, 3, 5, 3, 5, 5, 3, 1, 2, 2,\n",
              "       2, 1, 3, 2, 1, 3, 4, 4, 1, 1, 2, 4, 4, 1, 4, 2, 0, 4, 5, 5, 3, 1,\n",
              "       2, 1, 5, 5, 1, 2, 3, 3, 0, 3, 3, 0, 1, 0, 1, 2, 1, 5, 1, 2, 2, 0,\n",
              "       1, 1, 1, 1, 1, 4, 0, 1, 5, 1, 4, 5, 5, 4, 1, 0, 3, 5, 2, 3, 0, 4,\n",
              "       1, 3, 1, 0, 5, 5, 3, 5, 4, 5, 4, 0, 4, 1, 2, 1, 5, 0, 4, 3, 2, 1,\n",
              "       0, 3, 5, 0, 4, 5, 4, 5, 4])"
            ]
          },
          "metadata": {},
          "execution_count": 26
        }
      ]
    },
    {
      "cell_type": "code",
      "source": [
        "new_Ytest = y_test.astype(int)"
      ],
      "metadata": {
        "id": "0PHDKWJWDY3g"
      },
      "execution_count": 27,
      "outputs": []
    },
    {
      "cell_type": "code",
      "source": [
        "new_Ytest"
      ],
      "metadata": {
        "colab": {
          "base_uri": "https://localhost:8080/"
        },
        "id": "k68v2i-pDbZE",
        "outputId": "ea628de3-b545-45cd-da5b-a64206a6760e"
      },
      "execution_count": 28,
      "outputs": [
        {
          "output_type": "execute_result",
          "data": {
            "text/plain": [
              "array([5, 1, 2, 5, 3, 4, 2, 0, 3, 1, 3, 2, 1, 4, 3, 0, 5, 0, 2, 5, 0, 0,\n",
              "       1, 3, 2, 3, 2, 5, 4, 2, 2, 3, 1, 2, 5, 5, 3, 5, 3, 3, 4, 1, 3, 2,\n",
              "       3, 1, 5, 3, 1, 2, 4, 4, 5, 5, 5, 1, 2, 3, 2, 5, 0, 2, 4, 2, 5, 4,\n",
              "       3, 0, 1, 2, 5, 2, 1, 2, 4, 5, 4, 1, 5, 5, 3, 1, 5, 3, 2, 4, 2, 5,\n",
              "       0, 5, 0, 5, 4, 0, 2, 4, 0, 2, 2, 0, 2, 3, 5, 3, 5, 5, 3, 1, 2, 2,\n",
              "       2, 1, 3, 2, 1, 3, 4, 4, 1, 1, 2, 4, 4, 1, 4, 2, 0, 4, 5, 5, 3, 1,\n",
              "       2, 1, 5, 5, 1, 2, 3, 3, 0, 3, 3, 0, 1, 0, 1, 2, 1, 5, 1, 2, 2, 0,\n",
              "       1, 1, 1, 1, 1, 4, 0, 1, 5, 1, 4, 5, 5, 4, 1, 0, 3, 5, 2, 3, 0, 4,\n",
              "       1, 3, 1, 0, 5, 5, 3, 5, 4, 5, 4, 0, 4, 1, 2, 1, 5, 0, 4, 3, 2, 1,\n",
              "       0, 3, 5, 0, 4, 5, 4, 5, 4])"
            ]
          },
          "metadata": {},
          "execution_count": 28
        }
      ]
    },
    {
      "cell_type": "code",
      "source": [
        "preds1=predictions.argmax(axis=1)\n",
        "preds1"
      ],
      "metadata": {
        "colab": {
          "base_uri": "https://localhost:8080/"
        },
        "id": "4_cAI39VFhtp",
        "outputId": "9fbb2b41-e176-47e9-9d29-9d6e7f47d604"
      },
      "execution_count": 29,
      "outputs": [
        {
          "output_type": "execute_result",
          "data": {
            "text/plain": [
              "array([5, 1, 2, 5, 3, 4, 2, 0, 3, 0, 3, 2, 1, 4, 3, 0, 5, 5, 2, 5, 0, 0,\n",
              "       1, 3, 4, 5, 2, 5, 4, 2, 2, 3, 1, 2, 5, 5, 1, 2, 3, 2, 4, 1, 2, 2,\n",
              "       3, 1, 3, 3, 1, 0, 4, 4, 5, 5, 3, 1, 2, 3, 5, 2, 0, 2, 4, 2, 5, 4,\n",
              "       0, 1, 1, 2, 3, 2, 1, 2, 4, 5, 4, 1, 5, 5, 3, 1, 5, 3, 2, 4, 2, 5,\n",
              "       0, 5, 0, 5, 4, 0, 3, 4, 3, 4, 2, 0, 2, 3, 5, 3, 5, 5, 5, 1, 2, 2,\n",
              "       2, 1, 3, 2, 1, 3, 4, 4, 1, 1, 2, 4, 4, 1, 4, 2, 0, 4, 5, 5, 5, 1,\n",
              "       4, 1, 5, 5, 1, 3, 3, 3, 0, 3, 5, 0, 1, 0, 1, 2, 1, 5, 0, 2, 2, 0,\n",
              "       1, 1, 1, 1, 1, 4, 0, 1, 5, 1, 4, 5, 5, 2, 1, 0, 5, 5, 2, 3, 3, 4,\n",
              "       1, 3, 1, 5, 5, 2, 3, 5, 4, 5, 0, 0, 4, 0, 2, 1, 3, 0, 4, 1, 2, 1,\n",
              "       1, 4, 5, 3, 2, 5, 4, 3, 0])"
            ]
          },
          "metadata": {},
          "execution_count": 29
        }
      ]
    },
    {
      "cell_type": "code",
      "source": [
        "abc = preds1.astype(int).flatten()"
      ],
      "metadata": {
        "id": "H4WEmM60NfQn"
      },
      "execution_count": 30,
      "outputs": []
    },
    {
      "cell_type": "code",
      "source": [
        "from sklearn.metrics import confusion_matrix\n",
        "c = confusion_matrix(new_Ytest, abc) \n",
        "c"
      ],
      "metadata": {
        "colab": {
          "base_uri": "https://localhost:8080/"
        },
        "id": "bKEBeEBlFjB8",
        "outputId": "a561e044-af1d-4b72-c1e6-74d325884ccc"
      },
      "execution_count": 31,
      "outputs": [
        {
          "output_type": "execute_result",
          "data": {
            "text/plain": [
              "array([[18,  2,  0,  3,  0,  2],\n",
              "       [ 3, 36,  0,  0,  0,  0],\n",
              "       [ 1,  0, 31,  2,  3,  1],\n",
              "       [ 1,  2,  2, 22,  1,  5],\n",
              "       [ 2,  0,  2,  0, 26,  0],\n",
              "       [ 0,  0,  3,  5,  0, 34]])"
            ]
          },
          "metadata": {},
          "execution_count": 31
        }
      ]
    },
    {
      "cell_type": "code",
      "source": [
        "y_test"
      ],
      "metadata": {
        "colab": {
          "base_uri": "https://localhost:8080/"
        },
        "id": "m4RjG7LWLSQx",
        "outputId": "8ca6356f-ba0d-481c-f8d3-1f4f0d8c88aa"
      },
      "execution_count": 32,
      "outputs": [
        {
          "output_type": "execute_result",
          "data": {
            "text/plain": [
              "array([5, 1, 2, 5, 3, 4, 2, 0, 3, 1, 3, 2, 1, 4, 3, 0, 5, 0, 2, 5, 0, 0,\n",
              "       1, 3, 2, 3, 2, 5, 4, 2, 2, 3, 1, 2, 5, 5, 3, 5, 3, 3, 4, 1, 3, 2,\n",
              "       3, 1, 5, 3, 1, 2, 4, 4, 5, 5, 5, 1, 2, 3, 2, 5, 0, 2, 4, 2, 5, 4,\n",
              "       3, 0, 1, 2, 5, 2, 1, 2, 4, 5, 4, 1, 5, 5, 3, 1, 5, 3, 2, 4, 2, 5,\n",
              "       0, 5, 0, 5, 4, 0, 2, 4, 0, 2, 2, 0, 2, 3, 5, 3, 5, 5, 3, 1, 2, 2,\n",
              "       2, 1, 3, 2, 1, 3, 4, 4, 1, 1, 2, 4, 4, 1, 4, 2, 0, 4, 5, 5, 3, 1,\n",
              "       2, 1, 5, 5, 1, 2, 3, 3, 0, 3, 3, 0, 1, 0, 1, 2, 1, 5, 1, 2, 2, 0,\n",
              "       1, 1, 1, 1, 1, 4, 0, 1, 5, 1, 4, 5, 5, 4, 1, 0, 3, 5, 2, 3, 0, 4,\n",
              "       1, 3, 1, 0, 5, 5, 3, 5, 4, 5, 4, 0, 4, 1, 2, 1, 5, 0, 4, 3, 2, 1,\n",
              "       0, 3, 5, 0, 4, 5, 4, 5, 4])"
            ]
          },
          "metadata": {},
          "execution_count": 32
        }
      ]
    },
    {
      "cell_type": "code",
      "source": [
        "model.save('/content/drive/My Drive/graduation project/audio/paper_code/mariam/original_500 epoch_with_valid_Adam2_3')\n",
        "print(\"MODEL SAVED\")"
      ],
      "metadata": {
        "colab": {
          "base_uri": "https://localhost:8080/"
        },
        "id": "lsJBNeMWDl6Z",
        "outputId": "7f402e9d-be44-41be-9722-f17d86a620f5"
      },
      "execution_count": 33,
      "outputs": [
        {
          "output_type": "stream",
          "name": "stdout",
          "text": [
            "INFO:tensorflow:Assets written to: /content/drive/My Drive/graduation project/audio/paper_code/mariam/original_500 epoch_with_valid_Adam2_3/assets\n",
            "MODEL SAVED\n"
          ]
        }
      ]
    },
    {
      "cell_type": "code",
      "source": [
        "new_model=keras.models.load_model('/content/drive/My Drive/graduation project/audio/paper_code/mariam/original_500 epoch_with_valid_Adam2_3')\n",
        "new_model.summary()"
      ],
      "metadata": {
        "colab": {
          "base_uri": "https://localhost:8080/"
        },
        "id": "Q3KjaO9GDoNl",
        "outputId": "7460311c-bc67-4833-d5b2-e90cd5ffa6f4"
      },
      "execution_count": 34,
      "outputs": [
        {
          "output_type": "stream",
          "name": "stdout",
          "text": [
            "Model: \"sequential\"\n",
            "_________________________________________________________________\n",
            " Layer (type)                Output Shape              Param #   \n",
            "=================================================================\n",
            " conv1d (Conv1D)             (None, 40, 128)           1152      \n",
            "                                                                 \n",
            " activation (Activation)     (None, 40, 128)           0         \n",
            "                                                                 \n",
            " dropout (Dropout)           (None, 40, 128)           0         \n",
            "                                                                 \n",
            " max_pooling1d (MaxPooling1D  (None, 8, 128)           0         \n",
            " )                                                               \n",
            "                                                                 \n",
            " conv1d_1 (Conv1D)           (None, 8, 256)            262400    \n",
            "                                                                 \n",
            " activation_1 (Activation)   (None, 8, 256)            0         \n",
            "                                                                 \n",
            " dropout_1 (Dropout)         (None, 8, 256)            0         \n",
            "                                                                 \n",
            " max_pooling1d_1 (MaxPooling  (None, 1, 256)           0         \n",
            " 1D)                                                             \n",
            "                                                                 \n",
            " flatten (Flatten)           (None, 256)               0         \n",
            "                                                                 \n",
            " dense (Dense)               (None, 256)               65792     \n",
            "                                                                 \n",
            " activation_2 (Activation)   (None, 256)               0         \n",
            "                                                                 \n",
            " dense_1 (Dense)             (None, 256)               65792     \n",
            "                                                                 \n",
            " activation_3 (Activation)   (None, 256)               0         \n",
            "                                                                 \n",
            " dense_2 (Dense)             (None, 6)                 1542      \n",
            "                                                                 \n",
            " activation_4 (Activation)   (None, 6)                 0         \n",
            "                                                                 \n",
            "=================================================================\n",
            "Total params: 396,678\n",
            "Trainable params: 396,678\n",
            "Non-trainable params: 0\n",
            "_________________________________________________________________\n"
          ]
        }
      ]
    },
    {
      "cell_type": "code",
      "source": [
        "loss, acc =model.evaluate(x_testcnn, y_test)\n",
        "print(\"Restored model, accuracy: {:5.2f}%\".format(100*acc))"
      ],
      "metadata": {
        "colab": {
          "base_uri": "https://localhost:8080/"
        },
        "id": "n3kzoqPkDqqS",
        "outputId": "c2ced777-800f-43f8-d913-e7686c520853"
      },
      "execution_count": 35,
      "outputs": [
        {
          "output_type": "stream",
          "name": "stdout",
          "text": [
            "7/7 [==============================] - 0s 4ms/step - loss: 0.5916 - accuracy: 0.8068\n",
            "Restored model, accuracy: 80.68%\n"
          ]
        }
      ]
    },
    {
      "cell_type": "code",
      "source": [
        "loss, acc =model.evaluate(X_train, y_train)\n",
        "print(\"Restored model train, accuracy: {:5.2f}%\".format(100*acc))"
      ],
      "metadata": {
        "id": "fJDTGH_OUX0z",
        "colab": {
          "base_uri": "https://localhost:8080/"
        },
        "outputId": "cad19d21-3712-4318-90a4-6e92ad07748f"
      },
      "execution_count": 36,
      "outputs": [
        {
          "output_type": "stream",
          "name": "stdout",
          "text": [
            "52/52 [==============================] - 0s 4ms/step - loss: 0.0447 - accuracy: 0.9946\n",
            "Restored model train, accuracy: 99.46%\n"
          ]
        }
      ]
    },
    {
      "cell_type": "code",
      "source": [
        "from sklearn.metrics import classification_report, confusion_matrix,accuracy_score\n",
        "import seaborn as sn\n",
        "\n",
        "print(classification_report(new_Ytest,abc))\n",
        "\n",
        "acc = float(accuracy_score(new_Ytest,abc))*100\n",
        "print(\"----accuracy score %s ----\" % acc)\n",
        "\n",
        "cm = confusion_matrix(new_Ytest,abc)\n",
        "#df_cm = pd.DataFrame(cm)\n",
        "class_names = ['neutral','calm', 'happy','sad','angry', 'fearful' ]\n",
        "df_cm = pd.DataFrame(cm, index=class_names, columns=class_names,)\n",
        "sn.heatmap(df_cm, annot=True, fmt='')\n",
        "plt.show()"
      ],
      "metadata": {
        "colab": {
          "base_uri": "https://localhost:8080/",
          "height": 517
        },
        "id": "SfSC3El94LZg",
        "outputId": "dc1d0047-2998-4f4a-c216-e29b9193d23f"
      },
      "execution_count": 37,
      "outputs": [
        {
          "output_type": "stream",
          "name": "stdout",
          "text": [
            "              precision    recall  f1-score   support\n",
            "\n",
            "           0       0.72      0.72      0.72        25\n",
            "           1       0.90      0.92      0.91        39\n",
            "           2       0.82      0.82      0.82        38\n",
            "           3       0.69      0.67      0.68        33\n",
            "           4       0.87      0.87      0.87        30\n",
            "           5       0.81      0.81      0.81        42\n",
            "\n",
            "    accuracy                           0.81       207\n",
            "   macro avg       0.80      0.80      0.80       207\n",
            "weighted avg       0.81      0.81      0.81       207\n",
            "\n",
            "----accuracy score 80.67632850241546 ----\n"
          ]
        },
        {
          "output_type": "display_data",
          "data": {
            "text/plain": [
              "<Figure size 432x288 with 2 Axes>"
            ],
            "image/png": "[encoded data removed]"
          },
          "metadata": {
            "needs_background": "light"
          }
        }
      ]
    },
    {
      "cell_type": "code",
      "source": [
        ""
      ],
      "metadata": {
        "id": "LGpgwFQqkpyU"
      },
      "execution_count": 37,
      "outputs": []
    }
  ]
}