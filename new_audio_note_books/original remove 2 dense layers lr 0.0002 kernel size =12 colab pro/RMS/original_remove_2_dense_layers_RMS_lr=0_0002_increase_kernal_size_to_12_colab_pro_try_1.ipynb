{
  "nbformat": 4,
  "nbformat_minor": 0,
  "metadata": {
    "colab": {
      "name": "original_remove_2_dense_layers_RMS_lr=0_0002 increase_kernal_size_to_12 colab pro try 1.ipynb",
      "provenance": [],
      "collapsed_sections": [],
      "machine_shape": "hm"
    },
    "kernelspec": {
      "name": "python3",
      "display_name": "Python 3"
    },
    "language_info": {
      "name": "python"
    },
    "accelerator": "GPU"
  },
  "cells": [
    {
      "cell_type": "code",
      "execution_count": 1,
      "metadata": {
        "colab": {
          "base_uri": "https://localhost:8080/"
        },
        "id": "9SRCO-a_AlH5",
        "outputId": "4c112863-dee6-40f5-d158-46a94379725c"
      },
      "outputs": [
        {
          "output_type": "stream",
          "name": "stdout",
          "text": [
            "Drive already mounted at /content/drive; to attempt to forcibly remount, call drive.mount(\"/content/drive\", force_remount=True).\n"
          ]
        }
      ],
      "source": [
        "from google.colab import drive\n",
        "drive.mount('/content/drive')"
      ]
    },
    {
      "cell_type": "code",
      "source": [
        "!pip install librosa"
      ],
      "metadata": {
        "colab": {
          "base_uri": "https://localhost:8080/"
        },
        "id": "5Lo4mUwG9RMd",
        "outputId": "66923577-8312-40ef-e90f-bb8cab8a7e45"
      },
      "execution_count": 2,
      "outputs": [
        {
          "output_type": "stream",
          "name": "stdout",
          "text": [
            "Looking in indexes: https://pypi.org/simple, https://us-python.pkg.dev/colab-wheels/public/simple/\n",
            "Requirement already satisfied: librosa in /usr/local/lib/python3.7/dist-packages (0.8.1)\n",
            "Requirement already satisfied: packaging>=20.0 in /usr/local/lib/python3.7/dist-packages (from librosa) (21.3)\n",
            "Requirement already satisfied: scipy>=1.0.0 in /usr/local/lib/python3.7/dist-packages (from librosa) (1.4.1)\n",
            "Requirement already satisfied: audioread>=2.0.0 in /usr/local/lib/python3.7/dist-packages (from librosa) (2.1.9)\n",
            "Requirement already satisfied: decorator>=3.0.0 in /usr/local/lib/python3.7/dist-packages (from librosa) (4.4.2)\n",
            "Requirement already satisfied: resampy>=0.2.2 in /usr/local/lib/python3.7/dist-packages (from librosa) (0.2.2)\n",
            "Requirement already satisfied: numpy>=1.15.0 in /usr/local/lib/python3.7/dist-packages (from librosa) (1.21.6)\n",
            "Requirement already satisfied: scikit-learn!=0.19.0,>=0.14.0 in /usr/local/lib/python3.7/dist-packages (from librosa) (1.0.2)\n",
            "Requirement already satisfied: numba>=0.43.0 in /usr/local/lib/python3.7/dist-packages (from librosa) (0.51.2)\n",
            "Requirement already satisfied: soundfile>=0.10.2 in /usr/local/lib/python3.7/dist-packages (from librosa) (0.10.3.post1)\n",
            "Requirement already satisfied: pooch>=1.0 in /usr/local/lib/python3.7/dist-packages (from librosa) (1.6.0)\n",
            "Requirement already satisfied: joblib>=0.14 in /usr/local/lib/python3.7/dist-packages (from librosa) (1.1.0)\n",
            "Requirement already satisfied: llvmlite<0.35,>=0.34.0.dev0 in /usr/local/lib/python3.7/dist-packages (from numba>=0.43.0->librosa) (0.34.0)\n",
            "Requirement already satisfied: setuptools in /usr/local/lib/python3.7/dist-packages (from numba>=0.43.0->librosa) (57.4.0)\n",
            "Requirement already satisfied: pyparsing!=3.0.5,>=2.0.2 in /usr/local/lib/python3.7/dist-packages (from packaging>=20.0->librosa) (3.0.9)\n",
            "Requirement already satisfied: requests>=2.19.0 in /usr/local/lib/python3.7/dist-packages (from pooch>=1.0->librosa) (2.23.0)\n",
            "Requirement already satisfied: appdirs>=1.3.0 in /usr/local/lib/python3.7/dist-packages (from pooch>=1.0->librosa) (1.4.4)\n",
            "Requirement already satisfied: certifi>=2017.4.17 in /usr/local/lib/python3.7/dist-packages (from requests>=2.19.0->pooch>=1.0->librosa) (2022.5.18.1)\n",
            "Requirement already satisfied: urllib3!=1.25.0,!=1.25.1,<1.26,>=1.21.1 in /usr/local/lib/python3.7/dist-packages (from requests>=2.19.0->pooch>=1.0->librosa) (1.24.3)\n",
            "Requirement already satisfied: idna<3,>=2.5 in /usr/local/lib/python3.7/dist-packages (from requests>=2.19.0->pooch>=1.0->librosa) (2.10)\n",
            "Requirement already satisfied: chardet<4,>=3.0.2 in /usr/local/lib/python3.7/dist-packages (from requests>=2.19.0->pooch>=1.0->librosa) (3.0.4)\n",
            "Requirement already satisfied: six>=1.3 in /usr/local/lib/python3.7/dist-packages (from resampy>=0.2.2->librosa) (1.15.0)\n",
            "Requirement already satisfied: threadpoolctl>=2.0.0 in /usr/local/lib/python3.7/dist-packages (from scikit-learn!=0.19.0,>=0.14.0->librosa) (3.1.0)\n",
            "Requirement already satisfied: cffi>=1.0 in /usr/local/lib/python3.7/dist-packages (from soundfile>=0.10.2->librosa) (1.15.0)\n",
            "Requirement already satisfied: pycparser in /usr/local/lib/python3.7/dist-packages (from cffi>=1.0->soundfile>=0.10.2->librosa) (2.21)\n"
          ]
        }
      ]
    },
    {
      "cell_type": "code",
      "metadata": {
        "id": "HJjcbxwy46bG",
        "colab": {
          "base_uri": "https://localhost:8080/",
          "height": 17
        },
        "outputId": "86f50581-f959-4d7d-fdfe-6b749565e2a1"
      },
      "source": [
        "# Orignial Notebook: https://github.com/MITESHPUTHRANNEU/Speech-Emotion-Analyzer/blob/master/final_results_gender_test.ipynb\n",
        "# This notebook author: Reza Chu\n",
        "# Last Editing Date: 31st May 2019\n",
        "\n",
        "## Python\n",
        "import os\n",
        "import random\n",
        "import sys\n",
        "\n",
        "import IPython\n",
        "from IPython.display import Audio\n",
        "from IPython.display import Image\n",
        "import matplotlib.pyplot as plt\n",
        "\n",
        "## Package\n",
        "import glob \n",
        "import keras\n",
        "import IPython.display as ipd\n",
        "import librosa\n",
        "import librosa.display\n",
        "import matplotlib.pyplot as plt\n",
        "import numpy as np\n",
        "import pandas as pd\n",
        "import plotly.graph_objs as go\n",
        "import plotly.offline as py\n",
        "import plotly.tools as tls\n",
        "import seaborn as sns\n",
        "import scipy.io.wavfile\n",
        "import tensorflow as tf\n",
        "py.init_notebook_mode(connected=True)\n",
        "\n",
        "## Keras\n",
        "from keras import regularizers\n",
        "from keras.callbacks import ModelCheckpoint, LearningRateScheduler, EarlyStopping\n",
        "from keras.callbacks import  History, ReduceLROnPlateau, CSVLogger\n",
        "from keras.models import Model, Sequential\n",
        "from keras.layers import Dense, Embedding, LSTM\n",
        "from keras.layers import Input, Flatten, Dropout, Activation, BatchNormalization\n",
        "from keras.layers import Conv1D, MaxPooling1D, AveragePooling1D\n",
        "from keras.preprocessing import sequence\n",
        "from keras.preprocessing.sequence import pad_sequences\n",
        "from keras.preprocessing.text import Tokenizer\n",
        "from keras.utils import np_utils\n",
        "from tensorflow.keras.utils import to_categorical\n",
        "\n",
        "## Sklearn\n",
        "from sklearn.metrics import confusion_matrix\n",
        "from sklearn.preprocessing import LabelEncoder\n",
        "\n",
        "## Rest\n",
        "from scipy.fftpack import fft\n",
        "from scipy import signal\n",
        "from scipy.io import wavfile\n",
        "from tqdm import tqdm\n",
        "\n",
        "input_duration=3\n",
        "# % pylab inline"
      ],
      "execution_count": 3,
      "outputs": [
        {
          "output_type": "display_data",
          "data": {
            "text/html": [
              "        <script type=\"text/javascript\">\n",
              "        window.PlotlyConfig = {MathJaxConfig: 'local'};\n",
              "        if (window.MathJax) {MathJax.Hub.Config({SVG: {font: \"STIX-Web\"}});}\n",
              "        if (typeof require !== 'undefined') {\n",
              "        require.undef(\"plotly\");\n",
              "        requirejs.config({\n",
              "            paths: {\n",
              "                'plotly': ['https://cdn.plot.ly/plotly-2.8.3.min']\n",
              "            }\n",
              "        });\n",
              "        require(['plotly'], function(Plotly) {\n",
              "            window._Plotly = Plotly;\n",
              "        });\n",
              "        }\n",
              "        </script>\n",
              "        "
            ]
          },
          "metadata": {}
        }
      ]
    },
    {
      "cell_type": "code",
      "source": [
        "# # Saving joblib files to not load them again with the loop above\n",
        "\n",
        "# import joblib\n",
        "\n",
        "# X_name = 'x.joblib'\n",
        "# y_name = 'y.joblib'\n",
        "# save_dir = '/content/drive/My Drive/graduation project/audio/paper_code/features'\n",
        "\n",
        "# savedX = joblib.dump(X, os.path.join(save_dir, X_name))\n",
        "# savedy = joblib.dump(y, os.path.join(save_dir, y_name))"
      ],
      "metadata": {
        "id": "UCzic8rlDcuk"
      },
      "execution_count": 4,
      "outputs": []
    },
    {
      "cell_type": "code",
      "source": [
        "# # Loading saved models\n",
        "import joblib\n",
        "X = joblib.load('/content/drive/My Drive/graduation project/audio/paper_code/features/x.joblib')\n",
        "y = joblib.load('/content/drive/My Drive/graduation project/audio/paper_code/features/y.joblib')"
      ],
      "metadata": {
        "id": "Q35CN6zDrzg1"
      },
      "execution_count": 5,
      "outputs": []
    },
    {
      "cell_type": "code",
      "source": [
        "X.shape"
      ],
      "metadata": {
        "id": "7PSTurzjCo5K",
        "colab": {
          "base_uri": "https://localhost:8080/"
        },
        "outputId": "17d8d830-3c81-4c9c-bb45-3352e53c01a8"
      },
      "execution_count": 6,
      "outputs": [
        {
          "output_type": "execute_result",
          "data": {
            "text/plain": [
              "(2068, 40)"
            ]
          },
          "metadata": {},
          "execution_count": 6
        }
      ]
    },
    {
      "cell_type": "code",
      "source": [
        "from sklearn.model_selection import train_test_split\n",
        "\n",
        "X_train, X_test, y_train, y_test = train_test_split(X,y, test_size=0.1 ,shuffle = True\n",
        "                                                    , random_state=42)\n",
        "X_train , X_valid, y_train, y_valid = train_test_split(X_train,y_train, test_size=0.1112305212 , shuffle = True \n",
        "                                                       , random_state=42)"
      ],
      "metadata": {
        "id": "Ai4Fy5cPCiq1"
      },
      "execution_count": 7,
      "outputs": []
    },
    {
      "cell_type": "code",
      "source": [
        "import numpy as np\n",
        "x_traincnn = np.expand_dims(X_train, axis=2)\n",
        "x_testcnn = np.expand_dims(X_test, axis=2)\n",
        "X_valid= np.expand_dims(X_valid, axis=2)"
      ],
      "metadata": {
        "id": "tp1Fm5K3CEXu"
      },
      "execution_count": 8,
      "outputs": []
    },
    {
      "cell_type": "code",
      "source": [
        "x_traincnn.shape, x_testcnn.shape , X_valid.shape\n",
        "#1861"
      ],
      "metadata": {
        "id": "RI0MxoIPBws5",
        "colab": {
          "base_uri": "https://localhost:8080/"
        },
        "outputId": "bdf732a5-019f-412c-bd4c-f9b29153af59"
      },
      "execution_count": 9,
      "outputs": [
        {
          "output_type": "execute_result",
          "data": {
            "text/plain": [
              "((1654, 40, 1), (207, 40, 1), (207, 40, 1))"
            ]
          },
          "metadata": {},
          "execution_count": 9
        }
      ]
    },
    {
      "cell_type": "code",
      "source": [
        "!pip install tensorflow"
      ],
      "metadata": {
        "id": "oALhiMUd9G2Y",
        "colab": {
          "base_uri": "https://localhost:8080/"
        },
        "outputId": "744ade8c-177a-4480-8a46-f52e4cdcda46"
      },
      "execution_count": 10,
      "outputs": [
        {
          "output_type": "stream",
          "name": "stdout",
          "text": [
            "Looking in indexes: https://pypi.org/simple, https://us-python.pkg.dev/colab-wheels/public/simple/\n",
            "Requirement already satisfied: tensorflow in /usr/local/lib/python3.7/dist-packages (2.8.2+zzzcolab20220527125636)\n",
            "Requirement already satisfied: keras-preprocessing>=1.1.1 in /usr/local/lib/python3.7/dist-packages (from tensorflow) (1.1.2)\n",
            "Requirement already satisfied: google-pasta>=0.1.1 in /usr/local/lib/python3.7/dist-packages (from tensorflow) (0.2.0)\n",
            "Requirement already satisfied: keras<2.9,>=2.8.0rc0 in /usr/local/lib/python3.7/dist-packages (from tensorflow) (2.8.0)\n",
            "Requirement already satisfied: libclang>=9.0.1 in /usr/local/lib/python3.7/dist-packages (from tensorflow) (14.0.1)\n",
            "Requirement already satisfied: h5py>=2.9.0 in /usr/local/lib/python3.7/dist-packages (from tensorflow) (3.1.0)\n",
            "Requirement already satisfied: tensorboard<2.9,>=2.8 in /usr/local/lib/python3.7/dist-packages (from tensorflow) (2.8.0)\n",
            "Requirement already satisfied: tensorflow-io-gcs-filesystem>=0.23.1 in /usr/local/lib/python3.7/dist-packages (from tensorflow) (0.26.0)\n",
            "Requirement already satisfied: termcolor>=1.1.0 in /usr/local/lib/python3.7/dist-packages (from tensorflow) (1.1.0)\n",
            "Requirement already satisfied: opt-einsum>=2.3.2 in /usr/local/lib/python3.7/dist-packages (from tensorflow) (3.3.0)\n",
            "Requirement already satisfied: tensorflow-estimator<2.9,>=2.8 in /usr/local/lib/python3.7/dist-packages (from tensorflow) (2.8.0)\n",
            "Requirement already satisfied: absl-py>=0.4.0 in /usr/local/lib/python3.7/dist-packages (from tensorflow) (1.0.0)\n",
            "Requirement already satisfied: gast>=0.2.1 in /usr/local/lib/python3.7/dist-packages (from tensorflow) (0.5.3)\n",
            "Requirement already satisfied: numpy>=1.20 in /usr/local/lib/python3.7/dist-packages (from tensorflow) (1.21.6)\n",
            "Requirement already satisfied: protobuf<3.20,>=3.9.2 in /usr/local/lib/python3.7/dist-packages (from tensorflow) (3.17.3)\n",
            "Requirement already satisfied: typing-extensions>=3.6.6 in /usr/local/lib/python3.7/dist-packages (from tensorflow) (4.2.0)\n",
            "Requirement already satisfied: wrapt>=1.11.0 in /usr/local/lib/python3.7/dist-packages (from tensorflow) (1.14.1)\n",
            "Requirement already satisfied: astunparse>=1.6.0 in /usr/local/lib/python3.7/dist-packages (from tensorflow) (1.6.3)\n",
            "Requirement already satisfied: flatbuffers>=1.12 in /usr/local/lib/python3.7/dist-packages (from tensorflow) (2.0)\n",
            "Requirement already satisfied: six>=1.12.0 in /usr/local/lib/python3.7/dist-packages (from tensorflow) (1.15.0)\n",
            "Requirement already satisfied: setuptools in /usr/local/lib/python3.7/dist-packages (from tensorflow) (57.4.0)\n",
            "Requirement already satisfied: grpcio<2.0,>=1.24.3 in /usr/local/lib/python3.7/dist-packages (from tensorflow) (1.46.3)\n",
            "Requirement already satisfied: wheel<1.0,>=0.23.0 in /usr/local/lib/python3.7/dist-packages (from astunparse>=1.6.0->tensorflow) (0.37.1)\n",
            "Requirement already satisfied: cached-property in /usr/local/lib/python3.7/dist-packages (from h5py>=2.9.0->tensorflow) (1.5.2)\n",
            "Requirement already satisfied: tensorboard-data-server<0.7.0,>=0.6.0 in /usr/local/lib/python3.7/dist-packages (from tensorboard<2.9,>=2.8->tensorflow) (0.6.1)\n",
            "Requirement already satisfied: werkzeug>=0.11.15 in /usr/local/lib/python3.7/dist-packages (from tensorboard<2.9,>=2.8->tensorflow) (1.0.1)\n",
            "Requirement already satisfied: google-auth-oauthlib<0.5,>=0.4.1 in /usr/local/lib/python3.7/dist-packages (from tensorboard<2.9,>=2.8->tensorflow) (0.4.6)\n",
            "Requirement already satisfied: markdown>=2.6.8 in /usr/local/lib/python3.7/dist-packages (from tensorboard<2.9,>=2.8->tensorflow) (3.3.7)\n",
            "Requirement already satisfied: google-auth<3,>=1.6.3 in /usr/local/lib/python3.7/dist-packages (from tensorboard<2.9,>=2.8->tensorflow) (1.35.0)\n",
            "Requirement already satisfied: requests<3,>=2.21.0 in /usr/local/lib/python3.7/dist-packages (from tensorboard<2.9,>=2.8->tensorflow) (2.23.0)\n",
            "Requirement already satisfied: tensorboard-plugin-wit>=1.6.0 in /usr/local/lib/python3.7/dist-packages (from tensorboard<2.9,>=2.8->tensorflow) (1.8.1)\n",
            "Requirement already satisfied: rsa<5,>=3.1.4 in /usr/local/lib/python3.7/dist-packages (from google-auth<3,>=1.6.3->tensorboard<2.9,>=2.8->tensorflow) (4.8)\n",
            "Requirement already satisfied: cachetools<5.0,>=2.0.0 in /usr/local/lib/python3.7/dist-packages (from google-auth<3,>=1.6.3->tensorboard<2.9,>=2.8->tensorflow) (4.2.4)\n",
            "Requirement already satisfied: pyasn1-modules>=0.2.1 in /usr/local/lib/python3.7/dist-packages (from google-auth<3,>=1.6.3->tensorboard<2.9,>=2.8->tensorflow) (0.2.8)\n",
            "Requirement already satisfied: requests-oauthlib>=0.7.0 in /usr/local/lib/python3.7/dist-packages (from google-auth-oauthlib<0.5,>=0.4.1->tensorboard<2.9,>=2.8->tensorflow) (1.3.1)\n",
            "Requirement already satisfied: importlib-metadata>=4.4 in /usr/local/lib/python3.7/dist-packages (from markdown>=2.6.8->tensorboard<2.9,>=2.8->tensorflow) (4.11.4)\n",
            "Requirement already satisfied: zipp>=0.5 in /usr/local/lib/python3.7/dist-packages (from importlib-metadata>=4.4->markdown>=2.6.8->tensorboard<2.9,>=2.8->tensorflow) (3.8.0)\n",
            "Requirement already satisfied: pyasn1<0.5.0,>=0.4.6 in /usr/local/lib/python3.7/dist-packages (from pyasn1-modules>=0.2.1->google-auth<3,>=1.6.3->tensorboard<2.9,>=2.8->tensorflow) (0.4.8)\n",
            "Requirement already satisfied: certifi>=2017.4.17 in /usr/local/lib/python3.7/dist-packages (from requests<3,>=2.21.0->tensorboard<2.9,>=2.8->tensorflow) (2022.5.18.1)\n",
            "Requirement already satisfied: urllib3!=1.25.0,!=1.25.1,<1.26,>=1.21.1 in /usr/local/lib/python3.7/dist-packages (from requests<3,>=2.21.0->tensorboard<2.9,>=2.8->tensorflow) (1.24.3)\n",
            "Requirement already satisfied: idna<3,>=2.5 in /usr/local/lib/python3.7/dist-packages (from requests<3,>=2.21.0->tensorboard<2.9,>=2.8->tensorflow) (2.10)\n",
            "Requirement already satisfied: chardet<4,>=3.0.2 in /usr/local/lib/python3.7/dist-packages (from requests<3,>=2.21.0->tensorboard<2.9,>=2.8->tensorflow) (3.0.4)\n",
            "Requirement already satisfied: oauthlib>=3.0.0 in /usr/local/lib/python3.7/dist-packages (from requests-oauthlib>=0.7.0->google-auth-oauthlib<0.5,>=0.4.1->tensorboard<2.9,>=2.8->tensorflow) (3.2.0)\n"
          ]
        }
      ]
    },
    {
      "cell_type": "code",
      "source": [
        "import keras\n",
        "import numpy as np\n",
        "import matplotlib.pyplot as plt\n",
        "import tensorflow as tf\n",
        "from keras.preprocessing import sequence\n",
        "from keras.models import Sequential\n",
        "from keras.layers import Dense, Embedding\n",
        "from tensorflow.keras.utils import to_categorical\n",
        "from keras.layers import Input, Flatten, Dropout, Activation\n",
        "from keras.layers import Conv1D, MaxPooling1D\n",
        "from keras.models import Model\n",
        "from keras.callbacks import ModelCheckpoint\n",
        "from tensorflow.keras import optimizers\n",
        "\n",
        "model = Sequential()\n",
        "\n",
        "model.add(Conv1D(128, 12,padding='same', #classifier.add(Convolution2D(64, (3, 3), padding = 'same', input_shape = (128, 128, 3), activation = 'relu'))\n",
        "                 input_shape=(40,1)))\n",
        "model.add(Activation('relu'))\n",
        "model.add(Dropout(0.3))\n",
        "model.add(MaxPooling1D(pool_size=(5)))\n",
        "\n",
        "\n",
        "model.add(Conv1D(256,12,padding='same',))\n",
        "model.add(Activation('relu'))\n",
        "model.add(Dropout(0.3))\n",
        "model.add(MaxPooling1D(pool_size=(5)))\n",
        "\n",
        "#model.add(MaxPooling1D(pool_size=(5)))\n",
        "\n",
        "model.add(Flatten())\n",
        "\n",
        "\n",
        "\n",
        "model.add(Dense(6))\n",
        "model.add(Activation('softmax'))\n",
        "\n",
        "\n",
        "opt = tf.keras.optimizers.RMSprop(lr=0.0002 , decay=0.0)\n",
        "#opt = tf.keras.optimizers.Adam(lr=0.0002 , decay=0.0)\n",
        "#opt = tf.keras.optimizers.RMSprop(lr=0.0001, rho=0.9, epsilon=1e-07, decay=0.0)\n",
        "#opt = tf.keras.optimizers.SGD(lr=0.001, momentum=0.0, decay=0.0, nesterov=False)"
      ],
      "metadata": {
        "id": "g74fXWVAC4Cr",
        "colab": {
          "base_uri": "https://localhost:8080/"
        },
        "outputId": "4798d03a-c397-4b91-c286-aa3e7dfa4b99"
      },
      "execution_count": 11,
      "outputs": [
        {
          "output_type": "stream",
          "name": "stderr",
          "text": [
            "/usr/local/lib/python3.7/dist-packages/keras/optimizer_v2/rmsprop.py:130: UserWarning:\n",
            "\n",
            "The `lr` argument is deprecated, use `learning_rate` instead.\n",
            "\n"
          ]
        }
      ]
    },
    {
      "cell_type": "code",
      "source": [
        "model.summary()"
      ],
      "metadata": {
        "id": "H6ukOxAGC_I4",
        "colab": {
          "base_uri": "https://localhost:8080/"
        },
        "outputId": "09562a09-eba8-4e1b-f356-b2a57397019f"
      },
      "execution_count": 12,
      "outputs": [
        {
          "output_type": "stream",
          "name": "stdout",
          "text": [
            "Model: \"sequential\"\n",
            "_________________________________________________________________\n",
            " Layer (type)                Output Shape              Param #   \n",
            "=================================================================\n",
            " conv1d (Conv1D)             (None, 40, 128)           1664      \n",
            "                                                                 \n",
            " activation (Activation)     (None, 40, 128)           0         \n",
            "                                                                 \n",
            " dropout (Dropout)           (None, 40, 128)           0         \n",
            "                                                                 \n",
            " max_pooling1d (MaxPooling1D  (None, 8, 128)           0         \n",
            " )                                                               \n",
            "                                                                 \n",
            " conv1d_1 (Conv1D)           (None, 8, 256)            393472    \n",
            "                                                                 \n",
            " activation_1 (Activation)   (None, 8, 256)            0         \n",
            "                                                                 \n",
            " dropout_1 (Dropout)         (None, 8, 256)            0         \n",
            "                                                                 \n",
            " max_pooling1d_1 (MaxPooling  (None, 1, 256)           0         \n",
            " 1D)                                                             \n",
            "                                                                 \n",
            " flatten (Flatten)           (None, 256)               0         \n",
            "                                                                 \n",
            " dense (Dense)               (None, 6)                 1542      \n",
            "                                                                 \n",
            " activation_2 (Activation)   (None, 6)                 0         \n",
            "                                                                 \n",
            "=================================================================\n",
            "Total params: 396,678\n",
            "Trainable params: 396,678\n",
            "Non-trainable params: 0\n",
            "_________________________________________________________________\n"
          ]
        }
      ]
    },
    {
      "cell_type": "code",
      "source": [
        "model.compile(loss='sparse_categorical_crossentropy',\n",
        "              optimizer=opt,\n",
        "              metrics=['accuracy'])"
      ],
      "metadata": {
        "id": "AbMlLNk4DCBM"
      },
      "execution_count": 13,
      "outputs": []
    },
    {
      "cell_type": "code",
      "source": [
        "# Create an Instance of Early Stopping Callback.\n",
        "early_stopping_callback = EarlyStopping(monitor = 'val_loss', patience = 25, mode = 'min', restore_best_weights = True)\n",
        "\n",
        "cnnhistory=model.fit(x_traincnn, y_train, batch_size=16, epochs=500 , shuffle = True, \n",
        "                     validation_data=(X_valid, y_valid) , callbacks = [early_stopping_callback])"
      ],
      "metadata": {
        "id": "RI1v2AuADFhy",
        "colab": {
          "base_uri": "https://localhost:8080/"
        },
        "outputId": "be96d4fd-7217-4db6-fd69-5d82602c6560"
      },
      "execution_count": 14,
      "outputs": [
        {
          "output_type": "stream",
          "name": "stdout",
          "text": [
            "Epoch 1/500\n",
            "104/104 [==============================] - 13s 8ms/step - loss: 12.2259 - accuracy: 0.1790 - val_loss: 8.9917 - val_accuracy: 0.1594\n",
            "Epoch 2/500\n",
            "104/104 [==============================] - 1s 5ms/step - loss: 8.8924 - accuracy: 0.1935 - val_loss: 5.0200 - val_accuracy: 0.2705\n",
            "Epoch 3/500\n",
            "104/104 [==============================] - 1s 5ms/step - loss: 7.2487 - accuracy: 0.2062 - val_loss: 3.9384 - val_accuracy: 0.2512\n",
            "Epoch 4/500\n",
            "104/104 [==============================] - 1s 5ms/step - loss: 5.9789 - accuracy: 0.2098 - val_loss: 6.6584 - val_accuracy: 0.1063\n",
            "Epoch 5/500\n",
            "104/104 [==============================] - 1s 6ms/step - loss: 4.7529 - accuracy: 0.2328 - val_loss: 2.0231 - val_accuracy: 0.2850\n",
            "Epoch 6/500\n",
            "104/104 [==============================] - 0s 5ms/step - loss: 4.1101 - accuracy: 0.2636 - val_loss: 1.8369 - val_accuracy: 0.3043\n",
            "Epoch 7/500\n",
            "104/104 [==============================] - 0s 5ms/step - loss: 3.6016 - accuracy: 0.2648 - val_loss: 2.1881 - val_accuracy: 0.2464\n",
            "Epoch 8/500\n",
            "104/104 [==============================] - 0s 4ms/step - loss: 3.3012 - accuracy: 0.2739 - val_loss: 1.7199 - val_accuracy: 0.3333\n",
            "Epoch 9/500\n",
            "104/104 [==============================] - 0s 3ms/step - loss: 2.8661 - accuracy: 0.2896 - val_loss: 2.3796 - val_accuracy: 0.3092\n",
            "Epoch 10/500\n",
            "104/104 [==============================] - 0s 4ms/step - loss: 2.6410 - accuracy: 0.3017 - val_loss: 1.5397 - val_accuracy: 0.3865\n",
            "Epoch 11/500\n",
            "104/104 [==============================] - 0s 4ms/step - loss: 2.3622 - accuracy: 0.3289 - val_loss: 1.9907 - val_accuracy: 0.2464\n",
            "Epoch 12/500\n",
            "104/104 [==============================] - 0s 3ms/step - loss: 2.1970 - accuracy: 0.3380 - val_loss: 1.7073 - val_accuracy: 0.3720\n",
            "Epoch 13/500\n",
            "104/104 [==============================] - 0s 3ms/step - loss: 2.0571 - accuracy: 0.3634 - val_loss: 1.5297 - val_accuracy: 0.3961\n",
            "Epoch 14/500\n",
            "104/104 [==============================] - 0s 4ms/step - loss: 2.0116 - accuracy: 0.3591 - val_loss: 1.4512 - val_accuracy: 0.4396\n",
            "Epoch 15/500\n",
            "104/104 [==============================] - 0s 4ms/step - loss: 1.8737 - accuracy: 0.3845 - val_loss: 1.3144 - val_accuracy: 0.5072\n",
            "Epoch 16/500\n",
            "104/104 [==============================] - 0s 4ms/step - loss: 1.7687 - accuracy: 0.4008 - val_loss: 1.5069 - val_accuracy: 0.4106\n",
            "Epoch 17/500\n",
            "104/104 [==============================] - 0s 4ms/step - loss: 1.6622 - accuracy: 0.4293 - val_loss: 1.3688 - val_accuracy: 0.4589\n",
            "Epoch 18/500\n",
            "104/104 [==============================] - 0s 3ms/step - loss: 1.6224 - accuracy: 0.4087 - val_loss: 1.3635 - val_accuracy: 0.4300\n",
            "Epoch 19/500\n",
            "104/104 [==============================] - 0s 3ms/step - loss: 1.5136 - accuracy: 0.4571 - val_loss: 1.3626 - val_accuracy: 0.4928\n",
            "Epoch 20/500\n",
            "104/104 [==============================] - 0s 3ms/step - loss: 1.4771 - accuracy: 0.4619 - val_loss: 1.3494 - val_accuracy: 0.4928\n",
            "Epoch 21/500\n",
            "104/104 [==============================] - 0s 4ms/step - loss: 1.4648 - accuracy: 0.4595 - val_loss: 1.1973 - val_accuracy: 0.5411\n",
            "Epoch 22/500\n",
            "104/104 [==============================] - 0s 4ms/step - loss: 1.4024 - accuracy: 0.4825 - val_loss: 1.1647 - val_accuracy: 0.5845\n",
            "Epoch 23/500\n",
            "104/104 [==============================] - 0s 3ms/step - loss: 1.3421 - accuracy: 0.4861 - val_loss: 1.1759 - val_accuracy: 0.5121\n",
            "Epoch 24/500\n",
            "104/104 [==============================] - 0s 3ms/step - loss: 1.2784 - accuracy: 0.5042 - val_loss: 1.1472 - val_accuracy: 0.5072\n",
            "Epoch 25/500\n",
            "104/104 [==============================] - 0s 4ms/step - loss: 1.2270 - accuracy: 0.5296 - val_loss: 1.1106 - val_accuracy: 0.5894\n",
            "Epoch 26/500\n",
            "104/104 [==============================] - 0s 3ms/step - loss: 1.2104 - accuracy: 0.5411 - val_loss: 1.1595 - val_accuracy: 0.5121\n",
            "Epoch 27/500\n",
            "104/104 [==============================] - 0s 4ms/step - loss: 1.1972 - accuracy: 0.5423 - val_loss: 1.3201 - val_accuracy: 0.4783\n",
            "Epoch 28/500\n",
            "104/104 [==============================] - 0s 4ms/step - loss: 1.1501 - accuracy: 0.5532 - val_loss: 1.1484 - val_accuracy: 0.5362\n",
            "Epoch 29/500\n",
            "104/104 [==============================] - 0s 4ms/step - loss: 1.1057 - accuracy: 0.5834 - val_loss: 1.0603 - val_accuracy: 0.5845\n",
            "Epoch 30/500\n",
            "104/104 [==============================] - 0s 3ms/step - loss: 1.0953 - accuracy: 0.5834 - val_loss: 1.0351 - val_accuracy: 0.6232\n",
            "Epoch 31/500\n",
            "104/104 [==============================] - 0s 4ms/step - loss: 1.0752 - accuracy: 0.5925 - val_loss: 1.0769 - val_accuracy: 0.5749\n",
            "Epoch 32/500\n",
            "104/104 [==============================] - 0s 4ms/step - loss: 1.0760 - accuracy: 0.5822 - val_loss: 1.0177 - val_accuracy: 0.6087\n",
            "Epoch 33/500\n",
            "104/104 [==============================] - 0s 4ms/step - loss: 1.0454 - accuracy: 0.6016 - val_loss: 1.0290 - val_accuracy: 0.5894\n",
            "Epoch 34/500\n",
            "104/104 [==============================] - 0s 4ms/step - loss: 1.0253 - accuracy: 0.5931 - val_loss: 1.0974 - val_accuracy: 0.5362\n",
            "Epoch 35/500\n",
            "104/104 [==============================] - 0s 3ms/step - loss: 1.0072 - accuracy: 0.6076 - val_loss: 0.9866 - val_accuracy: 0.6957\n",
            "Epoch 36/500\n",
            "104/104 [==============================] - 0s 4ms/step - loss: 0.9827 - accuracy: 0.6167 - val_loss: 0.9151 - val_accuracy: 0.6667\n",
            "Epoch 37/500\n",
            "104/104 [==============================] - 0s 4ms/step - loss: 0.9861 - accuracy: 0.6161 - val_loss: 0.9111 - val_accuracy: 0.6812\n",
            "Epoch 38/500\n",
            "104/104 [==============================] - 0s 4ms/step - loss: 0.9570 - accuracy: 0.6288 - val_loss: 0.9157 - val_accuracy: 0.6957\n",
            "Epoch 39/500\n",
            "104/104 [==============================] - 0s 3ms/step - loss: 0.9376 - accuracy: 0.6385 - val_loss: 1.1047 - val_accuracy: 0.5362\n",
            "Epoch 40/500\n",
            "104/104 [==============================] - 0s 3ms/step - loss: 0.9327 - accuracy: 0.6415 - val_loss: 0.8880 - val_accuracy: 0.6715\n",
            "Epoch 41/500\n",
            "104/104 [==============================] - 0s 3ms/step - loss: 0.9100 - accuracy: 0.6391 - val_loss: 0.9246 - val_accuracy: 0.6425\n",
            "Epoch 42/500\n",
            "104/104 [==============================] - 0s 3ms/step - loss: 0.8957 - accuracy: 0.6354 - val_loss: 0.9234 - val_accuracy: 0.6377\n",
            "Epoch 43/500\n",
            "104/104 [==============================] - 0s 3ms/step - loss: 0.8969 - accuracy: 0.6663 - val_loss: 0.9842 - val_accuracy: 0.5942\n",
            "Epoch 44/500\n",
            "104/104 [==============================] - 0s 3ms/step - loss: 0.8826 - accuracy: 0.6554 - val_loss: 0.9608 - val_accuracy: 0.5990\n",
            "Epoch 45/500\n",
            "104/104 [==============================] - 0s 3ms/step - loss: 0.8913 - accuracy: 0.6445 - val_loss: 0.8770 - val_accuracy: 0.6957\n",
            "Epoch 46/500\n",
            "104/104 [==============================] - 0s 4ms/step - loss: 0.8377 - accuracy: 0.6675 - val_loss: 0.8661 - val_accuracy: 0.6570\n",
            "Epoch 47/500\n",
            "104/104 [==============================] - 0s 3ms/step - loss: 0.8399 - accuracy: 0.6657 - val_loss: 0.8345 - val_accuracy: 0.6763\n",
            "Epoch 48/500\n",
            "104/104 [==============================] - 0s 3ms/step - loss: 0.8170 - accuracy: 0.6892 - val_loss: 0.9025 - val_accuracy: 0.6232\n",
            "Epoch 49/500\n",
            "104/104 [==============================] - 0s 4ms/step - loss: 0.8195 - accuracy: 0.6638 - val_loss: 0.8124 - val_accuracy: 0.6715\n",
            "Epoch 50/500\n",
            "104/104 [==============================] - 0s 3ms/step - loss: 0.7987 - accuracy: 0.6832 - val_loss: 0.8322 - val_accuracy: 0.6473\n",
            "Epoch 51/500\n",
            "104/104 [==============================] - 0s 3ms/step - loss: 0.8309 - accuracy: 0.6820 - val_loss: 0.8630 - val_accuracy: 0.6425\n",
            "Epoch 52/500\n",
            "104/104 [==============================] - 0s 3ms/step - loss: 0.7731 - accuracy: 0.7037 - val_loss: 0.8032 - val_accuracy: 0.6618\n",
            "Epoch 53/500\n",
            "104/104 [==============================] - 0s 3ms/step - loss: 0.7893 - accuracy: 0.6959 - val_loss: 0.8387 - val_accuracy: 0.6329\n",
            "Epoch 54/500\n",
            "104/104 [==============================] - 0s 3ms/step - loss: 0.7641 - accuracy: 0.7037 - val_loss: 0.8415 - val_accuracy: 0.6329\n",
            "Epoch 55/500\n",
            "104/104 [==============================] - 0s 4ms/step - loss: 0.7761 - accuracy: 0.6983 - val_loss: 0.8231 - val_accuracy: 0.6667\n",
            "Epoch 56/500\n",
            "104/104 [==============================] - 0s 3ms/step - loss: 0.7676 - accuracy: 0.6989 - val_loss: 0.8211 - val_accuracy: 0.7101\n",
            "Epoch 57/500\n",
            "104/104 [==============================] - 0s 4ms/step - loss: 0.7253 - accuracy: 0.7219 - val_loss: 0.7846 - val_accuracy: 0.6860\n",
            "Epoch 58/500\n",
            "104/104 [==============================] - 0s 4ms/step - loss: 0.7201 - accuracy: 0.7164 - val_loss: 0.8673 - val_accuracy: 0.6763\n",
            "Epoch 59/500\n",
            "104/104 [==============================] - 0s 4ms/step - loss: 0.7247 - accuracy: 0.7219 - val_loss: 0.8886 - val_accuracy: 0.6522\n",
            "Epoch 60/500\n",
            "104/104 [==============================] - 0s 4ms/step - loss: 0.7327 - accuracy: 0.7056 - val_loss: 0.7462 - val_accuracy: 0.7101\n",
            "Epoch 61/500\n",
            "104/104 [==============================] - 0s 3ms/step - loss: 0.7046 - accuracy: 0.7201 - val_loss: 0.7552 - val_accuracy: 0.7246\n",
            "Epoch 62/500\n",
            "104/104 [==============================] - 0s 3ms/step - loss: 0.6962 - accuracy: 0.7279 - val_loss: 0.7312 - val_accuracy: 0.7343\n",
            "Epoch 63/500\n",
            "104/104 [==============================] - 0s 4ms/step - loss: 0.6729 - accuracy: 0.7358 - val_loss: 0.7622 - val_accuracy: 0.7198\n",
            "Epoch 64/500\n",
            "104/104 [==============================] - 0s 3ms/step - loss: 0.6966 - accuracy: 0.7231 - val_loss: 0.7686 - val_accuracy: 0.7053\n",
            "Epoch 65/500\n",
            "104/104 [==============================] - 0s 4ms/step - loss: 0.6660 - accuracy: 0.7394 - val_loss: 0.7185 - val_accuracy: 0.7150\n",
            "Epoch 66/500\n",
            "104/104 [==============================] - 0s 4ms/step - loss: 0.6691 - accuracy: 0.7394 - val_loss: 0.8793 - val_accuracy: 0.6280\n",
            "Epoch 67/500\n",
            "104/104 [==============================] - 0s 3ms/step - loss: 0.6665 - accuracy: 0.7430 - val_loss: 0.7467 - val_accuracy: 0.7295\n",
            "Epoch 68/500\n",
            "104/104 [==============================] - 0s 3ms/step - loss: 0.6597 - accuracy: 0.7539 - val_loss: 0.6880 - val_accuracy: 0.7536\n",
            "Epoch 69/500\n",
            "104/104 [==============================] - 0s 4ms/step - loss: 0.6437 - accuracy: 0.7455 - val_loss: 0.7763 - val_accuracy: 0.7005\n",
            "Epoch 70/500\n",
            "104/104 [==============================] - 0s 4ms/step - loss: 0.6473 - accuracy: 0.7376 - val_loss: 0.7275 - val_accuracy: 0.7053\n",
            "Epoch 71/500\n",
            "104/104 [==============================] - 0s 4ms/step - loss: 0.6226 - accuracy: 0.7551 - val_loss: 0.7706 - val_accuracy: 0.6715\n",
            "Epoch 72/500\n",
            "104/104 [==============================] - 0s 4ms/step - loss: 0.6345 - accuracy: 0.7491 - val_loss: 0.7759 - val_accuracy: 0.7101\n",
            "Epoch 73/500\n",
            "104/104 [==============================] - 0s 4ms/step - loss: 0.6342 - accuracy: 0.7461 - val_loss: 0.7946 - val_accuracy: 0.6908\n",
            "Epoch 74/500\n",
            "104/104 [==============================] - 1s 5ms/step - loss: 0.6118 - accuracy: 0.7588 - val_loss: 0.8101 - val_accuracy: 0.6618\n",
            "Epoch 75/500\n",
            "104/104 [==============================] - 0s 3ms/step - loss: 0.6161 - accuracy: 0.7612 - val_loss: 0.7112 - val_accuracy: 0.7150\n",
            "Epoch 76/500\n",
            "104/104 [==============================] - 1s 5ms/step - loss: 0.6111 - accuracy: 0.7660 - val_loss: 0.6889 - val_accuracy: 0.7246\n",
            "Epoch 77/500\n",
            "104/104 [==============================] - 0s 4ms/step - loss: 0.5843 - accuracy: 0.7823 - val_loss: 0.6559 - val_accuracy: 0.7923\n",
            "Epoch 78/500\n",
            "104/104 [==============================] - 0s 3ms/step - loss: 0.5866 - accuracy: 0.7666 - val_loss: 0.6854 - val_accuracy: 0.7488\n",
            "Epoch 79/500\n",
            "104/104 [==============================] - 0s 4ms/step - loss: 0.5981 - accuracy: 0.7648 - val_loss: 0.6958 - val_accuracy: 0.7488\n",
            "Epoch 80/500\n",
            "104/104 [==============================] - 0s 4ms/step - loss: 0.5820 - accuracy: 0.7733 - val_loss: 0.7138 - val_accuracy: 0.7198\n",
            "Epoch 81/500\n",
            "104/104 [==============================] - 0s 4ms/step - loss: 0.5820 - accuracy: 0.7775 - val_loss: 0.7036 - val_accuracy: 0.7343\n",
            "Epoch 82/500\n",
            "104/104 [==============================] - 0s 4ms/step - loss: 0.5447 - accuracy: 0.7963 - val_loss: 0.6779 - val_accuracy: 0.7295\n",
            "Epoch 83/500\n",
            "104/104 [==============================] - 0s 4ms/step - loss: 0.5494 - accuracy: 0.7914 - val_loss: 0.7640 - val_accuracy: 0.6570\n",
            "Epoch 84/500\n",
            "104/104 [==============================] - 0s 4ms/step - loss: 0.5745 - accuracy: 0.7944 - val_loss: 0.7431 - val_accuracy: 0.7101\n",
            "Epoch 85/500\n",
            "104/104 [==============================] - 0s 4ms/step - loss: 0.5483 - accuracy: 0.7890 - val_loss: 0.6853 - val_accuracy: 0.7488\n",
            "Epoch 86/500\n",
            "104/104 [==============================] - 0s 4ms/step - loss: 0.5565 - accuracy: 0.7805 - val_loss: 0.7479 - val_accuracy: 0.7101\n",
            "Epoch 87/500\n",
            "104/104 [==============================] - 0s 4ms/step - loss: 0.5304 - accuracy: 0.8017 - val_loss: 0.8421 - val_accuracy: 0.6425\n",
            "Epoch 88/500\n",
            "104/104 [==============================] - 0s 4ms/step - loss: 0.5146 - accuracy: 0.8035 - val_loss: 0.6344 - val_accuracy: 0.7536\n",
            "Epoch 89/500\n",
            "104/104 [==============================] - 0s 4ms/step - loss: 0.5085 - accuracy: 0.8126 - val_loss: 0.7151 - val_accuracy: 0.7440\n",
            "Epoch 90/500\n",
            "104/104 [==============================] - 0s 4ms/step - loss: 0.5248 - accuracy: 0.8023 - val_loss: 0.6201 - val_accuracy: 0.7343\n",
            "Epoch 91/500\n",
            "104/104 [==============================] - 0s 4ms/step - loss: 0.5135 - accuracy: 0.7993 - val_loss: 0.6558 - val_accuracy: 0.7391\n",
            "Epoch 92/500\n",
            "104/104 [==============================] - 0s 4ms/step - loss: 0.5124 - accuracy: 0.8035 - val_loss: 0.6599 - val_accuracy: 0.7295\n",
            "Epoch 93/500\n",
            "104/104 [==============================] - 0s 4ms/step - loss: 0.5073 - accuracy: 0.8138 - val_loss: 0.7409 - val_accuracy: 0.6908\n",
            "Epoch 94/500\n",
            "104/104 [==============================] - 0s 4ms/step - loss: 0.4995 - accuracy: 0.8005 - val_loss: 0.7612 - val_accuracy: 0.7101\n",
            "Epoch 95/500\n",
            "104/104 [==============================] - 0s 4ms/step - loss: 0.5087 - accuracy: 0.8114 - val_loss: 0.6291 - val_accuracy: 0.7585\n",
            "Epoch 96/500\n",
            "104/104 [==============================] - 0s 4ms/step - loss: 0.4985 - accuracy: 0.8035 - val_loss: 0.6992 - val_accuracy: 0.7391\n",
            "Epoch 97/500\n",
            "104/104 [==============================] - 0s 4ms/step - loss: 0.4945 - accuracy: 0.7999 - val_loss: 0.6300 - val_accuracy: 0.7440\n",
            "Epoch 98/500\n",
            "104/104 [==============================] - 0s 4ms/step - loss: 0.4776 - accuracy: 0.8277 - val_loss: 0.6689 - val_accuracy: 0.7536\n",
            "Epoch 99/500\n",
            "104/104 [==============================] - 0s 5ms/step - loss: 0.4675 - accuracy: 0.8156 - val_loss: 0.6554 - val_accuracy: 0.7343\n",
            "Epoch 100/500\n",
            "104/104 [==============================] - 0s 4ms/step - loss: 0.4765 - accuracy: 0.8096 - val_loss: 0.6556 - val_accuracy: 0.7150\n",
            "Epoch 101/500\n",
            "104/104 [==============================] - 0s 4ms/step - loss: 0.4648 - accuracy: 0.8229 - val_loss: 0.6138 - val_accuracy: 0.7729\n",
            "Epoch 102/500\n",
            "104/104 [==============================] - 0s 4ms/step - loss: 0.4442 - accuracy: 0.8337 - val_loss: 0.6420 - val_accuracy: 0.7391\n",
            "Epoch 103/500\n",
            "104/104 [==============================] - 0s 4ms/step - loss: 0.4495 - accuracy: 0.8362 - val_loss: 0.6011 - val_accuracy: 0.7585\n",
            "Epoch 104/500\n",
            "104/104 [==============================] - 0s 4ms/step - loss: 0.4638 - accuracy: 0.8198 - val_loss: 0.6313 - val_accuracy: 0.7391\n",
            "Epoch 105/500\n",
            "104/104 [==============================] - 0s 4ms/step - loss: 0.4464 - accuracy: 0.8265 - val_loss: 0.6633 - val_accuracy: 0.7198\n",
            "Epoch 106/500\n",
            "104/104 [==============================] - 0s 4ms/step - loss: 0.4209 - accuracy: 0.8543 - val_loss: 0.6169 - val_accuracy: 0.7633\n",
            "Epoch 107/500\n",
            "104/104 [==============================] - 0s 4ms/step - loss: 0.4560 - accuracy: 0.8156 - val_loss: 0.6163 - val_accuracy: 0.7681\n",
            "Epoch 108/500\n",
            "104/104 [==============================] - 0s 4ms/step - loss: 0.4357 - accuracy: 0.8404 - val_loss: 0.5876 - val_accuracy: 0.7488\n",
            "Epoch 109/500\n",
            "104/104 [==============================] - 0s 4ms/step - loss: 0.4265 - accuracy: 0.8452 - val_loss: 0.5630 - val_accuracy: 0.7826\n",
            "Epoch 110/500\n",
            "104/104 [==============================] - 0s 4ms/step - loss: 0.4309 - accuracy: 0.8343 - val_loss: 0.6170 - val_accuracy: 0.7343\n",
            "Epoch 111/500\n",
            "104/104 [==============================] - 0s 4ms/step - loss: 0.4172 - accuracy: 0.8319 - val_loss: 0.6646 - val_accuracy: 0.7150\n",
            "Epoch 112/500\n",
            "104/104 [==============================] - 0s 4ms/step - loss: 0.3992 - accuracy: 0.8476 - val_loss: 0.5812 - val_accuracy: 0.7681\n",
            "Epoch 113/500\n",
            "104/104 [==============================] - 0s 4ms/step - loss: 0.4102 - accuracy: 0.8434 - val_loss: 0.6364 - val_accuracy: 0.7488\n",
            "Epoch 114/500\n",
            "104/104 [==============================] - 0s 4ms/step - loss: 0.4199 - accuracy: 0.8464 - val_loss: 0.5771 - val_accuracy: 0.7729\n",
            "Epoch 115/500\n",
            "104/104 [==============================] - 0s 4ms/step - loss: 0.4105 - accuracy: 0.8513 - val_loss: 0.6126 - val_accuracy: 0.7536\n",
            "Epoch 116/500\n",
            "104/104 [==============================] - 0s 4ms/step - loss: 0.4320 - accuracy: 0.8434 - val_loss: 0.6029 - val_accuracy: 0.7681\n",
            "Epoch 117/500\n",
            "104/104 [==============================] - 0s 4ms/step - loss: 0.3835 - accuracy: 0.8561 - val_loss: 0.6233 - val_accuracy: 0.7633\n",
            "Epoch 118/500\n",
            "104/104 [==============================] - 0s 4ms/step - loss: 0.3678 - accuracy: 0.8640 - val_loss: 0.7150 - val_accuracy: 0.7101\n",
            "Epoch 119/500\n",
            "104/104 [==============================] - 0s 4ms/step - loss: 0.3824 - accuracy: 0.8549 - val_loss: 0.5688 - val_accuracy: 0.7778\n",
            "Epoch 120/500\n",
            "104/104 [==============================] - 0s 4ms/step - loss: 0.4105 - accuracy: 0.8434 - val_loss: 0.5510 - val_accuracy: 0.7826\n",
            "Epoch 121/500\n",
            "104/104 [==============================] - 0s 4ms/step - loss: 0.4068 - accuracy: 0.8458 - val_loss: 0.6287 - val_accuracy: 0.7633\n",
            "Epoch 122/500\n",
            "104/104 [==============================] - 0s 4ms/step - loss: 0.4027 - accuracy: 0.8458 - val_loss: 0.5531 - val_accuracy: 0.8068\n",
            "Epoch 123/500\n",
            "104/104 [==============================] - 0s 4ms/step - loss: 0.3945 - accuracy: 0.8458 - val_loss: 0.5993 - val_accuracy: 0.7633\n",
            "Epoch 124/500\n",
            "104/104 [==============================] - 0s 4ms/step - loss: 0.3708 - accuracy: 0.8531 - val_loss: 0.5775 - val_accuracy: 0.7585\n",
            "Epoch 125/500\n",
            "104/104 [==============================] - 0s 3ms/step - loss: 0.3704 - accuracy: 0.8706 - val_loss: 0.5913 - val_accuracy: 0.7729\n",
            "Epoch 126/500\n",
            "104/104 [==============================] - 0s 4ms/step - loss: 0.3750 - accuracy: 0.8676 - val_loss: 0.5967 - val_accuracy: 0.7391\n",
            "Epoch 127/500\n",
            "104/104 [==============================] - 0s 3ms/step - loss: 0.3505 - accuracy: 0.8718 - val_loss: 0.6909 - val_accuracy: 0.7343\n",
            "Epoch 128/500\n",
            "104/104 [==============================] - 0s 4ms/step - loss: 0.3540 - accuracy: 0.8640 - val_loss: 0.6741 - val_accuracy: 0.7246\n",
            "Epoch 129/500\n",
            "104/104 [==============================] - 0s 3ms/step - loss: 0.3539 - accuracy: 0.8634 - val_loss: 0.6448 - val_accuracy: 0.7536\n",
            "Epoch 130/500\n",
            "104/104 [==============================] - 0s 4ms/step - loss: 0.3558 - accuracy: 0.8658 - val_loss: 0.5776 - val_accuracy: 0.8164\n",
            "Epoch 131/500\n",
            "104/104 [==============================] - 0s 4ms/step - loss: 0.3609 - accuracy: 0.8597 - val_loss: 0.5860 - val_accuracy: 0.7585\n",
            "Epoch 132/500\n",
            "104/104 [==============================] - 0s 4ms/step - loss: 0.3308 - accuracy: 0.8724 - val_loss: 0.6128 - val_accuracy: 0.7778\n",
            "Epoch 133/500\n",
            "104/104 [==============================] - 0s 4ms/step - loss: 0.3536 - accuracy: 0.8748 - val_loss: 0.5483 - val_accuracy: 0.7826\n",
            "Epoch 134/500\n",
            "104/104 [==============================] - 0s 4ms/step - loss: 0.3446 - accuracy: 0.8803 - val_loss: 0.6780 - val_accuracy: 0.7295\n",
            "Epoch 135/500\n",
            "104/104 [==============================] - 0s 4ms/step - loss: 0.3496 - accuracy: 0.8724 - val_loss: 0.5780 - val_accuracy: 0.7923\n",
            "Epoch 136/500\n",
            "104/104 [==============================] - 0s 4ms/step - loss: 0.3251 - accuracy: 0.8809 - val_loss: 0.5963 - val_accuracy: 0.7198\n",
            "Epoch 137/500\n",
            "104/104 [==============================] - 0s 4ms/step - loss: 0.3314 - accuracy: 0.8791 - val_loss: 0.5353 - val_accuracy: 0.7681\n",
            "Epoch 138/500\n",
            "104/104 [==============================] - 0s 4ms/step - loss: 0.3529 - accuracy: 0.8628 - val_loss: 0.5145 - val_accuracy: 0.7971\n",
            "Epoch 139/500\n",
            "104/104 [==============================] - 0s 4ms/step - loss: 0.3440 - accuracy: 0.8724 - val_loss: 0.5357 - val_accuracy: 0.7923\n",
            "Epoch 140/500\n",
            "104/104 [==============================] - 0s 4ms/step - loss: 0.3266 - accuracy: 0.8791 - val_loss: 0.5660 - val_accuracy: 0.7778\n",
            "Epoch 141/500\n",
            "104/104 [==============================] - 0s 4ms/step - loss: 0.3223 - accuracy: 0.8803 - val_loss: 0.5564 - val_accuracy: 0.7874\n",
            "Epoch 142/500\n",
            "104/104 [==============================] - 0s 4ms/step - loss: 0.3165 - accuracy: 0.8827 - val_loss: 0.6728 - val_accuracy: 0.7198\n",
            "Epoch 143/500\n",
            "104/104 [==============================] - 0s 4ms/step - loss: 0.3364 - accuracy: 0.8797 - val_loss: 0.6113 - val_accuracy: 0.7585\n",
            "Epoch 144/500\n",
            "104/104 [==============================] - 0s 3ms/step - loss: 0.2989 - accuracy: 0.8906 - val_loss: 0.5289 - val_accuracy: 0.8068\n",
            "Epoch 145/500\n",
            "104/104 [==============================] - 0s 4ms/step - loss: 0.3309 - accuracy: 0.8718 - val_loss: 0.5599 - val_accuracy: 0.7633\n",
            "Epoch 146/500\n",
            "104/104 [==============================] - 0s 4ms/step - loss: 0.3178 - accuracy: 0.8827 - val_loss: 0.6109 - val_accuracy: 0.7391\n",
            "Epoch 147/500\n",
            "104/104 [==============================] - 0s 4ms/step - loss: 0.2895 - accuracy: 0.8912 - val_loss: 0.4884 - val_accuracy: 0.8019\n",
            "Epoch 148/500\n",
            "104/104 [==============================] - 0s 4ms/step - loss: 0.3265 - accuracy: 0.8767 - val_loss: 0.5725 - val_accuracy: 0.8068\n",
            "Epoch 149/500\n",
            "104/104 [==============================] - 0s 4ms/step - loss: 0.3246 - accuracy: 0.8755 - val_loss: 0.4800 - val_accuracy: 0.8309\n",
            "Epoch 150/500\n",
            "104/104 [==============================] - 0s 4ms/step - loss: 0.3135 - accuracy: 0.8930 - val_loss: 0.5006 - val_accuracy: 0.8116\n",
            "Epoch 151/500\n",
            "104/104 [==============================] - 0s 4ms/step - loss: 0.2945 - accuracy: 0.8918 - val_loss: 0.6080 - val_accuracy: 0.7633\n",
            "Epoch 152/500\n",
            "104/104 [==============================] - 0s 4ms/step - loss: 0.2913 - accuracy: 0.8888 - val_loss: 0.5004 - val_accuracy: 0.7874\n",
            "Epoch 153/500\n",
            "104/104 [==============================] - 0s 4ms/step - loss: 0.2981 - accuracy: 0.8930 - val_loss: 0.6015 - val_accuracy: 0.7633\n",
            "Epoch 154/500\n",
            "104/104 [==============================] - 0s 4ms/step - loss: 0.2930 - accuracy: 0.8906 - val_loss: 0.5759 - val_accuracy: 0.7778\n",
            "Epoch 155/500\n",
            "104/104 [==============================] - 0s 4ms/step - loss: 0.2955 - accuracy: 0.8869 - val_loss: 0.6271 - val_accuracy: 0.8019\n",
            "Epoch 156/500\n",
            "104/104 [==============================] - 0s 4ms/step - loss: 0.2962 - accuracy: 0.8912 - val_loss: 0.5225 - val_accuracy: 0.7923\n",
            "Epoch 157/500\n",
            "104/104 [==============================] - 0s 4ms/step - loss: 0.2911 - accuracy: 0.8863 - val_loss: 0.5905 - val_accuracy: 0.7826\n",
            "Epoch 158/500\n",
            "104/104 [==============================] - 0s 4ms/step - loss: 0.2911 - accuracy: 0.8875 - val_loss: 0.5015 - val_accuracy: 0.8068\n",
            "Epoch 159/500\n",
            "104/104 [==============================] - 0s 4ms/step - loss: 0.2972 - accuracy: 0.8966 - val_loss: 0.5412 - val_accuracy: 0.7778\n",
            "Epoch 160/500\n",
            "104/104 [==============================] - 0s 4ms/step - loss: 0.3036 - accuracy: 0.8900 - val_loss: 0.5596 - val_accuracy: 0.7778\n",
            "Epoch 161/500\n",
            "104/104 [==============================] - 0s 4ms/step - loss: 0.2798 - accuracy: 0.8912 - val_loss: 0.4938 - val_accuracy: 0.7826\n",
            "Epoch 162/500\n",
            "104/104 [==============================] - 0s 4ms/step - loss: 0.2777 - accuracy: 0.9015 - val_loss: 0.5389 - val_accuracy: 0.7971\n",
            "Epoch 163/500\n",
            "104/104 [==============================] - 0s 4ms/step - loss: 0.2878 - accuracy: 0.8906 - val_loss: 0.5227 - val_accuracy: 0.7778\n",
            "Epoch 164/500\n",
            "104/104 [==============================] - 0s 4ms/step - loss: 0.2661 - accuracy: 0.8984 - val_loss: 0.5233 - val_accuracy: 0.8164\n",
            "Epoch 165/500\n",
            "104/104 [==============================] - 0s 4ms/step - loss: 0.2807 - accuracy: 0.8996 - val_loss: 0.5432 - val_accuracy: 0.7585\n",
            "Epoch 166/500\n",
            "104/104 [==============================] - 0s 4ms/step - loss: 0.2564 - accuracy: 0.9033 - val_loss: 0.5097 - val_accuracy: 0.8164\n",
            "Epoch 167/500\n",
            "104/104 [==============================] - 0s 3ms/step - loss: 0.2575 - accuracy: 0.9141 - val_loss: 0.5682 - val_accuracy: 0.7826\n",
            "Epoch 168/500\n",
            "104/104 [==============================] - 0s 4ms/step - loss: 0.2739 - accuracy: 0.9057 - val_loss: 0.6261 - val_accuracy: 0.7729\n",
            "Epoch 169/500\n",
            "104/104 [==============================] - 0s 4ms/step - loss: 0.2648 - accuracy: 0.8972 - val_loss: 0.5675 - val_accuracy: 0.7874\n",
            "Epoch 170/500\n",
            "104/104 [==============================] - 0s 4ms/step - loss: 0.2627 - accuracy: 0.8996 - val_loss: 0.5352 - val_accuracy: 0.7971\n",
            "Epoch 171/500\n",
            "104/104 [==============================] - 0s 4ms/step - loss: 0.2498 - accuracy: 0.9123 - val_loss: 0.5730 - val_accuracy: 0.7923\n",
            "Epoch 172/500\n",
            "104/104 [==============================] - 0s 3ms/step - loss: 0.2521 - accuracy: 0.9045 - val_loss: 0.5465 - val_accuracy: 0.7585\n",
            "Epoch 173/500\n",
            "104/104 [==============================] - 0s 3ms/step - loss: 0.2597 - accuracy: 0.9075 - val_loss: 0.5502 - val_accuracy: 0.8019\n",
            "Epoch 174/500\n",
            "104/104 [==============================] - 0s 4ms/step - loss: 0.2517 - accuracy: 0.9021 - val_loss: 0.4640 - val_accuracy: 0.8406\n",
            "Epoch 175/500\n",
            "104/104 [==============================] - 0s 3ms/step - loss: 0.2456 - accuracy: 0.9069 - val_loss: 0.5364 - val_accuracy: 0.7874\n",
            "Epoch 176/500\n",
            "104/104 [==============================] - 0s 4ms/step - loss: 0.2532 - accuracy: 0.9087 - val_loss: 0.5424 - val_accuracy: 0.7874\n",
            "Epoch 177/500\n",
            "104/104 [==============================] - 0s 4ms/step - loss: 0.2508 - accuracy: 0.9117 - val_loss: 0.5506 - val_accuracy: 0.7729\n",
            "Epoch 178/500\n",
            "104/104 [==============================] - 0s 4ms/step - loss: 0.2637 - accuracy: 0.9008 - val_loss: 0.5227 - val_accuracy: 0.7826\n",
            "Epoch 179/500\n",
            "104/104 [==============================] - 0s 3ms/step - loss: 0.2487 - accuracy: 0.9141 - val_loss: 0.4822 - val_accuracy: 0.8261\n",
            "Epoch 180/500\n",
            "104/104 [==============================] - 0s 4ms/step - loss: 0.2475 - accuracy: 0.9105 - val_loss: 0.5582 - val_accuracy: 0.8019\n",
            "Epoch 181/500\n",
            "104/104 [==============================] - 0s 4ms/step - loss: 0.2407 - accuracy: 0.9135 - val_loss: 0.5110 - val_accuracy: 0.7923\n",
            "Epoch 182/500\n",
            "104/104 [==============================] - 0s 4ms/step - loss: 0.2301 - accuracy: 0.9105 - val_loss: 0.5376 - val_accuracy: 0.7778\n",
            "Epoch 183/500\n",
            "104/104 [==============================] - 0s 4ms/step - loss: 0.2738 - accuracy: 0.9002 - val_loss: 0.5312 - val_accuracy: 0.8116\n",
            "Epoch 184/500\n",
            "104/104 [==============================] - 0s 4ms/step - loss: 0.2461 - accuracy: 0.9075 - val_loss: 0.5213 - val_accuracy: 0.8068\n",
            "Epoch 185/500\n",
            "104/104 [==============================] - 0s 4ms/step - loss: 0.2355 - accuracy: 0.9214 - val_loss: 0.5068 - val_accuracy: 0.7874\n",
            "Epoch 186/500\n",
            "104/104 [==============================] - 0s 3ms/step - loss: 0.2420 - accuracy: 0.9081 - val_loss: 0.5332 - val_accuracy: 0.8068\n",
            "Epoch 187/500\n",
            "104/104 [==============================] - 0s 4ms/step - loss: 0.2515 - accuracy: 0.9051 - val_loss: 0.4801 - val_accuracy: 0.8116\n",
            "Epoch 188/500\n",
            "104/104 [==============================] - 0s 4ms/step - loss: 0.2402 - accuracy: 0.9123 - val_loss: 0.5139 - val_accuracy: 0.8019\n",
            "Epoch 189/500\n",
            "104/104 [==============================] - 0s 4ms/step - loss: 0.2535 - accuracy: 0.9063 - val_loss: 0.5088 - val_accuracy: 0.7971\n",
            "Epoch 190/500\n",
            "104/104 [==============================] - 0s 4ms/step - loss: 0.2350 - accuracy: 0.9220 - val_loss: 0.4986 - val_accuracy: 0.7971\n",
            "Epoch 191/500\n",
            "104/104 [==============================] - 0s 4ms/step - loss: 0.2497 - accuracy: 0.9099 - val_loss: 0.5373 - val_accuracy: 0.7971\n",
            "Epoch 192/500\n",
            "104/104 [==============================] - 0s 4ms/step - loss: 0.2436 - accuracy: 0.9063 - val_loss: 0.4631 - val_accuracy: 0.8164\n",
            "Epoch 193/500\n",
            "104/104 [==============================] - 0s 4ms/step - loss: 0.2275 - accuracy: 0.9190 - val_loss: 0.5196 - val_accuracy: 0.7874\n",
            "Epoch 194/500\n",
            "104/104 [==============================] - 0s 4ms/step - loss: 0.2508 - accuracy: 0.9081 - val_loss: 0.4803 - val_accuracy: 0.8116\n",
            "Epoch 195/500\n",
            "104/104 [==============================] - 0s 4ms/step - loss: 0.2504 - accuracy: 0.9045 - val_loss: 0.5835 - val_accuracy: 0.7633\n",
            "Epoch 196/500\n",
            "104/104 [==============================] - 0s 4ms/step - loss: 0.2145 - accuracy: 0.9262 - val_loss: 0.5392 - val_accuracy: 0.8068\n",
            "Epoch 197/500\n",
            "104/104 [==============================] - 0s 4ms/step - loss: 0.2687 - accuracy: 0.9081 - val_loss: 0.5109 - val_accuracy: 0.8068\n",
            "Epoch 198/500\n",
            "104/104 [==============================] - 0s 4ms/step - loss: 0.2244 - accuracy: 0.9214 - val_loss: 0.4614 - val_accuracy: 0.8357\n",
            "Epoch 199/500\n",
            "104/104 [==============================] - 0s 4ms/step - loss: 0.2153 - accuracy: 0.9232 - val_loss: 0.5582 - val_accuracy: 0.7826\n",
            "Epoch 200/500\n",
            "104/104 [==============================] - 0s 4ms/step - loss: 0.2383 - accuracy: 0.9099 - val_loss: 0.5960 - val_accuracy: 0.7585\n",
            "Epoch 201/500\n",
            "104/104 [==============================] - 0s 4ms/step - loss: 0.2275 - accuracy: 0.9129 - val_loss: 0.5553 - val_accuracy: 0.7971\n",
            "Epoch 202/500\n",
            "104/104 [==============================] - 0s 4ms/step - loss: 0.2208 - accuracy: 0.9268 - val_loss: 0.5497 - val_accuracy: 0.7826\n",
            "Epoch 203/500\n",
            "104/104 [==============================] - 0s 4ms/step - loss: 0.2137 - accuracy: 0.9238 - val_loss: 0.5203 - val_accuracy: 0.7923\n",
            "Epoch 204/500\n",
            "104/104 [==============================] - 0s 4ms/step - loss: 0.2268 - accuracy: 0.9160 - val_loss: 0.5455 - val_accuracy: 0.7971\n",
            "Epoch 205/500\n",
            "104/104 [==============================] - 0s 4ms/step - loss: 0.2201 - accuracy: 0.9214 - val_loss: 0.5346 - val_accuracy: 0.8068\n",
            "Epoch 206/500\n",
            "104/104 [==============================] - 0s 4ms/step - loss: 0.1995 - accuracy: 0.9293 - val_loss: 0.6969 - val_accuracy: 0.7536\n",
            "Epoch 207/500\n",
            "104/104 [==============================] - 0s 3ms/step - loss: 0.2111 - accuracy: 0.9172 - val_loss: 0.5983 - val_accuracy: 0.7778\n",
            "Epoch 208/500\n",
            "104/104 [==============================] - 0s 3ms/step - loss: 0.2123 - accuracy: 0.9214 - val_loss: 0.5157 - val_accuracy: 0.7971\n",
            "Epoch 209/500\n",
            "104/104 [==============================] - 0s 4ms/step - loss: 0.1893 - accuracy: 0.9317 - val_loss: 0.6393 - val_accuracy: 0.7681\n",
            "Epoch 210/500\n",
            "104/104 [==============================] - 0s 4ms/step - loss: 0.2091 - accuracy: 0.9232 - val_loss: 0.6406 - val_accuracy: 0.7585\n",
            "Epoch 211/500\n",
            "104/104 [==============================] - 0s 4ms/step - loss: 0.1938 - accuracy: 0.9299 - val_loss: 0.5609 - val_accuracy: 0.7681\n",
            "Epoch 212/500\n",
            "104/104 [==============================] - 0s 4ms/step - loss: 0.2144 - accuracy: 0.9226 - val_loss: 0.5485 - val_accuracy: 0.7971\n",
            "Epoch 213/500\n",
            "104/104 [==============================] - 0s 4ms/step - loss: 0.2275 - accuracy: 0.9238 - val_loss: 0.5374 - val_accuracy: 0.7971\n",
            "Epoch 214/500\n",
            "104/104 [==============================] - 0s 4ms/step - loss: 0.2043 - accuracy: 0.9244 - val_loss: 0.4614 - val_accuracy: 0.8406\n",
            "Epoch 215/500\n",
            "104/104 [==============================] - 0s 4ms/step - loss: 0.1857 - accuracy: 0.9353 - val_loss: 0.4611 - val_accuracy: 0.8406\n",
            "Epoch 216/500\n",
            "104/104 [==============================] - 0s 3ms/step - loss: 0.1944 - accuracy: 0.9311 - val_loss: 0.4970 - val_accuracy: 0.7923\n",
            "Epoch 217/500\n",
            "104/104 [==============================] - 0s 4ms/step - loss: 0.1866 - accuracy: 0.9311 - val_loss: 0.4951 - val_accuracy: 0.8261\n",
            "Epoch 218/500\n",
            "104/104 [==============================] - 0s 4ms/step - loss: 0.1899 - accuracy: 0.9329 - val_loss: 0.5908 - val_accuracy: 0.8068\n",
            "Epoch 219/500\n",
            "104/104 [==============================] - 0s 4ms/step - loss: 0.2063 - accuracy: 0.9305 - val_loss: 0.5222 - val_accuracy: 0.8213\n",
            "Epoch 220/500\n",
            "104/104 [==============================] - 0s 4ms/step - loss: 0.1994 - accuracy: 0.9293 - val_loss: 0.5680 - val_accuracy: 0.8116\n",
            "Epoch 221/500\n",
            "104/104 [==============================] - 0s 4ms/step - loss: 0.1927 - accuracy: 0.9293 - val_loss: 0.5049 - val_accuracy: 0.8068\n",
            "Epoch 222/500\n",
            "104/104 [==============================] - 0s 4ms/step - loss: 0.1997 - accuracy: 0.9329 - val_loss: 0.5568 - val_accuracy: 0.7874\n",
            "Epoch 223/500\n",
            "104/104 [==============================] - 0s 3ms/step - loss: 0.1807 - accuracy: 0.9335 - val_loss: 0.4881 - val_accuracy: 0.8164\n",
            "Epoch 224/500\n",
            "104/104 [==============================] - 0s 4ms/step - loss: 0.1897 - accuracy: 0.9311 - val_loss: 0.4591 - val_accuracy: 0.8357\n",
            "Epoch 225/500\n",
            "104/104 [==============================] - 0s 4ms/step - loss: 0.2011 - accuracy: 0.9323 - val_loss: 0.5749 - val_accuracy: 0.8068\n",
            "Epoch 226/500\n",
            "104/104 [==============================] - 0s 4ms/step - loss: 0.2232 - accuracy: 0.9190 - val_loss: 0.5142 - val_accuracy: 0.7874\n",
            "Epoch 227/500\n",
            "104/104 [==============================] - 0s 4ms/step - loss: 0.1998 - accuracy: 0.9311 - val_loss: 0.5239 - val_accuracy: 0.8068\n",
            "Epoch 228/500\n",
            "104/104 [==============================] - 0s 4ms/step - loss: 0.1887 - accuracy: 0.9359 - val_loss: 0.5776 - val_accuracy: 0.7971\n",
            "Epoch 229/500\n",
            "104/104 [==============================] - 0s 4ms/step - loss: 0.2089 - accuracy: 0.9293 - val_loss: 0.4982 - val_accuracy: 0.8309\n",
            "Epoch 230/500\n",
            "104/104 [==============================] - 0s 4ms/step - loss: 0.1975 - accuracy: 0.9274 - val_loss: 0.6017 - val_accuracy: 0.7874\n",
            "Epoch 231/500\n",
            "104/104 [==============================] - 0s 4ms/step - loss: 0.1698 - accuracy: 0.9383 - val_loss: 0.5076 - val_accuracy: 0.8019\n",
            "Epoch 232/500\n",
            "104/104 [==============================] - 0s 3ms/step - loss: 0.1794 - accuracy: 0.9341 - val_loss: 0.4893 - val_accuracy: 0.8116\n",
            "Epoch 233/500\n",
            "104/104 [==============================] - 0s 4ms/step - loss: 0.1866 - accuracy: 0.9329 - val_loss: 0.5438 - val_accuracy: 0.7826\n",
            "Epoch 234/500\n",
            "104/104 [==============================] - 0s 4ms/step - loss: 0.1702 - accuracy: 0.9480 - val_loss: 0.5111 - val_accuracy: 0.8164\n",
            "Epoch 235/500\n",
            "104/104 [==============================] - 0s 3ms/step - loss: 0.1801 - accuracy: 0.9317 - val_loss: 0.6367 - val_accuracy: 0.8019\n",
            "Epoch 236/500\n",
            "104/104 [==============================] - 0s 4ms/step - loss: 0.1930 - accuracy: 0.9281 - val_loss: 0.5065 - val_accuracy: 0.8068\n",
            "Epoch 237/500\n",
            "104/104 [==============================] - 0s 3ms/step - loss: 0.1862 - accuracy: 0.9341 - val_loss: 0.5195 - val_accuracy: 0.8068\n",
            "Epoch 238/500\n",
            "104/104 [==============================] - 0s 4ms/step - loss: 0.1816 - accuracy: 0.9335 - val_loss: 0.5219 - val_accuracy: 0.8116\n",
            "Epoch 239/500\n",
            "104/104 [==============================] - 0s 4ms/step - loss: 0.1778 - accuracy: 0.9438 - val_loss: 0.5070 - val_accuracy: 0.8068\n",
            "Epoch 240/500\n",
            "104/104 [==============================] - 0s 4ms/step - loss: 0.1726 - accuracy: 0.9329 - val_loss: 0.4811 - val_accuracy: 0.8261\n",
            "Epoch 241/500\n",
            "104/104 [==============================] - 0s 4ms/step - loss: 0.1757 - accuracy: 0.9383 - val_loss: 0.5498 - val_accuracy: 0.7971\n",
            "Epoch 242/500\n",
            "104/104 [==============================] - 0s 4ms/step - loss: 0.1883 - accuracy: 0.9371 - val_loss: 0.4294 - val_accuracy: 0.8406\n",
            "Epoch 243/500\n",
            "104/104 [==============================] - 0s 4ms/step - loss: 0.1801 - accuracy: 0.9389 - val_loss: 0.5332 - val_accuracy: 0.8164\n",
            "Epoch 244/500\n",
            "104/104 [==============================] - 0s 4ms/step - loss: 0.1764 - accuracy: 0.9420 - val_loss: 0.6061 - val_accuracy: 0.7826\n",
            "Epoch 245/500\n",
            "104/104 [==============================] - 0s 4ms/step - loss: 0.1845 - accuracy: 0.9341 - val_loss: 0.5181 - val_accuracy: 0.8213\n",
            "Epoch 246/500\n",
            "104/104 [==============================] - 0s 4ms/step - loss: 0.1744 - accuracy: 0.9389 - val_loss: 0.5513 - val_accuracy: 0.7971\n",
            "Epoch 247/500\n",
            "104/104 [==============================] - 0s 4ms/step - loss: 0.2254 - accuracy: 0.9184 - val_loss: 0.5262 - val_accuracy: 0.7874\n",
            "Epoch 248/500\n",
            "104/104 [==============================] - 0s 4ms/step - loss: 0.1644 - accuracy: 0.9371 - val_loss: 0.5597 - val_accuracy: 0.8019\n",
            "Epoch 249/500\n",
            "104/104 [==============================] - 0s 4ms/step - loss: 0.1831 - accuracy: 0.9377 - val_loss: 0.4905 - val_accuracy: 0.8164\n",
            "Epoch 250/500\n",
            "104/104 [==============================] - 0s 4ms/step - loss: 0.1927 - accuracy: 0.9329 - val_loss: 0.5604 - val_accuracy: 0.8213\n",
            "Epoch 251/500\n",
            "104/104 [==============================] - 0s 4ms/step - loss: 0.1903 - accuracy: 0.9311 - val_loss: 0.5050 - val_accuracy: 0.8068\n",
            "Epoch 252/500\n",
            "104/104 [==============================] - 0s 4ms/step - loss: 0.1656 - accuracy: 0.9377 - val_loss: 0.6039 - val_accuracy: 0.7729\n",
            "Epoch 253/500\n",
            "104/104 [==============================] - 0s 3ms/step - loss: 0.1921 - accuracy: 0.9311 - val_loss: 0.5699 - val_accuracy: 0.8068\n",
            "Epoch 254/500\n",
            "104/104 [==============================] - 0s 4ms/step - loss: 0.1487 - accuracy: 0.9492 - val_loss: 0.5329 - val_accuracy: 0.8068\n",
            "Epoch 255/500\n",
            "104/104 [==============================] - 0s 4ms/step - loss: 0.1549 - accuracy: 0.9462 - val_loss: 0.4750 - val_accuracy: 0.8213\n",
            "Epoch 256/500\n",
            "104/104 [==============================] - 0s 3ms/step - loss: 0.1728 - accuracy: 0.9365 - val_loss: 0.5403 - val_accuracy: 0.8116\n",
            "Epoch 257/500\n",
            "104/104 [==============================] - 0s 4ms/step - loss: 0.1811 - accuracy: 0.9353 - val_loss: 0.5915 - val_accuracy: 0.8019\n",
            "Epoch 258/500\n",
            "104/104 [==============================] - 0s 4ms/step - loss: 0.1806 - accuracy: 0.9371 - val_loss: 0.5716 - val_accuracy: 0.8068\n",
            "Epoch 259/500\n",
            "104/104 [==============================] - 0s 4ms/step - loss: 0.1829 - accuracy: 0.9299 - val_loss: 0.5452 - val_accuracy: 0.8116\n",
            "Epoch 260/500\n",
            "104/104 [==============================] - 0s 4ms/step - loss: 0.1813 - accuracy: 0.9359 - val_loss: 0.5903 - val_accuracy: 0.7923\n",
            "Epoch 261/500\n",
            "104/104 [==============================] - 0s 4ms/step - loss: 0.1605 - accuracy: 0.9468 - val_loss: 0.5534 - val_accuracy: 0.8213\n",
            "Epoch 262/500\n",
            "104/104 [==============================] - 0s 4ms/step - loss: 0.1395 - accuracy: 0.9474 - val_loss: 0.4997 - val_accuracy: 0.8261\n",
            "Epoch 263/500\n",
            "104/104 [==============================] - 0s 4ms/step - loss: 0.1463 - accuracy: 0.9456 - val_loss: 0.5704 - val_accuracy: 0.8019\n",
            "Epoch 264/500\n",
            "104/104 [==============================] - 0s 4ms/step - loss: 0.1568 - accuracy: 0.9414 - val_loss: 0.4741 - val_accuracy: 0.8357\n",
            "Epoch 265/500\n",
            "104/104 [==============================] - 0s 4ms/step - loss: 0.1581 - accuracy: 0.9407 - val_loss: 0.6047 - val_accuracy: 0.7874\n",
            "Epoch 266/500\n",
            "104/104 [==============================] - 0s 4ms/step - loss: 0.1749 - accuracy: 0.9389 - val_loss: 0.5283 - val_accuracy: 0.8213\n",
            "Epoch 267/500\n",
            "104/104 [==============================] - 0s 4ms/step - loss: 0.1705 - accuracy: 0.9407 - val_loss: 0.5449 - val_accuracy: 0.8164\n"
          ]
        }
      ]
    },
    {
      "cell_type": "code",
      "source": [
        "plt.plot(cnnhistory.history['loss'])\n",
        "plt.plot(cnnhistory.history['val_loss'])\n",
        "plt.title('model loss')\n",
        "plt.ylabel('loss')\n",
        "plt.xlabel('epoch')\n",
        "plt.legend(['train','test'], loc='upper left')\n",
        "plt.show()"
      ],
      "metadata": {
        "id": "oQYnuaCrDH_A",
        "colab": {
          "base_uri": "https://localhost:8080/",
          "height": 295
        },
        "outputId": "a723fb2d-d939-466f-d871-db81ebf53474"
      },
      "execution_count": 15,
      "outputs": [
        {
          "output_type": "display_data",
          "data": {
            "text/plain": [
              "<Figure size 432x288 with 1 Axes>"
            ],
            "image/png": "[encoded data removed]"
          },
          "metadata": {
            "needs_background": "light"
          }
        }
      ]
    },
    {
      "cell_type": "code",
      "source": [
        "plt.plot(cnnhistory.history['accuracy'])\n",
        "plt.plot(cnnhistory.history['val_accuracy'])\n",
        "plt.title('model accuracy')\n",
        "plt.ylabel('accuracy')\n",
        "plt.xlabel('epoch')\n",
        "plt.legend(['train','test'], loc='upper left')\n",
        "plt.show()"
      ],
      "metadata": {
        "id": "IFkTuO8nDNdq",
        "colab": {
          "base_uri": "https://localhost:8080/",
          "height": 295
        },
        "outputId": "afc6d6f1-efe0-4651-fe13-e6b34605a677"
      },
      "execution_count": 16,
      "outputs": [
        {
          "output_type": "display_data",
          "data": {
            "text/plain": [
              "<Figure size 432x288 with 1 Axes>"
            ],
            "image/png": "[encoded data removed]"
          },
          "metadata": {
            "needs_background": "light"
          }
        }
      ]
    },
    {
      "cell_type": "code",
      "source": [
        "predictions = model.predict(x_testcnn)"
      ],
      "metadata": {
        "id": "A2xtrN5wDQgY"
      },
      "execution_count": 17,
      "outputs": []
    },
    {
      "cell_type": "code",
      "source": [
        "predictions"
      ],
      "metadata": {
        "id": "_f_ohjXKDUpY",
        "colab": {
          "base_uri": "https://localhost:8080/"
        },
        "outputId": "647518a1-3385-4786-e008-9f86b8c7258d"
      },
      "execution_count": 18,
      "outputs": [
        {
          "output_type": "execute_result",
          "data": {
            "text/plain": [
              "array([[3.8976681e-01, 1.7800335e-02, 1.1844148e-01, 4.4601616e-01,\n",
              "        1.1947941e-02, 1.6027253e-02],\n",
              "       [1.6978988e-04, 1.5177056e-07, 1.0741196e-09, 9.8312229e-01,\n",
              "        8.4836461e-07, 1.6706942e-02],\n",
              "       [3.0296348e-02, 9.2868537e-02, 4.5352499e-04, 8.4512419e-01,\n",
              "        2.4669594e-03, 2.8790394e-02],\n",
              "       ...,\n",
              "       [2.5737060e-07, 2.4665664e-13, 1.9116030e-06, 3.5372596e-09,\n",
              "        9.9995589e-01, 4.1964242e-05],\n",
              "       [1.7983801e-05, 5.3625858e-01, 4.6305859e-01, 5.3512842e-05,\n",
              "        3.7387837e-04, 2.3748775e-04],\n",
              "       [6.1928233e-07, 3.2288665e-06, 1.3933176e-02, 3.5796082e-05,\n",
              "        9.8442113e-01, 1.6060527e-03]], dtype=float32)"
            ]
          },
          "metadata": {},
          "execution_count": 18
        }
      ]
    },
    {
      "cell_type": "code",
      "source": [
        "y_test"
      ],
      "metadata": {
        "id": "cmA2bFgsDW3D",
        "colab": {
          "base_uri": "https://localhost:8080/"
        },
        "outputId": "d9aae11f-edb5-4a1b-c501-9e0eedc64aaf"
      },
      "execution_count": 19,
      "outputs": [
        {
          "output_type": "execute_result",
          "data": {
            "text/plain": [
              "array([3, 3, 3, 0, 4, 4, 1, 2, 5, 0, 5, 3, 2, 2, 1, 4, 4, 5, 2, 4, 1, 2,\n",
              "       3, 5, 4, 2, 1, 2, 2, 2, 2, 5, 2, 5, 3, 1, 2, 0, 4, 5, 2, 3, 2, 2,\n",
              "       5, 2, 0, 1, 3, 4, 4, 5, 1, 1, 4, 4, 5, 1, 1, 1, 0, 1, 5, 0, 4, 1,\n",
              "       1, 0, 1, 4, 1, 0, 4, 1, 3, 1, 2, 2, 1, 2, 3, 0, 5, 3, 5, 5, 2, 4,\n",
              "       5, 1, 5, 1, 5, 3, 4, 1, 4, 1, 5, 4, 5, 1, 2, 1, 1, 5, 1, 3, 2, 5,\n",
              "       2, 1, 3, 5, 4, 4, 0, 0, 3, 1, 2, 2, 3, 5, 1, 5, 3, 4, 2, 2, 0, 2,\n",
              "       2, 5, 5, 0, 3, 3, 2, 2, 0, 3, 4, 0, 4, 2, 4, 5, 4, 1, 5, 3, 2, 2,\n",
              "       5, 4, 3, 3, 4, 3, 3, 4, 1, 5, 2, 3, 2, 2, 0, 2, 1, 3, 1, 2, 2, 5,\n",
              "       5, 1, 4, 2, 2, 1, 1, 3, 3, 5, 5, 2, 5, 1, 5, 0, 3, 3, 0, 5, 1, 4,\n",
              "       1, 4, 2, 5, 5, 1, 4, 2, 4])"
            ]
          },
          "metadata": {},
          "execution_count": 19
        }
      ]
    },
    {
      "cell_type": "code",
      "source": [
        "new_Ytest = y_test.astype(int)"
      ],
      "metadata": {
        "id": "0PHDKWJWDY3g"
      },
      "execution_count": 20,
      "outputs": []
    },
    {
      "cell_type": "code",
      "source": [
        "new_Ytest"
      ],
      "metadata": {
        "id": "k68v2i-pDbZE",
        "colab": {
          "base_uri": "https://localhost:8080/"
        },
        "outputId": "77e63fb4-5174-4647-ac2a-70f0a01aeb9d"
      },
      "execution_count": 21,
      "outputs": [
        {
          "output_type": "execute_result",
          "data": {
            "text/plain": [
              "array([3, 3, 3, 0, 4, 4, 1, 2, 5, 0, 5, 3, 2, 2, 1, 4, 4, 5, 2, 4, 1, 2,\n",
              "       3, 5, 4, 2, 1, 2, 2, 2, 2, 5, 2, 5, 3, 1, 2, 0, 4, 5, 2, 3, 2, 2,\n",
              "       5, 2, 0, 1, 3, 4, 4, 5, 1, 1, 4, 4, 5, 1, 1, 1, 0, 1, 5, 0, 4, 1,\n",
              "       1, 0, 1, 4, 1, 0, 4, 1, 3, 1, 2, 2, 1, 2, 3, 0, 5, 3, 5, 5, 2, 4,\n",
              "       5, 1, 5, 1, 5, 3, 4, 1, 4, 1, 5, 4, 5, 1, 2, 1, 1, 5, 1, 3, 2, 5,\n",
              "       2, 1, 3, 5, 4, 4, 0, 0, 3, 1, 2, 2, 3, 5, 1, 5, 3, 4, 2, 2, 0, 2,\n",
              "       2, 5, 5, 0, 3, 3, 2, 2, 0, 3, 4, 0, 4, 2, 4, 5, 4, 1, 5, 3, 2, 2,\n",
              "       5, 4, 3, 3, 4, 3, 3, 4, 1, 5, 2, 3, 2, 2, 0, 2, 1, 3, 1, 2, 2, 5,\n",
              "       5, 1, 4, 2, 2, 1, 1, 3, 3, 5, 5, 2, 5, 1, 5, 0, 3, 3, 0, 5, 1, 4,\n",
              "       1, 4, 2, 5, 5, 1, 4, 2, 4])"
            ]
          },
          "metadata": {},
          "execution_count": 21
        }
      ]
    },
    {
      "cell_type": "code",
      "source": [
        "preds1=predictions.argmax(axis=1)\n",
        "preds1"
      ],
      "metadata": {
        "id": "4_cAI39VFhtp",
        "colab": {
          "base_uri": "https://localhost:8080/"
        },
        "outputId": "374fb9b7-be7f-43c6-c6cc-af2e783f55b4"
      },
      "execution_count": 22,
      "outputs": [
        {
          "output_type": "execute_result",
          "data": {
            "text/plain": [
              "array([3, 3, 3, 0, 4, 4, 1, 2, 5, 1, 5, 3, 2, 2, 0, 4, 4, 3, 3, 4, 2, 2,\n",
              "       3, 3, 4, 2, 1, 2, 2, 2, 2, 5, 2, 5, 3, 1, 2, 0, 4, 5, 2, 3, 2, 2,\n",
              "       5, 2, 1, 1, 3, 4, 4, 2, 1, 1, 4, 4, 5, 1, 1, 1, 0, 1, 5, 1, 4, 1,\n",
              "       1, 1, 1, 4, 1, 0, 4, 1, 3, 1, 2, 2, 1, 2, 1, 0, 5, 3, 5, 5, 2, 5,\n",
              "       5, 1, 5, 1, 5, 3, 4, 1, 4, 1, 5, 4, 5, 1, 2, 1, 0, 2, 1, 3, 2, 5,\n",
              "       1, 1, 3, 5, 4, 4, 3, 0, 3, 1, 1, 2, 1, 5, 1, 5, 3, 2, 2, 2, 0, 2,\n",
              "       2, 3, 3, 0, 3, 3, 2, 2, 0, 3, 4, 0, 4, 4, 4, 5, 4, 1, 5, 3, 2, 2,\n",
              "       5, 4, 3, 5, 4, 5, 3, 4, 1, 5, 2, 3, 2, 2, 0, 2, 1, 3, 1, 2, 2, 5,\n",
              "       5, 1, 4, 2, 4, 1, 1, 3, 3, 5, 2, 2, 5, 1, 4, 1, 3, 3, 1, 2, 1, 4,\n",
              "       1, 4, 3, 2, 4, 1, 4, 1, 4])"
            ]
          },
          "metadata": {},
          "execution_count": 22
        }
      ]
    },
    {
      "cell_type": "code",
      "source": [
        "abc = preds1.astype(int).flatten()"
      ],
      "metadata": {
        "id": "H4WEmM60NfQn"
      },
      "execution_count": 23,
      "outputs": []
    },
    {
      "cell_type": "code",
      "source": [
        "from sklearn.metrics import confusion_matrix\n",
        "c = confusion_matrix(new_Ytest, abc) \n",
        "c"
      ],
      "metadata": {
        "id": "bKEBeEBlFjB8",
        "colab": {
          "base_uri": "https://localhost:8080/"
        },
        "outputId": "0735fe85-dfdb-41a8-da00-5112cfa6463c"
      },
      "execution_count": 24,
      "outputs": [
        {
          "output_type": "execute_result",
          "data": {
            "text/plain": [
              "array([[11,  6,  0,  1,  0,  0],\n",
              "       [ 2, 38,  1,  0,  0,  0],\n",
              "       [ 0,  3, 38,  2,  2,  0],\n",
              "       [ 0,  2,  0, 27,  0,  2],\n",
              "       [ 0,  0,  1,  0, 31,  1],\n",
              "       [ 0,  0,  5,  4,  2, 28]])"
            ]
          },
          "metadata": {},
          "execution_count": 24
        }
      ]
    },
    {
      "cell_type": "code",
      "source": [
        "y_test"
      ],
      "metadata": {
        "id": "m4RjG7LWLSQx",
        "colab": {
          "base_uri": "https://localhost:8080/"
        },
        "outputId": "9bac859d-bb79-429d-8f32-38ce86652059"
      },
      "execution_count": 25,
      "outputs": [
        {
          "output_type": "execute_result",
          "data": {
            "text/plain": [
              "array([3, 3, 3, 0, 4, 4, 1, 2, 5, 0, 5, 3, 2, 2, 1, 4, 4, 5, 2, 4, 1, 2,\n",
              "       3, 5, 4, 2, 1, 2, 2, 2, 2, 5, 2, 5, 3, 1, 2, 0, 4, 5, 2, 3, 2, 2,\n",
              "       5, 2, 0, 1, 3, 4, 4, 5, 1, 1, 4, 4, 5, 1, 1, 1, 0, 1, 5, 0, 4, 1,\n",
              "       1, 0, 1, 4, 1, 0, 4, 1, 3, 1, 2, 2, 1, 2, 3, 0, 5, 3, 5, 5, 2, 4,\n",
              "       5, 1, 5, 1, 5, 3, 4, 1, 4, 1, 5, 4, 5, 1, 2, 1, 1, 5, 1, 3, 2, 5,\n",
              "       2, 1, 3, 5, 4, 4, 0, 0, 3, 1, 2, 2, 3, 5, 1, 5, 3, 4, 2, 2, 0, 2,\n",
              "       2, 5, 5, 0, 3, 3, 2, 2, 0, 3, 4, 0, 4, 2, 4, 5, 4, 1, 5, 3, 2, 2,\n",
              "       5, 4, 3, 3, 4, 3, 3, 4, 1, 5, 2, 3, 2, 2, 0, 2, 1, 3, 1, 2, 2, 5,\n",
              "       5, 1, 4, 2, 2, 1, 1, 3, 3, 5, 5, 2, 5, 1, 5, 0, 3, 3, 0, 5, 1, 4,\n",
              "       1, 4, 2, 5, 5, 1, 4, 2, 4])"
            ]
          },
          "metadata": {},
          "execution_count": 25
        }
      ]
    },
    {
      "cell_type": "code",
      "source": [
        "loss, acc =model.evaluate(x_testcnn, y_test)\n",
        "print(\"Restored model, accuracy: {:5.2f}%\".format(100*acc))"
      ],
      "metadata": {
        "id": "n3kzoqPkDqqS",
        "colab": {
          "base_uri": "https://localhost:8080/"
        },
        "outputId": "f13e1c28-d361-4e89-dfe7-4fd0e95d4784"
      },
      "execution_count": 26,
      "outputs": [
        {
          "output_type": "stream",
          "name": "stdout",
          "text": [
            "7/7 [==============================] - 0s 3ms/step - loss: 0.4790 - accuracy: 0.8357\n",
            "Restored model, accuracy: 83.57%\n"
          ]
        }
      ]
    },
    {
      "cell_type": "code",
      "source": [
        "loss, acc =model.evaluate(X_train, y_train)\n",
        "print(\"Restored model train, accuracy: {:5.2f}%\".format(100*acc))"
      ],
      "metadata": {
        "id": "fJDTGH_OUX0z",
        "colab": {
          "base_uri": "https://localhost:8080/"
        },
        "outputId": "c8737846-73a1-423b-d92e-b480fea6276b"
      },
      "execution_count": 27,
      "outputs": [
        {
          "output_type": "stream",
          "name": "stdout",
          "text": [
            "52/52 [==============================] - 0s 3ms/step - loss: 0.0487 - accuracy: 0.9940\n",
            "Restored model train, accuracy: 99.40%\n"
          ]
        }
      ]
    },
    {
      "cell_type": "code",
      "source": [
        "from sklearn.metrics import classification_report, confusion_matrix,accuracy_score\n",
        "import seaborn as sn\n",
        "\n",
        "print(classification_report(new_Ytest,abc))\n",
        "\n",
        "acc = float(accuracy_score(new_Ytest,abc))*100\n",
        "print(\"----accuracy score %s ----\" % acc)\n",
        "\n",
        "cm = confusion_matrix(new_Ytest,abc)\n",
        "#df_cm = pd.DataFrame(cm)\n",
        "class_names = ['neutral','calm', 'happy','sad','angry', 'fearful' ]\n",
        "df_cm = pd.DataFrame(cm, index=class_names, columns=class_names,)\n",
        "sn.heatmap(df_cm, annot=True, fmt='')\n",
        "plt.show()"
      ],
      "metadata": {
        "id": "SfSC3El94LZg",
        "colab": {
          "base_uri": "https://localhost:8080/",
          "height": 521
        },
        "outputId": "fad48eed-3e20-409c-b5e5-515895a945e9"
      },
      "execution_count": 28,
      "outputs": [
        {
          "output_type": "stream",
          "name": "stdout",
          "text": [
            "              precision    recall  f1-score   support\n",
            "\n",
            "           0       0.85      0.61      0.71        18\n",
            "           1       0.78      0.93      0.84        41\n",
            "           2       0.84      0.84      0.84        45\n",
            "           3       0.79      0.87      0.83        31\n",
            "           4       0.89      0.94      0.91        33\n",
            "           5       0.90      0.72      0.80        39\n",
            "\n",
            "    accuracy                           0.84       207\n",
            "   macro avg       0.84      0.82      0.82       207\n",
            "weighted avg       0.84      0.84      0.83       207\n",
            "\n",
            "----accuracy score 83.57487922705315 ----\n"
          ]
        },
        {
          "output_type": "display_data",
          "data": {
            "text/plain": [
              "<Figure size 432x288 with 2 Axes>"
            ],
            "image/png": "[encoded data removed]"
          },
          "metadata": {
            "needs_background": "light"
          }
        }
      ]
    }
  ]
}