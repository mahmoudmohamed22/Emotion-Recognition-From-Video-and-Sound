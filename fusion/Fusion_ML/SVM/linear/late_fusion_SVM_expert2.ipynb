{
  "nbformat": 4,
  "nbformat_minor": 0,
  "metadata": {
    "colab": {
      "name": "late_fusion_SVM_expert2.ipynb",
      "provenance": [],
      "collapsed_sections": []
    },
    "kernelspec": {
      "name": "python3",
      "display_name": "Python 3"
    },
    "language_info": {
      "name": "python"
    }
  },
  "cells": [
    {
      "cell_type": "code",
      "source": [
        "# stacked generalization with linear meta model on blobs dataset\n",
        "from sklearn.metrics import accuracy_score\n",
        "from sklearn.linear_model import LogisticRegression\n",
        "from matplotlib import pyplot\n"
      ],
      "metadata": {
        "id": "XQj4f23-Ix-w"
      },
      "execution_count": 1,
      "outputs": []
    },
    {
      "cell_type": "code",
      "source": [
        "from google.colab import drive\n",
        "drive.mount('/content/drive')"
      ],
      "metadata": {
        "colab": {
          "base_uri": "https://localhost:8080/"
        },
        "id": "qj9wMQtlI1os",
        "outputId": "9f94fb88-332e-4750-f3fd-50520530be13"
      },
      "execution_count": 2,
      "outputs": [
        {
          "output_type": "stream",
          "name": "stdout",
          "text": [
            "Drive already mounted at /content/drive; to attempt to forcibly remount, call drive.mount(\"/content/drive\", force_remount=True).\n"
          ]
        }
      ]
    },
    {
      "cell_type": "code",
      "source": [
        "#x_train  y_train to train\n",
        "#x_test   y_test to test\n",
        "#x_valid  y_valid \n",
        "#video\n",
        "import joblib\n",
        "x_test_prediction = joblib.load('/content/drive/My Drive/fusion/video/data_set_fusion/expert2/test/pred_test')\n",
        "x_train_prediction = joblib.load('/content/drive/My Drive/fusion/video/data_set_fusion/expert2/train/pred_train')\n",
        "x_valid_prediction = joblib.load('/content/drive/My Drive/fusion/video/data_set_fusion/expert2/valid/pred_valid')\n",
        "y_test = joblib.load('/content/drive/My Drive/fusion/video/data_set_fusion/expert2/test/labels_test')\n",
        "y_train = joblib.load('/content/drive/My Drive/fusion/video/data_set_fusion/expert2/train/labels_train')\n",
        "y_valid = joblib.load('/content/drive/My Drive/fusion/video/data_set_fusion/expert2/valid/labels_valid')\n",
        "#audio\n",
        "\n",
        "x_audio_test_prediction = joblib.load('/content/drive/My Drive/fusion/audio/new_data_set_fusion/expert2/test/predict_test')\n",
        "x_audio_train_prediction = joblib.load('/content/drive/My Drive/fusion/audio/new_data_set_fusion/expert2/train/predict_train')\n",
        "x_audio_valid_prediction = joblib.load('/content/drive/My Drive/fusion/audio/new_data_set_fusion/expert2/valid/predict_valid')\n",
        "\"\"\"\n",
        "#samples name\n",
        "test_videos= joblib.load('/content/drive/My Drive/fusion/video/data_set_fusion/expert1/test/video_test_path')\n",
        "train_videos = joblib.load('/content/drive/My Drive/fusion/video/data_set_fusion/expert1/train/video_train_path')\n",
        "valid_videos = joblib.load('/content/drive/My Drive/fusion/video/data_set_fusion/expert1/valid/video_valid_path')\n",
        "\"\"\""
      ],
      "metadata": {
        "id": "gb8C-44ct_Yp",
        "colab": {
          "base_uri": "https://localhost:8080/",
          "height": 53
        },
        "outputId": "6fdb925f-90e2-4292-8afa-fa10b5c5e82e"
      },
      "execution_count": 3,
      "outputs": [
        {
          "output_type": "execute_result",
          "data": {
            "text/plain": [
              "\"\\n#samples name\\ntest_videos= joblib.load('/content/drive/My Drive/fusion/video/data_set_fusion/expert1/test/video_test_path')\\ntrain_videos = joblib.load('/content/drive/My Drive/fusion/video/data_set_fusion/expert1/train/video_train_path')\\nvalid_videos = joblib.load('/content/drive/My Drive/fusion/video/data_set_fusion/expert1/valid/video_valid_path')\\n\""
            ],
            "application/vnd.google.colaboratory.intrinsic+json": {
              "type": "string"
            }
          },
          "metadata": {},
          "execution_count": 3
        }
      ]
    },
    {
      "cell_type": "code",
      "source": [
        "len(x_test_prediction),len(x_train_prediction),len(x_audio_test_prediction),len(x_audio_train_prediction),len(x_valid_prediction),len(x_audio_valid_prediction)"
      ],
      "metadata": {
        "colab": {
          "base_uri": "https://localhost:8080/"
        },
        "id": "Qz1Z3Vgdxaaw",
        "outputId": "6730284b-95a1-47f0-f213-d41551aafd43"
      },
      "execution_count": 4,
      "outputs": [
        {
          "output_type": "execute_result",
          "data": {
            "text/plain": [
              "(207, 1653, 207, 1653, 207, 207)"
            ]
          },
          "metadata": {},
          "execution_count": 4
        }
      ]
    },
    {
      "cell_type": "code",
      "source": [
        "#x_train for video\n",
        "x_train_prediction=x_train_prediction.append(x_valid_prediction,ignore_index = True)\n",
        "#x_train for audio\n",
        "x_audio_train_prediction=x_audio_train_prediction.append(x_audio_valid_prediction,ignore_index = True)"
      ],
      "metadata": {
        "id": "QgDf-FF0utgP"
      },
      "execution_count": 5,
      "outputs": []
    },
    {
      "cell_type": "code",
      "source": [
        "len(x_audio_train_prediction),len(x_train_prediction)"
      ],
      "metadata": {
        "colab": {
          "base_uri": "https://localhost:8080/"
        },
        "id": "3G4-X-MLv79s",
        "outputId": "2fdfa5a1-f5fb-402d-9312-e9b3323849bd"
      },
      "execution_count": 6,
      "outputs": [
        {
          "output_type": "execute_result",
          "data": {
            "text/plain": [
              "(1860, 1860)"
            ]
          },
          "metadata": {},
          "execution_count": 6
        }
      ]
    },
    {
      "cell_type": "code",
      "source": [
        "from pandas.core.frame import DataFrame\n",
        "df_train=DataFrame(y_train,columns=['labels'])\n",
        "df_valid=DataFrame(y_valid,columns=['labels'])"
      ],
      "metadata": {
        "id": "JrYaQCyZw06M"
      },
      "execution_count": 7,
      "outputs": []
    },
    {
      "cell_type": "code",
      "source": [
        "df_train=df_train.append(df_valid,ignore_index = True)"
      ],
      "metadata": {
        "id": "Rq3yhw26xjfy"
      },
      "execution_count": 8,
      "outputs": []
    },
    {
      "cell_type": "code",
      "source": [
        "len(df_train)"
      ],
      "metadata": {
        "colab": {
          "base_uri": "https://localhost:8080/"
        },
        "id": "dvYKmNurx1KR",
        "outputId": "2a48ddc1-56d1-4fec-cf3e-7e9908b645d9"
      },
      "execution_count": 9,
      "outputs": [
        {
          "output_type": "execute_result",
          "data": {
            "text/plain": [
              "1860"
            ]
          },
          "metadata": {},
          "execution_count": 9
        }
      ]
    },
    {
      "cell_type": "code",
      "source": [
        "df_train"
      ],
      "metadata": {
        "colab": {
          "base_uri": "https://localhost:8080/",
          "height": 424
        },
        "id": "Pfp2YX591X1F",
        "outputId": "6059c11a-084c-4a6b-bc3e-9e2bc52ce7e4"
      },
      "execution_count": 10,
      "outputs": [
        {
          "output_type": "execute_result",
          "data": {
            "text/plain": [
              "      labels\n",
              "0          5\n",
              "1          0\n",
              "2          3\n",
              "3          5\n",
              "4          4\n",
              "...      ...\n",
              "1855       4\n",
              "1856       2\n",
              "1857       5\n",
              "1858       4\n",
              "1859       5\n",
              "\n",
              "[1860 rows x 1 columns]"
            ],
            "text/html": [
              "\n",
              "  <div id=\"df-659803a1-b915-462d-970a-52cae97365ae\">\n",
              "    <div class=\"colab-df-container\">\n",
              "      <div>\n",
              "<style scoped>\n",
              "    .dataframe tbody tr th:only-of-type {\n",
              "        vertical-align: middle;\n",
              "    }\n",
              "\n",
              "    .dataframe tbody tr th {\n",
              "        vertical-align: top;\n",
              "    }\n",
              "\n",
              "    .dataframe thead th {\n",
              "        text-align: right;\n",
              "    }\n",
              "</style>\n",
              "<table border=\"1\" class=\"dataframe\">\n",
              "  <thead>\n",
              "    <tr style=\"text-align: right;\">\n",
              "      <th></th>\n",
              "      <th>labels</th>\n",
              "    </tr>\n",
              "  </thead>\n",
              "  <tbody>\n",
              "    <tr>\n",
              "      <th>0</th>\n",
              "      <td>5</td>\n",
              "    </tr>\n",
              "    <tr>\n",
              "      <th>1</th>\n",
              "      <td>0</td>\n",
              "    </tr>\n",
              "    <tr>\n",
              "      <th>2</th>\n",
              "      <td>3</td>\n",
              "    </tr>\n",
              "    <tr>\n",
              "      <th>3</th>\n",
              "      <td>5</td>\n",
              "    </tr>\n",
              "    <tr>\n",
              "      <th>4</th>\n",
              "      <td>4</td>\n",
              "    </tr>\n",
              "    <tr>\n",
              "      <th>...</th>\n",
              "      <td>...</td>\n",
              "    </tr>\n",
              "    <tr>\n",
              "      <th>1855</th>\n",
              "      <td>4</td>\n",
              "    </tr>\n",
              "    <tr>\n",
              "      <th>1856</th>\n",
              "      <td>2</td>\n",
              "    </tr>\n",
              "    <tr>\n",
              "      <th>1857</th>\n",
              "      <td>5</td>\n",
              "    </tr>\n",
              "    <tr>\n",
              "      <th>1858</th>\n",
              "      <td>4</td>\n",
              "    </tr>\n",
              "    <tr>\n",
              "      <th>1859</th>\n",
              "      <td>5</td>\n",
              "    </tr>\n",
              "  </tbody>\n",
              "</table>\n",
              "<p>1860 rows × 1 columns</p>\n",
              "</div>\n",
              "      <button class=\"colab-df-convert\" onclick=\"convertToInteractive('df-659803a1-b915-462d-970a-52cae97365ae')\"\n",
              "              title=\"Convert this dataframe to an interactive table.\"\n",
              "              style=\"display:none;\">\n",
              "        \n",
              "  <svg xmlns=\"http://www.w3.org/2000/svg\" height=\"24px\"viewBox=\"0 0 24 24\"\n",
              "       width=\"24px\">\n",
              "    <path d=\"M0 0h24v24H0V0z\" fill=\"none\"/>\n",
              "    <path d=\"M18.56 5.44l.94 2.06.94-2.06 2.06-.94-2.06-.94-.94-2.06-.94 2.06-2.06.94zm-11 1L8.5 8.5l.94-2.06 2.06-.94-2.06-.94L8.5 2.5l-.94 2.06-2.06.94zm10 10l.94 2.06.94-2.06 2.06-.94-2.06-.94-.94-2.06-.94 2.06-2.06.94z\"/><path d=\"M17.41 7.96l-1.37-1.37c-.4-.4-.92-.59-1.43-.59-.52 0-1.04.2-1.43.59L10.3 9.45l-7.72 7.72c-.78.78-.78 2.05 0 2.83L4 21.41c.39.39.9.59 1.41.59.51 0 1.02-.2 1.41-.59l7.78-7.78 2.81-2.81c.8-.78.8-2.07 0-2.86zM5.41 20L4 18.59l7.72-7.72 1.47 1.35L5.41 20z\"/>\n",
              "  </svg>\n",
              "      </button>\n",
              "      \n",
              "  <style>\n",
              "    .colab-df-container {\n",
              "      display:flex;\n",
              "      flex-wrap:wrap;\n",
              "      gap: 12px;\n",
              "    }\n",
              "\n",
              "    .colab-df-convert {\n",
              "      background-color: #E8F0FE;\n",
              "      border: none;\n",
              "      border-radius: 50%;\n",
              "      cursor: pointer;\n",
              "      display: none;\n",
              "      fill: #1967D2;\n",
              "      height: 32px;\n",
              "      padding: 0 0 0 0;\n",
              "      width: 32px;\n",
              "    }\n",
              "\n",
              "    .colab-df-convert:hover {\n",
              "      background-color: #E2EBFA;\n",
              "      box-shadow: 0px 1px 2px rgba(60, 64, 67, 0.3), 0px 1px 3px 1px rgba(60, 64, 67, 0.15);\n",
              "      fill: #174EA6;\n",
              "    }\n",
              "\n",
              "    [theme=dark] .colab-df-convert {\n",
              "      background-color: #3B4455;\n",
              "      fill: #D2E3FC;\n",
              "    }\n",
              "\n",
              "    [theme=dark] .colab-df-convert:hover {\n",
              "      background-color: #434B5C;\n",
              "      box-shadow: 0px 1px 3px 1px rgba(0, 0, 0, 0.15);\n",
              "      filter: drop-shadow(0px 1px 2px rgba(0, 0, 0, 0.3));\n",
              "      fill: #FFFFFF;\n",
              "    }\n",
              "  </style>\n",
              "\n",
              "      <script>\n",
              "        const buttonEl =\n",
              "          document.querySelector('#df-659803a1-b915-462d-970a-52cae97365ae button.colab-df-convert');\n",
              "        buttonEl.style.display =\n",
              "          google.colab.kernel.accessAllowed ? 'block' : 'none';\n",
              "\n",
              "        async function convertToInteractive(key) {\n",
              "          const element = document.querySelector('#df-659803a1-b915-462d-970a-52cae97365ae');\n",
              "          const dataTable =\n",
              "            await google.colab.kernel.invokeFunction('convertToInteractive',\n",
              "                                                     [key], {});\n",
              "          if (!dataTable) return;\n",
              "\n",
              "          const docLinkHtml = 'Like what you see? Visit the ' +\n",
              "            '<a target=\"_blank\" href=https://colab.research.google.com/notebooks/data_table.ipynb>data table notebook</a>'\n",
              "            + ' to learn more about interactive tables.';\n",
              "          element.innerHTML = '';\n",
              "          dataTable['output_type'] = 'display_data';\n",
              "          await google.colab.output.renderOutput(dataTable, element);\n",
              "          const docLink = document.createElement('div');\n",
              "          docLink.innerHTML = docLinkHtml;\n",
              "          element.appendChild(docLink);\n",
              "        }\n",
              "      </script>\n",
              "    </div>\n",
              "  </div>\n",
              "  "
            ]
          },
          "metadata": {},
          "execution_count": 10
        }
      ]
    },
    {
      "cell_type": "code",
      "source": [
        "import pandas as pd\n",
        "\n",
        "x_train = pd.concat([x_train_prediction, x_audio_train_prediction], axis=1,join='inner')\n",
        "x_test =  pd.concat([x_test_prediction, x_audio_test_prediction], axis=1,join='inner')"
      ],
      "metadata": {
        "id": "sbkgIXaFwKwh"
      },
      "execution_count": 11,
      "outputs": []
    },
    {
      "cell_type": "code",
      "source": [
        "x_test"
      ],
      "metadata": {
        "colab": {
          "base_uri": "https://localhost:8080/",
          "height": 424
        },
        "id": "78gEQ1w7w_fd",
        "outputId": "72795403-1a71-48e2-b709-1852bdb79f10"
      },
      "execution_count": 12,
      "outputs": [
        {
          "output_type": "execute_result",
          "data": {
            "text/plain": [
              "         OV_0      OV_1      OV_2      OV_3      OV_4      OV_5          OA_0  \\\n",
              "0    0.034799  0.007419  0.000058  0.858459  0.002880  0.096384  1.665610e-04   \n",
              "1    0.001396  0.987387  0.003262  0.006616  0.001280  0.000060  4.774572e-06   \n",
              "2    0.000005  0.000034  0.000028  0.001152  0.996537  0.002243  2.486059e-14   \n",
              "3    0.001346  0.986554  0.002334  0.009568  0.000139  0.000058  6.141969e-12   \n",
              "4    0.000085  0.000078  0.000104  0.014233  0.002473  0.983027  8.504499e-05   \n",
              "..        ...       ...       ...       ...       ...       ...           ...   \n",
              "202  0.000170  0.002066  0.000020  0.972698  0.003607  0.021439  2.973849e-08   \n",
              "203  0.002021  0.982734  0.007325  0.007506  0.000099  0.000315  9.145800e-10   \n",
              "204  0.829458  0.032728  0.000222  0.126060  0.000330  0.011202  5.657725e-04   \n",
              "205  0.000005  0.002402  0.997287  0.000186  0.000017  0.000103  6.809235e-10   \n",
              "206  0.003887  0.978227  0.015192  0.001549  0.001067  0.000077  1.395723e-10   \n",
              "\n",
              "             OA_1      OA_2          OA_3          OA_4          OA_5  \n",
              "0    5.431420e-03  0.041148  8.965418e-01  4.679534e-05  5.666518e-02  \n",
              "1    9.803371e-01  0.019658  5.996743e-11  2.847254e-11  1.353408e-08  \n",
              "2    2.598589e-13  0.000007  2.992682e-09  9.999925e-01  2.115939e-11  \n",
              "3    9.648619e-01  0.035138  1.644592e-11  5.408900e-11  1.192824e-10  \n",
              "4    3.332345e-03  0.043735  1.132070e-02  3.294081e-02  9.085861e-01  \n",
              "..            ...       ...           ...           ...           ...  \n",
              "202  4.344618e-10  0.000495  8.445364e-04  9.986584e-01  1.684534e-06  \n",
              "203  1.899092e-02  0.981009  2.831299e-09  4.667738e-09  3.542907e-10  \n",
              "204  5.248716e-05  0.785389  3.356833e-04  1.967063e-01  1.695055e-02  \n",
              "205  1.087815e-11  0.705556  4.825487e-04  2.917032e-01  2.257905e-03  \n",
              "206  5.087030e-02  0.949130  1.357246e-07  2.759824e-08  1.656418e-08  \n",
              "\n",
              "[207 rows x 12 columns]"
            ],
            "text/html": [
              "\n",
              "  <div id=\"df-c6301caa-2eee-4e7c-8725-b283da55a3ad\">\n",
              "    <div class=\"colab-df-container\">\n",
              "      <div>\n",
              "<style scoped>\n",
              "    .dataframe tbody tr th:only-of-type {\n",
              "        vertical-align: middle;\n",
              "    }\n",
              "\n",
              "    .dataframe tbody tr th {\n",
              "        vertical-align: top;\n",
              "    }\n",
              "\n",
              "    .dataframe thead th {\n",
              "        text-align: right;\n",
              "    }\n",
              "</style>\n",
              "<table border=\"1\" class=\"dataframe\">\n",
              "  <thead>\n",
              "    <tr style=\"text-align: right;\">\n",
              "      <th></th>\n",
              "      <th>OV_0</th>\n",
              "      <th>OV_1</th>\n",
              "      <th>OV_2</th>\n",
              "      <th>OV_3</th>\n",
              "      <th>OV_4</th>\n",
              "      <th>OV_5</th>\n",
              "      <th>OA_0</th>\n",
              "      <th>OA_1</th>\n",
              "      <th>OA_2</th>\n",
              "      <th>OA_3</th>\n",
              "      <th>OA_4</th>\n",
              "      <th>OA_5</th>\n",
              "    </tr>\n",
              "  </thead>\n",
              "  <tbody>\n",
              "    <tr>\n",
              "      <th>0</th>\n",
              "      <td>0.034799</td>\n",
              "      <td>0.007419</td>\n",
              "      <td>0.000058</td>\n",
              "      <td>0.858459</td>\n",
              "      <td>0.002880</td>\n",
              "      <td>0.096384</td>\n",
              "      <td>1.665610e-04</td>\n",
              "      <td>5.431420e-03</td>\n",
              "      <td>0.041148</td>\n",
              "      <td>8.965418e-01</td>\n",
              "      <td>4.679534e-05</td>\n",
              "      <td>5.666518e-02</td>\n",
              "    </tr>\n",
              "    <tr>\n",
              "      <th>1</th>\n",
              "      <td>0.001396</td>\n",
              "      <td>0.987387</td>\n",
              "      <td>0.003262</td>\n",
              "      <td>0.006616</td>\n",
              "      <td>0.001280</td>\n",
              "      <td>0.000060</td>\n",
              "      <td>4.774572e-06</td>\n",
              "      <td>9.803371e-01</td>\n",
              "      <td>0.019658</td>\n",
              "      <td>5.996743e-11</td>\n",
              "      <td>2.847254e-11</td>\n",
              "      <td>1.353408e-08</td>\n",
              "    </tr>\n",
              "    <tr>\n",
              "      <th>2</th>\n",
              "      <td>0.000005</td>\n",
              "      <td>0.000034</td>\n",
              "      <td>0.000028</td>\n",
              "      <td>0.001152</td>\n",
              "      <td>0.996537</td>\n",
              "      <td>0.002243</td>\n",
              "      <td>2.486059e-14</td>\n",
              "      <td>2.598589e-13</td>\n",
              "      <td>0.000007</td>\n",
              "      <td>2.992682e-09</td>\n",
              "      <td>9.999925e-01</td>\n",
              "      <td>2.115939e-11</td>\n",
              "    </tr>\n",
              "    <tr>\n",
              "      <th>3</th>\n",
              "      <td>0.001346</td>\n",
              "      <td>0.986554</td>\n",
              "      <td>0.002334</td>\n",
              "      <td>0.009568</td>\n",
              "      <td>0.000139</td>\n",
              "      <td>0.000058</td>\n",
              "      <td>6.141969e-12</td>\n",
              "      <td>9.648619e-01</td>\n",
              "      <td>0.035138</td>\n",
              "      <td>1.644592e-11</td>\n",
              "      <td>5.408900e-11</td>\n",
              "      <td>1.192824e-10</td>\n",
              "    </tr>\n",
              "    <tr>\n",
              "      <th>4</th>\n",
              "      <td>0.000085</td>\n",
              "      <td>0.000078</td>\n",
              "      <td>0.000104</td>\n",
              "      <td>0.014233</td>\n",
              "      <td>0.002473</td>\n",
              "      <td>0.983027</td>\n",
              "      <td>8.504499e-05</td>\n",
              "      <td>3.332345e-03</td>\n",
              "      <td>0.043735</td>\n",
              "      <td>1.132070e-02</td>\n",
              "      <td>3.294081e-02</td>\n",
              "      <td>9.085861e-01</td>\n",
              "    </tr>\n",
              "    <tr>\n",
              "      <th>...</th>\n",
              "      <td>...</td>\n",
              "      <td>...</td>\n",
              "      <td>...</td>\n",
              "      <td>...</td>\n",
              "      <td>...</td>\n",
              "      <td>...</td>\n",
              "      <td>...</td>\n",
              "      <td>...</td>\n",
              "      <td>...</td>\n",
              "      <td>...</td>\n",
              "      <td>...</td>\n",
              "      <td>...</td>\n",
              "    </tr>\n",
              "    <tr>\n",
              "      <th>202</th>\n",
              "      <td>0.000170</td>\n",
              "      <td>0.002066</td>\n",
              "      <td>0.000020</td>\n",
              "      <td>0.972698</td>\n",
              "      <td>0.003607</td>\n",
              "      <td>0.021439</td>\n",
              "      <td>2.973849e-08</td>\n",
              "      <td>4.344618e-10</td>\n",
              "      <td>0.000495</td>\n",
              "      <td>8.445364e-04</td>\n",
              "      <td>9.986584e-01</td>\n",
              "      <td>1.684534e-06</td>\n",
              "    </tr>\n",
              "    <tr>\n",
              "      <th>203</th>\n",
              "      <td>0.002021</td>\n",
              "      <td>0.982734</td>\n",
              "      <td>0.007325</td>\n",
              "      <td>0.007506</td>\n",
              "      <td>0.000099</td>\n",
              "      <td>0.000315</td>\n",
              "      <td>9.145800e-10</td>\n",
              "      <td>1.899092e-02</td>\n",
              "      <td>0.981009</td>\n",
              "      <td>2.831299e-09</td>\n",
              "      <td>4.667738e-09</td>\n",
              "      <td>3.542907e-10</td>\n",
              "    </tr>\n",
              "    <tr>\n",
              "      <th>204</th>\n",
              "      <td>0.829458</td>\n",
              "      <td>0.032728</td>\n",
              "      <td>0.000222</td>\n",
              "      <td>0.126060</td>\n",
              "      <td>0.000330</td>\n",
              "      <td>0.011202</td>\n",
              "      <td>5.657725e-04</td>\n",
              "      <td>5.248716e-05</td>\n",
              "      <td>0.785389</td>\n",
              "      <td>3.356833e-04</td>\n",
              "      <td>1.967063e-01</td>\n",
              "      <td>1.695055e-02</td>\n",
              "    </tr>\n",
              "    <tr>\n",
              "      <th>205</th>\n",
              "      <td>0.000005</td>\n",
              "      <td>0.002402</td>\n",
              "      <td>0.997287</td>\n",
              "      <td>0.000186</td>\n",
              "      <td>0.000017</td>\n",
              "      <td>0.000103</td>\n",
              "      <td>6.809235e-10</td>\n",
              "      <td>1.087815e-11</td>\n",
              "      <td>0.705556</td>\n",
              "      <td>4.825487e-04</td>\n",
              "      <td>2.917032e-01</td>\n",
              "      <td>2.257905e-03</td>\n",
              "    </tr>\n",
              "    <tr>\n",
              "      <th>206</th>\n",
              "      <td>0.003887</td>\n",
              "      <td>0.978227</td>\n",
              "      <td>0.015192</td>\n",
              "      <td>0.001549</td>\n",
              "      <td>0.001067</td>\n",
              "      <td>0.000077</td>\n",
              "      <td>1.395723e-10</td>\n",
              "      <td>5.087030e-02</td>\n",
              "      <td>0.949130</td>\n",
              "      <td>1.357246e-07</td>\n",
              "      <td>2.759824e-08</td>\n",
              "      <td>1.656418e-08</td>\n",
              "    </tr>\n",
              "  </tbody>\n",
              "</table>\n",
              "<p>207 rows × 12 columns</p>\n",
              "</div>\n",
              "      <button class=\"colab-df-convert\" onclick=\"convertToInteractive('df-c6301caa-2eee-4e7c-8725-b283da55a3ad')\"\n",
              "              title=\"Convert this dataframe to an interactive table.\"\n",
              "              style=\"display:none;\">\n",
              "        \n",
              "  <svg xmlns=\"http://www.w3.org/2000/svg\" height=\"24px\"viewBox=\"0 0 24 24\"\n",
              "       width=\"24px\">\n",
              "    <path d=\"M0 0h24v24H0V0z\" fill=\"none\"/>\n",
              "    <path d=\"M18.56 5.44l.94 2.06.94-2.06 2.06-.94-2.06-.94-.94-2.06-.94 2.06-2.06.94zm-11 1L8.5 8.5l.94-2.06 2.06-.94-2.06-.94L8.5 2.5l-.94 2.06-2.06.94zm10 10l.94 2.06.94-2.06 2.06-.94-2.06-.94-.94-2.06-.94 2.06-2.06.94z\"/><path d=\"M17.41 7.96l-1.37-1.37c-.4-.4-.92-.59-1.43-.59-.52 0-1.04.2-1.43.59L10.3 9.45l-7.72 7.72c-.78.78-.78 2.05 0 2.83L4 21.41c.39.39.9.59 1.41.59.51 0 1.02-.2 1.41-.59l7.78-7.78 2.81-2.81c.8-.78.8-2.07 0-2.86zM5.41 20L4 18.59l7.72-7.72 1.47 1.35L5.41 20z\"/>\n",
              "  </svg>\n",
              "      </button>\n",
              "      \n",
              "  <style>\n",
              "    .colab-df-container {\n",
              "      display:flex;\n",
              "      flex-wrap:wrap;\n",
              "      gap: 12px;\n",
              "    }\n",
              "\n",
              "    .colab-df-convert {\n",
              "      background-color: #E8F0FE;\n",
              "      border: none;\n",
              "      border-radius: 50%;\n",
              "      cursor: pointer;\n",
              "      display: none;\n",
              "      fill: #1967D2;\n",
              "      height: 32px;\n",
              "      padding: 0 0 0 0;\n",
              "      width: 32px;\n",
              "    }\n",
              "\n",
              "    .colab-df-convert:hover {\n",
              "      background-color: #E2EBFA;\n",
              "      box-shadow: 0px 1px 2px rgba(60, 64, 67, 0.3), 0px 1px 3px 1px rgba(60, 64, 67, 0.15);\n",
              "      fill: #174EA6;\n",
              "    }\n",
              "\n",
              "    [theme=dark] .colab-df-convert {\n",
              "      background-color: #3B4455;\n",
              "      fill: #D2E3FC;\n",
              "    }\n",
              "\n",
              "    [theme=dark] .colab-df-convert:hover {\n",
              "      background-color: #434B5C;\n",
              "      box-shadow: 0px 1px 3px 1px rgba(0, 0, 0, 0.15);\n",
              "      filter: drop-shadow(0px 1px 2px rgba(0, 0, 0, 0.3));\n",
              "      fill: #FFFFFF;\n",
              "    }\n",
              "  </style>\n",
              "\n",
              "      <script>\n",
              "        const buttonEl =\n",
              "          document.querySelector('#df-c6301caa-2eee-4e7c-8725-b283da55a3ad button.colab-df-convert');\n",
              "        buttonEl.style.display =\n",
              "          google.colab.kernel.accessAllowed ? 'block' : 'none';\n",
              "\n",
              "        async function convertToInteractive(key) {\n",
              "          const element = document.querySelector('#df-c6301caa-2eee-4e7c-8725-b283da55a3ad');\n",
              "          const dataTable =\n",
              "            await google.colab.kernel.invokeFunction('convertToInteractive',\n",
              "                                                     [key], {});\n",
              "          if (!dataTable) return;\n",
              "\n",
              "          const docLinkHtml = 'Like what you see? Visit the ' +\n",
              "            '<a target=\"_blank\" href=https://colab.research.google.com/notebooks/data_table.ipynb>data table notebook</a>'\n",
              "            + ' to learn more about interactive tables.';\n",
              "          element.innerHTML = '';\n",
              "          dataTable['output_type'] = 'display_data';\n",
              "          await google.colab.output.renderOutput(dataTable, element);\n",
              "          const docLink = document.createElement('div');\n",
              "          docLink.innerHTML = docLinkHtml;\n",
              "          element.appendChild(docLink);\n",
              "        }\n",
              "      </script>\n",
              "    </div>\n",
              "  </div>\n",
              "  "
            ]
          },
          "metadata": {},
          "execution_count": 12
        }
      ]
    },
    {
      "cell_type": "code",
      "source": [
        "len(x_test),len(x_train)"
      ],
      "metadata": {
        "colab": {
          "base_uri": "https://localhost:8080/"
        },
        "id": "ryRQjTkUyZJv",
        "outputId": "737f020a-e1a7-4413-eeb7-08e1e98df9e7"
      },
      "execution_count": 13,
      "outputs": [
        {
          "output_type": "execute_result",
          "data": {
            "text/plain": [
              "(207, 1860)"
            ]
          },
          "metadata": {},
          "execution_count": 13
        }
      ]
    },
    {
      "cell_type": "code",
      "source": [
        "x_train"
      ],
      "metadata": {
        "colab": {
          "base_uri": "https://localhost:8080/",
          "height": 424
        },
        "id": "1e5kgXiFwzx3",
        "outputId": "7c4944a1-75c5-4a41-f251-6687e4137589"
      },
      "execution_count": 14,
      "outputs": [
        {
          "output_type": "execute_result",
          "data": {
            "text/plain": [
              "          OV_0      OV_1      OV_2      OV_3      OV_4      OV_5  \\\n",
              "0     0.000342  0.000037  0.000024  0.027184  0.001082  0.971331   \n",
              "1     0.934390  0.031547  0.000232  0.029632  0.000626  0.003573   \n",
              "2     0.000043  0.002962  0.000067  0.982080  0.000451  0.014398   \n",
              "3     0.000082  0.000080  0.000066  0.019228  0.006593  0.973949   \n",
              "4     0.000326  0.000169  0.000031  0.005374  0.981139  0.012960   \n",
              "...        ...       ...       ...       ...       ...       ...   \n",
              "1855  0.000006  0.000039  0.000070  0.001118  0.995057  0.003711   \n",
              "1856  0.001364  0.514139  0.464604  0.017488  0.000136  0.002269   \n",
              "1857  0.000059  0.000045  0.000058  0.015229  0.002455  0.982153   \n",
              "1858  0.000124  0.000557  0.000073  0.025379  0.955971  0.017896   \n",
              "1859  0.000063  0.000039  0.000053  0.017131  0.000548  0.982165   \n",
              "\n",
              "              OA_0          OA_1          OA_2          OA_3          OA_4  \\\n",
              "0     1.163812e-03  1.148093e-04  2.082536e-03  1.038109e-03  1.443121e-02   \n",
              "1     9.992542e-01  4.984575e-04  1.327459e-04  1.050756e-04  3.817032e-06   \n",
              "2     1.160177e-06  4.048929e-04  2.528452e-03  9.961514e-01  1.948176e-04   \n",
              "3     4.464999e-08  3.468699e-05  9.259466e-07  5.754880e-04  8.641584e-07   \n",
              "4     2.491426e-18  1.526562e-17  2.254725e-06  1.429549e-10  9.999958e-01   \n",
              "...            ...           ...           ...           ...           ...   \n",
              "1855  1.417570e-12  7.529932e-17  1.851241e-05  2.732249e-12  9.999814e-01   \n",
              "1856  6.609865e-05  3.851950e-07  5.902937e-01  4.498141e-03  4.050726e-01   \n",
              "1857  1.663988e-08  1.921248e-14  1.647441e-07  1.451692e-07  1.813606e-04   \n",
              "1858  2.630008e-10  4.991638e-11  2.878668e-04  1.751217e-08  9.996976e-01   \n",
              "1859  6.668873e-04  1.349015e-04  3.336256e-04  3.104752e-05  1.972182e-01   \n",
              "\n",
              "              OA_5  \n",
              "0     9.811695e-01  \n",
              "1     5.791371e-06  \n",
              "2     7.193584e-04  \n",
              "3     9.993880e-01  \n",
              "4     1.964538e-06  \n",
              "...            ...  \n",
              "1855  1.308694e-07  \n",
              "1856  6.899113e-05  \n",
              "1857  9.998183e-01  \n",
              "1858  1.451957e-05  \n",
              "1859  8.016153e-01  \n",
              "\n",
              "[1860 rows x 12 columns]"
            ],
            "text/html": [
              "\n",
              "  <div id=\"df-1584c83e-9a3c-453c-bd51-65316810cfb4\">\n",
              "    <div class=\"colab-df-container\">\n",
              "      <div>\n",
              "<style scoped>\n",
              "    .dataframe tbody tr th:only-of-type {\n",
              "        vertical-align: middle;\n",
              "    }\n",
              "\n",
              "    .dataframe tbody tr th {\n",
              "        vertical-align: top;\n",
              "    }\n",
              "\n",
              "    .dataframe thead th {\n",
              "        text-align: right;\n",
              "    }\n",
              "</style>\n",
              "<table border=\"1\" class=\"dataframe\">\n",
              "  <thead>\n",
              "    <tr style=\"text-align: right;\">\n",
              "      <th></th>\n",
              "      <th>OV_0</th>\n",
              "      <th>OV_1</th>\n",
              "      <th>OV_2</th>\n",
              "      <th>OV_3</th>\n",
              "      <th>OV_4</th>\n",
              "      <th>OV_5</th>\n",
              "      <th>OA_0</th>\n",
              "      <th>OA_1</th>\n",
              "      <th>OA_2</th>\n",
              "      <th>OA_3</th>\n",
              "      <th>OA_4</th>\n",
              "      <th>OA_5</th>\n",
              "    </tr>\n",
              "  </thead>\n",
              "  <tbody>\n",
              "    <tr>\n",
              "      <th>0</th>\n",
              "      <td>0.000342</td>\n",
              "      <td>0.000037</td>\n",
              "      <td>0.000024</td>\n",
              "      <td>0.027184</td>\n",
              "      <td>0.001082</td>\n",
              "      <td>0.971331</td>\n",
              "      <td>1.163812e-03</td>\n",
              "      <td>1.148093e-04</td>\n",
              "      <td>2.082536e-03</td>\n",
              "      <td>1.038109e-03</td>\n",
              "      <td>1.443121e-02</td>\n",
              "      <td>9.811695e-01</td>\n",
              "    </tr>\n",
              "    <tr>\n",
              "      <th>1</th>\n",
              "      <td>0.934390</td>\n",
              "      <td>0.031547</td>\n",
              "      <td>0.000232</td>\n",
              "      <td>0.029632</td>\n",
              "      <td>0.000626</td>\n",
              "      <td>0.003573</td>\n",
              "      <td>9.992542e-01</td>\n",
              "      <td>4.984575e-04</td>\n",
              "      <td>1.327459e-04</td>\n",
              "      <td>1.050756e-04</td>\n",
              "      <td>3.817032e-06</td>\n",
              "      <td>5.791371e-06</td>\n",
              "    </tr>\n",
              "    <tr>\n",
              "      <th>2</th>\n",
              "      <td>0.000043</td>\n",
              "      <td>0.002962</td>\n",
              "      <td>0.000067</td>\n",
              "      <td>0.982080</td>\n",
              "      <td>0.000451</td>\n",
              "      <td>0.014398</td>\n",
              "      <td>1.160177e-06</td>\n",
              "      <td>4.048929e-04</td>\n",
              "      <td>2.528452e-03</td>\n",
              "      <td>9.961514e-01</td>\n",
              "      <td>1.948176e-04</td>\n",
              "      <td>7.193584e-04</td>\n",
              "    </tr>\n",
              "    <tr>\n",
              "      <th>3</th>\n",
              "      <td>0.000082</td>\n",
              "      <td>0.000080</td>\n",
              "      <td>0.000066</td>\n",
              "      <td>0.019228</td>\n",
              "      <td>0.006593</td>\n",
              "      <td>0.973949</td>\n",
              "      <td>4.464999e-08</td>\n",
              "      <td>3.468699e-05</td>\n",
              "      <td>9.259466e-07</td>\n",
              "      <td>5.754880e-04</td>\n",
              "      <td>8.641584e-07</td>\n",
              "      <td>9.993880e-01</td>\n",
              "    </tr>\n",
              "    <tr>\n",
              "      <th>4</th>\n",
              "      <td>0.000326</td>\n",
              "      <td>0.000169</td>\n",
              "      <td>0.000031</td>\n",
              "      <td>0.005374</td>\n",
              "      <td>0.981139</td>\n",
              "      <td>0.012960</td>\n",
              "      <td>2.491426e-18</td>\n",
              "      <td>1.526562e-17</td>\n",
              "      <td>2.254725e-06</td>\n",
              "      <td>1.429549e-10</td>\n",
              "      <td>9.999958e-01</td>\n",
              "      <td>1.964538e-06</td>\n",
              "    </tr>\n",
              "    <tr>\n",
              "      <th>...</th>\n",
              "      <td>...</td>\n",
              "      <td>...</td>\n",
              "      <td>...</td>\n",
              "      <td>...</td>\n",
              "      <td>...</td>\n",
              "      <td>...</td>\n",
              "      <td>...</td>\n",
              "      <td>...</td>\n",
              "      <td>...</td>\n",
              "      <td>...</td>\n",
              "      <td>...</td>\n",
              "      <td>...</td>\n",
              "    </tr>\n",
              "    <tr>\n",
              "      <th>1855</th>\n",
              "      <td>0.000006</td>\n",
              "      <td>0.000039</td>\n",
              "      <td>0.000070</td>\n",
              "      <td>0.001118</td>\n",
              "      <td>0.995057</td>\n",
              "      <td>0.003711</td>\n",
              "      <td>1.417570e-12</td>\n",
              "      <td>7.529932e-17</td>\n",
              "      <td>1.851241e-05</td>\n",
              "      <td>2.732249e-12</td>\n",
              "      <td>9.999814e-01</td>\n",
              "      <td>1.308694e-07</td>\n",
              "    </tr>\n",
              "    <tr>\n",
              "      <th>1856</th>\n",
              "      <td>0.001364</td>\n",
              "      <td>0.514139</td>\n",
              "      <td>0.464604</td>\n",
              "      <td>0.017488</td>\n",
              "      <td>0.000136</td>\n",
              "      <td>0.002269</td>\n",
              "      <td>6.609865e-05</td>\n",
              "      <td>3.851950e-07</td>\n",
              "      <td>5.902937e-01</td>\n",
              "      <td>4.498141e-03</td>\n",
              "      <td>4.050726e-01</td>\n",
              "      <td>6.899113e-05</td>\n",
              "    </tr>\n",
              "    <tr>\n",
              "      <th>1857</th>\n",
              "      <td>0.000059</td>\n",
              "      <td>0.000045</td>\n",
              "      <td>0.000058</td>\n",
              "      <td>0.015229</td>\n",
              "      <td>0.002455</td>\n",
              "      <td>0.982153</td>\n",
              "      <td>1.663988e-08</td>\n",
              "      <td>1.921248e-14</td>\n",
              "      <td>1.647441e-07</td>\n",
              "      <td>1.451692e-07</td>\n",
              "      <td>1.813606e-04</td>\n",
              "      <td>9.998183e-01</td>\n",
              "    </tr>\n",
              "    <tr>\n",
              "      <th>1858</th>\n",
              "      <td>0.000124</td>\n",
              "      <td>0.000557</td>\n",
              "      <td>0.000073</td>\n",
              "      <td>0.025379</td>\n",
              "      <td>0.955971</td>\n",
              "      <td>0.017896</td>\n",
              "      <td>2.630008e-10</td>\n",
              "      <td>4.991638e-11</td>\n",
              "      <td>2.878668e-04</td>\n",
              "      <td>1.751217e-08</td>\n",
              "      <td>9.996976e-01</td>\n",
              "      <td>1.451957e-05</td>\n",
              "    </tr>\n",
              "    <tr>\n",
              "      <th>1859</th>\n",
              "      <td>0.000063</td>\n",
              "      <td>0.000039</td>\n",
              "      <td>0.000053</td>\n",
              "      <td>0.017131</td>\n",
              "      <td>0.000548</td>\n",
              "      <td>0.982165</td>\n",
              "      <td>6.668873e-04</td>\n",
              "      <td>1.349015e-04</td>\n",
              "      <td>3.336256e-04</td>\n",
              "      <td>3.104752e-05</td>\n",
              "      <td>1.972182e-01</td>\n",
              "      <td>8.016153e-01</td>\n",
              "    </tr>\n",
              "  </tbody>\n",
              "</table>\n",
              "<p>1860 rows × 12 columns</p>\n",
              "</div>\n",
              "      <button class=\"colab-df-convert\" onclick=\"convertToInteractive('df-1584c83e-9a3c-453c-bd51-65316810cfb4')\"\n",
              "              title=\"Convert this dataframe to an interactive table.\"\n",
              "              style=\"display:none;\">\n",
              "        \n",
              "  <svg xmlns=\"http://www.w3.org/2000/svg\" height=\"24px\"viewBox=\"0 0 24 24\"\n",
              "       width=\"24px\">\n",
              "    <path d=\"M0 0h24v24H0V0z\" fill=\"none\"/>\n",
              "    <path d=\"M18.56 5.44l.94 2.06.94-2.06 2.06-.94-2.06-.94-.94-2.06-.94 2.06-2.06.94zm-11 1L8.5 8.5l.94-2.06 2.06-.94-2.06-.94L8.5 2.5l-.94 2.06-2.06.94zm10 10l.94 2.06.94-2.06 2.06-.94-2.06-.94-.94-2.06-.94 2.06-2.06.94z\"/><path d=\"M17.41 7.96l-1.37-1.37c-.4-.4-.92-.59-1.43-.59-.52 0-1.04.2-1.43.59L10.3 9.45l-7.72 7.72c-.78.78-.78 2.05 0 2.83L4 21.41c.39.39.9.59 1.41.59.51 0 1.02-.2 1.41-.59l7.78-7.78 2.81-2.81c.8-.78.8-2.07 0-2.86zM5.41 20L4 18.59l7.72-7.72 1.47 1.35L5.41 20z\"/>\n",
              "  </svg>\n",
              "      </button>\n",
              "      \n",
              "  <style>\n",
              "    .colab-df-container {\n",
              "      display:flex;\n",
              "      flex-wrap:wrap;\n",
              "      gap: 12px;\n",
              "    }\n",
              "\n",
              "    .colab-df-convert {\n",
              "      background-color: #E8F0FE;\n",
              "      border: none;\n",
              "      border-radius: 50%;\n",
              "      cursor: pointer;\n",
              "      display: none;\n",
              "      fill: #1967D2;\n",
              "      height: 32px;\n",
              "      padding: 0 0 0 0;\n",
              "      width: 32px;\n",
              "    }\n",
              "\n",
              "    .colab-df-convert:hover {\n",
              "      background-color: #E2EBFA;\n",
              "      box-shadow: 0px 1px 2px rgba(60, 64, 67, 0.3), 0px 1px 3px 1px rgba(60, 64, 67, 0.15);\n",
              "      fill: #174EA6;\n",
              "    }\n",
              "\n",
              "    [theme=dark] .colab-df-convert {\n",
              "      background-color: #3B4455;\n",
              "      fill: #D2E3FC;\n",
              "    }\n",
              "\n",
              "    [theme=dark] .colab-df-convert:hover {\n",
              "      background-color: #434B5C;\n",
              "      box-shadow: 0px 1px 3px 1px rgba(0, 0, 0, 0.15);\n",
              "      filter: drop-shadow(0px 1px 2px rgba(0, 0, 0, 0.3));\n",
              "      fill: #FFFFFF;\n",
              "    }\n",
              "  </style>\n",
              "\n",
              "      <script>\n",
              "        const buttonEl =\n",
              "          document.querySelector('#df-1584c83e-9a3c-453c-bd51-65316810cfb4 button.colab-df-convert');\n",
              "        buttonEl.style.display =\n",
              "          google.colab.kernel.accessAllowed ? 'block' : 'none';\n",
              "\n",
              "        async function convertToInteractive(key) {\n",
              "          const element = document.querySelector('#df-1584c83e-9a3c-453c-bd51-65316810cfb4');\n",
              "          const dataTable =\n",
              "            await google.colab.kernel.invokeFunction('convertToInteractive',\n",
              "                                                     [key], {});\n",
              "          if (!dataTable) return;\n",
              "\n",
              "          const docLinkHtml = 'Like what you see? Visit the ' +\n",
              "            '<a target=\"_blank\" href=https://colab.research.google.com/notebooks/data_table.ipynb>data table notebook</a>'\n",
              "            + ' to learn more about interactive tables.';\n",
              "          element.innerHTML = '';\n",
              "          dataTable['output_type'] = 'display_data';\n",
              "          await google.colab.output.renderOutput(dataTable, element);\n",
              "          const docLink = document.createElement('div');\n",
              "          docLink.innerHTML = docLinkHtml;\n",
              "          element.appendChild(docLink);\n",
              "        }\n",
              "      </script>\n",
              "    </div>\n",
              "  </div>\n",
              "  "
            ]
          },
          "metadata": {},
          "execution_count": 14
        }
      ]
    },
    {
      "cell_type": "code",
      "source": [
        "from sklearn.utils import shuffle\n",
        "seed=42\n",
        "new_x_train = shuffle(x_train,random_state=seed)\n",
        "new_y_train = shuffle(df_train,random_state=seed)\n",
        "new_x_train = new_x_train.reset_index(drop=True)\n",
        "new_y_train = new_y_train.reset_index(drop=True)\n",
        "\"\"\"\n",
        "y_train=df_train.to_numpy()\n",
        "y_train=y_train.reshape(1860,)\n",
        "y_train, y_train.shape\n",
        "\"\"\""
      ],
      "metadata": {
        "colab": {
          "base_uri": "https://localhost:8080/",
          "height": 36
        },
        "id": "p5veJq2ei1vA",
        "outputId": "d51dedf8-6c25-4838-e65b-21cf48752871"
      },
      "execution_count": 15,
      "outputs": [
        {
          "output_type": "execute_result",
          "data": {
            "text/plain": [
              "'\\ny_train=df_train.to_numpy()\\ny_train=y_train.reshape(1860,)\\ny_train, y_train.shape\\n'"
            ],
            "application/vnd.google.colaboratory.intrinsic+json": {
              "type": "string"
            }
          },
          "metadata": {},
          "execution_count": 15
        }
      ]
    },
    {
      "cell_type": "code",
      "source": [
        "len(new_y_train)"
      ],
      "metadata": {
        "colab": {
          "base_uri": "https://localhost:8080/"
        },
        "id": "pFfSFyo-7NfO",
        "outputId": "d7cc1e59-4d75-49a0-903b-85e4d824af5a"
      },
      "execution_count": 16,
      "outputs": [
        {
          "output_type": "execute_result",
          "data": {
            "text/plain": [
              "1860"
            ]
          },
          "metadata": {},
          "execution_count": 16
        }
      ]
    },
    {
      "cell_type": "code",
      "source": [
        "from sklearn.preprocessing import StandardScaler, MinMaxScaler\n",
        "scaler = MinMaxScaler(feature_range=(0, 1))\n",
        "new_x_train = scaler.fit_transform(new_x_train)\n",
        "X_test = scaler.transform(x_test)"
      ],
      "metadata": {
        "id": "wPUM0nKyxmkZ"
      },
      "execution_count": 17,
      "outputs": []
    },
    {
      "cell_type": "code",
      "source": [
        "y_train=df_train.to_numpy()\n",
        "y_train=y_train.reshape(1860,)\n",
        "y_train, y_train.shape"
      ],
      "metadata": {
        "colab": {
          "base_uri": "https://localhost:8080/"
        },
        "id": "4UmZkWm-tMOU",
        "outputId": "20653783-ab21-40a9-a595-98ecbd410394"
      },
      "execution_count": 18,
      "outputs": [
        {
          "output_type": "execute_result",
          "data": {
            "text/plain": [
              "(array([5, 0, 3, ..., 5, 4, 5]), (1860,))"
            ]
          },
          "metadata": {},
          "execution_count": 18
        }
      ]
    },
    {
      "cell_type": "markdown",
      "source": [
        "# training machine learning"
      ],
      "metadata": {
        "id": "1hZPjTpT4lb3"
      }
    },
    {
      "cell_type": "code",
      "source": [
        "from sklearn.svm import SVC\n",
        "model = SVC(random_state=seed, kernel='linear')\n",
        "svm=model.fit(x_train,y_train)\n",
        "predictions = model.predict(x_test)\n",
        "#print(\"Restored model, accuracy: {:5.2f}%\".format(100*acc))"
      ],
      "metadata": {
        "id": "PS4PZtkj5G8k"
      },
      "execution_count": 19,
      "outputs": []
    },
    {
      "cell_type": "code",
      "source": [
        "predictions"
      ],
      "metadata": {
        "colab": {
          "base_uri": "https://localhost:8080/"
        },
        "id": "ibm_g_O66uKI",
        "outputId": "9eb5e6e0-89ba-462c-93b1-227d4f3a8410"
      },
      "execution_count": 20,
      "outputs": [
        {
          "output_type": "execute_result",
          "data": {
            "text/plain": [
              "array([3, 1, 4, 1, 5, 3, 5, 0, 2, 2, 2, 4, 0, 3, 0, 4, 1, 1, 4, 5, 0, 2,\n",
              "       2, 1, 0, 2, 2, 3, 4, 1, 3, 0, 2, 1, 1, 3, 1, 4, 0, 3, 1, 4, 5, 1,\n",
              "       2, 2, 2, 0, 4, 5, 4, 1, 5, 0, 1, 4, 3, 3, 3, 5, 0, 1, 4, 3, 4, 5,\n",
              "       1, 4, 2, 4, 5, 2, 3, 3, 2, 1, 4, 4, 5, 5, 5, 2, 5, 4, 3, 2, 4, 4,\n",
              "       4, 4, 2, 0, 2, 1, 2, 1, 4, 1, 2, 5, 4, 5, 5, 2, 3, 2, 1, 3, 3, 5,\n",
              "       5, 1, 5, 4, 4, 2, 4, 4, 2, 2, 1, 1, 1, 3, 3, 0, 3, 1, 5, 4, 4, 3,\n",
              "       1, 5, 2, 1, 4, 4, 3, 3, 4, 1, 1, 3, 1, 1, 4, 2, 3, 5, 2, 5, 3, 0,\n",
              "       3, 3, 0, 4, 3, 4, 3, 5, 3, 2, 3, 5, 1, 3, 3, 5, 5, 2, 0, 2, 1, 5,\n",
              "       4, 5, 1, 1, 5, 3, 3, 4, 1, 2, 3, 0, 5, 2, 0, 1, 3, 0, 3, 0, 4, 1,\n",
              "       5, 5, 2, 4, 4, 1, 0, 2, 1])"
            ]
          },
          "metadata": {},
          "execution_count": 20
        }
      ]
    },
    {
      "cell_type": "code",
      "source": [
        "from sklearn.metrics import classification_report, confusion_matrix,accuracy_score\n",
        "import seaborn as sn\n",
        "import matplotlib.pyplot as plt\n",
        "\n",
        "print(classification_report(y_test,predictions))\n",
        "\n",
        "acc = float(accuracy_score(y_test,predictions))*100\n",
        "print(\"----accuracy score %s ----\" % acc)\n",
        "\n",
        "cm = confusion_matrix(y_test,predictions)\n",
        "#df_cm = pd.DataFrame(cm)\n",
        "class_names = ['neutral','calm', 'happy','sad','angry', 'fearful' ]\n",
        "df_cm = pd.DataFrame(cm, index=class_names, columns=class_names,)\n",
        "sn.heatmap(df_cm, annot=True, fmt='')\n",
        "plt.show()"
      ],
      "metadata": {
        "colab": {
          "base_uri": "https://localhost:8080/",
          "height": 508
        },
        "id": "A9gR6pV063GP",
        "outputId": "058cae38-5ed2-4392-c252-0580cf9c000b"
      },
      "execution_count": 21,
      "outputs": [
        {
          "output_type": "stream",
          "name": "stdout",
          "text": [
            "              precision    recall  f1-score   support\n",
            "\n",
            "           0       0.90      0.86      0.88        21\n",
            "           1       0.95      0.95      0.95        40\n",
            "           2       1.00      0.97      0.99        36\n",
            "           3       0.92      0.84      0.88        43\n",
            "           4       0.88      1.00      0.93        35\n",
            "           5       0.91      0.94      0.92        32\n",
            "\n",
            "    accuracy                           0.93       207\n",
            "   macro avg       0.93      0.93      0.92       207\n",
            "weighted avg       0.93      0.93      0.93       207\n",
            "\n",
            "----accuracy score 92.7536231884058 ----\n"
          ]
        },
        {
          "output_type": "display_data",
          "data": {
            "text/plain": [
              "<Figure size 432x288 with 2 Axes>"
            ],
            "image/png": "[encoded data removed]"
          },
          "metadata": {
            "needs_background": "light"
          }
        }
      ]
    },
    {
      "cell_type": "code",
      "source": [
        "path='/content/drive/My Drive/fusion/fusion_model/SVM/linear/expert2'\n",
        "savedvX = joblib.dump(model, path)\n",
        "\n",
        "print(\"MODEL SAVED\")"
      ],
      "metadata": {
        "colab": {
          "base_uri": "https://localhost:8080/"
        },
        "id": "WFonuoIS7NTg",
        "outputId": "f3ec0e98-be14-46f1-97d7-1a5500b23bf8"
      },
      "execution_count": 22,
      "outputs": [
        {
          "output_type": "stream",
          "name": "stdout",
          "text": [
            "MODEL SAVED\n"
          ]
        }
      ]
    },
    {
      "cell_type": "code",
      "source": [
        ""
      ],
      "metadata": {
        "id": "Bp4nDNcd7lc_"
      },
      "execution_count": null,
      "outputs": []
    }
  ]
}