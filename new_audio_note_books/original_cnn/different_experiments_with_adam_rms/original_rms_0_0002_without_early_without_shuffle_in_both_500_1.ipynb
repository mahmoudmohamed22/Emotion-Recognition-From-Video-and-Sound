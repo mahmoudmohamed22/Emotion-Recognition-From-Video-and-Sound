{
  "nbformat": 4,
  "nbformat_minor": 0,
  "metadata": {
    "colab": {
      "name": "original_rms_0.0002_without early_without_shuffle in both_500_1.ipynb",
      "provenance": [],
      "collapsed_sections": []
    },
    "kernelspec": {
      "name": "python3",
      "display_name": "Python 3"
    },
    "language_info": {
      "name": "python"
    },
    "accelerator": "GPU"
  },
  "cells": [
    {
      "cell_type": "code",
      "execution_count": 3,
      "metadata": {
        "colab": {
          "base_uri": "https://localhost:8080/"
        },
        "id": "9SRCO-a_AlH5",
        "outputId": "ef0ac785-f068-4be1-d523-fba26939af46"
      },
      "outputs": [
        {
          "output_type": "stream",
          "name": "stdout",
          "text": [
            "Mounted at /content/drive\n"
          ]
        }
      ],
      "source": [
        "from google.colab import drive\n",
        "drive.mount('/content/drive')"
      ]
    },
    {
      "cell_type": "code",
      "metadata": {
        "id": "HJjcbxwy46bG",
        "colab": {
          "base_uri": "https://localhost:8080/",
          "height": 17
        },
        "outputId": "676e5db9-26b7-42c5-8c77-4eaa2295ab53"
      },
      "source": [
        "# Orignial Notebook: https://github.com/MITESHPUTHRANNEU/Speech-Emotion-Analyzer/blob/master/final_results_gender_test.ipynb\n",
        "# This notebook author: Reza Chu\n",
        "# Last Editing Date: 31st May 2019\n",
        "\n",
        "## Python\n",
        "import os\n",
        "import random\n",
        "import sys\n",
        "\n",
        "import IPython\n",
        "from IPython.display import Audio\n",
        "from IPython.display import Image\n",
        "import matplotlib.pyplot as plt\n",
        "\n",
        "## Package\n",
        "import glob \n",
        "import keras\n",
        "import IPython.display as ipd\n",
        "import librosa\n",
        "import librosa.display\n",
        "import matplotlib.pyplot as plt\n",
        "import numpy as np\n",
        "import pandas as pd\n",
        "import plotly.graph_objs as go\n",
        "import plotly.offline as py\n",
        "import plotly.tools as tls\n",
        "import seaborn as sns\n",
        "import scipy.io.wavfile\n",
        "import tensorflow as tf\n",
        "py.init_notebook_mode(connected=True)\n",
        "\n",
        "## Keras\n",
        "from keras import regularizers\n",
        "from keras.callbacks import ModelCheckpoint, LearningRateScheduler, EarlyStopping\n",
        "from keras.callbacks import  History, ReduceLROnPlateau, CSVLogger\n",
        "from keras.models import Model, Sequential\n",
        "from keras.layers import Dense, Embedding, LSTM\n",
        "from keras.layers import Input, Flatten, Dropout, Activation, BatchNormalization\n",
        "from keras.layers import Conv1D, MaxPooling1D, AveragePooling1D\n",
        "from keras.preprocessing import sequence\n",
        "from keras.preprocessing.sequence import pad_sequences\n",
        "from keras.preprocessing.text import Tokenizer\n",
        "from keras.utils import np_utils\n",
        "from tensorflow.keras.utils import to_categorical\n",
        "\n",
        "## Sklearn\n",
        "from sklearn.metrics import confusion_matrix\n",
        "from sklearn.preprocessing import LabelEncoder\n",
        "\n",
        "## Rest\n",
        "from scipy.fftpack import fft\n",
        "from scipy import signal\n",
        "from scipy.io import wavfile\n",
        "from tqdm import tqdm\n",
        "\n",
        "input_duration=3\n",
        "# % pylab inline"
      ],
      "execution_count": 1,
      "outputs": [
        {
          "output_type": "display_data",
          "data": {
            "text/html": [
              "        <script type=\"text/javascript\">\n",
              "        window.PlotlyConfig = {MathJaxConfig: 'local'};\n",
              "        if (window.MathJax) {MathJax.Hub.Config({SVG: {font: \"STIX-Web\"}});}\n",
              "        if (typeof require !== 'undefined') {\n",
              "        require.undef(\"plotly\");\n",
              "        requirejs.config({\n",
              "            paths: {\n",
              "                'plotly': ['https://cdn.plot.ly/plotly-2.8.3.min']\n",
              "            }\n",
              "        });\n",
              "        require(['plotly'], function(Plotly) {\n",
              "            window._Plotly = Plotly;\n",
              "        });\n",
              "        }\n",
              "        </script>\n",
              "        "
            ]
          },
          "metadata": {}
        }
      ]
    },
    {
      "cell_type": "code",
      "source": [
        "#radvass speech and song\n",
        "import time\n",
        "import os\n",
        "import librosa\n",
        "from librosa import display\n",
        "import matplotlib.pyplot as plt\n",
        "\n",
        "count=0\n",
        "path1 = '/content/drive/MyDrive/RAVDESS_speech'\n",
        "path2 = '/content/drive/MyDrive/RAVDESS_song'\n",
        "\n",
        "lst = []\n",
        "\n",
        "start_time = time.time()\n",
        "\n",
        "for subdir, dirs, files in os.walk(path2):\n",
        "  print(dirs)\n",
        "  print(subdir)\n",
        "  #print(files)\n",
        "  for file in files:\n",
        "      try:\n",
        "        count +=1\n",
        "        #Load librosa array, obtain mfcss, store the file and the mcss information in a new array\n",
        "        X, sample_rate = librosa.load(os.path.join(subdir,file), res_type='kaiser_fast')\n",
        "        mfccs = np.mean(librosa.feature.mfcc(y=X, sr=sample_rate, n_mfcc=40).T,axis=0) \n",
        "        # The instruction below converts the labels (from 1 to 8) to a series from 0 to 7\n",
        "        # This is because our predictor needs to start from 0 otherwise it will try to predict also 0.\n",
        "        file = int(file[7:8]) - 1 \n",
        "        arr = mfccs, file\n",
        "        lst.append(arr)\n",
        "      # If the file is not valid, skip it\n",
        "      except ValueError:\n",
        "        continue\n",
        "\n",
        "for subdir, dirs, files in os.walk(path1):\n",
        "  print(dirs)\n",
        "  print(subdir)\n",
        " # print(files)\n",
        "  for file in files:\n",
        "      try:\n",
        "        #Load librosa array, obtain mfcss, store the file and the mcss information in a new array\n",
        "        X, sample_rate = librosa.load(os.path.join(subdir,file), res_type='kaiser_fast')\n",
        "        mfccs = np.mean(librosa.feature.mfcc(y=X, sr=sample_rate, n_mfcc=40).T,axis=0) \n",
        "        # The instruction below converts the labels (from 1 to 8) to a series from 0 to 7\n",
        "        # This is because our predictor needs to start from 0 otherwise it will try to predict also 0.\n",
        "        file = int(file[7:8]) - 1 \n",
        "        if(file ==6 or file==7):\n",
        "          continue\n",
        "        count +=1\n",
        "        arr = mfccs, file\n",
        "        lst.append(arr)\n",
        "      # If the file is not valid, skip it\n",
        "      except ValueError:\n",
        "        continue\n",
        "\n",
        "\n",
        "\n",
        "print(\"--- Data loaded. Loading time: %s seconds ---\" % (time.time() - start_time))"
      ],
      "metadata": {
        "colab": {
          "base_uri": "https://localhost:8080/"
        },
        "id": "IfuyRZl42ccZ",
        "outputId": "ce249970-9930-450a-db19-8e2b3f9edde8"
      },
      "execution_count": null,
      "outputs": [
        {
          "output_type": "stream",
          "name": "stdout",
          "text": [
            "['Actor_10', 'Actor_11', 'Actor_13', 'Actor_12', 'Actor_14', 'Actor_15', 'Actor_16', 'Actor_17', 'Actor_18', 'Actor_19', 'Actor_21', 'Actor_22', 'Actor_23', 'Actor_09', 'Actor_24', 'Actor_04', 'Actor_08', 'Actor_03', 'Actor_02', 'Actor_06', 'Actor_05', 'Actor_01', 'Actor_07', 'Actor_20']\n",
            "/content/drive/MyDrive/RAVDESS_song\n",
            "[]\n",
            "/content/drive/MyDrive/RAVDESS_song/Actor_10\n",
            "[]\n",
            "/content/drive/MyDrive/RAVDESS_song/Actor_11\n",
            "[]\n",
            "/content/drive/MyDrive/RAVDESS_song/Actor_13\n",
            "[]\n",
            "/content/drive/MyDrive/RAVDESS_song/Actor_12\n",
            "[]\n",
            "/content/drive/MyDrive/RAVDESS_song/Actor_14\n",
            "[]\n",
            "/content/drive/MyDrive/RAVDESS_song/Actor_15\n",
            "[]\n",
            "/content/drive/MyDrive/RAVDESS_song/Actor_16\n",
            "[]\n",
            "/content/drive/MyDrive/RAVDESS_song/Actor_17\n",
            "[]\n",
            "/content/drive/MyDrive/RAVDESS_song/Actor_18\n",
            "[]\n",
            "/content/drive/MyDrive/RAVDESS_song/Actor_19\n",
            "[]\n",
            "/content/drive/MyDrive/RAVDESS_song/Actor_21\n",
            "[]\n",
            "/content/drive/MyDrive/RAVDESS_song/Actor_22\n",
            "[]\n",
            "/content/drive/MyDrive/RAVDESS_song/Actor_23\n",
            "[]\n",
            "/content/drive/MyDrive/RAVDESS_song/Actor_09\n",
            "[]\n",
            "/content/drive/MyDrive/RAVDESS_song/Actor_24\n",
            "[]\n",
            "/content/drive/MyDrive/RAVDESS_song/Actor_04\n",
            "[]\n",
            "/content/drive/MyDrive/RAVDESS_song/Actor_08\n",
            "[]\n",
            "/content/drive/MyDrive/RAVDESS_song/Actor_03\n",
            "[]\n",
            "/content/drive/MyDrive/RAVDESS_song/Actor_02\n",
            "[]\n",
            "/content/drive/MyDrive/RAVDESS_song/Actor_06\n",
            "[]\n",
            "/content/drive/MyDrive/RAVDESS_song/Actor_05\n",
            "[]\n",
            "/content/drive/MyDrive/RAVDESS_song/Actor_01\n",
            "[]\n",
            "/content/drive/MyDrive/RAVDESS_song/Actor_07\n",
            "[]\n",
            "/content/drive/MyDrive/RAVDESS_song/Actor_20\n",
            "['Actor_05', 'Actor_08', 'Actor_10', 'Actor_04', 'Actor_09', 'Actor_14', 'Actor_12', 'Actor_13', 'Actor_11', 'Actor_06', 'Actor_24', 'Actor_07', 'Actor_23', 'Actor_22', 'Actor_21', 'Actor_20', 'Actor_02', 'Actor_19', 'Actor_18', 'Actor_17', 'Actor_16', 'Actor_15', 'Actor_03', 'Actor_01']\n",
            "/content/drive/MyDrive/RAVDESS_speech\n",
            "[]\n",
            "/content/drive/MyDrive/RAVDESS_speech/Actor_05\n",
            "[]\n",
            "/content/drive/MyDrive/RAVDESS_speech/Actor_08\n",
            "[]\n",
            "/content/drive/MyDrive/RAVDESS_speech/Actor_10\n",
            "[]\n",
            "/content/drive/MyDrive/RAVDESS_speech/Actor_04\n",
            "[]\n",
            "/content/drive/MyDrive/RAVDESS_speech/Actor_09\n",
            "[]\n",
            "/content/drive/MyDrive/RAVDESS_speech/Actor_14\n",
            "[]\n",
            "/content/drive/MyDrive/RAVDESS_speech/Actor_12\n",
            "[]\n",
            "/content/drive/MyDrive/RAVDESS_speech/Actor_13\n",
            "[]\n",
            "/content/drive/MyDrive/RAVDESS_speech/Actor_11\n",
            "[]\n",
            "/content/drive/MyDrive/RAVDESS_speech/Actor_06\n",
            "[]\n",
            "/content/drive/MyDrive/RAVDESS_speech/Actor_24\n",
            "[]\n",
            "/content/drive/MyDrive/RAVDESS_speech/Actor_07\n",
            "[]\n",
            "/content/drive/MyDrive/RAVDESS_speech/Actor_23\n",
            "[]\n",
            "/content/drive/MyDrive/RAVDESS_speech/Actor_22\n",
            "[]\n",
            "/content/drive/MyDrive/RAVDESS_speech/Actor_21\n",
            "[]\n",
            "/content/drive/MyDrive/RAVDESS_speech/Actor_20\n",
            "[]\n",
            "/content/drive/MyDrive/RAVDESS_speech/Actor_02\n",
            "[]\n",
            "/content/drive/MyDrive/RAVDESS_speech/Actor_19\n",
            "[]\n",
            "/content/drive/MyDrive/RAVDESS_speech/Actor_18\n",
            "[]\n",
            "/content/drive/MyDrive/RAVDESS_speech/Actor_17\n",
            "[]\n",
            "/content/drive/MyDrive/RAVDESS_speech/Actor_16\n",
            "[]\n",
            "/content/drive/MyDrive/RAVDESS_speech/Actor_15\n",
            "[]\n",
            "/content/drive/MyDrive/RAVDESS_speech/Actor_03\n",
            "[]\n",
            "/content/drive/MyDrive/RAVDESS_speech/Actor_01\n",
            "--- Data loaded. Loading time: 204.12607288360596 seconds ---\n"
          ]
        }
      ]
    },
    {
      "cell_type": "code",
      "source": [
        "count"
      ],
      "metadata": {
        "id": "Ltlhi25L2AI5",
        "colab": {
          "base_uri": "https://localhost:8080/"
        },
        "outputId": "92f64156-e27a-4381-e558-85094fc41c56"
      },
      "execution_count": null,
      "outputs": [
        {
          "output_type": "execute_result",
          "data": {
            "text/plain": [
              "2068"
            ]
          },
          "metadata": {},
          "execution_count": 5
        }
      ]
    },
    {
      "cell_type": "code",
      "source": [
        "from numpy.core.fromnumeric import size\n",
        "size(lst)"
      ],
      "metadata": {
        "id": "HMOH7d7mzHB7",
        "colab": {
          "base_uri": "https://localhost:8080/"
        },
        "outputId": "454c6795-9625-4c4a-aae1-8816c01db98f"
      },
      "execution_count": null,
      "outputs": [
        {
          "output_type": "stream",
          "name": "stderr",
          "text": [
            "/usr/local/lib/python3.7/dist-packages/numpy/core/fromnumeric.py:3208: VisibleDeprecationWarning:\n",
            "\n",
            "Creating an ndarray from ragged nested sequences (which is a list-or-tuple of lists-or-tuples-or ndarrays with different lengths or shapes) is deprecated. If you meant to do this, you must specify 'dtype=object' when creating the ndarray.\n",
            "\n"
          ]
        },
        {
          "output_type": "execute_result",
          "data": {
            "text/plain": [
              "4136"
            ]
          },
          "metadata": {},
          "execution_count": 6
        }
      ]
    },
    {
      "cell_type": "code",
      "source": [
        "# Creating X and y: zip makes a list of all the first elements, and a list of all the second elements.\n",
        "X, y = zip(*lst)"
      ],
      "metadata": {
        "id": "ocdL7tSTBoMt"
      },
      "execution_count": null,
      "outputs": []
    },
    {
      "cell_type": "code",
      "source": [
        "import numpy as np\n",
        "X = np.asarray(X)\n",
        "y = np.asarray(y)\n",
        "X.shape, y.shape"
      ],
      "metadata": {
        "id": "vHKwUGTbBtnF",
        "colab": {
          "base_uri": "https://localhost:8080/"
        },
        "outputId": "52b5b212-692b-49e9-b357-6d6f08d864df"
      },
      "execution_count": null,
      "outputs": [
        {
          "output_type": "execute_result",
          "data": {
            "text/plain": [
              "((2068, 40), (2068,))"
            ]
          },
          "metadata": {},
          "execution_count": 8
        }
      ]
    },
    {
      "cell_type": "code",
      "source": [
        "X.shape"
      ],
      "metadata": {
        "id": "2sUCtbfMztE5",
        "colab": {
          "base_uri": "https://localhost:8080/"
        },
        "outputId": "e14844a2-b3c4-439c-e82f-783c1f91504a"
      },
      "execution_count": null,
      "outputs": [
        {
          "output_type": "execute_result",
          "data": {
            "text/plain": [
              "(2068, 40)"
            ]
          },
          "metadata": {},
          "execution_count": 9
        }
      ]
    },
    {
      "cell_type": "code",
      "source": [
        "# # Saving joblib files to not load them again with the loop above\n",
        "\n",
        "# import joblib\n",
        "\n",
        "# X_name = 'x.joblib'\n",
        "# y_name = 'y.joblib'\n",
        "# save_dir = '/content/drive/My Drive/graduation project/audio/paper_code/features'\n",
        "\n",
        "# savedX = joblib.dump(X, os.path.join(save_dir, X_name))\n",
        "# savedy = joblib.dump(y, os.path.join(save_dir, y_name))"
      ],
      "metadata": {
        "id": "UCzic8rlDcuk"
      },
      "execution_count": null,
      "outputs": []
    },
    {
      "cell_type": "code",
      "source": [
        "# # Loading saved models\n",
        "import joblib\n",
        "X = joblib.load('/content/drive/My Drive/graduation project/audio/paper_code/features/x.joblib')\n",
        "y = joblib.load('/content/drive/My Drive/graduation project/audio/paper_code/features/y.joblib')"
      ],
      "metadata": {
        "id": "Q35CN6zDrzg1"
      },
      "execution_count": 2,
      "outputs": []
    },
    {
      "cell_type": "code",
      "source": [
        "X.shape"
      ],
      "metadata": {
        "colab": {
          "base_uri": "https://localhost:8080/"
        },
        "id": "7PSTurzjCo5K",
        "outputId": "85322c6e-a0e5-41ff-81de-75a36c5bcfeb"
      },
      "execution_count": 3,
      "outputs": [
        {
          "output_type": "execute_result",
          "data": {
            "text/plain": [
              "(2068, 40)"
            ]
          },
          "metadata": {},
          "execution_count": 3
        }
      ]
    },
    {
      "cell_type": "code",
      "source": [
        "from sklearn.model_selection import train_test_split\n",
        "\n",
        "X_train, X_test, y_train, y_test = train_test_split(X,y, test_size=0.1 #,shuffle = True\n",
        "                                                    , random_state=42)\n",
        "X_train , X_valid, y_train, y_valid = train_test_split(X_train,y_train, test_size=0.1112305212 #, shuffle = True \n",
        "                                                       , random_state=42)"
      ],
      "metadata": {
        "id": "Ai4Fy5cPCiq1"
      },
      "execution_count": 4,
      "outputs": []
    },
    {
      "cell_type": "code",
      "source": [
        "import numpy as np\n",
        "x_traincnn = np.expand_dims(X_train, axis=2)\n",
        "x_testcnn = np.expand_dims(X_test, axis=2)\n",
        "X_valid= np.expand_dims(X_valid, axis=2)"
      ],
      "metadata": {
        "id": "tp1Fm5K3CEXu"
      },
      "execution_count": 5,
      "outputs": []
    },
    {
      "cell_type": "code",
      "source": [
        "x_traincnn.shape, x_testcnn.shape , X_valid.shape\n",
        "#1861"
      ],
      "metadata": {
        "id": "RI0MxoIPBws5",
        "colab": {
          "base_uri": "https://localhost:8080/"
        },
        "outputId": "683d42ce-e9ba-414d-8469-f53fc7c99b1a"
      },
      "execution_count": 6,
      "outputs": [
        {
          "output_type": "execute_result",
          "data": {
            "text/plain": [
              "((1654, 40, 1), (207, 40, 1), (207, 40, 1))"
            ]
          },
          "metadata": {},
          "execution_count": 6
        }
      ]
    },
    {
      "cell_type": "code",
      "source": [
        "import keras\n",
        "import numpy as np\n",
        "import matplotlib.pyplot as plt\n",
        "import tensorflow as tf\n",
        "from keras.preprocessing import sequence\n",
        "from keras.models import Sequential\n",
        "from keras.layers import Dense, Embedding\n",
        "from tensorflow.keras.utils import to_categorical\n",
        "from keras.layers import Input, Flatten, Dropout, Activation\n",
        "from keras.layers import Conv1D, MaxPooling1D\n",
        "from keras.models import Model\n",
        "from keras.callbacks import ModelCheckpoint\n",
        "from tensorflow.keras import optimizers\n",
        "\n",
        "model = Sequential()\n",
        "\n",
        "model.add(Conv1D(128, 8,padding='same', #classifier.add(Convolution2D(64, (3, 3), padding = 'same', input_shape = (128, 128, 3), activation = 'relu'))\n",
        "                 input_shape=(40,1)))\n",
        "model.add(Activation('relu'))\n",
        "model.add(Dropout(0.3))\n",
        "model.add(MaxPooling1D(pool_size=(5)))\n",
        "\n",
        "\n",
        "model.add(Conv1D(256,8,padding='same',))\n",
        "model.add(Activation('relu'))\n",
        "model.add(Dropout(0.3))\n",
        "model.add(MaxPooling1D(pool_size=(5)))\n",
        "\n",
        "model.add(Flatten())\n",
        "\n",
        "model.add(Dense(256))\n",
        "model.add(Activation('relu'))\n",
        "model.add(Dense(256))\n",
        "model.add(Activation('relu'))\n",
        "\n",
        "model.add(Dense(6))\n",
        "model.add(Activation('softmax'))\n",
        "\n",
        "opt = tf.keras.optimizers.RMSprop(lr=0.0002 , decay=0.9)\n",
        "#opt = tf.keras.optimizers.RMSprop(lr=0.0001, rho=0.9, epsilon=1e-07, decay=0.0)\n",
        "#opt = tf.keras.optimizers.SGD(lr=0.001, momentum=0.0, decay=0.0, nesterov=False)"
      ],
      "metadata": {
        "id": "g74fXWVAC4Cr",
        "colab": {
          "base_uri": "https://localhost:8080/"
        },
        "outputId": "1d4acd45-0910-47bb-c33a-4e207539ba15"
      },
      "execution_count": 7,
      "outputs": [
        {
          "output_type": "stream",
          "name": "stderr",
          "text": [
            "/usr/local/lib/python3.7/dist-packages/keras/optimizer_v2/rmsprop.py:130: UserWarning:\n",
            "\n",
            "The `lr` argument is deprecated, use `learning_rate` instead.\n",
            "\n"
          ]
        }
      ]
    },
    {
      "cell_type": "code",
      "source": [
        "model.summary()"
      ],
      "metadata": {
        "colab": {
          "base_uri": "https://localhost:8080/"
        },
        "id": "H6ukOxAGC_I4",
        "outputId": "eb864af8-66a2-4076-a970-a1c574b91ae4"
      },
      "execution_count": 8,
      "outputs": [
        {
          "output_type": "stream",
          "name": "stdout",
          "text": [
            "Model: \"sequential\"\n",
            "_________________________________________________________________\n",
            " Layer (type)                Output Shape              Param #   \n",
            "=================================================================\n",
            " conv1d (Conv1D)             (None, 40, 128)           1152      \n",
            "                                                                 \n",
            " activation (Activation)     (None, 40, 128)           0         \n",
            "                                                                 \n",
            " dropout (Dropout)           (None, 40, 128)           0         \n",
            "                                                                 \n",
            " max_pooling1d (MaxPooling1D  (None, 8, 128)           0         \n",
            " )                                                               \n",
            "                                                                 \n",
            " conv1d_1 (Conv1D)           (None, 8, 256)            262400    \n",
            "                                                                 \n",
            " activation_1 (Activation)   (None, 8, 256)            0         \n",
            "                                                                 \n",
            " dropout_1 (Dropout)         (None, 8, 256)            0         \n",
            "                                                                 \n",
            " max_pooling1d_1 (MaxPooling  (None, 1, 256)           0         \n",
            " 1D)                                                             \n",
            "                                                                 \n",
            " flatten (Flatten)           (None, 256)               0         \n",
            "                                                                 \n",
            " dense (Dense)               (None, 256)               65792     \n",
            "                                                                 \n",
            " activation_2 (Activation)   (None, 256)               0         \n",
            "                                                                 \n",
            " dense_1 (Dense)             (None, 256)               65792     \n",
            "                                                                 \n",
            " activation_3 (Activation)   (None, 256)               0         \n",
            "                                                                 \n",
            " dense_2 (Dense)             (None, 6)                 1542      \n",
            "                                                                 \n",
            " activation_4 (Activation)   (None, 6)                 0         \n",
            "                                                                 \n",
            "=================================================================\n",
            "Total params: 396,678\n",
            "Trainable params: 396,678\n",
            "Non-trainable params: 0\n",
            "_________________________________________________________________\n"
          ]
        }
      ]
    },
    {
      "cell_type": "code",
      "source": [
        "model.compile(loss='sparse_categorical_crossentropy',\n",
        "              optimizer=opt,\n",
        "              metrics=['accuracy'])"
      ],
      "metadata": {
        "id": "AbMlLNk4DCBM"
      },
      "execution_count": 9,
      "outputs": []
    },
    {
      "cell_type": "code",
      "source": [
        "# Create an Instance of Early Stopping Callback.\n",
        "#early_stopping_callback = EarlyStopping(monitor = 'val_loss', patience = 25, mode = 'min', restore_best_weights = True)\n",
        "\n",
        "cnnhistory=model.fit(x_traincnn, y_train, batch_size=16, epochs=500 , #shuffle = True, \n",
        "                     validation_data=(X_valid, y_valid) )#, callbacks = [early_stopping_callback])"
      ],
      "metadata": {
        "colab": {
          "base_uri": "https://localhost:8080/"
        },
        "id": "RI1v2AuADFhy",
        "outputId": "e220db7e-3dad-4f68-f538-f307816d292d"
      },
      "execution_count": 10,
      "outputs": [
        {
          "output_type": "stream",
          "name": "stdout",
          "text": [
            "Epoch 1/500\n",
            "104/104 [==============================] - 4s 7ms/step - loss: 5.5766 - accuracy: 0.1820 - val_loss: 2.1572 - val_accuracy: 0.1787\n",
            "Epoch 2/500\n",
            "104/104 [==============================] - 1s 5ms/step - loss: 5.1896 - accuracy: 0.1874 - val_loss: 2.0860 - val_accuracy: 0.1739\n",
            "Epoch 3/500\n",
            "104/104 [==============================] - 1s 5ms/step - loss: 5.4792 - accuracy: 0.1590 - val_loss: 2.0933 - val_accuracy: 0.1691\n",
            "Epoch 4/500\n",
            "104/104 [==============================] - 1s 5ms/step - loss: 5.0039 - accuracy: 0.1959 - val_loss: 2.0725 - val_accuracy: 0.1643\n",
            "Epoch 5/500\n",
            "104/104 [==============================] - 0s 5ms/step - loss: 5.2697 - accuracy: 0.1753 - val_loss: 2.0684 - val_accuracy: 0.1691\n",
            "Epoch 6/500\n",
            "104/104 [==============================] - 0s 5ms/step - loss: 5.1178 - accuracy: 0.1838 - val_loss: 2.0549 - val_accuracy: 0.1691\n",
            "Epoch 7/500\n",
            "104/104 [==============================] - 0s 5ms/step - loss: 5.1999 - accuracy: 0.1753 - val_loss: 2.0493 - val_accuracy: 0.1643\n",
            "Epoch 8/500\n",
            "104/104 [==============================] - 1s 5ms/step - loss: 5.1400 - accuracy: 0.1965 - val_loss: 2.0443 - val_accuracy: 0.1691\n",
            "Epoch 9/500\n",
            "104/104 [==============================] - 1s 5ms/step - loss: 5.2274 - accuracy: 0.1705 - val_loss: 2.0367 - val_accuracy: 0.1691\n",
            "Epoch 10/500\n",
            "104/104 [==============================] - 0s 4ms/step - loss: 5.0030 - accuracy: 0.1826 - val_loss: 2.0344 - val_accuracy: 0.1691\n",
            "Epoch 11/500\n",
            "104/104 [==============================] - 1s 5ms/step - loss: 5.0372 - accuracy: 0.1808 - val_loss: 2.0310 - val_accuracy: 0.1787\n",
            "Epoch 12/500\n",
            "104/104 [==============================] - 1s 5ms/step - loss: 5.2052 - accuracy: 0.1844 - val_loss: 2.0310 - val_accuracy: 0.1739\n",
            "Epoch 13/500\n",
            "104/104 [==============================] - 0s 5ms/step - loss: 5.1965 - accuracy: 0.1796 - val_loss: 2.0287 - val_accuracy: 0.1787\n",
            "Epoch 14/500\n",
            "104/104 [==============================] - 1s 5ms/step - loss: 4.9632 - accuracy: 0.1759 - val_loss: 2.0273 - val_accuracy: 0.1836\n",
            "Epoch 15/500\n",
            "104/104 [==============================] - 1s 5ms/step - loss: 5.0527 - accuracy: 0.1771 - val_loss: 2.0202 - val_accuracy: 0.1787\n",
            "Epoch 16/500\n",
            "104/104 [==============================] - 0s 5ms/step - loss: 5.0177 - accuracy: 0.1723 - val_loss: 2.0134 - val_accuracy: 0.1739\n",
            "Epoch 17/500\n",
            "104/104 [==============================] - 1s 5ms/step - loss: 5.1345 - accuracy: 0.1880 - val_loss: 2.0120 - val_accuracy: 0.1739\n",
            "Epoch 18/500\n",
            "104/104 [==============================] - 1s 5ms/step - loss: 5.1215 - accuracy: 0.1638 - val_loss: 2.0108 - val_accuracy: 0.1836\n",
            "Epoch 19/500\n",
            "104/104 [==============================] - 1s 5ms/step - loss: 5.0933 - accuracy: 0.1771 - val_loss: 2.0064 - val_accuracy: 0.1836\n",
            "Epoch 20/500\n",
            "104/104 [==============================] - 0s 5ms/step - loss: 5.0394 - accuracy: 0.1759 - val_loss: 2.0012 - val_accuracy: 0.1787\n",
            "Epoch 21/500\n",
            "104/104 [==============================] - 1s 5ms/step - loss: 4.8743 - accuracy: 0.1874 - val_loss: 2.0003 - val_accuracy: 0.1836\n",
            "Epoch 22/500\n",
            "104/104 [==============================] - 0s 5ms/step - loss: 5.0214 - accuracy: 0.1747 - val_loss: 2.0009 - val_accuracy: 0.1836\n",
            "Epoch 23/500\n",
            "104/104 [==============================] - 0s 5ms/step - loss: 5.0965 - accuracy: 0.1632 - val_loss: 2.0005 - val_accuracy: 0.1836\n",
            "Epoch 24/500\n",
            "104/104 [==============================] - 0s 5ms/step - loss: 5.1527 - accuracy: 0.1886 - val_loss: 1.9993 - val_accuracy: 0.1836\n",
            "Epoch 25/500\n",
            "104/104 [==============================] - 1s 5ms/step - loss: 5.1891 - accuracy: 0.1729 - val_loss: 2.0006 - val_accuracy: 0.1932\n",
            "Epoch 26/500\n",
            "104/104 [==============================] - 0s 5ms/step - loss: 5.0438 - accuracy: 0.1765 - val_loss: 2.0018 - val_accuracy: 0.1932\n",
            "Epoch 27/500\n",
            "104/104 [==============================] - 1s 5ms/step - loss: 5.0285 - accuracy: 0.1886 - val_loss: 2.0005 - val_accuracy: 0.1932\n",
            "Epoch 28/500\n",
            "104/104 [==============================] - 1s 5ms/step - loss: 5.1700 - accuracy: 0.1657 - val_loss: 1.9989 - val_accuracy: 0.1884\n",
            "Epoch 29/500\n",
            "104/104 [==============================] - 0s 5ms/step - loss: 4.9948 - accuracy: 0.1681 - val_loss: 1.9957 - val_accuracy: 0.1932\n",
            "Epoch 30/500\n",
            "104/104 [==============================] - 0s 5ms/step - loss: 4.8655 - accuracy: 0.1911 - val_loss: 1.9949 - val_accuracy: 0.1932\n",
            "Epoch 31/500\n",
            "104/104 [==============================] - 1s 5ms/step - loss: 5.1310 - accuracy: 0.1862 - val_loss: 1.9934 - val_accuracy: 0.1932\n",
            "Epoch 32/500\n",
            "104/104 [==============================] - 1s 5ms/step - loss: 4.9169 - accuracy: 0.1832 - val_loss: 1.9931 - val_accuracy: 0.1932\n",
            "Epoch 33/500\n",
            "104/104 [==============================] - 0s 5ms/step - loss: 5.1074 - accuracy: 0.1669 - val_loss: 1.9928 - val_accuracy: 0.1981\n",
            "Epoch 34/500\n",
            "104/104 [==============================] - 0s 5ms/step - loss: 5.1607 - accuracy: 0.1717 - val_loss: 1.9930 - val_accuracy: 0.1932\n",
            "Epoch 35/500\n",
            "104/104 [==============================] - 0s 5ms/step - loss: 5.0001 - accuracy: 0.1771 - val_loss: 1.9929 - val_accuracy: 0.1981\n",
            "Epoch 36/500\n",
            "104/104 [==============================] - 1s 5ms/step - loss: 4.9032 - accuracy: 0.1868 - val_loss: 1.9928 - val_accuracy: 0.1932\n",
            "Epoch 37/500\n",
            "104/104 [==============================] - 0s 5ms/step - loss: 5.1702 - accuracy: 0.1669 - val_loss: 1.9904 - val_accuracy: 0.1932\n",
            "Epoch 38/500\n",
            "104/104 [==============================] - 1s 5ms/step - loss: 5.1363 - accuracy: 0.1536 - val_loss: 1.9899 - val_accuracy: 0.1932\n",
            "Epoch 39/500\n",
            "104/104 [==============================] - 0s 5ms/step - loss: 4.8975 - accuracy: 0.1898 - val_loss: 1.9884 - val_accuracy: 0.1932\n",
            "Epoch 40/500\n",
            "104/104 [==============================] - 0s 4ms/step - loss: 4.8613 - accuracy: 0.1868 - val_loss: 1.9878 - val_accuracy: 0.1932\n",
            "Epoch 41/500\n",
            "104/104 [==============================] - 1s 5ms/step - loss: 5.0586 - accuracy: 0.1880 - val_loss: 1.9868 - val_accuracy: 0.1932\n",
            "Epoch 42/500\n",
            "104/104 [==============================] - 1s 5ms/step - loss: 5.0941 - accuracy: 0.1657 - val_loss: 1.9870 - val_accuracy: 0.1932\n",
            "Epoch 43/500\n",
            "104/104 [==============================] - 1s 5ms/step - loss: 4.9786 - accuracy: 0.1814 - val_loss: 1.9845 - val_accuracy: 0.1932\n",
            "Epoch 44/500\n",
            "104/104 [==============================] - 0s 5ms/step - loss: 5.0313 - accuracy: 0.1657 - val_loss: 1.9832 - val_accuracy: 0.1981\n",
            "Epoch 45/500\n",
            "104/104 [==============================] - 0s 5ms/step - loss: 4.9508 - accuracy: 0.1935 - val_loss: 1.9831 - val_accuracy: 0.2029\n",
            "Epoch 46/500\n",
            "104/104 [==============================] - 0s 5ms/step - loss: 5.0471 - accuracy: 0.1838 - val_loss: 1.9839 - val_accuracy: 0.2029\n",
            "Epoch 47/500\n",
            "104/104 [==============================] - 1s 9ms/step - loss: 5.0257 - accuracy: 0.1814 - val_loss: 1.9826 - val_accuracy: 0.1981\n",
            "Epoch 48/500\n",
            "104/104 [==============================] - 1s 7ms/step - loss: 5.1175 - accuracy: 0.1669 - val_loss: 1.9821 - val_accuracy: 0.1981\n",
            "Epoch 49/500\n",
            "104/104 [==============================] - 1s 10ms/step - loss: 5.0050 - accuracy: 0.1844 - val_loss: 1.9814 - val_accuracy: 0.2029\n",
            "Epoch 50/500\n",
            "104/104 [==============================] - 1s 7ms/step - loss: 4.8962 - accuracy: 0.1898 - val_loss: 1.9797 - val_accuracy: 0.2029\n",
            "Epoch 51/500\n",
            "104/104 [==============================] - 1s 9ms/step - loss: 4.9516 - accuracy: 0.1675 - val_loss: 1.9794 - val_accuracy: 0.2029\n",
            "Epoch 52/500\n",
            "104/104 [==============================] - 1s 6ms/step - loss: 4.8503 - accuracy: 0.1796 - val_loss: 1.9798 - val_accuracy: 0.2029\n",
            "Epoch 53/500\n",
            "104/104 [==============================] - 1s 5ms/step - loss: 4.9372 - accuracy: 0.1808 - val_loss: 1.9791 - val_accuracy: 0.2029\n",
            "Epoch 54/500\n",
            "104/104 [==============================] - 0s 5ms/step - loss: 5.0867 - accuracy: 0.1663 - val_loss: 1.9800 - val_accuracy: 0.1981\n",
            "Epoch 55/500\n",
            "104/104 [==============================] - 0s 5ms/step - loss: 5.0239 - accuracy: 0.1802 - val_loss: 1.9795 - val_accuracy: 0.2029\n",
            "Epoch 56/500\n",
            "104/104 [==============================] - 1s 5ms/step - loss: 4.8099 - accuracy: 0.1862 - val_loss: 1.9779 - val_accuracy: 0.1981\n",
            "Epoch 57/500\n",
            "104/104 [==============================] - 1s 5ms/step - loss: 5.0921 - accuracy: 0.1681 - val_loss: 1.9759 - val_accuracy: 0.1981\n",
            "Epoch 58/500\n",
            "104/104 [==============================] - 1s 5ms/step - loss: 4.9393 - accuracy: 0.1814 - val_loss: 1.9742 - val_accuracy: 0.1981\n",
            "Epoch 59/500\n",
            "104/104 [==============================] - 0s 5ms/step - loss: 4.9767 - accuracy: 0.1765 - val_loss: 1.9733 - val_accuracy: 0.1981\n",
            "Epoch 60/500\n",
            "104/104 [==============================] - 0s 5ms/step - loss: 5.0095 - accuracy: 0.1844 - val_loss: 1.9734 - val_accuracy: 0.1981\n",
            "Epoch 61/500\n",
            "104/104 [==============================] - 0s 5ms/step - loss: 5.0659 - accuracy: 0.1572 - val_loss: 1.9735 - val_accuracy: 0.1932\n",
            "Epoch 62/500\n",
            "104/104 [==============================] - 0s 5ms/step - loss: 4.8724 - accuracy: 0.1723 - val_loss: 1.9728 - val_accuracy: 0.1932\n",
            "Epoch 63/500\n",
            "104/104 [==============================] - 0s 5ms/step - loss: 5.1197 - accuracy: 0.1669 - val_loss: 1.9724 - val_accuracy: 0.1981\n",
            "Epoch 64/500\n",
            "104/104 [==============================] - 1s 5ms/step - loss: 4.9170 - accuracy: 0.1874 - val_loss: 1.9727 - val_accuracy: 0.1932\n",
            "Epoch 65/500\n",
            "104/104 [==============================] - 1s 5ms/step - loss: 4.9820 - accuracy: 0.1657 - val_loss: 1.9731 - val_accuracy: 0.1981\n",
            "Epoch 66/500\n",
            "104/104 [==============================] - 0s 4ms/step - loss: 4.9700 - accuracy: 0.1844 - val_loss: 1.9728 - val_accuracy: 0.1981\n",
            "Epoch 67/500\n",
            "104/104 [==============================] - 0s 5ms/step - loss: 4.8769 - accuracy: 0.1838 - val_loss: 1.9721 - val_accuracy: 0.1981\n",
            "Epoch 68/500\n",
            "104/104 [==============================] - 1s 5ms/step - loss: 4.9439 - accuracy: 0.1717 - val_loss: 1.9721 - val_accuracy: 0.1981\n",
            "Epoch 69/500\n",
            "104/104 [==============================] - 0s 5ms/step - loss: 5.0310 - accuracy: 0.1638 - val_loss: 1.9709 - val_accuracy: 0.1932\n",
            "Epoch 70/500\n",
            "104/104 [==============================] - 0s 5ms/step - loss: 4.8942 - accuracy: 0.1753 - val_loss: 1.9697 - val_accuracy: 0.1981\n",
            "Epoch 71/500\n",
            "104/104 [==============================] - 1s 5ms/step - loss: 4.9025 - accuracy: 0.1699 - val_loss: 1.9694 - val_accuracy: 0.1981\n",
            "Epoch 72/500\n",
            "104/104 [==============================] - 0s 5ms/step - loss: 4.8699 - accuracy: 0.1784 - val_loss: 1.9692 - val_accuracy: 0.1981\n",
            "Epoch 73/500\n",
            "104/104 [==============================] - 0s 5ms/step - loss: 4.9740 - accuracy: 0.1796 - val_loss: 1.9692 - val_accuracy: 0.1932\n",
            "Epoch 74/500\n",
            "104/104 [==============================] - 1s 5ms/step - loss: 4.8234 - accuracy: 0.1723 - val_loss: 1.9693 - val_accuracy: 0.1932\n",
            "Epoch 75/500\n",
            "104/104 [==============================] - 0s 5ms/step - loss: 5.0850 - accuracy: 0.1741 - val_loss: 1.9685 - val_accuracy: 0.1932\n",
            "Epoch 76/500\n",
            "104/104 [==============================] - 1s 5ms/step - loss: 4.9410 - accuracy: 0.1663 - val_loss: 1.9678 - val_accuracy: 0.1932\n",
            "Epoch 77/500\n",
            "104/104 [==============================] - 1s 5ms/step - loss: 4.9933 - accuracy: 0.1729 - val_loss: 1.9672 - val_accuracy: 0.1981\n",
            "Epoch 78/500\n",
            "104/104 [==============================] - 1s 5ms/step - loss: 4.7935 - accuracy: 0.1935 - val_loss: 1.9672 - val_accuracy: 0.1981\n",
            "Epoch 79/500\n",
            "104/104 [==============================] - 1s 5ms/step - loss: 5.0079 - accuracy: 0.1741 - val_loss: 1.9671 - val_accuracy: 0.1932\n",
            "Epoch 80/500\n",
            "104/104 [==============================] - 1s 5ms/step - loss: 4.9618 - accuracy: 0.1802 - val_loss: 1.9668 - val_accuracy: 0.1981\n",
            "Epoch 81/500\n",
            "104/104 [==============================] - 1s 5ms/step - loss: 4.8845 - accuracy: 0.1880 - val_loss: 1.9663 - val_accuracy: 0.1981\n",
            "Epoch 82/500\n",
            "104/104 [==============================] - 1s 5ms/step - loss: 4.7513 - accuracy: 0.1826 - val_loss: 1.9668 - val_accuracy: 0.1981\n",
            "Epoch 83/500\n",
            "104/104 [==============================] - 1s 5ms/step - loss: 5.0109 - accuracy: 0.1723 - val_loss: 1.9663 - val_accuracy: 0.1981\n",
            "Epoch 84/500\n",
            "104/104 [==============================] - 0s 5ms/step - loss: 4.9318 - accuracy: 0.1874 - val_loss: 1.9657 - val_accuracy: 0.2029\n",
            "Epoch 85/500\n",
            "104/104 [==============================] - 1s 5ms/step - loss: 4.9378 - accuracy: 0.1814 - val_loss: 1.9651 - val_accuracy: 0.1981\n",
            "Epoch 86/500\n",
            "104/104 [==============================] - 1s 5ms/step - loss: 4.7979 - accuracy: 0.1868 - val_loss: 1.9646 - val_accuracy: 0.1981\n",
            "Epoch 87/500\n",
            "104/104 [==============================] - 1s 5ms/step - loss: 5.0319 - accuracy: 0.1741 - val_loss: 1.9640 - val_accuracy: 0.1981\n",
            "Epoch 88/500\n",
            "104/104 [==============================] - 0s 5ms/step - loss: 4.9886 - accuracy: 0.1759 - val_loss: 1.9639 - val_accuracy: 0.1981\n",
            "Epoch 89/500\n",
            "104/104 [==============================] - 0s 5ms/step - loss: 4.9852 - accuracy: 0.1681 - val_loss: 1.9635 - val_accuracy: 0.1981\n",
            "Epoch 90/500\n",
            "104/104 [==============================] - 0s 5ms/step - loss: 4.9453 - accuracy: 0.1838 - val_loss: 1.9633 - val_accuracy: 0.1981\n",
            "Epoch 91/500\n",
            "104/104 [==============================] - 1s 5ms/step - loss: 4.8444 - accuracy: 0.1892 - val_loss: 1.9626 - val_accuracy: 0.1981\n",
            "Epoch 92/500\n",
            "104/104 [==============================] - 0s 5ms/step - loss: 5.0640 - accuracy: 0.1850 - val_loss: 1.9624 - val_accuracy: 0.1981\n",
            "Epoch 93/500\n",
            "104/104 [==============================] - 1s 5ms/step - loss: 4.9825 - accuracy: 0.1705 - val_loss: 1.9616 - val_accuracy: 0.1981\n",
            "Epoch 94/500\n",
            "104/104 [==============================] - 1s 5ms/step - loss: 4.9093 - accuracy: 0.1971 - val_loss: 1.9613 - val_accuracy: 0.1981\n",
            "Epoch 95/500\n",
            "104/104 [==============================] - 1s 5ms/step - loss: 4.9683 - accuracy: 0.1784 - val_loss: 1.9603 - val_accuracy: 0.1981\n",
            "Epoch 96/500\n",
            "104/104 [==============================] - 1s 5ms/step - loss: 4.8782 - accuracy: 0.1898 - val_loss: 1.9599 - val_accuracy: 0.1981\n",
            "Epoch 97/500\n",
            "104/104 [==============================] - 0s 5ms/step - loss: 4.8966 - accuracy: 0.1977 - val_loss: 1.9600 - val_accuracy: 0.1981\n",
            "Epoch 98/500\n",
            "104/104 [==============================] - 0s 5ms/step - loss: 4.8505 - accuracy: 0.1784 - val_loss: 1.9598 - val_accuracy: 0.2029\n",
            "Epoch 99/500\n",
            "104/104 [==============================] - 1s 5ms/step - loss: 4.8848 - accuracy: 0.1784 - val_loss: 1.9593 - val_accuracy: 0.2029\n",
            "Epoch 100/500\n",
            "104/104 [==============================] - 0s 5ms/step - loss: 5.1500 - accuracy: 0.1856 - val_loss: 1.9595 - val_accuracy: 0.2029\n",
            "Epoch 101/500\n",
            "104/104 [==============================] - 1s 5ms/step - loss: 4.9377 - accuracy: 0.1874 - val_loss: 1.9593 - val_accuracy: 0.2029\n",
            "Epoch 102/500\n",
            "104/104 [==============================] - 1s 5ms/step - loss: 4.8897 - accuracy: 0.1856 - val_loss: 1.9593 - val_accuracy: 0.2029\n",
            "Epoch 103/500\n",
            "104/104 [==============================] - 0s 5ms/step - loss: 4.9454 - accuracy: 0.1747 - val_loss: 1.9592 - val_accuracy: 0.2029\n",
            "Epoch 104/500\n",
            "104/104 [==============================] - 1s 5ms/step - loss: 4.8413 - accuracy: 0.1820 - val_loss: 1.9591 - val_accuracy: 0.2029\n",
            "Epoch 105/500\n",
            "104/104 [==============================] - 1s 5ms/step - loss: 4.9979 - accuracy: 0.1717 - val_loss: 1.9587 - val_accuracy: 0.2029\n",
            "Epoch 106/500\n",
            "104/104 [==============================] - 0s 5ms/step - loss: 4.9006 - accuracy: 0.1868 - val_loss: 1.9588 - val_accuracy: 0.2029\n",
            "Epoch 107/500\n",
            "104/104 [==============================] - 1s 5ms/step - loss: 4.8614 - accuracy: 0.1711 - val_loss: 1.9588 - val_accuracy: 0.2029\n",
            "Epoch 108/500\n",
            "104/104 [==============================] - 1s 5ms/step - loss: 4.6311 - accuracy: 0.1923 - val_loss: 1.9589 - val_accuracy: 0.2029\n",
            "Epoch 109/500\n",
            "104/104 [==============================] - 1s 5ms/step - loss: 4.8569 - accuracy: 0.1904 - val_loss: 1.9585 - val_accuracy: 0.2029\n",
            "Epoch 110/500\n",
            "104/104 [==============================] - 0s 5ms/step - loss: 5.0212 - accuracy: 0.1590 - val_loss: 1.9579 - val_accuracy: 0.2029\n",
            "Epoch 111/500\n",
            "104/104 [==============================] - 1s 5ms/step - loss: 4.8001 - accuracy: 0.1850 - val_loss: 1.9574 - val_accuracy: 0.2029\n",
            "Epoch 112/500\n",
            "104/104 [==============================] - 0s 5ms/step - loss: 5.0338 - accuracy: 0.1675 - val_loss: 1.9573 - val_accuracy: 0.2029\n",
            "Epoch 113/500\n",
            "104/104 [==============================] - 1s 5ms/step - loss: 4.7309 - accuracy: 0.1947 - val_loss: 1.9573 - val_accuracy: 0.2029\n",
            "Epoch 114/500\n",
            "104/104 [==============================] - 0s 4ms/step - loss: 4.9313 - accuracy: 0.1917 - val_loss: 1.9571 - val_accuracy: 0.2029\n",
            "Epoch 115/500\n",
            "104/104 [==============================] - 0s 5ms/step - loss: 4.8924 - accuracy: 0.1717 - val_loss: 1.9568 - val_accuracy: 0.2029\n",
            "Epoch 116/500\n",
            "104/104 [==============================] - 1s 5ms/step - loss: 4.7137 - accuracy: 0.1735 - val_loss: 1.9560 - val_accuracy: 0.2029\n",
            "Epoch 117/500\n",
            "104/104 [==============================] - 1s 5ms/step - loss: 4.9329 - accuracy: 0.1723 - val_loss: 1.9557 - val_accuracy: 0.2029\n",
            "Epoch 118/500\n",
            "104/104 [==============================] - 1s 5ms/step - loss: 4.8182 - accuracy: 0.1784 - val_loss: 1.9553 - val_accuracy: 0.2029\n",
            "Epoch 119/500\n",
            "104/104 [==============================] - 1s 5ms/step - loss: 4.8904 - accuracy: 0.1741 - val_loss: 1.9546 - val_accuracy: 0.2029\n",
            "Epoch 120/500\n",
            "104/104 [==============================] - 1s 5ms/step - loss: 4.7460 - accuracy: 0.1874 - val_loss: 1.9544 - val_accuracy: 0.2029\n",
            "Epoch 121/500\n",
            "104/104 [==============================] - 1s 5ms/step - loss: 4.9672 - accuracy: 0.1741 - val_loss: 1.9547 - val_accuracy: 0.2029\n",
            "Epoch 122/500\n",
            "104/104 [==============================] - 1s 5ms/step - loss: 5.0106 - accuracy: 0.1723 - val_loss: 1.9548 - val_accuracy: 0.2029\n",
            "Epoch 123/500\n",
            "104/104 [==============================] - 1s 5ms/step - loss: 4.7794 - accuracy: 0.1820 - val_loss: 1.9543 - val_accuracy: 0.2029\n",
            "Epoch 124/500\n",
            "104/104 [==============================] - 1s 5ms/step - loss: 4.8130 - accuracy: 0.1898 - val_loss: 1.9541 - val_accuracy: 0.2029\n",
            "Epoch 125/500\n",
            "104/104 [==============================] - 1s 5ms/step - loss: 4.7766 - accuracy: 0.1953 - val_loss: 1.9536 - val_accuracy: 0.2029\n",
            "Epoch 126/500\n",
            "104/104 [==============================] - 1s 5ms/step - loss: 4.8031 - accuracy: 0.1892 - val_loss: 1.9535 - val_accuracy: 0.2029\n",
            "Epoch 127/500\n",
            "104/104 [==============================] - 0s 5ms/step - loss: 4.9973 - accuracy: 0.1717 - val_loss: 1.9533 - val_accuracy: 0.2029\n",
            "Epoch 128/500\n",
            "104/104 [==============================] - 0s 5ms/step - loss: 5.0270 - accuracy: 0.1663 - val_loss: 1.9532 - val_accuracy: 0.2029\n",
            "Epoch 129/500\n",
            "104/104 [==============================] - 0s 5ms/step - loss: 5.0078 - accuracy: 0.1566 - val_loss: 1.9529 - val_accuracy: 0.2029\n",
            "Epoch 130/500\n",
            "104/104 [==============================] - 0s 5ms/step - loss: 4.8831 - accuracy: 0.1784 - val_loss: 1.9526 - val_accuracy: 0.2029\n",
            "Epoch 131/500\n",
            "104/104 [==============================] - 1s 5ms/step - loss: 4.9157 - accuracy: 0.1862 - val_loss: 1.9527 - val_accuracy: 0.2029\n",
            "Epoch 132/500\n",
            "104/104 [==============================] - 1s 5ms/step - loss: 4.8066 - accuracy: 0.1850 - val_loss: 1.9530 - val_accuracy: 0.2029\n",
            "Epoch 133/500\n",
            "104/104 [==============================] - 1s 5ms/step - loss: 4.9483 - accuracy: 0.1663 - val_loss: 1.9526 - val_accuracy: 0.2029\n",
            "Epoch 134/500\n",
            "104/104 [==============================] - 0s 5ms/step - loss: 4.9451 - accuracy: 0.1699 - val_loss: 1.9526 - val_accuracy: 0.2029\n",
            "Epoch 135/500\n",
            "104/104 [==============================] - 1s 5ms/step - loss: 4.8239 - accuracy: 0.1856 - val_loss: 1.9514 - val_accuracy: 0.2029\n",
            "Epoch 136/500\n",
            "104/104 [==============================] - 1s 5ms/step - loss: 4.8620 - accuracy: 0.1590 - val_loss: 1.9511 - val_accuracy: 0.2029\n",
            "Epoch 137/500\n",
            "104/104 [==============================] - 1s 5ms/step - loss: 4.8775 - accuracy: 0.1765 - val_loss: 1.9505 - val_accuracy: 0.2029\n",
            "Epoch 138/500\n",
            "104/104 [==============================] - 0s 5ms/step - loss: 4.8698 - accuracy: 0.1856 - val_loss: 1.9501 - val_accuracy: 0.2029\n",
            "Epoch 139/500\n",
            "104/104 [==============================] - 1s 5ms/step - loss: 4.9754 - accuracy: 0.1705 - val_loss: 1.9502 - val_accuracy: 0.2029\n",
            "Epoch 140/500\n",
            "104/104 [==============================] - 0s 5ms/step - loss: 4.8438 - accuracy: 0.1868 - val_loss: 1.9502 - val_accuracy: 0.2029\n",
            "Epoch 141/500\n",
            "104/104 [==============================] - 1s 5ms/step - loss: 4.9635 - accuracy: 0.1747 - val_loss: 1.9495 - val_accuracy: 0.2029\n",
            "Epoch 142/500\n",
            "104/104 [==============================] - 0s 5ms/step - loss: 4.9941 - accuracy: 0.1717 - val_loss: 1.9495 - val_accuracy: 0.2029\n",
            "Epoch 143/500\n",
            "104/104 [==============================] - 0s 5ms/step - loss: 4.8323 - accuracy: 0.1844 - val_loss: 1.9495 - val_accuracy: 0.2029\n",
            "Epoch 144/500\n",
            "104/104 [==============================] - 1s 5ms/step - loss: 4.6617 - accuracy: 0.1838 - val_loss: 1.9489 - val_accuracy: 0.2029\n",
            "Epoch 145/500\n",
            "104/104 [==============================] - 1s 5ms/step - loss: 5.0732 - accuracy: 0.1644 - val_loss: 1.9487 - val_accuracy: 0.2029\n",
            "Epoch 146/500\n",
            "104/104 [==============================] - 1s 5ms/step - loss: 4.8358 - accuracy: 0.1699 - val_loss: 1.9490 - val_accuracy: 0.2029\n",
            "Epoch 147/500\n",
            "104/104 [==============================] - 1s 5ms/step - loss: 5.0143 - accuracy: 0.1753 - val_loss: 1.9487 - val_accuracy: 0.2029\n",
            "Epoch 148/500\n",
            "104/104 [==============================] - 0s 5ms/step - loss: 4.7913 - accuracy: 0.1953 - val_loss: 1.9490 - val_accuracy: 0.2029\n",
            "Epoch 149/500\n",
            "104/104 [==============================] - 1s 5ms/step - loss: 4.8473 - accuracy: 0.1796 - val_loss: 1.9483 - val_accuracy: 0.2029\n",
            "Epoch 150/500\n",
            "104/104 [==============================] - 1s 5ms/step - loss: 4.8237 - accuracy: 0.1741 - val_loss: 1.9482 - val_accuracy: 0.2029\n",
            "Epoch 151/500\n",
            "104/104 [==============================] - 1s 5ms/step - loss: 4.8937 - accuracy: 0.1741 - val_loss: 1.9480 - val_accuracy: 0.2029\n",
            "Epoch 152/500\n",
            "104/104 [==============================] - 1s 5ms/step - loss: 4.8754 - accuracy: 0.1844 - val_loss: 1.9479 - val_accuracy: 0.2029\n",
            "Epoch 153/500\n",
            "104/104 [==============================] - 0s 5ms/step - loss: 4.8269 - accuracy: 0.1868 - val_loss: 1.9478 - val_accuracy: 0.2029\n",
            "Epoch 154/500\n",
            "104/104 [==============================] - 0s 5ms/step - loss: 4.9129 - accuracy: 0.1723 - val_loss: 1.9477 - val_accuracy: 0.2029\n",
            "Epoch 155/500\n",
            "104/104 [==============================] - 1s 5ms/step - loss: 4.8095 - accuracy: 0.1802 - val_loss: 1.9475 - val_accuracy: 0.2029\n",
            "Epoch 156/500\n",
            "104/104 [==============================] - 0s 5ms/step - loss: 4.7771 - accuracy: 0.1796 - val_loss: 1.9473 - val_accuracy: 0.2029\n",
            "Epoch 157/500\n",
            "104/104 [==============================] - 0s 5ms/step - loss: 4.9198 - accuracy: 0.1747 - val_loss: 1.9473 - val_accuracy: 0.2029\n",
            "Epoch 158/500\n",
            "104/104 [==============================] - 1s 5ms/step - loss: 5.0010 - accuracy: 0.1790 - val_loss: 1.9470 - val_accuracy: 0.2029\n",
            "Epoch 159/500\n",
            "104/104 [==============================] - 0s 5ms/step - loss: 4.7341 - accuracy: 0.1790 - val_loss: 1.9467 - val_accuracy: 0.2029\n",
            "Epoch 160/500\n",
            "104/104 [==============================] - 1s 5ms/step - loss: 4.7640 - accuracy: 0.1947 - val_loss: 1.9464 - val_accuracy: 0.2029\n",
            "Epoch 161/500\n",
            "104/104 [==============================] - 0s 5ms/step - loss: 5.0540 - accuracy: 0.1487 - val_loss: 1.9462 - val_accuracy: 0.2029\n",
            "Epoch 162/500\n",
            "104/104 [==============================] - 1s 5ms/step - loss: 4.8142 - accuracy: 0.1784 - val_loss: 1.9457 - val_accuracy: 0.2029\n",
            "Epoch 163/500\n",
            "104/104 [==============================] - 0s 5ms/step - loss: 4.8168 - accuracy: 0.1778 - val_loss: 1.9455 - val_accuracy: 0.2029\n",
            "Epoch 164/500\n",
            "104/104 [==============================] - 1s 5ms/step - loss: 4.9320 - accuracy: 0.1717 - val_loss: 1.9452 - val_accuracy: 0.2029\n",
            "Epoch 165/500\n",
            "104/104 [==============================] - 1s 5ms/step - loss: 4.8057 - accuracy: 0.1711 - val_loss: 1.9450 - val_accuracy: 0.2029\n",
            "Epoch 166/500\n",
            "104/104 [==============================] - 0s 5ms/step - loss: 4.9475 - accuracy: 0.1856 - val_loss: 1.9450 - val_accuracy: 0.2029\n",
            "Epoch 167/500\n",
            "104/104 [==============================] - 1s 5ms/step - loss: 4.9467 - accuracy: 0.1765 - val_loss: 1.9447 - val_accuracy: 0.2029\n",
            "Epoch 168/500\n",
            "104/104 [==============================] - 1s 5ms/step - loss: 4.9495 - accuracy: 0.1874 - val_loss: 1.9446 - val_accuracy: 0.2029\n",
            "Epoch 169/500\n",
            "104/104 [==============================] - 0s 5ms/step - loss: 4.9410 - accuracy: 0.1596 - val_loss: 1.9445 - val_accuracy: 0.2029\n",
            "Epoch 170/500\n",
            "104/104 [==============================] - 1s 5ms/step - loss: 4.9159 - accuracy: 0.1802 - val_loss: 1.9446 - val_accuracy: 0.2029\n",
            "Epoch 171/500\n",
            "104/104 [==============================] - 0s 5ms/step - loss: 5.0177 - accuracy: 0.1741 - val_loss: 1.9446 - val_accuracy: 0.2029\n",
            "Epoch 172/500\n",
            "104/104 [==============================] - 0s 5ms/step - loss: 5.0036 - accuracy: 0.1735 - val_loss: 1.9446 - val_accuracy: 0.2029\n",
            "Epoch 173/500\n",
            "104/104 [==============================] - 0s 5ms/step - loss: 4.8504 - accuracy: 0.1693 - val_loss: 1.9447 - val_accuracy: 0.2029\n",
            "Epoch 174/500\n",
            "104/104 [==============================] - 1s 5ms/step - loss: 4.9760 - accuracy: 0.1711 - val_loss: 1.9447 - val_accuracy: 0.2029\n",
            "Epoch 175/500\n",
            "104/104 [==============================] - 0s 5ms/step - loss: 4.8302 - accuracy: 0.1729 - val_loss: 1.9447 - val_accuracy: 0.2029\n",
            "Epoch 176/500\n",
            "104/104 [==============================] - 1s 5ms/step - loss: 4.6652 - accuracy: 0.2050 - val_loss: 1.9444 - val_accuracy: 0.2029\n",
            "Epoch 177/500\n",
            "104/104 [==============================] - 1s 5ms/step - loss: 4.9861 - accuracy: 0.1796 - val_loss: 1.9443 - val_accuracy: 0.2029\n",
            "Epoch 178/500\n",
            "104/104 [==============================] - 0s 5ms/step - loss: 4.7737 - accuracy: 0.1929 - val_loss: 1.9438 - val_accuracy: 0.2029\n",
            "Epoch 179/500\n",
            "104/104 [==============================] - 0s 5ms/step - loss: 4.8101 - accuracy: 0.1832 - val_loss: 1.9436 - val_accuracy: 0.2029\n",
            "Epoch 180/500\n",
            "104/104 [==============================] - 0s 5ms/step - loss: 4.8147 - accuracy: 0.1796 - val_loss: 1.9433 - val_accuracy: 0.2029\n",
            "Epoch 181/500\n",
            "104/104 [==============================] - 0s 5ms/step - loss: 4.7895 - accuracy: 0.1880 - val_loss: 1.9428 - val_accuracy: 0.2029\n",
            "Epoch 182/500\n",
            "104/104 [==============================] - 1s 5ms/step - loss: 4.7493 - accuracy: 0.1886 - val_loss: 1.9427 - val_accuracy: 0.2029\n",
            "Epoch 183/500\n",
            "104/104 [==============================] - 1s 5ms/step - loss: 4.7324 - accuracy: 0.1880 - val_loss: 1.9423 - val_accuracy: 0.2029\n",
            "Epoch 184/500\n",
            "104/104 [==============================] - 1s 5ms/step - loss: 4.9477 - accuracy: 0.1717 - val_loss: 1.9422 - val_accuracy: 0.2029\n",
            "Epoch 185/500\n",
            "104/104 [==============================] - 1s 5ms/step - loss: 4.7779 - accuracy: 0.1832 - val_loss: 1.9420 - val_accuracy: 0.2029\n",
            "Epoch 186/500\n",
            "104/104 [==============================] - 1s 5ms/step - loss: 4.8673 - accuracy: 0.1850 - val_loss: 1.9418 - val_accuracy: 0.2029\n",
            "Epoch 187/500\n",
            "104/104 [==============================] - 0s 5ms/step - loss: 4.8882 - accuracy: 0.1784 - val_loss: 1.9417 - val_accuracy: 0.2029\n",
            "Epoch 188/500\n",
            "104/104 [==============================] - 0s 5ms/step - loss: 4.8144 - accuracy: 0.1790 - val_loss: 1.9415 - val_accuracy: 0.2029\n",
            "Epoch 189/500\n",
            "104/104 [==============================] - 0s 5ms/step - loss: 4.9386 - accuracy: 0.1959 - val_loss: 1.9414 - val_accuracy: 0.2029\n",
            "Epoch 190/500\n",
            "104/104 [==============================] - 0s 5ms/step - loss: 4.7923 - accuracy: 0.1802 - val_loss: 1.9411 - val_accuracy: 0.2029\n",
            "Epoch 191/500\n",
            "104/104 [==============================] - 0s 5ms/step - loss: 4.7962 - accuracy: 0.1868 - val_loss: 1.9410 - val_accuracy: 0.2029\n",
            "Epoch 192/500\n",
            "104/104 [==============================] - 1s 5ms/step - loss: 4.7185 - accuracy: 0.1796 - val_loss: 1.9409 - val_accuracy: 0.2029\n",
            "Epoch 193/500\n",
            "104/104 [==============================] - 1s 5ms/step - loss: 4.8785 - accuracy: 0.1850 - val_loss: 1.9410 - val_accuracy: 0.2029\n",
            "Epoch 194/500\n",
            "104/104 [==============================] - 0s 5ms/step - loss: 4.8775 - accuracy: 0.1638 - val_loss: 1.9411 - val_accuracy: 0.2029\n",
            "Epoch 195/500\n",
            "104/104 [==============================] - 1s 5ms/step - loss: 4.7229 - accuracy: 0.1850 - val_loss: 1.9408 - val_accuracy: 0.2029\n",
            "Epoch 196/500\n",
            "104/104 [==============================] - 1s 5ms/step - loss: 4.9463 - accuracy: 0.1784 - val_loss: 1.9405 - val_accuracy: 0.2029\n",
            "Epoch 197/500\n",
            "104/104 [==============================] - 1s 5ms/step - loss: 4.9303 - accuracy: 0.1669 - val_loss: 1.9403 - val_accuracy: 0.2029\n",
            "Epoch 198/500\n",
            "104/104 [==============================] - 0s 5ms/step - loss: 4.9982 - accuracy: 0.1929 - val_loss: 1.9402 - val_accuracy: 0.2029\n",
            "Epoch 199/500\n",
            "104/104 [==============================] - 1s 5ms/step - loss: 4.8540 - accuracy: 0.1784 - val_loss: 1.9401 - val_accuracy: 0.2029\n",
            "Epoch 200/500\n",
            "104/104 [==============================] - 0s 5ms/step - loss: 4.7491 - accuracy: 0.1935 - val_loss: 1.9395 - val_accuracy: 0.2029\n",
            "Epoch 201/500\n",
            "104/104 [==============================] - 1s 5ms/step - loss: 4.8034 - accuracy: 0.1778 - val_loss: 1.9396 - val_accuracy: 0.2029\n",
            "Epoch 202/500\n",
            "104/104 [==============================] - 1s 5ms/step - loss: 4.8419 - accuracy: 0.1838 - val_loss: 1.9394 - val_accuracy: 0.2029\n",
            "Epoch 203/500\n",
            "104/104 [==============================] - 1s 5ms/step - loss: 4.7966 - accuracy: 0.1802 - val_loss: 1.9393 - val_accuracy: 0.2029\n",
            "Epoch 204/500\n",
            "104/104 [==============================] - 1s 5ms/step - loss: 4.6960 - accuracy: 0.1886 - val_loss: 1.9391 - val_accuracy: 0.2029\n",
            "Epoch 205/500\n",
            "104/104 [==============================] - 1s 5ms/step - loss: 4.7692 - accuracy: 0.1862 - val_loss: 1.9388 - val_accuracy: 0.2029\n",
            "Epoch 206/500\n",
            "104/104 [==============================] - 1s 5ms/step - loss: 4.9633 - accuracy: 0.1711 - val_loss: 1.9389 - val_accuracy: 0.2029\n",
            "Epoch 207/500\n",
            "104/104 [==============================] - 0s 5ms/step - loss: 4.7515 - accuracy: 0.1886 - val_loss: 1.9389 - val_accuracy: 0.2029\n",
            "Epoch 208/500\n",
            "104/104 [==============================] - 1s 5ms/step - loss: 4.7601 - accuracy: 0.1790 - val_loss: 1.9389 - val_accuracy: 0.2029\n",
            "Epoch 209/500\n",
            "104/104 [==============================] - 1s 5ms/step - loss: 4.8710 - accuracy: 0.1729 - val_loss: 1.9390 - val_accuracy: 0.2029\n",
            "Epoch 210/500\n",
            "104/104 [==============================] - 0s 5ms/step - loss: 4.8514 - accuracy: 0.1693 - val_loss: 1.9390 - val_accuracy: 0.2029\n",
            "Epoch 211/500\n",
            "104/104 [==============================] - 1s 5ms/step - loss: 4.9497 - accuracy: 0.1717 - val_loss: 1.9389 - val_accuracy: 0.2029\n",
            "Epoch 212/500\n",
            "104/104 [==============================] - 0s 5ms/step - loss: 4.9501 - accuracy: 0.1741 - val_loss: 1.9389 - val_accuracy: 0.2029\n",
            "Epoch 213/500\n",
            "104/104 [==============================] - 1s 5ms/step - loss: 4.7556 - accuracy: 0.1965 - val_loss: 1.9389 - val_accuracy: 0.2029\n",
            "Epoch 214/500\n",
            "104/104 [==============================] - 1s 5ms/step - loss: 4.9365 - accuracy: 0.1790 - val_loss: 1.9388 - val_accuracy: 0.2029\n",
            "Epoch 215/500\n",
            "104/104 [==============================] - 1s 5ms/step - loss: 4.8250 - accuracy: 0.1838 - val_loss: 1.9385 - val_accuracy: 0.2029\n",
            "Epoch 216/500\n",
            "104/104 [==============================] - 1s 5ms/step - loss: 4.8844 - accuracy: 0.1850 - val_loss: 1.9385 - val_accuracy: 0.2029\n",
            "Epoch 217/500\n",
            "104/104 [==============================] - 1s 5ms/step - loss: 4.8632 - accuracy: 0.1608 - val_loss: 1.9384 - val_accuracy: 0.2029\n",
            "Epoch 218/500\n",
            "104/104 [==============================] - 1s 5ms/step - loss: 5.0290 - accuracy: 0.1771 - val_loss: 1.9385 - val_accuracy: 0.2029\n",
            "Epoch 219/500\n",
            "104/104 [==============================] - 0s 5ms/step - loss: 4.7790 - accuracy: 0.1911 - val_loss: 1.9383 - val_accuracy: 0.2029\n",
            "Epoch 220/500\n",
            "104/104 [==============================] - 0s 5ms/step - loss: 4.9508 - accuracy: 0.1675 - val_loss: 1.9380 - val_accuracy: 0.2029\n",
            "Epoch 221/500\n",
            "104/104 [==============================] - 1s 5ms/step - loss: 4.9025 - accuracy: 0.1711 - val_loss: 1.9378 - val_accuracy: 0.2029\n",
            "Epoch 222/500\n",
            "104/104 [==============================] - 0s 5ms/step - loss: 4.9858 - accuracy: 0.1651 - val_loss: 1.9376 - val_accuracy: 0.2029\n",
            "Epoch 223/500\n",
            "104/104 [==============================] - 1s 5ms/step - loss: 4.8764 - accuracy: 0.1620 - val_loss: 1.9372 - val_accuracy: 0.2029\n",
            "Epoch 224/500\n",
            "104/104 [==============================] - 1s 5ms/step - loss: 4.6978 - accuracy: 0.1838 - val_loss: 1.9370 - val_accuracy: 0.2029\n",
            "Epoch 225/500\n",
            "104/104 [==============================] - 1s 5ms/step - loss: 4.9064 - accuracy: 0.1820 - val_loss: 1.9371 - val_accuracy: 0.2029\n",
            "Epoch 226/500\n",
            "104/104 [==============================] - 1s 5ms/step - loss: 4.8173 - accuracy: 0.1868 - val_loss: 1.9367 - val_accuracy: 0.2029\n",
            "Epoch 227/500\n",
            "104/104 [==============================] - 1s 5ms/step - loss: 4.9126 - accuracy: 0.1898 - val_loss: 1.9368 - val_accuracy: 0.2029\n",
            "Epoch 228/500\n",
            "104/104 [==============================] - 1s 5ms/step - loss: 4.6346 - accuracy: 0.2062 - val_loss: 1.9367 - val_accuracy: 0.2029\n",
            "Epoch 229/500\n",
            "104/104 [==============================] - 0s 5ms/step - loss: 4.8928 - accuracy: 0.1651 - val_loss: 1.9364 - val_accuracy: 0.2029\n",
            "Epoch 230/500\n",
            "104/104 [==============================] - 0s 5ms/step - loss: 4.9090 - accuracy: 0.1904 - val_loss: 1.9365 - val_accuracy: 0.2029\n",
            "Epoch 231/500\n",
            "104/104 [==============================] - 0s 5ms/step - loss: 4.8979 - accuracy: 0.1802 - val_loss: 1.9365 - val_accuracy: 0.2029\n",
            "Epoch 232/500\n",
            "104/104 [==============================] - 1s 5ms/step - loss: 4.7744 - accuracy: 0.1904 - val_loss: 1.9364 - val_accuracy: 0.2029\n",
            "Epoch 233/500\n",
            "104/104 [==============================] - 1s 5ms/step - loss: 4.7578 - accuracy: 0.1880 - val_loss: 1.9363 - val_accuracy: 0.2029\n",
            "Epoch 234/500\n",
            "104/104 [==============================] - 0s 5ms/step - loss: 4.9604 - accuracy: 0.1759 - val_loss: 1.9362 - val_accuracy: 0.2029\n",
            "Epoch 235/500\n",
            "104/104 [==============================] - 1s 5ms/step - loss: 4.6909 - accuracy: 0.1965 - val_loss: 1.9359 - val_accuracy: 0.2029\n",
            "Epoch 236/500\n",
            "104/104 [==============================] - 1s 5ms/step - loss: 4.7804 - accuracy: 0.1711 - val_loss: 1.9360 - val_accuracy: 0.2029\n",
            "Epoch 237/500\n",
            "104/104 [==============================] - 1s 5ms/step - loss: 4.8986 - accuracy: 0.1808 - val_loss: 1.9358 - val_accuracy: 0.2029\n",
            "Epoch 238/500\n",
            "104/104 [==============================] - 1s 5ms/step - loss: 4.8850 - accuracy: 0.1808 - val_loss: 1.9355 - val_accuracy: 0.2029\n",
            "Epoch 239/500\n",
            "104/104 [==============================] - 1s 5ms/step - loss: 4.8522 - accuracy: 0.1687 - val_loss: 1.9355 - val_accuracy: 0.2029\n",
            "Epoch 240/500\n",
            "104/104 [==============================] - 1s 5ms/step - loss: 4.7133 - accuracy: 0.1808 - val_loss: 1.9356 - val_accuracy: 0.2029\n",
            "Epoch 241/500\n",
            "104/104 [==============================] - 1s 5ms/step - loss: 4.7382 - accuracy: 0.1741 - val_loss: 1.9358 - val_accuracy: 0.2029\n",
            "Epoch 242/500\n",
            "104/104 [==============================] - 1s 5ms/step - loss: 4.8127 - accuracy: 0.1735 - val_loss: 1.9355 - val_accuracy: 0.2029\n",
            "Epoch 243/500\n",
            "104/104 [==============================] - 1s 5ms/step - loss: 4.9756 - accuracy: 0.1850 - val_loss: 1.9357 - val_accuracy: 0.2029\n",
            "Epoch 244/500\n",
            "104/104 [==============================] - 0s 5ms/step - loss: 4.8352 - accuracy: 0.1778 - val_loss: 1.9356 - val_accuracy: 0.2029\n",
            "Epoch 245/500\n",
            "104/104 [==============================] - 0s 5ms/step - loss: 4.8591 - accuracy: 0.1753 - val_loss: 1.9356 - val_accuracy: 0.2029\n",
            "Epoch 246/500\n",
            "104/104 [==============================] - 0s 5ms/step - loss: 4.7814 - accuracy: 0.1741 - val_loss: 1.9357 - val_accuracy: 0.2029\n",
            "Epoch 247/500\n",
            "104/104 [==============================] - 0s 5ms/step - loss: 5.0818 - accuracy: 0.1620 - val_loss: 1.9357 - val_accuracy: 0.2029\n",
            "Epoch 248/500\n",
            "104/104 [==============================] - 0s 5ms/step - loss: 4.8548 - accuracy: 0.1759 - val_loss: 1.9357 - val_accuracy: 0.2029\n",
            "Epoch 249/500\n",
            "104/104 [==============================] - 1s 5ms/step - loss: 4.9325 - accuracy: 0.1796 - val_loss: 1.9359 - val_accuracy: 0.2029\n",
            "Epoch 250/500\n",
            "104/104 [==============================] - 1s 5ms/step - loss: 4.8010 - accuracy: 0.1753 - val_loss: 1.9358 - val_accuracy: 0.2029\n",
            "Epoch 251/500\n",
            "104/104 [==============================] - 1s 5ms/step - loss: 4.8704 - accuracy: 0.1784 - val_loss: 1.9357 - val_accuracy: 0.2029\n",
            "Epoch 252/500\n",
            "104/104 [==============================] - 0s 5ms/step - loss: 4.7342 - accuracy: 0.1862 - val_loss: 1.9357 - val_accuracy: 0.2029\n",
            "Epoch 253/500\n",
            "104/104 [==============================] - 1s 5ms/step - loss: 4.8550 - accuracy: 0.1699 - val_loss: 1.9357 - val_accuracy: 0.2029\n",
            "Epoch 254/500\n",
            "104/104 [==============================] - 0s 5ms/step - loss: 4.8832 - accuracy: 0.1820 - val_loss: 1.9358 - val_accuracy: 0.2029\n",
            "Epoch 255/500\n",
            "104/104 [==============================] - 1s 5ms/step - loss: 4.8726 - accuracy: 0.1802 - val_loss: 1.9356 - val_accuracy: 0.2029\n",
            "Epoch 256/500\n",
            "104/104 [==============================] - 1s 5ms/step - loss: 4.6970 - accuracy: 0.1880 - val_loss: 1.9356 - val_accuracy: 0.2029\n",
            "Epoch 257/500\n",
            "104/104 [==============================] - 1s 5ms/step - loss: 4.7625 - accuracy: 0.1826 - val_loss: 1.9355 - val_accuracy: 0.2029\n",
            "Epoch 258/500\n",
            "104/104 [==============================] - 0s 5ms/step - loss: 4.8183 - accuracy: 0.1808 - val_loss: 1.9354 - val_accuracy: 0.2029\n",
            "Epoch 259/500\n",
            "104/104 [==============================] - 1s 5ms/step - loss: 4.7604 - accuracy: 0.1898 - val_loss: 1.9354 - val_accuracy: 0.2029\n",
            "Epoch 260/500\n",
            "104/104 [==============================] - 1s 5ms/step - loss: 4.9453 - accuracy: 0.1838 - val_loss: 1.9353 - val_accuracy: 0.2029\n",
            "Epoch 261/500\n",
            "104/104 [==============================] - 1s 5ms/step - loss: 4.8865 - accuracy: 0.1705 - val_loss: 1.9352 - val_accuracy: 0.2029\n",
            "Epoch 262/500\n",
            "104/104 [==============================] - 1s 5ms/step - loss: 4.7327 - accuracy: 0.2037 - val_loss: 1.9351 - val_accuracy: 0.2029\n",
            "Epoch 263/500\n",
            "104/104 [==============================] - 1s 5ms/step - loss: 4.7324 - accuracy: 0.1856 - val_loss: 1.9350 - val_accuracy: 0.2029\n",
            "Epoch 264/500\n",
            "104/104 [==============================] - 1s 5ms/step - loss: 4.7285 - accuracy: 0.1820 - val_loss: 1.9349 - val_accuracy: 0.2029\n",
            "Epoch 265/500\n",
            "104/104 [==============================] - 1s 5ms/step - loss: 4.9308 - accuracy: 0.1802 - val_loss: 1.9348 - val_accuracy: 0.2029\n",
            "Epoch 266/500\n",
            "104/104 [==============================] - 1s 5ms/step - loss: 4.8628 - accuracy: 0.1741 - val_loss: 1.9347 - val_accuracy: 0.2029\n",
            "Epoch 267/500\n",
            "104/104 [==============================] - 1s 5ms/step - loss: 4.8461 - accuracy: 0.1808 - val_loss: 1.9346 - val_accuracy: 0.2029\n",
            "Epoch 268/500\n",
            "104/104 [==============================] - 1s 6ms/step - loss: 4.8038 - accuracy: 0.1820 - val_loss: 1.9345 - val_accuracy: 0.2029\n",
            "Epoch 269/500\n",
            "104/104 [==============================] - 1s 5ms/step - loss: 4.8389 - accuracy: 0.1753 - val_loss: 1.9344 - val_accuracy: 0.2029\n",
            "Epoch 270/500\n",
            "104/104 [==============================] - 1s 5ms/step - loss: 4.9408 - accuracy: 0.1717 - val_loss: 1.9345 - val_accuracy: 0.2029\n",
            "Epoch 271/500\n",
            "104/104 [==============================] - 1s 5ms/step - loss: 4.9756 - accuracy: 0.1814 - val_loss: 1.9346 - val_accuracy: 0.2029\n",
            "Epoch 272/500\n",
            "104/104 [==============================] - 1s 5ms/step - loss: 4.8332 - accuracy: 0.1838 - val_loss: 1.9348 - val_accuracy: 0.2029\n",
            "Epoch 273/500\n",
            "104/104 [==============================] - 1s 5ms/step - loss: 4.8265 - accuracy: 0.1796 - val_loss: 1.9348 - val_accuracy: 0.2029\n",
            "Epoch 274/500\n",
            "104/104 [==============================] - 1s 5ms/step - loss: 4.9640 - accuracy: 0.1771 - val_loss: 1.9347 - val_accuracy: 0.2029\n",
            "Epoch 275/500\n",
            "104/104 [==============================] - 1s 5ms/step - loss: 4.7596 - accuracy: 0.1917 - val_loss: 1.9345 - val_accuracy: 0.2029\n",
            "Epoch 276/500\n",
            "104/104 [==============================] - 1s 5ms/step - loss: 4.9366 - accuracy: 0.1711 - val_loss: 1.9347 - val_accuracy: 0.2029\n",
            "Epoch 277/500\n",
            "104/104 [==============================] - 1s 5ms/step - loss: 4.8649 - accuracy: 0.1723 - val_loss: 1.9347 - val_accuracy: 0.2029\n",
            "Epoch 278/500\n",
            "104/104 [==============================] - 1s 5ms/step - loss: 4.8629 - accuracy: 0.1765 - val_loss: 1.9347 - val_accuracy: 0.2029\n",
            "Epoch 279/500\n",
            "104/104 [==============================] - 1s 5ms/step - loss: 4.7596 - accuracy: 0.1705 - val_loss: 1.9345 - val_accuracy: 0.2029\n",
            "Epoch 280/500\n",
            "104/104 [==============================] - 1s 5ms/step - loss: 4.8402 - accuracy: 0.1874 - val_loss: 1.9345 - val_accuracy: 0.2029\n",
            "Epoch 281/500\n",
            "104/104 [==============================] - 1s 5ms/step - loss: 4.8127 - accuracy: 0.1796 - val_loss: 1.9343 - val_accuracy: 0.2029\n",
            "Epoch 282/500\n",
            "104/104 [==============================] - 1s 5ms/step - loss: 4.8399 - accuracy: 0.1917 - val_loss: 1.9342 - val_accuracy: 0.2029\n",
            "Epoch 283/500\n",
            "104/104 [==============================] - 1s 5ms/step - loss: 4.7465 - accuracy: 0.1850 - val_loss: 1.9342 - val_accuracy: 0.2029\n",
            "Epoch 284/500\n",
            "104/104 [==============================] - 1s 6ms/step - loss: 4.8416 - accuracy: 0.1898 - val_loss: 1.9342 - val_accuracy: 0.2029\n",
            "Epoch 285/500\n",
            "104/104 [==============================] - 1s 5ms/step - loss: 4.8535 - accuracy: 0.1747 - val_loss: 1.9339 - val_accuracy: 0.2029\n",
            "Epoch 286/500\n",
            "104/104 [==============================] - 1s 5ms/step - loss: 4.7018 - accuracy: 0.1917 - val_loss: 1.9338 - val_accuracy: 0.2029\n",
            "Epoch 287/500\n",
            "104/104 [==============================] - 1s 5ms/step - loss: 4.9213 - accuracy: 0.1675 - val_loss: 1.9339 - val_accuracy: 0.2029\n",
            "Epoch 288/500\n",
            "104/104 [==============================] - 1s 5ms/step - loss: 4.8840 - accuracy: 0.1874 - val_loss: 1.9339 - val_accuracy: 0.2029\n",
            "Epoch 289/500\n",
            "104/104 [==============================] - 1s 5ms/step - loss: 4.9563 - accuracy: 0.1753 - val_loss: 1.9339 - val_accuracy: 0.2029\n",
            "Epoch 290/500\n",
            "104/104 [==============================] - 1s 5ms/step - loss: 4.8310 - accuracy: 0.1778 - val_loss: 1.9340 - val_accuracy: 0.2029\n",
            "Epoch 291/500\n",
            "104/104 [==============================] - 1s 5ms/step - loss: 4.7434 - accuracy: 0.1759 - val_loss: 1.9340 - val_accuracy: 0.2029\n",
            "Epoch 292/500\n",
            "104/104 [==============================] - 1s 5ms/step - loss: 4.9673 - accuracy: 0.1651 - val_loss: 1.9338 - val_accuracy: 0.2029\n",
            "Epoch 293/500\n",
            "104/104 [==============================] - 1s 5ms/step - loss: 4.7698 - accuracy: 0.1917 - val_loss: 1.9337 - val_accuracy: 0.2029\n",
            "Epoch 294/500\n",
            "104/104 [==============================] - 1s 5ms/step - loss: 4.8331 - accuracy: 0.1620 - val_loss: 1.9337 - val_accuracy: 0.2029\n",
            "Epoch 295/500\n",
            "104/104 [==============================] - 1s 5ms/step - loss: 4.8157 - accuracy: 0.1711 - val_loss: 1.9337 - val_accuracy: 0.2029\n",
            "Epoch 296/500\n",
            "104/104 [==============================] - 1s 5ms/step - loss: 4.8226 - accuracy: 0.1832 - val_loss: 1.9336 - val_accuracy: 0.2029\n",
            "Epoch 297/500\n",
            "104/104 [==============================] - 1s 6ms/step - loss: 4.9203 - accuracy: 0.1820 - val_loss: 1.9337 - val_accuracy: 0.2029\n",
            "Epoch 298/500\n",
            "104/104 [==============================] - 1s 5ms/step - loss: 4.8772 - accuracy: 0.1729 - val_loss: 1.9335 - val_accuracy: 0.2029\n",
            "Epoch 299/500\n",
            "104/104 [==============================] - 1s 5ms/step - loss: 4.8170 - accuracy: 0.1784 - val_loss: 1.9335 - val_accuracy: 0.2029\n",
            "Epoch 300/500\n",
            "104/104 [==============================] - 1s 5ms/step - loss: 4.8460 - accuracy: 0.1669 - val_loss: 1.9332 - val_accuracy: 0.2029\n",
            "Epoch 301/500\n",
            "104/104 [==============================] - 1s 5ms/step - loss: 4.8176 - accuracy: 0.1771 - val_loss: 1.9331 - val_accuracy: 0.2029\n",
            "Epoch 302/500\n",
            "104/104 [==============================] - 1s 5ms/step - loss: 4.6972 - accuracy: 0.1868 - val_loss: 1.9331 - val_accuracy: 0.2029\n",
            "Epoch 303/500\n",
            "104/104 [==============================] - 1s 5ms/step - loss: 4.9327 - accuracy: 0.1705 - val_loss: 1.9331 - val_accuracy: 0.2029\n",
            "Epoch 304/500\n",
            "104/104 [==============================] - 1s 5ms/step - loss: 4.7946 - accuracy: 0.1904 - val_loss: 1.9328 - val_accuracy: 0.2029\n",
            "Epoch 305/500\n",
            "104/104 [==============================] - 1s 5ms/step - loss: 4.9904 - accuracy: 0.1717 - val_loss: 1.9326 - val_accuracy: 0.2029\n",
            "Epoch 306/500\n",
            "104/104 [==============================] - 1s 5ms/step - loss: 4.8799 - accuracy: 0.1705 - val_loss: 1.9325 - val_accuracy: 0.2029\n",
            "Epoch 307/500\n",
            "104/104 [==============================] - 1s 5ms/step - loss: 4.8302 - accuracy: 0.1862 - val_loss: 1.9324 - val_accuracy: 0.2029\n",
            "Epoch 308/500\n",
            "104/104 [==============================] - 1s 5ms/step - loss: 4.8732 - accuracy: 0.1796 - val_loss: 1.9323 - val_accuracy: 0.2029\n",
            "Epoch 309/500\n",
            "104/104 [==============================] - 1s 5ms/step - loss: 4.7731 - accuracy: 0.1814 - val_loss: 1.9324 - val_accuracy: 0.2029\n",
            "Epoch 310/500\n",
            "104/104 [==============================] - 1s 5ms/step - loss: 4.9540 - accuracy: 0.1705 - val_loss: 1.9321 - val_accuracy: 0.2029\n",
            "Epoch 311/500\n",
            "104/104 [==============================] - 1s 5ms/step - loss: 4.8597 - accuracy: 0.1838 - val_loss: 1.9321 - val_accuracy: 0.2029\n",
            "Epoch 312/500\n",
            "104/104 [==============================] - 1s 5ms/step - loss: 4.7252 - accuracy: 0.1995 - val_loss: 1.9320 - val_accuracy: 0.2029\n",
            "Epoch 313/500\n",
            "104/104 [==============================] - 1s 5ms/step - loss: 4.7032 - accuracy: 0.1886 - val_loss: 1.9320 - val_accuracy: 0.2029\n",
            "Epoch 314/500\n",
            "104/104 [==============================] - 1s 6ms/step - loss: 4.7970 - accuracy: 0.1808 - val_loss: 1.9320 - val_accuracy: 0.2029\n",
            "Epoch 315/500\n",
            "104/104 [==============================] - 1s 5ms/step - loss: 4.8195 - accuracy: 0.1735 - val_loss: 1.9319 - val_accuracy: 0.2029\n",
            "Epoch 316/500\n",
            "104/104 [==============================] - 1s 5ms/step - loss: 4.8158 - accuracy: 0.1814 - val_loss: 1.9317 - val_accuracy: 0.2029\n",
            "Epoch 317/500\n",
            "104/104 [==============================] - 1s 5ms/step - loss: 4.7556 - accuracy: 0.1741 - val_loss: 1.9316 - val_accuracy: 0.2029\n",
            "Epoch 318/500\n",
            "104/104 [==============================] - 1s 5ms/step - loss: 4.7858 - accuracy: 0.1759 - val_loss: 1.9314 - val_accuracy: 0.2029\n",
            "Epoch 319/500\n",
            "104/104 [==============================] - 1s 5ms/step - loss: 4.7229 - accuracy: 0.1784 - val_loss: 1.9312 - val_accuracy: 0.2029\n",
            "Epoch 320/500\n",
            "104/104 [==============================] - 1s 5ms/step - loss: 4.8030 - accuracy: 0.1814 - val_loss: 1.9314 - val_accuracy: 0.2029\n",
            "Epoch 321/500\n",
            "104/104 [==============================] - 1s 5ms/step - loss: 4.8379 - accuracy: 0.1759 - val_loss: 1.9314 - val_accuracy: 0.2029\n",
            "Epoch 322/500\n",
            "104/104 [==============================] - 1s 5ms/step - loss: 4.7977 - accuracy: 0.1771 - val_loss: 1.9314 - val_accuracy: 0.2029\n",
            "Epoch 323/500\n",
            "104/104 [==============================] - 1s 5ms/step - loss: 4.9043 - accuracy: 0.1747 - val_loss: 1.9315 - val_accuracy: 0.2029\n",
            "Epoch 324/500\n",
            "104/104 [==============================] - 1s 5ms/step - loss: 4.7542 - accuracy: 0.1778 - val_loss: 1.9314 - val_accuracy: 0.2029\n",
            "Epoch 325/500\n",
            "104/104 [==============================] - 1s 5ms/step - loss: 4.8114 - accuracy: 0.1729 - val_loss: 1.9312 - val_accuracy: 0.2029\n",
            "Epoch 326/500\n",
            "104/104 [==============================] - 1s 5ms/step - loss: 4.8501 - accuracy: 0.1796 - val_loss: 1.9311 - val_accuracy: 0.2029\n",
            "Epoch 327/500\n",
            "104/104 [==============================] - 1s 5ms/step - loss: 4.9827 - accuracy: 0.1923 - val_loss: 1.9311 - val_accuracy: 0.2029\n",
            "Epoch 328/500\n",
            "104/104 [==============================] - 1s 5ms/step - loss: 4.8927 - accuracy: 0.1681 - val_loss: 1.9311 - val_accuracy: 0.2029\n",
            "Epoch 329/500\n",
            "104/104 [==============================] - 1s 5ms/step - loss: 4.7206 - accuracy: 0.1741 - val_loss: 1.9311 - val_accuracy: 0.2029\n",
            "Epoch 330/500\n",
            "104/104 [==============================] - 1s 5ms/step - loss: 4.8200 - accuracy: 0.1808 - val_loss: 1.9311 - val_accuracy: 0.2029\n",
            "Epoch 331/500\n",
            "104/104 [==============================] - 1s 5ms/step - loss: 4.8532 - accuracy: 0.1850 - val_loss: 1.9311 - val_accuracy: 0.2029\n",
            "Epoch 332/500\n",
            "104/104 [==============================] - 1s 5ms/step - loss: 4.7840 - accuracy: 0.1693 - val_loss: 1.9312 - val_accuracy: 0.2029\n",
            "Epoch 333/500\n",
            "104/104 [==============================] - 1s 6ms/step - loss: 4.8952 - accuracy: 0.1735 - val_loss: 1.9311 - val_accuracy: 0.2029\n",
            "Epoch 334/500\n",
            "104/104 [==============================] - 1s 6ms/step - loss: 4.9165 - accuracy: 0.1657 - val_loss: 1.9308 - val_accuracy: 0.2029\n",
            "Epoch 335/500\n",
            "104/104 [==============================] - 1s 7ms/step - loss: 4.8109 - accuracy: 0.1850 - val_loss: 1.9308 - val_accuracy: 0.2029\n",
            "Epoch 336/500\n",
            "104/104 [==============================] - 1s 6ms/step - loss: 4.7891 - accuracy: 0.1771 - val_loss: 1.9307 - val_accuracy: 0.2029\n",
            "Epoch 337/500\n",
            "104/104 [==============================] - 1s 7ms/step - loss: 4.7043 - accuracy: 0.1935 - val_loss: 1.9305 - val_accuracy: 0.2029\n",
            "Epoch 338/500\n",
            "104/104 [==============================] - 1s 6ms/step - loss: 4.6954 - accuracy: 0.1820 - val_loss: 1.9304 - val_accuracy: 0.2029\n",
            "Epoch 339/500\n",
            "104/104 [==============================] - 1s 5ms/step - loss: 4.7814 - accuracy: 0.1941 - val_loss: 1.9303 - val_accuracy: 0.2029\n",
            "Epoch 340/500\n",
            "104/104 [==============================] - 1s 6ms/step - loss: 4.9637 - accuracy: 0.1814 - val_loss: 1.9302 - val_accuracy: 0.2029\n",
            "Epoch 341/500\n",
            "104/104 [==============================] - 1s 5ms/step - loss: 4.9684 - accuracy: 0.1753 - val_loss: 1.9302 - val_accuracy: 0.2029\n",
            "Epoch 342/500\n",
            "104/104 [==============================] - 1s 5ms/step - loss: 5.0039 - accuracy: 0.1723 - val_loss: 1.9303 - val_accuracy: 0.2029\n",
            "Epoch 343/500\n",
            "104/104 [==============================] - 1s 5ms/step - loss: 4.8399 - accuracy: 0.1663 - val_loss: 1.9304 - val_accuracy: 0.2029\n",
            "Epoch 344/500\n",
            "104/104 [==============================] - 1s 5ms/step - loss: 4.6505 - accuracy: 0.1753 - val_loss: 1.9303 - val_accuracy: 0.2029\n",
            "Epoch 345/500\n",
            "104/104 [==============================] - 1s 5ms/step - loss: 4.8853 - accuracy: 0.1729 - val_loss: 1.9304 - val_accuracy: 0.2029\n",
            "Epoch 346/500\n",
            "104/104 [==============================] - 1s 5ms/step - loss: 4.6028 - accuracy: 0.1965 - val_loss: 1.9300 - val_accuracy: 0.2029\n",
            "Epoch 347/500\n",
            "104/104 [==============================] - 1s 5ms/step - loss: 4.9162 - accuracy: 0.1759 - val_loss: 1.9299 - val_accuracy: 0.2029\n",
            "Epoch 348/500\n",
            "104/104 [==============================] - 1s 5ms/step - loss: 4.7466 - accuracy: 0.1778 - val_loss: 1.9298 - val_accuracy: 0.2029\n",
            "Epoch 349/500\n",
            "104/104 [==============================] - 1s 5ms/step - loss: 4.7259 - accuracy: 0.1771 - val_loss: 1.9298 - val_accuracy: 0.2029\n",
            "Epoch 350/500\n",
            "104/104 [==============================] - 1s 5ms/step - loss: 4.8179 - accuracy: 0.1687 - val_loss: 1.9297 - val_accuracy: 0.2029\n",
            "Epoch 351/500\n",
            "104/104 [==============================] - 1s 6ms/step - loss: 4.8389 - accuracy: 0.1693 - val_loss: 1.9295 - val_accuracy: 0.2029\n",
            "Epoch 352/500\n",
            "104/104 [==============================] - 1s 6ms/step - loss: 4.9978 - accuracy: 0.1469 - val_loss: 1.9293 - val_accuracy: 0.2029\n",
            "Epoch 353/500\n",
            "104/104 [==============================] - 1s 5ms/step - loss: 4.8447 - accuracy: 0.1717 - val_loss: 1.9294 - val_accuracy: 0.2029\n",
            "Epoch 354/500\n",
            "104/104 [==============================] - 1s 6ms/step - loss: 4.9900 - accuracy: 0.1675 - val_loss: 1.9293 - val_accuracy: 0.2029\n",
            "Epoch 355/500\n",
            "104/104 [==============================] - 1s 5ms/step - loss: 4.8121 - accuracy: 0.1971 - val_loss: 1.9291 - val_accuracy: 0.2029\n",
            "Epoch 356/500\n",
            "104/104 [==============================] - 1s 5ms/step - loss: 4.6306 - accuracy: 0.1844 - val_loss: 1.9291 - val_accuracy: 0.2029\n",
            "Epoch 357/500\n",
            "104/104 [==============================] - 1s 5ms/step - loss: 4.8514 - accuracy: 0.1753 - val_loss: 1.9291 - val_accuracy: 0.2029\n",
            "Epoch 358/500\n",
            "104/104 [==============================] - 1s 5ms/step - loss: 4.8350 - accuracy: 0.1911 - val_loss: 1.9291 - val_accuracy: 0.2029\n",
            "Epoch 359/500\n",
            "104/104 [==============================] - 1s 5ms/step - loss: 4.7880 - accuracy: 0.1814 - val_loss: 1.9291 - val_accuracy: 0.2029\n",
            "Epoch 360/500\n",
            "104/104 [==============================] - 1s 5ms/step - loss: 4.7346 - accuracy: 0.1644 - val_loss: 1.9290 - val_accuracy: 0.2029\n",
            "Epoch 361/500\n",
            "104/104 [==============================] - 1s 5ms/step - loss: 4.8479 - accuracy: 0.1596 - val_loss: 1.9290 - val_accuracy: 0.2029\n",
            "Epoch 362/500\n",
            "104/104 [==============================] - 1s 5ms/step - loss: 4.9292 - accuracy: 0.1657 - val_loss: 1.9290 - val_accuracy: 0.2029\n",
            "Epoch 363/500\n",
            "104/104 [==============================] - 1s 5ms/step - loss: 4.9621 - accuracy: 0.1699 - val_loss: 1.9289 - val_accuracy: 0.2029\n",
            "Epoch 364/500\n",
            "104/104 [==============================] - 1s 5ms/step - loss: 4.7145 - accuracy: 0.1753 - val_loss: 1.9288 - val_accuracy: 0.2029\n",
            "Epoch 365/500\n",
            "104/104 [==============================] - 1s 5ms/step - loss: 4.8062 - accuracy: 0.1814 - val_loss: 1.9287 - val_accuracy: 0.2029\n",
            "Epoch 366/500\n",
            "104/104 [==============================] - 1s 5ms/step - loss: 4.8359 - accuracy: 0.1784 - val_loss: 1.9287 - val_accuracy: 0.2029\n",
            "Epoch 367/500\n",
            "104/104 [==============================] - 1s 5ms/step - loss: 4.8049 - accuracy: 0.1771 - val_loss: 1.9287 - val_accuracy: 0.2029\n",
            "Epoch 368/500\n",
            "104/104 [==============================] - 1s 5ms/step - loss: 4.5984 - accuracy: 0.1790 - val_loss: 1.9285 - val_accuracy: 0.2029\n",
            "Epoch 369/500\n",
            "104/104 [==============================] - 1s 6ms/step - loss: 4.7060 - accuracy: 0.1856 - val_loss: 1.9284 - val_accuracy: 0.2029\n",
            "Epoch 370/500\n",
            "104/104 [==============================] - 1s 5ms/step - loss: 4.7699 - accuracy: 0.1808 - val_loss: 1.9284 - val_accuracy: 0.2029\n",
            "Epoch 371/500\n",
            "104/104 [==============================] - 1s 5ms/step - loss: 4.7949 - accuracy: 0.1911 - val_loss: 1.9283 - val_accuracy: 0.2029\n",
            "Epoch 372/500\n",
            "104/104 [==============================] - 1s 5ms/step - loss: 4.6307 - accuracy: 0.1808 - val_loss: 1.9282 - val_accuracy: 0.2029\n",
            "Epoch 373/500\n",
            "104/104 [==============================] - 1s 5ms/step - loss: 4.7218 - accuracy: 0.1892 - val_loss: 1.9282 - val_accuracy: 0.2029\n",
            "Epoch 374/500\n",
            "104/104 [==============================] - 1s 5ms/step - loss: 4.8592 - accuracy: 0.1626 - val_loss: 1.9280 - val_accuracy: 0.2029\n",
            "Epoch 375/500\n",
            "104/104 [==============================] - 1s 5ms/step - loss: 4.8638 - accuracy: 0.1826 - val_loss: 1.9280 - val_accuracy: 0.2029\n",
            "Epoch 376/500\n",
            "104/104 [==============================] - 1s 5ms/step - loss: 4.9341 - accuracy: 0.1675 - val_loss: 1.9279 - val_accuracy: 0.2029\n",
            "Epoch 377/500\n",
            "104/104 [==============================] - 1s 5ms/step - loss: 4.6057 - accuracy: 0.1904 - val_loss: 1.9278 - val_accuracy: 0.2029\n",
            "Epoch 378/500\n",
            "104/104 [==============================] - 1s 6ms/step - loss: 5.0075 - accuracy: 0.1572 - val_loss: 1.9279 - val_accuracy: 0.2029\n",
            "Epoch 379/500\n",
            "104/104 [==============================] - 1s 5ms/step - loss: 4.9211 - accuracy: 0.1778 - val_loss: 1.9278 - val_accuracy: 0.2029\n",
            "Epoch 380/500\n",
            "104/104 [==============================] - 1s 5ms/step - loss: 4.8768 - accuracy: 0.1838 - val_loss: 1.9278 - val_accuracy: 0.2029\n",
            "Epoch 381/500\n",
            "104/104 [==============================] - 1s 5ms/step - loss: 4.7521 - accuracy: 0.1747 - val_loss: 1.9277 - val_accuracy: 0.2029\n",
            "Epoch 382/500\n",
            "104/104 [==============================] - 1s 5ms/step - loss: 4.8877 - accuracy: 0.1759 - val_loss: 1.9276 - val_accuracy: 0.2029\n",
            "Epoch 383/500\n",
            "104/104 [==============================] - 1s 5ms/step - loss: 4.6384 - accuracy: 0.1971 - val_loss: 1.9278 - val_accuracy: 0.2029\n",
            "Epoch 384/500\n",
            "104/104 [==============================] - 1s 6ms/step - loss: 4.7806 - accuracy: 0.1880 - val_loss: 1.9277 - val_accuracy: 0.2029\n",
            "Epoch 385/500\n",
            "104/104 [==============================] - 1s 5ms/step - loss: 4.7178 - accuracy: 0.1880 - val_loss: 1.9277 - val_accuracy: 0.2029\n",
            "Epoch 386/500\n",
            "104/104 [==============================] - 1s 5ms/step - loss: 4.7909 - accuracy: 0.1790 - val_loss: 1.9277 - val_accuracy: 0.2029\n",
            "Epoch 387/500\n",
            "104/104 [==============================] - 1s 6ms/step - loss: 4.8823 - accuracy: 0.1705 - val_loss: 1.9276 - val_accuracy: 0.2029\n",
            "Epoch 388/500\n",
            "104/104 [==============================] - 1s 6ms/step - loss: 4.7914 - accuracy: 0.1723 - val_loss: 1.9275 - val_accuracy: 0.2029\n",
            "Epoch 389/500\n",
            "104/104 [==============================] - 1s 6ms/step - loss: 4.8140 - accuracy: 0.1723 - val_loss: 1.9274 - val_accuracy: 0.2029\n",
            "Epoch 390/500\n",
            "104/104 [==============================] - 1s 5ms/step - loss: 4.7944 - accuracy: 0.1735 - val_loss: 1.9274 - val_accuracy: 0.2029\n",
            "Epoch 391/500\n",
            "104/104 [==============================] - 1s 5ms/step - loss: 4.8255 - accuracy: 0.1723 - val_loss: 1.9275 - val_accuracy: 0.2029\n",
            "Epoch 392/500\n",
            "104/104 [==============================] - 1s 5ms/step - loss: 4.7620 - accuracy: 0.1802 - val_loss: 1.9274 - val_accuracy: 0.2029\n",
            "Epoch 393/500\n",
            "104/104 [==============================] - 1s 5ms/step - loss: 4.7322 - accuracy: 0.1814 - val_loss: 1.9273 - val_accuracy: 0.2029\n",
            "Epoch 394/500\n",
            "104/104 [==============================] - 1s 6ms/step - loss: 4.8200 - accuracy: 0.1886 - val_loss: 1.9272 - val_accuracy: 0.2029\n",
            "Epoch 395/500\n",
            "104/104 [==============================] - 1s 5ms/step - loss: 4.8265 - accuracy: 0.1705 - val_loss: 1.9272 - val_accuracy: 0.2029\n",
            "Epoch 396/500\n",
            "104/104 [==============================] - 1s 5ms/step - loss: 4.8168 - accuracy: 0.1778 - val_loss: 1.9272 - val_accuracy: 0.2029\n",
            "Epoch 397/500\n",
            "104/104 [==============================] - 1s 5ms/step - loss: 4.7528 - accuracy: 0.1850 - val_loss: 1.9272 - val_accuracy: 0.2029\n",
            "Epoch 398/500\n",
            "104/104 [==============================] - 1s 6ms/step - loss: 4.8562 - accuracy: 0.1832 - val_loss: 1.9272 - val_accuracy: 0.2029\n",
            "Epoch 399/500\n",
            "104/104 [==============================] - 1s 5ms/step - loss: 4.6172 - accuracy: 0.1886 - val_loss: 1.9271 - val_accuracy: 0.2029\n",
            "Epoch 400/500\n",
            "104/104 [==============================] - 1s 5ms/step - loss: 4.9353 - accuracy: 0.1808 - val_loss: 1.9270 - val_accuracy: 0.2029\n",
            "Epoch 401/500\n",
            "104/104 [==============================] - 1s 6ms/step - loss: 4.7583 - accuracy: 0.1868 - val_loss: 1.9270 - val_accuracy: 0.2029\n",
            "Epoch 402/500\n",
            "104/104 [==============================] - 1s 5ms/step - loss: 4.8766 - accuracy: 0.1778 - val_loss: 1.9270 - val_accuracy: 0.2029\n",
            "Epoch 403/500\n",
            "104/104 [==============================] - 1s 5ms/step - loss: 4.8620 - accuracy: 0.1874 - val_loss: 1.9270 - val_accuracy: 0.2029\n",
            "Epoch 404/500\n",
            "104/104 [==============================] - 1s 5ms/step - loss: 4.9493 - accuracy: 0.1651 - val_loss: 1.9269 - val_accuracy: 0.2029\n",
            "Epoch 405/500\n",
            "104/104 [==============================] - 1s 6ms/step - loss: 4.7135 - accuracy: 0.1820 - val_loss: 1.9268 - val_accuracy: 0.2029\n",
            "Epoch 406/500\n",
            "104/104 [==============================] - 1s 5ms/step - loss: 4.6416 - accuracy: 0.1778 - val_loss: 1.9268 - val_accuracy: 0.2029\n",
            "Epoch 407/500\n",
            "104/104 [==============================] - 1s 5ms/step - loss: 4.9113 - accuracy: 0.1705 - val_loss: 1.9266 - val_accuracy: 0.2029\n",
            "Epoch 408/500\n",
            "104/104 [==============================] - 1s 5ms/step - loss: 4.8237 - accuracy: 0.1874 - val_loss: 1.9268 - val_accuracy: 0.2029\n",
            "Epoch 409/500\n",
            "104/104 [==============================] - 1s 5ms/step - loss: 4.8159 - accuracy: 0.1741 - val_loss: 1.9268 - val_accuracy: 0.2029\n",
            "Epoch 410/500\n",
            "104/104 [==============================] - 1s 5ms/step - loss: 4.7224 - accuracy: 0.1814 - val_loss: 1.9268 - val_accuracy: 0.2029\n",
            "Epoch 411/500\n",
            "104/104 [==============================] - 1s 6ms/step - loss: 4.7605 - accuracy: 0.1796 - val_loss: 1.9267 - val_accuracy: 0.2029\n",
            "Epoch 412/500\n",
            "104/104 [==============================] - 1s 5ms/step - loss: 4.7398 - accuracy: 0.1868 - val_loss: 1.9267 - val_accuracy: 0.2029\n",
            "Epoch 413/500\n",
            "104/104 [==============================] - 1s 5ms/step - loss: 4.7775 - accuracy: 0.1723 - val_loss: 1.9266 - val_accuracy: 0.2029\n",
            "Epoch 414/500\n",
            "104/104 [==============================] - 1s 5ms/step - loss: 4.8595 - accuracy: 0.1735 - val_loss: 1.9265 - val_accuracy: 0.2029\n",
            "Epoch 415/500\n",
            "104/104 [==============================] - 1s 5ms/step - loss: 4.9568 - accuracy: 0.1584 - val_loss: 1.9263 - val_accuracy: 0.2029\n",
            "Epoch 416/500\n",
            "104/104 [==============================] - 1s 5ms/step - loss: 4.7014 - accuracy: 0.1838 - val_loss: 1.9265 - val_accuracy: 0.2029\n",
            "Epoch 417/500\n",
            "104/104 [==============================] - 1s 6ms/step - loss: 4.6032 - accuracy: 0.2007 - val_loss: 1.9264 - val_accuracy: 0.2029\n",
            "Epoch 418/500\n",
            "104/104 [==============================] - 1s 5ms/step - loss: 4.8013 - accuracy: 0.1959 - val_loss: 1.9265 - val_accuracy: 0.2029\n",
            "Epoch 419/500\n",
            "104/104 [==============================] - 1s 5ms/step - loss: 4.8155 - accuracy: 0.1826 - val_loss: 1.9265 - val_accuracy: 0.2029\n",
            "Epoch 420/500\n",
            "104/104 [==============================] - 1s 5ms/step - loss: 4.9097 - accuracy: 0.1687 - val_loss: 1.9265 - val_accuracy: 0.2029\n",
            "Epoch 421/500\n",
            "104/104 [==============================] - 1s 6ms/step - loss: 4.6765 - accuracy: 0.1868 - val_loss: 1.9266 - val_accuracy: 0.2029\n",
            "Epoch 422/500\n",
            "104/104 [==============================] - 1s 5ms/step - loss: 4.8786 - accuracy: 0.1753 - val_loss: 1.9264 - val_accuracy: 0.2029\n",
            "Epoch 423/500\n",
            "104/104 [==============================] - 1s 6ms/step - loss: 4.7594 - accuracy: 0.1711 - val_loss: 1.9264 - val_accuracy: 0.2029\n",
            "Epoch 424/500\n",
            "104/104 [==============================] - 1s 5ms/step - loss: 4.8639 - accuracy: 0.1699 - val_loss: 1.9262 - val_accuracy: 0.2029\n",
            "Epoch 425/500\n",
            "104/104 [==============================] - 1s 5ms/step - loss: 4.8407 - accuracy: 0.1832 - val_loss: 1.9262 - val_accuracy: 0.2029\n",
            "Epoch 426/500\n",
            "104/104 [==============================] - 1s 5ms/step - loss: 4.6919 - accuracy: 0.1717 - val_loss: 1.9262 - val_accuracy: 0.2029\n",
            "Epoch 427/500\n",
            "104/104 [==============================] - 1s 5ms/step - loss: 4.7466 - accuracy: 0.1814 - val_loss: 1.9260 - val_accuracy: 0.2029\n",
            "Epoch 428/500\n",
            "104/104 [==============================] - 1s 6ms/step - loss: 4.8067 - accuracy: 0.1892 - val_loss: 1.9261 - val_accuracy: 0.2029\n",
            "Epoch 429/500\n",
            "104/104 [==============================] - 1s 5ms/step - loss: 4.7472 - accuracy: 0.1904 - val_loss: 1.9262 - val_accuracy: 0.2029\n",
            "Epoch 430/500\n",
            "104/104 [==============================] - 1s 5ms/step - loss: 4.6426 - accuracy: 0.1808 - val_loss: 1.9261 - val_accuracy: 0.2029\n",
            "Epoch 431/500\n",
            "104/104 [==============================] - 1s 5ms/step - loss: 4.6639 - accuracy: 0.1898 - val_loss: 1.9260 - val_accuracy: 0.2029\n",
            "Epoch 432/500\n",
            "104/104 [==============================] - 1s 6ms/step - loss: 4.7861 - accuracy: 0.1832 - val_loss: 1.9260 - val_accuracy: 0.2029\n",
            "Epoch 433/500\n",
            "104/104 [==============================] - 1s 5ms/step - loss: 4.8143 - accuracy: 0.1753 - val_loss: 1.9261 - val_accuracy: 0.2029\n",
            "Epoch 434/500\n",
            "104/104 [==============================] - 1s 5ms/step - loss: 4.7617 - accuracy: 0.2007 - val_loss: 1.9261 - val_accuracy: 0.2029\n",
            "Epoch 435/500\n",
            "104/104 [==============================] - 1s 5ms/step - loss: 4.8447 - accuracy: 0.1868 - val_loss: 1.9261 - val_accuracy: 0.2029\n",
            "Epoch 436/500\n",
            "104/104 [==============================] - 1s 5ms/step - loss: 4.8870 - accuracy: 0.1687 - val_loss: 1.9261 - val_accuracy: 0.2029\n",
            "Epoch 437/500\n",
            "104/104 [==============================] - 1s 5ms/step - loss: 4.8626 - accuracy: 0.1729 - val_loss: 1.9261 - val_accuracy: 0.2029\n",
            "Epoch 438/500\n",
            "104/104 [==============================] - 1s 5ms/step - loss: 4.5969 - accuracy: 0.1765 - val_loss: 1.9261 - val_accuracy: 0.2029\n",
            "Epoch 439/500\n",
            "104/104 [==============================] - 1s 5ms/step - loss: 4.7540 - accuracy: 0.1778 - val_loss: 1.9261 - val_accuracy: 0.2029\n",
            "Epoch 440/500\n",
            "104/104 [==============================] - 1s 5ms/step - loss: 4.8102 - accuracy: 0.1608 - val_loss: 1.9261 - val_accuracy: 0.2029\n",
            "Epoch 441/500\n",
            "104/104 [==============================] - 1s 5ms/step - loss: 4.7138 - accuracy: 0.1814 - val_loss: 1.9260 - val_accuracy: 0.2029\n",
            "Epoch 442/500\n",
            "104/104 [==============================] - 1s 5ms/step - loss: 4.7443 - accuracy: 0.1844 - val_loss: 1.9260 - val_accuracy: 0.2029\n",
            "Epoch 443/500\n",
            "104/104 [==============================] - 1s 5ms/step - loss: 4.8096 - accuracy: 0.1747 - val_loss: 1.9260 - val_accuracy: 0.2029\n",
            "Epoch 444/500\n",
            "104/104 [==============================] - 1s 5ms/step - loss: 4.7578 - accuracy: 0.1947 - val_loss: 1.9260 - val_accuracy: 0.2029\n",
            "Epoch 445/500\n",
            "104/104 [==============================] - 1s 6ms/step - loss: 4.8473 - accuracy: 0.1675 - val_loss: 1.9259 - val_accuracy: 0.2029\n",
            "Epoch 446/500\n",
            "104/104 [==============================] - 1s 5ms/step - loss: 4.9110 - accuracy: 0.1693 - val_loss: 1.9258 - val_accuracy: 0.2029\n",
            "Epoch 447/500\n",
            "104/104 [==============================] - 1s 5ms/step - loss: 4.7032 - accuracy: 0.1765 - val_loss: 1.9257 - val_accuracy: 0.2029\n",
            "Epoch 448/500\n",
            "104/104 [==============================] - 1s 6ms/step - loss: 4.8036 - accuracy: 0.1771 - val_loss: 1.9258 - val_accuracy: 0.2029\n",
            "Epoch 449/500\n",
            "104/104 [==============================] - 1s 5ms/step - loss: 4.8191 - accuracy: 0.1590 - val_loss: 1.9258 - val_accuracy: 0.2029\n",
            "Epoch 450/500\n",
            "104/104 [==============================] - 1s 5ms/step - loss: 4.6402 - accuracy: 0.1953 - val_loss: 1.9258 - val_accuracy: 0.2029\n",
            "Epoch 451/500\n",
            "104/104 [==============================] - 1s 5ms/step - loss: 4.9016 - accuracy: 0.1675 - val_loss: 1.9257 - val_accuracy: 0.2029\n",
            "Epoch 452/500\n",
            "104/104 [==============================] - 1s 5ms/step - loss: 4.7486 - accuracy: 0.1959 - val_loss: 1.9256 - val_accuracy: 0.2029\n",
            "Epoch 453/500\n",
            "104/104 [==============================] - 1s 5ms/step - loss: 4.7848 - accuracy: 0.1699 - val_loss: 1.9257 - val_accuracy: 0.2029\n",
            "Epoch 454/500\n",
            "104/104 [==============================] - 1s 5ms/step - loss: 4.7780 - accuracy: 0.1717 - val_loss: 1.9255 - val_accuracy: 0.2029\n",
            "Epoch 455/500\n",
            "104/104 [==============================] - 1s 5ms/step - loss: 4.7820 - accuracy: 0.1735 - val_loss: 1.9255 - val_accuracy: 0.2029\n",
            "Epoch 456/500\n",
            "104/104 [==============================] - 1s 5ms/step - loss: 4.8306 - accuracy: 0.1729 - val_loss: 1.9254 - val_accuracy: 0.2029\n",
            "Epoch 457/500\n",
            "104/104 [==============================] - 1s 5ms/step - loss: 4.7959 - accuracy: 0.1929 - val_loss: 1.9254 - val_accuracy: 0.2029\n",
            "Epoch 458/500\n",
            "104/104 [==============================] - 1s 5ms/step - loss: 4.8438 - accuracy: 0.1862 - val_loss: 1.9253 - val_accuracy: 0.2029\n",
            "Epoch 459/500\n",
            "104/104 [==============================] - 1s 6ms/step - loss: 4.8338 - accuracy: 0.1832 - val_loss: 1.9252 - val_accuracy: 0.2029\n",
            "Epoch 460/500\n",
            "104/104 [==============================] - 1s 5ms/step - loss: 4.8201 - accuracy: 0.1741 - val_loss: 1.9251 - val_accuracy: 0.2029\n",
            "Epoch 461/500\n",
            "104/104 [==============================] - 1s 5ms/step - loss: 4.8303 - accuracy: 0.1886 - val_loss: 1.9250 - val_accuracy: 0.2029\n",
            "Epoch 462/500\n",
            "104/104 [==============================] - 1s 6ms/step - loss: 4.8948 - accuracy: 0.1626 - val_loss: 1.9250 - val_accuracy: 0.2029\n",
            "Epoch 463/500\n",
            "104/104 [==============================] - 1s 5ms/step - loss: 4.8004 - accuracy: 0.1735 - val_loss: 1.9248 - val_accuracy: 0.2029\n",
            "Epoch 464/500\n",
            "104/104 [==============================] - 1s 5ms/step - loss: 4.7812 - accuracy: 0.1796 - val_loss: 1.9248 - val_accuracy: 0.2029\n",
            "Epoch 465/500\n",
            "104/104 [==============================] - 1s 5ms/step - loss: 4.7251 - accuracy: 0.1784 - val_loss: 1.9248 - val_accuracy: 0.2029\n",
            "Epoch 466/500\n",
            "104/104 [==============================] - 1s 5ms/step - loss: 4.8701 - accuracy: 0.1735 - val_loss: 1.9247 - val_accuracy: 0.2029\n",
            "Epoch 467/500\n",
            "104/104 [==============================] - 1s 5ms/step - loss: 4.7773 - accuracy: 0.1868 - val_loss: 1.9246 - val_accuracy: 0.2029\n",
            "Epoch 468/500\n",
            "104/104 [==============================] - 1s 6ms/step - loss: 4.7822 - accuracy: 0.1862 - val_loss: 1.9244 - val_accuracy: 0.2029\n",
            "Epoch 469/500\n",
            "104/104 [==============================] - 1s 6ms/step - loss: 4.7352 - accuracy: 0.1820 - val_loss: 1.9243 - val_accuracy: 0.2029\n",
            "Epoch 470/500\n",
            "104/104 [==============================] - 1s 6ms/step - loss: 4.7403 - accuracy: 0.1880 - val_loss: 1.9242 - val_accuracy: 0.2029\n",
            "Epoch 471/500\n",
            "104/104 [==============================] - 1s 5ms/step - loss: 4.8584 - accuracy: 0.1753 - val_loss: 1.9240 - val_accuracy: 0.2029\n",
            "Epoch 472/500\n",
            "104/104 [==============================] - 1s 6ms/step - loss: 4.5855 - accuracy: 0.1826 - val_loss: 1.9241 - val_accuracy: 0.2029\n",
            "Epoch 473/500\n",
            "104/104 [==============================] - 1s 6ms/step - loss: 4.7136 - accuracy: 0.1917 - val_loss: 1.9240 - val_accuracy: 0.2029\n",
            "Epoch 474/500\n",
            "104/104 [==============================] - 1s 5ms/step - loss: 4.6702 - accuracy: 0.1959 - val_loss: 1.9239 - val_accuracy: 0.2029\n",
            "Epoch 475/500\n",
            "104/104 [==============================] - 1s 6ms/step - loss: 4.8380 - accuracy: 0.1790 - val_loss: 1.9238 - val_accuracy: 0.2029\n",
            "Epoch 476/500\n",
            "104/104 [==============================] - 1s 5ms/step - loss: 4.8422 - accuracy: 0.1778 - val_loss: 1.9238 - val_accuracy: 0.2029\n",
            "Epoch 477/500\n",
            "104/104 [==============================] - 1s 5ms/step - loss: 4.8981 - accuracy: 0.1790 - val_loss: 1.9238 - val_accuracy: 0.2029\n",
            "Epoch 478/500\n",
            "104/104 [==============================] - 1s 5ms/step - loss: 4.5980 - accuracy: 0.1784 - val_loss: 1.9237 - val_accuracy: 0.2029\n",
            "Epoch 479/500\n",
            "104/104 [==============================] - 1s 5ms/step - loss: 4.7546 - accuracy: 0.1778 - val_loss: 1.9237 - val_accuracy: 0.2029\n",
            "Epoch 480/500\n",
            "104/104 [==============================] - 1s 5ms/step - loss: 4.8656 - accuracy: 0.1735 - val_loss: 1.9236 - val_accuracy: 0.2029\n",
            "Epoch 481/500\n",
            "104/104 [==============================] - 1s 6ms/step - loss: 4.6851 - accuracy: 0.1886 - val_loss: 1.9235 - val_accuracy: 0.2029\n",
            "Epoch 482/500\n",
            "104/104 [==============================] - 1s 6ms/step - loss: 4.8833 - accuracy: 0.1778 - val_loss: 1.9233 - val_accuracy: 0.2029\n",
            "Epoch 483/500\n",
            "104/104 [==============================] - 1s 6ms/step - loss: 4.8782 - accuracy: 0.1790 - val_loss: 1.9232 - val_accuracy: 0.2029\n",
            "Epoch 484/500\n",
            "104/104 [==============================] - 1s 5ms/step - loss: 4.8622 - accuracy: 0.1856 - val_loss: 1.9233 - val_accuracy: 0.2029\n",
            "Epoch 485/500\n",
            "104/104 [==============================] - 1s 6ms/step - loss: 4.7109 - accuracy: 0.1826 - val_loss: 1.9232 - val_accuracy: 0.2029\n",
            "Epoch 486/500\n",
            "104/104 [==============================] - 1s 6ms/step - loss: 4.8226 - accuracy: 0.1644 - val_loss: 1.9232 - val_accuracy: 0.2029\n",
            "Epoch 487/500\n",
            "104/104 [==============================] - 1s 5ms/step - loss: 4.6824 - accuracy: 0.1850 - val_loss: 1.9232 - val_accuracy: 0.2029\n",
            "Epoch 488/500\n",
            "104/104 [==============================] - 1s 5ms/step - loss: 4.7536 - accuracy: 0.1657 - val_loss: 1.9231 - val_accuracy: 0.2029\n",
            "Epoch 489/500\n",
            "104/104 [==============================] - 1s 6ms/step - loss: 4.5954 - accuracy: 0.1856 - val_loss: 1.9230 - val_accuracy: 0.2029\n",
            "Epoch 490/500\n",
            "104/104 [==============================] - 1s 5ms/step - loss: 4.8353 - accuracy: 0.1729 - val_loss: 1.9229 - val_accuracy: 0.2029\n",
            "Epoch 491/500\n",
            "104/104 [==============================] - 1s 6ms/step - loss: 4.6228 - accuracy: 0.1868 - val_loss: 1.9229 - val_accuracy: 0.2029\n",
            "Epoch 492/500\n",
            "104/104 [==============================] - 1s 6ms/step - loss: 4.6756 - accuracy: 0.1771 - val_loss: 1.9229 - val_accuracy: 0.2029\n",
            "Epoch 493/500\n",
            "104/104 [==============================] - 1s 6ms/step - loss: 4.7873 - accuracy: 0.1687 - val_loss: 1.9228 - val_accuracy: 0.2029\n",
            "Epoch 494/500\n",
            "104/104 [==============================] - 1s 6ms/step - loss: 4.8024 - accuracy: 0.1602 - val_loss: 1.9228 - val_accuracy: 0.2029\n",
            "Epoch 495/500\n",
            "104/104 [==============================] - 1s 6ms/step - loss: 4.8191 - accuracy: 0.1681 - val_loss: 1.9229 - val_accuracy: 0.2029\n",
            "Epoch 496/500\n",
            "104/104 [==============================] - 1s 5ms/step - loss: 4.7627 - accuracy: 0.1917 - val_loss: 1.9228 - val_accuracy: 0.2029\n",
            "Epoch 497/500\n",
            "104/104 [==============================] - 1s 5ms/step - loss: 4.8662 - accuracy: 0.1699 - val_loss: 1.9227 - val_accuracy: 0.2029\n",
            "Epoch 498/500\n",
            "104/104 [==============================] - 1s 6ms/step - loss: 4.7340 - accuracy: 0.1790 - val_loss: 1.9228 - val_accuracy: 0.2029\n",
            "Epoch 499/500\n",
            "104/104 [==============================] - 1s 6ms/step - loss: 4.7234 - accuracy: 0.1808 - val_loss: 1.9227 - val_accuracy: 0.2029\n",
            "Epoch 500/500\n",
            "104/104 [==============================] - 1s 5ms/step - loss: 4.7760 - accuracy: 0.1832 - val_loss: 1.9228 - val_accuracy: 0.2029\n"
          ]
        }
      ]
    },
    {
      "cell_type": "code",
      "source": [
        "plt.plot(cnnhistory.history['loss'])\n",
        "plt.plot(cnnhistory.history['val_loss'])\n",
        "plt.title('model loss')\n",
        "plt.ylabel('loss')\n",
        "plt.xlabel('epoch')\n",
        "plt.legend(['train','test'], loc='upper left')\n",
        "plt.show()"
      ],
      "metadata": {
        "colab": {
          "base_uri": "https://localhost:8080/",
          "height": 295
        },
        "id": "oQYnuaCrDH_A",
        "outputId": "d6fa9c96-4255-46d5-85a4-36ba1677d807"
      },
      "execution_count": 11,
      "outputs": [
        {
          "output_type": "display_data",
          "data": {
            "text/plain": [
              "<Figure size 432x288 with 1 Axes>"
            ],
            "image/png": "[encoded data removed]"
          },
          "metadata": {
            "needs_background": "light"
          }
        }
      ]
    },
    {
      "cell_type": "code",
      "source": [
        "plt.plot(cnnhistory.history['accuracy'])\n",
        "plt.plot(cnnhistory.history['val_accuracy'])\n",
        "plt.title('model accuracy')\n",
        "plt.ylabel('accuracy')\n",
        "plt.xlabel('epoch')\n",
        "plt.legend(['train','test'], loc='upper left')\n",
        "plt.show()"
      ],
      "metadata": {
        "colab": {
          "base_uri": "https://localhost:8080/",
          "height": 295
        },
        "id": "IFkTuO8nDNdq",
        "outputId": "5c4ba20b-6a39-4e33-b37e-61a2ef6ea573"
      },
      "execution_count": 12,
      "outputs": [
        {
          "output_type": "display_data",
          "data": {
            "text/plain": [
              "<Figure size 432x288 with 1 Axes>"
            ],
            "image/png": "[encoded data removed]"
          },
          "metadata": {
            "needs_background": "light"
          }
        }
      ]
    },
    {
      "cell_type": "code",
      "source": [
        "predictions = model.predict(x_testcnn)"
      ],
      "metadata": {
        "id": "A2xtrN5wDQgY"
      },
      "execution_count": 13,
      "outputs": []
    },
    {
      "cell_type": "code",
      "source": [
        "predictions"
      ],
      "metadata": {
        "colab": {
          "base_uri": "https://localhost:8080/"
        },
        "id": "_f_ohjXKDUpY",
        "outputId": "f4520be3-a8b5-41ec-db69-a7d9732dd1da"
      },
      "execution_count": 14,
      "outputs": [
        {
          "output_type": "execute_result",
          "data": {
            "text/plain": [
              "array([[0.26577693, 0.09288301, 0.11380232, 0.34041008, 0.11671019,\n",
              "        0.07041749],\n",
              "       [0.23651384, 0.08420771, 0.17116986, 0.3053343 , 0.14955032,\n",
              "        0.05322402],\n",
              "       [0.23439367, 0.08370919, 0.1042168 , 0.42908016, 0.10406767,\n",
              "        0.04453256],\n",
              "       ...,\n",
              "       [0.21403302, 0.13366553, 0.14549547, 0.18331341, 0.20827825,\n",
              "        0.11521434],\n",
              "       [0.15453163, 0.18411496, 0.14895897, 0.22699325, 0.19378784,\n",
              "        0.09161332],\n",
              "       [0.154599  , 0.09005353, 0.13804874, 0.38496485, 0.13910946,\n",
              "        0.09322447]], dtype=float32)"
            ]
          },
          "metadata": {},
          "execution_count": 14
        }
      ]
    },
    {
      "cell_type": "code",
      "source": [
        "y_test"
      ],
      "metadata": {
        "colab": {
          "base_uri": "https://localhost:8080/"
        },
        "id": "cmA2bFgsDW3D",
        "outputId": "6eb76248-67bb-49ab-d0b1-09ff8af97c9b"
      },
      "execution_count": 15,
      "outputs": [
        {
          "output_type": "execute_result",
          "data": {
            "text/plain": [
              "array([3, 3, 3, 0, 4, 4, 1, 2, 5, 0, 5, 3, 2, 2, 1, 4, 4, 5, 2, 4, 1, 2,\n",
              "       3, 5, 4, 2, 1, 2, 2, 2, 2, 5, 2, 5, 3, 1, 2, 0, 4, 5, 2, 3, 2, 2,\n",
              "       5, 2, 0, 1, 3, 4, 4, 5, 1, 1, 4, 4, 5, 1, 1, 1, 0, 1, 5, 0, 4, 1,\n",
              "       1, 0, 1, 4, 1, 0, 4, 1, 3, 1, 2, 2, 1, 2, 3, 0, 5, 3, 5, 5, 2, 4,\n",
              "       5, 1, 5, 1, 5, 3, 4, 1, 4, 1, 5, 4, 5, 1, 2, 1, 1, 5, 1, 3, 2, 5,\n",
              "       2, 1, 3, 5, 4, 4, 0, 0, 3, 1, 2, 2, 3, 5, 1, 5, 3, 4, 2, 2, 0, 2,\n",
              "       2, 5, 5, 0, 3, 3, 2, 2, 0, 3, 4, 0, 4, 2, 4, 5, 4, 1, 5, 3, 2, 2,\n",
              "       5, 4, 3, 3, 4, 3, 3, 4, 1, 5, 2, 3, 2, 2, 0, 2, 1, 3, 1, 2, 2, 5,\n",
              "       5, 1, 4, 2, 2, 1, 1, 3, 3, 5, 5, 2, 5, 1, 5, 0, 3, 3, 0, 5, 1, 4,\n",
              "       1, 4, 2, 5, 5, 1, 4, 2, 4])"
            ]
          },
          "metadata": {},
          "execution_count": 15
        }
      ]
    },
    {
      "cell_type": "code",
      "source": [
        "new_Ytest = y_test.astype(int)"
      ],
      "metadata": {
        "id": "0PHDKWJWDY3g"
      },
      "execution_count": 16,
      "outputs": []
    },
    {
      "cell_type": "code",
      "source": [
        "new_Ytest"
      ],
      "metadata": {
        "colab": {
          "base_uri": "https://localhost:8080/"
        },
        "id": "k68v2i-pDbZE",
        "outputId": "ee06675d-b2c4-4b28-f9bd-bbe8a9cf2818"
      },
      "execution_count": 17,
      "outputs": [
        {
          "output_type": "execute_result",
          "data": {
            "text/plain": [
              "array([3, 3, 3, 0, 4, 4, 1, 2, 5, 0, 5, 3, 2, 2, 1, 4, 4, 5, 2, 4, 1, 2,\n",
              "       3, 5, 4, 2, 1, 2, 2, 2, 2, 5, 2, 5, 3, 1, 2, 0, 4, 5, 2, 3, 2, 2,\n",
              "       5, 2, 0, 1, 3, 4, 4, 5, 1, 1, 4, 4, 5, 1, 1, 1, 0, 1, 5, 0, 4, 1,\n",
              "       1, 0, 1, 4, 1, 0, 4, 1, 3, 1, 2, 2, 1, 2, 3, 0, 5, 3, 5, 5, 2, 4,\n",
              "       5, 1, 5, 1, 5, 3, 4, 1, 4, 1, 5, 4, 5, 1, 2, 1, 1, 5, 1, 3, 2, 5,\n",
              "       2, 1, 3, 5, 4, 4, 0, 0, 3, 1, 2, 2, 3, 5, 1, 5, 3, 4, 2, 2, 0, 2,\n",
              "       2, 5, 5, 0, 3, 3, 2, 2, 0, 3, 4, 0, 4, 2, 4, 5, 4, 1, 5, 3, 2, 2,\n",
              "       5, 4, 3, 3, 4, 3, 3, 4, 1, 5, 2, 3, 2, 2, 0, 2, 1, 3, 1, 2, 2, 5,\n",
              "       5, 1, 4, 2, 2, 1, 1, 3, 3, 5, 5, 2, 5, 1, 5, 0, 3, 3, 0, 5, 1, 4,\n",
              "       1, 4, 2, 5, 5, 1, 4, 2, 4])"
            ]
          },
          "metadata": {},
          "execution_count": 17
        }
      ]
    },
    {
      "cell_type": "code",
      "source": [
        "preds1=predictions.argmax(axis=1)\n",
        "preds1"
      ],
      "metadata": {
        "colab": {
          "base_uri": "https://localhost:8080/"
        },
        "id": "4_cAI39VFhtp",
        "outputId": "f2f38b21-1698-4206-d469-5c4c5aad0cfa"
      },
      "execution_count": 18,
      "outputs": [
        {
          "output_type": "execute_result",
          "data": {
            "text/plain": [
              "array([3, 3, 3, 3, 3, 4, 3, 3, 3, 3, 3, 3, 3, 3, 3, 3, 3, 3, 3, 3, 3, 3,\n",
              "       3, 3, 3, 3, 3, 3, 3, 3, 3, 3, 3, 3, 3, 0, 3, 3, 3, 3, 3, 3, 3, 3,\n",
              "       3, 3, 3, 3, 3, 3, 3, 3, 3, 3, 4, 3, 3, 3, 3, 3, 3, 3, 3, 3, 3, 3,\n",
              "       4, 3, 3, 3, 3, 3, 3, 3, 3, 3, 0, 1, 3, 3, 3, 3, 3, 3, 0, 3, 3, 3,\n",
              "       3, 3, 3, 3, 3, 3, 3, 3, 3, 3, 3, 3, 3, 3, 3, 3, 3, 3, 3, 3, 4, 3,\n",
              "       3, 3, 3, 3, 3, 3, 3, 3, 3, 3, 3, 3, 3, 3, 3, 3, 3, 3, 4, 3, 3, 3,\n",
              "       4, 3, 3, 3, 3, 3, 3, 3, 0, 3, 3, 3, 3, 3, 3, 3, 3, 3, 3, 3, 3, 3,\n",
              "       3, 3, 3, 3, 3, 3, 3, 3, 3, 4, 1, 3, 3, 3, 3, 3, 3, 3, 4, 3, 3, 3,\n",
              "       3, 3, 3, 3, 3, 3, 3, 3, 3, 3, 3, 3, 3, 3, 3, 3, 3, 3, 3, 3, 0, 3,\n",
              "       3, 3, 3, 3, 3, 3, 0, 3, 3])"
            ]
          },
          "metadata": {},
          "execution_count": 18
        }
      ]
    },
    {
      "cell_type": "code",
      "source": [
        "abc = preds1.astype(int).flatten()"
      ],
      "metadata": {
        "id": "H4WEmM60NfQn"
      },
      "execution_count": 19,
      "outputs": []
    },
    {
      "cell_type": "code",
      "source": [
        "from sklearn.metrics import confusion_matrix\n",
        "c = confusion_matrix(new_Ytest, abc) \n",
        "c"
      ],
      "metadata": {
        "colab": {
          "base_uri": "https://localhost:8080/"
        },
        "id": "bKEBeEBlFjB8",
        "outputId": "271ff72b-26ed-4b91-9374-3a735377349a"
      },
      "execution_count": 20,
      "outputs": [
        {
          "output_type": "execute_result",
          "data": {
            "text/plain": [
              "array([[ 1,  0,  0, 17,  0,  0],\n",
              "       [ 2,  0,  0, 37,  2,  0],\n",
              "       [ 1,  2,  0, 39,  3,  0],\n",
              "       [ 0,  0,  0, 31,  0,  0],\n",
              "       [ 1,  0,  0, 30,  2,  0],\n",
              "       [ 1,  0,  0, 37,  1,  0]])"
            ]
          },
          "metadata": {},
          "execution_count": 20
        }
      ]
    },
    {
      "cell_type": "code",
      "source": [
        "y_test"
      ],
      "metadata": {
        "colab": {
          "base_uri": "https://localhost:8080/"
        },
        "id": "m4RjG7LWLSQx",
        "outputId": "bdd1a321-5e75-43df-c5c2-173bbbce3737"
      },
      "execution_count": 21,
      "outputs": [
        {
          "output_type": "execute_result",
          "data": {
            "text/plain": [
              "array([3, 3, 3, 0, 4, 4, 1, 2, 5, 0, 5, 3, 2, 2, 1, 4, 4, 5, 2, 4, 1, 2,\n",
              "       3, 5, 4, 2, 1, 2, 2, 2, 2, 5, 2, 5, 3, 1, 2, 0, 4, 5, 2, 3, 2, 2,\n",
              "       5, 2, 0, 1, 3, 4, 4, 5, 1, 1, 4, 4, 5, 1, 1, 1, 0, 1, 5, 0, 4, 1,\n",
              "       1, 0, 1, 4, 1, 0, 4, 1, 3, 1, 2, 2, 1, 2, 3, 0, 5, 3, 5, 5, 2, 4,\n",
              "       5, 1, 5, 1, 5, 3, 4, 1, 4, 1, 5, 4, 5, 1, 2, 1, 1, 5, 1, 3, 2, 5,\n",
              "       2, 1, 3, 5, 4, 4, 0, 0, 3, 1, 2, 2, 3, 5, 1, 5, 3, 4, 2, 2, 0, 2,\n",
              "       2, 5, 5, 0, 3, 3, 2, 2, 0, 3, 4, 0, 4, 2, 4, 5, 4, 1, 5, 3, 2, 2,\n",
              "       5, 4, 3, 3, 4, 3, 3, 4, 1, 5, 2, 3, 2, 2, 0, 2, 1, 3, 1, 2, 2, 5,\n",
              "       5, 1, 4, 2, 2, 1, 1, 3, 3, 5, 5, 2, 5, 1, 5, 0, 3, 3, 0, 5, 1, 4,\n",
              "       1, 4, 2, 5, 5, 1, 4, 2, 4])"
            ]
          },
          "metadata": {},
          "execution_count": 21
        }
      ]
    },
    {
      "cell_type": "code",
      "source": [
        "model.save('/content/drive/My Drive/graduation project/audio/paper_code/mariam/original_500 epoch_with_valid_Adam2_3')\n",
        "print(\"MODEL SAVED\")"
      ],
      "metadata": {
        "colab": {
          "base_uri": "https://localhost:8080/"
        },
        "id": "lsJBNeMWDl6Z",
        "outputId": "ed96267e-046d-45db-d259-833819b1e6f2"
      },
      "execution_count": null,
      "outputs": [
        {
          "output_type": "stream",
          "name": "stdout",
          "text": [
            "INFO:tensorflow:Assets written to: /content/drive/My Drive/graduation project/audio/paper_code/mariam/original_500 epoch_with_valid_Adam2_3/assets\n",
            "MODEL SAVED\n"
          ]
        }
      ]
    },
    {
      "cell_type": "code",
      "source": [
        "new_model=keras.models.load_model('/content/drive/My Drive/graduation project/audio/paper_code/mariam/original_500 epoch_with_valid_Adam2_3')\n",
        "new_model.summary()"
      ],
      "metadata": {
        "colab": {
          "base_uri": "https://localhost:8080/"
        },
        "id": "Q3KjaO9GDoNl",
        "outputId": "b509c41b-32e6-434b-f23d-4c04a29eb7c5"
      },
      "execution_count": null,
      "outputs": [
        {
          "output_type": "stream",
          "name": "stdout",
          "text": [
            "Model: \"sequential\"\n",
            "_________________________________________________________________\n",
            " Layer (type)                Output Shape              Param #   \n",
            "=================================================================\n",
            " conv1d (Conv1D)             (None, 40, 128)           1152      \n",
            "                                                                 \n",
            " activation (Activation)     (None, 40, 128)           0         \n",
            "                                                                 \n",
            " dropout (Dropout)           (None, 40, 128)           0         \n",
            "                                                                 \n",
            " max_pooling1d (MaxPooling1D  (None, 8, 128)           0         \n",
            " )                                                               \n",
            "                                                                 \n",
            " conv1d_1 (Conv1D)           (None, 8, 256)            262400    \n",
            "                                                                 \n",
            " activation_1 (Activation)   (None, 8, 256)            0         \n",
            "                                                                 \n",
            " dropout_1 (Dropout)         (None, 8, 256)            0         \n",
            "                                                                 \n",
            " max_pooling1d_1 (MaxPooling  (None, 1, 256)           0         \n",
            " 1D)                                                             \n",
            "                                                                 \n",
            " flatten (Flatten)           (None, 256)               0         \n",
            "                                                                 \n",
            " dense (Dense)               (None, 256)               65792     \n",
            "                                                                 \n",
            " activation_2 (Activation)   (None, 256)               0         \n",
            "                                                                 \n",
            " dense_1 (Dense)             (None, 256)               65792     \n",
            "                                                                 \n",
            " activation_3 (Activation)   (None, 256)               0         \n",
            "                                                                 \n",
            " dense_2 (Dense)             (None, 6)                 1542      \n",
            "                                                                 \n",
            " activation_4 (Activation)   (None, 6)                 0         \n",
            "                                                                 \n",
            "=================================================================\n",
            "Total params: 396,678\n",
            "Trainable params: 396,678\n",
            "Non-trainable params: 0\n",
            "_________________________________________________________________\n"
          ]
        }
      ]
    },
    {
      "cell_type": "code",
      "source": [
        "loss, acc =model.evaluate(x_testcnn, y_test)\n",
        "print(\"Restored model, accuracy: {:5.2f}%\".format(100*acc))"
      ],
      "metadata": {
        "colab": {
          "base_uri": "https://localhost:8080/"
        },
        "id": "n3kzoqPkDqqS",
        "outputId": "2cd06f77-1200-4635-d1d8-2c40b084fc7c"
      },
      "execution_count": 22,
      "outputs": [
        {
          "output_type": "stream",
          "name": "stdout",
          "text": [
            "7/7 [==============================] - 0s 3ms/step - loss: 1.9739 - accuracy: 0.1643\n",
            "Restored model, accuracy: 16.43%\n"
          ]
        }
      ]
    },
    {
      "cell_type": "code",
      "source": [
        "loss, acc =model.evaluate(X_train, y_train)\n",
        "print(\"Restored model train, accuracy: {:5.2f}%\".format(100*acc))"
      ],
      "metadata": {
        "id": "fJDTGH_OUX0z",
        "colab": {
          "base_uri": "https://localhost:8080/"
        },
        "outputId": "4ac55cce-9150-46e7-a571-353518af4e5c"
      },
      "execution_count": 23,
      "outputs": [
        {
          "output_type": "stream",
          "name": "stdout",
          "text": [
            "52/52 [==============================] - 0s 4ms/step - loss: 1.9195 - accuracy: 0.1971\n",
            "Restored model train, accuracy: 19.71%\n"
          ]
        }
      ]
    },
    {
      "cell_type": "code",
      "source": [
        "from sklearn.metrics import classification_report, confusion_matrix,accuracy_score\n",
        "import seaborn as sn\n",
        "\n",
        "print(classification_report(new_Ytest,abc))\n",
        "\n",
        "acc = float(accuracy_score(new_Ytest,abc))*100\n",
        "print(\"----accuracy score %s ----\" % acc)\n",
        "\n",
        "cm = confusion_matrix(new_Ytest,abc)\n",
        "#df_cm = pd.DataFrame(cm)\n",
        "class_names = ['neutral','calm', 'happy','sad','angry', 'fearful' ]\n",
        "df_cm = pd.DataFrame(cm, index=class_names, columns=class_names,)\n",
        "sn.heatmap(df_cm, annot=True, fmt='')\n",
        "plt.show()"
      ],
      "metadata": {
        "colab": {
          "base_uri": "https://localhost:8080/",
          "height": 716
        },
        "id": "SfSC3El94LZg",
        "outputId": "bb117d09-f0e9-4463-9732-b31f5bfa4be0"
      },
      "execution_count": 24,
      "outputs": [
        {
          "output_type": "stream",
          "name": "stderr",
          "text": [
            "/usr/local/lib/python3.7/dist-packages/sklearn/metrics/_classification.py:1318: UndefinedMetricWarning:\n",
            "\n",
            "Precision and F-score are ill-defined and being set to 0.0 in labels with no predicted samples. Use `zero_division` parameter to control this behavior.\n",
            "\n",
            "/usr/local/lib/python3.7/dist-packages/sklearn/metrics/_classification.py:1318: UndefinedMetricWarning:\n",
            "\n",
            "Precision and F-score are ill-defined and being set to 0.0 in labels with no predicted samples. Use `zero_division` parameter to control this behavior.\n",
            "\n",
            "/usr/local/lib/python3.7/dist-packages/sklearn/metrics/_classification.py:1318: UndefinedMetricWarning:\n",
            "\n",
            "Precision and F-score are ill-defined and being set to 0.0 in labels with no predicted samples. Use `zero_division` parameter to control this behavior.\n",
            "\n"
          ]
        },
        {
          "output_type": "stream",
          "name": "stdout",
          "text": [
            "              precision    recall  f1-score   support\n",
            "\n",
            "           0       0.17      0.06      0.08        18\n",
            "           1       0.00      0.00      0.00        41\n",
            "           2       0.00      0.00      0.00        45\n",
            "           3       0.16      1.00      0.28        31\n",
            "           4       0.25      0.06      0.10        33\n",
            "           5       0.00      0.00      0.00        39\n",
            "\n",
            "    accuracy                           0.16       207\n",
            "   macro avg       0.10      0.19      0.08       207\n",
            "weighted avg       0.08      0.16      0.06       207\n",
            "\n",
            "----accuracy score 16.425120772946862 ----\n"
          ]
        },
        {
          "output_type": "display_data",
          "data": {
            "text/plain": [
              "<Figure size 432x288 with 2 Axes>"
            ],
            "image/png": "[encoded data removed]"
          },
          "metadata": {
            "needs_background": "light"
          }
        }
      ]
    },
    {
      "cell_type": "code",
      "source": [
        ""
      ],
      "metadata": {
        "id": "LGpgwFQqkpyU"
      },
      "execution_count": null,
      "outputs": []
    }
  ]
}