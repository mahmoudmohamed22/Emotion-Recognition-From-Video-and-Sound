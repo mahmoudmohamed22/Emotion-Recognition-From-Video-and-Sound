{
  "nbformat": 4,
  "nbformat_minor": 0,
  "metadata": {
    "colab": {
      "name": "transformer and dropout berfore dense layer 76%.ipynb",
      "provenance": [],
      "collapsed_sections": []
    },
    "kernelspec": {
      "name": "python3",
      "display_name": "Python 3"
    },
    "language_info": {
      "name": "python"
    }
  },
  "cells": [
    {
      "cell_type": "code",
      "execution_count": null,
      "metadata": {
        "colab": {
          "base_uri": "https://localhost:8080/"
        },
        "id": "9SRCO-a_AlH5",
        "outputId": "1ecb64cd-5439-4dd3-c733-1fbc61b96333"
      },
      "outputs": [
        {
          "output_type": "stream",
          "name": "stdout",
          "text": [
            "Mounted at /content/drive\n"
          ]
        }
      ],
      "source": [
        "from google.colab import drive\n",
        "drive.mount('/content/drive')"
      ]
    },
    {
      "cell_type": "code",
      "metadata": {
        "id": "HJjcbxwy46bG",
        "colab": {
          "base_uri": "https://localhost:8080/",
          "height": 17
        },
        "outputId": "7dc7093d-33c6-4244-95c9-610b4bebb1d2"
      },
      "source": [
        "# Orignial Notebook: https://github.com/MITESHPUTHRANNEU/Speech-Emotion-Analyzer/blob/master/final_results_gender_test.ipynb\n",
        "# This notebook author: Reza Chu\n",
        "# Last Editing Date: 31st May 2019\n",
        "\n",
        "## Python\n",
        "import os\n",
        "import random\n",
        "import sys\n",
        "\n",
        "import IPython\n",
        "from IPython.display import Audio\n",
        "from IPython.display import Image\n",
        "import matplotlib.pyplot as plt\n",
        "\n",
        "## Package\n",
        "import glob \n",
        "import keras\n",
        "import IPython.display as ipd\n",
        "import librosa\n",
        "import librosa.display\n",
        "import matplotlib.pyplot as plt\n",
        "import numpy as np\n",
        "import pandas as pd\n",
        "import plotly.graph_objs as go\n",
        "import plotly.offline as py\n",
        "import plotly.tools as tls\n",
        "import seaborn as sns\n",
        "import scipy.io.wavfile\n",
        "import tensorflow as tf\n",
        "py.init_notebook_mode(connected=True)\n",
        "\n",
        "## Keras\n",
        "from keras import regularizers\n",
        "from keras.callbacks import ModelCheckpoint, LearningRateScheduler, EarlyStopping\n",
        "from keras.callbacks import  History, ReduceLROnPlateau, CSVLogger\n",
        "from keras.models import Model, Sequential\n",
        "from keras.layers import Dense, Embedding, LSTM\n",
        "from keras.layers import Input, Flatten, Dropout, Activation, BatchNormalization\n",
        "from keras.layers import Conv1D, MaxPooling1D, AveragePooling1D\n",
        "from keras.preprocessing import sequence\n",
        "from keras.preprocessing.sequence import pad_sequences\n",
        "from keras.preprocessing.text import Tokenizer\n",
        "from keras.utils import np_utils\n",
        "from tensorflow.keras.utils import to_categorical\n",
        "\n",
        "## Sklearn\n",
        "from sklearn.metrics import confusion_matrix\n",
        "from sklearn.preprocessing import LabelEncoder\n",
        "\n",
        "## Rest\n",
        "from scipy.fftpack import fft\n",
        "from scipy import signal\n",
        "from scipy.io import wavfile\n",
        "from tqdm import tqdm\n",
        "\n",
        "input_duration=3\n",
        "# % pylab inline"
      ],
      "execution_count": null,
      "outputs": [
        {
          "output_type": "display_data",
          "data": {
            "text/html": [
              "        <script type=\"text/javascript\">\n",
              "        window.PlotlyConfig = {MathJaxConfig: 'local'};\n",
              "        if (window.MathJax) {MathJax.Hub.Config({SVG: {font: \"STIX-Web\"}});}\n",
              "        if (typeof require !== 'undefined') {\n",
              "        require.undef(\"plotly\");\n",
              "        requirejs.config({\n",
              "            paths: {\n",
              "                'plotly': ['https://cdn.plot.ly/plotly-2.8.3.min']\n",
              "            }\n",
              "        });\n",
              "        require(['plotly'], function(Plotly) {\n",
              "            window._Plotly = Plotly;\n",
              "        });\n",
              "        }\n",
              "        </script>\n",
              "        "
            ]
          },
          "metadata": {}
        }
      ]
    },
    {
      "cell_type": "code",
      "source": [
        "#radvass speech and song\n",
        "import time\n",
        "import os\n",
        "import librosa\n",
        "from librosa import display\n",
        "import matplotlib.pyplot as plt\n",
        "\n",
        "count=0\n",
        "path1 = '/content/drive/My Drive/data_set/RAVDESS_speech'\n",
        "path2 = '/content/drive/My Drive/data_set/RAVDESS_song'\n",
        "\n",
        "lst = []\n",
        "\n",
        "start_time = time.time()\n",
        "\n",
        "for subdir, dirs, files in os.walk(path2):\n",
        "  #print(dirs)\n",
        "  #print(subdir)\n",
        "  #print(files)\n",
        "  for file in files:\n",
        "      try:\n",
        "        count +=1\n",
        "        #Load librosa array, obtain mfcss, store the file and the mcss information in a new array\n",
        "        X, sample_rate = librosa.load(os.path.join(subdir,file), res_type='kaiser_fast')\n",
        "        #mfccs = np.mean(librosa.feature.mfcc(y=X, sr=sample_rate, n_mfcc=40).T,axis=0) \n",
        "        # The instruction below converts the labels (from 1 to 8) to a series from 0 to 7\n",
        "        # This is because our predictor needs to start from 0 otherwise it will try to predict also 0.\n",
        "        emo = int(file[7:8]) - 1 \n",
        "        arr = X, emo\n",
        "        lst.append(arr)\n",
        "      # If the file is not valid, skip it\n",
        "      except ValueError:\n",
        "        continue\n",
        "\n",
        "for subdir, dirs, files in os.walk(path1):\n",
        "  #print(dirs)\n",
        "  #print(subdir)\n",
        " # print(files)\n",
        "  for file in files:\n",
        "      try:\n",
        "        emo = int(file[7:8]) - 1 \n",
        "        if(emo==6 or emo==7):\n",
        "          continue\n",
        "        #Load librosa array, obtain mfcss, store the file and the mcss information in a new array\n",
        "        X, sample_rate = librosa.load(os.path.join(subdir,file), res_type='kaiser_fast')\n",
        "        #mfccs = np.mean(librosa.feature.mfcc(y=X, sr=sample_rate, n_mfcc=40).T,axis=0) \n",
        "        # The instruction below converts the labels (from 1 to 8) to a series from 0 to 7\n",
        "        # This is because our predictor needs to start from 0 otherwise it will try to predict also 0.\n",
        "        count +=1\n",
        "        arr = X, emo\n",
        "        lst.append(arr)\n",
        "      # If the file is not valid, skip it\n",
        "      except ValueError:\n",
        "        continue\n",
        "print(\"--- Data loaded. Loading time: %s seconds ---\" % (time.time() - start_time))"
      ],
      "metadata": {
        "colab": {
          "base_uri": "https://localhost:8080/"
        },
        "id": "IfuyRZl42ccZ",
        "outputId": "05e7bb2d-db5a-4475-9c13-55d2f53bc445"
      },
      "execution_count": null,
      "outputs": [
        {
          "output_type": "stream",
          "name": "stdout",
          "text": [
            "--- Data loaded. Loading time: 1004.7920486927032 seconds ---\n"
          ]
        }
      ]
    },
    {
      "cell_type": "code",
      "source": [
        "from numpy.core.fromnumeric import size\n",
        "size(lst)"
      ],
      "metadata": {
        "colab": {
          "base_uri": "https://localhost:8080/"
        },
        "id": "HMOH7d7mzHB7",
        "outputId": "bd85e529-b52e-412d-a5c3-9fcc26c3faae"
      },
      "execution_count": null,
      "outputs": [
        {
          "output_type": "stream",
          "name": "stderr",
          "text": [
            "/usr/local/lib/python3.7/dist-packages/numpy/core/fromnumeric.py:3208: VisibleDeprecationWarning:\n",
            "\n",
            "Creating an ndarray from ragged nested sequences (which is a list-or-tuple of lists-or-tuples-or ndarrays with different lengths or shapes) is deprecated. If you meant to do this, you must specify 'dtype=object' when creating the ndarray.\n",
            "\n"
          ]
        },
        {
          "output_type": "execute_result",
          "data": {
            "text/plain": [
              "4136"
            ]
          },
          "metadata": {},
          "execution_count": 4
        }
      ]
    },
    {
      "cell_type": "code",
      "source": [
        "# Creating X and y: zip makes a list of all the first elements, and a list of all the second elements.\n",
        "audio_file, emotion = zip(*lst)"
      ],
      "metadata": {
        "id": "QSTRDNOgHLr6"
      },
      "execution_count": null,
      "outputs": []
    },
    {
      "cell_type": "code",
      "source": [
        "audio_file=np.asarray(audio_file)\n",
        "emotion=np.asarray(emotion)"
      ],
      "metadata": {
        "colab": {
          "base_uri": "https://localhost:8080/"
        },
        "id": "Ong1QDBXHrvk",
        "outputId": "152ff4c3-ba73-4ed9-a65e-dd3f49a16546"
      },
      "execution_count": null,
      "outputs": [
        {
          "output_type": "stream",
          "name": "stderr",
          "text": [
            "/usr/local/lib/python3.7/dist-packages/ipykernel_launcher.py:1: VisibleDeprecationWarning:\n",
            "\n",
            "Creating an ndarray from ragged nested sequences (which is a list-or-tuple of lists-or-tuples-or ndarrays with different lengths or shapes) is deprecated. If you meant to do this, you must specify 'dtype=object' when creating the ndarray.\n",
            "\n"
          ]
        }
      ]
    },
    {
      "cell_type": "code",
      "source": [
        "emotion.shape,audio_file.shape"
      ],
      "metadata": {
        "colab": {
          "base_uri": "https://localhost:8080/"
        },
        "id": "2sUCtbfMztE5",
        "outputId": "07909c10-b4b9-4b14-ae96-f9d49be9529b"
      },
      "execution_count": null,
      "outputs": [
        {
          "output_type": "execute_result",
          "data": {
            "text/plain": [
              "((2068,), (2068,))"
            ]
          },
          "metadata": {},
          "execution_count": 7
        }
      ]
    },
    {
      "cell_type": "code",
      "source": [
        "from sklearn.model_selection import train_test_split\n",
        "\n",
        "signal_train, signal_test, emo_train, emo_test = train_test_split(audio_file,emotion, test_size=0.20, random_state=42)"
      ],
      "metadata": {
        "id": "62_CZk5SH_08"
      },
      "execution_count": null,
      "outputs": []
    },
    {
      "cell_type": "code",
      "source": [
        "signal_valid, signal_test, emo_valid, emo_test = train_test_split(signal_test,emo_test, test_size=0.5,train_size=0.5, random_state=42)"
      ],
      "metadata": {
        "id": "3yaCr-AlIhEK"
      },
      "execution_count": null,
      "outputs": []
    },
    {
      "cell_type": "code",
      "source": [
        "signal_train.shape,signal_valid.shape,signal_test.shape"
      ],
      "metadata": {
        "colab": {
          "base_uri": "https://localhost:8080/"
        },
        "id": "bmJZBOwkI58f",
        "outputId": "2c0ebf00-89e2-447f-f97b-84167d46bea8"
      },
      "execution_count": null,
      "outputs": [
        {
          "output_type": "execute_result",
          "data": {
            "text/plain": [
              "((1654,), (207,), (207,))"
            ]
          },
          "metadata": {},
          "execution_count": 10
        }
      ]
    },
    {
      "cell_type": "code",
      "source": [
        "x_valid=[]\n",
        "x_test=[]\n",
        "for i in range(signal_valid.size):\n",
        "  x_valid.append(np.mean(librosa.feature.mfcc(y=signal_valid[i], sr=sample_rate, n_mfcc=40).T,axis=0))\n",
        "  #x_valid.append(np.mean(librosa.feature.chroma_stft(S=np.abs(librosa.stft(signal_valid[i])), sr=sample_rate ,n_chroma=12).T,axis=0))\n",
        "\n",
        "for i in range(signal_test.size):\n",
        "  x_test.append(np.mean(librosa.feature.mfcc(y=signal_test[i], sr=sample_rate, n_mfcc=40).T,axis=0))\n",
        "  #x_test.append(np.mean(librosa.feature.chroma_stft(S=np.abs(librosa.stft(signal_test[i])), sr=sample_rate,n_chroma=12).T,axis=0))"
      ],
      "metadata": {
        "id": "cc-N9EM8KXlq"
      },
      "execution_count": null,
      "outputs": []
    },
    {
      "cell_type": "code",
      "source": [
        "x_valid=np.asarray(x_valid)\n",
        "x_test=np.asarray(x_test)"
      ],
      "metadata": {
        "id": "FjxfamKtNikQ"
      },
      "execution_count": null,
      "outputs": []
    },
    {
      "cell_type": "code",
      "source": [
        "x_valid.shape,x_test.shape"
      ],
      "metadata": {
        "colab": {
          "base_uri": "https://localhost:8080/"
        },
        "id": "2BEbwS0hNlvq",
        "outputId": "394b699f-de0c-43de-deed-ec2f91c9c149"
      },
      "execution_count": null,
      "outputs": [
        {
          "output_type": "execute_result",
          "data": {
            "text/plain": [
              "((207, 40), (207, 40))"
            ]
          },
          "metadata": {},
          "execution_count": 13
        }
      ]
    },
    {
      "cell_type": "code",
      "source": [
        "train_lst=[]\n",
        "for i in range(signal_train.size):\n",
        "  emo=emo_train[i]\n",
        "  x=signal_train[i]\n",
        "  arr=x,emo\n",
        "  train_lst.append(arr)\n",
        "  x=librosa.effects.time_stretch(signal_train[i],0.5)\n",
        "  arr=x,emo\n",
        "  train_lst.append(arr)\n",
        "  x=librosa.effects.time_stretch(signal_train[i],1.5)\n",
        "  arr=x,emo\n",
        "  train_lst.append(arr)\n",
        "  x=librosa.effects.pitch_shift(signal_train[i],sample_rate,2)\n",
        "  arr=x,emo\n",
        "  train_lst.append(arr)"
      ],
      "metadata": {
        "id": "xf2odgMXQgOH"
      },
      "execution_count": null,
      "outputs": []
    },
    {
      "cell_type": "code",
      "source": [
        "signal, y_train = zip(*train_lst)"
      ],
      "metadata": {
        "id": "CMkZ_U0rZs0z"
      },
      "execution_count": null,
      "outputs": []
    },
    {
      "cell_type": "code",
      "source": [
        "signal=np.asarray(signal)\n",
        "y_train=np.asarray(y_train)"
      ],
      "metadata": {
        "colab": {
          "base_uri": "https://localhost:8080/"
        },
        "id": "IJbOKuiIaBxx",
        "outputId": "a8d4d229-46a1-49c3-93a5-cccc47ab2460"
      },
      "execution_count": null,
      "outputs": [
        {
          "output_type": "stream",
          "name": "stderr",
          "text": [
            "/usr/local/lib/python3.7/dist-packages/ipykernel_launcher.py:1: VisibleDeprecationWarning:\n",
            "\n",
            "Creating an ndarray from ragged nested sequences (which is a list-or-tuple of lists-or-tuples-or ndarrays with different lengths or shapes) is deprecated. If you meant to do this, you must specify 'dtype=object' when creating the ndarray.\n",
            "\n"
          ]
        }
      ]
    },
    {
      "cell_type": "code",
      "source": [
        "x_train=[]\n",
        "for i in range(signal.size):\n",
        "  x_train.append(np.mean(librosa.feature.mfcc(y=signal[i], sr=sample_rate, n_mfcc=40).T,axis=0))\n",
        "  #x_train.append(np.mean(librosa.feature.chroma_stft(S=np.abs(librosa.stft(signal_valid[i])), sr=sample_rate , n_chroma=12 ).T,axis=0))"
      ],
      "metadata": {
        "id": "Y_9_-pxcWjtj"
      },
      "execution_count": null,
      "outputs": []
    },
    {
      "cell_type": "code",
      "source": [
        "x_train=np.asarray(x_train)"
      ],
      "metadata": {
        "id": "W-giRONHaPnr"
      },
      "execution_count": null,
      "outputs": []
    },
    {
      "cell_type": "code",
      "source": [
        "x_train.shape"
      ],
      "metadata": {
        "colab": {
          "base_uri": "https://localhost:8080/"
        },
        "id": "TxH7IFawa__X",
        "outputId": "65cacdbd-f31e-4c1c-affa-f5274752f6bd"
      },
      "execution_count": null,
      "outputs": [
        {
          "output_type": "execute_result",
          "data": {
            "text/plain": [
              "(6616, 40)"
            ]
          },
          "metadata": {},
          "execution_count": 20
        }
      ]
    },
    {
      "cell_type": "code",
      "source": [
        "y_train.shape"
      ],
      "metadata": {
        "colab": {
          "base_uri": "https://localhost:8080/"
        },
        "id": "AvCXMuBobZAo",
        "outputId": "61aca1b2-3134-4c94-93cb-4b6c96b18ebd"
      },
      "execution_count": null,
      "outputs": [
        {
          "output_type": "execute_result",
          "data": {
            "text/plain": [
              "(6616,)"
            ]
          },
          "metadata": {},
          "execution_count": 21
        }
      ]
    },
    {
      "cell_type": "code",
      "source": [
        "# soruce:(https://keras.io/examples/nlp/text_classification_with_transformer/)\n",
        "import tensorflow as tf\n",
        "from tensorflow import keras\n",
        "from tensorflow.keras import layers\n",
        "class TransformerBlock(layers.Layer):\n",
        "    def __init__(self, embed_dim, num_heads, ff_dim, rate=0.1):\n",
        "        super(TransformerBlock, self).__init__()\n",
        "        self.att = layers.MultiHeadAttention(num_heads=num_heads,\n",
        "                                             key_dim=embed_dim)\n",
        "        self.ffn = keras.Sequential([\n",
        "            layers.Dense(ff_dim, activation=\"relu\"),\n",
        "            layers.Dense(embed_dim),\n",
        "        ])\n",
        "        self.layernorm1 = layers.LayerNormalization(epsilon=1e-6)\n",
        "        self.layernorm2 = layers.LayerNormalization(epsilon=1e-6)\n",
        "        self.dropout1 = layers.Dropout(rate)\n",
        "        self.dropout2 = layers.Dropout(rate)\n",
        "\n",
        "    def call(self, inputs, training):\n",
        "        attn_output = self.att(inputs, inputs)  # self-attention layer\n",
        "        attn_output = self.dropout1(attn_output, training=training)\n",
        "        out1 = self.layernorm1(inputs + attn_output)  # layer norm\n",
        "        ffn_output = self.ffn(out1)  #feed-forward layer\n",
        "        ffn_output = self.dropout2(ffn_output, training=training)\n",
        "        return self.layernorm2(out1 + ffn_output)  # layer norm"
      ],
      "metadata": {
        "id": "qklxASTmvsKt"
      },
      "execution_count": null,
      "outputs": []
    },
    {
      "cell_type": "code",
      "source": [
        "'''embed_dim = 256  # Embedding size for each token\n",
        "num_heads = 2  # Number of attention heads\n",
        "ff_dim = 256  # Hidden layer size in feed forward network inside transformer'''\n",
        "import keras\n",
        "import numpy as np\n",
        "import matplotlib.pyplot as plt\n",
        "import tensorflow as tf\n",
        "from keras.preprocessing import sequence\n",
        "from keras.models import Sequential\n",
        "from keras.layers import Dense, Embedding\n",
        "from tensorflow.keras.utils import to_categorical\n",
        "from keras.layers import Input, Flatten, Dropout, Activation\n",
        "from keras.layers import Conv1D, MaxPooling1D\n",
        "from keras.models import Model\n",
        "from keras.callbacks import ModelCheckpoint\n",
        "from tensorflow.keras import optimizers\n",
        "\n",
        "model = Sequential()\n",
        "\n",
        "model.add(Conv1D(64, 5,padding='same', #classifier.add(Convolution2D(64, (3, 3), padding = 'same', input_shape = (128, 128, 3), activation = 'relu'))\n",
        "                 input_shape=(40,1)))\n",
        "model.add(Activation('relu'))\n",
        "model.add(Dropout(0.1))\n",
        "model.add(MaxPooling1D(pool_size=(4)))\n",
        "model.add(Conv1D(128, 5,padding='same',))\n",
        "model.add(Activation('relu'))\n",
        "model.add(Dropout(0.2))\n",
        "model.add(MaxPooling1D(pool_size=(4)))\n",
        "model.add(Conv1D(256, 5,padding='same',))\n",
        "model.add(Activation('relu'))\n",
        "model.add(Dropout(0.4))\n",
        "model.add(TransformerBlock(256, 4, 512))\n",
        "model.add(Dropout(0.6))\n",
        "model.add(Flatten())\n",
        "model.add(Dense(6))\n",
        "model.add(Activation('softmax'))\n",
        "opt = tf.keras.optimizers.RMSprop(lr=0.0001, rho=0.9, epsilon=1e-07, decay=0.0)\n",
        "#opt = tf.keras.optimizers.SGD(lr=0.001, momentum=0.0, decay=0.0, nesterov=False)"
      ],
      "metadata": {
        "colab": {
          "base_uri": "https://localhost:8080/"
        },
        "id": "g74fXWVAC4Cr",
        "outputId": "7a2cae25-3444-468d-caae-733abd8e4ebb"
      },
      "execution_count": null,
      "outputs": [
        {
          "output_type": "stream",
          "name": "stderr",
          "text": [
            "/usr/local/lib/python3.7/dist-packages/keras/optimizer_v2/rmsprop.py:130: UserWarning:\n",
            "\n",
            "The `lr` argument is deprecated, use `learning_rate` instead.\n",
            "\n"
          ]
        }
      ]
    },
    {
      "cell_type": "code",
      "source": [
        "model.summary()"
      ],
      "metadata": {
        "colab": {
          "base_uri": "https://localhost:8080/"
        },
        "id": "H6ukOxAGC_I4",
        "outputId": "633a20b6-6080-4da4-e346-27cab217ee59"
      },
      "execution_count": null,
      "outputs": [
        {
          "output_type": "stream",
          "name": "stdout",
          "text": [
            "Model: \"sequential_8\"\n",
            "_________________________________________________________________\n",
            " Layer (type)                Output Shape              Param #   \n",
            "=================================================================\n",
            " conv1d_12 (Conv1D)          (None, 40, 64)            384       \n",
            "                                                                 \n",
            " activation_14 (Activation)  (None, 40, 64)            0         \n",
            "                                                                 \n",
            " dropout_21 (Dropout)        (None, 40, 64)            0         \n",
            "                                                                 \n",
            " max_pooling1d_8 (MaxPooling  (None, 10, 64)           0         \n",
            " 1D)                                                             \n",
            "                                                                 \n",
            " conv1d_13 (Conv1D)          (None, 10, 128)           41088     \n",
            "                                                                 \n",
            " activation_15 (Activation)  (None, 10, 128)           0         \n",
            "                                                                 \n",
            " dropout_22 (Dropout)        (None, 10, 128)           0         \n",
            "                                                                 \n",
            " max_pooling1d_9 (MaxPooling  (None, 2, 128)           0         \n",
            " 1D)                                                             \n",
            "                                                                 \n",
            " conv1d_14 (Conv1D)          (None, 2, 256)            164096    \n",
            "                                                                 \n",
            " activation_16 (Activation)  (None, 2, 256)            0         \n",
            "                                                                 \n",
            " dropout_23 (Dropout)        (None, 2, 256)            0         \n",
            "                                                                 \n",
            " transformer_block_4 (Transf  (None, 2, 256)           1315840   \n",
            " ormerBlock)                                                     \n",
            "                                                                 \n",
            " dropout_26 (Dropout)        (None, 2, 256)            0         \n",
            "                                                                 \n",
            " flatten_2 (Flatten)         (None, 512)               0         \n",
            "                                                                 \n",
            " dense_12 (Dense)            (None, 6)                 3078      \n",
            "                                                                 \n",
            " activation_17 (Activation)  (None, 6)                 0         \n",
            "                                                                 \n",
            "=================================================================\n",
            "Total params: 1,524,486\n",
            "Trainable params: 1,524,486\n",
            "Non-trainable params: 0\n",
            "_________________________________________________________________\n"
          ]
        }
      ]
    },
    {
      "cell_type": "code",
      "source": [
        "model.compile(loss='sparse_categorical_crossentropy',\n",
        "              optimizer=opt,\n",
        "              metrics=['accuracy'])"
      ],
      "metadata": {
        "id": "AbMlLNk4DCBM"
      },
      "execution_count": null,
      "outputs": []
    },
    {
      "cell_type": "code",
      "source": [
        "cnnhistory=model.fit(x_train, y_train, batch_size=32, epochs=500, validation_data=(x_valid, emo_valid))\n",
        "#cnnhistory=model.fit(x_traincnn, y_train, batch_size=16, epochs=700,validation_split=0.1)"
      ],
      "metadata": {
        "colab": {
          "base_uri": "https://localhost:8080/"
        },
        "id": "RI1v2AuADFhy",
        "outputId": "0148feb4-3722-45b4-cfa3-afcd01f91727"
      },
      "execution_count": null,
      "outputs": [
        {
          "output_type": "stream",
          "name": "stdout",
          "text": [
            "Epoch 1/500\n",
            "207/207 [==============================] - 12s 46ms/step - loss: 2.6385 - accuracy: 0.1773 - val_loss: 1.7402 - val_accuracy: 0.2174\n",
            "Epoch 2/500\n",
            "207/207 [==============================] - 9s 44ms/step - loss: 2.2556 - accuracy: 0.1815 - val_loss: 1.8674 - val_accuracy: 0.1884\n",
            "Epoch 3/500\n",
            "207/207 [==============================] - 9s 45ms/step - loss: 2.0097 - accuracy: 0.2151 - val_loss: 1.5981 - val_accuracy: 0.2754\n",
            "Epoch 4/500\n",
            "207/207 [==============================] - 9s 46ms/step - loss: 1.8743 - accuracy: 0.2376 - val_loss: 1.6061 - val_accuracy: 0.2609\n",
            "Epoch 5/500\n",
            "207/207 [==============================] - 9s 45ms/step - loss: 1.7565 - accuracy: 0.2641 - val_loss: 2.4097 - val_accuracy: 0.2029\n",
            "Epoch 6/500\n",
            "207/207 [==============================] - 9s 45ms/step - loss: 1.6711 - accuracy: 0.2979 - val_loss: 2.3920 - val_accuracy: 0.2029\n",
            "Epoch 7/500\n",
            "207/207 [==============================] - 9s 45ms/step - loss: 1.6389 - accuracy: 0.3012 - val_loss: 1.8637 - val_accuracy: 0.2367\n",
            "Epoch 8/500\n",
            "207/207 [==============================] - 9s 44ms/step - loss: 1.5931 - accuracy: 0.3136 - val_loss: 1.8738 - val_accuracy: 0.2609\n",
            "Epoch 9/500\n",
            "207/207 [==============================] - 9s 46ms/step - loss: 1.5519 - accuracy: 0.3340 - val_loss: 2.8974 - val_accuracy: 0.2029\n",
            "Epoch 10/500\n",
            "207/207 [==============================] - 9s 44ms/step - loss: 1.5311 - accuracy: 0.3522 - val_loss: 2.0272 - val_accuracy: 0.2319\n",
            "Epoch 11/500\n",
            "207/207 [==============================] - 9s 45ms/step - loss: 1.4902 - accuracy: 0.3742 - val_loss: 2.1617 - val_accuracy: 0.2754\n",
            "Epoch 12/500\n",
            "207/207 [==============================] - 9s 44ms/step - loss: 1.4765 - accuracy: 0.3753 - val_loss: 2.4379 - val_accuracy: 0.2464\n",
            "Epoch 13/500\n",
            "207/207 [==============================] - 11s 52ms/step - loss: 1.4545 - accuracy: 0.3931 - val_loss: 2.6203 - val_accuracy: 0.2271\n",
            "Epoch 14/500\n",
            "207/207 [==============================] - 10s 47ms/step - loss: 1.4261 - accuracy: 0.3995 - val_loss: 2.5129 - val_accuracy: 0.2415\n",
            "Epoch 15/500\n",
            "207/207 [==============================] - 10s 47ms/step - loss: 1.3836 - accuracy: 0.4228 - val_loss: 2.4632 - val_accuracy: 0.2754\n",
            "Epoch 16/500\n",
            "207/207 [==============================] - 9s 45ms/step - loss: 1.3405 - accuracy: 0.4457 - val_loss: 3.0130 - val_accuracy: 0.2464\n",
            "Epoch 17/500\n",
            "207/207 [==============================] - 9s 44ms/step - loss: 1.3229 - accuracy: 0.4435 - val_loss: 2.3782 - val_accuracy: 0.2705\n",
            "Epoch 18/500\n",
            "207/207 [==============================] - 9s 45ms/step - loss: 1.2889 - accuracy: 0.4604 - val_loss: 2.0023 - val_accuracy: 0.3092\n",
            "Epoch 19/500\n",
            "207/207 [==============================] - 9s 44ms/step - loss: 1.2587 - accuracy: 0.4787 - val_loss: 2.4929 - val_accuracy: 0.2899\n",
            "Epoch 20/500\n",
            "207/207 [==============================] - 9s 45ms/step - loss: 1.2299 - accuracy: 0.4844 - val_loss: 2.9792 - val_accuracy: 0.2609\n",
            "Epoch 21/500\n",
            "207/207 [==============================] - 9s 45ms/step - loss: 1.2013 - accuracy: 0.4970 - val_loss: 2.2600 - val_accuracy: 0.3382\n",
            "Epoch 22/500\n",
            "207/207 [==============================] - 9s 44ms/step - loss: 1.1948 - accuracy: 0.5026 - val_loss: 1.6675 - val_accuracy: 0.4203\n",
            "Epoch 23/500\n",
            "207/207 [==============================] - 9s 44ms/step - loss: 1.1775 - accuracy: 0.5178 - val_loss: 1.7858 - val_accuracy: 0.4106\n",
            "Epoch 24/500\n",
            "207/207 [==============================] - 9s 45ms/step - loss: 1.1509 - accuracy: 0.5302 - val_loss: 2.3065 - val_accuracy: 0.3527\n",
            "Epoch 25/500\n",
            "207/207 [==============================] - 9s 44ms/step - loss: 1.1390 - accuracy: 0.5355 - val_loss: 1.8627 - val_accuracy: 0.3720\n",
            "Epoch 26/500\n",
            "207/207 [==============================] - 9s 45ms/step - loss: 1.1293 - accuracy: 0.5292 - val_loss: 1.9907 - val_accuracy: 0.3671\n",
            "Epoch 27/500\n",
            "207/207 [==============================] - 9s 44ms/step - loss: 1.0973 - accuracy: 0.5509 - val_loss: 2.8319 - val_accuracy: 0.3188\n",
            "Epoch 28/500\n",
            "207/207 [==============================] - 9s 44ms/step - loss: 1.0859 - accuracy: 0.5558 - val_loss: 2.4380 - val_accuracy: 0.3527\n",
            "Epoch 29/500\n",
            "207/207 [==============================] - 9s 44ms/step - loss: 1.0715 - accuracy: 0.5594 - val_loss: 1.8987 - val_accuracy: 0.4010\n",
            "Epoch 30/500\n",
            "207/207 [==============================] - 9s 45ms/step - loss: 1.0597 - accuracy: 0.5632 - val_loss: 2.1291 - val_accuracy: 0.3865\n",
            "Epoch 31/500\n",
            "207/207 [==============================] - 9s 46ms/step - loss: 1.0547 - accuracy: 0.5722 - val_loss: 2.1445 - val_accuracy: 0.3865\n",
            "Epoch 32/500\n",
            "207/207 [==============================] - 9s 46ms/step - loss: 1.0329 - accuracy: 0.5794 - val_loss: 1.8995 - val_accuracy: 0.4058\n",
            "Epoch 33/500\n",
            "207/207 [==============================] - 9s 45ms/step - loss: 1.0258 - accuracy: 0.5857 - val_loss: 1.9925 - val_accuracy: 0.3913\n",
            "Epoch 34/500\n",
            "207/207 [==============================] - 9s 44ms/step - loss: 1.0011 - accuracy: 0.5961 - val_loss: 2.0913 - val_accuracy: 0.4010\n",
            "Epoch 35/500\n",
            "207/207 [==============================] - 9s 44ms/step - loss: 0.9881 - accuracy: 0.6011 - val_loss: 1.9551 - val_accuracy: 0.4058\n",
            "Epoch 36/500\n",
            "207/207 [==============================] - 9s 44ms/step - loss: 0.9650 - accuracy: 0.6076 - val_loss: 2.4236 - val_accuracy: 0.3720\n",
            "Epoch 37/500\n",
            "207/207 [==============================] - 9s 45ms/step - loss: 0.9607 - accuracy: 0.6147 - val_loss: 2.2477 - val_accuracy: 0.3865\n",
            "Epoch 38/500\n",
            "207/207 [==============================] - 9s 45ms/step - loss: 0.9386 - accuracy: 0.6218 - val_loss: 1.8484 - val_accuracy: 0.4348\n",
            "Epoch 39/500\n",
            "207/207 [==============================] - 9s 45ms/step - loss: 0.9360 - accuracy: 0.6239 - val_loss: 2.0291 - val_accuracy: 0.4155\n",
            "Epoch 40/500\n",
            "207/207 [==============================] - 9s 45ms/step - loss: 0.9319 - accuracy: 0.6191 - val_loss: 2.2818 - val_accuracy: 0.3865\n",
            "Epoch 41/500\n",
            "207/207 [==============================] - 9s 45ms/step - loss: 0.9120 - accuracy: 0.6353 - val_loss: 2.0693 - val_accuracy: 0.4106\n",
            "Epoch 42/500\n",
            "207/207 [==============================] - 9s 45ms/step - loss: 0.9109 - accuracy: 0.6363 - val_loss: 1.9455 - val_accuracy: 0.4444\n",
            "Epoch 43/500\n",
            "207/207 [==============================] - 9s 46ms/step - loss: 0.8919 - accuracy: 0.6366 - val_loss: 1.9396 - val_accuracy: 0.4203\n",
            "Epoch 44/500\n",
            "207/207 [==============================] - 9s 45ms/step - loss: 0.8825 - accuracy: 0.6454 - val_loss: 2.0901 - val_accuracy: 0.4251\n",
            "Epoch 45/500\n",
            "207/207 [==============================] - 9s 45ms/step - loss: 0.8687 - accuracy: 0.6540 - val_loss: 1.9217 - val_accuracy: 0.4396\n",
            "Epoch 46/500\n",
            "207/207 [==============================] - 9s 44ms/step - loss: 0.8590 - accuracy: 0.6478 - val_loss: 1.7173 - val_accuracy: 0.4734\n",
            "Epoch 47/500\n",
            "207/207 [==============================] - 9s 45ms/step - loss: 0.8572 - accuracy: 0.6637 - val_loss: 1.9085 - val_accuracy: 0.4058\n",
            "Epoch 48/500\n",
            "207/207 [==============================] - 9s 45ms/step - loss: 0.8487 - accuracy: 0.6587 - val_loss: 1.9173 - val_accuracy: 0.4589\n",
            "Epoch 49/500\n",
            "207/207 [==============================] - 9s 46ms/step - loss: 0.8407 - accuracy: 0.6658 - val_loss: 1.9248 - val_accuracy: 0.4589\n",
            "Epoch 50/500\n",
            "207/207 [==============================] - 11s 52ms/step - loss: 0.8255 - accuracy: 0.6720 - val_loss: 1.8374 - val_accuracy: 0.4734\n",
            "Epoch 51/500\n",
            "207/207 [==============================] - 9s 45ms/step - loss: 0.8309 - accuracy: 0.6693 - val_loss: 1.9056 - val_accuracy: 0.4879\n",
            "Epoch 52/500\n",
            "207/207 [==============================] - 9s 45ms/step - loss: 0.8094 - accuracy: 0.6770 - val_loss: 2.0346 - val_accuracy: 0.4444\n",
            "Epoch 53/500\n",
            "207/207 [==============================] - 9s 45ms/step - loss: 0.8135 - accuracy: 0.6808 - val_loss: 2.0515 - val_accuracy: 0.4589\n",
            "Epoch 54/500\n",
            "207/207 [==============================] - 9s 45ms/step - loss: 0.7904 - accuracy: 0.6906 - val_loss: 1.9484 - val_accuracy: 0.4541\n",
            "Epoch 55/500\n",
            "207/207 [==============================] - 9s 44ms/step - loss: 0.7886 - accuracy: 0.6861 - val_loss: 2.0245 - val_accuracy: 0.4638\n",
            "Epoch 56/500\n",
            "207/207 [==============================] - 9s 44ms/step - loss: 0.7772 - accuracy: 0.6907 - val_loss: 1.5711 - val_accuracy: 0.5169\n",
            "Epoch 57/500\n",
            "207/207 [==============================] - 9s 44ms/step - loss: 0.7679 - accuracy: 0.6930 - val_loss: 2.0519 - val_accuracy: 0.4444\n",
            "Epoch 58/500\n",
            "207/207 [==============================] - 9s 44ms/step - loss: 0.7769 - accuracy: 0.6888 - val_loss: 1.9667 - val_accuracy: 0.4783\n",
            "Epoch 59/500\n",
            "207/207 [==============================] - 9s 44ms/step - loss: 0.7516 - accuracy: 0.7115 - val_loss: 1.9489 - val_accuracy: 0.4831\n",
            "Epoch 60/500\n",
            "207/207 [==============================] - 9s 45ms/step - loss: 0.7486 - accuracy: 0.7042 - val_loss: 1.8267 - val_accuracy: 0.5121\n",
            "Epoch 61/500\n",
            "207/207 [==============================] - 9s 44ms/step - loss: 0.7556 - accuracy: 0.7007 - val_loss: 1.8619 - val_accuracy: 0.5121\n",
            "Epoch 62/500\n",
            "207/207 [==============================] - 10s 46ms/step - loss: 0.7323 - accuracy: 0.7084 - val_loss: 2.0673 - val_accuracy: 0.4831\n",
            "Epoch 63/500\n",
            "207/207 [==============================] - 9s 46ms/step - loss: 0.7202 - accuracy: 0.7177 - val_loss: 2.0117 - val_accuracy: 0.4831\n",
            "Epoch 64/500\n",
            "207/207 [==============================] - 9s 45ms/step - loss: 0.7180 - accuracy: 0.7178 - val_loss: 2.3244 - val_accuracy: 0.4348\n",
            "Epoch 65/500\n",
            "207/207 [==============================] - 9s 45ms/step - loss: 0.7168 - accuracy: 0.7166 - val_loss: 1.7029 - val_accuracy: 0.5169\n",
            "Epoch 66/500\n",
            "207/207 [==============================] - 9s 46ms/step - loss: 0.7004 - accuracy: 0.7257 - val_loss: 1.4767 - val_accuracy: 0.5411\n",
            "Epoch 67/500\n",
            "207/207 [==============================] - 9s 45ms/step - loss: 0.7075 - accuracy: 0.7245 - val_loss: 1.5839 - val_accuracy: 0.5604\n",
            "Epoch 68/500\n",
            "207/207 [==============================] - 9s 45ms/step - loss: 0.7143 - accuracy: 0.7216 - val_loss: 1.8742 - val_accuracy: 0.5024\n",
            "Epoch 69/500\n",
            "207/207 [==============================] - 9s 45ms/step - loss: 0.6860 - accuracy: 0.7320 - val_loss: 1.7748 - val_accuracy: 0.5362\n",
            "Epoch 70/500\n",
            "207/207 [==============================] - 9s 44ms/step - loss: 0.6979 - accuracy: 0.7317 - val_loss: 2.0622 - val_accuracy: 0.4831\n",
            "Epoch 71/500\n",
            "207/207 [==============================] - 9s 46ms/step - loss: 0.6713 - accuracy: 0.7384 - val_loss: 1.5117 - val_accuracy: 0.5604\n",
            "Epoch 72/500\n",
            "207/207 [==============================] - 9s 46ms/step - loss: 0.6877 - accuracy: 0.7347 - val_loss: 1.9368 - val_accuracy: 0.5169\n",
            "Epoch 73/500\n",
            "207/207 [==============================] - 10s 47ms/step - loss: 0.6699 - accuracy: 0.7432 - val_loss: 1.8456 - val_accuracy: 0.5266\n",
            "Epoch 74/500\n",
            "207/207 [==============================] - 9s 45ms/step - loss: 0.6570 - accuracy: 0.7455 - val_loss: 1.8962 - val_accuracy: 0.5362\n",
            "Epoch 75/500\n",
            "207/207 [==============================] - 9s 44ms/step - loss: 0.6463 - accuracy: 0.7468 - val_loss: 2.1483 - val_accuracy: 0.5024\n",
            "Epoch 76/500\n",
            "207/207 [==============================] - 9s 44ms/step - loss: 0.6402 - accuracy: 0.7560 - val_loss: 2.0735 - val_accuracy: 0.5121\n",
            "Epoch 77/500\n",
            "207/207 [==============================] - 9s 45ms/step - loss: 0.6476 - accuracy: 0.7471 - val_loss: 1.8572 - val_accuracy: 0.5362\n",
            "Epoch 78/500\n",
            "207/207 [==============================] - 9s 45ms/step - loss: 0.6404 - accuracy: 0.7509 - val_loss: 2.0932 - val_accuracy: 0.5217\n",
            "Epoch 79/500\n",
            "207/207 [==============================] - 9s 45ms/step - loss: 0.6395 - accuracy: 0.7505 - val_loss: 2.0607 - val_accuracy: 0.5217\n",
            "Epoch 80/500\n",
            "207/207 [==============================] - 9s 45ms/step - loss: 0.6308 - accuracy: 0.7591 - val_loss: 1.8869 - val_accuracy: 0.5266\n",
            "Epoch 81/500\n",
            "207/207 [==============================] - 9s 45ms/step - loss: 0.6319 - accuracy: 0.7644 - val_loss: 2.2370 - val_accuracy: 0.5169\n",
            "Epoch 82/500\n",
            "207/207 [==============================] - 9s 45ms/step - loss: 0.6098 - accuracy: 0.7683 - val_loss: 1.9842 - val_accuracy: 0.5314\n",
            "Epoch 83/500\n",
            "207/207 [==============================] - 10s 47ms/step - loss: 0.6140 - accuracy: 0.7677 - val_loss: 1.7024 - val_accuracy: 0.5604\n",
            "Epoch 84/500\n",
            "207/207 [==============================] - 9s 45ms/step - loss: 0.6168 - accuracy: 0.7618 - val_loss: 1.6275 - val_accuracy: 0.5507\n",
            "Epoch 85/500\n",
            "207/207 [==============================] - 9s 45ms/step - loss: 0.5998 - accuracy: 0.7700 - val_loss: 1.8348 - val_accuracy: 0.5459\n",
            "Epoch 86/500\n",
            "207/207 [==============================] - 9s 45ms/step - loss: 0.6054 - accuracy: 0.7715 - val_loss: 2.0788 - val_accuracy: 0.5169\n",
            "Epoch 87/500\n",
            "207/207 [==============================] - 9s 45ms/step - loss: 0.5933 - accuracy: 0.7748 - val_loss: 1.8872 - val_accuracy: 0.5652\n",
            "Epoch 88/500\n",
            "207/207 [==============================] - 9s 45ms/step - loss: 0.6014 - accuracy: 0.7687 - val_loss: 1.8057 - val_accuracy: 0.5507\n",
            "Epoch 89/500\n",
            "207/207 [==============================] - 10s 46ms/step - loss: 0.5793 - accuracy: 0.7778 - val_loss: 1.8326 - val_accuracy: 0.5556\n",
            "Epoch 90/500\n",
            "207/207 [==============================] - 9s 45ms/step - loss: 0.5625 - accuracy: 0.7805 - val_loss: 1.9686 - val_accuracy: 0.5459\n",
            "Epoch 91/500\n",
            "207/207 [==============================] - 9s 45ms/step - loss: 0.5641 - accuracy: 0.7904 - val_loss: 2.4549 - val_accuracy: 0.5266\n",
            "Epoch 92/500\n",
            "207/207 [==============================] - 9s 45ms/step - loss: 0.5719 - accuracy: 0.7805 - val_loss: 1.8881 - val_accuracy: 0.5459\n",
            "Epoch 93/500\n",
            "207/207 [==============================] - 9s 45ms/step - loss: 0.5762 - accuracy: 0.7746 - val_loss: 1.6528 - val_accuracy: 0.5700\n",
            "Epoch 94/500\n",
            "207/207 [==============================] - 9s 45ms/step - loss: 0.5678 - accuracy: 0.7882 - val_loss: 1.8552 - val_accuracy: 0.5604\n",
            "Epoch 95/500\n",
            "207/207 [==============================] - 9s 45ms/step - loss: 0.5661 - accuracy: 0.7817 - val_loss: 2.0125 - val_accuracy: 0.5362\n",
            "Epoch 96/500\n",
            "207/207 [==============================] - 9s 45ms/step - loss: 0.5557 - accuracy: 0.7888 - val_loss: 1.9440 - val_accuracy: 0.5459\n",
            "Epoch 97/500\n",
            "207/207 [==============================] - 9s 45ms/step - loss: 0.5450 - accuracy: 0.7935 - val_loss: 2.2384 - val_accuracy: 0.5266\n",
            "Epoch 98/500\n",
            "207/207 [==============================] - 9s 45ms/step - loss: 0.5490 - accuracy: 0.7940 - val_loss: 1.6894 - val_accuracy: 0.5700\n",
            "Epoch 99/500\n",
            "207/207 [==============================] - 9s 45ms/step - loss: 0.5364 - accuracy: 0.7996 - val_loss: 2.1118 - val_accuracy: 0.5604\n",
            "Epoch 100/500\n",
            "207/207 [==============================] - 9s 46ms/step - loss: 0.5402 - accuracy: 0.7949 - val_loss: 2.2939 - val_accuracy: 0.5169\n",
            "Epoch 101/500\n",
            "207/207 [==============================] - 9s 45ms/step - loss: 0.5423 - accuracy: 0.7926 - val_loss: 2.1285 - val_accuracy: 0.5700\n",
            "Epoch 102/500\n",
            "207/207 [==============================] - 9s 44ms/step - loss: 0.5311 - accuracy: 0.7949 - val_loss: 1.9980 - val_accuracy: 0.5652\n",
            "Epoch 103/500\n",
            "207/207 [==============================] - 9s 44ms/step - loss: 0.5187 - accuracy: 0.8062 - val_loss: 1.9555 - val_accuracy: 0.5266\n",
            "Epoch 104/500\n",
            "207/207 [==============================] - 9s 45ms/step - loss: 0.5215 - accuracy: 0.8029 - val_loss: 2.0041 - val_accuracy: 0.5604\n",
            "Epoch 105/500\n",
            "207/207 [==============================] - 9s 44ms/step - loss: 0.5201 - accuracy: 0.8009 - val_loss: 2.0104 - val_accuracy: 0.5797\n",
            "Epoch 106/500\n",
            "207/207 [==============================] - 9s 46ms/step - loss: 0.5122 - accuracy: 0.8031 - val_loss: 1.9928 - val_accuracy: 0.5604\n",
            "Epoch 107/500\n",
            "207/207 [==============================] - 9s 46ms/step - loss: 0.5207 - accuracy: 0.8015 - val_loss: 1.6338 - val_accuracy: 0.5845\n",
            "Epoch 108/500\n",
            "207/207 [==============================] - 9s 45ms/step - loss: 0.5014 - accuracy: 0.8109 - val_loss: 1.9774 - val_accuracy: 0.5266\n",
            "Epoch 109/500\n",
            "207/207 [==============================] - 9s 45ms/step - loss: 0.5099 - accuracy: 0.8067 - val_loss: 1.8911 - val_accuracy: 0.5604\n",
            "Epoch 110/500\n",
            "207/207 [==============================] - 9s 45ms/step - loss: 0.4865 - accuracy: 0.8180 - val_loss: 2.2328 - val_accuracy: 0.5604\n",
            "Epoch 111/500\n",
            "207/207 [==============================] - 9s 44ms/step - loss: 0.4933 - accuracy: 0.8139 - val_loss: 2.0565 - val_accuracy: 0.5845\n",
            "Epoch 112/500\n",
            "207/207 [==============================] - 9s 45ms/step - loss: 0.4936 - accuracy: 0.8102 - val_loss: 1.8673 - val_accuracy: 0.5797\n",
            "Epoch 113/500\n",
            "207/207 [==============================] - 9s 45ms/step - loss: 0.4891 - accuracy: 0.8141 - val_loss: 1.8159 - val_accuracy: 0.5556\n",
            "Epoch 114/500\n",
            "207/207 [==============================] - 9s 45ms/step - loss: 0.4897 - accuracy: 0.8156 - val_loss: 2.0784 - val_accuracy: 0.5604\n",
            "Epoch 115/500\n",
            "207/207 [==============================] - 9s 45ms/step - loss: 0.4752 - accuracy: 0.8189 - val_loss: 2.1782 - val_accuracy: 0.5411\n",
            "Epoch 116/500\n",
            "207/207 [==============================] - 9s 46ms/step - loss: 0.4729 - accuracy: 0.8227 - val_loss: 1.7885 - val_accuracy: 0.5845\n",
            "Epoch 117/500\n",
            "207/207 [==============================] - 10s 46ms/step - loss: 0.4630 - accuracy: 0.8284 - val_loss: 1.9497 - val_accuracy: 0.5604\n",
            "Epoch 118/500\n",
            "207/207 [==============================] - 9s 45ms/step - loss: 0.4830 - accuracy: 0.8179 - val_loss: 1.7344 - val_accuracy: 0.5845\n",
            "Epoch 119/500\n",
            "207/207 [==============================] - 9s 44ms/step - loss: 0.4602 - accuracy: 0.8259 - val_loss: 1.9628 - val_accuracy: 0.5507\n",
            "Epoch 120/500\n",
            "207/207 [==============================] - 9s 44ms/step - loss: 0.4687 - accuracy: 0.8230 - val_loss: 1.9252 - val_accuracy: 0.5604\n",
            "Epoch 121/500\n",
            "207/207 [==============================] - 9s 45ms/step - loss: 0.4634 - accuracy: 0.8254 - val_loss: 1.8683 - val_accuracy: 0.5894\n",
            "Epoch 122/500\n",
            "207/207 [==============================] - 9s 45ms/step - loss: 0.4398 - accuracy: 0.8374 - val_loss: 1.7764 - val_accuracy: 0.6135\n",
            "Epoch 123/500\n",
            "207/207 [==============================] - 9s 45ms/step - loss: 0.4685 - accuracy: 0.8239 - val_loss: 1.7123 - val_accuracy: 0.5749\n",
            "Epoch 124/500\n",
            "207/207 [==============================] - 9s 45ms/step - loss: 0.4564 - accuracy: 0.8315 - val_loss: 2.0302 - val_accuracy: 0.5749\n",
            "Epoch 125/500\n",
            "207/207 [==============================] - 9s 45ms/step - loss: 0.4507 - accuracy: 0.8292 - val_loss: 2.0805 - val_accuracy: 0.5797\n",
            "Epoch 126/500\n",
            "207/207 [==============================] - 9s 45ms/step - loss: 0.4492 - accuracy: 0.8345 - val_loss: 1.9980 - val_accuracy: 0.5894\n",
            "Epoch 127/500\n",
            "207/207 [==============================] - 9s 45ms/step - loss: 0.4366 - accuracy: 0.8356 - val_loss: 2.3946 - val_accuracy: 0.5604\n",
            "Epoch 128/500\n",
            "207/207 [==============================] - 9s 44ms/step - loss: 0.4308 - accuracy: 0.8371 - val_loss: 2.2993 - val_accuracy: 0.5652\n",
            "Epoch 129/500\n",
            "207/207 [==============================] - 9s 45ms/step - loss: 0.4379 - accuracy: 0.8346 - val_loss: 1.6770 - val_accuracy: 0.6039\n",
            "Epoch 130/500\n",
            "207/207 [==============================] - 9s 44ms/step - loss: 0.4326 - accuracy: 0.8410 - val_loss: 2.1442 - val_accuracy: 0.5797\n",
            "Epoch 131/500\n",
            "207/207 [==============================] - 9s 44ms/step - loss: 0.4290 - accuracy: 0.8420 - val_loss: 1.7449 - val_accuracy: 0.6135\n",
            "Epoch 132/500\n",
            "207/207 [==============================] - 9s 45ms/step - loss: 0.4321 - accuracy: 0.8360 - val_loss: 1.9915 - val_accuracy: 0.5749\n",
            "Epoch 133/500\n",
            "207/207 [==============================] - 9s 45ms/step - loss: 0.4111 - accuracy: 0.8492 - val_loss: 2.0335 - val_accuracy: 0.5749\n",
            "Epoch 134/500\n",
            "207/207 [==============================] - 9s 45ms/step - loss: 0.4347 - accuracy: 0.8316 - val_loss: 2.1458 - val_accuracy: 0.5797\n",
            "Epoch 135/500\n",
            "207/207 [==============================] - 9s 45ms/step - loss: 0.4086 - accuracy: 0.8487 - val_loss: 1.7341 - val_accuracy: 0.5942\n",
            "Epoch 136/500\n",
            "207/207 [==============================] - 9s 45ms/step - loss: 0.4164 - accuracy: 0.8430 - val_loss: 1.8080 - val_accuracy: 0.6232\n",
            "Epoch 137/500\n",
            "207/207 [==============================] - 9s 44ms/step - loss: 0.4105 - accuracy: 0.8449 - val_loss: 2.0731 - val_accuracy: 0.5942\n",
            "Epoch 138/500\n",
            "207/207 [==============================] - 9s 45ms/step - loss: 0.4032 - accuracy: 0.8455 - val_loss: 2.0590 - val_accuracy: 0.5942\n",
            "Epoch 139/500\n",
            "207/207 [==============================] - 9s 45ms/step - loss: 0.3989 - accuracy: 0.8507 - val_loss: 1.9968 - val_accuracy: 0.5749\n",
            "Epoch 140/500\n",
            "207/207 [==============================] - 9s 45ms/step - loss: 0.4151 - accuracy: 0.8449 - val_loss: 1.7817 - val_accuracy: 0.6135\n",
            "Epoch 141/500\n",
            "207/207 [==============================] - 9s 45ms/step - loss: 0.3862 - accuracy: 0.8529 - val_loss: 1.7281 - val_accuracy: 0.6087\n",
            "Epoch 142/500\n",
            "207/207 [==============================] - 9s 46ms/step - loss: 0.4036 - accuracy: 0.8523 - val_loss: 1.9870 - val_accuracy: 0.5845\n",
            "Epoch 143/500\n",
            "207/207 [==============================] - 9s 45ms/step - loss: 0.3940 - accuracy: 0.8564 - val_loss: 1.9213 - val_accuracy: 0.5894\n",
            "Epoch 144/500\n",
            "207/207 [==============================] - 9s 45ms/step - loss: 0.4065 - accuracy: 0.8513 - val_loss: 2.2641 - val_accuracy: 0.5556\n",
            "Epoch 145/500\n",
            "207/207 [==============================] - 9s 45ms/step - loss: 0.4124 - accuracy: 0.8484 - val_loss: 1.9976 - val_accuracy: 0.5990\n",
            "Epoch 146/500\n",
            "207/207 [==============================] - 9s 45ms/step - loss: 0.3843 - accuracy: 0.8570 - val_loss: 2.1111 - val_accuracy: 0.5797\n",
            "Epoch 147/500\n",
            "207/207 [==============================] - 10s 46ms/step - loss: 0.3713 - accuracy: 0.8614 - val_loss: 2.4470 - val_accuracy: 0.5459\n",
            "Epoch 148/500\n",
            "207/207 [==============================] - 9s 45ms/step - loss: 0.4040 - accuracy: 0.8520 - val_loss: 1.9140 - val_accuracy: 0.5845\n",
            "Epoch 149/500\n",
            "207/207 [==============================] - 9s 45ms/step - loss: 0.3863 - accuracy: 0.8550 - val_loss: 1.8421 - val_accuracy: 0.5942\n",
            "Epoch 150/500\n",
            "207/207 [==============================] - 9s 45ms/step - loss: 0.3832 - accuracy: 0.8572 - val_loss: 2.0257 - val_accuracy: 0.5845\n",
            "Epoch 151/500\n",
            "207/207 [==============================] - 10s 46ms/step - loss: 0.3844 - accuracy: 0.8585 - val_loss: 1.9306 - val_accuracy: 0.5990\n",
            "Epoch 152/500\n",
            "207/207 [==============================] - 9s 45ms/step - loss: 0.3791 - accuracy: 0.8631 - val_loss: 1.8428 - val_accuracy: 0.6087\n",
            "Epoch 153/500\n",
            "207/207 [==============================] - 9s 45ms/step - loss: 0.3670 - accuracy: 0.8649 - val_loss: 1.9267 - val_accuracy: 0.5894\n",
            "Epoch 154/500\n",
            "207/207 [==============================] - 9s 45ms/step - loss: 0.3768 - accuracy: 0.8609 - val_loss: 2.0397 - val_accuracy: 0.5797\n",
            "Epoch 155/500\n",
            "207/207 [==============================] - 9s 46ms/step - loss: 0.3711 - accuracy: 0.8612 - val_loss: 2.1383 - val_accuracy: 0.5749\n",
            "Epoch 156/500\n",
            "207/207 [==============================] - 9s 45ms/step - loss: 0.3603 - accuracy: 0.8679 - val_loss: 1.9277 - val_accuracy: 0.6087\n",
            "Epoch 157/500\n",
            "207/207 [==============================] - 9s 45ms/step - loss: 0.3569 - accuracy: 0.8694 - val_loss: 2.3910 - val_accuracy: 0.5652\n",
            "Epoch 158/500\n",
            "207/207 [==============================] - 9s 46ms/step - loss: 0.3738 - accuracy: 0.8631 - val_loss: 1.8132 - val_accuracy: 0.6280\n",
            "Epoch 159/500\n",
            "207/207 [==============================] - 9s 45ms/step - loss: 0.3578 - accuracy: 0.8697 - val_loss: 1.9666 - val_accuracy: 0.5990\n",
            "Epoch 160/500\n",
            "207/207 [==============================] - 9s 45ms/step - loss: 0.3530 - accuracy: 0.8690 - val_loss: 2.3464 - val_accuracy: 0.5797\n",
            "Epoch 161/500\n",
            "207/207 [==============================] - 9s 45ms/step - loss: 0.3592 - accuracy: 0.8706 - val_loss: 2.0989 - val_accuracy: 0.6087\n",
            "Epoch 162/500\n",
            "207/207 [==============================] - 9s 45ms/step - loss: 0.3500 - accuracy: 0.8691 - val_loss: 1.8345 - val_accuracy: 0.6184\n",
            "Epoch 163/500\n",
            "207/207 [==============================] - 9s 45ms/step - loss: 0.3532 - accuracy: 0.8709 - val_loss: 1.9195 - val_accuracy: 0.6135\n",
            "Epoch 164/500\n",
            "207/207 [==============================] - 9s 45ms/step - loss: 0.3563 - accuracy: 0.8696 - val_loss: 1.8493 - val_accuracy: 0.6039\n",
            "Epoch 165/500\n",
            "207/207 [==============================] - 9s 45ms/step - loss: 0.3504 - accuracy: 0.8690 - val_loss: 1.8544 - val_accuracy: 0.6280\n",
            "Epoch 166/500\n",
            "207/207 [==============================] - 9s 45ms/step - loss: 0.3460 - accuracy: 0.8715 - val_loss: 1.9975 - val_accuracy: 0.5990\n",
            "Epoch 167/500\n",
            "207/207 [==============================] - 9s 46ms/step - loss: 0.3358 - accuracy: 0.8777 - val_loss: 1.8430 - val_accuracy: 0.6522\n",
            "Epoch 168/500\n",
            "207/207 [==============================] - 9s 46ms/step - loss: 0.3489 - accuracy: 0.8718 - val_loss: 1.8086 - val_accuracy: 0.6184\n",
            "Epoch 169/500\n",
            "207/207 [==============================] - 10s 46ms/step - loss: 0.3265 - accuracy: 0.8809 - val_loss: 2.0901 - val_accuracy: 0.5942\n",
            "Epoch 170/500\n",
            "207/207 [==============================] - 10s 47ms/step - loss: 0.3374 - accuracy: 0.8765 - val_loss: 1.9465 - val_accuracy: 0.6280\n",
            "Epoch 171/500\n",
            "207/207 [==============================] - 9s 46ms/step - loss: 0.3351 - accuracy: 0.8774 - val_loss: 1.7720 - val_accuracy: 0.6135\n",
            "Epoch 172/500\n",
            "207/207 [==============================] - 10s 46ms/step - loss: 0.3339 - accuracy: 0.8786 - val_loss: 1.8350 - val_accuracy: 0.6232\n",
            "Epoch 173/500\n",
            "207/207 [==============================] - 9s 46ms/step - loss: 0.3227 - accuracy: 0.8820 - val_loss: 2.2610 - val_accuracy: 0.6135\n",
            "Epoch 174/500\n",
            "207/207 [==============================] - 10s 47ms/step - loss: 0.3273 - accuracy: 0.8779 - val_loss: 2.1675 - val_accuracy: 0.6184\n",
            "Epoch 175/500\n",
            "207/207 [==============================] - 10s 48ms/step - loss: 0.3268 - accuracy: 0.8800 - val_loss: 1.7083 - val_accuracy: 0.6184\n",
            "Epoch 176/500\n",
            "207/207 [==============================] - 10s 46ms/step - loss: 0.3230 - accuracy: 0.8815 - val_loss: 1.7112 - val_accuracy: 0.6570\n",
            "Epoch 177/500\n",
            "207/207 [==============================] - 10s 46ms/step - loss: 0.3223 - accuracy: 0.8806 - val_loss: 2.3983 - val_accuracy: 0.5942\n",
            "Epoch 178/500\n",
            "207/207 [==============================] - 9s 45ms/step - loss: 0.3182 - accuracy: 0.8865 - val_loss: 1.9570 - val_accuracy: 0.6039\n",
            "Epoch 179/500\n",
            "207/207 [==============================] - 9s 45ms/step - loss: 0.3070 - accuracy: 0.8907 - val_loss: 1.8307 - val_accuracy: 0.6280\n",
            "Epoch 180/500\n",
            "207/207 [==============================] - 10s 47ms/step - loss: 0.3145 - accuracy: 0.8871 - val_loss: 1.7744 - val_accuracy: 0.6377\n",
            "Epoch 181/500\n",
            "207/207 [==============================] - 9s 46ms/step - loss: 0.3163 - accuracy: 0.8842 - val_loss: 1.6792 - val_accuracy: 0.6329\n",
            "Epoch 182/500\n",
            "207/207 [==============================] - 9s 45ms/step - loss: 0.3132 - accuracy: 0.8833 - val_loss: 1.7843 - val_accuracy: 0.6329\n",
            "Epoch 183/500\n",
            "207/207 [==============================] - 10s 46ms/step - loss: 0.3181 - accuracy: 0.8826 - val_loss: 1.7905 - val_accuracy: 0.6377\n",
            "Epoch 184/500\n",
            "207/207 [==============================] - 9s 45ms/step - loss: 0.3016 - accuracy: 0.8918 - val_loss: 1.6630 - val_accuracy: 0.6473\n",
            "Epoch 185/500\n",
            "207/207 [==============================] - 9s 46ms/step - loss: 0.3023 - accuracy: 0.8897 - val_loss: 1.7010 - val_accuracy: 0.6715\n",
            "Epoch 186/500\n",
            "207/207 [==============================] - 10s 47ms/step - loss: 0.3005 - accuracy: 0.8916 - val_loss: 1.8266 - val_accuracy: 0.6425\n",
            "Epoch 187/500\n",
            "207/207 [==============================] - 10s 46ms/step - loss: 0.3147 - accuracy: 0.8836 - val_loss: 1.9238 - val_accuracy: 0.6184\n",
            "Epoch 188/500\n",
            "207/207 [==============================] - 9s 46ms/step - loss: 0.2997 - accuracy: 0.8897 - val_loss: 2.0247 - val_accuracy: 0.6232\n",
            "Epoch 189/500\n",
            "207/207 [==============================] - 9s 46ms/step - loss: 0.3047 - accuracy: 0.8880 - val_loss: 2.1618 - val_accuracy: 0.6232\n",
            "Epoch 190/500\n",
            "207/207 [==============================] - 9s 45ms/step - loss: 0.3178 - accuracy: 0.8848 - val_loss: 1.6295 - val_accuracy: 0.6812\n",
            "Epoch 191/500\n",
            "207/207 [==============================] - 10s 46ms/step - loss: 0.2984 - accuracy: 0.8910 - val_loss: 1.9908 - val_accuracy: 0.6329\n",
            "Epoch 192/500\n",
            "207/207 [==============================] - 10s 47ms/step - loss: 0.3004 - accuracy: 0.8937 - val_loss: 1.8063 - val_accuracy: 0.6473\n",
            "Epoch 193/500\n",
            "207/207 [==============================] - 10s 46ms/step - loss: 0.2982 - accuracy: 0.8925 - val_loss: 1.9198 - val_accuracy: 0.6473\n",
            "Epoch 194/500\n",
            "207/207 [==============================] - 9s 46ms/step - loss: 0.2909 - accuracy: 0.8930 - val_loss: 1.9584 - val_accuracy: 0.6522\n",
            "Epoch 195/500\n",
            "207/207 [==============================] - 9s 45ms/step - loss: 0.2849 - accuracy: 0.8960 - val_loss: 2.0152 - val_accuracy: 0.6135\n",
            "Epoch 196/500\n",
            "207/207 [==============================] - 9s 45ms/step - loss: 0.2993 - accuracy: 0.8900 - val_loss: 1.6557 - val_accuracy: 0.6377\n",
            "Epoch 197/500\n",
            "207/207 [==============================] - 10s 46ms/step - loss: 0.2910 - accuracy: 0.8936 - val_loss: 1.5966 - val_accuracy: 0.6473\n",
            "Epoch 198/500\n",
            "207/207 [==============================] - 10s 47ms/step - loss: 0.2999 - accuracy: 0.8909 - val_loss: 1.4592 - val_accuracy: 0.6618\n",
            "Epoch 199/500\n",
            "207/207 [==============================] - 9s 46ms/step - loss: 0.2887 - accuracy: 0.8972 - val_loss: 1.6394 - val_accuracy: 0.6329\n",
            "Epoch 200/500\n",
            "207/207 [==============================] - 9s 46ms/step - loss: 0.2764 - accuracy: 0.9011 - val_loss: 1.6814 - val_accuracy: 0.6618\n",
            "Epoch 201/500\n",
            "207/207 [==============================] - 9s 46ms/step - loss: 0.2922 - accuracy: 0.8956 - val_loss: 1.7247 - val_accuracy: 0.6570\n",
            "Epoch 202/500\n",
            "207/207 [==============================] - 9s 45ms/step - loss: 0.2823 - accuracy: 0.9019 - val_loss: 1.9240 - val_accuracy: 0.6280\n",
            "Epoch 203/500\n",
            "207/207 [==============================] - 10s 46ms/step - loss: 0.2767 - accuracy: 0.8996 - val_loss: 1.9288 - val_accuracy: 0.6184\n",
            "Epoch 204/500\n",
            "207/207 [==============================] - 9s 45ms/step - loss: 0.2676 - accuracy: 0.9025 - val_loss: 1.9991 - val_accuracy: 0.6135\n",
            "Epoch 205/500\n",
            "207/207 [==============================] - 9s 45ms/step - loss: 0.2863 - accuracy: 0.9011 - val_loss: 1.8256 - val_accuracy: 0.6329\n",
            "Epoch 206/500\n",
            "207/207 [==============================] - 9s 46ms/step - loss: 0.2890 - accuracy: 0.8925 - val_loss: 1.9211 - val_accuracy: 0.6377\n",
            "Epoch 207/500\n",
            "207/207 [==============================] - 9s 45ms/step - loss: 0.2772 - accuracy: 0.8966 - val_loss: 1.9054 - val_accuracy: 0.6522\n",
            "Epoch 208/500\n",
            "207/207 [==============================] - 10s 46ms/step - loss: 0.2773 - accuracy: 0.9002 - val_loss: 1.6560 - val_accuracy: 0.6473\n",
            "Epoch 209/500\n",
            "207/207 [==============================] - 10s 47ms/step - loss: 0.2699 - accuracy: 0.9013 - val_loss: 1.9525 - val_accuracy: 0.6280\n",
            "Epoch 210/500\n",
            "207/207 [==============================] - 9s 45ms/step - loss: 0.2815 - accuracy: 0.8992 - val_loss: 1.7940 - val_accuracy: 0.6618\n",
            "Epoch 211/500\n",
            "207/207 [==============================] - 10s 46ms/step - loss: 0.2619 - accuracy: 0.9058 - val_loss: 1.4582 - val_accuracy: 0.6957\n",
            "Epoch 212/500\n",
            "207/207 [==============================] - 10s 46ms/step - loss: 0.2597 - accuracy: 0.9063 - val_loss: 1.5504 - val_accuracy: 0.6860\n",
            "Epoch 213/500\n",
            "207/207 [==============================] - 9s 46ms/step - loss: 0.2662 - accuracy: 0.9013 - val_loss: 1.8976 - val_accuracy: 0.6570\n",
            "Epoch 214/500\n",
            "207/207 [==============================] - 10s 46ms/step - loss: 0.2684 - accuracy: 0.9002 - val_loss: 1.7265 - val_accuracy: 0.6618\n",
            "Epoch 215/500\n",
            "207/207 [==============================] - 9s 45ms/step - loss: 0.2660 - accuracy: 0.9028 - val_loss: 1.9617 - val_accuracy: 0.6425\n",
            "Epoch 216/500\n",
            "207/207 [==============================] - 9s 45ms/step - loss: 0.2736 - accuracy: 0.9028 - val_loss: 1.5956 - val_accuracy: 0.6860\n",
            "Epoch 217/500\n",
            "207/207 [==============================] - 10s 46ms/step - loss: 0.2620 - accuracy: 0.9063 - val_loss: 1.5977 - val_accuracy: 0.6715\n",
            "Epoch 218/500\n",
            "207/207 [==============================] - 10s 46ms/step - loss: 0.2596 - accuracy: 0.9101 - val_loss: 2.2677 - val_accuracy: 0.6184\n",
            "Epoch 219/500\n",
            "207/207 [==============================] - 10s 46ms/step - loss: 0.2415 - accuracy: 0.9137 - val_loss: 1.9558 - val_accuracy: 0.6618\n",
            "Epoch 220/500\n",
            "207/207 [==============================] - 10s 46ms/step - loss: 0.2701 - accuracy: 0.9019 - val_loss: 1.6735 - val_accuracy: 0.6377\n",
            "Epoch 221/500\n",
            "207/207 [==============================] - 10s 46ms/step - loss: 0.2527 - accuracy: 0.9102 - val_loss: 2.0855 - val_accuracy: 0.6329\n",
            "Epoch 222/500\n",
            "207/207 [==============================] - 10s 46ms/step - loss: 0.2719 - accuracy: 0.9045 - val_loss: 1.8921 - val_accuracy: 0.6280\n",
            "Epoch 223/500\n",
            "207/207 [==============================] - 9s 46ms/step - loss: 0.2667 - accuracy: 0.9072 - val_loss: 1.7292 - val_accuracy: 0.6812\n",
            "Epoch 224/500\n",
            "207/207 [==============================] - 10s 46ms/step - loss: 0.2599 - accuracy: 0.9078 - val_loss: 1.6663 - val_accuracy: 0.6763\n",
            "Epoch 225/500\n",
            "207/207 [==============================] - 10s 47ms/step - loss: 0.2438 - accuracy: 0.9111 - val_loss: 1.5514 - val_accuracy: 0.7005\n",
            "Epoch 226/500\n",
            "207/207 [==============================] - 9s 45ms/step - loss: 0.2427 - accuracy: 0.9146 - val_loss: 1.8764 - val_accuracy: 0.6618\n",
            "Epoch 227/500\n",
            "207/207 [==============================] - 9s 45ms/step - loss: 0.2496 - accuracy: 0.9114 - val_loss: 1.8050 - val_accuracy: 0.6570\n",
            "Epoch 228/500\n",
            "207/207 [==============================] - 9s 46ms/step - loss: 0.2435 - accuracy: 0.9137 - val_loss: 1.8430 - val_accuracy: 0.6473\n",
            "Epoch 229/500\n",
            "207/207 [==============================] - 9s 45ms/step - loss: 0.2440 - accuracy: 0.9122 - val_loss: 1.7002 - val_accuracy: 0.6522\n",
            "Epoch 230/500\n",
            "207/207 [==============================] - 10s 46ms/step - loss: 0.2520 - accuracy: 0.9114 - val_loss: 2.2846 - val_accuracy: 0.6280\n",
            "Epoch 231/500\n",
            "207/207 [==============================] - 10s 46ms/step - loss: 0.2578 - accuracy: 0.9090 - val_loss: 1.8579 - val_accuracy: 0.6570\n",
            "Epoch 232/500\n",
            "207/207 [==============================] - 9s 46ms/step - loss: 0.2455 - accuracy: 0.9166 - val_loss: 1.6371 - val_accuracy: 0.6812\n",
            "Epoch 233/500\n",
            "207/207 [==============================] - 9s 46ms/step - loss: 0.2562 - accuracy: 0.9073 - val_loss: 1.5657 - val_accuracy: 0.6957\n",
            "Epoch 234/500\n",
            "207/207 [==============================] - 9s 45ms/step - loss: 0.2434 - accuracy: 0.9140 - val_loss: 1.6174 - val_accuracy: 0.6715\n",
            "Epoch 235/500\n",
            "207/207 [==============================] - 10s 46ms/step - loss: 0.2360 - accuracy: 0.9163 - val_loss: 1.4545 - val_accuracy: 0.6908\n",
            "Epoch 236/500\n",
            "207/207 [==============================] - 10s 46ms/step - loss: 0.2250 - accuracy: 0.9206 - val_loss: 1.5884 - val_accuracy: 0.6763\n",
            "Epoch 237/500\n",
            "207/207 [==============================] - 9s 46ms/step - loss: 0.2513 - accuracy: 0.9107 - val_loss: 1.6566 - val_accuracy: 0.6618\n",
            "Epoch 238/500\n",
            "207/207 [==============================] - 10s 46ms/step - loss: 0.2365 - accuracy: 0.9120 - val_loss: 1.4586 - val_accuracy: 0.7150\n",
            "Epoch 239/500\n",
            "207/207 [==============================] - 9s 45ms/step - loss: 0.2449 - accuracy: 0.9111 - val_loss: 1.6211 - val_accuracy: 0.6715\n",
            "Epoch 240/500\n",
            "207/207 [==============================] - 9s 45ms/step - loss: 0.2522 - accuracy: 0.9090 - val_loss: 1.4385 - val_accuracy: 0.7246\n",
            "Epoch 241/500\n",
            "207/207 [==============================] - 9s 46ms/step - loss: 0.2354 - accuracy: 0.9166 - val_loss: 1.8332 - val_accuracy: 0.6667\n",
            "Epoch 242/500\n",
            "207/207 [==============================] - 10s 47ms/step - loss: 0.2351 - accuracy: 0.9199 - val_loss: 1.6891 - val_accuracy: 0.6763\n",
            "Epoch 243/500\n",
            "207/207 [==============================] - 10s 47ms/step - loss: 0.2377 - accuracy: 0.9154 - val_loss: 1.3548 - val_accuracy: 0.7150\n",
            "Epoch 244/500\n",
            "207/207 [==============================] - 10s 46ms/step - loss: 0.2326 - accuracy: 0.9175 - val_loss: 1.8714 - val_accuracy: 0.6715\n",
            "Epoch 245/500\n",
            "207/207 [==============================] - 9s 46ms/step - loss: 0.2467 - accuracy: 0.9151 - val_loss: 1.5223 - val_accuracy: 0.6957\n",
            "Epoch 246/500\n",
            "207/207 [==============================] - 9s 46ms/step - loss: 0.2254 - accuracy: 0.9240 - val_loss: 1.5905 - val_accuracy: 0.6860\n",
            "Epoch 247/500\n",
            "207/207 [==============================] - 10s 46ms/step - loss: 0.2214 - accuracy: 0.9219 - val_loss: 2.0133 - val_accuracy: 0.6570\n",
            "Epoch 248/500\n",
            "207/207 [==============================] - 9s 45ms/step - loss: 0.2165 - accuracy: 0.9238 - val_loss: 1.4740 - val_accuracy: 0.7343\n",
            "Epoch 249/500\n",
            "207/207 [==============================] - 9s 45ms/step - loss: 0.2273 - accuracy: 0.9188 - val_loss: 1.5970 - val_accuracy: 0.6715\n",
            "Epoch 250/500\n",
            "207/207 [==============================] - 9s 45ms/step - loss: 0.2244 - accuracy: 0.9209 - val_loss: 1.4506 - val_accuracy: 0.7198\n",
            "Epoch 251/500\n",
            "207/207 [==============================] - 9s 46ms/step - loss: 0.2256 - accuracy: 0.9184 - val_loss: 1.7745 - val_accuracy: 0.6812\n",
            "Epoch 252/500\n",
            "207/207 [==============================] - 9s 45ms/step - loss: 0.2297 - accuracy: 0.9181 - val_loss: 1.6948 - val_accuracy: 0.6860\n",
            "Epoch 253/500\n",
            "207/207 [==============================] - 10s 46ms/step - loss: 0.2110 - accuracy: 0.9258 - val_loss: 1.6277 - val_accuracy: 0.7053\n",
            "Epoch 254/500\n",
            "207/207 [==============================] - 10s 46ms/step - loss: 0.2256 - accuracy: 0.9188 - val_loss: 1.4872 - val_accuracy: 0.7101\n",
            "Epoch 255/500\n",
            "207/207 [==============================] - 9s 45ms/step - loss: 0.2195 - accuracy: 0.9229 - val_loss: 1.9061 - val_accuracy: 0.6667\n",
            "Epoch 256/500\n",
            "207/207 [==============================] - 10s 46ms/step - loss: 0.2209 - accuracy: 0.9237 - val_loss: 1.3408 - val_accuracy: 0.7391\n",
            "Epoch 257/500\n",
            "207/207 [==============================] - 9s 46ms/step - loss: 0.2319 - accuracy: 0.9193 - val_loss: 1.3958 - val_accuracy: 0.7295\n",
            "Epoch 258/500\n",
            "207/207 [==============================] - 10s 46ms/step - loss: 0.2209 - accuracy: 0.9220 - val_loss: 1.9419 - val_accuracy: 0.6763\n",
            "Epoch 259/500\n",
            "207/207 [==============================] - 10s 46ms/step - loss: 0.2073 - accuracy: 0.9282 - val_loss: 1.7330 - val_accuracy: 0.6715\n",
            "Epoch 260/500\n",
            "207/207 [==============================] - 9s 46ms/step - loss: 0.2241 - accuracy: 0.9226 - val_loss: 1.7889 - val_accuracy: 0.6667\n",
            "Epoch 261/500\n",
            "207/207 [==============================] - 9s 46ms/step - loss: 0.2213 - accuracy: 0.9274 - val_loss: 1.5329 - val_accuracy: 0.6957\n",
            "Epoch 262/500\n",
            "207/207 [==============================] - 9s 46ms/step - loss: 0.2110 - accuracy: 0.9237 - val_loss: 1.8252 - val_accuracy: 0.6860\n",
            "Epoch 263/500\n",
            "207/207 [==============================] - 10s 46ms/step - loss: 0.2140 - accuracy: 0.9232 - val_loss: 1.8547 - val_accuracy: 0.6329\n",
            "Epoch 264/500\n",
            "207/207 [==============================] - 10s 47ms/step - loss: 0.1971 - accuracy: 0.9296 - val_loss: 1.7149 - val_accuracy: 0.7005\n",
            "Epoch 265/500\n",
            "207/207 [==============================] - 10s 46ms/step - loss: 0.2272 - accuracy: 0.9228 - val_loss: 1.7168 - val_accuracy: 0.6570\n",
            "Epoch 266/500\n",
            "207/207 [==============================] - 9s 46ms/step - loss: 0.2064 - accuracy: 0.9261 - val_loss: 1.9440 - val_accuracy: 0.6570\n",
            "Epoch 267/500\n",
            "207/207 [==============================] - 9s 46ms/step - loss: 0.2104 - accuracy: 0.9294 - val_loss: 1.9218 - val_accuracy: 0.6473\n",
            "Epoch 268/500\n",
            "207/207 [==============================] - 10s 46ms/step - loss: 0.2237 - accuracy: 0.9205 - val_loss: 1.3697 - val_accuracy: 0.7005\n",
            "Epoch 269/500\n",
            "207/207 [==============================] - 9s 45ms/step - loss: 0.2128 - accuracy: 0.9253 - val_loss: 1.5320 - val_accuracy: 0.7150\n",
            "Epoch 270/500\n",
            "207/207 [==============================] - 10s 46ms/step - loss: 0.1980 - accuracy: 0.9296 - val_loss: 1.6618 - val_accuracy: 0.6908\n",
            "Epoch 271/500\n",
            "207/207 [==============================] - 9s 46ms/step - loss: 0.2175 - accuracy: 0.9217 - val_loss: 1.5410 - val_accuracy: 0.7198\n",
            "Epoch 272/500\n",
            "207/207 [==============================] - 10s 46ms/step - loss: 0.2035 - accuracy: 0.9288 - val_loss: 1.5748 - val_accuracy: 0.6860\n",
            "Epoch 273/500\n",
            "207/207 [==============================] - 10s 46ms/step - loss: 0.2211 - accuracy: 0.9229 - val_loss: 1.8865 - val_accuracy: 0.6618\n",
            "Epoch 274/500\n",
            "207/207 [==============================] - 10s 46ms/step - loss: 0.2132 - accuracy: 0.9232 - val_loss: 1.4299 - val_accuracy: 0.7198\n",
            "Epoch 275/500\n",
            "207/207 [==============================] - 10s 47ms/step - loss: 0.1956 - accuracy: 0.9302 - val_loss: 1.4959 - val_accuracy: 0.6908\n",
            "Epoch 276/500\n",
            "207/207 [==============================] - 10s 47ms/step - loss: 0.1982 - accuracy: 0.9323 - val_loss: 1.3451 - val_accuracy: 0.7295\n",
            "Epoch 277/500\n",
            "207/207 [==============================] - 10s 46ms/step - loss: 0.2002 - accuracy: 0.9300 - val_loss: 1.9199 - val_accuracy: 0.6812\n",
            "Epoch 278/500\n",
            "207/207 [==============================] - 9s 46ms/step - loss: 0.2005 - accuracy: 0.9285 - val_loss: 1.6111 - val_accuracy: 0.7101\n",
            "Epoch 279/500\n",
            "207/207 [==============================] - 9s 46ms/step - loss: 0.2019 - accuracy: 0.9290 - val_loss: 1.5678 - val_accuracy: 0.6860\n",
            "Epoch 280/500\n",
            "207/207 [==============================] - 9s 46ms/step - loss: 0.2130 - accuracy: 0.9247 - val_loss: 1.2871 - val_accuracy: 0.7440\n",
            "Epoch 281/500\n",
            "207/207 [==============================] - 10s 47ms/step - loss: 0.2106 - accuracy: 0.9261 - val_loss: 1.3288 - val_accuracy: 0.7246\n",
            "Epoch 282/500\n",
            "207/207 [==============================] - 9s 46ms/step - loss: 0.2036 - accuracy: 0.9296 - val_loss: 1.5331 - val_accuracy: 0.6908\n",
            "Epoch 283/500\n",
            "207/207 [==============================] - 9s 46ms/step - loss: 0.2130 - accuracy: 0.9267 - val_loss: 1.3575 - val_accuracy: 0.7343\n",
            "Epoch 284/500\n",
            "207/207 [==============================] - 9s 45ms/step - loss: 0.2161 - accuracy: 0.9249 - val_loss: 1.5673 - val_accuracy: 0.7053\n",
            "Epoch 285/500\n",
            "207/207 [==============================] - 10s 46ms/step - loss: 0.1941 - accuracy: 0.9311 - val_loss: 1.7248 - val_accuracy: 0.6618\n",
            "Epoch 286/500\n",
            "207/207 [==============================] - 9s 46ms/step - loss: 0.2042 - accuracy: 0.9293 - val_loss: 1.5196 - val_accuracy: 0.7150\n",
            "Epoch 287/500\n",
            "207/207 [==============================] - 10s 48ms/step - loss: 0.1904 - accuracy: 0.9332 - val_loss: 1.6992 - val_accuracy: 0.6860\n",
            "Epoch 288/500\n",
            "207/207 [==============================] - 10s 46ms/step - loss: 0.2063 - accuracy: 0.9268 - val_loss: 1.5783 - val_accuracy: 0.6860\n",
            "Epoch 289/500\n",
            "207/207 [==============================] - 9s 46ms/step - loss: 0.1891 - accuracy: 0.9314 - val_loss: 1.3569 - val_accuracy: 0.7440\n",
            "Epoch 290/500\n",
            "207/207 [==============================] - 10s 46ms/step - loss: 0.1947 - accuracy: 0.9346 - val_loss: 1.5461 - val_accuracy: 0.7150\n",
            "Epoch 291/500\n",
            "207/207 [==============================] - 10s 46ms/step - loss: 0.2002 - accuracy: 0.9290 - val_loss: 1.4792 - val_accuracy: 0.7246\n",
            "Epoch 292/500\n",
            "207/207 [==============================] - 10s 46ms/step - loss: 0.1897 - accuracy: 0.9350 - val_loss: 1.5339 - val_accuracy: 0.7391\n",
            "Epoch 293/500\n",
            "207/207 [==============================] - 10s 47ms/step - loss: 0.1965 - accuracy: 0.9290 - val_loss: 1.3505 - val_accuracy: 0.7488\n",
            "Epoch 294/500\n",
            "207/207 [==============================] - 10s 46ms/step - loss: 0.1854 - accuracy: 0.9355 - val_loss: 1.2796 - val_accuracy: 0.7585\n",
            "Epoch 295/500\n",
            "207/207 [==============================] - 10s 46ms/step - loss: 0.1972 - accuracy: 0.9278 - val_loss: 1.5197 - val_accuracy: 0.7246\n",
            "Epoch 296/500\n",
            "207/207 [==============================] - 10s 46ms/step - loss: 0.1846 - accuracy: 0.9371 - val_loss: 1.6219 - val_accuracy: 0.7150\n",
            "Epoch 297/500\n",
            "207/207 [==============================] - 9s 46ms/step - loss: 0.1951 - accuracy: 0.9311 - val_loss: 1.6533 - val_accuracy: 0.7198\n",
            "Epoch 298/500\n",
            "207/207 [==============================] - 10s 47ms/step - loss: 0.1813 - accuracy: 0.9371 - val_loss: 1.6352 - val_accuracy: 0.6957\n",
            "Epoch 299/500\n",
            "207/207 [==============================] - 9s 46ms/step - loss: 0.1895 - accuracy: 0.9371 - val_loss: 1.2559 - val_accuracy: 0.7488\n",
            "Epoch 300/500\n",
            "207/207 [==============================] - 10s 47ms/step - loss: 0.1928 - accuracy: 0.9373 - val_loss: 1.4954 - val_accuracy: 0.7198\n",
            "Epoch 301/500\n",
            "207/207 [==============================] - 9s 46ms/step - loss: 0.1833 - accuracy: 0.9355 - val_loss: 1.5727 - val_accuracy: 0.7150\n",
            "Epoch 302/500\n",
            "207/207 [==============================] - 10s 46ms/step - loss: 0.1857 - accuracy: 0.9346 - val_loss: 1.6006 - val_accuracy: 0.7053\n",
            "Epoch 303/500\n",
            "207/207 [==============================] - 10s 47ms/step - loss: 0.1867 - accuracy: 0.9341 - val_loss: 1.5678 - val_accuracy: 0.7053\n",
            "Epoch 304/500\n",
            "207/207 [==============================] - 10s 46ms/step - loss: 0.1963 - accuracy: 0.9323 - val_loss: 1.3641 - val_accuracy: 0.7246\n",
            "Epoch 305/500\n",
            "207/207 [==============================] - 9s 46ms/step - loss: 0.1868 - accuracy: 0.9330 - val_loss: 1.2418 - val_accuracy: 0.7440\n",
            "Epoch 306/500\n",
            "207/207 [==============================] - 10s 47ms/step - loss: 0.1845 - accuracy: 0.9359 - val_loss: 1.4900 - val_accuracy: 0.7198\n",
            "Epoch 307/500\n",
            "207/207 [==============================] - 10s 47ms/step - loss: 0.1838 - accuracy: 0.9368 - val_loss: 1.5625 - val_accuracy: 0.6908\n",
            "Epoch 308/500\n",
            "207/207 [==============================] - 10s 46ms/step - loss: 0.1814 - accuracy: 0.9353 - val_loss: 1.6013 - val_accuracy: 0.7295\n",
            "Epoch 309/500\n",
            "207/207 [==============================] - 10s 49ms/step - loss: 0.1809 - accuracy: 0.9362 - val_loss: 1.3973 - val_accuracy: 0.7391\n",
            "Epoch 310/500\n",
            "207/207 [==============================] - 10s 48ms/step - loss: 0.1948 - accuracy: 0.9332 - val_loss: 1.4394 - val_accuracy: 0.7295\n",
            "Epoch 311/500\n",
            "207/207 [==============================] - 10s 47ms/step - loss: 0.1794 - accuracy: 0.9377 - val_loss: 1.6965 - val_accuracy: 0.6860\n",
            "Epoch 312/500\n",
            "207/207 [==============================] - 10s 47ms/step - loss: 0.1821 - accuracy: 0.9374 - val_loss: 1.4805 - val_accuracy: 0.7053\n",
            "Epoch 313/500\n",
            "207/207 [==============================] - 9s 46ms/step - loss: 0.1925 - accuracy: 0.9333 - val_loss: 1.4720 - val_accuracy: 0.7101\n",
            "Epoch 314/500\n",
            "207/207 [==============================] - 10s 46ms/step - loss: 0.1751 - accuracy: 0.9444 - val_loss: 1.5600 - val_accuracy: 0.7053\n",
            "Epoch 315/500\n",
            "207/207 [==============================] - 10s 46ms/step - loss: 0.1854 - accuracy: 0.9368 - val_loss: 1.4488 - val_accuracy: 0.7198\n",
            "Epoch 316/500\n",
            "207/207 [==============================] - 9s 46ms/step - loss: 0.1794 - accuracy: 0.9383 - val_loss: 1.3619 - val_accuracy: 0.7440\n",
            "Epoch 317/500\n",
            "207/207 [==============================] - 9s 46ms/step - loss: 0.1782 - accuracy: 0.9394 - val_loss: 1.4312 - val_accuracy: 0.7246\n",
            "Epoch 318/500\n",
            "207/207 [==============================] - 10s 46ms/step - loss: 0.1758 - accuracy: 0.9380 - val_loss: 1.4169 - val_accuracy: 0.7343\n",
            "Epoch 319/500\n",
            "207/207 [==============================] - 9s 46ms/step - loss: 0.1752 - accuracy: 0.9376 - val_loss: 1.5606 - val_accuracy: 0.7150\n",
            "Epoch 320/500\n",
            "207/207 [==============================] - 10s 47ms/step - loss: 0.1685 - accuracy: 0.9415 - val_loss: 1.4227 - val_accuracy: 0.7440\n",
            "Epoch 321/500\n",
            "207/207 [==============================] - 10s 46ms/step - loss: 0.1832 - accuracy: 0.9365 - val_loss: 1.4195 - val_accuracy: 0.7198\n",
            "Epoch 322/500\n",
            "207/207 [==============================] - 9s 46ms/step - loss: 0.1729 - accuracy: 0.9407 - val_loss: 1.4541 - val_accuracy: 0.7295\n",
            "Epoch 323/500\n",
            "207/207 [==============================] - 10s 47ms/step - loss: 0.1809 - accuracy: 0.9385 - val_loss: 1.4245 - val_accuracy: 0.7246\n",
            "Epoch 324/500\n",
            "207/207 [==============================] - 10s 46ms/step - loss: 0.1828 - accuracy: 0.9362 - val_loss: 1.4186 - val_accuracy: 0.7343\n",
            "Epoch 325/500\n",
            "207/207 [==============================] - 10s 47ms/step - loss: 0.1802 - accuracy: 0.9377 - val_loss: 1.6814 - val_accuracy: 0.6908\n",
            "Epoch 326/500\n",
            "207/207 [==============================] - 10s 47ms/step - loss: 0.1634 - accuracy: 0.9430 - val_loss: 1.3539 - val_accuracy: 0.7729\n",
            "Epoch 327/500\n",
            "207/207 [==============================] - 9s 46ms/step - loss: 0.1734 - accuracy: 0.9401 - val_loss: 1.6067 - val_accuracy: 0.7246\n",
            "Epoch 328/500\n",
            "207/207 [==============================] - 10s 46ms/step - loss: 0.1840 - accuracy: 0.9355 - val_loss: 1.7401 - val_accuracy: 0.6860\n",
            "Epoch 329/500\n",
            "207/207 [==============================] - 10s 46ms/step - loss: 0.1747 - accuracy: 0.9406 - val_loss: 1.5320 - val_accuracy: 0.7295\n",
            "Epoch 330/500\n",
            "207/207 [==============================] - 9s 46ms/step - loss: 0.1721 - accuracy: 0.9414 - val_loss: 1.6823 - val_accuracy: 0.7295\n",
            "Epoch 331/500\n",
            "207/207 [==============================] - 10s 46ms/step - loss: 0.1722 - accuracy: 0.9398 - val_loss: 1.7424 - val_accuracy: 0.6957\n",
            "Epoch 332/500\n",
            "207/207 [==============================] - 10s 46ms/step - loss: 0.1752 - accuracy: 0.9392 - val_loss: 1.4530 - val_accuracy: 0.7343\n",
            "Epoch 333/500\n",
            "207/207 [==============================] - 9s 45ms/step - loss: 0.1624 - accuracy: 0.9397 - val_loss: 1.4737 - val_accuracy: 0.7053\n",
            "Epoch 334/500\n",
            "207/207 [==============================] - 10s 46ms/step - loss: 0.1722 - accuracy: 0.9438 - val_loss: 1.3893 - val_accuracy: 0.7246\n",
            "Epoch 335/500\n",
            "207/207 [==============================] - 9s 46ms/step - loss: 0.1781 - accuracy: 0.9385 - val_loss: 1.3812 - val_accuracy: 0.7536\n",
            "Epoch 336/500\n",
            "207/207 [==============================] - 9s 46ms/step - loss: 0.1766 - accuracy: 0.9409 - val_loss: 1.4781 - val_accuracy: 0.7295\n",
            "Epoch 337/500\n",
            "207/207 [==============================] - 10s 46ms/step - loss: 0.1776 - accuracy: 0.9380 - val_loss: 1.4934 - val_accuracy: 0.7343\n",
            "Epoch 338/500\n",
            "207/207 [==============================] - 10s 46ms/step - loss: 0.1534 - accuracy: 0.9460 - val_loss: 1.3500 - val_accuracy: 0.7585\n",
            "Epoch 339/500\n",
            "207/207 [==============================] - 9s 46ms/step - loss: 0.1704 - accuracy: 0.9386 - val_loss: 1.7251 - val_accuracy: 0.7053\n",
            "Epoch 340/500\n",
            "207/207 [==============================] - 9s 46ms/step - loss: 0.1597 - accuracy: 0.9462 - val_loss: 1.4351 - val_accuracy: 0.7246\n",
            "Epoch 341/500\n",
            "207/207 [==============================] - 10s 47ms/step - loss: 0.1646 - accuracy: 0.9447 - val_loss: 1.7588 - val_accuracy: 0.6860\n",
            "Epoch 342/500\n",
            "207/207 [==============================] - 10s 47ms/step - loss: 0.1702 - accuracy: 0.9433 - val_loss: 1.6172 - val_accuracy: 0.7198\n",
            "Epoch 343/500\n",
            "207/207 [==============================] - 10s 48ms/step - loss: 0.1715 - accuracy: 0.9401 - val_loss: 1.5060 - val_accuracy: 0.7536\n",
            "Epoch 344/500\n",
            "207/207 [==============================] - 10s 46ms/step - loss: 0.1686 - accuracy: 0.9454 - val_loss: 1.2092 - val_accuracy: 0.7729\n",
            "Epoch 345/500\n",
            "207/207 [==============================] - 10s 46ms/step - loss: 0.1755 - accuracy: 0.9430 - val_loss: 1.2227 - val_accuracy: 0.7923\n",
            "Epoch 346/500\n",
            "207/207 [==============================] - 10s 46ms/step - loss: 0.1670 - accuracy: 0.9439 - val_loss: 1.3152 - val_accuracy: 0.7585\n",
            "Epoch 347/500\n",
            "207/207 [==============================] - 10s 48ms/step - loss: 0.1778 - accuracy: 0.9373 - val_loss: 1.2948 - val_accuracy: 0.7536\n",
            "Epoch 348/500\n",
            "207/207 [==============================] - 11s 51ms/step - loss: 0.1726 - accuracy: 0.9371 - val_loss: 1.6242 - val_accuracy: 0.6957\n",
            "Epoch 349/500\n",
            "207/207 [==============================] - 10s 48ms/step - loss: 0.1760 - accuracy: 0.9421 - val_loss: 1.2708 - val_accuracy: 0.7633\n",
            "Epoch 350/500\n",
            "207/207 [==============================] - 10s 47ms/step - loss: 0.1628 - accuracy: 0.9451 - val_loss: 1.5968 - val_accuracy: 0.7053\n",
            "Epoch 351/500\n",
            "207/207 [==============================] - 10s 47ms/step - loss: 0.1631 - accuracy: 0.9444 - val_loss: 1.4705 - val_accuracy: 0.7150\n",
            "Epoch 352/500\n",
            "207/207 [==============================] - 10s 48ms/step - loss: 0.1599 - accuracy: 0.9433 - val_loss: 1.5277 - val_accuracy: 0.7246\n",
            "Epoch 353/500\n",
            "207/207 [==============================] - 10s 47ms/step - loss: 0.1572 - accuracy: 0.9436 - val_loss: 1.3856 - val_accuracy: 0.7633\n",
            "Epoch 354/500\n",
            "207/207 [==============================] - 10s 49ms/step - loss: 0.1696 - accuracy: 0.9432 - val_loss: 1.5619 - val_accuracy: 0.7053\n",
            "Epoch 355/500\n",
            "207/207 [==============================] - 10s 47ms/step - loss: 0.1646 - accuracy: 0.9450 - val_loss: 1.3339 - val_accuracy: 0.7488\n",
            "Epoch 356/500\n",
            "207/207 [==============================] - 10s 47ms/step - loss: 0.1567 - accuracy: 0.9459 - val_loss: 1.4439 - val_accuracy: 0.7488\n",
            "Epoch 357/500\n",
            "207/207 [==============================] - 10s 47ms/step - loss: 0.1616 - accuracy: 0.9435 - val_loss: 1.1776 - val_accuracy: 0.7826\n",
            "Epoch 358/500\n",
            "207/207 [==============================] - 10s 47ms/step - loss: 0.1680 - accuracy: 0.9450 - val_loss: 1.4317 - val_accuracy: 0.7198\n",
            "Epoch 359/500\n",
            "207/207 [==============================] - 10s 49ms/step - loss: 0.1530 - accuracy: 0.9483 - val_loss: 1.4323 - val_accuracy: 0.7295\n",
            "Epoch 360/500\n",
            "207/207 [==============================] - 10s 48ms/step - loss: 0.1548 - accuracy: 0.9504 - val_loss: 1.4465 - val_accuracy: 0.7295\n",
            "Epoch 361/500\n",
            "207/207 [==============================] - 10s 47ms/step - loss: 0.1514 - accuracy: 0.9480 - val_loss: 1.2477 - val_accuracy: 0.7874\n",
            "Epoch 362/500\n",
            "207/207 [==============================] - 10s 46ms/step - loss: 0.1618 - accuracy: 0.9448 - val_loss: 1.2491 - val_accuracy: 0.7488\n",
            "Epoch 363/500\n",
            "207/207 [==============================] - 10s 46ms/step - loss: 0.1670 - accuracy: 0.9442 - val_loss: 1.1813 - val_accuracy: 0.7729\n",
            "Epoch 364/500\n",
            "207/207 [==============================] - 10s 46ms/step - loss: 0.1543 - accuracy: 0.9466 - val_loss: 1.2211 - val_accuracy: 0.7681\n",
            "Epoch 365/500\n",
            "207/207 [==============================] - 10s 47ms/step - loss: 0.1565 - accuracy: 0.9421 - val_loss: 1.2126 - val_accuracy: 0.7681\n",
            "Epoch 366/500\n",
            "207/207 [==============================] - 9s 46ms/step - loss: 0.1577 - accuracy: 0.9471 - val_loss: 1.4146 - val_accuracy: 0.7295\n",
            "Epoch 367/500\n",
            "207/207 [==============================] - 9s 46ms/step - loss: 0.1444 - accuracy: 0.9512 - val_loss: 1.3136 - val_accuracy: 0.7778\n",
            "Epoch 368/500\n",
            "207/207 [==============================] - 10s 47ms/step - loss: 0.1619 - accuracy: 0.9451 - val_loss: 1.2136 - val_accuracy: 0.7633\n",
            "Epoch 369/500\n",
            "207/207 [==============================] - 10s 46ms/step - loss: 0.1608 - accuracy: 0.9435 - val_loss: 1.3749 - val_accuracy: 0.7295\n",
            "Epoch 370/500\n",
            "207/207 [==============================] - 10s 46ms/step - loss: 0.1465 - accuracy: 0.9516 - val_loss: 1.3646 - val_accuracy: 0.7681\n",
            "Epoch 371/500\n",
            "207/207 [==============================] - 10s 47ms/step - loss: 0.1450 - accuracy: 0.9498 - val_loss: 1.4104 - val_accuracy: 0.7440\n",
            "Epoch 372/500\n",
            "207/207 [==============================] - 9s 46ms/step - loss: 0.1519 - accuracy: 0.9485 - val_loss: 1.3621 - val_accuracy: 0.7536\n",
            "Epoch 373/500\n",
            "207/207 [==============================] - 12s 57ms/step - loss: 0.1468 - accuracy: 0.9506 - val_loss: 1.3581 - val_accuracy: 0.7391\n",
            "Epoch 374/500\n",
            "207/207 [==============================] - 11s 51ms/step - loss: 0.1635 - accuracy: 0.9454 - val_loss: 1.5202 - val_accuracy: 0.7295\n",
            "Epoch 375/500\n",
            "207/207 [==============================] - 10s 47ms/step - loss: 0.1558 - accuracy: 0.9492 - val_loss: 1.4730 - val_accuracy: 0.7681\n",
            "Epoch 376/500\n",
            "207/207 [==============================] - 10s 47ms/step - loss: 0.1520 - accuracy: 0.9494 - val_loss: 1.3456 - val_accuracy: 0.7681\n",
            "Epoch 377/500\n",
            "207/207 [==============================] - 9s 46ms/step - loss: 0.1501 - accuracy: 0.9501 - val_loss: 1.4567 - val_accuracy: 0.7585\n",
            "Epoch 378/500\n",
            "207/207 [==============================] - 10s 47ms/step - loss: 0.1545 - accuracy: 0.9489 - val_loss: 1.4664 - val_accuracy: 0.7440\n",
            "Epoch 379/500\n",
            "207/207 [==============================] - 10s 46ms/step - loss: 0.1494 - accuracy: 0.9488 - val_loss: 1.4655 - val_accuracy: 0.7391\n",
            "Epoch 380/500\n",
            "207/207 [==============================] - 10s 47ms/step - loss: 0.1606 - accuracy: 0.9472 - val_loss: 1.1806 - val_accuracy: 0.7633\n",
            "Epoch 381/500\n",
            "207/207 [==============================] - 10s 47ms/step - loss: 0.1599 - accuracy: 0.9477 - val_loss: 1.3547 - val_accuracy: 0.7681\n",
            "Epoch 382/500\n",
            "207/207 [==============================] - 10s 46ms/step - loss: 0.1542 - accuracy: 0.9498 - val_loss: 1.3737 - val_accuracy: 0.7585\n",
            "Epoch 383/500\n",
            "207/207 [==============================] - 11s 53ms/step - loss: 0.1606 - accuracy: 0.9488 - val_loss: 1.3521 - val_accuracy: 0.7295\n",
            "Epoch 384/500\n",
            "207/207 [==============================] - 10s 47ms/step - loss: 0.1462 - accuracy: 0.9501 - val_loss: 1.6408 - val_accuracy: 0.7343\n",
            "Epoch 385/500\n",
            "207/207 [==============================] - 10s 47ms/step - loss: 0.1484 - accuracy: 0.9492 - val_loss: 1.1704 - val_accuracy: 0.7971\n",
            "Epoch 386/500\n",
            "207/207 [==============================] - 10s 47ms/step - loss: 0.1418 - accuracy: 0.9513 - val_loss: 1.1686 - val_accuracy: 0.7826\n",
            "Epoch 387/500\n",
            "207/207 [==============================] - 10s 47ms/step - loss: 0.1411 - accuracy: 0.9522 - val_loss: 1.3146 - val_accuracy: 0.7536\n",
            "Epoch 388/500\n",
            "207/207 [==============================] - 10s 47ms/step - loss: 0.1378 - accuracy: 0.9528 - val_loss: 1.5617 - val_accuracy: 0.7198\n",
            "Epoch 389/500\n",
            "207/207 [==============================] - 10s 46ms/step - loss: 0.1364 - accuracy: 0.9545 - val_loss: 1.6134 - val_accuracy: 0.7391\n",
            "Epoch 390/500\n",
            "207/207 [==============================] - 9s 46ms/step - loss: 0.1550 - accuracy: 0.9476 - val_loss: 1.4077 - val_accuracy: 0.7440\n",
            "Epoch 391/500\n",
            "207/207 [==============================] - 10s 46ms/step - loss: 0.1469 - accuracy: 0.9497 - val_loss: 1.3004 - val_accuracy: 0.7778\n",
            "Epoch 392/500\n",
            "207/207 [==============================] - 10s 46ms/step - loss: 0.1618 - accuracy: 0.9471 - val_loss: 1.3665 - val_accuracy: 0.7536\n",
            "Epoch 393/500\n",
            "207/207 [==============================] - 10s 47ms/step - loss: 0.1454 - accuracy: 0.9524 - val_loss: 1.2434 - val_accuracy: 0.7633\n",
            "Epoch 394/500\n",
            "207/207 [==============================] - 10s 47ms/step - loss: 0.1374 - accuracy: 0.9515 - val_loss: 1.4267 - val_accuracy: 0.7633\n",
            "Epoch 395/500\n",
            "207/207 [==============================] - 10s 46ms/step - loss: 0.1430 - accuracy: 0.9504 - val_loss: 1.3667 - val_accuracy: 0.7633\n",
            "Epoch 396/500\n",
            "207/207 [==============================] - 10s 47ms/step - loss: 0.1491 - accuracy: 0.9485 - val_loss: 1.2312 - val_accuracy: 0.7633\n",
            "Epoch 397/500\n",
            "207/207 [==============================] - 10s 47ms/step - loss: 0.1442 - accuracy: 0.9498 - val_loss: 1.3010 - val_accuracy: 0.7488\n",
            "Epoch 398/500\n",
            "207/207 [==============================] - 10s 47ms/step - loss: 0.1428 - accuracy: 0.9513 - val_loss: 1.3899 - val_accuracy: 0.7391\n",
            "Epoch 399/500\n",
            "207/207 [==============================] - 10s 47ms/step - loss: 0.1511 - accuracy: 0.9480 - val_loss: 1.3392 - val_accuracy: 0.7343\n",
            "Epoch 400/500\n",
            "207/207 [==============================] - 10s 46ms/step - loss: 0.1493 - accuracy: 0.9513 - val_loss: 1.2140 - val_accuracy: 0.7729\n",
            "Epoch 401/500\n",
            "207/207 [==============================] - 10s 46ms/step - loss: 0.1395 - accuracy: 0.9521 - val_loss: 1.2427 - val_accuracy: 0.7633\n",
            "Epoch 402/500\n",
            "207/207 [==============================] - 10s 50ms/step - loss: 0.1526 - accuracy: 0.9485 - val_loss: 1.2244 - val_accuracy: 0.7874\n",
            "Epoch 403/500\n",
            "207/207 [==============================] - 10s 48ms/step - loss: 0.1418 - accuracy: 0.9530 - val_loss: 1.1879 - val_accuracy: 0.7778\n",
            "Epoch 404/500\n",
            "207/207 [==============================] - 10s 48ms/step - loss: 0.1575 - accuracy: 0.9454 - val_loss: 1.2171 - val_accuracy: 0.7874\n",
            "Epoch 405/500\n",
            "207/207 [==============================] - 10s 46ms/step - loss: 0.1391 - accuracy: 0.9539 - val_loss: 1.3107 - val_accuracy: 0.7633\n",
            "Epoch 406/500\n",
            "207/207 [==============================] - 10s 46ms/step - loss: 0.1474 - accuracy: 0.9537 - val_loss: 1.2210 - val_accuracy: 0.7778\n",
            "Epoch 407/500\n",
            "207/207 [==============================] - 10s 46ms/step - loss: 0.1471 - accuracy: 0.9507 - val_loss: 1.1828 - val_accuracy: 0.7729\n",
            "Epoch 408/500\n",
            "207/207 [==============================] - 10s 48ms/step - loss: 0.1378 - accuracy: 0.9519 - val_loss: 1.2256 - val_accuracy: 0.7874\n",
            "Epoch 409/500\n",
            "207/207 [==============================] - 10s 47ms/step - loss: 0.1455 - accuracy: 0.9486 - val_loss: 1.2261 - val_accuracy: 0.7778\n",
            "Epoch 410/500\n",
            "207/207 [==============================] - 10s 47ms/step - loss: 0.1374 - accuracy: 0.9528 - val_loss: 1.2936 - val_accuracy: 0.7729\n",
            "Epoch 411/500\n",
            "207/207 [==============================] - 10s 47ms/step - loss: 0.1400 - accuracy: 0.9516 - val_loss: 1.2902 - val_accuracy: 0.7681\n",
            "Epoch 412/500\n",
            "207/207 [==============================] - 10s 47ms/step - loss: 0.1381 - accuracy: 0.9572 - val_loss: 1.2996 - val_accuracy: 0.7778\n",
            "Epoch 413/500\n",
            "207/207 [==============================] - 10s 47ms/step - loss: 0.1396 - accuracy: 0.9497 - val_loss: 1.3333 - val_accuracy: 0.7536\n",
            "Epoch 414/500\n",
            "207/207 [==============================] - 10s 47ms/step - loss: 0.1360 - accuracy: 0.9525 - val_loss: 1.3971 - val_accuracy: 0.7585\n",
            "Epoch 415/500\n",
            "207/207 [==============================] - 12s 58ms/step - loss: 0.1305 - accuracy: 0.9547 - val_loss: 1.6213 - val_accuracy: 0.7246\n",
            "Epoch 416/500\n",
            "207/207 [==============================] - 10s 47ms/step - loss: 0.1305 - accuracy: 0.9575 - val_loss: 1.3834 - val_accuracy: 0.7681\n",
            "Epoch 417/500\n",
            "207/207 [==============================] - 10s 48ms/step - loss: 0.1445 - accuracy: 0.9497 - val_loss: 1.3295 - val_accuracy: 0.7923\n",
            "Epoch 418/500\n",
            "207/207 [==============================] - 10s 47ms/step - loss: 0.1363 - accuracy: 0.9545 - val_loss: 1.3884 - val_accuracy: 0.7729\n",
            "Epoch 419/500\n",
            "207/207 [==============================] - 10s 47ms/step - loss: 0.1341 - accuracy: 0.9545 - val_loss: 1.2494 - val_accuracy: 0.7826\n",
            "Epoch 420/500\n",
            "207/207 [==============================] - 10s 48ms/step - loss: 0.1337 - accuracy: 0.9536 - val_loss: 1.2283 - val_accuracy: 0.7923\n",
            "Epoch 421/500\n",
            "207/207 [==============================] - 10s 47ms/step - loss: 0.1340 - accuracy: 0.9559 - val_loss: 1.4175 - val_accuracy: 0.7536\n",
            "Epoch 422/500\n",
            "207/207 [==============================] - 10s 47ms/step - loss: 0.1418 - accuracy: 0.9539 - val_loss: 1.1430 - val_accuracy: 0.7874\n",
            "Epoch 423/500\n",
            "207/207 [==============================] - 10s 48ms/step - loss: 0.1377 - accuracy: 0.9536 - val_loss: 1.3251 - val_accuracy: 0.7391\n",
            "Epoch 424/500\n",
            "207/207 [==============================] - 10s 47ms/step - loss: 0.1414 - accuracy: 0.9515 - val_loss: 1.3211 - val_accuracy: 0.7391\n",
            "Epoch 425/500\n",
            "207/207 [==============================] - 10s 46ms/step - loss: 0.1432 - accuracy: 0.9516 - val_loss: 1.3316 - val_accuracy: 0.7633\n",
            "Epoch 426/500\n",
            "207/207 [==============================] - 10s 48ms/step - loss: 0.1420 - accuracy: 0.9536 - val_loss: 1.4024 - val_accuracy: 0.7536\n",
            "Epoch 427/500\n",
            "207/207 [==============================] - 10s 47ms/step - loss: 0.1489 - accuracy: 0.9506 - val_loss: 1.0519 - val_accuracy: 0.7923\n",
            "Epoch 428/500\n",
            "207/207 [==============================] - 10s 46ms/step - loss: 0.1425 - accuracy: 0.9506 - val_loss: 1.3750 - val_accuracy: 0.7536\n",
            "Epoch 429/500\n",
            "207/207 [==============================] - 10s 48ms/step - loss: 0.1284 - accuracy: 0.9571 - val_loss: 1.2997 - val_accuracy: 0.7536\n",
            "Epoch 430/500\n",
            "207/207 [==============================] - 10s 47ms/step - loss: 0.1446 - accuracy: 0.9513 - val_loss: 1.3208 - val_accuracy: 0.7585\n",
            "Epoch 431/500\n",
            "207/207 [==============================] - 10s 47ms/step - loss: 0.1400 - accuracy: 0.9500 - val_loss: 1.2298 - val_accuracy: 0.7729\n",
            "Epoch 432/500\n",
            "207/207 [==============================] - 10s 48ms/step - loss: 0.1389 - accuracy: 0.9548 - val_loss: 1.0895 - val_accuracy: 0.7874\n",
            "Epoch 433/500\n",
            "207/207 [==============================] - 10s 48ms/step - loss: 0.1324 - accuracy: 0.9536 - val_loss: 1.4289 - val_accuracy: 0.7536\n",
            "Epoch 434/500\n",
            "207/207 [==============================] - 10s 47ms/step - loss: 0.1348 - accuracy: 0.9572 - val_loss: 1.2093 - val_accuracy: 0.7778\n",
            "Epoch 435/500\n",
            "207/207 [==============================] - 10s 48ms/step - loss: 0.1471 - accuracy: 0.9522 - val_loss: 1.2946 - val_accuracy: 0.7778\n",
            "Epoch 436/500\n",
            "207/207 [==============================] - 10s 48ms/step - loss: 0.1386 - accuracy: 0.9530 - val_loss: 1.1596 - val_accuracy: 0.7826\n",
            "Epoch 437/500\n",
            "207/207 [==============================] - 10s 48ms/step - loss: 0.1238 - accuracy: 0.9578 - val_loss: 1.2029 - val_accuracy: 0.7826\n",
            "Epoch 438/500\n",
            "207/207 [==============================] - 10s 47ms/step - loss: 0.1316 - accuracy: 0.9560 - val_loss: 1.2933 - val_accuracy: 0.7729\n",
            "Epoch 439/500\n",
            "207/207 [==============================] - 10s 49ms/step - loss: 0.1417 - accuracy: 0.9524 - val_loss: 1.1580 - val_accuracy: 0.7826\n",
            "Epoch 440/500\n",
            "207/207 [==============================] - 10s 49ms/step - loss: 0.1382 - accuracy: 0.9562 - val_loss: 1.2480 - val_accuracy: 0.7874\n",
            "Epoch 441/500\n",
            "207/207 [==============================] - 10s 48ms/step - loss: 0.1281 - accuracy: 0.9563 - val_loss: 1.2181 - val_accuracy: 0.7874\n",
            "Epoch 442/500\n",
            "207/207 [==============================] - 10s 48ms/step - loss: 0.1362 - accuracy: 0.9550 - val_loss: 1.1590 - val_accuracy: 0.7826\n",
            "Epoch 443/500\n",
            "207/207 [==============================] - 10s 49ms/step - loss: 0.1372 - accuracy: 0.9544 - val_loss: 1.1294 - val_accuracy: 0.8019\n",
            "Epoch 444/500\n",
            "207/207 [==============================] - 10s 47ms/step - loss: 0.1361 - accuracy: 0.9536 - val_loss: 1.0887 - val_accuracy: 0.8068\n",
            "Epoch 445/500\n",
            "207/207 [==============================] - 10s 47ms/step - loss: 0.1320 - accuracy: 0.9541 - val_loss: 1.1456 - val_accuracy: 0.7971\n",
            "Epoch 446/500\n",
            "207/207 [==============================] - 10s 49ms/step - loss: 0.1248 - accuracy: 0.9587 - val_loss: 1.2783 - val_accuracy: 0.7633\n",
            "Epoch 447/500\n",
            "207/207 [==============================] - 10s 49ms/step - loss: 0.1453 - accuracy: 0.9530 - val_loss: 1.1785 - val_accuracy: 0.7923\n",
            "Epoch 448/500\n",
            "207/207 [==============================] - 10s 50ms/step - loss: 0.1279 - accuracy: 0.9587 - val_loss: 1.3498 - val_accuracy: 0.7681\n",
            "Epoch 449/500\n",
            "207/207 [==============================] - 10s 49ms/step - loss: 0.1235 - accuracy: 0.9581 - val_loss: 1.1444 - val_accuracy: 0.7923\n",
            "Epoch 450/500\n",
            "207/207 [==============================] - 10s 47ms/step - loss: 0.1349 - accuracy: 0.9577 - val_loss: 1.1491 - val_accuracy: 0.7826\n",
            "Epoch 451/500\n",
            "207/207 [==============================] - 10s 48ms/step - loss: 0.1258 - accuracy: 0.9580 - val_loss: 1.3977 - val_accuracy: 0.7295\n",
            "Epoch 452/500\n",
            "207/207 [==============================] - 10s 49ms/step - loss: 0.1258 - accuracy: 0.9569 - val_loss: 1.2608 - val_accuracy: 0.7633\n",
            "Epoch 453/500\n",
            "207/207 [==============================] - 10s 49ms/step - loss: 0.1481 - accuracy: 0.9486 - val_loss: 1.1153 - val_accuracy: 0.7681\n",
            "Epoch 454/500\n",
            "207/207 [==============================] - 10s 50ms/step - loss: 0.1196 - accuracy: 0.9596 - val_loss: 1.1817 - val_accuracy: 0.7971\n",
            "Epoch 455/500\n",
            "207/207 [==============================] - 10s 48ms/step - loss: 0.1350 - accuracy: 0.9541 - val_loss: 1.1379 - val_accuracy: 0.7826\n",
            "Epoch 456/500\n",
            "207/207 [==============================] - 10s 48ms/step - loss: 0.1281 - accuracy: 0.9572 - val_loss: 1.2007 - val_accuracy: 0.7729\n",
            "Epoch 457/500\n",
            "207/207 [==============================] - 10s 48ms/step - loss: 0.1297 - accuracy: 0.9571 - val_loss: 1.0469 - val_accuracy: 0.7923\n",
            "Epoch 458/500\n",
            "207/207 [==============================] - 10s 48ms/step - loss: 0.1261 - accuracy: 0.9607 - val_loss: 1.3198 - val_accuracy: 0.7536\n",
            "Epoch 459/500\n",
            "207/207 [==============================] - 10s 48ms/step - loss: 0.1304 - accuracy: 0.9568 - val_loss: 1.2056 - val_accuracy: 0.7874\n",
            "Epoch 460/500\n",
            "207/207 [==============================] - 10s 48ms/step - loss: 0.1328 - accuracy: 0.9563 - val_loss: 1.3462 - val_accuracy: 0.7391\n",
            "Epoch 461/500\n",
            "207/207 [==============================] - 10s 48ms/step - loss: 0.1335 - accuracy: 0.9551 - val_loss: 1.1072 - val_accuracy: 0.7923\n",
            "Epoch 462/500\n",
            "207/207 [==============================] - 10s 47ms/step - loss: 0.1380 - accuracy: 0.9527 - val_loss: 1.1749 - val_accuracy: 0.7778\n",
            "Epoch 463/500\n",
            "207/207 [==============================] - 10s 48ms/step - loss: 0.1306 - accuracy: 0.9578 - val_loss: 1.2937 - val_accuracy: 0.7440\n",
            "Epoch 464/500\n",
            "207/207 [==============================] - 10s 48ms/step - loss: 0.1334 - accuracy: 0.9569 - val_loss: 1.2486 - val_accuracy: 0.7923\n",
            "Epoch 465/500\n",
            "207/207 [==============================] - 10s 50ms/step - loss: 0.1203 - accuracy: 0.9592 - val_loss: 1.1660 - val_accuracy: 0.8019\n",
            "Epoch 466/500\n",
            "207/207 [==============================] - 10s 49ms/step - loss: 0.1211 - accuracy: 0.9596 - val_loss: 1.1423 - val_accuracy: 0.8068\n",
            "Epoch 467/500\n",
            "207/207 [==============================] - 10s 48ms/step - loss: 0.1211 - accuracy: 0.9604 - val_loss: 1.3730 - val_accuracy: 0.7729\n",
            "Epoch 468/500\n",
            "207/207 [==============================] - 10s 48ms/step - loss: 0.1342 - accuracy: 0.9578 - val_loss: 1.1997 - val_accuracy: 0.7778\n",
            "Epoch 469/500\n",
            "207/207 [==============================] - 10s 48ms/step - loss: 0.1191 - accuracy: 0.9598 - val_loss: 1.2615 - val_accuracy: 0.7729\n",
            "Epoch 470/500\n",
            "207/207 [==============================] - 10s 48ms/step - loss: 0.1318 - accuracy: 0.9568 - val_loss: 1.1547 - val_accuracy: 0.7874\n",
            "Epoch 471/500\n",
            "207/207 [==============================] - 10s 50ms/step - loss: 0.1395 - accuracy: 0.9518 - val_loss: 1.2305 - val_accuracy: 0.7488\n",
            "Epoch 472/500\n",
            "207/207 [==============================] - 10s 49ms/step - loss: 0.1267 - accuracy: 0.9548 - val_loss: 1.2404 - val_accuracy: 0.7778\n",
            "Epoch 473/500\n",
            "207/207 [==============================] - 10s 48ms/step - loss: 0.1210 - accuracy: 0.9613 - val_loss: 1.1226 - val_accuracy: 0.7923\n",
            "Epoch 474/500\n",
            "207/207 [==============================] - 10s 48ms/step - loss: 0.1219 - accuracy: 0.9596 - val_loss: 1.1276 - val_accuracy: 0.7826\n",
            "Epoch 475/500\n",
            "207/207 [==============================] - 10s 49ms/step - loss: 0.1351 - accuracy: 0.9560 - val_loss: 1.0328 - val_accuracy: 0.8019\n",
            "Epoch 476/500\n",
            "207/207 [==============================] - 11s 54ms/step - loss: 0.1226 - accuracy: 0.9592 - val_loss: 1.1901 - val_accuracy: 0.7874\n",
            "Epoch 477/500\n",
            "207/207 [==============================] - 10s 48ms/step - loss: 0.1317 - accuracy: 0.9599 - val_loss: 1.2586 - val_accuracy: 0.7585\n",
            "Epoch 478/500\n",
            "207/207 [==============================] - 10s 47ms/step - loss: 0.1078 - accuracy: 0.9602 - val_loss: 1.2162 - val_accuracy: 0.7923\n",
            "Epoch 479/500\n",
            "207/207 [==============================] - 10s 48ms/step - loss: 0.1185 - accuracy: 0.9616 - val_loss: 1.0847 - val_accuracy: 0.7826\n",
            "Epoch 480/500\n",
            "207/207 [==============================] - 10s 47ms/step - loss: 0.1215 - accuracy: 0.9595 - val_loss: 1.2400 - val_accuracy: 0.7729\n",
            "Epoch 481/500\n",
            "207/207 [==============================] - 10s 48ms/step - loss: 0.1299 - accuracy: 0.9557 - val_loss: 1.1614 - val_accuracy: 0.7874\n",
            "Epoch 482/500\n",
            "207/207 [==============================] - 10s 49ms/step - loss: 0.1273 - accuracy: 0.9602 - val_loss: 1.0318 - val_accuracy: 0.8116\n",
            "Epoch 483/500\n",
            "207/207 [==============================] - 10s 48ms/step - loss: 0.1183 - accuracy: 0.9583 - val_loss: 1.2507 - val_accuracy: 0.7681\n",
            "Epoch 484/500\n",
            "207/207 [==============================] - 10s 47ms/step - loss: 0.1316 - accuracy: 0.9584 - val_loss: 1.1862 - val_accuracy: 0.7778\n",
            "Epoch 485/500\n",
            "207/207 [==============================] - 10s 48ms/step - loss: 0.1217 - accuracy: 0.9602 - val_loss: 1.1761 - val_accuracy: 0.7778\n",
            "Epoch 486/500\n",
            "207/207 [==============================] - 10s 48ms/step - loss: 0.1249 - accuracy: 0.9616 - val_loss: 1.1863 - val_accuracy: 0.8019\n",
            "Epoch 487/500\n",
            "207/207 [==============================] - 10s 49ms/step - loss: 0.1187 - accuracy: 0.9610 - val_loss: 1.0432 - val_accuracy: 0.8164\n",
            "Epoch 488/500\n",
            "207/207 [==============================] - 10s 48ms/step - loss: 0.1233 - accuracy: 0.9618 - val_loss: 1.3399 - val_accuracy: 0.7536\n",
            "Epoch 489/500\n",
            "207/207 [==============================] - 10s 49ms/step - loss: 0.1213 - accuracy: 0.9589 - val_loss: 1.2614 - val_accuracy: 0.7681\n",
            "Epoch 490/500\n",
            "207/207 [==============================] - 10s 49ms/step - loss: 0.1162 - accuracy: 0.9631 - val_loss: 1.2420 - val_accuracy: 0.7681\n",
            "Epoch 491/500\n",
            "207/207 [==============================] - 10s 48ms/step - loss: 0.1132 - accuracy: 0.9610 - val_loss: 1.2342 - val_accuracy: 0.7681\n",
            "Epoch 492/500\n",
            "207/207 [==============================] - 10s 49ms/step - loss: 0.1089 - accuracy: 0.9631 - val_loss: 1.3420 - val_accuracy: 0.7536\n",
            "Epoch 493/500\n",
            "207/207 [==============================] - 10s 49ms/step - loss: 0.1188 - accuracy: 0.9615 - val_loss: 1.1552 - val_accuracy: 0.7729\n",
            "Epoch 494/500\n",
            "207/207 [==============================] - 10s 48ms/step - loss: 0.1213 - accuracy: 0.9595 - val_loss: 1.1913 - val_accuracy: 0.7778\n",
            "Epoch 495/500\n",
            "207/207 [==============================] - 10s 48ms/step - loss: 0.1229 - accuracy: 0.9590 - val_loss: 1.4179 - val_accuracy: 0.7391\n",
            "Epoch 496/500\n",
            "207/207 [==============================] - 10s 48ms/step - loss: 0.1236 - accuracy: 0.9584 - val_loss: 1.3141 - val_accuracy: 0.7585\n",
            "Epoch 497/500\n",
            "207/207 [==============================] - 10s 48ms/step - loss: 0.1174 - accuracy: 0.9593 - val_loss: 1.3565 - val_accuracy: 0.7391\n",
            "Epoch 498/500\n",
            "207/207 [==============================] - 10s 48ms/step - loss: 0.1206 - accuracy: 0.9609 - val_loss: 1.1733 - val_accuracy: 0.7874\n",
            "Epoch 499/500\n",
            "207/207 [==============================] - 10s 49ms/step - loss: 0.1252 - accuracy: 0.9581 - val_loss: 1.2113 - val_accuracy: 0.7923\n",
            "Epoch 500/500\n",
            "207/207 [==============================] - 10s 48ms/step - loss: 0.1195 - accuracy: 0.9618 - val_loss: 1.5384 - val_accuracy: 0.7488\n"
          ]
        }
      ]
    },
    {
      "cell_type": "code",
      "source": [
        "ava_acc=np.mean(cnnhistory.history['accuracy']) # numpy assumed imported as np\n",
        "print(ava_acc)"
      ],
      "metadata": {
        "colab": {
          "base_uri": "https://localhost:8080/"
        },
        "id": "Fu7omyRcaIN3",
        "outputId": "ed04c917-768b-424f-8df8-b3692a9ebe78"
      },
      "execution_count": null,
      "outputs": [
        {
          "output_type": "stream",
          "name": "stdout",
          "text": [
            "0.8586856096982955\n"
          ]
        }
      ]
    },
    {
      "cell_type": "code",
      "source": [
        "plt.plot(cnnhistory.history['loss'])\n",
        "plt.plot(cnnhistory.history['val_loss'])\n",
        "plt.title('model loss')\n",
        "plt.ylabel('loss')\n",
        "plt.xlabel('epoch')\n",
        "plt.legend(['train', 'valid'], loc='upper left')\n",
        "plt.show()"
      ],
      "metadata": {
        "colab": {
          "base_uri": "https://localhost:8080/",
          "height": 295
        },
        "id": "oQYnuaCrDH_A",
        "outputId": "54bc09a3-bc1e-433a-ff7e-d3743f4c4047"
      },
      "execution_count": null,
      "outputs": [
        {
          "output_type": "display_data",
          "data": {
            "image/png": "[encoded data removed]",
            "text/plain": [
              "<Figure size 432x288 with 1 Axes>"
            ]
          },
          "metadata": {
            "needs_background": "light"
          }
        }
      ]
    },
    {
      "cell_type": "code",
      "source": [
        "plt.plot(cnnhistory.history['accuracy'])\n",
        "plt.plot(cnnhistory.history['val_accuracy'])\n",
        "plt.title('model accuracy')\n",
        "plt.ylabel('accuracy')\n",
        "plt.xlabel('epoch')\n",
        "plt.legend(['train', 'valid'], loc='upper left')\n",
        "plt.show()"
      ],
      "metadata": {
        "colab": {
          "base_uri": "https://localhost:8080/",
          "height": 295
        },
        "id": "IFkTuO8nDNdq",
        "outputId": "15b410f0-be3a-4e62-c767-c70a30456db9"
      },
      "execution_count": null,
      "outputs": [
        {
          "output_type": "display_data",
          "data": {
            "image/png": "[encoded data removed]",
            "text/plain": [
              "<Figure size 432x288 with 1 Axes>"
            ]
          },
          "metadata": {
            "needs_background": "light"
          }
        }
      ]
    },
    {
      "cell_type": "code",
      "source": [
        "#predictions = model.predict_classes(x_testcnn)\n",
        "predictions = model.predict(x_test)"
      ],
      "metadata": {
        "id": "A2xtrN5wDQgY"
      },
      "execution_count": null,
      "outputs": []
    },
    {
      "cell_type": "code",
      "source": [
        "predictions"
      ],
      "metadata": {
        "colab": {
          "base_uri": "https://localhost:8080/"
        },
        "id": "_f_ohjXKDUpY",
        "outputId": "7907e3b8-3b5c-494c-8439-8577db5abfe7"
      },
      "execution_count": null,
      "outputs": [
        {
          "output_type": "execute_result",
          "data": {
            "text/plain": [
              "array([[1.3100973e-06, 1.0057595e-06, 9.5894029e-05, 3.3198942e-06,\n",
              "        8.4364379e-05, 9.9981409e-01],\n",
              "       [2.9535371e-05, 9.9988091e-01, 4.3109951e-05, 4.3663396e-05,\n",
              "        6.1017869e-07, 2.1946637e-06],\n",
              "       [1.4848687e-06, 4.0428389e-05, 9.9994075e-01, 4.0580908e-06,\n",
              "        4.3641635e-06, 8.7942462e-06],\n",
              "       ...,\n",
              "       [3.6443765e-07, 9.0044779e-08, 1.7564313e-05, 1.1927028e-05,\n",
              "        9.9976808e-01, 2.0196119e-04],\n",
              "       [1.3765855e-05, 4.5152126e-07, 1.8068888e-05, 2.9024689e-03,\n",
              "        1.0611363e-06, 9.9706417e-01],\n",
              "       [1.6183486e-04, 5.0076420e-07, 1.0341604e-05, 1.6042070e-06,\n",
              "        9.9981040e-01, 1.5348343e-05]], dtype=float32)"
            ]
          },
          "metadata": {},
          "execution_count": 37
        }
      ]
    },
    {
      "cell_type": "code",
      "source": [
        "emo_test"
      ],
      "metadata": {
        "colab": {
          "base_uri": "https://localhost:8080/"
        },
        "id": "cmA2bFgsDW3D",
        "outputId": "99841a31-3c82-46f5-d57e-2eb392a7a93b"
      },
      "execution_count": null,
      "outputs": [
        {
          "output_type": "execute_result",
          "data": {
            "text/plain": [
              "array([5, 1, 2, 5, 3, 4, 2, 0, 3, 1, 3, 2, 1, 4, 3, 0, 5, 0, 2, 5, 0, 0,\n",
              "       1, 3, 2, 3, 2, 5, 4, 2, 2, 3, 1, 2, 5, 5, 3, 5, 3, 3, 4, 1, 3, 2,\n",
              "       3, 1, 5, 3, 1, 2, 4, 4, 5, 5, 5, 1, 2, 3, 2, 5, 0, 2, 4, 2, 5, 4,\n",
              "       3, 0, 1, 2, 5, 2, 1, 2, 4, 5, 4, 1, 5, 5, 3, 1, 5, 3, 2, 4, 2, 5,\n",
              "       0, 5, 0, 5, 4, 0, 2, 4, 0, 2, 2, 0, 2, 3, 5, 3, 5, 5, 3, 1, 2, 2,\n",
              "       2, 1, 3, 2, 1, 3, 4, 4, 1, 1, 2, 4, 4, 1, 4, 2, 0, 4, 5, 5, 3, 1,\n",
              "       2, 1, 5, 5, 1, 2, 3, 3, 0, 3, 3, 0, 1, 0, 1, 2, 1, 5, 1, 2, 2, 0,\n",
              "       1, 1, 1, 1, 1, 4, 0, 1, 5, 1, 4, 5, 5, 4, 1, 0, 3, 5, 2, 3, 0, 4,\n",
              "       1, 3, 1, 0, 5, 5, 3, 5, 4, 5, 4, 0, 4, 1, 2, 1, 5, 0, 4, 3, 2, 1,\n",
              "       0, 3, 5, 0, 4, 5, 4, 5, 4])"
            ]
          },
          "metadata": {},
          "execution_count": 38
        }
      ]
    },
    {
      "cell_type": "code",
      "source": [
        "new_Ytest = emo_test.astype(int)"
      ],
      "metadata": {
        "id": "0PHDKWJWDY3g"
      },
      "execution_count": null,
      "outputs": []
    },
    {
      "cell_type": "code",
      "source": [
        "new_Ytest"
      ],
      "metadata": {
        "colab": {
          "base_uri": "https://localhost:8080/"
        },
        "id": "k68v2i-pDbZE",
        "outputId": "58cfbfd9-137e-4a95-d35a-18dfd974f092"
      },
      "execution_count": null,
      "outputs": [
        {
          "output_type": "execute_result",
          "data": {
            "text/plain": [
              "array([5, 1, 2, 5, 3, 4, 2, 0, 3, 1, 3, 2, 1, 4, 3, 0, 5, 0, 2, 5, 0, 0,\n",
              "       1, 3, 2, 3, 2, 5, 4, 2, 2, 3, 1, 2, 5, 5, 3, 5, 3, 3, 4, 1, 3, 2,\n",
              "       3, 1, 5, 3, 1, 2, 4, 4, 5, 5, 5, 1, 2, 3, 2, 5, 0, 2, 4, 2, 5, 4,\n",
              "       3, 0, 1, 2, 5, 2, 1, 2, 4, 5, 4, 1, 5, 5, 3, 1, 5, 3, 2, 4, 2, 5,\n",
              "       0, 5, 0, 5, 4, 0, 2, 4, 0, 2, 2, 0, 2, 3, 5, 3, 5, 5, 3, 1, 2, 2,\n",
              "       2, 1, 3, 2, 1, 3, 4, 4, 1, 1, 2, 4, 4, 1, 4, 2, 0, 4, 5, 5, 3, 1,\n",
              "       2, 1, 5, 5, 1, 2, 3, 3, 0, 3, 3, 0, 1, 0, 1, 2, 1, 5, 1, 2, 2, 0,\n",
              "       1, 1, 1, 1, 1, 4, 0, 1, 5, 1, 4, 5, 5, 4, 1, 0, 3, 5, 2, 3, 0, 4,\n",
              "       1, 3, 1, 0, 5, 5, 3, 5, 4, 5, 4, 0, 4, 1, 2, 1, 5, 0, 4, 3, 2, 1,\n",
              "       0, 3, 5, 0, 4, 5, 4, 5, 4])"
            ]
          },
          "metadata": {},
          "execution_count": 40
        }
      ]
    },
    {
      "cell_type": "code",
      "source": [
        "preds1=predictions.argmax(axis=1)"
      ],
      "metadata": {
        "id": "VEw0FiZFMcOQ"
      },
      "execution_count": null,
      "outputs": []
    },
    {
      "cell_type": "code",
      "source": [
        "preds1"
      ],
      "metadata": {
        "colab": {
          "base_uri": "https://localhost:8080/"
        },
        "id": "vvyRw0M0NBOb",
        "outputId": "295b17fe-e255-45b6-8ca4-d02d1c72cceb"
      },
      "execution_count": null,
      "outputs": [
        {
          "output_type": "execute_result",
          "data": {
            "text/plain": [
              "array([5, 1, 2, 5, 3, 4, 2, 0, 3, 0, 3, 2, 2, 4, 3, 0, 5, 4, 2, 5, 5, 2,\n",
              "       1, 3, 2, 5, 2, 5, 4, 4, 2, 5, 0, 2, 5, 5, 0, 5, 3, 2, 5, 1, 2, 5,\n",
              "       3, 1, 5, 3, 1, 4, 4, 4, 4, 5, 3, 1, 2, 3, 2, 5, 0, 2, 4, 2, 5, 4,\n",
              "       2, 4, 1, 2, 5, 2, 1, 5, 4, 2, 4, 1, 5, 5, 3, 1, 5, 3, 2, 4, 4, 5,\n",
              "       5, 5, 0, 5, 4, 0, 5, 4, 3, 4, 2, 4, 2, 2, 5, 3, 5, 5, 5, 5, 2, 2,\n",
              "       2, 1, 3, 2, 1, 4, 4, 4, 1, 5, 2, 4, 4, 1, 4, 4, 5, 4, 5, 5, 5, 1,\n",
              "       2, 1, 5, 4, 1, 4, 3, 3, 0, 3, 5, 0, 1, 0, 1, 2, 1, 5, 1, 2, 4, 0,\n",
              "       1, 1, 1, 1, 2, 4, 0, 1, 5, 1, 4, 5, 5, 4, 1, 0, 2, 5, 2, 3, 1, 4,\n",
              "       1, 3, 1, 0, 5, 5, 3, 5, 4, 5, 3, 4, 4, 0, 2, 3, 2, 0, 4, 3, 2, 1,\n",
              "       5, 4, 5, 0, 4, 5, 4, 5, 4])"
            ]
          },
          "metadata": {},
          "execution_count": 42
        }
      ]
    },
    {
      "cell_type": "code",
      "source": [
        "abc = preds1.astype(int).flatten()"
      ],
      "metadata": {
        "id": "H4WEmM60NfQn"
      },
      "execution_count": null,
      "outputs": []
    },
    {
      "cell_type": "code",
      "source": [
        "from sklearn.metrics import confusion_matrix\n",
        "c = confusion_matrix(new_Ytest, abc) \n",
        "c"
      ],
      "metadata": {
        "colab": {
          "base_uri": "https://localhost:8080/"
        },
        "id": "bKEBeEBlFjB8",
        "outputId": "218f7978-4407-494d-a8e7-54f004ff24bb"
      },
      "execution_count": null,
      "outputs": [
        {
          "output_type": "execute_result",
          "data": {
            "text/plain": [
              "array([[14,  1,  1,  1,  4,  4],\n",
              "       [ 3, 31,  2,  1,  0,  2],\n",
              "       [ 0,  0, 28,  0,  7,  3],\n",
              "       [ 1,  0,  5, 20,  2,  5],\n",
              "       [ 0,  0,  0,  1, 28,  1],\n",
              "       [ 0,  0,  2,  1,  2, 37]])"
            ]
          },
          "metadata": {},
          "execution_count": 44
        }
      ]
    },
    {
      "cell_type": "code",
      "source": [
        "emo_test"
      ],
      "metadata": {
        "colab": {
          "base_uri": "https://localhost:8080/"
        },
        "id": "m4RjG7LWLSQx",
        "outputId": "3d139fd6-c0c0-440e-cff3-602eeedbd373"
      },
      "execution_count": null,
      "outputs": [
        {
          "output_type": "execute_result",
          "data": {
            "text/plain": [
              "array([5, 1, 2, 5, 3, 4, 2, 0, 3, 1, 3, 2, 1, 4, 3, 0, 5, 0, 2, 5, 0, 0,\n",
              "       1, 3, 2, 3, 2, 5, 4, 2, 2, 3, 1, 2, 5, 5, 3, 5, 3, 3, 4, 1, 3, 2,\n",
              "       3, 1, 5, 3, 1, 2, 4, 4, 5, 5, 5, 1, 2, 3, 2, 5, 0, 2, 4, 2, 5, 4,\n",
              "       3, 0, 1, 2, 5, 2, 1, 2, 4, 5, 4, 1, 5, 5, 3, 1, 5, 3, 2, 4, 2, 5,\n",
              "       0, 5, 0, 5, 4, 0, 2, 4, 0, 2, 2, 0, 2, 3, 5, 3, 5, 5, 3, 1, 2, 2,\n",
              "       2, 1, 3, 2, 1, 3, 4, 4, 1, 1, 2, 4, 4, 1, 4, 2, 0, 4, 5, 5, 3, 1,\n",
              "       2, 1, 5, 5, 1, 2, 3, 3, 0, 3, 3, 0, 1, 0, 1, 2, 1, 5, 1, 2, 2, 0,\n",
              "       1, 1, 1, 1, 1, 4, 0, 1, 5, 1, 4, 5, 5, 4, 1, 0, 3, 5, 2, 3, 0, 4,\n",
              "       1, 3, 1, 0, 5, 5, 3, 5, 4, 5, 4, 0, 4, 1, 2, 1, 5, 0, 4, 3, 2, 1,\n",
              "       0, 3, 5, 0, 4, 5, 4, 5, 4])"
            ]
          },
          "metadata": {},
          "execution_count": 45
        }
      ]
    },
    {
      "cell_type": "code",
      "source": [
        "model.save('/content/drive/My Drive/graduation project/audio/improvement1/model/augmanted&transformer_radvass_1')\n",
        "print(\"MODEL SAVED\")"
      ],
      "metadata": {
        "colab": {
          "base_uri": "https://localhost:8080/"
        },
        "id": "lsJBNeMWDl6Z",
        "outputId": "0ca6363e-9509-4418-a8ff-6daf5733705f"
      },
      "execution_count": null,
      "outputs": [
        {
          "output_type": "stream",
          "name": "stderr",
          "text": [
            "WARNING:absl:Found untraced functions such as multi_head_attention_4_layer_call_fn, multi_head_attention_4_layer_call_and_return_conditional_losses, layer_normalization_8_layer_call_fn, layer_normalization_8_layer_call_and_return_conditional_losses, layer_normalization_9_layer_call_fn while saving (showing 5 of 22). These functions will not be directly callable after loading.\n"
          ]
        },
        {
          "output_type": "stream",
          "name": "stdout",
          "text": [
            "INFO:tensorflow:Assets written to: /content/drive/My Drive/graduation project/audio/improvement1/model/augmanted&transformer_radvass_1/assets\n"
          ]
        },
        {
          "output_type": "stream",
          "name": "stderr",
          "text": [
            "INFO:tensorflow:Assets written to: /content/drive/My Drive/graduation project/audio/improvement1/model/augmanted&transformer_radvass_1/assets\n"
          ]
        },
        {
          "output_type": "stream",
          "name": "stdout",
          "text": [
            "MODEL SAVED\n"
          ]
        }
      ]
    },
    {
      "cell_type": "code",
      "source": [
        "new_model=keras.models.load_model('/content/drive/My Drive/graduation project/audio/improvement1/model/augmanted&transformer_radvass_1')\n",
        "new_model.summary()"
      ],
      "metadata": {
        "colab": {
          "base_uri": "https://localhost:8080/"
        },
        "id": "Q3KjaO9GDoNl",
        "outputId": "031b3539-96fe-40d7-ba94-12236ed63348"
      },
      "execution_count": null,
      "outputs": [
        {
          "output_type": "stream",
          "name": "stdout",
          "text": [
            "Model: \"sequential_8\"\n",
            "_________________________________________________________________\n",
            " Layer (type)                Output Shape              Param #   \n",
            "=================================================================\n",
            " conv1d_12 (Conv1D)          (None, 40, 64)            384       \n",
            "                                                                 \n",
            " activation_14 (Activation)  (None, 40, 64)            0         \n",
            "                                                                 \n",
            " dropout_21 (Dropout)        (None, 40, 64)            0         \n",
            "                                                                 \n",
            " max_pooling1d_8 (MaxPooling  (None, 10, 64)           0         \n",
            " 1D)                                                             \n",
            "                                                                 \n",
            " conv1d_13 (Conv1D)          (None, 10, 128)           41088     \n",
            "                                                                 \n",
            " activation_15 (Activation)  (None, 10, 128)           0         \n",
            "                                                                 \n",
            " dropout_22 (Dropout)        (None, 10, 128)           0         \n",
            "                                                                 \n",
            " max_pooling1d_9 (MaxPooling  (None, 2, 128)           0         \n",
            " 1D)                                                             \n",
            "                                                                 \n",
            " conv1d_14 (Conv1D)          (None, 2, 256)            164096    \n",
            "                                                                 \n",
            " activation_16 (Activation)  (None, 2, 256)            0         \n",
            "                                                                 \n",
            " dropout_23 (Dropout)        (None, 2, 256)            0         \n",
            "                                                                 \n",
            " transformer_block_4 (Transf  (None, 2, 256)           1315840   \n",
            " ormerBlock)                                                     \n",
            "                                                                 \n",
            " dropout_26 (Dropout)        (None, 2, 256)            0         \n",
            "                                                                 \n",
            " flatten_2 (Flatten)         (None, 512)               0         \n",
            "                                                                 \n",
            " dense_12 (Dense)            (None, 6)                 3078      \n",
            "                                                                 \n",
            " activation_17 (Activation)  (None, 6)                 0         \n",
            "                                                                 \n",
            "=================================================================\n",
            "Total params: 1,524,486\n",
            "Trainable params: 1,524,486\n",
            "Non-trainable params: 0\n",
            "_________________________________________________________________\n"
          ]
        }
      ]
    },
    {
      "cell_type": "code",
      "source": [
        "loss, acc = new_model.evaluate(x_test, emo_test)\n",
        "print(\"Restored model, accuracy: {:5.2f}%\".format(100*acc))"
      ],
      "metadata": {
        "colab": {
          "base_uri": "https://localhost:8080/"
        },
        "id": "n3kzoqPkDqqS",
        "outputId": "c8ef47e3-5e30-4607-e1a6-8e01611a10fd"
      },
      "execution_count": null,
      "outputs": [
        {
          "output_type": "stream",
          "name": "stdout",
          "text": [
            "7/7 [==============================] - 0s 10ms/step - loss: 1.3349 - accuracy: 0.7633\n",
            "Restored model, accuracy: 76.33%\n"
          ]
        }
      ]
    },
    {
      "cell_type": "code",
      "source": [
        "loss, acc = new_model.evaluate(x_train, y_train)\n",
        "print(\"Restored model, accuracy: {:5.2f}%\".format(100*acc))"
      ],
      "metadata": {
        "colab": {
          "base_uri": "https://localhost:8080/"
        },
        "id": "EHkbpLB-C3th",
        "outputId": "beacc3c9-7bd6-4a9a-9f2f-1da4fb127e19"
      },
      "execution_count": null,
      "outputs": [
        {
          "output_type": "stream",
          "name": "stdout",
          "text": [
            "207/207 [==============================] - 2s 11ms/step - loss: 0.1264 - accuracy: 0.9601\n",
            "Restored model, accuracy: 96.01%\n"
          ]
        }
      ]
    },
    {
      "cell_type": "code",
      "source": [
        "from sklearn.metrics import classification_report, confusion_matrix,accuracy_score\n",
        "import seaborn as sn\n",
        "\n",
        "print(classification_report(emo_test,abc))\n",
        "\n",
        "acc = float(accuracy_score(emo_test,abc))*100\n",
        "print(\"----accuracy score %s ----\" % acc)\n",
        "\n",
        "cm = confusion_matrix(emo_test,abc)\n",
        "#df_cm = pd.DataFrame(cm)\n",
        "class_names = ['neutral','calm', 'happy','sad','angry', 'fearful' ]\n",
        "df_cm = pd.DataFrame(cm, index=class_names, columns=class_names,)\n",
        "sn.heatmap(df_cm, annot=True, fmt='')\n",
        "plt.show()"
      ],
      "metadata": {
        "id": "Yx8ogGOnNneV",
        "colab": {
          "base_uri": "https://localhost:8080/",
          "height": 508
        },
        "outputId": "283d6074-b571-4b6b-ddad-75b5f43ead5b"
      },
      "execution_count": null,
      "outputs": [
        {
          "output_type": "stream",
          "name": "stdout",
          "text": [
            "              precision    recall  f1-score   support\n",
            "\n",
            "           0       0.78      0.56      0.65        25\n",
            "           1       0.97      0.79      0.87        39\n",
            "           2       0.74      0.74      0.74        38\n",
            "           3       0.83      0.61      0.70        33\n",
            "           4       0.65      0.93      0.77        30\n",
            "           5       0.71      0.88      0.79        42\n",
            "\n",
            "    accuracy                           0.76       207\n",
            "   macro avg       0.78      0.75      0.75       207\n",
            "weighted avg       0.78      0.76      0.76       207\n",
            "\n",
            "----accuracy score 76.32850241545893 ----\n"
          ]
        },
        {
          "output_type": "display_data",
          "data": {
            "image/png": "[encoded data removed]",
            "text/plain": [
              "<Figure size 432x288 with 2 Axes>"
            ]
          },
          "metadata": {
            "needs_background": "light"
          }
        }
      ]
    },
    {
      "cell_type": "code",
      "source": [
        ""
      ],
      "metadata": {
        "id": "fJDTGH_OUX0z"
      },
      "execution_count": null,
      "outputs": []
    }
  ]
}