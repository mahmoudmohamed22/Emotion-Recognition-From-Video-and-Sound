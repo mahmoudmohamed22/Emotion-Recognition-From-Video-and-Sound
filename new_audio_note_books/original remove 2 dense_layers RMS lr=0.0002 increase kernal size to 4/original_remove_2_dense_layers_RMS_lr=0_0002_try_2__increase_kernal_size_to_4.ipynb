{
  "nbformat": 4,
  "nbformat_minor": 0,
  "metadata": {
    "colab": {
      "name": "original_remove_2_dense_layers_RMS_lr=0_0002_try_2_ increase kernal size to 4.ipynb",
      "provenance": [],
      "collapsed_sections": []
    },
    "kernelspec": {
      "name": "python3",
      "display_name": "Python 3"
    },
    "language_info": {
      "name": "python"
    },
    "accelerator": "TPU"
  },
  "cells": [
    {
      "cell_type": "code",
      "execution_count": 1,
      "metadata": {
        "colab": {
          "base_uri": "https://localhost:8080/"
        },
        "id": "9SRCO-a_AlH5",
        "outputId": "32a88744-54ce-4dca-8614-8464abb19ba0"
      },
      "outputs": [
        {
          "output_type": "stream",
          "name": "stdout",
          "text": [
            "Drive already mounted at /content/drive; to attempt to forcibly remount, call drive.mount(\"/content/drive\", force_remount=True).\n"
          ]
        }
      ],
      "source": [
        "from google.colab import drive\n",
        "drive.mount('/content/drive')"
      ]
    },
    {
      "cell_type": "code",
      "source": [
        "!pip install librosa"
      ],
      "metadata": {
        "colab": {
          "base_uri": "https://localhost:8080/"
        },
        "id": "5Lo4mUwG9RMd",
        "outputId": "05594884-357a-4aad-a15c-0c3d7c877ffc"
      },
      "execution_count": 2,
      "outputs": [
        {
          "output_type": "stream",
          "name": "stdout",
          "text": [
            "Looking in indexes: https://pypi.org/simple, https://us-python.pkg.dev/colab-wheels/public/simple/\n",
            "Requirement already satisfied: librosa in /usr/local/lib/python3.7/dist-packages (0.8.1)\n",
            "Requirement already satisfied: soundfile>=0.10.2 in /usr/local/lib/python3.7/dist-packages (from librosa) (0.10.3.post1)\n",
            "Requirement already satisfied: numpy>=1.15.0 in /usr/local/lib/python3.7/dist-packages (from librosa) (1.21.6)\n",
            "Requirement already satisfied: scipy>=1.0.0 in /usr/local/lib/python3.7/dist-packages (from librosa) (1.4.1)\n",
            "Requirement already satisfied: decorator>=3.0.0 in /usr/local/lib/python3.7/dist-packages (from librosa) (4.4.2)\n",
            "Requirement already satisfied: packaging>=20.0 in /usr/local/lib/python3.7/dist-packages (from librosa) (21.3)\n",
            "Requirement already satisfied: numba>=0.43.0 in /usr/local/lib/python3.7/dist-packages (from librosa) (0.51.2)\n",
            "Requirement already satisfied: audioread>=2.0.0 in /usr/local/lib/python3.7/dist-packages (from librosa) (2.1.9)\n",
            "Requirement already satisfied: resampy>=0.2.2 in /usr/local/lib/python3.7/dist-packages (from librosa) (0.2.2)\n",
            "Requirement already satisfied: scikit-learn!=0.19.0,>=0.14.0 in /usr/local/lib/python3.7/dist-packages (from librosa) (1.0.2)\n",
            "Requirement already satisfied: joblib>=0.14 in /usr/local/lib/python3.7/dist-packages (from librosa) (1.1.0)\n",
            "Requirement already satisfied: pooch>=1.0 in /usr/local/lib/python3.7/dist-packages (from librosa) (1.6.0)\n",
            "Requirement already satisfied: llvmlite<0.35,>=0.34.0.dev0 in /usr/local/lib/python3.7/dist-packages (from numba>=0.43.0->librosa) (0.34.0)\n",
            "Requirement already satisfied: setuptools in /usr/local/lib/python3.7/dist-packages (from numba>=0.43.0->librosa) (57.4.0)\n",
            "Requirement already satisfied: pyparsing!=3.0.5,>=2.0.2 in /usr/local/lib/python3.7/dist-packages (from packaging>=20.0->librosa) (3.0.9)\n",
            "Requirement already satisfied: appdirs>=1.3.0 in /usr/local/lib/python3.7/dist-packages (from pooch>=1.0->librosa) (1.4.4)\n",
            "Requirement already satisfied: requests>=2.19.0 in /usr/local/lib/python3.7/dist-packages (from pooch>=1.0->librosa) (2.23.0)\n",
            "Requirement already satisfied: urllib3!=1.25.0,!=1.25.1,<1.26,>=1.21.1 in /usr/local/lib/python3.7/dist-packages (from requests>=2.19.0->pooch>=1.0->librosa) (1.24.3)\n",
            "Requirement already satisfied: chardet<4,>=3.0.2 in /usr/local/lib/python3.7/dist-packages (from requests>=2.19.0->pooch>=1.0->librosa) (3.0.4)\n",
            "Requirement already satisfied: idna<3,>=2.5 in /usr/local/lib/python3.7/dist-packages (from requests>=2.19.0->pooch>=1.0->librosa) (2.10)\n",
            "Requirement already satisfied: certifi>=2017.4.17 in /usr/local/lib/python3.7/dist-packages (from requests>=2.19.0->pooch>=1.0->librosa) (2022.5.18.1)\n",
            "Requirement already satisfied: six>=1.3 in /usr/local/lib/python3.7/dist-packages (from resampy>=0.2.2->librosa) (1.15.0)\n",
            "Requirement already satisfied: threadpoolctl>=2.0.0 in /usr/local/lib/python3.7/dist-packages (from scikit-learn!=0.19.0,>=0.14.0->librosa) (3.1.0)\n",
            "Requirement already satisfied: cffi>=1.0 in /usr/local/lib/python3.7/dist-packages (from soundfile>=0.10.2->librosa) (1.15.0)\n",
            "Requirement already satisfied: pycparser in /usr/local/lib/python3.7/dist-packages (from cffi>=1.0->soundfile>=0.10.2->librosa) (2.21)\n"
          ]
        }
      ]
    },
    {
      "cell_type": "code",
      "metadata": {
        "id": "HJjcbxwy46bG",
        "colab": {
          "base_uri": "https://localhost:8080/",
          "height": 17
        },
        "outputId": "33e98ee4-adf3-4d32-b024-d7cc347624ec"
      },
      "source": [
        "# Orignial Notebook: https://github.com/MITESHPUTHRANNEU/Speech-Emotion-Analyzer/blob/master/final_results_gender_test.ipynb\n",
        "# This notebook author: Reza Chu\n",
        "# Last Editing Date: 31st May 2019\n",
        "\n",
        "## Python\n",
        "import os\n",
        "import random\n",
        "import sys\n",
        "\n",
        "import IPython\n",
        "from IPython.display import Audio\n",
        "from IPython.display import Image\n",
        "import matplotlib.pyplot as plt\n",
        "\n",
        "## Package\n",
        "import glob \n",
        "import keras\n",
        "import IPython.display as ipd\n",
        "import librosa\n",
        "import librosa.display\n",
        "import matplotlib.pyplot as plt\n",
        "import numpy as np\n",
        "import pandas as pd\n",
        "import plotly.graph_objs as go\n",
        "import plotly.offline as py\n",
        "import plotly.tools as tls\n",
        "import seaborn as sns\n",
        "import scipy.io.wavfile\n",
        "import tensorflow as tf\n",
        "py.init_notebook_mode(connected=True)\n",
        "\n",
        "## Keras\n",
        "from keras import regularizers\n",
        "from keras.callbacks import ModelCheckpoint, LearningRateScheduler, EarlyStopping\n",
        "from keras.callbacks import  History, ReduceLROnPlateau, CSVLogger\n",
        "from keras.models import Model, Sequential\n",
        "from keras.layers import Dense, Embedding, LSTM\n",
        "from keras.layers import Input, Flatten, Dropout, Activation, BatchNormalization\n",
        "from keras.layers import Conv1D, MaxPooling1D, AveragePooling1D\n",
        "from keras.preprocessing import sequence\n",
        "from keras.preprocessing.sequence import pad_sequences\n",
        "from keras.preprocessing.text import Tokenizer\n",
        "from keras.utils import np_utils\n",
        "from tensorflow.keras.utils import to_categorical\n",
        "\n",
        "## Sklearn\n",
        "from sklearn.metrics import confusion_matrix\n",
        "from sklearn.preprocessing import LabelEncoder\n",
        "\n",
        "## Rest\n",
        "from scipy.fftpack import fft\n",
        "from scipy import signal\n",
        "from scipy.io import wavfile\n",
        "from tqdm import tqdm\n",
        "\n",
        "input_duration=3\n",
        "# % pylab inline"
      ],
      "execution_count": 3,
      "outputs": [
        {
          "output_type": "display_data",
          "data": {
            "text/html": [
              "        <script type=\"text/javascript\">\n",
              "        window.PlotlyConfig = {MathJaxConfig: 'local'};\n",
              "        if (window.MathJax) {MathJax.Hub.Config({SVG: {font: \"STIX-Web\"}});}\n",
              "        if (typeof require !== 'undefined') {\n",
              "        require.undef(\"plotly\");\n",
              "        requirejs.config({\n",
              "            paths: {\n",
              "                'plotly': ['https://cdn.plot.ly/plotly-2.8.3.min']\n",
              "            }\n",
              "        });\n",
              "        require(['plotly'], function(Plotly) {\n",
              "            window._Plotly = Plotly;\n",
              "        });\n",
              "        }\n",
              "        </script>\n",
              "        "
            ]
          },
          "metadata": {}
        }
      ]
    },
    {
      "cell_type": "code",
      "source": [
        "# # Saving joblib files to not load them again with the loop above\n",
        "\n",
        "# import joblib\n",
        "\n",
        "# X_name = 'x.joblib'\n",
        "# y_name = 'y.joblib'\n",
        "# save_dir = '/content/drive/My Drive/graduation project/audio/paper_code/features'\n",
        "\n",
        "# savedX = joblib.dump(X, os.path.join(save_dir, X_name))\n",
        "# savedy = joblib.dump(y, os.path.join(save_dir, y_name))"
      ],
      "metadata": {
        "id": "UCzic8rlDcuk"
      },
      "execution_count": 4,
      "outputs": []
    },
    {
      "cell_type": "code",
      "source": [
        "# # Loading saved models\n",
        "import joblib\n",
        "X = joblib.load('/content/drive/My Drive/graduation project/audio/paper_code/features/x.joblib')\n",
        "y = joblib.load('/content/drive/My Drive/graduation project/audio/paper_code/features/y.joblib')"
      ],
      "metadata": {
        "id": "Q35CN6zDrzg1"
      },
      "execution_count": 5,
      "outputs": []
    },
    {
      "cell_type": "code",
      "source": [
        "X.shape"
      ],
      "metadata": {
        "id": "7PSTurzjCo5K",
        "colab": {
          "base_uri": "https://localhost:8080/"
        },
        "outputId": "76eb5024-537e-46da-f2f2-012f29b7a7ac"
      },
      "execution_count": 6,
      "outputs": [
        {
          "output_type": "execute_result",
          "data": {
            "text/plain": [
              "(2068, 40)"
            ]
          },
          "metadata": {},
          "execution_count": 6
        }
      ]
    },
    {
      "cell_type": "code",
      "source": [
        "from sklearn.model_selection import train_test_split\n",
        "\n",
        "X_train, X_test, y_train, y_test = train_test_split(X,y, test_size=0.1 ,shuffle = True\n",
        "                                                    , random_state=42)\n",
        "X_train , X_valid, y_train, y_valid = train_test_split(X_train,y_train, test_size=0.1112305212 , shuffle = True \n",
        "                                                       , random_state=42)"
      ],
      "metadata": {
        "id": "Ai4Fy5cPCiq1"
      },
      "execution_count": 7,
      "outputs": []
    },
    {
      "cell_type": "code",
      "source": [
        "import numpy as np\n",
        "x_traincnn = np.expand_dims(X_train, axis=2)\n",
        "x_testcnn = np.expand_dims(X_test, axis=2)\n",
        "X_valid= np.expand_dims(X_valid, axis=2)"
      ],
      "metadata": {
        "id": "tp1Fm5K3CEXu"
      },
      "execution_count": 8,
      "outputs": []
    },
    {
      "cell_type": "code",
      "source": [
        "x_traincnn.shape, x_testcnn.shape , X_valid.shape\n",
        "#1861"
      ],
      "metadata": {
        "id": "RI0MxoIPBws5",
        "colab": {
          "base_uri": "https://localhost:8080/"
        },
        "outputId": "7a508bac-b69e-4ca3-a053-f0f3a08f081a"
      },
      "execution_count": 9,
      "outputs": [
        {
          "output_type": "execute_result",
          "data": {
            "text/plain": [
              "((1654, 40, 1), (207, 40, 1), (207, 40, 1))"
            ]
          },
          "metadata": {},
          "execution_count": 9
        }
      ]
    },
    {
      "cell_type": "code",
      "source": [
        "!pip install tensorflow"
      ],
      "metadata": {
        "id": "oALhiMUd9G2Y",
        "colab": {
          "base_uri": "https://localhost:8080/"
        },
        "outputId": "bd8e4567-0cb9-41d0-9c23-56ff06cf6520"
      },
      "execution_count": 10,
      "outputs": [
        {
          "output_type": "stream",
          "name": "stdout",
          "text": [
            "Looking in indexes: https://pypi.org/simple, https://us-python.pkg.dev/colab-wheels/public/simple/\n",
            "Requirement already satisfied: tensorflow in /usr/local/lib/python3.7/dist-packages (2.8.2+zzzcolab20220527125636)\n",
            "Requirement already satisfied: tensorflow-io-gcs-filesystem>=0.23.1 in /usr/local/lib/python3.7/dist-packages (from tensorflow) (0.26.0)\n",
            "Requirement already satisfied: tensorflow-estimator<2.9,>=2.8 in /usr/local/lib/python3.7/dist-packages (from tensorflow) (2.8.0)\n",
            "Requirement already satisfied: flatbuffers>=1.12 in /usr/local/lib/python3.7/dist-packages (from tensorflow) (2.0)\n",
            "Requirement already satisfied: six>=1.12.0 in /usr/local/lib/python3.7/dist-packages (from tensorflow) (1.15.0)\n",
            "Requirement already satisfied: gast>=0.2.1 in /usr/local/lib/python3.7/dist-packages (from tensorflow) (0.5.3)\n",
            "Requirement already satisfied: keras<2.9,>=2.8.0rc0 in /usr/local/lib/python3.7/dist-packages (from tensorflow) (2.8.0)\n",
            "Requirement already satisfied: protobuf<3.20,>=3.9.2 in /usr/local/lib/python3.7/dist-packages (from tensorflow) (3.17.3)\n",
            "Requirement already satisfied: astunparse>=1.6.0 in /usr/local/lib/python3.7/dist-packages (from tensorflow) (1.6.3)\n",
            "Requirement already satisfied: grpcio<2.0,>=1.24.3 in /usr/local/lib/python3.7/dist-packages (from tensorflow) (1.46.3)\n",
            "Requirement already satisfied: h5py>=2.9.0 in /usr/local/lib/python3.7/dist-packages (from tensorflow) (3.1.0)\n",
            "Requirement already satisfied: termcolor>=1.1.0 in /usr/local/lib/python3.7/dist-packages (from tensorflow) (1.1.0)\n",
            "Requirement already satisfied: libclang>=9.0.1 in /usr/local/lib/python3.7/dist-packages (from tensorflow) (14.0.1)\n",
            "Requirement already satisfied: numpy>=1.20 in /usr/local/lib/python3.7/dist-packages (from tensorflow) (1.21.6)\n",
            "Requirement already satisfied: opt-einsum>=2.3.2 in /usr/local/lib/python3.7/dist-packages (from tensorflow) (3.3.0)\n",
            "Requirement already satisfied: typing-extensions>=3.6.6 in /usr/local/lib/python3.7/dist-packages (from tensorflow) (4.2.0)\n",
            "Requirement already satisfied: tensorboard<2.9,>=2.8 in /usr/local/lib/python3.7/dist-packages (from tensorflow) (2.8.0)\n",
            "Requirement already satisfied: setuptools in /usr/local/lib/python3.7/dist-packages (from tensorflow) (57.4.0)\n",
            "Requirement already satisfied: absl-py>=0.4.0 in /usr/local/lib/python3.7/dist-packages (from tensorflow) (1.0.0)\n",
            "Requirement already satisfied: keras-preprocessing>=1.1.1 in /usr/local/lib/python3.7/dist-packages (from tensorflow) (1.1.2)\n",
            "Requirement already satisfied: google-pasta>=0.1.1 in /usr/local/lib/python3.7/dist-packages (from tensorflow) (0.2.0)\n",
            "Requirement already satisfied: wrapt>=1.11.0 in /usr/local/lib/python3.7/dist-packages (from tensorflow) (1.14.1)\n",
            "Requirement already satisfied: wheel<1.0,>=0.23.0 in /usr/local/lib/python3.7/dist-packages (from astunparse>=1.6.0->tensorflow) (0.37.1)\n",
            "Requirement already satisfied: cached-property in /usr/local/lib/python3.7/dist-packages (from h5py>=2.9.0->tensorflow) (1.5.2)\n",
            "Requirement already satisfied: werkzeug>=0.11.15 in /usr/local/lib/python3.7/dist-packages (from tensorboard<2.9,>=2.8->tensorflow) (1.0.1)\n",
            "Requirement already satisfied: requests<3,>=2.21.0 in /usr/local/lib/python3.7/dist-packages (from tensorboard<2.9,>=2.8->tensorflow) (2.23.0)\n",
            "Requirement already satisfied: google-auth-oauthlib<0.5,>=0.4.1 in /usr/local/lib/python3.7/dist-packages (from tensorboard<2.9,>=2.8->tensorflow) (0.4.6)\n",
            "Requirement already satisfied: google-auth<3,>=1.6.3 in /usr/local/lib/python3.7/dist-packages (from tensorboard<2.9,>=2.8->tensorflow) (1.35.0)\n",
            "Requirement already satisfied: markdown>=2.6.8 in /usr/local/lib/python3.7/dist-packages (from tensorboard<2.9,>=2.8->tensorflow) (3.3.7)\n",
            "Requirement already satisfied: tensorboard-data-server<0.7.0,>=0.6.0 in /usr/local/lib/python3.7/dist-packages (from tensorboard<2.9,>=2.8->tensorflow) (0.6.1)\n",
            "Requirement already satisfied: tensorboard-plugin-wit>=1.6.0 in /usr/local/lib/python3.7/dist-packages (from tensorboard<2.9,>=2.8->tensorflow) (1.8.1)\n",
            "Requirement already satisfied: cachetools<5.0,>=2.0.0 in /usr/local/lib/python3.7/dist-packages (from google-auth<3,>=1.6.3->tensorboard<2.9,>=2.8->tensorflow) (4.2.4)\n",
            "Requirement already satisfied: pyasn1-modules>=0.2.1 in /usr/local/lib/python3.7/dist-packages (from google-auth<3,>=1.6.3->tensorboard<2.9,>=2.8->tensorflow) (0.2.8)\n",
            "Requirement already satisfied: rsa<5,>=3.1.4 in /usr/local/lib/python3.7/dist-packages (from google-auth<3,>=1.6.3->tensorboard<2.9,>=2.8->tensorflow) (4.8)\n",
            "Requirement already satisfied: requests-oauthlib>=0.7.0 in /usr/local/lib/python3.7/dist-packages (from google-auth-oauthlib<0.5,>=0.4.1->tensorboard<2.9,>=2.8->tensorflow) (1.3.1)\n",
            "Requirement already satisfied: importlib-metadata>=4.4 in /usr/local/lib/python3.7/dist-packages (from markdown>=2.6.8->tensorboard<2.9,>=2.8->tensorflow) (4.11.4)\n",
            "Requirement already satisfied: zipp>=0.5 in /usr/local/lib/python3.7/dist-packages (from importlib-metadata>=4.4->markdown>=2.6.8->tensorboard<2.9,>=2.8->tensorflow) (3.8.0)\n",
            "Requirement already satisfied: pyasn1<0.5.0,>=0.4.6 in /usr/local/lib/python3.7/dist-packages (from pyasn1-modules>=0.2.1->google-auth<3,>=1.6.3->tensorboard<2.9,>=2.8->tensorflow) (0.4.8)\n",
            "Requirement already satisfied: idna<3,>=2.5 in /usr/local/lib/python3.7/dist-packages (from requests<3,>=2.21.0->tensorboard<2.9,>=2.8->tensorflow) (2.10)\n",
            "Requirement already satisfied: certifi>=2017.4.17 in /usr/local/lib/python3.7/dist-packages (from requests<3,>=2.21.0->tensorboard<2.9,>=2.8->tensorflow) (2022.5.18.1)\n",
            "Requirement already satisfied: chardet<4,>=3.0.2 in /usr/local/lib/python3.7/dist-packages (from requests<3,>=2.21.0->tensorboard<2.9,>=2.8->tensorflow) (3.0.4)\n",
            "Requirement already satisfied: urllib3!=1.25.0,!=1.25.1,<1.26,>=1.21.1 in /usr/local/lib/python3.7/dist-packages (from requests<3,>=2.21.0->tensorboard<2.9,>=2.8->tensorflow) (1.24.3)\n",
            "Requirement already satisfied: oauthlib>=3.0.0 in /usr/local/lib/python3.7/dist-packages (from requests-oauthlib>=0.7.0->google-auth-oauthlib<0.5,>=0.4.1->tensorboard<2.9,>=2.8->tensorflow) (3.2.0)\n"
          ]
        }
      ]
    },
    {
      "cell_type": "code",
      "source": [
        "import keras\n",
        "import numpy as np\n",
        "import matplotlib.pyplot as plt\n",
        "import tensorflow as tf\n",
        "from keras.preprocessing import sequence\n",
        "from keras.models import Sequential\n",
        "from keras.layers import Dense, Embedding\n",
        "from tensorflow.keras.utils import to_categorical\n",
        "from keras.layers import Input, Flatten, Dropout, Activation\n",
        "from keras.layers import Conv1D, MaxPooling1D\n",
        "from keras.models import Model\n",
        "from keras.callbacks import ModelCheckpoint\n",
        "from tensorflow.keras import optimizers\n",
        "\n",
        "model = Sequential()\n",
        "\n",
        "model.add(Conv1D(128, 4,padding='same', #classifier.add(Convolution2D(64, (3, 3), padding = 'same', input_shape = (128, 128, 3), activation = 'relu'))\n",
        "                 input_shape=(40,1)))\n",
        "model.add(Activation('relu'))\n",
        "model.add(Dropout(0.3))\n",
        "model.add(MaxPooling1D(pool_size=(5)))\n",
        "\n",
        "\n",
        "model.add(Conv1D(256,4,padding='same',))\n",
        "model.add(Activation('relu'))\n",
        "model.add(Dropout(0.3))\n",
        "model.add(MaxPooling1D(pool_size=(5)))\n",
        "\n",
        "#model.add(MaxPooling1D(pool_size=(5)))\n",
        "\n",
        "model.add(Flatten())\n",
        "\n",
        "\n",
        "\n",
        "model.add(Dense(6))\n",
        "model.add(Activation('softmax'))\n",
        "\n",
        "\n",
        "opt = tf.keras.optimizers.RMSprop(lr=0.0002 , decay=0.0)\n",
        "#opt = tf.keras.optimizers.Adam(lr=0.0002 , decay=0.0)\n",
        "#opt = tf.keras.optimizers.RMSprop(lr=0.0001, rho=0.9, epsilon=1e-07, decay=0.0)\n",
        "#opt = tf.keras.optimizers.SGD(lr=0.001, momentum=0.0, decay=0.0, nesterov=False)"
      ],
      "metadata": {
        "id": "g74fXWVAC4Cr",
        "colab": {
          "base_uri": "https://localhost:8080/"
        },
        "outputId": "21257053-1e0c-4d1c-cd67-23cc3d94beb6"
      },
      "execution_count": 11,
      "outputs": [
        {
          "output_type": "stream",
          "name": "stderr",
          "text": [
            "/usr/local/lib/python3.7/dist-packages/keras/optimizer_v2/rmsprop.py:130: UserWarning:\n",
            "\n",
            "The `lr` argument is deprecated, use `learning_rate` instead.\n",
            "\n"
          ]
        }
      ]
    },
    {
      "cell_type": "code",
      "source": [
        "model.summary()"
      ],
      "metadata": {
        "id": "H6ukOxAGC_I4",
        "colab": {
          "base_uri": "https://localhost:8080/"
        },
        "outputId": "a80f5a3b-e781-474e-a3c0-ff1fb2773d98"
      },
      "execution_count": 12,
      "outputs": [
        {
          "output_type": "stream",
          "name": "stdout",
          "text": [
            "Model: \"sequential\"\n",
            "_________________________________________________________________\n",
            " Layer (type)                Output Shape              Param #   \n",
            "=================================================================\n",
            " conv1d (Conv1D)             (None, 40, 128)           640       \n",
            "                                                                 \n",
            " activation (Activation)     (None, 40, 128)           0         \n",
            "                                                                 \n",
            " dropout (Dropout)           (None, 40, 128)           0         \n",
            "                                                                 \n",
            " max_pooling1d (MaxPooling1D  (None, 8, 128)           0         \n",
            " )                                                               \n",
            "                                                                 \n",
            " conv1d_1 (Conv1D)           (None, 8, 256)            131328    \n",
            "                                                                 \n",
            " activation_1 (Activation)   (None, 8, 256)            0         \n",
            "                                                                 \n",
            " dropout_1 (Dropout)         (None, 8, 256)            0         \n",
            "                                                                 \n",
            " max_pooling1d_1 (MaxPooling  (None, 1, 256)           0         \n",
            " 1D)                                                             \n",
            "                                                                 \n",
            " flatten (Flatten)           (None, 256)               0         \n",
            "                                                                 \n",
            " dense (Dense)               (None, 6)                 1542      \n",
            "                                                                 \n",
            " activation_2 (Activation)   (None, 6)                 0         \n",
            "                                                                 \n",
            "=================================================================\n",
            "Total params: 133,510\n",
            "Trainable params: 133,510\n",
            "Non-trainable params: 0\n",
            "_________________________________________________________________\n"
          ]
        }
      ]
    },
    {
      "cell_type": "code",
      "source": [
        "model.compile(loss='sparse_categorical_crossentropy',\n",
        "              optimizer=opt,\n",
        "              metrics=['accuracy'])"
      ],
      "metadata": {
        "id": "AbMlLNk4DCBM"
      },
      "execution_count": 13,
      "outputs": []
    },
    {
      "cell_type": "code",
      "source": [
        "# Create an Instance of Early Stopping Callback.\n",
        "early_stopping_callback = EarlyStopping(monitor = 'val_loss', patience = 25, mode = 'min', restore_best_weights = True)\n",
        "\n",
        "cnnhistory=model.fit(x_traincnn, y_train, batch_size=16, epochs=500 , shuffle = True, \n",
        "                     validation_data=(X_valid, y_valid) , callbacks = [early_stopping_callback])"
      ],
      "metadata": {
        "id": "RI1v2AuADFhy",
        "colab": {
          "base_uri": "https://localhost:8080/"
        },
        "outputId": "593c842c-3f7d-41e4-8bc7-7f2adc74846e"
      },
      "execution_count": 14,
      "outputs": [
        {
          "output_type": "stream",
          "name": "stdout",
          "text": [
            "Epoch 1/500\n",
            "104/104 [==============================] - 3s 22ms/step - loss: 17.2405 - accuracy: 0.1802 - val_loss: 8.8642 - val_accuracy: 0.2077\n",
            "Epoch 2/500\n",
            "104/104 [==============================] - 2s 18ms/step - loss: 11.1755 - accuracy: 0.1971 - val_loss: 3.4834 - val_accuracy: 0.2319\n",
            "Epoch 3/500\n",
            "104/104 [==============================] - 3s 28ms/step - loss: 7.7085 - accuracy: 0.2164 - val_loss: 2.2745 - val_accuracy: 0.2415\n",
            "Epoch 4/500\n",
            "104/104 [==============================] - 3s 30ms/step - loss: 4.9135 - accuracy: 0.2189 - val_loss: 1.9796 - val_accuracy: 0.2222\n",
            "Epoch 5/500\n",
            "104/104 [==============================] - 3s 29ms/step - loss: 3.1399 - accuracy: 0.2231 - val_loss: 1.6699 - val_accuracy: 0.3043\n",
            "Epoch 6/500\n",
            "104/104 [==============================] - 3s 28ms/step - loss: 2.0869 - accuracy: 0.2715 - val_loss: 1.6542 - val_accuracy: 0.3430\n",
            "Epoch 7/500\n",
            "104/104 [==============================] - 3s 27ms/step - loss: 1.8260 - accuracy: 0.2642 - val_loss: 1.6771 - val_accuracy: 0.3333\n",
            "Epoch 8/500\n",
            "104/104 [==============================] - 3s 27ms/step - loss: 1.6896 - accuracy: 0.3174 - val_loss: 1.6272 - val_accuracy: 0.3285\n",
            "Epoch 9/500\n",
            "104/104 [==============================] - 3s 29ms/step - loss: 1.6842 - accuracy: 0.3126 - val_loss: 1.6184 - val_accuracy: 0.3430\n",
            "Epoch 10/500\n",
            "104/104 [==============================] - 3s 26ms/step - loss: 1.6229 - accuracy: 0.3349 - val_loss: 1.6133 - val_accuracy: 0.3575\n",
            "Epoch 11/500\n",
            "104/104 [==============================] - 3s 29ms/step - loss: 1.6120 - accuracy: 0.3422 - val_loss: 1.5595 - val_accuracy: 0.4203\n",
            "Epoch 12/500\n",
            "104/104 [==============================] - 3s 29ms/step - loss: 1.5807 - accuracy: 0.3458 - val_loss: 1.5344 - val_accuracy: 0.4300\n",
            "Epoch 13/500\n",
            "104/104 [==============================] - 3s 30ms/step - loss: 1.5463 - accuracy: 0.3755 - val_loss: 1.4953 - val_accuracy: 0.4300\n",
            "Epoch 14/500\n",
            "104/104 [==============================] - 3s 28ms/step - loss: 1.5220 - accuracy: 0.4008 - val_loss: 1.5115 - val_accuracy: 0.3768\n",
            "Epoch 15/500\n",
            "104/104 [==============================] - 3s 24ms/step - loss: 1.4789 - accuracy: 0.4141 - val_loss: 1.4872 - val_accuracy: 0.4300\n",
            "Epoch 16/500\n",
            "104/104 [==============================] - 2s 22ms/step - loss: 1.5034 - accuracy: 0.3869 - val_loss: 1.4885 - val_accuracy: 0.4203\n",
            "Epoch 17/500\n",
            "104/104 [==============================] - 2s 18ms/step - loss: 1.4536 - accuracy: 0.4232 - val_loss: 1.4533 - val_accuracy: 0.4831\n",
            "Epoch 18/500\n",
            "104/104 [==============================] - 2s 17ms/step - loss: 1.4512 - accuracy: 0.4226 - val_loss: 1.4132 - val_accuracy: 0.5072\n",
            "Epoch 19/500\n",
            "104/104 [==============================] - 2s 17ms/step - loss: 1.4094 - accuracy: 0.4504 - val_loss: 1.4147 - val_accuracy: 0.4879\n",
            "Epoch 20/500\n",
            "104/104 [==============================] - 2s 17ms/step - loss: 1.3940 - accuracy: 0.4541 - val_loss: 1.3800 - val_accuracy: 0.4831\n",
            "Epoch 21/500\n",
            "104/104 [==============================] - 2s 17ms/step - loss: 1.3998 - accuracy: 0.4299 - val_loss: 1.3949 - val_accuracy: 0.4638\n",
            "Epoch 22/500\n",
            "104/104 [==============================] - 2s 18ms/step - loss: 1.3654 - accuracy: 0.4468 - val_loss: 1.3714 - val_accuracy: 0.5169\n",
            "Epoch 23/500\n",
            "104/104 [==============================] - 2s 17ms/step - loss: 1.3475 - accuracy: 0.4710 - val_loss: 1.3682 - val_accuracy: 0.4686\n",
            "Epoch 24/500\n",
            "104/104 [==============================] - 2s 17ms/step - loss: 1.3563 - accuracy: 0.4583 - val_loss: 1.3489 - val_accuracy: 0.5072\n",
            "Epoch 25/500\n",
            "104/104 [==============================] - 2s 17ms/step - loss: 1.3209 - accuracy: 0.4637 - val_loss: 1.3458 - val_accuracy: 0.5362\n",
            "Epoch 26/500\n",
            "104/104 [==============================] - 2s 16ms/step - loss: 1.3290 - accuracy: 0.4782 - val_loss: 1.3350 - val_accuracy: 0.5024\n",
            "Epoch 27/500\n",
            "104/104 [==============================] - 2s 17ms/step - loss: 1.3118 - accuracy: 0.4740 - val_loss: 1.3339 - val_accuracy: 0.5362\n",
            "Epoch 28/500\n",
            "104/104 [==============================] - 2s 17ms/step - loss: 1.2942 - accuracy: 0.4897 - val_loss: 1.3084 - val_accuracy: 0.5266\n",
            "Epoch 29/500\n",
            "104/104 [==============================] - 2s 16ms/step - loss: 1.3000 - accuracy: 0.4927 - val_loss: 1.3122 - val_accuracy: 0.5217\n",
            "Epoch 30/500\n",
            "104/104 [==============================] - 2s 17ms/step - loss: 1.2845 - accuracy: 0.4964 - val_loss: 1.3185 - val_accuracy: 0.5604\n",
            "Epoch 31/500\n",
            "104/104 [==============================] - 2s 17ms/step - loss: 1.2920 - accuracy: 0.4813 - val_loss: 1.2967 - val_accuracy: 0.5411\n",
            "Epoch 32/500\n",
            "104/104 [==============================] - 2s 16ms/step - loss: 1.2721 - accuracy: 0.4897 - val_loss: 1.3134 - val_accuracy: 0.4831\n",
            "Epoch 33/500\n",
            "104/104 [==============================] - 2s 17ms/step - loss: 1.2590 - accuracy: 0.5109 - val_loss: 1.2877 - val_accuracy: 0.5121\n",
            "Epoch 34/500\n",
            "104/104 [==============================] - 2s 17ms/step - loss: 1.2418 - accuracy: 0.5103 - val_loss: 1.2796 - val_accuracy: 0.5362\n",
            "Epoch 35/500\n",
            "104/104 [==============================] - 2s 17ms/step - loss: 1.2456 - accuracy: 0.5200 - val_loss: 1.2587 - val_accuracy: 0.5169\n",
            "Epoch 36/500\n",
            "104/104 [==============================] - 2s 17ms/step - loss: 1.2168 - accuracy: 0.5357 - val_loss: 1.2608 - val_accuracy: 0.5459\n",
            "Epoch 37/500\n",
            "104/104 [==============================] - 2s 17ms/step - loss: 1.2396 - accuracy: 0.5115 - val_loss: 1.2408 - val_accuracy: 0.5700\n",
            "Epoch 38/500\n",
            "104/104 [==============================] - 2s 17ms/step - loss: 1.2312 - accuracy: 0.5236 - val_loss: 1.2383 - val_accuracy: 0.5652\n",
            "Epoch 39/500\n",
            "104/104 [==============================] - 2s 17ms/step - loss: 1.1984 - accuracy: 0.5339 - val_loss: 1.2553 - val_accuracy: 0.5217\n",
            "Epoch 40/500\n",
            "104/104 [==============================] - 2s 18ms/step - loss: 1.1897 - accuracy: 0.5369 - val_loss: 1.2200 - val_accuracy: 0.5507\n",
            "Epoch 41/500\n",
            "104/104 [==============================] - 2s 17ms/step - loss: 1.1944 - accuracy: 0.5333 - val_loss: 1.2006 - val_accuracy: 0.5894\n",
            "Epoch 42/500\n",
            "104/104 [==============================] - 2s 17ms/step - loss: 1.1902 - accuracy: 0.5441 - val_loss: 1.2138 - val_accuracy: 0.5459\n",
            "Epoch 43/500\n",
            "104/104 [==============================] - 2s 18ms/step - loss: 1.1808 - accuracy: 0.5302 - val_loss: 1.1978 - val_accuracy: 0.5845\n",
            "Epoch 44/500\n",
            "104/104 [==============================] - 2s 17ms/step - loss: 1.1780 - accuracy: 0.5484 - val_loss: 1.1881 - val_accuracy: 0.5556\n",
            "Epoch 45/500\n",
            "104/104 [==============================] - 2s 17ms/step - loss: 1.1750 - accuracy: 0.5429 - val_loss: 1.1929 - val_accuracy: 0.5604\n",
            "Epoch 46/500\n",
            "104/104 [==============================] - 2s 18ms/step - loss: 1.1456 - accuracy: 0.5538 - val_loss: 1.2361 - val_accuracy: 0.5459\n",
            "Epoch 47/500\n",
            "104/104 [==============================] - 2s 17ms/step - loss: 1.1264 - accuracy: 0.5514 - val_loss: 1.1833 - val_accuracy: 0.5217\n",
            "Epoch 48/500\n",
            "104/104 [==============================] - 2s 18ms/step - loss: 1.1373 - accuracy: 0.5502 - val_loss: 1.1661 - val_accuracy: 0.5990\n",
            "Epoch 49/500\n",
            "104/104 [==============================] - 2s 16ms/step - loss: 1.1234 - accuracy: 0.5653 - val_loss: 1.1842 - val_accuracy: 0.5845\n",
            "Epoch 50/500\n",
            "104/104 [==============================] - 2s 17ms/step - loss: 1.1319 - accuracy: 0.5611 - val_loss: 1.1459 - val_accuracy: 0.5942\n",
            "Epoch 51/500\n",
            "104/104 [==============================] - 2s 17ms/step - loss: 1.1275 - accuracy: 0.5586 - val_loss: 1.1460 - val_accuracy: 0.5894\n",
            "Epoch 52/500\n",
            "104/104 [==============================] - 2s 16ms/step - loss: 1.1078 - accuracy: 0.5726 - val_loss: 1.1490 - val_accuracy: 0.5797\n",
            "Epoch 53/500\n",
            "104/104 [==============================] - 2s 17ms/step - loss: 1.1097 - accuracy: 0.5659 - val_loss: 1.1569 - val_accuracy: 0.5507\n",
            "Epoch 54/500\n",
            "104/104 [==============================] - 2s 17ms/step - loss: 1.0976 - accuracy: 0.5750 - val_loss: 1.1612 - val_accuracy: 0.5217\n",
            "Epoch 55/500\n",
            "104/104 [==============================] - 2s 17ms/step - loss: 1.1021 - accuracy: 0.5750 - val_loss: 1.1645 - val_accuracy: 0.5121\n",
            "Epoch 56/500\n",
            "104/104 [==============================] - 2s 17ms/step - loss: 1.1117 - accuracy: 0.5532 - val_loss: 1.1306 - val_accuracy: 0.5990\n",
            "Epoch 57/500\n",
            "104/104 [==============================] - 2s 17ms/step - loss: 1.0806 - accuracy: 0.5774 - val_loss: 1.1294 - val_accuracy: 0.5942\n",
            "Epoch 58/500\n",
            "104/104 [==============================] - 2s 17ms/step - loss: 1.0731 - accuracy: 0.5877 - val_loss: 1.1211 - val_accuracy: 0.6135\n",
            "Epoch 59/500\n",
            "104/104 [==============================] - 2s 17ms/step - loss: 1.0893 - accuracy: 0.5852 - val_loss: 1.1200 - val_accuracy: 0.5797\n",
            "Epoch 60/500\n",
            "104/104 [==============================] - 2s 17ms/step - loss: 1.0726 - accuracy: 0.5889 - val_loss: 1.1148 - val_accuracy: 0.5797\n",
            "Epoch 61/500\n",
            "104/104 [==============================] - 2s 16ms/step - loss: 1.0760 - accuracy: 0.5913 - val_loss: 1.0906 - val_accuracy: 0.5990\n",
            "Epoch 62/500\n",
            "104/104 [==============================] - 2s 16ms/step - loss: 1.0621 - accuracy: 0.5846 - val_loss: 1.0850 - val_accuracy: 0.6087\n",
            "Epoch 63/500\n",
            "104/104 [==============================] - 2s 17ms/step - loss: 1.0526 - accuracy: 0.5937 - val_loss: 1.1145 - val_accuracy: 0.5797\n",
            "Epoch 64/500\n",
            "104/104 [==============================] - 2s 17ms/step - loss: 1.0557 - accuracy: 0.6022 - val_loss: 1.0852 - val_accuracy: 0.6184\n",
            "Epoch 65/500\n",
            "104/104 [==============================] - 2s 17ms/step - loss: 1.0225 - accuracy: 0.5985 - val_loss: 1.0636 - val_accuracy: 0.6232\n",
            "Epoch 66/500\n",
            "104/104 [==============================] - 2s 23ms/step - loss: 1.0304 - accuracy: 0.6125 - val_loss: 1.0570 - val_accuracy: 0.5990\n",
            "Epoch 67/500\n",
            "104/104 [==============================] - 3s 29ms/step - loss: 1.0162 - accuracy: 0.6046 - val_loss: 1.0845 - val_accuracy: 0.5700\n",
            "Epoch 68/500\n",
            "104/104 [==============================] - 2s 20ms/step - loss: 1.0275 - accuracy: 0.6022 - val_loss: 1.0413 - val_accuracy: 0.6280\n",
            "Epoch 69/500\n",
            "104/104 [==============================] - 2s 17ms/step - loss: 1.0286 - accuracy: 0.5961 - val_loss: 1.0439 - val_accuracy: 0.6425\n",
            "Epoch 70/500\n",
            "104/104 [==============================] - 2s 18ms/step - loss: 1.0203 - accuracy: 0.6149 - val_loss: 1.0760 - val_accuracy: 0.5652\n",
            "Epoch 71/500\n",
            "104/104 [==============================] - 2s 18ms/step - loss: 1.0301 - accuracy: 0.6010 - val_loss: 1.0786 - val_accuracy: 0.5652\n",
            "Epoch 72/500\n",
            "104/104 [==============================] - 2s 18ms/step - loss: 1.0190 - accuracy: 0.6046 - val_loss: 1.0595 - val_accuracy: 0.6232\n",
            "Epoch 73/500\n",
            "104/104 [==============================] - 2s 17ms/step - loss: 0.9781 - accuracy: 0.6282 - val_loss: 1.0614 - val_accuracy: 0.5845\n",
            "Epoch 74/500\n",
            "104/104 [==============================] - 2s 18ms/step - loss: 0.9815 - accuracy: 0.6324 - val_loss: 1.0486 - val_accuracy: 0.6135\n",
            "Epoch 75/500\n",
            "104/104 [==============================] - 2s 18ms/step - loss: 1.0008 - accuracy: 0.6131 - val_loss: 1.0350 - val_accuracy: 0.5942\n",
            "Epoch 76/500\n",
            "104/104 [==============================] - 2s 18ms/step - loss: 0.9800 - accuracy: 0.6203 - val_loss: 1.0344 - val_accuracy: 0.6329\n",
            "Epoch 77/500\n",
            "104/104 [==============================] - 2s 18ms/step - loss: 0.9908 - accuracy: 0.6252 - val_loss: 1.0615 - val_accuracy: 0.6232\n",
            "Epoch 78/500\n",
            "104/104 [==============================] - 2s 18ms/step - loss: 0.9845 - accuracy: 0.6270 - val_loss: 1.0372 - val_accuracy: 0.6232\n",
            "Epoch 79/500\n",
            "104/104 [==============================] - 2s 18ms/step - loss: 0.9743 - accuracy: 0.6306 - val_loss: 1.0187 - val_accuracy: 0.6135\n",
            "Epoch 80/500\n",
            "104/104 [==============================] - 2s 18ms/step - loss: 0.9620 - accuracy: 0.6270 - val_loss: 1.0423 - val_accuracy: 0.5990\n",
            "Epoch 81/500\n",
            "104/104 [==============================] - 2s 17ms/step - loss: 0.9629 - accuracy: 0.6360 - val_loss: 1.0075 - val_accuracy: 0.6135\n",
            "Epoch 82/500\n",
            "104/104 [==============================] - 2s 17ms/step - loss: 0.9976 - accuracy: 0.6094 - val_loss: 0.9951 - val_accuracy: 0.6280\n",
            "Epoch 83/500\n",
            "104/104 [==============================] - 2s 17ms/step - loss: 0.9735 - accuracy: 0.6306 - val_loss: 0.9785 - val_accuracy: 0.6473\n",
            "Epoch 84/500\n",
            "104/104 [==============================] - 2s 17ms/step - loss: 0.9342 - accuracy: 0.6530 - val_loss: 1.0004 - val_accuracy: 0.6329\n",
            "Epoch 85/500\n",
            "104/104 [==============================] - 2s 17ms/step - loss: 0.9415 - accuracy: 0.6566 - val_loss: 0.9972 - val_accuracy: 0.6425\n",
            "Epoch 86/500\n",
            "104/104 [==============================] - 2s 17ms/step - loss: 0.9195 - accuracy: 0.6505 - val_loss: 1.0118 - val_accuracy: 0.6087\n",
            "Epoch 87/500\n",
            "104/104 [==============================] - 2s 17ms/step - loss: 0.9626 - accuracy: 0.6088 - val_loss: 1.0297 - val_accuracy: 0.5942\n",
            "Epoch 88/500\n",
            "104/104 [==============================] - 2s 17ms/step - loss: 0.9485 - accuracy: 0.6312 - val_loss: 1.0081 - val_accuracy: 0.5990\n",
            "Epoch 89/500\n",
            "104/104 [==============================] - 2s 17ms/step - loss: 0.9161 - accuracy: 0.6499 - val_loss: 0.9818 - val_accuracy: 0.6377\n",
            "Epoch 90/500\n",
            "104/104 [==============================] - 2s 17ms/step - loss: 0.9415 - accuracy: 0.6427 - val_loss: 1.0203 - val_accuracy: 0.5990\n",
            "Epoch 91/500\n",
            "104/104 [==============================] - 2s 17ms/step - loss: 0.9472 - accuracy: 0.6403 - val_loss: 1.0248 - val_accuracy: 0.5894\n",
            "Epoch 92/500\n",
            "104/104 [==============================] - 2s 17ms/step - loss: 0.9358 - accuracy: 0.6245 - val_loss: 0.9910 - val_accuracy: 0.6280\n",
            "Epoch 93/500\n",
            "104/104 [==============================] - 2s 18ms/step - loss: 0.9531 - accuracy: 0.6245 - val_loss: 0.9632 - val_accuracy: 0.6715\n",
            "Epoch 94/500\n",
            "104/104 [==============================] - 2s 17ms/step - loss: 0.9446 - accuracy: 0.6457 - val_loss: 0.9689 - val_accuracy: 0.6570\n",
            "Epoch 95/500\n",
            "104/104 [==============================] - 2s 17ms/step - loss: 0.9121 - accuracy: 0.6493 - val_loss: 0.9627 - val_accuracy: 0.6618\n",
            "Epoch 96/500\n",
            "104/104 [==============================] - 2s 17ms/step - loss: 0.9011 - accuracy: 0.6717 - val_loss: 0.9850 - val_accuracy: 0.6087\n",
            "Epoch 97/500\n",
            "104/104 [==============================] - 2s 17ms/step - loss: 0.8845 - accuracy: 0.6735 - val_loss: 0.9611 - val_accuracy: 0.6377\n",
            "Epoch 98/500\n",
            "104/104 [==============================] - 2s 17ms/step - loss: 0.8872 - accuracy: 0.6711 - val_loss: 0.9548 - val_accuracy: 0.6425\n",
            "Epoch 99/500\n",
            "104/104 [==============================] - 2s 17ms/step - loss: 0.9139 - accuracy: 0.6481 - val_loss: 0.9741 - val_accuracy: 0.6473\n",
            "Epoch 100/500\n",
            "104/104 [==============================] - 2s 17ms/step - loss: 0.8954 - accuracy: 0.6481 - val_loss: 0.9441 - val_accuracy: 0.6329\n",
            "Epoch 101/500\n",
            "104/104 [==============================] - 2s 18ms/step - loss: 0.9070 - accuracy: 0.6687 - val_loss: 0.9505 - val_accuracy: 0.6715\n",
            "Epoch 102/500\n",
            "104/104 [==============================] - 2s 18ms/step - loss: 0.8656 - accuracy: 0.6717 - val_loss: 0.9934 - val_accuracy: 0.6135\n",
            "Epoch 103/500\n",
            "104/104 [==============================] - 2s 18ms/step - loss: 0.8664 - accuracy: 0.6608 - val_loss: 0.9599 - val_accuracy: 0.6135\n",
            "Epoch 104/500\n",
            "104/104 [==============================] - 2s 18ms/step - loss: 0.8940 - accuracy: 0.6536 - val_loss: 0.9714 - val_accuracy: 0.6377\n",
            "Epoch 105/500\n",
            "104/104 [==============================] - 2s 18ms/step - loss: 0.8976 - accuracy: 0.6669 - val_loss: 0.9393 - val_accuracy: 0.6522\n",
            "Epoch 106/500\n",
            "104/104 [==============================] - 2s 17ms/step - loss: 0.8789 - accuracy: 0.6632 - val_loss: 0.9472 - val_accuracy: 0.6570\n",
            "Epoch 107/500\n",
            "104/104 [==============================] - 2s 17ms/step - loss: 0.8733 - accuracy: 0.6753 - val_loss: 0.9984 - val_accuracy: 0.6087\n",
            "Epoch 108/500\n",
            "104/104 [==============================] - 2s 18ms/step - loss: 0.8636 - accuracy: 0.6759 - val_loss: 0.9361 - val_accuracy: 0.6473\n",
            "Epoch 109/500\n",
            "104/104 [==============================] - 2s 18ms/step - loss: 0.8642 - accuracy: 0.6596 - val_loss: 1.0390 - val_accuracy: 0.5845\n",
            "Epoch 110/500\n",
            "104/104 [==============================] - 2s 17ms/step - loss: 0.8750 - accuracy: 0.6663 - val_loss: 0.9230 - val_accuracy: 0.6280\n",
            "Epoch 111/500\n",
            "104/104 [==============================] - 2s 17ms/step - loss: 0.8765 - accuracy: 0.6469 - val_loss: 0.9300 - val_accuracy: 0.6618\n",
            "Epoch 112/500\n",
            "104/104 [==============================] - 2s 17ms/step - loss: 0.8491 - accuracy: 0.6808 - val_loss: 0.9674 - val_accuracy: 0.5942\n",
            "Epoch 113/500\n",
            "104/104 [==============================] - 2s 17ms/step - loss: 0.8851 - accuracy: 0.6584 - val_loss: 0.9320 - val_accuracy: 0.6473\n",
            "Epoch 114/500\n",
            "104/104 [==============================] - 2s 18ms/step - loss: 0.8639 - accuracy: 0.6675 - val_loss: 0.9757 - val_accuracy: 0.6329\n",
            "Epoch 115/500\n",
            "104/104 [==============================] - 2s 17ms/step - loss: 0.8431 - accuracy: 0.6765 - val_loss: 0.9015 - val_accuracy: 0.6908\n",
            "Epoch 116/500\n",
            "104/104 [==============================] - 2s 17ms/step - loss: 0.8632 - accuracy: 0.6626 - val_loss: 0.9683 - val_accuracy: 0.5990\n",
            "Epoch 117/500\n",
            "104/104 [==============================] - 2s 17ms/step - loss: 0.8449 - accuracy: 0.6717 - val_loss: 0.9083 - val_accuracy: 0.6763\n",
            "Epoch 118/500\n",
            "104/104 [==============================] - 2s 18ms/step - loss: 0.8412 - accuracy: 0.6741 - val_loss: 0.8959 - val_accuracy: 0.6860\n",
            "Epoch 119/500\n",
            "104/104 [==============================] - 2s 17ms/step - loss: 0.8299 - accuracy: 0.6844 - val_loss: 0.9297 - val_accuracy: 0.6425\n",
            "Epoch 120/500\n",
            "104/104 [==============================] - 2s 18ms/step - loss: 0.8262 - accuracy: 0.7007 - val_loss: 0.9452 - val_accuracy: 0.6329\n",
            "Epoch 121/500\n",
            "104/104 [==============================] - 2s 18ms/step - loss: 0.8276 - accuracy: 0.7001 - val_loss: 0.8927 - val_accuracy: 0.6908\n",
            "Epoch 122/500\n",
            "104/104 [==============================] - 2s 18ms/step - loss: 0.8308 - accuracy: 0.6790 - val_loss: 0.8920 - val_accuracy: 0.6957\n",
            "Epoch 123/500\n",
            "104/104 [==============================] - 2s 17ms/step - loss: 0.8264 - accuracy: 0.6796 - val_loss: 0.9155 - val_accuracy: 0.6377\n",
            "Epoch 124/500\n",
            "104/104 [==============================] - 2s 17ms/step - loss: 0.8375 - accuracy: 0.6778 - val_loss: 0.9397 - val_accuracy: 0.6329\n",
            "Epoch 125/500\n",
            "104/104 [==============================] - 2s 17ms/step - loss: 0.8268 - accuracy: 0.6929 - val_loss: 0.8905 - val_accuracy: 0.6667\n",
            "Epoch 126/500\n",
            "104/104 [==============================] - 2s 18ms/step - loss: 0.8476 - accuracy: 0.6790 - val_loss: 0.9273 - val_accuracy: 0.6425\n",
            "Epoch 127/500\n",
            "104/104 [==============================] - 2s 18ms/step - loss: 0.8374 - accuracy: 0.6771 - val_loss: 0.9259 - val_accuracy: 0.6618\n",
            "Epoch 128/500\n",
            "104/104 [==============================] - 2s 17ms/step - loss: 0.8278 - accuracy: 0.6862 - val_loss: 0.9175 - val_accuracy: 0.6522\n",
            "Epoch 129/500\n",
            "104/104 [==============================] - 2s 18ms/step - loss: 0.8116 - accuracy: 0.6820 - val_loss: 0.8755 - val_accuracy: 0.6812\n",
            "Epoch 130/500\n",
            "104/104 [==============================] - 2s 17ms/step - loss: 0.8495 - accuracy: 0.6886 - val_loss: 0.9308 - val_accuracy: 0.6184\n",
            "Epoch 131/500\n",
            "104/104 [==============================] - 2s 18ms/step - loss: 0.8111 - accuracy: 0.7019 - val_loss: 0.8945 - val_accuracy: 0.6522\n",
            "Epoch 132/500\n",
            "104/104 [==============================] - 2s 18ms/step - loss: 0.7974 - accuracy: 0.6911 - val_loss: 0.9092 - val_accuracy: 0.6618\n",
            "Epoch 133/500\n",
            "104/104 [==============================] - 2s 19ms/step - loss: 0.8487 - accuracy: 0.6687 - val_loss: 0.8780 - val_accuracy: 0.6908\n",
            "Epoch 134/500\n",
            "104/104 [==============================] - 2s 18ms/step - loss: 0.7711 - accuracy: 0.7098 - val_loss: 0.9151 - val_accuracy: 0.6377\n",
            "Epoch 135/500\n",
            "104/104 [==============================] - 2s 18ms/step - loss: 0.8275 - accuracy: 0.6917 - val_loss: 0.8983 - val_accuracy: 0.6667\n",
            "Epoch 136/500\n",
            "104/104 [==============================] - 2s 18ms/step - loss: 0.7818 - accuracy: 0.7001 - val_loss: 0.8859 - val_accuracy: 0.6715\n",
            "Epoch 137/500\n",
            "104/104 [==============================] - 2s 18ms/step - loss: 0.8111 - accuracy: 0.6880 - val_loss: 0.9059 - val_accuracy: 0.6715\n",
            "Epoch 138/500\n",
            "104/104 [==============================] - 2s 18ms/step - loss: 0.8108 - accuracy: 0.6911 - val_loss: 0.8977 - val_accuracy: 0.6570\n",
            "Epoch 139/500\n",
            "104/104 [==============================] - 2s 18ms/step - loss: 0.7960 - accuracy: 0.6971 - val_loss: 0.9031 - val_accuracy: 0.6763\n",
            "Epoch 140/500\n",
            "104/104 [==============================] - 2s 18ms/step - loss: 0.7934 - accuracy: 0.7122 - val_loss: 0.9256 - val_accuracy: 0.6425\n",
            "Epoch 141/500\n",
            "104/104 [==============================] - 2s 17ms/step - loss: 0.7657 - accuracy: 0.7080 - val_loss: 0.9055 - val_accuracy: 0.6618\n",
            "Epoch 142/500\n",
            "104/104 [==============================] - 2s 17ms/step - loss: 0.7794 - accuracy: 0.7037 - val_loss: 0.9071 - val_accuracy: 0.6473\n",
            "Epoch 143/500\n",
            "104/104 [==============================] - 2s 17ms/step - loss: 0.7879 - accuracy: 0.6959 - val_loss: 0.8790 - val_accuracy: 0.6715\n",
            "Epoch 144/500\n",
            "104/104 [==============================] - 2s 17ms/step - loss: 0.7662 - accuracy: 0.6995 - val_loss: 0.8772 - val_accuracy: 0.6570\n",
            "Epoch 145/500\n",
            "104/104 [==============================] - 2s 17ms/step - loss: 0.7751 - accuracy: 0.7001 - val_loss: 0.8969 - val_accuracy: 0.6473\n",
            "Epoch 146/500\n",
            "104/104 [==============================] - 2s 17ms/step - loss: 0.7649 - accuracy: 0.7050 - val_loss: 0.8933 - val_accuracy: 0.6618\n",
            "Epoch 147/500\n",
            "104/104 [==============================] - 2s 16ms/step - loss: 0.7778 - accuracy: 0.7001 - val_loss: 0.8595 - val_accuracy: 0.6667\n",
            "Epoch 148/500\n",
            "104/104 [==============================] - 2s 18ms/step - loss: 0.8033 - accuracy: 0.6874 - val_loss: 0.9030 - val_accuracy: 0.6715\n",
            "Epoch 149/500\n",
            "104/104 [==============================] - 2s 18ms/step - loss: 0.7965 - accuracy: 0.6868 - val_loss: 0.8866 - val_accuracy: 0.6570\n",
            "Epoch 150/500\n",
            "104/104 [==============================] - 2s 18ms/step - loss: 0.7556 - accuracy: 0.7219 - val_loss: 0.9002 - val_accuracy: 0.6618\n",
            "Epoch 151/500\n",
            "104/104 [==============================] - 2s 18ms/step - loss: 0.7509 - accuracy: 0.7128 - val_loss: 0.8567 - val_accuracy: 0.7053\n",
            "Epoch 152/500\n",
            "104/104 [==============================] - 2s 17ms/step - loss: 0.7621 - accuracy: 0.7013 - val_loss: 0.9219 - val_accuracy: 0.6425\n",
            "Epoch 153/500\n",
            "104/104 [==============================] - 2s 17ms/step - loss: 0.7415 - accuracy: 0.7273 - val_loss: 0.8527 - val_accuracy: 0.6860\n",
            "Epoch 154/500\n",
            "104/104 [==============================] - 2s 18ms/step - loss: 0.7680 - accuracy: 0.7007 - val_loss: 0.8595 - val_accuracy: 0.6860\n",
            "Epoch 155/500\n",
            "104/104 [==============================] - 2s 17ms/step - loss: 0.7497 - accuracy: 0.7037 - val_loss: 0.8711 - val_accuracy: 0.6763\n",
            "Epoch 156/500\n",
            "104/104 [==============================] - 2s 17ms/step - loss: 0.7492 - accuracy: 0.7146 - val_loss: 0.9216 - val_accuracy: 0.6522\n",
            "Epoch 157/500\n",
            "104/104 [==============================] - 2s 17ms/step - loss: 0.7217 - accuracy: 0.7213 - val_loss: 0.9823 - val_accuracy: 0.5942\n",
            "Epoch 158/500\n",
            "104/104 [==============================] - 2s 17ms/step - loss: 0.7444 - accuracy: 0.7134 - val_loss: 0.8922 - val_accuracy: 0.6280\n",
            "Epoch 159/500\n",
            "104/104 [==============================] - 2s 17ms/step - loss: 0.7661 - accuracy: 0.7044 - val_loss: 0.8578 - val_accuracy: 0.7053\n",
            "Epoch 160/500\n",
            "104/104 [==============================] - 2s 17ms/step - loss: 0.7528 - accuracy: 0.7080 - val_loss: 0.8890 - val_accuracy: 0.6425\n",
            "Epoch 161/500\n",
            "104/104 [==============================] - 2s 17ms/step - loss: 0.7718 - accuracy: 0.6886 - val_loss: 0.8692 - val_accuracy: 0.6763\n",
            "Epoch 162/500\n",
            "104/104 [==============================] - 2s 18ms/step - loss: 0.7536 - accuracy: 0.6953 - val_loss: 0.8696 - val_accuracy: 0.6570\n",
            "Epoch 163/500\n",
            "104/104 [==============================] - 2s 18ms/step - loss: 0.7506 - accuracy: 0.7122 - val_loss: 0.8837 - val_accuracy: 0.6425\n",
            "Epoch 164/500\n",
            "104/104 [==============================] - 2s 18ms/step - loss: 0.7392 - accuracy: 0.7152 - val_loss: 0.8668 - val_accuracy: 0.6473\n",
            "Epoch 165/500\n",
            "104/104 [==============================] - 2s 17ms/step - loss: 0.7218 - accuracy: 0.7261 - val_loss: 0.8777 - val_accuracy: 0.6715\n",
            "Epoch 166/500\n",
            "104/104 [==============================] - 2s 18ms/step - loss: 0.7537 - accuracy: 0.7152 - val_loss: 0.8772 - val_accuracy: 0.6618\n",
            "Epoch 167/500\n",
            "104/104 [==============================] - 2s 19ms/step - loss: 0.7321 - accuracy: 0.7189 - val_loss: 0.8753 - val_accuracy: 0.6570\n",
            "Epoch 168/500\n",
            "104/104 [==============================] - 2s 18ms/step - loss: 0.7405 - accuracy: 0.7291 - val_loss: 0.8345 - val_accuracy: 0.7053\n",
            "Epoch 169/500\n",
            "104/104 [==============================] - 2s 18ms/step - loss: 0.7481 - accuracy: 0.7116 - val_loss: 0.8486 - val_accuracy: 0.7005\n",
            "Epoch 170/500\n",
            "104/104 [==============================] - 2s 18ms/step - loss: 0.7130 - accuracy: 0.7249 - val_loss: 0.8700 - val_accuracy: 0.6280\n",
            "Epoch 171/500\n",
            "104/104 [==============================] - 2s 18ms/step - loss: 0.7438 - accuracy: 0.7195 - val_loss: 0.8458 - val_accuracy: 0.6957\n",
            "Epoch 172/500\n",
            "104/104 [==============================] - 2s 18ms/step - loss: 0.7333 - accuracy: 0.7304 - val_loss: 0.8525 - val_accuracy: 0.6763\n",
            "Epoch 173/500\n",
            "104/104 [==============================] - 2s 17ms/step - loss: 0.7189 - accuracy: 0.7219 - val_loss: 0.8584 - val_accuracy: 0.6618\n",
            "Epoch 174/500\n",
            "104/104 [==============================] - 2s 17ms/step - loss: 0.7455 - accuracy: 0.7261 - val_loss: 0.8515 - val_accuracy: 0.6908\n",
            "Epoch 175/500\n",
            "104/104 [==============================] - 2s 18ms/step - loss: 0.7184 - accuracy: 0.7364 - val_loss: 0.8676 - val_accuracy: 0.6667\n",
            "Epoch 176/500\n",
            "104/104 [==============================] - 2s 17ms/step - loss: 0.7188 - accuracy: 0.7273 - val_loss: 0.8499 - val_accuracy: 0.6522\n",
            "Epoch 177/500\n",
            "104/104 [==============================] - 2s 18ms/step - loss: 0.7369 - accuracy: 0.7201 - val_loss: 0.8306 - val_accuracy: 0.6957\n",
            "Epoch 178/500\n",
            "104/104 [==============================] - 2s 18ms/step - loss: 0.7385 - accuracy: 0.7267 - val_loss: 0.8619 - val_accuracy: 0.6618\n",
            "Epoch 179/500\n",
            "104/104 [==============================] - 2s 18ms/step - loss: 0.7164 - accuracy: 0.7249 - val_loss: 0.8448 - val_accuracy: 0.6618\n",
            "Epoch 180/500\n",
            "104/104 [==============================] - 2s 18ms/step - loss: 0.7164 - accuracy: 0.7279 - val_loss: 0.8582 - val_accuracy: 0.6522\n",
            "Epoch 181/500\n",
            "104/104 [==============================] - 2s 18ms/step - loss: 0.7021 - accuracy: 0.7340 - val_loss: 0.8818 - val_accuracy: 0.6377\n",
            "Epoch 182/500\n",
            "104/104 [==============================] - 2s 18ms/step - loss: 0.7165 - accuracy: 0.7322 - val_loss: 0.8099 - val_accuracy: 0.6860\n",
            "Epoch 183/500\n",
            "104/104 [==============================] - 2s 18ms/step - loss: 0.7328 - accuracy: 0.7140 - val_loss: 0.8825 - val_accuracy: 0.6618\n",
            "Epoch 184/500\n",
            "104/104 [==============================] - 2s 19ms/step - loss: 0.6995 - accuracy: 0.7370 - val_loss: 0.8283 - val_accuracy: 0.6667\n",
            "Epoch 185/500\n",
            "104/104 [==============================] - 2s 18ms/step - loss: 0.7482 - accuracy: 0.7201 - val_loss: 0.8427 - val_accuracy: 0.6763\n",
            "Epoch 186/500\n",
            "104/104 [==============================] - 2s 18ms/step - loss: 0.6863 - accuracy: 0.7376 - val_loss: 0.8582 - val_accuracy: 0.6570\n",
            "Epoch 187/500\n",
            "104/104 [==============================] - 2s 19ms/step - loss: 0.6817 - accuracy: 0.7364 - val_loss: 0.8532 - val_accuracy: 0.6715\n",
            "Epoch 188/500\n",
            "104/104 [==============================] - 2s 19ms/step - loss: 0.7027 - accuracy: 0.7310 - val_loss: 0.8577 - val_accuracy: 0.6522\n",
            "Epoch 189/500\n",
            "104/104 [==============================] - 2s 19ms/step - loss: 0.7016 - accuracy: 0.7503 - val_loss: 0.8553 - val_accuracy: 0.6715\n",
            "Epoch 190/500\n",
            "104/104 [==============================] - 2s 19ms/step - loss: 0.6846 - accuracy: 0.7382 - val_loss: 0.8193 - val_accuracy: 0.6957\n",
            "Epoch 191/500\n",
            "104/104 [==============================] - 2s 18ms/step - loss: 0.7035 - accuracy: 0.7316 - val_loss: 0.8608 - val_accuracy: 0.6522\n",
            "Epoch 192/500\n",
            "104/104 [==============================] - 2s 19ms/step - loss: 0.6756 - accuracy: 0.7449 - val_loss: 0.8147 - val_accuracy: 0.6908\n",
            "Epoch 193/500\n",
            "104/104 [==============================] - 2s 19ms/step - loss: 0.6871 - accuracy: 0.7424 - val_loss: 0.8158 - val_accuracy: 0.6908\n",
            "Epoch 194/500\n",
            "104/104 [==============================] - 2s 19ms/step - loss: 0.6864 - accuracy: 0.7412 - val_loss: 0.8790 - val_accuracy: 0.6618\n",
            "Epoch 195/500\n",
            "104/104 [==============================] - 2s 18ms/step - loss: 0.6820 - accuracy: 0.7515 - val_loss: 0.8388 - val_accuracy: 0.6618\n",
            "Epoch 196/500\n",
            "104/104 [==============================] - 2s 17ms/step - loss: 0.6930 - accuracy: 0.7255 - val_loss: 0.8103 - val_accuracy: 0.6618\n",
            "Epoch 197/500\n",
            "104/104 [==============================] - 2s 19ms/step - loss: 0.6650 - accuracy: 0.7400 - val_loss: 0.8659 - val_accuracy: 0.6812\n",
            "Epoch 198/500\n",
            "104/104 [==============================] - 2s 18ms/step - loss: 0.6804 - accuracy: 0.7449 - val_loss: 0.8598 - val_accuracy: 0.6667\n",
            "Epoch 199/500\n",
            "104/104 [==============================] - 2s 18ms/step - loss: 0.6720 - accuracy: 0.7497 - val_loss: 0.8288 - val_accuracy: 0.6763\n",
            "Epoch 200/500\n",
            "104/104 [==============================] - 2s 19ms/step - loss: 0.6886 - accuracy: 0.7430 - val_loss: 0.8203 - val_accuracy: 0.6763\n",
            "Epoch 201/500\n",
            "104/104 [==============================] - 2s 19ms/step - loss: 0.6771 - accuracy: 0.7455 - val_loss: 0.8206 - val_accuracy: 0.6957\n",
            "Epoch 202/500\n",
            "104/104 [==============================] - 2s 18ms/step - loss: 0.6828 - accuracy: 0.7491 - val_loss: 0.8240 - val_accuracy: 0.6812\n",
            "Epoch 203/500\n",
            "104/104 [==============================] - 2s 18ms/step - loss: 0.7046 - accuracy: 0.7352 - val_loss: 0.8133 - val_accuracy: 0.6473\n",
            "Epoch 204/500\n",
            "104/104 [==============================] - 2s 18ms/step - loss: 0.6730 - accuracy: 0.7437 - val_loss: 0.8452 - val_accuracy: 0.6908\n",
            "Epoch 205/500\n",
            "104/104 [==============================] - 2s 18ms/step - loss: 0.6713 - accuracy: 0.7473 - val_loss: 0.8500 - val_accuracy: 0.6522\n",
            "Epoch 206/500\n",
            "104/104 [==============================] - 2s 19ms/step - loss: 0.6726 - accuracy: 0.7509 - val_loss: 0.8385 - val_accuracy: 0.6570\n",
            "Epoch 207/500\n",
            "104/104 [==============================] - 2s 18ms/step - loss: 0.6697 - accuracy: 0.7539 - val_loss: 0.8165 - val_accuracy: 0.6908\n"
          ]
        }
      ]
    },
    {
      "cell_type": "code",
      "source": [
        "plt.plot(cnnhistory.history['loss'])\n",
        "plt.plot(cnnhistory.history['val_loss'])\n",
        "plt.title('model loss')\n",
        "plt.ylabel('loss')\n",
        "plt.xlabel('epoch')\n",
        "plt.legend(['train','test'], loc='upper left')\n",
        "plt.show()"
      ],
      "metadata": {
        "id": "oQYnuaCrDH_A",
        "colab": {
          "base_uri": "https://localhost:8080/",
          "height": 295
        },
        "outputId": "11243894-cf56-407b-fa66-7377d73bb700"
      },
      "execution_count": 15,
      "outputs": [
        {
          "output_type": "display_data",
          "data": {
            "text/plain": [
              "<Figure size 432x288 with 1 Axes>"
            ],
            "image/png": "[encoded data removed]"
          },
          "metadata": {
            "needs_background": "light"
          }
        }
      ]
    },
    {
      "cell_type": "code",
      "source": [
        "plt.plot(cnnhistory.history['accuracy'])\n",
        "plt.plot(cnnhistory.history['val_accuracy'])\n",
        "plt.title('model accuracy')\n",
        "plt.ylabel('accuracy')\n",
        "plt.xlabel('epoch')\n",
        "plt.legend(['train','test'], loc='upper left')\n",
        "plt.show()"
      ],
      "metadata": {
        "id": "IFkTuO8nDNdq",
        "colab": {
          "base_uri": "https://localhost:8080/",
          "height": 295
        },
        "outputId": "65143743-17dc-4351-fcfa-b33bc62da2b6"
      },
      "execution_count": 16,
      "outputs": [
        {
          "output_type": "display_data",
          "data": {
            "text/plain": [
              "<Figure size 432x288 with 1 Axes>"
            ],
            "image/png": "[encoded data removed]"
          },
          "metadata": {
            "needs_background": "light"
          }
        }
      ]
    },
    {
      "cell_type": "code",
      "source": [
        "predictions = model.predict(x_testcnn)"
      ],
      "metadata": {
        "id": "A2xtrN5wDQgY"
      },
      "execution_count": 17,
      "outputs": []
    },
    {
      "cell_type": "code",
      "source": [
        "predictions"
      ],
      "metadata": {
        "id": "_f_ohjXKDUpY",
        "colab": {
          "base_uri": "https://localhost:8080/"
        },
        "outputId": "101c20d7-8cec-43a1-b80b-a2831fa254cb"
      },
      "execution_count": 18,
      "outputs": [
        {
          "output_type": "execute_result",
          "data": {
            "text/plain": [
              "array([[2.9003581e-01, 8.4649034e-02, 1.7184047e-01, 2.5954592e-01,\n",
              "        1.0703116e-01, 8.6897559e-02],\n",
              "       [2.4615633e-03, 9.4826311e-02, 6.8058342e-02, 5.8161277e-01,\n",
              "        1.4504158e-02, 2.3853688e-01],\n",
              "       [1.4838606e-01, 1.5390700e-01, 1.4542286e-01, 3.1877825e-01,\n",
              "        5.8796410e-02, 1.7470944e-01],\n",
              "       ...,\n",
              "       [9.0341223e-03, 3.2415421e-05, 7.9727620e-02, 7.8418218e-03,\n",
              "        8.7987965e-01, 2.3484366e-02],\n",
              "       [2.2675178e-05, 2.4159241e-01, 6.4383948e-01, 2.0730775e-02,\n",
              "        2.0307774e-02, 7.3506795e-02],\n",
              "       [1.2179433e-03, 9.6418156e-04, 9.6567608e-02, 1.0374011e-01,\n",
              "        3.8540590e-01, 4.1210431e-01]], dtype=float32)"
            ]
          },
          "metadata": {},
          "execution_count": 18
        }
      ]
    },
    {
      "cell_type": "code",
      "source": [
        "y_test"
      ],
      "metadata": {
        "id": "cmA2bFgsDW3D",
        "colab": {
          "base_uri": "https://localhost:8080/"
        },
        "outputId": "98b82be6-061d-44d6-d76b-be052847fe91"
      },
      "execution_count": 19,
      "outputs": [
        {
          "output_type": "execute_result",
          "data": {
            "text/plain": [
              "array([3, 3, 3, 0, 4, 4, 1, 2, 5, 0, 5, 3, 2, 2, 1, 4, 4, 5, 2, 4, 1, 2,\n",
              "       3, 5, 4, 2, 1, 2, 2, 2, 2, 5, 2, 5, 3, 1, 2, 0, 4, 5, 2, 3, 2, 2,\n",
              "       5, 2, 0, 1, 3, 4, 4, 5, 1, 1, 4, 4, 5, 1, 1, 1, 0, 1, 5, 0, 4, 1,\n",
              "       1, 0, 1, 4, 1, 0, 4, 1, 3, 1, 2, 2, 1, 2, 3, 0, 5, 3, 5, 5, 2, 4,\n",
              "       5, 1, 5, 1, 5, 3, 4, 1, 4, 1, 5, 4, 5, 1, 2, 1, 1, 5, 1, 3, 2, 5,\n",
              "       2, 1, 3, 5, 4, 4, 0, 0, 3, 1, 2, 2, 3, 5, 1, 5, 3, 4, 2, 2, 0, 2,\n",
              "       2, 5, 5, 0, 3, 3, 2, 2, 0, 3, 4, 0, 4, 2, 4, 5, 4, 1, 5, 3, 2, 2,\n",
              "       5, 4, 3, 3, 4, 3, 3, 4, 1, 5, 2, 3, 2, 2, 0, 2, 1, 3, 1, 2, 2, 5,\n",
              "       5, 1, 4, 2, 2, 1, 1, 3, 3, 5, 5, 2, 5, 1, 5, 0, 3, 3, 0, 5, 1, 4,\n",
              "       1, 4, 2, 5, 5, 1, 4, 2, 4])"
            ]
          },
          "metadata": {},
          "execution_count": 19
        }
      ]
    },
    {
      "cell_type": "code",
      "source": [
        "new_Ytest = y_test.astype(int)"
      ],
      "metadata": {
        "id": "0PHDKWJWDY3g"
      },
      "execution_count": 20,
      "outputs": []
    },
    {
      "cell_type": "code",
      "source": [
        "new_Ytest"
      ],
      "metadata": {
        "id": "k68v2i-pDbZE",
        "colab": {
          "base_uri": "https://localhost:8080/"
        },
        "outputId": "d0927d93-ad09-4ffd-d0df-4cdc28be0c6b"
      },
      "execution_count": 21,
      "outputs": [
        {
          "output_type": "execute_result",
          "data": {
            "text/plain": [
              "array([3, 3, 3, 0, 4, 4, 1, 2, 5, 0, 5, 3, 2, 2, 1, 4, 4, 5, 2, 4, 1, 2,\n",
              "       3, 5, 4, 2, 1, 2, 2, 2, 2, 5, 2, 5, 3, 1, 2, 0, 4, 5, 2, 3, 2, 2,\n",
              "       5, 2, 0, 1, 3, 4, 4, 5, 1, 1, 4, 4, 5, 1, 1, 1, 0, 1, 5, 0, 4, 1,\n",
              "       1, 0, 1, 4, 1, 0, 4, 1, 3, 1, 2, 2, 1, 2, 3, 0, 5, 3, 5, 5, 2, 4,\n",
              "       5, 1, 5, 1, 5, 3, 4, 1, 4, 1, 5, 4, 5, 1, 2, 1, 1, 5, 1, 3, 2, 5,\n",
              "       2, 1, 3, 5, 4, 4, 0, 0, 3, 1, 2, 2, 3, 5, 1, 5, 3, 4, 2, 2, 0, 2,\n",
              "       2, 5, 5, 0, 3, 3, 2, 2, 0, 3, 4, 0, 4, 2, 4, 5, 4, 1, 5, 3, 2, 2,\n",
              "       5, 4, 3, 3, 4, 3, 3, 4, 1, 5, 2, 3, 2, 2, 0, 2, 1, 3, 1, 2, 2, 5,\n",
              "       5, 1, 4, 2, 2, 1, 1, 3, 3, 5, 5, 2, 5, 1, 5, 0, 3, 3, 0, 5, 1, 4,\n",
              "       1, 4, 2, 5, 5, 1, 4, 2, 4])"
            ]
          },
          "metadata": {},
          "execution_count": 21
        }
      ]
    },
    {
      "cell_type": "code",
      "source": [
        "preds1=predictions.argmax(axis=1)\n",
        "preds1"
      ],
      "metadata": {
        "id": "4_cAI39VFhtp",
        "colab": {
          "base_uri": "https://localhost:8080/"
        },
        "outputId": "dc671826-cf88-4dad-e6b5-4acbbe9ec379"
      },
      "execution_count": 22,
      "outputs": [
        {
          "output_type": "execute_result",
          "data": {
            "text/plain": [
              "array([0, 3, 3, 1, 4, 4, 1, 2, 4, 0, 4, 3, 1, 2, 0, 3, 2, 3, 2, 4, 1, 2,\n",
              "       2, 2, 4, 2, 1, 3, 4, 2, 2, 5, 2, 5, 3, 1, 2, 0, 4, 5, 2, 3, 2, 2,\n",
              "       3, 2, 3, 1, 3, 4, 4, 2, 1, 1, 4, 4, 2, 1, 1, 1, 3, 1, 4, 3, 4, 1,\n",
              "       1, 1, 1, 4, 0, 5, 4, 3, 3, 0, 2, 2, 1, 2, 1, 0, 5, 3, 5, 5, 2, 3,\n",
              "       3, 1, 0, 1, 4, 2, 2, 2, 3, 0, 5, 4, 5, 1, 5, 1, 1, 5, 1, 5, 2, 2,\n",
              "       0, 3, 3, 5, 4, 4, 3, 0, 3, 1, 1, 2, 3, 0, 1, 3, 3, 4, 2, 4, 1, 2,\n",
              "       2, 3, 5, 0, 3, 3, 2, 5, 0, 5, 4, 0, 4, 4, 0, 2, 4, 1, 5, 3, 2, 2,\n",
              "       5, 2, 5, 3, 4, 3, 3, 4, 1, 5, 2, 5, 2, 2, 0, 2, 1, 2, 1, 2, 4, 5,\n",
              "       5, 1, 4, 2, 4, 1, 1, 2, 3, 5, 5, 2, 5, 1, 5, 1, 3, 3, 3, 5, 1, 4,\n",
              "       1, 4, 1, 5, 4, 1, 4, 2, 5])"
            ]
          },
          "metadata": {},
          "execution_count": 22
        }
      ]
    },
    {
      "cell_type": "code",
      "source": [
        "abc = preds1.astype(int).flatten()"
      ],
      "metadata": {
        "id": "H4WEmM60NfQn"
      },
      "execution_count": 23,
      "outputs": []
    },
    {
      "cell_type": "code",
      "source": [
        "from sklearn.metrics import confusion_matrix\n",
        "c = confusion_matrix(new_Ytest, abc) \n",
        "c"
      ],
      "metadata": {
        "id": "bKEBeEBlFjB8",
        "colab": {
          "base_uri": "https://localhost:8080/"
        },
        "outputId": "bd914486-0ee2-4901-e432-309114465055"
      },
      "execution_count": 24,
      "outputs": [
        {
          "output_type": "execute_result",
          "data": {
            "text/plain": [
              "array([[ 8,  4,  0,  5,  0,  1],\n",
              "       [ 4, 34,  1,  2,  0,  0],\n",
              "       [ 1,  3, 33,  1,  5,  2],\n",
              "       [ 1,  1,  4, 21,  0,  4],\n",
              "       [ 1,  0,  3,  3, 25,  1],\n",
              "       [ 2,  0,  5,  5,  5, 22]])"
            ]
          },
          "metadata": {},
          "execution_count": 24
        }
      ]
    },
    {
      "cell_type": "code",
      "source": [
        "y_test"
      ],
      "metadata": {
        "id": "m4RjG7LWLSQx",
        "colab": {
          "base_uri": "https://localhost:8080/"
        },
        "outputId": "896d391a-fc78-441b-83ca-776008559df3"
      },
      "execution_count": 25,
      "outputs": [
        {
          "output_type": "execute_result",
          "data": {
            "text/plain": [
              "array([3, 3, 3, 0, 4, 4, 1, 2, 5, 0, 5, 3, 2, 2, 1, 4, 4, 5, 2, 4, 1, 2,\n",
              "       3, 5, 4, 2, 1, 2, 2, 2, 2, 5, 2, 5, 3, 1, 2, 0, 4, 5, 2, 3, 2, 2,\n",
              "       5, 2, 0, 1, 3, 4, 4, 5, 1, 1, 4, 4, 5, 1, 1, 1, 0, 1, 5, 0, 4, 1,\n",
              "       1, 0, 1, 4, 1, 0, 4, 1, 3, 1, 2, 2, 1, 2, 3, 0, 5, 3, 5, 5, 2, 4,\n",
              "       5, 1, 5, 1, 5, 3, 4, 1, 4, 1, 5, 4, 5, 1, 2, 1, 1, 5, 1, 3, 2, 5,\n",
              "       2, 1, 3, 5, 4, 4, 0, 0, 3, 1, 2, 2, 3, 5, 1, 5, 3, 4, 2, 2, 0, 2,\n",
              "       2, 5, 5, 0, 3, 3, 2, 2, 0, 3, 4, 0, 4, 2, 4, 5, 4, 1, 5, 3, 2, 2,\n",
              "       5, 4, 3, 3, 4, 3, 3, 4, 1, 5, 2, 3, 2, 2, 0, 2, 1, 3, 1, 2, 2, 5,\n",
              "       5, 1, 4, 2, 2, 1, 1, 3, 3, 5, 5, 2, 5, 1, 5, 0, 3, 3, 0, 5, 1, 4,\n",
              "       1, 4, 2, 5, 5, 1, 4, 2, 4])"
            ]
          },
          "metadata": {},
          "execution_count": 25
        }
      ]
    },
    {
      "cell_type": "code",
      "source": [
        "loss, acc =model.evaluate(x_testcnn, y_test)\n",
        "print(\"Restored model, accuracy: {:5.2f}%\".format(100*acc))"
      ],
      "metadata": {
        "id": "n3kzoqPkDqqS",
        "colab": {
          "base_uri": "https://localhost:8080/"
        },
        "outputId": "3b81ed86-7bb1-493d-a747-3e7d58252e09"
      },
      "execution_count": 26,
      "outputs": [
        {
          "output_type": "stream",
          "name": "stdout",
          "text": [
            "7/7 [==============================] - 0s 5ms/step - loss: 0.8452 - accuracy: 0.6908\n",
            "Restored model, accuracy: 69.08%\n"
          ]
        }
      ]
    },
    {
      "cell_type": "code",
      "source": [
        "loss, acc =model.evaluate(X_train, y_train)\n",
        "print(\"Restored model train, accuracy: {:5.2f}%\".format(100*acc))"
      ],
      "metadata": {
        "id": "fJDTGH_OUX0z",
        "colab": {
          "base_uri": "https://localhost:8080/"
        },
        "outputId": "6c7b65c7-2735-462f-b108-dccfb0c6117a"
      },
      "execution_count": 27,
      "outputs": [
        {
          "output_type": "stream",
          "name": "stdout",
          "text": [
            "52/52 [==============================] - 0s 6ms/step - loss: 0.5501 - accuracy: 0.8634\n",
            "Restored model train, accuracy: 86.34%\n"
          ]
        }
      ]
    },
    {
      "cell_type": "code",
      "source": [
        "from sklearn.metrics import classification_report, confusion_matrix,accuracy_score\n",
        "import seaborn as sn\n",
        "\n",
        "print(classification_report(new_Ytest,abc))\n",
        "\n",
        "acc = float(accuracy_score(new_Ytest,abc))*100\n",
        "print(\"----accuracy score %s ----\" % acc)\n",
        "\n",
        "cm = confusion_matrix(new_Ytest,abc)\n",
        "#df_cm = pd.DataFrame(cm)\n",
        "class_names = ['neutral','calm', 'happy','sad','angry', 'fearful' ]\n",
        "df_cm = pd.DataFrame(cm, index=class_names, columns=class_names,)\n",
        "sn.heatmap(df_cm, annot=True, fmt='')\n",
        "plt.show()"
      ],
      "metadata": {
        "id": "SfSC3El94LZg",
        "colab": {
          "base_uri": "https://localhost:8080/",
          "height": 522
        },
        "outputId": "4319f338-53f3-4afd-ddd7-769537b840db"
      },
      "execution_count": 28,
      "outputs": [
        {
          "output_type": "stream",
          "name": "stdout",
          "text": [
            "              precision    recall  f1-score   support\n",
            "\n",
            "           0       0.47      0.44      0.46        18\n",
            "           1       0.81      0.83      0.82        41\n",
            "           2       0.72      0.73      0.73        45\n",
            "           3       0.57      0.68      0.62        31\n",
            "           4       0.71      0.76      0.74        33\n",
            "           5       0.73      0.56      0.64        39\n",
            "\n",
            "    accuracy                           0.69       207\n",
            "   macro avg       0.67      0.67      0.67       207\n",
            "weighted avg       0.69      0.69      0.69       207\n",
            "\n",
            "----accuracy score 69.08212560386472 ----\n"
          ]
        },
        {
          "output_type": "display_data",
          "data": {
            "text/plain": [
              "<Figure size 432x288 with 2 Axes>"
            ],
            "image/png": "[encoded data removed]"
          },
          "metadata": {
            "needs_background": "light"
          }
        }
      ]
    }
  ]
}