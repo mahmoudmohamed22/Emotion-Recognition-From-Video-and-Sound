{
  "nbformat": 4,
  "nbformat_minor": 0,
  "metadata": {
    "colab": {
      "name": "video_emotion_recognition_change_dropout_3.ipynb",
      "provenance": [],
      "collapsed_sections": [],
      "machine_shape": "hm"
    },
    "kernelspec": {
      "name": "python3",
      "display_name": "Python 3"
    },
    "accelerator": "GPU"
  },
  "cells": [
    {
      "cell_type": "code",
      "source": [
        "from google.colab import drive\n",
        "drive.mount('/content/drive')"
      ],
      "metadata": {
        "colab": {
          "base_uri": "https://localhost:8080/"
        },
        "id": "o94I67GBPVfM",
        "outputId": "6d7f9d6b-b5ac-4df8-e696-5b6ef1817863"
      },
      "execution_count": 6,
      "outputs": [
        {
          "output_type": "stream",
          "name": "stdout",
          "text": [
            "Mounted at /content/drive\n"
          ]
        }
      ]
    },
    {
      "cell_type": "code",
      "source": [
        "# Discard the output of this cell.\n",
        "#%%capture\n",
        "\n",
        "# Install the required libraries.\n",
        "!pip install tensorflow opencv-contrib-python youtube-dl moviepy pydot\n",
        "!pip install git+https://github.com/TahaAnwar/pafy.git#egg=pafy"
      ],
      "metadata": {
        "colab": {
          "base_uri": "https://localhost:8080/"
        },
        "id": "6OQ7vRnzP6n8",
        "outputId": "a0135809-9475-4d67-9e18-ae44f5fb41aa"
      },
      "execution_count": 1,
      "outputs": [
        {
          "output_type": "stream",
          "name": "stdout",
          "text": [
            "Looking in indexes: https://pypi.org/simple, https://us-python.pkg.dev/colab-wheels/public/simple/\n",
            "Requirement already satisfied: tensorflow in /usr/local/lib/python3.7/dist-packages (2.8.2+zzzcolab20220527125636)\n",
            "Requirement already satisfied: opencv-contrib-python in /usr/local/lib/python3.7/dist-packages (4.1.2.30)\n",
            "Requirement already satisfied: youtube-dl in /usr/local/lib/python3.7/dist-packages (2021.12.17)\n",
            "Requirement already satisfied: moviepy in /usr/local/lib/python3.7/dist-packages (0.2.3.5)\n",
            "Requirement already satisfied: pydot in /usr/local/lib/python3.7/dist-packages (1.3.0)\n",
            "Requirement already satisfied: google-pasta>=0.1.1 in /usr/local/lib/python3.7/dist-packages (from tensorflow) (0.2.0)\n",
            "Requirement already satisfied: six>=1.12.0 in /usr/local/lib/python3.7/dist-packages (from tensorflow) (1.15.0)\n",
            "Requirement already satisfied: numpy>=1.20 in /usr/local/lib/python3.7/dist-packages (from tensorflow) (1.21.6)\n",
            "Requirement already satisfied: libclang>=9.0.1 in /usr/local/lib/python3.7/dist-packages (from tensorflow) (14.0.1)\n",
            "Requirement already satisfied: typing-extensions>=3.6.6 in /usr/local/lib/python3.7/dist-packages (from tensorflow) (4.2.0)\n",
            "Requirement already satisfied: protobuf<3.20,>=3.9.2 in /usr/local/lib/python3.7/dist-packages (from tensorflow) (3.17.3)\n",
            "Requirement already satisfied: tensorflow-estimator<2.9,>=2.8 in /usr/local/lib/python3.7/dist-packages (from tensorflow) (2.8.0)\n",
            "Requirement already satisfied: setuptools in /usr/local/lib/python3.7/dist-packages (from tensorflow) (57.4.0)\n",
            "Requirement already satisfied: wrapt>=1.11.0 in /usr/local/lib/python3.7/dist-packages (from tensorflow) (1.14.1)\n",
            "Requirement already satisfied: astunparse>=1.6.0 in /usr/local/lib/python3.7/dist-packages (from tensorflow) (1.6.3)\n",
            "Requirement already satisfied: grpcio<2.0,>=1.24.3 in /usr/local/lib/python3.7/dist-packages (from tensorflow) (1.46.3)\n",
            "Requirement already satisfied: keras<2.9,>=2.8.0rc0 in /usr/local/lib/python3.7/dist-packages (from tensorflow) (2.8.0)\n",
            "Requirement already satisfied: termcolor>=1.1.0 in /usr/local/lib/python3.7/dist-packages (from tensorflow) (1.1.0)\n",
            "Requirement already satisfied: keras-preprocessing>=1.1.1 in /usr/local/lib/python3.7/dist-packages (from tensorflow) (1.1.2)\n",
            "Requirement already satisfied: h5py>=2.9.0 in /usr/local/lib/python3.7/dist-packages (from tensorflow) (3.1.0)\n",
            "Requirement already satisfied: absl-py>=0.4.0 in /usr/local/lib/python3.7/dist-packages (from tensorflow) (1.0.0)\n",
            "Requirement already satisfied: tensorflow-io-gcs-filesystem>=0.23.1 in /usr/local/lib/python3.7/dist-packages (from tensorflow) (0.26.0)\n",
            "Requirement already satisfied: opt-einsum>=2.3.2 in /usr/local/lib/python3.7/dist-packages (from tensorflow) (3.3.0)\n",
            "Requirement already satisfied: flatbuffers>=1.12 in /usr/local/lib/python3.7/dist-packages (from tensorflow) (2.0)\n",
            "Requirement already satisfied: gast>=0.2.1 in /usr/local/lib/python3.7/dist-packages (from tensorflow) (0.5.3)\n",
            "Requirement already satisfied: tensorboard<2.9,>=2.8 in /usr/local/lib/python3.7/dist-packages (from tensorflow) (2.8.0)\n",
            "Requirement already satisfied: wheel<1.0,>=0.23.0 in /usr/local/lib/python3.7/dist-packages (from astunparse>=1.6.0->tensorflow) (0.37.1)\n",
            "Requirement already satisfied: cached-property in /usr/local/lib/python3.7/dist-packages (from h5py>=2.9.0->tensorflow) (1.5.2)\n",
            "Requirement already satisfied: werkzeug>=0.11.15 in /usr/local/lib/python3.7/dist-packages (from tensorboard<2.9,>=2.8->tensorflow) (1.0.1)\n",
            "Requirement already satisfied: tensorboard-plugin-wit>=1.6.0 in /usr/local/lib/python3.7/dist-packages (from tensorboard<2.9,>=2.8->tensorflow) (1.8.1)\n",
            "Requirement already satisfied: markdown>=2.6.8 in /usr/local/lib/python3.7/dist-packages (from tensorboard<2.9,>=2.8->tensorflow) (3.3.7)\n",
            "Requirement already satisfied: tensorboard-data-server<0.7.0,>=0.6.0 in /usr/local/lib/python3.7/dist-packages (from tensorboard<2.9,>=2.8->tensorflow) (0.6.1)\n",
            "Requirement already satisfied: google-auth<3,>=1.6.3 in /usr/local/lib/python3.7/dist-packages (from tensorboard<2.9,>=2.8->tensorflow) (1.35.0)\n",
            "Requirement already satisfied: requests<3,>=2.21.0 in /usr/local/lib/python3.7/dist-packages (from tensorboard<2.9,>=2.8->tensorflow) (2.23.0)\n",
            "Requirement already satisfied: google-auth-oauthlib<0.5,>=0.4.1 in /usr/local/lib/python3.7/dist-packages (from tensorboard<2.9,>=2.8->tensorflow) (0.4.6)\n",
            "Requirement already satisfied: cachetools<5.0,>=2.0.0 in /usr/local/lib/python3.7/dist-packages (from google-auth<3,>=1.6.3->tensorboard<2.9,>=2.8->tensorflow) (4.2.4)\n",
            "Requirement already satisfied: rsa<5,>=3.1.4 in /usr/local/lib/python3.7/dist-packages (from google-auth<3,>=1.6.3->tensorboard<2.9,>=2.8->tensorflow) (4.8)\n",
            "Requirement already satisfied: pyasn1-modules>=0.2.1 in /usr/local/lib/python3.7/dist-packages (from google-auth<3,>=1.6.3->tensorboard<2.9,>=2.8->tensorflow) (0.2.8)\n",
            "Requirement already satisfied: requests-oauthlib>=0.7.0 in /usr/local/lib/python3.7/dist-packages (from google-auth-oauthlib<0.5,>=0.4.1->tensorboard<2.9,>=2.8->tensorflow) (1.3.1)\n",
            "Requirement already satisfied: importlib-metadata>=4.4 in /usr/local/lib/python3.7/dist-packages (from markdown>=2.6.8->tensorboard<2.9,>=2.8->tensorflow) (4.11.4)\n",
            "Requirement already satisfied: zipp>=0.5 in /usr/local/lib/python3.7/dist-packages (from importlib-metadata>=4.4->markdown>=2.6.8->tensorboard<2.9,>=2.8->tensorflow) (3.8.0)\n",
            "Requirement already satisfied: pyasn1<0.5.0,>=0.4.6 in /usr/local/lib/python3.7/dist-packages (from pyasn1-modules>=0.2.1->google-auth<3,>=1.6.3->tensorboard<2.9,>=2.8->tensorflow) (0.4.8)\n",
            "Requirement already satisfied: chardet<4,>=3.0.2 in /usr/local/lib/python3.7/dist-packages (from requests<3,>=2.21.0->tensorboard<2.9,>=2.8->tensorflow) (3.0.4)\n",
            "Requirement already satisfied: certifi>=2017.4.17 in /usr/local/lib/python3.7/dist-packages (from requests<3,>=2.21.0->tensorboard<2.9,>=2.8->tensorflow) (2022.5.18.1)\n",
            "Requirement already satisfied: idna<3,>=2.5 in /usr/local/lib/python3.7/dist-packages (from requests<3,>=2.21.0->tensorboard<2.9,>=2.8->tensorflow) (2.10)\n",
            "Requirement already satisfied: urllib3!=1.25.0,!=1.25.1,<1.26,>=1.21.1 in /usr/local/lib/python3.7/dist-packages (from requests<3,>=2.21.0->tensorboard<2.9,>=2.8->tensorflow) (1.24.3)\n",
            "Requirement already satisfied: oauthlib>=3.0.0 in /usr/local/lib/python3.7/dist-packages (from requests-oauthlib>=0.7.0->google-auth-oauthlib<0.5,>=0.4.1->tensorboard<2.9,>=2.8->tensorflow) (3.2.0)\n",
            "Requirement already satisfied: imageio<3.0,>=2.1.2 in /usr/local/lib/python3.7/dist-packages (from moviepy) (2.4.1)\n",
            "Requirement already satisfied: tqdm<5.0,>=4.11.2 in /usr/local/lib/python3.7/dist-packages (from moviepy) (4.64.0)\n",
            "Requirement already satisfied: decorator<5.0,>=4.0.2 in /usr/local/lib/python3.7/dist-packages (from moviepy) (4.4.2)\n",
            "Requirement already satisfied: pillow in /usr/local/lib/python3.7/dist-packages (from imageio<3.0,>=2.1.2->moviepy) (7.1.2)\n",
            "Requirement already satisfied: pyparsing>=2.1.4 in /usr/local/lib/python3.7/dist-packages (from pydot) (3.0.9)\n",
            "Looking in indexes: https://pypi.org/simple, https://us-python.pkg.dev/colab-wheels/public/simple/\n",
            "Collecting pafy\n",
            "  Cloning https://github.com/TahaAnwar/pafy.git to /tmp/pip-install-oouz37ie/pafy_77afdcf23e834b46954de4373517fa08\n",
            "  Running command git clone -q https://github.com/TahaAnwar/pafy.git /tmp/pip-install-oouz37ie/pafy_77afdcf23e834b46954de4373517fa08\n"
          ]
        }
      ]
    },
    {
      "cell_type": "code",
      "source": [
        "# Import the required libraries.\n",
        "import os\n",
        "import cv2\n",
        "import pafy\n",
        "import math\n",
        "import random\n",
        "import numpy as np\n",
        "import datetime as dt\n",
        "import tensorflow as tf\n",
        "from collections import deque\n",
        "import matplotlib.pyplot as plt\n",
        "\n",
        "from moviepy.editor import *\n",
        "%matplotlib inline\n",
        "\n",
        "from sklearn.model_selection import train_test_split\n",
        "\n",
        "from tensorflow.keras.layers import *\n",
        "from tensorflow.keras.models import Sequential\n",
        "from tensorflow.keras.utils import to_categorical\n",
        "from tensorflow.keras.callbacks import EarlyStopping\n",
        "from tensorflow.keras.utils import plot_model"
      ],
      "metadata": {
        "id": "LiLwshTpP-OB"
      },
      "execution_count": 2,
      "outputs": []
    },
    {
      "cell_type": "code",
      "source": [
        "seed_constant = 27\n",
        "np.random.seed(seed_constant)\n",
        "random.seed(seed_constant)\n",
        "tf.random.set_seed(seed_constant)"
      ],
      "metadata": {
        "id": "u4EtD4rrQEnb"
      },
      "execution_count": 3,
      "outputs": []
    },
    {
      "cell_type": "code",
      "source": [
        "# Specify the height and width to which each video frame will be resized in our dataset.\n",
        "IMAGE_HEIGHT , IMAGE_WIDTH = 64, 64\n",
        "\n",
        "# Specify the number of frames of a video that will be fed to the model as one sequence.\n",
        "SEQUENCE_LENGTH = 30\n",
        "\n",
        "# Specify the directory containing the UCF50 dataset. \n",
        "#DATASET_DIR = \"/content/drive/MyDrive/videospeech_label\"\n",
        "\n",
        "# Specify the list containing the names of the classes used for training. Feel free to choose any set of classes.\n",
        "CLASSES_LIST = [\"neutral\", \"calm\", \"happy\", \"sad\",\"angry\",\"fearful\"]"
      ],
      "metadata": {
        "id": "7H6KBiblQKE9"
      },
      "execution_count": 4,
      "outputs": []
    },
    {
      "cell_type": "code",
      "source": [
        "import joblib\n",
        "features=joblib.load('/content/drive/My Drive/features_ravdess/original_data_set/features_data')\n",
        "labels=joblib.load('/content/drive/My Drive/features_ravdess/original_data_set/labels')\n",
        "video_file_path=joblib.load('/content/drive/My Drive/features_ravdess/original_data_set/video_path')"
      ],
      "metadata": {
        "id": "V_rh-id5cmwd"
      },
      "execution_count": 5,
      "outputs": []
    },
    {
      "cell_type": "code",
      "source": [
        "features = np.asarray(features)\n",
        "labels = np.array(labels)  "
      ],
      "metadata": {
        "id": "WI3wNd7zdKzJ"
      },
      "execution_count": 6,
      "outputs": []
    },
    {
      "cell_type": "code",
      "source": [
        "features.shape"
      ],
      "metadata": {
        "colab": {
          "base_uri": "https://localhost:8080/"
        },
        "id": "pnnmkPz5Qh75",
        "outputId": "a771b29d-4162-45b2-c831-7dccf9a50542"
      },
      "execution_count": 7,
      "outputs": [
        {
          "output_type": "execute_result",
          "data": {
            "text/plain": [
              "(2068, 30, 64, 64, 3)"
            ]
          },
          "metadata": {},
          "execution_count": 7
        }
      ]
    },
    {
      "cell_type": "code",
      "source": [
        "labels.shape"
      ],
      "metadata": {
        "colab": {
          "base_uri": "https://localhost:8080/"
        },
        "id": "kSGvdE_hQklC",
        "outputId": "7e675790-1f6b-4a0b-aca2-b9bca0d18a1c"
      },
      "execution_count": 8,
      "outputs": [
        {
          "output_type": "execute_result",
          "data": {
            "text/plain": [
              "(2068,)"
            ]
          },
          "metadata": {},
          "execution_count": 8
        }
      ]
    },
    {
      "cell_type": "code",
      "source": [
        "# Using Keras's to_categorical method to convert labels into one-hot-encoded vectors\n",
        "one_hot_encoded_labels = to_categorical(labels)"
      ],
      "metadata": {
        "id": "DGicVwcRQn9x"
      },
      "execution_count": 9,
      "outputs": []
    },
    {
      "cell_type": "code",
      "source": [
        "# Split the Data into Train ( 80% ) and Test Set ( 20% ).\n",
        "features_train, features_test, labels_train, labels_test = train_test_split(features, one_hot_encoded_labels,\n",
        "                                                                            test_size = 0.10, shuffle = True,\n",
        "                                                                            random_state = seed_constant)"
      ],
      "metadata": {
        "id": "pysOwWbgQrBv"
      },
      "execution_count": 10,
      "outputs": []
    },
    {
      "cell_type": "code",
      "source": [
        "def create_LRCN_model():\n",
        "    '''\n",
        "    This function will construct the required LRCN model.\n",
        "    Returns:\n",
        "        model: It is the required constructed LRCN model.\n",
        "    '''\n",
        "\n",
        "    # We will use a Sequential model for model construction.\n",
        "    model = Sequential()\n",
        "    \n",
        "    # Define the Model Architecture.\n",
        "    ########################################################################################################################\n",
        "    \n",
        "    model.add(TimeDistributed(Conv2D(16, (3, 3), padding='same',activation = 'relu'),\n",
        "                              input_shape = (SEQUENCE_LENGTH, IMAGE_HEIGHT, IMAGE_WIDTH, 3)))\n",
        "    \n",
        "    model.add(TimeDistributed(MaxPooling2D((4, 4)))) \n",
        "    model.add(TimeDistributed(Dropout(0.1)))\n",
        "    \n",
        "    model.add(TimeDistributed(Conv2D(32, (3, 3), padding='same',activation = 'relu')))\n",
        "    model.add(TimeDistributed(MaxPooling2D((4, 4))))\n",
        "    model.add(TimeDistributed(Dropout(0.2)))\n",
        "    \n",
        "    model.add(TimeDistributed(Conv2D(64, (3, 3), padding='same',activation = 'relu')))\n",
        "    model.add(TimeDistributed(MaxPooling2D((2, 2))))\n",
        "    model.add(TimeDistributed(Dropout(0.3)))\n",
        "    \n",
        "    model.add(TimeDistributed(Conv2D(64, (3, 3), padding='same',activation = 'relu')))\n",
        "    model.add(TimeDistributed(MaxPooling2D((2, 2))))\n",
        "    #model.add(TimeDistributed(Dropout(0.25)))\n",
        "                                      \n",
        "    model.add(TimeDistributed(Flatten()))\n",
        "                                      \n",
        "    model.add(LSTM(32))\n",
        "                                      \n",
        "    model.add(Dense(len(CLASSES_LIST), activation = 'softmax'))\n",
        "\n",
        "    ########################################################################################################################\n",
        "\n",
        "    # Display the models summary.\n",
        "    model.summary()\n",
        "    \n",
        "    # Return the constructed LRCN model.\n",
        "    return model"
      ],
      "metadata": {
        "id": "01zL-4EVQt3J"
      },
      "execution_count": 11,
      "outputs": []
    },
    {
      "cell_type": "code",
      "source": [
        "# Construct the required LRCN model.\n",
        "LRCN_model = create_LRCN_model()\n",
        "\n",
        "# Display the success message.\n",
        "print(\"Model Created Successfully!\")"
      ],
      "metadata": {
        "colab": {
          "base_uri": "https://localhost:8080/"
        },
        "id": "sFdjcb8zQxX4",
        "outputId": "9d9fff34-9245-48fd-966a-d097538a71df"
      },
      "execution_count": 12,
      "outputs": [
        {
          "output_type": "stream",
          "name": "stdout",
          "text": [
            "Model: \"sequential\"\n",
            "_________________________________________________________________\n",
            " Layer (type)                Output Shape              Param #   \n",
            "=================================================================\n",
            " time_distributed (TimeDistr  (None, 30, 64, 64, 16)   448       \n",
            " ibuted)                                                         \n",
            "                                                                 \n",
            " time_distributed_1 (TimeDis  (None, 30, 16, 16, 16)   0         \n",
            " tributed)                                                       \n",
            "                                                                 \n",
            " time_distributed_2 (TimeDis  (None, 30, 16, 16, 16)   0         \n",
            " tributed)                                                       \n",
            "                                                                 \n",
            " time_distributed_3 (TimeDis  (None, 30, 16, 16, 32)   4640      \n",
            " tributed)                                                       \n",
            "                                                                 \n",
            " time_distributed_4 (TimeDis  (None, 30, 4, 4, 32)     0         \n",
            " tributed)                                                       \n",
            "                                                                 \n",
            " time_distributed_5 (TimeDis  (None, 30, 4, 4, 32)     0         \n",
            " tributed)                                                       \n",
            "                                                                 \n",
            " time_distributed_6 (TimeDis  (None, 30, 4, 4, 64)     18496     \n",
            " tributed)                                                       \n",
            "                                                                 \n",
            " time_distributed_7 (TimeDis  (None, 30, 2, 2, 64)     0         \n",
            " tributed)                                                       \n",
            "                                                                 \n",
            " time_distributed_8 (TimeDis  (None, 30, 2, 2, 64)     0         \n",
            " tributed)                                                       \n",
            "                                                                 \n",
            " time_distributed_9 (TimeDis  (None, 30, 2, 2, 64)     36928     \n",
            " tributed)                                                       \n",
            "                                                                 \n",
            " time_distributed_10 (TimeDi  (None, 30, 1, 1, 64)     0         \n",
            " stributed)                                                      \n",
            "                                                                 \n",
            " time_distributed_11 (TimeDi  (None, 30, 64)           0         \n",
            " stributed)                                                      \n",
            "                                                                 \n",
            " lstm (LSTM)                 (None, 32)                12416     \n",
            "                                                                 \n",
            " dense (Dense)               (None, 6)                 198       \n",
            "                                                                 \n",
            "=================================================================\n",
            "Total params: 73,126\n",
            "Trainable params: 73,126\n",
            "Non-trainable params: 0\n",
            "_________________________________________________________________\n",
            "Model Created Successfully!\n"
          ]
        }
      ]
    },
    {
      "cell_type": "code",
      "source": [
        "# Create an Instance of Early Stopping Callback.\n",
        "early_stopping_callback = EarlyStopping(monitor = 'val_loss', patience = 25, mode = 'min', restore_best_weights = True)\n",
        " \n",
        "# Compile the model and specify loss function, optimizer and metrics to the model.\n",
        "LRCN_model.compile(loss = 'categorical_crossentropy', optimizer = 'Adam', metrics = [\"accuracy\"])\n",
        "\n",
        "# Start training the model.\n",
        "LRCN_model_training_history = LRCN_model.fit(x = features_train, y = labels_train, epochs = 100, batch_size = 4 ,\n",
        "                                             shuffle = True, validation_split = 0.1, callbacks = [early_stopping_callback])"
      ],
      "metadata": {
        "colab": {
          "base_uri": "https://localhost:8080/"
        },
        "id": "cVmXzItZQ4-r",
        "outputId": "cc16c2e0-472c-46ad-9d50-d8e7238df2d9"
      },
      "execution_count": 13,
      "outputs": [
        {
          "output_type": "stream",
          "name": "stdout",
          "text": [
            "Epoch 1/100\n",
            "419/419 [==============================] - 20s 14ms/step - loss: 1.7788 - accuracy: 0.1900 - val_loss: 1.7787 - val_accuracy: 0.1390\n",
            "Epoch 2/100\n",
            "419/419 [==============================] - 5s 11ms/step - loss: 1.7722 - accuracy: 0.1691 - val_loss: 1.7774 - val_accuracy: 0.1390\n",
            "Epoch 3/100\n",
            "419/419 [==============================] - 5s 11ms/step - loss: 1.7671 - accuracy: 0.1792 - val_loss: 1.7807 - val_accuracy: 0.1390\n",
            "Epoch 4/100\n",
            "419/419 [==============================] - 5s 11ms/step - loss: 1.7696 - accuracy: 0.1870 - val_loss: 1.7774 - val_accuracy: 0.1711\n",
            "Epoch 5/100\n",
            "419/419 [==============================] - 5s 11ms/step - loss: 1.7680 - accuracy: 0.1625 - val_loss: 1.7757 - val_accuracy: 0.1711\n",
            "Epoch 6/100\n",
            "419/419 [==============================] - 4s 11ms/step - loss: 1.7653 - accuracy: 0.1953 - val_loss: 1.7622 - val_accuracy: 0.2620\n",
            "Epoch 7/100\n",
            "419/419 [==============================] - 4s 11ms/step - loss: 1.7226 - accuracy: 0.2509 - val_loss: 1.6586 - val_accuracy: 0.2406\n",
            "Epoch 8/100\n",
            "419/419 [==============================] - 4s 11ms/step - loss: 1.6238 - accuracy: 0.2963 - val_loss: 1.6322 - val_accuracy: 0.2995\n",
            "Epoch 9/100\n",
            "419/419 [==============================] - 4s 11ms/step - loss: 1.5014 - accuracy: 0.3686 - val_loss: 1.4654 - val_accuracy: 0.3529\n",
            "Epoch 10/100\n",
            "419/419 [==============================] - 4s 11ms/step - loss: 1.4274 - accuracy: 0.3865 - val_loss: 1.4624 - val_accuracy: 0.3422\n",
            "Epoch 11/100\n",
            "419/419 [==============================] - 4s 11ms/step - loss: 1.3639 - accuracy: 0.4176 - val_loss: 1.4006 - val_accuracy: 0.3904\n",
            "Epoch 12/100\n",
            "419/419 [==============================] - 4s 11ms/step - loss: 1.3205 - accuracy: 0.4176 - val_loss: 1.3377 - val_accuracy: 0.4439\n",
            "Epoch 13/100\n",
            "419/419 [==============================] - 4s 11ms/step - loss: 1.2585 - accuracy: 0.4421 - val_loss: 1.3168 - val_accuracy: 0.4332\n",
            "Epoch 14/100\n",
            "419/419 [==============================] - 4s 11ms/step - loss: 1.2247 - accuracy: 0.4677 - val_loss: 1.3432 - val_accuracy: 0.4332\n",
            "Epoch 15/100\n",
            "419/419 [==============================] - 4s 11ms/step - loss: 1.1910 - accuracy: 0.4815 - val_loss: 1.2313 - val_accuracy: 0.4652\n",
            "Epoch 16/100\n",
            "419/419 [==============================] - 4s 11ms/step - loss: 1.1696 - accuracy: 0.5042 - val_loss: 1.2668 - val_accuracy: 0.4813\n",
            "Epoch 17/100\n",
            "419/419 [==============================] - 4s 11ms/step - loss: 1.1243 - accuracy: 0.5281 - val_loss: 1.2258 - val_accuracy: 0.5027\n",
            "Epoch 18/100\n",
            "419/419 [==============================] - 4s 11ms/step - loss: 1.1063 - accuracy: 0.5287 - val_loss: 1.1428 - val_accuracy: 0.5348\n",
            "Epoch 19/100\n",
            "419/419 [==============================] - 5s 11ms/step - loss: 1.0622 - accuracy: 0.5621 - val_loss: 1.1734 - val_accuracy: 0.5668\n",
            "Epoch 20/100\n",
            "419/419 [==============================] - 4s 11ms/step - loss: 1.0205 - accuracy: 0.5735 - val_loss: 1.0915 - val_accuracy: 0.5401\n",
            "Epoch 21/100\n",
            "419/419 [==============================] - 4s 11ms/step - loss: 0.9745 - accuracy: 0.6099 - val_loss: 1.0420 - val_accuracy: 0.5829\n",
            "Epoch 22/100\n",
            "419/419 [==============================] - 4s 11ms/step - loss: 0.9356 - accuracy: 0.6225 - val_loss: 1.0038 - val_accuracy: 0.5829\n",
            "Epoch 23/100\n",
            "419/419 [==============================] - 4s 11ms/step - loss: 0.8578 - accuracy: 0.6434 - val_loss: 0.9405 - val_accuracy: 0.6043\n",
            "Epoch 24/100\n",
            "419/419 [==============================] - 4s 11ms/step - loss: 0.7957 - accuracy: 0.6852 - val_loss: 0.9321 - val_accuracy: 0.6310\n",
            "Epoch 25/100\n",
            "419/419 [==============================] - 4s 11ms/step - loss: 0.7623 - accuracy: 0.7109 - val_loss: 0.9780 - val_accuracy: 0.5882\n",
            "Epoch 26/100\n",
            "419/419 [==============================] - 4s 11ms/step - loss: 0.7482 - accuracy: 0.7055 - val_loss: 0.8040 - val_accuracy: 0.7166\n",
            "Epoch 27/100\n",
            "419/419 [==============================] - 4s 11ms/step - loss: 0.6952 - accuracy: 0.7282 - val_loss: 0.9092 - val_accuracy: 0.6471\n",
            "Epoch 28/100\n",
            "419/419 [==============================] - 4s 11ms/step - loss: 0.7010 - accuracy: 0.7276 - val_loss: 0.8275 - val_accuracy: 0.7059\n",
            "Epoch 29/100\n",
            "419/419 [==============================] - 5s 11ms/step - loss: 0.6307 - accuracy: 0.7479 - val_loss: 0.7975 - val_accuracy: 0.6684\n",
            "Epoch 30/100\n",
            "419/419 [==============================] - 4s 11ms/step - loss: 0.6262 - accuracy: 0.7509 - val_loss: 0.7434 - val_accuracy: 0.7059\n",
            "Epoch 31/100\n",
            "419/419 [==============================] - 5s 11ms/step - loss: 0.5696 - accuracy: 0.7921 - val_loss: 0.7928 - val_accuracy: 0.6952\n",
            "Epoch 32/100\n",
            "419/419 [==============================] - 4s 11ms/step - loss: 0.5573 - accuracy: 0.7951 - val_loss: 0.7818 - val_accuracy: 0.7059\n",
            "Epoch 33/100\n",
            "419/419 [==============================] - 4s 11ms/step - loss: 0.5605 - accuracy: 0.7909 - val_loss: 0.7730 - val_accuracy: 0.7273\n",
            "Epoch 34/100\n",
            "419/419 [==============================] - 4s 11ms/step - loss: 0.5056 - accuracy: 0.8053 - val_loss: 0.7275 - val_accuracy: 0.7326\n",
            "Epoch 35/100\n",
            "419/419 [==============================] - 4s 11ms/step - loss: 0.5049 - accuracy: 0.8053 - val_loss: 0.6953 - val_accuracy: 0.7647\n",
            "Epoch 36/100\n",
            "419/419 [==============================] - 4s 11ms/step - loss: 0.4900 - accuracy: 0.8053 - val_loss: 0.8074 - val_accuracy: 0.7380\n",
            "Epoch 37/100\n",
            "419/419 [==============================] - 4s 11ms/step - loss: 0.4522 - accuracy: 0.8339 - val_loss: 0.7895 - val_accuracy: 0.7059\n",
            "Epoch 38/100\n",
            "419/419 [==============================] - 4s 11ms/step - loss: 0.4371 - accuracy: 0.8345 - val_loss: 0.7069 - val_accuracy: 0.7647\n",
            "Epoch 39/100\n",
            "419/419 [==============================] - 4s 11ms/step - loss: 0.4243 - accuracy: 0.8399 - val_loss: 0.6767 - val_accuracy: 0.7968\n",
            "Epoch 40/100\n",
            "419/419 [==============================] - 4s 11ms/step - loss: 0.4110 - accuracy: 0.8483 - val_loss: 0.7160 - val_accuracy: 0.7701\n",
            "Epoch 41/100\n",
            "419/419 [==============================] - 4s 11ms/step - loss: 0.3944 - accuracy: 0.8501 - val_loss: 0.7036 - val_accuracy: 0.7754\n",
            "Epoch 42/100\n",
            "419/419 [==============================] - 5s 11ms/step - loss: 0.4033 - accuracy: 0.8513 - val_loss: 0.8482 - val_accuracy: 0.7005\n",
            "Epoch 43/100\n",
            "419/419 [==============================] - 4s 11ms/step - loss: 0.3622 - accuracy: 0.8620 - val_loss: 0.7110 - val_accuracy: 0.7594\n",
            "Epoch 44/100\n",
            "419/419 [==============================] - 4s 11ms/step - loss: 0.3675 - accuracy: 0.8596 - val_loss: 0.6868 - val_accuracy: 0.7754\n",
            "Epoch 45/100\n",
            "419/419 [==============================] - 4s 11ms/step - loss: 0.3470 - accuracy: 0.8632 - val_loss: 0.7044 - val_accuracy: 0.7861\n",
            "Epoch 46/100\n",
            "419/419 [==============================] - 4s 11ms/step - loss: 0.3370 - accuracy: 0.8734 - val_loss: 0.8768 - val_accuracy: 0.7112\n",
            "Epoch 47/100\n",
            "419/419 [==============================] - 4s 11ms/step - loss: 0.3354 - accuracy: 0.8775 - val_loss: 0.8603 - val_accuracy: 0.7326\n",
            "Epoch 48/100\n",
            "419/419 [==============================] - 4s 11ms/step - loss: 0.3014 - accuracy: 0.8901 - val_loss: 0.7160 - val_accuracy: 0.7701\n",
            "Epoch 49/100\n",
            "419/419 [==============================] - 5s 11ms/step - loss: 0.3065 - accuracy: 0.8847 - val_loss: 0.6601 - val_accuracy: 0.7861\n",
            "Epoch 50/100\n",
            "419/419 [==============================] - 5s 11ms/step - loss: 0.2808 - accuracy: 0.9044 - val_loss: 0.7210 - val_accuracy: 0.7754\n",
            "Epoch 51/100\n",
            "419/419 [==============================] - 5s 11ms/step - loss: 0.2894 - accuracy: 0.8973 - val_loss: 0.6768 - val_accuracy: 0.7914\n",
            "Epoch 52/100\n",
            "419/419 [==============================] - 5s 11ms/step - loss: 0.2767 - accuracy: 0.9056 - val_loss: 0.6685 - val_accuracy: 0.7807\n",
            "Epoch 53/100\n",
            "419/419 [==============================] - 5s 11ms/step - loss: 0.2787 - accuracy: 0.9026 - val_loss: 0.7182 - val_accuracy: 0.7701\n",
            "Epoch 54/100\n",
            "419/419 [==============================] - 5s 11ms/step - loss: 0.2816 - accuracy: 0.8984 - val_loss: 0.7394 - val_accuracy: 0.7754\n",
            "Epoch 55/100\n",
            "419/419 [==============================] - 5s 11ms/step - loss: 0.2455 - accuracy: 0.9122 - val_loss: 0.5690 - val_accuracy: 0.7914\n",
            "Epoch 56/100\n",
            "419/419 [==============================] - 5s 11ms/step - loss: 0.2759 - accuracy: 0.8990 - val_loss: 0.7586 - val_accuracy: 0.7647\n",
            "Epoch 57/100\n",
            "419/419 [==============================] - 5s 11ms/step - loss: 0.2336 - accuracy: 0.9170 - val_loss: 0.7034 - val_accuracy: 0.7807\n",
            "Epoch 58/100\n",
            "419/419 [==============================] - 5s 11ms/step - loss: 0.2533 - accuracy: 0.9026 - val_loss: 0.6228 - val_accuracy: 0.7914\n",
            "Epoch 59/100\n",
            "419/419 [==============================] - 5s 11ms/step - loss: 0.2419 - accuracy: 0.9152 - val_loss: 0.6629 - val_accuracy: 0.8075\n",
            "Epoch 60/100\n",
            "419/419 [==============================] - 5s 11ms/step - loss: 0.2073 - accuracy: 0.9247 - val_loss: 0.6997 - val_accuracy: 0.7754\n",
            "Epoch 61/100\n",
            "419/419 [==============================] - 4s 11ms/step - loss: 0.2293 - accuracy: 0.9253 - val_loss: 0.7029 - val_accuracy: 0.8021\n",
            "Epoch 62/100\n",
            "419/419 [==============================] - 5s 11ms/step - loss: 0.2363 - accuracy: 0.9140 - val_loss: 0.7062 - val_accuracy: 0.7754\n",
            "Epoch 63/100\n",
            "419/419 [==============================] - 5s 11ms/step - loss: 0.2293 - accuracy: 0.9188 - val_loss: 0.8332 - val_accuracy: 0.7701\n",
            "Epoch 64/100\n",
            "419/419 [==============================] - 5s 11ms/step - loss: 0.1955 - accuracy: 0.9265 - val_loss: 0.6773 - val_accuracy: 0.7861\n",
            "Epoch 65/100\n",
            "419/419 [==============================] - 5s 11ms/step - loss: 0.2265 - accuracy: 0.9128 - val_loss: 0.6986 - val_accuracy: 0.8128\n",
            "Epoch 66/100\n",
            "419/419 [==============================] - 5s 11ms/step - loss: 0.2040 - accuracy: 0.9289 - val_loss: 0.7309 - val_accuracy: 0.7861\n",
            "Epoch 67/100\n",
            "419/419 [==============================] - 5s 11ms/step - loss: 0.1786 - accuracy: 0.9397 - val_loss: 0.6917 - val_accuracy: 0.7754\n",
            "Epoch 68/100\n",
            "419/419 [==============================] - 4s 11ms/step - loss: 0.2132 - accuracy: 0.9217 - val_loss: 0.7945 - val_accuracy: 0.7968\n",
            "Epoch 69/100\n",
            "419/419 [==============================] - 4s 11ms/step - loss: 0.1935 - accuracy: 0.9349 - val_loss: 0.7169 - val_accuracy: 0.7914\n",
            "Epoch 70/100\n",
            "419/419 [==============================] - 4s 11ms/step - loss: 0.1688 - accuracy: 0.9373 - val_loss: 0.8354 - val_accuracy: 0.7594\n",
            "Epoch 71/100\n",
            "419/419 [==============================] - 4s 11ms/step - loss: 0.1972 - accuracy: 0.9319 - val_loss: 0.7843 - val_accuracy: 0.8021\n",
            "Epoch 72/100\n",
            "419/419 [==============================] - 5s 11ms/step - loss: 0.1295 - accuracy: 0.9576 - val_loss: 0.9299 - val_accuracy: 0.7380\n",
            "Epoch 73/100\n",
            "419/419 [==============================] - 4s 11ms/step - loss: 0.1817 - accuracy: 0.9379 - val_loss: 0.7783 - val_accuracy: 0.7807\n",
            "Epoch 74/100\n",
            "419/419 [==============================] - 5s 11ms/step - loss: 0.1729 - accuracy: 0.9427 - val_loss: 0.8762 - val_accuracy: 0.7380\n",
            "Epoch 75/100\n",
            "419/419 [==============================] - 4s 11ms/step - loss: 0.1716 - accuracy: 0.9432 - val_loss: 0.7579 - val_accuracy: 0.7968\n",
            "Epoch 76/100\n",
            "419/419 [==============================] - 5s 11ms/step - loss: 0.1864 - accuracy: 0.9432 - val_loss: 0.8028 - val_accuracy: 0.7807\n",
            "Epoch 77/100\n",
            "419/419 [==============================] - 4s 11ms/step - loss: 0.2234 - accuracy: 0.9259 - val_loss: 0.6948 - val_accuracy: 0.8289\n",
            "Epoch 78/100\n",
            "419/419 [==============================] - 5s 11ms/step - loss: 0.1300 - accuracy: 0.9504 - val_loss: 0.6007 - val_accuracy: 0.8396\n",
            "Epoch 79/100\n",
            "419/419 [==============================] - 5s 11ms/step - loss: 0.1810 - accuracy: 0.9403 - val_loss: 0.5817 - val_accuracy: 0.8021\n",
            "Epoch 80/100\n",
            "419/419 [==============================] - 5s 11ms/step - loss: 0.1495 - accuracy: 0.9498 - val_loss: 0.8508 - val_accuracy: 0.7487\n"
          ]
        }
      ]
    },
    {
      "cell_type": "code",
      "source": [
        "# Evaluate the trained model.\n",
        "model_evaluation_history = LRCN_model.evaluate(features_test, labels_test)"
      ],
      "metadata": {
        "colab": {
          "base_uri": "https://localhost:8080/"
        },
        "id": "sa-sTkK6Q-ks",
        "outputId": "e572087a-da6c-45cb-c48e-1404dbb1961e"
      },
      "execution_count": 14,
      "outputs": [
        {
          "output_type": "stream",
          "name": "stdout",
          "text": [
            "7/7 [==============================] - 0s 30ms/step - loss: 0.5231 - accuracy: 0.8164\n"
          ]
        }
      ]
    },
    {
      "cell_type": "code",
      "source": [
        "# Get the loss and accuracy from model_evaluation_history.\n",
        "model_evaluation_loss, model_evaluation_accuracy = model_evaluation_history\n",
        "\n",
        "# Define the string date format.\n",
        "# Get the current Date and Time in a DateTime Object.\n",
        "# Convert the DateTime object to string according to the style mentioned in date_time_format string.\n",
        "date_time_format = '%Y_%m_%d__%H_%M_%S'\n",
        "current_date_time_dt = dt.datetime.now()\n",
        "current_date_time_string = dt.datetime.strftime(current_date_time_dt, date_time_format)\n",
        "    \n",
        "# Define a useful name for our model to make it easy for us while navigating through multiple saved models.\n",
        "model_file_name = f'LRCN_model___Date_Time_{current_date_time_string}___Loss_{model_evaluation_loss}___Accuracy_{model_evaluation_accuracy}.h5'\n",
        "\n",
        "# Save the Model.\n",
        "LRCN_model.save(model_file_name)"
      ],
      "metadata": {
        "id": "D3J57fVJRCEa"
      },
      "execution_count": null,
      "outputs": []
    },
    {
      "cell_type": "code",
      "source": [
        "def plot_metric(model_training_history, metric_name_1, metric_name_2, plot_name):\n",
        "    '''\n",
        "    This function will plot the metrics passed to it in a graph.\n",
        "    Args:\n",
        "        model_training_history: A history object containing a record of training and validation \n",
        "                                loss values and metrics values at successive epochs\n",
        "        metric_name_1:          The name of the first metric that needs to be plotted in the graph.\n",
        "        metric_name_2:          The name of the second metric that needs to be plotted in the graph.\n",
        "        plot_name:              The title of the graph.\n",
        "    '''\n",
        "    \n",
        "    # Get metric values using metric names as identifiers.\n",
        "    metric_value_1 = model_training_history.history[metric_name_1]\n",
        "    metric_value_2 = model_training_history.history[metric_name_2]\n",
        "    \n",
        "    # Construct a range object which will be used as x-axis (horizontal plane) of the graph.\n",
        "    epochs = range(len(metric_value_1))\n",
        "\n",
        "    # Plot the Graph.\n",
        "    plt.plot(epochs, metric_value_1, 'blue', label = metric_name_1)\n",
        "    plt.plot(epochs, metric_value_2, 'red', label = metric_name_2)\n",
        "\n",
        "    # Add title to the plot.\n",
        "    plt.title(str(plot_name))\n",
        "\n",
        "    # Add legend to the plot.\n",
        "    plt.legend()"
      ],
      "metadata": {
        "id": "sXhBv91xRFgU"
      },
      "execution_count": 15,
      "outputs": []
    },
    {
      "cell_type": "code",
      "source": [
        "# Visualize the training and validation loss metrices.\n",
        "plot_metric(LRCN_model_training_history, 'loss', 'val_loss', 'Total Loss vs Total Validation Loss')"
      ],
      "metadata": {
        "colab": {
          "base_uri": "https://localhost:8080/",
          "height": 281
        },
        "id": "cKhf3si1RJUW",
        "outputId": "73cefe7d-8c6a-4880-e080-b98360f5c4c6"
      },
      "execution_count": 16,
      "outputs": [
        {
          "output_type": "display_data",
          "data": {
            "text/plain": [
              "<Figure size 432x288 with 1 Axes>"
            ],
            "image/png": "[encoded data removed]"
          },
          "metadata": {
            "needs_background": "light"
          }
        }
      ]
    },
    {
      "cell_type": "code",
      "source": [
        "# Visualize the training and validation accuracy metrices.\n",
        "plot_metric(LRCN_model_training_history, 'accuracy', 'val_accuracy', 'Total Accuracy vs Total Validation Accuracy')"
      ],
      "metadata": {
        "colab": {
          "base_uri": "https://localhost:8080/",
          "height": 281
        },
        "id": "5JB37wh3RLWX",
        "outputId": "b0d02372-9535-4395-9e49-7d1522ae364b"
      },
      "execution_count": 17,
      "outputs": [
        {
          "output_type": "display_data",
          "data": {
            "text/plain": [
              "<Figure size 432x288 with 1 Axes>"
            ],
            "image/png": "[encoded data removed]"
          },
          "metadata": {
            "needs_background": "light"
          }
        }
      ]
    },
    {
      "cell_type": "code",
      "source": [
        "predictions =  LRCN_model.predict(features_test)\n",
        "predictions\n"
      ],
      "metadata": {
        "colab": {
          "base_uri": "https://localhost:8080/"
        },
        "id": "yM7edJgyRf-P",
        "outputId": "d8741bf4-db61-460d-8585-1cb1cd801fe0"
      },
      "execution_count": 18,
      "outputs": [
        {
          "output_type": "execute_result",
          "data": {
            "text/plain": [
              "array([[8.99416327e-01, 7.54378289e-02, 1.37197913e-03, 1.42842345e-02,\n",
              "        5.25383931e-03, 4.23578545e-03],\n",
              "       [5.70899923e-04, 2.52079946e-04, 2.33385308e-05, 8.87117982e-01,\n",
              "        6.28086086e-03, 1.05754830e-01],\n",
              "       [4.15298651e-04, 2.32601468e-03, 9.42784727e-01, 3.15620936e-02,\n",
              "        1.91607177e-02, 3.75120761e-03],\n",
              "       ...,\n",
              "       [1.21538236e-04, 6.91224413e-04, 4.20500845e-01, 7.56402686e-03,\n",
              "        5.47814786e-01, 2.33075898e-02],\n",
              "       [1.12979060e-05, 2.38546240e-03, 9.97201800e-01, 1.72255808e-04,\n",
              "        9.97266325e-05, 1.29417225e-04],\n",
              "       [3.79869656e-04, 1.43790692e-01, 8.54909003e-01, 3.55222815e-04,\n",
              "        4.18609066e-04, 1.46632025e-04]], dtype=float32)"
            ]
          },
          "metadata": {},
          "execution_count": 18
        }
      ]
    },
    {
      "cell_type": "code",
      "source": [
        "preds=predictions.argmax(axis=1)\n",
        "preds"
      ],
      "metadata": {
        "colab": {
          "base_uri": "https://localhost:8080/"
        },
        "id": "DNHaLfq2RjeT",
        "outputId": "5a3faaa8-8deb-48f7-bc98-43591f0fa776"
      },
      "execution_count": 19,
      "outputs": [
        {
          "output_type": "execute_result",
          "data": {
            "text/plain": [
              "array([0, 3, 2, 3, 5, 2, 5, 1, 3, 0, 3, 0, 2, 0, 5, 3, 4, 1, 1, 1, 5, 5,\n",
              "       0, 2, 2, 4, 4, 4, 5, 4, 4, 5, 5, 3, 3, 2, 4, 1, 2, 4, 2, 3, 0, 3,\n",
              "       2, 1, 5, 5, 4, 3, 1, 2, 1, 4, 3, 0, 0, 1, 2, 5, 4, 3, 5, 3, 1, 3,\n",
              "       1, 0, 5, 1, 1, 2, 4, 5, 3, 4, 0, 3, 4, 5, 3, 4, 4, 0, 1, 1, 2, 3,\n",
              "       3, 4, 2, 1, 0, 1, 5, 3, 1, 2, 0, 4, 3, 5, 4, 5, 2, 3, 2, 1, 3, 1,\n",
              "       4, 4, 0, 1, 3, 3, 3, 3, 1, 1, 4, 3, 1, 5, 1, 3, 5, 2, 2, 1, 2, 0,\n",
              "       1, 2, 1, 0, 3, 0, 4, 5, 3, 3, 3, 3, 1, 2, 4, 0, 0, 5, 5, 3, 5, 3,\n",
              "       3, 2, 1, 4, 0, 3, 0, 3, 2, 2, 4, 1, 0, 0, 5, 4, 4, 5, 2, 4, 3, 1,\n",
              "       5, 0, 4, 5, 5, 0, 3, 3, 4, 3, 1, 4, 3, 4, 1, 4, 1, 2, 4, 4, 0, 1,\n",
              "       4, 5, 4, 2, 3, 2, 4, 2, 2])"
            ]
          },
          "metadata": {},
          "execution_count": 19
        }
      ]
    },
    {
      "cell_type": "code",
      "source": [
        "new_preds = preds.astype(int).flatten()\n",
        "new_preds"
      ],
      "metadata": {
        "colab": {
          "base_uri": "https://localhost:8080/"
        },
        "id": "0W618McKRl02",
        "outputId": "9821f1f2-7a89-477f-bfff-1a9a4e99bc17"
      },
      "execution_count": 20,
      "outputs": [
        {
          "output_type": "execute_result",
          "data": {
            "text/plain": [
              "array([0, 3, 2, 3, 5, 2, 5, 1, 3, 0, 3, 0, 2, 0, 5, 3, 4, 1, 1, 1, 5, 5,\n",
              "       0, 2, 2, 4, 4, 4, 5, 4, 4, 5, 5, 3, 3, 2, 4, 1, 2, 4, 2, 3, 0, 3,\n",
              "       2, 1, 5, 5, 4, 3, 1, 2, 1, 4, 3, 0, 0, 1, 2, 5, 4, 3, 5, 3, 1, 3,\n",
              "       1, 0, 5, 1, 1, 2, 4, 5, 3, 4, 0, 3, 4, 5, 3, 4, 4, 0, 1, 1, 2, 3,\n",
              "       3, 4, 2, 1, 0, 1, 5, 3, 1, 2, 0, 4, 3, 5, 4, 5, 2, 3, 2, 1, 3, 1,\n",
              "       4, 4, 0, 1, 3, 3, 3, 3, 1, 1, 4, 3, 1, 5, 1, 3, 5, 2, 2, 1, 2, 0,\n",
              "       1, 2, 1, 0, 3, 0, 4, 5, 3, 3, 3, 3, 1, 2, 4, 0, 0, 5, 5, 3, 5, 3,\n",
              "       3, 2, 1, 4, 0, 3, 0, 3, 2, 2, 4, 1, 0, 0, 5, 4, 4, 5, 2, 4, 3, 1,\n",
              "       5, 0, 4, 5, 5, 0, 3, 3, 4, 3, 1, 4, 3, 4, 1, 4, 1, 2, 4, 4, 0, 1,\n",
              "       4, 5, 4, 2, 3, 2, 4, 2, 2])"
            ]
          },
          "metadata": {},
          "execution_count": 20
        }
      ]
    },
    {
      "cell_type": "code",
      "source": [
        "\n",
        "from sklearn.metrics import classification_report, confusion_matrix,accuracy_score\n",
        "import seaborn as sn\n",
        "import pandas as pd\n",
        "import numpy as np\n",
        "new_labels=np.argmax(labels_test, axis=1)\n",
        "print(classification_report(new_labels,new_preds))\n",
        "\n",
        "acc = float(accuracy_score(new_labels,new_preds))*100\n",
        "print(\"----accuracy score %s ----\" % acc)\n",
        "\n",
        "cm = confusion_matrix(new_labels,new_preds)\n",
        "#df_cm = pd.DataFrame(cm)\n",
        "class_names = ['neutral','calm', 'happy','sad','angry', 'fearful' ]\n",
        "df_cm = pd.DataFrame(cm, index=class_names, columns=class_names,)\n",
        "sn.heatmap(df_cm, annot=True, fmt='')\n",
        "plt.show()\n"
      ],
      "metadata": {
        "colab": {
          "base_uri": "https://localhost:8080/",
          "height": 508
        },
        "id": "cTET95L8RoVW",
        "outputId": "bf06736e-5978-4f6a-ceb5-7c623d9f68ae"
      },
      "execution_count": 21,
      "outputs": [
        {
          "output_type": "stream",
          "name": "stdout",
          "text": [
            "              precision    recall  f1-score   support\n",
            "\n",
            "           0       0.81      0.78      0.79        27\n",
            "           1       0.92      0.75      0.83        44\n",
            "           2       0.90      0.88      0.89        32\n",
            "           3       0.69      0.84      0.76        37\n",
            "           4       0.77      0.94      0.85        32\n",
            "           5       0.87      0.74      0.80        35\n",
            "\n",
            "    accuracy                           0.82       207\n",
            "   macro avg       0.83      0.82      0.82       207\n",
            "weighted avg       0.83      0.82      0.82       207\n",
            "\n",
            "----accuracy score 81.64251207729468 ----\n"
          ]
        },
        {
          "output_type": "display_data",
          "data": {
            "text/plain": [
              "<Figure size 432x288 with 2 Axes>"
            ],
            "image/png": "[encoded data removed]"
          },
          "metadata": {
            "needs_background": "light"
          }
        }
      ]
    },
    {
      "cell_type": "code",
      "source": [
        ""
      ],
      "metadata": {
        "id": "c3nbyK6BfnDR"
      },
      "execution_count": null,
      "outputs": []
    }
  ]
}