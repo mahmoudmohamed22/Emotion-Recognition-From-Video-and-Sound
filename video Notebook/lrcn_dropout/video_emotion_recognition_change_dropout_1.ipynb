{
  "nbformat": 4,
  "nbformat_minor": 0,
  "metadata": {
    "colab": {
      "name": "video_emotion_recognition_change_dropout_1.ipynb",
      "provenance": [],
      "collapsed_sections": [],
      "machine_shape": "hm"
    },
    "kernelspec": {
      "name": "python3",
      "display_name": "Python 3"
    },
    "accelerator": "GPU"
  },
  "cells": [
    {
      "cell_type": "code",
      "source": [
        "from google.colab import drive\n",
        "drive.mount('/content/drive')"
      ],
      "metadata": {
        "colab": {
          "base_uri": "https://localhost:8080/"
        },
        "id": "o94I67GBPVfM",
        "outputId": "6d7f9d6b-b5ac-4df8-e696-5b6ef1817863"
      },
      "execution_count": 6,
      "outputs": [
        {
          "output_type": "stream",
          "name": "stdout",
          "text": [
            "Mounted at /content/drive\n"
          ]
        }
      ]
    },
    {
      "cell_type": "code",
      "source": [
        "# Discard the output of this cell.\n",
        "#%%capture\n",
        "\n",
        "# Install the required libraries.\n",
        "!pip install tensorflow opencv-contrib-python youtube-dl moviepy pydot\n",
        "!pip install git+https://github.com/TahaAnwar/pafy.git#egg=pafy"
      ],
      "metadata": {
        "colab": {
          "base_uri": "https://localhost:8080/"
        },
        "id": "6OQ7vRnzP6n8",
        "outputId": "8119f0a2-4a4a-4680-925a-ade62f11e0d4"
      },
      "execution_count": 1,
      "outputs": [
        {
          "output_type": "stream",
          "name": "stdout",
          "text": [
            "Looking in indexes: https://pypi.org/simple, https://us-python.pkg.dev/colab-wheels/public/simple/\n",
            "Requirement already satisfied: tensorflow in /usr/local/lib/python3.7/dist-packages (2.8.2+zzzcolab20220527125636)\n",
            "Requirement already satisfied: opencv-contrib-python in /usr/local/lib/python3.7/dist-packages (4.1.2.30)\n",
            "Requirement already satisfied: youtube-dl in /usr/local/lib/python3.7/dist-packages (2021.12.17)\n",
            "Requirement already satisfied: moviepy in /usr/local/lib/python3.7/dist-packages (0.2.3.5)\n",
            "Requirement already satisfied: pydot in /usr/local/lib/python3.7/dist-packages (1.3.0)\n",
            "Requirement already satisfied: six>=1.12.0 in /usr/local/lib/python3.7/dist-packages (from tensorflow) (1.15.0)\n",
            "Requirement already satisfied: flatbuffers>=1.12 in /usr/local/lib/python3.7/dist-packages (from tensorflow) (2.0)\n",
            "Requirement already satisfied: astunparse>=1.6.0 in /usr/local/lib/python3.7/dist-packages (from tensorflow) (1.6.3)\n",
            "Requirement already satisfied: tensorflow-io-gcs-filesystem>=0.23.1 in /usr/local/lib/python3.7/dist-packages (from tensorflow) (0.26.0)\n",
            "Requirement already satisfied: termcolor>=1.1.0 in /usr/local/lib/python3.7/dist-packages (from tensorflow) (1.1.0)\n",
            "Requirement already satisfied: grpcio<2.0,>=1.24.3 in /usr/local/lib/python3.7/dist-packages (from tensorflow) (1.46.3)\n",
            "Requirement already satisfied: typing-extensions>=3.6.6 in /usr/local/lib/python3.7/dist-packages (from tensorflow) (4.2.0)\n",
            "Requirement already satisfied: keras-preprocessing>=1.1.1 in /usr/local/lib/python3.7/dist-packages (from tensorflow) (1.1.2)\n",
            "Requirement already satisfied: opt-einsum>=2.3.2 in /usr/local/lib/python3.7/dist-packages (from tensorflow) (3.3.0)\n",
            "Requirement already satisfied: keras<2.9,>=2.8.0rc0 in /usr/local/lib/python3.7/dist-packages (from tensorflow) (2.8.0)\n",
            "Requirement already satisfied: wrapt>=1.11.0 in /usr/local/lib/python3.7/dist-packages (from tensorflow) (1.14.1)\n",
            "Requirement already satisfied: tensorflow-estimator<2.9,>=2.8 in /usr/local/lib/python3.7/dist-packages (from tensorflow) (2.8.0)\n",
            "Requirement already satisfied: numpy>=1.20 in /usr/local/lib/python3.7/dist-packages (from tensorflow) (1.21.6)\n",
            "Requirement already satisfied: setuptools in /usr/local/lib/python3.7/dist-packages (from tensorflow) (57.4.0)\n",
            "Requirement already satisfied: tensorboard<2.9,>=2.8 in /usr/local/lib/python3.7/dist-packages (from tensorflow) (2.8.0)\n",
            "Requirement already satisfied: google-pasta>=0.1.1 in /usr/local/lib/python3.7/dist-packages (from tensorflow) (0.2.0)\n",
            "Requirement already satisfied: absl-py>=0.4.0 in /usr/local/lib/python3.7/dist-packages (from tensorflow) (1.0.0)\n",
            "Requirement already satisfied: gast>=0.2.1 in /usr/local/lib/python3.7/dist-packages (from tensorflow) (0.5.3)\n",
            "Requirement already satisfied: h5py>=2.9.0 in /usr/local/lib/python3.7/dist-packages (from tensorflow) (3.1.0)\n",
            "Requirement already satisfied: libclang>=9.0.1 in /usr/local/lib/python3.7/dist-packages (from tensorflow) (14.0.1)\n",
            "Requirement already satisfied: protobuf<3.20,>=3.9.2 in /usr/local/lib/python3.7/dist-packages (from tensorflow) (3.17.3)\n",
            "Requirement already satisfied: wheel<1.0,>=0.23.0 in /usr/local/lib/python3.7/dist-packages (from astunparse>=1.6.0->tensorflow) (0.37.1)\n",
            "Requirement already satisfied: cached-property in /usr/local/lib/python3.7/dist-packages (from h5py>=2.9.0->tensorflow) (1.5.2)\n",
            "Requirement already satisfied: requests<3,>=2.21.0 in /usr/local/lib/python3.7/dist-packages (from tensorboard<2.9,>=2.8->tensorflow) (2.23.0)\n",
            "Requirement already satisfied: werkzeug>=0.11.15 in /usr/local/lib/python3.7/dist-packages (from tensorboard<2.9,>=2.8->tensorflow) (1.0.1)\n",
            "Requirement already satisfied: tensorboard-plugin-wit>=1.6.0 in /usr/local/lib/python3.7/dist-packages (from tensorboard<2.9,>=2.8->tensorflow) (1.8.1)\n",
            "Requirement already satisfied: google-auth-oauthlib<0.5,>=0.4.1 in /usr/local/lib/python3.7/dist-packages (from tensorboard<2.9,>=2.8->tensorflow) (0.4.6)\n",
            "Requirement already satisfied: tensorboard-data-server<0.7.0,>=0.6.0 in /usr/local/lib/python3.7/dist-packages (from tensorboard<2.9,>=2.8->tensorflow) (0.6.1)\n",
            "Requirement already satisfied: markdown>=2.6.8 in /usr/local/lib/python3.7/dist-packages (from tensorboard<2.9,>=2.8->tensorflow) (3.3.7)\n",
            "Requirement already satisfied: google-auth<3,>=1.6.3 in /usr/local/lib/python3.7/dist-packages (from tensorboard<2.9,>=2.8->tensorflow) (1.35.0)\n",
            "Requirement already satisfied: rsa<5,>=3.1.4 in /usr/local/lib/python3.7/dist-packages (from google-auth<3,>=1.6.3->tensorboard<2.9,>=2.8->tensorflow) (4.8)\n",
            "Requirement already satisfied: pyasn1-modules>=0.2.1 in /usr/local/lib/python3.7/dist-packages (from google-auth<3,>=1.6.3->tensorboard<2.9,>=2.8->tensorflow) (0.2.8)\n",
            "Requirement already satisfied: cachetools<5.0,>=2.0.0 in /usr/local/lib/python3.7/dist-packages (from google-auth<3,>=1.6.3->tensorboard<2.9,>=2.8->tensorflow) (4.2.4)\n",
            "Requirement already satisfied: requests-oauthlib>=0.7.0 in /usr/local/lib/python3.7/dist-packages (from google-auth-oauthlib<0.5,>=0.4.1->tensorboard<2.9,>=2.8->tensorflow) (1.3.1)\n",
            "Requirement already satisfied: importlib-metadata>=4.4 in /usr/local/lib/python3.7/dist-packages (from markdown>=2.6.8->tensorboard<2.9,>=2.8->tensorflow) (4.11.4)\n",
            "Requirement already satisfied: zipp>=0.5 in /usr/local/lib/python3.7/dist-packages (from importlib-metadata>=4.4->markdown>=2.6.8->tensorboard<2.9,>=2.8->tensorflow) (3.8.0)\n",
            "Requirement already satisfied: pyasn1<0.5.0,>=0.4.6 in /usr/local/lib/python3.7/dist-packages (from pyasn1-modules>=0.2.1->google-auth<3,>=1.6.3->tensorboard<2.9,>=2.8->tensorflow) (0.4.8)\n",
            "Requirement already satisfied: urllib3!=1.25.0,!=1.25.1,<1.26,>=1.21.1 in /usr/local/lib/python3.7/dist-packages (from requests<3,>=2.21.0->tensorboard<2.9,>=2.8->tensorflow) (1.24.3)\n",
            "Requirement already satisfied: chardet<4,>=3.0.2 in /usr/local/lib/python3.7/dist-packages (from requests<3,>=2.21.0->tensorboard<2.9,>=2.8->tensorflow) (3.0.4)\n",
            "Requirement already satisfied: idna<3,>=2.5 in /usr/local/lib/python3.7/dist-packages (from requests<3,>=2.21.0->tensorboard<2.9,>=2.8->tensorflow) (2.10)\n",
            "Requirement already satisfied: certifi>=2017.4.17 in /usr/local/lib/python3.7/dist-packages (from requests<3,>=2.21.0->tensorboard<2.9,>=2.8->tensorflow) (2022.5.18.1)\n",
            "Requirement already satisfied: oauthlib>=3.0.0 in /usr/local/lib/python3.7/dist-packages (from requests-oauthlib>=0.7.0->google-auth-oauthlib<0.5,>=0.4.1->tensorboard<2.9,>=2.8->tensorflow) (3.2.0)\n",
            "Requirement already satisfied: tqdm<5.0,>=4.11.2 in /usr/local/lib/python3.7/dist-packages (from moviepy) (4.64.0)\n",
            "Requirement already satisfied: imageio<3.0,>=2.1.2 in /usr/local/lib/python3.7/dist-packages (from moviepy) (2.4.1)\n",
            "Requirement already satisfied: decorator<5.0,>=4.0.2 in /usr/local/lib/python3.7/dist-packages (from moviepy) (4.4.2)\n",
            "Requirement already satisfied: pillow in /usr/local/lib/python3.7/dist-packages (from imageio<3.0,>=2.1.2->moviepy) (7.1.2)\n",
            "Requirement already satisfied: pyparsing>=2.1.4 in /usr/local/lib/python3.7/dist-packages (from pydot) (3.0.9)\n",
            "Looking in indexes: https://pypi.org/simple, https://us-python.pkg.dev/colab-wheels/public/simple/\n",
            "Collecting pafy\n",
            "  Cloning https://github.com/TahaAnwar/pafy.git to /tmp/pip-install-4ocy30ip/pafy_e047678462e34af8ad5ca4b116fe6f0e\n",
            "  Running command git clone -q https://github.com/TahaAnwar/pafy.git /tmp/pip-install-4ocy30ip/pafy_e047678462e34af8ad5ca4b116fe6f0e\n"
          ]
        }
      ]
    },
    {
      "cell_type": "code",
      "source": [
        "# Import the required libraries.\n",
        "import os\n",
        "import cv2\n",
        "import pafy\n",
        "import math\n",
        "import random\n",
        "import numpy as np\n",
        "import datetime as dt\n",
        "import tensorflow as tf\n",
        "from collections import deque\n",
        "import matplotlib.pyplot as plt\n",
        "\n",
        "from moviepy.editor import *\n",
        "%matplotlib inline\n",
        "\n",
        "from sklearn.model_selection import train_test_split\n",
        "\n",
        "from tensorflow.keras.layers import *\n",
        "from tensorflow.keras.models import Sequential\n",
        "from tensorflow.keras.utils import to_categorical\n",
        "from tensorflow.keras.callbacks import EarlyStopping\n",
        "from tensorflow.keras.utils import plot_model"
      ],
      "metadata": {
        "id": "LiLwshTpP-OB"
      },
      "execution_count": 2,
      "outputs": []
    },
    {
      "cell_type": "code",
      "source": [
        "seed_constant = 27\n",
        "np.random.seed(seed_constant)\n",
        "random.seed(seed_constant)\n",
        "tf.random.set_seed(seed_constant)"
      ],
      "metadata": {
        "id": "u4EtD4rrQEnb"
      },
      "execution_count": 3,
      "outputs": []
    },
    {
      "cell_type": "code",
      "source": [
        "# Specify the height and width to which each video frame will be resized in our dataset.\n",
        "IMAGE_HEIGHT , IMAGE_WIDTH = 64, 64\n",
        "\n",
        "# Specify the number of frames of a video that will be fed to the model as one sequence.\n",
        "SEQUENCE_LENGTH = 30\n",
        "\n",
        "# Specify the directory containing the UCF50 dataset. \n",
        "#DATASET_DIR = \"/content/drive/MyDrive/videospeech_label\"\n",
        "\n",
        "# Specify the list containing the names of the classes used for training. Feel free to choose any set of classes.\n",
        "CLASSES_LIST = [\"neutral\", \"calm\", \"happy\", \"sad\",\"angry\",\"fearful\"]"
      ],
      "metadata": {
        "id": "7H6KBiblQKE9"
      },
      "execution_count": 4,
      "outputs": []
    },
    {
      "cell_type": "code",
      "source": [
        "import joblib\n",
        "features=joblib.load('/content/drive/My Drive/features_ravdess/original_data_set/features_data')\n",
        "labels=joblib.load('/content/drive/My Drive/features_ravdess/original_data_set/labels')\n",
        "video_file_path=joblib.load('/content/drive/My Drive/features_ravdess/original_data_set/video_path')"
      ],
      "metadata": {
        "id": "V_rh-id5cmwd"
      },
      "execution_count": 5,
      "outputs": []
    },
    {
      "cell_type": "code",
      "source": [
        "features = np.asarray(features)\n",
        "labels = np.array(labels)  "
      ],
      "metadata": {
        "id": "WI3wNd7zdKzJ"
      },
      "execution_count": 6,
      "outputs": []
    },
    {
      "cell_type": "code",
      "source": [
        "features.shape"
      ],
      "metadata": {
        "colab": {
          "base_uri": "https://localhost:8080/"
        },
        "id": "pnnmkPz5Qh75",
        "outputId": "4ab0c9f6-eaf5-4041-c632-fd8b07a89921"
      },
      "execution_count": 7,
      "outputs": [
        {
          "output_type": "execute_result",
          "data": {
            "text/plain": [
              "(2068, 30, 64, 64, 3)"
            ]
          },
          "metadata": {},
          "execution_count": 7
        }
      ]
    },
    {
      "cell_type": "code",
      "source": [
        "labels.shape"
      ],
      "metadata": {
        "colab": {
          "base_uri": "https://localhost:8080/"
        },
        "id": "kSGvdE_hQklC",
        "outputId": "58297db4-83ac-4c55-b93b-f6c3bdea9e2c"
      },
      "execution_count": 8,
      "outputs": [
        {
          "output_type": "execute_result",
          "data": {
            "text/plain": [
              "(2068,)"
            ]
          },
          "metadata": {},
          "execution_count": 8
        }
      ]
    },
    {
      "cell_type": "code",
      "source": [
        "# Using Keras's to_categorical method to convert labels into one-hot-encoded vectors\n",
        "one_hot_encoded_labels = to_categorical(labels)"
      ],
      "metadata": {
        "id": "DGicVwcRQn9x"
      },
      "execution_count": 9,
      "outputs": []
    },
    {
      "cell_type": "code",
      "source": [
        "# Split the Data into Train ( 80% ) and Test Set ( 20% ).\n",
        "features_train, features_test, labels_train, labels_test = train_test_split(features, one_hot_encoded_labels,\n",
        "                                                                            test_size = 0.10, shuffle = True,\n",
        "                                                                            random_state = seed_constant)"
      ],
      "metadata": {
        "id": "pysOwWbgQrBv"
      },
      "execution_count": 10,
      "outputs": []
    },
    {
      "cell_type": "code",
      "source": [
        "def create_LRCN_model():\n",
        "    '''\n",
        "    This function will construct the required LRCN model.\n",
        "    Returns:\n",
        "        model: It is the required constructed LRCN model.\n",
        "    '''\n",
        "\n",
        "    # We will use a Sequential model for model construction.\n",
        "    model = Sequential()\n",
        "    \n",
        "    # Define the Model Architecture.\n",
        "    ########################################################################################################################\n",
        "    \n",
        "    model.add(TimeDistributed(Conv2D(16, (3, 3), padding='same',activation = 'relu'),\n",
        "                              input_shape = (SEQUENCE_LENGTH, IMAGE_HEIGHT, IMAGE_WIDTH, 3)))\n",
        "    \n",
        "    model.add(TimeDistributed(MaxPooling2D((4, 4)))) \n",
        "    model.add(TimeDistributed(Dropout(0.1)))\n",
        "    \n",
        "    model.add(TimeDistributed(Conv2D(32, (3, 3), padding='same',activation = 'relu')))\n",
        "    model.add(TimeDistributed(MaxPooling2D((4, 4))))\n",
        "    model.add(TimeDistributed(Dropout(0.2)))\n",
        "    \n",
        "    model.add(TimeDistributed(Conv2D(64, (3, 3), padding='same',activation = 'relu')))\n",
        "    model.add(TimeDistributed(MaxPooling2D((2, 2))))\n",
        "    model.add(TimeDistributed(Dropout(0.3)))\n",
        "    \n",
        "    model.add(TimeDistributed(Conv2D(64, (3, 3), padding='same',activation = 'relu')))\n",
        "    model.add(TimeDistributed(MaxPooling2D((2, 2))))\n",
        "    #model.add(TimeDistributed(Dropout(0.25)))\n",
        "                                      \n",
        "    model.add(TimeDistributed(Flatten()))\n",
        "                                      \n",
        "    model.add(LSTM(32))\n",
        "                                      \n",
        "    model.add(Dense(len(CLASSES_LIST), activation = 'softmax'))\n",
        "\n",
        "    ########################################################################################################################\n",
        "\n",
        "    # Display the models summary.\n",
        "    model.summary()\n",
        "    \n",
        "    # Return the constructed LRCN model.\n",
        "    return model"
      ],
      "metadata": {
        "id": "01zL-4EVQt3J"
      },
      "execution_count": 11,
      "outputs": []
    },
    {
      "cell_type": "code",
      "source": [
        "# Construct the required LRCN model.\n",
        "LRCN_model = create_LRCN_model()\n",
        "\n",
        "# Display the success message.\n",
        "print(\"Model Created Successfully!\")"
      ],
      "metadata": {
        "colab": {
          "base_uri": "https://localhost:8080/"
        },
        "id": "sFdjcb8zQxX4",
        "outputId": "9d2f8bb7-a58d-49fa-eedc-e50938dfdccd"
      },
      "execution_count": 12,
      "outputs": [
        {
          "output_type": "stream",
          "name": "stdout",
          "text": [
            "Model: \"sequential\"\n",
            "_________________________________________________________________\n",
            " Layer (type)                Output Shape              Param #   \n",
            "=================================================================\n",
            " time_distributed (TimeDistr  (None, 30, 64, 64, 16)   448       \n",
            " ibuted)                                                         \n",
            "                                                                 \n",
            " time_distributed_1 (TimeDis  (None, 30, 16, 16, 16)   0         \n",
            " tributed)                                                       \n",
            "                                                                 \n",
            " time_distributed_2 (TimeDis  (None, 30, 16, 16, 16)   0         \n",
            " tributed)                                                       \n",
            "                                                                 \n",
            " time_distributed_3 (TimeDis  (None, 30, 16, 16, 32)   4640      \n",
            " tributed)                                                       \n",
            "                                                                 \n",
            " time_distributed_4 (TimeDis  (None, 30, 4, 4, 32)     0         \n",
            " tributed)                                                       \n",
            "                                                                 \n",
            " time_distributed_5 (TimeDis  (None, 30, 4, 4, 32)     0         \n",
            " tributed)                                                       \n",
            "                                                                 \n",
            " time_distributed_6 (TimeDis  (None, 30, 4, 4, 64)     18496     \n",
            " tributed)                                                       \n",
            "                                                                 \n",
            " time_distributed_7 (TimeDis  (None, 30, 2, 2, 64)     0         \n",
            " tributed)                                                       \n",
            "                                                                 \n",
            " time_distributed_8 (TimeDis  (None, 30, 2, 2, 64)     0         \n",
            " tributed)                                                       \n",
            "                                                                 \n",
            " time_distributed_9 (TimeDis  (None, 30, 2, 2, 64)     36928     \n",
            " tributed)                                                       \n",
            "                                                                 \n",
            " time_distributed_10 (TimeDi  (None, 30, 1, 1, 64)     0         \n",
            " stributed)                                                      \n",
            "                                                                 \n",
            " time_distributed_11 (TimeDi  (None, 30, 64)           0         \n",
            " stributed)                                                      \n",
            "                                                                 \n",
            " lstm (LSTM)                 (None, 32)                12416     \n",
            "                                                                 \n",
            " dense (Dense)               (None, 6)                 198       \n",
            "                                                                 \n",
            "=================================================================\n",
            "Total params: 73,126\n",
            "Trainable params: 73,126\n",
            "Non-trainable params: 0\n",
            "_________________________________________________________________\n",
            "Model Created Successfully!\n"
          ]
        }
      ]
    },
    {
      "cell_type": "code",
      "source": [
        "# Create an Instance of Early Stopping Callback.\n",
        "early_stopping_callback = EarlyStopping(monitor = 'val_loss', patience = 25, mode = 'min', restore_best_weights = True)\n",
        " \n",
        "# Compile the model and specify loss function, optimizer and metrics to the model.\n",
        "LRCN_model.compile(loss = 'categorical_crossentropy', optimizer = 'Adam', metrics = [\"accuracy\"])\n",
        "\n",
        "# Start training the model.\n",
        "LRCN_model_training_history = LRCN_model.fit(x = features_train, y = labels_train, epochs = 100, batch_size = 4 ,\n",
        "                                             shuffle = True, validation_split = 0.1, callbacks = [early_stopping_callback])"
      ],
      "metadata": {
        "colab": {
          "base_uri": "https://localhost:8080/"
        },
        "id": "cVmXzItZQ4-r",
        "outputId": "15f8f6bd-eea4-41f9-caf8-22c12f88cf28"
      },
      "execution_count": 13,
      "outputs": [
        {
          "output_type": "stream",
          "name": "stdout",
          "text": [
            "Epoch 1/100\n",
            "419/419 [==============================] - 20s 14ms/step - loss: 1.7792 - accuracy: 0.1906 - val_loss: 1.7784 - val_accuracy: 0.1390\n",
            "Epoch 2/100\n",
            "419/419 [==============================] - 4s 11ms/step - loss: 1.7727 - accuracy: 0.1714 - val_loss: 1.7770 - val_accuracy: 0.1390\n",
            "Epoch 3/100\n",
            "419/419 [==============================] - 4s 11ms/step - loss: 1.7671 - accuracy: 0.1780 - val_loss: 1.7807 - val_accuracy: 0.1390\n",
            "Epoch 4/100\n",
            "419/419 [==============================] - 4s 11ms/step - loss: 1.7692 - accuracy: 0.1786 - val_loss: 1.7787 - val_accuracy: 0.1711\n",
            "Epoch 5/100\n",
            "419/419 [==============================] - 4s 11ms/step - loss: 1.7681 - accuracy: 0.1601 - val_loss: 1.7775 - val_accuracy: 0.1925\n",
            "Epoch 6/100\n",
            "419/419 [==============================] - 4s 10ms/step - loss: 1.7645 - accuracy: 0.1810 - val_loss: 1.7738 - val_accuracy: 0.1765\n",
            "Epoch 7/100\n",
            "419/419 [==============================] - 4s 11ms/step - loss: 1.6064 - accuracy: 0.3154 - val_loss: 1.5882 - val_accuracy: 0.3048\n",
            "Epoch 8/100\n",
            "419/419 [==============================] - 4s 11ms/step - loss: 1.5025 - accuracy: 0.3465 - val_loss: 1.4649 - val_accuracy: 0.3369\n",
            "Epoch 9/100\n",
            "419/419 [==============================] - 4s 11ms/step - loss: 1.4393 - accuracy: 0.3889 - val_loss: 1.4514 - val_accuracy: 0.3529\n",
            "Epoch 10/100\n",
            "419/419 [==============================] - 4s 11ms/step - loss: 1.3837 - accuracy: 0.4116 - val_loss: 1.4939 - val_accuracy: 0.3583\n",
            "Epoch 11/100\n",
            "419/419 [==============================] - 4s 11ms/step - loss: 1.3573 - accuracy: 0.4092 - val_loss: 1.3455 - val_accuracy: 0.4064\n",
            "Epoch 12/100\n",
            "419/419 [==============================] - 5s 11ms/step - loss: 1.3066 - accuracy: 0.4277 - val_loss: 1.3147 - val_accuracy: 0.4064\n",
            "Epoch 13/100\n",
            "419/419 [==============================] - 5s 11ms/step - loss: 1.2591 - accuracy: 0.4636 - val_loss: 1.3133 - val_accuracy: 0.4332\n",
            "Epoch 14/100\n",
            "419/419 [==============================] - 5s 11ms/step - loss: 1.2315 - accuracy: 0.4857 - val_loss: 1.2757 - val_accuracy: 0.4439\n",
            "Epoch 15/100\n",
            "419/419 [==============================] - 5s 11ms/step - loss: 1.2033 - accuracy: 0.4970 - val_loss: 1.1632 - val_accuracy: 0.5080\n",
            "Epoch 16/100\n",
            "419/419 [==============================] - 5s 11ms/step - loss: 1.1754 - accuracy: 0.5024 - val_loss: 1.2060 - val_accuracy: 0.4652\n",
            "Epoch 17/100\n",
            "419/419 [==============================] - 5s 11ms/step - loss: 1.1440 - accuracy: 0.5161 - val_loss: 1.1698 - val_accuracy: 0.5187\n",
            "Epoch 18/100\n",
            "419/419 [==============================] - 5s 11ms/step - loss: 1.1112 - accuracy: 0.5358 - val_loss: 1.2205 - val_accuracy: 0.4920\n",
            "Epoch 19/100\n",
            "419/419 [==============================] - 5s 11ms/step - loss: 1.0934 - accuracy: 0.5496 - val_loss: 1.2068 - val_accuracy: 0.5027\n",
            "Epoch 20/100\n",
            "419/419 [==============================] - 5s 11ms/step - loss: 1.0565 - accuracy: 0.5597 - val_loss: 1.1919 - val_accuracy: 0.4973\n",
            "Epoch 21/100\n",
            "419/419 [==============================] - 5s 11ms/step - loss: 1.0344 - accuracy: 0.5789 - val_loss: 1.1218 - val_accuracy: 0.5775\n",
            "Epoch 22/100\n",
            "419/419 [==============================] - 5s 11ms/step - loss: 1.0067 - accuracy: 0.5765 - val_loss: 1.0302 - val_accuracy: 0.5829\n",
            "Epoch 23/100\n",
            "419/419 [==============================] - 5s 11ms/step - loss: 0.9594 - accuracy: 0.6183 - val_loss: 1.0534 - val_accuracy: 0.5829\n",
            "Epoch 24/100\n",
            "419/419 [==============================] - 5s 11ms/step - loss: 0.8999 - accuracy: 0.6356 - val_loss: 0.9838 - val_accuracy: 0.6257\n",
            "Epoch 25/100\n",
            "419/419 [==============================] - 5s 11ms/step - loss: 0.8679 - accuracy: 0.6511 - val_loss: 0.9258 - val_accuracy: 0.6578\n",
            "Epoch 26/100\n",
            "419/419 [==============================] - 5s 11ms/step - loss: 0.8144 - accuracy: 0.6798 - val_loss: 0.8878 - val_accuracy: 0.6578\n",
            "Epoch 27/100\n",
            "419/419 [==============================] - 5s 11ms/step - loss: 0.7626 - accuracy: 0.7043 - val_loss: 0.9186 - val_accuracy: 0.6471\n",
            "Epoch 28/100\n",
            "419/419 [==============================] - 5s 11ms/step - loss: 0.7489 - accuracy: 0.7037 - val_loss: 0.9496 - val_accuracy: 0.6310\n",
            "Epoch 29/100\n",
            "419/419 [==============================] - 5s 11ms/step - loss: 0.7103 - accuracy: 0.7192 - val_loss: 0.8466 - val_accuracy: 0.6845\n",
            "Epoch 30/100\n",
            "419/419 [==============================] - 5s 11ms/step - loss: 0.6554 - accuracy: 0.7437 - val_loss: 0.7713 - val_accuracy: 0.7059\n",
            "Epoch 31/100\n",
            "419/419 [==============================] - 5s 11ms/step - loss: 0.6440 - accuracy: 0.7425 - val_loss: 0.8768 - val_accuracy: 0.6684\n",
            "Epoch 32/100\n",
            "419/419 [==============================] - 5s 11ms/step - loss: 0.6212 - accuracy: 0.7646 - val_loss: 0.9572 - val_accuracy: 0.6310\n",
            "Epoch 33/100\n",
            "419/419 [==============================] - 5s 11ms/step - loss: 0.5906 - accuracy: 0.7784 - val_loss: 0.9094 - val_accuracy: 0.6845\n",
            "Epoch 34/100\n",
            "419/419 [==============================] - 5s 11ms/step - loss: 0.5655 - accuracy: 0.7843 - val_loss: 0.9612 - val_accuracy: 0.6845\n",
            "Epoch 35/100\n",
            "419/419 [==============================] - 5s 11ms/step - loss: 0.5601 - accuracy: 0.7724 - val_loss: 0.7675 - val_accuracy: 0.7112\n",
            "Epoch 36/100\n",
            "419/419 [==============================] - 5s 11ms/step - loss: 0.5243 - accuracy: 0.7963 - val_loss: 0.9534 - val_accuracy: 0.6738\n",
            "Epoch 37/100\n",
            "419/419 [==============================] - 5s 11ms/step - loss: 0.5098 - accuracy: 0.8112 - val_loss: 0.8033 - val_accuracy: 0.7005\n",
            "Epoch 38/100\n",
            "419/419 [==============================] - 5s 11ms/step - loss: 0.5021 - accuracy: 0.8148 - val_loss: 0.7160 - val_accuracy: 0.7540\n",
            "Epoch 39/100\n",
            "419/419 [==============================] - 5s 11ms/step - loss: 0.4787 - accuracy: 0.8268 - val_loss: 0.7409 - val_accuracy: 0.7166\n",
            "Epoch 40/100\n",
            "419/419 [==============================] - 5s 11ms/step - loss: 0.4569 - accuracy: 0.8274 - val_loss: 0.8777 - val_accuracy: 0.6524\n",
            "Epoch 41/100\n",
            "419/419 [==============================] - 5s 11ms/step - loss: 0.4432 - accuracy: 0.8375 - val_loss: 0.7997 - val_accuracy: 0.7433\n",
            "Epoch 42/100\n",
            "419/419 [==============================] - 5s 11ms/step - loss: 0.4381 - accuracy: 0.8399 - val_loss: 0.7547 - val_accuracy: 0.7326\n",
            "Epoch 43/100\n",
            "419/419 [==============================] - 5s 11ms/step - loss: 0.3884 - accuracy: 0.8513 - val_loss: 0.6610 - val_accuracy: 0.7754\n",
            "Epoch 44/100\n",
            "419/419 [==============================] - 5s 11ms/step - loss: 0.3793 - accuracy: 0.8584 - val_loss: 0.6692 - val_accuracy: 0.7647\n",
            "Epoch 45/100\n",
            "419/419 [==============================] - 5s 11ms/step - loss: 0.3723 - accuracy: 0.8578 - val_loss: 0.7407 - val_accuracy: 0.7219\n",
            "Epoch 46/100\n",
            "419/419 [==============================] - 5s 11ms/step - loss: 0.3776 - accuracy: 0.8554 - val_loss: 0.7589 - val_accuracy: 0.7112\n",
            "Epoch 47/100\n",
            "419/419 [==============================] - 5s 11ms/step - loss: 0.3805 - accuracy: 0.8596 - val_loss: 0.7360 - val_accuracy: 0.7433\n",
            "Epoch 48/100\n",
            "419/419 [==============================] - 5s 11ms/step - loss: 0.3238 - accuracy: 0.8817 - val_loss: 0.5977 - val_accuracy: 0.7968\n",
            "Epoch 49/100\n",
            "419/419 [==============================] - 5s 11ms/step - loss: 0.3648 - accuracy: 0.8602 - val_loss: 0.9124 - val_accuracy: 0.7112\n",
            "Epoch 50/100\n",
            "419/419 [==============================] - 5s 11ms/step - loss: 0.3442 - accuracy: 0.8781 - val_loss: 0.7179 - val_accuracy: 0.7540\n",
            "Epoch 51/100\n",
            "419/419 [==============================] - 5s 11ms/step - loss: 0.2971 - accuracy: 0.8984 - val_loss: 0.6939 - val_accuracy: 0.7647\n",
            "Epoch 52/100\n",
            "419/419 [==============================] - 5s 11ms/step - loss: 0.3260 - accuracy: 0.8895 - val_loss: 0.6613 - val_accuracy: 0.7968\n",
            "Epoch 53/100\n",
            "419/419 [==============================] - 5s 11ms/step - loss: 0.3076 - accuracy: 0.8919 - val_loss: 0.7722 - val_accuracy: 0.7219\n",
            "Epoch 54/100\n",
            "419/419 [==============================] - 5s 11ms/step - loss: 0.2899 - accuracy: 0.8889 - val_loss: 0.8021 - val_accuracy: 0.7273\n",
            "Epoch 55/100\n",
            "419/419 [==============================] - 5s 11ms/step - loss: 0.2764 - accuracy: 0.8961 - val_loss: 0.7605 - val_accuracy: 0.7647\n",
            "Epoch 56/100\n",
            "419/419 [==============================] - 5s 11ms/step - loss: 0.2795 - accuracy: 0.9008 - val_loss: 0.5815 - val_accuracy: 0.8075\n",
            "Epoch 57/100\n",
            "419/419 [==============================] - 5s 11ms/step - loss: 0.2530 - accuracy: 0.9092 - val_loss: 0.8521 - val_accuracy: 0.6952\n",
            "Epoch 58/100\n",
            "419/419 [==============================] - 5s 11ms/step - loss: 0.2620 - accuracy: 0.9038 - val_loss: 0.6358 - val_accuracy: 0.7754\n",
            "Epoch 59/100\n",
            "419/419 [==============================] - 5s 11ms/step - loss: 0.2656 - accuracy: 0.9092 - val_loss: 0.9626 - val_accuracy: 0.7166\n",
            "Epoch 60/100\n",
            "419/419 [==============================] - 5s 11ms/step - loss: 0.2505 - accuracy: 0.9146 - val_loss: 0.6412 - val_accuracy: 0.8075\n",
            "Epoch 61/100\n",
            "419/419 [==============================] - 5s 11ms/step - loss: 0.2546 - accuracy: 0.9158 - val_loss: 1.1217 - val_accuracy: 0.6952\n",
            "Epoch 62/100\n",
            "419/419 [==============================] - 5s 11ms/step - loss: 0.2606 - accuracy: 0.9104 - val_loss: 0.6037 - val_accuracy: 0.8021\n",
            "Epoch 63/100\n",
            "419/419 [==============================] - 5s 11ms/step - loss: 0.2160 - accuracy: 0.9122 - val_loss: 0.6735 - val_accuracy: 0.7807\n",
            "Epoch 64/100\n",
            "419/419 [==============================] - 5s 11ms/step - loss: 0.2419 - accuracy: 0.9116 - val_loss: 0.7040 - val_accuracy: 0.7914\n",
            "Epoch 65/100\n",
            "419/419 [==============================] - 5s 11ms/step - loss: 0.2241 - accuracy: 0.9217 - val_loss: 0.7424 - val_accuracy: 0.7754\n",
            "Epoch 66/100\n",
            "419/419 [==============================] - 5s 11ms/step - loss: 0.1977 - accuracy: 0.9343 - val_loss: 0.7117 - val_accuracy: 0.8021\n",
            "Epoch 67/100\n",
            "419/419 [==============================] - 5s 11ms/step - loss: 0.2190 - accuracy: 0.9277 - val_loss: 0.8293 - val_accuracy: 0.7380\n",
            "Epoch 68/100\n",
            "419/419 [==============================] - 5s 11ms/step - loss: 0.2018 - accuracy: 0.9283 - val_loss: 0.6841 - val_accuracy: 0.8075\n",
            "Epoch 69/100\n",
            "419/419 [==============================] - 5s 11ms/step - loss: 0.2173 - accuracy: 0.9229 - val_loss: 0.6675 - val_accuracy: 0.7914\n",
            "Epoch 70/100\n",
            "419/419 [==============================] - 5s 11ms/step - loss: 0.2071 - accuracy: 0.9265 - val_loss: 0.7242 - val_accuracy: 0.7807\n",
            "Epoch 71/100\n",
            "419/419 [==============================] - 5s 11ms/step - loss: 0.2260 - accuracy: 0.9182 - val_loss: 0.7443 - val_accuracy: 0.7701\n",
            "Epoch 72/100\n",
            "419/419 [==============================] - 5s 11ms/step - loss: 0.1889 - accuracy: 0.9367 - val_loss: 0.6483 - val_accuracy: 0.8342\n",
            "Epoch 73/100\n",
            "419/419 [==============================] - 5s 11ms/step - loss: 0.1748 - accuracy: 0.9385 - val_loss: 0.7037 - val_accuracy: 0.7754\n",
            "Epoch 74/100\n",
            "419/419 [==============================] - 5s 11ms/step - loss: 0.1770 - accuracy: 0.9432 - val_loss: 0.7162 - val_accuracy: 0.8075\n",
            "Epoch 75/100\n",
            "419/419 [==============================] - 5s 11ms/step - loss: 0.1647 - accuracy: 0.9450 - val_loss: 0.6050 - val_accuracy: 0.8235\n",
            "Epoch 76/100\n",
            "419/419 [==============================] - 5s 11ms/step - loss: 0.1629 - accuracy: 0.9409 - val_loss: 0.6706 - val_accuracy: 0.8235\n",
            "Epoch 77/100\n",
            "419/419 [==============================] - 5s 11ms/step - loss: 0.2229 - accuracy: 0.9194 - val_loss: 0.7185 - val_accuracy: 0.7968\n",
            "Epoch 78/100\n",
            "419/419 [==============================] - 5s 11ms/step - loss: 0.1271 - accuracy: 0.9552 - val_loss: 0.7096 - val_accuracy: 0.8182\n",
            "Epoch 79/100\n",
            "419/419 [==============================] - 5s 11ms/step - loss: 0.1928 - accuracy: 0.9259 - val_loss: 0.7193 - val_accuracy: 0.8128\n",
            "Epoch 80/100\n",
            "419/419 [==============================] - 5s 11ms/step - loss: 0.1556 - accuracy: 0.9403 - val_loss: 0.7821 - val_accuracy: 0.7968\n",
            "Epoch 81/100\n",
            "419/419 [==============================] - 5s 11ms/step - loss: 0.1737 - accuracy: 0.9289 - val_loss: 0.5882 - val_accuracy: 0.8396\n"
          ]
        }
      ]
    },
    {
      "cell_type": "code",
      "source": [
        "# Evaluate the trained model.\n",
        "model_evaluation_history = LRCN_model.evaluate(features_test, labels_test)"
      ],
      "metadata": {
        "colab": {
          "base_uri": "https://localhost:8080/"
        },
        "id": "sa-sTkK6Q-ks",
        "outputId": "9ca3c127-00aa-43e6-e645-ae74b2ac4387"
      },
      "execution_count": 14,
      "outputs": [
        {
          "output_type": "stream",
          "name": "stdout",
          "text": [
            "7/7 [==============================] - 0s 29ms/step - loss: 0.6649 - accuracy: 0.7826\n"
          ]
        }
      ]
    },
    {
      "cell_type": "code",
      "source": [
        "# Get the loss and accuracy from model_evaluation_history.\n",
        "model_evaluation_loss, model_evaluation_accuracy = model_evaluation_history\n",
        "\n",
        "# Define the string date format.\n",
        "# Get the current Date and Time in a DateTime Object.\n",
        "# Convert the DateTime object to string according to the style mentioned in date_time_format string.\n",
        "date_time_format = '%Y_%m_%d__%H_%M_%S'\n",
        "current_date_time_dt = dt.datetime.now()\n",
        "current_date_time_string = dt.datetime.strftime(current_date_time_dt, date_time_format)\n",
        "    \n",
        "# Define a useful name for our model to make it easy for us while navigating through multiple saved models.\n",
        "model_file_name = f'LRCN_model___Date_Time_{current_date_time_string}___Loss_{model_evaluation_loss}___Accuracy_{model_evaluation_accuracy}.h5'\n",
        "\n",
        "# Save the Model.\n",
        "LRCN_model.save(model_file_name)"
      ],
      "metadata": {
        "id": "D3J57fVJRCEa"
      },
      "execution_count": null,
      "outputs": []
    },
    {
      "cell_type": "code",
      "source": [
        "def plot_metric(model_training_history, metric_name_1, metric_name_2, plot_name):\n",
        "    '''\n",
        "    This function will plot the metrics passed to it in a graph.\n",
        "    Args:\n",
        "        model_training_history: A history object containing a record of training and validation \n",
        "                                loss values and metrics values at successive epochs\n",
        "        metric_name_1:          The name of the first metric that needs to be plotted in the graph.\n",
        "        metric_name_2:          The name of the second metric that needs to be plotted in the graph.\n",
        "        plot_name:              The title of the graph.\n",
        "    '''\n",
        "    \n",
        "    # Get metric values using metric names as identifiers.\n",
        "    metric_value_1 = model_training_history.history[metric_name_1]\n",
        "    metric_value_2 = model_training_history.history[metric_name_2]\n",
        "    \n",
        "    # Construct a range object which will be used as x-axis (horizontal plane) of the graph.\n",
        "    epochs = range(len(metric_value_1))\n",
        "\n",
        "    # Plot the Graph.\n",
        "    plt.plot(epochs, metric_value_1, 'blue', label = metric_name_1)\n",
        "    plt.plot(epochs, metric_value_2, 'red', label = metric_name_2)\n",
        "\n",
        "    # Add title to the plot.\n",
        "    plt.title(str(plot_name))\n",
        "\n",
        "    # Add legend to the plot.\n",
        "    plt.legend()"
      ],
      "metadata": {
        "id": "sXhBv91xRFgU"
      },
      "execution_count": 15,
      "outputs": []
    },
    {
      "cell_type": "code",
      "source": [
        "# Visualize the training and validation loss metrices.\n",
        "plot_metric(LRCN_model_training_history, 'loss', 'val_loss', 'Total Loss vs Total Validation Loss')"
      ],
      "metadata": {
        "colab": {
          "base_uri": "https://localhost:8080/",
          "height": 281
        },
        "id": "cKhf3si1RJUW",
        "outputId": "10b83ca1-6928-4e71-c5ff-c6e915e837e0"
      },
      "execution_count": 16,
      "outputs": [
        {
          "output_type": "display_data",
          "data": {
            "text/plain": [
              "<Figure size 432x288 with 1 Axes>"
            ],
            "image/png": "[encoded data removed]"
          },
          "metadata": {
            "needs_background": "light"
          }
        }
      ]
    },
    {
      "cell_type": "code",
      "source": [
        "# Visualize the training and validation accuracy metrices.\n",
        "plot_metric(LRCN_model_training_history, 'accuracy', 'val_accuracy', 'Total Accuracy vs Total Validation Accuracy')"
      ],
      "metadata": {
        "colab": {
          "base_uri": "https://localhost:8080/",
          "height": 281
        },
        "id": "5JB37wh3RLWX",
        "outputId": "08de18fe-9da0-48a7-976d-2553ec19f7b8"
      },
      "execution_count": 17,
      "outputs": [
        {
          "output_type": "display_data",
          "data": {
            "text/plain": [
              "<Figure size 432x288 with 1 Axes>"
            ],
            "image/png": "[encoded data removed]"
          },
          "metadata": {
            "needs_background": "light"
          }
        }
      ]
    },
    {
      "cell_type": "code",
      "source": [
        "predictions =  LRCN_model.predict(features_test)\n",
        "predictions\n"
      ],
      "metadata": {
        "colab": {
          "base_uri": "https://localhost:8080/"
        },
        "id": "yM7edJgyRf-P",
        "outputId": "5a900304-d843-41b4-e22e-89b9a57cc3fc"
      },
      "execution_count": 18,
      "outputs": [
        {
          "output_type": "execute_result",
          "data": {
            "text/plain": [
              "array([[8.86833251e-01, 2.18753051e-02, 4.82849136e-04, 7.95941576e-02,\n",
              "        8.68382398e-03, 2.53061834e-03],\n",
              "       [3.76743302e-02, 1.78633514e-03, 2.32132137e-04, 9.53730285e-01,\n",
              "        5.16348798e-03, 1.41347398e-03],\n",
              "       [1.32842315e-05, 3.91339418e-04, 9.97466922e-01, 4.44063509e-04,\n",
              "        7.60628172e-05, 1.60826161e-03],\n",
              "       ...,\n",
              "       [3.14352065e-02, 3.41751009e-01, 7.95974657e-02, 1.21352948e-01,\n",
              "        2.58826986e-02, 3.99980634e-01],\n",
              "       [2.01046816e-04, 6.57654554e-03, 9.92300868e-01, 5.90898679e-04,\n",
              "        7.65926015e-05, 2.54053186e-04],\n",
              "       [1.72608159e-02, 9.67264950e-01, 1.34185692e-02, 1.01089198e-03,\n",
              "        1.09998356e-04, 9.34750657e-04]], dtype=float32)"
            ]
          },
          "metadata": {},
          "execution_count": 18
        }
      ]
    },
    {
      "cell_type": "code",
      "source": [
        "preds=predictions.argmax(axis=1)\n",
        "preds"
      ],
      "metadata": {
        "colab": {
          "base_uri": "https://localhost:8080/"
        },
        "id": "DNHaLfq2RjeT",
        "outputId": "276f06c2-070f-4cb1-8e69-b107aeecdaab"
      },
      "execution_count": 19,
      "outputs": [
        {
          "output_type": "execute_result",
          "data": {
            "text/plain": [
              "array([0, 3, 2, 3, 5, 2, 5, 1, 3, 0, 3, 0, 1, 0, 5, 3, 5, 1, 1, 0, 5, 5,\n",
              "       0, 2, 2, 4, 4, 4, 5, 5, 4, 5, 5, 3, 3, 2, 4, 1, 2, 4, 2, 2, 1, 3,\n",
              "       1, 0, 5, 5, 4, 3, 2, 2, 4, 4, 3, 0, 1, 0, 2, 5, 4, 5, 5, 0, 1, 3,\n",
              "       1, 0, 5, 1, 1, 2, 4, 5, 3, 4, 0, 3, 4, 5, 3, 3, 3, 0, 1, 1, 1, 3,\n",
              "       5, 3, 2, 1, 0, 1, 5, 4, 1, 2, 0, 4, 3, 3, 4, 5, 2, 3, 5, 1, 3, 1,\n",
              "       5, 4, 0, 1, 3, 0, 4, 3, 1, 1, 1, 3, 1, 5, 1, 3, 5, 2, 2, 1, 2, 1,\n",
              "       1, 2, 1, 0, 3, 0, 1, 1, 2, 2, 3, 3, 1, 0, 3, 0, 0, 3, 3, 3, 4, 5,\n",
              "       3, 2, 1, 3, 0, 3, 3, 3, 2, 2, 4, 1, 0, 0, 5, 4, 4, 5, 1, 4, 3, 1,\n",
              "       5, 0, 4, 5, 5, 0, 1, 3, 4, 3, 1, 4, 3, 4, 1, 4, 0, 0, 3, 4, 3, 1,\n",
              "       3, 5, 4, 2, 3, 2, 5, 2, 1])"
            ]
          },
          "metadata": {},
          "execution_count": 19
        }
      ]
    },
    {
      "cell_type": "code",
      "source": [
        "new_preds = preds.astype(int).flatten()\n",
        "new_preds"
      ],
      "metadata": {
        "colab": {
          "base_uri": "https://localhost:8080/"
        },
        "id": "0W618McKRl02",
        "outputId": "d7fd2a85-99b8-46df-8741-0c6f28659db9"
      },
      "execution_count": 20,
      "outputs": [
        {
          "output_type": "execute_result",
          "data": {
            "text/plain": [
              "array([0, 3, 2, 3, 5, 2, 5, 1, 3, 0, 3, 0, 1, 0, 5, 3, 5, 1, 1, 0, 5, 5,\n",
              "       0, 2, 2, 4, 4, 4, 5, 5, 4, 5, 5, 3, 3, 2, 4, 1, 2, 4, 2, 2, 1, 3,\n",
              "       1, 0, 5, 5, 4, 3, 2, 2, 4, 4, 3, 0, 1, 0, 2, 5, 4, 5, 5, 0, 1, 3,\n",
              "       1, 0, 5, 1, 1, 2, 4, 5, 3, 4, 0, 3, 4, 5, 3, 3, 3, 0, 1, 1, 1, 3,\n",
              "       5, 3, 2, 1, 0, 1, 5, 4, 1, 2, 0, 4, 3, 3, 4, 5, 2, 3, 5, 1, 3, 1,\n",
              "       5, 4, 0, 1, 3, 0, 4, 3, 1, 1, 1, 3, 1, 5, 1, 3, 5, 2, 2, 1, 2, 1,\n",
              "       1, 2, 1, 0, 3, 0, 1, 1, 2, 2, 3, 3, 1, 0, 3, 0, 0, 3, 3, 3, 4, 5,\n",
              "       3, 2, 1, 3, 0, 3, 3, 3, 2, 2, 4, 1, 0, 0, 5, 4, 4, 5, 1, 4, 3, 1,\n",
              "       5, 0, 4, 5, 5, 0, 1, 3, 4, 3, 1, 4, 3, 4, 1, 4, 0, 0, 3, 4, 3, 1,\n",
              "       3, 5, 4, 2, 3, 2, 5, 2, 1])"
            ]
          },
          "metadata": {},
          "execution_count": 20
        }
      ]
    },
    {
      "cell_type": "code",
      "source": [
        "\n",
        "from sklearn.metrics import classification_report, confusion_matrix,accuracy_score\n",
        "import seaborn as sn\n",
        "import pandas as pd\n",
        "import numpy as np\n",
        "new_labels=np.argmax(labels_test, axis=1)\n",
        "print(classification_report(new_labels,new_preds))\n",
        "\n",
        "acc = float(accuracy_score(new_labels,new_preds))*100\n",
        "print(\"----accuracy score %s ----\" % acc)\n",
        "\n",
        "cm = confusion_matrix(new_labels,new_preds)\n",
        "#df_cm = pd.DataFrame(cm)\n",
        "class_names = ['neutral','calm', 'happy','sad','angry', 'fearful' ]\n",
        "df_cm = pd.DataFrame(cm, index=class_names, columns=class_names,)\n",
        "sn.heatmap(df_cm, annot=True, fmt='')\n",
        "plt.show()\n"
      ],
      "metadata": {
        "colab": {
          "base_uri": "https://localhost:8080/",
          "height": 508
        },
        "id": "cTET95L8RoVW",
        "outputId": "397d9cf1-3e65-4267-d999-12bd281dbc9b"
      },
      "execution_count": 21,
      "outputs": [
        {
          "output_type": "stream",
          "name": "stdout",
          "text": [
            "              precision    recall  f1-score   support\n",
            "\n",
            "           0       0.72      0.78      0.75        27\n",
            "           1       0.81      0.77      0.79        44\n",
            "           2       0.96      0.81      0.88        32\n",
            "           3       0.65      0.81      0.72        37\n",
            "           4       0.80      0.75      0.77        32\n",
            "           5       0.82      0.77      0.79        35\n",
            "\n",
            "    accuracy                           0.78       207\n",
            "   macro avg       0.79      0.78      0.79       207\n",
            "weighted avg       0.79      0.78      0.79       207\n",
            "\n",
            "----accuracy score 78.26086956521739 ----\n"
          ]
        },
        {
          "output_type": "display_data",
          "data": {
            "text/plain": [
              "<Figure size 432x288 with 2 Axes>"
            ],
            "image/png": "[encoded data removed]"
          },
          "metadata": {
            "needs_background": "light"
          }
        }
      ]
    },
    {
      "cell_type": "code",
      "source": [
        ""
      ],
      "metadata": {
        "id": "c3nbyK6BfnDR"
      },
      "execution_count": null,
      "outputs": []
    }
  ]
}