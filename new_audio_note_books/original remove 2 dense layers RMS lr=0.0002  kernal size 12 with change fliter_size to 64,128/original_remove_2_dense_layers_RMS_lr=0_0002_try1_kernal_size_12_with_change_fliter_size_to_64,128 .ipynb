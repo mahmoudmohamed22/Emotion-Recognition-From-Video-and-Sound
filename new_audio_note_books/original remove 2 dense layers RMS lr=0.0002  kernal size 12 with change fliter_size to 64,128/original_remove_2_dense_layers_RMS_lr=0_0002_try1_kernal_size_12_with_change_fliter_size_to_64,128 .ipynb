{
  "nbformat": 4,
  "nbformat_minor": 0,
  "metadata": {
    "colab": {
      "name": "original_remove_2_dense_layers_RMS_lr=0_0002_kernal_size_12_1.ipynb",
      "provenance": [],
      "collapsed_sections": []
    },
    "kernelspec": {
      "name": "python3",
      "display_name": "Python 3"
    },
    "language_info": {
      "name": "python"
    },
    "accelerator": "TPU"
  },
  "cells": [
    {
      "cell_type": "code",
      "execution_count": 1,
      "metadata": {
        "colab": {
          "base_uri": "https://localhost:8080/"
        },
        "id": "9SRCO-a_AlH5",
        "outputId": "96175375-f8be-4cb1-954c-12f97f8055b5"
      },
      "outputs": [
        {
          "output_type": "stream",
          "name": "stdout",
          "text": [
            "Mounted at /content/drive\n"
          ]
        }
      ],
      "source": [
        "from google.colab import drive\n",
        "drive.mount('/content/drive')"
      ]
    },
    {
      "cell_type": "code",
      "source": [
        "!pip install librosa"
      ],
      "metadata": {
        "colab": {
          "base_uri": "https://localhost:8080/"
        },
        "id": "5Lo4mUwG9RMd",
        "outputId": "b91a7dcf-a275-4bc1-e485-9681d22d8cc7"
      },
      "execution_count": 2,
      "outputs": [
        {
          "output_type": "stream",
          "name": "stdout",
          "text": [
            "Looking in indexes: https://pypi.org/simple, https://us-python.pkg.dev/colab-wheels/public/simple/\n",
            "Requirement already satisfied: librosa in /usr/local/lib/python3.7/dist-packages (0.8.1)\n",
            "Requirement already satisfied: pooch>=1.0 in /usr/local/lib/python3.7/dist-packages (from librosa) (1.6.0)\n",
            "Requirement already satisfied: joblib>=0.14 in /usr/local/lib/python3.7/dist-packages (from librosa) (1.1.0)\n",
            "Requirement already satisfied: audioread>=2.0.0 in /usr/local/lib/python3.7/dist-packages (from librosa) (2.1.9)\n",
            "Requirement already satisfied: decorator>=3.0.0 in /usr/local/lib/python3.7/dist-packages (from librosa) (4.4.2)\n",
            "Requirement already satisfied: scikit-learn!=0.19.0,>=0.14.0 in /usr/local/lib/python3.7/dist-packages (from librosa) (1.0.2)\n",
            "Requirement already satisfied: numpy>=1.15.0 in /usr/local/lib/python3.7/dist-packages (from librosa) (1.21.6)\n",
            "Requirement already satisfied: scipy>=1.0.0 in /usr/local/lib/python3.7/dist-packages (from librosa) (1.4.1)\n",
            "Requirement already satisfied: packaging>=20.0 in /usr/local/lib/python3.7/dist-packages (from librosa) (21.3)\n",
            "Requirement already satisfied: numba>=0.43.0 in /usr/local/lib/python3.7/dist-packages (from librosa) (0.51.2)\n",
            "Requirement already satisfied: soundfile>=0.10.2 in /usr/local/lib/python3.7/dist-packages (from librosa) (0.10.3.post1)\n",
            "Requirement already satisfied: resampy>=0.2.2 in /usr/local/lib/python3.7/dist-packages (from librosa) (0.2.2)\n",
            "Requirement already satisfied: setuptools in /usr/local/lib/python3.7/dist-packages (from numba>=0.43.0->librosa) (57.4.0)\n",
            "Requirement already satisfied: llvmlite<0.35,>=0.34.0.dev0 in /usr/local/lib/python3.7/dist-packages (from numba>=0.43.0->librosa) (0.34.0)\n",
            "Requirement already satisfied: pyparsing!=3.0.5,>=2.0.2 in /usr/local/lib/python3.7/dist-packages (from packaging>=20.0->librosa) (3.0.9)\n",
            "Requirement already satisfied: appdirs>=1.3.0 in /usr/local/lib/python3.7/dist-packages (from pooch>=1.0->librosa) (1.4.4)\n",
            "Requirement already satisfied: requests>=2.19.0 in /usr/local/lib/python3.7/dist-packages (from pooch>=1.0->librosa) (2.23.0)\n",
            "Requirement already satisfied: certifi>=2017.4.17 in /usr/local/lib/python3.7/dist-packages (from requests>=2.19.0->pooch>=1.0->librosa) (2022.5.18.1)\n",
            "Requirement already satisfied: chardet<4,>=3.0.2 in /usr/local/lib/python3.7/dist-packages (from requests>=2.19.0->pooch>=1.0->librosa) (3.0.4)\n",
            "Requirement already satisfied: idna<3,>=2.5 in /usr/local/lib/python3.7/dist-packages (from requests>=2.19.0->pooch>=1.0->librosa) (2.10)\n",
            "Requirement already satisfied: urllib3!=1.25.0,!=1.25.1,<1.26,>=1.21.1 in /usr/local/lib/python3.7/dist-packages (from requests>=2.19.0->pooch>=1.0->librosa) (1.24.3)\n",
            "Requirement already satisfied: six>=1.3 in /usr/local/lib/python3.7/dist-packages (from resampy>=0.2.2->librosa) (1.15.0)\n",
            "Requirement already satisfied: threadpoolctl>=2.0.0 in /usr/local/lib/python3.7/dist-packages (from scikit-learn!=0.19.0,>=0.14.0->librosa) (3.1.0)\n",
            "Requirement already satisfied: cffi>=1.0 in /usr/local/lib/python3.7/dist-packages (from soundfile>=0.10.2->librosa) (1.15.0)\n",
            "Requirement already satisfied: pycparser in /usr/local/lib/python3.7/dist-packages (from cffi>=1.0->soundfile>=0.10.2->librosa) (2.21)\n"
          ]
        }
      ]
    },
    {
      "cell_type": "code",
      "metadata": {
        "id": "HJjcbxwy46bG",
        "colab": {
          "base_uri": "https://localhost:8080/",
          "height": 17
        },
        "outputId": "d1b62658-d7ef-4c17-8c0b-0fd8e19e7b9d"
      },
      "source": [
        "# Orignial Notebook: https://github.com/MITESHPUTHRANNEU/Speech-Emotion-Analyzer/blob/master/final_results_gender_test.ipynb\n",
        "# This notebook author: Reza Chu\n",
        "# Last Editing Date: 31st May 2019\n",
        "\n",
        "## Python\n",
        "import os\n",
        "import random\n",
        "import sys\n",
        "\n",
        "import IPython\n",
        "from IPython.display import Audio\n",
        "from IPython.display import Image\n",
        "import matplotlib.pyplot as plt\n",
        "\n",
        "## Package\n",
        "import glob \n",
        "import keras\n",
        "import IPython.display as ipd\n",
        "import librosa\n",
        "import librosa.display\n",
        "import matplotlib.pyplot as plt\n",
        "import numpy as np\n",
        "import pandas as pd\n",
        "import plotly.graph_objs as go\n",
        "import plotly.offline as py\n",
        "import plotly.tools as tls\n",
        "import seaborn as sns\n",
        "import scipy.io.wavfile\n",
        "import tensorflow as tf\n",
        "py.init_notebook_mode(connected=True)\n",
        "\n",
        "## Keras\n",
        "from keras import regularizers\n",
        "from keras.callbacks import ModelCheckpoint, LearningRateScheduler, EarlyStopping\n",
        "from keras.callbacks import  History, ReduceLROnPlateau, CSVLogger\n",
        "from keras.models import Model, Sequential\n",
        "from keras.layers import Dense, Embedding, LSTM\n",
        "from keras.layers import Input, Flatten, Dropout, Activation, BatchNormalization\n",
        "from keras.layers import Conv1D, MaxPooling1D, AveragePooling1D\n",
        "from keras.preprocessing import sequence\n",
        "from keras.preprocessing.sequence import pad_sequences\n",
        "from keras.preprocessing.text import Tokenizer\n",
        "from keras.utils import np_utils\n",
        "from tensorflow.keras.utils import to_categorical\n",
        "\n",
        "## Sklearn\n",
        "from sklearn.metrics import confusion_matrix\n",
        "from sklearn.preprocessing import LabelEncoder\n",
        "\n",
        "## Rest\n",
        "from scipy.fftpack import fft\n",
        "from scipy import signal\n",
        "from scipy.io import wavfile\n",
        "from tqdm import tqdm\n",
        "\n",
        "input_duration=3\n",
        "# % pylab inline"
      ],
      "execution_count": 3,
      "outputs": [
        {
          "output_type": "display_data",
          "data": {
            "text/html": [
              "        <script type=\"text/javascript\">\n",
              "        window.PlotlyConfig = {MathJaxConfig: 'local'};\n",
              "        if (window.MathJax) {MathJax.Hub.Config({SVG: {font: \"STIX-Web\"}});}\n",
              "        if (typeof require !== 'undefined') {\n",
              "        require.undef(\"plotly\");\n",
              "        requirejs.config({\n",
              "            paths: {\n",
              "                'plotly': ['https://cdn.plot.ly/plotly-2.8.3.min']\n",
              "            }\n",
              "        });\n",
              "        require(['plotly'], function(Plotly) {\n",
              "            window._Plotly = Plotly;\n",
              "        });\n",
              "        }\n",
              "        </script>\n",
              "        "
            ]
          },
          "metadata": {}
        }
      ]
    },
    {
      "cell_type": "code",
      "source": [
        "# # Saving joblib files to not load them again with the loop above\n",
        "\n",
        "# import joblib\n",
        "\n",
        "# X_name = 'x.joblib'\n",
        "# y_name = 'y.joblib'\n",
        "# save_dir = '/content/drive/My Drive/graduation project/audio/paper_code/features'\n",
        "\n",
        "# savedX = joblib.dump(X, os.path.join(save_dir, X_name))\n",
        "# savedy = joblib.dump(y, os.path.join(save_dir, y_name))"
      ],
      "metadata": {
        "id": "UCzic8rlDcuk"
      },
      "execution_count": null,
      "outputs": []
    },
    {
      "cell_type": "code",
      "source": [
        "# # Loading saved models\n",
        "import joblib\n",
        "X = joblib.load('/content/drive/My Drive/graduation project/audio/paper_code/features/x.joblib')\n",
        "y = joblib.load('/content/drive/My Drive/graduation project/audio/paper_code/features/y.joblib')"
      ],
      "metadata": {
        "id": "Q35CN6zDrzg1"
      },
      "execution_count": 4,
      "outputs": []
    },
    {
      "cell_type": "code",
      "source": [
        "X.shape"
      ],
      "metadata": {
        "id": "7PSTurzjCo5K",
        "colab": {
          "base_uri": "https://localhost:8080/"
        },
        "outputId": "cf72c9ae-5c2e-40da-90bb-14d6d71b380d"
      },
      "execution_count": 5,
      "outputs": [
        {
          "output_type": "execute_result",
          "data": {
            "text/plain": [
              "(2068, 40)"
            ]
          },
          "metadata": {},
          "execution_count": 5
        }
      ]
    },
    {
      "cell_type": "code",
      "source": [
        "from sklearn.model_selection import train_test_split\n",
        "\n",
        "X_train, X_test, y_train, y_test = train_test_split(X,y, test_size=0.1 ,shuffle = True\n",
        "                                                    , random_state=42)\n",
        "X_train , X_valid, y_train, y_valid = train_test_split(X_train,y_train, test_size=0.1112305212 , shuffle = True \n",
        "                                                       , random_state=42)"
      ],
      "metadata": {
        "id": "Ai4Fy5cPCiq1"
      },
      "execution_count": 6,
      "outputs": []
    },
    {
      "cell_type": "code",
      "source": [
        "import numpy as np\n",
        "x_traincnn = np.expand_dims(X_train, axis=2)\n",
        "x_testcnn = np.expand_dims(X_test, axis=2)\n",
        "X_valid= np.expand_dims(X_valid, axis=2)"
      ],
      "metadata": {
        "id": "tp1Fm5K3CEXu"
      },
      "execution_count": 7,
      "outputs": []
    },
    {
      "cell_type": "code",
      "source": [
        "x_traincnn.shape, x_testcnn.shape , X_valid.shape\n",
        "#1861"
      ],
      "metadata": {
        "id": "RI0MxoIPBws5",
        "colab": {
          "base_uri": "https://localhost:8080/"
        },
        "outputId": "e81b73c1-c579-4491-8dde-0d361ae084ab"
      },
      "execution_count": 8,
      "outputs": [
        {
          "output_type": "execute_result",
          "data": {
            "text/plain": [
              "((1654, 40, 1), (207, 40, 1), (207, 40, 1))"
            ]
          },
          "metadata": {},
          "execution_count": 8
        }
      ]
    },
    {
      "cell_type": "code",
      "source": [
        "!pip install tensorflow"
      ],
      "metadata": {
        "id": "oALhiMUd9G2Y",
        "colab": {
          "base_uri": "https://localhost:8080/"
        },
        "outputId": "8a256439-2056-4db7-89f7-ee92f65b10b0"
      },
      "execution_count": 9,
      "outputs": [
        {
          "output_type": "stream",
          "name": "stdout",
          "text": [
            "Looking in indexes: https://pypi.org/simple, https://us-python.pkg.dev/colab-wheels/public/simple/\n",
            "Requirement already satisfied: tensorflow in /usr/local/lib/python3.7/dist-packages (2.8.2+zzzcolab20220527125636)\n",
            "Requirement already satisfied: setuptools in /usr/local/lib/python3.7/dist-packages (from tensorflow) (57.4.0)\n",
            "Requirement already satisfied: tensorflow-io-gcs-filesystem>=0.23.1 in /usr/local/lib/python3.7/dist-packages (from tensorflow) (0.26.0)\n",
            "Requirement already satisfied: keras<2.9,>=2.8.0rc0 in /usr/local/lib/python3.7/dist-packages (from tensorflow) (2.8.0)\n",
            "Requirement already satisfied: termcolor>=1.1.0 in /usr/local/lib/python3.7/dist-packages (from tensorflow) (1.1.0)\n",
            "Requirement already satisfied: flatbuffers>=1.12 in /usr/local/lib/python3.7/dist-packages (from tensorflow) (2.0)\n",
            "Requirement already satisfied: h5py>=2.9.0 in /usr/local/lib/python3.7/dist-packages (from tensorflow) (3.1.0)\n",
            "Requirement already satisfied: protobuf<3.20,>=3.9.2 in /usr/local/lib/python3.7/dist-packages (from tensorflow) (3.17.3)\n",
            "Requirement already satisfied: astunparse>=1.6.0 in /usr/local/lib/python3.7/dist-packages (from tensorflow) (1.6.3)\n",
            "Requirement already satisfied: gast>=0.2.1 in /usr/local/lib/python3.7/dist-packages (from tensorflow) (0.5.3)\n",
            "Requirement already satisfied: opt-einsum>=2.3.2 in /usr/local/lib/python3.7/dist-packages (from tensorflow) (3.3.0)\n",
            "Requirement already satisfied: six>=1.12.0 in /usr/local/lib/python3.7/dist-packages (from tensorflow) (1.15.0)\n",
            "Requirement already satisfied: grpcio<2.0,>=1.24.3 in /usr/local/lib/python3.7/dist-packages (from tensorflow) (1.46.3)\n",
            "Requirement already satisfied: tensorboard<2.9,>=2.8 in /usr/local/lib/python3.7/dist-packages (from tensorflow) (2.8.0)\n",
            "Requirement already satisfied: typing-extensions>=3.6.6 in /usr/local/lib/python3.7/dist-packages (from tensorflow) (4.2.0)\n",
            "Requirement already satisfied: libclang>=9.0.1 in /usr/local/lib/python3.7/dist-packages (from tensorflow) (14.0.1)\n",
            "Requirement already satisfied: numpy>=1.20 in /usr/local/lib/python3.7/dist-packages (from tensorflow) (1.21.6)\n",
            "Requirement already satisfied: tensorflow-estimator<2.9,>=2.8 in /usr/local/lib/python3.7/dist-packages (from tensorflow) (2.8.0)\n",
            "Requirement already satisfied: keras-preprocessing>=1.1.1 in /usr/local/lib/python3.7/dist-packages (from tensorflow) (1.1.2)\n",
            "Requirement already satisfied: google-pasta>=0.1.1 in /usr/local/lib/python3.7/dist-packages (from tensorflow) (0.2.0)\n",
            "Requirement already satisfied: wrapt>=1.11.0 in /usr/local/lib/python3.7/dist-packages (from tensorflow) (1.14.1)\n",
            "Requirement already satisfied: absl-py>=0.4.0 in /usr/local/lib/python3.7/dist-packages (from tensorflow) (1.0.0)\n",
            "Requirement already satisfied: wheel<1.0,>=0.23.0 in /usr/local/lib/python3.7/dist-packages (from astunparse>=1.6.0->tensorflow) (0.37.1)\n",
            "Requirement already satisfied: cached-property in /usr/local/lib/python3.7/dist-packages (from h5py>=2.9.0->tensorflow) (1.5.2)\n",
            "Requirement already satisfied: google-auth<3,>=1.6.3 in /usr/local/lib/python3.7/dist-packages (from tensorboard<2.9,>=2.8->tensorflow) (1.35.0)\n",
            "Requirement already satisfied: google-auth-oauthlib<0.5,>=0.4.1 in /usr/local/lib/python3.7/dist-packages (from tensorboard<2.9,>=2.8->tensorflow) (0.4.6)\n",
            "Requirement already satisfied: tensorboard-data-server<0.7.0,>=0.6.0 in /usr/local/lib/python3.7/dist-packages (from tensorboard<2.9,>=2.8->tensorflow) (0.6.1)\n",
            "Requirement already satisfied: requests<3,>=2.21.0 in /usr/local/lib/python3.7/dist-packages (from tensorboard<2.9,>=2.8->tensorflow) (2.23.0)\n",
            "Requirement already satisfied: werkzeug>=0.11.15 in /usr/local/lib/python3.7/dist-packages (from tensorboard<2.9,>=2.8->tensorflow) (1.0.1)\n",
            "Requirement already satisfied: markdown>=2.6.8 in /usr/local/lib/python3.7/dist-packages (from tensorboard<2.9,>=2.8->tensorflow) (3.3.7)\n",
            "Requirement already satisfied: tensorboard-plugin-wit>=1.6.0 in /usr/local/lib/python3.7/dist-packages (from tensorboard<2.9,>=2.8->tensorflow) (1.8.1)\n",
            "Requirement already satisfied: rsa<5,>=3.1.4 in /usr/local/lib/python3.7/dist-packages (from google-auth<3,>=1.6.3->tensorboard<2.9,>=2.8->tensorflow) (4.8)\n",
            "Requirement already satisfied: pyasn1-modules>=0.2.1 in /usr/local/lib/python3.7/dist-packages (from google-auth<3,>=1.6.3->tensorboard<2.9,>=2.8->tensorflow) (0.2.8)\n",
            "Requirement already satisfied: cachetools<5.0,>=2.0.0 in /usr/local/lib/python3.7/dist-packages (from google-auth<3,>=1.6.3->tensorboard<2.9,>=2.8->tensorflow) (4.2.4)\n",
            "Requirement already satisfied: requests-oauthlib>=0.7.0 in /usr/local/lib/python3.7/dist-packages (from google-auth-oauthlib<0.5,>=0.4.1->tensorboard<2.9,>=2.8->tensorflow) (1.3.1)\n",
            "Requirement already satisfied: importlib-metadata>=4.4 in /usr/local/lib/python3.7/dist-packages (from markdown>=2.6.8->tensorboard<2.9,>=2.8->tensorflow) (4.11.4)\n",
            "Requirement already satisfied: zipp>=0.5 in /usr/local/lib/python3.7/dist-packages (from importlib-metadata>=4.4->markdown>=2.6.8->tensorboard<2.9,>=2.8->tensorflow) (3.8.0)\n",
            "Requirement already satisfied: pyasn1<0.5.0,>=0.4.6 in /usr/local/lib/python3.7/dist-packages (from pyasn1-modules>=0.2.1->google-auth<3,>=1.6.3->tensorboard<2.9,>=2.8->tensorflow) (0.4.8)\n",
            "Requirement already satisfied: idna<3,>=2.5 in /usr/local/lib/python3.7/dist-packages (from requests<3,>=2.21.0->tensorboard<2.9,>=2.8->tensorflow) (2.10)\n",
            "Requirement already satisfied: certifi>=2017.4.17 in /usr/local/lib/python3.7/dist-packages (from requests<3,>=2.21.0->tensorboard<2.9,>=2.8->tensorflow) (2022.5.18.1)\n",
            "Requirement already satisfied: chardet<4,>=3.0.2 in /usr/local/lib/python3.7/dist-packages (from requests<3,>=2.21.0->tensorboard<2.9,>=2.8->tensorflow) (3.0.4)\n",
            "Requirement already satisfied: urllib3!=1.25.0,!=1.25.1,<1.26,>=1.21.1 in /usr/local/lib/python3.7/dist-packages (from requests<3,>=2.21.0->tensorboard<2.9,>=2.8->tensorflow) (1.24.3)\n",
            "Requirement already satisfied: oauthlib>=3.0.0 in /usr/local/lib/python3.7/dist-packages (from requests-oauthlib>=0.7.0->google-auth-oauthlib<0.5,>=0.4.1->tensorboard<2.9,>=2.8->tensorflow) (3.2.0)\n"
          ]
        }
      ]
    },
    {
      "cell_type": "code",
      "source": [
        "import keras\n",
        "import numpy as np\n",
        "import matplotlib.pyplot as plt\n",
        "import tensorflow as tf\n",
        "from keras.preprocessing import sequence\n",
        "from keras.models import Sequential\n",
        "from keras.layers import Dense, Embedding\n",
        "from tensorflow.keras.utils import to_categorical\n",
        "from keras.layers import Input, Flatten, Dropout, Activation\n",
        "from keras.layers import Conv1D, MaxPooling1D\n",
        "from keras.models import Model\n",
        "from keras.callbacks import ModelCheckpoint\n",
        "from tensorflow.keras import optimizers\n",
        "\n",
        "model = Sequential()\n",
        "\n",
        "model.add(Conv1D(64, 12,padding='same', #classifier.add(Convolution2D(64, (3, 3), padding = 'same', input_shape = (128, 128, 3), activation = 'relu'))\n",
        "                 input_shape=(40,1)))\n",
        "model.add(Activation('relu'))\n",
        "model.add(Dropout(0.3))\n",
        "model.add(MaxPooling1D(pool_size=(5)))\n",
        "\n",
        "\n",
        "model.add(Conv1D(128,12,padding='same',))\n",
        "model.add(Activation('relu'))\n",
        "model.add(Dropout(0.3))\n",
        "model.add(MaxPooling1D(pool_size=(5)))\n",
        "\n",
        "#model.add(MaxPooling1D(pool_size=(5)))\n",
        "\n",
        "model.add(Flatten())\n",
        "\n",
        "\n",
        "\n",
        "model.add(Dense(6))\n",
        "model.add(Activation('softmax'))\n",
        "\n",
        "\n",
        "opt = tf.keras.optimizers.RMSprop(lr=0.0002 , decay=0.0)\n",
        "#opt = tf.keras.optimizers.Adam(lr=0.0002 , decay=0.0)\n",
        "#opt = tf.keras.optimizers.RMSprop(lr=0.0001, rho=0.9, epsilon=1e-07, decay=0.0)\n",
        "#opt = tf.keras.optimizers.SGD(lr=0.001, momentum=0.0, decay=0.0, nesterov=False)"
      ],
      "metadata": {
        "id": "g74fXWVAC4Cr",
        "colab": {
          "base_uri": "https://localhost:8080/"
        },
        "outputId": "f0823b3d-62d1-46a2-b6cd-e5534ca5802e"
      },
      "execution_count": 10,
      "outputs": [
        {
          "output_type": "stream",
          "name": "stderr",
          "text": [
            "/usr/local/lib/python3.7/dist-packages/keras/optimizer_v2/rmsprop.py:130: UserWarning:\n",
            "\n",
            "The `lr` argument is deprecated, use `learning_rate` instead.\n",
            "\n"
          ]
        }
      ]
    },
    {
      "cell_type": "code",
      "source": [
        "model.summary()"
      ],
      "metadata": {
        "id": "H6ukOxAGC_I4",
        "colab": {
          "base_uri": "https://localhost:8080/"
        },
        "outputId": "f538c7bf-3f4a-4268-cab1-84e7c6c82876"
      },
      "execution_count": 11,
      "outputs": [
        {
          "output_type": "stream",
          "name": "stdout",
          "text": [
            "Model: \"sequential\"\n",
            "_________________________________________________________________\n",
            " Layer (type)                Output Shape              Param #   \n",
            "=================================================================\n",
            " conv1d (Conv1D)             (None, 40, 64)            832       \n",
            "                                                                 \n",
            " activation (Activation)     (None, 40, 64)            0         \n",
            "                                                                 \n",
            " dropout (Dropout)           (None, 40, 64)            0         \n",
            "                                                                 \n",
            " max_pooling1d (MaxPooling1D  (None, 8, 64)            0         \n",
            " )                                                               \n",
            "                                                                 \n",
            " conv1d_1 (Conv1D)           (None, 8, 128)            98432     \n",
            "                                                                 \n",
            " activation_1 (Activation)   (None, 8, 128)            0         \n",
            "                                                                 \n",
            " dropout_1 (Dropout)         (None, 8, 128)            0         \n",
            "                                                                 \n",
            " max_pooling1d_1 (MaxPooling  (None, 1, 128)           0         \n",
            " 1D)                                                             \n",
            "                                                                 \n",
            " flatten (Flatten)           (None, 128)               0         \n",
            "                                                                 \n",
            " dense (Dense)               (None, 6)                 774       \n",
            "                                                                 \n",
            " activation_2 (Activation)   (None, 6)                 0         \n",
            "                                                                 \n",
            "=================================================================\n",
            "Total params: 100,038\n",
            "Trainable params: 100,038\n",
            "Non-trainable params: 0\n",
            "_________________________________________________________________\n"
          ]
        }
      ]
    },
    {
      "cell_type": "code",
      "source": [
        "model.compile(loss='sparse_categorical_crossentropy',\n",
        "              optimizer=opt,\n",
        "              metrics=['accuracy'])"
      ],
      "metadata": {
        "id": "AbMlLNk4DCBM"
      },
      "execution_count": 12,
      "outputs": []
    },
    {
      "cell_type": "code",
      "source": [
        "# Create an Instance of Early Stopping Callback.\n",
        "early_stopping_callback = EarlyStopping(monitor = 'val_loss', patience = 25, mode = 'min', restore_best_weights = True)\n",
        "\n",
        "cnnhistory=model.fit(x_traincnn, y_train, batch_size=16, epochs=500 , shuffle = True, \n",
        "                     validation_data=(X_valid, y_valid) , callbacks = [early_stopping_callback])"
      ],
      "metadata": {
        "id": "RI1v2AuADFhy",
        "colab": {
          "base_uri": "https://localhost:8080/"
        },
        "outputId": "716fc799-998b-4f9c-83a2-76ae60e3c6b7"
      },
      "execution_count": 13,
      "outputs": [
        {
          "output_type": "stream",
          "name": "stdout",
          "text": [
            "Epoch 1/500\n",
            "104/104 [==============================] - 2s 13ms/step - loss: 12.7118 - accuracy: 0.1826 - val_loss: 5.1039 - val_accuracy: 0.2029\n",
            "Epoch 2/500\n",
            "104/104 [==============================] - 1s 10ms/step - loss: 8.7729 - accuracy: 0.2104 - val_loss: 4.7488 - val_accuracy: 0.1739\n",
            "Epoch 3/500\n",
            "104/104 [==============================] - 1s 10ms/step - loss: 7.0739 - accuracy: 0.2062 - val_loss: 3.0480 - val_accuracy: 0.1449\n",
            "Epoch 4/500\n",
            "104/104 [==============================] - 1s 10ms/step - loss: 6.2335 - accuracy: 0.1995 - val_loss: 2.8688 - val_accuracy: 0.2222\n",
            "Epoch 5/500\n",
            "104/104 [==============================] - 1s 10ms/step - loss: 5.1754 - accuracy: 0.2152 - val_loss: 3.8391 - val_accuracy: 0.1643\n",
            "Epoch 6/500\n",
            "104/104 [==============================] - 1s 9ms/step - loss: 4.3365 - accuracy: 0.2437 - val_loss: 2.5771 - val_accuracy: 0.2174\n",
            "Epoch 7/500\n",
            "104/104 [==============================] - 1s 10ms/step - loss: 3.9428 - accuracy: 0.2316 - val_loss: 2.4271 - val_accuracy: 0.2754\n",
            "Epoch 8/500\n",
            "104/104 [==============================] - 1s 10ms/step - loss: 3.4284 - accuracy: 0.2648 - val_loss: 2.1433 - val_accuracy: 0.2271\n",
            "Epoch 9/500\n",
            "104/104 [==============================] - 1s 9ms/step - loss: 3.1270 - accuracy: 0.2551 - val_loss: 1.6904 - val_accuracy: 0.3671\n",
            "Epoch 10/500\n",
            "104/104 [==============================] - 1s 10ms/step - loss: 2.9404 - accuracy: 0.2612 - val_loss: 1.5862 - val_accuracy: 0.3382\n",
            "Epoch 11/500\n",
            "104/104 [==============================] - 1s 13ms/step - loss: 2.7644 - accuracy: 0.2678 - val_loss: 1.7072 - val_accuracy: 0.3140\n",
            "Epoch 12/500\n",
            "104/104 [==============================] - 1s 10ms/step - loss: 2.6663 - accuracy: 0.2690 - val_loss: 1.5236 - val_accuracy: 0.4010\n",
            "Epoch 13/500\n",
            "104/104 [==============================] - 1s 11ms/step - loss: 2.3949 - accuracy: 0.2884 - val_loss: 1.5364 - val_accuracy: 0.4106\n",
            "Epoch 14/500\n",
            "104/104 [==============================] - 1s 11ms/step - loss: 2.3068 - accuracy: 0.2944 - val_loss: 1.5856 - val_accuracy: 0.3382\n",
            "Epoch 15/500\n",
            "104/104 [==============================] - 1s 10ms/step - loss: 2.2112 - accuracy: 0.3289 - val_loss: 1.6124 - val_accuracy: 0.3527\n",
            "Epoch 16/500\n",
            "104/104 [==============================] - 1s 10ms/step - loss: 2.1044 - accuracy: 0.3386 - val_loss: 1.5083 - val_accuracy: 0.3720\n",
            "Epoch 17/500\n",
            "104/104 [==============================] - 1s 10ms/step - loss: 2.1184 - accuracy: 0.3313 - val_loss: 1.6211 - val_accuracy: 0.4010\n",
            "Epoch 18/500\n",
            "104/104 [==============================] - 1s 10ms/step - loss: 2.0544 - accuracy: 0.3349 - val_loss: 1.5875 - val_accuracy: 0.3092\n",
            "Epoch 19/500\n",
            "104/104 [==============================] - 1s 9ms/step - loss: 1.9282 - accuracy: 0.3573 - val_loss: 1.4531 - val_accuracy: 0.3043\n",
            "Epoch 20/500\n",
            "104/104 [==============================] - 1s 9ms/step - loss: 1.9312 - accuracy: 0.3597 - val_loss: 1.4417 - val_accuracy: 0.4493\n",
            "Epoch 21/500\n",
            "104/104 [==============================] - 1s 9ms/step - loss: 1.8559 - accuracy: 0.3906 - val_loss: 1.6464 - val_accuracy: 0.3720\n",
            "Epoch 22/500\n",
            "104/104 [==============================] - 1s 9ms/step - loss: 1.8113 - accuracy: 0.3863 - val_loss: 1.4145 - val_accuracy: 0.4106\n",
            "Epoch 23/500\n",
            "104/104 [==============================] - 1s 9ms/step - loss: 1.7821 - accuracy: 0.3924 - val_loss: 1.4060 - val_accuracy: 0.4348\n",
            "Epoch 24/500\n",
            "104/104 [==============================] - 1s 11ms/step - loss: 1.6899 - accuracy: 0.4160 - val_loss: 1.5503 - val_accuracy: 0.3430\n",
            "Epoch 25/500\n",
            "104/104 [==============================] - 1s 13ms/step - loss: 1.7050 - accuracy: 0.3972 - val_loss: 1.4679 - val_accuracy: 0.4058\n",
            "Epoch 26/500\n",
            "104/104 [==============================] - 1s 11ms/step - loss: 1.7059 - accuracy: 0.3918 - val_loss: 1.2761 - val_accuracy: 0.5072\n",
            "Epoch 27/500\n",
            "104/104 [==============================] - 1s 12ms/step - loss: 1.6519 - accuracy: 0.4117 - val_loss: 1.2995 - val_accuracy: 0.5217\n",
            "Epoch 28/500\n",
            "104/104 [==============================] - 1s 11ms/step - loss: 1.6351 - accuracy: 0.4281 - val_loss: 1.4230 - val_accuracy: 0.4010\n",
            "Epoch 29/500\n",
            "104/104 [==============================] - 1s 10ms/step - loss: 1.6076 - accuracy: 0.4311 - val_loss: 1.3073 - val_accuracy: 0.4976\n",
            "Epoch 30/500\n",
            "104/104 [==============================] - 1s 10ms/step - loss: 1.5639 - accuracy: 0.4595 - val_loss: 1.2436 - val_accuracy: 0.5362\n",
            "Epoch 31/500\n",
            "104/104 [==============================] - 1s 10ms/step - loss: 1.5377 - accuracy: 0.4504 - val_loss: 1.2727 - val_accuracy: 0.4589\n",
            "Epoch 32/500\n",
            "104/104 [==============================] - 1s 10ms/step - loss: 1.4976 - accuracy: 0.4728 - val_loss: 1.2031 - val_accuracy: 0.5072\n",
            "Epoch 33/500\n",
            "104/104 [==============================] - 1s 11ms/step - loss: 1.4825 - accuracy: 0.4692 - val_loss: 1.1877 - val_accuracy: 0.5507\n",
            "Epoch 34/500\n",
            "104/104 [==============================] - 1s 12ms/step - loss: 1.4656 - accuracy: 0.4861 - val_loss: 1.1682 - val_accuracy: 0.5556\n",
            "Epoch 35/500\n",
            "104/104 [==============================] - 1s 11ms/step - loss: 1.4492 - accuracy: 0.4710 - val_loss: 1.1861 - val_accuracy: 0.5556\n",
            "Epoch 36/500\n",
            "104/104 [==============================] - 1s 12ms/step - loss: 1.4649 - accuracy: 0.4716 - val_loss: 1.1618 - val_accuracy: 0.5556\n",
            "Epoch 37/500\n",
            "104/104 [==============================] - 1s 10ms/step - loss: 1.3949 - accuracy: 0.4800 - val_loss: 1.1970 - val_accuracy: 0.5314\n",
            "Epoch 38/500\n",
            "104/104 [==============================] - 1s 12ms/step - loss: 1.4168 - accuracy: 0.4952 - val_loss: 1.1863 - val_accuracy: 0.5024\n",
            "Epoch 39/500\n",
            "104/104 [==============================] - 1s 13ms/step - loss: 1.3760 - accuracy: 0.4970 - val_loss: 1.1143 - val_accuracy: 0.5894\n",
            "Epoch 40/500\n",
            "104/104 [==============================] - 1s 11ms/step - loss: 1.3198 - accuracy: 0.5085 - val_loss: 1.2204 - val_accuracy: 0.4928\n",
            "Epoch 41/500\n",
            "104/104 [==============================] - 2s 17ms/step - loss: 1.3480 - accuracy: 0.4982 - val_loss: 1.1211 - val_accuracy: 0.5894\n",
            "Epoch 42/500\n",
            "104/104 [==============================] - 2s 16ms/step - loss: 1.3028 - accuracy: 0.5187 - val_loss: 1.0425 - val_accuracy: 0.6184\n",
            "Epoch 43/500\n",
            "104/104 [==============================] - 2s 16ms/step - loss: 1.2739 - accuracy: 0.5091 - val_loss: 1.0558 - val_accuracy: 0.6232\n",
            "Epoch 44/500\n",
            "104/104 [==============================] - 1s 12ms/step - loss: 1.3115 - accuracy: 0.5012 - val_loss: 1.0753 - val_accuracy: 0.5990\n",
            "Epoch 45/500\n",
            "104/104 [==============================] - 1s 10ms/step - loss: 1.2519 - accuracy: 0.5411 - val_loss: 1.0716 - val_accuracy: 0.6232\n",
            "Epoch 46/500\n",
            "104/104 [==============================] - 1s 11ms/step - loss: 1.2470 - accuracy: 0.5326 - val_loss: 1.2591 - val_accuracy: 0.4734\n",
            "Epoch 47/500\n",
            "104/104 [==============================] - 1s 11ms/step - loss: 1.2192 - accuracy: 0.5526 - val_loss: 1.0356 - val_accuracy: 0.5990\n",
            "Epoch 48/500\n",
            "104/104 [==============================] - 1s 10ms/step - loss: 1.2128 - accuracy: 0.5466 - val_loss: 1.0003 - val_accuracy: 0.6570\n",
            "Epoch 49/500\n",
            "104/104 [==============================] - 1s 12ms/step - loss: 1.2060 - accuracy: 0.5544 - val_loss: 1.0298 - val_accuracy: 0.6232\n",
            "Epoch 50/500\n",
            "104/104 [==============================] - 2s 16ms/step - loss: 1.1748 - accuracy: 0.5665 - val_loss: 1.0620 - val_accuracy: 0.5797\n",
            "Epoch 51/500\n",
            "104/104 [==============================] - 1s 12ms/step - loss: 1.1505 - accuracy: 0.5732 - val_loss: 1.0557 - val_accuracy: 0.6329\n",
            "Epoch 52/500\n",
            "104/104 [==============================] - 1s 12ms/step - loss: 1.1376 - accuracy: 0.5689 - val_loss: 1.0073 - val_accuracy: 0.6522\n",
            "Epoch 53/500\n",
            "104/104 [==============================] - 1s 12ms/step - loss: 1.1158 - accuracy: 0.5683 - val_loss: 0.9797 - val_accuracy: 0.6618\n",
            "Epoch 54/500\n",
            "104/104 [==============================] - 1s 10ms/step - loss: 1.1369 - accuracy: 0.5768 - val_loss: 0.9965 - val_accuracy: 0.6087\n",
            "Epoch 55/500\n",
            "104/104 [==============================] - 1s 10ms/step - loss: 1.1212 - accuracy: 0.5744 - val_loss: 0.9794 - val_accuracy: 0.6860\n",
            "Epoch 56/500\n",
            "104/104 [==============================] - 1s 12ms/step - loss: 1.1307 - accuracy: 0.5792 - val_loss: 0.9881 - val_accuracy: 0.6473\n",
            "Epoch 57/500\n",
            "104/104 [==============================] - 1s 10ms/step - loss: 1.0898 - accuracy: 0.5919 - val_loss: 1.0447 - val_accuracy: 0.5507\n",
            "Epoch 58/500\n",
            "104/104 [==============================] - 1s 10ms/step - loss: 1.0589 - accuracy: 0.6052 - val_loss: 1.0286 - val_accuracy: 0.6232\n",
            "Epoch 59/500\n",
            "104/104 [==============================] - 1s 11ms/step - loss: 1.0834 - accuracy: 0.6064 - val_loss: 0.9560 - val_accuracy: 0.7053\n",
            "Epoch 60/500\n",
            "104/104 [==============================] - 1s 11ms/step - loss: 1.0695 - accuracy: 0.5979 - val_loss: 0.9463 - val_accuracy: 0.6957\n",
            "Epoch 61/500\n",
            "104/104 [==============================] - 1s 9ms/step - loss: 1.0320 - accuracy: 0.6040 - val_loss: 0.9377 - val_accuracy: 0.6860\n",
            "Epoch 62/500\n",
            "104/104 [==============================] - 1s 12ms/step - loss: 1.0512 - accuracy: 0.6040 - val_loss: 0.9898 - val_accuracy: 0.6232\n",
            "Epoch 63/500\n",
            "104/104 [==============================] - 1s 12ms/step - loss: 1.0382 - accuracy: 0.5913 - val_loss: 0.9480 - val_accuracy: 0.6667\n",
            "Epoch 64/500\n",
            "104/104 [==============================] - 1s 10ms/step - loss: 1.0429 - accuracy: 0.6058 - val_loss: 0.9471 - val_accuracy: 0.6763\n",
            "Epoch 65/500\n",
            "104/104 [==============================] - 1s 10ms/step - loss: 0.9900 - accuracy: 0.6318 - val_loss: 0.9208 - val_accuracy: 0.6425\n",
            "Epoch 66/500\n",
            "104/104 [==============================] - 2s 19ms/step - loss: 1.0145 - accuracy: 0.6058 - val_loss: 0.9255 - val_accuracy: 0.6763\n",
            "Epoch 67/500\n",
            "104/104 [==============================] - 2s 17ms/step - loss: 0.9430 - accuracy: 0.6427 - val_loss: 0.9481 - val_accuracy: 0.6135\n",
            "Epoch 68/500\n",
            "104/104 [==============================] - 2s 18ms/step - loss: 0.9914 - accuracy: 0.6215 - val_loss: 0.9357 - val_accuracy: 0.6377\n",
            "Epoch 69/500\n",
            "104/104 [==============================] - 1s 11ms/step - loss: 0.9747 - accuracy: 0.6330 - val_loss: 0.8909 - val_accuracy: 0.7295\n",
            "Epoch 70/500\n",
            "104/104 [==============================] - 1s 9ms/step - loss: 0.9641 - accuracy: 0.6282 - val_loss: 0.8624 - val_accuracy: 0.7295\n",
            "Epoch 71/500\n",
            "104/104 [==============================] - 1s 10ms/step - loss: 0.9593 - accuracy: 0.6354 - val_loss: 0.9819 - val_accuracy: 0.5700\n",
            "Epoch 72/500\n",
            "104/104 [==============================] - 1s 11ms/step - loss: 0.9428 - accuracy: 0.6403 - val_loss: 0.8771 - val_accuracy: 0.7440\n",
            "Epoch 73/500\n",
            "104/104 [==============================] - 1s 10ms/step - loss: 0.9470 - accuracy: 0.6306 - val_loss: 0.8805 - val_accuracy: 0.6570\n",
            "Epoch 74/500\n",
            "104/104 [==============================] - 1s 10ms/step - loss: 0.9457 - accuracy: 0.6354 - val_loss: 0.9029 - val_accuracy: 0.6522\n",
            "Epoch 75/500\n",
            "104/104 [==============================] - 1s 9ms/step - loss: 0.9071 - accuracy: 0.6711 - val_loss: 0.8534 - val_accuracy: 0.6715\n",
            "Epoch 76/500\n",
            "104/104 [==============================] - 1s 10ms/step - loss: 0.8915 - accuracy: 0.6644 - val_loss: 0.8796 - val_accuracy: 0.6860\n",
            "Epoch 77/500\n",
            "104/104 [==============================] - 1s 10ms/step - loss: 0.8960 - accuracy: 0.6572 - val_loss: 0.9317 - val_accuracy: 0.6425\n",
            "Epoch 78/500\n",
            "104/104 [==============================] - 1s 10ms/step - loss: 0.8851 - accuracy: 0.6554 - val_loss: 0.8472 - val_accuracy: 0.7150\n",
            "Epoch 79/500\n",
            "104/104 [==============================] - 1s 10ms/step - loss: 0.8947 - accuracy: 0.6596 - val_loss: 0.8222 - val_accuracy: 0.7246\n",
            "Epoch 80/500\n",
            "104/104 [==============================] - 1s 10ms/step - loss: 0.8741 - accuracy: 0.6723 - val_loss: 0.8188 - val_accuracy: 0.7343\n",
            "Epoch 81/500\n",
            "104/104 [==============================] - 1s 12ms/step - loss: 0.9020 - accuracy: 0.6499 - val_loss: 0.8330 - val_accuracy: 0.7053\n",
            "Epoch 82/500\n",
            "104/104 [==============================] - 1s 12ms/step - loss: 0.8794 - accuracy: 0.6590 - val_loss: 0.8162 - val_accuracy: 0.7585\n",
            "Epoch 83/500\n",
            "104/104 [==============================] - 1s 10ms/step - loss: 0.8762 - accuracy: 0.6560 - val_loss: 0.8693 - val_accuracy: 0.7246\n",
            "Epoch 84/500\n",
            "104/104 [==============================] - 1s 10ms/step - loss: 0.8670 - accuracy: 0.6675 - val_loss: 0.8311 - val_accuracy: 0.7198\n",
            "Epoch 85/500\n",
            "104/104 [==============================] - 1s 11ms/step - loss: 0.8446 - accuracy: 0.6723 - val_loss: 0.8206 - val_accuracy: 0.6957\n",
            "Epoch 86/500\n",
            "104/104 [==============================] - 1s 12ms/step - loss: 0.8486 - accuracy: 0.6753 - val_loss: 0.8307 - val_accuracy: 0.7150\n",
            "Epoch 87/500\n",
            "104/104 [==============================] - 1s 12ms/step - loss: 0.8544 - accuracy: 0.6705 - val_loss: 0.8803 - val_accuracy: 0.6618\n",
            "Epoch 88/500\n",
            "104/104 [==============================] - 1s 12ms/step - loss: 0.8169 - accuracy: 0.6820 - val_loss: 0.8004 - val_accuracy: 0.7101\n",
            "Epoch 89/500\n",
            "104/104 [==============================] - 1s 10ms/step - loss: 0.8266 - accuracy: 0.6832 - val_loss: 0.7919 - val_accuracy: 0.7488\n",
            "Epoch 90/500\n",
            "104/104 [==============================] - 1s 11ms/step - loss: 0.8374 - accuracy: 0.6862 - val_loss: 0.9015 - val_accuracy: 0.6425\n",
            "Epoch 91/500\n",
            "104/104 [==============================] - 1s 10ms/step - loss: 0.8078 - accuracy: 0.6874 - val_loss: 0.7875 - val_accuracy: 0.7295\n",
            "Epoch 92/500\n",
            "104/104 [==============================] - 1s 10ms/step - loss: 0.8033 - accuracy: 0.6832 - val_loss: 0.8149 - val_accuracy: 0.7053\n",
            "Epoch 93/500\n",
            "104/104 [==============================] - 1s 9ms/step - loss: 0.8029 - accuracy: 0.6971 - val_loss: 0.8004 - val_accuracy: 0.7391\n",
            "Epoch 94/500\n",
            "104/104 [==============================] - 1s 10ms/step - loss: 0.7993 - accuracy: 0.6844 - val_loss: 0.7811 - val_accuracy: 0.7633\n",
            "Epoch 95/500\n",
            "104/104 [==============================] - 1s 10ms/step - loss: 0.7749 - accuracy: 0.6983 - val_loss: 0.8049 - val_accuracy: 0.6957\n",
            "Epoch 96/500\n",
            "104/104 [==============================] - 1s 9ms/step - loss: 0.7893 - accuracy: 0.7013 - val_loss: 0.7894 - val_accuracy: 0.7391\n",
            "Epoch 97/500\n",
            "104/104 [==============================] - 1s 9ms/step - loss: 0.7974 - accuracy: 0.6953 - val_loss: 0.7665 - val_accuracy: 0.7488\n",
            "Epoch 98/500\n",
            "104/104 [==============================] - 1s 10ms/step - loss: 0.7932 - accuracy: 0.6892 - val_loss: 0.7830 - val_accuracy: 0.7295\n",
            "Epoch 99/500\n",
            "104/104 [==============================] - 1s 11ms/step - loss: 0.7788 - accuracy: 0.7098 - val_loss: 0.7675 - val_accuracy: 0.7440\n",
            "Epoch 100/500\n",
            "104/104 [==============================] - 1s 11ms/step - loss: 0.7814 - accuracy: 0.7031 - val_loss: 0.7929 - val_accuracy: 0.7053\n",
            "Epoch 101/500\n",
            "104/104 [==============================] - 1s 11ms/step - loss: 0.7788 - accuracy: 0.7001 - val_loss: 0.7815 - val_accuracy: 0.7101\n",
            "Epoch 102/500\n",
            "104/104 [==============================] - 1s 13ms/step - loss: 0.7492 - accuracy: 0.7177 - val_loss: 0.7876 - val_accuracy: 0.7343\n",
            "Epoch 103/500\n",
            "104/104 [==============================] - 1s 13ms/step - loss: 0.7771 - accuracy: 0.7086 - val_loss: 0.7981 - val_accuracy: 0.6908\n",
            "Epoch 104/500\n",
            "104/104 [==============================] - 1s 13ms/step - loss: 0.7559 - accuracy: 0.7134 - val_loss: 0.8028 - val_accuracy: 0.7198\n",
            "Epoch 105/500\n",
            "104/104 [==============================] - 2s 14ms/step - loss: 0.7489 - accuracy: 0.7074 - val_loss: 0.8122 - val_accuracy: 0.6957\n",
            "Epoch 106/500\n",
            "104/104 [==============================] - 2s 15ms/step - loss: 0.7368 - accuracy: 0.7189 - val_loss: 0.8232 - val_accuracy: 0.7005\n",
            "Epoch 107/500\n",
            "104/104 [==============================] - 1s 11ms/step - loss: 0.7560 - accuracy: 0.7080 - val_loss: 0.7431 - val_accuracy: 0.7246\n",
            "Epoch 108/500\n",
            "104/104 [==============================] - 1s 10ms/step - loss: 0.7457 - accuracy: 0.7104 - val_loss: 0.7444 - val_accuracy: 0.7295\n",
            "Epoch 109/500\n",
            "104/104 [==============================] - 1s 11ms/step - loss: 0.7404 - accuracy: 0.7116 - val_loss: 0.7440 - val_accuracy: 0.7440\n",
            "Epoch 110/500\n",
            "104/104 [==============================] - 1s 13ms/step - loss: 0.7361 - accuracy: 0.7128 - val_loss: 0.7774 - val_accuracy: 0.6860\n",
            "Epoch 111/500\n",
            "104/104 [==============================] - 1s 11ms/step - loss: 0.7242 - accuracy: 0.7261 - val_loss: 0.7346 - val_accuracy: 0.7536\n",
            "Epoch 112/500\n",
            "104/104 [==============================] - 1s 11ms/step - loss: 0.7172 - accuracy: 0.7201 - val_loss: 0.7726 - val_accuracy: 0.6570\n",
            "Epoch 113/500\n",
            "104/104 [==============================] - 1s 11ms/step - loss: 0.7176 - accuracy: 0.7249 - val_loss: 0.7473 - val_accuracy: 0.7198\n",
            "Epoch 114/500\n",
            "104/104 [==============================] - 1s 13ms/step - loss: 0.7106 - accuracy: 0.7201 - val_loss: 0.7379 - val_accuracy: 0.7536\n",
            "Epoch 115/500\n",
            "104/104 [==============================] - 1s 11ms/step - loss: 0.6849 - accuracy: 0.7316 - val_loss: 0.7509 - val_accuracy: 0.7150\n",
            "Epoch 116/500\n",
            "104/104 [==============================] - 1s 11ms/step - loss: 0.6987 - accuracy: 0.7346 - val_loss: 0.7525 - val_accuracy: 0.7005\n",
            "Epoch 117/500\n",
            "104/104 [==============================] - 1s 10ms/step - loss: 0.6804 - accuracy: 0.7473 - val_loss: 0.7178 - val_accuracy: 0.7585\n",
            "Epoch 118/500\n",
            "104/104 [==============================] - 1s 10ms/step - loss: 0.6926 - accuracy: 0.7352 - val_loss: 0.7725 - val_accuracy: 0.6957\n",
            "Epoch 119/500\n",
            "104/104 [==============================] - 1s 10ms/step - loss: 0.7076 - accuracy: 0.7237 - val_loss: 0.7492 - val_accuracy: 0.7391\n",
            "Epoch 120/500\n",
            "104/104 [==============================] - 1s 9ms/step - loss: 0.6581 - accuracy: 0.7418 - val_loss: 0.8153 - val_accuracy: 0.7101\n",
            "Epoch 121/500\n",
            "104/104 [==============================] - 1s 11ms/step - loss: 0.6578 - accuracy: 0.7443 - val_loss: 0.7508 - val_accuracy: 0.7053\n",
            "Epoch 122/500\n",
            "104/104 [==============================] - 1s 12ms/step - loss: 0.6753 - accuracy: 0.7382 - val_loss: 0.6974 - val_accuracy: 0.7681\n",
            "Epoch 123/500\n",
            "104/104 [==============================] - 1s 11ms/step - loss: 0.6824 - accuracy: 0.7352 - val_loss: 0.7146 - val_accuracy: 0.7391\n",
            "Epoch 124/500\n",
            "104/104 [==============================] - 1s 9ms/step - loss: 0.6543 - accuracy: 0.7261 - val_loss: 0.7327 - val_accuracy: 0.7681\n",
            "Epoch 125/500\n",
            "104/104 [==============================] - 1s 10ms/step - loss: 0.6921 - accuracy: 0.7322 - val_loss: 0.7349 - val_accuracy: 0.7440\n",
            "Epoch 126/500\n",
            "104/104 [==============================] - 1s 11ms/step - loss: 0.6744 - accuracy: 0.7406 - val_loss: 0.7267 - val_accuracy: 0.7198\n",
            "Epoch 127/500\n",
            "104/104 [==============================] - 1s 11ms/step - loss: 0.6512 - accuracy: 0.7588 - val_loss: 0.6960 - val_accuracy: 0.7681\n",
            "Epoch 128/500\n",
            "104/104 [==============================] - 1s 11ms/step - loss: 0.6593 - accuracy: 0.7430 - val_loss: 0.6971 - val_accuracy: 0.7391\n",
            "Epoch 129/500\n",
            "104/104 [==============================] - 1s 10ms/step - loss: 0.6680 - accuracy: 0.7424 - val_loss: 0.7079 - val_accuracy: 0.7488\n",
            "Epoch 130/500\n",
            "104/104 [==============================] - 1s 10ms/step - loss: 0.6273 - accuracy: 0.7539 - val_loss: 0.7426 - val_accuracy: 0.7101\n",
            "Epoch 131/500\n",
            "104/104 [==============================] - 1s 11ms/step - loss: 0.6381 - accuracy: 0.7624 - val_loss: 0.6804 - val_accuracy: 0.7681\n",
            "Epoch 132/500\n",
            "104/104 [==============================] - 1s 11ms/step - loss: 0.6713 - accuracy: 0.7376 - val_loss: 0.6975 - val_accuracy: 0.7585\n",
            "Epoch 133/500\n",
            "104/104 [==============================] - 1s 10ms/step - loss: 0.6282 - accuracy: 0.7545 - val_loss: 0.6630 - val_accuracy: 0.7633\n",
            "Epoch 134/500\n",
            "104/104 [==============================] - 1s 9ms/step - loss: 0.6309 - accuracy: 0.7618 - val_loss: 0.6802 - val_accuracy: 0.7585\n",
            "Epoch 135/500\n",
            "104/104 [==============================] - 1s 10ms/step - loss: 0.6524 - accuracy: 0.7509 - val_loss: 0.7164 - val_accuracy: 0.7246\n",
            "Epoch 136/500\n",
            "104/104 [==============================] - 1s 9ms/step - loss: 0.6174 - accuracy: 0.7606 - val_loss: 0.6586 - val_accuracy: 0.7536\n",
            "Epoch 137/500\n",
            "104/104 [==============================] - 1s 10ms/step - loss: 0.6243 - accuracy: 0.7636 - val_loss: 0.7355 - val_accuracy: 0.7488\n",
            "Epoch 138/500\n",
            "104/104 [==============================] - 1s 10ms/step - loss: 0.6100 - accuracy: 0.7823 - val_loss: 0.6902 - val_accuracy: 0.7536\n",
            "Epoch 139/500\n",
            "104/104 [==============================] - 1s 10ms/step - loss: 0.6323 - accuracy: 0.7690 - val_loss: 0.6568 - val_accuracy: 0.7923\n",
            "Epoch 140/500\n",
            "104/104 [==============================] - 1s 12ms/step - loss: 0.6281 - accuracy: 0.7630 - val_loss: 0.6574 - val_accuracy: 0.7633\n",
            "Epoch 141/500\n",
            "104/104 [==============================] - 1s 11ms/step - loss: 0.5995 - accuracy: 0.7666 - val_loss: 0.6520 - val_accuracy: 0.7440\n",
            "Epoch 142/500\n",
            "104/104 [==============================] - 1s 11ms/step - loss: 0.6377 - accuracy: 0.7618 - val_loss: 0.7258 - val_accuracy: 0.7198\n",
            "Epoch 143/500\n",
            "104/104 [==============================] - 1s 11ms/step - loss: 0.6015 - accuracy: 0.7745 - val_loss: 0.6763 - val_accuracy: 0.7681\n",
            "Epoch 144/500\n",
            "104/104 [==============================] - 1s 10ms/step - loss: 0.5980 - accuracy: 0.7739 - val_loss: 0.6785 - val_accuracy: 0.7778\n",
            "Epoch 145/500\n",
            "104/104 [==============================] - 1s 10ms/step - loss: 0.6152 - accuracy: 0.7690 - val_loss: 0.6770 - val_accuracy: 0.7923\n",
            "Epoch 146/500\n",
            "104/104 [==============================] - 1s 10ms/step - loss: 0.6027 - accuracy: 0.7733 - val_loss: 0.6914 - val_accuracy: 0.7536\n",
            "Epoch 147/500\n",
            "104/104 [==============================] - 1s 11ms/step - loss: 0.5936 - accuracy: 0.7745 - val_loss: 0.6751 - val_accuracy: 0.7585\n",
            "Epoch 148/500\n",
            "104/104 [==============================] - 1s 11ms/step - loss: 0.6125 - accuracy: 0.7618 - val_loss: 0.6306 - val_accuracy: 0.7874\n",
            "Epoch 149/500\n",
            "104/104 [==============================] - 1s 10ms/step - loss: 0.5672 - accuracy: 0.7805 - val_loss: 0.6450 - val_accuracy: 0.7681\n",
            "Epoch 150/500\n",
            "104/104 [==============================] - 1s 10ms/step - loss: 0.5920 - accuracy: 0.7745 - val_loss: 0.6608 - val_accuracy: 0.7585\n",
            "Epoch 151/500\n",
            "104/104 [==============================] - 1s 12ms/step - loss: 0.5628 - accuracy: 0.7823 - val_loss: 0.6439 - val_accuracy: 0.8019\n",
            "Epoch 152/500\n",
            "104/104 [==============================] - 1s 11ms/step - loss: 0.5598 - accuracy: 0.7848 - val_loss: 0.6753 - val_accuracy: 0.7585\n",
            "Epoch 153/500\n",
            "104/104 [==============================] - 1s 11ms/step - loss: 0.5693 - accuracy: 0.7830 - val_loss: 0.6335 - val_accuracy: 0.7874\n",
            "Epoch 154/500\n",
            "104/104 [==============================] - 1s 10ms/step - loss: 0.5996 - accuracy: 0.7696 - val_loss: 0.6941 - val_accuracy: 0.7826\n",
            "Epoch 155/500\n",
            "104/104 [==============================] - 1s 10ms/step - loss: 0.5771 - accuracy: 0.7908 - val_loss: 0.7077 - val_accuracy: 0.7295\n",
            "Epoch 156/500\n",
            "104/104 [==============================] - 1s 12ms/step - loss: 0.5487 - accuracy: 0.7932 - val_loss: 0.6517 - val_accuracy: 0.7440\n",
            "Epoch 157/500\n",
            "104/104 [==============================] - 1s 12ms/step - loss: 0.5549 - accuracy: 0.7872 - val_loss: 0.6549 - val_accuracy: 0.7536\n",
            "Epoch 158/500\n",
            "104/104 [==============================] - 1s 12ms/step - loss: 0.5685 - accuracy: 0.7805 - val_loss: 0.6114 - val_accuracy: 0.7971\n",
            "Epoch 159/500\n",
            "104/104 [==============================] - 1s 10ms/step - loss: 0.5568 - accuracy: 0.7823 - val_loss: 0.6487 - val_accuracy: 0.7536\n",
            "Epoch 160/500\n",
            "104/104 [==============================] - 1s 10ms/step - loss: 0.5375 - accuracy: 0.7999 - val_loss: 0.6682 - val_accuracy: 0.7391\n",
            "Epoch 161/500\n",
            "104/104 [==============================] - 1s 10ms/step - loss: 0.5414 - accuracy: 0.7860 - val_loss: 0.6223 - val_accuracy: 0.7633\n",
            "Epoch 162/500\n",
            "104/104 [==============================] - 1s 11ms/step - loss: 0.5270 - accuracy: 0.7999 - val_loss: 0.6202 - val_accuracy: 0.7778\n",
            "Epoch 163/500\n",
            "104/104 [==============================] - 1s 12ms/step - loss: 0.5715 - accuracy: 0.7866 - val_loss: 0.6442 - val_accuracy: 0.7826\n",
            "Epoch 164/500\n",
            "104/104 [==============================] - 1s 11ms/step - loss: 0.5448 - accuracy: 0.7981 - val_loss: 0.7176 - val_accuracy: 0.7295\n",
            "Epoch 165/500\n",
            "104/104 [==============================] - 1s 12ms/step - loss: 0.5320 - accuracy: 0.7999 - val_loss: 0.5900 - val_accuracy: 0.7971\n",
            "Epoch 166/500\n",
            "104/104 [==============================] - 2s 17ms/step - loss: 0.5398 - accuracy: 0.7981 - val_loss: 0.6258 - val_accuracy: 0.7874\n",
            "Epoch 167/500\n",
            "104/104 [==============================] - 1s 13ms/step - loss: 0.5409 - accuracy: 0.7975 - val_loss: 0.6427 - val_accuracy: 0.7585\n",
            "Epoch 168/500\n",
            "104/104 [==============================] - 1s 13ms/step - loss: 0.5503 - accuracy: 0.7932 - val_loss: 0.6331 - val_accuracy: 0.7778\n",
            "Epoch 169/500\n",
            "104/104 [==============================] - 1s 12ms/step - loss: 0.5349 - accuracy: 0.7999 - val_loss: 0.6705 - val_accuracy: 0.7440\n",
            "Epoch 170/500\n",
            "104/104 [==============================] - 1s 10ms/step - loss: 0.5241 - accuracy: 0.8047 - val_loss: 0.6155 - val_accuracy: 0.7633\n",
            "Epoch 171/500\n",
            "104/104 [==============================] - 1s 10ms/step - loss: 0.5444 - accuracy: 0.7914 - val_loss: 0.6182 - val_accuracy: 0.7585\n",
            "Epoch 172/500\n",
            "104/104 [==============================] - 1s 10ms/step - loss: 0.5149 - accuracy: 0.8120 - val_loss: 0.6097 - val_accuracy: 0.7681\n",
            "Epoch 173/500\n",
            "104/104 [==============================] - 1s 11ms/step - loss: 0.5410 - accuracy: 0.7963 - val_loss: 0.6395 - val_accuracy: 0.7923\n",
            "Epoch 174/500\n",
            "104/104 [==============================] - 1s 10ms/step - loss: 0.5220 - accuracy: 0.8065 - val_loss: 0.6219 - val_accuracy: 0.7585\n",
            "Epoch 175/500\n",
            "104/104 [==============================] - 1s 10ms/step - loss: 0.4913 - accuracy: 0.8168 - val_loss: 0.6208 - val_accuracy: 0.7729\n",
            "Epoch 176/500\n",
            "104/104 [==============================] - 1s 11ms/step - loss: 0.5091 - accuracy: 0.8174 - val_loss: 0.6331 - val_accuracy: 0.7681\n",
            "Epoch 177/500\n",
            "104/104 [==============================] - 1s 9ms/step - loss: 0.5387 - accuracy: 0.7896 - val_loss: 0.6086 - val_accuracy: 0.7729\n",
            "Epoch 178/500\n",
            "104/104 [==============================] - 1s 10ms/step - loss: 0.5265 - accuracy: 0.8083 - val_loss: 0.6294 - val_accuracy: 0.7778\n",
            "Epoch 179/500\n",
            "104/104 [==============================] - 1s 11ms/step - loss: 0.5111 - accuracy: 0.8059 - val_loss: 0.6078 - val_accuracy: 0.7826\n",
            "Epoch 180/500\n",
            "104/104 [==============================] - 1s 10ms/step - loss: 0.5145 - accuracy: 0.8065 - val_loss: 0.5945 - val_accuracy: 0.7874\n",
            "Epoch 181/500\n",
            "104/104 [==============================] - 1s 11ms/step - loss: 0.4763 - accuracy: 0.8174 - val_loss: 0.6083 - val_accuracy: 0.7874\n",
            "Epoch 182/500\n",
            "104/104 [==============================] - 1s 10ms/step - loss: 0.4728 - accuracy: 0.8144 - val_loss: 0.5909 - val_accuracy: 0.7923\n",
            "Epoch 183/500\n",
            "104/104 [==============================] - 1s 10ms/step - loss: 0.5177 - accuracy: 0.8059 - val_loss: 0.6514 - val_accuracy: 0.7440\n",
            "Epoch 184/500\n",
            "104/104 [==============================] - 1s 9ms/step - loss: 0.4833 - accuracy: 0.8301 - val_loss: 0.6244 - val_accuracy: 0.7778\n",
            "Epoch 185/500\n",
            "104/104 [==============================] - 1s 9ms/step - loss: 0.4926 - accuracy: 0.8174 - val_loss: 0.6196 - val_accuracy: 0.7874\n",
            "Epoch 186/500\n",
            "104/104 [==============================] - 1s 9ms/step - loss: 0.5362 - accuracy: 0.7944 - val_loss: 0.6096 - val_accuracy: 0.7633\n",
            "Epoch 187/500\n",
            "104/104 [==============================] - 1s 9ms/step - loss: 0.4819 - accuracy: 0.8241 - val_loss: 0.5722 - val_accuracy: 0.8068\n",
            "Epoch 188/500\n",
            "104/104 [==============================] - 1s 10ms/step - loss: 0.5037 - accuracy: 0.8041 - val_loss: 0.5988 - val_accuracy: 0.7778\n",
            "Epoch 189/500\n",
            "104/104 [==============================] - 1s 9ms/step - loss: 0.4796 - accuracy: 0.8162 - val_loss: 0.6997 - val_accuracy: 0.7343\n",
            "Epoch 190/500\n",
            "104/104 [==============================] - 1s 9ms/step - loss: 0.4737 - accuracy: 0.8168 - val_loss: 0.5950 - val_accuracy: 0.7826\n",
            "Epoch 191/500\n",
            "104/104 [==============================] - 1s 10ms/step - loss: 0.4571 - accuracy: 0.8096 - val_loss: 0.5668 - val_accuracy: 0.7874\n",
            "Epoch 192/500\n",
            "104/104 [==============================] - 1s 9ms/step - loss: 0.5026 - accuracy: 0.8108 - val_loss: 0.6012 - val_accuracy: 0.7826\n",
            "Epoch 193/500\n",
            "104/104 [==============================] - 1s 9ms/step - loss: 0.4408 - accuracy: 0.8271 - val_loss: 0.5721 - val_accuracy: 0.7874\n",
            "Epoch 194/500\n",
            "104/104 [==============================] - 1s 9ms/step - loss: 0.4845 - accuracy: 0.8174 - val_loss: 0.5991 - val_accuracy: 0.7729\n",
            "Epoch 195/500\n",
            "104/104 [==============================] - 1s 10ms/step - loss: 0.4676 - accuracy: 0.8222 - val_loss: 0.5650 - val_accuracy: 0.8116\n",
            "Epoch 196/500\n",
            "104/104 [==============================] - 1s 10ms/step - loss: 0.4618 - accuracy: 0.8247 - val_loss: 0.6048 - val_accuracy: 0.7874\n",
            "Epoch 197/500\n",
            "104/104 [==============================] - 1s 9ms/step - loss: 0.4664 - accuracy: 0.8156 - val_loss: 0.6016 - val_accuracy: 0.7874\n",
            "Epoch 198/500\n",
            "104/104 [==============================] - 1s 9ms/step - loss: 0.4733 - accuracy: 0.8198 - val_loss: 0.5926 - val_accuracy: 0.7971\n",
            "Epoch 199/500\n",
            "104/104 [==============================] - 1s 9ms/step - loss: 0.4624 - accuracy: 0.8210 - val_loss: 0.5975 - val_accuracy: 0.7971\n",
            "Epoch 200/500\n",
            "104/104 [==============================] - 1s 10ms/step - loss: 0.4371 - accuracy: 0.8380 - val_loss: 0.5851 - val_accuracy: 0.7874\n",
            "Epoch 201/500\n",
            "104/104 [==============================] - 1s 9ms/step - loss: 0.4668 - accuracy: 0.8241 - val_loss: 0.5795 - val_accuracy: 0.7778\n",
            "Epoch 202/500\n",
            "104/104 [==============================] - 1s 9ms/step - loss: 0.4509 - accuracy: 0.8349 - val_loss: 0.5915 - val_accuracy: 0.7826\n",
            "Epoch 203/500\n",
            "104/104 [==============================] - 1s 10ms/step - loss: 0.4612 - accuracy: 0.8253 - val_loss: 0.6546 - val_accuracy: 0.7343\n",
            "Epoch 204/500\n",
            "104/104 [==============================] - 1s 10ms/step - loss: 0.4415 - accuracy: 0.8362 - val_loss: 0.6029 - val_accuracy: 0.7729\n",
            "Epoch 205/500\n",
            "104/104 [==============================] - 1s 9ms/step - loss: 0.4632 - accuracy: 0.8253 - val_loss: 0.6249 - val_accuracy: 0.7681\n",
            "Epoch 206/500\n",
            "104/104 [==============================] - 1s 9ms/step - loss: 0.4610 - accuracy: 0.8313 - val_loss: 0.5925 - val_accuracy: 0.7874\n",
            "Epoch 207/500\n",
            "104/104 [==============================] - 1s 9ms/step - loss: 0.4390 - accuracy: 0.8313 - val_loss: 0.6226 - val_accuracy: 0.7681\n",
            "Epoch 208/500\n",
            "104/104 [==============================] - 1s 10ms/step - loss: 0.4570 - accuracy: 0.8289 - val_loss: 0.5893 - val_accuracy: 0.7923\n",
            "Epoch 209/500\n",
            "104/104 [==============================] - 1s 10ms/step - loss: 0.4563 - accuracy: 0.8241 - val_loss: 0.5844 - val_accuracy: 0.7729\n",
            "Epoch 210/500\n",
            "104/104 [==============================] - 1s 10ms/step - loss: 0.4211 - accuracy: 0.8458 - val_loss: 0.5880 - val_accuracy: 0.7778\n",
            "Epoch 211/500\n",
            "104/104 [==============================] - 1s 10ms/step - loss: 0.4232 - accuracy: 0.8301 - val_loss: 0.5820 - val_accuracy: 0.7778\n",
            "Epoch 212/500\n",
            "104/104 [==============================] - 1s 10ms/step - loss: 0.4304 - accuracy: 0.8404 - val_loss: 0.5685 - val_accuracy: 0.7923\n",
            "Epoch 213/500\n",
            "104/104 [==============================] - 1s 11ms/step - loss: 0.4502 - accuracy: 0.8186 - val_loss: 0.5686 - val_accuracy: 0.8019\n",
            "Epoch 214/500\n",
            "104/104 [==============================] - 1s 11ms/step - loss: 0.4272 - accuracy: 0.8368 - val_loss: 0.5477 - val_accuracy: 0.7874\n",
            "Epoch 215/500\n",
            "104/104 [==============================] - 1s 12ms/step - loss: 0.4413 - accuracy: 0.8325 - val_loss: 0.6085 - val_accuracy: 0.7681\n",
            "Epoch 216/500\n",
            "104/104 [==============================] - 1s 10ms/step - loss: 0.4433 - accuracy: 0.8404 - val_loss: 0.5634 - val_accuracy: 0.7778\n",
            "Epoch 217/500\n",
            "104/104 [==============================] - 1s 10ms/step - loss: 0.4284 - accuracy: 0.8458 - val_loss: 0.5841 - val_accuracy: 0.7681\n",
            "Epoch 218/500\n",
            "104/104 [==============================] - 1s 10ms/step - loss: 0.4129 - accuracy: 0.8482 - val_loss: 0.6383 - val_accuracy: 0.7729\n",
            "Epoch 219/500\n",
            "104/104 [==============================] - 1s 10ms/step - loss: 0.4244 - accuracy: 0.8452 - val_loss: 0.5603 - val_accuracy: 0.7874\n",
            "Epoch 220/500\n",
            "104/104 [==============================] - 1s 12ms/step - loss: 0.4371 - accuracy: 0.8356 - val_loss: 0.5876 - val_accuracy: 0.7874\n",
            "Epoch 221/500\n",
            "104/104 [==============================] - 1s 11ms/step - loss: 0.4207 - accuracy: 0.8464 - val_loss: 0.5638 - val_accuracy: 0.7971\n",
            "Epoch 222/500\n",
            "104/104 [==============================] - 1s 10ms/step - loss: 0.4200 - accuracy: 0.8422 - val_loss: 0.5485 - val_accuracy: 0.8164\n",
            "Epoch 223/500\n",
            "104/104 [==============================] - 1s 11ms/step - loss: 0.4422 - accuracy: 0.8277 - val_loss: 0.5799 - val_accuracy: 0.7874\n",
            "Epoch 224/500\n",
            "104/104 [==============================] - 1s 11ms/step - loss: 0.4231 - accuracy: 0.8362 - val_loss: 0.5648 - val_accuracy: 0.7971\n",
            "Epoch 225/500\n",
            "104/104 [==============================] - 1s 11ms/step - loss: 0.4323 - accuracy: 0.8356 - val_loss: 0.5649 - val_accuracy: 0.7778\n",
            "Epoch 226/500\n",
            "104/104 [==============================] - 1s 11ms/step - loss: 0.4060 - accuracy: 0.8513 - val_loss: 0.5677 - val_accuracy: 0.7971\n",
            "Epoch 227/500\n",
            "104/104 [==============================] - 1s 11ms/step - loss: 0.4095 - accuracy: 0.8531 - val_loss: 0.6204 - val_accuracy: 0.7874\n",
            "Epoch 228/500\n",
            "104/104 [==============================] - 1s 10ms/step - loss: 0.4100 - accuracy: 0.8476 - val_loss: 0.5966 - val_accuracy: 0.7633\n",
            "Epoch 229/500\n",
            "104/104 [==============================] - 1s 10ms/step - loss: 0.4366 - accuracy: 0.8283 - val_loss: 0.5990 - val_accuracy: 0.7874\n",
            "Epoch 230/500\n",
            "104/104 [==============================] - 1s 11ms/step - loss: 0.3858 - accuracy: 0.8561 - val_loss: 0.5795 - val_accuracy: 0.8019\n",
            "Epoch 231/500\n",
            "104/104 [==============================] - 1s 12ms/step - loss: 0.4182 - accuracy: 0.8482 - val_loss: 0.5322 - val_accuracy: 0.8068\n",
            "Epoch 232/500\n",
            "104/104 [==============================] - 1s 10ms/step - loss: 0.4146 - accuracy: 0.8434 - val_loss: 0.5340 - val_accuracy: 0.7923\n",
            "Epoch 233/500\n",
            "104/104 [==============================] - 1s 9ms/step - loss: 0.4067 - accuracy: 0.8519 - val_loss: 0.5575 - val_accuracy: 0.7874\n",
            "Epoch 234/500\n",
            "104/104 [==============================] - 1s 11ms/step - loss: 0.4040 - accuracy: 0.8513 - val_loss: 0.5776 - val_accuracy: 0.7971\n",
            "Epoch 235/500\n",
            "104/104 [==============================] - 1s 10ms/step - loss: 0.3911 - accuracy: 0.8579 - val_loss: 0.5902 - val_accuracy: 0.7923\n",
            "Epoch 236/500\n",
            "104/104 [==============================] - 1s 10ms/step - loss: 0.4125 - accuracy: 0.8513 - val_loss: 0.5316 - val_accuracy: 0.8116\n",
            "Epoch 237/500\n",
            "104/104 [==============================] - 1s 10ms/step - loss: 0.3836 - accuracy: 0.8597 - val_loss: 0.5549 - val_accuracy: 0.7633\n",
            "Epoch 238/500\n",
            "104/104 [==============================] - 1s 10ms/step - loss: 0.3951 - accuracy: 0.8622 - val_loss: 0.5645 - val_accuracy: 0.7778\n",
            "Epoch 239/500\n",
            "104/104 [==============================] - 1s 10ms/step - loss: 0.4185 - accuracy: 0.8501 - val_loss: 0.5697 - val_accuracy: 0.7874\n",
            "Epoch 240/500\n",
            "104/104 [==============================] - 1s 10ms/step - loss: 0.3787 - accuracy: 0.8555 - val_loss: 0.5765 - val_accuracy: 0.7778\n",
            "Epoch 241/500\n",
            "104/104 [==============================] - 1s 10ms/step - loss: 0.3736 - accuracy: 0.8615 - val_loss: 0.5880 - val_accuracy: 0.7826\n",
            "Epoch 242/500\n",
            "104/104 [==============================] - 1s 11ms/step - loss: 0.3913 - accuracy: 0.8573 - val_loss: 0.5624 - val_accuracy: 0.7923\n",
            "Epoch 243/500\n",
            "104/104 [==============================] - 1s 10ms/step - loss: 0.3878 - accuracy: 0.8579 - val_loss: 0.5756 - val_accuracy: 0.7923\n",
            "Epoch 244/500\n",
            "104/104 [==============================] - 1s 10ms/step - loss: 0.3927 - accuracy: 0.8495 - val_loss: 0.6024 - val_accuracy: 0.7633\n",
            "Epoch 245/500\n",
            "104/104 [==============================] - 1s 11ms/step - loss: 0.4172 - accuracy: 0.8398 - val_loss: 0.5798 - val_accuracy: 0.7729\n",
            "Epoch 246/500\n",
            "104/104 [==============================] - 1s 11ms/step - loss: 0.3791 - accuracy: 0.8628 - val_loss: 0.5864 - val_accuracy: 0.7971\n",
            "Epoch 247/500\n",
            "104/104 [==============================] - 1s 10ms/step - loss: 0.3846 - accuracy: 0.8652 - val_loss: 0.5884 - val_accuracy: 0.7729\n",
            "Epoch 248/500\n",
            "104/104 [==============================] - 1s 11ms/step - loss: 0.3961 - accuracy: 0.8543 - val_loss: 0.6788 - val_accuracy: 0.7343\n",
            "Epoch 249/500\n",
            "104/104 [==============================] - 1s 11ms/step - loss: 0.3826 - accuracy: 0.8489 - val_loss: 0.5684 - val_accuracy: 0.7971\n",
            "Epoch 250/500\n",
            "104/104 [==============================] - 1s 10ms/step - loss: 0.3819 - accuracy: 0.8603 - val_loss: 0.5449 - val_accuracy: 0.8261\n",
            "Epoch 251/500\n",
            "104/104 [==============================] - 1s 10ms/step - loss: 0.3802 - accuracy: 0.8585 - val_loss: 0.5222 - val_accuracy: 0.7923\n",
            "Epoch 252/500\n",
            "104/104 [==============================] - 1s 12ms/step - loss: 0.3503 - accuracy: 0.8773 - val_loss: 0.5705 - val_accuracy: 0.7681\n",
            "Epoch 253/500\n",
            "104/104 [==============================] - 1s 11ms/step - loss: 0.3736 - accuracy: 0.8609 - val_loss: 0.5843 - val_accuracy: 0.7778\n",
            "Epoch 254/500\n",
            "104/104 [==============================] - 1s 10ms/step - loss: 0.3719 - accuracy: 0.8591 - val_loss: 0.6023 - val_accuracy: 0.8068\n",
            "Epoch 255/500\n",
            "104/104 [==============================] - 1s 10ms/step - loss: 0.3533 - accuracy: 0.8652 - val_loss: 0.5611 - val_accuracy: 0.7778\n",
            "Epoch 256/500\n",
            "104/104 [==============================] - 1s 10ms/step - loss: 0.3837 - accuracy: 0.8573 - val_loss: 0.5615 - val_accuracy: 0.7826\n",
            "Epoch 257/500\n",
            "104/104 [==============================] - 1s 9ms/step - loss: 0.3864 - accuracy: 0.8440 - val_loss: 0.5385 - val_accuracy: 0.7826\n",
            "Epoch 258/500\n",
            "104/104 [==============================] - 1s 9ms/step - loss: 0.3673 - accuracy: 0.8591 - val_loss: 0.5862 - val_accuracy: 0.7729\n",
            "Epoch 259/500\n",
            "104/104 [==============================] - 1s 10ms/step - loss: 0.3597 - accuracy: 0.8585 - val_loss: 0.5876 - val_accuracy: 0.7826\n",
            "Epoch 260/500\n",
            "104/104 [==============================] - 1s 10ms/step - loss: 0.3778 - accuracy: 0.8561 - val_loss: 0.5787 - val_accuracy: 0.7778\n",
            "Epoch 261/500\n",
            "104/104 [==============================] - 1s 9ms/step - loss: 0.3928 - accuracy: 0.8422 - val_loss: 0.6034 - val_accuracy: 0.7826\n",
            "Epoch 262/500\n",
            "104/104 [==============================] - 1s 10ms/step - loss: 0.3762 - accuracy: 0.8615 - val_loss: 0.5916 - val_accuracy: 0.7681\n",
            "Epoch 263/500\n",
            "104/104 [==============================] - 1s 10ms/step - loss: 0.3827 - accuracy: 0.8555 - val_loss: 0.5999 - val_accuracy: 0.7923\n",
            "Epoch 264/500\n",
            "104/104 [==============================] - 1s 10ms/step - loss: 0.3589 - accuracy: 0.8664 - val_loss: 0.6038 - val_accuracy: 0.7778\n",
            "Epoch 265/500\n",
            "104/104 [==============================] - 1s 11ms/step - loss: 0.3603 - accuracy: 0.8712 - val_loss: 0.5806 - val_accuracy: 0.7874\n",
            "Epoch 266/500\n",
            "104/104 [==============================] - 1s 10ms/step - loss: 0.3239 - accuracy: 0.8755 - val_loss: 0.5335 - val_accuracy: 0.7826\n",
            "Epoch 267/500\n",
            "104/104 [==============================] - 1s 11ms/step - loss: 0.3487 - accuracy: 0.8676 - val_loss: 0.5724 - val_accuracy: 0.7923\n",
            "Epoch 268/500\n",
            "104/104 [==============================] - 1s 12ms/step - loss: 0.3537 - accuracy: 0.8791 - val_loss: 0.5758 - val_accuracy: 0.7729\n",
            "Epoch 269/500\n",
            "104/104 [==============================] - 1s 11ms/step - loss: 0.3837 - accuracy: 0.8525 - val_loss: 0.5379 - val_accuracy: 0.8019\n",
            "Epoch 270/500\n",
            "104/104 [==============================] - 1s 11ms/step - loss: 0.3495 - accuracy: 0.8688 - val_loss: 0.5739 - val_accuracy: 0.7826\n",
            "Epoch 271/500\n",
            "104/104 [==============================] - 1s 11ms/step - loss: 0.3410 - accuracy: 0.8755 - val_loss: 0.5370 - val_accuracy: 0.8164\n",
            "Epoch 272/500\n",
            "104/104 [==============================] - 1s 11ms/step - loss: 0.3686 - accuracy: 0.8561 - val_loss: 0.5366 - val_accuracy: 0.8019\n",
            "Epoch 273/500\n",
            "104/104 [==============================] - 1s 10ms/step - loss: 0.3381 - accuracy: 0.8785 - val_loss: 0.5050 - val_accuracy: 0.8019\n",
            "Epoch 274/500\n",
            "104/104 [==============================] - 1s 10ms/step - loss: 0.3868 - accuracy: 0.8525 - val_loss: 0.5565 - val_accuracy: 0.7923\n",
            "Epoch 275/500\n",
            "104/104 [==============================] - 1s 11ms/step - loss: 0.3479 - accuracy: 0.8652 - val_loss: 0.5839 - val_accuracy: 0.8019\n",
            "Epoch 276/500\n",
            "104/104 [==============================] - 1s 12ms/step - loss: 0.3547 - accuracy: 0.8652 - val_loss: 0.5918 - val_accuracy: 0.7874\n",
            "Epoch 277/500\n",
            "104/104 [==============================] - 1s 12ms/step - loss: 0.3271 - accuracy: 0.8797 - val_loss: 0.5845 - val_accuracy: 0.7729\n",
            "Epoch 278/500\n",
            "104/104 [==============================] - 1s 11ms/step - loss: 0.3311 - accuracy: 0.8658 - val_loss: 0.5853 - val_accuracy: 0.7778\n",
            "Epoch 279/500\n",
            "104/104 [==============================] - 1s 12ms/step - loss: 0.3691 - accuracy: 0.8615 - val_loss: 0.5643 - val_accuracy: 0.7826\n",
            "Epoch 280/500\n",
            "104/104 [==============================] - 1s 12ms/step - loss: 0.3403 - accuracy: 0.8730 - val_loss: 0.5833 - val_accuracy: 0.7729\n",
            "Epoch 281/500\n",
            "104/104 [==============================] - 1s 10ms/step - loss: 0.3331 - accuracy: 0.8736 - val_loss: 0.5877 - val_accuracy: 0.7778\n",
            "Epoch 282/500\n",
            "104/104 [==============================] - 1s 11ms/step - loss: 0.3410 - accuracy: 0.8646 - val_loss: 0.5517 - val_accuracy: 0.7971\n",
            "Epoch 283/500\n",
            "104/104 [==============================] - 1s 12ms/step - loss: 0.3635 - accuracy: 0.8628 - val_loss: 0.5720 - val_accuracy: 0.7971\n",
            "Epoch 284/500\n",
            "104/104 [==============================] - 1s 11ms/step - loss: 0.3742 - accuracy: 0.8597 - val_loss: 0.5710 - val_accuracy: 0.7826\n",
            "Epoch 285/500\n",
            "104/104 [==============================] - 1s 11ms/step - loss: 0.3331 - accuracy: 0.8718 - val_loss: 0.5475 - val_accuracy: 0.7923\n",
            "Epoch 286/500\n",
            "104/104 [==============================] - 1s 12ms/step - loss: 0.3409 - accuracy: 0.8736 - val_loss: 0.5852 - val_accuracy: 0.7923\n",
            "Epoch 287/500\n",
            "104/104 [==============================] - 1s 12ms/step - loss: 0.3474 - accuracy: 0.8706 - val_loss: 0.6080 - val_accuracy: 0.7681\n",
            "Epoch 288/500\n",
            "104/104 [==============================] - 1s 11ms/step - loss: 0.3471 - accuracy: 0.8748 - val_loss: 0.6425 - val_accuracy: 0.7633\n",
            "Epoch 289/500\n",
            "104/104 [==============================] - 1s 11ms/step - loss: 0.3556 - accuracy: 0.8712 - val_loss: 0.5653 - val_accuracy: 0.7826\n",
            "Epoch 290/500\n",
            "104/104 [==============================] - 1s 11ms/step - loss: 0.3427 - accuracy: 0.8694 - val_loss: 0.5883 - val_accuracy: 0.7923\n",
            "Epoch 291/500\n",
            "104/104 [==============================] - 1s 11ms/step - loss: 0.3240 - accuracy: 0.8730 - val_loss: 0.5145 - val_accuracy: 0.8164\n",
            "Epoch 292/500\n",
            "104/104 [==============================] - 1s 11ms/step - loss: 0.2925 - accuracy: 0.8984 - val_loss: 0.5585 - val_accuracy: 0.8068\n",
            "Epoch 293/500\n",
            "104/104 [==============================] - 1s 11ms/step - loss: 0.3139 - accuracy: 0.8924 - val_loss: 0.5459 - val_accuracy: 0.7971\n",
            "Epoch 294/500\n",
            "104/104 [==============================] - 1s 10ms/step - loss: 0.3228 - accuracy: 0.8815 - val_loss: 0.6602 - val_accuracy: 0.7633\n",
            "Epoch 295/500\n",
            "104/104 [==============================] - 1s 10ms/step - loss: 0.3571 - accuracy: 0.8700 - val_loss: 0.5676 - val_accuracy: 0.7874\n",
            "Epoch 296/500\n",
            "104/104 [==============================] - 1s 11ms/step - loss: 0.3400 - accuracy: 0.8748 - val_loss: 0.5618 - val_accuracy: 0.8116\n",
            "Epoch 297/500\n",
            "104/104 [==============================] - 1s 10ms/step - loss: 0.3339 - accuracy: 0.8821 - val_loss: 0.5744 - val_accuracy: 0.7585\n",
            "Epoch 298/500\n",
            "104/104 [==============================] - 1s 11ms/step - loss: 0.3432 - accuracy: 0.8730 - val_loss: 0.5578 - val_accuracy: 0.8261\n"
          ]
        }
      ]
    },
    {
      "cell_type": "code",
      "source": [
        "plt.plot(cnnhistory.history['loss'])\n",
        "plt.plot(cnnhistory.history['val_loss'])\n",
        "plt.title('model loss')\n",
        "plt.ylabel('loss')\n",
        "plt.xlabel('epoch')\n",
        "plt.legend(['train','test'], loc='upper left')\n",
        "plt.show()"
      ],
      "metadata": {
        "id": "oQYnuaCrDH_A",
        "colab": {
          "base_uri": "https://localhost:8080/",
          "height": 295
        },
        "outputId": "3081a630-f1f3-4021-bb10-cadf16bee677"
      },
      "execution_count": 14,
      "outputs": [
        {
          "output_type": "display_data",
          "data": {
            "text/plain": [
              "<Figure size 432x288 with 1 Axes>"
            ],
            "image/png": "[encoded data removed]"
          },
          "metadata": {
            "needs_background": "light"
          }
        }
      ]
    },
    {
      "cell_type": "code",
      "source": [
        "plt.plot(cnnhistory.history['accuracy'])\n",
        "plt.plot(cnnhistory.history['val_accuracy'])\n",
        "plt.title('model accuracy')\n",
        "plt.ylabel('accuracy')\n",
        "plt.xlabel('epoch')\n",
        "plt.legend(['train','test'], loc='upper left')\n",
        "plt.show()"
      ],
      "metadata": {
        "id": "IFkTuO8nDNdq",
        "colab": {
          "base_uri": "https://localhost:8080/",
          "height": 295
        },
        "outputId": "6b9246fe-a8ca-4f20-eb3c-b718e3916172"
      },
      "execution_count": 15,
      "outputs": [
        {
          "output_type": "display_data",
          "data": {
            "text/plain": [
              "<Figure size 432x288 with 1 Axes>"
            ],
            "image/png": "[encoded data removed]"
          },
          "metadata": {
            "needs_background": "light"
          }
        }
      ]
    },
    {
      "cell_type": "code",
      "source": [
        "predictions = model.predict(x_testcnn)"
      ],
      "metadata": {
        "id": "A2xtrN5wDQgY"
      },
      "execution_count": 16,
      "outputs": []
    },
    {
      "cell_type": "code",
      "source": [
        "predictions"
      ],
      "metadata": {
        "id": "_f_ohjXKDUpY",
        "colab": {
          "base_uri": "https://localhost:8080/"
        },
        "outputId": "38200345-2dfa-4531-ce67-015b61df87bb"
      },
      "execution_count": 17,
      "outputs": [
        {
          "output_type": "execute_result",
          "data": {
            "text/plain": [
              "array([[3.3425075e-01, 8.2026519e-02, 2.7441800e-01, 1.7096728e-01,\n",
              "        8.0115952e-02, 5.8221456e-02],\n",
              "       [7.3678471e-05, 1.1100614e-06, 8.5659828e-08, 9.9005765e-01,\n",
              "        7.5627372e-07, 9.8668030e-03],\n",
              "       [7.4476644e-02, 1.6260175e-02, 2.2150711e-03, 8.3657801e-01,\n",
              "        2.7863071e-03, 6.7683846e-02],\n",
              "       ...,\n",
              "       [8.5069449e-05, 1.0688594e-06, 1.1675501e-03, 1.1795437e-04,\n",
              "        9.9618500e-01, 2.4433641e-03],\n",
              "       [1.2184993e-05, 3.5824245e-01, 6.4100063e-01, 1.5928938e-04,\n",
              "        2.0391558e-04, 3.8142217e-04],\n",
              "       [2.9882125e-05, 5.2734922e-06, 5.4421006e-03, 9.2790287e-05,\n",
              "        9.8650301e-01, 7.9270080e-03]], dtype=float32)"
            ]
          },
          "metadata": {},
          "execution_count": 17
        }
      ]
    },
    {
      "cell_type": "code",
      "source": [
        "y_test"
      ],
      "metadata": {
        "id": "cmA2bFgsDW3D",
        "colab": {
          "base_uri": "https://localhost:8080/"
        },
        "outputId": "0ba1f739-00f3-48bb-f81e-46f3041931e8"
      },
      "execution_count": 18,
      "outputs": [
        {
          "output_type": "execute_result",
          "data": {
            "text/plain": [
              "array([3, 3, 3, 0, 4, 4, 1, 2, 5, 0, 5, 3, 2, 2, 1, 4, 4, 5, 2, 4, 1, 2,\n",
              "       3, 5, 4, 2, 1, 2, 2, 2, 2, 5, 2, 5, 3, 1, 2, 0, 4, 5, 2, 3, 2, 2,\n",
              "       5, 2, 0, 1, 3, 4, 4, 5, 1, 1, 4, 4, 5, 1, 1, 1, 0, 1, 5, 0, 4, 1,\n",
              "       1, 0, 1, 4, 1, 0, 4, 1, 3, 1, 2, 2, 1, 2, 3, 0, 5, 3, 5, 5, 2, 4,\n",
              "       5, 1, 5, 1, 5, 3, 4, 1, 4, 1, 5, 4, 5, 1, 2, 1, 1, 5, 1, 3, 2, 5,\n",
              "       2, 1, 3, 5, 4, 4, 0, 0, 3, 1, 2, 2, 3, 5, 1, 5, 3, 4, 2, 2, 0, 2,\n",
              "       2, 5, 5, 0, 3, 3, 2, 2, 0, 3, 4, 0, 4, 2, 4, 5, 4, 1, 5, 3, 2, 2,\n",
              "       5, 4, 3, 3, 4, 3, 3, 4, 1, 5, 2, 3, 2, 2, 0, 2, 1, 3, 1, 2, 2, 5,\n",
              "       5, 1, 4, 2, 2, 1, 1, 3, 3, 5, 5, 2, 5, 1, 5, 0, 3, 3, 0, 5, 1, 4,\n",
              "       1, 4, 2, 5, 5, 1, 4, 2, 4])"
            ]
          },
          "metadata": {},
          "execution_count": 18
        }
      ]
    },
    {
      "cell_type": "code",
      "source": [
        "new_Ytest = y_test.astype(int)"
      ],
      "metadata": {
        "id": "0PHDKWJWDY3g"
      },
      "execution_count": 19,
      "outputs": []
    },
    {
      "cell_type": "code",
      "source": [
        "new_Ytest"
      ],
      "metadata": {
        "id": "k68v2i-pDbZE",
        "colab": {
          "base_uri": "https://localhost:8080/"
        },
        "outputId": "8a25e232-6bbe-488f-91a4-8fb152daf383"
      },
      "execution_count": 20,
      "outputs": [
        {
          "output_type": "execute_result",
          "data": {
            "text/plain": [
              "array([3, 3, 3, 0, 4, 4, 1, 2, 5, 0, 5, 3, 2, 2, 1, 4, 4, 5, 2, 4, 1, 2,\n",
              "       3, 5, 4, 2, 1, 2, 2, 2, 2, 5, 2, 5, 3, 1, 2, 0, 4, 5, 2, 3, 2, 2,\n",
              "       5, 2, 0, 1, 3, 4, 4, 5, 1, 1, 4, 4, 5, 1, 1, 1, 0, 1, 5, 0, 4, 1,\n",
              "       1, 0, 1, 4, 1, 0, 4, 1, 3, 1, 2, 2, 1, 2, 3, 0, 5, 3, 5, 5, 2, 4,\n",
              "       5, 1, 5, 1, 5, 3, 4, 1, 4, 1, 5, 4, 5, 1, 2, 1, 1, 5, 1, 3, 2, 5,\n",
              "       2, 1, 3, 5, 4, 4, 0, 0, 3, 1, 2, 2, 3, 5, 1, 5, 3, 4, 2, 2, 0, 2,\n",
              "       2, 5, 5, 0, 3, 3, 2, 2, 0, 3, 4, 0, 4, 2, 4, 5, 4, 1, 5, 3, 2, 2,\n",
              "       5, 4, 3, 3, 4, 3, 3, 4, 1, 5, 2, 3, 2, 2, 0, 2, 1, 3, 1, 2, 2, 5,\n",
              "       5, 1, 4, 2, 2, 1, 1, 3, 3, 5, 5, 2, 5, 1, 5, 0, 3, 3, 0, 5, 1, 4,\n",
              "       1, 4, 2, 5, 5, 1, 4, 2, 4])"
            ]
          },
          "metadata": {},
          "execution_count": 20
        }
      ]
    },
    {
      "cell_type": "code",
      "source": [
        "preds1=predictions.argmax(axis=1)\n",
        "preds1"
      ],
      "metadata": {
        "id": "4_cAI39VFhtp",
        "colab": {
          "base_uri": "https://localhost:8080/"
        },
        "outputId": "064514bf-1171-485b-f276-c96bdb8a5941"
      },
      "execution_count": 21,
      "outputs": [
        {
          "output_type": "execute_result",
          "data": {
            "text/plain": [
              "array([0, 3, 3, 0, 4, 4, 1, 2, 5, 1, 5, 3, 2, 2, 0, 4, 4, 3, 2, 4, 1, 2,\n",
              "       2, 3, 4, 2, 1, 0, 2, 2, 2, 5, 2, 5, 3, 1, 2, 0, 4, 5, 2, 3, 2, 2,\n",
              "       3, 2, 1, 1, 3, 4, 4, 1, 1, 1, 4, 4, 5, 1, 1, 1, 3, 1, 2, 1, 4, 1,\n",
              "       1, 1, 1, 4, 0, 0, 4, 1, 3, 5, 2, 2, 1, 2, 1, 0, 5, 3, 5, 5, 2, 5,\n",
              "       5, 1, 4, 1, 5, 3, 4, 1, 4, 1, 3, 4, 5, 1, 2, 1, 1, 5, 1, 3, 2, 5,\n",
              "       5, 1, 3, 5, 4, 4, 3, 0, 3, 1, 1, 2, 1, 4, 1, 5, 3, 5, 2, 2, 0, 2,\n",
              "       2, 3, 3, 0, 3, 3, 2, 2, 0, 3, 4, 0, 4, 2, 4, 1, 4, 1, 5, 3, 2, 2,\n",
              "       5, 4, 3, 3, 4, 5, 3, 4, 1, 5, 2, 3, 2, 2, 0, 2, 1, 3, 1, 2, 2, 5,\n",
              "       5, 1, 4, 2, 2, 1, 1, 3, 3, 5, 5, 2, 5, 1, 2, 1, 3, 3, 1, 5, 1, 4,\n",
              "       1, 3, 5, 2, 5, 1, 4, 2, 4])"
            ]
          },
          "metadata": {},
          "execution_count": 21
        }
      ]
    },
    {
      "cell_type": "code",
      "source": [
        "abc = preds1.astype(int).flatten()"
      ],
      "metadata": {
        "id": "H4WEmM60NfQn"
      },
      "execution_count": 22,
      "outputs": []
    },
    {
      "cell_type": "code",
      "source": [
        "from sklearn.metrics import confusion_matrix\n",
        "c = confusion_matrix(new_Ytest, abc) \n",
        "c"
      ],
      "metadata": {
        "id": "bKEBeEBlFjB8",
        "colab": {
          "base_uri": "https://localhost:8080/"
        },
        "outputId": "2a20bb06-ced4-4496-c442-2a83da3c97da"
      },
      "execution_count": 25,
      "outputs": [
        {
          "output_type": "execute_result",
          "data": {
            "text/plain": [
              "array([[10,  6,  0,  2,  0,  0],\n",
              "       [ 2, 38,  0,  0,  0,  1],\n",
              "       [ 1,  1, 41,  0,  0,  2],\n",
              "       [ 1,  2,  1, 26,  0,  1],\n",
              "       [ 0,  0,  0,  1, 30,  2],\n",
              "       [ 0,  2,  3,  6,  2, 26]])"
            ]
          },
          "metadata": {},
          "execution_count": 25
        }
      ]
    },
    {
      "cell_type": "code",
      "source": [
        "y_test"
      ],
      "metadata": {
        "id": "m4RjG7LWLSQx",
        "colab": {
          "base_uri": "https://localhost:8080/"
        },
        "outputId": "4169d2b7-8c6a-4149-8998-7095ae6508b5"
      },
      "execution_count": 24,
      "outputs": [
        {
          "output_type": "execute_result",
          "data": {
            "text/plain": [
              "array([3, 3, 3, 0, 4, 4, 1, 2, 5, 0, 5, 3, 2, 2, 1, 4, 4, 5, 2, 4, 1, 2,\n",
              "       3, 5, 4, 2, 1, 2, 2, 2, 2, 5, 2, 5, 3, 1, 2, 0, 4, 5, 2, 3, 2, 2,\n",
              "       5, 2, 0, 1, 3, 4, 4, 5, 1, 1, 4, 4, 5, 1, 1, 1, 0, 1, 5, 0, 4, 1,\n",
              "       1, 0, 1, 4, 1, 0, 4, 1, 3, 1, 2, 2, 1, 2, 3, 0, 5, 3, 5, 5, 2, 4,\n",
              "       5, 1, 5, 1, 5, 3, 4, 1, 4, 1, 5, 4, 5, 1, 2, 1, 1, 5, 1, 3, 2, 5,\n",
              "       2, 1, 3, 5, 4, 4, 0, 0, 3, 1, 2, 2, 3, 5, 1, 5, 3, 4, 2, 2, 0, 2,\n",
              "       2, 5, 5, 0, 3, 3, 2, 2, 0, 3, 4, 0, 4, 2, 4, 5, 4, 1, 5, 3, 2, 2,\n",
              "       5, 4, 3, 3, 4, 3, 3, 4, 1, 5, 2, 3, 2, 2, 0, 2, 1, 3, 1, 2, 2, 5,\n",
              "       5, 1, 4, 2, 2, 1, 1, 3, 3, 5, 5, 2, 5, 1, 5, 0, 3, 3, 0, 5, 1, 4,\n",
              "       1, 4, 2, 5, 5, 1, 4, 2, 4])"
            ]
          },
          "metadata": {},
          "execution_count": 24
        }
      ]
    },
    {
      "cell_type": "code",
      "source": [
        "loss, acc =model.evaluate(x_testcnn, y_test)\n",
        "print(\"Restored model, accuracy: {:5.2f}%\".format(100*acc))"
      ],
      "metadata": {
        "id": "n3kzoqPkDqqS",
        "colab": {
          "base_uri": "https://localhost:8080/"
        },
        "outputId": "6899d616-e517-4550-db88-80fe4acb86fb"
      },
      "execution_count": 26,
      "outputs": [
        {
          "output_type": "stream",
          "name": "stdout",
          "text": [
            "7/7 [==============================] - 0s 5ms/step - loss: 0.4952 - accuracy: 0.8261\n",
            "Restored model, accuracy: 82.61%\n"
          ]
        }
      ]
    },
    {
      "cell_type": "code",
      "source": [
        "loss, acc =model.evaluate(X_train, y_train)\n",
        "print(\"Restored model train, accuracy: {:5.2f}%\".format(100*acc))"
      ],
      "metadata": {
        "id": "fJDTGH_OUX0z",
        "colab": {
          "base_uri": "https://localhost:8080/"
        },
        "outputId": "5bdde418-7b1a-45f1-f99c-e37091d31142"
      },
      "execution_count": 27,
      "outputs": [
        {
          "output_type": "stream",
          "name": "stdout",
          "text": [
            "52/52 [==============================] - 1s 6ms/step - loss: 0.1685 - accuracy: 0.9794\n",
            "Restored model train, accuracy: 97.94%\n"
          ]
        }
      ]
    },
    {
      "cell_type": "code",
      "source": [
        "from sklearn.metrics import classification_report, confusion_matrix,accuracy_score\n",
        "import seaborn as sn\n",
        "\n",
        "print(classification_report(new_Ytest,abc))\n",
        "\n",
        "acc = float(accuracy_score(new_Ytest,abc))*100\n",
        "print(\"----accuracy score %s ----\" % acc)\n",
        "\n",
        "cm = confusion_matrix(new_Ytest,abc)\n",
        "#df_cm = pd.DataFrame(cm)\n",
        "class_names = ['neutral','calm', 'happy','sad','angry', 'fearful' ]\n",
        "df_cm = pd.DataFrame(cm, index=class_names, columns=class_names,)\n",
        "sn.heatmap(df_cm, annot=True, fmt='')\n",
        "plt.show()"
      ],
      "metadata": {
        "id": "SfSC3El94LZg",
        "colab": {
          "base_uri": "https://localhost:8080/",
          "height": 508
        },
        "outputId": "f4716495-597c-4b0f-cdb9-5821becaa155"
      },
      "execution_count": 28,
      "outputs": [
        {
          "output_type": "stream",
          "name": "stdout",
          "text": [
            "              precision    recall  f1-score   support\n",
            "\n",
            "           0       0.71      0.56      0.63        18\n",
            "           1       0.78      0.93      0.84        41\n",
            "           2       0.91      0.91      0.91        45\n",
            "           3       0.74      0.84      0.79        31\n",
            "           4       0.94      0.91      0.92        33\n",
            "           5       0.81      0.67      0.73        39\n",
            "\n",
            "    accuracy                           0.83       207\n",
            "   macro avg       0.82      0.80      0.80       207\n",
            "weighted avg       0.83      0.83      0.82       207\n",
            "\n",
            "----accuracy score 82.6086956521739 ----\n"
          ]
        },
        {
          "output_type": "display_data",
          "data": {
            "text/plain": [
              "<Figure size 432x288 with 2 Axes>"
            ],
            "image/png": "[encoded data removed]"
          },
          "metadata": {
            "needs_background": "light"
          }
        }
      ]
    }
  ]
}