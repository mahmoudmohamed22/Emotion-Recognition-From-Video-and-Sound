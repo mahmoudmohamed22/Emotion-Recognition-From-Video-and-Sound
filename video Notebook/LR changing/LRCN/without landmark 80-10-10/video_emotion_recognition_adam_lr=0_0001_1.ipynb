{
  "nbformat": 4,
  "nbformat_minor": 0,
  "metadata": {
    "colab": {
      "name": "video_emotion_recognition_adam_lr=0.0001_1.ipynb",
      "provenance": [],
      "collapsed_sections": [],
      "machine_shape": "hm"
    },
    "kernelspec": {
      "name": "python3",
      "display_name": "Python 3"
    },
    "accelerator": "GPU"
  },
  "cells": [
    {
      "cell_type": "code",
      "source": [
        "from google.colab import drive\n",
        "drive.mount('/content/drive')"
      ],
      "metadata": {
        "colab": {
          "base_uri": "https://localhost:8080/"
        },
        "id": "o94I67GBPVfM",
        "outputId": "69f95b97-0d97-4771-adca-f3d4880c6cbb"
      },
      "execution_count": 1,
      "outputs": [
        {
          "output_type": "stream",
          "name": "stdout",
          "text": [
            "Mounted at /content/drive\n"
          ]
        }
      ]
    },
    {
      "cell_type": "code",
      "source": [
        "# Discard the output of this cell.\n",
        "#%%capture\n",
        "\n",
        "# Install the required libraries.\n",
        "!pip install tensorflow opencv-contrib-python youtube-dl moviepy pydot\n",
        "!pip install git+https://github.com/TahaAnwar/pafy.git#egg=pafy"
      ],
      "metadata": {
        "colab": {
          "base_uri": "https://localhost:8080/"
        },
        "id": "6OQ7vRnzP6n8",
        "outputId": "a3a76c38-01b1-4bda-d950-f30d3cddc949"
      },
      "execution_count": 1,
      "outputs": [
        {
          "output_type": "stream",
          "name": "stdout",
          "text": [
            "Looking in indexes: https://pypi.org/simple, https://us-python.pkg.dev/colab-wheels/public/simple/\n",
            "Requirement already satisfied: tensorflow in /usr/local/lib/python3.7/dist-packages (2.8.2+zzzcolab20220527125636)\n",
            "Requirement already satisfied: opencv-contrib-python in /usr/local/lib/python3.7/dist-packages (4.1.2.30)\n",
            "Requirement already satisfied: youtube-dl in /usr/local/lib/python3.7/dist-packages (2021.12.17)\n",
            "Requirement already satisfied: moviepy in /usr/local/lib/python3.7/dist-packages (0.2.3.5)\n",
            "Requirement already satisfied: pydot in /usr/local/lib/python3.7/dist-packages (1.3.0)\n",
            "Requirement already satisfied: keras<2.9,>=2.8.0rc0 in /usr/local/lib/python3.7/dist-packages (from tensorflow) (2.8.0)\n",
            "Requirement already satisfied: keras-preprocessing>=1.1.1 in /usr/local/lib/python3.7/dist-packages (from tensorflow) (1.1.2)\n",
            "Requirement already satisfied: six>=1.12.0 in /usr/local/lib/python3.7/dist-packages (from tensorflow) (1.15.0)\n",
            "Requirement already satisfied: flatbuffers>=1.12 in /usr/local/lib/python3.7/dist-packages (from tensorflow) (2.0)\n",
            "Requirement already satisfied: opt-einsum>=2.3.2 in /usr/local/lib/python3.7/dist-packages (from tensorflow) (3.3.0)\n",
            "Requirement already satisfied: numpy>=1.20 in /usr/local/lib/python3.7/dist-packages (from tensorflow) (1.21.6)\n",
            "Requirement already satisfied: setuptools in /usr/local/lib/python3.7/dist-packages (from tensorflow) (57.4.0)\n",
            "Requirement already satisfied: google-pasta>=0.1.1 in /usr/local/lib/python3.7/dist-packages (from tensorflow) (0.2.0)\n",
            "Requirement already satisfied: h5py>=2.9.0 in /usr/local/lib/python3.7/dist-packages (from tensorflow) (3.1.0)\n",
            "Requirement already satisfied: termcolor>=1.1.0 in /usr/local/lib/python3.7/dist-packages (from tensorflow) (1.1.0)\n",
            "Requirement already satisfied: tensorboard<2.9,>=2.8 in /usr/local/lib/python3.7/dist-packages (from tensorflow) (2.8.0)\n",
            "Requirement already satisfied: astunparse>=1.6.0 in /usr/local/lib/python3.7/dist-packages (from tensorflow) (1.6.3)\n",
            "Requirement already satisfied: grpcio<2.0,>=1.24.3 in /usr/local/lib/python3.7/dist-packages (from tensorflow) (1.46.3)\n",
            "Requirement already satisfied: tensorflow-estimator<2.9,>=2.8 in /usr/local/lib/python3.7/dist-packages (from tensorflow) (2.8.0)\n",
            "Requirement already satisfied: libclang>=9.0.1 in /usr/local/lib/python3.7/dist-packages (from tensorflow) (14.0.1)\n",
            "Requirement already satisfied: absl-py>=0.4.0 in /usr/local/lib/python3.7/dist-packages (from tensorflow) (1.0.0)\n",
            "Requirement already satisfied: protobuf<3.20,>=3.9.2 in /usr/local/lib/python3.7/dist-packages (from tensorflow) (3.17.3)\n",
            "Requirement already satisfied: gast>=0.2.1 in /usr/local/lib/python3.7/dist-packages (from tensorflow) (0.5.3)\n",
            "Requirement already satisfied: wrapt>=1.11.0 in /usr/local/lib/python3.7/dist-packages (from tensorflow) (1.14.1)\n",
            "Requirement already satisfied: tensorflow-io-gcs-filesystem>=0.23.1 in /usr/local/lib/python3.7/dist-packages (from tensorflow) (0.26.0)\n",
            "Requirement already satisfied: typing-extensions>=3.6.6 in /usr/local/lib/python3.7/dist-packages (from tensorflow) (4.2.0)\n",
            "Requirement already satisfied: wheel<1.0,>=0.23.0 in /usr/local/lib/python3.7/dist-packages (from astunparse>=1.6.0->tensorflow) (0.37.1)\n",
            "Requirement already satisfied: cached-property in /usr/local/lib/python3.7/dist-packages (from h5py>=2.9.0->tensorflow) (1.5.2)\n",
            "Requirement already satisfied: google-auth-oauthlib<0.5,>=0.4.1 in /usr/local/lib/python3.7/dist-packages (from tensorboard<2.9,>=2.8->tensorflow) (0.4.6)\n",
            "Requirement already satisfied: werkzeug>=0.11.15 in /usr/local/lib/python3.7/dist-packages (from tensorboard<2.9,>=2.8->tensorflow) (1.0.1)\n",
            "Requirement already satisfied: requests<3,>=2.21.0 in /usr/local/lib/python3.7/dist-packages (from tensorboard<2.9,>=2.8->tensorflow) (2.23.0)\n",
            "Requirement already satisfied: tensorboard-plugin-wit>=1.6.0 in /usr/local/lib/python3.7/dist-packages (from tensorboard<2.9,>=2.8->tensorflow) (1.8.1)\n",
            "Requirement already satisfied: tensorboard-data-server<0.7.0,>=0.6.0 in /usr/local/lib/python3.7/dist-packages (from tensorboard<2.9,>=2.8->tensorflow) (0.6.1)\n",
            "Requirement already satisfied: google-auth<3,>=1.6.3 in /usr/local/lib/python3.7/dist-packages (from tensorboard<2.9,>=2.8->tensorflow) (1.35.0)\n",
            "Requirement already satisfied: markdown>=2.6.8 in /usr/local/lib/python3.7/dist-packages (from tensorboard<2.9,>=2.8->tensorflow) (3.3.7)\n",
            "Requirement already satisfied: rsa<5,>=3.1.4 in /usr/local/lib/python3.7/dist-packages (from google-auth<3,>=1.6.3->tensorboard<2.9,>=2.8->tensorflow) (4.8)\n",
            "Requirement already satisfied: pyasn1-modules>=0.2.1 in /usr/local/lib/python3.7/dist-packages (from google-auth<3,>=1.6.3->tensorboard<2.9,>=2.8->tensorflow) (0.2.8)\n",
            "Requirement already satisfied: cachetools<5.0,>=2.0.0 in /usr/local/lib/python3.7/dist-packages (from google-auth<3,>=1.6.3->tensorboard<2.9,>=2.8->tensorflow) (4.2.4)\n",
            "Requirement already satisfied: requests-oauthlib>=0.7.0 in /usr/local/lib/python3.7/dist-packages (from google-auth-oauthlib<0.5,>=0.4.1->tensorboard<2.9,>=2.8->tensorflow) (1.3.1)\n",
            "Requirement already satisfied: importlib-metadata>=4.4 in /usr/local/lib/python3.7/dist-packages (from markdown>=2.6.8->tensorboard<2.9,>=2.8->tensorflow) (4.11.4)\n",
            "Requirement already satisfied: zipp>=0.5 in /usr/local/lib/python3.7/dist-packages (from importlib-metadata>=4.4->markdown>=2.6.8->tensorboard<2.9,>=2.8->tensorflow) (3.8.0)\n",
            "Requirement already satisfied: pyasn1<0.5.0,>=0.4.6 in /usr/local/lib/python3.7/dist-packages (from pyasn1-modules>=0.2.1->google-auth<3,>=1.6.3->tensorboard<2.9,>=2.8->tensorflow) (0.4.8)\n",
            "Requirement already satisfied: certifi>=2017.4.17 in /usr/local/lib/python3.7/dist-packages (from requests<3,>=2.21.0->tensorboard<2.9,>=2.8->tensorflow) (2022.5.18.1)\n",
            "Requirement already satisfied: idna<3,>=2.5 in /usr/local/lib/python3.7/dist-packages (from requests<3,>=2.21.0->tensorboard<2.9,>=2.8->tensorflow) (2.10)\n",
            "Requirement already satisfied: urllib3!=1.25.0,!=1.25.1,<1.26,>=1.21.1 in /usr/local/lib/python3.7/dist-packages (from requests<3,>=2.21.0->tensorboard<2.9,>=2.8->tensorflow) (1.24.3)\n",
            "Requirement already satisfied: chardet<4,>=3.0.2 in /usr/local/lib/python3.7/dist-packages (from requests<3,>=2.21.0->tensorboard<2.9,>=2.8->tensorflow) (3.0.4)\n",
            "Requirement already satisfied: oauthlib>=3.0.0 in /usr/local/lib/python3.7/dist-packages (from requests-oauthlib>=0.7.0->google-auth-oauthlib<0.5,>=0.4.1->tensorboard<2.9,>=2.8->tensorflow) (3.2.0)\n",
            "Requirement already satisfied: tqdm<5.0,>=4.11.2 in /usr/local/lib/python3.7/dist-packages (from moviepy) (4.64.0)\n",
            "Requirement already satisfied: decorator<5.0,>=4.0.2 in /usr/local/lib/python3.7/dist-packages (from moviepy) (4.4.2)\n",
            "Requirement already satisfied: imageio<3.0,>=2.1.2 in /usr/local/lib/python3.7/dist-packages (from moviepy) (2.4.1)\n",
            "Requirement already satisfied: pillow in /usr/local/lib/python3.7/dist-packages (from imageio<3.0,>=2.1.2->moviepy) (7.1.2)\n",
            "Requirement already satisfied: pyparsing>=2.1.4 in /usr/local/lib/python3.7/dist-packages (from pydot) (3.0.9)\n",
            "Looking in indexes: https://pypi.org/simple, https://us-python.pkg.dev/colab-wheels/public/simple/\n",
            "Collecting pafy\n",
            "  Cloning https://github.com/TahaAnwar/pafy.git to /tmp/pip-install-x5jk4la9/pafy_9773422c0bba4a3dba77f4932223e25f\n",
            "  Running command git clone -q https://github.com/TahaAnwar/pafy.git /tmp/pip-install-x5jk4la9/pafy_9773422c0bba4a3dba77f4932223e25f\n"
          ]
        }
      ]
    },
    {
      "cell_type": "code",
      "source": [
        "# Import the required libraries.\n",
        "import os\n",
        "import cv2\n",
        "import pafy\n",
        "import math\n",
        "import random\n",
        "import numpy as np\n",
        "import datetime as dt\n",
        "import tensorflow as tf\n",
        "from collections import deque\n",
        "import matplotlib.pyplot as plt\n",
        "\n",
        "from moviepy.editor import *\n",
        "%matplotlib inline\n",
        "\n",
        "from sklearn.model_selection import train_test_split\n",
        "\n",
        "from tensorflow.keras.layers import *\n",
        "from tensorflow.keras.models import Sequential\n",
        "from tensorflow.keras.utils import to_categorical\n",
        "from tensorflow.keras.callbacks import EarlyStopping\n",
        "from tensorflow.keras.utils import plot_model"
      ],
      "metadata": {
        "id": "LiLwshTpP-OB"
      },
      "execution_count": 2,
      "outputs": []
    },
    {
      "cell_type": "code",
      "source": [
        "seed_constant = 27\n",
        "np.random.seed(seed_constant)\n",
        "random.seed(seed_constant)\n",
        "tf.random.set_seed(seed_constant)"
      ],
      "metadata": {
        "id": "u4EtD4rrQEnb"
      },
      "execution_count": 3,
      "outputs": []
    },
    {
      "cell_type": "code",
      "source": [
        "# Specify the height and width to which each video frame will be resized in our dataset.\n",
        "IMAGE_HEIGHT , IMAGE_WIDTH = 64, 64\n",
        "\n",
        "# Specify the number of frames of a video that will be fed to the model as one sequence.\n",
        "SEQUENCE_LENGTH = 30\n",
        "\n",
        "# Specify the directory containing the UCF50 dataset. \n",
        "#DATASET_DIR = \"/content/drive/MyDrive/videospeech_label\"\n",
        "\n",
        "# Specify the list containing the names of the classes used for training. Feel free to choose any set of classes.\n",
        "CLASSES_LIST = [\"neutral\", \"calm\", \"happy\", \"sad\",\"angry\",\"fearful\"]"
      ],
      "metadata": {
        "id": "7H6KBiblQKE9"
      },
      "execution_count": 4,
      "outputs": []
    },
    {
      "cell_type": "code",
      "source": [
        "import joblib\n",
        "features=joblib.load('/content/drive/My Drive/features_ravdess/original_data_set/features_data')\n",
        "labels=joblib.load('/content/drive/My Drive/features_ravdess/original_data_set/labels')\n",
        "video_file_path=joblib.load('/content/drive/My Drive/features_ravdess/original_data_set/video_path')"
      ],
      "metadata": {
        "id": "V_rh-id5cmwd"
      },
      "execution_count": 5,
      "outputs": []
    },
    {
      "cell_type": "code",
      "source": [
        "features = np.asarray(features)\n",
        "labels = np.array(labels)  "
      ],
      "metadata": {
        "id": "WI3wNd7zdKzJ"
      },
      "execution_count": 6,
      "outputs": []
    },
    {
      "cell_type": "code",
      "source": [
        "features.shape"
      ],
      "metadata": {
        "colab": {
          "base_uri": "https://localhost:8080/"
        },
        "id": "pnnmkPz5Qh75",
        "outputId": "80e2b3f1-709d-47ba-f25f-ee03c3a07e8e"
      },
      "execution_count": 7,
      "outputs": [
        {
          "output_type": "execute_result",
          "data": {
            "text/plain": [
              "(2068, 30, 64, 64, 3)"
            ]
          },
          "metadata": {},
          "execution_count": 7
        }
      ]
    },
    {
      "cell_type": "code",
      "source": [
        "labels.shape"
      ],
      "metadata": {
        "colab": {
          "base_uri": "https://localhost:8080/"
        },
        "id": "kSGvdE_hQklC",
        "outputId": "4e1bbe3f-6378-4646-9a30-6560106a8898"
      },
      "execution_count": 8,
      "outputs": [
        {
          "output_type": "execute_result",
          "data": {
            "text/plain": [
              "(2068,)"
            ]
          },
          "metadata": {},
          "execution_count": 8
        }
      ]
    },
    {
      "cell_type": "code",
      "source": [
        "# Using Keras's to_categorical method to convert labels into one-hot-encoded vectors\n",
        "one_hot_encoded_labels = to_categorical(labels)"
      ],
      "metadata": {
        "id": "DGicVwcRQn9x"
      },
      "execution_count": 9,
      "outputs": []
    },
    {
      "cell_type": "code",
      "source": [
        "# Split the Data into Train ( 80% ) and Test Set ( 20% ).\n",
        "features_train, features_test, labels_train, labels_test = train_test_split(features, one_hot_encoded_labels,\n",
        "                                                                            test_size = 0.10, shuffle = True,\n",
        "                                                                            random_state = seed_constant)"
      ],
      "metadata": {
        "id": "pysOwWbgQrBv"
      },
      "execution_count": 10,
      "outputs": []
    },
    {
      "cell_type": "code",
      "source": [
        "def create_LRCN_model():\n",
        "    '''\n",
        "    This function will construct the required LRCN model.\n",
        "    Returns:\n",
        "        model: It is the required constructed LRCN model.\n",
        "    '''\n",
        "\n",
        "    # We will use a Sequential model for model construction.\n",
        "    model = Sequential()\n",
        "    \n",
        "    # Define the Model Architecture.\n",
        "    ########################################################################################################################\n",
        "    \n",
        "    model.add(TimeDistributed(Conv2D(16, (3, 3), padding='same',activation = 'relu'),\n",
        "                              input_shape = (SEQUENCE_LENGTH, IMAGE_HEIGHT, IMAGE_WIDTH, 3)))\n",
        "    \n",
        "    model.add(TimeDistributed(MaxPooling2D((4, 4)))) \n",
        "    model.add(TimeDistributed(Dropout(0.25)))\n",
        "    \n",
        "    model.add(TimeDistributed(Conv2D(32, (3, 3), padding='same',activation = 'relu')))\n",
        "    model.add(TimeDistributed(MaxPooling2D((4, 4))))\n",
        "    model.add(TimeDistributed(Dropout(0.25)))\n",
        "    \n",
        "    model.add(TimeDistributed(Conv2D(64, (3, 3), padding='same',activation = 'relu')))\n",
        "    model.add(TimeDistributed(MaxPooling2D((2, 2))))\n",
        "    model.add(TimeDistributed(Dropout(0.25)))\n",
        "    \n",
        "    model.add(TimeDistributed(Conv2D(64, (3, 3), padding='same',activation = 'relu')))\n",
        "    model.add(TimeDistributed(MaxPooling2D((2, 2))))\n",
        "    #model.add(TimeDistributed(Dropout(0.25)))\n",
        "                                      \n",
        "    model.add(TimeDistributed(Flatten()))\n",
        "                                      \n",
        "    model.add(LSTM(32))\n",
        "                                      \n",
        "    model.add(Dense(len(CLASSES_LIST), activation = 'softmax'))\n",
        "\n",
        "    ########################################################################################################################\n",
        "\n",
        "    # Display the models summary.\n",
        "    model.summary()\n",
        "    \n",
        "    # Return the constructed LRCN model.\n",
        "    return model"
      ],
      "metadata": {
        "id": "01zL-4EVQt3J"
      },
      "execution_count": 11,
      "outputs": []
    },
    {
      "cell_type": "code",
      "source": [
        "# Construct the required LRCN model.\n",
        "LRCN_model = create_LRCN_model()\n",
        "\n",
        "# Display the success message.\n",
        "print(\"Model Created Successfully!\")"
      ],
      "metadata": {
        "id": "sFdjcb8zQxX4"
      },
      "execution_count": null,
      "outputs": []
    },
    {
      "cell_type": "code",
      "source": [
        "import keras\n",
        "import tensorflow as tf \n",
        "# Create an Instance of Early Stopping Callback.\n",
        "early_stopping_callback = EarlyStopping(monitor = 'val_loss', patience = 25, mode = 'min', restore_best_weights = True)\n",
        "\n",
        "opt = tf.keras.optimizers.Adam(learning_rate=0.0001)\n",
        " \n",
        "# Compile the model and specify loss function, optimizer and metrics to the model.\n",
        "LRCN_model.compile(loss = 'categorical_crossentropy', optimizer = opt, metrics = [\"accuracy\"])\n",
        "\n",
        "# Start training the model.\n",
        "LRCN_model_training_history = LRCN_model.fit(x = features_train, y = labels_train, epochs = 100, batch_size = 4 ,\n",
        "                                             shuffle = True, validation_split = 0.1, callbacks = [early_stopping_callback])"
      ],
      "metadata": {
        "colab": {
          "base_uri": "https://localhost:8080/"
        },
        "id": "cVmXzItZQ4-r",
        "outputId": "46ea2912-b6a5-43b8-d836-8605aa4f5bb4"
      },
      "execution_count": 13,
      "outputs": [
        {
          "output_type": "stream",
          "name": "stdout",
          "text": [
            "Epoch 1/100\n",
            "419/419 [==============================] - 26s 19ms/step - loss: 1.7808 - accuracy: 0.1750 - val_loss: 1.7732 - val_accuracy: 0.2193\n",
            "Epoch 2/100\n",
            "419/419 [==============================] - 6s 14ms/step - loss: 1.7702 - accuracy: 0.1714 - val_loss: 1.7809 - val_accuracy: 0.1390\n",
            "Epoch 3/100\n",
            "419/419 [==============================] - 6s 14ms/step - loss: 1.7674 - accuracy: 0.1703 - val_loss: 1.7793 - val_accuracy: 0.1390\n",
            "Epoch 4/100\n",
            "419/419 [==============================] - 6s 14ms/step - loss: 1.7677 - accuracy: 0.1906 - val_loss: 1.7746 - val_accuracy: 0.1979\n",
            "Epoch 5/100\n",
            "419/419 [==============================] - 6s 14ms/step - loss: 1.7696 - accuracy: 0.1637 - val_loss: 1.7826 - val_accuracy: 0.1390\n",
            "Epoch 6/100\n",
            "419/419 [==============================] - 6s 14ms/step - loss: 1.7669 - accuracy: 0.1798 - val_loss: 1.7769 - val_accuracy: 0.1765\n",
            "Epoch 7/100\n",
            "419/419 [==============================] - 6s 14ms/step - loss: 1.7676 - accuracy: 0.1768 - val_loss: 1.7722 - val_accuracy: 0.2193\n",
            "Epoch 8/100\n",
            "419/419 [==============================] - 6s 14ms/step - loss: 1.7666 - accuracy: 0.1816 - val_loss: 1.7774 - val_accuracy: 0.1765\n",
            "Epoch 9/100\n",
            "419/419 [==============================] - 6s 14ms/step - loss: 1.7668 - accuracy: 0.1661 - val_loss: 1.7763 - val_accuracy: 0.1658\n",
            "Epoch 10/100\n",
            "419/419 [==============================] - 6s 14ms/step - loss: 1.7642 - accuracy: 0.1959 - val_loss: 1.7805 - val_accuracy: 0.1390\n",
            "Epoch 11/100\n",
            "419/419 [==============================] - 6s 14ms/step - loss: 1.7647 - accuracy: 0.1894 - val_loss: 1.7759 - val_accuracy: 0.1872\n",
            "Epoch 12/100\n",
            "419/419 [==============================] - 6s 14ms/step - loss: 1.7651 - accuracy: 0.1774 - val_loss: 1.7775 - val_accuracy: 0.2193\n",
            "Epoch 13/100\n",
            "419/419 [==============================] - 6s 14ms/step - loss: 1.7651 - accuracy: 0.1816 - val_loss: 1.7740 - val_accuracy: 0.2193\n",
            "Epoch 14/100\n",
            "419/419 [==============================] - 6s 14ms/step - loss: 1.7656 - accuracy: 0.1691 - val_loss: 1.7770 - val_accuracy: 0.1497\n",
            "Epoch 15/100\n",
            "419/419 [==============================] - 6s 14ms/step - loss: 1.7651 - accuracy: 0.1768 - val_loss: 1.7739 - val_accuracy: 0.1979\n",
            "Epoch 16/100\n",
            "419/419 [==============================] - 6s 14ms/step - loss: 1.7639 - accuracy: 0.1828 - val_loss: 1.7738 - val_accuracy: 0.2193\n",
            "Epoch 17/100\n",
            "419/419 [==============================] - 6s 14ms/step - loss: 1.7631 - accuracy: 0.1977 - val_loss: 1.7759 - val_accuracy: 0.2139\n",
            "Epoch 18/100\n",
            "419/419 [==============================] - 6s 14ms/step - loss: 1.7614 - accuracy: 0.1900 - val_loss: 1.7690 - val_accuracy: 0.2781\n",
            "Epoch 19/100\n",
            "419/419 [==============================] - 6s 14ms/step - loss: 1.7611 - accuracy: 0.1894 - val_loss: 1.7694 - val_accuracy: 0.2567\n",
            "Epoch 20/100\n",
            "419/419 [==============================] - 6s 15ms/step - loss: 1.7574 - accuracy: 0.2121 - val_loss: 1.7611 - val_accuracy: 0.2834\n",
            "Epoch 21/100\n",
            "419/419 [==============================] - 6s 14ms/step - loss: 1.7490 - accuracy: 0.2401 - val_loss: 1.7509 - val_accuracy: 0.2567\n",
            "Epoch 22/100\n",
            "419/419 [==============================] - 6s 14ms/step - loss: 1.7276 - accuracy: 0.2533 - val_loss: 1.7166 - val_accuracy: 0.2995\n",
            "Epoch 23/100\n",
            "419/419 [==============================] - 6s 14ms/step - loss: 1.6992 - accuracy: 0.2622 - val_loss: 1.6856 - val_accuracy: 0.2727\n",
            "Epoch 24/100\n",
            "419/419 [==============================] - 6s 14ms/step - loss: 1.6623 - accuracy: 0.2814 - val_loss: 1.6389 - val_accuracy: 0.3048\n",
            "Epoch 25/100\n",
            "419/419 [==============================] - 6s 14ms/step - loss: 1.6189 - accuracy: 0.3232 - val_loss: 1.5961 - val_accuracy: 0.3262\n",
            "Epoch 26/100\n",
            "419/419 [==============================] - 6s 14ms/step - loss: 1.5485 - accuracy: 0.3453 - val_loss: 1.5304 - val_accuracy: 0.3690\n",
            "Epoch 27/100\n",
            "419/419 [==============================] - 6s 14ms/step - loss: 1.5032 - accuracy: 0.3614 - val_loss: 1.5017 - val_accuracy: 0.3743\n",
            "Epoch 28/100\n",
            "419/419 [==============================] - 6s 14ms/step - loss: 1.4633 - accuracy: 0.3757 - val_loss: 1.4676 - val_accuracy: 0.3797\n",
            "Epoch 29/100\n",
            "419/419 [==============================] - 6s 14ms/step - loss: 1.4398 - accuracy: 0.3859 - val_loss: 1.4618 - val_accuracy: 0.3743\n",
            "Epoch 30/100\n",
            "419/419 [==============================] - 6s 14ms/step - loss: 1.4172 - accuracy: 0.3859 - val_loss: 1.3913 - val_accuracy: 0.4332\n",
            "Epoch 31/100\n",
            "419/419 [==============================] - 6s 14ms/step - loss: 1.3882 - accuracy: 0.4086 - val_loss: 1.4359 - val_accuracy: 0.3583\n",
            "Epoch 32/100\n",
            "419/419 [==============================] - 6s 14ms/step - loss: 1.3715 - accuracy: 0.4110 - val_loss: 1.3666 - val_accuracy: 0.4171\n",
            "Epoch 33/100\n",
            "419/419 [==============================] - 6s 14ms/step - loss: 1.3549 - accuracy: 0.4271 - val_loss: 1.3702 - val_accuracy: 0.4225\n",
            "Epoch 34/100\n",
            "419/419 [==============================] - 6s 14ms/step - loss: 1.3395 - accuracy: 0.4140 - val_loss: 1.3675 - val_accuracy: 0.4171\n",
            "Epoch 35/100\n",
            "419/419 [==============================] - 6s 14ms/step - loss: 1.3266 - accuracy: 0.4397 - val_loss: 1.3454 - val_accuracy: 0.4278\n",
            "Epoch 36/100\n",
            "419/419 [==============================] - 6s 14ms/step - loss: 1.3144 - accuracy: 0.4415 - val_loss: 1.3214 - val_accuracy: 0.4332\n",
            "Epoch 37/100\n",
            "419/419 [==============================] - 6s 14ms/step - loss: 1.2926 - accuracy: 0.4504 - val_loss: 1.2900 - val_accuracy: 0.4599\n",
            "Epoch 38/100\n",
            "419/419 [==============================] - 6s 14ms/step - loss: 1.2947 - accuracy: 0.4492 - val_loss: 1.3174 - val_accuracy: 0.4332\n",
            "Epoch 39/100\n",
            "419/419 [==============================] - 6s 14ms/step - loss: 1.2749 - accuracy: 0.4654 - val_loss: 1.2789 - val_accuracy: 0.4439\n",
            "Epoch 40/100\n",
            "419/419 [==============================] - 6s 14ms/step - loss: 1.2668 - accuracy: 0.4683 - val_loss: 1.2689 - val_accuracy: 0.4599\n",
            "Epoch 41/100\n",
            "419/419 [==============================] - 6s 14ms/step - loss: 1.2551 - accuracy: 0.4791 - val_loss: 1.2721 - val_accuracy: 0.4439\n",
            "Epoch 42/100\n",
            "419/419 [==============================] - 6s 14ms/step - loss: 1.2462 - accuracy: 0.4648 - val_loss: 1.2570 - val_accuracy: 0.4332\n",
            "Epoch 43/100\n",
            "419/419 [==============================] - 6s 14ms/step - loss: 1.2390 - accuracy: 0.4654 - val_loss: 1.2512 - val_accuracy: 0.4973\n",
            "Epoch 44/100\n",
            "419/419 [==============================] - 6s 14ms/step - loss: 1.2260 - accuracy: 0.4767 - val_loss: 1.2293 - val_accuracy: 0.4599\n",
            "Epoch 45/100\n",
            "419/419 [==============================] - 6s 14ms/step - loss: 1.2339 - accuracy: 0.4725 - val_loss: 1.2385 - val_accuracy: 0.4759\n",
            "Epoch 46/100\n",
            "419/419 [==============================] - 6s 14ms/step - loss: 1.2002 - accuracy: 0.4988 - val_loss: 1.2935 - val_accuracy: 0.4545\n",
            "Epoch 47/100\n",
            "419/419 [==============================] - 6s 14ms/step - loss: 1.2094 - accuracy: 0.4845 - val_loss: 1.2273 - val_accuracy: 0.4759\n",
            "Epoch 48/100\n",
            "419/419 [==============================] - 6s 14ms/step - loss: 1.2025 - accuracy: 0.4892 - val_loss: 1.2257 - val_accuracy: 0.4706\n",
            "Epoch 49/100\n",
            "419/419 [==============================] - 6s 14ms/step - loss: 1.1893 - accuracy: 0.4946 - val_loss: 1.2143 - val_accuracy: 0.4813\n",
            "Epoch 50/100\n",
            "419/419 [==============================] - 6s 14ms/step - loss: 1.1809 - accuracy: 0.5108 - val_loss: 1.1966 - val_accuracy: 0.4973\n",
            "Epoch 51/100\n",
            "419/419 [==============================] - 6s 14ms/step - loss: 1.1753 - accuracy: 0.5012 - val_loss: 1.2202 - val_accuracy: 0.4652\n",
            "Epoch 52/100\n",
            "419/419 [==============================] - 6s 14ms/step - loss: 1.1646 - accuracy: 0.5036 - val_loss: 1.1925 - val_accuracy: 0.4920\n",
            "Epoch 53/100\n",
            "419/419 [==============================] - 6s 14ms/step - loss: 1.1533 - accuracy: 0.5108 - val_loss: 1.1582 - val_accuracy: 0.5187\n",
            "Epoch 54/100\n",
            "419/419 [==============================] - 6s 14ms/step - loss: 1.1549 - accuracy: 0.5102 - val_loss: 1.1794 - val_accuracy: 0.5080\n",
            "Epoch 55/100\n",
            "419/419 [==============================] - 6s 14ms/step - loss: 1.1385 - accuracy: 0.5131 - val_loss: 1.1981 - val_accuracy: 0.4652\n",
            "Epoch 56/100\n",
            "419/419 [==============================] - 6s 14ms/step - loss: 1.1193 - accuracy: 0.5335 - val_loss: 1.1588 - val_accuracy: 0.5080\n",
            "Epoch 57/100\n",
            "419/419 [==============================] - 6s 14ms/step - loss: 1.1302 - accuracy: 0.5167 - val_loss: 1.2576 - val_accuracy: 0.4545\n",
            "Epoch 58/100\n",
            "419/419 [==============================] - 6s 14ms/step - loss: 1.0897 - accuracy: 0.5436 - val_loss: 1.1556 - val_accuracy: 0.5080\n",
            "Epoch 59/100\n",
            "419/419 [==============================] - 6s 14ms/step - loss: 1.0889 - accuracy: 0.5460 - val_loss: 1.1474 - val_accuracy: 0.4973\n",
            "Epoch 60/100\n",
            "419/419 [==============================] - 6s 14ms/step - loss: 1.1035 - accuracy: 0.5460 - val_loss: 1.1480 - val_accuracy: 0.5241\n",
            "Epoch 61/100\n",
            "419/419 [==============================] - 6s 14ms/step - loss: 1.0878 - accuracy: 0.5424 - val_loss: 1.1710 - val_accuracy: 0.4652\n",
            "Epoch 62/100\n",
            "419/419 [==============================] - 6s 14ms/step - loss: 1.0502 - accuracy: 0.5627 - val_loss: 1.1630 - val_accuracy: 0.4920\n",
            "Epoch 63/100\n",
            "419/419 [==============================] - 6s 14ms/step - loss: 1.0783 - accuracy: 0.5376 - val_loss: 1.1712 - val_accuracy: 0.4706\n",
            "Epoch 64/100\n",
            "419/419 [==============================] - 6s 14ms/step - loss: 1.0409 - accuracy: 0.5657 - val_loss: 1.1688 - val_accuracy: 0.4706\n",
            "Epoch 65/100\n",
            "419/419 [==============================] - 6s 14ms/step - loss: 1.0471 - accuracy: 0.5657 - val_loss: 1.1310 - val_accuracy: 0.5294\n",
            "Epoch 66/100\n",
            "419/419 [==============================] - 6s 15ms/step - loss: 1.0253 - accuracy: 0.5759 - val_loss: 1.1251 - val_accuracy: 0.4920\n",
            "Epoch 67/100\n",
            "419/419 [==============================] - 6s 14ms/step - loss: 1.0102 - accuracy: 0.5795 - val_loss: 1.1298 - val_accuracy: 0.4652\n",
            "Epoch 68/100\n",
            "419/419 [==============================] - 6s 14ms/step - loss: 0.9974 - accuracy: 0.6051 - val_loss: 1.1398 - val_accuracy: 0.4866\n",
            "Epoch 69/100\n",
            "419/419 [==============================] - 6s 14ms/step - loss: 0.9938 - accuracy: 0.5974 - val_loss: 1.1674 - val_accuracy: 0.5027\n",
            "Epoch 70/100\n",
            "419/419 [==============================] - 6s 14ms/step - loss: 1.0177 - accuracy: 0.5854 - val_loss: 1.1238 - val_accuracy: 0.5455\n",
            "Epoch 71/100\n",
            "419/419 [==============================] - 6s 14ms/step - loss: 0.9882 - accuracy: 0.5938 - val_loss: 1.1432 - val_accuracy: 0.4866\n",
            "Epoch 72/100\n",
            "419/419 [==============================] - 6s 14ms/step - loss: 0.9673 - accuracy: 0.6087 - val_loss: 1.1564 - val_accuracy: 0.5080\n",
            "Epoch 73/100\n",
            "419/419 [==============================] - 6s 14ms/step - loss: 0.9776 - accuracy: 0.5938 - val_loss: 1.1045 - val_accuracy: 0.5241\n",
            "Epoch 74/100\n",
            "419/419 [==============================] - 6s 14ms/step - loss: 0.9505 - accuracy: 0.6141 - val_loss: 1.0890 - val_accuracy: 0.5027\n",
            "Epoch 75/100\n",
            "419/419 [==============================] - 6s 14ms/step - loss: 0.9502 - accuracy: 0.6225 - val_loss: 1.0493 - val_accuracy: 0.5722\n",
            "Epoch 76/100\n",
            "419/419 [==============================] - 6s 14ms/step - loss: 0.9441 - accuracy: 0.6141 - val_loss: 1.0761 - val_accuracy: 0.5722\n",
            "Epoch 77/100\n",
            "419/419 [==============================] - 6s 14ms/step - loss: 0.9522 - accuracy: 0.6123 - val_loss: 1.0948 - val_accuracy: 0.5187\n",
            "Epoch 78/100\n",
            "419/419 [==============================] - 6s 15ms/step - loss: 0.9004 - accuracy: 0.6541 - val_loss: 1.0889 - val_accuracy: 0.5455\n",
            "Epoch 79/100\n",
            "419/419 [==============================] - 6s 15ms/step - loss: 0.8953 - accuracy: 0.6374 - val_loss: 1.0579 - val_accuracy: 0.5561\n",
            "Epoch 80/100\n",
            "419/419 [==============================] - 6s 14ms/step - loss: 0.8781 - accuracy: 0.6487 - val_loss: 1.0427 - val_accuracy: 0.5775\n",
            "Epoch 81/100\n",
            "419/419 [==============================] - 6s 14ms/step - loss: 0.8977 - accuracy: 0.6356 - val_loss: 1.0374 - val_accuracy: 0.5882\n",
            "Epoch 82/100\n",
            "419/419 [==============================] - 6s 14ms/step - loss: 0.8468 - accuracy: 0.6738 - val_loss: 1.0752 - val_accuracy: 0.5508\n",
            "Epoch 83/100\n",
            "419/419 [==============================] - 6s 15ms/step - loss: 0.8404 - accuracy: 0.6750 - val_loss: 1.0159 - val_accuracy: 0.5722\n",
            "Epoch 84/100\n",
            "419/419 [==============================] - 6s 14ms/step - loss: 0.8299 - accuracy: 0.6822 - val_loss: 1.0569 - val_accuracy: 0.5401\n",
            "Epoch 85/100\n",
            "419/419 [==============================] - 6s 14ms/step - loss: 0.8187 - accuracy: 0.6816 - val_loss: 1.0091 - val_accuracy: 0.5936\n",
            "Epoch 86/100\n",
            "419/419 [==============================] - 6s 14ms/step - loss: 0.8236 - accuracy: 0.6792 - val_loss: 1.0523 - val_accuracy: 0.5775\n",
            "Epoch 87/100\n",
            "419/419 [==============================] - 6s 14ms/step - loss: 0.7952 - accuracy: 0.6918 - val_loss: 0.9169 - val_accuracy: 0.6524\n",
            "Epoch 88/100\n",
            "419/419 [==============================] - 6s 14ms/step - loss: 0.7784 - accuracy: 0.7037 - val_loss: 0.9558 - val_accuracy: 0.6257\n",
            "Epoch 89/100\n",
            "419/419 [==============================] - 6s 14ms/step - loss: 0.7644 - accuracy: 0.7079 - val_loss: 0.9067 - val_accuracy: 0.6578\n",
            "Epoch 90/100\n",
            "419/419 [==============================] - 6s 14ms/step - loss: 0.7709 - accuracy: 0.7013 - val_loss: 0.9008 - val_accuracy: 0.6203\n",
            "Epoch 91/100\n",
            "419/419 [==============================] - 6s 15ms/step - loss: 0.7462 - accuracy: 0.6995 - val_loss: 0.9292 - val_accuracy: 0.6257\n",
            "Epoch 92/100\n",
            "419/419 [==============================] - 6s 14ms/step - loss: 0.7393 - accuracy: 0.7174 - val_loss: 0.9079 - val_accuracy: 0.6417\n",
            "Epoch 93/100\n",
            "419/419 [==============================] - 6s 14ms/step - loss: 0.7413 - accuracy: 0.7109 - val_loss: 0.8810 - val_accuracy: 0.6578\n",
            "Epoch 94/100\n",
            "419/419 [==============================] - 6s 14ms/step - loss: 0.7297 - accuracy: 0.7216 - val_loss: 0.8960 - val_accuracy: 0.6417\n",
            "Epoch 95/100\n",
            "419/419 [==============================] - 6s 14ms/step - loss: 0.7078 - accuracy: 0.7300 - val_loss: 0.8824 - val_accuracy: 0.6471\n",
            "Epoch 96/100\n",
            "419/419 [==============================] - 6s 14ms/step - loss: 0.6919 - accuracy: 0.7372 - val_loss: 0.8409 - val_accuracy: 0.6631\n",
            "Epoch 97/100\n",
            "419/419 [==============================] - 6s 14ms/step - loss: 0.7154 - accuracy: 0.7210 - val_loss: 0.8416 - val_accuracy: 0.6791\n",
            "Epoch 98/100\n",
            "419/419 [==============================] - 6s 14ms/step - loss: 0.6860 - accuracy: 0.7372 - val_loss: 0.8309 - val_accuracy: 0.6898\n",
            "Epoch 99/100\n",
            "419/419 [==============================] - 6s 14ms/step - loss: 0.6497 - accuracy: 0.7527 - val_loss: 0.9120 - val_accuracy: 0.6578\n",
            "Epoch 100/100\n",
            "419/419 [==============================] - 6s 14ms/step - loss: 0.6538 - accuracy: 0.7515 - val_loss: 0.7937 - val_accuracy: 0.6898\n"
          ]
        }
      ]
    },
    {
      "cell_type": "code",
      "source": [
        "# Evaluate the trained model.\n",
        "model_evaluation_history = LRCN_model.evaluate(features_test, labels_test)"
      ],
      "metadata": {
        "colab": {
          "base_uri": "https://localhost:8080/"
        },
        "id": "MSwdYqJLiATB",
        "outputId": "403b025e-3323-469d-8375-9354d9b1b12f"
      },
      "execution_count": 14,
      "outputs": [
        {
          "output_type": "stream",
          "name": "stdout",
          "text": [
            "7/7 [==============================] - 0s 32ms/step - loss: 0.7761 - accuracy: 0.6812\n"
          ]
        }
      ]
    },
    {
      "cell_type": "code",
      "source": [
        "# Get the loss and accuracy from model_evaluation_history.\n",
        "model_evaluation_loss, model_evaluation_accuracy = model_evaluation_history\n",
        "\n",
        "# Define the string date format.\n",
        "# Get the current Date and Time in a DateTime Object.\n",
        "# Convert the DateTime object to string according to the style mentioned in date_time_format string.\n",
        "date_time_format = '%Y_%m_%d__%H_%M_%S'\n",
        "current_date_time_dt = dt.datetime.now()\n",
        "current_date_time_string = dt.datetime.strftime(current_date_time_dt, date_time_format)\n",
        "    \n",
        "# Define a useful name for our model to make it easy for us while navigating through multiple saved models.\n",
        "model_file_name = f'LRCN_model___Date_Time_{current_date_time_string}___Loss_{model_evaluation_loss}___Accuracy_{model_evaluation_accuracy}.h5'\n",
        "\n",
        "# Save the Model.\n",
        "LRCN_model.save(model_file_name)"
      ],
      "metadata": {
        "id": "D3J57fVJRCEa"
      },
      "execution_count": null,
      "outputs": []
    },
    {
      "cell_type": "code",
      "source": [
        "def plot_metric(model_training_history, metric_name_1, metric_name_2, plot_name):\n",
        "    '''\n",
        "    This function will plot the metrics passed to it in a graph.\n",
        "    Args:\n",
        "        model_training_history: A history object containing a record of training and validation \n",
        "                                loss values and metrics values at successive epochs\n",
        "        metric_name_1:          The name of the first metric that needs to be plotted in the graph.\n",
        "        metric_name_2:          The name of the second metric that needs to be plotted in the graph.\n",
        "        plot_name:              The title of the graph.\n",
        "    '''\n",
        "    \n",
        "    # Get metric values using metric names as identifiers.\n",
        "    metric_value_1 = model_training_history.history[metric_name_1]\n",
        "    metric_value_2 = model_training_history.history[metric_name_2]\n",
        "    \n",
        "    # Construct a range object which will be used as x-axis (horizontal plane) of the graph.\n",
        "    epochs = range(len(metric_value_1))\n",
        "\n",
        "    # Plot the Graph.\n",
        "    plt.plot(epochs, metric_value_1, 'blue', label = metric_name_1)\n",
        "    plt.plot(epochs, metric_value_2, 'red', label = metric_name_2)\n",
        "\n",
        "    # Add title to the plot.\n",
        "    plt.title(str(plot_name))\n",
        "\n",
        "    # Add legend to the plot.\n",
        "    plt.legend()"
      ],
      "metadata": {
        "id": "sXhBv91xRFgU"
      },
      "execution_count": 15,
      "outputs": []
    },
    {
      "cell_type": "code",
      "source": [
        "# Visualize the training and validation loss metrices.\n",
        "plot_metric(LRCN_model_training_history, 'loss', 'val_loss', 'Total Loss vs Total Validation Loss')"
      ],
      "metadata": {
        "colab": {
          "base_uri": "https://localhost:8080/",
          "height": 281
        },
        "id": "cKhf3si1RJUW",
        "outputId": "f68115c6-0e92-4b7f-f082-a2b905e7ebf4"
      },
      "execution_count": 16,
      "outputs": [
        {
          "output_type": "display_data",
          "data": {
            "text/plain": [
              "<Figure size 432x288 with 1 Axes>"
            ],
            "image/png": "[encoded data removed]"
          },
          "metadata": {
            "needs_background": "light"
          }
        }
      ]
    },
    {
      "cell_type": "code",
      "source": [
        "# Visualize the training and validation accuracy metrices.\n",
        "plot_metric(LRCN_model_training_history, 'accuracy', 'val_accuracy', 'Total Accuracy vs Total Validation Accuracy')"
      ],
      "metadata": {
        "colab": {
          "base_uri": "https://localhost:8080/",
          "height": 281
        },
        "id": "5JB37wh3RLWX",
        "outputId": "cf04d25a-855b-4864-b256-53d3be3aa93d"
      },
      "execution_count": 17,
      "outputs": [
        {
          "output_type": "display_data",
          "data": {
            "text/plain": [
              "<Figure size 432x288 with 1 Axes>"
            ],
            "image/png": "[encoded data removed]"
          },
          "metadata": {
            "needs_background": "light"
          }
        }
      ]
    },
    {
      "cell_type": "code",
      "source": [
        "predictions =  LRCN_model.predict(features_test)\n",
        "predictions\n"
      ],
      "metadata": {
        "colab": {
          "base_uri": "https://localhost:8080/"
        },
        "id": "yM7edJgyRf-P",
        "outputId": "d39132b7-d669-48ca-cb01-7cec88526aeb"
      },
      "execution_count": 18,
      "outputs": [
        {
          "output_type": "execute_result",
          "data": {
            "text/plain": [
              "array([[0.06692525, 0.04843183, 0.01228316, 0.42522886, 0.09280524,\n",
              "        0.35432568],\n",
              "       [0.35554025, 0.0450886 , 0.00932776, 0.4898138 , 0.05597803,\n",
              "        0.04425161],\n",
              "       [0.00429761, 0.01554933, 0.9742992 , 0.00247803, 0.0013854 ,\n",
              "        0.00199034],\n",
              "       ...,\n",
              "       [0.12148171, 0.031965  , 0.02608971, 0.38548613, 0.24628747,\n",
              "        0.1886901 ],\n",
              "       [0.02098957, 0.0463351 , 0.92706704, 0.00223706, 0.0010698 ,\n",
              "        0.00230143],\n",
              "       [0.6385629 , 0.13961318, 0.06827337, 0.11602025, 0.01635448,\n",
              "        0.02117579]], dtype=float32)"
            ]
          },
          "metadata": {},
          "execution_count": 18
        }
      ]
    },
    {
      "cell_type": "code",
      "source": [
        "preds=predictions.argmax(axis=1)\n",
        "preds"
      ],
      "metadata": {
        "colab": {
          "base_uri": "https://localhost:8080/"
        },
        "id": "DNHaLfq2RjeT",
        "outputId": "58612a7f-c45c-47bc-fb3b-62a9da95c5f2"
      },
      "execution_count": 19,
      "outputs": [
        {
          "output_type": "execute_result",
          "data": {
            "text/plain": [
              "array([3, 3, 2, 3, 4, 3, 5, 1, 3, 3, 3, 0, 2, 0, 5, 3, 4, 1, 1, 1, 5, 5,\n",
              "       0, 2, 1, 4, 4, 4, 4, 4, 5, 4, 5, 3, 3, 2, 4, 1, 2, 5, 2, 2, 1, 3,\n",
              "       2, 1, 5, 5, 4, 4, 2, 2, 1, 4, 3, 1, 0, 1, 2, 5, 4, 5, 5, 0, 1, 4,\n",
              "       1, 0, 5, 1, 1, 3, 4, 5, 5, 4, 1, 4, 4, 5, 3, 3, 3, 3, 0, 1, 1, 1,\n",
              "       5, 5, 2, 1, 1, 1, 4, 5, 1, 2, 0, 4, 4, 4, 4, 5, 5, 4, 5, 1, 4, 1,\n",
              "       5, 4, 0, 1, 4, 0, 4, 1, 1, 1, 3, 5, 1, 4, 1, 3, 5, 1, 1, 1, 2, 1,\n",
              "       2, 2, 1, 0, 3, 0, 1, 1, 2, 2, 3, 4, 1, 2, 3, 3, 0, 3, 5, 4, 4, 4,\n",
              "       1, 2, 1, 4, 0, 0, 1, 3, 2, 2, 4, 3, 0, 1, 4, 4, 4, 5, 1, 4, 3, 1,\n",
              "       5, 0, 4, 5, 5, 0, 0, 4, 4, 5, 1, 4, 3, 4, 1, 4, 0, 1, 4, 4, 3, 1,\n",
              "       3, 5, 4, 2, 3, 2, 3, 2, 0])"
            ]
          },
          "metadata": {},
          "execution_count": 19
        }
      ]
    },
    {
      "cell_type": "code",
      "source": [
        "new_preds = preds.astype(int).flatten()\n",
        "new_preds"
      ],
      "metadata": {
        "colab": {
          "base_uri": "https://localhost:8080/"
        },
        "id": "0W618McKRl02",
        "outputId": "fd881db6-3b91-49e7-8cbf-876bb05c3924"
      },
      "execution_count": 20,
      "outputs": [
        {
          "output_type": "execute_result",
          "data": {
            "text/plain": [
              "array([3, 3, 2, 3, 4, 3, 5, 1, 3, 3, 3, 0, 2, 0, 5, 3, 4, 1, 1, 1, 5, 5,\n",
              "       0, 2, 1, 4, 4, 4, 4, 4, 5, 4, 5, 3, 3, 2, 4, 1, 2, 5, 2, 2, 1, 3,\n",
              "       2, 1, 5, 5, 4, 4, 2, 2, 1, 4, 3, 1, 0, 1, 2, 5, 4, 5, 5, 0, 1, 4,\n",
              "       1, 0, 5, 1, 1, 3, 4, 5, 5, 4, 1, 4, 4, 5, 3, 3, 3, 3, 0, 1, 1, 1,\n",
              "       5, 5, 2, 1, 1, 1, 4, 5, 1, 2, 0, 4, 4, 4, 4, 5, 5, 4, 5, 1, 4, 1,\n",
              "       5, 4, 0, 1, 4, 0, 4, 1, 1, 1, 3, 5, 1, 4, 1, 3, 5, 1, 1, 1, 2, 1,\n",
              "       2, 2, 1, 0, 3, 0, 1, 1, 2, 2, 3, 4, 1, 2, 3, 3, 0, 3, 5, 4, 4, 4,\n",
              "       1, 2, 1, 4, 0, 0, 1, 3, 2, 2, 4, 3, 0, 1, 4, 4, 4, 5, 1, 4, 3, 1,\n",
              "       5, 0, 4, 5, 5, 0, 0, 4, 4, 5, 1, 4, 3, 4, 1, 4, 0, 1, 4, 4, 3, 1,\n",
              "       3, 5, 4, 2, 3, 2, 3, 2, 0])"
            ]
          },
          "metadata": {},
          "execution_count": 20
        }
      ]
    },
    {
      "cell_type": "code",
      "source": [
        "\n",
        "from sklearn.metrics import classification_report, confusion_matrix,accuracy_score\n",
        "import seaborn as sn\n",
        "import pandas as pd\n",
        "import numpy as np\n",
        "new_labels=np.argmax(labels_test, axis=1)\n",
        "print(classification_report(new_labels,new_preds))\n",
        "\n",
        "acc = float(accuracy_score(new_labels,new_preds))*100\n",
        "print(\"----accuracy score %s ----\" % acc)\n",
        "\n",
        "cm = confusion_matrix(new_labels,new_preds)\n",
        "#df_cm = pd.DataFrame(cm)\n",
        "class_names = ['neutral','calm', 'happy','sad','angry', 'fearful' ]\n",
        "df_cm = pd.DataFrame(cm, index=class_names, columns=class_names,)\n",
        "sn.heatmap(df_cm, annot=True, fmt='')\n",
        "plt.show()\n"
      ],
      "metadata": {
        "colab": {
          "base_uri": "https://localhost:8080/",
          "height": 508
        },
        "id": "cTET95L8RoVW",
        "outputId": "f3ec5a78-ec0c-47ab-b0b2-764dcbba1a4a"
      },
      "execution_count": 21,
      "outputs": [
        {
          "output_type": "stream",
          "name": "stdout",
          "text": [
            "              precision    recall  f1-score   support\n",
            "\n",
            "           0       0.76      0.59      0.67        27\n",
            "           1       0.76      0.84      0.80        44\n",
            "           2       0.92      0.72      0.81        32\n",
            "           3       0.53      0.46      0.49        37\n",
            "           4       0.52      0.78      0.62        32\n",
            "           5       0.72      0.66      0.69        35\n",
            "\n",
            "    accuracy                           0.68       207\n",
            "   macro avg       0.70      0.68      0.68       207\n",
            "weighted avg       0.70      0.68      0.68       207\n",
            "\n",
            "----accuracy score 68.11594202898551 ----\n"
          ]
        },
        {
          "output_type": "display_data",
          "data": {
            "text/plain": [
              "<Figure size 432x288 with 2 Axes>"
            ],
            "image/png": "[encoded data removed]"
          },
          "metadata": {
            "needs_background": "light"
          }
        }
      ]
    },
    {
      "cell_type": "code",
      "source": [
        ""
      ],
      "metadata": {
        "id": "c3nbyK6BfnDR"
      },
      "execution_count": 21,
      "outputs": []
    }
  ]
}