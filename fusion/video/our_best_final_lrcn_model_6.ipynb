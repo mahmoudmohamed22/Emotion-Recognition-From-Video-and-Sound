{
  "cells": [
    {
      "cell_type": "code",
      "execution_count": 1,
      "metadata": {
        "colab": {
          "base_uri": "https://localhost:8080/"
        },
        "id": "iC_o_HaWEBQ4",
        "outputId": "ce4aaacd-e195-412c-a151-aaae9b598570"
      },
      "outputs": [
        {
          "output_type": "stream",
          "name": "stdout",
          "text": [
            "Looking in indexes: https://pypi.org/simple, https://us-python.pkg.dev/colab-wheels/public/simple/\n",
            "Requirement already satisfied: tensorflow in /usr/local/lib/python3.7/dist-packages (2.8.2+zzzcolab20220527125636)\n",
            "Requirement already satisfied: opencv-contrib-python in /usr/local/lib/python3.7/dist-packages (4.1.2.30)\n",
            "Requirement already satisfied: youtube-dl in /usr/local/lib/python3.7/dist-packages (2021.12.17)\n",
            "Requirement already satisfied: moviepy in /usr/local/lib/python3.7/dist-packages (0.2.3.5)\n",
            "Requirement already satisfied: pydot in /usr/local/lib/python3.7/dist-packages (1.3.0)\n",
            "Requirement already satisfied: six>=1.12.0 in /usr/local/lib/python3.7/dist-packages (from tensorflow) (1.15.0)\n",
            "Requirement already satisfied: typing-extensions>=3.6.6 in /usr/local/lib/python3.7/dist-packages (from tensorflow) (4.2.0)\n",
            "Requirement already satisfied: tensorflow-estimator<2.9,>=2.8 in /usr/local/lib/python3.7/dist-packages (from tensorflow) (2.8.0)\n",
            "Requirement already satisfied: keras<2.9,>=2.8.0rc0 in /usr/local/lib/python3.7/dist-packages (from tensorflow) (2.8.0)\n",
            "Requirement already satisfied: numpy>=1.20 in /usr/local/lib/python3.7/dist-packages (from tensorflow) (1.21.6)\n",
            "Requirement already satisfied: termcolor>=1.1.0 in /usr/local/lib/python3.7/dist-packages (from tensorflow) (1.1.0)\n",
            "Requirement already satisfied: tensorboard<2.9,>=2.8 in /usr/local/lib/python3.7/dist-packages (from tensorflow) (2.8.0)\n",
            "Requirement already satisfied: wrapt>=1.11.0 in /usr/local/lib/python3.7/dist-packages (from tensorflow) (1.14.1)\n",
            "Requirement already satisfied: tensorflow-io-gcs-filesystem>=0.23.1 in /usr/local/lib/python3.7/dist-packages (from tensorflow) (0.26.0)\n",
            "Requirement already satisfied: google-pasta>=0.1.1 in /usr/local/lib/python3.7/dist-packages (from tensorflow) (0.2.0)\n",
            "Requirement already satisfied: setuptools in /usr/local/lib/python3.7/dist-packages (from tensorflow) (57.4.0)\n",
            "Requirement already satisfied: grpcio<2.0,>=1.24.3 in /usr/local/lib/python3.7/dist-packages (from tensorflow) (1.46.3)\n",
            "Requirement already satisfied: astunparse>=1.6.0 in /usr/local/lib/python3.7/dist-packages (from tensorflow) (1.6.3)\n",
            "Requirement already satisfied: gast>=0.2.1 in /usr/local/lib/python3.7/dist-packages (from tensorflow) (0.5.3)\n",
            "Requirement already satisfied: absl-py>=0.4.0 in /usr/local/lib/python3.7/dist-packages (from tensorflow) (1.0.0)\n",
            "Requirement already satisfied: opt-einsum>=2.3.2 in /usr/local/lib/python3.7/dist-packages (from tensorflow) (3.3.0)\n",
            "Requirement already satisfied: protobuf<3.20,>=3.9.2 in /usr/local/lib/python3.7/dist-packages (from tensorflow) (3.17.3)\n",
            "Requirement already satisfied: keras-preprocessing>=1.1.1 in /usr/local/lib/python3.7/dist-packages (from tensorflow) (1.1.2)\n",
            "Requirement already satisfied: libclang>=9.0.1 in /usr/local/lib/python3.7/dist-packages (from tensorflow) (14.0.1)\n",
            "Requirement already satisfied: flatbuffers>=1.12 in /usr/local/lib/python3.7/dist-packages (from tensorflow) (2.0)\n",
            "Requirement already satisfied: h5py>=2.9.0 in /usr/local/lib/python3.7/dist-packages (from tensorflow) (3.1.0)\n",
            "Requirement already satisfied: wheel<1.0,>=0.23.0 in /usr/local/lib/python3.7/dist-packages (from astunparse>=1.6.0->tensorflow) (0.37.1)\n",
            "Requirement already satisfied: cached-property in /usr/local/lib/python3.7/dist-packages (from h5py>=2.9.0->tensorflow) (1.5.2)\n",
            "Requirement already satisfied: tensorboard-data-server<0.7.0,>=0.6.0 in /usr/local/lib/python3.7/dist-packages (from tensorboard<2.9,>=2.8->tensorflow) (0.6.1)\n",
            "Requirement already satisfied: tensorboard-plugin-wit>=1.6.0 in /usr/local/lib/python3.7/dist-packages (from tensorboard<2.9,>=2.8->tensorflow) (1.8.1)\n",
            "Requirement already satisfied: werkzeug>=0.11.15 in /usr/local/lib/python3.7/dist-packages (from tensorboard<2.9,>=2.8->tensorflow) (1.0.1)\n",
            "Requirement already satisfied: google-auth<3,>=1.6.3 in /usr/local/lib/python3.7/dist-packages (from tensorboard<2.9,>=2.8->tensorflow) (1.35.0)\n",
            "Requirement already satisfied: markdown>=2.6.8 in /usr/local/lib/python3.7/dist-packages (from tensorboard<2.9,>=2.8->tensorflow) (3.3.7)\n",
            "Requirement already satisfied: requests<3,>=2.21.0 in /usr/local/lib/python3.7/dist-packages (from tensorboard<2.9,>=2.8->tensorflow) (2.23.0)\n",
            "Requirement already satisfied: google-auth-oauthlib<0.5,>=0.4.1 in /usr/local/lib/python3.7/dist-packages (from tensorboard<2.9,>=2.8->tensorflow) (0.4.6)\n",
            "Requirement already satisfied: cachetools<5.0,>=2.0.0 in /usr/local/lib/python3.7/dist-packages (from google-auth<3,>=1.6.3->tensorboard<2.9,>=2.8->tensorflow) (4.2.4)\n",
            "Requirement already satisfied: rsa<5,>=3.1.4 in /usr/local/lib/python3.7/dist-packages (from google-auth<3,>=1.6.3->tensorboard<2.9,>=2.8->tensorflow) (4.8)\n",
            "Requirement already satisfied: pyasn1-modules>=0.2.1 in /usr/local/lib/python3.7/dist-packages (from google-auth<3,>=1.6.3->tensorboard<2.9,>=2.8->tensorflow) (0.2.8)\n",
            "Requirement already satisfied: requests-oauthlib>=0.7.0 in /usr/local/lib/python3.7/dist-packages (from google-auth-oauthlib<0.5,>=0.4.1->tensorboard<2.9,>=2.8->tensorflow) (1.3.1)\n",
            "Requirement already satisfied: importlib-metadata>=4.4 in /usr/local/lib/python3.7/dist-packages (from markdown>=2.6.8->tensorboard<2.9,>=2.8->tensorflow) (4.11.4)\n",
            "Requirement already satisfied: zipp>=0.5 in /usr/local/lib/python3.7/dist-packages (from importlib-metadata>=4.4->markdown>=2.6.8->tensorboard<2.9,>=2.8->tensorflow) (3.8.0)\n",
            "Requirement already satisfied: pyasn1<0.5.0,>=0.4.6 in /usr/local/lib/python3.7/dist-packages (from pyasn1-modules>=0.2.1->google-auth<3,>=1.6.3->tensorboard<2.9,>=2.8->tensorflow) (0.4.8)\n",
            "Requirement already satisfied: certifi>=2017.4.17 in /usr/local/lib/python3.7/dist-packages (from requests<3,>=2.21.0->tensorboard<2.9,>=2.8->tensorflow) (2022.5.18.1)\n",
            "Requirement already satisfied: idna<3,>=2.5 in /usr/local/lib/python3.7/dist-packages (from requests<3,>=2.21.0->tensorboard<2.9,>=2.8->tensorflow) (2.10)\n",
            "Requirement already satisfied: urllib3!=1.25.0,!=1.25.1,<1.26,>=1.21.1 in /usr/local/lib/python3.7/dist-packages (from requests<3,>=2.21.0->tensorboard<2.9,>=2.8->tensorflow) (1.24.3)\n",
            "Requirement already satisfied: chardet<4,>=3.0.2 in /usr/local/lib/python3.7/dist-packages (from requests<3,>=2.21.0->tensorboard<2.9,>=2.8->tensorflow) (3.0.4)\n",
            "Requirement already satisfied: oauthlib>=3.0.0 in /usr/local/lib/python3.7/dist-packages (from requests-oauthlib>=0.7.0->google-auth-oauthlib<0.5,>=0.4.1->tensorboard<2.9,>=2.8->tensorflow) (3.2.0)\n",
            "Requirement already satisfied: decorator<5.0,>=4.0.2 in /usr/local/lib/python3.7/dist-packages (from moviepy) (4.4.2)\n",
            "Requirement already satisfied: imageio<3.0,>=2.1.2 in /usr/local/lib/python3.7/dist-packages (from moviepy) (2.4.1)\n",
            "Requirement already satisfied: tqdm<5.0,>=4.11.2 in /usr/local/lib/python3.7/dist-packages (from moviepy) (4.64.0)\n",
            "Requirement already satisfied: pillow in /usr/local/lib/python3.7/dist-packages (from imageio<3.0,>=2.1.2->moviepy) (7.1.2)\n",
            "Requirement already satisfied: pyparsing>=2.1.4 in /usr/local/lib/python3.7/dist-packages (from pydot) (3.0.9)\n",
            "Looking in indexes: https://pypi.org/simple, https://us-python.pkg.dev/colab-wheels/public/simple/\n",
            "Collecting pafy\n",
            "  Cloning https://github.com/TahaAnwar/pafy.git to /tmp/pip-install-6uu4w7x1/pafy_0847f7e0856c47f7a3cd1e59e98c8ae5\n",
            "  Running command git clone -q https://github.com/TahaAnwar/pafy.git /tmp/pip-install-6uu4w7x1/pafy_0847f7e0856c47f7a3cd1e59e98c8ae5\n"
          ]
        }
      ],
      "source": [
        "# Discard the output of this cell.\n",
        "#%%capture\n",
        "\n",
        "# Install the required libraries.\n",
        "!pip install tensorflow opencv-contrib-python youtube-dl moviepy pydot\n",
        "!pip install git+https://github.com/TahaAnwar/pafy.git#egg=pafy"
      ]
    },
    {
      "cell_type": "code",
      "execution_count": 2,
      "metadata": {
        "colab": {
          "base_uri": "https://localhost:8080/"
        },
        "id": "773CUmldFLWW",
        "outputId": "80f3eb29-3306-47e7-9aff-83d87297d1fa"
      },
      "outputs": [
        {
          "output_type": "stream",
          "name": "stdout",
          "text": [
            "Drive already mounted at /content/drive; to attempt to forcibly remount, call drive.mount(\"/content/drive\", force_remount=True).\n"
          ]
        }
      ],
      "source": [
        "from google.colab import drive\n",
        "drive.mount('/content/drive')"
      ]
    },
    {
      "cell_type": "code",
      "execution_count": 3,
      "metadata": {
        "id": "pI_Uxj54EZA-"
      },
      "outputs": [],
      "source": [
        "# Import the required libraries.\n",
        "import os\n",
        "import cv2\n",
        "import pafy\n",
        "import math\n",
        "import random\n",
        "import numpy as np\n",
        "import datetime as dt\n",
        "import tensorflow as tf\n",
        "from collections import deque\n",
        "import matplotlib.pyplot as plt\n",
        "\n",
        "from moviepy.editor import *\n",
        "%matplotlib inline\n",
        "\n",
        "from sklearn.model_selection import train_test_split\n",
        "\n",
        "from tensorflow.keras.layers import *\n",
        "from tensorflow.keras.models import Sequential\n",
        "from tensorflow.keras.utils import to_categorical\n",
        "from tensorflow.keras.callbacks import EarlyStopping\n",
        "from tensorflow.keras.utils import plot_model"
      ]
    },
    {
      "cell_type": "code",
      "execution_count": 4,
      "metadata": {
        "id": "p_XR9N_KEd0h",
        "colab": {
          "base_uri": "https://localhost:8080/"
        },
        "outputId": "95a6e0f8-9e32-41ea-cc74-a9839ad82131"
      },
      "outputs": [
        {
          "output_type": "stream",
          "name": "stdout",
          "text": [
            "271617\n",
            "None\n",
            "None\n",
            "None\n",
            "271617\n"
          ]
        }
      ],
      "source": [
        "seed_constant = np.random.randint(1000000)\n",
        "my_seed=np.random.seed(seed_constant)\n",
        "print(seed_constant)\n",
        "print(my_seed)\n",
        "my_seed=random.seed(seed_constant)\n",
        "print(my_seed)\n",
        "my_seed=tf.random.set_seed(seed_constant)\n",
        "print(my_seed)\n",
        "print(seed_constant)"
      ]
    },
    {
      "cell_type": "code",
      "execution_count": 5,
      "metadata": {
        "id": "SjdIu5iUEtFT"
      },
      "outputs": [],
      "source": [
        "# Specify the height and width to which each video frame will be resized in our dataset.\n",
        "IMAGE_HEIGHT , IMAGE_WIDTH = 64, 64\n",
        "\n",
        "# Specify the number of frames of a video that will be fed to the model as one sequence.\n",
        "SEQUENCE_LENGTH = 30\n",
        "\n",
        "# Specify the directory containing the UCF50 dataset. \n",
        "#DATASET_DIR = \"/content/drive/MyDrive/videospeechsong_label\"\n",
        "\n",
        "# Specify the list containing the names of the classes used for training. Feel free to choose any set of classes.\n",
        "CLASSES_LIST = [\"neutral\", \"calm\", \"happy\", \"sad\",\"angry\",\"fearful\"]"
      ]
    },
    {
      "cell_type": "code",
      "execution_count": 6,
      "metadata": {
        "id": "z1PugGDOFidu"
      },
      "outputs": [],
      "source": [
        "import joblib\n",
        "features = joblib.load('/content/drive/My Drive/features_ravdess/data_set/features_data')\n",
        "labels = joblib.load('/content/drive/MyDrive/features_ravdess/data_set/labels')\n",
        "video_files_paths = joblib.load('/content/drive/My Drive/features_ravdess/data_set/video_path')"
      ]
    },
    {
      "cell_type": "code",
      "execution_count": 7,
      "metadata": {
        "id": "AQLmPjgCf52M"
      },
      "outputs": [],
      "source": [
        "features = np.asarray(features)\n",
        "labels = np.array(labels)"
      ]
    },
    {
      "cell_type": "code",
      "execution_count": 8,
      "metadata": {
        "colab": {
          "base_uri": "https://localhost:8080/"
        },
        "id": "MU9jM0FlE-aH",
        "outputId": "d7a1e872-9c6e-4260-9b71-c2694dad275d"
      },
      "outputs": [
        {
          "output_type": "execute_result",
          "data": {
            "text/plain": [
              "((2067, 30, 64, 64, 3), (2067,), 2067)"
            ]
          },
          "metadata": {},
          "execution_count": 8
        }
      ],
      "source": [
        "features.shape,labels.shape,len(video_files_paths)"
      ]
    },
    {
      "cell_type": "code",
      "source": [
        "\n",
        "# Split the Data into Train ( 80% ) and Test Set ( 20% ).\n",
        "features_train, features_test, labels_train, labels_test,video_train_path,video_test_path = train_test_split(features, labels,video_files_paths,\n",
        "                                                                            test_size = 0.10, shuffle = True,\n",
        "                                                                            random_state = seed_constant)"
      ],
      "metadata": {
        "id": "7ygQ1ZFPHD4v"
      },
      "execution_count": 9,
      "outputs": []
    },
    {
      "cell_type": "code",
      "source": [
        "len(features_train),len(features_test),len(labels_train),len(labels_test),len(video_train_path),len(video_test_path)"
      ],
      "metadata": {
        "colab": {
          "base_uri": "https://localhost:8080/"
        },
        "id": "BiEcB_EoH7_y",
        "outputId": "512b4ed4-210f-48b7-f983-32bb6f57680d"
      },
      "execution_count": 10,
      "outputs": [
        {
          "output_type": "execute_result",
          "data": {
            "text/plain": [
              "(1860, 207, 1860, 207, 1860, 207)"
            ]
          },
          "metadata": {},
          "execution_count": 10
        }
      ]
    },
    {
      "cell_type": "code",
      "source": [
        "\n",
        "# Split train the Data into Train ( 80% ) and valid Set ( 20% ).\n",
        "features_train, features_valid, labels_train, labels_valid,video_train_path,video_valid_path = train_test_split(features_train, labels_train,video_train_path,\n",
        "                                                                            test_size = 0.11129032258, shuffle = True,\n",
        "                                                                            random_state = seed_constant)"
      ],
      "metadata": {
        "id": "9tk83FqyIKrO"
      },
      "execution_count": 11,
      "outputs": []
    },
    {
      "cell_type": "code",
      "source": [
        "len(features_train),len(features_valid),len(labels_train),len(labels_valid),len(video_train_path),len(video_valid_path)"
      ],
      "metadata": {
        "colab": {
          "base_uri": "https://localhost:8080/"
        },
        "id": "jJAp-BHdHFDd",
        "outputId": "dbd33af1-68b8-46fb-f431-bebf17b046ea"
      },
      "execution_count": 12,
      "outputs": [
        {
          "output_type": "execute_result",
          "data": {
            "text/plain": [
              "(1653, 207, 1653, 207, 1653, 207)"
            ]
          },
          "metadata": {},
          "execution_count": 12
        }
      ]
    },
    {
      "cell_type": "code",
      "source": [
        "video_valid_path"
      ],
      "metadata": {
        "colab": {
          "base_uri": "https://localhost:8080/"
        },
        "id": "0X0V_x1-KGz7",
        "outputId": "db5a117f-ff4c-4e44-c0f3-df8232334d69"
      },
      "execution_count": 13,
      "outputs": [
        {
          "output_type": "execute_result",
          "data": {
            "text/plain": [
              "['/content/drive/MyDrive/frames_ravdess_label/sad/01-01-04-01-02-01-22.mp4',\n",
              " '/content/drive/MyDrive/frames_ravdess_label/fearful/01-01-06-02-02-01-04.mp4',\n",
              " '/content/drive/MyDrive/frames_ravdess_label/calm/01-01-02-01-02-02-01.mp4',\n",
              " '/content/drive/MyDrive/frames_ravdess_label/sad/01-01-04-02-01-02-09.mp4',\n",
              " '/content/drive/MyDrive/frames_ravdess_label/calm/01-02-02-02-02-01-01.mp4',\n",
              " '/content/drive/MyDrive/frames_ravdess_label/angry/01-01-05-01-01-01-22.mp4',\n",
              " '/content/drive/MyDrive/frames_ravdess_label/calm/01-01-02-02-01-01-13.mp4',\n",
              " '/content/drive/MyDrive/frames_ravdess_label/fearful/01-02-06-02-01-01-23.mp4',\n",
              " '/content/drive/MyDrive/frames_ravdess_label/neutral/01-01-01-01-02-02-03.mp4',\n",
              " '/content/drive/MyDrive/frames_ravdess_label/fearful/01-02-06-01-02-02-22.mp4',\n",
              " '/content/drive/MyDrive/frames_ravdess_label/happy/01-01-03-01-01-01-18.mp4',\n",
              " '/content/drive/MyDrive/frames_ravdess_label/angry/01-02-05-02-02-02-04.mp4',\n",
              " '/content/drive/MyDrive/frames_ravdess_label/fearful/01-02-06-02-02-01-02.mp4',\n",
              " '/content/drive/MyDrive/frames_ravdess_label/sad/01-02-04-01-01-01-02.mp4',\n",
              " '/content/drive/MyDrive/frames_ravdess_label/neutral/01-02-01-01-01-02-15.mp4',\n",
              " '/content/drive/MyDrive/frames_ravdess_label/fearful/01-01-06-02-01-01-04.mp4',\n",
              " '/content/drive/MyDrive/frames_ravdess_label/neutral/01-02-01-01-02-01-09.mp4',\n",
              " '/content/drive/MyDrive/frames_ravdess_label/calm/01-01-02-02-02-02-09.mp4',\n",
              " '/content/drive/MyDrive/frames_ravdess_label/happy/01-02-03-01-01-01-01.mp4',\n",
              " '/content/drive/MyDrive/frames_ravdess_label/happy/01-01-03-01-02-02-22.mp4',\n",
              " '/content/drive/MyDrive/frames_ravdess_label/fearful/01-02-06-02-02-01-07.mp4',\n",
              " '/content/drive/MyDrive/frames_ravdess_label/calm/01-02-02-01-01-02-03.mp4',\n",
              " '/content/drive/MyDrive/frames_ravdess_label/fearful/01-01-06-02-02-02-17.mp4',\n",
              " '/content/drive/MyDrive/frames_ravdess_label/neutral/01-02-01-01-02-01-07.mp4',\n",
              " '/content/drive/MyDrive/frames_ravdess_label/angry/01-01-05-02-01-02-24.mp4',\n",
              " '/content/drive/MyDrive/frames_ravdess_label/angry/01-02-05-02-01-02-06.mp4',\n",
              " '/content/drive/MyDrive/frames_ravdess_label/sad/01-02-04-01-01-01-05.mp4',\n",
              " '/content/drive/MyDrive/frames_ravdess_label/happy/01-01-03-02-02-02-22.mp4',\n",
              " '/content/drive/MyDrive/frames_ravdess_label/neutral/01-02-01-01-01-02-20.mp4',\n",
              " '/content/drive/MyDrive/frames_ravdess_label/sad/01-02-04-02-02-02-20.mp4',\n",
              " '/content/drive/MyDrive/frames_ravdess_label/angry/01-02-05-01-02-02-04.mp4',\n",
              " '/content/drive/MyDrive/frames_ravdess_label/fearful/01-01-06-01-01-01-03.mp4',\n",
              " '/content/drive/MyDrive/frames_ravdess_label/fearful/01-02-06-02-01-01-12.mp4',\n",
              " '/content/drive/MyDrive/frames_ravdess_label/angry/01-01-05-02-02-02-11.mp4',\n",
              " '/content/drive/MyDrive/frames_ravdess_label/sad/01-02-04-01-01-01-07.mp4',\n",
              " '/content/drive/MyDrive/frames_ravdess_label/happy/01-01-03-01-01-02-24.mp4',\n",
              " '/content/drive/MyDrive/frames_ravdess_label/calm/01-01-02-02-01-02-02.mp4',\n",
              " '/content/drive/MyDrive/frames_ravdess_label/angry/01-02-05-01-01-01-20.mp4',\n",
              " '/content/drive/MyDrive/frames_ravdess_label/neutral/01-02-01-01-02-02-13.mp4',\n",
              " '/content/drive/MyDrive/frames_ravdess_label/sad/01-01-04-02-01-01-13.mp4',\n",
              " '/content/drive/MyDrive/frames_ravdess_label/fearful/01-01-06-02-02-01-17.mp4',\n",
              " '/content/drive/MyDrive/frames_ravdess_label/calm/01-02-02-02-02-01-11.mp4',\n",
              " '/content/drive/MyDrive/frames_ravdess_label/angry/01-01-05-02-01-02-09.mp4',\n",
              " '/content/drive/MyDrive/frames_ravdess_label/sad/01-01-04-02-01-02-05.mp4',\n",
              " '/content/drive/MyDrive/frames_ravdess_label/sad/01-01-04-01-02-01-04.mp4',\n",
              " '/content/drive/MyDrive/frames_ravdess_label/sad/01-01-04-01-01-01-03.mp4',\n",
              " '/content/drive/MyDrive/frames_ravdess_label/fearful/01-01-06-01-01-02-05.mp4',\n",
              " '/content/drive/MyDrive/frames_ravdess_label/neutral/01-02-01-01-01-01-19.mp4',\n",
              " '/content/drive/MyDrive/frames_ravdess_label/calm/01-02-02-02-02-01-17.mp4',\n",
              " '/content/drive/MyDrive/frames_ravdess_label/angry/01-02-05-01-02-01-07.mp4',\n",
              " '/content/drive/MyDrive/frames_ravdess_label/sad/01-01-04-02-01-02-02.mp4',\n",
              " '/content/drive/MyDrive/frames_ravdess_label/calm/01-02-02-02-02-01-15.mp4',\n",
              " '/content/drive/MyDrive/frames_ravdess_label/angry/01-01-05-02-01-01-03.mp4',\n",
              " '/content/drive/MyDrive/frames_ravdess_label/neutral/01-02-01-01-02-02-11.mp4',\n",
              " '/content/drive/MyDrive/frames_ravdess_label/calm/01-02-02-01-01-01-14.mp4',\n",
              " '/content/drive/MyDrive/frames_ravdess_label/happy/01-01-03-02-01-01-01.mp4',\n",
              " '/content/drive/MyDrive/frames_ravdess_label/angry/01-02-05-01-02-01-22.mp4',\n",
              " '/content/drive/MyDrive/frames_ravdess_label/calm/01-02-02-01-02-01-06.mp4',\n",
              " '/content/drive/MyDrive/frames_ravdess_label/neutral/01-02-01-01-01-02-04.mp4',\n",
              " '/content/drive/MyDrive/frames_ravdess_label/calm/01-01-02-01-02-01-11.mp4',\n",
              " '/content/drive/MyDrive/frames_ravdess_label/angry/01-01-05-01-01-02-16.mp4',\n",
              " '/content/drive/MyDrive/frames_ravdess_label/sad/01-01-04-02-02-01-14.mp4',\n",
              " '/content/drive/MyDrive/frames_ravdess_label/calm/01-01-02-02-01-01-18.mp4',\n",
              " '/content/drive/MyDrive/frames_ravdess_label/fearful/01-02-06-01-01-02-10.mp4',\n",
              " '/content/drive/MyDrive/frames_ravdess_label/neutral/01-02-01-01-01-02-13.mp4',\n",
              " '/content/drive/MyDrive/frames_ravdess_label/neutral/01-02-01-01-02-02-01.mp4',\n",
              " '/content/drive/MyDrive/frames_ravdess_label/calm/01-02-02-01-01-02-09.mp4',\n",
              " '/content/drive/MyDrive/frames_ravdess_label/happy/01-01-03-01-02-01-20.mp4',\n",
              " '/content/drive/MyDrive/frames_ravdess_label/sad/01-02-04-01-02-02-05.mp4',\n",
              " '/content/drive/MyDrive/frames_ravdess_label/happy/01-01-03-01-02-01-22.mp4',\n",
              " '/content/drive/MyDrive/frames_ravdess_label/calm/01-02-02-02-02-01-13.mp4',\n",
              " '/content/drive/MyDrive/frames_ravdess_label/happy/01-01-03-02-01-02-15.mp4',\n",
              " '/content/drive/MyDrive/frames_ravdess_label/sad/01-01-04-02-01-01-18.mp4',\n",
              " '/content/drive/MyDrive/frames_ravdess_label/calm/01-01-02-02-02-02-06.mp4',\n",
              " '/content/drive/MyDrive/frames_ravdess_label/calm/01-01-02-01-02-01-04.mp4',\n",
              " '/content/drive/MyDrive/frames_ravdess_label/happy/01-01-03-01-02-01-23.mp4',\n",
              " '/content/drive/MyDrive/frames_ravdess_label/sad/01-01-04-02-02-01-17.mp4',\n",
              " '/content/drive/MyDrive/frames_ravdess_label/fearful/01-02-06-01-02-02-21.mp4',\n",
              " '/content/drive/MyDrive/frames_ravdess_label/happy/01-01-03-02-01-01-03.mp4',\n",
              " '/content/drive/MyDrive/frames_ravdess_label/fearful/01-01-06-02-02-01-09.mp4',\n",
              " '/content/drive/MyDrive/frames_ravdess_label/neutral/01-01-01-01-02-01-08.mp4',\n",
              " '/content/drive/MyDrive/frames_ravdess_label/angry/01-02-05-01-01-01-21.mp4',\n",
              " '/content/drive/MyDrive/frames_ravdess_label/happy/01-02-03-02-01-02-15.mp4',\n",
              " '/content/drive/MyDrive/frames_ravdess_label/calm/01-01-02-02-02-01-12.mp4',\n",
              " '/content/drive/MyDrive/frames_ravdess_label/neutral/01-02-01-01-01-02-21.mp4',\n",
              " '/content/drive/MyDrive/frames_ravdess_label/fearful/01-01-06-01-01-02-04.mp4',\n",
              " '/content/drive/MyDrive/frames_ravdess_label/angry/01-02-05-02-02-01-21.mp4',\n",
              " '/content/drive/MyDrive/frames_ravdess_label/happy/01-02-03-02-01-01-13.mp4',\n",
              " '/content/drive/MyDrive/frames_ravdess_label/angry/01-02-05-01-01-01-05.mp4',\n",
              " '/content/drive/MyDrive/frames_ravdess_label/angry/01-02-05-01-01-01-06.mp4',\n",
              " '/content/drive/MyDrive/frames_ravdess_label/happy/01-02-03-02-01-02-04.mp4',\n",
              " '/content/drive/MyDrive/frames_ravdess_label/neutral/01-01-01-01-01-01-04.mp4',\n",
              " '/content/drive/MyDrive/frames_ravdess_label/sad/01-02-04-01-02-02-21.mp4',\n",
              " '/content/drive/MyDrive/frames_ravdess_label/angry/01-02-05-01-01-02-22.mp4',\n",
              " '/content/drive/MyDrive/frames_ravdess_label/happy/01-01-03-02-02-02-10.mp4',\n",
              " '/content/drive/MyDrive/frames_ravdess_label/fearful/01-02-06-01-02-01-03.mp4',\n",
              " '/content/drive/MyDrive/frames_ravdess_label/calm/01-01-02-01-01-02-02.mp4',\n",
              " '/content/drive/MyDrive/frames_ravdess_label/sad/01-01-04-02-02-02-13.mp4',\n",
              " '/content/drive/MyDrive/frames_ravdess_label/angry/01-01-05-01-02-02-22.mp4',\n",
              " '/content/drive/MyDrive/frames_ravdess_label/fearful/01-01-06-02-02-02-19.mp4',\n",
              " '/content/drive/MyDrive/frames_ravdess_label/fearful/01-01-06-01-02-02-02.mp4',\n",
              " '/content/drive/MyDrive/frames_ravdess_label/fearful/01-02-06-02-02-02-13.mp4',\n",
              " '/content/drive/MyDrive/frames_ravdess_label/angry/01-02-05-01-01-01-24.mp4',\n",
              " '/content/drive/MyDrive/frames_ravdess_label/neutral/01-01-01-01-01-01-23.mp4',\n",
              " '/content/drive/MyDrive/frames_ravdess_label/happy/01-02-03-02-02-01-11.mp4',\n",
              " '/content/drive/MyDrive/frames_ravdess_label/sad/01-02-04-01-02-01-20.mp4',\n",
              " '/content/drive/MyDrive/frames_ravdess_label/calm/01-01-02-02-01-01-11.mp4',\n",
              " '/content/drive/MyDrive/frames_ravdess_label/angry/01-01-05-02-02-01-24.mp4',\n",
              " '/content/drive/MyDrive/frames_ravdess_label/calm/01-02-02-01-01-02-06.mp4',\n",
              " '/content/drive/MyDrive/frames_ravdess_label/sad/01-01-04-01-02-01-23.mp4',\n",
              " '/content/drive/MyDrive/frames_ravdess_label/angry/01-01-05-01-01-01-19.mp4',\n",
              " '/content/drive/MyDrive/frames_ravdess_label/sad/01-02-04-01-01-01-01.mp4',\n",
              " '/content/drive/MyDrive/frames_ravdess_label/fearful/01-02-06-02-02-02-10.mp4',\n",
              " '/content/drive/MyDrive/frames_ravdess_label/angry/01-01-05-01-02-02-09.mp4',\n",
              " '/content/drive/MyDrive/frames_ravdess_label/angry/01-01-05-01-01-01-06.mp4',\n",
              " '/content/drive/MyDrive/frames_ravdess_label/calm/01-02-02-02-02-02-17.mp4',\n",
              " '/content/drive/MyDrive/frames_ravdess_label/angry/01-01-05-01-02-02-03.mp4',\n",
              " '/content/drive/MyDrive/frames_ravdess_label/sad/01-02-04-02-01-01-24.mp4',\n",
              " '/content/drive/MyDrive/frames_ravdess_label/fearful/01-02-06-02-02-01-20.mp4',\n",
              " '/content/drive/MyDrive/frames_ravdess_label/fearful/01-01-06-02-01-02-11.mp4',\n",
              " '/content/drive/MyDrive/frames_ravdess_label/angry/01-01-05-02-02-01-07.mp4',\n",
              " '/content/drive/MyDrive/frames_ravdess_label/fearful/01-01-06-01-01-01-12.mp4',\n",
              " '/content/drive/MyDrive/frames_ravdess_label/neutral/01-01-01-01-02-01-18.mp4',\n",
              " '/content/drive/MyDrive/frames_ravdess_label/sad/01-02-04-02-01-02-17.mp4',\n",
              " '/content/drive/MyDrive/frames_ravdess_label/sad/01-01-04-01-02-02-21.mp4',\n",
              " '/content/drive/MyDrive/frames_ravdess_label/fearful/01-02-06-01-02-02-04.mp4',\n",
              " '/content/drive/MyDrive/frames_ravdess_label/fearful/01-01-06-01-01-02-19.mp4',\n",
              " '/content/drive/MyDrive/frames_ravdess_label/fearful/01-01-06-01-01-02-12.mp4',\n",
              " '/content/drive/MyDrive/frames_ravdess_label/fearful/01-01-06-02-02-01-22.mp4',\n",
              " '/content/drive/MyDrive/frames_ravdess_label/sad/01-01-04-02-02-02-04.mp4',\n",
              " '/content/drive/MyDrive/frames_ravdess_label/happy/01-02-03-01-01-01-21.mp4',\n",
              " '/content/drive/MyDrive/frames_ravdess_label/happy/01-02-03-02-02-02-17.mp4',\n",
              " '/content/drive/MyDrive/frames_ravdess_label/calm/01-02-02-02-02-01-02.mp4',\n",
              " '/content/drive/MyDrive/frames_ravdess_label/neutral/01-01-01-01-01-01-24.mp4',\n",
              " '/content/drive/MyDrive/frames_ravdess_label/happy/01-01-03-01-01-01-24.mp4',\n",
              " '/content/drive/MyDrive/frames_ravdess_label/calm/01-01-02-02-01-01-17.mp4',\n",
              " '/content/drive/MyDrive/frames_ravdess_label/calm/01-01-02-01-01-02-19.mp4',\n",
              " '/content/drive/MyDrive/frames_ravdess_label/sad/01-02-04-01-01-01-08.mp4',\n",
              " '/content/drive/MyDrive/frames_ravdess_label/happy/01-02-03-02-02-01-20.mp4',\n",
              " '/content/drive/MyDrive/frames_ravdess_label/sad/01-01-04-01-02-02-04.mp4',\n",
              " '/content/drive/MyDrive/frames_ravdess_label/neutral/01-02-01-01-02-01-16.mp4',\n",
              " '/content/drive/MyDrive/frames_ravdess_label/sad/01-02-04-01-02-01-02.mp4',\n",
              " '/content/drive/MyDrive/frames_ravdess_label/fearful/01-02-06-01-01-02-02.mp4',\n",
              " '/content/drive/MyDrive/frames_ravdess_label/happy/01-02-03-01-02-01-11.mp4',\n",
              " '/content/drive/MyDrive/frames_ravdess_label/happy/01-02-03-01-01-02-06.mp4',\n",
              " '/content/drive/MyDrive/frames_ravdess_label/happy/01-01-03-02-02-01-04.mp4',\n",
              " '/content/drive/MyDrive/frames_ravdess_label/calm/01-01-02-01-02-02-17.mp4',\n",
              " '/content/drive/MyDrive/frames_ravdess_label/angry/01-01-05-01-02-02-04.mp4',\n",
              " '/content/drive/MyDrive/frames_ravdess_label/angry/01-01-05-01-02-02-02.mp4',\n",
              " '/content/drive/MyDrive/frames_ravdess_label/angry/01-01-05-01-02-02-12.mp4',\n",
              " '/content/drive/MyDrive/frames_ravdess_label/calm/01-01-02-01-01-01-02.mp4',\n",
              " '/content/drive/MyDrive/frames_ravdess_label/angry/01-01-05-02-02-02-02.mp4',\n",
              " '/content/drive/MyDrive/frames_ravdess_label/calm/01-01-02-02-02-02-14.mp4',\n",
              " '/content/drive/MyDrive/frames_ravdess_label/angry/01-02-05-02-01-02-15.mp4',\n",
              " '/content/drive/MyDrive/frames_ravdess_label/happy/01-02-03-02-02-01-07.mp4',\n",
              " '/content/drive/MyDrive/frames_ravdess_label/calm/01-01-02-01-02-02-06.mp4',\n",
              " '/content/drive/MyDrive/frames_ravdess_label/happy/01-02-03-01-02-02-01.mp4',\n",
              " '/content/drive/MyDrive/frames_ravdess_label/angry/01-02-05-01-01-02-19.mp4',\n",
              " '/content/drive/MyDrive/frames_ravdess_label/happy/01-01-03-02-02-02-17.mp4',\n",
              " '/content/drive/MyDrive/frames_ravdess_label/angry/01-02-05-01-01-01-23.mp4',\n",
              " '/content/drive/MyDrive/frames_ravdess_label/angry/01-02-05-02-01-01-24.mp4',\n",
              " '/content/drive/MyDrive/frames_ravdess_label/angry/01-02-05-02-02-01-15.mp4',\n",
              " '/content/drive/MyDrive/frames_ravdess_label/happy/01-02-03-01-02-01-02.mp4',\n",
              " '/content/drive/MyDrive/frames_ravdess_label/fearful/01-01-06-02-02-02-11.mp4',\n",
              " '/content/drive/MyDrive/frames_ravdess_label/neutral/01-02-01-01-01-01-15.mp4',\n",
              " '/content/drive/MyDrive/frames_ravdess_label/sad/01-02-04-01-01-01-06.mp4',\n",
              " '/content/drive/MyDrive/frames_ravdess_label/fearful/01-02-06-01-01-02-13.mp4',\n",
              " '/content/drive/MyDrive/frames_ravdess_label/fearful/01-02-06-01-01-01-15.mp4',\n",
              " '/content/drive/MyDrive/frames_ravdess_label/angry/01-02-05-01-02-01-16.mp4',\n",
              " '/content/drive/MyDrive/frames_ravdess_label/calm/01-02-02-01-02-02-13.mp4',\n",
              " '/content/drive/MyDrive/frames_ravdess_label/happy/01-02-03-02-01-01-22.mp4',\n",
              " '/content/drive/MyDrive/frames_ravdess_label/fearful/01-02-06-02-01-01-16.mp4',\n",
              " '/content/drive/MyDrive/frames_ravdess_label/calm/01-01-02-02-02-02-19.mp4',\n",
              " '/content/drive/MyDrive/frames_ravdess_label/fearful/01-01-06-02-01-01-22.mp4',\n",
              " '/content/drive/MyDrive/frames_ravdess_label/angry/01-01-05-01-02-01-02.mp4',\n",
              " '/content/drive/MyDrive/frames_ravdess_label/sad/01-01-04-02-02-01-18.mp4',\n",
              " '/content/drive/MyDrive/frames_ravdess_label/neutral/01-01-01-01-01-01-18.mp4',\n",
              " '/content/drive/MyDrive/frames_ravdess_label/calm/01-02-02-01-01-01-16.mp4',\n",
              " '/content/drive/MyDrive/frames_ravdess_label/calm/01-01-02-02-01-02-11.mp4',\n",
              " '/content/drive/MyDrive/frames_ravdess_label/calm/01-02-02-02-02-02-11.mp4',\n",
              " '/content/drive/MyDrive/frames_ravdess_label/fearful/01-01-06-02-02-01-24.mp4',\n",
              " '/content/drive/MyDrive/frames_ravdess_label/happy/01-02-03-01-01-01-02.mp4',\n",
              " '/content/drive/MyDrive/frames_ravdess_label/sad/01-02-04-01-01-02-03.mp4',\n",
              " '/content/drive/MyDrive/frames_ravdess_label/angry/01-01-05-02-01-01-21.mp4',\n",
              " '/content/drive/MyDrive/frames_ravdess_label/calm/01-01-02-02-01-01-22.mp4',\n",
              " '/content/drive/MyDrive/frames_ravdess_label/calm/01-01-02-01-02-01-21.mp4',\n",
              " '/content/drive/MyDrive/frames_ravdess_label/sad/01-01-04-02-01-02-19.mp4',\n",
              " '/content/drive/MyDrive/frames_ravdess_label/angry/01-02-05-01-01-02-14.mp4',\n",
              " '/content/drive/MyDrive/frames_ravdess_label/angry/01-02-05-01-01-01-03.mp4',\n",
              " '/content/drive/MyDrive/frames_ravdess_label/fearful/01-01-06-01-02-02-20.mp4',\n",
              " '/content/drive/MyDrive/frames_ravdess_label/sad/01-02-04-02-02-01-13.mp4',\n",
              " '/content/drive/MyDrive/frames_ravdess_label/fearful/01-02-06-01-01-02-01.mp4',\n",
              " '/content/drive/MyDrive/frames_ravdess_label/calm/01-01-02-02-02-02-13.mp4',\n",
              " '/content/drive/MyDrive/frames_ravdess_label/happy/01-02-03-02-01-02-21.mp4',\n",
              " '/content/drive/MyDrive/frames_ravdess_label/sad/01-01-04-02-02-02-08.mp4',\n",
              " '/content/drive/MyDrive/frames_ravdess_label/happy/01-02-03-02-01-01-05.mp4',\n",
              " '/content/drive/MyDrive/frames_ravdess_label/fearful/01-01-06-01-02-02-01.mp4',\n",
              " '/content/drive/MyDrive/frames_ravdess_label/fearful/01-02-06-01-02-01-13.mp4',\n",
              " '/content/drive/MyDrive/frames_ravdess_label/neutral/01-02-01-01-01-01-24.mp4',\n",
              " '/content/drive/MyDrive/frames_ravdess_label/happy/01-02-03-01-02-01-22.mp4',\n",
              " '/content/drive/MyDrive/frames_ravdess_label/fearful/01-02-06-01-01-01-19.mp4',\n",
              " '/content/drive/MyDrive/frames_ravdess_label/sad/01-01-04-01-02-01-01.mp4',\n",
              " '/content/drive/MyDrive/frames_ravdess_label/sad/01-02-04-01-02-01-24.mp4',\n",
              " '/content/drive/MyDrive/frames_ravdess_label/neutral/01-01-01-01-01-02-21.mp4',\n",
              " '/content/drive/MyDrive/frames_ravdess_label/angry/01-02-05-02-01-02-23.mp4',\n",
              " '/content/drive/MyDrive/frames_ravdess_label/angry/01-02-05-01-01-01-13.mp4',\n",
              " '/content/drive/MyDrive/frames_ravdess_label/happy/01-01-03-01-01-02-04.mp4']"
            ]
          },
          "metadata": {},
          "execution_count": 13
        }
      ]
    },
    {
      "cell_type": "code",
      "source": [
        "# '/content/drive/MyDrive/frames_ravdess_label/angry/01-01-05-02-02-01-01.mp4']"
      ],
      "metadata": {
        "id": "rJK-xsrkTzvC"
      },
      "execution_count": 14,
      "outputs": []
    },
    {
      "cell_type": "markdown",
      "source": [
        "**please not forget to change expert number**"
      ],
      "metadata": {
        "id": "yODensEaOZ-E"
      }
    },
    {
      "cell_type": "code",
      "source": [
        "import joblib\n",
        "\n",
        "save_dir = '/content/drive/My Drive/fusion/video/data_set_fusion/expert6'\n",
        "\n",
        "savedvX = joblib.dump(labels_train, os.path.join(save_dir, 'train/labels_train'))\n",
        "savedvX = joblib.dump(labels_test, os.path.join(save_dir, 'test/labels_test'))\n",
        "savedvX = joblib.dump(labels_valid, os.path.join(save_dir, 'valid/labels_valid'))\n",
        "savedvX = joblib.dump(video_train_path, os.path.join(save_dir, 'train/video_train_path'))\n",
        "savedvX = joblib.dump(video_test_path, os.path.join(save_dir, 'test/video_test_path'))\n",
        "savedvX = joblib.dump(video_valid_path, os.path.join(save_dir, 'valid/video_valid_path'))"
      ],
      "metadata": {
        "id": "Tchx6xO0HHzb"
      },
      "execution_count": 15,
      "outputs": []
    },
    {
      "cell_type": "code",
      "source": [
        "labels_test=to_categorical(labels_test)\n",
        "labels_train=to_categorical(labels_train)\n",
        "labels_valid=to_categorical(labels_valid)"
      ],
      "metadata": {
        "id": "6lLzecnJHMaY"
      },
      "execution_count": 16,
      "outputs": []
    },
    {
      "cell_type": "code",
      "execution_count": 17,
      "metadata": {
        "id": "4WmDntbuFEzc"
      },
      "outputs": [],
      "source": [
        "def create_LRCN_model():\n",
        "    '''\n",
        "    This function will construct the required LRCN model.\n",
        "    Returns:\n",
        "        model: It is the required constructed LRCN model.\n",
        "    '''\n",
        "\n",
        "    # We will use a Sequential model for model construction.\n",
        "    model = Sequential()\n",
        "   \n",
        "    # Define the Model Architecture.\n",
        "    ########################################################################################################################\n",
        "    \n",
        "    model.add(TimeDistributed(Conv2D(16, (5, 5), padding='same'),\n",
        "                              input_shape = (SEQUENCE_LENGTH, IMAGE_HEIGHT, IMAGE_WIDTH, 3)))\n",
        "    model.add(TimeDistributed(BatchNormalization()))\n",
        "    model.add(TimeDistributed(Activation('relu')))\n",
        "    model.add(TimeDistributed(MaxPooling2D((4, 4)))) \n",
        "    model.add(TimeDistributed(Dropout(0.1)))\n",
        "    \n",
        "    model.add(TimeDistributed(Conv2D(32, (5, 5), padding='same')))\n",
        "    model.add(TimeDistributed(BatchNormalization()))\n",
        "    model.add(TimeDistributed(Activation('relu')))\n",
        "    model.add(TimeDistributed(MaxPooling2D((4, 4))))\n",
        "    model.add(TimeDistributed(Dropout(0.2)))\n",
        "    \n",
        "    model.add(TimeDistributed(Conv2D(64, (5, 5), padding='same')))\n",
        "    model.add(TimeDistributed(BatchNormalization()))\n",
        "    model.add(TimeDistributed(Activation('relu')))\n",
        "    model.add(TimeDistributed(MaxPooling2D((2, 2))))\n",
        "    model.add(TimeDistributed(Dropout(0.3)))\n",
        "    \n",
        "    model.add(TimeDistributed(Conv2D(64, (5, 5), padding='same')))\n",
        "    model.add(TimeDistributed(BatchNormalization()))\n",
        "    model.add(TimeDistributed(Activation('relu')))\n",
        "    model.add(TimeDistributed(MaxPooling2D((2, 2))))\n",
        "    #model.add(TimeDistributed(Dropout(0.25)))\n",
        "                                      \n",
        "    model.add(TimeDistributed(Flatten()))\n",
        "                                      \n",
        "    model.add(LSTM(64))\n",
        "                                      \n",
        "    model.add(Dense(len(CLASSES_LIST), activation = 'softmax'))\n",
        "\n",
        "    ########################################################################################################################\n",
        "\n",
        "    # Display the models summary.\n",
        "    model.summary()\n",
        "    \n",
        "    # Return the constructed LRCN model.\n",
        "    return model"
      ]
    },
    {
      "cell_type": "code",
      "execution_count": 18,
      "metadata": {
        "colab": {
          "base_uri": "https://localhost:8080/"
        },
        "id": "2Mjr6pjzFOkd",
        "outputId": "443e72f9-7cf0-4242-905a-4e959fbec948"
      },
      "outputs": [
        {
          "output_type": "stream",
          "name": "stdout",
          "text": [
            "Model: \"sequential\"\n",
            "_________________________________________________________________\n",
            " Layer (type)                Output Shape              Param #   \n",
            "=================================================================\n",
            " time_distributed (TimeDistr  (None, 30, 64, 64, 16)   1216      \n",
            " ibuted)                                                         \n",
            "                                                                 \n",
            " time_distributed_1 (TimeDis  (None, 30, 64, 64, 16)   64        \n",
            " tributed)                                                       \n",
            "                                                                 \n",
            " time_distributed_2 (TimeDis  (None, 30, 64, 64, 16)   0         \n",
            " tributed)                                                       \n",
            "                                                                 \n",
            " time_distributed_3 (TimeDis  (None, 30, 16, 16, 16)   0         \n",
            " tributed)                                                       \n",
            "                                                                 \n",
            " time_distributed_4 (TimeDis  (None, 30, 16, 16, 16)   0         \n",
            " tributed)                                                       \n",
            "                                                                 \n",
            " time_distributed_5 (TimeDis  (None, 30, 16, 16, 32)   12832     \n",
            " tributed)                                                       \n",
            "                                                                 \n",
            " time_distributed_6 (TimeDis  (None, 30, 16, 16, 32)   128       \n",
            " tributed)                                                       \n",
            "                                                                 \n",
            " time_distributed_7 (TimeDis  (None, 30, 16, 16, 32)   0         \n",
            " tributed)                                                       \n",
            "                                                                 \n",
            " time_distributed_8 (TimeDis  (None, 30, 4, 4, 32)     0         \n",
            " tributed)                                                       \n",
            "                                                                 \n",
            " time_distributed_9 (TimeDis  (None, 30, 4, 4, 32)     0         \n",
            " tributed)                                                       \n",
            "                                                                 \n",
            " time_distributed_10 (TimeDi  (None, 30, 4, 4, 64)     51264     \n",
            " stributed)                                                      \n",
            "                                                                 \n",
            " time_distributed_11 (TimeDi  (None, 30, 4, 4, 64)     256       \n",
            " stributed)                                                      \n",
            "                                                                 \n",
            " time_distributed_12 (TimeDi  (None, 30, 4, 4, 64)     0         \n",
            " stributed)                                                      \n",
            "                                                                 \n",
            " time_distributed_13 (TimeDi  (None, 30, 2, 2, 64)     0         \n",
            " stributed)                                                      \n",
            "                                                                 \n",
            " time_distributed_14 (TimeDi  (None, 30, 2, 2, 64)     0         \n",
            " stributed)                                                      \n",
            "                                                                 \n",
            " time_distributed_15 (TimeDi  (None, 30, 2, 2, 64)     102464    \n",
            " stributed)                                                      \n",
            "                                                                 \n",
            " time_distributed_16 (TimeDi  (None, 30, 2, 2, 64)     256       \n",
            " stributed)                                                      \n",
            "                                                                 \n",
            " time_distributed_17 (TimeDi  (None, 30, 2, 2, 64)     0         \n",
            " stributed)                                                      \n",
            "                                                                 \n",
            " time_distributed_18 (TimeDi  (None, 30, 1, 1, 64)     0         \n",
            " stributed)                                                      \n",
            "                                                                 \n",
            " time_distributed_19 (TimeDi  (None, 30, 64)           0         \n",
            " stributed)                                                      \n",
            "                                                                 \n",
            " lstm (LSTM)                 (None, 64)                33024     \n",
            "                                                                 \n",
            " dense (Dense)               (None, 6)                 390       \n",
            "                                                                 \n",
            "=================================================================\n",
            "Total params: 201,894\n",
            "Trainable params: 201,542\n",
            "Non-trainable params: 352\n",
            "_________________________________________________________________\n",
            "Model Created Successfully!\n"
          ]
        }
      ],
      "source": [
        "# Construct the required LRCN model.\n",
        "LRCN_model = create_LRCN_model()\n",
        "\n",
        "# Display the success message.\n",
        "print(\"Model Created Successfully!\")\n"
      ]
    },
    {
      "cell_type": "code",
      "execution_count": 19,
      "metadata": {
        "colab": {
          "base_uri": "https://localhost:8080/"
        },
        "id": "dvXcqO0TFRzR",
        "outputId": "68cb3bf6-67d1-4611-f483-0713c051b966"
      },
      "outputs": [
        {
          "output_type": "stream",
          "name": "stdout",
          "text": [
            "Epoch 1/100\n",
            "414/414 [==============================] - 20s 18ms/step - loss: 1.5489 - accuracy: 0.3194 - val_loss: 1.4952 - val_accuracy: 0.3816\n",
            "Epoch 2/100\n",
            "414/414 [==============================] - 6s 15ms/step - loss: 1.2292 - accuracy: 0.4731 - val_loss: 1.4030 - val_accuracy: 0.3768\n",
            "Epoch 3/100\n",
            "414/414 [==============================] - 6s 15ms/step - loss: 1.0990 - accuracy: 0.5257 - val_loss: 1.7591 - val_accuracy: 0.3913\n",
            "Epoch 4/100\n",
            "414/414 [==============================] - 6s 15ms/step - loss: 1.0108 - accuracy: 0.5771 - val_loss: 1.0303 - val_accuracy: 0.5894\n",
            "Epoch 5/100\n",
            "414/414 [==============================] - 6s 15ms/step - loss: 0.8974 - accuracy: 0.6243 - val_loss: 1.0008 - val_accuracy: 0.5652\n",
            "Epoch 6/100\n",
            "414/414 [==============================] - 6s 15ms/step - loss: 0.8589 - accuracy: 0.6630 - val_loss: 1.1821 - val_accuracy: 0.4589\n",
            "Epoch 7/100\n",
            "414/414 [==============================] - 6s 15ms/step - loss: 0.7959 - accuracy: 0.6897 - val_loss: 0.8261 - val_accuracy: 0.6812\n",
            "Epoch 8/100\n",
            "414/414 [==============================] - 6s 15ms/step - loss: 0.7003 - accuracy: 0.7399 - val_loss: 1.0395 - val_accuracy: 0.5652\n",
            "Epoch 9/100\n",
            "414/414 [==============================] - 6s 15ms/step - loss: 0.6625 - accuracy: 0.7465 - val_loss: 1.3820 - val_accuracy: 0.5072\n",
            "Epoch 10/100\n",
            "414/414 [==============================] - 6s 15ms/step - loss: 0.6447 - accuracy: 0.7580 - val_loss: 0.7862 - val_accuracy: 0.7053\n",
            "Epoch 11/100\n",
            "414/414 [==============================] - 6s 15ms/step - loss: 0.5529 - accuracy: 0.7913 - val_loss: 1.5428 - val_accuracy: 0.4734\n",
            "Epoch 12/100\n",
            "414/414 [==============================] - 6s 15ms/step - loss: 0.4836 - accuracy: 0.8221 - val_loss: 0.5646 - val_accuracy: 0.8116\n",
            "Epoch 13/100\n",
            "414/414 [==============================] - 6s 15ms/step - loss: 0.4649 - accuracy: 0.8252 - val_loss: 0.7421 - val_accuracy: 0.7295\n",
            "Epoch 14/100\n",
            "414/414 [==============================] - 6s 15ms/step - loss: 0.4424 - accuracy: 0.8421 - val_loss: 0.8855 - val_accuracy: 0.7198\n",
            "Epoch 15/100\n",
            "414/414 [==============================] - 6s 15ms/step - loss: 0.3737 - accuracy: 0.8651 - val_loss: 0.5289 - val_accuracy: 0.8116\n",
            "Epoch 16/100\n",
            "414/414 [==============================] - 6s 15ms/step - loss: 0.3520 - accuracy: 0.8693 - val_loss: 0.3853 - val_accuracy: 0.8841\n",
            "Epoch 17/100\n",
            "414/414 [==============================] - 6s 15ms/step - loss: 0.3443 - accuracy: 0.8814 - val_loss: 0.6634 - val_accuracy: 0.7729\n",
            "Epoch 18/100\n",
            "414/414 [==============================] - 6s 15ms/step - loss: 0.3406 - accuracy: 0.8754 - val_loss: 0.6513 - val_accuracy: 0.7440\n",
            "Epoch 19/100\n",
            "414/414 [==============================] - 6s 15ms/step - loss: 0.2530 - accuracy: 0.9111 - val_loss: 0.4750 - val_accuracy: 0.8599\n",
            "Epoch 20/100\n",
            "414/414 [==============================] - 6s 15ms/step - loss: 0.2827 - accuracy: 0.8996 - val_loss: 1.3545 - val_accuracy: 0.6570\n",
            "Epoch 21/100\n",
            "414/414 [==============================] - 6s 16ms/step - loss: 0.2859 - accuracy: 0.9026 - val_loss: 0.6440 - val_accuracy: 0.8164\n",
            "Epoch 22/100\n",
            "414/414 [==============================] - 6s 15ms/step - loss: 0.2587 - accuracy: 0.9056 - val_loss: 0.5385 - val_accuracy: 0.8068\n",
            "Epoch 23/100\n",
            "414/414 [==============================] - 6s 15ms/step - loss: 0.2397 - accuracy: 0.9159 - val_loss: 0.3353 - val_accuracy: 0.8841\n",
            "Epoch 24/100\n",
            "414/414 [==============================] - 6s 15ms/step - loss: 0.2178 - accuracy: 0.9244 - val_loss: 0.8337 - val_accuracy: 0.7295\n",
            "Epoch 25/100\n",
            "414/414 [==============================] - 6s 15ms/step - loss: 0.2149 - accuracy: 0.9268 - val_loss: 0.4910 - val_accuracy: 0.8309\n",
            "Epoch 26/100\n",
            "414/414 [==============================] - 6s 15ms/step - loss: 0.1795 - accuracy: 0.9407 - val_loss: 0.7657 - val_accuracy: 0.7874\n",
            "Epoch 27/100\n",
            "414/414 [==============================] - 6s 15ms/step - loss: 0.1875 - accuracy: 0.9395 - val_loss: 0.3728 - val_accuracy: 0.8744\n",
            "Epoch 28/100\n",
            "414/414 [==============================] - 6s 15ms/step - loss: 0.1738 - accuracy: 0.9413 - val_loss: 1.5002 - val_accuracy: 0.6280\n",
            "Epoch 29/100\n",
            "414/414 [==============================] - 6s 15ms/step - loss: 0.1883 - accuracy: 0.9335 - val_loss: 0.7471 - val_accuracy: 0.8116\n",
            "Epoch 30/100\n",
            "414/414 [==============================] - 6s 15ms/step - loss: 0.1659 - accuracy: 0.9431 - val_loss: 0.3894 - val_accuracy: 0.8744\n",
            "Epoch 31/100\n",
            "414/414 [==============================] - 6s 15ms/step - loss: 0.1619 - accuracy: 0.9449 - val_loss: 0.3463 - val_accuracy: 0.8889\n",
            "Epoch 32/100\n",
            "414/414 [==============================] - 6s 15ms/step - loss: 0.1639 - accuracy: 0.9474 - val_loss: 0.4536 - val_accuracy: 0.8647\n",
            "Epoch 33/100\n",
            "414/414 [==============================] - 6s 15ms/step - loss: 0.1248 - accuracy: 0.9577 - val_loss: 0.6294 - val_accuracy: 0.7971\n",
            "Epoch 34/100\n",
            "414/414 [==============================] - 6s 15ms/step - loss: 0.1700 - accuracy: 0.9353 - val_loss: 0.4563 - val_accuracy: 0.8647\n",
            "Epoch 35/100\n",
            "414/414 [==============================] - 6s 15ms/step - loss: 0.1615 - accuracy: 0.9449 - val_loss: 0.5475 - val_accuracy: 0.8454\n",
            "Epoch 36/100\n",
            "414/414 [==============================] - 6s 15ms/step - loss: 0.1307 - accuracy: 0.9534 - val_loss: 0.3823 - val_accuracy: 0.8599\n",
            "Epoch 37/100\n",
            "414/414 [==============================] - 6s 15ms/step - loss: 0.1453 - accuracy: 0.9474 - val_loss: 0.6089 - val_accuracy: 0.8261\n",
            "Epoch 38/100\n",
            "414/414 [==============================] - 6s 15ms/step - loss: 0.0876 - accuracy: 0.9710 - val_loss: 0.4541 - val_accuracy: 0.8599\n",
            "Epoch 39/100\n",
            "414/414 [==============================] - 6s 15ms/step - loss: 0.1201 - accuracy: 0.9631 - val_loss: 0.4712 - val_accuracy: 0.8647\n",
            "Epoch 40/100\n",
            "414/414 [==============================] - 6s 15ms/step - loss: 0.1260 - accuracy: 0.9552 - val_loss: 0.4343 - val_accuracy: 0.8889\n",
            "Epoch 41/100\n",
            "414/414 [==============================] - 6s 15ms/step - loss: 0.1008 - accuracy: 0.9655 - val_loss: 0.3568 - val_accuracy: 0.9082\n",
            "Epoch 42/100\n",
            "414/414 [==============================] - 6s 15ms/step - loss: 0.1141 - accuracy: 0.9649 - val_loss: 0.3334 - val_accuracy: 0.8937\n",
            "Epoch 43/100\n",
            "414/414 [==============================] - 6s 15ms/step - loss: 0.1149 - accuracy: 0.9589 - val_loss: 0.3131 - val_accuracy: 0.9082\n",
            "Epoch 44/100\n",
            "414/414 [==============================] - 6s 15ms/step - loss: 0.0799 - accuracy: 0.9704 - val_loss: 0.4592 - val_accuracy: 0.8696\n",
            "Epoch 45/100\n",
            "414/414 [==============================] - 6s 15ms/step - loss: 0.1191 - accuracy: 0.9583 - val_loss: 0.4401 - val_accuracy: 0.8647\n",
            "Epoch 46/100\n",
            "414/414 [==============================] - 6s 15ms/step - loss: 0.0721 - accuracy: 0.9752 - val_loss: 1.0026 - val_accuracy: 0.7391\n",
            "Epoch 47/100\n",
            "414/414 [==============================] - 6s 15ms/step - loss: 0.1021 - accuracy: 0.9643 - val_loss: 0.5025 - val_accuracy: 0.8841\n",
            "Epoch 48/100\n",
            "414/414 [==============================] - 6s 15ms/step - loss: 0.0647 - accuracy: 0.9794 - val_loss: 0.2567 - val_accuracy: 0.9469\n",
            "Epoch 49/100\n",
            "414/414 [==============================] - 6s 15ms/step - loss: 0.0948 - accuracy: 0.9655 - val_loss: 0.5391 - val_accuracy: 0.8309\n",
            "Epoch 50/100\n",
            "414/414 [==============================] - 6s 15ms/step - loss: 0.0811 - accuracy: 0.9698 - val_loss: 0.5707 - val_accuracy: 0.8502\n",
            "Epoch 51/100\n",
            "414/414 [==============================] - 6s 15ms/step - loss: 0.0882 - accuracy: 0.9704 - val_loss: 0.4288 - val_accuracy: 0.8986\n",
            "Epoch 52/100\n",
            "414/414 [==============================] - 6s 15ms/step - loss: 0.0784 - accuracy: 0.9716 - val_loss: 0.6949 - val_accuracy: 0.8309\n",
            "Epoch 53/100\n",
            "414/414 [==============================] - 6s 15ms/step - loss: 0.0647 - accuracy: 0.9776 - val_loss: 0.4039 - val_accuracy: 0.8696\n",
            "Epoch 54/100\n",
            "414/414 [==============================] - 6s 15ms/step - loss: 0.0852 - accuracy: 0.9746 - val_loss: 0.4919 - val_accuracy: 0.8744\n",
            "Epoch 55/100\n",
            "414/414 [==============================] - 6s 15ms/step - loss: 0.0563 - accuracy: 0.9788 - val_loss: 0.5556 - val_accuracy: 0.8406\n",
            "Epoch 56/100\n",
            "414/414 [==============================] - 6s 15ms/step - loss: 0.0781 - accuracy: 0.9728 - val_loss: 0.4353 - val_accuracy: 0.8696\n",
            "Epoch 57/100\n",
            "414/414 [==============================] - 6s 15ms/step - loss: 0.0774 - accuracy: 0.9752 - val_loss: 0.4283 - val_accuracy: 0.8696\n",
            "Epoch 58/100\n",
            "414/414 [==============================] - 6s 15ms/step - loss: 0.0564 - accuracy: 0.9849 - val_loss: 0.4794 - val_accuracy: 0.8696\n",
            "Epoch 59/100\n",
            "414/414 [==============================] - 6s 15ms/step - loss: 0.0662 - accuracy: 0.9776 - val_loss: 0.3177 - val_accuracy: 0.9227\n",
            "Epoch 60/100\n",
            "414/414 [==============================] - 6s 15ms/step - loss: 0.0533 - accuracy: 0.9831 - val_loss: 0.6242 - val_accuracy: 0.8454\n",
            "Epoch 61/100\n",
            "414/414 [==============================] - 6s 15ms/step - loss: 0.0830 - accuracy: 0.9698 - val_loss: 0.5514 - val_accuracy: 0.8502\n",
            "Epoch 62/100\n",
            "414/414 [==============================] - 6s 15ms/step - loss: 0.0375 - accuracy: 0.9873 - val_loss: 0.3659 - val_accuracy: 0.9130\n",
            "Epoch 63/100\n",
            "414/414 [==============================] - 6s 15ms/step - loss: 0.0659 - accuracy: 0.9746 - val_loss: 0.5174 - val_accuracy: 0.8889\n",
            "Epoch 64/100\n",
            "414/414 [==============================] - 6s 15ms/step - loss: 0.0691 - accuracy: 0.9770 - val_loss: 0.5019 - val_accuracy: 0.8792\n",
            "Epoch 65/100\n",
            "414/414 [==============================] - 6s 15ms/step - loss: 0.0307 - accuracy: 0.9921 - val_loss: 0.3785 - val_accuracy: 0.8937\n",
            "Epoch 66/100\n",
            "414/414 [==============================] - 6s 15ms/step - loss: 0.0672 - accuracy: 0.9770 - val_loss: 0.3515 - val_accuracy: 0.9130\n",
            "Epoch 67/100\n",
            "414/414 [==============================] - 6s 15ms/step - loss: 0.0497 - accuracy: 0.9867 - val_loss: 0.4435 - val_accuracy: 0.8744\n",
            "Epoch 68/100\n",
            "414/414 [==============================] - 6s 15ms/step - loss: 0.0545 - accuracy: 0.9812 - val_loss: 0.8031 - val_accuracy: 0.8068\n",
            "Epoch 69/100\n",
            "414/414 [==============================] - 6s 15ms/step - loss: 0.0585 - accuracy: 0.9825 - val_loss: 0.3463 - val_accuracy: 0.8986\n",
            "Epoch 70/100\n",
            "414/414 [==============================] - 6s 15ms/step - loss: 0.0525 - accuracy: 0.9825 - val_loss: 0.5092 - val_accuracy: 0.8841\n",
            "Epoch 71/100\n",
            "414/414 [==============================] - 6s 15ms/step - loss: 0.0508 - accuracy: 0.9806 - val_loss: 1.0849 - val_accuracy: 0.7826\n",
            "Epoch 72/100\n",
            "414/414 [==============================] - 6s 15ms/step - loss: 0.0687 - accuracy: 0.9758 - val_loss: 0.3485 - val_accuracy: 0.9034\n",
            "Epoch 73/100\n",
            "414/414 [==============================] - 6s 15ms/step - loss: 0.0773 - accuracy: 0.9752 - val_loss: 0.4891 - val_accuracy: 0.8599\n"
          ]
        }
      ],
      "source": [
        "# Create an Instance of Early Stopping Callback.\n",
        "early_stopping_callback = EarlyStopping(monitor = 'val_loss', patience = 25, mode = 'min', restore_best_weights = True)\n",
        " \n",
        "# Compile the model and specify loss function, optimizer and metrics to the model.\n",
        "LRCN_model.compile(loss = 'categorical_crossentropy', optimizer = 'Adam', metrics = [\"accuracy\"])\n",
        "\n",
        "# Start training the model.\n",
        "LRCN_model_training_history = LRCN_model.fit(x = features_train, y = labels_train, epochs = 100, batch_size = 4 ,\n",
        "                                             shuffle = True, validation_data = (features_valid,labels_valid), callbacks = [early_stopping_callback])"
      ]
    },
    {
      "cell_type": "code",
      "execution_count": 20,
      "metadata": {
        "colab": {
          "base_uri": "https://localhost:8080/"
        },
        "id": "2UP4-H_oF4TZ",
        "outputId": "c82f1c09-25ef-47f3-980b-2b1b2202cbe5"
      },
      "outputs": [
        {
          "output_type": "stream",
          "name": "stdout",
          "text": [
            "7/7 [==============================] - 0s 37ms/step - loss: 0.1812 - accuracy: 0.9517\n"
          ]
        }
      ],
      "source": [
        "# Evaluate the trained model.\n",
        "model_evaluation_history = LRCN_model.evaluate(features_test, labels_test)"
      ]
    },
    {
      "cell_type": "markdown",
      "source": [
        "**please don't forget to change expert number**"
      ],
      "metadata": {
        "id": "6cFm75mqPQv2"
      }
    },
    {
      "cell_type": "code",
      "execution_count": 21,
      "metadata": {
        "id": "ZQFzvcgbF73v"
      },
      "outputs": [],
      "source": [
        "# Get the loss and accuracy from model_evaluation_history.\n",
        "model_evaluation_loss, model_evaluation_accuracy = model_evaluation_history\n",
        "\n",
        "# Define the string date format.\n",
        "# Get the current Date and Time in a DateTime Object.\n",
        "# Convert the DateTime object to string according to the style mentioned in date_time_format string.\n",
        "#date_time_format = '%Y_%m_%d__%H_%M_%S'\n",
        "#current_date_time_dt = dt.datetime.now()\n",
        "#current_date_time_string = dt.datetime.strftime(current_date_time_dt, date_time_format)\n",
        "    \n",
        "# Define a useful name for our model to make it easy for us while navigating through multiple saved models.\n",
        "model_file_name = f'/content/drive/My Drive/fusion/video/model/expert6/best_LRCN_model___Loss_{model_evaluation_loss}___Accuracy_{model_evaluation_accuracy}.h5'\n",
        "\n",
        "# Save the Model.\n",
        "LRCN_model.save(model_file_name)"
      ]
    },
    {
      "cell_type": "code",
      "source": [
        "from keras.models import save_model\n",
        "\n",
        "# you can write whatever you desire instead of 'my_model'\n",
        "# model = Your trained model\n",
        "LRCN_model.save('/content/drive/My Drive/fusion/video/model/expert6/best_LRCN_model')\n"
      ],
      "metadata": {
        "colab": {
          "base_uri": "https://localhost:8080/"
        },
        "id": "A18RutO-XK26",
        "outputId": "46d3f88c-b7a9-4ee0-d8d3-4cb6441fc256"
      },
      "execution_count": 22,
      "outputs": [
        {
          "output_type": "stream",
          "name": "stderr",
          "text": [
            "WARNING:absl:Found untraced functions such as lstm_cell_layer_call_fn, lstm_cell_layer_call_and_return_conditional_losses while saving (showing 2 of 2). These functions will not be directly callable after loading.\n"
          ]
        },
        {
          "output_type": "stream",
          "name": "stdout",
          "text": [
            "INFO:tensorflow:Assets written to: /content/drive/My Drive/fusion/video/model/expert6/best_LRCN_model/assets\n"
          ]
        },
        {
          "output_type": "stream",
          "name": "stderr",
          "text": [
            "INFO:tensorflow:Assets written to: /content/drive/My Drive/fusion/video/model/expert6/best_LRCN_model/assets\n",
            "WARNING:absl:<keras.layers.recurrent.LSTMCell object at 0x7f86c04209d0> has the same name 'LSTMCell' as a built-in Keras object. Consider renaming <class 'keras.layers.recurrent.LSTMCell'> to avoid naming conflicts when loading with `tf.keras.models.load_model`. If renaming is not possible, pass the object in the `custom_objects` parameter of the load function.\n"
          ]
        }
      ]
    },
    {
      "cell_type": "code",
      "source": [
        "# serialize model to JSON\n",
        "model_json = LRCN_model.to_json()\n",
        "with open(\"/content/drive/My Drive/fusion/video/model/expert6/best_LRCN_model.json\", \"w\") as json_file:\n",
        "    json_file.write(model_json)"
      ],
      "metadata": {
        "id": "Ttu6HwNtXx7x"
      },
      "execution_count": 23,
      "outputs": []
    },
    {
      "cell_type": "code",
      "execution_count": 24,
      "metadata": {
        "id": "f6YHM7o_F-LU"
      },
      "outputs": [],
      "source": [
        "def plot_metric(model_training_history, metric_name_1, metric_name_2, plot_name):\n",
        "    '''\n",
        "    This function will plot the metrics passed to it in a graph.\n",
        "    Args:\n",
        "        model_training_history: A history object containing a record of training and validation \n",
        "                                loss values and metrics values at successive epochs\n",
        "        metric_name_1:          The name of the first metric that needs to be plotted in the graph.\n",
        "        metric_name_2:          The name of the second metric that needs to be plotted in the graph.\n",
        "        plot_name:              The title of the graph.\n",
        "    '''\n",
        "    \n",
        "    # Get metric values using metric names as identifiers.\n",
        "    metric_value_1 = model_training_history.history[metric_name_1]\n",
        "    metric_value_2 = model_training_history.history[metric_name_2]\n",
        "    \n",
        "    # Construct a range object which will be used as x-axis (horizontal plane) of the graph.\n",
        "    epochs = range(len(metric_value_1))\n",
        "\n",
        "    # Plot the Graph.\n",
        "    plt.plot(epochs, metric_value_1, 'blue', label = metric_name_1)\n",
        "    plt.plot(epochs, metric_value_2, 'red', label = metric_name_2)\n",
        "\n",
        "    # Add title to the plot.\n",
        "    plt.title(str(plot_name))\n",
        "\n",
        "    # Add legend to the plot.\n",
        "    plt.legend()"
      ]
    },
    {
      "cell_type": "code",
      "execution_count": 25,
      "metadata": {
        "colab": {
          "base_uri": "https://localhost:8080/",
          "height": 281
        },
        "id": "3V346_N6GAKN",
        "outputId": "f10c801f-a7c2-4eac-cc81-8edb6a5aba26"
      },
      "outputs": [
        {
          "output_type": "display_data",
          "data": {
            "text/plain": [
              "<Figure size 432x288 with 1 Axes>"
            ],
            "image/png": "[encoded data removed]"
          },
          "metadata": {
            "needs_background": "light"
          }
        }
      ],
      "source": [
        "# Visualize the training and validation loss metrices.\n",
        "plot_metric(LRCN_model_training_history, 'loss', 'val_loss', 'Total Loss vs Total Validation Loss')"
      ]
    },
    {
      "cell_type": "code",
      "execution_count": 26,
      "metadata": {
        "colab": {
          "base_uri": "https://localhost:8080/",
          "height": 281
        },
        "id": "K-2dqoIFGCZl",
        "outputId": "d046cee7-ac39-4eb4-bacd-e15a9ce998c6"
      },
      "outputs": [
        {
          "output_type": "display_data",
          "data": {
            "text/plain": [
              "<Figure size 432x288 with 1 Axes>"
            ],
            "image/png": "[encoded data removed]"
          },
          "metadata": {
            "needs_background": "light"
          }
        }
      ],
      "source": [
        "# Visualize the training and validation accuracy metrices.\n",
        "plot_metric(LRCN_model_training_history, 'accuracy', 'val_accuracy', 'Total Accuracy vs Total Validation Accuracy')"
      ]
    },
    {
      "cell_type": "code",
      "execution_count": 27,
      "metadata": {
        "colab": {
          "base_uri": "https://localhost:8080/"
        },
        "id": "UIQGDtkcGGu0",
        "outputId": "07034cc7-92d6-4eb1-eed6-56f6ac0dc9ed"
      },
      "outputs": [
        {
          "output_type": "execute_result",
          "data": {
            "text/plain": [
              "array([[7.78010508e-06, 3.95026509e-05, 2.68306812e-05, 1.60004507e-04,\n",
              "        5.38057902e-05, 9.99712169e-01],\n",
              "       [7.29766471e-05, 9.99753535e-01, 4.25828148e-05, 1.20244506e-04,\n",
              "        4.27082455e-07, 1.03029888e-05],\n",
              "       [1.91648887e-05, 2.99521518e-04, 3.81531163e-06, 9.99334395e-01,\n",
              "        1.24972848e-05, 3.30623821e-04],\n",
              "       ...,\n",
              "       [8.81467167e-06, 7.52564156e-05, 5.30287398e-05, 2.05869423e-04,\n",
              "        2.07677484e-04, 9.99449313e-01],\n",
              "       [1.98189397e-07, 1.05932981e-04, 9.99857187e-01, 6.36035020e-06,\n",
              "        4.20478864e-06, 2.61404057e-05],\n",
              "       [2.24273372e-05, 4.69132096e-01, 5.28645575e-01, 5.19564725e-04,\n",
              "        1.66053105e-05, 1.66367274e-03]], dtype=float32)"
            ]
          },
          "metadata": {},
          "execution_count": 27
        }
      ],
      "source": [
        "predictions =  LRCN_model.predict(features_test)\n",
        "predictions"
      ]
    },
    {
      "cell_type": "code",
      "execution_count": 28,
      "metadata": {
        "colab": {
          "base_uri": "https://localhost:8080/"
        },
        "id": "E7smnX9oGMly",
        "outputId": "50b997ba-34b3-4480-a6cd-051072e96dfc"
      },
      "outputs": [
        {
          "output_type": "execute_result",
          "data": {
            "text/plain": [
              "array([5, 1, 3, 2, 4, 3, 5, 5, 2, 4, 5, 0, 4, 5, 4, 3, 3, 4, 3, 3, 4, 1,\n",
              "       4, 5, 0, 4, 4, 2, 3, 4, 5, 3, 1, 3, 5, 3, 5, 5, 0, 5, 0, 4, 3, 2,\n",
              "       2, 5, 5, 5, 4, 3, 2, 1, 4, 5, 1, 4, 1, 0, 1, 0, 4, 0, 4, 1, 3, 1,\n",
              "       5, 3, 3, 1, 1, 2, 3, 4, 0, 3, 1, 1, 1, 0, 5, 1, 5, 4, 1, 3, 2, 0,\n",
              "       5, 5, 2, 3, 2, 5, 5, 1, 3, 3, 5, 2, 0, 4, 4, 2, 1, 3, 1, 4, 3, 5,\n",
              "       2, 5, 3, 2, 5, 4, 3, 2, 3, 2, 1, 3, 1, 1, 3, 1, 5, 1, 3, 4, 4, 3,\n",
              "       5, 5, 5, 4, 2, 0, 1, 4, 4, 2, 1, 2, 3, 2, 5, 4, 5, 4, 4, 5, 1, 1,\n",
              "       2, 1, 2, 2, 2, 2, 1, 2, 3, 5, 4, 4, 4, 2, 1, 0, 1, 2, 2, 3, 2, 4,\n",
              "       0, 1, 3, 5, 1, 5, 1, 5, 4, 5, 3, 1, 2, 2, 4, 1, 3, 3, 2, 5, 5, 3,\n",
              "       1, 1, 3, 2, 5, 2, 5, 2, 2])"
            ]
          },
          "metadata": {},
          "execution_count": 28
        }
      ],
      "source": [
        "preds=predictions.argmax(axis=1)\n",
        "preds"
      ]
    },
    {
      "cell_type": "code",
      "execution_count": 29,
      "metadata": {
        "colab": {
          "base_uri": "https://localhost:8080/"
        },
        "id": "DvrDaZw2GPHK",
        "outputId": "349cf776-7d29-4528-bd09-374e1607ce12"
      },
      "outputs": [
        {
          "output_type": "execute_result",
          "data": {
            "text/plain": [
              "array([5, 1, 3, 2, 4, 3, 5, 5, 2, 4, 5, 0, 4, 5, 4, 3, 3, 4, 3, 3, 4, 1,\n",
              "       4, 5, 0, 4, 4, 2, 3, 4, 5, 3, 1, 3, 5, 3, 5, 5, 0, 5, 0, 4, 3, 2,\n",
              "       2, 5, 5, 5, 4, 3, 2, 1, 4, 5, 1, 4, 1, 0, 1, 0, 4, 0, 4, 1, 3, 1,\n",
              "       5, 3, 3, 1, 1, 2, 3, 4, 0, 3, 1, 1, 1, 0, 5, 1, 5, 4, 1, 3, 2, 0,\n",
              "       5, 5, 2, 3, 2, 5, 5, 1, 3, 3, 5, 2, 0, 4, 4, 2, 1, 3, 1, 4, 3, 5,\n",
              "       2, 5, 3, 2, 5, 4, 3, 2, 3, 2, 1, 3, 1, 1, 3, 1, 5, 1, 3, 4, 4, 3,\n",
              "       5, 5, 5, 4, 2, 0, 1, 4, 4, 2, 1, 2, 3, 2, 5, 4, 5, 4, 4, 5, 1, 1,\n",
              "       2, 1, 2, 2, 2, 2, 1, 2, 3, 5, 4, 4, 4, 2, 1, 0, 1, 2, 2, 3, 2, 4,\n",
              "       0, 1, 3, 5, 1, 5, 1, 5, 4, 5, 3, 1, 2, 2, 4, 1, 3, 3, 2, 5, 5, 3,\n",
              "       1, 1, 3, 2, 5, 2, 5, 2, 2])"
            ]
          },
          "metadata": {},
          "execution_count": 29
        }
      ],
      "source": [
        "new_preds = preds.astype(int).flatten()\n",
        "new_preds"
      ]
    },
    {
      "cell_type": "code",
      "execution_count": 30,
      "metadata": {
        "colab": {
          "base_uri": "https://localhost:8080/",
          "height": 508
        },
        "id": "7p7e1ihVGSke",
        "outputId": "84a5ce71-2c80-46e5-8920-df60da103da6"
      },
      "outputs": [
        {
          "output_type": "stream",
          "name": "stdout",
          "text": [
            "              precision    recall  f1-score   support\n",
            "\n",
            "           0       0.79      0.92      0.85        12\n",
            "           1       0.92      0.95      0.94        38\n",
            "           2       1.00      0.88      0.94        42\n",
            "           3       1.00      0.95      0.97        41\n",
            "           4       1.00      1.00      1.00        36\n",
            "           5       0.90      1.00      0.95        38\n",
            "\n",
            "    accuracy                           0.95       207\n",
            "   macro avg       0.94      0.95      0.94       207\n",
            "weighted avg       0.96      0.95      0.95       207\n",
            "\n",
            "----accuracy score 95.16908212560386 ----\n"
          ]
        },
        {
          "output_type": "display_data",
          "data": {
            "text/plain": [
              "<Figure size 432x288 with 2 Axes>"
            ],
            "image/png": "[encoded data removed]"
          },
          "metadata": {
            "needs_background": "light"
          }
        }
      ],
      "source": [
        "from sklearn.metrics import classification_report, confusion_matrix,accuracy_score\n",
        "import seaborn as sn\n",
        "import pandas as pd\n",
        "import numpy as np\n",
        "new_labels=np.argmax(labels_test, axis=1)\n",
        "print(classification_report(new_labels,new_preds))\n",
        "\n",
        "acc = float(accuracy_score(new_labels,new_preds))*100\n",
        "print(\"----accuracy score %s ----\" % acc)\n",
        "\n",
        "cm = confusion_matrix(new_labels,new_preds)\n",
        "#df_cm = pd.DataFrame(cm)\n",
        "class_names = ['neutral','calm', 'happy','sad','angry', 'fearful' ]\n",
        "df_cm = pd.DataFrame(cm, index=class_names, columns=class_names,)\n",
        "sn.heatmap(df_cm, annot=True, fmt='')\n",
        "plt.show()"
      ]
    },
    {
      "cell_type": "code",
      "source": [
        "predictions_train=LRCN_model.predict(features_train)\n",
        "predictions_valid=LRCN_model.predict(features_valid)"
      ],
      "metadata": {
        "id": "n3lLZ2bpZ3u0"
      },
      "execution_count": 31,
      "outputs": []
    },
    {
      "cell_type": "code",
      "source": [
        "df_video_train=pd.DataFrame(predictions_train,columns=[\"OV_\"+str(i) for i in range(6)]) \n",
        "df_video_test=pd.DataFrame(predictions,columns=[\"OV_\"+str(i) for i in range(6)]) \n",
        "df_video_valid=pd.DataFrame(predictions_valid,columns=[\"OV_\"+str(i) for i in range(6)])"
      ],
      "metadata": {
        "id": "FYlqyEzUcl7n"
      },
      "execution_count": 32,
      "outputs": []
    },
    {
      "cell_type": "code",
      "source": [
        "df_video_valid"
      ],
      "metadata": {
        "colab": {
          "base_uri": "https://localhost:8080/",
          "height": 424
        },
        "id": "rz92KqhXcw3Q",
        "outputId": "e347655a-ea95-4714-9042-374c12d06d34"
      },
      "execution_count": 33,
      "outputs": [
        {
          "output_type": "execute_result",
          "data": {
            "text/plain": [
              "             OV_0      OV_1          OV_2      OV_3      OV_4      OV_5\n",
              "0    2.564510e-04  0.000234  3.264944e-07  0.999380  0.000007  0.000122\n",
              "1    4.505860e-05  0.000066  8.128179e-05  0.000298  0.000829  0.998681\n",
              "2    4.663283e-04  0.998165  5.046904e-05  0.001258  0.000006  0.000054\n",
              "3    1.355220e-05  0.000410  6.950169e-06  0.999401  0.000011  0.000157\n",
              "4    1.109266e-04  0.996898  2.015620e-03  0.000899  0.000020  0.000056\n",
              "..            ...       ...           ...       ...       ...       ...\n",
              "202  2.409035e-05  0.000075  9.488845e-07  0.999642  0.000009  0.000250\n",
              "203  9.955193e-01  0.001356  7.494498e-07  0.001737  0.000022  0.001365\n",
              "204  2.784763e-07  0.000001  1.670589e-06  0.000019  0.999886  0.000092\n",
              "205  1.203074e-05  0.000096  5.784472e-05  0.009850  0.986992  0.002992\n",
              "206  1.625500e-07  0.000201  9.997849e-01  0.000004  0.000002  0.000008\n",
              "\n",
              "[207 rows x 6 columns]"
            ],
            "text/html": [
              "\n",
              "  <div id=\"df-c009543c-dbd5-44b5-b6d3-d4e4c851965e\">\n",
              "    <div class=\"colab-df-container\">\n",
              "      <div>\n",
              "<style scoped>\n",
              "    .dataframe tbody tr th:only-of-type {\n",
              "        vertical-align: middle;\n",
              "    }\n",
              "\n",
              "    .dataframe tbody tr th {\n",
              "        vertical-align: top;\n",
              "    }\n",
              "\n",
              "    .dataframe thead th {\n",
              "        text-align: right;\n",
              "    }\n",
              "</style>\n",
              "<table border=\"1\" class=\"dataframe\">\n",
              "  <thead>\n",
              "    <tr style=\"text-align: right;\">\n",
              "      <th></th>\n",
              "      <th>OV_0</th>\n",
              "      <th>OV_1</th>\n",
              "      <th>OV_2</th>\n",
              "      <th>OV_3</th>\n",
              "      <th>OV_4</th>\n",
              "      <th>OV_5</th>\n",
              "    </tr>\n",
              "  </thead>\n",
              "  <tbody>\n",
              "    <tr>\n",
              "      <th>0</th>\n",
              "      <td>2.564510e-04</td>\n",
              "      <td>0.000234</td>\n",
              "      <td>3.264944e-07</td>\n",
              "      <td>0.999380</td>\n",
              "      <td>0.000007</td>\n",
              "      <td>0.000122</td>\n",
              "    </tr>\n",
              "    <tr>\n",
              "      <th>1</th>\n",
              "      <td>4.505860e-05</td>\n",
              "      <td>0.000066</td>\n",
              "      <td>8.128179e-05</td>\n",
              "      <td>0.000298</td>\n",
              "      <td>0.000829</td>\n",
              "      <td>0.998681</td>\n",
              "    </tr>\n",
              "    <tr>\n",
              "      <th>2</th>\n",
              "      <td>4.663283e-04</td>\n",
              "      <td>0.998165</td>\n",
              "      <td>5.046904e-05</td>\n",
              "      <td>0.001258</td>\n",
              "      <td>0.000006</td>\n",
              "      <td>0.000054</td>\n",
              "    </tr>\n",
              "    <tr>\n",
              "      <th>3</th>\n",
              "      <td>1.355220e-05</td>\n",
              "      <td>0.000410</td>\n",
              "      <td>6.950169e-06</td>\n",
              "      <td>0.999401</td>\n",
              "      <td>0.000011</td>\n",
              "      <td>0.000157</td>\n",
              "    </tr>\n",
              "    <tr>\n",
              "      <th>4</th>\n",
              "      <td>1.109266e-04</td>\n",
              "      <td>0.996898</td>\n",
              "      <td>2.015620e-03</td>\n",
              "      <td>0.000899</td>\n",
              "      <td>0.000020</td>\n",
              "      <td>0.000056</td>\n",
              "    </tr>\n",
              "    <tr>\n",
              "      <th>...</th>\n",
              "      <td>...</td>\n",
              "      <td>...</td>\n",
              "      <td>...</td>\n",
              "      <td>...</td>\n",
              "      <td>...</td>\n",
              "      <td>...</td>\n",
              "    </tr>\n",
              "    <tr>\n",
              "      <th>202</th>\n",
              "      <td>2.409035e-05</td>\n",
              "      <td>0.000075</td>\n",
              "      <td>9.488845e-07</td>\n",
              "      <td>0.999642</td>\n",
              "      <td>0.000009</td>\n",
              "      <td>0.000250</td>\n",
              "    </tr>\n",
              "    <tr>\n",
              "      <th>203</th>\n",
              "      <td>9.955193e-01</td>\n",
              "      <td>0.001356</td>\n",
              "      <td>7.494498e-07</td>\n",
              "      <td>0.001737</td>\n",
              "      <td>0.000022</td>\n",
              "      <td>0.001365</td>\n",
              "    </tr>\n",
              "    <tr>\n",
              "      <th>204</th>\n",
              "      <td>2.784763e-07</td>\n",
              "      <td>0.000001</td>\n",
              "      <td>1.670589e-06</td>\n",
              "      <td>0.000019</td>\n",
              "      <td>0.999886</td>\n",
              "      <td>0.000092</td>\n",
              "    </tr>\n",
              "    <tr>\n",
              "      <th>205</th>\n",
              "      <td>1.203074e-05</td>\n",
              "      <td>0.000096</td>\n",
              "      <td>5.784472e-05</td>\n",
              "      <td>0.009850</td>\n",
              "      <td>0.986992</td>\n",
              "      <td>0.002992</td>\n",
              "    </tr>\n",
              "    <tr>\n",
              "      <th>206</th>\n",
              "      <td>1.625500e-07</td>\n",
              "      <td>0.000201</td>\n",
              "      <td>9.997849e-01</td>\n",
              "      <td>0.000004</td>\n",
              "      <td>0.000002</td>\n",
              "      <td>0.000008</td>\n",
              "    </tr>\n",
              "  </tbody>\n",
              "</table>\n",
              "<p>207 rows × 6 columns</p>\n",
              "</div>\n",
              "      <button class=\"colab-df-convert\" onclick=\"convertToInteractive('df-c009543c-dbd5-44b5-b6d3-d4e4c851965e')\"\n",
              "              title=\"Convert this dataframe to an interactive table.\"\n",
              "              style=\"display:none;\">\n",
              "        \n",
              "  <svg xmlns=\"http://www.w3.org/2000/svg\" height=\"24px\"viewBox=\"0 0 24 24\"\n",
              "       width=\"24px\">\n",
              "    <path d=\"M0 0h24v24H0V0z\" fill=\"none\"/>\n",
              "    <path d=\"M18.56 5.44l.94 2.06.94-2.06 2.06-.94-2.06-.94-.94-2.06-.94 2.06-2.06.94zm-11 1L8.5 8.5l.94-2.06 2.06-.94-2.06-.94L8.5 2.5l-.94 2.06-2.06.94zm10 10l.94 2.06.94-2.06 2.06-.94-2.06-.94-.94-2.06-.94 2.06-2.06.94z\"/><path d=\"M17.41 7.96l-1.37-1.37c-.4-.4-.92-.59-1.43-.59-.52 0-1.04.2-1.43.59L10.3 9.45l-7.72 7.72c-.78.78-.78 2.05 0 2.83L4 21.41c.39.39.9.59 1.41.59.51 0 1.02-.2 1.41-.59l7.78-7.78 2.81-2.81c.8-.78.8-2.07 0-2.86zM5.41 20L4 18.59l7.72-7.72 1.47 1.35L5.41 20z\"/>\n",
              "  </svg>\n",
              "      </button>\n",
              "      \n",
              "  <style>\n",
              "    .colab-df-container {\n",
              "      display:flex;\n",
              "      flex-wrap:wrap;\n",
              "      gap: 12px;\n",
              "    }\n",
              "\n",
              "    .colab-df-convert {\n",
              "      background-color: #E8F0FE;\n",
              "      border: none;\n",
              "      border-radius: 50%;\n",
              "      cursor: pointer;\n",
              "      display: none;\n",
              "      fill: #1967D2;\n",
              "      height: 32px;\n",
              "      padding: 0 0 0 0;\n",
              "      width: 32px;\n",
              "    }\n",
              "\n",
              "    .colab-df-convert:hover {\n",
              "      background-color: #E2EBFA;\n",
              "      box-shadow: 0px 1px 2px rgba(60, 64, 67, 0.3), 0px 1px 3px 1px rgba(60, 64, 67, 0.15);\n",
              "      fill: #174EA6;\n",
              "    }\n",
              "\n",
              "    [theme=dark] .colab-df-convert {\n",
              "      background-color: #3B4455;\n",
              "      fill: #D2E3FC;\n",
              "    }\n",
              "\n",
              "    [theme=dark] .colab-df-convert:hover {\n",
              "      background-color: #434B5C;\n",
              "      box-shadow: 0px 1px 3px 1px rgba(0, 0, 0, 0.15);\n",
              "      filter: drop-shadow(0px 1px 2px rgba(0, 0, 0, 0.3));\n",
              "      fill: #FFFFFF;\n",
              "    }\n",
              "  </style>\n",
              "\n",
              "      <script>\n",
              "        const buttonEl =\n",
              "          document.querySelector('#df-c009543c-dbd5-44b5-b6d3-d4e4c851965e button.colab-df-convert');\n",
              "        buttonEl.style.display =\n",
              "          google.colab.kernel.accessAllowed ? 'block' : 'none';\n",
              "\n",
              "        async function convertToInteractive(key) {\n",
              "          const element = document.querySelector('#df-c009543c-dbd5-44b5-b6d3-d4e4c851965e');\n",
              "          const dataTable =\n",
              "            await google.colab.kernel.invokeFunction('convertToInteractive',\n",
              "                                                     [key], {});\n",
              "          if (!dataTable) return;\n",
              "\n",
              "          const docLinkHtml = 'Like what you see? Visit the ' +\n",
              "            '<a target=\"_blank\" href=https://colab.research.google.com/notebooks/data_table.ipynb>data table notebook</a>'\n",
              "            + ' to learn more about interactive tables.';\n",
              "          element.innerHTML = '';\n",
              "          dataTable['output_type'] = 'display_data';\n",
              "          await google.colab.output.renderOutput(dataTable, element);\n",
              "          const docLink = document.createElement('div');\n",
              "          docLink.innerHTML = docLinkHtml;\n",
              "          element.appendChild(docLink);\n",
              "        }\n",
              "      </script>\n",
              "    </div>\n",
              "  </div>\n",
              "  "
            ]
          },
          "metadata": {},
          "execution_count": 33
        }
      ]
    },
    {
      "cell_type": "code",
      "source": [
        "save_dir = '/content/drive/My Drive/fusion/video/data_set_fusion/expert6'\n",
        "\n",
        "savedvX = joblib.dump(df_video_train, os.path.join(save_dir, 'train/pred_train'))\n",
        "savedvX = joblib.dump(df_video_test, os.path.join(save_dir, 'test/pred_test'))\n",
        "savedvX = joblib.dump(df_video_valid, os.path.join(save_dir, 'valid/pred_valid'))"
      ],
      "metadata": {
        "id": "cJrh9R1CZKY-"
      },
      "execution_count": 34,
      "outputs": []
    },
    {
      "cell_type": "code",
      "source": [
        ""
      ],
      "metadata": {
        "id": "1puKDjgKjNgO"
      },
      "execution_count": 34,
      "outputs": []
    }
  ],
  "metadata": {
    "accelerator": "GPU",
    "colab": {
      "machine_shape": "hm",
      "name": "our_best_final_lrcn_model_6.ipynb",
      "provenance": [],
      "collapsed_sections": []
    },
    "kernelspec": {
      "display_name": "Python 3",
      "name": "python3"
    },
    "language_info": {
      "name": "python"
    }
  },
  "nbformat": 4,
  "nbformat_minor": 0
}