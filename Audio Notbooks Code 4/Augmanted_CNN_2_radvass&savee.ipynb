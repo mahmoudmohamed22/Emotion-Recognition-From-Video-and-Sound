{
  "nbformat": 4,
  "nbformat_minor": 0,
  "metadata": {
    "colab": {
      "name": "Augmanted_CNN_2_radvass&savee.ipynb",
      "provenance": [],
      "collapsed_sections": []
    },
    "kernelspec": {
      "name": "python3",
      "display_name": "Python 3"
    },
    "language_info": {
      "name": "python"
    }
  },
  "cells": [
    {
      "cell_type": "code",
      "execution_count": null,
      "metadata": {
        "colab": {
          "base_uri": "https://localhost:8080/"
        },
        "id": "9SRCO-a_AlH5",
        "outputId": "2e98f7f7-a830-45fe-956e-6b51d5cbd738"
      },
      "outputs": [
        {
          "output_type": "stream",
          "name": "stdout",
          "text": [
            "Mounted at /content/drive\n"
          ]
        }
      ],
      "source": [
        "from google.colab import drive\n",
        "drive.mount('/content/drive')"
      ]
    },
    {
      "cell_type": "code",
      "metadata": {
        "id": "HJjcbxwy46bG",
        "colab": {
          "base_uri": "https://localhost:8080/",
          "height": 17
        },
        "outputId": "04eb5d93-5436-4f2b-e807-f76f1d0ddc8b"
      },
      "source": [
        "# Orignial Notebook: https://github.com/MITESHPUTHRANNEU/Speech-Emotion-Analyzer/blob/master/final_results_gender_test.ipynb\n",
        "# This notebook author: Reza Chu\n",
        "# Last Editing Date: 31st May 2019\n",
        "\n",
        "## Python\n",
        "import os\n",
        "import random\n",
        "import sys\n",
        "\n",
        "import IPython\n",
        "from IPython.display import Audio\n",
        "from IPython.display import Image\n",
        "import matplotlib.pyplot as plt\n",
        "\n",
        "## Package\n",
        "import glob \n",
        "import keras\n",
        "import IPython.display as ipd\n",
        "import librosa\n",
        "import librosa.display\n",
        "import matplotlib.pyplot as plt\n",
        "import numpy as np\n",
        "import pandas as pd\n",
        "import plotly.graph_objs as go\n",
        "import plotly.offline as py\n",
        "import plotly.tools as tls\n",
        "import seaborn as sns\n",
        "import scipy.io.wavfile\n",
        "import tensorflow as tf\n",
        "py.init_notebook_mode(connected=True)\n",
        "\n",
        "## Keras\n",
        "from keras import regularizers\n",
        "from keras.callbacks import ModelCheckpoint, LearningRateScheduler, EarlyStopping\n",
        "from keras.callbacks import  History, ReduceLROnPlateau, CSVLogger\n",
        "from keras.models import Model, Sequential\n",
        "from keras.layers import Dense, Embedding, LSTM\n",
        "from keras.layers import Input, Flatten, Dropout, Activation, BatchNormalization\n",
        "from keras.layers import Conv1D, MaxPooling1D, AveragePooling1D\n",
        "from keras.preprocessing import sequence\n",
        "from keras.preprocessing.sequence import pad_sequences\n",
        "from keras.preprocessing.text import Tokenizer\n",
        "from keras.utils import np_utils\n",
        "from tensorflow.keras.utils import to_categorical\n",
        "\n",
        "## Sklearn\n",
        "from sklearn.metrics import confusion_matrix\n",
        "from sklearn.preprocessing import LabelEncoder\n",
        "\n",
        "## Rest\n",
        "from scipy.fftpack import fft\n",
        "from scipy import signal\n",
        "from scipy.io import wavfile\n",
        "from tqdm import tqdm\n",
        "\n",
        "input_duration=3\n",
        "# % pylab inline"
      ],
      "execution_count": null,
      "outputs": [
        {
          "output_type": "display_data",
          "data": {
            "text/html": [
              "        <script type=\"text/javascript\">\n",
              "        window.PlotlyConfig = {MathJaxConfig: 'local'};\n",
              "        if (window.MathJax) {MathJax.Hub.Config({SVG: {font: \"STIX-Web\"}});}\n",
              "        if (typeof require !== 'undefined') {\n",
              "        require.undef(\"plotly\");\n",
              "        requirejs.config({\n",
              "            paths: {\n",
              "                'plotly': ['https://cdn.plot.ly/plotly-2.8.3.min']\n",
              "            }\n",
              "        });\n",
              "        require(['plotly'], function(Plotly) {\n",
              "            window._Plotly = Plotly;\n",
              "        });\n",
              "        }\n",
              "        </script>\n",
              "        "
            ]
          },
          "metadata": {}
        }
      ]
    },
    {
      "cell_type": "code",
      "source": [
        "import time\n",
        "import os\n",
        "import librosa\n",
        "from librosa import display\n",
        "import matplotlib.pyplot as plt\n",
        "\n",
        "\n",
        "path1 = '/content/drive/My Drive/data_set/RAVDESS_speech'\n",
        "path2 = '/content/drive/My Drive/data_set/RAVDESS_song'\n",
        "path3 = '/content/drive/My Drive/data_set/SAVEE'\n",
        "lst = []\n",
        "count=0\n",
        "start_time = time.time()\n",
        "\n",
        "for subdir, dirs, files in os.walk(path1):\n",
        "  for file in files:\n",
        "      try:\n",
        "        emo = int(file[7:8]) - 1 \n",
        "        if(emo==6 or emo==7):\n",
        "          continue\n",
        "        count +=1\n",
        "        #Load librosa array, obtain mfcss, store the file and the mcss information in a new array\n",
        "        X, sample_rate = librosa.load(os.path.join(subdir,file), res_type='kaiser_fast')\n",
        "        #mfccs = np.mean(librosa.feature.mfcc(y=X, sr=sample_rate, n_mfcc=40).T,axis=0) \n",
        "        # The instruction below converts the labels (from 1 to 8) to a series from 0 to 7\n",
        "        # This is because our predictor needs to start from 0 otherwise it will try to predict also 0.\n",
        "        arr =X, emo\n",
        "        lst.append(arr)\n",
        "      # If the file is not valid, skip it\n",
        "      except ValueError:\n",
        "        continue\n",
        "\n",
        "for subdir, dirs, files in os.walk(path2):\n",
        "  for file in files:\n",
        "      try:\n",
        "        count +=1\n",
        "        #Load librosa array, obtain mfcss, store the file and the mcss information in a new array\n",
        "        X, sample_rate = librosa.load(os.path.join(subdir,file), res_type='kaiser_fast')\n",
        "        #mfccs = np.mean(librosa.feature.mfcc(y=X, sr=sample_rate, n_mfcc=40).T,axis=0) \n",
        "        # The instruction below converts the labels (from 1 to 8) to a series from 0 to 7\n",
        "        # This is because our predictor needs to start from 0 otherwise it will try to predict also 0.\n",
        "        file = int(file[7:8]) - 1 \n",
        "        arr = X, file\n",
        "        lst.append(arr)\n",
        "      # If the file is not valid, skip it\n",
        "      except ValueError:\n",
        "        continue\n",
        "\n",
        "for subdir, dirs, files in os.walk(path3):\n",
        "  for file in files:\n",
        "      try:\n",
        "        #Load librosa array, obtain mfcss, store the file and the mcss information in a new array\n",
        "        \n",
        "        #mfccs = np.mean(librosa.feature.mfcc(y=X, sr=sample_rate, n_mfcc=40).T,axis=0) \n",
        "        \n",
        "        # The instruction below converts the labels (from 1 to 8) to a series from 0 to 7\n",
        "        # This is because our predictor needs to start from 0 otherwise it will try to predict also 0.\n",
        "        #file = int(file[7:8]) - 1 \n",
        "        #0 = neutral, 1 = calm, 2 = happy, 3 = sad, 4 = angry, 5 = fearful, 6 = disgust, 7 = surprised\n",
        "        if file.startswith('a'):\n",
        "            emotion=4\n",
        "        elif file.startswith('d'):\n",
        "            continue\n",
        "        elif file.startswith('f'):\n",
        "            emotion=5\n",
        "        elif file.startswith('h'):\n",
        "            emotion=2\n",
        "        elif file.startswith('n'):\n",
        "            emotion=0\n",
        "        elif file.startswith('sa'):\n",
        "            emotion=3\n",
        "        elif file.startswith('su'):\n",
        "            continue\n",
        "        else:\n",
        "            continue\n",
        "        count +=1\n",
        "        X, sample_rate = librosa.load(os.path.join(subdir,file), res_type='kaiser_fast')\n",
        "        arr = X, emotion\n",
        "        lst.append(arr)\n",
        "      # If the file is not valid, skip it\n",
        "      except ValueError:\n",
        "        continue\n",
        "\n",
        "print(\"--- Data loaded. Loading time: %s seconds ---\" % (time.time() - start_time))"
      ],
      "metadata": {
        "id": "-1eNUEyyPzeb",
        "colab": {
          "base_uri": "https://localhost:8080/"
        },
        "outputId": "8c8ca032-7997-41d6-d377-60b5c9f594a7"
      },
      "execution_count": null,
      "outputs": [
        {
          "output_type": "stream",
          "name": "stdout",
          "text": [
            "--- Data loaded. Loading time: 560.1471893787384 seconds ---\n"
          ]
        }
      ]
    },
    {
      "cell_type": "code",
      "source": [
        "from numpy.core.fromnumeric import size\n",
        "size(lst)"
      ],
      "metadata": {
        "colab": {
          "base_uri": "https://localhost:8080/"
        },
        "id": "HMOH7d7mzHB7",
        "outputId": "59ab46f8-01f3-471a-f81e-08c43d27c636"
      },
      "execution_count": null,
      "outputs": [
        {
          "output_type": "stream",
          "name": "stderr",
          "text": [
            "/usr/local/lib/python3.7/dist-packages/numpy/core/fromnumeric.py:3208: VisibleDeprecationWarning:\n",
            "\n",
            "Creating an ndarray from ragged nested sequences (which is a list-or-tuple of lists-or-tuples-or ndarrays with different lengths or shapes) is deprecated. If you meant to do this, you must specify 'dtype=object' when creating the ndarray.\n",
            "\n"
          ]
        },
        {
          "output_type": "execute_result",
          "data": {
            "text/plain": [
              "4856"
            ]
          },
          "metadata": {},
          "execution_count": 4
        }
      ]
    },
    {
      "cell_type": "code",
      "source": [
        "# Creating X and y: zip makes a list of all the first elements, and a list of all the second elements.\n",
        "audio_file, emotion = zip(*lst)"
      ],
      "metadata": {
        "id": "QSTRDNOgHLr6"
      },
      "execution_count": null,
      "outputs": []
    },
    {
      "cell_type": "code",
      "source": [
        "audio_file=np.asarray(audio_file)\n",
        "emotion=np.asarray(emotion)"
      ],
      "metadata": {
        "colab": {
          "base_uri": "https://localhost:8080/"
        },
        "id": "Ong1QDBXHrvk",
        "outputId": "6e0ed553-4390-4ead-c415-7d2bedaf4c32"
      },
      "execution_count": null,
      "outputs": [
        {
          "output_type": "stream",
          "name": "stderr",
          "text": [
            "/usr/local/lib/python3.7/dist-packages/ipykernel_launcher.py:1: VisibleDeprecationWarning:\n",
            "\n",
            "Creating an ndarray from ragged nested sequences (which is a list-or-tuple of lists-or-tuples-or ndarrays with different lengths or shapes) is deprecated. If you meant to do this, you must specify 'dtype=object' when creating the ndarray.\n",
            "\n"
          ]
        }
      ]
    },
    {
      "cell_type": "code",
      "source": [
        "emotion.shape,audio_file.shape"
      ],
      "metadata": {
        "colab": {
          "base_uri": "https://localhost:8080/"
        },
        "id": "2sUCtbfMztE5",
        "outputId": "c3577465-f802-4a68-b4e2-c31b3bc98720"
      },
      "execution_count": null,
      "outputs": [
        {
          "output_type": "execute_result",
          "data": {
            "text/plain": [
              "((2428,), (2428,))"
            ]
          },
          "metadata": {},
          "execution_count": 7
        }
      ]
    },
    {
      "cell_type": "code",
      "source": [
        "from sklearn.model_selection import train_test_split\n",
        "\n",
        "signal_train, signal_test, emo_train, emo_test = train_test_split(audio_file,emotion, test_size=0.20, random_state=42)"
      ],
      "metadata": {
        "id": "62_CZk5SH_08"
      },
      "execution_count": null,
      "outputs": []
    },
    {
      "cell_type": "code",
      "source": [
        "signal_valid, signal_test, emo_valid, emo_test = train_test_split(signal_test,emo_test, test_size=0.5,train_size=0.5, random_state=42)"
      ],
      "metadata": {
        "id": "3yaCr-AlIhEK"
      },
      "execution_count": null,
      "outputs": []
    },
    {
      "cell_type": "code",
      "source": [
        "signal_train.shape,signal_valid.shape,signal_test.shape"
      ],
      "metadata": {
        "colab": {
          "base_uri": "https://localhost:8080/"
        },
        "id": "bmJZBOwkI58f",
        "outputId": "cd040fcd-3c45-4f14-f9da-fe74abad0126"
      },
      "execution_count": null,
      "outputs": [
        {
          "output_type": "execute_result",
          "data": {
            "text/plain": [
              "((1942,), (243,), (243,))"
            ]
          },
          "metadata": {},
          "execution_count": 10
        }
      ]
    },
    {
      "cell_type": "code",
      "source": [
        "x_valid=[]\n",
        "x_test=[]\n"
      ],
      "metadata": {
        "id": "4suaNiPyLgqh"
      },
      "execution_count": null,
      "outputs": []
    },
    {
      "cell_type": "code",
      "source": [
        "for i in range(signal_valid.size):\n",
        "  x_valid.append(np.mean(librosa.feature.mfcc(y=signal_valid[i], sr=sample_rate, n_mfcc=40).T,axis=0))\n",
        "\n",
        "for i in range(signal_test.size):\n",
        "  x_test.append(np.mean(librosa.feature.mfcc(y=signal_test[i], sr=sample_rate, n_mfcc=40).T,axis=0))"
      ],
      "metadata": {
        "id": "cc-N9EM8KXlq"
      },
      "execution_count": null,
      "outputs": []
    },
    {
      "cell_type": "code",
      "source": [
        "x_valid=np.asarray(x_valid)\n",
        "x_test=np.asarray(x_test)"
      ],
      "metadata": {
        "id": "FjxfamKtNikQ"
      },
      "execution_count": null,
      "outputs": []
    },
    {
      "cell_type": "code",
      "source": [
        "x_valid.shape,x_test.shape"
      ],
      "metadata": {
        "colab": {
          "base_uri": "https://localhost:8080/"
        },
        "id": "2BEbwS0hNlvq",
        "outputId": "08125613-25d7-47f5-f1e8-f042aea77e08"
      },
      "execution_count": null,
      "outputs": [
        {
          "output_type": "execute_result",
          "data": {
            "text/plain": [
              "((243, 40), (243, 40))"
            ]
          },
          "metadata": {},
          "execution_count": 14
        }
      ]
    },
    {
      "cell_type": "code",
      "source": [
        "\n",
        "train_lst=[]"
      ],
      "metadata": {
        "id": "LtvpT7lYRdL-"
      },
      "execution_count": null,
      "outputs": []
    },
    {
      "cell_type": "code",
      "source": [
        "for i in range(signal_train.size):\n",
        "  emo=emo_train[i]\n",
        "  x=signal_train[i]\n",
        "  arr=x,emo\n",
        "  train_lst.append(arr)\n",
        "  x=librosa.effects.time_stretch(signal_train[i],0.5)\n",
        "  arr=x,emo\n",
        "  train_lst.append(arr)\n",
        "  x=librosa.effects.time_stretch(signal_train[i],1.5)\n",
        "  arr=x,emo\n",
        "  train_lst.append(arr)\n",
        "  x=librosa.effects.pitch_shift(signal_train[i],sample_rate,2)\n",
        "  arr=x,emo\n",
        "  train_lst.append(arr)"
      ],
      "metadata": {
        "id": "xf2odgMXQgOH"
      },
      "execution_count": null,
      "outputs": []
    },
    {
      "cell_type": "code",
      "source": [
        "signal, y_train = zip(*train_lst)"
      ],
      "metadata": {
        "id": "CMkZ_U0rZs0z"
      },
      "execution_count": null,
      "outputs": []
    },
    {
      "cell_type": "code",
      "source": [
        "signal=np.asarray(signal)\n",
        "y_train=np.asarray(y_train)"
      ],
      "metadata": {
        "colab": {
          "base_uri": "https://localhost:8080/"
        },
        "id": "IJbOKuiIaBxx",
        "outputId": "711733cf-d2d8-4019-ef9a-82b3e2b2aeaf"
      },
      "execution_count": null,
      "outputs": [
        {
          "output_type": "stream",
          "name": "stderr",
          "text": [
            "/usr/local/lib/python3.7/dist-packages/ipykernel_launcher.py:1: VisibleDeprecationWarning:\n",
            "\n",
            "Creating an ndarray from ragged nested sequences (which is a list-or-tuple of lists-or-tuples-or ndarrays with different lengths or shapes) is deprecated. If you meant to do this, you must specify 'dtype=object' when creating the ndarray.\n",
            "\n"
          ]
        }
      ]
    },
    {
      "cell_type": "code",
      "source": [
        "x_train=[]"
      ],
      "metadata": {
        "id": "iGuQyoqTaKzR"
      },
      "execution_count": null,
      "outputs": []
    },
    {
      "cell_type": "code",
      "source": [
        "for i in range(signal.size):\n",
        "  x_train.append(np.mean(librosa.feature.mfcc(y=signal[i], sr=sample_rate, n_mfcc=40).T,axis=0))"
      ],
      "metadata": {
        "id": "Y_9_-pxcWjtj"
      },
      "execution_count": null,
      "outputs": []
    },
    {
      "cell_type": "code",
      "source": [
        "x_train=np.asarray(x_train)"
      ],
      "metadata": {
        "id": "W-giRONHaPnr"
      },
      "execution_count": null,
      "outputs": []
    },
    {
      "cell_type": "code",
      "source": [
        "x_train.shape"
      ],
      "metadata": {
        "colab": {
          "base_uri": "https://localhost:8080/"
        },
        "id": "TxH7IFawa__X",
        "outputId": "589751c0-e8cd-4f3f-ba35-7969aa6579ae"
      },
      "execution_count": null,
      "outputs": [
        {
          "output_type": "execute_result",
          "data": {
            "text/plain": [
              "(7768, 40)"
            ]
          },
          "metadata": {},
          "execution_count": 22
        }
      ]
    },
    {
      "cell_type": "code",
      "source": [
        "y_train.shape"
      ],
      "metadata": {
        "colab": {
          "base_uri": "https://localhost:8080/"
        },
        "id": "AvCXMuBobZAo",
        "outputId": "77d64f5f-bb6f-49f3-84f1-57baa06daade"
      },
      "execution_count": null,
      "outputs": [
        {
          "output_type": "execute_result",
          "data": {
            "text/plain": [
              "(7768,)"
            ]
          },
          "metadata": {},
          "execution_count": 23
        }
      ]
    },
    {
      "cell_type": "code",
      "source": [
        "#orignal\n",
        "import keras\n",
        "import numpy as np\n",
        "import matplotlib.pyplot as plt\n",
        "import tensorflow as tf\n",
        "from keras.preprocessing import sequence\n",
        "from keras.models import Sequential\n",
        "from keras.layers import Dense, Embedding\n",
        "from tensorflow.keras.utils import to_categorical\n",
        "from keras.layers import Input, Flatten, Dropout, Activation\n",
        "from keras.layers import Conv1D, MaxPooling1D\n",
        "from keras.models import Model\n",
        "from keras.callbacks import ModelCheckpoint\n",
        "from tensorflow.keras import optimizers\n",
        "from tensorflow import keras\n",
        "from tensorflow.keras.optimizers import schedules\n",
        "\n",
        "model = Sequential()\n",
        "\n",
        "model.add(Conv1D(64, 5,padding='same', #classifier.add(Convolution2D(64, (3, 3), padding = 'same', input_shape = (128, 128, 3), activation = 'relu'))\n",
        "                 input_shape=(40,1)))\n",
        "model.add(Activation('relu'))\n",
        "model.add(Dropout(0.1))\n",
        "model.add(MaxPooling1D(pool_size=(4)))\n",
        "model.add(Conv1D(128, 5,padding='same',))\n",
        "model.add(Activation('relu'))\n",
        "model.add(Dropout(0.1))\n",
        "model.add(MaxPooling1D(pool_size=(4)))\n",
        "model.add(Conv1D(256, 5,padding='same',))\n",
        "model.add(Activation('relu'))\n",
        "model.add(Dropout(0.1))\n",
        "model.add(Flatten())\n",
        "model.add(Dense(6))\n",
        "model.add(Activation('softmax'))\n",
        "lr_schedule = keras.optimizers.schedules.ExponentialDecay(\n",
        "    initial_learning_rate=0.0001,\n",
        "    decay_steps=10000,\n",
        "    decay_rate=0.0)\n",
        "opt = keras.optimizers.SGD(learning_rate=lr_schedule)\n",
        "#opt = tf.keras.optimizers.RMSprop(lr=0.0001, rho=0.9, epsilon=1e-07, decay=0.0)\n",
        "#opt = tf.keras.optimizers.SGD(lr=0.001, momentum=0.0, decay=0.0, nesterov=False)"
      ],
      "metadata": {
        "colab": {
          "base_uri": "https://localhost:8080/",
          "height": 234
        },
        "id": "g74fXWVAC4Cr",
        "outputId": "b0bedf98-5dd6-47db-eee5-ef445e5629fb"
      },
      "execution_count": null,
      "outputs": [
        {
          "output_type": "error",
          "ename": "AttributeError",
          "evalue": "ignored",
          "traceback": [
            "\u001b[0;31m---------------------------------------------------------------------------\u001b[0m",
            "\u001b[0;31mAttributeError\u001b[0m                            Traceback (most recent call last)",
            "\u001b[0;32m<ipython-input-24-e75d63f46732>\u001b[0m in \u001b[0;36m<module>\u001b[0;34m()\u001b[0m\n\u001b[1;32m     31\u001b[0m \u001b[0mmodel\u001b[0m\u001b[0;34m.\u001b[0m\u001b[0madd\u001b[0m\u001b[0;34m(\u001b[0m\u001b[0mDense\u001b[0m\u001b[0;34m(\u001b[0m\u001b[0;36m6\u001b[0m\u001b[0;34m)\u001b[0m\u001b[0;34m)\u001b[0m\u001b[0;34m\u001b[0m\u001b[0;34m\u001b[0m\u001b[0m\n\u001b[1;32m     32\u001b[0m \u001b[0mmodel\u001b[0m\u001b[0;34m.\u001b[0m\u001b[0madd\u001b[0m\u001b[0;34m(\u001b[0m\u001b[0mActivation\u001b[0m\u001b[0;34m(\u001b[0m\u001b[0;34m'softmax'\u001b[0m\u001b[0;34m)\u001b[0m\u001b[0;34m)\u001b[0m\u001b[0;34m\u001b[0m\u001b[0;34m\u001b[0m\u001b[0m\n\u001b[0;32m---> 33\u001b[0;31m lr_schedule = keras.optimizers.schedules.ExponentialDecay(\n\u001b[0m\u001b[1;32m     34\u001b[0m     \u001b[0minitial_learning_rate\u001b[0m\u001b[0;34m=\u001b[0m\u001b[0;36m0.0001\u001b[0m\u001b[0;34m,\u001b[0m\u001b[0;34m\u001b[0m\u001b[0;34m\u001b[0m\u001b[0m\n\u001b[1;32m     35\u001b[0m     \u001b[0mdecay_steps\u001b[0m\u001b[0;34m=\u001b[0m\u001b[0;36m10000\u001b[0m\u001b[0;34m,\u001b[0m\u001b[0;34m\u001b[0m\u001b[0;34m\u001b[0m\u001b[0m\n",
            "\u001b[0;31mAttributeError\u001b[0m: module 'keras.optimizers' has no attribute 'schedules'"
          ]
        }
      ]
    },
    {
      "cell_type": "code",
      "source": [
        "#adding new layer\n",
        "import keras\n",
        "import numpy as np\n",
        "import matplotlib.pyplot as plt\n",
        "import tensorflow as tf\n",
        "from keras.preprocessing import sequence\n",
        "from keras.models import Sequential\n",
        "from keras.layers import Dense, Embedding\n",
        "from tensorflow.keras.utils import to_categorical\n",
        "from keras.layers import Input, Flatten, Dropout, Activation\n",
        "from keras.layers import Conv1D, MaxPooling1D\n",
        "from keras.models import Model\n",
        "from keras.callbacks import ModelCheckpoint\n",
        "from tensorflow.keras import optimizers\n",
        "from tensorflow import keras\n",
        "from tensorflow.keras.optimizers import schedules\n",
        "\n",
        "\n",
        "model = Sequential()\n",
        "\n",
        "model.add(Conv1D(64, 5,padding='same', #classifier.add(Convolution2D(64, (3, 3), padding = 'same', input_shape = (128, 128, 3), activation = 'relu'))\n",
        "                 input_shape=(40,1)))\n",
        "model.add(Activation('relu'))\n",
        "model.add(Dropout(0.1))\n",
        "model.add(MaxPooling1D(pool_size=(4)))\n",
        "model.add(Conv1D(128, 5,padding='same',))\n",
        "model.add(Activation('relu'))\n",
        "model.add(Dropout(0.3))\n",
        "model.add(MaxPooling1D(pool_size=(4)))\n",
        "model.add(Conv1D(128, 5,padding='same',))\n",
        "model.add(Activation('relu'))\n",
        "model.add(Dropout(0.3))\n",
        "model.add(MaxPooling1D(pool_size=(2)))\n",
        "model.add(Conv1D(256, 5,padding='same',))\n",
        "model.add(Activation('relu'))\n",
        "model.add(Dropout(0.4))\n",
        "model.add(Flatten())\n",
        "model.add(Dense(6))\n",
        "model.add(Activation('softmax'))\n",
        "opt = keras.optimizers.Adam(learning_rate=0.0001)\n",
        "#opt = tf.keras.optimizers.RMSprop(lr=0.0001, rho=0.9, epsilon=1e-07, decay=0.0)\n",
        "#opt = tf.keras.optimizers.SGD(lr=0.001, momentum=0.0, decay=0.0, nesterov=False)"
      ],
      "metadata": {
        "id": "gudVTxSh0_hK"
      },
      "execution_count": null,
      "outputs": []
    },
    {
      "cell_type": "code",
      "source": [
        "#changing dropout\n",
        "import keras\n",
        "import numpy as np\n",
        "import matplotlib.pyplot as plt\n",
        "import tensorflow as tf\n",
        "from keras.preprocessing import sequence\n",
        "from keras.models import Sequential\n",
        "from keras.layers import Dense, Embedding\n",
        "from tensorflow.keras.utils import to_categorical\n",
        "from keras.layers import Input, Flatten, Dropout, Activation\n",
        "from keras.layers import Conv1D, MaxPooling1D\n",
        "from keras.models import Model\n",
        "from keras.callbacks import ModelCheckpoint\n",
        "from tensorflow.keras import optimizers\n",
        "from tensorflow import keras\n",
        "from tensorflow.keras.optimizers import schedules\n",
        "\n",
        "\n",
        "model = Sequential()\n",
        "\n",
        "model.add(Conv1D(64, 5,padding='same', #classifier.add(Convolution2D(64, (3, 3), padding = 'same', input_shape = (128, 128, 3), activation = 'relu'))\n",
        "                 input_shape=(40,1)))\n",
        "model.add(Activation('sigmoid'))\n",
        "model.add(Dropout(0.1))\n",
        "model.add(MaxPooling1D(pool_size=(4)))\n",
        "model.add(Conv1D(128, 5,padding='same',))\n",
        "model.add(Activation('sigmoid'))\n",
        "model.add(Dropout(0.3))\n",
        "model.add(MaxPooling1D(pool_size=(4)))\n",
        "model.add(Conv1D(256, 5,padding='same',))\n",
        "model.add(Activation('sigmoid'))\n",
        "model.add(Dropout(0.4))\n",
        "model.add(Flatten())\n",
        "model.add(Dense(6))\n",
        "model.add(Activation('softmax'))\n",
        "opt = keras.optimizers.Adam(learning_rate=0.0001)\n",
        "#opt = tf.keras.optimizers.RMSprop(lr=0.0001, rho=0.9, epsilon=1e-07, decay=0.0)\n",
        "#opt = tf.keras.optimizers.SGD(lr=0.001, momentum=0.0, decay=0.0, nesterov=False)"
      ],
      "metadata": {
        "id": "xXlmfjiQ04ha"
      },
      "execution_count": null,
      "outputs": []
    },
    {
      "cell_type": "code",
      "source": [
        "model.summary()"
      ],
      "metadata": {
        "colab": {
          "base_uri": "https://localhost:8080/"
        },
        "id": "H6ukOxAGC_I4",
        "outputId": "0aa451fb-d8d5-40ef-e8ca-0917468bdc9f"
      },
      "execution_count": null,
      "outputs": [
        {
          "output_type": "stream",
          "name": "stdout",
          "text": [
            "Model: \"sequential\"\n",
            "_________________________________________________________________\n",
            " Layer (type)                Output Shape              Param #   \n",
            "=================================================================\n",
            " conv1d (Conv1D)             (None, 40, 64)            384       \n",
            "                                                                 \n",
            " activation (Activation)     (None, 40, 64)            0         \n",
            "                                                                 \n",
            " dropout (Dropout)           (None, 40, 64)            0         \n",
            "                                                                 \n",
            " max_pooling1d (MaxPooling1D  (None, 10, 64)           0         \n",
            " )                                                               \n",
            "                                                                 \n",
            " conv1d_1 (Conv1D)           (None, 10, 128)           41088     \n",
            "                                                                 \n",
            " activation_1 (Activation)   (None, 10, 128)           0         \n",
            "                                                                 \n",
            " dropout_1 (Dropout)         (None, 10, 128)           0         \n",
            "                                                                 \n",
            " max_pooling1d_1 (MaxPooling  (None, 2, 128)           0         \n",
            " 1D)                                                             \n",
            "                                                                 \n",
            " conv1d_2 (Conv1D)           (None, 2, 128)            82048     \n",
            "                                                                 \n",
            " activation_2 (Activation)   (None, 2, 128)            0         \n",
            "                                                                 \n",
            " dropout_2 (Dropout)         (None, 2, 128)            0         \n",
            "                                                                 \n",
            " max_pooling1d_2 (MaxPooling  (None, 1, 128)           0         \n",
            " 1D)                                                             \n",
            "                                                                 \n",
            " conv1d_3 (Conv1D)           (None, 1, 256)            164096    \n",
            "                                                                 \n",
            " activation_3 (Activation)   (None, 1, 256)            0         \n",
            "                                                                 \n",
            " dropout_3 (Dropout)         (None, 1, 256)            0         \n",
            "                                                                 \n",
            " flatten (Flatten)           (None, 256)               0         \n",
            "                                                                 \n",
            " dense (Dense)               (None, 6)                 1542      \n",
            "                                                                 \n",
            " activation_4 (Activation)   (None, 6)                 0         \n",
            "                                                                 \n",
            "=================================================================\n",
            "Total params: 289,158\n",
            "Trainable params: 289,158\n",
            "Non-trainable params: 0\n",
            "_________________________________________________________________\n"
          ]
        }
      ]
    },
    {
      "cell_type": "code",
      "source": [
        "model.compile(loss='sparse_categorical_crossentropy',\n",
        "              optimizer=opt,\n",
        "              metrics=['accuracy'])"
      ],
      "metadata": {
        "id": "AbMlLNk4DCBM"
      },
      "execution_count": null,
      "outputs": []
    },
    {
      "cell_type": "code",
      "source": [
        "cnnhistory=model.fit(x_train, y_train, batch_size=16, epochs=500, validation_data=(x_valid, emo_valid))\n",
        "#cnnhistory=model.fit(x_traincnn, y_train, batch_size=16, epochs=700,validation_split=0.1)"
      ],
      "metadata": {
        "colab": {
          "base_uri": "https://localhost:8080/"
        },
        "id": "RI1v2AuADFhy",
        "outputId": "47cc83ce-4d94-4f1f-d9ec-eff6f5ef59ec"
      },
      "execution_count": null,
      "outputs": [
        {
          "output_type": "stream",
          "name": "stdout",
          "text": [
            "Epoch 1/500\n",
            "486/486 [==============================] - 12s 20ms/step - loss: 2.3910 - accuracy: 0.1813 - val_loss: 1.7761 - val_accuracy: 0.2263\n",
            "Epoch 2/500\n",
            "486/486 [==============================] - 8s 16ms/step - loss: 1.8147 - accuracy: 0.2008 - val_loss: 1.7424 - val_accuracy: 0.2593\n",
            "Epoch 3/500\n",
            "486/486 [==============================] - 8s 16ms/step - loss: 1.7649 - accuracy: 0.2258 - val_loss: 1.6956 - val_accuracy: 0.2551\n",
            "Epoch 4/500\n",
            "486/486 [==============================] - 8s 16ms/step - loss: 1.7312 - accuracy: 0.2433 - val_loss: 1.6503 - val_accuracy: 0.3045\n",
            "Epoch 5/500\n",
            "486/486 [==============================] - 8s 16ms/step - loss: 1.6819 - accuracy: 0.2716 - val_loss: 1.6323 - val_accuracy: 0.3128\n",
            "Epoch 6/500\n",
            "486/486 [==============================] - 8s 16ms/step - loss: 1.6487 - accuracy: 0.2877 - val_loss: 1.5902 - val_accuracy: 0.3004\n",
            "Epoch 7/500\n",
            "486/486 [==============================] - 8s 16ms/step - loss: 1.6099 - accuracy: 0.3048 - val_loss: 1.5323 - val_accuracy: 0.3457\n",
            "Epoch 8/500\n",
            "486/486 [==============================] - 8s 16ms/step - loss: 1.5755 - accuracy: 0.3257 - val_loss: 1.5168 - val_accuracy: 0.3374\n",
            "Epoch 9/500\n",
            "486/486 [==============================] - 8s 16ms/step - loss: 1.5456 - accuracy: 0.3431 - val_loss: 1.4747 - val_accuracy: 0.3951\n",
            "Epoch 10/500\n",
            "486/486 [==============================] - 8s 16ms/step - loss: 1.5126 - accuracy: 0.3572 - val_loss: 1.4660 - val_accuracy: 0.3909\n",
            "Epoch 11/500\n",
            "486/486 [==============================] - 8s 16ms/step - loss: 1.4950 - accuracy: 0.3617 - val_loss: 1.4469 - val_accuracy: 0.3868\n",
            "Epoch 12/500\n",
            "486/486 [==============================] - 9s 18ms/step - loss: 1.4676 - accuracy: 0.3800 - val_loss: 1.4153 - val_accuracy: 0.4198\n",
            "Epoch 13/500\n",
            "486/486 [==============================] - 8s 17ms/step - loss: 1.4466 - accuracy: 0.3880 - val_loss: 1.3913 - val_accuracy: 0.4115\n",
            "Epoch 14/500\n",
            "486/486 [==============================] - 8s 16ms/step - loss: 1.4291 - accuracy: 0.4063 - val_loss: 1.3506 - val_accuracy: 0.4486\n",
            "Epoch 15/500\n",
            "486/486 [==============================] - 8s 16ms/step - loss: 1.3915 - accuracy: 0.4189 - val_loss: 1.3231 - val_accuracy: 0.4527\n",
            "Epoch 16/500\n",
            "486/486 [==============================] - 8s 16ms/step - loss: 1.3634 - accuracy: 0.4271 - val_loss: 1.2893 - val_accuracy: 0.4774\n",
            "Epoch 17/500\n",
            "486/486 [==============================] - 8s 16ms/step - loss: 1.3408 - accuracy: 0.4480 - val_loss: 1.2507 - val_accuracy: 0.5021\n",
            "Epoch 18/500\n",
            "486/486 [==============================] - 8s 16ms/step - loss: 1.3040 - accuracy: 0.4618 - val_loss: 1.2249 - val_accuracy: 0.5144\n",
            "Epoch 19/500\n",
            "486/486 [==============================] - 8s 16ms/step - loss: 1.2659 - accuracy: 0.4754 - val_loss: 1.1899 - val_accuracy: 0.5185\n",
            "Epoch 20/500\n",
            "486/486 [==============================] - 8s 16ms/step - loss: 1.2364 - accuracy: 0.4985 - val_loss: 1.1737 - val_accuracy: 0.5556\n",
            "Epoch 21/500\n",
            "486/486 [==============================] - 8s 16ms/step - loss: 1.2148 - accuracy: 0.4968 - val_loss: 1.1176 - val_accuracy: 0.5802\n",
            "Epoch 22/500\n",
            "486/486 [==============================] - 8s 16ms/step - loss: 1.1841 - accuracy: 0.5129 - val_loss: 1.1030 - val_accuracy: 0.5926\n",
            "Epoch 23/500\n",
            "486/486 [==============================] - 8s 16ms/step - loss: 1.1623 - accuracy: 0.5299 - val_loss: 1.0633 - val_accuracy: 0.5885\n",
            "Epoch 24/500\n",
            "486/486 [==============================] - 8s 16ms/step - loss: 1.1373 - accuracy: 0.5303 - val_loss: 1.0468 - val_accuracy: 0.6214\n",
            "Epoch 25/500\n",
            "486/486 [==============================] - 8s 16ms/step - loss: 1.1223 - accuracy: 0.5351 - val_loss: 1.0405 - val_accuracy: 0.6132\n",
            "Epoch 26/500\n",
            "486/486 [==============================] - 8s 16ms/step - loss: 1.0958 - accuracy: 0.5481 - val_loss: 1.0102 - val_accuracy: 0.6008\n",
            "Epoch 27/500\n",
            "486/486 [==============================] - 8s 16ms/step - loss: 1.0775 - accuracy: 0.5633 - val_loss: 1.0083 - val_accuracy: 0.6132\n",
            "Epoch 28/500\n",
            "486/486 [==============================] - 8s 16ms/step - loss: 1.0659 - accuracy: 0.5664 - val_loss: 1.0029 - val_accuracy: 0.6132\n",
            "Epoch 29/500\n",
            "486/486 [==============================] - 8s 16ms/step - loss: 1.0457 - accuracy: 0.5747 - val_loss: 0.9724 - val_accuracy: 0.6337\n",
            "Epoch 30/500\n",
            "486/486 [==============================] - 8s 16ms/step - loss: 1.0271 - accuracy: 0.5803 - val_loss: 0.9542 - val_accuracy: 0.6379\n",
            "Epoch 31/500\n",
            "486/486 [==============================] - 8s 16ms/step - loss: 1.0096 - accuracy: 0.5839 - val_loss: 0.9333 - val_accuracy: 0.6255\n",
            "Epoch 32/500\n",
            "486/486 [==============================] - 9s 18ms/step - loss: 0.9966 - accuracy: 0.6016 - val_loss: 0.9288 - val_accuracy: 0.6214\n",
            "Epoch 33/500\n",
            "486/486 [==============================] - 9s 18ms/step - loss: 0.9709 - accuracy: 0.6058 - val_loss: 0.9324 - val_accuracy: 0.6214\n",
            "Epoch 34/500\n",
            "486/486 [==============================] - 8s 16ms/step - loss: 0.9592 - accuracy: 0.6097 - val_loss: 0.8957 - val_accuracy: 0.6543\n",
            "Epoch 35/500\n",
            "486/486 [==============================] - 8s 17ms/step - loss: 0.9496 - accuracy: 0.6098 - val_loss: 0.8861 - val_accuracy: 0.6584\n",
            "Epoch 36/500\n",
            "486/486 [==============================] - 8s 17ms/step - loss: 0.9471 - accuracy: 0.6162 - val_loss: 0.8750 - val_accuracy: 0.6626\n",
            "Epoch 37/500\n",
            "486/486 [==============================] - 8s 16ms/step - loss: 0.9203 - accuracy: 0.6245 - val_loss: 0.8633 - val_accuracy: 0.6626\n",
            "Epoch 38/500\n",
            "486/486 [==============================] - 8s 16ms/step - loss: 0.9040 - accuracy: 0.6311 - val_loss: 0.8431 - val_accuracy: 0.6955\n",
            "Epoch 39/500\n",
            "486/486 [==============================] - 8s 16ms/step - loss: 0.8904 - accuracy: 0.6403 - val_loss: 0.8492 - val_accuracy: 0.6708\n",
            "Epoch 40/500\n",
            "486/486 [==============================] - 8s 16ms/step - loss: 0.8798 - accuracy: 0.6460 - val_loss: 0.8015 - val_accuracy: 0.6749\n",
            "Epoch 41/500\n",
            "486/486 [==============================] - 8s 16ms/step - loss: 0.8834 - accuracy: 0.6402 - val_loss: 0.8008 - val_accuracy: 0.7119\n",
            "Epoch 42/500\n",
            "486/486 [==============================] - 8s 16ms/step - loss: 0.8663 - accuracy: 0.6531 - val_loss: 0.8058 - val_accuracy: 0.7037\n",
            "Epoch 43/500\n",
            "486/486 [==============================] - 8s 16ms/step - loss: 0.8445 - accuracy: 0.6571 - val_loss: 0.7804 - val_accuracy: 0.6955\n",
            "Epoch 44/500\n",
            "486/486 [==============================] - 8s 16ms/step - loss: 0.8392 - accuracy: 0.6565 - val_loss: 0.7846 - val_accuracy: 0.6955\n",
            "Epoch 45/500\n",
            "486/486 [==============================] - 8s 16ms/step - loss: 0.8268 - accuracy: 0.6689 - val_loss: 0.7710 - val_accuracy: 0.6914\n",
            "Epoch 46/500\n",
            "486/486 [==============================] - 8s 16ms/step - loss: 0.8091 - accuracy: 0.6716 - val_loss: 0.7580 - val_accuracy: 0.6955\n",
            "Epoch 47/500\n",
            "486/486 [==============================] - 8s 16ms/step - loss: 0.8021 - accuracy: 0.6712 - val_loss: 0.7668 - val_accuracy: 0.7119\n",
            "Epoch 48/500\n",
            "486/486 [==============================] - 8s 16ms/step - loss: 0.8064 - accuracy: 0.6707 - val_loss: 0.7997 - val_accuracy: 0.7037\n",
            "Epoch 49/500\n",
            "486/486 [==============================] - 8s 16ms/step - loss: 0.7932 - accuracy: 0.6787 - val_loss: 0.7444 - val_accuracy: 0.7325\n",
            "Epoch 50/500\n",
            "486/486 [==============================] - 8s 16ms/step - loss: 0.7699 - accuracy: 0.6887 - val_loss: 0.7351 - val_accuracy: 0.7243\n",
            "Epoch 51/500\n",
            "486/486 [==============================] - 8s 16ms/step - loss: 0.7795 - accuracy: 0.6822 - val_loss: 0.7413 - val_accuracy: 0.7243\n",
            "Epoch 52/500\n",
            "486/486 [==============================] - 8s 16ms/step - loss: 0.7497 - accuracy: 0.6932 - val_loss: 0.7445 - val_accuracy: 0.7119\n",
            "Epoch 53/500\n",
            "486/486 [==============================] - 8s 16ms/step - loss: 0.7504 - accuracy: 0.6945 - val_loss: 0.7167 - val_accuracy: 0.7366\n",
            "Epoch 54/500\n",
            "486/486 [==============================] - 8s 16ms/step - loss: 0.7580 - accuracy: 0.6881 - val_loss: 0.7258 - val_accuracy: 0.7202\n",
            "Epoch 55/500\n",
            "486/486 [==============================] - 8s 16ms/step - loss: 0.7330 - accuracy: 0.7025 - val_loss: 0.7065 - val_accuracy: 0.7366\n",
            "Epoch 56/500\n",
            "486/486 [==============================] - 8s 16ms/step - loss: 0.7292 - accuracy: 0.7085 - val_loss: 0.7206 - val_accuracy: 0.6996\n",
            "Epoch 57/500\n",
            "486/486 [==============================] - 8s 16ms/step - loss: 0.7148 - accuracy: 0.7128 - val_loss: 0.6812 - val_accuracy: 0.7407\n",
            "Epoch 58/500\n",
            "486/486 [==============================] - 8s 16ms/step - loss: 0.7141 - accuracy: 0.7185 - val_loss: 0.6809 - val_accuracy: 0.7243\n",
            "Epoch 59/500\n",
            "486/486 [==============================] - 8s 16ms/step - loss: 0.6988 - accuracy: 0.7138 - val_loss: 0.6818 - val_accuracy: 0.7325\n",
            "Epoch 60/500\n",
            "486/486 [==============================] - 8s 16ms/step - loss: 0.6929 - accuracy: 0.7210 - val_loss: 0.6814 - val_accuracy: 0.7325\n",
            "Epoch 61/500\n",
            "486/486 [==============================] - 8s 16ms/step - loss: 0.6880 - accuracy: 0.7244 - val_loss: 0.6679 - val_accuracy: 0.7325\n",
            "Epoch 62/500\n",
            "486/486 [==============================] - 8s 16ms/step - loss: 0.6796 - accuracy: 0.7261 - val_loss: 0.6682 - val_accuracy: 0.7325\n",
            "Epoch 63/500\n",
            "486/486 [==============================] - 8s 16ms/step - loss: 0.6812 - accuracy: 0.7300 - val_loss: 0.6714 - val_accuracy: 0.7407\n",
            "Epoch 64/500\n",
            "486/486 [==============================] - 8s 16ms/step - loss: 0.6679 - accuracy: 0.7353 - val_loss: 0.6680 - val_accuracy: 0.7202\n",
            "Epoch 65/500\n",
            "486/486 [==============================] - 8s 16ms/step - loss: 0.6681 - accuracy: 0.7374 - val_loss: 0.6585 - val_accuracy: 0.7325\n",
            "Epoch 66/500\n",
            "486/486 [==============================] - 8s 16ms/step - loss: 0.6573 - accuracy: 0.7344 - val_loss: 0.6600 - val_accuracy: 0.7490\n",
            "Epoch 67/500\n",
            "486/486 [==============================] - 8s 16ms/step - loss: 0.6528 - accuracy: 0.7445 - val_loss: 0.6672 - val_accuracy: 0.7449\n",
            "Epoch 68/500\n",
            "486/486 [==============================] - 8s 16ms/step - loss: 0.6311 - accuracy: 0.7506 - val_loss: 0.6634 - val_accuracy: 0.7407\n",
            "Epoch 69/500\n",
            "486/486 [==============================] - 8s 16ms/step - loss: 0.6414 - accuracy: 0.7425 - val_loss: 0.6454 - val_accuracy: 0.7490\n",
            "Epoch 70/500\n",
            "486/486 [==============================] - 8s 16ms/step - loss: 0.6269 - accuracy: 0.7546 - val_loss: 0.6709 - val_accuracy: 0.7407\n",
            "Epoch 71/500\n",
            "486/486 [==============================] - 8s 16ms/step - loss: 0.6329 - accuracy: 0.7467 - val_loss: 0.6285 - val_accuracy: 0.7531\n",
            "Epoch 72/500\n",
            "486/486 [==============================] - 8s 16ms/step - loss: 0.6221 - accuracy: 0.7537 - val_loss: 0.6499 - val_accuracy: 0.7531\n",
            "Epoch 73/500\n",
            "486/486 [==============================] - 8s 16ms/step - loss: 0.6061 - accuracy: 0.7585 - val_loss: 0.6217 - val_accuracy: 0.7695\n",
            "Epoch 74/500\n",
            "486/486 [==============================] - 8s 16ms/step - loss: 0.5970 - accuracy: 0.7600 - val_loss: 0.6412 - val_accuracy: 0.7490\n",
            "Epoch 75/500\n",
            "486/486 [==============================] - 8s 16ms/step - loss: 0.6021 - accuracy: 0.7611 - val_loss: 0.6296 - val_accuracy: 0.7819\n",
            "Epoch 76/500\n",
            "486/486 [==============================] - 8s 16ms/step - loss: 0.5923 - accuracy: 0.7622 - val_loss: 0.6259 - val_accuracy: 0.7654\n",
            "Epoch 77/500\n",
            "486/486 [==============================] - 8s 16ms/step - loss: 0.5942 - accuracy: 0.7626 - val_loss: 0.6255 - val_accuracy: 0.7572\n",
            "Epoch 78/500\n",
            "486/486 [==============================] - 8s 16ms/step - loss: 0.5848 - accuracy: 0.7734 - val_loss: 0.6099 - val_accuracy: 0.7860\n",
            "Epoch 79/500\n",
            "486/486 [==============================] - 8s 16ms/step - loss: 0.5802 - accuracy: 0.7756 - val_loss: 0.6332 - val_accuracy: 0.7737\n",
            "Epoch 80/500\n",
            "486/486 [==============================] - 8s 16ms/step - loss: 0.5869 - accuracy: 0.7714 - val_loss: 0.6216 - val_accuracy: 0.7737\n",
            "Epoch 81/500\n",
            "486/486 [==============================] - 8s 16ms/step - loss: 0.5754 - accuracy: 0.7723 - val_loss: 0.6029 - val_accuracy: 0.7737\n",
            "Epoch 82/500\n",
            "486/486 [==============================] - 8s 16ms/step - loss: 0.5678 - accuracy: 0.7769 - val_loss: 0.5784 - val_accuracy: 0.7819\n",
            "Epoch 83/500\n",
            "486/486 [==============================] - 8s 16ms/step - loss: 0.5631 - accuracy: 0.7757 - val_loss: 0.5961 - val_accuracy: 0.7572\n",
            "Epoch 84/500\n",
            "486/486 [==============================] - 8s 16ms/step - loss: 0.5479 - accuracy: 0.7822 - val_loss: 0.6168 - val_accuracy: 0.7613\n",
            "Epoch 85/500\n",
            "486/486 [==============================] - 8s 16ms/step - loss: 0.5566 - accuracy: 0.7791 - val_loss: 0.6008 - val_accuracy: 0.7737\n",
            "Epoch 86/500\n",
            "486/486 [==============================] - 8s 16ms/step - loss: 0.5466 - accuracy: 0.7822 - val_loss: 0.6035 - val_accuracy: 0.7737\n",
            "Epoch 87/500\n",
            "486/486 [==============================] - 8s 16ms/step - loss: 0.5371 - accuracy: 0.7886 - val_loss: 0.6147 - val_accuracy: 0.7695\n",
            "Epoch 88/500\n",
            "486/486 [==============================] - 8s 16ms/step - loss: 0.5445 - accuracy: 0.7836 - val_loss: 0.5867 - val_accuracy: 0.7695\n",
            "Epoch 89/500\n",
            "486/486 [==============================] - 8s 16ms/step - loss: 0.5381 - accuracy: 0.7866 - val_loss: 0.6078 - val_accuracy: 0.7654\n",
            "Epoch 90/500\n",
            "486/486 [==============================] - 8s 16ms/step - loss: 0.5265 - accuracy: 0.7898 - val_loss: 0.5924 - val_accuracy: 0.7819\n",
            "Epoch 91/500\n",
            "486/486 [==============================] - 8s 16ms/step - loss: 0.5112 - accuracy: 0.8016 - val_loss: 0.5996 - val_accuracy: 0.7737\n",
            "Epoch 92/500\n",
            "486/486 [==============================] - 8s 16ms/step - loss: 0.5221 - accuracy: 0.7913 - val_loss: 0.6058 - val_accuracy: 0.7737\n",
            "Epoch 93/500\n",
            "486/486 [==============================] - 8s 16ms/step - loss: 0.5093 - accuracy: 0.8033 - val_loss: 0.5690 - val_accuracy: 0.7860\n",
            "Epoch 94/500\n",
            "486/486 [==============================] - 8s 16ms/step - loss: 0.5122 - accuracy: 0.8039 - val_loss: 0.5879 - val_accuracy: 0.7778\n",
            "Epoch 95/500\n",
            "486/486 [==============================] - 8s 16ms/step - loss: 0.5135 - accuracy: 0.7967 - val_loss: 0.6051 - val_accuracy: 0.7901\n",
            "Epoch 96/500\n",
            "486/486 [==============================] - 8s 16ms/step - loss: 0.5025 - accuracy: 0.8048 - val_loss: 0.6076 - val_accuracy: 0.7778\n",
            "Epoch 97/500\n",
            "486/486 [==============================] - 8s 16ms/step - loss: 0.5009 - accuracy: 0.8005 - val_loss: 0.5721 - val_accuracy: 0.8066\n",
            "Epoch 98/500\n",
            "486/486 [==============================] - 8s 16ms/step - loss: 0.4989 - accuracy: 0.8114 - val_loss: 0.5802 - val_accuracy: 0.7984\n",
            "Epoch 99/500\n",
            "486/486 [==============================] - 8s 16ms/step - loss: 0.4905 - accuracy: 0.8061 - val_loss: 0.5831 - val_accuracy: 0.8025\n",
            "Epoch 100/500\n",
            "486/486 [==============================] - 8s 16ms/step - loss: 0.4894 - accuracy: 0.8101 - val_loss: 0.5588 - val_accuracy: 0.7984\n",
            "Epoch 101/500\n",
            "486/486 [==============================] - 8s 16ms/step - loss: 0.4795 - accuracy: 0.8106 - val_loss: 0.5889 - val_accuracy: 0.7984\n",
            "Epoch 102/500\n",
            "486/486 [==============================] - 8s 16ms/step - loss: 0.4811 - accuracy: 0.8153 - val_loss: 0.5646 - val_accuracy: 0.8148\n",
            "Epoch 103/500\n",
            "486/486 [==============================] - 8s 16ms/step - loss: 0.4773 - accuracy: 0.8162 - val_loss: 0.5743 - val_accuracy: 0.8025\n",
            "Epoch 104/500\n",
            "486/486 [==============================] - 8s 16ms/step - loss: 0.4645 - accuracy: 0.8203 - val_loss: 0.5742 - val_accuracy: 0.7984\n",
            "Epoch 105/500\n",
            "486/486 [==============================] - 8s 16ms/step - loss: 0.4704 - accuracy: 0.8169 - val_loss: 0.5773 - val_accuracy: 0.8189\n",
            "Epoch 106/500\n",
            "486/486 [==============================] - 8s 16ms/step - loss: 0.4837 - accuracy: 0.8083 - val_loss: 0.5579 - val_accuracy: 0.7901\n",
            "Epoch 107/500\n",
            "486/486 [==============================] - 8s 16ms/step - loss: 0.4632 - accuracy: 0.8243 - val_loss: 0.5824 - val_accuracy: 0.8148\n",
            "Epoch 108/500\n",
            "486/486 [==============================] - 8s 16ms/step - loss: 0.4647 - accuracy: 0.8220 - val_loss: 0.5932 - val_accuracy: 0.7654\n",
            "Epoch 109/500\n",
            "486/486 [==============================] - 8s 16ms/step - loss: 0.4639 - accuracy: 0.8207 - val_loss: 0.5714 - val_accuracy: 0.7901\n",
            "Epoch 110/500\n",
            "486/486 [==============================] - 8s 16ms/step - loss: 0.4501 - accuracy: 0.8254 - val_loss: 0.5616 - val_accuracy: 0.8025\n",
            "Epoch 111/500\n",
            "486/486 [==============================] - 8s 16ms/step - loss: 0.4506 - accuracy: 0.8263 - val_loss: 0.5927 - val_accuracy: 0.7942\n",
            "Epoch 112/500\n",
            "486/486 [==============================] - 8s 16ms/step - loss: 0.4470 - accuracy: 0.8252 - val_loss: 0.5624 - val_accuracy: 0.8025\n",
            "Epoch 113/500\n",
            "486/486 [==============================] - 8s 16ms/step - loss: 0.4365 - accuracy: 0.8288 - val_loss: 0.5671 - val_accuracy: 0.7942\n",
            "Epoch 114/500\n",
            "486/486 [==============================] - 8s 16ms/step - loss: 0.4479 - accuracy: 0.8252 - val_loss: 0.5494 - val_accuracy: 0.8189\n",
            "Epoch 115/500\n",
            "486/486 [==============================] - 8s 16ms/step - loss: 0.4427 - accuracy: 0.8294 - val_loss: 0.5527 - val_accuracy: 0.8025\n",
            "Epoch 116/500\n",
            "486/486 [==============================] - 8s 16ms/step - loss: 0.4385 - accuracy: 0.8324 - val_loss: 0.5654 - val_accuracy: 0.7737\n",
            "Epoch 117/500\n",
            "486/486 [==============================] - 8s 16ms/step - loss: 0.4325 - accuracy: 0.8320 - val_loss: 0.5594 - val_accuracy: 0.7860\n",
            "Epoch 118/500\n",
            "486/486 [==============================] - 8s 16ms/step - loss: 0.4392 - accuracy: 0.8325 - val_loss: 0.5729 - val_accuracy: 0.7860\n",
            "Epoch 119/500\n",
            "486/486 [==============================] - 8s 16ms/step - loss: 0.4307 - accuracy: 0.8355 - val_loss: 0.5695 - val_accuracy: 0.7819\n",
            "Epoch 120/500\n",
            "486/486 [==============================] - 8s 16ms/step - loss: 0.4096 - accuracy: 0.8453 - val_loss: 0.5432 - val_accuracy: 0.8148\n",
            "Epoch 121/500\n",
            "486/486 [==============================] - 8s 16ms/step - loss: 0.4090 - accuracy: 0.8423 - val_loss: 0.5669 - val_accuracy: 0.7984\n",
            "Epoch 122/500\n",
            "486/486 [==============================] - 8s 16ms/step - loss: 0.4168 - accuracy: 0.8390 - val_loss: 0.5728 - val_accuracy: 0.8066\n",
            "Epoch 123/500\n",
            "486/486 [==============================] - 8s 16ms/step - loss: 0.4154 - accuracy: 0.8396 - val_loss: 0.5917 - val_accuracy: 0.7819\n",
            "Epoch 124/500\n",
            "486/486 [==============================] - 8s 16ms/step - loss: 0.4123 - accuracy: 0.8423 - val_loss: 0.5624 - val_accuracy: 0.8066\n",
            "Epoch 125/500\n",
            "486/486 [==============================] - 8s 16ms/step - loss: 0.4083 - accuracy: 0.8428 - val_loss: 0.5666 - val_accuracy: 0.8066\n",
            "Epoch 126/500\n",
            "486/486 [==============================] - 8s 16ms/step - loss: 0.4036 - accuracy: 0.8478 - val_loss: 0.5466 - val_accuracy: 0.8066\n",
            "Epoch 127/500\n",
            "486/486 [==============================] - 8s 16ms/step - loss: 0.4068 - accuracy: 0.8455 - val_loss: 0.5506 - val_accuracy: 0.8066\n",
            "Epoch 128/500\n",
            "486/486 [==============================] - 8s 16ms/step - loss: 0.3916 - accuracy: 0.8539 - val_loss: 0.5607 - val_accuracy: 0.7860\n",
            "Epoch 129/500\n",
            "486/486 [==============================] - 8s 16ms/step - loss: 0.3968 - accuracy: 0.8467 - val_loss: 0.5555 - val_accuracy: 0.7942\n",
            "Epoch 130/500\n",
            "486/486 [==============================] - 8s 16ms/step - loss: 0.3992 - accuracy: 0.8484 - val_loss: 0.5965 - val_accuracy: 0.7901\n",
            "Epoch 131/500\n",
            "486/486 [==============================] - 8s 16ms/step - loss: 0.3873 - accuracy: 0.8509 - val_loss: 0.5811 - val_accuracy: 0.7984\n",
            "Epoch 132/500\n",
            "486/486 [==============================] - 8s 16ms/step - loss: 0.3936 - accuracy: 0.8473 - val_loss: 0.5597 - val_accuracy: 0.7778\n",
            "Epoch 133/500\n",
            "486/486 [==============================] - 8s 16ms/step - loss: 0.3804 - accuracy: 0.8540 - val_loss: 0.5453 - val_accuracy: 0.8189\n",
            "Epoch 134/500\n",
            "486/486 [==============================] - 8s 16ms/step - loss: 0.3849 - accuracy: 0.8531 - val_loss: 0.5516 - val_accuracy: 0.7984\n",
            "Epoch 135/500\n",
            "486/486 [==============================] - 8s 16ms/step - loss: 0.3842 - accuracy: 0.8513 - val_loss: 0.5266 - val_accuracy: 0.8107\n",
            "Epoch 136/500\n",
            "486/486 [==============================] - 8s 16ms/step - loss: 0.3749 - accuracy: 0.8565 - val_loss: 0.5661 - val_accuracy: 0.8107\n",
            "Epoch 137/500\n",
            "486/486 [==============================] - 8s 16ms/step - loss: 0.3869 - accuracy: 0.8568 - val_loss: 0.5453 - val_accuracy: 0.7942\n",
            "Epoch 138/500\n",
            "486/486 [==============================] - 8s 16ms/step - loss: 0.3693 - accuracy: 0.8584 - val_loss: 0.5555 - val_accuracy: 0.8107\n",
            "Epoch 139/500\n",
            "486/486 [==============================] - 8s 16ms/step - loss: 0.3681 - accuracy: 0.8565 - val_loss: 0.5428 - val_accuracy: 0.8189\n",
            "Epoch 140/500\n",
            "486/486 [==============================] - 8s 16ms/step - loss: 0.3745 - accuracy: 0.8545 - val_loss: 0.5483 - val_accuracy: 0.8025\n",
            "Epoch 141/500\n",
            "486/486 [==============================] - 8s 16ms/step - loss: 0.3647 - accuracy: 0.8594 - val_loss: 0.5632 - val_accuracy: 0.7901\n",
            "Epoch 142/500\n",
            "486/486 [==============================] - 8s 16ms/step - loss: 0.3624 - accuracy: 0.8601 - val_loss: 0.5576 - val_accuracy: 0.8025\n",
            "Epoch 143/500\n",
            "486/486 [==============================] - 8s 16ms/step - loss: 0.3652 - accuracy: 0.8594 - val_loss: 0.5418 - val_accuracy: 0.8354\n",
            "Epoch 144/500\n",
            "486/486 [==============================] - 8s 16ms/step - loss: 0.3761 - accuracy: 0.8534 - val_loss: 0.6107 - val_accuracy: 0.8025\n",
            "Epoch 145/500\n",
            "486/486 [==============================] - 8s 16ms/step - loss: 0.3554 - accuracy: 0.8682 - val_loss: 0.5626 - val_accuracy: 0.8066\n",
            "Epoch 146/500\n",
            "486/486 [==============================] - 8s 16ms/step - loss: 0.3732 - accuracy: 0.8550 - val_loss: 0.5499 - val_accuracy: 0.8107\n",
            "Epoch 147/500\n",
            "486/486 [==============================] - 8s 17ms/step - loss: 0.3463 - accuracy: 0.8701 - val_loss: 0.5821 - val_accuracy: 0.7942\n",
            "Epoch 148/500\n",
            "486/486 [==============================] - 8s 16ms/step - loss: 0.3452 - accuracy: 0.8702 - val_loss: 0.5569 - val_accuracy: 0.8066\n",
            "Epoch 149/500\n",
            "486/486 [==============================] - 8s 16ms/step - loss: 0.3584 - accuracy: 0.8677 - val_loss: 0.5296 - val_accuracy: 0.8230\n",
            "Epoch 150/500\n",
            "486/486 [==============================] - 8s 16ms/step - loss: 0.3520 - accuracy: 0.8660 - val_loss: 0.5459 - val_accuracy: 0.7901\n",
            "Epoch 151/500\n",
            "486/486 [==============================] - 8s 16ms/step - loss: 0.3529 - accuracy: 0.8675 - val_loss: 0.5418 - val_accuracy: 0.8148\n",
            "Epoch 152/500\n",
            "486/486 [==============================] - 8s 16ms/step - loss: 0.3453 - accuracy: 0.8691 - val_loss: 0.5492 - val_accuracy: 0.7901\n",
            "Epoch 153/500\n",
            "486/486 [==============================] - 8s 16ms/step - loss: 0.3379 - accuracy: 0.8737 - val_loss: 0.5459 - val_accuracy: 0.8230\n",
            "Epoch 154/500\n",
            "486/486 [==============================] - 8s 16ms/step - loss: 0.3456 - accuracy: 0.8722 - val_loss: 0.5521 - val_accuracy: 0.8189\n",
            "Epoch 155/500\n",
            "486/486 [==============================] - 8s 16ms/step - loss: 0.3464 - accuracy: 0.8688 - val_loss: 0.5603 - val_accuracy: 0.7901\n",
            "Epoch 156/500\n",
            "486/486 [==============================] - 8s 16ms/step - loss: 0.3357 - accuracy: 0.8747 - val_loss: 0.5315 - val_accuracy: 0.7984\n",
            "Epoch 157/500\n",
            "486/486 [==============================] - 8s 16ms/step - loss: 0.3332 - accuracy: 0.8756 - val_loss: 0.5595 - val_accuracy: 0.8025\n",
            "Epoch 158/500\n",
            "486/486 [==============================] - 8s 16ms/step - loss: 0.3400 - accuracy: 0.8726 - val_loss: 0.5859 - val_accuracy: 0.7984\n",
            "Epoch 159/500\n",
            "486/486 [==============================] - 8s 16ms/step - loss: 0.3366 - accuracy: 0.8737 - val_loss: 0.5534 - val_accuracy: 0.8148\n",
            "Epoch 160/500\n",
            "486/486 [==============================] - 8s 16ms/step - loss: 0.3363 - accuracy: 0.8727 - val_loss: 0.5402 - val_accuracy: 0.8025\n",
            "Epoch 161/500\n",
            "486/486 [==============================] - 8s 16ms/step - loss: 0.3380 - accuracy: 0.8728 - val_loss: 0.5814 - val_accuracy: 0.7860\n",
            "Epoch 162/500\n",
            "486/486 [==============================] - 8s 16ms/step - loss: 0.3347 - accuracy: 0.8724 - val_loss: 0.5635 - val_accuracy: 0.8272\n",
            "Epoch 163/500\n",
            "486/486 [==============================] - 8s 16ms/step - loss: 0.3254 - accuracy: 0.8814 - val_loss: 0.5597 - val_accuracy: 0.8025\n",
            "Epoch 164/500\n",
            "486/486 [==============================] - 8s 16ms/step - loss: 0.3311 - accuracy: 0.8754 - val_loss: 0.5269 - val_accuracy: 0.8107\n",
            "Epoch 165/500\n",
            "486/486 [==============================] - 8s 16ms/step - loss: 0.3030 - accuracy: 0.8883 - val_loss: 0.5263 - val_accuracy: 0.8025\n",
            "Epoch 166/500\n",
            "486/486 [==============================] - 8s 16ms/step - loss: 0.3268 - accuracy: 0.8737 - val_loss: 0.5327 - val_accuracy: 0.8148\n",
            "Epoch 167/500\n",
            "486/486 [==============================] - 8s 16ms/step - loss: 0.3162 - accuracy: 0.8820 - val_loss: 0.5633 - val_accuracy: 0.8272\n",
            "Epoch 168/500\n",
            "486/486 [==============================] - 8s 16ms/step - loss: 0.3164 - accuracy: 0.8807 - val_loss: 0.5449 - val_accuracy: 0.8189\n",
            "Epoch 169/500\n",
            "486/486 [==============================] - 8s 16ms/step - loss: 0.3168 - accuracy: 0.8782 - val_loss: 0.5442 - val_accuracy: 0.8148\n",
            "Epoch 170/500\n",
            "486/486 [==============================] - 8s 16ms/step - loss: 0.3175 - accuracy: 0.8801 - val_loss: 0.5487 - val_accuracy: 0.8107\n",
            "Epoch 171/500\n",
            "486/486 [==============================] - 8s 16ms/step - loss: 0.3213 - accuracy: 0.8807 - val_loss: 0.5861 - val_accuracy: 0.8148\n",
            "Epoch 172/500\n",
            "486/486 [==============================] - 8s 16ms/step - loss: 0.3106 - accuracy: 0.8850 - val_loss: 0.5668 - val_accuracy: 0.8230\n",
            "Epoch 173/500\n",
            "486/486 [==============================] - 8s 16ms/step - loss: 0.3024 - accuracy: 0.8880 - val_loss: 0.6159 - val_accuracy: 0.8066\n",
            "Epoch 174/500\n",
            "486/486 [==============================] - 8s 16ms/step - loss: 0.3189 - accuracy: 0.8817 - val_loss: 0.5819 - val_accuracy: 0.8025\n",
            "Epoch 175/500\n",
            "486/486 [==============================] - 8s 16ms/step - loss: 0.3133 - accuracy: 0.8796 - val_loss: 0.5558 - val_accuracy: 0.8107\n",
            "Epoch 176/500\n",
            "486/486 [==============================] - 8s 16ms/step - loss: 0.3067 - accuracy: 0.8853 - val_loss: 0.5216 - val_accuracy: 0.8477\n",
            "Epoch 177/500\n",
            "486/486 [==============================] - 8s 16ms/step - loss: 0.3049 - accuracy: 0.8840 - val_loss: 0.5345 - val_accuracy: 0.8148\n",
            "Epoch 178/500\n",
            "486/486 [==============================] - 8s 16ms/step - loss: 0.3121 - accuracy: 0.8836 - val_loss: 0.5537 - val_accuracy: 0.8313\n",
            "Epoch 179/500\n",
            "486/486 [==============================] - 8s 16ms/step - loss: 0.3020 - accuracy: 0.8849 - val_loss: 0.5635 - val_accuracy: 0.8025\n",
            "Epoch 180/500\n",
            "486/486 [==============================] - 8s 17ms/step - loss: 0.3048 - accuracy: 0.8850 - val_loss: 0.5575 - val_accuracy: 0.8230\n",
            "Epoch 181/500\n",
            "486/486 [==============================] - 8s 16ms/step - loss: 0.2908 - accuracy: 0.8948 - val_loss: 0.5795 - val_accuracy: 0.8025\n",
            "Epoch 182/500\n",
            "486/486 [==============================] - 8s 16ms/step - loss: 0.2942 - accuracy: 0.8913 - val_loss: 0.5583 - val_accuracy: 0.8148\n",
            "Epoch 183/500\n",
            "486/486 [==============================] - 8s 16ms/step - loss: 0.3038 - accuracy: 0.8854 - val_loss: 0.5326 - val_accuracy: 0.8148\n",
            "Epoch 184/500\n",
            "486/486 [==============================] - 8s 16ms/step - loss: 0.3113 - accuracy: 0.8862 - val_loss: 0.5280 - val_accuracy: 0.8354\n",
            "Epoch 185/500\n",
            "486/486 [==============================] - 8s 16ms/step - loss: 0.2961 - accuracy: 0.8862 - val_loss: 0.5146 - val_accuracy: 0.8148\n",
            "Epoch 186/500\n",
            "486/486 [==============================] - 8s 16ms/step - loss: 0.2882 - accuracy: 0.8961 - val_loss: 0.5705 - val_accuracy: 0.8025\n",
            "Epoch 187/500\n",
            "486/486 [==============================] - 8s 16ms/step - loss: 0.2926 - accuracy: 0.8895 - val_loss: 0.5693 - val_accuracy: 0.8107\n",
            "Epoch 188/500\n",
            "486/486 [==============================] - 8s 16ms/step - loss: 0.2916 - accuracy: 0.8890 - val_loss: 0.5438 - val_accuracy: 0.8272\n",
            "Epoch 189/500\n",
            "486/486 [==============================] - 8s 16ms/step - loss: 0.3031 - accuracy: 0.8844 - val_loss: 0.5600 - val_accuracy: 0.8230\n",
            "Epoch 190/500\n",
            "486/486 [==============================] - 8s 16ms/step - loss: 0.2880 - accuracy: 0.8930 - val_loss: 0.5471 - val_accuracy: 0.8189\n",
            "Epoch 191/500\n",
            "486/486 [==============================] - 8s 16ms/step - loss: 0.3024 - accuracy: 0.8893 - val_loss: 0.5258 - val_accuracy: 0.8395\n",
            "Epoch 192/500\n",
            "486/486 [==============================] - 8s 16ms/step - loss: 0.2861 - accuracy: 0.8920 - val_loss: 0.5514 - val_accuracy: 0.8272\n",
            "Epoch 193/500\n",
            "486/486 [==============================] - 8s 16ms/step - loss: 0.2790 - accuracy: 0.8939 - val_loss: 0.5647 - val_accuracy: 0.8107\n",
            "Epoch 194/500\n",
            "486/486 [==============================] - 8s 16ms/step - loss: 0.2803 - accuracy: 0.8938 - val_loss: 0.5279 - val_accuracy: 0.8230\n",
            "Epoch 195/500\n",
            "486/486 [==============================] - 8s 16ms/step - loss: 0.2860 - accuracy: 0.8939 - val_loss: 0.5288 - val_accuracy: 0.8313\n",
            "Epoch 196/500\n",
            "486/486 [==============================] - 8s 16ms/step - loss: 0.2886 - accuracy: 0.8937 - val_loss: 0.5560 - val_accuracy: 0.8148\n",
            "Epoch 197/500\n",
            "486/486 [==============================] - 8s 16ms/step - loss: 0.2809 - accuracy: 0.9004 - val_loss: 0.5343 - val_accuracy: 0.8148\n",
            "Epoch 198/500\n",
            "486/486 [==============================] - 8s 16ms/step - loss: 0.2748 - accuracy: 0.8998 - val_loss: 0.5599 - val_accuracy: 0.8230\n",
            "Epoch 199/500\n",
            "486/486 [==============================] - 8s 16ms/step - loss: 0.2684 - accuracy: 0.8995 - val_loss: 0.5489 - val_accuracy: 0.8189\n",
            "Epoch 200/500\n",
            "486/486 [==============================] - 8s 16ms/step - loss: 0.2736 - accuracy: 0.8975 - val_loss: 0.5439 - val_accuracy: 0.8230\n",
            "Epoch 201/500\n",
            "486/486 [==============================] - 8s 16ms/step - loss: 0.2856 - accuracy: 0.8929 - val_loss: 0.5492 - val_accuracy: 0.8107\n",
            "Epoch 202/500\n",
            "486/486 [==============================] - 8s 16ms/step - loss: 0.2640 - accuracy: 0.9016 - val_loss: 0.5411 - val_accuracy: 0.8272\n",
            "Epoch 203/500\n",
            "486/486 [==============================] - 8s 16ms/step - loss: 0.2775 - accuracy: 0.8995 - val_loss: 0.5804 - val_accuracy: 0.8230\n",
            "Epoch 204/500\n",
            "486/486 [==============================] - 8s 16ms/step - loss: 0.2708 - accuracy: 0.8986 - val_loss: 0.5486 - val_accuracy: 0.8189\n",
            "Epoch 205/500\n",
            "486/486 [==============================] - 8s 16ms/step - loss: 0.2695 - accuracy: 0.9025 - val_loss: 0.5572 - val_accuracy: 0.8189\n",
            "Epoch 206/500\n",
            "486/486 [==============================] - 8s 16ms/step - loss: 0.2630 - accuracy: 0.9004 - val_loss: 0.5672 - val_accuracy: 0.8066\n",
            "Epoch 207/500\n",
            "486/486 [==============================] - 8s 16ms/step - loss: 0.2678 - accuracy: 0.9044 - val_loss: 0.5681 - val_accuracy: 0.8272\n",
            "Epoch 208/500\n",
            "486/486 [==============================] - 8s 16ms/step - loss: 0.2775 - accuracy: 0.8966 - val_loss: 0.5476 - val_accuracy: 0.8107\n",
            "Epoch 209/500\n",
            "486/486 [==============================] - 8s 16ms/step - loss: 0.2637 - accuracy: 0.9004 - val_loss: 0.5983 - val_accuracy: 0.8025\n",
            "Epoch 210/500\n",
            "486/486 [==============================] - 8s 16ms/step - loss: 0.2667 - accuracy: 0.9015 - val_loss: 0.5660 - val_accuracy: 0.7984\n",
            "Epoch 211/500\n",
            "486/486 [==============================] - 8s 16ms/step - loss: 0.2796 - accuracy: 0.8978 - val_loss: 0.5423 - val_accuracy: 0.8230\n",
            "Epoch 212/500\n",
            "486/486 [==============================] - 8s 17ms/step - loss: 0.2724 - accuracy: 0.8988 - val_loss: 0.5570 - val_accuracy: 0.8189\n",
            "Epoch 213/500\n",
            "486/486 [==============================] - 8s 17ms/step - loss: 0.2546 - accuracy: 0.9067 - val_loss: 0.5403 - val_accuracy: 0.8354\n",
            "Epoch 214/500\n",
            "486/486 [==============================] - 8s 17ms/step - loss: 0.2585 - accuracy: 0.9035 - val_loss: 0.5489 - val_accuracy: 0.8230\n",
            "Epoch 215/500\n",
            "486/486 [==============================] - 8s 16ms/step - loss: 0.2571 - accuracy: 0.9051 - val_loss: 0.5320 - val_accuracy: 0.8107\n",
            "Epoch 216/500\n",
            "486/486 [==============================] - 8s 17ms/step - loss: 0.2580 - accuracy: 0.9086 - val_loss: 0.5386 - val_accuracy: 0.8189\n",
            "Epoch 217/500\n",
            "486/486 [==============================] - 8s 16ms/step - loss: 0.2480 - accuracy: 0.9056 - val_loss: 0.5938 - val_accuracy: 0.7942\n",
            "Epoch 218/500\n",
            "486/486 [==============================] - 8s 16ms/step - loss: 0.2547 - accuracy: 0.9074 - val_loss: 0.5435 - val_accuracy: 0.8066\n",
            "Epoch 219/500\n",
            "486/486 [==============================] - 8s 17ms/step - loss: 0.2594 - accuracy: 0.9059 - val_loss: 0.5448 - val_accuracy: 0.8189\n",
            "Epoch 220/500\n",
            "486/486 [==============================] - 8s 17ms/step - loss: 0.2477 - accuracy: 0.9044 - val_loss: 0.5992 - val_accuracy: 0.8148\n",
            "Epoch 221/500\n",
            "486/486 [==============================] - 8s 17ms/step - loss: 0.2677 - accuracy: 0.8980 - val_loss: 0.5729 - val_accuracy: 0.8313\n",
            "Epoch 222/500\n",
            "486/486 [==============================] - 8s 16ms/step - loss: 0.2492 - accuracy: 0.9054 - val_loss: 0.5874 - val_accuracy: 0.8107\n",
            "Epoch 223/500\n",
            "486/486 [==============================] - 8s 16ms/step - loss: 0.2505 - accuracy: 0.9092 - val_loss: 0.5738 - val_accuracy: 0.7984\n",
            "Epoch 224/500\n",
            "486/486 [==============================] - 8s 17ms/step - loss: 0.2445 - accuracy: 0.9127 - val_loss: 0.5588 - val_accuracy: 0.8148\n",
            "Epoch 225/500\n",
            "486/486 [==============================] - 8s 17ms/step - loss: 0.2543 - accuracy: 0.9055 - val_loss: 0.5964 - val_accuracy: 0.8148\n",
            "Epoch 226/500\n",
            "486/486 [==============================] - 8s 17ms/step - loss: 0.2623 - accuracy: 0.9072 - val_loss: 0.6204 - val_accuracy: 0.8025\n",
            "Epoch 227/500\n",
            "486/486 [==============================] - 8s 17ms/step - loss: 0.2582 - accuracy: 0.9054 - val_loss: 0.5323 - val_accuracy: 0.8230\n",
            "Epoch 228/500\n",
            "486/486 [==============================] - 8s 17ms/step - loss: 0.2582 - accuracy: 0.9076 - val_loss: 0.5060 - val_accuracy: 0.8272\n",
            "Epoch 229/500\n",
            "486/486 [==============================] - 8s 17ms/step - loss: 0.2458 - accuracy: 0.9059 - val_loss: 0.6248 - val_accuracy: 0.7942\n",
            "Epoch 230/500\n",
            "486/486 [==============================] - 8s 17ms/step - loss: 0.2428 - accuracy: 0.9121 - val_loss: 0.5024 - val_accuracy: 0.8066\n",
            "Epoch 231/500\n",
            "486/486 [==============================] - 8s 16ms/step - loss: 0.2602 - accuracy: 0.9024 - val_loss: 0.5469 - val_accuracy: 0.8189\n",
            "Epoch 232/500\n",
            "486/486 [==============================] - 8s 17ms/step - loss: 0.2372 - accuracy: 0.9095 - val_loss: 0.5417 - val_accuracy: 0.8189\n",
            "Epoch 233/500\n",
            "486/486 [==============================] - 8s 17ms/step - loss: 0.2537 - accuracy: 0.9078 - val_loss: 0.5477 - val_accuracy: 0.8148\n",
            "Epoch 234/500\n",
            "486/486 [==============================] - 8s 17ms/step - loss: 0.2352 - accuracy: 0.9130 - val_loss: 0.5823 - val_accuracy: 0.8189\n",
            "Epoch 235/500\n",
            "486/486 [==============================] - 8s 17ms/step - loss: 0.2477 - accuracy: 0.9087 - val_loss: 0.5290 - val_accuracy: 0.8189\n",
            "Epoch 236/500\n",
            "486/486 [==============================] - 8s 17ms/step - loss: 0.2552 - accuracy: 0.9058 - val_loss: 0.5747 - val_accuracy: 0.8148\n",
            "Epoch 237/500\n",
            "486/486 [==============================] - 8s 17ms/step - loss: 0.2539 - accuracy: 0.9060 - val_loss: 0.5838 - val_accuracy: 0.8189\n",
            "Epoch 238/500\n",
            "486/486 [==============================] - 8s 16ms/step - loss: 0.2425 - accuracy: 0.9109 - val_loss: 0.5938 - val_accuracy: 0.8107\n",
            "Epoch 239/500\n",
            "486/486 [==============================] - 8s 17ms/step - loss: 0.2452 - accuracy: 0.9100 - val_loss: 0.5858 - val_accuracy: 0.8107\n",
            "Epoch 240/500\n",
            "486/486 [==============================] - 9s 18ms/step - loss: 0.2376 - accuracy: 0.9157 - val_loss: 0.5297 - val_accuracy: 0.8230\n",
            "Epoch 241/500\n",
            "486/486 [==============================] - 8s 17ms/step - loss: 0.2288 - accuracy: 0.9165 - val_loss: 0.5657 - val_accuracy: 0.8189\n",
            "Epoch 242/500\n",
            "486/486 [==============================] - 8s 17ms/step - loss: 0.2402 - accuracy: 0.9143 - val_loss: 0.5753 - val_accuracy: 0.8272\n",
            "Epoch 243/500\n",
            "486/486 [==============================] - 9s 18ms/step - loss: 0.2266 - accuracy: 0.9171 - val_loss: 0.5520 - val_accuracy: 0.8354\n",
            "Epoch 244/500\n",
            "486/486 [==============================] - 8s 17ms/step - loss: 0.2363 - accuracy: 0.9126 - val_loss: 0.6242 - val_accuracy: 0.8025\n",
            "Epoch 245/500\n",
            "486/486 [==============================] - 12s 25ms/step - loss: 0.2324 - accuracy: 0.9134 - val_loss: 0.5638 - val_accuracy: 0.8189\n",
            "Epoch 246/500\n",
            "486/486 [==============================] - 9s 18ms/step - loss: 0.2265 - accuracy: 0.9134 - val_loss: 0.5632 - val_accuracy: 0.8272\n",
            "Epoch 247/500\n",
            "486/486 [==============================] - 8s 17ms/step - loss: 0.2305 - accuracy: 0.9150 - val_loss: 0.5286 - val_accuracy: 0.8272\n",
            "Epoch 248/500\n",
            "486/486 [==============================] - 8s 17ms/step - loss: 0.2307 - accuracy: 0.9153 - val_loss: 0.5421 - val_accuracy: 0.8272\n",
            "Epoch 249/500\n",
            "486/486 [==============================] - 8s 17ms/step - loss: 0.2414 - accuracy: 0.9092 - val_loss: 0.5644 - val_accuracy: 0.8189\n",
            "Epoch 250/500\n",
            "486/486 [==============================] - 8s 17ms/step - loss: 0.2282 - accuracy: 0.9171 - val_loss: 0.5888 - val_accuracy: 0.8230\n",
            "Epoch 251/500\n",
            "486/486 [==============================] - 8s 17ms/step - loss: 0.2175 - accuracy: 0.9211 - val_loss: 0.5565 - val_accuracy: 0.8025\n",
            "Epoch 252/500\n",
            "486/486 [==============================] - 9s 18ms/step - loss: 0.2330 - accuracy: 0.9140 - val_loss: 0.5852 - val_accuracy: 0.8313\n",
            "Epoch 253/500\n",
            "486/486 [==============================] - 8s 17ms/step - loss: 0.2326 - accuracy: 0.9174 - val_loss: 0.6017 - val_accuracy: 0.8066\n",
            "Epoch 254/500\n",
            "486/486 [==============================] - 8s 17ms/step - loss: 0.2290 - accuracy: 0.9141 - val_loss: 0.5717 - val_accuracy: 0.8066\n",
            "Epoch 255/500\n",
            "486/486 [==============================] - 8s 17ms/step - loss: 0.2239 - accuracy: 0.9181 - val_loss: 0.5823 - val_accuracy: 0.8066\n",
            "Epoch 256/500\n",
            "486/486 [==============================] - 9s 18ms/step - loss: 0.2273 - accuracy: 0.9177 - val_loss: 0.5840 - val_accuracy: 0.8148\n",
            "Epoch 257/500\n",
            "486/486 [==============================] - 8s 17ms/step - loss: 0.2288 - accuracy: 0.9153 - val_loss: 0.5239 - val_accuracy: 0.8395\n",
            "Epoch 258/500\n",
            "486/486 [==============================] - 11s 22ms/step - loss: 0.2263 - accuracy: 0.9188 - val_loss: 0.5895 - val_accuracy: 0.8066\n",
            "Epoch 259/500\n",
            "486/486 [==============================] - 9s 18ms/step - loss: 0.2235 - accuracy: 0.9143 - val_loss: 0.5242 - val_accuracy: 0.8313\n",
            "Epoch 260/500\n",
            "486/486 [==============================] - 9s 18ms/step - loss: 0.2326 - accuracy: 0.9148 - val_loss: 0.5578 - val_accuracy: 0.8230\n",
            "Epoch 261/500\n",
            "486/486 [==============================] - 8s 17ms/step - loss: 0.2136 - accuracy: 0.9228 - val_loss: 0.5348 - val_accuracy: 0.8313\n",
            "Epoch 262/500\n",
            "486/486 [==============================] - 8s 17ms/step - loss: 0.2294 - accuracy: 0.9126 - val_loss: 0.5202 - val_accuracy: 0.8477\n",
            "Epoch 263/500\n",
            "486/486 [==============================] - 8s 17ms/step - loss: 0.2192 - accuracy: 0.9193 - val_loss: 0.5677 - val_accuracy: 0.8230\n",
            "Epoch 264/500\n",
            "486/486 [==============================] - 8s 17ms/step - loss: 0.2256 - accuracy: 0.9190 - val_loss: 0.5689 - val_accuracy: 0.8230\n",
            "Epoch 265/500\n",
            "486/486 [==============================] - 9s 18ms/step - loss: 0.2232 - accuracy: 0.9203 - val_loss: 0.5630 - val_accuracy: 0.8272\n",
            "Epoch 266/500\n",
            "486/486 [==============================] - 8s 17ms/step - loss: 0.2239 - accuracy: 0.9193 - val_loss: 0.5883 - val_accuracy: 0.8230\n",
            "Epoch 267/500\n",
            "486/486 [==============================] - 8s 17ms/step - loss: 0.2191 - accuracy: 0.9229 - val_loss: 0.5836 - val_accuracy: 0.8189\n",
            "Epoch 268/500\n",
            "486/486 [==============================] - 8s 17ms/step - loss: 0.2176 - accuracy: 0.9222 - val_loss: 0.5901 - val_accuracy: 0.8107\n",
            "Epoch 269/500\n",
            "486/486 [==============================] - 8s 17ms/step - loss: 0.2006 - accuracy: 0.9270 - val_loss: 0.5661 - val_accuracy: 0.8313\n",
            "Epoch 270/500\n",
            "486/486 [==============================] - 8s 17ms/step - loss: 0.2326 - accuracy: 0.9189 - val_loss: 0.5167 - val_accuracy: 0.8272\n",
            "Epoch 271/500\n",
            "486/486 [==============================] - 8s 17ms/step - loss: 0.2191 - accuracy: 0.9174 - val_loss: 0.5642 - val_accuracy: 0.8272\n",
            "Epoch 272/500\n",
            "486/486 [==============================] - 8s 17ms/step - loss: 0.2189 - accuracy: 0.9207 - val_loss: 0.5462 - val_accuracy: 0.8313\n",
            "Epoch 273/500\n",
            "486/486 [==============================] - 9s 18ms/step - loss: 0.2104 - accuracy: 0.9255 - val_loss: 0.5590 - val_accuracy: 0.8230\n",
            "Epoch 274/500\n",
            "486/486 [==============================] - 8s 17ms/step - loss: 0.2149 - accuracy: 0.9219 - val_loss: 0.5656 - val_accuracy: 0.8354\n",
            "Epoch 275/500\n",
            "486/486 [==============================] - 8s 17ms/step - loss: 0.2095 - accuracy: 0.9231 - val_loss: 0.5533 - val_accuracy: 0.8107\n",
            "Epoch 276/500\n",
            "486/486 [==============================] - 9s 18ms/step - loss: 0.2262 - accuracy: 0.9143 - val_loss: 0.5279 - val_accuracy: 0.8354\n",
            "Epoch 277/500\n",
            "486/486 [==============================] - 9s 18ms/step - loss: 0.2046 - accuracy: 0.9251 - val_loss: 0.5840 - val_accuracy: 0.8272\n",
            "Epoch 278/500\n",
            "486/486 [==============================] - 9s 18ms/step - loss: 0.2149 - accuracy: 0.9213 - val_loss: 0.5733 - val_accuracy: 0.8148\n",
            "Epoch 279/500\n",
            "486/486 [==============================] - 9s 18ms/step - loss: 0.2078 - accuracy: 0.9252 - val_loss: 0.5696 - val_accuracy: 0.8395\n",
            "Epoch 280/500\n",
            "486/486 [==============================] - 9s 18ms/step - loss: 0.2050 - accuracy: 0.9231 - val_loss: 0.5897 - val_accuracy: 0.8230\n",
            "Epoch 281/500\n",
            "486/486 [==============================] - 9s 18ms/step - loss: 0.2084 - accuracy: 0.9237 - val_loss: 0.5695 - val_accuracy: 0.8354\n",
            "Epoch 282/500\n",
            "486/486 [==============================] - 9s 18ms/step - loss: 0.2049 - accuracy: 0.9264 - val_loss: 0.5794 - val_accuracy: 0.8313\n",
            "Epoch 283/500\n",
            "486/486 [==============================] - 9s 18ms/step - loss: 0.1938 - accuracy: 0.9334 - val_loss: 0.5635 - val_accuracy: 0.8395\n",
            "Epoch 284/500\n",
            "486/486 [==============================] - 8s 17ms/step - loss: 0.2022 - accuracy: 0.9256 - val_loss: 0.5823 - val_accuracy: 0.8148\n",
            "Epoch 285/500\n",
            "486/486 [==============================] - 8s 17ms/step - loss: 0.2037 - accuracy: 0.9234 - val_loss: 0.6045 - val_accuracy: 0.8189\n",
            "Epoch 286/500\n",
            "486/486 [==============================] - 8s 17ms/step - loss: 0.2240 - accuracy: 0.9213 - val_loss: 0.5282 - val_accuracy: 0.8354\n",
            "Epoch 287/500\n",
            "486/486 [==============================] - 9s 18ms/step - loss: 0.2191 - accuracy: 0.9211 - val_loss: 0.5130 - val_accuracy: 0.8436\n",
            "Epoch 288/500\n",
            "486/486 [==============================] - 8s 17ms/step - loss: 0.2092 - accuracy: 0.9284 - val_loss: 0.5817 - val_accuracy: 0.8148\n",
            "Epoch 289/500\n",
            "486/486 [==============================] - 8s 17ms/step - loss: 0.2158 - accuracy: 0.9208 - val_loss: 0.5843 - val_accuracy: 0.8148\n",
            "Epoch 290/500\n",
            "486/486 [==============================] - 8s 17ms/step - loss: 0.1962 - accuracy: 0.9300 - val_loss: 0.5684 - val_accuracy: 0.8354\n",
            "Epoch 291/500\n",
            "486/486 [==============================] - 8s 17ms/step - loss: 0.2168 - accuracy: 0.9220 - val_loss: 0.6028 - val_accuracy: 0.8148\n",
            "Epoch 292/500\n",
            "486/486 [==============================] - 8s 17ms/step - loss: 0.1959 - accuracy: 0.9322 - val_loss: 0.6116 - val_accuracy: 0.8066\n",
            "Epoch 293/500\n",
            "486/486 [==============================] - 8s 17ms/step - loss: 0.2088 - accuracy: 0.9261 - val_loss: 0.5705 - val_accuracy: 0.8107\n",
            "Epoch 294/500\n",
            "486/486 [==============================] - 9s 17ms/step - loss: 0.2069 - accuracy: 0.9249 - val_loss: 0.5917 - val_accuracy: 0.7942\n",
            "Epoch 295/500\n",
            "486/486 [==============================] - 8s 17ms/step - loss: 0.1955 - accuracy: 0.9293 - val_loss: 0.5363 - val_accuracy: 0.8395\n",
            "Epoch 296/500\n",
            "486/486 [==============================] - 8s 17ms/step - loss: 0.2051 - accuracy: 0.9244 - val_loss: 0.5085 - val_accuracy: 0.8436\n",
            "Epoch 297/500\n",
            "486/486 [==============================] - 9s 18ms/step - loss: 0.1979 - accuracy: 0.9305 - val_loss: 0.5220 - val_accuracy: 0.8313\n",
            "Epoch 298/500\n",
            "486/486 [==============================] - 8s 17ms/step - loss: 0.1999 - accuracy: 0.9253 - val_loss: 0.5836 - val_accuracy: 0.8148\n",
            "Epoch 299/500\n",
            "486/486 [==============================] - 8s 17ms/step - loss: 0.1933 - accuracy: 0.9295 - val_loss: 0.5683 - val_accuracy: 0.8189\n",
            "Epoch 300/500\n",
            "486/486 [==============================] - 8s 17ms/step - loss: 0.1917 - accuracy: 0.9293 - val_loss: 0.5611 - val_accuracy: 0.8395\n",
            "Epoch 301/500\n",
            "486/486 [==============================] - 9s 18ms/step - loss: 0.2151 - accuracy: 0.9235 - val_loss: 0.6015 - val_accuracy: 0.8107\n",
            "Epoch 302/500\n",
            "486/486 [==============================] - 9s 18ms/step - loss: 0.2044 - accuracy: 0.9289 - val_loss: 0.5912 - val_accuracy: 0.8354\n",
            "Epoch 303/500\n",
            "486/486 [==============================] - 9s 18ms/step - loss: 0.1824 - accuracy: 0.9313 - val_loss: 0.6064 - val_accuracy: 0.8313\n",
            "Epoch 304/500\n",
            "486/486 [==============================] - 9s 17ms/step - loss: 0.1935 - accuracy: 0.9316 - val_loss: 0.5642 - val_accuracy: 0.8395\n",
            "Epoch 305/500\n",
            "486/486 [==============================] - 8s 17ms/step - loss: 0.2004 - accuracy: 0.9275 - val_loss: 0.6346 - val_accuracy: 0.8148\n",
            "Epoch 306/500\n",
            "486/486 [==============================] - 8s 17ms/step - loss: 0.1878 - accuracy: 0.9325 - val_loss: 0.5891 - val_accuracy: 0.7984\n",
            "Epoch 307/500\n",
            "486/486 [==============================] - 9s 18ms/step - loss: 0.1877 - accuracy: 0.9296 - val_loss: 0.6298 - val_accuracy: 0.8107\n",
            "Epoch 308/500\n",
            "486/486 [==============================] - 8s 17ms/step - loss: 0.2096 - accuracy: 0.9251 - val_loss: 0.5730 - val_accuracy: 0.8230\n",
            "Epoch 309/500\n",
            "486/486 [==============================] - 8s 17ms/step - loss: 0.2065 - accuracy: 0.9255 - val_loss: 0.6172 - val_accuracy: 0.8107\n",
            "Epoch 310/500\n",
            "486/486 [==============================] - 8s 17ms/step - loss: 0.1986 - accuracy: 0.9292 - val_loss: 0.5731 - val_accuracy: 0.8272\n",
            "Epoch 311/500\n",
            "486/486 [==============================] - 9s 18ms/step - loss: 0.1794 - accuracy: 0.9327 - val_loss: 0.5662 - val_accuracy: 0.8272\n",
            "Epoch 312/500\n",
            "486/486 [==============================] - 8s 17ms/step - loss: 0.2051 - accuracy: 0.9240 - val_loss: 0.5964 - val_accuracy: 0.8189\n",
            "Epoch 313/500\n",
            "486/486 [==============================] - 8s 17ms/step - loss: 0.1989 - accuracy: 0.9252 - val_loss: 0.5418 - val_accuracy: 0.8189\n",
            "Epoch 314/500\n",
            "486/486 [==============================] - 8s 17ms/step - loss: 0.1920 - accuracy: 0.9302 - val_loss: 0.5768 - val_accuracy: 0.8272\n",
            "Epoch 315/500\n",
            "486/486 [==============================] - 8s 17ms/step - loss: 0.1868 - accuracy: 0.9331 - val_loss: 0.6391 - val_accuracy: 0.8107\n",
            "Epoch 316/500\n",
            "486/486 [==============================] - 9s 18ms/step - loss: 0.1956 - accuracy: 0.9260 - val_loss: 0.6095 - val_accuracy: 0.8230\n",
            "Epoch 317/500\n",
            "486/486 [==============================] - 8s 17ms/step - loss: 0.2055 - accuracy: 0.9268 - val_loss: 0.5970 - val_accuracy: 0.8313\n",
            "Epoch 318/500\n",
            "486/486 [==============================] - 8s 17ms/step - loss: 0.1798 - accuracy: 0.9367 - val_loss: 0.6119 - val_accuracy: 0.8148\n",
            "Epoch 319/500\n",
            "486/486 [==============================] - 9s 18ms/step - loss: 0.1970 - accuracy: 0.9280 - val_loss: 0.6193 - val_accuracy: 0.8025\n",
            "Epoch 320/500\n",
            "486/486 [==============================] - 8s 17ms/step - loss: 0.1871 - accuracy: 0.9319 - val_loss: 0.5353 - val_accuracy: 0.8313\n",
            "Epoch 321/500\n",
            "486/486 [==============================] - 8s 17ms/step - loss: 0.1857 - accuracy: 0.9319 - val_loss: 0.5480 - val_accuracy: 0.8313\n",
            "Epoch 322/500\n",
            "486/486 [==============================] - 8s 17ms/step - loss: 0.1894 - accuracy: 0.9307 - val_loss: 0.6018 - val_accuracy: 0.8107\n",
            "Epoch 323/500\n",
            "486/486 [==============================] - 8s 17ms/step - loss: 0.1795 - accuracy: 0.9376 - val_loss: 0.5805 - val_accuracy: 0.8189\n",
            "Epoch 324/500\n",
            "486/486 [==============================] - 8s 17ms/step - loss: 0.1853 - accuracy: 0.9325 - val_loss: 0.5886 - val_accuracy: 0.8354\n",
            "Epoch 325/500\n",
            "486/486 [==============================] - 9s 17ms/step - loss: 0.1869 - accuracy: 0.9345 - val_loss: 0.6313 - val_accuracy: 0.8313\n",
            "Epoch 326/500\n",
            "486/486 [==============================] - 8s 17ms/step - loss: 0.1818 - accuracy: 0.9340 - val_loss: 0.5909 - val_accuracy: 0.8272\n",
            "Epoch 327/500\n",
            "486/486 [==============================] - 9s 18ms/step - loss: 0.1915 - accuracy: 0.9275 - val_loss: 0.6022 - val_accuracy: 0.8313\n",
            "Epoch 328/500\n",
            "486/486 [==============================] - 9s 19ms/step - loss: 0.1876 - accuracy: 0.9296 - val_loss: 0.6264 - val_accuracy: 0.8436\n",
            "Epoch 329/500\n",
            "486/486 [==============================] - 8s 17ms/step - loss: 0.1916 - accuracy: 0.9307 - val_loss: 0.6060 - val_accuracy: 0.8272\n",
            "Epoch 330/500\n",
            "486/486 [==============================] - 8s 17ms/step - loss: 0.1996 - accuracy: 0.9283 - val_loss: 0.6430 - val_accuracy: 0.8066\n",
            "Epoch 331/500\n",
            "486/486 [==============================] - 9s 18ms/step - loss: 0.1918 - accuracy: 0.9296 - val_loss: 0.5619 - val_accuracy: 0.8519\n",
            "Epoch 332/500\n",
            "486/486 [==============================] - 8s 17ms/step - loss: 0.1916 - accuracy: 0.9314 - val_loss: 0.5638 - val_accuracy: 0.8272\n",
            "Epoch 333/500\n",
            "486/486 [==============================] - 8s 17ms/step - loss: 0.1836 - accuracy: 0.9345 - val_loss: 0.5993 - val_accuracy: 0.8148\n",
            "Epoch 334/500\n",
            "486/486 [==============================] - 9s 18ms/step - loss: 0.1848 - accuracy: 0.9369 - val_loss: 0.6224 - val_accuracy: 0.8066\n",
            "Epoch 335/500\n",
            "486/486 [==============================] - 9s 18ms/step - loss: 0.1852 - accuracy: 0.9354 - val_loss: 0.6377 - val_accuracy: 0.8313\n",
            "Epoch 336/500\n",
            "486/486 [==============================] - 8s 17ms/step - loss: 0.1811 - accuracy: 0.9343 - val_loss: 0.5759 - val_accuracy: 0.8313\n",
            "Epoch 337/500\n",
            "486/486 [==============================] - 8s 17ms/step - loss: 0.1769 - accuracy: 0.9346 - val_loss: 0.6367 - val_accuracy: 0.8230\n",
            "Epoch 338/500\n",
            "486/486 [==============================] - 9s 18ms/step - loss: 0.1770 - accuracy: 0.9360 - val_loss: 0.6553 - val_accuracy: 0.8189\n",
            "Epoch 339/500\n",
            "486/486 [==============================] - 8s 17ms/step - loss: 0.1867 - accuracy: 0.9316 - val_loss: 0.6529 - val_accuracy: 0.8189\n",
            "Epoch 340/500\n",
            "486/486 [==============================] - 8s 17ms/step - loss: 0.1977 - accuracy: 0.9309 - val_loss: 0.5750 - val_accuracy: 0.8230\n",
            "Epoch 341/500\n",
            "486/486 [==============================] - 9s 18ms/step - loss: 0.1817 - accuracy: 0.9340 - val_loss: 0.5900 - val_accuracy: 0.8230\n",
            "Epoch 342/500\n",
            "486/486 [==============================] - 8s 17ms/step - loss: 0.1757 - accuracy: 0.9367 - val_loss: 0.5925 - val_accuracy: 0.8354\n",
            "Epoch 343/500\n",
            "486/486 [==============================] - 9s 18ms/step - loss: 0.1814 - accuracy: 0.9351 - val_loss: 0.6435 - val_accuracy: 0.8189\n",
            "Epoch 344/500\n",
            "486/486 [==============================] - 8s 17ms/step - loss: 0.1756 - accuracy: 0.9377 - val_loss: 0.6190 - val_accuracy: 0.8272\n",
            "Epoch 345/500\n",
            "486/486 [==============================] - 8s 17ms/step - loss: 0.1855 - accuracy: 0.9331 - val_loss: 0.6112 - val_accuracy: 0.8272\n",
            "Epoch 346/500\n",
            "486/486 [==============================] - 8s 17ms/step - loss: 0.1739 - accuracy: 0.9361 - val_loss: 0.6207 - val_accuracy: 0.8230\n",
            "Epoch 347/500\n",
            "486/486 [==============================] - 8s 17ms/step - loss: 0.1742 - accuracy: 0.9363 - val_loss: 0.6261 - val_accuracy: 0.8230\n",
            "Epoch 348/500\n",
            "486/486 [==============================] - 8s 17ms/step - loss: 0.1739 - accuracy: 0.9391 - val_loss: 0.5683 - val_accuracy: 0.8148\n",
            "Epoch 349/500\n",
            "486/486 [==============================] - 8s 17ms/step - loss: 0.1688 - accuracy: 0.9412 - val_loss: 0.6031 - val_accuracy: 0.8272\n",
            "Epoch 350/500\n",
            "486/486 [==============================] - 8s 17ms/step - loss: 0.1815 - accuracy: 0.9341 - val_loss: 0.6019 - val_accuracy: 0.8313\n",
            "Epoch 351/500\n",
            "486/486 [==============================] - 9s 18ms/step - loss: 0.1897 - accuracy: 0.9320 - val_loss: 0.6473 - val_accuracy: 0.8189\n",
            "Epoch 352/500\n",
            "486/486 [==============================] - 8s 17ms/step - loss: 0.1788 - accuracy: 0.9343 - val_loss: 0.6247 - val_accuracy: 0.8395\n",
            "Epoch 353/500\n",
            "486/486 [==============================] - 9s 18ms/step - loss: 0.1805 - accuracy: 0.9374 - val_loss: 0.6093 - val_accuracy: 0.8148\n",
            "Epoch 354/500\n",
            "486/486 [==============================] - 9s 18ms/step - loss: 0.1794 - accuracy: 0.9341 - val_loss: 0.5885 - val_accuracy: 0.8354\n",
            "Epoch 355/500\n",
            "486/486 [==============================] - 8s 17ms/step - loss: 0.1695 - accuracy: 0.9385 - val_loss: 0.6123 - val_accuracy: 0.8354\n",
            "Epoch 356/500\n",
            "486/486 [==============================] - 9s 18ms/step - loss: 0.1808 - accuracy: 0.9356 - val_loss: 0.6075 - val_accuracy: 0.8272\n",
            "Epoch 357/500\n",
            "486/486 [==============================] - 9s 18ms/step - loss: 0.1877 - accuracy: 0.9313 - val_loss: 0.6250 - val_accuracy: 0.8066\n",
            "Epoch 358/500\n",
            "486/486 [==============================] - 9s 18ms/step - loss: 0.1830 - accuracy: 0.9304 - val_loss: 0.6154 - val_accuracy: 0.8313\n",
            "Epoch 359/500\n",
            "486/486 [==============================] - 8s 17ms/step - loss: 0.1751 - accuracy: 0.9355 - val_loss: 0.6536 - val_accuracy: 0.8148\n",
            "Epoch 360/500\n",
            "486/486 [==============================] - 8s 17ms/step - loss: 0.1723 - accuracy: 0.9377 - val_loss: 0.6475 - val_accuracy: 0.8066\n",
            "Epoch 361/500\n",
            "486/486 [==============================] - 8s 17ms/step - loss: 0.1765 - accuracy: 0.9381 - val_loss: 0.6187 - val_accuracy: 0.8477\n",
            "Epoch 362/500\n",
            "486/486 [==============================] - 9s 18ms/step - loss: 0.1761 - accuracy: 0.9391 - val_loss: 0.6299 - val_accuracy: 0.8272\n",
            "Epoch 363/500\n",
            "486/486 [==============================] - 9s 18ms/step - loss: 0.1791 - accuracy: 0.9350 - val_loss: 0.6312 - val_accuracy: 0.8272\n",
            "Epoch 364/500\n",
            "486/486 [==============================] - 9s 18ms/step - loss: 0.1738 - accuracy: 0.9394 - val_loss: 0.6352 - val_accuracy: 0.8189\n",
            "Epoch 365/500\n",
            "486/486 [==============================] - 9s 18ms/step - loss: 0.1720 - accuracy: 0.9382 - val_loss: 0.6189 - val_accuracy: 0.8436\n",
            "Epoch 366/500\n",
            "486/486 [==============================] - 8s 17ms/step - loss: 0.1684 - accuracy: 0.9410 - val_loss: 0.6365 - val_accuracy: 0.8313\n",
            "Epoch 367/500\n",
            "486/486 [==============================] - 8s 17ms/step - loss: 0.1564 - accuracy: 0.9427 - val_loss: 0.6534 - val_accuracy: 0.8354\n",
            "Epoch 368/500\n",
            "486/486 [==============================] - 9s 18ms/step - loss: 0.1782 - accuracy: 0.9361 - val_loss: 0.6691 - val_accuracy: 0.8230\n",
            "Epoch 369/500\n",
            "486/486 [==============================] - 8s 17ms/step - loss: 0.1740 - accuracy: 0.9385 - val_loss: 0.6879 - val_accuracy: 0.8230\n",
            "Epoch 370/500\n",
            "486/486 [==============================] - 9s 18ms/step - loss: 0.1718 - accuracy: 0.9376 - val_loss: 0.6384 - val_accuracy: 0.8354\n",
            "Epoch 371/500\n",
            "486/486 [==============================] - 9s 18ms/step - loss: 0.1809 - accuracy: 0.9367 - val_loss: 0.6432 - val_accuracy: 0.8519\n",
            "Epoch 372/500\n",
            "486/486 [==============================] - 9s 18ms/step - loss: 0.1703 - accuracy: 0.9430 - val_loss: 0.6485 - val_accuracy: 0.8272\n",
            "Epoch 373/500\n",
            "486/486 [==============================] - 9s 18ms/step - loss: 0.1715 - accuracy: 0.9369 - val_loss: 0.6284 - val_accuracy: 0.8230\n",
            "Epoch 374/500\n",
            "486/486 [==============================] - 9s 18ms/step - loss: 0.1655 - accuracy: 0.9419 - val_loss: 0.6685 - val_accuracy: 0.8272\n",
            "Epoch 375/500\n",
            "486/486 [==============================] - 8s 17ms/step - loss: 0.1662 - accuracy: 0.9385 - val_loss: 0.6428 - val_accuracy: 0.8148\n",
            "Epoch 376/500\n",
            "486/486 [==============================] - 8s 17ms/step - loss: 0.1619 - accuracy: 0.9413 - val_loss: 0.6167 - val_accuracy: 0.8148\n",
            "Epoch 377/500\n",
            "486/486 [==============================] - 8s 17ms/step - loss: 0.1803 - accuracy: 0.9351 - val_loss: 0.5992 - val_accuracy: 0.8436\n",
            "Epoch 378/500\n",
            "486/486 [==============================] - 9s 18ms/step - loss: 0.1731 - accuracy: 0.9399 - val_loss: 0.6465 - val_accuracy: 0.8066\n",
            "Epoch 379/500\n",
            "486/486 [==============================] - 9s 18ms/step - loss: 0.1711 - accuracy: 0.9408 - val_loss: 0.6468 - val_accuracy: 0.8272\n",
            "Epoch 380/500\n",
            "486/486 [==============================] - 8s 17ms/step - loss: 0.1668 - accuracy: 0.9416 - val_loss: 0.7091 - val_accuracy: 0.8025\n",
            "Epoch 381/500\n",
            "486/486 [==============================] - 8s 17ms/step - loss: 0.1597 - accuracy: 0.9404 - val_loss: 0.6100 - val_accuracy: 0.8354\n",
            "Epoch 382/500\n",
            "486/486 [==============================] - 8s 17ms/step - loss: 0.1624 - accuracy: 0.9385 - val_loss: 0.6071 - val_accuracy: 0.8189\n",
            "Epoch 383/500\n",
            "486/486 [==============================] - 9s 18ms/step - loss: 0.1469 - accuracy: 0.9485 - val_loss: 0.6306 - val_accuracy: 0.8354\n",
            "Epoch 384/500\n",
            "486/486 [==============================] - 8s 17ms/step - loss: 0.1617 - accuracy: 0.9422 - val_loss: 0.6229 - val_accuracy: 0.8477\n",
            "Epoch 385/500\n",
            "486/486 [==============================] - 9s 18ms/step - loss: 0.1647 - accuracy: 0.9436 - val_loss: 0.6692 - val_accuracy: 0.8025\n",
            "Epoch 386/500\n",
            "486/486 [==============================] - 8s 17ms/step - loss: 0.1614 - accuracy: 0.9444 - val_loss: 0.6825 - val_accuracy: 0.8189\n",
            "Epoch 387/500\n",
            "486/486 [==============================] - 8s 17ms/step - loss: 0.1780 - accuracy: 0.9361 - val_loss: 0.6792 - val_accuracy: 0.8189\n",
            "Epoch 388/500\n",
            "486/486 [==============================] - 8s 17ms/step - loss: 0.1676 - accuracy: 0.9409 - val_loss: 0.6490 - val_accuracy: 0.8354\n",
            "Epoch 389/500\n",
            "486/486 [==============================] - 8s 17ms/step - loss: 0.1588 - accuracy: 0.9434 - val_loss: 0.6711 - val_accuracy: 0.8066\n",
            "Epoch 390/500\n",
            "486/486 [==============================] - 8s 17ms/step - loss: 0.1709 - accuracy: 0.9374 - val_loss: 0.6085 - val_accuracy: 0.8354\n",
            "Epoch 391/500\n",
            "486/486 [==============================] - 8s 17ms/step - loss: 0.1682 - accuracy: 0.9395 - val_loss: 0.6081 - val_accuracy: 0.8107\n",
            "Epoch 392/500\n",
            "486/486 [==============================] - 9s 18ms/step - loss: 0.1604 - accuracy: 0.9428 - val_loss: 0.6393 - val_accuracy: 0.8230\n",
            "Epoch 393/500\n",
            "486/486 [==============================] - 8s 17ms/step - loss: 0.1816 - accuracy: 0.9396 - val_loss: 0.6685 - val_accuracy: 0.8148\n",
            "Epoch 394/500\n",
            "486/486 [==============================] - 8s 17ms/step - loss: 0.1572 - accuracy: 0.9426 - val_loss: 0.6647 - val_accuracy: 0.8189\n",
            "Epoch 395/500\n",
            "486/486 [==============================] - 8s 17ms/step - loss: 0.1595 - accuracy: 0.9444 - val_loss: 0.6422 - val_accuracy: 0.8189\n",
            "Epoch 396/500\n",
            "486/486 [==============================] - 8s 17ms/step - loss: 0.1622 - accuracy: 0.9430 - val_loss: 0.6627 - val_accuracy: 0.8313\n",
            "Epoch 397/500\n",
            "486/486 [==============================] - 8s 17ms/step - loss: 0.1619 - accuracy: 0.9416 - val_loss: 0.6155 - val_accuracy: 0.8313\n",
            "Epoch 398/500\n",
            "486/486 [==============================] - 8s 17ms/step - loss: 0.1609 - accuracy: 0.9459 - val_loss: 0.6658 - val_accuracy: 0.8066\n",
            "Epoch 399/500\n",
            "486/486 [==============================] - 8s 17ms/step - loss: 0.1619 - accuracy: 0.9434 - val_loss: 0.6052 - val_accuracy: 0.8313\n",
            "Epoch 400/500\n",
            "486/486 [==============================] - 9s 18ms/step - loss: 0.1630 - accuracy: 0.9421 - val_loss: 0.6422 - val_accuracy: 0.8436\n",
            "Epoch 401/500\n",
            "486/486 [==============================] - 8s 17ms/step - loss: 0.1622 - accuracy: 0.9446 - val_loss: 0.6796 - val_accuracy: 0.8107\n",
            "Epoch 402/500\n",
            "486/486 [==============================] - 8s 17ms/step - loss: 0.1756 - accuracy: 0.9396 - val_loss: 0.6242 - val_accuracy: 0.8189\n",
            "Epoch 403/500\n",
            "486/486 [==============================] - 9s 18ms/step - loss: 0.1716 - accuracy: 0.9412 - val_loss: 0.6175 - val_accuracy: 0.8230\n",
            "Epoch 404/500\n",
            "486/486 [==============================] - 8s 17ms/step - loss: 0.1573 - accuracy: 0.9470 - val_loss: 0.6307 - val_accuracy: 0.8230\n",
            "Epoch 405/500\n",
            "486/486 [==============================] - 8s 17ms/step - loss: 0.1568 - accuracy: 0.9418 - val_loss: 0.6142 - val_accuracy: 0.8354\n",
            "Epoch 406/500\n",
            "486/486 [==============================] - 9s 18ms/step - loss: 0.1618 - accuracy: 0.9436 - val_loss: 0.6615 - val_accuracy: 0.8395\n",
            "Epoch 407/500\n",
            "486/486 [==============================] - 9s 18ms/step - loss: 0.1528 - accuracy: 0.9475 - val_loss: 0.6213 - val_accuracy: 0.8107\n",
            "Epoch 408/500\n",
            "486/486 [==============================] - 8s 17ms/step - loss: 0.1550 - accuracy: 0.9439 - val_loss: 0.6773 - val_accuracy: 0.8066\n",
            "Epoch 409/500\n",
            "486/486 [==============================] - 8s 17ms/step - loss: 0.1587 - accuracy: 0.9430 - val_loss: 0.6875 - val_accuracy: 0.8107\n",
            "Epoch 410/500\n",
            "486/486 [==============================] - 8s 17ms/step - loss: 0.1699 - accuracy: 0.9394 - val_loss: 0.6665 - val_accuracy: 0.8066\n",
            "Epoch 411/500\n",
            "486/486 [==============================] - 9s 18ms/step - loss: 0.1575 - accuracy: 0.9464 - val_loss: 0.6256 - val_accuracy: 0.8230\n",
            "Epoch 412/500\n",
            "486/486 [==============================] - 8s 17ms/step - loss: 0.1710 - accuracy: 0.9377 - val_loss: 0.6227 - val_accuracy: 0.8272\n",
            "Epoch 413/500\n",
            "486/486 [==============================] - 9s 18ms/step - loss: 0.1562 - accuracy: 0.9462 - val_loss: 0.6394 - val_accuracy: 0.8189\n",
            "Epoch 414/500\n",
            "486/486 [==============================] - 9s 18ms/step - loss: 0.1529 - accuracy: 0.9454 - val_loss: 0.6264 - val_accuracy: 0.8313\n",
            "Epoch 415/500\n",
            "486/486 [==============================] - 8s 17ms/step - loss: 0.1649 - accuracy: 0.9436 - val_loss: 0.6864 - val_accuracy: 0.8189\n",
            "Epoch 416/500\n",
            "486/486 [==============================] - 9s 18ms/step - loss: 0.1636 - accuracy: 0.9423 - val_loss: 0.5910 - val_accuracy: 0.8395\n",
            "Epoch 417/500\n",
            "486/486 [==============================] - 8s 17ms/step - loss: 0.1709 - accuracy: 0.9380 - val_loss: 0.6153 - val_accuracy: 0.8189\n",
            "Epoch 418/500\n",
            "486/486 [==============================] - 9s 18ms/step - loss: 0.1504 - accuracy: 0.9462 - val_loss: 0.6503 - val_accuracy: 0.8436\n",
            "Epoch 419/500\n",
            "486/486 [==============================] - 9s 18ms/step - loss: 0.1591 - accuracy: 0.9444 - val_loss: 0.6260 - val_accuracy: 0.8189\n",
            "Epoch 420/500\n",
            "486/486 [==============================] - 9s 18ms/step - loss: 0.1608 - accuracy: 0.9412 - val_loss: 0.6668 - val_accuracy: 0.8272\n",
            "Epoch 421/500\n",
            "486/486 [==============================] - 9s 18ms/step - loss: 0.1613 - accuracy: 0.9408 - val_loss: 0.6516 - val_accuracy: 0.8189\n",
            "Epoch 422/500\n",
            "486/486 [==============================] - 9s 18ms/step - loss: 0.1522 - accuracy: 0.9452 - val_loss: 0.6565 - val_accuracy: 0.8477\n",
            "Epoch 423/500\n",
            "486/486 [==============================] - 9s 18ms/step - loss: 0.1574 - accuracy: 0.9405 - val_loss: 0.6153 - val_accuracy: 0.8230\n",
            "Epoch 424/500\n",
            "486/486 [==============================] - 8s 17ms/step - loss: 0.1502 - accuracy: 0.9462 - val_loss: 0.6139 - val_accuracy: 0.8313\n",
            "Epoch 425/500\n",
            "486/486 [==============================] - 9s 18ms/step - loss: 0.1672 - accuracy: 0.9414 - val_loss: 0.5921 - val_accuracy: 0.8148\n",
            "Epoch 426/500\n",
            "486/486 [==============================] - 9s 18ms/step - loss: 0.1613 - accuracy: 0.9441 - val_loss: 0.7173 - val_accuracy: 0.8025\n",
            "Epoch 427/500\n",
            "486/486 [==============================] - 9s 18ms/step - loss: 0.1666 - accuracy: 0.9413 - val_loss: 0.6482 - val_accuracy: 0.8189\n",
            "Epoch 428/500\n",
            "486/486 [==============================] - 8s 17ms/step - loss: 0.1605 - accuracy: 0.9459 - val_loss: 0.5828 - val_accuracy: 0.8354\n",
            "Epoch 429/500\n",
            "486/486 [==============================] - 9s 18ms/step - loss: 0.1544 - accuracy: 0.9466 - val_loss: 0.6559 - val_accuracy: 0.8107\n",
            "Epoch 430/500\n",
            "486/486 [==============================] - 8s 17ms/step - loss: 0.1562 - accuracy: 0.9461 - val_loss: 0.6204 - val_accuracy: 0.8148\n",
            "Epoch 431/500\n",
            "486/486 [==============================] - 8s 17ms/step - loss: 0.1518 - accuracy: 0.9457 - val_loss: 0.6167 - val_accuracy: 0.8477\n",
            "Epoch 432/500\n",
            "486/486 [==============================] - 9s 18ms/step - loss: 0.1634 - accuracy: 0.9435 - val_loss: 0.6140 - val_accuracy: 0.8189\n",
            "Epoch 433/500\n",
            "486/486 [==============================] - 9s 18ms/step - loss: 0.1478 - accuracy: 0.9466 - val_loss: 0.6160 - val_accuracy: 0.8107\n",
            "Epoch 434/500\n",
            "486/486 [==============================] - 8s 17ms/step - loss: 0.1644 - accuracy: 0.9413 - val_loss: 0.6028 - val_accuracy: 0.8436\n",
            "Epoch 435/500\n",
            "486/486 [==============================] - 9s 18ms/step - loss: 0.1510 - accuracy: 0.9480 - val_loss: 0.6354 - val_accuracy: 0.8107\n",
            "Epoch 436/500\n",
            "486/486 [==============================] - 9s 18ms/step - loss: 0.1566 - accuracy: 0.9430 - val_loss: 0.6255 - val_accuracy: 0.8230\n",
            "Epoch 437/500\n",
            "486/486 [==============================] - 9s 18ms/step - loss: 0.1576 - accuracy: 0.9437 - val_loss: 0.6561 - val_accuracy: 0.8189\n",
            "Epoch 438/500\n",
            "486/486 [==============================] - 8s 17ms/step - loss: 0.1544 - accuracy: 0.9462 - val_loss: 0.6901 - val_accuracy: 0.8230\n",
            "Epoch 439/500\n",
            "486/486 [==============================] - 9s 18ms/step - loss: 0.1520 - accuracy: 0.9484 - val_loss: 0.6282 - val_accuracy: 0.8272\n",
            "Epoch 440/500\n",
            "486/486 [==============================] - 9s 18ms/step - loss: 0.1667 - accuracy: 0.9426 - val_loss: 0.6652 - val_accuracy: 0.8230\n",
            "Epoch 441/500\n",
            "486/486 [==============================] - 9s 18ms/step - loss: 0.1557 - accuracy: 0.9457 - val_loss: 0.6024 - val_accuracy: 0.8272\n",
            "Epoch 442/500\n",
            "486/486 [==============================] - 9s 18ms/step - loss: 0.1606 - accuracy: 0.9437 - val_loss: 0.6499 - val_accuracy: 0.8148\n",
            "Epoch 443/500\n",
            "486/486 [==============================] - 8s 17ms/step - loss: 0.1566 - accuracy: 0.9449 - val_loss: 0.6477 - val_accuracy: 0.8395\n",
            "Epoch 444/500\n",
            "486/486 [==============================] - 9s 18ms/step - loss: 0.1546 - accuracy: 0.9463 - val_loss: 0.6566 - val_accuracy: 0.8313\n",
            "Epoch 445/500\n",
            "486/486 [==============================] - 9s 18ms/step - loss: 0.1489 - accuracy: 0.9467 - val_loss: 0.6873 - val_accuracy: 0.8313\n",
            "Epoch 446/500\n",
            "486/486 [==============================] - 9s 18ms/step - loss: 0.1568 - accuracy: 0.9423 - val_loss: 0.6754 - val_accuracy: 0.8313\n",
            "Epoch 447/500\n",
            "486/486 [==============================] - 9s 18ms/step - loss: 0.1511 - accuracy: 0.9476 - val_loss: 0.6834 - val_accuracy: 0.8395\n",
            "Epoch 448/500\n",
            "486/486 [==============================] - 9s 18ms/step - loss: 0.1516 - accuracy: 0.9468 - val_loss: 0.6473 - val_accuracy: 0.8230\n",
            "Epoch 449/500\n",
            "486/486 [==============================] - 9s 19ms/step - loss: 0.1547 - accuracy: 0.9450 - val_loss: 0.6538 - val_accuracy: 0.8230\n",
            "Epoch 450/500\n",
            "486/486 [==============================] - 9s 18ms/step - loss: 0.1468 - accuracy: 0.9461 - val_loss: 0.6832 - val_accuracy: 0.8395\n",
            "Epoch 451/500\n",
            "486/486 [==============================] - 9s 18ms/step - loss: 0.1477 - accuracy: 0.9453 - val_loss: 0.6483 - val_accuracy: 0.8313\n",
            "Epoch 452/500\n",
            "486/486 [==============================] - 8s 17ms/step - loss: 0.1453 - accuracy: 0.9477 - val_loss: 0.7133 - val_accuracy: 0.8189\n",
            "Epoch 453/500\n",
            "486/486 [==============================] - 9s 18ms/step - loss: 0.1451 - accuracy: 0.9454 - val_loss: 0.6769 - val_accuracy: 0.8230\n",
            "Epoch 454/500\n",
            "486/486 [==============================] - 9s 18ms/step - loss: 0.1536 - accuracy: 0.9498 - val_loss: 0.7149 - val_accuracy: 0.8107\n",
            "Epoch 455/500\n",
            "486/486 [==============================] - 9s 18ms/step - loss: 0.1619 - accuracy: 0.9419 - val_loss: 0.6461 - val_accuracy: 0.8436\n",
            "Epoch 456/500\n",
            "486/486 [==============================] - 9s 18ms/step - loss: 0.1482 - accuracy: 0.9468 - val_loss: 0.6866 - val_accuracy: 0.8272\n",
            "Epoch 457/500\n",
            "486/486 [==============================] - 9s 18ms/step - loss: 0.1527 - accuracy: 0.9471 - val_loss: 0.7037 - val_accuracy: 0.8066\n",
            "Epoch 458/500\n",
            "486/486 [==============================] - 8s 17ms/step - loss: 0.1481 - accuracy: 0.9454 - val_loss: 0.6607 - val_accuracy: 0.8189\n",
            "Epoch 459/500\n",
            "486/486 [==============================] - 9s 17ms/step - loss: 0.1462 - accuracy: 0.9476 - val_loss: 0.7120 - val_accuracy: 0.8189\n",
            "Epoch 460/500\n",
            "486/486 [==============================] - 9s 18ms/step - loss: 0.1463 - accuracy: 0.9503 - val_loss: 0.6620 - val_accuracy: 0.8272\n",
            "Epoch 461/500\n",
            "486/486 [==============================] - 9s 18ms/step - loss: 0.1390 - accuracy: 0.9497 - val_loss: 0.6382 - val_accuracy: 0.8230\n",
            "Epoch 462/500\n",
            "486/486 [==============================] - 9s 18ms/step - loss: 0.1468 - accuracy: 0.9499 - val_loss: 0.6696 - val_accuracy: 0.8354\n",
            "Epoch 463/500\n",
            "486/486 [==============================] - 9s 18ms/step - loss: 0.1595 - accuracy: 0.9466 - val_loss: 0.6238 - val_accuracy: 0.8189\n",
            "Epoch 464/500\n",
            "486/486 [==============================] - 9s 17ms/step - loss: 0.1401 - accuracy: 0.9503 - val_loss: 0.7215 - val_accuracy: 0.8230\n",
            "Epoch 465/500\n",
            "486/486 [==============================] - 9s 18ms/step - loss: 0.1446 - accuracy: 0.9484 - val_loss: 0.7088 - val_accuracy: 0.8313\n",
            "Epoch 466/500\n",
            "486/486 [==============================] - 9s 18ms/step - loss: 0.1562 - accuracy: 0.9473 - val_loss: 0.6567 - val_accuracy: 0.8189\n",
            "Epoch 467/500\n",
            "486/486 [==============================] - 9s 18ms/step - loss: 0.1439 - accuracy: 0.9481 - val_loss: 0.6691 - val_accuracy: 0.8230\n",
            "Epoch 468/500\n",
            "486/486 [==============================] - 9s 18ms/step - loss: 0.1460 - accuracy: 0.9470 - val_loss: 0.6968 - val_accuracy: 0.7778\n",
            "Epoch 469/500\n",
            "486/486 [==============================] - 9s 18ms/step - loss: 0.1517 - accuracy: 0.9472 - val_loss: 0.6361 - val_accuracy: 0.8395\n",
            "Epoch 470/500\n",
            "486/486 [==============================] - 9s 18ms/step - loss: 0.1420 - accuracy: 0.9516 - val_loss: 0.6362 - val_accuracy: 0.8519\n",
            "Epoch 471/500\n",
            "486/486 [==============================] - 9s 18ms/step - loss: 0.1455 - accuracy: 0.9506 - val_loss: 0.6696 - val_accuracy: 0.8189\n",
            "Epoch 472/500\n",
            "486/486 [==============================] - 9s 18ms/step - loss: 0.1400 - accuracy: 0.9501 - val_loss: 0.6768 - val_accuracy: 0.8230\n",
            "Epoch 473/500\n",
            "486/486 [==============================] - 8s 17ms/step - loss: 0.1466 - accuracy: 0.9485 - val_loss: 0.6693 - val_accuracy: 0.8230\n",
            "Epoch 474/500\n",
            "486/486 [==============================] - 9s 18ms/step - loss: 0.1579 - accuracy: 0.9419 - val_loss: 0.6864 - val_accuracy: 0.8272\n",
            "Epoch 475/500\n",
            "486/486 [==============================] - 9s 18ms/step - loss: 0.1452 - accuracy: 0.9488 - val_loss: 0.6759 - val_accuracy: 0.8189\n",
            "Epoch 476/500\n",
            "486/486 [==============================] - 9s 18ms/step - loss: 0.1436 - accuracy: 0.9494 - val_loss: 0.6704 - val_accuracy: 0.8272\n",
            "Epoch 477/500\n",
            "486/486 [==============================] - 9s 18ms/step - loss: 0.1505 - accuracy: 0.9461 - val_loss: 0.6612 - val_accuracy: 0.8230\n",
            "Epoch 478/500\n",
            "486/486 [==============================] - 9s 18ms/step - loss: 0.1474 - accuracy: 0.9470 - val_loss: 0.6218 - val_accuracy: 0.8477\n",
            "Epoch 479/500\n",
            "486/486 [==============================] - 9s 18ms/step - loss: 0.1505 - accuracy: 0.9490 - val_loss: 0.6416 - val_accuracy: 0.8230\n",
            "Epoch 480/500\n",
            "486/486 [==============================] - 9s 18ms/step - loss: 0.1499 - accuracy: 0.9470 - val_loss: 0.6400 - val_accuracy: 0.8230\n",
            "Epoch 481/500\n",
            "486/486 [==============================] - 9s 18ms/step - loss: 0.1503 - accuracy: 0.9481 - val_loss: 0.6426 - val_accuracy: 0.8230\n",
            "Epoch 482/500\n",
            "486/486 [==============================] - 9s 18ms/step - loss: 0.1359 - accuracy: 0.9526 - val_loss: 0.6925 - val_accuracy: 0.8272\n",
            "Epoch 483/500\n",
            "486/486 [==============================] - 9s 18ms/step - loss: 0.1462 - accuracy: 0.9498 - val_loss: 0.6118 - val_accuracy: 0.7984\n",
            "Epoch 484/500\n",
            "486/486 [==============================] - 9s 18ms/step - loss: 0.1497 - accuracy: 0.9459 - val_loss: 0.6391 - val_accuracy: 0.8436\n",
            "Epoch 485/500\n",
            "486/486 [==============================] - 9s 18ms/step - loss: 0.1457 - accuracy: 0.9490 - val_loss: 0.6923 - val_accuracy: 0.8395\n",
            "Epoch 486/500\n",
            "486/486 [==============================] - 9s 18ms/step - loss: 0.1305 - accuracy: 0.9569 - val_loss: 0.6151 - val_accuracy: 0.8519\n",
            "Epoch 487/500\n",
            "486/486 [==============================] - 9s 18ms/step - loss: 0.1526 - accuracy: 0.9439 - val_loss: 0.6251 - val_accuracy: 0.8395\n",
            "Epoch 488/500\n",
            "486/486 [==============================] - 9s 18ms/step - loss: 0.1347 - accuracy: 0.9534 - val_loss: 0.6642 - val_accuracy: 0.8107\n",
            "Epoch 489/500\n",
            "486/486 [==============================] - 9s 18ms/step - loss: 0.1446 - accuracy: 0.9528 - val_loss: 0.6341 - val_accuracy: 0.8272\n",
            "Epoch 490/500\n",
            "486/486 [==============================] - 9s 18ms/step - loss: 0.1406 - accuracy: 0.9494 - val_loss: 0.6610 - val_accuracy: 0.8272\n",
            "Epoch 491/500\n",
            "486/486 [==============================] - 9s 18ms/step - loss: 0.1371 - accuracy: 0.9507 - val_loss: 0.6570 - val_accuracy: 0.8148\n",
            "Epoch 492/500\n",
            "486/486 [==============================] - 9s 18ms/step - loss: 0.1381 - accuracy: 0.9510 - val_loss: 0.6906 - val_accuracy: 0.8189\n",
            "Epoch 493/500\n",
            "486/486 [==============================] - 8s 17ms/step - loss: 0.1405 - accuracy: 0.9526 - val_loss: 0.7171 - val_accuracy: 0.7984\n",
            "Epoch 494/500\n",
            "486/486 [==============================] - 9s 18ms/step - loss: 0.1423 - accuracy: 0.9495 - val_loss: 0.6309 - val_accuracy: 0.8436\n",
            "Epoch 495/500\n",
            "486/486 [==============================] - 9s 18ms/step - loss: 0.1480 - accuracy: 0.9502 - val_loss: 0.7098 - val_accuracy: 0.8189\n",
            "Epoch 496/500\n",
            "486/486 [==============================] - 9s 18ms/step - loss: 0.1332 - accuracy: 0.9497 - val_loss: 0.6738 - val_accuracy: 0.8354\n",
            "Epoch 497/500\n",
            "486/486 [==============================] - 9s 18ms/step - loss: 0.1490 - accuracy: 0.9471 - val_loss: 0.5976 - val_accuracy: 0.8272\n",
            "Epoch 498/500\n",
            "486/486 [==============================] - 9s 18ms/step - loss: 0.1406 - accuracy: 0.9521 - val_loss: 0.6726 - val_accuracy: 0.8189\n",
            "Epoch 499/500\n",
            "486/486 [==============================] - 9s 18ms/step - loss: 0.1535 - accuracy: 0.9461 - val_loss: 0.6915 - val_accuracy: 0.8230\n",
            "Epoch 500/500\n",
            "486/486 [==============================] - 9s 18ms/step - loss: 0.1431 - accuracy: 0.9498 - val_loss: 0.6510 - val_accuracy: 0.8148\n"
          ]
        }
      ]
    },
    {
      "cell_type": "code",
      "source": [
        "ava_acc=np.mean(cnnhistory.history['accuracy']) # numpy assumed imported as np\n",
        "print(ava_acc)"
      ],
      "metadata": {
        "colab": {
          "base_uri": "https://localhost:8080/"
        },
        "id": "Fu7omyRcaIN3",
        "outputId": "9de8c724-6f46-44b0-db2d-01e7fe65f330"
      },
      "execution_count": null,
      "outputs": [
        {
          "output_type": "stream",
          "name": "stdout",
          "text": [
            "0.8582427906692028\n"
          ]
        }
      ]
    },
    {
      "cell_type": "code",
      "source": [
        "plt.plot(cnnhistory.history['loss'])\n",
        "plt.plot(cnnhistory.history['val_loss'])\n",
        "plt.title('model loss')\n",
        "plt.ylabel('loss')\n",
        "plt.xlabel('epoch')\n",
        "plt.legend(['train', 'valid'], loc='upper left')\n",
        "plt.show()"
      ],
      "metadata": {
        "colab": {
          "base_uri": "https://localhost:8080/",
          "height": 295
        },
        "id": "oQYnuaCrDH_A",
        "outputId": "9a674819-7dc3-4f7b-b41c-67565cf3abcc"
      },
      "execution_count": null,
      "outputs": [
        {
          "output_type": "display_data",
          "data": {
            "image/png": "[encoded data removed]",
            "text/plain": [
              "<Figure size 432x288 with 1 Axes>"
            ]
          },
          "metadata": {
            "needs_background": "light"
          }
        }
      ]
    },
    {
      "cell_type": "code",
      "source": [
        "plt.plot(cnnhistory.history['accuracy'])\n",
        "plt.plot(cnnhistory.history['val_accuracy'])\n",
        "plt.title('model accuracy')\n",
        "plt.ylabel('accuracy')\n",
        "plt.xlabel('epoch')\n",
        "plt.legend(['train', 'valid'], loc='upper left')\n",
        "plt.show()"
      ],
      "metadata": {
        "colab": {
          "base_uri": "https://localhost:8080/",
          "height": 295
        },
        "id": "IFkTuO8nDNdq",
        "outputId": "fd4a2fc2-e1c7-4477-f279-e3d5863a3873"
      },
      "execution_count": null,
      "outputs": [
        {
          "output_type": "display_data",
          "data": {
            "image/png": "[encoded data removed]",
            "text/plain": [
              "<Figure size 432x288 with 1 Axes>"
            ]
          },
          "metadata": {
            "needs_background": "light"
          }
        }
      ]
    },
    {
      "cell_type": "code",
      "source": [
        "#predictions = model.predict_classes(x_testcnn)\n",
        "predictions = model.predict(x_test)"
      ],
      "metadata": {
        "id": "A2xtrN5wDQgY"
      },
      "execution_count": null,
      "outputs": []
    },
    {
      "cell_type": "code",
      "source": [
        "predictions"
      ],
      "metadata": {
        "colab": {
          "base_uri": "https://localhost:8080/"
        },
        "id": "_f_ohjXKDUpY",
        "outputId": "0d1f2347-4551-4a0f-ae5a-072e3977503e"
      },
      "execution_count": null,
      "outputs": [
        {
          "output_type": "execute_result",
          "data": {
            "text/plain": [
              "array([[1.17244525e-09, 1.36082812e-09, 3.68658477e-03, 4.89051395e-08,\n",
              "        9.95869815e-01, 4.43583413e-04],\n",
              "       [4.14356293e-07, 3.57410390e-09, 5.33300336e-05, 2.16882545e-05,\n",
              "        9.96729732e-01, 3.19481664e-03],\n",
              "       [4.12691792e-04, 1.17192621e-05, 9.24428999e-01, 1.70444197e-03,\n",
              "        3.56566859e-04, 7.30855241e-02],\n",
              "       ...,\n",
              "       [2.38598601e-04, 9.99490738e-01, 1.40505465e-04, 1.03305960e-04,\n",
              "        1.46054435e-05, 1.21021731e-05],\n",
              "       [4.33894587e-10, 1.17429844e-09, 1.34422572e-03, 4.49764775e-06,\n",
              "        9.01958108e-01, 9.66931432e-02],\n",
              "       [9.99984264e-01, 3.64366280e-11, 3.42513398e-13, 1.19530096e-05,\n",
              "        3.45569947e-06, 2.99028898e-07]], dtype=float32)"
            ]
          },
          "metadata": {},
          "execution_count": 32
        }
      ]
    },
    {
      "cell_type": "code",
      "source": [
        "emo_test"
      ],
      "metadata": {
        "colab": {
          "base_uri": "https://localhost:8080/"
        },
        "id": "cmA2bFgsDW3D",
        "outputId": "464584b3-0098-4a5f-f103-bc2d33285909"
      },
      "execution_count": null,
      "outputs": [
        {
          "output_type": "execute_result",
          "data": {
            "text/plain": [
              "array([4, 4, 2, 3, 0, 3, 4, 4, 5, 3, 3, 4, 4, 1, 0, 3, 2, 1, 1, 5, 4, 5,\n",
              "       3, 0, 0, 3, 2, 0, 4, 4, 3, 1, 2, 0, 4, 3, 5, 1, 4, 4, 1, 5, 1, 4,\n",
              "       0, 4, 2, 5, 5, 1, 4, 3, 5, 5, 5, 0, 5, 3, 0, 5, 2, 2, 2, 1, 3, 1,\n",
              "       3, 1, 5, 2, 4, 0, 1, 1, 4, 4, 2, 5, 0, 0, 5, 5, 4, 4, 5, 2, 2, 5,\n",
              "       1, 5, 3, 4, 2, 3, 5, 3, 3, 3, 3, 3, 0, 4, 5, 5, 2, 4, 1, 0, 5, 1,\n",
              "       4, 2, 0, 3, 5, 4, 3, 4, 2, 1, 2, 4, 3, 5, 1, 1, 5, 2, 0, 1, 1, 3,\n",
              "       1, 3, 2, 3, 1, 3, 2, 3, 2, 3, 5, 2, 3, 3, 5, 2, 4, 5, 5, 2, 0, 5,\n",
              "       0, 4, 5, 2, 4, 1, 5, 3, 4, 4, 2, 0, 0, 1, 3, 4, 4, 0, 2, 0, 1, 3,\n",
              "       3, 5, 5, 4, 4, 2, 0, 4, 2, 1, 1, 5, 4, 3, 0, 4, 1, 1, 3, 0, 2, 1,\n",
              "       4, 3, 2, 1, 3, 5, 0, 1, 2, 3, 5, 0, 4, 3, 5, 0, 1, 5, 2, 5, 4, 4,\n",
              "       0, 3, 4, 0, 5, 3, 5, 3, 4, 2, 1, 5, 2, 1, 3, 5, 4, 5, 2, 1, 1, 5,\n",
              "       0])"
            ]
          },
          "metadata": {},
          "execution_count": 33
        }
      ]
    },
    {
      "cell_type": "code",
      "source": [
        "new_Ytest = emo_test.astype(int)"
      ],
      "metadata": {
        "id": "0PHDKWJWDY3g"
      },
      "execution_count": null,
      "outputs": []
    },
    {
      "cell_type": "code",
      "source": [
        "new_Ytest"
      ],
      "metadata": {
        "colab": {
          "base_uri": "https://localhost:8080/"
        },
        "id": "k68v2i-pDbZE",
        "outputId": "ce76b944-cbeb-4e92-9563-dd3e054a7498"
      },
      "execution_count": null,
      "outputs": [
        {
          "output_type": "execute_result",
          "data": {
            "text/plain": [
              "array([4, 4, 2, 3, 0, 3, 4, 4, 5, 3, 3, 4, 4, 1, 0, 3, 2, 1, 1, 5, 4, 5,\n",
              "       3, 0, 0, 3, 2, 0, 4, 4, 3, 1, 2, 0, 4, 3, 5, 1, 4, 4, 1, 5, 1, 4,\n",
              "       0, 4, 2, 5, 5, 1, 4, 3, 5, 5, 5, 0, 5, 3, 0, 5, 2, 2, 2, 1, 3, 1,\n",
              "       3, 1, 5, 2, 4, 0, 1, 1, 4, 4, 2, 5, 0, 0, 5, 5, 4, 4, 5, 2, 2, 5,\n",
              "       1, 5, 3, 4, 2, 3, 5, 3, 3, 3, 3, 3, 0, 4, 5, 5, 2, 4, 1, 0, 5, 1,\n",
              "       4, 2, 0, 3, 5, 4, 3, 4, 2, 1, 2, 4, 3, 5, 1, 1, 5, 2, 0, 1, 1, 3,\n",
              "       1, 3, 2, 3, 1, 3, 2, 3, 2, 3, 5, 2, 3, 3, 5, 2, 4, 5, 5, 2, 0, 5,\n",
              "       0, 4, 5, 2, 4, 1, 5, 3, 4, 4, 2, 0, 0, 1, 3, 4, 4, 0, 2, 0, 1, 3,\n",
              "       3, 5, 5, 4, 4, 2, 0, 4, 2, 1, 1, 5, 4, 3, 0, 4, 1, 1, 3, 0, 2, 1,\n",
              "       4, 3, 2, 1, 3, 5, 0, 1, 2, 3, 5, 0, 4, 3, 5, 0, 1, 5, 2, 5, 4, 4,\n",
              "       0, 3, 4, 0, 5, 3, 5, 3, 4, 2, 1, 5, 2, 1, 3, 5, 4, 5, 2, 1, 1, 5,\n",
              "       0])"
            ]
          },
          "metadata": {},
          "execution_count": 35
        }
      ]
    },
    {
      "cell_type": "code",
      "source": [
        "preds1=predictions.argmax(axis=1)"
      ],
      "metadata": {
        "id": "VEw0FiZFMcOQ"
      },
      "execution_count": null,
      "outputs": []
    },
    {
      "cell_type": "code",
      "source": [
        "preds1"
      ],
      "metadata": {
        "colab": {
          "base_uri": "https://localhost:8080/"
        },
        "id": "vvyRw0M0NBOb",
        "outputId": "a3879fb9-2b81-4f15-d62f-7f70243aafcd"
      },
      "execution_count": null,
      "outputs": [
        {
          "output_type": "execute_result",
          "data": {
            "text/plain": [
              "array([4, 4, 2, 5, 0, 3, 4, 4, 5, 0, 5, 4, 2, 1, 0, 3, 2, 1, 1, 5, 4, 5,\n",
              "       1, 4, 4, 3, 5, 0, 4, 4, 3, 1, 2, 0, 4, 3, 5, 1, 3, 4, 1, 5, 1, 4,\n",
              "       4, 4, 1, 5, 3, 1, 5, 5, 5, 2, 2, 0, 5, 3, 0, 4, 2, 2, 4, 1, 5, 1,\n",
              "       3, 1, 5, 2, 4, 0, 3, 1, 4, 4, 1, 5, 3, 0, 5, 1, 4, 4, 5, 2, 2, 5,\n",
              "       1, 5, 5, 4, 4, 3, 4, 5, 4, 0, 3, 3, 1, 4, 5, 5, 2, 4, 1, 0, 5, 2,\n",
              "       4, 2, 0, 3, 5, 2, 3, 0, 2, 1, 2, 4, 3, 5, 4, 1, 5, 2, 0, 1, 0, 3,\n",
              "       1, 3, 2, 0, 1, 2, 2, 3, 2, 3, 5, 2, 3, 3, 5, 2, 4, 5, 5, 5, 0, 3,\n",
              "       0, 4, 5, 2, 4, 1, 5, 5, 4, 4, 2, 1, 0, 1, 3, 4, 2, 0, 5, 4, 5, 3,\n",
              "       3, 5, 5, 4, 4, 2, 0, 4, 2, 1, 2, 4, 4, 3, 0, 4, 1, 1, 3, 2, 2, 1,\n",
              "       4, 5, 2, 4, 3, 5, 0, 1, 2, 5, 5, 0, 4, 3, 5, 0, 1, 5, 2, 5, 4, 4,\n",
              "       0, 5, 4, 0, 3, 3, 5, 5, 4, 2, 1, 3, 2, 1, 2, 5, 4, 5, 2, 1, 1, 4,\n",
              "       0])"
            ]
          },
          "metadata": {},
          "execution_count": 37
        }
      ]
    },
    {
      "cell_type": "code",
      "source": [
        "abc = preds1.astype(int).flatten()"
      ],
      "metadata": {
        "id": "H4WEmM60NfQn"
      },
      "execution_count": null,
      "outputs": []
    },
    {
      "cell_type": "code",
      "source": [
        "from sklearn.metrics import confusion_matrix\n",
        "c = confusion_matrix(new_Ytest, abc) \n",
        "c"
      ],
      "metadata": {
        "colab": {
          "base_uri": "https://localhost:8080/"
        },
        "id": "bKEBeEBlFjB8",
        "outputId": "f0242ecb-f969-462d-9ba0-5815c617ee6d"
      },
      "execution_count": null,
      "outputs": [
        {
          "output_type": "execute_result",
          "data": {
            "text/plain": [
              "array([[23,  2,  1,  1,  4,  0],\n",
              "       [ 1, 31,  2,  1,  2,  1],\n",
              "       [ 0,  2, 29,  0,  2,  3],\n",
              "       [ 3,  1,  2, 27,  1, 11],\n",
              "       [ 1,  0,  3,  1, 40,  1],\n",
              "       [ 0,  1,  2,  4,  4, 36]])"
            ]
          },
          "metadata": {},
          "execution_count": 39
        }
      ]
    },
    {
      "cell_type": "code",
      "source": [
        "emo_test"
      ],
      "metadata": {
        "colab": {
          "base_uri": "https://localhost:8080/"
        },
        "id": "m4RjG7LWLSQx",
        "outputId": "c803ba20-4924-43ef-d0a1-9b1559649649"
      },
      "execution_count": null,
      "outputs": [
        {
          "output_type": "execute_result",
          "data": {
            "text/plain": [
              "array([4, 4, 2, 3, 0, 3, 4, 4, 5, 3, 3, 4, 4, 1, 0, 3, 2, 1, 1, 5, 4, 5,\n",
              "       3, 0, 0, 3, 2, 0, 4, 4, 3, 1, 2, 0, 4, 3, 5, 1, 4, 4, 1, 5, 1, 4,\n",
              "       0, 4, 2, 5, 5, 1, 4, 3, 5, 5, 5, 0, 5, 3, 0, 5, 2, 2, 2, 1, 3, 1,\n",
              "       3, 1, 5, 2, 4, 0, 1, 1, 4, 4, 2, 5, 0, 0, 5, 5, 4, 4, 5, 2, 2, 5,\n",
              "       1, 5, 3, 4, 2, 3, 5, 3, 3, 3, 3, 3, 0, 4, 5, 5, 2, 4, 1, 0, 5, 1,\n",
              "       4, 2, 0, 3, 5, 4, 3, 4, 2, 1, 2, 4, 3, 5, 1, 1, 5, 2, 0, 1, 1, 3,\n",
              "       1, 3, 2, 3, 1, 3, 2, 3, 2, 3, 5, 2, 3, 3, 5, 2, 4, 5, 5, 2, 0, 5,\n",
              "       0, 4, 5, 2, 4, 1, 5, 3, 4, 4, 2, 0, 0, 1, 3, 4, 4, 0, 2, 0, 1, 3,\n",
              "       3, 5, 5, 4, 4, 2, 0, 4, 2, 1, 1, 5, 4, 3, 0, 4, 1, 1, 3, 0, 2, 1,\n",
              "       4, 3, 2, 1, 3, 5, 0, 1, 2, 3, 5, 0, 4, 3, 5, 0, 1, 5, 2, 5, 4, 4,\n",
              "       0, 3, 4, 0, 5, 3, 5, 3, 4, 2, 1, 5, 2, 1, 3, 5, 4, 5, 2, 1, 1, 5,\n",
              "       0])"
            ]
          },
          "metadata": {},
          "execution_count": 40
        }
      ]
    },
    {
      "cell_type": "code",
      "source": [
        "model.save('/content/drive/My Drive/graduation project/audio/improvement1/mariam/augmanted_radvass_savee_newlayer_1')\n",
        "print(\"MODEL SAVED\")"
      ],
      "metadata": {
        "colab": {
          "base_uri": "https://localhost:8080/"
        },
        "id": "lsJBNeMWDl6Z",
        "outputId": "226dc1b7-5a5d-4d39-f230-bec3dc077002"
      },
      "execution_count": null,
      "outputs": [
        {
          "output_type": "stream",
          "name": "stdout",
          "text": [
            "INFO:tensorflow:Assets written to: /content/drive/My Drive/graduation project/audio/improvement1/mariam/augmanted_radvass_savee_newlayer_1/assets\n",
            "MODEL SAVED\n"
          ]
        }
      ]
    },
    {
      "cell_type": "code",
      "source": [
        "new_model=keras.models.load_model('/content/drive/My Drive/graduation project/audio/improvement1/mariam/augmanted_radvass_savee_newlayer_1')\n",
        "new_model.summary()"
      ],
      "metadata": {
        "colab": {
          "base_uri": "https://localhost:8080/"
        },
        "id": "Q3KjaO9GDoNl",
        "outputId": "36fab8d7-3f06-46b7-e4ff-a0fc7ac749ff"
      },
      "execution_count": null,
      "outputs": [
        {
          "output_type": "stream",
          "name": "stdout",
          "text": [
            "Model: \"sequential\"\n",
            "_________________________________________________________________\n",
            " Layer (type)                Output Shape              Param #   \n",
            "=================================================================\n",
            " conv1d (Conv1D)             (None, 40, 64)            384       \n",
            "                                                                 \n",
            " activation (Activation)     (None, 40, 64)            0         \n",
            "                                                                 \n",
            " dropout (Dropout)           (None, 40, 64)            0         \n",
            "                                                                 \n",
            " max_pooling1d (MaxPooling1D  (None, 10, 64)           0         \n",
            " )                                                               \n",
            "                                                                 \n",
            " conv1d_1 (Conv1D)           (None, 10, 128)           41088     \n",
            "                                                                 \n",
            " activation_1 (Activation)   (None, 10, 128)           0         \n",
            "                                                                 \n",
            " dropout_1 (Dropout)         (None, 10, 128)           0         \n",
            "                                                                 \n",
            " max_pooling1d_1 (MaxPooling  (None, 2, 128)           0         \n",
            " 1D)                                                             \n",
            "                                                                 \n",
            " conv1d_2 (Conv1D)           (None, 2, 128)            82048     \n",
            "                                                                 \n",
            " activation_2 (Activation)   (None, 2, 128)            0         \n",
            "                                                                 \n",
            " dropout_2 (Dropout)         (None, 2, 128)            0         \n",
            "                                                                 \n",
            " max_pooling1d_2 (MaxPooling  (None, 1, 128)           0         \n",
            " 1D)                                                             \n",
            "                                                                 \n",
            " conv1d_3 (Conv1D)           (None, 1, 256)            164096    \n",
            "                                                                 \n",
            " activation_3 (Activation)   (None, 1, 256)            0         \n",
            "                                                                 \n",
            " dropout_3 (Dropout)         (None, 1, 256)            0         \n",
            "                                                                 \n",
            " flatten (Flatten)           (None, 256)               0         \n",
            "                                                                 \n",
            " dense (Dense)               (None, 6)                 1542      \n",
            "                                                                 \n",
            " activation_4 (Activation)   (None, 6)                 0         \n",
            "                                                                 \n",
            "=================================================================\n",
            "Total params: 289,158\n",
            "Trainable params: 289,158\n",
            "Non-trainable params: 0\n",
            "_________________________________________________________________\n"
          ]
        }
      ]
    },
    {
      "cell_type": "code",
      "source": [
        "loss, acc = new_model.evaluate(x_test, emo_test)\n",
        "print(\"Restored model, accuracy: {:5.2f}%\".format(100*acc))"
      ],
      "metadata": {
        "colab": {
          "base_uri": "https://localhost:8080/"
        },
        "id": "n3kzoqPkDqqS",
        "outputId": "c3ce2c1a-e7e9-4481-d663-9b4e361cb6ba"
      },
      "execution_count": null,
      "outputs": [
        {
          "output_type": "stream",
          "name": "stdout",
          "text": [
            "8/8 [==============================] - 0s 5ms/step - loss: 0.6782 - accuracy: 0.7654\n",
            "Restored model, accuracy: 76.54%\n"
          ]
        }
      ]
    },
    {
      "cell_type": "code",
      "source": [
        "from sklearn.metrics import classification_report, confusion_matrix,accuracy_score\n",
        "import seaborn as sn\n",
        "\n",
        "print(classification_report(emo_test,abc))\n",
        "\n",
        "acc = float(accuracy_score(emo_test,abc))*100\n",
        "print(\"----accuracy score %s ----\" % acc)\n",
        "\n",
        "cm = confusion_matrix(emo_test,abc)\n",
        "#df_cm = pd.DataFrame(cm)\n",
        "class_names = ['neutral','calm', 'happy','sad','angry', 'fearful' ]\n",
        "df_cm = pd.DataFrame(cm, index=class_names, columns=class_names,)\n",
        "sn.heatmap(df_cm, annot=True, fmt='')\n",
        "plt.show()"
      ],
      "metadata": {
        "id": "Yx8ogGOnNneV",
        "colab": {
          "base_uri": "https://localhost:8080/",
          "height": 512
        },
        "outputId": "30d259bf-951b-419b-b99d-f4343b24925d"
      },
      "execution_count": null,
      "outputs": [
        {
          "output_type": "stream",
          "name": "stdout",
          "text": [
            "              precision    recall  f1-score   support\n",
            "\n",
            "           0       0.82      0.74      0.78        31\n",
            "           1       0.84      0.82      0.83        38\n",
            "           2       0.74      0.81      0.77        36\n",
            "           3       0.79      0.60      0.68        45\n",
            "           4       0.75      0.87      0.81        46\n",
            "           5       0.69      0.77      0.73        47\n",
            "\n",
            "    accuracy                           0.77       243\n",
            "   macro avg       0.77      0.77      0.77       243\n",
            "weighted avg       0.77      0.77      0.76       243\n",
            "\n",
            "----accuracy score 76.5432098765432 ----\n"
          ]
        },
        {
          "output_type": "display_data",
          "data": {
            "image/png": "[encoded data removed]",
            "text/plain": [
              "<Figure size 432x288 with 2 Axes>"
            ]
          },
          "metadata": {
            "needs_background": "light"
          }
        }
      ]
    },
    {
      "cell_type": "code",
      "source": [
        ""
      ],
      "metadata": {
        "id": "fJDTGH_OUX0z"
      },
      "execution_count": null,
      "outputs": []
    }
  ]
}