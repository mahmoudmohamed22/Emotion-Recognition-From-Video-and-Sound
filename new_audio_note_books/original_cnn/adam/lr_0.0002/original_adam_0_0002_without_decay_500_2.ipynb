{
  "nbformat": 4,
  "nbformat_minor": 0,
  "metadata": {
    "colab": {
      "name": "original_adam_0.00002_without decay_500_2.ipynb",
      "provenance": [],
      "collapsed_sections": []
    },
    "kernelspec": {
      "name": "python3",
      "display_name": "Python 3"
    },
    "language_info": {
      "name": "python"
    },
    "accelerator": "GPU"
  },
  "cells": [
    {
      "cell_type": "code",
      "execution_count": 1,
      "metadata": {
        "colab": {
          "base_uri": "https://localhost:8080/"
        },
        "id": "9SRCO-a_AlH5",
        "outputId": "e6ce424a-2a56-450a-bb54-fa684f40bcf5"
      },
      "outputs": [
        {
          "output_type": "stream",
          "name": "stdout",
          "text": [
            "Drive already mounted at /content/drive; to attempt to forcibly remount, call drive.mount(\"/content/drive\", force_remount=True).\n"
          ]
        }
      ],
      "source": [
        "from google.colab import drive\n",
        "drive.mount('/content/drive')"
      ]
    },
    {
      "cell_type": "code",
      "source": [
        "!pip install librosa"
      ],
      "metadata": {
        "colab": {
          "base_uri": "https://localhost:8080/"
        },
        "id": "5Lo4mUwG9RMd",
        "outputId": "c2f027ef-525b-4b5e-e7d7-b280dcbab954"
      },
      "execution_count": 2,
      "outputs": [
        {
          "output_type": "stream",
          "name": "stdout",
          "text": [
            "Looking in indexes: https://pypi.org/simple, https://us-python.pkg.dev/colab-wheels/public/simple/\n",
            "Requirement already satisfied: librosa in /usr/local/lib/python3.7/dist-packages (0.8.1)\n",
            "Requirement already satisfied: packaging>=20.0 in /usr/local/lib/python3.7/dist-packages (from librosa) (21.3)\n",
            "Requirement already satisfied: scikit-learn!=0.19.0,>=0.14.0 in /usr/local/lib/python3.7/dist-packages (from librosa) (1.0.2)\n",
            "Requirement already satisfied: decorator>=3.0.0 in /usr/local/lib/python3.7/dist-packages (from librosa) (4.4.2)\n",
            "Requirement already satisfied: audioread>=2.0.0 in /usr/local/lib/python3.7/dist-packages (from librosa) (2.1.9)\n",
            "Requirement already satisfied: resampy>=0.2.2 in /usr/local/lib/python3.7/dist-packages (from librosa) (0.2.2)\n",
            "Requirement already satisfied: scipy>=1.0.0 in /usr/local/lib/python3.7/dist-packages (from librosa) (1.4.1)\n",
            "Requirement already satisfied: numba>=0.43.0 in /usr/local/lib/python3.7/dist-packages (from librosa) (0.51.2)\n",
            "Requirement already satisfied: soundfile>=0.10.2 in /usr/local/lib/python3.7/dist-packages (from librosa) (0.10.3.post1)\n",
            "Requirement already satisfied: numpy>=1.15.0 in /usr/local/lib/python3.7/dist-packages (from librosa) (1.21.6)\n",
            "Requirement already satisfied: joblib>=0.14 in /usr/local/lib/python3.7/dist-packages (from librosa) (1.1.0)\n",
            "Requirement already satisfied: pooch>=1.0 in /usr/local/lib/python3.7/dist-packages (from librosa) (1.6.0)\n",
            "Requirement already satisfied: setuptools in /usr/local/lib/python3.7/dist-packages (from numba>=0.43.0->librosa) (57.4.0)\n",
            "Requirement already satisfied: llvmlite<0.35,>=0.34.0.dev0 in /usr/local/lib/python3.7/dist-packages (from numba>=0.43.0->librosa) (0.34.0)\n",
            "Requirement already satisfied: pyparsing!=3.0.5,>=2.0.2 in /usr/local/lib/python3.7/dist-packages (from packaging>=20.0->librosa) (3.0.9)\n",
            "Requirement already satisfied: requests>=2.19.0 in /usr/local/lib/python3.7/dist-packages (from pooch>=1.0->librosa) (2.23.0)\n",
            "Requirement already satisfied: appdirs>=1.3.0 in /usr/local/lib/python3.7/dist-packages (from pooch>=1.0->librosa) (1.4.4)\n",
            "Requirement already satisfied: idna<3,>=2.5 in /usr/local/lib/python3.7/dist-packages (from requests>=2.19.0->pooch>=1.0->librosa) (2.10)\n",
            "Requirement already satisfied: urllib3!=1.25.0,!=1.25.1,<1.26,>=1.21.1 in /usr/local/lib/python3.7/dist-packages (from requests>=2.19.0->pooch>=1.0->librosa) (1.24.3)\n",
            "Requirement already satisfied: chardet<4,>=3.0.2 in /usr/local/lib/python3.7/dist-packages (from requests>=2.19.0->pooch>=1.0->librosa) (3.0.4)\n",
            "Requirement already satisfied: certifi>=2017.4.17 in /usr/local/lib/python3.7/dist-packages (from requests>=2.19.0->pooch>=1.0->librosa) (2022.5.18.1)\n",
            "Requirement already satisfied: six>=1.3 in /usr/local/lib/python3.7/dist-packages (from resampy>=0.2.2->librosa) (1.15.0)\n",
            "Requirement already satisfied: threadpoolctl>=2.0.0 in /usr/local/lib/python3.7/dist-packages (from scikit-learn!=0.19.0,>=0.14.0->librosa) (3.1.0)\n",
            "Requirement already satisfied: cffi>=1.0 in /usr/local/lib/python3.7/dist-packages (from soundfile>=0.10.2->librosa) (1.15.0)\n",
            "Requirement already satisfied: pycparser in /usr/local/lib/python3.7/dist-packages (from cffi>=1.0->soundfile>=0.10.2->librosa) (2.21)\n"
          ]
        }
      ]
    },
    {
      "cell_type": "code",
      "metadata": {
        "id": "HJjcbxwy46bG",
        "colab": {
          "base_uri": "https://localhost:8080/",
          "height": 17
        },
        "outputId": "434d76f7-9119-4ffb-b8a9-a7443d88522b"
      },
      "source": [
        "# Orignial Notebook: https://github.com/MITESHPUTHRANNEU/Speech-Emotion-Analyzer/blob/master/final_results_gender_test.ipynb\n",
        "# This notebook author: Reza Chu\n",
        "# Last Editing Date: 31st May 2019\n",
        "\n",
        "## Python\n",
        "import os\n",
        "import random\n",
        "import sys\n",
        "\n",
        "import IPython\n",
        "from IPython.display import Audio\n",
        "from IPython.display import Image\n",
        "import matplotlib.pyplot as plt\n",
        "\n",
        "## Package\n",
        "import glob \n",
        "import keras\n",
        "import IPython.display as ipd\n",
        "import librosa\n",
        "import librosa.display\n",
        "import matplotlib.pyplot as plt\n",
        "import numpy as np\n",
        "import pandas as pd\n",
        "import plotly.graph_objs as go\n",
        "import plotly.offline as py\n",
        "import plotly.tools as tls\n",
        "import seaborn as sns\n",
        "import scipy.io.wavfile\n",
        "import tensorflow as tf\n",
        "py.init_notebook_mode(connected=True)\n",
        "\n",
        "## Keras\n",
        "from keras import regularizers\n",
        "from keras.callbacks import ModelCheckpoint, LearningRateScheduler, EarlyStopping\n",
        "from keras.callbacks import  History, ReduceLROnPlateau, CSVLogger\n",
        "from keras.models import Model, Sequential\n",
        "from keras.layers import Dense, Embedding, LSTM\n",
        "from keras.layers import Input, Flatten, Dropout, Activation, BatchNormalization\n",
        "from keras.layers import Conv1D, MaxPooling1D, AveragePooling1D\n",
        "from keras.preprocessing import sequence\n",
        "from keras.preprocessing.sequence import pad_sequences\n",
        "from keras.preprocessing.text import Tokenizer\n",
        "from keras.utils import np_utils\n",
        "from tensorflow.keras.utils import to_categorical\n",
        "\n",
        "## Sklearn\n",
        "from sklearn.metrics import confusion_matrix\n",
        "from sklearn.preprocessing import LabelEncoder\n",
        "\n",
        "## Rest\n",
        "from scipy.fftpack import fft\n",
        "from scipy import signal\n",
        "from scipy.io import wavfile\n",
        "from tqdm import tqdm\n",
        "\n",
        "input_duration=3\n",
        "# % pylab inline"
      ],
      "execution_count": 3,
      "outputs": [
        {
          "output_type": "display_data",
          "data": {
            "text/html": [
              "        <script type=\"text/javascript\">\n",
              "        window.PlotlyConfig = {MathJaxConfig: 'local'};\n",
              "        if (window.MathJax) {MathJax.Hub.Config({SVG: {font: \"STIX-Web\"}});}\n",
              "        if (typeof require !== 'undefined') {\n",
              "        require.undef(\"plotly\");\n",
              "        requirejs.config({\n",
              "            paths: {\n",
              "                'plotly': ['https://cdn.plot.ly/plotly-2.8.3.min']\n",
              "            }\n",
              "        });\n",
              "        require(['plotly'], function(Plotly) {\n",
              "            window._Plotly = Plotly;\n",
              "        });\n",
              "        }\n",
              "        </script>\n",
              "        "
            ]
          },
          "metadata": {}
        }
      ]
    },
    {
      "cell_type": "code",
      "source": [
        "# # Saving joblib files to not load them again with the loop above\n",
        "\n",
        "# import joblib\n",
        "\n",
        "# X_name = 'x.joblib'\n",
        "# y_name = 'y.joblib'\n",
        "# save_dir = '/content/drive/My Drive/graduation project/audio/paper_code/features'\n",
        "\n",
        "# savedX = joblib.dump(X, os.path.join(save_dir, X_name))\n",
        "# savedy = joblib.dump(y, os.path.join(save_dir, y_name))"
      ],
      "metadata": {
        "id": "UCzic8rlDcuk"
      },
      "execution_count": 4,
      "outputs": []
    },
    {
      "cell_type": "code",
      "source": [
        "# # Loading saved models\n",
        "import joblib\n",
        "X = joblib.load('/content/drive/My Drive/graduation project/audio/paper_code/features/x.joblib')\n",
        "y = joblib.load('/content/drive/My Drive/graduation project/audio/paper_code/features/y.joblib')"
      ],
      "metadata": {
        "id": "Q35CN6zDrzg1"
      },
      "execution_count": 5,
      "outputs": []
    },
    {
      "cell_type": "code",
      "source": [
        "X.shape"
      ],
      "metadata": {
        "colab": {
          "base_uri": "https://localhost:8080/"
        },
        "id": "7PSTurzjCo5K",
        "outputId": "d3d181a4-fec8-49a0-ed81-99aacc78c728"
      },
      "execution_count": 6,
      "outputs": [
        {
          "output_type": "execute_result",
          "data": {
            "text/plain": [
              "(2068, 40)"
            ]
          },
          "metadata": {},
          "execution_count": 6
        }
      ]
    },
    {
      "cell_type": "code",
      "source": [
        "from sklearn.model_selection import train_test_split\n",
        "\n",
        "X_train, X_test, y_train, y_test = train_test_split(X,y, test_size=0.1 ,shuffle = True\n",
        "                                                    , random_state=42)\n",
        "X_train , X_valid, y_train, y_valid = train_test_split(X_train,y_train, test_size=0.1112305212 , shuffle = True \n",
        "                                                       , random_state=42)"
      ],
      "metadata": {
        "id": "Ai4Fy5cPCiq1"
      },
      "execution_count": 7,
      "outputs": []
    },
    {
      "cell_type": "code",
      "source": [
        "import numpy as np\n",
        "x_traincnn = np.expand_dims(X_train, axis=2)\n",
        "x_testcnn = np.expand_dims(X_test, axis=2)\n",
        "X_valid= np.expand_dims(X_valid, axis=2)"
      ],
      "metadata": {
        "id": "tp1Fm5K3CEXu"
      },
      "execution_count": 8,
      "outputs": []
    },
    {
      "cell_type": "code",
      "source": [
        "x_traincnn.shape, x_testcnn.shape , X_valid.shape\n",
        "#1861"
      ],
      "metadata": {
        "id": "RI0MxoIPBws5",
        "colab": {
          "base_uri": "https://localhost:8080/"
        },
        "outputId": "1c194472-e062-4fd3-d5e7-153d5a093884"
      },
      "execution_count": 9,
      "outputs": [
        {
          "output_type": "execute_result",
          "data": {
            "text/plain": [
              "((1654, 40, 1), (207, 40, 1), (207, 40, 1))"
            ]
          },
          "metadata": {},
          "execution_count": 9
        }
      ]
    },
    {
      "cell_type": "code",
      "source": [
        "!pip install tensorflow"
      ],
      "metadata": {
        "colab": {
          "base_uri": "https://localhost:8080/"
        },
        "id": "oALhiMUd9G2Y",
        "outputId": "fe537a17-3a51-4a94-e08a-d0a728188b0a"
      },
      "execution_count": 10,
      "outputs": [
        {
          "output_type": "stream",
          "name": "stdout",
          "text": [
            "Looking in indexes: https://pypi.org/simple, https://us-python.pkg.dev/colab-wheels/public/simple/\n",
            "Requirement already satisfied: tensorflow in /usr/local/lib/python3.7/dist-packages (2.8.2+zzzcolab20220527125636)\n",
            "Requirement already satisfied: libclang>=9.0.1 in /usr/local/lib/python3.7/dist-packages (from tensorflow) (14.0.1)\n",
            "Requirement already satisfied: absl-py>=0.4.0 in /usr/local/lib/python3.7/dist-packages (from tensorflow) (1.0.0)\n",
            "Requirement already satisfied: numpy>=1.20 in /usr/local/lib/python3.7/dist-packages (from tensorflow) (1.21.6)\n",
            "Requirement already satisfied: six>=1.12.0 in /usr/local/lib/python3.7/dist-packages (from tensorflow) (1.15.0)\n",
            "Requirement already satisfied: google-pasta>=0.1.1 in /usr/local/lib/python3.7/dist-packages (from tensorflow) (0.2.0)\n",
            "Requirement already satisfied: typing-extensions>=3.6.6 in /usr/local/lib/python3.7/dist-packages (from tensorflow) (4.2.0)\n",
            "Requirement already satisfied: protobuf<3.20,>=3.9.2 in /usr/local/lib/python3.7/dist-packages (from tensorflow) (3.17.3)\n",
            "Requirement already satisfied: setuptools in /usr/local/lib/python3.7/dist-packages (from tensorflow) (57.4.0)\n",
            "Requirement already satisfied: keras<2.9,>=2.8.0rc0 in /usr/local/lib/python3.7/dist-packages (from tensorflow) (2.8.0)\n",
            "Requirement already satisfied: h5py>=2.9.0 in /usr/local/lib/python3.7/dist-packages (from tensorflow) (3.1.0)\n",
            "Requirement already satisfied: tensorflow-estimator<2.9,>=2.8 in /usr/local/lib/python3.7/dist-packages (from tensorflow) (2.8.0)\n",
            "Requirement already satisfied: wrapt>=1.11.0 in /usr/local/lib/python3.7/dist-packages (from tensorflow) (1.14.1)\n",
            "Requirement already satisfied: flatbuffers>=1.12 in /usr/local/lib/python3.7/dist-packages (from tensorflow) (2.0)\n",
            "Requirement already satisfied: tensorboard<2.9,>=2.8 in /usr/local/lib/python3.7/dist-packages (from tensorflow) (2.8.0)\n",
            "Requirement already satisfied: grpcio<2.0,>=1.24.3 in /usr/local/lib/python3.7/dist-packages (from tensorflow) (1.46.3)\n",
            "Requirement already satisfied: opt-einsum>=2.3.2 in /usr/local/lib/python3.7/dist-packages (from tensorflow) (3.3.0)\n",
            "Requirement already satisfied: tensorflow-io-gcs-filesystem>=0.23.1 in /usr/local/lib/python3.7/dist-packages (from tensorflow) (0.26.0)\n",
            "Requirement already satisfied: astunparse>=1.6.0 in /usr/local/lib/python3.7/dist-packages (from tensorflow) (1.6.3)\n",
            "Requirement already satisfied: keras-preprocessing>=1.1.1 in /usr/local/lib/python3.7/dist-packages (from tensorflow) (1.1.2)\n",
            "Requirement already satisfied: termcolor>=1.1.0 in /usr/local/lib/python3.7/dist-packages (from tensorflow) (1.1.0)\n",
            "Requirement already satisfied: gast>=0.2.1 in /usr/local/lib/python3.7/dist-packages (from tensorflow) (0.5.3)\n",
            "Requirement already satisfied: wheel<1.0,>=0.23.0 in /usr/local/lib/python3.7/dist-packages (from astunparse>=1.6.0->tensorflow) (0.37.1)\n",
            "Requirement already satisfied: cached-property in /usr/local/lib/python3.7/dist-packages (from h5py>=2.9.0->tensorflow) (1.5.2)\n",
            "Requirement already satisfied: google-auth<3,>=1.6.3 in /usr/local/lib/python3.7/dist-packages (from tensorboard<2.9,>=2.8->tensorflow) (1.35.0)\n",
            "Requirement already satisfied: tensorboard-plugin-wit>=1.6.0 in /usr/local/lib/python3.7/dist-packages (from tensorboard<2.9,>=2.8->tensorflow) (1.8.1)\n",
            "Requirement already satisfied: werkzeug>=0.11.15 in /usr/local/lib/python3.7/dist-packages (from tensorboard<2.9,>=2.8->tensorflow) (1.0.1)\n",
            "Requirement already satisfied: markdown>=2.6.8 in /usr/local/lib/python3.7/dist-packages (from tensorboard<2.9,>=2.8->tensorflow) (3.3.7)\n",
            "Requirement already satisfied: requests<3,>=2.21.0 in /usr/local/lib/python3.7/dist-packages (from tensorboard<2.9,>=2.8->tensorflow) (2.23.0)\n",
            "Requirement already satisfied: google-auth-oauthlib<0.5,>=0.4.1 in /usr/local/lib/python3.7/dist-packages (from tensorboard<2.9,>=2.8->tensorflow) (0.4.6)\n",
            "Requirement already satisfied: tensorboard-data-server<0.7.0,>=0.6.0 in /usr/local/lib/python3.7/dist-packages (from tensorboard<2.9,>=2.8->tensorflow) (0.6.1)\n",
            "Requirement already satisfied: rsa<5,>=3.1.4 in /usr/local/lib/python3.7/dist-packages (from google-auth<3,>=1.6.3->tensorboard<2.9,>=2.8->tensorflow) (4.8)\n",
            "Requirement already satisfied: pyasn1-modules>=0.2.1 in /usr/local/lib/python3.7/dist-packages (from google-auth<3,>=1.6.3->tensorboard<2.9,>=2.8->tensorflow) (0.2.8)\n",
            "Requirement already satisfied: cachetools<5.0,>=2.0.0 in /usr/local/lib/python3.7/dist-packages (from google-auth<3,>=1.6.3->tensorboard<2.9,>=2.8->tensorflow) (4.2.4)\n",
            "Requirement already satisfied: requests-oauthlib>=0.7.0 in /usr/local/lib/python3.7/dist-packages (from google-auth-oauthlib<0.5,>=0.4.1->tensorboard<2.9,>=2.8->tensorflow) (1.3.1)\n",
            "Requirement already satisfied: importlib-metadata>=4.4 in /usr/local/lib/python3.7/dist-packages (from markdown>=2.6.8->tensorboard<2.9,>=2.8->tensorflow) (4.11.4)\n",
            "Requirement already satisfied: zipp>=0.5 in /usr/local/lib/python3.7/dist-packages (from importlib-metadata>=4.4->markdown>=2.6.8->tensorboard<2.9,>=2.8->tensorflow) (3.8.0)\n",
            "Requirement already satisfied: pyasn1<0.5.0,>=0.4.6 in /usr/local/lib/python3.7/dist-packages (from pyasn1-modules>=0.2.1->google-auth<3,>=1.6.3->tensorboard<2.9,>=2.8->tensorflow) (0.4.8)\n",
            "Requirement already satisfied: chardet<4,>=3.0.2 in /usr/local/lib/python3.7/dist-packages (from requests<3,>=2.21.0->tensorboard<2.9,>=2.8->tensorflow) (3.0.4)\n",
            "Requirement already satisfied: idna<3,>=2.5 in /usr/local/lib/python3.7/dist-packages (from requests<3,>=2.21.0->tensorboard<2.9,>=2.8->tensorflow) (2.10)\n",
            "Requirement already satisfied: certifi>=2017.4.17 in /usr/local/lib/python3.7/dist-packages (from requests<3,>=2.21.0->tensorboard<2.9,>=2.8->tensorflow) (2022.5.18.1)\n",
            "Requirement already satisfied: urllib3!=1.25.0,!=1.25.1,<1.26,>=1.21.1 in /usr/local/lib/python3.7/dist-packages (from requests<3,>=2.21.0->tensorboard<2.9,>=2.8->tensorflow) (1.24.3)\n",
            "Requirement already satisfied: oauthlib>=3.0.0 in /usr/local/lib/python3.7/dist-packages (from requests-oauthlib>=0.7.0->google-auth-oauthlib<0.5,>=0.4.1->tensorboard<2.9,>=2.8->tensorflow) (3.2.0)\n"
          ]
        }
      ]
    },
    {
      "cell_type": "code",
      "source": [
        "import keras\n",
        "import numpy as np\n",
        "import matplotlib.pyplot as plt\n",
        "import tensorflow as tf\n",
        "from keras.preprocessing import sequence\n",
        "from keras.models import Sequential\n",
        "from keras.layers import Dense, Embedding\n",
        "from tensorflow.keras.utils import to_categorical\n",
        "from keras.layers import Input, Flatten, Dropout, Activation\n",
        "from keras.layers import Conv1D, MaxPooling1D\n",
        "from keras.models import Model\n",
        "from keras.callbacks import ModelCheckpoint\n",
        "from tensorflow.keras import optimizers\n",
        "\n",
        "model = Sequential()\n",
        "\n",
        "model.add(Conv1D(128, 8,padding='same', #classifier.add(Convolution2D(64, (3, 3), padding = 'same', input_shape = (128, 128, 3), activation = 'relu'))\n",
        "                 input_shape=(40,1)))\n",
        "model.add(Activation('relu'))\n",
        "model.add(Dropout(0.3))\n",
        "model.add(MaxPooling1D(pool_size=(5)))\n",
        "\n",
        "\n",
        "model.add(Conv1D(256,8,padding='same',))\n",
        "model.add(Activation('relu'))\n",
        "model.add(Dropout(0.3))\n",
        "model.add(MaxPooling1D(pool_size=(5)))\n",
        "\n",
        "model.add(Flatten())\n",
        "\n",
        "model.add(Dense(256))\n",
        "model.add(Activation('relu'))\n",
        "model.add(Dense(256))\n",
        "model.add(Activation('relu'))\n",
        "\n",
        "model.add(Dense(6))\n",
        "model.add(Activation('softmax'))\n",
        "\n",
        "opt = tf.keras.optimizers.Adam(lr=0.0002 , decay=0.0)\n",
        "#opt = tf.keras.optimizers.RMSprop(lr=0.0001, rho=0.9, epsilon=1e-07, decay=0.0)\n",
        "#opt = tf.keras.optimizers.SGD(lr=0.001, momentum=0.0, decay=0.0, nesterov=False)"
      ],
      "metadata": {
        "id": "g74fXWVAC4Cr",
        "colab": {
          "base_uri": "https://localhost:8080/"
        },
        "outputId": "0b6cfe5c-e658-4c8b-978a-8f2e11257151"
      },
      "execution_count": 11,
      "outputs": [
        {
          "output_type": "stream",
          "name": "stderr",
          "text": [
            "/usr/local/lib/python3.7/dist-packages/keras/optimizer_v2/adam.py:105: UserWarning:\n",
            "\n",
            "The `lr` argument is deprecated, use `learning_rate` instead.\n",
            "\n"
          ]
        }
      ]
    },
    {
      "cell_type": "code",
      "source": [
        "model.summary()"
      ],
      "metadata": {
        "colab": {
          "base_uri": "https://localhost:8080/"
        },
        "id": "H6ukOxAGC_I4",
        "outputId": "99a28faa-c41e-4d56-92cf-5a26ebcbac85"
      },
      "execution_count": 12,
      "outputs": [
        {
          "output_type": "stream",
          "name": "stdout",
          "text": [
            "Model: \"sequential\"\n",
            "_________________________________________________________________\n",
            " Layer (type)                Output Shape              Param #   \n",
            "=================================================================\n",
            " conv1d (Conv1D)             (None, 40, 128)           1152      \n",
            "                                                                 \n",
            " activation (Activation)     (None, 40, 128)           0         \n",
            "                                                                 \n",
            " dropout (Dropout)           (None, 40, 128)           0         \n",
            "                                                                 \n",
            " max_pooling1d (MaxPooling1D  (None, 8, 128)           0         \n",
            " )                                                               \n",
            "                                                                 \n",
            " conv1d_1 (Conv1D)           (None, 8, 256)            262400    \n",
            "                                                                 \n",
            " activation_1 (Activation)   (None, 8, 256)            0         \n",
            "                                                                 \n",
            " dropout_1 (Dropout)         (None, 8, 256)            0         \n",
            "                                                                 \n",
            " max_pooling1d_1 (MaxPooling  (None, 1, 256)           0         \n",
            " 1D)                                                             \n",
            "                                                                 \n",
            " flatten (Flatten)           (None, 256)               0         \n",
            "                                                                 \n",
            " dense (Dense)               (None, 256)               65792     \n",
            "                                                                 \n",
            " activation_2 (Activation)   (None, 256)               0         \n",
            "                                                                 \n",
            " dense_1 (Dense)             (None, 256)               65792     \n",
            "                                                                 \n",
            " activation_3 (Activation)   (None, 256)               0         \n",
            "                                                                 \n",
            " dense_2 (Dense)             (None, 6)                 1542      \n",
            "                                                                 \n",
            " activation_4 (Activation)   (None, 6)                 0         \n",
            "                                                                 \n",
            "=================================================================\n",
            "Total params: 396,678\n",
            "Trainable params: 396,678\n",
            "Non-trainable params: 0\n",
            "_________________________________________________________________\n"
          ]
        }
      ]
    },
    {
      "cell_type": "code",
      "source": [
        "model.compile(loss='sparse_categorical_crossentropy',\n",
        "              optimizer=opt,\n",
        "              metrics=['accuracy'])"
      ],
      "metadata": {
        "id": "AbMlLNk4DCBM"
      },
      "execution_count": 13,
      "outputs": []
    },
    {
      "cell_type": "code",
      "source": [
        "# Create an Instance of Early Stopping Callback.\n",
        "early_stopping_callback = EarlyStopping(monitor = 'val_loss', patience = 25, mode = 'min', restore_best_weights = True)\n",
        "\n",
        "cnnhistory=model.fit(x_traincnn, y_train, batch_size=16, epochs=500 , shuffle = True, \n",
        "                     validation_data=(X_valid, y_valid) , callbacks = [early_stopping_callback])"
      ],
      "metadata": {
        "colab": {
          "base_uri": "https://localhost:8080/"
        },
        "id": "RI1v2AuADFhy",
        "outputId": "28255e87-c893-44d4-c76a-696d7e69f4e5"
      },
      "execution_count": 14,
      "outputs": [
        {
          "output_type": "stream",
          "name": "stdout",
          "text": [
            "Epoch 1/500\n",
            "104/104 [==============================] - 5s 12ms/step - loss: 4.6193 - accuracy: 0.1590 - val_loss: 1.8827 - val_accuracy: 0.1739\n",
            "Epoch 2/500\n",
            "104/104 [==============================] - 1s 7ms/step - loss: 2.4782 - accuracy: 0.2056 - val_loss: 1.7773 - val_accuracy: 0.2126\n",
            "Epoch 3/500\n",
            "104/104 [==============================] - 1s 8ms/step - loss: 2.1666 - accuracy: 0.2140 - val_loss: 1.7246 - val_accuracy: 0.2271\n",
            "Epoch 4/500\n",
            "104/104 [==============================] - 1s 6ms/step - loss: 1.9800 - accuracy: 0.2279 - val_loss: 1.6965 - val_accuracy: 0.3478\n",
            "Epoch 5/500\n",
            "104/104 [==============================] - 1s 8ms/step - loss: 1.9403 - accuracy: 0.2249 - val_loss: 1.7044 - val_accuracy: 0.3140\n",
            "Epoch 6/500\n",
            "104/104 [==============================] - 1s 7ms/step - loss: 1.8575 - accuracy: 0.2364 - val_loss: 1.6956 - val_accuracy: 0.2560\n",
            "Epoch 7/500\n",
            "104/104 [==============================] - 1s 7ms/step - loss: 1.8108 - accuracy: 0.2455 - val_loss: 1.6696 - val_accuracy: 0.2754\n",
            "Epoch 8/500\n",
            "104/104 [==============================] - 1s 7ms/step - loss: 1.7619 - accuracy: 0.2666 - val_loss: 1.6596 - val_accuracy: 0.3140\n",
            "Epoch 9/500\n",
            "104/104 [==============================] - 1s 7ms/step - loss: 1.7378 - accuracy: 0.2763 - val_loss: 1.7035 - val_accuracy: 0.2367\n",
            "Epoch 10/500\n",
            "104/104 [==============================] - 1s 8ms/step - loss: 1.7300 - accuracy: 0.2817 - val_loss: 1.6333 - val_accuracy: 0.3478\n",
            "Epoch 11/500\n",
            "104/104 [==============================] - 1s 8ms/step - loss: 1.6883 - accuracy: 0.2866 - val_loss: 1.6160 - val_accuracy: 0.2899\n",
            "Epoch 12/500\n",
            "104/104 [==============================] - 1s 7ms/step - loss: 1.6522 - accuracy: 0.2902 - val_loss: 1.5845 - val_accuracy: 0.3865\n",
            "Epoch 13/500\n",
            "104/104 [==============================] - 1s 7ms/step - loss: 1.6496 - accuracy: 0.3126 - val_loss: 1.5786 - val_accuracy: 0.3671\n",
            "Epoch 14/500\n",
            "104/104 [==============================] - 1s 7ms/step - loss: 1.6003 - accuracy: 0.3077 - val_loss: 1.5760 - val_accuracy: 0.3043\n",
            "Epoch 15/500\n",
            "104/104 [==============================] - 1s 7ms/step - loss: 1.6229 - accuracy: 0.3168 - val_loss: 1.5995 - val_accuracy: 0.3333\n",
            "Epoch 16/500\n",
            "104/104 [==============================] - 1s 8ms/step - loss: 1.5755 - accuracy: 0.3343 - val_loss: 1.5599 - val_accuracy: 0.3768\n",
            "Epoch 17/500\n",
            "104/104 [==============================] - 1s 8ms/step - loss: 1.5512 - accuracy: 0.3585 - val_loss: 1.5140 - val_accuracy: 0.3478\n",
            "Epoch 18/500\n",
            "104/104 [==============================] - 1s 7ms/step - loss: 1.5254 - accuracy: 0.3628 - val_loss: 1.4751 - val_accuracy: 0.4106\n",
            "Epoch 19/500\n",
            "104/104 [==============================] - 1s 7ms/step - loss: 1.4929 - accuracy: 0.3821 - val_loss: 1.4729 - val_accuracy: 0.4203\n",
            "Epoch 20/500\n",
            "104/104 [==============================] - 1s 8ms/step - loss: 1.4637 - accuracy: 0.3936 - val_loss: 1.4227 - val_accuracy: 0.4589\n",
            "Epoch 21/500\n",
            "104/104 [==============================] - 1s 7ms/step - loss: 1.4684 - accuracy: 0.4051 - val_loss: 1.4953 - val_accuracy: 0.3623\n",
            "Epoch 22/500\n",
            "104/104 [==============================] - 1s 7ms/step - loss: 1.4263 - accuracy: 0.4063 - val_loss: 1.3961 - val_accuracy: 0.4348\n",
            "Epoch 23/500\n",
            "104/104 [==============================] - 1s 8ms/step - loss: 1.3923 - accuracy: 0.4178 - val_loss: 1.3511 - val_accuracy: 0.4493\n",
            "Epoch 24/500\n",
            "104/104 [==============================] - 1s 7ms/step - loss: 1.3673 - accuracy: 0.4395 - val_loss: 1.3200 - val_accuracy: 0.4879\n",
            "Epoch 25/500\n",
            "104/104 [==============================] - 1s 6ms/step - loss: 1.3365 - accuracy: 0.4571 - val_loss: 1.3043 - val_accuracy: 0.4541\n",
            "Epoch 26/500\n",
            "104/104 [==============================] - 1s 7ms/step - loss: 1.3276 - accuracy: 0.4577 - val_loss: 1.3026 - val_accuracy: 0.4928\n",
            "Epoch 27/500\n",
            "104/104 [==============================] - 1s 6ms/step - loss: 1.2840 - accuracy: 0.4776 - val_loss: 1.2740 - val_accuracy: 0.4734\n",
            "Epoch 28/500\n",
            "104/104 [==============================] - 0s 4ms/step - loss: 1.2830 - accuracy: 0.4800 - val_loss: 1.2214 - val_accuracy: 0.5072\n",
            "Epoch 29/500\n",
            "104/104 [==============================] - 0s 4ms/step - loss: 1.2401 - accuracy: 0.4994 - val_loss: 1.2157 - val_accuracy: 0.5362\n",
            "Epoch 30/500\n",
            "104/104 [==============================] - 0s 4ms/step - loss: 1.2442 - accuracy: 0.4825 - val_loss: 1.2309 - val_accuracy: 0.4976\n",
            "Epoch 31/500\n",
            "104/104 [==============================] - 0s 4ms/step - loss: 1.1957 - accuracy: 0.5097 - val_loss: 1.1921 - val_accuracy: 0.5507\n",
            "Epoch 32/500\n",
            "104/104 [==============================] - 0s 4ms/step - loss: 1.1986 - accuracy: 0.5048 - val_loss: 1.2218 - val_accuracy: 0.5169\n",
            "Epoch 33/500\n",
            "104/104 [==============================] - 0s 4ms/step - loss: 1.1849 - accuracy: 0.5308 - val_loss: 1.1479 - val_accuracy: 0.6039\n",
            "Epoch 34/500\n",
            "104/104 [==============================] - 0s 4ms/step - loss: 1.1463 - accuracy: 0.5272 - val_loss: 1.1068 - val_accuracy: 0.5845\n",
            "Epoch 35/500\n",
            "104/104 [==============================] - 0s 4ms/step - loss: 1.1391 - accuracy: 0.5381 - val_loss: 1.1300 - val_accuracy: 0.5797\n",
            "Epoch 36/500\n",
            "104/104 [==============================] - 0s 5ms/step - loss: 1.1350 - accuracy: 0.5326 - val_loss: 1.1208 - val_accuracy: 0.5700\n",
            "Epoch 37/500\n",
            "104/104 [==============================] - 0s 5ms/step - loss: 1.1209 - accuracy: 0.5381 - val_loss: 1.0800 - val_accuracy: 0.6087\n",
            "Epoch 38/500\n",
            "104/104 [==============================] - 0s 4ms/step - loss: 1.0790 - accuracy: 0.5568 - val_loss: 1.0904 - val_accuracy: 0.5894\n",
            "Epoch 39/500\n",
            "104/104 [==============================] - 0s 4ms/step - loss: 1.1077 - accuracy: 0.5520 - val_loss: 1.0629 - val_accuracy: 0.6329\n",
            "Epoch 40/500\n",
            "104/104 [==============================] - 0s 5ms/step - loss: 1.0820 - accuracy: 0.5538 - val_loss: 1.0599 - val_accuracy: 0.6232\n",
            "Epoch 41/500\n",
            "104/104 [==============================] - 0s 4ms/step - loss: 1.0338 - accuracy: 0.5979 - val_loss: 0.9995 - val_accuracy: 0.6425\n",
            "Epoch 42/500\n",
            "104/104 [==============================] - 0s 4ms/step - loss: 1.0314 - accuracy: 0.5828 - val_loss: 1.0238 - val_accuracy: 0.6329\n",
            "Epoch 43/500\n",
            "104/104 [==============================] - 0s 4ms/step - loss: 1.0085 - accuracy: 0.5883 - val_loss: 1.0382 - val_accuracy: 0.5845\n",
            "Epoch 44/500\n",
            "104/104 [==============================] - 0s 4ms/step - loss: 1.0153 - accuracy: 0.5828 - val_loss: 0.9980 - val_accuracy: 0.6087\n",
            "Epoch 45/500\n",
            "104/104 [==============================] - 0s 4ms/step - loss: 1.0020 - accuracy: 0.5925 - val_loss: 0.9989 - val_accuracy: 0.6280\n",
            "Epoch 46/500\n",
            "104/104 [==============================] - 0s 4ms/step - loss: 0.9550 - accuracy: 0.6276 - val_loss: 1.0167 - val_accuracy: 0.6377\n",
            "Epoch 47/500\n",
            "104/104 [==============================] - 0s 5ms/step - loss: 0.9620 - accuracy: 0.5979 - val_loss: 0.9352 - val_accuracy: 0.6957\n",
            "Epoch 48/500\n",
            "104/104 [==============================] - 0s 4ms/step - loss: 0.9337 - accuracy: 0.6161 - val_loss: 0.9906 - val_accuracy: 0.6135\n",
            "Epoch 49/500\n",
            "104/104 [==============================] - 0s 4ms/step - loss: 0.9584 - accuracy: 0.6143 - val_loss: 0.9866 - val_accuracy: 0.6425\n",
            "Epoch 50/500\n",
            "104/104 [==============================] - 0s 4ms/step - loss: 0.9318 - accuracy: 0.6173 - val_loss: 0.9200 - val_accuracy: 0.6667\n",
            "Epoch 51/500\n",
            "104/104 [==============================] - 0s 4ms/step - loss: 0.9086 - accuracy: 0.6288 - val_loss: 0.9434 - val_accuracy: 0.6473\n",
            "Epoch 52/500\n",
            "104/104 [==============================] - 0s 4ms/step - loss: 0.9062 - accuracy: 0.6312 - val_loss: 0.8954 - val_accuracy: 0.6473\n",
            "Epoch 53/500\n",
            "104/104 [==============================] - 0s 4ms/step - loss: 0.9027 - accuracy: 0.6300 - val_loss: 0.9864 - val_accuracy: 0.6135\n",
            "Epoch 54/500\n",
            "104/104 [==============================] - 0s 4ms/step - loss: 0.9218 - accuracy: 0.6197 - val_loss: 0.8892 - val_accuracy: 0.6667\n",
            "Epoch 55/500\n",
            "104/104 [==============================] - 0s 4ms/step - loss: 0.8686 - accuracy: 0.6511 - val_loss: 0.8771 - val_accuracy: 0.6957\n",
            "Epoch 56/500\n",
            "104/104 [==============================] - 0s 4ms/step - loss: 0.8412 - accuracy: 0.6663 - val_loss: 0.8691 - val_accuracy: 0.6715\n",
            "Epoch 57/500\n",
            "104/104 [==============================] - 0s 5ms/step - loss: 0.8605 - accuracy: 0.6536 - val_loss: 0.8688 - val_accuracy: 0.6522\n",
            "Epoch 58/500\n",
            "104/104 [==============================] - 0s 4ms/step - loss: 0.8497 - accuracy: 0.6644 - val_loss: 0.8816 - val_accuracy: 0.6812\n",
            "Epoch 59/500\n",
            "104/104 [==============================] - 0s 4ms/step - loss: 0.8562 - accuracy: 0.6560 - val_loss: 0.8811 - val_accuracy: 0.6908\n",
            "Epoch 60/500\n",
            "104/104 [==============================] - 0s 4ms/step - loss: 0.8361 - accuracy: 0.6741 - val_loss: 0.8454 - val_accuracy: 0.6860\n",
            "Epoch 61/500\n",
            "104/104 [==============================] - 0s 4ms/step - loss: 0.8713 - accuracy: 0.6548 - val_loss: 0.9377 - val_accuracy: 0.6425\n",
            "Epoch 62/500\n",
            "104/104 [==============================] - 0s 4ms/step - loss: 0.8090 - accuracy: 0.6735 - val_loss: 0.8286 - val_accuracy: 0.7005\n",
            "Epoch 63/500\n",
            "104/104 [==============================] - 0s 4ms/step - loss: 0.8006 - accuracy: 0.6790 - val_loss: 0.8808 - val_accuracy: 0.6715\n",
            "Epoch 64/500\n",
            "104/104 [==============================] - 0s 4ms/step - loss: 0.7945 - accuracy: 0.6941 - val_loss: 0.7872 - val_accuracy: 0.7391\n",
            "Epoch 65/500\n",
            "104/104 [==============================] - 0s 4ms/step - loss: 0.7903 - accuracy: 0.6735 - val_loss: 0.8369 - val_accuracy: 0.7246\n",
            "Epoch 66/500\n",
            "104/104 [==============================] - 0s 4ms/step - loss: 0.7831 - accuracy: 0.6923 - val_loss: 0.8017 - val_accuracy: 0.7150\n",
            "Epoch 67/500\n",
            "104/104 [==============================] - 0s 4ms/step - loss: 0.7842 - accuracy: 0.6796 - val_loss: 0.8225 - val_accuracy: 0.6908\n",
            "Epoch 68/500\n",
            "104/104 [==============================] - 0s 4ms/step - loss: 0.7717 - accuracy: 0.6874 - val_loss: 0.7825 - val_accuracy: 0.7391\n",
            "Epoch 69/500\n",
            "104/104 [==============================] - 0s 5ms/step - loss: 0.7696 - accuracy: 0.6904 - val_loss: 0.7546 - val_accuracy: 0.7295\n",
            "Epoch 70/500\n",
            "104/104 [==============================] - 1s 6ms/step - loss: 0.7427 - accuracy: 0.7080 - val_loss: 0.7964 - val_accuracy: 0.7005\n",
            "Epoch 71/500\n",
            "104/104 [==============================] - 1s 6ms/step - loss: 0.7579 - accuracy: 0.6977 - val_loss: 0.8431 - val_accuracy: 0.6812\n",
            "Epoch 72/500\n",
            "104/104 [==============================] - 1s 6ms/step - loss: 0.7437 - accuracy: 0.7044 - val_loss: 0.8575 - val_accuracy: 0.6618\n",
            "Epoch 73/500\n",
            "104/104 [==============================] - 1s 6ms/step - loss: 0.7594 - accuracy: 0.7019 - val_loss: 0.8270 - val_accuracy: 0.7150\n",
            "Epoch 74/500\n",
            "104/104 [==============================] - 1s 6ms/step - loss: 0.7295 - accuracy: 0.7098 - val_loss: 0.7622 - val_accuracy: 0.7391\n",
            "Epoch 75/500\n",
            "104/104 [==============================] - 0s 4ms/step - loss: 0.7214 - accuracy: 0.7104 - val_loss: 0.8331 - val_accuracy: 0.6812\n",
            "Epoch 76/500\n",
            "104/104 [==============================] - 0s 4ms/step - loss: 0.7177 - accuracy: 0.7110 - val_loss: 0.8144 - val_accuracy: 0.7101\n",
            "Epoch 77/500\n",
            "104/104 [==============================] - 0s 4ms/step - loss: 0.7483 - accuracy: 0.6953 - val_loss: 0.7714 - val_accuracy: 0.7246\n",
            "Epoch 78/500\n",
            "104/104 [==============================] - 0s 4ms/step - loss: 0.6466 - accuracy: 0.7406 - val_loss: 0.7305 - val_accuracy: 0.7150\n",
            "Epoch 79/500\n",
            "104/104 [==============================] - 0s 5ms/step - loss: 0.6881 - accuracy: 0.7255 - val_loss: 0.7509 - val_accuracy: 0.7343\n",
            "Epoch 80/500\n",
            "104/104 [==============================] - 0s 4ms/step - loss: 0.6624 - accuracy: 0.7406 - val_loss: 0.7402 - val_accuracy: 0.7488\n",
            "Epoch 81/500\n",
            "104/104 [==============================] - 0s 4ms/step - loss: 0.6789 - accuracy: 0.7201 - val_loss: 0.7771 - val_accuracy: 0.7198\n",
            "Epoch 82/500\n",
            "104/104 [==============================] - 0s 4ms/step - loss: 0.6794 - accuracy: 0.7279 - val_loss: 0.7429 - val_accuracy: 0.7246\n",
            "Epoch 83/500\n",
            "104/104 [==============================] - 0s 4ms/step - loss: 0.6875 - accuracy: 0.7364 - val_loss: 0.8086 - val_accuracy: 0.6860\n",
            "Epoch 84/500\n",
            "104/104 [==============================] - 0s 4ms/step - loss: 0.6427 - accuracy: 0.7467 - val_loss: 0.7467 - val_accuracy: 0.7295\n",
            "Epoch 85/500\n",
            "104/104 [==============================] - 0s 4ms/step - loss: 0.6261 - accuracy: 0.7557 - val_loss: 0.7393 - val_accuracy: 0.7536\n",
            "Epoch 86/500\n",
            "104/104 [==============================] - 0s 4ms/step - loss: 0.6553 - accuracy: 0.7370 - val_loss: 0.7094 - val_accuracy: 0.7778\n",
            "Epoch 87/500\n",
            "104/104 [==============================] - 0s 4ms/step - loss: 0.6398 - accuracy: 0.7418 - val_loss: 0.7102 - val_accuracy: 0.7440\n",
            "Epoch 88/500\n",
            "104/104 [==============================] - 0s 4ms/step - loss: 0.5971 - accuracy: 0.7769 - val_loss: 0.7092 - val_accuracy: 0.7198\n",
            "Epoch 89/500\n",
            "104/104 [==============================] - 0s 4ms/step - loss: 0.6012 - accuracy: 0.7594 - val_loss: 0.7041 - val_accuracy: 0.7633\n",
            "Epoch 90/500\n",
            "104/104 [==============================] - 0s 4ms/step - loss: 0.6067 - accuracy: 0.7636 - val_loss: 0.7173 - val_accuracy: 0.7536\n",
            "Epoch 91/500\n",
            "104/104 [==============================] - 0s 4ms/step - loss: 0.6052 - accuracy: 0.7630 - val_loss: 0.7137 - val_accuracy: 0.7391\n",
            "Epoch 92/500\n",
            "104/104 [==============================] - 0s 5ms/step - loss: 0.5836 - accuracy: 0.7745 - val_loss: 0.6966 - val_accuracy: 0.7343\n",
            "Epoch 93/500\n",
            "104/104 [==============================] - 0s 5ms/step - loss: 0.5686 - accuracy: 0.7703 - val_loss: 0.6791 - val_accuracy: 0.7633\n",
            "Epoch 94/500\n",
            "104/104 [==============================] - 0s 4ms/step - loss: 0.6056 - accuracy: 0.7642 - val_loss: 0.7084 - val_accuracy: 0.7440\n",
            "Epoch 95/500\n",
            "104/104 [==============================] - 0s 4ms/step - loss: 0.5817 - accuracy: 0.7630 - val_loss: 0.7273 - val_accuracy: 0.7391\n",
            "Epoch 96/500\n",
            "104/104 [==============================] - 0s 4ms/step - loss: 0.5798 - accuracy: 0.7739 - val_loss: 0.7117 - val_accuracy: 0.7246\n",
            "Epoch 97/500\n",
            "104/104 [==============================] - 0s 4ms/step - loss: 0.5704 - accuracy: 0.7775 - val_loss: 0.6765 - val_accuracy: 0.7729\n",
            "Epoch 98/500\n",
            "104/104 [==============================] - 0s 4ms/step - loss: 0.5505 - accuracy: 0.7793 - val_loss: 0.6846 - val_accuracy: 0.7488\n",
            "Epoch 99/500\n",
            "104/104 [==============================] - 0s 4ms/step - loss: 0.5300 - accuracy: 0.7817 - val_loss: 0.7054 - val_accuracy: 0.7440\n",
            "Epoch 100/500\n",
            "104/104 [==============================] - 0s 4ms/step - loss: 0.5262 - accuracy: 0.7963 - val_loss: 0.7030 - val_accuracy: 0.7488\n",
            "Epoch 101/500\n",
            "104/104 [==============================] - 0s 4ms/step - loss: 0.5168 - accuracy: 0.7975 - val_loss: 0.7245 - val_accuracy: 0.7198\n",
            "Epoch 102/500\n",
            "104/104 [==============================] - 0s 4ms/step - loss: 0.5567 - accuracy: 0.7745 - val_loss: 0.6655 - val_accuracy: 0.7778\n",
            "Epoch 103/500\n",
            "104/104 [==============================] - 0s 4ms/step - loss: 0.5105 - accuracy: 0.7975 - val_loss: 0.6846 - val_accuracy: 0.7729\n",
            "Epoch 104/500\n",
            "104/104 [==============================] - 0s 4ms/step - loss: 0.5316 - accuracy: 0.7975 - val_loss: 0.7261 - val_accuracy: 0.7101\n",
            "Epoch 105/500\n",
            "104/104 [==============================] - 0s 4ms/step - loss: 0.4972 - accuracy: 0.8053 - val_loss: 0.6821 - val_accuracy: 0.7391\n",
            "Epoch 106/500\n",
            "104/104 [==============================] - 0s 4ms/step - loss: 0.4963 - accuracy: 0.8005 - val_loss: 0.6839 - val_accuracy: 0.7440\n",
            "Epoch 107/500\n",
            "104/104 [==============================] - 0s 4ms/step - loss: 0.4897 - accuracy: 0.8120 - val_loss: 0.6891 - val_accuracy: 0.7440\n",
            "Epoch 108/500\n",
            "104/104 [==============================] - 0s 4ms/step - loss: 0.4926 - accuracy: 0.8065 - val_loss: 0.6762 - val_accuracy: 0.7391\n",
            "Epoch 109/500\n",
            "104/104 [==============================] - 0s 4ms/step - loss: 0.5197 - accuracy: 0.7969 - val_loss: 0.7053 - val_accuracy: 0.7391\n",
            "Epoch 110/500\n",
            "104/104 [==============================] - 0s 4ms/step - loss: 0.4882 - accuracy: 0.8035 - val_loss: 0.7223 - val_accuracy: 0.7536\n",
            "Epoch 111/500\n",
            "104/104 [==============================] - 0s 4ms/step - loss: 0.5049 - accuracy: 0.8035 - val_loss: 0.7047 - val_accuracy: 0.7585\n",
            "Epoch 112/500\n",
            "104/104 [==============================] - 0s 4ms/step - loss: 0.5113 - accuracy: 0.8108 - val_loss: 0.6783 - val_accuracy: 0.7681\n",
            "Epoch 113/500\n",
            "104/104 [==============================] - 0s 5ms/step - loss: 0.4333 - accuracy: 0.8362 - val_loss: 0.6359 - val_accuracy: 0.7778\n",
            "Epoch 114/500\n",
            "104/104 [==============================] - 0s 4ms/step - loss: 0.4656 - accuracy: 0.8325 - val_loss: 0.6767 - val_accuracy: 0.7778\n",
            "Epoch 115/500\n",
            "104/104 [==============================] - 0s 4ms/step - loss: 0.4590 - accuracy: 0.8198 - val_loss: 0.6627 - val_accuracy: 0.7729\n",
            "Epoch 116/500\n",
            "104/104 [==============================] - 0s 4ms/step - loss: 0.4587 - accuracy: 0.8126 - val_loss: 0.6677 - val_accuracy: 0.7681\n",
            "Epoch 117/500\n",
            "104/104 [==============================] - 0s 4ms/step - loss: 0.4424 - accuracy: 0.8186 - val_loss: 0.6784 - val_accuracy: 0.7585\n",
            "Epoch 118/500\n",
            "104/104 [==============================] - 0s 4ms/step - loss: 0.4449 - accuracy: 0.8289 - val_loss: 0.6972 - val_accuracy: 0.7440\n",
            "Epoch 119/500\n",
            "104/104 [==============================] - 0s 4ms/step - loss: 0.4566 - accuracy: 0.8156 - val_loss: 0.6835 - val_accuracy: 0.7874\n",
            "Epoch 120/500\n",
            "104/104 [==============================] - 0s 4ms/step - loss: 0.4320 - accuracy: 0.8343 - val_loss: 0.6674 - val_accuracy: 0.7633\n",
            "Epoch 121/500\n",
            "104/104 [==============================] - 0s 4ms/step - loss: 0.4297 - accuracy: 0.8392 - val_loss: 0.6515 - val_accuracy: 0.7874\n",
            "Epoch 122/500\n",
            "104/104 [==============================] - 0s 4ms/step - loss: 0.4321 - accuracy: 0.8295 - val_loss: 0.6892 - val_accuracy: 0.7585\n",
            "Epoch 123/500\n",
            "104/104 [==============================] - 0s 4ms/step - loss: 0.4381 - accuracy: 0.8343 - val_loss: 0.6527 - val_accuracy: 0.7778\n",
            "Epoch 124/500\n",
            "104/104 [==============================] - 0s 4ms/step - loss: 0.4059 - accuracy: 0.8362 - val_loss: 0.6507 - val_accuracy: 0.7874\n",
            "Epoch 125/500\n",
            "104/104 [==============================] - 0s 4ms/step - loss: 0.3968 - accuracy: 0.8549 - val_loss: 0.6217 - val_accuracy: 0.7826\n",
            "Epoch 126/500\n",
            "104/104 [==============================] - 0s 4ms/step - loss: 0.4021 - accuracy: 0.8446 - val_loss: 0.6443 - val_accuracy: 0.7681\n",
            "Epoch 127/500\n",
            "104/104 [==============================] - 0s 4ms/step - loss: 0.4037 - accuracy: 0.8482 - val_loss: 0.6838 - val_accuracy: 0.7198\n",
            "Epoch 128/500\n",
            "104/104 [==============================] - 0s 4ms/step - loss: 0.4263 - accuracy: 0.8265 - val_loss: 0.6766 - val_accuracy: 0.7681\n",
            "Epoch 129/500\n",
            "104/104 [==============================] - 0s 4ms/step - loss: 0.4118 - accuracy: 0.8380 - val_loss: 0.6240 - val_accuracy: 0.7971\n",
            "Epoch 130/500\n",
            "104/104 [==============================] - 0s 4ms/step - loss: 0.4010 - accuracy: 0.8319 - val_loss: 0.7031 - val_accuracy: 0.7440\n",
            "Epoch 131/500\n",
            "104/104 [==============================] - 0s 4ms/step - loss: 0.3994 - accuracy: 0.8470 - val_loss: 0.6764 - val_accuracy: 0.7536\n",
            "Epoch 132/500\n",
            "104/104 [==============================] - 0s 5ms/step - loss: 0.3960 - accuracy: 0.8507 - val_loss: 0.6338 - val_accuracy: 0.7874\n",
            "Epoch 133/500\n",
            "104/104 [==============================] - 1s 9ms/step - loss: 0.3858 - accuracy: 0.8495 - val_loss: 0.6529 - val_accuracy: 0.7826\n",
            "Epoch 134/500\n",
            "104/104 [==============================] - 1s 7ms/step - loss: 0.3857 - accuracy: 0.8507 - val_loss: 0.6614 - val_accuracy: 0.7536\n",
            "Epoch 135/500\n",
            "104/104 [==============================] - 1s 7ms/step - loss: 0.3979 - accuracy: 0.8531 - val_loss: 0.6924 - val_accuracy: 0.7681\n",
            "Epoch 136/500\n",
            "104/104 [==============================] - 1s 6ms/step - loss: 0.3624 - accuracy: 0.8591 - val_loss: 0.6644 - val_accuracy: 0.7923\n",
            "Epoch 137/500\n",
            "104/104 [==============================] - 1s 6ms/step - loss: 0.3471 - accuracy: 0.8712 - val_loss: 0.6930 - val_accuracy: 0.7729\n",
            "Epoch 138/500\n",
            "104/104 [==============================] - 0s 4ms/step - loss: 0.3507 - accuracy: 0.8634 - val_loss: 0.6499 - val_accuracy: 0.7729\n",
            "Epoch 139/500\n",
            "104/104 [==============================] - 0s 5ms/step - loss: 0.3195 - accuracy: 0.8888 - val_loss: 0.6260 - val_accuracy: 0.7971\n",
            "Epoch 140/500\n",
            "104/104 [==============================] - 0s 4ms/step - loss: 0.3589 - accuracy: 0.8573 - val_loss: 0.6285 - val_accuracy: 0.7874\n",
            "Epoch 141/500\n",
            "104/104 [==============================] - 0s 4ms/step - loss: 0.3351 - accuracy: 0.8664 - val_loss: 0.6464 - val_accuracy: 0.7826\n",
            "Epoch 142/500\n",
            "104/104 [==============================] - 0s 4ms/step - loss: 0.3602 - accuracy: 0.8615 - val_loss: 0.6548 - val_accuracy: 0.7729\n",
            "Epoch 143/500\n",
            "104/104 [==============================] - 0s 5ms/step - loss: 0.3406 - accuracy: 0.8773 - val_loss: 0.5914 - val_accuracy: 0.7778\n",
            "Epoch 144/500\n",
            "104/104 [==============================] - 0s 4ms/step - loss: 0.3079 - accuracy: 0.8839 - val_loss: 0.6877 - val_accuracy: 0.7295\n",
            "Epoch 145/500\n",
            "104/104 [==============================] - 0s 4ms/step - loss: 0.3212 - accuracy: 0.8803 - val_loss: 0.6541 - val_accuracy: 0.7874\n",
            "Epoch 146/500\n",
            "104/104 [==============================] - 0s 4ms/step - loss: 0.3270 - accuracy: 0.8785 - val_loss: 0.6464 - val_accuracy: 0.7874\n",
            "Epoch 147/500\n",
            "104/104 [==============================] - 0s 4ms/step - loss: 0.3221 - accuracy: 0.8773 - val_loss: 0.6894 - val_accuracy: 0.7633\n",
            "Epoch 148/500\n",
            "104/104 [==============================] - 0s 4ms/step - loss: 0.3379 - accuracy: 0.8670 - val_loss: 0.6561 - val_accuracy: 0.7826\n",
            "Epoch 149/500\n",
            "104/104 [==============================] - 0s 4ms/step - loss: 0.3207 - accuracy: 0.8785 - val_loss: 0.6330 - val_accuracy: 0.7971\n",
            "Epoch 150/500\n",
            "104/104 [==============================] - 0s 4ms/step - loss: 0.2920 - accuracy: 0.8960 - val_loss: 0.6280 - val_accuracy: 0.7923\n",
            "Epoch 151/500\n",
            "104/104 [==============================] - 0s 4ms/step - loss: 0.3011 - accuracy: 0.8881 - val_loss: 0.6460 - val_accuracy: 0.8019\n",
            "Epoch 152/500\n",
            "104/104 [==============================] - 0s 4ms/step - loss: 0.3181 - accuracy: 0.8767 - val_loss: 0.6465 - val_accuracy: 0.7826\n",
            "Epoch 153/500\n",
            "104/104 [==============================] - 0s 4ms/step - loss: 0.3079 - accuracy: 0.8894 - val_loss: 0.6309 - val_accuracy: 0.7826\n",
            "Epoch 154/500\n",
            "104/104 [==============================] - 0s 5ms/step - loss: 0.3019 - accuracy: 0.8821 - val_loss: 0.6673 - val_accuracy: 0.7971\n",
            "Epoch 155/500\n",
            "104/104 [==============================] - 0s 4ms/step - loss: 0.3024 - accuracy: 0.8827 - val_loss: 0.6337 - val_accuracy: 0.7971\n",
            "Epoch 156/500\n",
            "104/104 [==============================] - 0s 4ms/step - loss: 0.3038 - accuracy: 0.8912 - val_loss: 0.6677 - val_accuracy: 0.7729\n",
            "Epoch 157/500\n",
            "104/104 [==============================] - 0s 4ms/step - loss: 0.2990 - accuracy: 0.8857 - val_loss: 0.6341 - val_accuracy: 0.7971\n",
            "Epoch 158/500\n",
            "104/104 [==============================] - 0s 4ms/step - loss: 0.2857 - accuracy: 0.8863 - val_loss: 0.6276 - val_accuracy: 0.7923\n",
            "Epoch 159/500\n",
            "104/104 [==============================] - 0s 4ms/step - loss: 0.3131 - accuracy: 0.8767 - val_loss: 0.6218 - val_accuracy: 0.7778\n",
            "Epoch 160/500\n",
            "104/104 [==============================] - 0s 4ms/step - loss: 0.2808 - accuracy: 0.8924 - val_loss: 0.6929 - val_accuracy: 0.7585\n",
            "Epoch 161/500\n",
            "104/104 [==============================] - 0s 4ms/step - loss: 0.2708 - accuracy: 0.9033 - val_loss: 0.7118 - val_accuracy: 0.7488\n",
            "Epoch 162/500\n",
            "104/104 [==============================] - 0s 4ms/step - loss: 0.2953 - accuracy: 0.8809 - val_loss: 0.6868 - val_accuracy: 0.7971\n",
            "Epoch 163/500\n",
            "104/104 [==============================] - 0s 5ms/step - loss: 0.2934 - accuracy: 0.8888 - val_loss: 0.6819 - val_accuracy: 0.7681\n",
            "Epoch 164/500\n",
            "104/104 [==============================] - 0s 4ms/step - loss: 0.2789 - accuracy: 0.8900 - val_loss: 0.6435 - val_accuracy: 0.7923\n",
            "Epoch 165/500\n",
            "104/104 [==============================] - 0s 5ms/step - loss: 0.2734 - accuracy: 0.9039 - val_loss: 0.6698 - val_accuracy: 0.7971\n",
            "Epoch 166/500\n",
            "104/104 [==============================] - 0s 4ms/step - loss: 0.3082 - accuracy: 0.8888 - val_loss: 0.6303 - val_accuracy: 0.8164\n",
            "Epoch 167/500\n",
            "104/104 [==============================] - 0s 4ms/step - loss: 0.2766 - accuracy: 0.8960 - val_loss: 0.6389 - val_accuracy: 0.7633\n",
            "Epoch 168/500\n",
            "104/104 [==============================] - 0s 4ms/step - loss: 0.2696 - accuracy: 0.9008 - val_loss: 0.6308 - val_accuracy: 0.7826\n"
          ]
        }
      ]
    },
    {
      "cell_type": "code",
      "source": [
        "plt.plot(cnnhistory.history['loss'])\n",
        "plt.plot(cnnhistory.history['val_loss'])\n",
        "plt.title('model loss')\n",
        "plt.ylabel('loss')\n",
        "plt.xlabel('epoch')\n",
        "plt.legend(['train','test'], loc='upper left')\n",
        "plt.show()"
      ],
      "metadata": {
        "colab": {
          "base_uri": "https://localhost:8080/",
          "height": 295
        },
        "id": "oQYnuaCrDH_A",
        "outputId": "fd86bdef-3538-4030-c172-56a4025bb971"
      },
      "execution_count": 15,
      "outputs": [
        {
          "output_type": "display_data",
          "data": {
            "text/plain": [
              "<Figure size 432x288 with 1 Axes>"
            ],
            "image/png": "[encoded data removed]"
          },
          "metadata": {
            "needs_background": "light"
          }
        }
      ]
    },
    {
      "cell_type": "code",
      "source": [
        "plt.plot(cnnhistory.history['accuracy'])\n",
        "plt.plot(cnnhistory.history['val_accuracy'])\n",
        "plt.title('model accuracy')\n",
        "plt.ylabel('accuracy')\n",
        "plt.xlabel('epoch')\n",
        "plt.legend(['train','test'], loc='upper left')\n",
        "plt.show()"
      ],
      "metadata": {
        "colab": {
          "base_uri": "https://localhost:8080/",
          "height": 295
        },
        "id": "IFkTuO8nDNdq",
        "outputId": "ebec183d-8fd0-4ff5-c260-4c049745244d"
      },
      "execution_count": 16,
      "outputs": [
        {
          "output_type": "display_data",
          "data": {
            "text/plain": [
              "<Figure size 432x288 with 1 Axes>"
            ],
            "image/png": "[encoded data removed]"
          },
          "metadata": {
            "needs_background": "light"
          }
        }
      ]
    },
    {
      "cell_type": "code",
      "source": [
        "predictions = model.predict(x_testcnn)"
      ],
      "metadata": {
        "id": "A2xtrN5wDQgY"
      },
      "execution_count": 17,
      "outputs": []
    },
    {
      "cell_type": "code",
      "source": [
        "predictions"
      ],
      "metadata": {
        "colab": {
          "base_uri": "https://localhost:8080/"
        },
        "id": "_f_ohjXKDUpY",
        "outputId": "063e0df4-29be-4644-9cd1-8e4cb367ad76"
      },
      "execution_count": 18,
      "outputs": [
        {
          "output_type": "execute_result",
          "data": {
            "text/plain": [
              "array([[2.59887934e-01, 5.30604534e-02, 4.50591207e-01, 7.43625313e-02,\n",
              "        1.52217045e-01, 9.88088734e-03],\n",
              "       [3.68214969e-04, 3.33393727e-05, 1.99246278e-06, 8.83065641e-01,\n",
              "        1.67324488e-05, 1.16513990e-01],\n",
              "       [1.67001367e-01, 8.07847828e-02, 1.67213660e-02, 4.59427714e-01,\n",
              "        2.79168207e-02, 2.48147964e-01],\n",
              "       ...,\n",
              "       [3.79654580e-06, 1.10529882e-07, 5.59145265e-05, 1.87433601e-04,\n",
              "        9.61403310e-01, 3.83495539e-02],\n",
              "       [7.74888089e-04, 3.97737354e-01, 5.66780031e-01, 1.24424035e-02,\n",
              "        3.09377001e-03, 1.91715620e-02],\n",
              "       [3.57125919e-06, 6.71186058e-07, 5.90605242e-03, 1.27791118e-05,\n",
              "        9.93242919e-01, 8.34022299e-04]], dtype=float32)"
            ]
          },
          "metadata": {},
          "execution_count": 18
        }
      ]
    },
    {
      "cell_type": "code",
      "source": [
        "y_test"
      ],
      "metadata": {
        "colab": {
          "base_uri": "https://localhost:8080/"
        },
        "id": "cmA2bFgsDW3D",
        "outputId": "ce0edd23-41fb-41ab-d1fe-ddf4abd20090"
      },
      "execution_count": 19,
      "outputs": [
        {
          "output_type": "execute_result",
          "data": {
            "text/plain": [
              "array([3, 3, 3, 0, 4, 4, 1, 2, 5, 0, 5, 3, 2, 2, 1, 4, 4, 5, 2, 4, 1, 2,\n",
              "       3, 5, 4, 2, 1, 2, 2, 2, 2, 5, 2, 5, 3, 1, 2, 0, 4, 5, 2, 3, 2, 2,\n",
              "       5, 2, 0, 1, 3, 4, 4, 5, 1, 1, 4, 4, 5, 1, 1, 1, 0, 1, 5, 0, 4, 1,\n",
              "       1, 0, 1, 4, 1, 0, 4, 1, 3, 1, 2, 2, 1, 2, 3, 0, 5, 3, 5, 5, 2, 4,\n",
              "       5, 1, 5, 1, 5, 3, 4, 1, 4, 1, 5, 4, 5, 1, 2, 1, 1, 5, 1, 3, 2, 5,\n",
              "       2, 1, 3, 5, 4, 4, 0, 0, 3, 1, 2, 2, 3, 5, 1, 5, 3, 4, 2, 2, 0, 2,\n",
              "       2, 5, 5, 0, 3, 3, 2, 2, 0, 3, 4, 0, 4, 2, 4, 5, 4, 1, 5, 3, 2, 2,\n",
              "       5, 4, 3, 3, 4, 3, 3, 4, 1, 5, 2, 3, 2, 2, 0, 2, 1, 3, 1, 2, 2, 5,\n",
              "       5, 1, 4, 2, 2, 1, 1, 3, 3, 5, 5, 2, 5, 1, 5, 0, 3, 3, 0, 5, 1, 4,\n",
              "       1, 4, 2, 5, 5, 1, 4, 2, 4])"
            ]
          },
          "metadata": {},
          "execution_count": 19
        }
      ]
    },
    {
      "cell_type": "code",
      "source": [
        "new_Ytest = y_test.astype(int)"
      ],
      "metadata": {
        "id": "0PHDKWJWDY3g"
      },
      "execution_count": 20,
      "outputs": []
    },
    {
      "cell_type": "code",
      "source": [
        "new_Ytest"
      ],
      "metadata": {
        "colab": {
          "base_uri": "https://localhost:8080/"
        },
        "id": "k68v2i-pDbZE",
        "outputId": "efabac14-caf2-48fd-c2a0-45ee9edcea36"
      },
      "execution_count": 21,
      "outputs": [
        {
          "output_type": "execute_result",
          "data": {
            "text/plain": [
              "array([3, 3, 3, 0, 4, 4, 1, 2, 5, 0, 5, 3, 2, 2, 1, 4, 4, 5, 2, 4, 1, 2,\n",
              "       3, 5, 4, 2, 1, 2, 2, 2, 2, 5, 2, 5, 3, 1, 2, 0, 4, 5, 2, 3, 2, 2,\n",
              "       5, 2, 0, 1, 3, 4, 4, 5, 1, 1, 4, 4, 5, 1, 1, 1, 0, 1, 5, 0, 4, 1,\n",
              "       1, 0, 1, 4, 1, 0, 4, 1, 3, 1, 2, 2, 1, 2, 3, 0, 5, 3, 5, 5, 2, 4,\n",
              "       5, 1, 5, 1, 5, 3, 4, 1, 4, 1, 5, 4, 5, 1, 2, 1, 1, 5, 1, 3, 2, 5,\n",
              "       2, 1, 3, 5, 4, 4, 0, 0, 3, 1, 2, 2, 3, 5, 1, 5, 3, 4, 2, 2, 0, 2,\n",
              "       2, 5, 5, 0, 3, 3, 2, 2, 0, 3, 4, 0, 4, 2, 4, 5, 4, 1, 5, 3, 2, 2,\n",
              "       5, 4, 3, 3, 4, 3, 3, 4, 1, 5, 2, 3, 2, 2, 0, 2, 1, 3, 1, 2, 2, 5,\n",
              "       5, 1, 4, 2, 2, 1, 1, 3, 3, 5, 5, 2, 5, 1, 5, 0, 3, 3, 0, 5, 1, 4,\n",
              "       1, 4, 2, 5, 5, 1, 4, 2, 4])"
            ]
          },
          "metadata": {},
          "execution_count": 21
        }
      ]
    },
    {
      "cell_type": "code",
      "source": [
        "preds1=predictions.argmax(axis=1)\n",
        "preds1"
      ],
      "metadata": {
        "colab": {
          "base_uri": "https://localhost:8080/"
        },
        "id": "4_cAI39VFhtp",
        "outputId": "df3cb93a-7fe6-44b3-ceab-46a463f7d494"
      },
      "execution_count": 22,
      "outputs": [
        {
          "output_type": "execute_result",
          "data": {
            "text/plain": [
              "array([2, 3, 3, 0, 4, 4, 1, 2, 5, 1, 5, 3, 2, 2, 1, 4, 4, 5, 2, 4, 1, 2,\n",
              "       3, 5, 4, 2, 1, 0, 2, 2, 2, 5, 2, 5, 3, 1, 2, 0, 4, 5, 2, 5, 2, 2,\n",
              "       3, 2, 1, 1, 3, 4, 4, 2, 1, 1, 4, 4, 5, 1, 1, 1, 1, 1, 2, 1, 4, 1,\n",
              "       1, 1, 1, 4, 0, 0, 4, 1, 5, 5, 2, 2, 1, 2, 1, 0, 3, 3, 5, 5, 2, 5,\n",
              "       3, 1, 5, 2, 5, 3, 2, 2, 4, 1, 5, 4, 5, 1, 2, 1, 1, 5, 1, 5, 2, 2,\n",
              "       5, 1, 3, 5, 4, 4, 3, 0, 3, 1, 1, 2, 1, 5, 1, 3, 3, 5, 2, 2, 0, 2,\n",
              "       2, 3, 5, 0, 5, 3, 2, 4, 0, 3, 4, 0, 4, 4, 4, 2, 4, 1, 5, 3, 2, 2,\n",
              "       5, 4, 3, 3, 4, 5, 3, 4, 1, 5, 2, 3, 2, 2, 0, 2, 1, 5, 1, 2, 2, 5,\n",
              "       5, 1, 4, 2, 2, 1, 1, 3, 3, 5, 5, 2, 5, 1, 2, 1, 3, 3, 2, 5, 1, 4,\n",
              "       1, 4, 5, 2, 5, 1, 4, 2, 4])"
            ]
          },
          "metadata": {},
          "execution_count": 22
        }
      ]
    },
    {
      "cell_type": "code",
      "source": [
        "abc = preds1.astype(int).flatten()"
      ],
      "metadata": {
        "id": "H4WEmM60NfQn"
      },
      "execution_count": 23,
      "outputs": []
    },
    {
      "cell_type": "code",
      "source": [
        "from sklearn.metrics import confusion_matrix\n",
        "c = confusion_matrix(new_Ytest, abc) \n",
        "c"
      ],
      "metadata": {
        "colab": {
          "base_uri": "https://localhost:8080/"
        },
        "id": "bKEBeEBlFjB8",
        "outputId": "60de3413-bba4-4af2-febe-59198e03b5a2"
      },
      "execution_count": 24,
      "outputs": [
        {
          "output_type": "execute_result",
          "data": {
            "text/plain": [
              "array([[10,  6,  1,  1,  0,  0],\n",
              "       [ 1, 37,  2,  0,  0,  1],\n",
              "       [ 1,  1, 39,  0,  2,  2],\n",
              "       [ 0,  2,  1, 22,  0,  6],\n",
              "       [ 0,  0,  1,  0, 30,  2],\n",
              "       [ 0,  0,  6,  5,  0, 28]])"
            ]
          },
          "metadata": {},
          "execution_count": 24
        }
      ]
    },
    {
      "cell_type": "code",
      "source": [
        "y_test"
      ],
      "metadata": {
        "colab": {
          "base_uri": "https://localhost:8080/"
        },
        "id": "m4RjG7LWLSQx",
        "outputId": "1993779f-8889-4672-da16-0dc07c37521f"
      },
      "execution_count": 25,
      "outputs": [
        {
          "output_type": "execute_result",
          "data": {
            "text/plain": [
              "array([3, 3, 3, 0, 4, 4, 1, 2, 5, 0, 5, 3, 2, 2, 1, 4, 4, 5, 2, 4, 1, 2,\n",
              "       3, 5, 4, 2, 1, 2, 2, 2, 2, 5, 2, 5, 3, 1, 2, 0, 4, 5, 2, 3, 2, 2,\n",
              "       5, 2, 0, 1, 3, 4, 4, 5, 1, 1, 4, 4, 5, 1, 1, 1, 0, 1, 5, 0, 4, 1,\n",
              "       1, 0, 1, 4, 1, 0, 4, 1, 3, 1, 2, 2, 1, 2, 3, 0, 5, 3, 5, 5, 2, 4,\n",
              "       5, 1, 5, 1, 5, 3, 4, 1, 4, 1, 5, 4, 5, 1, 2, 1, 1, 5, 1, 3, 2, 5,\n",
              "       2, 1, 3, 5, 4, 4, 0, 0, 3, 1, 2, 2, 3, 5, 1, 5, 3, 4, 2, 2, 0, 2,\n",
              "       2, 5, 5, 0, 3, 3, 2, 2, 0, 3, 4, 0, 4, 2, 4, 5, 4, 1, 5, 3, 2, 2,\n",
              "       5, 4, 3, 3, 4, 3, 3, 4, 1, 5, 2, 3, 2, 2, 0, 2, 1, 3, 1, 2, 2, 5,\n",
              "       5, 1, 4, 2, 2, 1, 1, 3, 3, 5, 5, 2, 5, 1, 5, 0, 3, 3, 0, 5, 1, 4,\n",
              "       1, 4, 2, 5, 5, 1, 4, 2, 4])"
            ]
          },
          "metadata": {},
          "execution_count": 25
        }
      ]
    },
    {
      "cell_type": "code",
      "source": [
        "loss, acc =model.evaluate(x_testcnn, y_test)\n",
        "print(\"Restored model, accuracy: {:5.2f}%\".format(100*acc))"
      ],
      "metadata": {
        "colab": {
          "base_uri": "https://localhost:8080/"
        },
        "id": "n3kzoqPkDqqS",
        "outputId": "ae6b73f8-a393-488a-d9a1-9ff9c0d7da70"
      },
      "execution_count": 26,
      "outputs": [
        {
          "output_type": "stream",
          "name": "stdout",
          "text": [
            "7/7 [==============================] - 0s 6ms/step - loss: 0.5555 - accuracy: 0.8019\n",
            "Restored model, accuracy: 80.19%\n"
          ]
        }
      ]
    },
    {
      "cell_type": "code",
      "source": [
        "loss, acc =model.evaluate(X_train, y_train)\n",
        "print(\"Restored model train, accuracy: {:5.2f}%\".format(100*acc))"
      ],
      "metadata": {
        "id": "fJDTGH_OUX0z",
        "colab": {
          "base_uri": "https://localhost:8080/"
        },
        "outputId": "c57ae4d7-2260-4910-a527-6365d7fd5323"
      },
      "execution_count": 27,
      "outputs": [
        {
          "output_type": "stream",
          "name": "stdout",
          "text": [
            "52/52 [==============================] - 0s 4ms/step - loss: 0.2144 - accuracy: 0.9528\n",
            "Restored model train, accuracy: 95.28%\n"
          ]
        }
      ]
    },
    {
      "cell_type": "code",
      "source": [
        "from sklearn.metrics import classification_report, confusion_matrix,accuracy_score\n",
        "import seaborn as sn\n",
        "\n",
        "print(classification_report(new_Ytest,abc))\n",
        "\n",
        "acc = float(accuracy_score(new_Ytest,abc))*100\n",
        "print(\"----accuracy score %s ----\" % acc)\n",
        "\n",
        "cm = confusion_matrix(new_Ytest,abc)\n",
        "#df_cm = pd.DataFrame(cm)\n",
        "class_names = ['neutral','calm', 'happy','sad','angry', 'fearful' ]\n",
        "df_cm = pd.DataFrame(cm, index=class_names, columns=class_names,)\n",
        "sn.heatmap(df_cm, annot=True, fmt='')\n",
        "plt.show()"
      ],
      "metadata": {
        "colab": {
          "base_uri": "https://localhost:8080/",
          "height": 508
        },
        "id": "SfSC3El94LZg",
        "outputId": "43cf2c88-4873-4bcf-d1f7-ca66b8ce2f76"
      },
      "execution_count": 28,
      "outputs": [
        {
          "output_type": "stream",
          "name": "stdout",
          "text": [
            "              precision    recall  f1-score   support\n",
            "\n",
            "           0       0.83      0.56      0.67        18\n",
            "           1       0.80      0.90      0.85        41\n",
            "           2       0.78      0.87      0.82        45\n",
            "           3       0.79      0.71      0.75        31\n",
            "           4       0.94      0.91      0.92        33\n",
            "           5       0.72      0.72      0.72        39\n",
            "\n",
            "    accuracy                           0.80       207\n",
            "   macro avg       0.81      0.78      0.79       207\n",
            "weighted avg       0.80      0.80      0.80       207\n",
            "\n",
            "----accuracy score 80.19323671497585 ----\n"
          ]
        },
        {
          "output_type": "display_data",
          "data": {
            "text/plain": [
              "<Figure size 432x288 with 2 Axes>"
            ],
            "image/png": "[encoded data removed]"
          },
          "metadata": {
            "needs_background": "light"
          }
        }
      ]
    }
  ]
}