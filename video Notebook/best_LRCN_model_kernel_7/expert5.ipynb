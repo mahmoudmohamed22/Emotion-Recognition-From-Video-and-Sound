{
  "nbformat": 4,
  "nbformat_minor": 0,
  "metadata": {
    "colab": {
      "name": "expert5.ipynb",
      "provenance": [],
      "collapsed_sections": [],
      "machine_shape": "hm"
    },
    "kernelspec": {
      "name": "python3",
      "display_name": "Python 3"
    },
    "accelerator": "GPU"
  },
  "cells": [
    {
      "cell_type": "markdown",
      "source": [
        "**training**"
      ],
      "metadata": {
        "id": "3p4NEbw1wA08"
      }
    },
    {
      "cell_type": "code",
      "source": [
        "# Discard the output of this cell.\n",
        "#%%capture\n",
        "\n",
        "# Install the required libraries.\n",
        "!pip install tensorflow opencv-contrib-python youtube-dl moviepy pydot\n",
        "!pip install git+https://github.com/TahaAnwar/pafy.git#egg=pafy"
      ],
      "metadata": {
        "id": "MChAq7xYwD1o",
        "outputId": "4e22af2e-2600-42a6-a35d-e1ef7bdfc6fe",
        "colab": {
          "base_uri": "https://localhost:8080/"
        }
      },
      "execution_count": 1,
      "outputs": [
        {
          "output_type": "stream",
          "name": "stdout",
          "text": [
            "Looking in indexes: https://pypi.org/simple, https://us-python.pkg.dev/colab-wheels/public/simple/\n",
            "Requirement already satisfied: tensorflow in /usr/local/lib/python3.7/dist-packages (2.8.2+zzzcolab20220527125636)\n",
            "Requirement already satisfied: opencv-contrib-python in /usr/local/lib/python3.7/dist-packages (4.1.2.30)\n",
            "Collecting youtube-dl\n",
            "  Downloading youtube_dl-2021.12.17-py2.py3-none-any.whl (1.9 MB)\n",
            "\u001b[K     |████████████████████████████████| 1.9 MB 4.3 MB/s \n",
            "\u001b[?25hRequirement already satisfied: moviepy in /usr/local/lib/python3.7/dist-packages (0.2.3.5)\n",
            "Requirement already satisfied: pydot in /usr/local/lib/python3.7/dist-packages (1.3.0)\n",
            "Requirement already satisfied: google-pasta>=0.1.1 in /usr/local/lib/python3.7/dist-packages (from tensorflow) (0.2.0)\n",
            "Requirement already satisfied: typing-extensions>=3.6.6 in /usr/local/lib/python3.7/dist-packages (from tensorflow) (4.2.0)\n",
            "Requirement already satisfied: absl-py>=0.4.0 in /usr/local/lib/python3.7/dist-packages (from tensorflow) (1.0.0)\n",
            "Requirement already satisfied: astunparse>=1.6.0 in /usr/local/lib/python3.7/dist-packages (from tensorflow) (1.6.3)\n",
            "Requirement already satisfied: flatbuffers>=1.12 in /usr/local/lib/python3.7/dist-packages (from tensorflow) (2.0)\n",
            "Requirement already satisfied: setuptools in /usr/local/lib/python3.7/dist-packages (from tensorflow) (57.4.0)\n",
            "Requirement already satisfied: numpy>=1.20 in /usr/local/lib/python3.7/dist-packages (from tensorflow) (1.21.6)\n",
            "Requirement already satisfied: tensorflow-io-gcs-filesystem>=0.23.1 in /usr/local/lib/python3.7/dist-packages (from tensorflow) (0.26.0)\n",
            "Requirement already satisfied: termcolor>=1.1.0 in /usr/local/lib/python3.7/dist-packages (from tensorflow) (1.1.0)\n",
            "Requirement already satisfied: libclang>=9.0.1 in /usr/local/lib/python3.7/dist-packages (from tensorflow) (14.0.1)\n",
            "Requirement already satisfied: opt-einsum>=2.3.2 in /usr/local/lib/python3.7/dist-packages (from tensorflow) (3.3.0)\n",
            "Requirement already satisfied: tensorboard<2.9,>=2.8 in /usr/local/lib/python3.7/dist-packages (from tensorflow) (2.8.0)\n",
            "Requirement already satisfied: gast>=0.2.1 in /usr/local/lib/python3.7/dist-packages (from tensorflow) (0.5.3)\n",
            "Requirement already satisfied: keras<2.9,>=2.8.0rc0 in /usr/local/lib/python3.7/dist-packages (from tensorflow) (2.8.0)\n",
            "Requirement already satisfied: six>=1.12.0 in /usr/local/lib/python3.7/dist-packages (from tensorflow) (1.15.0)\n",
            "Requirement already satisfied: grpcio<2.0,>=1.24.3 in /usr/local/lib/python3.7/dist-packages (from tensorflow) (1.46.3)\n",
            "Requirement already satisfied: wrapt>=1.11.0 in /usr/local/lib/python3.7/dist-packages (from tensorflow) (1.14.1)\n",
            "Requirement already satisfied: tensorflow-estimator<2.9,>=2.8 in /usr/local/lib/python3.7/dist-packages (from tensorflow) (2.8.0)\n",
            "Requirement already satisfied: keras-preprocessing>=1.1.1 in /usr/local/lib/python3.7/dist-packages (from tensorflow) (1.1.2)\n",
            "Requirement already satisfied: protobuf<3.20,>=3.9.2 in /usr/local/lib/python3.7/dist-packages (from tensorflow) (3.17.3)\n",
            "Requirement already satisfied: h5py>=2.9.0 in /usr/local/lib/python3.7/dist-packages (from tensorflow) (3.1.0)\n",
            "Requirement already satisfied: wheel<1.0,>=0.23.0 in /usr/local/lib/python3.7/dist-packages (from astunparse>=1.6.0->tensorflow) (0.37.1)\n",
            "Requirement already satisfied: cached-property in /usr/local/lib/python3.7/dist-packages (from h5py>=2.9.0->tensorflow) (1.5.2)\n",
            "Requirement already satisfied: google-auth-oauthlib<0.5,>=0.4.1 in /usr/local/lib/python3.7/dist-packages (from tensorboard<2.9,>=2.8->tensorflow) (0.4.6)\n",
            "Requirement already satisfied: markdown>=2.6.8 in /usr/local/lib/python3.7/dist-packages (from tensorboard<2.9,>=2.8->tensorflow) (3.3.7)\n",
            "Requirement already satisfied: werkzeug>=0.11.15 in /usr/local/lib/python3.7/dist-packages (from tensorboard<2.9,>=2.8->tensorflow) (1.0.1)\n",
            "Requirement already satisfied: tensorboard-data-server<0.7.0,>=0.6.0 in /usr/local/lib/python3.7/dist-packages (from tensorboard<2.9,>=2.8->tensorflow) (0.6.1)\n",
            "Requirement already satisfied: google-auth<3,>=1.6.3 in /usr/local/lib/python3.7/dist-packages (from tensorboard<2.9,>=2.8->tensorflow) (1.35.0)\n",
            "Requirement already satisfied: tensorboard-plugin-wit>=1.6.0 in /usr/local/lib/python3.7/dist-packages (from tensorboard<2.9,>=2.8->tensorflow) (1.8.1)\n",
            "Requirement already satisfied: requests<3,>=2.21.0 in /usr/local/lib/python3.7/dist-packages (from tensorboard<2.9,>=2.8->tensorflow) (2.23.0)\n",
            "Requirement already satisfied: pyasn1-modules>=0.2.1 in /usr/local/lib/python3.7/dist-packages (from google-auth<3,>=1.6.3->tensorboard<2.9,>=2.8->tensorflow) (0.2.8)\n",
            "Requirement already satisfied: rsa<5,>=3.1.4 in /usr/local/lib/python3.7/dist-packages (from google-auth<3,>=1.6.3->tensorboard<2.9,>=2.8->tensorflow) (4.8)\n",
            "Requirement already satisfied: cachetools<5.0,>=2.0.0 in /usr/local/lib/python3.7/dist-packages (from google-auth<3,>=1.6.3->tensorboard<2.9,>=2.8->tensorflow) (4.2.4)\n",
            "Requirement already satisfied: requests-oauthlib>=0.7.0 in /usr/local/lib/python3.7/dist-packages (from google-auth-oauthlib<0.5,>=0.4.1->tensorboard<2.9,>=2.8->tensorflow) (1.3.1)\n",
            "Requirement already satisfied: importlib-metadata>=4.4 in /usr/local/lib/python3.7/dist-packages (from markdown>=2.6.8->tensorboard<2.9,>=2.8->tensorflow) (4.11.4)\n",
            "Requirement already satisfied: zipp>=0.5 in /usr/local/lib/python3.7/dist-packages (from importlib-metadata>=4.4->markdown>=2.6.8->tensorboard<2.9,>=2.8->tensorflow) (3.8.0)\n",
            "Requirement already satisfied: pyasn1<0.5.0,>=0.4.6 in /usr/local/lib/python3.7/dist-packages (from pyasn1-modules>=0.2.1->google-auth<3,>=1.6.3->tensorboard<2.9,>=2.8->tensorflow) (0.4.8)\n",
            "Requirement already satisfied: idna<3,>=2.5 in /usr/local/lib/python3.7/dist-packages (from requests<3,>=2.21.0->tensorboard<2.9,>=2.8->tensorflow) (2.10)\n",
            "Requirement already satisfied: certifi>=2017.4.17 in /usr/local/lib/python3.7/dist-packages (from requests<3,>=2.21.0->tensorboard<2.9,>=2.8->tensorflow) (2022.5.18.1)\n",
            "Requirement already satisfied: urllib3!=1.25.0,!=1.25.1,<1.26,>=1.21.1 in /usr/local/lib/python3.7/dist-packages (from requests<3,>=2.21.0->tensorboard<2.9,>=2.8->tensorflow) (1.24.3)\n",
            "Requirement already satisfied: chardet<4,>=3.0.2 in /usr/local/lib/python3.7/dist-packages (from requests<3,>=2.21.0->tensorboard<2.9,>=2.8->tensorflow) (3.0.4)\n",
            "Requirement already satisfied: oauthlib>=3.0.0 in /usr/local/lib/python3.7/dist-packages (from requests-oauthlib>=0.7.0->google-auth-oauthlib<0.5,>=0.4.1->tensorboard<2.9,>=2.8->tensorflow) (3.2.0)\n",
            "Requirement already satisfied: imageio<3.0,>=2.1.2 in /usr/local/lib/python3.7/dist-packages (from moviepy) (2.4.1)\n",
            "Requirement already satisfied: decorator<5.0,>=4.0.2 in /usr/local/lib/python3.7/dist-packages (from moviepy) (4.4.2)\n",
            "Requirement already satisfied: tqdm<5.0,>=4.11.2 in /usr/local/lib/python3.7/dist-packages (from moviepy) (4.64.0)\n",
            "Requirement already satisfied: pillow in /usr/local/lib/python3.7/dist-packages (from imageio<3.0,>=2.1.2->moviepy) (7.1.2)\n",
            "Requirement already satisfied: pyparsing>=2.1.4 in /usr/local/lib/python3.7/dist-packages (from pydot) (3.0.9)\n",
            "Installing collected packages: youtube-dl\n",
            "Successfully installed youtube-dl-2021.12.17\n",
            "Looking in indexes: https://pypi.org/simple, https://us-python.pkg.dev/colab-wheels/public/simple/\n",
            "Collecting pafy\n",
            "  Cloning https://github.com/TahaAnwar/pafy.git to /tmp/pip-install-qwk83y45/pafy_42fef15a9ef4443895dc104aff0e7aea\n",
            "  Running command git clone -q https://github.com/TahaAnwar/pafy.git /tmp/pip-install-qwk83y45/pafy_42fef15a9ef4443895dc104aff0e7aea\n",
            "Building wheels for collected packages: pafy\n",
            "  Building wheel for pafy (setup.py) ... \u001b[?25l\u001b[?25hdone\n",
            "  Created wheel for pafy: filename=pafy-0.5.5-py2.py3-none-any.whl size=35706 sha256=e04470506b499700acc2644bc23ecb1ce1e4da06aee3f9067a218b3d008bdb60\n",
            "  Stored in directory: /tmp/pip-ephem-wheel-cache-xrac9xcv/wheels/64/82/dd/3d7823b3bbbe1aca9b30f8cf0d6bb6c1b72ccd95e3360f8190\n",
            "Successfully built pafy\n",
            "Installing collected packages: pafy\n",
            "Successfully installed pafy-0.5.5\n"
          ]
        }
      ]
    },
    {
      "cell_type": "code",
      "source": [
        "# Import the required libraries.\n",
        "import os\n",
        "import cv2\n",
        "import pafy\n",
        "import math\n",
        "import random\n",
        "import numpy as np\n",
        "import datetime as dt\n",
        "import tensorflow as tf\n",
        "from collections import deque\n",
        "import matplotlib.pyplot as plt\n",
        "\n",
        "from moviepy.editor import *\n",
        "%matplotlib inline\n",
        "\n",
        "from sklearn.model_selection import train_test_split\n",
        "\n",
        "from tensorflow.keras.layers import *\n",
        "from tensorflow.keras.models import Sequential\n",
        "from tensorflow.keras.utils import to_categorical\n",
        "from tensorflow.keras.callbacks import EarlyStopping\n",
        "from tensorflow.keras.utils import plot_model\n",
        "import glob"
      ],
      "metadata": {
        "id": "1nJVuzQAwGQp",
        "colab": {
          "base_uri": "https://localhost:8080/"
        },
        "outputId": "1eb41d58-f9b7-44d2-98d8-a06325dbdd96"
      },
      "execution_count": 2,
      "outputs": [
        {
          "output_type": "stream",
          "name": "stdout",
          "text": [
            "Imageio: 'ffmpeg-linux64-v3.3.1' was not found on your computer; downloading it now.\n",
            "Try 1. Download from https://github.com/imageio/imageio-binaries/raw/master/ffmpeg/ffmpeg-linux64-v3.3.1 (43.8 MB)\n",
            "Downloading: 8192/45929032 bytes (0.0%)\b\b\b\b\b\b\b\b\b\b\b\b\b\b\b\b\b\b\b\b\b\b\b\b\b\b2433024/45929032 bytes (5.3%)\b\b\b\b\b\b\b\b\b\b\b\b\b\b\b\b\b\b\b\b\b\b\b\b\b\b\b\b\b6373376/45929032 bytes (13.9%)\b\b\b\b\b\b\b\b\b\b\b\b\b\b\b\b\b\b\b\b\b\b\b\b\b\b\b\b\b\b10608640/45929032 bytes (23.1%)\b\b\b\b\b\b\b\b\b\b\b\b\b\b\b\b\b\b\b\b\b\b\b\b\b\b\b\b\b\b\b14598144/45929032 bytes (31.8%)\b\b\b\b\b\b\b\b\b\b\b\b\b\b\b\b\b\b\b\b\b\b\b\b\b\b\b\b\b\b\b18653184/45929032 bytes (40.6%)\b\b\b\b\b\b\b\b\b\b\b\b\b\b\b\b\b\b\b\b\b\b\b\b\b\b\b\b\b\b\b22585344/45929032 bytes (49.2%)\b\b\b\b\b\b\b\b\b\b\b\b\b\b\b\b\b\b\b\b\b\b\b\b\b\b\b\b\b\b\b26673152/45929032 bytes (58.1%)\b\b\b\b\b\b\b\b\b\b\b\b\b\b\b\b\b\b\b\b\b\b\b\b\b\b\b\b\b\b\b30744576/45929032 bytes (66.9%)\b\b\b\b\b\b\b\b\b\b\b\b\b\b\b\b\b\b\b\b\b\b\b\b\b\b\b\b\b\b\b34807808/45929032 bytes (75.8%)\b\b\b\b\b\b\b\b\b\b\b\b\b\b\b\b\b\b\b\b\b\b\b\b\b\b\b\b\b\b\b38699008/45929032 bytes (84.3%)\b\b\b\b\b\b\b\b\b\b\b\b\b\b\b\b\b\b\b\b\b\b\b\b\b\b\b\b\b\b\b42754048/45929032 bytes (93.1%)\b\b\b\b\b\b\b\b\b\b\b\b\b\b\b\b\b\b\b\b\b\b\b\b\b\b\b\b\b\b\b45929032/45929032 bytes (100.0%)\n",
            "  Done\n",
            "File saved as /root/.imageio/ffmpeg/ffmpeg-linux64-v3.3.1.\n"
          ]
        }
      ]
    },
    {
      "cell_type": "code",
      "source": [
        "seed_constant = 27\n",
        "np.random.seed(seed_constant)\n",
        "random.seed(seed_constant)\n",
        "tf.random.set_seed(seed_constant)\n"
      ],
      "metadata": {
        "id": "IoMuaveSwK6K"
      },
      "execution_count": 3,
      "outputs": []
    },
    {
      "cell_type": "code",
      "source": [
        "# Specify the height and width to which each video frame will be resized in our dataset.\n",
        "IMAGE_HEIGHT , IMAGE_WIDTH = 64, 64\n",
        "\n",
        "# Specify the number of frames of a video that will be fed to the model as one sequence.\n",
        "SEQUENCE_LENGTH = 30\n",
        "\n",
        "# Specify the directory containing the UCF50 dataset. \n",
        "#DATASET_DIR = \"/content/drive/MyDrive/frames_ravdess_label\"\n",
        "\n",
        "# Specify the list containing the names of the classes used for training. Feel free to choose any set of classes.\n",
        "CLASSES_LIST = [\"neutral\", \"calm\", \"happy\", \"sad\",\"angry\",\"fearful\"]"
      ],
      "metadata": {
        "id": "GcOPbLHXwNW6"
      },
      "execution_count": 4,
      "outputs": []
    },
    {
      "cell_type": "code",
      "source": [
        "from google.colab import drive\n",
        "drive.mount('/content/drive')"
      ],
      "metadata": {
        "id": "R4qTnVYzwtnU",
        "outputId": "6cc67fc7-5dc8-4514-cfce-cba8e859cd85",
        "colab": {
          "base_uri": "https://localhost:8080/"
        }
      },
      "execution_count": 5,
      "outputs": [
        {
          "output_type": "stream",
          "name": "stdout",
          "text": [
            "Mounted at /content/drive\n"
          ]
        }
      ]
    },
    {
      "cell_type": "code",
      "source": [
        "import joblib\n",
        "features = joblib.load('/content/drive/My Drive/features_ravdess/data_set/features_data')\n",
        "labels = joblib.load('/content/drive/MyDrive/features_ravdess/data_set/labels')\n",
        "video_files_paths = joblib.load('/content/drive/My Drive/features_ravdess/data_set/video_path')"
      ],
      "metadata": {
        "id": "Hpib_QJowRPo"
      },
      "execution_count": 7,
      "outputs": []
    },
    {
      "cell_type": "code",
      "source": [
        "features = np.asarray(features)\n",
        "labels = np.array(labels)  "
      ],
      "metadata": {
        "id": "PH_q4iTSwt_7"
      },
      "execution_count": 8,
      "outputs": []
    },
    {
      "cell_type": "code",
      "source": [
        "features.shape"
      ],
      "metadata": {
        "id": "EcUFSl-ExLkk",
        "outputId": "f4600056-5219-438e-be9f-b8563e0081ce",
        "colab": {
          "base_uri": "https://localhost:8080/"
        }
      },
      "execution_count": 10,
      "outputs": [
        {
          "output_type": "execute_result",
          "data": {
            "text/plain": [
              "(2067, 30, 64, 64, 3)"
            ]
          },
          "metadata": {},
          "execution_count": 10
        }
      ]
    },
    {
      "cell_type": "code",
      "source": [
        "# Using Keras's to_categorical method to convert labels into one-hot-encoded vectors\n",
        "one_hot_encoded_labels = to_categorical(labels)"
      ],
      "metadata": {
        "id": "byN_xKZ1w3db"
      },
      "execution_count": 11,
      "outputs": []
    },
    {
      "cell_type": "code",
      "source": [
        "# Split the Data into Train ( 80% ) and Test Set ( 20% ).\n",
        "features_train, features_test, labels_train, labels_test = train_test_split(features, one_hot_encoded_labels,\n",
        "                                                                            test_size = 0.10, shuffle = True,\n",
        "                                                                            random_state = seed_constant)"
      ],
      "metadata": {
        "id": "Xbo5u-ynw4bP"
      },
      "execution_count": 12,
      "outputs": []
    },
    {
      "cell_type": "code",
      "source": [
        "def create_LRCN_model():\n",
        "    '''\n",
        "    This function will construct the required LRCN model.\n",
        "    Returns:\n",
        "        model: It is the required constructed LRCN model.\n",
        "    '''\n",
        "\n",
        "    # We will use a Sequential model for model construction.\n",
        "    model = Sequential()\n",
        "   \n",
        "    # Define the Model Architecture.\n",
        "    ########################################################################################################################\n",
        "    \n",
        "    model.add(TimeDistributed(Conv2D(16, (7, 7), padding='same'),\n",
        "                              input_shape = (SEQUENCE_LENGTH, IMAGE_HEIGHT, IMAGE_WIDTH, 3)))\n",
        "    model.add(TimeDistributed(BatchNormalization()))\n",
        "    model.add(TimeDistributed(Activation('relu')))\n",
        "    model.add(TimeDistributed(MaxPooling2D((4, 4)))) \n",
        "    model.add(TimeDistributed(Dropout(0.1)))\n",
        "    \n",
        "    model.add(TimeDistributed(Conv2D(32, (7, 7), padding='same')))\n",
        "    model.add(TimeDistributed(BatchNormalization()))\n",
        "    model.add(TimeDistributed(Activation('relu')))\n",
        "    model.add(TimeDistributed(MaxPooling2D((4, 4))))\n",
        "    model.add(TimeDistributed(Dropout(0.2)))\n",
        "    \n",
        "    model.add(TimeDistributed(Conv2D(64, (7, 7), padding='same')))\n",
        "    model.add(TimeDistributed(BatchNormalization()))\n",
        "    model.add(TimeDistributed(Activation('relu')))\n",
        "    model.add(TimeDistributed(MaxPooling2D((2, 2))))\n",
        "    model.add(TimeDistributed(Dropout(0.3)))\n",
        "    \n",
        "    model.add(TimeDistributed(Conv2D(64, (7, 7), padding='same')))\n",
        "    model.add(TimeDistributed(BatchNormalization()))\n",
        "    model.add(TimeDistributed(Activation('relu')))\n",
        "    model.add(TimeDistributed(MaxPooling2D((2, 2))))\n",
        "    #model.add(TimeDistributed(Dropout(0.25)))\n",
        "                                      \n",
        "    model.add(TimeDistributed(Flatten()))\n",
        "                                      \n",
        "    model.add(LSTM(64))\n",
        "                                      \n",
        "    model.add(Dense(len(CLASSES_LIST), activation = 'softmax'))\n",
        "\n",
        "    ########################################################################################################################\n",
        "\n",
        "    # Display the models summary.\n",
        "    model.summary()\n",
        "    \n",
        "    # Return the constructed LRCN model.\n",
        "    return model"
      ],
      "metadata": {
        "id": "ANf9NyOAw7Fa"
      },
      "execution_count": 13,
      "outputs": []
    },
    {
      "cell_type": "code",
      "source": [
        "# Construct the required LRCN model.\n",
        "LRCN_model = create_LRCN_model()\n",
        "\n",
        "# Display the success message.\n",
        "print(\"Model Created Successfully!\")"
      ],
      "metadata": {
        "id": "VX1aE7GoxSHl",
        "outputId": "c3762f1f-89a0-4fbc-c6a3-f1307b93259b",
        "colab": {
          "base_uri": "https://localhost:8080/"
        }
      },
      "execution_count": 14,
      "outputs": [
        {
          "output_type": "stream",
          "name": "stdout",
          "text": [
            "Model: \"sequential\"\n",
            "_________________________________________________________________\n",
            " Layer (type)                Output Shape              Param #   \n",
            "=================================================================\n",
            " time_distributed (TimeDistr  (None, 30, 64, 64, 16)   2368      \n",
            " ibuted)                                                         \n",
            "                                                                 \n",
            " time_distributed_1 (TimeDis  (None, 30, 64, 64, 16)   64        \n",
            " tributed)                                                       \n",
            "                                                                 \n",
            " time_distributed_2 (TimeDis  (None, 30, 64, 64, 16)   0         \n",
            " tributed)                                                       \n",
            "                                                                 \n",
            " time_distributed_3 (TimeDis  (None, 30, 16, 16, 16)   0         \n",
            " tributed)                                                       \n",
            "                                                                 \n",
            " time_distributed_4 (TimeDis  (None, 30, 16, 16, 16)   0         \n",
            " tributed)                                                       \n",
            "                                                                 \n",
            " time_distributed_5 (TimeDis  (None, 30, 16, 16, 32)   25120     \n",
            " tributed)                                                       \n",
            "                                                                 \n",
            " time_distributed_6 (TimeDis  (None, 30, 16, 16, 32)   128       \n",
            " tributed)                                                       \n",
            "                                                                 \n",
            " time_distributed_7 (TimeDis  (None, 30, 16, 16, 32)   0         \n",
            " tributed)                                                       \n",
            "                                                                 \n",
            " time_distributed_8 (TimeDis  (None, 30, 4, 4, 32)     0         \n",
            " tributed)                                                       \n",
            "                                                                 \n",
            " time_distributed_9 (TimeDis  (None, 30, 4, 4, 32)     0         \n",
            " tributed)                                                       \n",
            "                                                                 \n",
            " time_distributed_10 (TimeDi  (None, 30, 4, 4, 64)     100416    \n",
            " stributed)                                                      \n",
            "                                                                 \n",
            " time_distributed_11 (TimeDi  (None, 30, 4, 4, 64)     256       \n",
            " stributed)                                                      \n",
            "                                                                 \n",
            " time_distributed_12 (TimeDi  (None, 30, 4, 4, 64)     0         \n",
            " stributed)                                                      \n",
            "                                                                 \n",
            " time_distributed_13 (TimeDi  (None, 30, 2, 2, 64)     0         \n",
            " stributed)                                                      \n",
            "                                                                 \n",
            " time_distributed_14 (TimeDi  (None, 30, 2, 2, 64)     0         \n",
            " stributed)                                                      \n",
            "                                                                 \n",
            " time_distributed_15 (TimeDi  (None, 30, 2, 2, 64)     200768    \n",
            " stributed)                                                      \n",
            "                                                                 \n",
            " time_distributed_16 (TimeDi  (None, 30, 2, 2, 64)     256       \n",
            " stributed)                                                      \n",
            "                                                                 \n",
            " time_distributed_17 (TimeDi  (None, 30, 2, 2, 64)     0         \n",
            " stributed)                                                      \n",
            "                                                                 \n",
            " time_distributed_18 (TimeDi  (None, 30, 1, 1, 64)     0         \n",
            " stributed)                                                      \n",
            "                                                                 \n",
            " time_distributed_19 (TimeDi  (None, 30, 64)           0         \n",
            " stributed)                                                      \n",
            "                                                                 \n",
            " lstm (LSTM)                 (None, 64)                33024     \n",
            "                                                                 \n",
            " dense (Dense)               (None, 6)                 390       \n",
            "                                                                 \n",
            "=================================================================\n",
            "Total params: 362,790\n",
            "Trainable params: 362,438\n",
            "Non-trainable params: 352\n",
            "_________________________________________________________________\n",
            "Model Created Successfully!\n"
          ]
        }
      ]
    },
    {
      "cell_type": "code",
      "source": [
        "# Create an Instance of Early Stopping Callback.\n",
        "early_stopping_callback = EarlyStopping(monitor = 'val_loss', patience = 25, mode = 'min', restore_best_weights = True)\n",
        " \n",
        "# Compile the model and specify loss function, optimizer and metrics to the model.\n",
        "LRCN_model.compile(loss = 'categorical_crossentropy', optimizer = 'Adam', metrics = [\"accuracy\"])\n",
        "\n",
        "# Start training the model.\n",
        "LRCN_model_training_history = LRCN_model.fit(x = features_train, y = labels_train, epochs = 100, batch_size = 4 ,\n",
        "                                             shuffle = True, validation_split = 0.1, callbacks = [early_stopping_callback])"
      ],
      "metadata": {
        "id": "-wmt7CHExUgm",
        "outputId": "87988602-2b82-4e86-d0f1-6999a2f81de7",
        "colab": {
          "base_uri": "https://localhost:8080/"
        }
      },
      "execution_count": 15,
      "outputs": [
        {
          "output_type": "stream",
          "name": "stdout",
          "text": [
            "Epoch 1/100\n",
            "419/419 [==============================] - 24s 22ms/step - loss: 1.6651 - accuracy: 0.2778 - val_loss: 1.9466 - val_accuracy: 0.3226\n",
            "Epoch 2/100\n",
            "419/419 [==============================] - 7s 17ms/step - loss: 1.2467 - accuracy: 0.4588 - val_loss: 1.0844 - val_accuracy: 0.5054\n",
            "Epoch 3/100\n",
            "419/419 [==============================] - 7s 17ms/step - loss: 1.1295 - accuracy: 0.5018 - val_loss: 1.2556 - val_accuracy: 0.4570\n",
            "Epoch 4/100\n",
            "419/419 [==============================] - 7s 17ms/step - loss: 1.0004 - accuracy: 0.5627 - val_loss: 2.1429 - val_accuracy: 0.3441\n",
            "Epoch 5/100\n",
            "419/419 [==============================] - 7s 18ms/step - loss: 0.9652 - accuracy: 0.6111 - val_loss: 0.9637 - val_accuracy: 0.5860\n",
            "Epoch 6/100\n",
            "419/419 [==============================] - 7s 17ms/step - loss: 0.8344 - accuracy: 0.6714 - val_loss: 1.5861 - val_accuracy: 0.4409\n",
            "Epoch 7/100\n",
            "419/419 [==============================] - 7s 17ms/step - loss: 0.8162 - accuracy: 0.6703 - val_loss: 0.7904 - val_accuracy: 0.6989\n",
            "Epoch 8/100\n",
            "419/419 [==============================] - 7s 17ms/step - loss: 0.7137 - accuracy: 0.7210 - val_loss: 0.5980 - val_accuracy: 0.7581\n",
            "Epoch 9/100\n",
            "419/419 [==============================] - 7s 17ms/step - loss: 0.6275 - accuracy: 0.7569 - val_loss: 0.7528 - val_accuracy: 0.7366\n",
            "Epoch 10/100\n",
            "419/419 [==============================] - 7s 17ms/step - loss: 0.6090 - accuracy: 0.7628 - val_loss: 0.5658 - val_accuracy: 0.7957\n",
            "Epoch 11/100\n",
            "419/419 [==============================] - 7s 17ms/step - loss: 0.5646 - accuracy: 0.7909 - val_loss: 0.8218 - val_accuracy: 0.7204\n",
            "Epoch 12/100\n",
            "419/419 [==============================] - 7s 17ms/step - loss: 0.5112 - accuracy: 0.8142 - val_loss: 0.5368 - val_accuracy: 0.8280\n",
            "Epoch 13/100\n",
            "419/419 [==============================] - 7s 17ms/step - loss: 0.4230 - accuracy: 0.8524 - val_loss: 0.5310 - val_accuracy: 0.7849\n",
            "Epoch 14/100\n",
            "419/419 [==============================] - 7s 17ms/step - loss: 0.4034 - accuracy: 0.8542 - val_loss: 0.8117 - val_accuracy: 0.7097\n",
            "Epoch 15/100\n",
            "419/419 [==============================] - 7s 17ms/step - loss: 0.3642 - accuracy: 0.8704 - val_loss: 1.3550 - val_accuracy: 0.5914\n",
            "Epoch 16/100\n",
            "419/419 [==============================] - 7s 17ms/step - loss: 0.3358 - accuracy: 0.8829 - val_loss: 0.4571 - val_accuracy: 0.8495\n",
            "Epoch 17/100\n",
            "419/419 [==============================] - 7s 17ms/step - loss: 0.3008 - accuracy: 0.8877 - val_loss: 0.5025 - val_accuracy: 0.8441\n",
            "Epoch 18/100\n",
            "419/419 [==============================] - 7s 17ms/step - loss: 0.2823 - accuracy: 0.8996 - val_loss: 0.4475 - val_accuracy: 0.8710\n",
            "Epoch 19/100\n",
            "419/419 [==============================] - 7s 17ms/step - loss: 0.2665 - accuracy: 0.9038 - val_loss: 0.3028 - val_accuracy: 0.8978\n",
            "Epoch 20/100\n",
            "419/419 [==============================] - 7s 17ms/step - loss: 0.2468 - accuracy: 0.9176 - val_loss: 0.3093 - val_accuracy: 0.9032\n",
            "Epoch 21/100\n",
            "419/419 [==============================] - 7s 17ms/step - loss: 0.2067 - accuracy: 0.9259 - val_loss: 0.2422 - val_accuracy: 0.9247\n",
            "Epoch 22/100\n",
            "419/419 [==============================] - 7s 17ms/step - loss: 0.2130 - accuracy: 0.9361 - val_loss: 0.6931 - val_accuracy: 0.8172\n",
            "Epoch 23/100\n",
            "419/419 [==============================] - 7s 17ms/step - loss: 0.1842 - accuracy: 0.9379 - val_loss: 0.6516 - val_accuracy: 0.7957\n",
            "Epoch 24/100\n",
            "419/419 [==============================] - 7s 17ms/step - loss: 0.1809 - accuracy: 0.9361 - val_loss: 0.3468 - val_accuracy: 0.8710\n",
            "Epoch 25/100\n",
            "419/419 [==============================] - 7s 17ms/step - loss: 0.1764 - accuracy: 0.9456 - val_loss: 0.2542 - val_accuracy: 0.9247\n",
            "Epoch 26/100\n",
            "419/419 [==============================] - 7s 17ms/step - loss: 0.1489 - accuracy: 0.9427 - val_loss: 0.3513 - val_accuracy: 0.8925\n",
            "Epoch 27/100\n",
            "419/419 [==============================] - 7s 17ms/step - loss: 0.1671 - accuracy: 0.9397 - val_loss: 0.4312 - val_accuracy: 0.8656\n",
            "Epoch 28/100\n",
            "419/419 [==============================] - 7s 17ms/step - loss: 0.1298 - accuracy: 0.9522 - val_loss: 0.3664 - val_accuracy: 0.8925\n",
            "Epoch 29/100\n",
            "419/419 [==============================] - 7s 17ms/step - loss: 0.1337 - accuracy: 0.9534 - val_loss: 0.5862 - val_accuracy: 0.8011\n",
            "Epoch 30/100\n",
            "419/419 [==============================] - 7s 17ms/step - loss: 0.1194 - accuracy: 0.9594 - val_loss: 0.4378 - val_accuracy: 0.8441\n",
            "Epoch 31/100\n",
            "419/419 [==============================] - 7s 17ms/step - loss: 0.1443 - accuracy: 0.9504 - val_loss: 0.3546 - val_accuracy: 0.8871\n",
            "Epoch 32/100\n",
            "419/419 [==============================] - 7s 17ms/step - loss: 0.0966 - accuracy: 0.9677 - val_loss: 0.1902 - val_accuracy: 0.9194\n",
            "Epoch 33/100\n",
            "419/419 [==============================] - 7s 17ms/step - loss: 0.1403 - accuracy: 0.9552 - val_loss: 0.3060 - val_accuracy: 0.9194\n",
            "Epoch 34/100\n",
            "419/419 [==============================] - 7s 17ms/step - loss: 0.0927 - accuracy: 0.9671 - val_loss: 1.0097 - val_accuracy: 0.7849\n",
            "Epoch 35/100\n",
            "419/419 [==============================] - 7s 17ms/step - loss: 0.1090 - accuracy: 0.9654 - val_loss: 0.3704 - val_accuracy: 0.8978\n",
            "Epoch 36/100\n",
            "419/419 [==============================] - 7s 17ms/step - loss: 0.0985 - accuracy: 0.9665 - val_loss: 0.4215 - val_accuracy: 0.8925\n",
            "Epoch 37/100\n",
            "419/419 [==============================] - 7s 17ms/step - loss: 0.1140 - accuracy: 0.9582 - val_loss: 2.6157 - val_accuracy: 0.4946\n",
            "Epoch 38/100\n",
            "419/419 [==============================] - 7s 17ms/step - loss: 0.1138 - accuracy: 0.9624 - val_loss: 0.2467 - val_accuracy: 0.9140\n",
            "Epoch 39/100\n",
            "419/419 [==============================] - 7s 17ms/step - loss: 0.0622 - accuracy: 0.9785 - val_loss: 0.2467 - val_accuracy: 0.9355\n",
            "Epoch 40/100\n",
            "419/419 [==============================] - 7s 17ms/step - loss: 0.0669 - accuracy: 0.9785 - val_loss: 0.1782 - val_accuracy: 0.9516\n",
            "Epoch 41/100\n",
            "419/419 [==============================] - 7s 17ms/step - loss: 0.0806 - accuracy: 0.9725 - val_loss: 0.2101 - val_accuracy: 0.9409\n",
            "Epoch 42/100\n",
            "419/419 [==============================] - 7s 17ms/step - loss: 0.0900 - accuracy: 0.9701 - val_loss: 0.4834 - val_accuracy: 0.8602\n",
            "Epoch 43/100\n",
            "419/419 [==============================] - 7s 17ms/step - loss: 0.0804 - accuracy: 0.9713 - val_loss: 0.3331 - val_accuracy: 0.9086\n",
            "Epoch 44/100\n",
            "419/419 [==============================] - 7s 17ms/step - loss: 0.0629 - accuracy: 0.9761 - val_loss: 0.1798 - val_accuracy: 0.9570\n",
            "Epoch 45/100\n",
            "419/419 [==============================] - 7s 17ms/step - loss: 0.0766 - accuracy: 0.9701 - val_loss: 0.2768 - val_accuracy: 0.9194\n",
            "Epoch 46/100\n",
            "419/419 [==============================] - 7s 17ms/step - loss: 0.0652 - accuracy: 0.9797 - val_loss: 0.3247 - val_accuracy: 0.9086\n",
            "Epoch 47/100\n",
            "419/419 [==============================] - 7s 17ms/step - loss: 0.0776 - accuracy: 0.9737 - val_loss: 0.2916 - val_accuracy: 0.9086\n",
            "Epoch 48/100\n",
            "419/419 [==============================] - 7s 17ms/step - loss: 0.0794 - accuracy: 0.9725 - val_loss: 0.2568 - val_accuracy: 0.9247\n",
            "Epoch 49/100\n",
            "419/419 [==============================] - 7s 17ms/step - loss: 0.0596 - accuracy: 0.9809 - val_loss: 0.2923 - val_accuracy: 0.9301\n",
            "Epoch 50/100\n",
            "419/419 [==============================] - 7s 17ms/step - loss: 0.0568 - accuracy: 0.9809 - val_loss: 0.4871 - val_accuracy: 0.8763\n",
            "Epoch 51/100\n",
            "419/419 [==============================] - 7s 17ms/step - loss: 0.0780 - accuracy: 0.9731 - val_loss: 0.3280 - val_accuracy: 0.9247\n",
            "Epoch 52/100\n",
            "419/419 [==============================] - 7s 18ms/step - loss: 0.0601 - accuracy: 0.9827 - val_loss: 0.7248 - val_accuracy: 0.8065\n",
            "Epoch 53/100\n",
            "419/419 [==============================] - 7s 17ms/step - loss: 0.0549 - accuracy: 0.9827 - val_loss: 1.0730 - val_accuracy: 0.7151\n",
            "Epoch 54/100\n",
            "419/419 [==============================] - 7s 17ms/step - loss: 0.0676 - accuracy: 0.9779 - val_loss: 0.9655 - val_accuracy: 0.8011\n",
            "Epoch 55/100\n",
            "419/419 [==============================] - 7s 17ms/step - loss: 0.0550 - accuracy: 0.9803 - val_loss: 0.2757 - val_accuracy: 0.9355\n",
            "Epoch 56/100\n",
            "419/419 [==============================] - 7s 17ms/step - loss: 0.0537 - accuracy: 0.9803 - val_loss: 0.3302 - val_accuracy: 0.9247\n",
            "Epoch 57/100\n",
            "419/419 [==============================] - 7s 17ms/step - loss: 0.0541 - accuracy: 0.9797 - val_loss: 0.9104 - val_accuracy: 0.7957\n",
            "Epoch 58/100\n",
            "419/419 [==============================] - 7s 17ms/step - loss: 0.0740 - accuracy: 0.9731 - val_loss: 0.2531 - val_accuracy: 0.9194\n",
            "Epoch 59/100\n",
            "419/419 [==============================] - 7s 17ms/step - loss: 0.0651 - accuracy: 0.9791 - val_loss: 0.2913 - val_accuracy: 0.9140\n",
            "Epoch 60/100\n",
            "419/419 [==============================] - 7s 17ms/step - loss: 0.0631 - accuracy: 0.9833 - val_loss: 0.2902 - val_accuracy: 0.9301\n",
            "Epoch 61/100\n",
            "419/419 [==============================] - 7s 17ms/step - loss: 0.0449 - accuracy: 0.9869 - val_loss: 0.2540 - val_accuracy: 0.9355\n",
            "Epoch 62/100\n",
            "419/419 [==============================] - 7s 17ms/step - loss: 0.0509 - accuracy: 0.9857 - val_loss: 0.3031 - val_accuracy: 0.9247\n",
            "Epoch 63/100\n",
            "419/419 [==============================] - 7s 17ms/step - loss: 0.0375 - accuracy: 0.9875 - val_loss: 0.2758 - val_accuracy: 0.9140\n",
            "Epoch 64/100\n",
            "419/419 [==============================] - 7s 17ms/step - loss: 0.0510 - accuracy: 0.9881 - val_loss: 0.1992 - val_accuracy: 0.9409\n",
            "Epoch 65/100\n",
            "419/419 [==============================] - 7s 17ms/step - loss: 0.0513 - accuracy: 0.9827 - val_loss: 0.3810 - val_accuracy: 0.9194\n"
          ]
        }
      ]
    },
    {
      "cell_type": "code",
      "source": [
        "# Evaluate the trained model.\n",
        "model_evaluation_history = LRCN_model.evaluate(features_test, labels_test)"
      ],
      "metadata": {
        "id": "hhLgaWvCxZ-e",
        "outputId": "6d903d5d-c89b-4141-f5a2-668e58bbd01d",
        "colab": {
          "base_uri": "https://localhost:8080/"
        }
      },
      "execution_count": 16,
      "outputs": [
        {
          "output_type": "stream",
          "name": "stdout",
          "text": [
            "7/7 [==============================] - 0s 41ms/step - loss: 0.1934 - accuracy: 0.9469\n"
          ]
        }
      ]
    },
    {
      "cell_type": "code",
      "source": [
        "# Get the loss and accuracy from model_evaluation_history.\n",
        "model_evaluation_loss, model_evaluation_accuracy = model_evaluation_history\n",
        "\n",
        "# Define the string date format.\n",
        "# Get the current Date and Time in a DateTime Object.\n",
        "# Convert the DateTime object to string according to the style mentioned in date_time_format string.\n",
        "date_time_format = '%Y_%m_%d__%H_%M_%S'\n",
        "current_date_time_dt = dt.datetime.now()\n",
        "current_date_time_string = dt.datetime.strftime(current_date_time_dt, date_time_format)\n",
        "    \n",
        "# Define a useful name for our model to make it easy for us while navigating through multiple saved models.\n",
        "model_file_name = f'landmark3_lr=0.001___Accuracy_{model_evaluation_accuracy}___Loss_{model_evaluation_loss}.h5'\n",
        "\n",
        "# Save the Model.\n",
        "#LRCN_model.save('/content/drive/My Drive/marwa/saved_models/lrcn/'+model_file_name)"
      ],
      "metadata": {
        "id": "g8wWe5lR1GRp"
      },
      "execution_count": null,
      "outputs": []
    },
    {
      "cell_type": "code",
      "source": [
        "def plot_metric(model_training_history, metric_name_1, metric_name_2, plot_name):\n",
        "    '''\n",
        "    This function will plot the metrics passed to it in a graph.\n",
        "    Args:\n",
        "        model_training_history: A history object containing a record of training and validation \n",
        "                                loss values and metrics values at successive epochs\n",
        "        metric_name_1:          The name of the first metric that needs to be plotted in the graph.\n",
        "        metric_name_2:          The name of the second metric that needs to be plotted in the graph.\n",
        "        plot_name:              The title of the graph.\n",
        "    '''\n",
        "    \n",
        "    # Get metric values using metric names as identifiers.\n",
        "    metric_value_1 = model_training_history.history[metric_name_1]\n",
        "    metric_value_2 = model_training_history.history[metric_name_2]\n",
        "    \n",
        "    # Construct a range object which will be used as x-axis (horizontal plane) of the graph.\n",
        "    epochs = range(len(metric_value_1))\n",
        "\n",
        "    # Plot the Graph.\n",
        "    plt.plot(epochs, metric_value_1, 'blue', label = metric_name_1)\n",
        "    plt.plot(epochs, metric_value_2, 'red', label = metric_name_2)\n",
        "\n",
        "    # Add title to the plot.\n",
        "    plt.title(str(plot_name))\n",
        "\n",
        "    # Add legend to the plot.\n",
        "    plt.legend()"
      ],
      "metadata": {
        "id": "ZiSh_i871KAd"
      },
      "execution_count": 17,
      "outputs": []
    },
    {
      "cell_type": "code",
      "source": [
        "# Visualize the training and validation loss metrices.\n",
        "plot_metric(LRCN_model_training_history, 'loss', 'val_loss', 'Total Loss vs Total Validation Loss')"
      ],
      "metadata": {
        "id": "7HjkIAJj1Ncw",
        "outputId": "73fbdda9-6175-4ea3-a084-b92cbc31e3d2",
        "colab": {
          "base_uri": "https://localhost:8080/",
          "height": 281
        }
      },
      "execution_count": 18,
      "outputs": [
        {
          "output_type": "display_data",
          "data": {
            "text/plain": [
              "<Figure size 432x288 with 1 Axes>"
            ],
            "image/png": "[encoded data removed]"
          },
          "metadata": {
            "needs_background": "light"
          }
        }
      ]
    },
    {
      "cell_type": "code",
      "source": [
        "\n",
        "# Visualize the training and validation accuracy metrices.\n",
        "plot_metric(LRCN_model_training_history, 'accuracy', 'val_accuracy', 'Total Accuracy vs Total Validation Accuracy')"
      ],
      "metadata": {
        "id": "sYTDhDnq1Qce",
        "outputId": "168d5012-8765-4923-a6a3-3bdccb0b58b8",
        "colab": {
          "base_uri": "https://localhost:8080/",
          "height": 281
        }
      },
      "execution_count": 19,
      "outputs": [
        {
          "output_type": "display_data",
          "data": {
            "text/plain": [
              "<Figure size 432x288 with 1 Axes>"
            ],
            "image/png": "[encoded data removed]"
          },
          "metadata": {
            "needs_background": "light"
          }
        }
      ]
    },
    {
      "cell_type": "code",
      "source": [
        "predictions =  LRCN_model.predict(features_test)\n",
        "predictions"
      ],
      "metadata": {
        "id": "KrJfAkU41SlN",
        "outputId": "5742ff06-ed06-4c2f-ffcb-94eb6a0b0ec9",
        "colab": {
          "base_uri": "https://localhost:8080/"
        }
      },
      "execution_count": 20,
      "outputs": [
        {
          "output_type": "execute_result",
          "data": {
            "text/plain": [
              "array([[8.80303383e-01, 4.44745459e-03, 3.72033355e-06, 1.14100635e-01,\n",
              "        6.16694815e-05, 1.08311523e-03],\n",
              "       [1.86249206e-03, 6.35923678e-03, 1.86840276e-04, 8.72702360e-01,\n",
              "        2.20450051e-02, 9.68440622e-02],\n",
              "       [1.16994073e-07, 1.13896960e-04, 9.99871254e-01, 8.21549202e-06,\n",
              "        3.16730325e-06, 3.25789597e-06],\n",
              "       ...,\n",
              "       [9.78379743e-04, 7.70844286e-04, 7.85900193e-05, 1.45686707e-02,\n",
              "        8.06457818e-01, 1.77145734e-01],\n",
              "       [6.90489287e-06, 3.87986183e-05, 2.01628263e-05, 1.98033697e-04,\n",
              "        9.95060265e-01, 4.67583816e-03],\n",
              "       [8.71143784e-05, 9.99566972e-01, 2.45249743e-04, 9.63201164e-05,\n",
              "        2.89156765e-06, 1.33884305e-06]], dtype=float32)"
            ]
          },
          "metadata": {},
          "execution_count": 20
        }
      ]
    },
    {
      "cell_type": "code",
      "source": [
        "preds=predictions.argmax(axis=1)\n",
        "preds"
      ],
      "metadata": {
        "id": "IWZvTQCa1W6M",
        "outputId": "2f34fbcd-c4ba-4801-f5be-864a2054e2bf",
        "colab": {
          "base_uri": "https://localhost:8080/"
        }
      },
      "execution_count": 21,
      "outputs": [
        {
          "output_type": "execute_result",
          "data": {
            "text/plain": [
              "array([0, 3, 2, 5, 5, 2, 5, 1, 4, 0, 3, 1, 4, 0, 4, 5, 4, 1, 1, 1, 3, 2,\n",
              "       0, 2, 2, 5, 3, 5, 5, 5, 5, 4, 5, 0, 2, 2, 4, 1, 5, 4, 2, 2, 1, 5,\n",
              "       2, 1, 5, 5, 4, 5, 4, 2, 1, 3, 3, 0, 3, 0, 2, 5, 4, 4, 5, 3, 1, 3,\n",
              "       1, 0, 5, 1, 1, 2, 5, 3, 5, 4, 0, 3, 4, 4, 3, 4, 5, 0, 0, 1, 2, 3,\n",
              "       3, 5, 5, 1, 0, 1, 5, 5, 1, 2, 5, 3, 4, 3, 3, 5, 4, 3, 2, 1, 4, 1,\n",
              "       5, 2, 0, 1, 4, 0, 4, 1, 1, 1, 1, 5, 1, 4, 1, 2, 3, 2, 5, 1, 1, 0,\n",
              "       1, 5, 1, 0, 5, 0, 1, 1, 2, 1, 2, 3, 1, 2, 3, 0, 0, 3, 2, 3, 5, 3,\n",
              "       1, 2, 1, 3, 0, 0, 1, 3, 3, 2, 4, 1, 3, 0, 5, 4, 4, 3, 1, 5, 3, 1,\n",
              "       5, 0, 4, 5, 4, 0, 0, 5, 3, 3, 1, 3, 3, 4, 1, 4, 1, 0, 4, 2, 3, 1,\n",
              "       4, 5, 3, 2, 5, 2, 4, 4, 1])"
            ]
          },
          "metadata": {},
          "execution_count": 21
        }
      ]
    },
    {
      "cell_type": "code",
      "source": [
        "new_preds = preds.astype(int).flatten()\n",
        "new_preds"
      ],
      "metadata": {
        "id": "0CpgXIkh1Z_v",
        "outputId": "a1de5ccf-2188-4038-c301-725c3b761e46",
        "colab": {
          "base_uri": "https://localhost:8080/"
        }
      },
      "execution_count": 22,
      "outputs": [
        {
          "output_type": "execute_result",
          "data": {
            "text/plain": [
              "array([0, 3, 2, 5, 5, 2, 5, 1, 4, 0, 3, 1, 4, 0, 4, 5, 4, 1, 1, 1, 3, 2,\n",
              "       0, 2, 2, 5, 3, 5, 5, 5, 5, 4, 5, 0, 2, 2, 4, 1, 5, 4, 2, 2, 1, 5,\n",
              "       2, 1, 5, 5, 4, 5, 4, 2, 1, 3, 3, 0, 3, 0, 2, 5, 4, 4, 5, 3, 1, 3,\n",
              "       1, 0, 5, 1, 1, 2, 5, 3, 5, 4, 0, 3, 4, 4, 3, 4, 5, 0, 0, 1, 2, 3,\n",
              "       3, 5, 5, 1, 0, 1, 5, 5, 1, 2, 5, 3, 4, 3, 3, 5, 4, 3, 2, 1, 4, 1,\n",
              "       5, 2, 0, 1, 4, 0, 4, 1, 1, 1, 1, 5, 1, 4, 1, 2, 3, 2, 5, 1, 1, 0,\n",
              "       1, 5, 1, 0, 5, 0, 1, 1, 2, 1, 2, 3, 1, 2, 3, 0, 0, 3, 2, 3, 5, 3,\n",
              "       1, 2, 1, 3, 0, 0, 1, 3, 3, 2, 4, 1, 3, 0, 5, 4, 4, 3, 1, 5, 3, 1,\n",
              "       5, 0, 4, 5, 4, 0, 0, 5, 3, 3, 1, 3, 3, 4, 1, 4, 1, 0, 4, 2, 3, 1,\n",
              "       4, 5, 3, 2, 5, 2, 4, 4, 1])"
            ]
          },
          "metadata": {},
          "execution_count": 22
        }
      ]
    },
    {
      "cell_type": "code",
      "source": [
        "\n",
        "from sklearn.metrics import classification_report, confusion_matrix,accuracy_score\n",
        "import seaborn as sn\n",
        "import pandas as pd\n",
        "import numpy as np\n",
        "new_labels=np.argmax(labels_test, axis=1)\n",
        "print(classification_report(new_labels,new_preds))\n",
        "\n",
        "acc = float(accuracy_score(new_labels,new_preds))*100\n",
        "print(\"----accuracy score %s ----\" % acc)\n",
        "\n",
        "cm = confusion_matrix(new_labels,new_preds)\n",
        "#df_cm = pd.DataFrame(cm)\n",
        "class_names = ['neutral','calm', 'happy','sad','angry', 'fearful' ]\n",
        "df_cm = pd.DataFrame(cm, index=class_names, columns=class_names,)\n",
        "sn.heatmap(df_cm, annot=True, fmt='')\n",
        "plt.show()"
      ],
      "metadata": {
        "id": "7U3HwUqc1cft",
        "outputId": "9af9343f-7dc5-4862-b5ce-a44deecaa1e7",
        "colab": {
          "base_uri": "https://localhost:8080/",
          "height": 508
        }
      },
      "execution_count": 23,
      "outputs": [
        {
          "output_type": "stream",
          "name": "stdout",
          "text": [
            "              precision    recall  f1-score   support\n",
            "\n",
            "           0       0.96      0.93      0.94        27\n",
            "           1       0.96      0.98      0.97        44\n",
            "           2       1.00      0.93      0.97        30\n",
            "           3       0.89      0.94      0.91        34\n",
            "           4       1.00      0.94      0.97        34\n",
            "           5       0.90      0.95      0.92        38\n",
            "\n",
            "    accuracy                           0.95       207\n",
            "   macro avg       0.95      0.94      0.95       207\n",
            "weighted avg       0.95      0.95      0.95       207\n",
            "\n",
            "----accuracy score 94.68599033816425 ----\n"
          ]
        },
        {
          "output_type": "display_data",
          "data": {
            "text/plain": [
              "<Figure size 432x288 with 2 Axes>"
            ],
            "image/png": "[encoded data removed]"
          },
          "metadata": {
            "needs_background": "light"
          }
        }
      ]
    },
    {
      "cell_type": "code",
      "source": [
        ""
      ],
      "metadata": {
        "id": "pVlEoCq0-0n3"
      },
      "execution_count": null,
      "outputs": []
    }
  ]
}