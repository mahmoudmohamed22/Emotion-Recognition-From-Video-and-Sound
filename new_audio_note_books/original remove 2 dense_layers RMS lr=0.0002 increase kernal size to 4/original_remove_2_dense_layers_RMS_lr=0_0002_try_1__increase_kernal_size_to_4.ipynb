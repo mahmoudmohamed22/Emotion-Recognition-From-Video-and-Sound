{
  "nbformat": 4,
  "nbformat_minor": 0,
  "metadata": {
    "colab": {
      "name": "original_remove_2_dense_layers_RMS_lr=0_0002_try_1_ increase kernal size to 4.ipynb",
      "provenance": [],
      "collapsed_sections": []
    },
    "kernelspec": {
      "name": "python3",
      "display_name": "Python 3"
    },
    "language_info": {
      "name": "python"
    },
    "accelerator": "TPU"
  },
  "cells": [
    {
      "cell_type": "code",
      "execution_count": 1,
      "metadata": {
        "colab": {
          "base_uri": "https://localhost:8080/"
        },
        "id": "9SRCO-a_AlH5",
        "outputId": "2389bc3c-2a8e-4fcc-bd80-8871f99d5c6e"
      },
      "outputs": [
        {
          "output_type": "stream",
          "name": "stdout",
          "text": [
            "Drive already mounted at /content/drive; to attempt to forcibly remount, call drive.mount(\"/content/drive\", force_remount=True).\n"
          ]
        }
      ],
      "source": [
        "from google.colab import drive\n",
        "drive.mount('/content/drive')"
      ]
    },
    {
      "cell_type": "code",
      "source": [
        "!pip install librosa"
      ],
      "metadata": {
        "colab": {
          "base_uri": "https://localhost:8080/"
        },
        "id": "5Lo4mUwG9RMd",
        "outputId": "8f88919e-f28b-4e5e-d572-4f48aa59888d"
      },
      "execution_count": 2,
      "outputs": [
        {
          "output_type": "stream",
          "name": "stdout",
          "text": [
            "Looking in indexes: https://pypi.org/simple, https://us-python.pkg.dev/colab-wheels/public/simple/\n",
            "Requirement already satisfied: librosa in /usr/local/lib/python3.7/dist-packages (0.8.1)\n",
            "Requirement already satisfied: numpy>=1.15.0 in /usr/local/lib/python3.7/dist-packages (from librosa) (1.21.6)\n",
            "Requirement already satisfied: scipy>=1.0.0 in /usr/local/lib/python3.7/dist-packages (from librosa) (1.4.1)\n",
            "Requirement already satisfied: resampy>=0.2.2 in /usr/local/lib/python3.7/dist-packages (from librosa) (0.2.2)\n",
            "Requirement already satisfied: packaging>=20.0 in /usr/local/lib/python3.7/dist-packages (from librosa) (21.3)\n",
            "Requirement already satisfied: joblib>=0.14 in /usr/local/lib/python3.7/dist-packages (from librosa) (1.1.0)\n",
            "Requirement already satisfied: scikit-learn!=0.19.0,>=0.14.0 in /usr/local/lib/python3.7/dist-packages (from librosa) (1.0.2)\n",
            "Requirement already satisfied: pooch>=1.0 in /usr/local/lib/python3.7/dist-packages (from librosa) (1.6.0)\n",
            "Requirement already satisfied: audioread>=2.0.0 in /usr/local/lib/python3.7/dist-packages (from librosa) (2.1.9)\n",
            "Requirement already satisfied: soundfile>=0.10.2 in /usr/local/lib/python3.7/dist-packages (from librosa) (0.10.3.post1)\n",
            "Requirement already satisfied: decorator>=3.0.0 in /usr/local/lib/python3.7/dist-packages (from librosa) (4.4.2)\n",
            "Requirement already satisfied: numba>=0.43.0 in /usr/local/lib/python3.7/dist-packages (from librosa) (0.51.2)\n",
            "Requirement already satisfied: setuptools in /usr/local/lib/python3.7/dist-packages (from numba>=0.43.0->librosa) (57.4.0)\n",
            "Requirement already satisfied: llvmlite<0.35,>=0.34.0.dev0 in /usr/local/lib/python3.7/dist-packages (from numba>=0.43.0->librosa) (0.34.0)\n",
            "Requirement already satisfied: pyparsing!=3.0.5,>=2.0.2 in /usr/local/lib/python3.7/dist-packages (from packaging>=20.0->librosa) (3.0.9)\n",
            "Requirement already satisfied: appdirs>=1.3.0 in /usr/local/lib/python3.7/dist-packages (from pooch>=1.0->librosa) (1.4.4)\n",
            "Requirement already satisfied: requests>=2.19.0 in /usr/local/lib/python3.7/dist-packages (from pooch>=1.0->librosa) (2.23.0)\n",
            "Requirement already satisfied: chardet<4,>=3.0.2 in /usr/local/lib/python3.7/dist-packages (from requests>=2.19.0->pooch>=1.0->librosa) (3.0.4)\n",
            "Requirement already satisfied: urllib3!=1.25.0,!=1.25.1,<1.26,>=1.21.1 in /usr/local/lib/python3.7/dist-packages (from requests>=2.19.0->pooch>=1.0->librosa) (1.24.3)\n",
            "Requirement already satisfied: idna<3,>=2.5 in /usr/local/lib/python3.7/dist-packages (from requests>=2.19.0->pooch>=1.0->librosa) (2.10)\n",
            "Requirement already satisfied: certifi>=2017.4.17 in /usr/local/lib/python3.7/dist-packages (from requests>=2.19.0->pooch>=1.0->librosa) (2022.5.18.1)\n",
            "Requirement already satisfied: six>=1.3 in /usr/local/lib/python3.7/dist-packages (from resampy>=0.2.2->librosa) (1.15.0)\n",
            "Requirement already satisfied: threadpoolctl>=2.0.0 in /usr/local/lib/python3.7/dist-packages (from scikit-learn!=0.19.0,>=0.14.0->librosa) (3.1.0)\n",
            "Requirement already satisfied: cffi>=1.0 in /usr/local/lib/python3.7/dist-packages (from soundfile>=0.10.2->librosa) (1.15.0)\n",
            "Requirement already satisfied: pycparser in /usr/local/lib/python3.7/dist-packages (from cffi>=1.0->soundfile>=0.10.2->librosa) (2.21)\n"
          ]
        }
      ]
    },
    {
      "cell_type": "code",
      "metadata": {
        "id": "HJjcbxwy46bG",
        "colab": {
          "base_uri": "https://localhost:8080/",
          "height": 17
        },
        "outputId": "555882f3-a233-467a-d68f-1e65e3c9fc48"
      },
      "source": [
        "# Orignial Notebook: https://github.com/MITESHPUTHRANNEU/Speech-Emotion-Analyzer/blob/master/final_results_gender_test.ipynb\n",
        "# This notebook author: Reza Chu\n",
        "# Last Editing Date: 31st May 2019\n",
        "\n",
        "## Python\n",
        "import os\n",
        "import random\n",
        "import sys\n",
        "\n",
        "import IPython\n",
        "from IPython.display import Audio\n",
        "from IPython.display import Image\n",
        "import matplotlib.pyplot as plt\n",
        "\n",
        "## Package\n",
        "import glob \n",
        "import keras\n",
        "import IPython.display as ipd\n",
        "import librosa\n",
        "import librosa.display\n",
        "import matplotlib.pyplot as plt\n",
        "import numpy as np\n",
        "import pandas as pd\n",
        "import plotly.graph_objs as go\n",
        "import plotly.offline as py\n",
        "import plotly.tools as tls\n",
        "import seaborn as sns\n",
        "import scipy.io.wavfile\n",
        "import tensorflow as tf\n",
        "py.init_notebook_mode(connected=True)\n",
        "\n",
        "## Keras\n",
        "from keras import regularizers\n",
        "from keras.callbacks import ModelCheckpoint, LearningRateScheduler, EarlyStopping\n",
        "from keras.callbacks import  History, ReduceLROnPlateau, CSVLogger\n",
        "from keras.models import Model, Sequential\n",
        "from keras.layers import Dense, Embedding, LSTM\n",
        "from keras.layers import Input, Flatten, Dropout, Activation, BatchNormalization\n",
        "from keras.layers import Conv1D, MaxPooling1D, AveragePooling1D\n",
        "from keras.preprocessing import sequence\n",
        "from keras.preprocessing.sequence import pad_sequences\n",
        "from keras.preprocessing.text import Tokenizer\n",
        "from keras.utils import np_utils\n",
        "from tensorflow.keras.utils import to_categorical\n",
        "\n",
        "## Sklearn\n",
        "from sklearn.metrics import confusion_matrix\n",
        "from sklearn.preprocessing import LabelEncoder\n",
        "\n",
        "## Rest\n",
        "from scipy.fftpack import fft\n",
        "from scipy import signal\n",
        "from scipy.io import wavfile\n",
        "from tqdm import tqdm\n",
        "\n",
        "input_duration=3\n",
        "# % pylab inline"
      ],
      "execution_count": 3,
      "outputs": [
        {
          "output_type": "display_data",
          "data": {
            "text/html": [
              "        <script type=\"text/javascript\">\n",
              "        window.PlotlyConfig = {MathJaxConfig: 'local'};\n",
              "        if (window.MathJax) {MathJax.Hub.Config({SVG: {font: \"STIX-Web\"}});}\n",
              "        if (typeof require !== 'undefined') {\n",
              "        require.undef(\"plotly\");\n",
              "        requirejs.config({\n",
              "            paths: {\n",
              "                'plotly': ['https://cdn.plot.ly/plotly-2.8.3.min']\n",
              "            }\n",
              "        });\n",
              "        require(['plotly'], function(Plotly) {\n",
              "            window._Plotly = Plotly;\n",
              "        });\n",
              "        }\n",
              "        </script>\n",
              "        "
            ]
          },
          "metadata": {}
        }
      ]
    },
    {
      "cell_type": "code",
      "source": [
        "# # Saving joblib files to not load them again with the loop above\n",
        "\n",
        "# import joblib\n",
        "\n",
        "# X_name = 'x.joblib'\n",
        "# y_name = 'y.joblib'\n",
        "# save_dir = '/content/drive/My Drive/graduation project/audio/paper_code/features'\n",
        "\n",
        "# savedX = joblib.dump(X, os.path.join(save_dir, X_name))\n",
        "# savedy = joblib.dump(y, os.path.join(save_dir, y_name))"
      ],
      "metadata": {
        "id": "UCzic8rlDcuk"
      },
      "execution_count": 4,
      "outputs": []
    },
    {
      "cell_type": "code",
      "source": [
        "# # Loading saved models\n",
        "import joblib\n",
        "X = joblib.load('/content/drive/My Drive/graduation project/audio/paper_code/features/x.joblib')\n",
        "y = joblib.load('/content/drive/My Drive/graduation project/audio/paper_code/features/y.joblib')"
      ],
      "metadata": {
        "id": "Q35CN6zDrzg1"
      },
      "execution_count": 5,
      "outputs": []
    },
    {
      "cell_type": "code",
      "source": [
        "X.shape"
      ],
      "metadata": {
        "id": "7PSTurzjCo5K",
        "colab": {
          "base_uri": "https://localhost:8080/"
        },
        "outputId": "81c7ef17-6698-4e3b-f70e-4e7da36093d6"
      },
      "execution_count": 6,
      "outputs": [
        {
          "output_type": "execute_result",
          "data": {
            "text/plain": [
              "(2068, 40)"
            ]
          },
          "metadata": {},
          "execution_count": 6
        }
      ]
    },
    {
      "cell_type": "code",
      "source": [
        "from sklearn.model_selection import train_test_split\n",
        "\n",
        "X_train, X_test, y_train, y_test = train_test_split(X,y, test_size=0.1 ,shuffle = True\n",
        "                                                    , random_state=42)\n",
        "X_train , X_valid, y_train, y_valid = train_test_split(X_train,y_train, test_size=0.1112305212 , shuffle = True \n",
        "                                                       , random_state=42)"
      ],
      "metadata": {
        "id": "Ai4Fy5cPCiq1"
      },
      "execution_count": 7,
      "outputs": []
    },
    {
      "cell_type": "code",
      "source": [
        "import numpy as np\n",
        "x_traincnn = np.expand_dims(X_train, axis=2)\n",
        "x_testcnn = np.expand_dims(X_test, axis=2)\n",
        "X_valid= np.expand_dims(X_valid, axis=2)"
      ],
      "metadata": {
        "id": "tp1Fm5K3CEXu"
      },
      "execution_count": 8,
      "outputs": []
    },
    {
      "cell_type": "code",
      "source": [
        "x_traincnn.shape, x_testcnn.shape , X_valid.shape\n",
        "#1861"
      ],
      "metadata": {
        "id": "RI0MxoIPBws5",
        "colab": {
          "base_uri": "https://localhost:8080/"
        },
        "outputId": "756c8e02-7a33-48f0-dbd0-6e89fd72fb57"
      },
      "execution_count": 9,
      "outputs": [
        {
          "output_type": "execute_result",
          "data": {
            "text/plain": [
              "((1654, 40, 1), (207, 40, 1), (207, 40, 1))"
            ]
          },
          "metadata": {},
          "execution_count": 9
        }
      ]
    },
    {
      "cell_type": "code",
      "source": [
        "!pip install tensorflow"
      ],
      "metadata": {
        "id": "oALhiMUd9G2Y",
        "colab": {
          "base_uri": "https://localhost:8080/"
        },
        "outputId": "eccfc014-d62d-4470-b891-51a698ffe1a5"
      },
      "execution_count": 10,
      "outputs": [
        {
          "output_type": "stream",
          "name": "stdout",
          "text": [
            "Looking in indexes: https://pypi.org/simple, https://us-python.pkg.dev/colab-wheels/public/simple/\n",
            "Requirement already satisfied: tensorflow in /usr/local/lib/python3.7/dist-packages (2.8.2+zzzcolab20220527125636)\n",
            "Requirement already satisfied: setuptools in /usr/local/lib/python3.7/dist-packages (from tensorflow) (57.4.0)\n",
            "Requirement already satisfied: grpcio<2.0,>=1.24.3 in /usr/local/lib/python3.7/dist-packages (from tensorflow) (1.46.3)\n",
            "Requirement already satisfied: gast>=0.2.1 in /usr/local/lib/python3.7/dist-packages (from tensorflow) (0.5.3)\n",
            "Requirement already satisfied: tensorflow-io-gcs-filesystem>=0.23.1 in /usr/local/lib/python3.7/dist-packages (from tensorflow) (0.26.0)\n",
            "Requirement already satisfied: astunparse>=1.6.0 in /usr/local/lib/python3.7/dist-packages (from tensorflow) (1.6.3)\n",
            "Requirement already satisfied: typing-extensions>=3.6.6 in /usr/local/lib/python3.7/dist-packages (from tensorflow) (4.2.0)\n",
            "Requirement already satisfied: keras<2.9,>=2.8.0rc0 in /usr/local/lib/python3.7/dist-packages (from tensorflow) (2.8.0)\n",
            "Requirement already satisfied: libclang>=9.0.1 in /usr/local/lib/python3.7/dist-packages (from tensorflow) (14.0.1)\n",
            "Requirement already satisfied: absl-py>=0.4.0 in /usr/local/lib/python3.7/dist-packages (from tensorflow) (1.0.0)\n",
            "Requirement already satisfied: tensorflow-estimator<2.9,>=2.8 in /usr/local/lib/python3.7/dist-packages (from tensorflow) (2.8.0)\n",
            "Requirement already satisfied: protobuf<3.20,>=3.9.2 in /usr/local/lib/python3.7/dist-packages (from tensorflow) (3.17.3)\n",
            "Requirement already satisfied: wrapt>=1.11.0 in /usr/local/lib/python3.7/dist-packages (from tensorflow) (1.14.1)\n",
            "Requirement already satisfied: flatbuffers>=1.12 in /usr/local/lib/python3.7/dist-packages (from tensorflow) (2.0)\n",
            "Requirement already satisfied: opt-einsum>=2.3.2 in /usr/local/lib/python3.7/dist-packages (from tensorflow) (3.3.0)\n",
            "Requirement already satisfied: six>=1.12.0 in /usr/local/lib/python3.7/dist-packages (from tensorflow) (1.15.0)\n",
            "Requirement already satisfied: numpy>=1.20 in /usr/local/lib/python3.7/dist-packages (from tensorflow) (1.21.6)\n",
            "Requirement already satisfied: tensorboard<2.9,>=2.8 in /usr/local/lib/python3.7/dist-packages (from tensorflow) (2.8.0)\n",
            "Requirement already satisfied: h5py>=2.9.0 in /usr/local/lib/python3.7/dist-packages (from tensorflow) (3.1.0)\n",
            "Requirement already satisfied: termcolor>=1.1.0 in /usr/local/lib/python3.7/dist-packages (from tensorflow) (1.1.0)\n",
            "Requirement already satisfied: keras-preprocessing>=1.1.1 in /usr/local/lib/python3.7/dist-packages (from tensorflow) (1.1.2)\n",
            "Requirement already satisfied: google-pasta>=0.1.1 in /usr/local/lib/python3.7/dist-packages (from tensorflow) (0.2.0)\n",
            "Requirement already satisfied: wheel<1.0,>=0.23.0 in /usr/local/lib/python3.7/dist-packages (from astunparse>=1.6.0->tensorflow) (0.37.1)\n",
            "Requirement already satisfied: cached-property in /usr/local/lib/python3.7/dist-packages (from h5py>=2.9.0->tensorflow) (1.5.2)\n",
            "Requirement already satisfied: tensorboard-plugin-wit>=1.6.0 in /usr/local/lib/python3.7/dist-packages (from tensorboard<2.9,>=2.8->tensorflow) (1.8.1)\n",
            "Requirement already satisfied: google-auth-oauthlib<0.5,>=0.4.1 in /usr/local/lib/python3.7/dist-packages (from tensorboard<2.9,>=2.8->tensorflow) (0.4.6)\n",
            "Requirement already satisfied: tensorboard-data-server<0.7.0,>=0.6.0 in /usr/local/lib/python3.7/dist-packages (from tensorboard<2.9,>=2.8->tensorflow) (0.6.1)\n",
            "Requirement already satisfied: markdown>=2.6.8 in /usr/local/lib/python3.7/dist-packages (from tensorboard<2.9,>=2.8->tensorflow) (3.3.7)\n",
            "Requirement already satisfied: werkzeug>=0.11.15 in /usr/local/lib/python3.7/dist-packages (from tensorboard<2.9,>=2.8->tensorflow) (1.0.1)\n",
            "Requirement already satisfied: requests<3,>=2.21.0 in /usr/local/lib/python3.7/dist-packages (from tensorboard<2.9,>=2.8->tensorflow) (2.23.0)\n",
            "Requirement already satisfied: google-auth<3,>=1.6.3 in /usr/local/lib/python3.7/dist-packages (from tensorboard<2.9,>=2.8->tensorflow) (1.35.0)\n",
            "Requirement already satisfied: rsa<5,>=3.1.4 in /usr/local/lib/python3.7/dist-packages (from google-auth<3,>=1.6.3->tensorboard<2.9,>=2.8->tensorflow) (4.8)\n",
            "Requirement already satisfied: cachetools<5.0,>=2.0.0 in /usr/local/lib/python3.7/dist-packages (from google-auth<3,>=1.6.3->tensorboard<2.9,>=2.8->tensorflow) (4.2.4)\n",
            "Requirement already satisfied: pyasn1-modules>=0.2.1 in /usr/local/lib/python3.7/dist-packages (from google-auth<3,>=1.6.3->tensorboard<2.9,>=2.8->tensorflow) (0.2.8)\n",
            "Requirement already satisfied: requests-oauthlib>=0.7.0 in /usr/local/lib/python3.7/dist-packages (from google-auth-oauthlib<0.5,>=0.4.1->tensorboard<2.9,>=2.8->tensorflow) (1.3.1)\n",
            "Requirement already satisfied: importlib-metadata>=4.4 in /usr/local/lib/python3.7/dist-packages (from markdown>=2.6.8->tensorboard<2.9,>=2.8->tensorflow) (4.11.4)\n",
            "Requirement already satisfied: zipp>=0.5 in /usr/local/lib/python3.7/dist-packages (from importlib-metadata>=4.4->markdown>=2.6.8->tensorboard<2.9,>=2.8->tensorflow) (3.8.0)\n",
            "Requirement already satisfied: pyasn1<0.5.0,>=0.4.6 in /usr/local/lib/python3.7/dist-packages (from pyasn1-modules>=0.2.1->google-auth<3,>=1.6.3->tensorboard<2.9,>=2.8->tensorflow) (0.4.8)\n",
            "Requirement already satisfied: chardet<4,>=3.0.2 in /usr/local/lib/python3.7/dist-packages (from requests<3,>=2.21.0->tensorboard<2.9,>=2.8->tensorflow) (3.0.4)\n",
            "Requirement already satisfied: idna<3,>=2.5 in /usr/local/lib/python3.7/dist-packages (from requests<3,>=2.21.0->tensorboard<2.9,>=2.8->tensorflow) (2.10)\n",
            "Requirement already satisfied: certifi>=2017.4.17 in /usr/local/lib/python3.7/dist-packages (from requests<3,>=2.21.0->tensorboard<2.9,>=2.8->tensorflow) (2022.5.18.1)\n",
            "Requirement already satisfied: urllib3!=1.25.0,!=1.25.1,<1.26,>=1.21.1 in /usr/local/lib/python3.7/dist-packages (from requests<3,>=2.21.0->tensorboard<2.9,>=2.8->tensorflow) (1.24.3)\n",
            "Requirement already satisfied: oauthlib>=3.0.0 in /usr/local/lib/python3.7/dist-packages (from requests-oauthlib>=0.7.0->google-auth-oauthlib<0.5,>=0.4.1->tensorboard<2.9,>=2.8->tensorflow) (3.2.0)\n"
          ]
        }
      ]
    },
    {
      "cell_type": "code",
      "source": [
        "import keras\n",
        "import numpy as np\n",
        "import matplotlib.pyplot as plt\n",
        "import tensorflow as tf\n",
        "from keras.preprocessing import sequence\n",
        "from keras.models import Sequential\n",
        "from keras.layers import Dense, Embedding\n",
        "from tensorflow.keras.utils import to_categorical\n",
        "from keras.layers import Input, Flatten, Dropout, Activation\n",
        "from keras.layers import Conv1D, MaxPooling1D\n",
        "from keras.models import Model\n",
        "from keras.callbacks import ModelCheckpoint\n",
        "from tensorflow.keras import optimizers\n",
        "\n",
        "model = Sequential()\n",
        "\n",
        "model.add(Conv1D(128, 4,padding='same', #classifier.add(Convolution2D(64, (3, 3), padding = 'same', input_shape = (128, 128, 3), activation = 'relu'))\n",
        "                 input_shape=(40,1)))\n",
        "model.add(Activation('relu'))\n",
        "model.add(Dropout(0.3))\n",
        "model.add(MaxPooling1D(pool_size=(5)))\n",
        "\n",
        "\n",
        "model.add(Conv1D(256,4,padding='same',))\n",
        "model.add(Activation('relu'))\n",
        "model.add(Dropout(0.3))\n",
        "model.add(MaxPooling1D(pool_size=(5)))\n",
        "\n",
        "#model.add(MaxPooling1D(pool_size=(5)))\n",
        "\n",
        "model.add(Flatten())\n",
        "\n",
        "\n",
        "\n",
        "model.add(Dense(6))\n",
        "model.add(Activation('softmax'))\n",
        "\n",
        "\n",
        "opt = tf.keras.optimizers.RMSprop(lr=0.0002 , decay=0.0)\n",
        "#opt = tf.keras.optimizers.Adam(lr=0.0002 , decay=0.0)\n",
        "#opt = tf.keras.optimizers.RMSprop(lr=0.0001, rho=0.9, epsilon=1e-07, decay=0.0)\n",
        "#opt = tf.keras.optimizers.SGD(lr=0.001, momentum=0.0, decay=0.0, nesterov=False)"
      ],
      "metadata": {
        "id": "g74fXWVAC4Cr",
        "colab": {
          "base_uri": "https://localhost:8080/"
        },
        "outputId": "e593fe1d-3db6-4cd6-ed2b-78d2c932e8af"
      },
      "execution_count": 11,
      "outputs": [
        {
          "output_type": "stream",
          "name": "stderr",
          "text": [
            "/usr/local/lib/python3.7/dist-packages/keras/optimizer_v2/rmsprop.py:130: UserWarning:\n",
            "\n",
            "The `lr` argument is deprecated, use `learning_rate` instead.\n",
            "\n"
          ]
        }
      ]
    },
    {
      "cell_type": "code",
      "source": [
        "model.summary()"
      ],
      "metadata": {
        "id": "H6ukOxAGC_I4",
        "colab": {
          "base_uri": "https://localhost:8080/"
        },
        "outputId": "a301e360-cee6-4ebf-82b4-18a6fb338d59"
      },
      "execution_count": 12,
      "outputs": [
        {
          "output_type": "stream",
          "name": "stdout",
          "text": [
            "Model: \"sequential\"\n",
            "_________________________________________________________________\n",
            " Layer (type)                Output Shape              Param #   \n",
            "=================================================================\n",
            " conv1d (Conv1D)             (None, 40, 128)           640       \n",
            "                                                                 \n",
            " activation (Activation)     (None, 40, 128)           0         \n",
            "                                                                 \n",
            " dropout (Dropout)           (None, 40, 128)           0         \n",
            "                                                                 \n",
            " max_pooling1d (MaxPooling1D  (None, 8, 128)           0         \n",
            " )                                                               \n",
            "                                                                 \n",
            " conv1d_1 (Conv1D)           (None, 8, 256)            131328    \n",
            "                                                                 \n",
            " activation_1 (Activation)   (None, 8, 256)            0         \n",
            "                                                                 \n",
            " dropout_1 (Dropout)         (None, 8, 256)            0         \n",
            "                                                                 \n",
            " max_pooling1d_1 (MaxPooling  (None, 1, 256)           0         \n",
            " 1D)                                                             \n",
            "                                                                 \n",
            " flatten (Flatten)           (None, 256)               0         \n",
            "                                                                 \n",
            " dense (Dense)               (None, 6)                 1542      \n",
            "                                                                 \n",
            " activation_2 (Activation)   (None, 6)                 0         \n",
            "                                                                 \n",
            "=================================================================\n",
            "Total params: 133,510\n",
            "Trainable params: 133,510\n",
            "Non-trainable params: 0\n",
            "_________________________________________________________________\n"
          ]
        }
      ]
    },
    {
      "cell_type": "code",
      "source": [
        "model.compile(loss='sparse_categorical_crossentropy',\n",
        "              optimizer=opt,\n",
        "              metrics=['accuracy'])"
      ],
      "metadata": {
        "id": "AbMlLNk4DCBM"
      },
      "execution_count": 13,
      "outputs": []
    },
    {
      "cell_type": "code",
      "source": [
        "# Create an Instance of Early Stopping Callback.\n",
        "early_stopping_callback = EarlyStopping(monitor = 'val_loss', patience = 25, mode = 'min', restore_best_weights = True)\n",
        "\n",
        "cnnhistory=model.fit(x_traincnn, y_train, batch_size=16, epochs=500 , shuffle = True, \n",
        "                     validation_data=(X_valid, y_valid) , callbacks = [early_stopping_callback])"
      ],
      "metadata": {
        "id": "RI1v2AuADFhy",
        "colab": {
          "base_uri": "https://localhost:8080/"
        },
        "outputId": "0fc3b6ab-12a9-4e5f-b342-a3b643945b27"
      },
      "execution_count": 14,
      "outputs": [
        {
          "output_type": "stream",
          "name": "stdout",
          "text": [
            "Epoch 1/500\n",
            "104/104 [==============================] - 3s 21ms/step - loss: 17.6407 - accuracy: 0.1651 - val_loss: 5.8653 - val_accuracy: 0.1787\n",
            "Epoch 2/500\n",
            "104/104 [==============================] - 3s 27ms/step - loss: 11.3365 - accuracy: 0.1971 - val_loss: 3.8654 - val_accuracy: 0.2029\n",
            "Epoch 3/500\n",
            "104/104 [==============================] - 3s 28ms/step - loss: 7.8678 - accuracy: 0.2080 - val_loss: 2.8124 - val_accuracy: 0.1981\n",
            "Epoch 4/500\n",
            "104/104 [==============================] - 3s 29ms/step - loss: 5.4285 - accuracy: 0.1977 - val_loss: 1.9238 - val_accuracy: 0.2367\n",
            "Epoch 5/500\n",
            "104/104 [==============================] - 3s 27ms/step - loss: 3.2065 - accuracy: 0.2328 - val_loss: 1.7571 - val_accuracy: 0.2947\n",
            "Epoch 6/500\n",
            "104/104 [==============================] - 3s 26ms/step - loss: 2.1962 - accuracy: 0.2539 - val_loss: 1.7137 - val_accuracy: 0.3043\n",
            "Epoch 7/500\n",
            "104/104 [==============================] - 3s 27ms/step - loss: 1.8625 - accuracy: 0.2600 - val_loss: 1.6928 - val_accuracy: 0.2802\n",
            "Epoch 8/500\n",
            "104/104 [==============================] - 3s 27ms/step - loss: 1.7301 - accuracy: 0.2938 - val_loss: 1.6379 - val_accuracy: 0.4251\n",
            "Epoch 9/500\n",
            "104/104 [==============================] - 3s 29ms/step - loss: 1.6808 - accuracy: 0.3108 - val_loss: 1.6196 - val_accuracy: 0.4106\n",
            "Epoch 10/500\n",
            "104/104 [==============================] - 3s 29ms/step - loss: 1.6538 - accuracy: 0.3319 - val_loss: 1.5940 - val_accuracy: 0.4010\n",
            "Epoch 11/500\n",
            "104/104 [==============================] - 3s 30ms/step - loss: 1.6440 - accuracy: 0.3065 - val_loss: 1.5755 - val_accuracy: 0.4348\n",
            "Epoch 12/500\n",
            "104/104 [==============================] - 3s 29ms/step - loss: 1.5994 - accuracy: 0.3622 - val_loss: 1.5496 - val_accuracy: 0.4251\n",
            "Epoch 13/500\n",
            "104/104 [==============================] - 3s 27ms/step - loss: 1.5864 - accuracy: 0.3519 - val_loss: 1.5478 - val_accuracy: 0.4251\n",
            "Epoch 14/500\n",
            "104/104 [==============================] - 3s 25ms/step - loss: 1.5423 - accuracy: 0.3694 - val_loss: 1.5210 - val_accuracy: 0.3865\n",
            "Epoch 15/500\n",
            "104/104 [==============================] - 2s 22ms/step - loss: 1.5162 - accuracy: 0.4015 - val_loss: 1.4931 - val_accuracy: 0.4155\n",
            "Epoch 16/500\n",
            "104/104 [==============================] - 2s 17ms/step - loss: 1.5045 - accuracy: 0.3912 - val_loss: 1.4618 - val_accuracy: 0.4783\n",
            "Epoch 17/500\n",
            "104/104 [==============================] - 2s 17ms/step - loss: 1.5084 - accuracy: 0.3930 - val_loss: 1.4656 - val_accuracy: 0.4444\n",
            "Epoch 18/500\n",
            "104/104 [==============================] - 2s 18ms/step - loss: 1.4775 - accuracy: 0.4190 - val_loss: 1.4464 - val_accuracy: 0.4783\n",
            "Epoch 19/500\n",
            "104/104 [==============================] - 2s 17ms/step - loss: 1.4456 - accuracy: 0.4117 - val_loss: 1.4308 - val_accuracy: 0.4879\n",
            "Epoch 20/500\n",
            "104/104 [==============================] - 2s 16ms/step - loss: 1.4399 - accuracy: 0.4148 - val_loss: 1.3973 - val_accuracy: 0.4879\n",
            "Epoch 21/500\n",
            "104/104 [==============================] - 2s 16ms/step - loss: 1.4339 - accuracy: 0.4172 - val_loss: 1.4124 - val_accuracy: 0.4686\n",
            "Epoch 22/500\n",
            "104/104 [==============================] - 2s 17ms/step - loss: 1.4221 - accuracy: 0.4299 - val_loss: 1.3957 - val_accuracy: 0.5121\n",
            "Epoch 23/500\n",
            "104/104 [==============================] - 2s 16ms/step - loss: 1.4211 - accuracy: 0.4184 - val_loss: 1.3973 - val_accuracy: 0.4879\n",
            "Epoch 24/500\n",
            "104/104 [==============================] - 2s 17ms/step - loss: 1.3891 - accuracy: 0.4432 - val_loss: 1.3846 - val_accuracy: 0.4831\n",
            "Epoch 25/500\n",
            "104/104 [==============================] - 2s 17ms/step - loss: 1.3961 - accuracy: 0.4365 - val_loss: 1.3688 - val_accuracy: 0.5411\n",
            "Epoch 26/500\n",
            "104/104 [==============================] - 2s 18ms/step - loss: 1.3831 - accuracy: 0.4589 - val_loss: 1.3494 - val_accuracy: 0.4976\n",
            "Epoch 27/500\n",
            "104/104 [==============================] - 2s 17ms/step - loss: 1.3744 - accuracy: 0.4474 - val_loss: 1.3614 - val_accuracy: 0.4879\n",
            "Epoch 28/500\n",
            "104/104 [==============================] - 2s 17ms/step - loss: 1.3618 - accuracy: 0.4541 - val_loss: 1.3665 - val_accuracy: 0.4831\n",
            "Epoch 29/500\n",
            "104/104 [==============================] - 2s 16ms/step - loss: 1.3698 - accuracy: 0.4528 - val_loss: 1.3436 - val_accuracy: 0.5121\n",
            "Epoch 30/500\n",
            "104/104 [==============================] - 2s 16ms/step - loss: 1.3419 - accuracy: 0.4825 - val_loss: 1.3425 - val_accuracy: 0.5024\n",
            "Epoch 31/500\n",
            "104/104 [==============================] - 2s 16ms/step - loss: 1.3190 - accuracy: 0.4625 - val_loss: 1.3303 - val_accuracy: 0.5314\n",
            "Epoch 32/500\n",
            "104/104 [==============================] - 2s 17ms/step - loss: 1.3257 - accuracy: 0.4879 - val_loss: 1.3214 - val_accuracy: 0.5024\n",
            "Epoch 33/500\n",
            "104/104 [==============================] - 2s 17ms/step - loss: 1.3167 - accuracy: 0.4794 - val_loss: 1.3145 - val_accuracy: 0.5266\n",
            "Epoch 34/500\n",
            "104/104 [==============================] - 2s 17ms/step - loss: 1.2880 - accuracy: 0.4873 - val_loss: 1.2975 - val_accuracy: 0.5121\n",
            "Epoch 35/500\n",
            "104/104 [==============================] - 2s 17ms/step - loss: 1.2709 - accuracy: 0.4927 - val_loss: 1.2764 - val_accuracy: 0.5556\n",
            "Epoch 36/500\n",
            "104/104 [==============================] - 2s 17ms/step - loss: 1.2915 - accuracy: 0.4794 - val_loss: 1.2831 - val_accuracy: 0.5121\n",
            "Epoch 37/500\n",
            "104/104 [==============================] - 2s 17ms/step - loss: 1.2872 - accuracy: 0.4988 - val_loss: 1.2826 - val_accuracy: 0.5169\n",
            "Epoch 38/500\n",
            "104/104 [==============================] - 2s 17ms/step - loss: 1.2736 - accuracy: 0.4897 - val_loss: 1.2629 - val_accuracy: 0.5459\n",
            "Epoch 39/500\n",
            "104/104 [==============================] - 2s 18ms/step - loss: 1.2827 - accuracy: 0.5000 - val_loss: 1.2713 - val_accuracy: 0.5362\n",
            "Epoch 40/500\n",
            "104/104 [==============================] - 2s 17ms/step - loss: 1.2330 - accuracy: 0.5097 - val_loss: 1.2674 - val_accuracy: 0.5411\n",
            "Epoch 41/500\n",
            "104/104 [==============================] - 2s 16ms/step - loss: 1.2371 - accuracy: 0.4976 - val_loss: 1.2650 - val_accuracy: 0.5314\n",
            "Epoch 42/500\n",
            "104/104 [==============================] - 2s 16ms/step - loss: 1.2321 - accuracy: 0.5169 - val_loss: 1.2473 - val_accuracy: 0.5411\n",
            "Epoch 43/500\n",
            "104/104 [==============================] - 2s 16ms/step - loss: 1.2149 - accuracy: 0.5200 - val_loss: 1.2232 - val_accuracy: 0.5459\n",
            "Epoch 44/500\n",
            "104/104 [==============================] - 2s 16ms/step - loss: 1.2183 - accuracy: 0.5181 - val_loss: 1.2412 - val_accuracy: 0.5362\n",
            "Epoch 45/500\n",
            "104/104 [==============================] - 2s 16ms/step - loss: 1.2166 - accuracy: 0.5302 - val_loss: 1.2224 - val_accuracy: 0.5362\n",
            "Epoch 46/500\n",
            "104/104 [==============================] - 2s 16ms/step - loss: 1.2009 - accuracy: 0.5290 - val_loss: 1.2330 - val_accuracy: 0.5362\n",
            "Epoch 47/500\n",
            "104/104 [==============================] - 2s 17ms/step - loss: 1.2040 - accuracy: 0.5248 - val_loss: 1.2216 - val_accuracy: 0.5169\n",
            "Epoch 48/500\n",
            "104/104 [==============================] - 2s 17ms/step - loss: 1.1933 - accuracy: 0.5369 - val_loss: 1.2088 - val_accuracy: 0.5507\n",
            "Epoch 49/500\n",
            "104/104 [==============================] - 2s 16ms/step - loss: 1.1882 - accuracy: 0.5333 - val_loss: 1.2170 - val_accuracy: 0.5604\n",
            "Epoch 50/500\n",
            "104/104 [==============================] - 2s 17ms/step - loss: 1.1964 - accuracy: 0.5357 - val_loss: 1.2021 - val_accuracy: 0.5217\n",
            "Epoch 51/500\n",
            "104/104 [==============================] - 2s 17ms/step - loss: 1.1680 - accuracy: 0.5453 - val_loss: 1.2102 - val_accuracy: 0.5797\n",
            "Epoch 52/500\n",
            "104/104 [==============================] - 2s 16ms/step - loss: 1.1619 - accuracy: 0.5586 - val_loss: 1.1861 - val_accuracy: 0.5507\n",
            "Epoch 53/500\n",
            "104/104 [==============================] - 2s 18ms/step - loss: 1.1652 - accuracy: 0.5459 - val_loss: 1.1824 - val_accuracy: 0.5411\n",
            "Epoch 54/500\n",
            "104/104 [==============================] - 2s 17ms/step - loss: 1.1832 - accuracy: 0.5508 - val_loss: 1.1927 - val_accuracy: 0.5362\n",
            "Epoch 55/500\n",
            "104/104 [==============================] - 2s 18ms/step - loss: 1.1456 - accuracy: 0.5520 - val_loss: 1.1577 - val_accuracy: 0.5362\n",
            "Epoch 56/500\n",
            "104/104 [==============================] - 2s 17ms/step - loss: 1.1572 - accuracy: 0.5320 - val_loss: 1.1698 - val_accuracy: 0.5700\n",
            "Epoch 57/500\n",
            "104/104 [==============================] - 2s 17ms/step - loss: 1.1384 - accuracy: 0.5647 - val_loss: 1.1765 - val_accuracy: 0.5604\n",
            "Epoch 58/500\n",
            "104/104 [==============================] - 2s 17ms/step - loss: 1.1329 - accuracy: 0.5520 - val_loss: 1.1562 - val_accuracy: 0.5459\n",
            "Epoch 59/500\n",
            "104/104 [==============================] - 2s 16ms/step - loss: 1.1282 - accuracy: 0.5629 - val_loss: 1.1467 - val_accuracy: 0.5556\n",
            "Epoch 60/500\n",
            "104/104 [==============================] - 2s 17ms/step - loss: 1.1305 - accuracy: 0.5605 - val_loss: 1.1433 - val_accuracy: 0.5797\n",
            "Epoch 61/500\n",
            "104/104 [==============================] - 2s 24ms/step - loss: 1.1369 - accuracy: 0.5526 - val_loss: 1.1519 - val_accuracy: 0.5652\n",
            "Epoch 62/500\n",
            "104/104 [==============================] - 3s 29ms/step - loss: 1.1119 - accuracy: 0.5526 - val_loss: 1.1264 - val_accuracy: 0.5604\n",
            "Epoch 63/500\n",
            "104/104 [==============================] - 2s 19ms/step - loss: 1.1094 - accuracy: 0.5768 - val_loss: 1.1452 - val_accuracy: 0.5459\n",
            "Epoch 64/500\n",
            "104/104 [==============================] - 2s 17ms/step - loss: 1.1047 - accuracy: 0.5659 - val_loss: 1.1468 - val_accuracy: 0.5700\n",
            "Epoch 65/500\n",
            "104/104 [==============================] - 2s 17ms/step - loss: 1.1006 - accuracy: 0.5810 - val_loss: 1.1516 - val_accuracy: 0.5411\n",
            "Epoch 66/500\n",
            "104/104 [==============================] - 2s 18ms/step - loss: 1.0897 - accuracy: 0.5744 - val_loss: 1.1335 - val_accuracy: 0.5556\n",
            "Epoch 67/500\n",
            "104/104 [==============================] - 2s 17ms/step - loss: 1.0622 - accuracy: 0.5967 - val_loss: 1.1205 - val_accuracy: 0.5749\n",
            "Epoch 68/500\n",
            "104/104 [==============================] - 2s 18ms/step - loss: 1.0960 - accuracy: 0.5701 - val_loss: 1.1153 - val_accuracy: 0.5556\n",
            "Epoch 69/500\n",
            "104/104 [==============================] - 2s 17ms/step - loss: 1.0709 - accuracy: 0.5756 - val_loss: 1.0921 - val_accuracy: 0.5652\n",
            "Epoch 70/500\n",
            "104/104 [==============================] - 2s 16ms/step - loss: 1.0737 - accuracy: 0.5780 - val_loss: 1.0991 - val_accuracy: 0.5942\n",
            "Epoch 71/500\n",
            "104/104 [==============================] - 2s 17ms/step - loss: 1.0472 - accuracy: 0.5937 - val_loss: 1.1066 - val_accuracy: 0.5990\n",
            "Epoch 72/500\n",
            "104/104 [==============================] - 2s 17ms/step - loss: 1.0786 - accuracy: 0.5756 - val_loss: 1.1220 - val_accuracy: 0.5749\n",
            "Epoch 73/500\n",
            "104/104 [==============================] - 2s 18ms/step - loss: 1.0654 - accuracy: 0.5859 - val_loss: 1.1021 - val_accuracy: 0.5894\n",
            "Epoch 74/500\n",
            "104/104 [==============================] - 2s 18ms/step - loss: 1.0633 - accuracy: 0.5967 - val_loss: 1.0896 - val_accuracy: 0.5845\n",
            "Epoch 75/500\n",
            "104/104 [==============================] - 2s 18ms/step - loss: 1.0349 - accuracy: 0.6100 - val_loss: 1.0932 - val_accuracy: 0.5894\n",
            "Epoch 76/500\n",
            "104/104 [==============================] - 2s 17ms/step - loss: 1.0541 - accuracy: 0.5992 - val_loss: 1.0919 - val_accuracy: 0.5749\n",
            "Epoch 77/500\n",
            "104/104 [==============================] - 2s 18ms/step - loss: 1.0563 - accuracy: 0.5937 - val_loss: 1.1071 - val_accuracy: 0.5556\n",
            "Epoch 78/500\n",
            "104/104 [==============================] - 2s 17ms/step - loss: 1.0306 - accuracy: 0.6016 - val_loss: 1.1094 - val_accuracy: 0.5700\n",
            "Epoch 79/500\n",
            "104/104 [==============================] - 2s 17ms/step - loss: 1.0642 - accuracy: 0.5732 - val_loss: 1.0928 - val_accuracy: 0.5845\n",
            "Epoch 80/500\n",
            "104/104 [==============================] - 2s 17ms/step - loss: 1.0217 - accuracy: 0.5949 - val_loss: 1.0917 - val_accuracy: 0.5845\n",
            "Epoch 81/500\n",
            "104/104 [==============================] - 2s 18ms/step - loss: 1.0294 - accuracy: 0.6046 - val_loss: 1.0541 - val_accuracy: 0.5990\n",
            "Epoch 82/500\n",
            "104/104 [==============================] - 2s 20ms/step - loss: 1.0255 - accuracy: 0.5973 - val_loss: 1.0730 - val_accuracy: 0.5700\n",
            "Epoch 83/500\n",
            "104/104 [==============================] - 2s 20ms/step - loss: 1.0514 - accuracy: 0.6034 - val_loss: 1.0767 - val_accuracy: 0.6135\n",
            "Epoch 84/500\n",
            "104/104 [==============================] - 2s 17ms/step - loss: 1.0396 - accuracy: 0.6004 - val_loss: 1.0760 - val_accuracy: 0.5797\n",
            "Epoch 85/500\n",
            "104/104 [==============================] - 2s 18ms/step - loss: 1.0022 - accuracy: 0.6197 - val_loss: 1.0482 - val_accuracy: 0.5990\n",
            "Epoch 86/500\n",
            "104/104 [==============================] - 2s 17ms/step - loss: 1.0160 - accuracy: 0.6052 - val_loss: 1.0653 - val_accuracy: 0.5749\n",
            "Epoch 87/500\n",
            "104/104 [==============================] - 2s 17ms/step - loss: 1.0072 - accuracy: 0.6082 - val_loss: 1.0659 - val_accuracy: 0.5797\n",
            "Epoch 88/500\n",
            "104/104 [==============================] - 2s 17ms/step - loss: 1.0135 - accuracy: 0.6016 - val_loss: 1.0559 - val_accuracy: 0.5894\n",
            "Epoch 89/500\n",
            "104/104 [==============================] - 2s 18ms/step - loss: 1.0044 - accuracy: 0.6028 - val_loss: 1.0636 - val_accuracy: 0.6039\n",
            "Epoch 90/500\n",
            "104/104 [==============================] - 2s 18ms/step - loss: 1.0035 - accuracy: 0.6131 - val_loss: 1.0538 - val_accuracy: 0.5990\n",
            "Epoch 91/500\n",
            "104/104 [==============================] - 2s 18ms/step - loss: 0.9856 - accuracy: 0.6288 - val_loss: 1.0290 - val_accuracy: 0.6087\n",
            "Epoch 92/500\n",
            "104/104 [==============================] - 2s 18ms/step - loss: 0.9971 - accuracy: 0.6112 - val_loss: 1.0559 - val_accuracy: 0.6280\n",
            "Epoch 93/500\n",
            "104/104 [==============================] - 2s 18ms/step - loss: 0.9858 - accuracy: 0.6276 - val_loss: 1.0793 - val_accuracy: 0.5700\n",
            "Epoch 94/500\n",
            "104/104 [==============================] - 2s 18ms/step - loss: 0.9765 - accuracy: 0.6197 - val_loss: 1.0840 - val_accuracy: 0.5749\n",
            "Epoch 95/500\n",
            "104/104 [==============================] - 2s 18ms/step - loss: 0.9743 - accuracy: 0.6300 - val_loss: 1.0343 - val_accuracy: 0.5894\n",
            "Epoch 96/500\n",
            "104/104 [==============================] - 2s 18ms/step - loss: 0.9398 - accuracy: 0.6306 - val_loss: 1.0252 - val_accuracy: 0.5942\n",
            "Epoch 97/500\n",
            "104/104 [==============================] - 2s 17ms/step - loss: 0.9868 - accuracy: 0.6221 - val_loss: 1.0399 - val_accuracy: 0.5990\n",
            "Epoch 98/500\n",
            "104/104 [==============================] - 2s 17ms/step - loss: 0.9728 - accuracy: 0.6221 - val_loss: 1.0341 - val_accuracy: 0.5894\n",
            "Epoch 99/500\n",
            "104/104 [==============================] - 2s 17ms/step - loss: 0.9701 - accuracy: 0.6227 - val_loss: 1.0271 - val_accuracy: 0.5942\n",
            "Epoch 100/500\n",
            "104/104 [==============================] - 2s 17ms/step - loss: 0.9740 - accuracy: 0.6119 - val_loss: 1.0423 - val_accuracy: 0.6039\n",
            "Epoch 101/500\n",
            "104/104 [==============================] - 2s 18ms/step - loss: 0.9352 - accuracy: 0.6391 - val_loss: 1.0515 - val_accuracy: 0.6039\n",
            "Epoch 102/500\n",
            "104/104 [==============================] - 2s 18ms/step - loss: 0.9433 - accuracy: 0.6360 - val_loss: 1.0315 - val_accuracy: 0.5894\n",
            "Epoch 103/500\n",
            "104/104 [==============================] - 2s 18ms/step - loss: 0.9393 - accuracy: 0.6318 - val_loss: 1.0172 - val_accuracy: 0.6184\n",
            "Epoch 104/500\n",
            "104/104 [==============================] - 2s 18ms/step - loss: 0.9568 - accuracy: 0.6276 - val_loss: 1.0193 - val_accuracy: 0.6184\n",
            "Epoch 105/500\n",
            "104/104 [==============================] - 2s 17ms/step - loss: 0.9409 - accuracy: 0.6306 - val_loss: 1.0128 - val_accuracy: 0.6087\n",
            "Epoch 106/500\n",
            "104/104 [==============================] - 2s 18ms/step - loss: 0.9578 - accuracy: 0.6330 - val_loss: 0.9982 - val_accuracy: 0.6232\n",
            "Epoch 107/500\n",
            "104/104 [==============================] - 2s 17ms/step - loss: 0.9401 - accuracy: 0.6391 - val_loss: 1.0161 - val_accuracy: 0.6039\n",
            "Epoch 108/500\n",
            "104/104 [==============================] - 2s 18ms/step - loss: 0.9334 - accuracy: 0.6481 - val_loss: 0.9822 - val_accuracy: 0.6135\n",
            "Epoch 109/500\n",
            "104/104 [==============================] - 2s 17ms/step - loss: 0.9455 - accuracy: 0.6306 - val_loss: 1.0027 - val_accuracy: 0.5749\n",
            "Epoch 110/500\n",
            "104/104 [==============================] - 2s 17ms/step - loss: 0.9046 - accuracy: 0.6499 - val_loss: 0.9915 - val_accuracy: 0.6039\n",
            "Epoch 111/500\n",
            "104/104 [==============================] - 2s 17ms/step - loss: 0.9194 - accuracy: 0.6415 - val_loss: 1.0232 - val_accuracy: 0.5942\n",
            "Epoch 112/500\n",
            "104/104 [==============================] - 2s 17ms/step - loss: 0.9324 - accuracy: 0.6481 - val_loss: 0.9962 - val_accuracy: 0.6329\n",
            "Epoch 113/500\n",
            "104/104 [==============================] - 2s 17ms/step - loss: 0.9031 - accuracy: 0.6475 - val_loss: 0.9999 - val_accuracy: 0.5942\n",
            "Epoch 114/500\n",
            "104/104 [==============================] - 2s 18ms/step - loss: 0.8846 - accuracy: 0.6729 - val_loss: 1.0067 - val_accuracy: 0.5894\n",
            "Epoch 115/500\n",
            "104/104 [==============================] - 2s 18ms/step - loss: 0.9195 - accuracy: 0.6354 - val_loss: 0.9997 - val_accuracy: 0.6184\n",
            "Epoch 116/500\n",
            "104/104 [==============================] - 2s 17ms/step - loss: 0.9040 - accuracy: 0.6487 - val_loss: 0.9785 - val_accuracy: 0.5990\n",
            "Epoch 117/500\n",
            "104/104 [==============================] - 2s 18ms/step - loss: 0.9047 - accuracy: 0.6675 - val_loss: 0.9773 - val_accuracy: 0.6039\n",
            "Epoch 118/500\n",
            "104/104 [==============================] - 2s 18ms/step - loss: 0.8963 - accuracy: 0.6536 - val_loss: 0.9892 - val_accuracy: 0.6039\n",
            "Epoch 119/500\n",
            "104/104 [==============================] - 2s 18ms/step - loss: 0.9205 - accuracy: 0.6511 - val_loss: 0.9966 - val_accuracy: 0.6135\n",
            "Epoch 120/500\n",
            "104/104 [==============================] - 2s 17ms/step - loss: 0.8921 - accuracy: 0.6669 - val_loss: 0.9913 - val_accuracy: 0.6184\n",
            "Epoch 121/500\n",
            "104/104 [==============================] - 2s 17ms/step - loss: 0.8946 - accuracy: 0.6632 - val_loss: 0.9809 - val_accuracy: 0.6280\n",
            "Epoch 122/500\n",
            "104/104 [==============================] - 2s 17ms/step - loss: 0.8907 - accuracy: 0.6596 - val_loss: 0.9575 - val_accuracy: 0.6522\n",
            "Epoch 123/500\n",
            "104/104 [==============================] - 2s 17ms/step - loss: 0.9183 - accuracy: 0.6584 - val_loss: 0.9818 - val_accuracy: 0.6135\n",
            "Epoch 124/500\n",
            "104/104 [==============================] - 2s 18ms/step - loss: 0.8910 - accuracy: 0.6608 - val_loss: 0.9553 - val_accuracy: 0.6329\n",
            "Epoch 125/500\n",
            "104/104 [==============================] - 2s 17ms/step - loss: 0.8979 - accuracy: 0.6578 - val_loss: 0.9679 - val_accuracy: 0.6087\n",
            "Epoch 126/500\n",
            "104/104 [==============================] - 2s 18ms/step - loss: 0.8972 - accuracy: 0.6487 - val_loss: 0.9865 - val_accuracy: 0.6135\n",
            "Epoch 127/500\n",
            "104/104 [==============================] - 2s 19ms/step - loss: 0.8645 - accuracy: 0.6723 - val_loss: 0.9642 - val_accuracy: 0.6280\n",
            "Epoch 128/500\n",
            "104/104 [==============================] - 2s 18ms/step - loss: 0.8912 - accuracy: 0.6651 - val_loss: 0.9691 - val_accuracy: 0.6184\n",
            "Epoch 129/500\n",
            "104/104 [==============================] - 2s 18ms/step - loss: 0.8956 - accuracy: 0.6602 - val_loss: 0.9594 - val_accuracy: 0.6329\n",
            "Epoch 130/500\n",
            "104/104 [==============================] - 2s 18ms/step - loss: 0.8634 - accuracy: 0.6675 - val_loss: 0.9399 - val_accuracy: 0.6329\n",
            "Epoch 131/500\n",
            "104/104 [==============================] - 2s 18ms/step - loss: 0.8606 - accuracy: 0.6759 - val_loss: 0.9586 - val_accuracy: 0.6522\n",
            "Epoch 132/500\n",
            "104/104 [==============================] - 2s 17ms/step - loss: 0.8327 - accuracy: 0.6826 - val_loss: 0.9336 - val_accuracy: 0.6232\n",
            "Epoch 133/500\n",
            "104/104 [==============================] - 2s 17ms/step - loss: 0.8347 - accuracy: 0.6693 - val_loss: 0.9357 - val_accuracy: 0.6232\n",
            "Epoch 134/500\n",
            "104/104 [==============================] - 2s 17ms/step - loss: 0.8620 - accuracy: 0.6651 - val_loss: 0.9496 - val_accuracy: 0.6135\n",
            "Epoch 135/500\n",
            "104/104 [==============================] - 2s 18ms/step - loss: 0.8595 - accuracy: 0.6723 - val_loss: 0.9326 - val_accuracy: 0.6425\n",
            "Epoch 136/500\n",
            "104/104 [==============================] - 2s 18ms/step - loss: 0.8610 - accuracy: 0.6723 - val_loss: 0.9232 - val_accuracy: 0.6280\n",
            "Epoch 137/500\n",
            "104/104 [==============================] - 2s 18ms/step - loss: 0.8424 - accuracy: 0.6941 - val_loss: 0.9495 - val_accuracy: 0.6184\n",
            "Epoch 138/500\n",
            "104/104 [==============================] - 2s 17ms/step - loss: 0.8566 - accuracy: 0.6832 - val_loss: 0.9402 - val_accuracy: 0.6473\n",
            "Epoch 139/500\n",
            "104/104 [==============================] - 2s 17ms/step - loss: 0.8421 - accuracy: 0.6778 - val_loss: 0.9701 - val_accuracy: 0.6232\n",
            "Epoch 140/500\n",
            "104/104 [==============================] - 2s 18ms/step - loss: 0.8737 - accuracy: 0.6693 - val_loss: 0.9517 - val_accuracy: 0.6522\n",
            "Epoch 141/500\n",
            "104/104 [==============================] - 2s 18ms/step - loss: 0.8596 - accuracy: 0.6711 - val_loss: 0.9328 - val_accuracy: 0.6522\n",
            "Epoch 142/500\n",
            "104/104 [==============================] - 2s 18ms/step - loss: 0.8397 - accuracy: 0.6765 - val_loss: 0.9562 - val_accuracy: 0.6135\n",
            "Epoch 143/500\n",
            "104/104 [==============================] - 2s 17ms/step - loss: 0.8468 - accuracy: 0.6784 - val_loss: 0.9132 - val_accuracy: 0.6667\n",
            "Epoch 144/500\n",
            "104/104 [==============================] - 2s 17ms/step - loss: 0.8311 - accuracy: 0.6790 - val_loss: 0.9540 - val_accuracy: 0.6473\n",
            "Epoch 145/500\n",
            "104/104 [==============================] - 2s 17ms/step - loss: 0.8594 - accuracy: 0.6711 - val_loss: 0.9713 - val_accuracy: 0.6425\n",
            "Epoch 146/500\n",
            "104/104 [==============================] - 2s 17ms/step - loss: 0.8366 - accuracy: 0.6778 - val_loss: 0.9766 - val_accuracy: 0.6087\n",
            "Epoch 147/500\n",
            "104/104 [==============================] - 2s 17ms/step - loss: 0.8080 - accuracy: 0.6965 - val_loss: 0.9349 - val_accuracy: 0.6425\n",
            "Epoch 148/500\n",
            "104/104 [==============================] - 2s 17ms/step - loss: 0.8499 - accuracy: 0.6717 - val_loss: 0.9115 - val_accuracy: 0.6570\n",
            "Epoch 149/500\n",
            "104/104 [==============================] - 2s 17ms/step - loss: 0.8391 - accuracy: 0.6832 - val_loss: 0.9287 - val_accuracy: 0.6522\n",
            "Epoch 150/500\n",
            "104/104 [==============================] - 2s 17ms/step - loss: 0.8142 - accuracy: 0.6917 - val_loss: 0.9127 - val_accuracy: 0.6425\n",
            "Epoch 151/500\n",
            "104/104 [==============================] - 2s 18ms/step - loss: 0.8163 - accuracy: 0.6717 - val_loss: 0.9231 - val_accuracy: 0.6425\n",
            "Epoch 152/500\n",
            "104/104 [==============================] - 2s 20ms/step - loss: 0.8172 - accuracy: 0.6904 - val_loss: 0.9078 - val_accuracy: 0.6425\n",
            "Epoch 153/500\n",
            "104/104 [==============================] - 2s 17ms/step - loss: 0.8077 - accuracy: 0.6959 - val_loss: 0.9178 - val_accuracy: 0.6570\n",
            "Epoch 154/500\n",
            "104/104 [==============================] - 2s 18ms/step - loss: 0.8299 - accuracy: 0.6874 - val_loss: 0.9234 - val_accuracy: 0.6377\n",
            "Epoch 155/500\n",
            "104/104 [==============================] - 2s 18ms/step - loss: 0.8139 - accuracy: 0.6838 - val_loss: 0.8834 - val_accuracy: 0.6763\n",
            "Epoch 156/500\n",
            "104/104 [==============================] - 2s 18ms/step - loss: 0.8035 - accuracy: 0.6965 - val_loss: 0.9446 - val_accuracy: 0.6329\n",
            "Epoch 157/500\n",
            "104/104 [==============================] - 2s 18ms/step - loss: 0.8093 - accuracy: 0.6941 - val_loss: 0.9010 - val_accuracy: 0.6522\n",
            "Epoch 158/500\n",
            "104/104 [==============================] - 2s 21ms/step - loss: 0.8292 - accuracy: 0.6862 - val_loss: 0.9115 - val_accuracy: 0.6522\n",
            "Epoch 159/500\n",
            "104/104 [==============================] - 2s 19ms/step - loss: 0.8255 - accuracy: 0.6898 - val_loss: 0.9704 - val_accuracy: 0.6280\n",
            "Epoch 160/500\n",
            "104/104 [==============================] - 2s 18ms/step - loss: 0.8181 - accuracy: 0.6832 - val_loss: 0.9067 - val_accuracy: 0.6812\n",
            "Epoch 161/500\n",
            "104/104 [==============================] - 2s 18ms/step - loss: 0.7586 - accuracy: 0.7146 - val_loss: 0.9058 - val_accuracy: 0.6522\n",
            "Epoch 162/500\n",
            "104/104 [==============================] - 2s 22ms/step - loss: 0.7946 - accuracy: 0.6959 - val_loss: 0.9196 - val_accuracy: 0.6570\n",
            "Epoch 163/500\n",
            "104/104 [==============================] - 2s 18ms/step - loss: 0.8148 - accuracy: 0.6947 - val_loss: 0.9194 - val_accuracy: 0.6329\n",
            "Epoch 164/500\n",
            "104/104 [==============================] - 2s 19ms/step - loss: 0.7792 - accuracy: 0.7068 - val_loss: 0.8854 - val_accuracy: 0.6473\n",
            "Epoch 165/500\n",
            "104/104 [==============================] - 2s 20ms/step - loss: 0.7878 - accuracy: 0.6880 - val_loss: 0.8786 - val_accuracy: 0.6715\n",
            "Epoch 166/500\n",
            "104/104 [==============================] - 2s 18ms/step - loss: 0.8121 - accuracy: 0.6941 - val_loss: 0.9534 - val_accuracy: 0.6232\n",
            "Epoch 167/500\n",
            "104/104 [==============================] - 2s 18ms/step - loss: 0.7755 - accuracy: 0.7056 - val_loss: 0.9050 - val_accuracy: 0.6522\n",
            "Epoch 168/500\n",
            "104/104 [==============================] - 2s 18ms/step - loss: 0.7596 - accuracy: 0.7086 - val_loss: 0.9172 - val_accuracy: 0.6232\n",
            "Epoch 169/500\n",
            "104/104 [==============================] - 2s 20ms/step - loss: 0.7866 - accuracy: 0.6965 - val_loss: 0.8797 - val_accuracy: 0.6473\n",
            "Epoch 170/500\n",
            "104/104 [==============================] - 2s 18ms/step - loss: 0.7648 - accuracy: 0.6971 - val_loss: 0.8942 - val_accuracy: 0.6522\n",
            "Epoch 171/500\n",
            "104/104 [==============================] - 2s 19ms/step - loss: 0.7880 - accuracy: 0.6965 - val_loss: 0.8687 - val_accuracy: 0.6618\n",
            "Epoch 172/500\n",
            "104/104 [==============================] - 2s 18ms/step - loss: 0.7637 - accuracy: 0.7134 - val_loss: 0.8733 - val_accuracy: 0.6570\n",
            "Epoch 173/500\n",
            "104/104 [==============================] - 2s 19ms/step - loss: 0.7818 - accuracy: 0.6929 - val_loss: 0.8876 - val_accuracy: 0.6522\n",
            "Epoch 174/500\n",
            "104/104 [==============================] - 2s 19ms/step - loss: 0.7588 - accuracy: 0.7062 - val_loss: 0.9018 - val_accuracy: 0.6425\n",
            "Epoch 175/500\n",
            "104/104 [==============================] - 2s 19ms/step - loss: 0.7939 - accuracy: 0.6971 - val_loss: 0.9646 - val_accuracy: 0.5990\n",
            "Epoch 176/500\n",
            "104/104 [==============================] - 2s 17ms/step - loss: 0.7748 - accuracy: 0.7092 - val_loss: 0.9327 - val_accuracy: 0.6522\n",
            "Epoch 177/500\n",
            "104/104 [==============================] - 2s 18ms/step - loss: 0.7852 - accuracy: 0.7056 - val_loss: 0.9304 - val_accuracy: 0.6425\n",
            "Epoch 178/500\n",
            "104/104 [==============================] - 2s 19ms/step - loss: 0.7517 - accuracy: 0.7225 - val_loss: 0.8630 - val_accuracy: 0.6570\n",
            "Epoch 179/500\n",
            "104/104 [==============================] - 2s 19ms/step - loss: 0.7610 - accuracy: 0.7207 - val_loss: 0.8731 - val_accuracy: 0.6908\n",
            "Epoch 180/500\n",
            "104/104 [==============================] - 2s 18ms/step - loss: 0.7623 - accuracy: 0.7140 - val_loss: 0.8888 - val_accuracy: 0.6618\n",
            "Epoch 181/500\n",
            "104/104 [==============================] - 2s 18ms/step - loss: 0.7763 - accuracy: 0.7110 - val_loss: 0.8563 - val_accuracy: 0.6908\n",
            "Epoch 182/500\n",
            "104/104 [==============================] - 2s 18ms/step - loss: 0.7534 - accuracy: 0.7013 - val_loss: 0.9459 - val_accuracy: 0.5990\n",
            "Epoch 183/500\n",
            "104/104 [==============================] - 2s 18ms/step - loss: 0.7496 - accuracy: 0.7050 - val_loss: 0.9018 - val_accuracy: 0.6715\n",
            "Epoch 184/500\n",
            "104/104 [==============================] - 2s 21ms/step - loss: 0.7747 - accuracy: 0.6904 - val_loss: 0.9114 - val_accuracy: 0.6570\n",
            "Epoch 185/500\n",
            "104/104 [==============================] - 2s 19ms/step - loss: 0.7407 - accuracy: 0.7213 - val_loss: 0.9110 - val_accuracy: 0.6329\n",
            "Epoch 186/500\n",
            "104/104 [==============================] - 2s 18ms/step - loss: 0.7617 - accuracy: 0.7164 - val_loss: 0.8654 - val_accuracy: 0.6522\n",
            "Epoch 187/500\n",
            "104/104 [==============================] - 2s 19ms/step - loss: 0.7449 - accuracy: 0.7310 - val_loss: 0.8430 - val_accuracy: 0.6812\n",
            "Epoch 188/500\n",
            "104/104 [==============================] - 2s 19ms/step - loss: 0.7367 - accuracy: 0.7201 - val_loss: 0.8971 - val_accuracy: 0.6570\n",
            "Epoch 189/500\n",
            "104/104 [==============================] - 2s 20ms/step - loss: 0.7387 - accuracy: 0.7279 - val_loss: 0.8729 - val_accuracy: 0.6812\n",
            "Epoch 190/500\n",
            "104/104 [==============================] - 2s 18ms/step - loss: 0.7396 - accuracy: 0.7249 - val_loss: 0.8846 - val_accuracy: 0.6425\n",
            "Epoch 191/500\n",
            "104/104 [==============================] - 2s 17ms/step - loss: 0.7380 - accuracy: 0.7249 - val_loss: 0.8843 - val_accuracy: 0.6618\n",
            "Epoch 192/500\n",
            "104/104 [==============================] - 2s 18ms/step - loss: 0.7540 - accuracy: 0.7164 - val_loss: 0.8630 - val_accuracy: 0.6957\n",
            "Epoch 193/500\n",
            "104/104 [==============================] - 2s 19ms/step - loss: 0.7327 - accuracy: 0.7261 - val_loss: 0.8721 - val_accuracy: 0.6715\n",
            "Epoch 194/500\n",
            "104/104 [==============================] - 2s 18ms/step - loss: 0.7416 - accuracy: 0.7261 - val_loss: 0.8808 - val_accuracy: 0.6618\n",
            "Epoch 195/500\n",
            "104/104 [==============================] - 2s 19ms/step - loss: 0.7145 - accuracy: 0.7304 - val_loss: 0.8750 - val_accuracy: 0.6570\n",
            "Epoch 196/500\n",
            "104/104 [==============================] - 2s 18ms/step - loss: 0.7289 - accuracy: 0.7267 - val_loss: 0.8917 - val_accuracy: 0.6425\n",
            "Epoch 197/500\n",
            "104/104 [==============================] - 2s 18ms/step - loss: 0.7311 - accuracy: 0.7249 - val_loss: 0.9332 - val_accuracy: 0.6329\n",
            "Epoch 198/500\n",
            "104/104 [==============================] - 2s 17ms/step - loss: 0.7380 - accuracy: 0.7297 - val_loss: 0.8919 - val_accuracy: 0.6570\n",
            "Epoch 199/500\n",
            "104/104 [==============================] - 2s 17ms/step - loss: 0.7338 - accuracy: 0.7207 - val_loss: 0.8991 - val_accuracy: 0.6377\n",
            "Epoch 200/500\n",
            "104/104 [==============================] - 2s 19ms/step - loss: 0.7125 - accuracy: 0.7322 - val_loss: 0.8546 - val_accuracy: 0.6715\n",
            "Epoch 201/500\n",
            "104/104 [==============================] - 2s 19ms/step - loss: 0.7633 - accuracy: 0.7044 - val_loss: 0.8955 - val_accuracy: 0.6522\n",
            "Epoch 202/500\n",
            "104/104 [==============================] - 2s 17ms/step - loss: 0.7501 - accuracy: 0.7074 - val_loss: 0.8707 - val_accuracy: 0.6812\n",
            "Epoch 203/500\n",
            "104/104 [==============================] - 2s 18ms/step - loss: 0.7267 - accuracy: 0.7273 - val_loss: 0.8559 - val_accuracy: 0.6667\n",
            "Epoch 204/500\n",
            "104/104 [==============================] - 2s 18ms/step - loss: 0.7352 - accuracy: 0.7183 - val_loss: 0.8664 - val_accuracy: 0.6763\n",
            "Epoch 205/500\n",
            "104/104 [==============================] - 2s 18ms/step - loss: 0.7289 - accuracy: 0.7297 - val_loss: 0.8461 - val_accuracy: 0.6667\n",
            "Epoch 206/500\n",
            "104/104 [==============================] - 2s 18ms/step - loss: 0.7026 - accuracy: 0.7334 - val_loss: 0.8704 - val_accuracy: 0.6715\n",
            "Epoch 207/500\n",
            "104/104 [==============================] - 2s 24ms/step - loss: 0.6890 - accuracy: 0.7400 - val_loss: 0.8603 - val_accuracy: 0.6957\n",
            "Epoch 208/500\n",
            "104/104 [==============================] - 2s 17ms/step - loss: 0.7045 - accuracy: 0.7352 - val_loss: 0.8691 - val_accuracy: 0.6908\n",
            "Epoch 209/500\n",
            "104/104 [==============================] - 2s 18ms/step - loss: 0.7238 - accuracy: 0.7219 - val_loss: 0.8932 - val_accuracy: 0.6329\n",
            "Epoch 210/500\n",
            "104/104 [==============================] - 2s 18ms/step - loss: 0.7082 - accuracy: 0.7291 - val_loss: 0.8512 - val_accuracy: 0.6812\n",
            "Epoch 211/500\n",
            "104/104 [==============================] - 2s 18ms/step - loss: 0.7234 - accuracy: 0.7297 - val_loss: 0.8469 - val_accuracy: 0.7053\n",
            "Epoch 212/500\n",
            "104/104 [==============================] - 2s 18ms/step - loss: 0.7264 - accuracy: 0.7146 - val_loss: 0.8636 - val_accuracy: 0.7005\n"
          ]
        }
      ]
    },
    {
      "cell_type": "code",
      "source": [
        "plt.plot(cnnhistory.history['loss'])\n",
        "plt.plot(cnnhistory.history['val_loss'])\n",
        "plt.title('model loss')\n",
        "plt.ylabel('loss')\n",
        "plt.xlabel('epoch')\n",
        "plt.legend(['train','test'], loc='upper left')\n",
        "plt.show()"
      ],
      "metadata": {
        "id": "oQYnuaCrDH_A",
        "colab": {
          "base_uri": "https://localhost:8080/",
          "height": 295
        },
        "outputId": "3610692d-34f9-4100-ef8a-5423cbc0c319"
      },
      "execution_count": 15,
      "outputs": [
        {
          "output_type": "display_data",
          "data": {
            "text/plain": [
              "<Figure size 432x288 with 1 Axes>"
            ],
            "image/png": "[encoded data removed]"
          },
          "metadata": {
            "needs_background": "light"
          }
        }
      ]
    },
    {
      "cell_type": "code",
      "source": [
        "plt.plot(cnnhistory.history['accuracy'])\n",
        "plt.plot(cnnhistory.history['val_accuracy'])\n",
        "plt.title('model accuracy')\n",
        "plt.ylabel('accuracy')\n",
        "plt.xlabel('epoch')\n",
        "plt.legend(['train','test'], loc='upper left')\n",
        "plt.show()"
      ],
      "metadata": {
        "id": "IFkTuO8nDNdq",
        "colab": {
          "base_uri": "https://localhost:8080/",
          "height": 295
        },
        "outputId": "0e7deece-c792-434b-bb5d-a12fc3588066"
      },
      "execution_count": 16,
      "outputs": [
        {
          "output_type": "display_data",
          "data": {
            "text/plain": [
              "<Figure size 432x288 with 1 Axes>"
            ],
            "image/png": "[encoded data removed]"
          },
          "metadata": {
            "needs_background": "light"
          }
        }
      ]
    },
    {
      "cell_type": "code",
      "source": [
        "predictions = model.predict(x_testcnn)"
      ],
      "metadata": {
        "id": "A2xtrN5wDQgY"
      },
      "execution_count": 17,
      "outputs": []
    },
    {
      "cell_type": "code",
      "source": [
        "predictions"
      ],
      "metadata": {
        "id": "_f_ohjXKDUpY",
        "colab": {
          "base_uri": "https://localhost:8080/"
        },
        "outputId": "32d4b1d4-2241-4c6b-efeb-af6fdf585c5f"
      },
      "execution_count": 18,
      "outputs": [
        {
          "output_type": "execute_result",
          "data": {
            "text/plain": [
              "array([[5.3335750e-01, 8.3877549e-02, 4.6939354e-02, 2.1244793e-01,\n",
              "        4.2882048e-02, 8.0495648e-02],\n",
              "       [8.1206774e-03, 3.8768843e-02, 4.7466435e-02, 5.5126655e-01,\n",
              "        5.2395768e-02, 3.0198172e-01],\n",
              "       [2.2014180e-01, 1.4382270e-01, 6.2530056e-02, 3.7419233e-01,\n",
              "        3.1415712e-02, 1.6789739e-01],\n",
              "       ...,\n",
              "       [2.8496971e-02, 5.7251342e-05, 1.8926451e-02, 2.6379632e-02,\n",
              "        8.5398191e-01, 7.2157770e-02],\n",
              "       [2.2343588e-04, 7.6580602e-01, 1.9782488e-01, 1.2802426e-02,\n",
              "        1.1566121e-03, 2.2186555e-02],\n",
              "       [1.0773144e-03, 3.1963040e-04, 1.0415271e-01, 3.7056997e-02,\n",
              "        5.4563755e-01, 3.1175587e-01]], dtype=float32)"
            ]
          },
          "metadata": {},
          "execution_count": 18
        }
      ]
    },
    {
      "cell_type": "code",
      "source": [
        "y_test"
      ],
      "metadata": {
        "id": "cmA2bFgsDW3D",
        "colab": {
          "base_uri": "https://localhost:8080/"
        },
        "outputId": "60dd4242-64ea-4e61-89c9-4840f5c53f20"
      },
      "execution_count": 19,
      "outputs": [
        {
          "output_type": "execute_result",
          "data": {
            "text/plain": [
              "array([3, 3, 3, 0, 4, 4, 1, 2, 5, 0, 5, 3, 2, 2, 1, 4, 4, 5, 2, 4, 1, 2,\n",
              "       3, 5, 4, 2, 1, 2, 2, 2, 2, 5, 2, 5, 3, 1, 2, 0, 4, 5, 2, 3, 2, 2,\n",
              "       5, 2, 0, 1, 3, 4, 4, 5, 1, 1, 4, 4, 5, 1, 1, 1, 0, 1, 5, 0, 4, 1,\n",
              "       1, 0, 1, 4, 1, 0, 4, 1, 3, 1, 2, 2, 1, 2, 3, 0, 5, 3, 5, 5, 2, 4,\n",
              "       5, 1, 5, 1, 5, 3, 4, 1, 4, 1, 5, 4, 5, 1, 2, 1, 1, 5, 1, 3, 2, 5,\n",
              "       2, 1, 3, 5, 4, 4, 0, 0, 3, 1, 2, 2, 3, 5, 1, 5, 3, 4, 2, 2, 0, 2,\n",
              "       2, 5, 5, 0, 3, 3, 2, 2, 0, 3, 4, 0, 4, 2, 4, 5, 4, 1, 5, 3, 2, 2,\n",
              "       5, 4, 3, 3, 4, 3, 3, 4, 1, 5, 2, 3, 2, 2, 0, 2, 1, 3, 1, 2, 2, 5,\n",
              "       5, 1, 4, 2, 2, 1, 1, 3, 3, 5, 5, 2, 5, 1, 5, 0, 3, 3, 0, 5, 1, 4,\n",
              "       1, 4, 2, 5, 5, 1, 4, 2, 4])"
            ]
          },
          "metadata": {},
          "execution_count": 19
        }
      ]
    },
    {
      "cell_type": "code",
      "source": [
        "new_Ytest = y_test.astype(int)"
      ],
      "metadata": {
        "id": "0PHDKWJWDY3g"
      },
      "execution_count": 20,
      "outputs": []
    },
    {
      "cell_type": "code",
      "source": [
        "new_Ytest"
      ],
      "metadata": {
        "id": "k68v2i-pDbZE",
        "colab": {
          "base_uri": "https://localhost:8080/"
        },
        "outputId": "d891b456-330e-4ad2-cb28-7d41b4c4128b"
      },
      "execution_count": 21,
      "outputs": [
        {
          "output_type": "execute_result",
          "data": {
            "text/plain": [
              "array([3, 3, 3, 0, 4, 4, 1, 2, 5, 0, 5, 3, 2, 2, 1, 4, 4, 5, 2, 4, 1, 2,\n",
              "       3, 5, 4, 2, 1, 2, 2, 2, 2, 5, 2, 5, 3, 1, 2, 0, 4, 5, 2, 3, 2, 2,\n",
              "       5, 2, 0, 1, 3, 4, 4, 5, 1, 1, 4, 4, 5, 1, 1, 1, 0, 1, 5, 0, 4, 1,\n",
              "       1, 0, 1, 4, 1, 0, 4, 1, 3, 1, 2, 2, 1, 2, 3, 0, 5, 3, 5, 5, 2, 4,\n",
              "       5, 1, 5, 1, 5, 3, 4, 1, 4, 1, 5, 4, 5, 1, 2, 1, 1, 5, 1, 3, 2, 5,\n",
              "       2, 1, 3, 5, 4, 4, 0, 0, 3, 1, 2, 2, 3, 5, 1, 5, 3, 4, 2, 2, 0, 2,\n",
              "       2, 5, 5, 0, 3, 3, 2, 2, 0, 3, 4, 0, 4, 2, 4, 5, 4, 1, 5, 3, 2, 2,\n",
              "       5, 4, 3, 3, 4, 3, 3, 4, 1, 5, 2, 3, 2, 2, 0, 2, 1, 3, 1, 2, 2, 5,\n",
              "       5, 1, 4, 2, 2, 1, 1, 3, 3, 5, 5, 2, 5, 1, 5, 0, 3, 3, 0, 5, 1, 4,\n",
              "       1, 4, 2, 5, 5, 1, 4, 2, 4])"
            ]
          },
          "metadata": {},
          "execution_count": 21
        }
      ]
    },
    {
      "cell_type": "code",
      "source": [
        "preds1=predictions.argmax(axis=1)\n",
        "preds1"
      ],
      "metadata": {
        "id": "4_cAI39VFhtp",
        "colab": {
          "base_uri": "https://localhost:8080/"
        },
        "outputId": "967397dd-f727-45f3-d220-58b057f68e84"
      },
      "execution_count": 22,
      "outputs": [
        {
          "output_type": "execute_result",
          "data": {
            "text/plain": [
              "array([0, 3, 3, 0, 4, 4, 1, 2, 4, 0, 4, 3, 2, 2, 0, 3, 2, 3, 3, 4, 0, 2,\n",
              "       2, 2, 4, 2, 1, 0, 4, 2, 2, 5, 2, 5, 3, 1, 2, 0, 4, 5, 2, 3, 1, 2,\n",
              "       3, 4, 3, 1, 1, 4, 2, 1, 1, 1, 4, 4, 5, 1, 1, 1, 1, 1, 2, 3, 4, 1,\n",
              "       1, 1, 1, 4, 0, 5, 4, 1, 3, 0, 2, 2, 1, 3, 1, 0, 3, 3, 5, 5, 2, 3,\n",
              "       3, 0, 0, 1, 5, 5, 4, 2, 0, 0, 5, 4, 5, 1, 5, 1, 1, 5, 1, 3, 2, 2,\n",
              "       0, 0, 3, 0, 4, 4, 0, 0, 5, 0, 0, 2, 1, 0, 1, 3, 3, 4, 2, 4, 0, 2,\n",
              "       2, 3, 5, 0, 3, 3, 2, 5, 0, 5, 4, 0, 4, 4, 0, 2, 4, 1, 5, 3, 2, 2,\n",
              "       5, 2, 3, 3, 4, 5, 2, 4, 1, 5, 2, 5, 2, 2, 0, 2, 1, 1, 1, 4, 4, 5,\n",
              "       4, 1, 4, 2, 4, 1, 1, 3, 3, 5, 5, 2, 5, 1, 5, 1, 3, 3, 3, 5, 1, 4,\n",
              "       1, 4, 1, 5, 4, 1, 4, 1, 4])"
            ]
          },
          "metadata": {},
          "execution_count": 22
        }
      ]
    },
    {
      "cell_type": "code",
      "source": [
        "abc = preds1.astype(int).flatten()"
      ],
      "metadata": {
        "id": "H4WEmM60NfQn"
      },
      "execution_count": 23,
      "outputs": []
    },
    {
      "cell_type": "code",
      "source": [
        "from sklearn.metrics import confusion_matrix\n",
        "c = confusion_matrix(new_Ytest, abc) \n",
        "c"
      ],
      "metadata": {
        "id": "bKEBeEBlFjB8",
        "colab": {
          "base_uri": "https://localhost:8080/"
        },
        "outputId": "2d3b478a-9082-45b3-a54a-7883e6d0f3c6"
      },
      "execution_count": 24,
      "outputs": [
        {
          "output_type": "execute_result",
          "data": {
            "text/plain": [
              "array([[11,  3,  0,  3,  0,  1],\n",
              "       [ 8, 32,  1,  0,  0,  0],\n",
              "       [ 3,  3, 28,  2,  7,  2],\n",
              "       [ 1,  4,  2, 19,  0,  5],\n",
              "       [ 2,  0,  3,  2, 26,  0],\n",
              "       [ 3,  1,  4,  6,  4, 21]])"
            ]
          },
          "metadata": {},
          "execution_count": 24
        }
      ]
    },
    {
      "cell_type": "code",
      "source": [
        "y_test"
      ],
      "metadata": {
        "id": "m4RjG7LWLSQx",
        "colab": {
          "base_uri": "https://localhost:8080/"
        },
        "outputId": "f54df812-13e8-4b6b-9e93-8db63802e812"
      },
      "execution_count": 25,
      "outputs": [
        {
          "output_type": "execute_result",
          "data": {
            "text/plain": [
              "array([3, 3, 3, 0, 4, 4, 1, 2, 5, 0, 5, 3, 2, 2, 1, 4, 4, 5, 2, 4, 1, 2,\n",
              "       3, 5, 4, 2, 1, 2, 2, 2, 2, 5, 2, 5, 3, 1, 2, 0, 4, 5, 2, 3, 2, 2,\n",
              "       5, 2, 0, 1, 3, 4, 4, 5, 1, 1, 4, 4, 5, 1, 1, 1, 0, 1, 5, 0, 4, 1,\n",
              "       1, 0, 1, 4, 1, 0, 4, 1, 3, 1, 2, 2, 1, 2, 3, 0, 5, 3, 5, 5, 2, 4,\n",
              "       5, 1, 5, 1, 5, 3, 4, 1, 4, 1, 5, 4, 5, 1, 2, 1, 1, 5, 1, 3, 2, 5,\n",
              "       2, 1, 3, 5, 4, 4, 0, 0, 3, 1, 2, 2, 3, 5, 1, 5, 3, 4, 2, 2, 0, 2,\n",
              "       2, 5, 5, 0, 3, 3, 2, 2, 0, 3, 4, 0, 4, 2, 4, 5, 4, 1, 5, 3, 2, 2,\n",
              "       5, 4, 3, 3, 4, 3, 3, 4, 1, 5, 2, 3, 2, 2, 0, 2, 1, 3, 1, 2, 2, 5,\n",
              "       5, 1, 4, 2, 2, 1, 1, 3, 3, 5, 5, 2, 5, 1, 5, 0, 3, 3, 0, 5, 1, 4,\n",
              "       1, 4, 2, 5, 5, 1, 4, 2, 4])"
            ]
          },
          "metadata": {},
          "execution_count": 25
        }
      ]
    },
    {
      "cell_type": "code",
      "source": [
        "loss, acc =model.evaluate(x_testcnn, y_test)\n",
        "print(\"Restored model, accuracy: {:5.2f}%\".format(100*acc))"
      ],
      "metadata": {
        "id": "n3kzoqPkDqqS",
        "colab": {
          "base_uri": "https://localhost:8080/"
        },
        "outputId": "1c6194d0-8dd9-4fb9-cc30-9042b8bc91d3"
      },
      "execution_count": 26,
      "outputs": [
        {
          "output_type": "stream",
          "name": "stdout",
          "text": [
            "7/7 [==============================] - 0s 5ms/step - loss: 0.9118 - accuracy: 0.6618\n",
            "Restored model, accuracy: 66.18%\n"
          ]
        }
      ]
    },
    {
      "cell_type": "code",
      "source": [
        "loss, acc =model.evaluate(X_train, y_train)\n",
        "print(\"Restored model train, accuracy: {:5.2f}%\".format(100*acc))"
      ],
      "metadata": {
        "id": "fJDTGH_OUX0z",
        "colab": {
          "base_uri": "https://localhost:8080/"
        },
        "outputId": "b2ecad12-7e0e-463e-f2f1-17f0e76a0ed2"
      },
      "execution_count": 27,
      "outputs": [
        {
          "output_type": "stream",
          "name": "stdout",
          "text": [
            "52/52 [==============================] - 0s 6ms/step - loss: 0.5833 - accuracy: 0.8501\n",
            "Restored model train, accuracy: 85.01%\n"
          ]
        }
      ]
    },
    {
      "cell_type": "code",
      "source": [
        "from sklearn.metrics import classification_report, confusion_matrix,accuracy_score\n",
        "import seaborn as sn\n",
        "\n",
        "print(classification_report(new_Ytest,abc))\n",
        "\n",
        "acc = float(accuracy_score(new_Ytest,abc))*100\n",
        "print(\"----accuracy score %s ----\" % acc)\n",
        "\n",
        "cm = confusion_matrix(new_Ytest,abc)\n",
        "#df_cm = pd.DataFrame(cm)\n",
        "class_names = ['neutral','calm', 'happy','sad','angry', 'fearful' ]\n",
        "df_cm = pd.DataFrame(cm, index=class_names, columns=class_names,)\n",
        "sn.heatmap(df_cm, annot=True, fmt='')\n",
        "plt.show()"
      ],
      "metadata": {
        "id": "SfSC3El94LZg",
        "colab": {
          "base_uri": "https://localhost:8080/",
          "height": 522
        },
        "outputId": "e339f68d-fb1a-4429-fcaa-de762922afee"
      },
      "execution_count": 28,
      "outputs": [
        {
          "output_type": "stream",
          "name": "stdout",
          "text": [
            "              precision    recall  f1-score   support\n",
            "\n",
            "           0       0.39      0.61      0.48        18\n",
            "           1       0.74      0.78      0.76        41\n",
            "           2       0.74      0.62      0.67        45\n",
            "           3       0.59      0.61      0.60        31\n",
            "           4       0.70      0.79      0.74        33\n",
            "           5       0.72      0.54      0.62        39\n",
            "\n",
            "    accuracy                           0.66       207\n",
            "   macro avg       0.65      0.66      0.65       207\n",
            "weighted avg       0.68      0.66      0.66       207\n",
            "\n",
            "----accuracy score 66.18357487922705 ----\n"
          ]
        },
        {
          "output_type": "display_data",
          "data": {
            "text/plain": [
              "<Figure size 432x288 with 2 Axes>"
            ],
            "image/png": "[encoded data removed]"
          },
          "metadata": {
            "needs_background": "light"
          }
        }
      ]
    }
  ]
}