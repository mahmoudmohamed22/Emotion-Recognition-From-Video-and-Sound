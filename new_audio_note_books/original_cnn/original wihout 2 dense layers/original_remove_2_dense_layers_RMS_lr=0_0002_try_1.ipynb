{
  "nbformat": 4,
  "nbformat_minor": 0,
  "metadata": {
    "colab": {
      "name": "original remove 2 dense layers RMS lr=0.0002 try 1.ipynb",
      "provenance": [],
      "collapsed_sections": []
    },
    "kernelspec": {
      "name": "python3",
      "display_name": "Python 3"
    },
    "language_info": {
      "name": "python"
    },
    "accelerator": "GPU"
  },
  "cells": [
    {
      "cell_type": "code",
      "execution_count": 1,
      "metadata": {
        "colab": {
          "base_uri": "https://localhost:8080/"
        },
        "id": "9SRCO-a_AlH5",
        "outputId": "95d5805f-0a81-409d-c463-fd588d4bd14e"
      },
      "outputs": [
        {
          "output_type": "stream",
          "name": "stdout",
          "text": [
            "Drive already mounted at /content/drive; to attempt to forcibly remount, call drive.mount(\"/content/drive\", force_remount=True).\n"
          ]
        }
      ],
      "source": [
        "from google.colab import drive\n",
        "drive.mount('/content/drive')"
      ]
    },
    {
      "cell_type": "code",
      "source": [
        "!pip install librosa"
      ],
      "metadata": {
        "colab": {
          "base_uri": "https://localhost:8080/"
        },
        "id": "5Lo4mUwG9RMd",
        "outputId": "c3170ed5-abea-4141-e42a-9cd568120fe7"
      },
      "execution_count": 2,
      "outputs": [
        {
          "output_type": "stream",
          "name": "stdout",
          "text": [
            "Looking in indexes: https://pypi.org/simple, https://us-python.pkg.dev/colab-wheels/public/simple/\n",
            "Requirement already satisfied: librosa in /usr/local/lib/python3.7/dist-packages (0.8.1)\n",
            "Requirement already satisfied: pooch>=1.0 in /usr/local/lib/python3.7/dist-packages (from librosa) (1.6.0)\n",
            "Requirement already satisfied: resampy>=0.2.2 in /usr/local/lib/python3.7/dist-packages (from librosa) (0.2.2)\n",
            "Requirement already satisfied: scikit-learn!=0.19.0,>=0.14.0 in /usr/local/lib/python3.7/dist-packages (from librosa) (1.0.2)\n",
            "Requirement already satisfied: scipy>=1.0.0 in /usr/local/lib/python3.7/dist-packages (from librosa) (1.4.1)\n",
            "Requirement already satisfied: packaging>=20.0 in /usr/local/lib/python3.7/dist-packages (from librosa) (21.3)\n",
            "Requirement already satisfied: numpy>=1.15.0 in /usr/local/lib/python3.7/dist-packages (from librosa) (1.21.6)\n",
            "Requirement already satisfied: audioread>=2.0.0 in /usr/local/lib/python3.7/dist-packages (from librosa) (2.1.9)\n",
            "Requirement already satisfied: soundfile>=0.10.2 in /usr/local/lib/python3.7/dist-packages (from librosa) (0.10.3.post1)\n",
            "Requirement already satisfied: joblib>=0.14 in /usr/local/lib/python3.7/dist-packages (from librosa) (1.1.0)\n",
            "Requirement already satisfied: decorator>=3.0.0 in /usr/local/lib/python3.7/dist-packages (from librosa) (4.4.2)\n",
            "Requirement already satisfied: numba>=0.43.0 in /usr/local/lib/python3.7/dist-packages (from librosa) (0.51.2)\n",
            "Requirement already satisfied: setuptools in /usr/local/lib/python3.7/dist-packages (from numba>=0.43.0->librosa) (57.4.0)\n",
            "Requirement already satisfied: llvmlite<0.35,>=0.34.0.dev0 in /usr/local/lib/python3.7/dist-packages (from numba>=0.43.0->librosa) (0.34.0)\n",
            "Requirement already satisfied: pyparsing!=3.0.5,>=2.0.2 in /usr/local/lib/python3.7/dist-packages (from packaging>=20.0->librosa) (3.0.9)\n",
            "Requirement already satisfied: appdirs>=1.3.0 in /usr/local/lib/python3.7/dist-packages (from pooch>=1.0->librosa) (1.4.4)\n",
            "Requirement already satisfied: requests>=2.19.0 in /usr/local/lib/python3.7/dist-packages (from pooch>=1.0->librosa) (2.23.0)\n",
            "Requirement already satisfied: chardet<4,>=3.0.2 in /usr/local/lib/python3.7/dist-packages (from requests>=2.19.0->pooch>=1.0->librosa) (3.0.4)\n",
            "Requirement already satisfied: urllib3!=1.25.0,!=1.25.1,<1.26,>=1.21.1 in /usr/local/lib/python3.7/dist-packages (from requests>=2.19.0->pooch>=1.0->librosa) (1.24.3)\n",
            "Requirement already satisfied: certifi>=2017.4.17 in /usr/local/lib/python3.7/dist-packages (from requests>=2.19.0->pooch>=1.0->librosa) (2022.5.18.1)\n",
            "Requirement already satisfied: idna<3,>=2.5 in /usr/local/lib/python3.7/dist-packages (from requests>=2.19.0->pooch>=1.0->librosa) (2.10)\n",
            "Requirement already satisfied: six>=1.3 in /usr/local/lib/python3.7/dist-packages (from resampy>=0.2.2->librosa) (1.15.0)\n",
            "Requirement already satisfied: threadpoolctl>=2.0.0 in /usr/local/lib/python3.7/dist-packages (from scikit-learn!=0.19.0,>=0.14.0->librosa) (3.1.0)\n",
            "Requirement already satisfied: cffi>=1.0 in /usr/local/lib/python3.7/dist-packages (from soundfile>=0.10.2->librosa) (1.15.0)\n",
            "Requirement already satisfied: pycparser in /usr/local/lib/python3.7/dist-packages (from cffi>=1.0->soundfile>=0.10.2->librosa) (2.21)\n"
          ]
        }
      ]
    },
    {
      "cell_type": "code",
      "metadata": {
        "id": "HJjcbxwy46bG",
        "colab": {
          "base_uri": "https://localhost:8080/",
          "height": 17
        },
        "outputId": "b48d2ec4-d7b4-4f8c-f7a9-2eeb9070c784"
      },
      "source": [
        "# Orignial Notebook: https://github.com/MITESHPUTHRANNEU/Speech-Emotion-Analyzer/blob/master/final_results_gender_test.ipynb\n",
        "# This notebook author: Reza Chu\n",
        "# Last Editing Date: 31st May 2019\n",
        "\n",
        "## Python\n",
        "import os\n",
        "import random\n",
        "import sys\n",
        "\n",
        "import IPython\n",
        "from IPython.display import Audio\n",
        "from IPython.display import Image\n",
        "import matplotlib.pyplot as plt\n",
        "\n",
        "## Package\n",
        "import glob \n",
        "import keras\n",
        "import IPython.display as ipd\n",
        "import librosa\n",
        "import librosa.display\n",
        "import matplotlib.pyplot as plt\n",
        "import numpy as np\n",
        "import pandas as pd\n",
        "import plotly.graph_objs as go\n",
        "import plotly.offline as py\n",
        "import plotly.tools as tls\n",
        "import seaborn as sns\n",
        "import scipy.io.wavfile\n",
        "import tensorflow as tf\n",
        "py.init_notebook_mode(connected=True)\n",
        "\n",
        "## Keras\n",
        "from keras import regularizers\n",
        "from keras.callbacks import ModelCheckpoint, LearningRateScheduler, EarlyStopping\n",
        "from keras.callbacks import  History, ReduceLROnPlateau, CSVLogger\n",
        "from keras.models import Model, Sequential\n",
        "from keras.layers import Dense, Embedding, LSTM\n",
        "from keras.layers import Input, Flatten, Dropout, Activation, BatchNormalization\n",
        "from keras.layers import Conv1D, MaxPooling1D, AveragePooling1D\n",
        "from keras.preprocessing import sequence\n",
        "from keras.preprocessing.sequence import pad_sequences\n",
        "from keras.preprocessing.text import Tokenizer\n",
        "from keras.utils import np_utils\n",
        "from tensorflow.keras.utils import to_categorical\n",
        "\n",
        "## Sklearn\n",
        "from sklearn.metrics import confusion_matrix\n",
        "from sklearn.preprocessing import LabelEncoder\n",
        "\n",
        "## Rest\n",
        "from scipy.fftpack import fft\n",
        "from scipy import signal\n",
        "from scipy.io import wavfile\n",
        "from tqdm import tqdm\n",
        "\n",
        "input_duration=3\n",
        "# % pylab inline"
      ],
      "execution_count": 3,
      "outputs": [
        {
          "output_type": "display_data",
          "data": {
            "text/html": [
              "        <script type=\"text/javascript\">\n",
              "        window.PlotlyConfig = {MathJaxConfig: 'local'};\n",
              "        if (window.MathJax) {MathJax.Hub.Config({SVG: {font: \"STIX-Web\"}});}\n",
              "        if (typeof require !== 'undefined') {\n",
              "        require.undef(\"plotly\");\n",
              "        requirejs.config({\n",
              "            paths: {\n",
              "                'plotly': ['https://cdn.plot.ly/plotly-2.8.3.min']\n",
              "            }\n",
              "        });\n",
              "        require(['plotly'], function(Plotly) {\n",
              "            window._Plotly = Plotly;\n",
              "        });\n",
              "        }\n",
              "        </script>\n",
              "        "
            ]
          },
          "metadata": {}
        }
      ]
    },
    {
      "cell_type": "code",
      "source": [
        "# # Saving joblib files to not load them again with the loop above\n",
        "\n",
        "# import joblib\n",
        "\n",
        "# X_name = 'x.joblib'\n",
        "# y_name = 'y.joblib'\n",
        "# save_dir = '/content/drive/My Drive/graduation project/audio/paper_code/features'\n",
        "\n",
        "# savedX = joblib.dump(X, os.path.join(save_dir, X_name))\n",
        "# savedy = joblib.dump(y, os.path.join(save_dir, y_name))"
      ],
      "metadata": {
        "id": "UCzic8rlDcuk"
      },
      "execution_count": 4,
      "outputs": []
    },
    {
      "cell_type": "code",
      "source": [
        "# # Loading saved models\n",
        "import joblib\n",
        "X = joblib.load('/content/drive/My Drive/graduation project/audio/paper_code/features/x.joblib')\n",
        "y = joblib.load('/content/drive/My Drive/graduation project/audio/paper_code/features/y.joblib')"
      ],
      "metadata": {
        "id": "Q35CN6zDrzg1"
      },
      "execution_count": 5,
      "outputs": []
    },
    {
      "cell_type": "code",
      "source": [
        "X.shape"
      ],
      "metadata": {
        "colab": {
          "base_uri": "https://localhost:8080/"
        },
        "id": "7PSTurzjCo5K",
        "outputId": "e9a01318-aab1-4570-e332-24c927300a09"
      },
      "execution_count": 6,
      "outputs": [
        {
          "output_type": "execute_result",
          "data": {
            "text/plain": [
              "(2068, 40)"
            ]
          },
          "metadata": {},
          "execution_count": 6
        }
      ]
    },
    {
      "cell_type": "code",
      "source": [
        "from sklearn.model_selection import train_test_split\n",
        "\n",
        "X_train, X_test, y_train, y_test = train_test_split(X,y, test_size=0.1 ,shuffle = True\n",
        "                                                    , random_state=42)\n",
        "X_train , X_valid, y_train, y_valid = train_test_split(X_train,y_train, test_size=0.1112305212 , shuffle = True \n",
        "                                                       , random_state=42)"
      ],
      "metadata": {
        "id": "Ai4Fy5cPCiq1"
      },
      "execution_count": 7,
      "outputs": []
    },
    {
      "cell_type": "code",
      "source": [
        "import numpy as np\n",
        "x_traincnn = np.expand_dims(X_train, axis=2)\n",
        "x_testcnn = np.expand_dims(X_test, axis=2)\n",
        "X_valid= np.expand_dims(X_valid, axis=2)"
      ],
      "metadata": {
        "id": "tp1Fm5K3CEXu"
      },
      "execution_count": 8,
      "outputs": []
    },
    {
      "cell_type": "code",
      "source": [
        "x_traincnn.shape, x_testcnn.shape , X_valid.shape\n",
        "#1861"
      ],
      "metadata": {
        "id": "RI0MxoIPBws5",
        "colab": {
          "base_uri": "https://localhost:8080/"
        },
        "outputId": "700667f1-02a3-4fdc-c8c1-86b4e29fb9f9"
      },
      "execution_count": 9,
      "outputs": [
        {
          "output_type": "execute_result",
          "data": {
            "text/plain": [
              "((1654, 40, 1), (207, 40, 1), (207, 40, 1))"
            ]
          },
          "metadata": {},
          "execution_count": 9
        }
      ]
    },
    {
      "cell_type": "code",
      "source": [
        "!pip install tensorflow"
      ],
      "metadata": {
        "colab": {
          "base_uri": "https://localhost:8080/"
        },
        "id": "oALhiMUd9G2Y",
        "outputId": "fd81f9fd-1123-4a5a-c6f4-2cc38e2b918b"
      },
      "execution_count": 10,
      "outputs": [
        {
          "output_type": "stream",
          "name": "stdout",
          "text": [
            "Looking in indexes: https://pypi.org/simple, https://us-python.pkg.dev/colab-wheels/public/simple/\n",
            "Requirement already satisfied: tensorflow in /usr/local/lib/python3.7/dist-packages (2.8.2+zzzcolab20220527125636)\n",
            "Requirement already satisfied: absl-py>=0.4.0 in /usr/local/lib/python3.7/dist-packages (from tensorflow) (1.0.0)\n",
            "Requirement already satisfied: astunparse>=1.6.0 in /usr/local/lib/python3.7/dist-packages (from tensorflow) (1.6.3)\n",
            "Requirement already satisfied: numpy>=1.20 in /usr/local/lib/python3.7/dist-packages (from tensorflow) (1.21.6)\n",
            "Requirement already satisfied: tensorboard<2.9,>=2.8 in /usr/local/lib/python3.7/dist-packages (from tensorflow) (2.8.0)\n",
            "Requirement already satisfied: opt-einsum>=2.3.2 in /usr/local/lib/python3.7/dist-packages (from tensorflow) (3.3.0)\n",
            "Requirement already satisfied: libclang>=9.0.1 in /usr/local/lib/python3.7/dist-packages (from tensorflow) (14.0.1)\n",
            "Requirement already satisfied: h5py>=2.9.0 in /usr/local/lib/python3.7/dist-packages (from tensorflow) (3.1.0)\n",
            "Requirement already satisfied: tensorflow-io-gcs-filesystem>=0.23.1 in /usr/local/lib/python3.7/dist-packages (from tensorflow) (0.26.0)\n",
            "Requirement already satisfied: setuptools in /usr/local/lib/python3.7/dist-packages (from tensorflow) (57.4.0)\n",
            "Requirement already satisfied: wrapt>=1.11.0 in /usr/local/lib/python3.7/dist-packages (from tensorflow) (1.14.1)\n",
            "Requirement already satisfied: flatbuffers>=1.12 in /usr/local/lib/python3.7/dist-packages (from tensorflow) (2.0)\n",
            "Requirement already satisfied: termcolor>=1.1.0 in /usr/local/lib/python3.7/dist-packages (from tensorflow) (1.1.0)\n",
            "Requirement already satisfied: typing-extensions>=3.6.6 in /usr/local/lib/python3.7/dist-packages (from tensorflow) (4.2.0)\n",
            "Requirement already satisfied: google-pasta>=0.1.1 in /usr/local/lib/python3.7/dist-packages (from tensorflow) (0.2.0)\n",
            "Requirement already satisfied: grpcio<2.0,>=1.24.3 in /usr/local/lib/python3.7/dist-packages (from tensorflow) (1.46.3)\n",
            "Requirement already satisfied: tensorflow-estimator<2.9,>=2.8 in /usr/local/lib/python3.7/dist-packages (from tensorflow) (2.8.0)\n",
            "Requirement already satisfied: six>=1.12.0 in /usr/local/lib/python3.7/dist-packages (from tensorflow) (1.15.0)\n",
            "Requirement already satisfied: keras-preprocessing>=1.1.1 in /usr/local/lib/python3.7/dist-packages (from tensorflow) (1.1.2)\n",
            "Requirement already satisfied: gast>=0.2.1 in /usr/local/lib/python3.7/dist-packages (from tensorflow) (0.5.3)\n",
            "Requirement already satisfied: protobuf<3.20,>=3.9.2 in /usr/local/lib/python3.7/dist-packages (from tensorflow) (3.17.3)\n",
            "Requirement already satisfied: keras<2.9,>=2.8.0rc0 in /usr/local/lib/python3.7/dist-packages (from tensorflow) (2.8.0)\n",
            "Requirement already satisfied: wheel<1.0,>=0.23.0 in /usr/local/lib/python3.7/dist-packages (from astunparse>=1.6.0->tensorflow) (0.37.1)\n",
            "Requirement already satisfied: cached-property in /usr/local/lib/python3.7/dist-packages (from h5py>=2.9.0->tensorflow) (1.5.2)\n",
            "Requirement already satisfied: tensorboard-data-server<0.7.0,>=0.6.0 in /usr/local/lib/python3.7/dist-packages (from tensorboard<2.9,>=2.8->tensorflow) (0.6.1)\n",
            "Requirement already satisfied: markdown>=2.6.8 in /usr/local/lib/python3.7/dist-packages (from tensorboard<2.9,>=2.8->tensorflow) (3.3.7)\n",
            "Requirement already satisfied: google-auth-oauthlib<0.5,>=0.4.1 in /usr/local/lib/python3.7/dist-packages (from tensorboard<2.9,>=2.8->tensorflow) (0.4.6)\n",
            "Requirement already satisfied: tensorboard-plugin-wit>=1.6.0 in /usr/local/lib/python3.7/dist-packages (from tensorboard<2.9,>=2.8->tensorflow) (1.8.1)\n",
            "Requirement already satisfied: requests<3,>=2.21.0 in /usr/local/lib/python3.7/dist-packages (from tensorboard<2.9,>=2.8->tensorflow) (2.23.0)\n",
            "Requirement already satisfied: google-auth<3,>=1.6.3 in /usr/local/lib/python3.7/dist-packages (from tensorboard<2.9,>=2.8->tensorflow) (1.35.0)\n",
            "Requirement already satisfied: werkzeug>=0.11.15 in /usr/local/lib/python3.7/dist-packages (from tensorboard<2.9,>=2.8->tensorflow) (1.0.1)\n",
            "Requirement already satisfied: cachetools<5.0,>=2.0.0 in /usr/local/lib/python3.7/dist-packages (from google-auth<3,>=1.6.3->tensorboard<2.9,>=2.8->tensorflow) (4.2.4)\n",
            "Requirement already satisfied: pyasn1-modules>=0.2.1 in /usr/local/lib/python3.7/dist-packages (from google-auth<3,>=1.6.3->tensorboard<2.9,>=2.8->tensorflow) (0.2.8)\n",
            "Requirement already satisfied: rsa<5,>=3.1.4 in /usr/local/lib/python3.7/dist-packages (from google-auth<3,>=1.6.3->tensorboard<2.9,>=2.8->tensorflow) (4.8)\n",
            "Requirement already satisfied: requests-oauthlib>=0.7.0 in /usr/local/lib/python3.7/dist-packages (from google-auth-oauthlib<0.5,>=0.4.1->tensorboard<2.9,>=2.8->tensorflow) (1.3.1)\n",
            "Requirement already satisfied: importlib-metadata>=4.4 in /usr/local/lib/python3.7/dist-packages (from markdown>=2.6.8->tensorboard<2.9,>=2.8->tensorflow) (4.11.4)\n",
            "Requirement already satisfied: zipp>=0.5 in /usr/local/lib/python3.7/dist-packages (from importlib-metadata>=4.4->markdown>=2.6.8->tensorboard<2.9,>=2.8->tensorflow) (3.8.0)\n",
            "Requirement already satisfied: pyasn1<0.5.0,>=0.4.6 in /usr/local/lib/python3.7/dist-packages (from pyasn1-modules>=0.2.1->google-auth<3,>=1.6.3->tensorboard<2.9,>=2.8->tensorflow) (0.4.8)\n",
            "Requirement already satisfied: certifi>=2017.4.17 in /usr/local/lib/python3.7/dist-packages (from requests<3,>=2.21.0->tensorboard<2.9,>=2.8->tensorflow) (2022.5.18.1)\n",
            "Requirement already satisfied: chardet<4,>=3.0.2 in /usr/local/lib/python3.7/dist-packages (from requests<3,>=2.21.0->tensorboard<2.9,>=2.8->tensorflow) (3.0.4)\n",
            "Requirement already satisfied: idna<3,>=2.5 in /usr/local/lib/python3.7/dist-packages (from requests<3,>=2.21.0->tensorboard<2.9,>=2.8->tensorflow) (2.10)\n",
            "Requirement already satisfied: urllib3!=1.25.0,!=1.25.1,<1.26,>=1.21.1 in /usr/local/lib/python3.7/dist-packages (from requests<3,>=2.21.0->tensorboard<2.9,>=2.8->tensorflow) (1.24.3)\n",
            "Requirement already satisfied: oauthlib>=3.0.0 in /usr/local/lib/python3.7/dist-packages (from requests-oauthlib>=0.7.0->google-auth-oauthlib<0.5,>=0.4.1->tensorboard<2.9,>=2.8->tensorflow) (3.2.0)\n"
          ]
        }
      ]
    },
    {
      "cell_type": "code",
      "source": [
        "import keras\n",
        "import numpy as np\n",
        "import matplotlib.pyplot as plt\n",
        "import tensorflow as tf\n",
        "from keras.preprocessing import sequence\n",
        "from keras.models import Sequential\n",
        "from keras.layers import Dense, Embedding\n",
        "from tensorflow.keras.utils import to_categorical\n",
        "from keras.layers import Input, Flatten, Dropout, Activation\n",
        "from keras.layers import Conv1D, MaxPooling1D\n",
        "from keras.models import Model\n",
        "from keras.callbacks import ModelCheckpoint\n",
        "from tensorflow.keras import optimizers\n",
        "\n",
        "model = Sequential()\n",
        "\n",
        "model.add(Conv1D(128, 8,padding='same', #classifier.add(Convolution2D(64, (3, 3), padding = 'same', input_shape = (128, 128, 3), activation = 'relu'))\n",
        "                 input_shape=(40,1)))\n",
        "model.add(Activation('relu'))\n",
        "model.add(Dropout(0.3))\n",
        "model.add(MaxPooling1D(pool_size=(5)))\n",
        "\n",
        "\n",
        "model.add(Conv1D(256,8,padding='same',))\n",
        "model.add(Activation('relu'))\n",
        "model.add(Dropout(0.3))\n",
        "model.add(MaxPooling1D(pool_size=(5)))\n",
        "\n",
        "model.add(Conv1D(256,8,padding='same',))\n",
        "model.add(Activation('relu'))\n",
        "model.add(Dropout(0.3))\n",
        "#model.add(MaxPooling1D(pool_size=(5)))\n",
        "\n",
        "model.add(Flatten())\n",
        "\n",
        "\n",
        "\n",
        "model.add(Dense(6))\n",
        "model.add(Activation('softmax'))\n",
        "\n",
        "\n",
        "opt = tf.keras.optimizers.RMSprop(lr=0.0002 , decay=0.0)\n",
        "#opt = tf.keras.optimizers.Adam(lr=0.0002 , decay=0.0)\n",
        "#opt = tf.keras.optimizers.RMSprop(lr=0.0001, rho=0.9, epsilon=1e-07, decay=0.0)\n",
        "#opt = tf.keras.optimizers.SGD(lr=0.001, momentum=0.0, decay=0.0, nesterov=False)"
      ],
      "metadata": {
        "id": "g74fXWVAC4Cr",
        "colab": {
          "base_uri": "https://localhost:8080/"
        },
        "outputId": "2fa75754-c052-4b0d-8ff2-17ae4dc08d02"
      },
      "execution_count": 11,
      "outputs": [
        {
          "output_type": "stream",
          "name": "stderr",
          "text": [
            "/usr/local/lib/python3.7/dist-packages/keras/optimizer_v2/rmsprop.py:130: UserWarning:\n",
            "\n",
            "The `lr` argument is deprecated, use `learning_rate` instead.\n",
            "\n"
          ]
        }
      ]
    },
    {
      "cell_type": "code",
      "source": [
        "model.summary()"
      ],
      "metadata": {
        "colab": {
          "base_uri": "https://localhost:8080/"
        },
        "id": "H6ukOxAGC_I4",
        "outputId": "b950652f-d396-4427-c55d-6619f600cc8a"
      },
      "execution_count": 12,
      "outputs": [
        {
          "output_type": "stream",
          "name": "stdout",
          "text": [
            "Model: \"sequential\"\n",
            "_________________________________________________________________\n",
            " Layer (type)                Output Shape              Param #   \n",
            "=================================================================\n",
            " conv1d (Conv1D)             (None, 40, 128)           1152      \n",
            "                                                                 \n",
            " activation (Activation)     (None, 40, 128)           0         \n",
            "                                                                 \n",
            " dropout (Dropout)           (None, 40, 128)           0         \n",
            "                                                                 \n",
            " max_pooling1d (MaxPooling1D  (None, 8, 128)           0         \n",
            " )                                                               \n",
            "                                                                 \n",
            " conv1d_1 (Conv1D)           (None, 8, 256)            262400    \n",
            "                                                                 \n",
            " activation_1 (Activation)   (None, 8, 256)            0         \n",
            "                                                                 \n",
            " dropout_1 (Dropout)         (None, 8, 256)            0         \n",
            "                                                                 \n",
            " max_pooling1d_1 (MaxPooling  (None, 1, 256)           0         \n",
            " 1D)                                                             \n",
            "                                                                 \n",
            " conv1d_2 (Conv1D)           (None, 1, 256)            524544    \n",
            "                                                                 \n",
            " activation_2 (Activation)   (None, 1, 256)            0         \n",
            "                                                                 \n",
            " dropout_2 (Dropout)         (None, 1, 256)            0         \n",
            "                                                                 \n",
            " flatten (Flatten)           (None, 256)               0         \n",
            "                                                                 \n",
            " dense (Dense)               (None, 6)                 1542      \n",
            "                                                                 \n",
            " activation_3 (Activation)   (None, 6)                 0         \n",
            "                                                                 \n",
            "=================================================================\n",
            "Total params: 789,638\n",
            "Trainable params: 789,638\n",
            "Non-trainable params: 0\n",
            "_________________________________________________________________\n"
          ]
        }
      ]
    },
    {
      "cell_type": "code",
      "source": [
        "model.compile(loss='sparse_categorical_crossentropy',\n",
        "              optimizer=opt,\n",
        "              metrics=['accuracy'])"
      ],
      "metadata": {
        "id": "AbMlLNk4DCBM"
      },
      "execution_count": 13,
      "outputs": []
    },
    {
      "cell_type": "code",
      "source": [
        "# Create an Instance of Early Stopping Callback.\n",
        "early_stopping_callback = EarlyStopping(monitor = 'val_loss', patience = 25, mode = 'min', restore_best_weights = True)\n",
        "\n",
        "cnnhistory=model.fit(x_traincnn, y_train, batch_size=16, epochs=500 , shuffle = True, \n",
        "                     validation_data=(X_valid, y_valid) , callbacks = [early_stopping_callback])"
      ],
      "metadata": {
        "colab": {
          "base_uri": "https://localhost:8080/"
        },
        "id": "RI1v2AuADFhy",
        "outputId": "6a0a1362-036f-4bcc-c35b-6837c8e9eadc"
      },
      "execution_count": 14,
      "outputs": [
        {
          "output_type": "stream",
          "name": "stdout",
          "text": [
            "Epoch 1/500\n",
            "104/104 [==============================] - 5s 13ms/step - loss: 3.0441 - accuracy: 0.1850 - val_loss: 1.8120 - val_accuracy: 0.1932\n",
            "Epoch 2/500\n",
            "104/104 [==============================] - 1s 8ms/step - loss: 1.8534 - accuracy: 0.1747 - val_loss: 1.7714 - val_accuracy: 0.2174\n",
            "Epoch 3/500\n",
            "104/104 [==============================] - 1s 10ms/step - loss: 1.8129 - accuracy: 0.2158 - val_loss: 1.7836 - val_accuracy: 0.1981\n",
            "Epoch 4/500\n",
            "104/104 [==============================] - 1s 11ms/step - loss: 1.8081 - accuracy: 0.1886 - val_loss: 1.7770 - val_accuracy: 0.2077\n",
            "Epoch 5/500\n",
            "104/104 [==============================] - 1s 11ms/step - loss: 1.7932 - accuracy: 0.2007 - val_loss: 1.7871 - val_accuracy: 0.2174\n",
            "Epoch 6/500\n",
            "104/104 [==============================] - 1s 11ms/step - loss: 1.7692 - accuracy: 0.2116 - val_loss: 1.7511 - val_accuracy: 0.2415\n",
            "Epoch 7/500\n",
            "104/104 [==============================] - 1s 9ms/step - loss: 1.7505 - accuracy: 0.2170 - val_loss: 1.7533 - val_accuracy: 0.1498\n",
            "Epoch 8/500\n",
            "104/104 [==============================] - 1s 9ms/step - loss: 1.7281 - accuracy: 0.2213 - val_loss: 1.7389 - val_accuracy: 0.2271\n",
            "Epoch 9/500\n",
            "104/104 [==============================] - 1s 9ms/step - loss: 1.6915 - accuracy: 0.2545 - val_loss: 1.6744 - val_accuracy: 0.3092\n",
            "Epoch 10/500\n",
            "104/104 [==============================] - 1s 9ms/step - loss: 1.6856 - accuracy: 0.2624 - val_loss: 1.7514 - val_accuracy: 0.2077\n",
            "Epoch 11/500\n",
            "104/104 [==============================] - 1s 12ms/step - loss: 1.6759 - accuracy: 0.2727 - val_loss: 1.6752 - val_accuracy: 0.2705\n",
            "Epoch 12/500\n",
            "104/104 [==============================] - 1s 10ms/step - loss: 1.6500 - accuracy: 0.2654 - val_loss: 1.6588 - val_accuracy: 0.2754\n",
            "Epoch 13/500\n",
            "104/104 [==============================] - 1s 10ms/step - loss: 1.6404 - accuracy: 0.2823 - val_loss: 1.6300 - val_accuracy: 0.2947\n",
            "Epoch 14/500\n",
            "104/104 [==============================] - 1s 10ms/step - loss: 1.6297 - accuracy: 0.2842 - val_loss: 1.6870 - val_accuracy: 0.2609\n",
            "Epoch 15/500\n",
            "104/104 [==============================] - 1s 9ms/step - loss: 1.6124 - accuracy: 0.2975 - val_loss: 1.6397 - val_accuracy: 0.3043\n",
            "Epoch 16/500\n",
            "104/104 [==============================] - 1s 10ms/step - loss: 1.6128 - accuracy: 0.3029 - val_loss: 1.5613 - val_accuracy: 0.3188\n",
            "Epoch 17/500\n",
            "104/104 [==============================] - 1s 9ms/step - loss: 1.6127 - accuracy: 0.3096 - val_loss: 1.5889 - val_accuracy: 0.3237\n",
            "Epoch 18/500\n",
            "104/104 [==============================] - 1s 11ms/step - loss: 1.5925 - accuracy: 0.3156 - val_loss: 1.5932 - val_accuracy: 0.3382\n",
            "Epoch 19/500\n",
            "104/104 [==============================] - 1s 10ms/step - loss: 1.5935 - accuracy: 0.3120 - val_loss: 1.5506 - val_accuracy: 0.3285\n",
            "Epoch 20/500\n",
            "104/104 [==============================] - 1s 10ms/step - loss: 1.5774 - accuracy: 0.3380 - val_loss: 1.5730 - val_accuracy: 0.2995\n",
            "Epoch 21/500\n",
            "104/104 [==============================] - 1s 10ms/step - loss: 1.5622 - accuracy: 0.3295 - val_loss: 1.5643 - val_accuracy: 0.3285\n",
            "Epoch 22/500\n",
            "104/104 [==============================] - 1s 10ms/step - loss: 1.5505 - accuracy: 0.3398 - val_loss: 1.5672 - val_accuracy: 0.3092\n",
            "Epoch 23/500\n",
            "104/104 [==============================] - 1s 9ms/step - loss: 1.5485 - accuracy: 0.3404 - val_loss: 1.4880 - val_accuracy: 0.3816\n",
            "Epoch 24/500\n",
            "104/104 [==============================] - 1s 9ms/step - loss: 1.5378 - accuracy: 0.3561 - val_loss: 1.5934 - val_accuracy: 0.3237\n",
            "Epoch 25/500\n",
            "104/104 [==============================] - 1s 9ms/step - loss: 1.5187 - accuracy: 0.3519 - val_loss: 1.5113 - val_accuracy: 0.3527\n",
            "Epoch 26/500\n",
            "104/104 [==============================] - 1s 6ms/step - loss: 1.4965 - accuracy: 0.3597 - val_loss: 1.5131 - val_accuracy: 0.3720\n",
            "Epoch 27/500\n",
            "104/104 [==============================] - 1s 7ms/step - loss: 1.5024 - accuracy: 0.3634 - val_loss: 1.4894 - val_accuracy: 0.3623\n",
            "Epoch 28/500\n",
            "104/104 [==============================] - 1s 6ms/step - loss: 1.4856 - accuracy: 0.3712 - val_loss: 1.4837 - val_accuracy: 0.3671\n",
            "Epoch 29/500\n",
            "104/104 [==============================] - 1s 6ms/step - loss: 1.4661 - accuracy: 0.3809 - val_loss: 1.4432 - val_accuracy: 0.3961\n",
            "Epoch 30/500\n",
            "104/104 [==============================] - 1s 6ms/step - loss: 1.4646 - accuracy: 0.3827 - val_loss: 1.4721 - val_accuracy: 0.4589\n",
            "Epoch 31/500\n",
            "104/104 [==============================] - 1s 6ms/step - loss: 1.4539 - accuracy: 0.3966 - val_loss: 1.4235 - val_accuracy: 0.4348\n",
            "Epoch 32/500\n",
            "104/104 [==============================] - 1s 6ms/step - loss: 1.4412 - accuracy: 0.3773 - val_loss: 1.3910 - val_accuracy: 0.4348\n",
            "Epoch 33/500\n",
            "104/104 [==============================] - 1s 6ms/step - loss: 1.4253 - accuracy: 0.4051 - val_loss: 1.4084 - val_accuracy: 0.4010\n",
            "Epoch 34/500\n",
            "104/104 [==============================] - 1s 6ms/step - loss: 1.3839 - accuracy: 0.4099 - val_loss: 1.4037 - val_accuracy: 0.4203\n",
            "Epoch 35/500\n",
            "104/104 [==============================] - 1s 6ms/step - loss: 1.3902 - accuracy: 0.4256 - val_loss: 1.3772 - val_accuracy: 0.4638\n",
            "Epoch 36/500\n",
            "104/104 [==============================] - 1s 5ms/step - loss: 1.3703 - accuracy: 0.4287 - val_loss: 1.3594 - val_accuracy: 0.4589\n",
            "Epoch 37/500\n",
            "104/104 [==============================] - 1s 6ms/step - loss: 1.3464 - accuracy: 0.4450 - val_loss: 1.2719 - val_accuracy: 0.4686\n",
            "Epoch 38/500\n",
            "104/104 [==============================] - 1s 5ms/step - loss: 1.3319 - accuracy: 0.4577 - val_loss: 1.3447 - val_accuracy: 0.4686\n",
            "Epoch 39/500\n",
            "104/104 [==============================] - 1s 6ms/step - loss: 1.3172 - accuracy: 0.4486 - val_loss: 1.2894 - val_accuracy: 0.5266\n",
            "Epoch 40/500\n",
            "104/104 [==============================] - 1s 6ms/step - loss: 1.3021 - accuracy: 0.4661 - val_loss: 1.2700 - val_accuracy: 0.5121\n",
            "Epoch 41/500\n",
            "104/104 [==============================] - 1s 5ms/step - loss: 1.2992 - accuracy: 0.4613 - val_loss: 1.2521 - val_accuracy: 0.5169\n",
            "Epoch 42/500\n",
            "104/104 [==============================] - 1s 6ms/step - loss: 1.2737 - accuracy: 0.4843 - val_loss: 1.2259 - val_accuracy: 0.5362\n",
            "Epoch 43/500\n",
            "104/104 [==============================] - 1s 5ms/step - loss: 1.2646 - accuracy: 0.4692 - val_loss: 1.2733 - val_accuracy: 0.4976\n",
            "Epoch 44/500\n",
            "104/104 [==============================] - 1s 6ms/step - loss: 1.2388 - accuracy: 0.4855 - val_loss: 1.2606 - val_accuracy: 0.4879\n",
            "Epoch 45/500\n",
            "104/104 [==============================] - 1s 5ms/step - loss: 1.2259 - accuracy: 0.5048 - val_loss: 1.1945 - val_accuracy: 0.5459\n",
            "Epoch 46/500\n",
            "104/104 [==============================] - 1s 5ms/step - loss: 1.2216 - accuracy: 0.4903 - val_loss: 1.1881 - val_accuracy: 0.5217\n",
            "Epoch 47/500\n",
            "104/104 [==============================] - 1s 6ms/step - loss: 1.1978 - accuracy: 0.5151 - val_loss: 1.1629 - val_accuracy: 0.5652\n",
            "Epoch 48/500\n",
            "104/104 [==============================] - 1s 5ms/step - loss: 1.1774 - accuracy: 0.5073 - val_loss: 1.1949 - val_accuracy: 0.5314\n",
            "Epoch 49/500\n",
            "104/104 [==============================] - 1s 6ms/step - loss: 1.1641 - accuracy: 0.5254 - val_loss: 1.1172 - val_accuracy: 0.5459\n",
            "Epoch 50/500\n",
            "104/104 [==============================] - 1s 5ms/step - loss: 1.1518 - accuracy: 0.5369 - val_loss: 1.1255 - val_accuracy: 0.5266\n",
            "Epoch 51/500\n",
            "104/104 [==============================] - 1s 6ms/step - loss: 1.1450 - accuracy: 0.5387 - val_loss: 1.1261 - val_accuracy: 0.5556\n",
            "Epoch 52/500\n",
            "104/104 [==============================] - 1s 6ms/step - loss: 1.1344 - accuracy: 0.5278 - val_loss: 1.0793 - val_accuracy: 0.5700\n",
            "Epoch 53/500\n",
            "104/104 [==============================] - 1s 5ms/step - loss: 1.1154 - accuracy: 0.5496 - val_loss: 1.1295 - val_accuracy: 0.5266\n",
            "Epoch 54/500\n",
            "104/104 [==============================] - 1s 6ms/step - loss: 1.0824 - accuracy: 0.5605 - val_loss: 1.0408 - val_accuracy: 0.6232\n",
            "Epoch 55/500\n",
            "104/104 [==============================] - 1s 6ms/step - loss: 1.0893 - accuracy: 0.5586 - val_loss: 1.1171 - val_accuracy: 0.5700\n",
            "Epoch 56/500\n",
            "104/104 [==============================] - 1s 5ms/step - loss: 1.0570 - accuracy: 0.5780 - val_loss: 1.0099 - val_accuracy: 0.6135\n",
            "Epoch 57/500\n",
            "104/104 [==============================] - 1s 6ms/step - loss: 1.0490 - accuracy: 0.5846 - val_loss: 1.0746 - val_accuracy: 0.5942\n",
            "Epoch 58/500\n",
            "104/104 [==============================] - 1s 5ms/step - loss: 1.0622 - accuracy: 0.5840 - val_loss: 1.0427 - val_accuracy: 0.6329\n",
            "Epoch 59/500\n",
            "104/104 [==============================] - 1s 6ms/step - loss: 1.0110 - accuracy: 0.5931 - val_loss: 1.0151 - val_accuracy: 0.6039\n",
            "Epoch 60/500\n",
            "104/104 [==============================] - 1s 6ms/step - loss: 1.0225 - accuracy: 0.6064 - val_loss: 1.0178 - val_accuracy: 0.5942\n",
            "Epoch 61/500\n",
            "104/104 [==============================] - 1s 6ms/step - loss: 0.9714 - accuracy: 0.6161 - val_loss: 0.9214 - val_accuracy: 0.6715\n",
            "Epoch 62/500\n",
            "104/104 [==============================] - 1s 6ms/step - loss: 0.9869 - accuracy: 0.5943 - val_loss: 1.0152 - val_accuracy: 0.6425\n",
            "Epoch 63/500\n",
            "104/104 [==============================] - 1s 6ms/step - loss: 0.9545 - accuracy: 0.6372 - val_loss: 1.0816 - val_accuracy: 0.5556\n",
            "Epoch 64/500\n",
            "104/104 [==============================] - 1s 6ms/step - loss: 0.9427 - accuracy: 0.6173 - val_loss: 0.9747 - val_accuracy: 0.6908\n",
            "Epoch 65/500\n",
            "104/104 [==============================] - 1s 5ms/step - loss: 0.9191 - accuracy: 0.6433 - val_loss: 0.9710 - val_accuracy: 0.6039\n",
            "Epoch 66/500\n",
            "104/104 [==============================] - 1s 6ms/step - loss: 0.9094 - accuracy: 0.6433 - val_loss: 0.8883 - val_accuracy: 0.6618\n",
            "Epoch 67/500\n",
            "104/104 [==============================] - 1s 5ms/step - loss: 0.9088 - accuracy: 0.6360 - val_loss: 0.9824 - val_accuracy: 0.6329\n",
            "Epoch 68/500\n",
            "104/104 [==============================] - 1s 6ms/step - loss: 0.8991 - accuracy: 0.6439 - val_loss: 0.9267 - val_accuracy: 0.5894\n",
            "Epoch 69/500\n",
            "104/104 [==============================] - 1s 6ms/step - loss: 0.8759 - accuracy: 0.6566 - val_loss: 0.8813 - val_accuracy: 0.6812\n",
            "Epoch 70/500\n",
            "104/104 [==============================] - 1s 6ms/step - loss: 0.8707 - accuracy: 0.6572 - val_loss: 0.8394 - val_accuracy: 0.7053\n",
            "Epoch 71/500\n",
            "104/104 [==============================] - 1s 6ms/step - loss: 0.8678 - accuracy: 0.6644 - val_loss: 0.8855 - val_accuracy: 0.6425\n",
            "Epoch 72/500\n",
            "104/104 [==============================] - 1s 5ms/step - loss: 0.8456 - accuracy: 0.6651 - val_loss: 0.8755 - val_accuracy: 0.6618\n",
            "Epoch 73/500\n",
            "104/104 [==============================] - 1s 5ms/step - loss: 0.8299 - accuracy: 0.6814 - val_loss: 0.8272 - val_accuracy: 0.7150\n",
            "Epoch 74/500\n",
            "104/104 [==============================] - 1s 5ms/step - loss: 0.8469 - accuracy: 0.6669 - val_loss: 0.8391 - val_accuracy: 0.7101\n",
            "Epoch 75/500\n",
            "104/104 [==============================] - 1s 5ms/step - loss: 0.7997 - accuracy: 0.6935 - val_loss: 0.8810 - val_accuracy: 0.6280\n",
            "Epoch 76/500\n",
            "104/104 [==============================] - 1s 6ms/step - loss: 0.8128 - accuracy: 0.6717 - val_loss: 0.8327 - val_accuracy: 0.6860\n",
            "Epoch 77/500\n",
            "104/104 [==============================] - 1s 5ms/step - loss: 0.8116 - accuracy: 0.6729 - val_loss: 0.8280 - val_accuracy: 0.6812\n",
            "Epoch 78/500\n",
            "104/104 [==============================] - 1s 5ms/step - loss: 0.7762 - accuracy: 0.6989 - val_loss: 0.8219 - val_accuracy: 0.7005\n",
            "Epoch 79/500\n",
            "104/104 [==============================] - 1s 6ms/step - loss: 0.7670 - accuracy: 0.6971 - val_loss: 0.7848 - val_accuracy: 0.7246\n",
            "Epoch 80/500\n",
            "104/104 [==============================] - 1s 5ms/step - loss: 0.7735 - accuracy: 0.6971 - val_loss: 0.7725 - val_accuracy: 0.7101\n",
            "Epoch 81/500\n",
            "104/104 [==============================] - 1s 6ms/step - loss: 0.7778 - accuracy: 0.6850 - val_loss: 0.7714 - val_accuracy: 0.7198\n",
            "Epoch 82/500\n",
            "104/104 [==============================] - 1s 6ms/step - loss: 0.7720 - accuracy: 0.7037 - val_loss: 0.7569 - val_accuracy: 0.7053\n",
            "Epoch 83/500\n",
            "104/104 [==============================] - 1s 5ms/step - loss: 0.7245 - accuracy: 0.7255 - val_loss: 0.9724 - val_accuracy: 0.6039\n",
            "Epoch 84/500\n",
            "104/104 [==============================] - 1s 6ms/step - loss: 0.7580 - accuracy: 0.6959 - val_loss: 0.7603 - val_accuracy: 0.7391\n",
            "Epoch 85/500\n",
            "104/104 [==============================] - 1s 6ms/step - loss: 0.7566 - accuracy: 0.7158 - val_loss: 0.7242 - val_accuracy: 0.7005\n",
            "Epoch 86/500\n",
            "104/104 [==============================] - 1s 6ms/step - loss: 0.7229 - accuracy: 0.7164 - val_loss: 0.7939 - val_accuracy: 0.6957\n",
            "Epoch 87/500\n",
            "104/104 [==============================] - 1s 5ms/step - loss: 0.7023 - accuracy: 0.7225 - val_loss: 0.7451 - val_accuracy: 0.7246\n",
            "Epoch 88/500\n",
            "104/104 [==============================] - 1s 7ms/step - loss: 0.6894 - accuracy: 0.7358 - val_loss: 0.7801 - val_accuracy: 0.7005\n",
            "Epoch 89/500\n",
            "104/104 [==============================] - 1s 7ms/step - loss: 0.7317 - accuracy: 0.7140 - val_loss: 0.7565 - val_accuracy: 0.7343\n",
            "Epoch 90/500\n",
            "104/104 [==============================] - 1s 8ms/step - loss: 0.7049 - accuracy: 0.7195 - val_loss: 0.7506 - val_accuracy: 0.7101\n",
            "Epoch 91/500\n",
            "104/104 [==============================] - 1s 8ms/step - loss: 0.6896 - accuracy: 0.7261 - val_loss: 0.7286 - val_accuracy: 0.7440\n",
            "Epoch 92/500\n",
            "104/104 [==============================] - 1s 7ms/step - loss: 0.6909 - accuracy: 0.7261 - val_loss: 0.8599 - val_accuracy: 0.6425\n",
            "Epoch 93/500\n",
            "104/104 [==============================] - 1s 6ms/step - loss: 0.6702 - accuracy: 0.7455 - val_loss: 0.7038 - val_accuracy: 0.7440\n",
            "Epoch 94/500\n",
            "104/104 [==============================] - 1s 6ms/step - loss: 0.6643 - accuracy: 0.7418 - val_loss: 0.6860 - val_accuracy: 0.7295\n",
            "Epoch 95/500\n",
            "104/104 [==============================] - 1s 5ms/step - loss: 0.6796 - accuracy: 0.7400 - val_loss: 0.6947 - val_accuracy: 0.7778\n",
            "Epoch 96/500\n",
            "104/104 [==============================] - 1s 6ms/step - loss: 0.6610 - accuracy: 0.7449 - val_loss: 0.6706 - val_accuracy: 0.7681\n",
            "Epoch 97/500\n",
            "104/104 [==============================] - 1s 6ms/step - loss: 0.6509 - accuracy: 0.7600 - val_loss: 0.7044 - val_accuracy: 0.7536\n",
            "Epoch 98/500\n",
            "104/104 [==============================] - 1s 5ms/step - loss: 0.6498 - accuracy: 0.7455 - val_loss: 0.7348 - val_accuracy: 0.7295\n",
            "Epoch 99/500\n",
            "104/104 [==============================] - 1s 6ms/step - loss: 0.6364 - accuracy: 0.7521 - val_loss: 0.7861 - val_accuracy: 0.6860\n",
            "Epoch 100/500\n",
            "104/104 [==============================] - 1s 5ms/step - loss: 0.6539 - accuracy: 0.7473 - val_loss: 0.7574 - val_accuracy: 0.7053\n",
            "Epoch 101/500\n",
            "104/104 [==============================] - 1s 6ms/step - loss: 0.6470 - accuracy: 0.7382 - val_loss: 0.6612 - val_accuracy: 0.7729\n",
            "Epoch 102/500\n",
            "104/104 [==============================] - 1s 6ms/step - loss: 0.6305 - accuracy: 0.7515 - val_loss: 0.6656 - val_accuracy: 0.7874\n",
            "Epoch 103/500\n",
            "104/104 [==============================] - 1s 6ms/step - loss: 0.6206 - accuracy: 0.7612 - val_loss: 0.6992 - val_accuracy: 0.7488\n",
            "Epoch 104/500\n",
            "104/104 [==============================] - 1s 6ms/step - loss: 0.6181 - accuracy: 0.7563 - val_loss: 0.7474 - val_accuracy: 0.7246\n",
            "Epoch 105/500\n",
            "104/104 [==============================] - 1s 6ms/step - loss: 0.6232 - accuracy: 0.7557 - val_loss: 0.7071 - val_accuracy: 0.7343\n",
            "Epoch 106/500\n",
            "104/104 [==============================] - 1s 6ms/step - loss: 0.6100 - accuracy: 0.7570 - val_loss: 0.7376 - val_accuracy: 0.6957\n",
            "Epoch 107/500\n",
            "104/104 [==============================] - 1s 6ms/step - loss: 0.6150 - accuracy: 0.7533 - val_loss: 0.6408 - val_accuracy: 0.7778\n",
            "Epoch 108/500\n",
            "104/104 [==============================] - 1s 6ms/step - loss: 0.6070 - accuracy: 0.7557 - val_loss: 0.6806 - val_accuracy: 0.7585\n",
            "Epoch 109/500\n",
            "104/104 [==============================] - 1s 6ms/step - loss: 0.5955 - accuracy: 0.7630 - val_loss: 0.6358 - val_accuracy: 0.7778\n",
            "Epoch 110/500\n",
            "104/104 [==============================] - 1s 5ms/step - loss: 0.5849 - accuracy: 0.7630 - val_loss: 0.6958 - val_accuracy: 0.7440\n",
            "Epoch 111/500\n",
            "104/104 [==============================] - 1s 6ms/step - loss: 0.6020 - accuracy: 0.7787 - val_loss: 0.8405 - val_accuracy: 0.6763\n",
            "Epoch 112/500\n",
            "104/104 [==============================] - 1s 5ms/step - loss: 0.5786 - accuracy: 0.7878 - val_loss: 0.6272 - val_accuracy: 0.7681\n",
            "Epoch 113/500\n",
            "104/104 [==============================] - 1s 6ms/step - loss: 0.5882 - accuracy: 0.7684 - val_loss: 0.7120 - val_accuracy: 0.7101\n",
            "Epoch 114/500\n",
            "104/104 [==============================] - 1s 6ms/step - loss: 0.5727 - accuracy: 0.7823 - val_loss: 0.7681 - val_accuracy: 0.6957\n",
            "Epoch 115/500\n",
            "104/104 [==============================] - 1s 5ms/step - loss: 0.5664 - accuracy: 0.7823 - val_loss: 0.6626 - val_accuracy: 0.7295\n",
            "Epoch 116/500\n",
            "104/104 [==============================] - 1s 6ms/step - loss: 0.5763 - accuracy: 0.7872 - val_loss: 0.6991 - val_accuracy: 0.7488\n",
            "Epoch 117/500\n",
            "104/104 [==============================] - 1s 5ms/step - loss: 0.5808 - accuracy: 0.7751 - val_loss: 0.6842 - val_accuracy: 0.7391\n",
            "Epoch 118/500\n",
            "104/104 [==============================] - 1s 9ms/step - loss: 0.5297 - accuracy: 0.7981 - val_loss: 0.6307 - val_accuracy: 0.7585\n",
            "Epoch 119/500\n",
            "104/104 [==============================] - 1s 8ms/step - loss: 0.5722 - accuracy: 0.7793 - val_loss: 0.6841 - val_accuracy: 0.7246\n",
            "Epoch 120/500\n",
            "104/104 [==============================] - 1s 10ms/step - loss: 0.5140 - accuracy: 0.8108 - val_loss: 0.6111 - val_accuracy: 0.7923\n",
            "Epoch 121/500\n",
            "104/104 [==============================] - 1s 7ms/step - loss: 0.5442 - accuracy: 0.7950 - val_loss: 0.6648 - val_accuracy: 0.7681\n",
            "Epoch 122/500\n",
            "104/104 [==============================] - 1s 5ms/step - loss: 0.5065 - accuracy: 0.8174 - val_loss: 0.6533 - val_accuracy: 0.7971\n",
            "Epoch 123/500\n",
            "104/104 [==============================] - 1s 6ms/step - loss: 0.5152 - accuracy: 0.7975 - val_loss: 0.7049 - val_accuracy: 0.7246\n",
            "Epoch 124/500\n",
            "104/104 [==============================] - 1s 6ms/step - loss: 0.5368 - accuracy: 0.7975 - val_loss: 0.9310 - val_accuracy: 0.6812\n",
            "Epoch 125/500\n",
            "104/104 [==============================] - 1s 6ms/step - loss: 0.5251 - accuracy: 0.8047 - val_loss: 0.6235 - val_accuracy: 0.7681\n",
            "Epoch 126/500\n",
            "104/104 [==============================] - 1s 6ms/step - loss: 0.5245 - accuracy: 0.8138 - val_loss: 0.6538 - val_accuracy: 0.7681\n",
            "Epoch 127/500\n",
            "104/104 [==============================] - 1s 6ms/step - loss: 0.5266 - accuracy: 0.8035 - val_loss: 0.6524 - val_accuracy: 0.7681\n",
            "Epoch 128/500\n",
            "104/104 [==============================] - 1s 6ms/step - loss: 0.5458 - accuracy: 0.8071 - val_loss: 0.6346 - val_accuracy: 0.7923\n",
            "Epoch 129/500\n",
            "104/104 [==============================] - 1s 5ms/step - loss: 0.5202 - accuracy: 0.8108 - val_loss: 0.7259 - val_accuracy: 0.7391\n",
            "Epoch 130/500\n",
            "104/104 [==============================] - 1s 6ms/step - loss: 0.5343 - accuracy: 0.7944 - val_loss: 0.5872 - val_accuracy: 0.7826\n",
            "Epoch 131/500\n",
            "104/104 [==============================] - 1s 6ms/step - loss: 0.5100 - accuracy: 0.8041 - val_loss: 0.6218 - val_accuracy: 0.7585\n",
            "Epoch 132/500\n",
            "104/104 [==============================] - 1s 5ms/step - loss: 0.5139 - accuracy: 0.8096 - val_loss: 0.5921 - val_accuracy: 0.7971\n",
            "Epoch 133/500\n",
            "104/104 [==============================] - 1s 7ms/step - loss: 0.4908 - accuracy: 0.8180 - val_loss: 0.6774 - val_accuracy: 0.7585\n",
            "Epoch 134/500\n",
            "104/104 [==============================] - 1s 5ms/step - loss: 0.4894 - accuracy: 0.8150 - val_loss: 0.6483 - val_accuracy: 0.7633\n",
            "Epoch 135/500\n",
            "104/104 [==============================] - 1s 11ms/step - loss: 0.5194 - accuracy: 0.8053 - val_loss: 0.7309 - val_accuracy: 0.7198\n",
            "Epoch 136/500\n",
            "104/104 [==============================] - 1s 6ms/step - loss: 0.4873 - accuracy: 0.8144 - val_loss: 0.6338 - val_accuracy: 0.7923\n",
            "Epoch 137/500\n",
            "104/104 [==============================] - 1s 6ms/step - loss: 0.4792 - accuracy: 0.8235 - val_loss: 0.5942 - val_accuracy: 0.7971\n",
            "Epoch 138/500\n",
            "104/104 [==============================] - 1s 5ms/step - loss: 0.5125 - accuracy: 0.8198 - val_loss: 0.6008 - val_accuracy: 0.7923\n",
            "Epoch 139/500\n",
            "104/104 [==============================] - 1s 6ms/step - loss: 0.5052 - accuracy: 0.8144 - val_loss: 0.6101 - val_accuracy: 0.7778\n",
            "Epoch 140/500\n",
            "104/104 [==============================] - 1s 6ms/step - loss: 0.4725 - accuracy: 0.8247 - val_loss: 0.6591 - val_accuracy: 0.7874\n",
            "Epoch 141/500\n",
            "104/104 [==============================] - 1s 5ms/step - loss: 0.4446 - accuracy: 0.8434 - val_loss: 0.5749 - val_accuracy: 0.8068\n",
            "Epoch 142/500\n",
            "104/104 [==============================] - 1s 6ms/step - loss: 0.5052 - accuracy: 0.8168 - val_loss: 0.6545 - val_accuracy: 0.7681\n",
            "Epoch 143/500\n",
            "104/104 [==============================] - 1s 5ms/step - loss: 0.4639 - accuracy: 0.8162 - val_loss: 0.6107 - val_accuracy: 0.7923\n",
            "Epoch 144/500\n",
            "104/104 [==============================] - 1s 6ms/step - loss: 0.4904 - accuracy: 0.8277 - val_loss: 0.7358 - val_accuracy: 0.7440\n",
            "Epoch 145/500\n",
            "104/104 [==============================] - 1s 6ms/step - loss: 0.5191 - accuracy: 0.8065 - val_loss: 0.6666 - val_accuracy: 0.7536\n",
            "Epoch 146/500\n",
            "104/104 [==============================] - 1s 6ms/step - loss: 0.4615 - accuracy: 0.8241 - val_loss: 0.5915 - val_accuracy: 0.7778\n",
            "Epoch 147/500\n",
            "104/104 [==============================] - 1s 6ms/step - loss: 0.4707 - accuracy: 0.8289 - val_loss: 0.5616 - val_accuracy: 0.7923\n",
            "Epoch 148/500\n",
            "104/104 [==============================] - 1s 5ms/step - loss: 0.4738 - accuracy: 0.8277 - val_loss: 0.6608 - val_accuracy: 0.7633\n",
            "Epoch 149/500\n",
            "104/104 [==============================] - 1s 6ms/step - loss: 0.4383 - accuracy: 0.8343 - val_loss: 0.7022 - val_accuracy: 0.7440\n",
            "Epoch 150/500\n",
            "104/104 [==============================] - 1s 6ms/step - loss: 0.4647 - accuracy: 0.8229 - val_loss: 0.7033 - val_accuracy: 0.7391\n",
            "Epoch 151/500\n",
            "104/104 [==============================] - 1s 6ms/step - loss: 0.4710 - accuracy: 0.8356 - val_loss: 0.7631 - val_accuracy: 0.7681\n",
            "Epoch 152/500\n",
            "104/104 [==============================] - 1s 6ms/step - loss: 0.4441 - accuracy: 0.8343 - val_loss: 0.6693 - val_accuracy: 0.7778\n",
            "Epoch 153/500\n",
            "104/104 [==============================] - 1s 6ms/step - loss: 0.4651 - accuracy: 0.8343 - val_loss: 0.6867 - val_accuracy: 0.7826\n",
            "Epoch 154/500\n",
            "104/104 [==============================] - 1s 6ms/step - loss: 0.4724 - accuracy: 0.8253 - val_loss: 0.6651 - val_accuracy: 0.7488\n",
            "Epoch 155/500\n",
            "104/104 [==============================] - 1s 6ms/step - loss: 0.4333 - accuracy: 0.8386 - val_loss: 0.5554 - val_accuracy: 0.7778\n",
            "Epoch 156/500\n",
            "104/104 [==============================] - 1s 6ms/step - loss: 0.4559 - accuracy: 0.8307 - val_loss: 0.5956 - val_accuracy: 0.8068\n",
            "Epoch 157/500\n",
            "104/104 [==============================] - 1s 6ms/step - loss: 0.4483 - accuracy: 0.8368 - val_loss: 0.8173 - val_accuracy: 0.7488\n",
            "Epoch 158/500\n",
            "104/104 [==============================] - 1s 6ms/step - loss: 0.4739 - accuracy: 0.8343 - val_loss: 0.7217 - val_accuracy: 0.7488\n",
            "Epoch 159/500\n",
            "104/104 [==============================] - 1s 5ms/step - loss: 0.4531 - accuracy: 0.8380 - val_loss: 0.6306 - val_accuracy: 0.7778\n",
            "Epoch 160/500\n",
            "104/104 [==============================] - 1s 6ms/step - loss: 0.4468 - accuracy: 0.8337 - val_loss: 0.5998 - val_accuracy: 0.7923\n",
            "Epoch 161/500\n",
            "104/104 [==============================] - 1s 6ms/step - loss: 0.4636 - accuracy: 0.8380 - val_loss: 0.6234 - val_accuracy: 0.7585\n",
            "Epoch 162/500\n",
            "104/104 [==============================] - 1s 5ms/step - loss: 0.4374 - accuracy: 0.8349 - val_loss: 0.7261 - val_accuracy: 0.7101\n",
            "Epoch 163/500\n",
            "104/104 [==============================] - 1s 6ms/step - loss: 0.4539 - accuracy: 0.8325 - val_loss: 0.7213 - val_accuracy: 0.7633\n",
            "Epoch 164/500\n",
            "104/104 [==============================] - 1s 5ms/step - loss: 0.4236 - accuracy: 0.8489 - val_loss: 0.6816 - val_accuracy: 0.7536\n",
            "Epoch 165/500\n",
            "104/104 [==============================] - 1s 6ms/step - loss: 0.4113 - accuracy: 0.8543 - val_loss: 0.8101 - val_accuracy: 0.7295\n",
            "Epoch 166/500\n",
            "104/104 [==============================] - 1s 6ms/step - loss: 0.4289 - accuracy: 0.8398 - val_loss: 0.6325 - val_accuracy: 0.7826\n",
            "Epoch 167/500\n",
            "104/104 [==============================] - 1s 5ms/step - loss: 0.4417 - accuracy: 0.8531 - val_loss: 0.6105 - val_accuracy: 0.7923\n",
            "Epoch 168/500\n",
            "104/104 [==============================] - 1s 7ms/step - loss: 0.4529 - accuracy: 0.8337 - val_loss: 0.6526 - val_accuracy: 0.7923\n",
            "Epoch 169/500\n",
            "104/104 [==============================] - 1s 5ms/step - loss: 0.4238 - accuracy: 0.8380 - val_loss: 0.6389 - val_accuracy: 0.7778\n",
            "Epoch 170/500\n",
            "104/104 [==============================] - 1s 6ms/step - loss: 0.4136 - accuracy: 0.8392 - val_loss: 0.6449 - val_accuracy: 0.8116\n",
            "Epoch 171/500\n",
            "104/104 [==============================] - 1s 6ms/step - loss: 0.4051 - accuracy: 0.8519 - val_loss: 0.6170 - val_accuracy: 0.7778\n",
            "Epoch 172/500\n",
            "104/104 [==============================] - 1s 6ms/step - loss: 0.3946 - accuracy: 0.8603 - val_loss: 0.7239 - val_accuracy: 0.7440\n",
            "Epoch 173/500\n",
            "104/104 [==============================] - 1s 6ms/step - loss: 0.4060 - accuracy: 0.8543 - val_loss: 0.6772 - val_accuracy: 0.7536\n",
            "Epoch 174/500\n",
            "104/104 [==============================] - 1s 5ms/step - loss: 0.4182 - accuracy: 0.8513 - val_loss: 0.5561 - val_accuracy: 0.7923\n",
            "Epoch 175/500\n",
            "104/104 [==============================] - 1s 6ms/step - loss: 0.4356 - accuracy: 0.8585 - val_loss: 0.5683 - val_accuracy: 0.7874\n",
            "Epoch 176/500\n",
            "104/104 [==============================] - 1s 5ms/step - loss: 0.4004 - accuracy: 0.8591 - val_loss: 0.6092 - val_accuracy: 0.7681\n",
            "Epoch 177/500\n",
            "104/104 [==============================] - 1s 6ms/step - loss: 0.4343 - accuracy: 0.8446 - val_loss: 0.6380 - val_accuracy: 0.7826\n",
            "Epoch 178/500\n",
            "104/104 [==============================] - 1s 5ms/step - loss: 0.4231 - accuracy: 0.8501 - val_loss: 0.6546 - val_accuracy: 0.7778\n",
            "Epoch 179/500\n",
            "104/104 [==============================] - 1s 6ms/step - loss: 0.4221 - accuracy: 0.8525 - val_loss: 0.7284 - val_accuracy: 0.7536\n",
            "Epoch 180/500\n",
            "104/104 [==============================] - 1s 5ms/step - loss: 0.4246 - accuracy: 0.8525 - val_loss: 0.7263 - val_accuracy: 0.7729\n"
          ]
        }
      ]
    },
    {
      "cell_type": "code",
      "source": [
        "plt.plot(cnnhistory.history['loss'])\n",
        "plt.plot(cnnhistory.history['val_loss'])\n",
        "plt.title('model loss')\n",
        "plt.ylabel('loss')\n",
        "plt.xlabel('epoch')\n",
        "plt.legend(['train','test'], loc='upper left')\n",
        "plt.show()"
      ],
      "metadata": {
        "colab": {
          "base_uri": "https://localhost:8080/",
          "height": 295
        },
        "id": "oQYnuaCrDH_A",
        "outputId": "d68b341a-1489-4633-9a6c-e0272e36a607"
      },
      "execution_count": 15,
      "outputs": [
        {
          "output_type": "display_data",
          "data": {
            "text/plain": [
              "<Figure size 432x288 with 1 Axes>"
            ],
            "image/png": "[encoded data removed]"
          },
          "metadata": {
            "needs_background": "light"
          }
        }
      ]
    },
    {
      "cell_type": "code",
      "source": [
        "plt.plot(cnnhistory.history['accuracy'])\n",
        "plt.plot(cnnhistory.history['val_accuracy'])\n",
        "plt.title('model accuracy')\n",
        "plt.ylabel('accuracy')\n",
        "plt.xlabel('epoch')\n",
        "plt.legend(['train','test'], loc='upper left')\n",
        "plt.show()"
      ],
      "metadata": {
        "colab": {
          "base_uri": "https://localhost:8080/",
          "height": 295
        },
        "id": "IFkTuO8nDNdq",
        "outputId": "d555c8e3-b5eb-4b0f-ccb6-e3fbcc8371ce"
      },
      "execution_count": 16,
      "outputs": [
        {
          "output_type": "display_data",
          "data": {
            "text/plain": [
              "<Figure size 432x288 with 1 Axes>"
            ],
            "image/png": "[encoded data removed]"
          },
          "metadata": {
            "needs_background": "light"
          }
        }
      ]
    },
    {
      "cell_type": "code",
      "source": [
        "predictions = model.predict(x_testcnn)"
      ],
      "metadata": {
        "id": "A2xtrN5wDQgY"
      },
      "execution_count": 17,
      "outputs": []
    },
    {
      "cell_type": "code",
      "source": [
        "predictions"
      ],
      "metadata": {
        "colab": {
          "base_uri": "https://localhost:8080/"
        },
        "id": "_f_ohjXKDUpY",
        "outputId": "b99f00c8-e2b7-4f88-a7fe-ea47b175730b"
      },
      "execution_count": 18,
      "outputs": [
        {
          "output_type": "execute_result",
          "data": {
            "text/plain": [
              "array([[5.65502226e-01, 7.46324509e-02, 1.09858505e-01, 1.60933986e-01,\n",
              "        7.52327219e-02, 1.38401119e-02],\n",
              "       [4.29402206e-07, 1.85275351e-08, 1.45441683e-13, 9.97691631e-01,\n",
              "        8.03210298e-09, 2.30790908e-03],\n",
              "       [1.32894918e-01, 3.32124829e-02, 2.40267366e-02, 6.00035310e-01,\n",
              "        5.82270510e-02, 1.51603490e-01],\n",
              "       ...,\n",
              "       [3.99994571e-09, 4.87183227e-09, 4.67235441e-05, 3.58989610e-06,\n",
              "        9.98762488e-01, 1.18722359e-03],\n",
              "       [1.07043311e-02, 5.84966183e-01, 3.75665247e-01, 1.00599239e-02,\n",
              "        7.04482663e-03, 1.15594827e-02],\n",
              "       [4.79262098e-07, 7.25746588e-07, 9.19598620e-03, 7.07665777e-06,\n",
              "        9.89317715e-01, 1.47793873e-03]], dtype=float32)"
            ]
          },
          "metadata": {},
          "execution_count": 18
        }
      ]
    },
    {
      "cell_type": "code",
      "source": [
        "y_test"
      ],
      "metadata": {
        "colab": {
          "base_uri": "https://localhost:8080/"
        },
        "id": "cmA2bFgsDW3D",
        "outputId": "876a73b0-68d3-4a55-e4fb-e96abdcad496"
      },
      "execution_count": 19,
      "outputs": [
        {
          "output_type": "execute_result",
          "data": {
            "text/plain": [
              "array([3, 3, 3, 0, 4, 4, 1, 2, 5, 0, 5, 3, 2, 2, 1, 4, 4, 5, 2, 4, 1, 2,\n",
              "       3, 5, 4, 2, 1, 2, 2, 2, 2, 5, 2, 5, 3, 1, 2, 0, 4, 5, 2, 3, 2, 2,\n",
              "       5, 2, 0, 1, 3, 4, 4, 5, 1, 1, 4, 4, 5, 1, 1, 1, 0, 1, 5, 0, 4, 1,\n",
              "       1, 0, 1, 4, 1, 0, 4, 1, 3, 1, 2, 2, 1, 2, 3, 0, 5, 3, 5, 5, 2, 4,\n",
              "       5, 1, 5, 1, 5, 3, 4, 1, 4, 1, 5, 4, 5, 1, 2, 1, 1, 5, 1, 3, 2, 5,\n",
              "       2, 1, 3, 5, 4, 4, 0, 0, 3, 1, 2, 2, 3, 5, 1, 5, 3, 4, 2, 2, 0, 2,\n",
              "       2, 5, 5, 0, 3, 3, 2, 2, 0, 3, 4, 0, 4, 2, 4, 5, 4, 1, 5, 3, 2, 2,\n",
              "       5, 4, 3, 3, 4, 3, 3, 4, 1, 5, 2, 3, 2, 2, 0, 2, 1, 3, 1, 2, 2, 5,\n",
              "       5, 1, 4, 2, 2, 1, 1, 3, 3, 5, 5, 2, 5, 1, 5, 0, 3, 3, 0, 5, 1, 4,\n",
              "       1, 4, 2, 5, 5, 1, 4, 2, 4])"
            ]
          },
          "metadata": {},
          "execution_count": 19
        }
      ]
    },
    {
      "cell_type": "code",
      "source": [
        "new_Ytest = y_test.astype(int)"
      ],
      "metadata": {
        "id": "0PHDKWJWDY3g"
      },
      "execution_count": 20,
      "outputs": []
    },
    {
      "cell_type": "code",
      "source": [
        "new_Ytest"
      ],
      "metadata": {
        "colab": {
          "base_uri": "https://localhost:8080/"
        },
        "id": "k68v2i-pDbZE",
        "outputId": "8133039e-0273-4926-94bf-974b0789f66c"
      },
      "execution_count": 21,
      "outputs": [
        {
          "output_type": "execute_result",
          "data": {
            "text/plain": [
              "array([3, 3, 3, 0, 4, 4, 1, 2, 5, 0, 5, 3, 2, 2, 1, 4, 4, 5, 2, 4, 1, 2,\n",
              "       3, 5, 4, 2, 1, 2, 2, 2, 2, 5, 2, 5, 3, 1, 2, 0, 4, 5, 2, 3, 2, 2,\n",
              "       5, 2, 0, 1, 3, 4, 4, 5, 1, 1, 4, 4, 5, 1, 1, 1, 0, 1, 5, 0, 4, 1,\n",
              "       1, 0, 1, 4, 1, 0, 4, 1, 3, 1, 2, 2, 1, 2, 3, 0, 5, 3, 5, 5, 2, 4,\n",
              "       5, 1, 5, 1, 5, 3, 4, 1, 4, 1, 5, 4, 5, 1, 2, 1, 1, 5, 1, 3, 2, 5,\n",
              "       2, 1, 3, 5, 4, 4, 0, 0, 3, 1, 2, 2, 3, 5, 1, 5, 3, 4, 2, 2, 0, 2,\n",
              "       2, 5, 5, 0, 3, 3, 2, 2, 0, 3, 4, 0, 4, 2, 4, 5, 4, 1, 5, 3, 2, 2,\n",
              "       5, 4, 3, 3, 4, 3, 3, 4, 1, 5, 2, 3, 2, 2, 0, 2, 1, 3, 1, 2, 2, 5,\n",
              "       5, 1, 4, 2, 2, 1, 1, 3, 3, 5, 5, 2, 5, 1, 5, 0, 3, 3, 0, 5, 1, 4,\n",
              "       1, 4, 2, 5, 5, 1, 4, 2, 4])"
            ]
          },
          "metadata": {},
          "execution_count": 21
        }
      ]
    },
    {
      "cell_type": "code",
      "source": [
        "preds1=predictions.argmax(axis=1)\n",
        "preds1"
      ],
      "metadata": {
        "colab": {
          "base_uri": "https://localhost:8080/"
        },
        "id": "4_cAI39VFhtp",
        "outputId": "76cc50bb-654a-47d7-a13b-61dcac01ef97"
      },
      "execution_count": 22,
      "outputs": [
        {
          "output_type": "execute_result",
          "data": {
            "text/plain": [
              "array([0, 3, 3, 0, 4, 4, 1, 2, 5, 1, 4, 3, 2, 2, 0, 4, 4, 3, 2, 4, 1, 2,\n",
              "       3, 3, 4, 2, 1, 2, 4, 2, 2, 3, 2, 5, 3, 1, 2, 0, 4, 5, 2, 3, 2, 2,\n",
              "       3, 0, 1, 1, 3, 4, 4, 2, 1, 1, 4, 4, 5, 1, 1, 1, 0, 1, 2, 1, 4, 1,\n",
              "       1, 1, 1, 4, 0, 0, 4, 3, 5, 4, 2, 2, 1, 2, 1, 0, 5, 3, 5, 4, 2, 3,\n",
              "       3, 1, 0, 2, 5, 3, 4, 1, 0, 1, 5, 4, 5, 1, 2, 1, 1, 5, 1, 5, 2, 5,\n",
              "       0, 3, 3, 5, 4, 4, 3, 0, 3, 1, 1, 2, 1, 3, 1, 3, 3, 4, 2, 2, 0, 4,\n",
              "       2, 3, 5, 0, 3, 3, 2, 4, 0, 5, 4, 1, 4, 1, 4, 2, 4, 1, 5, 3, 2, 2,\n",
              "       5, 4, 3, 3, 4, 5, 3, 4, 1, 5, 2, 3, 2, 2, 0, 2, 0, 3, 1, 2, 4, 3,\n",
              "       5, 1, 4, 2, 4, 1, 1, 3, 3, 5, 5, 2, 5, 1, 4, 1, 3, 3, 0, 2, 1, 4,\n",
              "       1, 4, 0, 2, 5, 1, 4, 1, 4])"
            ]
          },
          "metadata": {},
          "execution_count": 22
        }
      ]
    },
    {
      "cell_type": "code",
      "source": [
        "abc = preds1.astype(int).flatten()"
      ],
      "metadata": {
        "id": "H4WEmM60NfQn"
      },
      "execution_count": 23,
      "outputs": []
    },
    {
      "cell_type": "code",
      "source": [
        "from sklearn.metrics import confusion_matrix\n",
        "c = confusion_matrix(new_Ytest, abc) \n",
        "c"
      ],
      "metadata": {
        "colab": {
          "base_uri": "https://localhost:8080/"
        },
        "id": "bKEBeEBlFjB8",
        "outputId": "7a9a7cd1-d56b-471d-94f0-2abd69e60a10"
      },
      "execution_count": 24,
      "outputs": [
        {
          "output_type": "execute_result",
          "data": {
            "text/plain": [
              "array([[11,  6,  0,  1,  0,  0],\n",
              "       [ 3, 34,  1,  2,  1,  0],\n",
              "       [ 3,  3, 34,  0,  5,  0],\n",
              "       [ 1,  2,  0, 24,  0,  4],\n",
              "       [ 1,  0,  0,  1, 31,  0],\n",
              "       [ 1,  0,  5,  9,  3, 21]])"
            ]
          },
          "metadata": {},
          "execution_count": 24
        }
      ]
    },
    {
      "cell_type": "code",
      "source": [
        "y_test"
      ],
      "metadata": {
        "colab": {
          "base_uri": "https://localhost:8080/"
        },
        "id": "m4RjG7LWLSQx",
        "outputId": "86d5f04b-c4e6-4dc3-880d-c7735fbbe240"
      },
      "execution_count": 25,
      "outputs": [
        {
          "output_type": "execute_result",
          "data": {
            "text/plain": [
              "array([3, 3, 3, 0, 4, 4, 1, 2, 5, 0, 5, 3, 2, 2, 1, 4, 4, 5, 2, 4, 1, 2,\n",
              "       3, 5, 4, 2, 1, 2, 2, 2, 2, 5, 2, 5, 3, 1, 2, 0, 4, 5, 2, 3, 2, 2,\n",
              "       5, 2, 0, 1, 3, 4, 4, 5, 1, 1, 4, 4, 5, 1, 1, 1, 0, 1, 5, 0, 4, 1,\n",
              "       1, 0, 1, 4, 1, 0, 4, 1, 3, 1, 2, 2, 1, 2, 3, 0, 5, 3, 5, 5, 2, 4,\n",
              "       5, 1, 5, 1, 5, 3, 4, 1, 4, 1, 5, 4, 5, 1, 2, 1, 1, 5, 1, 3, 2, 5,\n",
              "       2, 1, 3, 5, 4, 4, 0, 0, 3, 1, 2, 2, 3, 5, 1, 5, 3, 4, 2, 2, 0, 2,\n",
              "       2, 5, 5, 0, 3, 3, 2, 2, 0, 3, 4, 0, 4, 2, 4, 5, 4, 1, 5, 3, 2, 2,\n",
              "       5, 4, 3, 3, 4, 3, 3, 4, 1, 5, 2, 3, 2, 2, 0, 2, 1, 3, 1, 2, 2, 5,\n",
              "       5, 1, 4, 2, 2, 1, 1, 3, 3, 5, 5, 2, 5, 1, 5, 0, 3, 3, 0, 5, 1, 4,\n",
              "       1, 4, 2, 5, 5, 1, 4, 2, 4])"
            ]
          },
          "metadata": {},
          "execution_count": 25
        }
      ]
    },
    {
      "cell_type": "code",
      "source": [
        "loss, acc =model.evaluate(x_testcnn, y_test)\n",
        "print(\"Restored model, accuracy: {:5.2f}%\".format(100*acc))"
      ],
      "metadata": {
        "colab": {
          "base_uri": "https://localhost:8080/"
        },
        "id": "n3kzoqPkDqqS",
        "outputId": "d848ef5b-2635-45cd-e7e8-60d4b49a4769"
      },
      "execution_count": 26,
      "outputs": [
        {
          "output_type": "stream",
          "name": "stdout",
          "text": [
            "7/7 [==============================] - 0s 4ms/step - loss: 0.6515 - accuracy: 0.7488\n",
            "Restored model, accuracy: 74.88%\n"
          ]
        }
      ]
    },
    {
      "cell_type": "code",
      "source": [
        "loss, acc =model.evaluate(X_train, y_train)\n",
        "print(\"Restored model train, accuracy: {:5.2f}%\".format(100*acc))"
      ],
      "metadata": {
        "id": "fJDTGH_OUX0z",
        "colab": {
          "base_uri": "https://localhost:8080/"
        },
        "outputId": "c087acab-660b-409a-bb8c-78cb918fea1f"
      },
      "execution_count": 27,
      "outputs": [
        {
          "output_type": "stream",
          "name": "stdout",
          "text": [
            "52/52 [==============================] - 0s 4ms/step - loss: 0.2561 - accuracy: 0.9305\n",
            "Restored model train, accuracy: 93.05%\n"
          ]
        }
      ]
    },
    {
      "cell_type": "code",
      "source": [
        "from sklearn.metrics import classification_report, confusion_matrix,accuracy_score\n",
        "import seaborn as sn\n",
        "\n",
        "print(classification_report(new_Ytest,abc))\n",
        "\n",
        "acc = float(accuracy_score(new_Ytest,abc))*100\n",
        "print(\"----accuracy score %s ----\" % acc)\n",
        "\n",
        "cm = confusion_matrix(new_Ytest,abc)\n",
        "#df_cm = pd.DataFrame(cm)\n",
        "class_names = ['neutral','calm', 'happy','sad','angry', 'fearful' ]\n",
        "df_cm = pd.DataFrame(cm, index=class_names, columns=class_names,)\n",
        "sn.heatmap(df_cm, annot=True, fmt='')\n",
        "plt.show()"
      ],
      "metadata": {
        "colab": {
          "base_uri": "https://localhost:8080/",
          "height": 508
        },
        "id": "SfSC3El94LZg",
        "outputId": "8d98a7c6-d595-4530-a041-6d6b75ecad44"
      },
      "execution_count": 28,
      "outputs": [
        {
          "output_type": "stream",
          "name": "stdout",
          "text": [
            "              precision    recall  f1-score   support\n",
            "\n",
            "           0       0.55      0.61      0.58        18\n",
            "           1       0.76      0.83      0.79        41\n",
            "           2       0.85      0.76      0.80        45\n",
            "           3       0.65      0.77      0.71        31\n",
            "           4       0.78      0.94      0.85        33\n",
            "           5       0.84      0.54      0.66        39\n",
            "\n",
            "    accuracy                           0.75       207\n",
            "   macro avg       0.74      0.74      0.73       207\n",
            "weighted avg       0.76      0.75      0.75       207\n",
            "\n",
            "----accuracy score 74.8792270531401 ----\n"
          ]
        },
        {
          "output_type": "display_data",
          "data": {
            "text/plain": [
              "<Figure size 432x288 with 2 Axes>"
            ],
            "image/png": "[encoded data removed]"
          },
          "metadata": {
            "needs_background": "light"
          }
        }
      ]
    }
  ]
}