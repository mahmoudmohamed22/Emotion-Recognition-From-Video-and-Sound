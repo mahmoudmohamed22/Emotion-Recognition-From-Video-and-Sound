{
  "nbformat": 4,
  "nbformat_minor": 0,
  "metadata": {
    "colab": {
      "name": "original_remove_2_dense_layers_RMS_lr=0_0002_try_5_ increase kernal size to 12.ipynb",
      "provenance": [],
      "collapsed_sections": []
    },
    "kernelspec": {
      "name": "python3",
      "display_name": "Python 3"
    },
    "language_info": {
      "name": "python"
    },
    "accelerator": "TPU"
  },
  "cells": [
    {
      "cell_type": "code",
      "execution_count": 1,
      "metadata": {
        "colab": {
          "base_uri": "https://localhost:8080/"
        },
        "id": "9SRCO-a_AlH5",
        "outputId": "69bfed03-7fdc-46e5-d5aa-1d876551a30e"
      },
      "outputs": [
        {
          "output_type": "stream",
          "name": "stdout",
          "text": [
            "Drive already mounted at /content/drive; to attempt to forcibly remount, call drive.mount(\"/content/drive\", force_remount=True).\n"
          ]
        }
      ],
      "source": [
        "from google.colab import drive\n",
        "drive.mount('/content/drive')"
      ]
    },
    {
      "cell_type": "code",
      "source": [
        "!pip install librosa"
      ],
      "metadata": {
        "colab": {
          "base_uri": "https://localhost:8080/"
        },
        "id": "5Lo4mUwG9RMd",
        "outputId": "c397ecac-dfd2-4655-aa63-298f76f6bdf8"
      },
      "execution_count": 2,
      "outputs": [
        {
          "output_type": "stream",
          "name": "stdout",
          "text": [
            "Looking in indexes: https://pypi.org/simple, https://us-python.pkg.dev/colab-wheels/public/simple/\n",
            "Requirement already satisfied: librosa in /usr/local/lib/python3.7/dist-packages (0.8.1)\n",
            "Requirement already satisfied: joblib>=0.14 in /usr/local/lib/python3.7/dist-packages (from librosa) (1.1.0)\n",
            "Requirement already satisfied: packaging>=20.0 in /usr/local/lib/python3.7/dist-packages (from librosa) (21.3)\n",
            "Requirement already satisfied: scikit-learn!=0.19.0,>=0.14.0 in /usr/local/lib/python3.7/dist-packages (from librosa) (1.0.2)\n",
            "Requirement already satisfied: numba>=0.43.0 in /usr/local/lib/python3.7/dist-packages (from librosa) (0.51.2)\n",
            "Requirement already satisfied: numpy>=1.15.0 in /usr/local/lib/python3.7/dist-packages (from librosa) (1.21.6)\n",
            "Requirement already satisfied: decorator>=3.0.0 in /usr/local/lib/python3.7/dist-packages (from librosa) (4.4.2)\n",
            "Requirement already satisfied: pooch>=1.0 in /usr/local/lib/python3.7/dist-packages (from librosa) (1.6.0)\n",
            "Requirement already satisfied: soundfile>=0.10.2 in /usr/local/lib/python3.7/dist-packages (from librosa) (0.10.3.post1)\n",
            "Requirement already satisfied: resampy>=0.2.2 in /usr/local/lib/python3.7/dist-packages (from librosa) (0.2.2)\n",
            "Requirement already satisfied: scipy>=1.0.0 in /usr/local/lib/python3.7/dist-packages (from librosa) (1.4.1)\n",
            "Requirement already satisfied: audioread>=2.0.0 in /usr/local/lib/python3.7/dist-packages (from librosa) (2.1.9)\n",
            "Requirement already satisfied: setuptools in /usr/local/lib/python3.7/dist-packages (from numba>=0.43.0->librosa) (57.4.0)\n",
            "Requirement already satisfied: llvmlite<0.35,>=0.34.0.dev0 in /usr/local/lib/python3.7/dist-packages (from numba>=0.43.0->librosa) (0.34.0)\n",
            "Requirement already satisfied: pyparsing!=3.0.5,>=2.0.2 in /usr/local/lib/python3.7/dist-packages (from packaging>=20.0->librosa) (3.0.9)\n",
            "Requirement already satisfied: appdirs>=1.3.0 in /usr/local/lib/python3.7/dist-packages (from pooch>=1.0->librosa) (1.4.4)\n",
            "Requirement already satisfied: requests>=2.19.0 in /usr/local/lib/python3.7/dist-packages (from pooch>=1.0->librosa) (2.23.0)\n",
            "Requirement already satisfied: urllib3!=1.25.0,!=1.25.1,<1.26,>=1.21.1 in /usr/local/lib/python3.7/dist-packages (from requests>=2.19.0->pooch>=1.0->librosa) (1.24.3)\n",
            "Requirement already satisfied: chardet<4,>=3.0.2 in /usr/local/lib/python3.7/dist-packages (from requests>=2.19.0->pooch>=1.0->librosa) (3.0.4)\n",
            "Requirement already satisfied: idna<3,>=2.5 in /usr/local/lib/python3.7/dist-packages (from requests>=2.19.0->pooch>=1.0->librosa) (2.10)\n",
            "Requirement already satisfied: certifi>=2017.4.17 in /usr/local/lib/python3.7/dist-packages (from requests>=2.19.0->pooch>=1.0->librosa) (2022.5.18.1)\n",
            "Requirement already satisfied: six>=1.3 in /usr/local/lib/python3.7/dist-packages (from resampy>=0.2.2->librosa) (1.15.0)\n",
            "Requirement already satisfied: threadpoolctl>=2.0.0 in /usr/local/lib/python3.7/dist-packages (from scikit-learn!=0.19.0,>=0.14.0->librosa) (3.1.0)\n",
            "Requirement already satisfied: cffi>=1.0 in /usr/local/lib/python3.7/dist-packages (from soundfile>=0.10.2->librosa) (1.15.0)\n",
            "Requirement already satisfied: pycparser in /usr/local/lib/python3.7/dist-packages (from cffi>=1.0->soundfile>=0.10.2->librosa) (2.21)\n"
          ]
        }
      ]
    },
    {
      "cell_type": "code",
      "metadata": {
        "id": "HJjcbxwy46bG",
        "colab": {
          "base_uri": "https://localhost:8080/",
          "height": 17
        },
        "outputId": "7e323387-1908-443c-cc3c-97c1db919b44"
      },
      "source": [
        "# Orignial Notebook: https://github.com/MITESHPUTHRANNEU/Speech-Emotion-Analyzer/blob/master/final_results_gender_test.ipynb\n",
        "# This notebook author: Reza Chu\n",
        "# Last Editing Date: 31st May 2019\n",
        "\n",
        "## Python\n",
        "import os\n",
        "import random\n",
        "import sys\n",
        "\n",
        "import IPython\n",
        "from IPython.display import Audio\n",
        "from IPython.display import Image\n",
        "import matplotlib.pyplot as plt\n",
        "\n",
        "## Package\n",
        "import glob \n",
        "import keras\n",
        "import IPython.display as ipd\n",
        "import librosa\n",
        "import librosa.display\n",
        "import matplotlib.pyplot as plt\n",
        "import numpy as np\n",
        "import pandas as pd\n",
        "import plotly.graph_objs as go\n",
        "import plotly.offline as py\n",
        "import plotly.tools as tls\n",
        "import seaborn as sns\n",
        "import scipy.io.wavfile\n",
        "import tensorflow as tf\n",
        "py.init_notebook_mode(connected=True)\n",
        "\n",
        "## Keras\n",
        "from keras import regularizers\n",
        "from keras.callbacks import ModelCheckpoint, LearningRateScheduler, EarlyStopping\n",
        "from keras.callbacks import  History, ReduceLROnPlateau, CSVLogger\n",
        "from keras.models import Model, Sequential\n",
        "from keras.layers import Dense, Embedding, LSTM\n",
        "from keras.layers import Input, Flatten, Dropout, Activation, BatchNormalization\n",
        "from keras.layers import Conv1D, MaxPooling1D, AveragePooling1D\n",
        "from keras.preprocessing import sequence\n",
        "from keras.preprocessing.sequence import pad_sequences\n",
        "from keras.preprocessing.text import Tokenizer\n",
        "from keras.utils import np_utils\n",
        "from tensorflow.keras.utils import to_categorical\n",
        "\n",
        "## Sklearn\n",
        "from sklearn.metrics import confusion_matrix\n",
        "from sklearn.preprocessing import LabelEncoder\n",
        "\n",
        "## Rest\n",
        "from scipy.fftpack import fft\n",
        "from scipy import signal\n",
        "from scipy.io import wavfile\n",
        "from tqdm import tqdm\n",
        "\n",
        "input_duration=3\n",
        "# % pylab inline"
      ],
      "execution_count": 3,
      "outputs": [
        {
          "output_type": "display_data",
          "data": {
            "text/html": [
              "        <script type=\"text/javascript\">\n",
              "        window.PlotlyConfig = {MathJaxConfig: 'local'};\n",
              "        if (window.MathJax) {MathJax.Hub.Config({SVG: {font: \"STIX-Web\"}});}\n",
              "        if (typeof require !== 'undefined') {\n",
              "        require.undef(\"plotly\");\n",
              "        requirejs.config({\n",
              "            paths: {\n",
              "                'plotly': ['https://cdn.plot.ly/plotly-2.8.3.min']\n",
              "            }\n",
              "        });\n",
              "        require(['plotly'], function(Plotly) {\n",
              "            window._Plotly = Plotly;\n",
              "        });\n",
              "        }\n",
              "        </script>\n",
              "        "
            ]
          },
          "metadata": {}
        }
      ]
    },
    {
      "cell_type": "code",
      "source": [
        "# # Saving joblib files to not load them again with the loop above\n",
        "\n",
        "# import joblib\n",
        "\n",
        "# X_name = 'x.joblib'\n",
        "# y_name = 'y.joblib'\n",
        "# save_dir = '/content/drive/My Drive/graduation project/audio/paper_code/features'\n",
        "\n",
        "# savedX = joblib.dump(X, os.path.join(save_dir, X_name))\n",
        "# savedy = joblib.dump(y, os.path.join(save_dir, y_name))"
      ],
      "metadata": {
        "id": "UCzic8rlDcuk"
      },
      "execution_count": 4,
      "outputs": []
    },
    {
      "cell_type": "code",
      "source": [
        "# # Loading saved models\n",
        "import joblib\n",
        "X = joblib.load('/content/drive/My Drive/graduation project/audio/paper_code/features/x.joblib')\n",
        "y = joblib.load('/content/drive/My Drive/graduation project/audio/paper_code/features/y.joblib')"
      ],
      "metadata": {
        "id": "Q35CN6zDrzg1"
      },
      "execution_count": 5,
      "outputs": []
    },
    {
      "cell_type": "code",
      "source": [
        "X.shape"
      ],
      "metadata": {
        "id": "7PSTurzjCo5K",
        "colab": {
          "base_uri": "https://localhost:8080/"
        },
        "outputId": "9c9d85fc-4104-405a-f25f-ca92baced541"
      },
      "execution_count": 6,
      "outputs": [
        {
          "output_type": "execute_result",
          "data": {
            "text/plain": [
              "(2068, 40)"
            ]
          },
          "metadata": {},
          "execution_count": 6
        }
      ]
    },
    {
      "cell_type": "code",
      "source": [
        "from sklearn.model_selection import train_test_split\n",
        "\n",
        "X_train, X_test, y_train, y_test = train_test_split(X,y, test_size=0.1 ,shuffle = True\n",
        "                                                    , random_state=42)\n",
        "X_train , X_valid, y_train, y_valid = train_test_split(X_train,y_train, test_size=0.1112305212 , shuffle = True \n",
        "                                                       , random_state=42)"
      ],
      "metadata": {
        "id": "Ai4Fy5cPCiq1"
      },
      "execution_count": 7,
      "outputs": []
    },
    {
      "cell_type": "code",
      "source": [
        "import numpy as np\n",
        "x_traincnn = np.expand_dims(X_train, axis=2)\n",
        "x_testcnn = np.expand_dims(X_test, axis=2)\n",
        "X_valid= np.expand_dims(X_valid, axis=2)"
      ],
      "metadata": {
        "id": "tp1Fm5K3CEXu"
      },
      "execution_count": 8,
      "outputs": []
    },
    {
      "cell_type": "code",
      "source": [
        "x_traincnn.shape, x_testcnn.shape , X_valid.shape\n",
        "#1861"
      ],
      "metadata": {
        "id": "RI0MxoIPBws5",
        "colab": {
          "base_uri": "https://localhost:8080/"
        },
        "outputId": "8ab9711c-a220-48ad-846e-925169e032cc"
      },
      "execution_count": 9,
      "outputs": [
        {
          "output_type": "execute_result",
          "data": {
            "text/plain": [
              "((1654, 40, 1), (207, 40, 1), (207, 40, 1))"
            ]
          },
          "metadata": {},
          "execution_count": 9
        }
      ]
    },
    {
      "cell_type": "code",
      "source": [
        "!pip install tensorflow"
      ],
      "metadata": {
        "id": "oALhiMUd9G2Y",
        "colab": {
          "base_uri": "https://localhost:8080/"
        },
        "outputId": "5eacfc87-6ce5-4eb7-e145-4b10e366e71d"
      },
      "execution_count": 10,
      "outputs": [
        {
          "output_type": "stream",
          "name": "stdout",
          "text": [
            "Looking in indexes: https://pypi.org/simple, https://us-python.pkg.dev/colab-wheels/public/simple/\n",
            "Requirement already satisfied: tensorflow in /usr/local/lib/python3.7/dist-packages (2.8.2+zzzcolab20220527125636)\n",
            "Requirement already satisfied: wrapt>=1.11.0 in /usr/local/lib/python3.7/dist-packages (from tensorflow) (1.14.1)\n",
            "Requirement already satisfied: protobuf<3.20,>=3.9.2 in /usr/local/lib/python3.7/dist-packages (from tensorflow) (3.17.3)\n",
            "Requirement already satisfied: h5py>=2.9.0 in /usr/local/lib/python3.7/dist-packages (from tensorflow) (3.1.0)\n",
            "Requirement already satisfied: libclang>=9.0.1 in /usr/local/lib/python3.7/dist-packages (from tensorflow) (14.0.1)\n",
            "Requirement already satisfied: keras<2.9,>=2.8.0rc0 in /usr/local/lib/python3.7/dist-packages (from tensorflow) (2.8.0)\n",
            "Requirement already satisfied: tensorflow-io-gcs-filesystem>=0.23.1 in /usr/local/lib/python3.7/dist-packages (from tensorflow) (0.26.0)\n",
            "Requirement already satisfied: grpcio<2.0,>=1.24.3 in /usr/local/lib/python3.7/dist-packages (from tensorflow) (1.46.3)\n",
            "Requirement already satisfied: setuptools in /usr/local/lib/python3.7/dist-packages (from tensorflow) (57.4.0)\n",
            "Requirement already satisfied: keras-preprocessing>=1.1.1 in /usr/local/lib/python3.7/dist-packages (from tensorflow) (1.1.2)\n",
            "Requirement already satisfied: astunparse>=1.6.0 in /usr/local/lib/python3.7/dist-packages (from tensorflow) (1.6.3)\n",
            "Requirement already satisfied: six>=1.12.0 in /usr/local/lib/python3.7/dist-packages (from tensorflow) (1.15.0)\n",
            "Requirement already satisfied: absl-py>=0.4.0 in /usr/local/lib/python3.7/dist-packages (from tensorflow) (1.0.0)\n",
            "Requirement already satisfied: numpy>=1.20 in /usr/local/lib/python3.7/dist-packages (from tensorflow) (1.21.6)\n",
            "Requirement already satisfied: google-pasta>=0.1.1 in /usr/local/lib/python3.7/dist-packages (from tensorflow) (0.2.0)\n",
            "Requirement already satisfied: gast>=0.2.1 in /usr/local/lib/python3.7/dist-packages (from tensorflow) (0.5.3)\n",
            "Requirement already satisfied: tensorflow-estimator<2.9,>=2.8 in /usr/local/lib/python3.7/dist-packages (from tensorflow) (2.8.0)\n",
            "Requirement already satisfied: termcolor>=1.1.0 in /usr/local/lib/python3.7/dist-packages (from tensorflow) (1.1.0)\n",
            "Requirement already satisfied: tensorboard<2.9,>=2.8 in /usr/local/lib/python3.7/dist-packages (from tensorflow) (2.8.0)\n",
            "Requirement already satisfied: opt-einsum>=2.3.2 in /usr/local/lib/python3.7/dist-packages (from tensorflow) (3.3.0)\n",
            "Requirement already satisfied: flatbuffers>=1.12 in /usr/local/lib/python3.7/dist-packages (from tensorflow) (2.0)\n",
            "Requirement already satisfied: typing-extensions>=3.6.6 in /usr/local/lib/python3.7/dist-packages (from tensorflow) (4.2.0)\n",
            "Requirement already satisfied: wheel<1.0,>=0.23.0 in /usr/local/lib/python3.7/dist-packages (from astunparse>=1.6.0->tensorflow) (0.37.1)\n",
            "Requirement already satisfied: cached-property in /usr/local/lib/python3.7/dist-packages (from h5py>=2.9.0->tensorflow) (1.5.2)\n",
            "Requirement already satisfied: requests<3,>=2.21.0 in /usr/local/lib/python3.7/dist-packages (from tensorboard<2.9,>=2.8->tensorflow) (2.23.0)\n",
            "Requirement already satisfied: markdown>=2.6.8 in /usr/local/lib/python3.7/dist-packages (from tensorboard<2.9,>=2.8->tensorflow) (3.3.7)\n",
            "Requirement already satisfied: google-auth<3,>=1.6.3 in /usr/local/lib/python3.7/dist-packages (from tensorboard<2.9,>=2.8->tensorflow) (1.35.0)\n",
            "Requirement already satisfied: google-auth-oauthlib<0.5,>=0.4.1 in /usr/local/lib/python3.7/dist-packages (from tensorboard<2.9,>=2.8->tensorflow) (0.4.6)\n",
            "Requirement already satisfied: tensorboard-data-server<0.7.0,>=0.6.0 in /usr/local/lib/python3.7/dist-packages (from tensorboard<2.9,>=2.8->tensorflow) (0.6.1)\n",
            "Requirement already satisfied: werkzeug>=0.11.15 in /usr/local/lib/python3.7/dist-packages (from tensorboard<2.9,>=2.8->tensorflow) (1.0.1)\n",
            "Requirement already satisfied: tensorboard-plugin-wit>=1.6.0 in /usr/local/lib/python3.7/dist-packages (from tensorboard<2.9,>=2.8->tensorflow) (1.8.1)\n",
            "Requirement already satisfied: pyasn1-modules>=0.2.1 in /usr/local/lib/python3.7/dist-packages (from google-auth<3,>=1.6.3->tensorboard<2.9,>=2.8->tensorflow) (0.2.8)\n",
            "Requirement already satisfied: rsa<5,>=3.1.4 in /usr/local/lib/python3.7/dist-packages (from google-auth<3,>=1.6.3->tensorboard<2.9,>=2.8->tensorflow) (4.8)\n",
            "Requirement already satisfied: cachetools<5.0,>=2.0.0 in /usr/local/lib/python3.7/dist-packages (from google-auth<3,>=1.6.3->tensorboard<2.9,>=2.8->tensorflow) (4.2.4)\n",
            "Requirement already satisfied: requests-oauthlib>=0.7.0 in /usr/local/lib/python3.7/dist-packages (from google-auth-oauthlib<0.5,>=0.4.1->tensorboard<2.9,>=2.8->tensorflow) (1.3.1)\n",
            "Requirement already satisfied: importlib-metadata>=4.4 in /usr/local/lib/python3.7/dist-packages (from markdown>=2.6.8->tensorboard<2.9,>=2.8->tensorflow) (4.11.4)\n",
            "Requirement already satisfied: zipp>=0.5 in /usr/local/lib/python3.7/dist-packages (from importlib-metadata>=4.4->markdown>=2.6.8->tensorboard<2.9,>=2.8->tensorflow) (3.8.0)\n",
            "Requirement already satisfied: pyasn1<0.5.0,>=0.4.6 in /usr/local/lib/python3.7/dist-packages (from pyasn1-modules>=0.2.1->google-auth<3,>=1.6.3->tensorboard<2.9,>=2.8->tensorflow) (0.4.8)\n",
            "Requirement already satisfied: certifi>=2017.4.17 in /usr/local/lib/python3.7/dist-packages (from requests<3,>=2.21.0->tensorboard<2.9,>=2.8->tensorflow) (2022.5.18.1)\n",
            "Requirement already satisfied: urllib3!=1.25.0,!=1.25.1,<1.26,>=1.21.1 in /usr/local/lib/python3.7/dist-packages (from requests<3,>=2.21.0->tensorboard<2.9,>=2.8->tensorflow) (1.24.3)\n",
            "Requirement already satisfied: idna<3,>=2.5 in /usr/local/lib/python3.7/dist-packages (from requests<3,>=2.21.0->tensorboard<2.9,>=2.8->tensorflow) (2.10)\n",
            "Requirement already satisfied: chardet<4,>=3.0.2 in /usr/local/lib/python3.7/dist-packages (from requests<3,>=2.21.0->tensorboard<2.9,>=2.8->tensorflow) (3.0.4)\n",
            "Requirement already satisfied: oauthlib>=3.0.0 in /usr/local/lib/python3.7/dist-packages (from requests-oauthlib>=0.7.0->google-auth-oauthlib<0.5,>=0.4.1->tensorboard<2.9,>=2.8->tensorflow) (3.2.0)\n"
          ]
        }
      ]
    },
    {
      "cell_type": "code",
      "source": [
        "import keras\n",
        "import numpy as np\n",
        "import matplotlib.pyplot as plt\n",
        "import tensorflow as tf\n",
        "from keras.preprocessing import sequence\n",
        "from keras.models import Sequential\n",
        "from keras.layers import Dense, Embedding\n",
        "from tensorflow.keras.utils import to_categorical\n",
        "from keras.layers import Input, Flatten, Dropout, Activation\n",
        "from keras.layers import Conv1D, MaxPooling1D\n",
        "from keras.models import Model\n",
        "from keras.callbacks import ModelCheckpoint\n",
        "from tensorflow.keras import optimizers\n",
        "\n",
        "model = Sequential()\n",
        "\n",
        "model.add(Conv1D(128, 12,padding='same', #classifier.add(Convolution2D(64, (3, 3), padding = 'same', input_shape = (128, 128, 3), activation = 'relu'))\n",
        "                 input_shape=(40,1)))\n",
        "model.add(Activation('relu'))\n",
        "model.add(Dropout(0.3))\n",
        "model.add(MaxPooling1D(pool_size=(5)))\n",
        "\n",
        "\n",
        "model.add(Conv1D(256,12,padding='same',))\n",
        "model.add(Activation('relu'))\n",
        "model.add(Dropout(0.3))\n",
        "model.add(MaxPooling1D(pool_size=(5)))\n",
        "\n",
        "#model.add(MaxPooling1D(pool_size=(5)))\n",
        "\n",
        "model.add(Flatten())\n",
        "\n",
        "\n",
        "\n",
        "model.add(Dense(6))\n",
        "model.add(Activation('softmax'))\n",
        "\n",
        "\n",
        "opt = tf.keras.optimizers.RMSprop(lr=0.0002 , decay=0.0)\n",
        "#opt = tf.keras.optimizers.Adam(lr=0.0002 , decay=0.0)\n",
        "#opt = tf.keras.optimizers.RMSprop(lr=0.0001, rho=0.9, epsilon=1e-07, decay=0.0)\n",
        "#opt = tf.keras.optimizers.SGD(lr=0.001, momentum=0.0, decay=0.0, nesterov=False)"
      ],
      "metadata": {
        "id": "g74fXWVAC4Cr",
        "colab": {
          "base_uri": "https://localhost:8080/"
        },
        "outputId": "c62c3fbd-b77a-47b9-97bc-160b36876825"
      },
      "execution_count": 11,
      "outputs": [
        {
          "output_type": "stream",
          "name": "stderr",
          "text": [
            "/usr/local/lib/python3.7/dist-packages/keras/optimizer_v2/rmsprop.py:130: UserWarning:\n",
            "\n",
            "The `lr` argument is deprecated, use `learning_rate` instead.\n",
            "\n"
          ]
        }
      ]
    },
    {
      "cell_type": "code",
      "source": [
        "model.summary()"
      ],
      "metadata": {
        "id": "H6ukOxAGC_I4",
        "colab": {
          "base_uri": "https://localhost:8080/"
        },
        "outputId": "5eba5b46-4b43-451a-a29e-e952f43b6123"
      },
      "execution_count": 12,
      "outputs": [
        {
          "output_type": "stream",
          "name": "stdout",
          "text": [
            "Model: \"sequential\"\n",
            "_________________________________________________________________\n",
            " Layer (type)                Output Shape              Param #   \n",
            "=================================================================\n",
            " conv1d (Conv1D)             (None, 40, 128)           1664      \n",
            "                                                                 \n",
            " activation (Activation)     (None, 40, 128)           0         \n",
            "                                                                 \n",
            " dropout (Dropout)           (None, 40, 128)           0         \n",
            "                                                                 \n",
            " max_pooling1d (MaxPooling1D  (None, 8, 128)           0         \n",
            " )                                                               \n",
            "                                                                 \n",
            " conv1d_1 (Conv1D)           (None, 8, 256)            393472    \n",
            "                                                                 \n",
            " activation_1 (Activation)   (None, 8, 256)            0         \n",
            "                                                                 \n",
            " dropout_1 (Dropout)         (None, 8, 256)            0         \n",
            "                                                                 \n",
            " max_pooling1d_1 (MaxPooling  (None, 1, 256)           0         \n",
            " 1D)                                                             \n",
            "                                                                 \n",
            " flatten (Flatten)           (None, 256)               0         \n",
            "                                                                 \n",
            " dense (Dense)               (None, 6)                 1542      \n",
            "                                                                 \n",
            " activation_2 (Activation)   (None, 6)                 0         \n",
            "                                                                 \n",
            "=================================================================\n",
            "Total params: 396,678\n",
            "Trainable params: 396,678\n",
            "Non-trainable params: 0\n",
            "_________________________________________________________________\n"
          ]
        }
      ]
    },
    {
      "cell_type": "code",
      "source": [
        "model.compile(loss='sparse_categorical_crossentropy',\n",
        "              optimizer=opt,\n",
        "              metrics=['accuracy'])"
      ],
      "metadata": {
        "id": "AbMlLNk4DCBM"
      },
      "execution_count": 13,
      "outputs": []
    },
    {
      "cell_type": "code",
      "source": [
        "# Create an Instance of Early Stopping Callback.\n",
        "early_stopping_callback = EarlyStopping(monitor = 'val_loss', patience = 25, mode = 'min', restore_best_weights = True)\n",
        "\n",
        "cnnhistory=model.fit(x_traincnn, y_train, batch_size=16, epochs=500 , shuffle = True, \n",
        "                     validation_data=(X_valid, y_valid) , callbacks = [early_stopping_callback])"
      ],
      "metadata": {
        "id": "RI1v2AuADFhy",
        "colab": {
          "base_uri": "https://localhost:8080/"
        },
        "outputId": "d294970d-acc2-4d68-fa22-f6698a375432"
      },
      "execution_count": 14,
      "outputs": [
        {
          "output_type": "stream",
          "name": "stdout",
          "text": [
            "Epoch 1/500\n",
            "104/104 [==============================] - 6s 45ms/step - loss: 11.4304 - accuracy: 0.1995 - val_loss: 4.8526 - val_accuracy: 0.1981\n",
            "Epoch 2/500\n",
            "104/104 [==============================] - 5s 50ms/step - loss: 8.2763 - accuracy: 0.2086 - val_loss: 3.8416 - val_accuracy: 0.1787\n",
            "Epoch 3/500\n",
            "104/104 [==============================] - 5s 52ms/step - loss: 6.7915 - accuracy: 0.2074 - val_loss: 2.5997 - val_accuracy: 0.2850\n",
            "Epoch 4/500\n",
            "104/104 [==============================] - 6s 57ms/step - loss: 5.5426 - accuracy: 0.2255 - val_loss: 2.5821 - val_accuracy: 0.1884\n",
            "Epoch 5/500\n",
            "104/104 [==============================] - 5s 53ms/step - loss: 4.7836 - accuracy: 0.2213 - val_loss: 2.7964 - val_accuracy: 0.2319\n",
            "Epoch 6/500\n",
            "104/104 [==============================] - 6s 59ms/step - loss: 4.2058 - accuracy: 0.2412 - val_loss: 3.7153 - val_accuracy: 0.2754\n",
            "Epoch 7/500\n",
            "104/104 [==============================] - 6s 56ms/step - loss: 3.7701 - accuracy: 0.2557 - val_loss: 2.2521 - val_accuracy: 0.1884\n",
            "Epoch 8/500\n",
            "104/104 [==============================] - 4s 35ms/step - loss: 3.4613 - accuracy: 0.2654 - val_loss: 1.7565 - val_accuracy: 0.3961\n",
            "Epoch 9/500\n",
            "104/104 [==============================] - 3s 31ms/step - loss: 3.0520 - accuracy: 0.2763 - val_loss: 2.8915 - val_accuracy: 0.2077\n",
            "Epoch 10/500\n",
            "104/104 [==============================] - 3s 32ms/step - loss: 2.7514 - accuracy: 0.3089 - val_loss: 2.5697 - val_accuracy: 0.2560\n",
            "Epoch 11/500\n",
            "104/104 [==============================] - 3s 30ms/step - loss: 2.6281 - accuracy: 0.2975 - val_loss: 1.9237 - val_accuracy: 0.3285\n",
            "Epoch 12/500\n",
            "104/104 [==============================] - 3s 30ms/step - loss: 2.3068 - accuracy: 0.3374 - val_loss: 1.6500 - val_accuracy: 0.3865\n",
            "Epoch 13/500\n",
            "104/104 [==============================] - 3s 30ms/step - loss: 2.2063 - accuracy: 0.3446 - val_loss: 2.2283 - val_accuracy: 0.2415\n",
            "Epoch 14/500\n",
            "104/104 [==============================] - 3s 29ms/step - loss: 2.1287 - accuracy: 0.3404 - val_loss: 1.8587 - val_accuracy: 0.3237\n",
            "Epoch 15/500\n",
            "104/104 [==============================] - 3s 31ms/step - loss: 1.8521 - accuracy: 0.3954 - val_loss: 1.3957 - val_accuracy: 0.3478\n",
            "Epoch 16/500\n",
            "104/104 [==============================] - 3s 30ms/step - loss: 1.8056 - accuracy: 0.3960 - val_loss: 1.3634 - val_accuracy: 0.4638\n",
            "Epoch 17/500\n",
            "104/104 [==============================] - 3s 30ms/step - loss: 1.6581 - accuracy: 0.4311 - val_loss: 1.6024 - val_accuracy: 0.3575\n",
            "Epoch 18/500\n",
            "104/104 [==============================] - 3s 30ms/step - loss: 1.6963 - accuracy: 0.3948 - val_loss: 1.2789 - val_accuracy: 0.4976\n",
            "Epoch 19/500\n",
            "104/104 [==============================] - 3s 30ms/step - loss: 1.5611 - accuracy: 0.4541 - val_loss: 1.4140 - val_accuracy: 0.5024\n",
            "Epoch 20/500\n",
            "104/104 [==============================] - 3s 31ms/step - loss: 1.5732 - accuracy: 0.4420 - val_loss: 1.4053 - val_accuracy: 0.3865\n",
            "Epoch 21/500\n",
            "104/104 [==============================] - 3s 30ms/step - loss: 1.4432 - accuracy: 0.4674 - val_loss: 1.3321 - val_accuracy: 0.4686\n",
            "Epoch 22/500\n",
            "104/104 [==============================] - 3s 30ms/step - loss: 1.4057 - accuracy: 0.4940 - val_loss: 1.8460 - val_accuracy: 0.3140\n",
            "Epoch 23/500\n",
            "104/104 [==============================] - 3s 31ms/step - loss: 1.3820 - accuracy: 0.4788 - val_loss: 1.3333 - val_accuracy: 0.4686\n",
            "Epoch 24/500\n",
            "104/104 [==============================] - 3s 31ms/step - loss: 1.3567 - accuracy: 0.4952 - val_loss: 1.1845 - val_accuracy: 0.5314\n",
            "Epoch 25/500\n",
            "104/104 [==============================] - 3s 32ms/step - loss: 1.2949 - accuracy: 0.5073 - val_loss: 1.0826 - val_accuracy: 0.6232\n",
            "Epoch 26/500\n",
            "104/104 [==============================] - 3s 31ms/step - loss: 1.2612 - accuracy: 0.5193 - val_loss: 1.2117 - val_accuracy: 0.5266\n",
            "Epoch 27/500\n",
            "104/104 [==============================] - 3s 32ms/step - loss: 1.2338 - accuracy: 0.5459 - val_loss: 1.1768 - val_accuracy: 0.5362\n",
            "Epoch 28/500\n",
            "104/104 [==============================] - 3s 31ms/step - loss: 1.1878 - accuracy: 0.5538 - val_loss: 1.1323 - val_accuracy: 0.5652\n",
            "Epoch 29/500\n",
            "104/104 [==============================] - 3s 31ms/step - loss: 1.1957 - accuracy: 0.5296 - val_loss: 1.1428 - val_accuracy: 0.5700\n",
            "Epoch 30/500\n",
            "104/104 [==============================] - 3s 31ms/step - loss: 1.1271 - accuracy: 0.5665 - val_loss: 1.0730 - val_accuracy: 0.5894\n",
            "Epoch 31/500\n",
            "104/104 [==============================] - 3s 30ms/step - loss: 1.1181 - accuracy: 0.5629 - val_loss: 1.1804 - val_accuracy: 0.4928\n",
            "Epoch 32/500\n",
            "104/104 [==============================] - 3s 31ms/step - loss: 1.0742 - accuracy: 0.5967 - val_loss: 1.0921 - val_accuracy: 0.6039\n",
            "Epoch 33/500\n",
            "104/104 [==============================] - 3s 31ms/step - loss: 1.0978 - accuracy: 0.5750 - val_loss: 1.0224 - val_accuracy: 0.5942\n",
            "Epoch 34/500\n",
            "104/104 [==============================] - 3s 31ms/step - loss: 1.0672 - accuracy: 0.5955 - val_loss: 1.1260 - val_accuracy: 0.5700\n",
            "Epoch 35/500\n",
            "104/104 [==============================] - 3s 32ms/step - loss: 1.0326 - accuracy: 0.6016 - val_loss: 0.9574 - val_accuracy: 0.6425\n",
            "Epoch 36/500\n",
            "104/104 [==============================] - 6s 55ms/step - loss: 1.0089 - accuracy: 0.6058 - val_loss: 0.9852 - val_accuracy: 0.6280\n",
            "Epoch 37/500\n",
            "104/104 [==============================] - 3s 33ms/step - loss: 0.9795 - accuracy: 0.6161 - val_loss: 0.9463 - val_accuracy: 0.6715\n",
            "Epoch 38/500\n",
            "104/104 [==============================] - 3s 32ms/step - loss: 0.9820 - accuracy: 0.6191 - val_loss: 0.9739 - val_accuracy: 0.6522\n",
            "Epoch 39/500\n",
            "104/104 [==============================] - 3s 31ms/step - loss: 0.9841 - accuracy: 0.6149 - val_loss: 0.9678 - val_accuracy: 0.6812\n",
            "Epoch 40/500\n",
            "104/104 [==============================] - 3s 32ms/step - loss: 0.9183 - accuracy: 0.6530 - val_loss: 1.0398 - val_accuracy: 0.6087\n",
            "Epoch 41/500\n",
            "104/104 [==============================] - 3s 32ms/step - loss: 0.9158 - accuracy: 0.6409 - val_loss: 0.9314 - val_accuracy: 0.6425\n",
            "Epoch 42/500\n",
            "104/104 [==============================] - 3s 32ms/step - loss: 0.9168 - accuracy: 0.6469 - val_loss: 0.8733 - val_accuracy: 0.6908\n",
            "Epoch 43/500\n",
            "104/104 [==============================] - 3s 32ms/step - loss: 0.9185 - accuracy: 0.6463 - val_loss: 0.8595 - val_accuracy: 0.7005\n",
            "Epoch 44/500\n",
            "104/104 [==============================] - 3s 31ms/step - loss: 0.8973 - accuracy: 0.6487 - val_loss: 0.8483 - val_accuracy: 0.7101\n",
            "Epoch 45/500\n",
            "104/104 [==============================] - 3s 32ms/step - loss: 0.8839 - accuracy: 0.6536 - val_loss: 0.8735 - val_accuracy: 0.6860\n",
            "Epoch 46/500\n",
            "104/104 [==============================] - 3s 32ms/step - loss: 0.8877 - accuracy: 0.6524 - val_loss: 1.0856 - val_accuracy: 0.5700\n",
            "Epoch 47/500\n",
            "104/104 [==============================] - 3s 33ms/step - loss: 0.8409 - accuracy: 0.6790 - val_loss: 0.8764 - val_accuracy: 0.6715\n",
            "Epoch 48/500\n",
            "104/104 [==============================] - 3s 33ms/step - loss: 0.8519 - accuracy: 0.6771 - val_loss: 0.9869 - val_accuracy: 0.5845\n",
            "Epoch 49/500\n",
            "104/104 [==============================] - 3s 32ms/step - loss: 0.8225 - accuracy: 0.6844 - val_loss: 0.9549 - val_accuracy: 0.6087\n",
            "Epoch 50/500\n",
            "104/104 [==============================] - 3s 32ms/step - loss: 0.7949 - accuracy: 0.6923 - val_loss: 0.8847 - val_accuracy: 0.6425\n",
            "Epoch 51/500\n",
            "104/104 [==============================] - 3s 32ms/step - loss: 0.7919 - accuracy: 0.6965 - val_loss: 0.8125 - val_accuracy: 0.7005\n",
            "Epoch 52/500\n",
            "104/104 [==============================] - 3s 33ms/step - loss: 0.7890 - accuracy: 0.6965 - val_loss: 0.9252 - val_accuracy: 0.6135\n",
            "Epoch 53/500\n",
            "104/104 [==============================] - 3s 33ms/step - loss: 0.7626 - accuracy: 0.6989 - val_loss: 0.8333 - val_accuracy: 0.6715\n",
            "Epoch 54/500\n",
            "104/104 [==============================] - 3s 32ms/step - loss: 0.7670 - accuracy: 0.7104 - val_loss: 0.8075 - val_accuracy: 0.7246\n",
            "Epoch 55/500\n",
            "104/104 [==============================] - 3s 32ms/step - loss: 0.7661 - accuracy: 0.6995 - val_loss: 0.8155 - val_accuracy: 0.7005\n",
            "Epoch 56/500\n",
            "104/104 [==============================] - 3s 31ms/step - loss: 0.7490 - accuracy: 0.7098 - val_loss: 0.8290 - val_accuracy: 0.6377\n",
            "Epoch 57/500\n",
            "104/104 [==============================] - 3s 32ms/step - loss: 0.7377 - accuracy: 0.7122 - val_loss: 1.0122 - val_accuracy: 0.5894\n",
            "Epoch 58/500\n",
            "104/104 [==============================] - 3s 33ms/step - loss: 0.7434 - accuracy: 0.7128 - val_loss: 0.7653 - val_accuracy: 0.7198\n",
            "Epoch 59/500\n",
            "104/104 [==============================] - 3s 32ms/step - loss: 0.7130 - accuracy: 0.7255 - val_loss: 0.8246 - val_accuracy: 0.7101\n",
            "Epoch 60/500\n",
            "104/104 [==============================] - 4s 34ms/step - loss: 0.7101 - accuracy: 0.7243 - val_loss: 0.8183 - val_accuracy: 0.6957\n",
            "Epoch 61/500\n",
            "104/104 [==============================] - 3s 33ms/step - loss: 0.7146 - accuracy: 0.7310 - val_loss: 0.7593 - val_accuracy: 0.6957\n",
            "Epoch 62/500\n",
            "104/104 [==============================] - 4s 34ms/step - loss: 0.6917 - accuracy: 0.7412 - val_loss: 0.7866 - val_accuracy: 0.6908\n",
            "Epoch 63/500\n",
            "104/104 [==============================] - 3s 32ms/step - loss: 0.7196 - accuracy: 0.7273 - val_loss: 0.8795 - val_accuracy: 0.6425\n",
            "Epoch 64/500\n",
            "104/104 [==============================] - 3s 32ms/step - loss: 0.6650 - accuracy: 0.7418 - val_loss: 0.8100 - val_accuracy: 0.6812\n",
            "Epoch 65/500\n",
            "104/104 [==============================] - 3s 32ms/step - loss: 0.6693 - accuracy: 0.7509 - val_loss: 0.8310 - val_accuracy: 0.6715\n",
            "Epoch 66/500\n",
            "104/104 [==============================] - 3s 32ms/step - loss: 0.6506 - accuracy: 0.7539 - val_loss: 0.7260 - val_accuracy: 0.7391\n",
            "Epoch 67/500\n",
            "104/104 [==============================] - 4s 34ms/step - loss: 0.6581 - accuracy: 0.7624 - val_loss: 0.7842 - val_accuracy: 0.7053\n",
            "Epoch 68/500\n",
            "104/104 [==============================] - 3s 32ms/step - loss: 0.6487 - accuracy: 0.7443 - val_loss: 0.8559 - val_accuracy: 0.6715\n",
            "Epoch 69/500\n",
            "104/104 [==============================] - 3s 31ms/step - loss: 0.6428 - accuracy: 0.7600 - val_loss: 0.8666 - val_accuracy: 0.6473\n",
            "Epoch 70/500\n",
            "104/104 [==============================] - 3s 32ms/step - loss: 0.6294 - accuracy: 0.7600 - val_loss: 0.7244 - val_accuracy: 0.7246\n",
            "Epoch 71/500\n",
            "104/104 [==============================] - 3s 32ms/step - loss: 0.6269 - accuracy: 0.7563 - val_loss: 0.6964 - val_accuracy: 0.7343\n",
            "Epoch 72/500\n",
            "104/104 [==============================] - 4s 34ms/step - loss: 0.6130 - accuracy: 0.7606 - val_loss: 0.7938 - val_accuracy: 0.6860\n",
            "Epoch 73/500\n",
            "104/104 [==============================] - 3s 31ms/step - loss: 0.6235 - accuracy: 0.7678 - val_loss: 0.8447 - val_accuracy: 0.6329\n",
            "Epoch 74/500\n",
            "104/104 [==============================] - 3s 32ms/step - loss: 0.6126 - accuracy: 0.7660 - val_loss: 0.7616 - val_accuracy: 0.7005\n",
            "Epoch 75/500\n",
            "104/104 [==============================] - 3s 31ms/step - loss: 0.6167 - accuracy: 0.7624 - val_loss: 0.8716 - val_accuracy: 0.6473\n",
            "Epoch 76/500\n",
            "104/104 [==============================] - 3s 31ms/step - loss: 0.6152 - accuracy: 0.7727 - val_loss: 0.7664 - val_accuracy: 0.7150\n",
            "Epoch 77/500\n",
            "104/104 [==============================] - 3s 31ms/step - loss: 0.5862 - accuracy: 0.7787 - val_loss: 0.7986 - val_accuracy: 0.6908\n",
            "Epoch 78/500\n",
            "104/104 [==============================] - 3s 32ms/step - loss: 0.6017 - accuracy: 0.7811 - val_loss: 0.7500 - val_accuracy: 0.7101\n",
            "Epoch 79/500\n",
            "104/104 [==============================] - 3s 32ms/step - loss: 0.5913 - accuracy: 0.7727 - val_loss: 0.6626 - val_accuracy: 0.7295\n",
            "Epoch 80/500\n",
            "104/104 [==============================] - 3s 31ms/step - loss: 0.5567 - accuracy: 0.7926 - val_loss: 0.7120 - val_accuracy: 0.7681\n",
            "Epoch 81/500\n",
            "104/104 [==============================] - 3s 31ms/step - loss: 0.5529 - accuracy: 0.7811 - val_loss: 0.7533 - val_accuracy: 0.7101\n",
            "Epoch 82/500\n",
            "104/104 [==============================] - 3s 32ms/step - loss: 0.5324 - accuracy: 0.8071 - val_loss: 0.7112 - val_accuracy: 0.7343\n",
            "Epoch 83/500\n",
            "104/104 [==============================] - 3s 31ms/step - loss: 0.5345 - accuracy: 0.8041 - val_loss: 0.7041 - val_accuracy: 0.7246\n",
            "Epoch 84/500\n",
            "104/104 [==============================] - 3s 31ms/step - loss: 0.5479 - accuracy: 0.7932 - val_loss: 0.7601 - val_accuracy: 0.6957\n",
            "Epoch 85/500\n",
            "104/104 [==============================] - 4s 34ms/step - loss: 0.5321 - accuracy: 0.7944 - val_loss: 0.7083 - val_accuracy: 0.7150\n",
            "Epoch 86/500\n",
            "104/104 [==============================] - 3s 31ms/step - loss: 0.5248 - accuracy: 0.8053 - val_loss: 0.6872 - val_accuracy: 0.7150\n",
            "Epoch 87/500\n",
            "104/104 [==============================] - 3s 32ms/step - loss: 0.5165 - accuracy: 0.8029 - val_loss: 0.6360 - val_accuracy: 0.7729\n",
            "Epoch 88/500\n",
            "104/104 [==============================] - 3s 32ms/step - loss: 0.5115 - accuracy: 0.8168 - val_loss: 0.7682 - val_accuracy: 0.6860\n",
            "Epoch 89/500\n",
            "104/104 [==============================] - 3s 33ms/step - loss: 0.5268 - accuracy: 0.8011 - val_loss: 0.6917 - val_accuracy: 0.7295\n",
            "Epoch 90/500\n",
            "104/104 [==============================] - 3s 33ms/step - loss: 0.5069 - accuracy: 0.8096 - val_loss: 0.6292 - val_accuracy: 0.7488\n",
            "Epoch 91/500\n",
            "104/104 [==============================] - 3s 31ms/step - loss: 0.5136 - accuracy: 0.7902 - val_loss: 0.7637 - val_accuracy: 0.7198\n",
            "Epoch 92/500\n",
            "104/104 [==============================] - 3s 30ms/step - loss: 0.4832 - accuracy: 0.8186 - val_loss: 0.6991 - val_accuracy: 0.7246\n",
            "Epoch 93/500\n",
            "104/104 [==============================] - 3s 32ms/step - loss: 0.4777 - accuracy: 0.8259 - val_loss: 0.7035 - val_accuracy: 0.7391\n",
            "Epoch 94/500\n",
            "104/104 [==============================] - 4s 34ms/step - loss: 0.4831 - accuracy: 0.8180 - val_loss: 0.6578 - val_accuracy: 0.7633\n",
            "Epoch 95/500\n",
            "104/104 [==============================] - 3s 31ms/step - loss: 0.4773 - accuracy: 0.8089 - val_loss: 0.6947 - val_accuracy: 0.7150\n",
            "Epoch 96/500\n",
            "104/104 [==============================] - 3s 31ms/step - loss: 0.4907 - accuracy: 0.8108 - val_loss: 0.7149 - val_accuracy: 0.6957\n",
            "Epoch 97/500\n",
            "104/104 [==============================] - 3s 33ms/step - loss: 0.4772 - accuracy: 0.8186 - val_loss: 0.6818 - val_accuracy: 0.7585\n",
            "Epoch 98/500\n",
            "104/104 [==============================] - 3s 31ms/step - loss: 0.4666 - accuracy: 0.8210 - val_loss: 0.7024 - val_accuracy: 0.6957\n",
            "Epoch 99/500\n",
            "104/104 [==============================] - 3s 32ms/step - loss: 0.4953 - accuracy: 0.8192 - val_loss: 0.6476 - val_accuracy: 0.7440\n",
            "Epoch 100/500\n",
            "104/104 [==============================] - 4s 35ms/step - loss: 0.4517 - accuracy: 0.8247 - val_loss: 0.6482 - val_accuracy: 0.7440\n",
            "Epoch 101/500\n",
            "104/104 [==============================] - 3s 31ms/step - loss: 0.4273 - accuracy: 0.8295 - val_loss: 0.7179 - val_accuracy: 0.7198\n",
            "Epoch 102/500\n",
            "104/104 [==============================] - 3s 32ms/step - loss: 0.4622 - accuracy: 0.8210 - val_loss: 0.6709 - val_accuracy: 0.7150\n",
            "Epoch 103/500\n",
            "104/104 [==============================] - 3s 33ms/step - loss: 0.4664 - accuracy: 0.8180 - val_loss: 0.7290 - val_accuracy: 0.7198\n",
            "Epoch 104/500\n",
            "104/104 [==============================] - 3s 32ms/step - loss: 0.4515 - accuracy: 0.8356 - val_loss: 0.7879 - val_accuracy: 0.6957\n",
            "Epoch 105/500\n",
            "104/104 [==============================] - 3s 31ms/step - loss: 0.4501 - accuracy: 0.8386 - val_loss: 0.6139 - val_accuracy: 0.7633\n",
            "Epoch 106/500\n",
            "104/104 [==============================] - 3s 33ms/step - loss: 0.4133 - accuracy: 0.8495 - val_loss: 0.6388 - val_accuracy: 0.7343\n",
            "Epoch 107/500\n",
            "104/104 [==============================] - 3s 31ms/step - loss: 0.4122 - accuracy: 0.8482 - val_loss: 0.6791 - val_accuracy: 0.7488\n",
            "Epoch 108/500\n",
            "104/104 [==============================] - 3s 32ms/step - loss: 0.4358 - accuracy: 0.8458 - val_loss: 0.6227 - val_accuracy: 0.7536\n",
            "Epoch 109/500\n",
            "104/104 [==============================] - 3s 34ms/step - loss: 0.4373 - accuracy: 0.8356 - val_loss: 0.6280 - val_accuracy: 0.7343\n",
            "Epoch 110/500\n",
            "104/104 [==============================] - 3s 32ms/step - loss: 0.4299 - accuracy: 0.8446 - val_loss: 0.6947 - val_accuracy: 0.7343\n",
            "Epoch 111/500\n",
            "104/104 [==============================] - 3s 31ms/step - loss: 0.4145 - accuracy: 0.8470 - val_loss: 0.5728 - val_accuracy: 0.7826\n",
            "Epoch 112/500\n",
            "104/104 [==============================] - 4s 34ms/step - loss: 0.4125 - accuracy: 0.8386 - val_loss: 0.5905 - val_accuracy: 0.7633\n",
            "Epoch 113/500\n",
            "104/104 [==============================] - 3s 32ms/step - loss: 0.4222 - accuracy: 0.8446 - val_loss: 0.6014 - val_accuracy: 0.7874\n",
            "Epoch 114/500\n",
            "104/104 [==============================] - 3s 30ms/step - loss: 0.3770 - accuracy: 0.8543 - val_loss: 0.7297 - val_accuracy: 0.7295\n",
            "Epoch 115/500\n",
            "104/104 [==============================] - 3s 33ms/step - loss: 0.4017 - accuracy: 0.8519 - val_loss: 0.6374 - val_accuracy: 0.7633\n",
            "Epoch 116/500\n",
            "104/104 [==============================] - 3s 31ms/step - loss: 0.3895 - accuracy: 0.8525 - val_loss: 0.6603 - val_accuracy: 0.7101\n",
            "Epoch 117/500\n",
            "104/104 [==============================] - 3s 31ms/step - loss: 0.3947 - accuracy: 0.8464 - val_loss: 0.6058 - val_accuracy: 0.7681\n",
            "Epoch 118/500\n",
            "104/104 [==============================] - 3s 33ms/step - loss: 0.3855 - accuracy: 0.8603 - val_loss: 0.6354 - val_accuracy: 0.7585\n",
            "Epoch 119/500\n",
            "104/104 [==============================] - 3s 31ms/step - loss: 0.3748 - accuracy: 0.8591 - val_loss: 0.6452 - val_accuracy: 0.7585\n",
            "Epoch 120/500\n",
            "104/104 [==============================] - 3s 31ms/step - loss: 0.3869 - accuracy: 0.8537 - val_loss: 0.6587 - val_accuracy: 0.7488\n",
            "Epoch 121/500\n",
            "104/104 [==============================] - 3s 33ms/step - loss: 0.4182 - accuracy: 0.8513 - val_loss: 0.5846 - val_accuracy: 0.7923\n",
            "Epoch 122/500\n",
            "104/104 [==============================] - 3s 31ms/step - loss: 0.3738 - accuracy: 0.8688 - val_loss: 0.6509 - val_accuracy: 0.7488\n",
            "Epoch 123/500\n",
            "104/104 [==============================] - 3s 30ms/step - loss: 0.3726 - accuracy: 0.8519 - val_loss: 0.6739 - val_accuracy: 0.7440\n",
            "Epoch 124/500\n",
            "104/104 [==============================] - 3s 30ms/step - loss: 0.3822 - accuracy: 0.8519 - val_loss: 0.5931 - val_accuracy: 0.8068\n",
            "Epoch 125/500\n",
            "104/104 [==============================] - 3s 33ms/step - loss: 0.3748 - accuracy: 0.8615 - val_loss: 0.6170 - val_accuracy: 0.7778\n",
            "Epoch 126/500\n",
            "104/104 [==============================] - 3s 31ms/step - loss: 0.3496 - accuracy: 0.8694 - val_loss: 0.5548 - val_accuracy: 0.8019\n",
            "Epoch 127/500\n",
            "104/104 [==============================] - 4s 34ms/step - loss: 0.3667 - accuracy: 0.8652 - val_loss: 0.6015 - val_accuracy: 0.7826\n",
            "Epoch 128/500\n",
            "104/104 [==============================] - 3s 30ms/step - loss: 0.3549 - accuracy: 0.8682 - val_loss: 0.6456 - val_accuracy: 0.7488\n",
            "Epoch 129/500\n",
            "104/104 [==============================] - 3s 31ms/step - loss: 0.3442 - accuracy: 0.8779 - val_loss: 0.5821 - val_accuracy: 0.7874\n",
            "Epoch 130/500\n",
            "104/104 [==============================] - 3s 31ms/step - loss: 0.3433 - accuracy: 0.8730 - val_loss: 0.6054 - val_accuracy: 0.7633\n",
            "Epoch 131/500\n",
            "104/104 [==============================] - 3s 30ms/step - loss: 0.3385 - accuracy: 0.8724 - val_loss: 0.5669 - val_accuracy: 0.7826\n",
            "Epoch 132/500\n",
            "104/104 [==============================] - 3s 31ms/step - loss: 0.3530 - accuracy: 0.8670 - val_loss: 0.5743 - val_accuracy: 0.7826\n",
            "Epoch 133/500\n",
            "104/104 [==============================] - 4s 34ms/step - loss: 0.3430 - accuracy: 0.8767 - val_loss: 0.5656 - val_accuracy: 0.8019\n",
            "Epoch 134/500\n",
            "104/104 [==============================] - 3s 32ms/step - loss: 0.3339 - accuracy: 0.8791 - val_loss: 0.5500 - val_accuracy: 0.7874\n",
            "Epoch 135/500\n",
            "104/104 [==============================] - 3s 31ms/step - loss: 0.3462 - accuracy: 0.8809 - val_loss: 0.6069 - val_accuracy: 0.7826\n",
            "Epoch 136/500\n",
            "104/104 [==============================] - 3s 30ms/step - loss: 0.3368 - accuracy: 0.8755 - val_loss: 0.5615 - val_accuracy: 0.7778\n",
            "Epoch 137/500\n",
            "104/104 [==============================] - 3s 32ms/step - loss: 0.3303 - accuracy: 0.8736 - val_loss: 0.5987 - val_accuracy: 0.7633\n",
            "Epoch 138/500\n",
            "104/104 [==============================] - 3s 31ms/step - loss: 0.3356 - accuracy: 0.8676 - val_loss: 0.5697 - val_accuracy: 0.7971\n",
            "Epoch 139/500\n",
            "104/104 [==============================] - 3s 31ms/step - loss: 0.3322 - accuracy: 0.8718 - val_loss: 0.5944 - val_accuracy: 0.7729\n",
            "Epoch 140/500\n",
            "104/104 [==============================] - 3s 30ms/step - loss: 0.3294 - accuracy: 0.8755 - val_loss: 0.5409 - val_accuracy: 0.8019\n",
            "Epoch 141/500\n",
            "104/104 [==============================] - 3s 30ms/step - loss: 0.3068 - accuracy: 0.8875 - val_loss: 0.6270 - val_accuracy: 0.7585\n",
            "Epoch 142/500\n",
            "104/104 [==============================] - 4s 37ms/step - loss: 0.3394 - accuracy: 0.8730 - val_loss: 0.6117 - val_accuracy: 0.7729\n",
            "Epoch 143/500\n",
            "104/104 [==============================] - 3s 32ms/step - loss: 0.3139 - accuracy: 0.8881 - val_loss: 0.6570 - val_accuracy: 0.7536\n",
            "Epoch 144/500\n",
            "104/104 [==============================] - 3s 31ms/step - loss: 0.3043 - accuracy: 0.8815 - val_loss: 0.6180 - val_accuracy: 0.7681\n",
            "Epoch 145/500\n",
            "104/104 [==============================] - 3s 31ms/step - loss: 0.3243 - accuracy: 0.8724 - val_loss: 0.5664 - val_accuracy: 0.7826\n",
            "Epoch 146/500\n",
            "104/104 [==============================] - 3s 31ms/step - loss: 0.2988 - accuracy: 0.8912 - val_loss: 0.7044 - val_accuracy: 0.7150\n",
            "Epoch 147/500\n",
            "104/104 [==============================] - 3s 31ms/step - loss: 0.2941 - accuracy: 0.8912 - val_loss: 0.5536 - val_accuracy: 0.7923\n",
            "Epoch 148/500\n",
            "104/104 [==============================] - 3s 30ms/step - loss: 0.3033 - accuracy: 0.8894 - val_loss: 0.5675 - val_accuracy: 0.7633\n",
            "Epoch 149/500\n",
            "104/104 [==============================] - 4s 36ms/step - loss: 0.2970 - accuracy: 0.8912 - val_loss: 0.6201 - val_accuracy: 0.7923\n",
            "Epoch 150/500\n",
            "104/104 [==============================] - 3s 31ms/step - loss: 0.3064 - accuracy: 0.8809 - val_loss: 0.7314 - val_accuracy: 0.7150\n",
            "Epoch 151/500\n",
            "104/104 [==============================] - 3s 30ms/step - loss: 0.2793 - accuracy: 0.9002 - val_loss: 0.7142 - val_accuracy: 0.7633\n",
            "Epoch 152/500\n",
            "104/104 [==============================] - 4s 34ms/step - loss: 0.3034 - accuracy: 0.8875 - val_loss: 0.5680 - val_accuracy: 0.7633\n",
            "Epoch 153/500\n",
            "104/104 [==============================] - 3s 30ms/step - loss: 0.2825 - accuracy: 0.8942 - val_loss: 0.5680 - val_accuracy: 0.7874\n",
            "Epoch 154/500\n",
            "104/104 [==============================] - 3s 31ms/step - loss: 0.2914 - accuracy: 0.8894 - val_loss: 0.5654 - val_accuracy: 0.8116\n",
            "Epoch 155/500\n",
            "104/104 [==============================] - 3s 31ms/step - loss: 0.2815 - accuracy: 0.8972 - val_loss: 0.6262 - val_accuracy: 0.7488\n",
            "Epoch 156/500\n",
            "104/104 [==============================] - 3s 33ms/step - loss: 0.2939 - accuracy: 0.8888 - val_loss: 0.6344 - val_accuracy: 0.7729\n",
            "Epoch 157/500\n",
            "104/104 [==============================] - 3s 31ms/step - loss: 0.2871 - accuracy: 0.8936 - val_loss: 0.5551 - val_accuracy: 0.8116\n",
            "Epoch 158/500\n",
            "104/104 [==============================] - 3s 30ms/step - loss: 0.2608 - accuracy: 0.9045 - val_loss: 0.5687 - val_accuracy: 0.8019\n",
            "Epoch 159/500\n",
            "104/104 [==============================] - 4s 35ms/step - loss: 0.2419 - accuracy: 0.9178 - val_loss: 0.5422 - val_accuracy: 0.8309\n",
            "Epoch 160/500\n",
            "104/104 [==============================] - 3s 32ms/step - loss: 0.2651 - accuracy: 0.8966 - val_loss: 0.5078 - val_accuracy: 0.8309\n",
            "Epoch 161/500\n",
            "104/104 [==============================] - 3s 32ms/step - loss: 0.2435 - accuracy: 0.9117 - val_loss: 0.5992 - val_accuracy: 0.7923\n",
            "Epoch 162/500\n",
            "104/104 [==============================] - 4s 34ms/step - loss: 0.2716 - accuracy: 0.8924 - val_loss: 0.5295 - val_accuracy: 0.8068\n",
            "Epoch 163/500\n",
            "104/104 [==============================] - 3s 32ms/step - loss: 0.2597 - accuracy: 0.9033 - val_loss: 0.6350 - val_accuracy: 0.7633\n",
            "Epoch 164/500\n",
            "104/104 [==============================] - 3s 32ms/step - loss: 0.2821 - accuracy: 0.8978 - val_loss: 0.5472 - val_accuracy: 0.7874\n",
            "Epoch 165/500\n",
            "104/104 [==============================] - 3s 32ms/step - loss: 0.2627 - accuracy: 0.9123 - val_loss: 0.5732 - val_accuracy: 0.7971\n",
            "Epoch 166/500\n",
            "104/104 [==============================] - 3s 33ms/step - loss: 0.2884 - accuracy: 0.9021 - val_loss: 0.5663 - val_accuracy: 0.8019\n",
            "Epoch 167/500\n",
            "104/104 [==============================] - 3s 31ms/step - loss: 0.2323 - accuracy: 0.9184 - val_loss: 0.5537 - val_accuracy: 0.7826\n",
            "Epoch 168/500\n",
            "104/104 [==============================] - 3s 31ms/step - loss: 0.2675 - accuracy: 0.9057 - val_loss: 0.5085 - val_accuracy: 0.8213\n",
            "Epoch 169/500\n",
            "104/104 [==============================] - 3s 30ms/step - loss: 0.2397 - accuracy: 0.9081 - val_loss: 0.5554 - val_accuracy: 0.7971\n",
            "Epoch 170/500\n",
            "104/104 [==============================] - 3s 32ms/step - loss: 0.2723 - accuracy: 0.9033 - val_loss: 0.5529 - val_accuracy: 0.7778\n",
            "Epoch 171/500\n",
            "104/104 [==============================] - 3s 30ms/step - loss: 0.2575 - accuracy: 0.9039 - val_loss: 0.6001 - val_accuracy: 0.7633\n",
            "Epoch 172/500\n",
            "104/104 [==============================] - 3s 31ms/step - loss: 0.2547 - accuracy: 0.9160 - val_loss: 0.5583 - val_accuracy: 0.8213\n",
            "Epoch 173/500\n",
            "104/104 [==============================] - 3s 30ms/step - loss: 0.2453 - accuracy: 0.9111 - val_loss: 0.5918 - val_accuracy: 0.7923\n",
            "Epoch 174/500\n",
            "104/104 [==============================] - 3s 30ms/step - loss: 0.2632 - accuracy: 0.9069 - val_loss: 0.6141 - val_accuracy: 0.7778\n",
            "Epoch 175/500\n",
            "104/104 [==============================] - 3s 33ms/step - loss: 0.2454 - accuracy: 0.9027 - val_loss: 0.5188 - val_accuracy: 0.8213\n",
            "Epoch 176/500\n",
            "104/104 [==============================] - 3s 31ms/step - loss: 0.2371 - accuracy: 0.9154 - val_loss: 0.5567 - val_accuracy: 0.8019\n",
            "Epoch 177/500\n",
            "104/104 [==============================] - 3s 31ms/step - loss: 0.2235 - accuracy: 0.9208 - val_loss: 0.6032 - val_accuracy: 0.7729\n",
            "Epoch 178/500\n",
            "104/104 [==============================] - 3s 32ms/step - loss: 0.2647 - accuracy: 0.9045 - val_loss: 0.5202 - val_accuracy: 0.8116\n",
            "Epoch 179/500\n",
            "104/104 [==============================] - 3s 31ms/step - loss: 0.2343 - accuracy: 0.9202 - val_loss: 0.5452 - val_accuracy: 0.8019\n",
            "Epoch 180/500\n",
            "104/104 [==============================] - 3s 30ms/step - loss: 0.2332 - accuracy: 0.9160 - val_loss: 0.5518 - val_accuracy: 0.7923\n",
            "Epoch 181/500\n",
            "104/104 [==============================] - 3s 31ms/step - loss: 0.2207 - accuracy: 0.9148 - val_loss: 0.5498 - val_accuracy: 0.8164\n",
            "Epoch 182/500\n",
            "104/104 [==============================] - 3s 32ms/step - loss: 0.2359 - accuracy: 0.9172 - val_loss: 0.5764 - val_accuracy: 0.8019\n",
            "Epoch 183/500\n",
            "104/104 [==============================] - 3s 32ms/step - loss: 0.2503 - accuracy: 0.9099 - val_loss: 0.5707 - val_accuracy: 0.7826\n",
            "Epoch 184/500\n",
            "104/104 [==============================] - 3s 32ms/step - loss: 0.2380 - accuracy: 0.9039 - val_loss: 0.5130 - val_accuracy: 0.8116\n",
            "Epoch 185/500\n",
            "104/104 [==============================] - 3s 31ms/step - loss: 0.2272 - accuracy: 0.9148 - val_loss: 0.5303 - val_accuracy: 0.8261\n"
          ]
        }
      ]
    },
    {
      "cell_type": "code",
      "source": [
        "plt.plot(cnnhistory.history['loss'])\n",
        "plt.plot(cnnhistory.history['val_loss'])\n",
        "plt.title('model loss')\n",
        "plt.ylabel('loss')\n",
        "plt.xlabel('epoch')\n",
        "plt.legend(['train','test'], loc='upper left')\n",
        "plt.show()"
      ],
      "metadata": {
        "id": "oQYnuaCrDH_A",
        "colab": {
          "base_uri": "https://localhost:8080/",
          "height": 295
        },
        "outputId": "5669817b-5cd9-4647-9614-07a2b901c957"
      },
      "execution_count": 15,
      "outputs": [
        {
          "output_type": "display_data",
          "data": {
            "text/plain": [
              "<Figure size 432x288 with 1 Axes>"
            ],
            "image/png": "[encoded data removed]"
          },
          "metadata": {
            "needs_background": "light"
          }
        }
      ]
    },
    {
      "cell_type": "code",
      "source": [
        "plt.plot(cnnhistory.history['accuracy'])\n",
        "plt.plot(cnnhistory.history['val_accuracy'])\n",
        "plt.title('model accuracy')\n",
        "plt.ylabel('accuracy')\n",
        "plt.xlabel('epoch')\n",
        "plt.legend(['train','test'], loc='upper left')\n",
        "plt.show()"
      ],
      "metadata": {
        "id": "IFkTuO8nDNdq",
        "colab": {
          "base_uri": "https://localhost:8080/",
          "height": 295
        },
        "outputId": "38df34a0-d80b-47af-a4af-b98bcae99b6a"
      },
      "execution_count": 16,
      "outputs": [
        {
          "output_type": "display_data",
          "data": {
            "text/plain": [
              "<Figure size 432x288 with 1 Axes>"
            ],
            "image/png": "[encoded data removed]"
          },
          "metadata": {
            "needs_background": "light"
          }
        }
      ]
    },
    {
      "cell_type": "code",
      "source": [
        "predictions = model.predict(x_testcnn)"
      ],
      "metadata": {
        "id": "A2xtrN5wDQgY"
      },
      "execution_count": 17,
      "outputs": []
    },
    {
      "cell_type": "code",
      "source": [
        "predictions"
      ],
      "metadata": {
        "id": "_f_ohjXKDUpY",
        "colab": {
          "base_uri": "https://localhost:8080/"
        },
        "outputId": "6e6ef142-2ece-4314-c591-ce6c0a3bbf61"
      },
      "execution_count": 18,
      "outputs": [
        {
          "output_type": "execute_result",
          "data": {
            "text/plain": [
              "array([[5.8105129e-01, 5.0012771e-02, 1.6613141e-01, 1.8036799e-01,\n",
              "        1.4058532e-02, 8.3780605e-03],\n",
              "       [2.1182210e-05, 2.6155467e-05, 2.4268505e-07, 9.8890519e-01,\n",
              "        2.2447693e-07, 1.1046931e-02],\n",
              "       [2.4612135e-01, 2.2335324e-01, 2.3777664e-02, 4.1782174e-01,\n",
              "        1.3148846e-02, 7.5777195e-02],\n",
              "       ...,\n",
              "       [2.8874063e-06, 6.0044564e-10, 2.4564635e-05, 1.2799536e-06,\n",
              "        9.9983573e-01, 1.3549945e-04],\n",
              "       [1.5571761e-05, 4.4911149e-01, 5.5012494e-01, 1.1716081e-04,\n",
              "        4.6202110e-04, 1.6878881e-04],\n",
              "       [6.0755294e-04, 2.3615485e-04, 1.4266164e-02, 3.6927377e-04,\n",
              "        9.7727752e-01, 7.2433148e-03]], dtype=float32)"
            ]
          },
          "metadata": {},
          "execution_count": 18
        }
      ]
    },
    {
      "cell_type": "code",
      "source": [
        "y_test"
      ],
      "metadata": {
        "id": "cmA2bFgsDW3D",
        "colab": {
          "base_uri": "https://localhost:8080/"
        },
        "outputId": "0792d37b-f7e9-4708-fa52-9af6a1297331"
      },
      "execution_count": 19,
      "outputs": [
        {
          "output_type": "execute_result",
          "data": {
            "text/plain": [
              "array([3, 3, 3, 0, 4, 4, 1, 2, 5, 0, 5, 3, 2, 2, 1, 4, 4, 5, 2, 4, 1, 2,\n",
              "       3, 5, 4, 2, 1, 2, 2, 2, 2, 5, 2, 5, 3, 1, 2, 0, 4, 5, 2, 3, 2, 2,\n",
              "       5, 2, 0, 1, 3, 4, 4, 5, 1, 1, 4, 4, 5, 1, 1, 1, 0, 1, 5, 0, 4, 1,\n",
              "       1, 0, 1, 4, 1, 0, 4, 1, 3, 1, 2, 2, 1, 2, 3, 0, 5, 3, 5, 5, 2, 4,\n",
              "       5, 1, 5, 1, 5, 3, 4, 1, 4, 1, 5, 4, 5, 1, 2, 1, 1, 5, 1, 3, 2, 5,\n",
              "       2, 1, 3, 5, 4, 4, 0, 0, 3, 1, 2, 2, 3, 5, 1, 5, 3, 4, 2, 2, 0, 2,\n",
              "       2, 5, 5, 0, 3, 3, 2, 2, 0, 3, 4, 0, 4, 2, 4, 5, 4, 1, 5, 3, 2, 2,\n",
              "       5, 4, 3, 3, 4, 3, 3, 4, 1, 5, 2, 3, 2, 2, 0, 2, 1, 3, 1, 2, 2, 5,\n",
              "       5, 1, 4, 2, 2, 1, 1, 3, 3, 5, 5, 2, 5, 1, 5, 0, 3, 3, 0, 5, 1, 4,\n",
              "       1, 4, 2, 5, 5, 1, 4, 2, 4])"
            ]
          },
          "metadata": {},
          "execution_count": 19
        }
      ]
    },
    {
      "cell_type": "code",
      "source": [
        "new_Ytest = y_test.astype(int)"
      ],
      "metadata": {
        "id": "0PHDKWJWDY3g"
      },
      "execution_count": 20,
      "outputs": []
    },
    {
      "cell_type": "code",
      "source": [
        "new_Ytest"
      ],
      "metadata": {
        "id": "k68v2i-pDbZE",
        "colab": {
          "base_uri": "https://localhost:8080/"
        },
        "outputId": "933ba767-c021-49be-d70c-f7ffd6ca2e2a"
      },
      "execution_count": 21,
      "outputs": [
        {
          "output_type": "execute_result",
          "data": {
            "text/plain": [
              "array([3, 3, 3, 0, 4, 4, 1, 2, 5, 0, 5, 3, 2, 2, 1, 4, 4, 5, 2, 4, 1, 2,\n",
              "       3, 5, 4, 2, 1, 2, 2, 2, 2, 5, 2, 5, 3, 1, 2, 0, 4, 5, 2, 3, 2, 2,\n",
              "       5, 2, 0, 1, 3, 4, 4, 5, 1, 1, 4, 4, 5, 1, 1, 1, 0, 1, 5, 0, 4, 1,\n",
              "       1, 0, 1, 4, 1, 0, 4, 1, 3, 1, 2, 2, 1, 2, 3, 0, 5, 3, 5, 5, 2, 4,\n",
              "       5, 1, 5, 1, 5, 3, 4, 1, 4, 1, 5, 4, 5, 1, 2, 1, 1, 5, 1, 3, 2, 5,\n",
              "       2, 1, 3, 5, 4, 4, 0, 0, 3, 1, 2, 2, 3, 5, 1, 5, 3, 4, 2, 2, 0, 2,\n",
              "       2, 5, 5, 0, 3, 3, 2, 2, 0, 3, 4, 0, 4, 2, 4, 5, 4, 1, 5, 3, 2, 2,\n",
              "       5, 4, 3, 3, 4, 3, 3, 4, 1, 5, 2, 3, 2, 2, 0, 2, 1, 3, 1, 2, 2, 5,\n",
              "       5, 1, 4, 2, 2, 1, 1, 3, 3, 5, 5, 2, 5, 1, 5, 0, 3, 3, 0, 5, 1, 4,\n",
              "       1, 4, 2, 5, 5, 1, 4, 2, 4])"
            ]
          },
          "metadata": {},
          "execution_count": 21
        }
      ]
    },
    {
      "cell_type": "code",
      "source": [
        "preds1=predictions.argmax(axis=1)\n",
        "preds1"
      ],
      "metadata": {
        "id": "4_cAI39VFhtp",
        "colab": {
          "base_uri": "https://localhost:8080/"
        },
        "outputId": "c86eb0d2-5620-4e79-c4f2-a61406001515"
      },
      "execution_count": 22,
      "outputs": [
        {
          "output_type": "execute_result",
          "data": {
            "text/plain": [
              "array([0, 3, 3, 0, 4, 4, 1, 2, 5, 1, 4, 3, 2, 2, 0, 4, 4, 3, 3, 4, 1, 2,\n",
              "       0, 3, 4, 2, 1, 2, 2, 2, 2, 5, 2, 5, 3, 1, 2, 0, 4, 5, 2, 3, 2, 2,\n",
              "       3, 2, 1, 1, 3, 4, 4, 5, 1, 1, 4, 4, 5, 1, 1, 1, 0, 1, 1, 1, 4, 1,\n",
              "       1, 1, 1, 4, 0, 0, 5, 1, 5, 1, 2, 2, 1, 2, 1, 0, 5, 3, 5, 5, 2, 3,\n",
              "       5, 1, 0, 1, 5, 3, 4, 1, 4, 1, 5, 4, 5, 1, 2, 1, 1, 5, 1, 3, 2, 5,\n",
              "       5, 1, 3, 5, 4, 4, 0, 0, 3, 1, 1, 2, 1, 5, 1, 3, 3, 4, 2, 2, 0, 2,\n",
              "       2, 3, 5, 0, 5, 3, 2, 2, 0, 3, 4, 0, 4, 1, 4, 1, 4, 1, 5, 3, 2, 2,\n",
              "       5, 4, 3, 3, 4, 5, 3, 4, 1, 5, 2, 3, 2, 2, 0, 2, 1, 3, 1, 2, 2, 5,\n",
              "       5, 1, 4, 2, 4, 1, 1, 3, 3, 5, 5, 2, 5, 1, 2, 1, 3, 3, 1, 4, 1, 4,\n",
              "       1, 4, 5, 2, 5, 1, 4, 2, 4])"
            ]
          },
          "metadata": {},
          "execution_count": 22
        }
      ]
    },
    {
      "cell_type": "code",
      "source": [
        "abc = preds1.astype(int).flatten()"
      ],
      "metadata": {
        "id": "H4WEmM60NfQn"
      },
      "execution_count": 23,
      "outputs": []
    },
    {
      "cell_type": "code",
      "source": [
        "from sklearn.metrics import confusion_matrix\n",
        "c = confusion_matrix(new_Ytest, abc) \n",
        "c"
      ],
      "metadata": {
        "id": "bKEBeEBlFjB8",
        "colab": {
          "base_uri": "https://localhost:8080/"
        },
        "outputId": "3ac57353-4100-4daa-b94c-0ea414a9cd26"
      },
      "execution_count": 24,
      "outputs": [
        {
          "output_type": "execute_result",
          "data": {
            "text/plain": [
              "array([[12,  6,  0,  0,  0,  0],\n",
              "       [ 2, 39,  0,  0,  0,  0],\n",
              "       [ 0,  2, 39,  1,  1,  2],\n",
              "       [ 2,  2,  0, 24,  0,  3],\n",
              "       [ 0,  0,  0,  1, 31,  1],\n",
              "       [ 1,  2,  2,  5,  2, 27]])"
            ]
          },
          "metadata": {},
          "execution_count": 24
        }
      ]
    },
    {
      "cell_type": "code",
      "source": [
        "y_test"
      ],
      "metadata": {
        "id": "m4RjG7LWLSQx",
        "colab": {
          "base_uri": "https://localhost:8080/"
        },
        "outputId": "4ce7f5c2-23fe-4152-887f-2accfbc13c82"
      },
      "execution_count": 25,
      "outputs": [
        {
          "output_type": "execute_result",
          "data": {
            "text/plain": [
              "array([3, 3, 3, 0, 4, 4, 1, 2, 5, 0, 5, 3, 2, 2, 1, 4, 4, 5, 2, 4, 1, 2,\n",
              "       3, 5, 4, 2, 1, 2, 2, 2, 2, 5, 2, 5, 3, 1, 2, 0, 4, 5, 2, 3, 2, 2,\n",
              "       5, 2, 0, 1, 3, 4, 4, 5, 1, 1, 4, 4, 5, 1, 1, 1, 0, 1, 5, 0, 4, 1,\n",
              "       1, 0, 1, 4, 1, 0, 4, 1, 3, 1, 2, 2, 1, 2, 3, 0, 5, 3, 5, 5, 2, 4,\n",
              "       5, 1, 5, 1, 5, 3, 4, 1, 4, 1, 5, 4, 5, 1, 2, 1, 1, 5, 1, 3, 2, 5,\n",
              "       2, 1, 3, 5, 4, 4, 0, 0, 3, 1, 2, 2, 3, 5, 1, 5, 3, 4, 2, 2, 0, 2,\n",
              "       2, 5, 5, 0, 3, 3, 2, 2, 0, 3, 4, 0, 4, 2, 4, 5, 4, 1, 5, 3, 2, 2,\n",
              "       5, 4, 3, 3, 4, 3, 3, 4, 1, 5, 2, 3, 2, 2, 0, 2, 1, 3, 1, 2, 2, 5,\n",
              "       5, 1, 4, 2, 2, 1, 1, 3, 3, 5, 5, 2, 5, 1, 5, 0, 3, 3, 0, 5, 1, 4,\n",
              "       1, 4, 2, 5, 5, 1, 4, 2, 4])"
            ]
          },
          "metadata": {},
          "execution_count": 25
        }
      ]
    },
    {
      "cell_type": "code",
      "source": [
        "loss, acc =model.evaluate(x_testcnn, y_test)\n",
        "print(\"Restored model, accuracy: {:5.2f}%\".format(100*acc))"
      ],
      "metadata": {
        "id": "n3kzoqPkDqqS",
        "colab": {
          "base_uri": "https://localhost:8080/"
        },
        "outputId": "7f1e06fc-6aa6-4d95-921d-26b62f134990"
      },
      "execution_count": 26,
      "outputs": [
        {
          "output_type": "stream",
          "name": "stdout",
          "text": [
            "7/7 [==============================] - 0s 12ms/step - loss: 0.4628 - accuracy: 0.8309\n",
            "Restored model, accuracy: 83.09%\n"
          ]
        }
      ]
    },
    {
      "cell_type": "code",
      "source": [
        "loss, acc =model.evaluate(X_train, y_train)\n",
        "print(\"Restored model train, accuracy: {:5.2f}%\".format(100*acc))"
      ],
      "metadata": {
        "id": "fJDTGH_OUX0z",
        "colab": {
          "base_uri": "https://localhost:8080/"
        },
        "outputId": "88a5e239-1408-4136-b1ae-6af9332bec49"
      },
      "execution_count": 27,
      "outputs": [
        {
          "output_type": "stream",
          "name": "stdout",
          "text": [
            "52/52 [==============================] - 1s 9ms/step - loss: 0.1271 - accuracy: 0.9813\n",
            "Restored model train, accuracy: 98.13%\n"
          ]
        }
      ]
    },
    {
      "cell_type": "code",
      "source": [
        "from sklearn.metrics import classification_report, confusion_matrix,accuracy_score\n",
        "import seaborn as sn\n",
        "\n",
        "print(classification_report(new_Ytest,abc))\n",
        "\n",
        "acc = float(accuracy_score(new_Ytest,abc))*100\n",
        "print(\"----accuracy score %s ----\" % acc)\n",
        "\n",
        "cm = confusion_matrix(new_Ytest,abc)\n",
        "#df_cm = pd.DataFrame(cm)\n",
        "class_names = ['neutral','calm', 'happy','sad','angry', 'fearful' ]\n",
        "df_cm = pd.DataFrame(cm, index=class_names, columns=class_names,)\n",
        "sn.heatmap(df_cm, annot=True, fmt='')\n",
        "plt.show()"
      ],
      "metadata": {
        "id": "SfSC3El94LZg",
        "colab": {
          "base_uri": "https://localhost:8080/",
          "height": 522
        },
        "outputId": "5c7ea98e-c793-452a-a16a-16631dcfdb50"
      },
      "execution_count": 28,
      "outputs": [
        {
          "output_type": "stream",
          "name": "stdout",
          "text": [
            "              precision    recall  f1-score   support\n",
            "\n",
            "           0       0.71      0.67      0.69        18\n",
            "           1       0.76      0.95      0.85        41\n",
            "           2       0.95      0.87      0.91        45\n",
            "           3       0.77      0.77      0.77        31\n",
            "           4       0.91      0.94      0.93        33\n",
            "           5       0.82      0.69      0.75        39\n",
            "\n",
            "    accuracy                           0.83       207\n",
            "   macro avg       0.82      0.82      0.82       207\n",
            "weighted avg       0.84      0.83      0.83       207\n",
            "\n",
            "----accuracy score 83.09178743961353 ----\n"
          ]
        },
        {
          "output_type": "display_data",
          "data": {
            "text/plain": [
              "<Figure size 432x288 with 2 Axes>"
            ],
            "image/png": "[encoded data removed]"
          },
          "metadata": {
            "needs_background": "light"
          }
        }
      ]
    }
  ]
}