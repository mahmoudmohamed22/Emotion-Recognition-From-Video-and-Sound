{
  "nbformat": 4,
  "nbformat_minor": 0,
  "metadata": {
    "colab": {
      "name": "luck 3 .ipynb",
      "provenance": [],
      "collapsed_sections": [],
      "machine_shape": "hm"
    },
    "kernelspec": {
      "name": "python3",
      "display_name": "Python 3"
    },
    "language_info": {
      "name": "python"
    },
    "accelerator": "GPU"
  },
  "cells": [
    {
      "cell_type": "code",
      "execution_count": 1,
      "metadata": {
        "colab": {
          "base_uri": "https://localhost:8080/"
        },
        "id": "9SRCO-a_AlH5",
        "outputId": "347816b9-fba3-468e-8405-3a2f068774db"
      },
      "outputs": [
        {
          "output_type": "stream",
          "name": "stdout",
          "text": [
            "Drive already mounted at /content/drive; to attempt to forcibly remount, call drive.mount(\"/content/drive\", force_remount=True).\n"
          ]
        }
      ],
      "source": [
        "from google.colab import drive\n",
        "drive.mount('/content/drive')"
      ]
    },
    {
      "cell_type": "code",
      "source": [
        "!pip install librosa"
      ],
      "metadata": {
        "colab": {
          "base_uri": "https://localhost:8080/"
        },
        "id": "5Lo4mUwG9RMd",
        "outputId": "402924e9-4870-4d63-8565-19e90c50db2f"
      },
      "execution_count": 2,
      "outputs": [
        {
          "output_type": "stream",
          "name": "stdout",
          "text": [
            "Looking in indexes: https://pypi.org/simple, https://us-python.pkg.dev/colab-wheels/public/simple/\n",
            "Requirement already satisfied: librosa in /usr/local/lib/python3.7/dist-packages (0.8.1)\n",
            "Requirement already satisfied: pooch>=1.0 in /usr/local/lib/python3.7/dist-packages (from librosa) (1.6.0)\n",
            "Requirement already satisfied: resampy>=0.2.2 in /usr/local/lib/python3.7/dist-packages (from librosa) (0.2.2)\n",
            "Requirement already satisfied: joblib>=0.14 in /usr/local/lib/python3.7/dist-packages (from librosa) (1.1.0)\n",
            "Requirement already satisfied: numpy>=1.15.0 in /usr/local/lib/python3.7/dist-packages (from librosa) (1.21.6)\n",
            "Requirement already satisfied: numba>=0.43.0 in /usr/local/lib/python3.7/dist-packages (from librosa) (0.51.2)\n",
            "Requirement already satisfied: audioread>=2.0.0 in /usr/local/lib/python3.7/dist-packages (from librosa) (2.1.9)\n",
            "Requirement already satisfied: scipy>=1.0.0 in /usr/local/lib/python3.7/dist-packages (from librosa) (1.4.1)\n",
            "Requirement already satisfied: scikit-learn!=0.19.0,>=0.14.0 in /usr/local/lib/python3.7/dist-packages (from librosa) (1.0.2)\n",
            "Requirement already satisfied: packaging>=20.0 in /usr/local/lib/python3.7/dist-packages (from librosa) (21.3)\n",
            "Requirement already satisfied: soundfile>=0.10.2 in /usr/local/lib/python3.7/dist-packages (from librosa) (0.10.3.post1)\n",
            "Requirement already satisfied: decorator>=3.0.0 in /usr/local/lib/python3.7/dist-packages (from librosa) (4.4.2)\n",
            "Requirement already satisfied: llvmlite<0.35,>=0.34.0.dev0 in /usr/local/lib/python3.7/dist-packages (from numba>=0.43.0->librosa) (0.34.0)\n",
            "Requirement already satisfied: setuptools in /usr/local/lib/python3.7/dist-packages (from numba>=0.43.0->librosa) (57.4.0)\n",
            "Requirement already satisfied: pyparsing!=3.0.5,>=2.0.2 in /usr/local/lib/python3.7/dist-packages (from packaging>=20.0->librosa) (3.0.9)\n",
            "Requirement already satisfied: appdirs>=1.3.0 in /usr/local/lib/python3.7/dist-packages (from pooch>=1.0->librosa) (1.4.4)\n",
            "Requirement already satisfied: requests>=2.19.0 in /usr/local/lib/python3.7/dist-packages (from pooch>=1.0->librosa) (2.23.0)\n",
            "Requirement already satisfied: idna<3,>=2.5 in /usr/local/lib/python3.7/dist-packages (from requests>=2.19.0->pooch>=1.0->librosa) (2.10)\n",
            "Requirement already satisfied: certifi>=2017.4.17 in /usr/local/lib/python3.7/dist-packages (from requests>=2.19.0->pooch>=1.0->librosa) (2022.5.18.1)\n",
            "Requirement already satisfied: urllib3!=1.25.0,!=1.25.1,<1.26,>=1.21.1 in /usr/local/lib/python3.7/dist-packages (from requests>=2.19.0->pooch>=1.0->librosa) (1.24.3)\n",
            "Requirement already satisfied: chardet<4,>=3.0.2 in /usr/local/lib/python3.7/dist-packages (from requests>=2.19.0->pooch>=1.0->librosa) (3.0.4)\n",
            "Requirement already satisfied: six>=1.3 in /usr/local/lib/python3.7/dist-packages (from resampy>=0.2.2->librosa) (1.15.0)\n",
            "Requirement already satisfied: threadpoolctl>=2.0.0 in /usr/local/lib/python3.7/dist-packages (from scikit-learn!=0.19.0,>=0.14.0->librosa) (3.1.0)\n",
            "Requirement already satisfied: cffi>=1.0 in /usr/local/lib/python3.7/dist-packages (from soundfile>=0.10.2->librosa) (1.15.0)\n",
            "Requirement already satisfied: pycparser in /usr/local/lib/python3.7/dist-packages (from cffi>=1.0->soundfile>=0.10.2->librosa) (2.21)\n"
          ]
        }
      ]
    },
    {
      "cell_type": "code",
      "metadata": {
        "id": "HJjcbxwy46bG",
        "colab": {
          "base_uri": "https://localhost:8080/",
          "height": 17
        },
        "outputId": "18777bd5-6d8c-4178-a09b-38572e9bdaa9"
      },
      "source": [
        "# Orignial Notebook: https://github.com/MITESHPUTHRANNEU/Speech-Emotion-Analyzer/blob/master/final_results_gender_test.ipynb\n",
        "# This notebook author: Reza Chu\n",
        "# Last Editing Date: 31st May 2019\n",
        "\n",
        "## Python\n",
        "import os\n",
        "import random\n",
        "import sys\n",
        "\n",
        "import IPython\n",
        "from IPython.display import Audio\n",
        "from IPython.display import Image\n",
        "import matplotlib.pyplot as plt\n",
        "\n",
        "## Package\n",
        "import glob \n",
        "import keras\n",
        "import IPython.display as ipd\n",
        "import librosa\n",
        "import librosa.display\n",
        "import matplotlib.pyplot as plt\n",
        "import numpy as np\n",
        "import pandas as pd\n",
        "import plotly.graph_objs as go\n",
        "import plotly.offline as py\n",
        "import plotly.tools as tls\n",
        "import seaborn as sns\n",
        "import scipy.io.wavfile\n",
        "import tensorflow as tf\n",
        "py.init_notebook_mode(connected=True)\n",
        "\n",
        "## Keras\n",
        "from keras import regularizers\n",
        "from keras.callbacks import ModelCheckpoint, LearningRateScheduler, EarlyStopping\n",
        "from keras.callbacks import  History, ReduceLROnPlateau, CSVLogger\n",
        "from keras.models import Model, Sequential\n",
        "from keras.layers import Dense, Embedding, LSTM\n",
        "from keras.layers import Input, Flatten, Dropout, Activation, BatchNormalization\n",
        "from keras.layers import Conv1D, MaxPooling1D, AveragePooling1D\n",
        "from keras.preprocessing import sequence\n",
        "from keras.preprocessing.sequence import pad_sequences\n",
        "from keras.preprocessing.text import Tokenizer\n",
        "from keras.utils import np_utils\n",
        "from tensorflow.keras.utils import to_categorical\n",
        "\n",
        "## Sklearn\n",
        "from sklearn.metrics import confusion_matrix\n",
        "from sklearn.preprocessing import LabelEncoder\n",
        "\n",
        "## Rest\n",
        "from scipy.fftpack import fft\n",
        "from scipy import signal\n",
        "from scipy.io import wavfile\n",
        "from tqdm import tqdm\n",
        "\n",
        "input_duration=3\n",
        "# % pylab inline"
      ],
      "execution_count": 3,
      "outputs": [
        {
          "output_type": "display_data",
          "data": {
            "text/html": [
              "        <script type=\"text/javascript\">\n",
              "        window.PlotlyConfig = {MathJaxConfig: 'local'};\n",
              "        if (window.MathJax) {MathJax.Hub.Config({SVG: {font: \"STIX-Web\"}});}\n",
              "        if (typeof require !== 'undefined') {\n",
              "        require.undef(\"plotly\");\n",
              "        requirejs.config({\n",
              "            paths: {\n",
              "                'plotly': ['https://cdn.plot.ly/plotly-2.8.3.min']\n",
              "            }\n",
              "        });\n",
              "        require(['plotly'], function(Plotly) {\n",
              "            window._Plotly = Plotly;\n",
              "        });\n",
              "        }\n",
              "        </script>\n",
              "        "
            ]
          },
          "metadata": {}
        }
      ]
    },
    {
      "cell_type": "code",
      "source": [
        "# # Saving joblib files to not load them again with the loop above\n",
        "\n",
        "# import joblib\n",
        "\n",
        "# X_name = 'x.joblib'\n",
        "# y_name = 'y.joblib'\n",
        "# save_dir = '/content/drive/My Drive/graduation project/audio/paper_code/features'\n",
        "\n",
        "# savedX = joblib.dump(X, os.path.join(save_dir, X_name))\n",
        "# savedy = joblib.dump(y, os.path.join(save_dir, y_name))"
      ],
      "metadata": {
        "id": "UCzic8rlDcuk"
      },
      "execution_count": 4,
      "outputs": []
    },
    {
      "cell_type": "code",
      "source": [
        "# # Loading saved models\n",
        "import joblib\n",
        "X = joblib.load('/content/drive/My Drive/graduation project/audio/paper_code/features/x.joblib')\n",
        "y = joblib.load('/content/drive/My Drive/graduation project/audio/paper_code/features/y.joblib')"
      ],
      "metadata": {
        "id": "Q35CN6zDrzg1"
      },
      "execution_count": 5,
      "outputs": []
    },
    {
      "cell_type": "code",
      "source": [
        "X.shape"
      ],
      "metadata": {
        "id": "7PSTurzjCo5K",
        "colab": {
          "base_uri": "https://localhost:8080/"
        },
        "outputId": "31b1cc2e-419d-4dce-c0cd-34a7acee8fc3"
      },
      "execution_count": 6,
      "outputs": [
        {
          "output_type": "execute_result",
          "data": {
            "text/plain": [
              "(2068, 40)"
            ]
          },
          "metadata": {},
          "execution_count": 6
        }
      ]
    },
    {
      "cell_type": "code",
      "source": [
        "from sklearn.model_selection import train_test_split\n",
        "\n",
        "X_train, X_test, y_train, y_test = train_test_split(X,y, test_size=0.1 ,shuffle = True\n",
        "                                                    , random_state=42)\n",
        "X_train , X_valid, y_train, y_valid = train_test_split(X_train,y_train, test_size=0.1112305212 , shuffle = True \n",
        "                                                       , random_state=42)"
      ],
      "metadata": {
        "id": "Ai4Fy5cPCiq1"
      },
      "execution_count": 7,
      "outputs": []
    },
    {
      "cell_type": "code",
      "source": [
        "import numpy as np\n",
        "x_traincnn = np.expand_dims(X_train, axis=2)\n",
        "x_testcnn = np.expand_dims(X_test, axis=2)\n",
        "X_valid= np.expand_dims(X_valid, axis=2)"
      ],
      "metadata": {
        "id": "tp1Fm5K3CEXu"
      },
      "execution_count": 8,
      "outputs": []
    },
    {
      "cell_type": "code",
      "source": [
        "x_traincnn.shape, x_testcnn.shape , X_valid.shape\n",
        "#1861"
      ],
      "metadata": {
        "id": "RI0MxoIPBws5",
        "colab": {
          "base_uri": "https://localhost:8080/"
        },
        "outputId": "d40e3f58-e5a0-4714-d86d-ead8b2c3514a"
      },
      "execution_count": 9,
      "outputs": [
        {
          "output_type": "execute_result",
          "data": {
            "text/plain": [
              "((1654, 40, 1), (207, 40, 1), (207, 40, 1))"
            ]
          },
          "metadata": {},
          "execution_count": 9
        }
      ]
    },
    {
      "cell_type": "code",
      "source": [
        "!pip install tensorflow"
      ],
      "metadata": {
        "id": "oALhiMUd9G2Y",
        "colab": {
          "base_uri": "https://localhost:8080/"
        },
        "outputId": "00ea881c-9d9a-4d49-dd55-1eb452c61797"
      },
      "execution_count": 10,
      "outputs": [
        {
          "output_type": "stream",
          "name": "stdout",
          "text": [
            "Looking in indexes: https://pypi.org/simple, https://us-python.pkg.dev/colab-wheels/public/simple/\n",
            "Requirement already satisfied: tensorflow in /usr/local/lib/python3.7/dist-packages (2.8.2+zzzcolab20220527125636)\n",
            "Requirement already satisfied: typing-extensions>=3.6.6 in /usr/local/lib/python3.7/dist-packages (from tensorflow) (4.2.0)\n",
            "Requirement already satisfied: protobuf<3.20,>=3.9.2 in /usr/local/lib/python3.7/dist-packages (from tensorflow) (3.17.3)\n",
            "Requirement already satisfied: h5py>=2.9.0 in /usr/local/lib/python3.7/dist-packages (from tensorflow) (3.1.0)\n",
            "Requirement already satisfied: numpy>=1.20 in /usr/local/lib/python3.7/dist-packages (from tensorflow) (1.21.6)\n",
            "Requirement already satisfied: grpcio<2.0,>=1.24.3 in /usr/local/lib/python3.7/dist-packages (from tensorflow) (1.46.3)\n",
            "Requirement already satisfied: tensorboard<2.9,>=2.8 in /usr/local/lib/python3.7/dist-packages (from tensorflow) (2.8.0)\n",
            "Requirement already satisfied: tensorflow-io-gcs-filesystem>=0.23.1 in /usr/local/lib/python3.7/dist-packages (from tensorflow) (0.26.0)\n",
            "Requirement already satisfied: libclang>=9.0.1 in /usr/local/lib/python3.7/dist-packages (from tensorflow) (14.0.1)\n",
            "Requirement already satisfied: opt-einsum>=2.3.2 in /usr/local/lib/python3.7/dist-packages (from tensorflow) (3.3.0)\n",
            "Requirement already satisfied: flatbuffers>=1.12 in /usr/local/lib/python3.7/dist-packages (from tensorflow) (2.0)\n",
            "Requirement already satisfied: tensorflow-estimator<2.9,>=2.8 in /usr/local/lib/python3.7/dist-packages (from tensorflow) (2.8.0)\n",
            "Requirement already satisfied: gast>=0.2.1 in /usr/local/lib/python3.7/dist-packages (from tensorflow) (0.5.3)\n",
            "Requirement already satisfied: absl-py>=0.4.0 in /usr/local/lib/python3.7/dist-packages (from tensorflow) (1.0.0)\n",
            "Requirement already satisfied: keras<2.9,>=2.8.0rc0 in /usr/local/lib/python3.7/dist-packages (from tensorflow) (2.8.0)\n",
            "Requirement already satisfied: six>=1.12.0 in /usr/local/lib/python3.7/dist-packages (from tensorflow) (1.15.0)\n",
            "Requirement already satisfied: keras-preprocessing>=1.1.1 in /usr/local/lib/python3.7/dist-packages (from tensorflow) (1.1.2)\n",
            "Requirement already satisfied: astunparse>=1.6.0 in /usr/local/lib/python3.7/dist-packages (from tensorflow) (1.6.3)\n",
            "Requirement already satisfied: setuptools in /usr/local/lib/python3.7/dist-packages (from tensorflow) (57.4.0)\n",
            "Requirement already satisfied: termcolor>=1.1.0 in /usr/local/lib/python3.7/dist-packages (from tensorflow) (1.1.0)\n",
            "Requirement already satisfied: google-pasta>=0.1.1 in /usr/local/lib/python3.7/dist-packages (from tensorflow) (0.2.0)\n",
            "Requirement already satisfied: wrapt>=1.11.0 in /usr/local/lib/python3.7/dist-packages (from tensorflow) (1.14.1)\n",
            "Requirement already satisfied: wheel<1.0,>=0.23.0 in /usr/local/lib/python3.7/dist-packages (from astunparse>=1.6.0->tensorflow) (0.37.1)\n",
            "Requirement already satisfied: cached-property in /usr/local/lib/python3.7/dist-packages (from h5py>=2.9.0->tensorflow) (1.5.2)\n",
            "Requirement already satisfied: tensorboard-plugin-wit>=1.6.0 in /usr/local/lib/python3.7/dist-packages (from tensorboard<2.9,>=2.8->tensorflow) (1.8.1)\n",
            "Requirement already satisfied: google-auth<3,>=1.6.3 in /usr/local/lib/python3.7/dist-packages (from tensorboard<2.9,>=2.8->tensorflow) (1.35.0)\n",
            "Requirement already satisfied: tensorboard-data-server<0.7.0,>=0.6.0 in /usr/local/lib/python3.7/dist-packages (from tensorboard<2.9,>=2.8->tensorflow) (0.6.1)\n",
            "Requirement already satisfied: markdown>=2.6.8 in /usr/local/lib/python3.7/dist-packages (from tensorboard<2.9,>=2.8->tensorflow) (3.3.7)\n",
            "Requirement already satisfied: google-auth-oauthlib<0.5,>=0.4.1 in /usr/local/lib/python3.7/dist-packages (from tensorboard<2.9,>=2.8->tensorflow) (0.4.6)\n",
            "Requirement already satisfied: requests<3,>=2.21.0 in /usr/local/lib/python3.7/dist-packages (from tensorboard<2.9,>=2.8->tensorflow) (2.23.0)\n",
            "Requirement already satisfied: werkzeug>=0.11.15 in /usr/local/lib/python3.7/dist-packages (from tensorboard<2.9,>=2.8->tensorflow) (1.0.1)\n",
            "Requirement already satisfied: pyasn1-modules>=0.2.1 in /usr/local/lib/python3.7/dist-packages (from google-auth<3,>=1.6.3->tensorboard<2.9,>=2.8->tensorflow) (0.2.8)\n",
            "Requirement already satisfied: cachetools<5.0,>=2.0.0 in /usr/local/lib/python3.7/dist-packages (from google-auth<3,>=1.6.3->tensorboard<2.9,>=2.8->tensorflow) (4.2.4)\n",
            "Requirement already satisfied: rsa<5,>=3.1.4 in /usr/local/lib/python3.7/dist-packages (from google-auth<3,>=1.6.3->tensorboard<2.9,>=2.8->tensorflow) (4.8)\n",
            "Requirement already satisfied: requests-oauthlib>=0.7.0 in /usr/local/lib/python3.7/dist-packages (from google-auth-oauthlib<0.5,>=0.4.1->tensorboard<2.9,>=2.8->tensorflow) (1.3.1)\n",
            "Requirement already satisfied: importlib-metadata>=4.4 in /usr/local/lib/python3.7/dist-packages (from markdown>=2.6.8->tensorboard<2.9,>=2.8->tensorflow) (4.11.4)\n",
            "Requirement already satisfied: zipp>=0.5 in /usr/local/lib/python3.7/dist-packages (from importlib-metadata>=4.4->markdown>=2.6.8->tensorboard<2.9,>=2.8->tensorflow) (3.8.0)\n",
            "Requirement already satisfied: pyasn1<0.5.0,>=0.4.6 in /usr/local/lib/python3.7/dist-packages (from pyasn1-modules>=0.2.1->google-auth<3,>=1.6.3->tensorboard<2.9,>=2.8->tensorflow) (0.4.8)\n",
            "Requirement already satisfied: urllib3!=1.25.0,!=1.25.1,<1.26,>=1.21.1 in /usr/local/lib/python3.7/dist-packages (from requests<3,>=2.21.0->tensorboard<2.9,>=2.8->tensorflow) (1.24.3)\n",
            "Requirement already satisfied: idna<3,>=2.5 in /usr/local/lib/python3.7/dist-packages (from requests<3,>=2.21.0->tensorboard<2.9,>=2.8->tensorflow) (2.10)\n",
            "Requirement already satisfied: chardet<4,>=3.0.2 in /usr/local/lib/python3.7/dist-packages (from requests<3,>=2.21.0->tensorboard<2.9,>=2.8->tensorflow) (3.0.4)\n",
            "Requirement already satisfied: certifi>=2017.4.17 in /usr/local/lib/python3.7/dist-packages (from requests<3,>=2.21.0->tensorboard<2.9,>=2.8->tensorflow) (2022.5.18.1)\n",
            "Requirement already satisfied: oauthlib>=3.0.0 in /usr/local/lib/python3.7/dist-packages (from requests-oauthlib>=0.7.0->google-auth-oauthlib<0.5,>=0.4.1->tensorboard<2.9,>=2.8->tensorflow) (3.2.0)\n"
          ]
        }
      ]
    },
    {
      "cell_type": "code",
      "source": [
        "import keras\n",
        "import numpy as np\n",
        "import matplotlib.pyplot as plt\n",
        "import tensorflow as tf\n",
        "from keras.preprocessing import sequence\n",
        "from keras.models import Sequential\n",
        "from keras.layers import Dense, Embedding\n",
        "from tensorflow.keras.utils import to_categorical\n",
        "from keras.layers import Input, Flatten, Dropout, Activation\n",
        "from keras.layers import Conv1D, MaxPooling1D\n",
        "from keras.models import Model\n",
        "from keras.callbacks import ModelCheckpoint\n",
        "from tensorflow.keras import optimizers\n",
        "\n",
        "model = Sequential()\n",
        "\n",
        "model.add(Conv1D(128, 12,padding='same', #classifier.add(Convolution2D(64, (3, 3), padding = 'same', input_shape = (128, 128, 3), activation = 'relu'))\n",
        "                 input_shape=(40,1)))\n",
        "model.add(Activation('relu'))\n",
        "model.add(Dropout(0.3))\n",
        "model.add(MaxPooling1D(pool_size=(5)))\n",
        "\n",
        "\n",
        "model.add(Conv1D(256,12,padding='same',))\n",
        "model.add(Activation('relu'))\n",
        "model.add(Dropout(0.3))\n",
        "model.add(MaxPooling1D(pool_size=(5)))\n",
        "\n",
        "#model.add(MaxPooling1D(pool_size=(5)))\n",
        "\n",
        "model.add(Flatten())\n",
        "\n",
        "\n",
        "\n",
        "model.add(Dense(6))\n",
        "model.add(Activation('softmax'))\n",
        "\n",
        "\n",
        "#opt = tf.keras.optimizers.RMSprop(lr=0.0002 , decay=0.0)\n",
        "opt = tf.keras.optimizers.Adam(lr=0.0002 , decay=0.0)\n",
        "#opt = tf.keras.optimizers.RMSprop(lr=0.0001, rho=0.9, epsilon=1e-07, decay=0.0)\n",
        "#opt = tf.keras.optimizers.SGD(lr=0.001, momentum=0.0, decay=0.0, nesterov=True)"
      ],
      "metadata": {
        "id": "g74fXWVAC4Cr",
        "colab": {
          "base_uri": "https://localhost:8080/"
        },
        "outputId": "a82682ef-1c0b-4243-f386-da9579797a2c"
      },
      "execution_count": 11,
      "outputs": [
        {
          "output_type": "stream",
          "name": "stderr",
          "text": [
            "/usr/local/lib/python3.7/dist-packages/keras/optimizer_v2/adam.py:105: UserWarning:\n",
            "\n",
            "The `lr` argument is deprecated, use `learning_rate` instead.\n",
            "\n"
          ]
        }
      ]
    },
    {
      "cell_type": "code",
      "source": [
        "model.summary()"
      ],
      "metadata": {
        "id": "H6ukOxAGC_I4",
        "colab": {
          "base_uri": "https://localhost:8080/"
        },
        "outputId": "ffe903fc-fbeb-45cb-e2e1-3dc4db6a0e76"
      },
      "execution_count": 12,
      "outputs": [
        {
          "output_type": "stream",
          "name": "stdout",
          "text": [
            "Model: \"sequential\"\n",
            "_________________________________________________________________\n",
            " Layer (type)                Output Shape              Param #   \n",
            "=================================================================\n",
            " conv1d (Conv1D)             (None, 40, 128)           1664      \n",
            "                                                                 \n",
            " activation (Activation)     (None, 40, 128)           0         \n",
            "                                                                 \n",
            " dropout (Dropout)           (None, 40, 128)           0         \n",
            "                                                                 \n",
            " max_pooling1d (MaxPooling1D  (None, 8, 128)           0         \n",
            " )                                                               \n",
            "                                                                 \n",
            " conv1d_1 (Conv1D)           (None, 8, 256)            393472    \n",
            "                                                                 \n",
            " activation_1 (Activation)   (None, 8, 256)            0         \n",
            "                                                                 \n",
            " dropout_1 (Dropout)         (None, 8, 256)            0         \n",
            "                                                                 \n",
            " max_pooling1d_1 (MaxPooling  (None, 1, 256)           0         \n",
            " 1D)                                                             \n",
            "                                                                 \n",
            " flatten (Flatten)           (None, 256)               0         \n",
            "                                                                 \n",
            " dense (Dense)               (None, 6)                 1542      \n",
            "                                                                 \n",
            " activation_2 (Activation)   (None, 6)                 0         \n",
            "                                                                 \n",
            "=================================================================\n",
            "Total params: 396,678\n",
            "Trainable params: 396,678\n",
            "Non-trainable params: 0\n",
            "_________________________________________________________________\n"
          ]
        }
      ]
    },
    {
      "cell_type": "code",
      "source": [
        "model.compile(loss='sparse_categorical_crossentropy',\n",
        "              optimizer=opt,\n",
        "              metrics=['accuracy'])"
      ],
      "metadata": {
        "id": "AbMlLNk4DCBM"
      },
      "execution_count": 13,
      "outputs": []
    },
    {
      "cell_type": "code",
      "source": [
        "# Create an Instance of Early Stopping Callback.\n",
        "early_stopping_callback = EarlyStopping(monitor = 'val_loss', patience = 140, mode = 'min', restore_best_weights = True)\n",
        "\n",
        "cnnhistory=model.fit(x_traincnn, y_train, batch_size=16, epochs=500 , shuffle = True, \n",
        "                     validation_data=(X_valid, y_valid) , callbacks = [early_stopping_callback])"
      ],
      "metadata": {
        "id": "RI1v2AuADFhy",
        "colab": {
          "base_uri": "https://localhost:8080/"
        },
        "outputId": "e2b081a8-f071-4870-dd03-cb1a569ee71f"
      },
      "execution_count": 14,
      "outputs": [
        {
          "output_type": "stream",
          "name": "stdout",
          "text": [
            "Epoch 1/500\n",
            "104/104 [==============================] - 2s 6ms/step - loss: 10.2215 - accuracy: 0.1923 - val_loss: 4.3052 - val_accuracy: 0.1932\n",
            "Epoch 2/500\n",
            "104/104 [==============================] - 0s 3ms/step - loss: 8.5701 - accuracy: 0.2231 - val_loss: 2.2362 - val_accuracy: 0.2126\n",
            "Epoch 3/500\n",
            "104/104 [==============================] - 0s 3ms/step - loss: 5.9167 - accuracy: 0.2152 - val_loss: 3.3887 - val_accuracy: 0.2802\n",
            "Epoch 4/500\n",
            "104/104 [==============================] - 0s 4ms/step - loss: 5.3242 - accuracy: 0.2400 - val_loss: 2.4889 - val_accuracy: 0.2174\n",
            "Epoch 5/500\n",
            "104/104 [==============================] - 0s 4ms/step - loss: 4.0760 - accuracy: 0.2654 - val_loss: 1.7241 - val_accuracy: 0.3382\n",
            "Epoch 6/500\n",
            "104/104 [==============================] - 0s 5ms/step - loss: 3.7869 - accuracy: 0.2576 - val_loss: 1.9950 - val_accuracy: 0.2947\n",
            "Epoch 7/500\n",
            "104/104 [==============================] - 0s 5ms/step - loss: 3.1732 - accuracy: 0.2672 - val_loss: 1.7141 - val_accuracy: 0.3285\n",
            "Epoch 8/500\n",
            "104/104 [==============================] - 0s 4ms/step - loss: 2.8093 - accuracy: 0.2878 - val_loss: 1.8139 - val_accuracy: 0.2947\n",
            "Epoch 9/500\n",
            "104/104 [==============================] - 1s 5ms/step - loss: 2.6088 - accuracy: 0.3017 - val_loss: 1.4700 - val_accuracy: 0.4493\n",
            "Epoch 10/500\n",
            "104/104 [==============================] - 0s 4ms/step - loss: 2.3207 - accuracy: 0.3108 - val_loss: 1.6378 - val_accuracy: 0.3237\n",
            "Epoch 11/500\n",
            "104/104 [==============================] - 0s 5ms/step - loss: 2.2263 - accuracy: 0.3132 - val_loss: 1.5717 - val_accuracy: 0.3623\n",
            "Epoch 12/500\n",
            "104/104 [==============================] - 1s 5ms/step - loss: 2.0695 - accuracy: 0.3368 - val_loss: 1.4582 - val_accuracy: 0.3816\n",
            "Epoch 13/500\n",
            "104/104 [==============================] - 0s 5ms/step - loss: 1.9070 - accuracy: 0.3555 - val_loss: 1.4000 - val_accuracy: 0.4686\n",
            "Epoch 14/500\n",
            "104/104 [==============================] - 1s 5ms/step - loss: 1.8620 - accuracy: 0.3833 - val_loss: 1.4074 - val_accuracy: 0.4348\n",
            "Epoch 15/500\n",
            "104/104 [==============================] - 1s 5ms/step - loss: 1.7543 - accuracy: 0.3688 - val_loss: 1.3873 - val_accuracy: 0.4348\n",
            "Epoch 16/500\n",
            "104/104 [==============================] - 1s 5ms/step - loss: 1.7097 - accuracy: 0.3881 - val_loss: 1.2579 - val_accuracy: 0.5604\n",
            "Epoch 17/500\n",
            "104/104 [==============================] - 0s 5ms/step - loss: 1.6153 - accuracy: 0.4008 - val_loss: 1.3524 - val_accuracy: 0.4638\n",
            "Epoch 18/500\n",
            "104/104 [==============================] - 0s 5ms/step - loss: 1.5508 - accuracy: 0.4256 - val_loss: 1.2744 - val_accuracy: 0.5362\n",
            "Epoch 19/500\n",
            "104/104 [==============================] - 1s 5ms/step - loss: 1.5599 - accuracy: 0.4256 - val_loss: 1.3307 - val_accuracy: 0.4493\n",
            "Epoch 20/500\n",
            "104/104 [==============================] - 0s 4ms/step - loss: 1.5018 - accuracy: 0.4196 - val_loss: 1.3201 - val_accuracy: 0.4589\n",
            "Epoch 21/500\n",
            "104/104 [==============================] - 1s 5ms/step - loss: 1.4341 - accuracy: 0.4492 - val_loss: 1.2267 - val_accuracy: 0.5121\n",
            "Epoch 22/500\n",
            "104/104 [==============================] - 1s 5ms/step - loss: 1.4296 - accuracy: 0.4589 - val_loss: 1.2578 - val_accuracy: 0.4638\n",
            "Epoch 23/500\n",
            "104/104 [==============================] - 0s 5ms/step - loss: 1.3319 - accuracy: 0.4637 - val_loss: 1.2432 - val_accuracy: 0.5362\n",
            "Epoch 24/500\n",
            "104/104 [==============================] - 1s 5ms/step - loss: 1.3734 - accuracy: 0.4613 - val_loss: 1.2291 - val_accuracy: 0.4879\n",
            "Epoch 25/500\n",
            "104/104 [==============================] - 0s 4ms/step - loss: 1.3215 - accuracy: 0.4813 - val_loss: 1.1911 - val_accuracy: 0.5749\n",
            "Epoch 26/500\n",
            "104/104 [==============================] - 0s 4ms/step - loss: 1.2979 - accuracy: 0.4927 - val_loss: 1.1541 - val_accuracy: 0.5700\n",
            "Epoch 27/500\n",
            "104/104 [==============================] - 0s 4ms/step - loss: 1.3003 - accuracy: 0.4921 - val_loss: 1.1860 - val_accuracy: 0.5700\n",
            "Epoch 28/500\n",
            "104/104 [==============================] - 0s 3ms/step - loss: 1.2694 - accuracy: 0.4897 - val_loss: 1.1315 - val_accuracy: 0.5700\n",
            "Epoch 29/500\n",
            "104/104 [==============================] - 0s 3ms/step - loss: 1.2488 - accuracy: 0.5079 - val_loss: 1.0999 - val_accuracy: 0.6087\n",
            "Epoch 30/500\n",
            "104/104 [==============================] - 0s 3ms/step - loss: 1.2150 - accuracy: 0.5187 - val_loss: 1.1024 - val_accuracy: 0.5845\n",
            "Epoch 31/500\n",
            "104/104 [==============================] - 0s 3ms/step - loss: 1.2393 - accuracy: 0.5079 - val_loss: 1.0965 - val_accuracy: 0.6184\n",
            "Epoch 32/500\n",
            "104/104 [==============================] - 0s 3ms/step - loss: 1.1954 - accuracy: 0.5345 - val_loss: 1.1379 - val_accuracy: 0.5652\n",
            "Epoch 33/500\n",
            "104/104 [==============================] - 0s 3ms/step - loss: 1.1704 - accuracy: 0.5266 - val_loss: 1.1616 - val_accuracy: 0.5314\n",
            "Epoch 34/500\n",
            "104/104 [==============================] - 0s 3ms/step - loss: 1.1793 - accuracy: 0.5369 - val_loss: 1.0958 - val_accuracy: 0.5556\n",
            "Epoch 35/500\n",
            "104/104 [==============================] - 0s 3ms/step - loss: 1.1895 - accuracy: 0.5320 - val_loss: 1.1008 - val_accuracy: 0.5700\n",
            "Epoch 36/500\n",
            "104/104 [==============================] - 0s 3ms/step - loss: 1.1382 - accuracy: 0.5568 - val_loss: 1.0663 - val_accuracy: 0.6039\n",
            "Epoch 37/500\n",
            "104/104 [==============================] - 0s 3ms/step - loss: 1.1311 - accuracy: 0.5623 - val_loss: 1.0623 - val_accuracy: 0.5942\n",
            "Epoch 38/500\n",
            "104/104 [==============================] - 0s 3ms/step - loss: 1.1383 - accuracy: 0.5514 - val_loss: 1.0228 - val_accuracy: 0.6425\n",
            "Epoch 39/500\n",
            "104/104 [==============================] - 0s 3ms/step - loss: 1.1141 - accuracy: 0.5599 - val_loss: 1.0417 - val_accuracy: 0.5845\n",
            "Epoch 40/500\n",
            "104/104 [==============================] - 0s 3ms/step - loss: 1.1000 - accuracy: 0.5647 - val_loss: 1.0037 - val_accuracy: 0.6812\n",
            "Epoch 41/500\n",
            "104/104 [==============================] - 0s 3ms/step - loss: 1.0515 - accuracy: 0.5828 - val_loss: 1.0117 - val_accuracy: 0.6570\n",
            "Epoch 42/500\n",
            "104/104 [==============================] - 0s 3ms/step - loss: 1.0916 - accuracy: 0.5611 - val_loss: 1.0338 - val_accuracy: 0.6280\n",
            "Epoch 43/500\n",
            "104/104 [==============================] - 0s 3ms/step - loss: 1.0539 - accuracy: 0.5901 - val_loss: 1.0182 - val_accuracy: 0.6232\n",
            "Epoch 44/500\n",
            "104/104 [==============================] - 0s 3ms/step - loss: 1.0252 - accuracy: 0.5804 - val_loss: 0.9602 - val_accuracy: 0.6522\n",
            "Epoch 45/500\n",
            "104/104 [==============================] - 0s 3ms/step - loss: 1.0347 - accuracy: 0.6010 - val_loss: 0.9852 - val_accuracy: 0.6184\n",
            "Epoch 46/500\n",
            "104/104 [==============================] - 0s 3ms/step - loss: 1.0072 - accuracy: 0.5883 - val_loss: 0.9997 - val_accuracy: 0.5990\n",
            "Epoch 47/500\n",
            "104/104 [==============================] - 0s 3ms/step - loss: 0.9994 - accuracy: 0.5925 - val_loss: 0.9432 - val_accuracy: 0.6667\n",
            "Epoch 48/500\n",
            "104/104 [==============================] - 0s 3ms/step - loss: 0.9879 - accuracy: 0.5973 - val_loss: 0.9898 - val_accuracy: 0.5797\n",
            "Epoch 49/500\n",
            "104/104 [==============================] - 0s 3ms/step - loss: 0.9776 - accuracy: 0.6022 - val_loss: 0.9699 - val_accuracy: 0.6425\n",
            "Epoch 50/500\n",
            "104/104 [==============================] - 0s 3ms/step - loss: 0.9957 - accuracy: 0.5901 - val_loss: 0.9420 - val_accuracy: 0.6957\n",
            "Epoch 51/500\n",
            "104/104 [==============================] - 0s 3ms/step - loss: 0.9763 - accuracy: 0.5919 - val_loss: 0.9047 - val_accuracy: 0.6763\n",
            "Epoch 52/500\n",
            "104/104 [==============================] - 0s 3ms/step - loss: 0.9626 - accuracy: 0.6155 - val_loss: 0.9508 - val_accuracy: 0.6329\n",
            "Epoch 53/500\n",
            "104/104 [==============================] - 0s 3ms/step - loss: 0.9607 - accuracy: 0.6209 - val_loss: 0.9353 - val_accuracy: 0.6377\n",
            "Epoch 54/500\n",
            "104/104 [==============================] - 0s 3ms/step - loss: 0.9553 - accuracy: 0.6221 - val_loss: 0.9271 - val_accuracy: 0.6715\n",
            "Epoch 55/500\n",
            "104/104 [==============================] - 0s 3ms/step - loss: 0.9209 - accuracy: 0.6276 - val_loss: 0.9258 - val_accuracy: 0.6618\n",
            "Epoch 56/500\n",
            "104/104 [==============================] - 0s 3ms/step - loss: 0.9124 - accuracy: 0.6391 - val_loss: 0.9042 - val_accuracy: 0.7005\n",
            "Epoch 57/500\n",
            "104/104 [==============================] - 0s 3ms/step - loss: 0.9137 - accuracy: 0.6366 - val_loss: 0.9210 - val_accuracy: 0.6667\n",
            "Epoch 58/500\n",
            "104/104 [==============================] - 0s 3ms/step - loss: 0.9175 - accuracy: 0.6354 - val_loss: 0.9094 - val_accuracy: 0.6908\n",
            "Epoch 59/500\n",
            "104/104 [==============================] - 0s 3ms/step - loss: 0.8901 - accuracy: 0.6439 - val_loss: 0.8778 - val_accuracy: 0.7198\n",
            "Epoch 60/500\n",
            "104/104 [==============================] - 0s 3ms/step - loss: 0.8898 - accuracy: 0.6536 - val_loss: 0.9198 - val_accuracy: 0.6377\n",
            "Epoch 61/500\n",
            "104/104 [==============================] - 0s 3ms/step - loss: 0.8841 - accuracy: 0.6445 - val_loss: 0.9054 - val_accuracy: 0.6329\n",
            "Epoch 62/500\n",
            "104/104 [==============================] - 0s 3ms/step - loss: 0.8521 - accuracy: 0.6723 - val_loss: 0.8651 - val_accuracy: 0.6763\n",
            "Epoch 63/500\n",
            "104/104 [==============================] - 0s 3ms/step - loss: 0.8618 - accuracy: 0.6536 - val_loss: 0.8809 - val_accuracy: 0.6232\n",
            "Epoch 64/500\n",
            "104/104 [==============================] - 0s 3ms/step - loss: 0.8608 - accuracy: 0.6548 - val_loss: 0.8686 - val_accuracy: 0.6667\n",
            "Epoch 65/500\n",
            "104/104 [==============================] - 0s 3ms/step - loss: 0.8506 - accuracy: 0.6663 - val_loss: 0.8930 - val_accuracy: 0.6812\n",
            "Epoch 66/500\n",
            "104/104 [==============================] - 0s 3ms/step - loss: 0.8437 - accuracy: 0.6705 - val_loss: 0.8238 - val_accuracy: 0.7101\n",
            "Epoch 67/500\n",
            "104/104 [==============================] - 0s 3ms/step - loss: 0.8283 - accuracy: 0.6620 - val_loss: 0.8880 - val_accuracy: 0.6570\n",
            "Epoch 68/500\n",
            "104/104 [==============================] - 0s 3ms/step - loss: 0.8315 - accuracy: 0.6741 - val_loss: 0.8526 - val_accuracy: 0.6715\n",
            "Epoch 69/500\n",
            "104/104 [==============================] - 0s 3ms/step - loss: 0.8514 - accuracy: 0.6717 - val_loss: 0.8389 - val_accuracy: 0.6763\n",
            "Epoch 70/500\n",
            "104/104 [==============================] - 0s 3ms/step - loss: 0.7804 - accuracy: 0.6904 - val_loss: 0.8385 - val_accuracy: 0.6473\n",
            "Epoch 71/500\n",
            "104/104 [==============================] - 0s 3ms/step - loss: 0.8015 - accuracy: 0.6832 - val_loss: 0.8112 - val_accuracy: 0.6763\n",
            "Epoch 72/500\n",
            "104/104 [==============================] - 0s 3ms/step - loss: 0.8138 - accuracy: 0.6632 - val_loss: 0.8156 - val_accuracy: 0.7101\n",
            "Epoch 73/500\n",
            "104/104 [==============================] - 0s 3ms/step - loss: 0.8092 - accuracy: 0.6844 - val_loss: 0.8287 - val_accuracy: 0.6425\n",
            "Epoch 74/500\n",
            "104/104 [==============================] - 0s 3ms/step - loss: 0.7917 - accuracy: 0.6886 - val_loss: 0.7915 - val_accuracy: 0.7053\n",
            "Epoch 75/500\n",
            "104/104 [==============================] - 0s 3ms/step - loss: 0.7759 - accuracy: 0.6892 - val_loss: 0.8100 - val_accuracy: 0.6812\n",
            "Epoch 76/500\n",
            "104/104 [==============================] - 0s 3ms/step - loss: 0.7846 - accuracy: 0.6911 - val_loss: 0.7872 - val_accuracy: 0.7053\n",
            "Epoch 77/500\n",
            "104/104 [==============================] - 0s 3ms/step - loss: 0.7559 - accuracy: 0.6917 - val_loss: 0.8247 - val_accuracy: 0.6618\n",
            "Epoch 78/500\n",
            "104/104 [==============================] - 0s 3ms/step - loss: 0.7758 - accuracy: 0.6953 - val_loss: 0.7868 - val_accuracy: 0.7150\n",
            "Epoch 79/500\n",
            "104/104 [==============================] - 0s 3ms/step - loss: 0.7815 - accuracy: 0.6898 - val_loss: 0.7718 - val_accuracy: 0.7391\n",
            "Epoch 80/500\n",
            "104/104 [==============================] - 0s 3ms/step - loss: 0.7452 - accuracy: 0.7001 - val_loss: 0.7710 - val_accuracy: 0.7053\n",
            "Epoch 81/500\n",
            "104/104 [==============================] - 0s 3ms/step - loss: 0.7364 - accuracy: 0.7116 - val_loss: 0.7861 - val_accuracy: 0.7101\n",
            "Epoch 82/500\n",
            "104/104 [==============================] - 0s 3ms/step - loss: 0.7517 - accuracy: 0.7037 - val_loss: 0.7608 - val_accuracy: 0.7101\n",
            "Epoch 83/500\n",
            "104/104 [==============================] - 0s 3ms/step - loss: 0.7062 - accuracy: 0.7213 - val_loss: 0.7583 - val_accuracy: 0.7343\n",
            "Epoch 84/500\n",
            "104/104 [==============================] - 0s 3ms/step - loss: 0.7237 - accuracy: 0.7062 - val_loss: 0.7772 - val_accuracy: 0.6908\n",
            "Epoch 85/500\n",
            "104/104 [==============================] - 0s 3ms/step - loss: 0.7158 - accuracy: 0.7195 - val_loss: 0.7486 - val_accuracy: 0.7198\n",
            "Epoch 86/500\n",
            "104/104 [==============================] - 0s 3ms/step - loss: 0.6958 - accuracy: 0.7406 - val_loss: 0.7454 - val_accuracy: 0.7198\n",
            "Epoch 87/500\n",
            "104/104 [==============================] - 0s 3ms/step - loss: 0.7197 - accuracy: 0.7237 - val_loss: 0.8005 - val_accuracy: 0.6763\n",
            "Epoch 88/500\n",
            "104/104 [==============================] - 0s 3ms/step - loss: 0.6785 - accuracy: 0.7461 - val_loss: 0.7268 - val_accuracy: 0.7391\n",
            "Epoch 89/500\n",
            "104/104 [==============================] - 0s 3ms/step - loss: 0.6903 - accuracy: 0.7352 - val_loss: 0.7312 - val_accuracy: 0.7295\n",
            "Epoch 90/500\n",
            "104/104 [==============================] - 0s 3ms/step - loss: 0.6598 - accuracy: 0.7340 - val_loss: 0.7318 - val_accuracy: 0.7246\n",
            "Epoch 91/500\n",
            "104/104 [==============================] - 0s 3ms/step - loss: 0.6907 - accuracy: 0.7340 - val_loss: 0.7229 - val_accuracy: 0.7440\n",
            "Epoch 92/500\n",
            "104/104 [==============================] - 0s 3ms/step - loss: 0.6750 - accuracy: 0.7479 - val_loss: 0.7565 - val_accuracy: 0.7005\n",
            "Epoch 93/500\n",
            "104/104 [==============================] - 0s 3ms/step - loss: 0.6552 - accuracy: 0.7503 - val_loss: 0.7044 - val_accuracy: 0.7295\n",
            "Epoch 94/500\n",
            "104/104 [==============================] - 0s 3ms/step - loss: 0.6651 - accuracy: 0.7449 - val_loss: 0.7392 - val_accuracy: 0.7198\n",
            "Epoch 95/500\n",
            "104/104 [==============================] - 0s 3ms/step - loss: 0.6627 - accuracy: 0.7394 - val_loss: 0.6991 - val_accuracy: 0.7391\n",
            "Epoch 96/500\n",
            "104/104 [==============================] - 0s 3ms/step - loss: 0.6665 - accuracy: 0.7406 - val_loss: 0.6969 - val_accuracy: 0.7295\n",
            "Epoch 97/500\n",
            "104/104 [==============================] - 0s 3ms/step - loss: 0.6438 - accuracy: 0.7539 - val_loss: 0.6975 - val_accuracy: 0.7633\n",
            "Epoch 98/500\n",
            "104/104 [==============================] - 0s 3ms/step - loss: 0.6527 - accuracy: 0.7388 - val_loss: 0.7040 - val_accuracy: 0.7391\n",
            "Epoch 99/500\n",
            "104/104 [==============================] - 0s 5ms/step - loss: 0.6634 - accuracy: 0.7358 - val_loss: 0.6934 - val_accuracy: 0.7440\n",
            "Epoch 100/500\n",
            "104/104 [==============================] - 0s 3ms/step - loss: 0.6430 - accuracy: 0.7563 - val_loss: 0.7456 - val_accuracy: 0.6908\n",
            "Epoch 101/500\n",
            "104/104 [==============================] - 0s 4ms/step - loss: 0.6269 - accuracy: 0.7491 - val_loss: 0.7255 - val_accuracy: 0.7246\n",
            "Epoch 102/500\n",
            "104/104 [==============================] - 0s 4ms/step - loss: 0.6106 - accuracy: 0.7618 - val_loss: 0.7008 - val_accuracy: 0.7246\n",
            "Epoch 103/500\n",
            "104/104 [==============================] - 0s 4ms/step - loss: 0.6100 - accuracy: 0.7582 - val_loss: 0.6880 - val_accuracy: 0.7295\n",
            "Epoch 104/500\n",
            "104/104 [==============================] - 0s 4ms/step - loss: 0.6170 - accuracy: 0.7539 - val_loss: 0.7207 - val_accuracy: 0.7198\n",
            "Epoch 105/500\n",
            "104/104 [==============================] - 0s 3ms/step - loss: 0.6333 - accuracy: 0.7473 - val_loss: 0.7046 - val_accuracy: 0.7343\n",
            "Epoch 106/500\n",
            "104/104 [==============================] - 0s 3ms/step - loss: 0.5914 - accuracy: 0.7775 - val_loss: 0.6824 - val_accuracy: 0.7101\n",
            "Epoch 107/500\n",
            "104/104 [==============================] - 0s 3ms/step - loss: 0.6091 - accuracy: 0.7660 - val_loss: 0.6714 - val_accuracy: 0.7391\n",
            "Epoch 108/500\n",
            "104/104 [==============================] - 0s 3ms/step - loss: 0.5659 - accuracy: 0.7763 - val_loss: 0.6642 - val_accuracy: 0.7391\n",
            "Epoch 109/500\n",
            "104/104 [==============================] - 0s 3ms/step - loss: 0.5923 - accuracy: 0.7690 - val_loss: 0.6622 - val_accuracy: 0.7681\n",
            "Epoch 110/500\n",
            "104/104 [==============================] - 0s 3ms/step - loss: 0.5709 - accuracy: 0.7848 - val_loss: 0.6680 - val_accuracy: 0.7681\n",
            "Epoch 111/500\n",
            "104/104 [==============================] - 0s 3ms/step - loss: 0.5671 - accuracy: 0.7739 - val_loss: 0.6887 - val_accuracy: 0.7440\n",
            "Epoch 112/500\n",
            "104/104 [==============================] - 0s 3ms/step - loss: 0.5755 - accuracy: 0.7763 - val_loss: 0.6640 - val_accuracy: 0.7729\n",
            "Epoch 113/500\n",
            "104/104 [==============================] - 0s 3ms/step - loss: 0.5489 - accuracy: 0.8005 - val_loss: 0.6595 - val_accuracy: 0.7585\n",
            "Epoch 114/500\n",
            "104/104 [==============================] - 0s 3ms/step - loss: 0.5584 - accuracy: 0.7878 - val_loss: 0.6951 - val_accuracy: 0.7488\n",
            "Epoch 115/500\n",
            "104/104 [==============================] - 0s 3ms/step - loss: 0.5426 - accuracy: 0.7854 - val_loss: 0.6418 - val_accuracy: 0.7488\n",
            "Epoch 116/500\n",
            "104/104 [==============================] - 0s 3ms/step - loss: 0.5284 - accuracy: 0.8017 - val_loss: 0.6241 - val_accuracy: 0.7778\n",
            "Epoch 117/500\n",
            "104/104 [==============================] - 0s 3ms/step - loss: 0.5335 - accuracy: 0.7848 - val_loss: 0.6766 - val_accuracy: 0.7005\n",
            "Epoch 118/500\n",
            "104/104 [==============================] - 0s 3ms/step - loss: 0.5329 - accuracy: 0.7866 - val_loss: 0.6259 - val_accuracy: 0.7729\n",
            "Epoch 119/500\n",
            "104/104 [==============================] - 0s 3ms/step - loss: 0.5361 - accuracy: 0.7938 - val_loss: 0.6818 - val_accuracy: 0.7246\n",
            "Epoch 120/500\n",
            "104/104 [==============================] - 0s 3ms/step - loss: 0.5205 - accuracy: 0.8071 - val_loss: 0.6815 - val_accuracy: 0.7391\n",
            "Epoch 121/500\n",
            "104/104 [==============================] - 0s 3ms/step - loss: 0.5341 - accuracy: 0.8023 - val_loss: 0.6335 - val_accuracy: 0.7585\n",
            "Epoch 122/500\n",
            "104/104 [==============================] - 0s 3ms/step - loss: 0.5264 - accuracy: 0.7932 - val_loss: 0.6426 - val_accuracy: 0.7729\n",
            "Epoch 123/500\n",
            "104/104 [==============================] - 0s 3ms/step - loss: 0.5028 - accuracy: 0.7950 - val_loss: 0.6483 - val_accuracy: 0.7391\n",
            "Epoch 124/500\n",
            "104/104 [==============================] - 0s 3ms/step - loss: 0.5142 - accuracy: 0.8011 - val_loss: 0.6306 - val_accuracy: 0.7681\n",
            "Epoch 125/500\n",
            "104/104 [==============================] - 0s 3ms/step - loss: 0.5229 - accuracy: 0.8041 - val_loss: 0.6439 - val_accuracy: 0.7295\n",
            "Epoch 126/500\n",
            "104/104 [==============================] - 0s 3ms/step - loss: 0.5074 - accuracy: 0.8089 - val_loss: 0.6233 - val_accuracy: 0.7585\n",
            "Epoch 127/500\n",
            "104/104 [==============================] - 0s 3ms/step - loss: 0.5022 - accuracy: 0.7999 - val_loss: 0.6120 - val_accuracy: 0.7778\n",
            "Epoch 128/500\n",
            "104/104 [==============================] - 0s 3ms/step - loss: 0.4905 - accuracy: 0.8126 - val_loss: 0.6119 - val_accuracy: 0.7488\n",
            "Epoch 129/500\n",
            "104/104 [==============================] - 0s 3ms/step - loss: 0.4979 - accuracy: 0.8108 - val_loss: 0.6500 - val_accuracy: 0.7585\n",
            "Epoch 130/500\n",
            "104/104 [==============================] - 0s 3ms/step - loss: 0.4943 - accuracy: 0.8096 - val_loss: 0.6008 - val_accuracy: 0.7874\n",
            "Epoch 131/500\n",
            "104/104 [==============================] - 0s 3ms/step - loss: 0.4800 - accuracy: 0.8168 - val_loss: 0.6187 - val_accuracy: 0.7729\n",
            "Epoch 132/500\n",
            "104/104 [==============================] - 0s 3ms/step - loss: 0.4580 - accuracy: 0.8253 - val_loss: 0.6134 - val_accuracy: 0.7778\n",
            "Epoch 133/500\n",
            "104/104 [==============================] - 0s 3ms/step - loss: 0.4905 - accuracy: 0.8065 - val_loss: 0.6216 - val_accuracy: 0.7536\n",
            "Epoch 134/500\n",
            "104/104 [==============================] - 0s 3ms/step - loss: 0.4788 - accuracy: 0.8126 - val_loss: 0.6798 - val_accuracy: 0.7391\n",
            "Epoch 135/500\n",
            "104/104 [==============================] - 0s 3ms/step - loss: 0.4680 - accuracy: 0.8259 - val_loss: 0.5964 - val_accuracy: 0.8164\n",
            "Epoch 136/500\n",
            "104/104 [==============================] - 0s 3ms/step - loss: 0.4644 - accuracy: 0.8192 - val_loss: 0.6290 - val_accuracy: 0.7391\n",
            "Epoch 137/500\n",
            "104/104 [==============================] - 0s 3ms/step - loss: 0.4553 - accuracy: 0.8283 - val_loss: 0.6001 - val_accuracy: 0.7923\n",
            "Epoch 138/500\n",
            "104/104 [==============================] - 0s 3ms/step - loss: 0.4370 - accuracy: 0.8253 - val_loss: 0.6007 - val_accuracy: 0.7923\n",
            "Epoch 139/500\n",
            "104/104 [==============================] - 0s 3ms/step - loss: 0.4593 - accuracy: 0.8216 - val_loss: 0.5990 - val_accuracy: 0.7874\n",
            "Epoch 140/500\n",
            "104/104 [==============================] - 0s 3ms/step - loss: 0.4407 - accuracy: 0.8325 - val_loss: 0.5796 - val_accuracy: 0.7923\n",
            "Epoch 141/500\n",
            "104/104 [==============================] - 0s 3ms/step - loss: 0.4318 - accuracy: 0.8337 - val_loss: 0.5785 - val_accuracy: 0.7729\n",
            "Epoch 142/500\n",
            "104/104 [==============================] - 0s 3ms/step - loss: 0.4134 - accuracy: 0.8343 - val_loss: 0.5982 - val_accuracy: 0.7874\n",
            "Epoch 143/500\n",
            "104/104 [==============================] - 0s 3ms/step - loss: 0.4224 - accuracy: 0.8386 - val_loss: 0.5910 - val_accuracy: 0.7729\n",
            "Epoch 144/500\n",
            "104/104 [==============================] - 0s 3ms/step - loss: 0.4265 - accuracy: 0.8398 - val_loss: 0.6099 - val_accuracy: 0.7874\n",
            "Epoch 145/500\n",
            "104/104 [==============================] - 0s 3ms/step - loss: 0.4016 - accuracy: 0.8446 - val_loss: 0.6063 - val_accuracy: 0.7681\n",
            "Epoch 146/500\n",
            "104/104 [==============================] - 0s 3ms/step - loss: 0.4015 - accuracy: 0.8567 - val_loss: 0.6075 - val_accuracy: 0.7536\n",
            "Epoch 147/500\n",
            "104/104 [==============================] - 0s 3ms/step - loss: 0.4082 - accuracy: 0.8567 - val_loss: 0.5672 - val_accuracy: 0.7971\n",
            "Epoch 148/500\n",
            "104/104 [==============================] - 0s 3ms/step - loss: 0.4166 - accuracy: 0.8392 - val_loss: 0.5607 - val_accuracy: 0.8261\n",
            "Epoch 149/500\n",
            "104/104 [==============================] - 0s 3ms/step - loss: 0.4078 - accuracy: 0.8489 - val_loss: 0.5707 - val_accuracy: 0.7681\n",
            "Epoch 150/500\n",
            "104/104 [==============================] - 0s 3ms/step - loss: 0.4210 - accuracy: 0.8380 - val_loss: 0.6060 - val_accuracy: 0.7729\n",
            "Epoch 151/500\n",
            "104/104 [==============================] - 0s 3ms/step - loss: 0.4161 - accuracy: 0.8410 - val_loss: 0.6051 - val_accuracy: 0.7681\n",
            "Epoch 152/500\n",
            "104/104 [==============================] - 0s 3ms/step - loss: 0.4115 - accuracy: 0.8374 - val_loss: 0.5711 - val_accuracy: 0.8068\n",
            "Epoch 153/500\n",
            "104/104 [==============================] - 0s 3ms/step - loss: 0.4027 - accuracy: 0.8519 - val_loss: 0.6106 - val_accuracy: 0.7633\n",
            "Epoch 154/500\n",
            "104/104 [==============================] - 0s 3ms/step - loss: 0.3873 - accuracy: 0.8440 - val_loss: 0.6066 - val_accuracy: 0.7826\n",
            "Epoch 155/500\n",
            "104/104 [==============================] - 0s 3ms/step - loss: 0.3823 - accuracy: 0.8658 - val_loss: 0.5817 - val_accuracy: 0.7681\n",
            "Epoch 156/500\n",
            "104/104 [==============================] - 0s 3ms/step - loss: 0.4041 - accuracy: 0.8446 - val_loss: 0.5770 - val_accuracy: 0.7923\n",
            "Epoch 157/500\n",
            "104/104 [==============================] - 0s 3ms/step - loss: 0.3880 - accuracy: 0.8603 - val_loss: 0.5825 - val_accuracy: 0.8068\n",
            "Epoch 158/500\n",
            "104/104 [==============================] - 0s 3ms/step - loss: 0.3690 - accuracy: 0.8561 - val_loss: 0.5612 - val_accuracy: 0.7874\n",
            "Epoch 159/500\n",
            "104/104 [==============================] - 0s 3ms/step - loss: 0.3519 - accuracy: 0.8724 - val_loss: 0.5868 - val_accuracy: 0.7874\n",
            "Epoch 160/500\n",
            "104/104 [==============================] - 0s 3ms/step - loss: 0.3721 - accuracy: 0.8555 - val_loss: 0.5627 - val_accuracy: 0.7778\n",
            "Epoch 161/500\n",
            "104/104 [==============================] - 0s 3ms/step - loss: 0.3595 - accuracy: 0.8700 - val_loss: 0.5683 - val_accuracy: 0.7681\n",
            "Epoch 162/500\n",
            "104/104 [==============================] - 0s 3ms/step - loss: 0.3418 - accuracy: 0.8730 - val_loss: 0.5344 - val_accuracy: 0.8019\n",
            "Epoch 163/500\n",
            "104/104 [==============================] - 0s 3ms/step - loss: 0.3530 - accuracy: 0.8700 - val_loss: 0.5437 - val_accuracy: 0.8019\n",
            "Epoch 164/500\n",
            "104/104 [==============================] - 0s 3ms/step - loss: 0.3656 - accuracy: 0.8688 - val_loss: 0.5668 - val_accuracy: 0.7729\n",
            "Epoch 165/500\n",
            "104/104 [==============================] - 0s 3ms/step - loss: 0.3522 - accuracy: 0.8712 - val_loss: 0.5542 - val_accuracy: 0.7874\n",
            "Epoch 166/500\n",
            "104/104 [==============================] - 0s 3ms/step - loss: 0.3529 - accuracy: 0.8682 - val_loss: 0.5711 - val_accuracy: 0.7923\n",
            "Epoch 167/500\n",
            "104/104 [==============================] - 0s 3ms/step - loss: 0.3418 - accuracy: 0.8694 - val_loss: 0.5441 - val_accuracy: 0.7826\n",
            "Epoch 168/500\n",
            "104/104 [==============================] - 0s 3ms/step - loss: 0.3399 - accuracy: 0.8646 - val_loss: 0.5552 - val_accuracy: 0.7826\n",
            "Epoch 169/500\n",
            "104/104 [==============================] - 0s 3ms/step - loss: 0.3566 - accuracy: 0.8694 - val_loss: 0.5342 - val_accuracy: 0.7971\n",
            "Epoch 170/500\n",
            "104/104 [==============================] - 0s 3ms/step - loss: 0.3309 - accuracy: 0.8815 - val_loss: 0.5773 - val_accuracy: 0.7778\n",
            "Epoch 171/500\n",
            "104/104 [==============================] - 0s 3ms/step - loss: 0.3365 - accuracy: 0.8682 - val_loss: 0.5652 - val_accuracy: 0.8164\n",
            "Epoch 172/500\n",
            "104/104 [==============================] - 0s 3ms/step - loss: 0.3412 - accuracy: 0.8779 - val_loss: 0.6232 - val_accuracy: 0.7536\n",
            "Epoch 173/500\n",
            "104/104 [==============================] - 0s 3ms/step - loss: 0.3508 - accuracy: 0.8682 - val_loss: 0.5412 - val_accuracy: 0.7971\n",
            "Epoch 174/500\n",
            "104/104 [==============================] - 0s 3ms/step - loss: 0.3353 - accuracy: 0.8761 - val_loss: 0.5267 - val_accuracy: 0.8164\n",
            "Epoch 175/500\n",
            "104/104 [==============================] - 0s 3ms/step - loss: 0.3312 - accuracy: 0.8718 - val_loss: 0.5312 - val_accuracy: 0.8164\n",
            "Epoch 176/500\n",
            "104/104 [==============================] - 0s 3ms/step - loss: 0.3227 - accuracy: 0.8803 - val_loss: 0.5389 - val_accuracy: 0.8019\n",
            "Epoch 177/500\n",
            "104/104 [==============================] - 0s 3ms/step - loss: 0.3423 - accuracy: 0.8682 - val_loss: 0.6010 - val_accuracy: 0.7681\n",
            "Epoch 178/500\n",
            "104/104 [==============================] - 0s 3ms/step - loss: 0.3439 - accuracy: 0.8839 - val_loss: 0.5751 - val_accuracy: 0.7488\n",
            "Epoch 179/500\n",
            "104/104 [==============================] - 0s 3ms/step - loss: 0.3150 - accuracy: 0.8888 - val_loss: 0.5138 - val_accuracy: 0.7971\n",
            "Epoch 180/500\n",
            "104/104 [==============================] - 0s 3ms/step - loss: 0.3339 - accuracy: 0.8827 - val_loss: 0.5322 - val_accuracy: 0.8116\n",
            "Epoch 181/500\n",
            "104/104 [==============================] - 0s 3ms/step - loss: 0.3334 - accuracy: 0.8785 - val_loss: 0.5448 - val_accuracy: 0.7971\n",
            "Epoch 182/500\n",
            "104/104 [==============================] - 0s 3ms/step - loss: 0.3129 - accuracy: 0.8815 - val_loss: 0.5416 - val_accuracy: 0.8068\n",
            "Epoch 183/500\n",
            "104/104 [==============================] - 0s 3ms/step - loss: 0.2979 - accuracy: 0.8912 - val_loss: 0.5687 - val_accuracy: 0.7826\n",
            "Epoch 184/500\n",
            "104/104 [==============================] - 0s 3ms/step - loss: 0.3086 - accuracy: 0.8845 - val_loss: 0.5291 - val_accuracy: 0.8068\n",
            "Epoch 185/500\n",
            "104/104 [==============================] - 0s 3ms/step - loss: 0.3282 - accuracy: 0.8869 - val_loss: 0.5304 - val_accuracy: 0.7778\n",
            "Epoch 186/500\n",
            "104/104 [==============================] - 0s 3ms/step - loss: 0.3010 - accuracy: 0.8930 - val_loss: 0.5519 - val_accuracy: 0.7681\n",
            "Epoch 187/500\n",
            "104/104 [==============================] - 0s 3ms/step - loss: 0.3253 - accuracy: 0.8767 - val_loss: 0.5479 - val_accuracy: 0.7826\n",
            "Epoch 188/500\n",
            "104/104 [==============================] - 0s 3ms/step - loss: 0.2829 - accuracy: 0.9015 - val_loss: 0.5083 - val_accuracy: 0.7874\n",
            "Epoch 189/500\n",
            "104/104 [==============================] - 0s 3ms/step - loss: 0.3111 - accuracy: 0.8881 - val_loss: 0.5180 - val_accuracy: 0.8116\n",
            "Epoch 190/500\n",
            "104/104 [==============================] - 0s 3ms/step - loss: 0.2926 - accuracy: 0.8881 - val_loss: 0.5053 - val_accuracy: 0.8116\n",
            "Epoch 191/500\n",
            "104/104 [==============================] - 0s 3ms/step - loss: 0.2804 - accuracy: 0.8924 - val_loss: 0.5347 - val_accuracy: 0.7874\n",
            "Epoch 192/500\n",
            "104/104 [==============================] - 0s 3ms/step - loss: 0.2850 - accuracy: 0.8863 - val_loss: 0.4890 - val_accuracy: 0.7874\n",
            "Epoch 193/500\n",
            "104/104 [==============================] - 0s 3ms/step - loss: 0.3046 - accuracy: 0.8791 - val_loss: 0.5283 - val_accuracy: 0.7874\n",
            "Epoch 194/500\n",
            "104/104 [==============================] - 0s 3ms/step - loss: 0.3047 - accuracy: 0.8815 - val_loss: 0.5093 - val_accuracy: 0.8116\n",
            "Epoch 195/500\n",
            "104/104 [==============================] - 0s 3ms/step - loss: 0.3157 - accuracy: 0.8839 - val_loss: 0.5262 - val_accuracy: 0.7778\n",
            "Epoch 196/500\n",
            "104/104 [==============================] - 0s 3ms/step - loss: 0.2846 - accuracy: 0.8996 - val_loss: 0.5299 - val_accuracy: 0.7923\n",
            "Epoch 197/500\n",
            "104/104 [==============================] - 0s 3ms/step - loss: 0.2609 - accuracy: 0.9093 - val_loss: 0.5046 - val_accuracy: 0.8116\n",
            "Epoch 198/500\n",
            "104/104 [==============================] - 0s 3ms/step - loss: 0.2958 - accuracy: 0.8833 - val_loss: 0.5319 - val_accuracy: 0.8019\n",
            "Epoch 199/500\n",
            "104/104 [==============================] - 0s 3ms/step - loss: 0.2722 - accuracy: 0.8978 - val_loss: 0.5031 - val_accuracy: 0.8019\n",
            "Epoch 200/500\n",
            "104/104 [==============================] - 0s 3ms/step - loss: 0.2742 - accuracy: 0.8966 - val_loss: 0.5329 - val_accuracy: 0.7729\n",
            "Epoch 201/500\n",
            "104/104 [==============================] - 0s 3ms/step - loss: 0.2638 - accuracy: 0.8984 - val_loss: 0.5094 - val_accuracy: 0.8261\n",
            "Epoch 202/500\n",
            "104/104 [==============================] - 0s 3ms/step - loss: 0.2601 - accuracy: 0.9057 - val_loss: 0.5005 - val_accuracy: 0.8068\n",
            "Epoch 203/500\n",
            "104/104 [==============================] - 0s 3ms/step - loss: 0.2737 - accuracy: 0.8930 - val_loss: 0.5597 - val_accuracy: 0.8068\n",
            "Epoch 204/500\n",
            "104/104 [==============================] - 0s 3ms/step - loss: 0.2596 - accuracy: 0.9099 - val_loss: 0.5349 - val_accuracy: 0.8019\n",
            "Epoch 205/500\n",
            "104/104 [==============================] - 0s 3ms/step - loss: 0.2605 - accuracy: 0.9027 - val_loss: 0.5323 - val_accuracy: 0.7923\n",
            "Epoch 206/500\n",
            "104/104 [==============================] - 0s 3ms/step - loss: 0.2513 - accuracy: 0.9075 - val_loss: 0.5248 - val_accuracy: 0.8019\n",
            "Epoch 207/500\n",
            "104/104 [==============================] - 0s 3ms/step - loss: 0.2771 - accuracy: 0.8936 - val_loss: 0.5021 - val_accuracy: 0.7971\n",
            "Epoch 208/500\n",
            "104/104 [==============================] - 0s 3ms/step - loss: 0.2628 - accuracy: 0.8966 - val_loss: 0.5370 - val_accuracy: 0.7874\n",
            "Epoch 209/500\n",
            "104/104 [==============================] - 0s 3ms/step - loss: 0.2628 - accuracy: 0.9021 - val_loss: 0.4924 - val_accuracy: 0.7971\n",
            "Epoch 210/500\n",
            "104/104 [==============================] - 0s 3ms/step - loss: 0.2446 - accuracy: 0.9111 - val_loss: 0.5094 - val_accuracy: 0.8213\n",
            "Epoch 211/500\n",
            "104/104 [==============================] - 0s 3ms/step - loss: 0.2370 - accuracy: 0.9099 - val_loss: 0.5238 - val_accuracy: 0.7971\n",
            "Epoch 212/500\n",
            "104/104 [==============================] - 0s 3ms/step - loss: 0.2474 - accuracy: 0.9081 - val_loss: 0.4889 - val_accuracy: 0.8213\n",
            "Epoch 213/500\n",
            "104/104 [==============================] - 0s 3ms/step - loss: 0.2811 - accuracy: 0.8924 - val_loss: 0.5048 - val_accuracy: 0.7923\n",
            "Epoch 214/500\n",
            "104/104 [==============================] - 0s 3ms/step - loss: 0.2445 - accuracy: 0.9063 - val_loss: 0.5436 - val_accuracy: 0.7874\n",
            "Epoch 215/500\n",
            "104/104 [==============================] - 0s 3ms/step - loss: 0.2301 - accuracy: 0.9214 - val_loss: 0.4992 - val_accuracy: 0.8261\n",
            "Epoch 216/500\n",
            "104/104 [==============================] - 0s 3ms/step - loss: 0.2472 - accuracy: 0.9087 - val_loss: 0.5110 - val_accuracy: 0.8019\n",
            "Epoch 217/500\n",
            "104/104 [==============================] - 0s 3ms/step - loss: 0.2296 - accuracy: 0.9172 - val_loss: 0.5118 - val_accuracy: 0.8116\n",
            "Epoch 218/500\n",
            "104/104 [==============================] - 0s 3ms/step - loss: 0.2198 - accuracy: 0.9202 - val_loss: 0.4934 - val_accuracy: 0.7923\n",
            "Epoch 219/500\n",
            "104/104 [==============================] - 0s 3ms/step - loss: 0.2255 - accuracy: 0.9184 - val_loss: 0.5018 - val_accuracy: 0.7971\n",
            "Epoch 220/500\n",
            "104/104 [==============================] - 0s 3ms/step - loss: 0.2302 - accuracy: 0.9172 - val_loss: 0.4994 - val_accuracy: 0.8164\n",
            "Epoch 221/500\n",
            "104/104 [==============================] - 0s 3ms/step - loss: 0.2431 - accuracy: 0.9051 - val_loss: 0.4999 - val_accuracy: 0.8019\n",
            "Epoch 222/500\n",
            "104/104 [==============================] - 0s 3ms/step - loss: 0.2455 - accuracy: 0.9117 - val_loss: 0.5093 - val_accuracy: 0.8019\n",
            "Epoch 223/500\n",
            "104/104 [==============================] - 0s 3ms/step - loss: 0.2110 - accuracy: 0.9220 - val_loss: 0.4846 - val_accuracy: 0.8116\n",
            "Epoch 224/500\n",
            "104/104 [==============================] - 0s 3ms/step - loss: 0.2150 - accuracy: 0.9208 - val_loss: 0.4897 - val_accuracy: 0.8164\n",
            "Epoch 225/500\n",
            "104/104 [==============================] - 0s 3ms/step - loss: 0.2252 - accuracy: 0.9160 - val_loss: 0.4963 - val_accuracy: 0.8164\n",
            "Epoch 226/500\n",
            "104/104 [==============================] - 0s 3ms/step - loss: 0.2215 - accuracy: 0.9196 - val_loss: 0.5158 - val_accuracy: 0.7971\n",
            "Epoch 227/500\n",
            "104/104 [==============================] - 0s 3ms/step - loss: 0.2344 - accuracy: 0.9202 - val_loss: 0.4926 - val_accuracy: 0.8357\n",
            "Epoch 228/500\n",
            "104/104 [==============================] - 0s 3ms/step - loss: 0.2236 - accuracy: 0.9202 - val_loss: 0.5239 - val_accuracy: 0.7826\n",
            "Epoch 229/500\n",
            "104/104 [==============================] - 0s 3ms/step - loss: 0.2482 - accuracy: 0.9081 - val_loss: 0.5101 - val_accuracy: 0.8164\n",
            "Epoch 230/500\n",
            "104/104 [==============================] - 0s 3ms/step - loss: 0.2150 - accuracy: 0.9256 - val_loss: 0.4736 - val_accuracy: 0.8164\n",
            "Epoch 231/500\n",
            "104/104 [==============================] - 0s 3ms/step - loss: 0.2208 - accuracy: 0.9184 - val_loss: 0.4951 - val_accuracy: 0.8164\n",
            "Epoch 232/500\n",
            "104/104 [==============================] - 0s 3ms/step - loss: 0.2318 - accuracy: 0.9196 - val_loss: 0.5269 - val_accuracy: 0.8068\n",
            "Epoch 233/500\n",
            "104/104 [==============================] - 0s 3ms/step - loss: 0.2282 - accuracy: 0.9178 - val_loss: 0.4864 - val_accuracy: 0.8019\n",
            "Epoch 234/500\n",
            "104/104 [==============================] - 0s 3ms/step - loss: 0.2193 - accuracy: 0.9232 - val_loss: 0.4991 - val_accuracy: 0.8261\n",
            "Epoch 235/500\n",
            "104/104 [==============================] - 0s 3ms/step - loss: 0.2147 - accuracy: 0.9214 - val_loss: 0.4820 - val_accuracy: 0.8309\n",
            "Epoch 236/500\n",
            "104/104 [==============================] - 0s 3ms/step - loss: 0.2106 - accuracy: 0.9190 - val_loss: 0.5031 - val_accuracy: 0.8309\n",
            "Epoch 237/500\n",
            "104/104 [==============================] - 0s 3ms/step - loss: 0.2263 - accuracy: 0.9208 - val_loss: 0.5324 - val_accuracy: 0.8068\n",
            "Epoch 238/500\n",
            "104/104 [==============================] - 0s 3ms/step - loss: 0.2012 - accuracy: 0.9281 - val_loss: 0.4729 - val_accuracy: 0.8164\n",
            "Epoch 239/500\n",
            "104/104 [==============================] - 0s 3ms/step - loss: 0.2151 - accuracy: 0.9244 - val_loss: 0.4872 - val_accuracy: 0.8261\n",
            "Epoch 240/500\n",
            "104/104 [==============================] - 0s 3ms/step - loss: 0.2123 - accuracy: 0.9190 - val_loss: 0.5048 - val_accuracy: 0.8213\n",
            "Epoch 241/500\n",
            "104/104 [==============================] - 0s 3ms/step - loss: 0.2338 - accuracy: 0.9111 - val_loss: 0.4575 - val_accuracy: 0.8502\n",
            "Epoch 242/500\n",
            "104/104 [==============================] - 0s 3ms/step - loss: 0.2176 - accuracy: 0.9172 - val_loss: 0.5182 - val_accuracy: 0.8261\n",
            "Epoch 243/500\n",
            "104/104 [==============================] - 0s 3ms/step - loss: 0.2123 - accuracy: 0.9293 - val_loss: 0.4958 - val_accuracy: 0.8261\n",
            "Epoch 244/500\n",
            "104/104 [==============================] - 0s 3ms/step - loss: 0.2002 - accuracy: 0.9262 - val_loss: 0.5058 - val_accuracy: 0.8019\n",
            "Epoch 245/500\n",
            "104/104 [==============================] - 0s 3ms/step - loss: 0.1897 - accuracy: 0.9323 - val_loss: 0.5002 - val_accuracy: 0.8164\n",
            "Epoch 246/500\n",
            "104/104 [==============================] - 0s 3ms/step - loss: 0.1693 - accuracy: 0.9426 - val_loss: 0.4963 - val_accuracy: 0.8019\n",
            "Epoch 247/500\n",
            "104/104 [==============================] - 0s 3ms/step - loss: 0.1955 - accuracy: 0.9299 - val_loss: 0.4845 - val_accuracy: 0.7923\n",
            "Epoch 248/500\n",
            "104/104 [==============================] - 0s 3ms/step - loss: 0.1777 - accuracy: 0.9365 - val_loss: 0.5237 - val_accuracy: 0.8213\n",
            "Epoch 249/500\n",
            "104/104 [==============================] - 0s 3ms/step - loss: 0.2138 - accuracy: 0.9256 - val_loss: 0.5118 - val_accuracy: 0.8019\n",
            "Epoch 250/500\n",
            "104/104 [==============================] - 0s 3ms/step - loss: 0.2147 - accuracy: 0.9166 - val_loss: 0.4801 - val_accuracy: 0.8357\n",
            "Epoch 251/500\n",
            "104/104 [==============================] - 0s 3ms/step - loss: 0.1932 - accuracy: 0.9317 - val_loss: 0.5203 - val_accuracy: 0.7923\n",
            "Epoch 252/500\n",
            "104/104 [==============================] - 0s 3ms/step - loss: 0.1918 - accuracy: 0.9293 - val_loss: 0.5041 - val_accuracy: 0.8068\n",
            "Epoch 253/500\n",
            "104/104 [==============================] - 0s 3ms/step - loss: 0.1960 - accuracy: 0.9311 - val_loss: 0.4764 - val_accuracy: 0.8164\n",
            "Epoch 254/500\n",
            "104/104 [==============================] - 0s 3ms/step - loss: 0.1985 - accuracy: 0.9196 - val_loss: 0.4826 - val_accuracy: 0.8068\n",
            "Epoch 255/500\n",
            "104/104 [==============================] - 0s 3ms/step - loss: 0.1844 - accuracy: 0.9317 - val_loss: 0.4920 - val_accuracy: 0.7971\n",
            "Epoch 256/500\n",
            "104/104 [==============================] - 0s 4ms/step - loss: 0.1826 - accuracy: 0.9305 - val_loss: 0.4816 - val_accuracy: 0.8068\n",
            "Epoch 257/500\n",
            "104/104 [==============================] - 0s 3ms/step - loss: 0.1971 - accuracy: 0.9323 - val_loss: 0.5007 - val_accuracy: 0.8068\n",
            "Epoch 258/500\n",
            "104/104 [==============================] - 0s 3ms/step - loss: 0.1830 - accuracy: 0.9335 - val_loss: 0.5200 - val_accuracy: 0.7971\n",
            "Epoch 259/500\n",
            "104/104 [==============================] - 0s 3ms/step - loss: 0.1853 - accuracy: 0.9341 - val_loss: 0.4571 - val_accuracy: 0.8406\n",
            "Epoch 260/500\n",
            "104/104 [==============================] - 0s 3ms/step - loss: 0.1845 - accuracy: 0.9371 - val_loss: 0.4704 - val_accuracy: 0.8164\n",
            "Epoch 261/500\n",
            "104/104 [==============================] - 0s 3ms/step - loss: 0.1822 - accuracy: 0.9359 - val_loss: 0.4972 - val_accuracy: 0.8164\n",
            "Epoch 262/500\n",
            "104/104 [==============================] - 0s 3ms/step - loss: 0.1782 - accuracy: 0.9347 - val_loss: 0.5016 - val_accuracy: 0.8261\n",
            "Epoch 263/500\n",
            "104/104 [==============================] - 0s 3ms/step - loss: 0.1815 - accuracy: 0.9371 - val_loss: 0.4987 - val_accuracy: 0.8261\n",
            "Epoch 264/500\n",
            "104/104 [==============================] - 0s 3ms/step - loss: 0.1880 - accuracy: 0.9407 - val_loss: 0.4770 - val_accuracy: 0.8502\n",
            "Epoch 265/500\n",
            "104/104 [==============================] - 0s 3ms/step - loss: 0.1809 - accuracy: 0.9389 - val_loss: 0.4706 - val_accuracy: 0.8309\n",
            "Epoch 266/500\n",
            "104/104 [==============================] - 0s 3ms/step - loss: 0.1746 - accuracy: 0.9395 - val_loss: 0.4515 - val_accuracy: 0.8406\n",
            "Epoch 267/500\n",
            "104/104 [==============================] - 0s 3ms/step - loss: 0.1747 - accuracy: 0.9317 - val_loss: 0.4962 - val_accuracy: 0.8261\n",
            "Epoch 268/500\n",
            "104/104 [==============================] - 0s 3ms/step - loss: 0.1624 - accuracy: 0.9389 - val_loss: 0.4712 - val_accuracy: 0.8116\n",
            "Epoch 269/500\n",
            "104/104 [==============================] - 0s 3ms/step - loss: 0.1769 - accuracy: 0.9359 - val_loss: 0.4945 - val_accuracy: 0.8019\n",
            "Epoch 270/500\n",
            "104/104 [==============================] - 0s 3ms/step - loss: 0.1776 - accuracy: 0.9329 - val_loss: 0.5336 - val_accuracy: 0.8068\n",
            "Epoch 271/500\n",
            "104/104 [==============================] - 0s 3ms/step - loss: 0.1818 - accuracy: 0.9305 - val_loss: 0.4993 - val_accuracy: 0.8261\n",
            "Epoch 272/500\n",
            "104/104 [==============================] - 0s 3ms/step - loss: 0.1693 - accuracy: 0.9371 - val_loss: 0.4433 - val_accuracy: 0.8599\n",
            "Epoch 273/500\n",
            "104/104 [==============================] - 0s 3ms/step - loss: 0.1889 - accuracy: 0.9317 - val_loss: 0.5127 - val_accuracy: 0.8019\n",
            "Epoch 274/500\n",
            "104/104 [==============================] - 0s 3ms/step - loss: 0.1761 - accuracy: 0.9359 - val_loss: 0.5099 - val_accuracy: 0.8019\n",
            "Epoch 275/500\n",
            "104/104 [==============================] - 0s 3ms/step - loss: 0.1810 - accuracy: 0.9305 - val_loss: 0.4915 - val_accuracy: 0.8309\n",
            "Epoch 276/500\n",
            "104/104 [==============================] - 0s 3ms/step - loss: 0.1744 - accuracy: 0.9407 - val_loss: 0.5508 - val_accuracy: 0.8164\n",
            "Epoch 277/500\n",
            "104/104 [==============================] - 0s 3ms/step - loss: 0.1768 - accuracy: 0.9395 - val_loss: 0.5637 - val_accuracy: 0.8068\n",
            "Epoch 278/500\n",
            "104/104 [==============================] - 0s 3ms/step - loss: 0.1585 - accuracy: 0.9456 - val_loss: 0.5081 - val_accuracy: 0.8406\n",
            "Epoch 279/500\n",
            "104/104 [==============================] - 0s 3ms/step - loss: 0.1510 - accuracy: 0.9432 - val_loss: 0.4907 - val_accuracy: 0.8019\n",
            "Epoch 280/500\n",
            "104/104 [==============================] - 0s 3ms/step - loss: 0.1759 - accuracy: 0.9317 - val_loss: 0.5099 - val_accuracy: 0.8068\n",
            "Epoch 281/500\n",
            "104/104 [==============================] - 0s 3ms/step - loss: 0.1615 - accuracy: 0.9420 - val_loss: 0.4789 - val_accuracy: 0.8261\n",
            "Epoch 282/500\n",
            "104/104 [==============================] - 0s 3ms/step - loss: 0.1729 - accuracy: 0.9371 - val_loss: 0.5002 - val_accuracy: 0.8116\n",
            "Epoch 283/500\n",
            "104/104 [==============================] - 0s 3ms/step - loss: 0.1636 - accuracy: 0.9407 - val_loss: 0.4670 - val_accuracy: 0.8309\n",
            "Epoch 284/500\n",
            "104/104 [==============================] - 0s 3ms/step - loss: 0.1607 - accuracy: 0.9383 - val_loss: 0.4782 - val_accuracy: 0.8406\n",
            "Epoch 285/500\n",
            "104/104 [==============================] - 0s 3ms/step - loss: 0.1558 - accuracy: 0.9492 - val_loss: 0.5076 - val_accuracy: 0.8261\n",
            "Epoch 286/500\n",
            "104/104 [==============================] - 0s 3ms/step - loss: 0.1672 - accuracy: 0.9311 - val_loss: 0.4964 - val_accuracy: 0.8116\n",
            "Epoch 287/500\n",
            "104/104 [==============================] - 0s 3ms/step - loss: 0.1643 - accuracy: 0.9365 - val_loss: 0.4915 - val_accuracy: 0.8454\n",
            "Epoch 288/500\n",
            "104/104 [==============================] - 0s 3ms/step - loss: 0.1495 - accuracy: 0.9474 - val_loss: 0.4842 - val_accuracy: 0.8357\n",
            "Epoch 289/500\n",
            "104/104 [==============================] - 0s 3ms/step - loss: 0.1573 - accuracy: 0.9426 - val_loss: 0.4595 - val_accuracy: 0.8309\n",
            "Epoch 290/500\n",
            "104/104 [==============================] - 0s 3ms/step - loss: 0.1606 - accuracy: 0.9462 - val_loss: 0.4427 - val_accuracy: 0.8406\n",
            "Epoch 291/500\n",
            "104/104 [==============================] - 0s 3ms/step - loss: 0.1657 - accuracy: 0.9383 - val_loss: 0.5301 - val_accuracy: 0.8309\n",
            "Epoch 292/500\n",
            "104/104 [==============================] - 0s 3ms/step - loss: 0.1324 - accuracy: 0.9528 - val_loss: 0.5318 - val_accuracy: 0.8164\n",
            "Epoch 293/500\n",
            "104/104 [==============================] - 0s 4ms/step - loss: 0.1898 - accuracy: 0.9335 - val_loss: 0.5093 - val_accuracy: 0.8261\n",
            "Epoch 294/500\n",
            "104/104 [==============================] - 0s 4ms/step - loss: 0.1688 - accuracy: 0.9401 - val_loss: 0.5491 - val_accuracy: 0.7971\n",
            "Epoch 295/500\n",
            "104/104 [==============================] - 0s 3ms/step - loss: 0.1644 - accuracy: 0.9377 - val_loss: 0.5326 - val_accuracy: 0.8116\n",
            "Epoch 296/500\n",
            "104/104 [==============================] - 0s 3ms/step - loss: 0.1636 - accuracy: 0.9383 - val_loss: 0.4990 - val_accuracy: 0.8357\n",
            "Epoch 297/500\n",
            "104/104 [==============================] - 0s 3ms/step - loss: 0.1435 - accuracy: 0.9480 - val_loss: 0.5324 - val_accuracy: 0.7826\n",
            "Epoch 298/500\n",
            "104/104 [==============================] - 0s 3ms/step - loss: 0.1438 - accuracy: 0.9450 - val_loss: 0.4970 - val_accuracy: 0.8068\n",
            "Epoch 299/500\n",
            "104/104 [==============================] - 0s 3ms/step - loss: 0.1795 - accuracy: 0.9293 - val_loss: 0.4857 - val_accuracy: 0.8357\n",
            "Epoch 300/500\n",
            "104/104 [==============================] - 0s 3ms/step - loss: 0.1719 - accuracy: 0.9377 - val_loss: 0.4903 - val_accuracy: 0.8357\n",
            "Epoch 301/500\n",
            "104/104 [==============================] - 0s 3ms/step - loss: 0.1516 - accuracy: 0.9426 - val_loss: 0.4974 - val_accuracy: 0.8261\n",
            "Epoch 302/500\n",
            "104/104 [==============================] - 0s 3ms/step - loss: 0.1468 - accuracy: 0.9474 - val_loss: 0.4998 - val_accuracy: 0.8309\n",
            "Epoch 303/500\n",
            "104/104 [==============================] - 0s 3ms/step - loss: 0.1482 - accuracy: 0.9462 - val_loss: 0.5185 - val_accuracy: 0.8309\n",
            "Epoch 304/500\n",
            "104/104 [==============================] - 0s 3ms/step - loss: 0.1491 - accuracy: 0.9474 - val_loss: 0.5122 - val_accuracy: 0.8261\n",
            "Epoch 305/500\n",
            "104/104 [==============================] - 0s 3ms/step - loss: 0.1216 - accuracy: 0.9577 - val_loss: 0.4498 - val_accuracy: 0.8406\n",
            "Epoch 306/500\n",
            "104/104 [==============================] - 0s 3ms/step - loss: 0.1498 - accuracy: 0.9516 - val_loss: 0.4730 - val_accuracy: 0.8309\n",
            "Epoch 307/500\n",
            "104/104 [==============================] - 0s 3ms/step - loss: 0.1333 - accuracy: 0.9492 - val_loss: 0.4935 - val_accuracy: 0.8357\n",
            "Epoch 308/500\n",
            "104/104 [==============================] - 0s 3ms/step - loss: 0.1382 - accuracy: 0.9504 - val_loss: 0.4766 - val_accuracy: 0.8309\n",
            "Epoch 309/500\n",
            "104/104 [==============================] - 0s 3ms/step - loss: 0.1453 - accuracy: 0.9474 - val_loss: 0.5139 - val_accuracy: 0.7923\n",
            "Epoch 310/500\n",
            "104/104 [==============================] - 0s 3ms/step - loss: 0.1371 - accuracy: 0.9480 - val_loss: 0.4999 - val_accuracy: 0.8068\n",
            "Epoch 311/500\n",
            "104/104 [==============================] - 0s 3ms/step - loss: 0.1422 - accuracy: 0.9547 - val_loss: 0.5096 - val_accuracy: 0.8164\n",
            "Epoch 312/500\n",
            "104/104 [==============================] - 0s 3ms/step - loss: 0.1652 - accuracy: 0.9359 - val_loss: 0.4784 - val_accuracy: 0.8406\n",
            "Epoch 313/500\n",
            "104/104 [==============================] - 0s 3ms/step - loss: 0.1525 - accuracy: 0.9456 - val_loss: 0.4980 - val_accuracy: 0.8213\n",
            "Epoch 314/500\n",
            "104/104 [==============================] - 0s 3ms/step - loss: 0.1476 - accuracy: 0.9498 - val_loss: 0.5702 - val_accuracy: 0.8019\n",
            "Epoch 315/500\n",
            "104/104 [==============================] - 0s 3ms/step - loss: 0.1428 - accuracy: 0.9444 - val_loss: 0.5199 - val_accuracy: 0.8068\n",
            "Epoch 316/500\n",
            "104/104 [==============================] - 0s 3ms/step - loss: 0.1285 - accuracy: 0.9510 - val_loss: 0.4965 - val_accuracy: 0.8261\n",
            "Epoch 317/500\n",
            "104/104 [==============================] - 0s 3ms/step - loss: 0.1320 - accuracy: 0.9553 - val_loss: 0.4745 - val_accuracy: 0.8309\n",
            "Epoch 318/500\n",
            "104/104 [==============================] - 0s 3ms/step - loss: 0.1556 - accuracy: 0.9426 - val_loss: 0.4752 - val_accuracy: 0.8551\n",
            "Epoch 319/500\n",
            "104/104 [==============================] - 0s 3ms/step - loss: 0.1380 - accuracy: 0.9474 - val_loss: 0.5374 - val_accuracy: 0.8261\n",
            "Epoch 320/500\n",
            "104/104 [==============================] - 0s 3ms/step - loss: 0.1412 - accuracy: 0.9432 - val_loss: 0.5202 - val_accuracy: 0.8261\n",
            "Epoch 321/500\n",
            "104/104 [==============================] - 0s 3ms/step - loss: 0.1494 - accuracy: 0.9450 - val_loss: 0.4849 - val_accuracy: 0.8309\n",
            "Epoch 322/500\n",
            "104/104 [==============================] - 0s 3ms/step - loss: 0.1525 - accuracy: 0.9420 - val_loss: 0.5410 - val_accuracy: 0.8164\n",
            "Epoch 323/500\n",
            "104/104 [==============================] - 0s 3ms/step - loss: 0.1725 - accuracy: 0.9426 - val_loss: 0.4913 - val_accuracy: 0.8213\n",
            "Epoch 324/500\n",
            "104/104 [==============================] - 0s 3ms/step - loss: 0.1409 - accuracy: 0.9553 - val_loss: 0.5036 - val_accuracy: 0.8406\n",
            "Epoch 325/500\n",
            "104/104 [==============================] - 0s 3ms/step - loss: 0.1395 - accuracy: 0.9504 - val_loss: 0.5062 - val_accuracy: 0.8357\n",
            "Epoch 326/500\n",
            "104/104 [==============================] - 0s 3ms/step - loss: 0.1155 - accuracy: 0.9655 - val_loss: 0.5151 - val_accuracy: 0.8454\n",
            "Epoch 327/500\n",
            "104/104 [==============================] - 0s 3ms/step - loss: 0.1406 - accuracy: 0.9480 - val_loss: 0.4686 - val_accuracy: 0.8502\n",
            "Epoch 328/500\n",
            "104/104 [==============================] - 0s 3ms/step - loss: 0.1190 - accuracy: 0.9553 - val_loss: 0.5315 - val_accuracy: 0.8261\n",
            "Epoch 329/500\n",
            "104/104 [==============================] - 0s 3ms/step - loss: 0.1568 - accuracy: 0.9420 - val_loss: 0.4691 - val_accuracy: 0.8309\n",
            "Epoch 330/500\n",
            "104/104 [==============================] - 0s 3ms/step - loss: 0.1223 - accuracy: 0.9571 - val_loss: 0.4866 - val_accuracy: 0.8261\n",
            "Epoch 331/500\n",
            "104/104 [==============================] - 0s 3ms/step - loss: 0.1259 - accuracy: 0.9607 - val_loss: 0.5161 - val_accuracy: 0.8357\n",
            "Epoch 332/500\n",
            "104/104 [==============================] - 0s 3ms/step - loss: 0.1291 - accuracy: 0.9516 - val_loss: 0.4930 - val_accuracy: 0.8261\n",
            "Epoch 333/500\n",
            "104/104 [==============================] - 0s 3ms/step - loss: 0.1722 - accuracy: 0.9371 - val_loss: 0.4574 - val_accuracy: 0.8261\n",
            "Epoch 334/500\n",
            "104/104 [==============================] - 0s 3ms/step - loss: 0.1344 - accuracy: 0.9474 - val_loss: 0.4969 - val_accuracy: 0.8454\n",
            "Epoch 335/500\n",
            "104/104 [==============================] - 0s 3ms/step - loss: 0.1231 - accuracy: 0.9498 - val_loss: 0.4867 - val_accuracy: 0.8309\n",
            "Epoch 336/500\n",
            "104/104 [==============================] - 0s 3ms/step - loss: 0.1234 - accuracy: 0.9559 - val_loss: 0.5344 - val_accuracy: 0.8213\n",
            "Epoch 337/500\n",
            "104/104 [==============================] - 0s 3ms/step - loss: 0.1450 - accuracy: 0.9474 - val_loss: 0.4674 - val_accuracy: 0.8213\n",
            "Epoch 338/500\n",
            "104/104 [==============================] - 0s 3ms/step - loss: 0.1301 - accuracy: 0.9534 - val_loss: 0.5323 - val_accuracy: 0.8406\n",
            "Epoch 339/500\n",
            "104/104 [==============================] - 0s 3ms/step - loss: 0.1525 - accuracy: 0.9480 - val_loss: 0.4884 - val_accuracy: 0.8213\n",
            "Epoch 340/500\n",
            "104/104 [==============================] - 0s 3ms/step - loss: 0.1238 - accuracy: 0.9565 - val_loss: 0.4859 - val_accuracy: 0.8309\n",
            "Epoch 341/500\n",
            "104/104 [==============================] - 0s 3ms/step - loss: 0.1171 - accuracy: 0.9547 - val_loss: 0.5338 - val_accuracy: 0.8357\n",
            "Epoch 342/500\n",
            "104/104 [==============================] - 0s 3ms/step - loss: 0.1495 - accuracy: 0.9420 - val_loss: 0.4575 - val_accuracy: 0.8309\n",
            "Epoch 343/500\n",
            "104/104 [==============================] - 0s 3ms/step - loss: 0.1181 - accuracy: 0.9643 - val_loss: 0.4896 - val_accuracy: 0.8357\n",
            "Epoch 344/500\n",
            "104/104 [==============================] - 0s 3ms/step - loss: 0.1444 - accuracy: 0.9516 - val_loss: 0.4602 - val_accuracy: 0.8599\n",
            "Epoch 345/500\n",
            "104/104 [==============================] - 0s 3ms/step - loss: 0.1358 - accuracy: 0.9510 - val_loss: 0.4970 - val_accuracy: 0.8406\n",
            "Epoch 346/500\n",
            "104/104 [==============================] - 0s 3ms/step - loss: 0.1237 - accuracy: 0.9571 - val_loss: 0.4943 - val_accuracy: 0.8309\n",
            "Epoch 347/500\n",
            "104/104 [==============================] - 0s 3ms/step - loss: 0.1252 - accuracy: 0.9559 - val_loss: 0.4542 - val_accuracy: 0.8647\n",
            "Epoch 348/500\n",
            "104/104 [==============================] - 0s 3ms/step - loss: 0.1149 - accuracy: 0.9571 - val_loss: 0.4691 - val_accuracy: 0.8502\n",
            "Epoch 349/500\n",
            "104/104 [==============================] - 0s 3ms/step - loss: 0.1193 - accuracy: 0.9553 - val_loss: 0.4603 - val_accuracy: 0.8261\n",
            "Epoch 350/500\n",
            "104/104 [==============================] - 0s 3ms/step - loss: 0.1164 - accuracy: 0.9583 - val_loss: 0.5092 - val_accuracy: 0.8357\n",
            "Epoch 351/500\n",
            "104/104 [==============================] - 0s 3ms/step - loss: 0.1454 - accuracy: 0.9480 - val_loss: 0.4987 - val_accuracy: 0.8116\n",
            "Epoch 352/500\n",
            "104/104 [==============================] - 0s 3ms/step - loss: 0.1448 - accuracy: 0.9492 - val_loss: 0.5529 - val_accuracy: 0.8116\n",
            "Epoch 353/500\n",
            "104/104 [==============================] - 0s 3ms/step - loss: 0.1521 - accuracy: 0.9383 - val_loss: 0.4911 - val_accuracy: 0.8357\n",
            "Epoch 354/500\n",
            "104/104 [==============================] - 0s 3ms/step - loss: 0.1135 - accuracy: 0.9583 - val_loss: 0.5045 - val_accuracy: 0.8213\n",
            "Epoch 355/500\n",
            "104/104 [==============================] - 0s 3ms/step - loss: 0.1211 - accuracy: 0.9583 - val_loss: 0.4907 - val_accuracy: 0.8454\n",
            "Epoch 356/500\n",
            "104/104 [==============================] - 0s 3ms/step - loss: 0.1185 - accuracy: 0.9577 - val_loss: 0.4826 - val_accuracy: 0.8261\n",
            "Epoch 357/500\n",
            "104/104 [==============================] - 0s 3ms/step - loss: 0.1402 - accuracy: 0.9565 - val_loss: 0.5041 - val_accuracy: 0.8116\n",
            "Epoch 358/500\n",
            "104/104 [==============================] - 0s 3ms/step - loss: 0.1261 - accuracy: 0.9553 - val_loss: 0.4833 - val_accuracy: 0.8357\n",
            "Epoch 359/500\n",
            "104/104 [==============================] - 0s 3ms/step - loss: 0.0946 - accuracy: 0.9698 - val_loss: 0.4568 - val_accuracy: 0.8261\n",
            "Epoch 360/500\n",
            "104/104 [==============================] - 0s 3ms/step - loss: 0.1409 - accuracy: 0.9516 - val_loss: 0.4915 - val_accuracy: 0.8261\n",
            "Epoch 361/500\n",
            "104/104 [==============================] - 0s 3ms/step - loss: 0.1130 - accuracy: 0.9607 - val_loss: 0.4837 - val_accuracy: 0.8309\n",
            "Epoch 362/500\n",
            "104/104 [==============================] - 0s 3ms/step - loss: 0.1254 - accuracy: 0.9504 - val_loss: 0.5258 - val_accuracy: 0.8454\n",
            "Epoch 363/500\n",
            "104/104 [==============================] - 0s 3ms/step - loss: 0.1062 - accuracy: 0.9589 - val_loss: 0.5121 - val_accuracy: 0.8261\n",
            "Epoch 364/500\n",
            "104/104 [==============================] - 0s 3ms/step - loss: 0.1211 - accuracy: 0.9577 - val_loss: 0.5065 - val_accuracy: 0.8309\n",
            "Epoch 365/500\n",
            "104/104 [==============================] - 0s 3ms/step - loss: 0.1239 - accuracy: 0.9534 - val_loss: 0.5245 - val_accuracy: 0.8213\n",
            "Epoch 366/500\n",
            "104/104 [==============================] - 0s 3ms/step - loss: 0.1176 - accuracy: 0.9577 - val_loss: 0.5092 - val_accuracy: 0.8164\n",
            "Epoch 367/500\n",
            "104/104 [==============================] - 0s 3ms/step - loss: 0.0943 - accuracy: 0.9655 - val_loss: 0.5011 - val_accuracy: 0.8213\n",
            "Epoch 368/500\n",
            "104/104 [==============================] - 0s 3ms/step - loss: 0.1208 - accuracy: 0.9577 - val_loss: 0.4540 - val_accuracy: 0.8502\n",
            "Epoch 369/500\n",
            "104/104 [==============================] - 0s 3ms/step - loss: 0.1238 - accuracy: 0.9553 - val_loss: 0.5052 - val_accuracy: 0.8068\n",
            "Epoch 370/500\n",
            "104/104 [==============================] - 0s 3ms/step - loss: 0.1242 - accuracy: 0.9559 - val_loss: 0.5246 - val_accuracy: 0.8261\n",
            "Epoch 371/500\n",
            "104/104 [==============================] - 0s 3ms/step - loss: 0.1277 - accuracy: 0.9534 - val_loss: 0.5447 - val_accuracy: 0.8019\n",
            "Epoch 372/500\n",
            "104/104 [==============================] - 0s 3ms/step - loss: 0.1242 - accuracy: 0.9619 - val_loss: 0.5018 - val_accuracy: 0.8261\n",
            "Epoch 373/500\n",
            "104/104 [==============================] - 0s 3ms/step - loss: 0.1011 - accuracy: 0.9625 - val_loss: 0.4955 - val_accuracy: 0.8454\n",
            "Epoch 374/500\n",
            "104/104 [==============================] - 0s 3ms/step - loss: 0.1375 - accuracy: 0.9480 - val_loss: 0.5261 - val_accuracy: 0.8164\n",
            "Epoch 375/500\n",
            "104/104 [==============================] - 0s 3ms/step - loss: 0.1141 - accuracy: 0.9601 - val_loss: 0.5265 - val_accuracy: 0.8068\n",
            "Epoch 376/500\n",
            "104/104 [==============================] - 0s 3ms/step - loss: 0.1251 - accuracy: 0.9547 - val_loss: 0.5158 - val_accuracy: 0.8406\n",
            "Epoch 377/500\n",
            "104/104 [==============================] - 0s 3ms/step - loss: 0.1192 - accuracy: 0.9528 - val_loss: 0.5220 - val_accuracy: 0.8309\n",
            "Epoch 378/500\n",
            "104/104 [==============================] - 0s 3ms/step - loss: 0.1189 - accuracy: 0.9607 - val_loss: 0.4528 - val_accuracy: 0.8357\n",
            "Epoch 379/500\n",
            "104/104 [==============================] - 0s 3ms/step - loss: 0.1286 - accuracy: 0.9571 - val_loss: 0.5505 - val_accuracy: 0.8116\n",
            "Epoch 380/500\n",
            "104/104 [==============================] - 0s 3ms/step - loss: 0.1287 - accuracy: 0.9589 - val_loss: 0.4951 - val_accuracy: 0.8744\n",
            "Epoch 381/500\n",
            "104/104 [==============================] - 0s 3ms/step - loss: 0.1193 - accuracy: 0.9534 - val_loss: 0.5300 - val_accuracy: 0.8309\n",
            "Epoch 382/500\n",
            "104/104 [==============================] - 0s 3ms/step - loss: 0.1079 - accuracy: 0.9577 - val_loss: 0.4761 - val_accuracy: 0.8647\n",
            "Epoch 383/500\n",
            "104/104 [==============================] - 0s 3ms/step - loss: 0.1112 - accuracy: 0.9631 - val_loss: 0.5192 - val_accuracy: 0.8116\n",
            "Epoch 384/500\n",
            "104/104 [==============================] - 0s 3ms/step - loss: 0.1031 - accuracy: 0.9680 - val_loss: 0.5187 - val_accuracy: 0.8454\n",
            "Epoch 385/500\n",
            "104/104 [==============================] - 0s 3ms/step - loss: 0.1072 - accuracy: 0.9589 - val_loss: 0.5063 - val_accuracy: 0.8261\n",
            "Epoch 386/500\n",
            "104/104 [==============================] - 0s 3ms/step - loss: 0.1462 - accuracy: 0.9480 - val_loss: 0.5794 - val_accuracy: 0.8116\n",
            "Epoch 387/500\n",
            "104/104 [==============================] - 0s 3ms/step - loss: 0.1028 - accuracy: 0.9619 - val_loss: 0.4991 - val_accuracy: 0.8454\n",
            "Epoch 388/500\n",
            "104/104 [==============================] - 0s 3ms/step - loss: 0.1020 - accuracy: 0.9655 - val_loss: 0.5139 - val_accuracy: 0.8164\n",
            "Epoch 389/500\n",
            "104/104 [==============================] - 0s 3ms/step - loss: 0.1352 - accuracy: 0.9510 - val_loss: 0.4884 - val_accuracy: 0.8406\n",
            "Epoch 390/500\n",
            "104/104 [==============================] - 0s 3ms/step - loss: 0.1363 - accuracy: 0.9559 - val_loss: 0.5000 - val_accuracy: 0.8164\n",
            "Epoch 391/500\n",
            "104/104 [==============================] - 0s 3ms/step - loss: 0.1240 - accuracy: 0.9583 - val_loss: 0.5264 - val_accuracy: 0.8357\n",
            "Epoch 392/500\n",
            "104/104 [==============================] - 0s 3ms/step - loss: 0.1249 - accuracy: 0.9522 - val_loss: 0.5417 - val_accuracy: 0.8551\n",
            "Epoch 393/500\n",
            "104/104 [==============================] - 0s 3ms/step - loss: 0.1204 - accuracy: 0.9534 - val_loss: 0.4606 - val_accuracy: 0.8551\n",
            "Epoch 394/500\n",
            "104/104 [==============================] - 0s 3ms/step - loss: 0.0858 - accuracy: 0.9704 - val_loss: 0.4993 - val_accuracy: 0.8502\n",
            "Epoch 395/500\n",
            "104/104 [==============================] - 0s 3ms/step - loss: 0.1057 - accuracy: 0.9649 - val_loss: 0.5457 - val_accuracy: 0.8454\n",
            "Epoch 396/500\n",
            "104/104 [==============================] - 0s 3ms/step - loss: 0.1045 - accuracy: 0.9619 - val_loss: 0.4866 - val_accuracy: 0.8357\n",
            "Epoch 397/500\n",
            "104/104 [==============================] - 0s 3ms/step - loss: 0.0995 - accuracy: 0.9619 - val_loss: 0.5195 - val_accuracy: 0.8213\n",
            "Epoch 398/500\n",
            "104/104 [==============================] - 0s 3ms/step - loss: 0.1119 - accuracy: 0.9631 - val_loss: 0.5230 - val_accuracy: 0.8406\n",
            "Epoch 399/500\n",
            "104/104 [==============================] - 0s 3ms/step - loss: 0.1235 - accuracy: 0.9528 - val_loss: 0.5026 - val_accuracy: 0.8454\n",
            "Epoch 400/500\n",
            "104/104 [==============================] - 0s 3ms/step - loss: 0.1233 - accuracy: 0.9534 - val_loss: 0.5085 - val_accuracy: 0.8357\n",
            "Epoch 401/500\n",
            "104/104 [==============================] - 0s 3ms/step - loss: 0.1132 - accuracy: 0.9577 - val_loss: 0.5405 - val_accuracy: 0.8406\n",
            "Epoch 402/500\n",
            "104/104 [==============================] - 0s 3ms/step - loss: 0.0886 - accuracy: 0.9704 - val_loss: 0.5363 - val_accuracy: 0.8406\n",
            "Epoch 403/500\n",
            "104/104 [==============================] - 0s 3ms/step - loss: 0.1337 - accuracy: 0.9468 - val_loss: 0.4966 - val_accuracy: 0.8213\n",
            "Epoch 404/500\n",
            "104/104 [==============================] - 0s 3ms/step - loss: 0.0999 - accuracy: 0.9631 - val_loss: 0.4688 - val_accuracy: 0.8502\n",
            "Epoch 405/500\n",
            "104/104 [==============================] - 0s 3ms/step - loss: 0.1235 - accuracy: 0.9553 - val_loss: 0.5408 - val_accuracy: 0.8116\n",
            "Epoch 406/500\n",
            "104/104 [==============================] - 0s 3ms/step - loss: 0.1591 - accuracy: 0.9383 - val_loss: 0.4843 - val_accuracy: 0.8406\n",
            "Epoch 407/500\n",
            "104/104 [==============================] - 0s 3ms/step - loss: 0.1208 - accuracy: 0.9589 - val_loss: 0.4642 - val_accuracy: 0.8406\n",
            "Epoch 408/500\n",
            "104/104 [==============================] - 0s 3ms/step - loss: 0.1054 - accuracy: 0.9631 - val_loss: 0.4777 - val_accuracy: 0.8357\n",
            "Epoch 409/500\n",
            "104/104 [==============================] - 0s 3ms/step - loss: 0.1218 - accuracy: 0.9595 - val_loss: 0.4623 - val_accuracy: 0.8454\n",
            "Epoch 410/500\n",
            "104/104 [==============================] - 0s 3ms/step - loss: 0.0820 - accuracy: 0.9734 - val_loss: 0.5021 - val_accuracy: 0.8309\n",
            "Epoch 411/500\n",
            "104/104 [==============================] - 0s 3ms/step - loss: 0.0974 - accuracy: 0.9649 - val_loss: 0.4872 - val_accuracy: 0.8309\n",
            "Epoch 412/500\n",
            "104/104 [==============================] - 0s 3ms/step - loss: 0.0982 - accuracy: 0.9649 - val_loss: 0.5006 - val_accuracy: 0.8309\n",
            "Epoch 413/500\n",
            "104/104 [==============================] - 0s 3ms/step - loss: 0.0981 - accuracy: 0.9649 - val_loss: 0.4881 - val_accuracy: 0.8406\n",
            "Epoch 414/500\n",
            "104/104 [==============================] - 0s 3ms/step - loss: 0.0974 - accuracy: 0.9601 - val_loss: 0.5541 - val_accuracy: 0.8261\n",
            "Epoch 415/500\n",
            "104/104 [==============================] - 0s 3ms/step - loss: 0.1082 - accuracy: 0.9553 - val_loss: 0.5066 - val_accuracy: 0.8357\n",
            "Epoch 416/500\n",
            "104/104 [==============================] - 0s 3ms/step - loss: 0.1018 - accuracy: 0.9661 - val_loss: 0.5151 - val_accuracy: 0.8309\n",
            "Epoch 417/500\n",
            "104/104 [==============================] - 0s 3ms/step - loss: 0.0949 - accuracy: 0.9716 - val_loss: 0.5349 - val_accuracy: 0.8357\n",
            "Epoch 418/500\n",
            "104/104 [==============================] - 0s 3ms/step - loss: 0.1493 - accuracy: 0.9474 - val_loss: 0.5583 - val_accuracy: 0.8454\n",
            "Epoch 419/500\n",
            "104/104 [==============================] - 0s 3ms/step - loss: 0.1000 - accuracy: 0.9643 - val_loss: 0.5212 - val_accuracy: 0.8213\n",
            "Epoch 420/500\n",
            "104/104 [==============================] - 0s 3ms/step - loss: 0.0803 - accuracy: 0.9710 - val_loss: 0.4776 - val_accuracy: 0.8357\n",
            "Epoch 421/500\n",
            "104/104 [==============================] - 0s 3ms/step - loss: 0.1073 - accuracy: 0.9643 - val_loss: 0.5057 - val_accuracy: 0.8357\n",
            "Epoch 422/500\n",
            "104/104 [==============================] - 0s 3ms/step - loss: 0.1109 - accuracy: 0.9595 - val_loss: 0.4705 - val_accuracy: 0.8502\n",
            "Epoch 423/500\n",
            "104/104 [==============================] - 0s 3ms/step - loss: 0.1134 - accuracy: 0.9613 - val_loss: 0.4918 - val_accuracy: 0.8309\n",
            "Epoch 424/500\n",
            "104/104 [==============================] - 0s 3ms/step - loss: 0.0847 - accuracy: 0.9680 - val_loss: 0.5000 - val_accuracy: 0.8213\n",
            "Epoch 425/500\n",
            "104/104 [==============================] - 0s 3ms/step - loss: 0.0974 - accuracy: 0.9686 - val_loss: 0.4672 - val_accuracy: 0.8357\n",
            "Epoch 426/500\n",
            "104/104 [==============================] - 0s 3ms/step - loss: 0.0903 - accuracy: 0.9704 - val_loss: 0.4640 - val_accuracy: 0.8551\n",
            "Epoch 427/500\n",
            "104/104 [==============================] - 0s 3ms/step - loss: 0.1154 - accuracy: 0.9631 - val_loss: 0.5832 - val_accuracy: 0.8261\n",
            "Epoch 428/500\n",
            "104/104 [==============================] - 0s 3ms/step - loss: 0.0828 - accuracy: 0.9734 - val_loss: 0.4683 - val_accuracy: 0.8406\n",
            "Epoch 429/500\n",
            "104/104 [==============================] - 0s 3ms/step - loss: 0.0842 - accuracy: 0.9722 - val_loss: 0.5094 - val_accuracy: 0.8261\n",
            "Epoch 430/500\n",
            "104/104 [==============================] - 0s 3ms/step - loss: 0.0937 - accuracy: 0.9655 - val_loss: 0.5800 - val_accuracy: 0.8261\n"
          ]
        }
      ]
    },
    {
      "cell_type": "code",
      "source": [
        "plt.plot(cnnhistory.history['loss'])\n",
        "plt.plot(cnnhistory.history['val_loss'])\n",
        "plt.title('model loss')\n",
        "plt.ylabel('loss')\n",
        "plt.xlabel('epoch')\n",
        "plt.legend(['train','test'], loc='upper left')\n",
        "plt.show()"
      ],
      "metadata": {
        "id": "oQYnuaCrDH_A",
        "colab": {
          "base_uri": "https://localhost:8080/",
          "height": 295
        },
        "outputId": "63881067-cfec-4f28-b50f-ca1ebc8fa1fc"
      },
      "execution_count": 15,
      "outputs": [
        {
          "output_type": "display_data",
          "data": {
            "text/plain": [
              "<Figure size 432x288 with 1 Axes>"
            ],
            "image/png": "[encoded data removed]"
          },
          "metadata": {
            "needs_background": "light"
          }
        }
      ]
    },
    {
      "cell_type": "code",
      "source": [
        "plt.plot(cnnhistory.history['accuracy'])\n",
        "plt.plot(cnnhistory.history['val_accuracy'])\n",
        "plt.title('model accuracy')\n",
        "plt.ylabel('accuracy')\n",
        "plt.xlabel('epoch')\n",
        "plt.legend(['train','test'], loc='upper left')\n",
        "plt.show()"
      ],
      "metadata": {
        "id": "IFkTuO8nDNdq",
        "colab": {
          "base_uri": "https://localhost:8080/",
          "height": 295
        },
        "outputId": "ca111442-5a66-47a6-ef7d-ff134ca39868"
      },
      "execution_count": 16,
      "outputs": [
        {
          "output_type": "display_data",
          "data": {
            "text/plain": [
              "<Figure size 432x288 with 1 Axes>"
            ],
            "image/png": "[encoded data removed]"
          },
          "metadata": {
            "needs_background": "light"
          }
        }
      ]
    },
    {
      "cell_type": "code",
      "source": [
        "predictions = model.predict(x_testcnn)"
      ],
      "metadata": {
        "id": "A2xtrN5wDQgY"
      },
      "execution_count": 17,
      "outputs": []
    },
    {
      "cell_type": "code",
      "source": [
        "predictions"
      ],
      "metadata": {
        "id": "_f_ohjXKDUpY",
        "colab": {
          "base_uri": "https://localhost:8080/"
        },
        "outputId": "302adbf2-ea09-4c50-84ed-e14b43a01757"
      },
      "execution_count": 18,
      "outputs": [
        {
          "output_type": "execute_result",
          "data": {
            "text/plain": [
              "array([[1.37417227e-01, 8.97780992e-03, 4.58558112e-01, 3.55829805e-01,\n",
              "        3.85306031e-02, 6.86361105e-04],\n",
              "       [2.19267440e-06, 1.20849691e-07, 1.03271658e-09, 9.92162406e-01,\n",
              "        2.00469586e-07, 7.83504732e-03],\n",
              "       [1.21042050e-01, 8.56542774e-03, 6.12828124e-04, 8.62717628e-01,\n",
              "        1.72003711e-04, 6.89009018e-03],\n",
              "       ...,\n",
              "       [7.52240936e-08, 2.98213572e-11, 1.89626371e-04, 1.37818557e-08,\n",
              "        9.99744117e-01, 6.61266386e-05],\n",
              "       [1.52188251e-09, 1.34771198e-01, 8.65190446e-01, 1.34101665e-05,\n",
              "        1.08541790e-05, 1.41557884e-05],\n",
              "       [4.41264660e-07, 1.92446763e-07, 3.73761868e-03, 8.38006326e-06,\n",
              "        9.94406462e-01, 1.84692617e-03]], dtype=float32)"
            ]
          },
          "metadata": {},
          "execution_count": 18
        }
      ]
    },
    {
      "cell_type": "code",
      "source": [
        "y_test"
      ],
      "metadata": {
        "id": "cmA2bFgsDW3D",
        "colab": {
          "base_uri": "https://localhost:8080/"
        },
        "outputId": "8c834539-f2d8-4244-86e8-322126e3e9c3"
      },
      "execution_count": 19,
      "outputs": [
        {
          "output_type": "execute_result",
          "data": {
            "text/plain": [
              "array([3, 3, 3, 0, 4, 4, 1, 2, 5, 0, 5, 3, 2, 2, 1, 4, 4, 5, 2, 4, 1, 2,\n",
              "       3, 5, 4, 2, 1, 2, 2, 2, 2, 5, 2, 5, 3, 1, 2, 0, 4, 5, 2, 3, 2, 2,\n",
              "       5, 2, 0, 1, 3, 4, 4, 5, 1, 1, 4, 4, 5, 1, 1, 1, 0, 1, 5, 0, 4, 1,\n",
              "       1, 0, 1, 4, 1, 0, 4, 1, 3, 1, 2, 2, 1, 2, 3, 0, 5, 3, 5, 5, 2, 4,\n",
              "       5, 1, 5, 1, 5, 3, 4, 1, 4, 1, 5, 4, 5, 1, 2, 1, 1, 5, 1, 3, 2, 5,\n",
              "       2, 1, 3, 5, 4, 4, 0, 0, 3, 1, 2, 2, 3, 5, 1, 5, 3, 4, 2, 2, 0, 2,\n",
              "       2, 5, 5, 0, 3, 3, 2, 2, 0, 3, 4, 0, 4, 2, 4, 5, 4, 1, 5, 3, 2, 2,\n",
              "       5, 4, 3, 3, 4, 3, 3, 4, 1, 5, 2, 3, 2, 2, 0, 2, 1, 3, 1, 2, 2, 5,\n",
              "       5, 1, 4, 2, 2, 1, 1, 3, 3, 5, 5, 2, 5, 1, 5, 0, 3, 3, 0, 5, 1, 4,\n",
              "       1, 4, 2, 5, 5, 1, 4, 2, 4])"
            ]
          },
          "metadata": {},
          "execution_count": 19
        }
      ]
    },
    {
      "cell_type": "code",
      "source": [
        "new_Ytest = y_test.astype(int)"
      ],
      "metadata": {
        "id": "0PHDKWJWDY3g"
      },
      "execution_count": 20,
      "outputs": []
    },
    {
      "cell_type": "code",
      "source": [
        "new_Ytest"
      ],
      "metadata": {
        "id": "k68v2i-pDbZE",
        "colab": {
          "base_uri": "https://localhost:8080/"
        },
        "outputId": "39edb6f0-6e65-498b-f93c-4c8a26a32686"
      },
      "execution_count": 21,
      "outputs": [
        {
          "output_type": "execute_result",
          "data": {
            "text/plain": [
              "array([3, 3, 3, 0, 4, 4, 1, 2, 5, 0, 5, 3, 2, 2, 1, 4, 4, 5, 2, 4, 1, 2,\n",
              "       3, 5, 4, 2, 1, 2, 2, 2, 2, 5, 2, 5, 3, 1, 2, 0, 4, 5, 2, 3, 2, 2,\n",
              "       5, 2, 0, 1, 3, 4, 4, 5, 1, 1, 4, 4, 5, 1, 1, 1, 0, 1, 5, 0, 4, 1,\n",
              "       1, 0, 1, 4, 1, 0, 4, 1, 3, 1, 2, 2, 1, 2, 3, 0, 5, 3, 5, 5, 2, 4,\n",
              "       5, 1, 5, 1, 5, 3, 4, 1, 4, 1, 5, 4, 5, 1, 2, 1, 1, 5, 1, 3, 2, 5,\n",
              "       2, 1, 3, 5, 4, 4, 0, 0, 3, 1, 2, 2, 3, 5, 1, 5, 3, 4, 2, 2, 0, 2,\n",
              "       2, 5, 5, 0, 3, 3, 2, 2, 0, 3, 4, 0, 4, 2, 4, 5, 4, 1, 5, 3, 2, 2,\n",
              "       5, 4, 3, 3, 4, 3, 3, 4, 1, 5, 2, 3, 2, 2, 0, 2, 1, 3, 1, 2, 2, 5,\n",
              "       5, 1, 4, 2, 2, 1, 1, 3, 3, 5, 5, 2, 5, 1, 5, 0, 3, 3, 0, 5, 1, 4,\n",
              "       1, 4, 2, 5, 5, 1, 4, 2, 4])"
            ]
          },
          "metadata": {},
          "execution_count": 21
        }
      ]
    },
    {
      "cell_type": "code",
      "source": [
        "preds1=predictions.argmax(axis=1)\n",
        "preds1"
      ],
      "metadata": {
        "id": "4_cAI39VFhtp",
        "colab": {
          "base_uri": "https://localhost:8080/"
        },
        "outputId": "fce1fb04-7bd9-426c-fa58-9d6aebb509bf"
      },
      "execution_count": 22,
      "outputs": [
        {
          "output_type": "execute_result",
          "data": {
            "text/plain": [
              "array([2, 3, 3, 0, 4, 4, 1, 2, 5, 1, 5, 3, 2, 2, 0, 4, 4, 3, 3, 4, 2, 2,\n",
              "       3, 3, 4, 2, 1, 2, 2, 2, 2, 5, 2, 5, 3, 1, 2, 0, 4, 5, 2, 3, 2, 2,\n",
              "       3, 2, 0, 1, 3, 4, 4, 2, 1, 1, 4, 4, 5, 1, 1, 1, 0, 1, 5, 3, 4, 1,\n",
              "       1, 1, 1, 4, 0, 0, 4, 1, 5, 1, 2, 2, 1, 2, 1, 0, 5, 3, 5, 5, 2, 3,\n",
              "       3, 1, 5, 1, 5, 3, 2, 1, 4, 0, 5, 4, 5, 1, 2, 1, 1, 5, 1, 3, 2, 5,\n",
              "       5, 1, 3, 2, 4, 4, 0, 0, 3, 1, 1, 2, 1, 3, 1, 5, 3, 5, 2, 2, 0, 2,\n",
              "       2, 3, 3, 0, 3, 3, 2, 2, 0, 3, 4, 0, 4, 4, 4, 2, 4, 1, 5, 3, 2, 2,\n",
              "       5, 4, 3, 3, 4, 5, 3, 4, 1, 5, 2, 3, 2, 2, 0, 2, 1, 3, 1, 2, 2, 5,\n",
              "       5, 1, 4, 2, 4, 1, 3, 3, 3, 5, 5, 2, 3, 1, 2, 0, 3, 3, 1, 5, 1, 4,\n",
              "       1, 3, 3, 2, 5, 1, 4, 2, 4])"
            ]
          },
          "metadata": {},
          "execution_count": 22
        }
      ]
    },
    {
      "cell_type": "code",
      "source": [
        "abc = preds1.astype(int).flatten()"
      ],
      "metadata": {
        "id": "H4WEmM60NfQn"
      },
      "execution_count": 23,
      "outputs": []
    },
    {
      "cell_type": "code",
      "source": [
        "from sklearn.metrics import confusion_matrix\n",
        "c = confusion_matrix(new_Ytest, abc) \n",
        "c"
      ],
      "metadata": {
        "id": "bKEBeEBlFjB8",
        "colab": {
          "base_uri": "https://localhost:8080/"
        },
        "outputId": "38f885f2-b4ea-4414-d42c-28359adfff93"
      },
      "execution_count": 24,
      "outputs": [
        {
          "output_type": "execute_result",
          "data": {
            "text/plain": [
              "array([[14,  3,  0,  1,  0,  0],\n",
              "       [ 3, 36,  1,  1,  0,  0],\n",
              "       [ 0,  1, 39,  2,  2,  1],\n",
              "       [ 0,  2,  1, 26,  0,  2],\n",
              "       [ 0,  0,  1,  2, 29,  1],\n",
              "       [ 0,  0,  5,  8,  0, 26]])"
            ]
          },
          "metadata": {},
          "execution_count": 24
        }
      ]
    },
    {
      "cell_type": "code",
      "source": [
        "y_test"
      ],
      "metadata": {
        "id": "m4RjG7LWLSQx",
        "colab": {
          "base_uri": "https://localhost:8080/"
        },
        "outputId": "e15fba2a-9db2-4930-ba20-e07cc045034a"
      },
      "execution_count": 25,
      "outputs": [
        {
          "output_type": "execute_result",
          "data": {
            "text/plain": [
              "array([3, 3, 3, 0, 4, 4, 1, 2, 5, 0, 5, 3, 2, 2, 1, 4, 4, 5, 2, 4, 1, 2,\n",
              "       3, 5, 4, 2, 1, 2, 2, 2, 2, 5, 2, 5, 3, 1, 2, 0, 4, 5, 2, 3, 2, 2,\n",
              "       5, 2, 0, 1, 3, 4, 4, 5, 1, 1, 4, 4, 5, 1, 1, 1, 0, 1, 5, 0, 4, 1,\n",
              "       1, 0, 1, 4, 1, 0, 4, 1, 3, 1, 2, 2, 1, 2, 3, 0, 5, 3, 5, 5, 2, 4,\n",
              "       5, 1, 5, 1, 5, 3, 4, 1, 4, 1, 5, 4, 5, 1, 2, 1, 1, 5, 1, 3, 2, 5,\n",
              "       2, 1, 3, 5, 4, 4, 0, 0, 3, 1, 2, 2, 3, 5, 1, 5, 3, 4, 2, 2, 0, 2,\n",
              "       2, 5, 5, 0, 3, 3, 2, 2, 0, 3, 4, 0, 4, 2, 4, 5, 4, 1, 5, 3, 2, 2,\n",
              "       5, 4, 3, 3, 4, 3, 3, 4, 1, 5, 2, 3, 2, 2, 0, 2, 1, 3, 1, 2, 2, 5,\n",
              "       5, 1, 4, 2, 2, 1, 1, 3, 3, 5, 5, 2, 5, 1, 5, 0, 3, 3, 0, 5, 1, 4,\n",
              "       1, 4, 2, 5, 5, 1, 4, 2, 4])"
            ]
          },
          "metadata": {},
          "execution_count": 25
        }
      ]
    },
    {
      "cell_type": "code",
      "source": [
        "loss, acc =model.evaluate(x_testcnn, y_test)\n",
        "print(\"Restored model, accuracy: {:5.2f}%\".format(100*acc))"
      ],
      "metadata": {
        "id": "n3kzoqPkDqqS",
        "colab": {
          "base_uri": "https://localhost:8080/"
        },
        "outputId": "6628ee12-037e-49f1-84f2-02cfa653c8bd"
      },
      "execution_count": 26,
      "outputs": [
        {
          "output_type": "stream",
          "name": "stdout",
          "text": [
            "7/7 [==============================] - 0s 2ms/step - loss: 0.4245 - accuracy: 0.8213\n",
            "Restored model, accuracy: 82.13%\n"
          ]
        }
      ]
    },
    {
      "cell_type": "code",
      "source": [
        "loss, acc =model.evaluate(X_train, y_train)\n",
        "print(\"Restored model train, accuracy: {:5.2f}%\".format(100*acc))"
      ],
      "metadata": {
        "id": "fJDTGH_OUX0z",
        "colab": {
          "base_uri": "https://localhost:8080/"
        },
        "outputId": "6e0b28f0-66c8-42ed-bd37-1152e995e3b2"
      },
      "execution_count": 27,
      "outputs": [
        {
          "output_type": "stream",
          "name": "stdout",
          "text": [
            "52/52 [==============================] - 0s 3ms/step - loss: 0.0757 - accuracy: 0.9946\n",
            "Restored model train, accuracy: 99.46%\n"
          ]
        }
      ]
    },
    {
      "cell_type": "code",
      "source": [
        "from sklearn.metrics import classification_report, confusion_matrix,accuracy_score\n",
        "import seaborn as sn\n",
        "\n",
        "print(classification_report(new_Ytest,abc))\n",
        "\n",
        "acc = float(accuracy_score(new_Ytest,abc))*100\n",
        "print(\"----accuracy score %s ----\" % acc)\n",
        "\n",
        "cm = confusion_matrix(new_Ytest,abc)\n",
        "#df_cm = pd.DataFrame(cm)\n",
        "class_names = ['neutral','calm', 'happy','sad','angry', 'fearful' ]\n",
        "df_cm = pd.DataFrame(cm, index=class_names, columns=class_names,)\n",
        "sn.heatmap(df_cm, annot=True, fmt='')\n",
        "plt.show()"
      ],
      "metadata": {
        "id": "SfSC3El94LZg",
        "colab": {
          "base_uri": "https://localhost:8080/",
          "height": 521
        },
        "outputId": "1c69a2de-36b3-4394-cb35-437e8ab251cc"
      },
      "execution_count": 28,
      "outputs": [
        {
          "output_type": "stream",
          "name": "stdout",
          "text": [
            "              precision    recall  f1-score   support\n",
            "\n",
            "           0       0.82      0.78      0.80        18\n",
            "           1       0.86      0.88      0.87        41\n",
            "           2       0.83      0.87      0.85        45\n",
            "           3       0.65      0.84      0.73        31\n",
            "           4       0.94      0.88      0.91        33\n",
            "           5       0.87      0.67      0.75        39\n",
            "\n",
            "    accuracy                           0.82       207\n",
            "   macro avg       0.83      0.82      0.82       207\n",
            "weighted avg       0.83      0.82      0.82       207\n",
            "\n",
            "----accuracy score 82.1256038647343 ----\n"
          ]
        },
        {
          "output_type": "display_data",
          "data": {
            "text/plain": [
              "<Figure size 432x288 with 2 Axes>"
            ],
            "image/png": "[encoded data removed]"
          },
          "metadata": {
            "needs_background": "light"
          }
        }
      ]
    }
  ]
}