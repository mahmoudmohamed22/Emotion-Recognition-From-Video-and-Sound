{
  "nbformat": 4,
  "nbformat_minor": 0,
  "metadata": {
    "colab": {
      "name": "original remove 2 dense layers RMS lr=0.0002 and change in drop 0.1 0.3 try 2.ipynb",
      "provenance": [],
      "collapsed_sections": []
    },
    "kernelspec": {
      "name": "python3",
      "display_name": "Python 3"
    },
    "language_info": {
      "name": "python"
    },
    "accelerator": "GPU"
  },
  "cells": [
    {
      "cell_type": "code",
      "execution_count": 1,
      "metadata": {
        "colab": {
          "base_uri": "https://localhost:8080/"
        },
        "id": "9SRCO-a_AlH5",
        "outputId": "99ef9950-5247-4608-d23e-7f014416ced7"
      },
      "outputs": [
        {
          "output_type": "stream",
          "name": "stdout",
          "text": [
            "Drive already mounted at /content/drive; to attempt to forcibly remount, call drive.mount(\"/content/drive\", force_remount=True).\n"
          ]
        }
      ],
      "source": [
        "from google.colab import drive\n",
        "drive.mount('/content/drive')"
      ]
    },
    {
      "cell_type": "code",
      "source": [
        "!pip install librosa"
      ],
      "metadata": {
        "colab": {
          "base_uri": "https://localhost:8080/"
        },
        "id": "5Lo4mUwG9RMd",
        "outputId": "cd4cb35d-f04c-4f8c-bde4-9116482b8c07"
      },
      "execution_count": 2,
      "outputs": [
        {
          "output_type": "stream",
          "name": "stdout",
          "text": [
            "Looking in indexes: https://pypi.org/simple, https://us-python.pkg.dev/colab-wheels/public/simple/\n",
            "Requirement already satisfied: librosa in /usr/local/lib/python3.7/dist-packages (0.8.1)\n",
            "Requirement already satisfied: soundfile>=0.10.2 in /usr/local/lib/python3.7/dist-packages (from librosa) (0.10.3.post1)\n",
            "Requirement already satisfied: scipy>=1.0.0 in /usr/local/lib/python3.7/dist-packages (from librosa) (1.4.1)\n",
            "Requirement already satisfied: numpy>=1.15.0 in /usr/local/lib/python3.7/dist-packages (from librosa) (1.21.6)\n",
            "Requirement already satisfied: decorator>=3.0.0 in /usr/local/lib/python3.7/dist-packages (from librosa) (4.4.2)\n",
            "Requirement already satisfied: packaging>=20.0 in /usr/local/lib/python3.7/dist-packages (from librosa) (21.3)\n",
            "Requirement already satisfied: scikit-learn!=0.19.0,>=0.14.0 in /usr/local/lib/python3.7/dist-packages (from librosa) (1.0.2)\n",
            "Requirement already satisfied: resampy>=0.2.2 in /usr/local/lib/python3.7/dist-packages (from librosa) (0.2.2)\n",
            "Requirement already satisfied: pooch>=1.0 in /usr/local/lib/python3.7/dist-packages (from librosa) (1.6.0)\n",
            "Requirement already satisfied: numba>=0.43.0 in /usr/local/lib/python3.7/dist-packages (from librosa) (0.51.2)\n",
            "Requirement already satisfied: joblib>=0.14 in /usr/local/lib/python3.7/dist-packages (from librosa) (1.1.0)\n",
            "Requirement already satisfied: audioread>=2.0.0 in /usr/local/lib/python3.7/dist-packages (from librosa) (2.1.9)\n",
            "Requirement already satisfied: setuptools in /usr/local/lib/python3.7/dist-packages (from numba>=0.43.0->librosa) (57.4.0)\n",
            "Requirement already satisfied: llvmlite<0.35,>=0.34.0.dev0 in /usr/local/lib/python3.7/dist-packages (from numba>=0.43.0->librosa) (0.34.0)\n",
            "Requirement already satisfied: pyparsing!=3.0.5,>=2.0.2 in /usr/local/lib/python3.7/dist-packages (from packaging>=20.0->librosa) (3.0.9)\n",
            "Requirement already satisfied: requests>=2.19.0 in /usr/local/lib/python3.7/dist-packages (from pooch>=1.0->librosa) (2.23.0)\n",
            "Requirement already satisfied: appdirs>=1.3.0 in /usr/local/lib/python3.7/dist-packages (from pooch>=1.0->librosa) (1.4.4)\n",
            "Requirement already satisfied: idna<3,>=2.5 in /usr/local/lib/python3.7/dist-packages (from requests>=2.19.0->pooch>=1.0->librosa) (2.10)\n",
            "Requirement already satisfied: chardet<4,>=3.0.2 in /usr/local/lib/python3.7/dist-packages (from requests>=2.19.0->pooch>=1.0->librosa) (3.0.4)\n",
            "Requirement already satisfied: certifi>=2017.4.17 in /usr/local/lib/python3.7/dist-packages (from requests>=2.19.0->pooch>=1.0->librosa) (2022.5.18.1)\n",
            "Requirement already satisfied: urllib3!=1.25.0,!=1.25.1,<1.26,>=1.21.1 in /usr/local/lib/python3.7/dist-packages (from requests>=2.19.0->pooch>=1.0->librosa) (1.24.3)\n",
            "Requirement already satisfied: six>=1.3 in /usr/local/lib/python3.7/dist-packages (from resampy>=0.2.2->librosa) (1.15.0)\n",
            "Requirement already satisfied: threadpoolctl>=2.0.0 in /usr/local/lib/python3.7/dist-packages (from scikit-learn!=0.19.0,>=0.14.0->librosa) (3.1.0)\n",
            "Requirement already satisfied: cffi>=1.0 in /usr/local/lib/python3.7/dist-packages (from soundfile>=0.10.2->librosa) (1.15.0)\n",
            "Requirement already satisfied: pycparser in /usr/local/lib/python3.7/dist-packages (from cffi>=1.0->soundfile>=0.10.2->librosa) (2.21)\n"
          ]
        }
      ]
    },
    {
      "cell_type": "code",
      "metadata": {
        "id": "HJjcbxwy46bG",
        "colab": {
          "base_uri": "https://localhost:8080/",
          "height": 17
        },
        "outputId": "f27096ed-cc1d-40fb-a753-096007907bca"
      },
      "source": [
        "# Orignial Notebook: https://github.com/MITESHPUTHRANNEU/Speech-Emotion-Analyzer/blob/master/final_results_gender_test.ipynb\n",
        "# This notebook author: Reza Chu\n",
        "# Last Editing Date: 31st May 2019\n",
        "\n",
        "## Python\n",
        "import os\n",
        "import random\n",
        "import sys\n",
        "\n",
        "import IPython\n",
        "from IPython.display import Audio\n",
        "from IPython.display import Image\n",
        "import matplotlib.pyplot as plt\n",
        "\n",
        "## Package\n",
        "import glob \n",
        "import keras\n",
        "import IPython.display as ipd\n",
        "import librosa\n",
        "import librosa.display\n",
        "import matplotlib.pyplot as plt\n",
        "import numpy as np\n",
        "import pandas as pd\n",
        "import plotly.graph_objs as go\n",
        "import plotly.offline as py\n",
        "import plotly.tools as tls\n",
        "import seaborn as sns\n",
        "import scipy.io.wavfile\n",
        "import tensorflow as tf\n",
        "py.init_notebook_mode(connected=True)\n",
        "\n",
        "## Keras\n",
        "from keras import regularizers\n",
        "from keras.callbacks import ModelCheckpoint, LearningRateScheduler, EarlyStopping\n",
        "from keras.callbacks import  History, ReduceLROnPlateau, CSVLogger\n",
        "from keras.models import Model, Sequential\n",
        "from keras.layers import Dense, Embedding, LSTM\n",
        "from keras.layers import Input, Flatten, Dropout, Activation, BatchNormalization\n",
        "from keras.layers import Conv1D, MaxPooling1D, AveragePooling1D\n",
        "from keras.preprocessing import sequence\n",
        "from keras.preprocessing.sequence import pad_sequences\n",
        "from keras.preprocessing.text import Tokenizer\n",
        "from keras.utils import np_utils\n",
        "from tensorflow.keras.utils import to_categorical\n",
        "\n",
        "## Sklearn\n",
        "from sklearn.metrics import confusion_matrix\n",
        "from sklearn.preprocessing import LabelEncoder\n",
        "\n",
        "## Rest\n",
        "from scipy.fftpack import fft\n",
        "from scipy import signal\n",
        "from scipy.io import wavfile\n",
        "from tqdm import tqdm\n",
        "\n",
        "input_duration=3\n",
        "# % pylab inline"
      ],
      "execution_count": 3,
      "outputs": [
        {
          "output_type": "display_data",
          "data": {
            "text/html": [
              "        <script type=\"text/javascript\">\n",
              "        window.PlotlyConfig = {MathJaxConfig: 'local'};\n",
              "        if (window.MathJax) {MathJax.Hub.Config({SVG: {font: \"STIX-Web\"}});}\n",
              "        if (typeof require !== 'undefined') {\n",
              "        require.undef(\"plotly\");\n",
              "        requirejs.config({\n",
              "            paths: {\n",
              "                'plotly': ['https://cdn.plot.ly/plotly-2.8.3.min']\n",
              "            }\n",
              "        });\n",
              "        require(['plotly'], function(Plotly) {\n",
              "            window._Plotly = Plotly;\n",
              "        });\n",
              "        }\n",
              "        </script>\n",
              "        "
            ]
          },
          "metadata": {}
        }
      ]
    },
    {
      "cell_type": "code",
      "source": [
        "# # Saving joblib files to not load them again with the loop above\n",
        "\n",
        "# import joblib\n",
        "\n",
        "# X_name = 'x.joblib'\n",
        "# y_name = 'y.joblib'\n",
        "# save_dir = '/content/drive/My Drive/graduation project/audio/paper_code/features'\n",
        "\n",
        "# savedX = joblib.dump(X, os.path.join(save_dir, X_name))\n",
        "# savedy = joblib.dump(y, os.path.join(save_dir, y_name))"
      ],
      "metadata": {
        "id": "UCzic8rlDcuk"
      },
      "execution_count": 4,
      "outputs": []
    },
    {
      "cell_type": "code",
      "source": [
        "# # Loading saved models\n",
        "import joblib\n",
        "X = joblib.load('/content/drive/My Drive/graduation project/audio/paper_code/features/x.joblib')\n",
        "y = joblib.load('/content/drive/My Drive/graduation project/audio/paper_code/features/y.joblib')"
      ],
      "metadata": {
        "id": "Q35CN6zDrzg1"
      },
      "execution_count": 5,
      "outputs": []
    },
    {
      "cell_type": "code",
      "source": [
        "X.shape"
      ],
      "metadata": {
        "colab": {
          "base_uri": "https://localhost:8080/"
        },
        "id": "7PSTurzjCo5K",
        "outputId": "763a6a51-ee49-409a-979e-a3fe548a22f0"
      },
      "execution_count": 6,
      "outputs": [
        {
          "output_type": "execute_result",
          "data": {
            "text/plain": [
              "(2068, 40)"
            ]
          },
          "metadata": {},
          "execution_count": 6
        }
      ]
    },
    {
      "cell_type": "code",
      "source": [
        "from sklearn.model_selection import train_test_split\n",
        "\n",
        "X_train, X_test, y_train, y_test = train_test_split(X,y, test_size=0.1 ,shuffle = True\n",
        "                                                    , random_state=42)\n",
        "X_train , X_valid, y_train, y_valid = train_test_split(X_train,y_train, test_size=0.1112305212 , shuffle = True \n",
        "                                                       , random_state=42)"
      ],
      "metadata": {
        "id": "Ai4Fy5cPCiq1"
      },
      "execution_count": 7,
      "outputs": []
    },
    {
      "cell_type": "code",
      "source": [
        "import numpy as np\n",
        "x_traincnn = np.expand_dims(X_train, axis=2)\n",
        "x_testcnn = np.expand_dims(X_test, axis=2)\n",
        "X_valid= np.expand_dims(X_valid, axis=2)"
      ],
      "metadata": {
        "id": "tp1Fm5K3CEXu"
      },
      "execution_count": 8,
      "outputs": []
    },
    {
      "cell_type": "code",
      "source": [
        "x_traincnn.shape, x_testcnn.shape , X_valid.shape\n",
        "#1861"
      ],
      "metadata": {
        "id": "RI0MxoIPBws5",
        "colab": {
          "base_uri": "https://localhost:8080/"
        },
        "outputId": "333f227a-9add-4abe-e103-a09e1fe2b71a"
      },
      "execution_count": 9,
      "outputs": [
        {
          "output_type": "execute_result",
          "data": {
            "text/plain": [
              "((1654, 40, 1), (207, 40, 1), (207, 40, 1))"
            ]
          },
          "metadata": {},
          "execution_count": 9
        }
      ]
    },
    {
      "cell_type": "code",
      "source": [
        "!pip install tensorflow"
      ],
      "metadata": {
        "colab": {
          "base_uri": "https://localhost:8080/"
        },
        "id": "oALhiMUd9G2Y",
        "outputId": "744643bb-892c-44e6-b219-230590d54aa6"
      },
      "execution_count": 10,
      "outputs": [
        {
          "output_type": "stream",
          "name": "stdout",
          "text": [
            "Looking in indexes: https://pypi.org/simple, https://us-python.pkg.dev/colab-wheels/public/simple/\n",
            "Requirement already satisfied: tensorflow in /usr/local/lib/python3.7/dist-packages (2.8.2+zzzcolab20220527125636)\n",
            "Requirement already satisfied: astunparse>=1.6.0 in /usr/local/lib/python3.7/dist-packages (from tensorflow) (1.6.3)\n",
            "Requirement already satisfied: absl-py>=0.4.0 in /usr/local/lib/python3.7/dist-packages (from tensorflow) (1.0.0)\n",
            "Requirement already satisfied: setuptools in /usr/local/lib/python3.7/dist-packages (from tensorflow) (57.4.0)\n",
            "Requirement already satisfied: tensorboard<2.9,>=2.8 in /usr/local/lib/python3.7/dist-packages (from tensorflow) (2.8.0)\n",
            "Requirement already satisfied: wrapt>=1.11.0 in /usr/local/lib/python3.7/dist-packages (from tensorflow) (1.14.1)\n",
            "Requirement already satisfied: numpy>=1.20 in /usr/local/lib/python3.7/dist-packages (from tensorflow) (1.21.6)\n",
            "Requirement already satisfied: tensorflow-estimator<2.9,>=2.8 in /usr/local/lib/python3.7/dist-packages (from tensorflow) (2.8.0)\n",
            "Requirement already satisfied: google-pasta>=0.1.1 in /usr/local/lib/python3.7/dist-packages (from tensorflow) (0.2.0)\n",
            "Requirement already satisfied: protobuf<3.20,>=3.9.2 in /usr/local/lib/python3.7/dist-packages (from tensorflow) (3.17.3)\n",
            "Requirement already satisfied: gast>=0.2.1 in /usr/local/lib/python3.7/dist-packages (from tensorflow) (0.5.3)\n",
            "Requirement already satisfied: typing-extensions>=3.6.6 in /usr/local/lib/python3.7/dist-packages (from tensorflow) (4.2.0)\n",
            "Requirement already satisfied: h5py>=2.9.0 in /usr/local/lib/python3.7/dist-packages (from tensorflow) (3.1.0)\n",
            "Requirement already satisfied: grpcio<2.0,>=1.24.3 in /usr/local/lib/python3.7/dist-packages (from tensorflow) (1.46.3)\n",
            "Requirement already satisfied: opt-einsum>=2.3.2 in /usr/local/lib/python3.7/dist-packages (from tensorflow) (3.3.0)\n",
            "Requirement already satisfied: six>=1.12.0 in /usr/local/lib/python3.7/dist-packages (from tensorflow) (1.15.0)\n",
            "Requirement already satisfied: flatbuffers>=1.12 in /usr/local/lib/python3.7/dist-packages (from tensorflow) (2.0)\n",
            "Requirement already satisfied: keras<2.9,>=2.8.0rc0 in /usr/local/lib/python3.7/dist-packages (from tensorflow) (2.8.0)\n",
            "Requirement already satisfied: tensorflow-io-gcs-filesystem>=0.23.1 in /usr/local/lib/python3.7/dist-packages (from tensorflow) (0.26.0)\n",
            "Requirement already satisfied: keras-preprocessing>=1.1.1 in /usr/local/lib/python3.7/dist-packages (from tensorflow) (1.1.2)\n",
            "Requirement already satisfied: termcolor>=1.1.0 in /usr/local/lib/python3.7/dist-packages (from tensorflow) (1.1.0)\n",
            "Requirement already satisfied: libclang>=9.0.1 in /usr/local/lib/python3.7/dist-packages (from tensorflow) (14.0.1)\n",
            "Requirement already satisfied: wheel<1.0,>=0.23.0 in /usr/local/lib/python3.7/dist-packages (from astunparse>=1.6.0->tensorflow) (0.37.1)\n",
            "Requirement already satisfied: cached-property in /usr/local/lib/python3.7/dist-packages (from h5py>=2.9.0->tensorflow) (1.5.2)\n",
            "Requirement already satisfied: requests<3,>=2.21.0 in /usr/local/lib/python3.7/dist-packages (from tensorboard<2.9,>=2.8->tensorflow) (2.23.0)\n",
            "Requirement already satisfied: tensorboard-plugin-wit>=1.6.0 in /usr/local/lib/python3.7/dist-packages (from tensorboard<2.9,>=2.8->tensorflow) (1.8.1)\n",
            "Requirement already satisfied: markdown>=2.6.8 in /usr/local/lib/python3.7/dist-packages (from tensorboard<2.9,>=2.8->tensorflow) (3.3.7)\n",
            "Requirement already satisfied: google-auth<3,>=1.6.3 in /usr/local/lib/python3.7/dist-packages (from tensorboard<2.9,>=2.8->tensorflow) (1.35.0)\n",
            "Requirement already satisfied: google-auth-oauthlib<0.5,>=0.4.1 in /usr/local/lib/python3.7/dist-packages (from tensorboard<2.9,>=2.8->tensorflow) (0.4.6)\n",
            "Requirement already satisfied: werkzeug>=0.11.15 in /usr/local/lib/python3.7/dist-packages (from tensorboard<2.9,>=2.8->tensorflow) (1.0.1)\n",
            "Requirement already satisfied: tensorboard-data-server<0.7.0,>=0.6.0 in /usr/local/lib/python3.7/dist-packages (from tensorboard<2.9,>=2.8->tensorflow) (0.6.1)\n",
            "Requirement already satisfied: cachetools<5.0,>=2.0.0 in /usr/local/lib/python3.7/dist-packages (from google-auth<3,>=1.6.3->tensorboard<2.9,>=2.8->tensorflow) (4.2.4)\n",
            "Requirement already satisfied: rsa<5,>=3.1.4 in /usr/local/lib/python3.7/dist-packages (from google-auth<3,>=1.6.3->tensorboard<2.9,>=2.8->tensorflow) (4.8)\n",
            "Requirement already satisfied: pyasn1-modules>=0.2.1 in /usr/local/lib/python3.7/dist-packages (from google-auth<3,>=1.6.3->tensorboard<2.9,>=2.8->tensorflow) (0.2.8)\n",
            "Requirement already satisfied: requests-oauthlib>=0.7.0 in /usr/local/lib/python3.7/dist-packages (from google-auth-oauthlib<0.5,>=0.4.1->tensorboard<2.9,>=2.8->tensorflow) (1.3.1)\n",
            "Requirement already satisfied: importlib-metadata>=4.4 in /usr/local/lib/python3.7/dist-packages (from markdown>=2.6.8->tensorboard<2.9,>=2.8->tensorflow) (4.11.4)\n",
            "Requirement already satisfied: zipp>=0.5 in /usr/local/lib/python3.7/dist-packages (from importlib-metadata>=4.4->markdown>=2.6.8->tensorboard<2.9,>=2.8->tensorflow) (3.8.0)\n",
            "Requirement already satisfied: pyasn1<0.5.0,>=0.4.6 in /usr/local/lib/python3.7/dist-packages (from pyasn1-modules>=0.2.1->google-auth<3,>=1.6.3->tensorboard<2.9,>=2.8->tensorflow) (0.4.8)\n",
            "Requirement already satisfied: idna<3,>=2.5 in /usr/local/lib/python3.7/dist-packages (from requests<3,>=2.21.0->tensorboard<2.9,>=2.8->tensorflow) (2.10)\n",
            "Requirement already satisfied: certifi>=2017.4.17 in /usr/local/lib/python3.7/dist-packages (from requests<3,>=2.21.0->tensorboard<2.9,>=2.8->tensorflow) (2022.5.18.1)\n",
            "Requirement already satisfied: chardet<4,>=3.0.2 in /usr/local/lib/python3.7/dist-packages (from requests<3,>=2.21.0->tensorboard<2.9,>=2.8->tensorflow) (3.0.4)\n",
            "Requirement already satisfied: urllib3!=1.25.0,!=1.25.1,<1.26,>=1.21.1 in /usr/local/lib/python3.7/dist-packages (from requests<3,>=2.21.0->tensorboard<2.9,>=2.8->tensorflow) (1.24.3)\n",
            "Requirement already satisfied: oauthlib>=3.0.0 in /usr/local/lib/python3.7/dist-packages (from requests-oauthlib>=0.7.0->google-auth-oauthlib<0.5,>=0.4.1->tensorboard<2.9,>=2.8->tensorflow) (3.2.0)\n"
          ]
        }
      ]
    },
    {
      "cell_type": "code",
      "source": [
        "import keras\n",
        "import numpy as np\n",
        "import matplotlib.pyplot as plt\n",
        "import tensorflow as tf\n",
        "from keras.preprocessing import sequence\n",
        "from keras.models import Sequential\n",
        "from keras.layers import Dense, Embedding\n",
        "from tensorflow.keras.utils import to_categorical\n",
        "from keras.layers import Input, Flatten, Dropout, Activation\n",
        "from keras.layers import Conv1D, MaxPooling1D\n",
        "from keras.models import Model\n",
        "from keras.callbacks import ModelCheckpoint\n",
        "from tensorflow.keras import optimizers\n",
        "\n",
        "model = Sequential()\n",
        "\n",
        "model.add(Conv1D(128, 8,padding='same', #classifier.add(Convolution2D(64, (3, 3), padding = 'same', input_shape = (128, 128, 3), activation = 'relu'))\n",
        "                 input_shape=(40,1)))\n",
        "model.add(Activation('relu'))\n",
        "model.add(Dropout(0.1))\n",
        "model.add(MaxPooling1D(pool_size=(5)))\n",
        "\n",
        "\n",
        "model.add(Conv1D(256,8,padding='same',))\n",
        "model.add(Activation('relu'))\n",
        "model.add(Dropout(0.3))\n",
        "model.add(MaxPooling1D(pool_size=(5)))\n",
        "\n",
        "#model.add(MaxPooling1D(pool_size=(5)))\n",
        "\n",
        "model.add(Flatten())\n",
        "\n",
        "\n",
        "\n",
        "model.add(Dense(6))\n",
        "model.add(Activation('softmax'))\n",
        "\n",
        "\n",
        "opt = tf.keras.optimizers.RMSprop(lr=0.0002 , decay=0.0)\n",
        "#opt = tf.keras.optimizers.Adam(lr=0.0002 , decay=0.0)\n",
        "#opt = tf.keras.optimizers.RMSprop(lr=0.0001, rho=0.9, epsilon=1e-07, decay=0.0)\n",
        "#opt = tf.keras.optimizers.SGD(lr=0.001, momentum=0.0, decay=0.0, nesterov=False)"
      ],
      "metadata": {
        "id": "g74fXWVAC4Cr",
        "colab": {
          "base_uri": "https://localhost:8080/"
        },
        "outputId": "b85c5ec6-8316-49ea-cd9d-62db89c3fe6f"
      },
      "execution_count": 11,
      "outputs": [
        {
          "output_type": "stream",
          "name": "stderr",
          "text": [
            "/usr/local/lib/python3.7/dist-packages/keras/optimizer_v2/rmsprop.py:130: UserWarning:\n",
            "\n",
            "The `lr` argument is deprecated, use `learning_rate` instead.\n",
            "\n"
          ]
        }
      ]
    },
    {
      "cell_type": "code",
      "source": [
        "model.summary()"
      ],
      "metadata": {
        "colab": {
          "base_uri": "https://localhost:8080/"
        },
        "id": "H6ukOxAGC_I4",
        "outputId": "d921894f-845d-484a-9757-6b85748a007c"
      },
      "execution_count": 12,
      "outputs": [
        {
          "output_type": "stream",
          "name": "stdout",
          "text": [
            "Model: \"sequential\"\n",
            "_________________________________________________________________\n",
            " Layer (type)                Output Shape              Param #   \n",
            "=================================================================\n",
            " conv1d (Conv1D)             (None, 40, 128)           1152      \n",
            "                                                                 \n",
            " activation (Activation)     (None, 40, 128)           0         \n",
            "                                                                 \n",
            " dropout (Dropout)           (None, 40, 128)           0         \n",
            "                                                                 \n",
            " max_pooling1d (MaxPooling1D  (None, 8, 128)           0         \n",
            " )                                                               \n",
            "                                                                 \n",
            " conv1d_1 (Conv1D)           (None, 8, 256)            262400    \n",
            "                                                                 \n",
            " activation_1 (Activation)   (None, 8, 256)            0         \n",
            "                                                                 \n",
            " dropout_1 (Dropout)         (None, 8, 256)            0         \n",
            "                                                                 \n",
            " max_pooling1d_1 (MaxPooling  (None, 1, 256)           0         \n",
            " 1D)                                                             \n",
            "                                                                 \n",
            " flatten (Flatten)           (None, 256)               0         \n",
            "                                                                 \n",
            " dense (Dense)               (None, 6)                 1542      \n",
            "                                                                 \n",
            " activation_2 (Activation)   (None, 6)                 0         \n",
            "                                                                 \n",
            "=================================================================\n",
            "Total params: 265,094\n",
            "Trainable params: 265,094\n",
            "Non-trainable params: 0\n",
            "_________________________________________________________________\n"
          ]
        }
      ]
    },
    {
      "cell_type": "code",
      "source": [
        "model.compile(loss='sparse_categorical_crossentropy',\n",
        "              optimizer=opt,\n",
        "              metrics=['accuracy'])"
      ],
      "metadata": {
        "id": "AbMlLNk4DCBM"
      },
      "execution_count": 13,
      "outputs": []
    },
    {
      "cell_type": "code",
      "source": [
        "# Create an Instance of Early Stopping Callback.\n",
        "early_stopping_callback = EarlyStopping(monitor = 'val_loss', patience = 25, mode = 'min', restore_best_weights = True)\n",
        "\n",
        "cnnhistory=model.fit(x_traincnn, y_train, batch_size=16, epochs=500 , shuffle = True, \n",
        "                     validation_data=(X_valid, y_valid) , callbacks = [early_stopping_callback])"
      ],
      "metadata": {
        "colab": {
          "base_uri": "https://localhost:8080/"
        },
        "id": "RI1v2AuADFhy",
        "outputId": "358e85b0-7aba-4beb-cdad-48c3a285fdcd"
      },
      "execution_count": 14,
      "outputs": [
        {
          "output_type": "stream",
          "name": "stdout",
          "text": [
            "Epoch 1/500\n",
            "104/104 [==============================] - 5s 13ms/step - loss: 9.6013 - accuracy: 0.1971 - val_loss: 5.8025 - val_accuracy: 0.1498\n",
            "Epoch 2/500\n",
            "104/104 [==============================] - 1s 8ms/step - loss: 6.9371 - accuracy: 0.2068 - val_loss: 5.2027 - val_accuracy: 0.2126\n",
            "Epoch 3/500\n",
            "104/104 [==============================] - 1s 10ms/step - loss: 5.5029 - accuracy: 0.2352 - val_loss: 6.5627 - val_accuracy: 0.1546\n",
            "Epoch 4/500\n",
            "104/104 [==============================] - 1s 8ms/step - loss: 4.8391 - accuracy: 0.2479 - val_loss: 4.9537 - val_accuracy: 0.1884\n",
            "Epoch 5/500\n",
            "104/104 [==============================] - 1s 11ms/step - loss: 4.2480 - accuracy: 0.2479 - val_loss: 2.1875 - val_accuracy: 0.3043\n",
            "Epoch 6/500\n",
            "104/104 [==============================] - 1s 8ms/step - loss: 3.7304 - accuracy: 0.2817 - val_loss: 2.5138 - val_accuracy: 0.3527\n",
            "Epoch 7/500\n",
            "104/104 [==============================] - 1s 8ms/step - loss: 3.4322 - accuracy: 0.2848 - val_loss: 3.1522 - val_accuracy: 0.2464\n",
            "Epoch 8/500\n",
            "104/104 [==============================] - 1s 9ms/step - loss: 3.0984 - accuracy: 0.3059 - val_loss: 2.5542 - val_accuracy: 0.3430\n",
            "Epoch 9/500\n",
            "104/104 [==============================] - 1s 8ms/step - loss: 2.9827 - accuracy: 0.3265 - val_loss: 1.8492 - val_accuracy: 0.3623\n",
            "Epoch 10/500\n",
            "104/104 [==============================] - 1s 7ms/step - loss: 2.6762 - accuracy: 0.3301 - val_loss: 2.5878 - val_accuracy: 0.2077\n",
            "Epoch 11/500\n",
            "104/104 [==============================] - 1s 8ms/step - loss: 2.6420 - accuracy: 0.3265 - val_loss: 1.6358 - val_accuracy: 0.4106\n",
            "Epoch 12/500\n",
            "104/104 [==============================] - 1s 8ms/step - loss: 2.5243 - accuracy: 0.3325 - val_loss: 2.9130 - val_accuracy: 0.1932\n",
            "Epoch 13/500\n",
            "104/104 [==============================] - 1s 9ms/step - loss: 2.3303 - accuracy: 0.3464 - val_loss: 1.8702 - val_accuracy: 0.3237\n",
            "Epoch 14/500\n",
            "104/104 [==============================] - 1s 9ms/step - loss: 2.2227 - accuracy: 0.3894 - val_loss: 2.2125 - val_accuracy: 0.2464\n",
            "Epoch 15/500\n",
            "104/104 [==============================] - 1s 7ms/step - loss: 2.1087 - accuracy: 0.3730 - val_loss: 1.4176 - val_accuracy: 0.4638\n",
            "Epoch 16/500\n",
            "104/104 [==============================] - 1s 9ms/step - loss: 1.9958 - accuracy: 0.3954 - val_loss: 2.2012 - val_accuracy: 0.2464\n",
            "Epoch 17/500\n",
            "104/104 [==============================] - 1s 7ms/step - loss: 1.9117 - accuracy: 0.4051 - val_loss: 1.2890 - val_accuracy: 0.4879\n",
            "Epoch 18/500\n",
            "104/104 [==============================] - 1s 10ms/step - loss: 1.8540 - accuracy: 0.4323 - val_loss: 1.8411 - val_accuracy: 0.3188\n",
            "Epoch 19/500\n",
            "104/104 [==============================] - 1s 9ms/step - loss: 1.8184 - accuracy: 0.4414 - val_loss: 1.2011 - val_accuracy: 0.5266\n",
            "Epoch 20/500\n",
            "104/104 [==============================] - 1s 8ms/step - loss: 1.6725 - accuracy: 0.4462 - val_loss: 1.4166 - val_accuracy: 0.4976\n",
            "Epoch 21/500\n",
            "104/104 [==============================] - 1s 9ms/step - loss: 1.6178 - accuracy: 0.4480 - val_loss: 1.4761 - val_accuracy: 0.3961\n",
            "Epoch 22/500\n",
            "104/104 [==============================] - 1s 9ms/step - loss: 1.5743 - accuracy: 0.4661 - val_loss: 1.9135 - val_accuracy: 0.2899\n",
            "Epoch 23/500\n",
            "104/104 [==============================] - 1s 9ms/step - loss: 1.4896 - accuracy: 0.5012 - val_loss: 1.1073 - val_accuracy: 0.5314\n",
            "Epoch 24/500\n",
            "104/104 [==============================] - 1s 10ms/step - loss: 1.4762 - accuracy: 0.5006 - val_loss: 1.8332 - val_accuracy: 0.3575\n",
            "Epoch 25/500\n",
            "104/104 [==============================] - 1s 9ms/step - loss: 1.3858 - accuracy: 0.5030 - val_loss: 1.0821 - val_accuracy: 0.5990\n",
            "Epoch 26/500\n",
            "104/104 [==============================] - 1s 7ms/step - loss: 1.3608 - accuracy: 0.5314 - val_loss: 1.2927 - val_accuracy: 0.5217\n",
            "Epoch 27/500\n",
            "104/104 [==============================] - 1s 8ms/step - loss: 1.2832 - accuracy: 0.5375 - val_loss: 1.3823 - val_accuracy: 0.4058\n",
            "Epoch 28/500\n",
            "104/104 [==============================] - 1s 7ms/step - loss: 1.3025 - accuracy: 0.5242 - val_loss: 1.1874 - val_accuracy: 0.5121\n",
            "Epoch 29/500\n",
            "104/104 [==============================] - 1s 5ms/step - loss: 1.2520 - accuracy: 0.5399 - val_loss: 1.3052 - val_accuracy: 0.5024\n",
            "Epoch 30/500\n",
            "104/104 [==============================] - 0s 5ms/step - loss: 1.2308 - accuracy: 0.5586 - val_loss: 1.1497 - val_accuracy: 0.5604\n",
            "Epoch 31/500\n",
            "104/104 [==============================] - 0s 5ms/step - loss: 1.1691 - accuracy: 0.5586 - val_loss: 1.6048 - val_accuracy: 0.4058\n",
            "Epoch 32/500\n",
            "104/104 [==============================] - 0s 5ms/step - loss: 1.1184 - accuracy: 0.5738 - val_loss: 1.0517 - val_accuracy: 0.5749\n",
            "Epoch 33/500\n",
            "104/104 [==============================] - 0s 5ms/step - loss: 1.1468 - accuracy: 0.5889 - val_loss: 1.0355 - val_accuracy: 0.5845\n",
            "Epoch 34/500\n",
            "104/104 [==============================] - 0s 5ms/step - loss: 1.0886 - accuracy: 0.5907 - val_loss: 1.1895 - val_accuracy: 0.5169\n",
            "Epoch 35/500\n",
            "104/104 [==============================] - 0s 5ms/step - loss: 1.0816 - accuracy: 0.6010 - val_loss: 1.0212 - val_accuracy: 0.5894\n",
            "Epoch 36/500\n",
            "104/104 [==============================] - 1s 5ms/step - loss: 1.0358 - accuracy: 0.6076 - val_loss: 0.9584 - val_accuracy: 0.6667\n",
            "Epoch 37/500\n",
            "104/104 [==============================] - 0s 5ms/step - loss: 1.0103 - accuracy: 0.6058 - val_loss: 1.3255 - val_accuracy: 0.4541\n",
            "Epoch 38/500\n",
            "104/104 [==============================] - 1s 5ms/step - loss: 1.0198 - accuracy: 0.6161 - val_loss: 0.9241 - val_accuracy: 0.6763\n",
            "Epoch 39/500\n",
            "104/104 [==============================] - 1s 5ms/step - loss: 0.9990 - accuracy: 0.6161 - val_loss: 1.0611 - val_accuracy: 0.5362\n",
            "Epoch 40/500\n",
            "104/104 [==============================] - 1s 5ms/step - loss: 0.9708 - accuracy: 0.6397 - val_loss: 1.1468 - val_accuracy: 0.5411\n",
            "Epoch 41/500\n",
            "104/104 [==============================] - 1s 5ms/step - loss: 0.9621 - accuracy: 0.6342 - val_loss: 0.9645 - val_accuracy: 0.5942\n",
            "Epoch 42/500\n",
            "104/104 [==============================] - 1s 6ms/step - loss: 0.9291 - accuracy: 0.6427 - val_loss: 0.9099 - val_accuracy: 0.6570\n",
            "Epoch 43/500\n",
            "104/104 [==============================] - 1s 5ms/step - loss: 0.9073 - accuracy: 0.6385 - val_loss: 0.9681 - val_accuracy: 0.6522\n",
            "Epoch 44/500\n",
            "104/104 [==============================] - 1s 5ms/step - loss: 0.8724 - accuracy: 0.6778 - val_loss: 0.9158 - val_accuracy: 0.6715\n",
            "Epoch 45/500\n",
            "104/104 [==============================] - 1s 5ms/step - loss: 0.9261 - accuracy: 0.6433 - val_loss: 0.9001 - val_accuracy: 0.6522\n",
            "Epoch 46/500\n",
            "104/104 [==============================] - 1s 5ms/step - loss: 0.8577 - accuracy: 0.6699 - val_loss: 0.9744 - val_accuracy: 0.6184\n",
            "Epoch 47/500\n",
            "104/104 [==============================] - 1s 5ms/step - loss: 0.8625 - accuracy: 0.6657 - val_loss: 0.9826 - val_accuracy: 0.6184\n",
            "Epoch 48/500\n",
            "104/104 [==============================] - 0s 5ms/step - loss: 0.8543 - accuracy: 0.6626 - val_loss: 0.9130 - val_accuracy: 0.6329\n",
            "Epoch 49/500\n",
            "104/104 [==============================] - 0s 5ms/step - loss: 0.8589 - accuracy: 0.6735 - val_loss: 0.8708 - val_accuracy: 0.6667\n",
            "Epoch 50/500\n",
            "104/104 [==============================] - 1s 5ms/step - loss: 0.7913 - accuracy: 0.7013 - val_loss: 0.9133 - val_accuracy: 0.6522\n",
            "Epoch 51/500\n",
            "104/104 [==============================] - 0s 5ms/step - loss: 0.8186 - accuracy: 0.6923 - val_loss: 0.8055 - val_accuracy: 0.7005\n",
            "Epoch 52/500\n",
            "104/104 [==============================] - 1s 5ms/step - loss: 0.8140 - accuracy: 0.6862 - val_loss: 0.8274 - val_accuracy: 0.7005\n",
            "Epoch 53/500\n",
            "104/104 [==============================] - 1s 5ms/step - loss: 0.7833 - accuracy: 0.6989 - val_loss: 0.8840 - val_accuracy: 0.6957\n",
            "Epoch 54/500\n",
            "104/104 [==============================] - 0s 4ms/step - loss: 0.7896 - accuracy: 0.6917 - val_loss: 0.8014 - val_accuracy: 0.6667\n",
            "Epoch 55/500\n",
            "104/104 [==============================] - 1s 5ms/step - loss: 0.7485 - accuracy: 0.7080 - val_loss: 0.8217 - val_accuracy: 0.6473\n",
            "Epoch 56/500\n",
            "104/104 [==============================] - 1s 6ms/step - loss: 0.7317 - accuracy: 0.7195 - val_loss: 0.9287 - val_accuracy: 0.6280\n",
            "Epoch 57/500\n",
            "104/104 [==============================] - 1s 6ms/step - loss: 0.7313 - accuracy: 0.7146 - val_loss: 0.9142 - val_accuracy: 0.6329\n",
            "Epoch 58/500\n",
            "104/104 [==============================] - 1s 8ms/step - loss: 0.7111 - accuracy: 0.7285 - val_loss: 1.0883 - val_accuracy: 0.6329\n",
            "Epoch 59/500\n",
            "104/104 [==============================] - 1s 7ms/step - loss: 0.7363 - accuracy: 0.7237 - val_loss: 0.8346 - val_accuracy: 0.7198\n",
            "Epoch 60/500\n",
            "104/104 [==============================] - 1s 7ms/step - loss: 0.7068 - accuracy: 0.7322 - val_loss: 0.8014 - val_accuracy: 0.6957\n",
            "Epoch 61/500\n",
            "104/104 [==============================] - 1s 6ms/step - loss: 0.6883 - accuracy: 0.7328 - val_loss: 0.8093 - val_accuracy: 0.7005\n",
            "Epoch 62/500\n",
            "104/104 [==============================] - 1s 5ms/step - loss: 0.6884 - accuracy: 0.7285 - val_loss: 0.8200 - val_accuracy: 0.6957\n",
            "Epoch 63/500\n",
            "104/104 [==============================] - 1s 5ms/step - loss: 0.6892 - accuracy: 0.7352 - val_loss: 0.8877 - val_accuracy: 0.6715\n",
            "Epoch 64/500\n",
            "104/104 [==============================] - 0s 5ms/step - loss: 0.6787 - accuracy: 0.7322 - val_loss: 0.7863 - val_accuracy: 0.7198\n",
            "Epoch 65/500\n",
            "104/104 [==============================] - 1s 5ms/step - loss: 0.6693 - accuracy: 0.7521 - val_loss: 0.8094 - val_accuracy: 0.7005\n",
            "Epoch 66/500\n",
            "104/104 [==============================] - 0s 5ms/step - loss: 0.6537 - accuracy: 0.7594 - val_loss: 0.8466 - val_accuracy: 0.6957\n",
            "Epoch 67/500\n",
            "104/104 [==============================] - 1s 5ms/step - loss: 0.6626 - accuracy: 0.7461 - val_loss: 0.7423 - val_accuracy: 0.7150\n",
            "Epoch 68/500\n",
            "104/104 [==============================] - 1s 5ms/step - loss: 0.6603 - accuracy: 0.7358 - val_loss: 0.8630 - val_accuracy: 0.7005\n",
            "Epoch 69/500\n",
            "104/104 [==============================] - 0s 5ms/step - loss: 0.6330 - accuracy: 0.7570 - val_loss: 0.8289 - val_accuracy: 0.7005\n",
            "Epoch 70/500\n",
            "104/104 [==============================] - 1s 5ms/step - loss: 0.6350 - accuracy: 0.7539 - val_loss: 0.7732 - val_accuracy: 0.6957\n",
            "Epoch 71/500\n",
            "104/104 [==============================] - 1s 5ms/step - loss: 0.6154 - accuracy: 0.7515 - val_loss: 0.9878 - val_accuracy: 0.6377\n",
            "Epoch 72/500\n",
            "104/104 [==============================] - 1s 5ms/step - loss: 0.6100 - accuracy: 0.7721 - val_loss: 0.8258 - val_accuracy: 0.6763\n",
            "Epoch 73/500\n",
            "104/104 [==============================] - 1s 5ms/step - loss: 0.5801 - accuracy: 0.7739 - val_loss: 0.7490 - val_accuracy: 0.7198\n",
            "Epoch 74/500\n",
            "104/104 [==============================] - 1s 5ms/step - loss: 0.5788 - accuracy: 0.7684 - val_loss: 0.7650 - val_accuracy: 0.7005\n",
            "Epoch 75/500\n",
            "104/104 [==============================] - 0s 5ms/step - loss: 0.5917 - accuracy: 0.7733 - val_loss: 0.7411 - val_accuracy: 0.7391\n",
            "Epoch 76/500\n",
            "104/104 [==============================] - 1s 5ms/step - loss: 0.5737 - accuracy: 0.7721 - val_loss: 0.8371 - val_accuracy: 0.7101\n",
            "Epoch 77/500\n",
            "104/104 [==============================] - 0s 4ms/step - loss: 0.5760 - accuracy: 0.7811 - val_loss: 0.7837 - val_accuracy: 0.7101\n",
            "Epoch 78/500\n",
            "104/104 [==============================] - 1s 5ms/step - loss: 0.5697 - accuracy: 0.7860 - val_loss: 0.8459 - val_accuracy: 0.7053\n",
            "Epoch 79/500\n",
            "104/104 [==============================] - 1s 5ms/step - loss: 0.5536 - accuracy: 0.7902 - val_loss: 0.9058 - val_accuracy: 0.6908\n",
            "Epoch 80/500\n",
            "104/104 [==============================] - 1s 5ms/step - loss: 0.5411 - accuracy: 0.7854 - val_loss: 0.8405 - val_accuracy: 0.7053\n",
            "Epoch 81/500\n",
            "104/104 [==============================] - 1s 5ms/step - loss: 0.5496 - accuracy: 0.7823 - val_loss: 0.7533 - val_accuracy: 0.7246\n",
            "Epoch 82/500\n",
            "104/104 [==============================] - 1s 5ms/step - loss: 0.5286 - accuracy: 0.7981 - val_loss: 0.7753 - val_accuracy: 0.7198\n",
            "Epoch 83/500\n",
            "104/104 [==============================] - 0s 5ms/step - loss: 0.5350 - accuracy: 0.8053 - val_loss: 0.6973 - val_accuracy: 0.7150\n",
            "Epoch 84/500\n",
            "104/104 [==============================] - 1s 5ms/step - loss: 0.5051 - accuracy: 0.8150 - val_loss: 0.7363 - val_accuracy: 0.7391\n",
            "Epoch 85/500\n",
            "104/104 [==============================] - 1s 5ms/step - loss: 0.5165 - accuracy: 0.8096 - val_loss: 0.6781 - val_accuracy: 0.7488\n",
            "Epoch 86/500\n",
            "104/104 [==============================] - 1s 5ms/step - loss: 0.5040 - accuracy: 0.8102 - val_loss: 0.7390 - val_accuracy: 0.7295\n",
            "Epoch 87/500\n",
            "104/104 [==============================] - 1s 6ms/step - loss: 0.4834 - accuracy: 0.8210 - val_loss: 0.8352 - val_accuracy: 0.7198\n",
            "Epoch 88/500\n",
            "104/104 [==============================] - 0s 5ms/step - loss: 0.4868 - accuracy: 0.8059 - val_loss: 0.8032 - val_accuracy: 0.7150\n",
            "Epoch 89/500\n",
            "104/104 [==============================] - 1s 5ms/step - loss: 0.4714 - accuracy: 0.8168 - val_loss: 0.6669 - val_accuracy: 0.7633\n",
            "Epoch 90/500\n",
            "104/104 [==============================] - 1s 5ms/step - loss: 0.4592 - accuracy: 0.8222 - val_loss: 0.6904 - val_accuracy: 0.7729\n",
            "Epoch 91/500\n",
            "104/104 [==============================] - 1s 5ms/step - loss: 0.4822 - accuracy: 0.8156 - val_loss: 0.8079 - val_accuracy: 0.7053\n",
            "Epoch 92/500\n",
            "104/104 [==============================] - 1s 5ms/step - loss: 0.4637 - accuracy: 0.8180 - val_loss: 0.7632 - val_accuracy: 0.7295\n",
            "Epoch 93/500\n",
            "104/104 [==============================] - 1s 5ms/step - loss: 0.4558 - accuracy: 0.8277 - val_loss: 0.6660 - val_accuracy: 0.7585\n",
            "Epoch 94/500\n",
            "104/104 [==============================] - 0s 4ms/step - loss: 0.4543 - accuracy: 0.8174 - val_loss: 0.6831 - val_accuracy: 0.7198\n",
            "Epoch 95/500\n",
            "104/104 [==============================] - 1s 5ms/step - loss: 0.4541 - accuracy: 0.8210 - val_loss: 0.6934 - val_accuracy: 0.7681\n",
            "Epoch 96/500\n",
            "104/104 [==============================] - 1s 5ms/step - loss: 0.4393 - accuracy: 0.8271 - val_loss: 0.7213 - val_accuracy: 0.7295\n",
            "Epoch 97/500\n",
            "104/104 [==============================] - 1s 5ms/step - loss: 0.4413 - accuracy: 0.8356 - val_loss: 0.7521 - val_accuracy: 0.7246\n",
            "Epoch 98/500\n",
            "104/104 [==============================] - 1s 5ms/step - loss: 0.4321 - accuracy: 0.8301 - val_loss: 0.6926 - val_accuracy: 0.7585\n",
            "Epoch 99/500\n",
            "104/104 [==============================] - 0s 5ms/step - loss: 0.4065 - accuracy: 0.8495 - val_loss: 0.6849 - val_accuracy: 0.7391\n",
            "Epoch 100/500\n",
            "104/104 [==============================] - 1s 5ms/step - loss: 0.4035 - accuracy: 0.8525 - val_loss: 0.7221 - val_accuracy: 0.7198\n",
            "Epoch 101/500\n",
            "104/104 [==============================] - 1s 5ms/step - loss: 0.4108 - accuracy: 0.8446 - val_loss: 0.8194 - val_accuracy: 0.7343\n",
            "Epoch 102/500\n",
            "104/104 [==============================] - 0s 4ms/step - loss: 0.4233 - accuracy: 0.8434 - val_loss: 0.7272 - val_accuracy: 0.7246\n",
            "Epoch 103/500\n",
            "104/104 [==============================] - 1s 5ms/step - loss: 0.4298 - accuracy: 0.8313 - val_loss: 0.6409 - val_accuracy: 0.7729\n",
            "Epoch 104/500\n",
            "104/104 [==============================] - 1s 5ms/step - loss: 0.4213 - accuracy: 0.8398 - val_loss: 0.7670 - val_accuracy: 0.7391\n",
            "Epoch 105/500\n",
            "104/104 [==============================] - 1s 5ms/step - loss: 0.3796 - accuracy: 0.8591 - val_loss: 0.6913 - val_accuracy: 0.7826\n",
            "Epoch 106/500\n",
            "104/104 [==============================] - 1s 5ms/step - loss: 0.4085 - accuracy: 0.8513 - val_loss: 0.7608 - val_accuracy: 0.7295\n",
            "Epoch 107/500\n",
            "104/104 [==============================] - 1s 5ms/step - loss: 0.3831 - accuracy: 0.8561 - val_loss: 0.7804 - val_accuracy: 0.7295\n",
            "Epoch 108/500\n",
            "104/104 [==============================] - 1s 5ms/step - loss: 0.3714 - accuracy: 0.8507 - val_loss: 0.8431 - val_accuracy: 0.7198\n",
            "Epoch 109/500\n",
            "104/104 [==============================] - 1s 5ms/step - loss: 0.4117 - accuracy: 0.8422 - val_loss: 0.7490 - val_accuracy: 0.7391\n",
            "Epoch 110/500\n",
            "104/104 [==============================] - 1s 5ms/step - loss: 0.3793 - accuracy: 0.8458 - val_loss: 0.8041 - val_accuracy: 0.7150\n",
            "Epoch 111/500\n",
            "104/104 [==============================] - 1s 5ms/step - loss: 0.3730 - accuracy: 0.8579 - val_loss: 0.7485 - val_accuracy: 0.7681\n",
            "Epoch 112/500\n",
            "104/104 [==============================] - 1s 5ms/step - loss: 0.3550 - accuracy: 0.8628 - val_loss: 0.7262 - val_accuracy: 0.7681\n",
            "Epoch 113/500\n",
            "104/104 [==============================] - 1s 5ms/step - loss: 0.3789 - accuracy: 0.8555 - val_loss: 0.7894 - val_accuracy: 0.7391\n",
            "Epoch 114/500\n",
            "104/104 [==============================] - 1s 5ms/step - loss: 0.3593 - accuracy: 0.8694 - val_loss: 0.6811 - val_accuracy: 0.7923\n",
            "Epoch 115/500\n",
            "104/104 [==============================] - 1s 5ms/step - loss: 0.3715 - accuracy: 0.8519 - val_loss: 0.7415 - val_accuracy: 0.7295\n",
            "Epoch 116/500\n",
            "104/104 [==============================] - 1s 5ms/step - loss: 0.3554 - accuracy: 0.8676 - val_loss: 0.7386 - val_accuracy: 0.7440\n",
            "Epoch 117/500\n",
            "104/104 [==============================] - 1s 5ms/step - loss: 0.3590 - accuracy: 0.8670 - val_loss: 0.7525 - val_accuracy: 0.7246\n",
            "Epoch 118/500\n",
            "104/104 [==============================] - 0s 4ms/step - loss: 0.3324 - accuracy: 0.8785 - val_loss: 0.7717 - val_accuracy: 0.7681\n",
            "Epoch 119/500\n",
            "104/104 [==============================] - 1s 5ms/step - loss: 0.3542 - accuracy: 0.8646 - val_loss: 0.7676 - val_accuracy: 0.7150\n",
            "Epoch 120/500\n",
            "104/104 [==============================] - 1s 5ms/step - loss: 0.3355 - accuracy: 0.8730 - val_loss: 0.6460 - val_accuracy: 0.7681\n",
            "Epoch 121/500\n",
            "104/104 [==============================] - 0s 5ms/step - loss: 0.3334 - accuracy: 0.8670 - val_loss: 0.5940 - val_accuracy: 0.7874\n",
            "Epoch 122/500\n",
            "104/104 [==============================] - 1s 5ms/step - loss: 0.3316 - accuracy: 0.8748 - val_loss: 0.7343 - val_accuracy: 0.7536\n",
            "Epoch 123/500\n",
            "104/104 [==============================] - 1s 5ms/step - loss: 0.3244 - accuracy: 0.8809 - val_loss: 0.7601 - val_accuracy: 0.7295\n",
            "Epoch 124/500\n",
            "104/104 [==============================] - 0s 5ms/step - loss: 0.3337 - accuracy: 0.8742 - val_loss: 0.6327 - val_accuracy: 0.7923\n",
            "Epoch 125/500\n",
            "104/104 [==============================] - 1s 6ms/step - loss: 0.3326 - accuracy: 0.8724 - val_loss: 0.8172 - val_accuracy: 0.7343\n",
            "Epoch 126/500\n",
            "104/104 [==============================] - 1s 5ms/step - loss: 0.3292 - accuracy: 0.8779 - val_loss: 0.6247 - val_accuracy: 0.7874\n",
            "Epoch 127/500\n",
            "104/104 [==============================] - 0s 5ms/step - loss: 0.3128 - accuracy: 0.8900 - val_loss: 0.6626 - val_accuracy: 0.7729\n",
            "Epoch 128/500\n",
            "104/104 [==============================] - 1s 5ms/step - loss: 0.3033 - accuracy: 0.8942 - val_loss: 0.8290 - val_accuracy: 0.7343\n",
            "Epoch 129/500\n",
            "104/104 [==============================] - 0s 5ms/step - loss: 0.2963 - accuracy: 0.8936 - val_loss: 0.6962 - val_accuracy: 0.8019\n",
            "Epoch 130/500\n",
            "104/104 [==============================] - 1s 5ms/step - loss: 0.3004 - accuracy: 0.8845 - val_loss: 0.8439 - val_accuracy: 0.7246\n",
            "Epoch 131/500\n",
            "104/104 [==============================] - 1s 5ms/step - loss: 0.2903 - accuracy: 0.8918 - val_loss: 0.7344 - val_accuracy: 0.7440\n",
            "Epoch 132/500\n",
            "104/104 [==============================] - 1s 5ms/step - loss: 0.2978 - accuracy: 0.8845 - val_loss: 0.6355 - val_accuracy: 0.7923\n",
            "Epoch 133/500\n",
            "104/104 [==============================] - 1s 5ms/step - loss: 0.2825 - accuracy: 0.8839 - val_loss: 0.7032 - val_accuracy: 0.7778\n",
            "Epoch 134/500\n",
            "104/104 [==============================] - 1s 5ms/step - loss: 0.2979 - accuracy: 0.8809 - val_loss: 0.6871 - val_accuracy: 0.7729\n",
            "Epoch 135/500\n",
            "104/104 [==============================] - 1s 5ms/step - loss: 0.2863 - accuracy: 0.8984 - val_loss: 0.7927 - val_accuracy: 0.7488\n",
            "Epoch 136/500\n",
            "104/104 [==============================] - 1s 5ms/step - loss: 0.2807 - accuracy: 0.9008 - val_loss: 0.6825 - val_accuracy: 0.7874\n",
            "Epoch 137/500\n",
            "104/104 [==============================] - 1s 5ms/step - loss: 0.2848 - accuracy: 0.8948 - val_loss: 0.6809 - val_accuracy: 0.7826\n",
            "Epoch 138/500\n",
            "104/104 [==============================] - 1s 5ms/step - loss: 0.2718 - accuracy: 0.8888 - val_loss: 0.6867 - val_accuracy: 0.7826\n",
            "Epoch 139/500\n",
            "104/104 [==============================] - 1s 5ms/step - loss: 0.2701 - accuracy: 0.8906 - val_loss: 0.6815 - val_accuracy: 0.7729\n",
            "Epoch 140/500\n",
            "104/104 [==============================] - 0s 5ms/step - loss: 0.2661 - accuracy: 0.9069 - val_loss: 0.8038 - val_accuracy: 0.7343\n",
            "Epoch 141/500\n",
            "104/104 [==============================] - 1s 5ms/step - loss: 0.2726 - accuracy: 0.8966 - val_loss: 0.8468 - val_accuracy: 0.7440\n",
            "Epoch 142/500\n",
            "104/104 [==============================] - 1s 5ms/step - loss: 0.2722 - accuracy: 0.8990 - val_loss: 0.8636 - val_accuracy: 0.7343\n",
            "Epoch 143/500\n",
            "104/104 [==============================] - 1s 5ms/step - loss: 0.2722 - accuracy: 0.8996 - val_loss: 0.6800 - val_accuracy: 0.7826\n",
            "Epoch 144/500\n",
            "104/104 [==============================] - 1s 5ms/step - loss: 0.2711 - accuracy: 0.8924 - val_loss: 0.7014 - val_accuracy: 0.7923\n",
            "Epoch 145/500\n",
            "104/104 [==============================] - 1s 5ms/step - loss: 0.2481 - accuracy: 0.9021 - val_loss: 0.6718 - val_accuracy: 0.7874\n",
            "Epoch 146/500\n",
            "104/104 [==============================] - 1s 5ms/step - loss: 0.2509 - accuracy: 0.9081 - val_loss: 0.6347 - val_accuracy: 0.7874\n"
          ]
        }
      ]
    },
    {
      "cell_type": "code",
      "source": [
        "plt.plot(cnnhistory.history['loss'])\n",
        "plt.plot(cnnhistory.history['val_loss'])\n",
        "plt.title('model loss')\n",
        "plt.ylabel('loss')\n",
        "plt.xlabel('epoch')\n",
        "plt.legend(['train','test'], loc='upper left')\n",
        "plt.show()"
      ],
      "metadata": {
        "colab": {
          "base_uri": "https://localhost:8080/",
          "height": 295
        },
        "id": "oQYnuaCrDH_A",
        "outputId": "ad5f9392-2787-43b8-adc2-090585659575"
      },
      "execution_count": 15,
      "outputs": [
        {
          "output_type": "display_data",
          "data": {
            "text/plain": [
              "<Figure size 432x288 with 1 Axes>"
            ],
            "image/png": "[encoded data removed]"
          },
          "metadata": {
            "needs_background": "light"
          }
        }
      ]
    },
    {
      "cell_type": "code",
      "source": [
        "plt.plot(cnnhistory.history['accuracy'])\n",
        "plt.plot(cnnhistory.history['val_accuracy'])\n",
        "plt.title('model accuracy')\n",
        "plt.ylabel('accuracy')\n",
        "plt.xlabel('epoch')\n",
        "plt.legend(['train','test'], loc='upper left')\n",
        "plt.show()"
      ],
      "metadata": {
        "colab": {
          "base_uri": "https://localhost:8080/",
          "height": 295
        },
        "id": "IFkTuO8nDNdq",
        "outputId": "983984d5-1ef7-4381-a5db-fd9d54a10cbf"
      },
      "execution_count": 16,
      "outputs": [
        {
          "output_type": "display_data",
          "data": {
            "text/plain": [
              "<Figure size 432x288 with 1 Axes>"
            ],
            "image/png": "[encoded data removed]"
          },
          "metadata": {
            "needs_background": "light"
          }
        }
      ]
    },
    {
      "cell_type": "code",
      "source": [
        "predictions = model.predict(x_testcnn)"
      ],
      "metadata": {
        "id": "A2xtrN5wDQgY"
      },
      "execution_count": 17,
      "outputs": []
    },
    {
      "cell_type": "code",
      "source": [
        "predictions"
      ],
      "metadata": {
        "colab": {
          "base_uri": "https://localhost:8080/"
        },
        "id": "_f_ohjXKDUpY",
        "outputId": "823209e8-6dab-45c2-a7fc-bf95737b5889"
      },
      "execution_count": 18,
      "outputs": [
        {
          "output_type": "execute_result",
          "data": {
            "text/plain": [
              "array([[6.3180381e-01, 7.1310394e-02, 1.1366058e-01, 9.7383872e-02,\n",
              "        6.1862919e-02, 2.3978382e-02],\n",
              "       [2.9499070e-05, 6.6622829e-07, 1.4326850e-09, 9.4570762e-01,\n",
              "        7.5327642e-07, 5.4261472e-02],\n",
              "       [1.4472248e-01, 4.7634814e-02, 2.4612831e-02, 6.2839532e-01,\n",
              "        2.2730090e-02, 1.3190451e-01],\n",
              "       ...,\n",
              "       [1.1916475e-04, 8.1420112e-08, 5.7354569e-05, 2.8058776e-04,\n",
              "        9.9740666e-01, 2.1361052e-03],\n",
              "       [1.3866661e-04, 9.2105269e-01, 6.7387767e-02, 8.2273418e-03,\n",
              "        7.5473345e-04, 2.4387687e-03],\n",
              "       [6.5964086e-05, 1.1834173e-04, 4.3069134e-03, 2.5342751e-04,\n",
              "        9.9344206e-01, 1.8133000e-03]], dtype=float32)"
            ]
          },
          "metadata": {},
          "execution_count": 18
        }
      ]
    },
    {
      "cell_type": "code",
      "source": [
        "y_test"
      ],
      "metadata": {
        "colab": {
          "base_uri": "https://localhost:8080/"
        },
        "id": "cmA2bFgsDW3D",
        "outputId": "e768a064-91bd-41ac-fc11-2172c89e61c6"
      },
      "execution_count": 19,
      "outputs": [
        {
          "output_type": "execute_result",
          "data": {
            "text/plain": [
              "array([3, 3, 3, 0, 4, 4, 1, 2, 5, 0, 5, 3, 2, 2, 1, 4, 4, 5, 2, 4, 1, 2,\n",
              "       3, 5, 4, 2, 1, 2, 2, 2, 2, 5, 2, 5, 3, 1, 2, 0, 4, 5, 2, 3, 2, 2,\n",
              "       5, 2, 0, 1, 3, 4, 4, 5, 1, 1, 4, 4, 5, 1, 1, 1, 0, 1, 5, 0, 4, 1,\n",
              "       1, 0, 1, 4, 1, 0, 4, 1, 3, 1, 2, 2, 1, 2, 3, 0, 5, 3, 5, 5, 2, 4,\n",
              "       5, 1, 5, 1, 5, 3, 4, 1, 4, 1, 5, 4, 5, 1, 2, 1, 1, 5, 1, 3, 2, 5,\n",
              "       2, 1, 3, 5, 4, 4, 0, 0, 3, 1, 2, 2, 3, 5, 1, 5, 3, 4, 2, 2, 0, 2,\n",
              "       2, 5, 5, 0, 3, 3, 2, 2, 0, 3, 4, 0, 4, 2, 4, 5, 4, 1, 5, 3, 2, 2,\n",
              "       5, 4, 3, 3, 4, 3, 3, 4, 1, 5, 2, 3, 2, 2, 0, 2, 1, 3, 1, 2, 2, 5,\n",
              "       5, 1, 4, 2, 2, 1, 1, 3, 3, 5, 5, 2, 5, 1, 5, 0, 3, 3, 0, 5, 1, 4,\n",
              "       1, 4, 2, 5, 5, 1, 4, 2, 4])"
            ]
          },
          "metadata": {},
          "execution_count": 19
        }
      ]
    },
    {
      "cell_type": "code",
      "source": [
        "new_Ytest = y_test.astype(int)"
      ],
      "metadata": {
        "id": "0PHDKWJWDY3g"
      },
      "execution_count": 20,
      "outputs": []
    },
    {
      "cell_type": "code",
      "source": [
        "new_Ytest"
      ],
      "metadata": {
        "colab": {
          "base_uri": "https://localhost:8080/"
        },
        "id": "k68v2i-pDbZE",
        "outputId": "0d54c7df-760f-439f-f361-1b697b847d9f"
      },
      "execution_count": 21,
      "outputs": [
        {
          "output_type": "execute_result",
          "data": {
            "text/plain": [
              "array([3, 3, 3, 0, 4, 4, 1, 2, 5, 0, 5, 3, 2, 2, 1, 4, 4, 5, 2, 4, 1, 2,\n",
              "       3, 5, 4, 2, 1, 2, 2, 2, 2, 5, 2, 5, 3, 1, 2, 0, 4, 5, 2, 3, 2, 2,\n",
              "       5, 2, 0, 1, 3, 4, 4, 5, 1, 1, 4, 4, 5, 1, 1, 1, 0, 1, 5, 0, 4, 1,\n",
              "       1, 0, 1, 4, 1, 0, 4, 1, 3, 1, 2, 2, 1, 2, 3, 0, 5, 3, 5, 5, 2, 4,\n",
              "       5, 1, 5, 1, 5, 3, 4, 1, 4, 1, 5, 4, 5, 1, 2, 1, 1, 5, 1, 3, 2, 5,\n",
              "       2, 1, 3, 5, 4, 4, 0, 0, 3, 1, 2, 2, 3, 5, 1, 5, 3, 4, 2, 2, 0, 2,\n",
              "       2, 5, 5, 0, 3, 3, 2, 2, 0, 3, 4, 0, 4, 2, 4, 5, 4, 1, 5, 3, 2, 2,\n",
              "       5, 4, 3, 3, 4, 3, 3, 4, 1, 5, 2, 3, 2, 2, 0, 2, 1, 3, 1, 2, 2, 5,\n",
              "       5, 1, 4, 2, 2, 1, 1, 3, 3, 5, 5, 2, 5, 1, 5, 0, 3, 3, 0, 5, 1, 4,\n",
              "       1, 4, 2, 5, 5, 1, 4, 2, 4])"
            ]
          },
          "metadata": {},
          "execution_count": 21
        }
      ]
    },
    {
      "cell_type": "code",
      "source": [
        "preds1=predictions.argmax(axis=1)\n",
        "preds1"
      ],
      "metadata": {
        "colab": {
          "base_uri": "https://localhost:8080/"
        },
        "id": "4_cAI39VFhtp",
        "outputId": "beac3505-309e-43cd-d5e3-8f6b4dfa5d62"
      },
      "execution_count": 22,
      "outputs": [
        {
          "output_type": "execute_result",
          "data": {
            "text/plain": [
              "array([0, 3, 3, 0, 4, 4, 1, 2, 5, 1, 5, 3, 2, 2, 0, 4, 4, 3, 2, 4, 1, 2,\n",
              "       3, 3, 4, 2, 1, 0, 2, 2, 1, 5, 2, 5, 3, 1, 2, 0, 4, 5, 1, 5, 2, 2,\n",
              "       3, 4, 1, 1, 3, 4, 4, 5, 1, 1, 4, 4, 5, 1, 1, 1, 0, 1, 5, 1, 4, 1,\n",
              "       1, 1, 1, 4, 0, 0, 4, 3, 5, 4, 2, 2, 1, 2, 1, 0, 5, 3, 5, 5, 2, 3,\n",
              "       5, 1, 0, 1, 5, 3, 4, 2, 4, 3, 5, 4, 5, 1, 2, 1, 1, 5, 1, 3, 2, 5,\n",
              "       0, 1, 3, 5, 4, 4, 3, 0, 3, 1, 1, 2, 1, 3, 1, 5, 3, 5, 2, 2, 0, 2,\n",
              "       2, 3, 5, 0, 3, 3, 2, 4, 0, 3, 4, 0, 4, 4, 4, 5, 4, 1, 5, 3, 2, 2,\n",
              "       5, 4, 3, 3, 4, 5, 3, 4, 1, 5, 1, 3, 2, 2, 0, 2, 1, 3, 1, 4, 4, 5,\n",
              "       5, 1, 4, 2, 4, 1, 1, 3, 3, 5, 5, 2, 3, 1, 4, 1, 3, 3, 3, 4, 1, 4,\n",
              "       1, 3, 3, 5, 5, 1, 4, 1, 4])"
            ]
          },
          "metadata": {},
          "execution_count": 22
        }
      ]
    },
    {
      "cell_type": "code",
      "source": [
        "abc = preds1.astype(int).flatten()"
      ],
      "metadata": {
        "id": "H4WEmM60NfQn"
      },
      "execution_count": 23,
      "outputs": []
    },
    {
      "cell_type": "code",
      "source": [
        "from sklearn.metrics import confusion_matrix\n",
        "c = confusion_matrix(new_Ytest, abc) \n",
        "c"
      ],
      "metadata": {
        "colab": {
          "base_uri": "https://localhost:8080/"
        },
        "id": "bKEBeEBlFjB8",
        "outputId": "e8c2a329-c19e-4ce3-9383-b798fed74a98"
      },
      "execution_count": 24,
      "outputs": [
        {
          "output_type": "execute_result",
          "data": {
            "text/plain": [
              "array([[11,  5,  0,  2,  0,  0],\n",
              "       [ 2, 35,  1,  2,  1,  0],\n",
              "       [ 2,  5, 31,  1,  6,  0],\n",
              "       [ 1,  2,  0, 25,  0,  3],\n",
              "       [ 0,  0,  0,  2, 30,  1],\n",
              "       [ 1,  0,  0,  6,  2, 30]])"
            ]
          },
          "metadata": {},
          "execution_count": 24
        }
      ]
    },
    {
      "cell_type": "code",
      "source": [
        "y_test"
      ],
      "metadata": {
        "colab": {
          "base_uri": "https://localhost:8080/"
        },
        "id": "m4RjG7LWLSQx",
        "outputId": "c15660eb-8084-4591-9d72-24640e2373a6"
      },
      "execution_count": 25,
      "outputs": [
        {
          "output_type": "execute_result",
          "data": {
            "text/plain": [
              "array([3, 3, 3, 0, 4, 4, 1, 2, 5, 0, 5, 3, 2, 2, 1, 4, 4, 5, 2, 4, 1, 2,\n",
              "       3, 5, 4, 2, 1, 2, 2, 2, 2, 5, 2, 5, 3, 1, 2, 0, 4, 5, 2, 3, 2, 2,\n",
              "       5, 2, 0, 1, 3, 4, 4, 5, 1, 1, 4, 4, 5, 1, 1, 1, 0, 1, 5, 0, 4, 1,\n",
              "       1, 0, 1, 4, 1, 0, 4, 1, 3, 1, 2, 2, 1, 2, 3, 0, 5, 3, 5, 5, 2, 4,\n",
              "       5, 1, 5, 1, 5, 3, 4, 1, 4, 1, 5, 4, 5, 1, 2, 1, 1, 5, 1, 3, 2, 5,\n",
              "       2, 1, 3, 5, 4, 4, 0, 0, 3, 1, 2, 2, 3, 5, 1, 5, 3, 4, 2, 2, 0, 2,\n",
              "       2, 5, 5, 0, 3, 3, 2, 2, 0, 3, 4, 0, 4, 2, 4, 5, 4, 1, 5, 3, 2, 2,\n",
              "       5, 4, 3, 3, 4, 3, 3, 4, 1, 5, 2, 3, 2, 2, 0, 2, 1, 3, 1, 2, 2, 5,\n",
              "       5, 1, 4, 2, 2, 1, 1, 3, 3, 5, 5, 2, 5, 1, 5, 0, 3, 3, 0, 5, 1, 4,\n",
              "       1, 4, 2, 5, 5, 1, 4, 2, 4])"
            ]
          },
          "metadata": {},
          "execution_count": 25
        }
      ]
    },
    {
      "cell_type": "code",
      "source": [
        "loss, acc =model.evaluate(x_testcnn, y_test)\n",
        "print(\"Restored model, accuracy: {:5.2f}%\".format(100*acc))"
      ],
      "metadata": {
        "colab": {
          "base_uri": "https://localhost:8080/"
        },
        "id": "n3kzoqPkDqqS",
        "outputId": "a60e8713-800e-417e-b0ea-5b44a8e0a512"
      },
      "execution_count": 26,
      "outputs": [
        {
          "output_type": "stream",
          "name": "stdout",
          "text": [
            "7/7 [==============================] - 0s 4ms/step - loss: 0.5885 - accuracy: 0.7826\n",
            "Restored model, accuracy: 78.26%\n"
          ]
        }
      ]
    },
    {
      "cell_type": "code",
      "source": [
        "loss, acc =model.evaluate(X_train, y_train)\n",
        "print(\"Restored model train, accuracy: {:5.2f}%\".format(100*acc))"
      ],
      "metadata": {
        "id": "fJDTGH_OUX0z",
        "colab": {
          "base_uri": "https://localhost:8080/"
        },
        "outputId": "20912e3b-2733-4869-a4a6-7922b8b560c8"
      },
      "execution_count": 27,
      "outputs": [
        {
          "output_type": "stream",
          "name": "stdout",
          "text": [
            "52/52 [==============================] - 0s 4ms/step - loss: 0.1841 - accuracy: 0.9541\n",
            "Restored model train, accuracy: 95.41%\n"
          ]
        }
      ]
    },
    {
      "cell_type": "code",
      "source": [
        "from sklearn.metrics import classification_report, confusion_matrix,accuracy_score\n",
        "import seaborn as sn\n",
        "\n",
        "print(classification_report(new_Ytest,abc))\n",
        "\n",
        "acc = float(accuracy_score(new_Ytest,abc))*100\n",
        "print(\"----accuracy score %s ----\" % acc)\n",
        "\n",
        "cm = confusion_matrix(new_Ytest,abc)\n",
        "#df_cm = pd.DataFrame(cm)\n",
        "class_names = ['neutral','calm', 'happy','sad','angry', 'fearful' ]\n",
        "df_cm = pd.DataFrame(cm, index=class_names, columns=class_names,)\n",
        "sn.heatmap(df_cm, annot=True, fmt='')\n",
        "plt.show()"
      ],
      "metadata": {
        "colab": {
          "base_uri": "https://localhost:8080/",
          "height": 512
        },
        "id": "SfSC3El94LZg",
        "outputId": "0c69fc03-3d97-49ce-fc1d-698abe38581e"
      },
      "execution_count": 28,
      "outputs": [
        {
          "output_type": "stream",
          "name": "stdout",
          "text": [
            "              precision    recall  f1-score   support\n",
            "\n",
            "           0       0.65      0.61      0.63        18\n",
            "           1       0.74      0.85      0.80        41\n",
            "           2       0.97      0.69      0.81        45\n",
            "           3       0.66      0.81      0.72        31\n",
            "           4       0.77      0.91      0.83        33\n",
            "           5       0.88      0.77      0.82        39\n",
            "\n",
            "    accuracy                           0.78       207\n",
            "   macro avg       0.78      0.77      0.77       207\n",
            "weighted avg       0.80      0.78      0.78       207\n",
            "\n",
            "----accuracy score 78.26086956521739 ----\n"
          ]
        },
        {
          "output_type": "display_data",
          "data": {
            "text/plain": [
              "<Figure size 432x288 with 2 Axes>"
            ],
            "image/png": "[encoded data removed]"
          },
          "metadata": {
            "needs_background": "light"
          }
        }
      ]
    }
  ]
}