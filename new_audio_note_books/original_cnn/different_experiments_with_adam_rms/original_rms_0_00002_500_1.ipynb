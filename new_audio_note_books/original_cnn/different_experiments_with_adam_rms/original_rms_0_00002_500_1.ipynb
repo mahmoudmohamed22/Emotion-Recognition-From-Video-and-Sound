{
  "nbformat": 4,
  "nbformat_minor": 0,
  "metadata": {
    "colab": {
      "name": "original_rms_0.00002_500_1.ipynb",
      "provenance": [],
      "collapsed_sections": []
    },
    "kernelspec": {
      "name": "python3",
      "display_name": "Python 3"
    },
    "language_info": {
      "name": "python"
    },
    "accelerator": "GPU"
  },
  "cells": [
    {
      "cell_type": "code",
      "execution_count": 3,
      "metadata": {
        "colab": {
          "base_uri": "https://localhost:8080/"
        },
        "id": "9SRCO-a_AlH5",
        "outputId": "ef0ac785-f068-4be1-d523-fba26939af46"
      },
      "outputs": [
        {
          "output_type": "stream",
          "name": "stdout",
          "text": [
            "Mounted at /content/drive\n"
          ]
        }
      ],
      "source": [
        "from google.colab import drive\n",
        "drive.mount('/content/drive')"
      ]
    },
    {
      "cell_type": "code",
      "metadata": {
        "id": "HJjcbxwy46bG",
        "colab": {
          "base_uri": "https://localhost:8080/",
          "height": 17
        },
        "outputId": "91f9abbe-3bb5-40eb-97b7-7a10bba1cabb"
      },
      "source": [
        "# Orignial Notebook: https://github.com/MITESHPUTHRANNEU/Speech-Emotion-Analyzer/blob/master/final_results_gender_test.ipynb\n",
        "# This notebook author: Reza Chu\n",
        "# Last Editing Date: 31st May 2019\n",
        "\n",
        "## Python\n",
        "import os\n",
        "import random\n",
        "import sys\n",
        "\n",
        "import IPython\n",
        "from IPython.display import Audio\n",
        "from IPython.display import Image\n",
        "import matplotlib.pyplot as plt\n",
        "\n",
        "## Package\n",
        "import glob \n",
        "import keras\n",
        "import IPython.display as ipd\n",
        "import librosa\n",
        "import librosa.display\n",
        "import matplotlib.pyplot as plt\n",
        "import numpy as np\n",
        "import pandas as pd\n",
        "import plotly.graph_objs as go\n",
        "import plotly.offline as py\n",
        "import plotly.tools as tls\n",
        "import seaborn as sns\n",
        "import scipy.io.wavfile\n",
        "import tensorflow as tf\n",
        "py.init_notebook_mode(connected=True)\n",
        "\n",
        "## Keras\n",
        "from keras import regularizers\n",
        "from keras.callbacks import ModelCheckpoint, LearningRateScheduler, EarlyStopping\n",
        "from keras.callbacks import  History, ReduceLROnPlateau, CSVLogger\n",
        "from keras.models import Model, Sequential\n",
        "from keras.layers import Dense, Embedding, LSTM\n",
        "from keras.layers import Input, Flatten, Dropout, Activation, BatchNormalization\n",
        "from keras.layers import Conv1D, MaxPooling1D, AveragePooling1D\n",
        "from keras.preprocessing import sequence\n",
        "from keras.preprocessing.sequence import pad_sequences\n",
        "from keras.preprocessing.text import Tokenizer\n",
        "from keras.utils import np_utils\n",
        "from tensorflow.keras.utils import to_categorical\n",
        "\n",
        "## Sklearn\n",
        "from sklearn.metrics import confusion_matrix\n",
        "from sklearn.preprocessing import LabelEncoder\n",
        "\n",
        "## Rest\n",
        "from scipy.fftpack import fft\n",
        "from scipy import signal\n",
        "from scipy.io import wavfile\n",
        "from tqdm import tqdm\n",
        "\n",
        "input_duration=3\n",
        "# % pylab inline"
      ],
      "execution_count": 1,
      "outputs": [
        {
          "output_type": "display_data",
          "data": {
            "text/html": [
              "        <script type=\"text/javascript\">\n",
              "        window.PlotlyConfig = {MathJaxConfig: 'local'};\n",
              "        if (window.MathJax) {MathJax.Hub.Config({SVG: {font: \"STIX-Web\"}});}\n",
              "        if (typeof require !== 'undefined') {\n",
              "        require.undef(\"plotly\");\n",
              "        requirejs.config({\n",
              "            paths: {\n",
              "                'plotly': ['https://cdn.plot.ly/plotly-2.8.3.min']\n",
              "            }\n",
              "        });\n",
              "        require(['plotly'], function(Plotly) {\n",
              "            window._Plotly = Plotly;\n",
              "        });\n",
              "        }\n",
              "        </script>\n",
              "        "
            ]
          },
          "metadata": {}
        }
      ]
    },
    {
      "cell_type": "code",
      "source": [
        "#radvass speech and song\n",
        "import time\n",
        "import os\n",
        "import librosa\n",
        "from librosa import display\n",
        "import matplotlib.pyplot as plt\n",
        "\n",
        "count=0\n",
        "path1 = '/content/drive/MyDrive/RAVDESS_speech'\n",
        "path2 = '/content/drive/MyDrive/RAVDESS_song'\n",
        "\n",
        "lst = []\n",
        "\n",
        "start_time = time.time()\n",
        "\n",
        "for subdir, dirs, files in os.walk(path2):\n",
        "  print(dirs)\n",
        "  print(subdir)\n",
        "  #print(files)\n",
        "  for file in files:\n",
        "      try:\n",
        "        count +=1\n",
        "        #Load librosa array, obtain mfcss, store the file and the mcss information in a new array\n",
        "        X, sample_rate = librosa.load(os.path.join(subdir,file), res_type='kaiser_fast')\n",
        "        mfccs = np.mean(librosa.feature.mfcc(y=X, sr=sample_rate, n_mfcc=40).T,axis=0) \n",
        "        # The instruction below converts the labels (from 1 to 8) to a series from 0 to 7\n",
        "        # This is because our predictor needs to start from 0 otherwise it will try to predict also 0.\n",
        "        file = int(file[7:8]) - 1 \n",
        "        arr = mfccs, file\n",
        "        lst.append(arr)\n",
        "      # If the file is not valid, skip it\n",
        "      except ValueError:\n",
        "        continue\n",
        "\n",
        "for subdir, dirs, files in os.walk(path1):\n",
        "  print(dirs)\n",
        "  print(subdir)\n",
        " # print(files)\n",
        "  for file in files:\n",
        "      try:\n",
        "        #Load librosa array, obtain mfcss, store the file and the mcss information in a new array\n",
        "        X, sample_rate = librosa.load(os.path.join(subdir,file), res_type='kaiser_fast')\n",
        "        mfccs = np.mean(librosa.feature.mfcc(y=X, sr=sample_rate, n_mfcc=40).T,axis=0) \n",
        "        # The instruction below converts the labels (from 1 to 8) to a series from 0 to 7\n",
        "        # This is because our predictor needs to start from 0 otherwise it will try to predict also 0.\n",
        "        file = int(file[7:8]) - 1 \n",
        "        if(file ==6 or file==7):\n",
        "          continue\n",
        "        count +=1\n",
        "        arr = mfccs, file\n",
        "        lst.append(arr)\n",
        "      # If the file is not valid, skip it\n",
        "      except ValueError:\n",
        "        continue\n",
        "\n",
        "\n",
        "\n",
        "print(\"--- Data loaded. Loading time: %s seconds ---\" % (time.time() - start_time))"
      ],
      "metadata": {
        "colab": {
          "base_uri": "https://localhost:8080/"
        },
        "id": "IfuyRZl42ccZ",
        "outputId": "ce249970-9930-450a-db19-8e2b3f9edde8"
      },
      "execution_count": null,
      "outputs": [
        {
          "output_type": "stream",
          "name": "stdout",
          "text": [
            "['Actor_10', 'Actor_11', 'Actor_13', 'Actor_12', 'Actor_14', 'Actor_15', 'Actor_16', 'Actor_17', 'Actor_18', 'Actor_19', 'Actor_21', 'Actor_22', 'Actor_23', 'Actor_09', 'Actor_24', 'Actor_04', 'Actor_08', 'Actor_03', 'Actor_02', 'Actor_06', 'Actor_05', 'Actor_01', 'Actor_07', 'Actor_20']\n",
            "/content/drive/MyDrive/RAVDESS_song\n",
            "[]\n",
            "/content/drive/MyDrive/RAVDESS_song/Actor_10\n",
            "[]\n",
            "/content/drive/MyDrive/RAVDESS_song/Actor_11\n",
            "[]\n",
            "/content/drive/MyDrive/RAVDESS_song/Actor_13\n",
            "[]\n",
            "/content/drive/MyDrive/RAVDESS_song/Actor_12\n",
            "[]\n",
            "/content/drive/MyDrive/RAVDESS_song/Actor_14\n",
            "[]\n",
            "/content/drive/MyDrive/RAVDESS_song/Actor_15\n",
            "[]\n",
            "/content/drive/MyDrive/RAVDESS_song/Actor_16\n",
            "[]\n",
            "/content/drive/MyDrive/RAVDESS_song/Actor_17\n",
            "[]\n",
            "/content/drive/MyDrive/RAVDESS_song/Actor_18\n",
            "[]\n",
            "/content/drive/MyDrive/RAVDESS_song/Actor_19\n",
            "[]\n",
            "/content/drive/MyDrive/RAVDESS_song/Actor_21\n",
            "[]\n",
            "/content/drive/MyDrive/RAVDESS_song/Actor_22\n",
            "[]\n",
            "/content/drive/MyDrive/RAVDESS_song/Actor_23\n",
            "[]\n",
            "/content/drive/MyDrive/RAVDESS_song/Actor_09\n",
            "[]\n",
            "/content/drive/MyDrive/RAVDESS_song/Actor_24\n",
            "[]\n",
            "/content/drive/MyDrive/RAVDESS_song/Actor_04\n",
            "[]\n",
            "/content/drive/MyDrive/RAVDESS_song/Actor_08\n",
            "[]\n",
            "/content/drive/MyDrive/RAVDESS_song/Actor_03\n",
            "[]\n",
            "/content/drive/MyDrive/RAVDESS_song/Actor_02\n",
            "[]\n",
            "/content/drive/MyDrive/RAVDESS_song/Actor_06\n",
            "[]\n",
            "/content/drive/MyDrive/RAVDESS_song/Actor_05\n",
            "[]\n",
            "/content/drive/MyDrive/RAVDESS_song/Actor_01\n",
            "[]\n",
            "/content/drive/MyDrive/RAVDESS_song/Actor_07\n",
            "[]\n",
            "/content/drive/MyDrive/RAVDESS_song/Actor_20\n",
            "['Actor_05', 'Actor_08', 'Actor_10', 'Actor_04', 'Actor_09', 'Actor_14', 'Actor_12', 'Actor_13', 'Actor_11', 'Actor_06', 'Actor_24', 'Actor_07', 'Actor_23', 'Actor_22', 'Actor_21', 'Actor_20', 'Actor_02', 'Actor_19', 'Actor_18', 'Actor_17', 'Actor_16', 'Actor_15', 'Actor_03', 'Actor_01']\n",
            "/content/drive/MyDrive/RAVDESS_speech\n",
            "[]\n",
            "/content/drive/MyDrive/RAVDESS_speech/Actor_05\n",
            "[]\n",
            "/content/drive/MyDrive/RAVDESS_speech/Actor_08\n",
            "[]\n",
            "/content/drive/MyDrive/RAVDESS_speech/Actor_10\n",
            "[]\n",
            "/content/drive/MyDrive/RAVDESS_speech/Actor_04\n",
            "[]\n",
            "/content/drive/MyDrive/RAVDESS_speech/Actor_09\n",
            "[]\n",
            "/content/drive/MyDrive/RAVDESS_speech/Actor_14\n",
            "[]\n",
            "/content/drive/MyDrive/RAVDESS_speech/Actor_12\n",
            "[]\n",
            "/content/drive/MyDrive/RAVDESS_speech/Actor_13\n",
            "[]\n",
            "/content/drive/MyDrive/RAVDESS_speech/Actor_11\n",
            "[]\n",
            "/content/drive/MyDrive/RAVDESS_speech/Actor_06\n",
            "[]\n",
            "/content/drive/MyDrive/RAVDESS_speech/Actor_24\n",
            "[]\n",
            "/content/drive/MyDrive/RAVDESS_speech/Actor_07\n",
            "[]\n",
            "/content/drive/MyDrive/RAVDESS_speech/Actor_23\n",
            "[]\n",
            "/content/drive/MyDrive/RAVDESS_speech/Actor_22\n",
            "[]\n",
            "/content/drive/MyDrive/RAVDESS_speech/Actor_21\n",
            "[]\n",
            "/content/drive/MyDrive/RAVDESS_speech/Actor_20\n",
            "[]\n",
            "/content/drive/MyDrive/RAVDESS_speech/Actor_02\n",
            "[]\n",
            "/content/drive/MyDrive/RAVDESS_speech/Actor_19\n",
            "[]\n",
            "/content/drive/MyDrive/RAVDESS_speech/Actor_18\n",
            "[]\n",
            "/content/drive/MyDrive/RAVDESS_speech/Actor_17\n",
            "[]\n",
            "/content/drive/MyDrive/RAVDESS_speech/Actor_16\n",
            "[]\n",
            "/content/drive/MyDrive/RAVDESS_speech/Actor_15\n",
            "[]\n",
            "/content/drive/MyDrive/RAVDESS_speech/Actor_03\n",
            "[]\n",
            "/content/drive/MyDrive/RAVDESS_speech/Actor_01\n",
            "--- Data loaded. Loading time: 204.12607288360596 seconds ---\n"
          ]
        }
      ]
    },
    {
      "cell_type": "code",
      "source": [
        "count"
      ],
      "metadata": {
        "id": "Ltlhi25L2AI5",
        "colab": {
          "base_uri": "https://localhost:8080/"
        },
        "outputId": "92f64156-e27a-4381-e558-85094fc41c56"
      },
      "execution_count": null,
      "outputs": [
        {
          "output_type": "execute_result",
          "data": {
            "text/plain": [
              "2068"
            ]
          },
          "metadata": {},
          "execution_count": 5
        }
      ]
    },
    {
      "cell_type": "code",
      "source": [
        "from numpy.core.fromnumeric import size\n",
        "size(lst)"
      ],
      "metadata": {
        "id": "HMOH7d7mzHB7",
        "colab": {
          "base_uri": "https://localhost:8080/"
        },
        "outputId": "454c6795-9625-4c4a-aae1-8816c01db98f"
      },
      "execution_count": null,
      "outputs": [
        {
          "output_type": "stream",
          "name": "stderr",
          "text": [
            "/usr/local/lib/python3.7/dist-packages/numpy/core/fromnumeric.py:3208: VisibleDeprecationWarning:\n",
            "\n",
            "Creating an ndarray from ragged nested sequences (which is a list-or-tuple of lists-or-tuples-or ndarrays with different lengths or shapes) is deprecated. If you meant to do this, you must specify 'dtype=object' when creating the ndarray.\n",
            "\n"
          ]
        },
        {
          "output_type": "execute_result",
          "data": {
            "text/plain": [
              "4136"
            ]
          },
          "metadata": {},
          "execution_count": 6
        }
      ]
    },
    {
      "cell_type": "code",
      "source": [
        "# Creating X and y: zip makes a list of all the first elements, and a list of all the second elements.\n",
        "X, y = zip(*lst)"
      ],
      "metadata": {
        "id": "ocdL7tSTBoMt"
      },
      "execution_count": null,
      "outputs": []
    },
    {
      "cell_type": "code",
      "source": [
        "import numpy as np\n",
        "X = np.asarray(X)\n",
        "y = np.asarray(y)\n",
        "X.shape, y.shape"
      ],
      "metadata": {
        "id": "vHKwUGTbBtnF",
        "colab": {
          "base_uri": "https://localhost:8080/"
        },
        "outputId": "52b5b212-692b-49e9-b357-6d6f08d864df"
      },
      "execution_count": null,
      "outputs": [
        {
          "output_type": "execute_result",
          "data": {
            "text/plain": [
              "((2068, 40), (2068,))"
            ]
          },
          "metadata": {},
          "execution_count": 8
        }
      ]
    },
    {
      "cell_type": "code",
      "source": [
        "X.shape"
      ],
      "metadata": {
        "id": "2sUCtbfMztE5",
        "colab": {
          "base_uri": "https://localhost:8080/"
        },
        "outputId": "e14844a2-b3c4-439c-e82f-783c1f91504a"
      },
      "execution_count": null,
      "outputs": [
        {
          "output_type": "execute_result",
          "data": {
            "text/plain": [
              "(2068, 40)"
            ]
          },
          "metadata": {},
          "execution_count": 9
        }
      ]
    },
    {
      "cell_type": "code",
      "source": [
        "# # Saving joblib files to not load them again with the loop above\n",
        "\n",
        "# import joblib\n",
        "\n",
        "# X_name = 'x.joblib'\n",
        "# y_name = 'y.joblib'\n",
        "# save_dir = '/content/drive/My Drive/graduation project/audio/paper_code/features'\n",
        "\n",
        "# savedX = joblib.dump(X, os.path.join(save_dir, X_name))\n",
        "# savedy = joblib.dump(y, os.path.join(save_dir, y_name))"
      ],
      "metadata": {
        "id": "UCzic8rlDcuk"
      },
      "execution_count": null,
      "outputs": []
    },
    {
      "cell_type": "code",
      "source": [
        "# # Loading saved models\n",
        "import joblib\n",
        "X = joblib.load('/content/drive/My Drive/graduation project/audio/paper_code/features/x.joblib')\n",
        "y = joblib.load('/content/drive/My Drive/graduation project/audio/paper_code/features/y.joblib')"
      ],
      "metadata": {
        "id": "Q35CN6zDrzg1"
      },
      "execution_count": 2,
      "outputs": []
    },
    {
      "cell_type": "code",
      "source": [
        "X.shape"
      ],
      "metadata": {
        "colab": {
          "base_uri": "https://localhost:8080/"
        },
        "id": "7PSTurzjCo5K",
        "outputId": "0a8a3465-8e90-4889-ed7a-006a28c70434"
      },
      "execution_count": 3,
      "outputs": [
        {
          "output_type": "execute_result",
          "data": {
            "text/plain": [
              "(2068, 40)"
            ]
          },
          "metadata": {},
          "execution_count": 3
        }
      ]
    },
    {
      "cell_type": "code",
      "source": [
        "from sklearn.model_selection import train_test_split\n",
        "\n",
        "X_train, X_test, y_train, y_test = train_test_split(X,y, test_size=0.1,shuffle = True, random_state=42)\n",
        "X_train , X_valid, y_train, y_valid = train_test_split(X_train,y_train, test_size=0.1112305212, shuffle = True, random_state=42)"
      ],
      "metadata": {
        "id": "Ai4Fy5cPCiq1"
      },
      "execution_count": 4,
      "outputs": []
    },
    {
      "cell_type": "code",
      "source": [
        "import numpy as np\n",
        "x_traincnn = np.expand_dims(X_train, axis=2)\n",
        "x_testcnn = np.expand_dims(X_test, axis=2)\n",
        "X_valid= np.expand_dims(X_valid, axis=2)"
      ],
      "metadata": {
        "id": "tp1Fm5K3CEXu"
      },
      "execution_count": 5,
      "outputs": []
    },
    {
      "cell_type": "code",
      "source": [
        "x_traincnn.shape, x_testcnn.shape , X_valid.shape\n",
        "#1861"
      ],
      "metadata": {
        "id": "RI0MxoIPBws5",
        "colab": {
          "base_uri": "https://localhost:8080/"
        },
        "outputId": "8b999f97-f5fd-490b-94e5-2f88d51c27f4"
      },
      "execution_count": 6,
      "outputs": [
        {
          "output_type": "execute_result",
          "data": {
            "text/plain": [
              "((1654, 40, 1), (207, 40, 1), (207, 40, 1))"
            ]
          },
          "metadata": {},
          "execution_count": 6
        }
      ]
    },
    {
      "cell_type": "code",
      "source": [
        "import keras\n",
        "import numpy as np\n",
        "import matplotlib.pyplot as plt\n",
        "import tensorflow as tf\n",
        "from keras.preprocessing import sequence\n",
        "from keras.models import Sequential\n",
        "from keras.layers import Dense, Embedding\n",
        "from tensorflow.keras.utils import to_categorical\n",
        "from keras.layers import Input, Flatten, Dropout, Activation\n",
        "from keras.layers import Conv1D, MaxPooling1D\n",
        "from keras.models import Model\n",
        "from keras.callbacks import ModelCheckpoint\n",
        "from tensorflow.keras import optimizers\n",
        "\n",
        "model = Sequential()\n",
        "\n",
        "model.add(Conv1D(128, 8,padding='same', #classifier.add(Convolution2D(64, (3, 3), padding = 'same', input_shape = (128, 128, 3), activation = 'relu'))\n",
        "                 input_shape=(40,1)))\n",
        "model.add(Activation('relu'))\n",
        "model.add(Dropout(0.3))\n",
        "model.add(MaxPooling1D(pool_size=(5)))\n",
        "\n",
        "\n",
        "model.add(Conv1D(256,8,padding='same',))\n",
        "model.add(Activation('relu'))\n",
        "model.add(Dropout(0.3))\n",
        "model.add(MaxPooling1D(pool_size=(5)))\n",
        "\n",
        "model.add(Flatten())\n",
        "\n",
        "model.add(Dense(256))\n",
        "model.add(Activation('relu'))\n",
        "model.add(Dense(256))\n",
        "model.add(Activation('relu'))\n",
        "\n",
        "model.add(Dense(6))\n",
        "model.add(Activation('softmax'))\n",
        "\n",
        "opt = tf.keras.optimizers.RMSprop(lr=0.00002 , decay=0.9)\n",
        "#opt = tf.keras.optimizers.RMSprop(lr=0.0001, rho=0.9, epsilon=1e-07, decay=0.0)\n",
        "#opt = tf.keras.optimizers.SGD(lr=0.001, momentum=0.0, decay=0.0, nesterov=False)"
      ],
      "metadata": {
        "id": "g74fXWVAC4Cr",
        "colab": {
          "base_uri": "https://localhost:8080/"
        },
        "outputId": "590ac630-271d-4901-e1c5-6eadd0f8cc18"
      },
      "execution_count": 12,
      "outputs": [
        {
          "output_type": "stream",
          "name": "stderr",
          "text": [
            "/usr/local/lib/python3.7/dist-packages/keras/optimizer_v2/rmsprop.py:130: UserWarning:\n",
            "\n",
            "The `lr` argument is deprecated, use `learning_rate` instead.\n",
            "\n"
          ]
        }
      ]
    },
    {
      "cell_type": "code",
      "source": [
        "model.summary()"
      ],
      "metadata": {
        "colab": {
          "base_uri": "https://localhost:8080/"
        },
        "id": "H6ukOxAGC_I4",
        "outputId": "0ed766f8-73d0-4a26-b453-548b251fbd66"
      },
      "execution_count": 13,
      "outputs": [
        {
          "output_type": "stream",
          "name": "stdout",
          "text": [
            "Model: \"sequential_3\"\n",
            "_________________________________________________________________\n",
            " Layer (type)                Output Shape              Param #   \n",
            "=================================================================\n",
            " conv1d_6 (Conv1D)           (None, 40, 128)           1152      \n",
            "                                                                 \n",
            " activation_15 (Activation)  (None, 40, 128)           0         \n",
            "                                                                 \n",
            " dropout_6 (Dropout)         (None, 40, 128)           0         \n",
            "                                                                 \n",
            " max_pooling1d_6 (MaxPooling  (None, 8, 128)           0         \n",
            " 1D)                                                             \n",
            "                                                                 \n",
            " conv1d_7 (Conv1D)           (None, 8, 256)            262400    \n",
            "                                                                 \n",
            " activation_16 (Activation)  (None, 8, 256)            0         \n",
            "                                                                 \n",
            " dropout_7 (Dropout)         (None, 8, 256)            0         \n",
            "                                                                 \n",
            " max_pooling1d_7 (MaxPooling  (None, 1, 256)           0         \n",
            " 1D)                                                             \n",
            "                                                                 \n",
            " flatten_3 (Flatten)         (None, 256)               0         \n",
            "                                                                 \n",
            " dense_9 (Dense)             (None, 256)               65792     \n",
            "                                                                 \n",
            " activation_17 (Activation)  (None, 256)               0         \n",
            "                                                                 \n",
            " dense_10 (Dense)            (None, 256)               65792     \n",
            "                                                                 \n",
            " activation_18 (Activation)  (None, 256)               0         \n",
            "                                                                 \n",
            " dense_11 (Dense)            (None, 6)                 1542      \n",
            "                                                                 \n",
            " activation_19 (Activation)  (None, 6)                 0         \n",
            "                                                                 \n",
            "=================================================================\n",
            "Total params: 396,678\n",
            "Trainable params: 396,678\n",
            "Non-trainable params: 0\n",
            "_________________________________________________________________\n"
          ]
        }
      ]
    },
    {
      "cell_type": "code",
      "source": [
        "model.compile(loss='sparse_categorical_crossentropy',\n",
        "              optimizer=opt,\n",
        "              metrics=['accuracy'])"
      ],
      "metadata": {
        "id": "AbMlLNk4DCBM"
      },
      "execution_count": 14,
      "outputs": []
    },
    {
      "cell_type": "code",
      "source": [
        "# Create an Instance of Early Stopping Callback.\n",
        "early_stopping_callback = EarlyStopping(monitor = 'val_loss', patience = 25, mode = 'min', restore_best_weights = True)\n",
        "\n",
        "cnnhistory=model.fit(x_traincnn, y_train, batch_size=16, epochs=500 , shuffle = True, validation_data=(X_valid, y_valid), callbacks = [early_stopping_callback])"
      ],
      "metadata": {
        "colab": {
          "base_uri": "https://localhost:8080/"
        },
        "id": "RI1v2AuADFhy",
        "outputId": "ea8eba66-aa1d-476a-8d84-c6394ad8a625"
      },
      "execution_count": 15,
      "outputs": [
        {
          "output_type": "stream",
          "name": "stdout",
          "text": [
            "Epoch 1/500\n",
            "104/104 [==============================] - 4s 7ms/step - loss: 7.9519 - accuracy: 0.1614 - val_loss: 5.8182 - val_accuracy: 0.1932\n",
            "Epoch 2/500\n",
            "104/104 [==============================] - 1s 5ms/step - loss: 7.6377 - accuracy: 0.1566 - val_loss: 5.6521 - val_accuracy: 0.1932\n",
            "Epoch 3/500\n",
            "104/104 [==============================] - 1s 5ms/step - loss: 7.2260 - accuracy: 0.1596 - val_loss: 5.5550 - val_accuracy: 0.1932\n",
            "Epoch 4/500\n",
            "104/104 [==============================] - 0s 5ms/step - loss: 7.5772 - accuracy: 0.1566 - val_loss: 5.4849 - val_accuracy: 0.1932\n",
            "Epoch 5/500\n",
            "104/104 [==============================] - 1s 5ms/step - loss: 7.1901 - accuracy: 0.1578 - val_loss: 5.4309 - val_accuracy: 0.1932\n",
            "Epoch 6/500\n",
            "104/104 [==============================] - 1s 5ms/step - loss: 7.0244 - accuracy: 0.1796 - val_loss: 5.3892 - val_accuracy: 0.1932\n",
            "Epoch 7/500\n",
            "104/104 [==============================] - 1s 5ms/step - loss: 7.1806 - accuracy: 0.1493 - val_loss: 5.3558 - val_accuracy: 0.1932\n",
            "Epoch 8/500\n",
            "104/104 [==============================] - 0s 5ms/step - loss: 7.2015 - accuracy: 0.1632 - val_loss: 5.3259 - val_accuracy: 0.1932\n",
            "Epoch 9/500\n",
            "104/104 [==============================] - 0s 5ms/step - loss: 7.0205 - accuracy: 0.1711 - val_loss: 5.2983 - val_accuracy: 0.1932\n",
            "Epoch 10/500\n",
            "104/104 [==============================] - 0s 4ms/step - loss: 7.0179 - accuracy: 0.1511 - val_loss: 5.2755 - val_accuracy: 0.1932\n",
            "Epoch 11/500\n",
            "104/104 [==============================] - 0s 5ms/step - loss: 7.0056 - accuracy: 0.1608 - val_loss: 5.2531 - val_accuracy: 0.1932\n",
            "Epoch 12/500\n",
            "104/104 [==============================] - 1s 5ms/step - loss: 7.1239 - accuracy: 0.1669 - val_loss: 5.2343 - val_accuracy: 0.1932\n",
            "Epoch 13/500\n",
            "104/104 [==============================] - 0s 5ms/step - loss: 7.0749 - accuracy: 0.1614 - val_loss: 5.2150 - val_accuracy: 0.1932\n",
            "Epoch 14/500\n",
            "104/104 [==============================] - 1s 5ms/step - loss: 7.1328 - accuracy: 0.1481 - val_loss: 5.1998 - val_accuracy: 0.1932\n",
            "Epoch 15/500\n",
            "104/104 [==============================] - 1s 5ms/step - loss: 6.8787 - accuracy: 0.1608 - val_loss: 5.1843 - val_accuracy: 0.1932\n",
            "Epoch 16/500\n",
            "104/104 [==============================] - 0s 5ms/step - loss: 7.1002 - accuracy: 0.1505 - val_loss: 5.1700 - val_accuracy: 0.1932\n",
            "Epoch 17/500\n",
            "104/104 [==============================] - 0s 5ms/step - loss: 7.1567 - accuracy: 0.1505 - val_loss: 5.1585 - val_accuracy: 0.1932\n",
            "Epoch 18/500\n",
            "104/104 [==============================] - 1s 5ms/step - loss: 7.0091 - accuracy: 0.1463 - val_loss: 5.1462 - val_accuracy: 0.1932\n",
            "Epoch 19/500\n",
            "104/104 [==============================] - 1s 5ms/step - loss: 7.0405 - accuracy: 0.1620 - val_loss: 5.1364 - val_accuracy: 0.1932\n",
            "Epoch 20/500\n",
            "104/104 [==============================] - 0s 5ms/step - loss: 6.8920 - accuracy: 0.1657 - val_loss: 5.1257 - val_accuracy: 0.1932\n",
            "Epoch 21/500\n",
            "104/104 [==============================] - 0s 5ms/step - loss: 6.9869 - accuracy: 0.1499 - val_loss: 5.1162 - val_accuracy: 0.1932\n",
            "Epoch 22/500\n",
            "104/104 [==============================] - 0s 5ms/step - loss: 6.8467 - accuracy: 0.1536 - val_loss: 5.1060 - val_accuracy: 0.1932\n",
            "Epoch 23/500\n",
            "104/104 [==============================] - 1s 5ms/step - loss: 6.9016 - accuracy: 0.1608 - val_loss: 5.0973 - val_accuracy: 0.1932\n",
            "Epoch 24/500\n",
            "104/104 [==============================] - 1s 5ms/step - loss: 6.8594 - accuracy: 0.1644 - val_loss: 5.0883 - val_accuracy: 0.1932\n",
            "Epoch 25/500\n",
            "104/104 [==============================] - 1s 5ms/step - loss: 6.7419 - accuracy: 0.1747 - val_loss: 5.0796 - val_accuracy: 0.1932\n",
            "Epoch 26/500\n",
            "104/104 [==============================] - 1s 5ms/step - loss: 6.8174 - accuracy: 0.1536 - val_loss: 5.0714 - val_accuracy: 0.1932\n",
            "Epoch 27/500\n",
            "104/104 [==============================] - 0s 5ms/step - loss: 6.8555 - accuracy: 0.1602 - val_loss: 5.0641 - val_accuracy: 0.1932\n",
            "Epoch 28/500\n",
            "104/104 [==============================] - 0s 5ms/step - loss: 6.8816 - accuracy: 0.1657 - val_loss: 5.0569 - val_accuracy: 0.1932\n",
            "Epoch 29/500\n",
            "104/104 [==============================] - 1s 5ms/step - loss: 6.6893 - accuracy: 0.1778 - val_loss: 5.0499 - val_accuracy: 0.1932\n",
            "Epoch 30/500\n",
            "104/104 [==============================] - 0s 5ms/step - loss: 6.6218 - accuracy: 0.1626 - val_loss: 5.0437 - val_accuracy: 0.1932\n",
            "Epoch 31/500\n",
            "104/104 [==============================] - 0s 5ms/step - loss: 6.8003 - accuracy: 0.1663 - val_loss: 5.0369 - val_accuracy: 0.1932\n",
            "Epoch 32/500\n",
            "104/104 [==============================] - 0s 5ms/step - loss: 6.7958 - accuracy: 0.1548 - val_loss: 5.0313 - val_accuracy: 0.1932\n",
            "Epoch 33/500\n",
            "104/104 [==============================] - 1s 5ms/step - loss: 6.7105 - accuracy: 0.1687 - val_loss: 5.0251 - val_accuracy: 0.1932\n",
            "Epoch 34/500\n",
            "104/104 [==============================] - 1s 5ms/step - loss: 6.8539 - accuracy: 0.1608 - val_loss: 5.0193 - val_accuracy: 0.1932\n",
            "Epoch 35/500\n",
            "104/104 [==============================] - 0s 5ms/step - loss: 6.9385 - accuracy: 0.1584 - val_loss: 5.0143 - val_accuracy: 0.1932\n",
            "Epoch 36/500\n",
            "104/104 [==============================] - 1s 5ms/step - loss: 6.9686 - accuracy: 0.1651 - val_loss: 5.0099 - val_accuracy: 0.1932\n",
            "Epoch 37/500\n",
            "104/104 [==============================] - 0s 5ms/step - loss: 6.6256 - accuracy: 0.1590 - val_loss: 5.0047 - val_accuracy: 0.1932\n",
            "Epoch 38/500\n",
            "104/104 [==============================] - 0s 5ms/step - loss: 6.6752 - accuracy: 0.1729 - val_loss: 4.9991 - val_accuracy: 0.1932\n",
            "Epoch 39/500\n",
            "104/104 [==============================] - 1s 5ms/step - loss: 7.0733 - accuracy: 0.1451 - val_loss: 4.9943 - val_accuracy: 0.1932\n",
            "Epoch 40/500\n",
            "104/104 [==============================] - 1s 5ms/step - loss: 6.8127 - accuracy: 0.1554 - val_loss: 4.9896 - val_accuracy: 0.1932\n",
            "Epoch 41/500\n",
            "104/104 [==============================] - 0s 5ms/step - loss: 6.8394 - accuracy: 0.1638 - val_loss: 4.9854 - val_accuracy: 0.1932\n",
            "Epoch 42/500\n",
            "104/104 [==============================] - 0s 5ms/step - loss: 6.8398 - accuracy: 0.1717 - val_loss: 4.9813 - val_accuracy: 0.1932\n",
            "Epoch 43/500\n",
            "104/104 [==============================] - 1s 5ms/step - loss: 6.7379 - accuracy: 0.1638 - val_loss: 4.9775 - val_accuracy: 0.1932\n",
            "Epoch 44/500\n",
            "104/104 [==============================] - 0s 5ms/step - loss: 6.7831 - accuracy: 0.1717 - val_loss: 4.9730 - val_accuracy: 0.1932\n",
            "Epoch 45/500\n",
            "104/104 [==============================] - 1s 5ms/step - loss: 6.6954 - accuracy: 0.1614 - val_loss: 4.9680 - val_accuracy: 0.1932\n",
            "Epoch 46/500\n",
            "104/104 [==============================] - 0s 5ms/step - loss: 6.7875 - accuracy: 0.1608 - val_loss: 4.9645 - val_accuracy: 0.1932\n",
            "Epoch 47/500\n",
            "104/104 [==============================] - 0s 5ms/step - loss: 6.6321 - accuracy: 0.1699 - val_loss: 4.9608 - val_accuracy: 0.1932\n",
            "Epoch 48/500\n",
            "104/104 [==============================] - 0s 5ms/step - loss: 6.5930 - accuracy: 0.1536 - val_loss: 4.9566 - val_accuracy: 0.1932\n",
            "Epoch 49/500\n",
            "104/104 [==============================] - 0s 5ms/step - loss: 6.7594 - accuracy: 0.1657 - val_loss: 4.9527 - val_accuracy: 0.1932\n",
            "Epoch 50/500\n",
            "104/104 [==============================] - 1s 5ms/step - loss: 6.7621 - accuracy: 0.1614 - val_loss: 4.9482 - val_accuracy: 0.1932\n",
            "Epoch 51/500\n",
            "104/104 [==============================] - 1s 5ms/step - loss: 6.8612 - accuracy: 0.1675 - val_loss: 4.9442 - val_accuracy: 0.1932\n",
            "Epoch 52/500\n",
            "104/104 [==============================] - 1s 5ms/step - loss: 6.6724 - accuracy: 0.1590 - val_loss: 4.9405 - val_accuracy: 0.1932\n",
            "Epoch 53/500\n",
            "104/104 [==============================] - 0s 5ms/step - loss: 6.8543 - accuracy: 0.1511 - val_loss: 4.9369 - val_accuracy: 0.1932\n",
            "Epoch 54/500\n",
            "104/104 [==============================] - 0s 5ms/step - loss: 6.4999 - accuracy: 0.1892 - val_loss: 4.9329 - val_accuracy: 0.1932\n",
            "Epoch 55/500\n",
            "104/104 [==============================] - 1s 5ms/step - loss: 6.7113 - accuracy: 0.1741 - val_loss: 4.9292 - val_accuracy: 0.1932\n",
            "Epoch 56/500\n",
            "104/104 [==============================] - 1s 5ms/step - loss: 6.4882 - accuracy: 0.1584 - val_loss: 4.9259 - val_accuracy: 0.1932\n",
            "Epoch 57/500\n",
            "104/104 [==============================] - 0s 5ms/step - loss: 6.6667 - accuracy: 0.1578 - val_loss: 4.9229 - val_accuracy: 0.1932\n",
            "Epoch 58/500\n",
            "104/104 [==============================] - 0s 5ms/step - loss: 6.6729 - accuracy: 0.1620 - val_loss: 4.9199 - val_accuracy: 0.1932\n",
            "Epoch 59/500\n",
            "104/104 [==============================] - 0s 5ms/step - loss: 6.7913 - accuracy: 0.1475 - val_loss: 4.9168 - val_accuracy: 0.1932\n",
            "Epoch 60/500\n",
            "104/104 [==============================] - 1s 5ms/step - loss: 6.6179 - accuracy: 0.1590 - val_loss: 4.9135 - val_accuracy: 0.1932\n",
            "Epoch 61/500\n",
            "104/104 [==============================] - 1s 5ms/step - loss: 6.3408 - accuracy: 0.1669 - val_loss: 4.9107 - val_accuracy: 0.1932\n",
            "Epoch 62/500\n",
            "104/104 [==============================] - 1s 5ms/step - loss: 6.6067 - accuracy: 0.1711 - val_loss: 4.9078 - val_accuracy: 0.1932\n",
            "Epoch 63/500\n",
            "104/104 [==============================] - 1s 5ms/step - loss: 6.6780 - accuracy: 0.1602 - val_loss: 4.9051 - val_accuracy: 0.1932\n",
            "Epoch 64/500\n",
            "104/104 [==============================] - 1s 5ms/step - loss: 6.6462 - accuracy: 0.1596 - val_loss: 4.9021 - val_accuracy: 0.1932\n",
            "Epoch 65/500\n",
            "104/104 [==============================] - 0s 5ms/step - loss: 6.6610 - accuracy: 0.1644 - val_loss: 4.8994 - val_accuracy: 0.1932\n",
            "Epoch 66/500\n",
            "104/104 [==============================] - 1s 5ms/step - loss: 6.6871 - accuracy: 0.1711 - val_loss: 4.8970 - val_accuracy: 0.1932\n",
            "Epoch 67/500\n",
            "104/104 [==============================] - 0s 5ms/step - loss: 6.5849 - accuracy: 0.1759 - val_loss: 4.8943 - val_accuracy: 0.1932\n",
            "Epoch 68/500\n",
            "104/104 [==============================] - 1s 5ms/step - loss: 6.6093 - accuracy: 0.1608 - val_loss: 4.8920 - val_accuracy: 0.1932\n",
            "Epoch 69/500\n",
            "104/104 [==============================] - 1s 5ms/step - loss: 6.8268 - accuracy: 0.1663 - val_loss: 4.8897 - val_accuracy: 0.1932\n",
            "Epoch 70/500\n",
            "104/104 [==============================] - 0s 5ms/step - loss: 6.7691 - accuracy: 0.1759 - val_loss: 4.8874 - val_accuracy: 0.1932\n",
            "Epoch 71/500\n",
            "104/104 [==============================] - 0s 5ms/step - loss: 6.5991 - accuracy: 0.1584 - val_loss: 4.8853 - val_accuracy: 0.1932\n",
            "Epoch 72/500\n",
            "104/104 [==============================] - 0s 5ms/step - loss: 6.5681 - accuracy: 0.1620 - val_loss: 4.8826 - val_accuracy: 0.1932\n",
            "Epoch 73/500\n",
            "104/104 [==============================] - 0s 4ms/step - loss: 6.7076 - accuracy: 0.1729 - val_loss: 4.8798 - val_accuracy: 0.1932\n",
            "Epoch 74/500\n",
            "104/104 [==============================] - 0s 5ms/step - loss: 6.6379 - accuracy: 0.1741 - val_loss: 4.8777 - val_accuracy: 0.1932\n",
            "Epoch 75/500\n",
            "104/104 [==============================] - 0s 5ms/step - loss: 6.5269 - accuracy: 0.1723 - val_loss: 4.8750 - val_accuracy: 0.1932\n",
            "Epoch 76/500\n",
            "104/104 [==============================] - 0s 5ms/step - loss: 6.9425 - accuracy: 0.1409 - val_loss: 4.8732 - val_accuracy: 0.1932\n",
            "Epoch 77/500\n",
            "104/104 [==============================] - 1s 5ms/step - loss: 6.8014 - accuracy: 0.1469 - val_loss: 4.8710 - val_accuracy: 0.1932\n",
            "Epoch 78/500\n",
            "104/104 [==============================] - 1s 5ms/step - loss: 6.7525 - accuracy: 0.1638 - val_loss: 4.8689 - val_accuracy: 0.1932\n",
            "Epoch 79/500\n",
            "104/104 [==============================] - 0s 5ms/step - loss: 6.7176 - accuracy: 0.1584 - val_loss: 4.8669 - val_accuracy: 0.1932\n",
            "Epoch 80/500\n",
            "104/104 [==============================] - 0s 5ms/step - loss: 6.4985 - accuracy: 0.1862 - val_loss: 4.8649 - val_accuracy: 0.1932\n",
            "Epoch 81/500\n",
            "104/104 [==============================] - 1s 5ms/step - loss: 6.5127 - accuracy: 0.1699 - val_loss: 4.8626 - val_accuracy: 0.1932\n",
            "Epoch 82/500\n",
            "104/104 [==============================] - 1s 5ms/step - loss: 6.7105 - accuracy: 0.1560 - val_loss: 4.8607 - val_accuracy: 0.1932\n",
            "Epoch 83/500\n",
            "104/104 [==============================] - 1s 5ms/step - loss: 6.6414 - accuracy: 0.1644 - val_loss: 4.8586 - val_accuracy: 0.1932\n",
            "Epoch 84/500\n",
            "104/104 [==============================] - 1s 5ms/step - loss: 6.5940 - accuracy: 0.1741 - val_loss: 4.8566 - val_accuracy: 0.1932\n",
            "Epoch 85/500\n",
            "104/104 [==============================] - 0s 5ms/step - loss: 6.8269 - accuracy: 0.1445 - val_loss: 4.8546 - val_accuracy: 0.1932\n",
            "Epoch 86/500\n",
            "104/104 [==============================] - 1s 5ms/step - loss: 6.6288 - accuracy: 0.1566 - val_loss: 4.8528 - val_accuracy: 0.1932\n",
            "Epoch 87/500\n",
            "104/104 [==============================] - 1s 5ms/step - loss: 6.6716 - accuracy: 0.1638 - val_loss: 4.8509 - val_accuracy: 0.1932\n",
            "Epoch 88/500\n",
            "104/104 [==============================] - 0s 5ms/step - loss: 6.7780 - accuracy: 0.1626 - val_loss: 4.8492 - val_accuracy: 0.1932\n",
            "Epoch 89/500\n",
            "104/104 [==============================] - 1s 5ms/step - loss: 6.7076 - accuracy: 0.1451 - val_loss: 4.8475 - val_accuracy: 0.1932\n",
            "Epoch 90/500\n",
            "104/104 [==============================] - 1s 5ms/step - loss: 6.6027 - accuracy: 0.1663 - val_loss: 4.8460 - val_accuracy: 0.1932\n",
            "Epoch 91/500\n",
            "104/104 [==============================] - 1s 5ms/step - loss: 6.5304 - accuracy: 0.1687 - val_loss: 4.8440 - val_accuracy: 0.1932\n",
            "Epoch 92/500\n",
            "104/104 [==============================] - 1s 5ms/step - loss: 6.5432 - accuracy: 0.1717 - val_loss: 4.8426 - val_accuracy: 0.1932\n",
            "Epoch 93/500\n",
            "104/104 [==============================] - 1s 5ms/step - loss: 6.7480 - accuracy: 0.1608 - val_loss: 4.8410 - val_accuracy: 0.1932\n",
            "Epoch 94/500\n",
            "104/104 [==============================] - 1s 5ms/step - loss: 6.6255 - accuracy: 0.1638 - val_loss: 4.8394 - val_accuracy: 0.1932\n",
            "Epoch 95/500\n",
            "104/104 [==============================] - 1s 5ms/step - loss: 6.7252 - accuracy: 0.1572 - val_loss: 4.8378 - val_accuracy: 0.1932\n",
            "Epoch 96/500\n",
            "104/104 [==============================] - 1s 5ms/step - loss: 6.7706 - accuracy: 0.1644 - val_loss: 4.8364 - val_accuracy: 0.1932\n",
            "Epoch 97/500\n",
            "104/104 [==============================] - 0s 5ms/step - loss: 6.7696 - accuracy: 0.1481 - val_loss: 4.8350 - val_accuracy: 0.1932\n",
            "Epoch 98/500\n",
            "104/104 [==============================] - 1s 5ms/step - loss: 6.4411 - accuracy: 0.1759 - val_loss: 4.8336 - val_accuracy: 0.1932\n",
            "Epoch 99/500\n",
            "104/104 [==============================] - 0s 5ms/step - loss: 6.6110 - accuracy: 0.1729 - val_loss: 4.8323 - val_accuracy: 0.1932\n",
            "Epoch 100/500\n",
            "104/104 [==============================] - 1s 5ms/step - loss: 6.7886 - accuracy: 0.1530 - val_loss: 4.8310 - val_accuracy: 0.1932\n",
            "Epoch 101/500\n",
            "104/104 [==============================] - 0s 5ms/step - loss: 6.4916 - accuracy: 0.1753 - val_loss: 4.8295 - val_accuracy: 0.1932\n",
            "Epoch 102/500\n",
            "104/104 [==============================] - 1s 5ms/step - loss: 6.6009 - accuracy: 0.1687 - val_loss: 4.8280 - val_accuracy: 0.1932\n",
            "Epoch 103/500\n",
            "104/104 [==============================] - 1s 5ms/step - loss: 6.7371 - accuracy: 0.1602 - val_loss: 4.8264 - val_accuracy: 0.1932\n",
            "Epoch 104/500\n",
            "104/104 [==============================] - 1s 5ms/step - loss: 6.5651 - accuracy: 0.1681 - val_loss: 4.8249 - val_accuracy: 0.1932\n",
            "Epoch 105/500\n",
            "104/104 [==============================] - 0s 5ms/step - loss: 6.4970 - accuracy: 0.1626 - val_loss: 4.8236 - val_accuracy: 0.1932\n",
            "Epoch 106/500\n",
            "104/104 [==============================] - 1s 5ms/step - loss: 6.5322 - accuracy: 0.1505 - val_loss: 4.8222 - val_accuracy: 0.1932\n",
            "Epoch 107/500\n",
            "104/104 [==============================] - 0s 5ms/step - loss: 6.7465 - accuracy: 0.1608 - val_loss: 4.8208 - val_accuracy: 0.1932\n",
            "Epoch 108/500\n",
            "104/104 [==============================] - 1s 5ms/step - loss: 6.7270 - accuracy: 0.1669 - val_loss: 4.8194 - val_accuracy: 0.1932\n",
            "Epoch 109/500\n",
            "104/104 [==============================] - 1s 5ms/step - loss: 6.3679 - accuracy: 0.1620 - val_loss: 4.8181 - val_accuracy: 0.1932\n",
            "Epoch 110/500\n",
            "104/104 [==============================] - 1s 5ms/step - loss: 6.5256 - accuracy: 0.1675 - val_loss: 4.8169 - val_accuracy: 0.1932\n",
            "Epoch 111/500\n",
            "104/104 [==============================] - 0s 5ms/step - loss: 6.7743 - accuracy: 0.1681 - val_loss: 4.8155 - val_accuracy: 0.1932\n",
            "Epoch 112/500\n",
            "104/104 [==============================] - 1s 5ms/step - loss: 6.8008 - accuracy: 0.1578 - val_loss: 4.8143 - val_accuracy: 0.1932\n",
            "Epoch 113/500\n",
            "104/104 [==============================] - 1s 5ms/step - loss: 6.5733 - accuracy: 0.1572 - val_loss: 4.8131 - val_accuracy: 0.1932\n",
            "Epoch 114/500\n",
            "104/104 [==============================] - 1s 5ms/step - loss: 6.7798 - accuracy: 0.1445 - val_loss: 4.8119 - val_accuracy: 0.1932\n",
            "Epoch 115/500\n",
            "104/104 [==============================] - 1s 5ms/step - loss: 6.6713 - accuracy: 0.1511 - val_loss: 4.8107 - val_accuracy: 0.1932\n",
            "Epoch 116/500\n",
            "104/104 [==============================] - 1s 5ms/step - loss: 6.6549 - accuracy: 0.1620 - val_loss: 4.8095 - val_accuracy: 0.1932\n",
            "Epoch 117/500\n",
            "104/104 [==============================] - 1s 5ms/step - loss: 6.4461 - accuracy: 0.1699 - val_loss: 4.8083 - val_accuracy: 0.1932\n",
            "Epoch 118/500\n",
            "104/104 [==============================] - 0s 5ms/step - loss: 6.4738 - accuracy: 0.1759 - val_loss: 4.8071 - val_accuracy: 0.1932\n",
            "Epoch 119/500\n",
            "104/104 [==============================] - 0s 5ms/step - loss: 6.4807 - accuracy: 0.1778 - val_loss: 4.8058 - val_accuracy: 0.1932\n",
            "Epoch 120/500\n",
            "104/104 [==============================] - 1s 5ms/step - loss: 6.3994 - accuracy: 0.1741 - val_loss: 4.8048 - val_accuracy: 0.1932\n",
            "Epoch 121/500\n",
            "104/104 [==============================] - 0s 5ms/step - loss: 6.6543 - accuracy: 0.1530 - val_loss: 4.8036 - val_accuracy: 0.1932\n",
            "Epoch 122/500\n",
            "104/104 [==============================] - 0s 5ms/step - loss: 6.5753 - accuracy: 0.1596 - val_loss: 4.8025 - val_accuracy: 0.1932\n",
            "Epoch 123/500\n",
            "104/104 [==============================] - 1s 5ms/step - loss: 6.5021 - accuracy: 0.1620 - val_loss: 4.8015 - val_accuracy: 0.1932\n",
            "Epoch 124/500\n",
            "104/104 [==============================] - 1s 5ms/step - loss: 6.6211 - accuracy: 0.1608 - val_loss: 4.8005 - val_accuracy: 0.1932\n",
            "Epoch 125/500\n",
            "104/104 [==============================] - 1s 5ms/step - loss: 6.5190 - accuracy: 0.1747 - val_loss: 4.7996 - val_accuracy: 0.1932\n",
            "Epoch 126/500\n",
            "104/104 [==============================] - 1s 5ms/step - loss: 6.5565 - accuracy: 0.1572 - val_loss: 4.7988 - val_accuracy: 0.1932\n",
            "Epoch 127/500\n",
            "104/104 [==============================] - 0s 5ms/step - loss: 6.6854 - accuracy: 0.1693 - val_loss: 4.7977 - val_accuracy: 0.1932\n",
            "Epoch 128/500\n",
            "104/104 [==============================] - 0s 5ms/step - loss: 6.5651 - accuracy: 0.1644 - val_loss: 4.7967 - val_accuracy: 0.1932\n",
            "Epoch 129/500\n",
            "104/104 [==============================] - 1s 5ms/step - loss: 6.3914 - accuracy: 0.1868 - val_loss: 4.7957 - val_accuracy: 0.1932\n",
            "Epoch 130/500\n",
            "104/104 [==============================] - 0s 5ms/step - loss: 6.4848 - accuracy: 0.1651 - val_loss: 4.7945 - val_accuracy: 0.1932\n",
            "Epoch 131/500\n",
            "104/104 [==============================] - 0s 5ms/step - loss: 6.6156 - accuracy: 0.1554 - val_loss: 4.7934 - val_accuracy: 0.1932\n",
            "Epoch 132/500\n",
            "104/104 [==============================] - 1s 5ms/step - loss: 6.5719 - accuracy: 0.1693 - val_loss: 4.7923 - val_accuracy: 0.1932\n",
            "Epoch 133/500\n",
            "104/104 [==============================] - 0s 5ms/step - loss: 6.5435 - accuracy: 0.1675 - val_loss: 4.7912 - val_accuracy: 0.1932\n",
            "Epoch 134/500\n",
            "104/104 [==============================] - 0s 5ms/step - loss: 6.5535 - accuracy: 0.1626 - val_loss: 4.7904 - val_accuracy: 0.1932\n",
            "Epoch 135/500\n",
            "104/104 [==============================] - 0s 5ms/step - loss: 6.6181 - accuracy: 0.1711 - val_loss: 4.7894 - val_accuracy: 0.1932\n",
            "Epoch 136/500\n",
            "104/104 [==============================] - 1s 5ms/step - loss: 6.5584 - accuracy: 0.1614 - val_loss: 4.7885 - val_accuracy: 0.1932\n",
            "Epoch 137/500\n",
            "104/104 [==============================] - 0s 5ms/step - loss: 6.6165 - accuracy: 0.1560 - val_loss: 4.7876 - val_accuracy: 0.1932\n",
            "Epoch 138/500\n",
            "104/104 [==============================] - 1s 5ms/step - loss: 6.5850 - accuracy: 0.1644 - val_loss: 4.7867 - val_accuracy: 0.1932\n",
            "Epoch 139/500\n",
            "104/104 [==============================] - 0s 5ms/step - loss: 6.3863 - accuracy: 0.1657 - val_loss: 4.7858 - val_accuracy: 0.1932\n",
            "Epoch 140/500\n",
            "104/104 [==============================] - 1s 5ms/step - loss: 6.4120 - accuracy: 0.1620 - val_loss: 4.7849 - val_accuracy: 0.1932\n",
            "Epoch 141/500\n",
            "104/104 [==============================] - 0s 5ms/step - loss: 6.5322 - accuracy: 0.1681 - val_loss: 4.7841 - val_accuracy: 0.1932\n",
            "Epoch 142/500\n",
            "104/104 [==============================] - 1s 5ms/step - loss: 6.5163 - accuracy: 0.1638 - val_loss: 4.7832 - val_accuracy: 0.1932\n",
            "Epoch 143/500\n",
            "104/104 [==============================] - 1s 5ms/step - loss: 6.4292 - accuracy: 0.1657 - val_loss: 4.7824 - val_accuracy: 0.1932\n",
            "Epoch 144/500\n",
            "104/104 [==============================] - 1s 5ms/step - loss: 6.4586 - accuracy: 0.1778 - val_loss: 4.7815 - val_accuracy: 0.1932\n",
            "Epoch 145/500\n",
            "104/104 [==============================] - 0s 5ms/step - loss: 6.5749 - accuracy: 0.1723 - val_loss: 4.7806 - val_accuracy: 0.1932\n",
            "Epoch 146/500\n",
            "104/104 [==============================] - 1s 5ms/step - loss: 6.4754 - accuracy: 0.1699 - val_loss: 4.7798 - val_accuracy: 0.1932\n",
            "Epoch 147/500\n",
            "104/104 [==============================] - 1s 5ms/step - loss: 6.4867 - accuracy: 0.1602 - val_loss: 4.7790 - val_accuracy: 0.1932\n",
            "Epoch 148/500\n",
            "104/104 [==============================] - 1s 5ms/step - loss: 6.4353 - accuracy: 0.1693 - val_loss: 4.7782 - val_accuracy: 0.1932\n",
            "Epoch 149/500\n",
            "104/104 [==============================] - 1s 5ms/step - loss: 6.4905 - accuracy: 0.1524 - val_loss: 4.7773 - val_accuracy: 0.1932\n",
            "Epoch 150/500\n",
            "104/104 [==============================] - 0s 5ms/step - loss: 6.5729 - accuracy: 0.1566 - val_loss: 4.7765 - val_accuracy: 0.1932\n",
            "Epoch 151/500\n",
            "104/104 [==============================] - 1s 5ms/step - loss: 6.5416 - accuracy: 0.1651 - val_loss: 4.7756 - val_accuracy: 0.1932\n",
            "Epoch 152/500\n",
            "104/104 [==============================] - 1s 5ms/step - loss: 6.6068 - accuracy: 0.1469 - val_loss: 4.7749 - val_accuracy: 0.1932\n",
            "Epoch 153/500\n",
            "104/104 [==============================] - 1s 5ms/step - loss: 6.7797 - accuracy: 0.1596 - val_loss: 4.7742 - val_accuracy: 0.1932\n",
            "Epoch 154/500\n",
            "104/104 [==============================] - 1s 5ms/step - loss: 6.3585 - accuracy: 0.1657 - val_loss: 4.7733 - val_accuracy: 0.1932\n",
            "Epoch 155/500\n",
            "104/104 [==============================] - 0s 5ms/step - loss: 6.4811 - accuracy: 0.1693 - val_loss: 4.7726 - val_accuracy: 0.1932\n",
            "Epoch 156/500\n",
            "104/104 [==============================] - 0s 5ms/step - loss: 6.6967 - accuracy: 0.1572 - val_loss: 4.7719 - val_accuracy: 0.1932\n",
            "Epoch 157/500\n",
            "104/104 [==============================] - 0s 5ms/step - loss: 6.5895 - accuracy: 0.1723 - val_loss: 4.7710 - val_accuracy: 0.1932\n",
            "Epoch 158/500\n",
            "104/104 [==============================] - 0s 5ms/step - loss: 6.4820 - accuracy: 0.1826 - val_loss: 4.7702 - val_accuracy: 0.1932\n",
            "Epoch 159/500\n",
            "104/104 [==============================] - 1s 5ms/step - loss: 6.9328 - accuracy: 0.1554 - val_loss: 4.7694 - val_accuracy: 0.1932\n",
            "Epoch 160/500\n",
            "104/104 [==============================] - 0s 5ms/step - loss: 6.4476 - accuracy: 0.1651 - val_loss: 4.7687 - val_accuracy: 0.1932\n",
            "Epoch 161/500\n",
            "104/104 [==============================] - 1s 5ms/step - loss: 6.4517 - accuracy: 0.1741 - val_loss: 4.7678 - val_accuracy: 0.1932\n",
            "Epoch 162/500\n",
            "104/104 [==============================] - 1s 5ms/step - loss: 6.5637 - accuracy: 0.1669 - val_loss: 4.7670 - val_accuracy: 0.1932\n",
            "Epoch 163/500\n",
            "104/104 [==============================] - 1s 5ms/step - loss: 6.6040 - accuracy: 0.1518 - val_loss: 4.7664 - val_accuracy: 0.1932\n",
            "Epoch 164/500\n",
            "104/104 [==============================] - 1s 5ms/step - loss: 6.4490 - accuracy: 0.1729 - val_loss: 4.7658 - val_accuracy: 0.1932\n",
            "Epoch 165/500\n",
            "104/104 [==============================] - 0s 5ms/step - loss: 6.5991 - accuracy: 0.1596 - val_loss: 4.7651 - val_accuracy: 0.1932\n",
            "Epoch 166/500\n",
            "104/104 [==============================] - 1s 5ms/step - loss: 6.6217 - accuracy: 0.1493 - val_loss: 4.7644 - val_accuracy: 0.1932\n",
            "Epoch 167/500\n",
            "104/104 [==============================] - 1s 5ms/step - loss: 6.5393 - accuracy: 0.1784 - val_loss: 4.7637 - val_accuracy: 0.1932\n",
            "Epoch 168/500\n",
            "104/104 [==============================] - 1s 5ms/step - loss: 6.5535 - accuracy: 0.1669 - val_loss: 4.7630 - val_accuracy: 0.1932\n",
            "Epoch 169/500\n",
            "104/104 [==============================] - 1s 6ms/step - loss: 6.6855 - accuracy: 0.1566 - val_loss: 4.7623 - val_accuracy: 0.1932\n",
            "Epoch 170/500\n",
            "104/104 [==============================] - 0s 5ms/step - loss: 6.4893 - accuracy: 0.1735 - val_loss: 4.7616 - val_accuracy: 0.1932\n",
            "Epoch 171/500\n",
            "104/104 [==============================] - 0s 5ms/step - loss: 6.4658 - accuracy: 0.1644 - val_loss: 4.7610 - val_accuracy: 0.1932\n",
            "Epoch 172/500\n",
            "104/104 [==============================] - 1s 5ms/step - loss: 6.5288 - accuracy: 0.1681 - val_loss: 4.7604 - val_accuracy: 0.1932\n",
            "Epoch 173/500\n",
            "104/104 [==============================] - 0s 5ms/step - loss: 6.4804 - accuracy: 0.1578 - val_loss: 4.7596 - val_accuracy: 0.1932\n",
            "Epoch 174/500\n",
            "104/104 [==============================] - 1s 5ms/step - loss: 6.5511 - accuracy: 0.1644 - val_loss: 4.7590 - val_accuracy: 0.1932\n",
            "Epoch 175/500\n",
            "104/104 [==============================] - 1s 5ms/step - loss: 6.3873 - accuracy: 0.1735 - val_loss: 4.7584 - val_accuracy: 0.1932\n",
            "Epoch 176/500\n",
            "104/104 [==============================] - 1s 5ms/step - loss: 6.5449 - accuracy: 0.1578 - val_loss: 4.7578 - val_accuracy: 0.1932\n",
            "Epoch 177/500\n",
            "104/104 [==============================] - 1s 5ms/step - loss: 6.5419 - accuracy: 0.1620 - val_loss: 4.7571 - val_accuracy: 0.1932\n",
            "Epoch 178/500\n",
            "104/104 [==============================] - 1s 5ms/step - loss: 6.5697 - accuracy: 0.1669 - val_loss: 4.7563 - val_accuracy: 0.1932\n",
            "Epoch 179/500\n",
            "104/104 [==============================] - 1s 6ms/step - loss: 6.4227 - accuracy: 0.1644 - val_loss: 4.7557 - val_accuracy: 0.1932\n",
            "Epoch 180/500\n",
            "104/104 [==============================] - 1s 9ms/step - loss: 6.6626 - accuracy: 0.1638 - val_loss: 4.7551 - val_accuracy: 0.1932\n",
            "Epoch 181/500\n",
            "104/104 [==============================] - 1s 6ms/step - loss: 6.5680 - accuracy: 0.1457 - val_loss: 4.7545 - val_accuracy: 0.1932\n",
            "Epoch 182/500\n",
            "104/104 [==============================] - 1s 5ms/step - loss: 6.4386 - accuracy: 0.1608 - val_loss: 4.7539 - val_accuracy: 0.1932\n",
            "Epoch 183/500\n",
            "104/104 [==============================] - 1s 5ms/step - loss: 6.5494 - accuracy: 0.1542 - val_loss: 4.7533 - val_accuracy: 0.1932\n",
            "Epoch 184/500\n",
            "104/104 [==============================] - 0s 5ms/step - loss: 6.4286 - accuracy: 0.1608 - val_loss: 4.7527 - val_accuracy: 0.1932\n",
            "Epoch 185/500\n",
            "104/104 [==============================] - 1s 5ms/step - loss: 6.5075 - accuracy: 0.1584 - val_loss: 4.7522 - val_accuracy: 0.1932\n",
            "Epoch 186/500\n",
            "104/104 [==============================] - 1s 5ms/step - loss: 6.4452 - accuracy: 0.1687 - val_loss: 4.7517 - val_accuracy: 0.1932\n",
            "Epoch 187/500\n",
            "104/104 [==============================] - 1s 5ms/step - loss: 6.5262 - accuracy: 0.1620 - val_loss: 4.7511 - val_accuracy: 0.1932\n",
            "Epoch 188/500\n",
            "104/104 [==============================] - 0s 5ms/step - loss: 6.4535 - accuracy: 0.1626 - val_loss: 4.7505 - val_accuracy: 0.1932\n",
            "Epoch 189/500\n",
            "104/104 [==============================] - 1s 5ms/step - loss: 6.5165 - accuracy: 0.1687 - val_loss: 4.7499 - val_accuracy: 0.1932\n",
            "Epoch 190/500\n",
            "104/104 [==============================] - 1s 5ms/step - loss: 6.5072 - accuracy: 0.1566 - val_loss: 4.7493 - val_accuracy: 0.1932\n",
            "Epoch 191/500\n",
            "104/104 [==============================] - 1s 5ms/step - loss: 6.5875 - accuracy: 0.1711 - val_loss: 4.7487 - val_accuracy: 0.1932\n",
            "Epoch 192/500\n",
            "104/104 [==============================] - 1s 5ms/step - loss: 6.5877 - accuracy: 0.1530 - val_loss: 4.7482 - val_accuracy: 0.1932\n",
            "Epoch 193/500\n",
            "104/104 [==============================] - 0s 5ms/step - loss: 6.3049 - accuracy: 0.1850 - val_loss: 4.7476 - val_accuracy: 0.1932\n",
            "Epoch 194/500\n",
            "104/104 [==============================] - 0s 5ms/step - loss: 6.4726 - accuracy: 0.1796 - val_loss: 4.7471 - val_accuracy: 0.1932\n",
            "Epoch 195/500\n",
            "104/104 [==============================] - 0s 5ms/step - loss: 6.6537 - accuracy: 0.1560 - val_loss: 4.7466 - val_accuracy: 0.1932\n",
            "Epoch 196/500\n",
            "104/104 [==============================] - 1s 5ms/step - loss: 6.5860 - accuracy: 0.1675 - val_loss: 4.7462 - val_accuracy: 0.1932\n",
            "Epoch 197/500\n",
            "104/104 [==============================] - 0s 5ms/step - loss: 6.6193 - accuracy: 0.1638 - val_loss: 4.7457 - val_accuracy: 0.1932\n",
            "Epoch 198/500\n",
            "104/104 [==============================] - 1s 5ms/step - loss: 6.4242 - accuracy: 0.1778 - val_loss: 4.7452 - val_accuracy: 0.1932\n",
            "Epoch 199/500\n",
            "104/104 [==============================] - 1s 5ms/step - loss: 6.5988 - accuracy: 0.1651 - val_loss: 4.7447 - val_accuracy: 0.1932\n",
            "Epoch 200/500\n",
            "104/104 [==============================] - 0s 5ms/step - loss: 6.6839 - accuracy: 0.1584 - val_loss: 4.7442 - val_accuracy: 0.1932\n",
            "Epoch 201/500\n",
            "104/104 [==============================] - 0s 5ms/step - loss: 6.6017 - accuracy: 0.1614 - val_loss: 4.7438 - val_accuracy: 0.1932\n",
            "Epoch 202/500\n",
            "104/104 [==============================] - 1s 5ms/step - loss: 6.3711 - accuracy: 0.1681 - val_loss: 4.7433 - val_accuracy: 0.1932\n",
            "Epoch 203/500\n",
            "104/104 [==============================] - 1s 5ms/step - loss: 6.4354 - accuracy: 0.1705 - val_loss: 4.7427 - val_accuracy: 0.1932\n",
            "Epoch 204/500\n",
            "104/104 [==============================] - 0s 5ms/step - loss: 6.6037 - accuracy: 0.1687 - val_loss: 4.7422 - val_accuracy: 0.1932\n",
            "Epoch 205/500\n",
            "104/104 [==============================] - 0s 5ms/step - loss: 6.6074 - accuracy: 0.1753 - val_loss: 4.7418 - val_accuracy: 0.1932\n",
            "Epoch 206/500\n",
            "104/104 [==============================] - 1s 5ms/step - loss: 6.3390 - accuracy: 0.1590 - val_loss: 4.7413 - val_accuracy: 0.1932\n",
            "Epoch 207/500\n",
            "104/104 [==============================] - 1s 5ms/step - loss: 6.4392 - accuracy: 0.1614 - val_loss: 4.7409 - val_accuracy: 0.1932\n",
            "Epoch 208/500\n",
            "104/104 [==============================] - 1s 5ms/step - loss: 6.3395 - accuracy: 0.1560 - val_loss: 4.7405 - val_accuracy: 0.1932\n",
            "Epoch 209/500\n",
            "104/104 [==============================] - 1s 5ms/step - loss: 6.5686 - accuracy: 0.1433 - val_loss: 4.7400 - val_accuracy: 0.1932\n",
            "Epoch 210/500\n",
            "104/104 [==============================] - 1s 5ms/step - loss: 6.5200 - accuracy: 0.1693 - val_loss: 4.7396 - val_accuracy: 0.1932\n",
            "Epoch 211/500\n",
            "104/104 [==============================] - 1s 5ms/step - loss: 6.5695 - accuracy: 0.1669 - val_loss: 4.7391 - val_accuracy: 0.1932\n",
            "Epoch 212/500\n",
            "104/104 [==============================] - 1s 5ms/step - loss: 6.4600 - accuracy: 0.1644 - val_loss: 4.7386 - val_accuracy: 0.1932\n",
            "Epoch 213/500\n",
            "104/104 [==============================] - 1s 5ms/step - loss: 6.5317 - accuracy: 0.1536 - val_loss: 4.7381 - val_accuracy: 0.1932\n",
            "Epoch 214/500\n",
            "104/104 [==============================] - 1s 5ms/step - loss: 6.5096 - accuracy: 0.1602 - val_loss: 4.7377 - val_accuracy: 0.1932\n",
            "Epoch 215/500\n",
            "104/104 [==============================] - 0s 5ms/step - loss: 6.5277 - accuracy: 0.1681 - val_loss: 4.7373 - val_accuracy: 0.1932\n",
            "Epoch 216/500\n",
            "104/104 [==============================] - 1s 5ms/step - loss: 6.6827 - accuracy: 0.1433 - val_loss: 4.7368 - val_accuracy: 0.1932\n",
            "Epoch 217/500\n",
            "104/104 [==============================] - 1s 5ms/step - loss: 6.5726 - accuracy: 0.1651 - val_loss: 4.7364 - val_accuracy: 0.1932\n",
            "Epoch 218/500\n",
            "104/104 [==============================] - 0s 5ms/step - loss: 6.5371 - accuracy: 0.1614 - val_loss: 4.7359 - val_accuracy: 0.1932\n",
            "Epoch 219/500\n",
            "104/104 [==============================] - 1s 5ms/step - loss: 6.4730 - accuracy: 0.1614 - val_loss: 4.7355 - val_accuracy: 0.1932\n",
            "Epoch 220/500\n",
            "104/104 [==============================] - 1s 5ms/step - loss: 6.5580 - accuracy: 0.1663 - val_loss: 4.7351 - val_accuracy: 0.1932\n",
            "Epoch 221/500\n",
            "104/104 [==============================] - 0s 5ms/step - loss: 6.5537 - accuracy: 0.1669 - val_loss: 4.7347 - val_accuracy: 0.1932\n",
            "Epoch 222/500\n",
            "104/104 [==============================] - 1s 5ms/step - loss: 6.5305 - accuracy: 0.1481 - val_loss: 4.7343 - val_accuracy: 0.1932\n",
            "Epoch 223/500\n",
            "104/104 [==============================] - 0s 5ms/step - loss: 6.5257 - accuracy: 0.1765 - val_loss: 4.7339 - val_accuracy: 0.1932\n",
            "Epoch 224/500\n",
            "104/104 [==============================] - 1s 5ms/step - loss: 6.4778 - accuracy: 0.1699 - val_loss: 4.7336 - val_accuracy: 0.1932\n",
            "Epoch 225/500\n",
            "104/104 [==============================] - 1s 5ms/step - loss: 6.6322 - accuracy: 0.1675 - val_loss: 4.7331 - val_accuracy: 0.1932\n",
            "Epoch 226/500\n",
            "104/104 [==============================] - 1s 5ms/step - loss: 6.3649 - accuracy: 0.1723 - val_loss: 4.7328 - val_accuracy: 0.1932\n",
            "Epoch 227/500\n",
            "104/104 [==============================] - 1s 5ms/step - loss: 6.4607 - accuracy: 0.1530 - val_loss: 4.7325 - val_accuracy: 0.1932\n",
            "Epoch 228/500\n",
            "104/104 [==============================] - 1s 5ms/step - loss: 6.6749 - accuracy: 0.1457 - val_loss: 4.7320 - val_accuracy: 0.1932\n",
            "Epoch 229/500\n",
            "104/104 [==============================] - 1s 5ms/step - loss: 6.6853 - accuracy: 0.1548 - val_loss: 4.7317 - val_accuracy: 0.1932\n",
            "Epoch 230/500\n",
            "104/104 [==============================] - 0s 5ms/step - loss: 6.5885 - accuracy: 0.1481 - val_loss: 4.7314 - val_accuracy: 0.1932\n",
            "Epoch 231/500\n",
            "104/104 [==============================] - 1s 5ms/step - loss: 6.4749 - accuracy: 0.1536 - val_loss: 4.7310 - val_accuracy: 0.1932\n",
            "Epoch 232/500\n",
            "104/104 [==============================] - 1s 5ms/step - loss: 6.5649 - accuracy: 0.1669 - val_loss: 4.7306 - val_accuracy: 0.1932\n",
            "Epoch 233/500\n",
            "104/104 [==============================] - 0s 5ms/step - loss: 6.6222 - accuracy: 0.1566 - val_loss: 4.7303 - val_accuracy: 0.1932\n",
            "Epoch 234/500\n",
            "104/104 [==============================] - 0s 5ms/step - loss: 6.3890 - accuracy: 0.1705 - val_loss: 4.7299 - val_accuracy: 0.1932\n",
            "Epoch 235/500\n",
            "104/104 [==============================] - 0s 5ms/step - loss: 6.3251 - accuracy: 0.1832 - val_loss: 4.7295 - val_accuracy: 0.1932\n",
            "Epoch 236/500\n",
            "104/104 [==============================] - 1s 5ms/step - loss: 6.6557 - accuracy: 0.1644 - val_loss: 4.7292 - val_accuracy: 0.1932\n",
            "Epoch 237/500\n",
            "104/104 [==============================] - 1s 5ms/step - loss: 6.4962 - accuracy: 0.1838 - val_loss: 4.7288 - val_accuracy: 0.1932\n",
            "Epoch 238/500\n",
            "104/104 [==============================] - 1s 5ms/step - loss: 6.5322 - accuracy: 0.1711 - val_loss: 4.7284 - val_accuracy: 0.1932\n",
            "Epoch 239/500\n",
            "104/104 [==============================] - 1s 5ms/step - loss: 6.4889 - accuracy: 0.1729 - val_loss: 4.7281 - val_accuracy: 0.1932\n",
            "Epoch 240/500\n",
            "104/104 [==============================] - 1s 5ms/step - loss: 6.4790 - accuracy: 0.1626 - val_loss: 4.7277 - val_accuracy: 0.1932\n",
            "Epoch 241/500\n",
            "104/104 [==============================] - 1s 5ms/step - loss: 6.5305 - accuracy: 0.1687 - val_loss: 4.7273 - val_accuracy: 0.1932\n",
            "Epoch 242/500\n",
            "104/104 [==============================] - 1s 5ms/step - loss: 6.3994 - accuracy: 0.1608 - val_loss: 4.7270 - val_accuracy: 0.1932\n",
            "Epoch 243/500\n",
            "104/104 [==============================] - 1s 5ms/step - loss: 6.3781 - accuracy: 0.1765 - val_loss: 4.7267 - val_accuracy: 0.1932\n",
            "Epoch 244/500\n",
            "104/104 [==============================] - 1s 5ms/step - loss: 6.5870 - accuracy: 0.1536 - val_loss: 4.7264 - val_accuracy: 0.1932\n",
            "Epoch 245/500\n",
            "104/104 [==============================] - 1s 5ms/step - loss: 6.3658 - accuracy: 0.1729 - val_loss: 4.7260 - val_accuracy: 0.1932\n",
            "Epoch 246/500\n",
            "104/104 [==============================] - 1s 5ms/step - loss: 6.4632 - accuracy: 0.1663 - val_loss: 4.7257 - val_accuracy: 0.1932\n",
            "Epoch 247/500\n",
            "104/104 [==============================] - 1s 5ms/step - loss: 6.4968 - accuracy: 0.1578 - val_loss: 4.7254 - val_accuracy: 0.1932\n",
            "Epoch 248/500\n",
            "104/104 [==============================] - 1s 5ms/step - loss: 6.4992 - accuracy: 0.1717 - val_loss: 4.7250 - val_accuracy: 0.1932\n",
            "Epoch 249/500\n",
            "104/104 [==============================] - 1s 5ms/step - loss: 6.4802 - accuracy: 0.1638 - val_loss: 4.7247 - val_accuracy: 0.1932\n",
            "Epoch 250/500\n",
            "104/104 [==============================] - 1s 5ms/step - loss: 6.4804 - accuracy: 0.1632 - val_loss: 4.7243 - val_accuracy: 0.1932\n",
            "Epoch 251/500\n",
            "104/104 [==============================] - 1s 5ms/step - loss: 6.5427 - accuracy: 0.1693 - val_loss: 4.7240 - val_accuracy: 0.1932\n",
            "Epoch 252/500\n",
            "104/104 [==============================] - 0s 5ms/step - loss: 6.4731 - accuracy: 0.1723 - val_loss: 4.7237 - val_accuracy: 0.1932\n",
            "Epoch 253/500\n",
            "104/104 [==============================] - 1s 5ms/step - loss: 6.4105 - accuracy: 0.1657 - val_loss: 4.7234 - val_accuracy: 0.1932\n",
            "Epoch 254/500\n",
            "104/104 [==============================] - 1s 5ms/step - loss: 6.5780 - accuracy: 0.1657 - val_loss: 4.7230 - val_accuracy: 0.1932\n",
            "Epoch 255/500\n",
            "104/104 [==============================] - 1s 5ms/step - loss: 6.4517 - accuracy: 0.1681 - val_loss: 4.7227 - val_accuracy: 0.1932\n",
            "Epoch 256/500\n",
            "104/104 [==============================] - 1s 5ms/step - loss: 6.5660 - accuracy: 0.1651 - val_loss: 4.7224 - val_accuracy: 0.1932\n",
            "Epoch 257/500\n",
            "104/104 [==============================] - 1s 5ms/step - loss: 6.4235 - accuracy: 0.1596 - val_loss: 4.7220 - val_accuracy: 0.1932\n",
            "Epoch 258/500\n",
            "104/104 [==============================] - 1s 5ms/step - loss: 6.6287 - accuracy: 0.1632 - val_loss: 4.7217 - val_accuracy: 0.1932\n",
            "Epoch 259/500\n",
            "104/104 [==============================] - 1s 5ms/step - loss: 6.5407 - accuracy: 0.1542 - val_loss: 4.7214 - val_accuracy: 0.1932\n",
            "Epoch 260/500\n",
            "104/104 [==============================] - 1s 5ms/step - loss: 6.4094 - accuracy: 0.1638 - val_loss: 4.7211 - val_accuracy: 0.1932\n",
            "Epoch 261/500\n",
            "104/104 [==============================] - 1s 5ms/step - loss: 6.4867 - accuracy: 0.1747 - val_loss: 4.7208 - val_accuracy: 0.1932\n",
            "Epoch 262/500\n",
            "104/104 [==============================] - 1s 5ms/step - loss: 6.3605 - accuracy: 0.1669 - val_loss: 4.7205 - val_accuracy: 0.1932\n",
            "Epoch 263/500\n",
            "104/104 [==============================] - 1s 5ms/step - loss: 6.5142 - accuracy: 0.1548 - val_loss: 4.7202 - val_accuracy: 0.1932\n",
            "Epoch 264/500\n",
            "104/104 [==============================] - 1s 5ms/step - loss: 6.3073 - accuracy: 0.1699 - val_loss: 4.7199 - val_accuracy: 0.1932\n",
            "Epoch 265/500\n",
            "104/104 [==============================] - 1s 5ms/step - loss: 6.3864 - accuracy: 0.1711 - val_loss: 4.7196 - val_accuracy: 0.1932\n",
            "Epoch 266/500\n",
            "104/104 [==============================] - 1s 5ms/step - loss: 6.5726 - accuracy: 0.1584 - val_loss: 4.7193 - val_accuracy: 0.1932\n",
            "Epoch 267/500\n",
            "104/104 [==============================] - 1s 5ms/step - loss: 6.5349 - accuracy: 0.1687 - val_loss: 4.7190 - val_accuracy: 0.1932\n",
            "Epoch 268/500\n",
            "104/104 [==============================] - 1s 5ms/step - loss: 6.5068 - accuracy: 0.1784 - val_loss: 4.7187 - val_accuracy: 0.1932\n",
            "Epoch 269/500\n",
            "104/104 [==============================] - 1s 5ms/step - loss: 6.2600 - accuracy: 0.1850 - val_loss: 4.7184 - val_accuracy: 0.1932\n",
            "Epoch 270/500\n",
            "104/104 [==============================] - 1s 5ms/step - loss: 6.4030 - accuracy: 0.1717 - val_loss: 4.7181 - val_accuracy: 0.1932\n",
            "Epoch 271/500\n",
            "104/104 [==============================] - 1s 5ms/step - loss: 6.7517 - accuracy: 0.1578 - val_loss: 4.7178 - val_accuracy: 0.1932\n",
            "Epoch 272/500\n",
            "104/104 [==============================] - 1s 5ms/step - loss: 6.4424 - accuracy: 0.1590 - val_loss: 4.7176 - val_accuracy: 0.1932\n",
            "Epoch 273/500\n",
            "104/104 [==============================] - 1s 5ms/step - loss: 6.6025 - accuracy: 0.1687 - val_loss: 4.7173 - val_accuracy: 0.1932\n",
            "Epoch 274/500\n",
            "104/104 [==============================] - 1s 5ms/step - loss: 6.5999 - accuracy: 0.1644 - val_loss: 4.7170 - val_accuracy: 0.1932\n",
            "Epoch 275/500\n",
            "104/104 [==============================] - 1s 6ms/step - loss: 6.6288 - accuracy: 0.1530 - val_loss: 4.7167 - val_accuracy: 0.1932\n",
            "Epoch 276/500\n",
            "104/104 [==============================] - 1s 6ms/step - loss: 6.6508 - accuracy: 0.1487 - val_loss: 4.7164 - val_accuracy: 0.1932\n",
            "Epoch 277/500\n",
            "104/104 [==============================] - 1s 7ms/step - loss: 6.3863 - accuracy: 0.1608 - val_loss: 4.7162 - val_accuracy: 0.1932\n",
            "Epoch 278/500\n",
            "104/104 [==============================] - 1s 7ms/step - loss: 6.3726 - accuracy: 0.1675 - val_loss: 4.7159 - val_accuracy: 0.1932\n",
            "Epoch 279/500\n",
            "104/104 [==============================] - 1s 7ms/step - loss: 6.6309 - accuracy: 0.1451 - val_loss: 4.7156 - val_accuracy: 0.1932\n",
            "Epoch 280/500\n",
            "104/104 [==============================] - 1s 7ms/step - loss: 6.4587 - accuracy: 0.1663 - val_loss: 4.7154 - val_accuracy: 0.1932\n",
            "Epoch 281/500\n",
            "104/104 [==============================] - 1s 5ms/step - loss: 6.4507 - accuracy: 0.1638 - val_loss: 4.7152 - val_accuracy: 0.1932\n",
            "Epoch 282/500\n",
            "104/104 [==============================] - 1s 6ms/step - loss: 6.3990 - accuracy: 0.1542 - val_loss: 4.7150 - val_accuracy: 0.1932\n",
            "Epoch 283/500\n",
            "104/104 [==============================] - 1s 5ms/step - loss: 6.3484 - accuracy: 0.1796 - val_loss: 4.7147 - val_accuracy: 0.1932\n",
            "Epoch 284/500\n",
            "104/104 [==============================] - 1s 5ms/step - loss: 6.5366 - accuracy: 0.1608 - val_loss: 4.7145 - val_accuracy: 0.1932\n",
            "Epoch 285/500\n",
            "104/104 [==============================] - 1s 5ms/step - loss: 6.7647 - accuracy: 0.1584 - val_loss: 4.7142 - val_accuracy: 0.1932\n",
            "Epoch 286/500\n",
            "104/104 [==============================] - 1s 5ms/step - loss: 6.5467 - accuracy: 0.1542 - val_loss: 4.7139 - val_accuracy: 0.1932\n",
            "Epoch 287/500\n",
            "104/104 [==============================] - 1s 5ms/step - loss: 6.4135 - accuracy: 0.1566 - val_loss: 4.7136 - val_accuracy: 0.1932\n",
            "Epoch 288/500\n",
            "104/104 [==============================] - 1s 5ms/step - loss: 6.5696 - accuracy: 0.1699 - val_loss: 4.7133 - val_accuracy: 0.1932\n",
            "Epoch 289/500\n",
            "104/104 [==============================] - 1s 5ms/step - loss: 6.6044 - accuracy: 0.1620 - val_loss: 4.7131 - val_accuracy: 0.1932\n",
            "Epoch 290/500\n",
            "104/104 [==============================] - 1s 5ms/step - loss: 6.3845 - accuracy: 0.1638 - val_loss: 4.7128 - val_accuracy: 0.1932\n",
            "Epoch 291/500\n",
            "104/104 [==============================] - 1s 5ms/step - loss: 6.4770 - accuracy: 0.1759 - val_loss: 4.7126 - val_accuracy: 0.1932\n",
            "Epoch 292/500\n",
            "104/104 [==============================] - 1s 6ms/step - loss: 6.3900 - accuracy: 0.1747 - val_loss: 4.7124 - val_accuracy: 0.1932\n",
            "Epoch 293/500\n",
            "104/104 [==============================] - 1s 5ms/step - loss: 6.5098 - accuracy: 0.1638 - val_loss: 4.7121 - val_accuracy: 0.1932\n",
            "Epoch 294/500\n",
            "104/104 [==============================] - 1s 5ms/step - loss: 6.4148 - accuracy: 0.1590 - val_loss: 4.7119 - val_accuracy: 0.1932\n",
            "Epoch 295/500\n",
            "104/104 [==============================] - 1s 5ms/step - loss: 6.5674 - accuracy: 0.1499 - val_loss: 4.7116 - val_accuracy: 0.1932\n",
            "Epoch 296/500\n",
            "104/104 [==============================] - 1s 5ms/step - loss: 6.4733 - accuracy: 0.1602 - val_loss: 4.7114 - val_accuracy: 0.1932\n",
            "Epoch 297/500\n",
            "104/104 [==============================] - 1s 5ms/step - loss: 6.4451 - accuracy: 0.1711 - val_loss: 4.7112 - val_accuracy: 0.1932\n",
            "Epoch 298/500\n",
            "104/104 [==============================] - 1s 5ms/step - loss: 6.3887 - accuracy: 0.1511 - val_loss: 4.7110 - val_accuracy: 0.1932\n",
            "Epoch 299/500\n",
            "104/104 [==============================] - 1s 5ms/step - loss: 6.4771 - accuracy: 0.1505 - val_loss: 4.7107 - val_accuracy: 0.1932\n",
            "Epoch 300/500\n",
            "104/104 [==============================] - 1s 5ms/step - loss: 6.5706 - accuracy: 0.1560 - val_loss: 4.7105 - val_accuracy: 0.1932\n",
            "Epoch 301/500\n",
            "104/104 [==============================] - 1s 5ms/step - loss: 6.4971 - accuracy: 0.1620 - val_loss: 4.7103 - val_accuracy: 0.1932\n",
            "Epoch 302/500\n",
            "104/104 [==============================] - 1s 5ms/step - loss: 6.6048 - accuracy: 0.1632 - val_loss: 4.7100 - val_accuracy: 0.1932\n",
            "Epoch 303/500\n",
            "104/104 [==============================] - 1s 5ms/step - loss: 6.3651 - accuracy: 0.1778 - val_loss: 4.7098 - val_accuracy: 0.1932\n",
            "Epoch 304/500\n",
            "104/104 [==============================] - 1s 5ms/step - loss: 6.4443 - accuracy: 0.1687 - val_loss: 4.7096 - val_accuracy: 0.1932\n",
            "Epoch 305/500\n",
            "104/104 [==============================] - 1s 5ms/step - loss: 6.5283 - accuracy: 0.1651 - val_loss: 4.7093 - val_accuracy: 0.1932\n",
            "Epoch 306/500\n",
            "104/104 [==============================] - 1s 5ms/step - loss: 6.3117 - accuracy: 0.1765 - val_loss: 4.7091 - val_accuracy: 0.1932\n",
            "Epoch 307/500\n",
            "104/104 [==============================] - 1s 6ms/step - loss: 6.3476 - accuracy: 0.1590 - val_loss: 4.7089 - val_accuracy: 0.1932\n",
            "Epoch 308/500\n",
            "104/104 [==============================] - 1s 5ms/step - loss: 6.5549 - accuracy: 0.1632 - val_loss: 4.7087 - val_accuracy: 0.1932\n",
            "Epoch 309/500\n",
            "104/104 [==============================] - 1s 6ms/step - loss: 6.3575 - accuracy: 0.1802 - val_loss: 4.7085 - val_accuracy: 0.1932\n",
            "Epoch 310/500\n",
            "104/104 [==============================] - 1s 5ms/step - loss: 6.5055 - accuracy: 0.1632 - val_loss: 4.7083 - val_accuracy: 0.1932\n",
            "Epoch 311/500\n",
            "104/104 [==============================] - 1s 5ms/step - loss: 6.5239 - accuracy: 0.1530 - val_loss: 4.7080 - val_accuracy: 0.1932\n",
            "Epoch 312/500\n",
            "104/104 [==============================] - 1s 5ms/step - loss: 6.3004 - accuracy: 0.1632 - val_loss: 4.7078 - val_accuracy: 0.1932\n",
            "Epoch 313/500\n",
            "104/104 [==============================] - 1s 5ms/step - loss: 6.6596 - accuracy: 0.1530 - val_loss: 4.7076 - val_accuracy: 0.1932\n",
            "Epoch 314/500\n",
            "104/104 [==============================] - 1s 5ms/step - loss: 6.3554 - accuracy: 0.1778 - val_loss: 4.7074 - val_accuracy: 0.1932\n",
            "Epoch 315/500\n",
            "104/104 [==============================] - 1s 5ms/step - loss: 6.5828 - accuracy: 0.1451 - val_loss: 4.7071 - val_accuracy: 0.1932\n",
            "Epoch 316/500\n",
            "104/104 [==============================] - 1s 5ms/step - loss: 6.4078 - accuracy: 0.1711 - val_loss: 4.7069 - val_accuracy: 0.1932\n",
            "Epoch 317/500\n",
            "104/104 [==============================] - 1s 5ms/step - loss: 6.1672 - accuracy: 0.1808 - val_loss: 4.7067 - val_accuracy: 0.1932\n",
            "Epoch 318/500\n",
            "104/104 [==============================] - 1s 5ms/step - loss: 6.4438 - accuracy: 0.1669 - val_loss: 4.7065 - val_accuracy: 0.1932\n",
            "Epoch 319/500\n",
            "104/104 [==============================] - 1s 5ms/step - loss: 6.6273 - accuracy: 0.1566 - val_loss: 4.7063 - val_accuracy: 0.1932\n",
            "Epoch 320/500\n",
            "104/104 [==============================] - 1s 6ms/step - loss: 6.5449 - accuracy: 0.1566 - val_loss: 4.7061 - val_accuracy: 0.1932\n",
            "Epoch 321/500\n",
            "104/104 [==============================] - 1s 5ms/step - loss: 6.2999 - accuracy: 0.1784 - val_loss: 4.7059 - val_accuracy: 0.1932\n",
            "Epoch 322/500\n",
            "104/104 [==============================] - 1s 5ms/step - loss: 6.3566 - accuracy: 0.1699 - val_loss: 4.7057 - val_accuracy: 0.1932\n",
            "Epoch 323/500\n",
            "104/104 [==============================] - 1s 5ms/step - loss: 6.4068 - accuracy: 0.1530 - val_loss: 4.7055 - val_accuracy: 0.1932\n",
            "Epoch 324/500\n",
            "104/104 [==============================] - 1s 5ms/step - loss: 6.3915 - accuracy: 0.1687 - val_loss: 4.7053 - val_accuracy: 0.1932\n",
            "Epoch 325/500\n",
            "104/104 [==============================] - 1s 5ms/step - loss: 6.6876 - accuracy: 0.1590 - val_loss: 4.7051 - val_accuracy: 0.1932\n",
            "Epoch 326/500\n",
            "104/104 [==============================] - 1s 6ms/step - loss: 6.5556 - accuracy: 0.1572 - val_loss: 4.7049 - val_accuracy: 0.1932\n",
            "Epoch 327/500\n",
            "104/104 [==============================] - 1s 5ms/step - loss: 6.7125 - accuracy: 0.1566 - val_loss: 4.7047 - val_accuracy: 0.1932\n",
            "Epoch 328/500\n",
            "104/104 [==============================] - 1s 5ms/step - loss: 6.3216 - accuracy: 0.1832 - val_loss: 4.7045 - val_accuracy: 0.1932\n",
            "Epoch 329/500\n",
            "104/104 [==============================] - 1s 6ms/step - loss: 6.2710 - accuracy: 0.1735 - val_loss: 4.7043 - val_accuracy: 0.1932\n",
            "Epoch 330/500\n",
            "104/104 [==============================] - 1s 5ms/step - loss: 6.6610 - accuracy: 0.1566 - val_loss: 4.7041 - val_accuracy: 0.1932\n",
            "Epoch 331/500\n",
            "104/104 [==============================] - 1s 5ms/step - loss: 6.3931 - accuracy: 0.1729 - val_loss: 4.7038 - val_accuracy: 0.1932\n",
            "Epoch 332/500\n",
            "104/104 [==============================] - 1s 5ms/step - loss: 6.5241 - accuracy: 0.1602 - val_loss: 4.7036 - val_accuracy: 0.1932\n",
            "Epoch 333/500\n",
            "104/104 [==============================] - 1s 5ms/step - loss: 6.5184 - accuracy: 0.1620 - val_loss: 4.7035 - val_accuracy: 0.1932\n",
            "Epoch 334/500\n",
            "104/104 [==============================] - 1s 5ms/step - loss: 6.3335 - accuracy: 0.1590 - val_loss: 4.7033 - val_accuracy: 0.1932\n",
            "Epoch 335/500\n",
            "104/104 [==============================] - 1s 5ms/step - loss: 6.5578 - accuracy: 0.1572 - val_loss: 4.7031 - val_accuracy: 0.1932\n",
            "Epoch 336/500\n",
            "104/104 [==============================] - 1s 5ms/step - loss: 6.5061 - accuracy: 0.1651 - val_loss: 4.7029 - val_accuracy: 0.1932\n",
            "Epoch 337/500\n",
            "104/104 [==============================] - 1s 6ms/step - loss: 6.4834 - accuracy: 0.1753 - val_loss: 4.7027 - val_accuracy: 0.1932\n",
            "Epoch 338/500\n",
            "104/104 [==============================] - 1s 5ms/step - loss: 6.7335 - accuracy: 0.1614 - val_loss: 4.7026 - val_accuracy: 0.1932\n",
            "Epoch 339/500\n",
            "104/104 [==============================] - 1s 5ms/step - loss: 6.6524 - accuracy: 0.1614 - val_loss: 4.7024 - val_accuracy: 0.1932\n",
            "Epoch 340/500\n",
            "104/104 [==============================] - 1s 5ms/step - loss: 6.4205 - accuracy: 0.1626 - val_loss: 4.7022 - val_accuracy: 0.1932\n",
            "Epoch 341/500\n",
            "104/104 [==============================] - 1s 5ms/step - loss: 6.4899 - accuracy: 0.1771 - val_loss: 4.7020 - val_accuracy: 0.1932\n",
            "Epoch 342/500\n",
            "104/104 [==============================] - 1s 6ms/step - loss: 6.6493 - accuracy: 0.1602 - val_loss: 4.7018 - val_accuracy: 0.1932\n",
            "Epoch 343/500\n",
            "104/104 [==============================] - 1s 5ms/step - loss: 6.4814 - accuracy: 0.1511 - val_loss: 4.7016 - val_accuracy: 0.1932\n",
            "Epoch 344/500\n",
            "104/104 [==============================] - 1s 5ms/step - loss: 6.5274 - accuracy: 0.1705 - val_loss: 4.7015 - val_accuracy: 0.1932\n",
            "Epoch 345/500\n",
            "104/104 [==============================] - 1s 5ms/step - loss: 6.4242 - accuracy: 0.1669 - val_loss: 4.7013 - val_accuracy: 0.1932\n",
            "Epoch 346/500\n",
            "104/104 [==============================] - 1s 5ms/step - loss: 6.4530 - accuracy: 0.1626 - val_loss: 4.7011 - val_accuracy: 0.1932\n",
            "Epoch 347/500\n",
            "104/104 [==============================] - 1s 5ms/step - loss: 6.5602 - accuracy: 0.1487 - val_loss: 4.7009 - val_accuracy: 0.1932\n",
            "Epoch 348/500\n",
            "104/104 [==============================] - 1s 5ms/step - loss: 6.2449 - accuracy: 0.1784 - val_loss: 4.7007 - val_accuracy: 0.1932\n",
            "Epoch 349/500\n",
            "104/104 [==============================] - 1s 5ms/step - loss: 6.7522 - accuracy: 0.1530 - val_loss: 4.7005 - val_accuracy: 0.1932\n",
            "Epoch 350/500\n",
            "104/104 [==============================] - 1s 5ms/step - loss: 6.3498 - accuracy: 0.1620 - val_loss: 4.7003 - val_accuracy: 0.1932\n",
            "Epoch 351/500\n",
            "104/104 [==============================] - 1s 5ms/step - loss: 6.5502 - accuracy: 0.1590 - val_loss: 4.7001 - val_accuracy: 0.1932\n",
            "Epoch 352/500\n",
            "104/104 [==============================] - 1s 5ms/step - loss: 6.4697 - accuracy: 0.1729 - val_loss: 4.7000 - val_accuracy: 0.1932\n",
            "Epoch 353/500\n",
            "104/104 [==============================] - 1s 5ms/step - loss: 6.3255 - accuracy: 0.1681 - val_loss: 4.6998 - val_accuracy: 0.1932\n",
            "Epoch 354/500\n",
            "104/104 [==============================] - 1s 5ms/step - loss: 6.5037 - accuracy: 0.1729 - val_loss: 4.6996 - val_accuracy: 0.1932\n",
            "Epoch 355/500\n",
            "104/104 [==============================] - 1s 5ms/step - loss: 6.3676 - accuracy: 0.1874 - val_loss: 4.6994 - val_accuracy: 0.1932\n",
            "Epoch 356/500\n",
            "104/104 [==============================] - 1s 5ms/step - loss: 6.5046 - accuracy: 0.1596 - val_loss: 4.6992 - val_accuracy: 0.1932\n",
            "Epoch 357/500\n",
            "104/104 [==============================] - 1s 5ms/step - loss: 6.3969 - accuracy: 0.1771 - val_loss: 4.6991 - val_accuracy: 0.1932\n",
            "Epoch 358/500\n",
            "104/104 [==============================] - 1s 5ms/step - loss: 6.5586 - accuracy: 0.1608 - val_loss: 4.6989 - val_accuracy: 0.1932\n",
            "Epoch 359/500\n",
            "104/104 [==============================] - 1s 6ms/step - loss: 6.6046 - accuracy: 0.1530 - val_loss: 4.6987 - val_accuracy: 0.1932\n",
            "Epoch 360/500\n",
            "104/104 [==============================] - 1s 5ms/step - loss: 6.5337 - accuracy: 0.1644 - val_loss: 4.6985 - val_accuracy: 0.1932\n",
            "Epoch 361/500\n",
            "104/104 [==============================] - 1s 5ms/step - loss: 6.5511 - accuracy: 0.1717 - val_loss: 4.6984 - val_accuracy: 0.1932\n",
            "Epoch 362/500\n",
            "104/104 [==============================] - 1s 5ms/step - loss: 6.6142 - accuracy: 0.1675 - val_loss: 4.6982 - val_accuracy: 0.1932\n",
            "Epoch 363/500\n",
            "104/104 [==============================] - 1s 5ms/step - loss: 6.3557 - accuracy: 0.1699 - val_loss: 4.6981 - val_accuracy: 0.1932\n",
            "Epoch 364/500\n",
            "104/104 [==============================] - 1s 5ms/step - loss: 6.4562 - accuracy: 0.1663 - val_loss: 4.6979 - val_accuracy: 0.1932\n",
            "Epoch 365/500\n",
            "104/104 [==============================] - 1s 5ms/step - loss: 6.4679 - accuracy: 0.1657 - val_loss: 4.6977 - val_accuracy: 0.1932\n",
            "Epoch 366/500\n",
            "104/104 [==============================] - 1s 5ms/step - loss: 6.5315 - accuracy: 0.1518 - val_loss: 4.6976 - val_accuracy: 0.1932\n",
            "Epoch 367/500\n",
            "104/104 [==============================] - 1s 5ms/step - loss: 6.3990 - accuracy: 0.1814 - val_loss: 4.6974 - val_accuracy: 0.1932\n",
            "Epoch 368/500\n",
            "104/104 [==============================] - 1s 5ms/step - loss: 6.7188 - accuracy: 0.1638 - val_loss: 4.6973 - val_accuracy: 0.1932\n",
            "Epoch 369/500\n",
            "104/104 [==============================] - 1s 5ms/step - loss: 6.4708 - accuracy: 0.1548 - val_loss: 4.6971 - val_accuracy: 0.1932\n",
            "Epoch 370/500\n",
            "104/104 [==============================] - 1s 5ms/step - loss: 6.3436 - accuracy: 0.1644 - val_loss: 4.6970 - val_accuracy: 0.1932\n",
            "Epoch 371/500\n",
            "104/104 [==============================] - 1s 5ms/step - loss: 6.4341 - accuracy: 0.1584 - val_loss: 4.6968 - val_accuracy: 0.1932\n",
            "Epoch 372/500\n",
            "104/104 [==============================] - 1s 6ms/step - loss: 6.4596 - accuracy: 0.1687 - val_loss: 4.6967 - val_accuracy: 0.1932\n",
            "Epoch 373/500\n",
            "104/104 [==============================] - 1s 5ms/step - loss: 6.5301 - accuracy: 0.1554 - val_loss: 4.6965 - val_accuracy: 0.1932\n",
            "Epoch 374/500\n",
            "104/104 [==============================] - 1s 9ms/step - loss: 6.4607 - accuracy: 0.1548 - val_loss: 4.6964 - val_accuracy: 0.1932\n",
            "Epoch 375/500\n",
            "104/104 [==============================] - 1s 8ms/step - loss: 6.5544 - accuracy: 0.1657 - val_loss: 4.6962 - val_accuracy: 0.1932\n",
            "Epoch 376/500\n",
            "104/104 [==============================] - 1s 5ms/step - loss: 6.1574 - accuracy: 0.1657 - val_loss: 4.6960 - val_accuracy: 0.1932\n",
            "Epoch 377/500\n",
            "104/104 [==============================] - 1s 6ms/step - loss: 6.5262 - accuracy: 0.1493 - val_loss: 4.6959 - val_accuracy: 0.1932\n",
            "Epoch 378/500\n",
            "104/104 [==============================] - 1s 5ms/step - loss: 6.3917 - accuracy: 0.1753 - val_loss: 4.6957 - val_accuracy: 0.1932\n",
            "Epoch 379/500\n",
            "104/104 [==============================] - 1s 5ms/step - loss: 6.3634 - accuracy: 0.1753 - val_loss: 4.6956 - val_accuracy: 0.1932\n",
            "Epoch 380/500\n",
            "104/104 [==============================] - 1s 5ms/step - loss: 6.4696 - accuracy: 0.1651 - val_loss: 4.6954 - val_accuracy: 0.1932\n",
            "Epoch 381/500\n",
            "104/104 [==============================] - 1s 5ms/step - loss: 6.3154 - accuracy: 0.1741 - val_loss: 4.6953 - val_accuracy: 0.1932\n",
            "Epoch 382/500\n",
            "104/104 [==============================] - 1s 5ms/step - loss: 6.6206 - accuracy: 0.1481 - val_loss: 4.6951 - val_accuracy: 0.1932\n",
            "Epoch 383/500\n",
            "104/104 [==============================] - 1s 5ms/step - loss: 6.3660 - accuracy: 0.1614 - val_loss: 4.6950 - val_accuracy: 0.1932\n",
            "Epoch 384/500\n",
            "104/104 [==============================] - 1s 5ms/step - loss: 6.4169 - accuracy: 0.1475 - val_loss: 4.6948 - val_accuracy: 0.1932\n",
            "Epoch 385/500\n",
            "104/104 [==============================] - 1s 5ms/step - loss: 6.3673 - accuracy: 0.1596 - val_loss: 4.6947 - val_accuracy: 0.1932\n",
            "Epoch 386/500\n",
            "104/104 [==============================] - 1s 5ms/step - loss: 6.5223 - accuracy: 0.1681 - val_loss: 4.6945 - val_accuracy: 0.1932\n",
            "Epoch 387/500\n",
            "104/104 [==============================] - 1s 5ms/step - loss: 6.6775 - accuracy: 0.1463 - val_loss: 4.6944 - val_accuracy: 0.1932\n",
            "Epoch 388/500\n",
            "104/104 [==============================] - 1s 5ms/step - loss: 6.5118 - accuracy: 0.1548 - val_loss: 4.6943 - val_accuracy: 0.1932\n",
            "Epoch 389/500\n",
            "104/104 [==============================] - 1s 5ms/step - loss: 6.6306 - accuracy: 0.1584 - val_loss: 4.6941 - val_accuracy: 0.1932\n",
            "Epoch 390/500\n",
            "104/104 [==============================] - 1s 5ms/step - loss: 6.5731 - accuracy: 0.1548 - val_loss: 4.6940 - val_accuracy: 0.1932\n",
            "Epoch 391/500\n",
            "104/104 [==============================] - 1s 5ms/step - loss: 6.4846 - accuracy: 0.1457 - val_loss: 4.6938 - val_accuracy: 0.1932\n",
            "Epoch 392/500\n",
            "104/104 [==============================] - 1s 5ms/step - loss: 6.5121 - accuracy: 0.1608 - val_loss: 4.6937 - val_accuracy: 0.1932\n",
            "Epoch 393/500\n",
            "104/104 [==============================] - 1s 5ms/step - loss: 6.4780 - accuracy: 0.1554 - val_loss: 4.6936 - val_accuracy: 0.1932\n",
            "Epoch 394/500\n",
            "104/104 [==============================] - 1s 6ms/step - loss: 6.6132 - accuracy: 0.1651 - val_loss: 4.6934 - val_accuracy: 0.1932\n",
            "Epoch 395/500\n",
            "104/104 [==============================] - 1s 5ms/step - loss: 6.3741 - accuracy: 0.1602 - val_loss: 4.6933 - val_accuracy: 0.1932\n",
            "Epoch 396/500\n",
            "104/104 [==============================] - 1s 5ms/step - loss: 6.3714 - accuracy: 0.1820 - val_loss: 4.6932 - val_accuracy: 0.1932\n",
            "Epoch 397/500\n",
            "104/104 [==============================] - 1s 6ms/step - loss: 6.3579 - accuracy: 0.1620 - val_loss: 4.6930 - val_accuracy: 0.1932\n",
            "Epoch 398/500\n",
            "104/104 [==============================] - 1s 6ms/step - loss: 6.6875 - accuracy: 0.1548 - val_loss: 4.6929 - val_accuracy: 0.1932\n",
            "Epoch 399/500\n",
            "104/104 [==============================] - 1s 6ms/step - loss: 6.4688 - accuracy: 0.1554 - val_loss: 4.6927 - val_accuracy: 0.1932\n",
            "Epoch 400/500\n",
            "104/104 [==============================] - 1s 5ms/step - loss: 6.4379 - accuracy: 0.1469 - val_loss: 4.6926 - val_accuracy: 0.1932\n",
            "Epoch 401/500\n",
            "104/104 [==============================] - 1s 5ms/step - loss: 6.3298 - accuracy: 0.1644 - val_loss: 4.6925 - val_accuracy: 0.1932\n",
            "Epoch 402/500\n",
            "104/104 [==============================] - 1s 5ms/step - loss: 6.3389 - accuracy: 0.1832 - val_loss: 4.6924 - val_accuracy: 0.1932\n",
            "Epoch 403/500\n",
            "104/104 [==============================] - 1s 5ms/step - loss: 6.4411 - accuracy: 0.1675 - val_loss: 4.6922 - val_accuracy: 0.1932\n",
            "Epoch 404/500\n",
            "104/104 [==============================] - 1s 5ms/step - loss: 6.4334 - accuracy: 0.1578 - val_loss: 4.6921 - val_accuracy: 0.1932\n",
            "Epoch 405/500\n",
            "104/104 [==============================] - 1s 5ms/step - loss: 6.5623 - accuracy: 0.1614 - val_loss: 4.6920 - val_accuracy: 0.1932\n",
            "Epoch 406/500\n",
            "104/104 [==============================] - 1s 5ms/step - loss: 6.4291 - accuracy: 0.1602 - val_loss: 4.6918 - val_accuracy: 0.1932\n",
            "Epoch 407/500\n",
            "104/104 [==============================] - 1s 5ms/step - loss: 6.4686 - accuracy: 0.1632 - val_loss: 4.6917 - val_accuracy: 0.1932\n",
            "Epoch 408/500\n",
            "104/104 [==============================] - 1s 5ms/step - loss: 6.5393 - accuracy: 0.1741 - val_loss: 4.6916 - val_accuracy: 0.1932\n",
            "Epoch 409/500\n",
            "104/104 [==============================] - 1s 5ms/step - loss: 6.3316 - accuracy: 0.1651 - val_loss: 4.6914 - val_accuracy: 0.1932\n",
            "Epoch 410/500\n",
            "104/104 [==============================] - 1s 5ms/step - loss: 6.7545 - accuracy: 0.1518 - val_loss: 4.6913 - val_accuracy: 0.1932\n",
            "Epoch 411/500\n",
            "104/104 [==============================] - 1s 5ms/step - loss: 6.3640 - accuracy: 0.1759 - val_loss: 4.6912 - val_accuracy: 0.1932\n",
            "Epoch 412/500\n",
            "104/104 [==============================] - 1s 6ms/step - loss: 6.4278 - accuracy: 0.1578 - val_loss: 4.6911 - val_accuracy: 0.1932\n",
            "Epoch 413/500\n",
            "104/104 [==============================] - 1s 6ms/step - loss: 6.4621 - accuracy: 0.1590 - val_loss: 4.6909 - val_accuracy: 0.1932\n",
            "Epoch 414/500\n",
            "104/104 [==============================] - 1s 5ms/step - loss: 6.3231 - accuracy: 0.1681 - val_loss: 4.6908 - val_accuracy: 0.1932\n",
            "Epoch 415/500\n",
            "104/104 [==============================] - 1s 5ms/step - loss: 6.6267 - accuracy: 0.1578 - val_loss: 4.6907 - val_accuracy: 0.1932\n",
            "Epoch 416/500\n",
            "104/104 [==============================] - 1s 5ms/step - loss: 6.3281 - accuracy: 0.1711 - val_loss: 4.6905 - val_accuracy: 0.1932\n",
            "Epoch 417/500\n",
            "104/104 [==============================] - 1s 6ms/step - loss: 6.3965 - accuracy: 0.1699 - val_loss: 4.6904 - val_accuracy: 0.1932\n",
            "Epoch 418/500\n",
            "104/104 [==============================] - 1s 5ms/step - loss: 6.4679 - accuracy: 0.1614 - val_loss: 4.6903 - val_accuracy: 0.1932\n",
            "Epoch 419/500\n",
            "104/104 [==============================] - 1s 5ms/step - loss: 6.5146 - accuracy: 0.1554 - val_loss: 4.6902 - val_accuracy: 0.1932\n",
            "Epoch 420/500\n",
            "104/104 [==============================] - 1s 6ms/step - loss: 6.5525 - accuracy: 0.1596 - val_loss: 4.6900 - val_accuracy: 0.1932\n",
            "Epoch 421/500\n",
            "104/104 [==============================] - 1s 6ms/step - loss: 6.2277 - accuracy: 0.1729 - val_loss: 4.6899 - val_accuracy: 0.1932\n",
            "Epoch 422/500\n",
            "104/104 [==============================] - 1s 5ms/step - loss: 6.4856 - accuracy: 0.1681 - val_loss: 4.6898 - val_accuracy: 0.1932\n",
            "Epoch 423/500\n",
            "104/104 [==============================] - 1s 5ms/step - loss: 6.3709 - accuracy: 0.1675 - val_loss: 4.6896 - val_accuracy: 0.1932\n",
            "Epoch 424/500\n",
            "104/104 [==============================] - 1s 5ms/step - loss: 6.4132 - accuracy: 0.1687 - val_loss: 4.6895 - val_accuracy: 0.1932\n",
            "Epoch 425/500\n",
            "104/104 [==============================] - 1s 6ms/step - loss: 6.4727 - accuracy: 0.1687 - val_loss: 4.6894 - val_accuracy: 0.1932\n",
            "Epoch 426/500\n",
            "104/104 [==============================] - 1s 5ms/step - loss: 6.3391 - accuracy: 0.1651 - val_loss: 4.6893 - val_accuracy: 0.1932\n",
            "Epoch 427/500\n",
            "104/104 [==============================] - 1s 6ms/step - loss: 6.5082 - accuracy: 0.1711 - val_loss: 4.6892 - val_accuracy: 0.1932\n",
            "Epoch 428/500\n",
            "104/104 [==============================] - 1s 6ms/step - loss: 6.4412 - accuracy: 0.1808 - val_loss: 4.6891 - val_accuracy: 0.1932\n",
            "Epoch 429/500\n",
            "104/104 [==============================] - 1s 5ms/step - loss: 6.2929 - accuracy: 0.1693 - val_loss: 4.6890 - val_accuracy: 0.1932\n",
            "Epoch 430/500\n",
            "104/104 [==============================] - 1s 5ms/step - loss: 6.4089 - accuracy: 0.1596 - val_loss: 4.6889 - val_accuracy: 0.1932\n",
            "Epoch 431/500\n",
            "104/104 [==============================] - 1s 5ms/step - loss: 6.4767 - accuracy: 0.1735 - val_loss: 4.6887 - val_accuracy: 0.1932\n",
            "Epoch 432/500\n",
            "104/104 [==============================] - 1s 5ms/step - loss: 6.4249 - accuracy: 0.1675 - val_loss: 4.6886 - val_accuracy: 0.1932\n",
            "Epoch 433/500\n",
            "104/104 [==============================] - 1s 5ms/step - loss: 6.6364 - accuracy: 0.1626 - val_loss: 4.6885 - val_accuracy: 0.1932\n",
            "Epoch 434/500\n",
            "104/104 [==============================] - 1s 6ms/step - loss: 6.4073 - accuracy: 0.1711 - val_loss: 4.6884 - val_accuracy: 0.1932\n",
            "Epoch 435/500\n",
            "104/104 [==============================] - 1s 6ms/step - loss: 6.3687 - accuracy: 0.1808 - val_loss: 4.6883 - val_accuracy: 0.1932\n",
            "Epoch 436/500\n",
            "104/104 [==============================] - 1s 6ms/step - loss: 6.2722 - accuracy: 0.1705 - val_loss: 4.6881 - val_accuracy: 0.1932\n",
            "Epoch 437/500\n",
            "104/104 [==============================] - 1s 5ms/step - loss: 6.5182 - accuracy: 0.1796 - val_loss: 4.6880 - val_accuracy: 0.1932\n",
            "Epoch 438/500\n",
            "104/104 [==============================] - 1s 5ms/step - loss: 6.5272 - accuracy: 0.1542 - val_loss: 4.6879 - val_accuracy: 0.1932\n",
            "Epoch 439/500\n",
            "104/104 [==============================] - 1s 6ms/step - loss: 6.3012 - accuracy: 0.1784 - val_loss: 4.6878 - val_accuracy: 0.1932\n",
            "Epoch 440/500\n",
            "104/104 [==============================] - 1s 5ms/step - loss: 6.5044 - accuracy: 0.1602 - val_loss: 4.6877 - val_accuracy: 0.1932\n",
            "Epoch 441/500\n",
            "104/104 [==============================] - 1s 5ms/step - loss: 6.5628 - accuracy: 0.1681 - val_loss: 4.6876 - val_accuracy: 0.1932\n",
            "Epoch 442/500\n",
            "104/104 [==============================] - 1s 5ms/step - loss: 6.6226 - accuracy: 0.1596 - val_loss: 4.6874 - val_accuracy: 0.1932\n",
            "Epoch 443/500\n",
            "104/104 [==============================] - 1s 5ms/step - loss: 6.5317 - accuracy: 0.1530 - val_loss: 4.6873 - val_accuracy: 0.1932\n",
            "Epoch 444/500\n",
            "104/104 [==============================] - 1s 5ms/step - loss: 6.4829 - accuracy: 0.1644 - val_loss: 4.6872 - val_accuracy: 0.1932\n",
            "Epoch 445/500\n",
            "104/104 [==============================] - 1s 6ms/step - loss: 6.3955 - accuracy: 0.1687 - val_loss: 4.6871 - val_accuracy: 0.1932\n",
            "Epoch 446/500\n",
            "104/104 [==============================] - 1s 5ms/step - loss: 6.5701 - accuracy: 0.1409 - val_loss: 4.6870 - val_accuracy: 0.1932\n",
            "Epoch 447/500\n",
            "104/104 [==============================] - 1s 6ms/step - loss: 6.5641 - accuracy: 0.1566 - val_loss: 4.6869 - val_accuracy: 0.1932\n",
            "Epoch 448/500\n",
            "104/104 [==============================] - 1s 6ms/step - loss: 6.3924 - accuracy: 0.1784 - val_loss: 4.6868 - val_accuracy: 0.1932\n",
            "Epoch 449/500\n",
            "104/104 [==============================] - 1s 6ms/step - loss: 6.0676 - accuracy: 0.1850 - val_loss: 4.6867 - val_accuracy: 0.1932\n",
            "Epoch 450/500\n",
            "104/104 [==============================] - 1s 6ms/step - loss: 6.5678 - accuracy: 0.1578 - val_loss: 4.6866 - val_accuracy: 0.1932\n",
            "Epoch 451/500\n",
            "104/104 [==============================] - 1s 5ms/step - loss: 6.4131 - accuracy: 0.1608 - val_loss: 4.6865 - val_accuracy: 0.1932\n",
            "Epoch 452/500\n",
            "104/104 [==============================] - 1s 6ms/step - loss: 6.5255 - accuracy: 0.1675 - val_loss: 4.6863 - val_accuracy: 0.1932\n",
            "Epoch 453/500\n",
            "104/104 [==============================] - 1s 5ms/step - loss: 6.4528 - accuracy: 0.1729 - val_loss: 4.6862 - val_accuracy: 0.1932\n",
            "Epoch 454/500\n",
            "104/104 [==============================] - 1s 5ms/step - loss: 6.4141 - accuracy: 0.1735 - val_loss: 4.6861 - val_accuracy: 0.1932\n",
            "Epoch 455/500\n",
            "104/104 [==============================] - 1s 6ms/step - loss: 6.5336 - accuracy: 0.1638 - val_loss: 4.6860 - val_accuracy: 0.1932\n",
            "Epoch 456/500\n",
            "104/104 [==============================] - 1s 5ms/step - loss: 6.3706 - accuracy: 0.1632 - val_loss: 4.6859 - val_accuracy: 0.1932\n",
            "Epoch 457/500\n",
            "104/104 [==============================] - 1s 5ms/step - loss: 6.5950 - accuracy: 0.1542 - val_loss: 4.6858 - val_accuracy: 0.1932\n",
            "Epoch 458/500\n",
            "104/104 [==============================] - 1s 5ms/step - loss: 6.4104 - accuracy: 0.1681 - val_loss: 4.6857 - val_accuracy: 0.1932\n",
            "Epoch 459/500\n",
            "104/104 [==============================] - 1s 5ms/step - loss: 6.5271 - accuracy: 0.1524 - val_loss: 4.6856 - val_accuracy: 0.1932\n",
            "Epoch 460/500\n",
            "104/104 [==============================] - 1s 6ms/step - loss: 6.3724 - accuracy: 0.1747 - val_loss: 4.6855 - val_accuracy: 0.1932\n",
            "Epoch 461/500\n",
            "104/104 [==============================] - 1s 5ms/step - loss: 6.4037 - accuracy: 0.1735 - val_loss: 4.6854 - val_accuracy: 0.1932\n",
            "Epoch 462/500\n",
            "104/104 [==============================] - 1s 6ms/step - loss: 6.4784 - accuracy: 0.1651 - val_loss: 4.6853 - val_accuracy: 0.1932\n",
            "Epoch 463/500\n",
            "104/104 [==============================] - 1s 5ms/step - loss: 6.3506 - accuracy: 0.1445 - val_loss: 4.6852 - val_accuracy: 0.1932\n",
            "Epoch 464/500\n",
            "104/104 [==============================] - 1s 6ms/step - loss: 6.3146 - accuracy: 0.1717 - val_loss: 4.6851 - val_accuracy: 0.1932\n",
            "Epoch 465/500\n",
            "104/104 [==============================] - 1s 6ms/step - loss: 6.4754 - accuracy: 0.1735 - val_loss: 4.6850 - val_accuracy: 0.1932\n",
            "Epoch 466/500\n",
            "104/104 [==============================] - 1s 5ms/step - loss: 6.5579 - accuracy: 0.1644 - val_loss: 4.6849 - val_accuracy: 0.1932\n",
            "Epoch 467/500\n",
            "104/104 [==============================] - 1s 5ms/step - loss: 6.3926 - accuracy: 0.1711 - val_loss: 4.6848 - val_accuracy: 0.1932\n",
            "Epoch 468/500\n",
            "104/104 [==============================] - 1s 6ms/step - loss: 6.5358 - accuracy: 0.1620 - val_loss: 4.6847 - val_accuracy: 0.1932\n",
            "Epoch 469/500\n",
            "104/104 [==============================] - 1s 5ms/step - loss: 6.4951 - accuracy: 0.1620 - val_loss: 4.6846 - val_accuracy: 0.1932\n",
            "Epoch 470/500\n",
            "104/104 [==============================] - 1s 5ms/step - loss: 6.3882 - accuracy: 0.1620 - val_loss: 4.6845 - val_accuracy: 0.1932\n",
            "Epoch 471/500\n",
            "104/104 [==============================] - 1s 5ms/step - loss: 6.1816 - accuracy: 0.1657 - val_loss: 4.6844 - val_accuracy: 0.1932\n",
            "Epoch 472/500\n",
            "104/104 [==============================] - 1s 5ms/step - loss: 6.3523 - accuracy: 0.1693 - val_loss: 4.6844 - val_accuracy: 0.1932\n",
            "Epoch 473/500\n",
            "104/104 [==============================] - 1s 5ms/step - loss: 6.5460 - accuracy: 0.1542 - val_loss: 4.6843 - val_accuracy: 0.1932\n",
            "Epoch 474/500\n",
            "104/104 [==============================] - 1s 5ms/step - loss: 6.4440 - accuracy: 0.1596 - val_loss: 4.6842 - val_accuracy: 0.1932\n",
            "Epoch 475/500\n",
            "104/104 [==============================] - 1s 5ms/step - loss: 6.5113 - accuracy: 0.1530 - val_loss: 4.6841 - val_accuracy: 0.1932\n",
            "Epoch 476/500\n",
            "104/104 [==============================] - 1s 5ms/step - loss: 6.3158 - accuracy: 0.1741 - val_loss: 4.6840 - val_accuracy: 0.1932\n",
            "Epoch 477/500\n",
            "104/104 [==============================] - 1s 6ms/step - loss: 6.4063 - accuracy: 0.1675 - val_loss: 4.6839 - val_accuracy: 0.1932\n",
            "Epoch 478/500\n",
            "104/104 [==============================] - 1s 6ms/step - loss: 6.2929 - accuracy: 0.1675 - val_loss: 4.6838 - val_accuracy: 0.1932\n",
            "Epoch 479/500\n",
            "104/104 [==============================] - 1s 5ms/step - loss: 6.5061 - accuracy: 0.1554 - val_loss: 4.6837 - val_accuracy: 0.1932\n",
            "Epoch 480/500\n",
            "104/104 [==============================] - 1s 5ms/step - loss: 6.6953 - accuracy: 0.1499 - val_loss: 4.6836 - val_accuracy: 0.1932\n",
            "Epoch 481/500\n",
            "104/104 [==============================] - 1s 5ms/step - loss: 6.4793 - accuracy: 0.1741 - val_loss: 4.6835 - val_accuracy: 0.1932\n",
            "Epoch 482/500\n",
            "104/104 [==============================] - 1s 6ms/step - loss: 6.4819 - accuracy: 0.1566 - val_loss: 4.6834 - val_accuracy: 0.1932\n",
            "Epoch 483/500\n",
            "104/104 [==============================] - 1s 6ms/step - loss: 6.3771 - accuracy: 0.1626 - val_loss: 4.6833 - val_accuracy: 0.1932\n",
            "Epoch 484/500\n",
            "104/104 [==============================] - 1s 6ms/step - loss: 6.2847 - accuracy: 0.1802 - val_loss: 4.6833 - val_accuracy: 0.1932\n",
            "Epoch 485/500\n",
            "104/104 [==============================] - 1s 6ms/step - loss: 6.3510 - accuracy: 0.1638 - val_loss: 4.6832 - val_accuracy: 0.1932\n",
            "Epoch 486/500\n",
            "104/104 [==============================] - 1s 5ms/step - loss: 6.6345 - accuracy: 0.1578 - val_loss: 4.6831 - val_accuracy: 0.1932\n",
            "Epoch 487/500\n",
            "104/104 [==============================] - 1s 6ms/step - loss: 6.5602 - accuracy: 0.1560 - val_loss: 4.6830 - val_accuracy: 0.1932\n",
            "Epoch 488/500\n",
            "104/104 [==============================] - 1s 5ms/step - loss: 6.5824 - accuracy: 0.1572 - val_loss: 4.6829 - val_accuracy: 0.1932\n",
            "Epoch 489/500\n",
            "104/104 [==============================] - 1s 6ms/step - loss: 6.5459 - accuracy: 0.1796 - val_loss: 4.6828 - val_accuracy: 0.1932\n",
            "Epoch 490/500\n",
            "104/104 [==============================] - 1s 5ms/step - loss: 6.5807 - accuracy: 0.1578 - val_loss: 4.6827 - val_accuracy: 0.1932\n",
            "Epoch 491/500\n",
            "104/104 [==============================] - 1s 5ms/step - loss: 6.3628 - accuracy: 0.1699 - val_loss: 4.6826 - val_accuracy: 0.1932\n",
            "Epoch 492/500\n",
            "104/104 [==============================] - 1s 5ms/step - loss: 6.4225 - accuracy: 0.1608 - val_loss: 4.6825 - val_accuracy: 0.1932\n",
            "Epoch 493/500\n",
            "104/104 [==============================] - 1s 5ms/step - loss: 6.4935 - accuracy: 0.1675 - val_loss: 4.6825 - val_accuracy: 0.1932\n",
            "Epoch 494/500\n",
            "104/104 [==============================] - 1s 5ms/step - loss: 6.5358 - accuracy: 0.1657 - val_loss: 4.6824 - val_accuracy: 0.1932\n",
            "Epoch 495/500\n",
            "104/104 [==============================] - 1s 6ms/step - loss: 6.4130 - accuracy: 0.1614 - val_loss: 4.6823 - val_accuracy: 0.1932\n",
            "Epoch 496/500\n",
            "104/104 [==============================] - 1s 5ms/step - loss: 6.5019 - accuracy: 0.1663 - val_loss: 4.6822 - val_accuracy: 0.1932\n",
            "Epoch 497/500\n",
            "104/104 [==============================] - 1s 5ms/step - loss: 6.4003 - accuracy: 0.1651 - val_loss: 4.6822 - val_accuracy: 0.1932\n",
            "Epoch 498/500\n",
            "104/104 [==============================] - 1s 5ms/step - loss: 6.3110 - accuracy: 0.1693 - val_loss: 4.6821 - val_accuracy: 0.1932\n",
            "Epoch 499/500\n",
            "104/104 [==============================] - 1s 6ms/step - loss: 6.3000 - accuracy: 0.1511 - val_loss: 4.6820 - val_accuracy: 0.1932\n",
            "Epoch 500/500\n",
            "104/104 [==============================] - 1s 6ms/step - loss: 6.4878 - accuracy: 0.1566 - val_loss: 4.6819 - val_accuracy: 0.1932\n"
          ]
        }
      ]
    },
    {
      "cell_type": "code",
      "source": [
        "plt.plot(cnnhistory.history['loss'])\n",
        "plt.plot(cnnhistory.history['val_loss'])\n",
        "plt.title('model loss')\n",
        "plt.ylabel('loss')\n",
        "plt.xlabel('epoch')\n",
        "plt.legend(['train','test'], loc='upper left')\n",
        "plt.show()"
      ],
      "metadata": {
        "colab": {
          "base_uri": "https://localhost:8080/",
          "height": 295
        },
        "id": "oQYnuaCrDH_A",
        "outputId": "d663b817-a114-447e-9bb7-5c92ea1e4b9b"
      },
      "execution_count": 16,
      "outputs": [
        {
          "output_type": "display_data",
          "data": {
            "text/plain": [
              "<Figure size 432x288 with 1 Axes>"
            ],
            "image/png": "[encoded data removed]"
          },
          "metadata": {
            "needs_background": "light"
          }
        }
      ]
    },
    {
      "cell_type": "code",
      "source": [
        "plt.plot(cnnhistory.history['accuracy'])\n",
        "plt.plot(cnnhistory.history['val_accuracy'])\n",
        "plt.title('model accuracy')\n",
        "plt.ylabel('accuracy')\n",
        "plt.xlabel('epoch')\n",
        "plt.legend(['train','test'], loc='upper left')\n",
        "plt.show()"
      ],
      "metadata": {
        "colab": {
          "base_uri": "https://localhost:8080/",
          "height": 295
        },
        "id": "IFkTuO8nDNdq",
        "outputId": "b256663d-65d6-43cb-f45b-bcd7c79c538f"
      },
      "execution_count": 17,
      "outputs": [
        {
          "output_type": "display_data",
          "data": {
            "text/plain": [
              "<Figure size 432x288 with 1 Axes>"
            ],
            "image/png": "[encoded data removed]"
          },
          "metadata": {
            "needs_background": "light"
          }
        }
      ]
    },
    {
      "cell_type": "code",
      "source": [
        "predictions = model.predict(x_testcnn)"
      ],
      "metadata": {
        "id": "A2xtrN5wDQgY"
      },
      "execution_count": 18,
      "outputs": []
    },
    {
      "cell_type": "code",
      "source": [
        "predictions"
      ],
      "metadata": {
        "colab": {
          "base_uri": "https://localhost:8080/"
        },
        "id": "_f_ohjXKDUpY",
        "outputId": "95de4d6a-1247-4cec-a7ea-dcddecf1df3e"
      },
      "execution_count": 19,
      "outputs": [
        {
          "output_type": "execute_result",
          "data": {
            "text/plain": [
              "array([[1.2014869e-02, 1.6454328e-02, 1.6506863e-03, 9.6930581e-01,\n",
              "        4.5202690e-04, 1.2240394e-04],\n",
              "       [2.6445931e-02, 2.1079795e-02, 2.3188686e-03, 9.4897693e-01,\n",
              "        8.7038637e-04, 3.0801730e-04],\n",
              "       [4.8295138e-03, 8.2597323e-03, 9.0688502e-04, 9.8587590e-01,\n",
              "        9.8222888e-05, 2.9809607e-05],\n",
              "       ...,\n",
              "       [2.0422366e-02, 9.0767831e-02, 3.0397126e-02, 8.5138202e-01,\n",
              "        2.5687804e-03, 4.4619245e-03],\n",
              "       [1.1938265e-02, 7.5100996e-02, 2.0315852e-02, 8.8709021e-01,\n",
              "        1.9874955e-03, 3.5671692e-03],\n",
              "       [3.5519615e-02, 7.9722039e-02, 1.7901238e-02, 8.6083072e-01,\n",
              "        3.4250282e-03, 2.6012268e-03]], dtype=float32)"
            ]
          },
          "metadata": {},
          "execution_count": 19
        }
      ]
    },
    {
      "cell_type": "code",
      "source": [
        "y_test"
      ],
      "metadata": {
        "colab": {
          "base_uri": "https://localhost:8080/"
        },
        "id": "cmA2bFgsDW3D",
        "outputId": "31fcdb77-0304-48d2-9f8b-6594561c03fc"
      },
      "execution_count": 20,
      "outputs": [
        {
          "output_type": "execute_result",
          "data": {
            "text/plain": [
              "array([3, 3, 3, 0, 4, 4, 1, 2, 5, 0, 5, 3, 2, 2, 1, 4, 4, 5, 2, 4, 1, 2,\n",
              "       3, 5, 4, 2, 1, 2, 2, 2, 2, 5, 2, 5, 3, 1, 2, 0, 4, 5, 2, 3, 2, 2,\n",
              "       5, 2, 0, 1, 3, 4, 4, 5, 1, 1, 4, 4, 5, 1, 1, 1, 0, 1, 5, 0, 4, 1,\n",
              "       1, 0, 1, 4, 1, 0, 4, 1, 3, 1, 2, 2, 1, 2, 3, 0, 5, 3, 5, 5, 2, 4,\n",
              "       5, 1, 5, 1, 5, 3, 4, 1, 4, 1, 5, 4, 5, 1, 2, 1, 1, 5, 1, 3, 2, 5,\n",
              "       2, 1, 3, 5, 4, 4, 0, 0, 3, 1, 2, 2, 3, 5, 1, 5, 3, 4, 2, 2, 0, 2,\n",
              "       2, 5, 5, 0, 3, 3, 2, 2, 0, 3, 4, 0, 4, 2, 4, 5, 4, 1, 5, 3, 2, 2,\n",
              "       5, 4, 3, 3, 4, 3, 3, 4, 1, 5, 2, 3, 2, 2, 0, 2, 1, 3, 1, 2, 2, 5,\n",
              "       5, 1, 4, 2, 2, 1, 1, 3, 3, 5, 5, 2, 5, 1, 5, 0, 3, 3, 0, 5, 1, 4,\n",
              "       1, 4, 2, 5, 5, 1, 4, 2, 4])"
            ]
          },
          "metadata": {},
          "execution_count": 20
        }
      ]
    },
    {
      "cell_type": "code",
      "source": [
        "new_Ytest = y_test.astype(int)"
      ],
      "metadata": {
        "id": "0PHDKWJWDY3g"
      },
      "execution_count": 21,
      "outputs": []
    },
    {
      "cell_type": "code",
      "source": [
        "new_Ytest"
      ],
      "metadata": {
        "colab": {
          "base_uri": "https://localhost:8080/"
        },
        "id": "k68v2i-pDbZE",
        "outputId": "b722d937-badd-4f70-ef7e-edd672d4c5f6"
      },
      "execution_count": 22,
      "outputs": [
        {
          "output_type": "execute_result",
          "data": {
            "text/plain": [
              "array([3, 3, 3, 0, 4, 4, 1, 2, 5, 0, 5, 3, 2, 2, 1, 4, 4, 5, 2, 4, 1, 2,\n",
              "       3, 5, 4, 2, 1, 2, 2, 2, 2, 5, 2, 5, 3, 1, 2, 0, 4, 5, 2, 3, 2, 2,\n",
              "       5, 2, 0, 1, 3, 4, 4, 5, 1, 1, 4, 4, 5, 1, 1, 1, 0, 1, 5, 0, 4, 1,\n",
              "       1, 0, 1, 4, 1, 0, 4, 1, 3, 1, 2, 2, 1, 2, 3, 0, 5, 3, 5, 5, 2, 4,\n",
              "       5, 1, 5, 1, 5, 3, 4, 1, 4, 1, 5, 4, 5, 1, 2, 1, 1, 5, 1, 3, 2, 5,\n",
              "       2, 1, 3, 5, 4, 4, 0, 0, 3, 1, 2, 2, 3, 5, 1, 5, 3, 4, 2, 2, 0, 2,\n",
              "       2, 5, 5, 0, 3, 3, 2, 2, 0, 3, 4, 0, 4, 2, 4, 5, 4, 1, 5, 3, 2, 2,\n",
              "       5, 4, 3, 3, 4, 3, 3, 4, 1, 5, 2, 3, 2, 2, 0, 2, 1, 3, 1, 2, 2, 5,\n",
              "       5, 1, 4, 2, 2, 1, 1, 3, 3, 5, 5, 2, 5, 1, 5, 0, 3, 3, 0, 5, 1, 4,\n",
              "       1, 4, 2, 5, 5, 1, 4, 2, 4])"
            ]
          },
          "metadata": {},
          "execution_count": 22
        }
      ]
    },
    {
      "cell_type": "code",
      "source": [
        "preds1=predictions.argmax(axis=1)\n",
        "preds1"
      ],
      "metadata": {
        "colab": {
          "base_uri": "https://localhost:8080/"
        },
        "id": "4_cAI39VFhtp",
        "outputId": "63eee8a7-f7a8-4972-c379-00e0a92fda48"
      },
      "execution_count": 23,
      "outputs": [
        {
          "output_type": "execute_result",
          "data": {
            "text/plain": [
              "array([3, 3, 3, 3, 3, 3, 3, 3, 3, 3, 3, 3, 3, 3, 3, 3, 3, 3, 3, 3, 3, 3,\n",
              "       3, 3, 3, 3, 3, 3, 3, 3, 3, 3, 3, 3, 3, 3, 3, 3, 3, 3, 3, 3, 3, 3,\n",
              "       3, 3, 3, 3, 3, 3, 3, 3, 3, 3, 3, 3, 3, 3, 3, 3, 3, 3, 3, 3, 3, 3,\n",
              "       3, 3, 3, 3, 3, 3, 3, 3, 3, 3, 3, 3, 3, 3, 3, 3, 3, 3, 3, 3, 3, 3,\n",
              "       3, 3, 3, 3, 3, 3, 3, 3, 3, 3, 3, 3, 3, 3, 3, 3, 3, 3, 3, 3, 3, 3,\n",
              "       3, 3, 3, 3, 3, 3, 3, 3, 3, 3, 3, 3, 3, 3, 3, 3, 3, 3, 3, 3, 3, 3,\n",
              "       3, 3, 3, 3, 3, 3, 3, 3, 3, 3, 3, 3, 3, 3, 3, 3, 3, 3, 3, 3, 3, 3,\n",
              "       3, 3, 3, 3, 3, 3, 3, 3, 3, 3, 3, 3, 3, 3, 3, 3, 3, 3, 3, 3, 3, 3,\n",
              "       3, 3, 3, 3, 3, 3, 3, 3, 3, 3, 3, 3, 3, 3, 3, 3, 3, 3, 3, 3, 3, 3,\n",
              "       3, 3, 3, 3, 3, 3, 3, 3, 3])"
            ]
          },
          "metadata": {},
          "execution_count": 23
        }
      ]
    },
    {
      "cell_type": "code",
      "source": [
        "abc = preds1.astype(int).flatten()"
      ],
      "metadata": {
        "id": "H4WEmM60NfQn"
      },
      "execution_count": 24,
      "outputs": []
    },
    {
      "cell_type": "code",
      "source": [
        "from sklearn.metrics import confusion_matrix\n",
        "c = confusion_matrix(new_Ytest, abc) \n",
        "c"
      ],
      "metadata": {
        "colab": {
          "base_uri": "https://localhost:8080/"
        },
        "id": "bKEBeEBlFjB8",
        "outputId": "b3e677f9-fb51-4aac-b7f0-5b94b7aad06a"
      },
      "execution_count": 25,
      "outputs": [
        {
          "output_type": "execute_result",
          "data": {
            "text/plain": [
              "array([[ 0,  0,  0, 18,  0,  0],\n",
              "       [ 0,  0,  0, 41,  0,  0],\n",
              "       [ 0,  0,  0, 45,  0,  0],\n",
              "       [ 0,  0,  0, 31,  0,  0],\n",
              "       [ 0,  0,  0, 33,  0,  0],\n",
              "       [ 0,  0,  0, 39,  0,  0]])"
            ]
          },
          "metadata": {},
          "execution_count": 25
        }
      ]
    },
    {
      "cell_type": "code",
      "source": [
        "y_test"
      ],
      "metadata": {
        "colab": {
          "base_uri": "https://localhost:8080/"
        },
        "id": "m4RjG7LWLSQx",
        "outputId": "deaa8682-403f-41d0-89ec-ca9f56ee7741"
      },
      "execution_count": 26,
      "outputs": [
        {
          "output_type": "execute_result",
          "data": {
            "text/plain": [
              "array([3, 3, 3, 0, 4, 4, 1, 2, 5, 0, 5, 3, 2, 2, 1, 4, 4, 5, 2, 4, 1, 2,\n",
              "       3, 5, 4, 2, 1, 2, 2, 2, 2, 5, 2, 5, 3, 1, 2, 0, 4, 5, 2, 3, 2, 2,\n",
              "       5, 2, 0, 1, 3, 4, 4, 5, 1, 1, 4, 4, 5, 1, 1, 1, 0, 1, 5, 0, 4, 1,\n",
              "       1, 0, 1, 4, 1, 0, 4, 1, 3, 1, 2, 2, 1, 2, 3, 0, 5, 3, 5, 5, 2, 4,\n",
              "       5, 1, 5, 1, 5, 3, 4, 1, 4, 1, 5, 4, 5, 1, 2, 1, 1, 5, 1, 3, 2, 5,\n",
              "       2, 1, 3, 5, 4, 4, 0, 0, 3, 1, 2, 2, 3, 5, 1, 5, 3, 4, 2, 2, 0, 2,\n",
              "       2, 5, 5, 0, 3, 3, 2, 2, 0, 3, 4, 0, 4, 2, 4, 5, 4, 1, 5, 3, 2, 2,\n",
              "       5, 4, 3, 3, 4, 3, 3, 4, 1, 5, 2, 3, 2, 2, 0, 2, 1, 3, 1, 2, 2, 5,\n",
              "       5, 1, 4, 2, 2, 1, 1, 3, 3, 5, 5, 2, 5, 1, 5, 0, 3, 3, 0, 5, 1, 4,\n",
              "       1, 4, 2, 5, 5, 1, 4, 2, 4])"
            ]
          },
          "metadata": {},
          "execution_count": 26
        }
      ]
    },
    {
      "cell_type": "code",
      "source": [
        "model.save('/content/drive/My Drive/graduation project/audio/paper_code/mariam/original_500 epoch_with_valid_Adam2_3')\n",
        "print(\"MODEL SAVED\")"
      ],
      "metadata": {
        "colab": {
          "base_uri": "https://localhost:8080/"
        },
        "id": "lsJBNeMWDl6Z",
        "outputId": "ed96267e-046d-45db-d259-833819b1e6f2"
      },
      "execution_count": null,
      "outputs": [
        {
          "output_type": "stream",
          "name": "stdout",
          "text": [
            "INFO:tensorflow:Assets written to: /content/drive/My Drive/graduation project/audio/paper_code/mariam/original_500 epoch_with_valid_Adam2_3/assets\n",
            "MODEL SAVED\n"
          ]
        }
      ]
    },
    {
      "cell_type": "code",
      "source": [
        "new_model=keras.models.load_model('/content/drive/My Drive/graduation project/audio/paper_code/mariam/original_500 epoch_with_valid_Adam2_3')\n",
        "new_model.summary()"
      ],
      "metadata": {
        "colab": {
          "base_uri": "https://localhost:8080/"
        },
        "id": "Q3KjaO9GDoNl",
        "outputId": "b509c41b-32e6-434b-f23d-4c04a29eb7c5"
      },
      "execution_count": null,
      "outputs": [
        {
          "output_type": "stream",
          "name": "stdout",
          "text": [
            "Model: \"sequential\"\n",
            "_________________________________________________________________\n",
            " Layer (type)                Output Shape              Param #   \n",
            "=================================================================\n",
            " conv1d (Conv1D)             (None, 40, 128)           1152      \n",
            "                                                                 \n",
            " activation (Activation)     (None, 40, 128)           0         \n",
            "                                                                 \n",
            " dropout (Dropout)           (None, 40, 128)           0         \n",
            "                                                                 \n",
            " max_pooling1d (MaxPooling1D  (None, 8, 128)           0         \n",
            " )                                                               \n",
            "                                                                 \n",
            " conv1d_1 (Conv1D)           (None, 8, 256)            262400    \n",
            "                                                                 \n",
            " activation_1 (Activation)   (None, 8, 256)            0         \n",
            "                                                                 \n",
            " dropout_1 (Dropout)         (None, 8, 256)            0         \n",
            "                                                                 \n",
            " max_pooling1d_1 (MaxPooling  (None, 1, 256)           0         \n",
            " 1D)                                                             \n",
            "                                                                 \n",
            " flatten (Flatten)           (None, 256)               0         \n",
            "                                                                 \n",
            " dense (Dense)               (None, 256)               65792     \n",
            "                                                                 \n",
            " activation_2 (Activation)   (None, 256)               0         \n",
            "                                                                 \n",
            " dense_1 (Dense)             (None, 256)               65792     \n",
            "                                                                 \n",
            " activation_3 (Activation)   (None, 256)               0         \n",
            "                                                                 \n",
            " dense_2 (Dense)             (None, 6)                 1542      \n",
            "                                                                 \n",
            " activation_4 (Activation)   (None, 6)                 0         \n",
            "                                                                 \n",
            "=================================================================\n",
            "Total params: 396,678\n",
            "Trainable params: 396,678\n",
            "Non-trainable params: 0\n",
            "_________________________________________________________________\n"
          ]
        }
      ]
    },
    {
      "cell_type": "code",
      "source": [
        "loss, acc =model.evaluate(x_testcnn, y_test)\n",
        "print(\"Restored model, accuracy: {:5.2f}%\".format(100*acc))"
      ],
      "metadata": {
        "colab": {
          "base_uri": "https://localhost:8080/"
        },
        "id": "n3kzoqPkDqqS",
        "outputId": "0b04f5c7-48f9-47a1-8d05-cece1b220c67"
      },
      "execution_count": 27,
      "outputs": [
        {
          "output_type": "stream",
          "name": "stdout",
          "text": [
            "7/7 [==============================] - 0s 3ms/step - loss: 4.7904 - accuracy: 0.1498\n",
            "Restored model, accuracy: 14.98%\n"
          ]
        }
      ]
    },
    {
      "cell_type": "code",
      "source": [
        "loss, acc =model.evaluate(X_train, y_train)\n",
        "print(\"Restored model train, accuracy: {:5.2f}%\".format(100*acc))"
      ],
      "metadata": {
        "id": "fJDTGH_OUX0z",
        "colab": {
          "base_uri": "https://localhost:8080/"
        },
        "outputId": "5f68324f-e173-41d1-eafe-f82a3a2d8757"
      },
      "execution_count": 28,
      "outputs": [
        {
          "output_type": "stream",
          "name": "stdout",
          "text": [
            "52/52 [==============================] - 0s 4ms/step - loss: 4.5903 - accuracy: 0.1844\n",
            "Restored model train, accuracy: 18.44%\n"
          ]
        }
      ]
    },
    {
      "cell_type": "code",
      "source": [
        "from sklearn.metrics import classification_report, confusion_matrix,accuracy_score\n",
        "import seaborn as sn\n",
        "\n",
        "print(classification_report(new_Ytest,abc))\n",
        "\n",
        "acc = float(accuracy_score(new_Ytest,abc))*100\n",
        "print(\"----accuracy score %s ----\" % acc)\n",
        "\n",
        "cm = confusion_matrix(new_Ytest,abc)\n",
        "#df_cm = pd.DataFrame(cm)\n",
        "class_names = ['neutral','calm', 'happy','sad','angry', 'fearful' ]\n",
        "df_cm = pd.DataFrame(cm, index=class_names, columns=class_names,)\n",
        "sn.heatmap(df_cm, annot=True, fmt='')\n",
        "plt.show()"
      ],
      "metadata": {
        "colab": {
          "base_uri": "https://localhost:8080/",
          "height": 720
        },
        "id": "SfSC3El94LZg",
        "outputId": "354c57c8-f741-4a21-85c3-66f10ceefbb3"
      },
      "execution_count": 29,
      "outputs": [
        {
          "output_type": "stream",
          "name": "stderr",
          "text": [
            "/usr/local/lib/python3.7/dist-packages/sklearn/metrics/_classification.py:1318: UndefinedMetricWarning:\n",
            "\n",
            "Precision and F-score are ill-defined and being set to 0.0 in labels with no predicted samples. Use `zero_division` parameter to control this behavior.\n",
            "\n",
            "/usr/local/lib/python3.7/dist-packages/sklearn/metrics/_classification.py:1318: UndefinedMetricWarning:\n",
            "\n",
            "Precision and F-score are ill-defined and being set to 0.0 in labels with no predicted samples. Use `zero_division` parameter to control this behavior.\n",
            "\n",
            "/usr/local/lib/python3.7/dist-packages/sklearn/metrics/_classification.py:1318: UndefinedMetricWarning:\n",
            "\n",
            "Precision and F-score are ill-defined and being set to 0.0 in labels with no predicted samples. Use `zero_division` parameter to control this behavior.\n",
            "\n"
          ]
        },
        {
          "output_type": "stream",
          "name": "stdout",
          "text": [
            "              precision    recall  f1-score   support\n",
            "\n",
            "           0       0.00      0.00      0.00        18\n",
            "           1       0.00      0.00      0.00        41\n",
            "           2       0.00      0.00      0.00        45\n",
            "           3       0.15      1.00      0.26        31\n",
            "           4       0.00      0.00      0.00        33\n",
            "           5       0.00      0.00      0.00        39\n",
            "\n",
            "    accuracy                           0.15       207\n",
            "   macro avg       0.02      0.17      0.04       207\n",
            "weighted avg       0.02      0.15      0.04       207\n",
            "\n",
            "----accuracy score 14.975845410628018 ----\n"
          ]
        },
        {
          "output_type": "display_data",
          "data": {
            "text/plain": [
              "<Figure size 432x288 with 2 Axes>"
            ],
            "image/png": "[encoded data removed]"
          },
          "metadata": {
            "needs_background": "light"
          }
        }
      ]
    },
    {
      "cell_type": "code",
      "source": [
        ""
      ],
      "metadata": {
        "id": "LGpgwFQqkpyU"
      },
      "execution_count": null,
      "outputs": []
    }
  ]
}