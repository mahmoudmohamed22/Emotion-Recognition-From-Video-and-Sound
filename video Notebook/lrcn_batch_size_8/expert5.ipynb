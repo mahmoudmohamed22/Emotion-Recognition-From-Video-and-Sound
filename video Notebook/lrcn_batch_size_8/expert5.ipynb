{
  "nbformat": 4,
  "nbformat_minor": 0,
  "metadata": {
    "colab": {
      "name": "expert5.ipynb",
      "provenance": [],
      "collapsed_sections": [],
      "machine_shape": "hm"
    },
    "kernelspec": {
      "name": "python3",
      "display_name": "Python 3"
    },
    "accelerator": "GPU"
  },
  "cells": [
    {
      "cell_type": "code",
      "source": [
        "# Discard the output of this cell.\n",
        "#%%capture\n",
        "\n",
        "# Install the required libraries.\n",
        "!pip install tensorflow opencv-contrib-python youtube-dl moviepy pydot\n",
        "!pip install git+https://github.com/TahaAnwar/pafy.git#egg=pafy"
      ],
      "metadata": {
        "id": "MChAq7xYwD1o",
        "outputId": "5ca710aa-41bb-4526-b48f-f9dec6146ba1",
        "colab": {
          "base_uri": "https://localhost:8080/"
        }
      },
      "execution_count": 1,
      "outputs": [
        {
          "output_type": "stream",
          "name": "stdout",
          "text": [
            "Looking in indexes: https://pypi.org/simple, https://us-python.pkg.dev/colab-wheels/public/simple/\n",
            "Requirement already satisfied: tensorflow in /usr/local/lib/python3.7/dist-packages (2.8.2+zzzcolab20220527125636)\n",
            "Requirement already satisfied: opencv-contrib-python in /usr/local/lib/python3.7/dist-packages (4.1.2.30)\n",
            "Requirement already satisfied: youtube-dl in /usr/local/lib/python3.7/dist-packages (2021.12.17)\n",
            "Requirement already satisfied: moviepy in /usr/local/lib/python3.7/dist-packages (0.2.3.5)\n",
            "Requirement already satisfied: pydot in /usr/local/lib/python3.7/dist-packages (1.3.0)\n",
            "Requirement already satisfied: keras<2.9,>=2.8.0rc0 in /usr/local/lib/python3.7/dist-packages (from tensorflow) (2.8.0)\n",
            "Requirement already satisfied: gast>=0.2.1 in /usr/local/lib/python3.7/dist-packages (from tensorflow) (0.5.3)\n",
            "Requirement already satisfied: keras-preprocessing>=1.1.1 in /usr/local/lib/python3.7/dist-packages (from tensorflow) (1.1.2)\n",
            "Requirement already satisfied: protobuf<3.20,>=3.9.2 in /usr/local/lib/python3.7/dist-packages (from tensorflow) (3.17.3)\n",
            "Requirement already satisfied: typing-extensions>=3.6.6 in /usr/local/lib/python3.7/dist-packages (from tensorflow) (4.2.0)\n",
            "Requirement already satisfied: grpcio<2.0,>=1.24.3 in /usr/local/lib/python3.7/dist-packages (from tensorflow) (1.46.3)\n",
            "Requirement already satisfied: tensorboard<2.9,>=2.8 in /usr/local/lib/python3.7/dist-packages (from tensorflow) (2.8.0)\n",
            "Requirement already satisfied: opt-einsum>=2.3.2 in /usr/local/lib/python3.7/dist-packages (from tensorflow) (3.3.0)\n",
            "Requirement already satisfied: wrapt>=1.11.0 in /usr/local/lib/python3.7/dist-packages (from tensorflow) (1.14.1)\n",
            "Requirement already satisfied: numpy>=1.20 in /usr/local/lib/python3.7/dist-packages (from tensorflow) (1.21.6)\n",
            "Requirement already satisfied: six>=1.12.0 in /usr/local/lib/python3.7/dist-packages (from tensorflow) (1.15.0)\n",
            "Requirement already satisfied: setuptools in /usr/local/lib/python3.7/dist-packages (from tensorflow) (57.4.0)\n",
            "Requirement already satisfied: google-pasta>=0.1.1 in /usr/local/lib/python3.7/dist-packages (from tensorflow) (0.2.0)\n",
            "Requirement already satisfied: tensorflow-estimator<2.9,>=2.8 in /usr/local/lib/python3.7/dist-packages (from tensorflow) (2.8.0)\n",
            "Requirement already satisfied: h5py>=2.9.0 in /usr/local/lib/python3.7/dist-packages (from tensorflow) (3.1.0)\n",
            "Requirement already satisfied: flatbuffers>=1.12 in /usr/local/lib/python3.7/dist-packages (from tensorflow) (2.0)\n",
            "Requirement already satisfied: libclang>=9.0.1 in /usr/local/lib/python3.7/dist-packages (from tensorflow) (14.0.1)\n",
            "Requirement already satisfied: absl-py>=0.4.0 in /usr/local/lib/python3.7/dist-packages (from tensorflow) (1.0.0)\n",
            "Requirement already satisfied: termcolor>=1.1.0 in /usr/local/lib/python3.7/dist-packages (from tensorflow) (1.1.0)\n",
            "Requirement already satisfied: astunparse>=1.6.0 in /usr/local/lib/python3.7/dist-packages (from tensorflow) (1.6.3)\n",
            "Requirement already satisfied: tensorflow-io-gcs-filesystem>=0.23.1 in /usr/local/lib/python3.7/dist-packages (from tensorflow) (0.26.0)\n",
            "Requirement already satisfied: wheel<1.0,>=0.23.0 in /usr/local/lib/python3.7/dist-packages (from astunparse>=1.6.0->tensorflow) (0.37.1)\n",
            "Requirement already satisfied: cached-property in /usr/local/lib/python3.7/dist-packages (from h5py>=2.9.0->tensorflow) (1.5.2)\n",
            "Requirement already satisfied: werkzeug>=0.11.15 in /usr/local/lib/python3.7/dist-packages (from tensorboard<2.9,>=2.8->tensorflow) (1.0.1)\n",
            "Requirement already satisfied: tensorboard-plugin-wit>=1.6.0 in /usr/local/lib/python3.7/dist-packages (from tensorboard<2.9,>=2.8->tensorflow) (1.8.1)\n",
            "Requirement already satisfied: requests<3,>=2.21.0 in /usr/local/lib/python3.7/dist-packages (from tensorboard<2.9,>=2.8->tensorflow) (2.23.0)\n",
            "Requirement already satisfied: google-auth-oauthlib<0.5,>=0.4.1 in /usr/local/lib/python3.7/dist-packages (from tensorboard<2.9,>=2.8->tensorflow) (0.4.6)\n",
            "Requirement already satisfied: google-auth<3,>=1.6.3 in /usr/local/lib/python3.7/dist-packages (from tensorboard<2.9,>=2.8->tensorflow) (1.35.0)\n",
            "Requirement already satisfied: markdown>=2.6.8 in /usr/local/lib/python3.7/dist-packages (from tensorboard<2.9,>=2.8->tensorflow) (3.3.7)\n",
            "Requirement already satisfied: tensorboard-data-server<0.7.0,>=0.6.0 in /usr/local/lib/python3.7/dist-packages (from tensorboard<2.9,>=2.8->tensorflow) (0.6.1)\n",
            "Requirement already satisfied: pyasn1-modules>=0.2.1 in /usr/local/lib/python3.7/dist-packages (from google-auth<3,>=1.6.3->tensorboard<2.9,>=2.8->tensorflow) (0.2.8)\n",
            "Requirement already satisfied: rsa<5,>=3.1.4 in /usr/local/lib/python3.7/dist-packages (from google-auth<3,>=1.6.3->tensorboard<2.9,>=2.8->tensorflow) (4.8)\n",
            "Requirement already satisfied: cachetools<5.0,>=2.0.0 in /usr/local/lib/python3.7/dist-packages (from google-auth<3,>=1.6.3->tensorboard<2.9,>=2.8->tensorflow) (4.2.4)\n",
            "Requirement already satisfied: requests-oauthlib>=0.7.0 in /usr/local/lib/python3.7/dist-packages (from google-auth-oauthlib<0.5,>=0.4.1->tensorboard<2.9,>=2.8->tensorflow) (1.3.1)\n",
            "Requirement already satisfied: importlib-metadata>=4.4 in /usr/local/lib/python3.7/dist-packages (from markdown>=2.6.8->tensorboard<2.9,>=2.8->tensorflow) (4.11.4)\n",
            "Requirement already satisfied: zipp>=0.5 in /usr/local/lib/python3.7/dist-packages (from importlib-metadata>=4.4->markdown>=2.6.8->tensorboard<2.9,>=2.8->tensorflow) (3.8.0)\n",
            "Requirement already satisfied: pyasn1<0.5.0,>=0.4.6 in /usr/local/lib/python3.7/dist-packages (from pyasn1-modules>=0.2.1->google-auth<3,>=1.6.3->tensorboard<2.9,>=2.8->tensorflow) (0.4.8)\n",
            "Requirement already satisfied: idna<3,>=2.5 in /usr/local/lib/python3.7/dist-packages (from requests<3,>=2.21.0->tensorboard<2.9,>=2.8->tensorflow) (2.10)\n",
            "Requirement already satisfied: urllib3!=1.25.0,!=1.25.1,<1.26,>=1.21.1 in /usr/local/lib/python3.7/dist-packages (from requests<3,>=2.21.0->tensorboard<2.9,>=2.8->tensorflow) (1.24.3)\n",
            "Requirement already satisfied: chardet<4,>=3.0.2 in /usr/local/lib/python3.7/dist-packages (from requests<3,>=2.21.0->tensorboard<2.9,>=2.8->tensorflow) (3.0.4)\n",
            "Requirement already satisfied: certifi>=2017.4.17 in /usr/local/lib/python3.7/dist-packages (from requests<3,>=2.21.0->tensorboard<2.9,>=2.8->tensorflow) (2022.5.18.1)\n",
            "Requirement already satisfied: oauthlib>=3.0.0 in /usr/local/lib/python3.7/dist-packages (from requests-oauthlib>=0.7.0->google-auth-oauthlib<0.5,>=0.4.1->tensorboard<2.9,>=2.8->tensorflow) (3.2.0)\n",
            "Requirement already satisfied: imageio<3.0,>=2.1.2 in /usr/local/lib/python3.7/dist-packages (from moviepy) (2.4.1)\n",
            "Requirement already satisfied: decorator<5.0,>=4.0.2 in /usr/local/lib/python3.7/dist-packages (from moviepy) (4.4.2)\n",
            "Requirement already satisfied: tqdm<5.0,>=4.11.2 in /usr/local/lib/python3.7/dist-packages (from moviepy) (4.64.0)\n",
            "Requirement already satisfied: pillow in /usr/local/lib/python3.7/dist-packages (from imageio<3.0,>=2.1.2->moviepy) (7.1.2)\n",
            "Requirement already satisfied: pyparsing>=2.1.4 in /usr/local/lib/python3.7/dist-packages (from pydot) (3.0.9)\n",
            "Looking in indexes: https://pypi.org/simple, https://us-python.pkg.dev/colab-wheels/public/simple/\n",
            "Collecting pafy\n",
            "  Cloning https://github.com/TahaAnwar/pafy.git to /tmp/pip-install-xy7f7tac/pafy_f7cf4934b52e49238eea48526496a265\n",
            "  Running command git clone -q https://github.com/TahaAnwar/pafy.git /tmp/pip-install-xy7f7tac/pafy_f7cf4934b52e49238eea48526496a265\n"
          ]
        }
      ]
    },
    {
      "cell_type": "code",
      "source": [
        "# Import the required libraries.\n",
        "import os\n",
        "import cv2\n",
        "import pafy\n",
        "import math\n",
        "import random\n",
        "import numpy as np\n",
        "import datetime as dt\n",
        "import tensorflow as tf\n",
        "from collections import deque\n",
        "import matplotlib.pyplot as plt\n",
        "\n",
        "from moviepy.editor import *\n",
        "%matplotlib inline\n",
        "\n",
        "from sklearn.model_selection import train_test_split\n",
        "\n",
        "from tensorflow.keras.layers import *\n",
        "from tensorflow.keras.models import Sequential\n",
        "from tensorflow.keras.utils import to_categorical\n",
        "from tensorflow.keras.callbacks import EarlyStopping\n",
        "from tensorflow.keras.utils import plot_model\n",
        "import glob"
      ],
      "metadata": {
        "id": "1nJVuzQAwGQp"
      },
      "execution_count": 2,
      "outputs": []
    },
    {
      "cell_type": "code",
      "source": [
        "seed_constant = 27\n",
        "np.random.seed(seed_constant)\n",
        "random.seed(seed_constant)\n",
        "tf.random.set_seed(seed_constant)\n"
      ],
      "metadata": {
        "id": "IoMuaveSwK6K"
      },
      "execution_count": 3,
      "outputs": []
    },
    {
      "cell_type": "code",
      "source": [
        "# Specify the height and width to which each video frame will be resized in our dataset.\n",
        "IMAGE_HEIGHT , IMAGE_WIDTH = 64, 64\n",
        "\n",
        "# Specify the number of frames of a video that will be fed to the model as one sequence.\n",
        "SEQUENCE_LENGTH = 30\n",
        "\n",
        "# Specify the directory containing the UCF50 dataset. \n",
        "#DATASET_DIR = \"/content/drive/MyDrive/frames_ravdess_label\"\n",
        "\n",
        "# Specify the list containing the names of the classes used for training. Feel free to choose any set of classes.\n",
        "CLASSES_LIST = [\"neutral\", \"calm\", \"happy\", \"sad\",\"angry\",\"fearful\"]"
      ],
      "metadata": {
        "id": "GcOPbLHXwNW6"
      },
      "execution_count": 4,
      "outputs": []
    },
    {
      "cell_type": "code",
      "source": [
        "from google.colab import drive\n",
        "drive.mount('/content/drive')"
      ],
      "metadata": {
        "id": "R4qTnVYzwtnU",
        "outputId": "5a91a8e4-c5d7-4257-ade7-282625bf0dee",
        "colab": {
          "base_uri": "https://localhost:8080/"
        }
      },
      "execution_count": 5,
      "outputs": [
        {
          "output_type": "stream",
          "name": "stdout",
          "text": [
            "Drive already mounted at /content/drive; to attempt to forcibly remount, call drive.mount(\"/content/drive\", force_remount=True).\n"
          ]
        }
      ]
    },
    {
      "cell_type": "code",
      "source": [
        "import joblib\n",
        "features = joblib.load('/content/drive/My Drive/features_ravdess/data_set/features_data')\n",
        "labels = joblib.load('/content/drive/MyDrive/features_ravdess/data_set/labels')\n",
        "video_files_paths = joblib.load('/content/drive/My Drive/features_ravdess/data_set/video_path')"
      ],
      "metadata": {
        "id": "Hpib_QJowRPo"
      },
      "execution_count": 6,
      "outputs": []
    },
    {
      "cell_type": "code",
      "source": [
        "features = np.asarray(features)\n",
        "labels = np.array(labels)  "
      ],
      "metadata": {
        "id": "PH_q4iTSwt_7"
      },
      "execution_count": 7,
      "outputs": []
    },
    {
      "cell_type": "code",
      "source": [
        "features.shape"
      ],
      "metadata": {
        "id": "EcUFSl-ExLkk",
        "outputId": "b7408576-eac5-478e-a354-6bc6a96578e1",
        "colab": {
          "base_uri": "https://localhost:8080/"
        }
      },
      "execution_count": 8,
      "outputs": [
        {
          "output_type": "execute_result",
          "data": {
            "text/plain": [
              "(2067, 30, 64, 64, 3)"
            ]
          },
          "metadata": {},
          "execution_count": 8
        }
      ]
    },
    {
      "cell_type": "code",
      "source": [
        "# Using Keras's to_categorical method to convert labels into one-hot-encoded vectors\n",
        "one_hot_encoded_labels = to_categorical(labels)"
      ],
      "metadata": {
        "id": "byN_xKZ1w3db"
      },
      "execution_count": 9,
      "outputs": []
    },
    {
      "cell_type": "code",
      "source": [
        "# Split the Data into Train ( 80% ) and Test Set ( 20% ).\n",
        "features_train, features_test, labels_train, labels_test = train_test_split(features, one_hot_encoded_labels,\n",
        "                                                                            test_size = 0.10, shuffle = True,\n",
        "                                                                            random_state = seed_constant)"
      ],
      "metadata": {
        "id": "Xbo5u-ynw4bP"
      },
      "execution_count": 10,
      "outputs": []
    },
    {
      "cell_type": "code",
      "source": [
        "def create_LRCN_model():\n",
        "    '''\n",
        "    This function will construct the required LRCN model.\n",
        "    Returns:\n",
        "        model: It is the required constructed LRCN model.\n",
        "    '''\n",
        "\n",
        "    # We will use a Sequential model for model construction.\n",
        "    model = Sequential()\n",
        "   \n",
        "    # Define the Model Architecture.\n",
        "    ########################################################################################################################\n",
        "    \n",
        "    model.add(TimeDistributed(Conv2D(16, (3,3), padding='same'),\n",
        "                              input_shape = (SEQUENCE_LENGTH, IMAGE_HEIGHT, IMAGE_WIDTH, 3)))\n",
        "    model.add(TimeDistributed(BatchNormalization()))\n",
        "    model.add(TimeDistributed(Activation('relu')))\n",
        "    model.add(TimeDistributed(MaxPooling2D((4, 4)))) \n",
        "    model.add(TimeDistributed(Dropout(0.1)))\n",
        "    \n",
        "    model.add(TimeDistributed(Conv2D(32, (3,3), padding='same')))\n",
        "    model.add(TimeDistributed(BatchNormalization()))\n",
        "    model.add(TimeDistributed(Activation('relu')))\n",
        "    model.add(TimeDistributed(MaxPooling2D((4, 4))))\n",
        "    model.add(TimeDistributed(Dropout(0.2)))\n",
        "    \n",
        "    model.add(TimeDistributed(Conv2D(64, (3,3), padding='same')))\n",
        "    model.add(TimeDistributed(BatchNormalization()))\n",
        "    model.add(TimeDistributed(Activation('relu')))\n",
        "    model.add(TimeDistributed(MaxPooling2D((2, 2))))\n",
        "    model.add(TimeDistributed(Dropout(0.3)))\n",
        "    \n",
        "    model.add(TimeDistributed(Conv2D(64, (3,3), padding='same')))\n",
        "    model.add(TimeDistributed(BatchNormalization()))\n",
        "    model.add(TimeDistributed(Activation('relu')))\n",
        "    model.add(TimeDistributed(MaxPooling2D((2, 2))))\n",
        "    #model.add(TimeDistributed(Dropout(0.25)))\n",
        "                                      \n",
        "    model.add(TimeDistributed(Flatten()))\n",
        "                                      \n",
        "    model.add(LSTM(64))\n",
        "                                      \n",
        "    model.add(Dense(len(CLASSES_LIST), activation = 'softmax'))\n",
        "\n",
        "    ########################################################################################################################\n",
        "\n",
        "    # Display the models summary.\n",
        "    model.summary()\n",
        "    \n",
        "    # Return the constructed LRCN model.\n",
        "    return model"
      ],
      "metadata": {
        "id": "ANf9NyOAw7Fa"
      },
      "execution_count": 11,
      "outputs": []
    },
    {
      "cell_type": "code",
      "source": [
        "# Construct the required LRCN model.\n",
        "LRCN_model = create_LRCN_model()\n",
        "\n",
        "# Display the success message.\n",
        "print(\"Model Created Successfully!\")"
      ],
      "metadata": {
        "id": "VX1aE7GoxSHl",
        "outputId": "995c329d-3bfa-4eba-c281-2a02d59a624f",
        "colab": {
          "base_uri": "https://localhost:8080/"
        }
      },
      "execution_count": 12,
      "outputs": [
        {
          "output_type": "stream",
          "name": "stdout",
          "text": [
            "Model: \"sequential\"\n",
            "_________________________________________________________________\n",
            " Layer (type)                Output Shape              Param #   \n",
            "=================================================================\n",
            " time_distributed (TimeDistr  (None, 30, 64, 64, 16)   448       \n",
            " ibuted)                                                         \n",
            "                                                                 \n",
            " time_distributed_1 (TimeDis  (None, 30, 64, 64, 16)   64        \n",
            " tributed)                                                       \n",
            "                                                                 \n",
            " time_distributed_2 (TimeDis  (None, 30, 64, 64, 16)   0         \n",
            " tributed)                                                       \n",
            "                                                                 \n",
            " time_distributed_3 (TimeDis  (None, 30, 16, 16, 16)   0         \n",
            " tributed)                                                       \n",
            "                                                                 \n",
            " time_distributed_4 (TimeDis  (None, 30, 16, 16, 16)   0         \n",
            " tributed)                                                       \n",
            "                                                                 \n",
            " time_distributed_5 (TimeDis  (None, 30, 16, 16, 32)   4640      \n",
            " tributed)                                                       \n",
            "                                                                 \n",
            " time_distributed_6 (TimeDis  (None, 30, 16, 16, 32)   128       \n",
            " tributed)                                                       \n",
            "                                                                 \n",
            " time_distributed_7 (TimeDis  (None, 30, 16, 16, 32)   0         \n",
            " tributed)                                                       \n",
            "                                                                 \n",
            " time_distributed_8 (TimeDis  (None, 30, 4, 4, 32)     0         \n",
            " tributed)                                                       \n",
            "                                                                 \n",
            " time_distributed_9 (TimeDis  (None, 30, 4, 4, 32)     0         \n",
            " tributed)                                                       \n",
            "                                                                 \n",
            " time_distributed_10 (TimeDi  (None, 30, 4, 4, 64)     18496     \n",
            " stributed)                                                      \n",
            "                                                                 \n",
            " time_distributed_11 (TimeDi  (None, 30, 4, 4, 64)     256       \n",
            " stributed)                                                      \n",
            "                                                                 \n",
            " time_distributed_12 (TimeDi  (None, 30, 4, 4, 64)     0         \n",
            " stributed)                                                      \n",
            "                                                                 \n",
            " time_distributed_13 (TimeDi  (None, 30, 2, 2, 64)     0         \n",
            " stributed)                                                      \n",
            "                                                                 \n",
            " time_distributed_14 (TimeDi  (None, 30, 2, 2, 64)     0         \n",
            " stributed)                                                      \n",
            "                                                                 \n",
            " time_distributed_15 (TimeDi  (None, 30, 2, 2, 64)     36928     \n",
            " stributed)                                                      \n",
            "                                                                 \n",
            " time_distributed_16 (TimeDi  (None, 30, 2, 2, 64)     256       \n",
            " stributed)                                                      \n",
            "                                                                 \n",
            " time_distributed_17 (TimeDi  (None, 30, 2, 2, 64)     0         \n",
            " stributed)                                                      \n",
            "                                                                 \n",
            " time_distributed_18 (TimeDi  (None, 30, 1, 1, 64)     0         \n",
            " stributed)                                                      \n",
            "                                                                 \n",
            " time_distributed_19 (TimeDi  (None, 30, 64)           0         \n",
            " stributed)                                                      \n",
            "                                                                 \n",
            " lstm (LSTM)                 (None, 64)                33024     \n",
            "                                                                 \n",
            " dense (Dense)               (None, 6)                 390       \n",
            "                                                                 \n",
            "=================================================================\n",
            "Total params: 94,630\n",
            "Trainable params: 94,278\n",
            "Non-trainable params: 352\n",
            "_________________________________________________________________\n",
            "Model Created Successfully!\n"
          ]
        }
      ]
    },
    {
      "cell_type": "code",
      "source": [
        "# Create an Instance of Early Stopping Callback.\n",
        "early_stopping_callback = EarlyStopping(monitor = 'val_loss', patience = 25, mode = 'min', restore_best_weights = True)\n",
        " \n",
        "# Compile the model and specify loss function, optimizer and metrics to the model.\n",
        "LRCN_model.compile(loss = 'categorical_crossentropy', optimizer = 'Adam', metrics = [\"accuracy\"])\n",
        "\n",
        "# Start training the model.\n",
        "LRCN_model_training_history = LRCN_model.fit(x = features_train, y = labels_train, epochs = 100, batch_size = 8 ,\n",
        "                                             shuffle = True, validation_split = 0.1, callbacks = [early_stopping_callback])"
      ],
      "metadata": {
        "id": "-wmt7CHExUgm",
        "outputId": "98522086-ede2-421f-e203-1621040b15aa",
        "colab": {
          "base_uri": "https://localhost:8080/"
        }
      },
      "execution_count": 13,
      "outputs": [
        {
          "output_type": "stream",
          "name": "stdout",
          "text": [
            "Epoch 1/100\n",
            "210/210 [==============================] - 24s 32ms/step - loss: 1.5529 - accuracy: 0.3608 - val_loss: 2.3045 - val_accuracy: 0.1398\n",
            "Epoch 2/100\n",
            "210/210 [==============================] - 5s 24ms/step - loss: 1.1323 - accuracy: 0.5430 - val_loss: 2.0186 - val_accuracy: 0.2097\n",
            "Epoch 3/100\n",
            "210/210 [==============================] - 5s 23ms/step - loss: 0.9709 - accuracy: 0.6165 - val_loss: 1.0349 - val_accuracy: 0.6290\n",
            "Epoch 4/100\n",
            "210/210 [==============================] - 5s 23ms/step - loss: 0.8651 - accuracy: 0.6673 - val_loss: 1.1642 - val_accuracy: 0.5860\n",
            "Epoch 5/100\n",
            "210/210 [==============================] - 5s 23ms/step - loss: 0.7756 - accuracy: 0.7115 - val_loss: 1.6618 - val_accuracy: 0.4247\n",
            "Epoch 6/100\n",
            "210/210 [==============================] - 5s 23ms/step - loss: 0.7308 - accuracy: 0.7204 - val_loss: 0.8144 - val_accuracy: 0.7151\n",
            "Epoch 7/100\n",
            "210/210 [==============================] - 5s 23ms/step - loss: 0.6499 - accuracy: 0.7521 - val_loss: 1.1967 - val_accuracy: 0.5860\n",
            "Epoch 8/100\n",
            "210/210 [==============================] - 5s 23ms/step - loss: 0.5914 - accuracy: 0.7748 - val_loss: 0.7189 - val_accuracy: 0.7204\n",
            "Epoch 9/100\n",
            "210/210 [==============================] - 5s 23ms/step - loss: 0.5696 - accuracy: 0.7933 - val_loss: 0.6570 - val_accuracy: 0.7581\n",
            "Epoch 10/100\n",
            "210/210 [==============================] - 5s 23ms/step - loss: 0.4278 - accuracy: 0.8507 - val_loss: 0.8759 - val_accuracy: 0.6559\n",
            "Epoch 11/100\n",
            "210/210 [==============================] - 5s 23ms/step - loss: 0.4864 - accuracy: 0.8196 - val_loss: 0.7433 - val_accuracy: 0.7258\n",
            "Epoch 12/100\n",
            "210/210 [==============================] - 5s 23ms/step - loss: 0.4180 - accuracy: 0.8524 - val_loss: 0.5737 - val_accuracy: 0.8011\n",
            "Epoch 13/100\n",
            "210/210 [==============================] - 5s 23ms/step - loss: 0.3992 - accuracy: 0.8602 - val_loss: 1.8362 - val_accuracy: 0.4946\n",
            "Epoch 14/100\n",
            "210/210 [==============================] - 5s 23ms/step - loss: 0.3380 - accuracy: 0.8757 - val_loss: 0.7471 - val_accuracy: 0.7903\n",
            "Epoch 15/100\n",
            "210/210 [==============================] - 5s 23ms/step - loss: 0.3524 - accuracy: 0.8775 - val_loss: 0.6964 - val_accuracy: 0.7473\n",
            "Epoch 16/100\n",
            "210/210 [==============================] - 5s 23ms/step - loss: 0.3506 - accuracy: 0.8877 - val_loss: 0.7608 - val_accuracy: 0.7419\n",
            "Epoch 17/100\n",
            "210/210 [==============================] - 5s 23ms/step - loss: 0.3550 - accuracy: 0.8769 - val_loss: 0.6937 - val_accuracy: 0.7849\n",
            "Epoch 18/100\n",
            "210/210 [==============================] - 5s 23ms/step - loss: 0.2939 - accuracy: 0.8973 - val_loss: 0.6886 - val_accuracy: 0.7204\n",
            "Epoch 19/100\n",
            "210/210 [==============================] - 5s 23ms/step - loss: 0.3047 - accuracy: 0.8883 - val_loss: 0.4996 - val_accuracy: 0.8387\n",
            "Epoch 20/100\n",
            "210/210 [==============================] - 5s 23ms/step - loss: 0.3175 - accuracy: 0.8895 - val_loss: 0.4228 - val_accuracy: 0.8763\n",
            "Epoch 21/100\n",
            "210/210 [==============================] - 5s 23ms/step - loss: 0.2646 - accuracy: 0.9062 - val_loss: 0.5170 - val_accuracy: 0.8387\n",
            "Epoch 22/100\n",
            "210/210 [==============================] - 5s 23ms/step - loss: 0.2484 - accuracy: 0.9116 - val_loss: 0.4270 - val_accuracy: 0.8871\n",
            "Epoch 23/100\n",
            "210/210 [==============================] - 5s 23ms/step - loss: 0.2640 - accuracy: 0.9146 - val_loss: 0.3583 - val_accuracy: 0.8548\n",
            "Epoch 24/100\n",
            "210/210 [==============================] - 5s 23ms/step - loss: 0.2163 - accuracy: 0.9182 - val_loss: 0.9743 - val_accuracy: 0.7473\n",
            "Epoch 25/100\n",
            "210/210 [==============================] - 5s 23ms/step - loss: 0.2081 - accuracy: 0.9265 - val_loss: 0.6796 - val_accuracy: 0.7957\n",
            "Epoch 26/100\n",
            "210/210 [==============================] - 5s 23ms/step - loss: 0.2167 - accuracy: 0.9170 - val_loss: 0.5358 - val_accuracy: 0.8172\n",
            "Epoch 27/100\n",
            "210/210 [==============================] - 5s 23ms/step - loss: 0.2545 - accuracy: 0.9074 - val_loss: 0.7587 - val_accuracy: 0.7849\n",
            "Epoch 28/100\n",
            "210/210 [==============================] - 5s 23ms/step - loss: 0.2041 - accuracy: 0.9265 - val_loss: 0.6546 - val_accuracy: 0.8280\n",
            "Epoch 29/100\n",
            "210/210 [==============================] - 5s 23ms/step - loss: 0.1749 - accuracy: 0.9391 - val_loss: 0.7393 - val_accuracy: 0.7903\n",
            "Epoch 30/100\n",
            "210/210 [==============================] - 5s 23ms/step - loss: 0.1695 - accuracy: 0.9421 - val_loss: 0.4254 - val_accuracy: 0.8495\n",
            "Epoch 31/100\n",
            "210/210 [==============================] - 5s 23ms/step - loss: 0.1911 - accuracy: 0.9385 - val_loss: 0.2042 - val_accuracy: 0.9247\n",
            "Epoch 32/100\n",
            "210/210 [==============================] - 5s 23ms/step - loss: 0.1505 - accuracy: 0.9504 - val_loss: 1.9514 - val_accuracy: 0.5000\n",
            "Epoch 33/100\n",
            "210/210 [==============================] - 5s 23ms/step - loss: 0.1953 - accuracy: 0.9289 - val_loss: 1.0179 - val_accuracy: 0.6828\n",
            "Epoch 34/100\n",
            "210/210 [==============================] - 5s 23ms/step - loss: 0.1691 - accuracy: 0.9319 - val_loss: 0.2013 - val_accuracy: 0.9086\n",
            "Epoch 35/100\n",
            "210/210 [==============================] - 5s 23ms/step - loss: 0.1895 - accuracy: 0.9379 - val_loss: 0.3255 - val_accuracy: 0.8925\n",
            "Epoch 36/100\n",
            "210/210 [==============================] - 5s 23ms/step - loss: 0.1760 - accuracy: 0.9379 - val_loss: 0.3696 - val_accuracy: 0.8871\n",
            "Epoch 37/100\n",
            "210/210 [==============================] - 5s 24ms/step - loss: 0.1297 - accuracy: 0.9558 - val_loss: 0.8694 - val_accuracy: 0.7742\n",
            "Epoch 38/100\n",
            "210/210 [==============================] - 5s 24ms/step - loss: 0.1599 - accuracy: 0.9397 - val_loss: 0.2449 - val_accuracy: 0.9086\n",
            "Epoch 39/100\n",
            "210/210 [==============================] - 5s 23ms/step - loss: 0.1498 - accuracy: 0.9438 - val_loss: 0.2822 - val_accuracy: 0.8871\n",
            "Epoch 40/100\n",
            "210/210 [==============================] - 5s 23ms/step - loss: 0.1378 - accuracy: 0.9528 - val_loss: 1.2521 - val_accuracy: 0.7043\n",
            "Epoch 41/100\n",
            "210/210 [==============================] - 5s 23ms/step - loss: 0.1140 - accuracy: 0.9636 - val_loss: 1.4492 - val_accuracy: 0.6505\n",
            "Epoch 42/100\n",
            "210/210 [==============================] - 5s 23ms/step - loss: 0.1458 - accuracy: 0.9546 - val_loss: 0.3212 - val_accuracy: 0.8871\n",
            "Epoch 43/100\n",
            "210/210 [==============================] - 5s 23ms/step - loss: 0.1479 - accuracy: 0.9486 - val_loss: 0.7368 - val_accuracy: 0.8172\n",
            "Epoch 44/100\n",
            "210/210 [==============================] - 5s 23ms/step - loss: 0.1217 - accuracy: 0.9552 - val_loss: 0.3090 - val_accuracy: 0.8925\n",
            "Epoch 45/100\n",
            "210/210 [==============================] - 5s 23ms/step - loss: 0.1341 - accuracy: 0.9558 - val_loss: 0.3846 - val_accuracy: 0.8710\n",
            "Epoch 46/100\n",
            "210/210 [==============================] - 5s 23ms/step - loss: 0.0974 - accuracy: 0.9683 - val_loss: 0.6883 - val_accuracy: 0.7849\n",
            "Epoch 47/100\n",
            "210/210 [==============================] - 5s 23ms/step - loss: 0.1284 - accuracy: 0.9564 - val_loss: 0.3675 - val_accuracy: 0.8925\n",
            "Epoch 48/100\n",
            "210/210 [==============================] - 5s 23ms/step - loss: 0.0972 - accuracy: 0.9683 - val_loss: 0.4242 - val_accuracy: 0.8656\n",
            "Epoch 49/100\n",
            "210/210 [==============================] - 5s 23ms/step - loss: 0.1324 - accuracy: 0.9576 - val_loss: 0.6650 - val_accuracy: 0.7419\n",
            "Epoch 50/100\n",
            "210/210 [==============================] - 5s 23ms/step - loss: 0.0779 - accuracy: 0.9731 - val_loss: 0.6311 - val_accuracy: 0.8280\n",
            "Epoch 51/100\n",
            "210/210 [==============================] - 5s 23ms/step - loss: 0.1533 - accuracy: 0.9403 - val_loss: 0.2293 - val_accuracy: 0.9247\n",
            "Epoch 52/100\n",
            "210/210 [==============================] - 5s 23ms/step - loss: 0.0869 - accuracy: 0.9665 - val_loss: 0.4564 - val_accuracy: 0.8602\n",
            "Epoch 53/100\n",
            "210/210 [==============================] - 5s 23ms/step - loss: 0.1241 - accuracy: 0.9510 - val_loss: 0.2753 - val_accuracy: 0.9140\n",
            "Epoch 54/100\n",
            "210/210 [==============================] - 5s 23ms/step - loss: 0.1184 - accuracy: 0.9606 - val_loss: 0.2971 - val_accuracy: 0.9032\n",
            "Epoch 55/100\n",
            "210/210 [==============================] - 5s 23ms/step - loss: 0.0852 - accuracy: 0.9707 - val_loss: 0.2691 - val_accuracy: 0.9247\n",
            "Epoch 56/100\n",
            "210/210 [==============================] - 5s 23ms/step - loss: 0.1147 - accuracy: 0.9606 - val_loss: 0.1650 - val_accuracy: 0.9516\n",
            "Epoch 57/100\n",
            "210/210 [==============================] - 5s 23ms/step - loss: 0.0746 - accuracy: 0.9719 - val_loss: 0.3566 - val_accuracy: 0.8925\n",
            "Epoch 58/100\n",
            "210/210 [==============================] - 5s 23ms/step - loss: 0.0715 - accuracy: 0.9773 - val_loss: 0.2786 - val_accuracy: 0.9140\n",
            "Epoch 59/100\n",
            "210/210 [==============================] - 5s 23ms/step - loss: 0.1017 - accuracy: 0.9636 - val_loss: 0.2408 - val_accuracy: 0.9355\n",
            "Epoch 60/100\n",
            "210/210 [==============================] - 5s 23ms/step - loss: 0.1142 - accuracy: 0.9600 - val_loss: 0.1851 - val_accuracy: 0.9355\n",
            "Epoch 61/100\n",
            "210/210 [==============================] - 5s 23ms/step - loss: 0.0847 - accuracy: 0.9671 - val_loss: 0.3258 - val_accuracy: 0.9086\n",
            "Epoch 62/100\n",
            "210/210 [==============================] - 5s 23ms/step - loss: 0.1242 - accuracy: 0.9564 - val_loss: 0.3090 - val_accuracy: 0.8925\n",
            "Epoch 63/100\n",
            "210/210 [==============================] - 5s 23ms/step - loss: 0.0844 - accuracy: 0.9719 - val_loss: 0.6202 - val_accuracy: 0.8226\n",
            "Epoch 64/100\n",
            "210/210 [==============================] - 5s 23ms/step - loss: 0.0817 - accuracy: 0.9737 - val_loss: 0.2749 - val_accuracy: 0.8978\n",
            "Epoch 65/100\n",
            "210/210 [==============================] - 5s 23ms/step - loss: 0.0653 - accuracy: 0.9785 - val_loss: 0.6622 - val_accuracy: 0.7849\n",
            "Epoch 66/100\n",
            "210/210 [==============================] - 5s 23ms/step - loss: 0.0783 - accuracy: 0.9743 - val_loss: 0.3363 - val_accuracy: 0.8763\n",
            "Epoch 67/100\n",
            "210/210 [==============================] - 5s 23ms/step - loss: 0.0967 - accuracy: 0.9648 - val_loss: 0.4928 - val_accuracy: 0.8763\n",
            "Epoch 68/100\n",
            "210/210 [==============================] - 5s 23ms/step - loss: 0.1029 - accuracy: 0.9624 - val_loss: 0.1617 - val_accuracy: 0.9462\n",
            "Epoch 69/100\n",
            "210/210 [==============================] - 5s 23ms/step - loss: 0.0634 - accuracy: 0.9785 - val_loss: 0.6420 - val_accuracy: 0.7742\n",
            "Epoch 70/100\n",
            "210/210 [==============================] - 5s 23ms/step - loss: 0.0509 - accuracy: 0.9803 - val_loss: 0.3378 - val_accuracy: 0.8871\n",
            "Epoch 71/100\n",
            "210/210 [==============================] - 5s 23ms/step - loss: 0.0620 - accuracy: 0.9803 - val_loss: 0.3596 - val_accuracy: 0.9086\n",
            "Epoch 72/100\n",
            "210/210 [==============================] - 5s 23ms/step - loss: 0.0944 - accuracy: 0.9689 - val_loss: 0.2157 - val_accuracy: 0.8978\n",
            "Epoch 73/100\n",
            "210/210 [==============================] - 5s 23ms/step - loss: 0.1118 - accuracy: 0.9558 - val_loss: 0.4801 - val_accuracy: 0.8495\n",
            "Epoch 74/100\n",
            "210/210 [==============================] - 5s 23ms/step - loss: 0.0794 - accuracy: 0.9725 - val_loss: 0.2023 - val_accuracy: 0.9355\n",
            "Epoch 75/100\n",
            "210/210 [==============================] - 5s 23ms/step - loss: 0.0794 - accuracy: 0.9695 - val_loss: 0.1881 - val_accuracy: 0.9247\n",
            "Epoch 76/100\n",
            "210/210 [==============================] - 5s 23ms/step - loss: 0.0674 - accuracy: 0.9803 - val_loss: 1.4025 - val_accuracy: 0.7151\n",
            "Epoch 77/100\n",
            "210/210 [==============================] - 5s 23ms/step - loss: 0.0483 - accuracy: 0.9815 - val_loss: 0.6118 - val_accuracy: 0.8280\n",
            "Epoch 78/100\n",
            "210/210 [==============================] - 5s 23ms/step - loss: 0.0598 - accuracy: 0.9791 - val_loss: 0.1632 - val_accuracy: 0.9462\n",
            "Epoch 79/100\n",
            "210/210 [==============================] - 5s 23ms/step - loss: 0.0488 - accuracy: 0.9863 - val_loss: 0.0989 - val_accuracy: 0.9677\n",
            "Epoch 80/100\n",
            "210/210 [==============================] - 5s 23ms/step - loss: 0.0846 - accuracy: 0.9737 - val_loss: 0.1045 - val_accuracy: 0.9624\n",
            "Epoch 81/100\n",
            "210/210 [==============================] - 5s 23ms/step - loss: 0.0313 - accuracy: 0.9904 - val_loss: 0.4607 - val_accuracy: 0.8763\n",
            "Epoch 82/100\n",
            "210/210 [==============================] - 5s 23ms/step - loss: 0.0889 - accuracy: 0.9671 - val_loss: 0.4593 - val_accuracy: 0.8710\n",
            "Epoch 83/100\n",
            "210/210 [==============================] - 5s 23ms/step - loss: 0.0713 - accuracy: 0.9791 - val_loss: 0.2098 - val_accuracy: 0.9409\n",
            "Epoch 84/100\n",
            "210/210 [==============================] - 5s 23ms/step - loss: 0.0671 - accuracy: 0.9779 - val_loss: 0.1227 - val_accuracy: 0.9516\n",
            "Epoch 85/100\n",
            "210/210 [==============================] - 5s 23ms/step - loss: 0.0505 - accuracy: 0.9851 - val_loss: 0.4642 - val_accuracy: 0.8871\n",
            "Epoch 86/100\n",
            "210/210 [==============================] - 5s 23ms/step - loss: 0.0369 - accuracy: 0.9892 - val_loss: 0.4662 - val_accuracy: 0.8495\n",
            "Epoch 87/100\n",
            "210/210 [==============================] - 5s 23ms/step - loss: 0.0821 - accuracy: 0.9743 - val_loss: 0.1659 - val_accuracy: 0.9516\n",
            "Epoch 88/100\n",
            "210/210 [==============================] - 5s 23ms/step - loss: 0.0435 - accuracy: 0.9857 - val_loss: 1.6068 - val_accuracy: 0.7473\n",
            "Epoch 89/100\n",
            "210/210 [==============================] - 5s 23ms/step - loss: 0.0486 - accuracy: 0.9791 - val_loss: 0.2626 - val_accuracy: 0.9247\n",
            "Epoch 90/100\n",
            "210/210 [==============================] - 5s 23ms/step - loss: 0.0483 - accuracy: 0.9833 - val_loss: 0.1331 - val_accuracy: 0.9355\n",
            "Epoch 91/100\n",
            "210/210 [==============================] - 5s 23ms/step - loss: 0.0535 - accuracy: 0.9821 - val_loss: 0.4465 - val_accuracy: 0.8817\n",
            "Epoch 92/100\n",
            "210/210 [==============================] - 5s 23ms/step - loss: 0.0353 - accuracy: 0.9898 - val_loss: 0.2664 - val_accuracy: 0.9194\n",
            "Epoch 93/100\n",
            "210/210 [==============================] - 5s 23ms/step - loss: 0.0730 - accuracy: 0.9779 - val_loss: 0.4598 - val_accuracy: 0.8925\n",
            "Epoch 94/100\n",
            "210/210 [==============================] - 5s 23ms/step - loss: 0.0516 - accuracy: 0.9797 - val_loss: 0.2334 - val_accuracy: 0.9301\n",
            "Epoch 95/100\n",
            "210/210 [==============================] - 5s 23ms/step - loss: 0.0638 - accuracy: 0.9761 - val_loss: 0.2643 - val_accuracy: 0.9032\n",
            "Epoch 96/100\n",
            "210/210 [==============================] - 5s 23ms/step - loss: 0.0656 - accuracy: 0.9785 - val_loss: 1.3768 - val_accuracy: 0.7312\n",
            "Epoch 97/100\n",
            "210/210 [==============================] - 5s 23ms/step - loss: 0.0492 - accuracy: 0.9827 - val_loss: 0.1413 - val_accuracy: 0.9462\n",
            "Epoch 98/100\n",
            "210/210 [==============================] - 5s 24ms/step - loss: 0.0279 - accuracy: 0.9922 - val_loss: 0.5403 - val_accuracy: 0.8656\n",
            "Epoch 99/100\n",
            "210/210 [==============================] - 5s 23ms/step - loss: 0.0590 - accuracy: 0.9827 - val_loss: 0.9527 - val_accuracy: 0.7796\n",
            "Epoch 100/100\n",
            "210/210 [==============================] - 5s 23ms/step - loss: 0.0638 - accuracy: 0.9773 - val_loss: 0.4461 - val_accuracy: 0.9032\n"
          ]
        }
      ]
    },
    {
      "cell_type": "code",
      "source": [
        "# Evaluate the trained model.\n",
        "model_evaluation_history = LRCN_model.evaluate(features_test, labels_test)"
      ],
      "metadata": {
        "id": "hhLgaWvCxZ-e",
        "outputId": "2cdc4e1a-7c65-4fc1-e9c9-07a4ab25f9c7",
        "colab": {
          "base_uri": "https://localhost:8080/"
        }
      },
      "execution_count": 14,
      "outputs": [
        {
          "output_type": "stream",
          "name": "stdout",
          "text": [
            "7/7 [==============================] - 0s 33ms/step - loss: 0.4198 - accuracy: 0.8937\n"
          ]
        }
      ]
    },
    {
      "cell_type": "code",
      "source": [
        "# Get the loss and accuracy from model_evaluation_history.\n",
        "model_evaluation_loss, model_evaluation_accuracy = model_evaluation_history\n",
        "\n",
        "# Define the string date format.\n",
        "# Get the current Date and Time in a DateTime Object.\n",
        "# Convert the DateTime object to string according to the style mentioned in date_time_format string.\n",
        "date_time_format = '%Y_%m_%d__%H_%M_%S'\n",
        "current_date_time_dt = dt.datetime.now()\n",
        "current_date_time_string = dt.datetime.strftime(current_date_time_dt, date_time_format)\n",
        "    \n",
        "# Define a useful name for our model to make it easy for us while navigating through multiple saved models.\n",
        "model_file_name = f'landmark3_lr=0.001___Accuracy_{model_evaluation_accuracy}___Loss_{model_evaluation_loss}.h5'\n",
        "\n",
        "# Save the Model.\n",
        "#LRCN_model.save('/content/drive/My Drive/marwa/saved_models/lrcn/'+model_file_name)"
      ],
      "metadata": {
        "id": "g8wWe5lR1GRp"
      },
      "execution_count": 15,
      "outputs": []
    },
    {
      "cell_type": "code",
      "source": [
        "def plot_metric(model_training_history, metric_name_1, metric_name_2, plot_name):\n",
        "    '''\n",
        "    This function will plot the metrics passed to it in a graph.\n",
        "    Args:\n",
        "        model_training_history: A history object containing a record of training and validation \n",
        "                                loss values and metrics values at successive epochs\n",
        "        metric_name_1:          The name of the first metric that needs to be plotted in the graph.\n",
        "        metric_name_2:          The name of the second metric that needs to be plotted in the graph.\n",
        "        plot_name:              The title of the graph.\n",
        "    '''\n",
        "    \n",
        "    # Get metric values using metric names as identifiers.\n",
        "    metric_value_1 = model_training_history.history[metric_name_1]\n",
        "    metric_value_2 = model_training_history.history[metric_name_2]\n",
        "    \n",
        "    # Construct a range object which will be used as x-axis (horizontal plane) of the graph.\n",
        "    epochs = range(len(metric_value_1))\n",
        "\n",
        "    # Plot the Graph.\n",
        "    plt.plot(epochs, metric_value_1, 'blue', label = metric_name_1)\n",
        "    plt.plot(epochs, metric_value_2, 'red', label = metric_name_2)\n",
        "\n",
        "    # Add title to the plot.\n",
        "    plt.title(str(plot_name))\n",
        "\n",
        "    # Add legend to the plot.\n",
        "    plt.legend()"
      ],
      "metadata": {
        "id": "ZiSh_i871KAd"
      },
      "execution_count": 16,
      "outputs": []
    },
    {
      "cell_type": "code",
      "source": [
        "# Visualize the training and validation loss metrices.\n",
        "plot_metric(LRCN_model_training_history, 'loss', 'val_loss', 'Total Loss vs Total Validation Loss')"
      ],
      "metadata": {
        "id": "7HjkIAJj1Ncw",
        "outputId": "3a0594eb-3eed-4eae-cb5c-f3d4129ec919",
        "colab": {
          "base_uri": "https://localhost:8080/",
          "height": 281
        }
      },
      "execution_count": 17,
      "outputs": [
        {
          "output_type": "display_data",
          "data": {
            "text/plain": [
              "<Figure size 432x288 with 1 Axes>"
            ],
            "image/png": "[encoded data removed]"
          },
          "metadata": {
            "needs_background": "light"
          }
        }
      ]
    },
    {
      "cell_type": "code",
      "source": [
        "\n",
        "# Visualize the training and validation accuracy metrices.\n",
        "plot_metric(LRCN_model_training_history, 'accuracy', 'val_accuracy', 'Total Accuracy vs Total Validation Accuracy')"
      ],
      "metadata": {
        "id": "sYTDhDnq1Qce",
        "outputId": "397a157c-fa59-4ed6-86c8-5a5f56615647",
        "colab": {
          "base_uri": "https://localhost:8080/",
          "height": 281
        }
      },
      "execution_count": 18,
      "outputs": [
        {
          "output_type": "display_data",
          "data": {
            "text/plain": [
              "<Figure size 432x288 with 1 Axes>"
            ],
            "image/png": "[encoded data removed]"
          },
          "metadata": {
            "needs_background": "light"
          }
        }
      ]
    },
    {
      "cell_type": "code",
      "source": [
        "predictions =  LRCN_model.predict(features_test)\n",
        "predictions"
      ],
      "metadata": {
        "id": "KrJfAkU41SlN",
        "outputId": "e48d1c1f-856e-4a2a-a7c3-fc6d7bdc4ab0",
        "colab": {
          "base_uri": "https://localhost:8080/"
        }
      },
      "execution_count": 19,
      "outputs": [
        {
          "output_type": "execute_result",
          "data": {
            "text/plain": [
              "array([[9.7005379e-01, 3.4817233e-04, 4.5939181e-05, 2.8088609e-02,\n",
              "        2.0152051e-04, 1.2619926e-03],\n",
              "       [1.5984830e-06, 8.4761217e-07, 2.8542451e-07, 2.5319922e-04,\n",
              "        9.9903345e-01, 7.1062392e-04],\n",
              "       [1.2507688e-06, 1.7946029e-05, 9.9997699e-01, 1.6328501e-07,\n",
              "        9.4074238e-07, 2.7383419e-06],\n",
              "       ...,\n",
              "       [2.0310945e-05, 1.0448007e-06, 7.0884016e-06, 1.8028959e-05,\n",
              "        9.9884218e-01, 1.1113677e-03],\n",
              "       [2.8313164e-06, 7.3172436e-07, 9.8978421e-07, 4.1697924e-05,\n",
              "        9.9991035e-01, 4.3422089e-05],\n",
              "       [2.5640220e-05, 9.9985099e-01, 1.1020072e-04, 1.1142313e-05,\n",
              "        1.4049955e-06, 5.9590792e-07]], dtype=float32)"
            ]
          },
          "metadata": {},
          "execution_count": 19
        }
      ]
    },
    {
      "cell_type": "code",
      "source": [
        "preds=predictions.argmax(axis=1)\n",
        "preds"
      ],
      "metadata": {
        "id": "IWZvTQCa1W6M",
        "outputId": "51b73ec2-f6e9-4e89-8cb1-a99b9d881607",
        "colab": {
          "base_uri": "https://localhost:8080/"
        }
      },
      "execution_count": 20,
      "outputs": [
        {
          "output_type": "execute_result",
          "data": {
            "text/plain": [
              "array([0, 4, 2, 5, 5, 2, 5, 1, 4, 0, 3, 1, 4, 0, 4, 5, 4, 1, 1, 1, 5, 2,\n",
              "       0, 2, 2, 5, 3, 5, 5, 5, 5, 4, 5, 0, 2, 2, 4, 1, 5, 4, 2, 2, 1, 5,\n",
              "       2, 0, 5, 5, 5, 5, 4, 2, 1, 3, 5, 0, 5, 0, 2, 5, 4, 4, 5, 3, 0, 3,\n",
              "       2, 4, 5, 1, 1, 2, 5, 5, 5, 4, 0, 3, 4, 4, 3, 4, 4, 0, 4, 1, 2, 3,\n",
              "       3, 5, 5, 1, 0, 1, 5, 5, 1, 2, 5, 3, 4, 3, 3, 5, 5, 3, 2, 1, 4, 1,\n",
              "       5, 1, 0, 1, 4, 0, 4, 4, 1, 1, 2, 5, 1, 4, 1, 2, 3, 2, 5, 1, 2, 0,\n",
              "       1, 5, 1, 0, 5, 0, 1, 1, 2, 1, 2, 3, 1, 2, 3, 0, 0, 3, 2, 3, 5, 3,\n",
              "       1, 2, 1, 3, 0, 0, 1, 3, 3, 2, 4, 1, 3, 3, 5, 4, 4, 3, 1, 4, 3, 1,\n",
              "       5, 0, 4, 5, 4, 0, 3, 5, 3, 3, 1, 3, 3, 4, 1, 4, 4, 0, 4, 4, 3, 1,\n",
              "       4, 5, 3, 2, 5, 2, 4, 4, 1])"
            ]
          },
          "metadata": {},
          "execution_count": 20
        }
      ]
    },
    {
      "cell_type": "code",
      "source": [
        "new_preds = preds.astype(int).flatten()\n",
        "new_preds"
      ],
      "metadata": {
        "id": "0CpgXIkh1Z_v",
        "outputId": "98793440-9ef9-466e-b11f-03a6ca85085b",
        "colab": {
          "base_uri": "https://localhost:8080/"
        }
      },
      "execution_count": 21,
      "outputs": [
        {
          "output_type": "execute_result",
          "data": {
            "text/plain": [
              "array([0, 4, 2, 5, 5, 2, 5, 1, 4, 0, 3, 1, 4, 0, 4, 5, 4, 1, 1, 1, 5, 2,\n",
              "       0, 2, 2, 5, 3, 5, 5, 5, 5, 4, 5, 0, 2, 2, 4, 1, 5, 4, 2, 2, 1, 5,\n",
              "       2, 0, 5, 5, 5, 5, 4, 2, 1, 3, 5, 0, 5, 0, 2, 5, 4, 4, 5, 3, 0, 3,\n",
              "       2, 4, 5, 1, 1, 2, 5, 5, 5, 4, 0, 3, 4, 4, 3, 4, 4, 0, 4, 1, 2, 3,\n",
              "       3, 5, 5, 1, 0, 1, 5, 5, 1, 2, 5, 3, 4, 3, 3, 5, 5, 3, 2, 1, 4, 1,\n",
              "       5, 1, 0, 1, 4, 0, 4, 4, 1, 1, 2, 5, 1, 4, 1, 2, 3, 2, 5, 1, 2, 0,\n",
              "       1, 5, 1, 0, 5, 0, 1, 1, 2, 1, 2, 3, 1, 2, 3, 0, 0, 3, 2, 3, 5, 3,\n",
              "       1, 2, 1, 3, 0, 0, 1, 3, 3, 2, 4, 1, 3, 3, 5, 4, 4, 3, 1, 4, 3, 1,\n",
              "       5, 0, 4, 5, 4, 0, 3, 5, 3, 3, 1, 3, 3, 4, 1, 4, 4, 0, 4, 4, 3, 1,\n",
              "       4, 5, 3, 2, 5, 2, 4, 4, 1])"
            ]
          },
          "metadata": {},
          "execution_count": 21
        }
      ]
    },
    {
      "cell_type": "code",
      "source": [
        "\n",
        "from sklearn.metrics import classification_report, confusion_matrix,accuracy_score\n",
        "import seaborn as sn\n",
        "import pandas as pd\n",
        "import numpy as np\n",
        "new_labels=np.argmax(labels_test, axis=1)\n",
        "print(classification_report(new_labels,new_preds))\n",
        "\n",
        "acc = float(accuracy_score(new_labels,new_preds))*100\n",
        "print(\"----accuracy score %s ----\" % acc)\n",
        "\n",
        "cm = confusion_matrix(new_labels,new_preds)\n",
        "#df_cm = pd.DataFrame(cm)\n",
        "class_names = ['neutral','calm', 'happy','sad','angry', 'fearful' ]\n",
        "df_cm = pd.DataFrame(cm, index=class_names, columns=class_names,)\n",
        "sn.heatmap(df_cm, annot=True, fmt='')\n",
        "plt.show()"
      ],
      "metadata": {
        "id": "7U3HwUqc1cft",
        "outputId": "5d38ec72-c602-49eb-f86a-0709afd754bb",
        "colab": {
          "base_uri": "https://localhost:8080/",
          "height": 508
        }
      },
      "execution_count": 22,
      "outputs": [
        {
          "output_type": "stream",
          "name": "stdout",
          "text": [
            "              precision    recall  f1-score   support\n",
            "\n",
            "           0       0.88      0.78      0.82        27\n",
            "           1       0.95      0.84      0.89        44\n",
            "           2       0.93      0.90      0.92        30\n",
            "           3       0.91      0.88      0.90        34\n",
            "           4       0.84      0.94      0.89        34\n",
            "           5       0.86      1.00      0.93        38\n",
            "\n",
            "    accuracy                           0.89       207\n",
            "   macro avg       0.89      0.89      0.89       207\n",
            "weighted avg       0.90      0.89      0.89       207\n",
            "\n",
            "----accuracy score 89.3719806763285 ----\n"
          ]
        },
        {
          "output_type": "display_data",
          "data": {
            "text/plain": [
              "<Figure size 432x288 with 2 Axes>"
            ],
            "image/png": "[encoded data removed]"
          },
          "metadata": {
            "needs_background": "light"
          }
        }
      ]
    },
    {
      "cell_type": "code",
      "source": [
        ""
      ],
      "metadata": {
        "id": "pVlEoCq0-0n3"
      },
      "execution_count": 22,
      "outputs": []
    }
  ]
}