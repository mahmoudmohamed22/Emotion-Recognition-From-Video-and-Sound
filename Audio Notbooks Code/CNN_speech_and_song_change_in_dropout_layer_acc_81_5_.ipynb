{
  "nbformat": 4,
  "nbformat_minor": 0,
  "metadata": {
    "colab": {
      "name": "CNN speech and song change in dropout layer acc 81.5% .ipynb",
      "provenance": [],
      "collapsed_sections": []
    },
    "kernelspec": {
      "name": "python3",
      "display_name": "Python 3"
    },
    "language_info": {
      "name": "python"
    }
  },
  "cells": [
    {
      "cell_type": "code",
      "execution_count": null,
      "metadata": {
        "colab": {
          "base_uri": "https://localhost:8080/"
        },
        "id": "9SRCO-a_AlH5",
        "outputId": "1dbcecfa-f972-4581-db79-036a9779d2bd"
      },
      "outputs": [
        {
          "output_type": "stream",
          "name": "stdout",
          "text": [
            "Mounted at /content/drive\n"
          ]
        }
      ],
      "source": [
        "from google.colab import drive\n",
        "drive.mount('/content/drive')"
      ]
    },
    {
      "cell_type": "code",
      "metadata": {
        "id": "HJjcbxwy46bG",
        "colab": {
          "base_uri": "https://localhost:8080/",
          "height": 17
        },
        "outputId": "4a94bcc4-14c5-4e25-9ccb-02c8696c15dd"
      },
      "source": [
        "# Orignial Notebook: https://github.com/MITESHPUTHRANNEU/Speech-Emotion-Analyzer/blob/master/final_results_gender_test.ipynb\n",
        "# This notebook author: Reza Chu\n",
        "# Last Editing Date: 31st May 2019\n",
        "\n",
        "## Python\n",
        "import os\n",
        "import random\n",
        "import sys\n",
        "\n",
        "import IPython\n",
        "from IPython.display import Audio\n",
        "from IPython.display import Image\n",
        "import matplotlib.pyplot as plt\n",
        "\n",
        "## Package\n",
        "import glob \n",
        "import keras\n",
        "import IPython.display as ipd\n",
        "import librosa\n",
        "import librosa.display\n",
        "import matplotlib.pyplot as plt\n",
        "import numpy as np\n",
        "import pandas as pd\n",
        "import plotly.graph_objs as go\n",
        "import plotly.offline as py\n",
        "import plotly.tools as tls\n",
        "import seaborn as sns\n",
        "import scipy.io.wavfile\n",
        "import tensorflow as tf\n",
        "py.init_notebook_mode(connected=True)\n",
        "\n",
        "## Keras\n",
        "from keras import regularizers\n",
        "from keras.callbacks import ModelCheckpoint, LearningRateScheduler, EarlyStopping\n",
        "from keras.callbacks import  History, ReduceLROnPlateau, CSVLogger\n",
        "from keras.models import Model, Sequential\n",
        "from keras.layers import Dense, Embedding, LSTM\n",
        "from keras.layers import Input, Flatten, Dropout, Activation, BatchNormalization\n",
        "from keras.layers import Conv1D, MaxPooling1D, AveragePooling1D\n",
        "from keras.preprocessing import sequence\n",
        "from keras.preprocessing.sequence import pad_sequences\n",
        "from keras.preprocessing.text import Tokenizer\n",
        "from keras.utils import np_utils\n",
        "from tensorflow.keras.utils import to_categorical\n",
        "\n",
        "## Sklearn\n",
        "from sklearn.metrics import confusion_matrix\n",
        "from sklearn.preprocessing import LabelEncoder\n",
        "\n",
        "## Rest\n",
        "from scipy.fftpack import fft\n",
        "from scipy import signal\n",
        "from scipy.io import wavfile\n",
        "from tqdm import tqdm\n",
        "\n",
        "input_duration=3\n",
        "# % pylab inline"
      ],
      "execution_count": null,
      "outputs": [
        {
          "output_type": "display_data",
          "data": {
            "text/html": [
              "        <script type=\"text/javascript\">\n",
              "        window.PlotlyConfig = {MathJaxConfig: 'local'};\n",
              "        if (window.MathJax) {MathJax.Hub.Config({SVG: {font: \"STIX-Web\"}});}\n",
              "        if (typeof require !== 'undefined') {\n",
              "        require.undef(\"plotly\");\n",
              "        requirejs.config({\n",
              "            paths: {\n",
              "                'plotly': ['https://cdn.plot.ly/plotly-2.8.3.min']\n",
              "            }\n",
              "        });\n",
              "        require(['plotly'], function(Plotly) {\n",
              "            window._Plotly = Plotly;\n",
              "        });\n",
              "        }\n",
              "        </script>\n",
              "        "
            ]
          },
          "metadata": {}
        }
      ]
    },
    {
      "cell_type": "code",
      "source": [
        "#radvass speech and song\n",
        "import time\n",
        "import os\n",
        "import librosa\n",
        "from librosa import display\n",
        "import matplotlib.pyplot as plt\n",
        "\n",
        "count=0\n",
        "path1 = '/content/drive/My Drive/data_set/RAVDESS_speech'\n",
        "path2 = '/content/drive/My Drive/data_set/RAVDESS_song'\n",
        "\n",
        "lst = []\n",
        "\n",
        "start_time = time.time()\n",
        "\n",
        "for subdir, dirs, files in os.walk(path2):\n",
        "  #print(dirs)\n",
        "  #print(subdir)\n",
        "  #print(files)\n",
        "  for file in files:\n",
        "      try:\n",
        "        count +=1\n",
        "        #Load librosa array, obtain mfcss, store the file and the mcss information in a new array\n",
        "        X, sample_rate = librosa.load(os.path.join(subdir,file), res_type='kaiser_fast')\n",
        "        #mfccs = np.mean(librosa.feature.mfcc(y=X, sr=sample_rate, n_mfcc=40).T,axis=0) \n",
        "        # The instruction below converts the labels (from 1 to 8) to a series from 0 to 7\n",
        "        # This is because our predictor needs to start from 0 otherwise it will try to predict also 0.\n",
        "        emo = int(file[7:8]) - 1 \n",
        "        arr = X, emo\n",
        "        lst.append(arr)\n",
        "      # If the file is not valid, skip it\n",
        "      except ValueError:\n",
        "        continue\n",
        "\n",
        "for subdir, dirs, files in os.walk(path1):\n",
        "  #print(dirs)\n",
        "  #print(subdir)\n",
        " # print(files)\n",
        "  for file in files:\n",
        "      try:\n",
        "        emo = int(file[7:8]) - 1 \n",
        "        if(emo==6 or emo==7):\n",
        "          continue\n",
        "        #Load librosa array, obtain mfcss, store the file and the mcss information in a new array\n",
        "        X, sample_rate = librosa.load(os.path.join(subdir,file), res_type='kaiser_fast')\n",
        "        #mfccs = np.mean(librosa.feature.mfcc(y=X, sr=sample_rate, n_mfcc=40).T,axis=0) \n",
        "        # The instruction below converts the labels (from 1 to 8) to a series from 0 to 7\n",
        "        # This is because our predictor needs to start from 0 otherwise it will try to predict also 0.\n",
        "        count +=1\n",
        "        arr = X, emo\n",
        "        lst.append(arr)\n",
        "      # If the file is not valid, skip it\n",
        "      except ValueError:\n",
        "        continue\n",
        "print(\"--- Data loaded. Loading time: %s seconds ---\" % (time.time() - start_time))"
      ],
      "metadata": {
        "colab": {
          "base_uri": "https://localhost:8080/"
        },
        "id": "IfuyRZl42ccZ",
        "outputId": "cd48af31-3dcf-4c2f-b339-261f6b2a214b"
      },
      "execution_count": null,
      "outputs": [
        {
          "output_type": "stream",
          "name": "stdout",
          "text": [
            "--- Data loaded. Loading time: 540.6192402839661 seconds ---\n"
          ]
        }
      ]
    },
    {
      "cell_type": "code",
      "source": [
        "from numpy.core.fromnumeric import size\n",
        "size(lst)"
      ],
      "metadata": {
        "colab": {
          "base_uri": "https://localhost:8080/"
        },
        "id": "HMOH7d7mzHB7",
        "outputId": "055e3a55-a6da-4d78-b9ab-394b63712bca"
      },
      "execution_count": null,
      "outputs": [
        {
          "output_type": "stream",
          "name": "stderr",
          "text": [
            "/usr/local/lib/python3.7/dist-packages/numpy/core/fromnumeric.py:3208: VisibleDeprecationWarning:\n",
            "\n",
            "Creating an ndarray from ragged nested sequences (which is a list-or-tuple of lists-or-tuples-or ndarrays with different lengths or shapes) is deprecated. If you meant to do this, you must specify 'dtype=object' when creating the ndarray.\n",
            "\n"
          ]
        },
        {
          "output_type": "execute_result",
          "data": {
            "text/plain": [
              "4136"
            ]
          },
          "metadata": {},
          "execution_count": 4
        }
      ]
    },
    {
      "cell_type": "code",
      "source": [
        "# Creating X and y: zip makes a list of all the first elements, and a list of all the second elements.\n",
        "audio_file, emotion = zip(*lst)"
      ],
      "metadata": {
        "id": "QSTRDNOgHLr6"
      },
      "execution_count": null,
      "outputs": []
    },
    {
      "cell_type": "code",
      "source": [
        "audio_file=np.asarray(audio_file)\n",
        "emotion=np.asarray(emotion)"
      ],
      "metadata": {
        "colab": {
          "base_uri": "https://localhost:8080/"
        },
        "id": "Ong1QDBXHrvk",
        "outputId": "bf998947-5fa6-46dc-b41d-58cc20c5afe9"
      },
      "execution_count": null,
      "outputs": [
        {
          "output_type": "stream",
          "name": "stderr",
          "text": [
            "/usr/local/lib/python3.7/dist-packages/ipykernel_launcher.py:1: VisibleDeprecationWarning:\n",
            "\n",
            "Creating an ndarray from ragged nested sequences (which is a list-or-tuple of lists-or-tuples-or ndarrays with different lengths or shapes) is deprecated. If you meant to do this, you must specify 'dtype=object' when creating the ndarray.\n",
            "\n"
          ]
        }
      ]
    },
    {
      "cell_type": "code",
      "source": [
        "emotion.shape,audio_file.shape"
      ],
      "metadata": {
        "colab": {
          "base_uri": "https://localhost:8080/"
        },
        "id": "2sUCtbfMztE5",
        "outputId": "0bdfb955-fc6f-4e52-82ce-98fd5b2f6c54"
      },
      "execution_count": null,
      "outputs": [
        {
          "output_type": "execute_result",
          "data": {
            "text/plain": [
              "((2068,), (2068,))"
            ]
          },
          "metadata": {},
          "execution_count": 7
        }
      ]
    },
    {
      "cell_type": "code",
      "source": [
        "from sklearn.model_selection import train_test_split\n",
        "\n",
        "signal_train, signal_test, emo_train, emo_test = train_test_split(audio_file,emotion, test_size=0.20, random_state=42)"
      ],
      "metadata": {
        "id": "62_CZk5SH_08"
      },
      "execution_count": null,
      "outputs": []
    },
    {
      "cell_type": "code",
      "source": [
        "signal_valid, signal_test, emo_valid, emo_test = train_test_split(signal_test,emo_test, test_size=0.5,train_size=0.5, random_state=42)"
      ],
      "metadata": {
        "id": "3yaCr-AlIhEK"
      },
      "execution_count": null,
      "outputs": []
    },
    {
      "cell_type": "code",
      "source": [
        "signal_train.shape,signal_valid.shape,signal_test.shape"
      ],
      "metadata": {
        "colab": {
          "base_uri": "https://localhost:8080/"
        },
        "id": "bmJZBOwkI58f",
        "outputId": "89ecd4dd-5843-43c0-ed26-fcbb3a7d5376"
      },
      "execution_count": null,
      "outputs": [
        {
          "output_type": "execute_result",
          "data": {
            "text/plain": [
              "((1654,), (207,), (207,))"
            ]
          },
          "metadata": {},
          "execution_count": 10
        }
      ]
    },
    {
      "cell_type": "code",
      "source": [
        "x_valid=[]\n",
        "x_test=[]\n",
        "for i in range(signal_valid.size):\n",
        "  x_valid.append(np.mean(librosa.feature.mfcc(y=signal_valid[i], sr=sample_rate, n_mfcc=40).T,axis=0))\n",
        "  #x_valid.append(np.mean(librosa.feature.chroma_stft(S=np.abs(librosa.stft(signal_valid[i])), sr=sample_rate ,n_chroma=12).T,axis=0))\n",
        "\n",
        "for i in range(signal_test.size):\n",
        "  x_test.append(np.mean(librosa.feature.mfcc(y=signal_test[i], sr=sample_rate, n_mfcc=40).T,axis=0))\n",
        "  #x_test.append(np.mean(librosa.feature.chroma_stft(S=np.abs(librosa.stft(signal_test[i])), sr=sample_rate,n_chroma=12).T,axis=0))"
      ],
      "metadata": {
        "id": "cc-N9EM8KXlq"
      },
      "execution_count": null,
      "outputs": []
    },
    {
      "cell_type": "code",
      "source": [
        "x_valid=np.asarray(x_valid)\n",
        "x_test=np.asarray(x_test)"
      ],
      "metadata": {
        "id": "FjxfamKtNikQ"
      },
      "execution_count": null,
      "outputs": []
    },
    {
      "cell_type": "code",
      "source": [
        "x_valid.shape,x_test.shape"
      ],
      "metadata": {
        "colab": {
          "base_uri": "https://localhost:8080/"
        },
        "id": "2BEbwS0hNlvq",
        "outputId": "812071bf-6262-48f7-8f10-26624a01199a"
      },
      "execution_count": null,
      "outputs": [
        {
          "output_type": "execute_result",
          "data": {
            "text/plain": [
              "((207, 40), (207, 40))"
            ]
          },
          "metadata": {},
          "execution_count": 13
        }
      ]
    },
    {
      "cell_type": "code",
      "source": [
        "train_lst=[]\n",
        "for i in range(signal_train.size):\n",
        "  emo=emo_train[i]\n",
        "  x=signal_train[i]\n",
        "  arr=x,emo\n",
        "  train_lst.append(arr)\n",
        "  x=librosa.effects.time_stretch(signal_train[i],0.5)\n",
        "  arr=x,emo\n",
        "  train_lst.append(arr)\n",
        "  x=librosa.effects.time_stretch(signal_train[i],1.5)\n",
        "  arr=x,emo\n",
        "  train_lst.append(arr)\n",
        "  x=librosa.effects.pitch_shift(signal_train[i],sample_rate,2)\n",
        "  arr=x,emo\n",
        "  train_lst.append(arr)"
      ],
      "metadata": {
        "id": "xf2odgMXQgOH"
      },
      "execution_count": null,
      "outputs": []
    },
    {
      "cell_type": "code",
      "source": [
        "signal, y_train = zip(*train_lst)"
      ],
      "metadata": {
        "id": "CMkZ_U0rZs0z"
      },
      "execution_count": null,
      "outputs": []
    },
    {
      "cell_type": "code",
      "source": [
        ""
      ],
      "metadata": {
        "id": "bKfs8hblNBaW"
      },
      "execution_count": null,
      "outputs": []
    },
    {
      "cell_type": "code",
      "source": [
        "signal=np.asarray(signal)\n",
        "y_train=np.asarray(y_train)"
      ],
      "metadata": {
        "colab": {
          "base_uri": "https://localhost:8080/"
        },
        "id": "IJbOKuiIaBxx",
        "outputId": "c89412aa-9fb8-4a8b-c4af-ab3fa8187d15"
      },
      "execution_count": null,
      "outputs": [
        {
          "output_type": "stream",
          "name": "stderr",
          "text": [
            "/usr/local/lib/python3.7/dist-packages/ipykernel_launcher.py:1: VisibleDeprecationWarning:\n",
            "\n",
            "Creating an ndarray from ragged nested sequences (which is a list-or-tuple of lists-or-tuples-or ndarrays with different lengths or shapes) is deprecated. If you meant to do this, you must specify 'dtype=object' when creating the ndarray.\n",
            "\n"
          ]
        }
      ]
    },
    {
      "cell_type": "code",
      "source": [
        "x_train=[]\n",
        "for i in range(signal.size):\n",
        "  x_train.append(np.mean(librosa.feature.mfcc(y=signal[i], sr=sample_rate, n_mfcc=40).T,axis=0))\n",
        "  #x_train.append(np.mean(librosa.feature.chroma_stft(S=np.abs(librosa.stft(signal_valid[i])), sr=sample_rate , n_chroma=12 ).T,axis=0))"
      ],
      "metadata": {
        "id": "Y_9_-pxcWjtj"
      },
      "execution_count": null,
      "outputs": []
    },
    {
      "cell_type": "code",
      "source": [
        "x_train=np.asarray(x_train)"
      ],
      "metadata": {
        "id": "W-giRONHaPnr"
      },
      "execution_count": null,
      "outputs": []
    },
    {
      "cell_type": "code",
      "source": [
        "x_train.shape"
      ],
      "metadata": {
        "colab": {
          "base_uri": "https://localhost:8080/"
        },
        "id": "TxH7IFawa__X",
        "outputId": "31f9f85c-9da7-4d0b-ddda-ff40b52bf846"
      },
      "execution_count": null,
      "outputs": [
        {
          "output_type": "execute_result",
          "data": {
            "text/plain": [
              "(6616, 40)"
            ]
          },
          "metadata": {},
          "execution_count": 21
        }
      ]
    },
    {
      "cell_type": "code",
      "source": [
        "y_train.shape"
      ],
      "metadata": {
        "colab": {
          "base_uri": "https://localhost:8080/"
        },
        "id": "AvCXMuBobZAo",
        "outputId": "e02d47bf-e958-40d2-e5c7-3cabac8eb2b7"
      },
      "execution_count": null,
      "outputs": [
        {
          "output_type": "execute_result",
          "data": {
            "text/plain": [
              "(6616,)"
            ]
          },
          "metadata": {},
          "execution_count": 22
        }
      ]
    },
    {
      "cell_type": "code",
      "source": [
        "# soruce:(https://keras.io/examples/nlp/text_classification_with_transformer/)\n",
        "import tensorflow as tf\n",
        "from tensorflow import keras\n",
        "from tensorflow.keras import layers\n",
        "class TransformerBlock(layers.Layer):\n",
        "    def __init__(self, embed_dim, num_heads, ff_dim, rate=0.1):\n",
        "        super(TransformerBlock, self).__init__()\n",
        "        self.att = layers.MultiHeadAttention(num_heads=num_heads,\n",
        "                                             key_dim=embed_dim)\n",
        "        self.ffn = keras.Sequential([\n",
        "            layers.Dense(ff_dim, activation=\"relu\"),\n",
        "            layers.Dense(embed_dim),\n",
        "        ])\n",
        "        self.layernorm1 = layers.LayerNormalization(epsilon=1e-6)\n",
        "        self.layernorm2 = layers.LayerNormalization(epsilon=1e-6)\n",
        "        self.dropout1 = layers.Dropout(rate)\n",
        "        self.dropout2 = layers.Dropout(rate)\n",
        "\n",
        "    def call(self, inputs, training):\n",
        "        attn_output = self.att(inputs, inputs)  # self-attention layer\n",
        "        attn_output = self.dropout1(attn_output, training=training)\n",
        "        out1 = self.layernorm1(inputs + attn_output)  # layer norm\n",
        "        ffn_output = self.ffn(out1)  #feed-forward layer\n",
        "        ffn_output = self.dropout2(ffn_output, training=training)\n",
        "        return self.layernorm2(out1 + ffn_output)  # layer norm"
      ],
      "metadata": {
        "id": "qklxASTmvsKt"
      },
      "execution_count": null,
      "outputs": []
    },
    {
      "cell_type": "code",
      "source": [
        "'''embed_dim = 256  # Embedding size for each token\n",
        "num_heads = 2  # Number of attention heads\n",
        "ff_dim = 256  # Hidden layer size in feed forward network inside transformer'''\n",
        "import keras\n",
        "import numpy as np\n",
        "import matplotlib.pyplot as plt\n",
        "import tensorflow as tf\n",
        "from keras.preprocessing import sequence\n",
        "from keras.models import Sequential\n",
        "from keras.layers import Dense, Embedding\n",
        "from tensorflow.keras.utils import to_categorical\n",
        "from keras.layers import Input, Flatten, Dropout, Activation\n",
        "from keras.layers import Conv1D, MaxPooling1D\n",
        "from keras.models import Model\n",
        "from keras.callbacks import ModelCheckpoint\n",
        "from tensorflow.keras import optimizers\n",
        "\n",
        "model = Sequential()\n",
        "\n",
        "model.add(Conv1D(64, 5,padding='same', #classifier.add(Convolution2D(64, (3, 3), padding = 'same', input_shape = (128, 128, 3), activation = 'relu'))\n",
        "                 input_shape=(40,1)))\n",
        "model.add(Activation('relu'))\n",
        "model.add(Dropout(0.1))\n",
        "model.add(MaxPooling1D(pool_size=(4)))\n",
        "model.add(Conv1D(128, 5,padding='same',))\n",
        "model.add(Activation('relu'))\n",
        "model.add(Dropout(0.1))\n",
        "model.add(MaxPooling1D(pool_size=(4)))\n",
        "model.add(Conv1D(256, 5,padding='same',))\n",
        "model.add(Activation('relu'))\n",
        "model.add(Dropout(0.1))\n",
        "model.add(TransformerBlock(256, 2, 256))\n",
        "model.add(Flatten())\n",
        "model.add(Dense(6))\n",
        "model.add(Activation('softmax'))\n",
        "opt = tf.keras.optimizers.RMSprop(lr=0.0001, rho=0.9, epsilon=1e-07, decay=0.0)\n",
        "#opt = tf.keras.optimizers.SGD(lr=0.001, momentum=0.0, decay=0.0, nesterov=False)"
      ],
      "metadata": {
        "colab": {
          "base_uri": "https://localhost:8080/"
        },
        "id": "g74fXWVAC4Cr",
        "outputId": "4c119a70-e58b-42ee-db18-289a5ad14d29"
      },
      "execution_count": null,
      "outputs": [
        {
          "output_type": "stream",
          "name": "stderr",
          "text": [
            "/usr/local/lib/python3.7/dist-packages/keras/optimizer_v2/rmsprop.py:130: UserWarning:\n",
            "\n",
            "The `lr` argument is deprecated, use `learning_rate` instead.\n",
            "\n"
          ]
        }
      ]
    },
    {
      "cell_type": "code",
      "source": [
        "#adding new layer\n",
        "import keras\n",
        "import numpy as np\n",
        "import matplotlib.pyplot as plt\n",
        "import tensorflow as tf\n",
        "from keras.preprocessing import sequence\n",
        "from keras.models import Sequential\n",
        "from keras.layers import Dense, Embedding\n",
        "from tensorflow.keras.utils import to_categorical\n",
        "from keras.layers import Input, Flatten, Dropout, Activation\n",
        "from keras.layers import Conv1D, MaxPooling1D\n",
        "from keras.models import Model\n",
        "from keras.callbacks import ModelCheckpoint\n",
        "from tensorflow.keras import optimizers\n",
        "\n",
        "\n",
        "model = Sequential()\n",
        "\n",
        "model.add(Conv1D(64, 5,padding='same', #classifier.add(Convolution2D(64, (3, 3), padding = 'same', input_shape = (128, 128, 3), activation = 'relu'))\n",
        "                 input_shape=(40,1)))\n",
        "model.add(Activation('relu'))\n",
        "model.add(Dropout(0.1))\n",
        "model.add(MaxPooling1D(pool_size=(4)))\n",
        "model.add(Conv1D(128, 5,padding='same',))\n",
        "model.add(Activation('relu'))\n",
        "model.add(Dropout(0.3))\n",
        "model.add(MaxPooling1D(pool_size=(4)))\n",
        "model.add(Conv1D(128, 5,padding='same',))\n",
        "model.add(Activation('relu'))\n",
        "model.add(Dropout(0.3))\n",
        "model.add(MaxPooling1D(pool_size=(2)))\n",
        "model.add(Conv1D(256, 5,padding='same',))\n",
        "model.add(Activation('relu'))\n",
        "model.add(Dropout(0.4))\n",
        "model.add(Flatten())\n",
        "model.add(Dense(6))\n",
        "model.add(Activation('softmax'))\n",
        "opt = tf.keras.optimizers.RMSprop(lr=0.0001, rho=0.9, epsilon=1e-07, decay=0.0)\n",
        "#opt = tf.keras.optimizers.SGD(lr=0.001, momentum=0.0, decay=0.0, nesterov=False)"
      ],
      "metadata": {
        "id": "gudVTxSh0_hK",
        "colab": {
          "base_uri": "https://localhost:8080/"
        },
        "outputId": "53affb46-f741-4673-88a6-14af87fc7be3"
      },
      "execution_count": null,
      "outputs": [
        {
          "output_type": "stream",
          "name": "stderr",
          "text": [
            "/usr/local/lib/python3.7/dist-packages/keras/optimizer_v2/rmsprop.py:130: UserWarning:\n",
            "\n",
            "The `lr` argument is deprecated, use `learning_rate` instead.\n",
            "\n"
          ]
        }
      ]
    },
    {
      "cell_type": "code",
      "source": [
        "\n"
      ],
      "metadata": {
        "id": "2RDXmfETt5xX"
      },
      "execution_count": null,
      "outputs": []
    },
    {
      "cell_type": "code",
      "source": [
        "#changing dropout\n",
        "import keras\n",
        "import numpy as np\n",
        "import matplotlib.pyplot as plt\n",
        "import tensorflow as tf\n",
        "from keras.preprocessing import sequence\n",
        "from keras.models import Sequential\n",
        "from keras.layers import Dense, Embedding\n",
        "from tensorflow.keras.utils import to_categorical\n",
        "from keras.layers import Input, Flatten, Dropout, Activation\n",
        "from keras.layers import Conv1D, MaxPooling1D\n",
        "from keras.models import Model\n",
        "from keras.callbacks import ModelCheckpoint\n",
        "from tensorflow.keras import optimizers\n",
        "\n",
        "\n",
        "model = Sequential()\n",
        "\n",
        "model.add(Conv1D(64, 5,padding='same', #classifier.add(Convolution2D(64, (3, 3), padding = 'same', input_shape = (128, 128, 3), activation = 'relu'))\n",
        "                 input_shape=(40,1)))\n",
        "model.add(Activation('sigmoid'))\n",
        "model.add(Dropout(0.1))\n",
        "model.add(MaxPooling1D(pool_size=(4)))\n",
        "model.add(Conv1D(128, 5,padding='same',))\n",
        "model.add(Activation('sigmoid'))\n",
        "model.add(Dropout(0.3))\n",
        "model.add(MaxPooling1D(pool_size=(4)))\n",
        "model.add(Conv1D(256, 5,padding='same',))\n",
        "model.add(Activation('sigmoid'))\n",
        "model.add(Dropout(0.4))\n",
        "model.add(Flatten())\n",
        "model.add(Dense(6))\n",
        "model.add(Activation('softmax'))\n",
        "opt = tf.keras.optimizers.RMSprop(lr=0.0001, rho=0.9, epsilon=1e-07, decay=0.0)\n",
        "#opt = tf.keras.optimizers.SGD(lr=0.001, momentum=0.0, decay=0.0, nesterov=False)"
      ],
      "metadata": {
        "id": "xXlmfjiQ04ha"
      },
      "execution_count": null,
      "outputs": []
    },
    {
      "cell_type": "code",
      "source": [
        "model.summary()"
      ],
      "metadata": {
        "colab": {
          "base_uri": "https://localhost:8080/"
        },
        "id": "H6ukOxAGC_I4",
        "outputId": "4c22f01f-fa55-493d-c063-ced5e7eb62b3"
      },
      "execution_count": null,
      "outputs": [
        {
          "output_type": "stream",
          "name": "stdout",
          "text": [
            "Model: \"sequential_2\"\n",
            "_________________________________________________________________\n",
            " Layer (type)                Output Shape              Param #   \n",
            "=================================================================\n",
            " conv1d_3 (Conv1D)           (None, 40, 64)            384       \n",
            "                                                                 \n",
            " activation_3 (Activation)   (None, 40, 64)            0         \n",
            "                                                                 \n",
            " dropout_5 (Dropout)         (None, 40, 64)            0         \n",
            "                                                                 \n",
            " max_pooling1d_2 (MaxPooling  (None, 10, 64)           0         \n",
            " 1D)                                                             \n",
            "                                                                 \n",
            " conv1d_4 (Conv1D)           (None, 10, 128)           41088     \n",
            "                                                                 \n",
            " activation_4 (Activation)   (None, 10, 128)           0         \n",
            "                                                                 \n",
            " dropout_6 (Dropout)         (None, 10, 128)           0         \n",
            "                                                                 \n",
            " max_pooling1d_3 (MaxPooling  (None, 2, 128)           0         \n",
            " 1D)                                                             \n",
            "                                                                 \n",
            " conv1d_5 (Conv1D)           (None, 2, 256)            164096    \n",
            "                                                                 \n",
            " activation_5 (Activation)   (None, 2, 256)            0         \n",
            "                                                                 \n",
            " dropout_7 (Dropout)         (None, 2, 256)            0         \n",
            "                                                                 \n",
            " transformer_block_1 (Transf  (None, 2, 256)           658688    \n",
            " ormerBlock)                                                     \n",
            "                                                                 \n",
            " flatten (Flatten)           (None, 512)               0         \n",
            "                                                                 \n",
            " dense_4 (Dense)             (None, 6)                 3078      \n",
            "                                                                 \n",
            " activation_6 (Activation)   (None, 6)                 0         \n",
            "                                                                 \n",
            "=================================================================\n",
            "Total params: 867,334\n",
            "Trainable params: 867,334\n",
            "Non-trainable params: 0\n",
            "_________________________________________________________________\n"
          ]
        }
      ]
    },
    {
      "cell_type": "code",
      "source": [
        "model.compile(loss='sparse_categorical_crossentropy',\n",
        "              optimizer=opt,\n",
        "              metrics=['accuracy'])"
      ],
      "metadata": {
        "id": "AbMlLNk4DCBM"
      },
      "execution_count": null,
      "outputs": []
    },
    {
      "cell_type": "code",
      "source": [
        "cnnhistory=model.fit(x_train, y_train, batch_size=16, epochs=500, validation_data=(x_valid, emo_valid))\n",
        "#cnnhistory=model.fit(x_traincnn, y_train, batch_size=16, epochs=700,validation_split=0.1)"
      ],
      "metadata": {
        "colab": {
          "base_uri": "https://localhost:8080/"
        },
        "id": "RI1v2AuADFhy",
        "outputId": "25b57089-1d04-4701-e212-903495cfd710"
      },
      "execution_count": null,
      "outputs": [
        {
          "output_type": "stream",
          "name": "stdout",
          "text": [
            "Epoch 1/500\n",
            "414/414 [==============================] - 16s 32ms/step - loss: 1.8232 - accuracy: 0.2355 - val_loss: 1.5687 - val_accuracy: 0.3140\n",
            "Epoch 2/500\n",
            "414/414 [==============================] - 14s 34ms/step - loss: 1.6449 - accuracy: 0.2959 - val_loss: 1.5811 - val_accuracy: 0.3237\n",
            "Epoch 3/500\n",
            "414/414 [==============================] - 13s 31ms/step - loss: 1.5467 - accuracy: 0.3430 - val_loss: 1.3366 - val_accuracy: 0.4686\n",
            "Epoch 4/500\n",
            "414/414 [==============================] - 13s 31ms/step - loss: 1.4680 - accuracy: 0.3974 - val_loss: 1.7033 - val_accuracy: 0.3188\n",
            "Epoch 5/500\n",
            "414/414 [==============================] - 13s 31ms/step - loss: 1.3874 - accuracy: 0.4262 - val_loss: 1.9445 - val_accuracy: 0.2995\n",
            "Epoch 6/500\n",
            "414/414 [==============================] - 13s 31ms/step - loss: 1.3282 - accuracy: 0.4500 - val_loss: 1.6325 - val_accuracy: 0.3913\n",
            "Epoch 7/500\n",
            "414/414 [==============================] - 13s 31ms/step - loss: 1.2574 - accuracy: 0.4912 - val_loss: 1.4854 - val_accuracy: 0.4251\n",
            "Epoch 8/500\n",
            "414/414 [==============================] - 13s 31ms/step - loss: 1.2204 - accuracy: 0.5039 - val_loss: 1.4486 - val_accuracy: 0.4783\n",
            "Epoch 9/500\n",
            "414/414 [==============================] - 13s 31ms/step - loss: 1.1890 - accuracy: 0.5119 - val_loss: 1.4480 - val_accuracy: 0.4493\n",
            "Epoch 10/500\n",
            "414/414 [==============================] - 14s 35ms/step - loss: 1.1519 - accuracy: 0.5307 - val_loss: 1.1228 - val_accuracy: 0.5652\n",
            "Epoch 11/500\n",
            "414/414 [==============================] - 12s 29ms/step - loss: 1.1154 - accuracy: 0.5390 - val_loss: 1.5873 - val_accuracy: 0.4155\n",
            "Epoch 12/500\n",
            "414/414 [==============================] - 12s 30ms/step - loss: 1.0767 - accuracy: 0.5596 - val_loss: 1.9818 - val_accuracy: 0.3623\n",
            "Epoch 13/500\n",
            "414/414 [==============================] - 13s 31ms/step - loss: 1.0472 - accuracy: 0.5704 - val_loss: 1.9320 - val_accuracy: 0.4203\n",
            "Epoch 14/500\n",
            "414/414 [==============================] - 13s 31ms/step - loss: 1.0295 - accuracy: 0.5809 - val_loss: 0.9180 - val_accuracy: 0.6377\n",
            "Epoch 15/500\n",
            "414/414 [==============================] - 13s 31ms/step - loss: 1.0009 - accuracy: 0.5875 - val_loss: 1.7973 - val_accuracy: 0.3961\n",
            "Epoch 16/500\n",
            "414/414 [==============================] - 13s 31ms/step - loss: 0.9654 - accuracy: 0.6069 - val_loss: 1.6998 - val_accuracy: 0.4444\n",
            "Epoch 17/500\n",
            "414/414 [==============================] - 13s 32ms/step - loss: 0.9465 - accuracy: 0.6171 - val_loss: 1.8538 - val_accuracy: 0.3913\n",
            "Epoch 18/500\n",
            "414/414 [==============================] - 13s 32ms/step - loss: 0.9337 - accuracy: 0.6226 - val_loss: 1.3776 - val_accuracy: 0.4976\n",
            "Epoch 19/500\n",
            "414/414 [==============================] - 12s 30ms/step - loss: 0.9024 - accuracy: 0.6283 - val_loss: 1.6282 - val_accuracy: 0.4589\n",
            "Epoch 20/500\n",
            "414/414 [==============================] - 12s 29ms/step - loss: 0.8904 - accuracy: 0.6406 - val_loss: 1.0580 - val_accuracy: 0.5652\n",
            "Epoch 21/500\n",
            "414/414 [==============================] - 12s 30ms/step - loss: 0.8614 - accuracy: 0.6498 - val_loss: 1.0677 - val_accuracy: 0.5942\n",
            "Epoch 22/500\n",
            "414/414 [==============================] - 13s 31ms/step - loss: 0.8548 - accuracy: 0.6583 - val_loss: 0.9066 - val_accuracy: 0.6522\n",
            "Epoch 23/500\n",
            "414/414 [==============================] - 13s 31ms/step - loss: 0.8443 - accuracy: 0.6536 - val_loss: 1.4578 - val_accuracy: 0.4976\n",
            "Epoch 24/500\n",
            "414/414 [==============================] - 13s 31ms/step - loss: 0.8075 - accuracy: 0.6761 - val_loss: 1.2371 - val_accuracy: 0.5459\n",
            "Epoch 25/500\n",
            "414/414 [==============================] - 13s 32ms/step - loss: 0.8019 - accuracy: 0.6784 - val_loss: 1.3288 - val_accuracy: 0.5072\n",
            "Epoch 26/500\n",
            "414/414 [==============================] - 13s 32ms/step - loss: 0.7969 - accuracy: 0.6781 - val_loss: 1.2286 - val_accuracy: 0.5411\n",
            "Epoch 27/500\n",
            "414/414 [==============================] - 13s 31ms/step - loss: 0.7731 - accuracy: 0.6874 - val_loss: 1.4135 - val_accuracy: 0.5362\n",
            "Epoch 28/500\n",
            "414/414 [==============================] - 13s 31ms/step - loss: 0.7572 - accuracy: 0.6979 - val_loss: 1.3083 - val_accuracy: 0.5217\n",
            "Epoch 29/500\n",
            "414/414 [==============================] - 13s 31ms/step - loss: 0.7414 - accuracy: 0.7019 - val_loss: 1.5697 - val_accuracy: 0.5314\n",
            "Epoch 30/500\n",
            "414/414 [==============================] - 13s 30ms/step - loss: 0.7365 - accuracy: 0.7087 - val_loss: 1.0375 - val_accuracy: 0.6039\n",
            "Epoch 31/500\n",
            "414/414 [==============================] - 13s 31ms/step - loss: 0.7174 - accuracy: 0.7078 - val_loss: 0.9454 - val_accuracy: 0.6377\n",
            "Epoch 32/500\n",
            "414/414 [==============================] - 13s 31ms/step - loss: 0.7027 - accuracy: 0.7180 - val_loss: 1.4418 - val_accuracy: 0.5459\n",
            "Epoch 33/500\n",
            "414/414 [==============================] - 13s 32ms/step - loss: 0.6857 - accuracy: 0.7340 - val_loss: 1.3454 - val_accuracy: 0.5652\n",
            "Epoch 34/500\n",
            "414/414 [==============================] - 13s 31ms/step - loss: 0.6924 - accuracy: 0.7207 - val_loss: 1.0080 - val_accuracy: 0.6522\n",
            "Epoch 35/500\n",
            "414/414 [==============================] - 13s 31ms/step - loss: 0.6532 - accuracy: 0.7390 - val_loss: 1.5102 - val_accuracy: 0.5217\n",
            "Epoch 36/500\n",
            "414/414 [==============================] - 12s 30ms/step - loss: 0.6530 - accuracy: 0.7399 - val_loss: 1.1003 - val_accuracy: 0.6329\n",
            "Epoch 37/500\n",
            "414/414 [==============================] - 13s 31ms/step - loss: 0.6380 - accuracy: 0.7511 - val_loss: 1.2128 - val_accuracy: 0.5797\n",
            "Epoch 38/500\n",
            "414/414 [==============================] - 13s 31ms/step - loss: 0.6277 - accuracy: 0.7521 - val_loss: 0.8192 - val_accuracy: 0.6908\n",
            "Epoch 39/500\n",
            "414/414 [==============================] - 13s 31ms/step - loss: 0.6098 - accuracy: 0.7600 - val_loss: 1.3891 - val_accuracy: 0.5894\n",
            "Epoch 40/500\n",
            "414/414 [==============================] - 13s 31ms/step - loss: 0.5893 - accuracy: 0.7687 - val_loss: 1.3113 - val_accuracy: 0.6184\n",
            "Epoch 41/500\n",
            "414/414 [==============================] - 13s 31ms/step - loss: 0.5887 - accuracy: 0.7680 - val_loss: 1.0055 - val_accuracy: 0.6522\n",
            "Epoch 42/500\n",
            "414/414 [==============================] - 13s 31ms/step - loss: 0.5687 - accuracy: 0.7811 - val_loss: 1.1843 - val_accuracy: 0.6280\n",
            "Epoch 43/500\n",
            "414/414 [==============================] - 13s 30ms/step - loss: 0.5695 - accuracy: 0.7792 - val_loss: 1.2197 - val_accuracy: 0.6232\n",
            "Epoch 44/500\n",
            "414/414 [==============================] - 12s 30ms/step - loss: 0.5497 - accuracy: 0.7894 - val_loss: 1.1127 - val_accuracy: 0.6715\n",
            "Epoch 45/500\n",
            "414/414 [==============================] - 12s 29ms/step - loss: 0.5490 - accuracy: 0.7914 - val_loss: 1.3450 - val_accuracy: 0.5942\n",
            "Epoch 46/500\n",
            "414/414 [==============================] - 12s 30ms/step - loss: 0.5168 - accuracy: 0.8012 - val_loss: 1.0177 - val_accuracy: 0.6425\n",
            "Epoch 47/500\n",
            "414/414 [==============================] - 13s 32ms/step - loss: 0.5188 - accuracy: 0.8000 - val_loss: 0.9995 - val_accuracy: 0.6329\n",
            "Epoch 48/500\n",
            "414/414 [==============================] - 13s 30ms/step - loss: 0.5088 - accuracy: 0.7976 - val_loss: 1.0573 - val_accuracy: 0.6473\n",
            "Epoch 49/500\n",
            "414/414 [==============================] - 12s 30ms/step - loss: 0.5166 - accuracy: 0.8003 - val_loss: 1.8687 - val_accuracy: 0.5411\n",
            "Epoch 50/500\n",
            "414/414 [==============================] - 12s 30ms/step - loss: 0.5011 - accuracy: 0.8061 - val_loss: 1.3399 - val_accuracy: 0.6087\n",
            "Epoch 51/500\n",
            "414/414 [==============================] - 13s 30ms/step - loss: 0.4725 - accuracy: 0.8133 - val_loss: 1.1040 - val_accuracy: 0.6667\n",
            "Epoch 52/500\n",
            "414/414 [==============================] - 13s 32ms/step - loss: 0.4572 - accuracy: 0.8253 - val_loss: 1.5986 - val_accuracy: 0.5990\n",
            "Epoch 53/500\n",
            "414/414 [==============================] - 13s 32ms/step - loss: 0.4660 - accuracy: 0.8168 - val_loss: 1.1077 - val_accuracy: 0.6667\n",
            "Epoch 54/500\n",
            "414/414 [==============================] - 12s 30ms/step - loss: 0.4522 - accuracy: 0.8254 - val_loss: 1.0557 - val_accuracy: 0.6763\n",
            "Epoch 55/500\n",
            "414/414 [==============================] - 13s 31ms/step - loss: 0.4389 - accuracy: 0.8312 - val_loss: 1.1877 - val_accuracy: 0.6184\n",
            "Epoch 56/500\n",
            "414/414 [==============================] - 13s 31ms/step - loss: 0.4259 - accuracy: 0.8362 - val_loss: 1.3534 - val_accuracy: 0.6377\n",
            "Epoch 57/500\n",
            "414/414 [==============================] - 13s 32ms/step - loss: 0.4213 - accuracy: 0.8354 - val_loss: 1.2468 - val_accuracy: 0.6184\n",
            "Epoch 58/500\n",
            "414/414 [==============================] - 13s 32ms/step - loss: 0.3959 - accuracy: 0.8492 - val_loss: 1.3578 - val_accuracy: 0.6184\n",
            "Epoch 59/500\n",
            "414/414 [==============================] - 13s 31ms/step - loss: 0.4241 - accuracy: 0.8365 - val_loss: 1.0506 - val_accuracy: 0.6957\n",
            "Epoch 60/500\n",
            "414/414 [==============================] - 12s 30ms/step - loss: 0.4041 - accuracy: 0.8445 - val_loss: 1.3495 - val_accuracy: 0.6377\n",
            "Epoch 61/500\n",
            "414/414 [==============================] - 12s 30ms/step - loss: 0.3936 - accuracy: 0.8525 - val_loss: 1.2777 - val_accuracy: 0.6522\n",
            "Epoch 62/500\n",
            "414/414 [==============================] - 13s 31ms/step - loss: 0.3769 - accuracy: 0.8582 - val_loss: 1.2298 - val_accuracy: 0.6522\n",
            "Epoch 63/500\n",
            "414/414 [==============================] - 13s 32ms/step - loss: 0.3615 - accuracy: 0.8619 - val_loss: 1.5126 - val_accuracy: 0.6425\n",
            "Epoch 64/500\n",
            "414/414 [==============================] - 13s 31ms/step - loss: 0.3665 - accuracy: 0.8611 - val_loss: 1.1546 - val_accuracy: 0.6812\n",
            "Epoch 65/500\n",
            "414/414 [==============================] - 13s 31ms/step - loss: 0.3676 - accuracy: 0.8587 - val_loss: 1.5702 - val_accuracy: 0.6135\n",
            "Epoch 66/500\n",
            "414/414 [==============================] - 13s 31ms/step - loss: 0.3550 - accuracy: 0.8626 - val_loss: 1.5363 - val_accuracy: 0.6377\n",
            "Epoch 67/500\n",
            "414/414 [==============================] - 14s 33ms/step - loss: 0.3427 - accuracy: 0.8671 - val_loss: 1.1315 - val_accuracy: 0.6667\n",
            "Epoch 68/500\n",
            "414/414 [==============================] - 13s 31ms/step - loss: 0.3386 - accuracy: 0.8724 - val_loss: 1.3417 - val_accuracy: 0.6522\n",
            "Epoch 69/500\n",
            "414/414 [==============================] - 13s 32ms/step - loss: 0.3269 - accuracy: 0.8817 - val_loss: 1.1557 - val_accuracy: 0.6812\n",
            "Epoch 70/500\n",
            "414/414 [==============================] - 13s 33ms/step - loss: 0.3164 - accuracy: 0.8789 - val_loss: 1.1984 - val_accuracy: 0.6860\n",
            "Epoch 71/500\n",
            "414/414 [==============================] - 13s 32ms/step - loss: 0.3264 - accuracy: 0.8807 - val_loss: 1.5269 - val_accuracy: 0.6329\n",
            "Epoch 72/500\n",
            "414/414 [==============================] - 13s 32ms/step - loss: 0.3127 - accuracy: 0.8866 - val_loss: 1.1167 - val_accuracy: 0.7150\n",
            "Epoch 73/500\n",
            "414/414 [==============================] - 13s 33ms/step - loss: 0.3051 - accuracy: 0.8881 - val_loss: 0.9399 - val_accuracy: 0.7440\n",
            "Epoch 74/500\n",
            "414/414 [==============================] - 13s 31ms/step - loss: 0.2985 - accuracy: 0.8881 - val_loss: 1.0809 - val_accuracy: 0.7391\n",
            "Epoch 75/500\n",
            "414/414 [==============================] - 13s 31ms/step - loss: 0.2961 - accuracy: 0.8863 - val_loss: 1.0577 - val_accuracy: 0.7343\n",
            "Epoch 76/500\n",
            "414/414 [==============================] - 13s 31ms/step - loss: 0.2834 - accuracy: 0.8930 - val_loss: 1.2338 - val_accuracy: 0.7053\n",
            "Epoch 77/500\n",
            "414/414 [==============================] - 13s 32ms/step - loss: 0.2863 - accuracy: 0.8936 - val_loss: 1.1838 - val_accuracy: 0.7101\n",
            "Epoch 78/500\n",
            "414/414 [==============================] - 13s 32ms/step - loss: 0.2780 - accuracy: 0.8998 - val_loss: 1.5287 - val_accuracy: 0.6425\n",
            "Epoch 79/500\n",
            "414/414 [==============================] - 13s 32ms/step - loss: 0.2783 - accuracy: 0.8960 - val_loss: 1.0834 - val_accuracy: 0.7246\n",
            "Epoch 80/500\n",
            "414/414 [==============================] - 13s 31ms/step - loss: 0.2668 - accuracy: 0.8987 - val_loss: 1.1451 - val_accuracy: 0.7246\n",
            "Epoch 81/500\n",
            "414/414 [==============================] - 14s 33ms/step - loss: 0.2661 - accuracy: 0.9054 - val_loss: 1.3082 - val_accuracy: 0.6908\n",
            "Epoch 82/500\n",
            "414/414 [==============================] - 13s 31ms/step - loss: 0.2545 - accuracy: 0.9030 - val_loss: 1.1300 - val_accuracy: 0.7198\n",
            "Epoch 83/500\n",
            "414/414 [==============================] - 13s 31ms/step - loss: 0.2536 - accuracy: 0.9076 - val_loss: 1.1837 - val_accuracy: 0.7246\n",
            "Epoch 84/500\n",
            "414/414 [==============================] - 13s 32ms/step - loss: 0.2501 - accuracy: 0.9076 - val_loss: 1.4555 - val_accuracy: 0.6860\n",
            "Epoch 85/500\n",
            "414/414 [==============================] - 13s 32ms/step - loss: 0.2630 - accuracy: 0.9007 - val_loss: 1.1171 - val_accuracy: 0.6957\n",
            "Epoch 86/500\n",
            "414/414 [==============================] - 13s 32ms/step - loss: 0.2506 - accuracy: 0.9063 - val_loss: 1.2339 - val_accuracy: 0.7198\n",
            "Epoch 87/500\n",
            "414/414 [==============================] - 13s 30ms/step - loss: 0.2378 - accuracy: 0.9126 - val_loss: 1.3719 - val_accuracy: 0.6908\n",
            "Epoch 88/500\n",
            "414/414 [==============================] - 13s 31ms/step - loss: 0.2390 - accuracy: 0.9134 - val_loss: 1.1025 - val_accuracy: 0.7536\n",
            "Epoch 89/500\n",
            "414/414 [==============================] - 13s 31ms/step - loss: 0.2301 - accuracy: 0.9167 - val_loss: 1.1163 - val_accuracy: 0.7246\n",
            "Epoch 90/500\n",
            "414/414 [==============================] - 13s 32ms/step - loss: 0.2210 - accuracy: 0.9166 - val_loss: 1.4275 - val_accuracy: 0.7198\n",
            "Epoch 91/500\n",
            "414/414 [==============================] - 13s 32ms/step - loss: 0.2200 - accuracy: 0.9202 - val_loss: 1.3072 - val_accuracy: 0.7295\n",
            "Epoch 92/500\n",
            "414/414 [==============================] - 13s 32ms/step - loss: 0.2113 - accuracy: 0.9208 - val_loss: 1.0870 - val_accuracy: 0.7536\n",
            "Epoch 93/500\n",
            "414/414 [==============================] - 13s 31ms/step - loss: 0.2260 - accuracy: 0.9225 - val_loss: 1.2588 - val_accuracy: 0.7295\n",
            "Epoch 94/500\n",
            "414/414 [==============================] - 13s 31ms/step - loss: 0.2096 - accuracy: 0.9235 - val_loss: 1.2052 - val_accuracy: 0.7295\n",
            "Epoch 95/500\n",
            "414/414 [==============================] - 13s 32ms/step - loss: 0.2084 - accuracy: 0.9252 - val_loss: 1.1406 - val_accuracy: 0.7391\n",
            "Epoch 96/500\n",
            "414/414 [==============================] - 13s 32ms/step - loss: 0.2119 - accuracy: 0.9238 - val_loss: 1.2214 - val_accuracy: 0.7343\n",
            "Epoch 97/500\n",
            "414/414 [==============================] - 13s 32ms/step - loss: 0.2034 - accuracy: 0.9264 - val_loss: 1.1107 - val_accuracy: 0.7536\n",
            "Epoch 98/500\n",
            "414/414 [==============================] - 13s 32ms/step - loss: 0.1936 - accuracy: 0.9315 - val_loss: 1.2089 - val_accuracy: 0.6908\n",
            "Epoch 99/500\n",
            "414/414 [==============================] - 13s 31ms/step - loss: 0.1890 - accuracy: 0.9296 - val_loss: 1.1970 - val_accuracy: 0.7391\n",
            "Epoch 100/500\n",
            "414/414 [==============================] - 13s 32ms/step - loss: 0.1844 - accuracy: 0.9314 - val_loss: 1.0325 - val_accuracy: 0.7585\n",
            "Epoch 101/500\n",
            "414/414 [==============================] - 13s 32ms/step - loss: 0.1956 - accuracy: 0.9300 - val_loss: 1.0755 - val_accuracy: 0.7778\n",
            "Epoch 102/500\n",
            "414/414 [==============================] - 13s 32ms/step - loss: 0.1951 - accuracy: 0.9273 - val_loss: 1.2595 - val_accuracy: 0.6957\n",
            "Epoch 103/500\n",
            "414/414 [==============================] - 13s 32ms/step - loss: 0.1905 - accuracy: 0.9326 - val_loss: 1.2778 - val_accuracy: 0.7198\n",
            "Epoch 104/500\n",
            "414/414 [==============================] - 13s 31ms/step - loss: 0.1824 - accuracy: 0.9352 - val_loss: 1.2133 - val_accuracy: 0.7295\n",
            "Epoch 105/500\n",
            "414/414 [==============================] - 13s 32ms/step - loss: 0.1816 - accuracy: 0.9341 - val_loss: 1.0334 - val_accuracy: 0.7874\n",
            "Epoch 106/500\n",
            "414/414 [==============================] - 14s 33ms/step - loss: 0.1752 - accuracy: 0.9370 - val_loss: 1.2089 - val_accuracy: 0.7633\n",
            "Epoch 107/500\n",
            "414/414 [==============================] - 14s 33ms/step - loss: 0.1699 - accuracy: 0.9386 - val_loss: 1.2802 - val_accuracy: 0.7536\n",
            "Epoch 108/500\n",
            "414/414 [==============================] - 14s 33ms/step - loss: 0.1764 - accuracy: 0.9352 - val_loss: 1.1579 - val_accuracy: 0.7440\n",
            "Epoch 109/500\n",
            "414/414 [==============================] - 14s 33ms/step - loss: 0.1731 - accuracy: 0.9386 - val_loss: 1.3371 - val_accuracy: 0.7391\n",
            "Epoch 110/500\n",
            "414/414 [==============================] - 13s 33ms/step - loss: 0.1749 - accuracy: 0.9382 - val_loss: 1.2132 - val_accuracy: 0.7488\n",
            "Epoch 111/500\n",
            "414/414 [==============================] - 14s 33ms/step - loss: 0.1661 - accuracy: 0.9383 - val_loss: 1.1524 - val_accuracy: 0.7488\n",
            "Epoch 112/500\n",
            "414/414 [==============================] - 14s 33ms/step - loss: 0.1596 - accuracy: 0.9415 - val_loss: 1.3681 - val_accuracy: 0.6957\n",
            "Epoch 113/500\n",
            "414/414 [==============================] - 14s 33ms/step - loss: 0.1594 - accuracy: 0.9418 - val_loss: 1.2256 - val_accuracy: 0.7633\n",
            "Epoch 114/500\n",
            "414/414 [==============================] - 14s 33ms/step - loss: 0.1584 - accuracy: 0.9417 - val_loss: 1.1237 - val_accuracy: 0.7633\n",
            "Epoch 115/500\n",
            "414/414 [==============================] - 14s 33ms/step - loss: 0.1695 - accuracy: 0.9382 - val_loss: 1.0807 - val_accuracy: 0.7633\n",
            "Epoch 116/500\n",
            "414/414 [==============================] - 14s 33ms/step - loss: 0.1593 - accuracy: 0.9442 - val_loss: 1.1921 - val_accuracy: 0.7488\n",
            "Epoch 117/500\n",
            "414/414 [==============================] - 14s 33ms/step - loss: 0.1464 - accuracy: 0.9450 - val_loss: 1.2314 - val_accuracy: 0.7440\n",
            "Epoch 118/500\n",
            "414/414 [==============================] - 14s 33ms/step - loss: 0.1634 - accuracy: 0.9407 - val_loss: 1.2185 - val_accuracy: 0.7536\n",
            "Epoch 119/500\n",
            "414/414 [==============================] - 13s 33ms/step - loss: 0.1670 - accuracy: 0.9403 - val_loss: 1.1179 - val_accuracy: 0.7923\n",
            "Epoch 120/500\n",
            "414/414 [==============================] - 13s 33ms/step - loss: 0.1508 - accuracy: 0.9471 - val_loss: 1.0695 - val_accuracy: 0.7874\n",
            "Epoch 121/500\n",
            "414/414 [==============================] - 13s 32ms/step - loss: 0.1447 - accuracy: 0.9469 - val_loss: 1.1170 - val_accuracy: 0.7633\n",
            "Epoch 122/500\n",
            "414/414 [==============================] - 13s 32ms/step - loss: 0.1441 - accuracy: 0.9453 - val_loss: 1.1426 - val_accuracy: 0.7681\n",
            "Epoch 123/500\n",
            "414/414 [==============================] - 13s 31ms/step - loss: 0.1381 - accuracy: 0.9512 - val_loss: 1.1585 - val_accuracy: 0.7681\n",
            "Epoch 124/500\n",
            "414/414 [==============================] - 13s 31ms/step - loss: 0.1390 - accuracy: 0.9521 - val_loss: 1.5000 - val_accuracy: 0.7101\n",
            "Epoch 125/500\n",
            "414/414 [==============================] - 13s 32ms/step - loss: 0.1495 - accuracy: 0.9477 - val_loss: 1.2789 - val_accuracy: 0.7778\n",
            "Epoch 126/500\n",
            "414/414 [==============================] - 13s 32ms/step - loss: 0.1392 - accuracy: 0.9480 - val_loss: 1.3169 - val_accuracy: 0.7391\n",
            "Epoch 127/500\n",
            "414/414 [==============================] - 13s 31ms/step - loss: 0.1393 - accuracy: 0.9521 - val_loss: 1.2239 - val_accuracy: 0.7536\n",
            "Epoch 128/500\n",
            "414/414 [==============================] - 13s 32ms/step - loss: 0.1336 - accuracy: 0.9541 - val_loss: 1.1956 - val_accuracy: 0.7536\n",
            "Epoch 129/500\n",
            "414/414 [==============================] - 13s 32ms/step - loss: 0.1316 - accuracy: 0.9542 - val_loss: 1.3674 - val_accuracy: 0.7633\n",
            "Epoch 130/500\n",
            "414/414 [==============================] - 13s 32ms/step - loss: 0.1271 - accuracy: 0.9534 - val_loss: 1.2117 - val_accuracy: 0.7681\n",
            "Epoch 131/500\n",
            "414/414 [==============================] - 13s 33ms/step - loss: 0.1311 - accuracy: 0.9551 - val_loss: 1.2291 - val_accuracy: 0.7681\n",
            "Epoch 132/500\n",
            "414/414 [==============================] - 14s 33ms/step - loss: 0.1299 - accuracy: 0.9537 - val_loss: 1.1763 - val_accuracy: 0.7585\n",
            "Epoch 133/500\n",
            "414/414 [==============================] - 14s 33ms/step - loss: 0.1303 - accuracy: 0.9528 - val_loss: 1.3376 - val_accuracy: 0.7198\n",
            "Epoch 134/500\n",
            "414/414 [==============================] - 13s 31ms/step - loss: 0.1381 - accuracy: 0.9498 - val_loss: 1.2338 - val_accuracy: 0.7440\n",
            "Epoch 135/500\n",
            "414/414 [==============================] - 13s 31ms/step - loss: 0.1181 - accuracy: 0.9586 - val_loss: 1.4332 - val_accuracy: 0.7246\n",
            "Epoch 136/500\n",
            "414/414 [==============================] - 13s 33ms/step - loss: 0.1123 - accuracy: 0.9598 - val_loss: 1.4049 - val_accuracy: 0.7585\n",
            "Epoch 137/500\n",
            "414/414 [==============================] - 13s 32ms/step - loss: 0.1246 - accuracy: 0.9565 - val_loss: 1.1516 - val_accuracy: 0.7681\n",
            "Epoch 138/500\n",
            "414/414 [==============================] - 13s 32ms/step - loss: 0.1306 - accuracy: 0.9541 - val_loss: 1.2293 - val_accuracy: 0.7681\n",
            "Epoch 139/500\n",
            "414/414 [==============================] - 13s 32ms/step - loss: 0.1276 - accuracy: 0.9563 - val_loss: 1.1941 - val_accuracy: 0.7826\n",
            "Epoch 140/500\n",
            "414/414 [==============================] - 13s 31ms/step - loss: 0.1128 - accuracy: 0.9577 - val_loss: 1.2608 - val_accuracy: 0.7488\n",
            "Epoch 141/500\n",
            "414/414 [==============================] - 14s 33ms/step - loss: 0.1023 - accuracy: 0.9615 - val_loss: 1.4878 - val_accuracy: 0.7198\n",
            "Epoch 142/500\n",
            "414/414 [==============================] - 13s 31ms/step - loss: 0.1190 - accuracy: 0.9575 - val_loss: 1.2539 - val_accuracy: 0.7585\n",
            "Epoch 143/500\n",
            "414/414 [==============================] - 13s 32ms/step - loss: 0.1278 - accuracy: 0.9537 - val_loss: 1.3954 - val_accuracy: 0.7440\n",
            "Epoch 144/500\n",
            "414/414 [==============================] - 13s 32ms/step - loss: 0.1242 - accuracy: 0.9557 - val_loss: 1.2150 - val_accuracy: 0.7729\n",
            "Epoch 145/500\n",
            "414/414 [==============================] - 13s 32ms/step - loss: 0.1123 - accuracy: 0.9612 - val_loss: 1.2136 - val_accuracy: 0.7681\n",
            "Epoch 146/500\n",
            "414/414 [==============================] - 13s 32ms/step - loss: 0.1090 - accuracy: 0.9612 - val_loss: 1.2226 - val_accuracy: 0.7681\n",
            "Epoch 147/500\n",
            "414/414 [==============================] - 14s 33ms/step - loss: 0.0978 - accuracy: 0.9654 - val_loss: 1.2728 - val_accuracy: 0.7826\n",
            "Epoch 148/500\n",
            "414/414 [==============================] - 13s 32ms/step - loss: 0.1042 - accuracy: 0.9624 - val_loss: 1.2374 - val_accuracy: 0.7681\n",
            "Epoch 149/500\n",
            "414/414 [==============================] - 13s 31ms/step - loss: 0.1211 - accuracy: 0.9580 - val_loss: 1.2029 - val_accuracy: 0.7536\n",
            "Epoch 150/500\n",
            "414/414 [==============================] - 13s 31ms/step - loss: 0.0935 - accuracy: 0.9663 - val_loss: 1.3392 - val_accuracy: 0.7585\n",
            "Epoch 151/500\n",
            "414/414 [==============================] - 13s 31ms/step - loss: 0.1143 - accuracy: 0.9595 - val_loss: 1.3441 - val_accuracy: 0.7440\n",
            "Epoch 152/500\n",
            "414/414 [==============================] - 13s 31ms/step - loss: 0.1121 - accuracy: 0.9627 - val_loss: 1.3199 - val_accuracy: 0.7729\n",
            "Epoch 153/500\n",
            "414/414 [==============================] - 13s 32ms/step - loss: 0.1042 - accuracy: 0.9621 - val_loss: 1.4860 - val_accuracy: 0.7343\n",
            "Epoch 154/500\n",
            "414/414 [==============================] - 13s 31ms/step - loss: 0.0988 - accuracy: 0.9649 - val_loss: 1.1527 - val_accuracy: 0.7826\n",
            "Epoch 155/500\n",
            "414/414 [==============================] - 13s 31ms/step - loss: 0.1009 - accuracy: 0.9637 - val_loss: 1.2509 - val_accuracy: 0.7633\n",
            "Epoch 156/500\n",
            "414/414 [==============================] - 13s 32ms/step - loss: 0.1028 - accuracy: 0.9631 - val_loss: 1.2541 - val_accuracy: 0.7874\n",
            "Epoch 157/500\n",
            "414/414 [==============================] - 13s 32ms/step - loss: 0.1003 - accuracy: 0.9651 - val_loss: 1.4998 - val_accuracy: 0.7488\n",
            "Epoch 158/500\n",
            "414/414 [==============================] - 13s 33ms/step - loss: 0.1006 - accuracy: 0.9634 - val_loss: 1.3998 - val_accuracy: 0.7585\n",
            "Epoch 159/500\n",
            "414/414 [==============================] - 13s 32ms/step - loss: 0.1016 - accuracy: 0.9674 - val_loss: 1.2843 - val_accuracy: 0.7585\n",
            "Epoch 160/500\n",
            "414/414 [==============================] - 13s 32ms/step - loss: 0.0996 - accuracy: 0.9664 - val_loss: 1.2911 - val_accuracy: 0.7681\n",
            "Epoch 161/500\n",
            "414/414 [==============================] - 14s 33ms/step - loss: 0.1066 - accuracy: 0.9618 - val_loss: 1.1891 - val_accuracy: 0.7874\n",
            "Epoch 162/500\n",
            "414/414 [==============================] - 13s 32ms/step - loss: 0.0991 - accuracy: 0.9658 - val_loss: 1.3323 - val_accuracy: 0.7488\n",
            "Epoch 163/500\n",
            "414/414 [==============================] - 13s 32ms/step - loss: 0.1049 - accuracy: 0.9655 - val_loss: 1.5336 - val_accuracy: 0.7391\n",
            "Epoch 164/500\n",
            "414/414 [==============================] - 13s 31ms/step - loss: 0.0991 - accuracy: 0.9680 - val_loss: 1.2470 - val_accuracy: 0.7681\n",
            "Epoch 165/500\n",
            "414/414 [==============================] - 13s 32ms/step - loss: 0.0978 - accuracy: 0.9687 - val_loss: 1.3371 - val_accuracy: 0.7778\n",
            "Epoch 166/500\n",
            "414/414 [==============================] - 13s 32ms/step - loss: 0.0932 - accuracy: 0.9670 - val_loss: 1.3587 - val_accuracy: 0.7440\n",
            "Epoch 167/500\n",
            "414/414 [==============================] - 14s 33ms/step - loss: 0.0985 - accuracy: 0.9667 - val_loss: 1.4322 - val_accuracy: 0.7488\n",
            "Epoch 168/500\n",
            "414/414 [==============================] - 14s 34ms/step - loss: 0.0994 - accuracy: 0.9654 - val_loss: 1.3848 - val_accuracy: 0.7536\n",
            "Epoch 169/500\n",
            "414/414 [==============================] - 13s 32ms/step - loss: 0.0915 - accuracy: 0.9686 - val_loss: 1.4134 - val_accuracy: 0.7536\n",
            "Epoch 170/500\n",
            "414/414 [==============================] - 13s 32ms/step - loss: 0.0918 - accuracy: 0.9684 - val_loss: 1.2571 - val_accuracy: 0.7585\n",
            "Epoch 171/500\n",
            "414/414 [==============================] - 13s 32ms/step - loss: 0.0861 - accuracy: 0.9702 - val_loss: 1.3787 - val_accuracy: 0.7778\n",
            "Epoch 172/500\n",
            "414/414 [==============================] - 13s 32ms/step - loss: 0.0864 - accuracy: 0.9683 - val_loss: 1.2315 - val_accuracy: 0.7729\n",
            "Epoch 173/500\n",
            "414/414 [==============================] - 14s 33ms/step - loss: 0.0905 - accuracy: 0.9680 - val_loss: 1.2857 - val_accuracy: 0.7536\n",
            "Epoch 174/500\n",
            "414/414 [==============================] - 13s 31ms/step - loss: 0.0922 - accuracy: 0.9680 - val_loss: 1.1593 - val_accuracy: 0.8019\n",
            "Epoch 175/500\n",
            "414/414 [==============================] - 13s 31ms/step - loss: 0.0866 - accuracy: 0.9722 - val_loss: 1.4715 - val_accuracy: 0.7488\n",
            "Epoch 176/500\n",
            "414/414 [==============================] - 13s 32ms/step - loss: 0.0813 - accuracy: 0.9732 - val_loss: 1.3584 - val_accuracy: 0.7778\n",
            "Epoch 177/500\n",
            "414/414 [==============================] - 13s 33ms/step - loss: 0.0955 - accuracy: 0.9669 - val_loss: 1.1691 - val_accuracy: 0.7874\n",
            "Epoch 178/500\n",
            "414/414 [==============================] - 13s 32ms/step - loss: 0.0830 - accuracy: 0.9723 - val_loss: 1.2170 - val_accuracy: 0.8019\n",
            "Epoch 179/500\n",
            "414/414 [==============================] - 13s 32ms/step - loss: 0.0900 - accuracy: 0.9692 - val_loss: 1.5019 - val_accuracy: 0.7391\n",
            "Epoch 180/500\n",
            "414/414 [==============================] - 13s 32ms/step - loss: 0.0969 - accuracy: 0.9674 - val_loss: 1.4312 - val_accuracy: 0.7729\n",
            "Epoch 181/500\n",
            "414/414 [==============================] - 14s 33ms/step - loss: 0.0803 - accuracy: 0.9740 - val_loss: 1.3722 - val_accuracy: 0.7585\n",
            "Epoch 182/500\n",
            "414/414 [==============================] - 14s 33ms/step - loss: 0.0870 - accuracy: 0.9699 - val_loss: 1.3547 - val_accuracy: 0.7585\n",
            "Epoch 183/500\n",
            "414/414 [==============================] - 14s 34ms/step - loss: 0.0758 - accuracy: 0.9723 - val_loss: 1.2960 - val_accuracy: 0.7633\n",
            "Epoch 184/500\n",
            "414/414 [==============================] - 13s 31ms/step - loss: 0.0771 - accuracy: 0.9714 - val_loss: 1.3125 - val_accuracy: 0.7729\n",
            "Epoch 185/500\n",
            "414/414 [==============================] - 14s 33ms/step - loss: 0.0770 - accuracy: 0.9737 - val_loss: 1.2579 - val_accuracy: 0.7971\n",
            "Epoch 186/500\n",
            "414/414 [==============================] - 13s 32ms/step - loss: 0.0875 - accuracy: 0.9716 - val_loss: 1.4113 - val_accuracy: 0.7536\n",
            "Epoch 187/500\n",
            "414/414 [==============================] - 13s 32ms/step - loss: 0.0882 - accuracy: 0.9710 - val_loss: 1.2491 - val_accuracy: 0.7488\n",
            "Epoch 188/500\n",
            "414/414 [==============================] - 13s 32ms/step - loss: 0.0782 - accuracy: 0.9751 - val_loss: 1.3219 - val_accuracy: 0.7729\n",
            "Epoch 189/500\n",
            "414/414 [==============================] - 14s 33ms/step - loss: 0.0723 - accuracy: 0.9758 - val_loss: 1.4557 - val_accuracy: 0.7585\n",
            "Epoch 190/500\n",
            "414/414 [==============================] - 14s 33ms/step - loss: 0.0794 - accuracy: 0.9725 - val_loss: 1.3688 - val_accuracy: 0.7874\n",
            "Epoch 191/500\n",
            "414/414 [==============================] - 13s 32ms/step - loss: 0.0880 - accuracy: 0.9717 - val_loss: 1.2772 - val_accuracy: 0.8116\n",
            "Epoch 192/500\n",
            "414/414 [==============================] - 13s 32ms/step - loss: 0.0778 - accuracy: 0.9735 - val_loss: 1.2743 - val_accuracy: 0.7874\n",
            "Epoch 193/500\n",
            "414/414 [==============================] - 13s 33ms/step - loss: 0.0904 - accuracy: 0.9719 - val_loss: 1.4202 - val_accuracy: 0.7681\n",
            "Epoch 194/500\n",
            "414/414 [==============================] - 13s 32ms/step - loss: 0.0752 - accuracy: 0.9757 - val_loss: 1.3591 - val_accuracy: 0.7681\n",
            "Epoch 195/500\n",
            "414/414 [==============================] - 13s 33ms/step - loss: 0.0728 - accuracy: 0.9751 - val_loss: 1.4674 - val_accuracy: 0.7536\n",
            "Epoch 196/500\n",
            "414/414 [==============================] - 14s 33ms/step - loss: 0.0756 - accuracy: 0.9745 - val_loss: 1.2912 - val_accuracy: 0.7826\n",
            "Epoch 197/500\n",
            "414/414 [==============================] - 14s 33ms/step - loss: 0.0748 - accuracy: 0.9745 - val_loss: 1.2902 - val_accuracy: 0.7971\n",
            "Epoch 198/500\n",
            "414/414 [==============================] - 14s 33ms/step - loss: 0.0722 - accuracy: 0.9755 - val_loss: 1.4291 - val_accuracy: 0.7681\n",
            "Epoch 199/500\n",
            "414/414 [==============================] - 14s 33ms/step - loss: 0.0801 - accuracy: 0.9732 - val_loss: 1.3067 - val_accuracy: 0.7874\n",
            "Epoch 200/500\n",
            "414/414 [==============================] - 14s 33ms/step - loss: 0.0762 - accuracy: 0.9749 - val_loss: 1.3316 - val_accuracy: 0.7778\n",
            "Epoch 201/500\n",
            "414/414 [==============================] - 14s 34ms/step - loss: 0.0723 - accuracy: 0.9743 - val_loss: 1.3191 - val_accuracy: 0.7971\n",
            "Epoch 202/500\n",
            "414/414 [==============================] - 14s 34ms/step - loss: 0.0810 - accuracy: 0.9726 - val_loss: 1.2556 - val_accuracy: 0.7874\n",
            "Epoch 203/500\n",
            "414/414 [==============================] - 14s 33ms/step - loss: 0.0774 - accuracy: 0.9757 - val_loss: 1.3562 - val_accuracy: 0.7681\n",
            "Epoch 204/500\n",
            "414/414 [==============================] - 14s 33ms/step - loss: 0.0774 - accuracy: 0.9745 - val_loss: 1.3329 - val_accuracy: 0.7585\n",
            "Epoch 205/500\n",
            "414/414 [==============================] - 14s 33ms/step - loss: 0.0864 - accuracy: 0.9713 - val_loss: 1.3278 - val_accuracy: 0.7826\n",
            "Epoch 206/500\n",
            "414/414 [==============================] - 14s 33ms/step - loss: 0.0737 - accuracy: 0.9731 - val_loss: 1.2270 - val_accuracy: 0.7923\n",
            "Epoch 207/500\n",
            "414/414 [==============================] - 14s 34ms/step - loss: 0.0822 - accuracy: 0.9717 - val_loss: 1.3355 - val_accuracy: 0.7971\n",
            "Epoch 208/500\n",
            "414/414 [==============================] - 14s 34ms/step - loss: 0.0769 - accuracy: 0.9755 - val_loss: 1.2637 - val_accuracy: 0.7923\n",
            "Epoch 209/500\n",
            "414/414 [==============================] - 14s 35ms/step - loss: 0.0771 - accuracy: 0.9746 - val_loss: 1.1960 - val_accuracy: 0.7826\n",
            "Epoch 210/500\n",
            "414/414 [==============================] - 14s 35ms/step - loss: 0.0666 - accuracy: 0.9791 - val_loss: 1.3142 - val_accuracy: 0.7923\n",
            "Epoch 211/500\n",
            "414/414 [==============================] - 14s 35ms/step - loss: 0.0714 - accuracy: 0.9764 - val_loss: 1.3051 - val_accuracy: 0.7923\n",
            "Epoch 212/500\n",
            "414/414 [==============================] - 14s 35ms/step - loss: 0.0824 - accuracy: 0.9731 - val_loss: 1.3273 - val_accuracy: 0.7536\n",
            "Epoch 213/500\n",
            "414/414 [==============================] - 14s 34ms/step - loss: 0.0754 - accuracy: 0.9772 - val_loss: 1.3038 - val_accuracy: 0.7826\n",
            "Epoch 214/500\n",
            "414/414 [==============================] - 15s 35ms/step - loss: 0.0697 - accuracy: 0.9773 - val_loss: 1.3201 - val_accuracy: 0.7826\n",
            "Epoch 215/500\n",
            "414/414 [==============================] - 14s 35ms/step - loss: 0.0807 - accuracy: 0.9737 - val_loss: 1.1162 - val_accuracy: 0.8116\n",
            "Epoch 216/500\n",
            "414/414 [==============================] - 14s 34ms/step - loss: 0.0722 - accuracy: 0.9751 - val_loss: 1.3824 - val_accuracy: 0.7729\n",
            "Epoch 217/500\n",
            "414/414 [==============================] - 14s 35ms/step - loss: 0.0624 - accuracy: 0.9800 - val_loss: 1.2247 - val_accuracy: 0.8116\n",
            "Epoch 218/500\n",
            "414/414 [==============================] - 14s 34ms/step - loss: 0.0669 - accuracy: 0.9770 - val_loss: 1.2108 - val_accuracy: 0.7729\n",
            "Epoch 219/500\n",
            "414/414 [==============================] - 15s 36ms/step - loss: 0.0648 - accuracy: 0.9790 - val_loss: 1.3504 - val_accuracy: 0.7826\n",
            "Epoch 220/500\n",
            "414/414 [==============================] - 14s 34ms/step - loss: 0.0767 - accuracy: 0.9735 - val_loss: 1.2893 - val_accuracy: 0.8068\n",
            "Epoch 221/500\n",
            "414/414 [==============================] - 14s 34ms/step - loss: 0.0656 - accuracy: 0.9773 - val_loss: 1.3538 - val_accuracy: 0.7874\n",
            "Epoch 222/500\n",
            "414/414 [==============================] - 14s 34ms/step - loss: 0.0758 - accuracy: 0.9749 - val_loss: 1.2251 - val_accuracy: 0.7923\n",
            "Epoch 223/500\n",
            "414/414 [==============================] - 14s 35ms/step - loss: 0.0780 - accuracy: 0.9734 - val_loss: 1.3154 - val_accuracy: 0.7681\n",
            "Epoch 224/500\n",
            "414/414 [==============================] - 14s 35ms/step - loss: 0.0620 - accuracy: 0.9794 - val_loss: 1.4231 - val_accuracy: 0.7246\n",
            "Epoch 225/500\n",
            "414/414 [==============================] - 14s 35ms/step - loss: 0.0708 - accuracy: 0.9778 - val_loss: 1.3316 - val_accuracy: 0.7971\n",
            "Epoch 226/500\n",
            "414/414 [==============================] - 14s 35ms/step - loss: 0.0633 - accuracy: 0.9805 - val_loss: 1.3156 - val_accuracy: 0.7826\n",
            "Epoch 227/500\n",
            "414/414 [==============================] - 14s 35ms/step - loss: 0.0613 - accuracy: 0.9785 - val_loss: 1.3175 - val_accuracy: 0.7778\n",
            "Epoch 228/500\n",
            "414/414 [==============================] - 14s 34ms/step - loss: 0.0666 - accuracy: 0.9790 - val_loss: 1.2728 - val_accuracy: 0.8068\n",
            "Epoch 229/500\n",
            "414/414 [==============================] - 14s 34ms/step - loss: 0.0567 - accuracy: 0.9797 - val_loss: 1.4099 - val_accuracy: 0.8068\n",
            "Epoch 230/500\n",
            "414/414 [==============================] - 14s 34ms/step - loss: 0.0642 - accuracy: 0.9788 - val_loss: 1.3127 - val_accuracy: 0.8019\n",
            "Epoch 231/500\n",
            "414/414 [==============================] - 14s 34ms/step - loss: 0.0714 - accuracy: 0.9779 - val_loss: 1.3478 - val_accuracy: 0.7923\n",
            "Epoch 232/500\n",
            "414/414 [==============================] - 14s 35ms/step - loss: 0.0605 - accuracy: 0.9808 - val_loss: 1.2892 - val_accuracy: 0.7729\n",
            "Epoch 233/500\n",
            "414/414 [==============================] - 14s 35ms/step - loss: 0.0644 - accuracy: 0.9790 - val_loss: 1.2466 - val_accuracy: 0.8116\n",
            "Epoch 234/500\n",
            "414/414 [==============================] - 14s 33ms/step - loss: 0.0688 - accuracy: 0.9766 - val_loss: 1.3942 - val_accuracy: 0.7971\n",
            "Epoch 235/500\n",
            "414/414 [==============================] - 13s 32ms/step - loss: 0.0678 - accuracy: 0.9785 - val_loss: 1.3583 - val_accuracy: 0.7585\n",
            "Epoch 236/500\n",
            "414/414 [==============================] - 13s 33ms/step - loss: 0.0651 - accuracy: 0.9796 - val_loss: 1.2812 - val_accuracy: 0.7971\n",
            "Epoch 237/500\n",
            "414/414 [==============================] - 14s 33ms/step - loss: 0.0718 - accuracy: 0.9778 - val_loss: 1.4287 - val_accuracy: 0.7778\n",
            "Epoch 238/500\n",
            "414/414 [==============================] - 14s 33ms/step - loss: 0.0539 - accuracy: 0.9811 - val_loss: 1.3659 - val_accuracy: 0.8019\n",
            "Epoch 239/500\n",
            "414/414 [==============================] - 13s 33ms/step - loss: 0.0656 - accuracy: 0.9763 - val_loss: 1.2532 - val_accuracy: 0.7633\n",
            "Epoch 240/500\n",
            "414/414 [==============================] - 13s 32ms/step - loss: 0.0661 - accuracy: 0.9787 - val_loss: 1.3933 - val_accuracy: 0.7874\n",
            "Epoch 241/500\n",
            "414/414 [==============================] - 13s 31ms/step - loss: 0.0552 - accuracy: 0.9840 - val_loss: 1.4334 - val_accuracy: 0.7778\n",
            "Epoch 242/500\n",
            "414/414 [==============================] - 13s 32ms/step - loss: 0.0590 - accuracy: 0.9807 - val_loss: 1.2720 - val_accuracy: 0.7923\n",
            "Epoch 243/500\n",
            "414/414 [==============================] - 13s 31ms/step - loss: 0.0654 - accuracy: 0.9784 - val_loss: 1.3477 - val_accuracy: 0.7826\n",
            "Epoch 244/500\n",
            "414/414 [==============================] - 13s 31ms/step - loss: 0.0686 - accuracy: 0.9796 - val_loss: 1.2773 - val_accuracy: 0.7826\n",
            "Epoch 245/500\n",
            "414/414 [==============================] - 14s 33ms/step - loss: 0.0662 - accuracy: 0.9785 - val_loss: 1.2543 - val_accuracy: 0.7923\n",
            "Epoch 246/500\n",
            "414/414 [==============================] - 14s 33ms/step - loss: 0.0552 - accuracy: 0.9834 - val_loss: 1.4650 - val_accuracy: 0.7585\n",
            "Epoch 247/500\n",
            "414/414 [==============================] - 14s 34ms/step - loss: 0.0539 - accuracy: 0.9825 - val_loss: 1.3222 - val_accuracy: 0.7971\n",
            "Epoch 248/500\n",
            "414/414 [==============================] - 15s 35ms/step - loss: 0.0562 - accuracy: 0.9811 - val_loss: 1.3632 - val_accuracy: 0.8019\n",
            "Epoch 249/500\n",
            "414/414 [==============================] - 13s 32ms/step - loss: 0.0677 - accuracy: 0.9797 - val_loss: 1.2462 - val_accuracy: 0.7633\n",
            "Epoch 250/500\n",
            "414/414 [==============================] - 13s 32ms/step - loss: 0.0609 - accuracy: 0.9788 - val_loss: 1.2395 - val_accuracy: 0.7923\n",
            "Epoch 251/500\n",
            "414/414 [==============================] - 13s 32ms/step - loss: 0.0615 - accuracy: 0.9800 - val_loss: 1.3551 - val_accuracy: 0.8019\n",
            "Epoch 252/500\n",
            "414/414 [==============================] - 14s 33ms/step - loss: 0.0615 - accuracy: 0.9805 - val_loss: 1.2625 - val_accuracy: 0.7826\n",
            "Epoch 253/500\n",
            "414/414 [==============================] - 14s 33ms/step - loss: 0.0619 - accuracy: 0.9810 - val_loss: 1.2710 - val_accuracy: 0.7923\n",
            "Epoch 254/500\n",
            "414/414 [==============================] - 13s 32ms/step - loss: 0.0661 - accuracy: 0.9797 - val_loss: 1.3835 - val_accuracy: 0.8019\n",
            "Epoch 255/500\n",
            "414/414 [==============================] - 14s 33ms/step - loss: 0.0538 - accuracy: 0.9834 - val_loss: 1.4121 - val_accuracy: 0.7585\n",
            "Epoch 256/500\n",
            "414/414 [==============================] - 14s 34ms/step - loss: 0.0578 - accuracy: 0.9807 - val_loss: 1.3075 - val_accuracy: 0.7826\n",
            "Epoch 257/500\n",
            "414/414 [==============================] - 14s 33ms/step - loss: 0.0607 - accuracy: 0.9799 - val_loss: 1.4427 - val_accuracy: 0.7343\n",
            "Epoch 258/500\n",
            "414/414 [==============================] - 14s 34ms/step - loss: 0.0619 - accuracy: 0.9816 - val_loss: 1.2380 - val_accuracy: 0.8068\n",
            "Epoch 259/500\n",
            "414/414 [==============================] - 14s 33ms/step - loss: 0.0585 - accuracy: 0.9829 - val_loss: 1.4603 - val_accuracy: 0.7826\n",
            "Epoch 260/500\n",
            "414/414 [==============================] - 13s 32ms/step - loss: 0.0656 - accuracy: 0.9804 - val_loss: 1.3458 - val_accuracy: 0.7874\n",
            "Epoch 261/500\n",
            "414/414 [==============================] - 13s 32ms/step - loss: 0.0558 - accuracy: 0.9838 - val_loss: 1.3408 - val_accuracy: 0.7971\n",
            "Epoch 262/500\n",
            "414/414 [==============================] - 14s 34ms/step - loss: 0.0597 - accuracy: 0.9811 - val_loss: 1.4980 - val_accuracy: 0.7295\n",
            "Epoch 263/500\n",
            "414/414 [==============================] - 14s 33ms/step - loss: 0.0576 - accuracy: 0.9829 - val_loss: 1.4079 - val_accuracy: 0.7874\n",
            "Epoch 264/500\n",
            "414/414 [==============================] - 13s 32ms/step - loss: 0.0509 - accuracy: 0.9825 - val_loss: 1.3792 - val_accuracy: 0.7826\n",
            "Epoch 265/500\n",
            "414/414 [==============================] - 14s 33ms/step - loss: 0.0555 - accuracy: 0.9813 - val_loss: 1.3743 - val_accuracy: 0.7633\n",
            "Epoch 266/500\n",
            "414/414 [==============================] - 14s 35ms/step - loss: 0.0564 - accuracy: 0.9832 - val_loss: 1.3491 - val_accuracy: 0.7874\n",
            "Epoch 267/500\n",
            "414/414 [==============================] - 14s 33ms/step - loss: 0.0526 - accuracy: 0.9832 - val_loss: 1.2948 - val_accuracy: 0.8068\n",
            "Epoch 268/500\n",
            "414/414 [==============================] - 15s 36ms/step - loss: 0.0503 - accuracy: 0.9855 - val_loss: 1.2155 - val_accuracy: 0.7826\n",
            "Epoch 269/500\n",
            "414/414 [==============================] - 15s 35ms/step - loss: 0.0479 - accuracy: 0.9846 - val_loss: 1.3519 - val_accuracy: 0.7729\n",
            "Epoch 270/500\n",
            "414/414 [==============================] - 15s 35ms/step - loss: 0.0613 - accuracy: 0.9797 - val_loss: 1.3045 - val_accuracy: 0.8213\n",
            "Epoch 271/500\n",
            "414/414 [==============================] - 14s 35ms/step - loss: 0.0582 - accuracy: 0.9805 - val_loss: 1.3021 - val_accuracy: 0.7778\n",
            "Epoch 272/500\n",
            "414/414 [==============================] - 13s 32ms/step - loss: 0.0641 - accuracy: 0.9794 - val_loss: 1.2507 - val_accuracy: 0.8068\n",
            "Epoch 273/500\n",
            "414/414 [==============================] - 14s 33ms/step - loss: 0.0603 - accuracy: 0.9823 - val_loss: 1.2719 - val_accuracy: 0.8116\n",
            "Epoch 274/500\n",
            "414/414 [==============================] - 13s 32ms/step - loss: 0.0562 - accuracy: 0.9808 - val_loss: 1.4511 - val_accuracy: 0.7971\n",
            "Epoch 275/500\n",
            "414/414 [==============================] - 13s 32ms/step - loss: 0.0496 - accuracy: 0.9825 - val_loss: 1.4814 - val_accuracy: 0.7778\n",
            "Epoch 276/500\n",
            "414/414 [==============================] - 13s 32ms/step - loss: 0.0529 - accuracy: 0.9828 - val_loss: 1.4629 - val_accuracy: 0.7585\n",
            "Epoch 277/500\n",
            "414/414 [==============================] - 14s 35ms/step - loss: 0.0600 - accuracy: 0.9819 - val_loss: 1.4500 - val_accuracy: 0.7826\n",
            "Epoch 278/500\n",
            "414/414 [==============================] - 14s 35ms/step - loss: 0.0517 - accuracy: 0.9850 - val_loss: 1.5737 - val_accuracy: 0.7633\n",
            "Epoch 279/500\n",
            "414/414 [==============================] - 14s 33ms/step - loss: 0.0486 - accuracy: 0.9840 - val_loss: 1.3046 - val_accuracy: 0.7874\n",
            "Epoch 280/500\n",
            "414/414 [==============================] - 13s 32ms/step - loss: 0.0687 - accuracy: 0.9794 - val_loss: 1.4172 - val_accuracy: 0.7585\n",
            "Epoch 281/500\n",
            "414/414 [==============================] - 14s 33ms/step - loss: 0.0499 - accuracy: 0.9831 - val_loss: 1.3222 - val_accuracy: 0.7826\n",
            "Epoch 282/500\n",
            "414/414 [==============================] - 14s 33ms/step - loss: 0.0702 - accuracy: 0.9797 - val_loss: 1.3108 - val_accuracy: 0.7729\n",
            "Epoch 283/500\n",
            "414/414 [==============================] - 14s 33ms/step - loss: 0.0494 - accuracy: 0.9837 - val_loss: 1.2729 - val_accuracy: 0.7971\n",
            "Epoch 284/500\n",
            "414/414 [==============================] - 14s 34ms/step - loss: 0.0537 - accuracy: 0.9838 - val_loss: 1.4890 - val_accuracy: 0.7729\n",
            "Epoch 285/500\n",
            "414/414 [==============================] - 14s 33ms/step - loss: 0.0547 - accuracy: 0.9826 - val_loss: 1.2633 - val_accuracy: 0.7971\n",
            "Epoch 286/500\n",
            "414/414 [==============================] - 14s 33ms/step - loss: 0.0554 - accuracy: 0.9834 - val_loss: 1.4978 - val_accuracy: 0.7874\n",
            "Epoch 287/500\n",
            "414/414 [==============================] - 14s 33ms/step - loss: 0.0467 - accuracy: 0.9852 - val_loss: 1.3684 - val_accuracy: 0.7729\n",
            "Epoch 288/500\n",
            "414/414 [==============================] - 14s 34ms/step - loss: 0.0414 - accuracy: 0.9850 - val_loss: 1.4370 - val_accuracy: 0.7729\n",
            "Epoch 289/500\n",
            "414/414 [==============================] - 14s 34ms/step - loss: 0.0446 - accuracy: 0.9832 - val_loss: 1.4481 - val_accuracy: 0.7585\n",
            "Epoch 290/500\n",
            "414/414 [==============================] - 13s 33ms/step - loss: 0.0569 - accuracy: 0.9817 - val_loss: 1.2851 - val_accuracy: 0.8213\n",
            "Epoch 291/500\n",
            "414/414 [==============================] - 14s 33ms/step - loss: 0.0550 - accuracy: 0.9825 - val_loss: 1.6217 - val_accuracy: 0.7923\n",
            "Epoch 292/500\n",
            "414/414 [==============================] - 14s 34ms/step - loss: 0.0418 - accuracy: 0.9859 - val_loss: 1.3142 - val_accuracy: 0.7874\n",
            "Epoch 293/500\n",
            "414/414 [==============================] - 14s 33ms/step - loss: 0.0495 - accuracy: 0.9846 - val_loss: 1.4328 - val_accuracy: 0.8068\n",
            "Epoch 294/500\n",
            "414/414 [==============================] - 14s 33ms/step - loss: 0.0521 - accuracy: 0.9834 - val_loss: 1.4313 - val_accuracy: 0.7971\n",
            "Epoch 295/500\n",
            "414/414 [==============================] - 14s 33ms/step - loss: 0.0425 - accuracy: 0.9846 - val_loss: 1.4405 - val_accuracy: 0.7778\n",
            "Epoch 296/500\n",
            "414/414 [==============================] - 14s 34ms/step - loss: 0.0520 - accuracy: 0.9832 - val_loss: 1.2883 - val_accuracy: 0.8164\n",
            "Epoch 297/500\n",
            "414/414 [==============================] - 14s 34ms/step - loss: 0.0565 - accuracy: 0.9820 - val_loss: 1.5737 - val_accuracy: 0.7633\n",
            "Epoch 298/500\n",
            "414/414 [==============================] - 14s 34ms/step - loss: 0.0477 - accuracy: 0.9841 - val_loss: 1.4612 - val_accuracy: 0.7826\n",
            "Epoch 299/500\n",
            "414/414 [==============================] - 14s 34ms/step - loss: 0.0562 - accuracy: 0.9816 - val_loss: 1.4704 - val_accuracy: 0.7681\n",
            "Epoch 300/500\n",
            "414/414 [==============================] - 14s 34ms/step - loss: 0.0550 - accuracy: 0.9807 - val_loss: 1.3752 - val_accuracy: 0.8019\n",
            "Epoch 301/500\n",
            "414/414 [==============================] - 14s 33ms/step - loss: 0.0408 - accuracy: 0.9867 - val_loss: 1.3582 - val_accuracy: 0.8116\n",
            "Epoch 302/500\n",
            "414/414 [==============================] - 14s 33ms/step - loss: 0.0568 - accuracy: 0.9816 - val_loss: 1.2833 - val_accuracy: 0.8019\n",
            "Epoch 303/500\n",
            "414/414 [==============================] - 14s 33ms/step - loss: 0.0449 - accuracy: 0.9858 - val_loss: 1.5502 - val_accuracy: 0.7729\n",
            "Epoch 304/500\n",
            "414/414 [==============================] - 14s 34ms/step - loss: 0.0470 - accuracy: 0.9846 - val_loss: 1.4087 - val_accuracy: 0.7874\n",
            "Epoch 305/500\n",
            "414/414 [==============================] - 14s 35ms/step - loss: 0.0497 - accuracy: 0.9850 - val_loss: 1.4928 - val_accuracy: 0.7778\n",
            "Epoch 306/500\n",
            "414/414 [==============================] - 15s 35ms/step - loss: 0.0433 - accuracy: 0.9852 - val_loss: 1.5012 - val_accuracy: 0.7729\n",
            "Epoch 307/500\n",
            "414/414 [==============================] - 14s 34ms/step - loss: 0.0504 - accuracy: 0.9850 - val_loss: 1.3962 - val_accuracy: 0.8116\n",
            "Epoch 308/500\n",
            "414/414 [==============================] - 14s 33ms/step - loss: 0.0493 - accuracy: 0.9859 - val_loss: 1.4222 - val_accuracy: 0.7971\n",
            "Epoch 309/500\n",
            "414/414 [==============================] - 14s 34ms/step - loss: 0.0494 - accuracy: 0.9847 - val_loss: 1.3981 - val_accuracy: 0.7874\n",
            "Epoch 310/500\n",
            "414/414 [==============================] - 14s 35ms/step - loss: 0.0353 - accuracy: 0.9879 - val_loss: 1.4250 - val_accuracy: 0.7971\n",
            "Epoch 311/500\n",
            "414/414 [==============================] - 15s 35ms/step - loss: 0.0550 - accuracy: 0.9829 - val_loss: 1.5165 - val_accuracy: 0.7826\n",
            "Epoch 312/500\n",
            "414/414 [==============================] - 15s 35ms/step - loss: 0.0448 - accuracy: 0.9837 - val_loss: 1.4047 - val_accuracy: 0.7971\n",
            "Epoch 313/500\n",
            "414/414 [==============================] - 15s 36ms/step - loss: 0.0485 - accuracy: 0.9850 - val_loss: 1.3031 - val_accuracy: 0.7778\n",
            "Epoch 314/500\n",
            "414/414 [==============================] - 15s 36ms/step - loss: 0.0450 - accuracy: 0.9867 - val_loss: 1.4504 - val_accuracy: 0.7826\n",
            "Epoch 315/500\n",
            "414/414 [==============================] - 14s 35ms/step - loss: 0.0504 - accuracy: 0.9838 - val_loss: 1.2724 - val_accuracy: 0.8116\n",
            "Epoch 316/500\n",
            "414/414 [==============================] - 14s 34ms/step - loss: 0.0399 - accuracy: 0.9867 - val_loss: 1.6161 - val_accuracy: 0.7923\n",
            "Epoch 317/500\n",
            "414/414 [==============================] - 14s 35ms/step - loss: 0.0490 - accuracy: 0.9847 - val_loss: 1.4029 - val_accuracy: 0.7826\n",
            "Epoch 318/500\n",
            "414/414 [==============================] - 15s 36ms/step - loss: 0.0429 - accuracy: 0.9869 - val_loss: 1.2857 - val_accuracy: 0.7923\n",
            "Epoch 319/500\n",
            "414/414 [==============================] - 15s 36ms/step - loss: 0.0457 - accuracy: 0.9864 - val_loss: 1.5008 - val_accuracy: 0.8068\n",
            "Epoch 320/500\n",
            "414/414 [==============================] - 15s 36ms/step - loss: 0.0627 - accuracy: 0.9816 - val_loss: 1.2518 - val_accuracy: 0.8213\n",
            "Epoch 321/500\n",
            "414/414 [==============================] - 15s 36ms/step - loss: 0.0434 - accuracy: 0.9858 - val_loss: 1.5704 - val_accuracy: 0.7536\n",
            "Epoch 322/500\n",
            "414/414 [==============================] - 15s 36ms/step - loss: 0.0528 - accuracy: 0.9856 - val_loss: 1.4437 - val_accuracy: 0.7729\n",
            "Epoch 323/500\n",
            "414/414 [==============================] - 15s 36ms/step - loss: 0.0433 - accuracy: 0.9864 - val_loss: 1.4816 - val_accuracy: 0.7826\n",
            "Epoch 324/500\n",
            "414/414 [==============================] - 15s 35ms/step - loss: 0.0443 - accuracy: 0.9853 - val_loss: 1.4320 - val_accuracy: 0.7971\n",
            "Epoch 325/500\n",
            "414/414 [==============================] - 15s 36ms/step - loss: 0.0362 - accuracy: 0.9867 - val_loss: 1.7581 - val_accuracy: 0.7826\n",
            "Epoch 326/500\n",
            "414/414 [==============================] - 15s 36ms/step - loss: 0.0479 - accuracy: 0.9849 - val_loss: 1.5717 - val_accuracy: 0.7874\n",
            "Epoch 327/500\n",
            "414/414 [==============================] - 15s 35ms/step - loss: 0.0487 - accuracy: 0.9843 - val_loss: 1.4262 - val_accuracy: 0.7971\n",
            "Epoch 328/500\n",
            "414/414 [==============================] - 15s 36ms/step - loss: 0.0417 - accuracy: 0.9852 - val_loss: 1.7217 - val_accuracy: 0.7681\n",
            "Epoch 329/500\n",
            "414/414 [==============================] - 15s 35ms/step - loss: 0.0405 - accuracy: 0.9881 - val_loss: 1.6041 - val_accuracy: 0.7874\n",
            "Epoch 330/500\n",
            "414/414 [==============================] - 15s 35ms/step - loss: 0.0426 - accuracy: 0.9855 - val_loss: 1.6428 - val_accuracy: 0.7633\n",
            "Epoch 331/500\n",
            "414/414 [==============================] - 14s 34ms/step - loss: 0.0517 - accuracy: 0.9850 - val_loss: 1.4365 - val_accuracy: 0.8019\n",
            "Epoch 332/500\n",
            "414/414 [==============================] - 14s 34ms/step - loss: 0.0440 - accuracy: 0.9859 - val_loss: 1.6255 - val_accuracy: 0.7826\n",
            "Epoch 333/500\n",
            "414/414 [==============================] - 14s 34ms/step - loss: 0.0493 - accuracy: 0.9855 - val_loss: 1.5581 - val_accuracy: 0.7826\n",
            "Epoch 334/500\n",
            "414/414 [==============================] - 14s 35ms/step - loss: 0.0391 - accuracy: 0.9862 - val_loss: 1.5337 - val_accuracy: 0.7826\n",
            "Epoch 335/500\n",
            "414/414 [==============================] - 14s 35ms/step - loss: 0.0436 - accuracy: 0.9852 - val_loss: 1.6062 - val_accuracy: 0.7826\n",
            "Epoch 336/500\n",
            "414/414 [==============================] - 14s 34ms/step - loss: 0.0421 - accuracy: 0.9876 - val_loss: 1.1747 - val_accuracy: 0.8309\n",
            "Epoch 337/500\n",
            "414/414 [==============================] - 14s 35ms/step - loss: 0.0463 - accuracy: 0.9844 - val_loss: 1.4845 - val_accuracy: 0.7681\n",
            "Epoch 338/500\n",
            "414/414 [==============================] - 15s 35ms/step - loss: 0.0476 - accuracy: 0.9858 - val_loss: 1.3544 - val_accuracy: 0.8019\n",
            "Epoch 339/500\n",
            "414/414 [==============================] - 14s 33ms/step - loss: 0.0549 - accuracy: 0.9832 - val_loss: 1.4638 - val_accuracy: 0.8019\n",
            "Epoch 340/500\n",
            "414/414 [==============================] - 14s 34ms/step - loss: 0.0420 - accuracy: 0.9879 - val_loss: 1.3872 - val_accuracy: 0.8068\n",
            "Epoch 341/500\n",
            "414/414 [==============================] - 15s 36ms/step - loss: 0.0441 - accuracy: 0.9873 - val_loss: 1.4921 - val_accuracy: 0.7826\n",
            "Epoch 342/500\n",
            "414/414 [==============================] - 14s 35ms/step - loss: 0.0410 - accuracy: 0.9869 - val_loss: 1.3853 - val_accuracy: 0.7874\n",
            "Epoch 343/500\n",
            "414/414 [==============================] - 14s 34ms/step - loss: 0.0492 - accuracy: 0.9852 - val_loss: 1.5360 - val_accuracy: 0.7585\n",
            "Epoch 344/500\n",
            "414/414 [==============================] - 14s 34ms/step - loss: 0.0456 - accuracy: 0.9862 - val_loss: 1.3320 - val_accuracy: 0.8068\n",
            "Epoch 345/500\n",
            "414/414 [==============================] - 14s 33ms/step - loss: 0.0447 - accuracy: 0.9855 - val_loss: 1.2708 - val_accuracy: 0.7874\n",
            "Epoch 346/500\n",
            "414/414 [==============================] - 14s 33ms/step - loss: 0.0530 - accuracy: 0.9862 - val_loss: 1.4000 - val_accuracy: 0.8019\n",
            "Epoch 347/500\n",
            "414/414 [==============================] - 14s 35ms/step - loss: 0.0378 - accuracy: 0.9872 - val_loss: 1.3090 - val_accuracy: 0.8164\n",
            "Epoch 348/500\n",
            "414/414 [==============================] - 15s 35ms/step - loss: 0.0518 - accuracy: 0.9834 - val_loss: 1.4920 - val_accuracy: 0.8116\n",
            "Epoch 349/500\n",
            "414/414 [==============================] - 15s 36ms/step - loss: 0.0429 - accuracy: 0.9869 - val_loss: 1.4792 - val_accuracy: 0.8019\n",
            "Epoch 350/500\n",
            "414/414 [==============================] - 15s 36ms/step - loss: 0.0458 - accuracy: 0.9859 - val_loss: 1.3817 - val_accuracy: 0.8213\n",
            "Epoch 351/500\n",
            "414/414 [==============================] - 15s 35ms/step - loss: 0.0475 - accuracy: 0.9849 - val_loss: 1.3886 - val_accuracy: 0.8068\n",
            "Epoch 352/500\n",
            "414/414 [==============================] - 15s 35ms/step - loss: 0.0502 - accuracy: 0.9838 - val_loss: 1.5351 - val_accuracy: 0.7681\n",
            "Epoch 353/500\n",
            "414/414 [==============================] - 15s 35ms/step - loss: 0.0349 - accuracy: 0.9884 - val_loss: 1.6007 - val_accuracy: 0.7681\n",
            "Epoch 354/500\n",
            "414/414 [==============================] - 14s 35ms/step - loss: 0.0433 - accuracy: 0.9872 - val_loss: 1.5332 - val_accuracy: 0.7488\n",
            "Epoch 355/500\n",
            "414/414 [==============================] - 14s 33ms/step - loss: 0.0471 - accuracy: 0.9858 - val_loss: 1.2614 - val_accuracy: 0.8019\n",
            "Epoch 356/500\n",
            "414/414 [==============================] - 14s 33ms/step - loss: 0.0471 - accuracy: 0.9862 - val_loss: 1.3803 - val_accuracy: 0.7826\n",
            "Epoch 357/500\n",
            "414/414 [==============================] - 14s 33ms/step - loss: 0.0441 - accuracy: 0.9872 - val_loss: 1.3614 - val_accuracy: 0.7923\n",
            "Epoch 358/500\n",
            "414/414 [==============================] - 14s 33ms/step - loss: 0.0411 - accuracy: 0.9876 - val_loss: 1.3555 - val_accuracy: 0.8019\n",
            "Epoch 359/500\n",
            "414/414 [==============================] - 14s 35ms/step - loss: 0.0431 - accuracy: 0.9869 - val_loss: 1.4189 - val_accuracy: 0.8019\n",
            "Epoch 360/500\n",
            "414/414 [==============================] - 14s 34ms/step - loss: 0.0411 - accuracy: 0.9867 - val_loss: 1.5335 - val_accuracy: 0.7826\n",
            "Epoch 361/500\n",
            "414/414 [==============================] - 15s 35ms/step - loss: 0.0355 - accuracy: 0.9897 - val_loss: 1.5458 - val_accuracy: 0.7778\n",
            "Epoch 362/500\n",
            "414/414 [==============================] - 15s 35ms/step - loss: 0.0515 - accuracy: 0.9853 - val_loss: 1.4432 - val_accuracy: 0.7923\n",
            "Epoch 363/500\n",
            "414/414 [==============================] - 14s 34ms/step - loss: 0.0465 - accuracy: 0.9858 - val_loss: 1.4620 - val_accuracy: 0.7923\n",
            "Epoch 364/500\n",
            "414/414 [==============================] - 14s 34ms/step - loss: 0.0338 - accuracy: 0.9896 - val_loss: 1.5439 - val_accuracy: 0.7826\n",
            "Epoch 365/500\n",
            "414/414 [==============================] - 15s 35ms/step - loss: 0.0472 - accuracy: 0.9862 - val_loss: 1.6950 - val_accuracy: 0.7729\n",
            "Epoch 366/500\n",
            "414/414 [==============================] - 14s 34ms/step - loss: 0.0429 - accuracy: 0.9859 - val_loss: 1.4824 - val_accuracy: 0.7729\n",
            "Epoch 367/500\n",
            "414/414 [==============================] - 14s 33ms/step - loss: 0.0471 - accuracy: 0.9856 - val_loss: 1.3643 - val_accuracy: 0.8019\n",
            "Epoch 368/500\n",
            "414/414 [==============================] - 14s 33ms/step - loss: 0.0363 - accuracy: 0.9881 - val_loss: 1.5110 - val_accuracy: 0.7681\n",
            "Epoch 369/500\n",
            "414/414 [==============================] - 14s 33ms/step - loss: 0.0502 - accuracy: 0.9855 - val_loss: 1.4622 - val_accuracy: 0.8116\n",
            "Epoch 370/500\n",
            "414/414 [==============================] - 14s 33ms/step - loss: 0.0421 - accuracy: 0.9882 - val_loss: 1.4310 - val_accuracy: 0.7778\n",
            "Epoch 371/500\n",
            "414/414 [==============================] - 14s 33ms/step - loss: 0.0388 - accuracy: 0.9873 - val_loss: 1.3981 - val_accuracy: 0.7923\n",
            "Epoch 372/500\n",
            "414/414 [==============================] - 14s 33ms/step - loss: 0.0485 - accuracy: 0.9855 - val_loss: 1.5267 - val_accuracy: 0.7826\n",
            "Epoch 373/500\n",
            "414/414 [==============================] - 14s 34ms/step - loss: 0.0448 - accuracy: 0.9867 - val_loss: 1.5674 - val_accuracy: 0.7729\n",
            "Epoch 374/500\n",
            "414/414 [==============================] - 14s 34ms/step - loss: 0.0440 - accuracy: 0.9869 - val_loss: 1.5175 - val_accuracy: 0.7874\n",
            "Epoch 375/500\n",
            "414/414 [==============================] - 14s 34ms/step - loss: 0.0348 - accuracy: 0.9887 - val_loss: 1.5562 - val_accuracy: 0.7826\n",
            "Epoch 376/500\n",
            "414/414 [==============================] - 14s 34ms/step - loss: 0.0455 - accuracy: 0.9856 - val_loss: 1.5672 - val_accuracy: 0.7729\n",
            "Epoch 377/500\n",
            "414/414 [==============================] - 14s 34ms/step - loss: 0.0433 - accuracy: 0.9855 - val_loss: 1.5555 - val_accuracy: 0.7778\n",
            "Epoch 378/500\n",
            "414/414 [==============================] - 15s 35ms/step - loss: 0.0446 - accuracy: 0.9873 - val_loss: 1.5208 - val_accuracy: 0.8019\n",
            "Epoch 379/500\n",
            "414/414 [==============================] - 14s 34ms/step - loss: 0.0382 - accuracy: 0.9890 - val_loss: 1.4491 - val_accuracy: 0.7971\n",
            "Epoch 380/500\n",
            "414/414 [==============================] - 14s 35ms/step - loss: 0.0319 - accuracy: 0.9888 - val_loss: 1.5688 - val_accuracy: 0.8019\n",
            "Epoch 381/500\n",
            "414/414 [==============================] - 14s 34ms/step - loss: 0.0403 - accuracy: 0.9888 - val_loss: 1.5336 - val_accuracy: 0.7971\n",
            "Epoch 382/500\n",
            "414/414 [==============================] - 14s 34ms/step - loss: 0.0495 - accuracy: 0.9850 - val_loss: 1.5170 - val_accuracy: 0.8068\n",
            "Epoch 383/500\n",
            "414/414 [==============================] - 14s 34ms/step - loss: 0.0331 - accuracy: 0.9894 - val_loss: 1.4883 - val_accuracy: 0.8019\n",
            "Epoch 384/500\n",
            "414/414 [==============================] - 14s 34ms/step - loss: 0.0437 - accuracy: 0.9870 - val_loss: 1.4587 - val_accuracy: 0.7923\n",
            "Epoch 385/500\n",
            "414/414 [==============================] - 14s 34ms/step - loss: 0.0348 - accuracy: 0.9887 - val_loss: 1.5597 - val_accuracy: 0.7971\n",
            "Epoch 386/500\n",
            "414/414 [==============================] - 14s 33ms/step - loss: 0.0374 - accuracy: 0.9878 - val_loss: 1.5233 - val_accuracy: 0.8068\n",
            "Epoch 387/500\n",
            "414/414 [==============================] - 14s 33ms/step - loss: 0.0402 - accuracy: 0.9882 - val_loss: 1.4386 - val_accuracy: 0.8116\n",
            "Epoch 388/500\n",
            "414/414 [==============================] - 14s 34ms/step - loss: 0.0432 - accuracy: 0.9859 - val_loss: 1.6515 - val_accuracy: 0.7778\n",
            "Epoch 389/500\n",
            "414/414 [==============================] - 14s 33ms/step - loss: 0.0429 - accuracy: 0.9888 - val_loss: 1.6430 - val_accuracy: 0.7681\n",
            "Epoch 390/500\n",
            "414/414 [==============================] - 13s 33ms/step - loss: 0.0437 - accuracy: 0.9856 - val_loss: 1.6747 - val_accuracy: 0.7681\n",
            "Epoch 391/500\n",
            "414/414 [==============================] - 14s 33ms/step - loss: 0.0369 - accuracy: 0.9873 - val_loss: 1.7861 - val_accuracy: 0.7729\n",
            "Epoch 392/500\n",
            "414/414 [==============================] - 14s 33ms/step - loss: 0.0385 - accuracy: 0.9896 - val_loss: 1.6093 - val_accuracy: 0.7536\n",
            "Epoch 393/500\n",
            "414/414 [==============================] - 14s 34ms/step - loss: 0.0336 - accuracy: 0.9905 - val_loss: 1.4731 - val_accuracy: 0.7729\n",
            "Epoch 394/500\n",
            "414/414 [==============================] - 14s 35ms/step - loss: 0.0399 - accuracy: 0.9876 - val_loss: 1.8217 - val_accuracy: 0.7391\n",
            "Epoch 395/500\n",
            "414/414 [==============================] - 14s 35ms/step - loss: 0.0384 - accuracy: 0.9856 - val_loss: 1.4746 - val_accuracy: 0.8019\n",
            "Epoch 396/500\n",
            "414/414 [==============================] - 14s 34ms/step - loss: 0.0392 - accuracy: 0.9882 - val_loss: 1.8185 - val_accuracy: 0.7536\n",
            "Epoch 397/500\n",
            "414/414 [==============================] - 14s 35ms/step - loss: 0.0323 - accuracy: 0.9908 - val_loss: 1.5764 - val_accuracy: 0.7923\n",
            "Epoch 398/500\n",
            "414/414 [==============================] - 15s 35ms/step - loss: 0.0386 - accuracy: 0.9876 - val_loss: 1.6436 - val_accuracy: 0.7826\n",
            "Epoch 399/500\n",
            "414/414 [==============================] - 14s 35ms/step - loss: 0.0393 - accuracy: 0.9891 - val_loss: 1.6331 - val_accuracy: 0.7874\n",
            "Epoch 400/500\n",
            "414/414 [==============================] - 15s 35ms/step - loss: 0.0347 - accuracy: 0.9899 - val_loss: 1.4361 - val_accuracy: 0.7971\n",
            "Epoch 401/500\n",
            "414/414 [==============================] - 15s 36ms/step - loss: 0.0413 - accuracy: 0.9887 - val_loss: 1.7245 - val_accuracy: 0.7585\n",
            "Epoch 402/500\n",
            "414/414 [==============================] - 14s 35ms/step - loss: 0.0448 - accuracy: 0.9867 - val_loss: 1.4700 - val_accuracy: 0.7923\n",
            "Epoch 403/500\n",
            "414/414 [==============================] - 15s 37ms/step - loss: 0.0346 - accuracy: 0.9900 - val_loss: 1.5665 - val_accuracy: 0.7826\n",
            "Epoch 404/500\n",
            "414/414 [==============================] - 15s 36ms/step - loss: 0.0422 - accuracy: 0.9878 - val_loss: 1.6371 - val_accuracy: 0.7778\n",
            "Epoch 405/500\n",
            "414/414 [==============================] - 15s 35ms/step - loss: 0.0376 - accuracy: 0.9887 - val_loss: 1.5369 - val_accuracy: 0.7971\n",
            "Epoch 406/500\n",
            "414/414 [==============================] - 14s 35ms/step - loss: 0.0451 - accuracy: 0.9870 - val_loss: 1.6024 - val_accuracy: 0.7633\n",
            "Epoch 407/500\n",
            "414/414 [==============================] - 14s 35ms/step - loss: 0.0330 - accuracy: 0.9899 - val_loss: 1.6297 - val_accuracy: 0.7633\n",
            "Epoch 408/500\n",
            "414/414 [==============================] - 14s 34ms/step - loss: 0.0386 - accuracy: 0.9890 - val_loss: 1.4164 - val_accuracy: 0.7778\n",
            "Epoch 409/500\n",
            "414/414 [==============================] - 14s 35ms/step - loss: 0.0432 - accuracy: 0.9881 - val_loss: 1.4992 - val_accuracy: 0.8019\n",
            "Epoch 410/500\n",
            "414/414 [==============================] - 15s 35ms/step - loss: 0.0425 - accuracy: 0.9873 - val_loss: 1.4678 - val_accuracy: 0.7778\n",
            "Epoch 411/500\n",
            "414/414 [==============================] - 14s 34ms/step - loss: 0.0342 - accuracy: 0.9900 - val_loss: 1.4653 - val_accuracy: 0.8116\n",
            "Epoch 412/500\n",
            "414/414 [==============================] - 14s 34ms/step - loss: 0.0416 - accuracy: 0.9872 - val_loss: 1.4855 - val_accuracy: 0.7923\n",
            "Epoch 413/500\n",
            "414/414 [==============================] - 14s 34ms/step - loss: 0.0305 - accuracy: 0.9908 - val_loss: 1.4431 - val_accuracy: 0.7923\n",
            "Epoch 414/500\n",
            "414/414 [==============================] - 14s 34ms/step - loss: 0.0323 - accuracy: 0.9893 - val_loss: 1.4110 - val_accuracy: 0.8068\n",
            "Epoch 415/500\n",
            "414/414 [==============================] - 14s 34ms/step - loss: 0.0369 - accuracy: 0.9878 - val_loss: 1.3914 - val_accuracy: 0.8068\n",
            "Epoch 416/500\n",
            "414/414 [==============================] - 14s 34ms/step - loss: 0.0386 - accuracy: 0.9896 - val_loss: 1.4687 - val_accuracy: 0.7971\n",
            "Epoch 417/500\n",
            "414/414 [==============================] - 14s 34ms/step - loss: 0.0401 - accuracy: 0.9872 - val_loss: 1.5544 - val_accuracy: 0.7923\n",
            "Epoch 418/500\n",
            "414/414 [==============================] - 14s 35ms/step - loss: 0.0290 - accuracy: 0.9891 - val_loss: 1.4542 - val_accuracy: 0.7874\n",
            "Epoch 419/500\n",
            "414/414 [==============================] - 14s 34ms/step - loss: 0.0316 - accuracy: 0.9908 - val_loss: 1.4441 - val_accuracy: 0.8068\n",
            "Epoch 420/500\n",
            "414/414 [==============================] - 14s 34ms/step - loss: 0.0342 - accuracy: 0.9876 - val_loss: 1.6820 - val_accuracy: 0.7585\n",
            "Epoch 421/500\n",
            "414/414 [==============================] - 14s 34ms/step - loss: 0.0460 - accuracy: 0.9867 - val_loss: 1.4205 - val_accuracy: 0.7971\n",
            "Epoch 422/500\n",
            "414/414 [==============================] - 14s 34ms/step - loss: 0.0347 - accuracy: 0.9899 - val_loss: 1.6821 - val_accuracy: 0.7729\n",
            "Epoch 423/500\n",
            "414/414 [==============================] - 14s 34ms/step - loss: 0.0459 - accuracy: 0.9885 - val_loss: 1.5183 - val_accuracy: 0.7681\n",
            "Epoch 424/500\n",
            "414/414 [==============================] - 14s 34ms/step - loss: 0.0392 - accuracy: 0.9878 - val_loss: 1.4841 - val_accuracy: 0.7826\n",
            "Epoch 425/500\n",
            "414/414 [==============================] - 14s 34ms/step - loss: 0.0391 - accuracy: 0.9893 - val_loss: 1.4986 - val_accuracy: 0.8068\n",
            "Epoch 426/500\n",
            "414/414 [==============================] - 14s 34ms/step - loss: 0.0410 - accuracy: 0.9872 - val_loss: 1.4384 - val_accuracy: 0.7874\n",
            "Epoch 427/500\n",
            "414/414 [==============================] - 14s 34ms/step - loss: 0.0388 - accuracy: 0.9875 - val_loss: 1.5290 - val_accuracy: 0.7826\n",
            "Epoch 428/500\n",
            "414/414 [==============================] - 14s 34ms/step - loss: 0.0402 - accuracy: 0.9882 - val_loss: 1.5992 - val_accuracy: 0.7585\n",
            "Epoch 429/500\n",
            "414/414 [==============================] - 14s 34ms/step - loss: 0.0438 - accuracy: 0.9875 - val_loss: 1.5353 - val_accuracy: 0.7729\n",
            "Epoch 430/500\n",
            "414/414 [==============================] - 14s 34ms/step - loss: 0.0400 - accuracy: 0.9888 - val_loss: 1.5404 - val_accuracy: 0.7923\n",
            "Epoch 431/500\n",
            "414/414 [==============================] - 14s 34ms/step - loss: 0.0404 - accuracy: 0.9884 - val_loss: 1.5604 - val_accuracy: 0.7826\n",
            "Epoch 432/500\n",
            "414/414 [==============================] - 14s 33ms/step - loss: 0.0431 - accuracy: 0.9867 - val_loss: 1.5731 - val_accuracy: 0.7971\n",
            "Epoch 433/500\n",
            "414/414 [==============================] - 14s 34ms/step - loss: 0.0328 - accuracy: 0.9905 - val_loss: 1.4851 - val_accuracy: 0.7826\n",
            "Epoch 434/500\n",
            "414/414 [==============================] - 14s 34ms/step - loss: 0.0393 - accuracy: 0.9885 - val_loss: 1.4904 - val_accuracy: 0.7874\n",
            "Epoch 435/500\n",
            "414/414 [==============================] - 14s 33ms/step - loss: 0.0306 - accuracy: 0.9902 - val_loss: 1.4776 - val_accuracy: 0.8068\n",
            "Epoch 436/500\n",
            "414/414 [==============================] - 14s 34ms/step - loss: 0.0382 - accuracy: 0.9878 - val_loss: 1.5160 - val_accuracy: 0.8019\n",
            "Epoch 437/500\n",
            "414/414 [==============================] - 14s 33ms/step - loss: 0.0402 - accuracy: 0.9878 - val_loss: 1.4933 - val_accuracy: 0.7923\n",
            "Epoch 438/500\n",
            "414/414 [==============================] - 14s 34ms/step - loss: 0.0461 - accuracy: 0.9875 - val_loss: 1.4888 - val_accuracy: 0.7826\n",
            "Epoch 439/500\n",
            "414/414 [==============================] - 14s 35ms/step - loss: 0.0311 - accuracy: 0.9894 - val_loss: 1.4012 - val_accuracy: 0.7778\n",
            "Epoch 440/500\n",
            "414/414 [==============================] - 14s 34ms/step - loss: 0.0311 - accuracy: 0.9890 - val_loss: 1.5678 - val_accuracy: 0.7971\n",
            "Epoch 441/500\n",
            "414/414 [==============================] - 14s 34ms/step - loss: 0.0365 - accuracy: 0.9885 - val_loss: 1.4237 - val_accuracy: 0.7826\n",
            "Epoch 442/500\n",
            "414/414 [==============================] - 14s 34ms/step - loss: 0.0348 - accuracy: 0.9891 - val_loss: 1.2068 - val_accuracy: 0.8261\n",
            "Epoch 443/500\n",
            "414/414 [==============================] - 14s 34ms/step - loss: 0.0349 - accuracy: 0.9900 - val_loss: 1.5283 - val_accuracy: 0.8068\n",
            "Epoch 444/500\n",
            "414/414 [==============================] - 14s 34ms/step - loss: 0.0307 - accuracy: 0.9890 - val_loss: 1.4121 - val_accuracy: 0.8261\n",
            "Epoch 445/500\n",
            "414/414 [==============================] - 14s 35ms/step - loss: 0.0328 - accuracy: 0.9912 - val_loss: 1.6197 - val_accuracy: 0.7681\n",
            "Epoch 446/500\n",
            "414/414 [==============================] - 14s 35ms/step - loss: 0.0304 - accuracy: 0.9906 - val_loss: 1.5465 - val_accuracy: 0.7923\n",
            "Epoch 447/500\n",
            "414/414 [==============================] - 14s 34ms/step - loss: 0.0398 - accuracy: 0.9890 - val_loss: 1.4722 - val_accuracy: 0.8068\n",
            "Epoch 448/500\n",
            "414/414 [==============================] - 15s 35ms/step - loss: 0.0376 - accuracy: 0.9882 - val_loss: 1.7234 - val_accuracy: 0.7681\n",
            "Epoch 449/500\n",
            "414/414 [==============================] - 14s 34ms/step - loss: 0.0334 - accuracy: 0.9896 - val_loss: 1.6427 - val_accuracy: 0.7729\n",
            "Epoch 450/500\n",
            "414/414 [==============================] - 14s 34ms/step - loss: 0.0358 - accuracy: 0.9896 - val_loss: 1.6109 - val_accuracy: 0.7874\n",
            "Epoch 451/500\n",
            "414/414 [==============================] - 14s 33ms/step - loss: 0.0366 - accuracy: 0.9893 - val_loss: 1.7412 - val_accuracy: 0.7778\n",
            "Epoch 452/500\n",
            "414/414 [==============================] - 14s 33ms/step - loss: 0.0382 - accuracy: 0.9890 - val_loss: 1.6163 - val_accuracy: 0.7826\n",
            "Epoch 453/500\n",
            "414/414 [==============================] - 14s 34ms/step - loss: 0.0402 - accuracy: 0.9882 - val_loss: 1.2852 - val_accuracy: 0.7971\n",
            "Epoch 454/500\n",
            "414/414 [==============================] - 15s 35ms/step - loss: 0.0361 - accuracy: 0.9897 - val_loss: 1.6076 - val_accuracy: 0.7778\n",
            "Epoch 455/500\n",
            "414/414 [==============================] - 15s 36ms/step - loss: 0.0323 - accuracy: 0.9903 - val_loss: 1.5945 - val_accuracy: 0.7826\n",
            "Epoch 456/500\n",
            "414/414 [==============================] - 15s 36ms/step - loss: 0.0361 - accuracy: 0.9903 - val_loss: 1.6405 - val_accuracy: 0.7778\n",
            "Epoch 457/500\n",
            "414/414 [==============================] - 15s 36ms/step - loss: 0.0396 - accuracy: 0.9891 - val_loss: 1.4884 - val_accuracy: 0.7681\n",
            "Epoch 458/500\n",
            "414/414 [==============================] - 15s 36ms/step - loss: 0.0359 - accuracy: 0.9878 - val_loss: 1.4697 - val_accuracy: 0.8019\n",
            "Epoch 459/500\n",
            "414/414 [==============================] - 15s 36ms/step - loss: 0.0314 - accuracy: 0.9903 - val_loss: 1.7546 - val_accuracy: 0.7778\n",
            "Epoch 460/500\n",
            "414/414 [==============================] - 15s 36ms/step - loss: 0.0381 - accuracy: 0.9872 - val_loss: 1.5168 - val_accuracy: 0.7729\n",
            "Epoch 461/500\n",
            "414/414 [==============================] - 15s 36ms/step - loss: 0.0322 - accuracy: 0.9900 - val_loss: 1.6235 - val_accuracy: 0.7729\n",
            "Epoch 462/500\n",
            "414/414 [==============================] - 15s 36ms/step - loss: 0.0423 - accuracy: 0.9872 - val_loss: 1.5333 - val_accuracy: 0.7971\n",
            "Epoch 463/500\n",
            "414/414 [==============================] - 15s 36ms/step - loss: 0.0366 - accuracy: 0.9893 - val_loss: 1.5407 - val_accuracy: 0.7778\n",
            "Epoch 464/500\n",
            "414/414 [==============================] - 15s 36ms/step - loss: 0.0285 - accuracy: 0.9909 - val_loss: 1.4883 - val_accuracy: 0.7874\n",
            "Epoch 465/500\n",
            "414/414 [==============================] - 15s 36ms/step - loss: 0.0365 - accuracy: 0.9881 - val_loss: 1.3046 - val_accuracy: 0.8068\n",
            "Epoch 466/500\n",
            "414/414 [==============================] - 16s 38ms/step - loss: 0.0370 - accuracy: 0.9888 - val_loss: 1.4696 - val_accuracy: 0.7923\n",
            "Epoch 467/500\n",
            "414/414 [==============================] - 15s 36ms/step - loss: 0.0309 - accuracy: 0.9906 - val_loss: 1.6473 - val_accuracy: 0.7971\n",
            "Epoch 468/500\n",
            "414/414 [==============================] - 15s 36ms/step - loss: 0.0270 - accuracy: 0.9921 - val_loss: 1.5148 - val_accuracy: 0.7874\n",
            "Epoch 469/500\n",
            "414/414 [==============================] - 15s 36ms/step - loss: 0.0357 - accuracy: 0.9873 - val_loss: 1.8852 - val_accuracy: 0.7633\n",
            "Epoch 470/500\n",
            "414/414 [==============================] - 15s 36ms/step - loss: 0.0294 - accuracy: 0.9914 - val_loss: 1.6472 - val_accuracy: 0.7874\n",
            "Epoch 471/500\n",
            "414/414 [==============================] - 14s 34ms/step - loss: 0.0339 - accuracy: 0.9897 - val_loss: 1.6970 - val_accuracy: 0.7923\n",
            "Epoch 472/500\n",
            "414/414 [==============================] - 14s 35ms/step - loss: 0.0338 - accuracy: 0.9908 - val_loss: 1.7030 - val_accuracy: 0.7729\n",
            "Epoch 473/500\n",
            "414/414 [==============================] - 14s 34ms/step - loss: 0.0308 - accuracy: 0.9914 - val_loss: 1.4913 - val_accuracy: 0.7874\n",
            "Epoch 474/500\n",
            "414/414 [==============================] - 14s 34ms/step - loss: 0.0373 - accuracy: 0.9894 - val_loss: 1.6357 - val_accuracy: 0.7874\n",
            "Epoch 475/500\n",
            "414/414 [==============================] - 14s 34ms/step - loss: 0.0396 - accuracy: 0.9887 - val_loss: 1.6367 - val_accuracy: 0.7971\n",
            "Epoch 476/500\n",
            "414/414 [==============================] - 14s 34ms/step - loss: 0.0325 - accuracy: 0.9908 - val_loss: 1.6290 - val_accuracy: 0.7971\n",
            "Epoch 477/500\n",
            "414/414 [==============================] - 14s 34ms/step - loss: 0.0309 - accuracy: 0.9899 - val_loss: 1.6549 - val_accuracy: 0.7923\n",
            "Epoch 478/500\n",
            "414/414 [==============================] - 14s 34ms/step - loss: 0.0410 - accuracy: 0.9875 - val_loss: 1.6662 - val_accuracy: 0.7874\n",
            "Epoch 479/500\n",
            "414/414 [==============================] - 14s 34ms/step - loss: 0.0329 - accuracy: 0.9902 - val_loss: 1.4275 - val_accuracy: 0.7971\n",
            "Epoch 480/500\n",
            "414/414 [==============================] - 14s 34ms/step - loss: 0.0447 - accuracy: 0.9890 - val_loss: 1.7681 - val_accuracy: 0.7923\n",
            "Epoch 481/500\n",
            "414/414 [==============================] - 14s 34ms/step - loss: 0.0304 - accuracy: 0.9909 - val_loss: 1.7141 - val_accuracy: 0.7826\n",
            "Epoch 482/500\n",
            "414/414 [==============================] - 14s 34ms/step - loss: 0.0329 - accuracy: 0.9905 - val_loss: 1.7105 - val_accuracy: 0.7729\n",
            "Epoch 483/500\n",
            "414/414 [==============================] - 14s 35ms/step - loss: 0.0366 - accuracy: 0.9890 - val_loss: 1.5254 - val_accuracy: 0.7826\n",
            "Epoch 484/500\n",
            "414/414 [==============================] - 15s 35ms/step - loss: 0.0306 - accuracy: 0.9897 - val_loss: 1.6308 - val_accuracy: 0.7778\n",
            "Epoch 485/500\n",
            "414/414 [==============================] - 15s 36ms/step - loss: 0.0382 - accuracy: 0.9894 - val_loss: 1.4624 - val_accuracy: 0.8116\n",
            "Epoch 486/500\n",
            "414/414 [==============================] - 15s 36ms/step - loss: 0.0351 - accuracy: 0.9885 - val_loss: 1.7000 - val_accuracy: 0.7681\n",
            "Epoch 487/500\n",
            "414/414 [==============================] - 14s 35ms/step - loss: 0.0285 - accuracy: 0.9906 - val_loss: 1.5395 - val_accuracy: 0.7923\n",
            "Epoch 488/500\n",
            "414/414 [==============================] - 15s 35ms/step - loss: 0.0402 - accuracy: 0.9887 - val_loss: 1.5655 - val_accuracy: 0.7971\n",
            "Epoch 489/500\n",
            "414/414 [==============================] - 15s 35ms/step - loss: 0.0324 - accuracy: 0.9906 - val_loss: 1.5748 - val_accuracy: 0.8019\n",
            "Epoch 490/500\n",
            "414/414 [==============================] - 14s 34ms/step - loss: 0.0353 - accuracy: 0.9887 - val_loss: 1.8187 - val_accuracy: 0.7633\n",
            "Epoch 491/500\n",
            "414/414 [==============================] - 14s 34ms/step - loss: 0.0308 - accuracy: 0.9912 - val_loss: 1.5414 - val_accuracy: 0.7971\n",
            "Epoch 492/500\n",
            "414/414 [==============================] - 14s 33ms/step - loss: 0.0392 - accuracy: 0.9878 - val_loss: 1.5563 - val_accuracy: 0.7729\n",
            "Epoch 493/500\n",
            "414/414 [==============================] - 14s 34ms/step - loss: 0.0356 - accuracy: 0.9894 - val_loss: 1.6269 - val_accuracy: 0.7826\n",
            "Epoch 494/500\n",
            "414/414 [==============================] - 14s 34ms/step - loss: 0.0381 - accuracy: 0.9899 - val_loss: 1.5790 - val_accuracy: 0.7874\n",
            "Epoch 495/500\n",
            "414/414 [==============================] - 14s 34ms/step - loss: 0.0330 - accuracy: 0.9891 - val_loss: 1.5607 - val_accuracy: 0.8116\n",
            "Epoch 496/500\n",
            "414/414 [==============================] - 14s 34ms/step - loss: 0.0319 - accuracy: 0.9905 - val_loss: 1.5299 - val_accuracy: 0.8068\n",
            "Epoch 497/500\n",
            "414/414 [==============================] - 14s 34ms/step - loss: 0.0322 - accuracy: 0.9893 - val_loss: 1.5271 - val_accuracy: 0.7826\n",
            "Epoch 498/500\n",
            "414/414 [==============================] - 14s 34ms/step - loss: 0.0333 - accuracy: 0.9902 - val_loss: 1.6915 - val_accuracy: 0.8019\n",
            "Epoch 499/500\n",
            "414/414 [==============================] - 14s 34ms/step - loss: 0.0375 - accuracy: 0.9896 - val_loss: 1.6739 - val_accuracy: 0.7729\n",
            "Epoch 500/500\n",
            "414/414 [==============================] - 14s 34ms/step - loss: 0.0362 - accuracy: 0.9891 - val_loss: 1.5205 - val_accuracy: 0.8019\n"
          ]
        }
      ]
    },
    {
      "cell_type": "code",
      "source": [
        "ava_acc=np.mean(cnnhistory.history['accuracy']) # numpy assumed imported as np\n",
        "print(ava_acc)"
      ],
      "metadata": {
        "colab": {
          "base_uri": "https://localhost:8080/"
        },
        "id": "Fu7omyRcaIN3",
        "outputId": "765773b5-4f8b-44d2-fef7-69c11d62b0b6"
      },
      "execution_count": null,
      "outputs": [
        {
          "output_type": "stream",
          "name": "stdout",
          "text": [
            "0.9729195060048784\n"
          ]
        }
      ]
    },
    {
      "cell_type": "code",
      "source": [
        "plt.plot(cnnhistory.history['loss'])\n",
        "plt.plot(cnnhistory.history['val_loss'])\n",
        "plt.title('model loss')\n",
        "plt.ylabel('loss')\n",
        "plt.xlabel('epoch')\n",
        "plt.legend(['train', 'valid'], loc='upper left')\n",
        "plt.show()"
      ],
      "metadata": {
        "colab": {
          "base_uri": "https://localhost:8080/",
          "height": 295
        },
        "id": "oQYnuaCrDH_A",
        "outputId": "3339c79a-def0-4e74-d79f-0cacdf977013"
      },
      "execution_count": null,
      "outputs": [
        {
          "output_type": "display_data",
          "data": {
            "image/png": "[encoded data removed]",
            "text/plain": [
              "<Figure size 432x288 with 1 Axes>"
            ]
          },
          "metadata": {
            "needs_background": "light"
          }
        }
      ]
    },
    {
      "cell_type": "code",
      "source": [
        "plt.plot(cnnhistory.history['accuracy'])\n",
        "plt.plot(cnnhistory.history['val_accuracy'])\n",
        "plt.title('model accuracy')\n",
        "plt.ylabel('accuracy')\n",
        "plt.xlabel('epoch')\n",
        "plt.legend(['train', 'valid'], loc='upper left')\n",
        "plt.show()"
      ],
      "metadata": {
        "colab": {
          "base_uri": "https://localhost:8080/",
          "height": 295
        },
        "id": "IFkTuO8nDNdq",
        "outputId": "4ba5b8c4-92df-4bfa-e9a6-86ee91639f29"
      },
      "execution_count": null,
      "outputs": [
        {
          "output_type": "display_data",
          "data": {
            "image/png": "[encoded data removed]",
            "text/plain": [
              "<Figure size 432x288 with 1 Axes>"
            ]
          },
          "metadata": {
            "needs_background": "light"
          }
        }
      ]
    },
    {
      "cell_type": "code",
      "source": [
        "#predictions = model.predict_classes(x_testcnn)\n",
        "predictions = model.predict(x_test)"
      ],
      "metadata": {
        "id": "A2xtrN5wDQgY"
      },
      "execution_count": null,
      "outputs": []
    },
    {
      "cell_type": "code",
      "source": [
        "predictions"
      ],
      "metadata": {
        "colab": {
          "base_uri": "https://localhost:8080/"
        },
        "id": "_f_ohjXKDUpY",
        "outputId": "e4c16ca7-39cf-46e0-b15e-cb22486876e9"
      },
      "execution_count": null,
      "outputs": [
        {
          "output_type": "execute_result",
          "data": {
            "text/plain": [
              "array([[4.6198365e-10, 1.8152556e-09, 4.0100247e-07, 7.1351214e-09,\n",
              "        1.7429281e-07, 9.9999940e-01],\n",
              "       [1.1850429e-11, 1.0000000e+00, 1.2590620e-09, 1.7435681e-10,\n",
              "        3.5941105e-12, 1.0201466e-09],\n",
              "       [1.0650972e-09, 1.2112294e-07, 9.9999845e-01, 1.3081614e-06,\n",
              "        4.0219281e-09, 1.4907130e-07],\n",
              "       ...,\n",
              "       [2.4001625e-09, 5.5616333e-08, 2.6401045e-08, 9.5569618e-08,\n",
              "        9.9999738e-01, 2.3851198e-06],\n",
              "       [3.9959229e-03, 4.6212052e-05, 5.4937057e-02, 4.1085473e-01,\n",
              "        1.5157159e-08, 5.3016603e-01],\n",
              "       [9.5255939e-07, 1.8694940e-06, 4.3608645e-07, 2.5223384e-08,\n",
              "        9.9999666e-01, 5.9508682e-08]], dtype=float32)"
            ]
          },
          "metadata": {},
          "execution_count": 32
        }
      ]
    },
    {
      "cell_type": "code",
      "source": [
        "emo_test"
      ],
      "metadata": {
        "colab": {
          "base_uri": "https://localhost:8080/"
        },
        "id": "cmA2bFgsDW3D",
        "outputId": "7b59dd0b-3f58-4ef0-d52d-ae288f39c458"
      },
      "execution_count": null,
      "outputs": [
        {
          "output_type": "execute_result",
          "data": {
            "text/plain": [
              "array([5, 1, 2, 5, 3, 4, 2, 0, 3, 1, 3, 2, 1, 4, 3, 0, 5, 0, 2, 5, 0, 0,\n",
              "       1, 3, 2, 3, 2, 5, 4, 2, 2, 3, 1, 2, 5, 5, 3, 5, 3, 3, 4, 1, 3, 2,\n",
              "       3, 1, 5, 3, 1, 2, 4, 4, 5, 5, 5, 1, 2, 3, 2, 5, 0, 2, 4, 2, 5, 4,\n",
              "       3, 0, 1, 2, 5, 2, 1, 2, 4, 5, 4, 1, 5, 5, 3, 1, 5, 3, 2, 4, 2, 5,\n",
              "       0, 5, 0, 5, 4, 0, 2, 4, 0, 2, 2, 0, 2, 3, 5, 3, 5, 5, 3, 1, 2, 2,\n",
              "       2, 1, 3, 2, 1, 3, 4, 4, 1, 1, 2, 4, 4, 1, 4, 2, 0, 4, 5, 5, 3, 1,\n",
              "       2, 1, 5, 5, 1, 2, 3, 3, 0, 3, 3, 0, 1, 0, 1, 2, 1, 5, 1, 2, 2, 0,\n",
              "       1, 1, 1, 1, 1, 4, 0, 1, 5, 1, 4, 5, 5, 4, 1, 0, 3, 5, 2, 3, 0, 4,\n",
              "       1, 3, 1, 0, 5, 5, 3, 5, 4, 5, 4, 0, 4, 1, 2, 1, 5, 0, 4, 3, 2, 1,\n",
              "       0, 3, 5, 0, 4, 5, 4, 5, 4])"
            ]
          },
          "metadata": {},
          "execution_count": 33
        }
      ]
    },
    {
      "cell_type": "code",
      "source": [
        "new_Ytest = emo_test.astype(int)"
      ],
      "metadata": {
        "id": "0PHDKWJWDY3g"
      },
      "execution_count": null,
      "outputs": []
    },
    {
      "cell_type": "code",
      "source": [
        "new_Ytest"
      ],
      "metadata": {
        "colab": {
          "base_uri": "https://localhost:8080/"
        },
        "id": "k68v2i-pDbZE",
        "outputId": "731e2ae5-c8f8-4ffd-fc3f-7de649be7ff4"
      },
      "execution_count": null,
      "outputs": [
        {
          "output_type": "execute_result",
          "data": {
            "text/plain": [
              "array([5, 1, 2, 5, 3, 4, 2, 0, 3, 1, 3, 2, 1, 4, 3, 0, 5, 0, 2, 5, 0, 0,\n",
              "       1, 3, 2, 3, 2, 5, 4, 2, 2, 3, 1, 2, 5, 5, 3, 5, 3, 3, 4, 1, 3, 2,\n",
              "       3, 1, 5, 3, 1, 2, 4, 4, 5, 5, 5, 1, 2, 3, 2, 5, 0, 2, 4, 2, 5, 4,\n",
              "       3, 0, 1, 2, 5, 2, 1, 2, 4, 5, 4, 1, 5, 5, 3, 1, 5, 3, 2, 4, 2, 5,\n",
              "       0, 5, 0, 5, 4, 0, 2, 4, 0, 2, 2, 0, 2, 3, 5, 3, 5, 5, 3, 1, 2, 2,\n",
              "       2, 1, 3, 2, 1, 3, 4, 4, 1, 1, 2, 4, 4, 1, 4, 2, 0, 4, 5, 5, 3, 1,\n",
              "       2, 1, 5, 5, 1, 2, 3, 3, 0, 3, 3, 0, 1, 0, 1, 2, 1, 5, 1, 2, 2, 0,\n",
              "       1, 1, 1, 1, 1, 4, 0, 1, 5, 1, 4, 5, 5, 4, 1, 0, 3, 5, 2, 3, 0, 4,\n",
              "       1, 3, 1, 0, 5, 5, 3, 5, 4, 5, 4, 0, 4, 1, 2, 1, 5, 0, 4, 3, 2, 1,\n",
              "       0, 3, 5, 0, 4, 5, 4, 5, 4])"
            ]
          },
          "metadata": {},
          "execution_count": 35
        }
      ]
    },
    {
      "cell_type": "code",
      "source": [
        "preds1=predictions.argmax(axis=1)"
      ],
      "metadata": {
        "id": "VEw0FiZFMcOQ"
      },
      "execution_count": null,
      "outputs": []
    },
    {
      "cell_type": "code",
      "source": [
        "preds1"
      ],
      "metadata": {
        "colab": {
          "base_uri": "https://localhost:8080/"
        },
        "id": "vvyRw0M0NBOb",
        "outputId": "e4c10e64-6a10-4913-88c5-cf1d002fe9a9"
      },
      "execution_count": null,
      "outputs": [
        {
          "output_type": "execute_result",
          "data": {
            "text/plain": [
              "array([5, 1, 2, 5, 3, 4, 2, 0, 3, 0, 3, 2, 1, 4, 3, 0, 5, 3, 2, 5, 5, 1,\n",
              "       1, 3, 2, 3, 2, 5, 2, 5, 2, 3, 1, 2, 5, 5, 1, 5, 3, 2, 5, 1, 3, 5,\n",
              "       3, 1, 5, 3, 1, 4, 4, 4, 5, 2, 3, 1, 2, 3, 2, 5, 0, 2, 4, 2, 5, 4,\n",
              "       3, 4, 1, 2, 5, 2, 1, 2, 5, 2, 4, 1, 5, 2, 3, 1, 5, 3, 2, 4, 2, 5,\n",
              "       1, 5, 0, 5, 4, 1, 0, 4, 3, 5, 2, 0, 2, 2, 0, 3, 5, 5, 3, 1, 2, 2,\n",
              "       2, 1, 3, 2, 1, 4, 4, 4, 1, 1, 2, 4, 4, 1, 4, 2, 0, 4, 5, 5, 3, 1,\n",
              "       2, 1, 5, 5, 1, 4, 3, 3, 0, 3, 5, 0, 5, 0, 1, 2, 3, 5, 1, 2, 5, 1,\n",
              "       1, 1, 2, 1, 1, 4, 0, 1, 5, 1, 4, 5, 5, 4, 1, 0, 2, 5, 2, 3, 1, 4,\n",
              "       1, 3, 1, 0, 5, 5, 3, 5, 4, 5, 3, 0, 0, 1, 2, 1, 2, 0, 4, 3, 2, 1,\n",
              "       1, 3, 5, 0, 4, 5, 4, 5, 4])"
            ]
          },
          "metadata": {},
          "execution_count": 37
        }
      ]
    },
    {
      "cell_type": "code",
      "source": [
        "abc = preds1.astype(int).flatten()"
      ],
      "metadata": {
        "id": "H4WEmM60NfQn"
      },
      "execution_count": null,
      "outputs": []
    },
    {
      "cell_type": "code",
      "source": [
        "from sklearn.metrics import confusion_matrix\n",
        "c = confusion_matrix(new_Ytest, abc) \n",
        "c"
      ],
      "metadata": {
        "colab": {
          "base_uri": "https://localhost:8080/"
        },
        "id": "bKEBeEBlFjB8",
        "outputId": "be631028-87a8-4a27-fc4a-e7e6e362dbe8"
      },
      "execution_count": null,
      "outputs": [
        {
          "output_type": "execute_result",
          "data": {
            "text/plain": [
              "array([[15,  6,  0,  2,  1,  1],\n",
              "       [ 1, 35,  1,  1,  0,  1],\n",
              "       [ 1,  0, 31,  0,  2,  4],\n",
              "       [ 0,  1,  3, 27,  1,  1],\n",
              "       [ 1,  0,  1,  1, 25,  2],\n",
              "       [ 1,  0,  4,  1,  0, 36]])"
            ]
          },
          "metadata": {},
          "execution_count": 39
        }
      ]
    },
    {
      "cell_type": "code",
      "source": [
        "emo_test"
      ],
      "metadata": {
        "colab": {
          "base_uri": "https://localhost:8080/"
        },
        "id": "m4RjG7LWLSQx",
        "outputId": "0464e8c5-a3d5-417a-debe-c06b373cbff9"
      },
      "execution_count": null,
      "outputs": [
        {
          "output_type": "execute_result",
          "data": {
            "text/plain": [
              "array([5, 1, 2, 5, 3, 4, 2, 0, 3, 1, 3, 2, 1, 4, 3, 0, 5, 0, 2, 5, 0, 0,\n",
              "       1, 3, 2, 3, 2, 5, 4, 2, 2, 3, 1, 2, 5, 5, 3, 5, 3, 3, 4, 1, 3, 2,\n",
              "       3, 1, 5, 3, 1, 2, 4, 4, 5, 5, 5, 1, 2, 3, 2, 5, 0, 2, 4, 2, 5, 4,\n",
              "       3, 0, 1, 2, 5, 2, 1, 2, 4, 5, 4, 1, 5, 5, 3, 1, 5, 3, 2, 4, 2, 5,\n",
              "       0, 5, 0, 5, 4, 0, 2, 4, 0, 2, 2, 0, 2, 3, 5, 3, 5, 5, 3, 1, 2, 2,\n",
              "       2, 1, 3, 2, 1, 3, 4, 4, 1, 1, 2, 4, 4, 1, 4, 2, 0, 4, 5, 5, 3, 1,\n",
              "       2, 1, 5, 5, 1, 2, 3, 3, 0, 3, 3, 0, 1, 0, 1, 2, 1, 5, 1, 2, 2, 0,\n",
              "       1, 1, 1, 1, 1, 4, 0, 1, 5, 1, 4, 5, 5, 4, 1, 0, 3, 5, 2, 3, 0, 4,\n",
              "       1, 3, 1, 0, 5, 5, 3, 5, 4, 5, 4, 0, 4, 1, 2, 1, 5, 0, 4, 3, 2, 1,\n",
              "       0, 3, 5, 0, 4, 5, 4, 5, 4])"
            ]
          },
          "metadata": {},
          "execution_count": 40
        }
      ]
    },
    {
      "cell_type": "code",
      "source": [
        "model.save('/content/drive/My Drive/graduation project/audio/improvement1/model/augmanted&transformer_radvass_1')\n",
        "print(\"MODEL SAVED\")"
      ],
      "metadata": {
        "colab": {
          "base_uri": "https://localhost:8080/"
        },
        "id": "lsJBNeMWDl6Z",
        "outputId": "0b5e3adb-b590-4e58-d378-c7da06bc45b6"
      },
      "execution_count": null,
      "outputs": [
        {
          "output_type": "stream",
          "name": "stderr",
          "text": [
            "WARNING:absl:Found untraced functions such as multi_head_attention_1_layer_call_fn, multi_head_attention_1_layer_call_and_return_conditional_losses, layer_normalization_2_layer_call_fn, layer_normalization_2_layer_call_and_return_conditional_losses, layer_normalization_3_layer_call_fn while saving (showing 5 of 22). These functions will not be directly callable after loading.\n"
          ]
        },
        {
          "output_type": "stream",
          "name": "stdout",
          "text": [
            "INFO:tensorflow:Assets written to: /content/drive/My Drive/graduation project/audio/improvement1/model/augmanted&transformer_radvass_1/assets\n"
          ]
        },
        {
          "output_type": "stream",
          "name": "stderr",
          "text": [
            "INFO:tensorflow:Assets written to: /content/drive/My Drive/graduation project/audio/improvement1/model/augmanted&transformer_radvass_1/assets\n"
          ]
        },
        {
          "output_type": "stream",
          "name": "stdout",
          "text": [
            "MODEL SAVED\n"
          ]
        }
      ]
    },
    {
      "cell_type": "code",
      "source": [
        "new_model=keras.models.load_model('/content/drive/My Drive/graduation project/audio/improvement1/model/augmanted&transformer_radvass_1')\n",
        "new_model.summary()"
      ],
      "metadata": {
        "colab": {
          "base_uri": "https://localhost:8080/"
        },
        "id": "Q3KjaO9GDoNl",
        "outputId": "b76a618b-b02a-49eb-f6e2-7716f3a8f0f4"
      },
      "execution_count": null,
      "outputs": [
        {
          "output_type": "stream",
          "name": "stdout",
          "text": [
            "Model: \"sequential_2\"\n",
            "_________________________________________________________________\n",
            " Layer (type)                Output Shape              Param #   \n",
            "=================================================================\n",
            " conv1d_3 (Conv1D)           (None, 40, 64)            384       \n",
            "                                                                 \n",
            " activation_3 (Activation)   (None, 40, 64)            0         \n",
            "                                                                 \n",
            " dropout_5 (Dropout)         (None, 40, 64)            0         \n",
            "                                                                 \n",
            " max_pooling1d_2 (MaxPooling  (None, 10, 64)           0         \n",
            " 1D)                                                             \n",
            "                                                                 \n",
            " conv1d_4 (Conv1D)           (None, 10, 128)           41088     \n",
            "                                                                 \n",
            " activation_4 (Activation)   (None, 10, 128)           0         \n",
            "                                                                 \n",
            " dropout_6 (Dropout)         (None, 10, 128)           0         \n",
            "                                                                 \n",
            " max_pooling1d_3 (MaxPooling  (None, 2, 128)           0         \n",
            " 1D)                                                             \n",
            "                                                                 \n",
            " conv1d_5 (Conv1D)           (None, 2, 256)            164096    \n",
            "                                                                 \n",
            " activation_5 (Activation)   (None, 2, 256)            0         \n",
            "                                                                 \n",
            " dropout_7 (Dropout)         (None, 2, 256)            0         \n",
            "                                                                 \n",
            " transformer_block_1 (Transf  (None, 2, 256)           658688    \n",
            " ormerBlock)                                                     \n",
            "                                                                 \n",
            " flatten (Flatten)           (None, 512)               0         \n",
            "                                                                 \n",
            " dense_4 (Dense)             (None, 6)                 3078      \n",
            "                                                                 \n",
            " activation_6 (Activation)   (None, 6)                 0         \n",
            "                                                                 \n",
            "=================================================================\n",
            "Total params: 867,334\n",
            "Trainable params: 867,334\n",
            "Non-trainable params: 0\n",
            "_________________________________________________________________\n"
          ]
        }
      ]
    },
    {
      "cell_type": "code",
      "source": [
        "loss, acc = new_model.evaluate(x_test, emo_test)\n",
        "print(\"Restored model, accuracy: {:5.2f}%\".format(100*acc))"
      ],
      "metadata": {
        "colab": {
          "base_uri": "https://localhost:8080/"
        },
        "id": "n3kzoqPkDqqS",
        "outputId": "72ccd6fd-a3d5-442a-ea51-d71b24990965"
      },
      "execution_count": null,
      "outputs": [
        {
          "output_type": "stream",
          "name": "stdout",
          "text": [
            "7/7 [==============================] - 0s 8ms/step - loss: 1.3673 - accuracy: 0.8164\n",
            "Restored model, accuracy: 81.64%\n"
          ]
        }
      ]
    },
    {
      "cell_type": "code",
      "source": [
        "loss, acc = new_model.evaluate(x_train, y_train)\n",
        "print(\"Restored model, accuracy: {:5.2f}%\".format(100*acc))"
      ],
      "metadata": {
        "colab": {
          "base_uri": "https://localhost:8080/"
        },
        "id": "EHkbpLB-C3th",
        "outputId": "40bdb44d-f945-4ff4-e8aa-994817ec2665"
      },
      "execution_count": null,
      "outputs": [
        {
          "output_type": "stream",
          "name": "stdout",
          "text": [
            "207/207 [==============================] - 2s 8ms/step - loss: 0.0012 - accuracy: 0.9994\n",
            "Restored model, accuracy: 99.94%\n"
          ]
        }
      ]
    },
    {
      "cell_type": "code",
      "source": [
        "from sklearn.metrics import classification_report, confusion_matrix,accuracy_score\n",
        "import seaborn as sn\n",
        "\n",
        "print(classification_report(emo_test,abc))\n",
        "\n",
        "acc = float(accuracy_score(emo_test,abc))*100\n",
        "print(\"----accuracy score %s ----\" % acc)\n",
        "\n",
        "cm = confusion_matrix(emo_test,abc)\n",
        "#df_cm = pd.DataFrame(cm)\n",
        "class_names = ['neutral','calm', 'happy','sad','angry', 'fearful' ]\n",
        "df_cm = pd.DataFrame(cm, index=class_names, columns=class_names,)\n",
        "sn.heatmap(df_cm, annot=True, fmt='')\n",
        "plt.show()"
      ],
      "metadata": {
        "id": "Yx8ogGOnNneV",
        "colab": {
          "base_uri": "https://localhost:8080/",
          "height": 508
        },
        "outputId": "8a7fcd33-1f7b-4dd8-87b4-e540821fb130"
      },
      "execution_count": null,
      "outputs": [
        {
          "output_type": "stream",
          "name": "stdout",
          "text": [
            "              precision    recall  f1-score   support\n",
            "\n",
            "           0       0.79      0.60      0.68        25\n",
            "           1       0.83      0.90      0.86        39\n",
            "           2       0.78      0.82      0.79        38\n",
            "           3       0.84      0.82      0.83        33\n",
            "           4       0.86      0.83      0.85        30\n",
            "           5       0.80      0.86      0.83        42\n",
            "\n",
            "    accuracy                           0.82       207\n",
            "   macro avg       0.82      0.80      0.81       207\n",
            "weighted avg       0.82      0.82      0.81       207\n",
            "\n",
            "----accuracy score 81.64251207729468 ----\n"
          ]
        },
        {
          "output_type": "display_data",
          "data": {
            "image/png": "[encoded data removed]",
            "text/plain": [
              "<Figure size 432x288 with 2 Axes>"
            ]
          },
          "metadata": {
            "needs_background": "light"
          }
        }
      ]
    },
    {
      "cell_type": "code",
      "source": [
        ""
      ],
      "metadata": {
        "id": "fJDTGH_OUX0z"
      },
      "execution_count": null,
      "outputs": []
    }
  ]
}