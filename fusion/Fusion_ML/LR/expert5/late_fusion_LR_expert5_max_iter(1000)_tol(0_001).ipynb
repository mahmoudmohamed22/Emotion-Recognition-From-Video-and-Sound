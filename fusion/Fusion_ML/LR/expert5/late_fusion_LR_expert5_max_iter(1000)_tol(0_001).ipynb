{
  "nbformat": 4,
  "nbformat_minor": 0,
  "metadata": {
    "colab": {
      "name": "late_fusion_LR_expert5/max_iter(1000)/tol(0.001).ipynb",
      "provenance": [],
      "collapsed_sections": []
    },
    "kernelspec": {
      "name": "python3",
      "display_name": "Python 3"
    },
    "language_info": {
      "name": "python"
    }
  },
  "cells": [
    {
      "cell_type": "code",
      "source": [
        "# stacked generalization with linear meta model on blobs dataset\n",
        "from sklearn.metrics import accuracy_score\n",
        "from sklearn.linear_model import LogisticRegression\n",
        "from matplotlib import pyplot\n"
      ],
      "metadata": {
        "id": "XQj4f23-Ix-w"
      },
      "execution_count": 1,
      "outputs": []
    },
    {
      "cell_type": "code",
      "source": [
        "from google.colab import drive\n",
        "drive.mount('/content/drive')"
      ],
      "metadata": {
        "colab": {
          "base_uri": "https://localhost:8080/"
        },
        "id": "qj9wMQtlI1os",
        "outputId": "88045fec-3b40-406f-a96b-b26b50906fe2"
      },
      "execution_count": 2,
      "outputs": [
        {
          "output_type": "stream",
          "name": "stdout",
          "text": [
            "Drive already mounted at /content/drive; to attempt to forcibly remount, call drive.mount(\"/content/drive\", force_remount=True).\n"
          ]
        }
      ]
    },
    {
      "cell_type": "code",
      "source": [
        "#x_train  y_train to train\n",
        "#x_test   y_test to test\n",
        "#x_valid  y_valid \n",
        "#video\n",
        "import joblib\n",
        "x_test_prediction = joblib.load('/content/drive/My Drive/fusion/video/data_set_fusion/expert5/test/pred_test')\n",
        "x_train_prediction = joblib.load('/content/drive/My Drive/fusion/video/data_set_fusion/expert5/train/pred_train')\n",
        "x_valid_prediction = joblib.load('/content/drive/My Drive/fusion/video/data_set_fusion/expert5/valid/pred_valid')\n",
        "y_test = joblib.load('/content/drive/My Drive/fusion/video/data_set_fusion/expert5/test/labels_test')\n",
        "y_train = joblib.load('/content/drive/My Drive/fusion/video/data_set_fusion/expert5/train/labels_train')\n",
        "y_valid = joblib.load('/content/drive/My Drive/fusion/video/data_set_fusion/expert5/valid/labels_valid')\n",
        "#audio\n",
        "\n",
        "x_audio_test_prediction = joblib.load('/content/drive/My Drive/fusion/audio/new_data_set_fusion/expert5/test/predict_test')\n",
        "x_audio_train_prediction = joblib.load('/content/drive/My Drive/fusion/audio/new_data_set_fusion/expert5/train/predict_train')\n",
        "x_audio_valid_prediction = joblib.load('/content/drive/My Drive/fusion/audio/new_data_set_fusion/expert5/valid/predict_valid')\n",
        "\"\"\"\n",
        "#samples name\n",
        "test_videos= joblib.load('/content/drive/My Drive/fusion/video/data_set_fusion/expert1/test/video_test_path')\n",
        "train_videos = joblib.load('/content/drive/My Drive/fusion/video/data_set_fusion/expert1/train/video_train_path')\n",
        "valid_videos = joblib.load('/content/drive/My Drive/fusion/video/data_set_fusion/expert1/valid/video_valid_path')\n",
        "\"\"\""
      ],
      "metadata": {
        "id": "gb8C-44ct_Yp",
        "colab": {
          "base_uri": "https://localhost:8080/",
          "height": 70
        },
        "outputId": "948f29e8-3c75-4431-e80a-16cb6bbb743c"
      },
      "execution_count": 3,
      "outputs": [
        {
          "output_type": "execute_result",
          "data": {
            "text/plain": [
              "\"\\n#samples name\\ntest_videos= joblib.load('/content/drive/My Drive/fusion/video/data_set_fusion/expert1/test/video_test_path')\\ntrain_videos = joblib.load('/content/drive/My Drive/fusion/video/data_set_fusion/expert1/train/video_train_path')\\nvalid_videos = joblib.load('/content/drive/My Drive/fusion/video/data_set_fusion/expert1/valid/video_valid_path')\\n\""
            ],
            "application/vnd.google.colaboratory.intrinsic+json": {
              "type": "string"
            }
          },
          "metadata": {},
          "execution_count": 3
        }
      ]
    },
    {
      "cell_type": "code",
      "source": [
        "X_train_MM = shuffle(X_train_MM,random_state=seed)\n",
        "        y_train = shuffle(y_train, random_state=2020)\n",
        "        X_train_MM = X_train_MM.reset_index(drop=True)\n",
        "        y_train = y_train.reset_index(drop=True)\n",
        "\n",
        "        if (args.type_of_norm in [0, 1]):\n",
        "            if (args.type_of_norm == 1):\n",
        "                scaler = MinMaxScaler(feature_range=(0, 1))\n",
        "            else:\n",
        "                scaler = StandardScaler()\n",
        "            X_train_MM = scaler.fit_transform(X_train_MM)\n",
        "            X_test_MM = scaler.transform(X_test_MM)\n"
      ],
      "metadata": {
        "colab": {
          "base_uri": "https://localhost:8080/",
          "height": 131
        },
        "id": "WfZq3lGqQsNf",
        "outputId": "00439783-ac3a-4c66-8195-47018af446ca"
      },
      "execution_count": 6,
      "outputs": [
        {
          "output_type": "error",
          "ename": "IndentationError",
          "evalue": "ignored",
          "traceback": [
            "\u001b[0;36m  File \u001b[0;32m\"<ipython-input-6-a4ec3b0112f9>\"\u001b[0;36m, line \u001b[0;32m2\u001b[0m\n\u001b[0;31m    y_train = shuffle(y_train, random_state=2020)\u001b[0m\n\u001b[0m    ^\u001b[0m\n\u001b[0;31mIndentationError\u001b[0m\u001b[0;31m:\u001b[0m unexpected indent\n"
          ]
        }
      ]
    },
    {
      "cell_type": "code",
      "source": [
        "len(x_test_prediction),len(x_train_prediction),len(x_audio_test_prediction),len(x_audio_train_prediction),len(x_valid_prediction),len(x_audio_valid_prediction)"
      ],
      "metadata": {
        "colab": {
          "base_uri": "https://localhost:8080/"
        },
        "id": "Qz1Z3Vgdxaaw",
        "outputId": "a6dd89ab-41fc-432e-b6cd-9faf9e54e115"
      },
      "execution_count": 4,
      "outputs": [
        {
          "output_type": "execute_result",
          "data": {
            "text/plain": [
              "(207, 1653, 207, 1653, 207, 207)"
            ]
          },
          "metadata": {},
          "execution_count": 4
        }
      ]
    },
    {
      "cell_type": "code",
      "source": [
        "#x_train for video\n",
        "x_train_prediction=x_train_prediction.append(x_valid_prediction,ignore_index = True)\n",
        "#x_train for audio\n",
        "x_audio_train_prediction=x_audio_train_prediction.append(x_audio_valid_prediction,ignore_index = True)"
      ],
      "metadata": {
        "id": "QgDf-FF0utgP"
      },
      "execution_count": 5,
      "outputs": []
    },
    {
      "cell_type": "code",
      "source": [
        "len(x_audio_train_prediction),len(x_train_prediction)"
      ],
      "metadata": {
        "colab": {
          "base_uri": "https://localhost:8080/"
        },
        "id": "3G4-X-MLv79s",
        "outputId": "506e52d9-f387-4337-ba1b-5c8b8162842d"
      },
      "execution_count": 6,
      "outputs": [
        {
          "output_type": "execute_result",
          "data": {
            "text/plain": [
              "(1860, 1860)"
            ]
          },
          "metadata": {},
          "execution_count": 6
        }
      ]
    },
    {
      "cell_type": "code",
      "source": [
        "from pandas.core.frame import DataFrame\n",
        "df_train=DataFrame(y_train,columns=['labels'])\n",
        "df_valid=DataFrame(y_valid,columns=['labels'])"
      ],
      "metadata": {
        "id": "JrYaQCyZw06M"
      },
      "execution_count": 7,
      "outputs": []
    },
    {
      "cell_type": "code",
      "source": [
        "df_train=df_train.append(df_valid,ignore_index = True)"
      ],
      "metadata": {
        "id": "Rq3yhw26xjfy"
      },
      "execution_count": 8,
      "outputs": []
    },
    {
      "cell_type": "code",
      "source": [
        "len(df_train)"
      ],
      "metadata": {
        "colab": {
          "base_uri": "https://localhost:8080/"
        },
        "id": "dvYKmNurx1KR",
        "outputId": "c2f375fe-b45f-4774-805a-7d401791b298"
      },
      "execution_count": 9,
      "outputs": [
        {
          "output_type": "execute_result",
          "data": {
            "text/plain": [
              "1860"
            ]
          },
          "metadata": {},
          "execution_count": 9
        }
      ]
    },
    {
      "cell_type": "code",
      "source": [
        "df_train"
      ],
      "metadata": {
        "colab": {
          "base_uri": "https://localhost:8080/",
          "height": 424
        },
        "id": "Pfp2YX591X1F",
        "outputId": "2cdd8d29-b89e-4d36-cdea-46fdda116fda"
      },
      "execution_count": 10,
      "outputs": [
        {
          "output_type": "execute_result",
          "data": {
            "text/plain": [
              "      labels\n",
              "0          1\n",
              "1          0\n",
              "2          1\n",
              "3          2\n",
              "4          2\n",
              "...      ...\n",
              "1855       3\n",
              "1856       1\n",
              "1857       5\n",
              "1858       5\n",
              "1859       5\n",
              "\n",
              "[1860 rows x 1 columns]"
            ],
            "text/html": [
              "\n",
              "  <div id=\"df-cf4f6934-c5ee-4bfd-bcdb-ae8169d4e934\">\n",
              "    <div class=\"colab-df-container\">\n",
              "      <div>\n",
              "<style scoped>\n",
              "    .dataframe tbody tr th:only-of-type {\n",
              "        vertical-align: middle;\n",
              "    }\n",
              "\n",
              "    .dataframe tbody tr th {\n",
              "        vertical-align: top;\n",
              "    }\n",
              "\n",
              "    .dataframe thead th {\n",
              "        text-align: right;\n",
              "    }\n",
              "</style>\n",
              "<table border=\"1\" class=\"dataframe\">\n",
              "  <thead>\n",
              "    <tr style=\"text-align: right;\">\n",
              "      <th></th>\n",
              "      <th>labels</th>\n",
              "    </tr>\n",
              "  </thead>\n",
              "  <tbody>\n",
              "    <tr>\n",
              "      <th>0</th>\n",
              "      <td>1</td>\n",
              "    </tr>\n",
              "    <tr>\n",
              "      <th>1</th>\n",
              "      <td>0</td>\n",
              "    </tr>\n",
              "    <tr>\n",
              "      <th>2</th>\n",
              "      <td>1</td>\n",
              "    </tr>\n",
              "    <tr>\n",
              "      <th>3</th>\n",
              "      <td>2</td>\n",
              "    </tr>\n",
              "    <tr>\n",
              "      <th>4</th>\n",
              "      <td>2</td>\n",
              "    </tr>\n",
              "    <tr>\n",
              "      <th>...</th>\n",
              "      <td>...</td>\n",
              "    </tr>\n",
              "    <tr>\n",
              "      <th>1855</th>\n",
              "      <td>3</td>\n",
              "    </tr>\n",
              "    <tr>\n",
              "      <th>1856</th>\n",
              "      <td>1</td>\n",
              "    </tr>\n",
              "    <tr>\n",
              "      <th>1857</th>\n",
              "      <td>5</td>\n",
              "    </tr>\n",
              "    <tr>\n",
              "      <th>1858</th>\n",
              "      <td>5</td>\n",
              "    </tr>\n",
              "    <tr>\n",
              "      <th>1859</th>\n",
              "      <td>5</td>\n",
              "    </tr>\n",
              "  </tbody>\n",
              "</table>\n",
              "<p>1860 rows × 1 columns</p>\n",
              "</div>\n",
              "      <button class=\"colab-df-convert\" onclick=\"convertToInteractive('df-cf4f6934-c5ee-4bfd-bcdb-ae8169d4e934')\"\n",
              "              title=\"Convert this dataframe to an interactive table.\"\n",
              "              style=\"display:none;\">\n",
              "        \n",
              "  <svg xmlns=\"http://www.w3.org/2000/svg\" height=\"24px\"viewBox=\"0 0 24 24\"\n",
              "       width=\"24px\">\n",
              "    <path d=\"M0 0h24v24H0V0z\" fill=\"none\"/>\n",
              "    <path d=\"M18.56 5.44l.94 2.06.94-2.06 2.06-.94-2.06-.94-.94-2.06-.94 2.06-2.06.94zm-11 1L8.5 8.5l.94-2.06 2.06-.94-2.06-.94L8.5 2.5l-.94 2.06-2.06.94zm10 10l.94 2.06.94-2.06 2.06-.94-2.06-.94-.94-2.06-.94 2.06-2.06.94z\"/><path d=\"M17.41 7.96l-1.37-1.37c-.4-.4-.92-.59-1.43-.59-.52 0-1.04.2-1.43.59L10.3 9.45l-7.72 7.72c-.78.78-.78 2.05 0 2.83L4 21.41c.39.39.9.59 1.41.59.51 0 1.02-.2 1.41-.59l7.78-7.78 2.81-2.81c.8-.78.8-2.07 0-2.86zM5.41 20L4 18.59l7.72-7.72 1.47 1.35L5.41 20z\"/>\n",
              "  </svg>\n",
              "      </button>\n",
              "      \n",
              "  <style>\n",
              "    .colab-df-container {\n",
              "      display:flex;\n",
              "      flex-wrap:wrap;\n",
              "      gap: 12px;\n",
              "    }\n",
              "\n",
              "    .colab-df-convert {\n",
              "      background-color: #E8F0FE;\n",
              "      border: none;\n",
              "      border-radius: 50%;\n",
              "      cursor: pointer;\n",
              "      display: none;\n",
              "      fill: #1967D2;\n",
              "      height: 32px;\n",
              "      padding: 0 0 0 0;\n",
              "      width: 32px;\n",
              "    }\n",
              "\n",
              "    .colab-df-convert:hover {\n",
              "      background-color: #E2EBFA;\n",
              "      box-shadow: 0px 1px 2px rgba(60, 64, 67, 0.3), 0px 1px 3px 1px rgba(60, 64, 67, 0.15);\n",
              "      fill: #174EA6;\n",
              "    }\n",
              "\n",
              "    [theme=dark] .colab-df-convert {\n",
              "      background-color: #3B4455;\n",
              "      fill: #D2E3FC;\n",
              "    }\n",
              "\n",
              "    [theme=dark] .colab-df-convert:hover {\n",
              "      background-color: #434B5C;\n",
              "      box-shadow: 0px 1px 3px 1px rgba(0, 0, 0, 0.15);\n",
              "      filter: drop-shadow(0px 1px 2px rgba(0, 0, 0, 0.3));\n",
              "      fill: #FFFFFF;\n",
              "    }\n",
              "  </style>\n",
              "\n",
              "      <script>\n",
              "        const buttonEl =\n",
              "          document.querySelector('#df-cf4f6934-c5ee-4bfd-bcdb-ae8169d4e934 button.colab-df-convert');\n",
              "        buttonEl.style.display =\n",
              "          google.colab.kernel.accessAllowed ? 'block' : 'none';\n",
              "\n",
              "        async function convertToInteractive(key) {\n",
              "          const element = document.querySelector('#df-cf4f6934-c5ee-4bfd-bcdb-ae8169d4e934');\n",
              "          const dataTable =\n",
              "            await google.colab.kernel.invokeFunction('convertToInteractive',\n",
              "                                                     [key], {});\n",
              "          if (!dataTable) return;\n",
              "\n",
              "          const docLinkHtml = 'Like what you see? Visit the ' +\n",
              "            '<a target=\"_blank\" href=https://colab.research.google.com/notebooks/data_table.ipynb>data table notebook</a>'\n",
              "            + ' to learn more about interactive tables.';\n",
              "          element.innerHTML = '';\n",
              "          dataTable['output_type'] = 'display_data';\n",
              "          await google.colab.output.renderOutput(dataTable, element);\n",
              "          const docLink = document.createElement('div');\n",
              "          docLink.innerHTML = docLinkHtml;\n",
              "          element.appendChild(docLink);\n",
              "        }\n",
              "      </script>\n",
              "    </div>\n",
              "  </div>\n",
              "  "
            ]
          },
          "metadata": {},
          "execution_count": 10
        }
      ]
    },
    {
      "cell_type": "code",
      "source": [
        "import pandas as pd\n",
        "\n",
        "x_train = pd.concat([x_train_prediction, x_audio_train_prediction], axis=1,join='inner')\n",
        "x_test =  pd.concat([x_test_prediction, x_audio_test_prediction], axis=1,join='inner')"
      ],
      "metadata": {
        "id": "sbkgIXaFwKwh"
      },
      "execution_count": 11,
      "outputs": []
    },
    {
      "cell_type": "code",
      "source": [
        "x_test"
      ],
      "metadata": {
        "colab": {
          "base_uri": "https://localhost:8080/",
          "height": 424
        },
        "id": "78gEQ1w7w_fd",
        "outputId": "9b22cfa6-7ef8-470e-bd7f-e16209a3967a"
      },
      "execution_count": 12,
      "outputs": [
        {
          "output_type": "execute_result",
          "data": {
            "text/plain": [
              "         OV_0      OV_1      OV_2      OV_3      OV_4      OV_5          OA_0  \\\n",
              "0    0.000002  0.000616  0.999156  0.000070  0.000015  0.000141  1.081491e-14   \n",
              "1    0.070524  0.924814  0.001640  0.001804  0.001131  0.000087  1.882020e-25   \n",
              "2    0.000057  0.000164  0.000066  0.001010  0.995511  0.003193  3.220066e-05   \n",
              "3    0.000493  0.000126  0.000069  0.004140  0.926091  0.069081  7.485163e-12   \n",
              "4    0.867374  0.088145  0.000096  0.043439  0.000198  0.000748  5.284445e-01   \n",
              "..        ...       ...       ...       ...       ...       ...           ...   \n",
              "202  0.013694  0.008708  0.000044  0.723786  0.250908  0.002860  8.769180e-12   \n",
              "203  0.000189  0.001172  0.002108  0.000934  0.873140  0.122457  2.057711e-13   \n",
              "204  0.000157  0.000339  0.001526  0.003077  0.117318  0.877584  7.142629e-08   \n",
              "205  0.000283  0.000095  0.000185  0.009486  0.001196  0.988754  3.060748e-07   \n",
              "206  0.000141  0.000189  0.000046  0.000675  0.995514  0.003435  1.095312e-12   \n",
              "\n",
              "             OA_1          OA_2          OA_3          OA_4          OA_5  \n",
              "0    1.142645e-11  9.940642e-01  5.401968e-03  7.884235e-06  5.259123e-04  \n",
              "1    1.000000e+00  1.555737e-12  6.085045e-18  3.091595e-26  6.094200e-25  \n",
              "2    2.810607e-05  1.198389e-01  3.198806e-03  8.768932e-01  8.924158e-06  \n",
              "3    2.039307e-13  1.402070e-05  1.397863e-07  9.999818e-01  4.093064e-06  \n",
              "4    6.786476e-12  7.875812e-09  4.490337e-01  1.050331e-06  2.252069e-02  \n",
              "..            ...           ...           ...           ...           ...  \n",
              "202  6.331703e-12  4.600718e-08  1.299225e-08  1.000000e+00  1.901005e-09  \n",
              "203  2.634122e-13  9.551393e-06  9.954202e-09  9.999857e-01  4.739117e-06  \n",
              "204  1.521400e-12  2.522355e-06  3.346215e-08  9.998832e-01  1.142104e-04  \n",
              "205  8.749274e-08  2.425750e-04  8.996981e-07  1.358807e-02  9.861681e-01  \n",
              "206  2.723663e-11  1.871757e-05  3.491792e-08  9.999806e-01  7.340165e-07  \n",
              "\n",
              "[207 rows x 12 columns]"
            ],
            "text/html": [
              "\n",
              "  <div id=\"df-e6d60019-24e3-4269-aa71-974c4d71f97c\">\n",
              "    <div class=\"colab-df-container\">\n",
              "      <div>\n",
              "<style scoped>\n",
              "    .dataframe tbody tr th:only-of-type {\n",
              "        vertical-align: middle;\n",
              "    }\n",
              "\n",
              "    .dataframe tbody tr th {\n",
              "        vertical-align: top;\n",
              "    }\n",
              "\n",
              "    .dataframe thead th {\n",
              "        text-align: right;\n",
              "    }\n",
              "</style>\n",
              "<table border=\"1\" class=\"dataframe\">\n",
              "  <thead>\n",
              "    <tr style=\"text-align: right;\">\n",
              "      <th></th>\n",
              "      <th>OV_0</th>\n",
              "      <th>OV_1</th>\n",
              "      <th>OV_2</th>\n",
              "      <th>OV_3</th>\n",
              "      <th>OV_4</th>\n",
              "      <th>OV_5</th>\n",
              "      <th>OA_0</th>\n",
              "      <th>OA_1</th>\n",
              "      <th>OA_2</th>\n",
              "      <th>OA_3</th>\n",
              "      <th>OA_4</th>\n",
              "      <th>OA_5</th>\n",
              "    </tr>\n",
              "  </thead>\n",
              "  <tbody>\n",
              "    <tr>\n",
              "      <th>0</th>\n",
              "      <td>0.000002</td>\n",
              "      <td>0.000616</td>\n",
              "      <td>0.999156</td>\n",
              "      <td>0.000070</td>\n",
              "      <td>0.000015</td>\n",
              "      <td>0.000141</td>\n",
              "      <td>1.081491e-14</td>\n",
              "      <td>1.142645e-11</td>\n",
              "      <td>9.940642e-01</td>\n",
              "      <td>5.401968e-03</td>\n",
              "      <td>7.884235e-06</td>\n",
              "      <td>5.259123e-04</td>\n",
              "    </tr>\n",
              "    <tr>\n",
              "      <th>1</th>\n",
              "      <td>0.070524</td>\n",
              "      <td>0.924814</td>\n",
              "      <td>0.001640</td>\n",
              "      <td>0.001804</td>\n",
              "      <td>0.001131</td>\n",
              "      <td>0.000087</td>\n",
              "      <td>1.882020e-25</td>\n",
              "      <td>1.000000e+00</td>\n",
              "      <td>1.555737e-12</td>\n",
              "      <td>6.085045e-18</td>\n",
              "      <td>3.091595e-26</td>\n",
              "      <td>6.094200e-25</td>\n",
              "    </tr>\n",
              "    <tr>\n",
              "      <th>2</th>\n",
              "      <td>0.000057</td>\n",
              "      <td>0.000164</td>\n",
              "      <td>0.000066</td>\n",
              "      <td>0.001010</td>\n",
              "      <td>0.995511</td>\n",
              "      <td>0.003193</td>\n",
              "      <td>3.220066e-05</td>\n",
              "      <td>2.810607e-05</td>\n",
              "      <td>1.198389e-01</td>\n",
              "      <td>3.198806e-03</td>\n",
              "      <td>8.768932e-01</td>\n",
              "      <td>8.924158e-06</td>\n",
              "    </tr>\n",
              "    <tr>\n",
              "      <th>3</th>\n",
              "      <td>0.000493</td>\n",
              "      <td>0.000126</td>\n",
              "      <td>0.000069</td>\n",
              "      <td>0.004140</td>\n",
              "      <td>0.926091</td>\n",
              "      <td>0.069081</td>\n",
              "      <td>7.485163e-12</td>\n",
              "      <td>2.039307e-13</td>\n",
              "      <td>1.402070e-05</td>\n",
              "      <td>1.397863e-07</td>\n",
              "      <td>9.999818e-01</td>\n",
              "      <td>4.093064e-06</td>\n",
              "    </tr>\n",
              "    <tr>\n",
              "      <th>4</th>\n",
              "      <td>0.867374</td>\n",
              "      <td>0.088145</td>\n",
              "      <td>0.000096</td>\n",
              "      <td>0.043439</td>\n",
              "      <td>0.000198</td>\n",
              "      <td>0.000748</td>\n",
              "      <td>5.284445e-01</td>\n",
              "      <td>6.786476e-12</td>\n",
              "      <td>7.875812e-09</td>\n",
              "      <td>4.490337e-01</td>\n",
              "      <td>1.050331e-06</td>\n",
              "      <td>2.252069e-02</td>\n",
              "    </tr>\n",
              "    <tr>\n",
              "      <th>...</th>\n",
              "      <td>...</td>\n",
              "      <td>...</td>\n",
              "      <td>...</td>\n",
              "      <td>...</td>\n",
              "      <td>...</td>\n",
              "      <td>...</td>\n",
              "      <td>...</td>\n",
              "      <td>...</td>\n",
              "      <td>...</td>\n",
              "      <td>...</td>\n",
              "      <td>...</td>\n",
              "      <td>...</td>\n",
              "    </tr>\n",
              "    <tr>\n",
              "      <th>202</th>\n",
              "      <td>0.013694</td>\n",
              "      <td>0.008708</td>\n",
              "      <td>0.000044</td>\n",
              "      <td>0.723786</td>\n",
              "      <td>0.250908</td>\n",
              "      <td>0.002860</td>\n",
              "      <td>8.769180e-12</td>\n",
              "      <td>6.331703e-12</td>\n",
              "      <td>4.600718e-08</td>\n",
              "      <td>1.299225e-08</td>\n",
              "      <td>1.000000e+00</td>\n",
              "      <td>1.901005e-09</td>\n",
              "    </tr>\n",
              "    <tr>\n",
              "      <th>203</th>\n",
              "      <td>0.000189</td>\n",
              "      <td>0.001172</td>\n",
              "      <td>0.002108</td>\n",
              "      <td>0.000934</td>\n",
              "      <td>0.873140</td>\n",
              "      <td>0.122457</td>\n",
              "      <td>2.057711e-13</td>\n",
              "      <td>2.634122e-13</td>\n",
              "      <td>9.551393e-06</td>\n",
              "      <td>9.954202e-09</td>\n",
              "      <td>9.999857e-01</td>\n",
              "      <td>4.739117e-06</td>\n",
              "    </tr>\n",
              "    <tr>\n",
              "      <th>204</th>\n",
              "      <td>0.000157</td>\n",
              "      <td>0.000339</td>\n",
              "      <td>0.001526</td>\n",
              "      <td>0.003077</td>\n",
              "      <td>0.117318</td>\n",
              "      <td>0.877584</td>\n",
              "      <td>7.142629e-08</td>\n",
              "      <td>1.521400e-12</td>\n",
              "      <td>2.522355e-06</td>\n",
              "      <td>3.346215e-08</td>\n",
              "      <td>9.998832e-01</td>\n",
              "      <td>1.142104e-04</td>\n",
              "    </tr>\n",
              "    <tr>\n",
              "      <th>205</th>\n",
              "      <td>0.000283</td>\n",
              "      <td>0.000095</td>\n",
              "      <td>0.000185</td>\n",
              "      <td>0.009486</td>\n",
              "      <td>0.001196</td>\n",
              "      <td>0.988754</td>\n",
              "      <td>3.060748e-07</td>\n",
              "      <td>8.749274e-08</td>\n",
              "      <td>2.425750e-04</td>\n",
              "      <td>8.996981e-07</td>\n",
              "      <td>1.358807e-02</td>\n",
              "      <td>9.861681e-01</td>\n",
              "    </tr>\n",
              "    <tr>\n",
              "      <th>206</th>\n",
              "      <td>0.000141</td>\n",
              "      <td>0.000189</td>\n",
              "      <td>0.000046</td>\n",
              "      <td>0.000675</td>\n",
              "      <td>0.995514</td>\n",
              "      <td>0.003435</td>\n",
              "      <td>1.095312e-12</td>\n",
              "      <td>2.723663e-11</td>\n",
              "      <td>1.871757e-05</td>\n",
              "      <td>3.491792e-08</td>\n",
              "      <td>9.999806e-01</td>\n",
              "      <td>7.340165e-07</td>\n",
              "    </tr>\n",
              "  </tbody>\n",
              "</table>\n",
              "<p>207 rows × 12 columns</p>\n",
              "</div>\n",
              "      <button class=\"colab-df-convert\" onclick=\"convertToInteractive('df-e6d60019-24e3-4269-aa71-974c4d71f97c')\"\n",
              "              title=\"Convert this dataframe to an interactive table.\"\n",
              "              style=\"display:none;\">\n",
              "        \n",
              "  <svg xmlns=\"http://www.w3.org/2000/svg\" height=\"24px\"viewBox=\"0 0 24 24\"\n",
              "       width=\"24px\">\n",
              "    <path d=\"M0 0h24v24H0V0z\" fill=\"none\"/>\n",
              "    <path d=\"M18.56 5.44l.94 2.06.94-2.06 2.06-.94-2.06-.94-.94-2.06-.94 2.06-2.06.94zm-11 1L8.5 8.5l.94-2.06 2.06-.94-2.06-.94L8.5 2.5l-.94 2.06-2.06.94zm10 10l.94 2.06.94-2.06 2.06-.94-2.06-.94-.94-2.06-.94 2.06-2.06.94z\"/><path d=\"M17.41 7.96l-1.37-1.37c-.4-.4-.92-.59-1.43-.59-.52 0-1.04.2-1.43.59L10.3 9.45l-7.72 7.72c-.78.78-.78 2.05 0 2.83L4 21.41c.39.39.9.59 1.41.59.51 0 1.02-.2 1.41-.59l7.78-7.78 2.81-2.81c.8-.78.8-2.07 0-2.86zM5.41 20L4 18.59l7.72-7.72 1.47 1.35L5.41 20z\"/>\n",
              "  </svg>\n",
              "      </button>\n",
              "      \n",
              "  <style>\n",
              "    .colab-df-container {\n",
              "      display:flex;\n",
              "      flex-wrap:wrap;\n",
              "      gap: 12px;\n",
              "    }\n",
              "\n",
              "    .colab-df-convert {\n",
              "      background-color: #E8F0FE;\n",
              "      border: none;\n",
              "      border-radius: 50%;\n",
              "      cursor: pointer;\n",
              "      display: none;\n",
              "      fill: #1967D2;\n",
              "      height: 32px;\n",
              "      padding: 0 0 0 0;\n",
              "      width: 32px;\n",
              "    }\n",
              "\n",
              "    .colab-df-convert:hover {\n",
              "      background-color: #E2EBFA;\n",
              "      box-shadow: 0px 1px 2px rgba(60, 64, 67, 0.3), 0px 1px 3px 1px rgba(60, 64, 67, 0.15);\n",
              "      fill: #174EA6;\n",
              "    }\n",
              "\n",
              "    [theme=dark] .colab-df-convert {\n",
              "      background-color: #3B4455;\n",
              "      fill: #D2E3FC;\n",
              "    }\n",
              "\n",
              "    [theme=dark] .colab-df-convert:hover {\n",
              "      background-color: #434B5C;\n",
              "      box-shadow: 0px 1px 3px 1px rgba(0, 0, 0, 0.15);\n",
              "      filter: drop-shadow(0px 1px 2px rgba(0, 0, 0, 0.3));\n",
              "      fill: #FFFFFF;\n",
              "    }\n",
              "  </style>\n",
              "\n",
              "      <script>\n",
              "        const buttonEl =\n",
              "          document.querySelector('#df-e6d60019-24e3-4269-aa71-974c4d71f97c button.colab-df-convert');\n",
              "        buttonEl.style.display =\n",
              "          google.colab.kernel.accessAllowed ? 'block' : 'none';\n",
              "\n",
              "        async function convertToInteractive(key) {\n",
              "          const element = document.querySelector('#df-e6d60019-24e3-4269-aa71-974c4d71f97c');\n",
              "          const dataTable =\n",
              "            await google.colab.kernel.invokeFunction('convertToInteractive',\n",
              "                                                     [key], {});\n",
              "          if (!dataTable) return;\n",
              "\n",
              "          const docLinkHtml = 'Like what you see? Visit the ' +\n",
              "            '<a target=\"_blank\" href=https://colab.research.google.com/notebooks/data_table.ipynb>data table notebook</a>'\n",
              "            + ' to learn more about interactive tables.';\n",
              "          element.innerHTML = '';\n",
              "          dataTable['output_type'] = 'display_data';\n",
              "          await google.colab.output.renderOutput(dataTable, element);\n",
              "          const docLink = document.createElement('div');\n",
              "          docLink.innerHTML = docLinkHtml;\n",
              "          element.appendChild(docLink);\n",
              "        }\n",
              "      </script>\n",
              "    </div>\n",
              "  </div>\n",
              "  "
            ]
          },
          "metadata": {},
          "execution_count": 12
        }
      ]
    },
    {
      "cell_type": "code",
      "source": [
        "len(x_test),len(x_train)"
      ],
      "metadata": {
        "colab": {
          "base_uri": "https://localhost:8080/"
        },
        "id": "ryRQjTkUyZJv",
        "outputId": "f1cad598-c7ee-408b-a1fe-12abded2b939"
      },
      "execution_count": 13,
      "outputs": [
        {
          "output_type": "execute_result",
          "data": {
            "text/plain": [
              "(207, 1860)"
            ]
          },
          "metadata": {},
          "execution_count": 13
        }
      ]
    },
    {
      "cell_type": "code",
      "source": [
        "x_train"
      ],
      "metadata": {
        "colab": {
          "base_uri": "https://localhost:8080/",
          "height": 424
        },
        "id": "1e5kgXiFwzx3",
        "outputId": "0390ab14-ff5b-4001-8cb2-70e60e0c3e68"
      },
      "execution_count": 14,
      "outputs": [
        {
          "output_type": "execute_result",
          "data": {
            "text/plain": [
              "          OV_0      OV_1      OV_2      OV_3      OV_4      OV_5  \\\n",
              "0     0.003411  0.987883  0.007827  0.000725  0.000091  0.000064   \n",
              "1     0.946476  0.041576  0.000079  0.007025  0.004232  0.000614   \n",
              "2     0.335372  0.644594  0.001657  0.016966  0.000159  0.001252   \n",
              "3     0.000014  0.000685  0.995223  0.000722  0.000039  0.003317   \n",
              "4     0.000002  0.001680  0.998102  0.000089  0.000024  0.000103   \n",
              "...        ...       ...       ...       ...       ...       ...   \n",
              "1855  0.000718  0.000579  0.000208  0.816382  0.020579  0.161535   \n",
              "1856  0.029151  0.967429  0.001374  0.001910  0.000038  0.000099   \n",
              "1857  0.000801  0.000096  0.000103  0.014107  0.003850  0.981043   \n",
              "1858  0.000236  0.000068  0.000225  0.009715  0.000862  0.988894   \n",
              "1859  0.005124  0.002583  0.003335  0.045351  0.002891  0.940715   \n",
              "\n",
              "              OA_0          OA_1          OA_2          OA_3          OA_4  \\\n",
              "0     5.079747e-07  9.988770e-01  3.663219e-06  1.093506e-03  2.519679e-05   \n",
              "1     9.938034e-01  4.185265e-04  2.935522e-04  2.169219e-04  5.154508e-03   \n",
              "2     7.107904e-10  9.994321e-01  4.671387e-04  1.649923e-08  1.006323e-04   \n",
              "3     5.995072e-06  1.733456e-04  9.996363e-01  1.810326e-05  1.648107e-04   \n",
              "4     9.819279e-08  8.173131e-10  9.999336e-01  9.091209e-06  5.632828e-05   \n",
              "...            ...           ...           ...           ...           ...   \n",
              "1855  3.446751e-07  3.551200e-08  8.834924e-05  9.984441e-01  4.786965e-07   \n",
              "1856  3.521362e-10  9.990534e-01  9.451332e-04  1.418260e-06  1.085983e-13   \n",
              "1857  1.804343e-04  7.189121e-01  1.687092e-04  1.963961e-02  4.104331e-09   \n",
              "1858  9.453309e-04  7.813426e-07  3.591382e-03  1.306921e-03  7.713867e-01   \n",
              "1859  3.117138e-07  1.435920e-16  3.443169e-07  2.615322e-10  3.171485e-02   \n",
              "\n",
              "              OA_5  \n",
              "0     1.979549e-07  \n",
              "1     1.130191e-04  \n",
              "2     2.219154e-10  \n",
              "3     1.374179e-06  \n",
              "4     8.305233e-07  \n",
              "...            ...  \n",
              "1855  1.466756e-03  \n",
              "1856  2.579746e-09  \n",
              "1857  2.610992e-01  \n",
              "1858  2.227689e-01  \n",
              "1859  9.682844e-01  \n",
              "\n",
              "[1860 rows x 12 columns]"
            ],
            "text/html": [
              "\n",
              "  <div id=\"df-116f831e-9a9f-4be1-8750-c5053e2d9a57\">\n",
              "    <div class=\"colab-df-container\">\n",
              "      <div>\n",
              "<style scoped>\n",
              "    .dataframe tbody tr th:only-of-type {\n",
              "        vertical-align: middle;\n",
              "    }\n",
              "\n",
              "    .dataframe tbody tr th {\n",
              "        vertical-align: top;\n",
              "    }\n",
              "\n",
              "    .dataframe thead th {\n",
              "        text-align: right;\n",
              "    }\n",
              "</style>\n",
              "<table border=\"1\" class=\"dataframe\">\n",
              "  <thead>\n",
              "    <tr style=\"text-align: right;\">\n",
              "      <th></th>\n",
              "      <th>OV_0</th>\n",
              "      <th>OV_1</th>\n",
              "      <th>OV_2</th>\n",
              "      <th>OV_3</th>\n",
              "      <th>OV_4</th>\n",
              "      <th>OV_5</th>\n",
              "      <th>OA_0</th>\n",
              "      <th>OA_1</th>\n",
              "      <th>OA_2</th>\n",
              "      <th>OA_3</th>\n",
              "      <th>OA_4</th>\n",
              "      <th>OA_5</th>\n",
              "    </tr>\n",
              "  </thead>\n",
              "  <tbody>\n",
              "    <tr>\n",
              "      <th>0</th>\n",
              "      <td>0.003411</td>\n",
              "      <td>0.987883</td>\n",
              "      <td>0.007827</td>\n",
              "      <td>0.000725</td>\n",
              "      <td>0.000091</td>\n",
              "      <td>0.000064</td>\n",
              "      <td>5.079747e-07</td>\n",
              "      <td>9.988770e-01</td>\n",
              "      <td>3.663219e-06</td>\n",
              "      <td>1.093506e-03</td>\n",
              "      <td>2.519679e-05</td>\n",
              "      <td>1.979549e-07</td>\n",
              "    </tr>\n",
              "    <tr>\n",
              "      <th>1</th>\n",
              "      <td>0.946476</td>\n",
              "      <td>0.041576</td>\n",
              "      <td>0.000079</td>\n",
              "      <td>0.007025</td>\n",
              "      <td>0.004232</td>\n",
              "      <td>0.000614</td>\n",
              "      <td>9.938034e-01</td>\n",
              "      <td>4.185265e-04</td>\n",
              "      <td>2.935522e-04</td>\n",
              "      <td>2.169219e-04</td>\n",
              "      <td>5.154508e-03</td>\n",
              "      <td>1.130191e-04</td>\n",
              "    </tr>\n",
              "    <tr>\n",
              "      <th>2</th>\n",
              "      <td>0.335372</td>\n",
              "      <td>0.644594</td>\n",
              "      <td>0.001657</td>\n",
              "      <td>0.016966</td>\n",
              "      <td>0.000159</td>\n",
              "      <td>0.001252</td>\n",
              "      <td>7.107904e-10</td>\n",
              "      <td>9.994321e-01</td>\n",
              "      <td>4.671387e-04</td>\n",
              "      <td>1.649923e-08</td>\n",
              "      <td>1.006323e-04</td>\n",
              "      <td>2.219154e-10</td>\n",
              "    </tr>\n",
              "    <tr>\n",
              "      <th>3</th>\n",
              "      <td>0.000014</td>\n",
              "      <td>0.000685</td>\n",
              "      <td>0.995223</td>\n",
              "      <td>0.000722</td>\n",
              "      <td>0.000039</td>\n",
              "      <td>0.003317</td>\n",
              "      <td>5.995072e-06</td>\n",
              "      <td>1.733456e-04</td>\n",
              "      <td>9.996363e-01</td>\n",
              "      <td>1.810326e-05</td>\n",
              "      <td>1.648107e-04</td>\n",
              "      <td>1.374179e-06</td>\n",
              "    </tr>\n",
              "    <tr>\n",
              "      <th>4</th>\n",
              "      <td>0.000002</td>\n",
              "      <td>0.001680</td>\n",
              "      <td>0.998102</td>\n",
              "      <td>0.000089</td>\n",
              "      <td>0.000024</td>\n",
              "      <td>0.000103</td>\n",
              "      <td>9.819279e-08</td>\n",
              "      <td>8.173131e-10</td>\n",
              "      <td>9.999336e-01</td>\n",
              "      <td>9.091209e-06</td>\n",
              "      <td>5.632828e-05</td>\n",
              "      <td>8.305233e-07</td>\n",
              "    </tr>\n",
              "    <tr>\n",
              "      <th>...</th>\n",
              "      <td>...</td>\n",
              "      <td>...</td>\n",
              "      <td>...</td>\n",
              "      <td>...</td>\n",
              "      <td>...</td>\n",
              "      <td>...</td>\n",
              "      <td>...</td>\n",
              "      <td>...</td>\n",
              "      <td>...</td>\n",
              "      <td>...</td>\n",
              "      <td>...</td>\n",
              "      <td>...</td>\n",
              "    </tr>\n",
              "    <tr>\n",
              "      <th>1855</th>\n",
              "      <td>0.000718</td>\n",
              "      <td>0.000579</td>\n",
              "      <td>0.000208</td>\n",
              "      <td>0.816382</td>\n",
              "      <td>0.020579</td>\n",
              "      <td>0.161535</td>\n",
              "      <td>3.446751e-07</td>\n",
              "      <td>3.551200e-08</td>\n",
              "      <td>8.834924e-05</td>\n",
              "      <td>9.984441e-01</td>\n",
              "      <td>4.786965e-07</td>\n",
              "      <td>1.466756e-03</td>\n",
              "    </tr>\n",
              "    <tr>\n",
              "      <th>1856</th>\n",
              "      <td>0.029151</td>\n",
              "      <td>0.967429</td>\n",
              "      <td>0.001374</td>\n",
              "      <td>0.001910</td>\n",
              "      <td>0.000038</td>\n",
              "      <td>0.000099</td>\n",
              "      <td>3.521362e-10</td>\n",
              "      <td>9.990534e-01</td>\n",
              "      <td>9.451332e-04</td>\n",
              "      <td>1.418260e-06</td>\n",
              "      <td>1.085983e-13</td>\n",
              "      <td>2.579746e-09</td>\n",
              "    </tr>\n",
              "    <tr>\n",
              "      <th>1857</th>\n",
              "      <td>0.000801</td>\n",
              "      <td>0.000096</td>\n",
              "      <td>0.000103</td>\n",
              "      <td>0.014107</td>\n",
              "      <td>0.003850</td>\n",
              "      <td>0.981043</td>\n",
              "      <td>1.804343e-04</td>\n",
              "      <td>7.189121e-01</td>\n",
              "      <td>1.687092e-04</td>\n",
              "      <td>1.963961e-02</td>\n",
              "      <td>4.104331e-09</td>\n",
              "      <td>2.610992e-01</td>\n",
              "    </tr>\n",
              "    <tr>\n",
              "      <th>1858</th>\n",
              "      <td>0.000236</td>\n",
              "      <td>0.000068</td>\n",
              "      <td>0.000225</td>\n",
              "      <td>0.009715</td>\n",
              "      <td>0.000862</td>\n",
              "      <td>0.988894</td>\n",
              "      <td>9.453309e-04</td>\n",
              "      <td>7.813426e-07</td>\n",
              "      <td>3.591382e-03</td>\n",
              "      <td>1.306921e-03</td>\n",
              "      <td>7.713867e-01</td>\n",
              "      <td>2.227689e-01</td>\n",
              "    </tr>\n",
              "    <tr>\n",
              "      <th>1859</th>\n",
              "      <td>0.005124</td>\n",
              "      <td>0.002583</td>\n",
              "      <td>0.003335</td>\n",
              "      <td>0.045351</td>\n",
              "      <td>0.002891</td>\n",
              "      <td>0.940715</td>\n",
              "      <td>3.117138e-07</td>\n",
              "      <td>1.435920e-16</td>\n",
              "      <td>3.443169e-07</td>\n",
              "      <td>2.615322e-10</td>\n",
              "      <td>3.171485e-02</td>\n",
              "      <td>9.682844e-01</td>\n",
              "    </tr>\n",
              "  </tbody>\n",
              "</table>\n",
              "<p>1860 rows × 12 columns</p>\n",
              "</div>\n",
              "      <button class=\"colab-df-convert\" onclick=\"convertToInteractive('df-116f831e-9a9f-4be1-8750-c5053e2d9a57')\"\n",
              "              title=\"Convert this dataframe to an interactive table.\"\n",
              "              style=\"display:none;\">\n",
              "        \n",
              "  <svg xmlns=\"http://www.w3.org/2000/svg\" height=\"24px\"viewBox=\"0 0 24 24\"\n",
              "       width=\"24px\">\n",
              "    <path d=\"M0 0h24v24H0V0z\" fill=\"none\"/>\n",
              "    <path d=\"M18.56 5.44l.94 2.06.94-2.06 2.06-.94-2.06-.94-.94-2.06-.94 2.06-2.06.94zm-11 1L8.5 8.5l.94-2.06 2.06-.94-2.06-.94L8.5 2.5l-.94 2.06-2.06.94zm10 10l.94 2.06.94-2.06 2.06-.94-2.06-.94-.94-2.06-.94 2.06-2.06.94z\"/><path d=\"M17.41 7.96l-1.37-1.37c-.4-.4-.92-.59-1.43-.59-.52 0-1.04.2-1.43.59L10.3 9.45l-7.72 7.72c-.78.78-.78 2.05 0 2.83L4 21.41c.39.39.9.59 1.41.59.51 0 1.02-.2 1.41-.59l7.78-7.78 2.81-2.81c.8-.78.8-2.07 0-2.86zM5.41 20L4 18.59l7.72-7.72 1.47 1.35L5.41 20z\"/>\n",
              "  </svg>\n",
              "      </button>\n",
              "      \n",
              "  <style>\n",
              "    .colab-df-container {\n",
              "      display:flex;\n",
              "      flex-wrap:wrap;\n",
              "      gap: 12px;\n",
              "    }\n",
              "\n",
              "    .colab-df-convert {\n",
              "      background-color: #E8F0FE;\n",
              "      border: none;\n",
              "      border-radius: 50%;\n",
              "      cursor: pointer;\n",
              "      display: none;\n",
              "      fill: #1967D2;\n",
              "      height: 32px;\n",
              "      padding: 0 0 0 0;\n",
              "      width: 32px;\n",
              "    }\n",
              "\n",
              "    .colab-df-convert:hover {\n",
              "      background-color: #E2EBFA;\n",
              "      box-shadow: 0px 1px 2px rgba(60, 64, 67, 0.3), 0px 1px 3px 1px rgba(60, 64, 67, 0.15);\n",
              "      fill: #174EA6;\n",
              "    }\n",
              "\n",
              "    [theme=dark] .colab-df-convert {\n",
              "      background-color: #3B4455;\n",
              "      fill: #D2E3FC;\n",
              "    }\n",
              "\n",
              "    [theme=dark] .colab-df-convert:hover {\n",
              "      background-color: #434B5C;\n",
              "      box-shadow: 0px 1px 3px 1px rgba(0, 0, 0, 0.15);\n",
              "      filter: drop-shadow(0px 1px 2px rgba(0, 0, 0, 0.3));\n",
              "      fill: #FFFFFF;\n",
              "    }\n",
              "  </style>\n",
              "\n",
              "      <script>\n",
              "        const buttonEl =\n",
              "          document.querySelector('#df-116f831e-9a9f-4be1-8750-c5053e2d9a57 button.colab-df-convert');\n",
              "        buttonEl.style.display =\n",
              "          google.colab.kernel.accessAllowed ? 'block' : 'none';\n",
              "\n",
              "        async function convertToInteractive(key) {\n",
              "          const element = document.querySelector('#df-116f831e-9a9f-4be1-8750-c5053e2d9a57');\n",
              "          const dataTable =\n",
              "            await google.colab.kernel.invokeFunction('convertToInteractive',\n",
              "                                                     [key], {});\n",
              "          if (!dataTable) return;\n",
              "\n",
              "          const docLinkHtml = 'Like what you see? Visit the ' +\n",
              "            '<a target=\"_blank\" href=https://colab.research.google.com/notebooks/data_table.ipynb>data table notebook</a>'\n",
              "            + ' to learn more about interactive tables.';\n",
              "          element.innerHTML = '';\n",
              "          dataTable['output_type'] = 'display_data';\n",
              "          await google.colab.output.renderOutput(dataTable, element);\n",
              "          const docLink = document.createElement('div');\n",
              "          docLink.innerHTML = docLinkHtml;\n",
              "          element.appendChild(docLink);\n",
              "        }\n",
              "      </script>\n",
              "    </div>\n",
              "  </div>\n",
              "  "
            ]
          },
          "metadata": {},
          "execution_count": 14
        }
      ]
    },
    {
      "cell_type": "code",
      "source": [
        "y_train=df_train.to_numpy()\n",
        "y_train=y_train.reshape(1860,)\n",
        "y_train, y_train.shape"
      ],
      "metadata": {
        "colab": {
          "base_uri": "https://localhost:8080/"
        },
        "id": "-u--DKkn2SYN",
        "outputId": "e3c6d92e-1c44-418c-9c59-d2a5cbe1abc8"
      },
      "execution_count": 15,
      "outputs": [
        {
          "output_type": "execute_result",
          "data": {
            "text/plain": [
              "(array([1, 0, 1, ..., 5, 5, 5]), (1860,))"
            ]
          },
          "metadata": {},
          "execution_count": 15
        }
      ]
    },
    {
      "cell_type": "markdown",
      "source": [
        "# training machine learning"
      ],
      "metadata": {
        "id": "1hZPjTpT4lb3"
      }
    },
    {
      "cell_type": "code",
      "source": [
        "from sklearn.linear_model import LogisticRegression\n",
        "model = LogisticRegression(multi_class='multinomial', tol=0.001, max_iter=1000)\n",
        "LR=model.fit(x_train,y_train)\n",
        "predictions = model.predict(x_test)\n",
        "#print(\"Restored model, accuracy: {:5.2f}%\".format(100*acc))"
      ],
      "metadata": {
        "id": "PS4PZtkj5G8k"
      },
      "execution_count": 16,
      "outputs": []
    },
    {
      "cell_type": "code",
      "source": [
        "predictions"
      ],
      "metadata": {
        "colab": {
          "base_uri": "https://localhost:8080/"
        },
        "id": "ibm_g_O66uKI",
        "outputId": "566ad008-6b07-43f1-9c8f-6074d7638b76"
      },
      "execution_count": 17,
      "outputs": [
        {
          "output_type": "execute_result",
          "data": {
            "text/plain": [
              "array([2, 1, 4, 4, 0, 5, 4, 1, 5, 5, 3, 2, 0, 5, 2, 2, 3, 3, 2, 1, 2, 4,\n",
              "       1, 5, 4, 2, 3, 0, 3, 3, 0, 3, 2, 3, 3, 4, 4, 5, 1, 4, 0, 0, 4, 4,\n",
              "       0, 2, 2, 2, 3, 0, 4, 2, 5, 5, 3, 1, 3, 3, 1, 0, 5, 4, 5, 3, 3, 3,\n",
              "       5, 4, 5, 5, 5, 2, 5, 5, 4, 4, 5, 2, 3, 1, 4, 4, 3, 4, 2, 0, 1, 2,\n",
              "       0, 0, 5, 5, 2, 2, 4, 1, 5, 0, 1, 3, 2, 2, 2, 1, 4, 1, 3, 1, 4, 1,\n",
              "       4, 1, 4, 4, 1, 2, 5, 5, 0, 4, 4, 3, 3, 2, 2, 4, 1, 5, 2, 4, 4, 3,\n",
              "       4, 1, 5, 2, 4, 2, 2, 0, 3, 3, 5, 3, 2, 0, 1, 5, 2, 0, 4, 0, 1, 5,\n",
              "       2, 2, 5, 1, 4, 2, 4, 3, 5, 2, 2, 1, 1, 4, 5, 1, 3, 4, 3, 0, 4, 3,\n",
              "       2, 1, 0, 4, 2, 4, 4, 4, 1, 2, 3, 4, 4, 2, 4, 5, 2, 1, 5, 1, 3, 5,\n",
              "       5, 3, 3, 5, 4, 4, 4, 5, 4])"
            ]
          },
          "metadata": {},
          "execution_count": 17
        }
      ]
    },
    {
      "cell_type": "code",
      "source": [
        "from sklearn.metrics import classification_report, confusion_matrix,accuracy_score\n",
        "import seaborn as sn\n",
        "import matplotlib.pyplot as plt\n",
        "\n",
        "print(classification_report(y_test,predictions))\n",
        "\n",
        "acc = float(accuracy_score(y_test,predictions))*100\n",
        "print(\"----accuracy score %s ----\" % acc)\n",
        "\n",
        "cm = confusion_matrix(y_test,predictions)\n",
        "#df_cm = pd.DataFrame(cm)\n",
        "class_names = ['neutral','calm', 'happy','sad','angry', 'fearful' ]\n",
        "df_cm = pd.DataFrame(cm, index=class_names, columns=class_names,)\n",
        "sn.heatmap(df_cm, annot=True, fmt='')\n",
        "plt.show()"
      ],
      "metadata": {
        "colab": {
          "base_uri": "https://localhost:8080/",
          "height": 508
        },
        "id": "A9gR6pV063GP",
        "outputId": "ea320074-abff-471f-b905-00014408d3ae"
      },
      "execution_count": 18,
      "outputs": [
        {
          "output_type": "stream",
          "name": "stdout",
          "text": [
            "              precision    recall  f1-score   support\n",
            "\n",
            "           0       1.00      0.95      0.98        21\n",
            "           1       0.93      0.90      0.92        30\n",
            "           2       0.97      0.95      0.96        41\n",
            "           3       0.79      0.93      0.86        29\n",
            "           4       0.92      0.98      0.95        45\n",
            "           5       0.94      0.83      0.88        41\n",
            "\n",
            "    accuracy                           0.92       207\n",
            "   macro avg       0.93      0.92      0.92       207\n",
            "weighted avg       0.93      0.92      0.92       207\n",
            "\n",
            "----accuracy score 92.27053140096618 ----\n"
          ]
        },
        {
          "output_type": "display_data",
          "data": {
            "text/plain": [
              "<Figure size 432x288 with 2 Axes>"
            ],
            "image/png": "[encoded data removed]"
          },
          "metadata": {
            "needs_background": "light"
          }
        }
      ]
    },
    {
      "cell_type": "code",
      "source": [
        "path='/content/drive/My Drive/fusion/fusion_model/logistic_regression/max_iter(1000)/tol(0.001)/expert5'\n",
        "savedvX = joblib.dump(model, path)\n",
        "\n",
        "print(\"MODEL SAVED\")"
      ],
      "metadata": {
        "colab": {
          "base_uri": "https://localhost:8080/"
        },
        "id": "WFonuoIS7NTg",
        "outputId": "741b6f5f-22b0-45ec-9cc6-02141b103d9d"
      },
      "execution_count": 19,
      "outputs": [
        {
          "output_type": "stream",
          "name": "stdout",
          "text": [
            "MODEL SAVED\n"
          ]
        }
      ]
    },
    {
      "cell_type": "code",
      "source": [
        ""
      ],
      "metadata": {
        "id": "Bp4nDNcd7lc_"
      },
      "execution_count": null,
      "outputs": []
    }
  ]
}