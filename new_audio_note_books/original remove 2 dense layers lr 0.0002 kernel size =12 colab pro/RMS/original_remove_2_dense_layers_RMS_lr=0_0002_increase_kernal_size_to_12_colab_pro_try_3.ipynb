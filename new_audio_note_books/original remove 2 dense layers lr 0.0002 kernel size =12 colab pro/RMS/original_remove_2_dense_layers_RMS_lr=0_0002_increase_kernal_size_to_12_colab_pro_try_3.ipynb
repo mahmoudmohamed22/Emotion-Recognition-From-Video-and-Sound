{
  "nbformat": 4,
  "nbformat_minor": 0,
  "metadata": {
    "colab": {
      "name": "original_remove_2_dense_layers_RMS_lr=0_0002 increase_kernal_size_to_12 colab pro try 3.ipynb",
      "provenance": [],
      "collapsed_sections": [],
      "machine_shape": "hm"
    },
    "kernelspec": {
      "name": "python3",
      "display_name": "Python 3"
    },
    "language_info": {
      "name": "python"
    },
    "accelerator": "GPU"
  },
  "cells": [
    {
      "cell_type": "code",
      "execution_count": 1,
      "metadata": {
        "colab": {
          "base_uri": "https://localhost:8080/"
        },
        "id": "9SRCO-a_AlH5",
        "outputId": "67cdb5a0-ba14-4f72-dcc5-c95097778664"
      },
      "outputs": [
        {
          "output_type": "stream",
          "name": "stdout",
          "text": [
            "Drive already mounted at /content/drive; to attempt to forcibly remount, call drive.mount(\"/content/drive\", force_remount=True).\n"
          ]
        }
      ],
      "source": [
        "from google.colab import drive\n",
        "drive.mount('/content/drive')"
      ]
    },
    {
      "cell_type": "code",
      "source": [
        "!pip install librosa"
      ],
      "metadata": {
        "colab": {
          "base_uri": "https://localhost:8080/"
        },
        "id": "5Lo4mUwG9RMd",
        "outputId": "dc30ed57-381c-45ce-b432-cf66787e26f1"
      },
      "execution_count": 2,
      "outputs": [
        {
          "output_type": "stream",
          "name": "stdout",
          "text": [
            "Looking in indexes: https://pypi.org/simple, https://us-python.pkg.dev/colab-wheels/public/simple/\n",
            "Requirement already satisfied: librosa in /usr/local/lib/python3.7/dist-packages (0.8.1)\n",
            "Requirement already satisfied: resampy>=0.2.2 in /usr/local/lib/python3.7/dist-packages (from librosa) (0.2.2)\n",
            "Requirement already satisfied: numpy>=1.15.0 in /usr/local/lib/python3.7/dist-packages (from librosa) (1.21.6)\n",
            "Requirement already satisfied: numba>=0.43.0 in /usr/local/lib/python3.7/dist-packages (from librosa) (0.51.2)\n",
            "Requirement already satisfied: joblib>=0.14 in /usr/local/lib/python3.7/dist-packages (from librosa) (1.1.0)\n",
            "Requirement already satisfied: pooch>=1.0 in /usr/local/lib/python3.7/dist-packages (from librosa) (1.6.0)\n",
            "Requirement already satisfied: scipy>=1.0.0 in /usr/local/lib/python3.7/dist-packages (from librosa) (1.4.1)\n",
            "Requirement already satisfied: scikit-learn!=0.19.0,>=0.14.0 in /usr/local/lib/python3.7/dist-packages (from librosa) (1.0.2)\n",
            "Requirement already satisfied: soundfile>=0.10.2 in /usr/local/lib/python3.7/dist-packages (from librosa) (0.10.3.post1)\n",
            "Requirement already satisfied: audioread>=2.0.0 in /usr/local/lib/python3.7/dist-packages (from librosa) (2.1.9)\n",
            "Requirement already satisfied: decorator>=3.0.0 in /usr/local/lib/python3.7/dist-packages (from librosa) (4.4.2)\n",
            "Requirement already satisfied: packaging>=20.0 in /usr/local/lib/python3.7/dist-packages (from librosa) (21.3)\n",
            "Requirement already satisfied: setuptools in /usr/local/lib/python3.7/dist-packages (from numba>=0.43.0->librosa) (57.4.0)\n",
            "Requirement already satisfied: llvmlite<0.35,>=0.34.0.dev0 in /usr/local/lib/python3.7/dist-packages (from numba>=0.43.0->librosa) (0.34.0)\n",
            "Requirement already satisfied: pyparsing!=3.0.5,>=2.0.2 in /usr/local/lib/python3.7/dist-packages (from packaging>=20.0->librosa) (3.0.9)\n",
            "Requirement already satisfied: requests>=2.19.0 in /usr/local/lib/python3.7/dist-packages (from pooch>=1.0->librosa) (2.23.0)\n",
            "Requirement already satisfied: appdirs>=1.3.0 in /usr/local/lib/python3.7/dist-packages (from pooch>=1.0->librosa) (1.4.4)\n",
            "Requirement already satisfied: certifi>=2017.4.17 in /usr/local/lib/python3.7/dist-packages (from requests>=2.19.0->pooch>=1.0->librosa) (2022.5.18.1)\n",
            "Requirement already satisfied: chardet<4,>=3.0.2 in /usr/local/lib/python3.7/dist-packages (from requests>=2.19.0->pooch>=1.0->librosa) (3.0.4)\n",
            "Requirement already satisfied: idna<3,>=2.5 in /usr/local/lib/python3.7/dist-packages (from requests>=2.19.0->pooch>=1.0->librosa) (2.10)\n",
            "Requirement already satisfied: urllib3!=1.25.0,!=1.25.1,<1.26,>=1.21.1 in /usr/local/lib/python3.7/dist-packages (from requests>=2.19.0->pooch>=1.0->librosa) (1.24.3)\n",
            "Requirement already satisfied: six>=1.3 in /usr/local/lib/python3.7/dist-packages (from resampy>=0.2.2->librosa) (1.15.0)\n",
            "Requirement already satisfied: threadpoolctl>=2.0.0 in /usr/local/lib/python3.7/dist-packages (from scikit-learn!=0.19.0,>=0.14.0->librosa) (3.1.0)\n",
            "Requirement already satisfied: cffi>=1.0 in /usr/local/lib/python3.7/dist-packages (from soundfile>=0.10.2->librosa) (1.15.0)\n",
            "Requirement already satisfied: pycparser in /usr/local/lib/python3.7/dist-packages (from cffi>=1.0->soundfile>=0.10.2->librosa) (2.21)\n"
          ]
        }
      ]
    },
    {
      "cell_type": "code",
      "metadata": {
        "id": "HJjcbxwy46bG",
        "colab": {
          "base_uri": "https://localhost:8080/",
          "height": 17
        },
        "outputId": "d2813613-d443-410c-fd7f-c4b1add53f9d"
      },
      "source": [
        "# Orignial Notebook: https://github.com/MITESHPUTHRANNEU/Speech-Emotion-Analyzer/blob/master/final_results_gender_test.ipynb\n",
        "# This notebook author: Reza Chu\n",
        "# Last Editing Date: 31st May 2019\n",
        "\n",
        "## Python\n",
        "import os\n",
        "import random\n",
        "import sys\n",
        "\n",
        "import IPython\n",
        "from IPython.display import Audio\n",
        "from IPython.display import Image\n",
        "import matplotlib.pyplot as plt\n",
        "\n",
        "## Package\n",
        "import glob \n",
        "import keras\n",
        "import IPython.display as ipd\n",
        "import librosa\n",
        "import librosa.display\n",
        "import matplotlib.pyplot as plt\n",
        "import numpy as np\n",
        "import pandas as pd\n",
        "import plotly.graph_objs as go\n",
        "import plotly.offline as py\n",
        "import plotly.tools as tls\n",
        "import seaborn as sns\n",
        "import scipy.io.wavfile\n",
        "import tensorflow as tf\n",
        "py.init_notebook_mode(connected=True)\n",
        "\n",
        "## Keras\n",
        "from keras import regularizers\n",
        "from keras.callbacks import ModelCheckpoint, LearningRateScheduler, EarlyStopping\n",
        "from keras.callbacks import  History, ReduceLROnPlateau, CSVLogger\n",
        "from keras.models import Model, Sequential\n",
        "from keras.layers import Dense, Embedding, LSTM\n",
        "from keras.layers import Input, Flatten, Dropout, Activation, BatchNormalization\n",
        "from keras.layers import Conv1D, MaxPooling1D, AveragePooling1D\n",
        "from keras.preprocessing import sequence\n",
        "from keras.preprocessing.sequence import pad_sequences\n",
        "from keras.preprocessing.text import Tokenizer\n",
        "from keras.utils import np_utils\n",
        "from tensorflow.keras.utils import to_categorical\n",
        "\n",
        "## Sklearn\n",
        "from sklearn.metrics import confusion_matrix\n",
        "from sklearn.preprocessing import LabelEncoder\n",
        "\n",
        "## Rest\n",
        "from scipy.fftpack import fft\n",
        "from scipy import signal\n",
        "from scipy.io import wavfile\n",
        "from tqdm import tqdm\n",
        "\n",
        "input_duration=3\n",
        "# % pylab inline"
      ],
      "execution_count": 3,
      "outputs": [
        {
          "output_type": "display_data",
          "data": {
            "text/html": [
              "        <script type=\"text/javascript\">\n",
              "        window.PlotlyConfig = {MathJaxConfig: 'local'};\n",
              "        if (window.MathJax) {MathJax.Hub.Config({SVG: {font: \"STIX-Web\"}});}\n",
              "        if (typeof require !== 'undefined') {\n",
              "        require.undef(\"plotly\");\n",
              "        requirejs.config({\n",
              "            paths: {\n",
              "                'plotly': ['https://cdn.plot.ly/plotly-2.8.3.min']\n",
              "            }\n",
              "        });\n",
              "        require(['plotly'], function(Plotly) {\n",
              "            window._Plotly = Plotly;\n",
              "        });\n",
              "        }\n",
              "        </script>\n",
              "        "
            ]
          },
          "metadata": {}
        }
      ]
    },
    {
      "cell_type": "code",
      "source": [
        "# # Saving joblib files to not load them again with the loop above\n",
        "\n",
        "# import joblib\n",
        "\n",
        "# X_name = 'x.joblib'\n",
        "# y_name = 'y.joblib'\n",
        "# save_dir = '/content/drive/My Drive/graduation project/audio/paper_code/features'\n",
        "\n",
        "# savedX = joblib.dump(X, os.path.join(save_dir, X_name))\n",
        "# savedy = joblib.dump(y, os.path.join(save_dir, y_name))"
      ],
      "metadata": {
        "id": "UCzic8rlDcuk"
      },
      "execution_count": 4,
      "outputs": []
    },
    {
      "cell_type": "code",
      "source": [
        "# # Loading saved models\n",
        "import joblib\n",
        "X = joblib.load('/content/drive/My Drive/graduation project/audio/paper_code/features/x.joblib')\n",
        "y = joblib.load('/content/drive/My Drive/graduation project/audio/paper_code/features/y.joblib')"
      ],
      "metadata": {
        "id": "Q35CN6zDrzg1"
      },
      "execution_count": 5,
      "outputs": []
    },
    {
      "cell_type": "code",
      "source": [
        "X.shape"
      ],
      "metadata": {
        "id": "7PSTurzjCo5K",
        "colab": {
          "base_uri": "https://localhost:8080/"
        },
        "outputId": "a34c4b3c-26f0-42af-8a16-3feb459de630"
      },
      "execution_count": 6,
      "outputs": [
        {
          "output_type": "execute_result",
          "data": {
            "text/plain": [
              "(2068, 40)"
            ]
          },
          "metadata": {},
          "execution_count": 6
        }
      ]
    },
    {
      "cell_type": "code",
      "source": [
        "from sklearn.model_selection import train_test_split\n",
        "\n",
        "X_train, X_test, y_train, y_test = train_test_split(X,y, test_size=0.1 ,shuffle = True\n",
        "                                                    , random_state=42)\n",
        "X_train , X_valid, y_train, y_valid = train_test_split(X_train,y_train, test_size=0.1112305212 , shuffle = True \n",
        "                                                       , random_state=42)"
      ],
      "metadata": {
        "id": "Ai4Fy5cPCiq1"
      },
      "execution_count": 7,
      "outputs": []
    },
    {
      "cell_type": "code",
      "source": [
        "import numpy as np\n",
        "x_traincnn = np.expand_dims(X_train, axis=2)\n",
        "x_testcnn = np.expand_dims(X_test, axis=2)\n",
        "X_valid= np.expand_dims(X_valid, axis=2)"
      ],
      "metadata": {
        "id": "tp1Fm5K3CEXu"
      },
      "execution_count": 8,
      "outputs": []
    },
    {
      "cell_type": "code",
      "source": [
        "x_traincnn.shape, x_testcnn.shape , X_valid.shape\n",
        "#1861"
      ],
      "metadata": {
        "id": "RI0MxoIPBws5",
        "colab": {
          "base_uri": "https://localhost:8080/"
        },
        "outputId": "6a350e3d-9bd7-45cf-9ec5-7fa512f62e1a"
      },
      "execution_count": 9,
      "outputs": [
        {
          "output_type": "execute_result",
          "data": {
            "text/plain": [
              "((1654, 40, 1), (207, 40, 1), (207, 40, 1))"
            ]
          },
          "metadata": {},
          "execution_count": 9
        }
      ]
    },
    {
      "cell_type": "code",
      "source": [
        "!pip install tensorflow"
      ],
      "metadata": {
        "id": "oALhiMUd9G2Y",
        "colab": {
          "base_uri": "https://localhost:8080/"
        },
        "outputId": "2e8f4e9d-e76d-4a3c-aadb-665a13bf4689"
      },
      "execution_count": 10,
      "outputs": [
        {
          "output_type": "stream",
          "name": "stdout",
          "text": [
            "Looking in indexes: https://pypi.org/simple, https://us-python.pkg.dev/colab-wheels/public/simple/\n",
            "Requirement already satisfied: tensorflow in /usr/local/lib/python3.7/dist-packages (2.8.2+zzzcolab20220527125636)\n",
            "Requirement already satisfied: keras-preprocessing>=1.1.1 in /usr/local/lib/python3.7/dist-packages (from tensorflow) (1.1.2)\n",
            "Requirement already satisfied: google-pasta>=0.1.1 in /usr/local/lib/python3.7/dist-packages (from tensorflow) (0.2.0)\n",
            "Requirement already satisfied: typing-extensions>=3.6.6 in /usr/local/lib/python3.7/dist-packages (from tensorflow) (4.2.0)\n",
            "Requirement already satisfied: termcolor>=1.1.0 in /usr/local/lib/python3.7/dist-packages (from tensorflow) (1.1.0)\n",
            "Requirement already satisfied: gast>=0.2.1 in /usr/local/lib/python3.7/dist-packages (from tensorflow) (0.5.3)\n",
            "Requirement already satisfied: tensorboard<2.9,>=2.8 in /usr/local/lib/python3.7/dist-packages (from tensorflow) (2.8.0)\n",
            "Requirement already satisfied: six>=1.12.0 in /usr/local/lib/python3.7/dist-packages (from tensorflow) (1.15.0)\n",
            "Requirement already satisfied: flatbuffers>=1.12 in /usr/local/lib/python3.7/dist-packages (from tensorflow) (2.0)\n",
            "Requirement already satisfied: libclang>=9.0.1 in /usr/local/lib/python3.7/dist-packages (from tensorflow) (14.0.1)\n",
            "Requirement already satisfied: keras<2.9,>=2.8.0rc0 in /usr/local/lib/python3.7/dist-packages (from tensorflow) (2.8.0)\n",
            "Requirement already satisfied: setuptools in /usr/local/lib/python3.7/dist-packages (from tensorflow) (57.4.0)\n",
            "Requirement already satisfied: absl-py>=0.4.0 in /usr/local/lib/python3.7/dist-packages (from tensorflow) (1.0.0)\n",
            "Requirement already satisfied: astunparse>=1.6.0 in /usr/local/lib/python3.7/dist-packages (from tensorflow) (1.6.3)\n",
            "Requirement already satisfied: tensorflow-io-gcs-filesystem>=0.23.1 in /usr/local/lib/python3.7/dist-packages (from tensorflow) (0.26.0)\n",
            "Requirement already satisfied: grpcio<2.0,>=1.24.3 in /usr/local/lib/python3.7/dist-packages (from tensorflow) (1.46.3)\n",
            "Requirement already satisfied: protobuf<3.20,>=3.9.2 in /usr/local/lib/python3.7/dist-packages (from tensorflow) (3.17.3)\n",
            "Requirement already satisfied: numpy>=1.20 in /usr/local/lib/python3.7/dist-packages (from tensorflow) (1.21.6)\n",
            "Requirement already satisfied: wrapt>=1.11.0 in /usr/local/lib/python3.7/dist-packages (from tensorflow) (1.14.1)\n",
            "Requirement already satisfied: tensorflow-estimator<2.9,>=2.8 in /usr/local/lib/python3.7/dist-packages (from tensorflow) (2.8.0)\n",
            "Requirement already satisfied: opt-einsum>=2.3.2 in /usr/local/lib/python3.7/dist-packages (from tensorflow) (3.3.0)\n",
            "Requirement already satisfied: h5py>=2.9.0 in /usr/local/lib/python3.7/dist-packages (from tensorflow) (3.1.0)\n",
            "Requirement already satisfied: wheel<1.0,>=0.23.0 in /usr/local/lib/python3.7/dist-packages (from astunparse>=1.6.0->tensorflow) (0.37.1)\n",
            "Requirement already satisfied: cached-property in /usr/local/lib/python3.7/dist-packages (from h5py>=2.9.0->tensorflow) (1.5.2)\n",
            "Requirement already satisfied: werkzeug>=0.11.15 in /usr/local/lib/python3.7/dist-packages (from tensorboard<2.9,>=2.8->tensorflow) (1.0.1)\n",
            "Requirement already satisfied: google-auth-oauthlib<0.5,>=0.4.1 in /usr/local/lib/python3.7/dist-packages (from tensorboard<2.9,>=2.8->tensorflow) (0.4.6)\n",
            "Requirement already satisfied: tensorboard-plugin-wit>=1.6.0 in /usr/local/lib/python3.7/dist-packages (from tensorboard<2.9,>=2.8->tensorflow) (1.8.1)\n",
            "Requirement already satisfied: tensorboard-data-server<0.7.0,>=0.6.0 in /usr/local/lib/python3.7/dist-packages (from tensorboard<2.9,>=2.8->tensorflow) (0.6.1)\n",
            "Requirement already satisfied: markdown>=2.6.8 in /usr/local/lib/python3.7/dist-packages (from tensorboard<2.9,>=2.8->tensorflow) (3.3.7)\n",
            "Requirement already satisfied: google-auth<3,>=1.6.3 in /usr/local/lib/python3.7/dist-packages (from tensorboard<2.9,>=2.8->tensorflow) (1.35.0)\n",
            "Requirement already satisfied: requests<3,>=2.21.0 in /usr/local/lib/python3.7/dist-packages (from tensorboard<2.9,>=2.8->tensorflow) (2.23.0)\n",
            "Requirement already satisfied: cachetools<5.0,>=2.0.0 in /usr/local/lib/python3.7/dist-packages (from google-auth<3,>=1.6.3->tensorboard<2.9,>=2.8->tensorflow) (4.2.4)\n",
            "Requirement already satisfied: pyasn1-modules>=0.2.1 in /usr/local/lib/python3.7/dist-packages (from google-auth<3,>=1.6.3->tensorboard<2.9,>=2.8->tensorflow) (0.2.8)\n",
            "Requirement already satisfied: rsa<5,>=3.1.4 in /usr/local/lib/python3.7/dist-packages (from google-auth<3,>=1.6.3->tensorboard<2.9,>=2.8->tensorflow) (4.8)\n",
            "Requirement already satisfied: requests-oauthlib>=0.7.0 in /usr/local/lib/python3.7/dist-packages (from google-auth-oauthlib<0.5,>=0.4.1->tensorboard<2.9,>=2.8->tensorflow) (1.3.1)\n",
            "Requirement already satisfied: importlib-metadata>=4.4 in /usr/local/lib/python3.7/dist-packages (from markdown>=2.6.8->tensorboard<2.9,>=2.8->tensorflow) (4.11.4)\n",
            "Requirement already satisfied: zipp>=0.5 in /usr/local/lib/python3.7/dist-packages (from importlib-metadata>=4.4->markdown>=2.6.8->tensorboard<2.9,>=2.8->tensorflow) (3.8.0)\n",
            "Requirement already satisfied: pyasn1<0.5.0,>=0.4.6 in /usr/local/lib/python3.7/dist-packages (from pyasn1-modules>=0.2.1->google-auth<3,>=1.6.3->tensorboard<2.9,>=2.8->tensorflow) (0.4.8)\n",
            "Requirement already satisfied: urllib3!=1.25.0,!=1.25.1,<1.26,>=1.21.1 in /usr/local/lib/python3.7/dist-packages (from requests<3,>=2.21.0->tensorboard<2.9,>=2.8->tensorflow) (1.24.3)\n",
            "Requirement already satisfied: chardet<4,>=3.0.2 in /usr/local/lib/python3.7/dist-packages (from requests<3,>=2.21.0->tensorboard<2.9,>=2.8->tensorflow) (3.0.4)\n",
            "Requirement already satisfied: certifi>=2017.4.17 in /usr/local/lib/python3.7/dist-packages (from requests<3,>=2.21.0->tensorboard<2.9,>=2.8->tensorflow) (2022.5.18.1)\n",
            "Requirement already satisfied: idna<3,>=2.5 in /usr/local/lib/python3.7/dist-packages (from requests<3,>=2.21.0->tensorboard<2.9,>=2.8->tensorflow) (2.10)\n",
            "Requirement already satisfied: oauthlib>=3.0.0 in /usr/local/lib/python3.7/dist-packages (from requests-oauthlib>=0.7.0->google-auth-oauthlib<0.5,>=0.4.1->tensorboard<2.9,>=2.8->tensorflow) (3.2.0)\n"
          ]
        }
      ]
    },
    {
      "cell_type": "code",
      "source": [
        "import keras\n",
        "import numpy as np\n",
        "import matplotlib.pyplot as plt\n",
        "import tensorflow as tf\n",
        "from keras.preprocessing import sequence\n",
        "from keras.models import Sequential\n",
        "from keras.layers import Dense, Embedding\n",
        "from tensorflow.keras.utils import to_categorical\n",
        "from keras.layers import Input, Flatten, Dropout, Activation\n",
        "from keras.layers import Conv1D, MaxPooling1D\n",
        "from keras.models import Model\n",
        "from keras.callbacks import ModelCheckpoint\n",
        "from tensorflow.keras import optimizers\n",
        "\n",
        "model = Sequential()\n",
        "\n",
        "model.add(Conv1D(128, 12,padding='same', #classifier.add(Convolution2D(64, (3, 3), padding = 'same', input_shape = (128, 128, 3), activation = 'relu'))\n",
        "                 input_shape=(40,1)))\n",
        "model.add(Activation('relu'))\n",
        "model.add(Dropout(0.3))\n",
        "model.add(MaxPooling1D(pool_size=(5)))\n",
        "\n",
        "\n",
        "model.add(Conv1D(256,12,padding='same',))\n",
        "model.add(Activation('relu'))\n",
        "model.add(Dropout(0.3))\n",
        "model.add(MaxPooling1D(pool_size=(5)))\n",
        "\n",
        "#model.add(MaxPooling1D(pool_size=(5)))\n",
        "\n",
        "model.add(Flatten())\n",
        "\n",
        "\n",
        "\n",
        "model.add(Dense(6))\n",
        "model.add(Activation('softmax'))\n",
        "\n",
        "\n",
        "opt = tf.keras.optimizers.RMSprop(lr=0.0002 , decay=0.0)\n",
        "#opt = tf.keras.optimizers.Adam(lr=0.0002 , decay=0.0)\n",
        "#opt = tf.keras.optimizers.RMSprop(lr=0.0001, rho=0.9, epsilon=1e-07, decay=0.0)\n",
        "#opt = tf.keras.optimizers.SGD(lr=0.001, momentum=0.0, decay=0.0, nesterov=False)"
      ],
      "metadata": {
        "id": "g74fXWVAC4Cr",
        "colab": {
          "base_uri": "https://localhost:8080/"
        },
        "outputId": "108d5c29-fab4-438d-b89d-783d957d1706"
      },
      "execution_count": 11,
      "outputs": [
        {
          "output_type": "stream",
          "name": "stderr",
          "text": [
            "/usr/local/lib/python3.7/dist-packages/keras/optimizer_v2/rmsprop.py:130: UserWarning:\n",
            "\n",
            "The `lr` argument is deprecated, use `learning_rate` instead.\n",
            "\n"
          ]
        }
      ]
    },
    {
      "cell_type": "code",
      "source": [
        "model.summary()"
      ],
      "metadata": {
        "id": "H6ukOxAGC_I4",
        "colab": {
          "base_uri": "https://localhost:8080/"
        },
        "outputId": "9fc7d746-d69a-4274-c413-e799806d905b"
      },
      "execution_count": 12,
      "outputs": [
        {
          "output_type": "stream",
          "name": "stdout",
          "text": [
            "Model: \"sequential\"\n",
            "_________________________________________________________________\n",
            " Layer (type)                Output Shape              Param #   \n",
            "=================================================================\n",
            " conv1d (Conv1D)             (None, 40, 128)           1664      \n",
            "                                                                 \n",
            " activation (Activation)     (None, 40, 128)           0         \n",
            "                                                                 \n",
            " dropout (Dropout)           (None, 40, 128)           0         \n",
            "                                                                 \n",
            " max_pooling1d (MaxPooling1D  (None, 8, 128)           0         \n",
            " )                                                               \n",
            "                                                                 \n",
            " conv1d_1 (Conv1D)           (None, 8, 256)            393472    \n",
            "                                                                 \n",
            " activation_1 (Activation)   (None, 8, 256)            0         \n",
            "                                                                 \n",
            " dropout_1 (Dropout)         (None, 8, 256)            0         \n",
            "                                                                 \n",
            " max_pooling1d_1 (MaxPooling  (None, 1, 256)           0         \n",
            " 1D)                                                             \n",
            "                                                                 \n",
            " flatten (Flatten)           (None, 256)               0         \n",
            "                                                                 \n",
            " dense (Dense)               (None, 6)                 1542      \n",
            "                                                                 \n",
            " activation_2 (Activation)   (None, 6)                 0         \n",
            "                                                                 \n",
            "=================================================================\n",
            "Total params: 396,678\n",
            "Trainable params: 396,678\n",
            "Non-trainable params: 0\n",
            "_________________________________________________________________\n"
          ]
        }
      ]
    },
    {
      "cell_type": "code",
      "source": [
        "model.compile(loss='sparse_categorical_crossentropy',\n",
        "              optimizer=opt,\n",
        "              metrics=['accuracy'])"
      ],
      "metadata": {
        "id": "AbMlLNk4DCBM"
      },
      "execution_count": 13,
      "outputs": []
    },
    {
      "cell_type": "code",
      "source": [
        "# Create an Instance of Early Stopping Callback.\n",
        "early_stopping_callback = EarlyStopping(monitor = 'val_loss', patience = 25, mode = 'min', restore_best_weights = True)\n",
        "\n",
        "cnnhistory=model.fit(x_traincnn, y_train, batch_size=16, epochs=500 , shuffle = True, \n",
        "                     validation_data=(X_valid, y_valid) , callbacks = [early_stopping_callback])"
      ],
      "metadata": {
        "id": "RI1v2AuADFhy",
        "colab": {
          "base_uri": "https://localhost:8080/"
        },
        "outputId": "0bc6e596-fae1-4fca-92a5-b72f3aa2a171"
      },
      "execution_count": 14,
      "outputs": [
        {
          "output_type": "stream",
          "name": "stdout",
          "text": [
            "Epoch 1/500\n",
            "104/104 [==============================] - 2s 6ms/step - loss: 12.5337 - accuracy: 0.1838 - val_loss: 9.9883 - val_accuracy: 0.1787\n",
            "Epoch 2/500\n",
            "104/104 [==============================] - 0s 3ms/step - loss: 9.2059 - accuracy: 0.2007 - val_loss: 4.6718 - val_accuracy: 0.1643\n",
            "Epoch 3/500\n",
            "104/104 [==============================] - 0s 3ms/step - loss: 7.5715 - accuracy: 0.2098 - val_loss: 4.7552 - val_accuracy: 0.1981\n",
            "Epoch 4/500\n",
            "104/104 [==============================] - 0s 4ms/step - loss: 6.1379 - accuracy: 0.2406 - val_loss: 5.3259 - val_accuracy: 0.2609\n",
            "Epoch 5/500\n",
            "104/104 [==============================] - 0s 4ms/step - loss: 5.5152 - accuracy: 0.2388 - val_loss: 3.4126 - val_accuracy: 0.2319\n",
            "Epoch 6/500\n",
            "104/104 [==============================] - 0s 4ms/step - loss: 4.5058 - accuracy: 0.2588 - val_loss: 2.4142 - val_accuracy: 0.2850\n",
            "Epoch 7/500\n",
            "104/104 [==============================] - 0s 4ms/step - loss: 3.9471 - accuracy: 0.2727 - val_loss: 2.8477 - val_accuracy: 0.2512\n",
            "Epoch 8/500\n",
            "104/104 [==============================] - 0s 4ms/step - loss: 3.5879 - accuracy: 0.2527 - val_loss: 2.0675 - val_accuracy: 0.2222\n",
            "Epoch 9/500\n",
            "104/104 [==============================] - 0s 4ms/step - loss: 3.1047 - accuracy: 0.3071 - val_loss: 2.3623 - val_accuracy: 0.2512\n",
            "Epoch 10/500\n",
            "104/104 [==============================] - 0s 3ms/step - loss: 2.7931 - accuracy: 0.2987 - val_loss: 3.0457 - val_accuracy: 0.2271\n",
            "Epoch 11/500\n",
            "104/104 [==============================] - 0s 3ms/step - loss: 2.5761 - accuracy: 0.3210 - val_loss: 1.8451 - val_accuracy: 0.2754\n",
            "Epoch 12/500\n",
            "104/104 [==============================] - 0s 3ms/step - loss: 2.3651 - accuracy: 0.3440 - val_loss: 2.0232 - val_accuracy: 0.2126\n",
            "Epoch 13/500\n",
            "104/104 [==============================] - 0s 4ms/step - loss: 2.1617 - accuracy: 0.3652 - val_loss: 1.4292 - val_accuracy: 0.4058\n",
            "Epoch 14/500\n",
            "104/104 [==============================] - 0s 4ms/step - loss: 2.0238 - accuracy: 0.3640 - val_loss: 1.5186 - val_accuracy: 0.3913\n",
            "Epoch 15/500\n",
            "104/104 [==============================] - 0s 5ms/step - loss: 1.8996 - accuracy: 0.3996 - val_loss: 1.5120 - val_accuracy: 0.4300\n",
            "Epoch 16/500\n",
            "104/104 [==============================] - 0s 5ms/step - loss: 1.7925 - accuracy: 0.4002 - val_loss: 1.5860 - val_accuracy: 0.3285\n",
            "Epoch 17/500\n",
            "104/104 [==============================] - 1s 5ms/step - loss: 1.6729 - accuracy: 0.4274 - val_loss: 1.4939 - val_accuracy: 0.3527\n",
            "Epoch 18/500\n",
            "104/104 [==============================] - 1s 5ms/step - loss: 1.6586 - accuracy: 0.4317 - val_loss: 1.3990 - val_accuracy: 0.3623\n",
            "Epoch 19/500\n",
            "104/104 [==============================] - 1s 5ms/step - loss: 1.5527 - accuracy: 0.4480 - val_loss: 1.4464 - val_accuracy: 0.4010\n",
            "Epoch 20/500\n",
            "104/104 [==============================] - 0s 5ms/step - loss: 1.4802 - accuracy: 0.4716 - val_loss: 1.1864 - val_accuracy: 0.5121\n",
            "Epoch 21/500\n",
            "104/104 [==============================] - 1s 5ms/step - loss: 1.4048 - accuracy: 0.4843 - val_loss: 1.3654 - val_accuracy: 0.4734\n",
            "Epoch 22/500\n",
            "104/104 [==============================] - 1s 5ms/step - loss: 1.4066 - accuracy: 0.4921 - val_loss: 1.4317 - val_accuracy: 0.4251\n",
            "Epoch 23/500\n",
            "104/104 [==============================] - 1s 5ms/step - loss: 1.3701 - accuracy: 0.4891 - val_loss: 1.1067 - val_accuracy: 0.5942\n",
            "Epoch 24/500\n",
            "104/104 [==============================] - 1s 5ms/step - loss: 1.2915 - accuracy: 0.5133 - val_loss: 1.1607 - val_accuracy: 0.5700\n",
            "Epoch 25/500\n",
            "104/104 [==============================] - 1s 6ms/step - loss: 1.2597 - accuracy: 0.5133 - val_loss: 1.1532 - val_accuracy: 0.5556\n",
            "Epoch 26/500\n",
            "104/104 [==============================] - 1s 6ms/step - loss: 1.1943 - accuracy: 0.5357 - val_loss: 1.1305 - val_accuracy: 0.5942\n",
            "Epoch 27/500\n",
            "104/104 [==============================] - 1s 5ms/step - loss: 1.2198 - accuracy: 0.5405 - val_loss: 1.1850 - val_accuracy: 0.5169\n",
            "Epoch 28/500\n",
            "104/104 [==============================] - 0s 5ms/step - loss: 1.1543 - accuracy: 0.5635 - val_loss: 1.1076 - val_accuracy: 0.5362\n",
            "Epoch 29/500\n",
            "104/104 [==============================] - 1s 6ms/step - loss: 1.1438 - accuracy: 0.5768 - val_loss: 1.0826 - val_accuracy: 0.5556\n",
            "Epoch 30/500\n",
            "104/104 [==============================] - 1s 5ms/step - loss: 1.1089 - accuracy: 0.5828 - val_loss: 1.0723 - val_accuracy: 0.5700\n",
            "Epoch 31/500\n",
            "104/104 [==============================] - 1s 6ms/step - loss: 1.0967 - accuracy: 0.5913 - val_loss: 1.0512 - val_accuracy: 0.6329\n",
            "Epoch 32/500\n",
            "104/104 [==============================] - 1s 6ms/step - loss: 1.0659 - accuracy: 0.5955 - val_loss: 1.0050 - val_accuracy: 0.6039\n",
            "Epoch 33/500\n",
            "104/104 [==============================] - 1s 5ms/step - loss: 1.0363 - accuracy: 0.6094 - val_loss: 1.0203 - val_accuracy: 0.6329\n",
            "Epoch 34/500\n",
            "104/104 [==============================] - 0s 5ms/step - loss: 1.0313 - accuracy: 0.6052 - val_loss: 0.9834 - val_accuracy: 0.6522\n",
            "Epoch 35/500\n",
            "104/104 [==============================] - 0s 5ms/step - loss: 1.0190 - accuracy: 0.6076 - val_loss: 0.9284 - val_accuracy: 0.6618\n",
            "Epoch 36/500\n",
            "104/104 [==============================] - 0s 5ms/step - loss: 0.9785 - accuracy: 0.6173 - val_loss: 0.9005 - val_accuracy: 0.6715\n",
            "Epoch 37/500\n",
            "104/104 [==============================] - 0s 3ms/step - loss: 0.9761 - accuracy: 0.6282 - val_loss: 0.9356 - val_accuracy: 0.6570\n",
            "Epoch 38/500\n",
            "104/104 [==============================] - 0s 4ms/step - loss: 0.9244 - accuracy: 0.6457 - val_loss: 0.9213 - val_accuracy: 0.6763\n",
            "Epoch 39/500\n",
            "104/104 [==============================] - 0s 3ms/step - loss: 0.9290 - accuracy: 0.6463 - val_loss: 1.0051 - val_accuracy: 0.5942\n",
            "Epoch 40/500\n",
            "104/104 [==============================] - 0s 4ms/step - loss: 0.9180 - accuracy: 0.6499 - val_loss: 0.9512 - val_accuracy: 0.6232\n",
            "Epoch 41/500\n",
            "104/104 [==============================] - 0s 3ms/step - loss: 0.9049 - accuracy: 0.6511 - val_loss: 0.9917 - val_accuracy: 0.6135\n",
            "Epoch 42/500\n",
            "104/104 [==============================] - 0s 4ms/step - loss: 0.8872 - accuracy: 0.6554 - val_loss: 1.0424 - val_accuracy: 0.5990\n",
            "Epoch 43/500\n",
            "104/104 [==============================] - 0s 4ms/step - loss: 0.8760 - accuracy: 0.6644 - val_loss: 0.8752 - val_accuracy: 0.6522\n",
            "Epoch 44/500\n",
            "104/104 [==============================] - 0s 3ms/step - loss: 0.8735 - accuracy: 0.6620 - val_loss: 0.8945 - val_accuracy: 0.7101\n",
            "Epoch 45/500\n",
            "104/104 [==============================] - 0s 4ms/step - loss: 0.8521 - accuracy: 0.6693 - val_loss: 0.8731 - val_accuracy: 0.6715\n",
            "Epoch 46/500\n",
            "104/104 [==============================] - 0s 3ms/step - loss: 0.8601 - accuracy: 0.6590 - val_loss: 0.8952 - val_accuracy: 0.6522\n",
            "Epoch 47/500\n",
            "104/104 [==============================] - 0s 3ms/step - loss: 0.8392 - accuracy: 0.6765 - val_loss: 0.8451 - val_accuracy: 0.7536\n",
            "Epoch 48/500\n",
            "104/104 [==============================] - 0s 4ms/step - loss: 0.8263 - accuracy: 0.6771 - val_loss: 0.8407 - val_accuracy: 0.6908\n",
            "Epoch 49/500\n",
            "104/104 [==============================] - 0s 4ms/step - loss: 0.8289 - accuracy: 0.6735 - val_loss: 0.8510 - val_accuracy: 0.6763\n",
            "Epoch 50/500\n",
            "104/104 [==============================] - 0s 4ms/step - loss: 0.8107 - accuracy: 0.6765 - val_loss: 0.8368 - val_accuracy: 0.7005\n",
            "Epoch 51/500\n",
            "104/104 [==============================] - 0s 3ms/step - loss: 0.7633 - accuracy: 0.7062 - val_loss: 0.8406 - val_accuracy: 0.6957\n",
            "Epoch 52/500\n",
            "104/104 [==============================] - 0s 3ms/step - loss: 0.7708 - accuracy: 0.7031 - val_loss: 0.7481 - val_accuracy: 0.7585\n",
            "Epoch 53/500\n",
            "104/104 [==============================] - 0s 3ms/step - loss: 0.7467 - accuracy: 0.7152 - val_loss: 0.7364 - val_accuracy: 0.7536\n",
            "Epoch 54/500\n",
            "104/104 [==============================] - 0s 4ms/step - loss: 0.7468 - accuracy: 0.7013 - val_loss: 0.8185 - val_accuracy: 0.6908\n",
            "Epoch 55/500\n",
            "104/104 [==============================] - 0s 3ms/step - loss: 0.7848 - accuracy: 0.6953 - val_loss: 0.7764 - val_accuracy: 0.7053\n",
            "Epoch 56/500\n",
            "104/104 [==============================] - 0s 3ms/step - loss: 0.7508 - accuracy: 0.7031 - val_loss: 0.8008 - val_accuracy: 0.7150\n",
            "Epoch 57/500\n",
            "104/104 [==============================] - 0s 3ms/step - loss: 0.7367 - accuracy: 0.7189 - val_loss: 0.7715 - val_accuracy: 0.7005\n",
            "Epoch 58/500\n",
            "104/104 [==============================] - 0s 3ms/step - loss: 0.7273 - accuracy: 0.7140 - val_loss: 0.7554 - val_accuracy: 0.7343\n",
            "Epoch 59/500\n",
            "104/104 [==============================] - 0s 3ms/step - loss: 0.7069 - accuracy: 0.7249 - val_loss: 0.7264 - val_accuracy: 0.7343\n",
            "Epoch 60/500\n",
            "104/104 [==============================] - 0s 3ms/step - loss: 0.7099 - accuracy: 0.7291 - val_loss: 0.8123 - val_accuracy: 0.6473\n",
            "Epoch 61/500\n",
            "104/104 [==============================] - 0s 3ms/step - loss: 0.6943 - accuracy: 0.7388 - val_loss: 0.7792 - val_accuracy: 0.7053\n",
            "Epoch 62/500\n",
            "104/104 [==============================] - 0s 4ms/step - loss: 0.6943 - accuracy: 0.7388 - val_loss: 0.7316 - val_accuracy: 0.7150\n",
            "Epoch 63/500\n",
            "104/104 [==============================] - 0s 3ms/step - loss: 0.6955 - accuracy: 0.7467 - val_loss: 0.6938 - val_accuracy: 0.7778\n",
            "Epoch 64/500\n",
            "104/104 [==============================] - 0s 4ms/step - loss: 0.6786 - accuracy: 0.7328 - val_loss: 0.7120 - val_accuracy: 0.7295\n",
            "Epoch 65/500\n",
            "104/104 [==============================] - 0s 3ms/step - loss: 0.6884 - accuracy: 0.7322 - val_loss: 0.8952 - val_accuracy: 0.6473\n",
            "Epoch 66/500\n",
            "104/104 [==============================] - 0s 4ms/step - loss: 0.6684 - accuracy: 0.7443 - val_loss: 0.6972 - val_accuracy: 0.7295\n",
            "Epoch 67/500\n",
            "104/104 [==============================] - 0s 4ms/step - loss: 0.6588 - accuracy: 0.7533 - val_loss: 0.8974 - val_accuracy: 0.6377\n",
            "Epoch 68/500\n",
            "104/104 [==============================] - 0s 4ms/step - loss: 0.6330 - accuracy: 0.7612 - val_loss: 0.7491 - val_accuracy: 0.6908\n",
            "Epoch 69/500\n",
            "104/104 [==============================] - 0s 4ms/step - loss: 0.6554 - accuracy: 0.7539 - val_loss: 0.7436 - val_accuracy: 0.7101\n",
            "Epoch 70/500\n",
            "104/104 [==============================] - 0s 4ms/step - loss: 0.6276 - accuracy: 0.7503 - val_loss: 0.7921 - val_accuracy: 0.7053\n",
            "Epoch 71/500\n",
            "104/104 [==============================] - 0s 3ms/step - loss: 0.6103 - accuracy: 0.7733 - val_loss: 0.6819 - val_accuracy: 0.7585\n",
            "Epoch 72/500\n",
            "104/104 [==============================] - 0s 3ms/step - loss: 0.5880 - accuracy: 0.7727 - val_loss: 0.6228 - val_accuracy: 0.7681\n",
            "Epoch 73/500\n",
            "104/104 [==============================] - 0s 3ms/step - loss: 0.5942 - accuracy: 0.7793 - val_loss: 0.6917 - val_accuracy: 0.7150\n",
            "Epoch 74/500\n",
            "104/104 [==============================] - 0s 3ms/step - loss: 0.6166 - accuracy: 0.7588 - val_loss: 0.6612 - val_accuracy: 0.7585\n",
            "Epoch 75/500\n",
            "104/104 [==============================] - 0s 4ms/step - loss: 0.5905 - accuracy: 0.7848 - val_loss: 0.6537 - val_accuracy: 0.7391\n",
            "Epoch 76/500\n",
            "104/104 [==============================] - 0s 3ms/step - loss: 0.5773 - accuracy: 0.7787 - val_loss: 0.6764 - val_accuracy: 0.7391\n",
            "Epoch 77/500\n",
            "104/104 [==============================] - 0s 4ms/step - loss: 0.5659 - accuracy: 0.7830 - val_loss: 0.7599 - val_accuracy: 0.7150\n",
            "Epoch 78/500\n",
            "104/104 [==============================] - 0s 4ms/step - loss: 0.5657 - accuracy: 0.7805 - val_loss: 0.7428 - val_accuracy: 0.7101\n",
            "Epoch 79/500\n",
            "104/104 [==============================] - 0s 3ms/step - loss: 0.6004 - accuracy: 0.7600 - val_loss: 0.6546 - val_accuracy: 0.7729\n",
            "Epoch 80/500\n",
            "104/104 [==============================] - 0s 4ms/step - loss: 0.5566 - accuracy: 0.7860 - val_loss: 0.7057 - val_accuracy: 0.7150\n",
            "Epoch 81/500\n",
            "104/104 [==============================] - 0s 4ms/step - loss: 0.5534 - accuracy: 0.7981 - val_loss: 0.6193 - val_accuracy: 0.7585\n",
            "Epoch 82/500\n",
            "104/104 [==============================] - 0s 4ms/step - loss: 0.5369 - accuracy: 0.7920 - val_loss: 0.6710 - val_accuracy: 0.7343\n",
            "Epoch 83/500\n",
            "104/104 [==============================] - 0s 4ms/step - loss: 0.5418 - accuracy: 0.7878 - val_loss: 0.5883 - val_accuracy: 0.7778\n",
            "Epoch 84/500\n",
            "104/104 [==============================] - 0s 3ms/step - loss: 0.5293 - accuracy: 0.8138 - val_loss: 0.6232 - val_accuracy: 0.7826\n",
            "Epoch 85/500\n",
            "104/104 [==============================] - 0s 3ms/step - loss: 0.5409 - accuracy: 0.7860 - val_loss: 0.6423 - val_accuracy: 0.7585\n",
            "Epoch 86/500\n",
            "104/104 [==============================] - 0s 3ms/step - loss: 0.4942 - accuracy: 0.8156 - val_loss: 0.6928 - val_accuracy: 0.7391\n",
            "Epoch 87/500\n",
            "104/104 [==============================] - 0s 3ms/step - loss: 0.5188 - accuracy: 0.8041 - val_loss: 0.6279 - val_accuracy: 0.7681\n",
            "Epoch 88/500\n",
            "104/104 [==============================] - 0s 3ms/step - loss: 0.5236 - accuracy: 0.8017 - val_loss: 0.6301 - val_accuracy: 0.7295\n",
            "Epoch 89/500\n",
            "104/104 [==============================] - 0s 4ms/step - loss: 0.5176 - accuracy: 0.7944 - val_loss: 0.6140 - val_accuracy: 0.7585\n",
            "Epoch 90/500\n",
            "104/104 [==============================] - 0s 4ms/step - loss: 0.5104 - accuracy: 0.8089 - val_loss: 0.6403 - val_accuracy: 0.7536\n",
            "Epoch 91/500\n",
            "104/104 [==============================] - 0s 3ms/step - loss: 0.5146 - accuracy: 0.8096 - val_loss: 0.6220 - val_accuracy: 0.7343\n",
            "Epoch 92/500\n",
            "104/104 [==============================] - 0s 3ms/step - loss: 0.4781 - accuracy: 0.8168 - val_loss: 0.6308 - val_accuracy: 0.7488\n",
            "Epoch 93/500\n",
            "104/104 [==============================] - 0s 3ms/step - loss: 0.4965 - accuracy: 0.8089 - val_loss: 0.6826 - val_accuracy: 0.7198\n",
            "Epoch 94/500\n",
            "104/104 [==============================] - 0s 4ms/step - loss: 0.4890 - accuracy: 0.8265 - val_loss: 0.6216 - val_accuracy: 0.7681\n",
            "Epoch 95/500\n",
            "104/104 [==============================] - 0s 3ms/step - loss: 0.4630 - accuracy: 0.8301 - val_loss: 0.6081 - val_accuracy: 0.7585\n",
            "Epoch 96/500\n",
            "104/104 [==============================] - 0s 3ms/step - loss: 0.4561 - accuracy: 0.8210 - val_loss: 0.7009 - val_accuracy: 0.7053\n",
            "Epoch 97/500\n",
            "104/104 [==============================] - 0s 4ms/step - loss: 0.4781 - accuracy: 0.8192 - val_loss: 0.6450 - val_accuracy: 0.7391\n",
            "Epoch 98/500\n",
            "104/104 [==============================] - 0s 3ms/step - loss: 0.4497 - accuracy: 0.8301 - val_loss: 0.6465 - val_accuracy: 0.7440\n",
            "Epoch 99/500\n",
            "104/104 [==============================] - 0s 4ms/step - loss: 0.4797 - accuracy: 0.8132 - val_loss: 0.7590 - val_accuracy: 0.6908\n",
            "Epoch 100/500\n",
            "104/104 [==============================] - 0s 3ms/step - loss: 0.4584 - accuracy: 0.8337 - val_loss: 0.6411 - val_accuracy: 0.7488\n",
            "Epoch 101/500\n",
            "104/104 [==============================] - 0s 3ms/step - loss: 0.4691 - accuracy: 0.8301 - val_loss: 0.6089 - val_accuracy: 0.7778\n",
            "Epoch 102/500\n",
            "104/104 [==============================] - 0s 5ms/step - loss: 0.4406 - accuracy: 0.8271 - val_loss: 0.6429 - val_accuracy: 0.7633\n",
            "Epoch 103/500\n",
            "104/104 [==============================] - 0s 4ms/step - loss: 0.4561 - accuracy: 0.8204 - val_loss: 0.6872 - val_accuracy: 0.7585\n",
            "Epoch 104/500\n",
            "104/104 [==============================] - 0s 4ms/step - loss: 0.4292 - accuracy: 0.8392 - val_loss: 0.5794 - val_accuracy: 0.7585\n",
            "Epoch 105/500\n",
            "104/104 [==============================] - 0s 3ms/step - loss: 0.4245 - accuracy: 0.8446 - val_loss: 0.6872 - val_accuracy: 0.7391\n",
            "Epoch 106/500\n",
            "104/104 [==============================] - 0s 3ms/step - loss: 0.4034 - accuracy: 0.8476 - val_loss: 0.6106 - val_accuracy: 0.7343\n",
            "Epoch 107/500\n",
            "104/104 [==============================] - 0s 4ms/step - loss: 0.4099 - accuracy: 0.8543 - val_loss: 0.6134 - val_accuracy: 0.7391\n",
            "Epoch 108/500\n",
            "104/104 [==============================] - 0s 4ms/step - loss: 0.4308 - accuracy: 0.8404 - val_loss: 0.6015 - val_accuracy: 0.7778\n",
            "Epoch 109/500\n",
            "104/104 [==============================] - 0s 3ms/step - loss: 0.4295 - accuracy: 0.8216 - val_loss: 0.5622 - val_accuracy: 0.7874\n",
            "Epoch 110/500\n",
            "104/104 [==============================] - 0s 4ms/step - loss: 0.4152 - accuracy: 0.8368 - val_loss: 0.5827 - val_accuracy: 0.7826\n",
            "Epoch 111/500\n",
            "104/104 [==============================] - 0s 3ms/step - loss: 0.4133 - accuracy: 0.8513 - val_loss: 0.6022 - val_accuracy: 0.7826\n",
            "Epoch 112/500\n",
            "104/104 [==============================] - 0s 3ms/step - loss: 0.4061 - accuracy: 0.8531 - val_loss: 0.5897 - val_accuracy: 0.7440\n",
            "Epoch 113/500\n",
            "104/104 [==============================] - 0s 4ms/step - loss: 0.4058 - accuracy: 0.8458 - val_loss: 0.7047 - val_accuracy: 0.7295\n",
            "Epoch 114/500\n",
            "104/104 [==============================] - 0s 3ms/step - loss: 0.4067 - accuracy: 0.8513 - val_loss: 0.6099 - val_accuracy: 0.7681\n",
            "Epoch 115/500\n",
            "104/104 [==============================] - 0s 3ms/step - loss: 0.3973 - accuracy: 0.8464 - val_loss: 0.6896 - val_accuracy: 0.6860\n",
            "Epoch 116/500\n",
            "104/104 [==============================] - 0s 4ms/step - loss: 0.3624 - accuracy: 0.8652 - val_loss: 0.5750 - val_accuracy: 0.7681\n",
            "Epoch 117/500\n",
            "104/104 [==============================] - 0s 4ms/step - loss: 0.3751 - accuracy: 0.8567 - val_loss: 0.5709 - val_accuracy: 0.7585\n",
            "Epoch 118/500\n",
            "104/104 [==============================] - 0s 4ms/step - loss: 0.4009 - accuracy: 0.8609 - val_loss: 0.5220 - val_accuracy: 0.8019\n",
            "Epoch 119/500\n",
            "104/104 [==============================] - 0s 3ms/step - loss: 0.3486 - accuracy: 0.8670 - val_loss: 0.6288 - val_accuracy: 0.7536\n",
            "Epoch 120/500\n",
            "104/104 [==============================] - 0s 3ms/step - loss: 0.3844 - accuracy: 0.8513 - val_loss: 0.5257 - val_accuracy: 0.7874\n",
            "Epoch 121/500\n",
            "104/104 [==============================] - 0s 4ms/step - loss: 0.3720 - accuracy: 0.8676 - val_loss: 0.6001 - val_accuracy: 0.7391\n",
            "Epoch 122/500\n",
            "104/104 [==============================] - 0s 4ms/step - loss: 0.3671 - accuracy: 0.8724 - val_loss: 0.5956 - val_accuracy: 0.7536\n",
            "Epoch 123/500\n",
            "104/104 [==============================] - 0s 4ms/step - loss: 0.3774 - accuracy: 0.8537 - val_loss: 0.7810 - val_accuracy: 0.7150\n",
            "Epoch 124/500\n",
            "104/104 [==============================] - 0s 4ms/step - loss: 0.3666 - accuracy: 0.8676 - val_loss: 0.6091 - val_accuracy: 0.7826\n",
            "Epoch 125/500\n",
            "104/104 [==============================] - 0s 3ms/step - loss: 0.3586 - accuracy: 0.8628 - val_loss: 0.5425 - val_accuracy: 0.7923\n",
            "Epoch 126/500\n",
            "104/104 [==============================] - 0s 5ms/step - loss: 0.3565 - accuracy: 0.8664 - val_loss: 0.6249 - val_accuracy: 0.7295\n",
            "Epoch 127/500\n",
            "104/104 [==============================] - 0s 4ms/step - loss: 0.3584 - accuracy: 0.8706 - val_loss: 0.5280 - val_accuracy: 0.7826\n",
            "Epoch 128/500\n",
            "104/104 [==============================] - 0s 4ms/step - loss: 0.3571 - accuracy: 0.8658 - val_loss: 0.5711 - val_accuracy: 0.7681\n",
            "Epoch 129/500\n",
            "104/104 [==============================] - 0s 4ms/step - loss: 0.3304 - accuracy: 0.8712 - val_loss: 0.5478 - val_accuracy: 0.7826\n",
            "Epoch 130/500\n",
            "104/104 [==============================] - 0s 4ms/step - loss: 0.3254 - accuracy: 0.8912 - val_loss: 0.6267 - val_accuracy: 0.7633\n",
            "Epoch 131/500\n",
            "104/104 [==============================] - 0s 4ms/step - loss: 0.3576 - accuracy: 0.8742 - val_loss: 0.6091 - val_accuracy: 0.7488\n",
            "Epoch 132/500\n",
            "104/104 [==============================] - 0s 3ms/step - loss: 0.3535 - accuracy: 0.8688 - val_loss: 0.6013 - val_accuracy: 0.7633\n",
            "Epoch 133/500\n",
            "104/104 [==============================] - 0s 3ms/step - loss: 0.3292 - accuracy: 0.8779 - val_loss: 0.6212 - val_accuracy: 0.7633\n",
            "Epoch 134/500\n",
            "104/104 [==============================] - 0s 4ms/step - loss: 0.3218 - accuracy: 0.8791 - val_loss: 0.5694 - val_accuracy: 0.7874\n",
            "Epoch 135/500\n",
            "104/104 [==============================] - 0s 4ms/step - loss: 0.3626 - accuracy: 0.8664 - val_loss: 0.6009 - val_accuracy: 0.7778\n",
            "Epoch 136/500\n",
            "104/104 [==============================] - 0s 4ms/step - loss: 0.3048 - accuracy: 0.8906 - val_loss: 0.5087 - val_accuracy: 0.8116\n",
            "Epoch 137/500\n",
            "104/104 [==============================] - 0s 4ms/step - loss: 0.3189 - accuracy: 0.8797 - val_loss: 0.5634 - val_accuracy: 0.7729\n",
            "Epoch 138/500\n",
            "104/104 [==============================] - 0s 3ms/step - loss: 0.3096 - accuracy: 0.8773 - val_loss: 0.5699 - val_accuracy: 0.7971\n",
            "Epoch 139/500\n",
            "104/104 [==============================] - 0s 4ms/step - loss: 0.3126 - accuracy: 0.8912 - val_loss: 0.5796 - val_accuracy: 0.7681\n",
            "Epoch 140/500\n",
            "104/104 [==============================] - 0s 4ms/step - loss: 0.3345 - accuracy: 0.8755 - val_loss: 0.5072 - val_accuracy: 0.8116\n",
            "Epoch 141/500\n",
            "104/104 [==============================] - 0s 4ms/step - loss: 0.3103 - accuracy: 0.8755 - val_loss: 0.5059 - val_accuracy: 0.7923\n",
            "Epoch 142/500\n",
            "104/104 [==============================] - 0s 4ms/step - loss: 0.3110 - accuracy: 0.8851 - val_loss: 0.5520 - val_accuracy: 0.7971\n",
            "Epoch 143/500\n",
            "104/104 [==============================] - 0s 4ms/step - loss: 0.3158 - accuracy: 0.8779 - val_loss: 0.5692 - val_accuracy: 0.7874\n",
            "Epoch 144/500\n",
            "104/104 [==============================] - 0s 4ms/step - loss: 0.3106 - accuracy: 0.8942 - val_loss: 0.6928 - val_accuracy: 0.7585\n",
            "Epoch 145/500\n",
            "104/104 [==============================] - 0s 3ms/step - loss: 0.3042 - accuracy: 0.8869 - val_loss: 0.6520 - val_accuracy: 0.7488\n",
            "Epoch 146/500\n",
            "104/104 [==============================] - 0s 4ms/step - loss: 0.2937 - accuracy: 0.8857 - val_loss: 0.5689 - val_accuracy: 0.7681\n",
            "Epoch 147/500\n",
            "104/104 [==============================] - 0s 4ms/step - loss: 0.3046 - accuracy: 0.8815 - val_loss: 0.6989 - val_accuracy: 0.7343\n",
            "Epoch 148/500\n",
            "104/104 [==============================] - 0s 4ms/step - loss: 0.2854 - accuracy: 0.8900 - val_loss: 0.5249 - val_accuracy: 0.7923\n",
            "Epoch 149/500\n",
            "104/104 [==============================] - 0s 4ms/step - loss: 0.2747 - accuracy: 0.9039 - val_loss: 0.5974 - val_accuracy: 0.7874\n",
            "Epoch 150/500\n",
            "104/104 [==============================] - 0s 4ms/step - loss: 0.2779 - accuracy: 0.9015 - val_loss: 0.6121 - val_accuracy: 0.7585\n",
            "Epoch 151/500\n",
            "104/104 [==============================] - 0s 4ms/step - loss: 0.2970 - accuracy: 0.8942 - val_loss: 0.5219 - val_accuracy: 0.7729\n",
            "Epoch 152/500\n",
            "104/104 [==============================] - 0s 3ms/step - loss: 0.2762 - accuracy: 0.8996 - val_loss: 0.5225 - val_accuracy: 0.8019\n",
            "Epoch 153/500\n",
            "104/104 [==============================] - 0s 4ms/step - loss: 0.2826 - accuracy: 0.8942 - val_loss: 0.6454 - val_accuracy: 0.7633\n",
            "Epoch 154/500\n",
            "104/104 [==============================] - 0s 3ms/step - loss: 0.2882 - accuracy: 0.8894 - val_loss: 0.6021 - val_accuracy: 0.7440\n",
            "Epoch 155/500\n",
            "104/104 [==============================] - 0s 3ms/step - loss: 0.2739 - accuracy: 0.9039 - val_loss: 0.5241 - val_accuracy: 0.7826\n",
            "Epoch 156/500\n",
            "104/104 [==============================] - 0s 4ms/step - loss: 0.2711 - accuracy: 0.8960 - val_loss: 0.5697 - val_accuracy: 0.7729\n",
            "Epoch 157/500\n",
            "104/104 [==============================] - 0s 3ms/step - loss: 0.2762 - accuracy: 0.9081 - val_loss: 0.5226 - val_accuracy: 0.8068\n",
            "Epoch 158/500\n",
            "104/104 [==============================] - 0s 4ms/step - loss: 0.2833 - accuracy: 0.8984 - val_loss: 0.4797 - val_accuracy: 0.8261\n",
            "Epoch 159/500\n",
            "104/104 [==============================] - 0s 3ms/step - loss: 0.2818 - accuracy: 0.8990 - val_loss: 0.5131 - val_accuracy: 0.8068\n",
            "Epoch 160/500\n",
            "104/104 [==============================] - 0s 4ms/step - loss: 0.2685 - accuracy: 0.9002 - val_loss: 0.4659 - val_accuracy: 0.8164\n",
            "Epoch 161/500\n",
            "104/104 [==============================] - 0s 3ms/step - loss: 0.2810 - accuracy: 0.9008 - val_loss: 0.5535 - val_accuracy: 0.8213\n",
            "Epoch 162/500\n",
            "104/104 [==============================] - 0s 3ms/step - loss: 0.2699 - accuracy: 0.8942 - val_loss: 0.6155 - val_accuracy: 0.7923\n",
            "Epoch 163/500\n",
            "104/104 [==============================] - 0s 3ms/step - loss: 0.2619 - accuracy: 0.9093 - val_loss: 0.5368 - val_accuracy: 0.8019\n",
            "Epoch 164/500\n",
            "104/104 [==============================] - 0s 3ms/step - loss: 0.2645 - accuracy: 0.9093 - val_loss: 0.4636 - val_accuracy: 0.8019\n",
            "Epoch 165/500\n",
            "104/104 [==============================] - 0s 4ms/step - loss: 0.2407 - accuracy: 0.9141 - val_loss: 0.6239 - val_accuracy: 0.7440\n",
            "Epoch 166/500\n",
            "104/104 [==============================] - 0s 4ms/step - loss: 0.2694 - accuracy: 0.8936 - val_loss: 0.4813 - val_accuracy: 0.8261\n",
            "Epoch 167/500\n",
            "104/104 [==============================] - 0s 4ms/step - loss: 0.2639 - accuracy: 0.8954 - val_loss: 0.5767 - val_accuracy: 0.7923\n",
            "Epoch 168/500\n",
            "104/104 [==============================] - 0s 4ms/step - loss: 0.2702 - accuracy: 0.8996 - val_loss: 0.5221 - val_accuracy: 0.7971\n",
            "Epoch 169/500\n",
            "104/104 [==============================] - 0s 4ms/step - loss: 0.2487 - accuracy: 0.9008 - val_loss: 0.5067 - val_accuracy: 0.8068\n",
            "Epoch 170/500\n",
            "104/104 [==============================] - 0s 4ms/step - loss: 0.2635 - accuracy: 0.9002 - val_loss: 0.5761 - val_accuracy: 0.7778\n",
            "Epoch 171/500\n",
            "104/104 [==============================] - 0s 4ms/step - loss: 0.2632 - accuracy: 0.9069 - val_loss: 0.5276 - val_accuracy: 0.7923\n",
            "Epoch 172/500\n",
            "104/104 [==============================] - 0s 4ms/step - loss: 0.2344 - accuracy: 0.9250 - val_loss: 0.5647 - val_accuracy: 0.7971\n",
            "Epoch 173/500\n",
            "104/104 [==============================] - 0s 4ms/step - loss: 0.2640 - accuracy: 0.8906 - val_loss: 0.4668 - val_accuracy: 0.8357\n",
            "Epoch 174/500\n",
            "104/104 [==============================] - 0s 4ms/step - loss: 0.2568 - accuracy: 0.9015 - val_loss: 0.4441 - val_accuracy: 0.8213\n",
            "Epoch 175/500\n",
            "104/104 [==============================] - 0s 3ms/step - loss: 0.2168 - accuracy: 0.9190 - val_loss: 0.5349 - val_accuracy: 0.8019\n",
            "Epoch 176/500\n",
            "104/104 [==============================] - 0s 4ms/step - loss: 0.2549 - accuracy: 0.9093 - val_loss: 0.6158 - val_accuracy: 0.7729\n",
            "Epoch 177/500\n",
            "104/104 [==============================] - 0s 3ms/step - loss: 0.2252 - accuracy: 0.9148 - val_loss: 0.6890 - val_accuracy: 0.7633\n",
            "Epoch 178/500\n",
            "104/104 [==============================] - 0s 4ms/step - loss: 0.2590 - accuracy: 0.9105 - val_loss: 0.4848 - val_accuracy: 0.8019\n",
            "Epoch 179/500\n",
            "104/104 [==============================] - 0s 4ms/step - loss: 0.2479 - accuracy: 0.9057 - val_loss: 0.5309 - val_accuracy: 0.8164\n",
            "Epoch 180/500\n",
            "104/104 [==============================] - 0s 4ms/step - loss: 0.2496 - accuracy: 0.9002 - val_loss: 0.5412 - val_accuracy: 0.7874\n",
            "Epoch 181/500\n",
            "104/104 [==============================] - 0s 4ms/step - loss: 0.2216 - accuracy: 0.9166 - val_loss: 0.5247 - val_accuracy: 0.8116\n",
            "Epoch 182/500\n",
            "104/104 [==============================] - 0s 4ms/step - loss: 0.2250 - accuracy: 0.9244 - val_loss: 0.6365 - val_accuracy: 0.7633\n",
            "Epoch 183/500\n",
            "104/104 [==============================] - 0s 4ms/step - loss: 0.2233 - accuracy: 0.9202 - val_loss: 0.4914 - val_accuracy: 0.8019\n",
            "Epoch 184/500\n",
            "104/104 [==============================] - 0s 4ms/step - loss: 0.2282 - accuracy: 0.9148 - val_loss: 0.5469 - val_accuracy: 0.8019\n",
            "Epoch 185/500\n",
            "104/104 [==============================] - 0s 4ms/step - loss: 0.2124 - accuracy: 0.9202 - val_loss: 0.4983 - val_accuracy: 0.8116\n",
            "Epoch 186/500\n",
            "104/104 [==============================] - 0s 3ms/step - loss: 0.2222 - accuracy: 0.9208 - val_loss: 0.6053 - val_accuracy: 0.7633\n",
            "Epoch 187/500\n",
            "104/104 [==============================] - 0s 4ms/step - loss: 0.2276 - accuracy: 0.9148 - val_loss: 0.4958 - val_accuracy: 0.7923\n",
            "Epoch 188/500\n",
            "104/104 [==============================] - 0s 4ms/step - loss: 0.2394 - accuracy: 0.9081 - val_loss: 0.5256 - val_accuracy: 0.8116\n",
            "Epoch 189/500\n",
            "104/104 [==============================] - 0s 3ms/step - loss: 0.2168 - accuracy: 0.9226 - val_loss: 0.5063 - val_accuracy: 0.7971\n",
            "Epoch 190/500\n",
            "104/104 [==============================] - 0s 4ms/step - loss: 0.2322 - accuracy: 0.9160 - val_loss: 0.5308 - val_accuracy: 0.7778\n",
            "Epoch 191/500\n",
            "104/104 [==============================] - 0s 4ms/step - loss: 0.2203 - accuracy: 0.9135 - val_loss: 0.5187 - val_accuracy: 0.8068\n",
            "Epoch 192/500\n",
            "104/104 [==============================] - 0s 4ms/step - loss: 0.2179 - accuracy: 0.9190 - val_loss: 0.5849 - val_accuracy: 0.7778\n",
            "Epoch 193/500\n",
            "104/104 [==============================] - 0s 4ms/step - loss: 0.2181 - accuracy: 0.9226 - val_loss: 0.5501 - val_accuracy: 0.7874\n",
            "Epoch 194/500\n",
            "104/104 [==============================] - 0s 4ms/step - loss: 0.2139 - accuracy: 0.9238 - val_loss: 0.5178 - val_accuracy: 0.7874\n",
            "Epoch 195/500\n",
            "104/104 [==============================] - 0s 4ms/step - loss: 0.1953 - accuracy: 0.9281 - val_loss: 0.4898 - val_accuracy: 0.8068\n",
            "Epoch 196/500\n",
            "104/104 [==============================] - 0s 4ms/step - loss: 0.1985 - accuracy: 0.9244 - val_loss: 0.5902 - val_accuracy: 0.7729\n",
            "Epoch 197/500\n",
            "104/104 [==============================] - 0s 4ms/step - loss: 0.2077 - accuracy: 0.9232 - val_loss: 0.6379 - val_accuracy: 0.7536\n",
            "Epoch 198/500\n",
            "104/104 [==============================] - 0s 4ms/step - loss: 0.2019 - accuracy: 0.9220 - val_loss: 0.7566 - val_accuracy: 0.7729\n",
            "Epoch 199/500\n",
            "104/104 [==============================] - 0s 4ms/step - loss: 0.2132 - accuracy: 0.9262 - val_loss: 0.4796 - val_accuracy: 0.8164\n"
          ]
        }
      ]
    },
    {
      "cell_type": "code",
      "source": [
        "plt.plot(cnnhistory.history['loss'])\n",
        "plt.plot(cnnhistory.history['val_loss'])\n",
        "plt.title('model loss')\n",
        "plt.ylabel('loss')\n",
        "plt.xlabel('epoch')\n",
        "plt.legend(['train','test'], loc='upper left')\n",
        "plt.show()"
      ],
      "metadata": {
        "id": "oQYnuaCrDH_A",
        "colab": {
          "base_uri": "https://localhost:8080/",
          "height": 295
        },
        "outputId": "c35e9e28-d81b-4c0a-bd3a-01bdfa3efb35"
      },
      "execution_count": 15,
      "outputs": [
        {
          "output_type": "display_data",
          "data": {
            "text/plain": [
              "<Figure size 432x288 with 1 Axes>"
            ],
            "image/png": "[encoded data removed]"
          },
          "metadata": {
            "needs_background": "light"
          }
        }
      ]
    },
    {
      "cell_type": "code",
      "source": [
        "plt.plot(cnnhistory.history['accuracy'])\n",
        "plt.plot(cnnhistory.history['val_accuracy'])\n",
        "plt.title('model accuracy')\n",
        "plt.ylabel('accuracy')\n",
        "plt.xlabel('epoch')\n",
        "plt.legend(['train','test'], loc='upper left')\n",
        "plt.show()"
      ],
      "metadata": {
        "id": "IFkTuO8nDNdq",
        "colab": {
          "base_uri": "https://localhost:8080/",
          "height": 295
        },
        "outputId": "66010673-cf6c-4753-e594-c051a96d55fc"
      },
      "execution_count": 16,
      "outputs": [
        {
          "output_type": "display_data",
          "data": {
            "text/plain": [
              "<Figure size 432x288 with 1 Axes>"
            ],
            "image/png": "[encoded data removed]"
          },
          "metadata": {
            "needs_background": "light"
          }
        }
      ]
    },
    {
      "cell_type": "code",
      "source": [
        "predictions = model.predict(x_testcnn)"
      ],
      "metadata": {
        "id": "A2xtrN5wDQgY"
      },
      "execution_count": 17,
      "outputs": []
    },
    {
      "cell_type": "code",
      "source": [
        "predictions"
      ],
      "metadata": {
        "id": "_f_ohjXKDUpY",
        "colab": {
          "base_uri": "https://localhost:8080/"
        },
        "outputId": "6e00f574-ad09-4b7d-c918-9c69a7e6cc68"
      },
      "execution_count": 18,
      "outputs": [
        {
          "output_type": "execute_result",
          "data": {
            "text/plain": [
              "array([[2.5697184e-01, 5.5497602e-02, 2.0826627e-01, 4.5844555e-01,\n",
              "        7.1148793e-03, 1.3704007e-02],\n",
              "       [1.1535919e-04, 1.0735470e-05, 3.5132538e-07, 9.6164489e-01,\n",
              "        1.3215298e-07, 3.8228560e-02],\n",
              "       [7.8465588e-02, 5.1498275e-02, 2.1577837e-02, 8.0498719e-01,\n",
              "        2.1252017e-03, 4.1345924e-02],\n",
              "       ...,\n",
              "       [4.0814168e-08, 2.2063855e-10, 2.3220000e-06, 6.2971012e-08,\n",
              "        9.9995601e-01, 4.1645737e-05],\n",
              "       [1.2499462e-05, 8.9561027e-01, 1.0329612e-01, 4.3813180e-04,\n",
              "        5.0245308e-05, 5.9282820e-04],\n",
              "       [1.4188292e-04, 5.5136631e-04, 4.7011753e-03, 2.5021885e-05,\n",
              "        9.9364084e-01, 9.3967479e-04]], dtype=float32)"
            ]
          },
          "metadata": {},
          "execution_count": 18
        }
      ]
    },
    {
      "cell_type": "code",
      "source": [
        "y_test"
      ],
      "metadata": {
        "id": "cmA2bFgsDW3D",
        "colab": {
          "base_uri": "https://localhost:8080/"
        },
        "outputId": "7aeb47d0-dc7f-4a80-c5af-67165cac99ac"
      },
      "execution_count": 19,
      "outputs": [
        {
          "output_type": "execute_result",
          "data": {
            "text/plain": [
              "array([3, 3, 3, 0, 4, 4, 1, 2, 5, 0, 5, 3, 2, 2, 1, 4, 4, 5, 2, 4, 1, 2,\n",
              "       3, 5, 4, 2, 1, 2, 2, 2, 2, 5, 2, 5, 3, 1, 2, 0, 4, 5, 2, 3, 2, 2,\n",
              "       5, 2, 0, 1, 3, 4, 4, 5, 1, 1, 4, 4, 5, 1, 1, 1, 0, 1, 5, 0, 4, 1,\n",
              "       1, 0, 1, 4, 1, 0, 4, 1, 3, 1, 2, 2, 1, 2, 3, 0, 5, 3, 5, 5, 2, 4,\n",
              "       5, 1, 5, 1, 5, 3, 4, 1, 4, 1, 5, 4, 5, 1, 2, 1, 1, 5, 1, 3, 2, 5,\n",
              "       2, 1, 3, 5, 4, 4, 0, 0, 3, 1, 2, 2, 3, 5, 1, 5, 3, 4, 2, 2, 0, 2,\n",
              "       2, 5, 5, 0, 3, 3, 2, 2, 0, 3, 4, 0, 4, 2, 4, 5, 4, 1, 5, 3, 2, 2,\n",
              "       5, 4, 3, 3, 4, 3, 3, 4, 1, 5, 2, 3, 2, 2, 0, 2, 1, 3, 1, 2, 2, 5,\n",
              "       5, 1, 4, 2, 2, 1, 1, 3, 3, 5, 5, 2, 5, 1, 5, 0, 3, 3, 0, 5, 1, 4,\n",
              "       1, 4, 2, 5, 5, 1, 4, 2, 4])"
            ]
          },
          "metadata": {},
          "execution_count": 19
        }
      ]
    },
    {
      "cell_type": "code",
      "source": [
        "new_Ytest = y_test.astype(int)"
      ],
      "metadata": {
        "id": "0PHDKWJWDY3g"
      },
      "execution_count": 20,
      "outputs": []
    },
    {
      "cell_type": "code",
      "source": [
        "new_Ytest"
      ],
      "metadata": {
        "id": "k68v2i-pDbZE",
        "colab": {
          "base_uri": "https://localhost:8080/"
        },
        "outputId": "8dc9487c-b8b9-4750-bc1b-1c14185339f4"
      },
      "execution_count": 21,
      "outputs": [
        {
          "output_type": "execute_result",
          "data": {
            "text/plain": [
              "array([3, 3, 3, 0, 4, 4, 1, 2, 5, 0, 5, 3, 2, 2, 1, 4, 4, 5, 2, 4, 1, 2,\n",
              "       3, 5, 4, 2, 1, 2, 2, 2, 2, 5, 2, 5, 3, 1, 2, 0, 4, 5, 2, 3, 2, 2,\n",
              "       5, 2, 0, 1, 3, 4, 4, 5, 1, 1, 4, 4, 5, 1, 1, 1, 0, 1, 5, 0, 4, 1,\n",
              "       1, 0, 1, 4, 1, 0, 4, 1, 3, 1, 2, 2, 1, 2, 3, 0, 5, 3, 5, 5, 2, 4,\n",
              "       5, 1, 5, 1, 5, 3, 4, 1, 4, 1, 5, 4, 5, 1, 2, 1, 1, 5, 1, 3, 2, 5,\n",
              "       2, 1, 3, 5, 4, 4, 0, 0, 3, 1, 2, 2, 3, 5, 1, 5, 3, 4, 2, 2, 0, 2,\n",
              "       2, 5, 5, 0, 3, 3, 2, 2, 0, 3, 4, 0, 4, 2, 4, 5, 4, 1, 5, 3, 2, 2,\n",
              "       5, 4, 3, 3, 4, 3, 3, 4, 1, 5, 2, 3, 2, 2, 0, 2, 1, 3, 1, 2, 2, 5,\n",
              "       5, 1, 4, 2, 2, 1, 1, 3, 3, 5, 5, 2, 5, 1, 5, 0, 3, 3, 0, 5, 1, 4,\n",
              "       1, 4, 2, 5, 5, 1, 4, 2, 4])"
            ]
          },
          "metadata": {},
          "execution_count": 21
        }
      ]
    },
    {
      "cell_type": "code",
      "source": [
        "preds1=predictions.argmax(axis=1)\n",
        "preds1"
      ],
      "metadata": {
        "id": "4_cAI39VFhtp",
        "colab": {
          "base_uri": "https://localhost:8080/"
        },
        "outputId": "21125b41-f935-4584-cf4f-946fb2e8e013"
      },
      "execution_count": 22,
      "outputs": [
        {
          "output_type": "execute_result",
          "data": {
            "text/plain": [
              "array([3, 3, 3, 0, 4, 4, 1, 2, 5, 1, 5, 3, 2, 2, 1, 4, 4, 3, 3, 4, 1, 2,\n",
              "       0, 3, 4, 2, 1, 1, 2, 2, 2, 5, 2, 5, 3, 1, 2, 0, 4, 5, 2, 3, 2, 2,\n",
              "       3, 2, 1, 1, 3, 4, 4, 1, 1, 1, 4, 4, 5, 1, 1, 1, 3, 1, 2, 1, 4, 1,\n",
              "       1, 1, 1, 4, 0, 0, 4, 1, 3, 1, 2, 2, 1, 2, 1, 0, 5, 3, 5, 5, 2, 3,\n",
              "       3, 1, 0, 1, 5, 3, 2, 1, 4, 1, 5, 4, 5, 1, 2, 1, 0, 5, 1, 3, 2, 5,\n",
              "       5, 2, 3, 5, 4, 4, 3, 0, 3, 1, 1, 2, 1, 0, 1, 5, 3, 4, 2, 2, 0, 2,\n",
              "       2, 3, 3, 0, 5, 3, 2, 2, 0, 3, 4, 0, 4, 1, 4, 1, 4, 1, 5, 3, 2, 2,\n",
              "       5, 4, 3, 3, 4, 5, 3, 4, 1, 5, 1, 3, 2, 2, 0, 2, 1, 3, 1, 4, 4, 5,\n",
              "       5, 1, 4, 2, 4, 1, 1, 3, 5, 5, 5, 2, 3, 1, 4, 1, 3, 3, 2, 2, 1, 4,\n",
              "       1, 4, 3, 5, 5, 1, 4, 1, 4])"
            ]
          },
          "metadata": {},
          "execution_count": 22
        }
      ]
    },
    {
      "cell_type": "code",
      "source": [
        "abc = preds1.astype(int).flatten()"
      ],
      "metadata": {
        "id": "H4WEmM60NfQn"
      },
      "execution_count": 23,
      "outputs": []
    },
    {
      "cell_type": "code",
      "source": [
        "from sklearn.metrics import confusion_matrix\n",
        "c = confusion_matrix(new_Ytest, abc) \n",
        "c"
      ],
      "metadata": {
        "id": "bKEBeEBlFjB8",
        "colab": {
          "base_uri": "https://localhost:8080/"
        },
        "outputId": "1200bd1b-978c-41a1-be16-d9ae4a2d8598"
      },
      "execution_count": 24,
      "outputs": [
        {
          "output_type": "execute_result",
          "data": {
            "text/plain": [
              "array([[10,  5,  1,  2,  0,  0],\n",
              "       [ 2, 38,  1,  0,  0,  0],\n",
              "       [ 0,  5, 34,  2,  3,  1],\n",
              "       [ 1,  2,  0, 25,  0,  3],\n",
              "       [ 0,  0,  1,  1, 31,  0],\n",
              "       [ 2,  2,  2,  7,  1, 25]])"
            ]
          },
          "metadata": {},
          "execution_count": 24
        }
      ]
    },
    {
      "cell_type": "code",
      "source": [
        "y_test"
      ],
      "metadata": {
        "id": "m4RjG7LWLSQx",
        "colab": {
          "base_uri": "https://localhost:8080/"
        },
        "outputId": "c993ecec-0ee4-4cee-805d-33abc4729b1d"
      },
      "execution_count": 25,
      "outputs": [
        {
          "output_type": "execute_result",
          "data": {
            "text/plain": [
              "array([3, 3, 3, 0, 4, 4, 1, 2, 5, 0, 5, 3, 2, 2, 1, 4, 4, 5, 2, 4, 1, 2,\n",
              "       3, 5, 4, 2, 1, 2, 2, 2, 2, 5, 2, 5, 3, 1, 2, 0, 4, 5, 2, 3, 2, 2,\n",
              "       5, 2, 0, 1, 3, 4, 4, 5, 1, 1, 4, 4, 5, 1, 1, 1, 0, 1, 5, 0, 4, 1,\n",
              "       1, 0, 1, 4, 1, 0, 4, 1, 3, 1, 2, 2, 1, 2, 3, 0, 5, 3, 5, 5, 2, 4,\n",
              "       5, 1, 5, 1, 5, 3, 4, 1, 4, 1, 5, 4, 5, 1, 2, 1, 1, 5, 1, 3, 2, 5,\n",
              "       2, 1, 3, 5, 4, 4, 0, 0, 3, 1, 2, 2, 3, 5, 1, 5, 3, 4, 2, 2, 0, 2,\n",
              "       2, 5, 5, 0, 3, 3, 2, 2, 0, 3, 4, 0, 4, 2, 4, 5, 4, 1, 5, 3, 2, 2,\n",
              "       5, 4, 3, 3, 4, 3, 3, 4, 1, 5, 2, 3, 2, 2, 0, 2, 1, 3, 1, 2, 2, 5,\n",
              "       5, 1, 4, 2, 2, 1, 1, 3, 3, 5, 5, 2, 5, 1, 5, 0, 3, 3, 0, 5, 1, 4,\n",
              "       1, 4, 2, 5, 5, 1, 4, 2, 4])"
            ]
          },
          "metadata": {},
          "execution_count": 25
        }
      ]
    },
    {
      "cell_type": "code",
      "source": [
        "loss, acc =model.evaluate(x_testcnn, y_test)\n",
        "print(\"Restored model, accuracy: {:5.2f}%\".format(100*acc))"
      ],
      "metadata": {
        "id": "n3kzoqPkDqqS",
        "colab": {
          "base_uri": "https://localhost:8080/"
        },
        "outputId": "e79c789d-9c1b-4dd1-c31d-d99af538b02b"
      },
      "execution_count": 26,
      "outputs": [
        {
          "output_type": "stream",
          "name": "stdout",
          "text": [
            "7/7 [==============================] - 0s 3ms/step - loss: 0.5080 - accuracy: 0.7874\n",
            "Restored model, accuracy: 78.74%\n"
          ]
        }
      ]
    },
    {
      "cell_type": "code",
      "source": [
        "loss, acc =model.evaluate(X_train, y_train)\n",
        "print(\"Restored model train, accuracy: {:5.2f}%\".format(100*acc))"
      ],
      "metadata": {
        "id": "fJDTGH_OUX0z",
        "colab": {
          "base_uri": "https://localhost:8080/"
        },
        "outputId": "41b6aa33-d582-4602-942b-5d0f66e49d97"
      },
      "execution_count": 27,
      "outputs": [
        {
          "output_type": "stream",
          "name": "stdout",
          "text": [
            "52/52 [==============================] - 0s 3ms/step - loss: 0.1023 - accuracy: 0.9837\n",
            "Restored model train, accuracy: 98.37%\n"
          ]
        }
      ]
    },
    {
      "cell_type": "code",
      "source": [
        "from sklearn.metrics import classification_report, confusion_matrix,accuracy_score\n",
        "import seaborn as sn\n",
        "\n",
        "print(classification_report(new_Ytest,abc))\n",
        "\n",
        "acc = float(accuracy_score(new_Ytest,abc))*100\n",
        "print(\"----accuracy score %s ----\" % acc)\n",
        "\n",
        "cm = confusion_matrix(new_Ytest,abc)\n",
        "#df_cm = pd.DataFrame(cm)\n",
        "class_names = ['neutral','calm', 'happy','sad','angry', 'fearful' ]\n",
        "df_cm = pd.DataFrame(cm, index=class_names, columns=class_names,)\n",
        "sn.heatmap(df_cm, annot=True, fmt='')\n",
        "plt.show()"
      ],
      "metadata": {
        "id": "SfSC3El94LZg",
        "colab": {
          "base_uri": "https://localhost:8080/",
          "height": 521
        },
        "outputId": "5a7c745d-f1f8-4794-a443-d018dbab705c"
      },
      "execution_count": 28,
      "outputs": [
        {
          "output_type": "stream",
          "name": "stdout",
          "text": [
            "              precision    recall  f1-score   support\n",
            "\n",
            "           0       0.67      0.56      0.61        18\n",
            "           1       0.73      0.93      0.82        41\n",
            "           2       0.87      0.76      0.81        45\n",
            "           3       0.68      0.81      0.74        31\n",
            "           4       0.89      0.94      0.91        33\n",
            "           5       0.86      0.64      0.74        39\n",
            "\n",
            "    accuracy                           0.79       207\n",
            "   macro avg       0.78      0.77      0.77       207\n",
            "weighted avg       0.80      0.79      0.78       207\n",
            "\n",
            "----accuracy score 78.74396135265701 ----\n"
          ]
        },
        {
          "output_type": "display_data",
          "data": {
            "text/plain": [
              "<Figure size 432x288 with 2 Axes>"
            ],
            "image/png": "[encoded data removed]"
          },
          "metadata": {
            "needs_background": "light"
          }
        }
      ]
    }
  ]
}