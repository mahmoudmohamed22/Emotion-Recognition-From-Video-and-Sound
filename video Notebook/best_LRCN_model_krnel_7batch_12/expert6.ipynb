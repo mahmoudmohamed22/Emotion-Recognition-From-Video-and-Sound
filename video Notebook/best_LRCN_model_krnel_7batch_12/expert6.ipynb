{
  "nbformat": 4,
  "nbformat_minor": 0,
  "metadata": {
    "colab": {
      "name": "expert6.ipynb",
      "provenance": [],
      "collapsed_sections": [],
      "machine_shape": "hm"
    },
    "kernelspec": {
      "name": "python3",
      "display_name": "Python 3"
    },
    "accelerator": "GPU"
  },
  "cells": [
    {
      "cell_type": "markdown",
      "source": [
        "**training**"
      ],
      "metadata": {
        "id": "3p4NEbw1wA08"
      }
    },
    {
      "cell_type": "code",
      "source": [
        "# Discard the output of this cell.\n",
        "#%%capture\n",
        "\n",
        "# Install the required libraries.\n",
        "!pip install tensorflow opencv-contrib-python youtube-dl moviepy pydot\n",
        "!pip install git+https://github.com/TahaAnwar/pafy.git#egg=pafy"
      ],
      "metadata": {
        "id": "MChAq7xYwD1o",
        "outputId": "0f60e78f-8426-49e3-c06d-c5cef1a779af",
        "colab": {
          "base_uri": "https://localhost:8080/"
        }
      },
      "execution_count": 1,
      "outputs": [
        {
          "output_type": "stream",
          "name": "stdout",
          "text": [
            "Looking in indexes: https://pypi.org/simple, https://us-python.pkg.dev/colab-wheels/public/simple/\n",
            "Requirement already satisfied: tensorflow in /usr/local/lib/python3.7/dist-packages (2.8.2+zzzcolab20220527125636)\n",
            "Requirement already satisfied: opencv-contrib-python in /usr/local/lib/python3.7/dist-packages (4.1.2.30)\n",
            "Requirement already satisfied: youtube-dl in /usr/local/lib/python3.7/dist-packages (2021.12.17)\n",
            "Requirement already satisfied: moviepy in /usr/local/lib/python3.7/dist-packages (0.2.3.5)\n",
            "Requirement already satisfied: pydot in /usr/local/lib/python3.7/dist-packages (1.3.0)\n",
            "Requirement already satisfied: libclang>=9.0.1 in /usr/local/lib/python3.7/dist-packages (from tensorflow) (14.0.1)\n",
            "Requirement already satisfied: numpy>=1.20 in /usr/local/lib/python3.7/dist-packages (from tensorflow) (1.21.6)\n",
            "Requirement already satisfied: wrapt>=1.11.0 in /usr/local/lib/python3.7/dist-packages (from tensorflow) (1.14.1)\n",
            "Requirement already satisfied: tensorboard<2.9,>=2.8 in /usr/local/lib/python3.7/dist-packages (from tensorflow) (2.8.0)\n",
            "Requirement already satisfied: h5py>=2.9.0 in /usr/local/lib/python3.7/dist-packages (from tensorflow) (3.1.0)\n",
            "Requirement already satisfied: absl-py>=0.4.0 in /usr/local/lib/python3.7/dist-packages (from tensorflow) (1.0.0)\n",
            "Requirement already satisfied: tensorflow-io-gcs-filesystem>=0.23.1 in /usr/local/lib/python3.7/dist-packages (from tensorflow) (0.26.0)\n",
            "Requirement already satisfied: astunparse>=1.6.0 in /usr/local/lib/python3.7/dist-packages (from tensorflow) (1.6.3)\n",
            "Requirement already satisfied: flatbuffers>=1.12 in /usr/local/lib/python3.7/dist-packages (from tensorflow) (2.0)\n",
            "Requirement already satisfied: termcolor>=1.1.0 in /usr/local/lib/python3.7/dist-packages (from tensorflow) (1.1.0)\n",
            "Requirement already satisfied: google-pasta>=0.1.1 in /usr/local/lib/python3.7/dist-packages (from tensorflow) (0.2.0)\n",
            "Requirement already satisfied: grpcio<2.0,>=1.24.3 in /usr/local/lib/python3.7/dist-packages (from tensorflow) (1.46.3)\n",
            "Requirement already satisfied: opt-einsum>=2.3.2 in /usr/local/lib/python3.7/dist-packages (from tensorflow) (3.3.0)\n",
            "Requirement already satisfied: typing-extensions>=3.6.6 in /usr/local/lib/python3.7/dist-packages (from tensorflow) (4.2.0)\n",
            "Requirement already satisfied: protobuf<3.20,>=3.9.2 in /usr/local/lib/python3.7/dist-packages (from tensorflow) (3.17.3)\n",
            "Requirement already satisfied: tensorflow-estimator<2.9,>=2.8 in /usr/local/lib/python3.7/dist-packages (from tensorflow) (2.8.0)\n",
            "Requirement already satisfied: keras<2.9,>=2.8.0rc0 in /usr/local/lib/python3.7/dist-packages (from tensorflow) (2.8.0)\n",
            "Requirement already satisfied: gast>=0.2.1 in /usr/local/lib/python3.7/dist-packages (from tensorflow) (0.5.3)\n",
            "Requirement already satisfied: setuptools in /usr/local/lib/python3.7/dist-packages (from tensorflow) (57.4.0)\n",
            "Requirement already satisfied: six>=1.12.0 in /usr/local/lib/python3.7/dist-packages (from tensorflow) (1.15.0)\n",
            "Requirement already satisfied: keras-preprocessing>=1.1.1 in /usr/local/lib/python3.7/dist-packages (from tensorflow) (1.1.2)\n",
            "Requirement already satisfied: wheel<1.0,>=0.23.0 in /usr/local/lib/python3.7/dist-packages (from astunparse>=1.6.0->tensorflow) (0.37.1)\n",
            "Requirement already satisfied: cached-property in /usr/local/lib/python3.7/dist-packages (from h5py>=2.9.0->tensorflow) (1.5.2)\n",
            "Requirement already satisfied: requests<3,>=2.21.0 in /usr/local/lib/python3.7/dist-packages (from tensorboard<2.9,>=2.8->tensorflow) (2.23.0)\n",
            "Requirement already satisfied: google-auth<3,>=1.6.3 in /usr/local/lib/python3.7/dist-packages (from tensorboard<2.9,>=2.8->tensorflow) (1.35.0)\n",
            "Requirement already satisfied: markdown>=2.6.8 in /usr/local/lib/python3.7/dist-packages (from tensorboard<2.9,>=2.8->tensorflow) (3.3.7)\n",
            "Requirement already satisfied: google-auth-oauthlib<0.5,>=0.4.1 in /usr/local/lib/python3.7/dist-packages (from tensorboard<2.9,>=2.8->tensorflow) (0.4.6)\n",
            "Requirement already satisfied: werkzeug>=0.11.15 in /usr/local/lib/python3.7/dist-packages (from tensorboard<2.9,>=2.8->tensorflow) (1.0.1)\n",
            "Requirement already satisfied: tensorboard-data-server<0.7.0,>=0.6.0 in /usr/local/lib/python3.7/dist-packages (from tensorboard<2.9,>=2.8->tensorflow) (0.6.1)\n",
            "Requirement already satisfied: tensorboard-plugin-wit>=1.6.0 in /usr/local/lib/python3.7/dist-packages (from tensorboard<2.9,>=2.8->tensorflow) (1.8.1)\n",
            "Requirement already satisfied: cachetools<5.0,>=2.0.0 in /usr/local/lib/python3.7/dist-packages (from google-auth<3,>=1.6.3->tensorboard<2.9,>=2.8->tensorflow) (4.2.4)\n",
            "Requirement already satisfied: rsa<5,>=3.1.4 in /usr/local/lib/python3.7/dist-packages (from google-auth<3,>=1.6.3->tensorboard<2.9,>=2.8->tensorflow) (4.8)\n",
            "Requirement already satisfied: pyasn1-modules>=0.2.1 in /usr/local/lib/python3.7/dist-packages (from google-auth<3,>=1.6.3->tensorboard<2.9,>=2.8->tensorflow) (0.2.8)\n",
            "Requirement already satisfied: requests-oauthlib>=0.7.0 in /usr/local/lib/python3.7/dist-packages (from google-auth-oauthlib<0.5,>=0.4.1->tensorboard<2.9,>=2.8->tensorflow) (1.3.1)\n",
            "Requirement already satisfied: importlib-metadata>=4.4 in /usr/local/lib/python3.7/dist-packages (from markdown>=2.6.8->tensorboard<2.9,>=2.8->tensorflow) (4.11.4)\n",
            "Requirement already satisfied: zipp>=0.5 in /usr/local/lib/python3.7/dist-packages (from importlib-metadata>=4.4->markdown>=2.6.8->tensorboard<2.9,>=2.8->tensorflow) (3.8.0)\n",
            "Requirement already satisfied: pyasn1<0.5.0,>=0.4.6 in /usr/local/lib/python3.7/dist-packages (from pyasn1-modules>=0.2.1->google-auth<3,>=1.6.3->tensorboard<2.9,>=2.8->tensorflow) (0.4.8)\n",
            "Requirement already satisfied: urllib3!=1.25.0,!=1.25.1,<1.26,>=1.21.1 in /usr/local/lib/python3.7/dist-packages (from requests<3,>=2.21.0->tensorboard<2.9,>=2.8->tensorflow) (1.24.3)\n",
            "Requirement already satisfied: idna<3,>=2.5 in /usr/local/lib/python3.7/dist-packages (from requests<3,>=2.21.0->tensorboard<2.9,>=2.8->tensorflow) (2.10)\n",
            "Requirement already satisfied: certifi>=2017.4.17 in /usr/local/lib/python3.7/dist-packages (from requests<3,>=2.21.0->tensorboard<2.9,>=2.8->tensorflow) (2022.5.18.1)\n",
            "Requirement already satisfied: chardet<4,>=3.0.2 in /usr/local/lib/python3.7/dist-packages (from requests<3,>=2.21.0->tensorboard<2.9,>=2.8->tensorflow) (3.0.4)\n",
            "Requirement already satisfied: oauthlib>=3.0.0 in /usr/local/lib/python3.7/dist-packages (from requests-oauthlib>=0.7.0->google-auth-oauthlib<0.5,>=0.4.1->tensorboard<2.9,>=2.8->tensorflow) (3.2.0)\n",
            "Requirement already satisfied: imageio<3.0,>=2.1.2 in /usr/local/lib/python3.7/dist-packages (from moviepy) (2.4.1)\n",
            "Requirement already satisfied: tqdm<5.0,>=4.11.2 in /usr/local/lib/python3.7/dist-packages (from moviepy) (4.64.0)\n",
            "Requirement already satisfied: decorator<5.0,>=4.0.2 in /usr/local/lib/python3.7/dist-packages (from moviepy) (4.4.2)\n",
            "Requirement already satisfied: pillow in /usr/local/lib/python3.7/dist-packages (from imageio<3.0,>=2.1.2->moviepy) (7.1.2)\n",
            "Requirement already satisfied: pyparsing>=2.1.4 in /usr/local/lib/python3.7/dist-packages (from pydot) (3.0.9)\n",
            "Looking in indexes: https://pypi.org/simple, https://us-python.pkg.dev/colab-wheels/public/simple/\n",
            "Collecting pafy\n",
            "  Cloning https://github.com/TahaAnwar/pafy.git to /tmp/pip-install-un9x6t12/pafy_b44516da539e457993e9c62451052f30\n",
            "  Running command git clone -q https://github.com/TahaAnwar/pafy.git /tmp/pip-install-un9x6t12/pafy_b44516da539e457993e9c62451052f30\n"
          ]
        }
      ]
    },
    {
      "cell_type": "code",
      "source": [
        "# Import the required libraries.\n",
        "import os\n",
        "import cv2\n",
        "import pafy\n",
        "import math\n",
        "import random\n",
        "import numpy as np\n",
        "import datetime as dt\n",
        "import tensorflow as tf\n",
        "from collections import deque\n",
        "import matplotlib.pyplot as plt\n",
        "\n",
        "from moviepy.editor import *\n",
        "%matplotlib inline\n",
        "\n",
        "from sklearn.model_selection import train_test_split\n",
        "\n",
        "from tensorflow.keras.layers import *\n",
        "from tensorflow.keras.models import Sequential\n",
        "from tensorflow.keras.utils import to_categorical\n",
        "from tensorflow.keras.callbacks import EarlyStopping\n",
        "from tensorflow.keras.utils import plot_model\n",
        "import glob"
      ],
      "metadata": {
        "id": "1nJVuzQAwGQp"
      },
      "execution_count": 2,
      "outputs": []
    },
    {
      "cell_type": "code",
      "source": [
        "seed_constant = 27\n",
        "np.random.seed(seed_constant)\n",
        "random.seed(seed_constant)\n",
        "tf.random.set_seed(seed_constant)\n"
      ],
      "metadata": {
        "id": "IoMuaveSwK6K"
      },
      "execution_count": 3,
      "outputs": []
    },
    {
      "cell_type": "code",
      "source": [
        "# Specify the height and width to which each video frame will be resized in our dataset.\n",
        "IMAGE_HEIGHT , IMAGE_WIDTH = 64, 64\n",
        "\n",
        "# Specify the number of frames of a video that will be fed to the model as one sequence.\n",
        "SEQUENCE_LENGTH = 30\n",
        "\n",
        "# Specify the directory containing the UCF50 dataset. \n",
        "#DATASET_DIR = \"/content/drive/MyDrive/frames_ravdess_label\"\n",
        "\n",
        "# Specify the list containing the names of the classes used for training. Feel free to choose any set of classes.\n",
        "CLASSES_LIST = [\"neutral\", \"calm\", \"happy\", \"sad\",\"angry\",\"fearful\"]"
      ],
      "metadata": {
        "id": "GcOPbLHXwNW6"
      },
      "execution_count": 4,
      "outputs": []
    },
    {
      "cell_type": "code",
      "source": [
        "from google.colab import drive\n",
        "drive.mount('/content/drive')"
      ],
      "metadata": {
        "id": "R4qTnVYzwtnU",
        "outputId": "dd3ad96b-d15b-4555-95ce-d12bbc487fcf",
        "colab": {
          "base_uri": "https://localhost:8080/"
        }
      },
      "execution_count": 5,
      "outputs": [
        {
          "output_type": "stream",
          "name": "stdout",
          "text": [
            "Drive already mounted at /content/drive; to attempt to forcibly remount, call drive.mount(\"/content/drive\", force_remount=True).\n"
          ]
        }
      ]
    },
    {
      "cell_type": "code",
      "source": [
        "import joblib\n",
        "features = joblib.load('/content/drive/My Drive/features_ravdess/data_set/features_data')\n",
        "labels = joblib.load('/content/drive/MyDrive/features_ravdess/data_set/labels')\n",
        "video_files_paths = joblib.load('/content/drive/My Drive/features_ravdess/data_set/video_path')"
      ],
      "metadata": {
        "id": "Hpib_QJowRPo"
      },
      "execution_count": 5,
      "outputs": []
    },
    {
      "cell_type": "code",
      "source": [
        "features = np.asarray(features)\n",
        "labels = np.array(labels)  "
      ],
      "metadata": {
        "id": "PH_q4iTSwt_7"
      },
      "execution_count": 6,
      "outputs": []
    },
    {
      "cell_type": "code",
      "source": [
        "features.shape"
      ],
      "metadata": {
        "id": "EcUFSl-ExLkk",
        "outputId": "635fd2b5-5cb8-4f9d-d79f-60b093c3ecda",
        "colab": {
          "base_uri": "https://localhost:8080/"
        }
      },
      "execution_count": 7,
      "outputs": [
        {
          "output_type": "execute_result",
          "data": {
            "text/plain": [
              "(2067, 30, 64, 64, 3)"
            ]
          },
          "metadata": {},
          "execution_count": 7
        }
      ]
    },
    {
      "cell_type": "code",
      "source": [
        "# Using Keras's to_categorical method to convert labels into one-hot-encoded vectors\n",
        "one_hot_encoded_labels = to_categorical(labels)"
      ],
      "metadata": {
        "id": "byN_xKZ1w3db"
      },
      "execution_count": 8,
      "outputs": []
    },
    {
      "cell_type": "code",
      "source": [
        "# Split the Data into Train ( 80% ) and Test Set ( 20% ).\n",
        "features_train, features_test, labels_train, labels_test = train_test_split(features, one_hot_encoded_labels,\n",
        "                                                                            test_size = 0.10, shuffle = True,\n",
        "                                                                            random_state = seed_constant)"
      ],
      "metadata": {
        "id": "Xbo5u-ynw4bP"
      },
      "execution_count": 9,
      "outputs": []
    },
    {
      "cell_type": "code",
      "source": [
        "def create_LRCN_model():\n",
        "    '''\n",
        "    This function will construct the required LRCN model.\n",
        "    Returns:\n",
        "        model: It is the required constructed LRCN model.\n",
        "    '''\n",
        "\n",
        "    # We will use a Sequential model for model construction.\n",
        "    model = Sequential()\n",
        "   \n",
        "    # Define the Model Architecture.\n",
        "    ########################################################################################################################\n",
        "    \n",
        "    model.add(TimeDistributed(Conv2D(16, (7, 7), padding='same'),\n",
        "                              input_shape = (SEQUENCE_LENGTH, IMAGE_HEIGHT, IMAGE_WIDTH, 3)))\n",
        "    model.add(TimeDistributed(BatchNormalization()))\n",
        "    model.add(TimeDistributed(Activation('relu')))\n",
        "    model.add(TimeDistributed(MaxPooling2D((4, 4)))) \n",
        "    model.add(TimeDistributed(Dropout(0.1)))\n",
        "    \n",
        "    model.add(TimeDistributed(Conv2D(32, (7, 7), padding='same')))\n",
        "    model.add(TimeDistributed(BatchNormalization()))\n",
        "    model.add(TimeDistributed(Activation('relu')))\n",
        "    model.add(TimeDistributed(MaxPooling2D((4, 4))))\n",
        "    model.add(TimeDistributed(Dropout(0.2)))\n",
        "    \n",
        "    model.add(TimeDistributed(Conv2D(64, (7, 7), padding='same')))\n",
        "    model.add(TimeDistributed(BatchNormalization()))\n",
        "    model.add(TimeDistributed(Activation('relu')))\n",
        "    model.add(TimeDistributed(MaxPooling2D((2, 2))))\n",
        "    model.add(TimeDistributed(Dropout(0.3)))\n",
        "    \n",
        "    model.add(TimeDistributed(Conv2D(64, (7, 7), padding='same')))\n",
        "    model.add(TimeDistributed(BatchNormalization()))\n",
        "    model.add(TimeDistributed(Activation('relu')))\n",
        "    model.add(TimeDistributed(MaxPooling2D((2, 2))))\n",
        "    #model.add(TimeDistributed(Dropout(0.25)))\n",
        "                                      \n",
        "    model.add(TimeDistributed(Flatten()))\n",
        "                                      \n",
        "    model.add(LSTM(64))\n",
        "                                      \n",
        "    model.add(Dense(len(CLASSES_LIST), activation = 'softmax'))\n",
        "\n",
        "    ########################################################################################################################\n",
        "\n",
        "    # Display the models summary.\n",
        "    model.summary()\n",
        "    \n",
        "    # Return the constructed LRCN model.\n",
        "    return model"
      ],
      "metadata": {
        "id": "ANf9NyOAw7Fa"
      },
      "execution_count": 10,
      "outputs": []
    },
    {
      "cell_type": "code",
      "source": [
        "# Construct the required LRCN model.\n",
        "LRCN_model = create_LRCN_model()\n",
        "\n",
        "# Display the success message.\n",
        "print(\"Model Created Successfully!\")"
      ],
      "metadata": {
        "id": "VX1aE7GoxSHl",
        "outputId": "e8cf0a7d-effc-487e-9f04-06e7c2dfcebb",
        "colab": {
          "base_uri": "https://localhost:8080/"
        }
      },
      "execution_count": 11,
      "outputs": [
        {
          "output_type": "stream",
          "name": "stdout",
          "text": [
            "Model: \"sequential\"\n",
            "_________________________________________________________________\n",
            " Layer (type)                Output Shape              Param #   \n",
            "=================================================================\n",
            " time_distributed (TimeDistr  (None, 30, 64, 64, 16)   2368      \n",
            " ibuted)                                                         \n",
            "                                                                 \n",
            " time_distributed_1 (TimeDis  (None, 30, 64, 64, 16)   64        \n",
            " tributed)                                                       \n",
            "                                                                 \n",
            " time_distributed_2 (TimeDis  (None, 30, 64, 64, 16)   0         \n",
            " tributed)                                                       \n",
            "                                                                 \n",
            " time_distributed_3 (TimeDis  (None, 30, 16, 16, 16)   0         \n",
            " tributed)                                                       \n",
            "                                                                 \n",
            " time_distributed_4 (TimeDis  (None, 30, 16, 16, 16)   0         \n",
            " tributed)                                                       \n",
            "                                                                 \n",
            " time_distributed_5 (TimeDis  (None, 30, 16, 16, 32)   25120     \n",
            " tributed)                                                       \n",
            "                                                                 \n",
            " time_distributed_6 (TimeDis  (None, 30, 16, 16, 32)   128       \n",
            " tributed)                                                       \n",
            "                                                                 \n",
            " time_distributed_7 (TimeDis  (None, 30, 16, 16, 32)   0         \n",
            " tributed)                                                       \n",
            "                                                                 \n",
            " time_distributed_8 (TimeDis  (None, 30, 4, 4, 32)     0         \n",
            " tributed)                                                       \n",
            "                                                                 \n",
            " time_distributed_9 (TimeDis  (None, 30, 4, 4, 32)     0         \n",
            " tributed)                                                       \n",
            "                                                                 \n",
            " time_distributed_10 (TimeDi  (None, 30, 4, 4, 64)     100416    \n",
            " stributed)                                                      \n",
            "                                                                 \n",
            " time_distributed_11 (TimeDi  (None, 30, 4, 4, 64)     256       \n",
            " stributed)                                                      \n",
            "                                                                 \n",
            " time_distributed_12 (TimeDi  (None, 30, 4, 4, 64)     0         \n",
            " stributed)                                                      \n",
            "                                                                 \n",
            " time_distributed_13 (TimeDi  (None, 30, 2, 2, 64)     0         \n",
            " stributed)                                                      \n",
            "                                                                 \n",
            " time_distributed_14 (TimeDi  (None, 30, 2, 2, 64)     0         \n",
            " stributed)                                                      \n",
            "                                                                 \n",
            " time_distributed_15 (TimeDi  (None, 30, 2, 2, 64)     200768    \n",
            " stributed)                                                      \n",
            "                                                                 \n",
            " time_distributed_16 (TimeDi  (None, 30, 2, 2, 64)     256       \n",
            " stributed)                                                      \n",
            "                                                                 \n",
            " time_distributed_17 (TimeDi  (None, 30, 2, 2, 64)     0         \n",
            " stributed)                                                      \n",
            "                                                                 \n",
            " time_distributed_18 (TimeDi  (None, 30, 1, 1, 64)     0         \n",
            " stributed)                                                      \n",
            "                                                                 \n",
            " time_distributed_19 (TimeDi  (None, 30, 64)           0         \n",
            " stributed)                                                      \n",
            "                                                                 \n",
            " lstm (LSTM)                 (None, 64)                33024     \n",
            "                                                                 \n",
            " dense (Dense)               (None, 6)                 390       \n",
            "                                                                 \n",
            "=================================================================\n",
            "Total params: 362,790\n",
            "Trainable params: 362,438\n",
            "Non-trainable params: 352\n",
            "_________________________________________________________________\n",
            "Model Created Successfully!\n"
          ]
        }
      ]
    },
    {
      "cell_type": "code",
      "source": [
        "# Create an Instance of Early Stopping Callback.\n",
        "early_stopping_callback = EarlyStopping(monitor = 'val_loss', patience = 25, mode = 'min', restore_best_weights = True)\n",
        " \n",
        "# Compile the model and specify loss function, optimizer and metrics to the model.\n",
        "LRCN_model.compile(loss = 'categorical_crossentropy', optimizer = 'Adam', metrics = [\"accuracy\"])\n",
        "\n",
        "# Start training the model.\n",
        "LRCN_model_training_history = LRCN_model.fit(x = features_train, y = labels_train, epochs = 100, batch_size = 12 ,\n",
        "                                             shuffle = True, validation_split = 0.1, callbacks = [early_stopping_callback])"
      ],
      "metadata": {
        "id": "-wmt7CHExUgm",
        "outputId": "ae5d1351-f9db-46bc-f2f8-4b90f745283b",
        "colab": {
          "base_uri": "https://localhost:8080/"
        }
      },
      "execution_count": 12,
      "outputs": [
        {
          "output_type": "stream",
          "name": "stdout",
          "text": [
            "Epoch 1/100\n",
            "140/140 [==============================] - 21s 48ms/step - loss: 1.5729 - accuracy: 0.3375 - val_loss: 2.1322 - val_accuracy: 0.1774\n",
            "Epoch 2/100\n",
            "140/140 [==============================] - 5s 39ms/step - loss: 1.1110 - accuracy: 0.5275 - val_loss: 1.5053 - val_accuracy: 0.3656\n",
            "Epoch 3/100\n",
            "140/140 [==============================] - 5s 39ms/step - loss: 0.9744 - accuracy: 0.5848 - val_loss: 0.9001 - val_accuracy: 0.5860\n",
            "Epoch 4/100\n",
            "140/140 [==============================] - 5s 39ms/step - loss: 0.8502 - accuracy: 0.6511 - val_loss: 0.8248 - val_accuracy: 0.7097\n",
            "Epoch 5/100\n",
            "140/140 [==============================] - 5s 39ms/step - loss: 0.7063 - accuracy: 0.7276 - val_loss: 0.8874 - val_accuracy: 0.6290\n",
            "Epoch 6/100\n",
            "140/140 [==============================] - 5s 38ms/step - loss: 0.6390 - accuracy: 0.7449 - val_loss: 1.0743 - val_accuracy: 0.6129\n",
            "Epoch 7/100\n",
            "140/140 [==============================] - 5s 38ms/step - loss: 0.5542 - accuracy: 0.7843 - val_loss: 0.5999 - val_accuracy: 0.7849\n",
            "Epoch 8/100\n",
            "140/140 [==============================] - 5s 38ms/step - loss: 0.4733 - accuracy: 0.8148 - val_loss: 0.8431 - val_accuracy: 0.6882\n",
            "Epoch 9/100\n",
            "140/140 [==============================] - 5s 39ms/step - loss: 0.4727 - accuracy: 0.8250 - val_loss: 0.5726 - val_accuracy: 0.8172\n",
            "Epoch 10/100\n",
            "140/140 [==============================] - 5s 38ms/step - loss: 0.4044 - accuracy: 0.8519 - val_loss: 0.8129 - val_accuracy: 0.7312\n",
            "Epoch 11/100\n",
            "140/140 [==============================] - 5s 39ms/step - loss: 0.3498 - accuracy: 0.8668 - val_loss: 0.5023 - val_accuracy: 0.8011\n",
            "Epoch 12/100\n",
            "140/140 [==============================] - 5s 38ms/step - loss: 0.3324 - accuracy: 0.8751 - val_loss: 0.9380 - val_accuracy: 0.7204\n",
            "Epoch 13/100\n",
            "140/140 [==============================] - 5s 38ms/step - loss: 0.2996 - accuracy: 0.9020 - val_loss: 0.6228 - val_accuracy: 0.7957\n",
            "Epoch 14/100\n",
            "140/140 [==============================] - 5s 38ms/step - loss: 0.2436 - accuracy: 0.9104 - val_loss: 1.3903 - val_accuracy: 0.6183\n",
            "Epoch 15/100\n",
            "140/140 [==============================] - 5s 38ms/step - loss: 0.2950 - accuracy: 0.8925 - val_loss: 1.2958 - val_accuracy: 0.6398\n",
            "Epoch 16/100\n",
            "140/140 [==============================] - 5s 38ms/step - loss: 0.2259 - accuracy: 0.9229 - val_loss: 0.7512 - val_accuracy: 0.7366\n",
            "Epoch 17/100\n",
            "140/140 [==============================] - 5s 39ms/step - loss: 0.2259 - accuracy: 0.9152 - val_loss: 0.6500 - val_accuracy: 0.7473\n",
            "Epoch 18/100\n",
            "140/140 [==============================] - 5s 39ms/step - loss: 0.2082 - accuracy: 0.9247 - val_loss: 1.5460 - val_accuracy: 0.5753\n",
            "Epoch 19/100\n",
            "140/140 [==============================] - 5s 38ms/step - loss: 0.1915 - accuracy: 0.9307 - val_loss: 1.2287 - val_accuracy: 0.6344\n",
            "Epoch 20/100\n",
            "140/140 [==============================] - 5s 39ms/step - loss: 0.1818 - accuracy: 0.9421 - val_loss: 0.4937 - val_accuracy: 0.8280\n",
            "Epoch 21/100\n",
            "140/140 [==============================] - 5s 38ms/step - loss: 0.1940 - accuracy: 0.9313 - val_loss: 0.5160 - val_accuracy: 0.8387\n",
            "Epoch 22/100\n",
            "140/140 [==============================] - 5s 39ms/step - loss: 0.1559 - accuracy: 0.9516 - val_loss: 1.1297 - val_accuracy: 0.7688\n",
            "Epoch 23/100\n",
            "140/140 [==============================] - 5s 39ms/step - loss: 0.1557 - accuracy: 0.9444 - val_loss: 0.3421 - val_accuracy: 0.9086\n",
            "Epoch 24/100\n",
            "140/140 [==============================] - 5s 38ms/step - loss: 0.1783 - accuracy: 0.9379 - val_loss: 0.6830 - val_accuracy: 0.8280\n",
            "Epoch 25/100\n",
            "140/140 [==============================] - 5s 38ms/step - loss: 0.1752 - accuracy: 0.9397 - val_loss: 0.8413 - val_accuracy: 0.7312\n",
            "Epoch 26/100\n",
            "140/140 [==============================] - 5s 39ms/step - loss: 0.1288 - accuracy: 0.9612 - val_loss: 0.4313 - val_accuracy: 0.8548\n",
            "Epoch 27/100\n",
            "140/140 [==============================] - 5s 38ms/step - loss: 0.2275 - accuracy: 0.9235 - val_loss: 1.1487 - val_accuracy: 0.6882\n",
            "Epoch 28/100\n",
            "140/140 [==============================] - 5s 38ms/step - loss: 0.1266 - accuracy: 0.9570 - val_loss: 0.3194 - val_accuracy: 0.8925\n",
            "Epoch 29/100\n",
            "140/140 [==============================] - 5s 39ms/step - loss: 0.1499 - accuracy: 0.9462 - val_loss: 0.7248 - val_accuracy: 0.7957\n",
            "Epoch 30/100\n",
            "140/140 [==============================] - 5s 39ms/step - loss: 0.1298 - accuracy: 0.9474 - val_loss: 0.2817 - val_accuracy: 0.9032\n",
            "Epoch 31/100\n",
            "140/140 [==============================] - 5s 38ms/step - loss: 0.1039 - accuracy: 0.9612 - val_loss: 0.3626 - val_accuracy: 0.8710\n",
            "Epoch 32/100\n",
            "140/140 [==============================] - 5s 38ms/step - loss: 0.1409 - accuracy: 0.9510 - val_loss: 0.2824 - val_accuracy: 0.8978\n",
            "Epoch 33/100\n",
            "140/140 [==============================] - 5s 38ms/step - loss: 0.1297 - accuracy: 0.9546 - val_loss: 0.9825 - val_accuracy: 0.7312\n",
            "Epoch 34/100\n",
            "140/140 [==============================] - 5s 39ms/step - loss: 0.1325 - accuracy: 0.9504 - val_loss: 0.2987 - val_accuracy: 0.8871\n",
            "Epoch 35/100\n",
            "140/140 [==============================] - 5s 39ms/step - loss: 0.1246 - accuracy: 0.9582 - val_loss: 0.9408 - val_accuracy: 0.7688\n",
            "Epoch 36/100\n",
            "140/140 [==============================] - 5s 38ms/step - loss: 0.1018 - accuracy: 0.9636 - val_loss: 0.3043 - val_accuracy: 0.8978\n",
            "Epoch 37/100\n",
            "140/140 [==============================] - 5s 38ms/step - loss: 0.0914 - accuracy: 0.9695 - val_loss: 0.1355 - val_accuracy: 0.9624\n",
            "Epoch 38/100\n",
            "140/140 [==============================] - 5s 38ms/step - loss: 0.1118 - accuracy: 0.9618 - val_loss: 0.5148 - val_accuracy: 0.8172\n",
            "Epoch 39/100\n",
            "140/140 [==============================] - 5s 38ms/step - loss: 0.1086 - accuracy: 0.9642 - val_loss: 0.3480 - val_accuracy: 0.9194\n",
            "Epoch 40/100\n",
            "140/140 [==============================] - 5s 38ms/step - loss: 0.1002 - accuracy: 0.9677 - val_loss: 0.4312 - val_accuracy: 0.8925\n",
            "Epoch 41/100\n",
            "140/140 [==============================] - 5s 38ms/step - loss: 0.1079 - accuracy: 0.9582 - val_loss: 0.6385 - val_accuracy: 0.8065\n",
            "Epoch 42/100\n",
            "140/140 [==============================] - 5s 38ms/step - loss: 0.0645 - accuracy: 0.9773 - val_loss: 0.2654 - val_accuracy: 0.9247\n",
            "Epoch 43/100\n",
            "140/140 [==============================] - 5s 38ms/step - loss: 0.0604 - accuracy: 0.9821 - val_loss: 0.6012 - val_accuracy: 0.8333\n",
            "Epoch 44/100\n",
            "140/140 [==============================] - 5s 38ms/step - loss: 0.0723 - accuracy: 0.9767 - val_loss: 0.3640 - val_accuracy: 0.9247\n",
            "Epoch 45/100\n",
            "140/140 [==============================] - 5s 38ms/step - loss: 0.0781 - accuracy: 0.9737 - val_loss: 0.4496 - val_accuracy: 0.8763\n",
            "Epoch 46/100\n",
            "140/140 [==============================] - 5s 39ms/step - loss: 0.0606 - accuracy: 0.9791 - val_loss: 0.5095 - val_accuracy: 0.8548\n",
            "Epoch 47/100\n",
            "140/140 [==============================] - 5s 38ms/step - loss: 0.0846 - accuracy: 0.9683 - val_loss: 0.3639 - val_accuracy: 0.8978\n",
            "Epoch 48/100\n",
            "140/140 [==============================] - 5s 38ms/step - loss: 0.0793 - accuracy: 0.9737 - val_loss: 0.7472 - val_accuracy: 0.7903\n",
            "Epoch 49/100\n",
            "140/140 [==============================] - 5s 38ms/step - loss: 0.0748 - accuracy: 0.9743 - val_loss: 0.2329 - val_accuracy: 0.9194\n",
            "Epoch 50/100\n",
            "140/140 [==============================] - 5s 38ms/step - loss: 0.0672 - accuracy: 0.9779 - val_loss: 0.1765 - val_accuracy: 0.9462\n",
            "Epoch 51/100\n",
            "140/140 [==============================] - 5s 38ms/step - loss: 0.0892 - accuracy: 0.9689 - val_loss: 0.6919 - val_accuracy: 0.7742\n",
            "Epoch 52/100\n",
            "140/140 [==============================] - 5s 38ms/step - loss: 0.0590 - accuracy: 0.9773 - val_loss: 0.7163 - val_accuracy: 0.8118\n",
            "Epoch 53/100\n",
            "140/140 [==============================] - 5s 38ms/step - loss: 0.0583 - accuracy: 0.9857 - val_loss: 0.6358 - val_accuracy: 0.8280\n",
            "Epoch 54/100\n",
            "140/140 [==============================] - 5s 38ms/step - loss: 0.1126 - accuracy: 0.9576 - val_loss: 0.2256 - val_accuracy: 0.9301\n",
            "Epoch 55/100\n",
            "140/140 [==============================] - 5s 38ms/step - loss: 0.0665 - accuracy: 0.9749 - val_loss: 0.4011 - val_accuracy: 0.8656\n",
            "Epoch 56/100\n",
            "140/140 [==============================] - 5s 38ms/step - loss: 0.0536 - accuracy: 0.9803 - val_loss: 0.4268 - val_accuracy: 0.8871\n",
            "Epoch 57/100\n",
            "140/140 [==============================] - 5s 38ms/step - loss: 0.0781 - accuracy: 0.9677 - val_loss: 0.5037 - val_accuracy: 0.8656\n",
            "Epoch 58/100\n",
            "140/140 [==============================] - 5s 38ms/step - loss: 0.0484 - accuracy: 0.9833 - val_loss: 0.4265 - val_accuracy: 0.8978\n",
            "Epoch 59/100\n",
            "140/140 [==============================] - 5s 38ms/step - loss: 0.0374 - accuracy: 0.9892 - val_loss: 0.3842 - val_accuracy: 0.8925\n",
            "Epoch 60/100\n",
            "140/140 [==============================] - 5s 38ms/step - loss: 0.0694 - accuracy: 0.9773 - val_loss: 0.2060 - val_accuracy: 0.9355\n",
            "Epoch 61/100\n",
            "140/140 [==============================] - 5s 38ms/step - loss: 0.0328 - accuracy: 0.9898 - val_loss: 0.2989 - val_accuracy: 0.9032\n",
            "Epoch 62/100\n",
            "140/140 [==============================] - 5s 38ms/step - loss: 0.0282 - accuracy: 0.9898 - val_loss: 0.5665 - val_accuracy: 0.8602\n"
          ]
        }
      ]
    },
    {
      "cell_type": "code",
      "source": [
        "# Evaluate the trained model.\n",
        "model_evaluation_history = LRCN_model.evaluate(features_test, labels_test)"
      ],
      "metadata": {
        "id": "hhLgaWvCxZ-e",
        "outputId": "f6bca50c-9b46-45f9-f317-b80ec1a7b8cc",
        "colab": {
          "base_uri": "https://localhost:8080/"
        }
      },
      "execution_count": 13,
      "outputs": [
        {
          "output_type": "stream",
          "name": "stdout",
          "text": [
            "7/7 [==============================] - 0s 42ms/step - loss: 0.1799 - accuracy: 0.9275\n"
          ]
        }
      ]
    },
    {
      "cell_type": "code",
      "source": [
        "# Get the loss and accuracy from model_evaluation_history.\n",
        "model_evaluation_loss, model_evaluation_accuracy = model_evaluation_history\n",
        "\n",
        "# Define the string date format.\n",
        "# Get the current Date and Time in a DateTime Object.\n",
        "# Convert the DateTime object to string according to the style mentioned in date_time_format string.\n",
        "date_time_format = '%Y_%m_%d__%H_%M_%S'\n",
        "current_date_time_dt = dt.datetime.now()\n",
        "current_date_time_string = dt.datetime.strftime(current_date_time_dt, date_time_format)\n",
        "    \n",
        "# Define a useful name for our model to make it easy for us while navigating through multiple saved models.\n",
        "model_file_name = f'landmark3_lr=0.001___Accuracy_{model_evaluation_accuracy}___Loss_{model_evaluation_loss}.h5'\n",
        "\n",
        "# Save the Model.\n",
        "#LRCN_model.save('/content/drive/My Drive/marwa/saved_models/lrcn/'+model_file_name)"
      ],
      "metadata": {
        "id": "g8wWe5lR1GRp"
      },
      "execution_count": 16,
      "outputs": []
    },
    {
      "cell_type": "code",
      "source": [
        "def plot_metric(model_training_history, metric_name_1, metric_name_2, plot_name):\n",
        "    '''\n",
        "    This function will plot the metrics passed to it in a graph.\n",
        "    Args:\n",
        "        model_training_history: A history object containing a record of training and validation \n",
        "                                loss values and metrics values at successive epochs\n",
        "        metric_name_1:          The name of the first metric that needs to be plotted in the graph.\n",
        "        metric_name_2:          The name of the second metric that needs to be plotted in the graph.\n",
        "        plot_name:              The title of the graph.\n",
        "    '''\n",
        "    \n",
        "    # Get metric values using metric names as identifiers.\n",
        "    metric_value_1 = model_training_history.history[metric_name_1]\n",
        "    metric_value_2 = model_training_history.history[metric_name_2]\n",
        "    \n",
        "    # Construct a range object which will be used as x-axis (horizontal plane) of the graph.\n",
        "    epochs = range(len(metric_value_1))\n",
        "\n",
        "    # Plot the Graph.\n",
        "    plt.plot(epochs, metric_value_1, 'blue', label = metric_name_1)\n",
        "    plt.plot(epochs, metric_value_2, 'red', label = metric_name_2)\n",
        "\n",
        "    # Add title to the plot.\n",
        "    plt.title(str(plot_name))\n",
        "\n",
        "    # Add legend to the plot.\n",
        "    plt.legend()"
      ],
      "metadata": {
        "id": "ZiSh_i871KAd"
      },
      "execution_count": 14,
      "outputs": []
    },
    {
      "cell_type": "code",
      "source": [
        "# Visualize the training and validation loss metrices.\n",
        "plot_metric(LRCN_model_training_history, 'loss', 'val_loss', 'Total Loss vs Total Validation Loss')"
      ],
      "metadata": {
        "id": "7HjkIAJj1Ncw",
        "outputId": "f17e045c-e79e-4f4c-8d4d-df60b98d9a2b",
        "colab": {
          "base_uri": "https://localhost:8080/",
          "height": 281
        }
      },
      "execution_count": 15,
      "outputs": [
        {
          "output_type": "display_data",
          "data": {
            "text/plain": [
              "<Figure size 432x288 with 1 Axes>"
            ],
            "image/png": "[encoded data removed]"
          },
          "metadata": {
            "needs_background": "light"
          }
        }
      ]
    },
    {
      "cell_type": "code",
      "source": [
        "\n",
        "# Visualize the training and validation accuracy metrices.\n",
        "plot_metric(LRCN_model_training_history, 'accuracy', 'val_accuracy', 'Total Accuracy vs Total Validation Accuracy')"
      ],
      "metadata": {
        "id": "sYTDhDnq1Qce",
        "outputId": "500a6969-6de8-40c8-dee5-8eb4c1763f74",
        "colab": {
          "base_uri": "https://localhost:8080/",
          "height": 281
        }
      },
      "execution_count": 16,
      "outputs": [
        {
          "output_type": "display_data",
          "data": {
            "text/plain": [
              "<Figure size 432x288 with 1 Axes>"
            ],
            "image/png": "[encoded data removed]"
          },
          "metadata": {
            "needs_background": "light"
          }
        }
      ]
    },
    {
      "cell_type": "code",
      "source": [
        "predictions =  LRCN_model.predict(features_test)\n",
        "predictions"
      ],
      "metadata": {
        "id": "KrJfAkU41SlN",
        "outputId": "7f42c3e3-73ee-462c-edd3-6b5ca5ed3b82",
        "colab": {
          "base_uri": "https://localhost:8080/"
        }
      },
      "execution_count": 17,
      "outputs": [
        {
          "output_type": "execute_result",
          "data": {
            "text/plain": [
              "array([[8.5413635e-01, 1.8493766e-02, 8.7559638e-05, 1.2268937e-01,\n",
              "        8.0458709e-04, 3.7883564e-03],\n",
              "       [2.0549365e-04, 2.5304542e-03, 7.3398514e-05, 8.9594871e-01,\n",
              "        9.7369775e-02, 3.8722868e-03],\n",
              "       [2.7222377e-06, 2.3399989e-05, 9.9994087e-01, 1.0291327e-05,\n",
              "        4.8024490e-06, 1.8014636e-05],\n",
              "       ...,\n",
              "       [4.5580626e-04, 4.4783717e-04, 3.1032505e-05, 2.4192478e-03,\n",
              "        9.9635565e-01, 2.9043434e-04],\n",
              "       [2.9057289e-06, 4.1725139e-06, 8.8000252e-06, 1.4507427e-04,\n",
              "        9.9965549e-01, 1.8347782e-04],\n",
              "       [3.2294181e-04, 9.9901712e-01, 5.0746225e-04, 1.3153552e-04,\n",
              "        7.3558122e-06, 1.3538935e-05]], dtype=float32)"
            ]
          },
          "metadata": {},
          "execution_count": 17
        }
      ]
    },
    {
      "cell_type": "code",
      "source": [
        "preds=predictions.argmax(axis=1)\n",
        "preds"
      ],
      "metadata": {
        "id": "IWZvTQCa1W6M",
        "outputId": "b3d38521-79ff-4034-e93f-5aff6fd731da",
        "colab": {
          "base_uri": "https://localhost:8080/"
        }
      },
      "execution_count": 18,
      "outputs": [
        {
          "output_type": "execute_result",
          "data": {
            "text/plain": [
              "array([0, 3, 2, 3, 5, 2, 5, 3, 4, 0, 3, 1, 4, 0, 4, 3, 4, 1, 1, 1, 5, 2,\n",
              "       0, 2, 2, 5, 3, 5, 5, 5, 5, 4, 5, 0, 2, 2, 4, 1, 5, 4, 2, 2, 1, 5,\n",
              "       2, 1, 5, 3, 4, 3, 4, 2, 1, 3, 3, 0, 5, 0, 2, 3, 4, 4, 5, 3, 1, 3,\n",
              "       1, 0, 5, 1, 1, 2, 5, 3, 5, 4, 0, 3, 4, 4, 3, 4, 4, 0, 4, 1, 2, 3,\n",
              "       3, 5, 5, 1, 1, 1, 5, 5, 1, 2, 5, 3, 4, 3, 3, 5, 4, 3, 2, 1, 4, 1,\n",
              "       5, 2, 0, 1, 4, 0, 4, 1, 1, 1, 1, 5, 1, 4, 1, 2, 3, 2, 3, 1, 2, 0,\n",
              "       1, 3, 1, 0, 5, 0, 1, 1, 2, 1, 2, 3, 1, 2, 3, 0, 5, 3, 2, 3, 5, 3,\n",
              "       1, 2, 1, 3, 0, 0, 1, 3, 3, 2, 4, 1, 0, 0, 5, 4, 4, 3, 1, 4, 3, 1,\n",
              "       5, 0, 4, 4, 4, 0, 0, 5, 3, 3, 1, 3, 3, 4, 1, 4, 1, 0, 4, 2, 3, 1,\n",
              "       5, 5, 3, 2, 5, 2, 4, 4, 1])"
            ]
          },
          "metadata": {},
          "execution_count": 18
        }
      ]
    },
    {
      "cell_type": "code",
      "source": [
        "new_preds = preds.astype(int).flatten()\n",
        "new_preds"
      ],
      "metadata": {
        "id": "0CpgXIkh1Z_v",
        "outputId": "19021b1d-d28d-4f08-a4a3-db69274b5006",
        "colab": {
          "base_uri": "https://localhost:8080/"
        }
      },
      "execution_count": 19,
      "outputs": [
        {
          "output_type": "execute_result",
          "data": {
            "text/plain": [
              "array([0, 3, 2, 3, 5, 2, 5, 3, 4, 0, 3, 1, 4, 0, 4, 3, 4, 1, 1, 1, 5, 2,\n",
              "       0, 2, 2, 5, 3, 5, 5, 5, 5, 4, 5, 0, 2, 2, 4, 1, 5, 4, 2, 2, 1, 5,\n",
              "       2, 1, 5, 3, 4, 3, 4, 2, 1, 3, 3, 0, 5, 0, 2, 3, 4, 4, 5, 3, 1, 3,\n",
              "       1, 0, 5, 1, 1, 2, 5, 3, 5, 4, 0, 3, 4, 4, 3, 4, 4, 0, 4, 1, 2, 3,\n",
              "       3, 5, 5, 1, 1, 1, 5, 5, 1, 2, 5, 3, 4, 3, 3, 5, 4, 3, 2, 1, 4, 1,\n",
              "       5, 2, 0, 1, 4, 0, 4, 1, 1, 1, 1, 5, 1, 4, 1, 2, 3, 2, 3, 1, 2, 0,\n",
              "       1, 3, 1, 0, 5, 0, 1, 1, 2, 1, 2, 3, 1, 2, 3, 0, 5, 3, 2, 3, 5, 3,\n",
              "       1, 2, 1, 3, 0, 0, 1, 3, 3, 2, 4, 1, 0, 0, 5, 4, 4, 3, 1, 4, 3, 1,\n",
              "       5, 0, 4, 4, 4, 0, 0, 5, 3, 3, 1, 3, 3, 4, 1, 4, 1, 0, 4, 2, 3, 1,\n",
              "       5, 5, 3, 2, 5, 2, 4, 4, 1])"
            ]
          },
          "metadata": {},
          "execution_count": 19
        }
      ]
    },
    {
      "cell_type": "code",
      "source": [
        "\n",
        "from sklearn.metrics import classification_report, confusion_matrix,accuracy_score\n",
        "import seaborn as sn\n",
        "import pandas as pd\n",
        "import numpy as np\n",
        "new_labels=np.argmax(labels_test, axis=1)\n",
        "print(classification_report(new_labels,new_preds))\n",
        "\n",
        "acc = float(accuracy_score(new_labels,new_preds))*100\n",
        "print(\"----accuracy score %s ----\" % acc)\n",
        "\n",
        "cm = confusion_matrix(new_labels,new_preds)\n",
        "#df_cm = pd.DataFrame(cm)\n",
        "class_names = ['neutral','calm', 'happy','sad','angry', 'fearful' ]\n",
        "df_cm = pd.DataFrame(cm, index=class_names, columns=class_names,)\n",
        "sn.heatmap(df_cm, annot=True, fmt='')\n",
        "plt.show()"
      ],
      "metadata": {
        "id": "7U3HwUqc1cft",
        "outputId": "14565990-0a88-4f9d-e972-03e5238b0741",
        "colab": {
          "base_uri": "https://localhost:8080/",
          "height": 508
        }
      },
      "execution_count": 20,
      "outputs": [
        {
          "output_type": "stream",
          "name": "stdout",
          "text": [
            "              precision    recall  f1-score   support\n",
            "\n",
            "           0       0.96      0.85      0.90        27\n",
            "           1       0.95      0.95      0.95        44\n",
            "           2       1.00      0.97      0.98        30\n",
            "           3       0.83      1.00      0.91        34\n",
            "           4       0.94      0.97      0.96        34\n",
            "           5       0.91      0.82      0.86        38\n",
            "\n",
            "    accuracy                           0.93       207\n",
            "   macro avg       0.93      0.93      0.93       207\n",
            "weighted avg       0.93      0.93      0.93       207\n",
            "\n",
            "----accuracy score 92.7536231884058 ----\n"
          ]
        },
        {
          "output_type": "display_data",
          "data": {
            "text/plain": [
              "<Figure size 432x288 with 2 Axes>"
            ],
            "image/png": "[encoded data removed]"
          },
          "metadata": {
            "needs_background": "light"
          }
        }
      ]
    },
    {
      "cell_type": "code",
      "source": [
        ""
      ],
      "metadata": {
        "id": "pVlEoCq0-0n3"
      },
      "execution_count": 23,
      "outputs": []
    }
  ]
}