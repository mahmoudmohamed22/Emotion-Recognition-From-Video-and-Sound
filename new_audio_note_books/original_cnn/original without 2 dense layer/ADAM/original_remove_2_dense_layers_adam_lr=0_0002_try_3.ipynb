{
  "nbformat": 4,
  "nbformat_minor": 0,
  "metadata": {
    "colab": {
      "name": "original remove 2 dense layers adam lr=0.0002 try 3.ipynb",
      "provenance": [],
      "collapsed_sections": []
    },
    "kernelspec": {
      "name": "python3",
      "display_name": "Python 3"
    },
    "language_info": {
      "name": "python"
    },
    "accelerator": "GPU"
  },
  "cells": [
    {
      "cell_type": "code",
      "execution_count": 1,
      "metadata": {
        "colab": {
          "base_uri": "https://localhost:8080/"
        },
        "id": "9SRCO-a_AlH5",
        "outputId": "e263000b-762c-435d-963f-c9a6c1c01a56"
      },
      "outputs": [
        {
          "output_type": "stream",
          "name": "stdout",
          "text": [
            "Drive already mounted at /content/drive; to attempt to forcibly remount, call drive.mount(\"/content/drive\", force_remount=True).\n"
          ]
        }
      ],
      "source": [
        "from google.colab import drive\n",
        "drive.mount('/content/drive')"
      ]
    },
    {
      "cell_type": "code",
      "source": [
        "!pip install librosa"
      ],
      "metadata": {
        "colab": {
          "base_uri": "https://localhost:8080/"
        },
        "id": "5Lo4mUwG9RMd",
        "outputId": "d50c753a-3e25-4229-eb02-d8efce22acc1"
      },
      "execution_count": 2,
      "outputs": [
        {
          "output_type": "stream",
          "name": "stdout",
          "text": [
            "Looking in indexes: https://pypi.org/simple, https://us-python.pkg.dev/colab-wheels/public/simple/\n",
            "Requirement already satisfied: librosa in /usr/local/lib/python3.7/dist-packages (0.8.1)\n",
            "Requirement already satisfied: soundfile>=0.10.2 in /usr/local/lib/python3.7/dist-packages (from librosa) (0.10.3.post1)\n",
            "Requirement already satisfied: decorator>=3.0.0 in /usr/local/lib/python3.7/dist-packages (from librosa) (4.4.2)\n",
            "Requirement already satisfied: pooch>=1.0 in /usr/local/lib/python3.7/dist-packages (from librosa) (1.6.0)\n",
            "Requirement already satisfied: scipy>=1.0.0 in /usr/local/lib/python3.7/dist-packages (from librosa) (1.4.1)\n",
            "Requirement already satisfied: numpy>=1.15.0 in /usr/local/lib/python3.7/dist-packages (from librosa) (1.21.6)\n",
            "Requirement already satisfied: resampy>=0.2.2 in /usr/local/lib/python3.7/dist-packages (from librosa) (0.2.2)\n",
            "Requirement already satisfied: numba>=0.43.0 in /usr/local/lib/python3.7/dist-packages (from librosa) (0.51.2)\n",
            "Requirement already satisfied: joblib>=0.14 in /usr/local/lib/python3.7/dist-packages (from librosa) (1.1.0)\n",
            "Requirement already satisfied: packaging>=20.0 in /usr/local/lib/python3.7/dist-packages (from librosa) (21.3)\n",
            "Requirement already satisfied: scikit-learn!=0.19.0,>=0.14.0 in /usr/local/lib/python3.7/dist-packages (from librosa) (1.0.2)\n",
            "Requirement already satisfied: audioread>=2.0.0 in /usr/local/lib/python3.7/dist-packages (from librosa) (2.1.9)\n",
            "Requirement already satisfied: setuptools in /usr/local/lib/python3.7/dist-packages (from numba>=0.43.0->librosa) (57.4.0)\n",
            "Requirement already satisfied: llvmlite<0.35,>=0.34.0.dev0 in /usr/local/lib/python3.7/dist-packages (from numba>=0.43.0->librosa) (0.34.0)\n",
            "Requirement already satisfied: pyparsing!=3.0.5,>=2.0.2 in /usr/local/lib/python3.7/dist-packages (from packaging>=20.0->librosa) (3.0.9)\n",
            "Requirement already satisfied: appdirs>=1.3.0 in /usr/local/lib/python3.7/dist-packages (from pooch>=1.0->librosa) (1.4.4)\n",
            "Requirement already satisfied: requests>=2.19.0 in /usr/local/lib/python3.7/dist-packages (from pooch>=1.0->librosa) (2.23.0)\n",
            "Requirement already satisfied: urllib3!=1.25.0,!=1.25.1,<1.26,>=1.21.1 in /usr/local/lib/python3.7/dist-packages (from requests>=2.19.0->pooch>=1.0->librosa) (1.24.3)\n",
            "Requirement already satisfied: certifi>=2017.4.17 in /usr/local/lib/python3.7/dist-packages (from requests>=2.19.0->pooch>=1.0->librosa) (2022.5.18.1)\n",
            "Requirement already satisfied: chardet<4,>=3.0.2 in /usr/local/lib/python3.7/dist-packages (from requests>=2.19.0->pooch>=1.0->librosa) (3.0.4)\n",
            "Requirement already satisfied: idna<3,>=2.5 in /usr/local/lib/python3.7/dist-packages (from requests>=2.19.0->pooch>=1.0->librosa) (2.10)\n",
            "Requirement already satisfied: six>=1.3 in /usr/local/lib/python3.7/dist-packages (from resampy>=0.2.2->librosa) (1.15.0)\n",
            "Requirement already satisfied: threadpoolctl>=2.0.0 in /usr/local/lib/python3.7/dist-packages (from scikit-learn!=0.19.0,>=0.14.0->librosa) (3.1.0)\n",
            "Requirement already satisfied: cffi>=1.0 in /usr/local/lib/python3.7/dist-packages (from soundfile>=0.10.2->librosa) (1.15.0)\n",
            "Requirement already satisfied: pycparser in /usr/local/lib/python3.7/dist-packages (from cffi>=1.0->soundfile>=0.10.2->librosa) (2.21)\n"
          ]
        }
      ]
    },
    {
      "cell_type": "code",
      "metadata": {
        "id": "HJjcbxwy46bG",
        "colab": {
          "base_uri": "https://localhost:8080/",
          "height": 17
        },
        "outputId": "79df777d-e04f-4d23-f2d8-19566c8c709b"
      },
      "source": [
        "# Orignial Notebook: https://github.com/MITESHPUTHRANNEU/Speech-Emotion-Analyzer/blob/master/final_results_gender_test.ipynb\n",
        "# This notebook author: Reza Chu\n",
        "# Last Editing Date: 31st May 2019\n",
        "\n",
        "## Python\n",
        "import os\n",
        "import random\n",
        "import sys\n",
        "\n",
        "import IPython\n",
        "from IPython.display import Audio\n",
        "from IPython.display import Image\n",
        "import matplotlib.pyplot as plt\n",
        "\n",
        "## Package\n",
        "import glob \n",
        "import keras\n",
        "import IPython.display as ipd\n",
        "import librosa\n",
        "import librosa.display\n",
        "import matplotlib.pyplot as plt\n",
        "import numpy as np\n",
        "import pandas as pd\n",
        "import plotly.graph_objs as go\n",
        "import plotly.offline as py\n",
        "import plotly.tools as tls\n",
        "import seaborn as sns\n",
        "import scipy.io.wavfile\n",
        "import tensorflow as tf\n",
        "py.init_notebook_mode(connected=True)\n",
        "\n",
        "## Keras\n",
        "from keras import regularizers\n",
        "from keras.callbacks import ModelCheckpoint, LearningRateScheduler, EarlyStopping\n",
        "from keras.callbacks import  History, ReduceLROnPlateau, CSVLogger\n",
        "from keras.models import Model, Sequential\n",
        "from keras.layers import Dense, Embedding, LSTM\n",
        "from keras.layers import Input, Flatten, Dropout, Activation, BatchNormalization\n",
        "from keras.layers import Conv1D, MaxPooling1D, AveragePooling1D\n",
        "from keras.preprocessing import sequence\n",
        "from keras.preprocessing.sequence import pad_sequences\n",
        "from keras.preprocessing.text import Tokenizer\n",
        "from keras.utils import np_utils\n",
        "from tensorflow.keras.utils import to_categorical\n",
        "\n",
        "## Sklearn\n",
        "from sklearn.metrics import confusion_matrix\n",
        "from sklearn.preprocessing import LabelEncoder\n",
        "\n",
        "## Rest\n",
        "from scipy.fftpack import fft\n",
        "from scipy import signal\n",
        "from scipy.io import wavfile\n",
        "from tqdm import tqdm\n",
        "\n",
        "input_duration=3\n",
        "# % pylab inline"
      ],
      "execution_count": 3,
      "outputs": [
        {
          "output_type": "display_data",
          "data": {
            "text/html": [
              "        <script type=\"text/javascript\">\n",
              "        window.PlotlyConfig = {MathJaxConfig: 'local'};\n",
              "        if (window.MathJax) {MathJax.Hub.Config({SVG: {font: \"STIX-Web\"}});}\n",
              "        if (typeof require !== 'undefined') {\n",
              "        require.undef(\"plotly\");\n",
              "        requirejs.config({\n",
              "            paths: {\n",
              "                'plotly': ['https://cdn.plot.ly/plotly-2.8.3.min']\n",
              "            }\n",
              "        });\n",
              "        require(['plotly'], function(Plotly) {\n",
              "            window._Plotly = Plotly;\n",
              "        });\n",
              "        }\n",
              "        </script>\n",
              "        "
            ]
          },
          "metadata": {}
        }
      ]
    },
    {
      "cell_type": "code",
      "source": [
        "# # Saving joblib files to not load them again with the loop above\n",
        "\n",
        "# import joblib\n",
        "\n",
        "# X_name = 'x.joblib'\n",
        "# y_name = 'y.joblib'\n",
        "# save_dir = '/content/drive/My Drive/graduation project/audio/paper_code/features'\n",
        "\n",
        "# savedX = joblib.dump(X, os.path.join(save_dir, X_name))\n",
        "# savedy = joblib.dump(y, os.path.join(save_dir, y_name))"
      ],
      "metadata": {
        "id": "UCzic8rlDcuk"
      },
      "execution_count": 4,
      "outputs": []
    },
    {
      "cell_type": "code",
      "source": [
        "# # Loading saved models\n",
        "import joblib\n",
        "X = joblib.load('/content/drive/My Drive/graduation project/audio/paper_code/features/x.joblib')\n",
        "y = joblib.load('/content/drive/My Drive/graduation project/audio/paper_code/features/y.joblib')"
      ],
      "metadata": {
        "id": "Q35CN6zDrzg1"
      },
      "execution_count": 5,
      "outputs": []
    },
    {
      "cell_type": "code",
      "source": [
        "X.shape"
      ],
      "metadata": {
        "colab": {
          "base_uri": "https://localhost:8080/"
        },
        "id": "7PSTurzjCo5K",
        "outputId": "00805cb0-55d9-4b9a-adf4-0a5262cf281d"
      },
      "execution_count": 6,
      "outputs": [
        {
          "output_type": "execute_result",
          "data": {
            "text/plain": [
              "(2068, 40)"
            ]
          },
          "metadata": {},
          "execution_count": 6
        }
      ]
    },
    {
      "cell_type": "code",
      "source": [
        "from sklearn.model_selection import train_test_split\n",
        "\n",
        "X_train, X_test, y_train, y_test = train_test_split(X,y, test_size=0.1 ,shuffle = True\n",
        "                                                    , random_state=42)\n",
        "X_train , X_valid, y_train, y_valid = train_test_split(X_train,y_train, test_size=0.1112305212 , shuffle = True \n",
        "                                                       , random_state=42)"
      ],
      "metadata": {
        "id": "Ai4Fy5cPCiq1"
      },
      "execution_count": 7,
      "outputs": []
    },
    {
      "cell_type": "code",
      "source": [
        "import numpy as np\n",
        "x_traincnn = np.expand_dims(X_train, axis=2)\n",
        "x_testcnn = np.expand_dims(X_test, axis=2)\n",
        "X_valid= np.expand_dims(X_valid, axis=2)"
      ],
      "metadata": {
        "id": "tp1Fm5K3CEXu"
      },
      "execution_count": 8,
      "outputs": []
    },
    {
      "cell_type": "code",
      "source": [
        "x_traincnn.shape, x_testcnn.shape , X_valid.shape\n",
        "#1861"
      ],
      "metadata": {
        "id": "RI0MxoIPBws5",
        "colab": {
          "base_uri": "https://localhost:8080/"
        },
        "outputId": "8b7eaee2-cc2c-42f0-9b40-b94c4da02d70"
      },
      "execution_count": 9,
      "outputs": [
        {
          "output_type": "execute_result",
          "data": {
            "text/plain": [
              "((1654, 40, 1), (207, 40, 1), (207, 40, 1))"
            ]
          },
          "metadata": {},
          "execution_count": 9
        }
      ]
    },
    {
      "cell_type": "code",
      "source": [
        "!pip install tensorflow"
      ],
      "metadata": {
        "colab": {
          "base_uri": "https://localhost:8080/"
        },
        "id": "oALhiMUd9G2Y",
        "outputId": "5171bfb9-d228-4ea2-9ea2-21700a7179af"
      },
      "execution_count": 10,
      "outputs": [
        {
          "output_type": "stream",
          "name": "stdout",
          "text": [
            "Looking in indexes: https://pypi.org/simple, https://us-python.pkg.dev/colab-wheels/public/simple/\n",
            "Requirement already satisfied: tensorflow in /usr/local/lib/python3.7/dist-packages (2.8.2+zzzcolab20220527125636)\n",
            "Requirement already satisfied: typing-extensions>=3.6.6 in /usr/local/lib/python3.7/dist-packages (from tensorflow) (4.2.0)\n",
            "Requirement already satisfied: wrapt>=1.11.0 in /usr/local/lib/python3.7/dist-packages (from tensorflow) (1.14.1)\n",
            "Requirement already satisfied: tensorflow-estimator<2.9,>=2.8 in /usr/local/lib/python3.7/dist-packages (from tensorflow) (2.8.0)\n",
            "Requirement already satisfied: h5py>=2.9.0 in /usr/local/lib/python3.7/dist-packages (from tensorflow) (3.1.0)\n",
            "Requirement already satisfied: keras<2.9,>=2.8.0rc0 in /usr/local/lib/python3.7/dist-packages (from tensorflow) (2.8.0)\n",
            "Requirement already satisfied: google-pasta>=0.1.1 in /usr/local/lib/python3.7/dist-packages (from tensorflow) (0.2.0)\n",
            "Requirement already satisfied: termcolor>=1.1.0 in /usr/local/lib/python3.7/dist-packages (from tensorflow) (1.1.0)\n",
            "Requirement already satisfied: libclang>=9.0.1 in /usr/local/lib/python3.7/dist-packages (from tensorflow) (14.0.1)\n",
            "Requirement already satisfied: tensorboard<2.9,>=2.8 in /usr/local/lib/python3.7/dist-packages (from tensorflow) (2.8.0)\n",
            "Requirement already satisfied: keras-preprocessing>=1.1.1 in /usr/local/lib/python3.7/dist-packages (from tensorflow) (1.1.2)\n",
            "Requirement already satisfied: six>=1.12.0 in /usr/local/lib/python3.7/dist-packages (from tensorflow) (1.15.0)\n",
            "Requirement already satisfied: flatbuffers>=1.12 in /usr/local/lib/python3.7/dist-packages (from tensorflow) (2.0)\n",
            "Requirement already satisfied: gast>=0.2.1 in /usr/local/lib/python3.7/dist-packages (from tensorflow) (0.5.3)\n",
            "Requirement already satisfied: opt-einsum>=2.3.2 in /usr/local/lib/python3.7/dist-packages (from tensorflow) (3.3.0)\n",
            "Requirement already satisfied: grpcio<2.0,>=1.24.3 in /usr/local/lib/python3.7/dist-packages (from tensorflow) (1.46.3)\n",
            "Requirement already satisfied: absl-py>=0.4.0 in /usr/local/lib/python3.7/dist-packages (from tensorflow) (1.0.0)\n",
            "Requirement already satisfied: numpy>=1.20 in /usr/local/lib/python3.7/dist-packages (from tensorflow) (1.21.6)\n",
            "Requirement already satisfied: protobuf<3.20,>=3.9.2 in /usr/local/lib/python3.7/dist-packages (from tensorflow) (3.17.3)\n",
            "Requirement already satisfied: setuptools in /usr/local/lib/python3.7/dist-packages (from tensorflow) (57.4.0)\n",
            "Requirement already satisfied: tensorflow-io-gcs-filesystem>=0.23.1 in /usr/local/lib/python3.7/dist-packages (from tensorflow) (0.26.0)\n",
            "Requirement already satisfied: astunparse>=1.6.0 in /usr/local/lib/python3.7/dist-packages (from tensorflow) (1.6.3)\n",
            "Requirement already satisfied: wheel<1.0,>=0.23.0 in /usr/local/lib/python3.7/dist-packages (from astunparse>=1.6.0->tensorflow) (0.37.1)\n",
            "Requirement already satisfied: cached-property in /usr/local/lib/python3.7/dist-packages (from h5py>=2.9.0->tensorflow) (1.5.2)\n",
            "Requirement already satisfied: requests<3,>=2.21.0 in /usr/local/lib/python3.7/dist-packages (from tensorboard<2.9,>=2.8->tensorflow) (2.23.0)\n",
            "Requirement already satisfied: google-auth<3,>=1.6.3 in /usr/local/lib/python3.7/dist-packages (from tensorboard<2.9,>=2.8->tensorflow) (1.35.0)\n",
            "Requirement already satisfied: markdown>=2.6.8 in /usr/local/lib/python3.7/dist-packages (from tensorboard<2.9,>=2.8->tensorflow) (3.3.7)\n",
            "Requirement already satisfied: tensorboard-plugin-wit>=1.6.0 in /usr/local/lib/python3.7/dist-packages (from tensorboard<2.9,>=2.8->tensorflow) (1.8.1)\n",
            "Requirement already satisfied: werkzeug>=0.11.15 in /usr/local/lib/python3.7/dist-packages (from tensorboard<2.9,>=2.8->tensorflow) (1.0.1)\n",
            "Requirement already satisfied: google-auth-oauthlib<0.5,>=0.4.1 in /usr/local/lib/python3.7/dist-packages (from tensorboard<2.9,>=2.8->tensorflow) (0.4.6)\n",
            "Requirement already satisfied: tensorboard-data-server<0.7.0,>=0.6.0 in /usr/local/lib/python3.7/dist-packages (from tensorboard<2.9,>=2.8->tensorflow) (0.6.1)\n",
            "Requirement already satisfied: rsa<5,>=3.1.4 in /usr/local/lib/python3.7/dist-packages (from google-auth<3,>=1.6.3->tensorboard<2.9,>=2.8->tensorflow) (4.8)\n",
            "Requirement already satisfied: pyasn1-modules>=0.2.1 in /usr/local/lib/python3.7/dist-packages (from google-auth<3,>=1.6.3->tensorboard<2.9,>=2.8->tensorflow) (0.2.8)\n",
            "Requirement already satisfied: cachetools<5.0,>=2.0.0 in /usr/local/lib/python3.7/dist-packages (from google-auth<3,>=1.6.3->tensorboard<2.9,>=2.8->tensorflow) (4.2.4)\n",
            "Requirement already satisfied: requests-oauthlib>=0.7.0 in /usr/local/lib/python3.7/dist-packages (from google-auth-oauthlib<0.5,>=0.4.1->tensorboard<2.9,>=2.8->tensorflow) (1.3.1)\n",
            "Requirement already satisfied: importlib-metadata>=4.4 in /usr/local/lib/python3.7/dist-packages (from markdown>=2.6.8->tensorboard<2.9,>=2.8->tensorflow) (4.11.4)\n",
            "Requirement already satisfied: zipp>=0.5 in /usr/local/lib/python3.7/dist-packages (from importlib-metadata>=4.4->markdown>=2.6.8->tensorboard<2.9,>=2.8->tensorflow) (3.8.0)\n",
            "Requirement already satisfied: pyasn1<0.5.0,>=0.4.6 in /usr/local/lib/python3.7/dist-packages (from pyasn1-modules>=0.2.1->google-auth<3,>=1.6.3->tensorboard<2.9,>=2.8->tensorflow) (0.4.8)\n",
            "Requirement already satisfied: idna<3,>=2.5 in /usr/local/lib/python3.7/dist-packages (from requests<3,>=2.21.0->tensorboard<2.9,>=2.8->tensorflow) (2.10)\n",
            "Requirement already satisfied: chardet<4,>=3.0.2 in /usr/local/lib/python3.7/dist-packages (from requests<3,>=2.21.0->tensorboard<2.9,>=2.8->tensorflow) (3.0.4)\n",
            "Requirement already satisfied: urllib3!=1.25.0,!=1.25.1,<1.26,>=1.21.1 in /usr/local/lib/python3.7/dist-packages (from requests<3,>=2.21.0->tensorboard<2.9,>=2.8->tensorflow) (1.24.3)\n",
            "Requirement already satisfied: certifi>=2017.4.17 in /usr/local/lib/python3.7/dist-packages (from requests<3,>=2.21.0->tensorboard<2.9,>=2.8->tensorflow) (2022.5.18.1)\n",
            "Requirement already satisfied: oauthlib>=3.0.0 in /usr/local/lib/python3.7/dist-packages (from requests-oauthlib>=0.7.0->google-auth-oauthlib<0.5,>=0.4.1->tensorboard<2.9,>=2.8->tensorflow) (3.2.0)\n"
          ]
        }
      ]
    },
    {
      "cell_type": "code",
      "source": [
        "import keras\n",
        "import numpy as np\n",
        "import matplotlib.pyplot as plt\n",
        "import tensorflow as tf\n",
        "from keras.preprocessing import sequence\n",
        "from keras.models import Sequential\n",
        "from keras.layers import Dense, Embedding\n",
        "from tensorflow.keras.utils import to_categorical\n",
        "from keras.layers import Input, Flatten, Dropout, Activation\n",
        "from keras.layers import Conv1D, MaxPooling1D\n",
        "from keras.models import Model\n",
        "from keras.callbacks import ModelCheckpoint\n",
        "from tensorflow.keras import optimizers\n",
        "\n",
        "model = Sequential()\n",
        "\n",
        "model.add(Conv1D(128, 8,padding='same', #classifier.add(Convolution2D(64, (3, 3), padding = 'same', input_shape = (128, 128, 3), activation = 'relu'))\n",
        "                 input_shape=(40,1)))\n",
        "model.add(Activation('relu'))\n",
        "model.add(Dropout(0.3))\n",
        "model.add(MaxPooling1D(pool_size=(5)))\n",
        "\n",
        "\n",
        "model.add(Conv1D(256,8,padding='same',))\n",
        "model.add(Activation('relu'))\n",
        "model.add(Dropout(0.3))\n",
        "model.add(MaxPooling1D(pool_size=(5)))\n",
        "\n",
        "#model.add(MaxPooling1D(pool_size=(5)))\n",
        "\n",
        "model.add(Flatten())\n",
        "\n",
        "\n",
        "\n",
        "model.add(Dense(6))\n",
        "model.add(Activation('softmax'))\n",
        "\n",
        "\n",
        "#opt = tf.keras.optimizers.RMSprop(lr=0.0002 , decay=0.0)\n",
        "opt = tf.keras.optimizers.Adam(lr=0.0002 , decay=0.0)\n",
        "#opt = tf.keras.optimizers.RMSprop(lr=0.0001, rho=0.9, epsilon=1e-07, decay=0.0)\n",
        "#opt = tf.keras.optimizers.SGD(lr=0.001, momentum=0.0, decay=0.0, nesterov=False)"
      ],
      "metadata": {
        "id": "g74fXWVAC4Cr",
        "colab": {
          "base_uri": "https://localhost:8080/"
        },
        "outputId": "8a38915b-57ee-4a5c-ae62-3a8e8329217e"
      },
      "execution_count": 11,
      "outputs": [
        {
          "output_type": "stream",
          "name": "stderr",
          "text": [
            "/usr/local/lib/python3.7/dist-packages/keras/optimizer_v2/adam.py:105: UserWarning:\n",
            "\n",
            "The `lr` argument is deprecated, use `learning_rate` instead.\n",
            "\n"
          ]
        }
      ]
    },
    {
      "cell_type": "code",
      "source": [
        "model.summary()"
      ],
      "metadata": {
        "colab": {
          "base_uri": "https://localhost:8080/"
        },
        "id": "H6ukOxAGC_I4",
        "outputId": "df4a7e9b-45d8-4a6e-89ff-aaa707094624"
      },
      "execution_count": 12,
      "outputs": [
        {
          "output_type": "stream",
          "name": "stdout",
          "text": [
            "Model: \"sequential\"\n",
            "_________________________________________________________________\n",
            " Layer (type)                Output Shape              Param #   \n",
            "=================================================================\n",
            " conv1d (Conv1D)             (None, 40, 128)           1152      \n",
            "                                                                 \n",
            " activation (Activation)     (None, 40, 128)           0         \n",
            "                                                                 \n",
            " dropout (Dropout)           (None, 40, 128)           0         \n",
            "                                                                 \n",
            " max_pooling1d (MaxPooling1D  (None, 8, 128)           0         \n",
            " )                                                               \n",
            "                                                                 \n",
            " conv1d_1 (Conv1D)           (None, 8, 256)            262400    \n",
            "                                                                 \n",
            " activation_1 (Activation)   (None, 8, 256)            0         \n",
            "                                                                 \n",
            " dropout_1 (Dropout)         (None, 8, 256)            0         \n",
            "                                                                 \n",
            " max_pooling1d_1 (MaxPooling  (None, 1, 256)           0         \n",
            " 1D)                                                             \n",
            "                                                                 \n",
            " flatten (Flatten)           (None, 256)               0         \n",
            "                                                                 \n",
            " dense (Dense)               (None, 6)                 1542      \n",
            "                                                                 \n",
            " activation_2 (Activation)   (None, 6)                 0         \n",
            "                                                                 \n",
            "=================================================================\n",
            "Total params: 265,094\n",
            "Trainable params: 265,094\n",
            "Non-trainable params: 0\n",
            "_________________________________________________________________\n"
          ]
        }
      ]
    },
    {
      "cell_type": "code",
      "source": [
        "model.compile(loss='sparse_categorical_crossentropy',\n",
        "              optimizer=opt,\n",
        "              metrics=['accuracy'])"
      ],
      "metadata": {
        "id": "AbMlLNk4DCBM"
      },
      "execution_count": 13,
      "outputs": []
    },
    {
      "cell_type": "code",
      "source": [
        "# Create an Instance of Early Stopping Callback.\n",
        "early_stopping_callback = EarlyStopping(monitor = 'val_loss', patience = 25, mode = 'min', restore_best_weights = True)\n",
        "\n",
        "cnnhistory=model.fit(x_traincnn, y_train, batch_size=16, epochs=500 , shuffle = True, \n",
        "                     validation_data=(X_valid, y_valid) , callbacks = [early_stopping_callback])"
      ],
      "metadata": {
        "colab": {
          "base_uri": "https://localhost:8080/"
        },
        "id": "RI1v2AuADFhy",
        "outputId": "41f76e83-7f31-440d-e16d-8bd202969afc"
      },
      "execution_count": 14,
      "outputs": [
        {
          "output_type": "stream",
          "name": "stdout",
          "text": [
            "Epoch 1/500\n",
            "104/104 [==============================] - 4s 11ms/step - loss: 11.4813 - accuracy: 0.1784 - val_loss: 2.9627 - val_accuracy: 0.2609\n",
            "Epoch 2/500\n",
            "104/104 [==============================] - 1s 7ms/step - loss: 7.5377 - accuracy: 0.2201 - val_loss: 2.8947 - val_accuracy: 0.2271\n",
            "Epoch 3/500\n",
            "104/104 [==============================] - 1s 9ms/step - loss: 6.2883 - accuracy: 0.2213 - val_loss: 2.2574 - val_accuracy: 0.2367\n",
            "Epoch 4/500\n",
            "104/104 [==============================] - 1s 11ms/step - loss: 4.9560 - accuracy: 0.2322 - val_loss: 1.8245 - val_accuracy: 0.3285\n",
            "Epoch 5/500\n",
            "104/104 [==============================] - 1s 10ms/step - loss: 3.9433 - accuracy: 0.2485 - val_loss: 1.8607 - val_accuracy: 0.2802\n",
            "Epoch 6/500\n",
            "104/104 [==============================] - 1s 9ms/step - loss: 3.1112 - accuracy: 0.2461 - val_loss: 1.5980 - val_accuracy: 0.2705\n",
            "Epoch 7/500\n",
            "104/104 [==============================] - 1s 10ms/step - loss: 2.6839 - accuracy: 0.2606 - val_loss: 1.5036 - val_accuracy: 0.3478\n",
            "Epoch 8/500\n",
            "104/104 [==============================] - 1s 8ms/step - loss: 2.3351 - accuracy: 0.3047 - val_loss: 1.6900 - val_accuracy: 0.2899\n",
            "Epoch 9/500\n",
            "104/104 [==============================] - 1s 8ms/step - loss: 2.1100 - accuracy: 0.3138 - val_loss: 1.5257 - val_accuracy: 0.4106\n",
            "Epoch 10/500\n",
            "104/104 [==============================] - 1s 10ms/step - loss: 1.9550 - accuracy: 0.3259 - val_loss: 1.4698 - val_accuracy: 0.4058\n",
            "Epoch 11/500\n",
            "104/104 [==============================] - 1s 10ms/step - loss: 1.8822 - accuracy: 0.3235 - val_loss: 1.4278 - val_accuracy: 0.4493\n",
            "Epoch 12/500\n",
            "104/104 [==============================] - 1s 9ms/step - loss: 1.7690 - accuracy: 0.3398 - val_loss: 1.5416 - val_accuracy: 0.3865\n",
            "Epoch 13/500\n",
            "104/104 [==============================] - 1s 9ms/step - loss: 1.7364 - accuracy: 0.3513 - val_loss: 1.4320 - val_accuracy: 0.4444\n",
            "Epoch 14/500\n",
            "104/104 [==============================] - 1s 9ms/step - loss: 1.6498 - accuracy: 0.3742 - val_loss: 1.4080 - val_accuracy: 0.5169\n",
            "Epoch 15/500\n",
            "104/104 [==============================] - 1s 8ms/step - loss: 1.5619 - accuracy: 0.3881 - val_loss: 1.3730 - val_accuracy: 0.5217\n",
            "Epoch 16/500\n",
            "104/104 [==============================] - 1s 9ms/step - loss: 1.5171 - accuracy: 0.3857 - val_loss: 1.3712 - val_accuracy: 0.4831\n",
            "Epoch 17/500\n",
            "104/104 [==============================] - 1s 8ms/step - loss: 1.5024 - accuracy: 0.4051 - val_loss: 1.3841 - val_accuracy: 0.4686\n",
            "Epoch 18/500\n",
            "104/104 [==============================] - 1s 9ms/step - loss: 1.4657 - accuracy: 0.4057 - val_loss: 1.3585 - val_accuracy: 0.5072\n",
            "Epoch 19/500\n",
            "104/104 [==============================] - 1s 7ms/step - loss: 1.4160 - accuracy: 0.4371 - val_loss: 1.3706 - val_accuracy: 0.5072\n",
            "Epoch 20/500\n",
            "104/104 [==============================] - 1s 8ms/step - loss: 1.3794 - accuracy: 0.4607 - val_loss: 1.3117 - val_accuracy: 0.5266\n",
            "Epoch 21/500\n",
            "104/104 [==============================] - 1s 8ms/step - loss: 1.3334 - accuracy: 0.4655 - val_loss: 1.2943 - val_accuracy: 0.5362\n",
            "Epoch 22/500\n",
            "104/104 [==============================] - 1s 9ms/step - loss: 1.3227 - accuracy: 0.4692 - val_loss: 1.2685 - val_accuracy: 0.5459\n",
            "Epoch 23/500\n",
            "104/104 [==============================] - 1s 8ms/step - loss: 1.2876 - accuracy: 0.4885 - val_loss: 1.2461 - val_accuracy: 0.5314\n",
            "Epoch 24/500\n",
            "104/104 [==============================] - 1s 7ms/step - loss: 1.3008 - accuracy: 0.4686 - val_loss: 1.2304 - val_accuracy: 0.5797\n",
            "Epoch 25/500\n",
            "104/104 [==============================] - 1s 7ms/step - loss: 1.2391 - accuracy: 0.4958 - val_loss: 1.2282 - val_accuracy: 0.5411\n",
            "Epoch 26/500\n",
            "104/104 [==============================] - 1s 8ms/step - loss: 1.2288 - accuracy: 0.5048 - val_loss: 1.2434 - val_accuracy: 0.5169\n",
            "Epoch 27/500\n",
            "104/104 [==============================] - 1s 10ms/step - loss: 1.2083 - accuracy: 0.5139 - val_loss: 1.1884 - val_accuracy: 0.5845\n",
            "Epoch 28/500\n",
            "104/104 [==============================] - 1s 8ms/step - loss: 1.1932 - accuracy: 0.5326 - val_loss: 1.1525 - val_accuracy: 0.5942\n",
            "Epoch 29/500\n",
            "104/104 [==============================] - 1s 8ms/step - loss: 1.1888 - accuracy: 0.5314 - val_loss: 1.1529 - val_accuracy: 0.5894\n",
            "Epoch 30/500\n",
            "104/104 [==============================] - 1s 8ms/step - loss: 1.1310 - accuracy: 0.5701 - val_loss: 1.1377 - val_accuracy: 0.6087\n",
            "Epoch 31/500\n",
            "104/104 [==============================] - 1s 8ms/step - loss: 1.1485 - accuracy: 0.5435 - val_loss: 1.1350 - val_accuracy: 0.6232\n",
            "Epoch 32/500\n",
            "104/104 [==============================] - 1s 9ms/step - loss: 1.1238 - accuracy: 0.5701 - val_loss: 1.0872 - val_accuracy: 0.6329\n",
            "Epoch 33/500\n",
            "104/104 [==============================] - 1s 9ms/step - loss: 1.1117 - accuracy: 0.5635 - val_loss: 1.1104 - val_accuracy: 0.6184\n",
            "Epoch 34/500\n",
            "104/104 [==============================] - 1s 8ms/step - loss: 1.0990 - accuracy: 0.5726 - val_loss: 1.0684 - val_accuracy: 0.6860\n",
            "Epoch 35/500\n",
            "104/104 [==============================] - 1s 8ms/step - loss: 1.0785 - accuracy: 0.5707 - val_loss: 1.0741 - val_accuracy: 0.6425\n",
            "Epoch 36/500\n",
            "104/104 [==============================] - 1s 7ms/step - loss: 1.0528 - accuracy: 0.5859 - val_loss: 1.1081 - val_accuracy: 0.5942\n",
            "Epoch 37/500\n",
            "104/104 [==============================] - 1s 8ms/step - loss: 1.0442 - accuracy: 0.5840 - val_loss: 1.0468 - val_accuracy: 0.6425\n",
            "Epoch 38/500\n",
            "104/104 [==============================] - 1s 7ms/step - loss: 1.0505 - accuracy: 0.5877 - val_loss: 1.0316 - val_accuracy: 0.6473\n",
            "Epoch 39/500\n",
            "104/104 [==============================] - 0s 5ms/step - loss: 1.0438 - accuracy: 0.5925 - val_loss: 1.0314 - val_accuracy: 0.6329\n",
            "Epoch 40/500\n",
            "104/104 [==============================] - 1s 5ms/step - loss: 1.0283 - accuracy: 0.5967 - val_loss: 1.0159 - val_accuracy: 0.6667\n",
            "Epoch 41/500\n",
            "104/104 [==============================] - 0s 4ms/step - loss: 1.0145 - accuracy: 0.6028 - val_loss: 0.9915 - val_accuracy: 0.6715\n",
            "Epoch 42/500\n",
            "104/104 [==============================] - 1s 5ms/step - loss: 0.9816 - accuracy: 0.6227 - val_loss: 1.0090 - val_accuracy: 0.6570\n",
            "Epoch 43/500\n",
            "104/104 [==============================] - 1s 5ms/step - loss: 0.9693 - accuracy: 0.6239 - val_loss: 0.9787 - val_accuracy: 0.7005\n",
            "Epoch 44/500\n",
            "104/104 [==============================] - 0s 4ms/step - loss: 0.9419 - accuracy: 0.6336 - val_loss: 0.9942 - val_accuracy: 0.6570\n",
            "Epoch 45/500\n",
            "104/104 [==============================] - 0s 5ms/step - loss: 0.9505 - accuracy: 0.6342 - val_loss: 0.9686 - val_accuracy: 0.6377\n",
            "Epoch 46/500\n",
            "104/104 [==============================] - 1s 5ms/step - loss: 0.9493 - accuracy: 0.6366 - val_loss: 0.9621 - val_accuracy: 0.6570\n",
            "Epoch 47/500\n",
            "104/104 [==============================] - 0s 4ms/step - loss: 0.9481 - accuracy: 0.6233 - val_loss: 0.9816 - val_accuracy: 0.6135\n",
            "Epoch 48/500\n",
            "104/104 [==============================] - 1s 5ms/step - loss: 0.9503 - accuracy: 0.6215 - val_loss: 0.9599 - val_accuracy: 0.6715\n",
            "Epoch 49/500\n",
            "104/104 [==============================] - 1s 5ms/step - loss: 0.9202 - accuracy: 0.6451 - val_loss: 0.9034 - val_accuracy: 0.6812\n",
            "Epoch 50/500\n",
            "104/104 [==============================] - 0s 4ms/step - loss: 0.9254 - accuracy: 0.6354 - val_loss: 0.9085 - val_accuracy: 0.7053\n",
            "Epoch 51/500\n",
            "104/104 [==============================] - 0s 5ms/step - loss: 0.8903 - accuracy: 0.6505 - val_loss: 0.9541 - val_accuracy: 0.6570\n",
            "Epoch 52/500\n",
            "104/104 [==============================] - 1s 5ms/step - loss: 0.8827 - accuracy: 0.6542 - val_loss: 0.9354 - val_accuracy: 0.6473\n",
            "Epoch 53/500\n",
            "104/104 [==============================] - 0s 4ms/step - loss: 0.8757 - accuracy: 0.6542 - val_loss: 0.9425 - val_accuracy: 0.6812\n",
            "Epoch 54/500\n",
            "104/104 [==============================] - 0s 5ms/step - loss: 0.9085 - accuracy: 0.6427 - val_loss: 0.9040 - val_accuracy: 0.7005\n",
            "Epoch 55/500\n",
            "104/104 [==============================] - 0s 5ms/step - loss: 0.8623 - accuracy: 0.6729 - val_loss: 0.9080 - val_accuracy: 0.6473\n",
            "Epoch 56/500\n",
            "104/104 [==============================] - 0s 4ms/step - loss: 0.8755 - accuracy: 0.6439 - val_loss: 0.9008 - val_accuracy: 0.6763\n",
            "Epoch 57/500\n",
            "104/104 [==============================] - 0s 5ms/step - loss: 0.8487 - accuracy: 0.6741 - val_loss: 0.9095 - val_accuracy: 0.6715\n",
            "Epoch 58/500\n",
            "104/104 [==============================] - 1s 5ms/step - loss: 0.8498 - accuracy: 0.6620 - val_loss: 0.8710 - val_accuracy: 0.6667\n",
            "Epoch 59/500\n",
            "104/104 [==============================] - 0s 4ms/step - loss: 0.8514 - accuracy: 0.6590 - val_loss: 0.8853 - val_accuracy: 0.6522\n",
            "Epoch 60/500\n",
            "104/104 [==============================] - 0s 4ms/step - loss: 0.8404 - accuracy: 0.6699 - val_loss: 0.8548 - val_accuracy: 0.7053\n",
            "Epoch 61/500\n",
            "104/104 [==============================] - 1s 5ms/step - loss: 0.8397 - accuracy: 0.6850 - val_loss: 0.8447 - val_accuracy: 0.7198\n",
            "Epoch 62/500\n",
            "104/104 [==============================] - 1s 5ms/step - loss: 0.8189 - accuracy: 0.6741 - val_loss: 0.8443 - val_accuracy: 0.6908\n",
            "Epoch 63/500\n",
            "104/104 [==============================] - 0s 5ms/step - loss: 0.8473 - accuracy: 0.6651 - val_loss: 0.8563 - val_accuracy: 0.7198\n",
            "Epoch 64/500\n",
            "104/104 [==============================] - 0s 4ms/step - loss: 0.8089 - accuracy: 0.6826 - val_loss: 0.9052 - val_accuracy: 0.6522\n",
            "Epoch 65/500\n",
            "104/104 [==============================] - 0s 4ms/step - loss: 0.8036 - accuracy: 0.6844 - val_loss: 0.8519 - val_accuracy: 0.7005\n",
            "Epoch 66/500\n",
            "104/104 [==============================] - 0s 5ms/step - loss: 0.7883 - accuracy: 0.6898 - val_loss: 0.8179 - val_accuracy: 0.7246\n",
            "Epoch 67/500\n",
            "104/104 [==============================] - 1s 5ms/step - loss: 0.8045 - accuracy: 0.6832 - val_loss: 0.8139 - val_accuracy: 0.7005\n",
            "Epoch 68/500\n",
            "104/104 [==============================] - 0s 4ms/step - loss: 0.7870 - accuracy: 0.6880 - val_loss: 0.8066 - val_accuracy: 0.7488\n",
            "Epoch 69/500\n",
            "104/104 [==============================] - 0s 5ms/step - loss: 0.7468 - accuracy: 0.7146 - val_loss: 0.8154 - val_accuracy: 0.7101\n",
            "Epoch 70/500\n",
            "104/104 [==============================] - 0s 5ms/step - loss: 0.7759 - accuracy: 0.6995 - val_loss: 0.8072 - val_accuracy: 0.7198\n",
            "Epoch 71/500\n",
            "104/104 [==============================] - 0s 5ms/step - loss: 0.7634 - accuracy: 0.6947 - val_loss: 0.8436 - val_accuracy: 0.7198\n",
            "Epoch 72/500\n",
            "104/104 [==============================] - 0s 5ms/step - loss: 0.7549 - accuracy: 0.7025 - val_loss: 0.7804 - val_accuracy: 0.7150\n",
            "Epoch 73/500\n",
            "104/104 [==============================] - 0s 5ms/step - loss: 0.7518 - accuracy: 0.7013 - val_loss: 0.8349 - val_accuracy: 0.6715\n",
            "Epoch 74/500\n",
            "104/104 [==============================] - 0s 5ms/step - loss: 0.7232 - accuracy: 0.7164 - val_loss: 0.7790 - val_accuracy: 0.7101\n",
            "Epoch 75/500\n",
            "104/104 [==============================] - 1s 5ms/step - loss: 0.7235 - accuracy: 0.7092 - val_loss: 0.7866 - val_accuracy: 0.7343\n",
            "Epoch 76/500\n",
            "104/104 [==============================] - 0s 4ms/step - loss: 0.7170 - accuracy: 0.7231 - val_loss: 0.7904 - val_accuracy: 0.7246\n",
            "Epoch 77/500\n",
            "104/104 [==============================] - 0s 4ms/step - loss: 0.7276 - accuracy: 0.7243 - val_loss: 0.7805 - val_accuracy: 0.7440\n",
            "Epoch 78/500\n",
            "104/104 [==============================] - 0s 5ms/step - loss: 0.7195 - accuracy: 0.7219 - val_loss: 0.7721 - val_accuracy: 0.7440\n",
            "Epoch 79/500\n",
            "104/104 [==============================] - 1s 5ms/step - loss: 0.7163 - accuracy: 0.7158 - val_loss: 0.7484 - val_accuracy: 0.7826\n",
            "Epoch 80/500\n",
            "104/104 [==============================] - 0s 4ms/step - loss: 0.6906 - accuracy: 0.7400 - val_loss: 0.7739 - val_accuracy: 0.7536\n",
            "Epoch 81/500\n",
            "104/104 [==============================] - 0s 5ms/step - loss: 0.6995 - accuracy: 0.7394 - val_loss: 0.7826 - val_accuracy: 0.7488\n",
            "Epoch 82/500\n",
            "104/104 [==============================] - 0s 5ms/step - loss: 0.6877 - accuracy: 0.7297 - val_loss: 0.7485 - val_accuracy: 0.7536\n",
            "Epoch 83/500\n",
            "104/104 [==============================] - 0s 4ms/step - loss: 0.7042 - accuracy: 0.7243 - val_loss: 0.7720 - val_accuracy: 0.7391\n",
            "Epoch 84/500\n",
            "104/104 [==============================] - 0s 5ms/step - loss: 0.6838 - accuracy: 0.7346 - val_loss: 0.7340 - val_accuracy: 0.7488\n",
            "Epoch 85/500\n",
            "104/104 [==============================] - 1s 5ms/step - loss: 0.6672 - accuracy: 0.7467 - val_loss: 0.7766 - val_accuracy: 0.7488\n",
            "Epoch 86/500\n",
            "104/104 [==============================] - 0s 4ms/step - loss: 0.6628 - accuracy: 0.7479 - val_loss: 0.7294 - val_accuracy: 0.7343\n",
            "Epoch 87/500\n",
            "104/104 [==============================] - 1s 5ms/step - loss: 0.6558 - accuracy: 0.7467 - val_loss: 0.7432 - val_accuracy: 0.7633\n",
            "Epoch 88/500\n",
            "104/104 [==============================] - 0s 5ms/step - loss: 0.6557 - accuracy: 0.7473 - val_loss: 0.7705 - val_accuracy: 0.7633\n",
            "Epoch 89/500\n",
            "104/104 [==============================] - 0s 4ms/step - loss: 0.6469 - accuracy: 0.7612 - val_loss: 0.7546 - val_accuracy: 0.7729\n",
            "Epoch 90/500\n",
            "104/104 [==============================] - 1s 5ms/step - loss: 0.6550 - accuracy: 0.7467 - val_loss: 0.7282 - val_accuracy: 0.7778\n",
            "Epoch 91/500\n",
            "104/104 [==============================] - 1s 5ms/step - loss: 0.6537 - accuracy: 0.7485 - val_loss: 0.7258 - val_accuracy: 0.7923\n",
            "Epoch 92/500\n",
            "104/104 [==============================] - 0s 4ms/step - loss: 0.6189 - accuracy: 0.7690 - val_loss: 0.7024 - val_accuracy: 0.7971\n",
            "Epoch 93/500\n",
            "104/104 [==============================] - 1s 5ms/step - loss: 0.6472 - accuracy: 0.7654 - val_loss: 0.7304 - val_accuracy: 0.7585\n",
            "Epoch 94/500\n",
            "104/104 [==============================] - 0s 5ms/step - loss: 0.6289 - accuracy: 0.7630 - val_loss: 0.7032 - val_accuracy: 0.7729\n",
            "Epoch 95/500\n",
            "104/104 [==============================] - 0s 5ms/step - loss: 0.6357 - accuracy: 0.7527 - val_loss: 0.7171 - val_accuracy: 0.7681\n",
            "Epoch 96/500\n",
            "104/104 [==============================] - 1s 5ms/step - loss: 0.6008 - accuracy: 0.7763 - val_loss: 0.6949 - val_accuracy: 0.7729\n",
            "Epoch 97/500\n",
            "104/104 [==============================] - 0s 5ms/step - loss: 0.6103 - accuracy: 0.7539 - val_loss: 0.6882 - val_accuracy: 0.7923\n",
            "Epoch 98/500\n",
            "104/104 [==============================] - 0s 5ms/step - loss: 0.5945 - accuracy: 0.7709 - val_loss: 0.7267 - val_accuracy: 0.7488\n",
            "Epoch 99/500\n",
            "104/104 [==============================] - 1s 5ms/step - loss: 0.5891 - accuracy: 0.7799 - val_loss: 0.6916 - val_accuracy: 0.7681\n",
            "Epoch 100/500\n",
            "104/104 [==============================] - 0s 4ms/step - loss: 0.6061 - accuracy: 0.7721 - val_loss: 0.7035 - val_accuracy: 0.7729\n",
            "Epoch 101/500\n",
            "104/104 [==============================] - 0s 4ms/step - loss: 0.5888 - accuracy: 0.7751 - val_loss: 0.6908 - val_accuracy: 0.7971\n",
            "Epoch 102/500\n",
            "104/104 [==============================] - 1s 5ms/step - loss: 0.5711 - accuracy: 0.7799 - val_loss: 0.6658 - val_accuracy: 0.7874\n",
            "Epoch 103/500\n",
            "104/104 [==============================] - 0s 4ms/step - loss: 0.5697 - accuracy: 0.7817 - val_loss: 0.6941 - val_accuracy: 0.7681\n",
            "Epoch 104/500\n",
            "104/104 [==============================] - 0s 5ms/step - loss: 0.5579 - accuracy: 0.7793 - val_loss: 0.7053 - val_accuracy: 0.7343\n",
            "Epoch 105/500\n",
            "104/104 [==============================] - 1s 5ms/step - loss: 0.5436 - accuracy: 0.7872 - val_loss: 0.7039 - val_accuracy: 0.7681\n",
            "Epoch 106/500\n",
            "104/104 [==============================] - 0s 5ms/step - loss: 0.5598 - accuracy: 0.7950 - val_loss: 0.6802 - val_accuracy: 0.7729\n",
            "Epoch 107/500\n",
            "104/104 [==============================] - 0s 5ms/step - loss: 0.5838 - accuracy: 0.7854 - val_loss: 0.6563 - val_accuracy: 0.7971\n",
            "Epoch 108/500\n",
            "104/104 [==============================] - 1s 5ms/step - loss: 0.5659 - accuracy: 0.7805 - val_loss: 0.6973 - val_accuracy: 0.7729\n",
            "Epoch 109/500\n",
            "104/104 [==============================] - 0s 4ms/step - loss: 0.5414 - accuracy: 0.7896 - val_loss: 0.6857 - val_accuracy: 0.7826\n",
            "Epoch 110/500\n",
            "104/104 [==============================] - 0s 5ms/step - loss: 0.5565 - accuracy: 0.7805 - val_loss: 0.6890 - val_accuracy: 0.7729\n",
            "Epoch 111/500\n",
            "104/104 [==============================] - 1s 5ms/step - loss: 0.5369 - accuracy: 0.7956 - val_loss: 0.6572 - val_accuracy: 0.7874\n",
            "Epoch 112/500\n",
            "104/104 [==============================] - 0s 4ms/step - loss: 0.5388 - accuracy: 0.7932 - val_loss: 0.6625 - val_accuracy: 0.7729\n",
            "Epoch 113/500\n",
            "104/104 [==============================] - 0s 5ms/step - loss: 0.5541 - accuracy: 0.7908 - val_loss: 0.6755 - val_accuracy: 0.7923\n",
            "Epoch 114/500\n",
            "104/104 [==============================] - 1s 5ms/step - loss: 0.5083 - accuracy: 0.7969 - val_loss: 0.6782 - val_accuracy: 0.7585\n",
            "Epoch 115/500\n",
            "104/104 [==============================] - 0s 4ms/step - loss: 0.5193 - accuracy: 0.7944 - val_loss: 0.6545 - val_accuracy: 0.7874\n",
            "Epoch 116/500\n",
            "104/104 [==============================] - 1s 5ms/step - loss: 0.5216 - accuracy: 0.7999 - val_loss: 0.6571 - val_accuracy: 0.7874\n",
            "Epoch 117/500\n",
            "104/104 [==============================] - 0s 5ms/step - loss: 0.5272 - accuracy: 0.7920 - val_loss: 0.6697 - val_accuracy: 0.7874\n",
            "Epoch 118/500\n",
            "104/104 [==============================] - 0s 4ms/step - loss: 0.5198 - accuracy: 0.7969 - val_loss: 0.6747 - val_accuracy: 0.7681\n",
            "Epoch 119/500\n",
            "104/104 [==============================] - 1s 5ms/step - loss: 0.5190 - accuracy: 0.7975 - val_loss: 0.6773 - val_accuracy: 0.7585\n",
            "Epoch 120/500\n",
            "104/104 [==============================] - 0s 5ms/step - loss: 0.4985 - accuracy: 0.8102 - val_loss: 0.6534 - val_accuracy: 0.7874\n",
            "Epoch 121/500\n",
            "104/104 [==============================] - 0s 4ms/step - loss: 0.5077 - accuracy: 0.8065 - val_loss: 0.6548 - val_accuracy: 0.7826\n",
            "Epoch 122/500\n",
            "104/104 [==============================] - 1s 5ms/step - loss: 0.5037 - accuracy: 0.8192 - val_loss: 0.6378 - val_accuracy: 0.7971\n",
            "Epoch 123/500\n",
            "104/104 [==============================] - 0s 5ms/step - loss: 0.4942 - accuracy: 0.8150 - val_loss: 0.6533 - val_accuracy: 0.7874\n",
            "Epoch 124/500\n",
            "104/104 [==============================] - 0s 5ms/step - loss: 0.5010 - accuracy: 0.8077 - val_loss: 0.6695 - val_accuracy: 0.7778\n",
            "Epoch 125/500\n",
            "104/104 [==============================] - 1s 5ms/step - loss: 0.5002 - accuracy: 0.8144 - val_loss: 0.6472 - val_accuracy: 0.7874\n",
            "Epoch 126/500\n",
            "104/104 [==============================] - 1s 5ms/step - loss: 0.4919 - accuracy: 0.8144 - val_loss: 0.6605 - val_accuracy: 0.7971\n",
            "Epoch 127/500\n",
            "104/104 [==============================] - 0s 5ms/step - loss: 0.5018 - accuracy: 0.8065 - val_loss: 0.6586 - val_accuracy: 0.7778\n",
            "Epoch 128/500\n",
            "104/104 [==============================] - 1s 5ms/step - loss: 0.4972 - accuracy: 0.8083 - val_loss: 0.6407 - val_accuracy: 0.7729\n",
            "Epoch 129/500\n",
            "104/104 [==============================] - 0s 5ms/step - loss: 0.4723 - accuracy: 0.8174 - val_loss: 0.6445 - val_accuracy: 0.7826\n",
            "Epoch 130/500\n",
            "104/104 [==============================] - 0s 5ms/step - loss: 0.4648 - accuracy: 0.8325 - val_loss: 0.6846 - val_accuracy: 0.7874\n",
            "Epoch 131/500\n",
            "104/104 [==============================] - 1s 5ms/step - loss: 0.4685 - accuracy: 0.8319 - val_loss: 0.6827 - val_accuracy: 0.7488\n",
            "Epoch 132/500\n",
            "104/104 [==============================] - 0s 5ms/step - loss: 0.4991 - accuracy: 0.8108 - val_loss: 0.6702 - val_accuracy: 0.7536\n",
            "Epoch 133/500\n",
            "104/104 [==============================] - 0s 4ms/step - loss: 0.4626 - accuracy: 0.8192 - val_loss: 0.6367 - val_accuracy: 0.7923\n",
            "Epoch 134/500\n",
            "104/104 [==============================] - 1s 5ms/step - loss: 0.4563 - accuracy: 0.8331 - val_loss: 0.6431 - val_accuracy: 0.7923\n",
            "Epoch 135/500\n",
            "104/104 [==============================] - 0s 5ms/step - loss: 0.4724 - accuracy: 0.8295 - val_loss: 0.6254 - val_accuracy: 0.7874\n",
            "Epoch 136/500\n",
            "104/104 [==============================] - 1s 5ms/step - loss: 0.4678 - accuracy: 0.8319 - val_loss: 0.6170 - val_accuracy: 0.7826\n",
            "Epoch 137/500\n",
            "104/104 [==============================] - 1s 5ms/step - loss: 0.4588 - accuracy: 0.8198 - val_loss: 0.6172 - val_accuracy: 0.7923\n",
            "Epoch 138/500\n",
            "104/104 [==============================] - 0s 5ms/step - loss: 0.4346 - accuracy: 0.8277 - val_loss: 0.6159 - val_accuracy: 0.7971\n",
            "Epoch 139/500\n",
            "104/104 [==============================] - 0s 5ms/step - loss: 0.4393 - accuracy: 0.8313 - val_loss: 0.6348 - val_accuracy: 0.7874\n",
            "Epoch 140/500\n",
            "104/104 [==============================] - 1s 5ms/step - loss: 0.4377 - accuracy: 0.8349 - val_loss: 0.6167 - val_accuracy: 0.7826\n",
            "Epoch 141/500\n",
            "104/104 [==============================] - 0s 4ms/step - loss: 0.4234 - accuracy: 0.8476 - val_loss: 0.6354 - val_accuracy: 0.7826\n",
            "Epoch 142/500\n",
            "104/104 [==============================] - 0s 5ms/step - loss: 0.4392 - accuracy: 0.8398 - val_loss: 0.5934 - val_accuracy: 0.8357\n",
            "Epoch 143/500\n",
            "104/104 [==============================] - 1s 5ms/step - loss: 0.4337 - accuracy: 0.8416 - val_loss: 0.6263 - val_accuracy: 0.7971\n",
            "Epoch 144/500\n",
            "104/104 [==============================] - 0s 5ms/step - loss: 0.4380 - accuracy: 0.8319 - val_loss: 0.6017 - val_accuracy: 0.8116\n",
            "Epoch 145/500\n",
            "104/104 [==============================] - 1s 5ms/step - loss: 0.4263 - accuracy: 0.8289 - val_loss: 0.6132 - val_accuracy: 0.7971\n",
            "Epoch 146/500\n",
            "104/104 [==============================] - 1s 6ms/step - loss: 0.4171 - accuracy: 0.8501 - val_loss: 0.6219 - val_accuracy: 0.7826\n",
            "Epoch 147/500\n",
            "104/104 [==============================] - 0s 4ms/step - loss: 0.4159 - accuracy: 0.8362 - val_loss: 0.6153 - val_accuracy: 0.7971\n",
            "Epoch 148/500\n",
            "104/104 [==============================] - 1s 5ms/step - loss: 0.4150 - accuracy: 0.8422 - val_loss: 0.6117 - val_accuracy: 0.8068\n",
            "Epoch 149/500\n",
            "104/104 [==============================] - 1s 5ms/step - loss: 0.3940 - accuracy: 0.8476 - val_loss: 0.6118 - val_accuracy: 0.7826\n",
            "Epoch 150/500\n",
            "104/104 [==============================] - 0s 4ms/step - loss: 0.4198 - accuracy: 0.8362 - val_loss: 0.6276 - val_accuracy: 0.7681\n",
            "Epoch 151/500\n",
            "104/104 [==============================] - 1s 5ms/step - loss: 0.4168 - accuracy: 0.8470 - val_loss: 0.6018 - val_accuracy: 0.7923\n",
            "Epoch 152/500\n",
            "104/104 [==============================] - 1s 9ms/step - loss: 0.4178 - accuracy: 0.8398 - val_loss: 0.6090 - val_accuracy: 0.7826\n",
            "Epoch 153/500\n",
            "104/104 [==============================] - 1s 6ms/step - loss: 0.3851 - accuracy: 0.8628 - val_loss: 0.6090 - val_accuracy: 0.8068\n",
            "Epoch 154/500\n",
            "104/104 [==============================] - 0s 5ms/step - loss: 0.3752 - accuracy: 0.8585 - val_loss: 0.6055 - val_accuracy: 0.8019\n",
            "Epoch 155/500\n",
            "104/104 [==============================] - 1s 5ms/step - loss: 0.4067 - accuracy: 0.8440 - val_loss: 0.6212 - val_accuracy: 0.7778\n",
            "Epoch 156/500\n",
            "104/104 [==============================] - 1s 5ms/step - loss: 0.4069 - accuracy: 0.8440 - val_loss: 0.6076 - val_accuracy: 0.7923\n",
            "Epoch 157/500\n",
            "104/104 [==============================] - 0s 5ms/step - loss: 0.3787 - accuracy: 0.8694 - val_loss: 0.5910 - val_accuracy: 0.8261\n",
            "Epoch 158/500\n",
            "104/104 [==============================] - 0s 5ms/step - loss: 0.4016 - accuracy: 0.8434 - val_loss: 0.5886 - val_accuracy: 0.8068\n",
            "Epoch 159/500\n",
            "104/104 [==============================] - 1s 5ms/step - loss: 0.3725 - accuracy: 0.8622 - val_loss: 0.6155 - val_accuracy: 0.7681\n",
            "Epoch 160/500\n",
            "104/104 [==============================] - 0s 5ms/step - loss: 0.3887 - accuracy: 0.8501 - val_loss: 0.6249 - val_accuracy: 0.7826\n",
            "Epoch 161/500\n",
            "104/104 [==============================] - 1s 5ms/step - loss: 0.3719 - accuracy: 0.8549 - val_loss: 0.6095 - val_accuracy: 0.7874\n",
            "Epoch 162/500\n",
            "104/104 [==============================] - 1s 5ms/step - loss: 0.3772 - accuracy: 0.8567 - val_loss: 0.6094 - val_accuracy: 0.7923\n",
            "Epoch 163/500\n",
            "104/104 [==============================] - 0s 5ms/step - loss: 0.3838 - accuracy: 0.8525 - val_loss: 0.6099 - val_accuracy: 0.7826\n",
            "Epoch 164/500\n",
            "104/104 [==============================] - 1s 5ms/step - loss: 0.3651 - accuracy: 0.8658 - val_loss: 0.6011 - val_accuracy: 0.7971\n",
            "Epoch 165/500\n",
            "104/104 [==============================] - 0s 5ms/step - loss: 0.3593 - accuracy: 0.8676 - val_loss: 0.6162 - val_accuracy: 0.7923\n",
            "Epoch 166/500\n",
            "104/104 [==============================] - 1s 7ms/step - loss: 0.3750 - accuracy: 0.8646 - val_loss: 0.6013 - val_accuracy: 0.8019\n",
            "Epoch 167/500\n",
            "104/104 [==============================] - 1s 7ms/step - loss: 0.3613 - accuracy: 0.8736 - val_loss: 0.5916 - val_accuracy: 0.7971\n",
            "Epoch 168/500\n",
            "104/104 [==============================] - 1s 11ms/step - loss: 0.3633 - accuracy: 0.8585 - val_loss: 0.6375 - val_accuracy: 0.7585\n",
            "Epoch 169/500\n",
            "104/104 [==============================] - 1s 13ms/step - loss: 0.3811 - accuracy: 0.8622 - val_loss: 0.5735 - val_accuracy: 0.8213\n",
            "Epoch 170/500\n",
            "104/104 [==============================] - 0s 5ms/step - loss: 0.3742 - accuracy: 0.8537 - val_loss: 0.5945 - val_accuracy: 0.8019\n",
            "Epoch 171/500\n",
            "104/104 [==============================] - 0s 4ms/step - loss: 0.3651 - accuracy: 0.8525 - val_loss: 0.5776 - val_accuracy: 0.8164\n",
            "Epoch 172/500\n",
            "104/104 [==============================] - 1s 5ms/step - loss: 0.3702 - accuracy: 0.8579 - val_loss: 0.6185 - val_accuracy: 0.8116\n",
            "Epoch 173/500\n",
            "104/104 [==============================] - 1s 5ms/step - loss: 0.3430 - accuracy: 0.8809 - val_loss: 0.5753 - val_accuracy: 0.8019\n",
            "Epoch 174/500\n",
            "104/104 [==============================] - 0s 4ms/step - loss: 0.3535 - accuracy: 0.8609 - val_loss: 0.5498 - val_accuracy: 0.8068\n",
            "Epoch 175/500\n",
            "104/104 [==============================] - 1s 5ms/step - loss: 0.3675 - accuracy: 0.8670 - val_loss: 0.6317 - val_accuracy: 0.7585\n",
            "Epoch 176/500\n",
            "104/104 [==============================] - 0s 4ms/step - loss: 0.3507 - accuracy: 0.8773 - val_loss: 0.6200 - val_accuracy: 0.7778\n",
            "Epoch 177/500\n",
            "104/104 [==============================] - 0s 5ms/step - loss: 0.3576 - accuracy: 0.8652 - val_loss: 0.5872 - val_accuracy: 0.7874\n",
            "Epoch 178/500\n",
            "104/104 [==============================] - 1s 5ms/step - loss: 0.3439 - accuracy: 0.8658 - val_loss: 0.6084 - val_accuracy: 0.8019\n",
            "Epoch 179/500\n",
            "104/104 [==============================] - 0s 5ms/step - loss: 0.3369 - accuracy: 0.8761 - val_loss: 0.6260 - val_accuracy: 0.7923\n",
            "Epoch 180/500\n",
            "104/104 [==============================] - 1s 5ms/step - loss: 0.3400 - accuracy: 0.8676 - val_loss: 0.5969 - val_accuracy: 0.7971\n",
            "Epoch 181/500\n",
            "104/104 [==============================] - 1s 5ms/step - loss: 0.3451 - accuracy: 0.8640 - val_loss: 0.6030 - val_accuracy: 0.8116\n",
            "Epoch 182/500\n",
            "104/104 [==============================] - 1s 5ms/step - loss: 0.3432 - accuracy: 0.8755 - val_loss: 0.5749 - val_accuracy: 0.7923\n",
            "Epoch 183/500\n",
            "104/104 [==============================] - 1s 5ms/step - loss: 0.3350 - accuracy: 0.8706 - val_loss: 0.6270 - val_accuracy: 0.7826\n",
            "Epoch 184/500\n",
            "104/104 [==============================] - 1s 5ms/step - loss: 0.3185 - accuracy: 0.8797 - val_loss: 0.6120 - val_accuracy: 0.8019\n",
            "Epoch 185/500\n",
            "104/104 [==============================] - 0s 4ms/step - loss: 0.3534 - accuracy: 0.8603 - val_loss: 0.6007 - val_accuracy: 0.8068\n",
            "Epoch 186/500\n",
            "104/104 [==============================] - 1s 5ms/step - loss: 0.3462 - accuracy: 0.8742 - val_loss: 0.6077 - val_accuracy: 0.8261\n",
            "Epoch 187/500\n",
            "104/104 [==============================] - 1s 5ms/step - loss: 0.3160 - accuracy: 0.8821 - val_loss: 0.5885 - val_accuracy: 0.7923\n",
            "Epoch 188/500\n",
            "104/104 [==============================] - 0s 5ms/step - loss: 0.3250 - accuracy: 0.8827 - val_loss: 0.5948 - val_accuracy: 0.7971\n",
            "Epoch 189/500\n",
            "104/104 [==============================] - 1s 5ms/step - loss: 0.3351 - accuracy: 0.8809 - val_loss: 0.5844 - val_accuracy: 0.7923\n",
            "Epoch 190/500\n",
            "104/104 [==============================] - 0s 5ms/step - loss: 0.3112 - accuracy: 0.8833 - val_loss: 0.5763 - val_accuracy: 0.8309\n",
            "Epoch 191/500\n",
            "104/104 [==============================] - 0s 5ms/step - loss: 0.3092 - accuracy: 0.8851 - val_loss: 0.5412 - val_accuracy: 0.8019\n",
            "Epoch 192/500\n",
            "104/104 [==============================] - 1s 5ms/step - loss: 0.3152 - accuracy: 0.8785 - val_loss: 0.5934 - val_accuracy: 0.8116\n",
            "Epoch 193/500\n",
            "104/104 [==============================] - 0s 5ms/step - loss: 0.3125 - accuracy: 0.8821 - val_loss: 0.6298 - val_accuracy: 0.7826\n",
            "Epoch 194/500\n",
            "104/104 [==============================] - 0s 5ms/step - loss: 0.3280 - accuracy: 0.8797 - val_loss: 0.5663 - val_accuracy: 0.7971\n",
            "Epoch 195/500\n",
            "104/104 [==============================] - 1s 7ms/step - loss: 0.3063 - accuracy: 0.8863 - val_loss: 0.5861 - val_accuracy: 0.8068\n",
            "Epoch 196/500\n",
            "104/104 [==============================] - 0s 5ms/step - loss: 0.3099 - accuracy: 0.8809 - val_loss: 0.5916 - val_accuracy: 0.8261\n",
            "Epoch 197/500\n",
            "104/104 [==============================] - 0s 5ms/step - loss: 0.3482 - accuracy: 0.8736 - val_loss: 0.5942 - val_accuracy: 0.7971\n",
            "Epoch 198/500\n",
            "104/104 [==============================] - 1s 5ms/step - loss: 0.3067 - accuracy: 0.8833 - val_loss: 0.5674 - val_accuracy: 0.8164\n",
            "Epoch 199/500\n",
            "104/104 [==============================] - 0s 5ms/step - loss: 0.3051 - accuracy: 0.8900 - val_loss: 0.5742 - val_accuracy: 0.8213\n",
            "Epoch 200/500\n",
            "104/104 [==============================] - 0s 5ms/step - loss: 0.3028 - accuracy: 0.8869 - val_loss: 0.5846 - val_accuracy: 0.8019\n",
            "Epoch 201/500\n",
            "104/104 [==============================] - 1s 9ms/step - loss: 0.3103 - accuracy: 0.8857 - val_loss: 0.5798 - val_accuracy: 0.8068\n",
            "Epoch 202/500\n",
            "104/104 [==============================] - 1s 7ms/step - loss: 0.3073 - accuracy: 0.8839 - val_loss: 0.6320 - val_accuracy: 0.7874\n",
            "Epoch 203/500\n",
            "104/104 [==============================] - 0s 5ms/step - loss: 0.3006 - accuracy: 0.8948 - val_loss: 0.6177 - val_accuracy: 0.7923\n",
            "Epoch 204/500\n",
            "104/104 [==============================] - 1s 5ms/step - loss: 0.3178 - accuracy: 0.8791 - val_loss: 0.6286 - val_accuracy: 0.7778\n",
            "Epoch 205/500\n",
            "104/104 [==============================] - 1s 5ms/step - loss: 0.2837 - accuracy: 0.8875 - val_loss: 0.6037 - val_accuracy: 0.7971\n",
            "Epoch 206/500\n",
            "104/104 [==============================] - 0s 5ms/step - loss: 0.2865 - accuracy: 0.8966 - val_loss: 0.6038 - val_accuracy: 0.7971\n",
            "Epoch 207/500\n",
            "104/104 [==============================] - 0s 4ms/step - loss: 0.2942 - accuracy: 0.8912 - val_loss: 0.5585 - val_accuracy: 0.8116\n",
            "Epoch 208/500\n",
            "104/104 [==============================] - 1s 5ms/step - loss: 0.3033 - accuracy: 0.8863 - val_loss: 0.5995 - val_accuracy: 0.7826\n",
            "Epoch 209/500\n",
            "104/104 [==============================] - 1s 5ms/step - loss: 0.2893 - accuracy: 0.8906 - val_loss: 0.6012 - val_accuracy: 0.7971\n",
            "Epoch 210/500\n",
            "104/104 [==============================] - 0s 5ms/step - loss: 0.2732 - accuracy: 0.8984 - val_loss: 0.5965 - val_accuracy: 0.8116\n",
            "Epoch 211/500\n",
            "104/104 [==============================] - 1s 5ms/step - loss: 0.2958 - accuracy: 0.8869 - val_loss: 0.5890 - val_accuracy: 0.7923\n",
            "Epoch 212/500\n",
            "104/104 [==============================] - 0s 5ms/step - loss: 0.2655 - accuracy: 0.9039 - val_loss: 0.5991 - val_accuracy: 0.8116\n",
            "Epoch 213/500\n",
            "104/104 [==============================] - 0s 5ms/step - loss: 0.3041 - accuracy: 0.8845 - val_loss: 0.5782 - val_accuracy: 0.8068\n",
            "Epoch 214/500\n",
            "104/104 [==============================] - 1s 5ms/step - loss: 0.2587 - accuracy: 0.9087 - val_loss: 0.5846 - val_accuracy: 0.8019\n",
            "Epoch 215/500\n",
            "104/104 [==============================] - 0s 5ms/step - loss: 0.2821 - accuracy: 0.9027 - val_loss: 0.5733 - val_accuracy: 0.8116\n",
            "Epoch 216/500\n",
            "104/104 [==============================] - 1s 5ms/step - loss: 0.2997 - accuracy: 0.8906 - val_loss: 0.6374 - val_accuracy: 0.7874\n"
          ]
        }
      ]
    },
    {
      "cell_type": "code",
      "source": [
        "plt.plot(cnnhistory.history['loss'])\n",
        "plt.plot(cnnhistory.history['val_loss'])\n",
        "plt.title('model loss')\n",
        "plt.ylabel('loss')\n",
        "plt.xlabel('epoch')\n",
        "plt.legend(['train','test'], loc='upper left')\n",
        "plt.show()"
      ],
      "metadata": {
        "colab": {
          "base_uri": "https://localhost:8080/",
          "height": 295
        },
        "id": "oQYnuaCrDH_A",
        "outputId": "f07ae9b0-ff04-4c60-8216-8eba8b9f9d7a"
      },
      "execution_count": 15,
      "outputs": [
        {
          "output_type": "display_data",
          "data": {
            "text/plain": [
              "<Figure size 432x288 with 1 Axes>"
            ],
            "image/png": "[encoded data removed]"
          },
          "metadata": {
            "needs_background": "light"
          }
        }
      ]
    },
    {
      "cell_type": "code",
      "source": [
        "plt.plot(cnnhistory.history['accuracy'])\n",
        "plt.plot(cnnhistory.history['val_accuracy'])\n",
        "plt.title('model accuracy')\n",
        "plt.ylabel('accuracy')\n",
        "plt.xlabel('epoch')\n",
        "plt.legend(['train','test'], loc='upper left')\n",
        "plt.show()"
      ],
      "metadata": {
        "colab": {
          "base_uri": "https://localhost:8080/",
          "height": 295
        },
        "id": "IFkTuO8nDNdq",
        "outputId": "c4dd4ef1-d473-45f3-b178-2d4f645b2b75"
      },
      "execution_count": 16,
      "outputs": [
        {
          "output_type": "display_data",
          "data": {
            "text/plain": [
              "<Figure size 432x288 with 1 Axes>"
            ],
            "image/png": "[encoded data removed]"
          },
          "metadata": {
            "needs_background": "light"
          }
        }
      ]
    },
    {
      "cell_type": "code",
      "source": [
        "predictions = model.predict(x_testcnn)"
      ],
      "metadata": {
        "id": "A2xtrN5wDQgY"
      },
      "execution_count": 17,
      "outputs": []
    },
    {
      "cell_type": "code",
      "source": [
        "predictions"
      ],
      "metadata": {
        "colab": {
          "base_uri": "https://localhost:8080/"
        },
        "id": "_f_ohjXKDUpY",
        "outputId": "fc6ab3ab-5be5-449b-b2dd-9762d4dd582f"
      },
      "execution_count": 18,
      "outputs": [
        {
          "output_type": "execute_result",
          "data": {
            "text/plain": [
              "array([[2.5502953e-01, 1.2497584e-01, 2.7035627e-01, 2.6694715e-01,\n",
              "        6.5855354e-02, 1.6835885e-02],\n",
              "       [2.4834189e-05, 3.3220374e-07, 6.4758887e-10, 9.6217430e-01,\n",
              "        1.1550160e-05, 3.7788972e-02],\n",
              "       [1.8186066e-01, 4.5798428e-02, 3.1092893e-02, 4.5340469e-01,\n",
              "        4.3576524e-02, 2.4426678e-01],\n",
              "       ...,\n",
              "       [1.4304443e-05, 6.7225625e-09, 4.2959109e-06, 1.4778507e-04,\n",
              "        9.9015182e-01, 9.6817156e-03],\n",
              "       [5.0820217e-06, 7.9645997e-01, 2.0073268e-01, 5.8621401e-04,\n",
              "        6.6985266e-04, 1.5462079e-03],\n",
              "       [1.8395390e-04, 2.9929966e-04, 1.4230577e-02, 7.5910048e-04,\n",
              "        9.8041403e-01, 4.1130912e-03]], dtype=float32)"
            ]
          },
          "metadata": {},
          "execution_count": 18
        }
      ]
    },
    {
      "cell_type": "code",
      "source": [
        "y_test"
      ],
      "metadata": {
        "colab": {
          "base_uri": "https://localhost:8080/"
        },
        "id": "cmA2bFgsDW3D",
        "outputId": "f44cd783-9869-4639-98f2-73129f684f52"
      },
      "execution_count": 19,
      "outputs": [
        {
          "output_type": "execute_result",
          "data": {
            "text/plain": [
              "array([3, 3, 3, 0, 4, 4, 1, 2, 5, 0, 5, 3, 2, 2, 1, 4, 4, 5, 2, 4, 1, 2,\n",
              "       3, 5, 4, 2, 1, 2, 2, 2, 2, 5, 2, 5, 3, 1, 2, 0, 4, 5, 2, 3, 2, 2,\n",
              "       5, 2, 0, 1, 3, 4, 4, 5, 1, 1, 4, 4, 5, 1, 1, 1, 0, 1, 5, 0, 4, 1,\n",
              "       1, 0, 1, 4, 1, 0, 4, 1, 3, 1, 2, 2, 1, 2, 3, 0, 5, 3, 5, 5, 2, 4,\n",
              "       5, 1, 5, 1, 5, 3, 4, 1, 4, 1, 5, 4, 5, 1, 2, 1, 1, 5, 1, 3, 2, 5,\n",
              "       2, 1, 3, 5, 4, 4, 0, 0, 3, 1, 2, 2, 3, 5, 1, 5, 3, 4, 2, 2, 0, 2,\n",
              "       2, 5, 5, 0, 3, 3, 2, 2, 0, 3, 4, 0, 4, 2, 4, 5, 4, 1, 5, 3, 2, 2,\n",
              "       5, 4, 3, 3, 4, 3, 3, 4, 1, 5, 2, 3, 2, 2, 0, 2, 1, 3, 1, 2, 2, 5,\n",
              "       5, 1, 4, 2, 2, 1, 1, 3, 3, 5, 5, 2, 5, 1, 5, 0, 3, 3, 0, 5, 1, 4,\n",
              "       1, 4, 2, 5, 5, 1, 4, 2, 4])"
            ]
          },
          "metadata": {},
          "execution_count": 19
        }
      ]
    },
    {
      "cell_type": "code",
      "source": [
        "new_Ytest = y_test.astype(int)"
      ],
      "metadata": {
        "id": "0PHDKWJWDY3g"
      },
      "execution_count": 20,
      "outputs": []
    },
    {
      "cell_type": "code",
      "source": [
        "new_Ytest"
      ],
      "metadata": {
        "colab": {
          "base_uri": "https://localhost:8080/"
        },
        "id": "k68v2i-pDbZE",
        "outputId": "06ab7261-6be2-4026-a33b-7f1b6786dabb"
      },
      "execution_count": 21,
      "outputs": [
        {
          "output_type": "execute_result",
          "data": {
            "text/plain": [
              "array([3, 3, 3, 0, 4, 4, 1, 2, 5, 0, 5, 3, 2, 2, 1, 4, 4, 5, 2, 4, 1, 2,\n",
              "       3, 5, 4, 2, 1, 2, 2, 2, 2, 5, 2, 5, 3, 1, 2, 0, 4, 5, 2, 3, 2, 2,\n",
              "       5, 2, 0, 1, 3, 4, 4, 5, 1, 1, 4, 4, 5, 1, 1, 1, 0, 1, 5, 0, 4, 1,\n",
              "       1, 0, 1, 4, 1, 0, 4, 1, 3, 1, 2, 2, 1, 2, 3, 0, 5, 3, 5, 5, 2, 4,\n",
              "       5, 1, 5, 1, 5, 3, 4, 1, 4, 1, 5, 4, 5, 1, 2, 1, 1, 5, 1, 3, 2, 5,\n",
              "       2, 1, 3, 5, 4, 4, 0, 0, 3, 1, 2, 2, 3, 5, 1, 5, 3, 4, 2, 2, 0, 2,\n",
              "       2, 5, 5, 0, 3, 3, 2, 2, 0, 3, 4, 0, 4, 2, 4, 5, 4, 1, 5, 3, 2, 2,\n",
              "       5, 4, 3, 3, 4, 3, 3, 4, 1, 5, 2, 3, 2, 2, 0, 2, 1, 3, 1, 2, 2, 5,\n",
              "       5, 1, 4, 2, 2, 1, 1, 3, 3, 5, 5, 2, 5, 1, 5, 0, 3, 3, 0, 5, 1, 4,\n",
              "       1, 4, 2, 5, 5, 1, 4, 2, 4])"
            ]
          },
          "metadata": {},
          "execution_count": 21
        }
      ]
    },
    {
      "cell_type": "code",
      "source": [
        "preds1=predictions.argmax(axis=1)\n",
        "preds1"
      ],
      "metadata": {
        "colab": {
          "base_uri": "https://localhost:8080/"
        },
        "id": "4_cAI39VFhtp",
        "outputId": "725427a1-cd67-4253-ac49-89a78e7615f8"
      },
      "execution_count": 22,
      "outputs": [
        {
          "output_type": "execute_result",
          "data": {
            "text/plain": [
              "array([2, 3, 3, 0, 4, 4, 1, 2, 5, 1, 5, 3, 2, 2, 0, 4, 4, 3, 2, 4, 2, 2,\n",
              "       0, 2, 4, 2, 1, 2, 2, 2, 2, 5, 2, 5, 3, 1, 2, 0, 4, 5, 1, 3, 2, 2,\n",
              "       3, 2, 1, 1, 1, 4, 4, 2, 1, 1, 4, 4, 5, 1, 1, 1, 0, 1, 2, 0, 4, 1,\n",
              "       1, 1, 1, 4, 1, 0, 4, 1, 5, 4, 2, 1, 2, 2, 1, 0, 5, 3, 5, 4, 2, 3,\n",
              "       3, 1, 5, 1, 5, 5, 4, 1, 4, 1, 3, 4, 5, 1, 2, 1, 1, 5, 1, 3, 2, 5,\n",
              "       1, 3, 3, 5, 4, 4, 3, 0, 3, 3, 1, 2, 1, 5, 1, 5, 3, 4, 2, 2, 0, 2,\n",
              "       2, 3, 5, 0, 3, 3, 2, 4, 0, 3, 4, 1, 4, 4, 1, 2, 4, 1, 5, 3, 2, 2,\n",
              "       5, 4, 3, 3, 4, 5, 4, 4, 1, 5, 1, 3, 2, 2, 0, 2, 1, 3, 1, 2, 2, 3,\n",
              "       5, 1, 4, 2, 2, 1, 1, 3, 3, 5, 5, 2, 5, 1, 4, 1, 3, 3, 2, 4, 1, 4,\n",
              "       1, 4, 3, 5, 5, 1, 4, 1, 4])"
            ]
          },
          "metadata": {},
          "execution_count": 22
        }
      ]
    },
    {
      "cell_type": "code",
      "source": [
        "abc = preds1.astype(int).flatten()"
      ],
      "metadata": {
        "id": "H4WEmM60NfQn"
      },
      "execution_count": 23,
      "outputs": []
    },
    {
      "cell_type": "code",
      "source": [
        "from sklearn.metrics import confusion_matrix\n",
        "c = confusion_matrix(new_Ytest, abc) \n",
        "c"
      ],
      "metadata": {
        "colab": {
          "base_uri": "https://localhost:8080/"
        },
        "id": "bKEBeEBlFjB8",
        "outputId": "b0281af4-512d-4a5f-cfe2-b58e61f7eb2d"
      },
      "execution_count": 24,
      "outputs": [
        {
          "output_type": "execute_result",
          "data": {
            "text/plain": [
              "array([[11,  5,  1,  1,  0,  0],\n",
              "       [ 1, 35,  2,  2,  1,  0],\n",
              "       [ 0,  6, 36,  1,  2,  0],\n",
              "       [ 1,  3,  1, 22,  1,  3],\n",
              "       [ 0,  1,  0,  1, 31,  0],\n",
              "       [ 0,  0,  4,  6,  3, 26]])"
            ]
          },
          "metadata": {},
          "execution_count": 24
        }
      ]
    },
    {
      "cell_type": "code",
      "source": [
        "y_test"
      ],
      "metadata": {
        "colab": {
          "base_uri": "https://localhost:8080/"
        },
        "id": "m4RjG7LWLSQx",
        "outputId": "94acccab-1649-4d73-f83c-522ae575b153"
      },
      "execution_count": 25,
      "outputs": [
        {
          "output_type": "execute_result",
          "data": {
            "text/plain": [
              "array([3, 3, 3, 0, 4, 4, 1, 2, 5, 0, 5, 3, 2, 2, 1, 4, 4, 5, 2, 4, 1, 2,\n",
              "       3, 5, 4, 2, 1, 2, 2, 2, 2, 5, 2, 5, 3, 1, 2, 0, 4, 5, 2, 3, 2, 2,\n",
              "       5, 2, 0, 1, 3, 4, 4, 5, 1, 1, 4, 4, 5, 1, 1, 1, 0, 1, 5, 0, 4, 1,\n",
              "       1, 0, 1, 4, 1, 0, 4, 1, 3, 1, 2, 2, 1, 2, 3, 0, 5, 3, 5, 5, 2, 4,\n",
              "       5, 1, 5, 1, 5, 3, 4, 1, 4, 1, 5, 4, 5, 1, 2, 1, 1, 5, 1, 3, 2, 5,\n",
              "       2, 1, 3, 5, 4, 4, 0, 0, 3, 1, 2, 2, 3, 5, 1, 5, 3, 4, 2, 2, 0, 2,\n",
              "       2, 5, 5, 0, 3, 3, 2, 2, 0, 3, 4, 0, 4, 2, 4, 5, 4, 1, 5, 3, 2, 2,\n",
              "       5, 4, 3, 3, 4, 3, 3, 4, 1, 5, 2, 3, 2, 2, 0, 2, 1, 3, 1, 2, 2, 5,\n",
              "       5, 1, 4, 2, 2, 1, 1, 3, 3, 5, 5, 2, 5, 1, 5, 0, 3, 3, 0, 5, 1, 4,\n",
              "       1, 4, 2, 5, 5, 1, 4, 2, 4])"
            ]
          },
          "metadata": {},
          "execution_count": 25
        }
      ]
    },
    {
      "cell_type": "code",
      "source": [
        "loss, acc =model.evaluate(x_testcnn, y_test)\n",
        "print(\"Restored model, accuracy: {:5.2f}%\".format(100*acc))"
      ],
      "metadata": {
        "colab": {
          "base_uri": "https://localhost:8080/"
        },
        "id": "n3kzoqPkDqqS",
        "outputId": "9bcea59a-47fa-43c0-cd70-b50db104066c"
      },
      "execution_count": 26,
      "outputs": [
        {
          "output_type": "stream",
          "name": "stdout",
          "text": [
            "7/7 [==============================] - 0s 4ms/step - loss: 0.5504 - accuracy: 0.7778\n",
            "Restored model, accuracy: 77.78%\n"
          ]
        }
      ]
    },
    {
      "cell_type": "code",
      "source": [
        "loss, acc =model.evaluate(X_train, y_train)\n",
        "print(\"Restored model train, accuracy: {:5.2f}%\".format(100*acc))"
      ],
      "metadata": {
        "id": "fJDTGH_OUX0z",
        "colab": {
          "base_uri": "https://localhost:8080/"
        },
        "outputId": "ee68d2b6-3942-41f2-9b22-45c3d8bcb7a5"
      },
      "execution_count": 27,
      "outputs": [
        {
          "output_type": "stream",
          "name": "stdout",
          "text": [
            "52/52 [==============================] - 0s 4ms/step - loss: 0.1980 - accuracy: 0.9667\n",
            "Restored model train, accuracy: 96.67%\n"
          ]
        }
      ]
    },
    {
      "cell_type": "code",
      "source": [
        "from sklearn.metrics import classification_report, confusion_matrix,accuracy_score\n",
        "import seaborn as sn\n",
        "\n",
        "print(classification_report(new_Ytest,abc))\n",
        "\n",
        "acc = float(accuracy_score(new_Ytest,abc))*100\n",
        "print(\"----accuracy score %s ----\" % acc)\n",
        "\n",
        "cm = confusion_matrix(new_Ytest,abc)\n",
        "#df_cm = pd.DataFrame(cm)\n",
        "class_names = ['neutral','calm', 'happy','sad','angry', 'fearful' ]\n",
        "df_cm = pd.DataFrame(cm, index=class_names, columns=class_names,)\n",
        "sn.heatmap(df_cm, annot=True, fmt='')\n",
        "plt.show()"
      ],
      "metadata": {
        "colab": {
          "base_uri": "https://localhost:8080/",
          "height": 508
        },
        "id": "SfSC3El94LZg",
        "outputId": "a8fd4f2c-8a07-4f99-cb3a-529b790053f4"
      },
      "execution_count": 28,
      "outputs": [
        {
          "output_type": "stream",
          "name": "stdout",
          "text": [
            "              precision    recall  f1-score   support\n",
            "\n",
            "           0       0.85      0.61      0.71        18\n",
            "           1       0.70      0.85      0.77        41\n",
            "           2       0.82      0.80      0.81        45\n",
            "           3       0.67      0.71      0.69        31\n",
            "           4       0.82      0.94      0.87        33\n",
            "           5       0.90      0.67      0.76        39\n",
            "\n",
            "    accuracy                           0.78       207\n",
            "   macro avg       0.79      0.76      0.77       207\n",
            "weighted avg       0.79      0.78      0.78       207\n",
            "\n",
            "----accuracy score 77.77777777777779 ----\n"
          ]
        },
        {
          "output_type": "display_data",
          "data": {
            "text/plain": [
              "<Figure size 432x288 with 2 Axes>"
            ],
            "image/png": "[encoded data removed]"
          },
          "metadata": {
            "needs_background": "light"
          }
        }
      ]
    }
  ]
}