{
  "nbformat": 4,
  "nbformat_minor": 0,
  "metadata": {
    "colab": {
      "name": "original_remove_2_dense_layers_RMS_lr=0_0002_try_3_ increase kernal size to 4.ipynb",
      "provenance": [],
      "collapsed_sections": []
    },
    "kernelspec": {
      "name": "python3",
      "display_name": "Python 3"
    },
    "language_info": {
      "name": "python"
    },
    "accelerator": "TPU"
  },
  "cells": [
    {
      "cell_type": "code",
      "execution_count": 1,
      "metadata": {
        "colab": {
          "base_uri": "https://localhost:8080/"
        },
        "id": "9SRCO-a_AlH5",
        "outputId": "7435dcc8-70ad-49d2-e5b9-cf54b7d42b5a"
      },
      "outputs": [
        {
          "output_type": "stream",
          "name": "stdout",
          "text": [
            "Drive already mounted at /content/drive; to attempt to forcibly remount, call drive.mount(\"/content/drive\", force_remount=True).\n"
          ]
        }
      ],
      "source": [
        "from google.colab import drive\n",
        "drive.mount('/content/drive')"
      ]
    },
    {
      "cell_type": "code",
      "source": [
        "!pip install librosa"
      ],
      "metadata": {
        "colab": {
          "base_uri": "https://localhost:8080/"
        },
        "id": "5Lo4mUwG9RMd",
        "outputId": "a8e80149-dd9a-4fea-ce81-4d54b1016275"
      },
      "execution_count": 2,
      "outputs": [
        {
          "output_type": "stream",
          "name": "stdout",
          "text": [
            "Looking in indexes: https://pypi.org/simple, https://us-python.pkg.dev/colab-wheels/public/simple/\n",
            "Requirement already satisfied: librosa in /usr/local/lib/python3.7/dist-packages (0.8.1)\n",
            "Requirement already satisfied: joblib>=0.14 in /usr/local/lib/python3.7/dist-packages (from librosa) (1.1.0)\n",
            "Requirement already satisfied: resampy>=0.2.2 in /usr/local/lib/python3.7/dist-packages (from librosa) (0.2.2)\n",
            "Requirement already satisfied: pooch>=1.0 in /usr/local/lib/python3.7/dist-packages (from librosa) (1.6.0)\n",
            "Requirement already satisfied: numpy>=1.15.0 in /usr/local/lib/python3.7/dist-packages (from librosa) (1.21.6)\n",
            "Requirement already satisfied: scipy>=1.0.0 in /usr/local/lib/python3.7/dist-packages (from librosa) (1.4.1)\n",
            "Requirement already satisfied: packaging>=20.0 in /usr/local/lib/python3.7/dist-packages (from librosa) (21.3)\n",
            "Requirement already satisfied: numba>=0.43.0 in /usr/local/lib/python3.7/dist-packages (from librosa) (0.51.2)\n",
            "Requirement already satisfied: soundfile>=0.10.2 in /usr/local/lib/python3.7/dist-packages (from librosa) (0.10.3.post1)\n",
            "Requirement already satisfied: audioread>=2.0.0 in /usr/local/lib/python3.7/dist-packages (from librosa) (2.1.9)\n",
            "Requirement already satisfied: scikit-learn!=0.19.0,>=0.14.0 in /usr/local/lib/python3.7/dist-packages (from librosa) (1.0.2)\n",
            "Requirement already satisfied: decorator>=3.0.0 in /usr/local/lib/python3.7/dist-packages (from librosa) (4.4.2)\n",
            "Requirement already satisfied: llvmlite<0.35,>=0.34.0.dev0 in /usr/local/lib/python3.7/dist-packages (from numba>=0.43.0->librosa) (0.34.0)\n",
            "Requirement already satisfied: setuptools in /usr/local/lib/python3.7/dist-packages (from numba>=0.43.0->librosa) (57.4.0)\n",
            "Requirement already satisfied: pyparsing!=3.0.5,>=2.0.2 in /usr/local/lib/python3.7/dist-packages (from packaging>=20.0->librosa) (3.0.9)\n",
            "Requirement already satisfied: requests>=2.19.0 in /usr/local/lib/python3.7/dist-packages (from pooch>=1.0->librosa) (2.23.0)\n",
            "Requirement already satisfied: appdirs>=1.3.0 in /usr/local/lib/python3.7/dist-packages (from pooch>=1.0->librosa) (1.4.4)\n",
            "Requirement already satisfied: idna<3,>=2.5 in /usr/local/lib/python3.7/dist-packages (from requests>=2.19.0->pooch>=1.0->librosa) (2.10)\n",
            "Requirement already satisfied: urllib3!=1.25.0,!=1.25.1,<1.26,>=1.21.1 in /usr/local/lib/python3.7/dist-packages (from requests>=2.19.0->pooch>=1.0->librosa) (1.24.3)\n",
            "Requirement already satisfied: certifi>=2017.4.17 in /usr/local/lib/python3.7/dist-packages (from requests>=2.19.0->pooch>=1.0->librosa) (2022.5.18.1)\n",
            "Requirement already satisfied: chardet<4,>=3.0.2 in /usr/local/lib/python3.7/dist-packages (from requests>=2.19.0->pooch>=1.0->librosa) (3.0.4)\n",
            "Requirement already satisfied: six>=1.3 in /usr/local/lib/python3.7/dist-packages (from resampy>=0.2.2->librosa) (1.15.0)\n",
            "Requirement already satisfied: threadpoolctl>=2.0.0 in /usr/local/lib/python3.7/dist-packages (from scikit-learn!=0.19.0,>=0.14.0->librosa) (3.1.0)\n",
            "Requirement already satisfied: cffi>=1.0 in /usr/local/lib/python3.7/dist-packages (from soundfile>=0.10.2->librosa) (1.15.0)\n",
            "Requirement already satisfied: pycparser in /usr/local/lib/python3.7/dist-packages (from cffi>=1.0->soundfile>=0.10.2->librosa) (2.21)\n"
          ]
        }
      ]
    },
    {
      "cell_type": "code",
      "metadata": {
        "id": "HJjcbxwy46bG",
        "colab": {
          "base_uri": "https://localhost:8080/",
          "height": 17
        },
        "outputId": "3e21f08a-17e0-4731-abfd-7121d85bf9a8"
      },
      "source": [
        "# Orignial Notebook: https://github.com/MITESHPUTHRANNEU/Speech-Emotion-Analyzer/blob/master/final_results_gender_test.ipynb\n",
        "# This notebook author: Reza Chu\n",
        "# Last Editing Date: 31st May 2019\n",
        "\n",
        "## Python\n",
        "import os\n",
        "import random\n",
        "import sys\n",
        "\n",
        "import IPython\n",
        "from IPython.display import Audio\n",
        "from IPython.display import Image\n",
        "import matplotlib.pyplot as plt\n",
        "\n",
        "## Package\n",
        "import glob \n",
        "import keras\n",
        "import IPython.display as ipd\n",
        "import librosa\n",
        "import librosa.display\n",
        "import matplotlib.pyplot as plt\n",
        "import numpy as np\n",
        "import pandas as pd\n",
        "import plotly.graph_objs as go\n",
        "import plotly.offline as py\n",
        "import plotly.tools as tls\n",
        "import seaborn as sns\n",
        "import scipy.io.wavfile\n",
        "import tensorflow as tf\n",
        "py.init_notebook_mode(connected=True)\n",
        "\n",
        "## Keras\n",
        "from keras import regularizers\n",
        "from keras.callbacks import ModelCheckpoint, LearningRateScheduler, EarlyStopping\n",
        "from keras.callbacks import  History, ReduceLROnPlateau, CSVLogger\n",
        "from keras.models import Model, Sequential\n",
        "from keras.layers import Dense, Embedding, LSTM\n",
        "from keras.layers import Input, Flatten, Dropout, Activation, BatchNormalization\n",
        "from keras.layers import Conv1D, MaxPooling1D, AveragePooling1D\n",
        "from keras.preprocessing import sequence\n",
        "from keras.preprocessing.sequence import pad_sequences\n",
        "from keras.preprocessing.text import Tokenizer\n",
        "from keras.utils import np_utils\n",
        "from tensorflow.keras.utils import to_categorical\n",
        "\n",
        "## Sklearn\n",
        "from sklearn.metrics import confusion_matrix\n",
        "from sklearn.preprocessing import LabelEncoder\n",
        "\n",
        "## Rest\n",
        "from scipy.fftpack import fft\n",
        "from scipy import signal\n",
        "from scipy.io import wavfile\n",
        "from tqdm import tqdm\n",
        "\n",
        "input_duration=3\n",
        "# % pylab inline"
      ],
      "execution_count": 3,
      "outputs": [
        {
          "output_type": "display_data",
          "data": {
            "text/html": [
              "        <script type=\"text/javascript\">\n",
              "        window.PlotlyConfig = {MathJaxConfig: 'local'};\n",
              "        if (window.MathJax) {MathJax.Hub.Config({SVG: {font: \"STIX-Web\"}});}\n",
              "        if (typeof require !== 'undefined') {\n",
              "        require.undef(\"plotly\");\n",
              "        requirejs.config({\n",
              "            paths: {\n",
              "                'plotly': ['https://cdn.plot.ly/plotly-2.8.3.min']\n",
              "            }\n",
              "        });\n",
              "        require(['plotly'], function(Plotly) {\n",
              "            window._Plotly = Plotly;\n",
              "        });\n",
              "        }\n",
              "        </script>\n",
              "        "
            ]
          },
          "metadata": {}
        }
      ]
    },
    {
      "cell_type": "code",
      "source": [
        "# # Saving joblib files to not load them again with the loop above\n",
        "\n",
        "# import joblib\n",
        "\n",
        "# X_name = 'x.joblib'\n",
        "# y_name = 'y.joblib'\n",
        "# save_dir = '/content/drive/My Drive/graduation project/audio/paper_code/features'\n",
        "\n",
        "# savedX = joblib.dump(X, os.path.join(save_dir, X_name))\n",
        "# savedy = joblib.dump(y, os.path.join(save_dir, y_name))"
      ],
      "metadata": {
        "id": "UCzic8rlDcuk"
      },
      "execution_count": 4,
      "outputs": []
    },
    {
      "cell_type": "code",
      "source": [
        "# # Loading saved models\n",
        "import joblib\n",
        "X = joblib.load('/content/drive/My Drive/graduation project/audio/paper_code/features/x.joblib')\n",
        "y = joblib.load('/content/drive/My Drive/graduation project/audio/paper_code/features/y.joblib')"
      ],
      "metadata": {
        "id": "Q35CN6zDrzg1"
      },
      "execution_count": 5,
      "outputs": []
    },
    {
      "cell_type": "code",
      "source": [
        "X.shape"
      ],
      "metadata": {
        "id": "7PSTurzjCo5K",
        "colab": {
          "base_uri": "https://localhost:8080/"
        },
        "outputId": "c3e2e737-165a-4316-bdb3-649200ca6c21"
      },
      "execution_count": 6,
      "outputs": [
        {
          "output_type": "execute_result",
          "data": {
            "text/plain": [
              "(2068, 40)"
            ]
          },
          "metadata": {},
          "execution_count": 6
        }
      ]
    },
    {
      "cell_type": "code",
      "source": [
        "from sklearn.model_selection import train_test_split\n",
        "\n",
        "X_train, X_test, y_train, y_test = train_test_split(X,y, test_size=0.1 ,shuffle = True\n",
        "                                                    , random_state=42)\n",
        "X_train , X_valid, y_train, y_valid = train_test_split(X_train,y_train, test_size=0.1112305212 , shuffle = True \n",
        "                                                       , random_state=42)"
      ],
      "metadata": {
        "id": "Ai4Fy5cPCiq1"
      },
      "execution_count": 7,
      "outputs": []
    },
    {
      "cell_type": "code",
      "source": [
        "import numpy as np\n",
        "x_traincnn = np.expand_dims(X_train, axis=2)\n",
        "x_testcnn = np.expand_dims(X_test, axis=2)\n",
        "X_valid= np.expand_dims(X_valid, axis=2)"
      ],
      "metadata": {
        "id": "tp1Fm5K3CEXu"
      },
      "execution_count": 8,
      "outputs": []
    },
    {
      "cell_type": "code",
      "source": [
        "x_traincnn.shape, x_testcnn.shape , X_valid.shape\n",
        "#1861"
      ],
      "metadata": {
        "id": "RI0MxoIPBws5",
        "colab": {
          "base_uri": "https://localhost:8080/"
        },
        "outputId": "c6b60ef5-c75e-461b-df88-fe176e46d9f8"
      },
      "execution_count": 9,
      "outputs": [
        {
          "output_type": "execute_result",
          "data": {
            "text/plain": [
              "((1654, 40, 1), (207, 40, 1), (207, 40, 1))"
            ]
          },
          "metadata": {},
          "execution_count": 9
        }
      ]
    },
    {
      "cell_type": "code",
      "source": [
        "!pip install tensorflow"
      ],
      "metadata": {
        "id": "oALhiMUd9G2Y",
        "colab": {
          "base_uri": "https://localhost:8080/"
        },
        "outputId": "78683a9f-d309-4851-b3e0-6e1d127dfe19"
      },
      "execution_count": 10,
      "outputs": [
        {
          "output_type": "stream",
          "name": "stdout",
          "text": [
            "Looking in indexes: https://pypi.org/simple, https://us-python.pkg.dev/colab-wheels/public/simple/\n",
            "Requirement already satisfied: tensorflow in /usr/local/lib/python3.7/dist-packages (2.8.2+zzzcolab20220527125636)\n",
            "Requirement already satisfied: absl-py>=0.4.0 in /usr/local/lib/python3.7/dist-packages (from tensorflow) (1.0.0)\n",
            "Requirement already satisfied: astunparse>=1.6.0 in /usr/local/lib/python3.7/dist-packages (from tensorflow) (1.6.3)\n",
            "Requirement already satisfied: grpcio<2.0,>=1.24.3 in /usr/local/lib/python3.7/dist-packages (from tensorflow) (1.46.3)\n",
            "Requirement already satisfied: gast>=0.2.1 in /usr/local/lib/python3.7/dist-packages (from tensorflow) (0.5.3)\n",
            "Requirement already satisfied: opt-einsum>=2.3.2 in /usr/local/lib/python3.7/dist-packages (from tensorflow) (3.3.0)\n",
            "Requirement already satisfied: libclang>=9.0.1 in /usr/local/lib/python3.7/dist-packages (from tensorflow) (14.0.1)\n",
            "Requirement already satisfied: tensorboard<2.9,>=2.8 in /usr/local/lib/python3.7/dist-packages (from tensorflow) (2.8.0)\n",
            "Requirement already satisfied: h5py>=2.9.0 in /usr/local/lib/python3.7/dist-packages (from tensorflow) (3.1.0)\n",
            "Requirement already satisfied: typing-extensions>=3.6.6 in /usr/local/lib/python3.7/dist-packages (from tensorflow) (4.2.0)\n",
            "Requirement already satisfied: protobuf<3.20,>=3.9.2 in /usr/local/lib/python3.7/dist-packages (from tensorflow) (3.17.3)\n",
            "Requirement already satisfied: tensorflow-estimator<2.9,>=2.8 in /usr/local/lib/python3.7/dist-packages (from tensorflow) (2.8.0)\n",
            "Requirement already satisfied: flatbuffers>=1.12 in /usr/local/lib/python3.7/dist-packages (from tensorflow) (2.0)\n",
            "Requirement already satisfied: numpy>=1.20 in /usr/local/lib/python3.7/dist-packages (from tensorflow) (1.21.6)\n",
            "Requirement already satisfied: termcolor>=1.1.0 in /usr/local/lib/python3.7/dist-packages (from tensorflow) (1.1.0)\n",
            "Requirement already satisfied: keras-preprocessing>=1.1.1 in /usr/local/lib/python3.7/dist-packages (from tensorflow) (1.1.2)\n",
            "Requirement already satisfied: wrapt>=1.11.0 in /usr/local/lib/python3.7/dist-packages (from tensorflow) (1.14.1)\n",
            "Requirement already satisfied: setuptools in /usr/local/lib/python3.7/dist-packages (from tensorflow) (57.4.0)\n",
            "Requirement already satisfied: tensorflow-io-gcs-filesystem>=0.23.1 in /usr/local/lib/python3.7/dist-packages (from tensorflow) (0.26.0)\n",
            "Requirement already satisfied: keras<2.9,>=2.8.0rc0 in /usr/local/lib/python3.7/dist-packages (from tensorflow) (2.8.0)\n",
            "Requirement already satisfied: google-pasta>=0.1.1 in /usr/local/lib/python3.7/dist-packages (from tensorflow) (0.2.0)\n",
            "Requirement already satisfied: six>=1.12.0 in /usr/local/lib/python3.7/dist-packages (from tensorflow) (1.15.0)\n",
            "Requirement already satisfied: wheel<1.0,>=0.23.0 in /usr/local/lib/python3.7/dist-packages (from astunparse>=1.6.0->tensorflow) (0.37.1)\n",
            "Requirement already satisfied: cached-property in /usr/local/lib/python3.7/dist-packages (from h5py>=2.9.0->tensorflow) (1.5.2)\n",
            "Requirement already satisfied: google-auth-oauthlib<0.5,>=0.4.1 in /usr/local/lib/python3.7/dist-packages (from tensorboard<2.9,>=2.8->tensorflow) (0.4.6)\n",
            "Requirement already satisfied: tensorboard-data-server<0.7.0,>=0.6.0 in /usr/local/lib/python3.7/dist-packages (from tensorboard<2.9,>=2.8->tensorflow) (0.6.1)\n",
            "Requirement already satisfied: tensorboard-plugin-wit>=1.6.0 in /usr/local/lib/python3.7/dist-packages (from tensorboard<2.9,>=2.8->tensorflow) (1.8.1)\n",
            "Requirement already satisfied: werkzeug>=0.11.15 in /usr/local/lib/python3.7/dist-packages (from tensorboard<2.9,>=2.8->tensorflow) (1.0.1)\n",
            "Requirement already satisfied: requests<3,>=2.21.0 in /usr/local/lib/python3.7/dist-packages (from tensorboard<2.9,>=2.8->tensorflow) (2.23.0)\n",
            "Requirement already satisfied: markdown>=2.6.8 in /usr/local/lib/python3.7/dist-packages (from tensorboard<2.9,>=2.8->tensorflow) (3.3.7)\n",
            "Requirement already satisfied: google-auth<3,>=1.6.3 in /usr/local/lib/python3.7/dist-packages (from tensorboard<2.9,>=2.8->tensorflow) (1.35.0)\n",
            "Requirement already satisfied: rsa<5,>=3.1.4 in /usr/local/lib/python3.7/dist-packages (from google-auth<3,>=1.6.3->tensorboard<2.9,>=2.8->tensorflow) (4.8)\n",
            "Requirement already satisfied: pyasn1-modules>=0.2.1 in /usr/local/lib/python3.7/dist-packages (from google-auth<3,>=1.6.3->tensorboard<2.9,>=2.8->tensorflow) (0.2.8)\n",
            "Requirement already satisfied: cachetools<5.0,>=2.0.0 in /usr/local/lib/python3.7/dist-packages (from google-auth<3,>=1.6.3->tensorboard<2.9,>=2.8->tensorflow) (4.2.4)\n",
            "Requirement already satisfied: requests-oauthlib>=0.7.0 in /usr/local/lib/python3.7/dist-packages (from google-auth-oauthlib<0.5,>=0.4.1->tensorboard<2.9,>=2.8->tensorflow) (1.3.1)\n",
            "Requirement already satisfied: importlib-metadata>=4.4 in /usr/local/lib/python3.7/dist-packages (from markdown>=2.6.8->tensorboard<2.9,>=2.8->tensorflow) (4.11.4)\n",
            "Requirement already satisfied: zipp>=0.5 in /usr/local/lib/python3.7/dist-packages (from importlib-metadata>=4.4->markdown>=2.6.8->tensorboard<2.9,>=2.8->tensorflow) (3.8.0)\n",
            "Requirement already satisfied: pyasn1<0.5.0,>=0.4.6 in /usr/local/lib/python3.7/dist-packages (from pyasn1-modules>=0.2.1->google-auth<3,>=1.6.3->tensorboard<2.9,>=2.8->tensorflow) (0.4.8)\n",
            "Requirement already satisfied: certifi>=2017.4.17 in /usr/local/lib/python3.7/dist-packages (from requests<3,>=2.21.0->tensorboard<2.9,>=2.8->tensorflow) (2022.5.18.1)\n",
            "Requirement already satisfied: chardet<4,>=3.0.2 in /usr/local/lib/python3.7/dist-packages (from requests<3,>=2.21.0->tensorboard<2.9,>=2.8->tensorflow) (3.0.4)\n",
            "Requirement already satisfied: urllib3!=1.25.0,!=1.25.1,<1.26,>=1.21.1 in /usr/local/lib/python3.7/dist-packages (from requests<3,>=2.21.0->tensorboard<2.9,>=2.8->tensorflow) (1.24.3)\n",
            "Requirement already satisfied: idna<3,>=2.5 in /usr/local/lib/python3.7/dist-packages (from requests<3,>=2.21.0->tensorboard<2.9,>=2.8->tensorflow) (2.10)\n",
            "Requirement already satisfied: oauthlib>=3.0.0 in /usr/local/lib/python3.7/dist-packages (from requests-oauthlib>=0.7.0->google-auth-oauthlib<0.5,>=0.4.1->tensorboard<2.9,>=2.8->tensorflow) (3.2.0)\n"
          ]
        }
      ]
    },
    {
      "cell_type": "code",
      "source": [
        "import keras\n",
        "import numpy as np\n",
        "import matplotlib.pyplot as plt\n",
        "import tensorflow as tf\n",
        "from keras.preprocessing import sequence\n",
        "from keras.models import Sequential\n",
        "from keras.layers import Dense, Embedding\n",
        "from tensorflow.keras.utils import to_categorical\n",
        "from keras.layers import Input, Flatten, Dropout, Activation\n",
        "from keras.layers import Conv1D, MaxPooling1D\n",
        "from keras.models import Model\n",
        "from keras.callbacks import ModelCheckpoint\n",
        "from tensorflow.keras import optimizers\n",
        "\n",
        "model = Sequential()\n",
        "\n",
        "model.add(Conv1D(128, 4,padding='same', #classifier.add(Convolution2D(64, (3, 3), padding = 'same', input_shape = (128, 128, 3), activation = 'relu'))\n",
        "                 input_shape=(40,1)))\n",
        "model.add(Activation('relu'))\n",
        "model.add(Dropout(0.3))\n",
        "model.add(MaxPooling1D(pool_size=(5)))\n",
        "\n",
        "\n",
        "model.add(Conv1D(256,4,padding='same',))\n",
        "model.add(Activation('relu'))\n",
        "model.add(Dropout(0.3))\n",
        "model.add(MaxPooling1D(pool_size=(5)))\n",
        "\n",
        "#model.add(MaxPooling1D(pool_size=(5)))\n",
        "\n",
        "model.add(Flatten())\n",
        "\n",
        "\n",
        "\n",
        "model.add(Dense(6))\n",
        "model.add(Activation('softmax'))\n",
        "\n",
        "\n",
        "opt = tf.keras.optimizers.RMSprop(lr=0.0002 , decay=0.0)\n",
        "#opt = tf.keras.optimizers.Adam(lr=0.0002 , decay=0.0)\n",
        "#opt = tf.keras.optimizers.RMSprop(lr=0.0001, rho=0.9, epsilon=1e-07, decay=0.0)\n",
        "#opt = tf.keras.optimizers.SGD(lr=0.001, momentum=0.0, decay=0.0, nesterov=False)"
      ],
      "metadata": {
        "id": "g74fXWVAC4Cr",
        "colab": {
          "base_uri": "https://localhost:8080/"
        },
        "outputId": "d6155ac3-7c5c-4582-b40c-e68f70b4245e"
      },
      "execution_count": 11,
      "outputs": [
        {
          "output_type": "stream",
          "name": "stderr",
          "text": [
            "/usr/local/lib/python3.7/dist-packages/keras/optimizer_v2/rmsprop.py:130: UserWarning:\n",
            "\n",
            "The `lr` argument is deprecated, use `learning_rate` instead.\n",
            "\n"
          ]
        }
      ]
    },
    {
      "cell_type": "code",
      "source": [
        "model.summary()"
      ],
      "metadata": {
        "id": "H6ukOxAGC_I4",
        "colab": {
          "base_uri": "https://localhost:8080/"
        },
        "outputId": "554643a9-6424-4ed6-f5f3-345190e2ad90"
      },
      "execution_count": 12,
      "outputs": [
        {
          "output_type": "stream",
          "name": "stdout",
          "text": [
            "Model: \"sequential\"\n",
            "_________________________________________________________________\n",
            " Layer (type)                Output Shape              Param #   \n",
            "=================================================================\n",
            " conv1d (Conv1D)             (None, 40, 128)           640       \n",
            "                                                                 \n",
            " activation (Activation)     (None, 40, 128)           0         \n",
            "                                                                 \n",
            " dropout (Dropout)           (None, 40, 128)           0         \n",
            "                                                                 \n",
            " max_pooling1d (MaxPooling1D  (None, 8, 128)           0         \n",
            " )                                                               \n",
            "                                                                 \n",
            " conv1d_1 (Conv1D)           (None, 8, 256)            131328    \n",
            "                                                                 \n",
            " activation_1 (Activation)   (None, 8, 256)            0         \n",
            "                                                                 \n",
            " dropout_1 (Dropout)         (None, 8, 256)            0         \n",
            "                                                                 \n",
            " max_pooling1d_1 (MaxPooling  (None, 1, 256)           0         \n",
            " 1D)                                                             \n",
            "                                                                 \n",
            " flatten (Flatten)           (None, 256)               0         \n",
            "                                                                 \n",
            " dense (Dense)               (None, 6)                 1542      \n",
            "                                                                 \n",
            " activation_2 (Activation)   (None, 6)                 0         \n",
            "                                                                 \n",
            "=================================================================\n",
            "Total params: 133,510\n",
            "Trainable params: 133,510\n",
            "Non-trainable params: 0\n",
            "_________________________________________________________________\n"
          ]
        }
      ]
    },
    {
      "cell_type": "code",
      "source": [
        "model.compile(loss='sparse_categorical_crossentropy',\n",
        "              optimizer=opt,\n",
        "              metrics=['accuracy'])"
      ],
      "metadata": {
        "id": "AbMlLNk4DCBM"
      },
      "execution_count": 13,
      "outputs": []
    },
    {
      "cell_type": "code",
      "source": [
        "# Create an Instance of Early Stopping Callback.\n",
        "early_stopping_callback = EarlyStopping(monitor = 'val_loss', patience = 25, mode = 'min', restore_best_weights = True)\n",
        "\n",
        "cnnhistory=model.fit(x_traincnn, y_train, batch_size=16, epochs=500 , shuffle = True, \n",
        "                     validation_data=(X_valid, y_valid) , callbacks = [early_stopping_callback])"
      ],
      "metadata": {
        "id": "RI1v2AuADFhy",
        "colab": {
          "base_uri": "https://localhost:8080/"
        },
        "outputId": "9c8a1c5c-e1c4-4f44-956f-a453843bf2ef"
      },
      "execution_count": 14,
      "outputs": [
        {
          "output_type": "stream",
          "name": "stdout",
          "text": [
            "Epoch 1/500\n",
            "104/104 [==============================] - 3s 21ms/step - loss: 16.2675 - accuracy: 0.1759 - val_loss: 3.9684 - val_accuracy: 0.2077\n",
            "Epoch 2/500\n",
            "104/104 [==============================] - 3s 26ms/step - loss: 10.4678 - accuracy: 0.2068 - val_loss: 4.2688 - val_accuracy: 0.2029\n",
            "Epoch 3/500\n",
            "104/104 [==============================] - 3s 29ms/step - loss: 7.2048 - accuracy: 0.2050 - val_loss: 2.7128 - val_accuracy: 0.1932\n",
            "Epoch 4/500\n",
            "104/104 [==============================] - 4s 33ms/step - loss: 4.9237 - accuracy: 0.2031 - val_loss: 1.9638 - val_accuracy: 0.2609\n",
            "Epoch 5/500\n",
            "104/104 [==============================] - 3s 26ms/step - loss: 3.2709 - accuracy: 0.2285 - val_loss: 1.7050 - val_accuracy: 0.2560\n",
            "Epoch 6/500\n",
            "104/104 [==============================] - 3s 28ms/step - loss: 2.1817 - accuracy: 0.2467 - val_loss: 1.7138 - val_accuracy: 0.2367\n",
            "Epoch 7/500\n",
            "104/104 [==============================] - 3s 25ms/step - loss: 1.8340 - accuracy: 0.3017 - val_loss: 1.6737 - val_accuracy: 0.3043\n",
            "Epoch 8/500\n",
            "104/104 [==============================] - 3s 31ms/step - loss: 1.7114 - accuracy: 0.3053 - val_loss: 1.6292 - val_accuracy: 0.3623\n",
            "Epoch 9/500\n",
            "104/104 [==============================] - 2s 23ms/step - loss: 1.6721 - accuracy: 0.3259 - val_loss: 1.6180 - val_accuracy: 0.3333\n",
            "Epoch 10/500\n",
            "104/104 [==============================] - 3s 26ms/step - loss: 1.6180 - accuracy: 0.3356 - val_loss: 1.5964 - val_accuracy: 0.3478\n",
            "Epoch 11/500\n",
            "104/104 [==============================] - 4s 34ms/step - loss: 1.6109 - accuracy: 0.3476 - val_loss: 1.5686 - val_accuracy: 0.3865\n",
            "Epoch 12/500\n",
            "104/104 [==============================] - 3s 28ms/step - loss: 1.5792 - accuracy: 0.3676 - val_loss: 1.5418 - val_accuracy: 0.4155\n",
            "Epoch 13/500\n",
            "104/104 [==============================] - 3s 28ms/step - loss: 1.5366 - accuracy: 0.3712 - val_loss: 1.5061 - val_accuracy: 0.4203\n",
            "Epoch 14/500\n",
            "104/104 [==============================] - 3s 26ms/step - loss: 1.5196 - accuracy: 0.3797 - val_loss: 1.4820 - val_accuracy: 0.4203\n",
            "Epoch 15/500\n",
            "104/104 [==============================] - 3s 26ms/step - loss: 1.4982 - accuracy: 0.3972 - val_loss: 1.4640 - val_accuracy: 0.4638\n",
            "Epoch 16/500\n",
            "104/104 [==============================] - 2s 17ms/step - loss: 1.4830 - accuracy: 0.4075 - val_loss: 1.4302 - val_accuracy: 0.4928\n",
            "Epoch 17/500\n",
            "104/104 [==============================] - 2s 17ms/step - loss: 1.4292 - accuracy: 0.4311 - val_loss: 1.4536 - val_accuracy: 0.4300\n",
            "Epoch 18/500\n",
            "104/104 [==============================] - 2s 17ms/step - loss: 1.4299 - accuracy: 0.4129 - val_loss: 1.4207 - val_accuracy: 0.5169\n",
            "Epoch 19/500\n",
            "104/104 [==============================] - 2s 17ms/step - loss: 1.4159 - accuracy: 0.4184 - val_loss: 1.4065 - val_accuracy: 0.4831\n",
            "Epoch 20/500\n",
            "104/104 [==============================] - 2s 19ms/step - loss: 1.4015 - accuracy: 0.4474 - val_loss: 1.4196 - val_accuracy: 0.4493\n",
            "Epoch 21/500\n",
            "104/104 [==============================] - 2s 18ms/step - loss: 1.3693 - accuracy: 0.4631 - val_loss: 1.3872 - val_accuracy: 0.4348\n",
            "Epoch 22/500\n",
            "104/104 [==============================] - 2s 17ms/step - loss: 1.3776 - accuracy: 0.4504 - val_loss: 1.3646 - val_accuracy: 0.4783\n",
            "Epoch 23/500\n",
            "104/104 [==============================] - 2s 18ms/step - loss: 1.3764 - accuracy: 0.4444 - val_loss: 1.3477 - val_accuracy: 0.5362\n",
            "Epoch 24/500\n",
            "104/104 [==============================] - 2s 16ms/step - loss: 1.3297 - accuracy: 0.4686 - val_loss: 1.3281 - val_accuracy: 0.5169\n",
            "Epoch 25/500\n",
            "104/104 [==============================] - 2s 18ms/step - loss: 1.3260 - accuracy: 0.4782 - val_loss: 1.3403 - val_accuracy: 0.4976\n",
            "Epoch 26/500\n",
            "104/104 [==============================] - 2s 20ms/step - loss: 1.2983 - accuracy: 0.4897 - val_loss: 1.3115 - val_accuracy: 0.4976\n",
            "Epoch 27/500\n",
            "104/104 [==============================] - 2s 18ms/step - loss: 1.3069 - accuracy: 0.4776 - val_loss: 1.2767 - val_accuracy: 0.5362\n",
            "Epoch 28/500\n",
            "104/104 [==============================] - 2s 18ms/step - loss: 1.3068 - accuracy: 0.4752 - val_loss: 1.2881 - val_accuracy: 0.5459\n",
            "Epoch 29/500\n",
            "104/104 [==============================] - 2s 18ms/step - loss: 1.2849 - accuracy: 0.5018 - val_loss: 1.2703 - val_accuracy: 0.5604\n",
            "Epoch 30/500\n",
            "104/104 [==============================] - 2s 17ms/step - loss: 1.2831 - accuracy: 0.4946 - val_loss: 1.3048 - val_accuracy: 0.5314\n",
            "Epoch 31/500\n",
            "104/104 [==============================] - 2s 20ms/step - loss: 1.2501 - accuracy: 0.4994 - val_loss: 1.2681 - val_accuracy: 0.5314\n",
            "Epoch 32/500\n",
            "104/104 [==============================] - 2s 19ms/step - loss: 1.2305 - accuracy: 0.5048 - val_loss: 1.2469 - val_accuracy: 0.5556\n",
            "Epoch 33/500\n",
            "104/104 [==============================] - 2s 17ms/step - loss: 1.2533 - accuracy: 0.5097 - val_loss: 1.2540 - val_accuracy: 0.5556\n",
            "Epoch 34/500\n",
            "104/104 [==============================] - 2s 17ms/step - loss: 1.2416 - accuracy: 0.5127 - val_loss: 1.2277 - val_accuracy: 0.5604\n",
            "Epoch 35/500\n",
            "104/104 [==============================] - 2s 19ms/step - loss: 1.2309 - accuracy: 0.5230 - val_loss: 1.2288 - val_accuracy: 0.5507\n",
            "Epoch 36/500\n",
            "104/104 [==============================] - 2s 18ms/step - loss: 1.2008 - accuracy: 0.5284 - val_loss: 1.2033 - val_accuracy: 0.5700\n",
            "Epoch 37/500\n",
            "104/104 [==============================] - 2s 17ms/step - loss: 1.1991 - accuracy: 0.5260 - val_loss: 1.2144 - val_accuracy: 0.5894\n",
            "Epoch 38/500\n",
            "104/104 [==============================] - 2s 18ms/step - loss: 1.1874 - accuracy: 0.5357 - val_loss: 1.2164 - val_accuracy: 0.5556\n",
            "Epoch 39/500\n",
            "104/104 [==============================] - 2s 17ms/step - loss: 1.1946 - accuracy: 0.5236 - val_loss: 1.2052 - val_accuracy: 0.5556\n",
            "Epoch 40/500\n",
            "104/104 [==============================] - 2s 17ms/step - loss: 1.1755 - accuracy: 0.5472 - val_loss: 1.1948 - val_accuracy: 0.5797\n",
            "Epoch 41/500\n",
            "104/104 [==============================] - 2s 19ms/step - loss: 1.1575 - accuracy: 0.5496 - val_loss: 1.1951 - val_accuracy: 0.5459\n",
            "Epoch 42/500\n",
            "104/104 [==============================] - 2s 17ms/step - loss: 1.1566 - accuracy: 0.5574 - val_loss: 1.1630 - val_accuracy: 0.5894\n",
            "Epoch 43/500\n",
            "104/104 [==============================] - 2s 16ms/step - loss: 1.1615 - accuracy: 0.5459 - val_loss: 1.1792 - val_accuracy: 0.5700\n",
            "Epoch 44/500\n",
            "104/104 [==============================] - 2s 18ms/step - loss: 1.1442 - accuracy: 0.5363 - val_loss: 1.1412 - val_accuracy: 0.5845\n",
            "Epoch 45/500\n",
            "104/104 [==============================] - 2s 18ms/step - loss: 1.1452 - accuracy: 0.5532 - val_loss: 1.1661 - val_accuracy: 0.5797\n",
            "Epoch 46/500\n",
            "104/104 [==============================] - 2s 22ms/step - loss: 1.1177 - accuracy: 0.5617 - val_loss: 1.1354 - val_accuracy: 0.5942\n",
            "Epoch 47/500\n",
            "104/104 [==============================] - 2s 18ms/step - loss: 1.1165 - accuracy: 0.5611 - val_loss: 1.1549 - val_accuracy: 0.5652\n",
            "Epoch 48/500\n",
            "104/104 [==============================] - 2s 18ms/step - loss: 1.1254 - accuracy: 0.5472 - val_loss: 1.1408 - val_accuracy: 0.5652\n",
            "Epoch 49/500\n",
            "104/104 [==============================] - 2s 17ms/step - loss: 1.1235 - accuracy: 0.5514 - val_loss: 1.1733 - val_accuracy: 0.5652\n",
            "Epoch 50/500\n",
            "104/104 [==============================] - 2s 18ms/step - loss: 1.1080 - accuracy: 0.5568 - val_loss: 1.1335 - val_accuracy: 0.5845\n",
            "Epoch 51/500\n",
            "104/104 [==============================] - 2s 19ms/step - loss: 1.0885 - accuracy: 0.5707 - val_loss: 1.1531 - val_accuracy: 0.5797\n",
            "Epoch 52/500\n",
            "104/104 [==============================] - 2s 16ms/step - loss: 1.0861 - accuracy: 0.5846 - val_loss: 1.1093 - val_accuracy: 0.5845\n",
            "Epoch 53/500\n",
            "104/104 [==============================] - 2s 16ms/step - loss: 1.0717 - accuracy: 0.5726 - val_loss: 1.1011 - val_accuracy: 0.6232\n",
            "Epoch 54/500\n",
            "104/104 [==============================] - 2s 16ms/step - loss: 1.0861 - accuracy: 0.5713 - val_loss: 1.1060 - val_accuracy: 0.6039\n",
            "Epoch 55/500\n",
            "104/104 [==============================] - 2s 16ms/step - loss: 1.0626 - accuracy: 0.5883 - val_loss: 1.0968 - val_accuracy: 0.6135\n",
            "Epoch 56/500\n",
            "104/104 [==============================] - 2s 18ms/step - loss: 1.0695 - accuracy: 0.5852 - val_loss: 1.1024 - val_accuracy: 0.5845\n",
            "Epoch 57/500\n",
            "104/104 [==============================] - 2s 18ms/step - loss: 1.0762 - accuracy: 0.5750 - val_loss: 1.0586 - val_accuracy: 0.6280\n",
            "Epoch 58/500\n",
            "104/104 [==============================] - 2s 17ms/step - loss: 1.0605 - accuracy: 0.5804 - val_loss: 1.1142 - val_accuracy: 0.5749\n",
            "Epoch 59/500\n",
            "104/104 [==============================] - 2s 16ms/step - loss: 1.0504 - accuracy: 0.5931 - val_loss: 1.1008 - val_accuracy: 0.5556\n",
            "Epoch 60/500\n",
            "104/104 [==============================] - 2s 16ms/step - loss: 1.0487 - accuracy: 0.5889 - val_loss: 1.1112 - val_accuracy: 0.5942\n",
            "Epoch 61/500\n",
            "104/104 [==============================] - 2s 16ms/step - loss: 1.0620 - accuracy: 0.5895 - val_loss: 1.0767 - val_accuracy: 0.5942\n",
            "Epoch 62/500\n",
            "104/104 [==============================] - 2s 16ms/step - loss: 1.0430 - accuracy: 0.6088 - val_loss: 1.0797 - val_accuracy: 0.6039\n",
            "Epoch 63/500\n",
            "104/104 [==============================] - 2s 18ms/step - loss: 1.0112 - accuracy: 0.6167 - val_loss: 1.0629 - val_accuracy: 0.6135\n",
            "Epoch 64/500\n",
            "104/104 [==============================] - 3s 25ms/step - loss: 1.0165 - accuracy: 0.6064 - val_loss: 1.0808 - val_accuracy: 0.6087\n",
            "Epoch 65/500\n",
            "104/104 [==============================] - 2s 18ms/step - loss: 1.0165 - accuracy: 0.5967 - val_loss: 1.0525 - val_accuracy: 0.6135\n",
            "Epoch 66/500\n",
            "104/104 [==============================] - 2s 16ms/step - loss: 1.0210 - accuracy: 0.6010 - val_loss: 1.0594 - val_accuracy: 0.6329\n",
            "Epoch 67/500\n",
            "104/104 [==============================] - 2s 16ms/step - loss: 0.9830 - accuracy: 0.6058 - val_loss: 1.0606 - val_accuracy: 0.6087\n",
            "Epoch 68/500\n",
            "104/104 [==============================] - 2s 17ms/step - loss: 0.9997 - accuracy: 0.5985 - val_loss: 1.0587 - val_accuracy: 0.6135\n",
            "Epoch 69/500\n",
            "104/104 [==============================] - 2s 17ms/step - loss: 1.0065 - accuracy: 0.5967 - val_loss: 1.0435 - val_accuracy: 0.6039\n",
            "Epoch 70/500\n",
            "104/104 [==============================] - 2s 17ms/step - loss: 1.0045 - accuracy: 0.6028 - val_loss: 1.0565 - val_accuracy: 0.6232\n",
            "Epoch 71/500\n",
            "104/104 [==============================] - 2s 17ms/step - loss: 1.0132 - accuracy: 0.6112 - val_loss: 1.0443 - val_accuracy: 0.6184\n",
            "Epoch 72/500\n",
            "104/104 [==============================] - 2s 17ms/step - loss: 0.9790 - accuracy: 0.6197 - val_loss: 1.0380 - val_accuracy: 0.5990\n",
            "Epoch 73/500\n",
            "104/104 [==============================] - 2s 17ms/step - loss: 0.9973 - accuracy: 0.6046 - val_loss: 1.0307 - val_accuracy: 0.6184\n",
            "Epoch 74/500\n",
            "104/104 [==============================] - 3s 31ms/step - loss: 0.9854 - accuracy: 0.6185 - val_loss: 1.0151 - val_accuracy: 0.6232\n",
            "Epoch 75/500\n",
            "104/104 [==============================] - 2s 18ms/step - loss: 0.9531 - accuracy: 0.6366 - val_loss: 1.0173 - val_accuracy: 0.6329\n",
            "Epoch 76/500\n",
            "104/104 [==============================] - 2s 18ms/step - loss: 0.9667 - accuracy: 0.6348 - val_loss: 1.0125 - val_accuracy: 0.6232\n",
            "Epoch 77/500\n",
            "104/104 [==============================] - 2s 17ms/step - loss: 0.9658 - accuracy: 0.6270 - val_loss: 1.0319 - val_accuracy: 0.6135\n",
            "Epoch 78/500\n",
            "104/104 [==============================] - 2s 18ms/step - loss: 0.9630 - accuracy: 0.6209 - val_loss: 1.0137 - val_accuracy: 0.6473\n",
            "Epoch 79/500\n",
            "104/104 [==============================] - 2s 18ms/step - loss: 0.9442 - accuracy: 0.6427 - val_loss: 1.0145 - val_accuracy: 0.6039\n",
            "Epoch 80/500\n",
            "104/104 [==============================] - 2s 17ms/step - loss: 0.9592 - accuracy: 0.6378 - val_loss: 1.0018 - val_accuracy: 0.6280\n",
            "Epoch 81/500\n",
            "104/104 [==============================] - 2s 17ms/step - loss: 0.9255 - accuracy: 0.6469 - val_loss: 0.9730 - val_accuracy: 0.6473\n",
            "Epoch 82/500\n",
            "104/104 [==============================] - 2s 17ms/step - loss: 0.9709 - accuracy: 0.6197 - val_loss: 0.9984 - val_accuracy: 0.6618\n",
            "Epoch 83/500\n",
            "104/104 [==============================] - 2s 20ms/step - loss: 0.9208 - accuracy: 0.6391 - val_loss: 1.0025 - val_accuracy: 0.6184\n",
            "Epoch 84/500\n",
            "104/104 [==============================] - 2s 17ms/step - loss: 0.9234 - accuracy: 0.6282 - val_loss: 0.9805 - val_accuracy: 0.6473\n",
            "Epoch 85/500\n",
            "104/104 [==============================] - 2s 18ms/step - loss: 0.9074 - accuracy: 0.6457 - val_loss: 0.9892 - val_accuracy: 0.6377\n",
            "Epoch 86/500\n",
            "104/104 [==============================] - 2s 17ms/step - loss: 0.9091 - accuracy: 0.6644 - val_loss: 0.9874 - val_accuracy: 0.6618\n",
            "Epoch 87/500\n",
            "104/104 [==============================] - 2s 18ms/step - loss: 0.8943 - accuracy: 0.6578 - val_loss: 1.0030 - val_accuracy: 0.5942\n",
            "Epoch 88/500\n",
            "104/104 [==============================] - 2s 18ms/step - loss: 0.9169 - accuracy: 0.6391 - val_loss: 0.9809 - val_accuracy: 0.6570\n",
            "Epoch 89/500\n",
            "104/104 [==============================] - 2s 18ms/step - loss: 0.8832 - accuracy: 0.6675 - val_loss: 0.9872 - val_accuracy: 0.6329\n",
            "Epoch 90/500\n",
            "104/104 [==============================] - 2s 18ms/step - loss: 0.9168 - accuracy: 0.6511 - val_loss: 0.9862 - val_accuracy: 0.6329\n",
            "Epoch 91/500\n",
            "104/104 [==============================] - 2s 17ms/step - loss: 0.9099 - accuracy: 0.6457 - val_loss: 0.9516 - val_accuracy: 0.6522\n",
            "Epoch 92/500\n",
            "104/104 [==============================] - 2s 16ms/step - loss: 0.8936 - accuracy: 0.6548 - val_loss: 0.9833 - val_accuracy: 0.6522\n",
            "Epoch 93/500\n",
            "104/104 [==============================] - 2s 16ms/step - loss: 0.8786 - accuracy: 0.6608 - val_loss: 0.9855 - val_accuracy: 0.5894\n",
            "Epoch 94/500\n",
            "104/104 [==============================] - 2s 17ms/step - loss: 0.8847 - accuracy: 0.6554 - val_loss: 1.0046 - val_accuracy: 0.6039\n",
            "Epoch 95/500\n",
            "104/104 [==============================] - 2s 17ms/step - loss: 0.8610 - accuracy: 0.6669 - val_loss: 0.9485 - val_accuracy: 0.6473\n",
            "Epoch 96/500\n",
            "104/104 [==============================] - 2s 17ms/step - loss: 0.8950 - accuracy: 0.6626 - val_loss: 0.9554 - val_accuracy: 0.6135\n",
            "Epoch 97/500\n",
            "104/104 [==============================] - 2s 17ms/step - loss: 0.8759 - accuracy: 0.6530 - val_loss: 0.9570 - val_accuracy: 0.6522\n",
            "Epoch 98/500\n",
            "104/104 [==============================] - 2s 17ms/step - loss: 0.8671 - accuracy: 0.6771 - val_loss: 0.9475 - val_accuracy: 0.6473\n",
            "Epoch 99/500\n",
            "104/104 [==============================] - 2s 17ms/step - loss: 0.8860 - accuracy: 0.6584 - val_loss: 0.9326 - val_accuracy: 0.7101\n",
            "Epoch 100/500\n",
            "104/104 [==============================] - 2s 17ms/step - loss: 0.8764 - accuracy: 0.6657 - val_loss: 0.9418 - val_accuracy: 0.6473\n",
            "Epoch 101/500\n",
            "104/104 [==============================] - 2s 17ms/step - loss: 0.8687 - accuracy: 0.6705 - val_loss: 0.9456 - val_accuracy: 0.7005\n",
            "Epoch 102/500\n",
            "104/104 [==============================] - 2s 17ms/step - loss: 0.8548 - accuracy: 0.6723 - val_loss: 0.9436 - val_accuracy: 0.6473\n",
            "Epoch 103/500\n",
            "104/104 [==============================] - 2s 17ms/step - loss: 0.8595 - accuracy: 0.6826 - val_loss: 0.9337 - val_accuracy: 0.6763\n",
            "Epoch 104/500\n",
            "104/104 [==============================] - 2s 16ms/step - loss: 0.8630 - accuracy: 0.6681 - val_loss: 0.9388 - val_accuracy: 0.6763\n",
            "Epoch 105/500\n",
            "104/104 [==============================] - 2s 17ms/step - loss: 0.8406 - accuracy: 0.6796 - val_loss: 0.9080 - val_accuracy: 0.6570\n",
            "Epoch 106/500\n",
            "104/104 [==============================] - 2s 18ms/step - loss: 0.8586 - accuracy: 0.6820 - val_loss: 0.9379 - val_accuracy: 0.6473\n",
            "Epoch 107/500\n",
            "104/104 [==============================] - 2s 18ms/step - loss: 0.8383 - accuracy: 0.6705 - val_loss: 0.9266 - val_accuracy: 0.6522\n",
            "Epoch 108/500\n",
            "104/104 [==============================] - 2s 17ms/step - loss: 0.8465 - accuracy: 0.6784 - val_loss: 0.9202 - val_accuracy: 0.6957\n",
            "Epoch 109/500\n",
            "104/104 [==============================] - 2s 17ms/step - loss: 0.8338 - accuracy: 0.6790 - val_loss: 0.9026 - val_accuracy: 0.6715\n",
            "Epoch 110/500\n",
            "104/104 [==============================] - 2s 17ms/step - loss: 0.8545 - accuracy: 0.6657 - val_loss: 0.9421 - val_accuracy: 0.6473\n",
            "Epoch 111/500\n",
            "104/104 [==============================] - 2s 16ms/step - loss: 0.8375 - accuracy: 0.6814 - val_loss: 0.9270 - val_accuracy: 0.6715\n",
            "Epoch 112/500\n",
            "104/104 [==============================] - 2s 18ms/step - loss: 0.8190 - accuracy: 0.6814 - val_loss: 0.9026 - val_accuracy: 0.6860\n",
            "Epoch 113/500\n",
            "104/104 [==============================] - 2s 17ms/step - loss: 0.8319 - accuracy: 0.6747 - val_loss: 0.9399 - val_accuracy: 0.6667\n",
            "Epoch 114/500\n",
            "104/104 [==============================] - 2s 18ms/step - loss: 0.8203 - accuracy: 0.6856 - val_loss: 0.8905 - val_accuracy: 0.6908\n",
            "Epoch 115/500\n",
            "104/104 [==============================] - 2s 17ms/step - loss: 0.8078 - accuracy: 0.7044 - val_loss: 0.9144 - val_accuracy: 0.6135\n",
            "Epoch 116/500\n",
            "104/104 [==============================] - 2s 16ms/step - loss: 0.8151 - accuracy: 0.6911 - val_loss: 0.9260 - val_accuracy: 0.6570\n",
            "Epoch 117/500\n",
            "104/104 [==============================] - 2s 16ms/step - loss: 0.8061 - accuracy: 0.6923 - val_loss: 0.8902 - val_accuracy: 0.6618\n",
            "Epoch 118/500\n",
            "104/104 [==============================] - 2s 17ms/step - loss: 0.8066 - accuracy: 0.6850 - val_loss: 0.8929 - val_accuracy: 0.6618\n",
            "Epoch 119/500\n",
            "104/104 [==============================] - 2s 17ms/step - loss: 0.8038 - accuracy: 0.6935 - val_loss: 0.9081 - val_accuracy: 0.6860\n",
            "Epoch 120/500\n",
            "104/104 [==============================] - 2s 18ms/step - loss: 0.7902 - accuracy: 0.7068 - val_loss: 0.9141 - val_accuracy: 0.6667\n",
            "Epoch 121/500\n",
            "104/104 [==============================] - 2s 17ms/step - loss: 0.8422 - accuracy: 0.6886 - val_loss: 0.9011 - val_accuracy: 0.6715\n",
            "Epoch 122/500\n",
            "104/104 [==============================] - 2s 17ms/step - loss: 0.8080 - accuracy: 0.6935 - val_loss: 0.9047 - val_accuracy: 0.6763\n",
            "Epoch 123/500\n",
            "104/104 [==============================] - 2s 17ms/step - loss: 0.7907 - accuracy: 0.6989 - val_loss: 0.9549 - val_accuracy: 0.6522\n",
            "Epoch 124/500\n",
            "104/104 [==============================] - 2s 17ms/step - loss: 0.7914 - accuracy: 0.6886 - val_loss: 0.9096 - val_accuracy: 0.6763\n",
            "Epoch 125/500\n",
            "104/104 [==============================] - 2s 17ms/step - loss: 0.7908 - accuracy: 0.7025 - val_loss: 0.9314 - val_accuracy: 0.6522\n",
            "Epoch 126/500\n",
            "104/104 [==============================] - 2s 17ms/step - loss: 0.8065 - accuracy: 0.6959 - val_loss: 0.9203 - val_accuracy: 0.6425\n",
            "Epoch 127/500\n",
            "104/104 [==============================] - 2s 17ms/step - loss: 0.7955 - accuracy: 0.6959 - val_loss: 0.8593 - val_accuracy: 0.6763\n",
            "Epoch 128/500\n",
            "104/104 [==============================] - 2s 17ms/step - loss: 0.7734 - accuracy: 0.7158 - val_loss: 0.9062 - val_accuracy: 0.6860\n",
            "Epoch 129/500\n",
            "104/104 [==============================] - 2s 17ms/step - loss: 0.8017 - accuracy: 0.7037 - val_loss: 0.8985 - val_accuracy: 0.6763\n",
            "Epoch 130/500\n",
            "104/104 [==============================] - 2s 17ms/step - loss: 0.7949 - accuracy: 0.6983 - val_loss: 0.9111 - val_accuracy: 0.6618\n",
            "Epoch 131/500\n",
            "104/104 [==============================] - 2s 16ms/step - loss: 0.7772 - accuracy: 0.7001 - val_loss: 0.8730 - val_accuracy: 0.6908\n",
            "Epoch 132/500\n",
            "104/104 [==============================] - 2s 17ms/step - loss: 0.7667 - accuracy: 0.7086 - val_loss: 0.9067 - val_accuracy: 0.6618\n",
            "Epoch 133/500\n",
            "104/104 [==============================] - 2s 17ms/step - loss: 0.7681 - accuracy: 0.7152 - val_loss: 0.8918 - val_accuracy: 0.6860\n",
            "Epoch 134/500\n",
            "104/104 [==============================] - 2s 16ms/step - loss: 0.7595 - accuracy: 0.7225 - val_loss: 0.8710 - val_accuracy: 0.7101\n",
            "Epoch 135/500\n",
            "104/104 [==============================] - 2s 17ms/step - loss: 0.7558 - accuracy: 0.6977 - val_loss: 0.8549 - val_accuracy: 0.7053\n",
            "Epoch 136/500\n",
            "104/104 [==============================] - 2s 18ms/step - loss: 0.7969 - accuracy: 0.6977 - val_loss: 0.8718 - val_accuracy: 0.6715\n",
            "Epoch 137/500\n",
            "104/104 [==============================] - 2s 18ms/step - loss: 0.7626 - accuracy: 0.7128 - val_loss: 0.8754 - val_accuracy: 0.6908\n",
            "Epoch 138/500\n",
            "104/104 [==============================] - 2s 17ms/step - loss: 0.7662 - accuracy: 0.7037 - val_loss: 0.8832 - val_accuracy: 0.6715\n",
            "Epoch 139/500\n",
            "104/104 [==============================] - 2s 17ms/step - loss: 0.7515 - accuracy: 0.7170 - val_loss: 0.8561 - val_accuracy: 0.6908\n",
            "Epoch 140/500\n",
            "104/104 [==============================] - 2s 18ms/step - loss: 0.7701 - accuracy: 0.6989 - val_loss: 0.8738 - val_accuracy: 0.6860\n",
            "Epoch 141/500\n",
            "104/104 [==============================] - 2s 18ms/step - loss: 0.7282 - accuracy: 0.7334 - val_loss: 0.8416 - val_accuracy: 0.7101\n",
            "Epoch 142/500\n",
            "104/104 [==============================] - 2s 17ms/step - loss: 0.7631 - accuracy: 0.7019 - val_loss: 0.8696 - val_accuracy: 0.6908\n",
            "Epoch 143/500\n",
            "104/104 [==============================] - 2s 17ms/step - loss: 0.7541 - accuracy: 0.7086 - val_loss: 0.8692 - val_accuracy: 0.7053\n",
            "Epoch 144/500\n",
            "104/104 [==============================] - 2s 17ms/step - loss: 0.7664 - accuracy: 0.7164 - val_loss: 0.8453 - val_accuracy: 0.6957\n",
            "Epoch 145/500\n",
            "104/104 [==============================] - 2s 17ms/step - loss: 0.7264 - accuracy: 0.7310 - val_loss: 0.8669 - val_accuracy: 0.6957\n",
            "Epoch 146/500\n",
            "104/104 [==============================] - 2s 17ms/step - loss: 0.7451 - accuracy: 0.7177 - val_loss: 0.8570 - val_accuracy: 0.7150\n",
            "Epoch 147/500\n",
            "104/104 [==============================] - 2s 18ms/step - loss: 0.7620 - accuracy: 0.7074 - val_loss: 0.8768 - val_accuracy: 0.6812\n",
            "Epoch 148/500\n",
            "104/104 [==============================] - 2s 17ms/step - loss: 0.7528 - accuracy: 0.7001 - val_loss: 0.8178 - val_accuracy: 0.7101\n",
            "Epoch 149/500\n",
            "104/104 [==============================] - 2s 17ms/step - loss: 0.7343 - accuracy: 0.7195 - val_loss: 0.8495 - val_accuracy: 0.7053\n",
            "Epoch 150/500\n",
            "104/104 [==============================] - 2s 17ms/step - loss: 0.7235 - accuracy: 0.7170 - val_loss: 0.8701 - val_accuracy: 0.6908\n",
            "Epoch 151/500\n",
            "104/104 [==============================] - 2s 17ms/step - loss: 0.7317 - accuracy: 0.7310 - val_loss: 0.8552 - val_accuracy: 0.6812\n",
            "Epoch 152/500\n",
            "104/104 [==============================] - 2s 17ms/step - loss: 0.7424 - accuracy: 0.7213 - val_loss: 0.8353 - val_accuracy: 0.7101\n",
            "Epoch 153/500\n",
            "104/104 [==============================] - 2s 16ms/step - loss: 0.7472 - accuracy: 0.7249 - val_loss: 0.8231 - val_accuracy: 0.7198\n",
            "Epoch 154/500\n",
            "104/104 [==============================] - 2s 18ms/step - loss: 0.6973 - accuracy: 0.7455 - val_loss: 0.8662 - val_accuracy: 0.6957\n",
            "Epoch 155/500\n",
            "104/104 [==============================] - 2s 18ms/step - loss: 0.7392 - accuracy: 0.7098 - val_loss: 0.8605 - val_accuracy: 0.7198\n",
            "Epoch 156/500\n",
            "104/104 [==============================] - 2s 17ms/step - loss: 0.7226 - accuracy: 0.7267 - val_loss: 0.8774 - val_accuracy: 0.6570\n",
            "Epoch 157/500\n",
            "104/104 [==============================] - 2s 17ms/step - loss: 0.7204 - accuracy: 0.7207 - val_loss: 0.9199 - val_accuracy: 0.6667\n",
            "Epoch 158/500\n",
            "104/104 [==============================] - 2s 17ms/step - loss: 0.7170 - accuracy: 0.7249 - val_loss: 0.8682 - val_accuracy: 0.6908\n",
            "Epoch 159/500\n",
            "104/104 [==============================] - 2s 17ms/step - loss: 0.7099 - accuracy: 0.7255 - val_loss: 0.8586 - val_accuracy: 0.7150\n",
            "Epoch 160/500\n",
            "104/104 [==============================] - 2s 17ms/step - loss: 0.7169 - accuracy: 0.7279 - val_loss: 0.8697 - val_accuracy: 0.6618\n",
            "Epoch 161/500\n",
            "104/104 [==============================] - 2s 17ms/step - loss: 0.7225 - accuracy: 0.7334 - val_loss: 0.8398 - val_accuracy: 0.6908\n",
            "Epoch 162/500\n",
            "104/104 [==============================] - 2s 17ms/step - loss: 0.7073 - accuracy: 0.7261 - val_loss: 0.8216 - val_accuracy: 0.6860\n",
            "Epoch 163/500\n",
            "104/104 [==============================] - 2s 17ms/step - loss: 0.7065 - accuracy: 0.7273 - val_loss: 0.8290 - val_accuracy: 0.7053\n",
            "Epoch 164/500\n",
            "104/104 [==============================] - 2s 17ms/step - loss: 0.7268 - accuracy: 0.7370 - val_loss: 0.8141 - val_accuracy: 0.7198\n",
            "Epoch 165/500\n",
            "104/104 [==============================] - 2s 18ms/step - loss: 0.6672 - accuracy: 0.7545 - val_loss: 0.8254 - val_accuracy: 0.7005\n",
            "Epoch 166/500\n",
            "104/104 [==============================] - 2s 18ms/step - loss: 0.7009 - accuracy: 0.7316 - val_loss: 0.8542 - val_accuracy: 0.6860\n",
            "Epoch 167/500\n",
            "104/104 [==============================] - 2s 17ms/step - loss: 0.7164 - accuracy: 0.7285 - val_loss: 0.8206 - val_accuracy: 0.7198\n",
            "Epoch 168/500\n",
            "104/104 [==============================] - 2s 18ms/step - loss: 0.7001 - accuracy: 0.7400 - val_loss: 0.8149 - val_accuracy: 0.7101\n",
            "Epoch 169/500\n",
            "104/104 [==============================] - 2s 18ms/step - loss: 0.7267 - accuracy: 0.7225 - val_loss: 0.8391 - val_accuracy: 0.7101\n",
            "Epoch 170/500\n",
            "104/104 [==============================] - 2s 17ms/step - loss: 0.6913 - accuracy: 0.7388 - val_loss: 0.8169 - val_accuracy: 0.7150\n",
            "Epoch 171/500\n",
            "104/104 [==============================] - 2s 18ms/step - loss: 0.7290 - accuracy: 0.7177 - val_loss: 0.8541 - val_accuracy: 0.7101\n",
            "Epoch 172/500\n",
            "104/104 [==============================] - 2s 18ms/step - loss: 0.6914 - accuracy: 0.7388 - val_loss: 0.8033 - val_accuracy: 0.7246\n",
            "Epoch 173/500\n",
            "104/104 [==============================] - 2s 18ms/step - loss: 0.6905 - accuracy: 0.7370 - val_loss: 0.8524 - val_accuracy: 0.7101\n",
            "Epoch 174/500\n",
            "104/104 [==============================] - 2s 18ms/step - loss: 0.6744 - accuracy: 0.7424 - val_loss: 0.8169 - val_accuracy: 0.7295\n",
            "Epoch 175/500\n",
            "104/104 [==============================] - 2s 17ms/step - loss: 0.6884 - accuracy: 0.7430 - val_loss: 0.8656 - val_accuracy: 0.7101\n",
            "Epoch 176/500\n",
            "104/104 [==============================] - 2s 18ms/step - loss: 0.6978 - accuracy: 0.7376 - val_loss: 0.8692 - val_accuracy: 0.6667\n",
            "Epoch 177/500\n",
            "104/104 [==============================] - 2s 18ms/step - loss: 0.6848 - accuracy: 0.7449 - val_loss: 0.8428 - val_accuracy: 0.6908\n",
            "Epoch 178/500\n",
            "104/104 [==============================] - 2s 18ms/step - loss: 0.6812 - accuracy: 0.7455 - val_loss: 0.8213 - val_accuracy: 0.7053\n",
            "Epoch 179/500\n",
            "104/104 [==============================] - 2s 17ms/step - loss: 0.6862 - accuracy: 0.7400 - val_loss: 0.8195 - val_accuracy: 0.7053\n",
            "Epoch 180/500\n",
            "104/104 [==============================] - 2s 17ms/step - loss: 0.6656 - accuracy: 0.7491 - val_loss: 0.8234 - val_accuracy: 0.7005\n",
            "Epoch 181/500\n",
            "104/104 [==============================] - 2s 17ms/step - loss: 0.6749 - accuracy: 0.7545 - val_loss: 0.8095 - val_accuracy: 0.7246\n",
            "Epoch 182/500\n",
            "104/104 [==============================] - 2s 17ms/step - loss: 0.6857 - accuracy: 0.7485 - val_loss: 0.8111 - val_accuracy: 0.7101\n",
            "Epoch 183/500\n",
            "104/104 [==============================] - 2s 17ms/step - loss: 0.6942 - accuracy: 0.7340 - val_loss: 0.8175 - val_accuracy: 0.6957\n",
            "Epoch 184/500\n",
            "104/104 [==============================] - 2s 18ms/step - loss: 0.6899 - accuracy: 0.7449 - val_loss: 0.8232 - val_accuracy: 0.7101\n",
            "Epoch 185/500\n",
            "104/104 [==============================] - 2s 18ms/step - loss: 0.6666 - accuracy: 0.7467 - val_loss: 0.8158 - val_accuracy: 0.6957\n",
            "Epoch 186/500\n",
            "104/104 [==============================] - 2s 18ms/step - loss: 0.6766 - accuracy: 0.7443 - val_loss: 0.7963 - val_accuracy: 0.7246\n",
            "Epoch 187/500\n",
            "104/104 [==============================] - 2s 17ms/step - loss: 0.6887 - accuracy: 0.7304 - val_loss: 0.8346 - val_accuracy: 0.6908\n",
            "Epoch 188/500\n",
            "104/104 [==============================] - 2s 17ms/step - loss: 0.6670 - accuracy: 0.7388 - val_loss: 0.8578 - val_accuracy: 0.6618\n",
            "Epoch 189/500\n",
            "104/104 [==============================] - 2s 18ms/step - loss: 0.6688 - accuracy: 0.7485 - val_loss: 0.8392 - val_accuracy: 0.6522\n",
            "Epoch 190/500\n",
            "104/104 [==============================] - 2s 18ms/step - loss: 0.6438 - accuracy: 0.7582 - val_loss: 0.8826 - val_accuracy: 0.6473\n",
            "Epoch 191/500\n",
            "104/104 [==============================] - 2s 17ms/step - loss: 0.6647 - accuracy: 0.7430 - val_loss: 0.8095 - val_accuracy: 0.6957\n",
            "Epoch 192/500\n",
            "104/104 [==============================] - 2s 17ms/step - loss: 0.6698 - accuracy: 0.7455 - val_loss: 0.7799 - val_accuracy: 0.7295\n",
            "Epoch 193/500\n",
            "104/104 [==============================] - 2s 18ms/step - loss: 0.6336 - accuracy: 0.7666 - val_loss: 0.8288 - val_accuracy: 0.7150\n",
            "Epoch 194/500\n",
            "104/104 [==============================] - 2s 18ms/step - loss: 0.6482 - accuracy: 0.7497 - val_loss: 0.7935 - val_accuracy: 0.7343\n",
            "Epoch 195/500\n",
            "104/104 [==============================] - 2s 17ms/step - loss: 0.6731 - accuracy: 0.7600 - val_loss: 0.8011 - val_accuracy: 0.7198\n",
            "Epoch 196/500\n",
            "104/104 [==============================] - 2s 17ms/step - loss: 0.6523 - accuracy: 0.7618 - val_loss: 0.8037 - val_accuracy: 0.7005\n",
            "Epoch 197/500\n",
            "104/104 [==============================] - 2s 18ms/step - loss: 0.6389 - accuracy: 0.7624 - val_loss: 0.8032 - val_accuracy: 0.7005\n",
            "Epoch 198/500\n",
            "104/104 [==============================] - 2s 17ms/step - loss: 0.6575 - accuracy: 0.7551 - val_loss: 0.8189 - val_accuracy: 0.7005\n",
            "Epoch 199/500\n",
            "104/104 [==============================] - 2s 17ms/step - loss: 0.6533 - accuracy: 0.7545 - val_loss: 0.8591 - val_accuracy: 0.6908\n",
            "Epoch 200/500\n",
            "104/104 [==============================] - 2s 17ms/step - loss: 0.6536 - accuracy: 0.7636 - val_loss: 0.8054 - val_accuracy: 0.7343\n",
            "Epoch 201/500\n",
            "104/104 [==============================] - 2s 18ms/step - loss: 0.6647 - accuracy: 0.7370 - val_loss: 0.8093 - val_accuracy: 0.7198\n",
            "Epoch 202/500\n",
            "104/104 [==============================] - 2s 17ms/step - loss: 0.6252 - accuracy: 0.7636 - val_loss: 0.7907 - val_accuracy: 0.7391\n",
            "Epoch 203/500\n",
            "104/104 [==============================] - 2s 18ms/step - loss: 0.6290 - accuracy: 0.7545 - val_loss: 0.8237 - val_accuracy: 0.7005\n",
            "Epoch 204/500\n",
            "104/104 [==============================] - 2s 18ms/step - loss: 0.6403 - accuracy: 0.7630 - val_loss: 0.8319 - val_accuracy: 0.6812\n",
            "Epoch 205/500\n",
            "104/104 [==============================] - 2s 18ms/step - loss: 0.6396 - accuracy: 0.7588 - val_loss: 0.7882 - val_accuracy: 0.7488\n",
            "Epoch 206/500\n",
            "104/104 [==============================] - 2s 18ms/step - loss: 0.6469 - accuracy: 0.7437 - val_loss: 0.8418 - val_accuracy: 0.7101\n",
            "Epoch 207/500\n",
            "104/104 [==============================] - 2s 19ms/step - loss: 0.6440 - accuracy: 0.7497 - val_loss: 0.8158 - val_accuracy: 0.7053\n",
            "Epoch 208/500\n",
            "104/104 [==============================] - 2s 18ms/step - loss: 0.6047 - accuracy: 0.7654 - val_loss: 0.7923 - val_accuracy: 0.7246\n",
            "Epoch 209/500\n",
            "104/104 [==============================] - 2s 18ms/step - loss: 0.6058 - accuracy: 0.7715 - val_loss: 0.7973 - val_accuracy: 0.7246\n",
            "Epoch 210/500\n",
            "104/104 [==============================] - 2s 17ms/step - loss: 0.6165 - accuracy: 0.7678 - val_loss: 0.8021 - val_accuracy: 0.7198\n",
            "Epoch 211/500\n",
            "104/104 [==============================] - 2s 18ms/step - loss: 0.6468 - accuracy: 0.7497 - val_loss: 0.7800 - val_accuracy: 0.7198\n",
            "Epoch 212/500\n",
            "104/104 [==============================] - 2s 18ms/step - loss: 0.6163 - accuracy: 0.7648 - val_loss: 0.7898 - val_accuracy: 0.7246\n",
            "Epoch 213/500\n",
            "104/104 [==============================] - 2s 18ms/step - loss: 0.6320 - accuracy: 0.7763 - val_loss: 0.8001 - val_accuracy: 0.7295\n",
            "Epoch 214/500\n",
            "104/104 [==============================] - 2s 18ms/step - loss: 0.6215 - accuracy: 0.7733 - val_loss: 0.7747 - val_accuracy: 0.7246\n",
            "Epoch 215/500\n",
            "104/104 [==============================] - 2s 18ms/step - loss: 0.6283 - accuracy: 0.7721 - val_loss: 0.7810 - val_accuracy: 0.7295\n",
            "Epoch 216/500\n",
            "104/104 [==============================] - 2s 19ms/step - loss: 0.6152 - accuracy: 0.7684 - val_loss: 0.8417 - val_accuracy: 0.7246\n",
            "Epoch 217/500\n",
            "104/104 [==============================] - 2s 18ms/step - loss: 0.6231 - accuracy: 0.7618 - val_loss: 0.7948 - val_accuracy: 0.7198\n",
            "Epoch 218/500\n",
            "104/104 [==============================] - 2s 18ms/step - loss: 0.6003 - accuracy: 0.7709 - val_loss: 0.7890 - val_accuracy: 0.7343\n",
            "Epoch 219/500\n",
            "104/104 [==============================] - 2s 17ms/step - loss: 0.6262 - accuracy: 0.7678 - val_loss: 0.7955 - val_accuracy: 0.7005\n",
            "Epoch 220/500\n",
            "104/104 [==============================] - 2s 17ms/step - loss: 0.6604 - accuracy: 0.7479 - val_loss: 0.8224 - val_accuracy: 0.7053\n",
            "Epoch 221/500\n",
            "104/104 [==============================] - 2s 17ms/step - loss: 0.6048 - accuracy: 0.7805 - val_loss: 0.8028 - val_accuracy: 0.7053\n",
            "Epoch 222/500\n",
            "104/104 [==============================] - 2s 17ms/step - loss: 0.6215 - accuracy: 0.7654 - val_loss: 0.8233 - val_accuracy: 0.6908\n",
            "Epoch 223/500\n",
            "104/104 [==============================] - 2s 17ms/step - loss: 0.6347 - accuracy: 0.7703 - val_loss: 0.8067 - val_accuracy: 0.7101\n",
            "Epoch 224/500\n",
            "104/104 [==============================] - 2s 18ms/step - loss: 0.6004 - accuracy: 0.7763 - val_loss: 0.7736 - val_accuracy: 0.7295\n",
            "Epoch 225/500\n",
            "104/104 [==============================] - 2s 18ms/step - loss: 0.6300 - accuracy: 0.7648 - val_loss: 0.7955 - val_accuracy: 0.7246\n",
            "Epoch 226/500\n",
            "104/104 [==============================] - 2s 18ms/step - loss: 0.6425 - accuracy: 0.7703 - val_loss: 0.7975 - val_accuracy: 0.7295\n",
            "Epoch 227/500\n",
            "104/104 [==============================] - 2s 18ms/step - loss: 0.5971 - accuracy: 0.7769 - val_loss: 0.7941 - val_accuracy: 0.7053\n",
            "Epoch 228/500\n",
            "104/104 [==============================] - 2s 17ms/step - loss: 0.5929 - accuracy: 0.7823 - val_loss: 0.8049 - val_accuracy: 0.7198\n",
            "Epoch 229/500\n",
            "104/104 [==============================] - 2s 17ms/step - loss: 0.6140 - accuracy: 0.7666 - val_loss: 0.7729 - val_accuracy: 0.7198\n",
            "Epoch 230/500\n",
            "104/104 [==============================] - 2s 18ms/step - loss: 0.6169 - accuracy: 0.7727 - val_loss: 0.8155 - val_accuracy: 0.6812\n",
            "Epoch 231/500\n",
            "104/104 [==============================] - 2s 18ms/step - loss: 0.5976 - accuracy: 0.7902 - val_loss: 0.7795 - val_accuracy: 0.7343\n",
            "Epoch 232/500\n",
            "104/104 [==============================] - 2s 17ms/step - loss: 0.6525 - accuracy: 0.7521 - val_loss: 0.7567 - val_accuracy: 0.7246\n",
            "Epoch 233/500\n",
            "104/104 [==============================] - 2s 18ms/step - loss: 0.5873 - accuracy: 0.7817 - val_loss: 0.7732 - val_accuracy: 0.7101\n",
            "Epoch 234/500\n",
            "104/104 [==============================] - 2s 18ms/step - loss: 0.5804 - accuracy: 0.7848 - val_loss: 0.7909 - val_accuracy: 0.6957\n",
            "Epoch 235/500\n",
            "104/104 [==============================] - 2s 18ms/step - loss: 0.6014 - accuracy: 0.7660 - val_loss: 0.8023 - val_accuracy: 0.7005\n",
            "Epoch 236/500\n",
            "104/104 [==============================] - 2s 18ms/step - loss: 0.5886 - accuracy: 0.7787 - val_loss: 0.7663 - val_accuracy: 0.7053\n",
            "Epoch 237/500\n",
            "104/104 [==============================] - 2s 17ms/step - loss: 0.6097 - accuracy: 0.7672 - val_loss: 0.7640 - val_accuracy: 0.6957\n",
            "Epoch 238/500\n",
            "104/104 [==============================] - 2s 19ms/step - loss: 0.5864 - accuracy: 0.7811 - val_loss: 0.7660 - val_accuracy: 0.7391\n",
            "Epoch 239/500\n",
            "104/104 [==============================] - 2s 18ms/step - loss: 0.6063 - accuracy: 0.7817 - val_loss: 0.7641 - val_accuracy: 0.7295\n",
            "Epoch 240/500\n",
            "104/104 [==============================] - 2s 18ms/step - loss: 0.5735 - accuracy: 0.7890 - val_loss: 0.8482 - val_accuracy: 0.6570\n",
            "Epoch 241/500\n",
            "104/104 [==============================] - 2s 17ms/step - loss: 0.5869 - accuracy: 0.7884 - val_loss: 0.7641 - val_accuracy: 0.7053\n",
            "Epoch 242/500\n",
            "104/104 [==============================] - 2s 19ms/step - loss: 0.5867 - accuracy: 0.7817 - val_loss: 0.7683 - val_accuracy: 0.7295\n",
            "Epoch 243/500\n",
            "104/104 [==============================] - 2s 20ms/step - loss: 0.5904 - accuracy: 0.7854 - val_loss: 0.7724 - val_accuracy: 0.7053\n",
            "Epoch 244/500\n",
            "104/104 [==============================] - 2s 19ms/step - loss: 0.5736 - accuracy: 0.7993 - val_loss: 0.7673 - val_accuracy: 0.7005\n",
            "Epoch 245/500\n",
            "104/104 [==============================] - 2s 18ms/step - loss: 0.6081 - accuracy: 0.7896 - val_loss: 0.8223 - val_accuracy: 0.6860\n",
            "Epoch 246/500\n",
            "104/104 [==============================] - 2s 18ms/step - loss: 0.5933 - accuracy: 0.7787 - val_loss: 0.8099 - val_accuracy: 0.7053\n",
            "Epoch 247/500\n",
            "104/104 [==============================] - 2s 19ms/step - loss: 0.5834 - accuracy: 0.7817 - val_loss: 0.7954 - val_accuracy: 0.7005\n",
            "Epoch 248/500\n",
            "104/104 [==============================] - 2s 21ms/step - loss: 0.5957 - accuracy: 0.7805 - val_loss: 0.7666 - val_accuracy: 0.7198\n",
            "Epoch 249/500\n",
            "104/104 [==============================] - 2s 20ms/step - loss: 0.5917 - accuracy: 0.7763 - val_loss: 0.8204 - val_accuracy: 0.7101\n",
            "Epoch 250/500\n",
            "104/104 [==============================] - 2s 19ms/step - loss: 0.5786 - accuracy: 0.7860 - val_loss: 0.7941 - val_accuracy: 0.7150\n",
            "Epoch 251/500\n",
            "104/104 [==============================] - 2s 18ms/step - loss: 0.5985 - accuracy: 0.7848 - val_loss: 0.7781 - val_accuracy: 0.7391\n",
            "Epoch 252/500\n",
            "104/104 [==============================] - 2s 18ms/step - loss: 0.5912 - accuracy: 0.7811 - val_loss: 0.7941 - val_accuracy: 0.7005\n",
            "Epoch 253/500\n",
            "104/104 [==============================] - 2s 19ms/step - loss: 0.5871 - accuracy: 0.7878 - val_loss: 0.8136 - val_accuracy: 0.6957\n",
            "Epoch 254/500\n",
            "104/104 [==============================] - 2s 18ms/step - loss: 0.5717 - accuracy: 0.7908 - val_loss: 0.8069 - val_accuracy: 0.6860\n",
            "Epoch 255/500\n",
            "104/104 [==============================] - 2s 18ms/step - loss: 0.5913 - accuracy: 0.7799 - val_loss: 0.7577 - val_accuracy: 0.7343\n",
            "Epoch 256/500\n",
            "104/104 [==============================] - 2s 17ms/step - loss: 0.5946 - accuracy: 0.7703 - val_loss: 0.7769 - val_accuracy: 0.7295\n",
            "Epoch 257/500\n",
            "104/104 [==============================] - 2s 18ms/step - loss: 0.5716 - accuracy: 0.7848 - val_loss: 0.8125 - val_accuracy: 0.7053\n"
          ]
        }
      ]
    },
    {
      "cell_type": "code",
      "source": [
        "plt.plot(cnnhistory.history['loss'])\n",
        "plt.plot(cnnhistory.history['val_loss'])\n",
        "plt.title('model loss')\n",
        "plt.ylabel('loss')\n",
        "plt.xlabel('epoch')\n",
        "plt.legend(['train','test'], loc='upper left')\n",
        "plt.show()"
      ],
      "metadata": {
        "id": "oQYnuaCrDH_A",
        "colab": {
          "base_uri": "https://localhost:8080/",
          "height": 295
        },
        "outputId": "f9bd0147-10cb-47e9-9c7b-58cd10ba4268"
      },
      "execution_count": 15,
      "outputs": [
        {
          "output_type": "display_data",
          "data": {
            "text/plain": [
              "<Figure size 432x288 with 1 Axes>"
            ],
            "image/png": "[encoded data removed]"
          },
          "metadata": {
            "needs_background": "light"
          }
        }
      ]
    },
    {
      "cell_type": "code",
      "source": [
        "plt.plot(cnnhistory.history['accuracy'])\n",
        "plt.plot(cnnhistory.history['val_accuracy'])\n",
        "plt.title('model accuracy')\n",
        "plt.ylabel('accuracy')\n",
        "plt.xlabel('epoch')\n",
        "plt.legend(['train','test'], loc='upper left')\n",
        "plt.show()"
      ],
      "metadata": {
        "id": "IFkTuO8nDNdq",
        "colab": {
          "base_uri": "https://localhost:8080/",
          "height": 295
        },
        "outputId": "b983f278-5891-465b-a8c5-d8dd3b562b0c"
      },
      "execution_count": 16,
      "outputs": [
        {
          "output_type": "display_data",
          "data": {
            "text/plain": [
              "<Figure size 432x288 with 1 Axes>"
            ],
            "image/png": "[encoded data removed]"
          },
          "metadata": {
            "needs_background": "light"
          }
        }
      ]
    },
    {
      "cell_type": "code",
      "source": [
        "predictions = model.predict(x_testcnn)"
      ],
      "metadata": {
        "id": "A2xtrN5wDQgY"
      },
      "execution_count": 17,
      "outputs": []
    },
    {
      "cell_type": "code",
      "source": [
        "predictions"
      ],
      "metadata": {
        "id": "_f_ohjXKDUpY",
        "colab": {
          "base_uri": "https://localhost:8080/"
        },
        "outputId": "a7c0b8e4-2780-4653-f93d-4ecc1575c9ea"
      },
      "execution_count": 18,
      "outputs": [
        {
          "output_type": "execute_result",
          "data": {
            "text/plain": [
              "array([[5.6212825e-01, 7.1869604e-02, 8.1743792e-02, 1.8712759e-01,\n",
              "        8.0255620e-02, 1.6875133e-02],\n",
              "       [1.6483302e-03, 5.2656727e-03, 5.9601092e-03, 7.4707276e-01,\n",
              "        4.5122467e-03, 2.3554094e-01],\n",
              "       [2.6429644e-01, 1.2025677e-01, 6.9321655e-02, 3.6487433e-01,\n",
              "        1.6136231e-02, 1.6511457e-01],\n",
              "       ...,\n",
              "       [6.0748802e-03, 2.4308802e-05, 7.5943647e-03, 3.6883876e-03,\n",
              "        9.7199339e-01, 1.0624654e-02],\n",
              "       [6.3092853e-06, 1.9033098e-01, 7.2451240e-01, 4.3848073e-03,\n",
              "        2.1277566e-02, 5.9487965e-02],\n",
              "       [8.7707484e-04, 2.9438685e-04, 8.6138211e-02, 1.4542576e-02,\n",
              "        7.0303875e-01, 1.9510899e-01]], dtype=float32)"
            ]
          },
          "metadata": {},
          "execution_count": 18
        }
      ]
    },
    {
      "cell_type": "code",
      "source": [
        "y_test"
      ],
      "metadata": {
        "id": "cmA2bFgsDW3D",
        "colab": {
          "base_uri": "https://localhost:8080/"
        },
        "outputId": "d03c6260-40c4-429d-e2d3-dc8a08cc7086"
      },
      "execution_count": 19,
      "outputs": [
        {
          "output_type": "execute_result",
          "data": {
            "text/plain": [
              "array([3, 3, 3, 0, 4, 4, 1, 2, 5, 0, 5, 3, 2, 2, 1, 4, 4, 5, 2, 4, 1, 2,\n",
              "       3, 5, 4, 2, 1, 2, 2, 2, 2, 5, 2, 5, 3, 1, 2, 0, 4, 5, 2, 3, 2, 2,\n",
              "       5, 2, 0, 1, 3, 4, 4, 5, 1, 1, 4, 4, 5, 1, 1, 1, 0, 1, 5, 0, 4, 1,\n",
              "       1, 0, 1, 4, 1, 0, 4, 1, 3, 1, 2, 2, 1, 2, 3, 0, 5, 3, 5, 5, 2, 4,\n",
              "       5, 1, 5, 1, 5, 3, 4, 1, 4, 1, 5, 4, 5, 1, 2, 1, 1, 5, 1, 3, 2, 5,\n",
              "       2, 1, 3, 5, 4, 4, 0, 0, 3, 1, 2, 2, 3, 5, 1, 5, 3, 4, 2, 2, 0, 2,\n",
              "       2, 5, 5, 0, 3, 3, 2, 2, 0, 3, 4, 0, 4, 2, 4, 5, 4, 1, 5, 3, 2, 2,\n",
              "       5, 4, 3, 3, 4, 3, 3, 4, 1, 5, 2, 3, 2, 2, 0, 2, 1, 3, 1, 2, 2, 5,\n",
              "       5, 1, 4, 2, 2, 1, 1, 3, 3, 5, 5, 2, 5, 1, 5, 0, 3, 3, 0, 5, 1, 4,\n",
              "       1, 4, 2, 5, 5, 1, 4, 2, 4])"
            ]
          },
          "metadata": {},
          "execution_count": 19
        }
      ]
    },
    {
      "cell_type": "code",
      "source": [
        "new_Ytest = y_test.astype(int)"
      ],
      "metadata": {
        "id": "0PHDKWJWDY3g"
      },
      "execution_count": 20,
      "outputs": []
    },
    {
      "cell_type": "code",
      "source": [
        "new_Ytest"
      ],
      "metadata": {
        "id": "k68v2i-pDbZE",
        "colab": {
          "base_uri": "https://localhost:8080/"
        },
        "outputId": "1c8ec98b-21bf-4f39-8fea-cc186cb88724"
      },
      "execution_count": 21,
      "outputs": [
        {
          "output_type": "execute_result",
          "data": {
            "text/plain": [
              "array([3, 3, 3, 0, 4, 4, 1, 2, 5, 0, 5, 3, 2, 2, 1, 4, 4, 5, 2, 4, 1, 2,\n",
              "       3, 5, 4, 2, 1, 2, 2, 2, 2, 5, 2, 5, 3, 1, 2, 0, 4, 5, 2, 3, 2, 2,\n",
              "       5, 2, 0, 1, 3, 4, 4, 5, 1, 1, 4, 4, 5, 1, 1, 1, 0, 1, 5, 0, 4, 1,\n",
              "       1, 0, 1, 4, 1, 0, 4, 1, 3, 1, 2, 2, 1, 2, 3, 0, 5, 3, 5, 5, 2, 4,\n",
              "       5, 1, 5, 1, 5, 3, 4, 1, 4, 1, 5, 4, 5, 1, 2, 1, 1, 5, 1, 3, 2, 5,\n",
              "       2, 1, 3, 5, 4, 4, 0, 0, 3, 1, 2, 2, 3, 5, 1, 5, 3, 4, 2, 2, 0, 2,\n",
              "       2, 5, 5, 0, 3, 3, 2, 2, 0, 3, 4, 0, 4, 2, 4, 5, 4, 1, 5, 3, 2, 2,\n",
              "       5, 4, 3, 3, 4, 3, 3, 4, 1, 5, 2, 3, 2, 2, 0, 2, 1, 3, 1, 2, 2, 5,\n",
              "       5, 1, 4, 2, 2, 1, 1, 3, 3, 5, 5, 2, 5, 1, 5, 0, 3, 3, 0, 5, 1, 4,\n",
              "       1, 4, 2, 5, 5, 1, 4, 2, 4])"
            ]
          },
          "metadata": {},
          "execution_count": 21
        }
      ]
    },
    {
      "cell_type": "code",
      "source": [
        "preds1=predictions.argmax(axis=1)\n",
        "preds1"
      ],
      "metadata": {
        "id": "4_cAI39VFhtp",
        "colab": {
          "base_uri": "https://localhost:8080/"
        },
        "outputId": "4fc6703d-702c-4029-e363-d30749753411"
      },
      "execution_count": 22,
      "outputs": [
        {
          "output_type": "execute_result",
          "data": {
            "text/plain": [
              "array([0, 3, 3, 0, 4, 4, 1, 2, 4, 0, 5, 3, 2, 2, 0, 3, 4, 3, 3, 4, 0, 2,\n",
              "       3, 3, 4, 4, 1, 3, 4, 2, 2, 5, 2, 5, 3, 1, 2, 0, 4, 5, 2, 3, 2, 2,\n",
              "       3, 4, 3, 1, 3, 4, 4, 1, 1, 1, 4, 4, 5, 1, 1, 1, 1, 1, 4, 3, 4, 1,\n",
              "       1, 1, 1, 4, 0, 0, 4, 1, 5, 0, 4, 2, 0, 0, 1, 0, 3, 3, 5, 4, 2, 5,\n",
              "       3, 1, 0, 1, 5, 5, 2, 2, 4, 0, 5, 4, 5, 1, 5, 1, 1, 5, 1, 5, 2, 2,\n",
              "       0, 0, 3, 0, 4, 4, 3, 0, 3, 0, 1, 2, 1, 3, 1, 3, 3, 4, 2, 4, 3, 4,\n",
              "       2, 3, 5, 0, 5, 3, 2, 5, 0, 5, 4, 0, 4, 4, 0, 1, 4, 1, 5, 3, 2, 2,\n",
              "       5, 4, 3, 3, 4, 5, 3, 4, 1, 5, 2, 3, 2, 2, 0, 2, 1, 3, 1, 2, 2, 5,\n",
              "       5, 1, 4, 2, 4, 1, 3, 2, 1, 5, 5, 2, 5, 1, 5, 3, 3, 3, 3, 5, 1, 4,\n",
              "       1, 4, 0, 4, 4, 1, 4, 2, 4])"
            ]
          },
          "metadata": {},
          "execution_count": 22
        }
      ]
    },
    {
      "cell_type": "code",
      "source": [
        "abc = preds1.astype(int).flatten()"
      ],
      "metadata": {
        "id": "H4WEmM60NfQn"
      },
      "execution_count": 23,
      "outputs": []
    },
    {
      "cell_type": "code",
      "source": [
        "from sklearn.metrics import confusion_matrix\n",
        "c = confusion_matrix(new_Ytest, abc) \n",
        "c"
      ],
      "metadata": {
        "id": "bKEBeEBlFjB8",
        "colab": {
          "base_uri": "https://localhost:8080/"
        },
        "outputId": "b278d750-b9e0-4f15-de52-c15d3bc5efaa"
      },
      "execution_count": 24,
      "outputs": [
        {
          "output_type": "execute_result",
          "data": {
            "text/plain": [
              "array([[10,  2,  0,  6,  0,  0],\n",
              "       [ 8, 31,  1,  1,  0,  0],\n",
              "       [ 3,  1, 29,  2,  8,  2],\n",
              "       [ 1,  3,  1, 20,  0,  6],\n",
              "       [ 1,  0,  1,  1, 29,  1],\n",
              "       [ 2,  2,  1,  8,  5, 21]])"
            ]
          },
          "metadata": {},
          "execution_count": 24
        }
      ]
    },
    {
      "cell_type": "code",
      "source": [
        "y_test"
      ],
      "metadata": {
        "id": "m4RjG7LWLSQx",
        "colab": {
          "base_uri": "https://localhost:8080/"
        },
        "outputId": "d2f9bbce-94c2-4ead-f136-c244e5c08be6"
      },
      "execution_count": 25,
      "outputs": [
        {
          "output_type": "execute_result",
          "data": {
            "text/plain": [
              "array([3, 3, 3, 0, 4, 4, 1, 2, 5, 0, 5, 3, 2, 2, 1, 4, 4, 5, 2, 4, 1, 2,\n",
              "       3, 5, 4, 2, 1, 2, 2, 2, 2, 5, 2, 5, 3, 1, 2, 0, 4, 5, 2, 3, 2, 2,\n",
              "       5, 2, 0, 1, 3, 4, 4, 5, 1, 1, 4, 4, 5, 1, 1, 1, 0, 1, 5, 0, 4, 1,\n",
              "       1, 0, 1, 4, 1, 0, 4, 1, 3, 1, 2, 2, 1, 2, 3, 0, 5, 3, 5, 5, 2, 4,\n",
              "       5, 1, 5, 1, 5, 3, 4, 1, 4, 1, 5, 4, 5, 1, 2, 1, 1, 5, 1, 3, 2, 5,\n",
              "       2, 1, 3, 5, 4, 4, 0, 0, 3, 1, 2, 2, 3, 5, 1, 5, 3, 4, 2, 2, 0, 2,\n",
              "       2, 5, 5, 0, 3, 3, 2, 2, 0, 3, 4, 0, 4, 2, 4, 5, 4, 1, 5, 3, 2, 2,\n",
              "       5, 4, 3, 3, 4, 3, 3, 4, 1, 5, 2, 3, 2, 2, 0, 2, 1, 3, 1, 2, 2, 5,\n",
              "       5, 1, 4, 2, 2, 1, 1, 3, 3, 5, 5, 2, 5, 1, 5, 0, 3, 3, 0, 5, 1, 4,\n",
              "       1, 4, 2, 5, 5, 1, 4, 2, 4])"
            ]
          },
          "metadata": {},
          "execution_count": 25
        }
      ]
    },
    {
      "cell_type": "code",
      "source": [
        "loss, acc =model.evaluate(x_testcnn, y_test)\n",
        "print(\"Restored model, accuracy: {:5.2f}%\".format(100*acc))"
      ],
      "metadata": {
        "id": "n3kzoqPkDqqS",
        "colab": {
          "base_uri": "https://localhost:8080/"
        },
        "outputId": "99a9468e-24b7-44ab-a28d-445c480a8a8a"
      },
      "execution_count": 26,
      "outputs": [
        {
          "output_type": "stream",
          "name": "stdout",
          "text": [
            "7/7 [==============================] - 0s 7ms/step - loss: 0.8201 - accuracy: 0.6763\n",
            "Restored model, accuracy: 67.63%\n"
          ]
        }
      ]
    },
    {
      "cell_type": "code",
      "source": [
        "loss, acc =model.evaluate(X_train, y_train)\n",
        "print(\"Restored model train, accuracy: {:5.2f}%\".format(100*acc))"
      ],
      "metadata": {
        "id": "fJDTGH_OUX0z",
        "colab": {
          "base_uri": "https://localhost:8080/"
        },
        "outputId": "4c7e97ae-c9af-4f5a-f326-0f8ca36d9d3c"
      },
      "execution_count": 27,
      "outputs": [
        {
          "output_type": "stream",
          "name": "stdout",
          "text": [
            "52/52 [==============================] - 1s 10ms/step - loss: 0.4205 - accuracy: 0.8990\n",
            "Restored model train, accuracy: 89.90%\n"
          ]
        }
      ]
    },
    {
      "cell_type": "code",
      "source": [
        "from sklearn.metrics import classification_report, confusion_matrix,accuracy_score\n",
        "import seaborn as sn\n",
        "\n",
        "print(classification_report(new_Ytest,abc))\n",
        "\n",
        "acc = float(accuracy_score(new_Ytest,abc))*100\n",
        "print(\"----accuracy score %s ----\" % acc)\n",
        "\n",
        "cm = confusion_matrix(new_Ytest,abc)\n",
        "#df_cm = pd.DataFrame(cm)\n",
        "class_names = ['neutral','calm', 'happy','sad','angry', 'fearful' ]\n",
        "df_cm = pd.DataFrame(cm, index=class_names, columns=class_names,)\n",
        "sn.heatmap(df_cm, annot=True, fmt='')\n",
        "plt.show()"
      ],
      "metadata": {
        "id": "SfSC3El94LZg",
        "colab": {
          "base_uri": "https://localhost:8080/",
          "height": 522
        },
        "outputId": "7ff3d702-72c6-4524-d0d0-f1f3265878ad"
      },
      "execution_count": 28,
      "outputs": [
        {
          "output_type": "stream",
          "name": "stdout",
          "text": [
            "              precision    recall  f1-score   support\n",
            "\n",
            "           0       0.40      0.56      0.47        18\n",
            "           1       0.79      0.76      0.77        41\n",
            "           2       0.88      0.64      0.74        45\n",
            "           3       0.53      0.65      0.58        31\n",
            "           4       0.69      0.88      0.77        33\n",
            "           5       0.70      0.54      0.61        39\n",
            "\n",
            "    accuracy                           0.68       207\n",
            "   macro avg       0.67      0.67      0.66       207\n",
            "weighted avg       0.70      0.68      0.68       207\n",
            "\n",
            "----accuracy score 67.6328502415459 ----\n"
          ]
        },
        {
          "output_type": "display_data",
          "data": {
            "text/plain": [
              "<Figure size 432x288 with 2 Axes>"
            ],
            "image/png": "[encoded data removed]"
          },
          "metadata": {
            "needs_background": "light"
          }
        }
      ]
    }
  ]
}