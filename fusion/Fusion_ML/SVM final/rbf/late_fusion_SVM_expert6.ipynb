{
  "nbformat": 4,
  "nbformat_minor": 0,
  "metadata": {
    "colab": {
      "name": "late_fusion_SVM_expert6.ipynb",
      "provenance": [],
      "collapsed_sections": []
    },
    "kernelspec": {
      "name": "python3",
      "display_name": "Python 3"
    },
    "language_info": {
      "name": "python"
    }
  },
  "cells": [
    {
      "cell_type": "code",
      "source": [
        "# stacked generalization with linear meta model on blobs dataset\n",
        "from sklearn.metrics import accuracy_score\n",
        "from sklearn.linear_model import LogisticRegression\n",
        "from matplotlib import pyplot\n"
      ],
      "metadata": {
        "id": "XQj4f23-Ix-w"
      },
      "execution_count": 1,
      "outputs": []
    },
    {
      "cell_type": "code",
      "source": [
        "from google.colab import drive\n",
        "drive.mount('/content/drive')"
      ],
      "metadata": {
        "colab": {
          "base_uri": "https://localhost:8080/"
        },
        "id": "qj9wMQtlI1os",
        "outputId": "a796a778-9aef-4a62-876e-13f694bd9444"
      },
      "execution_count": 2,
      "outputs": [
        {
          "output_type": "stream",
          "name": "stdout",
          "text": [
            "Mounted at /content/drive\n"
          ]
        }
      ]
    },
    {
      "cell_type": "code",
      "source": [
        "#x_train  y_train to train\n",
        "#x_test   y_test to test\n",
        "#x_valid  y_valid \n",
        "#video\n",
        "import joblib\n",
        "x_test_prediction = joblib.load('/content/drive/My Drive/fusion/video/data_set_fusion/expert6/test/pred_test')\n",
        "x_train_prediction = joblib.load('/content/drive/My Drive/fusion/video/data_set_fusion/expert6/train/pred_train')\n",
        "x_valid_prediction = joblib.load('/content/drive/My Drive/fusion/video/data_set_fusion/expert6/valid/pred_valid')\n",
        "y_test = joblib.load('/content/drive/My Drive/fusion/video/data_set_fusion/expert6/test/labels_test')\n",
        "y_train = joblib.load('/content/drive/My Drive/fusion/video/data_set_fusion/expert6/train/labels_train')\n",
        "y_valid = joblib.load('/content/drive/My Drive/fusion/video/data_set_fusion/expert6/valid/labels_valid')\n",
        "#audio\n",
        "\n",
        "x_audio_test_prediction = joblib.load('/content/drive/My Drive/fusion/final_audio/data_set_fusion/expert6/test/predict_test')\n",
        "x_audio_train_prediction = joblib.load('/content/drive/My Drive/fusion/final_audio/data_set_fusion/expert6/train/predict_train')\n",
        "x_audio_valid_prediction = joblib.load('/content/drive/My Drive/fusion/final_audio/data_set_fusion/expert6/valid/predict_valid')\n",
        "\"\"\"\n",
        "#samples name\n",
        "test_videos= joblib.load('/content/drive/My Drive/fusion/video/data_set_fusion/expert1/test/video_test_path')\n",
        "train_videos = joblib.load('/content/drive/My Drive/fusion/video/data_set_fusion/expert1/train/video_train_path')\n",
        "valid_videos = joblib.load('/content/drive/My Drive/fusion/video/data_set_fusion/expert1/valid/video_valid_path')\n",
        "\"\"\""
      ],
      "metadata": {
        "id": "gb8C-44ct_Yp",
        "colab": {
          "base_uri": "https://localhost:8080/",
          "height": 53
        },
        "outputId": "470c525b-ba0c-4d8c-a65d-c392377650eb"
      },
      "execution_count": 3,
      "outputs": [
        {
          "output_type": "execute_result",
          "data": {
            "text/plain": [
              "\"\\n#samples name\\ntest_videos= joblib.load('/content/drive/My Drive/fusion/video/data_set_fusion/expert1/test/video_test_path')\\ntrain_videos = joblib.load('/content/drive/My Drive/fusion/video/data_set_fusion/expert1/train/video_train_path')\\nvalid_videos = joblib.load('/content/drive/My Drive/fusion/video/data_set_fusion/expert1/valid/video_valid_path')\\n\""
            ],
            "application/vnd.google.colaboratory.intrinsic+json": {
              "type": "string"
            }
          },
          "metadata": {},
          "execution_count": 3
        }
      ]
    },
    {
      "cell_type": "code",
      "source": [
        "len(x_test_prediction),len(x_train_prediction),len(x_audio_test_prediction),len(x_audio_train_prediction),len(x_valid_prediction),len(x_audio_valid_prediction)"
      ],
      "metadata": {
        "colab": {
          "base_uri": "https://localhost:8080/"
        },
        "id": "Qz1Z3Vgdxaaw",
        "outputId": "672288cf-2a27-48ec-94af-a8bbffe19aeb"
      },
      "execution_count": 4,
      "outputs": [
        {
          "output_type": "execute_result",
          "data": {
            "text/plain": [
              "(207, 1653, 207, 1653, 207, 207)"
            ]
          },
          "metadata": {},
          "execution_count": 4
        }
      ]
    },
    {
      "cell_type": "code",
      "source": [
        "#x_train for video\n",
        "x_train_prediction=x_train_prediction.append(x_valid_prediction,ignore_index = True)\n",
        "#x_train for audio\n",
        "x_audio_train_prediction=x_audio_train_prediction.append(x_audio_valid_prediction,ignore_index = True)"
      ],
      "metadata": {
        "id": "QgDf-FF0utgP"
      },
      "execution_count": 5,
      "outputs": []
    },
    {
      "cell_type": "code",
      "source": [
        "len(x_audio_train_prediction),len(x_train_prediction)"
      ],
      "metadata": {
        "colab": {
          "base_uri": "https://localhost:8080/"
        },
        "id": "3G4-X-MLv79s",
        "outputId": "ba42b313-a9f3-4ca4-a175-393a88e04646"
      },
      "execution_count": 6,
      "outputs": [
        {
          "output_type": "execute_result",
          "data": {
            "text/plain": [
              "(1860, 1860)"
            ]
          },
          "metadata": {},
          "execution_count": 6
        }
      ]
    },
    {
      "cell_type": "code",
      "source": [
        "from pandas.core.frame import DataFrame\n",
        "df_train=DataFrame(y_train,columns=['labels'])\n",
        "df_valid=DataFrame(y_valid,columns=['labels'])"
      ],
      "metadata": {
        "id": "JrYaQCyZw06M"
      },
      "execution_count": 7,
      "outputs": []
    },
    {
      "cell_type": "code",
      "source": [
        "df_train=df_train.append(df_valid,ignore_index = True)"
      ],
      "metadata": {
        "id": "Rq3yhw26xjfy"
      },
      "execution_count": 8,
      "outputs": []
    },
    {
      "cell_type": "code",
      "source": [
        "len(df_train)"
      ],
      "metadata": {
        "colab": {
          "base_uri": "https://localhost:8080/"
        },
        "id": "dvYKmNurx1KR",
        "outputId": "7f678a63-16db-4ba9-9f84-2e46746d5477"
      },
      "execution_count": 9,
      "outputs": [
        {
          "output_type": "execute_result",
          "data": {
            "text/plain": [
              "1860"
            ]
          },
          "metadata": {},
          "execution_count": 9
        }
      ]
    },
    {
      "cell_type": "code",
      "source": [
        "df_train"
      ],
      "metadata": {
        "colab": {
          "base_uri": "https://localhost:8080/",
          "height": 424
        },
        "id": "Pfp2YX591X1F",
        "outputId": "9aefae72-8014-4d43-a49b-47a94bfa3a54"
      },
      "execution_count": 10,
      "outputs": [
        {
          "output_type": "execute_result",
          "data": {
            "text/plain": [
              "      labels\n",
              "0          4\n",
              "1          1\n",
              "2          2\n",
              "3          3\n",
              "4          2\n",
              "...      ...\n",
              "1855       3\n",
              "1856       0\n",
              "1857       4\n",
              "1858       4\n",
              "1859       2\n",
              "\n",
              "[1860 rows x 1 columns]"
            ],
            "text/html": [
              "\n",
              "  <div id=\"df-162615d6-7a0d-4d47-a928-c1d0e3d0502c\">\n",
              "    <div class=\"colab-df-container\">\n",
              "      <div>\n",
              "<style scoped>\n",
              "    .dataframe tbody tr th:only-of-type {\n",
              "        vertical-align: middle;\n",
              "    }\n",
              "\n",
              "    .dataframe tbody tr th {\n",
              "        vertical-align: top;\n",
              "    }\n",
              "\n",
              "    .dataframe thead th {\n",
              "        text-align: right;\n",
              "    }\n",
              "</style>\n",
              "<table border=\"1\" class=\"dataframe\">\n",
              "  <thead>\n",
              "    <tr style=\"text-align: right;\">\n",
              "      <th></th>\n",
              "      <th>labels</th>\n",
              "    </tr>\n",
              "  </thead>\n",
              "  <tbody>\n",
              "    <tr>\n",
              "      <th>0</th>\n",
              "      <td>4</td>\n",
              "    </tr>\n",
              "    <tr>\n",
              "      <th>1</th>\n",
              "      <td>1</td>\n",
              "    </tr>\n",
              "    <tr>\n",
              "      <th>2</th>\n",
              "      <td>2</td>\n",
              "    </tr>\n",
              "    <tr>\n",
              "      <th>3</th>\n",
              "      <td>3</td>\n",
              "    </tr>\n",
              "    <tr>\n",
              "      <th>4</th>\n",
              "      <td>2</td>\n",
              "    </tr>\n",
              "    <tr>\n",
              "      <th>...</th>\n",
              "      <td>...</td>\n",
              "    </tr>\n",
              "    <tr>\n",
              "      <th>1855</th>\n",
              "      <td>3</td>\n",
              "    </tr>\n",
              "    <tr>\n",
              "      <th>1856</th>\n",
              "      <td>0</td>\n",
              "    </tr>\n",
              "    <tr>\n",
              "      <th>1857</th>\n",
              "      <td>4</td>\n",
              "    </tr>\n",
              "    <tr>\n",
              "      <th>1858</th>\n",
              "      <td>4</td>\n",
              "    </tr>\n",
              "    <tr>\n",
              "      <th>1859</th>\n",
              "      <td>2</td>\n",
              "    </tr>\n",
              "  </tbody>\n",
              "</table>\n",
              "<p>1860 rows × 1 columns</p>\n",
              "</div>\n",
              "      <button class=\"colab-df-convert\" onclick=\"convertToInteractive('df-162615d6-7a0d-4d47-a928-c1d0e3d0502c')\"\n",
              "              title=\"Convert this dataframe to an interactive table.\"\n",
              "              style=\"display:none;\">\n",
              "        \n",
              "  <svg xmlns=\"http://www.w3.org/2000/svg\" height=\"24px\"viewBox=\"0 0 24 24\"\n",
              "       width=\"24px\">\n",
              "    <path d=\"M0 0h24v24H0V0z\" fill=\"none\"/>\n",
              "    <path d=\"M18.56 5.44l.94 2.06.94-2.06 2.06-.94-2.06-.94-.94-2.06-.94 2.06-2.06.94zm-11 1L8.5 8.5l.94-2.06 2.06-.94-2.06-.94L8.5 2.5l-.94 2.06-2.06.94zm10 10l.94 2.06.94-2.06 2.06-.94-2.06-.94-.94-2.06-.94 2.06-2.06.94z\"/><path d=\"M17.41 7.96l-1.37-1.37c-.4-.4-.92-.59-1.43-.59-.52 0-1.04.2-1.43.59L10.3 9.45l-7.72 7.72c-.78.78-.78 2.05 0 2.83L4 21.41c.39.39.9.59 1.41.59.51 0 1.02-.2 1.41-.59l7.78-7.78 2.81-2.81c.8-.78.8-2.07 0-2.86zM5.41 20L4 18.59l7.72-7.72 1.47 1.35L5.41 20z\"/>\n",
              "  </svg>\n",
              "      </button>\n",
              "      \n",
              "  <style>\n",
              "    .colab-df-container {\n",
              "      display:flex;\n",
              "      flex-wrap:wrap;\n",
              "      gap: 12px;\n",
              "    }\n",
              "\n",
              "    .colab-df-convert {\n",
              "      background-color: #E8F0FE;\n",
              "      border: none;\n",
              "      border-radius: 50%;\n",
              "      cursor: pointer;\n",
              "      display: none;\n",
              "      fill: #1967D2;\n",
              "      height: 32px;\n",
              "      padding: 0 0 0 0;\n",
              "      width: 32px;\n",
              "    }\n",
              "\n",
              "    .colab-df-convert:hover {\n",
              "      background-color: #E2EBFA;\n",
              "      box-shadow: 0px 1px 2px rgba(60, 64, 67, 0.3), 0px 1px 3px 1px rgba(60, 64, 67, 0.15);\n",
              "      fill: #174EA6;\n",
              "    }\n",
              "\n",
              "    [theme=dark] .colab-df-convert {\n",
              "      background-color: #3B4455;\n",
              "      fill: #D2E3FC;\n",
              "    }\n",
              "\n",
              "    [theme=dark] .colab-df-convert:hover {\n",
              "      background-color: #434B5C;\n",
              "      box-shadow: 0px 1px 3px 1px rgba(0, 0, 0, 0.15);\n",
              "      filter: drop-shadow(0px 1px 2px rgba(0, 0, 0, 0.3));\n",
              "      fill: #FFFFFF;\n",
              "    }\n",
              "  </style>\n",
              "\n",
              "      <script>\n",
              "        const buttonEl =\n",
              "          document.querySelector('#df-162615d6-7a0d-4d47-a928-c1d0e3d0502c button.colab-df-convert');\n",
              "        buttonEl.style.display =\n",
              "          google.colab.kernel.accessAllowed ? 'block' : 'none';\n",
              "\n",
              "        async function convertToInteractive(key) {\n",
              "          const element = document.querySelector('#df-162615d6-7a0d-4d47-a928-c1d0e3d0502c');\n",
              "          const dataTable =\n",
              "            await google.colab.kernel.invokeFunction('convertToInteractive',\n",
              "                                                     [key], {});\n",
              "          if (!dataTable) return;\n",
              "\n",
              "          const docLinkHtml = 'Like what you see? Visit the ' +\n",
              "            '<a target=\"_blank\" href=https://colab.research.google.com/notebooks/data_table.ipynb>data table notebook</a>'\n",
              "            + ' to learn more about interactive tables.';\n",
              "          element.innerHTML = '';\n",
              "          dataTable['output_type'] = 'display_data';\n",
              "          await google.colab.output.renderOutput(dataTable, element);\n",
              "          const docLink = document.createElement('div');\n",
              "          docLink.innerHTML = docLinkHtml;\n",
              "          element.appendChild(docLink);\n",
              "        }\n",
              "      </script>\n",
              "    </div>\n",
              "  </div>\n",
              "  "
            ]
          },
          "metadata": {},
          "execution_count": 10
        }
      ]
    },
    {
      "cell_type": "code",
      "source": [
        "import pandas as pd\n",
        "\n",
        "x_train = pd.concat([x_train_prediction, x_audio_train_prediction], axis=1,join='inner')\n",
        "x_test =  pd.concat([x_test_prediction, x_audio_test_prediction], axis=1,join='inner')"
      ],
      "metadata": {
        "id": "sbkgIXaFwKwh"
      },
      "execution_count": 11,
      "outputs": []
    },
    {
      "cell_type": "code",
      "source": [
        "x_test"
      ],
      "metadata": {
        "colab": {
          "base_uri": "https://localhost:8080/",
          "height": 424
        },
        "id": "78gEQ1w7w_fd",
        "outputId": "fd863a73-1d5e-4875-821f-37798a24af3f"
      },
      "execution_count": 12,
      "outputs": [
        {
          "output_type": "execute_result",
          "data": {
            "text/plain": [
              "             OV_0      OV_1      OV_2      OV_3          OV_4      OV_5  \\\n",
              "0    7.780105e-06  0.000040  0.000027  0.000160  5.380579e-05  0.999712   \n",
              "1    7.297665e-05  0.999754  0.000043  0.000120  4.270825e-07  0.000010   \n",
              "2    1.916489e-05  0.000300  0.000004  0.999334  1.249728e-05  0.000331   \n",
              "3    1.874786e-07  0.000104  0.999859  0.000005  2.123697e-06  0.000030   \n",
              "4    6.415075e-07  0.000002  0.000005  0.000050  9.997198e-01  0.000222   \n",
              "..            ...       ...       ...       ...           ...       ...   \n",
              "202  5.623411e-05  0.000234  0.003189  0.002262  5.129320e-04  0.993745   \n",
              "203  1.472854e-07  0.000249  0.999723  0.000006  1.929889e-06  0.000020   \n",
              "204  8.814672e-06  0.000075  0.000053  0.000206  2.076775e-04  0.999449   \n",
              "205  1.981894e-07  0.000106  0.999857  0.000006  4.204789e-06  0.000026   \n",
              "206  2.242734e-05  0.469132  0.528646  0.000520  1.660531e-05  0.001664   \n",
              "\n",
              "             OA_0          OA_1          OA_2          OA_3          OA_4  \\\n",
              "0    5.012379e-11  3.684628e-07  6.224298e-03  4.627211e-04  3.444082e-06   \n",
              "1    9.641091e-01  2.669121e-02  6.304387e-03  3.033268e-04  1.269191e-06   \n",
              "2    2.391128e-02  1.680510e-03  4.879356e-07  9.744072e-01  2.952331e-10   \n",
              "3    5.321316e-09  6.407788e-06  9.951490e-01  1.355079e-05  1.689682e-05   \n",
              "4    1.379643e-10  9.318503e-11  3.736208e-07  7.188797e-08  9.999995e-01   \n",
              "..            ...           ...           ...           ...           ...   \n",
              "202  1.424587e-11  1.239000e-01  7.565239e-02  3.710574e-04  2.415475e-06   \n",
              "203  1.006677e-08  5.733472e-07  9.681415e-01  2.566828e-04  3.158712e-02   \n",
              "204  1.038829e-02  3.773066e-03  5.640590e-02  7.683203e-02  3.391310e-03   \n",
              "205  6.773360e-06  4.564986e-08  9.390048e-01  3.600182e-05  6.093900e-02   \n",
              "206  6.059908e-16  1.161259e-04  9.998839e-01  5.054364e-13  4.787654e-11   \n",
              "\n",
              "             OA_5  \n",
              "0    9.933091e-01  \n",
              "1    2.590803e-03  \n",
              "2    6.067733e-07  \n",
              "3    4.814266e-03  \n",
              "4    3.330854e-09  \n",
              "..            ...  \n",
              "202  8.000742e-01  \n",
              "203  1.415399e-05  \n",
              "204  8.492094e-01  \n",
              "205  1.333734e-05  \n",
              "206  2.684060e-13  \n",
              "\n",
              "[207 rows x 12 columns]"
            ],
            "text/html": [
              "\n",
              "  <div id=\"df-fe7c55c9-011a-40fd-b539-242267561ae5\">\n",
              "    <div class=\"colab-df-container\">\n",
              "      <div>\n",
              "<style scoped>\n",
              "    .dataframe tbody tr th:only-of-type {\n",
              "        vertical-align: middle;\n",
              "    }\n",
              "\n",
              "    .dataframe tbody tr th {\n",
              "        vertical-align: top;\n",
              "    }\n",
              "\n",
              "    .dataframe thead th {\n",
              "        text-align: right;\n",
              "    }\n",
              "</style>\n",
              "<table border=\"1\" class=\"dataframe\">\n",
              "  <thead>\n",
              "    <tr style=\"text-align: right;\">\n",
              "      <th></th>\n",
              "      <th>OV_0</th>\n",
              "      <th>OV_1</th>\n",
              "      <th>OV_2</th>\n",
              "      <th>OV_3</th>\n",
              "      <th>OV_4</th>\n",
              "      <th>OV_5</th>\n",
              "      <th>OA_0</th>\n",
              "      <th>OA_1</th>\n",
              "      <th>OA_2</th>\n",
              "      <th>OA_3</th>\n",
              "      <th>OA_4</th>\n",
              "      <th>OA_5</th>\n",
              "    </tr>\n",
              "  </thead>\n",
              "  <tbody>\n",
              "    <tr>\n",
              "      <th>0</th>\n",
              "      <td>7.780105e-06</td>\n",
              "      <td>0.000040</td>\n",
              "      <td>0.000027</td>\n",
              "      <td>0.000160</td>\n",
              "      <td>5.380579e-05</td>\n",
              "      <td>0.999712</td>\n",
              "      <td>5.012379e-11</td>\n",
              "      <td>3.684628e-07</td>\n",
              "      <td>6.224298e-03</td>\n",
              "      <td>4.627211e-04</td>\n",
              "      <td>3.444082e-06</td>\n",
              "      <td>9.933091e-01</td>\n",
              "    </tr>\n",
              "    <tr>\n",
              "      <th>1</th>\n",
              "      <td>7.297665e-05</td>\n",
              "      <td>0.999754</td>\n",
              "      <td>0.000043</td>\n",
              "      <td>0.000120</td>\n",
              "      <td>4.270825e-07</td>\n",
              "      <td>0.000010</td>\n",
              "      <td>9.641091e-01</td>\n",
              "      <td>2.669121e-02</td>\n",
              "      <td>6.304387e-03</td>\n",
              "      <td>3.033268e-04</td>\n",
              "      <td>1.269191e-06</td>\n",
              "      <td>2.590803e-03</td>\n",
              "    </tr>\n",
              "    <tr>\n",
              "      <th>2</th>\n",
              "      <td>1.916489e-05</td>\n",
              "      <td>0.000300</td>\n",
              "      <td>0.000004</td>\n",
              "      <td>0.999334</td>\n",
              "      <td>1.249728e-05</td>\n",
              "      <td>0.000331</td>\n",
              "      <td>2.391128e-02</td>\n",
              "      <td>1.680510e-03</td>\n",
              "      <td>4.879356e-07</td>\n",
              "      <td>9.744072e-01</td>\n",
              "      <td>2.952331e-10</td>\n",
              "      <td>6.067733e-07</td>\n",
              "    </tr>\n",
              "    <tr>\n",
              "      <th>3</th>\n",
              "      <td>1.874786e-07</td>\n",
              "      <td>0.000104</td>\n",
              "      <td>0.999859</td>\n",
              "      <td>0.000005</td>\n",
              "      <td>2.123697e-06</td>\n",
              "      <td>0.000030</td>\n",
              "      <td>5.321316e-09</td>\n",
              "      <td>6.407788e-06</td>\n",
              "      <td>9.951490e-01</td>\n",
              "      <td>1.355079e-05</td>\n",
              "      <td>1.689682e-05</td>\n",
              "      <td>4.814266e-03</td>\n",
              "    </tr>\n",
              "    <tr>\n",
              "      <th>4</th>\n",
              "      <td>6.415075e-07</td>\n",
              "      <td>0.000002</td>\n",
              "      <td>0.000005</td>\n",
              "      <td>0.000050</td>\n",
              "      <td>9.997198e-01</td>\n",
              "      <td>0.000222</td>\n",
              "      <td>1.379643e-10</td>\n",
              "      <td>9.318503e-11</td>\n",
              "      <td>3.736208e-07</td>\n",
              "      <td>7.188797e-08</td>\n",
              "      <td>9.999995e-01</td>\n",
              "      <td>3.330854e-09</td>\n",
              "    </tr>\n",
              "    <tr>\n",
              "      <th>...</th>\n",
              "      <td>...</td>\n",
              "      <td>...</td>\n",
              "      <td>...</td>\n",
              "      <td>...</td>\n",
              "      <td>...</td>\n",
              "      <td>...</td>\n",
              "      <td>...</td>\n",
              "      <td>...</td>\n",
              "      <td>...</td>\n",
              "      <td>...</td>\n",
              "      <td>...</td>\n",
              "      <td>...</td>\n",
              "    </tr>\n",
              "    <tr>\n",
              "      <th>202</th>\n",
              "      <td>5.623411e-05</td>\n",
              "      <td>0.000234</td>\n",
              "      <td>0.003189</td>\n",
              "      <td>0.002262</td>\n",
              "      <td>5.129320e-04</td>\n",
              "      <td>0.993745</td>\n",
              "      <td>1.424587e-11</td>\n",
              "      <td>1.239000e-01</td>\n",
              "      <td>7.565239e-02</td>\n",
              "      <td>3.710574e-04</td>\n",
              "      <td>2.415475e-06</td>\n",
              "      <td>8.000742e-01</td>\n",
              "    </tr>\n",
              "    <tr>\n",
              "      <th>203</th>\n",
              "      <td>1.472854e-07</td>\n",
              "      <td>0.000249</td>\n",
              "      <td>0.999723</td>\n",
              "      <td>0.000006</td>\n",
              "      <td>1.929889e-06</td>\n",
              "      <td>0.000020</td>\n",
              "      <td>1.006677e-08</td>\n",
              "      <td>5.733472e-07</td>\n",
              "      <td>9.681415e-01</td>\n",
              "      <td>2.566828e-04</td>\n",
              "      <td>3.158712e-02</td>\n",
              "      <td>1.415399e-05</td>\n",
              "    </tr>\n",
              "    <tr>\n",
              "      <th>204</th>\n",
              "      <td>8.814672e-06</td>\n",
              "      <td>0.000075</td>\n",
              "      <td>0.000053</td>\n",
              "      <td>0.000206</td>\n",
              "      <td>2.076775e-04</td>\n",
              "      <td>0.999449</td>\n",
              "      <td>1.038829e-02</td>\n",
              "      <td>3.773066e-03</td>\n",
              "      <td>5.640590e-02</td>\n",
              "      <td>7.683203e-02</td>\n",
              "      <td>3.391310e-03</td>\n",
              "      <td>8.492094e-01</td>\n",
              "    </tr>\n",
              "    <tr>\n",
              "      <th>205</th>\n",
              "      <td>1.981894e-07</td>\n",
              "      <td>0.000106</td>\n",
              "      <td>0.999857</td>\n",
              "      <td>0.000006</td>\n",
              "      <td>4.204789e-06</td>\n",
              "      <td>0.000026</td>\n",
              "      <td>6.773360e-06</td>\n",
              "      <td>4.564986e-08</td>\n",
              "      <td>9.390048e-01</td>\n",
              "      <td>3.600182e-05</td>\n",
              "      <td>6.093900e-02</td>\n",
              "      <td>1.333734e-05</td>\n",
              "    </tr>\n",
              "    <tr>\n",
              "      <th>206</th>\n",
              "      <td>2.242734e-05</td>\n",
              "      <td>0.469132</td>\n",
              "      <td>0.528646</td>\n",
              "      <td>0.000520</td>\n",
              "      <td>1.660531e-05</td>\n",
              "      <td>0.001664</td>\n",
              "      <td>6.059908e-16</td>\n",
              "      <td>1.161259e-04</td>\n",
              "      <td>9.998839e-01</td>\n",
              "      <td>5.054364e-13</td>\n",
              "      <td>4.787654e-11</td>\n",
              "      <td>2.684060e-13</td>\n",
              "    </tr>\n",
              "  </tbody>\n",
              "</table>\n",
              "<p>207 rows × 12 columns</p>\n",
              "</div>\n",
              "      <button class=\"colab-df-convert\" onclick=\"convertToInteractive('df-fe7c55c9-011a-40fd-b539-242267561ae5')\"\n",
              "              title=\"Convert this dataframe to an interactive table.\"\n",
              "              style=\"display:none;\">\n",
              "        \n",
              "  <svg xmlns=\"http://www.w3.org/2000/svg\" height=\"24px\"viewBox=\"0 0 24 24\"\n",
              "       width=\"24px\">\n",
              "    <path d=\"M0 0h24v24H0V0z\" fill=\"none\"/>\n",
              "    <path d=\"M18.56 5.44l.94 2.06.94-2.06 2.06-.94-2.06-.94-.94-2.06-.94 2.06-2.06.94zm-11 1L8.5 8.5l.94-2.06 2.06-.94-2.06-.94L8.5 2.5l-.94 2.06-2.06.94zm10 10l.94 2.06.94-2.06 2.06-.94-2.06-.94-.94-2.06-.94 2.06-2.06.94z\"/><path d=\"M17.41 7.96l-1.37-1.37c-.4-.4-.92-.59-1.43-.59-.52 0-1.04.2-1.43.59L10.3 9.45l-7.72 7.72c-.78.78-.78 2.05 0 2.83L4 21.41c.39.39.9.59 1.41.59.51 0 1.02-.2 1.41-.59l7.78-7.78 2.81-2.81c.8-.78.8-2.07 0-2.86zM5.41 20L4 18.59l7.72-7.72 1.47 1.35L5.41 20z\"/>\n",
              "  </svg>\n",
              "      </button>\n",
              "      \n",
              "  <style>\n",
              "    .colab-df-container {\n",
              "      display:flex;\n",
              "      flex-wrap:wrap;\n",
              "      gap: 12px;\n",
              "    }\n",
              "\n",
              "    .colab-df-convert {\n",
              "      background-color: #E8F0FE;\n",
              "      border: none;\n",
              "      border-radius: 50%;\n",
              "      cursor: pointer;\n",
              "      display: none;\n",
              "      fill: #1967D2;\n",
              "      height: 32px;\n",
              "      padding: 0 0 0 0;\n",
              "      width: 32px;\n",
              "    }\n",
              "\n",
              "    .colab-df-convert:hover {\n",
              "      background-color: #E2EBFA;\n",
              "      box-shadow: 0px 1px 2px rgba(60, 64, 67, 0.3), 0px 1px 3px 1px rgba(60, 64, 67, 0.15);\n",
              "      fill: #174EA6;\n",
              "    }\n",
              "\n",
              "    [theme=dark] .colab-df-convert {\n",
              "      background-color: #3B4455;\n",
              "      fill: #D2E3FC;\n",
              "    }\n",
              "\n",
              "    [theme=dark] .colab-df-convert:hover {\n",
              "      background-color: #434B5C;\n",
              "      box-shadow: 0px 1px 3px 1px rgba(0, 0, 0, 0.15);\n",
              "      filter: drop-shadow(0px 1px 2px rgba(0, 0, 0, 0.3));\n",
              "      fill: #FFFFFF;\n",
              "    }\n",
              "  </style>\n",
              "\n",
              "      <script>\n",
              "        const buttonEl =\n",
              "          document.querySelector('#df-fe7c55c9-011a-40fd-b539-242267561ae5 button.colab-df-convert');\n",
              "        buttonEl.style.display =\n",
              "          google.colab.kernel.accessAllowed ? 'block' : 'none';\n",
              "\n",
              "        async function convertToInteractive(key) {\n",
              "          const element = document.querySelector('#df-fe7c55c9-011a-40fd-b539-242267561ae5');\n",
              "          const dataTable =\n",
              "            await google.colab.kernel.invokeFunction('convertToInteractive',\n",
              "                                                     [key], {});\n",
              "          if (!dataTable) return;\n",
              "\n",
              "          const docLinkHtml = 'Like what you see? Visit the ' +\n",
              "            '<a target=\"_blank\" href=https://colab.research.google.com/notebooks/data_table.ipynb>data table notebook</a>'\n",
              "            + ' to learn more about interactive tables.';\n",
              "          element.innerHTML = '';\n",
              "          dataTable['output_type'] = 'display_data';\n",
              "          await google.colab.output.renderOutput(dataTable, element);\n",
              "          const docLink = document.createElement('div');\n",
              "          docLink.innerHTML = docLinkHtml;\n",
              "          element.appendChild(docLink);\n",
              "        }\n",
              "      </script>\n",
              "    </div>\n",
              "  </div>\n",
              "  "
            ]
          },
          "metadata": {},
          "execution_count": 12
        }
      ]
    },
    {
      "cell_type": "code",
      "source": [
        "len(x_test),len(x_train)"
      ],
      "metadata": {
        "colab": {
          "base_uri": "https://localhost:8080/"
        },
        "id": "ryRQjTkUyZJv",
        "outputId": "63bf0c32-63b6-4575-eebb-8b181eddb441"
      },
      "execution_count": 13,
      "outputs": [
        {
          "output_type": "execute_result",
          "data": {
            "text/plain": [
              "(207, 1860)"
            ]
          },
          "metadata": {},
          "execution_count": 13
        }
      ]
    },
    {
      "cell_type": "code",
      "source": [
        "x_train"
      ],
      "metadata": {
        "colab": {
          "base_uri": "https://localhost:8080/",
          "height": 424
        },
        "id": "1e5kgXiFwzx3",
        "outputId": "4745567b-a85a-4c7b-f572-999c922e7f1a"
      },
      "execution_count": 14,
      "outputs": [
        {
          "output_type": "execute_result",
          "data": {
            "text/plain": [
              "              OV_0      OV_1          OV_2      OV_3      OV_4      OV_5  \\\n",
              "0     5.110107e-07  0.000003  1.590872e-06  0.000024  0.999869  0.000102   \n",
              "1     4.388915e-05  0.999194  1.771843e-04  0.000548  0.000006  0.000030   \n",
              "2     1.616983e-07  0.000217  9.997681e-01  0.000005  0.000001  0.000009   \n",
              "3     6.566693e-05  0.000115  4.973264e-07  0.999346  0.000241  0.000232   \n",
              "4     2.649658e-06  0.003611  9.962283e-01  0.000017  0.000001  0.000140   \n",
              "...            ...       ...           ...       ...       ...       ...   \n",
              "1855  2.409035e-05  0.000075  9.488845e-07  0.999642  0.000009  0.000250   \n",
              "1856  9.955193e-01  0.001356  7.494498e-07  0.001737  0.000022  0.001365   \n",
              "1857  2.784763e-07  0.000001  1.670589e-06  0.000019  0.999886  0.000092   \n",
              "1858  1.203074e-05  0.000096  5.784472e-05  0.009850  0.986992  0.002992   \n",
              "1859  1.625500e-07  0.000201  9.997849e-01  0.000004  0.000002  0.000008   \n",
              "\n",
              "              OA_0          OA_1          OA_2          OA_3          OA_4  \\\n",
              "0     2.835891e-03  1.436061e-03  1.658625e-04  3.749105e-05  9.955010e-01   \n",
              "1     6.377333e-04  9.925016e-01  4.295442e-04  5.291133e-03  2.300187e-06   \n",
              "2     7.749664e-04  1.693103e-03  9.843473e-01  3.590833e-04  5.303353e-05   \n",
              "3     2.623951e-04  1.553866e-06  3.487292e-03  9.941869e-01  1.483665e-03   \n",
              "4     1.718150e-11  8.203830e-06  9.999918e-01  2.404246e-12  7.817844e-12   \n",
              "...            ...           ...           ...           ...           ...   \n",
              "1855  2.683446e-09  3.941940e-05  1.976865e-09  9.970955e-01  2.607429e-03   \n",
              "1856  9.326106e-01  6.266353e-02  3.045640e-03  1.490545e-03  1.509235e-04   \n",
              "1857  2.756317e-08  9.796824e-10  3.647917e-05  2.185609e-06  9.999608e-01   \n",
              "1858  8.045603e-07  2.001047e-06  6.268712e-03  7.322072e-04  8.208947e-01   \n",
              "1859  9.662510e-07  4.679011e-08  9.999083e-01  2.329902e-05  6.386554e-05   \n",
              "\n",
              "              OA_5  \n",
              "0     2.372283e-05  \n",
              "1     1.137630e-03  \n",
              "2     1.277249e-02  \n",
              "3     5.781858e-04  \n",
              "4     8.751447e-12  \n",
              "...            ...  \n",
              "1855  2.576215e-04  \n",
              "1856  3.888915e-05  \n",
              "1857  4.612859e-07  \n",
              "1858  1.721016e-01  \n",
              "1859  3.655312e-06  \n",
              "\n",
              "[1860 rows x 12 columns]"
            ],
            "text/html": [
              "\n",
              "  <div id=\"df-be220c13-b0e6-4761-949f-f5e96f407de6\">\n",
              "    <div class=\"colab-df-container\">\n",
              "      <div>\n",
              "<style scoped>\n",
              "    .dataframe tbody tr th:only-of-type {\n",
              "        vertical-align: middle;\n",
              "    }\n",
              "\n",
              "    .dataframe tbody tr th {\n",
              "        vertical-align: top;\n",
              "    }\n",
              "\n",
              "    .dataframe thead th {\n",
              "        text-align: right;\n",
              "    }\n",
              "</style>\n",
              "<table border=\"1\" class=\"dataframe\">\n",
              "  <thead>\n",
              "    <tr style=\"text-align: right;\">\n",
              "      <th></th>\n",
              "      <th>OV_0</th>\n",
              "      <th>OV_1</th>\n",
              "      <th>OV_2</th>\n",
              "      <th>OV_3</th>\n",
              "      <th>OV_4</th>\n",
              "      <th>OV_5</th>\n",
              "      <th>OA_0</th>\n",
              "      <th>OA_1</th>\n",
              "      <th>OA_2</th>\n",
              "      <th>OA_3</th>\n",
              "      <th>OA_4</th>\n",
              "      <th>OA_5</th>\n",
              "    </tr>\n",
              "  </thead>\n",
              "  <tbody>\n",
              "    <tr>\n",
              "      <th>0</th>\n",
              "      <td>5.110107e-07</td>\n",
              "      <td>0.000003</td>\n",
              "      <td>1.590872e-06</td>\n",
              "      <td>0.000024</td>\n",
              "      <td>0.999869</td>\n",
              "      <td>0.000102</td>\n",
              "      <td>2.835891e-03</td>\n",
              "      <td>1.436061e-03</td>\n",
              "      <td>1.658625e-04</td>\n",
              "      <td>3.749105e-05</td>\n",
              "      <td>9.955010e-01</td>\n",
              "      <td>2.372283e-05</td>\n",
              "    </tr>\n",
              "    <tr>\n",
              "      <th>1</th>\n",
              "      <td>4.388915e-05</td>\n",
              "      <td>0.999194</td>\n",
              "      <td>1.771843e-04</td>\n",
              "      <td>0.000548</td>\n",
              "      <td>0.000006</td>\n",
              "      <td>0.000030</td>\n",
              "      <td>6.377333e-04</td>\n",
              "      <td>9.925016e-01</td>\n",
              "      <td>4.295442e-04</td>\n",
              "      <td>5.291133e-03</td>\n",
              "      <td>2.300187e-06</td>\n",
              "      <td>1.137630e-03</td>\n",
              "    </tr>\n",
              "    <tr>\n",
              "      <th>2</th>\n",
              "      <td>1.616983e-07</td>\n",
              "      <td>0.000217</td>\n",
              "      <td>9.997681e-01</td>\n",
              "      <td>0.000005</td>\n",
              "      <td>0.000001</td>\n",
              "      <td>0.000009</td>\n",
              "      <td>7.749664e-04</td>\n",
              "      <td>1.693103e-03</td>\n",
              "      <td>9.843473e-01</td>\n",
              "      <td>3.590833e-04</td>\n",
              "      <td>5.303353e-05</td>\n",
              "      <td>1.277249e-02</td>\n",
              "    </tr>\n",
              "    <tr>\n",
              "      <th>3</th>\n",
              "      <td>6.566693e-05</td>\n",
              "      <td>0.000115</td>\n",
              "      <td>4.973264e-07</td>\n",
              "      <td>0.999346</td>\n",
              "      <td>0.000241</td>\n",
              "      <td>0.000232</td>\n",
              "      <td>2.623951e-04</td>\n",
              "      <td>1.553866e-06</td>\n",
              "      <td>3.487292e-03</td>\n",
              "      <td>9.941869e-01</td>\n",
              "      <td>1.483665e-03</td>\n",
              "      <td>5.781858e-04</td>\n",
              "    </tr>\n",
              "    <tr>\n",
              "      <th>4</th>\n",
              "      <td>2.649658e-06</td>\n",
              "      <td>0.003611</td>\n",
              "      <td>9.962283e-01</td>\n",
              "      <td>0.000017</td>\n",
              "      <td>0.000001</td>\n",
              "      <td>0.000140</td>\n",
              "      <td>1.718150e-11</td>\n",
              "      <td>8.203830e-06</td>\n",
              "      <td>9.999918e-01</td>\n",
              "      <td>2.404246e-12</td>\n",
              "      <td>7.817844e-12</td>\n",
              "      <td>8.751447e-12</td>\n",
              "    </tr>\n",
              "    <tr>\n",
              "      <th>...</th>\n",
              "      <td>...</td>\n",
              "      <td>...</td>\n",
              "      <td>...</td>\n",
              "      <td>...</td>\n",
              "      <td>...</td>\n",
              "      <td>...</td>\n",
              "      <td>...</td>\n",
              "      <td>...</td>\n",
              "      <td>...</td>\n",
              "      <td>...</td>\n",
              "      <td>...</td>\n",
              "      <td>...</td>\n",
              "    </tr>\n",
              "    <tr>\n",
              "      <th>1855</th>\n",
              "      <td>2.409035e-05</td>\n",
              "      <td>0.000075</td>\n",
              "      <td>9.488845e-07</td>\n",
              "      <td>0.999642</td>\n",
              "      <td>0.000009</td>\n",
              "      <td>0.000250</td>\n",
              "      <td>2.683446e-09</td>\n",
              "      <td>3.941940e-05</td>\n",
              "      <td>1.976865e-09</td>\n",
              "      <td>9.970955e-01</td>\n",
              "      <td>2.607429e-03</td>\n",
              "      <td>2.576215e-04</td>\n",
              "    </tr>\n",
              "    <tr>\n",
              "      <th>1856</th>\n",
              "      <td>9.955193e-01</td>\n",
              "      <td>0.001356</td>\n",
              "      <td>7.494498e-07</td>\n",
              "      <td>0.001737</td>\n",
              "      <td>0.000022</td>\n",
              "      <td>0.001365</td>\n",
              "      <td>9.326106e-01</td>\n",
              "      <td>6.266353e-02</td>\n",
              "      <td>3.045640e-03</td>\n",
              "      <td>1.490545e-03</td>\n",
              "      <td>1.509235e-04</td>\n",
              "      <td>3.888915e-05</td>\n",
              "    </tr>\n",
              "    <tr>\n",
              "      <th>1857</th>\n",
              "      <td>2.784763e-07</td>\n",
              "      <td>0.000001</td>\n",
              "      <td>1.670589e-06</td>\n",
              "      <td>0.000019</td>\n",
              "      <td>0.999886</td>\n",
              "      <td>0.000092</td>\n",
              "      <td>2.756317e-08</td>\n",
              "      <td>9.796824e-10</td>\n",
              "      <td>3.647917e-05</td>\n",
              "      <td>2.185609e-06</td>\n",
              "      <td>9.999608e-01</td>\n",
              "      <td>4.612859e-07</td>\n",
              "    </tr>\n",
              "    <tr>\n",
              "      <th>1858</th>\n",
              "      <td>1.203074e-05</td>\n",
              "      <td>0.000096</td>\n",
              "      <td>5.784472e-05</td>\n",
              "      <td>0.009850</td>\n",
              "      <td>0.986992</td>\n",
              "      <td>0.002992</td>\n",
              "      <td>8.045603e-07</td>\n",
              "      <td>2.001047e-06</td>\n",
              "      <td>6.268712e-03</td>\n",
              "      <td>7.322072e-04</td>\n",
              "      <td>8.208947e-01</td>\n",
              "      <td>1.721016e-01</td>\n",
              "    </tr>\n",
              "    <tr>\n",
              "      <th>1859</th>\n",
              "      <td>1.625500e-07</td>\n",
              "      <td>0.000201</td>\n",
              "      <td>9.997849e-01</td>\n",
              "      <td>0.000004</td>\n",
              "      <td>0.000002</td>\n",
              "      <td>0.000008</td>\n",
              "      <td>9.662510e-07</td>\n",
              "      <td>4.679011e-08</td>\n",
              "      <td>9.999083e-01</td>\n",
              "      <td>2.329902e-05</td>\n",
              "      <td>6.386554e-05</td>\n",
              "      <td>3.655312e-06</td>\n",
              "    </tr>\n",
              "  </tbody>\n",
              "</table>\n",
              "<p>1860 rows × 12 columns</p>\n",
              "</div>\n",
              "      <button class=\"colab-df-convert\" onclick=\"convertToInteractive('df-be220c13-b0e6-4761-949f-f5e96f407de6')\"\n",
              "              title=\"Convert this dataframe to an interactive table.\"\n",
              "              style=\"display:none;\">\n",
              "        \n",
              "  <svg xmlns=\"http://www.w3.org/2000/svg\" height=\"24px\"viewBox=\"0 0 24 24\"\n",
              "       width=\"24px\">\n",
              "    <path d=\"M0 0h24v24H0V0z\" fill=\"none\"/>\n",
              "    <path d=\"M18.56 5.44l.94 2.06.94-2.06 2.06-.94-2.06-.94-.94-2.06-.94 2.06-2.06.94zm-11 1L8.5 8.5l.94-2.06 2.06-.94-2.06-.94L8.5 2.5l-.94 2.06-2.06.94zm10 10l.94 2.06.94-2.06 2.06-.94-2.06-.94-.94-2.06-.94 2.06-2.06.94z\"/><path d=\"M17.41 7.96l-1.37-1.37c-.4-.4-.92-.59-1.43-.59-.52 0-1.04.2-1.43.59L10.3 9.45l-7.72 7.72c-.78.78-.78 2.05 0 2.83L4 21.41c.39.39.9.59 1.41.59.51 0 1.02-.2 1.41-.59l7.78-7.78 2.81-2.81c.8-.78.8-2.07 0-2.86zM5.41 20L4 18.59l7.72-7.72 1.47 1.35L5.41 20z\"/>\n",
              "  </svg>\n",
              "      </button>\n",
              "      \n",
              "  <style>\n",
              "    .colab-df-container {\n",
              "      display:flex;\n",
              "      flex-wrap:wrap;\n",
              "      gap: 12px;\n",
              "    }\n",
              "\n",
              "    .colab-df-convert {\n",
              "      background-color: #E8F0FE;\n",
              "      border: none;\n",
              "      border-radius: 50%;\n",
              "      cursor: pointer;\n",
              "      display: none;\n",
              "      fill: #1967D2;\n",
              "      height: 32px;\n",
              "      padding: 0 0 0 0;\n",
              "      width: 32px;\n",
              "    }\n",
              "\n",
              "    .colab-df-convert:hover {\n",
              "      background-color: #E2EBFA;\n",
              "      box-shadow: 0px 1px 2px rgba(60, 64, 67, 0.3), 0px 1px 3px 1px rgba(60, 64, 67, 0.15);\n",
              "      fill: #174EA6;\n",
              "    }\n",
              "\n",
              "    [theme=dark] .colab-df-convert {\n",
              "      background-color: #3B4455;\n",
              "      fill: #D2E3FC;\n",
              "    }\n",
              "\n",
              "    [theme=dark] .colab-df-convert:hover {\n",
              "      background-color: #434B5C;\n",
              "      box-shadow: 0px 1px 3px 1px rgba(0, 0, 0, 0.15);\n",
              "      filter: drop-shadow(0px 1px 2px rgba(0, 0, 0, 0.3));\n",
              "      fill: #FFFFFF;\n",
              "    }\n",
              "  </style>\n",
              "\n",
              "      <script>\n",
              "        const buttonEl =\n",
              "          document.querySelector('#df-be220c13-b0e6-4761-949f-f5e96f407de6 button.colab-df-convert');\n",
              "        buttonEl.style.display =\n",
              "          google.colab.kernel.accessAllowed ? 'block' : 'none';\n",
              "\n",
              "        async function convertToInteractive(key) {\n",
              "          const element = document.querySelector('#df-be220c13-b0e6-4761-949f-f5e96f407de6');\n",
              "          const dataTable =\n",
              "            await google.colab.kernel.invokeFunction('convertToInteractive',\n",
              "                                                     [key], {});\n",
              "          if (!dataTable) return;\n",
              "\n",
              "          const docLinkHtml = 'Like what you see? Visit the ' +\n",
              "            '<a target=\"_blank\" href=https://colab.research.google.com/notebooks/data_table.ipynb>data table notebook</a>'\n",
              "            + ' to learn more about interactive tables.';\n",
              "          element.innerHTML = '';\n",
              "          dataTable['output_type'] = 'display_data';\n",
              "          await google.colab.output.renderOutput(dataTable, element);\n",
              "          const docLink = document.createElement('div');\n",
              "          docLink.innerHTML = docLinkHtml;\n",
              "          element.appendChild(docLink);\n",
              "        }\n",
              "      </script>\n",
              "    </div>\n",
              "  </div>\n",
              "  "
            ]
          },
          "metadata": {},
          "execution_count": 14
        }
      ]
    },
    {
      "cell_type": "code",
      "source": [
        "from sklearn.utils import shuffle\n",
        "seed=42\n",
        "new_x_train = shuffle(x_train,random_state=seed)\n",
        "new_y_train = shuffle(df_train,random_state=seed)\n",
        "new_x_train = new_x_train.reset_index(drop=True)\n",
        "new_y_train = new_y_train.reset_index(drop=True)\n",
        "\"\"\"\n",
        "y_train=df_train.to_numpy()\n",
        "y_train=y_train.reshape(1860,)\n",
        "y_train, y_train.shape\n",
        "\"\"\""
      ],
      "metadata": {
        "colab": {
          "base_uri": "https://localhost:8080/",
          "height": 36
        },
        "id": "p5veJq2ei1vA",
        "outputId": "35ed6106-a0c2-44f7-9efb-4d7993e70a3c"
      },
      "execution_count": 15,
      "outputs": [
        {
          "output_type": "execute_result",
          "data": {
            "text/plain": [
              "'\\ny_train=df_train.to_numpy()\\ny_train=y_train.reshape(1860,)\\ny_train, y_train.shape\\n'"
            ],
            "application/vnd.google.colaboratory.intrinsic+json": {
              "type": "string"
            }
          },
          "metadata": {},
          "execution_count": 15
        }
      ]
    },
    {
      "cell_type": "code",
      "source": [
        "len(new_y_train)"
      ],
      "metadata": {
        "colab": {
          "base_uri": "https://localhost:8080/"
        },
        "id": "pFfSFyo-7NfO",
        "outputId": "6cee9cb9-055c-41e1-eca8-531b945edf70"
      },
      "execution_count": 16,
      "outputs": [
        {
          "output_type": "execute_result",
          "data": {
            "text/plain": [
              "1860"
            ]
          },
          "metadata": {},
          "execution_count": 16
        }
      ]
    },
    {
      "cell_type": "code",
      "source": [
        "from sklearn.preprocessing import StandardScaler, MinMaxScaler\n",
        "scaler = MinMaxScaler(feature_range=(0, 1))\n",
        "new_x_train = scaler.fit_transform(new_x_train)\n",
        "X_test = scaler.transform(x_test)"
      ],
      "metadata": {
        "id": "wPUM0nKyxmkZ"
      },
      "execution_count": 17,
      "outputs": []
    },
    {
      "cell_type": "code",
      "source": [
        "y_train=df_train.to_numpy()\n",
        "y_train=y_train.reshape(1860,)\n",
        "y_train, y_train.shape"
      ],
      "metadata": {
        "colab": {
          "base_uri": "https://localhost:8080/"
        },
        "id": "4UmZkWm-tMOU",
        "outputId": "d75e131b-38f6-4bed-9052-c9058723f4e3"
      },
      "execution_count": 18,
      "outputs": [
        {
          "output_type": "execute_result",
          "data": {
            "text/plain": [
              "(array([4, 1, 2, ..., 4, 4, 2]), (1860,))"
            ]
          },
          "metadata": {},
          "execution_count": 18
        }
      ]
    },
    {
      "cell_type": "markdown",
      "source": [
        "# training machine learning"
      ],
      "metadata": {
        "id": "1hZPjTpT4lb3"
      }
    },
    {
      "cell_type": "code",
      "source": [
        "from sklearn.svm import SVC\n",
        "model = SVC(random_state=seed, kernel='rbf')\n",
        "svm=model.fit(x_train,y_train)\n",
        "predictions = model.predict(x_test)\n",
        "#print(\"Restored model, accuracy: {:5.2f}%\".format(100*acc))"
      ],
      "metadata": {
        "id": "PS4PZtkj5G8k"
      },
      "execution_count": 19,
      "outputs": []
    },
    {
      "cell_type": "code",
      "source": [
        "predictions"
      ],
      "metadata": {
        "colab": {
          "base_uri": "https://localhost:8080/"
        },
        "id": "ibm_g_O66uKI",
        "outputId": "51e91d08-c9c6-43e8-e931-0414b3f24748"
      },
      "execution_count": 20,
      "outputs": [
        {
          "output_type": "execute_result",
          "data": {
            "text/plain": [
              "array([5, 1, 3, 2, 4, 3, 5, 5, 2, 4, 0, 0, 4, 5, 4, 3, 3, 4, 3, 3, 4, 1,\n",
              "       4, 5, 0, 4, 4, 2, 3, 4, 5, 3, 1, 3, 5, 3, 5, 5, 0, 5, 0, 4, 3, 2,\n",
              "       2, 5, 2, 5, 4, 3, 2, 1, 4, 5, 1, 4, 1, 0, 1, 0, 4, 0, 4, 1, 3, 1,\n",
              "       5, 3, 3, 1, 1, 2, 4, 4, 1, 3, 1, 1, 1, 0, 5, 1, 5, 4, 1, 3, 2, 0,\n",
              "       5, 5, 2, 3, 2, 5, 5, 1, 3, 3, 5, 2, 0, 4, 4, 2, 1, 3, 1, 4, 3, 5,\n",
              "       2, 5, 3, 2, 5, 5, 3, 2, 3, 2, 1, 3, 1, 1, 3, 1, 5, 1, 3, 4, 4, 3,\n",
              "       5, 5, 5, 4, 2, 0, 1, 4, 4, 2, 1, 2, 3, 2, 5, 4, 5, 4, 4, 5, 1, 1,\n",
              "       2, 1, 2, 2, 2, 2, 1, 2, 3, 5, 4, 4, 4, 2, 1, 0, 1, 2, 2, 3, 2, 4,\n",
              "       0, 1, 3, 5, 1, 5, 1, 5, 4, 5, 3, 1, 2, 2, 4, 1, 3, 3, 2, 5, 5, 3,\n",
              "       1, 1, 3, 2, 5, 2, 5, 2, 2])"
            ]
          },
          "metadata": {},
          "execution_count": 20
        }
      ]
    },
    {
      "cell_type": "code",
      "source": [
        "from sklearn.metrics import classification_report, confusion_matrix,accuracy_score\n",
        "import seaborn as sn\n",
        "import matplotlib.pyplot as plt\n",
        "\n",
        "print(classification_report(y_test,predictions))\n",
        "\n",
        "acc = float(accuracy_score(y_test,predictions))*100\n",
        "print(\"----accuracy score %s ----\" % acc)\n",
        "\n",
        "cm = confusion_matrix(y_test,predictions)\n",
        "#df_cm = pd.DataFrame(cm)\n",
        "class_names = ['neutral','calm', 'happy','sad','angry', 'fearful' ]\n",
        "df_cm = pd.DataFrame(cm, index=class_names, columns=class_names,)\n",
        "sn.heatmap(df_cm, annot=True, fmt='')\n",
        "plt.show()"
      ],
      "metadata": {
        "colab": {
          "base_uri": "https://localhost:8080/",
          "height": 508
        },
        "id": "A9gR6pV063GP",
        "outputId": "f5a3329b-3d9e-43bc-c2ee-6f6c2437d437"
      },
      "execution_count": 21,
      "outputs": [
        {
          "output_type": "stream",
          "name": "stdout",
          "text": [
            "              precision    recall  f1-score   support\n",
            "\n",
            "           0       0.86      1.00      0.92        12\n",
            "           1       0.93      0.97      0.95        38\n",
            "           2       1.00      0.90      0.95        42\n",
            "           3       1.00      0.93      0.96        41\n",
            "           4       0.97      0.97      0.97        36\n",
            "           5       0.93      1.00      0.96        38\n",
            "\n",
            "    accuracy                           0.96       207\n",
            "   macro avg       0.95      0.96      0.95       207\n",
            "weighted avg       0.96      0.96      0.96       207\n",
            "\n",
            "----accuracy score 95.65217391304348 ----\n"
          ]
        },
        {
          "output_type": "display_data",
          "data": {
            "text/plain": [
              "<Figure size 432x288 with 2 Axes>"
            ],
            "image/png": "[encoded data removed]"
          },
          "metadata": {
            "needs_background": "light"
          }
        }
      ]
    },
    {
      "cell_type": "code",
      "source": [
        "path='/content/drive/My Drive/fusion/fusion_model/SVM/rbf/expert6 '\n",
        "savedvX = joblib.dump(model, path)\n",
        "\n",
        "print(\"MODEL SAVED\")"
      ],
      "metadata": {
        "colab": {
          "base_uri": "https://localhost:8080/"
        },
        "id": "WFonuoIS7NTg",
        "outputId": "bde94e54-a6fa-4592-8f66-8ade11afae6b"
      },
      "execution_count": 22,
      "outputs": [
        {
          "output_type": "stream",
          "name": "stdout",
          "text": [
            "MODEL SAVED\n"
          ]
        }
      ]
    },
    {
      "cell_type": "code",
      "source": [
        ""
      ],
      "metadata": {
        "id": "Bp4nDNcd7lc_"
      },
      "execution_count": 22,
      "outputs": []
    }
  ]
}