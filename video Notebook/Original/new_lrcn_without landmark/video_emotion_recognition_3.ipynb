{
  "nbformat": 4,
  "nbformat_minor": 0,
  "metadata": {
    "colab": {
      "name": "video_emotion_recognition_3.ipynb",
      "provenance": [],
      "collapsed_sections": [],
      "machine_shape": "hm"
    },
    "kernelspec": {
      "name": "python3",
      "display_name": "Python 3"
    },
    "accelerator": "GPU"
  },
  "cells": [
    {
      "cell_type": "code",
      "source": [
        "from google.colab import drive\n",
        "drive.mount('/content/drive')"
      ],
      "metadata": {
        "colab": {
          "base_uri": "https://localhost:8080/"
        },
        "id": "o94I67GBPVfM",
        "outputId": "6d7f9d6b-b5ac-4df8-e696-5b6ef1817863"
      },
      "execution_count": 6,
      "outputs": [
        {
          "output_type": "stream",
          "name": "stdout",
          "text": [
            "Mounted at /content/drive\n"
          ]
        }
      ]
    },
    {
      "cell_type": "code",
      "source": [
        "# Discard the output of this cell.\n",
        "#%%capture\n",
        "\n",
        "# Install the required libraries.\n",
        "!pip install tensorflow opencv-contrib-python youtube-dl moviepy pydot\n",
        "!pip install git+https://github.com/TahaAnwar/pafy.git#egg=pafy"
      ],
      "metadata": {
        "colab": {
          "base_uri": "https://localhost:8080/"
        },
        "id": "6OQ7vRnzP6n8",
        "outputId": "83b289eb-90dd-43e5-af6e-19d7a13ce75a"
      },
      "execution_count": 1,
      "outputs": [
        {
          "output_type": "stream",
          "name": "stdout",
          "text": [
            "Looking in indexes: https://pypi.org/simple, https://us-python.pkg.dev/colab-wheels/public/simple/\n",
            "Requirement already satisfied: tensorflow in /usr/local/lib/python3.7/dist-packages (2.8.2+zzzcolab20220527125636)\n",
            "Requirement already satisfied: opencv-contrib-python in /usr/local/lib/python3.7/dist-packages (4.1.2.30)\n",
            "Requirement already satisfied: youtube-dl in /usr/local/lib/python3.7/dist-packages (2021.12.17)\n",
            "Requirement already satisfied: moviepy in /usr/local/lib/python3.7/dist-packages (0.2.3.5)\n",
            "Requirement already satisfied: pydot in /usr/local/lib/python3.7/dist-packages (1.3.0)\n",
            "Requirement already satisfied: keras<2.9,>=2.8.0rc0 in /usr/local/lib/python3.7/dist-packages (from tensorflow) (2.8.0)\n",
            "Requirement already satisfied: wrapt>=1.11.0 in /usr/local/lib/python3.7/dist-packages (from tensorflow) (1.14.1)\n",
            "Requirement already satisfied: tensorflow-io-gcs-filesystem>=0.23.1 in /usr/local/lib/python3.7/dist-packages (from tensorflow) (0.26.0)\n",
            "Requirement already satisfied: astunparse>=1.6.0 in /usr/local/lib/python3.7/dist-packages (from tensorflow) (1.6.3)\n",
            "Requirement already satisfied: libclang>=9.0.1 in /usr/local/lib/python3.7/dist-packages (from tensorflow) (14.0.1)\n",
            "Requirement already satisfied: termcolor>=1.1.0 in /usr/local/lib/python3.7/dist-packages (from tensorflow) (1.1.0)\n",
            "Requirement already satisfied: flatbuffers>=1.12 in /usr/local/lib/python3.7/dist-packages (from tensorflow) (2.0)\n",
            "Requirement already satisfied: protobuf<3.20,>=3.9.2 in /usr/local/lib/python3.7/dist-packages (from tensorflow) (3.17.3)\n",
            "Requirement already satisfied: typing-extensions>=3.6.6 in /usr/local/lib/python3.7/dist-packages (from tensorflow) (4.2.0)\n",
            "Requirement already satisfied: absl-py>=0.4.0 in /usr/local/lib/python3.7/dist-packages (from tensorflow) (1.0.0)\n",
            "Requirement already satisfied: gast>=0.2.1 in /usr/local/lib/python3.7/dist-packages (from tensorflow) (0.5.3)\n",
            "Requirement already satisfied: grpcio<2.0,>=1.24.3 in /usr/local/lib/python3.7/dist-packages (from tensorflow) (1.46.3)\n",
            "Requirement already satisfied: h5py>=2.9.0 in /usr/local/lib/python3.7/dist-packages (from tensorflow) (3.1.0)\n",
            "Requirement already satisfied: tensorflow-estimator<2.9,>=2.8 in /usr/local/lib/python3.7/dist-packages (from tensorflow) (2.8.0)\n",
            "Requirement already satisfied: numpy>=1.20 in /usr/local/lib/python3.7/dist-packages (from tensorflow) (1.21.6)\n",
            "Requirement already satisfied: opt-einsum>=2.3.2 in /usr/local/lib/python3.7/dist-packages (from tensorflow) (3.3.0)\n",
            "Requirement already satisfied: six>=1.12.0 in /usr/local/lib/python3.7/dist-packages (from tensorflow) (1.15.0)\n",
            "Requirement already satisfied: setuptools in /usr/local/lib/python3.7/dist-packages (from tensorflow) (57.4.0)\n",
            "Requirement already satisfied: google-pasta>=0.1.1 in /usr/local/lib/python3.7/dist-packages (from tensorflow) (0.2.0)\n",
            "Requirement already satisfied: keras-preprocessing>=1.1.1 in /usr/local/lib/python3.7/dist-packages (from tensorflow) (1.1.2)\n",
            "Requirement already satisfied: tensorboard<2.9,>=2.8 in /usr/local/lib/python3.7/dist-packages (from tensorflow) (2.8.0)\n",
            "Requirement already satisfied: wheel<1.0,>=0.23.0 in /usr/local/lib/python3.7/dist-packages (from astunparse>=1.6.0->tensorflow) (0.37.1)\n",
            "Requirement already satisfied: cached-property in /usr/local/lib/python3.7/dist-packages (from h5py>=2.9.0->tensorflow) (1.5.2)\n",
            "Requirement already satisfied: google-auth-oauthlib<0.5,>=0.4.1 in /usr/local/lib/python3.7/dist-packages (from tensorboard<2.9,>=2.8->tensorflow) (0.4.6)\n",
            "Requirement already satisfied: requests<3,>=2.21.0 in /usr/local/lib/python3.7/dist-packages (from tensorboard<2.9,>=2.8->tensorflow) (2.23.0)\n",
            "Requirement already satisfied: tensorboard-data-server<0.7.0,>=0.6.0 in /usr/local/lib/python3.7/dist-packages (from tensorboard<2.9,>=2.8->tensorflow) (0.6.1)\n",
            "Requirement already satisfied: markdown>=2.6.8 in /usr/local/lib/python3.7/dist-packages (from tensorboard<2.9,>=2.8->tensorflow) (3.3.7)\n",
            "Requirement already satisfied: tensorboard-plugin-wit>=1.6.0 in /usr/local/lib/python3.7/dist-packages (from tensorboard<2.9,>=2.8->tensorflow) (1.8.1)\n",
            "Requirement already satisfied: werkzeug>=0.11.15 in /usr/local/lib/python3.7/dist-packages (from tensorboard<2.9,>=2.8->tensorflow) (1.0.1)\n",
            "Requirement already satisfied: google-auth<3,>=1.6.3 in /usr/local/lib/python3.7/dist-packages (from tensorboard<2.9,>=2.8->tensorflow) (1.35.0)\n",
            "Requirement already satisfied: pyasn1-modules>=0.2.1 in /usr/local/lib/python3.7/dist-packages (from google-auth<3,>=1.6.3->tensorboard<2.9,>=2.8->tensorflow) (0.2.8)\n",
            "Requirement already satisfied: cachetools<5.0,>=2.0.0 in /usr/local/lib/python3.7/dist-packages (from google-auth<3,>=1.6.3->tensorboard<2.9,>=2.8->tensorflow) (4.2.4)\n",
            "Requirement already satisfied: rsa<5,>=3.1.4 in /usr/local/lib/python3.7/dist-packages (from google-auth<3,>=1.6.3->tensorboard<2.9,>=2.8->tensorflow) (4.8)\n",
            "Requirement already satisfied: requests-oauthlib>=0.7.0 in /usr/local/lib/python3.7/dist-packages (from google-auth-oauthlib<0.5,>=0.4.1->tensorboard<2.9,>=2.8->tensorflow) (1.3.1)\n",
            "Requirement already satisfied: importlib-metadata>=4.4 in /usr/local/lib/python3.7/dist-packages (from markdown>=2.6.8->tensorboard<2.9,>=2.8->tensorflow) (4.11.4)\n",
            "Requirement already satisfied: zipp>=0.5 in /usr/local/lib/python3.7/dist-packages (from importlib-metadata>=4.4->markdown>=2.6.8->tensorboard<2.9,>=2.8->tensorflow) (3.8.0)\n",
            "Requirement already satisfied: pyasn1<0.5.0,>=0.4.6 in /usr/local/lib/python3.7/dist-packages (from pyasn1-modules>=0.2.1->google-auth<3,>=1.6.3->tensorboard<2.9,>=2.8->tensorflow) (0.4.8)\n",
            "Requirement already satisfied: chardet<4,>=3.0.2 in /usr/local/lib/python3.7/dist-packages (from requests<3,>=2.21.0->tensorboard<2.9,>=2.8->tensorflow) (3.0.4)\n",
            "Requirement already satisfied: certifi>=2017.4.17 in /usr/local/lib/python3.7/dist-packages (from requests<3,>=2.21.0->tensorboard<2.9,>=2.8->tensorflow) (2022.5.18.1)\n",
            "Requirement already satisfied: urllib3!=1.25.0,!=1.25.1,<1.26,>=1.21.1 in /usr/local/lib/python3.7/dist-packages (from requests<3,>=2.21.0->tensorboard<2.9,>=2.8->tensorflow) (1.24.3)\n",
            "Requirement already satisfied: idna<3,>=2.5 in /usr/local/lib/python3.7/dist-packages (from requests<3,>=2.21.0->tensorboard<2.9,>=2.8->tensorflow) (2.10)\n",
            "Requirement already satisfied: oauthlib>=3.0.0 in /usr/local/lib/python3.7/dist-packages (from requests-oauthlib>=0.7.0->google-auth-oauthlib<0.5,>=0.4.1->tensorboard<2.9,>=2.8->tensorflow) (3.2.0)\n",
            "Requirement already satisfied: decorator<5.0,>=4.0.2 in /usr/local/lib/python3.7/dist-packages (from moviepy) (4.4.2)\n",
            "Requirement already satisfied: imageio<3.0,>=2.1.2 in /usr/local/lib/python3.7/dist-packages (from moviepy) (2.4.1)\n",
            "Requirement already satisfied: tqdm<5.0,>=4.11.2 in /usr/local/lib/python3.7/dist-packages (from moviepy) (4.64.0)\n",
            "Requirement already satisfied: pillow in /usr/local/lib/python3.7/dist-packages (from imageio<3.0,>=2.1.2->moviepy) (7.1.2)\n",
            "Requirement already satisfied: pyparsing>=2.1.4 in /usr/local/lib/python3.7/dist-packages (from pydot) (3.0.9)\n",
            "Looking in indexes: https://pypi.org/simple, https://us-python.pkg.dev/colab-wheels/public/simple/\n",
            "Collecting pafy\n",
            "  Cloning https://github.com/TahaAnwar/pafy.git to /tmp/pip-install-d0asn6ls/pafy_167a9e54fdc64a808361997cdfcc5cc9\n",
            "  Running command git clone -q https://github.com/TahaAnwar/pafy.git /tmp/pip-install-d0asn6ls/pafy_167a9e54fdc64a808361997cdfcc5cc9\n"
          ]
        }
      ]
    },
    {
      "cell_type": "code",
      "source": [
        "# Import the required libraries.\n",
        "import os\n",
        "import cv2\n",
        "import pafy\n",
        "import math\n",
        "import random\n",
        "import numpy as np\n",
        "import datetime as dt\n",
        "import tensorflow as tf\n",
        "from collections import deque\n",
        "import matplotlib.pyplot as plt\n",
        "\n",
        "from moviepy.editor import *\n",
        "%matplotlib inline\n",
        "\n",
        "from sklearn.model_selection import train_test_split\n",
        "\n",
        "from tensorflow.keras.layers import *\n",
        "from tensorflow.keras.models import Sequential\n",
        "from tensorflow.keras.utils import to_categorical\n",
        "from tensorflow.keras.callbacks import EarlyStopping\n",
        "from tensorflow.keras.utils import plot_model"
      ],
      "metadata": {
        "id": "LiLwshTpP-OB"
      },
      "execution_count": 2,
      "outputs": []
    },
    {
      "cell_type": "code",
      "source": [
        "seed_constant = 27\n",
        "np.random.seed(seed_constant)\n",
        "random.seed(seed_constant)\n",
        "tf.random.set_seed(seed_constant)"
      ],
      "metadata": {
        "id": "u4EtD4rrQEnb"
      },
      "execution_count": 3,
      "outputs": []
    },
    {
      "cell_type": "code",
      "source": [
        "# Specify the height and width to which each video frame will be resized in our dataset.\n",
        "IMAGE_HEIGHT , IMAGE_WIDTH = 64, 64\n",
        "\n",
        "# Specify the number of frames of a video that will be fed to the model as one sequence.\n",
        "SEQUENCE_LENGTH = 30\n",
        "\n",
        "# Specify the directory containing the UCF50 dataset. \n",
        "#DATASET_DIR = \"/content/drive/MyDrive/videospeech_label\"\n",
        "\n",
        "# Specify the list containing the names of the classes used for training. Feel free to choose any set of classes.\n",
        "CLASSES_LIST = [\"neutral\", \"calm\", \"happy\", \"sad\",\"angry\",\"fearful\"]"
      ],
      "metadata": {
        "id": "7H6KBiblQKE9"
      },
      "execution_count": 4,
      "outputs": []
    },
    {
      "cell_type": "code",
      "source": [
        "import joblib\n",
        "features=joblib.load('/content/drive/My Drive/features_ravdess/original_data_set/features_data')\n",
        "labels=joblib.load('/content/drive/My Drive/features_ravdess/original_data_set/labels')\n",
        "video_file_path=joblib.load('/content/drive/My Drive/features_ravdess/original_data_set/video_path')"
      ],
      "metadata": {
        "id": "V_rh-id5cmwd"
      },
      "execution_count": 5,
      "outputs": []
    },
    {
      "cell_type": "code",
      "source": [
        "features = np.asarray(features)\n",
        "labels = np.array(labels)  "
      ],
      "metadata": {
        "id": "WI3wNd7zdKzJ"
      },
      "execution_count": 6,
      "outputs": []
    },
    {
      "cell_type": "code",
      "source": [
        "features.shape"
      ],
      "metadata": {
        "colab": {
          "base_uri": "https://localhost:8080/"
        },
        "id": "pnnmkPz5Qh75",
        "outputId": "e08dde2e-e1b7-4390-e75e-45ae12ebbf93"
      },
      "execution_count": 7,
      "outputs": [
        {
          "output_type": "execute_result",
          "data": {
            "text/plain": [
              "(2068, 30, 64, 64, 3)"
            ]
          },
          "metadata": {},
          "execution_count": 7
        }
      ]
    },
    {
      "cell_type": "code",
      "source": [
        "labels.shape"
      ],
      "metadata": {
        "colab": {
          "base_uri": "https://localhost:8080/"
        },
        "id": "kSGvdE_hQklC",
        "outputId": "33fc1ab0-42fc-4404-f813-5f5760c44582"
      },
      "execution_count": 8,
      "outputs": [
        {
          "output_type": "execute_result",
          "data": {
            "text/plain": [
              "(2068,)"
            ]
          },
          "metadata": {},
          "execution_count": 8
        }
      ]
    },
    {
      "cell_type": "code",
      "source": [
        "# Using Keras's to_categorical method to convert labels into one-hot-encoded vectors\n",
        "one_hot_encoded_labels = to_categorical(labels)"
      ],
      "metadata": {
        "id": "DGicVwcRQn9x"
      },
      "execution_count": 9,
      "outputs": []
    },
    {
      "cell_type": "code",
      "source": [
        "# Split the Data into Train ( 80% ) and Test Set ( 20% ).\n",
        "features_train, features_test, labels_train, labels_test = train_test_split(features, one_hot_encoded_labels,\n",
        "                                                                            test_size = 0.10, shuffle = True,\n",
        "                                                                            random_state = seed_constant)"
      ],
      "metadata": {
        "id": "pysOwWbgQrBv"
      },
      "execution_count": 10,
      "outputs": []
    },
    {
      "cell_type": "code",
      "source": [
        "def create_LRCN_model():\n",
        "    '''\n",
        "    This function will construct the required LRCN model.\n",
        "    Returns:\n",
        "        model: It is the required constructed LRCN model.\n",
        "    '''\n",
        "\n",
        "    # We will use a Sequential model for model construction.\n",
        "    model = Sequential()\n",
        "    \n",
        "    # Define the Model Architecture.\n",
        "    ########################################################################################################################\n",
        "    \n",
        "    model.add(TimeDistributed(Conv2D(16, (3, 3), padding='same',activation = 'relu'),\n",
        "                              input_shape = (SEQUENCE_LENGTH, IMAGE_HEIGHT, IMAGE_WIDTH, 3)))\n",
        "    \n",
        "    model.add(TimeDistributed(MaxPooling2D((4, 4)))) \n",
        "    model.add(TimeDistributed(Dropout(0.25)))\n",
        "    \n",
        "    model.add(TimeDistributed(Conv2D(32, (3, 3), padding='same',activation = 'relu')))\n",
        "    model.add(TimeDistributed(MaxPooling2D((4, 4))))\n",
        "    model.add(TimeDistributed(Dropout(0.25)))\n",
        "    \n",
        "    model.add(TimeDistributed(Conv2D(64, (3, 3), padding='same',activation = 'relu')))\n",
        "    model.add(TimeDistributed(MaxPooling2D((2, 2))))\n",
        "    model.add(TimeDistributed(Dropout(0.25)))\n",
        "    \n",
        "    model.add(TimeDistributed(Conv2D(64, (3, 3), padding='same',activation = 'relu')))\n",
        "    model.add(TimeDistributed(MaxPooling2D((2, 2))))\n",
        "    #model.add(TimeDistributed(Dropout(0.25)))\n",
        "                                      \n",
        "    model.add(TimeDistributed(Flatten()))\n",
        "                                      \n",
        "    model.add(LSTM(32))\n",
        "                                      \n",
        "    model.add(Dense(len(CLASSES_LIST), activation = 'softmax'))\n",
        "\n",
        "    ########################################################################################################################\n",
        "\n",
        "    # Display the models summary.\n",
        "    model.summary()\n",
        "    \n",
        "    # Return the constructed LRCN model.\n",
        "    return model"
      ],
      "metadata": {
        "id": "01zL-4EVQt3J"
      },
      "execution_count": 11,
      "outputs": []
    },
    {
      "cell_type": "code",
      "source": [
        "# Construct the required LRCN model.\n",
        "LRCN_model = create_LRCN_model()\n",
        "\n",
        "# Display the success message.\n",
        "print(\"Model Created Successfully!\")"
      ],
      "metadata": {
        "colab": {
          "base_uri": "https://localhost:8080/"
        },
        "id": "sFdjcb8zQxX4",
        "outputId": "582c27d6-493f-44b0-d674-448e5e901b3c"
      },
      "execution_count": 12,
      "outputs": [
        {
          "output_type": "stream",
          "name": "stdout",
          "text": [
            "Model: \"sequential\"\n",
            "_________________________________________________________________\n",
            " Layer (type)                Output Shape              Param #   \n",
            "=================================================================\n",
            " time_distributed (TimeDistr  (None, 30, 64, 64, 16)   448       \n",
            " ibuted)                                                         \n",
            "                                                                 \n",
            " time_distributed_1 (TimeDis  (None, 30, 16, 16, 16)   0         \n",
            " tributed)                                                       \n",
            "                                                                 \n",
            " time_distributed_2 (TimeDis  (None, 30, 16, 16, 16)   0         \n",
            " tributed)                                                       \n",
            "                                                                 \n",
            " time_distributed_3 (TimeDis  (None, 30, 16, 16, 32)   4640      \n",
            " tributed)                                                       \n",
            "                                                                 \n",
            " time_distributed_4 (TimeDis  (None, 30, 4, 4, 32)     0         \n",
            " tributed)                                                       \n",
            "                                                                 \n",
            " time_distributed_5 (TimeDis  (None, 30, 4, 4, 32)     0         \n",
            " tributed)                                                       \n",
            "                                                                 \n",
            " time_distributed_6 (TimeDis  (None, 30, 4, 4, 64)     18496     \n",
            " tributed)                                                       \n",
            "                                                                 \n",
            " time_distributed_7 (TimeDis  (None, 30, 2, 2, 64)     0         \n",
            " tributed)                                                       \n",
            "                                                                 \n",
            " time_distributed_8 (TimeDis  (None, 30, 2, 2, 64)     0         \n",
            " tributed)                                                       \n",
            "                                                                 \n",
            " time_distributed_9 (TimeDis  (None, 30, 2, 2, 64)     36928     \n",
            " tributed)                                                       \n",
            "                                                                 \n",
            " time_distributed_10 (TimeDi  (None, 30, 1, 1, 64)     0         \n",
            " stributed)                                                      \n",
            "                                                                 \n",
            " time_distributed_11 (TimeDi  (None, 30, 64)           0         \n",
            " stributed)                                                      \n",
            "                                                                 \n",
            " lstm (LSTM)                 (None, 32)                12416     \n",
            "                                                                 \n",
            " dense (Dense)               (None, 6)                 198       \n",
            "                                                                 \n",
            "=================================================================\n",
            "Total params: 73,126\n",
            "Trainable params: 73,126\n",
            "Non-trainable params: 0\n",
            "_________________________________________________________________\n",
            "Model Created Successfully!\n"
          ]
        }
      ]
    },
    {
      "cell_type": "code",
      "source": [
        "# Create an Instance of Early Stopping Callback.\n",
        "early_stopping_callback = EarlyStopping(monitor = 'val_loss', patience = 25, mode = 'min', restore_best_weights = True)\n",
        " \n",
        "# Compile the model and specify loss function, optimizer and metrics to the model.\n",
        "LRCN_model.compile(loss = 'categorical_crossentropy', optimizer = 'Adam', metrics = [\"accuracy\"])\n",
        "\n",
        "# Start training the model.\n",
        "LRCN_model_training_history = LRCN_model.fit(x = features_train, y = labels_train, epochs = 100, batch_size = 4 ,\n",
        "                                             shuffle = True, validation_split = 0.1, callbacks = [early_stopping_callback])"
      ],
      "metadata": {
        "colab": {
          "base_uri": "https://localhost:8080/"
        },
        "id": "cVmXzItZQ4-r",
        "outputId": "a3853ac9-c08a-4117-9f8e-0f25428556a8"
      },
      "execution_count": 13,
      "outputs": [
        {
          "output_type": "stream",
          "name": "stdout",
          "text": [
            "Epoch 1/100\n",
            "419/419 [==============================] - 20s 14ms/step - loss: 1.7831 - accuracy: 0.1894 - val_loss: 1.7784 - val_accuracy: 0.1337\n",
            "Epoch 2/100\n",
            "419/419 [==============================] - 4s 11ms/step - loss: 1.7726 - accuracy: 0.1703 - val_loss: 1.7759 - val_accuracy: 0.1390\n",
            "Epoch 3/100\n",
            "419/419 [==============================] - 4s 11ms/step - loss: 1.7673 - accuracy: 0.1732 - val_loss: 1.7790 - val_accuracy: 0.1390\n",
            "Epoch 4/100\n",
            "419/419 [==============================] - 4s 11ms/step - loss: 1.7699 - accuracy: 0.1912 - val_loss: 1.7776 - val_accuracy: 0.1711\n",
            "Epoch 5/100\n",
            "419/419 [==============================] - 4s 11ms/step - loss: 1.7690 - accuracy: 0.1619 - val_loss: 1.7784 - val_accuracy: 0.1925\n",
            "Epoch 6/100\n",
            "419/419 [==============================] - 4s 11ms/step - loss: 1.7659 - accuracy: 0.1768 - val_loss: 1.7753 - val_accuracy: 0.1551\n",
            "Epoch 7/100\n",
            "419/419 [==============================] - 4s 11ms/step - loss: 1.7572 - accuracy: 0.2139 - val_loss: 1.7242 - val_accuracy: 0.2193\n",
            "Epoch 8/100\n",
            "419/419 [==============================] - 4s 11ms/step - loss: 1.7146 - accuracy: 0.2485 - val_loss: 1.6758 - val_accuracy: 0.2246\n",
            "Epoch 9/100\n",
            "419/419 [==============================] - 4s 11ms/step - loss: 1.6525 - accuracy: 0.2826 - val_loss: 1.6284 - val_accuracy: 0.2781\n",
            "Epoch 10/100\n",
            "419/419 [==============================] - 4s 11ms/step - loss: 1.5327 - accuracy: 0.3447 - val_loss: 1.6266 - val_accuracy: 0.3048\n",
            "Epoch 11/100\n",
            "419/419 [==============================] - 4s 11ms/step - loss: 1.4697 - accuracy: 0.3865 - val_loss: 1.4618 - val_accuracy: 0.3316\n",
            "Epoch 12/100\n",
            "419/419 [==============================] - 4s 11ms/step - loss: 1.4033 - accuracy: 0.3984 - val_loss: 1.5165 - val_accuracy: 0.3743\n",
            "Epoch 13/100\n",
            "419/419 [==============================] - 4s 11ms/step - loss: 1.3845 - accuracy: 0.4038 - val_loss: 1.4983 - val_accuracy: 0.3262\n",
            "Epoch 14/100\n",
            "419/419 [==============================] - 4s 11ms/step - loss: 1.3421 - accuracy: 0.4152 - val_loss: 1.3606 - val_accuracy: 0.4011\n",
            "Epoch 15/100\n",
            "419/419 [==============================] - 5s 11ms/step - loss: 1.3175 - accuracy: 0.4277 - val_loss: 1.3170 - val_accuracy: 0.4171\n",
            "Epoch 16/100\n",
            "419/419 [==============================] - 4s 11ms/step - loss: 1.3176 - accuracy: 0.4205 - val_loss: 1.3267 - val_accuracy: 0.3636\n",
            "Epoch 17/100\n",
            "419/419 [==============================] - 4s 11ms/step - loss: 1.2793 - accuracy: 0.4259 - val_loss: 1.3011 - val_accuracy: 0.4118\n",
            "Epoch 18/100\n",
            "419/419 [==============================] - 4s 11ms/step - loss: 1.2502 - accuracy: 0.4558 - val_loss: 1.2917 - val_accuracy: 0.4278\n",
            "Epoch 19/100\n",
            "419/419 [==============================] - 4s 11ms/step - loss: 1.2434 - accuracy: 0.4558 - val_loss: 1.3749 - val_accuracy: 0.4011\n",
            "Epoch 20/100\n",
            "419/419 [==============================] - 5s 11ms/step - loss: 1.2354 - accuracy: 0.4486 - val_loss: 1.3882 - val_accuracy: 0.4118\n",
            "Epoch 21/100\n",
            "419/419 [==============================] - 4s 11ms/step - loss: 1.2300 - accuracy: 0.4618 - val_loss: 1.2434 - val_accuracy: 0.4545\n",
            "Epoch 22/100\n",
            "419/419 [==============================] - 4s 11ms/step - loss: 1.1857 - accuracy: 0.4869 - val_loss: 1.1912 - val_accuracy: 0.4759\n",
            "Epoch 23/100\n",
            "419/419 [==============================] - 4s 11ms/step - loss: 1.1559 - accuracy: 0.5084 - val_loss: 1.1913 - val_accuracy: 0.4759\n",
            "Epoch 24/100\n",
            "419/419 [==============================] - 4s 11ms/step - loss: 1.1448 - accuracy: 0.5155 - val_loss: 1.2033 - val_accuracy: 0.4759\n",
            "Epoch 25/100\n",
            "419/419 [==============================] - 4s 11ms/step - loss: 1.1157 - accuracy: 0.5245 - val_loss: 1.2029 - val_accuracy: 0.4706\n",
            "Epoch 26/100\n",
            "419/419 [==============================] - 5s 11ms/step - loss: 1.1053 - accuracy: 0.5376 - val_loss: 1.2357 - val_accuracy: 0.4652\n",
            "Epoch 27/100\n",
            "419/419 [==============================] - 4s 11ms/step - loss: 1.0655 - accuracy: 0.5591 - val_loss: 1.0475 - val_accuracy: 0.5936\n",
            "Epoch 28/100\n",
            "419/419 [==============================] - 4s 11ms/step - loss: 1.0620 - accuracy: 0.5490 - val_loss: 1.1519 - val_accuracy: 0.4973\n",
            "Epoch 29/100\n",
            "419/419 [==============================] - 4s 11ms/step - loss: 0.9834 - accuracy: 0.5938 - val_loss: 0.9874 - val_accuracy: 0.5989\n",
            "Epoch 30/100\n",
            "419/419 [==============================] - 4s 11ms/step - loss: 0.9696 - accuracy: 0.6004 - val_loss: 0.9809 - val_accuracy: 0.6524\n",
            "Epoch 31/100\n",
            "419/419 [==============================] - 5s 11ms/step - loss: 0.9447 - accuracy: 0.6123 - val_loss: 0.9609 - val_accuracy: 0.5829\n",
            "Epoch 32/100\n",
            "419/419 [==============================] - 4s 11ms/step - loss: 0.9157 - accuracy: 0.6171 - val_loss: 1.0659 - val_accuracy: 0.5989\n",
            "Epoch 33/100\n",
            "419/419 [==============================] - 4s 11ms/step - loss: 0.8870 - accuracy: 0.6416 - val_loss: 1.0017 - val_accuracy: 0.6043\n",
            "Epoch 34/100\n",
            "419/419 [==============================] - 4s 10ms/step - loss: 0.8677 - accuracy: 0.6440 - val_loss: 1.0268 - val_accuracy: 0.6310\n",
            "Epoch 35/100\n",
            "419/419 [==============================] - 4s 11ms/step - loss: 0.8222 - accuracy: 0.6607 - val_loss: 0.9888 - val_accuracy: 0.5829\n",
            "Epoch 36/100\n",
            "419/419 [==============================] - 4s 11ms/step - loss: 0.8308 - accuracy: 0.6619 - val_loss: 0.8544 - val_accuracy: 0.6578\n",
            "Epoch 37/100\n",
            "419/419 [==============================] - 4s 10ms/step - loss: 0.7936 - accuracy: 0.6882 - val_loss: 0.8355 - val_accuracy: 0.6471\n",
            "Epoch 38/100\n",
            "419/419 [==============================] - 4s 10ms/step - loss: 0.7736 - accuracy: 0.6906 - val_loss: 0.8234 - val_accuracy: 0.6631\n",
            "Epoch 39/100\n",
            "419/419 [==============================] - 4s 10ms/step - loss: 0.7519 - accuracy: 0.6906 - val_loss: 0.8726 - val_accuracy: 0.6898\n",
            "Epoch 40/100\n",
            "419/419 [==============================] - 4s 10ms/step - loss: 0.7257 - accuracy: 0.7139 - val_loss: 0.8549 - val_accuracy: 0.6631\n",
            "Epoch 41/100\n",
            "419/419 [==============================] - 4s 10ms/step - loss: 0.7013 - accuracy: 0.7240 - val_loss: 0.8544 - val_accuracy: 0.6631\n",
            "Epoch 42/100\n",
            "419/419 [==============================] - 4s 11ms/step - loss: 0.6505 - accuracy: 0.7521 - val_loss: 0.9654 - val_accuracy: 0.6524\n",
            "Epoch 43/100\n",
            "419/419 [==============================] - 4s 10ms/step - loss: 0.6750 - accuracy: 0.7395 - val_loss: 0.8370 - val_accuracy: 0.6471\n",
            "Epoch 44/100\n",
            "419/419 [==============================] - 4s 11ms/step - loss: 0.6465 - accuracy: 0.7521 - val_loss: 0.7664 - val_accuracy: 0.6898\n",
            "Epoch 45/100\n",
            "419/419 [==============================] - 4s 11ms/step - loss: 0.6213 - accuracy: 0.7676 - val_loss: 0.8486 - val_accuracy: 0.6684\n",
            "Epoch 46/100\n",
            "419/419 [==============================] - 4s 11ms/step - loss: 0.5960 - accuracy: 0.7616 - val_loss: 0.8972 - val_accuracy: 0.6791\n",
            "Epoch 47/100\n",
            "419/419 [==============================] - 4s 10ms/step - loss: 0.5967 - accuracy: 0.7712 - val_loss: 0.8062 - val_accuracy: 0.7005\n",
            "Epoch 48/100\n",
            "419/419 [==============================] - 4s 11ms/step - loss: 0.6055 - accuracy: 0.7718 - val_loss: 0.6937 - val_accuracy: 0.7005\n",
            "Epoch 49/100\n",
            "419/419 [==============================] - 4s 11ms/step - loss: 0.5892 - accuracy: 0.7718 - val_loss: 0.7712 - val_accuracy: 0.7273\n",
            "Epoch 50/100\n",
            "419/419 [==============================] - 4s 11ms/step - loss: 0.5776 - accuracy: 0.7700 - val_loss: 0.7861 - val_accuracy: 0.7059\n",
            "Epoch 51/100\n",
            "419/419 [==============================] - 4s 11ms/step - loss: 0.5508 - accuracy: 0.7957 - val_loss: 0.7315 - val_accuracy: 0.7380\n",
            "Epoch 52/100\n",
            "419/419 [==============================] - 4s 11ms/step - loss: 0.5292 - accuracy: 0.7808 - val_loss: 0.7788 - val_accuracy: 0.7059\n",
            "Epoch 53/100\n",
            "419/419 [==============================] - 4s 11ms/step - loss: 0.4952 - accuracy: 0.8160 - val_loss: 0.8803 - val_accuracy: 0.7273\n",
            "Epoch 54/100\n",
            "419/419 [==============================] - 4s 11ms/step - loss: 0.4956 - accuracy: 0.8106 - val_loss: 0.8441 - val_accuracy: 0.7005\n",
            "Epoch 55/100\n",
            "419/419 [==============================] - 4s 11ms/step - loss: 0.4678 - accuracy: 0.8178 - val_loss: 0.6860 - val_accuracy: 0.7380\n",
            "Epoch 56/100\n",
            "419/419 [==============================] - 4s 11ms/step - loss: 0.4704 - accuracy: 0.8256 - val_loss: 1.0078 - val_accuracy: 0.6738\n",
            "Epoch 57/100\n",
            "419/419 [==============================] - 4s 11ms/step - loss: 0.4969 - accuracy: 0.8065 - val_loss: 0.5731 - val_accuracy: 0.7968\n",
            "Epoch 58/100\n",
            "419/419 [==============================] - 4s 11ms/step - loss: 0.4708 - accuracy: 0.8244 - val_loss: 0.6626 - val_accuracy: 0.7807\n",
            "Epoch 59/100\n",
            "419/419 [==============================] - 4s 11ms/step - loss: 0.4526 - accuracy: 0.8244 - val_loss: 0.7675 - val_accuracy: 0.7647\n",
            "Epoch 60/100\n",
            "419/419 [==============================] - 4s 11ms/step - loss: 0.4482 - accuracy: 0.8399 - val_loss: 0.7501 - val_accuracy: 0.7433\n",
            "Epoch 61/100\n",
            "419/419 [==============================] - 4s 11ms/step - loss: 0.4158 - accuracy: 0.8417 - val_loss: 0.5985 - val_accuracy: 0.7968\n",
            "Epoch 62/100\n",
            "419/419 [==============================] - 4s 11ms/step - loss: 0.4530 - accuracy: 0.8292 - val_loss: 0.7126 - val_accuracy: 0.7487\n",
            "Epoch 63/100\n",
            "419/419 [==============================] - 4s 11ms/step - loss: 0.3974 - accuracy: 0.8519 - val_loss: 0.6432 - val_accuracy: 0.7701\n",
            "Epoch 64/100\n",
            "419/419 [==============================] - 4s 11ms/step - loss: 0.4123 - accuracy: 0.8435 - val_loss: 0.6194 - val_accuracy: 0.7968\n",
            "Epoch 65/100\n",
            "419/419 [==============================] - 4s 11ms/step - loss: 0.3875 - accuracy: 0.8501 - val_loss: 0.7115 - val_accuracy: 0.7380\n",
            "Epoch 66/100\n",
            "419/419 [==============================] - 4s 11ms/step - loss: 0.3857 - accuracy: 0.8536 - val_loss: 0.5958 - val_accuracy: 0.8021\n",
            "Epoch 67/100\n",
            "419/419 [==============================] - 5s 11ms/step - loss: 0.3892 - accuracy: 0.8554 - val_loss: 0.6066 - val_accuracy: 0.7914\n",
            "Epoch 68/100\n",
            "419/419 [==============================] - 4s 11ms/step - loss: 0.3530 - accuracy: 0.8644 - val_loss: 0.6788 - val_accuracy: 0.7968\n",
            "Epoch 69/100\n",
            "419/419 [==============================] - 4s 11ms/step - loss: 0.3494 - accuracy: 0.8728 - val_loss: 0.7413 - val_accuracy: 0.7701\n",
            "Epoch 70/100\n",
            "419/419 [==============================] - 4s 11ms/step - loss: 0.3587 - accuracy: 0.8614 - val_loss: 0.6086 - val_accuracy: 0.8021\n",
            "Epoch 71/100\n",
            "419/419 [==============================] - 5s 11ms/step - loss: 0.3753 - accuracy: 0.8608 - val_loss: 0.6941 - val_accuracy: 0.7754\n",
            "Epoch 72/100\n",
            "419/419 [==============================] - 5s 11ms/step - loss: 0.3432 - accuracy: 0.8740 - val_loss: 0.6087 - val_accuracy: 0.7701\n",
            "Epoch 73/100\n",
            "419/419 [==============================] - 5s 11ms/step - loss: 0.3309 - accuracy: 0.8787 - val_loss: 0.6587 - val_accuracy: 0.7914\n",
            "Epoch 74/100\n",
            "419/419 [==============================] - 5s 11ms/step - loss: 0.3380 - accuracy: 0.8722 - val_loss: 0.6574 - val_accuracy: 0.7861\n",
            "Epoch 75/100\n",
            "419/419 [==============================] - 4s 11ms/step - loss: 0.3369 - accuracy: 0.8734 - val_loss: 0.5757 - val_accuracy: 0.7807\n",
            "Epoch 76/100\n",
            "419/419 [==============================] - 5s 11ms/step - loss: 0.2928 - accuracy: 0.8931 - val_loss: 0.5895 - val_accuracy: 0.8128\n",
            "Epoch 77/100\n",
            "419/419 [==============================] - 5s 11ms/step - loss: 0.3214 - accuracy: 0.8853 - val_loss: 0.5816 - val_accuracy: 0.8128\n",
            "Epoch 78/100\n",
            "419/419 [==============================] - 5s 11ms/step - loss: 0.2910 - accuracy: 0.8967 - val_loss: 0.5862 - val_accuracy: 0.8128\n",
            "Epoch 79/100\n",
            "419/419 [==============================] - 5s 11ms/step - loss: 0.3054 - accuracy: 0.8793 - val_loss: 0.6402 - val_accuracy: 0.8021\n",
            "Epoch 80/100\n",
            "419/419 [==============================] - 5s 11ms/step - loss: 0.2906 - accuracy: 0.8901 - val_loss: 0.6312 - val_accuracy: 0.7861\n",
            "Epoch 81/100\n",
            "419/419 [==============================] - 5s 11ms/step - loss: 0.3042 - accuracy: 0.8961 - val_loss: 0.6416 - val_accuracy: 0.8021\n",
            "Epoch 82/100\n",
            "419/419 [==============================] - 5s 11ms/step - loss: 0.3094 - accuracy: 0.8799 - val_loss: 0.4968 - val_accuracy: 0.8396\n",
            "Epoch 83/100\n",
            "419/419 [==============================] - 5s 11ms/step - loss: 0.2782 - accuracy: 0.9026 - val_loss: 0.7320 - val_accuracy: 0.7807\n",
            "Epoch 84/100\n",
            "419/419 [==============================] - 5s 11ms/step - loss: 0.2954 - accuracy: 0.8841 - val_loss: 0.7893 - val_accuracy: 0.7380\n",
            "Epoch 85/100\n",
            "419/419 [==============================] - 5s 11ms/step - loss: 0.2593 - accuracy: 0.9056 - val_loss: 0.6421 - val_accuracy: 0.8021\n",
            "Epoch 86/100\n",
            "419/419 [==============================] - 5s 11ms/step - loss: 0.2516 - accuracy: 0.9104 - val_loss: 0.9843 - val_accuracy: 0.7005\n",
            "Epoch 87/100\n",
            "419/419 [==============================] - 5s 11ms/step - loss: 0.2784 - accuracy: 0.8984 - val_loss: 0.9582 - val_accuracy: 0.7059\n",
            "Epoch 88/100\n",
            "419/419 [==============================] - 5s 11ms/step - loss: 0.3021 - accuracy: 0.8877 - val_loss: 0.8162 - val_accuracy: 0.7594\n",
            "Epoch 89/100\n",
            "419/419 [==============================] - 5s 11ms/step - loss: 0.2402 - accuracy: 0.9152 - val_loss: 0.7704 - val_accuracy: 0.7754\n",
            "Epoch 90/100\n",
            "419/419 [==============================] - 5s 11ms/step - loss: 0.3024 - accuracy: 0.8943 - val_loss: 0.8159 - val_accuracy: 0.7701\n",
            "Epoch 91/100\n",
            "419/419 [==============================] - 5s 11ms/step - loss: 0.2587 - accuracy: 0.9044 - val_loss: 0.5489 - val_accuracy: 0.8128\n",
            "Epoch 92/100\n",
            "419/419 [==============================] - 5s 11ms/step - loss: 0.2522 - accuracy: 0.9062 - val_loss: 0.5230 - val_accuracy: 0.8342\n",
            "Epoch 93/100\n",
            "419/419 [==============================] - 5s 11ms/step - loss: 0.2891 - accuracy: 0.8913 - val_loss: 0.5579 - val_accuracy: 0.8128\n",
            "Epoch 94/100\n",
            "419/419 [==============================] - 5s 11ms/step - loss: 0.2229 - accuracy: 0.9259 - val_loss: 0.6410 - val_accuracy: 0.8128\n",
            "Epoch 95/100\n",
            "419/419 [==============================] - 5s 11ms/step - loss: 0.2545 - accuracy: 0.9068 - val_loss: 0.7218 - val_accuracy: 0.7701\n",
            "Epoch 96/100\n",
            "419/419 [==============================] - 5s 11ms/step - loss: 0.2799 - accuracy: 0.9038 - val_loss: 0.8764 - val_accuracy: 0.7433\n",
            "Epoch 97/100\n",
            "419/419 [==============================] - 5s 11ms/step - loss: 0.2232 - accuracy: 0.9211 - val_loss: 0.8205 - val_accuracy: 0.7540\n",
            "Epoch 98/100\n",
            "419/419 [==============================] - 5s 11ms/step - loss: 0.2654 - accuracy: 0.9038 - val_loss: 0.5866 - val_accuracy: 0.8289\n",
            "Epoch 99/100\n",
            "419/419 [==============================] - 4s 11ms/step - loss: 0.2480 - accuracy: 0.9176 - val_loss: 0.6370 - val_accuracy: 0.7968\n",
            "Epoch 100/100\n",
            "419/419 [==============================] - 5s 11ms/step - loss: 0.1979 - accuracy: 0.9271 - val_loss: 0.6396 - val_accuracy: 0.8075\n"
          ]
        }
      ]
    },
    {
      "cell_type": "code",
      "source": [
        "# Evaluate the trained model.\n",
        "model_evaluation_history = LRCN_model.evaluate(features_test, labels_test)"
      ],
      "metadata": {
        "colab": {
          "base_uri": "https://localhost:8080/"
        },
        "id": "sa-sTkK6Q-ks",
        "outputId": "e7fe49fb-af4a-492e-e3a4-7b0f54b5d3f0"
      },
      "execution_count": 14,
      "outputs": [
        {
          "output_type": "stream",
          "name": "stdout",
          "text": [
            "7/7 [==============================] - 0s 29ms/step - loss: 0.5420 - accuracy: 0.8309\n"
          ]
        }
      ]
    },
    {
      "cell_type": "code",
      "source": [
        "# Get the loss and accuracy from model_evaluation_history.\n",
        "model_evaluation_loss, model_evaluation_accuracy = model_evaluation_history\n",
        "\n",
        "# Define the string date format.\n",
        "# Get the current Date and Time in a DateTime Object.\n",
        "# Convert the DateTime object to string according to the style mentioned in date_time_format string.\n",
        "date_time_format = '%Y_%m_%d__%H_%M_%S'\n",
        "current_date_time_dt = dt.datetime.now()\n",
        "current_date_time_string = dt.datetime.strftime(current_date_time_dt, date_time_format)\n",
        "    \n",
        "# Define a useful name for our model to make it easy for us while navigating through multiple saved models.\n",
        "model_file_name = f'LRCN_model___Date_Time_{current_date_time_string}___Loss_{model_evaluation_loss}___Accuracy_{model_evaluation_accuracy}.h5'\n",
        "\n",
        "# Save the Model.\n",
        "LRCN_model.save(model_file_name)"
      ],
      "metadata": {
        "id": "D3J57fVJRCEa"
      },
      "execution_count": null,
      "outputs": []
    },
    {
      "cell_type": "code",
      "source": [
        "def plot_metric(model_training_history, metric_name_1, metric_name_2, plot_name):\n",
        "    '''\n",
        "    This function will plot the metrics passed to it in a graph.\n",
        "    Args:\n",
        "        model_training_history: A history object containing a record of training and validation \n",
        "                                loss values and metrics values at successive epochs\n",
        "        metric_name_1:          The name of the first metric that needs to be plotted in the graph.\n",
        "        metric_name_2:          The name of the second metric that needs to be plotted in the graph.\n",
        "        plot_name:              The title of the graph.\n",
        "    '''\n",
        "    \n",
        "    # Get metric values using metric names as identifiers.\n",
        "    metric_value_1 = model_training_history.history[metric_name_1]\n",
        "    metric_value_2 = model_training_history.history[metric_name_2]\n",
        "    \n",
        "    # Construct a range object which will be used as x-axis (horizontal plane) of the graph.\n",
        "    epochs = range(len(metric_value_1))\n",
        "\n",
        "    # Plot the Graph.\n",
        "    plt.plot(epochs, metric_value_1, 'blue', label = metric_name_1)\n",
        "    plt.plot(epochs, metric_value_2, 'red', label = metric_name_2)\n",
        "\n",
        "    # Add title to the plot.\n",
        "    plt.title(str(plot_name))\n",
        "\n",
        "    # Add legend to the plot.\n",
        "    plt.legend()"
      ],
      "metadata": {
        "id": "sXhBv91xRFgU"
      },
      "execution_count": 15,
      "outputs": []
    },
    {
      "cell_type": "code",
      "source": [
        "# Visualize the training and validation loss metrices.\n",
        "plot_metric(LRCN_model_training_history, 'loss', 'val_loss', 'Total Loss vs Total Validation Loss')"
      ],
      "metadata": {
        "colab": {
          "base_uri": "https://localhost:8080/",
          "height": 281
        },
        "id": "cKhf3si1RJUW",
        "outputId": "4e75dd55-3839-456f-c293-cb19ef059f83"
      },
      "execution_count": 16,
      "outputs": [
        {
          "output_type": "display_data",
          "data": {
            "text/plain": [
              "<Figure size 432x288 with 1 Axes>"
            ],
            "image/png": "[encoded data removed]"
          },
          "metadata": {
            "needs_background": "light"
          }
        }
      ]
    },
    {
      "cell_type": "code",
      "source": [
        "# Visualize the training and validation accuracy metrices.\n",
        "plot_metric(LRCN_model_training_history, 'accuracy', 'val_accuracy', 'Total Accuracy vs Total Validation Accuracy')"
      ],
      "metadata": {
        "colab": {
          "base_uri": "https://localhost:8080/",
          "height": 281
        },
        "id": "5JB37wh3RLWX",
        "outputId": "f404a002-7a73-41c5-a7b7-1171e019c064"
      },
      "execution_count": 17,
      "outputs": [
        {
          "output_type": "display_data",
          "data": {
            "text/plain": [
              "<Figure size 432x288 with 1 Axes>"
            ],
            "image/png": "[encoded data removed]"
          },
          "metadata": {
            "needs_background": "light"
          }
        }
      ]
    },
    {
      "cell_type": "code",
      "source": [
        "predictions =  LRCN_model.predict(features_test)\n",
        "predictions\n"
      ],
      "metadata": {
        "colab": {
          "base_uri": "https://localhost:8080/"
        },
        "id": "yM7edJgyRf-P",
        "outputId": "38b23255-525c-4bd2-de32-adf54d0ca37c"
      },
      "execution_count": 18,
      "outputs": [
        {
          "output_type": "execute_result",
          "data": {
            "text/plain": [
              "array([[1.52137717e-02, 5.77170542e-03, 3.37303791e-05, 9.73440528e-01,\n",
              "        3.14970571e-03, 2.39059259e-03],\n",
              "       [6.37136307e-03, 5.95840567e-04, 1.20365912e-05, 9.71421897e-01,\n",
              "        2.80811277e-04, 2.13180203e-02],\n",
              "       [1.10661204e-05, 7.03274680e-04, 9.98826444e-01, 6.10458446e-05,\n",
              "        3.17892118e-05, 3.66339023e-04],\n",
              "       ...,\n",
              "       [6.19500503e-02, 4.76540059e-01, 6.17702212e-03, 1.01556309e-01,\n",
              "        4.62995432e-02, 3.07477087e-01],\n",
              "       [4.14551359e-05, 8.36539641e-03, 9.90953445e-01, 1.00386285e-04,\n",
              "        1.51730754e-04, 3.87554930e-04],\n",
              "       [7.25856051e-04, 9.89409208e-01, 8.77395924e-03, 5.56851388e-04,\n",
              "        4.53733985e-04, 8.04674710e-05]], dtype=float32)"
            ]
          },
          "metadata": {},
          "execution_count": 18
        }
      ]
    },
    {
      "cell_type": "code",
      "source": [
        "preds=predictions.argmax(axis=1)\n",
        "preds"
      ],
      "metadata": {
        "colab": {
          "base_uri": "https://localhost:8080/"
        },
        "id": "DNHaLfq2RjeT",
        "outputId": "8775cbfa-746e-4a2f-a4dd-b027149d3b58"
      },
      "execution_count": 19,
      "outputs": [
        {
          "output_type": "execute_result",
          "data": {
            "text/plain": [
              "array([3, 3, 2, 3, 5, 4, 5, 1, 3, 0, 3, 1, 2, 3, 5, 3, 4, 1, 1, 0, 5, 5,\n",
              "       0, 2, 2, 4, 4, 4, 5, 5, 4, 4, 5, 3, 4, 2, 4, 1, 2, 4, 2, 2, 1, 3,\n",
              "       1, 1, 5, 5, 4, 3, 2, 2, 0, 4, 3, 0, 0, 0, 2, 5, 4, 5, 5, 0, 1, 3,\n",
              "       1, 0, 5, 1, 2, 2, 4, 5, 5, 4, 0, 3, 4, 5, 3, 4, 5, 0, 0, 1, 2, 3,\n",
              "       3, 5, 2, 1, 0, 1, 5, 4, 1, 2, 3, 4, 3, 5, 4, 5, 1, 3, 2, 1, 4, 1,\n",
              "       5, 4, 0, 1, 3, 0, 3, 1, 0, 1, 1, 5, 1, 5, 1, 5, 5, 2, 2, 1, 2, 0,\n",
              "       1, 2, 1, 0, 3, 0, 5, 1, 2, 1, 3, 3, 1, 2, 5, 0, 0, 3, 5, 4, 5, 3,\n",
              "       3, 2, 1, 4, 0, 0, 0, 3, 2, 2, 4, 3, 0, 3, 4, 4, 4, 5, 1, 5, 4, 1,\n",
              "       5, 0, 4, 5, 5, 0, 0, 3, 4, 3, 1, 4, 3, 4, 1, 4, 1, 1, 4, 4, 3, 1,\n",
              "       5, 5, 3, 2, 3, 2, 1, 2, 1])"
            ]
          },
          "metadata": {},
          "execution_count": 19
        }
      ]
    },
    {
      "cell_type": "code",
      "source": [
        "new_preds = preds.astype(int).flatten()\n",
        "new_preds"
      ],
      "metadata": {
        "colab": {
          "base_uri": "https://localhost:8080/"
        },
        "id": "0W618McKRl02",
        "outputId": "a611c4ae-4f6a-435b-bf01-3a91c3bb9b6b"
      },
      "execution_count": 20,
      "outputs": [
        {
          "output_type": "execute_result",
          "data": {
            "text/plain": [
              "array([3, 3, 2, 3, 5, 4, 5, 1, 3, 0, 3, 1, 2, 3, 5, 3, 4, 1, 1, 0, 5, 5,\n",
              "       0, 2, 2, 4, 4, 4, 5, 5, 4, 4, 5, 3, 4, 2, 4, 1, 2, 4, 2, 2, 1, 3,\n",
              "       1, 1, 5, 5, 4, 3, 2, 2, 0, 4, 3, 0, 0, 0, 2, 5, 4, 5, 5, 0, 1, 3,\n",
              "       1, 0, 5, 1, 2, 2, 4, 5, 5, 4, 0, 3, 4, 5, 3, 4, 5, 0, 0, 1, 2, 3,\n",
              "       3, 5, 2, 1, 0, 1, 5, 4, 1, 2, 3, 4, 3, 5, 4, 5, 1, 3, 2, 1, 4, 1,\n",
              "       5, 4, 0, 1, 3, 0, 3, 1, 0, 1, 1, 5, 1, 5, 1, 5, 5, 2, 2, 1, 2, 0,\n",
              "       1, 2, 1, 0, 3, 0, 5, 1, 2, 1, 3, 3, 1, 2, 5, 0, 0, 3, 5, 4, 5, 3,\n",
              "       3, 2, 1, 4, 0, 0, 0, 3, 2, 2, 4, 3, 0, 3, 4, 4, 4, 5, 1, 5, 4, 1,\n",
              "       5, 0, 4, 5, 5, 0, 0, 3, 4, 3, 1, 4, 3, 4, 1, 4, 1, 1, 4, 4, 3, 1,\n",
              "       5, 5, 3, 2, 3, 2, 1, 2, 1])"
            ]
          },
          "metadata": {},
          "execution_count": 20
        }
      ]
    },
    {
      "cell_type": "code",
      "source": [
        "\n",
        "from sklearn.metrics import classification_report, confusion_matrix,accuracy_score\n",
        "import seaborn as sn\n",
        "import pandas as pd\n",
        "import numpy as np\n",
        "new_labels=np.argmax(labels_test, axis=1)\n",
        "print(classification_report(new_labels,new_preds))\n",
        "\n",
        "acc = float(accuracy_score(new_labels,new_preds))*100\n",
        "print(\"----accuracy score %s ----\" % acc)\n",
        "\n",
        "cm = confusion_matrix(new_labels,new_preds)\n",
        "#df_cm = pd.DataFrame(cm)\n",
        "class_names = ['neutral','calm', 'happy','sad','angry', 'fearful' ]\n",
        "df_cm = pd.DataFrame(cm, index=class_names, columns=class_names,)\n",
        "sn.heatmap(df_cm, annot=True, fmt='')\n",
        "plt.show()\n"
      ],
      "metadata": {
        "colab": {
          "base_uri": "https://localhost:8080/",
          "height": 508
        },
        "id": "cTET95L8RoVW",
        "outputId": "a11433f7-e0a6-4d69-bba0-12bee45fc413"
      },
      "execution_count": 21,
      "outputs": [
        {
          "output_type": "stream",
          "name": "stdout",
          "text": [
            "              precision    recall  f1-score   support\n",
            "\n",
            "           0       0.82      0.85      0.84        27\n",
            "           1       0.93      0.84      0.88        44\n",
            "           2       0.97      0.88      0.92        32\n",
            "           3       0.75      0.73      0.74        37\n",
            "           4       0.75      0.84      0.79        32\n",
            "           5       0.79      0.86      0.82        35\n",
            "\n",
            "    accuracy                           0.83       207\n",
            "   macro avg       0.83      0.83      0.83       207\n",
            "weighted avg       0.84      0.83      0.83       207\n",
            "\n",
            "----accuracy score 83.09178743961353 ----\n"
          ]
        },
        {
          "output_type": "display_data",
          "data": {
            "text/plain": [
              "<Figure size 432x288 with 2 Axes>"
            ],
            "image/png": "[encoded data removed]"
          },
          "metadata": {
            "needs_background": "light"
          }
        }
      ]
    },
    {
      "cell_type": "code",
      "source": [
        ""
      ],
      "metadata": {
        "id": "c3nbyK6BfnDR"
      },
      "execution_count": null,
      "outputs": []
    }
  ]
}