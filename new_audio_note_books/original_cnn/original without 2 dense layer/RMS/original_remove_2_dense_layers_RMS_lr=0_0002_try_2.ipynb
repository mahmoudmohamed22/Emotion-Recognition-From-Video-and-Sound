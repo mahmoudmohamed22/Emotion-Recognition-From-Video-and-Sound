{
  "nbformat": 4,
  "nbformat_minor": 0,
  "metadata": {
    "colab": {
      "name": "original remove 2 dense layers RMS lr=0.0002 try 2.ipynb",
      "provenance": [],
      "collapsed_sections": []
    },
    "kernelspec": {
      "name": "python3",
      "display_name": "Python 3"
    },
    "language_info": {
      "name": "python"
    },
    "accelerator": "GPU"
  },
  "cells": [
    {
      "cell_type": "code",
      "execution_count": 1,
      "metadata": {
        "colab": {
          "base_uri": "https://localhost:8080/"
        },
        "id": "9SRCO-a_AlH5",
        "outputId": "75e0a554-d926-42ba-ae14-69a1b6345362"
      },
      "outputs": [
        {
          "output_type": "stream",
          "name": "stdout",
          "text": [
            "Drive already mounted at /content/drive; to attempt to forcibly remount, call drive.mount(\"/content/drive\", force_remount=True).\n"
          ]
        }
      ],
      "source": [
        "from google.colab import drive\n",
        "drive.mount('/content/drive')"
      ]
    },
    {
      "cell_type": "code",
      "source": [
        "!pip install librosa"
      ],
      "metadata": {
        "colab": {
          "base_uri": "https://localhost:8080/"
        },
        "id": "5Lo4mUwG9RMd",
        "outputId": "56fdf318-0806-4c60-be6f-d5ef4fa31d9f"
      },
      "execution_count": 2,
      "outputs": [
        {
          "output_type": "stream",
          "name": "stdout",
          "text": [
            "Looking in indexes: https://pypi.org/simple, https://us-python.pkg.dev/colab-wheels/public/simple/\n",
            "Requirement already satisfied: librosa in /usr/local/lib/python3.7/dist-packages (0.8.1)\n",
            "Requirement already satisfied: pooch>=1.0 in /usr/local/lib/python3.7/dist-packages (from librosa) (1.6.0)\n",
            "Requirement already satisfied: joblib>=0.14 in /usr/local/lib/python3.7/dist-packages (from librosa) (1.1.0)\n",
            "Requirement already satisfied: decorator>=3.0.0 in /usr/local/lib/python3.7/dist-packages (from librosa) (4.4.2)\n",
            "Requirement already satisfied: audioread>=2.0.0 in /usr/local/lib/python3.7/dist-packages (from librosa) (2.1.9)\n",
            "Requirement already satisfied: packaging>=20.0 in /usr/local/lib/python3.7/dist-packages (from librosa) (21.3)\n",
            "Requirement already satisfied: numba>=0.43.0 in /usr/local/lib/python3.7/dist-packages (from librosa) (0.51.2)\n",
            "Requirement already satisfied: scipy>=1.0.0 in /usr/local/lib/python3.7/dist-packages (from librosa) (1.4.1)\n",
            "Requirement already satisfied: scikit-learn!=0.19.0,>=0.14.0 in /usr/local/lib/python3.7/dist-packages (from librosa) (1.0.2)\n",
            "Requirement already satisfied: resampy>=0.2.2 in /usr/local/lib/python3.7/dist-packages (from librosa) (0.2.2)\n",
            "Requirement already satisfied: numpy>=1.15.0 in /usr/local/lib/python3.7/dist-packages (from librosa) (1.21.6)\n",
            "Requirement already satisfied: soundfile>=0.10.2 in /usr/local/lib/python3.7/dist-packages (from librosa) (0.10.3.post1)\n",
            "Requirement already satisfied: llvmlite<0.35,>=0.34.0.dev0 in /usr/local/lib/python3.7/dist-packages (from numba>=0.43.0->librosa) (0.34.0)\n",
            "Requirement already satisfied: setuptools in /usr/local/lib/python3.7/dist-packages (from numba>=0.43.0->librosa) (57.4.0)\n",
            "Requirement already satisfied: pyparsing!=3.0.5,>=2.0.2 in /usr/local/lib/python3.7/dist-packages (from packaging>=20.0->librosa) (3.0.9)\n",
            "Requirement already satisfied: appdirs>=1.3.0 in /usr/local/lib/python3.7/dist-packages (from pooch>=1.0->librosa) (1.4.4)\n",
            "Requirement already satisfied: requests>=2.19.0 in /usr/local/lib/python3.7/dist-packages (from pooch>=1.0->librosa) (2.23.0)\n",
            "Requirement already satisfied: chardet<4,>=3.0.2 in /usr/local/lib/python3.7/dist-packages (from requests>=2.19.0->pooch>=1.0->librosa) (3.0.4)\n",
            "Requirement already satisfied: idna<3,>=2.5 in /usr/local/lib/python3.7/dist-packages (from requests>=2.19.0->pooch>=1.0->librosa) (2.10)\n",
            "Requirement already satisfied: certifi>=2017.4.17 in /usr/local/lib/python3.7/dist-packages (from requests>=2.19.0->pooch>=1.0->librosa) (2022.5.18.1)\n",
            "Requirement already satisfied: urllib3!=1.25.0,!=1.25.1,<1.26,>=1.21.1 in /usr/local/lib/python3.7/dist-packages (from requests>=2.19.0->pooch>=1.0->librosa) (1.24.3)\n",
            "Requirement already satisfied: six>=1.3 in /usr/local/lib/python3.7/dist-packages (from resampy>=0.2.2->librosa) (1.15.0)\n",
            "Requirement already satisfied: threadpoolctl>=2.0.0 in /usr/local/lib/python3.7/dist-packages (from scikit-learn!=0.19.0,>=0.14.0->librosa) (3.1.0)\n",
            "Requirement already satisfied: cffi>=1.0 in /usr/local/lib/python3.7/dist-packages (from soundfile>=0.10.2->librosa) (1.15.0)\n",
            "Requirement already satisfied: pycparser in /usr/local/lib/python3.7/dist-packages (from cffi>=1.0->soundfile>=0.10.2->librosa) (2.21)\n"
          ]
        }
      ]
    },
    {
      "cell_type": "code",
      "metadata": {
        "id": "HJjcbxwy46bG",
        "colab": {
          "base_uri": "https://localhost:8080/",
          "height": 17
        },
        "outputId": "33ac75ac-4712-46f4-dee4-a5f7e5161bdb"
      },
      "source": [
        "# Orignial Notebook: https://github.com/MITESHPUTHRANNEU/Speech-Emotion-Analyzer/blob/master/final_results_gender_test.ipynb\n",
        "# This notebook author: Reza Chu\n",
        "# Last Editing Date: 31st May 2019\n",
        "\n",
        "## Python\n",
        "import os\n",
        "import random\n",
        "import sys\n",
        "\n",
        "import IPython\n",
        "from IPython.display import Audio\n",
        "from IPython.display import Image\n",
        "import matplotlib.pyplot as plt\n",
        "\n",
        "## Package\n",
        "import glob \n",
        "import keras\n",
        "import IPython.display as ipd\n",
        "import librosa\n",
        "import librosa.display\n",
        "import matplotlib.pyplot as plt\n",
        "import numpy as np\n",
        "import pandas as pd\n",
        "import plotly.graph_objs as go\n",
        "import plotly.offline as py\n",
        "import plotly.tools as tls\n",
        "import seaborn as sns\n",
        "import scipy.io.wavfile\n",
        "import tensorflow as tf\n",
        "py.init_notebook_mode(connected=True)\n",
        "\n",
        "## Keras\n",
        "from keras import regularizers\n",
        "from keras.callbacks import ModelCheckpoint, LearningRateScheduler, EarlyStopping\n",
        "from keras.callbacks import  History, ReduceLROnPlateau, CSVLogger\n",
        "from keras.models import Model, Sequential\n",
        "from keras.layers import Dense, Embedding, LSTM\n",
        "from keras.layers import Input, Flatten, Dropout, Activation, BatchNormalization\n",
        "from keras.layers import Conv1D, MaxPooling1D, AveragePooling1D\n",
        "from keras.preprocessing import sequence\n",
        "from keras.preprocessing.sequence import pad_sequences\n",
        "from keras.preprocessing.text import Tokenizer\n",
        "from keras.utils import np_utils\n",
        "from tensorflow.keras.utils import to_categorical\n",
        "\n",
        "## Sklearn\n",
        "from sklearn.metrics import confusion_matrix\n",
        "from sklearn.preprocessing import LabelEncoder\n",
        "\n",
        "## Rest\n",
        "from scipy.fftpack import fft\n",
        "from scipy import signal\n",
        "from scipy.io import wavfile\n",
        "from tqdm import tqdm\n",
        "\n",
        "input_duration=3\n",
        "# % pylab inline"
      ],
      "execution_count": 3,
      "outputs": [
        {
          "output_type": "display_data",
          "data": {
            "text/html": [
              "        <script type=\"text/javascript\">\n",
              "        window.PlotlyConfig = {MathJaxConfig: 'local'};\n",
              "        if (window.MathJax) {MathJax.Hub.Config({SVG: {font: \"STIX-Web\"}});}\n",
              "        if (typeof require !== 'undefined') {\n",
              "        require.undef(\"plotly\");\n",
              "        requirejs.config({\n",
              "            paths: {\n",
              "                'plotly': ['https://cdn.plot.ly/plotly-2.8.3.min']\n",
              "            }\n",
              "        });\n",
              "        require(['plotly'], function(Plotly) {\n",
              "            window._Plotly = Plotly;\n",
              "        });\n",
              "        }\n",
              "        </script>\n",
              "        "
            ]
          },
          "metadata": {}
        }
      ]
    },
    {
      "cell_type": "code",
      "source": [
        "# # Saving joblib files to not load them again with the loop above\n",
        "\n",
        "# import joblib\n",
        "\n",
        "# X_name = 'x.joblib'\n",
        "# y_name = 'y.joblib'\n",
        "# save_dir = '/content/drive/My Drive/graduation project/audio/paper_code/features'\n",
        "\n",
        "# savedX = joblib.dump(X, os.path.join(save_dir, X_name))\n",
        "# savedy = joblib.dump(y, os.path.join(save_dir, y_name))"
      ],
      "metadata": {
        "id": "UCzic8rlDcuk"
      },
      "execution_count": 4,
      "outputs": []
    },
    {
      "cell_type": "code",
      "source": [
        "# # Loading saved models\n",
        "import joblib\n",
        "X = joblib.load('/content/drive/My Drive/graduation project/audio/paper_code/features/x.joblib')\n",
        "y = joblib.load('/content/drive/My Drive/graduation project/audio/paper_code/features/y.joblib')"
      ],
      "metadata": {
        "id": "Q35CN6zDrzg1"
      },
      "execution_count": 5,
      "outputs": []
    },
    {
      "cell_type": "code",
      "source": [
        "X.shape"
      ],
      "metadata": {
        "colab": {
          "base_uri": "https://localhost:8080/"
        },
        "id": "7PSTurzjCo5K",
        "outputId": "a5946d69-dc12-497c-d44a-38a91c24b1aa"
      },
      "execution_count": 6,
      "outputs": [
        {
          "output_type": "execute_result",
          "data": {
            "text/plain": [
              "(2068, 40)"
            ]
          },
          "metadata": {},
          "execution_count": 6
        }
      ]
    },
    {
      "cell_type": "code",
      "source": [
        "from sklearn.model_selection import train_test_split\n",
        "\n",
        "X_train, X_test, y_train, y_test = train_test_split(X,y, test_size=0.1 ,shuffle = True\n",
        "                                                    , random_state=42)\n",
        "X_train , X_valid, y_train, y_valid = train_test_split(X_train,y_train, test_size=0.1112305212 , shuffle = True \n",
        "                                                       , random_state=42)"
      ],
      "metadata": {
        "id": "Ai4Fy5cPCiq1"
      },
      "execution_count": 7,
      "outputs": []
    },
    {
      "cell_type": "code",
      "source": [
        "import numpy as np\n",
        "x_traincnn = np.expand_dims(X_train, axis=2)\n",
        "x_testcnn = np.expand_dims(X_test, axis=2)\n",
        "X_valid= np.expand_dims(X_valid, axis=2)"
      ],
      "metadata": {
        "id": "tp1Fm5K3CEXu"
      },
      "execution_count": 8,
      "outputs": []
    },
    {
      "cell_type": "code",
      "source": [
        "x_traincnn.shape, x_testcnn.shape , X_valid.shape\n",
        "#1861"
      ],
      "metadata": {
        "id": "RI0MxoIPBws5",
        "colab": {
          "base_uri": "https://localhost:8080/"
        },
        "outputId": "4993f589-df50-4e60-b07a-d4c243cfe78d"
      },
      "execution_count": 9,
      "outputs": [
        {
          "output_type": "execute_result",
          "data": {
            "text/plain": [
              "((1654, 40, 1), (207, 40, 1), (207, 40, 1))"
            ]
          },
          "metadata": {},
          "execution_count": 9
        }
      ]
    },
    {
      "cell_type": "code",
      "source": [
        "!pip install tensorflow"
      ],
      "metadata": {
        "colab": {
          "base_uri": "https://localhost:8080/"
        },
        "id": "oALhiMUd9G2Y",
        "outputId": "c16363bf-403c-4a3b-ec17-936c1e272997"
      },
      "execution_count": 10,
      "outputs": [
        {
          "output_type": "stream",
          "name": "stdout",
          "text": [
            "Looking in indexes: https://pypi.org/simple, https://us-python.pkg.dev/colab-wheels/public/simple/\n",
            "Requirement already satisfied: tensorflow in /usr/local/lib/python3.7/dist-packages (2.8.2+zzzcolab20220527125636)\n",
            "Requirement already satisfied: wrapt>=1.11.0 in /usr/local/lib/python3.7/dist-packages (from tensorflow) (1.14.1)\n",
            "Requirement already satisfied: grpcio<2.0,>=1.24.3 in /usr/local/lib/python3.7/dist-packages (from tensorflow) (1.46.3)\n",
            "Requirement already satisfied: six>=1.12.0 in /usr/local/lib/python3.7/dist-packages (from tensorflow) (1.15.0)\n",
            "Requirement already satisfied: opt-einsum>=2.3.2 in /usr/local/lib/python3.7/dist-packages (from tensorflow) (3.3.0)\n",
            "Requirement already satisfied: flatbuffers>=1.12 in /usr/local/lib/python3.7/dist-packages (from tensorflow) (2.0)\n",
            "Requirement already satisfied: typing-extensions>=3.6.6 in /usr/local/lib/python3.7/dist-packages (from tensorflow) (4.2.0)\n",
            "Requirement already satisfied: absl-py>=0.4.0 in /usr/local/lib/python3.7/dist-packages (from tensorflow) (1.0.0)\n",
            "Requirement already satisfied: gast>=0.2.1 in /usr/local/lib/python3.7/dist-packages (from tensorflow) (0.5.3)\n",
            "Requirement already satisfied: google-pasta>=0.1.1 in /usr/local/lib/python3.7/dist-packages (from tensorflow) (0.2.0)\n",
            "Requirement already satisfied: astunparse>=1.6.0 in /usr/local/lib/python3.7/dist-packages (from tensorflow) (1.6.3)\n",
            "Requirement already satisfied: tensorflow-io-gcs-filesystem>=0.23.1 in /usr/local/lib/python3.7/dist-packages (from tensorflow) (0.26.0)\n",
            "Requirement already satisfied: h5py>=2.9.0 in /usr/local/lib/python3.7/dist-packages (from tensorflow) (3.1.0)\n",
            "Requirement already satisfied: tensorflow-estimator<2.9,>=2.8 in /usr/local/lib/python3.7/dist-packages (from tensorflow) (2.8.0)\n",
            "Requirement already satisfied: termcolor>=1.1.0 in /usr/local/lib/python3.7/dist-packages (from tensorflow) (1.1.0)\n",
            "Requirement already satisfied: libclang>=9.0.1 in /usr/local/lib/python3.7/dist-packages (from tensorflow) (14.0.1)\n",
            "Requirement already satisfied: keras-preprocessing>=1.1.1 in /usr/local/lib/python3.7/dist-packages (from tensorflow) (1.1.2)\n",
            "Requirement already satisfied: protobuf<3.20,>=3.9.2 in /usr/local/lib/python3.7/dist-packages (from tensorflow) (3.17.3)\n",
            "Requirement already satisfied: numpy>=1.20 in /usr/local/lib/python3.7/dist-packages (from tensorflow) (1.21.6)\n",
            "Requirement already satisfied: tensorboard<2.9,>=2.8 in /usr/local/lib/python3.7/dist-packages (from tensorflow) (2.8.0)\n",
            "Requirement already satisfied: keras<2.9,>=2.8.0rc0 in /usr/local/lib/python3.7/dist-packages (from tensorflow) (2.8.0)\n",
            "Requirement already satisfied: setuptools in /usr/local/lib/python3.7/dist-packages (from tensorflow) (57.4.0)\n",
            "Requirement already satisfied: wheel<1.0,>=0.23.0 in /usr/local/lib/python3.7/dist-packages (from astunparse>=1.6.0->tensorflow) (0.37.1)\n",
            "Requirement already satisfied: cached-property in /usr/local/lib/python3.7/dist-packages (from h5py>=2.9.0->tensorflow) (1.5.2)\n",
            "Requirement already satisfied: google-auth-oauthlib<0.5,>=0.4.1 in /usr/local/lib/python3.7/dist-packages (from tensorboard<2.9,>=2.8->tensorflow) (0.4.6)\n",
            "Requirement already satisfied: google-auth<3,>=1.6.3 in /usr/local/lib/python3.7/dist-packages (from tensorboard<2.9,>=2.8->tensorflow) (1.35.0)\n",
            "Requirement already satisfied: markdown>=2.6.8 in /usr/local/lib/python3.7/dist-packages (from tensorboard<2.9,>=2.8->tensorflow) (3.3.7)\n",
            "Requirement already satisfied: requests<3,>=2.21.0 in /usr/local/lib/python3.7/dist-packages (from tensorboard<2.9,>=2.8->tensorflow) (2.23.0)\n",
            "Requirement already satisfied: tensorboard-data-server<0.7.0,>=0.6.0 in /usr/local/lib/python3.7/dist-packages (from tensorboard<2.9,>=2.8->tensorflow) (0.6.1)\n",
            "Requirement already satisfied: tensorboard-plugin-wit>=1.6.0 in /usr/local/lib/python3.7/dist-packages (from tensorboard<2.9,>=2.8->tensorflow) (1.8.1)\n",
            "Requirement already satisfied: werkzeug>=0.11.15 in /usr/local/lib/python3.7/dist-packages (from tensorboard<2.9,>=2.8->tensorflow) (1.0.1)\n",
            "Requirement already satisfied: rsa<5,>=3.1.4 in /usr/local/lib/python3.7/dist-packages (from google-auth<3,>=1.6.3->tensorboard<2.9,>=2.8->tensorflow) (4.8)\n",
            "Requirement already satisfied: cachetools<5.0,>=2.0.0 in /usr/local/lib/python3.7/dist-packages (from google-auth<3,>=1.6.3->tensorboard<2.9,>=2.8->tensorflow) (4.2.4)\n",
            "Requirement already satisfied: pyasn1-modules>=0.2.1 in /usr/local/lib/python3.7/dist-packages (from google-auth<3,>=1.6.3->tensorboard<2.9,>=2.8->tensorflow) (0.2.8)\n",
            "Requirement already satisfied: requests-oauthlib>=0.7.0 in /usr/local/lib/python3.7/dist-packages (from google-auth-oauthlib<0.5,>=0.4.1->tensorboard<2.9,>=2.8->tensorflow) (1.3.1)\n",
            "Requirement already satisfied: importlib-metadata>=4.4 in /usr/local/lib/python3.7/dist-packages (from markdown>=2.6.8->tensorboard<2.9,>=2.8->tensorflow) (4.11.4)\n",
            "Requirement already satisfied: zipp>=0.5 in /usr/local/lib/python3.7/dist-packages (from importlib-metadata>=4.4->markdown>=2.6.8->tensorboard<2.9,>=2.8->tensorflow) (3.8.0)\n",
            "Requirement already satisfied: pyasn1<0.5.0,>=0.4.6 in /usr/local/lib/python3.7/dist-packages (from pyasn1-modules>=0.2.1->google-auth<3,>=1.6.3->tensorboard<2.9,>=2.8->tensorflow) (0.4.8)\n",
            "Requirement already satisfied: certifi>=2017.4.17 in /usr/local/lib/python3.7/dist-packages (from requests<3,>=2.21.0->tensorboard<2.9,>=2.8->tensorflow) (2022.5.18.1)\n",
            "Requirement already satisfied: chardet<4,>=3.0.2 in /usr/local/lib/python3.7/dist-packages (from requests<3,>=2.21.0->tensorboard<2.9,>=2.8->tensorflow) (3.0.4)\n",
            "Requirement already satisfied: urllib3!=1.25.0,!=1.25.1,<1.26,>=1.21.1 in /usr/local/lib/python3.7/dist-packages (from requests<3,>=2.21.0->tensorboard<2.9,>=2.8->tensorflow) (1.24.3)\n",
            "Requirement already satisfied: idna<3,>=2.5 in /usr/local/lib/python3.7/dist-packages (from requests<3,>=2.21.0->tensorboard<2.9,>=2.8->tensorflow) (2.10)\n",
            "Requirement already satisfied: oauthlib>=3.0.0 in /usr/local/lib/python3.7/dist-packages (from requests-oauthlib>=0.7.0->google-auth-oauthlib<0.5,>=0.4.1->tensorboard<2.9,>=2.8->tensorflow) (3.2.0)\n"
          ]
        }
      ]
    },
    {
      "cell_type": "code",
      "source": [
        "import keras\n",
        "import numpy as np\n",
        "import matplotlib.pyplot as plt\n",
        "import tensorflow as tf\n",
        "from keras.preprocessing import sequence\n",
        "from keras.models import Sequential\n",
        "from keras.layers import Dense, Embedding\n",
        "from tensorflow.keras.utils import to_categorical\n",
        "from keras.layers import Input, Flatten, Dropout, Activation\n",
        "from keras.layers import Conv1D, MaxPooling1D\n",
        "from keras.models import Model\n",
        "from keras.callbacks import ModelCheckpoint\n",
        "from tensorflow.keras import optimizers\n",
        "\n",
        "model = Sequential()\n",
        "\n",
        "model.add(Conv1D(128, 8,padding='same', #classifier.add(Convolution2D(64, (3, 3), padding = 'same', input_shape = (128, 128, 3), activation = 'relu'))\n",
        "                 input_shape=(40,1)))\n",
        "model.add(Activation('relu'))\n",
        "model.add(Dropout(0.3))\n",
        "model.add(MaxPooling1D(pool_size=(5)))\n",
        "\n",
        "\n",
        "model.add(Conv1D(256,8,padding='same',))\n",
        "model.add(Activation('relu'))\n",
        "model.add(Dropout(0.3))\n",
        "model.add(MaxPooling1D(pool_size=(5)))\n",
        "\n",
        "#model.add(MaxPooling1D(pool_size=(5)))\n",
        "\n",
        "model.add(Flatten())\n",
        "\n",
        "\n",
        "\n",
        "model.add(Dense(6))\n",
        "model.add(Activation('softmax'))\n",
        "\n",
        "\n",
        "opt = tf.keras.optimizers.RMSprop(lr=0.0002 , decay=0.0)\n",
        "#opt = tf.keras.optimizers.Adam(lr=0.0002 , decay=0.0)\n",
        "#opt = tf.keras.optimizers.RMSprop(lr=0.0001, rho=0.9, epsilon=1e-07, decay=0.0)\n",
        "#opt = tf.keras.optimizers.SGD(lr=0.001, momentum=0.0, decay=0.0, nesterov=False)"
      ],
      "metadata": {
        "id": "g74fXWVAC4Cr",
        "colab": {
          "base_uri": "https://localhost:8080/"
        },
        "outputId": "df98aa61-7643-43b8-a4d4-90adb92c3e0b"
      },
      "execution_count": 11,
      "outputs": [
        {
          "output_type": "stream",
          "name": "stderr",
          "text": [
            "/usr/local/lib/python3.7/dist-packages/keras/optimizer_v2/rmsprop.py:130: UserWarning:\n",
            "\n",
            "The `lr` argument is deprecated, use `learning_rate` instead.\n",
            "\n"
          ]
        }
      ]
    },
    {
      "cell_type": "code",
      "source": [
        "model.summary()"
      ],
      "metadata": {
        "colab": {
          "base_uri": "https://localhost:8080/"
        },
        "id": "H6ukOxAGC_I4",
        "outputId": "ee680efa-84df-4f71-b779-f065599275dd"
      },
      "execution_count": 12,
      "outputs": [
        {
          "output_type": "stream",
          "name": "stdout",
          "text": [
            "Model: \"sequential\"\n",
            "_________________________________________________________________\n",
            " Layer (type)                Output Shape              Param #   \n",
            "=================================================================\n",
            " conv1d (Conv1D)             (None, 40, 128)           1152      \n",
            "                                                                 \n",
            " activation (Activation)     (None, 40, 128)           0         \n",
            "                                                                 \n",
            " dropout (Dropout)           (None, 40, 128)           0         \n",
            "                                                                 \n",
            " max_pooling1d (MaxPooling1D  (None, 8, 128)           0         \n",
            " )                                                               \n",
            "                                                                 \n",
            " conv1d_1 (Conv1D)           (None, 8, 256)            262400    \n",
            "                                                                 \n",
            " activation_1 (Activation)   (None, 8, 256)            0         \n",
            "                                                                 \n",
            " dropout_1 (Dropout)         (None, 8, 256)            0         \n",
            "                                                                 \n",
            " max_pooling1d_1 (MaxPooling  (None, 1, 256)           0         \n",
            " 1D)                                                             \n",
            "                                                                 \n",
            " flatten (Flatten)           (None, 256)               0         \n",
            "                                                                 \n",
            " dense (Dense)               (None, 6)                 1542      \n",
            "                                                                 \n",
            " activation_2 (Activation)   (None, 6)                 0         \n",
            "                                                                 \n",
            "=================================================================\n",
            "Total params: 265,094\n",
            "Trainable params: 265,094\n",
            "Non-trainable params: 0\n",
            "_________________________________________________________________\n"
          ]
        }
      ]
    },
    {
      "cell_type": "code",
      "source": [
        "model.compile(loss='sparse_categorical_crossentropy',\n",
        "              optimizer=opt,\n",
        "              metrics=['accuracy'])"
      ],
      "metadata": {
        "id": "AbMlLNk4DCBM"
      },
      "execution_count": 13,
      "outputs": []
    },
    {
      "cell_type": "code",
      "source": [
        "# Create an Instance of Early Stopping Callback.\n",
        "early_stopping_callback = EarlyStopping(monitor = 'val_loss', patience = 25, mode = 'min', restore_best_weights = True)\n",
        "\n",
        "cnnhistory=model.fit(x_traincnn, y_train, batch_size=16, epochs=500 , shuffle = True, \n",
        "                     validation_data=(X_valid, y_valid) , callbacks = [early_stopping_callback])"
      ],
      "metadata": {
        "colab": {
          "base_uri": "https://localhost:8080/"
        },
        "id": "RI1v2AuADFhy",
        "outputId": "f285c4de-32d8-4369-aaa2-2b28065a97ba"
      },
      "execution_count": 14,
      "outputs": [
        {
          "output_type": "stream",
          "name": "stdout",
          "text": [
            "Epoch 1/500\n",
            "104/104 [==============================] - 5s 15ms/step - loss: 11.6270 - accuracy: 0.1880 - val_loss: 5.5428 - val_accuracy: 0.2319\n",
            "Epoch 2/500\n",
            "104/104 [==============================] - 1s 9ms/step - loss: 8.4016 - accuracy: 0.2189 - val_loss: 2.0130 - val_accuracy: 0.2947\n",
            "Epoch 3/500\n",
            "104/104 [==============================] - 1s 8ms/step - loss: 6.8663 - accuracy: 0.2183 - val_loss: 3.5107 - val_accuracy: 0.2319\n",
            "Epoch 4/500\n",
            "104/104 [==============================] - 1s 10ms/step - loss: 5.7016 - accuracy: 0.2376 - val_loss: 5.7527 - val_accuracy: 0.2126\n",
            "Epoch 5/500\n",
            "104/104 [==============================] - 1s 9ms/step - loss: 4.8284 - accuracy: 0.2636 - val_loss: 2.3092 - val_accuracy: 0.2705\n",
            "Epoch 6/500\n",
            "104/104 [==============================] - 1s 8ms/step - loss: 4.2026 - accuracy: 0.2672 - val_loss: 2.9236 - val_accuracy: 0.2319\n",
            "Epoch 7/500\n",
            "104/104 [==============================] - 1s 8ms/step - loss: 3.5715 - accuracy: 0.2757 - val_loss: 2.0687 - val_accuracy: 0.2754\n",
            "Epoch 8/500\n",
            "104/104 [==============================] - 1s 8ms/step - loss: 3.0867 - accuracy: 0.2914 - val_loss: 2.4089 - val_accuracy: 0.2947\n",
            "Epoch 9/500\n",
            "104/104 [==============================] - 1s 8ms/step - loss: 2.7501 - accuracy: 0.2993 - val_loss: 1.5272 - val_accuracy: 0.4010\n",
            "Epoch 10/500\n",
            "104/104 [==============================] - 1s 10ms/step - loss: 2.4785 - accuracy: 0.3235 - val_loss: 1.7832 - val_accuracy: 0.2850\n",
            "Epoch 11/500\n",
            "104/104 [==============================] - 1s 10ms/step - loss: 2.2583 - accuracy: 0.3398 - val_loss: 1.6427 - val_accuracy: 0.2947\n",
            "Epoch 12/500\n",
            "104/104 [==============================] - 1s 9ms/step - loss: 2.0675 - accuracy: 0.3688 - val_loss: 1.4684 - val_accuracy: 0.3913\n",
            "Epoch 13/500\n",
            "104/104 [==============================] - 1s 10ms/step - loss: 1.9590 - accuracy: 0.3815 - val_loss: 2.1121 - val_accuracy: 0.2705\n",
            "Epoch 14/500\n",
            "104/104 [==============================] - 1s 8ms/step - loss: 1.8600 - accuracy: 0.3894 - val_loss: 1.4276 - val_accuracy: 0.4444\n",
            "Epoch 15/500\n",
            "104/104 [==============================] - 1s 8ms/step - loss: 1.7613 - accuracy: 0.4051 - val_loss: 1.4781 - val_accuracy: 0.4058\n",
            "Epoch 16/500\n",
            "104/104 [==============================] - 1s 10ms/step - loss: 1.6292 - accuracy: 0.4317 - val_loss: 1.4204 - val_accuracy: 0.3865\n",
            "Epoch 17/500\n",
            "104/104 [==============================] - 1s 8ms/step - loss: 1.5713 - accuracy: 0.4510 - val_loss: 1.3402 - val_accuracy: 0.4928\n",
            "Epoch 18/500\n",
            "104/104 [==============================] - 1s 8ms/step - loss: 1.5593 - accuracy: 0.4474 - val_loss: 1.2850 - val_accuracy: 0.4734\n",
            "Epoch 19/500\n",
            "104/104 [==============================] - 1s 9ms/step - loss: 1.4577 - accuracy: 0.4680 - val_loss: 1.2699 - val_accuracy: 0.5411\n",
            "Epoch 20/500\n",
            "104/104 [==============================] - 1s 7ms/step - loss: 1.4221 - accuracy: 0.4716 - val_loss: 1.3084 - val_accuracy: 0.5072\n",
            "Epoch 21/500\n",
            "104/104 [==============================] - 1s 11ms/step - loss: 1.3627 - accuracy: 0.5103 - val_loss: 1.2305 - val_accuracy: 0.4734\n",
            "Epoch 22/500\n",
            "104/104 [==============================] - 1s 9ms/step - loss: 1.3050 - accuracy: 0.5012 - val_loss: 1.1462 - val_accuracy: 0.5411\n",
            "Epoch 23/500\n",
            "104/104 [==============================] - 1s 8ms/step - loss: 1.2455 - accuracy: 0.5230 - val_loss: 1.2070 - val_accuracy: 0.5121\n",
            "Epoch 24/500\n",
            "104/104 [==============================] - 1s 9ms/step - loss: 1.2167 - accuracy: 0.5345 - val_loss: 1.1788 - val_accuracy: 0.5169\n",
            "Epoch 25/500\n",
            "104/104 [==============================] - 1s 7ms/step - loss: 1.1949 - accuracy: 0.5393 - val_loss: 1.1380 - val_accuracy: 0.5266\n",
            "Epoch 26/500\n",
            "104/104 [==============================] - 1s 8ms/step - loss: 1.1762 - accuracy: 0.5441 - val_loss: 1.1228 - val_accuracy: 0.5652\n",
            "Epoch 27/500\n",
            "104/104 [==============================] - 1s 7ms/step - loss: 1.1393 - accuracy: 0.5641 - val_loss: 1.2526 - val_accuracy: 0.4734\n",
            "Epoch 28/500\n",
            "104/104 [==============================] - 1s 5ms/step - loss: 1.1388 - accuracy: 0.5659 - val_loss: 1.0537 - val_accuracy: 0.6232\n",
            "Epoch 29/500\n",
            "104/104 [==============================] - 1s 5ms/step - loss: 1.1076 - accuracy: 0.5726 - val_loss: 1.0674 - val_accuracy: 0.6087\n",
            "Epoch 30/500\n",
            "104/104 [==============================] - 1s 5ms/step - loss: 1.0742 - accuracy: 0.5907 - val_loss: 1.0530 - val_accuracy: 0.6522\n",
            "Epoch 31/500\n",
            "104/104 [==============================] - 1s 5ms/step - loss: 1.0664 - accuracy: 0.6034 - val_loss: 1.0225 - val_accuracy: 0.6425\n",
            "Epoch 32/500\n",
            "104/104 [==============================] - 0s 4ms/step - loss: 1.0427 - accuracy: 0.5889 - val_loss: 0.9948 - val_accuracy: 0.6329\n",
            "Epoch 33/500\n",
            "104/104 [==============================] - 1s 5ms/step - loss: 1.0264 - accuracy: 0.5985 - val_loss: 1.0232 - val_accuracy: 0.6184\n",
            "Epoch 34/500\n",
            "104/104 [==============================] - 0s 5ms/step - loss: 1.0303 - accuracy: 0.6088 - val_loss: 1.0060 - val_accuracy: 0.6522\n",
            "Epoch 35/500\n",
            "104/104 [==============================] - 1s 5ms/step - loss: 0.9889 - accuracy: 0.5985 - val_loss: 1.1039 - val_accuracy: 0.5749\n",
            "Epoch 36/500\n",
            "104/104 [==============================] - 1s 6ms/step - loss: 1.0056 - accuracy: 0.6106 - val_loss: 0.9757 - val_accuracy: 0.6329\n",
            "Epoch 37/500\n",
            "104/104 [==============================] - 1s 5ms/step - loss: 0.9528 - accuracy: 0.6360 - val_loss: 0.9791 - val_accuracy: 0.5990\n",
            "Epoch 38/500\n",
            "104/104 [==============================] - 1s 5ms/step - loss: 0.9686 - accuracy: 0.6197 - val_loss: 0.9154 - val_accuracy: 0.7198\n",
            "Epoch 39/500\n",
            "104/104 [==============================] - 1s 5ms/step - loss: 0.9345 - accuracy: 0.6542 - val_loss: 0.9205 - val_accuracy: 0.6715\n",
            "Epoch 40/500\n",
            "104/104 [==============================] - 1s 5ms/step - loss: 0.9193 - accuracy: 0.6385 - val_loss: 0.9679 - val_accuracy: 0.6522\n",
            "Epoch 41/500\n",
            "104/104 [==============================] - 1s 5ms/step - loss: 0.9137 - accuracy: 0.6578 - val_loss: 1.0399 - val_accuracy: 0.5894\n",
            "Epoch 42/500\n",
            "104/104 [==============================] - 0s 5ms/step - loss: 0.9213 - accuracy: 0.6457 - val_loss: 1.0655 - val_accuracy: 0.5700\n",
            "Epoch 43/500\n",
            "104/104 [==============================] - 0s 4ms/step - loss: 0.8777 - accuracy: 0.6499 - val_loss: 0.9508 - val_accuracy: 0.6618\n",
            "Epoch 44/500\n",
            "104/104 [==============================] - 1s 6ms/step - loss: 0.8764 - accuracy: 0.6638 - val_loss: 0.9080 - val_accuracy: 0.6667\n",
            "Epoch 45/500\n",
            "104/104 [==============================] - 0s 4ms/step - loss: 0.8817 - accuracy: 0.6481 - val_loss: 0.9247 - val_accuracy: 0.6473\n",
            "Epoch 46/500\n",
            "104/104 [==============================] - 0s 5ms/step - loss: 0.8549 - accuracy: 0.6699 - val_loss: 0.9005 - val_accuracy: 0.6618\n",
            "Epoch 47/500\n",
            "104/104 [==============================] - 1s 5ms/step - loss: 0.8482 - accuracy: 0.6687 - val_loss: 0.8586 - val_accuracy: 0.7101\n",
            "Epoch 48/500\n",
            "104/104 [==============================] - 1s 5ms/step - loss: 0.8191 - accuracy: 0.6898 - val_loss: 0.9380 - val_accuracy: 0.6039\n",
            "Epoch 49/500\n",
            "104/104 [==============================] - 1s 5ms/step - loss: 0.8316 - accuracy: 0.6892 - val_loss: 0.9216 - val_accuracy: 0.6473\n",
            "Epoch 50/500\n",
            "104/104 [==============================] - 1s 5ms/step - loss: 0.8275 - accuracy: 0.6844 - val_loss: 0.9820 - val_accuracy: 0.6763\n",
            "Epoch 51/500\n",
            "104/104 [==============================] - 0s 4ms/step - loss: 0.7912 - accuracy: 0.6820 - val_loss: 0.8392 - val_accuracy: 0.7053\n",
            "Epoch 52/500\n",
            "104/104 [==============================] - 1s 5ms/step - loss: 0.7903 - accuracy: 0.6959 - val_loss: 0.8221 - val_accuracy: 0.7101\n",
            "Epoch 53/500\n",
            "104/104 [==============================] - 1s 5ms/step - loss: 0.7826 - accuracy: 0.6983 - val_loss: 0.8606 - val_accuracy: 0.6957\n",
            "Epoch 54/500\n",
            "104/104 [==============================] - 0s 5ms/step - loss: 0.7637 - accuracy: 0.7074 - val_loss: 0.9259 - val_accuracy: 0.6232\n",
            "Epoch 55/500\n",
            "104/104 [==============================] - 1s 5ms/step - loss: 0.7909 - accuracy: 0.7062 - val_loss: 0.9173 - val_accuracy: 0.6329\n",
            "Epoch 56/500\n",
            "104/104 [==============================] - 1s 6ms/step - loss: 0.7592 - accuracy: 0.6977 - val_loss: 0.8696 - val_accuracy: 0.6957\n",
            "Epoch 57/500\n",
            "104/104 [==============================] - 1s 5ms/step - loss: 0.7738 - accuracy: 0.6983 - val_loss: 0.7997 - val_accuracy: 0.7198\n",
            "Epoch 58/500\n",
            "104/104 [==============================] - 1s 6ms/step - loss: 0.7512 - accuracy: 0.7158 - val_loss: 0.8648 - val_accuracy: 0.6715\n",
            "Epoch 59/500\n",
            "104/104 [==============================] - 0s 5ms/step - loss: 0.7285 - accuracy: 0.7279 - val_loss: 0.8054 - val_accuracy: 0.7005\n",
            "Epoch 60/500\n",
            "104/104 [==============================] - 1s 5ms/step - loss: 0.7308 - accuracy: 0.7134 - val_loss: 0.9289 - val_accuracy: 0.6280\n",
            "Epoch 61/500\n",
            "104/104 [==============================] - 1s 5ms/step - loss: 0.7152 - accuracy: 0.7170 - val_loss: 0.7963 - val_accuracy: 0.7246\n",
            "Epoch 62/500\n",
            "104/104 [==============================] - 1s 5ms/step - loss: 0.7088 - accuracy: 0.7400 - val_loss: 0.8138 - val_accuracy: 0.7053\n",
            "Epoch 63/500\n",
            "104/104 [==============================] - 1s 5ms/step - loss: 0.6995 - accuracy: 0.7225 - val_loss: 0.8654 - val_accuracy: 0.6618\n",
            "Epoch 64/500\n",
            "104/104 [==============================] - 1s 5ms/step - loss: 0.6868 - accuracy: 0.7316 - val_loss: 0.8310 - val_accuracy: 0.7198\n",
            "Epoch 65/500\n",
            "104/104 [==============================] - 1s 5ms/step - loss: 0.6794 - accuracy: 0.7388 - val_loss: 0.9829 - val_accuracy: 0.5942\n",
            "Epoch 66/500\n",
            "104/104 [==============================] - 1s 5ms/step - loss: 0.6886 - accuracy: 0.7382 - val_loss: 0.9277 - val_accuracy: 0.6618\n",
            "Epoch 67/500\n",
            "104/104 [==============================] - 1s 5ms/step - loss: 0.6760 - accuracy: 0.7358 - val_loss: 0.8319 - val_accuracy: 0.6812\n",
            "Epoch 68/500\n",
            "104/104 [==============================] - 0s 5ms/step - loss: 0.6570 - accuracy: 0.7467 - val_loss: 0.7335 - val_accuracy: 0.7585\n",
            "Epoch 69/500\n",
            "104/104 [==============================] - 1s 5ms/step - loss: 0.6747 - accuracy: 0.7424 - val_loss: 0.7768 - val_accuracy: 0.7101\n",
            "Epoch 70/500\n",
            "104/104 [==============================] - 1s 5ms/step - loss: 0.6437 - accuracy: 0.7527 - val_loss: 0.7521 - val_accuracy: 0.7585\n",
            "Epoch 71/500\n",
            "104/104 [==============================] - 1s 5ms/step - loss: 0.6457 - accuracy: 0.7424 - val_loss: 0.7705 - val_accuracy: 0.7343\n",
            "Epoch 72/500\n",
            "104/104 [==============================] - 1s 5ms/step - loss: 0.6605 - accuracy: 0.7449 - val_loss: 0.7626 - val_accuracy: 0.7101\n",
            "Epoch 73/500\n",
            "104/104 [==============================] - 1s 5ms/step - loss: 0.6305 - accuracy: 0.7485 - val_loss: 0.7728 - val_accuracy: 0.7246\n",
            "Epoch 74/500\n",
            "104/104 [==============================] - 1s 5ms/step - loss: 0.6483 - accuracy: 0.7479 - val_loss: 0.7723 - val_accuracy: 0.7343\n",
            "Epoch 75/500\n",
            "104/104 [==============================] - 1s 5ms/step - loss: 0.6354 - accuracy: 0.7606 - val_loss: 0.7896 - val_accuracy: 0.6812\n",
            "Epoch 76/500\n",
            "104/104 [==============================] - 1s 5ms/step - loss: 0.6132 - accuracy: 0.7721 - val_loss: 0.7448 - val_accuracy: 0.7198\n",
            "Epoch 77/500\n",
            "104/104 [==============================] - 1s 6ms/step - loss: 0.5969 - accuracy: 0.7690 - val_loss: 0.6856 - val_accuracy: 0.7633\n",
            "Epoch 78/500\n",
            "104/104 [==============================] - 0s 4ms/step - loss: 0.6055 - accuracy: 0.7570 - val_loss: 0.8621 - val_accuracy: 0.6715\n",
            "Epoch 79/500\n",
            "104/104 [==============================] - 0s 5ms/step - loss: 0.6213 - accuracy: 0.7630 - val_loss: 0.7949 - val_accuracy: 0.7198\n",
            "Epoch 80/500\n",
            "104/104 [==============================] - 1s 6ms/step - loss: 0.5985 - accuracy: 0.7624 - val_loss: 0.7597 - val_accuracy: 0.7391\n",
            "Epoch 81/500\n",
            "104/104 [==============================] - 0s 4ms/step - loss: 0.5800 - accuracy: 0.7775 - val_loss: 0.7889 - val_accuracy: 0.6715\n",
            "Epoch 82/500\n",
            "104/104 [==============================] - 1s 5ms/step - loss: 0.5798 - accuracy: 0.7739 - val_loss: 0.6811 - val_accuracy: 0.7633\n",
            "Epoch 83/500\n",
            "104/104 [==============================] - 1s 5ms/step - loss: 0.5867 - accuracy: 0.7678 - val_loss: 0.7349 - val_accuracy: 0.7343\n",
            "Epoch 84/500\n",
            "104/104 [==============================] - 0s 4ms/step - loss: 0.5762 - accuracy: 0.7787 - val_loss: 0.7530 - val_accuracy: 0.7246\n",
            "Epoch 85/500\n",
            "104/104 [==============================] - 1s 5ms/step - loss: 0.5800 - accuracy: 0.7811 - val_loss: 0.7246 - val_accuracy: 0.7488\n",
            "Epoch 86/500\n",
            "104/104 [==============================] - 0s 5ms/step - loss: 0.5549 - accuracy: 0.7823 - val_loss: 0.7323 - val_accuracy: 0.7391\n",
            "Epoch 87/500\n",
            "104/104 [==============================] - 0s 5ms/step - loss: 0.5533 - accuracy: 0.7854 - val_loss: 0.7174 - val_accuracy: 0.7488\n",
            "Epoch 88/500\n",
            "104/104 [==============================] - 1s 5ms/step - loss: 0.5501 - accuracy: 0.7956 - val_loss: 0.7250 - val_accuracy: 0.7391\n",
            "Epoch 89/500\n",
            "104/104 [==============================] - 1s 5ms/step - loss: 0.5778 - accuracy: 0.7787 - val_loss: 0.6837 - val_accuracy: 0.7585\n",
            "Epoch 90/500\n",
            "104/104 [==============================] - 0s 4ms/step - loss: 0.5455 - accuracy: 0.7999 - val_loss: 0.7182 - val_accuracy: 0.7246\n",
            "Epoch 91/500\n",
            "104/104 [==============================] - 1s 6ms/step - loss: 0.5460 - accuracy: 0.7902 - val_loss: 0.7531 - val_accuracy: 0.7343\n",
            "Epoch 92/500\n",
            "104/104 [==============================] - 0s 5ms/step - loss: 0.5528 - accuracy: 0.7944 - val_loss: 0.7518 - val_accuracy: 0.7198\n",
            "Epoch 93/500\n",
            "104/104 [==============================] - 1s 5ms/step - loss: 0.5316 - accuracy: 0.7848 - val_loss: 0.6904 - val_accuracy: 0.7536\n",
            "Epoch 94/500\n",
            "104/104 [==============================] - 1s 5ms/step - loss: 0.5378 - accuracy: 0.7896 - val_loss: 0.6879 - val_accuracy: 0.7440\n",
            "Epoch 95/500\n",
            "104/104 [==============================] - 0s 5ms/step - loss: 0.5018 - accuracy: 0.8138 - val_loss: 0.7380 - val_accuracy: 0.7391\n",
            "Epoch 96/500\n",
            "104/104 [==============================] - 1s 5ms/step - loss: 0.5104 - accuracy: 0.7963 - val_loss: 0.6882 - val_accuracy: 0.7633\n",
            "Epoch 97/500\n",
            "104/104 [==============================] - 1s 5ms/step - loss: 0.5125 - accuracy: 0.8053 - val_loss: 0.7153 - val_accuracy: 0.7729\n",
            "Epoch 98/500\n",
            "104/104 [==============================] - 0s 5ms/step - loss: 0.5313 - accuracy: 0.7950 - val_loss: 0.6661 - val_accuracy: 0.7681\n",
            "Epoch 99/500\n",
            "104/104 [==============================] - 1s 5ms/step - loss: 0.5191 - accuracy: 0.7981 - val_loss: 0.6816 - val_accuracy: 0.7633\n",
            "Epoch 100/500\n",
            "104/104 [==============================] - 1s 5ms/step - loss: 0.4987 - accuracy: 0.8144 - val_loss: 0.7023 - val_accuracy: 0.7681\n",
            "Epoch 101/500\n",
            "104/104 [==============================] - 1s 5ms/step - loss: 0.5116 - accuracy: 0.8089 - val_loss: 0.7131 - val_accuracy: 0.7391\n",
            "Epoch 102/500\n",
            "104/104 [==============================] - 1s 5ms/step - loss: 0.4778 - accuracy: 0.8198 - val_loss: 0.6873 - val_accuracy: 0.7488\n",
            "Epoch 103/500\n",
            "104/104 [==============================] - 1s 5ms/step - loss: 0.4848 - accuracy: 0.8241 - val_loss: 0.7514 - val_accuracy: 0.7053\n",
            "Epoch 104/500\n",
            "104/104 [==============================] - 1s 5ms/step - loss: 0.4821 - accuracy: 0.8108 - val_loss: 0.7284 - val_accuracy: 0.7391\n",
            "Epoch 105/500\n",
            "104/104 [==============================] - 1s 5ms/step - loss: 0.4567 - accuracy: 0.8271 - val_loss: 0.7423 - val_accuracy: 0.7005\n",
            "Epoch 106/500\n",
            "104/104 [==============================] - 1s 5ms/step - loss: 0.4702 - accuracy: 0.8247 - val_loss: 0.7264 - val_accuracy: 0.7053\n",
            "Epoch 107/500\n",
            "104/104 [==============================] - 1s 5ms/step - loss: 0.4627 - accuracy: 0.8222 - val_loss: 0.7235 - val_accuracy: 0.7488\n",
            "Epoch 108/500\n",
            "104/104 [==============================] - 1s 5ms/step - loss: 0.4818 - accuracy: 0.8035 - val_loss: 0.7368 - val_accuracy: 0.7101\n",
            "Epoch 109/500\n",
            "104/104 [==============================] - 0s 5ms/step - loss: 0.4757 - accuracy: 0.8235 - val_loss: 0.7192 - val_accuracy: 0.7585\n",
            "Epoch 110/500\n",
            "104/104 [==============================] - 1s 6ms/step - loss: 0.4774 - accuracy: 0.8180 - val_loss: 0.6646 - val_accuracy: 0.7343\n",
            "Epoch 111/500\n",
            "104/104 [==============================] - 0s 4ms/step - loss: 0.4793 - accuracy: 0.8229 - val_loss: 0.6532 - val_accuracy: 0.7585\n",
            "Epoch 112/500\n",
            "104/104 [==============================] - 1s 5ms/step - loss: 0.4529 - accuracy: 0.8325 - val_loss: 0.6736 - val_accuracy: 0.7295\n",
            "Epoch 113/500\n",
            "104/104 [==============================] - 1s 5ms/step - loss: 0.4487 - accuracy: 0.8222 - val_loss: 0.6222 - val_accuracy: 0.8019\n",
            "Epoch 114/500\n",
            "104/104 [==============================] - 1s 5ms/step - loss: 0.4527 - accuracy: 0.8253 - val_loss: 0.6681 - val_accuracy: 0.7391\n",
            "Epoch 115/500\n",
            "104/104 [==============================] - 1s 5ms/step - loss: 0.4526 - accuracy: 0.8253 - val_loss: 0.7229 - val_accuracy: 0.7150\n",
            "Epoch 116/500\n",
            "104/104 [==============================] - 1s 5ms/step - loss: 0.4560 - accuracy: 0.8229 - val_loss: 0.7255 - val_accuracy: 0.7295\n",
            "Epoch 117/500\n",
            "104/104 [==============================] - 1s 5ms/step - loss: 0.4565 - accuracy: 0.8295 - val_loss: 0.7213 - val_accuracy: 0.7440\n",
            "Epoch 118/500\n",
            "104/104 [==============================] - 1s 5ms/step - loss: 0.4419 - accuracy: 0.8331 - val_loss: 0.6964 - val_accuracy: 0.7440\n",
            "Epoch 119/500\n",
            "104/104 [==============================] - 0s 5ms/step - loss: 0.4265 - accuracy: 0.8374 - val_loss: 0.6409 - val_accuracy: 0.7681\n",
            "Epoch 120/500\n",
            "104/104 [==============================] - 0s 5ms/step - loss: 0.4323 - accuracy: 0.8325 - val_loss: 0.6111 - val_accuracy: 0.7874\n",
            "Epoch 121/500\n",
            "104/104 [==============================] - 1s 5ms/step - loss: 0.4321 - accuracy: 0.8362 - val_loss: 0.6415 - val_accuracy: 0.7585\n",
            "Epoch 122/500\n",
            "104/104 [==============================] - 0s 5ms/step - loss: 0.4080 - accuracy: 0.8386 - val_loss: 0.6769 - val_accuracy: 0.7536\n",
            "Epoch 123/500\n",
            "104/104 [==============================] - 1s 5ms/step - loss: 0.4365 - accuracy: 0.8259 - val_loss: 0.6654 - val_accuracy: 0.7729\n",
            "Epoch 124/500\n",
            "104/104 [==============================] - 1s 5ms/step - loss: 0.4153 - accuracy: 0.8416 - val_loss: 0.7129 - val_accuracy: 0.7585\n",
            "Epoch 125/500\n",
            "104/104 [==============================] - 1s 5ms/step - loss: 0.3855 - accuracy: 0.8482 - val_loss: 0.7019 - val_accuracy: 0.7488\n",
            "Epoch 126/500\n",
            "104/104 [==============================] - 1s 5ms/step - loss: 0.4117 - accuracy: 0.8464 - val_loss: 0.5950 - val_accuracy: 0.7971\n",
            "Epoch 127/500\n",
            "104/104 [==============================] - 1s 5ms/step - loss: 0.3988 - accuracy: 0.8549 - val_loss: 0.6150 - val_accuracy: 0.7874\n",
            "Epoch 128/500\n",
            "104/104 [==============================] - 0s 4ms/step - loss: 0.3998 - accuracy: 0.8398 - val_loss: 0.6493 - val_accuracy: 0.7536\n",
            "Epoch 129/500\n",
            "104/104 [==============================] - 1s 6ms/step - loss: 0.4272 - accuracy: 0.8362 - val_loss: 0.6532 - val_accuracy: 0.7585\n",
            "Epoch 130/500\n",
            "104/104 [==============================] - 0s 5ms/step - loss: 0.3878 - accuracy: 0.8452 - val_loss: 0.6310 - val_accuracy: 0.7826\n",
            "Epoch 131/500\n",
            "104/104 [==============================] - 0s 5ms/step - loss: 0.3941 - accuracy: 0.8507 - val_loss: 0.5986 - val_accuracy: 0.7874\n",
            "Epoch 132/500\n",
            "104/104 [==============================] - 1s 5ms/step - loss: 0.3913 - accuracy: 0.8543 - val_loss: 0.6378 - val_accuracy: 0.7585\n",
            "Epoch 133/500\n",
            "104/104 [==============================] - 0s 5ms/step - loss: 0.4122 - accuracy: 0.8470 - val_loss: 0.6983 - val_accuracy: 0.7391\n",
            "Epoch 134/500\n",
            "104/104 [==============================] - 1s 7ms/step - loss: 0.4140 - accuracy: 0.8458 - val_loss: 0.6072 - val_accuracy: 0.7729\n",
            "Epoch 135/500\n",
            "104/104 [==============================] - 1s 8ms/step - loss: 0.4090 - accuracy: 0.8476 - val_loss: 0.6172 - val_accuracy: 0.7874\n",
            "Epoch 136/500\n",
            "104/104 [==============================] - 1s 9ms/step - loss: 0.3910 - accuracy: 0.8434 - val_loss: 0.5738 - val_accuracy: 0.7778\n",
            "Epoch 137/500\n",
            "104/104 [==============================] - 1s 6ms/step - loss: 0.3588 - accuracy: 0.8742 - val_loss: 0.6595 - val_accuracy: 0.7343\n",
            "Epoch 138/500\n",
            "104/104 [==============================] - 1s 9ms/step - loss: 0.3754 - accuracy: 0.8561 - val_loss: 0.6131 - val_accuracy: 0.7729\n",
            "Epoch 139/500\n",
            "104/104 [==============================] - 1s 6ms/step - loss: 0.3559 - accuracy: 0.8700 - val_loss: 0.7337 - val_accuracy: 0.7101\n",
            "Epoch 140/500\n",
            "104/104 [==============================] - 1s 5ms/step - loss: 0.3732 - accuracy: 0.8555 - val_loss: 0.6845 - val_accuracy: 0.7488\n",
            "Epoch 141/500\n",
            "104/104 [==============================] - 1s 5ms/step - loss: 0.3877 - accuracy: 0.8579 - val_loss: 0.6251 - val_accuracy: 0.7874\n",
            "Epoch 142/500\n",
            "104/104 [==============================] - 1s 5ms/step - loss: 0.3602 - accuracy: 0.8640 - val_loss: 0.5791 - val_accuracy: 0.7729\n",
            "Epoch 143/500\n",
            "104/104 [==============================] - 1s 5ms/step - loss: 0.3866 - accuracy: 0.8513 - val_loss: 0.5968 - val_accuracy: 0.7923\n",
            "Epoch 144/500\n",
            "104/104 [==============================] - 1s 5ms/step - loss: 0.3978 - accuracy: 0.8482 - val_loss: 0.5763 - val_accuracy: 0.7826\n",
            "Epoch 145/500\n",
            "104/104 [==============================] - 1s 6ms/step - loss: 0.3580 - accuracy: 0.8585 - val_loss: 0.6317 - val_accuracy: 0.7729\n",
            "Epoch 146/500\n",
            "104/104 [==============================] - 1s 5ms/step - loss: 0.3514 - accuracy: 0.8682 - val_loss: 0.6176 - val_accuracy: 0.7778\n",
            "Epoch 147/500\n",
            "104/104 [==============================] - 1s 5ms/step - loss: 0.3553 - accuracy: 0.8742 - val_loss: 0.5488 - val_accuracy: 0.7874\n",
            "Epoch 148/500\n",
            "104/104 [==============================] - 1s 5ms/step - loss: 0.3417 - accuracy: 0.8724 - val_loss: 0.5556 - val_accuracy: 0.8116\n",
            "Epoch 149/500\n",
            "104/104 [==============================] - 0s 5ms/step - loss: 0.3604 - accuracy: 0.8585 - val_loss: 0.5591 - val_accuracy: 0.7874\n",
            "Epoch 150/500\n",
            "104/104 [==============================] - 1s 5ms/step - loss: 0.3532 - accuracy: 0.8755 - val_loss: 0.5914 - val_accuracy: 0.7874\n",
            "Epoch 151/500\n",
            "104/104 [==============================] - 1s 5ms/step - loss: 0.3237 - accuracy: 0.8797 - val_loss: 0.6587 - val_accuracy: 0.7536\n",
            "Epoch 152/500\n",
            "104/104 [==============================] - 0s 5ms/step - loss: 0.3816 - accuracy: 0.8579 - val_loss: 0.6899 - val_accuracy: 0.7536\n",
            "Epoch 153/500\n",
            "104/104 [==============================] - 1s 5ms/step - loss: 0.3272 - accuracy: 0.8761 - val_loss: 0.5842 - val_accuracy: 0.7729\n",
            "Epoch 154/500\n",
            "104/104 [==============================] - 0s 4ms/step - loss: 0.3328 - accuracy: 0.8839 - val_loss: 0.5445 - val_accuracy: 0.8019\n",
            "Epoch 155/500\n",
            "104/104 [==============================] - 1s 5ms/step - loss: 0.3366 - accuracy: 0.8767 - val_loss: 0.6418 - val_accuracy: 0.7778\n",
            "Epoch 156/500\n",
            "104/104 [==============================] - 1s 5ms/step - loss: 0.3450 - accuracy: 0.8640 - val_loss: 0.5926 - val_accuracy: 0.7971\n",
            "Epoch 157/500\n",
            "104/104 [==============================] - 0s 5ms/step - loss: 0.3388 - accuracy: 0.8742 - val_loss: 0.6072 - val_accuracy: 0.7826\n",
            "Epoch 158/500\n",
            "104/104 [==============================] - 1s 5ms/step - loss: 0.3488 - accuracy: 0.8706 - val_loss: 0.6702 - val_accuracy: 0.7488\n",
            "Epoch 159/500\n",
            "104/104 [==============================] - 1s 5ms/step - loss: 0.3337 - accuracy: 0.8779 - val_loss: 0.5630 - val_accuracy: 0.7923\n",
            "Epoch 160/500\n",
            "104/104 [==============================] - 1s 5ms/step - loss: 0.3228 - accuracy: 0.8736 - val_loss: 0.5502 - val_accuracy: 0.8116\n",
            "Epoch 161/500\n",
            "104/104 [==============================] - 1s 5ms/step - loss: 0.3496 - accuracy: 0.8682 - val_loss: 0.6157 - val_accuracy: 0.7633\n",
            "Epoch 162/500\n",
            "104/104 [==============================] - 1s 5ms/step - loss: 0.3359 - accuracy: 0.8742 - val_loss: 0.5579 - val_accuracy: 0.7826\n",
            "Epoch 163/500\n",
            "104/104 [==============================] - 1s 5ms/step - loss: 0.3317 - accuracy: 0.8839 - val_loss: 0.7261 - val_accuracy: 0.7295\n",
            "Epoch 164/500\n",
            "104/104 [==============================] - 1s 6ms/step - loss: 0.3445 - accuracy: 0.8694 - val_loss: 0.7072 - val_accuracy: 0.7246\n",
            "Epoch 165/500\n",
            "104/104 [==============================] - 0s 5ms/step - loss: 0.3348 - accuracy: 0.8652 - val_loss: 0.5949 - val_accuracy: 0.7826\n",
            "Epoch 166/500\n",
            "104/104 [==============================] - 1s 6ms/step - loss: 0.3060 - accuracy: 0.8912 - val_loss: 0.5767 - val_accuracy: 0.8019\n",
            "Epoch 167/500\n",
            "104/104 [==============================] - 1s 5ms/step - loss: 0.3180 - accuracy: 0.8767 - val_loss: 0.5222 - val_accuracy: 0.8068\n",
            "Epoch 168/500\n",
            "104/104 [==============================] - 0s 5ms/step - loss: 0.3200 - accuracy: 0.8869 - val_loss: 0.5801 - val_accuracy: 0.7923\n",
            "Epoch 169/500\n",
            "104/104 [==============================] - 1s 6ms/step - loss: 0.3252 - accuracy: 0.8755 - val_loss: 0.6275 - val_accuracy: 0.7874\n",
            "Epoch 170/500\n",
            "104/104 [==============================] - 1s 6ms/step - loss: 0.2962 - accuracy: 0.8888 - val_loss: 0.5775 - val_accuracy: 0.8068\n",
            "Epoch 171/500\n",
            "104/104 [==============================] - 1s 8ms/step - loss: 0.3202 - accuracy: 0.8821 - val_loss: 0.6576 - val_accuracy: 0.7826\n",
            "Epoch 172/500\n",
            "104/104 [==============================] - 1s 6ms/step - loss: 0.3218 - accuracy: 0.8857 - val_loss: 0.5837 - val_accuracy: 0.7778\n",
            "Epoch 173/500\n",
            "104/104 [==============================] - 1s 7ms/step - loss: 0.3182 - accuracy: 0.8857 - val_loss: 0.5721 - val_accuracy: 0.7874\n",
            "Epoch 174/500\n",
            "104/104 [==============================] - 1s 6ms/step - loss: 0.2963 - accuracy: 0.8912 - val_loss: 0.6447 - val_accuracy: 0.7681\n",
            "Epoch 175/500\n",
            "104/104 [==============================] - 1s 5ms/step - loss: 0.2928 - accuracy: 0.8948 - val_loss: 0.6370 - val_accuracy: 0.7874\n",
            "Epoch 176/500\n",
            "104/104 [==============================] - 1s 5ms/step - loss: 0.3005 - accuracy: 0.8894 - val_loss: 0.5660 - val_accuracy: 0.7923\n",
            "Epoch 177/500\n",
            "104/104 [==============================] - 1s 5ms/step - loss: 0.2977 - accuracy: 0.8888 - val_loss: 0.5426 - val_accuracy: 0.8164\n",
            "Epoch 178/500\n",
            "104/104 [==============================] - 1s 5ms/step - loss: 0.2967 - accuracy: 0.8875 - val_loss: 0.6357 - val_accuracy: 0.7826\n",
            "Epoch 179/500\n",
            "104/104 [==============================] - 0s 4ms/step - loss: 0.2896 - accuracy: 0.8894 - val_loss: 0.5979 - val_accuracy: 0.7778\n",
            "Epoch 180/500\n",
            "104/104 [==============================] - 1s 5ms/step - loss: 0.3198 - accuracy: 0.8809 - val_loss: 0.5750 - val_accuracy: 0.8116\n",
            "Epoch 181/500\n",
            "104/104 [==============================] - 0s 5ms/step - loss: 0.3136 - accuracy: 0.8912 - val_loss: 0.6022 - val_accuracy: 0.7923\n",
            "Epoch 182/500\n",
            "104/104 [==============================] - 0s 4ms/step - loss: 0.2926 - accuracy: 0.8900 - val_loss: 0.7750 - val_accuracy: 0.7101\n",
            "Epoch 183/500\n",
            "104/104 [==============================] - 0s 4ms/step - loss: 0.2783 - accuracy: 0.9033 - val_loss: 0.5681 - val_accuracy: 0.8068\n",
            "Epoch 184/500\n",
            "104/104 [==============================] - 0s 5ms/step - loss: 0.2739 - accuracy: 0.9045 - val_loss: 0.6166 - val_accuracy: 0.7874\n",
            "Epoch 185/500\n",
            "104/104 [==============================] - 0s 4ms/step - loss: 0.3060 - accuracy: 0.8803 - val_loss: 0.5670 - val_accuracy: 0.7971\n",
            "Epoch 186/500\n",
            "104/104 [==============================] - 0s 5ms/step - loss: 0.2886 - accuracy: 0.8954 - val_loss: 0.7292 - val_accuracy: 0.7536\n",
            "Epoch 187/500\n",
            "104/104 [==============================] - 0s 4ms/step - loss: 0.2886 - accuracy: 0.8984 - val_loss: 0.5601 - val_accuracy: 0.8164\n",
            "Epoch 188/500\n",
            "104/104 [==============================] - 0s 5ms/step - loss: 0.2810 - accuracy: 0.8966 - val_loss: 0.7306 - val_accuracy: 0.7681\n",
            "Epoch 189/500\n",
            "104/104 [==============================] - 0s 4ms/step - loss: 0.2959 - accuracy: 0.8888 - val_loss: 0.6601 - val_accuracy: 0.7633\n",
            "Epoch 190/500\n",
            "104/104 [==============================] - 0s 5ms/step - loss: 0.3114 - accuracy: 0.8875 - val_loss: 0.5619 - val_accuracy: 0.8116\n",
            "Epoch 191/500\n",
            "104/104 [==============================] - 0s 5ms/step - loss: 0.2816 - accuracy: 0.8960 - val_loss: 0.6029 - val_accuracy: 0.7729\n",
            "Epoch 192/500\n",
            "104/104 [==============================] - 1s 5ms/step - loss: 0.2722 - accuracy: 0.8912 - val_loss: 0.5202 - val_accuracy: 0.8019\n",
            "Epoch 193/500\n",
            "104/104 [==============================] - 0s 5ms/step - loss: 0.2881 - accuracy: 0.8978 - val_loss: 0.5395 - val_accuracy: 0.7923\n",
            "Epoch 194/500\n",
            "104/104 [==============================] - 0s 4ms/step - loss: 0.2498 - accuracy: 0.8996 - val_loss: 0.5412 - val_accuracy: 0.8068\n",
            "Epoch 195/500\n",
            "104/104 [==============================] - 0s 4ms/step - loss: 0.2890 - accuracy: 0.8912 - val_loss: 0.5302 - val_accuracy: 0.8019\n",
            "Epoch 196/500\n",
            "104/104 [==============================] - 0s 4ms/step - loss: 0.2800 - accuracy: 0.9008 - val_loss: 0.6061 - val_accuracy: 0.7729\n",
            "Epoch 197/500\n",
            "104/104 [==============================] - 0s 5ms/step - loss: 0.2727 - accuracy: 0.9015 - val_loss: 0.5275 - val_accuracy: 0.8213\n",
            "Epoch 198/500\n",
            "104/104 [==============================] - 0s 4ms/step - loss: 0.3012 - accuracy: 0.8863 - val_loss: 0.5809 - val_accuracy: 0.7923\n",
            "Epoch 199/500\n",
            "104/104 [==============================] - 1s 5ms/step - loss: 0.2832 - accuracy: 0.8966 - val_loss: 0.5748 - val_accuracy: 0.7923\n",
            "Epoch 200/500\n",
            "104/104 [==============================] - 0s 5ms/step - loss: 0.2903 - accuracy: 0.8990 - val_loss: 0.5520 - val_accuracy: 0.8213\n",
            "Epoch 201/500\n",
            "104/104 [==============================] - 1s 5ms/step - loss: 0.2700 - accuracy: 0.8972 - val_loss: 0.5820 - val_accuracy: 0.7923\n",
            "Epoch 202/500\n",
            "104/104 [==============================] - 0s 5ms/step - loss: 0.2838 - accuracy: 0.8960 - val_loss: 0.5756 - val_accuracy: 0.8213\n",
            "Epoch 203/500\n",
            "104/104 [==============================] - 0s 5ms/step - loss: 0.2565 - accuracy: 0.9051 - val_loss: 0.5824 - val_accuracy: 0.7923\n",
            "Epoch 204/500\n",
            "104/104 [==============================] - 0s 5ms/step - loss: 0.2492 - accuracy: 0.9063 - val_loss: 0.6171 - val_accuracy: 0.7874\n",
            "Epoch 205/500\n",
            "104/104 [==============================] - 0s 5ms/step - loss: 0.2579 - accuracy: 0.9045 - val_loss: 0.6323 - val_accuracy: 0.8068\n",
            "Epoch 206/500\n",
            "104/104 [==============================] - 0s 5ms/step - loss: 0.2622 - accuracy: 0.9081 - val_loss: 0.5049 - val_accuracy: 0.8116\n",
            "Epoch 207/500\n",
            "104/104 [==============================] - 0s 5ms/step - loss: 0.2607 - accuracy: 0.9008 - val_loss: 0.5362 - val_accuracy: 0.8261\n",
            "Epoch 208/500\n",
            "104/104 [==============================] - 1s 5ms/step - loss: 0.2532 - accuracy: 0.9015 - val_loss: 0.5079 - val_accuracy: 0.8357\n",
            "Epoch 209/500\n",
            "104/104 [==============================] - 0s 5ms/step - loss: 0.2557 - accuracy: 0.9087 - val_loss: 0.4976 - val_accuracy: 0.8213\n",
            "Epoch 210/500\n",
            "104/104 [==============================] - 0s 5ms/step - loss: 0.2255 - accuracy: 0.9172 - val_loss: 0.5255 - val_accuracy: 0.8116\n",
            "Epoch 211/500\n",
            "104/104 [==============================] - 1s 5ms/step - loss: 0.2752 - accuracy: 0.8960 - val_loss: 0.5565 - val_accuracy: 0.8261\n",
            "Epoch 212/500\n",
            "104/104 [==============================] - 0s 4ms/step - loss: 0.2400 - accuracy: 0.9190 - val_loss: 0.5313 - val_accuracy: 0.8213\n",
            "Epoch 213/500\n",
            "104/104 [==============================] - 0s 5ms/step - loss: 0.2623 - accuracy: 0.9015 - val_loss: 0.5778 - val_accuracy: 0.8019\n",
            "Epoch 214/500\n",
            "104/104 [==============================] - 0s 4ms/step - loss: 0.2507 - accuracy: 0.9051 - val_loss: 0.5732 - val_accuracy: 0.8019\n",
            "Epoch 215/500\n",
            "104/104 [==============================] - 0s 5ms/step - loss: 0.2579 - accuracy: 0.9051 - val_loss: 0.5794 - val_accuracy: 0.7971\n",
            "Epoch 216/500\n",
            "104/104 [==============================] - 0s 4ms/step - loss: 0.2577 - accuracy: 0.9099 - val_loss: 0.5240 - val_accuracy: 0.8213\n",
            "Epoch 217/500\n",
            "104/104 [==============================] - 0s 5ms/step - loss: 0.2528 - accuracy: 0.9008 - val_loss: 0.6960 - val_accuracy: 0.7536\n",
            "Epoch 218/500\n",
            "104/104 [==============================] - 0s 4ms/step - loss: 0.2510 - accuracy: 0.9075 - val_loss: 0.5578 - val_accuracy: 0.8213\n",
            "Epoch 219/500\n",
            "104/104 [==============================] - 0s 5ms/step - loss: 0.2564 - accuracy: 0.9063 - val_loss: 0.6091 - val_accuracy: 0.8357\n",
            "Epoch 220/500\n",
            "104/104 [==============================] - 0s 4ms/step - loss: 0.2444 - accuracy: 0.9123 - val_loss: 0.5393 - val_accuracy: 0.8261\n",
            "Epoch 221/500\n",
            "104/104 [==============================] - 0s 5ms/step - loss: 0.2534 - accuracy: 0.9111 - val_loss: 0.6424 - val_accuracy: 0.7778\n",
            "Epoch 222/500\n",
            "104/104 [==============================] - 0s 5ms/step - loss: 0.2298 - accuracy: 0.9214 - val_loss: 0.5316 - val_accuracy: 0.8019\n",
            "Epoch 223/500\n",
            "104/104 [==============================] - 1s 5ms/step - loss: 0.2524 - accuracy: 0.8990 - val_loss: 0.5580 - val_accuracy: 0.8068\n",
            "Epoch 224/500\n",
            "104/104 [==============================] - 1s 5ms/step - loss: 0.2364 - accuracy: 0.9093 - val_loss: 0.5867 - val_accuracy: 0.7923\n",
            "Epoch 225/500\n",
            "104/104 [==============================] - 1s 6ms/step - loss: 0.2538 - accuracy: 0.9002 - val_loss: 0.5272 - val_accuracy: 0.8164\n",
            "Epoch 226/500\n",
            "104/104 [==============================] - 1s 5ms/step - loss: 0.2482 - accuracy: 0.9148 - val_loss: 0.4976 - val_accuracy: 0.8116\n",
            "Epoch 227/500\n",
            "104/104 [==============================] - 1s 5ms/step - loss: 0.2448 - accuracy: 0.9105 - val_loss: 0.4996 - val_accuracy: 0.8309\n",
            "Epoch 228/500\n",
            "104/104 [==============================] - 1s 5ms/step - loss: 0.2354 - accuracy: 0.9141 - val_loss: 0.6030 - val_accuracy: 0.7826\n",
            "Epoch 229/500\n",
            "104/104 [==============================] - 1s 5ms/step - loss: 0.2232 - accuracy: 0.9166 - val_loss: 0.5552 - val_accuracy: 0.8164\n",
            "Epoch 230/500\n",
            "104/104 [==============================] - 1s 5ms/step - loss: 0.2281 - accuracy: 0.9190 - val_loss: 0.5011 - val_accuracy: 0.8116\n",
            "Epoch 231/500\n",
            "104/104 [==============================] - 1s 6ms/step - loss: 0.2346 - accuracy: 0.9129 - val_loss: 0.5270 - val_accuracy: 0.8164\n",
            "Epoch 232/500\n",
            "104/104 [==============================] - 1s 5ms/step - loss: 0.2324 - accuracy: 0.9141 - val_loss: 0.5466 - val_accuracy: 0.7971\n",
            "Epoch 233/500\n",
            "104/104 [==============================] - 1s 6ms/step - loss: 0.2398 - accuracy: 0.9148 - val_loss: 0.4905 - val_accuracy: 0.8068\n",
            "Epoch 234/500\n",
            "104/104 [==============================] - 1s 5ms/step - loss: 0.2279 - accuracy: 0.9184 - val_loss: 0.6487 - val_accuracy: 0.7681\n",
            "Epoch 235/500\n",
            "104/104 [==============================] - 1s 5ms/step - loss: 0.2464 - accuracy: 0.9105 - val_loss: 0.6435 - val_accuracy: 0.7826\n",
            "Epoch 236/500\n",
            "104/104 [==============================] - 1s 6ms/step - loss: 0.2385 - accuracy: 0.9129 - val_loss: 0.5294 - val_accuracy: 0.8309\n",
            "Epoch 237/500\n",
            "104/104 [==============================] - 0s 5ms/step - loss: 0.2561 - accuracy: 0.9051 - val_loss: 0.6512 - val_accuracy: 0.7874\n",
            "Epoch 238/500\n",
            "104/104 [==============================] - 1s 5ms/step - loss: 0.2321 - accuracy: 0.9111 - val_loss: 0.4878 - val_accuracy: 0.8357\n",
            "Epoch 239/500\n",
            "104/104 [==============================] - 1s 6ms/step - loss: 0.2283 - accuracy: 0.9202 - val_loss: 0.4948 - val_accuracy: 0.8116\n",
            "Epoch 240/500\n",
            "104/104 [==============================] - 1s 5ms/step - loss: 0.2261 - accuracy: 0.9202 - val_loss: 0.5142 - val_accuracy: 0.8309\n",
            "Epoch 241/500\n",
            "104/104 [==============================] - 1s 6ms/step - loss: 0.2243 - accuracy: 0.9141 - val_loss: 0.5720 - val_accuracy: 0.8213\n",
            "Epoch 242/500\n",
            "104/104 [==============================] - 1s 5ms/step - loss: 0.2116 - accuracy: 0.9250 - val_loss: 0.4952 - val_accuracy: 0.8164\n",
            "Epoch 243/500\n",
            "104/104 [==============================] - 1s 5ms/step - loss: 0.2484 - accuracy: 0.9045 - val_loss: 0.4841 - val_accuracy: 0.8261\n",
            "Epoch 244/500\n",
            "104/104 [==============================] - 1s 6ms/step - loss: 0.2321 - accuracy: 0.9123 - val_loss: 0.5313 - val_accuracy: 0.7923\n",
            "Epoch 245/500\n",
            "104/104 [==============================] - 1s 5ms/step - loss: 0.2360 - accuracy: 0.9063 - val_loss: 0.5568 - val_accuracy: 0.8164\n",
            "Epoch 246/500\n",
            "104/104 [==============================] - 1s 6ms/step - loss: 0.2557 - accuracy: 0.9008 - val_loss: 0.5878 - val_accuracy: 0.7826\n",
            "Epoch 247/500\n",
            "104/104 [==============================] - 1s 6ms/step - loss: 0.2215 - accuracy: 0.9202 - val_loss: 0.5526 - val_accuracy: 0.8116\n",
            "Epoch 248/500\n",
            "104/104 [==============================] - 1s 5ms/step - loss: 0.2140 - accuracy: 0.9238 - val_loss: 0.6275 - val_accuracy: 0.7874\n",
            "Epoch 249/500\n",
            "104/104 [==============================] - 1s 6ms/step - loss: 0.2530 - accuracy: 0.9087 - val_loss: 0.6420 - val_accuracy: 0.7729\n",
            "Epoch 250/500\n",
            "104/104 [==============================] - 1s 5ms/step - loss: 0.1995 - accuracy: 0.9268 - val_loss: 0.4987 - val_accuracy: 0.7971\n",
            "Epoch 251/500\n",
            "104/104 [==============================] - 1s 5ms/step - loss: 0.2246 - accuracy: 0.9293 - val_loss: 0.5111 - val_accuracy: 0.8309\n",
            "Epoch 252/500\n",
            "104/104 [==============================] - 1s 5ms/step - loss: 0.2063 - accuracy: 0.9220 - val_loss: 0.5645 - val_accuracy: 0.8068\n",
            "Epoch 253/500\n",
            "104/104 [==============================] - 1s 5ms/step - loss: 0.2213 - accuracy: 0.9160 - val_loss: 0.4917 - val_accuracy: 0.8164\n",
            "Epoch 254/500\n",
            "104/104 [==============================] - 1s 5ms/step - loss: 0.2291 - accuracy: 0.9196 - val_loss: 0.6550 - val_accuracy: 0.7826\n",
            "Epoch 255/500\n",
            "104/104 [==============================] - 1s 5ms/step - loss: 0.2346 - accuracy: 0.9087 - val_loss: 0.4837 - val_accuracy: 0.8213\n",
            "Epoch 256/500\n",
            "104/104 [==============================] - 1s 5ms/step - loss: 0.2142 - accuracy: 0.9226 - val_loss: 0.5107 - val_accuracy: 0.8261\n",
            "Epoch 257/500\n",
            "104/104 [==============================] - 1s 5ms/step - loss: 0.2214 - accuracy: 0.9166 - val_loss: 0.4939 - val_accuracy: 0.8261\n",
            "Epoch 258/500\n",
            "104/104 [==============================] - 1s 5ms/step - loss: 0.2511 - accuracy: 0.9081 - val_loss: 0.4583 - val_accuracy: 0.8213\n",
            "Epoch 259/500\n",
            "104/104 [==============================] - 1s 5ms/step - loss: 0.2041 - accuracy: 0.9268 - val_loss: 0.6682 - val_accuracy: 0.7778\n",
            "Epoch 260/500\n",
            "104/104 [==============================] - 1s 6ms/step - loss: 0.2084 - accuracy: 0.9214 - val_loss: 0.5122 - val_accuracy: 0.8261\n",
            "Epoch 261/500\n",
            "104/104 [==============================] - 1s 5ms/step - loss: 0.1986 - accuracy: 0.9305 - val_loss: 0.5368 - val_accuracy: 0.8116\n",
            "Epoch 262/500\n",
            "104/104 [==============================] - 1s 5ms/step - loss: 0.2152 - accuracy: 0.9178 - val_loss: 0.5387 - val_accuracy: 0.8213\n",
            "Epoch 263/500\n",
            "104/104 [==============================] - 1s 5ms/step - loss: 0.2167 - accuracy: 0.9220 - val_loss: 0.4885 - val_accuracy: 0.8213\n",
            "Epoch 264/500\n",
            "104/104 [==============================] - 1s 5ms/step - loss: 0.2277 - accuracy: 0.9214 - val_loss: 0.5362 - val_accuracy: 0.8116\n",
            "Epoch 265/500\n",
            "104/104 [==============================] - 1s 6ms/step - loss: 0.2148 - accuracy: 0.9190 - val_loss: 0.5460 - val_accuracy: 0.8213\n",
            "Epoch 266/500\n",
            "104/104 [==============================] - 1s 5ms/step - loss: 0.2176 - accuracy: 0.9256 - val_loss: 0.5595 - val_accuracy: 0.8068\n",
            "Epoch 267/500\n",
            "104/104 [==============================] - 1s 5ms/step - loss: 0.2008 - accuracy: 0.9311 - val_loss: 0.6138 - val_accuracy: 0.7971\n",
            "Epoch 268/500\n",
            "104/104 [==============================] - 1s 5ms/step - loss: 0.2241 - accuracy: 0.9129 - val_loss: 0.5680 - val_accuracy: 0.8116\n",
            "Epoch 269/500\n",
            "104/104 [==============================] - 1s 5ms/step - loss: 0.2021 - accuracy: 0.9244 - val_loss: 0.5292 - val_accuracy: 0.8164\n",
            "Epoch 270/500\n",
            "104/104 [==============================] - 1s 6ms/step - loss: 0.2350 - accuracy: 0.9178 - val_loss: 0.6124 - val_accuracy: 0.7971\n",
            "Epoch 271/500\n",
            "104/104 [==============================] - 1s 5ms/step - loss: 0.1884 - accuracy: 0.9274 - val_loss: 0.4649 - val_accuracy: 0.8116\n",
            "Epoch 272/500\n",
            "104/104 [==============================] - 1s 5ms/step - loss: 0.1935 - accuracy: 0.9232 - val_loss: 0.5446 - val_accuracy: 0.8068\n",
            "Epoch 273/500\n",
            "104/104 [==============================] - 1s 6ms/step - loss: 0.2238 - accuracy: 0.9190 - val_loss: 0.5060 - val_accuracy: 0.8164\n",
            "Epoch 274/500\n",
            "104/104 [==============================] - 1s 5ms/step - loss: 0.2108 - accuracy: 0.9208 - val_loss: 0.7003 - val_accuracy: 0.7729\n",
            "Epoch 275/500\n",
            "104/104 [==============================] - 1s 6ms/step - loss: 0.1780 - accuracy: 0.9341 - val_loss: 0.4945 - val_accuracy: 0.8213\n",
            "Epoch 276/500\n",
            "104/104 [==============================] - 1s 5ms/step - loss: 0.2158 - accuracy: 0.9208 - val_loss: 0.5655 - val_accuracy: 0.8261\n",
            "Epoch 277/500\n",
            "104/104 [==============================] - 1s 5ms/step - loss: 0.2006 - accuracy: 0.9202 - val_loss: 0.6892 - val_accuracy: 0.7633\n",
            "Epoch 278/500\n",
            "104/104 [==============================] - 1s 6ms/step - loss: 0.1994 - accuracy: 0.9256 - val_loss: 0.5832 - val_accuracy: 0.8068\n",
            "Epoch 279/500\n",
            "104/104 [==============================] - 0s 5ms/step - loss: 0.1977 - accuracy: 0.9268 - val_loss: 0.5013 - val_accuracy: 0.8213\n",
            "Epoch 280/500\n",
            "104/104 [==============================] - 1s 6ms/step - loss: 0.2145 - accuracy: 0.9220 - val_loss: 0.5482 - val_accuracy: 0.7826\n",
            "Epoch 281/500\n",
            "104/104 [==============================] - 1s 6ms/step - loss: 0.2109 - accuracy: 0.9250 - val_loss: 0.5261 - val_accuracy: 0.8164\n",
            "Epoch 282/500\n",
            "104/104 [==============================] - 0s 5ms/step - loss: 0.1960 - accuracy: 0.9299 - val_loss: 0.5237 - val_accuracy: 0.8164\n",
            "Epoch 283/500\n",
            "104/104 [==============================] - 1s 6ms/step - loss: 0.2018 - accuracy: 0.9172 - val_loss: 0.6421 - val_accuracy: 0.7826\n"
          ]
        }
      ]
    },
    {
      "cell_type": "code",
      "source": [
        "plt.plot(cnnhistory.history['loss'])\n",
        "plt.plot(cnnhistory.history['val_loss'])\n",
        "plt.title('model loss')\n",
        "plt.ylabel('loss')\n",
        "plt.xlabel('epoch')\n",
        "plt.legend(['train','test'], loc='upper left')\n",
        "plt.show()"
      ],
      "metadata": {
        "colab": {
          "base_uri": "https://localhost:8080/",
          "height": 295
        },
        "id": "oQYnuaCrDH_A",
        "outputId": "111be668-1dd1-41c6-95ed-075a7456773d"
      },
      "execution_count": 15,
      "outputs": [
        {
          "output_type": "display_data",
          "data": {
            "text/plain": [
              "<Figure size 432x288 with 1 Axes>"
            ],
            "image/png": "[encoded data removed]"
          },
          "metadata": {
            "needs_background": "light"
          }
        }
      ]
    },
    {
      "cell_type": "code",
      "source": [
        "plt.plot(cnnhistory.history['accuracy'])\n",
        "plt.plot(cnnhistory.history['val_accuracy'])\n",
        "plt.title('model accuracy')\n",
        "plt.ylabel('accuracy')\n",
        "plt.xlabel('epoch')\n",
        "plt.legend(['train','test'], loc='upper left')\n",
        "plt.show()"
      ],
      "metadata": {
        "colab": {
          "base_uri": "https://localhost:8080/",
          "height": 295
        },
        "id": "IFkTuO8nDNdq",
        "outputId": "a02d14e1-f7a1-4511-cc24-840491d6f00a"
      },
      "execution_count": 16,
      "outputs": [
        {
          "output_type": "display_data",
          "data": {
            "text/plain": [
              "<Figure size 432x288 with 1 Axes>"
            ],
            "image/png": "[encoded data removed]"
          },
          "metadata": {
            "needs_background": "light"
          }
        }
      ]
    },
    {
      "cell_type": "code",
      "source": [
        "predictions = model.predict(x_testcnn)"
      ],
      "metadata": {
        "id": "A2xtrN5wDQgY"
      },
      "execution_count": 17,
      "outputs": []
    },
    {
      "cell_type": "code",
      "source": [
        "predictions"
      ],
      "metadata": {
        "colab": {
          "base_uri": "https://localhost:8080/"
        },
        "id": "_f_ohjXKDUpY",
        "outputId": "d85f4e13-08f7-48a0-8663-2c671f4052a2"
      },
      "execution_count": 18,
      "outputs": [
        {
          "output_type": "execute_result",
          "data": {
            "text/plain": [
              "array([[5.0137705e-01, 1.0551907e-02, 3.5533905e-01, 1.0889571e-01,\n",
              "        1.8177442e-02, 5.6589157e-03],\n",
              "       [1.7022841e-05, 4.5963420e-09, 1.3056071e-13, 9.9774867e-01,\n",
              "        9.6767820e-09, 2.2342436e-03],\n",
              "       [1.1720166e-01, 5.0404295e-02, 1.9709985e-03, 7.4939448e-01,\n",
              "        9.4551145e-04, 8.0083020e-02],\n",
              "       ...,\n",
              "       [9.3021648e-05, 3.9905320e-08, 6.2125421e-04, 3.9447084e-05,\n",
              "        9.9369544e-01, 5.5508246e-03],\n",
              "       [1.1613146e-04, 1.4208327e-01, 8.5702604e-01, 1.0754508e-04,\n",
              "        5.6936225e-04, 9.7614611e-05],\n",
              "       [4.8984343e-04, 2.3443041e-04, 7.5258962e-03, 7.0814282e-04,\n",
              "        9.8835713e-01, 2.6845699e-03]], dtype=float32)"
            ]
          },
          "metadata": {},
          "execution_count": 18
        }
      ]
    },
    {
      "cell_type": "code",
      "source": [
        "y_test"
      ],
      "metadata": {
        "colab": {
          "base_uri": "https://localhost:8080/"
        },
        "id": "cmA2bFgsDW3D",
        "outputId": "168fcb80-c7d2-45d5-e00a-52883d324b68"
      },
      "execution_count": 19,
      "outputs": [
        {
          "output_type": "execute_result",
          "data": {
            "text/plain": [
              "array([3, 3, 3, 0, 4, 4, 1, 2, 5, 0, 5, 3, 2, 2, 1, 4, 4, 5, 2, 4, 1, 2,\n",
              "       3, 5, 4, 2, 1, 2, 2, 2, 2, 5, 2, 5, 3, 1, 2, 0, 4, 5, 2, 3, 2, 2,\n",
              "       5, 2, 0, 1, 3, 4, 4, 5, 1, 1, 4, 4, 5, 1, 1, 1, 0, 1, 5, 0, 4, 1,\n",
              "       1, 0, 1, 4, 1, 0, 4, 1, 3, 1, 2, 2, 1, 2, 3, 0, 5, 3, 5, 5, 2, 4,\n",
              "       5, 1, 5, 1, 5, 3, 4, 1, 4, 1, 5, 4, 5, 1, 2, 1, 1, 5, 1, 3, 2, 5,\n",
              "       2, 1, 3, 5, 4, 4, 0, 0, 3, 1, 2, 2, 3, 5, 1, 5, 3, 4, 2, 2, 0, 2,\n",
              "       2, 5, 5, 0, 3, 3, 2, 2, 0, 3, 4, 0, 4, 2, 4, 5, 4, 1, 5, 3, 2, 2,\n",
              "       5, 4, 3, 3, 4, 3, 3, 4, 1, 5, 2, 3, 2, 2, 0, 2, 1, 3, 1, 2, 2, 5,\n",
              "       5, 1, 4, 2, 2, 1, 1, 3, 3, 5, 5, 2, 5, 1, 5, 0, 3, 3, 0, 5, 1, 4,\n",
              "       1, 4, 2, 5, 5, 1, 4, 2, 4])"
            ]
          },
          "metadata": {},
          "execution_count": 19
        }
      ]
    },
    {
      "cell_type": "code",
      "source": [
        "new_Ytest = y_test.astype(int)"
      ],
      "metadata": {
        "id": "0PHDKWJWDY3g"
      },
      "execution_count": 20,
      "outputs": []
    },
    {
      "cell_type": "code",
      "source": [
        "new_Ytest"
      ],
      "metadata": {
        "colab": {
          "base_uri": "https://localhost:8080/"
        },
        "id": "k68v2i-pDbZE",
        "outputId": "eec27ff5-1a38-453a-8e62-3c69fccb2e6a"
      },
      "execution_count": 21,
      "outputs": [
        {
          "output_type": "execute_result",
          "data": {
            "text/plain": [
              "array([3, 3, 3, 0, 4, 4, 1, 2, 5, 0, 5, 3, 2, 2, 1, 4, 4, 5, 2, 4, 1, 2,\n",
              "       3, 5, 4, 2, 1, 2, 2, 2, 2, 5, 2, 5, 3, 1, 2, 0, 4, 5, 2, 3, 2, 2,\n",
              "       5, 2, 0, 1, 3, 4, 4, 5, 1, 1, 4, 4, 5, 1, 1, 1, 0, 1, 5, 0, 4, 1,\n",
              "       1, 0, 1, 4, 1, 0, 4, 1, 3, 1, 2, 2, 1, 2, 3, 0, 5, 3, 5, 5, 2, 4,\n",
              "       5, 1, 5, 1, 5, 3, 4, 1, 4, 1, 5, 4, 5, 1, 2, 1, 1, 5, 1, 3, 2, 5,\n",
              "       2, 1, 3, 5, 4, 4, 0, 0, 3, 1, 2, 2, 3, 5, 1, 5, 3, 4, 2, 2, 0, 2,\n",
              "       2, 5, 5, 0, 3, 3, 2, 2, 0, 3, 4, 0, 4, 2, 4, 5, 4, 1, 5, 3, 2, 2,\n",
              "       5, 4, 3, 3, 4, 3, 3, 4, 1, 5, 2, 3, 2, 2, 0, 2, 1, 3, 1, 2, 2, 5,\n",
              "       5, 1, 4, 2, 2, 1, 1, 3, 3, 5, 5, 2, 5, 1, 5, 0, 3, 3, 0, 5, 1, 4,\n",
              "       1, 4, 2, 5, 5, 1, 4, 2, 4])"
            ]
          },
          "metadata": {},
          "execution_count": 21
        }
      ]
    },
    {
      "cell_type": "code",
      "source": [
        "preds1=predictions.argmax(axis=1)\n",
        "preds1"
      ],
      "metadata": {
        "colab": {
          "base_uri": "https://localhost:8080/"
        },
        "id": "4_cAI39VFhtp",
        "outputId": "5d6fb84a-25dc-46f7-93e7-83c0bb8463dc"
      },
      "execution_count": 22,
      "outputs": [
        {
          "output_type": "execute_result",
          "data": {
            "text/plain": [
              "array([0, 3, 3, 0, 4, 4, 1, 2, 5, 1, 5, 3, 2, 2, 0, 4, 4, 5, 3, 4, 1, 2,\n",
              "       3, 3, 4, 2, 1, 0, 4, 2, 2, 5, 2, 5, 3, 1, 2, 0, 4, 5, 2, 3, 2, 2,\n",
              "       5, 2, 1, 1, 3, 4, 4, 5, 1, 1, 4, 4, 5, 1, 1, 1, 0, 1, 5, 1, 4, 1,\n",
              "       1, 1, 1, 4, 0, 0, 4, 1, 5, 1, 2, 2, 1, 2, 1, 0, 5, 3, 5, 5, 2, 4,\n",
              "       5, 1, 0, 1, 5, 3, 4, 1, 0, 1, 5, 4, 5, 1, 2, 1, 1, 5, 1, 3, 2, 5,\n",
              "       0, 0, 3, 0, 4, 4, 0, 0, 3, 1, 1, 2, 1, 0, 1, 5, 3, 4, 2, 2, 0, 2,\n",
              "       2, 3, 5, 0, 3, 3, 2, 2, 0, 3, 4, 0, 4, 2, 4, 2, 4, 1, 5, 3, 2, 2,\n",
              "       5, 4, 3, 3, 4, 5, 3, 4, 1, 5, 2, 3, 2, 2, 0, 2, 1, 3, 1, 2, 2, 5,\n",
              "       5, 1, 4, 2, 4, 1, 1, 3, 3, 5, 5, 2, 5, 1, 4, 1, 3, 3, 2, 2, 1, 4,\n",
              "       1, 3, 0, 5, 5, 1, 4, 2, 4])"
            ]
          },
          "metadata": {},
          "execution_count": 22
        }
      ]
    },
    {
      "cell_type": "code",
      "source": [
        "abc = preds1.astype(int).flatten()"
      ],
      "metadata": {
        "id": "H4WEmM60NfQn"
      },
      "execution_count": 23,
      "outputs": []
    },
    {
      "cell_type": "code",
      "source": [
        "from sklearn.metrics import confusion_matrix\n",
        "c = confusion_matrix(new_Ytest, abc) \n",
        "c"
      ],
      "metadata": {
        "colab": {
          "base_uri": "https://localhost:8080/"
        },
        "id": "bKEBeEBlFjB8",
        "outputId": "193ad43e-491b-4a16-80f3-802b60f996b9"
      },
      "execution_count": 24,
      "outputs": [
        {
          "output_type": "execute_result",
          "data": {
            "text/plain": [
              "array([[12,  5,  1,  0,  0,  0],\n",
              "       [ 3, 38,  0,  0,  0,  0],\n",
              "       [ 3,  1, 38,  1,  2,  0],\n",
              "       [ 1,  2,  0, 26,  0,  2],\n",
              "       [ 1,  0,  0,  1, 31,  0],\n",
              "       [ 3,  0,  2,  2,  1, 31]])"
            ]
          },
          "metadata": {},
          "execution_count": 24
        }
      ]
    },
    {
      "cell_type": "code",
      "source": [
        "y_test"
      ],
      "metadata": {
        "colab": {
          "base_uri": "https://localhost:8080/"
        },
        "id": "m4RjG7LWLSQx",
        "outputId": "8117c711-c4c1-4210-9459-05ab1993b48e"
      },
      "execution_count": 25,
      "outputs": [
        {
          "output_type": "execute_result",
          "data": {
            "text/plain": [
              "array([3, 3, 3, 0, 4, 4, 1, 2, 5, 0, 5, 3, 2, 2, 1, 4, 4, 5, 2, 4, 1, 2,\n",
              "       3, 5, 4, 2, 1, 2, 2, 2, 2, 5, 2, 5, 3, 1, 2, 0, 4, 5, 2, 3, 2, 2,\n",
              "       5, 2, 0, 1, 3, 4, 4, 5, 1, 1, 4, 4, 5, 1, 1, 1, 0, 1, 5, 0, 4, 1,\n",
              "       1, 0, 1, 4, 1, 0, 4, 1, 3, 1, 2, 2, 1, 2, 3, 0, 5, 3, 5, 5, 2, 4,\n",
              "       5, 1, 5, 1, 5, 3, 4, 1, 4, 1, 5, 4, 5, 1, 2, 1, 1, 5, 1, 3, 2, 5,\n",
              "       2, 1, 3, 5, 4, 4, 0, 0, 3, 1, 2, 2, 3, 5, 1, 5, 3, 4, 2, 2, 0, 2,\n",
              "       2, 5, 5, 0, 3, 3, 2, 2, 0, 3, 4, 0, 4, 2, 4, 5, 4, 1, 5, 3, 2, 2,\n",
              "       5, 4, 3, 3, 4, 3, 3, 4, 1, 5, 2, 3, 2, 2, 0, 2, 1, 3, 1, 2, 2, 5,\n",
              "       5, 1, 4, 2, 2, 1, 1, 3, 3, 5, 5, 2, 5, 1, 5, 0, 3, 3, 0, 5, 1, 4,\n",
              "       1, 4, 2, 5, 5, 1, 4, 2, 4])"
            ]
          },
          "metadata": {},
          "execution_count": 25
        }
      ]
    },
    {
      "cell_type": "code",
      "source": [
        "loss, acc =model.evaluate(x_testcnn, y_test)\n",
        "print(\"Restored model, accuracy: {:5.2f}%\".format(100*acc))"
      ],
      "metadata": {
        "colab": {
          "base_uri": "https://localhost:8080/"
        },
        "id": "n3kzoqPkDqqS",
        "outputId": "f290e2e0-4138-4fd5-d163-990d9f8e1303"
      },
      "execution_count": 26,
      "outputs": [
        {
          "output_type": "stream",
          "name": "stdout",
          "text": [
            "7/7 [==============================] - 0s 3ms/step - loss: 0.4272 - accuracy: 0.8502\n",
            "Restored model, accuracy: 85.02%\n"
          ]
        }
      ]
    },
    {
      "cell_type": "code",
      "source": [
        "loss, acc =model.evaluate(X_train, y_train)\n",
        "print(\"Restored model train, accuracy: {:5.2f}%\".format(100*acc))"
      ],
      "metadata": {
        "id": "fJDTGH_OUX0z",
        "colab": {
          "base_uri": "https://localhost:8080/"
        },
        "outputId": "defa2f54-d650-449e-fd18-a1d6e7fcca82"
      },
      "execution_count": 27,
      "outputs": [
        {
          "output_type": "stream",
          "name": "stdout",
          "text": [
            "52/52 [==============================] - 0s 4ms/step - loss: 0.0690 - accuracy: 0.9921\n",
            "Restored model train, accuracy: 99.21%\n"
          ]
        }
      ]
    },
    {
      "cell_type": "code",
      "source": [
        "from sklearn.metrics import classification_report, confusion_matrix,accuracy_score\n",
        "import seaborn as sn\n",
        "\n",
        "print(classification_report(new_Ytest,abc))\n",
        "\n",
        "acc = float(accuracy_score(new_Ytest,abc))*100\n",
        "print(\"----accuracy score %s ----\" % acc)\n",
        "\n",
        "cm = confusion_matrix(new_Ytest,abc)\n",
        "#df_cm = pd.DataFrame(cm)\n",
        "class_names = ['neutral','calm', 'happy','sad','angry', 'fearful' ]\n",
        "df_cm = pd.DataFrame(cm, index=class_names, columns=class_names,)\n",
        "sn.heatmap(df_cm, annot=True, fmt='')\n",
        "plt.show()"
      ],
      "metadata": {
        "colab": {
          "base_uri": "https://localhost:8080/",
          "height": 508
        },
        "id": "SfSC3El94LZg",
        "outputId": "108595f3-530a-45d1-f645-742b7cbf9f98"
      },
      "execution_count": 28,
      "outputs": [
        {
          "output_type": "stream",
          "name": "stdout",
          "text": [
            "              precision    recall  f1-score   support\n",
            "\n",
            "           0       0.52      0.67      0.59        18\n",
            "           1       0.83      0.93      0.87        41\n",
            "           2       0.93      0.84      0.88        45\n",
            "           3       0.87      0.84      0.85        31\n",
            "           4       0.91      0.94      0.93        33\n",
            "           5       0.94      0.79      0.86        39\n",
            "\n",
            "    accuracy                           0.85       207\n",
            "   macro avg       0.83      0.84      0.83       207\n",
            "weighted avg       0.86      0.85      0.85       207\n",
            "\n",
            "----accuracy score 85.02415458937197 ----\n"
          ]
        },
        {
          "output_type": "display_data",
          "data": {
            "text/plain": [
              "<Figure size 432x288 with 2 Axes>"
            ],
            "image/png": "[encoded data removed]"
          },
          "metadata": {
            "needs_background": "light"
          }
        }
      ]
    }
  ]
}