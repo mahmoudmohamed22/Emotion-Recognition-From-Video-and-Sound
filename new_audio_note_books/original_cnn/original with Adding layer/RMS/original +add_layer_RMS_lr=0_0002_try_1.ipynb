{
  "nbformat": 4,
  "nbformat_minor": 0,
  "metadata": {
    "colab": {
      "name": "original add layer RMS lr=0.0002 try 1.ipynb",
      "provenance": [],
      "collapsed_sections": []
    },
    "kernelspec": {
      "name": "python3",
      "display_name": "Python 3"
    },
    "language_info": {
      "name": "python"
    },
    "accelerator": "GPU"
  },
  "cells": [
    {
      "cell_type": "code",
      "execution_count": 1,
      "metadata": {
        "colab": {
          "base_uri": "https://localhost:8080/"
        },
        "id": "9SRCO-a_AlH5",
        "outputId": "855b2ea5-6dc2-4967-b749-207667465a52"
      },
      "outputs": [
        {
          "output_type": "stream",
          "name": "stdout",
          "text": [
            "Drive already mounted at /content/drive; to attempt to forcibly remount, call drive.mount(\"/content/drive\", force_remount=True).\n"
          ]
        }
      ],
      "source": [
        "from google.colab import drive\n",
        "drive.mount('/content/drive')"
      ]
    },
    {
      "cell_type": "code",
      "source": [
        "!pip install librosa"
      ],
      "metadata": {
        "colab": {
          "base_uri": "https://localhost:8080/"
        },
        "id": "5Lo4mUwG9RMd",
        "outputId": "bd16bb47-f243-4b30-a869-47ea0c0ade0a"
      },
      "execution_count": 2,
      "outputs": [
        {
          "output_type": "stream",
          "name": "stdout",
          "text": [
            "Looking in indexes: https://pypi.org/simple, https://us-python.pkg.dev/colab-wheels/public/simple/\n",
            "Requirement already satisfied: librosa in /usr/local/lib/python3.7/dist-packages (0.8.1)\n",
            "Requirement already satisfied: numpy>=1.15.0 in /usr/local/lib/python3.7/dist-packages (from librosa) (1.21.6)\n",
            "Requirement already satisfied: soundfile>=0.10.2 in /usr/local/lib/python3.7/dist-packages (from librosa) (0.10.3.post1)\n",
            "Requirement already satisfied: packaging>=20.0 in /usr/local/lib/python3.7/dist-packages (from librosa) (21.3)\n",
            "Requirement already satisfied: decorator>=3.0.0 in /usr/local/lib/python3.7/dist-packages (from librosa) (4.4.2)\n",
            "Requirement already satisfied: joblib>=0.14 in /usr/local/lib/python3.7/dist-packages (from librosa) (1.1.0)\n",
            "Requirement already satisfied: audioread>=2.0.0 in /usr/local/lib/python3.7/dist-packages (from librosa) (2.1.9)\n",
            "Requirement already satisfied: scipy>=1.0.0 in /usr/local/lib/python3.7/dist-packages (from librosa) (1.4.1)\n",
            "Requirement already satisfied: numba>=0.43.0 in /usr/local/lib/python3.7/dist-packages (from librosa) (0.51.2)\n",
            "Requirement already satisfied: resampy>=0.2.2 in /usr/local/lib/python3.7/dist-packages (from librosa) (0.2.2)\n",
            "Requirement already satisfied: pooch>=1.0 in /usr/local/lib/python3.7/dist-packages (from librosa) (1.6.0)\n",
            "Requirement already satisfied: scikit-learn!=0.19.0,>=0.14.0 in /usr/local/lib/python3.7/dist-packages (from librosa) (1.0.2)\n",
            "Requirement already satisfied: setuptools in /usr/local/lib/python3.7/dist-packages (from numba>=0.43.0->librosa) (57.4.0)\n",
            "Requirement already satisfied: llvmlite<0.35,>=0.34.0.dev0 in /usr/local/lib/python3.7/dist-packages (from numba>=0.43.0->librosa) (0.34.0)\n",
            "Requirement already satisfied: pyparsing!=3.0.5,>=2.0.2 in /usr/local/lib/python3.7/dist-packages (from packaging>=20.0->librosa) (3.0.9)\n",
            "Requirement already satisfied: appdirs>=1.3.0 in /usr/local/lib/python3.7/dist-packages (from pooch>=1.0->librosa) (1.4.4)\n",
            "Requirement already satisfied: requests>=2.19.0 in /usr/local/lib/python3.7/dist-packages (from pooch>=1.0->librosa) (2.23.0)\n",
            "Requirement already satisfied: chardet<4,>=3.0.2 in /usr/local/lib/python3.7/dist-packages (from requests>=2.19.0->pooch>=1.0->librosa) (3.0.4)\n",
            "Requirement already satisfied: idna<3,>=2.5 in /usr/local/lib/python3.7/dist-packages (from requests>=2.19.0->pooch>=1.0->librosa) (2.10)\n",
            "Requirement already satisfied: certifi>=2017.4.17 in /usr/local/lib/python3.7/dist-packages (from requests>=2.19.0->pooch>=1.0->librosa) (2022.5.18.1)\n",
            "Requirement already satisfied: urllib3!=1.25.0,!=1.25.1,<1.26,>=1.21.1 in /usr/local/lib/python3.7/dist-packages (from requests>=2.19.0->pooch>=1.0->librosa) (1.24.3)\n",
            "Requirement already satisfied: six>=1.3 in /usr/local/lib/python3.7/dist-packages (from resampy>=0.2.2->librosa) (1.15.0)\n",
            "Requirement already satisfied: threadpoolctl>=2.0.0 in /usr/local/lib/python3.7/dist-packages (from scikit-learn!=0.19.0,>=0.14.0->librosa) (3.1.0)\n",
            "Requirement already satisfied: cffi>=1.0 in /usr/local/lib/python3.7/dist-packages (from soundfile>=0.10.2->librosa) (1.15.0)\n",
            "Requirement already satisfied: pycparser in /usr/local/lib/python3.7/dist-packages (from cffi>=1.0->soundfile>=0.10.2->librosa) (2.21)\n"
          ]
        }
      ]
    },
    {
      "cell_type": "code",
      "metadata": {
        "id": "HJjcbxwy46bG",
        "colab": {
          "base_uri": "https://localhost:8080/",
          "height": 17
        },
        "outputId": "3ec52478-f55c-4a5b-a776-12f095d9da5e"
      },
      "source": [
        "# Orignial Notebook: https://github.com/MITESHPUTHRANNEU/Speech-Emotion-Analyzer/blob/master/final_results_gender_test.ipynb\n",
        "# This notebook author: Reza Chu\n",
        "# Last Editing Date: 31st May 2019\n",
        "\n",
        "## Python\n",
        "import os\n",
        "import random\n",
        "import sys\n",
        "\n",
        "import IPython\n",
        "from IPython.display import Audio\n",
        "from IPython.display import Image\n",
        "import matplotlib.pyplot as plt\n",
        "\n",
        "## Package\n",
        "import glob \n",
        "import keras\n",
        "import IPython.display as ipd\n",
        "import librosa\n",
        "import librosa.display\n",
        "import matplotlib.pyplot as plt\n",
        "import numpy as np\n",
        "import pandas as pd\n",
        "import plotly.graph_objs as go\n",
        "import plotly.offline as py\n",
        "import plotly.tools as tls\n",
        "import seaborn as sns\n",
        "import scipy.io.wavfile\n",
        "import tensorflow as tf\n",
        "py.init_notebook_mode(connected=True)\n",
        "\n",
        "## Keras\n",
        "from keras import regularizers\n",
        "from keras.callbacks import ModelCheckpoint, LearningRateScheduler, EarlyStopping\n",
        "from keras.callbacks import  History, ReduceLROnPlateau, CSVLogger\n",
        "from keras.models import Model, Sequential\n",
        "from keras.layers import Dense, Embedding, LSTM\n",
        "from keras.layers import Input, Flatten, Dropout, Activation, BatchNormalization\n",
        "from keras.layers import Conv1D, MaxPooling1D, AveragePooling1D\n",
        "from keras.preprocessing import sequence\n",
        "from keras.preprocessing.sequence import pad_sequences\n",
        "from keras.preprocessing.text import Tokenizer\n",
        "from keras.utils import np_utils\n",
        "from tensorflow.keras.utils import to_categorical\n",
        "\n",
        "## Sklearn\n",
        "from sklearn.metrics import confusion_matrix\n",
        "from sklearn.preprocessing import LabelEncoder\n",
        "\n",
        "## Rest\n",
        "from scipy.fftpack import fft\n",
        "from scipy import signal\n",
        "from scipy.io import wavfile\n",
        "from tqdm import tqdm\n",
        "\n",
        "input_duration=3\n",
        "# % pylab inline"
      ],
      "execution_count": 3,
      "outputs": [
        {
          "output_type": "display_data",
          "data": {
            "text/html": [
              "        <script type=\"text/javascript\">\n",
              "        window.PlotlyConfig = {MathJaxConfig: 'local'};\n",
              "        if (window.MathJax) {MathJax.Hub.Config({SVG: {font: \"STIX-Web\"}});}\n",
              "        if (typeof require !== 'undefined') {\n",
              "        require.undef(\"plotly\");\n",
              "        requirejs.config({\n",
              "            paths: {\n",
              "                'plotly': ['https://cdn.plot.ly/plotly-2.8.3.min']\n",
              "            }\n",
              "        });\n",
              "        require(['plotly'], function(Plotly) {\n",
              "            window._Plotly = Plotly;\n",
              "        });\n",
              "        }\n",
              "        </script>\n",
              "        "
            ]
          },
          "metadata": {}
        }
      ]
    },
    {
      "cell_type": "code",
      "source": [
        "# # Saving joblib files to not load them again with the loop above\n",
        "\n",
        "# import joblib\n",
        "\n",
        "# X_name = 'x.joblib'\n",
        "# y_name = 'y.joblib'\n",
        "# save_dir = '/content/drive/My Drive/graduation project/audio/paper_code/features'\n",
        "\n",
        "# savedX = joblib.dump(X, os.path.join(save_dir, X_name))\n",
        "# savedy = joblib.dump(y, os.path.join(save_dir, y_name))"
      ],
      "metadata": {
        "id": "UCzic8rlDcuk"
      },
      "execution_count": 4,
      "outputs": []
    },
    {
      "cell_type": "code",
      "source": [
        "# # Loading saved models\n",
        "import joblib\n",
        "X = joblib.load('/content/drive/My Drive/graduation project/audio/paper_code/features/x.joblib')\n",
        "y = joblib.load('/content/drive/My Drive/graduation project/audio/paper_code/features/y.joblib')"
      ],
      "metadata": {
        "id": "Q35CN6zDrzg1"
      },
      "execution_count": 5,
      "outputs": []
    },
    {
      "cell_type": "code",
      "source": [
        "X.shape"
      ],
      "metadata": {
        "colab": {
          "base_uri": "https://localhost:8080/"
        },
        "id": "7PSTurzjCo5K",
        "outputId": "321e56fc-2e99-48f3-ce2a-750867333308"
      },
      "execution_count": 6,
      "outputs": [
        {
          "output_type": "execute_result",
          "data": {
            "text/plain": [
              "(2068, 40)"
            ]
          },
          "metadata": {},
          "execution_count": 6
        }
      ]
    },
    {
      "cell_type": "code",
      "source": [
        "from sklearn.model_selection import train_test_split\n",
        "\n",
        "X_train, X_test, y_train, y_test = train_test_split(X,y, test_size=0.1 ,shuffle = True\n",
        "                                                    , random_state=42)\n",
        "X_train , X_valid, y_train, y_valid = train_test_split(X_train,y_train, test_size=0.1112305212 , shuffle = True \n",
        "                                                       , random_state=42)"
      ],
      "metadata": {
        "id": "Ai4Fy5cPCiq1"
      },
      "execution_count": 7,
      "outputs": []
    },
    {
      "cell_type": "code",
      "source": [
        "import numpy as np\n",
        "x_traincnn = np.expand_dims(X_train, axis=2)\n",
        "x_testcnn = np.expand_dims(X_test, axis=2)\n",
        "X_valid= np.expand_dims(X_valid, axis=2)"
      ],
      "metadata": {
        "id": "tp1Fm5K3CEXu"
      },
      "execution_count": 8,
      "outputs": []
    },
    {
      "cell_type": "code",
      "source": [
        "x_traincnn.shape, x_testcnn.shape , X_valid.shape\n",
        "#1861"
      ],
      "metadata": {
        "id": "RI0MxoIPBws5",
        "colab": {
          "base_uri": "https://localhost:8080/"
        },
        "outputId": "0ffdb39b-df4e-4335-8951-4d0037170b0c"
      },
      "execution_count": 9,
      "outputs": [
        {
          "output_type": "execute_result",
          "data": {
            "text/plain": [
              "((1654, 40, 1), (207, 40, 1), (207, 40, 1))"
            ]
          },
          "metadata": {},
          "execution_count": 9
        }
      ]
    },
    {
      "cell_type": "code",
      "source": [
        "!pip install tensorflow"
      ],
      "metadata": {
        "colab": {
          "base_uri": "https://localhost:8080/"
        },
        "id": "oALhiMUd9G2Y",
        "outputId": "1594e894-451e-4225-b796-0ab9909d5ae6"
      },
      "execution_count": 10,
      "outputs": [
        {
          "output_type": "stream",
          "name": "stdout",
          "text": [
            "Looking in indexes: https://pypi.org/simple, https://us-python.pkg.dev/colab-wheels/public/simple/\n",
            "Requirement already satisfied: tensorflow in /usr/local/lib/python3.7/dist-packages (2.8.2+zzzcolab20220527125636)\n",
            "Requirement already satisfied: opt-einsum>=2.3.2 in /usr/local/lib/python3.7/dist-packages (from tensorflow) (3.3.0)\n",
            "Requirement already satisfied: protobuf<3.20,>=3.9.2 in /usr/local/lib/python3.7/dist-packages (from tensorflow) (3.17.3)\n",
            "Requirement already satisfied: setuptools in /usr/local/lib/python3.7/dist-packages (from tensorflow) (57.4.0)\n",
            "Requirement already satisfied: numpy>=1.20 in /usr/local/lib/python3.7/dist-packages (from tensorflow) (1.21.6)\n",
            "Requirement already satisfied: tensorflow-io-gcs-filesystem>=0.23.1 in /usr/local/lib/python3.7/dist-packages (from tensorflow) (0.26.0)\n",
            "Requirement already satisfied: termcolor>=1.1.0 in /usr/local/lib/python3.7/dist-packages (from tensorflow) (1.1.0)\n",
            "Requirement already satisfied: tensorboard<2.9,>=2.8 in /usr/local/lib/python3.7/dist-packages (from tensorflow) (2.8.0)\n",
            "Requirement already satisfied: gast>=0.2.1 in /usr/local/lib/python3.7/dist-packages (from tensorflow) (0.5.3)\n",
            "Requirement already satisfied: grpcio<2.0,>=1.24.3 in /usr/local/lib/python3.7/dist-packages (from tensorflow) (1.46.3)\n",
            "Requirement already satisfied: typing-extensions>=3.6.6 in /usr/local/lib/python3.7/dist-packages (from tensorflow) (4.2.0)\n",
            "Requirement already satisfied: astunparse>=1.6.0 in /usr/local/lib/python3.7/dist-packages (from tensorflow) (1.6.3)\n",
            "Requirement already satisfied: wrapt>=1.11.0 in /usr/local/lib/python3.7/dist-packages (from tensorflow) (1.14.1)\n",
            "Requirement already satisfied: keras-preprocessing>=1.1.1 in /usr/local/lib/python3.7/dist-packages (from tensorflow) (1.1.2)\n",
            "Requirement already satisfied: absl-py>=0.4.0 in /usr/local/lib/python3.7/dist-packages (from tensorflow) (1.0.0)\n",
            "Requirement already satisfied: keras<2.9,>=2.8.0rc0 in /usr/local/lib/python3.7/dist-packages (from tensorflow) (2.8.0)\n",
            "Requirement already satisfied: flatbuffers>=1.12 in /usr/local/lib/python3.7/dist-packages (from tensorflow) (2.0)\n",
            "Requirement already satisfied: six>=1.12.0 in /usr/local/lib/python3.7/dist-packages (from tensorflow) (1.15.0)\n",
            "Requirement already satisfied: h5py>=2.9.0 in /usr/local/lib/python3.7/dist-packages (from tensorflow) (3.1.0)\n",
            "Requirement already satisfied: google-pasta>=0.1.1 in /usr/local/lib/python3.7/dist-packages (from tensorflow) (0.2.0)\n",
            "Requirement already satisfied: tensorflow-estimator<2.9,>=2.8 in /usr/local/lib/python3.7/dist-packages (from tensorflow) (2.8.0)\n",
            "Requirement already satisfied: libclang>=9.0.1 in /usr/local/lib/python3.7/dist-packages (from tensorflow) (14.0.1)\n",
            "Requirement already satisfied: wheel<1.0,>=0.23.0 in /usr/local/lib/python3.7/dist-packages (from astunparse>=1.6.0->tensorflow) (0.37.1)\n",
            "Requirement already satisfied: cached-property in /usr/local/lib/python3.7/dist-packages (from h5py>=2.9.0->tensorflow) (1.5.2)\n",
            "Requirement already satisfied: requests<3,>=2.21.0 in /usr/local/lib/python3.7/dist-packages (from tensorboard<2.9,>=2.8->tensorflow) (2.23.0)\n",
            "Requirement already satisfied: werkzeug>=0.11.15 in /usr/local/lib/python3.7/dist-packages (from tensorboard<2.9,>=2.8->tensorflow) (1.0.1)\n",
            "Requirement already satisfied: google-auth<3,>=1.6.3 in /usr/local/lib/python3.7/dist-packages (from tensorboard<2.9,>=2.8->tensorflow) (1.35.0)\n",
            "Requirement already satisfied: tensorboard-plugin-wit>=1.6.0 in /usr/local/lib/python3.7/dist-packages (from tensorboard<2.9,>=2.8->tensorflow) (1.8.1)\n",
            "Requirement already satisfied: markdown>=2.6.8 in /usr/local/lib/python3.7/dist-packages (from tensorboard<2.9,>=2.8->tensorflow) (3.3.7)\n",
            "Requirement already satisfied: tensorboard-data-server<0.7.0,>=0.6.0 in /usr/local/lib/python3.7/dist-packages (from tensorboard<2.9,>=2.8->tensorflow) (0.6.1)\n",
            "Requirement already satisfied: google-auth-oauthlib<0.5,>=0.4.1 in /usr/local/lib/python3.7/dist-packages (from tensorboard<2.9,>=2.8->tensorflow) (0.4.6)\n",
            "Requirement already satisfied: rsa<5,>=3.1.4 in /usr/local/lib/python3.7/dist-packages (from google-auth<3,>=1.6.3->tensorboard<2.9,>=2.8->tensorflow) (4.8)\n",
            "Requirement already satisfied: pyasn1-modules>=0.2.1 in /usr/local/lib/python3.7/dist-packages (from google-auth<3,>=1.6.3->tensorboard<2.9,>=2.8->tensorflow) (0.2.8)\n",
            "Requirement already satisfied: cachetools<5.0,>=2.0.0 in /usr/local/lib/python3.7/dist-packages (from google-auth<3,>=1.6.3->tensorboard<2.9,>=2.8->tensorflow) (4.2.4)\n",
            "Requirement already satisfied: requests-oauthlib>=0.7.0 in /usr/local/lib/python3.7/dist-packages (from google-auth-oauthlib<0.5,>=0.4.1->tensorboard<2.9,>=2.8->tensorflow) (1.3.1)\n",
            "Requirement already satisfied: importlib-metadata>=4.4 in /usr/local/lib/python3.7/dist-packages (from markdown>=2.6.8->tensorboard<2.9,>=2.8->tensorflow) (4.11.4)\n",
            "Requirement already satisfied: zipp>=0.5 in /usr/local/lib/python3.7/dist-packages (from importlib-metadata>=4.4->markdown>=2.6.8->tensorboard<2.9,>=2.8->tensorflow) (3.8.0)\n",
            "Requirement already satisfied: pyasn1<0.5.0,>=0.4.6 in /usr/local/lib/python3.7/dist-packages (from pyasn1-modules>=0.2.1->google-auth<3,>=1.6.3->tensorboard<2.9,>=2.8->tensorflow) (0.4.8)\n",
            "Requirement already satisfied: urllib3!=1.25.0,!=1.25.1,<1.26,>=1.21.1 in /usr/local/lib/python3.7/dist-packages (from requests<3,>=2.21.0->tensorboard<2.9,>=2.8->tensorflow) (1.24.3)\n",
            "Requirement already satisfied: chardet<4,>=3.0.2 in /usr/local/lib/python3.7/dist-packages (from requests<3,>=2.21.0->tensorboard<2.9,>=2.8->tensorflow) (3.0.4)\n",
            "Requirement already satisfied: idna<3,>=2.5 in /usr/local/lib/python3.7/dist-packages (from requests<3,>=2.21.0->tensorboard<2.9,>=2.8->tensorflow) (2.10)\n",
            "Requirement already satisfied: certifi>=2017.4.17 in /usr/local/lib/python3.7/dist-packages (from requests<3,>=2.21.0->tensorboard<2.9,>=2.8->tensorflow) (2022.5.18.1)\n",
            "Requirement already satisfied: oauthlib>=3.0.0 in /usr/local/lib/python3.7/dist-packages (from requests-oauthlib>=0.7.0->google-auth-oauthlib<0.5,>=0.4.1->tensorboard<2.9,>=2.8->tensorflow) (3.2.0)\n"
          ]
        }
      ]
    },
    {
      "cell_type": "code",
      "source": [
        "import keras\n",
        "import numpy as np\n",
        "import matplotlib.pyplot as plt\n",
        "import tensorflow as tf\n",
        "from keras.preprocessing import sequence\n",
        "from keras.models import Sequential\n",
        "from keras.layers import Dense, Embedding\n",
        "from tensorflow.keras.utils import to_categorical\n",
        "from keras.layers import Input, Flatten, Dropout, Activation\n",
        "from keras.layers import Conv1D, MaxPooling1D\n",
        "from keras.models import Model\n",
        "from keras.callbacks import ModelCheckpoint\n",
        "from tensorflow.keras import optimizers\n",
        "\n",
        "model = Sequential()\n",
        "\n",
        "model.add(Conv1D(128, 8,padding='same', #classifier.add(Convolution2D(64, (3, 3), padding = 'same', input_shape = (128, 128, 3), activation = 'relu'))\n",
        "                 input_shape=(40,1)))\n",
        "model.add(Activation('relu'))\n",
        "model.add(Dropout(0.3))\n",
        "model.add(MaxPooling1D(pool_size=(5)))\n",
        "\n",
        "\n",
        "model.add(Conv1D(256,8,padding='same',))\n",
        "model.add(Activation('relu'))\n",
        "model.add(Dropout(0.3))\n",
        "model.add(MaxPooling1D(pool_size=(5)))\n",
        "\n",
        "model.add(Conv1D(256,8,padding='same',))\n",
        "model.add(Activation('relu'))\n",
        "model.add(Dropout(0.3))\n",
        "#model.add(MaxPooling1D(pool_size=(5)))\n",
        "\n",
        "model.add(Flatten())\n",
        "\n",
        "model.add(Dense(256))\n",
        "model.add(Activation('relu'))\n",
        "model.add(Dense(256))\n",
        "model.add(Activation('relu'))\n",
        "\n",
        "model.add(Dense(6))\n",
        "model.add(Activation('softmax'))\n",
        "\n",
        "\n",
        "opt = tf.keras.optimizers.RMSprop(lr=0.0002 , decay=0.0)\n",
        "#opt = tf.keras.optimizers.Adam(lr=0.0002 , decay=0.0)\n",
        "#opt = tf.keras.optimizers.RMSprop(lr=0.0001, rho=0.9, epsilon=1e-07, decay=0.0)\n",
        "#opt = tf.keras.optimizers.SGD(lr=0.001, momentum=0.0, decay=0.0, nesterov=False)"
      ],
      "metadata": {
        "id": "g74fXWVAC4Cr",
        "colab": {
          "base_uri": "https://localhost:8080/"
        },
        "outputId": "27b0e2ac-4045-4a9a-a21c-12afbd1938cd"
      },
      "execution_count": 11,
      "outputs": [
        {
          "output_type": "stream",
          "name": "stderr",
          "text": [
            "/usr/local/lib/python3.7/dist-packages/keras/optimizer_v2/rmsprop.py:130: UserWarning:\n",
            "\n",
            "The `lr` argument is deprecated, use `learning_rate` instead.\n",
            "\n"
          ]
        }
      ]
    },
    {
      "cell_type": "code",
      "source": [
        "model.summary()"
      ],
      "metadata": {
        "colab": {
          "base_uri": "https://localhost:8080/"
        },
        "id": "H6ukOxAGC_I4",
        "outputId": "61c2ae0d-eb63-47a1-c8d9-6102de93477b"
      },
      "execution_count": 12,
      "outputs": [
        {
          "output_type": "stream",
          "name": "stdout",
          "text": [
            "Model: \"sequential\"\n",
            "_________________________________________________________________\n",
            " Layer (type)                Output Shape              Param #   \n",
            "=================================================================\n",
            " conv1d (Conv1D)             (None, 40, 128)           1152      \n",
            "                                                                 \n",
            " activation (Activation)     (None, 40, 128)           0         \n",
            "                                                                 \n",
            " dropout (Dropout)           (None, 40, 128)           0         \n",
            "                                                                 \n",
            " max_pooling1d (MaxPooling1D  (None, 8, 128)           0         \n",
            " )                                                               \n",
            "                                                                 \n",
            " conv1d_1 (Conv1D)           (None, 8, 256)            262400    \n",
            "                                                                 \n",
            " activation_1 (Activation)   (None, 8, 256)            0         \n",
            "                                                                 \n",
            " dropout_1 (Dropout)         (None, 8, 256)            0         \n",
            "                                                                 \n",
            " max_pooling1d_1 (MaxPooling  (None, 1, 256)           0         \n",
            " 1D)                                                             \n",
            "                                                                 \n",
            " conv1d_2 (Conv1D)           (None, 1, 256)            524544    \n",
            "                                                                 \n",
            " activation_2 (Activation)   (None, 1, 256)            0         \n",
            "                                                                 \n",
            " dropout_2 (Dropout)         (None, 1, 256)            0         \n",
            "                                                                 \n",
            " flatten (Flatten)           (None, 256)               0         \n",
            "                                                                 \n",
            " dense (Dense)               (None, 256)               65792     \n",
            "                                                                 \n",
            " activation_3 (Activation)   (None, 256)               0         \n",
            "                                                                 \n",
            " dense_1 (Dense)             (None, 256)               65792     \n",
            "                                                                 \n",
            " activation_4 (Activation)   (None, 256)               0         \n",
            "                                                                 \n",
            " dense_2 (Dense)             (None, 6)                 1542      \n",
            "                                                                 \n",
            " activation_5 (Activation)   (None, 6)                 0         \n",
            "                                                                 \n",
            "=================================================================\n",
            "Total params: 921,222\n",
            "Trainable params: 921,222\n",
            "Non-trainable params: 0\n",
            "_________________________________________________________________\n"
          ]
        }
      ]
    },
    {
      "cell_type": "code",
      "source": [
        "model.compile(loss='sparse_categorical_crossentropy',\n",
        "              optimizer=opt,\n",
        "              metrics=['accuracy'])"
      ],
      "metadata": {
        "id": "AbMlLNk4DCBM"
      },
      "execution_count": 13,
      "outputs": []
    },
    {
      "cell_type": "code",
      "source": [
        "# Create an Instance of Early Stopping Callback.\n",
        "early_stopping_callback = EarlyStopping(monitor = 'val_loss', patience = 25, mode = 'min', restore_best_weights = True)\n",
        "\n",
        "cnnhistory=model.fit(x_traincnn, y_train, batch_size=16, epochs=500 , shuffle = True, \n",
        "                     validation_data=(X_valid, y_valid) , callbacks = [early_stopping_callback])"
      ],
      "metadata": {
        "colab": {
          "base_uri": "https://localhost:8080/"
        },
        "id": "RI1v2AuADFhy",
        "outputId": "9cd63b69-ee9d-47d3-ba70-72af4eb9e1b1"
      },
      "execution_count": 14,
      "outputs": [
        {
          "output_type": "stream",
          "name": "stdout",
          "text": [
            "Epoch 1/500\n",
            "104/104 [==============================] - 7s 19ms/step - loss: 2.2418 - accuracy: 0.1784 - val_loss: 1.8336 - val_accuracy: 0.1981\n",
            "Epoch 2/500\n",
            "104/104 [==============================] - 1s 11ms/step - loss: 1.9068 - accuracy: 0.1923 - val_loss: 1.7842 - val_accuracy: 0.2222\n",
            "Epoch 3/500\n",
            "104/104 [==============================] - 1s 10ms/step - loss: 1.8563 - accuracy: 0.1911 - val_loss: 1.7837 - val_accuracy: 0.1691\n",
            "Epoch 4/500\n",
            "104/104 [==============================] - 1s 10ms/step - loss: 1.8214 - accuracy: 0.2025 - val_loss: 1.7605 - val_accuracy: 0.2367\n",
            "Epoch 5/500\n",
            "104/104 [==============================] - 1s 9ms/step - loss: 1.8116 - accuracy: 0.1904 - val_loss: 1.7871 - val_accuracy: 0.1932\n",
            "Epoch 6/500\n",
            "104/104 [==============================] - 1s 10ms/step - loss: 1.7825 - accuracy: 0.2164 - val_loss: 1.7330 - val_accuracy: 0.2560\n",
            "Epoch 7/500\n",
            "104/104 [==============================] - 1s 9ms/step - loss: 1.7707 - accuracy: 0.2237 - val_loss: 1.7500 - val_accuracy: 0.2077\n",
            "Epoch 8/500\n",
            "104/104 [==============================] - 1s 11ms/step - loss: 1.7411 - accuracy: 0.2322 - val_loss: 1.7590 - val_accuracy: 0.1739\n",
            "Epoch 9/500\n",
            "104/104 [==============================] - 1s 11ms/step - loss: 1.7314 - accuracy: 0.2285 - val_loss: 1.7317 - val_accuracy: 0.2367\n",
            "Epoch 10/500\n",
            "104/104 [==============================] - 1s 11ms/step - loss: 1.6959 - accuracy: 0.2515 - val_loss: 1.6861 - val_accuracy: 0.3043\n",
            "Epoch 11/500\n",
            "104/104 [==============================] - 1s 10ms/step - loss: 1.6887 - accuracy: 0.2642 - val_loss: 1.6911 - val_accuracy: 0.2899\n",
            "Epoch 12/500\n",
            "104/104 [==============================] - 1s 9ms/step - loss: 1.6740 - accuracy: 0.2648 - val_loss: 1.6638 - val_accuracy: 0.3913\n",
            "Epoch 13/500\n",
            "104/104 [==============================] - 1s 12ms/step - loss: 1.6520 - accuracy: 0.2908 - val_loss: 1.6438 - val_accuracy: 0.2947\n",
            "Epoch 14/500\n",
            "104/104 [==============================] - 1s 10ms/step - loss: 1.6304 - accuracy: 0.2932 - val_loss: 1.6072 - val_accuracy: 0.3720\n",
            "Epoch 15/500\n",
            "104/104 [==============================] - 1s 10ms/step - loss: 1.6055 - accuracy: 0.3029 - val_loss: 1.5945 - val_accuracy: 0.3333\n",
            "Epoch 16/500\n",
            "104/104 [==============================] - 1s 10ms/step - loss: 1.5938 - accuracy: 0.2999 - val_loss: 1.5809 - val_accuracy: 0.3237\n",
            "Epoch 17/500\n",
            "104/104 [==============================] - 1s 11ms/step - loss: 1.5667 - accuracy: 0.3337 - val_loss: 1.5891 - val_accuracy: 0.3768\n",
            "Epoch 18/500\n",
            "104/104 [==============================] - 1s 11ms/step - loss: 1.5578 - accuracy: 0.3392 - val_loss: 1.5611 - val_accuracy: 0.3333\n",
            "Epoch 19/500\n",
            "104/104 [==============================] - 1s 10ms/step - loss: 1.5304 - accuracy: 0.3549 - val_loss: 1.5437 - val_accuracy: 0.3382\n",
            "Epoch 20/500\n",
            "104/104 [==============================] - 1s 9ms/step - loss: 1.5235 - accuracy: 0.3452 - val_loss: 1.5636 - val_accuracy: 0.3043\n",
            "Epoch 21/500\n",
            "104/104 [==============================] - 1s 10ms/step - loss: 1.5075 - accuracy: 0.3609 - val_loss: 1.4858 - val_accuracy: 0.4155\n",
            "Epoch 22/500\n",
            "104/104 [==============================] - 1s 9ms/step - loss: 1.4653 - accuracy: 0.3779 - val_loss: 1.4791 - val_accuracy: 0.3961\n",
            "Epoch 23/500\n",
            "104/104 [==============================] - 1s 6ms/step - loss: 1.4570 - accuracy: 0.3827 - val_loss: 1.4916 - val_accuracy: 0.4348\n",
            "Epoch 24/500\n",
            "104/104 [==============================] - 1s 6ms/step - loss: 1.4243 - accuracy: 0.4057 - val_loss: 1.4002 - val_accuracy: 0.4444\n",
            "Epoch 25/500\n",
            "104/104 [==============================] - 1s 6ms/step - loss: 1.3851 - accuracy: 0.4311 - val_loss: 1.3533 - val_accuracy: 0.4396\n",
            "Epoch 26/500\n",
            "104/104 [==============================] - 1s 6ms/step - loss: 1.3807 - accuracy: 0.4166 - val_loss: 1.4439 - val_accuracy: 0.3430\n",
            "Epoch 27/500\n",
            "104/104 [==============================] - 1s 6ms/step - loss: 1.3783 - accuracy: 0.4154 - val_loss: 1.3271 - val_accuracy: 0.4831\n",
            "Epoch 28/500\n",
            "104/104 [==============================] - 1s 5ms/step - loss: 1.3594 - accuracy: 0.4541 - val_loss: 1.3569 - val_accuracy: 0.4106\n",
            "Epoch 29/500\n",
            "104/104 [==============================] - 1s 6ms/step - loss: 1.3163 - accuracy: 0.4595 - val_loss: 1.3007 - val_accuracy: 0.4251\n",
            "Epoch 30/500\n",
            "104/104 [==============================] - 1s 6ms/step - loss: 1.3129 - accuracy: 0.4559 - val_loss: 1.3493 - val_accuracy: 0.4686\n",
            "Epoch 31/500\n",
            "104/104 [==============================] - 1s 6ms/step - loss: 1.2659 - accuracy: 0.4637 - val_loss: 1.2647 - val_accuracy: 0.4589\n",
            "Epoch 32/500\n",
            "104/104 [==============================] - 1s 6ms/step - loss: 1.2680 - accuracy: 0.4680 - val_loss: 1.2133 - val_accuracy: 0.5072\n",
            "Epoch 33/500\n",
            "104/104 [==============================] - 1s 6ms/step - loss: 1.2317 - accuracy: 0.4819 - val_loss: 1.2640 - val_accuracy: 0.4396\n",
            "Epoch 34/500\n",
            "104/104 [==============================] - 1s 6ms/step - loss: 1.2172 - accuracy: 0.5006 - val_loss: 1.3289 - val_accuracy: 0.4058\n",
            "Epoch 35/500\n",
            "104/104 [==============================] - 1s 6ms/step - loss: 1.2323 - accuracy: 0.5018 - val_loss: 1.1916 - val_accuracy: 0.5121\n",
            "Epoch 36/500\n",
            "104/104 [==============================] - 1s 6ms/step - loss: 1.1951 - accuracy: 0.5151 - val_loss: 1.1829 - val_accuracy: 0.5411\n",
            "Epoch 37/500\n",
            "104/104 [==============================] - 1s 6ms/step - loss: 1.1472 - accuracy: 0.5236 - val_loss: 1.1818 - val_accuracy: 0.5652\n",
            "Epoch 38/500\n",
            "104/104 [==============================] - 1s 6ms/step - loss: 1.1528 - accuracy: 0.5193 - val_loss: 1.1749 - val_accuracy: 0.5024\n",
            "Epoch 39/500\n",
            "104/104 [==============================] - 1s 6ms/step - loss: 1.1029 - accuracy: 0.5532 - val_loss: 1.1711 - val_accuracy: 0.5507\n",
            "Epoch 40/500\n",
            "104/104 [==============================] - 1s 7ms/step - loss: 1.1086 - accuracy: 0.5472 - val_loss: 1.0785 - val_accuracy: 0.5459\n",
            "Epoch 41/500\n",
            "104/104 [==============================] - 1s 6ms/step - loss: 1.0912 - accuracy: 0.5447 - val_loss: 1.1519 - val_accuracy: 0.4831\n",
            "Epoch 42/500\n",
            "104/104 [==============================] - 1s 6ms/step - loss: 1.0751 - accuracy: 0.5635 - val_loss: 1.0844 - val_accuracy: 0.5411\n",
            "Epoch 43/500\n",
            "104/104 [==============================] - 1s 7ms/step - loss: 1.0761 - accuracy: 0.5508 - val_loss: 1.1195 - val_accuracy: 0.5314\n",
            "Epoch 44/500\n",
            "104/104 [==============================] - 1s 5ms/step - loss: 1.0830 - accuracy: 0.5514 - val_loss: 1.1186 - val_accuracy: 0.5266\n",
            "Epoch 45/500\n",
            "104/104 [==============================] - 1s 7ms/step - loss: 1.0553 - accuracy: 0.5768 - val_loss: 1.0499 - val_accuracy: 0.5942\n",
            "Epoch 46/500\n",
            "104/104 [==============================] - 1s 6ms/step - loss: 1.0432 - accuracy: 0.5689 - val_loss: 1.1052 - val_accuracy: 0.5314\n",
            "Epoch 47/500\n",
            "104/104 [==============================] - 1s 7ms/step - loss: 1.0039 - accuracy: 0.6004 - val_loss: 1.0543 - val_accuracy: 0.5604\n",
            "Epoch 48/500\n",
            "104/104 [==============================] - 1s 6ms/step - loss: 1.0088 - accuracy: 0.5889 - val_loss: 1.0300 - val_accuracy: 0.5894\n",
            "Epoch 49/500\n",
            "104/104 [==============================] - 1s 6ms/step - loss: 1.0095 - accuracy: 0.5859 - val_loss: 1.0188 - val_accuracy: 0.5845\n",
            "Epoch 50/500\n",
            "104/104 [==============================] - 1s 6ms/step - loss: 1.0070 - accuracy: 0.5877 - val_loss: 1.0234 - val_accuracy: 0.5845\n",
            "Epoch 51/500\n",
            "104/104 [==============================] - 1s 6ms/step - loss: 0.9749 - accuracy: 0.6082 - val_loss: 0.9729 - val_accuracy: 0.5942\n",
            "Epoch 52/500\n",
            "104/104 [==============================] - 1s 7ms/step - loss: 0.9578 - accuracy: 0.6155 - val_loss: 0.9715 - val_accuracy: 0.5942\n",
            "Epoch 53/500\n",
            "104/104 [==============================] - 1s 5ms/step - loss: 0.9601 - accuracy: 0.6046 - val_loss: 0.9644 - val_accuracy: 0.6087\n",
            "Epoch 54/500\n",
            "104/104 [==============================] - 1s 7ms/step - loss: 0.9188 - accuracy: 0.6324 - val_loss: 0.9787 - val_accuracy: 0.6908\n",
            "Epoch 55/500\n",
            "104/104 [==============================] - 1s 6ms/step - loss: 0.9414 - accuracy: 0.6239 - val_loss: 1.0304 - val_accuracy: 0.6039\n",
            "Epoch 56/500\n",
            "104/104 [==============================] - 1s 6ms/step - loss: 0.9356 - accuracy: 0.6070 - val_loss: 0.9423 - val_accuracy: 0.6473\n",
            "Epoch 57/500\n",
            "104/104 [==============================] - 1s 6ms/step - loss: 0.9268 - accuracy: 0.6300 - val_loss: 0.9282 - val_accuracy: 0.6329\n",
            "Epoch 58/500\n",
            "104/104 [==============================] - 1s 6ms/step - loss: 0.9291 - accuracy: 0.6282 - val_loss: 0.9314 - val_accuracy: 0.6377\n",
            "Epoch 59/500\n",
            "104/104 [==============================] - 1s 6ms/step - loss: 0.8919 - accuracy: 0.6457 - val_loss: 0.9473 - val_accuracy: 0.6135\n",
            "Epoch 60/500\n",
            "104/104 [==============================] - 1s 6ms/step - loss: 0.8798 - accuracy: 0.6644 - val_loss: 0.9027 - val_accuracy: 0.6957\n",
            "Epoch 61/500\n",
            "104/104 [==============================] - 1s 6ms/step - loss: 0.8626 - accuracy: 0.6572 - val_loss: 0.9475 - val_accuracy: 0.6184\n",
            "Epoch 62/500\n",
            "104/104 [==============================] - 1s 6ms/step - loss: 0.8646 - accuracy: 0.6524 - val_loss: 0.8908 - val_accuracy: 0.6425\n",
            "Epoch 63/500\n",
            "104/104 [==============================] - 1s 6ms/step - loss: 0.8770 - accuracy: 0.6524 - val_loss: 1.0008 - val_accuracy: 0.5942\n",
            "Epoch 64/500\n",
            "104/104 [==============================] - 1s 6ms/step - loss: 0.8355 - accuracy: 0.6614 - val_loss: 0.9110 - val_accuracy: 0.6570\n",
            "Epoch 65/500\n",
            "104/104 [==============================] - 1s 6ms/step - loss: 0.8465 - accuracy: 0.6669 - val_loss: 0.9106 - val_accuracy: 0.6522\n",
            "Epoch 66/500\n",
            "104/104 [==============================] - 1s 6ms/step - loss: 0.8278 - accuracy: 0.6784 - val_loss: 0.8616 - val_accuracy: 0.6329\n",
            "Epoch 67/500\n",
            "104/104 [==============================] - 1s 6ms/step - loss: 0.8795 - accuracy: 0.6536 - val_loss: 0.9137 - val_accuracy: 0.6184\n",
            "Epoch 68/500\n",
            "104/104 [==============================] - 1s 6ms/step - loss: 0.8295 - accuracy: 0.6838 - val_loss: 0.8462 - val_accuracy: 0.7101\n",
            "Epoch 69/500\n",
            "104/104 [==============================] - 1s 6ms/step - loss: 0.7914 - accuracy: 0.6862 - val_loss: 0.8804 - val_accuracy: 0.6329\n",
            "Epoch 70/500\n",
            "104/104 [==============================] - 1s 7ms/step - loss: 0.8172 - accuracy: 0.6687 - val_loss: 0.8659 - val_accuracy: 0.6522\n",
            "Epoch 71/500\n",
            "104/104 [==============================] - 1s 6ms/step - loss: 0.8115 - accuracy: 0.6663 - val_loss: 0.8389 - val_accuracy: 0.6570\n",
            "Epoch 72/500\n",
            "104/104 [==============================] - 1s 7ms/step - loss: 0.8017 - accuracy: 0.6784 - val_loss: 0.8331 - val_accuracy: 0.6473\n",
            "Epoch 73/500\n",
            "104/104 [==============================] - 1s 6ms/step - loss: 0.8143 - accuracy: 0.6886 - val_loss: 0.9922 - val_accuracy: 0.6087\n",
            "Epoch 74/500\n",
            "104/104 [==============================] - 1s 7ms/step - loss: 0.8040 - accuracy: 0.6814 - val_loss: 0.8503 - val_accuracy: 0.7005\n",
            "Epoch 75/500\n",
            "104/104 [==============================] - 1s 6ms/step - loss: 0.7727 - accuracy: 0.6935 - val_loss: 0.8319 - val_accuracy: 0.6232\n",
            "Epoch 76/500\n",
            "104/104 [==============================] - 1s 6ms/step - loss: 0.7880 - accuracy: 0.6874 - val_loss: 0.8326 - val_accuracy: 0.6667\n",
            "Epoch 77/500\n",
            "104/104 [==============================] - 1s 6ms/step - loss: 0.7830 - accuracy: 0.6898 - val_loss: 0.8258 - val_accuracy: 0.6812\n",
            "Epoch 78/500\n",
            "104/104 [==============================] - 1s 6ms/step - loss: 0.7593 - accuracy: 0.6977 - val_loss: 0.7948 - val_accuracy: 0.7246\n",
            "Epoch 79/500\n",
            "104/104 [==============================] - 1s 6ms/step - loss: 0.7445 - accuracy: 0.7056 - val_loss: 0.8142 - val_accuracy: 0.6667\n",
            "Epoch 80/500\n",
            "104/104 [==============================] - 1s 5ms/step - loss: 0.7578 - accuracy: 0.6995 - val_loss: 0.8158 - val_accuracy: 0.6473\n",
            "Epoch 81/500\n",
            "104/104 [==============================] - 1s 6ms/step - loss: 0.7257 - accuracy: 0.7146 - val_loss: 0.8298 - val_accuracy: 0.6522\n",
            "Epoch 82/500\n",
            "104/104 [==============================] - 1s 5ms/step - loss: 0.7428 - accuracy: 0.7050 - val_loss: 0.7534 - val_accuracy: 0.7246\n",
            "Epoch 83/500\n",
            "104/104 [==============================] - 1s 6ms/step - loss: 0.7327 - accuracy: 0.7110 - val_loss: 0.7962 - val_accuracy: 0.6860\n",
            "Epoch 84/500\n",
            "104/104 [==============================] - 1s 6ms/step - loss: 0.7305 - accuracy: 0.7267 - val_loss: 0.7949 - val_accuracy: 0.6908\n",
            "Epoch 85/500\n",
            "104/104 [==============================] - 1s 6ms/step - loss: 0.7414 - accuracy: 0.6989 - val_loss: 0.7765 - val_accuracy: 0.7101\n",
            "Epoch 86/500\n",
            "104/104 [==============================] - 1s 6ms/step - loss: 0.7153 - accuracy: 0.7249 - val_loss: 0.7846 - val_accuracy: 0.6860\n",
            "Epoch 87/500\n",
            "104/104 [==============================] - 1s 6ms/step - loss: 0.7401 - accuracy: 0.7068 - val_loss: 0.7882 - val_accuracy: 0.6957\n",
            "Epoch 88/500\n",
            "104/104 [==============================] - 1s 6ms/step - loss: 0.6866 - accuracy: 0.7219 - val_loss: 0.7470 - val_accuracy: 0.6908\n",
            "Epoch 89/500\n",
            "104/104 [==============================] - 1s 5ms/step - loss: 0.7400 - accuracy: 0.7177 - val_loss: 0.7876 - val_accuracy: 0.6860\n",
            "Epoch 90/500\n",
            "104/104 [==============================] - 1s 6ms/step - loss: 0.6959 - accuracy: 0.7219 - val_loss: 0.8409 - val_accuracy: 0.6329\n",
            "Epoch 91/500\n",
            "104/104 [==============================] - 1s 6ms/step - loss: 0.6980 - accuracy: 0.7394 - val_loss: 0.7968 - val_accuracy: 0.6908\n",
            "Epoch 92/500\n",
            "104/104 [==============================] - 1s 5ms/step - loss: 0.6995 - accuracy: 0.7201 - val_loss: 0.7599 - val_accuracy: 0.7246\n",
            "Epoch 93/500\n",
            "104/104 [==============================] - 1s 6ms/step - loss: 0.7149 - accuracy: 0.7261 - val_loss: 0.7651 - val_accuracy: 0.7101\n",
            "Epoch 94/500\n",
            "104/104 [==============================] - 1s 6ms/step - loss: 0.6782 - accuracy: 0.7316 - val_loss: 0.8063 - val_accuracy: 0.6570\n",
            "Epoch 95/500\n",
            "104/104 [==============================] - 1s 6ms/step - loss: 0.7014 - accuracy: 0.7364 - val_loss: 0.8002 - val_accuracy: 0.6908\n",
            "Epoch 96/500\n",
            "104/104 [==============================] - 1s 7ms/step - loss: 0.6748 - accuracy: 0.7515 - val_loss: 0.7215 - val_accuracy: 0.7343\n",
            "Epoch 97/500\n",
            "104/104 [==============================] - 1s 6ms/step - loss: 0.6545 - accuracy: 0.7557 - val_loss: 0.7461 - val_accuracy: 0.7101\n",
            "Epoch 98/500\n",
            "104/104 [==============================] - 1s 7ms/step - loss: 0.6776 - accuracy: 0.7382 - val_loss: 0.7575 - val_accuracy: 0.7150\n",
            "Epoch 99/500\n",
            "104/104 [==============================] - 1s 6ms/step - loss: 0.6888 - accuracy: 0.7352 - val_loss: 0.7325 - val_accuracy: 0.7053\n",
            "Epoch 100/500\n",
            "104/104 [==============================] - 1s 7ms/step - loss: 0.6726 - accuracy: 0.7418 - val_loss: 0.7649 - val_accuracy: 0.6812\n",
            "Epoch 101/500\n",
            "104/104 [==============================] - 1s 7ms/step - loss: 0.6615 - accuracy: 0.7376 - val_loss: 0.7235 - val_accuracy: 0.7295\n",
            "Epoch 102/500\n",
            "104/104 [==============================] - 1s 6ms/step - loss: 0.6559 - accuracy: 0.7588 - val_loss: 0.8046 - val_accuracy: 0.6908\n",
            "Epoch 103/500\n",
            "104/104 [==============================] - 1s 7ms/step - loss: 0.6696 - accuracy: 0.7334 - val_loss: 0.7289 - val_accuracy: 0.7101\n",
            "Epoch 104/500\n",
            "104/104 [==============================] - 1s 6ms/step - loss: 0.6470 - accuracy: 0.7437 - val_loss: 0.7429 - val_accuracy: 0.7198\n",
            "Epoch 105/500\n",
            "104/104 [==============================] - 1s 7ms/step - loss: 0.6254 - accuracy: 0.7582 - val_loss: 0.7652 - val_accuracy: 0.7150\n",
            "Epoch 106/500\n",
            "104/104 [==============================] - 1s 6ms/step - loss: 0.6220 - accuracy: 0.7582 - val_loss: 0.6787 - val_accuracy: 0.7585\n",
            "Epoch 107/500\n",
            "104/104 [==============================] - 1s 6ms/step - loss: 0.6255 - accuracy: 0.7521 - val_loss: 0.7277 - val_accuracy: 0.7295\n",
            "Epoch 108/500\n",
            "104/104 [==============================] - 1s 6ms/step - loss: 0.6386 - accuracy: 0.7509 - val_loss: 0.7546 - val_accuracy: 0.7150\n",
            "Epoch 109/500\n",
            "104/104 [==============================] - 1s 6ms/step - loss: 0.6527 - accuracy: 0.7491 - val_loss: 0.7334 - val_accuracy: 0.7101\n",
            "Epoch 110/500\n",
            "104/104 [==============================] - 1s 9ms/step - loss: 0.6100 - accuracy: 0.7636 - val_loss: 0.7544 - val_accuracy: 0.7343\n",
            "Epoch 111/500\n",
            "104/104 [==============================] - 1s 10ms/step - loss: 0.6148 - accuracy: 0.7600 - val_loss: 0.7080 - val_accuracy: 0.7295\n",
            "Epoch 112/500\n",
            "104/104 [==============================] - 1s 10ms/step - loss: 0.6343 - accuracy: 0.7570 - val_loss: 0.8130 - val_accuracy: 0.6570\n",
            "Epoch 113/500\n",
            "104/104 [==============================] - 1s 10ms/step - loss: 0.6321 - accuracy: 0.7745 - val_loss: 0.7825 - val_accuracy: 0.7053\n",
            "Epoch 114/500\n",
            "104/104 [==============================] - 1s 7ms/step - loss: 0.6287 - accuracy: 0.7509 - val_loss: 0.7539 - val_accuracy: 0.7295\n",
            "Epoch 115/500\n",
            "104/104 [==============================] - 1s 6ms/step - loss: 0.6439 - accuracy: 0.7648 - val_loss: 0.7611 - val_accuracy: 0.7053\n",
            "Epoch 116/500\n",
            "104/104 [==============================] - 1s 7ms/step - loss: 0.6269 - accuracy: 0.7672 - val_loss: 0.7215 - val_accuracy: 0.7295\n",
            "Epoch 117/500\n",
            "104/104 [==============================] - 1s 6ms/step - loss: 0.6330 - accuracy: 0.7551 - val_loss: 0.7605 - val_accuracy: 0.7246\n",
            "Epoch 118/500\n",
            "104/104 [==============================] - 1s 6ms/step - loss: 0.6024 - accuracy: 0.7696 - val_loss: 0.7781 - val_accuracy: 0.6812\n",
            "Epoch 119/500\n",
            "104/104 [==============================] - 1s 6ms/step - loss: 0.6095 - accuracy: 0.7690 - val_loss: 0.7624 - val_accuracy: 0.6763\n",
            "Epoch 120/500\n",
            "104/104 [==============================] - 1s 6ms/step - loss: 0.6006 - accuracy: 0.7642 - val_loss: 0.7351 - val_accuracy: 0.7101\n",
            "Epoch 121/500\n",
            "104/104 [==============================] - 1s 7ms/step - loss: 0.5891 - accuracy: 0.7703 - val_loss: 0.7388 - val_accuracy: 0.7198\n",
            "Epoch 122/500\n",
            "104/104 [==============================] - 1s 6ms/step - loss: 0.6259 - accuracy: 0.7576 - val_loss: 0.7034 - val_accuracy: 0.7101\n",
            "Epoch 123/500\n",
            "104/104 [==============================] - 1s 6ms/step - loss: 0.5841 - accuracy: 0.7751 - val_loss: 0.7001 - val_accuracy: 0.7536\n",
            "Epoch 124/500\n",
            "104/104 [==============================] - 1s 6ms/step - loss: 0.5595 - accuracy: 0.7842 - val_loss: 0.6960 - val_accuracy: 0.7101\n",
            "Epoch 125/500\n",
            "104/104 [==============================] - 1s 6ms/step - loss: 0.5844 - accuracy: 0.7884 - val_loss: 0.7013 - val_accuracy: 0.7150\n",
            "Epoch 126/500\n",
            "104/104 [==============================] - 1s 6ms/step - loss: 0.5748 - accuracy: 0.7811 - val_loss: 0.6816 - val_accuracy: 0.7488\n",
            "Epoch 127/500\n",
            "104/104 [==============================] - 1s 6ms/step - loss: 0.5695 - accuracy: 0.7781 - val_loss: 0.7227 - val_accuracy: 0.7246\n",
            "Epoch 128/500\n",
            "104/104 [==============================] - 1s 6ms/step - loss: 0.5591 - accuracy: 0.7878 - val_loss: 0.6481 - val_accuracy: 0.7488\n",
            "Epoch 129/500\n",
            "104/104 [==============================] - 1s 6ms/step - loss: 0.5673 - accuracy: 0.7866 - val_loss: 0.6762 - val_accuracy: 0.7440\n",
            "Epoch 130/500\n",
            "104/104 [==============================] - 1s 6ms/step - loss: 0.5489 - accuracy: 0.7854 - val_loss: 0.7579 - val_accuracy: 0.6812\n",
            "Epoch 131/500\n",
            "104/104 [==============================] - 1s 6ms/step - loss: 0.5727 - accuracy: 0.7793 - val_loss: 0.7041 - val_accuracy: 0.7343\n",
            "Epoch 132/500\n",
            "104/104 [==============================] - 1s 6ms/step - loss: 0.5680 - accuracy: 0.7884 - val_loss: 0.6895 - val_accuracy: 0.7440\n",
            "Epoch 133/500\n",
            "104/104 [==============================] - 1s 6ms/step - loss: 0.5762 - accuracy: 0.7848 - val_loss: 0.7005 - val_accuracy: 0.7440\n",
            "Epoch 134/500\n",
            "104/104 [==============================] - 1s 6ms/step - loss: 0.5589 - accuracy: 0.7926 - val_loss: 0.6604 - val_accuracy: 0.7585\n",
            "Epoch 135/500\n",
            "104/104 [==============================] - 1s 6ms/step - loss: 0.5744 - accuracy: 0.7872 - val_loss: 0.6804 - val_accuracy: 0.7681\n",
            "Epoch 136/500\n",
            "104/104 [==============================] - 1s 7ms/step - loss: 0.5570 - accuracy: 0.7969 - val_loss: 0.7985 - val_accuracy: 0.6860\n",
            "Epoch 137/500\n",
            "104/104 [==============================] - 1s 6ms/step - loss: 0.5592 - accuracy: 0.7920 - val_loss: 0.6919 - val_accuracy: 0.7295\n",
            "Epoch 138/500\n",
            "104/104 [==============================] - 1s 6ms/step - loss: 0.5444 - accuracy: 0.7884 - val_loss: 0.6846 - val_accuracy: 0.7488\n",
            "Epoch 139/500\n",
            "104/104 [==============================] - 1s 6ms/step - loss: 0.5362 - accuracy: 0.7975 - val_loss: 0.6904 - val_accuracy: 0.7150\n",
            "Epoch 140/500\n",
            "104/104 [==============================] - 1s 7ms/step - loss: 0.5632 - accuracy: 0.7811 - val_loss: 0.6687 - val_accuracy: 0.7440\n",
            "Epoch 141/500\n",
            "104/104 [==============================] - 1s 6ms/step - loss: 0.5297 - accuracy: 0.7920 - val_loss: 0.6674 - val_accuracy: 0.7536\n",
            "Epoch 142/500\n",
            "104/104 [==============================] - 1s 7ms/step - loss: 0.5437 - accuracy: 0.7932 - val_loss: 0.7238 - val_accuracy: 0.7488\n",
            "Epoch 143/500\n",
            "104/104 [==============================] - 1s 6ms/step - loss: 0.5286 - accuracy: 0.7981 - val_loss: 0.8583 - val_accuracy: 0.6618\n",
            "Epoch 144/500\n",
            "104/104 [==============================] - 1s 7ms/step - loss: 0.5525 - accuracy: 0.7932 - val_loss: 0.6517 - val_accuracy: 0.7488\n",
            "Epoch 145/500\n",
            "104/104 [==============================] - 1s 6ms/step - loss: 0.5396 - accuracy: 0.8017 - val_loss: 0.7286 - val_accuracy: 0.7101\n",
            "Epoch 146/500\n",
            "104/104 [==============================] - 1s 8ms/step - loss: 0.5422 - accuracy: 0.8023 - val_loss: 0.6944 - val_accuracy: 0.7729\n",
            "Epoch 147/500\n",
            "104/104 [==============================] - 1s 7ms/step - loss: 0.5363 - accuracy: 0.7932 - val_loss: 0.6664 - val_accuracy: 0.7246\n",
            "Epoch 148/500\n",
            "104/104 [==============================] - 1s 7ms/step - loss: 0.5290 - accuracy: 0.8041 - val_loss: 0.6939 - val_accuracy: 0.7198\n",
            "Epoch 149/500\n",
            "104/104 [==============================] - 1s 6ms/step - loss: 0.5348 - accuracy: 0.8029 - val_loss: 0.6846 - val_accuracy: 0.7391\n",
            "Epoch 150/500\n",
            "104/104 [==============================] - 1s 7ms/step - loss: 0.5362 - accuracy: 0.8017 - val_loss: 0.7152 - val_accuracy: 0.7440\n",
            "Epoch 151/500\n",
            "104/104 [==============================] - 1s 6ms/step - loss: 0.5341 - accuracy: 0.7932 - val_loss: 0.6845 - val_accuracy: 0.7391\n",
            "Epoch 152/500\n",
            "104/104 [==============================] - 1s 6ms/step - loss: 0.5069 - accuracy: 0.8204 - val_loss: 0.6973 - val_accuracy: 0.7101\n",
            "Epoch 153/500\n",
            "104/104 [==============================] - 1s 6ms/step - loss: 0.4872 - accuracy: 0.8144 - val_loss: 0.6879 - val_accuracy: 0.7295\n"
          ]
        }
      ]
    },
    {
      "cell_type": "code",
      "source": [
        "plt.plot(cnnhistory.history['loss'])\n",
        "plt.plot(cnnhistory.history['val_loss'])\n",
        "plt.title('model loss')\n",
        "plt.ylabel('loss')\n",
        "plt.xlabel('epoch')\n",
        "plt.legend(['train','test'], loc='upper left')\n",
        "plt.show()"
      ],
      "metadata": {
        "colab": {
          "base_uri": "https://localhost:8080/",
          "height": 295
        },
        "id": "oQYnuaCrDH_A",
        "outputId": "42ccd545-db41-4b18-ad7c-6bda65c9fdae"
      },
      "execution_count": 15,
      "outputs": [
        {
          "output_type": "display_data",
          "data": {
            "text/plain": [
              "<Figure size 432x288 with 1 Axes>"
            ],
            "image/png": "[encoded data removed]"
          },
          "metadata": {
            "needs_background": "light"
          }
        }
      ]
    },
    {
      "cell_type": "code",
      "source": [
        "plt.plot(cnnhistory.history['accuracy'])\n",
        "plt.plot(cnnhistory.history['val_accuracy'])\n",
        "plt.title('model accuracy')\n",
        "plt.ylabel('accuracy')\n",
        "plt.xlabel('epoch')\n",
        "plt.legend(['train','test'], loc='upper left')\n",
        "plt.show()"
      ],
      "metadata": {
        "colab": {
          "base_uri": "https://localhost:8080/",
          "height": 295
        },
        "id": "IFkTuO8nDNdq",
        "outputId": "ea832fe6-569b-4130-e994-9732e72b718c"
      },
      "execution_count": 16,
      "outputs": [
        {
          "output_type": "display_data",
          "data": {
            "text/plain": [
              "<Figure size 432x288 with 1 Axes>"
            ],
            "image/png": "[encoded data removed]"
          },
          "metadata": {
            "needs_background": "light"
          }
        }
      ]
    },
    {
      "cell_type": "code",
      "source": [
        "predictions = model.predict(x_testcnn)"
      ],
      "metadata": {
        "id": "A2xtrN5wDQgY"
      },
      "execution_count": 17,
      "outputs": []
    },
    {
      "cell_type": "code",
      "source": [
        "predictions"
      ],
      "metadata": {
        "colab": {
          "base_uri": "https://localhost:8080/"
        },
        "id": "_f_ohjXKDUpY",
        "outputId": "b9495f4d-7784-4681-bbd7-e2723aab6839"
      },
      "execution_count": 18,
      "outputs": [
        {
          "output_type": "execute_result",
          "data": {
            "text/plain": [
              "array([[1.5471888e-01, 4.8205547e-02, 2.6752311e-01, 1.0703183e-01,\n",
              "        3.7721777e-01, 4.5302819e-02],\n",
              "       [9.6045487e-04, 1.1304449e-04, 1.0995910e-06, 9.9330986e-01,\n",
              "        1.4968422e-06, 5.6140148e-03],\n",
              "       [1.7600998e-01, 1.1632701e-01, 9.6253984e-02, 2.2299568e-01,\n",
              "        1.3970120e-01, 2.4871218e-01],\n",
              "       ...,\n",
              "       [6.0640991e-06, 7.0684379e-08, 1.1401643e-03, 2.4934945e-05,\n",
              "        9.9515080e-01, 3.6779766e-03],\n",
              "       [6.8545950e-07, 8.7506896e-01, 1.2488840e-01, 1.1656373e-05,\n",
              "        2.8896434e-06, 2.7321763e-05],\n",
              "       [3.4782192e-05, 5.6354029e-06, 2.3177007e-02, 4.0302708e-05,\n",
              "        9.7537363e-01, 1.3686563e-03]], dtype=float32)"
            ]
          },
          "metadata": {},
          "execution_count": 18
        }
      ]
    },
    {
      "cell_type": "code",
      "source": [
        "y_test"
      ],
      "metadata": {
        "colab": {
          "base_uri": "https://localhost:8080/"
        },
        "id": "cmA2bFgsDW3D",
        "outputId": "3a276a39-a500-4873-fdca-d50d30e38967"
      },
      "execution_count": 19,
      "outputs": [
        {
          "output_type": "execute_result",
          "data": {
            "text/plain": [
              "array([3, 3, 3, 0, 4, 4, 1, 2, 5, 0, 5, 3, 2, 2, 1, 4, 4, 5, 2, 4, 1, 2,\n",
              "       3, 5, 4, 2, 1, 2, 2, 2, 2, 5, 2, 5, 3, 1, 2, 0, 4, 5, 2, 3, 2, 2,\n",
              "       5, 2, 0, 1, 3, 4, 4, 5, 1, 1, 4, 4, 5, 1, 1, 1, 0, 1, 5, 0, 4, 1,\n",
              "       1, 0, 1, 4, 1, 0, 4, 1, 3, 1, 2, 2, 1, 2, 3, 0, 5, 3, 5, 5, 2, 4,\n",
              "       5, 1, 5, 1, 5, 3, 4, 1, 4, 1, 5, 4, 5, 1, 2, 1, 1, 5, 1, 3, 2, 5,\n",
              "       2, 1, 3, 5, 4, 4, 0, 0, 3, 1, 2, 2, 3, 5, 1, 5, 3, 4, 2, 2, 0, 2,\n",
              "       2, 5, 5, 0, 3, 3, 2, 2, 0, 3, 4, 0, 4, 2, 4, 5, 4, 1, 5, 3, 2, 2,\n",
              "       5, 4, 3, 3, 4, 3, 3, 4, 1, 5, 2, 3, 2, 2, 0, 2, 1, 3, 1, 2, 2, 5,\n",
              "       5, 1, 4, 2, 2, 1, 1, 3, 3, 5, 5, 2, 5, 1, 5, 0, 3, 3, 0, 5, 1, 4,\n",
              "       1, 4, 2, 5, 5, 1, 4, 2, 4])"
            ]
          },
          "metadata": {},
          "execution_count": 19
        }
      ]
    },
    {
      "cell_type": "code",
      "source": [
        "new_Ytest = y_test.astype(int)"
      ],
      "metadata": {
        "id": "0PHDKWJWDY3g"
      },
      "execution_count": 20,
      "outputs": []
    },
    {
      "cell_type": "code",
      "source": [
        "new_Ytest"
      ],
      "metadata": {
        "colab": {
          "base_uri": "https://localhost:8080/"
        },
        "id": "k68v2i-pDbZE",
        "outputId": "423ff9f9-4fc5-466c-a750-b72cb3e6b673"
      },
      "execution_count": 21,
      "outputs": [
        {
          "output_type": "execute_result",
          "data": {
            "text/plain": [
              "array([3, 3, 3, 0, 4, 4, 1, 2, 5, 0, 5, 3, 2, 2, 1, 4, 4, 5, 2, 4, 1, 2,\n",
              "       3, 5, 4, 2, 1, 2, 2, 2, 2, 5, 2, 5, 3, 1, 2, 0, 4, 5, 2, 3, 2, 2,\n",
              "       5, 2, 0, 1, 3, 4, 4, 5, 1, 1, 4, 4, 5, 1, 1, 1, 0, 1, 5, 0, 4, 1,\n",
              "       1, 0, 1, 4, 1, 0, 4, 1, 3, 1, 2, 2, 1, 2, 3, 0, 5, 3, 5, 5, 2, 4,\n",
              "       5, 1, 5, 1, 5, 3, 4, 1, 4, 1, 5, 4, 5, 1, 2, 1, 1, 5, 1, 3, 2, 5,\n",
              "       2, 1, 3, 5, 4, 4, 0, 0, 3, 1, 2, 2, 3, 5, 1, 5, 3, 4, 2, 2, 0, 2,\n",
              "       2, 5, 5, 0, 3, 3, 2, 2, 0, 3, 4, 0, 4, 2, 4, 5, 4, 1, 5, 3, 2, 2,\n",
              "       5, 4, 3, 3, 4, 3, 3, 4, 1, 5, 2, 3, 2, 2, 0, 2, 1, 3, 1, 2, 2, 5,\n",
              "       5, 1, 4, 2, 2, 1, 1, 3, 3, 5, 5, 2, 5, 1, 5, 0, 3, 3, 0, 5, 1, 4,\n",
              "       1, 4, 2, 5, 5, 1, 4, 2, 4])"
            ]
          },
          "metadata": {},
          "execution_count": 21
        }
      ]
    },
    {
      "cell_type": "code",
      "source": [
        "preds1=predictions.argmax(axis=1)\n",
        "preds1"
      ],
      "metadata": {
        "colab": {
          "base_uri": "https://localhost:8080/"
        },
        "id": "4_cAI39VFhtp",
        "outputId": "3c4b773e-e840-4cbd-8bb8-8f244d66d1a6"
      },
      "execution_count": 22,
      "outputs": [
        {
          "output_type": "execute_result",
          "data": {
            "text/plain": [
              "array([4, 3, 5, 1, 4, 4, 1, 2, 5, 1, 4, 3, 2, 2, 4, 4, 4, 2, 2, 4, 2, 2,\n",
              "       4, 2, 5, 2, 1, 2, 2, 2, 2, 5, 2, 5, 3, 1, 2, 0, 4, 5, 2, 5, 2, 2,\n",
              "       3, 2, 1, 1, 3, 4, 4, 2, 1, 1, 4, 4, 5, 1, 1, 1, 3, 1, 2, 1, 4, 1,\n",
              "       1, 1, 1, 4, 1, 2, 4, 1, 5, 4, 2, 2, 3, 4, 1, 0, 5, 3, 5, 4, 2, 5,\n",
              "       3, 5, 4, 1, 5, 3, 4, 2, 4, 1, 5, 4, 5, 1, 2, 1, 1, 5, 1, 5, 2, 2,\n",
              "       3, 2, 3, 5, 4, 4, 2, 0, 3, 1, 1, 2, 1, 4, 1, 5, 3, 5, 2, 2, 1, 2,\n",
              "       2, 3, 3, 0, 3, 3, 2, 4, 0, 5, 4, 4, 4, 4, 4, 2, 4, 1, 5, 3, 2, 2,\n",
              "       5, 4, 4, 3, 4, 5, 3, 4, 4, 5, 2, 3, 2, 2, 0, 2, 1, 2, 1, 2, 4, 5,\n",
              "       5, 1, 4, 2, 4, 1, 4, 3, 3, 5, 5, 2, 5, 1, 4, 1, 3, 3, 2, 4, 1, 4,\n",
              "       1, 4, 5, 2, 5, 2, 4, 1, 4])"
            ]
          },
          "metadata": {},
          "execution_count": 22
        }
      ]
    },
    {
      "cell_type": "code",
      "source": [
        "abc = preds1.astype(int).flatten()"
      ],
      "metadata": {
        "id": "H4WEmM60NfQn"
      },
      "execution_count": 23,
      "outputs": []
    },
    {
      "cell_type": "code",
      "source": [
        "from sklearn.metrics import confusion_matrix\n",
        "c = confusion_matrix(new_Ytest, abc) \n",
        "c"
      ],
      "metadata": {
        "colab": {
          "base_uri": "https://localhost:8080/"
        },
        "id": "bKEBeEBlFjB8",
        "outputId": "4f009516-aafe-446c-e0b7-532f5a9a2e0f"
      },
      "execution_count": 24,
      "outputs": [
        {
          "output_type": "execute_result",
          "data": {
            "text/plain": [
              "array([[ 6,  7,  3,  1,  1,  0],\n",
              "       [ 0, 31,  4,  1,  4,  1],\n",
              "       [ 0,  2, 36,  1,  5,  1],\n",
              "       [ 0,  2,  1, 19,  3,  6],\n",
              "       [ 0,  0,  0,  0, 30,  3],\n",
              "       [ 0,  0,  7,  4,  6, 22]])"
            ]
          },
          "metadata": {},
          "execution_count": 24
        }
      ]
    },
    {
      "cell_type": "code",
      "source": [
        "y_test"
      ],
      "metadata": {
        "colab": {
          "base_uri": "https://localhost:8080/"
        },
        "id": "m4RjG7LWLSQx",
        "outputId": "e9a9d60a-7996-456e-cf63-2ebbfb3c27a5"
      },
      "execution_count": 25,
      "outputs": [
        {
          "output_type": "execute_result",
          "data": {
            "text/plain": [
              "array([3, 3, 3, 0, 4, 4, 1, 2, 5, 0, 5, 3, 2, 2, 1, 4, 4, 5, 2, 4, 1, 2,\n",
              "       3, 5, 4, 2, 1, 2, 2, 2, 2, 5, 2, 5, 3, 1, 2, 0, 4, 5, 2, 3, 2, 2,\n",
              "       5, 2, 0, 1, 3, 4, 4, 5, 1, 1, 4, 4, 5, 1, 1, 1, 0, 1, 5, 0, 4, 1,\n",
              "       1, 0, 1, 4, 1, 0, 4, 1, 3, 1, 2, 2, 1, 2, 3, 0, 5, 3, 5, 5, 2, 4,\n",
              "       5, 1, 5, 1, 5, 3, 4, 1, 4, 1, 5, 4, 5, 1, 2, 1, 1, 5, 1, 3, 2, 5,\n",
              "       2, 1, 3, 5, 4, 4, 0, 0, 3, 1, 2, 2, 3, 5, 1, 5, 3, 4, 2, 2, 0, 2,\n",
              "       2, 5, 5, 0, 3, 3, 2, 2, 0, 3, 4, 0, 4, 2, 4, 5, 4, 1, 5, 3, 2, 2,\n",
              "       5, 4, 3, 3, 4, 3, 3, 4, 1, 5, 2, 3, 2, 2, 0, 2, 1, 3, 1, 2, 2, 5,\n",
              "       5, 1, 4, 2, 2, 1, 1, 3, 3, 5, 5, 2, 5, 1, 5, 0, 3, 3, 0, 5, 1, 4,\n",
              "       1, 4, 2, 5, 5, 1, 4, 2, 4])"
            ]
          },
          "metadata": {},
          "execution_count": 25
        }
      ]
    },
    {
      "cell_type": "code",
      "source": [
        "loss, acc =model.evaluate(x_testcnn, y_test)\n",
        "print(\"Restored model, accuracy: {:5.2f}%\".format(100*acc))"
      ],
      "metadata": {
        "colab": {
          "base_uri": "https://localhost:8080/"
        },
        "id": "n3kzoqPkDqqS",
        "outputId": "d21fb566-2c5c-47fc-f005-cbed55488cb5"
      },
      "execution_count": 26,
      "outputs": [
        {
          "output_type": "stream",
          "name": "stdout",
          "text": [
            "7/7 [==============================] - 0s 4ms/step - loss: 0.6935 - accuracy: 0.6957\n",
            "Restored model, accuracy: 69.57%\n"
          ]
        }
      ]
    },
    {
      "cell_type": "code",
      "source": [
        "loss, acc =model.evaluate(X_train, y_train)\n",
        "print(\"Restored model train, accuracy: {:5.2f}%\".format(100*acc))"
      ],
      "metadata": {
        "id": "fJDTGH_OUX0z",
        "colab": {
          "base_uri": "https://localhost:8080/"
        },
        "outputId": "5b842ef3-b4e5-4a44-d60f-0976f510f5bf"
      },
      "execution_count": 27,
      "outputs": [
        {
          "output_type": "stream",
          "name": "stdout",
          "text": [
            "52/52 [==============================] - 0s 5ms/step - loss: 0.4042 - accuracy: 0.8700\n",
            "Restored model train, accuracy: 87.00%\n"
          ]
        }
      ]
    },
    {
      "cell_type": "code",
      "source": [
        "from sklearn.metrics import classification_report, confusion_matrix,accuracy_score\n",
        "import seaborn as sn\n",
        "\n",
        "print(classification_report(new_Ytest,abc))\n",
        "\n",
        "acc = float(accuracy_score(new_Ytest,abc))*100\n",
        "print(\"----accuracy score %s ----\" % acc)\n",
        "\n",
        "cm = confusion_matrix(new_Ytest,abc)\n",
        "#df_cm = pd.DataFrame(cm)\n",
        "class_names = ['neutral','calm', 'happy','sad','angry', 'fearful' ]\n",
        "df_cm = pd.DataFrame(cm, index=class_names, columns=class_names,)\n",
        "sn.heatmap(df_cm, annot=True, fmt='')\n",
        "plt.show()"
      ],
      "metadata": {
        "colab": {
          "base_uri": "https://localhost:8080/",
          "height": 508
        },
        "id": "SfSC3El94LZg",
        "outputId": "04513f54-8e61-4d95-d36f-0f774558f89e"
      },
      "execution_count": 28,
      "outputs": [
        {
          "output_type": "stream",
          "name": "stdout",
          "text": [
            "              precision    recall  f1-score   support\n",
            "\n",
            "           0       1.00      0.33      0.50        18\n",
            "           1       0.74      0.76      0.75        41\n",
            "           2       0.71      0.80      0.75        45\n",
            "           3       0.73      0.61      0.67        31\n",
            "           4       0.61      0.91      0.73        33\n",
            "           5       0.67      0.56      0.61        39\n",
            "\n",
            "    accuracy                           0.70       207\n",
            "   macro avg       0.74      0.66      0.67       207\n",
            "weighted avg       0.72      0.70      0.69       207\n",
            "\n",
            "----accuracy score 69.56521739130434 ----\n"
          ]
        },
        {
          "output_type": "display_data",
          "data": {
            "text/plain": [
              "<Figure size 432x288 with 2 Axes>"
            ],
            "image/png": "[encoded data removed]"
          },
          "metadata": {
            "needs_background": "light"
          }
        }
      ]
    }
  ]
}