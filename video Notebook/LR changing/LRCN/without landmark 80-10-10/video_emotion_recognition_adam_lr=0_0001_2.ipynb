{
  "nbformat": 4,
  "nbformat_minor": 0,
  "metadata": {
    "colab": {
      "name": "video_emotion_recognition_adam_lr=0.0001_2.ipynb",
      "provenance": [],
      "collapsed_sections": [],
      "machine_shape": "hm"
    },
    "kernelspec": {
      "name": "python3",
      "display_name": "Python 3"
    },
    "accelerator": "GPU"
  },
  "cells": [
    {
      "cell_type": "code",
      "source": [
        "from google.colab import drive\n",
        "drive.mount('/content/drive')"
      ],
      "metadata": {
        "colab": {
          "base_uri": "https://localhost:8080/"
        },
        "id": "o94I67GBPVfM",
        "outputId": "72e4fec5-b9e5-43a2-e376-5c675dd47648"
      },
      "execution_count": 1,
      "outputs": [
        {
          "output_type": "stream",
          "name": "stdout",
          "text": [
            "Drive already mounted at /content/drive; to attempt to forcibly remount, call drive.mount(\"/content/drive\", force_remount=True).\n"
          ]
        }
      ]
    },
    {
      "cell_type": "code",
      "source": [
        "# Discard the output of this cell.\n",
        "#%%capture\n",
        "\n",
        "# Install the required libraries.\n",
        "!pip install tensorflow opencv-contrib-python youtube-dl moviepy pydot\n",
        "!pip install git+https://github.com/TahaAnwar/pafy.git#egg=pafy"
      ],
      "metadata": {
        "colab": {
          "base_uri": "https://localhost:8080/"
        },
        "id": "6OQ7vRnzP6n8",
        "outputId": "e3d7b60a-05e8-4ba9-fa7a-534c3733193c"
      },
      "execution_count": 2,
      "outputs": [
        {
          "output_type": "stream",
          "name": "stdout",
          "text": [
            "Looking in indexes: https://pypi.org/simple, https://us-python.pkg.dev/colab-wheels/public/simple/\n",
            "Requirement already satisfied: tensorflow in /usr/local/lib/python3.7/dist-packages (2.8.2+zzzcolab20220527125636)\n",
            "Requirement already satisfied: opencv-contrib-python in /usr/local/lib/python3.7/dist-packages (4.1.2.30)\n",
            "Requirement already satisfied: youtube-dl in /usr/local/lib/python3.7/dist-packages (2021.12.17)\n",
            "Requirement already satisfied: moviepy in /usr/local/lib/python3.7/dist-packages (0.2.3.5)\n",
            "Requirement already satisfied: pydot in /usr/local/lib/python3.7/dist-packages (1.3.0)\n",
            "Requirement already satisfied: absl-py>=0.4.0 in /usr/local/lib/python3.7/dist-packages (from tensorflow) (1.0.0)\n",
            "Requirement already satisfied: protobuf<3.20,>=3.9.2 in /usr/local/lib/python3.7/dist-packages (from tensorflow) (3.17.3)\n",
            "Requirement already satisfied: keras-preprocessing>=1.1.1 in /usr/local/lib/python3.7/dist-packages (from tensorflow) (1.1.2)\n",
            "Requirement already satisfied: grpcio<2.0,>=1.24.3 in /usr/local/lib/python3.7/dist-packages (from tensorflow) (1.46.3)\n",
            "Requirement already satisfied: tensorflow-io-gcs-filesystem>=0.23.1 in /usr/local/lib/python3.7/dist-packages (from tensorflow) (0.26.0)\n",
            "Requirement already satisfied: libclang>=9.0.1 in /usr/local/lib/python3.7/dist-packages (from tensorflow) (14.0.1)\n",
            "Requirement already satisfied: keras<2.9,>=2.8.0rc0 in /usr/local/lib/python3.7/dist-packages (from tensorflow) (2.8.0)\n",
            "Requirement already satisfied: numpy>=1.20 in /usr/local/lib/python3.7/dist-packages (from tensorflow) (1.21.6)\n",
            "Requirement already satisfied: astunparse>=1.6.0 in /usr/local/lib/python3.7/dist-packages (from tensorflow) (1.6.3)\n",
            "Requirement already satisfied: termcolor>=1.1.0 in /usr/local/lib/python3.7/dist-packages (from tensorflow) (1.1.0)\n",
            "Requirement already satisfied: gast>=0.2.1 in /usr/local/lib/python3.7/dist-packages (from tensorflow) (0.5.3)\n",
            "Requirement already satisfied: google-pasta>=0.1.1 in /usr/local/lib/python3.7/dist-packages (from tensorflow) (0.2.0)\n",
            "Requirement already satisfied: tensorboard<2.9,>=2.8 in /usr/local/lib/python3.7/dist-packages (from tensorflow) (2.8.0)\n",
            "Requirement already satisfied: tensorflow-estimator<2.9,>=2.8 in /usr/local/lib/python3.7/dist-packages (from tensorflow) (2.8.0)\n",
            "Requirement already satisfied: six>=1.12.0 in /usr/local/lib/python3.7/dist-packages (from tensorflow) (1.15.0)\n",
            "Requirement already satisfied: opt-einsum>=2.3.2 in /usr/local/lib/python3.7/dist-packages (from tensorflow) (3.3.0)\n",
            "Requirement already satisfied: setuptools in /usr/local/lib/python3.7/dist-packages (from tensorflow) (57.4.0)\n",
            "Requirement already satisfied: h5py>=2.9.0 in /usr/local/lib/python3.7/dist-packages (from tensorflow) (3.1.0)\n",
            "Requirement already satisfied: typing-extensions>=3.6.6 in /usr/local/lib/python3.7/dist-packages (from tensorflow) (4.2.0)\n",
            "Requirement already satisfied: flatbuffers>=1.12 in /usr/local/lib/python3.7/dist-packages (from tensorflow) (2.0)\n",
            "Requirement already satisfied: wrapt>=1.11.0 in /usr/local/lib/python3.7/dist-packages (from tensorflow) (1.14.1)\n",
            "Requirement already satisfied: wheel<1.0,>=0.23.0 in /usr/local/lib/python3.7/dist-packages (from astunparse>=1.6.0->tensorflow) (0.37.1)\n",
            "Requirement already satisfied: cached-property in /usr/local/lib/python3.7/dist-packages (from h5py>=2.9.0->tensorflow) (1.5.2)\n",
            "Requirement already satisfied: google-auth<3,>=1.6.3 in /usr/local/lib/python3.7/dist-packages (from tensorboard<2.9,>=2.8->tensorflow) (1.35.0)\n",
            "Requirement already satisfied: tensorboard-plugin-wit>=1.6.0 in /usr/local/lib/python3.7/dist-packages (from tensorboard<2.9,>=2.8->tensorflow) (1.8.1)\n",
            "Requirement already satisfied: werkzeug>=0.11.15 in /usr/local/lib/python3.7/dist-packages (from tensorboard<2.9,>=2.8->tensorflow) (1.0.1)\n",
            "Requirement already satisfied: requests<3,>=2.21.0 in /usr/local/lib/python3.7/dist-packages (from tensorboard<2.9,>=2.8->tensorflow) (2.23.0)\n",
            "Requirement already satisfied: markdown>=2.6.8 in /usr/local/lib/python3.7/dist-packages (from tensorboard<2.9,>=2.8->tensorflow) (3.3.7)\n",
            "Requirement already satisfied: google-auth-oauthlib<0.5,>=0.4.1 in /usr/local/lib/python3.7/dist-packages (from tensorboard<2.9,>=2.8->tensorflow) (0.4.6)\n",
            "Requirement already satisfied: tensorboard-data-server<0.7.0,>=0.6.0 in /usr/local/lib/python3.7/dist-packages (from tensorboard<2.9,>=2.8->tensorflow) (0.6.1)\n",
            "Requirement already satisfied: rsa<5,>=3.1.4 in /usr/local/lib/python3.7/dist-packages (from google-auth<3,>=1.6.3->tensorboard<2.9,>=2.8->tensorflow) (4.8)\n",
            "Requirement already satisfied: pyasn1-modules>=0.2.1 in /usr/local/lib/python3.7/dist-packages (from google-auth<3,>=1.6.3->tensorboard<2.9,>=2.8->tensorflow) (0.2.8)\n",
            "Requirement already satisfied: cachetools<5.0,>=2.0.0 in /usr/local/lib/python3.7/dist-packages (from google-auth<3,>=1.6.3->tensorboard<2.9,>=2.8->tensorflow) (4.2.4)\n",
            "Requirement already satisfied: requests-oauthlib>=0.7.0 in /usr/local/lib/python3.7/dist-packages (from google-auth-oauthlib<0.5,>=0.4.1->tensorboard<2.9,>=2.8->tensorflow) (1.3.1)\n",
            "Requirement already satisfied: importlib-metadata>=4.4 in /usr/local/lib/python3.7/dist-packages (from markdown>=2.6.8->tensorboard<2.9,>=2.8->tensorflow) (4.11.4)\n",
            "Requirement already satisfied: zipp>=0.5 in /usr/local/lib/python3.7/dist-packages (from importlib-metadata>=4.4->markdown>=2.6.8->tensorboard<2.9,>=2.8->tensorflow) (3.8.0)\n",
            "Requirement already satisfied: pyasn1<0.5.0,>=0.4.6 in /usr/local/lib/python3.7/dist-packages (from pyasn1-modules>=0.2.1->google-auth<3,>=1.6.3->tensorboard<2.9,>=2.8->tensorflow) (0.4.8)\n",
            "Requirement already satisfied: certifi>=2017.4.17 in /usr/local/lib/python3.7/dist-packages (from requests<3,>=2.21.0->tensorboard<2.9,>=2.8->tensorflow) (2022.5.18.1)\n",
            "Requirement already satisfied: idna<3,>=2.5 in /usr/local/lib/python3.7/dist-packages (from requests<3,>=2.21.0->tensorboard<2.9,>=2.8->tensorflow) (2.10)\n",
            "Requirement already satisfied: chardet<4,>=3.0.2 in /usr/local/lib/python3.7/dist-packages (from requests<3,>=2.21.0->tensorboard<2.9,>=2.8->tensorflow) (3.0.4)\n",
            "Requirement already satisfied: urllib3!=1.25.0,!=1.25.1,<1.26,>=1.21.1 in /usr/local/lib/python3.7/dist-packages (from requests<3,>=2.21.0->tensorboard<2.9,>=2.8->tensorflow) (1.24.3)\n",
            "Requirement already satisfied: oauthlib>=3.0.0 in /usr/local/lib/python3.7/dist-packages (from requests-oauthlib>=0.7.0->google-auth-oauthlib<0.5,>=0.4.1->tensorboard<2.9,>=2.8->tensorflow) (3.2.0)\n",
            "Requirement already satisfied: imageio<3.0,>=2.1.2 in /usr/local/lib/python3.7/dist-packages (from moviepy) (2.4.1)\n",
            "Requirement already satisfied: decorator<5.0,>=4.0.2 in /usr/local/lib/python3.7/dist-packages (from moviepy) (4.4.2)\n",
            "Requirement already satisfied: tqdm<5.0,>=4.11.2 in /usr/local/lib/python3.7/dist-packages (from moviepy) (4.64.0)\n",
            "Requirement already satisfied: pillow in /usr/local/lib/python3.7/dist-packages (from imageio<3.0,>=2.1.2->moviepy) (7.1.2)\n",
            "Requirement already satisfied: pyparsing>=2.1.4 in /usr/local/lib/python3.7/dist-packages (from pydot) (3.0.9)\n",
            "Looking in indexes: https://pypi.org/simple, https://us-python.pkg.dev/colab-wheels/public/simple/\n",
            "Collecting pafy\n",
            "  Cloning https://github.com/TahaAnwar/pafy.git to /tmp/pip-install-1mxhopwt/pafy_ffa7b067933a4199ba160e1bd7620de3\n",
            "  Running command git clone -q https://github.com/TahaAnwar/pafy.git /tmp/pip-install-1mxhopwt/pafy_ffa7b067933a4199ba160e1bd7620de3\n"
          ]
        }
      ]
    },
    {
      "cell_type": "code",
      "source": [
        "# Import the required libraries.\n",
        "import os\n",
        "import cv2\n",
        "import pafy\n",
        "import math\n",
        "import random\n",
        "import numpy as np\n",
        "import datetime as dt\n",
        "import tensorflow as tf\n",
        "from collections import deque\n",
        "import matplotlib.pyplot as plt\n",
        "\n",
        "from moviepy.editor import *\n",
        "%matplotlib inline\n",
        "\n",
        "from sklearn.model_selection import train_test_split\n",
        "\n",
        "from tensorflow.keras.layers import *\n",
        "from tensorflow.keras.models import Sequential\n",
        "from tensorflow.keras.utils import to_categorical\n",
        "from tensorflow.keras.callbacks import EarlyStopping\n",
        "from tensorflow.keras.utils import plot_model"
      ],
      "metadata": {
        "id": "LiLwshTpP-OB"
      },
      "execution_count": 3,
      "outputs": []
    },
    {
      "cell_type": "code",
      "source": [
        "seed_constant = 27\n",
        "np.random.seed(seed_constant)\n",
        "random.seed(seed_constant)\n",
        "tf.random.set_seed(seed_constant)"
      ],
      "metadata": {
        "id": "u4EtD4rrQEnb"
      },
      "execution_count": 4,
      "outputs": []
    },
    {
      "cell_type": "code",
      "source": [
        "# Specify the height and width to which each video frame will be resized in our dataset.\n",
        "IMAGE_HEIGHT , IMAGE_WIDTH = 64, 64\n",
        "\n",
        "# Specify the number of frames of a video that will be fed to the model as one sequence.\n",
        "SEQUENCE_LENGTH = 30\n",
        "\n",
        "# Specify the directory containing the UCF50 dataset. \n",
        "#DATASET_DIR = \"/content/drive/MyDrive/videospeech_label\"\n",
        "\n",
        "# Specify the list containing the names of the classes used for training. Feel free to choose any set of classes.\n",
        "CLASSES_LIST = [\"neutral\", \"calm\", \"happy\", \"sad\",\"angry\",\"fearful\"]"
      ],
      "metadata": {
        "id": "7H6KBiblQKE9"
      },
      "execution_count": 5,
      "outputs": []
    },
    {
      "cell_type": "code",
      "source": [
        "import joblib\n",
        "features=joblib.load('/content/drive/My Drive/features_ravdess/original_data_set/features_data')\n",
        "labels=joblib.load('/content/drive/My Drive/features_ravdess/original_data_set/labels')\n",
        "video_file_path=joblib.load('/content/drive/My Drive/features_ravdess/original_data_set/video_path')"
      ],
      "metadata": {
        "id": "V_rh-id5cmwd"
      },
      "execution_count": 6,
      "outputs": []
    },
    {
      "cell_type": "code",
      "source": [
        "features = np.asarray(features)\n",
        "labels = np.array(labels)  "
      ],
      "metadata": {
        "id": "WI3wNd7zdKzJ"
      },
      "execution_count": 7,
      "outputs": []
    },
    {
      "cell_type": "code",
      "source": [
        "features.shape"
      ],
      "metadata": {
        "colab": {
          "base_uri": "https://localhost:8080/"
        },
        "id": "pnnmkPz5Qh75",
        "outputId": "82f08e7c-b276-4ba4-9cda-3caf8e89f1b3"
      },
      "execution_count": 8,
      "outputs": [
        {
          "output_type": "execute_result",
          "data": {
            "text/plain": [
              "(2068, 30, 64, 64, 3)"
            ]
          },
          "metadata": {},
          "execution_count": 8
        }
      ]
    },
    {
      "cell_type": "code",
      "source": [
        "labels.shape"
      ],
      "metadata": {
        "colab": {
          "base_uri": "https://localhost:8080/"
        },
        "id": "kSGvdE_hQklC",
        "outputId": "d3783cbe-b1be-4b95-87fe-4ec9bdabb6f0"
      },
      "execution_count": 9,
      "outputs": [
        {
          "output_type": "execute_result",
          "data": {
            "text/plain": [
              "(2068,)"
            ]
          },
          "metadata": {},
          "execution_count": 9
        }
      ]
    },
    {
      "cell_type": "code",
      "source": [
        "# Using Keras's to_categorical method to convert labels into one-hot-encoded vectors\n",
        "one_hot_encoded_labels = to_categorical(labels)"
      ],
      "metadata": {
        "id": "DGicVwcRQn9x"
      },
      "execution_count": 10,
      "outputs": []
    },
    {
      "cell_type": "code",
      "source": [
        "# Split the Data into Train ( 80% ) and Test Set ( 20% ).\n",
        "features_train, features_test, labels_train, labels_test = train_test_split(features, one_hot_encoded_labels,\n",
        "                                                                            test_size = 0.10, shuffle = True,\n",
        "                                                                            random_state = seed_constant)"
      ],
      "metadata": {
        "id": "pysOwWbgQrBv"
      },
      "execution_count": 11,
      "outputs": []
    },
    {
      "cell_type": "code",
      "source": [
        "def create_LRCN_model():\n",
        "    '''\n",
        "    This function will construct the required LRCN model.\n",
        "    Returns:\n",
        "        model: It is the required constructed LRCN model.\n",
        "    '''\n",
        "\n",
        "    # We will use a Sequential model for model construction.\n",
        "    model = Sequential()\n",
        "    \n",
        "    # Define the Model Architecture.\n",
        "    ########################################################################################################################\n",
        "    \n",
        "    model.add(TimeDistributed(Conv2D(16, (3, 3), padding='same',activation = 'relu'),\n",
        "                              input_shape = (SEQUENCE_LENGTH, IMAGE_HEIGHT, IMAGE_WIDTH, 3)))\n",
        "    \n",
        "    model.add(TimeDistributed(MaxPooling2D((4, 4)))) \n",
        "    model.add(TimeDistributed(Dropout(0.25)))\n",
        "    \n",
        "    model.add(TimeDistributed(Conv2D(32, (3, 3), padding='same',activation = 'relu')))\n",
        "    model.add(TimeDistributed(MaxPooling2D((4, 4))))\n",
        "    model.add(TimeDistributed(Dropout(0.25)))\n",
        "    \n",
        "    model.add(TimeDistributed(Conv2D(64, (3, 3), padding='same',activation = 'relu')))\n",
        "    model.add(TimeDistributed(MaxPooling2D((2, 2))))\n",
        "    model.add(TimeDistributed(Dropout(0.25)))\n",
        "    \n",
        "    model.add(TimeDistributed(Conv2D(64, (3, 3), padding='same',activation = 'relu')))\n",
        "    model.add(TimeDistributed(MaxPooling2D((2, 2))))\n",
        "    #model.add(TimeDistributed(Dropout(0.25)))\n",
        "                                      \n",
        "    model.add(TimeDistributed(Flatten()))\n",
        "                                      \n",
        "    model.add(LSTM(32))\n",
        "                                      \n",
        "    model.add(Dense(len(CLASSES_LIST), activation = 'softmax'))\n",
        "\n",
        "    ########################################################################################################################\n",
        "\n",
        "    # Display the models summary.\n",
        "    model.summary()\n",
        "    \n",
        "    # Return the constructed LRCN model.\n",
        "    return model"
      ],
      "metadata": {
        "id": "01zL-4EVQt3J"
      },
      "execution_count": 12,
      "outputs": []
    },
    {
      "cell_type": "code",
      "source": [
        "# Construct the required LRCN model.\n",
        "LRCN_model = create_LRCN_model()\n",
        "\n",
        "# Display the success message.\n",
        "print(\"Model Created Successfully!\")"
      ],
      "metadata": {
        "colab": {
          "base_uri": "https://localhost:8080/"
        },
        "id": "sFdjcb8zQxX4",
        "outputId": "c89d492d-bc8b-4ca7-dc06-9a2f17edd8ae"
      },
      "execution_count": 13,
      "outputs": [
        {
          "output_type": "stream",
          "name": "stdout",
          "text": [
            "Model: \"sequential\"\n",
            "_________________________________________________________________\n",
            " Layer (type)                Output Shape              Param #   \n",
            "=================================================================\n",
            " time_distributed (TimeDistr  (None, 30, 64, 64, 16)   448       \n",
            " ibuted)                                                         \n",
            "                                                                 \n",
            " time_distributed_1 (TimeDis  (None, 30, 16, 16, 16)   0         \n",
            " tributed)                                                       \n",
            "                                                                 \n",
            " time_distributed_2 (TimeDis  (None, 30, 16, 16, 16)   0         \n",
            " tributed)                                                       \n",
            "                                                                 \n",
            " time_distributed_3 (TimeDis  (None, 30, 16, 16, 32)   4640      \n",
            " tributed)                                                       \n",
            "                                                                 \n",
            " time_distributed_4 (TimeDis  (None, 30, 4, 4, 32)     0         \n",
            " tributed)                                                       \n",
            "                                                                 \n",
            " time_distributed_5 (TimeDis  (None, 30, 4, 4, 32)     0         \n",
            " tributed)                                                       \n",
            "                                                                 \n",
            " time_distributed_6 (TimeDis  (None, 30, 4, 4, 64)     18496     \n",
            " tributed)                                                       \n",
            "                                                                 \n",
            " time_distributed_7 (TimeDis  (None, 30, 2, 2, 64)     0         \n",
            " tributed)                                                       \n",
            "                                                                 \n",
            " time_distributed_8 (TimeDis  (None, 30, 2, 2, 64)     0         \n",
            " tributed)                                                       \n",
            "                                                                 \n",
            " time_distributed_9 (TimeDis  (None, 30, 2, 2, 64)     36928     \n",
            " tributed)                                                       \n",
            "                                                                 \n",
            " time_distributed_10 (TimeDi  (None, 30, 1, 1, 64)     0         \n",
            " stributed)                                                      \n",
            "                                                                 \n",
            " time_distributed_11 (TimeDi  (None, 30, 64)           0         \n",
            " stributed)                                                      \n",
            "                                                                 \n",
            " lstm (LSTM)                 (None, 32)                12416     \n",
            "                                                                 \n",
            " dense (Dense)               (None, 6)                 198       \n",
            "                                                                 \n",
            "=================================================================\n",
            "Total params: 73,126\n",
            "Trainable params: 73,126\n",
            "Non-trainable params: 0\n",
            "_________________________________________________________________\n",
            "Model Created Successfully!\n"
          ]
        }
      ]
    },
    {
      "cell_type": "code",
      "source": [
        "import keras\n",
        "import tensorflow as tf \n",
        "# Create an Instance of Early Stopping Callback.\n",
        "early_stopping_callback = EarlyStopping(monitor = 'val_loss', patience = 25, mode = 'min', restore_best_weights = True)\n",
        "\n",
        "opt = tf.keras.optimizers.Adam(learning_rate=0.0001)\n",
        " \n",
        "# Compile the model and specify loss function, optimizer and metrics to the model.\n",
        "LRCN_model.compile(loss = 'categorical_crossentropy', optimizer = opt, metrics = [\"accuracy\"])\n",
        "\n",
        "# Start training the model.\n",
        "LRCN_model_training_history = LRCN_model.fit(x = features_train, y = labels_train, epochs = 100, batch_size = 4 ,\n",
        "                                             shuffle = True, validation_split = 0.1, callbacks = [early_stopping_callback])"
      ],
      "metadata": {
        "colab": {
          "base_uri": "https://localhost:8080/"
        },
        "id": "cVmXzItZQ4-r",
        "outputId": "e1d8ed7a-8401-497c-8d0a-a80c7241f7d7"
      },
      "execution_count": 14,
      "outputs": [
        {
          "output_type": "stream",
          "name": "stdout",
          "text": [
            "Epoch 1/100\n",
            "419/419 [==============================] - 27s 20ms/step - loss: 1.7808 - accuracy: 0.1768 - val_loss: 1.7733 - val_accuracy: 0.2193\n",
            "Epoch 2/100\n",
            "419/419 [==============================] - 6s 14ms/step - loss: 1.7702 - accuracy: 0.1720 - val_loss: 1.7813 - val_accuracy: 0.1390\n",
            "Epoch 3/100\n",
            "419/419 [==============================] - 6s 14ms/step - loss: 1.7674 - accuracy: 0.1732 - val_loss: 1.7804 - val_accuracy: 0.1390\n",
            "Epoch 4/100\n",
            "419/419 [==============================] - 6s 14ms/step - loss: 1.7676 - accuracy: 0.1965 - val_loss: 1.7766 - val_accuracy: 0.1444\n",
            "Epoch 5/100\n",
            "419/419 [==============================] - 6s 14ms/step - loss: 1.7697 - accuracy: 0.1589 - val_loss: 1.7823 - val_accuracy: 0.1390\n",
            "Epoch 6/100\n",
            "419/419 [==============================] - 6s 14ms/step - loss: 1.7670 - accuracy: 0.1780 - val_loss: 1.7770 - val_accuracy: 0.1765\n",
            "Epoch 7/100\n",
            "419/419 [==============================] - 6s 14ms/step - loss: 1.7677 - accuracy: 0.1762 - val_loss: 1.7722 - val_accuracy: 0.2353\n",
            "Epoch 8/100\n",
            "419/419 [==============================] - 6s 14ms/step - loss: 1.7667 - accuracy: 0.1876 - val_loss: 1.7790 - val_accuracy: 0.1765\n",
            "Epoch 9/100\n",
            "419/419 [==============================] - 6s 14ms/step - loss: 1.7666 - accuracy: 0.1780 - val_loss: 1.7779 - val_accuracy: 0.1711\n",
            "Epoch 10/100\n",
            "419/419 [==============================] - 6s 14ms/step - loss: 1.7645 - accuracy: 0.2025 - val_loss: 1.7822 - val_accuracy: 0.1390\n",
            "Epoch 11/100\n",
            "419/419 [==============================] - 6s 14ms/step - loss: 1.7649 - accuracy: 0.1864 - val_loss: 1.7765 - val_accuracy: 0.1765\n",
            "Epoch 12/100\n",
            "419/419 [==============================] - 6s 14ms/step - loss: 1.7650 - accuracy: 0.1858 - val_loss: 1.7782 - val_accuracy: 0.1925\n",
            "Epoch 13/100\n",
            "419/419 [==============================] - 6s 14ms/step - loss: 1.7648 - accuracy: 0.1846 - val_loss: 1.7749 - val_accuracy: 0.2567\n",
            "Epoch 14/100\n",
            "419/419 [==============================] - 6s 15ms/step - loss: 1.7657 - accuracy: 0.1744 - val_loss: 1.7773 - val_accuracy: 0.1390\n",
            "Epoch 15/100\n",
            "419/419 [==============================] - 6s 15ms/step - loss: 1.7648 - accuracy: 0.1750 - val_loss: 1.7734 - val_accuracy: 0.2032\n",
            "Epoch 16/100\n",
            "419/419 [==============================] - 6s 15ms/step - loss: 1.7642 - accuracy: 0.1840 - val_loss: 1.7740 - val_accuracy: 0.2193\n",
            "Epoch 17/100\n",
            "419/419 [==============================] - 6s 15ms/step - loss: 1.7635 - accuracy: 0.2013 - val_loss: 1.7762 - val_accuracy: 0.2139\n",
            "Epoch 18/100\n",
            "419/419 [==============================] - 6s 15ms/step - loss: 1.7619 - accuracy: 0.1894 - val_loss: 1.7709 - val_accuracy: 0.2941\n",
            "Epoch 19/100\n",
            "419/419 [==============================] - 6s 15ms/step - loss: 1.7620 - accuracy: 0.1852 - val_loss: 1.7712 - val_accuracy: 0.2246\n",
            "Epoch 20/100\n",
            "419/419 [==============================] - 6s 15ms/step - loss: 1.7589 - accuracy: 0.2085 - val_loss: 1.7649 - val_accuracy: 0.2620\n",
            "Epoch 21/100\n",
            "419/419 [==============================] - 6s 15ms/step - loss: 1.7525 - accuracy: 0.2336 - val_loss: 1.7611 - val_accuracy: 0.1979\n",
            "Epoch 22/100\n",
            "419/419 [==============================] - 6s 15ms/step - loss: 1.7370 - accuracy: 0.2425 - val_loss: 1.7361 - val_accuracy: 0.2567\n",
            "Epoch 23/100\n",
            "419/419 [==============================] - 6s 15ms/step - loss: 1.7173 - accuracy: 0.2395 - val_loss: 1.7116 - val_accuracy: 0.2727\n",
            "Epoch 24/100\n",
            "419/419 [==============================] - 6s 15ms/step - loss: 1.6948 - accuracy: 0.2796 - val_loss: 1.6724 - val_accuracy: 0.2941\n",
            "Epoch 25/100\n",
            "419/419 [==============================] - 6s 15ms/step - loss: 1.6744 - accuracy: 0.2927 - val_loss: 1.6904 - val_accuracy: 0.3102\n",
            "Epoch 26/100\n",
            "419/419 [==============================] - 6s 15ms/step - loss: 1.6475 - accuracy: 0.3023 - val_loss: 1.6474 - val_accuracy: 0.2941\n",
            "Epoch 27/100\n",
            "419/419 [==============================] - 6s 15ms/step - loss: 1.6247 - accuracy: 0.3065 - val_loss: 1.6044 - val_accuracy: 0.3155\n",
            "Epoch 28/100\n",
            "419/419 [==============================] - 6s 15ms/step - loss: 1.5809 - accuracy: 0.3196 - val_loss: 1.5793 - val_accuracy: 0.3529\n",
            "Epoch 29/100\n",
            "419/419 [==============================] - 6s 15ms/step - loss: 1.5408 - accuracy: 0.3447 - val_loss: 1.5244 - val_accuracy: 0.3904\n",
            "Epoch 30/100\n",
            "419/419 [==============================] - 6s 14ms/step - loss: 1.4982 - accuracy: 0.3614 - val_loss: 1.4755 - val_accuracy: 0.3690\n",
            "Epoch 31/100\n",
            "419/419 [==============================] - 6s 14ms/step - loss: 1.4540 - accuracy: 0.3859 - val_loss: 1.4717 - val_accuracy: 0.3422\n",
            "Epoch 32/100\n",
            "419/419 [==============================] - 6s 14ms/step - loss: 1.4276 - accuracy: 0.3871 - val_loss: 1.4461 - val_accuracy: 0.3636\n",
            "Epoch 33/100\n",
            "419/419 [==============================] - 6s 14ms/step - loss: 1.4173 - accuracy: 0.3853 - val_loss: 1.4504 - val_accuracy: 0.3422\n",
            "Epoch 34/100\n",
            "419/419 [==============================] - 6s 14ms/step - loss: 1.3937 - accuracy: 0.4026 - val_loss: 1.3992 - val_accuracy: 0.3904\n",
            "Epoch 35/100\n",
            "419/419 [==============================] - 6s 14ms/step - loss: 1.3768 - accuracy: 0.4110 - val_loss: 1.3851 - val_accuracy: 0.4171\n",
            "Epoch 36/100\n",
            "419/419 [==============================] - 6s 14ms/step - loss: 1.3688 - accuracy: 0.4116 - val_loss: 1.3853 - val_accuracy: 0.4011\n",
            "Epoch 37/100\n",
            "419/419 [==============================] - 6s 14ms/step - loss: 1.3382 - accuracy: 0.4301 - val_loss: 1.3628 - val_accuracy: 0.4225\n",
            "Epoch 38/100\n",
            "419/419 [==============================] - 6s 14ms/step - loss: 1.3344 - accuracy: 0.4247 - val_loss: 1.3417 - val_accuracy: 0.4385\n",
            "Epoch 39/100\n",
            "419/419 [==============================] - 6s 14ms/step - loss: 1.3161 - accuracy: 0.4450 - val_loss: 1.3289 - val_accuracy: 0.4813\n",
            "Epoch 40/100\n",
            "419/419 [==============================] - 6s 14ms/step - loss: 1.3113 - accuracy: 0.4492 - val_loss: 1.3521 - val_accuracy: 0.4011\n",
            "Epoch 41/100\n",
            "419/419 [==============================] - 6s 14ms/step - loss: 1.2978 - accuracy: 0.4427 - val_loss: 1.3353 - val_accuracy: 0.4545\n",
            "Epoch 42/100\n",
            "419/419 [==============================] - 6s 14ms/step - loss: 1.2915 - accuracy: 0.4612 - val_loss: 1.3166 - val_accuracy: 0.4171\n",
            "Epoch 43/100\n",
            "419/419 [==============================] - 6s 14ms/step - loss: 1.2800 - accuracy: 0.4438 - val_loss: 1.2790 - val_accuracy: 0.4813\n",
            "Epoch 44/100\n",
            "419/419 [==============================] - 6s 14ms/step - loss: 1.2573 - accuracy: 0.4648 - val_loss: 1.2774 - val_accuracy: 0.4652\n",
            "Epoch 45/100\n",
            "419/419 [==============================] - 6s 14ms/step - loss: 1.2691 - accuracy: 0.4618 - val_loss: 1.2461 - val_accuracy: 0.4920\n",
            "Epoch 46/100\n",
            "419/419 [==============================] - 6s 14ms/step - loss: 1.2435 - accuracy: 0.4749 - val_loss: 1.4146 - val_accuracy: 0.3529\n",
            "Epoch 47/100\n",
            "419/419 [==============================] - 6s 15ms/step - loss: 1.2482 - accuracy: 0.4618 - val_loss: 1.3256 - val_accuracy: 0.4118\n",
            "Epoch 48/100\n",
            "419/419 [==============================] - 6s 15ms/step - loss: 1.2409 - accuracy: 0.4648 - val_loss: 1.2424 - val_accuracy: 0.4920\n",
            "Epoch 49/100\n",
            "419/419 [==============================] - 6s 15ms/step - loss: 1.2214 - accuracy: 0.4707 - val_loss: 1.2515 - val_accuracy: 0.4652\n",
            "Epoch 50/100\n",
            "419/419 [==============================] - 6s 15ms/step - loss: 1.2034 - accuracy: 0.4964 - val_loss: 1.2237 - val_accuracy: 0.5027\n",
            "Epoch 51/100\n",
            "419/419 [==============================] - 6s 15ms/step - loss: 1.2070 - accuracy: 0.4839 - val_loss: 1.2137 - val_accuracy: 0.4866\n",
            "Epoch 52/100\n",
            "419/419 [==============================] - 6s 15ms/step - loss: 1.2015 - accuracy: 0.4863 - val_loss: 1.2823 - val_accuracy: 0.4332\n",
            "Epoch 53/100\n",
            "419/419 [==============================] - 6s 15ms/step - loss: 1.1840 - accuracy: 0.4922 - val_loss: 1.1968 - val_accuracy: 0.5027\n",
            "Epoch 54/100\n",
            "419/419 [==============================] - 6s 15ms/step - loss: 1.1794 - accuracy: 0.4952 - val_loss: 1.2197 - val_accuracy: 0.4813\n",
            "Epoch 55/100\n",
            "419/419 [==============================] - 6s 15ms/step - loss: 1.1668 - accuracy: 0.5066 - val_loss: 1.2355 - val_accuracy: 0.4652\n",
            "Epoch 56/100\n",
            "419/419 [==============================] - 6s 15ms/step - loss: 1.1596 - accuracy: 0.5191 - val_loss: 1.1615 - val_accuracy: 0.5294\n",
            "Epoch 57/100\n",
            "419/419 [==============================] - 6s 15ms/step - loss: 1.1671 - accuracy: 0.5155 - val_loss: 1.1970 - val_accuracy: 0.4813\n",
            "Epoch 58/100\n",
            "419/419 [==============================] - 6s 15ms/step - loss: 1.1390 - accuracy: 0.5149 - val_loss: 1.1651 - val_accuracy: 0.4920\n",
            "Epoch 59/100\n",
            "419/419 [==============================] - 6s 15ms/step - loss: 1.1287 - accuracy: 0.5209 - val_loss: 1.1494 - val_accuracy: 0.5187\n",
            "Epoch 60/100\n",
            "419/419 [==============================] - 6s 15ms/step - loss: 1.1350 - accuracy: 0.5388 - val_loss: 1.1580 - val_accuracy: 0.4973\n",
            "Epoch 61/100\n",
            "419/419 [==============================] - 6s 15ms/step - loss: 1.1217 - accuracy: 0.5227 - val_loss: 1.1641 - val_accuracy: 0.4920\n",
            "Epoch 62/100\n",
            "419/419 [==============================] - 6s 15ms/step - loss: 1.0895 - accuracy: 0.5418 - val_loss: 1.2049 - val_accuracy: 0.4492\n",
            "Epoch 63/100\n",
            "419/419 [==============================] - 6s 15ms/step - loss: 1.1252 - accuracy: 0.5197 - val_loss: 1.1719 - val_accuracy: 0.4759\n",
            "Epoch 64/100\n",
            "419/419 [==============================] - 6s 15ms/step - loss: 1.0851 - accuracy: 0.5490 - val_loss: 1.1769 - val_accuracy: 0.4545\n",
            "Epoch 65/100\n",
            "419/419 [==============================] - 6s 15ms/step - loss: 1.0832 - accuracy: 0.5484 - val_loss: 1.1520 - val_accuracy: 0.5080\n",
            "Epoch 66/100\n",
            "419/419 [==============================] - 6s 15ms/step - loss: 1.0649 - accuracy: 0.5508 - val_loss: 1.1466 - val_accuracy: 0.4652\n",
            "Epoch 67/100\n",
            "419/419 [==============================] - 6s 15ms/step - loss: 1.0346 - accuracy: 0.5687 - val_loss: 1.1248 - val_accuracy: 0.4866\n",
            "Epoch 68/100\n",
            "419/419 [==============================] - 6s 15ms/step - loss: 1.0332 - accuracy: 0.5693 - val_loss: 1.1997 - val_accuracy: 0.4813\n",
            "Epoch 69/100\n",
            "419/419 [==============================] - 6s 15ms/step - loss: 1.0361 - accuracy: 0.5687 - val_loss: 1.1885 - val_accuracy: 0.4439\n",
            "Epoch 70/100\n",
            "419/419 [==============================] - 6s 15ms/step - loss: 1.0445 - accuracy: 0.5693 - val_loss: 1.1584 - val_accuracy: 0.5080\n",
            "Epoch 71/100\n",
            "419/419 [==============================] - 6s 15ms/step - loss: 1.0416 - accuracy: 0.5693 - val_loss: 1.1955 - val_accuracy: 0.4545\n",
            "Epoch 72/100\n",
            "419/419 [==============================] - 6s 15ms/step - loss: 1.0115 - accuracy: 0.5926 - val_loss: 1.1774 - val_accuracy: 0.4920\n",
            "Epoch 73/100\n",
            "419/419 [==============================] - 6s 15ms/step - loss: 1.0032 - accuracy: 0.5705 - val_loss: 1.1174 - val_accuracy: 0.5294\n",
            "Epoch 74/100\n",
            "419/419 [==============================] - 6s 15ms/step - loss: 0.9803 - accuracy: 0.6004 - val_loss: 1.1208 - val_accuracy: 0.5241\n",
            "Epoch 75/100\n",
            "419/419 [==============================] - 6s 15ms/step - loss: 1.0077 - accuracy: 0.5753 - val_loss: 1.1058 - val_accuracy: 0.5241\n",
            "Epoch 76/100\n",
            "419/419 [==============================] - 6s 15ms/step - loss: 0.9764 - accuracy: 0.5890 - val_loss: 1.1035 - val_accuracy: 0.5187\n",
            "Epoch 77/100\n",
            "419/419 [==============================] - 6s 15ms/step - loss: 0.9794 - accuracy: 0.5950 - val_loss: 1.1751 - val_accuracy: 0.5027\n",
            "Epoch 78/100\n",
            "419/419 [==============================] - 6s 15ms/step - loss: 0.9458 - accuracy: 0.6302 - val_loss: 1.1066 - val_accuracy: 0.5401\n",
            "Epoch 79/100\n",
            "419/419 [==============================] - 6s 15ms/step - loss: 0.9339 - accuracy: 0.6171 - val_loss: 1.1318 - val_accuracy: 0.5134\n",
            "Epoch 80/100\n",
            "419/419 [==============================] - 6s 15ms/step - loss: 0.9235 - accuracy: 0.6225 - val_loss: 1.1412 - val_accuracy: 0.5187\n",
            "Epoch 81/100\n",
            "419/419 [==============================] - 6s 15ms/step - loss: 0.9136 - accuracy: 0.6266 - val_loss: 1.1045 - val_accuracy: 0.5241\n",
            "Epoch 82/100\n",
            "419/419 [==============================] - 6s 15ms/step - loss: 0.9005 - accuracy: 0.6338 - val_loss: 1.1572 - val_accuracy: 0.5027\n",
            "Epoch 83/100\n",
            "419/419 [==============================] - 6s 15ms/step - loss: 0.8934 - accuracy: 0.6476 - val_loss: 1.1003 - val_accuracy: 0.5187\n",
            "Epoch 84/100\n",
            "419/419 [==============================] - 6s 15ms/step - loss: 0.8776 - accuracy: 0.6559 - val_loss: 1.0705 - val_accuracy: 0.5348\n",
            "Epoch 85/100\n",
            "419/419 [==============================] - 6s 15ms/step - loss: 0.8742 - accuracy: 0.6517 - val_loss: 1.1525 - val_accuracy: 0.5027\n",
            "Epoch 86/100\n",
            "419/419 [==============================] - 6s 15ms/step - loss: 0.8530 - accuracy: 0.6732 - val_loss: 1.2083 - val_accuracy: 0.4706\n",
            "Epoch 87/100\n",
            "419/419 [==============================] - 6s 15ms/step - loss: 0.8507 - accuracy: 0.6583 - val_loss: 1.0785 - val_accuracy: 0.5401\n",
            "Epoch 88/100\n",
            "419/419 [==============================] - 6s 15ms/step - loss: 0.8248 - accuracy: 0.6732 - val_loss: 1.0970 - val_accuracy: 0.5241\n",
            "Epoch 89/100\n",
            "419/419 [==============================] - 6s 15ms/step - loss: 0.8102 - accuracy: 0.6810 - val_loss: 1.0381 - val_accuracy: 0.5722\n",
            "Epoch 90/100\n",
            "419/419 [==============================] - 6s 15ms/step - loss: 0.8410 - accuracy: 0.6583 - val_loss: 1.0596 - val_accuracy: 0.5561\n",
            "Epoch 91/100\n",
            "419/419 [==============================] - 6s 15ms/step - loss: 0.7892 - accuracy: 0.6977 - val_loss: 1.0661 - val_accuracy: 0.5455\n",
            "Epoch 92/100\n",
            "419/419 [==============================] - 6s 15ms/step - loss: 0.7826 - accuracy: 0.6822 - val_loss: 1.0111 - val_accuracy: 0.5561\n",
            "Epoch 93/100\n",
            "419/419 [==============================] - 6s 15ms/step - loss: 0.7550 - accuracy: 0.7067 - val_loss: 1.0850 - val_accuracy: 0.5401\n",
            "Epoch 94/100\n",
            "419/419 [==============================] - 6s 15ms/step - loss: 0.7641 - accuracy: 0.7013 - val_loss: 1.1449 - val_accuracy: 0.5241\n",
            "Epoch 95/100\n",
            "419/419 [==============================] - 6s 15ms/step - loss: 0.7552 - accuracy: 0.7025 - val_loss: 1.0682 - val_accuracy: 0.5508\n",
            "Epoch 96/100\n",
            "419/419 [==============================] - 6s 14ms/step - loss: 0.7328 - accuracy: 0.7121 - val_loss: 1.0221 - val_accuracy: 0.5668\n",
            "Epoch 97/100\n",
            "419/419 [==============================] - 6s 14ms/step - loss: 0.7443 - accuracy: 0.7073 - val_loss: 1.0352 - val_accuracy: 0.5668\n",
            "Epoch 98/100\n",
            "419/419 [==============================] - 6s 15ms/step - loss: 0.7219 - accuracy: 0.7151 - val_loss: 0.9537 - val_accuracy: 0.5989\n",
            "Epoch 99/100\n",
            "419/419 [==============================] - 6s 15ms/step - loss: 0.6877 - accuracy: 0.7473 - val_loss: 1.1101 - val_accuracy: 0.5615\n",
            "Epoch 100/100\n",
            "419/419 [==============================] - 6s 15ms/step - loss: 0.6900 - accuracy: 0.7348 - val_loss: 0.8983 - val_accuracy: 0.6257\n"
          ]
        }
      ]
    },
    {
      "cell_type": "code",
      "source": [
        "# Evaluate the trained model.\n",
        "model_evaluation_history = LRCN_model.evaluate(features_test, labels_test)"
      ],
      "metadata": {
        "colab": {
          "base_uri": "https://localhost:8080/"
        },
        "id": "MSwdYqJLiATB",
        "outputId": "1a3972ff-edf1-4b2b-f871-fb0e58562a7b"
      },
      "execution_count": 15,
      "outputs": [
        {
          "output_type": "stream",
          "name": "stdout",
          "text": [
            "7/7 [==============================] - 0s 31ms/step - loss: 0.8323 - accuracy: 0.6715\n"
          ]
        }
      ]
    },
    {
      "cell_type": "code",
      "source": [
        "# Get the loss and accuracy from model_evaluation_history.\n",
        "model_evaluation_loss, model_evaluation_accuracy = model_evaluation_history\n",
        "\n",
        "# Define the string date format.\n",
        "# Get the current Date and Time in a DateTime Object.\n",
        "# Convert the DateTime object to string according to the style mentioned in date_time_format string.\n",
        "date_time_format = '%Y_%m_%d__%H_%M_%S'\n",
        "current_date_time_dt = dt.datetime.now()\n",
        "current_date_time_string = dt.datetime.strftime(current_date_time_dt, date_time_format)\n",
        "    \n",
        "# Define a useful name for our model to make it easy for us while navigating through multiple saved models.\n",
        "model_file_name = f'LRCN_model___Date_Time_{current_date_time_string}___Loss_{model_evaluation_loss}___Accuracy_{model_evaluation_accuracy}.h5'\n",
        "\n",
        "# Save the Model.\n",
        "LRCN_model.save(model_file_name)"
      ],
      "metadata": {
        "id": "D3J57fVJRCEa"
      },
      "execution_count": 16,
      "outputs": []
    },
    {
      "cell_type": "code",
      "source": [
        "def plot_metric(model_training_history, metric_name_1, metric_name_2, plot_name):\n",
        "    '''\n",
        "    This function will plot the metrics passed to it in a graph.\n",
        "    Args:\n",
        "        model_training_history: A history object containing a record of training and validation \n",
        "                                loss values and metrics values at successive epochs\n",
        "        metric_name_1:          The name of the first metric that needs to be plotted in the graph.\n",
        "        metric_name_2:          The name of the second metric that needs to be plotted in the graph.\n",
        "        plot_name:              The title of the graph.\n",
        "    '''\n",
        "    \n",
        "    # Get metric values using metric names as identifiers.\n",
        "    metric_value_1 = model_training_history.history[metric_name_1]\n",
        "    metric_value_2 = model_training_history.history[metric_name_2]\n",
        "    \n",
        "    # Construct a range object which will be used as x-axis (horizontal plane) of the graph.\n",
        "    epochs = range(len(metric_value_1))\n",
        "\n",
        "    # Plot the Graph.\n",
        "    plt.plot(epochs, metric_value_1, 'blue', label = metric_name_1)\n",
        "    plt.plot(epochs, metric_value_2, 'red', label = metric_name_2)\n",
        "\n",
        "    # Add title to the plot.\n",
        "    plt.title(str(plot_name))\n",
        "\n",
        "    # Add legend to the plot.\n",
        "    plt.legend()"
      ],
      "metadata": {
        "id": "sXhBv91xRFgU"
      },
      "execution_count": 17,
      "outputs": []
    },
    {
      "cell_type": "code",
      "source": [
        "# Visualize the training and validation loss metrices.\n",
        "plot_metric(LRCN_model_training_history, 'loss', 'val_loss', 'Total Loss vs Total Validation Loss')"
      ],
      "metadata": {
        "colab": {
          "base_uri": "https://localhost:8080/",
          "height": 281
        },
        "id": "cKhf3si1RJUW",
        "outputId": "afb0d883-0992-4f2b-ea8d-6e14e318a4bf"
      },
      "execution_count": 18,
      "outputs": [
        {
          "output_type": "display_data",
          "data": {
            "text/plain": [
              "<Figure size 432x288 with 1 Axes>"
            ],
            "image/png": "[encoded data removed]"
          },
          "metadata": {
            "needs_background": "light"
          }
        }
      ]
    },
    {
      "cell_type": "code",
      "source": [
        "# Visualize the training and validation accuracy metrices.\n",
        "plot_metric(LRCN_model_training_history, 'accuracy', 'val_accuracy', 'Total Accuracy vs Total Validation Accuracy')"
      ],
      "metadata": {
        "colab": {
          "base_uri": "https://localhost:8080/",
          "height": 281
        },
        "id": "5JB37wh3RLWX",
        "outputId": "f0e9e76a-cc32-488c-9d51-d40ad86b66fe"
      },
      "execution_count": 19,
      "outputs": [
        {
          "output_type": "display_data",
          "data": {
            "text/plain": [
              "<Figure size 432x288 with 1 Axes>"
            ],
            "image/png": "[encoded data removed]"
          },
          "metadata": {
            "needs_background": "light"
          }
        }
      ]
    },
    {
      "cell_type": "code",
      "source": [
        "predictions =  LRCN_model.predict(features_test)\n",
        "predictions\n"
      ],
      "metadata": {
        "colab": {
          "base_uri": "https://localhost:8080/"
        },
        "id": "yM7edJgyRf-P",
        "outputId": "176a09ce-6123-41c5-cc0c-eb85e5fe9468"
      },
      "execution_count": 20,
      "outputs": [
        {
          "output_type": "execute_result",
          "data": {
            "text/plain": [
              "array([[0.33026734, 0.35525304, 0.04992278, 0.22416618, 0.01938601,\n",
              "        0.02100463],\n",
              "       [0.18557578, 0.04959902, 0.00726199, 0.6500197 , 0.08024511,\n",
              "        0.02729839],\n",
              "       [0.01056517, 0.00581057, 0.9649354 , 0.0075567 , 0.004181  ,\n",
              "        0.00695124],\n",
              "       ...,\n",
              "       [0.04858298, 0.0141644 , 0.03212481, 0.48080826, 0.34683114,\n",
              "        0.07748836],\n",
              "       [0.05923233, 0.16033475, 0.771423  , 0.00336543, 0.00167724,\n",
              "        0.00396734],\n",
              "       [0.50769746, 0.21810006, 0.09726723, 0.1444648 , 0.01930168,\n",
              "        0.01316875]], dtype=float32)"
            ]
          },
          "metadata": {},
          "execution_count": 20
        }
      ]
    },
    {
      "cell_type": "code",
      "source": [
        "preds=predictions.argmax(axis=1)\n",
        "preds"
      ],
      "metadata": {
        "colab": {
          "base_uri": "https://localhost:8080/"
        },
        "id": "DNHaLfq2RjeT",
        "outputId": "30e19ade-afa3-4ad3-af80-34cec3071de3"
      },
      "execution_count": 21,
      "outputs": [
        {
          "output_type": "execute_result",
          "data": {
            "text/plain": [
              "array([1, 3, 2, 3, 4, 2, 3, 1, 3, 3, 3, 0, 2, 0, 5, 3, 4, 1, 1, 1, 4, 4,\n",
              "       0, 2, 1, 4, 4, 4, 4, 3, 4, 3, 4, 3, 4, 2, 4, 1, 2, 4, 2, 2, 1, 3,\n",
              "       2, 1, 5, 5, 4, 4, 2, 1, 1, 4, 3, 1, 1, 1, 2, 5, 4, 4, 5, 3, 1, 3,\n",
              "       1, 0, 4, 1, 1, 1, 4, 4, 4, 4, 1, 3, 4, 3, 4, 4, 3, 3, 0, 1, 1, 3,\n",
              "       3, 5, 2, 1, 0, 1, 4, 3, 1, 2, 0, 3, 3, 4, 4, 5, 5, 3, 3, 1, 4, 1,\n",
              "       5, 4, 0, 1, 4, 0, 3, 1, 1, 1, 3, 5, 1, 5, 1, 4, 5, 2, 1, 1, 2, 1,\n",
              "       1, 2, 1, 1, 3, 0, 1, 1, 2, 2, 3, 3, 1, 2, 3, 0, 0, 3, 4, 3, 4, 4,\n",
              "       2, 2, 1, 4, 0, 3, 1, 3, 2, 2, 4, 0, 0, 1, 4, 4, 4, 3, 1, 4, 3, 1,\n",
              "       4, 0, 4, 5, 5, 1, 0, 4, 4, 3, 1, 3, 3, 4, 1, 4, 1, 1, 3, 4, 0, 1,\n",
              "       3, 4, 4, 2, 3, 2, 3, 2, 0])"
            ]
          },
          "metadata": {},
          "execution_count": 21
        }
      ]
    },
    {
      "cell_type": "code",
      "source": [
        "new_preds = preds.astype(int).flatten()\n",
        "new_preds"
      ],
      "metadata": {
        "colab": {
          "base_uri": "https://localhost:8080/"
        },
        "id": "0W618McKRl02",
        "outputId": "d6cedb3a-9cd8-4370-b61d-fd73e6135486"
      },
      "execution_count": 22,
      "outputs": [
        {
          "output_type": "execute_result",
          "data": {
            "text/plain": [
              "array([1, 3, 2, 3, 4, 2, 3, 1, 3, 3, 3, 0, 2, 0, 5, 3, 4, 1, 1, 1, 4, 4,\n",
              "       0, 2, 1, 4, 4, 4, 4, 3, 4, 3, 4, 3, 4, 2, 4, 1, 2, 4, 2, 2, 1, 3,\n",
              "       2, 1, 5, 5, 4, 4, 2, 1, 1, 4, 3, 1, 1, 1, 2, 5, 4, 4, 5, 3, 1, 3,\n",
              "       1, 0, 4, 1, 1, 1, 4, 4, 4, 4, 1, 3, 4, 3, 4, 4, 3, 3, 0, 1, 1, 3,\n",
              "       3, 5, 2, 1, 0, 1, 4, 3, 1, 2, 0, 3, 3, 4, 4, 5, 5, 3, 3, 1, 4, 1,\n",
              "       5, 4, 0, 1, 4, 0, 3, 1, 1, 1, 3, 5, 1, 5, 1, 4, 5, 2, 1, 1, 2, 1,\n",
              "       1, 2, 1, 1, 3, 0, 1, 1, 2, 2, 3, 3, 1, 2, 3, 0, 0, 3, 4, 3, 4, 4,\n",
              "       2, 2, 1, 4, 0, 3, 1, 3, 2, 2, 4, 0, 0, 1, 4, 4, 4, 3, 1, 4, 3, 1,\n",
              "       4, 0, 4, 5, 5, 1, 0, 4, 4, 3, 1, 3, 3, 4, 1, 4, 1, 1, 3, 4, 0, 1,\n",
              "       3, 4, 4, 2, 3, 2, 3, 2, 0])"
            ]
          },
          "metadata": {},
          "execution_count": 22
        }
      ]
    },
    {
      "cell_type": "code",
      "source": [
        "\n",
        "from sklearn.metrics import classification_report, confusion_matrix,accuracy_score\n",
        "import seaborn as sn\n",
        "import pandas as pd\n",
        "import numpy as np\n",
        "new_labels=np.argmax(labels_test, axis=1)\n",
        "print(classification_report(new_labels,new_preds))\n",
        "\n",
        "acc = float(accuracy_score(new_labels,new_preds))*100\n",
        "print(\"----accuracy score %s ----\" % acc)\n",
        "\n",
        "cm = confusion_matrix(new_labels,new_preds)\n",
        "#df_cm = pd.DataFrame(cm)\n",
        "class_names = ['neutral','calm', 'happy','sad','angry', 'fearful' ]\n",
        "df_cm = pd.DataFrame(cm, index=class_names, columns=class_names,)\n",
        "sn.heatmap(df_cm, annot=True, fmt='')\n",
        "plt.show()\n"
      ],
      "metadata": {
        "colab": {
          "base_uri": "https://localhost:8080/",
          "height": 508
        },
        "id": "cTET95L8RoVW",
        "outputId": "b2d81deb-8c81-4f63-dce9-1237d5aa50a6"
      },
      "execution_count": 23,
      "outputs": [
        {
          "output_type": "stream",
          "name": "stdout",
          "text": [
            "              precision    recall  f1-score   support\n",
            "\n",
            "           0       0.74      0.52      0.61        27\n",
            "           1       0.72      0.86      0.78        44\n",
            "           2       0.92      0.75      0.83        32\n",
            "           3       0.59      0.70      0.64        37\n",
            "           4       0.51      0.81      0.63        32\n",
            "           5       0.79      0.31      0.45        35\n",
            "\n",
            "    accuracy                           0.67       207\n",
            "   macro avg       0.71      0.66      0.66       207\n",
            "weighted avg       0.71      0.67      0.66       207\n",
            "\n",
            "----accuracy score 67.14975845410628 ----\n"
          ]
        },
        {
          "output_type": "display_data",
          "data": {
            "text/plain": [
              "<Figure size 432x288 with 2 Axes>"
            ],
            "image/png": "[encoded data removed]"
          },
          "metadata": {
            "needs_background": "light"
          }
        }
      ]
    },
    {
      "cell_type": "code",
      "source": [
        ""
      ],
      "metadata": {
        "id": "c3nbyK6BfnDR"
      },
      "execution_count": 23,
      "outputs": []
    }
  ]
}