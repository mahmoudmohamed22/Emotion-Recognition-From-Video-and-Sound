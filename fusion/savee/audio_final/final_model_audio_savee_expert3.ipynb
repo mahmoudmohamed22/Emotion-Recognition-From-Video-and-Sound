{
  "cells": [
    {
      "cell_type": "code",
      "execution_count": 1,
      "metadata": {
        "colab": {
          "base_uri": "https://localhost:8080/"
        },
        "id": "Ov-QDEMOtb8r",
        "outputId": "9ea475c8-f1f2-4464-bd5c-01c57be1e2e3"
      },
      "outputs": [
        {
          "output_type": "stream",
          "name": "stdout",
          "text": [
            "Mounted at /content/drive\n"
          ]
        }
      ],
      "source": [
        "from google.colab import drive\n",
        "drive.mount('/content/drive')"
      ]
    },
    {
      "cell_type": "code",
      "execution_count": 2,
      "metadata": {
        "colab": {
          "base_uri": "https://localhost:8080/",
          "height": 17
        },
        "id": "NgJohC6sdr-S",
        "outputId": "fc8b0db4-45c1-4bf9-bf7b-ca7420c5fab0"
      },
      "outputs": [
        {
          "output_type": "display_data",
          "data": {
            "text/html": [
              "        <script type=\"text/javascript\">\n",
              "        window.PlotlyConfig = {MathJaxConfig: 'local'};\n",
              "        if (window.MathJax) {MathJax.Hub.Config({SVG: {font: \"STIX-Web\"}});}\n",
              "        if (typeof require !== 'undefined') {\n",
              "        require.undef(\"plotly\");\n",
              "        requirejs.config({\n",
              "            paths: {\n",
              "                'plotly': ['https://cdn.plot.ly/plotly-2.8.3.min']\n",
              "            }\n",
              "        });\n",
              "        require(['plotly'], function(Plotly) {\n",
              "            window._Plotly = Plotly;\n",
              "        });\n",
              "        }\n",
              "        </script>\n",
              "        "
            ]
          },
          "metadata": {}
        }
      ],
      "source": [
        "# Orignial Notebook: https://github.com/MITESHPUTHRANNEU/Speech-Emotion-Analyzer/blob/master/final_results_gender_test.ipynb\n",
        "# This notebook author: Reza Chu\n",
        "# Last Editing Date: 31st May 2019\n",
        "\n",
        "## Python\n",
        "import os\n",
        "import random\n",
        "import sys\n",
        "\n",
        "import IPython\n",
        "from IPython.display import Audio\n",
        "from IPython.display import Image\n",
        "import matplotlib.pyplot as plt\n",
        "\n",
        "## Package\n",
        "import glob \n",
        "import keras\n",
        "import IPython.display as ipd\n",
        "import librosa\n",
        "import librosa.display\n",
        "import matplotlib.pyplot as plt\n",
        "import numpy as np\n",
        "import pandas as pd\n",
        "import plotly.graph_objs as go\n",
        "import plotly.offline as py\n",
        "import plotly.tools as tls\n",
        "import seaborn as sns\n",
        "import scipy.io.wavfile\n",
        "import tensorflow as tf\n",
        "py.init_notebook_mode(connected=True)\n",
        "\n",
        "## Keras\n",
        "from keras import regularizers\n",
        "from keras.callbacks import ModelCheckpoint, LearningRateScheduler, EarlyStopping\n",
        "from keras.callbacks import  History, ReduceLROnPlateau, CSVLogger\n",
        "from keras.models import Model, Sequential\n",
        "from keras.layers import Dense, Embedding, LSTM\n",
        "from keras.layers import Input, Flatten, Dropout, Activation, BatchNormalization\n",
        "from keras.layers import Conv1D, MaxPooling1D, AveragePooling1D\n",
        "from keras.preprocessing import sequence\n",
        "from keras.preprocessing.sequence import pad_sequences\n",
        "from keras.preprocessing.text import Tokenizer\n",
        "from keras.utils import np_utils\n",
        "from tensorflow.keras.utils import to_categorical\n",
        "\n",
        "## Sklearn\n",
        "from sklearn.metrics import confusion_matrix\n",
        "from sklearn.preprocessing import LabelEncoder\n",
        "\n",
        "## Rest\n",
        "from scipy.fftpack import fft\n",
        "from scipy import signal\n",
        "from scipy.io import wavfile\n",
        "from tqdm import tqdm\n",
        "\n",
        "input_duration=3\n",
        "# % pylab inline"
      ]
    },
    {
      "cell_type": "code",
      "source": [
        "#only SAVEE data set\n",
        "import time\n",
        "import os\n",
        "import librosa\n",
        "from librosa import display\n",
        "import matplotlib.pyplot as plt\n",
        "#sad/sa2dc.avi\n",
        "labels = []\n",
        "video_name=[]\n",
        "audio_name=[]\n",
        "features=[]\n",
        "count=0\n",
        "start_time = time.time()\n",
        "CLASSES_LIST=['KL','JK ','JE','DC']\n",
        "DATASET_DIR = '/content/drive/My Drive/SAVEE'\n",
        "emotion_LIST = [\"neutral\", \"happy\", \"sad\",\"angry\",\"fearful\"]\n",
        "for class_index, class_name in enumerate(CLASSES_LIST):\n",
        "#for subdir, dirs, files in os.walk(path):\n",
        "  print(class_name)\n",
        "  #dir=subdir.split('/')[4]\n",
        "  #print(dir)\n",
        "  \n",
        "  files= os.listdir(os.path.join(DATASET_DIR, class_name))\n",
        "  for file in files:\n",
        "      try:\n",
        "        print(file)\n",
        "        #Load librosa array, obtain mfcss, store the file and the mcss information in a new array\n",
        "        X, sample_rate = librosa.load(DATASET_DIR+'/'+class_name+'/'+file, res_type='kaiser_fast')\n",
        "        mfccs = np.mean(librosa.feature.mfcc(y=X, sr=sample_rate, n_mfcc=40).T,axis=0) \n",
        "        count +=1\n",
        "        # The instruction below converts the labels (from 1 to 8) to a series from 0 to 7\n",
        "        # This is because our predictor needs to start from 0 otherwise it will try to predict also 0.\n",
        "        #file = int(file[7:8]) - 1 \n",
        "        #0 = neutral, 1 = happy, 2 = sad, 3 = angry, 4 = fearful, 6 = disgust, 7 = surprised\n",
        "        if file.startswith('a'):\n",
        "            emotion=3\n",
        "            c='a'\n",
        "    \n",
        "        elif file.startswith('f'):\n",
        "            emotion=4\n",
        "            c='f'\n",
        "        elif file.startswith('h'):\n",
        "            emotion=1\n",
        "            c='h'\n",
        "        elif file.startswith('n'):\n",
        "            emotion=0\n",
        "            c='n'\n",
        "        elif file.startswith('sa'):\n",
        "            emotion=2\n",
        "            c='sa'\n",
        "       \n",
        "        else:\n",
        "            continue\n",
        "        my_class_name=class_name\n",
        "        my_class_name=my_class_name.replace(\" \", \"\")\n",
        "        num=file.split('.')[0]\n",
        "        #print(num)\n",
        "        if(c=='sa'):\n",
        "          num=num[2:]\n",
        "        else:\n",
        "          num=num[1:]\n",
        "        num=int(num)\n",
        "        num=str(num)\n",
        "        #print(num)\n",
        "       \n",
        "        v=emotion_LIST[emotion]+'/'+c+num+my_class_name.lower()+'.avi'\n",
        "        video_name.append(v)\n",
        "        a=class_name+'/'+file\n",
        "\n",
        "        audio_name.append(a)\n",
        "        labels.append(emotion)\n",
        "        \n",
        "        features.append(mfccs)\n",
        "      # If the file is not valid, skip it\n",
        "      except ValueError:\n",
        "        continue\n",
        "\n",
        "print(\"--- Data loaded. Loading time: %s seconds ---\" % (time.time() - start_time))"
      ],
      "metadata": {
        "colab": {
          "base_uri": "https://localhost:8080/"
        },
        "id": "5Jb9K9BxckxP",
        "outputId": "347cbbba-6a58-4bab-9cd8-f777950dd2cd"
      },
      "execution_count": 3,
      "outputs": [
        {
          "output_type": "stream",
          "name": "stdout",
          "text": [
            "KL\n",
            "a01.wav\n",
            "a02.wav\n",
            "a03.wav\n",
            "a04.wav\n",
            "a05.wav\n",
            "a07.wav\n",
            "a10.wav\n",
            "a09.wav\n",
            "a08.wav\n",
            "a06.wav\n",
            "a15.wav\n",
            "a14.wav\n",
            "a13.wav\n",
            "a12.wav\n",
            "a11.wav\n",
            "d05.wav\n",
            "d04.wav\n",
            "d03.wav\n",
            "d02.wav\n",
            "d01.wav\n",
            "d10.wav\n",
            "d09.wav\n",
            "d08.wav\n",
            "d07.wav\n",
            "d06.wav\n",
            "d15.wav\n",
            "d14.wav\n",
            "d13.wav\n",
            "d12.wav\n",
            "d11.wav\n",
            "f05.wav\n",
            "f04.wav\n",
            "f03.wav\n",
            "f02.wav\n",
            "f01.wav\n",
            "f10.wav\n",
            "f09.wav\n",
            "f08.wav\n",
            "f07.wav\n",
            "f06.wav\n",
            "f15.wav\n",
            "f14.wav\n",
            "f13.wav\n",
            "f12.wav\n",
            "f11.wav\n",
            "h05.wav\n",
            "h04.wav\n",
            "h03.wav\n",
            "h02.wav\n",
            "h01.wav\n",
            "h10.wav\n",
            "h09.wav\n",
            "h08.wav\n",
            "h07.wav\n",
            "h06.wav\n",
            "h15.wav\n",
            "h14.wav\n",
            "h13.wav\n",
            "h12.wav\n",
            "h11.wav\n",
            "sa05.wav\n",
            "sa04.wav\n",
            "sa03.wav\n",
            "sa02.wav\n",
            "sa01.wav\n",
            "sa10.wav\n",
            "sa09.wav\n",
            "sa08.wav\n",
            "sa07.wav\n",
            "sa06.wav\n",
            "sa11.wav\n",
            "sa14.wav\n",
            "sa13.wav\n",
            "sa12.wav\n",
            "sa15.wav\n",
            "su05.wav\n",
            "su03.wav\n",
            "su02.wav\n",
            "su01.wav\n",
            "su10.wav\n",
            "su09.wav\n",
            "su08.wav\n",
            "su07.wav\n",
            "su06.wav\n",
            "su15.wav\n",
            "su14.wav\n",
            "su13.wav\n",
            "su12.wav\n",
            "su11.wav\n",
            "su04.wav\n",
            "n01.wav\n",
            "n05.wav\n",
            "n04.wav\n",
            "n03.wav\n",
            "n02.wav\n",
            "n10.wav\n",
            "n09.wav\n",
            "n08.wav\n",
            "n07.wav\n",
            "n06.wav\n",
            "n20.wav\n",
            "n19.wav\n",
            "n18.wav\n",
            "n17.wav\n",
            "n16.wav\n",
            "n25.wav\n",
            "n24.wav\n",
            "n23.wav\n",
            "n22.wav\n",
            "n21.wav\n",
            "n30.wav\n",
            "n29.wav\n",
            "n28.wav\n",
            "n27.wav\n",
            "n26.wav\n",
            "n15.wav\n",
            "n14.wav\n",
            "n13.wav\n",
            "n12.wav\n",
            "n11.wav\n",
            "JK \n",
            "a01.wav\n",
            "a02.wav\n",
            "a03.wav\n",
            "a04.wav\n",
            "a05.wav\n",
            "a06.wav\n",
            "a07.wav\n",
            "a08.wav\n",
            "a09.wav\n",
            "a10.wav\n",
            "a11.wav\n",
            "a12.wav\n",
            "a13.wav\n",
            "a14.wav\n",
            "a15.wav\n",
            "d01.wav\n",
            "d02.wav\n",
            "d03.wav\n",
            "d04.wav\n",
            "d06.wav\n",
            "d07.wav\n",
            "d08.wav\n",
            "d09.wav\n",
            "d11.wav\n",
            "d12.wav\n",
            "d13.wav\n",
            "d14.wav\n",
            "d15.wav\n",
            "d05.wav\n",
            "d10.wav\n",
            "f01.wav\n",
            "f02.wav\n",
            "f03.wav\n",
            "f04.wav\n",
            "f05.wav\n",
            "f06.wav\n",
            "f07.wav\n",
            "f08.wav\n",
            "f10.wav\n",
            "f11.wav\n",
            "f12.wav\n",
            "f13.wav\n",
            "f14.wav\n",
            "f15.wav\n",
            "f09.wav\n",
            "h01.wav\n",
            "h02.wav\n",
            "h03.wav\n",
            "h04.wav\n",
            "h05.wav\n",
            "h06.wav\n",
            "h07.wav\n",
            "h08.wav\n",
            "h09.wav\n",
            "h10.wav\n",
            "h11.wav\n",
            "h12.wav\n",
            "h13.wav\n",
            "h14.wav\n",
            "h15.wav\n",
            "n01.wav\n",
            "n02.wav\n",
            "n03.wav\n",
            "n04.wav\n",
            "n05.wav\n",
            "n06.wav\n",
            "n07.wav\n",
            "n08.wav\n",
            "n09.wav\n",
            "n10.wav\n",
            "n11.wav\n",
            "n12.wav\n",
            "n13.wav\n",
            "n14.wav\n",
            "n15.wav\n",
            "n20.wav\n",
            "n19.wav\n",
            "n18.wav\n",
            "n17.wav\n",
            "n16.wav\n",
            "n25.wav\n",
            "n23.wav\n",
            "n22.wav\n",
            "n21.wav\n",
            "n26.wav\n",
            "n30.wav\n",
            "n29.wav\n",
            "n28.wav\n",
            "n27.wav\n",
            "sa05.wav\n",
            "sa04.wav\n",
            "sa03.wav\n",
            "sa02.wav\n",
            "sa01.wav\n",
            "sa10.wav\n",
            "sa09.wav\n",
            "sa08.wav\n",
            "sa07.wav\n",
            "sa06.wav\n",
            "sa15.wav\n",
            "sa14.wav\n",
            "sa13.wav\n",
            "sa12.wav\n",
            "sa11.wav\n",
            "su05.wav\n",
            "su04.wav\n",
            "su15.wav\n",
            "su14.wav\n",
            "su13.wav\n",
            "su12.wav\n",
            "su11.wav\n",
            "su10.wav\n",
            "su09.wav\n",
            "su08.wav\n",
            "su07.wav\n",
            "su06.wav\n",
            "su03.wav\n",
            "su02.wav\n",
            "su01.wav\n",
            "n24.wav\n",
            "JE\n",
            "a01.wav\n",
            "a02.wav\n",
            "a03.wav\n",
            "a04.wav\n",
            "a05.wav\n",
            "a07.wav\n",
            "a06.wav\n",
            "a08.wav\n",
            "a09.wav\n",
            "a10.wav\n",
            "a11.wav\n",
            "a12.wav\n",
            "a13.wav\n",
            "a14.wav\n",
            "a15.wav\n",
            "d05.wav\n",
            "d04.wav\n",
            "d03.wav\n",
            "d02.wav\n",
            "d01.wav\n",
            "d09.wav\n",
            "d08.wav\n",
            "d07.wav\n",
            "d06.wav\n",
            "d10.wav\n",
            "d15.wav\n",
            "d14.wav\n",
            "d13.wav\n",
            "d12.wav\n",
            "d11.wav\n",
            "f05.wav\n",
            "f04.wav\n",
            "f03.wav\n",
            "f02.wav\n",
            "f01.wav\n",
            "f10.wav\n",
            "f09.wav\n",
            "f08.wav\n",
            "f07.wav\n",
            "f06.wav\n",
            "f14.wav\n",
            "f13.wav\n",
            "f12.wav\n",
            "f11.wav\n",
            "f15.wav\n",
            "h05.wav\n",
            "h04.wav\n",
            "h03.wav\n",
            "h02.wav\n",
            "h01.wav\n",
            "h10.wav\n",
            "h09.wav\n",
            "h08.wav\n",
            "h07.wav\n",
            "h06.wav\n",
            "h14.wav\n",
            "h13.wav\n",
            "h12.wav\n",
            "h11.wav\n",
            "h15.wav\n",
            "n18.wav\n",
            "n17.wav\n",
            "n16.wav\n",
            "n05.wav\n",
            "n04.wav\n",
            "n03.wav\n",
            "n02.wav\n",
            "n01.wav\n",
            "n10.wav\n",
            "n09.wav\n",
            "n08.wav\n",
            "n07.wav\n",
            "n06.wav\n",
            "n15.wav\n",
            "n14.wav\n",
            "n13.wav\n",
            "n12.wav\n",
            "n11.wav\n",
            "n20.wav\n",
            "n19.wav\n",
            "n25.wav\n",
            "n24.wav\n",
            "n23.wav\n",
            "n22.wav\n",
            "n21.wav\n",
            "n30.wav\n",
            "n29.wav\n",
            "n28.wav\n",
            "n27.wav\n",
            "n26.wav\n",
            "sa04.wav\n",
            "sa03.wav\n",
            "sa02.wav\n",
            "sa01.wav\n",
            "sa13.wav\n",
            "sa12.wav\n",
            "sa11.wav\n",
            "sa05.wav\n",
            "sa10.wav\n",
            "sa09.wav\n",
            "sa08.wav\n",
            "sa07.wav\n",
            "sa06.wav\n",
            "sa15.wav\n",
            "sa14.wav\n",
            "su05.wav\n",
            "su04.wav\n",
            "su03.wav\n",
            "su02.wav\n",
            "su01.wav\n",
            "su10.wav\n",
            "su09.wav\n",
            "su08.wav\n",
            "su07.wav\n",
            "su06.wav\n",
            "su13.wav\n",
            "su12.wav\n",
            "su11.wav\n",
            "su15.wav\n",
            "su14.wav\n",
            "DC\n",
            "a15.wav\n",
            "a14.wav\n",
            "a05.wav\n",
            "a04.wav\n",
            "a03.wav\n",
            "a02.wav\n",
            "a01.wav\n",
            "a06.wav\n",
            "a07.wav\n",
            "a08.wav\n",
            "a09.wav\n",
            "a10.wav\n",
            "a13.wav\n",
            "a12.wav\n",
            "a11.wav\n",
            "d01.wav\n",
            "d02.wav\n",
            "d03.wav\n",
            "d04.wav\n",
            "d05.wav\n",
            "d10.wav\n",
            "d09.wav\n",
            "d08.wav\n",
            "d07.wav\n",
            "d06.wav\n",
            "d15.wav\n",
            "d14.wav\n",
            "d13.wav\n",
            "d12.wav\n",
            "d11.wav\n",
            "f01.wav\n",
            "f02.wav\n",
            "f03.wav\n",
            "f04.wav\n",
            "f05.wav\n",
            "f10.wav\n",
            "f09.wav\n",
            "f08.wav\n",
            "f07.wav\n",
            "f06.wav\n",
            "f15.wav\n",
            "f14.wav\n",
            "f13.wav\n",
            "f12.wav\n",
            "f11.wav\n",
            "h01.wav\n",
            "h02.wav\n",
            "h03.wav\n",
            "h04.wav\n",
            "h05.wav\n",
            "h10.wav\n",
            "h09.wav\n",
            "h08.wav\n",
            "h07.wav\n",
            "h06.wav\n",
            "h11.wav\n",
            "h12.wav\n",
            "h13.wav\n",
            "h14.wav\n",
            "h15.wav\n",
            "n05.wav\n",
            "n04.wav\n",
            "n03.wav\n",
            "n02.wav\n",
            "n01.wav\n",
            "n06.wav\n",
            "n07.wav\n",
            "n08.wav\n",
            "n09.wav\n",
            "n10.wav\n",
            "n11.wav\n",
            "n12.wav\n",
            "n13.wav\n",
            "n14.wav\n",
            "n15.wav\n",
            "n20.wav\n",
            "n19.wav\n",
            "n18.wav\n",
            "n17.wav\n",
            "n16.wav\n",
            "n21.wav\n",
            "n22.wav\n",
            "n23.wav\n",
            "n24.wav\n",
            "n25.wav\n",
            "n26.wav\n",
            "n27.wav\n",
            "n28.wav\n",
            "n29.wav\n",
            "n30.wav\n",
            "sa01.wav\n",
            "sa02.wav\n",
            "sa03.wav\n",
            "sa04.wav\n",
            "sa09.wav\n",
            "sa08.wav\n",
            "sa07.wav\n",
            "sa06.wav\n",
            "sa11.wav\n",
            "sa12.wav\n",
            "sa13.wav\n",
            "sa14.wav\n",
            "sa15.wav\n",
            "sa05.wav\n",
            "sa10.wav\n",
            "su01.wav\n",
            "su02.wav\n",
            "su03.wav\n",
            "su04.wav\n",
            "su05.wav\n",
            "su06.wav\n",
            "su07.wav\n",
            "su08.wav\n",
            "su09.wav\n",
            "su11.wav\n",
            "su12.wav\n",
            "su13.wav\n",
            "su14.wav\n",
            "su15.wav\n",
            "su10.wav\n",
            "--- Data loaded. Loading time: 94.1481237411499 seconds ---\n"
          ]
        }
      ]
    },
    {
      "cell_type": "code",
      "source": [
        "seed_constant = 844403"
      ],
      "metadata": {
        "id": "HiImqX3dnmC9"
      },
      "execution_count": 4,
      "outputs": []
    },
    {
      "cell_type": "code",
      "source": [
        "from sklearn.model_selection import train_test_split\n",
        "# Split the Data into Train ( 80% ) and Test Set ( 20% ).\n",
        "x_train, x_test, y_train, y_test,video_train_path,video_test_path,audio_train_path,audio_test_path = train_test_split(features, labels,video_name,audio_name,\n",
        "                                                                            test_size = 0.10, shuffle = True,\n",
        "                                                                            random_state = seed_constant)"
      ],
      "metadata": {
        "id": "0r4CRQcJmxP2"
      },
      "execution_count": 5,
      "outputs": []
    },
    {
      "cell_type": "code",
      "source": [
        "\n",
        "# Split train the Data into Train ( 80% ) and valid Set ( 20% ).\n",
        "x_train, x_valid, y_train, y_valid,video_train_path,video_valid_path,audio_train_path,audio_valid_path = train_test_split(x_train, y_train,video_train_path,audio_train_path,\n",
        "                                                                            test_size = 0.11, shuffle = True,\n",
        "                                                                            random_state = seed_constant)"
      ],
      "metadata": {
        "id": "607iO6YunQ1g"
      },
      "execution_count": 6,
      "outputs": []
    },
    {
      "cell_type": "code",
      "source": [
        "#288,36,36\n",
        "len(x_train),len(x_valid),len(x_test),len(y_train),len(y_valid),len(y_test),len(video_train_path),len(video_valid_path),len(video_test_path),len(audio_train_path),len(audio_valid_path),len(audio_test_path)"
      ],
      "metadata": {
        "colab": {
          "base_uri": "https://localhost:8080/"
        },
        "id": "pTU9Ip0Hn32p",
        "outputId": "ba770026-22f8-4cfb-835a-d3f6fd727ec1"
      },
      "execution_count": 7,
      "outputs": [
        {
          "output_type": "execute_result",
          "data": {
            "text/plain": [
              "(288, 36, 36, 288, 36, 36, 288, 36, 36, 288, 36, 36)"
            ]
          },
          "metadata": {},
          "execution_count": 7
        }
      ]
    },
    {
      "cell_type": "code",
      "source": [
        "import joblib\n",
        "\n",
        "save_dir = '/content/drive/My Drive/fusion/savee/audio/data_set/expert3'\n",
        "\n",
        "savedvX = joblib.dump(y_train, os.path.join(save_dir, 'train/labels_train'))\n",
        "savedvX = joblib.dump(y_test, os.path.join(save_dir, 'test/labels_test'))\n",
        "savedvX = joblib.dump(y_valid, os.path.join(save_dir, 'valid/labels_valid'))\n",
        "savedvX = joblib.dump(video_train_path, os.path.join(save_dir, 'train/video_train_path'))\n",
        "savedvX = joblib.dump(video_test_path, os.path.join(save_dir, 'test/video_test_path'))\n",
        "savedvX = joblib.dump(video_valid_path, os.path.join(save_dir, 'valid/video_valid_path'))\n",
        "savedvX = joblib.dump(audio_train_path, os.path.join(save_dir, 'train/audio_train_path'))\n",
        "savedvX = joblib.dump(audio_test_path, os.path.join(save_dir, 'test/audio_test_path'))\n",
        "savedvX = joblib.dump(audio_valid_path, os.path.join(save_dir, 'valid/audio_valid_path'))"
      ],
      "metadata": {
        "id": "HRotP7k-pZDj"
      },
      "execution_count": 8,
      "outputs": []
    },
    {
      "cell_type": "code",
      "execution_count": 9,
      "metadata": {
        "colab": {
          "base_uri": "https://localhost:8080/"
        },
        "id": "kJkN-K17gSvD",
        "outputId": "e27b32c9-7882-4820-da91-efb77309a2ed"
      },
      "outputs": [
        {
          "output_type": "execute_result",
          "data": {
            "text/plain": [
              "((36, 40), (36, 40), (288, 40), (36,), (36,), (288,))"
            ]
          },
          "metadata": {},
          "execution_count": 9
        }
      ],
      "source": [
        "x_valid=np.asarray(x_valid)\n",
        "x_test=np.asarray(x_test)\n",
        "x_train=np.asarray(x_train)\n",
        "y_train=np.asarray(y_train)\n",
        "y_test=np.asarray(y_test)\n",
        "y_valid=np.asarray(y_valid)\n",
        "x_valid.shape,x_test.shape,x_train.shape,y_valid.shape,y_test.shape,y_train.shape"
      ]
    },
    {
      "cell_type": "code",
      "execution_count": 10,
      "metadata": {
        "colab": {
          "base_uri": "https://localhost:8080/"
        },
        "id": "zlvfnkyLkxWx",
        "outputId": "02ba59fd-4775-4868-e09d-c5ab6bf020b6"
      },
      "outputs": [
        {
          "output_type": "stream",
          "name": "stderr",
          "text": [
            "/usr/local/lib/python3.7/dist-packages/keras/optimizer_v2/adam.py:105: UserWarning:\n",
            "\n",
            "The `lr` argument is deprecated, use `learning_rate` instead.\n",
            "\n"
          ]
        }
      ],
      "source": [
        "import keras\n",
        "import numpy as np\n",
        "import matplotlib.pyplot as plt\n",
        "import tensorflow as tf\n",
        "from keras.preprocessing import sequence\n",
        "from keras.models import Sequential\n",
        "from keras.layers import Dense, Embedding\n",
        "from tensorflow.keras.utils import to_categorical\n",
        "from keras.layers import Input, Flatten, Dropout, Activation\n",
        "from keras.layers import Conv1D, MaxPooling1D\n",
        "from keras.models import Model\n",
        "from keras.callbacks import ModelCheckpoint\n",
        "from tensorflow.keras import optimizers\n",
        "from keras.models import InputLayer\n",
        "\n",
        "model = Sequential(InputLayer((40,1)))\n",
        "model.add(BatchNormalization())\n",
        "\n",
        "model.add(Conv1D(128, 12,padding='same', ))\n",
        "model.add(BatchNormalization())\n",
        "model.add(Activation('relu'))\n",
        "model.add(Dropout(0.1))\n",
        "model.add(MaxPooling1D(pool_size=(5)))\n",
        "\n",
        "\n",
        "model.add(Conv1D(256,12,padding='same',))\n",
        "model.add(BatchNormalization())\n",
        "model.add(Activation('relu'))\n",
        "model.add(Dropout(0.3))\n",
        "model.add(MaxPooling1D(pool_size=(5)))\n",
        "\n",
        "model.add(Flatten())\n",
        "model.add(Dense(5))\n",
        "model.add(Activation('softmax'))\n",
        "opt = tf.keras.optimizers.Adam(lr=0.0002)"
      ]
    },
    {
      "cell_type": "code",
      "execution_count": 11,
      "metadata": {
        "colab": {
          "base_uri": "https://localhost:8080/"
        },
        "id": "1-Xsvw44kzg1",
        "outputId": "4706dea5-c3c1-4d78-f639-2109ad897b44"
      },
      "outputs": [
        {
          "output_type": "stream",
          "name": "stdout",
          "text": [
            "Model: \"sequential\"\n",
            "_________________________________________________________________\n",
            " Layer (type)                Output Shape              Param #   \n",
            "=================================================================\n",
            " batch_normalization (BatchN  (None, 40, 1)            4         \n",
            " ormalization)                                                   \n",
            "                                                                 \n",
            " conv1d (Conv1D)             (None, 40, 128)           1664      \n",
            "                                                                 \n",
            " batch_normalization_1 (Batc  (None, 40, 128)          512       \n",
            " hNormalization)                                                 \n",
            "                                                                 \n",
            " activation (Activation)     (None, 40, 128)           0         \n",
            "                                                                 \n",
            " dropout (Dropout)           (None, 40, 128)           0         \n",
            "                                                                 \n",
            " max_pooling1d (MaxPooling1D  (None, 8, 128)           0         \n",
            " )                                                               \n",
            "                                                                 \n",
            " conv1d_1 (Conv1D)           (None, 8, 256)            393472    \n",
            "                                                                 \n",
            " batch_normalization_2 (Batc  (None, 8, 256)           1024      \n",
            " hNormalization)                                                 \n",
            "                                                                 \n",
            " activation_1 (Activation)   (None, 8, 256)            0         \n",
            "                                                                 \n",
            " dropout_1 (Dropout)         (None, 8, 256)            0         \n",
            "                                                                 \n",
            " max_pooling1d_1 (MaxPooling  (None, 1, 256)           0         \n",
            " 1D)                                                             \n",
            "                                                                 \n",
            " flatten (Flatten)           (None, 256)               0         \n",
            "                                                                 \n",
            " dense (Dense)               (None, 5)                 1285      \n",
            "                                                                 \n",
            " activation_2 (Activation)   (None, 5)                 0         \n",
            "                                                                 \n",
            "=================================================================\n",
            "Total params: 397,961\n",
            "Trainable params: 397,191\n",
            "Non-trainable params: 770\n",
            "_________________________________________________________________\n"
          ]
        }
      ],
      "source": [
        "model.summary()"
      ]
    },
    {
      "cell_type": "code",
      "source": [
        "x_traincnn = np.expand_dims(x_train, axis=2)\n",
        "x_testcnn = np.expand_dims(x_test, axis=2)\n",
        "x_valid= np.expand_dims(x_valid, axis=2)\n",
        "x_traincnn.shape, x_testcnn.shape , x_valid.shape"
      ],
      "metadata": {
        "colab": {
          "base_uri": "https://localhost:8080/"
        },
        "id": "stkRAksEouLD",
        "outputId": "f9618c64-1a7e-4659-d114-1f1cbf09e378"
      },
      "execution_count": 12,
      "outputs": [
        {
          "output_type": "execute_result",
          "data": {
            "text/plain": [
              "((288, 40, 1), (36, 40, 1), (36, 40, 1))"
            ]
          },
          "metadata": {},
          "execution_count": 12
        }
      ]
    },
    {
      "cell_type": "code",
      "execution_count": 13,
      "metadata": {
        "id": "Xt2o-rzF0wyE",
        "colab": {
          "base_uri": "https://localhost:8080/"
        },
        "outputId": "6974d1db-dd53-4a07-bc3f-7fc7128c405b"
      },
      "outputs": [
        {
          "output_type": "stream",
          "name": "stdout",
          "text": [
            "Epoch 1/500\n",
            "18/18 [==============================] - 12s 20ms/step - loss: 2.0369 - accuracy: 0.2812 - val_loss: 1.4895 - val_accuracy: 0.4722\n",
            "Epoch 2/500\n",
            "18/18 [==============================] - 0s 5ms/step - loss: 1.7131 - accuracy: 0.3924 - val_loss: 1.5740 - val_accuracy: 0.1111\n",
            "Epoch 3/500\n",
            "18/18 [==============================] - 0s 5ms/step - loss: 1.4453 - accuracy: 0.4479 - val_loss: 1.6825 - val_accuracy: 0.1111\n",
            "Epoch 4/500\n",
            "18/18 [==============================] - 0s 5ms/step - loss: 1.3737 - accuracy: 0.4410 - val_loss: 1.8510 - val_accuracy: 0.1111\n",
            "Epoch 5/500\n",
            "18/18 [==============================] - 0s 5ms/step - loss: 1.3238 - accuracy: 0.5694 - val_loss: 1.9466 - val_accuracy: 0.0833\n",
            "Epoch 6/500\n",
            "18/18 [==============================] - 0s 5ms/step - loss: 1.2468 - accuracy: 0.5174 - val_loss: 1.9827 - val_accuracy: 0.0833\n",
            "Epoch 7/500\n",
            "18/18 [==============================] - 0s 5ms/step - loss: 1.2279 - accuracy: 0.5104 - val_loss: 1.9706 - val_accuracy: 0.0833\n",
            "Epoch 8/500\n",
            "18/18 [==============================] - 0s 5ms/step - loss: 1.1986 - accuracy: 0.5312 - val_loss: 2.3333 - val_accuracy: 0.0833\n",
            "Epoch 9/500\n",
            "18/18 [==============================] - 0s 5ms/step - loss: 1.1705 - accuracy: 0.5938 - val_loss: 2.4121 - val_accuracy: 0.0833\n",
            "Epoch 10/500\n",
            "18/18 [==============================] - 0s 5ms/step - loss: 1.0651 - accuracy: 0.6354 - val_loss: 2.5960 - val_accuracy: 0.0833\n",
            "Epoch 11/500\n",
            "18/18 [==============================] - 0s 5ms/step - loss: 1.0255 - accuracy: 0.6319 - val_loss: 2.6542 - val_accuracy: 0.0833\n",
            "Epoch 12/500\n",
            "18/18 [==============================] - 0s 5ms/step - loss: 0.9231 - accuracy: 0.6458 - val_loss: 2.6120 - val_accuracy: 0.0833\n",
            "Epoch 13/500\n",
            "18/18 [==============================] - 0s 5ms/step - loss: 1.0023 - accuracy: 0.6493 - val_loss: 2.8022 - val_accuracy: 0.0833\n",
            "Epoch 14/500\n",
            "18/18 [==============================] - 0s 5ms/step - loss: 0.9527 - accuracy: 0.6111 - val_loss: 2.9492 - val_accuracy: 0.0833\n",
            "Epoch 15/500\n",
            "18/18 [==============================] - 0s 5ms/step - loss: 0.9189 - accuracy: 0.6562 - val_loss: 2.9261 - val_accuracy: 0.0833\n",
            "Epoch 16/500\n",
            "18/18 [==============================] - 0s 5ms/step - loss: 0.8917 - accuracy: 0.6389 - val_loss: 2.6987 - val_accuracy: 0.0833\n",
            "Epoch 17/500\n",
            "18/18 [==============================] - 0s 5ms/step - loss: 0.9538 - accuracy: 0.6701 - val_loss: 2.8478 - val_accuracy: 0.0833\n",
            "Epoch 18/500\n",
            "18/18 [==============================] - 0s 5ms/step - loss: 0.8492 - accuracy: 0.6111 - val_loss: 2.5490 - val_accuracy: 0.0833\n",
            "Epoch 19/500\n",
            "18/18 [==============================] - 0s 5ms/step - loss: 0.8839 - accuracy: 0.6597 - val_loss: 2.2386 - val_accuracy: 0.0833\n",
            "Epoch 20/500\n",
            "18/18 [==============================] - 0s 5ms/step - loss: 0.8232 - accuracy: 0.6944 - val_loss: 2.0360 - val_accuracy: 0.0833\n",
            "Epoch 21/500\n",
            "18/18 [==============================] - 0s 5ms/step - loss: 0.8439 - accuracy: 0.6979 - val_loss: 1.9596 - val_accuracy: 0.1111\n",
            "Epoch 22/500\n",
            "18/18 [==============================] - 0s 5ms/step - loss: 0.9046 - accuracy: 0.6354 - val_loss: 1.8518 - val_accuracy: 0.0833\n",
            "Epoch 23/500\n",
            "18/18 [==============================] - 0s 5ms/step - loss: 0.8896 - accuracy: 0.6667 - val_loss: 1.8158 - val_accuracy: 0.0833\n",
            "Epoch 24/500\n",
            "18/18 [==============================] - 0s 4ms/step - loss: 0.7900 - accuracy: 0.6562 - val_loss: 1.6932 - val_accuracy: 0.1667\n",
            "Epoch 25/500\n",
            "18/18 [==============================] - 0s 5ms/step - loss: 0.8092 - accuracy: 0.7188 - val_loss: 1.2275 - val_accuracy: 0.3333\n",
            "Epoch 26/500\n",
            "18/18 [==============================] - 0s 5ms/step - loss: 0.7846 - accuracy: 0.6597 - val_loss: 1.2093 - val_accuracy: 0.3056\n",
            "Epoch 27/500\n",
            "18/18 [==============================] - 0s 5ms/step - loss: 0.7251 - accuracy: 0.7188 - val_loss: 1.0152 - val_accuracy: 0.4722\n",
            "Epoch 28/500\n",
            "18/18 [==============================] - 0s 5ms/step - loss: 0.6734 - accuracy: 0.7431 - val_loss: 1.1268 - val_accuracy: 0.5000\n",
            "Epoch 29/500\n",
            "18/18 [==============================] - 0s 5ms/step - loss: 0.8176 - accuracy: 0.7153 - val_loss: 1.3066 - val_accuracy: 0.4167\n",
            "Epoch 30/500\n",
            "18/18 [==============================] - 0s 5ms/step - loss: 0.7788 - accuracy: 0.7222 - val_loss: 0.7143 - val_accuracy: 0.6389\n",
            "Epoch 31/500\n",
            "18/18 [==============================] - 0s 5ms/step - loss: 0.6921 - accuracy: 0.7118 - val_loss: 0.8160 - val_accuracy: 0.6944\n",
            "Epoch 32/500\n",
            "18/18 [==============================] - 0s 5ms/step - loss: 0.7217 - accuracy: 0.7292 - val_loss: 0.9985 - val_accuracy: 0.6111\n",
            "Epoch 33/500\n",
            "18/18 [==============================] - 0s 5ms/step - loss: 0.7721 - accuracy: 0.7257 - val_loss: 0.6937 - val_accuracy: 0.7222\n",
            "Epoch 34/500\n",
            "18/18 [==============================] - 0s 4ms/step - loss: 0.7168 - accuracy: 0.7292 - val_loss: 0.8333 - val_accuracy: 0.6389\n",
            "Epoch 35/500\n",
            "18/18 [==============================] - 0s 5ms/step - loss: 0.7138 - accuracy: 0.7500 - val_loss: 0.5891 - val_accuracy: 0.7778\n",
            "Epoch 36/500\n",
            "18/18 [==============================] - 0s 5ms/step - loss: 0.7228 - accuracy: 0.6910 - val_loss: 0.5654 - val_accuracy: 0.8056\n",
            "Epoch 37/500\n",
            "18/18 [==============================] - 0s 5ms/step - loss: 0.6943 - accuracy: 0.6944 - val_loss: 0.6347 - val_accuracy: 0.7222\n",
            "Epoch 38/500\n",
            "18/18 [==============================] - 0s 5ms/step - loss: 0.6560 - accuracy: 0.7396 - val_loss: 0.5405 - val_accuracy: 0.7778\n",
            "Epoch 39/500\n",
            "18/18 [==============================] - 0s 5ms/step - loss: 0.6574 - accuracy: 0.7326 - val_loss: 0.6613 - val_accuracy: 0.6944\n",
            "Epoch 40/500\n",
            "18/18 [==============================] - 0s 5ms/step - loss: 0.6917 - accuracy: 0.7326 - val_loss: 0.5107 - val_accuracy: 0.8056\n",
            "Epoch 41/500\n",
            "18/18 [==============================] - 0s 5ms/step - loss: 0.6885 - accuracy: 0.7326 - val_loss: 0.5775 - val_accuracy: 0.7500\n",
            "Epoch 42/500\n",
            "18/18 [==============================] - 0s 5ms/step - loss: 0.6484 - accuracy: 0.7361 - val_loss: 0.6108 - val_accuracy: 0.7222\n",
            "Epoch 43/500\n",
            "18/18 [==============================] - 0s 5ms/step - loss: 0.6684 - accuracy: 0.7292 - val_loss: 0.5411 - val_accuracy: 0.8056\n",
            "Epoch 44/500\n",
            "18/18 [==============================] - 0s 5ms/step - loss: 0.6803 - accuracy: 0.7465 - val_loss: 0.7129 - val_accuracy: 0.6667\n",
            "Epoch 45/500\n",
            "18/18 [==============================] - 0s 5ms/step - loss: 0.6487 - accuracy: 0.7500 - val_loss: 0.4010 - val_accuracy: 0.8611\n",
            "Epoch 46/500\n",
            "18/18 [==============================] - 0s 5ms/step - loss: 0.6404 - accuracy: 0.7465 - val_loss: 0.5838 - val_accuracy: 0.6944\n",
            "Epoch 47/500\n",
            "18/18 [==============================] - 0s 5ms/step - loss: 0.5628 - accuracy: 0.7674 - val_loss: 0.4990 - val_accuracy: 0.8333\n",
            "Epoch 48/500\n",
            "18/18 [==============================] - 0s 5ms/step - loss: 0.5811 - accuracy: 0.7535 - val_loss: 0.6505 - val_accuracy: 0.6944\n",
            "Epoch 49/500\n",
            "18/18 [==============================] - 0s 5ms/step - loss: 0.6010 - accuracy: 0.7639 - val_loss: 0.4483 - val_accuracy: 0.8611\n",
            "Epoch 50/500\n",
            "18/18 [==============================] - 0s 5ms/step - loss: 0.5981 - accuracy: 0.7847 - val_loss: 0.5148 - val_accuracy: 0.8333\n",
            "Epoch 51/500\n",
            "18/18 [==============================] - 0s 4ms/step - loss: 0.5780 - accuracy: 0.7500 - val_loss: 0.5260 - val_accuracy: 0.7500\n",
            "Epoch 52/500\n",
            "18/18 [==============================] - 0s 5ms/step - loss: 0.5740 - accuracy: 0.7639 - val_loss: 0.5031 - val_accuracy: 0.8056\n",
            "Epoch 53/500\n",
            "18/18 [==============================] - 0s 5ms/step - loss: 0.5539 - accuracy: 0.7847 - val_loss: 0.5354 - val_accuracy: 0.7778\n",
            "Epoch 54/500\n",
            "18/18 [==============================] - 0s 5ms/step - loss: 0.5527 - accuracy: 0.7743 - val_loss: 0.5787 - val_accuracy: 0.7222\n",
            "Epoch 55/500\n",
            "18/18 [==============================] - 0s 5ms/step - loss: 0.6185 - accuracy: 0.7743 - val_loss: 0.4269 - val_accuracy: 0.8611\n",
            "Epoch 56/500\n",
            "18/18 [==============================] - 0s 5ms/step - loss: 0.5692 - accuracy: 0.7951 - val_loss: 0.4636 - val_accuracy: 0.8333\n",
            "Epoch 57/500\n",
            "18/18 [==============================] - 0s 5ms/step - loss: 0.5448 - accuracy: 0.7986 - val_loss: 0.5330 - val_accuracy: 0.7778\n",
            "Epoch 58/500\n",
            "18/18 [==============================] - 0s 5ms/step - loss: 0.5507 - accuracy: 0.7812 - val_loss: 0.4449 - val_accuracy: 0.8611\n",
            "Epoch 59/500\n",
            "18/18 [==============================] - 0s 5ms/step - loss: 0.6247 - accuracy: 0.7639 - val_loss: 0.5101 - val_accuracy: 0.8056\n",
            "Epoch 60/500\n",
            "18/18 [==============================] - 0s 5ms/step - loss: 0.5936 - accuracy: 0.7361 - val_loss: 0.4374 - val_accuracy: 0.8333\n",
            "Epoch 61/500\n",
            "18/18 [==============================] - 0s 5ms/step - loss: 0.6007 - accuracy: 0.7361 - val_loss: 0.5323 - val_accuracy: 0.7778\n",
            "Epoch 62/500\n",
            "18/18 [==============================] - 0s 5ms/step - loss: 0.5852 - accuracy: 0.7812 - val_loss: 0.6396 - val_accuracy: 0.7778\n",
            "Epoch 63/500\n",
            "18/18 [==============================] - 0s 5ms/step - loss: 0.5575 - accuracy: 0.7639 - val_loss: 0.4223 - val_accuracy: 0.8611\n",
            "Epoch 64/500\n",
            "18/18 [==============================] - 0s 5ms/step - loss: 0.5302 - accuracy: 0.7986 - val_loss: 0.3799 - val_accuracy: 0.8611\n",
            "Epoch 65/500\n",
            "18/18 [==============================] - 0s 5ms/step - loss: 0.5803 - accuracy: 0.7847 - val_loss: 0.6695 - val_accuracy: 0.6944\n",
            "Epoch 66/500\n",
            "18/18 [==============================] - 0s 5ms/step - loss: 0.5634 - accuracy: 0.7812 - val_loss: 0.5553 - val_accuracy: 0.8333\n",
            "Epoch 67/500\n",
            "18/18 [==============================] - 0s 5ms/step - loss: 0.5164 - accuracy: 0.7708 - val_loss: 0.4845 - val_accuracy: 0.8056\n",
            "Epoch 68/500\n",
            "18/18 [==============================] - 0s 4ms/step - loss: 0.4899 - accuracy: 0.8299 - val_loss: 0.5476 - val_accuracy: 0.7778\n",
            "Epoch 69/500\n",
            "18/18 [==============================] - 0s 5ms/step - loss: 0.5233 - accuracy: 0.7951 - val_loss: 0.3358 - val_accuracy: 0.8889\n",
            "Epoch 70/500\n",
            "18/18 [==============================] - 0s 5ms/step - loss: 0.4648 - accuracy: 0.8160 - val_loss: 0.4818 - val_accuracy: 0.7778\n",
            "Epoch 71/500\n",
            "18/18 [==============================] - 0s 5ms/step - loss: 0.4944 - accuracy: 0.8056 - val_loss: 0.3559 - val_accuracy: 0.8333\n",
            "Epoch 72/500\n",
            "18/18 [==============================] - 0s 5ms/step - loss: 0.3854 - accuracy: 0.8403 - val_loss: 0.4709 - val_accuracy: 0.7778\n",
            "Epoch 73/500\n",
            "18/18 [==============================] - 0s 5ms/step - loss: 0.4433 - accuracy: 0.8194 - val_loss: 0.3595 - val_accuracy: 0.8611\n",
            "Epoch 74/500\n",
            "18/18 [==============================] - 0s 5ms/step - loss: 0.4508 - accuracy: 0.8090 - val_loss: 0.4260 - val_accuracy: 0.7778\n",
            "Epoch 75/500\n",
            "18/18 [==============================] - 0s 5ms/step - loss: 0.4489 - accuracy: 0.8090 - val_loss: 0.6171 - val_accuracy: 0.7500\n",
            "Epoch 76/500\n",
            "18/18 [==============================] - 0s 5ms/step - loss: 0.4117 - accuracy: 0.8438 - val_loss: 0.5207 - val_accuracy: 0.8333\n",
            "Epoch 77/500\n",
            "18/18 [==============================] - 0s 5ms/step - loss: 0.4537 - accuracy: 0.8299 - val_loss: 0.6001 - val_accuracy: 0.8056\n",
            "Epoch 78/500\n",
            "18/18 [==============================] - 0s 5ms/step - loss: 0.4240 - accuracy: 0.8472 - val_loss: 0.5359 - val_accuracy: 0.8333\n",
            "Epoch 79/500\n",
            "18/18 [==============================] - 0s 5ms/step - loss: 0.4761 - accuracy: 0.8090 - val_loss: 0.4542 - val_accuracy: 0.7500\n",
            "Epoch 80/500\n",
            "18/18 [==============================] - 0s 5ms/step - loss: 0.4162 - accuracy: 0.8472 - val_loss: 0.3379 - val_accuracy: 0.8611\n",
            "Epoch 81/500\n",
            "18/18 [==============================] - 0s 5ms/step - loss: 0.4063 - accuracy: 0.8368 - val_loss: 0.5075 - val_accuracy: 0.7500\n",
            "Epoch 82/500\n",
            "18/18 [==============================] - 0s 5ms/step - loss: 0.3827 - accuracy: 0.8507 - val_loss: 0.4696 - val_accuracy: 0.7778\n",
            "Epoch 83/500\n",
            "18/18 [==============================] - 0s 5ms/step - loss: 0.4197 - accuracy: 0.8333 - val_loss: 0.4838 - val_accuracy: 0.8056\n",
            "Epoch 84/500\n",
            "18/18 [==============================] - 0s 5ms/step - loss: 0.3631 - accuracy: 0.8576 - val_loss: 0.4785 - val_accuracy: 0.7500\n",
            "Epoch 85/500\n",
            "18/18 [==============================] - 0s 5ms/step - loss: 0.4801 - accuracy: 0.8090 - val_loss: 0.3814 - val_accuracy: 0.8611\n",
            "Epoch 86/500\n",
            "18/18 [==============================] - 0s 5ms/step - loss: 0.4049 - accuracy: 0.8403 - val_loss: 0.6175 - val_accuracy: 0.8056\n",
            "Epoch 87/500\n",
            "18/18 [==============================] - 0s 5ms/step - loss: 0.4158 - accuracy: 0.8194 - val_loss: 0.4508 - val_accuracy: 0.8056\n",
            "Epoch 88/500\n",
            "18/18 [==============================] - 0s 5ms/step - loss: 0.4410 - accuracy: 0.8264 - val_loss: 0.6158 - val_accuracy: 0.7500\n",
            "Epoch 89/500\n",
            "18/18 [==============================] - 0s 5ms/step - loss: 0.4547 - accuracy: 0.8229 - val_loss: 0.5627 - val_accuracy: 0.7500\n",
            "Epoch 90/500\n",
            "18/18 [==============================] - 0s 5ms/step - loss: 0.3883 - accuracy: 0.8403 - val_loss: 0.3966 - val_accuracy: 0.8056\n",
            "Epoch 91/500\n",
            "18/18 [==============================] - 0s 5ms/step - loss: 0.4271 - accuracy: 0.8021 - val_loss: 0.4488 - val_accuracy: 0.8056\n",
            "Epoch 92/500\n",
            "18/18 [==============================] - 0s 5ms/step - loss: 0.3613 - accuracy: 0.8681 - val_loss: 0.5709 - val_accuracy: 0.7778\n",
            "Epoch 93/500\n",
            "18/18 [==============================] - 0s 5ms/step - loss: 0.3844 - accuracy: 0.8438 - val_loss: 0.4471 - val_accuracy: 0.8056\n",
            "Epoch 94/500\n",
            "18/18 [==============================] - 0s 5ms/step - loss: 0.4070 - accuracy: 0.8472 - val_loss: 0.5319 - val_accuracy: 0.7500\n",
            "Epoch 95/500\n",
            "18/18 [==============================] - 0s 5ms/step - loss: 0.4000 - accuracy: 0.8403 - val_loss: 0.4231 - val_accuracy: 0.7778\n",
            "Epoch 96/500\n",
            "18/18 [==============================] - 0s 5ms/step - loss: 0.3262 - accuracy: 0.8681 - val_loss: 0.5173 - val_accuracy: 0.8056\n",
            "Epoch 97/500\n",
            "18/18 [==============================] - 0s 5ms/step - loss: 0.3777 - accuracy: 0.8507 - val_loss: 0.4706 - val_accuracy: 0.7500\n",
            "Epoch 98/500\n",
            "18/18 [==============================] - 0s 5ms/step - loss: 0.3211 - accuracy: 0.8507 - val_loss: 0.4470 - val_accuracy: 0.7500\n",
            "Epoch 99/500\n",
            "18/18 [==============================] - 0s 5ms/step - loss: 0.2998 - accuracy: 0.8924 - val_loss: 0.5686 - val_accuracy: 0.7500\n",
            "Epoch 100/500\n",
            "18/18 [==============================] - 0s 5ms/step - loss: 0.2726 - accuracy: 0.9132 - val_loss: 0.4105 - val_accuracy: 0.8611\n",
            "Epoch 101/500\n",
            "18/18 [==============================] - 0s 5ms/step - loss: 0.3132 - accuracy: 0.8889 - val_loss: 0.4675 - val_accuracy: 0.7778\n",
            "Epoch 102/500\n",
            "18/18 [==============================] - 0s 5ms/step - loss: 0.3478 - accuracy: 0.8368 - val_loss: 0.4617 - val_accuracy: 0.8333\n",
            "Epoch 103/500\n",
            "18/18 [==============================] - 0s 5ms/step - loss: 0.3085 - accuracy: 0.8889 - val_loss: 0.6412 - val_accuracy: 0.8333\n",
            "Epoch 104/500\n",
            "18/18 [==============================] - 0s 5ms/step - loss: 0.3461 - accuracy: 0.8507 - val_loss: 0.5291 - val_accuracy: 0.8333\n",
            "Epoch 105/500\n",
            "18/18 [==============================] - 0s 5ms/step - loss: 0.2389 - accuracy: 0.9097 - val_loss: 0.4912 - val_accuracy: 0.8056\n",
            "Epoch 106/500\n",
            "18/18 [==============================] - 0s 5ms/step - loss: 0.2916 - accuracy: 0.8715 - val_loss: 0.4296 - val_accuracy: 0.7500\n",
            "Epoch 107/500\n",
            "18/18 [==============================] - 0s 5ms/step - loss: 0.2867 - accuracy: 0.8958 - val_loss: 0.4965 - val_accuracy: 0.7778\n",
            "Epoch 108/500\n",
            "18/18 [==============================] - 0s 5ms/step - loss: 0.2782 - accuracy: 0.8993 - val_loss: 0.4691 - val_accuracy: 0.7778\n",
            "Epoch 109/500\n",
            "18/18 [==============================] - 0s 5ms/step - loss: 0.3490 - accuracy: 0.8715 - val_loss: 0.4638 - val_accuracy: 0.8333\n",
            "Epoch 110/500\n",
            "18/18 [==============================] - 0s 5ms/step - loss: 0.2793 - accuracy: 0.8889 - val_loss: 0.4359 - val_accuracy: 0.7778\n",
            "Epoch 111/500\n",
            "18/18 [==============================] - 0s 5ms/step - loss: 0.3648 - accuracy: 0.8611 - val_loss: 0.6753 - val_accuracy: 0.7222\n",
            "Epoch 112/500\n",
            "18/18 [==============================] - 0s 5ms/step - loss: 0.3036 - accuracy: 0.9028 - val_loss: 0.7112 - val_accuracy: 0.8056\n",
            "Epoch 113/500\n",
            "18/18 [==============================] - 0s 5ms/step - loss: 0.2994 - accuracy: 0.8958 - val_loss: 0.3999 - val_accuracy: 0.8056\n",
            "Epoch 114/500\n",
            "18/18 [==============================] - 0s 5ms/step - loss: 0.3354 - accuracy: 0.8646 - val_loss: 0.5296 - val_accuracy: 0.7778\n",
            "Epoch 115/500\n",
            "18/18 [==============================] - 0s 5ms/step - loss: 0.2682 - accuracy: 0.9097 - val_loss: 0.4687 - val_accuracy: 0.7500\n",
            "Epoch 116/500\n",
            "18/18 [==============================] - 0s 5ms/step - loss: 0.2670 - accuracy: 0.8854 - val_loss: 0.3965 - val_accuracy: 0.9167\n",
            "Epoch 117/500\n",
            "18/18 [==============================] - 0s 5ms/step - loss: 0.2767 - accuracy: 0.8993 - val_loss: 0.4725 - val_accuracy: 0.7500\n",
            "Epoch 118/500\n",
            "18/18 [==============================] - 0s 5ms/step - loss: 0.3044 - accuracy: 0.8715 - val_loss: 0.5541 - val_accuracy: 0.8333\n",
            "Epoch 119/500\n",
            "18/18 [==============================] - 0s 5ms/step - loss: 0.2766 - accuracy: 0.8993 - val_loss: 0.5049 - val_accuracy: 0.8611\n",
            "Epoch 120/500\n",
            "18/18 [==============================] - 0s 5ms/step - loss: 0.2448 - accuracy: 0.9271 - val_loss: 0.4344 - val_accuracy: 0.7500\n",
            "Epoch 121/500\n",
            "18/18 [==============================] - 0s 5ms/step - loss: 0.2364 - accuracy: 0.9097 - val_loss: 0.4409 - val_accuracy: 0.7778\n",
            "Epoch 122/500\n",
            "18/18 [==============================] - 0s 5ms/step - loss: 0.2528 - accuracy: 0.9097 - val_loss: 0.5192 - val_accuracy: 0.8333\n",
            "Epoch 123/500\n",
            "18/18 [==============================] - 0s 5ms/step - loss: 0.3214 - accuracy: 0.8785 - val_loss: 0.5118 - val_accuracy: 0.8333\n",
            "Epoch 124/500\n",
            "18/18 [==============================] - 0s 5ms/step - loss: 0.2504 - accuracy: 0.9132 - val_loss: 0.5882 - val_accuracy: 0.8333\n",
            "Epoch 125/500\n",
            "18/18 [==============================] - 0s 5ms/step - loss: 0.2242 - accuracy: 0.9201 - val_loss: 0.3796 - val_accuracy: 0.8333\n",
            "Epoch 126/500\n",
            "18/18 [==============================] - 0s 5ms/step - loss: 0.2176 - accuracy: 0.8958 - val_loss: 0.4759 - val_accuracy: 0.8333\n",
            "Epoch 127/500\n",
            "18/18 [==============================] - 0s 5ms/step - loss: 0.2650 - accuracy: 0.8889 - val_loss: 0.3558 - val_accuracy: 0.8889\n",
            "Epoch 128/500\n",
            "18/18 [==============================] - 0s 5ms/step - loss: 0.2657 - accuracy: 0.8889 - val_loss: 0.5506 - val_accuracy: 0.7778\n",
            "Epoch 129/500\n",
            "18/18 [==============================] - 0s 5ms/step - loss: 0.2900 - accuracy: 0.8819 - val_loss: 0.4900 - val_accuracy: 0.8056\n",
            "Epoch 130/500\n",
            "18/18 [==============================] - 0s 5ms/step - loss: 0.2059 - accuracy: 0.9236 - val_loss: 0.4291 - val_accuracy: 0.8056\n",
            "Epoch 131/500\n",
            "18/18 [==============================] - 0s 5ms/step - loss: 0.2933 - accuracy: 0.8958 - val_loss: 0.5395 - val_accuracy: 0.7778\n",
            "Epoch 132/500\n",
            "18/18 [==============================] - 0s 5ms/step - loss: 0.2963 - accuracy: 0.8715 - val_loss: 0.8282 - val_accuracy: 0.6667\n",
            "Epoch 133/500\n",
            "18/18 [==============================] - 0s 5ms/step - loss: 0.3298 - accuracy: 0.8819 - val_loss: 0.6868 - val_accuracy: 0.7500\n",
            "Epoch 134/500\n",
            "18/18 [==============================] - 0s 5ms/step - loss: 0.2288 - accuracy: 0.9062 - val_loss: 0.4573 - val_accuracy: 0.7778\n"
          ]
        }
      ],
      "source": [
        "model.compile(loss = 'sparse_categorical_crossentropy', optimizer = opt, metrics = [\"accuracy\"])\n",
        "\n",
        "early_stopping_callback = EarlyStopping(monitor = 'val_loss', patience = 65, mode = 'min', restore_best_weights = True)\n",
        "cnnhistory=model.fit(x_traincnn, y_train, batch_size=16, epochs=500 , shuffle = True, \n",
        "                     validation_data=(x_valid, y_valid), callbacks = [early_stopping_callback])"
      ]
    },
    {
      "cell_type": "code",
      "source": [
        "plt.plot(cnnhistory.history['loss'])\n",
        "plt.plot(cnnhistory.history['val_loss'])\n",
        "plt.title('model loss')\n",
        "plt.ylabel('loss')\n",
        "plt.xlabel('epoch')\n",
        "plt.legend(['train', 'valid'], loc='upper left')\n",
        "plt.show()"
      ],
      "metadata": {
        "colab": {
          "base_uri": "https://localhost:8080/",
          "height": 295
        },
        "id": "fuwtwqf1JwEn",
        "outputId": "22058462-22a3-4fda-9024-25de64420287"
      },
      "execution_count": 14,
      "outputs": [
        {
          "output_type": "display_data",
          "data": {
            "text/plain": [
              "<Figure size 432x288 with 1 Axes>"
            ],
            "image/png": "[encoded data removed]"
          },
          "metadata": {
            "needs_background": "light"
          }
        }
      ]
    },
    {
      "cell_type": "code",
      "source": [
        "plt.plot(cnnhistory.history['accuracy'])\n",
        "plt.plot(cnnhistory.history['val_accuracy'])\n",
        "plt.title('model accuracy')\n",
        "plt.ylabel('accuracy')\n",
        "plt.xlabel('epoch')\n",
        "plt.legend(['train','test'], loc='upper left')\n",
        "plt.show()"
      ],
      "metadata": {
        "colab": {
          "base_uri": "https://localhost:8080/",
          "height": 295
        },
        "id": "85gaEoLgJz2u",
        "outputId": "2e201797-504d-4428-dbf4-71ee85183899"
      },
      "execution_count": 15,
      "outputs": [
        {
          "output_type": "display_data",
          "data": {
            "text/plain": [
              "<Figure size 432x288 with 1 Axes>"
            ],
            "image/png": "[encoded data removed]"
          },
          "metadata": {
            "needs_background": "light"
          }
        }
      ]
    },
    {
      "cell_type": "code",
      "source": [
        "loss, acc =model.evaluate(x_traincnn,y_train )\n",
        "print(\"Restored model train, accuracy: {:5.2f}%\".format(100*acc))"
      ],
      "metadata": {
        "colab": {
          "base_uri": "https://localhost:8080/"
        },
        "id": "k9lNlYcXpKAA",
        "outputId": "3274e7ec-7e06-4a5b-c564-11eeea17487d"
      },
      "execution_count": 16,
      "outputs": [
        {
          "output_type": "stream",
          "name": "stdout",
          "text": [
            "9/9 [==============================] - 0s 3ms/step - loss: 0.4240 - accuracy: 0.8299\n",
            "Restored model train, accuracy: 82.99%\n"
          ]
        }
      ]
    },
    {
      "cell_type": "code",
      "source": [
        "loss, acc = model.evaluate(x_test, y_test)\n",
        "print(\"Restored model, accuracy: {:5.2f}%\".format(100*acc))"
      ],
      "metadata": {
        "colab": {
          "base_uri": "https://localhost:8080/"
        },
        "id": "VsXjcE8fJ9yB",
        "outputId": "3f19d668-feb9-4a9d-a996-faddf49d6019"
      },
      "execution_count": 17,
      "outputs": [
        {
          "output_type": "stream",
          "name": "stdout",
          "text": [
            "2/2 [==============================] - 0s 5ms/step - loss: 0.5551 - accuracy: 0.7778\n",
            "Restored model, accuracy: 77.78%\n"
          ]
        }
      ]
    },
    {
      "cell_type": "code",
      "source": [
        "#predictions = model.predict_classes(x_testcnn)\n",
        "predictions = model.predict(x_test)\n",
        "predictions"
      ],
      "metadata": {
        "colab": {
          "base_uri": "https://localhost:8080/"
        },
        "id": "J19se9vJKCFn",
        "outputId": "d2600a32-d1ca-4ccd-e3c3-cbf61575c77c"
      },
      "execution_count": 18,
      "outputs": [
        {
          "output_type": "execute_result",
          "data": {
            "text/plain": [
              "array([[4.9970960e-03, 5.4219174e-01, 1.6399088e-03, 4.1284946e-01,\n",
              "        3.8321882e-02],\n",
              "       [1.0792644e-01, 3.0858647e-02, 2.5844922e-02, 8.3113438e-01,\n",
              "        4.2355484e-03],\n",
              "       [8.4517127e-01, 3.1446647e-03, 1.4467175e-01, 1.8711402e-03,\n",
              "        5.1412089e-03],\n",
              "       [5.2236142e-03, 2.6009986e-01, 7.6638218e-03, 7.0496410e-01,\n",
              "        2.2048661e-02],\n",
              "       [5.9574278e-04, 9.1390193e-01, 2.9437680e-04, 7.3960289e-02,\n",
              "        1.1247652e-02],\n",
              "       [9.1195467e-04, 1.3905002e-01, 1.1003831e-03, 8.5501558e-01,\n",
              "        3.9221356e-03],\n",
              "       [3.7736058e-01, 1.0609550e-02, 5.7480413e-01, 3.1501278e-02,\n",
              "        5.7245013e-03],\n",
              "       [6.9030300e-03, 5.7721627e-01, 5.6726807e-03, 2.1729663e-01,\n",
              "        1.9291139e-01],\n",
              "       [8.6223817e-01, 6.5727551e-03, 1.1915002e-01, 1.0450678e-02,\n",
              "        1.5883544e-03],\n",
              "       [2.6686776e-05, 8.0172926e-02, 2.4677808e-03, 8.9974821e-01,\n",
              "        1.7584328e-02],\n",
              "       [7.9348111e-01, 2.8689060e-04, 2.0596920e-01, 1.7351213e-04,\n",
              "        8.9261128e-05],\n",
              "       [4.9723284e-03, 3.2144356e-01, 2.3194428e-01, 1.0359500e-02,\n",
              "        4.3128034e-01],\n",
              "       [9.8604751e-01, 4.5378669e-04, 1.0019819e-02, 3.4239704e-03,\n",
              "        5.4922592e-05],\n",
              "       [4.3780705e-01, 1.2568644e-02, 5.3158247e-01, 1.0540601e-02,\n",
              "        7.5012771e-03],\n",
              "       [9.8355788e-01, 2.4636594e-05, 1.6382221e-02, 2.8331273e-05,\n",
              "        6.9637254e-06],\n",
              "       [4.2068263e-04, 2.0402325e-02, 5.1339185e-01, 3.3110872e-01,\n",
              "        1.3467643e-01],\n",
              "       [3.0220946e-05, 1.6628437e-01, 8.5245672e-04, 8.1061083e-01,\n",
              "        2.2222083e-02],\n",
              "       [1.7851429e-03, 4.6801513e-01, 1.4304924e-02, 9.5268130e-02,\n",
              "        4.2062661e-01],\n",
              "       [9.8148191e-01, 2.0838971e-04, 1.7352153e-02, 8.2405505e-04,\n",
              "        1.3352874e-04],\n",
              "       [4.0688756e-04, 2.5158456e-02, 6.3566447e-05, 6.0293045e-02,\n",
              "        9.1407812e-01],\n",
              "       [2.2557282e-04, 3.3939087e-01, 1.6374565e-03, 4.9409527e-01,\n",
              "        1.6465087e-01],\n",
              "       [5.3496565e-06, 2.2128421e-01, 4.1199933e-06, 6.1143731e-04,\n",
              "        7.7809489e-01],\n",
              "       [9.8228574e-01, 1.8248900e-03, 8.7016765e-03, 6.8749394e-03,\n",
              "        3.1273946e-04],\n",
              "       [7.7694720e-01, 5.2363621e-03, 2.0835416e-01, 1.3837022e-03,\n",
              "        8.0786413e-03],\n",
              "       [5.5754995e-01, 4.1179196e-03, 4.2814171e-01, 8.3131008e-03,\n",
              "        1.8773370e-03],\n",
              "       [2.3580249e-02, 1.4352778e-01, 1.1824813e-01, 9.9108994e-02,\n",
              "        6.1553484e-01],\n",
              "       [5.0986362e-01, 1.2217951e-02, 3.2472688e-01, 1.4936122e-01,\n",
              "        3.8303314e-03],\n",
              "       [1.6967609e-04, 6.5060958e-02, 6.5746441e-05, 1.2767537e-02,\n",
              "        9.2193609e-01],\n",
              "       [6.7442024e-01, 1.2664115e-02, 2.8108907e-01, 2.9491292e-02,\n",
              "        2.3353940e-03],\n",
              "       [2.7274217e-02, 2.5310701e-01, 4.3141522e-02, 5.4644608e-01,\n",
              "        1.3003120e-01],\n",
              "       [5.6082912e-02, 2.1295382e-03, 9.3328166e-01, 3.9178776e-03,\n",
              "        4.5879302e-03],\n",
              "       [8.5017329e-01, 1.9766216e-03, 1.4521591e-01, 9.1696111e-04,\n",
              "        1.7172766e-03],\n",
              "       [9.8268187e-04, 7.1583623e-01, 1.9400809e-03, 1.9797584e-01,\n",
              "        8.3265156e-02],\n",
              "       [6.5366097e-04, 3.0306689e-03, 9.4115472e-01, 1.7364722e-02,\n",
              "        3.7796196e-02],\n",
              "       [7.7226793e-04, 4.8103094e-01, 6.1924633e-04, 8.0629356e-02,\n",
              "        4.3694830e-01],\n",
              "       [1.0750214e-04, 2.7205190e-04, 9.9618572e-01, 2.4449965e-04,\n",
              "        3.1902634e-03]], dtype=float32)"
            ]
          },
          "metadata": {},
          "execution_count": 18
        }
      ]
    },
    {
      "cell_type": "code",
      "execution_count": 19,
      "metadata": {
        "id": "oLAtoP9kH7cd"
      },
      "outputs": [],
      "source": [
        "\n",
        "df_audio_test = pd.DataFrame(predictions,columns=[\"OA_\"+str(i) for i in range(5)])\n"
      ]
    },
    {
      "cell_type": "code",
      "execution_count": 20,
      "metadata": {
        "id": "Y01xRIqN3Kv7",
        "colab": {
          "base_uri": "https://localhost:8080/"
        },
        "outputId": "e0e95eed-7adc-4eb1-d405-79575a16a41d"
      },
      "outputs": [
        {
          "output_type": "execute_result",
          "data": {
            "text/plain": [
              "array([1, 3, 0, 3, 1, 3, 0, 1, 0, 3, 2, 4, 0, 0, 0, 4, 1, 1, 0, 4, 4, 4,\n",
              "       0, 2, 0, 4, 0, 4, 2, 3, 2, 0, 1, 2, 1, 2])"
            ]
          },
          "metadata": {},
          "execution_count": 20
        }
      ],
      "source": [
        "y_test"
      ]
    },
    {
      "cell_type": "code",
      "execution_count": 21,
      "metadata": {
        "id": "DLhoAcuI3N3Z",
        "colab": {
          "base_uri": "https://localhost:8080/"
        },
        "outputId": "541e96f9-d4e7-46dd-f619-d5b741b7fe56"
      },
      "outputs": [
        {
          "output_type": "execute_result",
          "data": {
            "text/plain": [
              "array([1, 3, 0, 3, 1, 3, 0, 1, 0, 3, 2, 4, 0, 0, 0, 4, 1, 1, 0, 4, 4, 4,\n",
              "       0, 2, 0, 4, 0, 4, 2, 3, 2, 0, 1, 2, 1, 2])"
            ]
          },
          "metadata": {},
          "execution_count": 21
        }
      ],
      "source": [
        "new_Ytest = y_test.astype(int)\n",
        "new_Ytest"
      ]
    },
    {
      "cell_type": "code",
      "execution_count": 22,
      "metadata": {
        "id": "msg0xsZw3ROh",
        "colab": {
          "base_uri": "https://localhost:8080/"
        },
        "outputId": "0894bf44-11a9-41ed-e922-78da206783fa"
      },
      "outputs": [
        {
          "output_type": "execute_result",
          "data": {
            "text/plain": [
              "array([1, 3, 0, 3, 1, 3, 2, 1, 0, 3, 0, 4, 0, 2, 0, 2, 3, 1, 0, 4, 3, 4,\n",
              "       0, 0, 0, 4, 0, 4, 0, 3, 2, 0, 1, 2, 1, 2])"
            ]
          },
          "metadata": {},
          "execution_count": 22
        }
      ],
      "source": [
        "preds1=predictions.argmax(axis=1)\n",
        "preds1"
      ]
    },
    {
      "cell_type": "code",
      "execution_count": 23,
      "metadata": {
        "id": "-nADWckp3UHg",
        "colab": {
          "base_uri": "https://localhost:8080/"
        },
        "outputId": "bf4a38d1-d7d7-4a86-f36a-39705c87daff"
      },
      "outputs": [
        {
          "output_type": "execute_result",
          "data": {
            "text/plain": [
              "array([[9, 0, 2, 0, 0],\n",
              "       [0, 6, 0, 1, 0],\n",
              "       [3, 0, 3, 0, 0],\n",
              "       [0, 0, 0, 5, 0],\n",
              "       [0, 0, 1, 1, 5]])"
            ]
          },
          "metadata": {},
          "execution_count": 23
        }
      ],
      "source": [
        "abc = preds1.astype(int).flatten()\n",
        "from sklearn.metrics import confusion_matrix\n",
        "c = confusion_matrix(new_Ytest, abc) \n",
        "c"
      ]
    },
    {
      "cell_type": "code",
      "execution_count": 24,
      "metadata": {
        "id": "biI56TZV3fPV",
        "colab": {
          "base_uri": "https://localhost:8080/",
          "height": 495
        },
        "outputId": "7b26d15c-9d6c-40e5-ae44-843b5fe7b550"
      },
      "outputs": [
        {
          "output_type": "stream",
          "name": "stdout",
          "text": [
            "              precision    recall  f1-score   support\n",
            "\n",
            "           0       0.75      0.82      0.78        11\n",
            "           1       1.00      0.86      0.92         7\n",
            "           2       0.50      0.50      0.50         6\n",
            "           3       0.71      1.00      0.83         5\n",
            "           4       1.00      0.71      0.83         7\n",
            "\n",
            "    accuracy                           0.78        36\n",
            "   macro avg       0.79      0.78      0.77        36\n",
            "weighted avg       0.80      0.78      0.78        36\n",
            "\n",
            "----accuracy score 77.77777777777779 ----\n"
          ]
        },
        {
          "output_type": "display_data",
          "data": {
            "text/plain": [
              "<Figure size 432x288 with 2 Axes>"
            ],
            "image/png": "[encoded data removed]"
          },
          "metadata": {
            "needs_background": "light"
          }
        }
      ],
      "source": [
        "from sklearn.metrics import classification_report, confusion_matrix,accuracy_score\n",
        "import seaborn as sn\n",
        "\n",
        "print(classification_report(y_test,abc))\n",
        "\n",
        "acc = float(accuracy_score(y_test,abc))*100\n",
        "print(\"----accuracy score %s ----\" % acc)\n",
        "\n",
        "cm = confusion_matrix(y_test,abc)\n",
        "#df_cm = pd.DataFrame(cm)\n",
        "class_names = ['neutral', 'happy','sad','angry', 'fearful' ]\n",
        "df_cm = pd.DataFrame(cm, index=class_names, columns=class_names,)\n",
        "sn.heatmap(df_cm, annot=True, fmt='')\n",
        "plt.show()"
      ]
    },
    {
      "cell_type": "code",
      "execution_count": 25,
      "metadata": {
        "id": "vcuBTzA93UQk",
        "colab": {
          "base_uri": "https://localhost:8080/"
        },
        "outputId": "2a035328-5fec-4fa7-91e4-baf4e9e4e5bf"
      },
      "outputs": [
        {
          "output_type": "stream",
          "name": "stdout",
          "text": [
            "INFO:tensorflow:Assets written to: /content/drive/My Drive/fusion/savee/audio/model/expert3/best_CNN_model/assets\n",
            "MODEL SAVED\n"
          ]
        }
      ],
      "source": [
        "model.save('/content/drive/My Drive/fusion/savee/audio/model/expert3/best_CNN_model')\n",
        "print(\"MODEL SAVED\")"
      ]
    },
    {
      "cell_type": "code",
      "execution_count": 26,
      "metadata": {
        "id": "nGyu3Eyagpf2"
      },
      "outputs": [],
      "source": [
        "model_file_name = f'/content/drive/My Drive/fusion/savee/audio/model/expert3/best_CNN_model___Loss_{loss}___Accuracy_{acc}.h5'\n",
        "\n",
        "# Save the Model.\n",
        "model.save(model_file_name)"
      ]
    },
    {
      "cell_type": "code",
      "execution_count": 27,
      "metadata": {
        "id": "eVzRK3BBgg9l"
      },
      "outputs": [],
      "source": [
        "# serialize model to JSON\n",
        "model_json = model.to_json()\n",
        "with open(\"/content/drive/My Drive/fusion/savee/audio/model/expert3/best_CNN_model.json\", \"w\") as json_file:\n",
        "    json_file.write(model_json)"
      ]
    },
    {
      "cell_type": "code",
      "source": [
        "prediction_train = model.predict(x_traincnn)\n",
        "prediction_train"
      ],
      "metadata": {
        "colab": {
          "base_uri": "https://localhost:8080/"
        },
        "id": "MQKHp2Zepvt-",
        "outputId": "75970d89-e3f7-476b-aed9-7537933f2bde"
      },
      "execution_count": 28,
      "outputs": [
        {
          "output_type": "execute_result",
          "data": {
            "text/plain": [
              "array([[7.5314278e-03, 6.9195002e-01, 1.8729962e-02, 1.4136465e-01,\n",
              "        1.4042391e-01],\n",
              "       [1.4236375e-03, 5.9056915e-02, 2.9612906e-04, 9.3227637e-01,\n",
              "        6.9468860e-03],\n",
              "       [1.5009580e-02, 1.3557322e-01, 1.3196324e-02, 8.2339495e-01,\n",
              "        1.2825922e-02],\n",
              "       ...,\n",
              "       [1.7710574e-04, 6.0955748e-02, 3.8476803e-05, 1.8979724e-02,\n",
              "        9.1984892e-01],\n",
              "       [5.4840704e-05, 3.8518579e-04, 9.9069488e-01, 8.1453362e-04,\n",
              "        8.0505554e-03],\n",
              "       [9.8889101e-01, 1.7940380e-04, 1.0235494e-02, 6.3527841e-04,\n",
              "        5.8778558e-05]], dtype=float32)"
            ]
          },
          "metadata": {},
          "execution_count": 28
        }
      ]
    },
    {
      "cell_type": "code",
      "source": [
        "df_audio_train = pd.DataFrame(prediction_train,columns=[\"OA_\"+str(i) for i in range(5)])"
      ],
      "metadata": {
        "id": "OzTsbZuiKJCs"
      },
      "execution_count": 29,
      "outputs": []
    },
    {
      "cell_type": "code",
      "source": [
        "prediction_valid = model.predict(x_valid)\n",
        "prediction_valid"
      ],
      "metadata": {
        "colab": {
          "base_uri": "https://localhost:8080/"
        },
        "id": "7-NgOypyKMSE",
        "outputId": "486293eb-91c8-42c9-baaa-1a2d9f62ff46"
      },
      "execution_count": 30,
      "outputs": [
        {
          "output_type": "execute_result",
          "data": {
            "text/plain": [
              "array([[9.75766599e-01, 3.92451824e-04, 2.29319986e-02, 8.51985009e-04,\n",
              "        5.68290670e-05],\n",
              "       [1.83246024e-02, 5.65796047e-02, 2.89326557e-03, 8.06304336e-01,\n",
              "        1.15898088e-01],\n",
              "       [9.76771023e-03, 4.27840680e-01, 1.99619960e-02, 2.32327268e-01,\n",
              "        3.10102373e-01],\n",
              "       [7.17771530e-01, 1.87739311e-03, 2.79165655e-01, 8.99166102e-04,\n",
              "        2.86314229e-04],\n",
              "       [2.06311464e-01, 7.16126710e-02, 4.63335872e-01, 1.90865070e-01,\n",
              "        6.78749233e-02],\n",
              "       [7.99565867e-04, 3.49659771e-02, 8.43180835e-01, 3.51909064e-02,\n",
              "        8.58626962e-02],\n",
              "       [6.78092420e-01, 5.08099534e-02, 1.62636682e-01, 7.97808319e-02,\n",
              "        2.86801159e-02],\n",
              "       [1.19679964e-04, 7.35565845e-04, 9.87757802e-01, 1.32318714e-03,\n",
              "        1.00637926e-02],\n",
              "       [2.08142883e-04, 5.59069663e-02, 6.85497999e-01, 3.42749022e-02,\n",
              "        2.24112034e-01],\n",
              "       [1.52638434e-02, 4.69757915e-01, 2.05530506e-02, 4.59447950e-01,\n",
              "        3.49772498e-02],\n",
              "       [3.56372386e-01, 2.66691134e-03, 6.30006373e-01, 8.03530030e-03,\n",
              "        2.91905436e-03],\n",
              "       [7.55157907e-06, 9.06805575e-01, 2.03028794e-05, 6.93988707e-03,\n",
              "        8.62266347e-02],\n",
              "       [5.44224620e-01, 2.45746481e-03, 4.20657128e-01, 7.71791860e-03,\n",
              "        2.49429401e-02],\n",
              "       [9.45670605e-01, 1.50986994e-03, 4.94464189e-02, 2.98022432e-03,\n",
              "        3.92824993e-04],\n",
              "       [9.74358618e-01, 3.02942237e-04, 2.33259592e-02, 1.46716367e-03,\n",
              "        5.45355841e-04],\n",
              "       [3.03850695e-03, 1.61182374e-01, 1.11041672e-03, 5.14404289e-03,\n",
              "        8.29524636e-01],\n",
              "       [9.93307292e-01, 9.06787638e-04, 2.64766114e-03, 3.06474115e-03,\n",
              "        7.35863359e-05],\n",
              "       [9.03814912e-01, 5.06893848e-04, 9.26323161e-02, 2.55175331e-03,\n",
              "        4.94121923e-04],\n",
              "       [9.56480205e-01, 3.17905826e-04, 3.83238494e-02, 4.18013847e-03,\n",
              "        6.97903393e-04],\n",
              "       [9.09433365e-01, 1.90074500e-02, 4.01896909e-02, 1.93295851e-02,\n",
              "        1.20398793e-02],\n",
              "       [9.72090006e-01, 1.77591795e-03, 1.76094882e-02, 8.29136651e-03,\n",
              "        2.33275656e-04],\n",
              "       [1.59942023e-02, 1.81874204e-02, 9.34160471e-01, 2.10403092e-03,\n",
              "        2.95539126e-02],\n",
              "       [8.84096920e-01, 2.27108970e-02, 4.95079793e-02, 9.83721111e-03,\n",
              "        3.38469297e-02],\n",
              "       [1.92524371e-04, 4.04538251e-02, 5.14957901e-05, 6.25260994e-02,\n",
              "        8.96776021e-01],\n",
              "       [8.22894454e-01, 2.97302892e-03, 1.68953061e-01, 1.80054118e-03,\n",
              "        3.37891071e-03],\n",
              "       [5.92629949e-04, 1.68827578e-01, 2.46865302e-03, 7.41605639e-01,\n",
              "        8.65054801e-02],\n",
              "       [7.05924071e-03, 8.06039572e-01, 2.06032768e-03, 1.47810265e-01,\n",
              "        3.70305926e-02],\n",
              "       [2.35773579e-04, 9.59046781e-02, 6.32196083e-04, 8.92868459e-01,\n",
              "        1.03588831e-02],\n",
              "       [9.80732501e-01, 4.29573149e-04, 1.53113529e-02, 3.40268202e-03,\n",
              "        1.23885300e-04],\n",
              "       [6.81000121e-04, 4.97472376e-01, 2.16307375e-03, 5.73991938e-03,\n",
              "        4.93943721e-01],\n",
              "       [2.36439355e-05, 8.33986774e-02, 2.77143572e-05, 1.73046009e-03,\n",
              "        9.14819539e-01],\n",
              "       [2.52700440e-04, 7.28620291e-02, 3.61412996e-04, 9.24425721e-01,\n",
              "        2.09805719e-03],\n",
              "       [8.29375088e-01, 6.44375756e-03, 1.52230874e-01, 7.99681060e-03,\n",
              "        3.95346992e-03],\n",
              "       [9.03415024e-01, 1.12377037e-03, 9.19806957e-02, 2.73670070e-03,\n",
              "        7.43793265e-04],\n",
              "       [9.12370742e-05, 3.06738988e-02, 1.41356086e-05, 5.70116192e-03,\n",
              "        9.63519633e-01],\n",
              "       [9.77552176e-01, 2.92844605e-04, 2.02267915e-02, 1.71962392e-03,\n",
              "        2.08639714e-04]], dtype=float32)"
            ]
          },
          "metadata": {},
          "execution_count": 30
        }
      ]
    },
    {
      "cell_type": "code",
      "source": [
        "df_audio_valid = pd.DataFrame(prediction_valid,columns=[\"OA_\"+str(i) for i in range(5)])"
      ],
      "metadata": {
        "id": "Po6mRX1CKQAy"
      },
      "execution_count": 31,
      "outputs": []
    },
    {
      "cell_type": "code",
      "source": [
        "import joblib\n",
        "\n",
        "save_dir = '/content/drive/My Drive/fusion/savee/audio/data_set/expert3'\n",
        "\n",
        "savedvX = joblib.dump(df_audio_train, os.path.join(save_dir, 'train/predict_train'))\n",
        "savedvX = joblib.dump(df_audio_test, os.path.join(save_dir, 'test/predict_test'))\n",
        "savedvX = joblib.dump(df_audio_valid, os.path.join(save_dir, 'valid/predict_valid'))"
      ],
      "metadata": {
        "id": "m7xRo0_bBvxL"
      },
      "execution_count": 32,
      "outputs": []
    },
    {
      "cell_type": "code",
      "source": [
        ""
      ],
      "metadata": {
        "id": "qVLirBo3xb0n"
      },
      "execution_count": 32,
      "outputs": []
    }
  ],
  "metadata": {
    "accelerator": "GPU",
    "colab": {
      "collapsed_sections": [],
      "name": "final_model_audio_savee_expert3.ipynb",
      "provenance": [],
      "machine_shape": "hm"
    },
    "kernelspec": {
      "display_name": "Python 3",
      "language": "python",
      "name": "python3"
    },
    "language_info": {
      "codemirror_mode": {
        "name": "ipython",
        "version": 3
      },
      "file_extension": ".py",
      "mimetype": "text/x-python",
      "name": "python",
      "nbconvert_exporter": "python",
      "pygments_lexer": "ipython3",
      "version": "3.7.10"
    }
  },
  "nbformat": 4,
  "nbformat_minor": 0
}