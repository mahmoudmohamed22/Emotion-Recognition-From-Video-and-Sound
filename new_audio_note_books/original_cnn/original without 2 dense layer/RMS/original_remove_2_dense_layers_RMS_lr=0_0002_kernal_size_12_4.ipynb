{
  "nbformat": 4,
  "nbformat_minor": 0,
  "metadata": {
    "colab": {
      "name": "original_remove_2_dense_layers_RMS_lr=0_0002_kernal_size_12_4.ipynb",
      "provenance": [],
      "collapsed_sections": []
    },
    "kernelspec": {
      "name": "python3",
      "display_name": "Python 3"
    },
    "language_info": {
      "name": "python"
    },
    "accelerator": "TPU"
  },
  "cells": [
    {
      "cell_type": "code",
      "execution_count": 2,
      "metadata": {
        "colab": {
          "base_uri": "https://localhost:8080/"
        },
        "id": "9SRCO-a_AlH5",
        "outputId": "0b0135cf-cc0c-48d0-aa16-9b1c80a39629"
      },
      "outputs": [
        {
          "output_type": "stream",
          "name": "stdout",
          "text": [
            "Mounted at /content/drive\n"
          ]
        }
      ],
      "source": [
        "from google.colab import drive\n",
        "drive.mount('/content/drive')"
      ]
    },
    {
      "cell_type": "code",
      "source": [
        "!pip install librosa"
      ],
      "metadata": {
        "colab": {
          "base_uri": "https://localhost:8080/"
        },
        "id": "5Lo4mUwG9RMd",
        "outputId": "e8697ad9-8d1c-4838-e14f-c718dfc05341"
      },
      "execution_count": 3,
      "outputs": [
        {
          "output_type": "stream",
          "name": "stdout",
          "text": [
            "Looking in indexes: https://pypi.org/simple, https://us-python.pkg.dev/colab-wheels/public/simple/\n",
            "Requirement already satisfied: librosa in /usr/local/lib/python3.7/dist-packages (0.8.1)\n",
            "Requirement already satisfied: soundfile>=0.10.2 in /usr/local/lib/python3.7/dist-packages (from librosa) (0.10.3.post1)\n",
            "Requirement already satisfied: decorator>=3.0.0 in /usr/local/lib/python3.7/dist-packages (from librosa) (4.4.2)\n",
            "Requirement already satisfied: scikit-learn!=0.19.0,>=0.14.0 in /usr/local/lib/python3.7/dist-packages (from librosa) (1.0.2)\n",
            "Requirement already satisfied: joblib>=0.14 in /usr/local/lib/python3.7/dist-packages (from librosa) (1.1.0)\n",
            "Requirement already satisfied: resampy>=0.2.2 in /usr/local/lib/python3.7/dist-packages (from librosa) (0.2.2)\n",
            "Requirement already satisfied: scipy>=1.0.0 in /usr/local/lib/python3.7/dist-packages (from librosa) (1.4.1)\n",
            "Requirement already satisfied: audioread>=2.0.0 in /usr/local/lib/python3.7/dist-packages (from librosa) (2.1.9)\n",
            "Requirement already satisfied: numpy>=1.15.0 in /usr/local/lib/python3.7/dist-packages (from librosa) (1.21.6)\n",
            "Requirement already satisfied: numba>=0.43.0 in /usr/local/lib/python3.7/dist-packages (from librosa) (0.51.2)\n",
            "Requirement already satisfied: packaging>=20.0 in /usr/local/lib/python3.7/dist-packages (from librosa) (21.3)\n",
            "Requirement already satisfied: pooch>=1.0 in /usr/local/lib/python3.7/dist-packages (from librosa) (1.6.0)\n",
            "Requirement already satisfied: setuptools in /usr/local/lib/python3.7/dist-packages (from numba>=0.43.0->librosa) (57.4.0)\n",
            "Requirement already satisfied: llvmlite<0.35,>=0.34.0.dev0 in /usr/local/lib/python3.7/dist-packages (from numba>=0.43.0->librosa) (0.34.0)\n",
            "Requirement already satisfied: pyparsing!=3.0.5,>=2.0.2 in /usr/local/lib/python3.7/dist-packages (from packaging>=20.0->librosa) (3.0.9)\n",
            "Requirement already satisfied: appdirs>=1.3.0 in /usr/local/lib/python3.7/dist-packages (from pooch>=1.0->librosa) (1.4.4)\n",
            "Requirement already satisfied: requests>=2.19.0 in /usr/local/lib/python3.7/dist-packages (from pooch>=1.0->librosa) (2.23.0)\n",
            "Requirement already satisfied: idna<3,>=2.5 in /usr/local/lib/python3.7/dist-packages (from requests>=2.19.0->pooch>=1.0->librosa) (2.10)\n",
            "Requirement already satisfied: urllib3!=1.25.0,!=1.25.1,<1.26,>=1.21.1 in /usr/local/lib/python3.7/dist-packages (from requests>=2.19.0->pooch>=1.0->librosa) (1.24.3)\n",
            "Requirement already satisfied: chardet<4,>=3.0.2 in /usr/local/lib/python3.7/dist-packages (from requests>=2.19.0->pooch>=1.0->librosa) (3.0.4)\n",
            "Requirement already satisfied: certifi>=2017.4.17 in /usr/local/lib/python3.7/dist-packages (from requests>=2.19.0->pooch>=1.0->librosa) (2022.5.18.1)\n",
            "Requirement already satisfied: six>=1.3 in /usr/local/lib/python3.7/dist-packages (from resampy>=0.2.2->librosa) (1.15.0)\n",
            "Requirement already satisfied: threadpoolctl>=2.0.0 in /usr/local/lib/python3.7/dist-packages (from scikit-learn!=0.19.0,>=0.14.0->librosa) (3.1.0)\n",
            "Requirement already satisfied: cffi>=1.0 in /usr/local/lib/python3.7/dist-packages (from soundfile>=0.10.2->librosa) (1.15.0)\n",
            "Requirement already satisfied: pycparser in /usr/local/lib/python3.7/dist-packages (from cffi>=1.0->soundfile>=0.10.2->librosa) (2.21)\n"
          ]
        }
      ]
    },
    {
      "cell_type": "code",
      "metadata": {
        "id": "HJjcbxwy46bG",
        "colab": {
          "base_uri": "https://localhost:8080/",
          "height": 17
        },
        "outputId": "aa37199a-700c-42b0-a8ae-bf96e4f626fa"
      },
      "source": [
        "# Orignial Notebook: https://github.com/MITESHPUTHRANNEU/Speech-Emotion-Analyzer/blob/master/final_results_gender_test.ipynb\n",
        "# This notebook author: Reza Chu\n",
        "# Last Editing Date: 31st May 2019\n",
        "\n",
        "## Python\n",
        "import os\n",
        "import random\n",
        "import sys\n",
        "\n",
        "import IPython\n",
        "from IPython.display import Audio\n",
        "from IPython.display import Image\n",
        "import matplotlib.pyplot as plt\n",
        "\n",
        "## Package\n",
        "import glob \n",
        "import keras\n",
        "import IPython.display as ipd\n",
        "import librosa\n",
        "import librosa.display\n",
        "import matplotlib.pyplot as plt\n",
        "import numpy as np\n",
        "import pandas as pd\n",
        "import plotly.graph_objs as go\n",
        "import plotly.offline as py\n",
        "import plotly.tools as tls\n",
        "import seaborn as sns\n",
        "import scipy.io.wavfile\n",
        "import tensorflow as tf\n",
        "py.init_notebook_mode(connected=True)\n",
        "\n",
        "## Keras\n",
        "from keras import regularizers\n",
        "from keras.callbacks import ModelCheckpoint, LearningRateScheduler, EarlyStopping\n",
        "from keras.callbacks import  History, ReduceLROnPlateau, CSVLogger\n",
        "from keras.models import Model, Sequential\n",
        "from keras.layers import Dense, Embedding, LSTM\n",
        "from keras.layers import Input, Flatten, Dropout, Activation, BatchNormalization\n",
        "from keras.layers import Conv1D, MaxPooling1D, AveragePooling1D\n",
        "from keras.preprocessing import sequence\n",
        "from keras.preprocessing.sequence import pad_sequences\n",
        "from keras.preprocessing.text import Tokenizer\n",
        "from keras.utils import np_utils\n",
        "from tensorflow.keras.utils import to_categorical\n",
        "\n",
        "## Sklearn\n",
        "from sklearn.metrics import confusion_matrix\n",
        "from sklearn.preprocessing import LabelEncoder\n",
        "\n",
        "## Rest\n",
        "from scipy.fftpack import fft\n",
        "from scipy import signal\n",
        "from scipy.io import wavfile\n",
        "from tqdm import tqdm\n",
        "\n",
        "input_duration=3\n",
        "# % pylab inline"
      ],
      "execution_count": 4,
      "outputs": [
        {
          "output_type": "display_data",
          "data": {
            "text/html": [
              "        <script type=\"text/javascript\">\n",
              "        window.PlotlyConfig = {MathJaxConfig: 'local'};\n",
              "        if (window.MathJax) {MathJax.Hub.Config({SVG: {font: \"STIX-Web\"}});}\n",
              "        if (typeof require !== 'undefined') {\n",
              "        require.undef(\"plotly\");\n",
              "        requirejs.config({\n",
              "            paths: {\n",
              "                'plotly': ['https://cdn.plot.ly/plotly-2.8.3.min']\n",
              "            }\n",
              "        });\n",
              "        require(['plotly'], function(Plotly) {\n",
              "            window._Plotly = Plotly;\n",
              "        });\n",
              "        }\n",
              "        </script>\n",
              "        "
            ]
          },
          "metadata": {}
        }
      ]
    },
    {
      "cell_type": "code",
      "source": [
        "# # Saving joblib files to not load them again with the loop above\n",
        "\n",
        "# import joblib\n",
        "\n",
        "# X_name = 'x.joblib'\n",
        "# y_name = 'y.joblib'\n",
        "# save_dir = '/content/drive/My Drive/graduation project/audio/paper_code/features'\n",
        "\n",
        "# savedX = joblib.dump(X, os.path.join(save_dir, X_name))\n",
        "# savedy = joblib.dump(y, os.path.join(save_dir, y_name))"
      ],
      "metadata": {
        "id": "UCzic8rlDcuk"
      },
      "execution_count": null,
      "outputs": []
    },
    {
      "cell_type": "code",
      "source": [
        "# # Loading saved models\n",
        "import joblib\n",
        "X = joblib.load('/content/drive/My Drive/graduation project/audio/paper_code/features/x.joblib')\n",
        "y = joblib.load('/content/drive/My Drive/graduation project/audio/paper_code/features/y.joblib')"
      ],
      "metadata": {
        "id": "Q35CN6zDrzg1"
      },
      "execution_count": 5,
      "outputs": []
    },
    {
      "cell_type": "code",
      "source": [
        "X.shape"
      ],
      "metadata": {
        "id": "7PSTurzjCo5K",
        "colab": {
          "base_uri": "https://localhost:8080/"
        },
        "outputId": "596e0d6f-2e0e-4cfc-9758-c149627f7f4d"
      },
      "execution_count": 6,
      "outputs": [
        {
          "output_type": "execute_result",
          "data": {
            "text/plain": [
              "(2068, 40)"
            ]
          },
          "metadata": {},
          "execution_count": 6
        }
      ]
    },
    {
      "cell_type": "code",
      "source": [
        "from sklearn.model_selection import train_test_split\n",
        "\n",
        "X_train, X_test, y_train, y_test = train_test_split(X,y, test_size=0.1 ,shuffle = True\n",
        "                                                    , random_state=42)\n",
        "X_train , X_valid, y_train, y_valid = train_test_split(X_train,y_train, test_size=0.1112305212 , shuffle = True \n",
        "                                                       , random_state=42)"
      ],
      "metadata": {
        "id": "Ai4Fy5cPCiq1"
      },
      "execution_count": 7,
      "outputs": []
    },
    {
      "cell_type": "code",
      "source": [
        "import numpy as np\n",
        "x_traincnn = np.expand_dims(X_train, axis=2)\n",
        "x_testcnn = np.expand_dims(X_test, axis=2)\n",
        "X_valid= np.expand_dims(X_valid, axis=2)"
      ],
      "metadata": {
        "id": "tp1Fm5K3CEXu"
      },
      "execution_count": 8,
      "outputs": []
    },
    {
      "cell_type": "code",
      "source": [
        "x_traincnn.shape, x_testcnn.shape , X_valid.shape\n",
        "#1861"
      ],
      "metadata": {
        "id": "RI0MxoIPBws5",
        "colab": {
          "base_uri": "https://localhost:8080/"
        },
        "outputId": "f1a618fe-3ee7-4ebc-df0e-747eb4b954ad"
      },
      "execution_count": 9,
      "outputs": [
        {
          "output_type": "execute_result",
          "data": {
            "text/plain": [
              "((1654, 40, 1), (207, 40, 1), (207, 40, 1))"
            ]
          },
          "metadata": {},
          "execution_count": 9
        }
      ]
    },
    {
      "cell_type": "code",
      "source": [
        "!pip install tensorflow"
      ],
      "metadata": {
        "id": "oALhiMUd9G2Y",
        "colab": {
          "base_uri": "https://localhost:8080/"
        },
        "outputId": "d8ca330b-0000-417d-ee74-ea3c3555a31e"
      },
      "execution_count": 10,
      "outputs": [
        {
          "output_type": "stream",
          "name": "stdout",
          "text": [
            "Looking in indexes: https://pypi.org/simple, https://us-python.pkg.dev/colab-wheels/public/simple/\n",
            "Requirement already satisfied: tensorflow in /usr/local/lib/python3.7/dist-packages (2.8.2+zzzcolab20220527125636)\n",
            "Requirement already satisfied: astunparse>=1.6.0 in /usr/local/lib/python3.7/dist-packages (from tensorflow) (1.6.3)\n",
            "Requirement already satisfied: grpcio<2.0,>=1.24.3 in /usr/local/lib/python3.7/dist-packages (from tensorflow) (1.46.3)\n",
            "Requirement already satisfied: flatbuffers>=1.12 in /usr/local/lib/python3.7/dist-packages (from tensorflow) (2.0)\n",
            "Requirement already satisfied: absl-py>=0.4.0 in /usr/local/lib/python3.7/dist-packages (from tensorflow) (1.0.0)\n",
            "Requirement already satisfied: protobuf<3.20,>=3.9.2 in /usr/local/lib/python3.7/dist-packages (from tensorflow) (3.17.3)\n",
            "Requirement already satisfied: tensorflow-estimator<2.9,>=2.8 in /usr/local/lib/python3.7/dist-packages (from tensorflow) (2.8.0)\n",
            "Requirement already satisfied: termcolor>=1.1.0 in /usr/local/lib/python3.7/dist-packages (from tensorflow) (1.1.0)\n",
            "Requirement already satisfied: libclang>=9.0.1 in /usr/local/lib/python3.7/dist-packages (from tensorflow) (14.0.1)\n",
            "Requirement already satisfied: gast>=0.2.1 in /usr/local/lib/python3.7/dist-packages (from tensorflow) (0.5.3)\n",
            "Requirement already satisfied: h5py>=2.9.0 in /usr/local/lib/python3.7/dist-packages (from tensorflow) (3.1.0)\n",
            "Requirement already satisfied: keras-preprocessing>=1.1.1 in /usr/local/lib/python3.7/dist-packages (from tensorflow) (1.1.2)\n",
            "Requirement already satisfied: wrapt>=1.11.0 in /usr/local/lib/python3.7/dist-packages (from tensorflow) (1.14.1)\n",
            "Requirement already satisfied: tensorflow-io-gcs-filesystem>=0.23.1 in /usr/local/lib/python3.7/dist-packages (from tensorflow) (0.26.0)\n",
            "Requirement already satisfied: numpy>=1.20 in /usr/local/lib/python3.7/dist-packages (from tensorflow) (1.21.6)\n",
            "Requirement already satisfied: keras<2.9,>=2.8.0rc0 in /usr/local/lib/python3.7/dist-packages (from tensorflow) (2.8.0)\n",
            "Requirement already satisfied: typing-extensions>=3.6.6 in /usr/local/lib/python3.7/dist-packages (from tensorflow) (4.2.0)\n",
            "Requirement already satisfied: six>=1.12.0 in /usr/local/lib/python3.7/dist-packages (from tensorflow) (1.15.0)\n",
            "Requirement already satisfied: tensorboard<2.9,>=2.8 in /usr/local/lib/python3.7/dist-packages (from tensorflow) (2.8.0)\n",
            "Requirement already satisfied: google-pasta>=0.1.1 in /usr/local/lib/python3.7/dist-packages (from tensorflow) (0.2.0)\n",
            "Requirement already satisfied: setuptools in /usr/local/lib/python3.7/dist-packages (from tensorflow) (57.4.0)\n",
            "Requirement already satisfied: opt-einsum>=2.3.2 in /usr/local/lib/python3.7/dist-packages (from tensorflow) (3.3.0)\n",
            "Requirement already satisfied: wheel<1.0,>=0.23.0 in /usr/local/lib/python3.7/dist-packages (from astunparse>=1.6.0->tensorflow) (0.37.1)\n",
            "Requirement already satisfied: cached-property in /usr/local/lib/python3.7/dist-packages (from h5py>=2.9.0->tensorflow) (1.5.2)\n",
            "Requirement already satisfied: requests<3,>=2.21.0 in /usr/local/lib/python3.7/dist-packages (from tensorboard<2.9,>=2.8->tensorflow) (2.23.0)\n",
            "Requirement already satisfied: tensorboard-data-server<0.7.0,>=0.6.0 in /usr/local/lib/python3.7/dist-packages (from tensorboard<2.9,>=2.8->tensorflow) (0.6.1)\n",
            "Requirement already satisfied: google-auth-oauthlib<0.5,>=0.4.1 in /usr/local/lib/python3.7/dist-packages (from tensorboard<2.9,>=2.8->tensorflow) (0.4.6)\n",
            "Requirement already satisfied: markdown>=2.6.8 in /usr/local/lib/python3.7/dist-packages (from tensorboard<2.9,>=2.8->tensorflow) (3.3.7)\n",
            "Requirement already satisfied: werkzeug>=0.11.15 in /usr/local/lib/python3.7/dist-packages (from tensorboard<2.9,>=2.8->tensorflow) (1.0.1)\n",
            "Requirement already satisfied: tensorboard-plugin-wit>=1.6.0 in /usr/local/lib/python3.7/dist-packages (from tensorboard<2.9,>=2.8->tensorflow) (1.8.1)\n",
            "Requirement already satisfied: google-auth<3,>=1.6.3 in /usr/local/lib/python3.7/dist-packages (from tensorboard<2.9,>=2.8->tensorflow) (1.35.0)\n",
            "Requirement already satisfied: cachetools<5.0,>=2.0.0 in /usr/local/lib/python3.7/dist-packages (from google-auth<3,>=1.6.3->tensorboard<2.9,>=2.8->tensorflow) (4.2.4)\n",
            "Requirement already satisfied: rsa<5,>=3.1.4 in /usr/local/lib/python3.7/dist-packages (from google-auth<3,>=1.6.3->tensorboard<2.9,>=2.8->tensorflow) (4.8)\n",
            "Requirement already satisfied: pyasn1-modules>=0.2.1 in /usr/local/lib/python3.7/dist-packages (from google-auth<3,>=1.6.3->tensorboard<2.9,>=2.8->tensorflow) (0.2.8)\n",
            "Requirement already satisfied: requests-oauthlib>=0.7.0 in /usr/local/lib/python3.7/dist-packages (from google-auth-oauthlib<0.5,>=0.4.1->tensorboard<2.9,>=2.8->tensorflow) (1.3.1)\n",
            "Requirement already satisfied: importlib-metadata>=4.4 in /usr/local/lib/python3.7/dist-packages (from markdown>=2.6.8->tensorboard<2.9,>=2.8->tensorflow) (4.11.4)\n",
            "Requirement already satisfied: zipp>=0.5 in /usr/local/lib/python3.7/dist-packages (from importlib-metadata>=4.4->markdown>=2.6.8->tensorboard<2.9,>=2.8->tensorflow) (3.8.0)\n",
            "Requirement already satisfied: pyasn1<0.5.0,>=0.4.6 in /usr/local/lib/python3.7/dist-packages (from pyasn1-modules>=0.2.1->google-auth<3,>=1.6.3->tensorboard<2.9,>=2.8->tensorflow) (0.4.8)\n",
            "Requirement already satisfied: certifi>=2017.4.17 in /usr/local/lib/python3.7/dist-packages (from requests<3,>=2.21.0->tensorboard<2.9,>=2.8->tensorflow) (2022.5.18.1)\n",
            "Requirement already satisfied: chardet<4,>=3.0.2 in /usr/local/lib/python3.7/dist-packages (from requests<3,>=2.21.0->tensorboard<2.9,>=2.8->tensorflow) (3.0.4)\n",
            "Requirement already satisfied: urllib3!=1.25.0,!=1.25.1,<1.26,>=1.21.1 in /usr/local/lib/python3.7/dist-packages (from requests<3,>=2.21.0->tensorboard<2.9,>=2.8->tensorflow) (1.24.3)\n",
            "Requirement already satisfied: idna<3,>=2.5 in /usr/local/lib/python3.7/dist-packages (from requests<3,>=2.21.0->tensorboard<2.9,>=2.8->tensorflow) (2.10)\n",
            "Requirement already satisfied: oauthlib>=3.0.0 in /usr/local/lib/python3.7/dist-packages (from requests-oauthlib>=0.7.0->google-auth-oauthlib<0.5,>=0.4.1->tensorboard<2.9,>=2.8->tensorflow) (3.2.0)\n"
          ]
        }
      ]
    },
    {
      "cell_type": "code",
      "source": [
        "import keras\n",
        "import numpy as np\n",
        "import matplotlib.pyplot as plt\n",
        "import tensorflow as tf\n",
        "from keras.preprocessing import sequence\n",
        "from keras.models import Sequential\n",
        "from keras.layers import Dense, Embedding\n",
        "from tensorflow.keras.utils import to_categorical\n",
        "from keras.layers import Input, Flatten, Dropout, Activation\n",
        "from keras.layers import Conv1D, MaxPooling1D\n",
        "from keras.models import Model\n",
        "from keras.callbacks import ModelCheckpoint\n",
        "from tensorflow.keras import optimizers\n",
        "\n",
        "model = Sequential()\n",
        "\n",
        "model.add(Conv1D(64, 12,padding='same', #classifier.add(Convolution2D(64, (3, 3), padding = 'same', input_shape = (128, 128, 3), activation = 'relu'))\n",
        "                 input_shape=(40,1)))\n",
        "model.add(Activation('relu'))\n",
        "model.add(Dropout(0.3))\n",
        "model.add(MaxPooling1D(pool_size=(5)))\n",
        "\n",
        "\n",
        "model.add(Conv1D(128,12,padding='same',))\n",
        "model.add(Activation('relu'))\n",
        "model.add(Dropout(0.3))\n",
        "model.add(MaxPooling1D(pool_size=(5)))\n",
        "\n",
        "#model.add(MaxPooling1D(pool_size=(5)))\n",
        "\n",
        "model.add(Flatten())\n",
        "\n",
        "\n",
        "\n",
        "model.add(Dense(6))\n",
        "model.add(Activation('softmax'))\n",
        "\n",
        "\n",
        "opt = tf.keras.optimizers.RMSprop(lr=0.0002 , decay=0.0)\n",
        "#opt = tf.keras.optimizers.Adam(lr=0.0002 , decay=0.0)\n",
        "#opt = tf.keras.optimizers.RMSprop(lr=0.0001, rho=0.9, epsilon=1e-07, decay=0.0)\n",
        "#opt = tf.keras.optimizers.SGD(lr=0.001, momentum=0.0, decay=0.0, nesterov=False)"
      ],
      "metadata": {
        "id": "g74fXWVAC4Cr",
        "colab": {
          "base_uri": "https://localhost:8080/"
        },
        "outputId": "8553da7f-0124-4310-f6e6-0aa6e9746a7f"
      },
      "execution_count": 11,
      "outputs": [
        {
          "output_type": "stream",
          "name": "stderr",
          "text": [
            "/usr/local/lib/python3.7/dist-packages/keras/optimizer_v2/rmsprop.py:130: UserWarning:\n",
            "\n",
            "The `lr` argument is deprecated, use `learning_rate` instead.\n",
            "\n"
          ]
        }
      ]
    },
    {
      "cell_type": "code",
      "source": [
        "model.summary()"
      ],
      "metadata": {
        "id": "H6ukOxAGC_I4",
        "colab": {
          "base_uri": "https://localhost:8080/"
        },
        "outputId": "4a041718-0186-4508-bddb-4ca07fc27d1e"
      },
      "execution_count": 12,
      "outputs": [
        {
          "output_type": "stream",
          "name": "stdout",
          "text": [
            "Model: \"sequential\"\n",
            "_________________________________________________________________\n",
            " Layer (type)                Output Shape              Param #   \n",
            "=================================================================\n",
            " conv1d (Conv1D)             (None, 40, 64)            832       \n",
            "                                                                 \n",
            " activation (Activation)     (None, 40, 64)            0         \n",
            "                                                                 \n",
            " dropout (Dropout)           (None, 40, 64)            0         \n",
            "                                                                 \n",
            " max_pooling1d (MaxPooling1D  (None, 8, 64)            0         \n",
            " )                                                               \n",
            "                                                                 \n",
            " conv1d_1 (Conv1D)           (None, 8, 128)            98432     \n",
            "                                                                 \n",
            " activation_1 (Activation)   (None, 8, 128)            0         \n",
            "                                                                 \n",
            " dropout_1 (Dropout)         (None, 8, 128)            0         \n",
            "                                                                 \n",
            " max_pooling1d_1 (MaxPooling  (None, 1, 128)           0         \n",
            " 1D)                                                             \n",
            "                                                                 \n",
            " flatten (Flatten)           (None, 128)               0         \n",
            "                                                                 \n",
            " dense (Dense)               (None, 6)                 774       \n",
            "                                                                 \n",
            " activation_2 (Activation)   (None, 6)                 0         \n",
            "                                                                 \n",
            "=================================================================\n",
            "Total params: 100,038\n",
            "Trainable params: 100,038\n",
            "Non-trainable params: 0\n",
            "_________________________________________________________________\n"
          ]
        }
      ]
    },
    {
      "cell_type": "code",
      "source": [
        "model.compile(loss='sparse_categorical_crossentropy',\n",
        "              optimizer=opt,\n",
        "              metrics=['accuracy'])"
      ],
      "metadata": {
        "id": "AbMlLNk4DCBM"
      },
      "execution_count": 13,
      "outputs": []
    },
    {
      "cell_type": "code",
      "source": [
        "# Create an Instance of Early Stopping Callback.\n",
        "early_stopping_callback = EarlyStopping(monitor = 'val_loss', patience = 25, mode = 'min', restore_best_weights = True)\n",
        "\n",
        "cnnhistory=model.fit(x_traincnn, y_train, batch_size=16, epochs=500 , shuffle = True, \n",
        "                     validation_data=(X_valid, y_valid) , callbacks = [early_stopping_callback])"
      ],
      "metadata": {
        "id": "RI1v2AuADFhy",
        "colab": {
          "base_uri": "https://localhost:8080/"
        },
        "outputId": "4be0e1c7-b372-41a7-8622-4a63e0bb4e70"
      },
      "execution_count": 14,
      "outputs": [
        {
          "output_type": "stream",
          "name": "stdout",
          "text": [
            "Epoch 1/500\n",
            "104/104 [==============================] - 2s 10ms/step - loss: 12.5199 - accuracy: 0.1808 - val_loss: 5.2598 - val_accuracy: 0.1594\n",
            "Epoch 2/500\n",
            "104/104 [==============================] - 1s 8ms/step - loss: 8.8671 - accuracy: 0.1989 - val_loss: 2.4023 - val_accuracy: 0.1932\n",
            "Epoch 3/500\n",
            "104/104 [==============================] - 1s 8ms/step - loss: 7.0397 - accuracy: 0.2116 - val_loss: 2.9654 - val_accuracy: 0.2126\n",
            "Epoch 4/500\n",
            "104/104 [==============================] - 1s 8ms/step - loss: 5.8921 - accuracy: 0.2128 - val_loss: 1.8616 - val_accuracy: 0.2995\n",
            "Epoch 5/500\n",
            "104/104 [==============================] - 1s 8ms/step - loss: 5.0282 - accuracy: 0.2219 - val_loss: 1.9567 - val_accuracy: 0.3140\n",
            "Epoch 6/500\n",
            "104/104 [==============================] - 1s 10ms/step - loss: 4.4826 - accuracy: 0.2164 - val_loss: 3.1338 - val_accuracy: 0.1691\n",
            "Epoch 7/500\n",
            "104/104 [==============================] - 1s 12ms/step - loss: 3.8562 - accuracy: 0.2594 - val_loss: 3.6852 - val_accuracy: 0.1739\n",
            "Epoch 8/500\n",
            "104/104 [==============================] - 1s 12ms/step - loss: 3.4622 - accuracy: 0.2497 - val_loss: 1.7030 - val_accuracy: 0.2995\n",
            "Epoch 9/500\n",
            "104/104 [==============================] - 1s 14ms/step - loss: 3.0767 - accuracy: 0.2666 - val_loss: 2.0763 - val_accuracy: 0.2512\n",
            "Epoch 10/500\n",
            "104/104 [==============================] - 1s 13ms/step - loss: 2.9323 - accuracy: 0.2624 - val_loss: 2.0021 - val_accuracy: 0.2174\n",
            "Epoch 11/500\n",
            "104/104 [==============================] - 1s 13ms/step - loss: 2.5875 - accuracy: 0.2781 - val_loss: 2.1936 - val_accuracy: 0.3043\n",
            "Epoch 12/500\n",
            "104/104 [==============================] - 1s 14ms/step - loss: 2.4849 - accuracy: 0.3011 - val_loss: 1.6973 - val_accuracy: 0.2415\n",
            "Epoch 13/500\n",
            "104/104 [==============================] - 1s 13ms/step - loss: 2.4068 - accuracy: 0.2987 - val_loss: 1.5058 - val_accuracy: 0.3816\n",
            "Epoch 14/500\n",
            "104/104 [==============================] - 1s 14ms/step - loss: 2.1920 - accuracy: 0.3089 - val_loss: 1.5787 - val_accuracy: 0.3237\n",
            "Epoch 15/500\n",
            "104/104 [==============================] - 1s 12ms/step - loss: 2.0811 - accuracy: 0.3253 - val_loss: 1.6941 - val_accuracy: 0.3285\n",
            "Epoch 16/500\n",
            "104/104 [==============================] - 1s 14ms/step - loss: 2.1026 - accuracy: 0.3174 - val_loss: 1.6003 - val_accuracy: 0.2947\n",
            "Epoch 17/500\n",
            "104/104 [==============================] - 1s 13ms/step - loss: 2.0155 - accuracy: 0.3434 - val_loss: 1.5776 - val_accuracy: 0.3575\n",
            "Epoch 18/500\n",
            "104/104 [==============================] - 2s 15ms/step - loss: 1.9238 - accuracy: 0.3555 - val_loss: 1.7122 - val_accuracy: 0.2802\n",
            "Epoch 19/500\n",
            "104/104 [==============================] - 1s 14ms/step - loss: 1.9207 - accuracy: 0.3495 - val_loss: 1.4695 - val_accuracy: 0.3478\n",
            "Epoch 20/500\n",
            "104/104 [==============================] - 1s 13ms/step - loss: 1.7808 - accuracy: 0.3960 - val_loss: 1.5048 - val_accuracy: 0.3720\n",
            "Epoch 21/500\n",
            "104/104 [==============================] - 2s 15ms/step - loss: 1.7936 - accuracy: 0.3706 - val_loss: 1.3655 - val_accuracy: 0.5121\n",
            "Epoch 22/500\n",
            "104/104 [==============================] - 2s 16ms/step - loss: 1.7099 - accuracy: 0.3894 - val_loss: 1.3745 - val_accuracy: 0.4203\n",
            "Epoch 23/500\n",
            "104/104 [==============================] - 2s 15ms/step - loss: 1.6946 - accuracy: 0.3990 - val_loss: 1.8439 - val_accuracy: 0.2464\n",
            "Epoch 24/500\n",
            "104/104 [==============================] - 1s 14ms/step - loss: 1.6959 - accuracy: 0.3875 - val_loss: 1.3873 - val_accuracy: 0.3961\n",
            "Epoch 25/500\n",
            "104/104 [==============================] - 2s 15ms/step - loss: 1.6105 - accuracy: 0.4178 - val_loss: 1.4032 - val_accuracy: 0.4058\n",
            "Epoch 26/500\n",
            "104/104 [==============================] - 2s 15ms/step - loss: 1.5866 - accuracy: 0.4274 - val_loss: 1.3322 - val_accuracy: 0.4300\n",
            "Epoch 27/500\n",
            "104/104 [==============================] - 2s 15ms/step - loss: 1.5773 - accuracy: 0.4214 - val_loss: 1.4450 - val_accuracy: 0.3382\n",
            "Epoch 28/500\n",
            "104/104 [==============================] - 1s 13ms/step - loss: 1.5370 - accuracy: 0.4547 - val_loss: 1.2726 - val_accuracy: 0.4928\n",
            "Epoch 29/500\n",
            "104/104 [==============================] - 1s 12ms/step - loss: 1.5059 - accuracy: 0.4528 - val_loss: 1.2239 - val_accuracy: 0.5217\n",
            "Epoch 30/500\n",
            "104/104 [==============================] - 1s 14ms/step - loss: 1.4882 - accuracy: 0.4613 - val_loss: 1.2614 - val_accuracy: 0.5024\n",
            "Epoch 31/500\n",
            "104/104 [==============================] - 1s 9ms/step - loss: 1.4367 - accuracy: 0.4637 - val_loss: 1.2951 - val_accuracy: 0.4783\n",
            "Epoch 32/500\n",
            "104/104 [==============================] - 1s 8ms/step - loss: 1.4191 - accuracy: 0.4601 - val_loss: 1.1828 - val_accuracy: 0.5556\n",
            "Epoch 33/500\n",
            "104/104 [==============================] - 1s 8ms/step - loss: 1.4185 - accuracy: 0.4649 - val_loss: 1.2627 - val_accuracy: 0.4783\n",
            "Epoch 34/500\n",
            "104/104 [==============================] - 1s 8ms/step - loss: 1.4135 - accuracy: 0.4674 - val_loss: 1.2071 - val_accuracy: 0.5121\n",
            "Epoch 35/500\n",
            "104/104 [==============================] - 1s 8ms/step - loss: 1.3899 - accuracy: 0.4807 - val_loss: 1.1852 - val_accuracy: 0.5507\n",
            "Epoch 36/500\n",
            "104/104 [==============================] - 1s 8ms/step - loss: 1.3692 - accuracy: 0.4933 - val_loss: 1.1283 - val_accuracy: 0.6377\n",
            "Epoch 37/500\n",
            "104/104 [==============================] - 1s 8ms/step - loss: 1.3139 - accuracy: 0.4994 - val_loss: 1.1974 - val_accuracy: 0.5411\n",
            "Epoch 38/500\n",
            "104/104 [==============================] - 1s 8ms/step - loss: 1.2631 - accuracy: 0.5151 - val_loss: 1.1471 - val_accuracy: 0.5652\n",
            "Epoch 39/500\n",
            "104/104 [==============================] - 1s 8ms/step - loss: 1.2975 - accuracy: 0.5097 - val_loss: 1.1330 - val_accuracy: 0.5749\n",
            "Epoch 40/500\n",
            "104/104 [==============================] - 1s 8ms/step - loss: 1.2684 - accuracy: 0.5284 - val_loss: 1.1800 - val_accuracy: 0.5169\n",
            "Epoch 41/500\n",
            "104/104 [==============================] - 1s 9ms/step - loss: 1.2386 - accuracy: 0.5423 - val_loss: 1.1965 - val_accuracy: 0.5362\n",
            "Epoch 42/500\n",
            "104/104 [==============================] - 1s 8ms/step - loss: 1.2261 - accuracy: 0.5278 - val_loss: 1.1437 - val_accuracy: 0.5797\n",
            "Epoch 43/500\n",
            "104/104 [==============================] - 1s 8ms/step - loss: 1.2054 - accuracy: 0.5345 - val_loss: 1.1427 - val_accuracy: 0.5556\n",
            "Epoch 44/500\n",
            "104/104 [==============================] - 1s 8ms/step - loss: 1.2005 - accuracy: 0.5351 - val_loss: 1.1351 - val_accuracy: 0.5266\n",
            "Epoch 45/500\n",
            "104/104 [==============================] - 1s 8ms/step - loss: 1.1524 - accuracy: 0.5435 - val_loss: 1.0489 - val_accuracy: 0.5990\n",
            "Epoch 46/500\n",
            "104/104 [==============================] - 1s 8ms/step - loss: 1.1922 - accuracy: 0.5411 - val_loss: 1.0794 - val_accuracy: 0.6280\n",
            "Epoch 47/500\n",
            "104/104 [==============================] - 1s 8ms/step - loss: 1.1570 - accuracy: 0.5496 - val_loss: 1.0963 - val_accuracy: 0.6232\n",
            "Epoch 48/500\n",
            "104/104 [==============================] - 1s 8ms/step - loss: 1.1149 - accuracy: 0.5653 - val_loss: 1.0380 - val_accuracy: 0.6570\n",
            "Epoch 49/500\n",
            "104/104 [==============================] - 1s 8ms/step - loss: 1.1158 - accuracy: 0.5701 - val_loss: 1.0998 - val_accuracy: 0.5942\n",
            "Epoch 50/500\n",
            "104/104 [==============================] - 1s 8ms/step - loss: 1.1122 - accuracy: 0.5635 - val_loss: 1.0182 - val_accuracy: 0.6425\n",
            "Epoch 51/500\n",
            "104/104 [==============================] - 1s 8ms/step - loss: 1.0854 - accuracy: 0.5895 - val_loss: 1.0505 - val_accuracy: 0.5749\n",
            "Epoch 52/500\n",
            "104/104 [==============================] - 1s 8ms/step - loss: 1.0884 - accuracy: 0.5852 - val_loss: 1.0370 - val_accuracy: 0.5845\n",
            "Epoch 53/500\n",
            "104/104 [==============================] - 1s 8ms/step - loss: 1.0523 - accuracy: 0.6070 - val_loss: 1.0120 - val_accuracy: 0.6473\n",
            "Epoch 54/500\n",
            "104/104 [==============================] - 1s 9ms/step - loss: 1.0497 - accuracy: 0.5919 - val_loss: 0.9805 - val_accuracy: 0.6377\n",
            "Epoch 55/500\n",
            "104/104 [==============================] - 1s 8ms/step - loss: 1.0067 - accuracy: 0.6004 - val_loss: 0.9493 - val_accuracy: 0.6763\n",
            "Epoch 56/500\n",
            "104/104 [==============================] - 1s 8ms/step - loss: 1.0389 - accuracy: 0.5871 - val_loss: 0.9922 - val_accuracy: 0.6087\n",
            "Epoch 57/500\n",
            "104/104 [==============================] - 1s 9ms/step - loss: 1.0075 - accuracy: 0.5943 - val_loss: 1.0274 - val_accuracy: 0.5749\n",
            "Epoch 58/500\n",
            "104/104 [==============================] - 1s 9ms/step - loss: 1.0091 - accuracy: 0.6131 - val_loss: 0.9704 - val_accuracy: 0.6618\n",
            "Epoch 59/500\n",
            "104/104 [==============================] - 1s 9ms/step - loss: 0.9980 - accuracy: 0.6088 - val_loss: 0.9975 - val_accuracy: 0.5845\n",
            "Epoch 60/500\n",
            "104/104 [==============================] - 1s 9ms/step - loss: 0.9770 - accuracy: 0.6215 - val_loss: 1.0011 - val_accuracy: 0.5894\n",
            "Epoch 61/500\n",
            "104/104 [==============================] - 1s 9ms/step - loss: 0.9851 - accuracy: 0.6112 - val_loss: 0.9448 - val_accuracy: 0.6618\n",
            "Epoch 62/500\n",
            "104/104 [==============================] - 1s 9ms/step - loss: 0.9702 - accuracy: 0.6185 - val_loss: 0.9449 - val_accuracy: 0.6957\n",
            "Epoch 63/500\n",
            "104/104 [==============================] - 1s 9ms/step - loss: 0.9406 - accuracy: 0.6306 - val_loss: 0.9140 - val_accuracy: 0.6763\n",
            "Epoch 64/500\n",
            "104/104 [==============================] - 1s 8ms/step - loss: 0.9477 - accuracy: 0.6348 - val_loss: 0.9458 - val_accuracy: 0.6329\n",
            "Epoch 65/500\n",
            "104/104 [==============================] - 1s 9ms/step - loss: 0.9412 - accuracy: 0.6463 - val_loss: 0.9331 - val_accuracy: 0.6618\n",
            "Epoch 66/500\n",
            "104/104 [==============================] - 1s 9ms/step - loss: 0.9542 - accuracy: 0.6324 - val_loss: 0.8961 - val_accuracy: 0.7005\n",
            "Epoch 67/500\n",
            "104/104 [==============================] - 1s 8ms/step - loss: 0.9282 - accuracy: 0.6366 - val_loss: 0.8744 - val_accuracy: 0.7053\n",
            "Epoch 68/500\n",
            "104/104 [==============================] - 1s 8ms/step - loss: 0.9291 - accuracy: 0.6421 - val_loss: 0.8952 - val_accuracy: 0.6618\n",
            "Epoch 69/500\n",
            "104/104 [==============================] - 1s 8ms/step - loss: 0.9352 - accuracy: 0.6463 - val_loss: 0.8786 - val_accuracy: 0.7101\n",
            "Epoch 70/500\n",
            "104/104 [==============================] - 1s 8ms/step - loss: 0.9004 - accuracy: 0.6620 - val_loss: 0.8632 - val_accuracy: 0.7101\n",
            "Epoch 71/500\n",
            "104/104 [==============================] - 1s 8ms/step - loss: 0.8826 - accuracy: 0.6584 - val_loss: 0.9072 - val_accuracy: 0.6377\n",
            "Epoch 72/500\n",
            "104/104 [==============================] - 1s 8ms/step - loss: 0.8818 - accuracy: 0.6481 - val_loss: 0.8844 - val_accuracy: 0.7101\n",
            "Epoch 73/500\n",
            "104/104 [==============================] - 1s 9ms/step - loss: 0.8984 - accuracy: 0.6572 - val_loss: 0.8673 - val_accuracy: 0.6908\n",
            "Epoch 74/500\n",
            "104/104 [==============================] - 1s 8ms/step - loss: 0.8779 - accuracy: 0.6693 - val_loss: 0.9118 - val_accuracy: 0.6377\n",
            "Epoch 75/500\n",
            "104/104 [==============================] - 1s 9ms/step - loss: 0.8682 - accuracy: 0.6542 - val_loss: 0.8939 - val_accuracy: 0.6135\n",
            "Epoch 76/500\n",
            "104/104 [==============================] - 1s 8ms/step - loss: 0.8618 - accuracy: 0.6584 - val_loss: 0.8678 - val_accuracy: 0.6763\n",
            "Epoch 77/500\n",
            "104/104 [==============================] - 1s 8ms/step - loss: 0.8450 - accuracy: 0.6711 - val_loss: 0.8677 - val_accuracy: 0.6812\n",
            "Epoch 78/500\n",
            "104/104 [==============================] - 1s 8ms/step - loss: 0.8363 - accuracy: 0.6614 - val_loss: 0.8870 - val_accuracy: 0.6377\n",
            "Epoch 79/500\n",
            "104/104 [==============================] - 1s 9ms/step - loss: 0.8352 - accuracy: 0.6741 - val_loss: 0.8556 - val_accuracy: 0.7005\n",
            "Epoch 80/500\n",
            "104/104 [==============================] - 1s 8ms/step - loss: 0.8392 - accuracy: 0.6620 - val_loss: 0.8085 - val_accuracy: 0.7391\n",
            "Epoch 81/500\n",
            "104/104 [==============================] - 1s 9ms/step - loss: 0.8449 - accuracy: 0.6657 - val_loss: 0.8120 - val_accuracy: 0.6957\n",
            "Epoch 82/500\n",
            "104/104 [==============================] - 1s 9ms/step - loss: 0.8332 - accuracy: 0.6729 - val_loss: 0.7869 - val_accuracy: 0.7343\n",
            "Epoch 83/500\n",
            "104/104 [==============================] - 1s 8ms/step - loss: 0.8191 - accuracy: 0.6796 - val_loss: 0.8333 - val_accuracy: 0.7053\n",
            "Epoch 84/500\n",
            "104/104 [==============================] - 1s 9ms/step - loss: 0.8198 - accuracy: 0.6790 - val_loss: 0.8734 - val_accuracy: 0.6473\n",
            "Epoch 85/500\n",
            "104/104 [==============================] - 1s 8ms/step - loss: 0.7933 - accuracy: 0.6844 - val_loss: 0.8930 - val_accuracy: 0.6377\n",
            "Epoch 86/500\n",
            "104/104 [==============================] - 1s 8ms/step - loss: 0.7819 - accuracy: 0.7050 - val_loss: 0.8355 - val_accuracy: 0.7101\n",
            "Epoch 87/500\n",
            "104/104 [==============================] - 1s 9ms/step - loss: 0.7875 - accuracy: 0.6838 - val_loss: 0.8029 - val_accuracy: 0.7005\n",
            "Epoch 88/500\n",
            "104/104 [==============================] - 1s 8ms/step - loss: 0.8083 - accuracy: 0.6917 - val_loss: 0.8420 - val_accuracy: 0.6618\n",
            "Epoch 89/500\n",
            "104/104 [==============================] - 1s 8ms/step - loss: 0.8321 - accuracy: 0.6693 - val_loss: 0.8752 - val_accuracy: 0.6232\n",
            "Epoch 90/500\n",
            "104/104 [==============================] - 1s 8ms/step - loss: 0.7814 - accuracy: 0.7013 - val_loss: 0.8194 - val_accuracy: 0.6763\n",
            "Epoch 91/500\n",
            "104/104 [==============================] - 1s 8ms/step - loss: 0.7999 - accuracy: 0.6862 - val_loss: 0.7872 - val_accuracy: 0.6957\n",
            "Epoch 92/500\n",
            "104/104 [==============================] - 1s 8ms/step - loss: 0.7684 - accuracy: 0.7013 - val_loss: 0.8356 - val_accuracy: 0.6667\n",
            "Epoch 93/500\n",
            "104/104 [==============================] - 1s 9ms/step - loss: 0.7912 - accuracy: 0.6784 - val_loss: 0.8371 - val_accuracy: 0.6957\n",
            "Epoch 94/500\n",
            "104/104 [==============================] - 1s 8ms/step - loss: 0.7643 - accuracy: 0.6850 - val_loss: 0.8385 - val_accuracy: 0.6908\n",
            "Epoch 95/500\n",
            "104/104 [==============================] - 1s 8ms/step - loss: 0.7441 - accuracy: 0.7104 - val_loss: 0.8049 - val_accuracy: 0.6763\n",
            "Epoch 96/500\n",
            "104/104 [==============================] - 1s 8ms/step - loss: 0.7440 - accuracy: 0.7152 - val_loss: 0.7977 - val_accuracy: 0.7246\n",
            "Epoch 97/500\n",
            "104/104 [==============================] - 1s 8ms/step - loss: 0.7574 - accuracy: 0.7056 - val_loss: 0.7745 - val_accuracy: 0.7198\n",
            "Epoch 98/500\n",
            "104/104 [==============================] - 1s 8ms/step - loss: 0.7711 - accuracy: 0.6965 - val_loss: 0.7789 - val_accuracy: 0.7246\n",
            "Epoch 99/500\n",
            "104/104 [==============================] - 1s 8ms/step - loss: 0.7263 - accuracy: 0.7177 - val_loss: 0.7332 - val_accuracy: 0.7826\n",
            "Epoch 100/500\n",
            "104/104 [==============================] - 1s 8ms/step - loss: 0.7396 - accuracy: 0.7001 - val_loss: 0.7631 - val_accuracy: 0.7198\n",
            "Epoch 101/500\n",
            "104/104 [==============================] - 1s 8ms/step - loss: 0.7369 - accuracy: 0.7074 - val_loss: 0.7765 - val_accuracy: 0.7295\n",
            "Epoch 102/500\n",
            "104/104 [==============================] - 1s 9ms/step - loss: 0.7650 - accuracy: 0.7062 - val_loss: 0.7751 - val_accuracy: 0.7295\n",
            "Epoch 103/500\n",
            "104/104 [==============================] - 1s 8ms/step - loss: 0.7175 - accuracy: 0.7304 - val_loss: 0.7734 - val_accuracy: 0.7101\n",
            "Epoch 104/500\n",
            "104/104 [==============================] - 1s 8ms/step - loss: 0.7187 - accuracy: 0.7213 - val_loss: 0.7988 - val_accuracy: 0.6957\n",
            "Epoch 105/500\n",
            "104/104 [==============================] - 1s 8ms/step - loss: 0.7059 - accuracy: 0.7358 - val_loss: 0.7605 - val_accuracy: 0.7150\n",
            "Epoch 106/500\n",
            "104/104 [==============================] - 1s 8ms/step - loss: 0.7020 - accuracy: 0.7316 - val_loss: 0.7614 - val_accuracy: 0.7246\n",
            "Epoch 107/500\n",
            "104/104 [==============================] - 1s 8ms/step - loss: 0.7113 - accuracy: 0.7195 - val_loss: 0.7413 - val_accuracy: 0.7150\n",
            "Epoch 108/500\n",
            "104/104 [==============================] - 1s 9ms/step - loss: 0.7254 - accuracy: 0.7189 - val_loss: 0.7351 - val_accuracy: 0.7343\n",
            "Epoch 109/500\n",
            "104/104 [==============================] - 1s 9ms/step - loss: 0.6787 - accuracy: 0.7297 - val_loss: 0.7259 - val_accuracy: 0.7633\n",
            "Epoch 110/500\n",
            "104/104 [==============================] - 1s 8ms/step - loss: 0.6952 - accuracy: 0.7255 - val_loss: 0.7872 - val_accuracy: 0.6908\n",
            "Epoch 111/500\n",
            "104/104 [==============================] - 1s 9ms/step - loss: 0.6791 - accuracy: 0.7424 - val_loss: 0.7665 - val_accuracy: 0.7053\n",
            "Epoch 112/500\n",
            "104/104 [==============================] - 1s 8ms/step - loss: 0.7061 - accuracy: 0.7243 - val_loss: 0.7615 - val_accuracy: 0.7295\n",
            "Epoch 113/500\n",
            "104/104 [==============================] - 1s 8ms/step - loss: 0.6767 - accuracy: 0.7291 - val_loss: 0.7501 - val_accuracy: 0.6957\n",
            "Epoch 114/500\n",
            "104/104 [==============================] - 1s 8ms/step - loss: 0.6889 - accuracy: 0.7400 - val_loss: 0.7697 - val_accuracy: 0.6908\n",
            "Epoch 115/500\n",
            "104/104 [==============================] - 1s 8ms/step - loss: 0.6637 - accuracy: 0.7461 - val_loss: 0.7192 - val_accuracy: 0.7440\n",
            "Epoch 116/500\n",
            "104/104 [==============================] - 1s 8ms/step - loss: 0.7039 - accuracy: 0.7316 - val_loss: 0.7414 - val_accuracy: 0.7246\n",
            "Epoch 117/500\n",
            "104/104 [==============================] - 1s 9ms/step - loss: 0.6418 - accuracy: 0.7443 - val_loss: 0.7680 - val_accuracy: 0.6957\n",
            "Epoch 118/500\n",
            "104/104 [==============================] - 1s 8ms/step - loss: 0.6867 - accuracy: 0.7304 - val_loss: 0.6821 - val_accuracy: 0.7633\n",
            "Epoch 119/500\n",
            "104/104 [==============================] - 1s 8ms/step - loss: 0.6630 - accuracy: 0.7491 - val_loss: 0.6797 - val_accuracy: 0.7440\n",
            "Epoch 120/500\n",
            "104/104 [==============================] - 1s 8ms/step - loss: 0.6639 - accuracy: 0.7503 - val_loss: 0.7308 - val_accuracy: 0.6957\n",
            "Epoch 121/500\n",
            "104/104 [==============================] - 1s 8ms/step - loss: 0.6454 - accuracy: 0.7503 - val_loss: 0.7765 - val_accuracy: 0.6957\n",
            "Epoch 122/500\n",
            "104/104 [==============================] - 1s 8ms/step - loss: 0.6003 - accuracy: 0.7709 - val_loss: 0.7153 - val_accuracy: 0.7246\n",
            "Epoch 123/500\n",
            "104/104 [==============================] - 1s 9ms/step - loss: 0.6278 - accuracy: 0.7636 - val_loss: 0.7128 - val_accuracy: 0.7440\n",
            "Epoch 124/500\n",
            "104/104 [==============================] - 1s 14ms/step - loss: 0.6440 - accuracy: 0.7527 - val_loss: 0.7196 - val_accuracy: 0.7295\n",
            "Epoch 125/500\n",
            "104/104 [==============================] - 2s 15ms/step - loss: 0.6319 - accuracy: 0.7479 - val_loss: 0.6678 - val_accuracy: 0.7729\n",
            "Epoch 126/500\n",
            "104/104 [==============================] - 1s 13ms/step - loss: 0.6184 - accuracy: 0.7461 - val_loss: 0.7220 - val_accuracy: 0.7440\n",
            "Epoch 127/500\n",
            "104/104 [==============================] - 1s 11ms/step - loss: 0.6368 - accuracy: 0.7612 - val_loss: 0.6700 - val_accuracy: 0.7246\n",
            "Epoch 128/500\n",
            "104/104 [==============================] - 1s 8ms/step - loss: 0.6265 - accuracy: 0.7606 - val_loss: 0.7484 - val_accuracy: 0.6908\n",
            "Epoch 129/500\n",
            "104/104 [==============================] - 1s 8ms/step - loss: 0.6256 - accuracy: 0.7570 - val_loss: 0.6483 - val_accuracy: 0.7729\n",
            "Epoch 130/500\n",
            "104/104 [==============================] - 1s 8ms/step - loss: 0.6212 - accuracy: 0.7576 - val_loss: 0.6882 - val_accuracy: 0.7440\n",
            "Epoch 131/500\n",
            "104/104 [==============================] - 1s 8ms/step - loss: 0.5996 - accuracy: 0.7799 - val_loss: 0.6746 - val_accuracy: 0.7681\n",
            "Epoch 132/500\n",
            "104/104 [==============================] - 1s 8ms/step - loss: 0.6118 - accuracy: 0.7660 - val_loss: 0.7189 - val_accuracy: 0.7440\n",
            "Epoch 133/500\n",
            "104/104 [==============================] - 1s 8ms/step - loss: 0.6039 - accuracy: 0.7642 - val_loss: 0.7065 - val_accuracy: 0.7585\n",
            "Epoch 134/500\n",
            "104/104 [==============================] - 1s 8ms/step - loss: 0.6060 - accuracy: 0.7539 - val_loss: 0.6695 - val_accuracy: 0.7295\n",
            "Epoch 135/500\n",
            "104/104 [==============================] - 1s 8ms/step - loss: 0.6166 - accuracy: 0.7606 - val_loss: 0.6966 - val_accuracy: 0.7440\n",
            "Epoch 136/500\n",
            "104/104 [==============================] - 1s 8ms/step - loss: 0.6092 - accuracy: 0.7654 - val_loss: 0.7043 - val_accuracy: 0.7488\n",
            "Epoch 137/500\n",
            "104/104 [==============================] - 1s 9ms/step - loss: 0.6035 - accuracy: 0.7618 - val_loss: 0.7479 - val_accuracy: 0.7198\n",
            "Epoch 138/500\n",
            "104/104 [==============================] - 1s 8ms/step - loss: 0.5750 - accuracy: 0.7721 - val_loss: 0.6697 - val_accuracy: 0.7778\n",
            "Epoch 139/500\n",
            "104/104 [==============================] - 1s 8ms/step - loss: 0.5886 - accuracy: 0.7654 - val_loss: 0.7179 - val_accuracy: 0.7391\n",
            "Epoch 140/500\n",
            "104/104 [==============================] - 1s 8ms/step - loss: 0.6155 - accuracy: 0.7545 - val_loss: 0.6499 - val_accuracy: 0.7440\n",
            "Epoch 141/500\n",
            "104/104 [==============================] - 1s 9ms/step - loss: 0.5830 - accuracy: 0.7793 - val_loss: 0.6740 - val_accuracy: 0.7488\n",
            "Epoch 142/500\n",
            "104/104 [==============================] - 1s 8ms/step - loss: 0.5680 - accuracy: 0.7836 - val_loss: 0.6742 - val_accuracy: 0.7295\n",
            "Epoch 143/500\n",
            "104/104 [==============================] - 1s 8ms/step - loss: 0.5798 - accuracy: 0.7775 - val_loss: 0.6538 - val_accuracy: 0.7440\n",
            "Epoch 144/500\n",
            "104/104 [==============================] - 1s 9ms/step - loss: 0.5348 - accuracy: 0.7890 - val_loss: 0.6602 - val_accuracy: 0.7440\n",
            "Epoch 145/500\n",
            "104/104 [==============================] - 1s 8ms/step - loss: 0.5723 - accuracy: 0.7709 - val_loss: 0.6608 - val_accuracy: 0.7440\n",
            "Epoch 146/500\n",
            "104/104 [==============================] - 1s 9ms/step - loss: 0.5727 - accuracy: 0.7817 - val_loss: 0.6759 - val_accuracy: 0.7246\n",
            "Epoch 147/500\n",
            "104/104 [==============================] - 1s 8ms/step - loss: 0.5780 - accuracy: 0.7775 - val_loss: 0.6329 - val_accuracy: 0.7633\n",
            "Epoch 148/500\n",
            "104/104 [==============================] - 1s 9ms/step - loss: 0.5525 - accuracy: 0.7854 - val_loss: 0.6993 - val_accuracy: 0.7005\n",
            "Epoch 149/500\n",
            "104/104 [==============================] - 1s 9ms/step - loss: 0.5327 - accuracy: 0.7890 - val_loss: 0.6571 - val_accuracy: 0.7488\n",
            "Epoch 150/500\n",
            "104/104 [==============================] - 1s 8ms/step - loss: 0.5684 - accuracy: 0.7769 - val_loss: 0.6681 - val_accuracy: 0.7488\n",
            "Epoch 151/500\n",
            "104/104 [==============================] - 1s 8ms/step - loss: 0.5579 - accuracy: 0.7884 - val_loss: 0.6766 - val_accuracy: 0.7440\n",
            "Epoch 152/500\n",
            "104/104 [==============================] - 1s 8ms/step - loss: 0.5613 - accuracy: 0.7817 - val_loss: 0.6853 - val_accuracy: 0.7295\n",
            "Epoch 153/500\n",
            "104/104 [==============================] - 1s 9ms/step - loss: 0.5296 - accuracy: 0.7902 - val_loss: 0.6811 - val_accuracy: 0.7488\n",
            "Epoch 154/500\n",
            "104/104 [==============================] - 1s 8ms/step - loss: 0.5639 - accuracy: 0.7811 - val_loss: 0.6397 - val_accuracy: 0.7536\n",
            "Epoch 155/500\n",
            "104/104 [==============================] - 1s 8ms/step - loss: 0.5508 - accuracy: 0.7866 - val_loss: 0.6589 - val_accuracy: 0.7391\n",
            "Epoch 156/500\n",
            "104/104 [==============================] - 1s 8ms/step - loss: 0.5501 - accuracy: 0.7969 - val_loss: 0.6685 - val_accuracy: 0.7295\n",
            "Epoch 157/500\n",
            "104/104 [==============================] - 1s 9ms/step - loss: 0.5239 - accuracy: 0.7866 - val_loss: 0.6815 - val_accuracy: 0.7295\n",
            "Epoch 158/500\n",
            "104/104 [==============================] - 1s 8ms/step - loss: 0.5398 - accuracy: 0.7908 - val_loss: 0.6452 - val_accuracy: 0.7488\n",
            "Epoch 159/500\n",
            "104/104 [==============================] - 1s 8ms/step - loss: 0.5126 - accuracy: 0.7981 - val_loss: 0.7058 - val_accuracy: 0.7246\n",
            "Epoch 160/500\n",
            "104/104 [==============================] - 1s 8ms/step - loss: 0.5287 - accuracy: 0.7896 - val_loss: 0.6498 - val_accuracy: 0.7246\n",
            "Epoch 161/500\n",
            "104/104 [==============================] - 1s 9ms/step - loss: 0.5551 - accuracy: 0.7914 - val_loss: 0.6292 - val_accuracy: 0.7585\n",
            "Epoch 162/500\n",
            "104/104 [==============================] - 1s 8ms/step - loss: 0.5325 - accuracy: 0.8047 - val_loss: 0.6877 - val_accuracy: 0.7440\n",
            "Epoch 163/500\n",
            "104/104 [==============================] - 1s 9ms/step - loss: 0.5058 - accuracy: 0.8102 - val_loss: 0.6396 - val_accuracy: 0.7391\n",
            "Epoch 164/500\n",
            "104/104 [==============================] - 1s 9ms/step - loss: 0.4906 - accuracy: 0.8150 - val_loss: 0.6551 - val_accuracy: 0.7585\n",
            "Epoch 165/500\n",
            "104/104 [==============================] - 1s 9ms/step - loss: 0.5227 - accuracy: 0.7848 - val_loss: 0.6499 - val_accuracy: 0.7633\n",
            "Epoch 166/500\n",
            "104/104 [==============================] - 1s 9ms/step - loss: 0.5049 - accuracy: 0.8102 - val_loss: 0.6606 - val_accuracy: 0.7633\n",
            "Epoch 167/500\n",
            "104/104 [==============================] - 1s 9ms/step - loss: 0.5199 - accuracy: 0.7963 - val_loss: 0.6128 - val_accuracy: 0.7729\n",
            "Epoch 168/500\n",
            "104/104 [==============================] - 1s 8ms/step - loss: 0.5182 - accuracy: 0.8029 - val_loss: 0.6270 - val_accuracy: 0.7585\n",
            "Epoch 169/500\n",
            "104/104 [==============================] - 1s 8ms/step - loss: 0.5096 - accuracy: 0.8120 - val_loss: 0.6785 - val_accuracy: 0.7295\n",
            "Epoch 170/500\n",
            "104/104 [==============================] - 1s 9ms/step - loss: 0.4977 - accuracy: 0.8071 - val_loss: 0.6081 - val_accuracy: 0.7729\n",
            "Epoch 171/500\n",
            "104/104 [==============================] - 1s 8ms/step - loss: 0.5103 - accuracy: 0.8156 - val_loss: 0.6228 - val_accuracy: 0.7874\n",
            "Epoch 172/500\n",
            "104/104 [==============================] - 1s 8ms/step - loss: 0.4974 - accuracy: 0.8132 - val_loss: 0.6970 - val_accuracy: 0.7536\n",
            "Epoch 173/500\n",
            "104/104 [==============================] - 1s 9ms/step - loss: 0.4869 - accuracy: 0.8059 - val_loss: 0.6234 - val_accuracy: 0.7729\n",
            "Epoch 174/500\n",
            "104/104 [==============================] - 1s 8ms/step - loss: 0.4995 - accuracy: 0.8065 - val_loss: 0.6283 - val_accuracy: 0.7633\n",
            "Epoch 175/500\n",
            "104/104 [==============================] - 1s 8ms/step - loss: 0.4800 - accuracy: 0.8259 - val_loss: 0.6195 - val_accuracy: 0.7778\n",
            "Epoch 176/500\n",
            "104/104 [==============================] - 1s 8ms/step - loss: 0.5001 - accuracy: 0.8071 - val_loss: 0.6510 - val_accuracy: 0.7488\n",
            "Epoch 177/500\n",
            "104/104 [==============================] - 1s 9ms/step - loss: 0.4785 - accuracy: 0.8277 - val_loss: 0.6397 - val_accuracy: 0.7585\n",
            "Epoch 178/500\n",
            "104/104 [==============================] - 1s 9ms/step - loss: 0.4874 - accuracy: 0.8114 - val_loss: 0.5982 - val_accuracy: 0.7826\n",
            "Epoch 179/500\n",
            "104/104 [==============================] - 1s 9ms/step - loss: 0.4883 - accuracy: 0.8229 - val_loss: 0.7275 - val_accuracy: 0.7005\n",
            "Epoch 180/500\n",
            "104/104 [==============================] - 1s 9ms/step - loss: 0.4991 - accuracy: 0.8168 - val_loss: 0.6049 - val_accuracy: 0.7826\n",
            "Epoch 181/500\n",
            "104/104 [==============================] - 1s 8ms/step - loss: 0.4683 - accuracy: 0.8253 - val_loss: 0.6257 - val_accuracy: 0.7391\n",
            "Epoch 182/500\n",
            "104/104 [==============================] - 1s 9ms/step - loss: 0.5053 - accuracy: 0.7999 - val_loss: 0.6244 - val_accuracy: 0.7633\n",
            "Epoch 183/500\n",
            "104/104 [==============================] - 1s 9ms/step - loss: 0.4737 - accuracy: 0.8150 - val_loss: 0.6998 - val_accuracy: 0.7295\n",
            "Epoch 184/500\n",
            "104/104 [==============================] - 1s 8ms/step - loss: 0.4952 - accuracy: 0.8077 - val_loss: 0.6032 - val_accuracy: 0.7826\n",
            "Epoch 185/500\n",
            "104/104 [==============================] - 1s 8ms/step - loss: 0.4786 - accuracy: 0.8120 - val_loss: 0.6147 - val_accuracy: 0.7923\n",
            "Epoch 186/500\n",
            "104/104 [==============================] - 1s 9ms/step - loss: 0.4650 - accuracy: 0.8222 - val_loss: 0.6236 - val_accuracy: 0.7681\n",
            "Epoch 187/500\n",
            "104/104 [==============================] - 1s 8ms/step - loss: 0.4572 - accuracy: 0.8229 - val_loss: 0.6004 - val_accuracy: 0.7729\n",
            "Epoch 188/500\n",
            "104/104 [==============================] - 1s 8ms/step - loss: 0.4738 - accuracy: 0.8180 - val_loss: 0.5866 - val_accuracy: 0.7971\n",
            "Epoch 189/500\n",
            "104/104 [==============================] - 1s 8ms/step - loss: 0.4671 - accuracy: 0.8271 - val_loss: 0.5986 - val_accuracy: 0.7585\n",
            "Epoch 190/500\n",
            "104/104 [==============================] - 1s 9ms/step - loss: 0.4686 - accuracy: 0.8265 - val_loss: 0.6877 - val_accuracy: 0.7295\n",
            "Epoch 191/500\n",
            "104/104 [==============================] - 1s 8ms/step - loss: 0.4793 - accuracy: 0.8047 - val_loss: 0.6025 - val_accuracy: 0.7536\n",
            "Epoch 192/500\n",
            "104/104 [==============================] - 1s 8ms/step - loss: 0.4850 - accuracy: 0.8083 - val_loss: 0.5973 - val_accuracy: 0.7923\n",
            "Epoch 193/500\n",
            "104/104 [==============================] - 1s 8ms/step - loss: 0.4772 - accuracy: 0.8138 - val_loss: 0.6350 - val_accuracy: 0.7633\n",
            "Epoch 194/500\n",
            "104/104 [==============================] - 1s 9ms/step - loss: 0.4564 - accuracy: 0.8210 - val_loss: 0.6413 - val_accuracy: 0.7440\n",
            "Epoch 195/500\n",
            "104/104 [==============================] - 1s 9ms/step - loss: 0.4438 - accuracy: 0.8259 - val_loss: 0.6631 - val_accuracy: 0.7440\n",
            "Epoch 196/500\n",
            "104/104 [==============================] - 1s 9ms/step - loss: 0.4645 - accuracy: 0.8271 - val_loss: 0.6068 - val_accuracy: 0.7778\n",
            "Epoch 197/500\n",
            "104/104 [==============================] - 1s 8ms/step - loss: 0.4374 - accuracy: 0.8356 - val_loss: 0.6084 - val_accuracy: 0.7778\n",
            "Epoch 198/500\n",
            "104/104 [==============================] - 1s 8ms/step - loss: 0.4567 - accuracy: 0.8168 - val_loss: 0.6353 - val_accuracy: 0.7295\n",
            "Epoch 199/500\n",
            "104/104 [==============================] - 1s 9ms/step - loss: 0.4469 - accuracy: 0.8265 - val_loss: 0.7104 - val_accuracy: 0.7150\n",
            "Epoch 200/500\n",
            "104/104 [==============================] - 1s 9ms/step - loss: 0.4570 - accuracy: 0.8241 - val_loss: 0.6429 - val_accuracy: 0.7681\n",
            "Epoch 201/500\n",
            "104/104 [==============================] - 1s 8ms/step - loss: 0.4379 - accuracy: 0.8356 - val_loss: 0.6849 - val_accuracy: 0.7343\n",
            "Epoch 202/500\n",
            "104/104 [==============================] - 1s 8ms/step - loss: 0.4476 - accuracy: 0.8356 - val_loss: 0.6101 - val_accuracy: 0.7633\n",
            "Epoch 203/500\n",
            "104/104 [==============================] - 1s 8ms/step - loss: 0.4167 - accuracy: 0.8410 - val_loss: 0.6267 - val_accuracy: 0.7585\n",
            "Epoch 204/500\n",
            "104/104 [==============================] - 1s 9ms/step - loss: 0.4539 - accuracy: 0.8241 - val_loss: 0.5946 - val_accuracy: 0.7729\n",
            "Epoch 205/500\n",
            "104/104 [==============================] - 1s 9ms/step - loss: 0.4520 - accuracy: 0.8295 - val_loss: 0.5839 - val_accuracy: 0.7633\n",
            "Epoch 206/500\n",
            "104/104 [==============================] - 1s 9ms/step - loss: 0.4488 - accuracy: 0.8235 - val_loss: 0.6595 - val_accuracy: 0.7681\n",
            "Epoch 207/500\n",
            "104/104 [==============================] - 1s 9ms/step - loss: 0.4493 - accuracy: 0.8235 - val_loss: 0.6287 - val_accuracy: 0.7585\n",
            "Epoch 208/500\n",
            "104/104 [==============================] - 1s 8ms/step - loss: 0.4256 - accuracy: 0.8434 - val_loss: 0.6008 - val_accuracy: 0.7729\n",
            "Epoch 209/500\n",
            "104/104 [==============================] - 1s 8ms/step - loss: 0.4306 - accuracy: 0.8434 - val_loss: 0.6688 - val_accuracy: 0.7488\n",
            "Epoch 210/500\n",
            "104/104 [==============================] - 1s 9ms/step - loss: 0.4603 - accuracy: 0.8253 - val_loss: 0.5963 - val_accuracy: 0.7729\n",
            "Epoch 211/500\n",
            "104/104 [==============================] - 1s 9ms/step - loss: 0.4274 - accuracy: 0.8392 - val_loss: 0.6284 - val_accuracy: 0.7585\n",
            "Epoch 212/500\n",
            "104/104 [==============================] - 1s 9ms/step - loss: 0.4319 - accuracy: 0.8440 - val_loss: 0.5899 - val_accuracy: 0.7729\n",
            "Epoch 213/500\n",
            "104/104 [==============================] - 1s 9ms/step - loss: 0.4386 - accuracy: 0.8386 - val_loss: 0.6754 - val_accuracy: 0.7488\n",
            "Epoch 214/500\n",
            "104/104 [==============================] - 1s 9ms/step - loss: 0.4205 - accuracy: 0.8422 - val_loss: 0.6537 - val_accuracy: 0.7488\n",
            "Epoch 215/500\n",
            "104/104 [==============================] - 1s 8ms/step - loss: 0.4387 - accuracy: 0.8265 - val_loss: 0.6213 - val_accuracy: 0.7488\n",
            "Epoch 216/500\n",
            "104/104 [==============================] - 1s 9ms/step - loss: 0.4211 - accuracy: 0.8440 - val_loss: 0.6081 - val_accuracy: 0.7778\n",
            "Epoch 217/500\n",
            "104/104 [==============================] - 1s 9ms/step - loss: 0.4508 - accuracy: 0.8283 - val_loss: 0.6240 - val_accuracy: 0.7488\n",
            "Epoch 218/500\n",
            "104/104 [==============================] - 1s 9ms/step - loss: 0.4218 - accuracy: 0.8428 - val_loss: 0.5944 - val_accuracy: 0.7633\n",
            "Epoch 219/500\n",
            "104/104 [==============================] - 1s 8ms/step - loss: 0.4479 - accuracy: 0.8271 - val_loss: 0.6045 - val_accuracy: 0.7681\n",
            "Epoch 220/500\n",
            "104/104 [==============================] - 1s 9ms/step - loss: 0.4202 - accuracy: 0.8416 - val_loss: 0.6101 - val_accuracy: 0.7826\n",
            "Epoch 221/500\n",
            "104/104 [==============================] - 1s 9ms/step - loss: 0.4204 - accuracy: 0.8331 - val_loss: 0.6622 - val_accuracy: 0.7391\n",
            "Epoch 222/500\n",
            "104/104 [==============================] - 1s 9ms/step - loss: 0.4110 - accuracy: 0.8495 - val_loss: 0.5925 - val_accuracy: 0.7826\n",
            "Epoch 223/500\n",
            "104/104 [==============================] - 1s 9ms/step - loss: 0.3925 - accuracy: 0.8470 - val_loss: 0.6308 - val_accuracy: 0.7778\n",
            "Epoch 224/500\n",
            "104/104 [==============================] - 1s 8ms/step - loss: 0.4070 - accuracy: 0.8380 - val_loss: 0.6594 - val_accuracy: 0.7633\n",
            "Epoch 225/500\n",
            "104/104 [==============================] - 1s 9ms/step - loss: 0.3820 - accuracy: 0.8537 - val_loss: 0.5738 - val_accuracy: 0.7778\n",
            "Epoch 226/500\n",
            "104/104 [==============================] - 1s 8ms/step - loss: 0.3966 - accuracy: 0.8531 - val_loss: 0.6324 - val_accuracy: 0.7826\n",
            "Epoch 227/500\n",
            "104/104 [==============================] - 1s 9ms/step - loss: 0.3732 - accuracy: 0.8724 - val_loss: 0.6336 - val_accuracy: 0.7488\n",
            "Epoch 228/500\n",
            "104/104 [==============================] - 1s 9ms/step - loss: 0.3902 - accuracy: 0.8531 - val_loss: 0.6250 - val_accuracy: 0.7681\n",
            "Epoch 229/500\n",
            "104/104 [==============================] - 1s 9ms/step - loss: 0.4130 - accuracy: 0.8464 - val_loss: 0.7266 - val_accuracy: 0.7101\n",
            "Epoch 230/500\n",
            "104/104 [==============================] - 1s 8ms/step - loss: 0.4140 - accuracy: 0.8452 - val_loss: 0.6307 - val_accuracy: 0.7488\n",
            "Epoch 231/500\n",
            "104/104 [==============================] - 1s 9ms/step - loss: 0.3988 - accuracy: 0.8567 - val_loss: 0.6787 - val_accuracy: 0.7391\n",
            "Epoch 232/500\n",
            "104/104 [==============================] - 1s 9ms/step - loss: 0.3985 - accuracy: 0.8519 - val_loss: 0.6244 - val_accuracy: 0.7729\n",
            "Epoch 233/500\n",
            "104/104 [==============================] - 1s 8ms/step - loss: 0.3947 - accuracy: 0.8525 - val_loss: 0.5947 - val_accuracy: 0.7440\n",
            "Epoch 234/500\n",
            "104/104 [==============================] - 1s 9ms/step - loss: 0.4234 - accuracy: 0.8428 - val_loss: 0.6217 - val_accuracy: 0.7585\n",
            "Epoch 235/500\n",
            "104/104 [==============================] - 1s 9ms/step - loss: 0.4052 - accuracy: 0.8476 - val_loss: 0.5836 - val_accuracy: 0.7874\n",
            "Epoch 236/500\n",
            "104/104 [==============================] - 1s 9ms/step - loss: 0.3702 - accuracy: 0.8555 - val_loss: 0.5980 - val_accuracy: 0.7826\n",
            "Epoch 237/500\n",
            "104/104 [==============================] - 1s 9ms/step - loss: 0.3928 - accuracy: 0.8513 - val_loss: 0.6218 - val_accuracy: 0.7295\n",
            "Epoch 238/500\n",
            "104/104 [==============================] - 1s 9ms/step - loss: 0.3755 - accuracy: 0.8513 - val_loss: 0.5968 - val_accuracy: 0.7874\n",
            "Epoch 239/500\n",
            "104/104 [==============================] - 1s 9ms/step - loss: 0.3923 - accuracy: 0.8579 - val_loss: 0.6136 - val_accuracy: 0.7778\n",
            "Epoch 240/500\n",
            "104/104 [==============================] - 1s 9ms/step - loss: 0.3877 - accuracy: 0.8458 - val_loss: 0.6353 - val_accuracy: 0.7440\n",
            "Epoch 241/500\n",
            "104/104 [==============================] - 1s 8ms/step - loss: 0.4062 - accuracy: 0.8452 - val_loss: 0.5546 - val_accuracy: 0.7971\n",
            "Epoch 242/500\n",
            "104/104 [==============================] - 1s 9ms/step - loss: 0.3870 - accuracy: 0.8567 - val_loss: 0.5871 - val_accuracy: 0.8164\n",
            "Epoch 243/500\n",
            "104/104 [==============================] - 1s 8ms/step - loss: 0.3832 - accuracy: 0.8615 - val_loss: 0.5931 - val_accuracy: 0.7923\n",
            "Epoch 244/500\n",
            "104/104 [==============================] - 1s 9ms/step - loss: 0.3996 - accuracy: 0.8513 - val_loss: 0.5929 - val_accuracy: 0.7681\n",
            "Epoch 245/500\n",
            "104/104 [==============================] - 1s 9ms/step - loss: 0.3902 - accuracy: 0.8549 - val_loss: 0.6514 - val_accuracy: 0.7343\n",
            "Epoch 246/500\n",
            "104/104 [==============================] - 1s 9ms/step - loss: 0.3724 - accuracy: 0.8603 - val_loss: 0.5619 - val_accuracy: 0.8068\n",
            "Epoch 247/500\n",
            "104/104 [==============================] - 1s 9ms/step - loss: 0.3853 - accuracy: 0.8555 - val_loss: 0.6177 - val_accuracy: 0.7295\n",
            "Epoch 248/500\n",
            "104/104 [==============================] - 1s 9ms/step - loss: 0.3804 - accuracy: 0.8555 - val_loss: 0.6178 - val_accuracy: 0.7536\n",
            "Epoch 249/500\n",
            "104/104 [==============================] - 1s 9ms/step - loss: 0.3802 - accuracy: 0.8573 - val_loss: 0.5805 - val_accuracy: 0.7923\n",
            "Epoch 250/500\n",
            "104/104 [==============================] - 1s 8ms/step - loss: 0.3734 - accuracy: 0.8585 - val_loss: 0.5725 - val_accuracy: 0.7874\n",
            "Epoch 251/500\n",
            "104/104 [==============================] - 1s 8ms/step - loss: 0.3852 - accuracy: 0.8519 - val_loss: 0.6078 - val_accuracy: 0.7681\n",
            "Epoch 252/500\n",
            "104/104 [==============================] - 1s 9ms/step - loss: 0.4042 - accuracy: 0.8470 - val_loss: 0.6306 - val_accuracy: 0.7488\n",
            "Epoch 253/500\n",
            "104/104 [==============================] - 1s 8ms/step - loss: 0.3800 - accuracy: 0.8495 - val_loss: 0.5583 - val_accuracy: 0.8068\n",
            "Epoch 254/500\n",
            "104/104 [==============================] - 1s 8ms/step - loss: 0.3978 - accuracy: 0.8470 - val_loss: 0.6043 - val_accuracy: 0.7778\n",
            "Epoch 255/500\n",
            "104/104 [==============================] - 1s 8ms/step - loss: 0.3837 - accuracy: 0.8646 - val_loss: 0.5740 - val_accuracy: 0.7923\n",
            "Epoch 256/500\n",
            "104/104 [==============================] - 1s 8ms/step - loss: 0.3680 - accuracy: 0.8646 - val_loss: 0.5720 - val_accuracy: 0.7874\n",
            "Epoch 257/500\n",
            "104/104 [==============================] - 1s 9ms/step - loss: 0.3681 - accuracy: 0.8700 - val_loss: 0.5901 - val_accuracy: 0.7681\n",
            "Epoch 258/500\n",
            "104/104 [==============================] - 1s 9ms/step - loss: 0.3597 - accuracy: 0.8670 - val_loss: 0.6416 - val_accuracy: 0.7488\n",
            "Epoch 259/500\n",
            "104/104 [==============================] - 1s 9ms/step - loss: 0.3674 - accuracy: 0.8640 - val_loss: 0.6142 - val_accuracy: 0.7874\n",
            "Epoch 260/500\n",
            "104/104 [==============================] - 1s 8ms/step - loss: 0.3359 - accuracy: 0.8815 - val_loss: 0.6020 - val_accuracy: 0.7536\n",
            "Epoch 261/500\n",
            "104/104 [==============================] - 1s 9ms/step - loss: 0.3541 - accuracy: 0.8622 - val_loss: 0.6674 - val_accuracy: 0.7488\n",
            "Epoch 262/500\n",
            "104/104 [==============================] - 1s 9ms/step - loss: 0.3640 - accuracy: 0.8519 - val_loss: 0.5681 - val_accuracy: 0.7681\n",
            "Epoch 263/500\n",
            "104/104 [==============================] - 1s 9ms/step - loss: 0.3460 - accuracy: 0.8712 - val_loss: 0.5795 - val_accuracy: 0.7826\n",
            "Epoch 264/500\n",
            "104/104 [==============================] - 1s 8ms/step - loss: 0.3794 - accuracy: 0.8628 - val_loss: 0.6024 - val_accuracy: 0.7681\n",
            "Epoch 265/500\n",
            "104/104 [==============================] - 1s 8ms/step - loss: 0.3414 - accuracy: 0.8748 - val_loss: 0.5800 - val_accuracy: 0.7874\n",
            "Epoch 266/500\n",
            "104/104 [==============================] - 1s 8ms/step - loss: 0.3581 - accuracy: 0.8585 - val_loss: 0.5551 - val_accuracy: 0.7826\n"
          ]
        }
      ]
    },
    {
      "cell_type": "code",
      "source": [
        "plt.plot(cnnhistory.history['loss'])\n",
        "plt.plot(cnnhistory.history['val_loss'])\n",
        "plt.title('model loss')\n",
        "plt.ylabel('loss')\n",
        "plt.xlabel('epoch')\n",
        "plt.legend(['train','test'], loc='upper left')\n",
        "plt.show()"
      ],
      "metadata": {
        "id": "oQYnuaCrDH_A",
        "colab": {
          "base_uri": "https://localhost:8080/",
          "height": 295
        },
        "outputId": "7f2f9409-cad7-4b68-dea0-a5ee9edc65a9"
      },
      "execution_count": 15,
      "outputs": [
        {
          "output_type": "display_data",
          "data": {
            "text/plain": [
              "<Figure size 432x288 with 1 Axes>"
            ],
            "image/png": "[encoded data removed]"
          },
          "metadata": {
            "needs_background": "light"
          }
        }
      ]
    },
    {
      "cell_type": "code",
      "source": [
        "plt.plot(cnnhistory.history['accuracy'])\n",
        "plt.plot(cnnhistory.history['val_accuracy'])\n",
        "plt.title('model accuracy')\n",
        "plt.ylabel('accuracy')\n",
        "plt.xlabel('epoch')\n",
        "plt.legend(['train','test'], loc='upper left')\n",
        "plt.show()"
      ],
      "metadata": {
        "id": "IFkTuO8nDNdq",
        "colab": {
          "base_uri": "https://localhost:8080/",
          "height": 295
        },
        "outputId": "72f9e6d1-d60a-4d09-b93e-5fdfec7e507f"
      },
      "execution_count": 16,
      "outputs": [
        {
          "output_type": "display_data",
          "data": {
            "text/plain": [
              "<Figure size 432x288 with 1 Axes>"
            ],
            "image/png": "[encoded data removed]"
          },
          "metadata": {
            "needs_background": "light"
          }
        }
      ]
    },
    {
      "cell_type": "code",
      "source": [
        "predictions = model.predict(x_testcnn)"
      ],
      "metadata": {
        "id": "A2xtrN5wDQgY"
      },
      "execution_count": 17,
      "outputs": []
    },
    {
      "cell_type": "code",
      "source": [
        "predictions"
      ],
      "metadata": {
        "id": "_f_ohjXKDUpY",
        "colab": {
          "base_uri": "https://localhost:8080/"
        },
        "outputId": "51227733-ec2b-4c4f-948d-cbc88d932911"
      },
      "execution_count": 18,
      "outputs": [
        {
          "output_type": "execute_result",
          "data": {
            "text/plain": [
              "array([[3.3717817e-01, 7.2418310e-02, 2.4594142e-01, 1.6751023e-01,\n",
              "        1.2357828e-01, 5.3373557e-02],\n",
              "       [3.3672719e-04, 4.2511896e-05, 8.5567939e-07, 9.8829752e-01,\n",
              "        1.0686114e-06, 1.1321419e-02],\n",
              "       [1.1383502e-01, 5.1038533e-01, 3.9555747e-02, 3.0795220e-01,\n",
              "        4.1967537e-03, 2.4074867e-02],\n",
              "       ...,\n",
              "       [3.2671738e-05, 2.0780208e-06, 5.4456195e-04, 2.2499953e-05,\n",
              "        9.9788254e-01, 1.5156186e-03],\n",
              "       [4.0424668e-05, 6.8774587e-01, 3.1137770e-01, 2.1805237e-04,\n",
              "        1.8422662e-04, 4.3379515e-04],\n",
              "       [1.3220086e-04, 6.1258528e-04, 2.4474790e-02, 1.8328874e-04,\n",
              "        9.6627843e-01, 8.3187586e-03]], dtype=float32)"
            ]
          },
          "metadata": {},
          "execution_count": 18
        }
      ]
    },
    {
      "cell_type": "code",
      "source": [
        "y_test"
      ],
      "metadata": {
        "id": "cmA2bFgsDW3D",
        "colab": {
          "base_uri": "https://localhost:8080/"
        },
        "outputId": "3e02b2f6-63d2-4b7b-b318-6ff378c775fe"
      },
      "execution_count": 19,
      "outputs": [
        {
          "output_type": "execute_result",
          "data": {
            "text/plain": [
              "array([3, 3, 3, 0, 4, 4, 1, 2, 5, 0, 5, 3, 2, 2, 1, 4, 4, 5, 2, 4, 1, 2,\n",
              "       3, 5, 4, 2, 1, 2, 2, 2, 2, 5, 2, 5, 3, 1, 2, 0, 4, 5, 2, 3, 2, 2,\n",
              "       5, 2, 0, 1, 3, 4, 4, 5, 1, 1, 4, 4, 5, 1, 1, 1, 0, 1, 5, 0, 4, 1,\n",
              "       1, 0, 1, 4, 1, 0, 4, 1, 3, 1, 2, 2, 1, 2, 3, 0, 5, 3, 5, 5, 2, 4,\n",
              "       5, 1, 5, 1, 5, 3, 4, 1, 4, 1, 5, 4, 5, 1, 2, 1, 1, 5, 1, 3, 2, 5,\n",
              "       2, 1, 3, 5, 4, 4, 0, 0, 3, 1, 2, 2, 3, 5, 1, 5, 3, 4, 2, 2, 0, 2,\n",
              "       2, 5, 5, 0, 3, 3, 2, 2, 0, 3, 4, 0, 4, 2, 4, 5, 4, 1, 5, 3, 2, 2,\n",
              "       5, 4, 3, 3, 4, 3, 3, 4, 1, 5, 2, 3, 2, 2, 0, 2, 1, 3, 1, 2, 2, 5,\n",
              "       5, 1, 4, 2, 2, 1, 1, 3, 3, 5, 5, 2, 5, 1, 5, 0, 3, 3, 0, 5, 1, 4,\n",
              "       1, 4, 2, 5, 5, 1, 4, 2, 4])"
            ]
          },
          "metadata": {},
          "execution_count": 19
        }
      ]
    },
    {
      "cell_type": "code",
      "source": [
        "new_Ytest = y_test.astype(int)"
      ],
      "metadata": {
        "id": "0PHDKWJWDY3g"
      },
      "execution_count": 20,
      "outputs": []
    },
    {
      "cell_type": "code",
      "source": [
        "new_Ytest"
      ],
      "metadata": {
        "id": "k68v2i-pDbZE",
        "colab": {
          "base_uri": "https://localhost:8080/"
        },
        "outputId": "691feb5b-03ab-4b41-b688-a0165f6f73e7"
      },
      "execution_count": 21,
      "outputs": [
        {
          "output_type": "execute_result",
          "data": {
            "text/plain": [
              "array([3, 3, 3, 0, 4, 4, 1, 2, 5, 0, 5, 3, 2, 2, 1, 4, 4, 5, 2, 4, 1, 2,\n",
              "       3, 5, 4, 2, 1, 2, 2, 2, 2, 5, 2, 5, 3, 1, 2, 0, 4, 5, 2, 3, 2, 2,\n",
              "       5, 2, 0, 1, 3, 4, 4, 5, 1, 1, 4, 4, 5, 1, 1, 1, 0, 1, 5, 0, 4, 1,\n",
              "       1, 0, 1, 4, 1, 0, 4, 1, 3, 1, 2, 2, 1, 2, 3, 0, 5, 3, 5, 5, 2, 4,\n",
              "       5, 1, 5, 1, 5, 3, 4, 1, 4, 1, 5, 4, 5, 1, 2, 1, 1, 5, 1, 3, 2, 5,\n",
              "       2, 1, 3, 5, 4, 4, 0, 0, 3, 1, 2, 2, 3, 5, 1, 5, 3, 4, 2, 2, 0, 2,\n",
              "       2, 5, 5, 0, 3, 3, 2, 2, 0, 3, 4, 0, 4, 2, 4, 5, 4, 1, 5, 3, 2, 2,\n",
              "       5, 4, 3, 3, 4, 3, 3, 4, 1, 5, 2, 3, 2, 2, 0, 2, 1, 3, 1, 2, 2, 5,\n",
              "       5, 1, 4, 2, 2, 1, 1, 3, 3, 5, 5, 2, 5, 1, 5, 0, 3, 3, 0, 5, 1, 4,\n",
              "       1, 4, 2, 5, 5, 1, 4, 2, 4])"
            ]
          },
          "metadata": {},
          "execution_count": 21
        }
      ]
    },
    {
      "cell_type": "code",
      "source": [
        "preds1=predictions.argmax(axis=1)\n",
        "preds1"
      ],
      "metadata": {
        "id": "4_cAI39VFhtp",
        "colab": {
          "base_uri": "https://localhost:8080/"
        },
        "outputId": "a3bbc5a6-a993-424a-bc03-f08821c9d3db"
      },
      "execution_count": 22,
      "outputs": [
        {
          "output_type": "execute_result",
          "data": {
            "text/plain": [
              "array([0, 3, 1, 0, 4, 4, 1, 2, 5, 1, 5, 3, 2, 2, 0, 4, 4, 3, 3, 4, 2, 2,\n",
              "       0, 3, 4, 2, 1, 1, 2, 2, 2, 5, 2, 5, 3, 1, 2, 0, 4, 5, 2, 3, 2, 2,\n",
              "       5, 2, 1, 1, 3, 4, 4, 1, 1, 1, 4, 4, 5, 1, 1, 1, 0, 1, 5, 1, 4, 1,\n",
              "       1, 1, 1, 4, 0, 0, 4, 1, 3, 1, 2, 2, 1, 4, 1, 0, 5, 3, 5, 5, 2, 4,\n",
              "       3, 1, 0, 1, 5, 3, 2, 2, 4, 1, 5, 4, 5, 1, 2, 1, 1, 5, 1, 3, 2, 5,\n",
              "       0, 0, 3, 5, 4, 4, 0, 0, 3, 1, 1, 2, 1, 5, 1, 5, 3, 4, 2, 2, 0, 2,\n",
              "       2, 3, 3, 0, 3, 3, 2, 2, 0, 3, 4, 0, 4, 4, 4, 2, 4, 1, 5, 3, 2, 2,\n",
              "       5, 4, 4, 5, 4, 5, 3, 4, 1, 5, 2, 3, 2, 2, 0, 2, 1, 3, 1, 2, 4, 5,\n",
              "       5, 1, 4, 2, 4, 1, 1, 3, 3, 5, 5, 2, 5, 1, 2, 1, 3, 3, 1, 4, 1, 4,\n",
              "       1, 4, 5, 2, 5, 1, 4, 1, 4])"
            ]
          },
          "metadata": {},
          "execution_count": 22
        }
      ]
    },
    {
      "cell_type": "code",
      "source": [
        "abc = preds1.astype(int).flatten()"
      ],
      "metadata": {
        "id": "H4WEmM60NfQn"
      },
      "execution_count": 23,
      "outputs": []
    },
    {
      "cell_type": "code",
      "source": [
        "from sklearn.metrics import confusion_matrix\n",
        "c = confusion_matrix(new_Ytest, abc) \n",
        "c"
      ],
      "metadata": {
        "id": "bKEBeEBlFjB8",
        "colab": {
          "base_uri": "https://localhost:8080/"
        },
        "outputId": "126ead1a-e863-4942-c606-bd7c342b7d1c"
      },
      "execution_count": 24,
      "outputs": [
        {
          "output_type": "execute_result",
          "data": {
            "text/plain": [
              "array([[12,  6,  0,  0,  0,  0],\n",
              "       [ 3, 36,  2,  0,  0,  0],\n",
              "       [ 1,  3, 35,  1,  4,  1],\n",
              "       [ 2,  3,  0, 23,  1,  2],\n",
              "       [ 0,  0,  1,  0, 32,  0],\n",
              "       [ 1,  1,  3,  5,  1, 28]])"
            ]
          },
          "metadata": {},
          "execution_count": 24
        }
      ]
    },
    {
      "cell_type": "code",
      "source": [
        "y_test"
      ],
      "metadata": {
        "id": "m4RjG7LWLSQx",
        "colab": {
          "base_uri": "https://localhost:8080/"
        },
        "outputId": "c505f233-8f3e-4815-8fbd-627ba94394da"
      },
      "execution_count": 25,
      "outputs": [
        {
          "output_type": "execute_result",
          "data": {
            "text/plain": [
              "array([3, 3, 3, 0, 4, 4, 1, 2, 5, 0, 5, 3, 2, 2, 1, 4, 4, 5, 2, 4, 1, 2,\n",
              "       3, 5, 4, 2, 1, 2, 2, 2, 2, 5, 2, 5, 3, 1, 2, 0, 4, 5, 2, 3, 2, 2,\n",
              "       5, 2, 0, 1, 3, 4, 4, 5, 1, 1, 4, 4, 5, 1, 1, 1, 0, 1, 5, 0, 4, 1,\n",
              "       1, 0, 1, 4, 1, 0, 4, 1, 3, 1, 2, 2, 1, 2, 3, 0, 5, 3, 5, 5, 2, 4,\n",
              "       5, 1, 5, 1, 5, 3, 4, 1, 4, 1, 5, 4, 5, 1, 2, 1, 1, 5, 1, 3, 2, 5,\n",
              "       2, 1, 3, 5, 4, 4, 0, 0, 3, 1, 2, 2, 3, 5, 1, 5, 3, 4, 2, 2, 0, 2,\n",
              "       2, 5, 5, 0, 3, 3, 2, 2, 0, 3, 4, 0, 4, 2, 4, 5, 4, 1, 5, 3, 2, 2,\n",
              "       5, 4, 3, 3, 4, 3, 3, 4, 1, 5, 2, 3, 2, 2, 0, 2, 1, 3, 1, 2, 2, 5,\n",
              "       5, 1, 4, 2, 2, 1, 1, 3, 3, 5, 5, 2, 5, 1, 5, 0, 3, 3, 0, 5, 1, 4,\n",
              "       1, 4, 2, 5, 5, 1, 4, 2, 4])"
            ]
          },
          "metadata": {},
          "execution_count": 25
        }
      ]
    },
    {
      "cell_type": "code",
      "source": [
        "loss, acc =model.evaluate(x_testcnn, y_test)\n",
        "print(\"Restored model, accuracy: {:5.2f}%\".format(100*acc))"
      ],
      "metadata": {
        "id": "n3kzoqPkDqqS",
        "colab": {
          "base_uri": "https://localhost:8080/"
        },
        "outputId": "af9ba563-31e2-4015-82a0-5b568e4c2dbd"
      },
      "execution_count": 26,
      "outputs": [
        {
          "output_type": "stream",
          "name": "stdout",
          "text": [
            "7/7 [==============================] - 0s 3ms/step - loss: 0.5412 - accuracy: 0.8019\n",
            "Restored model, accuracy: 80.19%\n"
          ]
        }
      ]
    },
    {
      "cell_type": "code",
      "source": [
        "loss, acc =model.evaluate(X_train, y_train)\n",
        "print(\"Restored model train, accuracy: {:5.2f}%\".format(100*acc))"
      ],
      "metadata": {
        "id": "fJDTGH_OUX0z",
        "colab": {
          "base_uri": "https://localhost:8080/"
        },
        "outputId": "e7ae1495-f1ac-42de-c8ef-3af08354a2e3"
      },
      "execution_count": 27,
      "outputs": [
        {
          "output_type": "stream",
          "name": "stdout",
          "text": [
            "52/52 [==============================] - 0s 4ms/step - loss: 0.2235 - accuracy: 0.9631\n",
            "Restored model train, accuracy: 96.31%\n"
          ]
        }
      ]
    },
    {
      "cell_type": "code",
      "source": [
        "from sklearn.metrics import classification_report, confusion_matrix,accuracy_score\n",
        "import seaborn as sn\n",
        "\n",
        "print(classification_report(new_Ytest,abc))\n",
        "\n",
        "acc = float(accuracy_score(new_Ytest,abc))*100\n",
        "print(\"----accuracy score %s ----\" % acc)\n",
        "\n",
        "cm = confusion_matrix(new_Ytest,abc)\n",
        "#df_cm = pd.DataFrame(cm)\n",
        "class_names = ['neutral','calm', 'happy','sad','angry', 'fearful' ]\n",
        "df_cm = pd.DataFrame(cm, index=class_names, columns=class_names,)\n",
        "sn.heatmap(df_cm, annot=True, fmt='')\n",
        "plt.show()"
      ],
      "metadata": {
        "id": "SfSC3El94LZg",
        "colab": {
          "base_uri": "https://localhost:8080/",
          "height": 508
        },
        "outputId": "fea01d57-edac-4810-eb24-196417b6dcc1"
      },
      "execution_count": 28,
      "outputs": [
        {
          "output_type": "stream",
          "name": "stdout",
          "text": [
            "              precision    recall  f1-score   support\n",
            "\n",
            "           0       0.63      0.67      0.65        18\n",
            "           1       0.73      0.88      0.80        41\n",
            "           2       0.85      0.78      0.81        45\n",
            "           3       0.79      0.74      0.77        31\n",
            "           4       0.84      0.97      0.90        33\n",
            "           5       0.90      0.72      0.80        39\n",
            "\n",
            "    accuracy                           0.80       207\n",
            "   macro avg       0.79      0.79      0.79       207\n",
            "weighted avg       0.81      0.80      0.80       207\n",
            "\n",
            "----accuracy score 80.19323671497585 ----\n"
          ]
        },
        {
          "output_type": "display_data",
          "data": {
            "text/plain": [
              "<Figure size 432x288 with 2 Axes>"
            ],
            "image/png": "[encoded data removed]"
          },
          "metadata": {
            "needs_background": "light"
          }
        }
      ]
    }
  ]
}