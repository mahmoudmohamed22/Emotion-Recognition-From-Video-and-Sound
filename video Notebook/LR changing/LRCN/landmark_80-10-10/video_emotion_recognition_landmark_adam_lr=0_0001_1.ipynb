{
  "nbformat": 4,
  "nbformat_minor": 0,
  "metadata": {
    "colab": {
      "name": "video_emotion_recognition_landmark_adam_lr=0.0001_1.ipynb",
      "provenance": [],
      "collapsed_sections": [],
      "machine_shape": "hm"
    },
    "kernelspec": {
      "name": "python3",
      "display_name": "Python 3"
    },
    "accelerator": "GPU"
  },
  "cells": [
    {
      "cell_type": "code",
      "source": [
        "from google.colab import drive\n",
        "drive.mount('/content/drive')"
      ],
      "metadata": {
        "colab": {
          "base_uri": "https://localhost:8080/"
        },
        "id": "o94I67GBPVfM",
        "outputId": "69f95b97-0d97-4771-adca-f3d4880c6cbb"
      },
      "execution_count": 1,
      "outputs": [
        {
          "output_type": "stream",
          "name": "stdout",
          "text": [
            "Mounted at /content/drive\n"
          ]
        }
      ]
    },
    {
      "cell_type": "code",
      "source": [
        "# Discard the output of this cell.\n",
        "#%%capture\n",
        "\n",
        "# Install the required libraries.\n",
        "!pip install tensorflow opencv-contrib-python youtube-dl moviepy pydot\n",
        "!pip install git+https://github.com/TahaAnwar/pafy.git#egg=pafy"
      ],
      "metadata": {
        "colab": {
          "base_uri": "https://localhost:8080/"
        },
        "id": "6OQ7vRnzP6n8",
        "outputId": "be9d67fa-f190-4c8c-d1df-d9aecffe540d"
      },
      "execution_count": 2,
      "outputs": [
        {
          "output_type": "stream",
          "name": "stdout",
          "text": [
            "Looking in indexes: https://pypi.org/simple, https://us-python.pkg.dev/colab-wheels/public/simple/\n",
            "Requirement already satisfied: tensorflow in /usr/local/lib/python3.7/dist-packages (2.8.2+zzzcolab20220527125636)\n",
            "Requirement already satisfied: opencv-contrib-python in /usr/local/lib/python3.7/dist-packages (4.1.2.30)\n",
            "Collecting youtube-dl\n",
            "  Downloading youtube_dl-2021.12.17-py2.py3-none-any.whl (1.9 MB)\n",
            "\u001b[K     |████████████████████████████████| 1.9 MB 4.3 MB/s \n",
            "\u001b[?25hRequirement already satisfied: moviepy in /usr/local/lib/python3.7/dist-packages (0.2.3.5)\n",
            "Requirement already satisfied: pydot in /usr/local/lib/python3.7/dist-packages (1.3.0)\n",
            "Requirement already satisfied: astunparse>=1.6.0 in /usr/local/lib/python3.7/dist-packages (from tensorflow) (1.6.3)\n",
            "Requirement already satisfied: absl-py>=0.4.0 in /usr/local/lib/python3.7/dist-packages (from tensorflow) (1.0.0)\n",
            "Requirement already satisfied: h5py>=2.9.0 in /usr/local/lib/python3.7/dist-packages (from tensorflow) (3.1.0)\n",
            "Requirement already satisfied: flatbuffers>=1.12 in /usr/local/lib/python3.7/dist-packages (from tensorflow) (2.0)\n",
            "Requirement already satisfied: six>=1.12.0 in /usr/local/lib/python3.7/dist-packages (from tensorflow) (1.15.0)\n",
            "Requirement already satisfied: setuptools in /usr/local/lib/python3.7/dist-packages (from tensorflow) (57.4.0)\n",
            "Requirement already satisfied: wrapt>=1.11.0 in /usr/local/lib/python3.7/dist-packages (from tensorflow) (1.14.1)\n",
            "Requirement already satisfied: typing-extensions>=3.6.6 in /usr/local/lib/python3.7/dist-packages (from tensorflow) (4.2.0)\n",
            "Requirement already satisfied: google-pasta>=0.1.1 in /usr/local/lib/python3.7/dist-packages (from tensorflow) (0.2.0)\n",
            "Requirement already satisfied: tensorboard<2.9,>=2.8 in /usr/local/lib/python3.7/dist-packages (from tensorflow) (2.8.0)\n",
            "Requirement already satisfied: grpcio<2.0,>=1.24.3 in /usr/local/lib/python3.7/dist-packages (from tensorflow) (1.46.3)\n",
            "Requirement already satisfied: termcolor>=1.1.0 in /usr/local/lib/python3.7/dist-packages (from tensorflow) (1.1.0)\n",
            "Requirement already satisfied: libclang>=9.0.1 in /usr/local/lib/python3.7/dist-packages (from tensorflow) (14.0.1)\n",
            "Requirement already satisfied: tensorflow-estimator<2.9,>=2.8 in /usr/local/lib/python3.7/dist-packages (from tensorflow) (2.8.0)\n",
            "Requirement already satisfied: protobuf<3.20,>=3.9.2 in /usr/local/lib/python3.7/dist-packages (from tensorflow) (3.17.3)\n",
            "Requirement already satisfied: keras<2.9,>=2.8.0rc0 in /usr/local/lib/python3.7/dist-packages (from tensorflow) (2.8.0)\n",
            "Requirement already satisfied: tensorflow-io-gcs-filesystem>=0.23.1 in /usr/local/lib/python3.7/dist-packages (from tensorflow) (0.26.0)\n",
            "Requirement already satisfied: opt-einsum>=2.3.2 in /usr/local/lib/python3.7/dist-packages (from tensorflow) (3.3.0)\n",
            "Requirement already satisfied: numpy>=1.20 in /usr/local/lib/python3.7/dist-packages (from tensorflow) (1.21.6)\n",
            "Requirement already satisfied: gast>=0.2.1 in /usr/local/lib/python3.7/dist-packages (from tensorflow) (0.5.3)\n",
            "Requirement already satisfied: keras-preprocessing>=1.1.1 in /usr/local/lib/python3.7/dist-packages (from tensorflow) (1.1.2)\n",
            "Requirement already satisfied: wheel<1.0,>=0.23.0 in /usr/local/lib/python3.7/dist-packages (from astunparse>=1.6.0->tensorflow) (0.37.1)\n",
            "Requirement already satisfied: cached-property in /usr/local/lib/python3.7/dist-packages (from h5py>=2.9.0->tensorflow) (1.5.2)\n",
            "Requirement already satisfied: markdown>=2.6.8 in /usr/local/lib/python3.7/dist-packages (from tensorboard<2.9,>=2.8->tensorflow) (3.3.7)\n",
            "Requirement already satisfied: google-auth-oauthlib<0.5,>=0.4.1 in /usr/local/lib/python3.7/dist-packages (from tensorboard<2.9,>=2.8->tensorflow) (0.4.6)\n",
            "Requirement already satisfied: tensorboard-data-server<0.7.0,>=0.6.0 in /usr/local/lib/python3.7/dist-packages (from tensorboard<2.9,>=2.8->tensorflow) (0.6.1)\n",
            "Requirement already satisfied: google-auth<3,>=1.6.3 in /usr/local/lib/python3.7/dist-packages (from tensorboard<2.9,>=2.8->tensorflow) (1.35.0)\n",
            "Requirement already satisfied: requests<3,>=2.21.0 in /usr/local/lib/python3.7/dist-packages (from tensorboard<2.9,>=2.8->tensorflow) (2.23.0)\n",
            "Requirement already satisfied: tensorboard-plugin-wit>=1.6.0 in /usr/local/lib/python3.7/dist-packages (from tensorboard<2.9,>=2.8->tensorflow) (1.8.1)\n",
            "Requirement already satisfied: werkzeug>=0.11.15 in /usr/local/lib/python3.7/dist-packages (from tensorboard<2.9,>=2.8->tensorflow) (1.0.1)\n",
            "Requirement already satisfied: cachetools<5.0,>=2.0.0 in /usr/local/lib/python3.7/dist-packages (from google-auth<3,>=1.6.3->tensorboard<2.9,>=2.8->tensorflow) (4.2.4)\n",
            "Requirement already satisfied: pyasn1-modules>=0.2.1 in /usr/local/lib/python3.7/dist-packages (from google-auth<3,>=1.6.3->tensorboard<2.9,>=2.8->tensorflow) (0.2.8)\n",
            "Requirement already satisfied: rsa<5,>=3.1.4 in /usr/local/lib/python3.7/dist-packages (from google-auth<3,>=1.6.3->tensorboard<2.9,>=2.8->tensorflow) (4.8)\n",
            "Requirement already satisfied: requests-oauthlib>=0.7.0 in /usr/local/lib/python3.7/dist-packages (from google-auth-oauthlib<0.5,>=0.4.1->tensorboard<2.9,>=2.8->tensorflow) (1.3.1)\n",
            "Requirement already satisfied: importlib-metadata>=4.4 in /usr/local/lib/python3.7/dist-packages (from markdown>=2.6.8->tensorboard<2.9,>=2.8->tensorflow) (4.11.4)\n",
            "Requirement already satisfied: zipp>=0.5 in /usr/local/lib/python3.7/dist-packages (from importlib-metadata>=4.4->markdown>=2.6.8->tensorboard<2.9,>=2.8->tensorflow) (3.8.0)\n",
            "Requirement already satisfied: pyasn1<0.5.0,>=0.4.6 in /usr/local/lib/python3.7/dist-packages (from pyasn1-modules>=0.2.1->google-auth<3,>=1.6.3->tensorboard<2.9,>=2.8->tensorflow) (0.4.8)\n",
            "Requirement already satisfied: idna<3,>=2.5 in /usr/local/lib/python3.7/dist-packages (from requests<3,>=2.21.0->tensorboard<2.9,>=2.8->tensorflow) (2.10)\n",
            "Requirement already satisfied: urllib3!=1.25.0,!=1.25.1,<1.26,>=1.21.1 in /usr/local/lib/python3.7/dist-packages (from requests<3,>=2.21.0->tensorboard<2.9,>=2.8->tensorflow) (1.24.3)\n",
            "Requirement already satisfied: certifi>=2017.4.17 in /usr/local/lib/python3.7/dist-packages (from requests<3,>=2.21.0->tensorboard<2.9,>=2.8->tensorflow) (2022.5.18.1)\n",
            "Requirement already satisfied: chardet<4,>=3.0.2 in /usr/local/lib/python3.7/dist-packages (from requests<3,>=2.21.0->tensorboard<2.9,>=2.8->tensorflow) (3.0.4)\n",
            "Requirement already satisfied: oauthlib>=3.0.0 in /usr/local/lib/python3.7/dist-packages (from requests-oauthlib>=0.7.0->google-auth-oauthlib<0.5,>=0.4.1->tensorboard<2.9,>=2.8->tensorflow) (3.2.0)\n",
            "Requirement already satisfied: decorator<5.0,>=4.0.2 in /usr/local/lib/python3.7/dist-packages (from moviepy) (4.4.2)\n",
            "Requirement already satisfied: imageio<3.0,>=2.1.2 in /usr/local/lib/python3.7/dist-packages (from moviepy) (2.4.1)\n",
            "Requirement already satisfied: tqdm<5.0,>=4.11.2 in /usr/local/lib/python3.7/dist-packages (from moviepy) (4.64.0)\n",
            "Requirement already satisfied: pillow in /usr/local/lib/python3.7/dist-packages (from imageio<3.0,>=2.1.2->moviepy) (7.1.2)\n",
            "Requirement already satisfied: pyparsing>=2.1.4 in /usr/local/lib/python3.7/dist-packages (from pydot) (3.0.9)\n",
            "Installing collected packages: youtube-dl\n",
            "Successfully installed youtube-dl-2021.12.17\n",
            "Looking in indexes: https://pypi.org/simple, https://us-python.pkg.dev/colab-wheels/public/simple/\n",
            "Collecting pafy\n",
            "  Cloning https://github.com/TahaAnwar/pafy.git to /tmp/pip-install-v0d3j8hv/pafy_c25aa176bf354f15b5c23920d59d5eb0\n",
            "  Running command git clone -q https://github.com/TahaAnwar/pafy.git /tmp/pip-install-v0d3j8hv/pafy_c25aa176bf354f15b5c23920d59d5eb0\n",
            "Building wheels for collected packages: pafy\n",
            "  Building wheel for pafy (setup.py) ... \u001b[?25l\u001b[?25hdone\n",
            "  Created wheel for pafy: filename=pafy-0.5.5-py2.py3-none-any.whl size=35706 sha256=42c1c3c090f671ebf6f09f09bca5444a04159e01d42db9db79ae7b3e952ac20b\n",
            "  Stored in directory: /tmp/pip-ephem-wheel-cache-vflxcjh8/wheels/64/82/dd/3d7823b3bbbe1aca9b30f8cf0d6bb6c1b72ccd95e3360f8190\n",
            "Successfully built pafy\n",
            "Installing collected packages: pafy\n",
            "Successfully installed pafy-0.5.5\n"
          ]
        }
      ]
    },
    {
      "cell_type": "code",
      "source": [
        "# Import the required libraries.\n",
        "import os\n",
        "import cv2\n",
        "import pafy\n",
        "import math\n",
        "import random\n",
        "import numpy as np\n",
        "import datetime as dt\n",
        "import tensorflow as tf\n",
        "from collections import deque\n",
        "import matplotlib.pyplot as plt\n",
        "\n",
        "from moviepy.editor import *\n",
        "%matplotlib inline\n",
        "\n",
        "from sklearn.model_selection import train_test_split\n",
        "\n",
        "from tensorflow.keras.layers import *\n",
        "from tensorflow.keras.models import Sequential\n",
        "from tensorflow.keras.utils import to_categorical\n",
        "from tensorflow.keras.callbacks import EarlyStopping\n",
        "from tensorflow.keras.utils import plot_model"
      ],
      "metadata": {
        "id": "LiLwshTpP-OB",
        "colab": {
          "base_uri": "https://localhost:8080/"
        },
        "outputId": "17efb933-5345-448c-8f40-fbcb5783a908"
      },
      "execution_count": 3,
      "outputs": [
        {
          "output_type": "stream",
          "name": "stdout",
          "text": [
            "Imageio: 'ffmpeg-linux64-v3.3.1' was not found on your computer; downloading it now.\n",
            "Try 1. Download from https://github.com/imageio/imageio-binaries/raw/master/ffmpeg/ffmpeg-linux64-v3.3.1 (43.8 MB)\n",
            "Downloading: 8192/45929032 bytes (0.0%)\b\b\b\b\b\b\b\b\b\b\b\b\b\b\b\b\b\b\b\b\b\b\b\b\b\b2408448/45929032 bytes (5.2%)\b\b\b\b\b\b\b\b\b\b\b\b\b\b\b\b\b\b\b\b\b\b\b\b\b\b\b\b\b5980160/45929032 bytes (13.0%)\b\b\b\b\b\b\b\b\b\b\b\b\b\b\b\b\b\b\b\b\b\b\b\b\b\b\b\b\b\b9502720/45929032 bytes (20.7%)\b\b\b\b\b\b\b\b\b\b\b\b\b\b\b\b\b\b\b\b\b\b\b\b\b\b\b\b\b\b13164544/45929032 bytes (28.7%)\b\b\b\b\b\b\b\b\b\b\b\b\b\b\b\b\b\b\b\b\b\b\b\b\b\b\b\b\b\b\b16719872/45929032 bytes (36.4%)\b\b\b\b\b\b\b\b\b\b\b\b\b\b\b\b\b\b\b\b\b\b\b\b\b\b\b\b\b\b\b20365312/45929032 bytes (44.3%)\b\b\b\b\b\b\b\b\b\b\b\b\b\b\b\b\b\b\b\b\b\b\b\b\b\b\b\b\b\b\b23977984/45929032 bytes (52.2%)\b\b\b\b\b\b\b\b\b\b\b\b\b\b\b\b\b\b\b\b\b\b\b\b\b\b\b\b\b\b\b27582464/45929032 bytes (60.1%)\b\b\b\b\b\b\b\b\b\b\b\b\b\b\b\b\b\b\b\b\b\b\b\b\b\b\b\b\b\b\b31260672/45929032 bytes (68.1%)\b\b\b\b\b\b\b\b\b\b\b\b\b\b\b\b\b\b\b\b\b\b\b\b\b\b\b\b\b\b\b34889728/45929032 bytes (76.0%)\b\b\b\b\b\b\b\b\b\b\b\b\b\b\b\b\b\b\b\b\b\b\b\b\b\b\b\b\b\b\b38608896/45929032 bytes (84.1%)\b\b\b\b\b\b\b\b\b\b\b\b\b\b\b\b\b\b\b\b\b\b\b\b\b\b\b\b\b\b\b42426368/45929032 bytes (92.4%)\b\b\b\b\b\b\b\b\b\b\b\b\b\b\b\b\b\b\b\b\b\b\b\b\b\b\b\b\b\b\b45929032/45929032 bytes (100.0%)\n",
            "  Done\n",
            "File saved as /root/.imageio/ffmpeg/ffmpeg-linux64-v3.3.1.\n"
          ]
        }
      ]
    },
    {
      "cell_type": "code",
      "source": [
        "seed_constant = 27\n",
        "np.random.seed(seed_constant)\n",
        "random.seed(seed_constant)\n",
        "tf.random.set_seed(seed_constant)"
      ],
      "metadata": {
        "id": "u4EtD4rrQEnb"
      },
      "execution_count": 4,
      "outputs": []
    },
    {
      "cell_type": "code",
      "source": [
        "# Specify the height and width to which each video frame will be resized in our dataset.\n",
        "IMAGE_HEIGHT , IMAGE_WIDTH = 64, 64\n",
        "\n",
        "# Specify the number of frames of a video that will be fed to the model as one sequence.\n",
        "SEQUENCE_LENGTH = 30\n",
        "\n",
        "# Specify the directory containing the UCF50 dataset. \n",
        "#DATASET_DIR = \"/content/drive/MyDrive/videospeech_label\"\n",
        "\n",
        "# Specify the list containing the names of the classes used for training. Feel free to choose any set of classes.\n",
        "CLASSES_LIST = [\"neutral\", \"calm\", \"happy\", \"sad\",\"angry\",\"fearful\"]"
      ],
      "metadata": {
        "id": "7H6KBiblQKE9"
      },
      "execution_count": 5,
      "outputs": []
    },
    {
      "cell_type": "code",
      "source": [
        "import joblib\n",
        "features=joblib.load('/content/drive/My Drive/features_ravdess/data_set/features_data')\n",
        "labels=joblib.load('/content/drive/My Drive/features_ravdess/data_set/labels')\n",
        "video_file_path=joblib.load('/content/drive/My Drive/features_ravdess/data_set/video_path')"
      ],
      "metadata": {
        "id": "V_rh-id5cmwd"
      },
      "execution_count": 6,
      "outputs": []
    },
    {
      "cell_type": "code",
      "source": [
        "features = np.asarray(features)\n",
        "labels = np.array(labels)  "
      ],
      "metadata": {
        "id": "WI3wNd7zdKzJ"
      },
      "execution_count": 7,
      "outputs": []
    },
    {
      "cell_type": "code",
      "source": [
        "features.shape"
      ],
      "metadata": {
        "colab": {
          "base_uri": "https://localhost:8080/"
        },
        "id": "pnnmkPz5Qh75",
        "outputId": "283b4554-5225-415a-c3c8-f4bf6038eca3"
      },
      "execution_count": 8,
      "outputs": [
        {
          "output_type": "execute_result",
          "data": {
            "text/plain": [
              "(2067, 30, 64, 64, 3)"
            ]
          },
          "metadata": {},
          "execution_count": 8
        }
      ]
    },
    {
      "cell_type": "code",
      "source": [
        "labels.shape"
      ],
      "metadata": {
        "colab": {
          "base_uri": "https://localhost:8080/"
        },
        "id": "kSGvdE_hQklC",
        "outputId": "af758dcd-5611-42d4-a4b7-b61d4d86cce4"
      },
      "execution_count": 9,
      "outputs": [
        {
          "output_type": "execute_result",
          "data": {
            "text/plain": [
              "(2067,)"
            ]
          },
          "metadata": {},
          "execution_count": 9
        }
      ]
    },
    {
      "cell_type": "code",
      "source": [
        "# Using Keras's to_categorical method to convert labels into one-hot-encoded vectors\n",
        "one_hot_encoded_labels = to_categorical(labels)"
      ],
      "metadata": {
        "id": "DGicVwcRQn9x"
      },
      "execution_count": 10,
      "outputs": []
    },
    {
      "cell_type": "code",
      "source": [
        "# Split the Data into Train ( 80% ) and Test Set ( 20% ).\n",
        "features_train, features_test, labels_train, labels_test = train_test_split(features, one_hot_encoded_labels,\n",
        "                                                                            test_size = 0.10, shuffle = True,\n",
        "                                                                            random_state = seed_constant)"
      ],
      "metadata": {
        "id": "pysOwWbgQrBv"
      },
      "execution_count": 11,
      "outputs": []
    },
    {
      "cell_type": "code",
      "source": [
        "def create_LRCN_model():\n",
        "    '''\n",
        "    This function will construct the required LRCN model.\n",
        "    Returns:\n",
        "        model: It is the required constructed LRCN model.\n",
        "    '''\n",
        "\n",
        "    # We will use a Sequential model for model construction.\n",
        "    model = Sequential()\n",
        "    \n",
        "    # Define the Model Architecture.\n",
        "    ########################################################################################################################\n",
        "    \n",
        "    model.add(TimeDistributed(Conv2D(16, (3, 3), padding='same',activation = 'relu'),\n",
        "                              input_shape = (SEQUENCE_LENGTH, IMAGE_HEIGHT, IMAGE_WIDTH, 3)))\n",
        "    \n",
        "    model.add(TimeDistributed(MaxPooling2D((4, 4)))) \n",
        "    model.add(TimeDistributed(Dropout(0.25)))\n",
        "    \n",
        "    model.add(TimeDistributed(Conv2D(32, (3, 3), padding='same',activation = 'relu')))\n",
        "    model.add(TimeDistributed(MaxPooling2D((4, 4))))\n",
        "    model.add(TimeDistributed(Dropout(0.25)))\n",
        "    \n",
        "    model.add(TimeDistributed(Conv2D(64, (3, 3), padding='same',activation = 'relu')))\n",
        "    model.add(TimeDistributed(MaxPooling2D((2, 2))))\n",
        "    model.add(TimeDistributed(Dropout(0.25)))\n",
        "    \n",
        "    model.add(TimeDistributed(Conv2D(64, (3, 3), padding='same',activation = 'relu')))\n",
        "    model.add(TimeDistributed(MaxPooling2D((2, 2))))\n",
        "    #model.add(TimeDistributed(Dropout(0.25)))\n",
        "                                      \n",
        "    model.add(TimeDistributed(Flatten()))\n",
        "                                      \n",
        "    model.add(LSTM(32))\n",
        "                                      \n",
        "    model.add(Dense(len(CLASSES_LIST), activation = 'softmax'))\n",
        "\n",
        "    ########################################################################################################################\n",
        "\n",
        "    # Display the models summary.\n",
        "    model.summary()\n",
        "    \n",
        "    # Return the constructed LRCN model.\n",
        "    return model"
      ],
      "metadata": {
        "id": "01zL-4EVQt3J"
      },
      "execution_count": 12,
      "outputs": []
    },
    {
      "cell_type": "code",
      "source": [
        "# Construct the required LRCN model.\n",
        "LRCN_model = create_LRCN_model()\n",
        "\n",
        "# Display the success message.\n",
        "print(\"Model Created Successfully!\")"
      ],
      "metadata": {
        "colab": {
          "base_uri": "https://localhost:8080/"
        },
        "id": "sFdjcb8zQxX4",
        "outputId": "636dc296-b00d-439c-c98d-bbec4f4c9c44"
      },
      "execution_count": 13,
      "outputs": [
        {
          "output_type": "stream",
          "name": "stdout",
          "text": [
            "Model: \"sequential\"\n",
            "_________________________________________________________________\n",
            " Layer (type)                Output Shape              Param #   \n",
            "=================================================================\n",
            " time_distributed (TimeDistr  (None, 30, 64, 64, 16)   448       \n",
            " ibuted)                                                         \n",
            "                                                                 \n",
            " time_distributed_1 (TimeDis  (None, 30, 16, 16, 16)   0         \n",
            " tributed)                                                       \n",
            "                                                                 \n",
            " time_distributed_2 (TimeDis  (None, 30, 16, 16, 16)   0         \n",
            " tributed)                                                       \n",
            "                                                                 \n",
            " time_distributed_3 (TimeDis  (None, 30, 16, 16, 32)   4640      \n",
            " tributed)                                                       \n",
            "                                                                 \n",
            " time_distributed_4 (TimeDis  (None, 30, 4, 4, 32)     0         \n",
            " tributed)                                                       \n",
            "                                                                 \n",
            " time_distributed_5 (TimeDis  (None, 30, 4, 4, 32)     0         \n",
            " tributed)                                                       \n",
            "                                                                 \n",
            " time_distributed_6 (TimeDis  (None, 30, 4, 4, 64)     18496     \n",
            " tributed)                                                       \n",
            "                                                                 \n",
            " time_distributed_7 (TimeDis  (None, 30, 2, 2, 64)     0         \n",
            " tributed)                                                       \n",
            "                                                                 \n",
            " time_distributed_8 (TimeDis  (None, 30, 2, 2, 64)     0         \n",
            " tributed)                                                       \n",
            "                                                                 \n",
            " time_distributed_9 (TimeDis  (None, 30, 2, 2, 64)     36928     \n",
            " tributed)                                                       \n",
            "                                                                 \n",
            " time_distributed_10 (TimeDi  (None, 30, 1, 1, 64)     0         \n",
            " stributed)                                                      \n",
            "                                                                 \n",
            " time_distributed_11 (TimeDi  (None, 30, 64)           0         \n",
            " stributed)                                                      \n",
            "                                                                 \n",
            " lstm (LSTM)                 (None, 32)                12416     \n",
            "                                                                 \n",
            " dense (Dense)               (None, 6)                 198       \n",
            "                                                                 \n",
            "=================================================================\n",
            "Total params: 73,126\n",
            "Trainable params: 73,126\n",
            "Non-trainable params: 0\n",
            "_________________________________________________________________\n",
            "Model Created Successfully!\n"
          ]
        }
      ]
    },
    {
      "cell_type": "code",
      "source": [
        "import keras\n",
        "import tensorflow as tf \n",
        "# Create an Instance of Early Stopping Callback.\n",
        "early_stopping_callback = EarlyStopping(monitor = 'val_loss', patience = 25, mode = 'min', restore_best_weights = True)\n",
        "\n",
        "opt = tf.keras.optimizers.Adam(learning_rate=0.0001)\n",
        " \n",
        "# Compile the model and specify loss function, optimizer and metrics to the model.\n",
        "LRCN_model.compile(loss = 'categorical_crossentropy', optimizer = opt, metrics = [\"accuracy\"])\n",
        "\n",
        "# Start training the model.\n",
        "LRCN_model_training_history = LRCN_model.fit(x = features_train, y = labels_train, epochs = 100, batch_size = 4 ,\n",
        "                                             shuffle = True, validation_split = 0.1, callbacks = [early_stopping_callback])"
      ],
      "metadata": {
        "colab": {
          "base_uri": "https://localhost:8080/"
        },
        "id": "cVmXzItZQ4-r",
        "outputId": "b3000ce3-ab2c-4c04-f242-402091d7dcde"
      },
      "execution_count": 14,
      "outputs": [
        {
          "output_type": "stream",
          "name": "stdout",
          "text": [
            "Epoch 1/100\n",
            "419/419 [==============================] - 21s 17ms/step - loss: 1.7770 - accuracy: 0.1714 - val_loss: 1.7735 - val_accuracy: 0.2473\n",
            "Epoch 2/100\n",
            "419/419 [==============================] - 6s 13ms/step - loss: 1.7687 - accuracy: 0.1828 - val_loss: 1.7777 - val_accuracy: 0.1398\n",
            "Epoch 3/100\n",
            "419/419 [==============================] - 6s 14ms/step - loss: 1.7669 - accuracy: 0.1816 - val_loss: 1.7766 - val_accuracy: 0.1505\n",
            "Epoch 4/100\n",
            "419/419 [==============================] - 6s 13ms/step - loss: 1.7637 - accuracy: 0.1983 - val_loss: 1.7749 - val_accuracy: 0.2043\n",
            "Epoch 5/100\n",
            "419/419 [==============================] - 6s 13ms/step - loss: 1.7606 - accuracy: 0.2204 - val_loss: 1.7725 - val_accuracy: 0.2151\n",
            "Epoch 6/100\n",
            "419/419 [==============================] - 6s 14ms/step - loss: 1.7529 - accuracy: 0.2306 - val_loss: 1.7480 - val_accuracy: 0.3172\n",
            "Epoch 7/100\n",
            "419/419 [==============================] - 6s 13ms/step - loss: 1.7060 - accuracy: 0.2658 - val_loss: 1.6637 - val_accuracy: 0.3172\n",
            "Epoch 8/100\n",
            "419/419 [==============================] - 6s 13ms/step - loss: 1.6300 - accuracy: 0.3011 - val_loss: 1.5944 - val_accuracy: 0.3387\n",
            "Epoch 9/100\n",
            "419/419 [==============================] - 6s 13ms/step - loss: 1.5867 - accuracy: 0.3280 - val_loss: 1.6010 - val_accuracy: 0.3548\n",
            "Epoch 10/100\n",
            "419/419 [==============================] - 6s 13ms/step - loss: 1.5599 - accuracy: 0.3554 - val_loss: 1.5427 - val_accuracy: 0.3763\n",
            "Epoch 11/100\n",
            "419/419 [==============================] - 6s 13ms/step - loss: 1.5168 - accuracy: 0.3746 - val_loss: 1.4763 - val_accuracy: 0.4194\n",
            "Epoch 12/100\n",
            "419/419 [==============================] - 6s 13ms/step - loss: 1.4596 - accuracy: 0.4038 - val_loss: 1.4242 - val_accuracy: 0.3871\n",
            "Epoch 13/100\n",
            "419/419 [==============================] - 6s 13ms/step - loss: 1.3880 - accuracy: 0.4337 - val_loss: 1.3825 - val_accuracy: 0.4516\n",
            "Epoch 14/100\n",
            "419/419 [==============================] - 6s 14ms/step - loss: 1.3231 - accuracy: 0.4648 - val_loss: 1.3145 - val_accuracy: 0.4409\n",
            "Epoch 15/100\n",
            "419/419 [==============================] - 6s 14ms/step - loss: 1.2681 - accuracy: 0.4701 - val_loss: 1.3074 - val_accuracy: 0.4462\n",
            "Epoch 16/100\n",
            "419/419 [==============================] - 6s 14ms/step - loss: 1.2187 - accuracy: 0.4946 - val_loss: 1.2299 - val_accuracy: 0.4731\n",
            "Epoch 17/100\n",
            "419/419 [==============================] - 6s 13ms/step - loss: 1.1822 - accuracy: 0.5143 - val_loss: 1.2137 - val_accuracy: 0.5054\n",
            "Epoch 18/100\n",
            "419/419 [==============================] - 6s 14ms/step - loss: 1.1399 - accuracy: 0.5376 - val_loss: 1.1635 - val_accuracy: 0.5108\n",
            "Epoch 19/100\n",
            "419/419 [==============================] - 6s 14ms/step - loss: 1.1393 - accuracy: 0.5376 - val_loss: 1.2585 - val_accuracy: 0.4624\n",
            "Epoch 20/100\n",
            "419/419 [==============================] - 6s 14ms/step - loss: 1.1037 - accuracy: 0.5382 - val_loss: 1.1187 - val_accuracy: 0.5161\n",
            "Epoch 21/100\n",
            "419/419 [==============================] - 6s 14ms/step - loss: 1.0749 - accuracy: 0.5568 - val_loss: 1.1031 - val_accuracy: 0.5215\n",
            "Epoch 22/100\n",
            "419/419 [==============================] - 6s 14ms/step - loss: 1.0554 - accuracy: 0.5627 - val_loss: 1.1400 - val_accuracy: 0.5484\n",
            "Epoch 23/100\n",
            "419/419 [==============================] - 6s 14ms/step - loss: 1.0339 - accuracy: 0.5765 - val_loss: 1.0535 - val_accuracy: 0.5591\n",
            "Epoch 24/100\n",
            "419/419 [==============================] - 6s 14ms/step - loss: 1.0138 - accuracy: 0.5812 - val_loss: 1.0407 - val_accuracy: 0.5753\n",
            "Epoch 25/100\n",
            "419/419 [==============================] - 6s 15ms/step - loss: 0.9834 - accuracy: 0.5914 - val_loss: 1.0553 - val_accuracy: 0.5753\n",
            "Epoch 26/100\n",
            "419/419 [==============================] - 6s 14ms/step - loss: 0.9758 - accuracy: 0.5908 - val_loss: 1.1262 - val_accuracy: 0.5000\n",
            "Epoch 27/100\n",
            "419/419 [==============================] - 6s 14ms/step - loss: 0.9544 - accuracy: 0.6153 - val_loss: 1.0127 - val_accuracy: 0.5591\n",
            "Epoch 28/100\n",
            "419/419 [==============================] - 6s 14ms/step - loss: 0.9335 - accuracy: 0.6147 - val_loss: 0.9587 - val_accuracy: 0.6129\n",
            "Epoch 29/100\n",
            "419/419 [==============================] - 6s 14ms/step - loss: 0.9286 - accuracy: 0.6219 - val_loss: 1.0189 - val_accuracy: 0.5591\n",
            "Epoch 30/100\n",
            "419/419 [==============================] - 6s 14ms/step - loss: 0.9208 - accuracy: 0.6219 - val_loss: 0.9600 - val_accuracy: 0.6183\n",
            "Epoch 31/100\n",
            "419/419 [==============================] - 6s 14ms/step - loss: 0.9072 - accuracy: 0.6260 - val_loss: 0.9700 - val_accuracy: 0.5645\n",
            "Epoch 32/100\n",
            "419/419 [==============================] - 6s 14ms/step - loss: 0.8761 - accuracy: 0.6416 - val_loss: 0.9879 - val_accuracy: 0.5753\n",
            "Epoch 33/100\n",
            "419/419 [==============================] - 6s 14ms/step - loss: 0.8532 - accuracy: 0.6559 - val_loss: 1.0296 - val_accuracy: 0.5860\n",
            "Epoch 34/100\n",
            "419/419 [==============================] - 6s 14ms/step - loss: 0.8544 - accuracy: 0.6595 - val_loss: 0.9234 - val_accuracy: 0.6022\n",
            "Epoch 35/100\n",
            "419/419 [==============================] - 6s 14ms/step - loss: 0.8479 - accuracy: 0.6703 - val_loss: 1.0179 - val_accuracy: 0.5484\n",
            "Epoch 36/100\n",
            "419/419 [==============================] - 6s 14ms/step - loss: 0.8258 - accuracy: 0.6673 - val_loss: 0.9897 - val_accuracy: 0.5914\n",
            "Epoch 37/100\n",
            "419/419 [==============================] - 6s 14ms/step - loss: 0.8175 - accuracy: 0.6720 - val_loss: 1.0884 - val_accuracy: 0.5376\n",
            "Epoch 38/100\n",
            "419/419 [==============================] - 6s 14ms/step - loss: 0.7881 - accuracy: 0.6965 - val_loss: 0.8705 - val_accuracy: 0.6559\n",
            "Epoch 39/100\n",
            "419/419 [==============================] - 6s 14ms/step - loss: 0.7769 - accuracy: 0.6989 - val_loss: 0.8529 - val_accuracy: 0.6237\n",
            "Epoch 40/100\n",
            "419/419 [==============================] - 6s 13ms/step - loss: 0.7724 - accuracy: 0.7049 - val_loss: 0.8992 - val_accuracy: 0.6613\n",
            "Epoch 41/100\n",
            "419/419 [==============================] - 6s 14ms/step - loss: 0.7516 - accuracy: 0.7133 - val_loss: 0.8415 - val_accuracy: 0.6237\n",
            "Epoch 42/100\n",
            "419/419 [==============================] - 6s 14ms/step - loss: 0.7337 - accuracy: 0.7061 - val_loss: 0.8625 - val_accuracy: 0.6613\n",
            "Epoch 43/100\n",
            "419/419 [==============================] - 6s 14ms/step - loss: 0.7278 - accuracy: 0.7121 - val_loss: 0.9778 - val_accuracy: 0.5430\n",
            "Epoch 44/100\n",
            "419/419 [==============================] - 6s 14ms/step - loss: 0.6951 - accuracy: 0.7395 - val_loss: 0.9015 - val_accuracy: 0.6290\n",
            "Epoch 45/100\n",
            "419/419 [==============================] - 6s 14ms/step - loss: 0.6778 - accuracy: 0.7461 - val_loss: 0.7959 - val_accuracy: 0.6828\n",
            "Epoch 46/100\n",
            "419/419 [==============================] - 6s 14ms/step - loss: 0.6754 - accuracy: 0.7425 - val_loss: 0.9413 - val_accuracy: 0.6398\n",
            "Epoch 47/100\n",
            "419/419 [==============================] - 6s 14ms/step - loss: 0.6552 - accuracy: 0.7389 - val_loss: 0.7988 - val_accuracy: 0.6774\n",
            "Epoch 48/100\n",
            "419/419 [==============================] - 6s 14ms/step - loss: 0.6182 - accuracy: 0.7748 - val_loss: 0.7676 - val_accuracy: 0.7151\n",
            "Epoch 49/100\n",
            "419/419 [==============================] - 6s 14ms/step - loss: 0.5994 - accuracy: 0.7742 - val_loss: 0.7853 - val_accuracy: 0.7043\n",
            "Epoch 50/100\n",
            "419/419 [==============================] - 6s 14ms/step - loss: 0.5943 - accuracy: 0.7808 - val_loss: 0.7737 - val_accuracy: 0.7043\n",
            "Epoch 51/100\n",
            "419/419 [==============================] - 6s 14ms/step - loss: 0.6091 - accuracy: 0.7640 - val_loss: 0.6605 - val_accuracy: 0.7151\n",
            "Epoch 52/100\n",
            "419/419 [==============================] - 6s 14ms/step - loss: 0.5607 - accuracy: 0.8029 - val_loss: 0.7385 - val_accuracy: 0.7043\n",
            "Epoch 53/100\n",
            "419/419 [==============================] - 6s 14ms/step - loss: 0.5620 - accuracy: 0.7790 - val_loss: 0.6573 - val_accuracy: 0.7419\n",
            "Epoch 54/100\n",
            "419/419 [==============================] - 6s 14ms/step - loss: 0.5455 - accuracy: 0.8023 - val_loss: 0.7506 - val_accuracy: 0.6989\n",
            "Epoch 55/100\n",
            "419/419 [==============================] - 6s 14ms/step - loss: 0.5230 - accuracy: 0.8082 - val_loss: 0.6720 - val_accuracy: 0.7366\n",
            "Epoch 56/100\n",
            "419/419 [==============================] - 6s 14ms/step - loss: 0.5160 - accuracy: 0.8130 - val_loss: 0.6649 - val_accuracy: 0.7473\n",
            "Epoch 57/100\n",
            "419/419 [==============================] - 6s 14ms/step - loss: 0.5049 - accuracy: 0.8208 - val_loss: 0.6589 - val_accuracy: 0.7366\n",
            "Epoch 58/100\n",
            "419/419 [==============================] - 6s 14ms/step - loss: 0.4875 - accuracy: 0.8256 - val_loss: 0.6934 - val_accuracy: 0.7419\n",
            "Epoch 59/100\n",
            "419/419 [==============================] - 6s 14ms/step - loss: 0.4745 - accuracy: 0.8262 - val_loss: 0.6410 - val_accuracy: 0.7473\n",
            "Epoch 60/100\n",
            "419/419 [==============================] - 6s 14ms/step - loss: 0.4777 - accuracy: 0.8214 - val_loss: 0.6239 - val_accuracy: 0.7473\n",
            "Epoch 61/100\n",
            "419/419 [==============================] - 6s 14ms/step - loss: 0.4768 - accuracy: 0.8214 - val_loss: 0.5682 - val_accuracy: 0.7688\n",
            "Epoch 62/100\n",
            "419/419 [==============================] - 6s 14ms/step - loss: 0.4596 - accuracy: 0.8429 - val_loss: 0.7633 - val_accuracy: 0.6989\n",
            "Epoch 63/100\n",
            "419/419 [==============================] - 6s 14ms/step - loss: 0.4562 - accuracy: 0.8315 - val_loss: 0.6858 - val_accuracy: 0.7742\n",
            "Epoch 64/100\n",
            "419/419 [==============================] - 6s 14ms/step - loss: 0.4370 - accuracy: 0.8429 - val_loss: 0.6325 - val_accuracy: 0.7742\n",
            "Epoch 65/100\n",
            "419/419 [==============================] - 6s 14ms/step - loss: 0.4210 - accuracy: 0.8477 - val_loss: 0.6090 - val_accuracy: 0.7581\n",
            "Epoch 66/100\n",
            "419/419 [==============================] - 6s 14ms/step - loss: 0.3919 - accuracy: 0.8602 - val_loss: 0.5399 - val_accuracy: 0.7849\n",
            "Epoch 67/100\n",
            "419/419 [==============================] - 6s 14ms/step - loss: 0.4377 - accuracy: 0.8393 - val_loss: 0.6311 - val_accuracy: 0.7688\n",
            "Epoch 68/100\n",
            "419/419 [==============================] - 6s 14ms/step - loss: 0.3841 - accuracy: 0.8668 - val_loss: 0.6847 - val_accuracy: 0.7634\n",
            "Epoch 69/100\n",
            "419/419 [==============================] - 6s 14ms/step - loss: 0.3832 - accuracy: 0.8662 - val_loss: 0.5356 - val_accuracy: 0.7957\n",
            "Epoch 70/100\n",
            "419/419 [==============================] - 6s 14ms/step - loss: 0.3650 - accuracy: 0.8698 - val_loss: 0.5940 - val_accuracy: 0.7742\n",
            "Epoch 71/100\n",
            "419/419 [==============================] - 6s 14ms/step - loss: 0.3468 - accuracy: 0.8811 - val_loss: 0.4995 - val_accuracy: 0.7957\n",
            "Epoch 72/100\n",
            "419/419 [==============================] - 6s 14ms/step - loss: 0.3574 - accuracy: 0.8787 - val_loss: 0.5793 - val_accuracy: 0.8011\n",
            "Epoch 73/100\n",
            "419/419 [==============================] - 6s 14ms/step - loss: 0.3547 - accuracy: 0.8704 - val_loss: 0.6273 - val_accuracy: 0.7688\n",
            "Epoch 74/100\n",
            "419/419 [==============================] - 6s 14ms/step - loss: 0.3400 - accuracy: 0.8835 - val_loss: 0.5224 - val_accuracy: 0.7957\n",
            "Epoch 75/100\n",
            "419/419 [==============================] - 6s 14ms/step - loss: 0.3500 - accuracy: 0.8716 - val_loss: 0.4742 - val_accuracy: 0.8172\n",
            "Epoch 76/100\n",
            "419/419 [==============================] - 6s 14ms/step - loss: 0.3168 - accuracy: 0.8871 - val_loss: 0.5351 - val_accuracy: 0.7957\n",
            "Epoch 77/100\n",
            "419/419 [==============================] - 6s 14ms/step - loss: 0.3126 - accuracy: 0.8871 - val_loss: 0.5974 - val_accuracy: 0.7903\n",
            "Epoch 78/100\n",
            "419/419 [==============================] - 6s 14ms/step - loss: 0.3150 - accuracy: 0.8919 - val_loss: 0.5458 - val_accuracy: 0.7903\n",
            "Epoch 79/100\n",
            "419/419 [==============================] - 6s 14ms/step - loss: 0.3347 - accuracy: 0.8793 - val_loss: 0.5185 - val_accuracy: 0.8065\n",
            "Epoch 80/100\n",
            "419/419 [==============================] - 6s 14ms/step - loss: 0.3073 - accuracy: 0.8925 - val_loss: 0.4704 - val_accuracy: 0.8226\n",
            "Epoch 81/100\n",
            "419/419 [==============================] - 6s 14ms/step - loss: 0.2858 - accuracy: 0.9056 - val_loss: 0.6462 - val_accuracy: 0.7742\n",
            "Epoch 82/100\n",
            "419/419 [==============================] - 6s 14ms/step - loss: 0.3167 - accuracy: 0.8889 - val_loss: 0.5173 - val_accuracy: 0.8118\n",
            "Epoch 83/100\n",
            "419/419 [==============================] - 6s 14ms/step - loss: 0.2709 - accuracy: 0.9020 - val_loss: 0.5786 - val_accuracy: 0.7957\n",
            "Epoch 84/100\n",
            "419/419 [==============================] - 6s 14ms/step - loss: 0.2818 - accuracy: 0.8973 - val_loss: 0.5443 - val_accuracy: 0.7957\n",
            "Epoch 85/100\n",
            "419/419 [==============================] - 6s 14ms/step - loss: 0.2835 - accuracy: 0.8990 - val_loss: 0.4811 - val_accuracy: 0.8280\n",
            "Epoch 86/100\n",
            "419/419 [==============================] - 6s 14ms/step - loss: 0.2892 - accuracy: 0.8919 - val_loss: 0.6804 - val_accuracy: 0.7688\n",
            "Epoch 87/100\n",
            "419/419 [==============================] - 6s 15ms/step - loss: 0.2673 - accuracy: 0.9056 - val_loss: 0.4574 - val_accuracy: 0.8280\n",
            "Epoch 88/100\n",
            "419/419 [==============================] - 6s 14ms/step - loss: 0.2630 - accuracy: 0.9068 - val_loss: 0.5397 - val_accuracy: 0.8118\n",
            "Epoch 89/100\n",
            "419/419 [==============================] - 6s 14ms/step - loss: 0.2638 - accuracy: 0.9116 - val_loss: 0.4243 - val_accuracy: 0.8333\n",
            "Epoch 90/100\n",
            "419/419 [==============================] - 6s 14ms/step - loss: 0.2501 - accuracy: 0.9116 - val_loss: 0.6644 - val_accuracy: 0.7581\n",
            "Epoch 91/100\n",
            "419/419 [==============================] - 6s 14ms/step - loss: 0.2400 - accuracy: 0.9211 - val_loss: 0.5237 - val_accuracy: 0.8065\n",
            "Epoch 92/100\n",
            "419/419 [==============================] - 6s 14ms/step - loss: 0.2594 - accuracy: 0.9122 - val_loss: 0.5857 - val_accuracy: 0.7796\n",
            "Epoch 93/100\n",
            "419/419 [==============================] - 6s 14ms/step - loss: 0.2488 - accuracy: 0.9128 - val_loss: 0.5184 - val_accuracy: 0.8011\n",
            "Epoch 94/100\n",
            "419/419 [==============================] - 6s 14ms/step - loss: 0.2391 - accuracy: 0.9176 - val_loss: 0.3669 - val_accuracy: 0.8925\n",
            "Epoch 95/100\n",
            "419/419 [==============================] - 6s 14ms/step - loss: 0.2901 - accuracy: 0.8925 - val_loss: 0.5840 - val_accuracy: 0.8011\n",
            "Epoch 96/100\n",
            "419/419 [==============================] - 6s 14ms/step - loss: 0.2249 - accuracy: 0.9259 - val_loss: 0.6979 - val_accuracy: 0.7849\n",
            "Epoch 97/100\n",
            "419/419 [==============================] - 6s 14ms/step - loss: 0.2215 - accuracy: 0.9283 - val_loss: 0.4124 - val_accuracy: 0.8495\n",
            "Epoch 98/100\n",
            "419/419 [==============================] - 6s 14ms/step - loss: 0.2117 - accuracy: 0.9307 - val_loss: 0.5003 - val_accuracy: 0.8011\n",
            "Epoch 99/100\n",
            "419/419 [==============================] - 6s 14ms/step - loss: 0.2429 - accuracy: 0.9188 - val_loss: 0.7530 - val_accuracy: 0.7527\n",
            "Epoch 100/100\n",
            "419/419 [==============================] - 6s 14ms/step - loss: 0.2278 - accuracy: 0.9164 - val_loss: 0.5235 - val_accuracy: 0.8011\n"
          ]
        }
      ]
    },
    {
      "cell_type": "code",
      "source": [
        "# Evaluate the trained model.\n",
        "model_evaluation_history = LRCN_model.evaluate(features_test, labels_test)"
      ],
      "metadata": {
        "colab": {
          "base_uri": "https://localhost:8080/"
        },
        "id": "sa-sTkK6Q-ks",
        "outputId": "95aa184b-b6a8-4966-c428-a1a89a27391f"
      },
      "execution_count": 15,
      "outputs": [
        {
          "output_type": "stream",
          "name": "stdout",
          "text": [
            "7/7 [==============================] - 0s 28ms/step - loss: 0.5355 - accuracy: 0.7874\n"
          ]
        }
      ]
    },
    {
      "cell_type": "code",
      "source": [
        "# Get the loss and accuracy from model_evaluation_history.\n",
        "model_evaluation_loss, model_evaluation_accuracy = model_evaluation_history\n",
        "\n",
        "# Define the string date format.\n",
        "# Get the current Date and Time in a DateTime Object.\n",
        "# Convert the DateTime object to string according to the style mentioned in date_time_format string.\n",
        "date_time_format = '%Y_%m_%d__%H_%M_%S'\n",
        "current_date_time_dt = dt.datetime.now()\n",
        "current_date_time_string = dt.datetime.strftime(current_date_time_dt, date_time_format)\n",
        "    \n",
        "# Define a useful name for our model to make it easy for us while navigating through multiple saved models.\n",
        "model_file_name = f'LRCN_model___Date_Time_{current_date_time_string}___Loss_{model_evaluation_loss}___Accuracy_{model_evaluation_accuracy}.h5'\n",
        "\n",
        "# Save the Model.\n",
        "LRCN_model.save(model_file_name)"
      ],
      "metadata": {
        "id": "D3J57fVJRCEa"
      },
      "execution_count": null,
      "outputs": []
    },
    {
      "cell_type": "code",
      "source": [
        "def plot_metric(model_training_history, metric_name_1, metric_name_2, plot_name):\n",
        "    '''\n",
        "    This function will plot the metrics passed to it in a graph.\n",
        "    Args:\n",
        "        model_training_history: A history object containing a record of training and validation \n",
        "                                loss values and metrics values at successive epochs\n",
        "        metric_name_1:          The name of the first metric that needs to be plotted in the graph.\n",
        "        metric_name_2:          The name of the second metric that needs to be plotted in the graph.\n",
        "        plot_name:              The title of the graph.\n",
        "    '''\n",
        "    \n",
        "    # Get metric values using metric names as identifiers.\n",
        "    metric_value_1 = model_training_history.history[metric_name_1]\n",
        "    metric_value_2 = model_training_history.history[metric_name_2]\n",
        "    \n",
        "    # Construct a range object which will be used as x-axis (horizontal plane) of the graph.\n",
        "    epochs = range(len(metric_value_1))\n",
        "\n",
        "    # Plot the Graph.\n",
        "    plt.plot(epochs, metric_value_1, 'blue', label = metric_name_1)\n",
        "    plt.plot(epochs, metric_value_2, 'red', label = metric_name_2)\n",
        "\n",
        "    # Add title to the plot.\n",
        "    plt.title(str(plot_name))\n",
        "\n",
        "    # Add legend to the plot.\n",
        "    plt.legend()"
      ],
      "metadata": {
        "id": "sXhBv91xRFgU"
      },
      "execution_count": 16,
      "outputs": []
    },
    {
      "cell_type": "code",
      "source": [
        "# Visualize the training and validation loss metrices.\n",
        "plot_metric(LRCN_model_training_history, 'loss', 'val_loss', 'Total Loss vs Total Validation Loss')"
      ],
      "metadata": {
        "colab": {
          "base_uri": "https://localhost:8080/",
          "height": 281
        },
        "id": "cKhf3si1RJUW",
        "outputId": "4d7142d4-34e0-4267-aa7d-016505047c3a"
      },
      "execution_count": 17,
      "outputs": [
        {
          "output_type": "display_data",
          "data": {
            "text/plain": [
              "<Figure size 432x288 with 1 Axes>"
            ],
            "image/png": "[encoded data removed]"
          },
          "metadata": {
            "needs_background": "light"
          }
        }
      ]
    },
    {
      "cell_type": "code",
      "source": [
        "# Visualize the training and validation accuracy metrices.\n",
        "plot_metric(LRCN_model_training_history, 'accuracy', 'val_accuracy', 'Total Accuracy vs Total Validation Accuracy')"
      ],
      "metadata": {
        "colab": {
          "base_uri": "https://localhost:8080/",
          "height": 281
        },
        "id": "5JB37wh3RLWX",
        "outputId": "6c9fcd0d-71d9-435b-ee44-5ee90832a977"
      },
      "execution_count": 18,
      "outputs": [
        {
          "output_type": "display_data",
          "data": {
            "text/plain": [
              "<Figure size 432x288 with 1 Axes>"
            ],
            "image/png": "[encoded data removed]"
          },
          "metadata": {
            "needs_background": "light"
          }
        }
      ]
    },
    {
      "cell_type": "code",
      "source": [
        "predictions =  LRCN_model.predict(features_test)\n",
        "predictions\n"
      ],
      "metadata": {
        "colab": {
          "base_uri": "https://localhost:8080/"
        },
        "id": "yM7edJgyRf-P",
        "outputId": "7f4dad70-5d4a-49d1-c093-b2c846288815"
      },
      "execution_count": 19,
      "outputs": [
        {
          "output_type": "execute_result",
          "data": {
            "text/plain": [
              "array([[7.2334325e-01, 7.6994456e-02, 6.1509421e-04, 1.8132591e-01,\n",
              "        7.8138318e-03, 9.9074915e-03],\n",
              "       [3.8542366e-03, 3.0531290e-03, 3.9286786e-04, 6.2274122e-01,\n",
              "        1.1766018e-01, 2.5229841e-01],\n",
              "       [3.8997000e-04, 3.2582206e-03, 9.9465597e-01, 6.6944014e-04,\n",
              "        1.0943353e-04, 9.1698341e-04],\n",
              "       ...,\n",
              "       [1.7149013e-03, 4.4613978e-04, 3.7417113e-04, 6.7331470e-03,\n",
              "        5.3374330e-03, 9.8539424e-01],\n",
              "       [3.7765680e-04, 3.4450050e-04, 4.6947508e-04, 3.8135439e-02,\n",
              "        5.4540920e-01, 4.1526371e-01],\n",
              "       [2.9204360e-03, 9.6553880e-01, 1.2971932e-02, 1.5687499e-02,\n",
              "        7.5581495e-04, 2.1255552e-03]], dtype=float32)"
            ]
          },
          "metadata": {},
          "execution_count": 19
        }
      ]
    },
    {
      "cell_type": "code",
      "source": [
        "preds=predictions.argmax(axis=1)\n",
        "preds"
      ],
      "metadata": {
        "colab": {
          "base_uri": "https://localhost:8080/"
        },
        "id": "DNHaLfq2RjeT",
        "outputId": "35c70671-7881-4d4f-801d-384632b8e467"
      },
      "execution_count": 20,
      "outputs": [
        {
          "output_type": "execute_result",
          "data": {
            "text/plain": [
              "array([0, 3, 2, 5, 5, 2, 5, 1, 5, 0, 5, 0, 4, 0, 4, 5, 5, 0, 2, 1, 5, 2,\n",
              "       0, 2, 2, 5, 3, 5, 5, 5, 5, 4, 5, 0, 2, 2, 3, 1, 5, 5, 2, 2, 1, 5,\n",
              "       2, 0, 5, 0, 5, 5, 5, 2, 1, 0, 3, 0, 0, 0, 2, 5, 4, 4, 5, 0, 0, 3,\n",
              "       1, 0, 5, 2, 1, 2, 5, 5, 5, 4, 0, 5, 4, 5, 5, 3, 4, 0, 5, 1, 2, 3,\n",
              "       3, 5, 5, 1, 0, 1, 5, 5, 1, 2, 5, 3, 5, 3, 0, 5, 5, 5, 2, 1, 4, 1,\n",
              "       5, 2, 0, 0, 4, 0, 3, 1, 1, 1, 1, 5, 1, 5, 1, 2, 3, 2, 5, 1, 2, 0,\n",
              "       1, 5, 1, 0, 5, 0, 1, 0, 2, 2, 2, 5, 0, 2, 3, 0, 0, 3, 2, 3, 5, 3,\n",
              "       1, 2, 1, 3, 0, 0, 1, 3, 3, 2, 5, 0, 0, 0, 5, 4, 4, 3, 1, 5, 3, 1,\n",
              "       5, 0, 5, 5, 4, 0, 0, 5, 1, 3, 1, 3, 3, 4, 1, 5, 1, 0, 4, 2, 3, 1,\n",
              "       5, 5, 3, 2, 5, 2, 5, 4, 1])"
            ]
          },
          "metadata": {},
          "execution_count": 20
        }
      ]
    },
    {
      "cell_type": "code",
      "source": [
        "new_preds = preds.astype(int).flatten()\n",
        "new_preds"
      ],
      "metadata": {
        "colab": {
          "base_uri": "https://localhost:8080/"
        },
        "id": "0W618McKRl02",
        "outputId": "9450cd5a-92f0-483e-bed0-b76ea5868c85"
      },
      "execution_count": 21,
      "outputs": [
        {
          "output_type": "execute_result",
          "data": {
            "text/plain": [
              "array([0, 3, 2, 5, 5, 2, 5, 1, 5, 0, 5, 0, 4, 0, 4, 5, 5, 0, 2, 1, 5, 2,\n",
              "       0, 2, 2, 5, 3, 5, 5, 5, 5, 4, 5, 0, 2, 2, 3, 1, 5, 5, 2, 2, 1, 5,\n",
              "       2, 0, 5, 0, 5, 5, 5, 2, 1, 0, 3, 0, 0, 0, 2, 5, 4, 4, 5, 0, 0, 3,\n",
              "       1, 0, 5, 2, 1, 2, 5, 5, 5, 4, 0, 5, 4, 5, 5, 3, 4, 0, 5, 1, 2, 3,\n",
              "       3, 5, 5, 1, 0, 1, 5, 5, 1, 2, 5, 3, 5, 3, 0, 5, 5, 5, 2, 1, 4, 1,\n",
              "       5, 2, 0, 0, 4, 0, 3, 1, 1, 1, 1, 5, 1, 5, 1, 2, 3, 2, 5, 1, 2, 0,\n",
              "       1, 5, 1, 0, 5, 0, 1, 0, 2, 2, 2, 5, 0, 2, 3, 0, 0, 3, 2, 3, 5, 3,\n",
              "       1, 2, 1, 3, 0, 0, 1, 3, 3, 2, 5, 0, 0, 0, 5, 4, 4, 3, 1, 5, 3, 1,\n",
              "       5, 0, 5, 5, 4, 0, 0, 5, 1, 3, 1, 3, 3, 4, 1, 5, 1, 0, 4, 2, 3, 1,\n",
              "       5, 5, 3, 2, 5, 2, 5, 4, 1])"
            ]
          },
          "metadata": {},
          "execution_count": 21
        }
      ]
    },
    {
      "cell_type": "code",
      "source": [
        "\n",
        "from sklearn.metrics import classification_report, confusion_matrix,accuracy_score\n",
        "import seaborn as sn\n",
        "import pandas as pd\n",
        "import numpy as np\n",
        "new_labels=np.argmax(labels_test, axis=1)\n",
        "print(classification_report(new_labels,new_preds))\n",
        "\n",
        "acc = float(accuracy_score(new_labels,new_preds))*100\n",
        "print(\"----accuracy score %s ----\" % acc)\n",
        "\n",
        "cm = confusion_matrix(new_labels,new_preds)\n",
        "#df_cm = pd.DataFrame(cm)\n",
        "class_names = ['neutral','calm', 'happy','sad','angry', 'fearful' ]\n",
        "df_cm = pd.DataFrame(cm, index=class_names, columns=class_names,)\n",
        "sn.heatmap(df_cm, annot=True, fmt='')\n",
        "plt.show()\n"
      ],
      "metadata": {
        "colab": {
          "base_uri": "https://localhost:8080/",
          "height": 508
        },
        "id": "cTET95L8RoVW",
        "outputId": "2339caa3-7022-4a0f-d759-019614e46e73"
      },
      "execution_count": 22,
      "outputs": [
        {
          "output_type": "stream",
          "name": "stdout",
          "text": [
            "              precision    recall  f1-score   support\n",
            "\n",
            "           0       0.67      0.96      0.79        27\n",
            "           1       0.94      0.73      0.82        44\n",
            "           2       0.91      0.97      0.94        30\n",
            "           3       0.88      0.68      0.77        34\n",
            "           4       1.00      0.47      0.64        34\n",
            "           5       0.62      0.97      0.76        38\n",
            "\n",
            "    accuracy                           0.79       207\n",
            "   macro avg       0.84      0.80      0.78       207\n",
            "weighted avg       0.84      0.79      0.78       207\n",
            "\n",
            "----accuracy score 78.74396135265701 ----\n"
          ]
        },
        {
          "output_type": "display_data",
          "data": {
            "text/plain": [
              "<Figure size 432x288 with 2 Axes>"
            ],
            "image/png": "[encoded data removed]"
          },
          "metadata": {
            "needs_background": "light"
          }
        }
      ]
    },
    {
      "cell_type": "code",
      "source": [
        ""
      ],
      "metadata": {
        "id": "c3nbyK6BfnDR"
      },
      "execution_count": null,
      "outputs": []
    }
  ]
}