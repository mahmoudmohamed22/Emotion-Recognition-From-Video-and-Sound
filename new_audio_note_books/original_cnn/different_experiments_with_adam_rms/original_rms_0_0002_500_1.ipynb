{
  "nbformat": 4,
  "nbformat_minor": 0,
  "metadata": {
    "colab": {
      "name": "original_rms_0.0002_500_1.ipynb",
      "provenance": [],
      "collapsed_sections": []
    },
    "kernelspec": {
      "name": "python3",
      "display_name": "Python 3"
    },
    "language_info": {
      "name": "python"
    },
    "accelerator": "GPU"
  },
  "cells": [
    {
      "cell_type": "code",
      "execution_count": 3,
      "metadata": {
        "colab": {
          "base_uri": "https://localhost:8080/"
        },
        "id": "9SRCO-a_AlH5",
        "outputId": "ef0ac785-f068-4be1-d523-fba26939af46"
      },
      "outputs": [
        {
          "output_type": "stream",
          "name": "stdout",
          "text": [
            "Mounted at /content/drive\n"
          ]
        }
      ],
      "source": [
        "from google.colab import drive\n",
        "drive.mount('/content/drive')"
      ]
    },
    {
      "cell_type": "code",
      "metadata": {
        "id": "HJjcbxwy46bG",
        "colab": {
          "base_uri": "https://localhost:8080/",
          "height": 17
        },
        "outputId": "1f8d2815-32e0-48e4-f238-1cf15a3b3ae9"
      },
      "source": [
        "# Orignial Notebook: https://github.com/MITESHPUTHRANNEU/Speech-Emotion-Analyzer/blob/master/final_results_gender_test.ipynb\n",
        "# This notebook author: Reza Chu\n",
        "# Last Editing Date: 31st May 2019\n",
        "\n",
        "## Python\n",
        "import os\n",
        "import random\n",
        "import sys\n",
        "\n",
        "import IPython\n",
        "from IPython.display import Audio\n",
        "from IPython.display import Image\n",
        "import matplotlib.pyplot as plt\n",
        "\n",
        "## Package\n",
        "import glob \n",
        "import keras\n",
        "import IPython.display as ipd\n",
        "import librosa\n",
        "import librosa.display\n",
        "import matplotlib.pyplot as plt\n",
        "import numpy as np\n",
        "import pandas as pd\n",
        "import plotly.graph_objs as go\n",
        "import plotly.offline as py\n",
        "import plotly.tools as tls\n",
        "import seaborn as sns\n",
        "import scipy.io.wavfile\n",
        "import tensorflow as tf\n",
        "py.init_notebook_mode(connected=True)\n",
        "\n",
        "## Keras\n",
        "from keras import regularizers\n",
        "from keras.callbacks import ModelCheckpoint, LearningRateScheduler, EarlyStopping\n",
        "from keras.callbacks import  History, ReduceLROnPlateau, CSVLogger\n",
        "from keras.models import Model, Sequential\n",
        "from keras.layers import Dense, Embedding, LSTM\n",
        "from keras.layers import Input, Flatten, Dropout, Activation, BatchNormalization\n",
        "from keras.layers import Conv1D, MaxPooling1D, AveragePooling1D\n",
        "from keras.preprocessing import sequence\n",
        "from keras.preprocessing.sequence import pad_sequences\n",
        "from keras.preprocessing.text import Tokenizer\n",
        "from keras.utils import np_utils\n",
        "from tensorflow.keras.utils import to_categorical\n",
        "\n",
        "## Sklearn\n",
        "from sklearn.metrics import confusion_matrix\n",
        "from sklearn.preprocessing import LabelEncoder\n",
        "\n",
        "## Rest\n",
        "from scipy.fftpack import fft\n",
        "from scipy import signal\n",
        "from scipy.io import wavfile\n",
        "from tqdm import tqdm\n",
        "\n",
        "input_duration=3\n",
        "# % pylab inline"
      ],
      "execution_count": 1,
      "outputs": [
        {
          "output_type": "display_data",
          "data": {
            "text/html": [
              "        <script type=\"text/javascript\">\n",
              "        window.PlotlyConfig = {MathJaxConfig: 'local'};\n",
              "        if (window.MathJax) {MathJax.Hub.Config({SVG: {font: \"STIX-Web\"}});}\n",
              "        if (typeof require !== 'undefined') {\n",
              "        require.undef(\"plotly\");\n",
              "        requirejs.config({\n",
              "            paths: {\n",
              "                'plotly': ['https://cdn.plot.ly/plotly-2.8.3.min']\n",
              "            }\n",
              "        });\n",
              "        require(['plotly'], function(Plotly) {\n",
              "            window._Plotly = Plotly;\n",
              "        });\n",
              "        }\n",
              "        </script>\n",
              "        "
            ]
          },
          "metadata": {}
        }
      ]
    },
    {
      "cell_type": "code",
      "source": [
        "#radvass speech and song\n",
        "import time\n",
        "import os\n",
        "import librosa\n",
        "from librosa import display\n",
        "import matplotlib.pyplot as plt\n",
        "\n",
        "count=0\n",
        "path1 = '/content/drive/MyDrive/RAVDESS_speech'\n",
        "path2 = '/content/drive/MyDrive/RAVDESS_song'\n",
        "\n",
        "lst = []\n",
        "\n",
        "start_time = time.time()\n",
        "\n",
        "for subdir, dirs, files in os.walk(path2):\n",
        "  print(dirs)\n",
        "  print(subdir)\n",
        "  #print(files)\n",
        "  for file in files:\n",
        "      try:\n",
        "        count +=1\n",
        "        #Load librosa array, obtain mfcss, store the file and the mcss information in a new array\n",
        "        X, sample_rate = librosa.load(os.path.join(subdir,file), res_type='kaiser_fast')\n",
        "        mfccs = np.mean(librosa.feature.mfcc(y=X, sr=sample_rate, n_mfcc=40).T,axis=0) \n",
        "        # The instruction below converts the labels (from 1 to 8) to a series from 0 to 7\n",
        "        # This is because our predictor needs to start from 0 otherwise it will try to predict also 0.\n",
        "        file = int(file[7:8]) - 1 \n",
        "        arr = mfccs, file\n",
        "        lst.append(arr)\n",
        "      # If the file is not valid, skip it\n",
        "      except ValueError:\n",
        "        continue\n",
        "\n",
        "for subdir, dirs, files in os.walk(path1):\n",
        "  print(dirs)\n",
        "  print(subdir)\n",
        " # print(files)\n",
        "  for file in files:\n",
        "      try:\n",
        "        #Load librosa array, obtain mfcss, store the file and the mcss information in a new array\n",
        "        X, sample_rate = librosa.load(os.path.join(subdir,file), res_type='kaiser_fast')\n",
        "        mfccs = np.mean(librosa.feature.mfcc(y=X, sr=sample_rate, n_mfcc=40).T,axis=0) \n",
        "        # The instruction below converts the labels (from 1 to 8) to a series from 0 to 7\n",
        "        # This is because our predictor needs to start from 0 otherwise it will try to predict also 0.\n",
        "        file = int(file[7:8]) - 1 \n",
        "        if(file ==6 or file==7):\n",
        "          continue\n",
        "        count +=1\n",
        "        arr = mfccs, file\n",
        "        lst.append(arr)\n",
        "      # If the file is not valid, skip it\n",
        "      except ValueError:\n",
        "        continue\n",
        "\n",
        "\n",
        "\n",
        "print(\"--- Data loaded. Loading time: %s seconds ---\" % (time.time() - start_time))"
      ],
      "metadata": {
        "colab": {
          "base_uri": "https://localhost:8080/"
        },
        "id": "IfuyRZl42ccZ",
        "outputId": "ce249970-9930-450a-db19-8e2b3f9edde8"
      },
      "execution_count": null,
      "outputs": [
        {
          "output_type": "stream",
          "name": "stdout",
          "text": [
            "['Actor_10', 'Actor_11', 'Actor_13', 'Actor_12', 'Actor_14', 'Actor_15', 'Actor_16', 'Actor_17', 'Actor_18', 'Actor_19', 'Actor_21', 'Actor_22', 'Actor_23', 'Actor_09', 'Actor_24', 'Actor_04', 'Actor_08', 'Actor_03', 'Actor_02', 'Actor_06', 'Actor_05', 'Actor_01', 'Actor_07', 'Actor_20']\n",
            "/content/drive/MyDrive/RAVDESS_song\n",
            "[]\n",
            "/content/drive/MyDrive/RAVDESS_song/Actor_10\n",
            "[]\n",
            "/content/drive/MyDrive/RAVDESS_song/Actor_11\n",
            "[]\n",
            "/content/drive/MyDrive/RAVDESS_song/Actor_13\n",
            "[]\n",
            "/content/drive/MyDrive/RAVDESS_song/Actor_12\n",
            "[]\n",
            "/content/drive/MyDrive/RAVDESS_song/Actor_14\n",
            "[]\n",
            "/content/drive/MyDrive/RAVDESS_song/Actor_15\n",
            "[]\n",
            "/content/drive/MyDrive/RAVDESS_song/Actor_16\n",
            "[]\n",
            "/content/drive/MyDrive/RAVDESS_song/Actor_17\n",
            "[]\n",
            "/content/drive/MyDrive/RAVDESS_song/Actor_18\n",
            "[]\n",
            "/content/drive/MyDrive/RAVDESS_song/Actor_19\n",
            "[]\n",
            "/content/drive/MyDrive/RAVDESS_song/Actor_21\n",
            "[]\n",
            "/content/drive/MyDrive/RAVDESS_song/Actor_22\n",
            "[]\n",
            "/content/drive/MyDrive/RAVDESS_song/Actor_23\n",
            "[]\n",
            "/content/drive/MyDrive/RAVDESS_song/Actor_09\n",
            "[]\n",
            "/content/drive/MyDrive/RAVDESS_song/Actor_24\n",
            "[]\n",
            "/content/drive/MyDrive/RAVDESS_song/Actor_04\n",
            "[]\n",
            "/content/drive/MyDrive/RAVDESS_song/Actor_08\n",
            "[]\n",
            "/content/drive/MyDrive/RAVDESS_song/Actor_03\n",
            "[]\n",
            "/content/drive/MyDrive/RAVDESS_song/Actor_02\n",
            "[]\n",
            "/content/drive/MyDrive/RAVDESS_song/Actor_06\n",
            "[]\n",
            "/content/drive/MyDrive/RAVDESS_song/Actor_05\n",
            "[]\n",
            "/content/drive/MyDrive/RAVDESS_song/Actor_01\n",
            "[]\n",
            "/content/drive/MyDrive/RAVDESS_song/Actor_07\n",
            "[]\n",
            "/content/drive/MyDrive/RAVDESS_song/Actor_20\n",
            "['Actor_05', 'Actor_08', 'Actor_10', 'Actor_04', 'Actor_09', 'Actor_14', 'Actor_12', 'Actor_13', 'Actor_11', 'Actor_06', 'Actor_24', 'Actor_07', 'Actor_23', 'Actor_22', 'Actor_21', 'Actor_20', 'Actor_02', 'Actor_19', 'Actor_18', 'Actor_17', 'Actor_16', 'Actor_15', 'Actor_03', 'Actor_01']\n",
            "/content/drive/MyDrive/RAVDESS_speech\n",
            "[]\n",
            "/content/drive/MyDrive/RAVDESS_speech/Actor_05\n",
            "[]\n",
            "/content/drive/MyDrive/RAVDESS_speech/Actor_08\n",
            "[]\n",
            "/content/drive/MyDrive/RAVDESS_speech/Actor_10\n",
            "[]\n",
            "/content/drive/MyDrive/RAVDESS_speech/Actor_04\n",
            "[]\n",
            "/content/drive/MyDrive/RAVDESS_speech/Actor_09\n",
            "[]\n",
            "/content/drive/MyDrive/RAVDESS_speech/Actor_14\n",
            "[]\n",
            "/content/drive/MyDrive/RAVDESS_speech/Actor_12\n",
            "[]\n",
            "/content/drive/MyDrive/RAVDESS_speech/Actor_13\n",
            "[]\n",
            "/content/drive/MyDrive/RAVDESS_speech/Actor_11\n",
            "[]\n",
            "/content/drive/MyDrive/RAVDESS_speech/Actor_06\n",
            "[]\n",
            "/content/drive/MyDrive/RAVDESS_speech/Actor_24\n",
            "[]\n",
            "/content/drive/MyDrive/RAVDESS_speech/Actor_07\n",
            "[]\n",
            "/content/drive/MyDrive/RAVDESS_speech/Actor_23\n",
            "[]\n",
            "/content/drive/MyDrive/RAVDESS_speech/Actor_22\n",
            "[]\n",
            "/content/drive/MyDrive/RAVDESS_speech/Actor_21\n",
            "[]\n",
            "/content/drive/MyDrive/RAVDESS_speech/Actor_20\n",
            "[]\n",
            "/content/drive/MyDrive/RAVDESS_speech/Actor_02\n",
            "[]\n",
            "/content/drive/MyDrive/RAVDESS_speech/Actor_19\n",
            "[]\n",
            "/content/drive/MyDrive/RAVDESS_speech/Actor_18\n",
            "[]\n",
            "/content/drive/MyDrive/RAVDESS_speech/Actor_17\n",
            "[]\n",
            "/content/drive/MyDrive/RAVDESS_speech/Actor_16\n",
            "[]\n",
            "/content/drive/MyDrive/RAVDESS_speech/Actor_15\n",
            "[]\n",
            "/content/drive/MyDrive/RAVDESS_speech/Actor_03\n",
            "[]\n",
            "/content/drive/MyDrive/RAVDESS_speech/Actor_01\n",
            "--- Data loaded. Loading time: 204.12607288360596 seconds ---\n"
          ]
        }
      ]
    },
    {
      "cell_type": "code",
      "source": [
        "count"
      ],
      "metadata": {
        "id": "Ltlhi25L2AI5",
        "colab": {
          "base_uri": "https://localhost:8080/"
        },
        "outputId": "92f64156-e27a-4381-e558-85094fc41c56"
      },
      "execution_count": null,
      "outputs": [
        {
          "output_type": "execute_result",
          "data": {
            "text/plain": [
              "2068"
            ]
          },
          "metadata": {},
          "execution_count": 5
        }
      ]
    },
    {
      "cell_type": "code",
      "source": [
        "from numpy.core.fromnumeric import size\n",
        "size(lst)"
      ],
      "metadata": {
        "id": "HMOH7d7mzHB7",
        "colab": {
          "base_uri": "https://localhost:8080/"
        },
        "outputId": "454c6795-9625-4c4a-aae1-8816c01db98f"
      },
      "execution_count": null,
      "outputs": [
        {
          "output_type": "stream",
          "name": "stderr",
          "text": [
            "/usr/local/lib/python3.7/dist-packages/numpy/core/fromnumeric.py:3208: VisibleDeprecationWarning:\n",
            "\n",
            "Creating an ndarray from ragged nested sequences (which is a list-or-tuple of lists-or-tuples-or ndarrays with different lengths or shapes) is deprecated. If you meant to do this, you must specify 'dtype=object' when creating the ndarray.\n",
            "\n"
          ]
        },
        {
          "output_type": "execute_result",
          "data": {
            "text/plain": [
              "4136"
            ]
          },
          "metadata": {},
          "execution_count": 6
        }
      ]
    },
    {
      "cell_type": "code",
      "source": [
        "# Creating X and y: zip makes a list of all the first elements, and a list of all the second elements.\n",
        "X, y = zip(*lst)"
      ],
      "metadata": {
        "id": "ocdL7tSTBoMt"
      },
      "execution_count": null,
      "outputs": []
    },
    {
      "cell_type": "code",
      "source": [
        "import numpy as np\n",
        "X = np.asarray(X)\n",
        "y = np.asarray(y)\n",
        "X.shape, y.shape"
      ],
      "metadata": {
        "id": "vHKwUGTbBtnF",
        "colab": {
          "base_uri": "https://localhost:8080/"
        },
        "outputId": "52b5b212-692b-49e9-b357-6d6f08d864df"
      },
      "execution_count": null,
      "outputs": [
        {
          "output_type": "execute_result",
          "data": {
            "text/plain": [
              "((2068, 40), (2068,))"
            ]
          },
          "metadata": {},
          "execution_count": 8
        }
      ]
    },
    {
      "cell_type": "code",
      "source": [
        "X.shape"
      ],
      "metadata": {
        "id": "2sUCtbfMztE5",
        "colab": {
          "base_uri": "https://localhost:8080/"
        },
        "outputId": "e14844a2-b3c4-439c-e82f-783c1f91504a"
      },
      "execution_count": null,
      "outputs": [
        {
          "output_type": "execute_result",
          "data": {
            "text/plain": [
              "(2068, 40)"
            ]
          },
          "metadata": {},
          "execution_count": 9
        }
      ]
    },
    {
      "cell_type": "code",
      "source": [
        "# # Saving joblib files to not load them again with the loop above\n",
        "\n",
        "# import joblib\n",
        "\n",
        "# X_name = 'x.joblib'\n",
        "# y_name = 'y.joblib'\n",
        "# save_dir = '/content/drive/My Drive/graduation project/audio/paper_code/features'\n",
        "\n",
        "# savedX = joblib.dump(X, os.path.join(save_dir, X_name))\n",
        "# savedy = joblib.dump(y, os.path.join(save_dir, y_name))"
      ],
      "metadata": {
        "id": "UCzic8rlDcuk"
      },
      "execution_count": null,
      "outputs": []
    },
    {
      "cell_type": "code",
      "source": [
        "# # Loading saved models\n",
        "import joblib\n",
        "X = joblib.load('/content/drive/My Drive/graduation project/audio/paper_code/features/x.joblib')\n",
        "y = joblib.load('/content/drive/My Drive/graduation project/audio/paper_code/features/y.joblib')"
      ],
      "metadata": {
        "id": "Q35CN6zDrzg1"
      },
      "execution_count": 2,
      "outputs": []
    },
    {
      "cell_type": "code",
      "source": [
        "X.shape"
      ],
      "metadata": {
        "colab": {
          "base_uri": "https://localhost:8080/"
        },
        "id": "7PSTurzjCo5K",
        "outputId": "7b9f11c9-1083-46e6-b86d-f56c580e8f2b"
      },
      "execution_count": 3,
      "outputs": [
        {
          "output_type": "execute_result",
          "data": {
            "text/plain": [
              "(2068, 40)"
            ]
          },
          "metadata": {},
          "execution_count": 3
        }
      ]
    },
    {
      "cell_type": "code",
      "source": [
        "from sklearn.model_selection import train_test_split\n",
        "\n",
        "X_train, X_test, y_train, y_test = train_test_split(X,y, test_size=0.1,shuffle = True, random_state=42)\n",
        "X_train , X_valid, y_train, y_valid = train_test_split(X_train,y_train, test_size=0.1112305212, shuffle = True, random_state=42)"
      ],
      "metadata": {
        "id": "Ai4Fy5cPCiq1"
      },
      "execution_count": 4,
      "outputs": []
    },
    {
      "cell_type": "code",
      "source": [
        "import numpy as np\n",
        "x_traincnn = np.expand_dims(X_train, axis=2)\n",
        "x_testcnn = np.expand_dims(X_test, axis=2)\n",
        "X_valid= np.expand_dims(X_valid, axis=2)"
      ],
      "metadata": {
        "id": "tp1Fm5K3CEXu"
      },
      "execution_count": 5,
      "outputs": []
    },
    {
      "cell_type": "code",
      "source": [
        "x_traincnn.shape, x_testcnn.shape , X_valid.shape\n",
        "#1861"
      ],
      "metadata": {
        "id": "RI0MxoIPBws5",
        "colab": {
          "base_uri": "https://localhost:8080/"
        },
        "outputId": "6d636e9c-5d93-4c65-c0ae-269f0aafd3dc"
      },
      "execution_count": 6,
      "outputs": [
        {
          "output_type": "execute_result",
          "data": {
            "text/plain": [
              "((1654, 40, 1), (207, 40, 1), (207, 40, 1))"
            ]
          },
          "metadata": {},
          "execution_count": 6
        }
      ]
    },
    {
      "cell_type": "code",
      "source": [
        "import keras\n",
        "import numpy as np\n",
        "import matplotlib.pyplot as plt\n",
        "import tensorflow as tf\n",
        "from keras.preprocessing import sequence\n",
        "from keras.models import Sequential\n",
        "from keras.layers import Dense, Embedding\n",
        "from tensorflow.keras.utils import to_categorical\n",
        "from keras.layers import Input, Flatten, Dropout, Activation\n",
        "from keras.layers import Conv1D, MaxPooling1D\n",
        "from keras.models import Model\n",
        "from keras.callbacks import ModelCheckpoint\n",
        "from tensorflow.keras import optimizers\n",
        "\n",
        "model = Sequential()\n",
        "\n",
        "model.add(Conv1D(128, 8,padding='same', #classifier.add(Convolution2D(64, (3, 3), padding = 'same', input_shape = (128, 128, 3), activation = 'relu'))\n",
        "                 input_shape=(40,1)))\n",
        "model.add(Activation('relu'))\n",
        "model.add(Dropout(0.3))\n",
        "model.add(MaxPooling1D(pool_size=(5)))\n",
        "\n",
        "\n",
        "model.add(Conv1D(256,8,padding='same',))\n",
        "model.add(Activation('relu'))\n",
        "model.add(Dropout(0.3))\n",
        "model.add(MaxPooling1D(pool_size=(5)))\n",
        "\n",
        "model.add(Flatten())\n",
        "\n",
        "model.add(Dense(256))\n",
        "model.add(Activation('relu'))\n",
        "model.add(Dense(256))\n",
        "model.add(Activation('relu'))\n",
        "\n",
        "model.add(Dense(6))\n",
        "model.add(Activation('softmax'))\n",
        "\n",
        "opt = tf.keras.optimizers.RMSprop(lr=0.0002 , decay=0.9)\n",
        "#opt = tf.keras.optimizers.RMSprop(lr=0.0001, rho=0.9, epsilon=1e-07, decay=0.0)\n",
        "#opt = tf.keras.optimizers.SGD(lr=0.001, momentum=0.0, decay=0.0, nesterov=False)"
      ],
      "metadata": {
        "id": "g74fXWVAC4Cr",
        "colab": {
          "base_uri": "https://localhost:8080/"
        },
        "outputId": "1223c857-59e6-4107-daba-da099955e8e9"
      },
      "execution_count": 7,
      "outputs": [
        {
          "output_type": "stream",
          "name": "stderr",
          "text": [
            "/usr/local/lib/python3.7/dist-packages/keras/optimizer_v2/rmsprop.py:130: UserWarning:\n",
            "\n",
            "The `lr` argument is deprecated, use `learning_rate` instead.\n",
            "\n"
          ]
        }
      ]
    },
    {
      "cell_type": "code",
      "source": [
        "model.summary()"
      ],
      "metadata": {
        "colab": {
          "base_uri": "https://localhost:8080/"
        },
        "id": "H6ukOxAGC_I4",
        "outputId": "168aae4f-c6dc-495e-c6a6-717d774512b1"
      },
      "execution_count": 8,
      "outputs": [
        {
          "output_type": "stream",
          "name": "stdout",
          "text": [
            "Model: \"sequential\"\n",
            "_________________________________________________________________\n",
            " Layer (type)                Output Shape              Param #   \n",
            "=================================================================\n",
            " conv1d (Conv1D)             (None, 40, 128)           1152      \n",
            "                                                                 \n",
            " activation (Activation)     (None, 40, 128)           0         \n",
            "                                                                 \n",
            " dropout (Dropout)           (None, 40, 128)           0         \n",
            "                                                                 \n",
            " max_pooling1d (MaxPooling1D  (None, 8, 128)           0         \n",
            " )                                                               \n",
            "                                                                 \n",
            " conv1d_1 (Conv1D)           (None, 8, 256)            262400    \n",
            "                                                                 \n",
            " activation_1 (Activation)   (None, 8, 256)            0         \n",
            "                                                                 \n",
            " dropout_1 (Dropout)         (None, 8, 256)            0         \n",
            "                                                                 \n",
            " max_pooling1d_1 (MaxPooling  (None, 1, 256)           0         \n",
            " 1D)                                                             \n",
            "                                                                 \n",
            " flatten (Flatten)           (None, 256)               0         \n",
            "                                                                 \n",
            " dense (Dense)               (None, 256)               65792     \n",
            "                                                                 \n",
            " activation_2 (Activation)   (None, 256)               0         \n",
            "                                                                 \n",
            " dense_1 (Dense)             (None, 256)               65792     \n",
            "                                                                 \n",
            " activation_3 (Activation)   (None, 256)               0         \n",
            "                                                                 \n",
            " dense_2 (Dense)             (None, 6)                 1542      \n",
            "                                                                 \n",
            " activation_4 (Activation)   (None, 6)                 0         \n",
            "                                                                 \n",
            "=================================================================\n",
            "Total params: 396,678\n",
            "Trainable params: 396,678\n",
            "Non-trainable params: 0\n",
            "_________________________________________________________________\n"
          ]
        }
      ]
    },
    {
      "cell_type": "code",
      "source": [
        "model.compile(loss='sparse_categorical_crossentropy',\n",
        "              optimizer=opt,\n",
        "              metrics=['accuracy'])"
      ],
      "metadata": {
        "id": "AbMlLNk4DCBM"
      },
      "execution_count": 9,
      "outputs": []
    },
    {
      "cell_type": "code",
      "source": [
        "# Create an Instance of Early Stopping Callback.\n",
        "early_stopping_callback = EarlyStopping(monitor = 'val_loss', patience = 25, mode = 'min', restore_best_weights = True)\n",
        "\n",
        "cnnhistory=model.fit(x_traincnn, y_train, batch_size=16, epochs=500 , shuffle = True, validation_data=(X_valid, y_valid), callbacks = [early_stopping_callback])"
      ],
      "metadata": {
        "colab": {
          "base_uri": "https://localhost:8080/"
        },
        "id": "RI1v2AuADFhy",
        "outputId": "839c56a3-7e0f-421b-bed9-7bef21786444"
      },
      "execution_count": 10,
      "outputs": [
        {
          "output_type": "stream",
          "name": "stdout",
          "text": [
            "Epoch 1/500\n",
            "104/104 [==============================] - 4s 7ms/step - loss: 6.4120 - accuracy: 0.1596 - val_loss: 2.5178 - val_accuracy: 0.1739\n",
            "Epoch 2/500\n",
            "104/104 [==============================] - 0s 5ms/step - loss: 5.4637 - accuracy: 0.1959 - val_loss: 2.2956 - val_accuracy: 0.1739\n",
            "Epoch 3/500\n",
            "104/104 [==============================] - 0s 4ms/step - loss: 5.4652 - accuracy: 0.1917 - val_loss: 2.2643 - val_accuracy: 0.1739\n",
            "Epoch 4/500\n",
            "104/104 [==============================] - 1s 5ms/step - loss: 5.5521 - accuracy: 0.1759 - val_loss: 2.2291 - val_accuracy: 0.1739\n",
            "Epoch 5/500\n",
            "104/104 [==============================] - 0s 5ms/step - loss: 5.4931 - accuracy: 0.1681 - val_loss: 2.2310 - val_accuracy: 0.1739\n",
            "Epoch 6/500\n",
            "104/104 [==============================] - 0s 5ms/step - loss: 5.4047 - accuracy: 0.1886 - val_loss: 2.2411 - val_accuracy: 0.1739\n",
            "Epoch 7/500\n",
            "104/104 [==============================] - 0s 5ms/step - loss: 5.4867 - accuracy: 0.1838 - val_loss: 2.2511 - val_accuracy: 0.1739\n",
            "Epoch 8/500\n",
            "104/104 [==============================] - 1s 5ms/step - loss: 5.4449 - accuracy: 0.1723 - val_loss: 2.2483 - val_accuracy: 0.1739\n",
            "Epoch 9/500\n",
            "104/104 [==============================] - 0s 5ms/step - loss: 5.5201 - accuracy: 0.1644 - val_loss: 2.2441 - val_accuracy: 0.1739\n",
            "Epoch 10/500\n",
            "104/104 [==============================] - 1s 5ms/step - loss: 5.4307 - accuracy: 0.1687 - val_loss: 2.2357 - val_accuracy: 0.1739\n",
            "Epoch 11/500\n",
            "104/104 [==============================] - 0s 4ms/step - loss: 5.3228 - accuracy: 0.1578 - val_loss: 2.2432 - val_accuracy: 0.1739\n",
            "Epoch 12/500\n",
            "104/104 [==============================] - 0s 5ms/step - loss: 5.2306 - accuracy: 0.1790 - val_loss: 2.2323 - val_accuracy: 0.1739\n",
            "Epoch 13/500\n",
            "104/104 [==============================] - 0s 4ms/step - loss: 5.1635 - accuracy: 0.1796 - val_loss: 2.2403 - val_accuracy: 0.1739\n",
            "Epoch 14/500\n",
            "104/104 [==============================] - 0s 4ms/step - loss: 5.4530 - accuracy: 0.1590 - val_loss: 2.2442 - val_accuracy: 0.1739\n",
            "Epoch 15/500\n",
            "104/104 [==============================] - 0s 4ms/step - loss: 5.3411 - accuracy: 0.1826 - val_loss: 2.2498 - val_accuracy: 0.1739\n",
            "Epoch 16/500\n",
            "104/104 [==============================] - 0s 5ms/step - loss: 5.4404 - accuracy: 0.1608 - val_loss: 2.2511 - val_accuracy: 0.1739\n",
            "Epoch 17/500\n",
            "104/104 [==============================] - 0s 4ms/step - loss: 5.3022 - accuracy: 0.1971 - val_loss: 2.2423 - val_accuracy: 0.1739\n",
            "Epoch 18/500\n",
            "104/104 [==============================] - 1s 5ms/step - loss: 5.4809 - accuracy: 0.1590 - val_loss: 2.2476 - val_accuracy: 0.1739\n",
            "Epoch 19/500\n",
            "104/104 [==============================] - 0s 4ms/step - loss: 5.3283 - accuracy: 0.1778 - val_loss: 2.2358 - val_accuracy: 0.1739\n",
            "Epoch 20/500\n",
            "104/104 [==============================] - 1s 5ms/step - loss: 5.3571 - accuracy: 0.1765 - val_loss: 2.2253 - val_accuracy: 0.1739\n",
            "Epoch 21/500\n",
            "104/104 [==============================] - 0s 5ms/step - loss: 5.3319 - accuracy: 0.1717 - val_loss: 2.2221 - val_accuracy: 0.1739\n",
            "Epoch 22/500\n",
            "104/104 [==============================] - 1s 5ms/step - loss: 5.4438 - accuracy: 0.1626 - val_loss: 2.2212 - val_accuracy: 0.1739\n",
            "Epoch 23/500\n",
            "104/104 [==============================] - 0s 4ms/step - loss: 5.3206 - accuracy: 0.1614 - val_loss: 2.2207 - val_accuracy: 0.1739\n",
            "Epoch 24/500\n",
            "104/104 [==============================] - 0s 4ms/step - loss: 5.1219 - accuracy: 0.1862 - val_loss: 2.2152 - val_accuracy: 0.1739\n",
            "Epoch 25/500\n",
            "104/104 [==============================] - 1s 5ms/step - loss: 5.1420 - accuracy: 0.1802 - val_loss: 2.2075 - val_accuracy: 0.1739\n",
            "Epoch 26/500\n",
            "104/104 [==============================] - 0s 4ms/step - loss: 5.2950 - accuracy: 0.1669 - val_loss: 2.2131 - val_accuracy: 0.1739\n",
            "Epoch 27/500\n",
            "104/104 [==============================] - 0s 4ms/step - loss: 5.4856 - accuracy: 0.1741 - val_loss: 2.2098 - val_accuracy: 0.1739\n",
            "Epoch 28/500\n",
            "104/104 [==============================] - 0s 4ms/step - loss: 5.3557 - accuracy: 0.1778 - val_loss: 2.2065 - val_accuracy: 0.1739\n",
            "Epoch 29/500\n",
            "104/104 [==============================] - 0s 5ms/step - loss: 5.2076 - accuracy: 0.1778 - val_loss: 2.2065 - val_accuracy: 0.1739\n",
            "Epoch 30/500\n",
            "104/104 [==============================] - 0s 4ms/step - loss: 5.3063 - accuracy: 0.1687 - val_loss: 2.2063 - val_accuracy: 0.1739\n",
            "Epoch 31/500\n",
            "104/104 [==============================] - 0s 5ms/step - loss: 5.3963 - accuracy: 0.1487 - val_loss: 2.2088 - val_accuracy: 0.1739\n",
            "Epoch 32/500\n",
            "104/104 [==============================] - 0s 4ms/step - loss: 5.2475 - accuracy: 0.1880 - val_loss: 2.2081 - val_accuracy: 0.1739\n",
            "Epoch 33/500\n",
            "104/104 [==============================] - 0s 4ms/step - loss: 5.3704 - accuracy: 0.1838 - val_loss: 2.2112 - val_accuracy: 0.1739\n",
            "Epoch 34/500\n",
            "104/104 [==============================] - 0s 5ms/step - loss: 5.2689 - accuracy: 0.1765 - val_loss: 2.2114 - val_accuracy: 0.1739\n",
            "Epoch 35/500\n",
            "104/104 [==============================] - 0s 4ms/step - loss: 5.2525 - accuracy: 0.1886 - val_loss: 2.2081 - val_accuracy: 0.1739\n",
            "Epoch 36/500\n",
            "104/104 [==============================] - 0s 4ms/step - loss: 5.1877 - accuracy: 0.1753 - val_loss: 2.2063 - val_accuracy: 0.1691\n",
            "Epoch 37/500\n",
            "104/104 [==============================] - 0s 5ms/step - loss: 5.2866 - accuracy: 0.1705 - val_loss: 2.2073 - val_accuracy: 0.1691\n",
            "Epoch 38/500\n",
            "104/104 [==============================] - 0s 4ms/step - loss: 5.2703 - accuracy: 0.1687 - val_loss: 2.2079 - val_accuracy: 0.1691\n",
            "Epoch 39/500\n",
            "104/104 [==============================] - 0s 5ms/step - loss: 5.2804 - accuracy: 0.1814 - val_loss: 2.2075 - val_accuracy: 0.1691\n",
            "Epoch 40/500\n",
            "104/104 [==============================] - 1s 5ms/step - loss: 5.2667 - accuracy: 0.1735 - val_loss: 2.2061 - val_accuracy: 0.1691\n",
            "Epoch 41/500\n",
            "104/104 [==============================] - 0s 4ms/step - loss: 5.3143 - accuracy: 0.1729 - val_loss: 2.2079 - val_accuracy: 0.1691\n",
            "Epoch 42/500\n",
            "104/104 [==============================] - 1s 5ms/step - loss: 5.2169 - accuracy: 0.1675 - val_loss: 2.2093 - val_accuracy: 0.1739\n",
            "Epoch 43/500\n",
            "104/104 [==============================] - 0s 4ms/step - loss: 5.2470 - accuracy: 0.1820 - val_loss: 2.2071 - val_accuracy: 0.1691\n",
            "Epoch 44/500\n",
            "104/104 [==============================] - 0s 4ms/step - loss: 5.1226 - accuracy: 0.1747 - val_loss: 2.2088 - val_accuracy: 0.1691\n",
            "Epoch 45/500\n",
            "104/104 [==============================] - 1s 5ms/step - loss: 5.2843 - accuracy: 0.1711 - val_loss: 2.2067 - val_accuracy: 0.1739\n",
            "Epoch 46/500\n",
            "104/104 [==============================] - 1s 5ms/step - loss: 5.2004 - accuracy: 0.1717 - val_loss: 2.2055 - val_accuracy: 0.1691\n",
            "Epoch 47/500\n",
            "104/104 [==============================] - 0s 4ms/step - loss: 5.0931 - accuracy: 0.1717 - val_loss: 2.2008 - val_accuracy: 0.1691\n",
            "Epoch 48/500\n",
            "104/104 [==============================] - 0s 4ms/step - loss: 5.2595 - accuracy: 0.1723 - val_loss: 2.2014 - val_accuracy: 0.1691\n",
            "Epoch 49/500\n",
            "104/104 [==============================] - 0s 4ms/step - loss: 5.2787 - accuracy: 0.1614 - val_loss: 2.2010 - val_accuracy: 0.1691\n",
            "Epoch 50/500\n",
            "104/104 [==============================] - 0s 5ms/step - loss: 5.3776 - accuracy: 0.1705 - val_loss: 2.2003 - val_accuracy: 0.1691\n",
            "Epoch 51/500\n",
            "104/104 [==============================] - 0s 5ms/step - loss: 5.0581 - accuracy: 0.1898 - val_loss: 2.2019 - val_accuracy: 0.1691\n",
            "Epoch 52/500\n",
            "104/104 [==============================] - 1s 5ms/step - loss: 5.1552 - accuracy: 0.1844 - val_loss: 2.2024 - val_accuracy: 0.1691\n",
            "Epoch 53/500\n",
            "104/104 [==============================] - 0s 4ms/step - loss: 5.2240 - accuracy: 0.1747 - val_loss: 2.2041 - val_accuracy: 0.1739\n",
            "Epoch 54/500\n",
            "104/104 [==============================] - 0s 5ms/step - loss: 5.0631 - accuracy: 0.1959 - val_loss: 2.2052 - val_accuracy: 0.1739\n",
            "Epoch 55/500\n",
            "104/104 [==============================] - 1s 5ms/step - loss: 5.3316 - accuracy: 0.1620 - val_loss: 2.2069 - val_accuracy: 0.1739\n",
            "Epoch 56/500\n",
            "104/104 [==============================] - 0s 5ms/step - loss: 5.1391 - accuracy: 0.1753 - val_loss: 2.2063 - val_accuracy: 0.1691\n",
            "Epoch 57/500\n",
            "104/104 [==============================] - 0s 5ms/step - loss: 5.2235 - accuracy: 0.1717 - val_loss: 2.2030 - val_accuracy: 0.1691\n",
            "Epoch 58/500\n",
            "104/104 [==============================] - 0s 5ms/step - loss: 5.2590 - accuracy: 0.1723 - val_loss: 2.2035 - val_accuracy: 0.1691\n",
            "Epoch 59/500\n",
            "104/104 [==============================] - 1s 5ms/step - loss: 5.0104 - accuracy: 0.1808 - val_loss: 2.2027 - val_accuracy: 0.1691\n",
            "Epoch 60/500\n",
            "104/104 [==============================] - 0s 5ms/step - loss: 5.1414 - accuracy: 0.1826 - val_loss: 2.2008 - val_accuracy: 0.1691\n",
            "Epoch 61/500\n",
            "104/104 [==============================] - 0s 5ms/step - loss: 5.3382 - accuracy: 0.1729 - val_loss: 2.2016 - val_accuracy: 0.1691\n",
            "Epoch 62/500\n",
            "104/104 [==============================] - 1s 5ms/step - loss: 5.0335 - accuracy: 0.1675 - val_loss: 2.2032 - val_accuracy: 0.1691\n",
            "Epoch 63/500\n",
            "104/104 [==============================] - 0s 4ms/step - loss: 5.1211 - accuracy: 0.2001 - val_loss: 2.2019 - val_accuracy: 0.1691\n",
            "Epoch 64/500\n",
            "104/104 [==============================] - 0s 5ms/step - loss: 5.1697 - accuracy: 0.1826 - val_loss: 2.2011 - val_accuracy: 0.1691\n",
            "Epoch 65/500\n",
            "104/104 [==============================] - 0s 4ms/step - loss: 5.0000 - accuracy: 0.1826 - val_loss: 2.2009 - val_accuracy: 0.1691\n",
            "Epoch 66/500\n",
            "104/104 [==============================] - 0s 5ms/step - loss: 5.1293 - accuracy: 0.1802 - val_loss: 2.1985 - val_accuracy: 0.1691\n",
            "Epoch 67/500\n",
            "104/104 [==============================] - 1s 5ms/step - loss: 5.0342 - accuracy: 0.1814 - val_loss: 2.1979 - val_accuracy: 0.1691\n",
            "Epoch 68/500\n",
            "104/104 [==============================] - 0s 4ms/step - loss: 5.0330 - accuracy: 0.1838 - val_loss: 2.1958 - val_accuracy: 0.1691\n",
            "Epoch 69/500\n",
            "104/104 [==============================] - 0s 4ms/step - loss: 5.2338 - accuracy: 0.1765 - val_loss: 2.1976 - val_accuracy: 0.1691\n",
            "Epoch 70/500\n",
            "104/104 [==============================] - 0s 4ms/step - loss: 5.1624 - accuracy: 0.1778 - val_loss: 2.1997 - val_accuracy: 0.1691\n",
            "Epoch 71/500\n",
            "104/104 [==============================] - 0s 5ms/step - loss: 5.1620 - accuracy: 0.1844 - val_loss: 2.1976 - val_accuracy: 0.1691\n",
            "Epoch 72/500\n",
            "104/104 [==============================] - 0s 5ms/step - loss: 5.2434 - accuracy: 0.1675 - val_loss: 2.1987 - val_accuracy: 0.1691\n",
            "Epoch 73/500\n",
            "104/104 [==============================] - 0s 5ms/step - loss: 5.3003 - accuracy: 0.1820 - val_loss: 2.1975 - val_accuracy: 0.1691\n",
            "Epoch 74/500\n",
            "104/104 [==============================] - 0s 5ms/step - loss: 5.1540 - accuracy: 0.1832 - val_loss: 2.1965 - val_accuracy: 0.1691\n",
            "Epoch 75/500\n",
            "104/104 [==============================] - 0s 5ms/step - loss: 5.0475 - accuracy: 0.1892 - val_loss: 2.1955 - val_accuracy: 0.1691\n",
            "Epoch 76/500\n",
            "104/104 [==============================] - 1s 5ms/step - loss: 5.0735 - accuracy: 0.1832 - val_loss: 2.1951 - val_accuracy: 0.1691\n",
            "Epoch 77/500\n",
            "104/104 [==============================] - 0s 5ms/step - loss: 5.1688 - accuracy: 0.1868 - val_loss: 2.1957 - val_accuracy: 0.1691\n",
            "Epoch 78/500\n",
            "104/104 [==============================] - 1s 5ms/step - loss: 5.1141 - accuracy: 0.1765 - val_loss: 2.1973 - val_accuracy: 0.1691\n",
            "Epoch 79/500\n",
            "104/104 [==============================] - 0s 5ms/step - loss: 5.3428 - accuracy: 0.1602 - val_loss: 2.1955 - val_accuracy: 0.1691\n",
            "Epoch 80/500\n",
            "104/104 [==============================] - 1s 5ms/step - loss: 5.3328 - accuracy: 0.1790 - val_loss: 2.1951 - val_accuracy: 0.1691\n",
            "Epoch 81/500\n",
            "104/104 [==============================] - 0s 5ms/step - loss: 5.2427 - accuracy: 0.1826 - val_loss: 2.1951 - val_accuracy: 0.1691\n",
            "Epoch 82/500\n",
            "104/104 [==============================] - 1s 5ms/step - loss: 5.1066 - accuracy: 0.1705 - val_loss: 2.1960 - val_accuracy: 0.1691\n",
            "Epoch 83/500\n",
            "104/104 [==============================] - 0s 5ms/step - loss: 5.2141 - accuracy: 0.1784 - val_loss: 2.1965 - val_accuracy: 0.1691\n",
            "Epoch 84/500\n",
            "104/104 [==============================] - 0s 4ms/step - loss: 4.9101 - accuracy: 0.1717 - val_loss: 2.1944 - val_accuracy: 0.1691\n",
            "Epoch 85/500\n",
            "104/104 [==============================] - 0s 5ms/step - loss: 5.1290 - accuracy: 0.1832 - val_loss: 2.1917 - val_accuracy: 0.1691\n",
            "Epoch 86/500\n",
            "104/104 [==============================] - 0s 5ms/step - loss: 5.2015 - accuracy: 0.1747 - val_loss: 2.1910 - val_accuracy: 0.1691\n",
            "Epoch 87/500\n",
            "104/104 [==============================] - 0s 5ms/step - loss: 5.1386 - accuracy: 0.1723 - val_loss: 2.1896 - val_accuracy: 0.1691\n",
            "Epoch 88/500\n",
            "104/104 [==============================] - 0s 4ms/step - loss: 5.2242 - accuracy: 0.1747 - val_loss: 2.1890 - val_accuracy: 0.1691\n",
            "Epoch 89/500\n",
            "104/104 [==============================] - 0s 4ms/step - loss: 5.1393 - accuracy: 0.1765 - val_loss: 2.1908 - val_accuracy: 0.1691\n",
            "Epoch 90/500\n",
            "104/104 [==============================] - 1s 5ms/step - loss: 5.0414 - accuracy: 0.1947 - val_loss: 2.1913 - val_accuracy: 0.1691\n",
            "Epoch 91/500\n",
            "104/104 [==============================] - 0s 4ms/step - loss: 5.1780 - accuracy: 0.1711 - val_loss: 2.1904 - val_accuracy: 0.1691\n",
            "Epoch 92/500\n",
            "104/104 [==============================] - 1s 5ms/step - loss: 5.0892 - accuracy: 0.1862 - val_loss: 2.1907 - val_accuracy: 0.1691\n",
            "Epoch 93/500\n",
            "104/104 [==============================] - 1s 5ms/step - loss: 5.2456 - accuracy: 0.1675 - val_loss: 2.1907 - val_accuracy: 0.1691\n",
            "Epoch 94/500\n",
            "104/104 [==============================] - 0s 5ms/step - loss: 5.0222 - accuracy: 0.1735 - val_loss: 2.1882 - val_accuracy: 0.1691\n",
            "Epoch 95/500\n",
            "104/104 [==============================] - 0s 4ms/step - loss: 4.9479 - accuracy: 0.1838 - val_loss: 2.1873 - val_accuracy: 0.1691\n",
            "Epoch 96/500\n",
            "104/104 [==============================] - 0s 4ms/step - loss: 5.0658 - accuracy: 0.1838 - val_loss: 2.1893 - val_accuracy: 0.1691\n",
            "Epoch 97/500\n",
            "104/104 [==============================] - 1s 5ms/step - loss: 5.2254 - accuracy: 0.1705 - val_loss: 2.1891 - val_accuracy: 0.1691\n",
            "Epoch 98/500\n",
            "104/104 [==============================] - 0s 4ms/step - loss: 5.1965 - accuracy: 0.1747 - val_loss: 2.1888 - val_accuracy: 0.1691\n",
            "Epoch 99/500\n",
            "104/104 [==============================] - 0s 4ms/step - loss: 5.2817 - accuracy: 0.1638 - val_loss: 2.1881 - val_accuracy: 0.1691\n",
            "Epoch 100/500\n",
            "104/104 [==============================] - 0s 4ms/step - loss: 5.1365 - accuracy: 0.1723 - val_loss: 2.1899 - val_accuracy: 0.1691\n",
            "Epoch 101/500\n",
            "104/104 [==============================] - 0s 5ms/step - loss: 5.1543 - accuracy: 0.1868 - val_loss: 2.1888 - val_accuracy: 0.1691\n",
            "Epoch 102/500\n",
            "104/104 [==============================] - 0s 4ms/step - loss: 5.1435 - accuracy: 0.1735 - val_loss: 2.1886 - val_accuracy: 0.1691\n",
            "Epoch 103/500\n",
            "104/104 [==============================] - 0s 4ms/step - loss: 5.0635 - accuracy: 0.1735 - val_loss: 2.1885 - val_accuracy: 0.1691\n",
            "Epoch 104/500\n",
            "104/104 [==============================] - 0s 5ms/step - loss: 5.2332 - accuracy: 0.1832 - val_loss: 2.1882 - val_accuracy: 0.1691\n",
            "Epoch 105/500\n",
            "104/104 [==============================] - 0s 4ms/step - loss: 5.1555 - accuracy: 0.1705 - val_loss: 2.1885 - val_accuracy: 0.1691\n",
            "Epoch 106/500\n",
            "104/104 [==============================] - 0s 5ms/step - loss: 5.0882 - accuracy: 0.1832 - val_loss: 2.1880 - val_accuracy: 0.1691\n",
            "Epoch 107/500\n",
            "104/104 [==============================] - 0s 4ms/step - loss: 5.1403 - accuracy: 0.1741 - val_loss: 2.1866 - val_accuracy: 0.1691\n",
            "Epoch 108/500\n",
            "104/104 [==============================] - 0s 5ms/step - loss: 5.0632 - accuracy: 0.1729 - val_loss: 2.1853 - val_accuracy: 0.1691\n",
            "Epoch 109/500\n",
            "104/104 [==============================] - 1s 5ms/step - loss: 5.3174 - accuracy: 0.1711 - val_loss: 2.1858 - val_accuracy: 0.1691\n",
            "Epoch 110/500\n",
            "104/104 [==============================] - 0s 4ms/step - loss: 5.2123 - accuracy: 0.1644 - val_loss: 2.1868 - val_accuracy: 0.1691\n",
            "Epoch 111/500\n",
            "104/104 [==============================] - 0s 5ms/step - loss: 5.1294 - accuracy: 0.1771 - val_loss: 2.1866 - val_accuracy: 0.1691\n",
            "Epoch 112/500\n",
            "104/104 [==============================] - 1s 5ms/step - loss: 5.2117 - accuracy: 0.1626 - val_loss: 2.1860 - val_accuracy: 0.1691\n",
            "Epoch 113/500\n",
            "104/104 [==============================] - 0s 5ms/step - loss: 5.1427 - accuracy: 0.1771 - val_loss: 2.1856 - val_accuracy: 0.1691\n",
            "Epoch 114/500\n",
            "104/104 [==============================] - 0s 4ms/step - loss: 4.9699 - accuracy: 0.1826 - val_loss: 2.1855 - val_accuracy: 0.1691\n",
            "Epoch 115/500\n",
            "104/104 [==============================] - 1s 5ms/step - loss: 5.2163 - accuracy: 0.1675 - val_loss: 2.1860 - val_accuracy: 0.1691\n",
            "Epoch 116/500\n",
            "104/104 [==============================] - 1s 5ms/step - loss: 5.0662 - accuracy: 0.1784 - val_loss: 2.1861 - val_accuracy: 0.1691\n",
            "Epoch 117/500\n",
            "104/104 [==============================] - 1s 5ms/step - loss: 5.0811 - accuracy: 0.1832 - val_loss: 2.1858 - val_accuracy: 0.1691\n",
            "Epoch 118/500\n",
            "104/104 [==============================] - 0s 4ms/step - loss: 4.9914 - accuracy: 0.1929 - val_loss: 2.1857 - val_accuracy: 0.1691\n",
            "Epoch 119/500\n",
            "104/104 [==============================] - 0s 5ms/step - loss: 5.3507 - accuracy: 0.1620 - val_loss: 2.1858 - val_accuracy: 0.1691\n",
            "Epoch 120/500\n",
            "104/104 [==============================] - 1s 5ms/step - loss: 5.2902 - accuracy: 0.1820 - val_loss: 2.1852 - val_accuracy: 0.1691\n",
            "Epoch 121/500\n",
            "104/104 [==============================] - 0s 5ms/step - loss: 4.8415 - accuracy: 0.1880 - val_loss: 2.1854 - val_accuracy: 0.1691\n",
            "Epoch 122/500\n",
            "104/104 [==============================] - 0s 4ms/step - loss: 5.0144 - accuracy: 0.1705 - val_loss: 2.1845 - val_accuracy: 0.1691\n",
            "Epoch 123/500\n",
            "104/104 [==============================] - 0s 5ms/step - loss: 5.0310 - accuracy: 0.1578 - val_loss: 2.1849 - val_accuracy: 0.1691\n",
            "Epoch 124/500\n",
            "104/104 [==============================] - 1s 5ms/step - loss: 5.0227 - accuracy: 0.1681 - val_loss: 2.1842 - val_accuracy: 0.1691\n",
            "Epoch 125/500\n",
            "104/104 [==============================] - 0s 5ms/step - loss: 5.0408 - accuracy: 0.1886 - val_loss: 2.1841 - val_accuracy: 0.1691\n",
            "Epoch 126/500\n",
            "104/104 [==============================] - 1s 5ms/step - loss: 5.3793 - accuracy: 0.1771 - val_loss: 2.1841 - val_accuracy: 0.1691\n",
            "Epoch 127/500\n",
            "104/104 [==============================] - 0s 5ms/step - loss: 5.0511 - accuracy: 0.1832 - val_loss: 2.1844 - val_accuracy: 0.1691\n",
            "Epoch 128/500\n",
            "104/104 [==============================] - 0s 4ms/step - loss: 5.1026 - accuracy: 0.1735 - val_loss: 2.1849 - val_accuracy: 0.1691\n",
            "Epoch 129/500\n",
            "104/104 [==============================] - 0s 5ms/step - loss: 5.1831 - accuracy: 0.1765 - val_loss: 2.1851 - val_accuracy: 0.1691\n",
            "Epoch 130/500\n",
            "104/104 [==============================] - 0s 5ms/step - loss: 4.9456 - accuracy: 0.1856 - val_loss: 2.1836 - val_accuracy: 0.1691\n",
            "Epoch 131/500\n",
            "104/104 [==============================] - 0s 5ms/step - loss: 4.8970 - accuracy: 0.1778 - val_loss: 2.1841 - val_accuracy: 0.1691\n",
            "Epoch 132/500\n",
            "104/104 [==============================] - 1s 5ms/step - loss: 5.1081 - accuracy: 0.1778 - val_loss: 2.1831 - val_accuracy: 0.1691\n",
            "Epoch 133/500\n",
            "104/104 [==============================] - 1s 5ms/step - loss: 5.1389 - accuracy: 0.1784 - val_loss: 2.1823 - val_accuracy: 0.1691\n",
            "Epoch 134/500\n",
            "104/104 [==============================] - 1s 5ms/step - loss: 4.9333 - accuracy: 0.1832 - val_loss: 2.1823 - val_accuracy: 0.1691\n",
            "Epoch 135/500\n",
            "104/104 [==============================] - 0s 5ms/step - loss: 5.0414 - accuracy: 0.1904 - val_loss: 2.1823 - val_accuracy: 0.1691\n",
            "Epoch 136/500\n",
            "104/104 [==============================] - 0s 5ms/step - loss: 5.2042 - accuracy: 0.1566 - val_loss: 2.1822 - val_accuracy: 0.1691\n",
            "Epoch 137/500\n",
            "104/104 [==============================] - 1s 7ms/step - loss: 5.2320 - accuracy: 0.1542 - val_loss: 2.1811 - val_accuracy: 0.1691\n",
            "Epoch 138/500\n",
            "104/104 [==============================] - 1s 8ms/step - loss: 4.9537 - accuracy: 0.1814 - val_loss: 2.1806 - val_accuracy: 0.1691\n",
            "Epoch 139/500\n",
            "104/104 [==============================] - 0s 5ms/step - loss: 5.0194 - accuracy: 0.1808 - val_loss: 2.1795 - val_accuracy: 0.1691\n",
            "Epoch 140/500\n",
            "104/104 [==============================] - 0s 5ms/step - loss: 4.9297 - accuracy: 0.1929 - val_loss: 2.1790 - val_accuracy: 0.1691\n",
            "Epoch 141/500\n",
            "104/104 [==============================] - 0s 4ms/step - loss: 5.0825 - accuracy: 0.1705 - val_loss: 2.1778 - val_accuracy: 0.1691\n",
            "Epoch 142/500\n",
            "104/104 [==============================] - 0s 5ms/step - loss: 4.9975 - accuracy: 0.1862 - val_loss: 2.1779 - val_accuracy: 0.1691\n",
            "Epoch 143/500\n",
            "104/104 [==============================] - 0s 5ms/step - loss: 5.0907 - accuracy: 0.1856 - val_loss: 2.1776 - val_accuracy: 0.1691\n",
            "Epoch 144/500\n",
            "104/104 [==============================] - 1s 5ms/step - loss: 5.0609 - accuracy: 0.1959 - val_loss: 2.1767 - val_accuracy: 0.1691\n",
            "Epoch 145/500\n",
            "104/104 [==============================] - 0s 5ms/step - loss: 4.8662 - accuracy: 0.1898 - val_loss: 2.1760 - val_accuracy: 0.1691\n",
            "Epoch 146/500\n",
            "104/104 [==============================] - 0s 5ms/step - loss: 4.9853 - accuracy: 0.1808 - val_loss: 2.1759 - val_accuracy: 0.1691\n",
            "Epoch 147/500\n",
            "104/104 [==============================] - 0s 4ms/step - loss: 4.9667 - accuracy: 0.1693 - val_loss: 2.1763 - val_accuracy: 0.1691\n",
            "Epoch 148/500\n",
            "104/104 [==============================] - 0s 5ms/step - loss: 5.1366 - accuracy: 0.1693 - val_loss: 2.1759 - val_accuracy: 0.1691\n",
            "Epoch 149/500\n",
            "104/104 [==============================] - 0s 5ms/step - loss: 4.9823 - accuracy: 0.1826 - val_loss: 2.1745 - val_accuracy: 0.1691\n",
            "Epoch 150/500\n",
            "104/104 [==============================] - 0s 5ms/step - loss: 4.9427 - accuracy: 0.1911 - val_loss: 2.1739 - val_accuracy: 0.1691\n",
            "Epoch 151/500\n",
            "104/104 [==============================] - 0s 5ms/step - loss: 5.0684 - accuracy: 0.1711 - val_loss: 2.1743 - val_accuracy: 0.1691\n",
            "Epoch 152/500\n",
            "104/104 [==============================] - 1s 5ms/step - loss: 4.9859 - accuracy: 0.1778 - val_loss: 2.1749 - val_accuracy: 0.1691\n",
            "Epoch 153/500\n",
            "104/104 [==============================] - 0s 5ms/step - loss: 5.0772 - accuracy: 0.1705 - val_loss: 2.1742 - val_accuracy: 0.1691\n",
            "Epoch 154/500\n",
            "104/104 [==============================] - 0s 5ms/step - loss: 5.1769 - accuracy: 0.1892 - val_loss: 2.1743 - val_accuracy: 0.1691\n",
            "Epoch 155/500\n",
            "104/104 [==============================] - 0s 5ms/step - loss: 4.9636 - accuracy: 0.1814 - val_loss: 2.1742 - val_accuracy: 0.1691\n",
            "Epoch 156/500\n",
            "104/104 [==============================] - 0s 4ms/step - loss: 5.1198 - accuracy: 0.1632 - val_loss: 2.1735 - val_accuracy: 0.1691\n",
            "Epoch 157/500\n",
            "104/104 [==============================] - 1s 5ms/step - loss: 5.1190 - accuracy: 0.1856 - val_loss: 2.1744 - val_accuracy: 0.1691\n",
            "Epoch 158/500\n",
            "104/104 [==============================] - 1s 5ms/step - loss: 5.1131 - accuracy: 0.1778 - val_loss: 2.1746 - val_accuracy: 0.1691\n",
            "Epoch 159/500\n",
            "104/104 [==============================] - 0s 5ms/step - loss: 5.2131 - accuracy: 0.1850 - val_loss: 2.1743 - val_accuracy: 0.1691\n",
            "Epoch 160/500\n",
            "104/104 [==============================] - 1s 5ms/step - loss: 5.0841 - accuracy: 0.1814 - val_loss: 2.1741 - val_accuracy: 0.1691\n",
            "Epoch 161/500\n",
            "104/104 [==============================] - 0s 5ms/step - loss: 4.8374 - accuracy: 0.1904 - val_loss: 2.1737 - val_accuracy: 0.1691\n",
            "Epoch 162/500\n",
            "104/104 [==============================] - 0s 5ms/step - loss: 5.1913 - accuracy: 0.1808 - val_loss: 2.1723 - val_accuracy: 0.1691\n",
            "Epoch 163/500\n",
            "104/104 [==============================] - 0s 5ms/step - loss: 5.2061 - accuracy: 0.1717 - val_loss: 2.1725 - val_accuracy: 0.1691\n",
            "Epoch 164/500\n",
            "104/104 [==============================] - 0s 5ms/step - loss: 4.8605 - accuracy: 0.2007 - val_loss: 2.1727 - val_accuracy: 0.1691\n",
            "Epoch 165/500\n",
            "104/104 [==============================] - 0s 5ms/step - loss: 5.2177 - accuracy: 0.1524 - val_loss: 2.1717 - val_accuracy: 0.1691\n",
            "Epoch 166/500\n",
            "104/104 [==============================] - 1s 5ms/step - loss: 5.0188 - accuracy: 0.1844 - val_loss: 2.1727 - val_accuracy: 0.1691\n",
            "Epoch 167/500\n",
            "104/104 [==============================] - 0s 5ms/step - loss: 5.0113 - accuracy: 0.1850 - val_loss: 2.1729 - val_accuracy: 0.1691\n",
            "Epoch 168/500\n",
            "104/104 [==============================] - 0s 5ms/step - loss: 5.2067 - accuracy: 0.1856 - val_loss: 2.1720 - val_accuracy: 0.1691\n",
            "Epoch 169/500\n",
            "104/104 [==============================] - 1s 5ms/step - loss: 5.0297 - accuracy: 0.1941 - val_loss: 2.1719 - val_accuracy: 0.1691\n",
            "Epoch 170/500\n",
            "104/104 [==============================] - 0s 5ms/step - loss: 5.0552 - accuracy: 0.1898 - val_loss: 2.1723 - val_accuracy: 0.1691\n",
            "Epoch 171/500\n",
            "104/104 [==============================] - 1s 5ms/step - loss: 5.0717 - accuracy: 0.1898 - val_loss: 2.1710 - val_accuracy: 0.1691\n",
            "Epoch 172/500\n",
            "104/104 [==============================] - 0s 5ms/step - loss: 5.1705 - accuracy: 0.1681 - val_loss: 2.1707 - val_accuracy: 0.1691\n",
            "Epoch 173/500\n",
            "104/104 [==============================] - 0s 5ms/step - loss: 5.2102 - accuracy: 0.1741 - val_loss: 2.1699 - val_accuracy: 0.1691\n",
            "Epoch 174/500\n",
            "104/104 [==============================] - 0s 5ms/step - loss: 4.9902 - accuracy: 0.1717 - val_loss: 2.1698 - val_accuracy: 0.1691\n",
            "Epoch 175/500\n",
            "104/104 [==============================] - 1s 5ms/step - loss: 4.9367 - accuracy: 0.1917 - val_loss: 2.1700 - val_accuracy: 0.1691\n",
            "Epoch 176/500\n",
            "104/104 [==============================] - 1s 5ms/step - loss: 5.1182 - accuracy: 0.1965 - val_loss: 2.1696 - val_accuracy: 0.1691\n",
            "Epoch 177/500\n",
            "104/104 [==============================] - 1s 5ms/step - loss: 5.0866 - accuracy: 0.1874 - val_loss: 2.1693 - val_accuracy: 0.1691\n",
            "Epoch 178/500\n",
            "104/104 [==============================] - 0s 5ms/step - loss: 4.9475 - accuracy: 0.1753 - val_loss: 2.1688 - val_accuracy: 0.1691\n",
            "Epoch 179/500\n",
            "104/104 [==============================] - 1s 5ms/step - loss: 5.1578 - accuracy: 0.1784 - val_loss: 2.1685 - val_accuracy: 0.1691\n",
            "Epoch 180/500\n",
            "104/104 [==============================] - 1s 5ms/step - loss: 4.9208 - accuracy: 0.1904 - val_loss: 2.1688 - val_accuracy: 0.1691\n",
            "Epoch 181/500\n",
            "104/104 [==============================] - 0s 5ms/step - loss: 5.1602 - accuracy: 0.1826 - val_loss: 2.1688 - val_accuracy: 0.1691\n",
            "Epoch 182/500\n",
            "104/104 [==============================] - 1s 5ms/step - loss: 5.0046 - accuracy: 0.1838 - val_loss: 2.1690 - val_accuracy: 0.1691\n",
            "Epoch 183/500\n",
            "104/104 [==============================] - 0s 5ms/step - loss: 5.1356 - accuracy: 0.1741 - val_loss: 2.1697 - val_accuracy: 0.1691\n",
            "Epoch 184/500\n",
            "104/104 [==============================] - 0s 5ms/step - loss: 4.9348 - accuracy: 0.1729 - val_loss: 2.1698 - val_accuracy: 0.1691\n",
            "Epoch 185/500\n",
            "104/104 [==============================] - 1s 5ms/step - loss: 4.8607 - accuracy: 0.1935 - val_loss: 2.1703 - val_accuracy: 0.1691\n",
            "Epoch 186/500\n",
            "104/104 [==============================] - 0s 5ms/step - loss: 4.9612 - accuracy: 0.1693 - val_loss: 2.1713 - val_accuracy: 0.1691\n",
            "Epoch 187/500\n",
            "104/104 [==============================] - 0s 5ms/step - loss: 5.2227 - accuracy: 0.1644 - val_loss: 2.1709 - val_accuracy: 0.1691\n",
            "Epoch 188/500\n",
            "104/104 [==============================] - 0s 5ms/step - loss: 4.9310 - accuracy: 0.1953 - val_loss: 2.1700 - val_accuracy: 0.1691\n",
            "Epoch 189/500\n",
            "104/104 [==============================] - 0s 5ms/step - loss: 5.0439 - accuracy: 0.1892 - val_loss: 2.1709 - val_accuracy: 0.1691\n",
            "Epoch 190/500\n",
            "104/104 [==============================] - 1s 5ms/step - loss: 4.9968 - accuracy: 0.1880 - val_loss: 2.1712 - val_accuracy: 0.1691\n",
            "Epoch 191/500\n",
            "104/104 [==============================] - 1s 5ms/step - loss: 4.8880 - accuracy: 0.1820 - val_loss: 2.1713 - val_accuracy: 0.1691\n",
            "Epoch 192/500\n",
            "104/104 [==============================] - 0s 5ms/step - loss: 5.1338 - accuracy: 0.1669 - val_loss: 2.1713 - val_accuracy: 0.1691\n",
            "Epoch 193/500\n",
            "104/104 [==============================] - 1s 5ms/step - loss: 5.1600 - accuracy: 0.1814 - val_loss: 2.1712 - val_accuracy: 0.1691\n",
            "Epoch 194/500\n",
            "104/104 [==============================] - 1s 5ms/step - loss: 5.0232 - accuracy: 0.1796 - val_loss: 2.1715 - val_accuracy: 0.1691\n",
            "Epoch 195/500\n",
            "104/104 [==============================] - 1s 5ms/step - loss: 5.0363 - accuracy: 0.1699 - val_loss: 2.1717 - val_accuracy: 0.1691\n",
            "Epoch 196/500\n",
            "104/104 [==============================] - 1s 5ms/step - loss: 5.1174 - accuracy: 0.1765 - val_loss: 2.1712 - val_accuracy: 0.1691\n",
            "Epoch 197/500\n",
            "104/104 [==============================] - 0s 5ms/step - loss: 5.0786 - accuracy: 0.1820 - val_loss: 2.1705 - val_accuracy: 0.1691\n",
            "Epoch 198/500\n",
            "104/104 [==============================] - 0s 5ms/step - loss: 5.0396 - accuracy: 0.1687 - val_loss: 2.1707 - val_accuracy: 0.1691\n",
            "Epoch 199/500\n",
            "104/104 [==============================] - 1s 5ms/step - loss: 5.0626 - accuracy: 0.1632 - val_loss: 2.1701 - val_accuracy: 0.1691\n",
            "Epoch 200/500\n",
            "104/104 [==============================] - 0s 5ms/step - loss: 5.0570 - accuracy: 0.1868 - val_loss: 2.1705 - val_accuracy: 0.1691\n",
            "Epoch 201/500\n",
            "104/104 [==============================] - 0s 5ms/step - loss: 5.1755 - accuracy: 0.1536 - val_loss: 2.1700 - val_accuracy: 0.1691\n",
            "Epoch 202/500\n",
            "104/104 [==============================] - 1s 5ms/step - loss: 5.0022 - accuracy: 0.1929 - val_loss: 2.1699 - val_accuracy: 0.1691\n",
            "Epoch 203/500\n",
            "104/104 [==============================] - 1s 5ms/step - loss: 4.9818 - accuracy: 0.1886 - val_loss: 2.1693 - val_accuracy: 0.1691\n",
            "Epoch 204/500\n",
            "104/104 [==============================] - 0s 5ms/step - loss: 5.2216 - accuracy: 0.1765 - val_loss: 2.1690 - val_accuracy: 0.1691\n"
          ]
        }
      ]
    },
    {
      "cell_type": "code",
      "source": [
        "plt.plot(cnnhistory.history['loss'])\n",
        "plt.plot(cnnhistory.history['val_loss'])\n",
        "plt.title('model loss')\n",
        "plt.ylabel('loss')\n",
        "plt.xlabel('epoch')\n",
        "plt.legend(['train','test'], loc='upper left')\n",
        "plt.show()"
      ],
      "metadata": {
        "colab": {
          "base_uri": "https://localhost:8080/",
          "height": 295
        },
        "id": "oQYnuaCrDH_A",
        "outputId": "a8ffeb6b-cb3b-4f24-e6bc-3e80df503d7e"
      },
      "execution_count": 11,
      "outputs": [
        {
          "output_type": "display_data",
          "data": {
            "text/plain": [
              "<Figure size 432x288 with 1 Axes>"
            ],
            "image/png": "[encoded data removed]"
          },
          "metadata": {
            "needs_background": "light"
          }
        }
      ]
    },
    {
      "cell_type": "code",
      "source": [
        "plt.plot(cnnhistory.history['accuracy'])\n",
        "plt.plot(cnnhistory.history['val_accuracy'])\n",
        "plt.title('model accuracy')\n",
        "plt.ylabel('accuracy')\n",
        "plt.xlabel('epoch')\n",
        "plt.legend(['train','test'], loc='upper left')\n",
        "plt.show()"
      ],
      "metadata": {
        "colab": {
          "base_uri": "https://localhost:8080/",
          "height": 295
        },
        "id": "IFkTuO8nDNdq",
        "outputId": "8d6031a4-da5e-46b3-bd66-63fecdd1bacc"
      },
      "execution_count": 12,
      "outputs": [
        {
          "output_type": "display_data",
          "data": {
            "text/plain": [
              "<Figure size 432x288 with 1 Axes>"
            ],
            "image/png": "[encoded data removed]"
          },
          "metadata": {
            "needs_background": "light"
          }
        }
      ]
    },
    {
      "cell_type": "code",
      "source": [
        "predictions = model.predict(x_testcnn)"
      ],
      "metadata": {
        "id": "A2xtrN5wDQgY"
      },
      "execution_count": 13,
      "outputs": []
    },
    {
      "cell_type": "code",
      "source": [
        "predictions"
      ],
      "metadata": {
        "colab": {
          "base_uri": "https://localhost:8080/"
        },
        "id": "_f_ohjXKDUpY",
        "outputId": "32ef7c11-8251-41fd-d494-46b23ce4f338"
      },
      "execution_count": 14,
      "outputs": [
        {
          "output_type": "execute_result",
          "data": {
            "text/plain": [
              "array([[0.06954359, 0.07634296, 0.17782529, 0.18651912, 0.03372467,\n",
              "        0.45604438],\n",
              "       [0.03140253, 0.07304234, 0.20056845, 0.21058376, 0.04085039,\n",
              "        0.44355255],\n",
              "       [0.03815541, 0.05843344, 0.11829064, 0.23772222, 0.03076804,\n",
              "        0.51663023],\n",
              "       ...,\n",
              "       [0.01515521, 0.06562375, 0.07309406, 0.39641765, 0.04635653,\n",
              "        0.40335277],\n",
              "       [0.00984737, 0.06186808, 0.06413473, 0.32578173, 0.04117994,\n",
              "        0.49718815],\n",
              "       [0.03381158, 0.10697243, 0.14440043, 0.2724812 , 0.06910712,\n",
              "        0.37322727]], dtype=float32)"
            ]
          },
          "metadata": {},
          "execution_count": 14
        }
      ]
    },
    {
      "cell_type": "code",
      "source": [
        "y_test"
      ],
      "metadata": {
        "colab": {
          "base_uri": "https://localhost:8080/"
        },
        "id": "cmA2bFgsDW3D",
        "outputId": "6762e97d-7183-4112-95de-28418fa35d04"
      },
      "execution_count": 15,
      "outputs": [
        {
          "output_type": "execute_result",
          "data": {
            "text/plain": [
              "array([3, 3, 3, 0, 4, 4, 1, 2, 5, 0, 5, 3, 2, 2, 1, 4, 4, 5, 2, 4, 1, 2,\n",
              "       3, 5, 4, 2, 1, 2, 2, 2, 2, 5, 2, 5, 3, 1, 2, 0, 4, 5, 2, 3, 2, 2,\n",
              "       5, 2, 0, 1, 3, 4, 4, 5, 1, 1, 4, 4, 5, 1, 1, 1, 0, 1, 5, 0, 4, 1,\n",
              "       1, 0, 1, 4, 1, 0, 4, 1, 3, 1, 2, 2, 1, 2, 3, 0, 5, 3, 5, 5, 2, 4,\n",
              "       5, 1, 5, 1, 5, 3, 4, 1, 4, 1, 5, 4, 5, 1, 2, 1, 1, 5, 1, 3, 2, 5,\n",
              "       2, 1, 3, 5, 4, 4, 0, 0, 3, 1, 2, 2, 3, 5, 1, 5, 3, 4, 2, 2, 0, 2,\n",
              "       2, 5, 5, 0, 3, 3, 2, 2, 0, 3, 4, 0, 4, 2, 4, 5, 4, 1, 5, 3, 2, 2,\n",
              "       5, 4, 3, 3, 4, 3, 3, 4, 1, 5, 2, 3, 2, 2, 0, 2, 1, 3, 1, 2, 2, 5,\n",
              "       5, 1, 4, 2, 2, 1, 1, 3, 3, 5, 5, 2, 5, 1, 5, 0, 3, 3, 0, 5, 1, 4,\n",
              "       1, 4, 2, 5, 5, 1, 4, 2, 4])"
            ]
          },
          "metadata": {},
          "execution_count": 15
        }
      ]
    },
    {
      "cell_type": "code",
      "source": [
        "new_Ytest = y_test.astype(int)"
      ],
      "metadata": {
        "id": "0PHDKWJWDY3g"
      },
      "execution_count": 16,
      "outputs": []
    },
    {
      "cell_type": "code",
      "source": [
        "new_Ytest"
      ],
      "metadata": {
        "colab": {
          "base_uri": "https://localhost:8080/"
        },
        "id": "k68v2i-pDbZE",
        "outputId": "5a51710a-ea16-4caf-cbe6-5eacad6b4ba8"
      },
      "execution_count": 17,
      "outputs": [
        {
          "output_type": "execute_result",
          "data": {
            "text/plain": [
              "array([3, 3, 3, 0, 4, 4, 1, 2, 5, 0, 5, 3, 2, 2, 1, 4, 4, 5, 2, 4, 1, 2,\n",
              "       3, 5, 4, 2, 1, 2, 2, 2, 2, 5, 2, 5, 3, 1, 2, 0, 4, 5, 2, 3, 2, 2,\n",
              "       5, 2, 0, 1, 3, 4, 4, 5, 1, 1, 4, 4, 5, 1, 1, 1, 0, 1, 5, 0, 4, 1,\n",
              "       1, 0, 1, 4, 1, 0, 4, 1, 3, 1, 2, 2, 1, 2, 3, 0, 5, 3, 5, 5, 2, 4,\n",
              "       5, 1, 5, 1, 5, 3, 4, 1, 4, 1, 5, 4, 5, 1, 2, 1, 1, 5, 1, 3, 2, 5,\n",
              "       2, 1, 3, 5, 4, 4, 0, 0, 3, 1, 2, 2, 3, 5, 1, 5, 3, 4, 2, 2, 0, 2,\n",
              "       2, 5, 5, 0, 3, 3, 2, 2, 0, 3, 4, 0, 4, 2, 4, 5, 4, 1, 5, 3, 2, 2,\n",
              "       5, 4, 3, 3, 4, 3, 3, 4, 1, 5, 2, 3, 2, 2, 0, 2, 1, 3, 1, 2, 2, 5,\n",
              "       5, 1, 4, 2, 2, 1, 1, 3, 3, 5, 5, 2, 5, 1, 5, 0, 3, 3, 0, 5, 1, 4,\n",
              "       1, 4, 2, 5, 5, 1, 4, 2, 4])"
            ]
          },
          "metadata": {},
          "execution_count": 17
        }
      ]
    },
    {
      "cell_type": "code",
      "source": [
        "preds1=predictions.argmax(axis=1)\n",
        "preds1"
      ],
      "metadata": {
        "colab": {
          "base_uri": "https://localhost:8080/"
        },
        "id": "4_cAI39VFhtp",
        "outputId": "bb224ef4-dd46-4141-802d-3419ca381710"
      },
      "execution_count": 18,
      "outputs": [
        {
          "output_type": "execute_result",
          "data": {
            "text/plain": [
              "array([5, 5, 5, 5, 5, 3, 5, 5, 5, 5, 5, 5, 5, 5, 5, 5, 5, 5, 5, 5, 5, 5,\n",
              "       5, 5, 5, 5, 5, 5, 5, 5, 5, 5, 5, 5, 5, 5, 5, 5, 5, 5, 5, 5, 5, 5,\n",
              "       5, 5, 5, 5, 5, 5, 5, 5, 5, 5, 5, 5, 5, 5, 5, 5, 5, 5, 5, 5, 5, 5,\n",
              "       5, 5, 5, 5, 5, 5, 5, 5, 5, 5, 5, 5, 5, 5, 5, 5, 5, 5, 5, 5, 5, 5,\n",
              "       5, 5, 5, 5, 5, 5, 5, 5, 5, 5, 5, 3, 5, 3, 5, 5, 5, 5, 5, 5, 3, 5,\n",
              "       5, 5, 5, 5, 5, 5, 5, 5, 5, 5, 5, 5, 5, 5, 5, 5, 5, 5, 5, 5, 5, 5,\n",
              "       5, 5, 5, 5, 5, 5, 5, 5, 5, 5, 5, 5, 3, 5, 5, 5, 5, 5, 5, 5, 5, 5,\n",
              "       5, 5, 5, 5, 5, 5, 5, 5, 5, 5, 5, 5, 5, 5, 5, 5, 5, 5, 5, 5, 5, 5,\n",
              "       5, 5, 3, 3, 5, 5, 5, 5, 5, 5, 5, 5, 5, 5, 5, 5, 5, 5, 5, 5, 5, 5,\n",
              "       5, 5, 5, 5, 5, 5, 5, 5, 5])"
            ]
          },
          "metadata": {},
          "execution_count": 18
        }
      ]
    },
    {
      "cell_type": "code",
      "source": [
        "abc = preds1.astype(int).flatten()"
      ],
      "metadata": {
        "id": "H4WEmM60NfQn"
      },
      "execution_count": 19,
      "outputs": []
    },
    {
      "cell_type": "code",
      "source": [
        "from sklearn.metrics import confusion_matrix\n",
        "c = confusion_matrix(new_Ytest, abc) \n",
        "c"
      ],
      "metadata": {
        "colab": {
          "base_uri": "https://localhost:8080/"
        },
        "id": "bKEBeEBlFjB8",
        "outputId": "15b58592-f149-439d-f52a-8675ede010c8"
      },
      "execution_count": 20,
      "outputs": [
        {
          "output_type": "execute_result",
          "data": {
            "text/plain": [
              "array([[ 0,  0,  0,  0,  0, 18],\n",
              "       [ 0,  0,  0,  1,  0, 40],\n",
              "       [ 0,  0,  0,  2,  0, 43],\n",
              "       [ 0,  0,  0,  0,  0, 31],\n",
              "       [ 0,  0,  0,  4,  0, 29],\n",
              "       [ 0,  0,  0,  0,  0, 39]])"
            ]
          },
          "metadata": {},
          "execution_count": 20
        }
      ]
    },
    {
      "cell_type": "code",
      "source": [
        "y_test"
      ],
      "metadata": {
        "colab": {
          "base_uri": "https://localhost:8080/"
        },
        "id": "m4RjG7LWLSQx",
        "outputId": "decdfe7c-463c-45cd-a2f5-1507b61cba37"
      },
      "execution_count": 21,
      "outputs": [
        {
          "output_type": "execute_result",
          "data": {
            "text/plain": [
              "array([3, 3, 3, 0, 4, 4, 1, 2, 5, 0, 5, 3, 2, 2, 1, 4, 4, 5, 2, 4, 1, 2,\n",
              "       3, 5, 4, 2, 1, 2, 2, 2, 2, 5, 2, 5, 3, 1, 2, 0, 4, 5, 2, 3, 2, 2,\n",
              "       5, 2, 0, 1, 3, 4, 4, 5, 1, 1, 4, 4, 5, 1, 1, 1, 0, 1, 5, 0, 4, 1,\n",
              "       1, 0, 1, 4, 1, 0, 4, 1, 3, 1, 2, 2, 1, 2, 3, 0, 5, 3, 5, 5, 2, 4,\n",
              "       5, 1, 5, 1, 5, 3, 4, 1, 4, 1, 5, 4, 5, 1, 2, 1, 1, 5, 1, 3, 2, 5,\n",
              "       2, 1, 3, 5, 4, 4, 0, 0, 3, 1, 2, 2, 3, 5, 1, 5, 3, 4, 2, 2, 0, 2,\n",
              "       2, 5, 5, 0, 3, 3, 2, 2, 0, 3, 4, 0, 4, 2, 4, 5, 4, 1, 5, 3, 2, 2,\n",
              "       5, 4, 3, 3, 4, 3, 3, 4, 1, 5, 2, 3, 2, 2, 0, 2, 1, 3, 1, 2, 2, 5,\n",
              "       5, 1, 4, 2, 2, 1, 1, 3, 3, 5, 5, 2, 5, 1, 5, 0, 3, 3, 0, 5, 1, 4,\n",
              "       1, 4, 2, 5, 5, 1, 4, 2, 4])"
            ]
          },
          "metadata": {},
          "execution_count": 21
        }
      ]
    },
    {
      "cell_type": "code",
      "source": [
        "model.save('/content/drive/My Drive/graduation project/audio/paper_code/mariam/original_500 epoch_with_valid_Adam2_3')\n",
        "print(\"MODEL SAVED\")"
      ],
      "metadata": {
        "colab": {
          "base_uri": "https://localhost:8080/"
        },
        "id": "lsJBNeMWDl6Z",
        "outputId": "ed96267e-046d-45db-d259-833819b1e6f2"
      },
      "execution_count": null,
      "outputs": [
        {
          "output_type": "stream",
          "name": "stdout",
          "text": [
            "INFO:tensorflow:Assets written to: /content/drive/My Drive/graduation project/audio/paper_code/mariam/original_500 epoch_with_valid_Adam2_3/assets\n",
            "MODEL SAVED\n"
          ]
        }
      ]
    },
    {
      "cell_type": "code",
      "source": [
        "new_model=keras.models.load_model('/content/drive/My Drive/graduation project/audio/paper_code/mariam/original_500 epoch_with_valid_Adam2_3')\n",
        "new_model.summary()"
      ],
      "metadata": {
        "colab": {
          "base_uri": "https://localhost:8080/"
        },
        "id": "Q3KjaO9GDoNl",
        "outputId": "b509c41b-32e6-434b-f23d-4c04a29eb7c5"
      },
      "execution_count": null,
      "outputs": [
        {
          "output_type": "stream",
          "name": "stdout",
          "text": [
            "Model: \"sequential\"\n",
            "_________________________________________________________________\n",
            " Layer (type)                Output Shape              Param #   \n",
            "=================================================================\n",
            " conv1d (Conv1D)             (None, 40, 128)           1152      \n",
            "                                                                 \n",
            " activation (Activation)     (None, 40, 128)           0         \n",
            "                                                                 \n",
            " dropout (Dropout)           (None, 40, 128)           0         \n",
            "                                                                 \n",
            " max_pooling1d (MaxPooling1D  (None, 8, 128)           0         \n",
            " )                                                               \n",
            "                                                                 \n",
            " conv1d_1 (Conv1D)           (None, 8, 256)            262400    \n",
            "                                                                 \n",
            " activation_1 (Activation)   (None, 8, 256)            0         \n",
            "                                                                 \n",
            " dropout_1 (Dropout)         (None, 8, 256)            0         \n",
            "                                                                 \n",
            " max_pooling1d_1 (MaxPooling  (None, 1, 256)           0         \n",
            " 1D)                                                             \n",
            "                                                                 \n",
            " flatten (Flatten)           (None, 256)               0         \n",
            "                                                                 \n",
            " dense (Dense)               (None, 256)               65792     \n",
            "                                                                 \n",
            " activation_2 (Activation)   (None, 256)               0         \n",
            "                                                                 \n",
            " dense_1 (Dense)             (None, 256)               65792     \n",
            "                                                                 \n",
            " activation_3 (Activation)   (None, 256)               0         \n",
            "                                                                 \n",
            " dense_2 (Dense)             (None, 6)                 1542      \n",
            "                                                                 \n",
            " activation_4 (Activation)   (None, 6)                 0         \n",
            "                                                                 \n",
            "=================================================================\n",
            "Total params: 396,678\n",
            "Trainable params: 396,678\n",
            "Non-trainable params: 0\n",
            "_________________________________________________________________\n"
          ]
        }
      ]
    },
    {
      "cell_type": "code",
      "source": [
        "loss, acc =model.evaluate(x_testcnn, y_test)\n",
        "print(\"Restored model, accuracy: {:5.2f}%\".format(100*acc))"
      ],
      "metadata": {
        "colab": {
          "base_uri": "https://localhost:8080/"
        },
        "id": "n3kzoqPkDqqS",
        "outputId": "2234bfaa-aa6e-47b2-ac3e-3ea48530c3a0"
      },
      "execution_count": 22,
      "outputs": [
        {
          "output_type": "stream",
          "name": "stdout",
          "text": [
            "7/7 [==============================] - 0s 3ms/step - loss: 2.1621 - accuracy: 0.1884\n",
            "Restored model, accuracy: 18.84%\n"
          ]
        }
      ]
    },
    {
      "cell_type": "code",
      "source": [
        "loss, acc =model.evaluate(X_train, y_train)\n",
        "print(\"Restored model train, accuracy: {:5.2f}%\".format(100*acc))"
      ],
      "metadata": {
        "id": "fJDTGH_OUX0z",
        "colab": {
          "base_uri": "https://localhost:8080/"
        },
        "outputId": "6ecd8b03-b47c-4b9e-eabe-f450ff8b5b5f"
      },
      "execution_count": 23,
      "outputs": [
        {
          "output_type": "stream",
          "name": "stdout",
          "text": [
            "52/52 [==============================] - 0s 4ms/step - loss: 2.1938 - accuracy: 0.1784\n",
            "Restored model train, accuracy: 17.84%\n"
          ]
        }
      ]
    },
    {
      "cell_type": "code",
      "source": [
        "from sklearn.metrics import classification_report, confusion_matrix,accuracy_score\n",
        "import seaborn as sn\n",
        "\n",
        "print(classification_report(new_Ytest,abc))\n",
        "\n",
        "acc = float(accuracy_score(new_Ytest,abc))*100\n",
        "print(\"----accuracy score %s ----\" % acc)\n",
        "\n",
        "cm = confusion_matrix(new_Ytest,abc)\n",
        "#df_cm = pd.DataFrame(cm)\n",
        "class_names = ['neutral','calm', 'happy','sad','angry', 'fearful' ]\n",
        "df_cm = pd.DataFrame(cm, index=class_names, columns=class_names,)\n",
        "sn.heatmap(df_cm, annot=True, fmt='')\n",
        "plt.show()"
      ],
      "metadata": {
        "colab": {
          "base_uri": "https://localhost:8080/",
          "height": 716
        },
        "id": "SfSC3El94LZg",
        "outputId": "7ee8725e-a4d1-4b18-f9e4-5edea676a859"
      },
      "execution_count": 24,
      "outputs": [
        {
          "output_type": "stream",
          "name": "stderr",
          "text": [
            "/usr/local/lib/python3.7/dist-packages/sklearn/metrics/_classification.py:1318: UndefinedMetricWarning:\n",
            "\n",
            "Precision and F-score are ill-defined and being set to 0.0 in labels with no predicted samples. Use `zero_division` parameter to control this behavior.\n",
            "\n",
            "/usr/local/lib/python3.7/dist-packages/sklearn/metrics/_classification.py:1318: UndefinedMetricWarning:\n",
            "\n",
            "Precision and F-score are ill-defined and being set to 0.0 in labels with no predicted samples. Use `zero_division` parameter to control this behavior.\n",
            "\n",
            "/usr/local/lib/python3.7/dist-packages/sklearn/metrics/_classification.py:1318: UndefinedMetricWarning:\n",
            "\n",
            "Precision and F-score are ill-defined and being set to 0.0 in labels with no predicted samples. Use `zero_division` parameter to control this behavior.\n",
            "\n"
          ]
        },
        {
          "output_type": "stream",
          "name": "stdout",
          "text": [
            "              precision    recall  f1-score   support\n",
            "\n",
            "           0       0.00      0.00      0.00        18\n",
            "           1       0.00      0.00      0.00        41\n",
            "           2       0.00      0.00      0.00        45\n",
            "           3       0.00      0.00      0.00        31\n",
            "           4       0.00      0.00      0.00        33\n",
            "           5       0.20      1.00      0.33        39\n",
            "\n",
            "    accuracy                           0.19       207\n",
            "   macro avg       0.03      0.17      0.05       207\n",
            "weighted avg       0.04      0.19      0.06       207\n",
            "\n",
            "----accuracy score 18.84057971014493 ----\n"
          ]
        },
        {
          "output_type": "display_data",
          "data": {
            "text/plain": [
              "<Figure size 432x288 with 2 Axes>"
            ],
            "image/png": "[encoded data removed]"
          },
          "metadata": {
            "needs_background": "light"
          }
        }
      ]
    },
    {
      "cell_type": "code",
      "source": [
        ""
      ],
      "metadata": {
        "id": "LGpgwFQqkpyU"
      },
      "execution_count": null,
      "outputs": []
    }
  ]
}