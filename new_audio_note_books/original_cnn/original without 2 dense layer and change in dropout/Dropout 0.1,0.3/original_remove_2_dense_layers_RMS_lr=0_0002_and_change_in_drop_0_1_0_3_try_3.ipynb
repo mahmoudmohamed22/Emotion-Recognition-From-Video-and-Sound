{
  "nbformat": 4,
  "nbformat_minor": 0,
  "metadata": {
    "colab": {
      "name": "original remove 2 dense layers RMS lr=0.0002 and change in drop 0.1 0.3 try 3.ipynb",
      "provenance": [],
      "collapsed_sections": []
    },
    "kernelspec": {
      "name": "python3",
      "display_name": "Python 3"
    },
    "language_info": {
      "name": "python"
    },
    "accelerator": "GPU"
  },
  "cells": [
    {
      "cell_type": "code",
      "execution_count": 1,
      "metadata": {
        "colab": {
          "base_uri": "https://localhost:8080/"
        },
        "id": "9SRCO-a_AlH5",
        "outputId": "bfec34c4-70e6-46ca-b892-f4897b2e95e6"
      },
      "outputs": [
        {
          "output_type": "stream",
          "name": "stdout",
          "text": [
            "Drive already mounted at /content/drive; to attempt to forcibly remount, call drive.mount(\"/content/drive\", force_remount=True).\n"
          ]
        }
      ],
      "source": [
        "from google.colab import drive\n",
        "drive.mount('/content/drive')"
      ]
    },
    {
      "cell_type": "code",
      "source": [
        "!pip install librosa"
      ],
      "metadata": {
        "colab": {
          "base_uri": "https://localhost:8080/"
        },
        "id": "5Lo4mUwG9RMd",
        "outputId": "12ee6931-e480-4f97-9575-4e44077bd54a"
      },
      "execution_count": 2,
      "outputs": [
        {
          "output_type": "stream",
          "name": "stdout",
          "text": [
            "Looking in indexes: https://pypi.org/simple, https://us-python.pkg.dev/colab-wheels/public/simple/\n",
            "Requirement already satisfied: librosa in /usr/local/lib/python3.7/dist-packages (0.8.1)\n",
            "Requirement already satisfied: pooch>=1.0 in /usr/local/lib/python3.7/dist-packages (from librosa) (1.6.0)\n",
            "Requirement already satisfied: scikit-learn!=0.19.0,>=0.14.0 in /usr/local/lib/python3.7/dist-packages (from librosa) (1.0.2)\n",
            "Requirement already satisfied: audioread>=2.0.0 in /usr/local/lib/python3.7/dist-packages (from librosa) (2.1.9)\n",
            "Requirement already satisfied: packaging>=20.0 in /usr/local/lib/python3.7/dist-packages (from librosa) (21.3)\n",
            "Requirement already satisfied: numba>=0.43.0 in /usr/local/lib/python3.7/dist-packages (from librosa) (0.51.2)\n",
            "Requirement already satisfied: soundfile>=0.10.2 in /usr/local/lib/python3.7/dist-packages (from librosa) (0.10.3.post1)\n",
            "Requirement already satisfied: scipy>=1.0.0 in /usr/local/lib/python3.7/dist-packages (from librosa) (1.4.1)\n",
            "Requirement already satisfied: resampy>=0.2.2 in /usr/local/lib/python3.7/dist-packages (from librosa) (0.2.2)\n",
            "Requirement already satisfied: decorator>=3.0.0 in /usr/local/lib/python3.7/dist-packages (from librosa) (4.4.2)\n",
            "Requirement already satisfied: joblib>=0.14 in /usr/local/lib/python3.7/dist-packages (from librosa) (1.1.0)\n",
            "Requirement already satisfied: numpy>=1.15.0 in /usr/local/lib/python3.7/dist-packages (from librosa) (1.21.6)\n",
            "Requirement already satisfied: setuptools in /usr/local/lib/python3.7/dist-packages (from numba>=0.43.0->librosa) (57.4.0)\n",
            "Requirement already satisfied: llvmlite<0.35,>=0.34.0.dev0 in /usr/local/lib/python3.7/dist-packages (from numba>=0.43.0->librosa) (0.34.0)\n",
            "Requirement already satisfied: pyparsing!=3.0.5,>=2.0.2 in /usr/local/lib/python3.7/dist-packages (from packaging>=20.0->librosa) (3.0.9)\n",
            "Requirement already satisfied: requests>=2.19.0 in /usr/local/lib/python3.7/dist-packages (from pooch>=1.0->librosa) (2.23.0)\n",
            "Requirement already satisfied: appdirs>=1.3.0 in /usr/local/lib/python3.7/dist-packages (from pooch>=1.0->librosa) (1.4.4)\n",
            "Requirement already satisfied: idna<3,>=2.5 in /usr/local/lib/python3.7/dist-packages (from requests>=2.19.0->pooch>=1.0->librosa) (2.10)\n",
            "Requirement already satisfied: certifi>=2017.4.17 in /usr/local/lib/python3.7/dist-packages (from requests>=2.19.0->pooch>=1.0->librosa) (2022.5.18.1)\n",
            "Requirement already satisfied: urllib3!=1.25.0,!=1.25.1,<1.26,>=1.21.1 in /usr/local/lib/python3.7/dist-packages (from requests>=2.19.0->pooch>=1.0->librosa) (1.24.3)\n",
            "Requirement already satisfied: chardet<4,>=3.0.2 in /usr/local/lib/python3.7/dist-packages (from requests>=2.19.0->pooch>=1.0->librosa) (3.0.4)\n",
            "Requirement already satisfied: six>=1.3 in /usr/local/lib/python3.7/dist-packages (from resampy>=0.2.2->librosa) (1.15.0)\n",
            "Requirement already satisfied: threadpoolctl>=2.0.0 in /usr/local/lib/python3.7/dist-packages (from scikit-learn!=0.19.0,>=0.14.0->librosa) (3.1.0)\n",
            "Requirement already satisfied: cffi>=1.0 in /usr/local/lib/python3.7/dist-packages (from soundfile>=0.10.2->librosa) (1.15.0)\n",
            "Requirement already satisfied: pycparser in /usr/local/lib/python3.7/dist-packages (from cffi>=1.0->soundfile>=0.10.2->librosa) (2.21)\n"
          ]
        }
      ]
    },
    {
      "cell_type": "code",
      "metadata": {
        "id": "HJjcbxwy46bG",
        "colab": {
          "base_uri": "https://localhost:8080/",
          "height": 17
        },
        "outputId": "3ef5e3c9-3b10-4614-d1a0-1d5f49552640"
      },
      "source": [
        "# Orignial Notebook: https://github.com/MITESHPUTHRANNEU/Speech-Emotion-Analyzer/blob/master/final_results_gender_test.ipynb\n",
        "# This notebook author: Reza Chu\n",
        "# Last Editing Date: 31st May 2019\n",
        "\n",
        "## Python\n",
        "import os\n",
        "import random\n",
        "import sys\n",
        "\n",
        "import IPython\n",
        "from IPython.display import Audio\n",
        "from IPython.display import Image\n",
        "import matplotlib.pyplot as plt\n",
        "\n",
        "## Package\n",
        "import glob \n",
        "import keras\n",
        "import IPython.display as ipd\n",
        "import librosa\n",
        "import librosa.display\n",
        "import matplotlib.pyplot as plt\n",
        "import numpy as np\n",
        "import pandas as pd\n",
        "import plotly.graph_objs as go\n",
        "import plotly.offline as py\n",
        "import plotly.tools as tls\n",
        "import seaborn as sns\n",
        "import scipy.io.wavfile\n",
        "import tensorflow as tf\n",
        "py.init_notebook_mode(connected=True)\n",
        "\n",
        "## Keras\n",
        "from keras import regularizers\n",
        "from keras.callbacks import ModelCheckpoint, LearningRateScheduler, EarlyStopping\n",
        "from keras.callbacks import  History, ReduceLROnPlateau, CSVLogger\n",
        "from keras.models import Model, Sequential\n",
        "from keras.layers import Dense, Embedding, LSTM\n",
        "from keras.layers import Input, Flatten, Dropout, Activation, BatchNormalization\n",
        "from keras.layers import Conv1D, MaxPooling1D, AveragePooling1D\n",
        "from keras.preprocessing import sequence\n",
        "from keras.preprocessing.sequence import pad_sequences\n",
        "from keras.preprocessing.text import Tokenizer\n",
        "from keras.utils import np_utils\n",
        "from tensorflow.keras.utils import to_categorical\n",
        "\n",
        "## Sklearn\n",
        "from sklearn.metrics import confusion_matrix\n",
        "from sklearn.preprocessing import LabelEncoder\n",
        "\n",
        "## Rest\n",
        "from scipy.fftpack import fft\n",
        "from scipy import signal\n",
        "from scipy.io import wavfile\n",
        "from tqdm import tqdm\n",
        "\n",
        "input_duration=3\n",
        "# % pylab inline"
      ],
      "execution_count": 3,
      "outputs": [
        {
          "output_type": "display_data",
          "data": {
            "text/html": [
              "        <script type=\"text/javascript\">\n",
              "        window.PlotlyConfig = {MathJaxConfig: 'local'};\n",
              "        if (window.MathJax) {MathJax.Hub.Config({SVG: {font: \"STIX-Web\"}});}\n",
              "        if (typeof require !== 'undefined') {\n",
              "        require.undef(\"plotly\");\n",
              "        requirejs.config({\n",
              "            paths: {\n",
              "                'plotly': ['https://cdn.plot.ly/plotly-2.8.3.min']\n",
              "            }\n",
              "        });\n",
              "        require(['plotly'], function(Plotly) {\n",
              "            window._Plotly = Plotly;\n",
              "        });\n",
              "        }\n",
              "        </script>\n",
              "        "
            ]
          },
          "metadata": {}
        }
      ]
    },
    {
      "cell_type": "code",
      "source": [
        "# # Saving joblib files to not load them again with the loop above\n",
        "\n",
        "# import joblib\n",
        "\n",
        "# X_name = 'x.joblib'\n",
        "# y_name = 'y.joblib'\n",
        "# save_dir = '/content/drive/My Drive/graduation project/audio/paper_code/features'\n",
        "\n",
        "# savedX = joblib.dump(X, os.path.join(save_dir, X_name))\n",
        "# savedy = joblib.dump(y, os.path.join(save_dir, y_name))"
      ],
      "metadata": {
        "id": "UCzic8rlDcuk"
      },
      "execution_count": 4,
      "outputs": []
    },
    {
      "cell_type": "code",
      "source": [
        "# # Loading saved models\n",
        "import joblib\n",
        "X = joblib.load('/content/drive/My Drive/graduation project/audio/paper_code/features/x.joblib')\n",
        "y = joblib.load('/content/drive/My Drive/graduation project/audio/paper_code/features/y.joblib')"
      ],
      "metadata": {
        "id": "Q35CN6zDrzg1"
      },
      "execution_count": 5,
      "outputs": []
    },
    {
      "cell_type": "code",
      "source": [
        "X.shape"
      ],
      "metadata": {
        "colab": {
          "base_uri": "https://localhost:8080/"
        },
        "id": "7PSTurzjCo5K",
        "outputId": "a51994f8-3252-4ff5-b6c6-f3a69fb19aee"
      },
      "execution_count": 6,
      "outputs": [
        {
          "output_type": "execute_result",
          "data": {
            "text/plain": [
              "(2068, 40)"
            ]
          },
          "metadata": {},
          "execution_count": 6
        }
      ]
    },
    {
      "cell_type": "code",
      "source": [
        "from sklearn.model_selection import train_test_split\n",
        "\n",
        "X_train, X_test, y_train, y_test = train_test_split(X,y, test_size=0.1 ,shuffle = True\n",
        "                                                    , random_state=42)\n",
        "X_train , X_valid, y_train, y_valid = train_test_split(X_train,y_train, test_size=0.1112305212 , shuffle = True \n",
        "                                                       , random_state=42)"
      ],
      "metadata": {
        "id": "Ai4Fy5cPCiq1"
      },
      "execution_count": 7,
      "outputs": []
    },
    {
      "cell_type": "code",
      "source": [
        "import numpy as np\n",
        "x_traincnn = np.expand_dims(X_train, axis=2)\n",
        "x_testcnn = np.expand_dims(X_test, axis=2)\n",
        "X_valid= np.expand_dims(X_valid, axis=2)"
      ],
      "metadata": {
        "id": "tp1Fm5K3CEXu"
      },
      "execution_count": 8,
      "outputs": []
    },
    {
      "cell_type": "code",
      "source": [
        "x_traincnn.shape, x_testcnn.shape , X_valid.shape\n",
        "#1861"
      ],
      "metadata": {
        "id": "RI0MxoIPBws5",
        "colab": {
          "base_uri": "https://localhost:8080/"
        },
        "outputId": "e5b72260-afd8-4a2a-c45f-a9e3977ef214"
      },
      "execution_count": 9,
      "outputs": [
        {
          "output_type": "execute_result",
          "data": {
            "text/plain": [
              "((1654, 40, 1), (207, 40, 1), (207, 40, 1))"
            ]
          },
          "metadata": {},
          "execution_count": 9
        }
      ]
    },
    {
      "cell_type": "code",
      "source": [
        "!pip install tensorflow"
      ],
      "metadata": {
        "colab": {
          "base_uri": "https://localhost:8080/"
        },
        "id": "oALhiMUd9G2Y",
        "outputId": "aeaf0db0-6f04-4cd7-953c-db7baf1cc06a"
      },
      "execution_count": 10,
      "outputs": [
        {
          "output_type": "stream",
          "name": "stdout",
          "text": [
            "Looking in indexes: https://pypi.org/simple, https://us-python.pkg.dev/colab-wheels/public/simple/\n",
            "Requirement already satisfied: tensorflow in /usr/local/lib/python3.7/dist-packages (2.8.2+zzzcolab20220527125636)\n",
            "Requirement already satisfied: libclang>=9.0.1 in /usr/local/lib/python3.7/dist-packages (from tensorflow) (14.0.1)\n",
            "Requirement already satisfied: tensorboard<2.9,>=2.8 in /usr/local/lib/python3.7/dist-packages (from tensorflow) (2.8.0)\n",
            "Requirement already satisfied: flatbuffers>=1.12 in /usr/local/lib/python3.7/dist-packages (from tensorflow) (2.0)\n",
            "Requirement already satisfied: protobuf<3.20,>=3.9.2 in /usr/local/lib/python3.7/dist-packages (from tensorflow) (3.17.3)\n",
            "Requirement already satisfied: typing-extensions>=3.6.6 in /usr/local/lib/python3.7/dist-packages (from tensorflow) (4.2.0)\n",
            "Requirement already satisfied: numpy>=1.20 in /usr/local/lib/python3.7/dist-packages (from tensorflow) (1.21.6)\n",
            "Requirement already satisfied: astunparse>=1.6.0 in /usr/local/lib/python3.7/dist-packages (from tensorflow) (1.6.3)\n",
            "Requirement already satisfied: six>=1.12.0 in /usr/local/lib/python3.7/dist-packages (from tensorflow) (1.15.0)\n",
            "Requirement already satisfied: tensorflow-estimator<2.9,>=2.8 in /usr/local/lib/python3.7/dist-packages (from tensorflow) (2.8.0)\n",
            "Requirement already satisfied: termcolor>=1.1.0 in /usr/local/lib/python3.7/dist-packages (from tensorflow) (1.1.0)\n",
            "Requirement already satisfied: h5py>=2.9.0 in /usr/local/lib/python3.7/dist-packages (from tensorflow) (3.1.0)\n",
            "Requirement already satisfied: absl-py>=0.4.0 in /usr/local/lib/python3.7/dist-packages (from tensorflow) (1.0.0)\n",
            "Requirement already satisfied: setuptools in /usr/local/lib/python3.7/dist-packages (from tensorflow) (57.4.0)\n",
            "Requirement already satisfied: tensorflow-io-gcs-filesystem>=0.23.1 in /usr/local/lib/python3.7/dist-packages (from tensorflow) (0.26.0)\n",
            "Requirement already satisfied: grpcio<2.0,>=1.24.3 in /usr/local/lib/python3.7/dist-packages (from tensorflow) (1.46.3)\n",
            "Requirement already satisfied: gast>=0.2.1 in /usr/local/lib/python3.7/dist-packages (from tensorflow) (0.5.3)\n",
            "Requirement already satisfied: keras<2.9,>=2.8.0rc0 in /usr/local/lib/python3.7/dist-packages (from tensorflow) (2.8.0)\n",
            "Requirement already satisfied: google-pasta>=0.1.1 in /usr/local/lib/python3.7/dist-packages (from tensorflow) (0.2.0)\n",
            "Requirement already satisfied: wrapt>=1.11.0 in /usr/local/lib/python3.7/dist-packages (from tensorflow) (1.14.1)\n",
            "Requirement already satisfied: keras-preprocessing>=1.1.1 in /usr/local/lib/python3.7/dist-packages (from tensorflow) (1.1.2)\n",
            "Requirement already satisfied: opt-einsum>=2.3.2 in /usr/local/lib/python3.7/dist-packages (from tensorflow) (3.3.0)\n",
            "Requirement already satisfied: wheel<1.0,>=0.23.0 in /usr/local/lib/python3.7/dist-packages (from astunparse>=1.6.0->tensorflow) (0.37.1)\n",
            "Requirement already satisfied: cached-property in /usr/local/lib/python3.7/dist-packages (from h5py>=2.9.0->tensorflow) (1.5.2)\n",
            "Requirement already satisfied: tensorboard-data-server<0.7.0,>=0.6.0 in /usr/local/lib/python3.7/dist-packages (from tensorboard<2.9,>=2.8->tensorflow) (0.6.1)\n",
            "Requirement already satisfied: requests<3,>=2.21.0 in /usr/local/lib/python3.7/dist-packages (from tensorboard<2.9,>=2.8->tensorflow) (2.23.0)\n",
            "Requirement already satisfied: google-auth-oauthlib<0.5,>=0.4.1 in /usr/local/lib/python3.7/dist-packages (from tensorboard<2.9,>=2.8->tensorflow) (0.4.6)\n",
            "Requirement already satisfied: werkzeug>=0.11.15 in /usr/local/lib/python3.7/dist-packages (from tensorboard<2.9,>=2.8->tensorflow) (1.0.1)\n",
            "Requirement already satisfied: markdown>=2.6.8 in /usr/local/lib/python3.7/dist-packages (from tensorboard<2.9,>=2.8->tensorflow) (3.3.7)\n",
            "Requirement already satisfied: google-auth<3,>=1.6.3 in /usr/local/lib/python3.7/dist-packages (from tensorboard<2.9,>=2.8->tensorflow) (1.35.0)\n",
            "Requirement already satisfied: tensorboard-plugin-wit>=1.6.0 in /usr/local/lib/python3.7/dist-packages (from tensorboard<2.9,>=2.8->tensorflow) (1.8.1)\n",
            "Requirement already satisfied: cachetools<5.0,>=2.0.0 in /usr/local/lib/python3.7/dist-packages (from google-auth<3,>=1.6.3->tensorboard<2.9,>=2.8->tensorflow) (4.2.4)\n",
            "Requirement already satisfied: rsa<5,>=3.1.4 in /usr/local/lib/python3.7/dist-packages (from google-auth<3,>=1.6.3->tensorboard<2.9,>=2.8->tensorflow) (4.8)\n",
            "Requirement already satisfied: pyasn1-modules>=0.2.1 in /usr/local/lib/python3.7/dist-packages (from google-auth<3,>=1.6.3->tensorboard<2.9,>=2.8->tensorflow) (0.2.8)\n",
            "Requirement already satisfied: requests-oauthlib>=0.7.0 in /usr/local/lib/python3.7/dist-packages (from google-auth-oauthlib<0.5,>=0.4.1->tensorboard<2.9,>=2.8->tensorflow) (1.3.1)\n",
            "Requirement already satisfied: importlib-metadata>=4.4 in /usr/local/lib/python3.7/dist-packages (from markdown>=2.6.8->tensorboard<2.9,>=2.8->tensorflow) (4.11.4)\n",
            "Requirement already satisfied: zipp>=0.5 in /usr/local/lib/python3.7/dist-packages (from importlib-metadata>=4.4->markdown>=2.6.8->tensorboard<2.9,>=2.8->tensorflow) (3.8.0)\n",
            "Requirement already satisfied: pyasn1<0.5.0,>=0.4.6 in /usr/local/lib/python3.7/dist-packages (from pyasn1-modules>=0.2.1->google-auth<3,>=1.6.3->tensorboard<2.9,>=2.8->tensorflow) (0.4.8)\n",
            "Requirement already satisfied: certifi>=2017.4.17 in /usr/local/lib/python3.7/dist-packages (from requests<3,>=2.21.0->tensorboard<2.9,>=2.8->tensorflow) (2022.5.18.1)\n",
            "Requirement already satisfied: idna<3,>=2.5 in /usr/local/lib/python3.7/dist-packages (from requests<3,>=2.21.0->tensorboard<2.9,>=2.8->tensorflow) (2.10)\n",
            "Requirement already satisfied: urllib3!=1.25.0,!=1.25.1,<1.26,>=1.21.1 in /usr/local/lib/python3.7/dist-packages (from requests<3,>=2.21.0->tensorboard<2.9,>=2.8->tensorflow) (1.24.3)\n",
            "Requirement already satisfied: chardet<4,>=3.0.2 in /usr/local/lib/python3.7/dist-packages (from requests<3,>=2.21.0->tensorboard<2.9,>=2.8->tensorflow) (3.0.4)\n",
            "Requirement already satisfied: oauthlib>=3.0.0 in /usr/local/lib/python3.7/dist-packages (from requests-oauthlib>=0.7.0->google-auth-oauthlib<0.5,>=0.4.1->tensorboard<2.9,>=2.8->tensorflow) (3.2.0)\n"
          ]
        }
      ]
    },
    {
      "cell_type": "code",
      "source": [
        "import keras\n",
        "import numpy as np\n",
        "import matplotlib.pyplot as plt\n",
        "import tensorflow as tf\n",
        "from keras.preprocessing import sequence\n",
        "from keras.models import Sequential\n",
        "from keras.layers import Dense, Embedding\n",
        "from tensorflow.keras.utils import to_categorical\n",
        "from keras.layers import Input, Flatten, Dropout, Activation\n",
        "from keras.layers import Conv1D, MaxPooling1D\n",
        "from keras.models import Model\n",
        "from keras.callbacks import ModelCheckpoint\n",
        "from tensorflow.keras import optimizers\n",
        "\n",
        "model = Sequential()\n",
        "\n",
        "model.add(Conv1D(128, 8,padding='same', #classifier.add(Convolution2D(64, (3, 3), padding = 'same', input_shape = (128, 128, 3), activation = 'relu'))\n",
        "                 input_shape=(40,1)))\n",
        "model.add(Activation('relu'))\n",
        "model.add(Dropout(0.1))\n",
        "model.add(MaxPooling1D(pool_size=(5)))\n",
        "\n",
        "\n",
        "model.add(Conv1D(256,8,padding='same',))\n",
        "model.add(Activation('relu'))\n",
        "model.add(Dropout(0.3))\n",
        "model.add(MaxPooling1D(pool_size=(5)))\n",
        "\n",
        "#model.add(MaxPooling1D(pool_size=(5)))\n",
        "\n",
        "model.add(Flatten())\n",
        "\n",
        "\n",
        "\n",
        "model.add(Dense(6))\n",
        "model.add(Activation('softmax'))\n",
        "\n",
        "\n",
        "opt = tf.keras.optimizers.RMSprop(lr=0.0002 , decay=0.0)\n",
        "#opt = tf.keras.optimizers.Adam(lr=0.0002 , decay=0.0)\n",
        "#opt = tf.keras.optimizers.RMSprop(lr=0.0001, rho=0.9, epsilon=1e-07, decay=0.0)\n",
        "#opt = tf.keras.optimizers.SGD(lr=0.001, momentum=0.0, decay=0.0, nesterov=False)"
      ],
      "metadata": {
        "id": "g74fXWVAC4Cr",
        "colab": {
          "base_uri": "https://localhost:8080/"
        },
        "outputId": "34e834ad-c28c-43b9-9f4e-c4de49b63140"
      },
      "execution_count": 11,
      "outputs": [
        {
          "output_type": "stream",
          "name": "stderr",
          "text": [
            "/usr/local/lib/python3.7/dist-packages/keras/optimizer_v2/rmsprop.py:130: UserWarning:\n",
            "\n",
            "The `lr` argument is deprecated, use `learning_rate` instead.\n",
            "\n"
          ]
        }
      ]
    },
    {
      "cell_type": "code",
      "source": [
        "model.summary()"
      ],
      "metadata": {
        "colab": {
          "base_uri": "https://localhost:8080/"
        },
        "id": "H6ukOxAGC_I4",
        "outputId": "ce2ed0a2-50d8-4a19-f2ef-9a7260369514"
      },
      "execution_count": 12,
      "outputs": [
        {
          "output_type": "stream",
          "name": "stdout",
          "text": [
            "Model: \"sequential\"\n",
            "_________________________________________________________________\n",
            " Layer (type)                Output Shape              Param #   \n",
            "=================================================================\n",
            " conv1d (Conv1D)             (None, 40, 128)           1152      \n",
            "                                                                 \n",
            " activation (Activation)     (None, 40, 128)           0         \n",
            "                                                                 \n",
            " dropout (Dropout)           (None, 40, 128)           0         \n",
            "                                                                 \n",
            " max_pooling1d (MaxPooling1D  (None, 8, 128)           0         \n",
            " )                                                               \n",
            "                                                                 \n",
            " conv1d_1 (Conv1D)           (None, 8, 256)            262400    \n",
            "                                                                 \n",
            " activation_1 (Activation)   (None, 8, 256)            0         \n",
            "                                                                 \n",
            " dropout_1 (Dropout)         (None, 8, 256)            0         \n",
            "                                                                 \n",
            " max_pooling1d_1 (MaxPooling  (None, 1, 256)           0         \n",
            " 1D)                                                             \n",
            "                                                                 \n",
            " flatten (Flatten)           (None, 256)               0         \n",
            "                                                                 \n",
            " dense (Dense)               (None, 6)                 1542      \n",
            "                                                                 \n",
            " activation_2 (Activation)   (None, 6)                 0         \n",
            "                                                                 \n",
            "=================================================================\n",
            "Total params: 265,094\n",
            "Trainable params: 265,094\n",
            "Non-trainable params: 0\n",
            "_________________________________________________________________\n"
          ]
        }
      ]
    },
    {
      "cell_type": "code",
      "source": [
        "model.compile(loss='sparse_categorical_crossentropy',\n",
        "              optimizer=opt,\n",
        "              metrics=['accuracy'])"
      ],
      "metadata": {
        "id": "AbMlLNk4DCBM"
      },
      "execution_count": 13,
      "outputs": []
    },
    {
      "cell_type": "code",
      "source": [
        "# Create an Instance of Early Stopping Callback.\n",
        "early_stopping_callback = EarlyStopping(monitor = 'val_loss', patience = 25, mode = 'min', restore_best_weights = True)\n",
        "\n",
        "cnnhistory=model.fit(x_traincnn, y_train, batch_size=16, epochs=500 , shuffle = True, \n",
        "                     validation_data=(X_valid, y_valid) , callbacks = [early_stopping_callback])"
      ],
      "metadata": {
        "colab": {
          "base_uri": "https://localhost:8080/"
        },
        "id": "RI1v2AuADFhy",
        "outputId": "5cdd184e-8d0a-4ce1-c2b8-2df3ae2b1bb3"
      },
      "execution_count": 14,
      "outputs": [
        {
          "output_type": "stream",
          "name": "stdout",
          "text": [
            "Epoch 1/500\n",
            "104/104 [==============================] - 5s 12ms/step - loss: 10.9784 - accuracy: 0.1693 - val_loss: 6.2495 - val_accuracy: 0.2029\n",
            "Epoch 2/500\n",
            "104/104 [==============================] - 1s 7ms/step - loss: 7.4102 - accuracy: 0.2279 - val_loss: 3.4171 - val_accuracy: 0.1981\n",
            "Epoch 3/500\n",
            "104/104 [==============================] - 1s 8ms/step - loss: 6.2594 - accuracy: 0.2219 - val_loss: 5.3450 - val_accuracy: 0.2174\n",
            "Epoch 4/500\n",
            "104/104 [==============================] - 1s 8ms/step - loss: 5.2396 - accuracy: 0.2388 - val_loss: 4.4654 - val_accuracy: 0.2222\n",
            "Epoch 5/500\n",
            "104/104 [==============================] - 1s 9ms/step - loss: 4.7356 - accuracy: 0.2545 - val_loss: 3.2549 - val_accuracy: 0.2802\n",
            "Epoch 6/500\n",
            "104/104 [==============================] - 1s 9ms/step - loss: 4.1281 - accuracy: 0.2588 - val_loss: 2.4872 - val_accuracy: 0.3092\n",
            "Epoch 7/500\n",
            "104/104 [==============================] - 1s 8ms/step - loss: 3.8455 - accuracy: 0.2811 - val_loss: 2.5585 - val_accuracy: 0.2850\n",
            "Epoch 8/500\n",
            "104/104 [==============================] - 1s 9ms/step - loss: 3.4640 - accuracy: 0.2866 - val_loss: 3.7400 - val_accuracy: 0.1932\n",
            "Epoch 9/500\n",
            "104/104 [==============================] - 1s 8ms/step - loss: 3.3244 - accuracy: 0.2799 - val_loss: 2.4678 - val_accuracy: 0.2850\n",
            "Epoch 10/500\n",
            "104/104 [==============================] - 1s 8ms/step - loss: 3.1932 - accuracy: 0.2969 - val_loss: 2.9061 - val_accuracy: 0.2512\n",
            "Epoch 11/500\n",
            "104/104 [==============================] - 1s 9ms/step - loss: 2.9789 - accuracy: 0.2993 - val_loss: 1.9308 - val_accuracy: 0.3575\n",
            "Epoch 12/500\n",
            "104/104 [==============================] - 1s 10ms/step - loss: 2.8154 - accuracy: 0.3120 - val_loss: 2.1084 - val_accuracy: 0.3333\n",
            "Epoch 13/500\n",
            "104/104 [==============================] - 1s 9ms/step - loss: 2.6587 - accuracy: 0.3271 - val_loss: 1.9246 - val_accuracy: 0.3092\n",
            "Epoch 14/500\n",
            "104/104 [==============================] - 1s 9ms/step - loss: 2.5398 - accuracy: 0.3440 - val_loss: 2.0847 - val_accuracy: 0.4251\n",
            "Epoch 15/500\n",
            "104/104 [==============================] - 1s 9ms/step - loss: 2.4326 - accuracy: 0.3579 - val_loss: 1.4537 - val_accuracy: 0.4541\n",
            "Epoch 16/500\n",
            "104/104 [==============================] - 1s 9ms/step - loss: 2.2555 - accuracy: 0.3664 - val_loss: 1.8399 - val_accuracy: 0.3623\n",
            "Epoch 17/500\n",
            "104/104 [==============================] - 1s 10ms/step - loss: 2.1848 - accuracy: 0.3894 - val_loss: 1.7135 - val_accuracy: 0.3382\n",
            "Epoch 18/500\n",
            "104/104 [==============================] - 1s 9ms/step - loss: 2.1097 - accuracy: 0.3863 - val_loss: 1.8623 - val_accuracy: 0.3623\n",
            "Epoch 19/500\n",
            "104/104 [==============================] - 1s 9ms/step - loss: 2.0045 - accuracy: 0.4238 - val_loss: 1.5751 - val_accuracy: 0.4831\n",
            "Epoch 20/500\n",
            "104/104 [==============================] - 1s 9ms/step - loss: 2.0002 - accuracy: 0.4075 - val_loss: 1.4898 - val_accuracy: 0.4348\n",
            "Epoch 21/500\n",
            "104/104 [==============================] - 1s 9ms/step - loss: 1.9414 - accuracy: 0.4232 - val_loss: 2.2349 - val_accuracy: 0.2947\n",
            "Epoch 22/500\n",
            "104/104 [==============================] - 1s 10ms/step - loss: 1.8519 - accuracy: 0.4190 - val_loss: 1.5459 - val_accuracy: 0.4348\n",
            "Epoch 23/500\n",
            "104/104 [==============================] - 1s 8ms/step - loss: 1.7651 - accuracy: 0.4414 - val_loss: 1.3728 - val_accuracy: 0.3913\n",
            "Epoch 24/500\n",
            "104/104 [==============================] - 1s 9ms/step - loss: 1.7136 - accuracy: 0.4601 - val_loss: 1.3160 - val_accuracy: 0.4831\n",
            "Epoch 25/500\n",
            "104/104 [==============================] - 1s 9ms/step - loss: 1.6953 - accuracy: 0.4631 - val_loss: 1.2062 - val_accuracy: 0.5556\n",
            "Epoch 26/500\n",
            "104/104 [==============================] - 1s 7ms/step - loss: 1.5382 - accuracy: 0.4940 - val_loss: 1.2463 - val_accuracy: 0.5072\n",
            "Epoch 27/500\n",
            "104/104 [==============================] - 1s 9ms/step - loss: 1.4773 - accuracy: 0.5036 - val_loss: 1.4590 - val_accuracy: 0.4589\n",
            "Epoch 28/500\n",
            "104/104 [==============================] - 1s 5ms/step - loss: 1.5049 - accuracy: 0.4970 - val_loss: 1.1720 - val_accuracy: 0.5411\n",
            "Epoch 29/500\n",
            "104/104 [==============================] - 1s 5ms/step - loss: 1.3878 - accuracy: 0.5091 - val_loss: 1.1610 - val_accuracy: 0.5604\n",
            "Epoch 30/500\n",
            "104/104 [==============================] - 1s 5ms/step - loss: 1.3681 - accuracy: 0.5296 - val_loss: 1.1895 - val_accuracy: 0.5314\n",
            "Epoch 31/500\n",
            "104/104 [==============================] - 0s 5ms/step - loss: 1.3513 - accuracy: 0.5260 - val_loss: 1.1437 - val_accuracy: 0.5362\n",
            "Epoch 32/500\n",
            "104/104 [==============================] - 1s 5ms/step - loss: 1.2723 - accuracy: 0.5441 - val_loss: 1.0722 - val_accuracy: 0.5990\n",
            "Epoch 33/500\n",
            "104/104 [==============================] - 1s 5ms/step - loss: 1.2413 - accuracy: 0.5586 - val_loss: 1.0102 - val_accuracy: 0.6087\n",
            "Epoch 34/500\n",
            "104/104 [==============================] - 1s 7ms/step - loss: 1.2068 - accuracy: 0.5532 - val_loss: 1.6115 - val_accuracy: 0.3768\n",
            "Epoch 35/500\n",
            "104/104 [==============================] - 1s 6ms/step - loss: 1.1981 - accuracy: 0.5744 - val_loss: 1.1792 - val_accuracy: 0.5411\n",
            "Epoch 36/500\n",
            "104/104 [==============================] - 1s 8ms/step - loss: 1.1339 - accuracy: 0.5732 - val_loss: 1.1080 - val_accuracy: 0.6039\n",
            "Epoch 37/500\n",
            "104/104 [==============================] - 1s 7ms/step - loss: 1.0961 - accuracy: 0.5973 - val_loss: 1.0336 - val_accuracy: 0.6425\n",
            "Epoch 38/500\n",
            "104/104 [==============================] - 1s 6ms/step - loss: 1.0770 - accuracy: 0.5895 - val_loss: 0.9659 - val_accuracy: 0.6329\n",
            "Epoch 39/500\n",
            "104/104 [==============================] - 0s 5ms/step - loss: 1.0520 - accuracy: 0.6022 - val_loss: 0.9639 - val_accuracy: 0.6763\n",
            "Epoch 40/500\n",
            "104/104 [==============================] - 0s 5ms/step - loss: 1.0294 - accuracy: 0.6125 - val_loss: 1.2596 - val_accuracy: 0.5556\n",
            "Epoch 41/500\n",
            "104/104 [==============================] - 1s 5ms/step - loss: 0.9996 - accuracy: 0.6227 - val_loss: 1.1465 - val_accuracy: 0.5556\n",
            "Epoch 42/500\n",
            "104/104 [==============================] - 1s 5ms/step - loss: 1.0189 - accuracy: 0.6191 - val_loss: 0.9399 - val_accuracy: 0.6377\n",
            "Epoch 43/500\n",
            "104/104 [==============================] - 0s 5ms/step - loss: 0.9538 - accuracy: 0.6385 - val_loss: 0.9846 - val_accuracy: 0.6860\n",
            "Epoch 44/500\n",
            "104/104 [==============================] - 1s 6ms/step - loss: 0.9714 - accuracy: 0.6282 - val_loss: 0.9933 - val_accuracy: 0.6087\n",
            "Epoch 45/500\n",
            "104/104 [==============================] - 0s 4ms/step - loss: 0.9076 - accuracy: 0.6439 - val_loss: 0.9590 - val_accuracy: 0.5797\n",
            "Epoch 46/500\n",
            "104/104 [==============================] - 1s 5ms/step - loss: 0.9037 - accuracy: 0.6644 - val_loss: 0.8901 - val_accuracy: 0.6908\n",
            "Epoch 47/500\n",
            "104/104 [==============================] - 1s 5ms/step - loss: 0.9222 - accuracy: 0.6336 - val_loss: 0.8913 - val_accuracy: 0.6329\n",
            "Epoch 48/500\n",
            "104/104 [==============================] - 0s 4ms/step - loss: 0.9002 - accuracy: 0.6548 - val_loss: 0.8820 - val_accuracy: 0.6570\n",
            "Epoch 49/500\n",
            "104/104 [==============================] - 1s 5ms/step - loss: 0.8914 - accuracy: 0.6602 - val_loss: 0.8607 - val_accuracy: 0.6715\n",
            "Epoch 50/500\n",
            "104/104 [==============================] - 1s 5ms/step - loss: 0.8771 - accuracy: 0.6566 - val_loss: 0.8511 - val_accuracy: 0.6860\n",
            "Epoch 51/500\n",
            "104/104 [==============================] - 0s 4ms/step - loss: 0.8412 - accuracy: 0.6820 - val_loss: 0.9751 - val_accuracy: 0.6135\n",
            "Epoch 52/500\n",
            "104/104 [==============================] - 1s 5ms/step - loss: 0.8419 - accuracy: 0.6705 - val_loss: 0.8548 - val_accuracy: 0.6908\n",
            "Epoch 53/500\n",
            "104/104 [==============================] - 1s 5ms/step - loss: 0.8090 - accuracy: 0.6874 - val_loss: 0.9316 - val_accuracy: 0.6329\n",
            "Epoch 54/500\n",
            "104/104 [==============================] - 1s 5ms/step - loss: 0.8450 - accuracy: 0.6886 - val_loss: 0.8735 - val_accuracy: 0.6425\n",
            "Epoch 55/500\n",
            "104/104 [==============================] - 1s 5ms/step - loss: 0.8009 - accuracy: 0.6911 - val_loss: 0.8686 - val_accuracy: 0.7053\n",
            "Epoch 56/500\n",
            "104/104 [==============================] - 1s 5ms/step - loss: 0.8100 - accuracy: 0.6965 - val_loss: 1.0005 - val_accuracy: 0.6570\n",
            "Epoch 57/500\n",
            "104/104 [==============================] - 0s 5ms/step - loss: 0.8029 - accuracy: 0.6929 - val_loss: 0.8826 - val_accuracy: 0.6715\n",
            "Epoch 58/500\n",
            "104/104 [==============================] - 1s 5ms/step - loss: 0.7631 - accuracy: 0.7128 - val_loss: 0.8267 - val_accuracy: 0.7053\n",
            "Epoch 59/500\n",
            "104/104 [==============================] - 0s 5ms/step - loss: 0.7769 - accuracy: 0.6977 - val_loss: 0.8002 - val_accuracy: 0.6812\n",
            "Epoch 60/500\n",
            "104/104 [==============================] - 1s 5ms/step - loss: 0.7329 - accuracy: 0.7310 - val_loss: 0.8167 - val_accuracy: 0.7053\n",
            "Epoch 61/500\n",
            "104/104 [==============================] - 1s 5ms/step - loss: 0.7285 - accuracy: 0.7219 - val_loss: 0.7963 - val_accuracy: 0.6860\n",
            "Epoch 62/500\n",
            "104/104 [==============================] - 1s 5ms/step - loss: 0.7042 - accuracy: 0.7310 - val_loss: 0.7801 - val_accuracy: 0.7246\n",
            "Epoch 63/500\n",
            "104/104 [==============================] - 1s 5ms/step - loss: 0.7117 - accuracy: 0.7243 - val_loss: 0.7926 - val_accuracy: 0.6812\n",
            "Epoch 64/500\n",
            "104/104 [==============================] - 1s 5ms/step - loss: 0.6977 - accuracy: 0.7304 - val_loss: 0.9413 - val_accuracy: 0.6232\n",
            "Epoch 65/500\n",
            "104/104 [==============================] - 0s 5ms/step - loss: 0.6814 - accuracy: 0.7461 - val_loss: 0.8541 - val_accuracy: 0.6715\n",
            "Epoch 66/500\n",
            "104/104 [==============================] - 1s 5ms/step - loss: 0.7141 - accuracy: 0.7279 - val_loss: 0.7299 - val_accuracy: 0.7343\n",
            "Epoch 67/500\n",
            "104/104 [==============================] - 1s 5ms/step - loss: 0.6942 - accuracy: 0.7285 - val_loss: 0.7771 - val_accuracy: 0.7005\n",
            "Epoch 68/500\n",
            "104/104 [==============================] - 1s 5ms/step - loss: 0.6744 - accuracy: 0.7449 - val_loss: 0.7922 - val_accuracy: 0.7246\n",
            "Epoch 69/500\n",
            "104/104 [==============================] - 1s 5ms/step - loss: 0.6537 - accuracy: 0.7515 - val_loss: 0.7681 - val_accuracy: 0.7246\n",
            "Epoch 70/500\n",
            "104/104 [==============================] - 0s 5ms/step - loss: 0.6425 - accuracy: 0.7497 - val_loss: 1.0094 - val_accuracy: 0.6522\n",
            "Epoch 71/500\n",
            "104/104 [==============================] - 1s 5ms/step - loss: 0.6213 - accuracy: 0.7709 - val_loss: 0.7694 - val_accuracy: 0.7198\n",
            "Epoch 72/500\n",
            "104/104 [==============================] - 0s 5ms/step - loss: 0.6378 - accuracy: 0.7521 - val_loss: 0.8144 - val_accuracy: 0.6715\n",
            "Epoch 73/500\n",
            "104/104 [==============================] - 1s 5ms/step - loss: 0.6569 - accuracy: 0.7412 - val_loss: 0.7834 - val_accuracy: 0.7343\n",
            "Epoch 74/500\n",
            "104/104 [==============================] - 1s 5ms/step - loss: 0.6219 - accuracy: 0.7515 - val_loss: 0.9195 - val_accuracy: 0.6763\n",
            "Epoch 75/500\n",
            "104/104 [==============================] - 1s 5ms/step - loss: 0.6186 - accuracy: 0.7563 - val_loss: 0.8175 - val_accuracy: 0.6957\n",
            "Epoch 76/500\n",
            "104/104 [==============================] - 1s 5ms/step - loss: 0.6114 - accuracy: 0.7703 - val_loss: 0.7924 - val_accuracy: 0.7005\n",
            "Epoch 77/500\n",
            "104/104 [==============================] - 1s 5ms/step - loss: 0.6046 - accuracy: 0.7733 - val_loss: 0.7663 - val_accuracy: 0.7246\n",
            "Epoch 78/500\n",
            "104/104 [==============================] - 1s 5ms/step - loss: 0.5993 - accuracy: 0.7672 - val_loss: 0.7689 - val_accuracy: 0.6812\n",
            "Epoch 79/500\n",
            "104/104 [==============================] - 1s 5ms/step - loss: 0.5953 - accuracy: 0.7757 - val_loss: 0.8234 - val_accuracy: 0.7053\n",
            "Epoch 80/500\n",
            "104/104 [==============================] - 1s 5ms/step - loss: 0.5807 - accuracy: 0.7612 - val_loss: 0.8066 - val_accuracy: 0.7198\n",
            "Epoch 81/500\n",
            "104/104 [==============================] - 0s 5ms/step - loss: 0.5838 - accuracy: 0.7781 - val_loss: 0.8115 - val_accuracy: 0.6957\n",
            "Epoch 82/500\n",
            "104/104 [==============================] - 1s 5ms/step - loss: 0.5469 - accuracy: 0.7860 - val_loss: 0.7271 - val_accuracy: 0.7198\n",
            "Epoch 83/500\n",
            "104/104 [==============================] - 1s 5ms/step - loss: 0.5773 - accuracy: 0.7733 - val_loss: 0.6913 - val_accuracy: 0.7391\n",
            "Epoch 84/500\n",
            "104/104 [==============================] - 1s 5ms/step - loss: 0.5577 - accuracy: 0.7854 - val_loss: 0.7500 - val_accuracy: 0.7198\n",
            "Epoch 85/500\n",
            "104/104 [==============================] - 1s 6ms/step - loss: 0.5486 - accuracy: 0.7938 - val_loss: 0.7091 - val_accuracy: 0.7440\n",
            "Epoch 86/500\n",
            "104/104 [==============================] - 0s 5ms/step - loss: 0.5565 - accuracy: 0.7830 - val_loss: 0.8397 - val_accuracy: 0.7101\n",
            "Epoch 87/500\n",
            "104/104 [==============================] - 1s 5ms/step - loss: 0.5412 - accuracy: 0.8005 - val_loss: 1.0685 - val_accuracy: 0.6135\n",
            "Epoch 88/500\n",
            "104/104 [==============================] - 1s 5ms/step - loss: 0.5224 - accuracy: 0.8017 - val_loss: 0.7894 - val_accuracy: 0.6957\n",
            "Epoch 89/500\n",
            "104/104 [==============================] - 1s 5ms/step - loss: 0.5032 - accuracy: 0.8047 - val_loss: 0.7035 - val_accuracy: 0.7343\n",
            "Epoch 90/500\n",
            "104/104 [==============================] - 1s 5ms/step - loss: 0.5282 - accuracy: 0.7987 - val_loss: 0.6848 - val_accuracy: 0.7391\n",
            "Epoch 91/500\n",
            "104/104 [==============================] - 1s 5ms/step - loss: 0.5095 - accuracy: 0.8041 - val_loss: 0.8383 - val_accuracy: 0.7198\n",
            "Epoch 92/500\n",
            "104/104 [==============================] - 1s 7ms/step - loss: 0.5114 - accuracy: 0.8089 - val_loss: 0.6950 - val_accuracy: 0.7440\n",
            "Epoch 93/500\n",
            "104/104 [==============================] - 1s 7ms/step - loss: 0.5260 - accuracy: 0.7981 - val_loss: 0.6873 - val_accuracy: 0.7440\n",
            "Epoch 94/500\n",
            "104/104 [==============================] - 1s 5ms/step - loss: 0.4711 - accuracy: 0.8120 - val_loss: 0.6582 - val_accuracy: 0.7585\n",
            "Epoch 95/500\n",
            "104/104 [==============================] - 0s 5ms/step - loss: 0.5019 - accuracy: 0.8114 - val_loss: 0.6844 - val_accuracy: 0.7440\n",
            "Epoch 96/500\n",
            "104/104 [==============================] - 1s 5ms/step - loss: 0.4894 - accuracy: 0.8180 - val_loss: 0.7322 - val_accuracy: 0.7343\n",
            "Epoch 97/500\n",
            "104/104 [==============================] - 1s 5ms/step - loss: 0.4848 - accuracy: 0.8168 - val_loss: 0.6984 - val_accuracy: 0.7488\n",
            "Epoch 98/500\n",
            "104/104 [==============================] - 1s 5ms/step - loss: 0.4696 - accuracy: 0.8210 - val_loss: 0.7099 - val_accuracy: 0.7246\n",
            "Epoch 99/500\n",
            "104/104 [==============================] - 0s 5ms/step - loss: 0.4739 - accuracy: 0.8138 - val_loss: 0.7759 - val_accuracy: 0.7198\n",
            "Epoch 100/500\n",
            "104/104 [==============================] - 1s 5ms/step - loss: 0.4612 - accuracy: 0.8216 - val_loss: 0.6033 - val_accuracy: 0.7633\n",
            "Epoch 101/500\n",
            "104/104 [==============================] - 1s 5ms/step - loss: 0.4627 - accuracy: 0.8277 - val_loss: 0.6770 - val_accuracy: 0.7536\n",
            "Epoch 102/500\n",
            "104/104 [==============================] - 1s 5ms/step - loss: 0.4503 - accuracy: 0.8307 - val_loss: 0.7266 - val_accuracy: 0.7246\n",
            "Epoch 103/500\n",
            "104/104 [==============================] - 1s 5ms/step - loss: 0.4662 - accuracy: 0.8229 - val_loss: 0.7818 - val_accuracy: 0.7246\n",
            "Epoch 104/500\n",
            "104/104 [==============================] - 1s 5ms/step - loss: 0.4398 - accuracy: 0.8349 - val_loss: 0.6910 - val_accuracy: 0.7536\n",
            "Epoch 105/500\n",
            "104/104 [==============================] - 1s 5ms/step - loss: 0.4383 - accuracy: 0.8259 - val_loss: 0.8555 - val_accuracy: 0.6908\n",
            "Epoch 106/500\n",
            "104/104 [==============================] - 1s 5ms/step - loss: 0.4319 - accuracy: 0.8349 - val_loss: 0.7437 - val_accuracy: 0.7295\n",
            "Epoch 107/500\n",
            "104/104 [==============================] - 0s 5ms/step - loss: 0.4375 - accuracy: 0.8277 - val_loss: 0.8625 - val_accuracy: 0.7005\n",
            "Epoch 108/500\n",
            "104/104 [==============================] - 1s 5ms/step - loss: 0.4181 - accuracy: 0.8380 - val_loss: 0.8427 - val_accuracy: 0.7053\n",
            "Epoch 109/500\n",
            "104/104 [==============================] - 1s 5ms/step - loss: 0.3996 - accuracy: 0.8537 - val_loss: 1.0102 - val_accuracy: 0.6618\n",
            "Epoch 110/500\n",
            "104/104 [==============================] - 0s 4ms/step - loss: 0.3995 - accuracy: 0.8392 - val_loss: 0.7732 - val_accuracy: 0.7488\n",
            "Epoch 111/500\n",
            "104/104 [==============================] - 1s 5ms/step - loss: 0.4133 - accuracy: 0.8458 - val_loss: 0.7688 - val_accuracy: 0.7343\n",
            "Epoch 112/500\n",
            "104/104 [==============================] - 1s 5ms/step - loss: 0.3881 - accuracy: 0.8519 - val_loss: 0.9061 - val_accuracy: 0.6957\n",
            "Epoch 113/500\n",
            "104/104 [==============================] - 0s 5ms/step - loss: 0.4083 - accuracy: 0.8470 - val_loss: 0.7165 - val_accuracy: 0.7440\n",
            "Epoch 114/500\n",
            "104/104 [==============================] - 1s 5ms/step - loss: 0.4022 - accuracy: 0.8476 - val_loss: 0.8780 - val_accuracy: 0.6715\n",
            "Epoch 115/500\n",
            "104/104 [==============================] - 1s 5ms/step - loss: 0.3979 - accuracy: 0.8404 - val_loss: 0.6527 - val_accuracy: 0.7440\n",
            "Epoch 116/500\n",
            "104/104 [==============================] - 0s 5ms/step - loss: 0.4164 - accuracy: 0.8434 - val_loss: 0.7659 - val_accuracy: 0.7343\n",
            "Epoch 117/500\n",
            "104/104 [==============================] - 1s 5ms/step - loss: 0.3522 - accuracy: 0.8791 - val_loss: 0.6878 - val_accuracy: 0.7440\n",
            "Epoch 118/500\n",
            "104/104 [==============================] - 0s 5ms/step - loss: 0.3656 - accuracy: 0.8615 - val_loss: 0.6564 - val_accuracy: 0.7681\n",
            "Epoch 119/500\n",
            "104/104 [==============================] - 1s 5ms/step - loss: 0.3760 - accuracy: 0.8470 - val_loss: 0.6241 - val_accuracy: 0.7923\n",
            "Epoch 120/500\n",
            "104/104 [==============================] - 1s 5ms/step - loss: 0.3771 - accuracy: 0.8591 - val_loss: 0.6527 - val_accuracy: 0.7488\n",
            "Epoch 121/500\n",
            "104/104 [==============================] - 1s 5ms/step - loss: 0.3772 - accuracy: 0.8549 - val_loss: 0.6569 - val_accuracy: 0.7536\n",
            "Epoch 122/500\n",
            "104/104 [==============================] - 1s 5ms/step - loss: 0.3443 - accuracy: 0.8706 - val_loss: 0.6790 - val_accuracy: 0.7440\n",
            "Epoch 123/500\n",
            "104/104 [==============================] - 1s 5ms/step - loss: 0.3652 - accuracy: 0.8615 - val_loss: 0.6463 - val_accuracy: 0.7729\n",
            "Epoch 124/500\n",
            "104/104 [==============================] - 1s 5ms/step - loss: 0.3782 - accuracy: 0.8591 - val_loss: 0.9139 - val_accuracy: 0.7005\n",
            "Epoch 125/500\n",
            "104/104 [==============================] - 1s 6ms/step - loss: 0.3469 - accuracy: 0.8609 - val_loss: 0.6017 - val_accuracy: 0.7729\n",
            "Epoch 126/500\n",
            "104/104 [==============================] - 1s 5ms/step - loss: 0.3420 - accuracy: 0.8646 - val_loss: 0.7316 - val_accuracy: 0.7488\n",
            "Epoch 127/500\n",
            "104/104 [==============================] - 1s 5ms/step - loss: 0.3614 - accuracy: 0.8682 - val_loss: 0.7067 - val_accuracy: 0.7488\n",
            "Epoch 128/500\n",
            "104/104 [==============================] - 1s 5ms/step - loss: 0.3298 - accuracy: 0.8815 - val_loss: 0.7274 - val_accuracy: 0.7681\n",
            "Epoch 129/500\n",
            "104/104 [==============================] - 1s 5ms/step - loss: 0.3558 - accuracy: 0.8658 - val_loss: 0.6318 - val_accuracy: 0.7585\n",
            "Epoch 130/500\n",
            "104/104 [==============================] - 1s 5ms/step - loss: 0.3560 - accuracy: 0.8615 - val_loss: 0.6237 - val_accuracy: 0.7536\n",
            "Epoch 131/500\n",
            "104/104 [==============================] - 1s 5ms/step - loss: 0.3309 - accuracy: 0.8694 - val_loss: 0.6490 - val_accuracy: 0.7874\n",
            "Epoch 132/500\n",
            "104/104 [==============================] - 1s 5ms/step - loss: 0.3269 - accuracy: 0.8803 - val_loss: 0.7981 - val_accuracy: 0.7150\n",
            "Epoch 133/500\n",
            "104/104 [==============================] - 1s 5ms/step - loss: 0.3383 - accuracy: 0.8815 - val_loss: 0.7063 - val_accuracy: 0.7633\n",
            "Epoch 134/500\n",
            "104/104 [==============================] - 0s 5ms/step - loss: 0.3318 - accuracy: 0.8779 - val_loss: 0.5863 - val_accuracy: 0.7681\n",
            "Epoch 135/500\n",
            "104/104 [==============================] - 1s 5ms/step - loss: 0.3430 - accuracy: 0.8748 - val_loss: 0.6228 - val_accuracy: 0.7778\n",
            "Epoch 136/500\n",
            "104/104 [==============================] - 1s 5ms/step - loss: 0.3221 - accuracy: 0.8791 - val_loss: 0.5877 - val_accuracy: 0.8019\n",
            "Epoch 137/500\n",
            "104/104 [==============================] - 1s 5ms/step - loss: 0.3240 - accuracy: 0.8809 - val_loss: 0.6501 - val_accuracy: 0.7681\n",
            "Epoch 138/500\n",
            "104/104 [==============================] - 1s 5ms/step - loss: 0.3023 - accuracy: 0.8803 - val_loss: 0.5870 - val_accuracy: 0.7778\n",
            "Epoch 139/500\n",
            "104/104 [==============================] - 0s 5ms/step - loss: 0.2848 - accuracy: 0.8900 - val_loss: 0.6749 - val_accuracy: 0.7536\n",
            "Epoch 140/500\n",
            "104/104 [==============================] - 0s 5ms/step - loss: 0.2968 - accuracy: 0.8942 - val_loss: 0.6105 - val_accuracy: 0.7971\n",
            "Epoch 141/500\n",
            "104/104 [==============================] - 1s 6ms/step - loss: 0.3144 - accuracy: 0.8809 - val_loss: 0.7487 - val_accuracy: 0.7391\n",
            "Epoch 142/500\n",
            "104/104 [==============================] - 1s 5ms/step - loss: 0.2980 - accuracy: 0.8900 - val_loss: 0.8255 - val_accuracy: 0.7198\n",
            "Epoch 143/500\n",
            "104/104 [==============================] - 1s 5ms/step - loss: 0.3044 - accuracy: 0.8863 - val_loss: 0.7315 - val_accuracy: 0.7536\n",
            "Epoch 144/500\n",
            "104/104 [==============================] - 1s 5ms/step - loss: 0.3009 - accuracy: 0.8918 - val_loss: 0.6978 - val_accuracy: 0.7488\n",
            "Epoch 145/500\n",
            "104/104 [==============================] - 1s 5ms/step - loss: 0.3094 - accuracy: 0.8827 - val_loss: 0.6174 - val_accuracy: 0.7874\n",
            "Epoch 146/500\n",
            "104/104 [==============================] - 1s 5ms/step - loss: 0.2896 - accuracy: 0.8918 - val_loss: 0.5398 - val_accuracy: 0.7826\n",
            "Epoch 147/500\n",
            "104/104 [==============================] - 1s 5ms/step - loss: 0.2915 - accuracy: 0.8978 - val_loss: 0.6267 - val_accuracy: 0.7923\n",
            "Epoch 148/500\n",
            "104/104 [==============================] - 1s 10ms/step - loss: 0.2785 - accuracy: 0.8984 - val_loss: 0.7091 - val_accuracy: 0.7440\n",
            "Epoch 149/500\n",
            "104/104 [==============================] - 1s 8ms/step - loss: 0.2849 - accuracy: 0.8978 - val_loss: 0.5713 - val_accuracy: 0.7923\n",
            "Epoch 150/500\n",
            "104/104 [==============================] - 1s 8ms/step - loss: 0.2670 - accuracy: 0.8972 - val_loss: 0.6622 - val_accuracy: 0.7633\n",
            "Epoch 151/500\n",
            "104/104 [==============================] - 1s 10ms/step - loss: 0.2546 - accuracy: 0.9075 - val_loss: 0.6784 - val_accuracy: 0.7633\n",
            "Epoch 152/500\n",
            "104/104 [==============================] - 1s 6ms/step - loss: 0.2706 - accuracy: 0.9039 - val_loss: 0.6948 - val_accuracy: 0.7488\n",
            "Epoch 153/500\n",
            "104/104 [==============================] - 1s 5ms/step - loss: 0.2729 - accuracy: 0.8894 - val_loss: 0.7046 - val_accuracy: 0.7440\n",
            "Epoch 154/500\n",
            "104/104 [==============================] - 1s 5ms/step - loss: 0.2675 - accuracy: 0.9027 - val_loss: 0.6948 - val_accuracy: 0.7681\n",
            "Epoch 155/500\n",
            "104/104 [==============================] - 1s 5ms/step - loss: 0.2752 - accuracy: 0.9027 - val_loss: 0.6837 - val_accuracy: 0.7633\n",
            "Epoch 156/500\n",
            "104/104 [==============================] - 1s 5ms/step - loss: 0.2500 - accuracy: 0.9045 - val_loss: 0.7571 - val_accuracy: 0.7536\n",
            "Epoch 157/500\n",
            "104/104 [==============================] - 1s 5ms/step - loss: 0.2751 - accuracy: 0.9008 - val_loss: 0.6735 - val_accuracy: 0.7681\n",
            "Epoch 158/500\n",
            "104/104 [==============================] - 1s 5ms/step - loss: 0.2667 - accuracy: 0.8978 - val_loss: 0.6980 - val_accuracy: 0.7729\n",
            "Epoch 159/500\n",
            "104/104 [==============================] - 1s 5ms/step - loss: 0.2385 - accuracy: 0.9093 - val_loss: 0.8092 - val_accuracy: 0.7585\n",
            "Epoch 160/500\n",
            "104/104 [==============================] - 1s 5ms/step - loss: 0.2737 - accuracy: 0.8936 - val_loss: 0.6315 - val_accuracy: 0.7729\n",
            "Epoch 161/500\n",
            "104/104 [==============================] - 1s 5ms/step - loss: 0.2413 - accuracy: 0.9123 - val_loss: 0.6020 - val_accuracy: 0.7874\n",
            "Epoch 162/500\n",
            "104/104 [==============================] - 1s 5ms/step - loss: 0.2469 - accuracy: 0.9105 - val_loss: 0.6054 - val_accuracy: 0.7874\n",
            "Epoch 163/500\n",
            "104/104 [==============================] - 1s 5ms/step - loss: 0.2512 - accuracy: 0.9063 - val_loss: 0.6036 - val_accuracy: 0.7971\n",
            "Epoch 164/500\n",
            "104/104 [==============================] - 1s 6ms/step - loss: 0.2486 - accuracy: 0.9063 - val_loss: 0.5607 - val_accuracy: 0.8068\n",
            "Epoch 165/500\n",
            "104/104 [==============================] - 1s 5ms/step - loss: 0.2327 - accuracy: 0.9190 - val_loss: 0.6056 - val_accuracy: 0.8116\n",
            "Epoch 166/500\n",
            "104/104 [==============================] - 1s 5ms/step - loss: 0.2216 - accuracy: 0.9238 - val_loss: 0.6246 - val_accuracy: 0.7826\n",
            "Epoch 167/500\n",
            "104/104 [==============================] - 1s 5ms/step - loss: 0.2586 - accuracy: 0.9033 - val_loss: 0.7767 - val_accuracy: 0.7585\n",
            "Epoch 168/500\n",
            "104/104 [==============================] - 0s 5ms/step - loss: 0.2415 - accuracy: 0.9148 - val_loss: 0.5585 - val_accuracy: 0.7874\n",
            "Epoch 169/500\n",
            "104/104 [==============================] - 1s 5ms/step - loss: 0.2291 - accuracy: 0.9117 - val_loss: 0.7081 - val_accuracy: 0.7778\n",
            "Epoch 170/500\n",
            "104/104 [==============================] - 0s 5ms/step - loss: 0.2309 - accuracy: 0.9129 - val_loss: 0.5947 - val_accuracy: 0.8019\n",
            "Epoch 171/500\n",
            "104/104 [==============================] - 1s 5ms/step - loss: 0.2409 - accuracy: 0.9117 - val_loss: 0.6524 - val_accuracy: 0.7826\n"
          ]
        }
      ]
    },
    {
      "cell_type": "code",
      "source": [
        "plt.plot(cnnhistory.history['loss'])\n",
        "plt.plot(cnnhistory.history['val_loss'])\n",
        "plt.title('model loss')\n",
        "plt.ylabel('loss')\n",
        "plt.xlabel('epoch')\n",
        "plt.legend(['train','test'], loc='upper left')\n",
        "plt.show()"
      ],
      "metadata": {
        "colab": {
          "base_uri": "https://localhost:8080/",
          "height": 295
        },
        "id": "oQYnuaCrDH_A",
        "outputId": "89bbc7a3-9593-4379-fd85-a34aba323632"
      },
      "execution_count": 15,
      "outputs": [
        {
          "output_type": "display_data",
          "data": {
            "text/plain": [
              "<Figure size 432x288 with 1 Axes>"
            ],
            "image/png": "[encoded data removed]"
          },
          "metadata": {
            "needs_background": "light"
          }
        }
      ]
    },
    {
      "cell_type": "code",
      "source": [
        "plt.plot(cnnhistory.history['accuracy'])\n",
        "plt.plot(cnnhistory.history['val_accuracy'])\n",
        "plt.title('model accuracy')\n",
        "plt.ylabel('accuracy')\n",
        "plt.xlabel('epoch')\n",
        "plt.legend(['train','test'], loc='upper left')\n",
        "plt.show()"
      ],
      "metadata": {
        "colab": {
          "base_uri": "https://localhost:8080/",
          "height": 295
        },
        "id": "IFkTuO8nDNdq",
        "outputId": "df63968e-03c0-49b2-a281-dcc9f59f1d4e"
      },
      "execution_count": 16,
      "outputs": [
        {
          "output_type": "display_data",
          "data": {
            "text/plain": [
              "<Figure size 432x288 with 1 Axes>"
            ],
            "image/png": "[encoded data removed]"
          },
          "metadata": {
            "needs_background": "light"
          }
        }
      ]
    },
    {
      "cell_type": "code",
      "source": [
        "predictions = model.predict(x_testcnn)"
      ],
      "metadata": {
        "id": "A2xtrN5wDQgY"
      },
      "execution_count": 17,
      "outputs": []
    },
    {
      "cell_type": "code",
      "source": [
        "predictions"
      ],
      "metadata": {
        "colab": {
          "base_uri": "https://localhost:8080/"
        },
        "id": "_f_ohjXKDUpY",
        "outputId": "8d692d2c-45a3-444f-a0c7-be3f3dcd7a59"
      },
      "execution_count": 18,
      "outputs": [
        {
          "output_type": "execute_result",
          "data": {
            "text/plain": [
              "array([[2.27404699e-01, 4.71646041e-02, 5.68407953e-01, 9.02051702e-02,\n",
              "        4.99603748e-02, 1.68572050e-02],\n",
              "       [4.25407670e-05, 6.61627666e-07, 9.29652444e-09, 9.14513886e-01,\n",
              "        8.77621318e-08, 8.54428858e-02],\n",
              "       [1.10981427e-01, 3.50448117e-02, 1.40460050e-02, 6.23287380e-01,\n",
              "        3.55397630e-03, 2.13086426e-01],\n",
              "       ...,\n",
              "       [1.08263106e-04, 5.44782708e-08, 3.08308197e-04, 1.49515676e-04,\n",
              "        9.94806468e-01, 4.62736469e-03],\n",
              "       [5.81234752e-04, 8.70243534e-02, 9.08479571e-01, 2.81300076e-04,\n",
              "        1.66455656e-03, 1.96901639e-03],\n",
              "       [3.56664561e-04, 3.54521151e-04, 5.22282794e-02, 5.54235012e-04,\n",
              "        9.41537976e-01, 4.96829627e-03]], dtype=float32)"
            ]
          },
          "metadata": {},
          "execution_count": 18
        }
      ]
    },
    {
      "cell_type": "code",
      "source": [
        "y_test"
      ],
      "metadata": {
        "colab": {
          "base_uri": "https://localhost:8080/"
        },
        "id": "cmA2bFgsDW3D",
        "outputId": "54660248-ca4a-43bd-981d-ae9b1ccde8d7"
      },
      "execution_count": 19,
      "outputs": [
        {
          "output_type": "execute_result",
          "data": {
            "text/plain": [
              "array([3, 3, 3, 0, 4, 4, 1, 2, 5, 0, 5, 3, 2, 2, 1, 4, 4, 5, 2, 4, 1, 2,\n",
              "       3, 5, 4, 2, 1, 2, 2, 2, 2, 5, 2, 5, 3, 1, 2, 0, 4, 5, 2, 3, 2, 2,\n",
              "       5, 2, 0, 1, 3, 4, 4, 5, 1, 1, 4, 4, 5, 1, 1, 1, 0, 1, 5, 0, 4, 1,\n",
              "       1, 0, 1, 4, 1, 0, 4, 1, 3, 1, 2, 2, 1, 2, 3, 0, 5, 3, 5, 5, 2, 4,\n",
              "       5, 1, 5, 1, 5, 3, 4, 1, 4, 1, 5, 4, 5, 1, 2, 1, 1, 5, 1, 3, 2, 5,\n",
              "       2, 1, 3, 5, 4, 4, 0, 0, 3, 1, 2, 2, 3, 5, 1, 5, 3, 4, 2, 2, 0, 2,\n",
              "       2, 5, 5, 0, 3, 3, 2, 2, 0, 3, 4, 0, 4, 2, 4, 5, 4, 1, 5, 3, 2, 2,\n",
              "       5, 4, 3, 3, 4, 3, 3, 4, 1, 5, 2, 3, 2, 2, 0, 2, 1, 3, 1, 2, 2, 5,\n",
              "       5, 1, 4, 2, 2, 1, 1, 3, 3, 5, 5, 2, 5, 1, 5, 0, 3, 3, 0, 5, 1, 4,\n",
              "       1, 4, 2, 5, 5, 1, 4, 2, 4])"
            ]
          },
          "metadata": {},
          "execution_count": 19
        }
      ]
    },
    {
      "cell_type": "code",
      "source": [
        "new_Ytest = y_test.astype(int)"
      ],
      "metadata": {
        "id": "0PHDKWJWDY3g"
      },
      "execution_count": 20,
      "outputs": []
    },
    {
      "cell_type": "code",
      "source": [
        "new_Ytest"
      ],
      "metadata": {
        "colab": {
          "base_uri": "https://localhost:8080/"
        },
        "id": "k68v2i-pDbZE",
        "outputId": "71a85dfd-e197-4294-d9c1-20ecb2793ea3"
      },
      "execution_count": 21,
      "outputs": [
        {
          "output_type": "execute_result",
          "data": {
            "text/plain": [
              "array([3, 3, 3, 0, 4, 4, 1, 2, 5, 0, 5, 3, 2, 2, 1, 4, 4, 5, 2, 4, 1, 2,\n",
              "       3, 5, 4, 2, 1, 2, 2, 2, 2, 5, 2, 5, 3, 1, 2, 0, 4, 5, 2, 3, 2, 2,\n",
              "       5, 2, 0, 1, 3, 4, 4, 5, 1, 1, 4, 4, 5, 1, 1, 1, 0, 1, 5, 0, 4, 1,\n",
              "       1, 0, 1, 4, 1, 0, 4, 1, 3, 1, 2, 2, 1, 2, 3, 0, 5, 3, 5, 5, 2, 4,\n",
              "       5, 1, 5, 1, 5, 3, 4, 1, 4, 1, 5, 4, 5, 1, 2, 1, 1, 5, 1, 3, 2, 5,\n",
              "       2, 1, 3, 5, 4, 4, 0, 0, 3, 1, 2, 2, 3, 5, 1, 5, 3, 4, 2, 2, 0, 2,\n",
              "       2, 5, 5, 0, 3, 3, 2, 2, 0, 3, 4, 0, 4, 2, 4, 5, 4, 1, 5, 3, 2, 2,\n",
              "       5, 4, 3, 3, 4, 3, 3, 4, 1, 5, 2, 3, 2, 2, 0, 2, 1, 3, 1, 2, 2, 5,\n",
              "       5, 1, 4, 2, 2, 1, 1, 3, 3, 5, 5, 2, 5, 1, 5, 0, 3, 3, 0, 5, 1, 4,\n",
              "       1, 4, 2, 5, 5, 1, 4, 2, 4])"
            ]
          },
          "metadata": {},
          "execution_count": 21
        }
      ]
    },
    {
      "cell_type": "code",
      "source": [
        "preds1=predictions.argmax(axis=1)\n",
        "preds1"
      ],
      "metadata": {
        "colab": {
          "base_uri": "https://localhost:8080/"
        },
        "id": "4_cAI39VFhtp",
        "outputId": "00acc9ad-8fd4-40bf-b38d-a21c909b23f2"
      },
      "execution_count": 22,
      "outputs": [
        {
          "output_type": "execute_result",
          "data": {
            "text/plain": [
              "array([2, 3, 3, 0, 4, 4, 1, 2, 5, 1, 5, 3, 2, 2, 0, 4, 4, 3, 2, 4, 2, 2,\n",
              "       3, 3, 5, 2, 2, 2, 2, 2, 2, 5, 2, 5, 3, 1, 2, 0, 4, 5, 2, 3, 2, 2,\n",
              "       5, 2, 1, 1, 3, 4, 4, 2, 1, 1, 4, 4, 5, 1, 1, 1, 0, 1, 5, 1, 4, 1,\n",
              "       1, 1, 1, 4, 0, 0, 4, 1, 3, 5, 2, 2, 1, 2, 1, 0, 5, 3, 5, 5, 2, 5,\n",
              "       5, 1, 0, 1, 5, 5, 2, 1, 4, 1, 5, 4, 5, 1, 2, 1, 1, 5, 1, 5, 2, 5,\n",
              "       2, 3, 3, 5, 4, 4, 3, 0, 3, 1, 1, 2, 1, 0, 1, 5, 3, 5, 2, 2, 0, 2,\n",
              "       2, 3, 3, 0, 5, 3, 2, 2, 0, 5, 4, 0, 4, 1, 4, 2, 4, 1, 5, 3, 2, 2,\n",
              "       5, 4, 3, 3, 4, 5, 3, 4, 1, 5, 2, 3, 2, 2, 0, 2, 1, 3, 1, 2, 4, 3,\n",
              "       5, 2, 4, 2, 4, 1, 1, 3, 5, 5, 2, 2, 5, 1, 2, 1, 3, 3, 2, 5, 1, 4,\n",
              "       1, 3, 5, 5, 5, 1, 4, 2, 4])"
            ]
          },
          "metadata": {},
          "execution_count": 22
        }
      ]
    },
    {
      "cell_type": "code",
      "source": [
        "abc = preds1.astype(int).flatten()"
      ],
      "metadata": {
        "id": "H4WEmM60NfQn"
      },
      "execution_count": 23,
      "outputs": []
    },
    {
      "cell_type": "code",
      "source": [
        "from sklearn.metrics import confusion_matrix\n",
        "c = confusion_matrix(new_Ytest, abc) \n",
        "c"
      ],
      "metadata": {
        "colab": {
          "base_uri": "https://localhost:8080/"
        },
        "id": "bKEBeEBlFjB8",
        "outputId": "28b561eb-3629-4816-d4d4-e94729391802"
      },
      "execution_count": 24,
      "outputs": [
        {
          "output_type": "execute_result",
          "data": {
            "text/plain": [
              "array([[11,  5,  1,  1,  0,  0],\n",
              "       [ 2, 34,  3,  1,  0,  1],\n",
              "       [ 0,  2, 40,  0,  2,  1],\n",
              "       [ 0,  2,  1, 22,  0,  6],\n",
              "       [ 0,  0,  1,  1, 28,  3],\n",
              "       [ 2,  0,  4,  5,  0, 28]])"
            ]
          },
          "metadata": {},
          "execution_count": 24
        }
      ]
    },
    {
      "cell_type": "code",
      "source": [
        "y_test"
      ],
      "metadata": {
        "colab": {
          "base_uri": "https://localhost:8080/"
        },
        "id": "m4RjG7LWLSQx",
        "outputId": "9b979ce7-51f6-4c92-be65-6f992d8c5ecb"
      },
      "execution_count": 25,
      "outputs": [
        {
          "output_type": "execute_result",
          "data": {
            "text/plain": [
              "array([3, 3, 3, 0, 4, 4, 1, 2, 5, 0, 5, 3, 2, 2, 1, 4, 4, 5, 2, 4, 1, 2,\n",
              "       3, 5, 4, 2, 1, 2, 2, 2, 2, 5, 2, 5, 3, 1, 2, 0, 4, 5, 2, 3, 2, 2,\n",
              "       5, 2, 0, 1, 3, 4, 4, 5, 1, 1, 4, 4, 5, 1, 1, 1, 0, 1, 5, 0, 4, 1,\n",
              "       1, 0, 1, 4, 1, 0, 4, 1, 3, 1, 2, 2, 1, 2, 3, 0, 5, 3, 5, 5, 2, 4,\n",
              "       5, 1, 5, 1, 5, 3, 4, 1, 4, 1, 5, 4, 5, 1, 2, 1, 1, 5, 1, 3, 2, 5,\n",
              "       2, 1, 3, 5, 4, 4, 0, 0, 3, 1, 2, 2, 3, 5, 1, 5, 3, 4, 2, 2, 0, 2,\n",
              "       2, 5, 5, 0, 3, 3, 2, 2, 0, 3, 4, 0, 4, 2, 4, 5, 4, 1, 5, 3, 2, 2,\n",
              "       5, 4, 3, 3, 4, 3, 3, 4, 1, 5, 2, 3, 2, 2, 0, 2, 1, 3, 1, 2, 2, 5,\n",
              "       5, 1, 4, 2, 2, 1, 1, 3, 3, 5, 5, 2, 5, 1, 5, 0, 3, 3, 0, 5, 1, 4,\n",
              "       1, 4, 2, 5, 5, 1, 4, 2, 4])"
            ]
          },
          "metadata": {},
          "execution_count": 25
        }
      ]
    },
    {
      "cell_type": "code",
      "source": [
        "loss, acc =model.evaluate(x_testcnn, y_test)\n",
        "print(\"Restored model, accuracy: {:5.2f}%\".format(100*acc))"
      ],
      "metadata": {
        "colab": {
          "base_uri": "https://localhost:8080/"
        },
        "id": "n3kzoqPkDqqS",
        "outputId": "8f78539b-df44-4895-af28-af58bdbc25f5"
      },
      "execution_count": 26,
      "outputs": [
        {
          "output_type": "stream",
          "name": "stdout",
          "text": [
            "7/7 [==============================] - 0s 4ms/step - loss: 0.5274 - accuracy: 0.7874\n",
            "Restored model, accuracy: 78.74%\n"
          ]
        }
      ]
    },
    {
      "cell_type": "code",
      "source": [
        "loss, acc =model.evaluate(X_train, y_train)\n",
        "print(\"Restored model train, accuracy: {:5.2f}%\".format(100*acc))"
      ],
      "metadata": {
        "id": "fJDTGH_OUX0z",
        "colab": {
          "base_uri": "https://localhost:8080/"
        },
        "outputId": "51d121bf-95fc-4505-be30-ec2e695305dd"
      },
      "execution_count": 27,
      "outputs": [
        {
          "output_type": "stream",
          "name": "stdout",
          "text": [
            "52/52 [==============================] - 0s 4ms/step - loss: 0.1598 - accuracy: 0.9704\n",
            "Restored model train, accuracy: 97.04%\n"
          ]
        }
      ]
    },
    {
      "cell_type": "code",
      "source": [
        "from sklearn.metrics import classification_report, confusion_matrix,accuracy_score\n",
        "import seaborn as sn\n",
        "\n",
        "print(classification_report(new_Ytest,abc))\n",
        "\n",
        "acc = float(accuracy_score(new_Ytest,abc))*100\n",
        "print(\"----accuracy score %s ----\" % acc)\n",
        "\n",
        "cm = confusion_matrix(new_Ytest,abc)\n",
        "#df_cm = pd.DataFrame(cm)\n",
        "class_names = ['neutral','calm', 'happy','sad','angry', 'fearful' ]\n",
        "df_cm = pd.DataFrame(cm, index=class_names, columns=class_names,)\n",
        "sn.heatmap(df_cm, annot=True, fmt='')\n",
        "plt.show()"
      ],
      "metadata": {
        "colab": {
          "base_uri": "https://localhost:8080/",
          "height": 512
        },
        "id": "SfSC3El94LZg",
        "outputId": "5fd63989-795f-4d11-c523-78468a26c03e"
      },
      "execution_count": 28,
      "outputs": [
        {
          "output_type": "stream",
          "name": "stdout",
          "text": [
            "              precision    recall  f1-score   support\n",
            "\n",
            "           0       0.73      0.61      0.67        18\n",
            "           1       0.79      0.83      0.81        41\n",
            "           2       0.80      0.89      0.84        45\n",
            "           3       0.73      0.71      0.72        31\n",
            "           4       0.93      0.85      0.89        33\n",
            "           5       0.72      0.72      0.72        39\n",
            "\n",
            "    accuracy                           0.79       207\n",
            "   macro avg       0.78      0.77      0.77       207\n",
            "weighted avg       0.79      0.79      0.79       207\n",
            "\n",
            "----accuracy score 78.74396135265701 ----\n"
          ]
        },
        {
          "output_type": "display_data",
          "data": {
            "text/plain": [
              "<Figure size 432x288 with 2 Axes>"
            ],
            "image/png": "[encoded data removed]"
          },
          "metadata": {
            "needs_background": "light"
          }
        }
      ]
    }
  ]
}