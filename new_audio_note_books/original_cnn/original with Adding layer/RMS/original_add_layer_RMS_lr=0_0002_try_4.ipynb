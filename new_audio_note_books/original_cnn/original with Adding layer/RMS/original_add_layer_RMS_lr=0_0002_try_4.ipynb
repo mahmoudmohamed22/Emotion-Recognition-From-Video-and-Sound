{
  "nbformat": 4,
  "nbformat_minor": 0,
  "metadata": {
    "colab": {
      "name": "original add layer RMS lr=0.0002 try 4.ipynb",
      "provenance": [],
      "collapsed_sections": []
    },
    "kernelspec": {
      "name": "python3",
      "display_name": "Python 3"
    },
    "language_info": {
      "name": "python"
    },
    "accelerator": "GPU"
  },
  "cells": [
    {
      "cell_type": "code",
      "execution_count": 1,
      "metadata": {
        "colab": {
          "base_uri": "https://localhost:8080/"
        },
        "id": "9SRCO-a_AlH5",
        "outputId": "cfbc8e29-339f-49de-b24d-bab23d98d662"
      },
      "outputs": [
        {
          "output_type": "stream",
          "name": "stdout",
          "text": [
            "Drive already mounted at /content/drive; to attempt to forcibly remount, call drive.mount(\"/content/drive\", force_remount=True).\n"
          ]
        }
      ],
      "source": [
        "from google.colab import drive\n",
        "drive.mount('/content/drive')"
      ]
    },
    {
      "cell_type": "code",
      "source": [
        "!pip install librosa"
      ],
      "metadata": {
        "colab": {
          "base_uri": "https://localhost:8080/"
        },
        "id": "5Lo4mUwG9RMd",
        "outputId": "e207d5fe-8868-492d-c493-bb8455e38396"
      },
      "execution_count": 2,
      "outputs": [
        {
          "output_type": "stream",
          "name": "stdout",
          "text": [
            "Looking in indexes: https://pypi.org/simple, https://us-python.pkg.dev/colab-wheels/public/simple/\n",
            "Requirement already satisfied: librosa in /usr/local/lib/python3.7/dist-packages (0.8.1)\n",
            "Requirement already satisfied: audioread>=2.0.0 in /usr/local/lib/python3.7/dist-packages (from librosa) (2.1.9)\n",
            "Requirement already satisfied: packaging>=20.0 in /usr/local/lib/python3.7/dist-packages (from librosa) (21.3)\n",
            "Requirement already satisfied: pooch>=1.0 in /usr/local/lib/python3.7/dist-packages (from librosa) (1.6.0)\n",
            "Requirement already satisfied: decorator>=3.0.0 in /usr/local/lib/python3.7/dist-packages (from librosa) (4.4.2)\n",
            "Requirement already satisfied: resampy>=0.2.2 in /usr/local/lib/python3.7/dist-packages (from librosa) (0.2.2)\n",
            "Requirement already satisfied: scipy>=1.0.0 in /usr/local/lib/python3.7/dist-packages (from librosa) (1.4.1)\n",
            "Requirement already satisfied: numpy>=1.15.0 in /usr/local/lib/python3.7/dist-packages (from librosa) (1.21.6)\n",
            "Requirement already satisfied: soundfile>=0.10.2 in /usr/local/lib/python3.7/dist-packages (from librosa) (0.10.3.post1)\n",
            "Requirement already satisfied: joblib>=0.14 in /usr/local/lib/python3.7/dist-packages (from librosa) (1.1.0)\n",
            "Requirement already satisfied: scikit-learn!=0.19.0,>=0.14.0 in /usr/local/lib/python3.7/dist-packages (from librosa) (1.0.2)\n",
            "Requirement already satisfied: numba>=0.43.0 in /usr/local/lib/python3.7/dist-packages (from librosa) (0.51.2)\n",
            "Requirement already satisfied: setuptools in /usr/local/lib/python3.7/dist-packages (from numba>=0.43.0->librosa) (57.4.0)\n",
            "Requirement already satisfied: llvmlite<0.35,>=0.34.0.dev0 in /usr/local/lib/python3.7/dist-packages (from numba>=0.43.0->librosa) (0.34.0)\n",
            "Requirement already satisfied: pyparsing!=3.0.5,>=2.0.2 in /usr/local/lib/python3.7/dist-packages (from packaging>=20.0->librosa) (3.0.9)\n",
            "Requirement already satisfied: requests>=2.19.0 in /usr/local/lib/python3.7/dist-packages (from pooch>=1.0->librosa) (2.23.0)\n",
            "Requirement already satisfied: appdirs>=1.3.0 in /usr/local/lib/python3.7/dist-packages (from pooch>=1.0->librosa) (1.4.4)\n",
            "Requirement already satisfied: urllib3!=1.25.0,!=1.25.1,<1.26,>=1.21.1 in /usr/local/lib/python3.7/dist-packages (from requests>=2.19.0->pooch>=1.0->librosa) (1.24.3)\n",
            "Requirement already satisfied: idna<3,>=2.5 in /usr/local/lib/python3.7/dist-packages (from requests>=2.19.0->pooch>=1.0->librosa) (2.10)\n",
            "Requirement already satisfied: chardet<4,>=3.0.2 in /usr/local/lib/python3.7/dist-packages (from requests>=2.19.0->pooch>=1.0->librosa) (3.0.4)\n",
            "Requirement already satisfied: certifi>=2017.4.17 in /usr/local/lib/python3.7/dist-packages (from requests>=2.19.0->pooch>=1.0->librosa) (2022.5.18.1)\n",
            "Requirement already satisfied: six>=1.3 in /usr/local/lib/python3.7/dist-packages (from resampy>=0.2.2->librosa) (1.15.0)\n",
            "Requirement already satisfied: threadpoolctl>=2.0.0 in /usr/local/lib/python3.7/dist-packages (from scikit-learn!=0.19.0,>=0.14.0->librosa) (3.1.0)\n",
            "Requirement already satisfied: cffi>=1.0 in /usr/local/lib/python3.7/dist-packages (from soundfile>=0.10.2->librosa) (1.15.0)\n",
            "Requirement already satisfied: pycparser in /usr/local/lib/python3.7/dist-packages (from cffi>=1.0->soundfile>=0.10.2->librosa) (2.21)\n"
          ]
        }
      ]
    },
    {
      "cell_type": "code",
      "metadata": {
        "id": "HJjcbxwy46bG",
        "colab": {
          "base_uri": "https://localhost:8080/",
          "height": 17
        },
        "outputId": "c386e972-f2b8-4066-9d12-e8e51c66ae6a"
      },
      "source": [
        "# Orignial Notebook: https://github.com/MITESHPUTHRANNEU/Speech-Emotion-Analyzer/blob/master/final_results_gender_test.ipynb\n",
        "# This notebook author: Reza Chu\n",
        "# Last Editing Date: 31st May 2019\n",
        "\n",
        "## Python\n",
        "import os\n",
        "import random\n",
        "import sys\n",
        "\n",
        "import IPython\n",
        "from IPython.display import Audio\n",
        "from IPython.display import Image\n",
        "import matplotlib.pyplot as plt\n",
        "\n",
        "## Package\n",
        "import glob \n",
        "import keras\n",
        "import IPython.display as ipd\n",
        "import librosa\n",
        "import librosa.display\n",
        "import matplotlib.pyplot as plt\n",
        "import numpy as np\n",
        "import pandas as pd\n",
        "import plotly.graph_objs as go\n",
        "import plotly.offline as py\n",
        "import plotly.tools as tls\n",
        "import seaborn as sns\n",
        "import scipy.io.wavfile\n",
        "import tensorflow as tf\n",
        "py.init_notebook_mode(connected=True)\n",
        "\n",
        "## Keras\n",
        "from keras import regularizers\n",
        "from keras.callbacks import ModelCheckpoint, LearningRateScheduler, EarlyStopping\n",
        "from keras.callbacks import  History, ReduceLROnPlateau, CSVLogger\n",
        "from keras.models import Model, Sequential\n",
        "from keras.layers import Dense, Embedding, LSTM\n",
        "from keras.layers import Input, Flatten, Dropout, Activation, BatchNormalization\n",
        "from keras.layers import Conv1D, MaxPooling1D, AveragePooling1D\n",
        "from keras.preprocessing import sequence\n",
        "from keras.preprocessing.sequence import pad_sequences\n",
        "from keras.preprocessing.text import Tokenizer\n",
        "from keras.utils import np_utils\n",
        "from tensorflow.keras.utils import to_categorical\n",
        "\n",
        "## Sklearn\n",
        "from sklearn.metrics import confusion_matrix\n",
        "from sklearn.preprocessing import LabelEncoder\n",
        "\n",
        "## Rest\n",
        "from scipy.fftpack import fft\n",
        "from scipy import signal\n",
        "from scipy.io import wavfile\n",
        "from tqdm import tqdm\n",
        "\n",
        "input_duration=3\n",
        "# % pylab inline"
      ],
      "execution_count": 3,
      "outputs": [
        {
          "output_type": "display_data",
          "data": {
            "text/html": [
              "        <script type=\"text/javascript\">\n",
              "        window.PlotlyConfig = {MathJaxConfig: 'local'};\n",
              "        if (window.MathJax) {MathJax.Hub.Config({SVG: {font: \"STIX-Web\"}});}\n",
              "        if (typeof require !== 'undefined') {\n",
              "        require.undef(\"plotly\");\n",
              "        requirejs.config({\n",
              "            paths: {\n",
              "                'plotly': ['https://cdn.plot.ly/plotly-2.8.3.min']\n",
              "            }\n",
              "        });\n",
              "        require(['plotly'], function(Plotly) {\n",
              "            window._Plotly = Plotly;\n",
              "        });\n",
              "        }\n",
              "        </script>\n",
              "        "
            ]
          },
          "metadata": {}
        }
      ]
    },
    {
      "cell_type": "code",
      "source": [
        "# # Saving joblib files to not load them again with the loop above\n",
        "\n",
        "# import joblib\n",
        "\n",
        "# X_name = 'x.joblib'\n",
        "# y_name = 'y.joblib'\n",
        "# save_dir = '/content/drive/My Drive/graduation project/audio/paper_code/features'\n",
        "\n",
        "# savedX = joblib.dump(X, os.path.join(save_dir, X_name))\n",
        "# savedy = joblib.dump(y, os.path.join(save_dir, y_name))"
      ],
      "metadata": {
        "id": "UCzic8rlDcuk"
      },
      "execution_count": 4,
      "outputs": []
    },
    {
      "cell_type": "code",
      "source": [
        "# # Loading saved models\n",
        "import joblib\n",
        "X = joblib.load('/content/drive/My Drive/graduation project/audio/paper_code/features/x.joblib')\n",
        "y = joblib.load('/content/drive/My Drive/graduation project/audio/paper_code/features/y.joblib')"
      ],
      "metadata": {
        "id": "Q35CN6zDrzg1"
      },
      "execution_count": 5,
      "outputs": []
    },
    {
      "cell_type": "code",
      "source": [
        "X.shape"
      ],
      "metadata": {
        "colab": {
          "base_uri": "https://localhost:8080/"
        },
        "id": "7PSTurzjCo5K",
        "outputId": "a9565fbc-d920-4197-e006-5820f04c1a5e"
      },
      "execution_count": 6,
      "outputs": [
        {
          "output_type": "execute_result",
          "data": {
            "text/plain": [
              "(2068, 40)"
            ]
          },
          "metadata": {},
          "execution_count": 6
        }
      ]
    },
    {
      "cell_type": "code",
      "source": [
        "from sklearn.model_selection import train_test_split\n",
        "\n",
        "X_train, X_test, y_train, y_test = train_test_split(X,y, test_size=0.1 ,shuffle = True\n",
        "                                                    , random_state=42)\n",
        "X_train , X_valid, y_train, y_valid = train_test_split(X_train,y_train, test_size=0.1112305212 , shuffle = True \n",
        "                                                       , random_state=42)"
      ],
      "metadata": {
        "id": "Ai4Fy5cPCiq1"
      },
      "execution_count": 7,
      "outputs": []
    },
    {
      "cell_type": "code",
      "source": [
        "import numpy as np\n",
        "x_traincnn = np.expand_dims(X_train, axis=2)\n",
        "x_testcnn = np.expand_dims(X_test, axis=2)\n",
        "X_valid= np.expand_dims(X_valid, axis=2)"
      ],
      "metadata": {
        "id": "tp1Fm5K3CEXu"
      },
      "execution_count": 8,
      "outputs": []
    },
    {
      "cell_type": "code",
      "source": [
        "x_traincnn.shape, x_testcnn.shape , X_valid.shape\n",
        "#1861"
      ],
      "metadata": {
        "id": "RI0MxoIPBws5",
        "colab": {
          "base_uri": "https://localhost:8080/"
        },
        "outputId": "5f0774b2-32cc-4d0d-ced1-00785377d24d"
      },
      "execution_count": 9,
      "outputs": [
        {
          "output_type": "execute_result",
          "data": {
            "text/plain": [
              "((1654, 40, 1), (207, 40, 1), (207, 40, 1))"
            ]
          },
          "metadata": {},
          "execution_count": 9
        }
      ]
    },
    {
      "cell_type": "code",
      "source": [
        "!pip install tensorflow"
      ],
      "metadata": {
        "colab": {
          "base_uri": "https://localhost:8080/"
        },
        "id": "oALhiMUd9G2Y",
        "outputId": "c86b3672-5f41-46f9-d8ae-1732d7434a24"
      },
      "execution_count": 10,
      "outputs": [
        {
          "output_type": "stream",
          "name": "stdout",
          "text": [
            "Looking in indexes: https://pypi.org/simple, https://us-python.pkg.dev/colab-wheels/public/simple/\n",
            "Requirement already satisfied: tensorflow in /usr/local/lib/python3.7/dist-packages (2.8.2+zzzcolab20220527125636)\n",
            "Requirement already satisfied: tensorflow-io-gcs-filesystem>=0.23.1 in /usr/local/lib/python3.7/dist-packages (from tensorflow) (0.26.0)\n",
            "Requirement already satisfied: absl-py>=0.4.0 in /usr/local/lib/python3.7/dist-packages (from tensorflow) (1.0.0)\n",
            "Requirement already satisfied: protobuf<3.20,>=3.9.2 in /usr/local/lib/python3.7/dist-packages (from tensorflow) (3.17.3)\n",
            "Requirement already satisfied: wrapt>=1.11.0 in /usr/local/lib/python3.7/dist-packages (from tensorflow) (1.14.1)\n",
            "Requirement already satisfied: setuptools in /usr/local/lib/python3.7/dist-packages (from tensorflow) (57.4.0)\n",
            "Requirement already satisfied: gast>=0.2.1 in /usr/local/lib/python3.7/dist-packages (from tensorflow) (0.5.3)\n",
            "Requirement already satisfied: numpy>=1.20 in /usr/local/lib/python3.7/dist-packages (from tensorflow) (1.21.6)\n",
            "Requirement already satisfied: h5py>=2.9.0 in /usr/local/lib/python3.7/dist-packages (from tensorflow) (3.1.0)\n",
            "Requirement already satisfied: opt-einsum>=2.3.2 in /usr/local/lib/python3.7/dist-packages (from tensorflow) (3.3.0)\n",
            "Requirement already satisfied: termcolor>=1.1.0 in /usr/local/lib/python3.7/dist-packages (from tensorflow) (1.1.0)\n",
            "Requirement already satisfied: libclang>=9.0.1 in /usr/local/lib/python3.7/dist-packages (from tensorflow) (14.0.1)\n",
            "Requirement already satisfied: astunparse>=1.6.0 in /usr/local/lib/python3.7/dist-packages (from tensorflow) (1.6.3)\n",
            "Requirement already satisfied: google-pasta>=0.1.1 in /usr/local/lib/python3.7/dist-packages (from tensorflow) (0.2.0)\n",
            "Requirement already satisfied: keras-preprocessing>=1.1.1 in /usr/local/lib/python3.7/dist-packages (from tensorflow) (1.1.2)\n",
            "Requirement already satisfied: typing-extensions>=3.6.6 in /usr/local/lib/python3.7/dist-packages (from tensorflow) (4.2.0)\n",
            "Requirement already satisfied: six>=1.12.0 in /usr/local/lib/python3.7/dist-packages (from tensorflow) (1.15.0)\n",
            "Requirement already satisfied: tensorflow-estimator<2.9,>=2.8 in /usr/local/lib/python3.7/dist-packages (from tensorflow) (2.8.0)\n",
            "Requirement already satisfied: grpcio<2.0,>=1.24.3 in /usr/local/lib/python3.7/dist-packages (from tensorflow) (1.46.3)\n",
            "Requirement already satisfied: tensorboard<2.9,>=2.8 in /usr/local/lib/python3.7/dist-packages (from tensorflow) (2.8.0)\n",
            "Requirement already satisfied: flatbuffers>=1.12 in /usr/local/lib/python3.7/dist-packages (from tensorflow) (2.0)\n",
            "Requirement already satisfied: keras<2.9,>=2.8.0rc0 in /usr/local/lib/python3.7/dist-packages (from tensorflow) (2.8.0)\n",
            "Requirement already satisfied: wheel<1.0,>=0.23.0 in /usr/local/lib/python3.7/dist-packages (from astunparse>=1.6.0->tensorflow) (0.37.1)\n",
            "Requirement already satisfied: cached-property in /usr/local/lib/python3.7/dist-packages (from h5py>=2.9.0->tensorflow) (1.5.2)\n",
            "Requirement already satisfied: google-auth-oauthlib<0.5,>=0.4.1 in /usr/local/lib/python3.7/dist-packages (from tensorboard<2.9,>=2.8->tensorflow) (0.4.6)\n",
            "Requirement already satisfied: google-auth<3,>=1.6.3 in /usr/local/lib/python3.7/dist-packages (from tensorboard<2.9,>=2.8->tensorflow) (1.35.0)\n",
            "Requirement already satisfied: tensorboard-plugin-wit>=1.6.0 in /usr/local/lib/python3.7/dist-packages (from tensorboard<2.9,>=2.8->tensorflow) (1.8.1)\n",
            "Requirement already satisfied: markdown>=2.6.8 in /usr/local/lib/python3.7/dist-packages (from tensorboard<2.9,>=2.8->tensorflow) (3.3.7)\n",
            "Requirement already satisfied: werkzeug>=0.11.15 in /usr/local/lib/python3.7/dist-packages (from tensorboard<2.9,>=2.8->tensorflow) (1.0.1)\n",
            "Requirement already satisfied: requests<3,>=2.21.0 in /usr/local/lib/python3.7/dist-packages (from tensorboard<2.9,>=2.8->tensorflow) (2.23.0)\n",
            "Requirement already satisfied: tensorboard-data-server<0.7.0,>=0.6.0 in /usr/local/lib/python3.7/dist-packages (from tensorboard<2.9,>=2.8->tensorflow) (0.6.1)\n",
            "Requirement already satisfied: cachetools<5.0,>=2.0.0 in /usr/local/lib/python3.7/dist-packages (from google-auth<3,>=1.6.3->tensorboard<2.9,>=2.8->tensorflow) (4.2.4)\n",
            "Requirement already satisfied: pyasn1-modules>=0.2.1 in /usr/local/lib/python3.7/dist-packages (from google-auth<3,>=1.6.3->tensorboard<2.9,>=2.8->tensorflow) (0.2.8)\n",
            "Requirement already satisfied: rsa<5,>=3.1.4 in /usr/local/lib/python3.7/dist-packages (from google-auth<3,>=1.6.3->tensorboard<2.9,>=2.8->tensorflow) (4.8)\n",
            "Requirement already satisfied: requests-oauthlib>=0.7.0 in /usr/local/lib/python3.7/dist-packages (from google-auth-oauthlib<0.5,>=0.4.1->tensorboard<2.9,>=2.8->tensorflow) (1.3.1)\n",
            "Requirement already satisfied: importlib-metadata>=4.4 in /usr/local/lib/python3.7/dist-packages (from markdown>=2.6.8->tensorboard<2.9,>=2.8->tensorflow) (4.11.4)\n",
            "Requirement already satisfied: zipp>=0.5 in /usr/local/lib/python3.7/dist-packages (from importlib-metadata>=4.4->markdown>=2.6.8->tensorboard<2.9,>=2.8->tensorflow) (3.8.0)\n",
            "Requirement already satisfied: pyasn1<0.5.0,>=0.4.6 in /usr/local/lib/python3.7/dist-packages (from pyasn1-modules>=0.2.1->google-auth<3,>=1.6.3->tensorboard<2.9,>=2.8->tensorflow) (0.4.8)\n",
            "Requirement already satisfied: certifi>=2017.4.17 in /usr/local/lib/python3.7/dist-packages (from requests<3,>=2.21.0->tensorboard<2.9,>=2.8->tensorflow) (2022.5.18.1)\n",
            "Requirement already satisfied: idna<3,>=2.5 in /usr/local/lib/python3.7/dist-packages (from requests<3,>=2.21.0->tensorboard<2.9,>=2.8->tensorflow) (2.10)\n",
            "Requirement already satisfied: urllib3!=1.25.0,!=1.25.1,<1.26,>=1.21.1 in /usr/local/lib/python3.7/dist-packages (from requests<3,>=2.21.0->tensorboard<2.9,>=2.8->tensorflow) (1.24.3)\n",
            "Requirement already satisfied: chardet<4,>=3.0.2 in /usr/local/lib/python3.7/dist-packages (from requests<3,>=2.21.0->tensorboard<2.9,>=2.8->tensorflow) (3.0.4)\n",
            "Requirement already satisfied: oauthlib>=3.0.0 in /usr/local/lib/python3.7/dist-packages (from requests-oauthlib>=0.7.0->google-auth-oauthlib<0.5,>=0.4.1->tensorboard<2.9,>=2.8->tensorflow) (3.2.0)\n"
          ]
        }
      ]
    },
    {
      "cell_type": "code",
      "source": [
        "import keras\n",
        "import numpy as np\n",
        "import matplotlib.pyplot as plt\n",
        "import tensorflow as tf\n",
        "from keras.preprocessing import sequence\n",
        "from keras.models import Sequential\n",
        "from keras.layers import Dense, Embedding\n",
        "from tensorflow.keras.utils import to_categorical\n",
        "from keras.layers import Input, Flatten, Dropout, Activation\n",
        "from keras.layers import Conv1D, MaxPooling1D\n",
        "from keras.models import Model\n",
        "from keras.callbacks import ModelCheckpoint\n",
        "from tensorflow.keras import optimizers\n",
        "\n",
        "model = Sequential()\n",
        "\n",
        "model.add(Conv1D(128, 8,padding='same', #classifier.add(Convolution2D(64, (3, 3), padding = 'same', input_shape = (128, 128, 3), activation = 'relu'))\n",
        "                 input_shape=(40,1)))\n",
        "model.add(Activation('relu'))\n",
        "model.add(Dropout(0.3))\n",
        "model.add(MaxPooling1D(pool_size=(5)))\n",
        "\n",
        "\n",
        "model.add(Conv1D(256,8,padding='same',))\n",
        "model.add(Activation('relu'))\n",
        "model.add(Dropout(0.3))\n",
        "model.add(MaxPooling1D(pool_size=(5)))\n",
        "\n",
        "model.add(Conv1D(256,8,padding='same',))\n",
        "model.add(Activation('relu'))\n",
        "model.add(Dropout(0.3))\n",
        "#model.add(MaxPooling1D(pool_size=(5)))\n",
        "\n",
        "model.add(Flatten())\n",
        "\n",
        "model.add(Dense(256))\n",
        "model.add(Activation('relu'))\n",
        "model.add(Dense(256))\n",
        "model.add(Activation('relu'))\n",
        "\n",
        "model.add(Dense(6))\n",
        "model.add(Activation('softmax'))\n",
        "\n",
        "\n",
        "opt = tf.keras.optimizers.RMSprop(lr=0.0002 , decay=0.0)\n",
        "#opt = tf.keras.optimizers.Adam(lr=0.0002 , decay=0.0)\n",
        "#opt = tf.keras.optimizers.RMSprop(lr=0.0001, rho=0.9, epsilon=1e-07, decay=0.0)\n",
        "#opt = tf.keras.optimizers.SGD(lr=0.001, momentum=0.0, decay=0.0, nesterov=False)"
      ],
      "metadata": {
        "id": "g74fXWVAC4Cr",
        "colab": {
          "base_uri": "https://localhost:8080/"
        },
        "outputId": "5dda5850-e6d8-4a3b-a7df-3944d5cb1cf0"
      },
      "execution_count": 11,
      "outputs": [
        {
          "output_type": "stream",
          "name": "stderr",
          "text": [
            "/usr/local/lib/python3.7/dist-packages/keras/optimizer_v2/rmsprop.py:130: UserWarning:\n",
            "\n",
            "The `lr` argument is deprecated, use `learning_rate` instead.\n",
            "\n"
          ]
        }
      ]
    },
    {
      "cell_type": "code",
      "source": [
        "model.summary()"
      ],
      "metadata": {
        "colab": {
          "base_uri": "https://localhost:8080/"
        },
        "id": "H6ukOxAGC_I4",
        "outputId": "23e796ba-5e89-4ec1-af84-2036ae069e1a"
      },
      "execution_count": 12,
      "outputs": [
        {
          "output_type": "stream",
          "name": "stdout",
          "text": [
            "Model: \"sequential\"\n",
            "_________________________________________________________________\n",
            " Layer (type)                Output Shape              Param #   \n",
            "=================================================================\n",
            " conv1d (Conv1D)             (None, 40, 128)           1152      \n",
            "                                                                 \n",
            " activation (Activation)     (None, 40, 128)           0         \n",
            "                                                                 \n",
            " dropout (Dropout)           (None, 40, 128)           0         \n",
            "                                                                 \n",
            " max_pooling1d (MaxPooling1D  (None, 8, 128)           0         \n",
            " )                                                               \n",
            "                                                                 \n",
            " conv1d_1 (Conv1D)           (None, 8, 256)            262400    \n",
            "                                                                 \n",
            " activation_1 (Activation)   (None, 8, 256)            0         \n",
            "                                                                 \n",
            " dropout_1 (Dropout)         (None, 8, 256)            0         \n",
            "                                                                 \n",
            " max_pooling1d_1 (MaxPooling  (None, 1, 256)           0         \n",
            " 1D)                                                             \n",
            "                                                                 \n",
            " conv1d_2 (Conv1D)           (None, 1, 256)            524544    \n",
            "                                                                 \n",
            " activation_2 (Activation)   (None, 1, 256)            0         \n",
            "                                                                 \n",
            " dropout_2 (Dropout)         (None, 1, 256)            0         \n",
            "                                                                 \n",
            " flatten (Flatten)           (None, 256)               0         \n",
            "                                                                 \n",
            " dense (Dense)               (None, 256)               65792     \n",
            "                                                                 \n",
            " activation_3 (Activation)   (None, 256)               0         \n",
            "                                                                 \n",
            " dense_1 (Dense)             (None, 256)               65792     \n",
            "                                                                 \n",
            " activation_4 (Activation)   (None, 256)               0         \n",
            "                                                                 \n",
            " dense_2 (Dense)             (None, 6)                 1542      \n",
            "                                                                 \n",
            " activation_5 (Activation)   (None, 6)                 0         \n",
            "                                                                 \n",
            "=================================================================\n",
            "Total params: 921,222\n",
            "Trainable params: 921,222\n",
            "Non-trainable params: 0\n",
            "_________________________________________________________________\n"
          ]
        }
      ]
    },
    {
      "cell_type": "code",
      "source": [
        "model.compile(loss='sparse_categorical_crossentropy',\n",
        "              optimizer=opt,\n",
        "              metrics=['accuracy'])"
      ],
      "metadata": {
        "id": "AbMlLNk4DCBM"
      },
      "execution_count": 13,
      "outputs": []
    },
    {
      "cell_type": "code",
      "source": [
        "# Create an Instance of Early Stopping Callback.\n",
        "early_stopping_callback = EarlyStopping(monitor = 'val_loss', patience = 25, mode = 'min', restore_best_weights = True)\n",
        "\n",
        "cnnhistory=model.fit(x_traincnn, y_train, batch_size=16, epochs=500 , shuffle = True, \n",
        "                     validation_data=(X_valid, y_valid) , callbacks = [early_stopping_callback])"
      ],
      "metadata": {
        "colab": {
          "base_uri": "https://localhost:8080/"
        },
        "id": "RI1v2AuADFhy",
        "outputId": "05805d1b-f242-483a-e173-1f627cfd1380"
      },
      "execution_count": 14,
      "outputs": [
        {
          "output_type": "stream",
          "name": "stdout",
          "text": [
            "Epoch 1/500\n",
            "104/104 [==============================] - 5s 14ms/step - loss: 2.1791 - accuracy: 0.1904 - val_loss: 1.8161 - val_accuracy: 0.1787\n",
            "Epoch 2/500\n",
            "104/104 [==============================] - 1s 10ms/step - loss: 1.8922 - accuracy: 0.1844 - val_loss: 1.8062 - val_accuracy: 0.2271\n",
            "Epoch 3/500\n",
            "104/104 [==============================] - 1s 11ms/step - loss: 1.8341 - accuracy: 0.1965 - val_loss: 1.7850 - val_accuracy: 0.2029\n",
            "Epoch 4/500\n",
            "104/104 [==============================] - 1s 11ms/step - loss: 1.8100 - accuracy: 0.1947 - val_loss: 1.7961 - val_accuracy: 0.2512\n",
            "Epoch 5/500\n",
            "104/104 [==============================] - 1s 12ms/step - loss: 1.7949 - accuracy: 0.2050 - val_loss: 1.7688 - val_accuracy: 0.1932\n",
            "Epoch 6/500\n",
            "104/104 [==============================] - 1s 10ms/step - loss: 1.7780 - accuracy: 0.2201 - val_loss: 1.7480 - val_accuracy: 0.2126\n",
            "Epoch 7/500\n",
            "104/104 [==============================] - 1s 9ms/step - loss: 1.7759 - accuracy: 0.2116 - val_loss: 1.7541 - val_accuracy: 0.2174\n",
            "Epoch 8/500\n",
            "104/104 [==============================] - 1s 10ms/step - loss: 1.7665 - accuracy: 0.2279 - val_loss: 1.7301 - val_accuracy: 0.2319\n",
            "Epoch 9/500\n",
            "104/104 [==============================] - 1s 9ms/step - loss: 1.7291 - accuracy: 0.2485 - val_loss: 1.7079 - val_accuracy: 0.2609\n",
            "Epoch 10/500\n",
            "104/104 [==============================] - 1s 10ms/step - loss: 1.7140 - accuracy: 0.2588 - val_loss: 1.7677 - val_accuracy: 0.1691\n",
            "Epoch 11/500\n",
            "104/104 [==============================] - 1s 11ms/step - loss: 1.7165 - accuracy: 0.2678 - val_loss: 1.7050 - val_accuracy: 0.2560\n",
            "Epoch 12/500\n",
            "104/104 [==============================] - 1s 10ms/step - loss: 1.6972 - accuracy: 0.2545 - val_loss: 1.6417 - val_accuracy: 0.3961\n",
            "Epoch 13/500\n",
            "104/104 [==============================] - 1s 10ms/step - loss: 1.6740 - accuracy: 0.2932 - val_loss: 1.6626 - val_accuracy: 0.3043\n",
            "Epoch 14/500\n",
            "104/104 [==============================] - 1s 10ms/step - loss: 1.6626 - accuracy: 0.2926 - val_loss: 1.6896 - val_accuracy: 0.2705\n",
            "Epoch 15/500\n",
            "104/104 [==============================] - 1s 11ms/step - loss: 1.6369 - accuracy: 0.2775 - val_loss: 1.5930 - val_accuracy: 0.3720\n",
            "Epoch 16/500\n",
            "104/104 [==============================] - 1s 12ms/step - loss: 1.6170 - accuracy: 0.2896 - val_loss: 1.5907 - val_accuracy: 0.3478\n",
            "Epoch 17/500\n",
            "104/104 [==============================] - 1s 11ms/step - loss: 1.6062 - accuracy: 0.3065 - val_loss: 1.6316 - val_accuracy: 0.3043\n",
            "Epoch 18/500\n",
            "104/104 [==============================] - 1s 9ms/step - loss: 1.5767 - accuracy: 0.3222 - val_loss: 1.5871 - val_accuracy: 0.3478\n",
            "Epoch 19/500\n",
            "104/104 [==============================] - 1s 10ms/step - loss: 1.5565 - accuracy: 0.3319 - val_loss: 1.5491 - val_accuracy: 0.3092\n",
            "Epoch 20/500\n",
            "104/104 [==============================] - 1s 11ms/step - loss: 1.5428 - accuracy: 0.3343 - val_loss: 1.5650 - val_accuracy: 0.3527\n",
            "Epoch 21/500\n",
            "104/104 [==============================] - 1s 13ms/step - loss: 1.5275 - accuracy: 0.3489 - val_loss: 1.5479 - val_accuracy: 0.3430\n",
            "Epoch 22/500\n",
            "104/104 [==============================] - 1s 9ms/step - loss: 1.5303 - accuracy: 0.3434 - val_loss: 1.5683 - val_accuracy: 0.3285\n",
            "Epoch 23/500\n",
            "104/104 [==============================] - 1s 9ms/step - loss: 1.4886 - accuracy: 0.3724 - val_loss: 1.5147 - val_accuracy: 0.4203\n",
            "Epoch 24/500\n",
            "104/104 [==============================] - 1s 9ms/step - loss: 1.4736 - accuracy: 0.3736 - val_loss: 1.4750 - val_accuracy: 0.4203\n",
            "Epoch 25/500\n",
            "104/104 [==============================] - 1s 6ms/step - loss: 1.4563 - accuracy: 0.3942 - val_loss: 1.4252 - val_accuracy: 0.4010\n",
            "Epoch 26/500\n",
            "104/104 [==============================] - 1s 6ms/step - loss: 1.4065 - accuracy: 0.4008 - val_loss: 1.4021 - val_accuracy: 0.4058\n",
            "Epoch 27/500\n",
            "104/104 [==============================] - 1s 6ms/step - loss: 1.4119 - accuracy: 0.4141 - val_loss: 1.3972 - val_accuracy: 0.4396\n",
            "Epoch 28/500\n",
            "104/104 [==============================] - 1s 7ms/step - loss: 1.3750 - accuracy: 0.4238 - val_loss: 1.3328 - val_accuracy: 0.4686\n",
            "Epoch 29/500\n",
            "104/104 [==============================] - 1s 6ms/step - loss: 1.3486 - accuracy: 0.4353 - val_loss: 1.3402 - val_accuracy: 0.4493\n",
            "Epoch 30/500\n",
            "104/104 [==============================] - 1s 6ms/step - loss: 1.3268 - accuracy: 0.4486 - val_loss: 1.2877 - val_accuracy: 0.5169\n",
            "Epoch 31/500\n",
            "104/104 [==============================] - 1s 6ms/step - loss: 1.3078 - accuracy: 0.4637 - val_loss: 1.2562 - val_accuracy: 0.4879\n",
            "Epoch 32/500\n",
            "104/104 [==============================] - 1s 6ms/step - loss: 1.2969 - accuracy: 0.4601 - val_loss: 1.2526 - val_accuracy: 0.4589\n",
            "Epoch 33/500\n",
            "104/104 [==============================] - 1s 6ms/step - loss: 1.2540 - accuracy: 0.4927 - val_loss: 1.2597 - val_accuracy: 0.4396\n",
            "Epoch 34/500\n",
            "104/104 [==============================] - 1s 6ms/step - loss: 1.2514 - accuracy: 0.4873 - val_loss: 1.2072 - val_accuracy: 0.5072\n",
            "Epoch 35/500\n",
            "104/104 [==============================] - 1s 6ms/step - loss: 1.2196 - accuracy: 0.4964 - val_loss: 1.2335 - val_accuracy: 0.5266\n",
            "Epoch 36/500\n",
            "104/104 [==============================] - 1s 6ms/step - loss: 1.1834 - accuracy: 0.5163 - val_loss: 1.2123 - val_accuracy: 0.4734\n",
            "Epoch 37/500\n",
            "104/104 [==============================] - 1s 6ms/step - loss: 1.1635 - accuracy: 0.5212 - val_loss: 1.1764 - val_accuracy: 0.5217\n",
            "Epoch 38/500\n",
            "104/104 [==============================] - 1s 6ms/step - loss: 1.1542 - accuracy: 0.5248 - val_loss: 1.2275 - val_accuracy: 0.4493\n",
            "Epoch 39/500\n",
            "104/104 [==============================] - 1s 6ms/step - loss: 1.1453 - accuracy: 0.5218 - val_loss: 1.1546 - val_accuracy: 0.5121\n",
            "Epoch 40/500\n",
            "104/104 [==============================] - 1s 6ms/step - loss: 1.1387 - accuracy: 0.5423 - val_loss: 1.1042 - val_accuracy: 0.5266\n",
            "Epoch 41/500\n",
            "104/104 [==============================] - 1s 6ms/step - loss: 1.1144 - accuracy: 0.5411 - val_loss: 1.1080 - val_accuracy: 0.5266\n",
            "Epoch 42/500\n",
            "104/104 [==============================] - 1s 7ms/step - loss: 1.1036 - accuracy: 0.5496 - val_loss: 1.1336 - val_accuracy: 0.4928\n",
            "Epoch 43/500\n",
            "104/104 [==============================] - 1s 6ms/step - loss: 1.1011 - accuracy: 0.5435 - val_loss: 1.0911 - val_accuracy: 0.5749\n",
            "Epoch 44/500\n",
            "104/104 [==============================] - 1s 7ms/step - loss: 1.0681 - accuracy: 0.5599 - val_loss: 1.0603 - val_accuracy: 0.5749\n",
            "Epoch 45/500\n",
            "104/104 [==============================] - 1s 6ms/step - loss: 1.0638 - accuracy: 0.5617 - val_loss: 1.0225 - val_accuracy: 0.5700\n",
            "Epoch 46/500\n",
            "104/104 [==============================] - 1s 6ms/step - loss: 1.0644 - accuracy: 0.5599 - val_loss: 1.0974 - val_accuracy: 0.5121\n",
            "Epoch 47/500\n",
            "104/104 [==============================] - 1s 6ms/step - loss: 1.0259 - accuracy: 0.5780 - val_loss: 0.9868 - val_accuracy: 0.5990\n",
            "Epoch 48/500\n",
            "104/104 [==============================] - 1s 6ms/step - loss: 1.0239 - accuracy: 0.5925 - val_loss: 1.0695 - val_accuracy: 0.5459\n",
            "Epoch 49/500\n",
            "104/104 [==============================] - 1s 7ms/step - loss: 0.9996 - accuracy: 0.5907 - val_loss: 0.9585 - val_accuracy: 0.6184\n",
            "Epoch 50/500\n",
            "104/104 [==============================] - 1s 6ms/step - loss: 0.9942 - accuracy: 0.5998 - val_loss: 1.0523 - val_accuracy: 0.5169\n",
            "Epoch 51/500\n",
            "104/104 [==============================] - 1s 7ms/step - loss: 0.9939 - accuracy: 0.5925 - val_loss: 1.0146 - val_accuracy: 0.5507\n",
            "Epoch 52/500\n",
            "104/104 [==============================] - 1s 5ms/step - loss: 0.9639 - accuracy: 0.6288 - val_loss: 0.9801 - val_accuracy: 0.5942\n",
            "Epoch 53/500\n",
            "104/104 [==============================] - 1s 7ms/step - loss: 0.9825 - accuracy: 0.6076 - val_loss: 1.0540 - val_accuracy: 0.5797\n",
            "Epoch 54/500\n",
            "104/104 [==============================] - 1s 6ms/step - loss: 0.9676 - accuracy: 0.5961 - val_loss: 0.9625 - val_accuracy: 0.6377\n",
            "Epoch 55/500\n",
            "104/104 [==============================] - 1s 6ms/step - loss: 0.9508 - accuracy: 0.6100 - val_loss: 0.9428 - val_accuracy: 0.6473\n",
            "Epoch 56/500\n",
            "104/104 [==============================] - 1s 6ms/step - loss: 0.9608 - accuracy: 0.6155 - val_loss: 0.9684 - val_accuracy: 0.5845\n",
            "Epoch 57/500\n",
            "104/104 [==============================] - 1s 6ms/step - loss: 0.9519 - accuracy: 0.6215 - val_loss: 0.9032 - val_accuracy: 0.6377\n",
            "Epoch 58/500\n",
            "104/104 [==============================] - 1s 6ms/step - loss: 0.9024 - accuracy: 0.6366 - val_loss: 0.9079 - val_accuracy: 0.6522\n",
            "Epoch 59/500\n",
            "104/104 [==============================] - 1s 6ms/step - loss: 0.9013 - accuracy: 0.6427 - val_loss: 0.9178 - val_accuracy: 0.5942\n",
            "Epoch 60/500\n",
            "104/104 [==============================] - 1s 7ms/step - loss: 0.8830 - accuracy: 0.6421 - val_loss: 0.9038 - val_accuracy: 0.6570\n",
            "Epoch 61/500\n",
            "104/104 [==============================] - 1s 6ms/step - loss: 0.9035 - accuracy: 0.6554 - val_loss: 0.8675 - val_accuracy: 0.6473\n",
            "Epoch 62/500\n",
            "104/104 [==============================] - 1s 6ms/step - loss: 0.8756 - accuracy: 0.6524 - val_loss: 0.8852 - val_accuracy: 0.6522\n",
            "Epoch 63/500\n",
            "104/104 [==============================] - 1s 6ms/step - loss: 0.8808 - accuracy: 0.6451 - val_loss: 0.8617 - val_accuracy: 0.6715\n",
            "Epoch 64/500\n",
            "104/104 [==============================] - 1s 7ms/step - loss: 0.8830 - accuracy: 0.6524 - val_loss: 0.8510 - val_accuracy: 0.6473\n",
            "Epoch 65/500\n",
            "104/104 [==============================] - 1s 6ms/step - loss: 0.8648 - accuracy: 0.6572 - val_loss: 0.8560 - val_accuracy: 0.6957\n",
            "Epoch 66/500\n",
            "104/104 [==============================] - 1s 7ms/step - loss: 0.8535 - accuracy: 0.6608 - val_loss: 0.8172 - val_accuracy: 0.7005\n",
            "Epoch 67/500\n",
            "104/104 [==============================] - 1s 6ms/step - loss: 0.8415 - accuracy: 0.6602 - val_loss: 0.8236 - val_accuracy: 0.7101\n",
            "Epoch 68/500\n",
            "104/104 [==============================] - 1s 6ms/step - loss: 0.8492 - accuracy: 0.6572 - val_loss: 0.8471 - val_accuracy: 0.6425\n",
            "Epoch 69/500\n",
            "104/104 [==============================] - 1s 6ms/step - loss: 0.8434 - accuracy: 0.6778 - val_loss: 0.8475 - val_accuracy: 0.6232\n",
            "Epoch 70/500\n",
            "104/104 [==============================] - 1s 6ms/step - loss: 0.8310 - accuracy: 0.6675 - val_loss: 0.8176 - val_accuracy: 0.7101\n",
            "Epoch 71/500\n",
            "104/104 [==============================] - 1s 7ms/step - loss: 0.7887 - accuracy: 0.6929 - val_loss: 0.8185 - val_accuracy: 0.6522\n",
            "Epoch 72/500\n",
            "104/104 [==============================] - 1s 5ms/step - loss: 0.8278 - accuracy: 0.6663 - val_loss: 0.8526 - val_accuracy: 0.6280\n",
            "Epoch 73/500\n",
            "104/104 [==============================] - 1s 6ms/step - loss: 0.8034 - accuracy: 0.6850 - val_loss: 0.8128 - val_accuracy: 0.6957\n",
            "Epoch 74/500\n",
            "104/104 [==============================] - 1s 5ms/step - loss: 0.7747 - accuracy: 0.6850 - val_loss: 0.8680 - val_accuracy: 0.6763\n",
            "Epoch 75/500\n",
            "104/104 [==============================] - 1s 6ms/step - loss: 0.7815 - accuracy: 0.6904 - val_loss: 0.8398 - val_accuracy: 0.6667\n",
            "Epoch 76/500\n",
            "104/104 [==============================] - 1s 6ms/step - loss: 0.7753 - accuracy: 0.6917 - val_loss: 0.7552 - val_accuracy: 0.7585\n",
            "Epoch 77/500\n",
            "104/104 [==============================] - 1s 5ms/step - loss: 0.7970 - accuracy: 0.6953 - val_loss: 0.7917 - val_accuracy: 0.6957\n",
            "Epoch 78/500\n",
            "104/104 [==============================] - 1s 5ms/step - loss: 0.7818 - accuracy: 0.6850 - val_loss: 0.7827 - val_accuracy: 0.7198\n",
            "Epoch 79/500\n",
            "104/104 [==============================] - 1s 6ms/step - loss: 0.7656 - accuracy: 0.7037 - val_loss: 0.8884 - val_accuracy: 0.6522\n",
            "Epoch 80/500\n",
            "104/104 [==============================] - 1s 6ms/step - loss: 0.7576 - accuracy: 0.7092 - val_loss: 0.7825 - val_accuracy: 0.7246\n",
            "Epoch 81/500\n",
            "104/104 [==============================] - 1s 6ms/step - loss: 0.7495 - accuracy: 0.7013 - val_loss: 0.8384 - val_accuracy: 0.6473\n",
            "Epoch 82/500\n",
            "104/104 [==============================] - 1s 5ms/step - loss: 0.7443 - accuracy: 0.7098 - val_loss: 0.7245 - val_accuracy: 0.7343\n",
            "Epoch 83/500\n",
            "104/104 [==============================] - 1s 6ms/step - loss: 0.7410 - accuracy: 0.7080 - val_loss: 0.8294 - val_accuracy: 0.7053\n",
            "Epoch 84/500\n",
            "104/104 [==============================] - 1s 5ms/step - loss: 0.7281 - accuracy: 0.7116 - val_loss: 0.6857 - val_accuracy: 0.7488\n",
            "Epoch 85/500\n",
            "104/104 [==============================] - 1s 6ms/step - loss: 0.7022 - accuracy: 0.7249 - val_loss: 0.7942 - val_accuracy: 0.7198\n",
            "Epoch 86/500\n",
            "104/104 [==============================] - 1s 6ms/step - loss: 0.7349 - accuracy: 0.7080 - val_loss: 0.7733 - val_accuracy: 0.7246\n",
            "Epoch 87/500\n",
            "104/104 [==============================] - 1s 6ms/step - loss: 0.7448 - accuracy: 0.7140 - val_loss: 0.8070 - val_accuracy: 0.7198\n",
            "Epoch 88/500\n",
            "104/104 [==============================] - 1s 6ms/step - loss: 0.7223 - accuracy: 0.7025 - val_loss: 0.7457 - val_accuracy: 0.7343\n",
            "Epoch 89/500\n",
            "104/104 [==============================] - 1s 9ms/step - loss: 0.7446 - accuracy: 0.7134 - val_loss: 0.8210 - val_accuracy: 0.6812\n",
            "Epoch 90/500\n",
            "104/104 [==============================] - 1s 7ms/step - loss: 0.7088 - accuracy: 0.7104 - val_loss: 0.7902 - val_accuracy: 0.6715\n",
            "Epoch 91/500\n",
            "104/104 [==============================] - 1s 7ms/step - loss: 0.7046 - accuracy: 0.7310 - val_loss: 0.7115 - val_accuracy: 0.7391\n",
            "Epoch 92/500\n",
            "104/104 [==============================] - 1s 7ms/step - loss: 0.6930 - accuracy: 0.7297 - val_loss: 0.7594 - val_accuracy: 0.7005\n",
            "Epoch 93/500\n",
            "104/104 [==============================] - 1s 6ms/step - loss: 0.7139 - accuracy: 0.7370 - val_loss: 0.7506 - val_accuracy: 0.7150\n",
            "Epoch 94/500\n",
            "104/104 [==============================] - 1s 7ms/step - loss: 0.6739 - accuracy: 0.7310 - val_loss: 0.7390 - val_accuracy: 0.6860\n",
            "Epoch 95/500\n",
            "104/104 [==============================] - 1s 6ms/step - loss: 0.6831 - accuracy: 0.7467 - val_loss: 0.7207 - val_accuracy: 0.7246\n",
            "Epoch 96/500\n",
            "104/104 [==============================] - 1s 7ms/step - loss: 0.6946 - accuracy: 0.7316 - val_loss: 0.7970 - val_accuracy: 0.6812\n",
            "Epoch 97/500\n",
            "104/104 [==============================] - 1s 6ms/step - loss: 0.6721 - accuracy: 0.7400 - val_loss: 0.7159 - val_accuracy: 0.7343\n",
            "Epoch 98/500\n",
            "104/104 [==============================] - 1s 6ms/step - loss: 0.6764 - accuracy: 0.7322 - val_loss: 0.7884 - val_accuracy: 0.6715\n",
            "Epoch 99/500\n",
            "104/104 [==============================] - 1s 6ms/step - loss: 0.6609 - accuracy: 0.7352 - val_loss: 0.8215 - val_accuracy: 0.6763\n",
            "Epoch 100/500\n",
            "104/104 [==============================] - 1s 6ms/step - loss: 0.6407 - accuracy: 0.7485 - val_loss: 0.7378 - val_accuracy: 0.7440\n",
            "Epoch 101/500\n",
            "104/104 [==============================] - 1s 7ms/step - loss: 0.6356 - accuracy: 0.7509 - val_loss: 0.8176 - val_accuracy: 0.6618\n",
            "Epoch 102/500\n",
            "104/104 [==============================] - 1s 6ms/step - loss: 0.6789 - accuracy: 0.7418 - val_loss: 0.7232 - val_accuracy: 0.7391\n",
            "Epoch 103/500\n",
            "104/104 [==============================] - 1s 7ms/step - loss: 0.6511 - accuracy: 0.7437 - val_loss: 0.7091 - val_accuracy: 0.7343\n",
            "Epoch 104/500\n",
            "104/104 [==============================] - 1s 6ms/step - loss: 0.6757 - accuracy: 0.7461 - val_loss: 0.8932 - val_accuracy: 0.6908\n",
            "Epoch 105/500\n",
            "104/104 [==============================] - 1s 6ms/step - loss: 0.6647 - accuracy: 0.7497 - val_loss: 0.8109 - val_accuracy: 0.7101\n",
            "Epoch 106/500\n",
            "104/104 [==============================] - 1s 6ms/step - loss: 0.6201 - accuracy: 0.7539 - val_loss: 0.7014 - val_accuracy: 0.7729\n",
            "Epoch 107/500\n",
            "104/104 [==============================] - 1s 6ms/step - loss: 0.6322 - accuracy: 0.7467 - val_loss: 0.8097 - val_accuracy: 0.7101\n",
            "Epoch 108/500\n",
            "104/104 [==============================] - 1s 7ms/step - loss: 0.6211 - accuracy: 0.7479 - val_loss: 0.6789 - val_accuracy: 0.7633\n",
            "Epoch 109/500\n",
            "104/104 [==============================] - 1s 6ms/step - loss: 0.6327 - accuracy: 0.7582 - val_loss: 0.7499 - val_accuracy: 0.7053\n",
            "Epoch 110/500\n",
            "104/104 [==============================] - 1s 6ms/step - loss: 0.6217 - accuracy: 0.7545 - val_loss: 0.7546 - val_accuracy: 0.7246\n",
            "Epoch 111/500\n",
            "104/104 [==============================] - 1s 6ms/step - loss: 0.6519 - accuracy: 0.7467 - val_loss: 0.6798 - val_accuracy: 0.7488\n",
            "Epoch 112/500\n",
            "104/104 [==============================] - 1s 7ms/step - loss: 0.6150 - accuracy: 0.7521 - val_loss: 0.7054 - val_accuracy: 0.7198\n",
            "Epoch 113/500\n",
            "104/104 [==============================] - 1s 5ms/step - loss: 0.6315 - accuracy: 0.7588 - val_loss: 0.8099 - val_accuracy: 0.6812\n",
            "Epoch 114/500\n",
            "104/104 [==============================] - 1s 7ms/step - loss: 0.6002 - accuracy: 0.7672 - val_loss: 0.6827 - val_accuracy: 0.7295\n",
            "Epoch 115/500\n",
            "104/104 [==============================] - 1s 6ms/step - loss: 0.6165 - accuracy: 0.7660 - val_loss: 0.7229 - val_accuracy: 0.7440\n",
            "Epoch 116/500\n",
            "104/104 [==============================] - 1s 6ms/step - loss: 0.6116 - accuracy: 0.7594 - val_loss: 0.6986 - val_accuracy: 0.7391\n",
            "Epoch 117/500\n",
            "104/104 [==============================] - 1s 6ms/step - loss: 0.6091 - accuracy: 0.7739 - val_loss: 0.6695 - val_accuracy: 0.7391\n",
            "Epoch 118/500\n",
            "104/104 [==============================] - 1s 6ms/step - loss: 0.6248 - accuracy: 0.7684 - val_loss: 0.8088 - val_accuracy: 0.6957\n",
            "Epoch 119/500\n",
            "104/104 [==============================] - 1s 6ms/step - loss: 0.5853 - accuracy: 0.7787 - val_loss: 0.6462 - val_accuracy: 0.7826\n",
            "Epoch 120/500\n",
            "104/104 [==============================] - 1s 6ms/step - loss: 0.5727 - accuracy: 0.7817 - val_loss: 0.7769 - val_accuracy: 0.7150\n",
            "Epoch 121/500\n",
            "104/104 [==============================] - 1s 6ms/step - loss: 0.5847 - accuracy: 0.7642 - val_loss: 0.6971 - val_accuracy: 0.7343\n",
            "Epoch 122/500\n",
            "104/104 [==============================] - 1s 6ms/step - loss: 0.5736 - accuracy: 0.7914 - val_loss: 0.8444 - val_accuracy: 0.7053\n",
            "Epoch 123/500\n",
            "104/104 [==============================] - 1s 7ms/step - loss: 0.5594 - accuracy: 0.7884 - val_loss: 0.7177 - val_accuracy: 0.7633\n",
            "Epoch 124/500\n",
            "104/104 [==============================] - 1s 10ms/step - loss: 0.5712 - accuracy: 0.7811 - val_loss: 0.8188 - val_accuracy: 0.7005\n",
            "Epoch 125/500\n",
            "104/104 [==============================] - 1s 7ms/step - loss: 0.5636 - accuracy: 0.7805 - val_loss: 0.8065 - val_accuracy: 0.7391\n",
            "Epoch 126/500\n",
            "104/104 [==============================] - 1s 6ms/step - loss: 0.5885 - accuracy: 0.7763 - val_loss: 0.6733 - val_accuracy: 0.7729\n",
            "Epoch 127/500\n",
            "104/104 [==============================] - 1s 7ms/step - loss: 0.5471 - accuracy: 0.7950 - val_loss: 0.7067 - val_accuracy: 0.7101\n",
            "Epoch 128/500\n",
            "104/104 [==============================] - 1s 6ms/step - loss: 0.5892 - accuracy: 0.7733 - val_loss: 0.6545 - val_accuracy: 0.7923\n",
            "Epoch 129/500\n",
            "104/104 [==============================] - 1s 7ms/step - loss: 0.5726 - accuracy: 0.7878 - val_loss: 0.7164 - val_accuracy: 0.7295\n",
            "Epoch 130/500\n",
            "104/104 [==============================] - 1s 6ms/step - loss: 0.5501 - accuracy: 0.7908 - val_loss: 0.6766 - val_accuracy: 0.7488\n",
            "Epoch 131/500\n",
            "104/104 [==============================] - 1s 7ms/step - loss: 0.5779 - accuracy: 0.7751 - val_loss: 0.6798 - val_accuracy: 0.7343\n",
            "Epoch 132/500\n",
            "104/104 [==============================] - 1s 6ms/step - loss: 0.5607 - accuracy: 0.7932 - val_loss: 0.7476 - val_accuracy: 0.6763\n",
            "Epoch 133/500\n",
            "104/104 [==============================] - 1s 6ms/step - loss: 0.5381 - accuracy: 0.7963 - val_loss: 0.6950 - val_accuracy: 0.7585\n",
            "Epoch 134/500\n",
            "104/104 [==============================] - 1s 7ms/step - loss: 0.5605 - accuracy: 0.7987 - val_loss: 0.6617 - val_accuracy: 0.7391\n",
            "Epoch 135/500\n",
            "104/104 [==============================] - 1s 6ms/step - loss: 0.5338 - accuracy: 0.7926 - val_loss: 0.9685 - val_accuracy: 0.6667\n",
            "Epoch 136/500\n",
            "104/104 [==============================] - 1s 6ms/step - loss: 0.5328 - accuracy: 0.7969 - val_loss: 0.7692 - val_accuracy: 0.6812\n",
            "Epoch 137/500\n",
            "104/104 [==============================] - 1s 6ms/step - loss: 0.5807 - accuracy: 0.7956 - val_loss: 0.6260 - val_accuracy: 0.7778\n",
            "Epoch 138/500\n",
            "104/104 [==============================] - 1s 11ms/step - loss: 0.5414 - accuracy: 0.7956 - val_loss: 0.6817 - val_accuracy: 0.7295\n",
            "Epoch 139/500\n",
            "104/104 [==============================] - 1s 10ms/step - loss: 0.5273 - accuracy: 0.8071 - val_loss: 0.6578 - val_accuracy: 0.7246\n",
            "Epoch 140/500\n",
            "104/104 [==============================] - 1s 9ms/step - loss: 0.5196 - accuracy: 0.8011 - val_loss: 0.6571 - val_accuracy: 0.7585\n",
            "Epoch 141/500\n",
            "104/104 [==============================] - 1s 6ms/step - loss: 0.5265 - accuracy: 0.7993 - val_loss: 0.7568 - val_accuracy: 0.7198\n",
            "Epoch 142/500\n",
            "104/104 [==============================] - 1s 6ms/step - loss: 0.4988 - accuracy: 0.8102 - val_loss: 0.6482 - val_accuracy: 0.7391\n",
            "Epoch 143/500\n",
            "104/104 [==============================] - 1s 6ms/step - loss: 0.5319 - accuracy: 0.8023 - val_loss: 0.6869 - val_accuracy: 0.7585\n",
            "Epoch 144/500\n",
            "104/104 [==============================] - 1s 6ms/step - loss: 0.5445 - accuracy: 0.7926 - val_loss: 0.7467 - val_accuracy: 0.7391\n",
            "Epoch 145/500\n",
            "104/104 [==============================] - 1s 7ms/step - loss: 0.5079 - accuracy: 0.8114 - val_loss: 0.6751 - val_accuracy: 0.7343\n",
            "Epoch 146/500\n",
            "104/104 [==============================] - 1s 7ms/step - loss: 0.5207 - accuracy: 0.8065 - val_loss: 0.6421 - val_accuracy: 0.7488\n",
            "Epoch 147/500\n",
            "104/104 [==============================] - 1s 9ms/step - loss: 0.5116 - accuracy: 0.8102 - val_loss: 0.8053 - val_accuracy: 0.7633\n",
            "Epoch 148/500\n",
            "104/104 [==============================] - 1s 8ms/step - loss: 0.5466 - accuracy: 0.7963 - val_loss: 0.7143 - val_accuracy: 0.7440\n",
            "Epoch 149/500\n",
            "104/104 [==============================] - 1s 9ms/step - loss: 0.5198 - accuracy: 0.8065 - val_loss: 0.6750 - val_accuracy: 0.7246\n",
            "Epoch 150/500\n",
            "104/104 [==============================] - 1s 8ms/step - loss: 0.5224 - accuracy: 0.8126 - val_loss: 0.6470 - val_accuracy: 0.7440\n",
            "Epoch 151/500\n",
            "104/104 [==============================] - 1s 6ms/step - loss: 0.5061 - accuracy: 0.8011 - val_loss: 0.7887 - val_accuracy: 0.6957\n",
            "Epoch 152/500\n",
            "104/104 [==============================] - 1s 6ms/step - loss: 0.4823 - accuracy: 0.8114 - val_loss: 0.8666 - val_accuracy: 0.6908\n",
            "Epoch 153/500\n",
            "104/104 [==============================] - 1s 7ms/step - loss: 0.5147 - accuracy: 0.8047 - val_loss: 0.7082 - val_accuracy: 0.7246\n",
            "Epoch 154/500\n",
            "104/104 [==============================] - 1s 6ms/step - loss: 0.4730 - accuracy: 0.8253 - val_loss: 0.6950 - val_accuracy: 0.7488\n",
            "Epoch 155/500\n",
            "104/104 [==============================] - 1s 7ms/step - loss: 0.4843 - accuracy: 0.8192 - val_loss: 0.6637 - val_accuracy: 0.7585\n",
            "Epoch 156/500\n",
            "104/104 [==============================] - 1s 6ms/step - loss: 0.4953 - accuracy: 0.8192 - val_loss: 0.7634 - val_accuracy: 0.6908\n",
            "Epoch 157/500\n",
            "104/104 [==============================] - 1s 7ms/step - loss: 0.5249 - accuracy: 0.8077 - val_loss: 0.7034 - val_accuracy: 0.7488\n",
            "Epoch 158/500\n",
            "104/104 [==============================] - 1s 6ms/step - loss: 0.4913 - accuracy: 0.8089 - val_loss: 0.6111 - val_accuracy: 0.7585\n",
            "Epoch 159/500\n",
            "104/104 [==============================] - 1s 7ms/step - loss: 0.4971 - accuracy: 0.8174 - val_loss: 0.6668 - val_accuracy: 0.7536\n",
            "Epoch 160/500\n",
            "104/104 [==============================] - 1s 6ms/step - loss: 0.4912 - accuracy: 0.8265 - val_loss: 0.6805 - val_accuracy: 0.7391\n",
            "Epoch 161/500\n",
            "104/104 [==============================] - 1s 7ms/step - loss: 0.4729 - accuracy: 0.8368 - val_loss: 0.7855 - val_accuracy: 0.7198\n",
            "Epoch 162/500\n",
            "104/104 [==============================] - 1s 6ms/step - loss: 0.4742 - accuracy: 0.8253 - val_loss: 0.6456 - val_accuracy: 0.7633\n",
            "Epoch 163/500\n",
            "104/104 [==============================] - 1s 7ms/step - loss: 0.4625 - accuracy: 0.8392 - val_loss: 0.8269 - val_accuracy: 0.7101\n",
            "Epoch 164/500\n",
            "104/104 [==============================] - 1s 6ms/step - loss: 0.4772 - accuracy: 0.8168 - val_loss: 0.7240 - val_accuracy: 0.7198\n",
            "Epoch 165/500\n",
            "104/104 [==============================] - 1s 6ms/step - loss: 0.5110 - accuracy: 0.8071 - val_loss: 0.7677 - val_accuracy: 0.7343\n",
            "Epoch 166/500\n",
            "104/104 [==============================] - 1s 7ms/step - loss: 0.4820 - accuracy: 0.8210 - val_loss: 0.7348 - val_accuracy: 0.7343\n",
            "Epoch 167/500\n",
            "104/104 [==============================] - 1s 6ms/step - loss: 0.4661 - accuracy: 0.8265 - val_loss: 0.6169 - val_accuracy: 0.7488\n",
            "Epoch 168/500\n",
            "104/104 [==============================] - 1s 7ms/step - loss: 0.4663 - accuracy: 0.8241 - val_loss: 0.6547 - val_accuracy: 0.7488\n",
            "Epoch 169/500\n",
            "104/104 [==============================] - 1s 6ms/step - loss: 0.4831 - accuracy: 0.8204 - val_loss: 0.7194 - val_accuracy: 0.7198\n",
            "Epoch 170/500\n",
            "104/104 [==============================] - 1s 7ms/step - loss: 0.4643 - accuracy: 0.8295 - val_loss: 0.6448 - val_accuracy: 0.7295\n",
            "Epoch 171/500\n",
            "104/104 [==============================] - 1s 6ms/step - loss: 0.4663 - accuracy: 0.8289 - val_loss: 0.7034 - val_accuracy: 0.7536\n",
            "Epoch 172/500\n",
            "104/104 [==============================] - 1s 7ms/step - loss: 0.4867 - accuracy: 0.8144 - val_loss: 0.7020 - val_accuracy: 0.7488\n",
            "Epoch 173/500\n",
            "104/104 [==============================] - 1s 6ms/step - loss: 0.4649 - accuracy: 0.8253 - val_loss: 0.6861 - val_accuracy: 0.7488\n",
            "Epoch 174/500\n",
            "104/104 [==============================] - 1s 7ms/step - loss: 0.4702 - accuracy: 0.8319 - val_loss: 0.8118 - val_accuracy: 0.7536\n",
            "Epoch 175/500\n",
            "104/104 [==============================] - 1s 6ms/step - loss: 0.4955 - accuracy: 0.8313 - val_loss: 0.7078 - val_accuracy: 0.7391\n",
            "Epoch 176/500\n",
            "104/104 [==============================] - 1s 7ms/step - loss: 0.4843 - accuracy: 0.8247 - val_loss: 0.6444 - val_accuracy: 0.7488\n",
            "Epoch 177/500\n",
            "104/104 [==============================] - 1s 6ms/step - loss: 0.4591 - accuracy: 0.8356 - val_loss: 0.6640 - val_accuracy: 0.7729\n",
            "Epoch 178/500\n",
            "104/104 [==============================] - 1s 7ms/step - loss: 0.4760 - accuracy: 0.8247 - val_loss: 0.6206 - val_accuracy: 0.7488\n",
            "Epoch 179/500\n",
            "104/104 [==============================] - 1s 7ms/step - loss: 0.4728 - accuracy: 0.8319 - val_loss: 0.6497 - val_accuracy: 0.7295\n",
            "Epoch 180/500\n",
            "104/104 [==============================] - 1s 7ms/step - loss: 0.4778 - accuracy: 0.8198 - val_loss: 0.6713 - val_accuracy: 0.7681\n",
            "Epoch 181/500\n",
            "104/104 [==============================] - 1s 7ms/step - loss: 0.4420 - accuracy: 0.8392 - val_loss: 0.7535 - val_accuracy: 0.7488\n",
            "Epoch 182/500\n",
            "104/104 [==============================] - 1s 7ms/step - loss: 0.4612 - accuracy: 0.8337 - val_loss: 0.7740 - val_accuracy: 0.7391\n",
            "Epoch 183/500\n",
            "104/104 [==============================] - 1s 6ms/step - loss: 0.4510 - accuracy: 0.8271 - val_loss: 0.6541 - val_accuracy: 0.7488\n"
          ]
        }
      ]
    },
    {
      "cell_type": "code",
      "source": [
        "plt.plot(cnnhistory.history['loss'])\n",
        "plt.plot(cnnhistory.history['val_loss'])\n",
        "plt.title('model loss')\n",
        "plt.ylabel('loss')\n",
        "plt.xlabel('epoch')\n",
        "plt.legend(['train','test'], loc='upper left')\n",
        "plt.show()"
      ],
      "metadata": {
        "colab": {
          "base_uri": "https://localhost:8080/",
          "height": 295
        },
        "id": "oQYnuaCrDH_A",
        "outputId": "dff5c960-aebf-4780-bf44-2f0494bd15a2"
      },
      "execution_count": 15,
      "outputs": [
        {
          "output_type": "display_data",
          "data": {
            "text/plain": [
              "<Figure size 432x288 with 1 Axes>"
            ],
            "image/png": "[encoded data removed]"
          },
          "metadata": {
            "needs_background": "light"
          }
        }
      ]
    },
    {
      "cell_type": "code",
      "source": [
        "plt.plot(cnnhistory.history['accuracy'])\n",
        "plt.plot(cnnhistory.history['val_accuracy'])\n",
        "plt.title('model accuracy')\n",
        "plt.ylabel('accuracy')\n",
        "plt.xlabel('epoch')\n",
        "plt.legend(['train','test'], loc='upper left')\n",
        "plt.show()"
      ],
      "metadata": {
        "colab": {
          "base_uri": "https://localhost:8080/",
          "height": 295
        },
        "id": "IFkTuO8nDNdq",
        "outputId": "9d022488-db9a-4f0a-f29b-5d68b4f82b88"
      },
      "execution_count": 16,
      "outputs": [
        {
          "output_type": "display_data",
          "data": {
            "text/plain": [
              "<Figure size 432x288 with 1 Axes>"
            ],
            "image/png": "[encoded data removed]"
          },
          "metadata": {
            "needs_background": "light"
          }
        }
      ]
    },
    {
      "cell_type": "code",
      "source": [
        "predictions = model.predict(x_testcnn)"
      ],
      "metadata": {
        "id": "A2xtrN5wDQgY"
      },
      "execution_count": 17,
      "outputs": []
    },
    {
      "cell_type": "code",
      "source": [
        "predictions"
      ],
      "metadata": {
        "colab": {
          "base_uri": "https://localhost:8080/"
        },
        "id": "_f_ohjXKDUpY",
        "outputId": "59397a5b-4a75-4ad0-8c9a-588f1503e391"
      },
      "execution_count": 18,
      "outputs": [
        {
          "output_type": "execute_result",
          "data": {
            "text/plain": [
              "array([[5.23083091e-01, 3.33206840e-02, 1.15614556e-01, 1.35354310e-01,\n",
              "        1.66559935e-01, 2.60674469e-02],\n",
              "       [2.23846723e-06, 1.59934771e-07, 1.33008893e-09, 9.89317834e-01,\n",
              "        5.38956835e-09, 1.06798494e-02],\n",
              "       [2.11864173e-01, 8.82522166e-02, 4.92431298e-02, 4.23455507e-01,\n",
              "        4.47703898e-02, 1.82414562e-01],\n",
              "       ...,\n",
              "       [7.54168017e-09, 3.32947537e-12, 7.01570616e-06, 5.80362212e-07,\n",
              "        9.99539495e-01, 4.52871347e-04],\n",
              "       [1.93542292e-04, 4.69900250e-01, 5.27943552e-01, 7.65029807e-04,\n",
              "        5.55425977e-05, 1.14205643e-03],\n",
              "       [3.00189538e-04, 2.56896874e-05, 3.54001038e-02, 1.26335223e-03,\n",
              "        9.51233625e-01, 1.17771095e-02]], dtype=float32)"
            ]
          },
          "metadata": {},
          "execution_count": 18
        }
      ]
    },
    {
      "cell_type": "code",
      "source": [
        "y_test"
      ],
      "metadata": {
        "colab": {
          "base_uri": "https://localhost:8080/"
        },
        "id": "cmA2bFgsDW3D",
        "outputId": "29f54efc-6c17-4e9a-abe2-7bed611a3d6f"
      },
      "execution_count": 19,
      "outputs": [
        {
          "output_type": "execute_result",
          "data": {
            "text/plain": [
              "array([3, 3, 3, 0, 4, 4, 1, 2, 5, 0, 5, 3, 2, 2, 1, 4, 4, 5, 2, 4, 1, 2,\n",
              "       3, 5, 4, 2, 1, 2, 2, 2, 2, 5, 2, 5, 3, 1, 2, 0, 4, 5, 2, 3, 2, 2,\n",
              "       5, 2, 0, 1, 3, 4, 4, 5, 1, 1, 4, 4, 5, 1, 1, 1, 0, 1, 5, 0, 4, 1,\n",
              "       1, 0, 1, 4, 1, 0, 4, 1, 3, 1, 2, 2, 1, 2, 3, 0, 5, 3, 5, 5, 2, 4,\n",
              "       5, 1, 5, 1, 5, 3, 4, 1, 4, 1, 5, 4, 5, 1, 2, 1, 1, 5, 1, 3, 2, 5,\n",
              "       2, 1, 3, 5, 4, 4, 0, 0, 3, 1, 2, 2, 3, 5, 1, 5, 3, 4, 2, 2, 0, 2,\n",
              "       2, 5, 5, 0, 3, 3, 2, 2, 0, 3, 4, 0, 4, 2, 4, 5, 4, 1, 5, 3, 2, 2,\n",
              "       5, 4, 3, 3, 4, 3, 3, 4, 1, 5, 2, 3, 2, 2, 0, 2, 1, 3, 1, 2, 2, 5,\n",
              "       5, 1, 4, 2, 2, 1, 1, 3, 3, 5, 5, 2, 5, 1, 5, 0, 3, 3, 0, 5, 1, 4,\n",
              "       1, 4, 2, 5, 5, 1, 4, 2, 4])"
            ]
          },
          "metadata": {},
          "execution_count": 19
        }
      ]
    },
    {
      "cell_type": "code",
      "source": [
        "new_Ytest = y_test.astype(int)"
      ],
      "metadata": {
        "id": "0PHDKWJWDY3g"
      },
      "execution_count": 20,
      "outputs": []
    },
    {
      "cell_type": "code",
      "source": [
        "new_Ytest"
      ],
      "metadata": {
        "colab": {
          "base_uri": "https://localhost:8080/"
        },
        "id": "k68v2i-pDbZE",
        "outputId": "1e8ae715-4fa8-4137-fabf-cc0e9bfc8ac3"
      },
      "execution_count": 21,
      "outputs": [
        {
          "output_type": "execute_result",
          "data": {
            "text/plain": [
              "array([3, 3, 3, 0, 4, 4, 1, 2, 5, 0, 5, 3, 2, 2, 1, 4, 4, 5, 2, 4, 1, 2,\n",
              "       3, 5, 4, 2, 1, 2, 2, 2, 2, 5, 2, 5, 3, 1, 2, 0, 4, 5, 2, 3, 2, 2,\n",
              "       5, 2, 0, 1, 3, 4, 4, 5, 1, 1, 4, 4, 5, 1, 1, 1, 0, 1, 5, 0, 4, 1,\n",
              "       1, 0, 1, 4, 1, 0, 4, 1, 3, 1, 2, 2, 1, 2, 3, 0, 5, 3, 5, 5, 2, 4,\n",
              "       5, 1, 5, 1, 5, 3, 4, 1, 4, 1, 5, 4, 5, 1, 2, 1, 1, 5, 1, 3, 2, 5,\n",
              "       2, 1, 3, 5, 4, 4, 0, 0, 3, 1, 2, 2, 3, 5, 1, 5, 3, 4, 2, 2, 0, 2,\n",
              "       2, 5, 5, 0, 3, 3, 2, 2, 0, 3, 4, 0, 4, 2, 4, 5, 4, 1, 5, 3, 2, 2,\n",
              "       5, 4, 3, 3, 4, 3, 3, 4, 1, 5, 2, 3, 2, 2, 0, 2, 1, 3, 1, 2, 2, 5,\n",
              "       5, 1, 4, 2, 2, 1, 1, 3, 3, 5, 5, 2, 5, 1, 5, 0, 3, 3, 0, 5, 1, 4,\n",
              "       1, 4, 2, 5, 5, 1, 4, 2, 4])"
            ]
          },
          "metadata": {},
          "execution_count": 21
        }
      ]
    },
    {
      "cell_type": "code",
      "source": [
        "preds1=predictions.argmax(axis=1)\n",
        "preds1"
      ],
      "metadata": {
        "colab": {
          "base_uri": "https://localhost:8080/"
        },
        "id": "4_cAI39VFhtp",
        "outputId": "d4017bc8-23a5-4578-9ee3-f5873ef2e2c3"
      },
      "execution_count": 22,
      "outputs": [
        {
          "output_type": "execute_result",
          "data": {
            "text/plain": [
              "array([0, 3, 3, 0, 4, 4, 1, 2, 5, 1, 4, 3, 2, 2, 0, 4, 4, 5, 3, 4, 1, 2,\n",
              "       3, 3, 4, 2, 1, 0, 2, 2, 2, 5, 3, 5, 3, 1, 2, 0, 4, 5, 2, 3, 2, 2,\n",
              "       5, 4, 1, 1, 3, 4, 4, 5, 1, 1, 4, 4, 5, 1, 1, 1, 3, 1, 2, 1, 4, 1,\n",
              "       1, 1, 1, 4, 0, 5, 4, 1, 5, 3, 2, 2, 3, 2, 1, 0, 5, 3, 5, 4, 2, 5,\n",
              "       3, 1, 5, 2, 5, 3, 4, 2, 4, 0, 5, 4, 5, 1, 2, 1, 1, 5, 1, 3, 2, 2,\n",
              "       0, 3, 3, 5, 4, 4, 3, 0, 3, 3, 1, 4, 1, 5, 1, 5, 3, 4, 2, 2, 0, 2,\n",
              "       2, 3, 5, 0, 3, 3, 2, 4, 0, 5, 4, 0, 4, 4, 4, 5, 4, 1, 5, 3, 2, 2,\n",
              "       5, 4, 4, 3, 4, 5, 3, 4, 3, 5, 2, 3, 2, 2, 0, 2, 1, 3, 1, 2, 4, 5,\n",
              "       5, 1, 4, 2, 4, 1, 1, 3, 3, 5, 5, 2, 5, 1, 4, 0, 3, 3, 3, 2, 1, 4,\n",
              "       1, 4, 5, 5, 4, 0, 4, 2, 4])"
            ]
          },
          "metadata": {},
          "execution_count": 22
        }
      ]
    },
    {
      "cell_type": "code",
      "source": [
        "abc = preds1.astype(int).flatten()"
      ],
      "metadata": {
        "id": "H4WEmM60NfQn"
      },
      "execution_count": 23,
      "outputs": []
    },
    {
      "cell_type": "code",
      "source": [
        "from sklearn.metrics import confusion_matrix\n",
        "c = confusion_matrix(new_Ytest, abc) \n",
        "c"
      ],
      "metadata": {
        "colab": {
          "base_uri": "https://localhost:8080/"
        },
        "id": "bKEBeEBlFjB8",
        "outputId": "1cca65bc-3ef5-4196-ef42-c0974dc90edc"
      },
      "execution_count": 24,
      "outputs": [
        {
          "output_type": "execute_result",
          "data": {
            "text/plain": [
              "array([[10,  4,  0,  3,  0,  1],\n",
              "       [ 4, 30,  2,  5,  0,  0],\n",
              "       [ 2,  1, 33,  2,  6,  1],\n",
              "       [ 1,  2,  0, 24,  1,  3],\n",
              "       [ 0,  0,  0,  0, 32,  1],\n",
              "       [ 0,  0,  3,  3,  4, 29]])"
            ]
          },
          "metadata": {},
          "execution_count": 24
        }
      ]
    },
    {
      "cell_type": "code",
      "source": [
        "y_test"
      ],
      "metadata": {
        "colab": {
          "base_uri": "https://localhost:8080/"
        },
        "id": "m4RjG7LWLSQx",
        "outputId": "d804a10b-885e-4ea6-a3c8-763396523ec5"
      },
      "execution_count": 25,
      "outputs": [
        {
          "output_type": "execute_result",
          "data": {
            "text/plain": [
              "array([3, 3, 3, 0, 4, 4, 1, 2, 5, 0, 5, 3, 2, 2, 1, 4, 4, 5, 2, 4, 1, 2,\n",
              "       3, 5, 4, 2, 1, 2, 2, 2, 2, 5, 2, 5, 3, 1, 2, 0, 4, 5, 2, 3, 2, 2,\n",
              "       5, 2, 0, 1, 3, 4, 4, 5, 1, 1, 4, 4, 5, 1, 1, 1, 0, 1, 5, 0, 4, 1,\n",
              "       1, 0, 1, 4, 1, 0, 4, 1, 3, 1, 2, 2, 1, 2, 3, 0, 5, 3, 5, 5, 2, 4,\n",
              "       5, 1, 5, 1, 5, 3, 4, 1, 4, 1, 5, 4, 5, 1, 2, 1, 1, 5, 1, 3, 2, 5,\n",
              "       2, 1, 3, 5, 4, 4, 0, 0, 3, 1, 2, 2, 3, 5, 1, 5, 3, 4, 2, 2, 0, 2,\n",
              "       2, 5, 5, 0, 3, 3, 2, 2, 0, 3, 4, 0, 4, 2, 4, 5, 4, 1, 5, 3, 2, 2,\n",
              "       5, 4, 3, 3, 4, 3, 3, 4, 1, 5, 2, 3, 2, 2, 0, 2, 1, 3, 1, 2, 2, 5,\n",
              "       5, 1, 4, 2, 2, 1, 1, 3, 3, 5, 5, 2, 5, 1, 5, 0, 3, 3, 0, 5, 1, 4,\n",
              "       1, 4, 2, 5, 5, 1, 4, 2, 4])"
            ]
          },
          "metadata": {},
          "execution_count": 25
        }
      ]
    },
    {
      "cell_type": "code",
      "source": [
        "loss, acc =model.evaluate(x_testcnn, y_test)\n",
        "print(\"Restored model, accuracy: {:5.2f}%\".format(100*acc))"
      ],
      "metadata": {
        "colab": {
          "base_uri": "https://localhost:8080/"
        },
        "id": "n3kzoqPkDqqS",
        "outputId": "3c4f1754-8a0c-4b58-abae-afc7562a487d"
      },
      "execution_count": 26,
      "outputs": [
        {
          "output_type": "stream",
          "name": "stdout",
          "text": [
            "7/7 [==============================] - 0s 4ms/step - loss: 0.6096 - accuracy: 0.7633\n",
            "Restored model, accuracy: 76.33%\n"
          ]
        }
      ]
    },
    {
      "cell_type": "code",
      "source": [
        "loss, acc =model.evaluate(X_train, y_train)\n",
        "print(\"Restored model train, accuracy: {:5.2f}%\".format(100*acc))"
      ],
      "metadata": {
        "id": "fJDTGH_OUX0z",
        "colab": {
          "base_uri": "https://localhost:8080/"
        },
        "outputId": "e6fb78f5-6eed-4db7-eace-ba40d3e29508"
      },
      "execution_count": 27,
      "outputs": [
        {
          "output_type": "stream",
          "name": "stdout",
          "text": [
            "52/52 [==============================] - 0s 5ms/step - loss: 0.3114 - accuracy: 0.9141\n",
            "Restored model train, accuracy: 91.41%\n"
          ]
        }
      ]
    },
    {
      "cell_type": "code",
      "source": [
        "from sklearn.metrics import classification_report, confusion_matrix,accuracy_score\n",
        "import seaborn as sn\n",
        "\n",
        "print(classification_report(new_Ytest,abc))\n",
        "\n",
        "acc = float(accuracy_score(new_Ytest,abc))*100\n",
        "print(\"----accuracy score %s ----\" % acc)\n",
        "\n",
        "cm = confusion_matrix(new_Ytest,abc)\n",
        "#df_cm = pd.DataFrame(cm)\n",
        "class_names = ['neutral','calm', 'happy','sad','angry', 'fearful' ]\n",
        "df_cm = pd.DataFrame(cm, index=class_names, columns=class_names,)\n",
        "sn.heatmap(df_cm, annot=True, fmt='')\n",
        "plt.show()"
      ],
      "metadata": {
        "colab": {
          "base_uri": "https://localhost:8080/",
          "height": 508
        },
        "id": "SfSC3El94LZg",
        "outputId": "dbe41e14-9c5c-434c-d8da-afee0ec28af9"
      },
      "execution_count": 28,
      "outputs": [
        {
          "output_type": "stream",
          "name": "stdout",
          "text": [
            "              precision    recall  f1-score   support\n",
            "\n",
            "           0       0.59      0.56      0.57        18\n",
            "           1       0.81      0.73      0.77        41\n",
            "           2       0.87      0.73      0.80        45\n",
            "           3       0.65      0.77      0.71        31\n",
            "           4       0.74      0.97      0.84        33\n",
            "           5       0.83      0.74      0.78        39\n",
            "\n",
            "    accuracy                           0.76       207\n",
            "   macro avg       0.75      0.75      0.74       207\n",
            "weighted avg       0.77      0.76      0.76       207\n",
            "\n",
            "----accuracy score 76.32850241545893 ----\n"
          ]
        },
        {
          "output_type": "display_data",
          "data": {
            "text/plain": [
              "<Figure size 432x288 with 2 Axes>"
            ],
            "image/png": "[encoded data removed]"
          },
          "metadata": {
            "needs_background": "light"
          }
        }
      ]
    }
  ]
}