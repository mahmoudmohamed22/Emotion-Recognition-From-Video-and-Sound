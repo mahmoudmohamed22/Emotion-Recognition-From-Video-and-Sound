{
  "nbformat": 4,
  "nbformat_minor": 0,
  "metadata": {
    "colab": {
      "name": "original_remove_2_dense_layers_RMS_lr=0_0002_try_3__increase_kernal_size_to_16.ipynb",
      "provenance": [],
      "collapsed_sections": []
    },
    "kernelspec": {
      "name": "python3",
      "display_name": "Python 3"
    },
    "language_info": {
      "name": "python"
    },
    "accelerator": "TPU"
  },
  "cells": [
    {
      "cell_type": "code",
      "execution_count": 1,
      "metadata": {
        "colab": {
          "base_uri": "https://localhost:8080/"
        },
        "id": "9SRCO-a_AlH5",
        "outputId": "5fb2936d-c820-42d7-b74b-58397d9c5a99"
      },
      "outputs": [
        {
          "output_type": "stream",
          "name": "stdout",
          "text": [
            "Drive already mounted at /content/drive; to attempt to forcibly remount, call drive.mount(\"/content/drive\", force_remount=True).\n"
          ]
        }
      ],
      "source": [
        "from google.colab import drive\n",
        "drive.mount('/content/drive')"
      ]
    },
    {
      "cell_type": "code",
      "source": [
        "!pip install librosa"
      ],
      "metadata": {
        "colab": {
          "base_uri": "https://localhost:8080/"
        },
        "id": "5Lo4mUwG9RMd",
        "outputId": "af7487d4-015b-45c7-d2c3-51c4dad746d2"
      },
      "execution_count": 2,
      "outputs": [
        {
          "output_type": "stream",
          "name": "stdout",
          "text": [
            "Looking in indexes: https://pypi.org/simple, https://us-python.pkg.dev/colab-wheels/public/simple/\n",
            "Requirement already satisfied: librosa in /usr/local/lib/python3.7/dist-packages (0.8.1)\n",
            "Requirement already satisfied: soundfile>=0.10.2 in /usr/local/lib/python3.7/dist-packages (from librosa) (0.10.3.post1)\n",
            "Requirement already satisfied: numpy>=1.15.0 in /usr/local/lib/python3.7/dist-packages (from librosa) (1.21.6)\n",
            "Requirement already satisfied: scikit-learn!=0.19.0,>=0.14.0 in /usr/local/lib/python3.7/dist-packages (from librosa) (1.0.2)\n",
            "Requirement already satisfied: joblib>=0.14 in /usr/local/lib/python3.7/dist-packages (from librosa) (1.1.0)\n",
            "Requirement already satisfied: scipy>=1.0.0 in /usr/local/lib/python3.7/dist-packages (from librosa) (1.4.1)\n",
            "Requirement already satisfied: decorator>=3.0.0 in /usr/local/lib/python3.7/dist-packages (from librosa) (4.4.2)\n",
            "Requirement already satisfied: pooch>=1.0 in /usr/local/lib/python3.7/dist-packages (from librosa) (1.6.0)\n",
            "Requirement already satisfied: packaging>=20.0 in /usr/local/lib/python3.7/dist-packages (from librosa) (21.3)\n",
            "Requirement already satisfied: resampy>=0.2.2 in /usr/local/lib/python3.7/dist-packages (from librosa) (0.2.2)\n",
            "Requirement already satisfied: numba>=0.43.0 in /usr/local/lib/python3.7/dist-packages (from librosa) (0.51.2)\n",
            "Requirement already satisfied: audioread>=2.0.0 in /usr/local/lib/python3.7/dist-packages (from librosa) (2.1.9)\n",
            "Requirement already satisfied: llvmlite<0.35,>=0.34.0.dev0 in /usr/local/lib/python3.7/dist-packages (from numba>=0.43.0->librosa) (0.34.0)\n",
            "Requirement already satisfied: setuptools in /usr/local/lib/python3.7/dist-packages (from numba>=0.43.0->librosa) (57.4.0)\n",
            "Requirement already satisfied: pyparsing!=3.0.5,>=2.0.2 in /usr/local/lib/python3.7/dist-packages (from packaging>=20.0->librosa) (3.0.9)\n",
            "Requirement already satisfied: requests>=2.19.0 in /usr/local/lib/python3.7/dist-packages (from pooch>=1.0->librosa) (2.23.0)\n",
            "Requirement already satisfied: appdirs>=1.3.0 in /usr/local/lib/python3.7/dist-packages (from pooch>=1.0->librosa) (1.4.4)\n",
            "Requirement already satisfied: idna<3,>=2.5 in /usr/local/lib/python3.7/dist-packages (from requests>=2.19.0->pooch>=1.0->librosa) (2.10)\n",
            "Requirement already satisfied: chardet<4,>=3.0.2 in /usr/local/lib/python3.7/dist-packages (from requests>=2.19.0->pooch>=1.0->librosa) (3.0.4)\n",
            "Requirement already satisfied: certifi>=2017.4.17 in /usr/local/lib/python3.7/dist-packages (from requests>=2.19.0->pooch>=1.0->librosa) (2022.5.18.1)\n",
            "Requirement already satisfied: urllib3!=1.25.0,!=1.25.1,<1.26,>=1.21.1 in /usr/local/lib/python3.7/dist-packages (from requests>=2.19.0->pooch>=1.0->librosa) (1.24.3)\n",
            "Requirement already satisfied: six>=1.3 in /usr/local/lib/python3.7/dist-packages (from resampy>=0.2.2->librosa) (1.15.0)\n",
            "Requirement already satisfied: threadpoolctl>=2.0.0 in /usr/local/lib/python3.7/dist-packages (from scikit-learn!=0.19.0,>=0.14.0->librosa) (3.1.0)\n",
            "Requirement already satisfied: cffi>=1.0 in /usr/local/lib/python3.7/dist-packages (from soundfile>=0.10.2->librosa) (1.15.0)\n",
            "Requirement already satisfied: pycparser in /usr/local/lib/python3.7/dist-packages (from cffi>=1.0->soundfile>=0.10.2->librosa) (2.21)\n"
          ]
        }
      ]
    },
    {
      "cell_type": "code",
      "metadata": {
        "id": "HJjcbxwy46bG",
        "colab": {
          "base_uri": "https://localhost:8080/",
          "height": 17
        },
        "outputId": "0841a5ce-8c48-458d-a201-d6fb0a9cdec2"
      },
      "source": [
        "# Orignial Notebook: https://github.com/MITESHPUTHRANNEU/Speech-Emotion-Analyzer/blob/master/final_results_gender_test.ipynb\n",
        "# This notebook author: Reza Chu\n",
        "# Last Editing Date: 31st May 2019\n",
        "\n",
        "## Python\n",
        "import os\n",
        "import random\n",
        "import sys\n",
        "\n",
        "import IPython\n",
        "from IPython.display import Audio\n",
        "from IPython.display import Image\n",
        "import matplotlib.pyplot as plt\n",
        "\n",
        "## Package\n",
        "import glob \n",
        "import keras\n",
        "import IPython.display as ipd\n",
        "import librosa\n",
        "import librosa.display\n",
        "import matplotlib.pyplot as plt\n",
        "import numpy as np\n",
        "import pandas as pd\n",
        "import plotly.graph_objs as go\n",
        "import plotly.offline as py\n",
        "import plotly.tools as tls\n",
        "import seaborn as sns\n",
        "import scipy.io.wavfile\n",
        "import tensorflow as tf\n",
        "py.init_notebook_mode(connected=True)\n",
        "\n",
        "## Keras\n",
        "from keras import regularizers\n",
        "from keras.callbacks import ModelCheckpoint, LearningRateScheduler, EarlyStopping\n",
        "from keras.callbacks import  History, ReduceLROnPlateau, CSVLogger\n",
        "from keras.models import Model, Sequential\n",
        "from keras.layers import Dense, Embedding, LSTM\n",
        "from keras.layers import Input, Flatten, Dropout, Activation, BatchNormalization\n",
        "from keras.layers import Conv1D, MaxPooling1D, AveragePooling1D\n",
        "from keras.preprocessing import sequence\n",
        "from keras.preprocessing.sequence import pad_sequences\n",
        "from keras.preprocessing.text import Tokenizer\n",
        "from keras.utils import np_utils\n",
        "from tensorflow.keras.utils import to_categorical\n",
        "\n",
        "## Sklearn\n",
        "from sklearn.metrics import confusion_matrix\n",
        "from sklearn.preprocessing import LabelEncoder\n",
        "\n",
        "## Rest\n",
        "from scipy.fftpack import fft\n",
        "from scipy import signal\n",
        "from scipy.io import wavfile\n",
        "from tqdm import tqdm\n",
        "\n",
        "input_duration=3\n",
        "# % pylab inline"
      ],
      "execution_count": 3,
      "outputs": [
        {
          "output_type": "display_data",
          "data": {
            "text/html": [
              "        <script type=\"text/javascript\">\n",
              "        window.PlotlyConfig = {MathJaxConfig: 'local'};\n",
              "        if (window.MathJax) {MathJax.Hub.Config({SVG: {font: \"STIX-Web\"}});}\n",
              "        if (typeof require !== 'undefined') {\n",
              "        require.undef(\"plotly\");\n",
              "        requirejs.config({\n",
              "            paths: {\n",
              "                'plotly': ['https://cdn.plot.ly/plotly-2.8.3.min']\n",
              "            }\n",
              "        });\n",
              "        require(['plotly'], function(Plotly) {\n",
              "            window._Plotly = Plotly;\n",
              "        });\n",
              "        }\n",
              "        </script>\n",
              "        "
            ]
          },
          "metadata": {}
        }
      ]
    },
    {
      "cell_type": "code",
      "source": [
        "# # Saving joblib files to not load them again with the loop above\n",
        "\n",
        "# import joblib\n",
        "\n",
        "# X_name = 'x.joblib'\n",
        "# y_name = 'y.joblib'\n",
        "# save_dir = '/content/drive/My Drive/graduation project/audio/paper_code/features'\n",
        "\n",
        "# savedX = joblib.dump(X, os.path.join(save_dir, X_name))\n",
        "# savedy = joblib.dump(y, os.path.join(save_dir, y_name))\n"
      ],
      "metadata": {
        "id": "UCzic8rlDcuk"
      },
      "execution_count": 4,
      "outputs": []
    },
    {
      "cell_type": "code",
      "source": [
        "# # Loading saved models\n",
        "import joblib\n",
        "X = joblib.load('/content/drive/My Drive/graduation project (1)/audio/paper_code/features/x.joblib')\n",
        "y = joblib.load('/content/drive/My Drive/graduation project (1)/audio/paper_code/features/y.joblib')"
      ],
      "metadata": {
        "id": "Q35CN6zDrzg1"
      },
      "execution_count": 5,
      "outputs": []
    },
    {
      "cell_type": "code",
      "source": [
        "X.shape"
      ],
      "metadata": {
        "id": "7PSTurzjCo5K",
        "colab": {
          "base_uri": "https://localhost:8080/"
        },
        "outputId": "683f1147-2441-41e4-c884-4d38dee2c9d8"
      },
      "execution_count": 6,
      "outputs": [
        {
          "output_type": "execute_result",
          "data": {
            "text/plain": [
              "(2068, 40)"
            ]
          },
          "metadata": {},
          "execution_count": 6
        }
      ]
    },
    {
      "cell_type": "code",
      "source": [
        "from sklearn.model_selection import train_test_split\n",
        "\n",
        "X_train, X_test, y_train, y_test = train_test_split(X,y, test_size=0.1 ,shuffle = True\n",
        "                                                    , random_state=42)\n",
        "X_train , X_valid, y_train, y_valid = train_test_split(X_train,y_train, test_size=0.1112305212 , shuffle = True \n",
        "                                                       , random_state=42)"
      ],
      "metadata": {
        "id": "Ai4Fy5cPCiq1"
      },
      "execution_count": 7,
      "outputs": []
    },
    {
      "cell_type": "code",
      "source": [
        "import numpy as np\n",
        "x_traincnn = np.expand_dims(X_train, axis=2)\n",
        "x_testcnn = np.expand_dims(X_test, axis=2)\n",
        "X_valid= np.expand_dims(X_valid, axis=2)"
      ],
      "metadata": {
        "id": "tp1Fm5K3CEXu"
      },
      "execution_count": 8,
      "outputs": []
    },
    {
      "cell_type": "code",
      "source": [
        "x_traincnn.shape, x_testcnn.shape , X_valid.shape\n",
        "#1861"
      ],
      "metadata": {
        "id": "RI0MxoIPBws5",
        "colab": {
          "base_uri": "https://localhost:8080/"
        },
        "outputId": "15853441-3b84-4ee0-a100-2fecff8271d7"
      },
      "execution_count": 9,
      "outputs": [
        {
          "output_type": "execute_result",
          "data": {
            "text/plain": [
              "((1654, 40, 1), (207, 40, 1), (207, 40, 1))"
            ]
          },
          "metadata": {},
          "execution_count": 9
        }
      ]
    },
    {
      "cell_type": "code",
      "source": [
        "!pip install tensorflow"
      ],
      "metadata": {
        "id": "oALhiMUd9G2Y",
        "colab": {
          "base_uri": "https://localhost:8080/"
        },
        "outputId": "035b24d6-800f-4f2e-c4d6-9082da671925"
      },
      "execution_count": 10,
      "outputs": [
        {
          "output_type": "stream",
          "name": "stdout",
          "text": [
            "Looking in indexes: https://pypi.org/simple, https://us-python.pkg.dev/colab-wheels/public/simple/\n",
            "Requirement already satisfied: tensorflow in /usr/local/lib/python3.7/dist-packages (2.8.2+zzzcolab20220527125636)\n",
            "Requirement already satisfied: h5py>=2.9.0 in /usr/local/lib/python3.7/dist-packages (from tensorflow) (3.1.0)\n",
            "Requirement already satisfied: absl-py>=0.4.0 in /usr/local/lib/python3.7/dist-packages (from tensorflow) (1.0.0)\n",
            "Requirement already satisfied: astunparse>=1.6.0 in /usr/local/lib/python3.7/dist-packages (from tensorflow) (1.6.3)\n",
            "Requirement already satisfied: six>=1.12.0 in /usr/local/lib/python3.7/dist-packages (from tensorflow) (1.15.0)\n",
            "Requirement already satisfied: grpcio<2.0,>=1.24.3 in /usr/local/lib/python3.7/dist-packages (from tensorflow) (1.46.3)\n",
            "Requirement already satisfied: flatbuffers>=1.12 in /usr/local/lib/python3.7/dist-packages (from tensorflow) (2.0)\n",
            "Requirement already satisfied: wrapt>=1.11.0 in /usr/local/lib/python3.7/dist-packages (from tensorflow) (1.14.1)\n",
            "Requirement already satisfied: numpy>=1.20 in /usr/local/lib/python3.7/dist-packages (from tensorflow) (1.21.6)\n",
            "Requirement already satisfied: google-pasta>=0.1.1 in /usr/local/lib/python3.7/dist-packages (from tensorflow) (0.2.0)\n",
            "Requirement already satisfied: gast>=0.2.1 in /usr/local/lib/python3.7/dist-packages (from tensorflow) (0.5.3)\n",
            "Requirement already satisfied: termcolor>=1.1.0 in /usr/local/lib/python3.7/dist-packages (from tensorflow) (1.1.0)\n",
            "Requirement already satisfied: tensorflow-io-gcs-filesystem>=0.23.1 in /usr/local/lib/python3.7/dist-packages (from tensorflow) (0.26.0)\n",
            "Requirement already satisfied: keras<2.9,>=2.8.0rc0 in /usr/local/lib/python3.7/dist-packages (from tensorflow) (2.8.0)\n",
            "Requirement already satisfied: libclang>=9.0.1 in /usr/local/lib/python3.7/dist-packages (from tensorflow) (14.0.1)\n",
            "Requirement already satisfied: protobuf<3.20,>=3.9.2 in /usr/local/lib/python3.7/dist-packages (from tensorflow) (3.17.3)\n",
            "Requirement already satisfied: tensorflow-estimator<2.9,>=2.8 in /usr/local/lib/python3.7/dist-packages (from tensorflow) (2.8.0)\n",
            "Requirement already satisfied: setuptools in /usr/local/lib/python3.7/dist-packages (from tensorflow) (57.4.0)\n",
            "Requirement already satisfied: typing-extensions>=3.6.6 in /usr/local/lib/python3.7/dist-packages (from tensorflow) (4.2.0)\n",
            "Requirement already satisfied: tensorboard<2.9,>=2.8 in /usr/local/lib/python3.7/dist-packages (from tensorflow) (2.8.0)\n",
            "Requirement already satisfied: keras-preprocessing>=1.1.1 in /usr/local/lib/python3.7/dist-packages (from tensorflow) (1.1.2)\n",
            "Requirement already satisfied: opt-einsum>=2.3.2 in /usr/local/lib/python3.7/dist-packages (from tensorflow) (3.3.0)\n",
            "Requirement already satisfied: wheel<1.0,>=0.23.0 in /usr/local/lib/python3.7/dist-packages (from astunparse>=1.6.0->tensorflow) (0.37.1)\n",
            "Requirement already satisfied: cached-property in /usr/local/lib/python3.7/dist-packages (from h5py>=2.9.0->tensorflow) (1.5.2)\n",
            "Requirement already satisfied: markdown>=2.6.8 in /usr/local/lib/python3.7/dist-packages (from tensorboard<2.9,>=2.8->tensorflow) (3.3.7)\n",
            "Requirement already satisfied: tensorboard-plugin-wit>=1.6.0 in /usr/local/lib/python3.7/dist-packages (from tensorboard<2.9,>=2.8->tensorflow) (1.8.1)\n",
            "Requirement already satisfied: tensorboard-data-server<0.7.0,>=0.6.0 in /usr/local/lib/python3.7/dist-packages (from tensorboard<2.9,>=2.8->tensorflow) (0.6.1)\n",
            "Requirement already satisfied: werkzeug>=0.11.15 in /usr/local/lib/python3.7/dist-packages (from tensorboard<2.9,>=2.8->tensorflow) (1.0.1)\n",
            "Requirement already satisfied: requests<3,>=2.21.0 in /usr/local/lib/python3.7/dist-packages (from tensorboard<2.9,>=2.8->tensorflow) (2.23.0)\n",
            "Requirement already satisfied: google-auth<3,>=1.6.3 in /usr/local/lib/python3.7/dist-packages (from tensorboard<2.9,>=2.8->tensorflow) (1.35.0)\n",
            "Requirement already satisfied: google-auth-oauthlib<0.5,>=0.4.1 in /usr/local/lib/python3.7/dist-packages (from tensorboard<2.9,>=2.8->tensorflow) (0.4.6)\n",
            "Requirement already satisfied: pyasn1-modules>=0.2.1 in /usr/local/lib/python3.7/dist-packages (from google-auth<3,>=1.6.3->tensorboard<2.9,>=2.8->tensorflow) (0.2.8)\n",
            "Requirement already satisfied: rsa<5,>=3.1.4 in /usr/local/lib/python3.7/dist-packages (from google-auth<3,>=1.6.3->tensorboard<2.9,>=2.8->tensorflow) (4.8)\n",
            "Requirement already satisfied: cachetools<5.0,>=2.0.0 in /usr/local/lib/python3.7/dist-packages (from google-auth<3,>=1.6.3->tensorboard<2.9,>=2.8->tensorflow) (4.2.4)\n",
            "Requirement already satisfied: requests-oauthlib>=0.7.0 in /usr/local/lib/python3.7/dist-packages (from google-auth-oauthlib<0.5,>=0.4.1->tensorboard<2.9,>=2.8->tensorflow) (1.3.1)\n",
            "Requirement already satisfied: importlib-metadata>=4.4 in /usr/local/lib/python3.7/dist-packages (from markdown>=2.6.8->tensorboard<2.9,>=2.8->tensorflow) (4.11.4)\n",
            "Requirement already satisfied: zipp>=0.5 in /usr/local/lib/python3.7/dist-packages (from importlib-metadata>=4.4->markdown>=2.6.8->tensorboard<2.9,>=2.8->tensorflow) (3.8.0)\n",
            "Requirement already satisfied: pyasn1<0.5.0,>=0.4.6 in /usr/local/lib/python3.7/dist-packages (from pyasn1-modules>=0.2.1->google-auth<3,>=1.6.3->tensorboard<2.9,>=2.8->tensorflow) (0.4.8)\n",
            "Requirement already satisfied: urllib3!=1.25.0,!=1.25.1,<1.26,>=1.21.1 in /usr/local/lib/python3.7/dist-packages (from requests<3,>=2.21.0->tensorboard<2.9,>=2.8->tensorflow) (1.24.3)\n",
            "Requirement already satisfied: idna<3,>=2.5 in /usr/local/lib/python3.7/dist-packages (from requests<3,>=2.21.0->tensorboard<2.9,>=2.8->tensorflow) (2.10)\n",
            "Requirement already satisfied: certifi>=2017.4.17 in /usr/local/lib/python3.7/dist-packages (from requests<3,>=2.21.0->tensorboard<2.9,>=2.8->tensorflow) (2022.5.18.1)\n",
            "Requirement already satisfied: chardet<4,>=3.0.2 in /usr/local/lib/python3.7/dist-packages (from requests<3,>=2.21.0->tensorboard<2.9,>=2.8->tensorflow) (3.0.4)\n",
            "Requirement already satisfied: oauthlib>=3.0.0 in /usr/local/lib/python3.7/dist-packages (from requests-oauthlib>=0.7.0->google-auth-oauthlib<0.5,>=0.4.1->tensorboard<2.9,>=2.8->tensorflow) (3.2.0)\n"
          ]
        }
      ]
    },
    {
      "cell_type": "code",
      "source": [
        "import keras\n",
        "import numpy as np\n",
        "import matplotlib.pyplot as plt\n",
        "import tensorflow as tf\n",
        "from keras.preprocessing import sequence\n",
        "from keras.models import Sequential\n",
        "from keras.layers import Dense, Embedding\n",
        "from tensorflow.keras.utils import to_categorical\n",
        "from keras.layers import Input, Flatten, Dropout, Activation\n",
        "from keras.layers import Conv1D, MaxPooling1D\n",
        "from keras.models import Model\n",
        "from keras.callbacks import ModelCheckpoint\n",
        "from tensorflow.keras import optimizers\n",
        "\n",
        "model = Sequential()\n",
        "\n",
        "model.add(Conv1D(128, 16,padding='same', #classifier.add(Convolution2D(64, (3, 3), padding = 'same', input_shape = (128, 128, 3), activation = 'relu'))\n",
        "                 input_shape=(40,1)))\n",
        "model.add(Activation('relu'))\n",
        "model.add(Dropout(0.3))\n",
        "model.add(MaxPooling1D(pool_size=(5)))\n",
        "\n",
        "\n",
        "model.add(Conv1D(256,16,padding='same',))\n",
        "model.add(Activation('relu'))\n",
        "model.add(Dropout(0.3))\n",
        "model.add(MaxPooling1D(pool_size=(5)))\n",
        "\n",
        "#model.add(MaxPooling1D(pool_size=(5)))\n",
        "\n",
        "model.add(Flatten())\n",
        "\n",
        "\n",
        "\n",
        "model.add(Dense(6))\n",
        "model.add(Activation('softmax'))\n",
        "\n",
        "\n",
        "opt = tf.keras.optimizers.RMSprop(lr=0.0002 , decay=0.0)\n",
        "#opt = tf.keras.optimizers.Adam(lr=0.0002 , decay=0.0)\n",
        "#opt = tf.keras.optimizers.RMSprop(lr=0.0001, rho=0.9, epsilon=1e-07, decay=0.0)\n",
        "#opt = tf.keras.optimizers.SGD(lr=0.001, momentum=0.0, decay=0.0, nesterov=False)"
      ],
      "metadata": {
        "id": "g74fXWVAC4Cr",
        "colab": {
          "base_uri": "https://localhost:8080/"
        },
        "outputId": "31505fbb-654a-4254-931b-3b47599725c1"
      },
      "execution_count": 11,
      "outputs": [
        {
          "output_type": "stream",
          "name": "stderr",
          "text": [
            "/usr/local/lib/python3.7/dist-packages/keras/optimizer_v2/rmsprop.py:130: UserWarning:\n",
            "\n",
            "The `lr` argument is deprecated, use `learning_rate` instead.\n",
            "\n"
          ]
        }
      ]
    },
    {
      "cell_type": "code",
      "source": [
        "model.summary()"
      ],
      "metadata": {
        "id": "H6ukOxAGC_I4",
        "colab": {
          "base_uri": "https://localhost:8080/"
        },
        "outputId": "dc543adf-96aa-4907-91ff-65ddad890776"
      },
      "execution_count": 12,
      "outputs": [
        {
          "output_type": "stream",
          "name": "stdout",
          "text": [
            "Model: \"sequential\"\n",
            "_________________________________________________________________\n",
            " Layer (type)                Output Shape              Param #   \n",
            "=================================================================\n",
            " conv1d (Conv1D)             (None, 40, 128)           2176      \n",
            "                                                                 \n",
            " activation (Activation)     (None, 40, 128)           0         \n",
            "                                                                 \n",
            " dropout (Dropout)           (None, 40, 128)           0         \n",
            "                                                                 \n",
            " max_pooling1d (MaxPooling1D  (None, 8, 128)           0         \n",
            " )                                                               \n",
            "                                                                 \n",
            " conv1d_1 (Conv1D)           (None, 8, 256)            524544    \n",
            "                                                                 \n",
            " activation_1 (Activation)   (None, 8, 256)            0         \n",
            "                                                                 \n",
            " dropout_1 (Dropout)         (None, 8, 256)            0         \n",
            "                                                                 \n",
            " max_pooling1d_1 (MaxPooling  (None, 1, 256)           0         \n",
            " 1D)                                                             \n",
            "                                                                 \n",
            " flatten (Flatten)           (None, 256)               0         \n",
            "                                                                 \n",
            " dense (Dense)               (None, 6)                 1542      \n",
            "                                                                 \n",
            " activation_2 (Activation)   (None, 6)                 0         \n",
            "                                                                 \n",
            "=================================================================\n",
            "Total params: 528,262\n",
            "Trainable params: 528,262\n",
            "Non-trainable params: 0\n",
            "_________________________________________________________________\n"
          ]
        }
      ]
    },
    {
      "cell_type": "code",
      "source": [
        "model.compile(loss='sparse_categorical_crossentropy',\n",
        "              optimizer=opt,\n",
        "              metrics=['accuracy'])"
      ],
      "metadata": {
        "id": "AbMlLNk4DCBM"
      },
      "execution_count": 13,
      "outputs": []
    },
    {
      "cell_type": "code",
      "source": [
        "# Create an Instance of Early Stopping Callback.\n",
        "early_stopping_callback = EarlyStopping(monitor = 'val_loss', patience = 25, mode = 'min', restore_best_weights = True)\n",
        "\n",
        "cnnhistory=model.fit(x_traincnn, y_train, batch_size=16, epochs=500 , shuffle = True, \n",
        "                     validation_data=(X_valid, y_valid) , callbacks = [early_stopping_callback])"
      ],
      "metadata": {
        "id": "RI1v2AuADFhy",
        "colab": {
          "base_uri": "https://localhost:8080/"
        },
        "outputId": "85f2416d-f68f-4fce-e9dc-9b8ec0f004f8"
      },
      "execution_count": 14,
      "outputs": [
        {
          "output_type": "stream",
          "name": "stdout",
          "text": [
            "Epoch 1/500\n",
            "104/104 [==============================] - 7s 53ms/step - loss: 11.4929 - accuracy: 0.1796 - val_loss: 3.3852 - val_accuracy: 0.2754\n",
            "Epoch 2/500\n",
            "104/104 [==============================] - 7s 64ms/step - loss: 7.8512 - accuracy: 0.2056 - val_loss: 3.9966 - val_accuracy: 0.1836\n",
            "Epoch 3/500\n",
            "104/104 [==============================] - 7s 65ms/step - loss: 6.1009 - accuracy: 0.2158 - val_loss: 4.2648 - val_accuracy: 0.2126\n",
            "Epoch 4/500\n",
            "104/104 [==============================] - 7s 66ms/step - loss: 4.6993 - accuracy: 0.2346 - val_loss: 2.4397 - val_accuracy: 0.2367\n",
            "Epoch 5/500\n",
            "104/104 [==============================] - 7s 68ms/step - loss: 4.2503 - accuracy: 0.2074 - val_loss: 2.6279 - val_accuracy: 0.2126\n",
            "Epoch 6/500\n",
            "104/104 [==============================] - 5s 53ms/step - loss: 3.6304 - accuracy: 0.2346 - val_loss: 3.8407 - val_accuracy: 0.1932\n",
            "Epoch 7/500\n",
            "104/104 [==============================] - 4s 35ms/step - loss: 3.1774 - accuracy: 0.2449 - val_loss: 2.2733 - val_accuracy: 0.1981\n",
            "Epoch 8/500\n",
            "104/104 [==============================] - 4s 35ms/step - loss: 2.8925 - accuracy: 0.2533 - val_loss: 2.3719 - val_accuracy: 0.3575\n",
            "Epoch 9/500\n",
            "104/104 [==============================] - 4s 35ms/step - loss: 2.5796 - accuracy: 0.2848 - val_loss: 1.7872 - val_accuracy: 0.3237\n",
            "Epoch 10/500\n",
            "104/104 [==============================] - 4s 35ms/step - loss: 2.3916 - accuracy: 0.3023 - val_loss: 1.7898 - val_accuracy: 0.2512\n",
            "Epoch 11/500\n",
            "104/104 [==============================] - 4s 35ms/step - loss: 2.2077 - accuracy: 0.3241 - val_loss: 2.5622 - val_accuracy: 0.1981\n",
            "Epoch 12/500\n",
            "104/104 [==============================] - 4s 35ms/step - loss: 2.0718 - accuracy: 0.3325 - val_loss: 1.5947 - val_accuracy: 0.4058\n",
            "Epoch 13/500\n",
            "104/104 [==============================] - 4s 35ms/step - loss: 1.9445 - accuracy: 0.3337 - val_loss: 1.5788 - val_accuracy: 0.3285\n",
            "Epoch 14/500\n",
            "104/104 [==============================] - 4s 35ms/step - loss: 1.8773 - accuracy: 0.3615 - val_loss: 1.5373 - val_accuracy: 0.3478\n",
            "Epoch 15/500\n",
            "104/104 [==============================] - 4s 35ms/step - loss: 1.8006 - accuracy: 0.3694 - val_loss: 1.6125 - val_accuracy: 0.3961\n",
            "Epoch 16/500\n",
            "104/104 [==============================] - 4s 35ms/step - loss: 1.6162 - accuracy: 0.4002 - val_loss: 1.6721 - val_accuracy: 0.2657\n",
            "Epoch 17/500\n",
            "104/104 [==============================] - 4s 35ms/step - loss: 1.6111 - accuracy: 0.4093 - val_loss: 1.4009 - val_accuracy: 0.3720\n",
            "Epoch 18/500\n",
            "104/104 [==============================] - 4s 35ms/step - loss: 1.5515 - accuracy: 0.4450 - val_loss: 1.3084 - val_accuracy: 0.4928\n",
            "Epoch 19/500\n",
            "104/104 [==============================] - 4s 35ms/step - loss: 1.5309 - accuracy: 0.4480 - val_loss: 1.2956 - val_accuracy: 0.5024\n",
            "Epoch 20/500\n",
            "104/104 [==============================] - 4s 35ms/step - loss: 1.4603 - accuracy: 0.4504 - val_loss: 1.5105 - val_accuracy: 0.3430\n",
            "Epoch 21/500\n",
            "104/104 [==============================] - 4s 35ms/step - loss: 1.4054 - accuracy: 0.4788 - val_loss: 1.3825 - val_accuracy: 0.4638\n",
            "Epoch 22/500\n",
            "104/104 [==============================] - 4s 35ms/step - loss: 1.3435 - accuracy: 0.4867 - val_loss: 1.2924 - val_accuracy: 0.4783\n",
            "Epoch 23/500\n",
            "104/104 [==============================] - 4s 35ms/step - loss: 1.3064 - accuracy: 0.4982 - val_loss: 1.1709 - val_accuracy: 0.5604\n",
            "Epoch 24/500\n",
            "104/104 [==============================] - 4s 35ms/step - loss: 1.2630 - accuracy: 0.4994 - val_loss: 1.1887 - val_accuracy: 0.5556\n",
            "Epoch 25/500\n",
            "104/104 [==============================] - 4s 35ms/step - loss: 1.2279 - accuracy: 0.5266 - val_loss: 1.2317 - val_accuracy: 0.4976\n",
            "Epoch 26/500\n",
            "104/104 [==============================] - 4s 35ms/step - loss: 1.1756 - accuracy: 0.5466 - val_loss: 1.1699 - val_accuracy: 0.5507\n",
            "Epoch 27/500\n",
            "104/104 [==============================] - 4s 35ms/step - loss: 1.1850 - accuracy: 0.5423 - val_loss: 1.1683 - val_accuracy: 0.4928\n",
            "Epoch 28/500\n",
            "104/104 [==============================] - 4s 40ms/step - loss: 1.1585 - accuracy: 0.5629 - val_loss: 1.0772 - val_accuracy: 0.6135\n",
            "Epoch 29/500\n",
            "104/104 [==============================] - 5s 50ms/step - loss: 1.1634 - accuracy: 0.5599 - val_loss: 1.1771 - val_accuracy: 0.4976\n",
            "Epoch 30/500\n",
            "104/104 [==============================] - 4s 34ms/step - loss: 1.1202 - accuracy: 0.5580 - val_loss: 1.0867 - val_accuracy: 0.6039\n",
            "Epoch 31/500\n",
            "104/104 [==============================] - 4s 35ms/step - loss: 1.0667 - accuracy: 0.5889 - val_loss: 1.0659 - val_accuracy: 0.6184\n",
            "Epoch 32/500\n",
            "104/104 [==============================] - 4s 35ms/step - loss: 1.0653 - accuracy: 0.6040 - val_loss: 1.0374 - val_accuracy: 0.6184\n",
            "Epoch 33/500\n",
            "104/104 [==============================] - 4s 35ms/step - loss: 1.0558 - accuracy: 0.5925 - val_loss: 1.0880 - val_accuracy: 0.5604\n",
            "Epoch 34/500\n",
            "104/104 [==============================] - 4s 35ms/step - loss: 1.0291 - accuracy: 0.5967 - val_loss: 1.0393 - val_accuracy: 0.6184\n",
            "Epoch 35/500\n",
            "104/104 [==============================] - 4s 35ms/step - loss: 1.0286 - accuracy: 0.6004 - val_loss: 1.0223 - val_accuracy: 0.5990\n",
            "Epoch 36/500\n",
            "104/104 [==============================] - 4s 36ms/step - loss: 0.9994 - accuracy: 0.6288 - val_loss: 1.0306 - val_accuracy: 0.6184\n",
            "Epoch 37/500\n",
            "104/104 [==============================] - 4s 35ms/step - loss: 0.9604 - accuracy: 0.6403 - val_loss: 0.9650 - val_accuracy: 0.6522\n",
            "Epoch 38/500\n",
            "104/104 [==============================] - 4s 35ms/step - loss: 0.9606 - accuracy: 0.6312 - val_loss: 1.0126 - val_accuracy: 0.6280\n",
            "Epoch 39/500\n",
            "104/104 [==============================] - 4s 35ms/step - loss: 0.9567 - accuracy: 0.6221 - val_loss: 1.0454 - val_accuracy: 0.5797\n",
            "Epoch 40/500\n",
            "104/104 [==============================] - 4s 35ms/step - loss: 0.9295 - accuracy: 0.6366 - val_loss: 0.9054 - val_accuracy: 0.6570\n",
            "Epoch 41/500\n",
            "104/104 [==============================] - 4s 35ms/step - loss: 0.9386 - accuracy: 0.6348 - val_loss: 0.9319 - val_accuracy: 0.6522\n",
            "Epoch 42/500\n",
            "104/104 [==============================] - 4s 35ms/step - loss: 0.8888 - accuracy: 0.6608 - val_loss: 0.8940 - val_accuracy: 0.7005\n",
            "Epoch 43/500\n",
            "104/104 [==============================] - 4s 36ms/step - loss: 0.8845 - accuracy: 0.6681 - val_loss: 0.9505 - val_accuracy: 0.6425\n",
            "Epoch 44/500\n",
            "104/104 [==============================] - 4s 35ms/step - loss: 0.8851 - accuracy: 0.6487 - val_loss: 0.9072 - val_accuracy: 0.6087\n",
            "Epoch 45/500\n",
            "104/104 [==============================] - 4s 36ms/step - loss: 0.8514 - accuracy: 0.6753 - val_loss: 0.8460 - val_accuracy: 0.6618\n",
            "Epoch 46/500\n",
            "104/104 [==============================] - 4s 36ms/step - loss: 0.8450 - accuracy: 0.6644 - val_loss: 0.9240 - val_accuracy: 0.6039\n",
            "Epoch 47/500\n",
            "104/104 [==============================] - 4s 36ms/step - loss: 0.8524 - accuracy: 0.6614 - val_loss: 0.8094 - val_accuracy: 0.7053\n",
            "Epoch 48/500\n",
            "104/104 [==============================] - 4s 36ms/step - loss: 0.8386 - accuracy: 0.6808 - val_loss: 0.8216 - val_accuracy: 0.6908\n",
            "Epoch 49/500\n",
            "104/104 [==============================] - 4s 35ms/step - loss: 0.8271 - accuracy: 0.6765 - val_loss: 0.9535 - val_accuracy: 0.6087\n",
            "Epoch 50/500\n",
            "104/104 [==============================] - 4s 35ms/step - loss: 0.7992 - accuracy: 0.6917 - val_loss: 0.7841 - val_accuracy: 0.7150\n",
            "Epoch 51/500\n",
            "104/104 [==============================] - 4s 37ms/step - loss: 0.8042 - accuracy: 0.6832 - val_loss: 0.8531 - val_accuracy: 0.6715\n",
            "Epoch 52/500\n",
            "104/104 [==============================] - 4s 36ms/step - loss: 0.7960 - accuracy: 0.6862 - val_loss: 0.8012 - val_accuracy: 0.7150\n",
            "Epoch 53/500\n",
            "104/104 [==============================] - 4s 36ms/step - loss: 0.7685 - accuracy: 0.6965 - val_loss: 0.8600 - val_accuracy: 0.6473\n",
            "Epoch 54/500\n",
            "104/104 [==============================] - 4s 35ms/step - loss: 0.7597 - accuracy: 0.7122 - val_loss: 0.9159 - val_accuracy: 0.6473\n",
            "Epoch 55/500\n",
            "104/104 [==============================] - 4s 35ms/step - loss: 0.7474 - accuracy: 0.7146 - val_loss: 0.8351 - val_accuracy: 0.6908\n",
            "Epoch 56/500\n",
            "104/104 [==============================] - 4s 36ms/step - loss: 0.7461 - accuracy: 0.7086 - val_loss: 0.7813 - val_accuracy: 0.6957\n",
            "Epoch 57/500\n",
            "104/104 [==============================] - 4s 36ms/step - loss: 0.7356 - accuracy: 0.7134 - val_loss: 0.8265 - val_accuracy: 0.6667\n",
            "Epoch 58/500\n",
            "104/104 [==============================] - 4s 36ms/step - loss: 0.7220 - accuracy: 0.7146 - val_loss: 0.7411 - val_accuracy: 0.7198\n",
            "Epoch 59/500\n",
            "104/104 [==============================] - 4s 36ms/step - loss: 0.7182 - accuracy: 0.7297 - val_loss: 0.8187 - val_accuracy: 0.6618\n",
            "Epoch 60/500\n",
            "104/104 [==============================] - 4s 35ms/step - loss: 0.7083 - accuracy: 0.7195 - val_loss: 0.7606 - val_accuracy: 0.7101\n",
            "Epoch 61/500\n",
            "104/104 [==============================] - 4s 36ms/step - loss: 0.7322 - accuracy: 0.7140 - val_loss: 0.7231 - val_accuracy: 0.7150\n",
            "Epoch 62/500\n",
            "104/104 [==============================] - 4s 36ms/step - loss: 0.6906 - accuracy: 0.7261 - val_loss: 0.8349 - val_accuracy: 0.6715\n",
            "Epoch 63/500\n",
            "104/104 [==============================] - 4s 36ms/step - loss: 0.6878 - accuracy: 0.7291 - val_loss: 0.7320 - val_accuracy: 0.7295\n",
            "Epoch 64/500\n",
            "104/104 [==============================] - 4s 36ms/step - loss: 0.6672 - accuracy: 0.7382 - val_loss: 0.8438 - val_accuracy: 0.6667\n",
            "Epoch 65/500\n",
            "104/104 [==============================] - 4s 35ms/step - loss: 0.6984 - accuracy: 0.7334 - val_loss: 0.6931 - val_accuracy: 0.7536\n",
            "Epoch 66/500\n",
            "104/104 [==============================] - 4s 35ms/step - loss: 0.6831 - accuracy: 0.7273 - val_loss: 0.7325 - val_accuracy: 0.7295\n",
            "Epoch 67/500\n",
            "104/104 [==============================] - 4s 36ms/step - loss: 0.6369 - accuracy: 0.7672 - val_loss: 0.6833 - val_accuracy: 0.7681\n",
            "Epoch 68/500\n",
            "104/104 [==============================] - 4s 36ms/step - loss: 0.6680 - accuracy: 0.7509 - val_loss: 0.7048 - val_accuracy: 0.7101\n",
            "Epoch 69/500\n",
            "104/104 [==============================] - 4s 35ms/step - loss: 0.6316 - accuracy: 0.7491 - val_loss: 0.8293 - val_accuracy: 0.6715\n",
            "Epoch 70/500\n",
            "104/104 [==============================] - 4s 36ms/step - loss: 0.6298 - accuracy: 0.7503 - val_loss: 0.6855 - val_accuracy: 0.7053\n",
            "Epoch 71/500\n",
            "104/104 [==============================] - 4s 36ms/step - loss: 0.6207 - accuracy: 0.7654 - val_loss: 0.6951 - val_accuracy: 0.7295\n",
            "Epoch 72/500\n",
            "104/104 [==============================] - 4s 35ms/step - loss: 0.6159 - accuracy: 0.7618 - val_loss: 0.6706 - val_accuracy: 0.7391\n",
            "Epoch 73/500\n",
            "104/104 [==============================] - 4s 36ms/step - loss: 0.6240 - accuracy: 0.7576 - val_loss: 0.6891 - val_accuracy: 0.7198\n",
            "Epoch 74/500\n",
            "104/104 [==============================] - 4s 36ms/step - loss: 0.6042 - accuracy: 0.7757 - val_loss: 0.8587 - val_accuracy: 0.6812\n",
            "Epoch 75/500\n",
            "104/104 [==============================] - 4s 36ms/step - loss: 0.5692 - accuracy: 0.7908 - val_loss: 0.6136 - val_accuracy: 0.8019\n",
            "Epoch 76/500\n",
            "104/104 [==============================] - 4s 36ms/step - loss: 0.5774 - accuracy: 0.7630 - val_loss: 0.6728 - val_accuracy: 0.7246\n",
            "Epoch 77/500\n",
            "104/104 [==============================] - 4s 36ms/step - loss: 0.5814 - accuracy: 0.7769 - val_loss: 0.6158 - val_accuracy: 0.7923\n",
            "Epoch 78/500\n",
            "104/104 [==============================] - 4s 36ms/step - loss: 0.5728 - accuracy: 0.7751 - val_loss: 0.7441 - val_accuracy: 0.6908\n",
            "Epoch 79/500\n",
            "104/104 [==============================] - 4s 36ms/step - loss: 0.5708 - accuracy: 0.7727 - val_loss: 0.6617 - val_accuracy: 0.7440\n",
            "Epoch 80/500\n",
            "104/104 [==============================] - 4s 35ms/step - loss: 0.5643 - accuracy: 0.7854 - val_loss: 0.7792 - val_accuracy: 0.6908\n",
            "Epoch 81/500\n",
            "104/104 [==============================] - 4s 36ms/step - loss: 0.5406 - accuracy: 0.7920 - val_loss: 0.7404 - val_accuracy: 0.6812\n",
            "Epoch 82/500\n",
            "104/104 [==============================] - 4s 36ms/step - loss: 0.5406 - accuracy: 0.7878 - val_loss: 0.6243 - val_accuracy: 0.7536\n",
            "Epoch 83/500\n",
            "104/104 [==============================] - 4s 36ms/step - loss: 0.5439 - accuracy: 0.7938 - val_loss: 0.7355 - val_accuracy: 0.7005\n",
            "Epoch 84/500\n",
            "104/104 [==============================] - 4s 36ms/step - loss: 0.5298 - accuracy: 0.8035 - val_loss: 0.7221 - val_accuracy: 0.7246\n",
            "Epoch 85/500\n",
            "104/104 [==============================] - 4s 36ms/step - loss: 0.5099 - accuracy: 0.8053 - val_loss: 0.6503 - val_accuracy: 0.7633\n",
            "Epoch 86/500\n",
            "104/104 [==============================] - 4s 37ms/step - loss: 0.5285 - accuracy: 0.8041 - val_loss: 0.5933 - val_accuracy: 0.7536\n",
            "Epoch 87/500\n",
            "104/104 [==============================] - 4s 41ms/step - loss: 0.5498 - accuracy: 0.7878 - val_loss: 0.6475 - val_accuracy: 0.7343\n",
            "Epoch 88/500\n",
            "104/104 [==============================] - 4s 36ms/step - loss: 0.5309 - accuracy: 0.7938 - val_loss: 0.6109 - val_accuracy: 0.7536\n",
            "Epoch 89/500\n",
            "104/104 [==============================] - 4s 36ms/step - loss: 0.5143 - accuracy: 0.8089 - val_loss: 0.5778 - val_accuracy: 0.7923\n",
            "Epoch 90/500\n",
            "104/104 [==============================] - 4s 36ms/step - loss: 0.5113 - accuracy: 0.7987 - val_loss: 0.6642 - val_accuracy: 0.7633\n",
            "Epoch 91/500\n",
            "104/104 [==============================] - 4s 36ms/step - loss: 0.5104 - accuracy: 0.8114 - val_loss: 0.7218 - val_accuracy: 0.7198\n",
            "Epoch 92/500\n",
            "104/104 [==============================] - 4s 36ms/step - loss: 0.5053 - accuracy: 0.8011 - val_loss: 0.5956 - val_accuracy: 0.8019\n",
            "Epoch 93/500\n",
            "104/104 [==============================] - 4s 36ms/step - loss: 0.4759 - accuracy: 0.8229 - val_loss: 0.7000 - val_accuracy: 0.7295\n",
            "Epoch 94/500\n",
            "104/104 [==============================] - 4s 36ms/step - loss: 0.4870 - accuracy: 0.8210 - val_loss: 0.6653 - val_accuracy: 0.7488\n",
            "Epoch 95/500\n",
            "104/104 [==============================] - 4s 36ms/step - loss: 0.4795 - accuracy: 0.8283 - val_loss: 0.5763 - val_accuracy: 0.7874\n",
            "Epoch 96/500\n",
            "104/104 [==============================] - 4s 35ms/step - loss: 0.4817 - accuracy: 0.8259 - val_loss: 0.6956 - val_accuracy: 0.7391\n",
            "Epoch 97/500\n",
            "104/104 [==============================] - 4s 36ms/step - loss: 0.4830 - accuracy: 0.8192 - val_loss: 0.6385 - val_accuracy: 0.7391\n",
            "Epoch 98/500\n",
            "104/104 [==============================] - 4s 36ms/step - loss: 0.4714 - accuracy: 0.8150 - val_loss: 0.6514 - val_accuracy: 0.7005\n",
            "Epoch 99/500\n",
            "104/104 [==============================] - 4s 36ms/step - loss: 0.4678 - accuracy: 0.8271 - val_loss: 0.5567 - val_accuracy: 0.7778\n",
            "Epoch 100/500\n",
            "104/104 [==============================] - 4s 36ms/step - loss: 0.4426 - accuracy: 0.8374 - val_loss: 0.6050 - val_accuracy: 0.7729\n",
            "Epoch 101/500\n",
            "104/104 [==============================] - 4s 35ms/step - loss: 0.4483 - accuracy: 0.8259 - val_loss: 0.7351 - val_accuracy: 0.7005\n",
            "Epoch 102/500\n",
            "104/104 [==============================] - 4s 36ms/step - loss: 0.4374 - accuracy: 0.8349 - val_loss: 0.6668 - val_accuracy: 0.7150\n",
            "Epoch 103/500\n",
            "104/104 [==============================] - 4s 36ms/step - loss: 0.4275 - accuracy: 0.8392 - val_loss: 0.6902 - val_accuracy: 0.7536\n",
            "Epoch 104/500\n",
            "104/104 [==============================] - 4s 36ms/step - loss: 0.4438 - accuracy: 0.8331 - val_loss: 0.5980 - val_accuracy: 0.7633\n",
            "Epoch 105/500\n",
            "104/104 [==============================] - 4s 37ms/step - loss: 0.4318 - accuracy: 0.8313 - val_loss: 0.5748 - val_accuracy: 0.7874\n",
            "Epoch 106/500\n",
            "104/104 [==============================] - 4s 36ms/step - loss: 0.4095 - accuracy: 0.8489 - val_loss: 0.5770 - val_accuracy: 0.7585\n",
            "Epoch 107/500\n",
            "104/104 [==============================] - 4s 36ms/step - loss: 0.4201 - accuracy: 0.8476 - val_loss: 0.5918 - val_accuracy: 0.7585\n",
            "Epoch 108/500\n",
            "104/104 [==============================] - 4s 37ms/step - loss: 0.4279 - accuracy: 0.8349 - val_loss: 0.6103 - val_accuracy: 0.7729\n",
            "Epoch 109/500\n",
            "104/104 [==============================] - 4s 36ms/step - loss: 0.4075 - accuracy: 0.8428 - val_loss: 0.5730 - val_accuracy: 0.7874\n",
            "Epoch 110/500\n",
            "104/104 [==============================] - 4s 36ms/step - loss: 0.4022 - accuracy: 0.8446 - val_loss: 0.5860 - val_accuracy: 0.7874\n",
            "Epoch 111/500\n",
            "104/104 [==============================] - 4s 36ms/step - loss: 0.4054 - accuracy: 0.8501 - val_loss: 0.5581 - val_accuracy: 0.8019\n",
            "Epoch 112/500\n",
            "104/104 [==============================] - 4s 35ms/step - loss: 0.4234 - accuracy: 0.8422 - val_loss: 0.6192 - val_accuracy: 0.7826\n",
            "Epoch 113/500\n",
            "104/104 [==============================] - 4s 37ms/step - loss: 0.3755 - accuracy: 0.8525 - val_loss: 0.5521 - val_accuracy: 0.7971\n",
            "Epoch 114/500\n",
            "104/104 [==============================] - 4s 36ms/step - loss: 0.3709 - accuracy: 0.8597 - val_loss: 0.6382 - val_accuracy: 0.7681\n",
            "Epoch 115/500\n",
            "104/104 [==============================] - 4s 36ms/step - loss: 0.3980 - accuracy: 0.8470 - val_loss: 0.6005 - val_accuracy: 0.7440\n",
            "Epoch 116/500\n",
            "104/104 [==============================] - 4s 36ms/step - loss: 0.3835 - accuracy: 0.8549 - val_loss: 0.5707 - val_accuracy: 0.7874\n",
            "Epoch 117/500\n",
            "104/104 [==============================] - 4s 36ms/step - loss: 0.3696 - accuracy: 0.8513 - val_loss: 0.7461 - val_accuracy: 0.7585\n",
            "Epoch 118/500\n",
            "104/104 [==============================] - 4s 35ms/step - loss: 0.3650 - accuracy: 0.8579 - val_loss: 0.5801 - val_accuracy: 0.7585\n",
            "Epoch 119/500\n",
            "104/104 [==============================] - 4s 36ms/step - loss: 0.3782 - accuracy: 0.8567 - val_loss: 0.5660 - val_accuracy: 0.7778\n",
            "Epoch 120/500\n",
            "104/104 [==============================] - 4s 36ms/step - loss: 0.3446 - accuracy: 0.8748 - val_loss: 0.5637 - val_accuracy: 0.7778\n",
            "Epoch 121/500\n",
            "104/104 [==============================] - 4s 36ms/step - loss: 0.3491 - accuracy: 0.8700 - val_loss: 0.6713 - val_accuracy: 0.7488\n",
            "Epoch 122/500\n",
            "104/104 [==============================] - 4s 36ms/step - loss: 0.3476 - accuracy: 0.8700 - val_loss: 0.5698 - val_accuracy: 0.7826\n",
            "Epoch 123/500\n",
            "104/104 [==============================] - 4s 36ms/step - loss: 0.3453 - accuracy: 0.8761 - val_loss: 0.5508 - val_accuracy: 0.7633\n",
            "Epoch 124/500\n",
            "104/104 [==============================] - 4s 37ms/step - loss: 0.3454 - accuracy: 0.8773 - val_loss: 0.6236 - val_accuracy: 0.7295\n",
            "Epoch 125/500\n",
            "104/104 [==============================] - 4s 37ms/step - loss: 0.3214 - accuracy: 0.8785 - val_loss: 0.5981 - val_accuracy: 0.7633\n",
            "Epoch 126/500\n",
            "104/104 [==============================] - 4s 37ms/step - loss: 0.3491 - accuracy: 0.8682 - val_loss: 0.5866 - val_accuracy: 0.7536\n",
            "Epoch 127/500\n",
            "104/104 [==============================] - 4s 38ms/step - loss: 0.3592 - accuracy: 0.8718 - val_loss: 0.5497 - val_accuracy: 0.8019\n",
            "Epoch 128/500\n",
            "104/104 [==============================] - 4s 36ms/step - loss: 0.3476 - accuracy: 0.8779 - val_loss: 0.5386 - val_accuracy: 0.7971\n",
            "Epoch 129/500\n",
            "104/104 [==============================] - 4s 36ms/step - loss: 0.3455 - accuracy: 0.8761 - val_loss: 0.5327 - val_accuracy: 0.8019\n",
            "Epoch 130/500\n",
            "104/104 [==============================] - 4s 36ms/step - loss: 0.3321 - accuracy: 0.8761 - val_loss: 0.6526 - val_accuracy: 0.7488\n",
            "Epoch 131/500\n",
            "104/104 [==============================] - 4s 36ms/step - loss: 0.3324 - accuracy: 0.8755 - val_loss: 0.5481 - val_accuracy: 0.7681\n",
            "Epoch 132/500\n",
            "104/104 [==============================] - 4s 37ms/step - loss: 0.3467 - accuracy: 0.8676 - val_loss: 0.5774 - val_accuracy: 0.7729\n",
            "Epoch 133/500\n",
            "104/104 [==============================] - 4s 36ms/step - loss: 0.3224 - accuracy: 0.8773 - val_loss: 0.5589 - val_accuracy: 0.7971\n",
            "Epoch 134/500\n",
            "104/104 [==============================] - 4s 37ms/step - loss: 0.3285 - accuracy: 0.8736 - val_loss: 0.5934 - val_accuracy: 0.7729\n",
            "Epoch 135/500\n",
            "104/104 [==============================] - 4s 37ms/step - loss: 0.3265 - accuracy: 0.8785 - val_loss: 0.6120 - val_accuracy: 0.7633\n",
            "Epoch 136/500\n",
            "104/104 [==============================] - 4s 36ms/step - loss: 0.3273 - accuracy: 0.8767 - val_loss: 0.4835 - val_accuracy: 0.8213\n",
            "Epoch 137/500\n",
            "104/104 [==============================] - 4s 36ms/step - loss: 0.3172 - accuracy: 0.8900 - val_loss: 0.5505 - val_accuracy: 0.7874\n",
            "Epoch 138/500\n",
            "104/104 [==============================] - 4s 37ms/step - loss: 0.3192 - accuracy: 0.8839 - val_loss: 0.5151 - val_accuracy: 0.7874\n",
            "Epoch 139/500\n",
            "104/104 [==============================] - 4s 36ms/step - loss: 0.3189 - accuracy: 0.8803 - val_loss: 0.5906 - val_accuracy: 0.8019\n",
            "Epoch 140/500\n",
            "104/104 [==============================] - 4s 36ms/step - loss: 0.2783 - accuracy: 0.8942 - val_loss: 0.5081 - val_accuracy: 0.8116\n",
            "Epoch 141/500\n",
            "104/104 [==============================] - 4s 36ms/step - loss: 0.3006 - accuracy: 0.8833 - val_loss: 0.5408 - val_accuracy: 0.7923\n",
            "Epoch 142/500\n",
            "104/104 [==============================] - 4s 36ms/step - loss: 0.2778 - accuracy: 0.8906 - val_loss: 0.6322 - val_accuracy: 0.7874\n",
            "Epoch 143/500\n",
            "104/104 [==============================] - 4s 36ms/step - loss: 0.3207 - accuracy: 0.8809 - val_loss: 0.5645 - val_accuracy: 0.7874\n",
            "Epoch 144/500\n",
            "104/104 [==============================] - 4s 36ms/step - loss: 0.2773 - accuracy: 0.8948 - val_loss: 0.5664 - val_accuracy: 0.8116\n",
            "Epoch 145/500\n",
            "104/104 [==============================] - 4s 36ms/step - loss: 0.2787 - accuracy: 0.8900 - val_loss: 0.5062 - val_accuracy: 0.7923\n",
            "Epoch 146/500\n",
            "104/104 [==============================] - 4s 36ms/step - loss: 0.2912 - accuracy: 0.8918 - val_loss: 0.6355 - val_accuracy: 0.7681\n",
            "Epoch 147/500\n",
            "104/104 [==============================] - 4s 37ms/step - loss: 0.2705 - accuracy: 0.8930 - val_loss: 0.5186 - val_accuracy: 0.8164\n",
            "Epoch 148/500\n",
            "104/104 [==============================] - 4s 36ms/step - loss: 0.3008 - accuracy: 0.8869 - val_loss: 0.4893 - val_accuracy: 0.8116\n",
            "Epoch 149/500\n",
            "104/104 [==============================] - 4s 36ms/step - loss: 0.2691 - accuracy: 0.8984 - val_loss: 0.5189 - val_accuracy: 0.7971\n",
            "Epoch 150/500\n",
            "104/104 [==============================] - 4s 37ms/step - loss: 0.2630 - accuracy: 0.9021 - val_loss: 0.5720 - val_accuracy: 0.7826\n",
            "Epoch 151/500\n",
            "104/104 [==============================] - 4s 37ms/step - loss: 0.2622 - accuracy: 0.8996 - val_loss: 0.4702 - val_accuracy: 0.8164\n",
            "Epoch 152/500\n",
            "104/104 [==============================] - 4s 36ms/step - loss: 0.2770 - accuracy: 0.9015 - val_loss: 0.5396 - val_accuracy: 0.7923\n",
            "Epoch 153/500\n",
            "104/104 [==============================] - 4s 36ms/step - loss: 0.2649 - accuracy: 0.9051 - val_loss: 0.5336 - val_accuracy: 0.8116\n",
            "Epoch 154/500\n",
            "104/104 [==============================] - 4s 36ms/step - loss: 0.2608 - accuracy: 0.9117 - val_loss: 0.5480 - val_accuracy: 0.7923\n",
            "Epoch 155/500\n",
            "104/104 [==============================] - 4s 37ms/step - loss: 0.2736 - accuracy: 0.8960 - val_loss: 0.6195 - val_accuracy: 0.7729\n",
            "Epoch 156/500\n",
            "104/104 [==============================] - 4s 35ms/step - loss: 0.2670 - accuracy: 0.9008 - val_loss: 0.4946 - val_accuracy: 0.8213\n",
            "Epoch 157/500\n",
            "104/104 [==============================] - 4s 37ms/step - loss: 0.2608 - accuracy: 0.9081 - val_loss: 0.4983 - val_accuracy: 0.8213\n",
            "Epoch 158/500\n",
            "104/104 [==============================] - 4s 36ms/step - loss: 0.2443 - accuracy: 0.9117 - val_loss: 0.6207 - val_accuracy: 0.7778\n",
            "Epoch 159/500\n",
            "104/104 [==============================] - 4s 36ms/step - loss: 0.2551 - accuracy: 0.9057 - val_loss: 0.5236 - val_accuracy: 0.8068\n",
            "Epoch 160/500\n",
            "104/104 [==============================] - 4s 36ms/step - loss: 0.2567 - accuracy: 0.9021 - val_loss: 0.5436 - val_accuracy: 0.7923\n",
            "Epoch 161/500\n",
            "104/104 [==============================] - 4s 36ms/step - loss: 0.2374 - accuracy: 0.9129 - val_loss: 0.5143 - val_accuracy: 0.8261\n",
            "Epoch 162/500\n",
            "104/104 [==============================] - 4s 37ms/step - loss: 0.2496 - accuracy: 0.9129 - val_loss: 0.5258 - val_accuracy: 0.8309\n",
            "Epoch 163/500\n",
            "104/104 [==============================] - 4s 37ms/step - loss: 0.2346 - accuracy: 0.9087 - val_loss: 0.6948 - val_accuracy: 0.7488\n",
            "Epoch 164/500\n",
            "104/104 [==============================] - 4s 36ms/step - loss: 0.2606 - accuracy: 0.9051 - val_loss: 0.5746 - val_accuracy: 0.7923\n",
            "Epoch 165/500\n",
            "104/104 [==============================] - 4s 36ms/step - loss: 0.2414 - accuracy: 0.9093 - val_loss: 0.5254 - val_accuracy: 0.8309\n",
            "Epoch 166/500\n",
            "104/104 [==============================] - 4s 36ms/step - loss: 0.2573 - accuracy: 0.9081 - val_loss: 0.7203 - val_accuracy: 0.7536\n",
            "Epoch 167/500\n",
            "104/104 [==============================] - 4s 40ms/step - loss: 0.2283 - accuracy: 0.9178 - val_loss: 0.5580 - val_accuracy: 0.7971\n",
            "Epoch 168/500\n",
            "104/104 [==============================] - 4s 38ms/step - loss: 0.2477 - accuracy: 0.9135 - val_loss: 0.5381 - val_accuracy: 0.8164\n",
            "Epoch 169/500\n",
            "104/104 [==============================] - 4s 36ms/step - loss: 0.2449 - accuracy: 0.9154 - val_loss: 0.5380 - val_accuracy: 0.7826\n",
            "Epoch 170/500\n",
            "104/104 [==============================] - 4s 36ms/step - loss: 0.2299 - accuracy: 0.9172 - val_loss: 0.4845 - val_accuracy: 0.8213\n",
            "Epoch 171/500\n",
            "104/104 [==============================] - 4s 35ms/step - loss: 0.2247 - accuracy: 0.9220 - val_loss: 0.5495 - val_accuracy: 0.7971\n",
            "Epoch 172/500\n",
            "104/104 [==============================] - 4s 35ms/step - loss: 0.2418 - accuracy: 0.9069 - val_loss: 0.5461 - val_accuracy: 0.8116\n",
            "Epoch 173/500\n",
            "104/104 [==============================] - 4s 36ms/step - loss: 0.2276 - accuracy: 0.9160 - val_loss: 0.5462 - val_accuracy: 0.8019\n",
            "Epoch 174/500\n",
            "104/104 [==============================] - 4s 36ms/step - loss: 0.2288 - accuracy: 0.9154 - val_loss: 0.5444 - val_accuracy: 0.8164\n",
            "Epoch 175/500\n",
            "104/104 [==============================] - 4s 36ms/step - loss: 0.2322 - accuracy: 0.9081 - val_loss: 0.6819 - val_accuracy: 0.7440\n",
            "Epoch 176/500\n",
            "104/104 [==============================] - 4s 36ms/step - loss: 0.2352 - accuracy: 0.9154 - val_loss: 0.6672 - val_accuracy: 0.7923\n"
          ]
        }
      ]
    },
    {
      "cell_type": "code",
      "source": [
        "plt.plot(cnnhistory.history['loss'])\n",
        "plt.plot(cnnhistory.history['val_loss'])\n",
        "plt.title('model loss')\n",
        "plt.ylabel('loss')\n",
        "plt.xlabel('epoch')\n",
        "plt.legend(['train','test'], loc='upper left')\n",
        "plt.show()"
      ],
      "metadata": {
        "id": "oQYnuaCrDH_A",
        "colab": {
          "base_uri": "https://localhost:8080/",
          "height": 295
        },
        "outputId": "cfbf35aa-5423-4768-f299-33a1cbc0b9b8"
      },
      "execution_count": 15,
      "outputs": [
        {
          "output_type": "display_data",
          "data": {
            "text/plain": [
              "<Figure size 432x288 with 1 Axes>"
            ],
            "image/png": "[encoded data removed]"
          },
          "metadata": {
            "needs_background": "light"
          }
        }
      ]
    },
    {
      "cell_type": "code",
      "source": [
        "plt.plot(cnnhistory.history['accuracy'])\n",
        "plt.plot(cnnhistory.history['val_accuracy'])\n",
        "plt.title('model accuracy')\n",
        "plt.ylabel('accuracy')\n",
        "plt.xlabel('epoch')\n",
        "plt.legend(['train','test'], loc='upper left')\n",
        "plt.show()"
      ],
      "metadata": {
        "id": "IFkTuO8nDNdq",
        "colab": {
          "base_uri": "https://localhost:8080/",
          "height": 295
        },
        "outputId": "f075533b-d16b-4799-bfc6-ffc6c9cdf130"
      },
      "execution_count": 16,
      "outputs": [
        {
          "output_type": "display_data",
          "data": {
            "text/plain": [
              "<Figure size 432x288 with 1 Axes>"
            ],
            "image/png": "[encoded data removed]"
          },
          "metadata": {
            "needs_background": "light"
          }
        }
      ]
    },
    {
      "cell_type": "code",
      "source": [
        "predictions = model.predict(x_testcnn)"
      ],
      "metadata": {
        "id": "A2xtrN5wDQgY"
      },
      "execution_count": 17,
      "outputs": []
    },
    {
      "cell_type": "code",
      "source": [
        "predictions"
      ],
      "metadata": {
        "id": "_f_ohjXKDUpY",
        "colab": {
          "base_uri": "https://localhost:8080/"
        },
        "outputId": "1aa6c62f-f827-4ae3-da8e-5fa630b1d5ef"
      },
      "execution_count": 18,
      "outputs": [
        {
          "output_type": "execute_result",
          "data": {
            "text/plain": [
              "array([[4.09040898e-01, 1.52294105e-02, 1.70917377e-01, 3.53120744e-01,\n",
              "        3.39229219e-02, 1.77685563e-02],\n",
              "       [3.00889096e-05, 5.42583564e-07, 6.44508802e-08, 8.51397455e-01,\n",
              "        2.67658515e-06, 1.48569271e-01],\n",
              "       [1.98680267e-01, 5.57116568e-02, 2.31795833e-02, 5.68094015e-01,\n",
              "        3.85813299e-03, 1.50476351e-01],\n",
              "       ...,\n",
              "       [1.12811422e-05, 2.23177275e-11, 8.39023960e-06, 3.21856123e-06,\n",
              "        9.99735653e-01, 2.41399364e-04],\n",
              "       [9.03896726e-05, 7.17205465e-01, 2.81517088e-01, 2.70217715e-04,\n",
              "        7.24755344e-04, 1.91995990e-04],\n",
              "       [1.85395314e-04, 2.78710941e-05, 1.02073774e-02, 9.26810899e-05,\n",
              "        9.86597359e-01, 2.88932654e-03]], dtype=float32)"
            ]
          },
          "metadata": {},
          "execution_count": 18
        }
      ]
    },
    {
      "cell_type": "code",
      "source": [
        "y_test"
      ],
      "metadata": {
        "id": "cmA2bFgsDW3D",
        "colab": {
          "base_uri": "https://localhost:8080/"
        },
        "outputId": "a1b6140e-bfca-414e-b848-bb5d17bf7cac"
      },
      "execution_count": 19,
      "outputs": [
        {
          "output_type": "execute_result",
          "data": {
            "text/plain": [
              "array([3, 3, 3, 0, 4, 4, 1, 2, 5, 0, 5, 3, 2, 2, 1, 4, 4, 5, 2, 4, 1, 2,\n",
              "       3, 5, 4, 2, 1, 2, 2, 2, 2, 5, 2, 5, 3, 1, 2, 0, 4, 5, 2, 3, 2, 2,\n",
              "       5, 2, 0, 1, 3, 4, 4, 5, 1, 1, 4, 4, 5, 1, 1, 1, 0, 1, 5, 0, 4, 1,\n",
              "       1, 0, 1, 4, 1, 0, 4, 1, 3, 1, 2, 2, 1, 2, 3, 0, 5, 3, 5, 5, 2, 4,\n",
              "       5, 1, 5, 1, 5, 3, 4, 1, 4, 1, 5, 4, 5, 1, 2, 1, 1, 5, 1, 3, 2, 5,\n",
              "       2, 1, 3, 5, 4, 4, 0, 0, 3, 1, 2, 2, 3, 5, 1, 5, 3, 4, 2, 2, 0, 2,\n",
              "       2, 5, 5, 0, 3, 3, 2, 2, 0, 3, 4, 0, 4, 2, 4, 5, 4, 1, 5, 3, 2, 2,\n",
              "       5, 4, 3, 3, 4, 3, 3, 4, 1, 5, 2, 3, 2, 2, 0, 2, 1, 3, 1, 2, 2, 5,\n",
              "       5, 1, 4, 2, 2, 1, 1, 3, 3, 5, 5, 2, 5, 1, 5, 0, 3, 3, 0, 5, 1, 4,\n",
              "       1, 4, 2, 5, 5, 1, 4, 2, 4])"
            ]
          },
          "metadata": {},
          "execution_count": 19
        }
      ]
    },
    {
      "cell_type": "code",
      "source": [
        "new_Ytest = y_test.astype(int)"
      ],
      "metadata": {
        "id": "0PHDKWJWDY3g"
      },
      "execution_count": 20,
      "outputs": []
    },
    {
      "cell_type": "code",
      "source": [
        "new_Ytest"
      ],
      "metadata": {
        "id": "k68v2i-pDbZE",
        "colab": {
          "base_uri": "https://localhost:8080/"
        },
        "outputId": "542f97f6-5527-4b13-fa32-253bc37d137c"
      },
      "execution_count": 21,
      "outputs": [
        {
          "output_type": "execute_result",
          "data": {
            "text/plain": [
              "array([3, 3, 3, 0, 4, 4, 1, 2, 5, 0, 5, 3, 2, 2, 1, 4, 4, 5, 2, 4, 1, 2,\n",
              "       3, 5, 4, 2, 1, 2, 2, 2, 2, 5, 2, 5, 3, 1, 2, 0, 4, 5, 2, 3, 2, 2,\n",
              "       5, 2, 0, 1, 3, 4, 4, 5, 1, 1, 4, 4, 5, 1, 1, 1, 0, 1, 5, 0, 4, 1,\n",
              "       1, 0, 1, 4, 1, 0, 4, 1, 3, 1, 2, 2, 1, 2, 3, 0, 5, 3, 5, 5, 2, 4,\n",
              "       5, 1, 5, 1, 5, 3, 4, 1, 4, 1, 5, 4, 5, 1, 2, 1, 1, 5, 1, 3, 2, 5,\n",
              "       2, 1, 3, 5, 4, 4, 0, 0, 3, 1, 2, 2, 3, 5, 1, 5, 3, 4, 2, 2, 0, 2,\n",
              "       2, 5, 5, 0, 3, 3, 2, 2, 0, 3, 4, 0, 4, 2, 4, 5, 4, 1, 5, 3, 2, 2,\n",
              "       5, 4, 3, 3, 4, 3, 3, 4, 1, 5, 2, 3, 2, 2, 0, 2, 1, 3, 1, 2, 2, 5,\n",
              "       5, 1, 4, 2, 2, 1, 1, 3, 3, 5, 5, 2, 5, 1, 5, 0, 3, 3, 0, 5, 1, 4,\n",
              "       1, 4, 2, 5, 5, 1, 4, 2, 4])"
            ]
          },
          "metadata": {},
          "execution_count": 21
        }
      ]
    },
    {
      "cell_type": "code",
      "source": [
        "preds1=predictions.argmax(axis=1)\n",
        "preds1"
      ],
      "metadata": {
        "id": "4_cAI39VFhtp",
        "colab": {
          "base_uri": "https://localhost:8080/"
        },
        "outputId": "ade04f50-1eb4-431a-ba11-9fced93db624"
      },
      "execution_count": 22,
      "outputs": [
        {
          "output_type": "execute_result",
          "data": {
            "text/plain": [
              "array([0, 3, 3, 0, 4, 4, 1, 2, 5, 1, 5, 3, 2, 2, 0, 4, 4, 3, 2, 4, 2, 2,\n",
              "       0, 3, 4, 2, 1, 0, 2, 2, 2, 5, 2, 5, 3, 1, 2, 0, 4, 5, 2, 3, 2, 2,\n",
              "       0, 2, 1, 1, 0, 4, 4, 5, 1, 1, 4, 4, 5, 1, 1, 1, 0, 1, 1, 1, 4, 1,\n",
              "       1, 1, 1, 4, 0, 0, 2, 1, 5, 1, 2, 2, 1, 2, 1, 0, 5, 3, 5, 5, 2, 4,\n",
              "       3, 1, 0, 1, 5, 3, 2, 2, 4, 1, 5, 4, 5, 1, 2, 1, 1, 5, 1, 3, 2, 5,\n",
              "       5, 1, 3, 0, 4, 4, 3, 0, 3, 1, 1, 4, 1, 0, 0, 5, 3, 4, 2, 2, 0, 2,\n",
              "       2, 3, 3, 0, 3, 3, 2, 2, 0, 3, 4, 0, 4, 2, 4, 5, 4, 1, 5, 3, 2, 2,\n",
              "       5, 4, 4, 3, 4, 5, 3, 4, 1, 5, 2, 3, 2, 2, 0, 2, 1, 3, 1, 2, 2, 5,\n",
              "       5, 1, 4, 2, 2, 1, 1, 3, 3, 5, 5, 2, 3, 1, 2, 1, 3, 3, 2, 5, 1, 4,\n",
              "       1, 3, 5, 5, 4, 1, 4, 1, 4])"
            ]
          },
          "metadata": {},
          "execution_count": 22
        }
      ]
    },
    {
      "cell_type": "code",
      "source": [
        "abc = preds1.astype(int).flatten()"
      ],
      "metadata": {
        "id": "H4WEmM60NfQn"
      },
      "execution_count": 23,
      "outputs": []
    },
    {
      "cell_type": "code",
      "source": [
        "from sklearn.metrics import confusion_matrix\n",
        "c = confusion_matrix(new_Ytest, abc) \n",
        "c"
      ],
      "metadata": {
        "id": "bKEBeEBlFjB8",
        "colab": {
          "base_uri": "https://localhost:8080/"
        },
        "outputId": "0bbc1007-dc43-4516-f4be-657d3bafc1b2"
      },
      "execution_count": 24,
      "outputs": [
        {
          "output_type": "execute_result",
          "data": {
            "text/plain": [
              "array([[11,  5,  1,  1,  0,  0],\n",
              "       [ 3, 36,  2,  0,  0,  0],\n",
              "       [ 1,  2, 39,  0,  1,  2],\n",
              "       [ 3,  2,  0, 23,  1,  2],\n",
              "       [ 0,  0,  2,  1, 30,  0],\n",
              "       [ 4,  1,  1,  6,  1, 26]])"
            ]
          },
          "metadata": {},
          "execution_count": 24
        }
      ]
    },
    {
      "cell_type": "code",
      "source": [
        "y_test"
      ],
      "metadata": {
        "id": "m4RjG7LWLSQx",
        "colab": {
          "base_uri": "https://localhost:8080/"
        },
        "outputId": "705a937a-4949-46f0-a803-19e89675782b"
      },
      "execution_count": 25,
      "outputs": [
        {
          "output_type": "execute_result",
          "data": {
            "text/plain": [
              "array([3, 3, 3, 0, 4, 4, 1, 2, 5, 0, 5, 3, 2, 2, 1, 4, 4, 5, 2, 4, 1, 2,\n",
              "       3, 5, 4, 2, 1, 2, 2, 2, 2, 5, 2, 5, 3, 1, 2, 0, 4, 5, 2, 3, 2, 2,\n",
              "       5, 2, 0, 1, 3, 4, 4, 5, 1, 1, 4, 4, 5, 1, 1, 1, 0, 1, 5, 0, 4, 1,\n",
              "       1, 0, 1, 4, 1, 0, 4, 1, 3, 1, 2, 2, 1, 2, 3, 0, 5, 3, 5, 5, 2, 4,\n",
              "       5, 1, 5, 1, 5, 3, 4, 1, 4, 1, 5, 4, 5, 1, 2, 1, 1, 5, 1, 3, 2, 5,\n",
              "       2, 1, 3, 5, 4, 4, 0, 0, 3, 1, 2, 2, 3, 5, 1, 5, 3, 4, 2, 2, 0, 2,\n",
              "       2, 5, 5, 0, 3, 3, 2, 2, 0, 3, 4, 0, 4, 2, 4, 5, 4, 1, 5, 3, 2, 2,\n",
              "       5, 4, 3, 3, 4, 3, 3, 4, 1, 5, 2, 3, 2, 2, 0, 2, 1, 3, 1, 2, 2, 5,\n",
              "       5, 1, 4, 2, 2, 1, 1, 3, 3, 5, 5, 2, 5, 1, 5, 0, 3, 3, 0, 5, 1, 4,\n",
              "       1, 4, 2, 5, 5, 1, 4, 2, 4])"
            ]
          },
          "metadata": {},
          "execution_count": 25
        }
      ]
    },
    {
      "cell_type": "code",
      "source": [
        "loss, acc =model.evaluate(x_testcnn, y_test)\n",
        "print(\"Restored model, accuracy: {:5.2f}%\".format(100*acc))"
      ],
      "metadata": {
        "id": "n3kzoqPkDqqS",
        "colab": {
          "base_uri": "https://localhost:8080/"
        },
        "outputId": "509f2616-03b2-478f-81ea-26b7c16393ad"
      },
      "execution_count": 26,
      "outputs": [
        {
          "output_type": "stream",
          "name": "stdout",
          "text": [
            "7/7 [==============================] - 0s 10ms/step - loss: 0.5178 - accuracy: 0.7971\n",
            "Restored model, accuracy: 79.71%\n"
          ]
        }
      ]
    },
    {
      "cell_type": "code",
      "source": [
        "loss, acc =model.evaluate(X_train, y_train)\n",
        "print(\"Restored model train, accuracy: {:5.2f}%\".format(100*acc))"
      ],
      "metadata": {
        "id": "fJDTGH_OUX0z",
        "colab": {
          "base_uri": "https://localhost:8080/"
        },
        "outputId": "dd5731c7-6431-48d8-fc92-9fd0b7e83e71"
      },
      "execution_count": 27,
      "outputs": [
        {
          "output_type": "stream",
          "name": "stdout",
          "text": [
            "52/52 [==============================] - 1s 9ms/step - loss: 0.1230 - accuracy: 0.9813\n",
            "Restored model train, accuracy: 98.13%\n"
          ]
        }
      ]
    },
    {
      "cell_type": "code",
      "source": [
        "from sklearn.metrics import classification_report, confusion_matrix,accuracy_score\n",
        "import seaborn as sn\n",
        "\n",
        "print(classification_report(new_Ytest,abc))\n",
        "\n",
        "acc = float(accuracy_score(new_Ytest,abc))*100\n",
        "print(\"----accuracy score %s ----\" % acc)\n",
        "\n",
        "cm = confusion_matrix(new_Ytest,abc)\n",
        "#df_cm = pd.DataFrame(cm)\n",
        "class_names = ['neutral','calm', 'happy','sad','angry', 'fearful' ]\n",
        "df_cm = pd.DataFrame(cm, index=class_names, columns=class_names,)\n",
        "sn.heatmap(df_cm, annot=True, fmt='')\n",
        "plt.show()"
      ],
      "metadata": {
        "id": "SfSC3El94LZg",
        "colab": {
          "base_uri": "https://localhost:8080/",
          "height": 517
        },
        "outputId": "7708ad4c-0d1d-4964-bd3d-1e62e9c51045"
      },
      "execution_count": 28,
      "outputs": [
        {
          "output_type": "stream",
          "name": "stdout",
          "text": [
            "              precision    recall  f1-score   support\n",
            "\n",
            "           0       0.50      0.61      0.55        18\n",
            "           1       0.78      0.88      0.83        41\n",
            "           2       0.87      0.87      0.87        45\n",
            "           3       0.74      0.74      0.74        31\n",
            "           4       0.91      0.91      0.91        33\n",
            "           5       0.87      0.67      0.75        39\n",
            "\n",
            "    accuracy                           0.80       207\n",
            "   macro avg       0.78      0.78      0.77       207\n",
            "weighted avg       0.81      0.80      0.80       207\n",
            "\n",
            "----accuracy score 79.71014492753623 ----\n"
          ]
        },
        {
          "output_type": "display_data",
          "data": {
            "text/plain": [
              "<Figure size 432x288 with 2 Axes>"
            ],
            "image/png": "[encoded data removed]"
          },
          "metadata": {
            "needs_background": "light"
          }
        }
      ]
    }
  ]
}