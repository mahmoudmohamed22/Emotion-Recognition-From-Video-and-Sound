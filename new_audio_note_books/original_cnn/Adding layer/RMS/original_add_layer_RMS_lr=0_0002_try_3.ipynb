{
  "nbformat": 4,
  "nbformat_minor": 0,
  "metadata": {
    "colab": {
      "name": "original add layer RMS lr=0.0002 try 3.ipynb",
      "provenance": [],
      "collapsed_sections": []
    },
    "kernelspec": {
      "name": "python3",
      "display_name": "Python 3"
    },
    "language_info": {
      "name": "python"
    },
    "accelerator": "GPU"
  },
  "cells": [
    {
      "cell_type": "code",
      "execution_count": 1,
      "metadata": {
        "colab": {
          "base_uri": "https://localhost:8080/"
        },
        "id": "9SRCO-a_AlH5",
        "outputId": "618c233b-a2d7-4b31-dd57-1e11bc36c22e"
      },
      "outputs": [
        {
          "output_type": "stream",
          "name": "stdout",
          "text": [
            "Drive already mounted at /content/drive; to attempt to forcibly remount, call drive.mount(\"/content/drive\", force_remount=True).\n"
          ]
        }
      ],
      "source": [
        "from google.colab import drive\n",
        "drive.mount('/content/drive')"
      ]
    },
    {
      "cell_type": "code",
      "source": [
        "!pip install librosa"
      ],
      "metadata": {
        "colab": {
          "base_uri": "https://localhost:8080/"
        },
        "id": "5Lo4mUwG9RMd",
        "outputId": "b821c36c-9e7e-438e-d2f3-efdcf4909cdf"
      },
      "execution_count": 2,
      "outputs": [
        {
          "output_type": "stream",
          "name": "stdout",
          "text": [
            "Looking in indexes: https://pypi.org/simple, https://us-python.pkg.dev/colab-wheels/public/simple/\n",
            "Requirement already satisfied: librosa in /usr/local/lib/python3.7/dist-packages (0.8.1)\n",
            "Requirement already satisfied: numpy>=1.15.0 in /usr/local/lib/python3.7/dist-packages (from librosa) (1.21.6)\n",
            "Requirement already satisfied: scipy>=1.0.0 in /usr/local/lib/python3.7/dist-packages (from librosa) (1.4.1)\n",
            "Requirement already satisfied: scikit-learn!=0.19.0,>=0.14.0 in /usr/local/lib/python3.7/dist-packages (from librosa) (1.0.2)\n",
            "Requirement already satisfied: pooch>=1.0 in /usr/local/lib/python3.7/dist-packages (from librosa) (1.6.0)\n",
            "Requirement already satisfied: decorator>=3.0.0 in /usr/local/lib/python3.7/dist-packages (from librosa) (4.4.2)\n",
            "Requirement already satisfied: resampy>=0.2.2 in /usr/local/lib/python3.7/dist-packages (from librosa) (0.2.2)\n",
            "Requirement already satisfied: soundfile>=0.10.2 in /usr/local/lib/python3.7/dist-packages (from librosa) (0.10.3.post1)\n",
            "Requirement already satisfied: audioread>=2.0.0 in /usr/local/lib/python3.7/dist-packages (from librosa) (2.1.9)\n",
            "Requirement already satisfied: numba>=0.43.0 in /usr/local/lib/python3.7/dist-packages (from librosa) (0.51.2)\n",
            "Requirement already satisfied: packaging>=20.0 in /usr/local/lib/python3.7/dist-packages (from librosa) (21.3)\n",
            "Requirement already satisfied: joblib>=0.14 in /usr/local/lib/python3.7/dist-packages (from librosa) (1.1.0)\n",
            "Requirement already satisfied: llvmlite<0.35,>=0.34.0.dev0 in /usr/local/lib/python3.7/dist-packages (from numba>=0.43.0->librosa) (0.34.0)\n",
            "Requirement already satisfied: setuptools in /usr/local/lib/python3.7/dist-packages (from numba>=0.43.0->librosa) (57.4.0)\n",
            "Requirement already satisfied: pyparsing!=3.0.5,>=2.0.2 in /usr/local/lib/python3.7/dist-packages (from packaging>=20.0->librosa) (3.0.9)\n",
            "Requirement already satisfied: requests>=2.19.0 in /usr/local/lib/python3.7/dist-packages (from pooch>=1.0->librosa) (2.23.0)\n",
            "Requirement already satisfied: appdirs>=1.3.0 in /usr/local/lib/python3.7/dist-packages (from pooch>=1.0->librosa) (1.4.4)\n",
            "Requirement already satisfied: chardet<4,>=3.0.2 in /usr/local/lib/python3.7/dist-packages (from requests>=2.19.0->pooch>=1.0->librosa) (3.0.4)\n",
            "Requirement already satisfied: idna<3,>=2.5 in /usr/local/lib/python3.7/dist-packages (from requests>=2.19.0->pooch>=1.0->librosa) (2.10)\n",
            "Requirement already satisfied: certifi>=2017.4.17 in /usr/local/lib/python3.7/dist-packages (from requests>=2.19.0->pooch>=1.0->librosa) (2022.5.18.1)\n",
            "Requirement already satisfied: urllib3!=1.25.0,!=1.25.1,<1.26,>=1.21.1 in /usr/local/lib/python3.7/dist-packages (from requests>=2.19.0->pooch>=1.0->librosa) (1.24.3)\n",
            "Requirement already satisfied: six>=1.3 in /usr/local/lib/python3.7/dist-packages (from resampy>=0.2.2->librosa) (1.15.0)\n",
            "Requirement already satisfied: threadpoolctl>=2.0.0 in /usr/local/lib/python3.7/dist-packages (from scikit-learn!=0.19.0,>=0.14.0->librosa) (3.1.0)\n",
            "Requirement already satisfied: cffi>=1.0 in /usr/local/lib/python3.7/dist-packages (from soundfile>=0.10.2->librosa) (1.15.0)\n",
            "Requirement already satisfied: pycparser in /usr/local/lib/python3.7/dist-packages (from cffi>=1.0->soundfile>=0.10.2->librosa) (2.21)\n"
          ]
        }
      ]
    },
    {
      "cell_type": "code",
      "metadata": {
        "id": "HJjcbxwy46bG",
        "colab": {
          "base_uri": "https://localhost:8080/",
          "height": 17
        },
        "outputId": "3ac8b0af-df8a-4f6b-88b0-cc00840bc32d"
      },
      "source": [
        "# Orignial Notebook: https://github.com/MITESHPUTHRANNEU/Speech-Emotion-Analyzer/blob/master/final_results_gender_test.ipynb\n",
        "# This notebook author: Reza Chu\n",
        "# Last Editing Date: 31st May 2019\n",
        "\n",
        "## Python\n",
        "import os\n",
        "import random\n",
        "import sys\n",
        "\n",
        "import IPython\n",
        "from IPython.display import Audio\n",
        "from IPython.display import Image\n",
        "import matplotlib.pyplot as plt\n",
        "\n",
        "## Package\n",
        "import glob \n",
        "import keras\n",
        "import IPython.display as ipd\n",
        "import librosa\n",
        "import librosa.display\n",
        "import matplotlib.pyplot as plt\n",
        "import numpy as np\n",
        "import pandas as pd\n",
        "import plotly.graph_objs as go\n",
        "import plotly.offline as py\n",
        "import plotly.tools as tls\n",
        "import seaborn as sns\n",
        "import scipy.io.wavfile\n",
        "import tensorflow as tf\n",
        "py.init_notebook_mode(connected=True)\n",
        "\n",
        "## Keras\n",
        "from keras import regularizers\n",
        "from keras.callbacks import ModelCheckpoint, LearningRateScheduler, EarlyStopping\n",
        "from keras.callbacks import  History, ReduceLROnPlateau, CSVLogger\n",
        "from keras.models import Model, Sequential\n",
        "from keras.layers import Dense, Embedding, LSTM\n",
        "from keras.layers import Input, Flatten, Dropout, Activation, BatchNormalization\n",
        "from keras.layers import Conv1D, MaxPooling1D, AveragePooling1D\n",
        "from keras.preprocessing import sequence\n",
        "from keras.preprocessing.sequence import pad_sequences\n",
        "from keras.preprocessing.text import Tokenizer\n",
        "from keras.utils import np_utils\n",
        "from tensorflow.keras.utils import to_categorical\n",
        "\n",
        "## Sklearn\n",
        "from sklearn.metrics import confusion_matrix\n",
        "from sklearn.preprocessing import LabelEncoder\n",
        "\n",
        "## Rest\n",
        "from scipy.fftpack import fft\n",
        "from scipy import signal\n",
        "from scipy.io import wavfile\n",
        "from tqdm import tqdm\n",
        "\n",
        "input_duration=3\n",
        "# % pylab inline"
      ],
      "execution_count": 3,
      "outputs": [
        {
          "output_type": "display_data",
          "data": {
            "text/html": [
              "        <script type=\"text/javascript\">\n",
              "        window.PlotlyConfig = {MathJaxConfig: 'local'};\n",
              "        if (window.MathJax) {MathJax.Hub.Config({SVG: {font: \"STIX-Web\"}});}\n",
              "        if (typeof require !== 'undefined') {\n",
              "        require.undef(\"plotly\");\n",
              "        requirejs.config({\n",
              "            paths: {\n",
              "                'plotly': ['https://cdn.plot.ly/plotly-2.8.3.min']\n",
              "            }\n",
              "        });\n",
              "        require(['plotly'], function(Plotly) {\n",
              "            window._Plotly = Plotly;\n",
              "        });\n",
              "        }\n",
              "        </script>\n",
              "        "
            ]
          },
          "metadata": {}
        }
      ]
    },
    {
      "cell_type": "code",
      "source": [
        "# # Saving joblib files to not load them again with the loop above\n",
        "\n",
        "# import joblib\n",
        "\n",
        "# X_name = 'x.joblib'\n",
        "# y_name = 'y.joblib'\n",
        "# save_dir = '/content/drive/My Drive/graduation project/audio/paper_code/features'\n",
        "\n",
        "# savedX = joblib.dump(X, os.path.join(save_dir, X_name))\n",
        "# savedy = joblib.dump(y, os.path.join(save_dir, y_name))"
      ],
      "metadata": {
        "id": "UCzic8rlDcuk"
      },
      "execution_count": 4,
      "outputs": []
    },
    {
      "cell_type": "code",
      "source": [
        "# # Loading saved models\n",
        "import joblib\n",
        "X = joblib.load('/content/drive/My Drive/graduation project/audio/paper_code/features/x.joblib')\n",
        "y = joblib.load('/content/drive/My Drive/graduation project/audio/paper_code/features/y.joblib')"
      ],
      "metadata": {
        "id": "Q35CN6zDrzg1"
      },
      "execution_count": 5,
      "outputs": []
    },
    {
      "cell_type": "code",
      "source": [
        "X.shape"
      ],
      "metadata": {
        "colab": {
          "base_uri": "https://localhost:8080/"
        },
        "id": "7PSTurzjCo5K",
        "outputId": "60a1d0a5-34ba-4e3d-9014-a5be84d703dd"
      },
      "execution_count": 6,
      "outputs": [
        {
          "output_type": "execute_result",
          "data": {
            "text/plain": [
              "(2068, 40)"
            ]
          },
          "metadata": {},
          "execution_count": 6
        }
      ]
    },
    {
      "cell_type": "code",
      "source": [
        "from sklearn.model_selection import train_test_split\n",
        "\n",
        "X_train, X_test, y_train, y_test = train_test_split(X,y, test_size=0.1 ,shuffle = True\n",
        "                                                    , random_state=42)\n",
        "X_train , X_valid, y_train, y_valid = train_test_split(X_train,y_train, test_size=0.1112305212 , shuffle = True \n",
        "                                                       , random_state=42)"
      ],
      "metadata": {
        "id": "Ai4Fy5cPCiq1"
      },
      "execution_count": 7,
      "outputs": []
    },
    {
      "cell_type": "code",
      "source": [
        "import numpy as np\n",
        "x_traincnn = np.expand_dims(X_train, axis=2)\n",
        "x_testcnn = np.expand_dims(X_test, axis=2)\n",
        "X_valid= np.expand_dims(X_valid, axis=2)"
      ],
      "metadata": {
        "id": "tp1Fm5K3CEXu"
      },
      "execution_count": 8,
      "outputs": []
    },
    {
      "cell_type": "code",
      "source": [
        "x_traincnn.shape, x_testcnn.shape , X_valid.shape\n",
        "#1861"
      ],
      "metadata": {
        "id": "RI0MxoIPBws5",
        "colab": {
          "base_uri": "https://localhost:8080/"
        },
        "outputId": "4080fd4c-696b-4d6a-a026-6cc8f6914d05"
      },
      "execution_count": 9,
      "outputs": [
        {
          "output_type": "execute_result",
          "data": {
            "text/plain": [
              "((1654, 40, 1), (207, 40, 1), (207, 40, 1))"
            ]
          },
          "metadata": {},
          "execution_count": 9
        }
      ]
    },
    {
      "cell_type": "code",
      "source": [
        "!pip install tensorflow"
      ],
      "metadata": {
        "colab": {
          "base_uri": "https://localhost:8080/"
        },
        "id": "oALhiMUd9G2Y",
        "outputId": "9e7ca904-4ecf-4fa7-c054-848daccfe86e"
      },
      "execution_count": 10,
      "outputs": [
        {
          "output_type": "stream",
          "name": "stdout",
          "text": [
            "Looking in indexes: https://pypi.org/simple, https://us-python.pkg.dev/colab-wheels/public/simple/\n",
            "Requirement already satisfied: tensorflow in /usr/local/lib/python3.7/dist-packages (2.8.2+zzzcolab20220527125636)\n",
            "Requirement already satisfied: tensorboard<2.9,>=2.8 in /usr/local/lib/python3.7/dist-packages (from tensorflow) (2.8.0)\n",
            "Requirement already satisfied: flatbuffers>=1.12 in /usr/local/lib/python3.7/dist-packages (from tensorflow) (2.0)\n",
            "Requirement already satisfied: absl-py>=0.4.0 in /usr/local/lib/python3.7/dist-packages (from tensorflow) (1.0.0)\n",
            "Requirement already satisfied: astunparse>=1.6.0 in /usr/local/lib/python3.7/dist-packages (from tensorflow) (1.6.3)\n",
            "Requirement already satisfied: numpy>=1.20 in /usr/local/lib/python3.7/dist-packages (from tensorflow) (1.21.6)\n",
            "Requirement already satisfied: libclang>=9.0.1 in /usr/local/lib/python3.7/dist-packages (from tensorflow) (14.0.1)\n",
            "Requirement already satisfied: gast>=0.2.1 in /usr/local/lib/python3.7/dist-packages (from tensorflow) (0.5.3)\n",
            "Requirement already satisfied: termcolor>=1.1.0 in /usr/local/lib/python3.7/dist-packages (from tensorflow) (1.1.0)\n",
            "Requirement already satisfied: google-pasta>=0.1.1 in /usr/local/lib/python3.7/dist-packages (from tensorflow) (0.2.0)\n",
            "Requirement already satisfied: tensorflow-estimator<2.9,>=2.8 in /usr/local/lib/python3.7/dist-packages (from tensorflow) (2.8.0)\n",
            "Requirement already satisfied: keras-preprocessing>=1.1.1 in /usr/local/lib/python3.7/dist-packages (from tensorflow) (1.1.2)\n",
            "Requirement already satisfied: protobuf<3.20,>=3.9.2 in /usr/local/lib/python3.7/dist-packages (from tensorflow) (3.17.3)\n",
            "Requirement already satisfied: typing-extensions>=3.6.6 in /usr/local/lib/python3.7/dist-packages (from tensorflow) (4.2.0)\n",
            "Requirement already satisfied: setuptools in /usr/local/lib/python3.7/dist-packages (from tensorflow) (57.4.0)\n",
            "Requirement already satisfied: tensorflow-io-gcs-filesystem>=0.23.1 in /usr/local/lib/python3.7/dist-packages (from tensorflow) (0.26.0)\n",
            "Requirement already satisfied: keras<2.9,>=2.8.0rc0 in /usr/local/lib/python3.7/dist-packages (from tensorflow) (2.8.0)\n",
            "Requirement already satisfied: six>=1.12.0 in /usr/local/lib/python3.7/dist-packages (from tensorflow) (1.15.0)\n",
            "Requirement already satisfied: grpcio<2.0,>=1.24.3 in /usr/local/lib/python3.7/dist-packages (from tensorflow) (1.46.3)\n",
            "Requirement already satisfied: wrapt>=1.11.0 in /usr/local/lib/python3.7/dist-packages (from tensorflow) (1.14.1)\n",
            "Requirement already satisfied: h5py>=2.9.0 in /usr/local/lib/python3.7/dist-packages (from tensorflow) (3.1.0)\n",
            "Requirement already satisfied: opt-einsum>=2.3.2 in /usr/local/lib/python3.7/dist-packages (from tensorflow) (3.3.0)\n",
            "Requirement already satisfied: wheel<1.0,>=0.23.0 in /usr/local/lib/python3.7/dist-packages (from astunparse>=1.6.0->tensorflow) (0.37.1)\n",
            "Requirement already satisfied: cached-property in /usr/local/lib/python3.7/dist-packages (from h5py>=2.9.0->tensorflow) (1.5.2)\n",
            "Requirement already satisfied: tensorboard-plugin-wit>=1.6.0 in /usr/local/lib/python3.7/dist-packages (from tensorboard<2.9,>=2.8->tensorflow) (1.8.1)\n",
            "Requirement already satisfied: google-auth<3,>=1.6.3 in /usr/local/lib/python3.7/dist-packages (from tensorboard<2.9,>=2.8->tensorflow) (1.35.0)\n",
            "Requirement already satisfied: markdown>=2.6.8 in /usr/local/lib/python3.7/dist-packages (from tensorboard<2.9,>=2.8->tensorflow) (3.3.7)\n",
            "Requirement already satisfied: tensorboard-data-server<0.7.0,>=0.6.0 in /usr/local/lib/python3.7/dist-packages (from tensorboard<2.9,>=2.8->tensorflow) (0.6.1)\n",
            "Requirement already satisfied: google-auth-oauthlib<0.5,>=0.4.1 in /usr/local/lib/python3.7/dist-packages (from tensorboard<2.9,>=2.8->tensorflow) (0.4.6)\n",
            "Requirement already satisfied: werkzeug>=0.11.15 in /usr/local/lib/python3.7/dist-packages (from tensorboard<2.9,>=2.8->tensorflow) (1.0.1)\n",
            "Requirement already satisfied: requests<3,>=2.21.0 in /usr/local/lib/python3.7/dist-packages (from tensorboard<2.9,>=2.8->tensorflow) (2.23.0)\n",
            "Requirement already satisfied: rsa<5,>=3.1.4 in /usr/local/lib/python3.7/dist-packages (from google-auth<3,>=1.6.3->tensorboard<2.9,>=2.8->tensorflow) (4.8)\n",
            "Requirement already satisfied: pyasn1-modules>=0.2.1 in /usr/local/lib/python3.7/dist-packages (from google-auth<3,>=1.6.3->tensorboard<2.9,>=2.8->tensorflow) (0.2.8)\n",
            "Requirement already satisfied: cachetools<5.0,>=2.0.0 in /usr/local/lib/python3.7/dist-packages (from google-auth<3,>=1.6.3->tensorboard<2.9,>=2.8->tensorflow) (4.2.4)\n",
            "Requirement already satisfied: requests-oauthlib>=0.7.0 in /usr/local/lib/python3.7/dist-packages (from google-auth-oauthlib<0.5,>=0.4.1->tensorboard<2.9,>=2.8->tensorflow) (1.3.1)\n",
            "Requirement already satisfied: importlib-metadata>=4.4 in /usr/local/lib/python3.7/dist-packages (from markdown>=2.6.8->tensorboard<2.9,>=2.8->tensorflow) (4.11.4)\n",
            "Requirement already satisfied: zipp>=0.5 in /usr/local/lib/python3.7/dist-packages (from importlib-metadata>=4.4->markdown>=2.6.8->tensorboard<2.9,>=2.8->tensorflow) (3.8.0)\n",
            "Requirement already satisfied: pyasn1<0.5.0,>=0.4.6 in /usr/local/lib/python3.7/dist-packages (from pyasn1-modules>=0.2.1->google-auth<3,>=1.6.3->tensorboard<2.9,>=2.8->tensorflow) (0.4.8)\n",
            "Requirement already satisfied: chardet<4,>=3.0.2 in /usr/local/lib/python3.7/dist-packages (from requests<3,>=2.21.0->tensorboard<2.9,>=2.8->tensorflow) (3.0.4)\n",
            "Requirement already satisfied: urllib3!=1.25.0,!=1.25.1,<1.26,>=1.21.1 in /usr/local/lib/python3.7/dist-packages (from requests<3,>=2.21.0->tensorboard<2.9,>=2.8->tensorflow) (1.24.3)\n",
            "Requirement already satisfied: certifi>=2017.4.17 in /usr/local/lib/python3.7/dist-packages (from requests<3,>=2.21.0->tensorboard<2.9,>=2.8->tensorflow) (2022.5.18.1)\n",
            "Requirement already satisfied: idna<3,>=2.5 in /usr/local/lib/python3.7/dist-packages (from requests<3,>=2.21.0->tensorboard<2.9,>=2.8->tensorflow) (2.10)\n",
            "Requirement already satisfied: oauthlib>=3.0.0 in /usr/local/lib/python3.7/dist-packages (from requests-oauthlib>=0.7.0->google-auth-oauthlib<0.5,>=0.4.1->tensorboard<2.9,>=2.8->tensorflow) (3.2.0)\n"
          ]
        }
      ]
    },
    {
      "cell_type": "code",
      "source": [
        "import keras\n",
        "import numpy as np\n",
        "import matplotlib.pyplot as plt\n",
        "import tensorflow as tf\n",
        "from keras.preprocessing import sequence\n",
        "from keras.models import Sequential\n",
        "from keras.layers import Dense, Embedding\n",
        "from tensorflow.keras.utils import to_categorical\n",
        "from keras.layers import Input, Flatten, Dropout, Activation\n",
        "from keras.layers import Conv1D, MaxPooling1D\n",
        "from keras.models import Model\n",
        "from keras.callbacks import ModelCheckpoint\n",
        "from tensorflow.keras import optimizers\n",
        "\n",
        "model = Sequential()\n",
        "\n",
        "model.add(Conv1D(128, 8,padding='same', #classifier.add(Convolution2D(64, (3, 3), padding = 'same', input_shape = (128, 128, 3), activation = 'relu'))\n",
        "                 input_shape=(40,1)))\n",
        "model.add(Activation('relu'))\n",
        "model.add(Dropout(0.3))\n",
        "model.add(MaxPooling1D(pool_size=(5)))\n",
        "\n",
        "\n",
        "model.add(Conv1D(256,8,padding='same',))\n",
        "model.add(Activation('relu'))\n",
        "model.add(Dropout(0.3))\n",
        "model.add(MaxPooling1D(pool_size=(5)))\n",
        "\n",
        "model.add(Conv1D(256,8,padding='same',))\n",
        "model.add(Activation('relu'))\n",
        "model.add(Dropout(0.3))\n",
        "#model.add(MaxPooling1D(pool_size=(5)))\n",
        "\n",
        "model.add(Flatten())\n",
        "\n",
        "model.add(Dense(256))\n",
        "model.add(Activation('relu'))\n",
        "model.add(Dense(256))\n",
        "model.add(Activation('relu'))\n",
        "\n",
        "model.add(Dense(6))\n",
        "model.add(Activation('softmax'))\n",
        "\n",
        "\n",
        "opt = tf.keras.optimizers.RMSprop(lr=0.0002 , decay=0.0)\n",
        "#opt = tf.keras.optimizers.Adam(lr=0.0002 , decay=0.0)\n",
        "#opt = tf.keras.optimizers.RMSprop(lr=0.0001, rho=0.9, epsilon=1e-07, decay=0.0)\n",
        "#opt = tf.keras.optimizers.SGD(lr=0.001, momentum=0.0, decay=0.0, nesterov=False)"
      ],
      "metadata": {
        "id": "g74fXWVAC4Cr",
        "colab": {
          "base_uri": "https://localhost:8080/"
        },
        "outputId": "66fa7ef9-e5af-4243-e16c-e1098b9532e3"
      },
      "execution_count": 11,
      "outputs": [
        {
          "output_type": "stream",
          "name": "stderr",
          "text": [
            "/usr/local/lib/python3.7/dist-packages/keras/optimizer_v2/rmsprop.py:130: UserWarning:\n",
            "\n",
            "The `lr` argument is deprecated, use `learning_rate` instead.\n",
            "\n"
          ]
        }
      ]
    },
    {
      "cell_type": "code",
      "source": [
        "model.summary()"
      ],
      "metadata": {
        "colab": {
          "base_uri": "https://localhost:8080/"
        },
        "id": "H6ukOxAGC_I4",
        "outputId": "17ec6a96-5d00-42e3-c850-3b51557d2f65"
      },
      "execution_count": 12,
      "outputs": [
        {
          "output_type": "stream",
          "name": "stdout",
          "text": [
            "Model: \"sequential\"\n",
            "_________________________________________________________________\n",
            " Layer (type)                Output Shape              Param #   \n",
            "=================================================================\n",
            " conv1d (Conv1D)             (None, 40, 128)           1152      \n",
            "                                                                 \n",
            " activation (Activation)     (None, 40, 128)           0         \n",
            "                                                                 \n",
            " dropout (Dropout)           (None, 40, 128)           0         \n",
            "                                                                 \n",
            " max_pooling1d (MaxPooling1D  (None, 8, 128)           0         \n",
            " )                                                               \n",
            "                                                                 \n",
            " conv1d_1 (Conv1D)           (None, 8, 256)            262400    \n",
            "                                                                 \n",
            " activation_1 (Activation)   (None, 8, 256)            0         \n",
            "                                                                 \n",
            " dropout_1 (Dropout)         (None, 8, 256)            0         \n",
            "                                                                 \n",
            " max_pooling1d_1 (MaxPooling  (None, 1, 256)           0         \n",
            " 1D)                                                             \n",
            "                                                                 \n",
            " conv1d_2 (Conv1D)           (None, 1, 256)            524544    \n",
            "                                                                 \n",
            " activation_2 (Activation)   (None, 1, 256)            0         \n",
            "                                                                 \n",
            " dropout_2 (Dropout)         (None, 1, 256)            0         \n",
            "                                                                 \n",
            " flatten (Flatten)           (None, 256)               0         \n",
            "                                                                 \n",
            " dense (Dense)               (None, 256)               65792     \n",
            "                                                                 \n",
            " activation_3 (Activation)   (None, 256)               0         \n",
            "                                                                 \n",
            " dense_1 (Dense)             (None, 256)               65792     \n",
            "                                                                 \n",
            " activation_4 (Activation)   (None, 256)               0         \n",
            "                                                                 \n",
            " dense_2 (Dense)             (None, 6)                 1542      \n",
            "                                                                 \n",
            " activation_5 (Activation)   (None, 6)                 0         \n",
            "                                                                 \n",
            "=================================================================\n",
            "Total params: 921,222\n",
            "Trainable params: 921,222\n",
            "Non-trainable params: 0\n",
            "_________________________________________________________________\n"
          ]
        }
      ]
    },
    {
      "cell_type": "code",
      "source": [
        "model.compile(loss='sparse_categorical_crossentropy',\n",
        "              optimizer=opt,\n",
        "              metrics=['accuracy'])"
      ],
      "metadata": {
        "id": "AbMlLNk4DCBM"
      },
      "execution_count": 13,
      "outputs": []
    },
    {
      "cell_type": "code",
      "source": [
        "# Create an Instance of Early Stopping Callback.\n",
        "early_stopping_callback = EarlyStopping(monitor = 'val_loss', patience = 25, mode = 'min', restore_best_weights = True)\n",
        "\n",
        "cnnhistory=model.fit(x_traincnn, y_train, batch_size=16, epochs=500 , shuffle = True, \n",
        "                     validation_data=(X_valid, y_valid) , callbacks = [early_stopping_callback])"
      ],
      "metadata": {
        "colab": {
          "base_uri": "https://localhost:8080/"
        },
        "id": "RI1v2AuADFhy",
        "outputId": "c8ac4358-341f-4278-9aa1-0e6f23954ad9"
      },
      "execution_count": 14,
      "outputs": [
        {
          "output_type": "stream",
          "name": "stdout",
          "text": [
            "Epoch 1/500\n",
            "104/104 [==============================] - 6s 16ms/step - loss: 2.2440 - accuracy: 0.1759 - val_loss: 1.8226 - val_accuracy: 0.2271\n",
            "Epoch 2/500\n",
            "104/104 [==============================] - 1s 12ms/step - loss: 1.8857 - accuracy: 0.1844 - val_loss: 1.7922 - val_accuracy: 0.2512\n",
            "Epoch 3/500\n",
            "104/104 [==============================] - 1s 11ms/step - loss: 1.8598 - accuracy: 0.1904 - val_loss: 1.8107 - val_accuracy: 0.1739\n",
            "Epoch 4/500\n",
            "104/104 [==============================] - 1s 11ms/step - loss: 1.8055 - accuracy: 0.1965 - val_loss: 1.7758 - val_accuracy: 0.2029\n",
            "Epoch 5/500\n",
            "104/104 [==============================] - 2s 14ms/step - loss: 1.7827 - accuracy: 0.2134 - val_loss: 1.7441 - val_accuracy: 0.2995\n",
            "Epoch 6/500\n",
            "104/104 [==============================] - 1s 14ms/step - loss: 1.7718 - accuracy: 0.2170 - val_loss: 1.7704 - val_accuracy: 0.2222\n",
            "Epoch 7/500\n",
            "104/104 [==============================] - 1s 14ms/step - loss: 1.7644 - accuracy: 0.2158 - val_loss: 1.7394 - val_accuracy: 0.2802\n",
            "Epoch 8/500\n",
            "104/104 [==============================] - 1s 9ms/step - loss: 1.7472 - accuracy: 0.2316 - val_loss: 1.7352 - val_accuracy: 0.3188\n",
            "Epoch 9/500\n",
            "104/104 [==============================] - 1s 11ms/step - loss: 1.7187 - accuracy: 0.2382 - val_loss: 1.7254 - val_accuracy: 0.2705\n",
            "Epoch 10/500\n",
            "104/104 [==============================] - 1s 12ms/step - loss: 1.7108 - accuracy: 0.2545 - val_loss: 1.7109 - val_accuracy: 0.2367\n",
            "Epoch 11/500\n",
            "104/104 [==============================] - 1s 12ms/step - loss: 1.6742 - accuracy: 0.2908 - val_loss: 1.6674 - val_accuracy: 0.3188\n",
            "Epoch 12/500\n",
            "104/104 [==============================] - 1s 10ms/step - loss: 1.6747 - accuracy: 0.2618 - val_loss: 1.6538 - val_accuracy: 0.3140\n",
            "Epoch 13/500\n",
            "104/104 [==============================] - 1s 10ms/step - loss: 1.6475 - accuracy: 0.2739 - val_loss: 1.6357 - val_accuracy: 0.2657\n",
            "Epoch 14/500\n",
            "104/104 [==============================] - 1s 12ms/step - loss: 1.6386 - accuracy: 0.2878 - val_loss: 1.6325 - val_accuracy: 0.2609\n",
            "Epoch 15/500\n",
            "104/104 [==============================] - 1s 11ms/step - loss: 1.6101 - accuracy: 0.3011 - val_loss: 1.5820 - val_accuracy: 0.2995\n",
            "Epoch 16/500\n",
            "104/104 [==============================] - 1s 11ms/step - loss: 1.5942 - accuracy: 0.2969 - val_loss: 1.5901 - val_accuracy: 0.3140\n",
            "Epoch 17/500\n",
            "104/104 [==============================] - 1s 12ms/step - loss: 1.5994 - accuracy: 0.3102 - val_loss: 1.5484 - val_accuracy: 0.3768\n",
            "Epoch 18/500\n",
            "104/104 [==============================] - 1s 12ms/step - loss: 1.5633 - accuracy: 0.3404 - val_loss: 1.5778 - val_accuracy: 0.3043\n",
            "Epoch 19/500\n",
            "104/104 [==============================] - 1s 12ms/step - loss: 1.5537 - accuracy: 0.3331 - val_loss: 1.5532 - val_accuracy: 0.3092\n",
            "Epoch 20/500\n",
            "104/104 [==============================] - 1s 11ms/step - loss: 1.5226 - accuracy: 0.3489 - val_loss: 1.5228 - val_accuracy: 0.3478\n",
            "Epoch 21/500\n",
            "104/104 [==============================] - 1s 9ms/step - loss: 1.5145 - accuracy: 0.3573 - val_loss: 1.5023 - val_accuracy: 0.3478\n",
            "Epoch 22/500\n",
            "104/104 [==============================] - 1s 10ms/step - loss: 1.4922 - accuracy: 0.3730 - val_loss: 1.4736 - val_accuracy: 0.3961\n",
            "Epoch 23/500\n",
            "104/104 [==============================] - 1s 8ms/step - loss: 1.4677 - accuracy: 0.3724 - val_loss: 1.4567 - val_accuracy: 0.3333\n",
            "Epoch 24/500\n",
            "104/104 [==============================] - 1s 6ms/step - loss: 1.4442 - accuracy: 0.4135 - val_loss: 1.4975 - val_accuracy: 0.3961\n",
            "Epoch 25/500\n",
            "104/104 [==============================] - 1s 7ms/step - loss: 1.4214 - accuracy: 0.3960 - val_loss: 1.4071 - val_accuracy: 0.4300\n",
            "Epoch 26/500\n",
            "104/104 [==============================] - 1s 6ms/step - loss: 1.3953 - accuracy: 0.4135 - val_loss: 1.3958 - val_accuracy: 0.3961\n",
            "Epoch 27/500\n",
            "104/104 [==============================] - 1s 7ms/step - loss: 1.3794 - accuracy: 0.4250 - val_loss: 1.3778 - val_accuracy: 0.4541\n",
            "Epoch 28/500\n",
            "104/104 [==============================] - 1s 6ms/step - loss: 1.3685 - accuracy: 0.4365 - val_loss: 1.3042 - val_accuracy: 0.5121\n",
            "Epoch 29/500\n",
            "104/104 [==============================] - 1s 6ms/step - loss: 1.3527 - accuracy: 0.4371 - val_loss: 1.3127 - val_accuracy: 0.4493\n",
            "Epoch 30/500\n",
            "104/104 [==============================] - 1s 6ms/step - loss: 1.3259 - accuracy: 0.4389 - val_loss: 1.3420 - val_accuracy: 0.4589\n",
            "Epoch 31/500\n",
            "104/104 [==============================] - 1s 6ms/step - loss: 1.2921 - accuracy: 0.4704 - val_loss: 1.2935 - val_accuracy: 0.4493\n",
            "Epoch 32/500\n",
            "104/104 [==============================] - 1s 6ms/step - loss: 1.2713 - accuracy: 0.4825 - val_loss: 1.2620 - val_accuracy: 0.4638\n",
            "Epoch 33/500\n",
            "104/104 [==============================] - 1s 6ms/step - loss: 1.2579 - accuracy: 0.4740 - val_loss: 1.2381 - val_accuracy: 0.4734\n",
            "Epoch 34/500\n",
            "104/104 [==============================] - 1s 6ms/step - loss: 1.2279 - accuracy: 0.4831 - val_loss: 1.2033 - val_accuracy: 0.5169\n",
            "Epoch 35/500\n",
            "104/104 [==============================] - 1s 6ms/step - loss: 1.1885 - accuracy: 0.4946 - val_loss: 1.1824 - val_accuracy: 0.4831\n",
            "Epoch 36/500\n",
            "104/104 [==============================] - 1s 7ms/step - loss: 1.1755 - accuracy: 0.5109 - val_loss: 1.1950 - val_accuracy: 0.4686\n",
            "Epoch 37/500\n",
            "104/104 [==============================] - 1s 6ms/step - loss: 1.1775 - accuracy: 0.5115 - val_loss: 1.2360 - val_accuracy: 0.4541\n",
            "Epoch 38/500\n",
            "104/104 [==============================] - 1s 6ms/step - loss: 1.1402 - accuracy: 0.5320 - val_loss: 1.1099 - val_accuracy: 0.5556\n",
            "Epoch 39/500\n",
            "104/104 [==============================] - 1s 6ms/step - loss: 1.1323 - accuracy: 0.5333 - val_loss: 1.1789 - val_accuracy: 0.5314\n",
            "Epoch 40/500\n",
            "104/104 [==============================] - 1s 6ms/step - loss: 1.1184 - accuracy: 0.5526 - val_loss: 1.1143 - val_accuracy: 0.5314\n",
            "Epoch 41/500\n",
            "104/104 [==============================] - 1s 6ms/step - loss: 1.1051 - accuracy: 0.5514 - val_loss: 1.0942 - val_accuracy: 0.5556\n",
            "Epoch 42/500\n",
            "104/104 [==============================] - 1s 6ms/step - loss: 1.0925 - accuracy: 0.5345 - val_loss: 1.2020 - val_accuracy: 0.4734\n",
            "Epoch 43/500\n",
            "104/104 [==============================] - 1s 6ms/step - loss: 1.0779 - accuracy: 0.5623 - val_loss: 1.1048 - val_accuracy: 0.5411\n",
            "Epoch 44/500\n",
            "104/104 [==============================] - 1s 6ms/step - loss: 1.0514 - accuracy: 0.5556 - val_loss: 1.0577 - val_accuracy: 0.5652\n",
            "Epoch 45/500\n",
            "104/104 [==============================] - 1s 6ms/step - loss: 1.0459 - accuracy: 0.5574 - val_loss: 1.0474 - val_accuracy: 0.6135\n",
            "Epoch 46/500\n",
            "104/104 [==============================] - 1s 6ms/step - loss: 1.0296 - accuracy: 0.5792 - val_loss: 1.1817 - val_accuracy: 0.5121\n",
            "Epoch 47/500\n",
            "104/104 [==============================] - 1s 6ms/step - loss: 1.0206 - accuracy: 0.5732 - val_loss: 1.0528 - val_accuracy: 0.5749\n",
            "Epoch 48/500\n",
            "104/104 [==============================] - 1s 6ms/step - loss: 1.0164 - accuracy: 0.5804 - val_loss: 1.1314 - val_accuracy: 0.5266\n",
            "Epoch 49/500\n",
            "104/104 [==============================] - 1s 7ms/step - loss: 0.9954 - accuracy: 0.6022 - val_loss: 1.0314 - val_accuracy: 0.5556\n",
            "Epoch 50/500\n",
            "104/104 [==============================] - 1s 6ms/step - loss: 1.0056 - accuracy: 0.5979 - val_loss: 1.0478 - val_accuracy: 0.5652\n",
            "Epoch 51/500\n",
            "104/104 [==============================] - 1s 6ms/step - loss: 0.9830 - accuracy: 0.5949 - val_loss: 1.0081 - val_accuracy: 0.6232\n",
            "Epoch 52/500\n",
            "104/104 [==============================] - 1s 6ms/step - loss: 0.9436 - accuracy: 0.6155 - val_loss: 1.0315 - val_accuracy: 0.5990\n",
            "Epoch 53/500\n",
            "104/104 [==============================] - 1s 6ms/step - loss: 0.9633 - accuracy: 0.6052 - val_loss: 0.9792 - val_accuracy: 0.6329\n",
            "Epoch 54/500\n",
            "104/104 [==============================] - 1s 5ms/step - loss: 0.9210 - accuracy: 0.6173 - val_loss: 0.9870 - val_accuracy: 0.5700\n",
            "Epoch 55/500\n",
            "104/104 [==============================] - 1s 5ms/step - loss: 0.9293 - accuracy: 0.6161 - val_loss: 0.9282 - val_accuracy: 0.6087\n",
            "Epoch 56/500\n",
            "104/104 [==============================] - 1s 6ms/step - loss: 0.9355 - accuracy: 0.6288 - val_loss: 1.0529 - val_accuracy: 0.5169\n",
            "Epoch 57/500\n",
            "104/104 [==============================] - 1s 6ms/step - loss: 0.9341 - accuracy: 0.6258 - val_loss: 0.9633 - val_accuracy: 0.6570\n",
            "Epoch 58/500\n",
            "104/104 [==============================] - 1s 6ms/step - loss: 0.9157 - accuracy: 0.6385 - val_loss: 0.9362 - val_accuracy: 0.6184\n",
            "Epoch 59/500\n",
            "104/104 [==============================] - 1s 6ms/step - loss: 0.9081 - accuracy: 0.6518 - val_loss: 0.9179 - val_accuracy: 0.6473\n",
            "Epoch 60/500\n",
            "104/104 [==============================] - 1s 7ms/step - loss: 0.9081 - accuracy: 0.6348 - val_loss: 0.9063 - val_accuracy: 0.6329\n",
            "Epoch 61/500\n",
            "104/104 [==============================] - 1s 6ms/step - loss: 0.8740 - accuracy: 0.6530 - val_loss: 0.9055 - val_accuracy: 0.6667\n",
            "Epoch 62/500\n",
            "104/104 [==============================] - 1s 7ms/step - loss: 0.8897 - accuracy: 0.6493 - val_loss: 0.9362 - val_accuracy: 0.6473\n",
            "Epoch 63/500\n",
            "104/104 [==============================] - 1s 6ms/step - loss: 0.8704 - accuracy: 0.6505 - val_loss: 0.8887 - val_accuracy: 0.6908\n",
            "Epoch 64/500\n",
            "104/104 [==============================] - 1s 6ms/step - loss: 0.8722 - accuracy: 0.6463 - val_loss: 0.9677 - val_accuracy: 0.5797\n",
            "Epoch 65/500\n",
            "104/104 [==============================] - 1s 6ms/step - loss: 0.8687 - accuracy: 0.6566 - val_loss: 0.8879 - val_accuracy: 0.6473\n",
            "Epoch 66/500\n",
            "104/104 [==============================] - 1s 6ms/step - loss: 0.8368 - accuracy: 0.6620 - val_loss: 0.9077 - val_accuracy: 0.6232\n",
            "Epoch 67/500\n",
            "104/104 [==============================] - 1s 6ms/step - loss: 0.8495 - accuracy: 0.6560 - val_loss: 0.8561 - val_accuracy: 0.6812\n",
            "Epoch 68/500\n",
            "104/104 [==============================] - 1s 6ms/step - loss: 0.8412 - accuracy: 0.6638 - val_loss: 0.9203 - val_accuracy: 0.6135\n",
            "Epoch 69/500\n",
            "104/104 [==============================] - 1s 7ms/step - loss: 0.8183 - accuracy: 0.6814 - val_loss: 0.9297 - val_accuracy: 0.5990\n",
            "Epoch 70/500\n",
            "104/104 [==============================] - 1s 6ms/step - loss: 0.8536 - accuracy: 0.6572 - val_loss: 0.9137 - val_accuracy: 0.6812\n",
            "Epoch 71/500\n",
            "104/104 [==============================] - 1s 7ms/step - loss: 0.8348 - accuracy: 0.6644 - val_loss: 1.0072 - val_accuracy: 0.6039\n",
            "Epoch 72/500\n",
            "104/104 [==============================] - 1s 6ms/step - loss: 0.8022 - accuracy: 0.6820 - val_loss: 0.8439 - val_accuracy: 0.6860\n",
            "Epoch 73/500\n",
            "104/104 [==============================] - 1s 6ms/step - loss: 0.7936 - accuracy: 0.6911 - val_loss: 0.8934 - val_accuracy: 0.6425\n",
            "Epoch 74/500\n",
            "104/104 [==============================] - 1s 6ms/step - loss: 0.7875 - accuracy: 0.6832 - val_loss: 0.9583 - val_accuracy: 0.6329\n",
            "Epoch 75/500\n",
            "104/104 [==============================] - 1s 6ms/step - loss: 0.7722 - accuracy: 0.7037 - val_loss: 0.8647 - val_accuracy: 0.6522\n",
            "Epoch 76/500\n",
            "104/104 [==============================] - 1s 6ms/step - loss: 0.7774 - accuracy: 0.6923 - val_loss: 0.8364 - val_accuracy: 0.6667\n",
            "Epoch 77/500\n",
            "104/104 [==============================] - 1s 6ms/step - loss: 0.7785 - accuracy: 0.6959 - val_loss: 0.8107 - val_accuracy: 0.6860\n",
            "Epoch 78/500\n",
            "104/104 [==============================] - 1s 7ms/step - loss: 0.7554 - accuracy: 0.6904 - val_loss: 0.7815 - val_accuracy: 0.7198\n",
            "Epoch 79/500\n",
            "104/104 [==============================] - 1s 5ms/step - loss: 0.7737 - accuracy: 0.6995 - val_loss: 0.8666 - val_accuracy: 0.6425\n",
            "Epoch 80/500\n",
            "104/104 [==============================] - 1s 6ms/step - loss: 0.7698 - accuracy: 0.6904 - val_loss: 0.7675 - val_accuracy: 0.6908\n",
            "Epoch 81/500\n",
            "104/104 [==============================] - 1s 6ms/step - loss: 0.7566 - accuracy: 0.7116 - val_loss: 0.7824 - val_accuracy: 0.7391\n",
            "Epoch 82/500\n",
            "104/104 [==============================] - 1s 7ms/step - loss: 0.7401 - accuracy: 0.6965 - val_loss: 0.7675 - val_accuracy: 0.7343\n",
            "Epoch 83/500\n",
            "104/104 [==============================] - 1s 6ms/step - loss: 0.7218 - accuracy: 0.7195 - val_loss: 0.8107 - val_accuracy: 0.6763\n",
            "Epoch 84/500\n",
            "104/104 [==============================] - 1s 6ms/step - loss: 0.7486 - accuracy: 0.7062 - val_loss: 0.8775 - val_accuracy: 0.6329\n",
            "Epoch 85/500\n",
            "104/104 [==============================] - 1s 7ms/step - loss: 0.7275 - accuracy: 0.7170 - val_loss: 0.7415 - val_accuracy: 0.7391\n",
            "Epoch 86/500\n",
            "104/104 [==============================] - 1s 6ms/step - loss: 0.7043 - accuracy: 0.7285 - val_loss: 0.8318 - val_accuracy: 0.6667\n",
            "Epoch 87/500\n",
            "104/104 [==============================] - 1s 7ms/step - loss: 0.7201 - accuracy: 0.7237 - val_loss: 0.7468 - val_accuracy: 0.6908\n",
            "Epoch 88/500\n",
            "104/104 [==============================] - 1s 5ms/step - loss: 0.7207 - accuracy: 0.7207 - val_loss: 0.8476 - val_accuracy: 0.6667\n",
            "Epoch 89/500\n",
            "104/104 [==============================] - 1s 6ms/step - loss: 0.7097 - accuracy: 0.7146 - val_loss: 0.8450 - val_accuracy: 0.6957\n",
            "Epoch 90/500\n",
            "104/104 [==============================] - 1s 6ms/step - loss: 0.6917 - accuracy: 0.7328 - val_loss: 0.8315 - val_accuracy: 0.6908\n",
            "Epoch 91/500\n",
            "104/104 [==============================] - 1s 6ms/step - loss: 0.7025 - accuracy: 0.7170 - val_loss: 0.7725 - val_accuracy: 0.7005\n",
            "Epoch 92/500\n",
            "104/104 [==============================] - 1s 6ms/step - loss: 0.7108 - accuracy: 0.7297 - val_loss: 0.7727 - val_accuracy: 0.6860\n",
            "Epoch 93/500\n",
            "104/104 [==============================] - 1s 6ms/step - loss: 0.6847 - accuracy: 0.7322 - val_loss: 0.7942 - val_accuracy: 0.6522\n",
            "Epoch 94/500\n",
            "104/104 [==============================] - 1s 6ms/step - loss: 0.7001 - accuracy: 0.7370 - val_loss: 0.7609 - val_accuracy: 0.7295\n",
            "Epoch 95/500\n",
            "104/104 [==============================] - 1s 6ms/step - loss: 0.6825 - accuracy: 0.7255 - val_loss: 0.8377 - val_accuracy: 0.6860\n",
            "Epoch 96/500\n",
            "104/104 [==============================] - 1s 7ms/step - loss: 0.6741 - accuracy: 0.7412 - val_loss: 0.8352 - val_accuracy: 0.6618\n",
            "Epoch 97/500\n",
            "104/104 [==============================] - 1s 6ms/step - loss: 0.6616 - accuracy: 0.7388 - val_loss: 0.8027 - val_accuracy: 0.6618\n",
            "Epoch 98/500\n",
            "104/104 [==============================] - 1s 7ms/step - loss: 0.6479 - accuracy: 0.7491 - val_loss: 0.7667 - val_accuracy: 0.7053\n",
            "Epoch 99/500\n",
            "104/104 [==============================] - 1s 6ms/step - loss: 0.6880 - accuracy: 0.7231 - val_loss: 0.7483 - val_accuracy: 0.7198\n",
            "Epoch 100/500\n",
            "104/104 [==============================] - 1s 6ms/step - loss: 0.6472 - accuracy: 0.7582 - val_loss: 0.7389 - val_accuracy: 0.7198\n",
            "Epoch 101/500\n",
            "104/104 [==============================] - 1s 6ms/step - loss: 0.6382 - accuracy: 0.7503 - val_loss: 0.9106 - val_accuracy: 0.6135\n",
            "Epoch 102/500\n",
            "104/104 [==============================] - 1s 6ms/step - loss: 0.6504 - accuracy: 0.7449 - val_loss: 0.7614 - val_accuracy: 0.7295\n",
            "Epoch 103/500\n",
            "104/104 [==============================] - 1s 6ms/step - loss: 0.6431 - accuracy: 0.7557 - val_loss: 0.8302 - val_accuracy: 0.6570\n",
            "Epoch 104/500\n",
            "104/104 [==============================] - 1s 5ms/step - loss: 0.6521 - accuracy: 0.7485 - val_loss: 0.7068 - val_accuracy: 0.7391\n",
            "Epoch 105/500\n",
            "104/104 [==============================] - 1s 7ms/step - loss: 0.6523 - accuracy: 0.7515 - val_loss: 0.7218 - val_accuracy: 0.7440\n",
            "Epoch 106/500\n",
            "104/104 [==============================] - 1s 6ms/step - loss: 0.6157 - accuracy: 0.7449 - val_loss: 0.7180 - val_accuracy: 0.7198\n",
            "Epoch 107/500\n",
            "104/104 [==============================] - 1s 7ms/step - loss: 0.6378 - accuracy: 0.7582 - val_loss: 0.7495 - val_accuracy: 0.7343\n",
            "Epoch 108/500\n",
            "104/104 [==============================] - 1s 6ms/step - loss: 0.6363 - accuracy: 0.7545 - val_loss: 0.7418 - val_accuracy: 0.7391\n",
            "Epoch 109/500\n",
            "104/104 [==============================] - 1s 7ms/step - loss: 0.6073 - accuracy: 0.7654 - val_loss: 0.7030 - val_accuracy: 0.7488\n",
            "Epoch 110/500\n",
            "104/104 [==============================] - 1s 6ms/step - loss: 0.6259 - accuracy: 0.7551 - val_loss: 0.7246 - val_accuracy: 0.7246\n",
            "Epoch 111/500\n",
            "104/104 [==============================] - 1s 6ms/step - loss: 0.6249 - accuracy: 0.7539 - val_loss: 0.6664 - val_accuracy: 0.7874\n",
            "Epoch 112/500\n",
            "104/104 [==============================] - 1s 7ms/step - loss: 0.6219 - accuracy: 0.7733 - val_loss: 0.7975 - val_accuracy: 0.6715\n",
            "Epoch 113/500\n",
            "104/104 [==============================] - 1s 6ms/step - loss: 0.6090 - accuracy: 0.7557 - val_loss: 0.7088 - val_accuracy: 0.7150\n",
            "Epoch 114/500\n",
            "104/104 [==============================] - 1s 7ms/step - loss: 0.6103 - accuracy: 0.7715 - val_loss: 0.6841 - val_accuracy: 0.7198\n",
            "Epoch 115/500\n",
            "104/104 [==============================] - 1s 6ms/step - loss: 0.6167 - accuracy: 0.7654 - val_loss: 0.7053 - val_accuracy: 0.7005\n",
            "Epoch 116/500\n",
            "104/104 [==============================] - 1s 7ms/step - loss: 0.6136 - accuracy: 0.7745 - val_loss: 0.7034 - val_accuracy: 0.7440\n",
            "Epoch 117/500\n",
            "104/104 [==============================] - 1s 6ms/step - loss: 0.5859 - accuracy: 0.7763 - val_loss: 0.7068 - val_accuracy: 0.7391\n",
            "Epoch 118/500\n",
            "104/104 [==============================] - 1s 7ms/step - loss: 0.6142 - accuracy: 0.7582 - val_loss: 0.6731 - val_accuracy: 0.7778\n",
            "Epoch 119/500\n",
            "104/104 [==============================] - 1s 6ms/step - loss: 0.6237 - accuracy: 0.7485 - val_loss: 0.7175 - val_accuracy: 0.7633\n",
            "Epoch 120/500\n",
            "104/104 [==============================] - 1s 7ms/step - loss: 0.6133 - accuracy: 0.7696 - val_loss: 0.6545 - val_accuracy: 0.7440\n",
            "Epoch 121/500\n",
            "104/104 [==============================] - 1s 6ms/step - loss: 0.6000 - accuracy: 0.7793 - val_loss: 0.7287 - val_accuracy: 0.7536\n",
            "Epoch 122/500\n",
            "104/104 [==============================] - 1s 6ms/step - loss: 0.5983 - accuracy: 0.7709 - val_loss: 0.7521 - val_accuracy: 0.7005\n",
            "Epoch 123/500\n",
            "104/104 [==============================] - 1s 10ms/step - loss: 0.6006 - accuracy: 0.7666 - val_loss: 0.6412 - val_accuracy: 0.7826\n",
            "Epoch 124/500\n",
            "104/104 [==============================] - 1s 11ms/step - loss: 0.5939 - accuracy: 0.7739 - val_loss: 0.7068 - val_accuracy: 0.7488\n",
            "Epoch 125/500\n",
            "104/104 [==============================] - 1s 9ms/step - loss: 0.5550 - accuracy: 0.7920 - val_loss: 0.8179 - val_accuracy: 0.7101\n",
            "Epoch 126/500\n",
            "104/104 [==============================] - 1s 10ms/step - loss: 0.6058 - accuracy: 0.7600 - val_loss: 0.6825 - val_accuracy: 0.7536\n",
            "Epoch 127/500\n",
            "104/104 [==============================] - 1s 7ms/step - loss: 0.5896 - accuracy: 0.7848 - val_loss: 0.6927 - val_accuracy: 0.7826\n",
            "Epoch 128/500\n",
            "104/104 [==============================] - 1s 6ms/step - loss: 0.5695 - accuracy: 0.7884 - val_loss: 0.6857 - val_accuracy: 0.7246\n",
            "Epoch 129/500\n",
            "104/104 [==============================] - 1s 6ms/step - loss: 0.5474 - accuracy: 0.7878 - val_loss: 0.8688 - val_accuracy: 0.7005\n",
            "Epoch 130/500\n",
            "104/104 [==============================] - 1s 6ms/step - loss: 0.5466 - accuracy: 0.7932 - val_loss: 0.6145 - val_accuracy: 0.7681\n",
            "Epoch 131/500\n",
            "104/104 [==============================] - 1s 7ms/step - loss: 0.5814 - accuracy: 0.7769 - val_loss: 0.6665 - val_accuracy: 0.7681\n",
            "Epoch 132/500\n",
            "104/104 [==============================] - 1s 6ms/step - loss: 0.5628 - accuracy: 0.7878 - val_loss: 0.7198 - val_accuracy: 0.7440\n",
            "Epoch 133/500\n",
            "104/104 [==============================] - 1s 7ms/step - loss: 0.5604 - accuracy: 0.7884 - val_loss: 0.7119 - val_accuracy: 0.7246\n",
            "Epoch 134/500\n",
            "104/104 [==============================] - 1s 6ms/step - loss: 0.5473 - accuracy: 0.7836 - val_loss: 0.6560 - val_accuracy: 0.8068\n",
            "Epoch 135/500\n",
            "104/104 [==============================] - 1s 7ms/step - loss: 0.5217 - accuracy: 0.8041 - val_loss: 0.6760 - val_accuracy: 0.7440\n",
            "Epoch 136/500\n",
            "104/104 [==============================] - 1s 7ms/step - loss: 0.5377 - accuracy: 0.7956 - val_loss: 0.6849 - val_accuracy: 0.7101\n",
            "Epoch 137/500\n",
            "104/104 [==============================] - 1s 6ms/step - loss: 0.5544 - accuracy: 0.7938 - val_loss: 0.7646 - val_accuracy: 0.6957\n",
            "Epoch 138/500\n",
            "104/104 [==============================] - 1s 6ms/step - loss: 0.5588 - accuracy: 0.7969 - val_loss: 0.6984 - val_accuracy: 0.7585\n",
            "Epoch 139/500\n",
            "104/104 [==============================] - 1s 6ms/step - loss: 0.5348 - accuracy: 0.8126 - val_loss: 0.7430 - val_accuracy: 0.7488\n",
            "Epoch 140/500\n",
            "104/104 [==============================] - 1s 7ms/step - loss: 0.5466 - accuracy: 0.7914 - val_loss: 0.7040 - val_accuracy: 0.7826\n",
            "Epoch 141/500\n",
            "104/104 [==============================] - 1s 6ms/step - loss: 0.5529 - accuracy: 0.7902 - val_loss: 0.6405 - val_accuracy: 0.7633\n",
            "Epoch 142/500\n",
            "104/104 [==============================] - 1s 7ms/step - loss: 0.5296 - accuracy: 0.8035 - val_loss: 0.6906 - val_accuracy: 0.7391\n",
            "Epoch 143/500\n",
            "104/104 [==============================] - 1s 6ms/step - loss: 0.5650 - accuracy: 0.7908 - val_loss: 0.7250 - val_accuracy: 0.7198\n",
            "Epoch 144/500\n",
            "104/104 [==============================] - 1s 7ms/step - loss: 0.5298 - accuracy: 0.7981 - val_loss: 0.6361 - val_accuracy: 0.7826\n",
            "Epoch 145/500\n",
            "104/104 [==============================] - 1s 6ms/step - loss: 0.5582 - accuracy: 0.7956 - val_loss: 0.7084 - val_accuracy: 0.7343\n",
            "Epoch 146/500\n",
            "104/104 [==============================] - 1s 6ms/step - loss: 0.5121 - accuracy: 0.8144 - val_loss: 0.6301 - val_accuracy: 0.7585\n",
            "Epoch 147/500\n",
            "104/104 [==============================] - 1s 7ms/step - loss: 0.5314 - accuracy: 0.8029 - val_loss: 0.6790 - val_accuracy: 0.7198\n",
            "Epoch 148/500\n",
            "104/104 [==============================] - 1s 6ms/step - loss: 0.5684 - accuracy: 0.8017 - val_loss: 0.7314 - val_accuracy: 0.7005\n",
            "Epoch 149/500\n",
            "104/104 [==============================] - 1s 7ms/step - loss: 0.5246 - accuracy: 0.8102 - val_loss: 0.6506 - val_accuracy: 0.7488\n",
            "Epoch 150/500\n",
            "104/104 [==============================] - 1s 6ms/step - loss: 0.5214 - accuracy: 0.8047 - val_loss: 0.7144 - val_accuracy: 0.7440\n",
            "Epoch 151/500\n",
            "104/104 [==============================] - 1s 6ms/step - loss: 0.5210 - accuracy: 0.8029 - val_loss: 0.6721 - val_accuracy: 0.7778\n",
            "Epoch 152/500\n",
            "104/104 [==============================] - 1s 6ms/step - loss: 0.5232 - accuracy: 0.8077 - val_loss: 0.7850 - val_accuracy: 0.7246\n",
            "Epoch 153/500\n",
            "104/104 [==============================] - 1s 7ms/step - loss: 0.5239 - accuracy: 0.8053 - val_loss: 0.6495 - val_accuracy: 0.7440\n",
            "Epoch 154/500\n",
            "104/104 [==============================] - 1s 6ms/step - loss: 0.5187 - accuracy: 0.7987 - val_loss: 0.6373 - val_accuracy: 0.7440\n",
            "Epoch 155/500\n",
            "104/104 [==============================] - 1s 7ms/step - loss: 0.5076 - accuracy: 0.8065 - val_loss: 0.6972 - val_accuracy: 0.7343\n"
          ]
        }
      ]
    },
    {
      "cell_type": "code",
      "source": [
        "plt.plot(cnnhistory.history['loss'])\n",
        "plt.plot(cnnhistory.history['val_loss'])\n",
        "plt.title('model loss')\n",
        "plt.ylabel('loss')\n",
        "plt.xlabel('epoch')\n",
        "plt.legend(['train','test'], loc='upper left')\n",
        "plt.show()"
      ],
      "metadata": {
        "colab": {
          "base_uri": "https://localhost:8080/",
          "height": 295
        },
        "id": "oQYnuaCrDH_A",
        "outputId": "5bb9d8b2-ed43-44d9-cd1f-bafb2d1e8125"
      },
      "execution_count": 15,
      "outputs": [
        {
          "output_type": "display_data",
          "data": {
            "text/plain": [
              "<Figure size 432x288 with 1 Axes>"
            ],
            "image/png": "[encoded data removed]"
          },
          "metadata": {
            "needs_background": "light"
          }
        }
      ]
    },
    {
      "cell_type": "code",
      "source": [
        "plt.plot(cnnhistory.history['accuracy'])\n",
        "plt.plot(cnnhistory.history['val_accuracy'])\n",
        "plt.title('model accuracy')\n",
        "plt.ylabel('accuracy')\n",
        "plt.xlabel('epoch')\n",
        "plt.legend(['train','test'], loc='upper left')\n",
        "plt.show()"
      ],
      "metadata": {
        "colab": {
          "base_uri": "https://localhost:8080/",
          "height": 295
        },
        "id": "IFkTuO8nDNdq",
        "outputId": "a4c268db-190b-411b-f004-9c8a868660bc"
      },
      "execution_count": 16,
      "outputs": [
        {
          "output_type": "display_data",
          "data": {
            "text/plain": [
              "<Figure size 432x288 with 1 Axes>"
            ],
            "image/png": "[encoded data removed]"
          },
          "metadata": {
            "needs_background": "light"
          }
        }
      ]
    },
    {
      "cell_type": "code",
      "source": [
        "predictions = model.predict(x_testcnn)"
      ],
      "metadata": {
        "id": "A2xtrN5wDQgY"
      },
      "execution_count": 17,
      "outputs": []
    },
    {
      "cell_type": "code",
      "source": [
        "predictions"
      ],
      "metadata": {
        "colab": {
          "base_uri": "https://localhost:8080/"
        },
        "id": "_f_ohjXKDUpY",
        "outputId": "4ac7a359-df8b-4047-f6ce-043c00ad06a8"
      },
      "execution_count": 18,
      "outputs": [
        {
          "output_type": "execute_result",
          "data": {
            "text/plain": [
              "array([[3.8113204e-01, 4.6810638e-02, 2.8352728e-01, 7.6198719e-02,\n",
              "        1.9538476e-01, 1.6946504e-02],\n",
              "       [2.2139264e-05, 4.4489548e-07, 9.5775597e-08, 9.8600626e-01,\n",
              "        9.8908299e-07, 1.3970099e-02],\n",
              "       [1.9840971e-01, 9.1091760e-02, 5.9436563e-02, 3.0014420e-01,\n",
              "        1.1376645e-01, 2.3715131e-01],\n",
              "       ...,\n",
              "       [6.3828643e-06, 3.0181999e-07, 2.7358155e-03, 7.8429119e-05,\n",
              "        9.9249750e-01, 4.6815290e-03],\n",
              "       [9.2543371e-04, 5.3129435e-01, 4.5198223e-01, 4.5266151e-03,\n",
              "        3.1790420e-04, 1.0953449e-02],\n",
              "       [9.7329765e-05, 1.4715183e-05, 2.0599255e-02, 5.4803287e-04,\n",
              "        9.6562582e-01, 1.3114807e-02]], dtype=float32)"
            ]
          },
          "metadata": {},
          "execution_count": 18
        }
      ]
    },
    {
      "cell_type": "code",
      "source": [
        "y_test"
      ],
      "metadata": {
        "colab": {
          "base_uri": "https://localhost:8080/"
        },
        "id": "cmA2bFgsDW3D",
        "outputId": "b175107c-0e80-428f-ff16-531b78b366f8"
      },
      "execution_count": 19,
      "outputs": [
        {
          "output_type": "execute_result",
          "data": {
            "text/plain": [
              "array([3, 3, 3, 0, 4, 4, 1, 2, 5, 0, 5, 3, 2, 2, 1, 4, 4, 5, 2, 4, 1, 2,\n",
              "       3, 5, 4, 2, 1, 2, 2, 2, 2, 5, 2, 5, 3, 1, 2, 0, 4, 5, 2, 3, 2, 2,\n",
              "       5, 2, 0, 1, 3, 4, 4, 5, 1, 1, 4, 4, 5, 1, 1, 1, 0, 1, 5, 0, 4, 1,\n",
              "       1, 0, 1, 4, 1, 0, 4, 1, 3, 1, 2, 2, 1, 2, 3, 0, 5, 3, 5, 5, 2, 4,\n",
              "       5, 1, 5, 1, 5, 3, 4, 1, 4, 1, 5, 4, 5, 1, 2, 1, 1, 5, 1, 3, 2, 5,\n",
              "       2, 1, 3, 5, 4, 4, 0, 0, 3, 1, 2, 2, 3, 5, 1, 5, 3, 4, 2, 2, 0, 2,\n",
              "       2, 5, 5, 0, 3, 3, 2, 2, 0, 3, 4, 0, 4, 2, 4, 5, 4, 1, 5, 3, 2, 2,\n",
              "       5, 4, 3, 3, 4, 3, 3, 4, 1, 5, 2, 3, 2, 2, 0, 2, 1, 3, 1, 2, 2, 5,\n",
              "       5, 1, 4, 2, 2, 1, 1, 3, 3, 5, 5, 2, 5, 1, 5, 0, 3, 3, 0, 5, 1, 4,\n",
              "       1, 4, 2, 5, 5, 1, 4, 2, 4])"
            ]
          },
          "metadata": {},
          "execution_count": 19
        }
      ]
    },
    {
      "cell_type": "code",
      "source": [
        "new_Ytest = y_test.astype(int)"
      ],
      "metadata": {
        "id": "0PHDKWJWDY3g"
      },
      "execution_count": 20,
      "outputs": []
    },
    {
      "cell_type": "code",
      "source": [
        "new_Ytest"
      ],
      "metadata": {
        "colab": {
          "base_uri": "https://localhost:8080/"
        },
        "id": "k68v2i-pDbZE",
        "outputId": "e889ec66-532d-4e40-cd4f-08971b0d93c5"
      },
      "execution_count": 21,
      "outputs": [
        {
          "output_type": "execute_result",
          "data": {
            "text/plain": [
              "array([3, 3, 3, 0, 4, 4, 1, 2, 5, 0, 5, 3, 2, 2, 1, 4, 4, 5, 2, 4, 1, 2,\n",
              "       3, 5, 4, 2, 1, 2, 2, 2, 2, 5, 2, 5, 3, 1, 2, 0, 4, 5, 2, 3, 2, 2,\n",
              "       5, 2, 0, 1, 3, 4, 4, 5, 1, 1, 4, 4, 5, 1, 1, 1, 0, 1, 5, 0, 4, 1,\n",
              "       1, 0, 1, 4, 1, 0, 4, 1, 3, 1, 2, 2, 1, 2, 3, 0, 5, 3, 5, 5, 2, 4,\n",
              "       5, 1, 5, 1, 5, 3, 4, 1, 4, 1, 5, 4, 5, 1, 2, 1, 1, 5, 1, 3, 2, 5,\n",
              "       2, 1, 3, 5, 4, 4, 0, 0, 3, 1, 2, 2, 3, 5, 1, 5, 3, 4, 2, 2, 0, 2,\n",
              "       2, 5, 5, 0, 3, 3, 2, 2, 0, 3, 4, 0, 4, 2, 4, 5, 4, 1, 5, 3, 2, 2,\n",
              "       5, 4, 3, 3, 4, 3, 3, 4, 1, 5, 2, 3, 2, 2, 0, 2, 1, 3, 1, 2, 2, 5,\n",
              "       5, 1, 4, 2, 2, 1, 1, 3, 3, 5, 5, 2, 5, 1, 5, 0, 3, 3, 0, 5, 1, 4,\n",
              "       1, 4, 2, 5, 5, 1, 4, 2, 4])"
            ]
          },
          "metadata": {},
          "execution_count": 21
        }
      ]
    },
    {
      "cell_type": "code",
      "source": [
        "preds1=predictions.argmax(axis=1)\n",
        "preds1"
      ],
      "metadata": {
        "colab": {
          "base_uri": "https://localhost:8080/"
        },
        "id": "4_cAI39VFhtp",
        "outputId": "ce176115-6ba9-468b-875f-f1a091092801"
      },
      "execution_count": 22,
      "outputs": [
        {
          "output_type": "execute_result",
          "data": {
            "text/plain": [
              "array([0, 3, 3, 0, 4, 4, 1, 2, 5, 4, 4, 3, 2, 2, 1, 4, 4, 5, 3, 4, 1, 2,\n",
              "       2, 3, 5, 2, 1, 2, 4, 2, 2, 5, 2, 5, 3, 1, 2, 0, 4, 5, 2, 5, 2, 2,\n",
              "       5, 2, 1, 1, 3, 4, 4, 2, 1, 1, 4, 4, 5, 1, 1, 1, 3, 1, 2, 1, 4, 1,\n",
              "       1, 1, 1, 4, 0, 4, 4, 1, 5, 4, 2, 2, 1, 2, 1, 0, 5, 3, 5, 5, 2, 5,\n",
              "       3, 1, 4, 2, 5, 3, 4, 2, 0, 1, 5, 4, 5, 1, 2, 1, 1, 5, 1, 5, 2, 5,\n",
              "       1, 3, 3, 2, 4, 4, 4, 0, 3, 1, 1, 2, 1, 4, 1, 3, 3, 4, 2, 2, 0, 2,\n",
              "       2, 3, 5, 0, 5, 3, 2, 4, 0, 5, 4, 0, 4, 4, 4, 2, 4, 1, 5, 3, 2, 2,\n",
              "       5, 4, 3, 3, 4, 5, 5, 4, 1, 5, 2, 3, 2, 2, 0, 2, 1, 5, 1, 2, 4, 5,\n",
              "       5, 1, 4, 2, 4, 1, 1, 3, 3, 5, 5, 2, 5, 1, 4, 1, 3, 3, 4, 2, 1, 4,\n",
              "       1, 4, 5, 5, 5, 1, 4, 1, 4])"
            ]
          },
          "metadata": {},
          "execution_count": 22
        }
      ]
    },
    {
      "cell_type": "code",
      "source": [
        "abc = preds1.astype(int).flatten()"
      ],
      "metadata": {
        "id": "H4WEmM60NfQn"
      },
      "execution_count": 23,
      "outputs": []
    },
    {
      "cell_type": "code",
      "source": [
        "from sklearn.metrics import confusion_matrix\n",
        "c = confusion_matrix(new_Ytest, abc) \n",
        "c"
      ],
      "metadata": {
        "colab": {
          "base_uri": "https://localhost:8080/"
        },
        "id": "bKEBeEBlFjB8",
        "outputId": "aa3e81ef-a42a-4f5a-e66f-15889cf7c615"
      },
      "execution_count": 24,
      "outputs": [
        {
          "output_type": "execute_result",
          "data": {
            "text/plain": [
              "array([[ 9,  4,  0,  1,  4,  0],\n",
              "       [ 1, 36,  2,  1,  1,  0],\n",
              "       [ 0,  3, 35,  1,  5,  1],\n",
              "       [ 1,  2,  1, 19,  0,  8],\n",
              "       [ 1,  0,  0,  0, 30,  2],\n",
              "       [ 0,  0,  5,  4,  4, 26]])"
            ]
          },
          "metadata": {},
          "execution_count": 24
        }
      ]
    },
    {
      "cell_type": "code",
      "source": [
        "y_test"
      ],
      "metadata": {
        "colab": {
          "base_uri": "https://localhost:8080/"
        },
        "id": "m4RjG7LWLSQx",
        "outputId": "6208f2f5-e183-41de-b2f5-6a3bac274dfe"
      },
      "execution_count": 25,
      "outputs": [
        {
          "output_type": "execute_result",
          "data": {
            "text/plain": [
              "array([3, 3, 3, 0, 4, 4, 1, 2, 5, 0, 5, 3, 2, 2, 1, 4, 4, 5, 2, 4, 1, 2,\n",
              "       3, 5, 4, 2, 1, 2, 2, 2, 2, 5, 2, 5, 3, 1, 2, 0, 4, 5, 2, 3, 2, 2,\n",
              "       5, 2, 0, 1, 3, 4, 4, 5, 1, 1, 4, 4, 5, 1, 1, 1, 0, 1, 5, 0, 4, 1,\n",
              "       1, 0, 1, 4, 1, 0, 4, 1, 3, 1, 2, 2, 1, 2, 3, 0, 5, 3, 5, 5, 2, 4,\n",
              "       5, 1, 5, 1, 5, 3, 4, 1, 4, 1, 5, 4, 5, 1, 2, 1, 1, 5, 1, 3, 2, 5,\n",
              "       2, 1, 3, 5, 4, 4, 0, 0, 3, 1, 2, 2, 3, 5, 1, 5, 3, 4, 2, 2, 0, 2,\n",
              "       2, 5, 5, 0, 3, 3, 2, 2, 0, 3, 4, 0, 4, 2, 4, 5, 4, 1, 5, 3, 2, 2,\n",
              "       5, 4, 3, 3, 4, 3, 3, 4, 1, 5, 2, 3, 2, 2, 0, 2, 1, 3, 1, 2, 2, 5,\n",
              "       5, 1, 4, 2, 2, 1, 1, 3, 3, 5, 5, 2, 5, 1, 5, 0, 3, 3, 0, 5, 1, 4,\n",
              "       1, 4, 2, 5, 5, 1, 4, 2, 4])"
            ]
          },
          "metadata": {},
          "execution_count": 25
        }
      ]
    },
    {
      "cell_type": "code",
      "source": [
        "loss, acc =model.evaluate(x_testcnn, y_test)\n",
        "print(\"Restored model, accuracy: {:5.2f}%\".format(100*acc))"
      ],
      "metadata": {
        "colab": {
          "base_uri": "https://localhost:8080/"
        },
        "id": "n3kzoqPkDqqS",
        "outputId": "cd2d3e54-9242-4892-9ab7-4c0a99d393d8"
      },
      "execution_count": 26,
      "outputs": [
        {
          "output_type": "stream",
          "name": "stdout",
          "text": [
            "7/7 [==============================] - 0s 3ms/step - loss: 0.6427 - accuracy: 0.7488\n",
            "Restored model, accuracy: 74.88%\n"
          ]
        }
      ]
    },
    {
      "cell_type": "code",
      "source": [
        "loss, acc =model.evaluate(X_train, y_train)\n",
        "print(\"Restored model train, accuracy: {:5.2f}%\".format(100*acc))"
      ],
      "metadata": {
        "id": "fJDTGH_OUX0z",
        "colab": {
          "base_uri": "https://localhost:8080/"
        },
        "outputId": "39613857-31b2-48f9-ebb4-b8369e71df5b"
      },
      "execution_count": 27,
      "outputs": [
        {
          "output_type": "stream",
          "name": "stdout",
          "text": [
            "52/52 [==============================] - 0s 5ms/step - loss: 0.3852 - accuracy: 0.8615\n",
            "Restored model train, accuracy: 86.15%\n"
          ]
        }
      ]
    },
    {
      "cell_type": "code",
      "source": [
        "from sklearn.metrics import classification_report, confusion_matrix,accuracy_score\n",
        "import seaborn as sn\n",
        "\n",
        "print(classification_report(new_Ytest,abc))\n",
        "\n",
        "acc = float(accuracy_score(new_Ytest,abc))*100\n",
        "print(\"----accuracy score %s ----\" % acc)\n",
        "\n",
        "cm = confusion_matrix(new_Ytest,abc)\n",
        "#df_cm = pd.DataFrame(cm)\n",
        "class_names = ['neutral','calm', 'happy','sad','angry', 'fearful' ]\n",
        "df_cm = pd.DataFrame(cm, index=class_names, columns=class_names,)\n",
        "sn.heatmap(df_cm, annot=True, fmt='')\n",
        "plt.show()"
      ],
      "metadata": {
        "colab": {
          "base_uri": "https://localhost:8080/",
          "height": 508
        },
        "id": "SfSC3El94LZg",
        "outputId": "c0193664-d421-4f0e-9898-d8c452feb868"
      },
      "execution_count": 28,
      "outputs": [
        {
          "output_type": "stream",
          "name": "stdout",
          "text": [
            "              precision    recall  f1-score   support\n",
            "\n",
            "           0       0.75      0.50      0.60        18\n",
            "           1       0.80      0.88      0.84        41\n",
            "           2       0.81      0.78      0.80        45\n",
            "           3       0.73      0.61      0.67        31\n",
            "           4       0.68      0.91      0.78        33\n",
            "           5       0.70      0.67      0.68        39\n",
            "\n",
            "    accuracy                           0.75       207\n",
            "   macro avg       0.75      0.72      0.73       207\n",
            "weighted avg       0.75      0.75      0.74       207\n",
            "\n",
            "----accuracy score 74.8792270531401 ----\n"
          ]
        },
        {
          "output_type": "display_data",
          "data": {
            "text/plain": [
              "<Figure size 432x288 with 2 Axes>"
            ],
            "image/png": "[encoded data removed]"
          },
          "metadata": {
            "needs_background": "light"
          }
        }
      ]
    }
  ]
}