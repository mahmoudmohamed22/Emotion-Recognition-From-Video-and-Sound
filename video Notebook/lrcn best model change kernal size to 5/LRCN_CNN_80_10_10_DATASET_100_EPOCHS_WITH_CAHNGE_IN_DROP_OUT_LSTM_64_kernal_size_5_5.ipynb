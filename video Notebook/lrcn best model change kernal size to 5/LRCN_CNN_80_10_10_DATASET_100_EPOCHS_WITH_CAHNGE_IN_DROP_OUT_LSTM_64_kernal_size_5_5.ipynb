{
  "cells": [
    {
      "cell_type": "code",
      "execution_count": 1,
      "metadata": {
        "colab": {
          "base_uri": "https://localhost:8080/"
        },
        "id": "iC_o_HaWEBQ4",
        "outputId": "d2da860e-a5a8-46bf-d2ea-536a4ceeaf55"
      },
      "outputs": [
        {
          "output_type": "stream",
          "name": "stdout",
          "text": [
            "Looking in indexes: https://pypi.org/simple, https://us-python.pkg.dev/colab-wheels/public/simple/\n",
            "Requirement already satisfied: tensorflow in /usr/local/lib/python3.7/dist-packages (2.8.2+zzzcolab20220527125636)\n",
            "Requirement already satisfied: opencv-contrib-python in /usr/local/lib/python3.7/dist-packages (4.1.2.30)\n",
            "Requirement already satisfied: youtube-dl in /usr/local/lib/python3.7/dist-packages (2021.12.17)\n",
            "Requirement already satisfied: moviepy in /usr/local/lib/python3.7/dist-packages (0.2.3.5)\n",
            "Requirement already satisfied: pydot in /usr/local/lib/python3.7/dist-packages (1.3.0)\n",
            "Requirement already satisfied: gast>=0.2.1 in /usr/local/lib/python3.7/dist-packages (from tensorflow) (0.5.3)\n",
            "Requirement already satisfied: h5py>=2.9.0 in /usr/local/lib/python3.7/dist-packages (from tensorflow) (3.1.0)\n",
            "Requirement already satisfied: typing-extensions>=3.6.6 in /usr/local/lib/python3.7/dist-packages (from tensorflow) (4.2.0)\n",
            "Requirement already satisfied: tensorflow-estimator<2.9,>=2.8 in /usr/local/lib/python3.7/dist-packages (from tensorflow) (2.8.0)\n",
            "Requirement already satisfied: google-pasta>=0.1.1 in /usr/local/lib/python3.7/dist-packages (from tensorflow) (0.2.0)\n",
            "Requirement already satisfied: wrapt>=1.11.0 in /usr/local/lib/python3.7/dist-packages (from tensorflow) (1.14.1)\n",
            "Requirement already satisfied: absl-py>=0.4.0 in /usr/local/lib/python3.7/dist-packages (from tensorflow) (1.0.0)\n",
            "Requirement already satisfied: protobuf<3.20,>=3.9.2 in /usr/local/lib/python3.7/dist-packages (from tensorflow) (3.17.3)\n",
            "Requirement already satisfied: libclang>=9.0.1 in /usr/local/lib/python3.7/dist-packages (from tensorflow) (14.0.1)\n",
            "Requirement already satisfied: setuptools in /usr/local/lib/python3.7/dist-packages (from tensorflow) (57.4.0)\n",
            "Requirement already satisfied: numpy>=1.20 in /usr/local/lib/python3.7/dist-packages (from tensorflow) (1.21.6)\n",
            "Requirement already satisfied: tensorflow-io-gcs-filesystem>=0.23.1 in /usr/local/lib/python3.7/dist-packages (from tensorflow) (0.26.0)\n",
            "Requirement already satisfied: six>=1.12.0 in /usr/local/lib/python3.7/dist-packages (from tensorflow) (1.15.0)\n",
            "Requirement already satisfied: keras<2.9,>=2.8.0rc0 in /usr/local/lib/python3.7/dist-packages (from tensorflow) (2.8.0)\n",
            "Requirement already satisfied: termcolor>=1.1.0 in /usr/local/lib/python3.7/dist-packages (from tensorflow) (1.1.0)\n",
            "Requirement already satisfied: flatbuffers>=1.12 in /usr/local/lib/python3.7/dist-packages (from tensorflow) (2.0)\n",
            "Requirement already satisfied: astunparse>=1.6.0 in /usr/local/lib/python3.7/dist-packages (from tensorflow) (1.6.3)\n",
            "Requirement already satisfied: keras-preprocessing>=1.1.1 in /usr/local/lib/python3.7/dist-packages (from tensorflow) (1.1.2)\n",
            "Requirement already satisfied: tensorboard<2.9,>=2.8 in /usr/local/lib/python3.7/dist-packages (from tensorflow) (2.8.0)\n",
            "Requirement already satisfied: grpcio<2.0,>=1.24.3 in /usr/local/lib/python3.7/dist-packages (from tensorflow) (1.46.3)\n",
            "Requirement already satisfied: opt-einsum>=2.3.2 in /usr/local/lib/python3.7/dist-packages (from tensorflow) (3.3.0)\n",
            "Requirement already satisfied: wheel<1.0,>=0.23.0 in /usr/local/lib/python3.7/dist-packages (from astunparse>=1.6.0->tensorflow) (0.37.1)\n",
            "Requirement already satisfied: cached-property in /usr/local/lib/python3.7/dist-packages (from h5py>=2.9.0->tensorflow) (1.5.2)\n",
            "Requirement already satisfied: werkzeug>=0.11.15 in /usr/local/lib/python3.7/dist-packages (from tensorboard<2.9,>=2.8->tensorflow) (1.0.1)\n",
            "Requirement already satisfied: markdown>=2.6.8 in /usr/local/lib/python3.7/dist-packages (from tensorboard<2.9,>=2.8->tensorflow) (3.3.7)\n",
            "Requirement already satisfied: google-auth-oauthlib<0.5,>=0.4.1 in /usr/local/lib/python3.7/dist-packages (from tensorboard<2.9,>=2.8->tensorflow) (0.4.6)\n",
            "Requirement already satisfied: requests<3,>=2.21.0 in /usr/local/lib/python3.7/dist-packages (from tensorboard<2.9,>=2.8->tensorflow) (2.23.0)\n",
            "Requirement already satisfied: tensorboard-plugin-wit>=1.6.0 in /usr/local/lib/python3.7/dist-packages (from tensorboard<2.9,>=2.8->tensorflow) (1.8.1)\n",
            "Requirement already satisfied: google-auth<3,>=1.6.3 in /usr/local/lib/python3.7/dist-packages (from tensorboard<2.9,>=2.8->tensorflow) (1.35.0)\n",
            "Requirement already satisfied: tensorboard-data-server<0.7.0,>=0.6.0 in /usr/local/lib/python3.7/dist-packages (from tensorboard<2.9,>=2.8->tensorflow) (0.6.1)\n",
            "Requirement already satisfied: pyasn1-modules>=0.2.1 in /usr/local/lib/python3.7/dist-packages (from google-auth<3,>=1.6.3->tensorboard<2.9,>=2.8->tensorflow) (0.2.8)\n",
            "Requirement already satisfied: rsa<5,>=3.1.4 in /usr/local/lib/python3.7/dist-packages (from google-auth<3,>=1.6.3->tensorboard<2.9,>=2.8->tensorflow) (4.8)\n",
            "Requirement already satisfied: cachetools<5.0,>=2.0.0 in /usr/local/lib/python3.7/dist-packages (from google-auth<3,>=1.6.3->tensorboard<2.9,>=2.8->tensorflow) (4.2.4)\n",
            "Requirement already satisfied: requests-oauthlib>=0.7.0 in /usr/local/lib/python3.7/dist-packages (from google-auth-oauthlib<0.5,>=0.4.1->tensorboard<2.9,>=2.8->tensorflow) (1.3.1)\n",
            "Requirement already satisfied: importlib-metadata>=4.4 in /usr/local/lib/python3.7/dist-packages (from markdown>=2.6.8->tensorboard<2.9,>=2.8->tensorflow) (4.11.4)\n",
            "Requirement already satisfied: zipp>=0.5 in /usr/local/lib/python3.7/dist-packages (from importlib-metadata>=4.4->markdown>=2.6.8->tensorboard<2.9,>=2.8->tensorflow) (3.8.0)\n",
            "Requirement already satisfied: pyasn1<0.5.0,>=0.4.6 in /usr/local/lib/python3.7/dist-packages (from pyasn1-modules>=0.2.1->google-auth<3,>=1.6.3->tensorboard<2.9,>=2.8->tensorflow) (0.4.8)\n",
            "Requirement already satisfied: chardet<4,>=3.0.2 in /usr/local/lib/python3.7/dist-packages (from requests<3,>=2.21.0->tensorboard<2.9,>=2.8->tensorflow) (3.0.4)\n",
            "Requirement already satisfied: urllib3!=1.25.0,!=1.25.1,<1.26,>=1.21.1 in /usr/local/lib/python3.7/dist-packages (from requests<3,>=2.21.0->tensorboard<2.9,>=2.8->tensorflow) (1.24.3)\n",
            "Requirement already satisfied: idna<3,>=2.5 in /usr/local/lib/python3.7/dist-packages (from requests<3,>=2.21.0->tensorboard<2.9,>=2.8->tensorflow) (2.10)\n",
            "Requirement already satisfied: certifi>=2017.4.17 in /usr/local/lib/python3.7/dist-packages (from requests<3,>=2.21.0->tensorboard<2.9,>=2.8->tensorflow) (2022.5.18.1)\n",
            "Requirement already satisfied: oauthlib>=3.0.0 in /usr/local/lib/python3.7/dist-packages (from requests-oauthlib>=0.7.0->google-auth-oauthlib<0.5,>=0.4.1->tensorboard<2.9,>=2.8->tensorflow) (3.2.0)\n",
            "Requirement already satisfied: tqdm<5.0,>=4.11.2 in /usr/local/lib/python3.7/dist-packages (from moviepy) (4.64.0)\n",
            "Requirement already satisfied: decorator<5.0,>=4.0.2 in /usr/local/lib/python3.7/dist-packages (from moviepy) (4.4.2)\n",
            "Requirement already satisfied: imageio<3.0,>=2.1.2 in /usr/local/lib/python3.7/dist-packages (from moviepy) (2.4.1)\n",
            "Requirement already satisfied: pillow in /usr/local/lib/python3.7/dist-packages (from imageio<3.0,>=2.1.2->moviepy) (7.1.2)\n",
            "Requirement already satisfied: pyparsing>=2.1.4 in /usr/local/lib/python3.7/dist-packages (from pydot) (3.0.9)\n",
            "Looking in indexes: https://pypi.org/simple, https://us-python.pkg.dev/colab-wheels/public/simple/\n",
            "Collecting pafy\n",
            "  Cloning https://github.com/TahaAnwar/pafy.git to /tmp/pip-install-4vucjkx2/pafy_783b20979a4b4716969a517c3fe72bff\n",
            "  Running command git clone -q https://github.com/TahaAnwar/pafy.git /tmp/pip-install-4vucjkx2/pafy_783b20979a4b4716969a517c3fe72bff\n"
          ]
        }
      ],
      "source": [
        "# Discard the output of this cell.\n",
        "#%%capture\n",
        "\n",
        "# Install the required libraries.\n",
        "!pip install tensorflow opencv-contrib-python youtube-dl moviepy pydot\n",
        "!pip install git+https://github.com/TahaAnwar/pafy.git#egg=pafy"
      ]
    },
    {
      "cell_type": "code",
      "execution_count": 2,
      "metadata": {
        "colab": {
          "base_uri": "https://localhost:8080/"
        },
        "id": "773CUmldFLWW",
        "outputId": "0438b937-fa0d-477d-9186-227a37ab00bf"
      },
      "outputs": [
        {
          "output_type": "stream",
          "name": "stdout",
          "text": [
            "Drive already mounted at /content/drive; to attempt to forcibly remount, call drive.mount(\"/content/drive\", force_remount=True).\n"
          ]
        }
      ],
      "source": [
        "from google.colab import drive\n",
        "drive.mount('/content/drive')"
      ]
    },
    {
      "cell_type": "code",
      "execution_count": 3,
      "metadata": {
        "id": "pI_Uxj54EZA-"
      },
      "outputs": [],
      "source": [
        "# Import the required libraries.\n",
        "import os\n",
        "import cv2\n",
        "import pafy\n",
        "import math\n",
        "import random\n",
        "import numpy as np\n",
        "import datetime as dt\n",
        "import tensorflow as tf\n",
        "from collections import deque\n",
        "import matplotlib.pyplot as plt\n",
        "\n",
        "from moviepy.editor import *\n",
        "%matplotlib inline\n",
        "\n",
        "from sklearn.model_selection import train_test_split\n",
        "\n",
        "from tensorflow.keras.layers import *\n",
        "from tensorflow.keras.models import Sequential\n",
        "from tensorflow.keras.utils import to_categorical\n",
        "from tensorflow.keras.callbacks import EarlyStopping\n",
        "from tensorflow.keras.utils import plot_model"
      ]
    },
    {
      "cell_type": "code",
      "execution_count": 4,
      "metadata": {
        "id": "p_XR9N_KEd0h"
      },
      "outputs": [],
      "source": [
        "seed_constant = 27\n",
        "np.random.seed(seed_constant)\n",
        "random.seed(seed_constant)\n",
        "tf.random.set_seed(seed_constant)"
      ]
    },
    {
      "cell_type": "code",
      "execution_count": 5,
      "metadata": {
        "id": "SjdIu5iUEtFT"
      },
      "outputs": [],
      "source": [
        "# Specify the height and width to which each video frame will be resized in our dataset.\n",
        "IMAGE_HEIGHT , IMAGE_WIDTH = 64, 64\n",
        "\n",
        "# Specify the number of frames of a video that will be fed to the model as one sequence.\n",
        "SEQUENCE_LENGTH = 30\n",
        "\n",
        "# Specify the directory containing the UCF50 dataset. \n",
        "#DATASET_DIR = \"/content/drive/MyDrive/videospeechsong_label\"\n",
        "\n",
        "# Specify the list containing the names of the classes used for training. Feel free to choose any set of classes.\n",
        "CLASSES_LIST = [\"neutral\", \"calm\", \"happy\", \"sad\",\"angry\",\"fearful\"]"
      ]
    },
    {
      "cell_type": "code",
      "execution_count": 6,
      "metadata": {
        "id": "z1PugGDOFidu"
      },
      "outputs": [],
      "source": [
        "import joblib\n",
        "features = joblib.load('/content/drive/My Drive/features_ravdess/data_set/features_data')\n",
        "labels = joblib.load('/content/drive/MyDrive/features_ravdess/data_set/labels')\n",
        "video_files_paths = joblib.load('/content/drive/My Drive/features_ravdess/data_set/video_path')"
      ]
    },
    {
      "cell_type": "code",
      "execution_count": 7,
      "metadata": {
        "id": "AQLmPjgCf52M"
      },
      "outputs": [],
      "source": [
        "features = np.asarray(features)\n",
        "labels = np.array(labels)"
      ]
    },
    {
      "cell_type": "code",
      "execution_count": 8,
      "metadata": {
        "colab": {
          "base_uri": "https://localhost:8080/"
        },
        "id": "MU9jM0FlE-aH",
        "outputId": "9d11223e-dfd7-4c8b-b269-6fda60246084"
      },
      "outputs": [
        {
          "output_type": "execute_result",
          "data": {
            "text/plain": [
              "(2067, 30, 64, 64, 3)"
            ]
          },
          "metadata": {},
          "execution_count": 8
        }
      ],
      "source": [
        "features.shape"
      ]
    },
    {
      "cell_type": "code",
      "execution_count": 9,
      "metadata": {
        "id": "yXZWmUYXE_YJ"
      },
      "outputs": [],
      "source": [
        "# Using Keras's to_categorical method to convert labels into one-hot-encoded vectors\n",
        "one_hot_encoded_labels = to_categorical(labels)"
      ]
    },
    {
      "cell_type": "code",
      "execution_count": 10,
      "metadata": {
        "id": "h3LFmAqnFBdu"
      },
      "outputs": [],
      "source": [
        "\n",
        "# Split the Data into Train ( 80% ) and Test Set ( 20% ).\n",
        "features_train, features_test, labels_train, labels_test = train_test_split(features, one_hot_encoded_labels,\n",
        "                                                                            test_size = 0.10, shuffle = True,\n",
        "                                                                            random_state = seed_constant)"
      ]
    },
    {
      "cell_type": "code",
      "execution_count": 11,
      "metadata": {
        "id": "4WmDntbuFEzc"
      },
      "outputs": [],
      "source": [
        "def create_LRCN_model():\n",
        "    '''\n",
        "    This function will construct the required LRCN model.\n",
        "    Returns:\n",
        "        model: It is the required constructed LRCN model.\n",
        "    '''\n",
        "\n",
        "    # We will use a Sequential model for model construction.\n",
        "    model = Sequential()\n",
        "   \n",
        "    # Define the Model Architecture.\n",
        "    ########################################################################################################################\n",
        "    \n",
        "    model.add(TimeDistributed(Conv2D(16, (5, 5), padding='same'),\n",
        "                              input_shape = (SEQUENCE_LENGTH, IMAGE_HEIGHT, IMAGE_WIDTH, 3)))\n",
        "    model.add(TimeDistributed(BatchNormalization()))\n",
        "    model.add(TimeDistributed(Activation('relu')))\n",
        "    model.add(TimeDistributed(MaxPooling2D((4, 4)))) \n",
        "    model.add(TimeDistributed(Dropout(0.1)))\n",
        "    \n",
        "    model.add(TimeDistributed(Conv2D(32, (5, 5), padding='same')))\n",
        "    model.add(TimeDistributed(BatchNormalization()))\n",
        "    model.add(TimeDistributed(Activation('relu')))\n",
        "    model.add(TimeDistributed(MaxPooling2D((4, 4))))\n",
        "    model.add(TimeDistributed(Dropout(0.2)))\n",
        "    \n",
        "    model.add(TimeDistributed(Conv2D(64, (5, 5), padding='same')))\n",
        "    model.add(TimeDistributed(BatchNormalization()))\n",
        "    model.add(TimeDistributed(Activation('relu')))\n",
        "    model.add(TimeDistributed(MaxPooling2D((2, 2))))\n",
        "    model.add(TimeDistributed(Dropout(0.3)))\n",
        "    \n",
        "    model.add(TimeDistributed(Conv2D(64, (5, 5), padding='same')))\n",
        "    model.add(TimeDistributed(BatchNormalization()))\n",
        "    model.add(TimeDistributed(Activation('relu')))\n",
        "    model.add(TimeDistributed(MaxPooling2D((2, 2))))\n",
        "    #model.add(TimeDistributed(Dropout(0.25)))\n",
        "                                      \n",
        "    model.add(TimeDistributed(Flatten()))\n",
        "                                      \n",
        "    model.add(LSTM(64))\n",
        "                                      \n",
        "    model.add(Dense(len(CLASSES_LIST), activation = 'softmax'))\n",
        "\n",
        "    ########################################################################################################################\n",
        "\n",
        "    # Display the models summary.\n",
        "    model.summary()\n",
        "    \n",
        "    # Return the constructed LRCN model.\n",
        "    return model"
      ]
    },
    {
      "cell_type": "code",
      "execution_count": 12,
      "metadata": {
        "colab": {
          "base_uri": "https://localhost:8080/"
        },
        "id": "2Mjr6pjzFOkd",
        "outputId": "0ded6291-ac1e-4004-96ec-a50dc895e3d7"
      },
      "outputs": [
        {
          "output_type": "stream",
          "name": "stdout",
          "text": [
            "Model: \"sequential\"\n",
            "_________________________________________________________________\n",
            " Layer (type)                Output Shape              Param #   \n",
            "=================================================================\n",
            " time_distributed (TimeDistr  (None, 30, 64, 64, 16)   1216      \n",
            " ibuted)                                                         \n",
            "                                                                 \n",
            " time_distributed_1 (TimeDis  (None, 30, 64, 64, 16)   64        \n",
            " tributed)                                                       \n",
            "                                                                 \n",
            " time_distributed_2 (TimeDis  (None, 30, 64, 64, 16)   0         \n",
            " tributed)                                                       \n",
            "                                                                 \n",
            " time_distributed_3 (TimeDis  (None, 30, 16, 16, 16)   0         \n",
            " tributed)                                                       \n",
            "                                                                 \n",
            " time_distributed_4 (TimeDis  (None, 30, 16, 16, 16)   0         \n",
            " tributed)                                                       \n",
            "                                                                 \n",
            " time_distributed_5 (TimeDis  (None, 30, 16, 16, 32)   12832     \n",
            " tributed)                                                       \n",
            "                                                                 \n",
            " time_distributed_6 (TimeDis  (None, 30, 16, 16, 32)   128       \n",
            " tributed)                                                       \n",
            "                                                                 \n",
            " time_distributed_7 (TimeDis  (None, 30, 16, 16, 32)   0         \n",
            " tributed)                                                       \n",
            "                                                                 \n",
            " time_distributed_8 (TimeDis  (None, 30, 4, 4, 32)     0         \n",
            " tributed)                                                       \n",
            "                                                                 \n",
            " time_distributed_9 (TimeDis  (None, 30, 4, 4, 32)     0         \n",
            " tributed)                                                       \n",
            "                                                                 \n",
            " time_distributed_10 (TimeDi  (None, 30, 4, 4, 64)     51264     \n",
            " stributed)                                                      \n",
            "                                                                 \n",
            " time_distributed_11 (TimeDi  (None, 30, 4, 4, 64)     256       \n",
            " stributed)                                                      \n",
            "                                                                 \n",
            " time_distributed_12 (TimeDi  (None, 30, 4, 4, 64)     0         \n",
            " stributed)                                                      \n",
            "                                                                 \n",
            " time_distributed_13 (TimeDi  (None, 30, 2, 2, 64)     0         \n",
            " stributed)                                                      \n",
            "                                                                 \n",
            " time_distributed_14 (TimeDi  (None, 30, 2, 2, 64)     0         \n",
            " stributed)                                                      \n",
            "                                                                 \n",
            " time_distributed_15 (TimeDi  (None, 30, 2, 2, 64)     102464    \n",
            " stributed)                                                      \n",
            "                                                                 \n",
            " time_distributed_16 (TimeDi  (None, 30, 2, 2, 64)     256       \n",
            " stributed)                                                      \n",
            "                                                                 \n",
            " time_distributed_17 (TimeDi  (None, 30, 2, 2, 64)     0         \n",
            " stributed)                                                      \n",
            "                                                                 \n",
            " time_distributed_18 (TimeDi  (None, 30, 1, 1, 64)     0         \n",
            " stributed)                                                      \n",
            "                                                                 \n",
            " time_distributed_19 (TimeDi  (None, 30, 64)           0         \n",
            " stributed)                                                      \n",
            "                                                                 \n",
            " lstm (LSTM)                 (None, 64)                33024     \n",
            "                                                                 \n",
            " dense (Dense)               (None, 6)                 390       \n",
            "                                                                 \n",
            "=================================================================\n",
            "Total params: 201,894\n",
            "Trainable params: 201,542\n",
            "Non-trainable params: 352\n",
            "_________________________________________________________________\n",
            "Model Created Successfully!\n"
          ]
        }
      ],
      "source": [
        "# Construct the required LRCN model.\n",
        "LRCN_model = create_LRCN_model()\n",
        "\n",
        "# Display the success message.\n",
        "print(\"Model Created Successfully!\")\n"
      ]
    },
    {
      "cell_type": "code",
      "execution_count": 13,
      "metadata": {
        "colab": {
          "base_uri": "https://localhost:8080/"
        },
        "id": "dvXcqO0TFRzR",
        "outputId": "33f37a06-fab7-46ef-86fa-bd8c21d9b8f3"
      },
      "outputs": [
        {
          "output_type": "stream",
          "name": "stdout",
          "text": [
            "Epoch 1/100\n",
            "419/419 [==============================] - 23s 21ms/step - loss: 1.5821 - accuracy: 0.3441 - val_loss: 1.9460 - val_accuracy: 0.2849\n",
            "Epoch 2/100\n",
            "419/419 [==============================] - 7s 17ms/step - loss: 1.2145 - accuracy: 0.4779 - val_loss: 2.9086 - val_accuracy: 0.2312\n",
            "Epoch 3/100\n",
            "419/419 [==============================] - 7s 17ms/step - loss: 1.0921 - accuracy: 0.5400 - val_loss: 1.6932 - val_accuracy: 0.3387\n",
            "Epoch 4/100\n",
            "419/419 [==============================] - 7s 17ms/step - loss: 0.9881 - accuracy: 0.5693 - val_loss: 0.9271 - val_accuracy: 0.5699\n",
            "Epoch 5/100\n",
            "419/419 [==============================] - 7s 17ms/step - loss: 0.9243 - accuracy: 0.6165 - val_loss: 0.7880 - val_accuracy: 0.6559\n",
            "Epoch 6/100\n",
            "419/419 [==============================] - 7s 17ms/step - loss: 0.8528 - accuracy: 0.6493 - val_loss: 1.4410 - val_accuracy: 0.5430\n",
            "Epoch 7/100\n",
            "419/419 [==============================] - 7s 17ms/step - loss: 0.7680 - accuracy: 0.6786 - val_loss: 0.7464 - val_accuracy: 0.7258\n",
            "Epoch 8/100\n",
            "419/419 [==============================] - 7s 17ms/step - loss: 0.6937 - accuracy: 0.7198 - val_loss: 0.6336 - val_accuracy: 0.7688\n",
            "Epoch 9/100\n",
            "419/419 [==============================] - 7s 17ms/step - loss: 0.6189 - accuracy: 0.7670 - val_loss: 0.6453 - val_accuracy: 0.7849\n",
            "Epoch 10/100\n",
            "419/419 [==============================] - 7s 17ms/step - loss: 0.5889 - accuracy: 0.7724 - val_loss: 0.4725 - val_accuracy: 0.8495\n",
            "Epoch 11/100\n",
            "419/419 [==============================] - 7s 17ms/step - loss: 0.5315 - accuracy: 0.8065 - val_loss: 0.7490 - val_accuracy: 0.7097\n",
            "Epoch 12/100\n",
            "419/419 [==============================] - 7s 17ms/step - loss: 0.4738 - accuracy: 0.8315 - val_loss: 0.5434 - val_accuracy: 0.8172\n",
            "Epoch 13/100\n",
            "419/419 [==============================] - 7s 17ms/step - loss: 0.4219 - accuracy: 0.8417 - val_loss: 0.5344 - val_accuracy: 0.8172\n",
            "Epoch 14/100\n",
            "419/419 [==============================] - 7s 17ms/step - loss: 0.3881 - accuracy: 0.8578 - val_loss: 0.3039 - val_accuracy: 0.9247\n",
            "Epoch 15/100\n",
            "419/419 [==============================] - 7s 17ms/step - loss: 0.3377 - accuracy: 0.8757 - val_loss: 0.6266 - val_accuracy: 0.8172\n",
            "Epoch 16/100\n",
            "419/419 [==============================] - 7s 17ms/step - loss: 0.3356 - accuracy: 0.8829 - val_loss: 0.4580 - val_accuracy: 0.8763\n",
            "Epoch 17/100\n",
            "419/419 [==============================] - 7s 17ms/step - loss: 0.3204 - accuracy: 0.8853 - val_loss: 1.1147 - val_accuracy: 0.6613\n",
            "Epoch 18/100\n",
            "419/419 [==============================] - 7s 17ms/step - loss: 0.2689 - accuracy: 0.9074 - val_loss: 0.5706 - val_accuracy: 0.8172\n",
            "Epoch 19/100\n",
            "419/419 [==============================] - 7s 17ms/step - loss: 0.2637 - accuracy: 0.9002 - val_loss: 0.4434 - val_accuracy: 0.8710\n",
            "Epoch 20/100\n",
            "419/419 [==============================] - 7s 18ms/step - loss: 0.2456 - accuracy: 0.9200 - val_loss: 0.5312 - val_accuracy: 0.8387\n",
            "Epoch 21/100\n",
            "419/419 [==============================] - 7s 17ms/step - loss: 0.2584 - accuracy: 0.9080 - val_loss: 0.7396 - val_accuracy: 0.7957\n",
            "Epoch 22/100\n",
            "419/419 [==============================] - 7s 17ms/step - loss: 0.1998 - accuracy: 0.9337 - val_loss: 0.2993 - val_accuracy: 0.9194\n",
            "Epoch 23/100\n",
            "419/419 [==============================] - 7s 17ms/step - loss: 0.2381 - accuracy: 0.9104 - val_loss: 0.4364 - val_accuracy: 0.8548\n",
            "Epoch 24/100\n",
            "419/419 [==============================] - 7s 17ms/step - loss: 0.1942 - accuracy: 0.9295 - val_loss: 0.3242 - val_accuracy: 0.8978\n",
            "Epoch 25/100\n",
            "419/419 [==============================] - 7s 18ms/step - loss: 0.1751 - accuracy: 0.9415 - val_loss: 0.2623 - val_accuracy: 0.9247\n",
            "Epoch 26/100\n",
            "419/419 [==============================] - 7s 17ms/step - loss: 0.1749 - accuracy: 0.9367 - val_loss: 0.2663 - val_accuracy: 0.9140\n",
            "Epoch 27/100\n",
            "419/419 [==============================] - 7s 17ms/step - loss: 0.1757 - accuracy: 0.9379 - val_loss: 0.6063 - val_accuracy: 0.8280\n",
            "Epoch 28/100\n",
            "419/419 [==============================] - 7s 18ms/step - loss: 0.1421 - accuracy: 0.9528 - val_loss: 0.4969 - val_accuracy: 0.8602\n",
            "Epoch 29/100\n",
            "419/419 [==============================] - 7s 17ms/step - loss: 0.1456 - accuracy: 0.9504 - val_loss: 0.2196 - val_accuracy: 0.9355\n",
            "Epoch 30/100\n",
            "419/419 [==============================] - 7s 17ms/step - loss: 0.1559 - accuracy: 0.9421 - val_loss: 0.2136 - val_accuracy: 0.9409\n",
            "Epoch 31/100\n",
            "419/419 [==============================] - 7s 17ms/step - loss: 0.1307 - accuracy: 0.9570 - val_loss: 0.2587 - val_accuracy: 0.9194\n",
            "Epoch 32/100\n",
            "419/419 [==============================] - 7s 17ms/step - loss: 0.1245 - accuracy: 0.9576 - val_loss: 0.2618 - val_accuracy: 0.9194\n",
            "Epoch 33/100\n",
            "419/419 [==============================] - 7s 17ms/step - loss: 0.1665 - accuracy: 0.9421 - val_loss: 0.2678 - val_accuracy: 0.9086\n",
            "Epoch 34/100\n",
            "419/419 [==============================] - 7s 17ms/step - loss: 0.1364 - accuracy: 0.9462 - val_loss: 0.2636 - val_accuracy: 0.8925\n",
            "Epoch 35/100\n",
            "419/419 [==============================] - 7s 18ms/step - loss: 0.1492 - accuracy: 0.9480 - val_loss: 0.2459 - val_accuracy: 0.9140\n",
            "Epoch 36/100\n",
            "419/419 [==============================] - 7s 17ms/step - loss: 0.1077 - accuracy: 0.9630 - val_loss: 0.3410 - val_accuracy: 0.8978\n",
            "Epoch 37/100\n",
            "419/419 [==============================] - 7s 17ms/step - loss: 0.1141 - accuracy: 0.9612 - val_loss: 0.2799 - val_accuracy: 0.9032\n",
            "Epoch 38/100\n",
            "419/419 [==============================] - 7s 17ms/step - loss: 0.1346 - accuracy: 0.9540 - val_loss: 0.3310 - val_accuracy: 0.9032\n",
            "Epoch 39/100\n",
            "419/419 [==============================] - 7s 17ms/step - loss: 0.1316 - accuracy: 0.9558 - val_loss: 0.1806 - val_accuracy: 0.9409\n",
            "Epoch 40/100\n",
            "419/419 [==============================] - 7s 17ms/step - loss: 0.0950 - accuracy: 0.9665 - val_loss: 0.2764 - val_accuracy: 0.9355\n",
            "Epoch 41/100\n",
            "419/419 [==============================] - 7s 17ms/step - loss: 0.0752 - accuracy: 0.9725 - val_loss: 0.3277 - val_accuracy: 0.8925\n",
            "Epoch 42/100\n",
            "419/419 [==============================] - 7s 17ms/step - loss: 0.1007 - accuracy: 0.9612 - val_loss: 0.2018 - val_accuracy: 0.9516\n",
            "Epoch 43/100\n",
            "419/419 [==============================] - 7s 18ms/step - loss: 0.1116 - accuracy: 0.9606 - val_loss: 0.2595 - val_accuracy: 0.9194\n",
            "Epoch 44/100\n",
            "419/419 [==============================] - 7s 17ms/step - loss: 0.1084 - accuracy: 0.9636 - val_loss: 0.2918 - val_accuracy: 0.9032\n",
            "Epoch 45/100\n",
            "419/419 [==============================] - 7s 17ms/step - loss: 0.0729 - accuracy: 0.9719 - val_loss: 0.4051 - val_accuracy: 0.8925\n",
            "Epoch 46/100\n",
            "419/419 [==============================] - 7s 17ms/step - loss: 0.0737 - accuracy: 0.9755 - val_loss: 0.3465 - val_accuracy: 0.9032\n",
            "Epoch 47/100\n",
            "419/419 [==============================] - 7s 17ms/step - loss: 0.0959 - accuracy: 0.9683 - val_loss: 0.3970 - val_accuracy: 0.8710\n",
            "Epoch 48/100\n",
            "419/419 [==============================] - 7s 17ms/step - loss: 0.1113 - accuracy: 0.9588 - val_loss: 0.3344 - val_accuracy: 0.8978\n",
            "Epoch 49/100\n",
            "419/419 [==============================] - 8s 18ms/step - loss: 0.0456 - accuracy: 0.9851 - val_loss: 0.2275 - val_accuracy: 0.9301\n",
            "Epoch 50/100\n",
            "419/419 [==============================] - 7s 18ms/step - loss: 0.0477 - accuracy: 0.9839 - val_loss: 0.6108 - val_accuracy: 0.8602\n",
            "Epoch 51/100\n",
            "419/419 [==============================] - 7s 18ms/step - loss: 0.1016 - accuracy: 0.9695 - val_loss: 0.2573 - val_accuracy: 0.9194\n",
            "Epoch 52/100\n",
            "419/419 [==============================] - 7s 18ms/step - loss: 0.0662 - accuracy: 0.9737 - val_loss: 0.3651 - val_accuracy: 0.8978\n",
            "Epoch 53/100\n",
            "419/419 [==============================] - 7s 18ms/step - loss: 0.0821 - accuracy: 0.9731 - val_loss: 0.3667 - val_accuracy: 0.8978\n",
            "Epoch 54/100\n",
            "419/419 [==============================] - 7s 18ms/step - loss: 0.0803 - accuracy: 0.9743 - val_loss: 0.7081 - val_accuracy: 0.8118\n",
            "Epoch 55/100\n",
            "419/419 [==============================] - 7s 17ms/step - loss: 0.0735 - accuracy: 0.9749 - val_loss: 0.2853 - val_accuracy: 0.9140\n",
            "Epoch 56/100\n",
            "419/419 [==============================] - 7s 17ms/step - loss: 0.0459 - accuracy: 0.9845 - val_loss: 0.2639 - val_accuracy: 0.9140\n",
            "Epoch 57/100\n",
            "419/419 [==============================] - 7s 17ms/step - loss: 0.0810 - accuracy: 0.9725 - val_loss: 0.6320 - val_accuracy: 0.8280\n",
            "Epoch 58/100\n",
            "419/419 [==============================] - 7s 18ms/step - loss: 0.0734 - accuracy: 0.9767 - val_loss: 0.2901 - val_accuracy: 0.9194\n",
            "Epoch 59/100\n",
            "419/419 [==============================] - 7s 17ms/step - loss: 0.0607 - accuracy: 0.9809 - val_loss: 0.2010 - val_accuracy: 0.9516\n",
            "Epoch 60/100\n",
            "419/419 [==============================] - 7s 17ms/step - loss: 0.0756 - accuracy: 0.9749 - val_loss: 0.2032 - val_accuracy: 0.9409\n",
            "Epoch 61/100\n",
            "419/419 [==============================] - 7s 17ms/step - loss: 0.0450 - accuracy: 0.9839 - val_loss: 0.4335 - val_accuracy: 0.9140\n",
            "Epoch 62/100\n",
            "419/419 [==============================] - 7s 17ms/step - loss: 0.1090 - accuracy: 0.9630 - val_loss: 0.3107 - val_accuracy: 0.9194\n",
            "Epoch 63/100\n",
            "419/419 [==============================] - 7s 17ms/step - loss: 0.0481 - accuracy: 0.9815 - val_loss: 0.1911 - val_accuracy: 0.9355\n",
            "Epoch 64/100\n",
            "419/419 [==============================] - 7s 17ms/step - loss: 0.1041 - accuracy: 0.9659 - val_loss: 0.3238 - val_accuracy: 0.9140\n"
          ]
        }
      ],
      "source": [
        "# Create an Instance of Early Stopping Callback.\n",
        "early_stopping_callback = EarlyStopping(monitor = 'val_loss', patience = 25, mode = 'min', restore_best_weights = True)\n",
        " \n",
        "# Compile the model and specify loss function, optimizer and metrics to the model.\n",
        "LRCN_model.compile(loss = 'categorical_crossentropy', optimizer = 'Adam', metrics = [\"accuracy\"])\n",
        "\n",
        "# Start training the model.\n",
        "LRCN_model_training_history = LRCN_model.fit(x = features_train, y = labels_train, epochs = 100, batch_size = 4 ,\n",
        "                                             shuffle = True, validation_split = 0.1, callbacks = [early_stopping_callback])"
      ]
    },
    {
      "cell_type": "code",
      "execution_count": 14,
      "metadata": {
        "colab": {
          "base_uri": "https://localhost:8080/"
        },
        "id": "2UP4-H_oF4TZ",
        "outputId": "7d760b89-236d-4d9b-99b5-38166df4d639"
      },
      "outputs": [
        {
          "output_type": "stream",
          "name": "stdout",
          "text": [
            "7/7 [==============================] - 0s 37ms/step - loss: 0.2200 - accuracy: 0.9130\n"
          ]
        }
      ],
      "source": [
        "# Evaluate the trained model.\n",
        "model_evaluation_history = LRCN_model.evaluate(features_test, labels_test)"
      ]
    },
    {
      "cell_type": "code",
      "execution_count": 15,
      "metadata": {
        "id": "ZQFzvcgbF73v"
      },
      "outputs": [],
      "source": [
        "# Get the loss and accuracy from model_evaluation_history.\n",
        "model_evaluation_loss, model_evaluation_accuracy = model_evaluation_history\n",
        "\n",
        "# Define the string date format.\n",
        "# Get the current Date and Time in a DateTime Object.\n",
        "# Convert the DateTime object to string according to the style mentioned in date_time_format string.\n",
        "date_time_format = '%Y_%m_%d__%H_%M_%S'\n",
        "current_date_time_dt = dt.datetime.now()\n",
        "current_date_time_string = dt.datetime.strftime(current_date_time_dt, date_time_format)\n",
        "    \n",
        "# Define a useful name for our model to make it easy for us while navigating through multiple saved models.\n",
        "model_file_name = f'LRCN_model___Date_Time_{current_date_time_string}___Loss_{model_evaluation_loss}___Accuracy_{model_evaluation_accuracy}.h5'\n",
        "\n",
        "# Save the Model.\n",
        "LRCN_model.save(model_file_name)"
      ]
    },
    {
      "cell_type": "code",
      "execution_count": 16,
      "metadata": {
        "id": "f6YHM7o_F-LU"
      },
      "outputs": [],
      "source": [
        "def plot_metric(model_training_history, metric_name_1, metric_name_2, plot_name):\n",
        "    '''\n",
        "    This function will plot the metrics passed to it in a graph.\n",
        "    Args:\n",
        "        model_training_history: A history object containing a record of training and validation \n",
        "                                loss values and metrics values at successive epochs\n",
        "        metric_name_1:          The name of the first metric that needs to be plotted in the graph.\n",
        "        metric_name_2:          The name of the second metric that needs to be plotted in the graph.\n",
        "        plot_name:              The title of the graph.\n",
        "    '''\n",
        "    \n",
        "    # Get metric values using metric names as identifiers.\n",
        "    metric_value_1 = model_training_history.history[metric_name_1]\n",
        "    metric_value_2 = model_training_history.history[metric_name_2]\n",
        "    \n",
        "    # Construct a range object which will be used as x-axis (horizontal plane) of the graph.\n",
        "    epochs = range(len(metric_value_1))\n",
        "\n",
        "    # Plot the Graph.\n",
        "    plt.plot(epochs, metric_value_1, 'blue', label = metric_name_1)\n",
        "    plt.plot(epochs, metric_value_2, 'red', label = metric_name_2)\n",
        "\n",
        "    # Add title to the plot.\n",
        "    plt.title(str(plot_name))\n",
        "\n",
        "    # Add legend to the plot.\n",
        "    plt.legend()"
      ]
    },
    {
      "cell_type": "code",
      "execution_count": 17,
      "metadata": {
        "colab": {
          "base_uri": "https://localhost:8080/",
          "height": 281
        },
        "id": "3V346_N6GAKN",
        "outputId": "a76d6503-830d-47b7-81ae-c7b7f31c9881"
      },
      "outputs": [
        {
          "output_type": "display_data",
          "data": {
            "text/plain": [
              "<Figure size 432x288 with 1 Axes>"
            ],
            "image/png": "[encoded data removed]"
          },
          "metadata": {
            "needs_background": "light"
          }
        }
      ],
      "source": [
        "# Visualize the training and validation loss metrices.\n",
        "plot_metric(LRCN_model_training_history, 'loss', 'val_loss', 'Total Loss vs Total Validation Loss')"
      ]
    },
    {
      "cell_type": "code",
      "execution_count": 18,
      "metadata": {
        "colab": {
          "base_uri": "https://localhost:8080/",
          "height": 281
        },
        "id": "K-2dqoIFGCZl",
        "outputId": "0f7b4ccb-18bb-4386-934d-dda3461af179"
      },
      "outputs": [
        {
          "output_type": "display_data",
          "data": {
            "text/plain": [
              "<Figure size 432x288 with 1 Axes>"
            ],
            "image/png": "[encoded data removed]"
          },
          "metadata": {
            "needs_background": "light"
          }
        }
      ],
      "source": [
        "# Visualize the training and validation accuracy metrices.\n",
        "plot_metric(LRCN_model_training_history, 'accuracy', 'val_accuracy', 'Total Accuracy vs Total Validation Accuracy')"
      ]
    },
    {
      "cell_type": "code",
      "execution_count": 19,
      "metadata": {
        "colab": {
          "base_uri": "https://localhost:8080/"
        },
        "id": "UIQGDtkcGGu0",
        "outputId": "b7feceb7-8824-48bb-b76f-061ec40f050c"
      },
      "outputs": [
        {
          "output_type": "execute_result",
          "data": {
            "text/plain": [
              "array([[9.7555816e-01, 9.1595137e-03, 2.1306003e-05, 1.2771630e-02,\n",
              "        2.2273960e-03, 2.6190205e-04],\n",
              "       [1.6203271e-03, 8.2551781e-03, 4.5655899e-05, 9.8527354e-01,\n",
              "        3.8358226e-04, 4.4216565e-03],\n",
              "       [5.0670963e-07, 8.8175591e-05, 9.9982196e-01, 1.1371632e-05,\n",
              "        9.0479962e-06, 6.9049805e-05],\n",
              "       ...,\n",
              "       [1.0593010e-03, 1.6162319e-03, 2.5081747e-05, 1.3169367e-02,\n",
              "        9.8280627e-01, 1.3237878e-03],\n",
              "       [4.9699029e-05, 2.0930578e-04, 1.1357396e-05, 2.5736950e-03,\n",
              "        9.9121511e-01, 5.9408308e-03],\n",
              "       [5.3529459e-04, 9.9570966e-01, 2.8104060e-03, 8.9313288e-04,\n",
              "        4.2174142e-05, 9.3928666e-06]], dtype=float32)"
            ]
          },
          "metadata": {},
          "execution_count": 19
        }
      ],
      "source": [
        "predictions =  LRCN_model.predict(features_test)\n",
        "predictions"
      ]
    },
    {
      "cell_type": "code",
      "execution_count": 20,
      "metadata": {
        "colab": {
          "base_uri": "https://localhost:8080/"
        },
        "id": "E7smnX9oGMly",
        "outputId": "43ff6e89-4892-4349-9a51-e352f8a210a2"
      },
      "outputs": [
        {
          "output_type": "execute_result",
          "data": {
            "text/plain": [
              "array([0, 3, 2, 5, 5, 2, 5, 1, 4, 0, 3, 1, 4, 0, 4, 5, 4, 1, 1, 3, 3, 2,\n",
              "       0, 2, 2, 5, 3, 5, 5, 3, 5, 4, 5, 0, 2, 2, 4, 1, 5, 4, 2, 2, 1, 5,\n",
              "       2, 1, 5, 3, 4, 5, 4, 2, 1, 3, 3, 0, 3, 0, 2, 5, 4, 4, 5, 0, 1, 3,\n",
              "       1, 0, 5, 1, 1, 2, 5, 3, 5, 4, 0, 3, 4, 4, 3, 0, 4, 0, 0, 1, 2, 3,\n",
              "       3, 5, 5, 1, 1, 1, 5, 5, 1, 2, 5, 3, 4, 3, 3, 3, 5, 3, 2, 1, 4, 1,\n",
              "       5, 2, 0, 1, 4, 0, 4, 1, 1, 1, 1, 5, 3, 4, 1, 2, 3, 2, 3, 1, 2, 0,\n",
              "       1, 5, 1, 0, 5, 0, 2, 1, 2, 1, 2, 3, 1, 2, 3, 0, 0, 3, 2, 3, 5, 3,\n",
              "       1, 2, 1, 3, 0, 0, 1, 3, 3, 2, 4, 1, 0, 0, 5, 4, 4, 3, 1, 4, 3, 1,\n",
              "       5, 0, 4, 4, 4, 0, 1, 5, 3, 3, 1, 3, 3, 4, 1, 4, 1, 0, 4, 2, 3, 1,\n",
              "       4, 5, 3, 2, 5, 2, 4, 4, 1])"
            ]
          },
          "metadata": {},
          "execution_count": 20
        }
      ],
      "source": [
        "preds=predictions.argmax(axis=1)\n",
        "preds"
      ]
    },
    {
      "cell_type": "code",
      "execution_count": 21,
      "metadata": {
        "colab": {
          "base_uri": "https://localhost:8080/"
        },
        "id": "DvrDaZw2GPHK",
        "outputId": "4fb5f407-7a07-435e-b1a5-ad4c982f8ed3"
      },
      "outputs": [
        {
          "output_type": "execute_result",
          "data": {
            "text/plain": [
              "array([0, 3, 2, 5, 5, 2, 5, 1, 4, 0, 3, 1, 4, 0, 4, 5, 4, 1, 1, 3, 3, 2,\n",
              "       0, 2, 2, 5, 3, 5, 5, 3, 5, 4, 5, 0, 2, 2, 4, 1, 5, 4, 2, 2, 1, 5,\n",
              "       2, 1, 5, 3, 4, 5, 4, 2, 1, 3, 3, 0, 3, 0, 2, 5, 4, 4, 5, 0, 1, 3,\n",
              "       1, 0, 5, 1, 1, 2, 5, 3, 5, 4, 0, 3, 4, 4, 3, 0, 4, 0, 0, 1, 2, 3,\n",
              "       3, 5, 5, 1, 1, 1, 5, 5, 1, 2, 5, 3, 4, 3, 3, 3, 5, 3, 2, 1, 4, 1,\n",
              "       5, 2, 0, 1, 4, 0, 4, 1, 1, 1, 1, 5, 3, 4, 1, 2, 3, 2, 3, 1, 2, 0,\n",
              "       1, 5, 1, 0, 5, 0, 2, 1, 2, 1, 2, 3, 1, 2, 3, 0, 0, 3, 2, 3, 5, 3,\n",
              "       1, 2, 1, 3, 0, 0, 1, 3, 3, 2, 4, 1, 0, 0, 5, 4, 4, 3, 1, 4, 3, 1,\n",
              "       5, 0, 4, 4, 4, 0, 1, 5, 3, 3, 1, 3, 3, 4, 1, 4, 1, 0, 4, 2, 3, 1,\n",
              "       4, 5, 3, 2, 5, 2, 4, 4, 1])"
            ]
          },
          "metadata": {},
          "execution_count": 21
        }
      ],
      "source": [
        "new_preds = preds.astype(int).flatten()\n",
        "new_preds"
      ]
    },
    {
      "cell_type": "code",
      "execution_count": 22,
      "metadata": {
        "colab": {
          "base_uri": "https://localhost:8080/",
          "height": 508
        },
        "id": "7p7e1ihVGSke",
        "outputId": "37e39195-a546-412f-d06c-cf9a9d995eea"
      },
      "outputs": [
        {
          "output_type": "stream",
          "name": "stdout",
          "text": [
            "              precision    recall  f1-score   support\n",
            "\n",
            "           0       0.89      0.89      0.89        27\n",
            "           1       0.95      0.93      0.94        44\n",
            "           2       1.00      1.00      1.00        30\n",
            "           3       0.78      0.91      0.84        34\n",
            "           4       0.97      0.94      0.96        34\n",
            "           5       0.91      0.82      0.86        38\n",
            "\n",
            "    accuracy                           0.91       207\n",
            "   macro avg       0.92      0.91      0.91       207\n",
            "weighted avg       0.92      0.91      0.91       207\n",
            "\n",
            "----accuracy score 91.30434782608695 ----\n"
          ]
        },
        {
          "output_type": "display_data",
          "data": {
            "text/plain": [
              "<Figure size 432x288 with 2 Axes>"
            ],
            "image/png": "[encoded data removed]"
          },
          "metadata": {
            "needs_background": "light"
          }
        }
      ],
      "source": [
        "from sklearn.metrics import classification_report, confusion_matrix,accuracy_score\n",
        "import seaborn as sn\n",
        "import pandas as pd\n",
        "import numpy as np\n",
        "new_labels=np.argmax(labels_test, axis=1)\n",
        "print(classification_report(new_labels,new_preds))\n",
        "\n",
        "acc = float(accuracy_score(new_labels,new_preds))*100\n",
        "print(\"----accuracy score %s ----\" % acc)\n",
        "\n",
        "cm = confusion_matrix(new_labels,new_preds)\n",
        "#df_cm = pd.DataFrame(cm)\n",
        "class_names = ['neutral','calm', 'happy','sad','angry', 'fearful' ]\n",
        "df_cm = pd.DataFrame(cm, index=class_names, columns=class_names,)\n",
        "sn.heatmap(df_cm, annot=True, fmt='')\n",
        "plt.show()"
      ]
    },
    {
      "cell_type": "code",
      "source": [
        ""
      ],
      "metadata": {
        "id": "zoHsKTXl0Dw7"
      },
      "execution_count": 22,
      "outputs": []
    }
  ],
  "metadata": {
    "accelerator": "GPU",
    "colab": {
      "machine_shape": "hm",
      "name": "LRCN_CNN_80_10_10_DATASET_100_EPOCHS_WITH_CAHNGE_IN_DROP_OUT_LSTM_64_kernal_size_5_5.ipynb",
      "provenance": [],
      "collapsed_sections": []
    },
    "kernelspec": {
      "display_name": "Python 3",
      "name": "python3"
    },
    "language_info": {
      "name": "python"
    }
  },
  "nbformat": 4,
  "nbformat_minor": 0
}