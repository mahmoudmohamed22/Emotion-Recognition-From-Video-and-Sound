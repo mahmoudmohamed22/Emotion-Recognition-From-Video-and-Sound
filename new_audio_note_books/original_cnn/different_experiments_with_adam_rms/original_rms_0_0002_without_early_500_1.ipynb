{
  "nbformat": 4,
  "nbformat_minor": 0,
  "metadata": {
    "colab": {
      "name": "original_rms_0.0002_without early_500_1.ipynb",
      "provenance": [],
      "collapsed_sections": []
    },
    "kernelspec": {
      "name": "python3",
      "display_name": "Python 3"
    },
    "language_info": {
      "name": "python"
    },
    "accelerator": "GPU"
  },
  "cells": [
    {
      "cell_type": "code",
      "execution_count": 3,
      "metadata": {
        "colab": {
          "base_uri": "https://localhost:8080/"
        },
        "id": "9SRCO-a_AlH5",
        "outputId": "ef0ac785-f068-4be1-d523-fba26939af46"
      },
      "outputs": [
        {
          "output_type": "stream",
          "name": "stdout",
          "text": [
            "Mounted at /content/drive\n"
          ]
        }
      ],
      "source": [
        "from google.colab import drive\n",
        "drive.mount('/content/drive')"
      ]
    },
    {
      "cell_type": "code",
      "metadata": {
        "id": "HJjcbxwy46bG",
        "colab": {
          "base_uri": "https://localhost:8080/",
          "height": 17
        },
        "outputId": "7cc26a3f-99fa-4838-fef5-52f54b9e974b"
      },
      "source": [
        "# Orignial Notebook: https://github.com/MITESHPUTHRANNEU/Speech-Emotion-Analyzer/blob/master/final_results_gender_test.ipynb\n",
        "# This notebook author: Reza Chu\n",
        "# Last Editing Date: 31st May 2019\n",
        "\n",
        "## Python\n",
        "import os\n",
        "import random\n",
        "import sys\n",
        "\n",
        "import IPython\n",
        "from IPython.display import Audio\n",
        "from IPython.display import Image\n",
        "import matplotlib.pyplot as plt\n",
        "\n",
        "## Package\n",
        "import glob \n",
        "import keras\n",
        "import IPython.display as ipd\n",
        "import librosa\n",
        "import librosa.display\n",
        "import matplotlib.pyplot as plt\n",
        "import numpy as np\n",
        "import pandas as pd\n",
        "import plotly.graph_objs as go\n",
        "import plotly.offline as py\n",
        "import plotly.tools as tls\n",
        "import seaborn as sns\n",
        "import scipy.io.wavfile\n",
        "import tensorflow as tf\n",
        "py.init_notebook_mode(connected=True)\n",
        "\n",
        "## Keras\n",
        "from keras import regularizers\n",
        "from keras.callbacks import ModelCheckpoint, LearningRateScheduler, EarlyStopping\n",
        "from keras.callbacks import  History, ReduceLROnPlateau, CSVLogger\n",
        "from keras.models import Model, Sequential\n",
        "from keras.layers import Dense, Embedding, LSTM\n",
        "from keras.layers import Input, Flatten, Dropout, Activation, BatchNormalization\n",
        "from keras.layers import Conv1D, MaxPooling1D, AveragePooling1D\n",
        "from keras.preprocessing import sequence\n",
        "from keras.preprocessing.sequence import pad_sequences\n",
        "from keras.preprocessing.text import Tokenizer\n",
        "from keras.utils import np_utils\n",
        "from tensorflow.keras.utils import to_categorical\n",
        "\n",
        "## Sklearn\n",
        "from sklearn.metrics import confusion_matrix\n",
        "from sklearn.preprocessing import LabelEncoder\n",
        "\n",
        "## Rest\n",
        "from scipy.fftpack import fft\n",
        "from scipy import signal\n",
        "from scipy.io import wavfile\n",
        "from tqdm import tqdm\n",
        "\n",
        "input_duration=3\n",
        "# % pylab inline"
      ],
      "execution_count": 1,
      "outputs": [
        {
          "output_type": "display_data",
          "data": {
            "text/html": [
              "        <script type=\"text/javascript\">\n",
              "        window.PlotlyConfig = {MathJaxConfig: 'local'};\n",
              "        if (window.MathJax) {MathJax.Hub.Config({SVG: {font: \"STIX-Web\"}});}\n",
              "        if (typeof require !== 'undefined') {\n",
              "        require.undef(\"plotly\");\n",
              "        requirejs.config({\n",
              "            paths: {\n",
              "                'plotly': ['https://cdn.plot.ly/plotly-2.8.3.min']\n",
              "            }\n",
              "        });\n",
              "        require(['plotly'], function(Plotly) {\n",
              "            window._Plotly = Plotly;\n",
              "        });\n",
              "        }\n",
              "        </script>\n",
              "        "
            ]
          },
          "metadata": {}
        }
      ]
    },
    {
      "cell_type": "code",
      "source": [
        "#radvass speech and song\n",
        "import time\n",
        "import os\n",
        "import librosa\n",
        "from librosa import display\n",
        "import matplotlib.pyplot as plt\n",
        "\n",
        "count=0\n",
        "path1 = '/content/drive/MyDrive/RAVDESS_speech'\n",
        "path2 = '/content/drive/MyDrive/RAVDESS_song'\n",
        "\n",
        "lst = []\n",
        "\n",
        "start_time = time.time()\n",
        "\n",
        "for subdir, dirs, files in os.walk(path2):\n",
        "  print(dirs)\n",
        "  print(subdir)\n",
        "  #print(files)\n",
        "  for file in files:\n",
        "      try:\n",
        "        count +=1\n",
        "        #Load librosa array, obtain mfcss, store the file and the mcss information in a new array\n",
        "        X, sample_rate = librosa.load(os.path.join(subdir,file), res_type='kaiser_fast')\n",
        "        mfccs = np.mean(librosa.feature.mfcc(y=X, sr=sample_rate, n_mfcc=40).T,axis=0) \n",
        "        # The instruction below converts the labels (from 1 to 8) to a series from 0 to 7\n",
        "        # This is because our predictor needs to start from 0 otherwise it will try to predict also 0.\n",
        "        file = int(file[7:8]) - 1 \n",
        "        arr = mfccs, file\n",
        "        lst.append(arr)\n",
        "      # If the file is not valid, skip it\n",
        "      except ValueError:\n",
        "        continue\n",
        "\n",
        "for subdir, dirs, files in os.walk(path1):\n",
        "  print(dirs)\n",
        "  print(subdir)\n",
        " # print(files)\n",
        "  for file in files:\n",
        "      try:\n",
        "        #Load librosa array, obtain mfcss, store the file and the mcss information in a new array\n",
        "        X, sample_rate = librosa.load(os.path.join(subdir,file), res_type='kaiser_fast')\n",
        "        mfccs = np.mean(librosa.feature.mfcc(y=X, sr=sample_rate, n_mfcc=40).T,axis=0) \n",
        "        # The instruction below converts the labels (from 1 to 8) to a series from 0 to 7\n",
        "        # This is because our predictor needs to start from 0 otherwise it will try to predict also 0.\n",
        "        file = int(file[7:8]) - 1 \n",
        "        if(file ==6 or file==7):\n",
        "          continue\n",
        "        count +=1\n",
        "        arr = mfccs, file\n",
        "        lst.append(arr)\n",
        "      # If the file is not valid, skip it\n",
        "      except ValueError:\n",
        "        continue\n",
        "\n",
        "\n",
        "\n",
        "print(\"--- Data loaded. Loading time: %s seconds ---\" % (time.time() - start_time))"
      ],
      "metadata": {
        "colab": {
          "base_uri": "https://localhost:8080/"
        },
        "id": "IfuyRZl42ccZ",
        "outputId": "ce249970-9930-450a-db19-8e2b3f9edde8"
      },
      "execution_count": null,
      "outputs": [
        {
          "output_type": "stream",
          "name": "stdout",
          "text": [
            "['Actor_10', 'Actor_11', 'Actor_13', 'Actor_12', 'Actor_14', 'Actor_15', 'Actor_16', 'Actor_17', 'Actor_18', 'Actor_19', 'Actor_21', 'Actor_22', 'Actor_23', 'Actor_09', 'Actor_24', 'Actor_04', 'Actor_08', 'Actor_03', 'Actor_02', 'Actor_06', 'Actor_05', 'Actor_01', 'Actor_07', 'Actor_20']\n",
            "/content/drive/MyDrive/RAVDESS_song\n",
            "[]\n",
            "/content/drive/MyDrive/RAVDESS_song/Actor_10\n",
            "[]\n",
            "/content/drive/MyDrive/RAVDESS_song/Actor_11\n",
            "[]\n",
            "/content/drive/MyDrive/RAVDESS_song/Actor_13\n",
            "[]\n",
            "/content/drive/MyDrive/RAVDESS_song/Actor_12\n",
            "[]\n",
            "/content/drive/MyDrive/RAVDESS_song/Actor_14\n",
            "[]\n",
            "/content/drive/MyDrive/RAVDESS_song/Actor_15\n",
            "[]\n",
            "/content/drive/MyDrive/RAVDESS_song/Actor_16\n",
            "[]\n",
            "/content/drive/MyDrive/RAVDESS_song/Actor_17\n",
            "[]\n",
            "/content/drive/MyDrive/RAVDESS_song/Actor_18\n",
            "[]\n",
            "/content/drive/MyDrive/RAVDESS_song/Actor_19\n",
            "[]\n",
            "/content/drive/MyDrive/RAVDESS_song/Actor_21\n",
            "[]\n",
            "/content/drive/MyDrive/RAVDESS_song/Actor_22\n",
            "[]\n",
            "/content/drive/MyDrive/RAVDESS_song/Actor_23\n",
            "[]\n",
            "/content/drive/MyDrive/RAVDESS_song/Actor_09\n",
            "[]\n",
            "/content/drive/MyDrive/RAVDESS_song/Actor_24\n",
            "[]\n",
            "/content/drive/MyDrive/RAVDESS_song/Actor_04\n",
            "[]\n",
            "/content/drive/MyDrive/RAVDESS_song/Actor_08\n",
            "[]\n",
            "/content/drive/MyDrive/RAVDESS_song/Actor_03\n",
            "[]\n",
            "/content/drive/MyDrive/RAVDESS_song/Actor_02\n",
            "[]\n",
            "/content/drive/MyDrive/RAVDESS_song/Actor_06\n",
            "[]\n",
            "/content/drive/MyDrive/RAVDESS_song/Actor_05\n",
            "[]\n",
            "/content/drive/MyDrive/RAVDESS_song/Actor_01\n",
            "[]\n",
            "/content/drive/MyDrive/RAVDESS_song/Actor_07\n",
            "[]\n",
            "/content/drive/MyDrive/RAVDESS_song/Actor_20\n",
            "['Actor_05', 'Actor_08', 'Actor_10', 'Actor_04', 'Actor_09', 'Actor_14', 'Actor_12', 'Actor_13', 'Actor_11', 'Actor_06', 'Actor_24', 'Actor_07', 'Actor_23', 'Actor_22', 'Actor_21', 'Actor_20', 'Actor_02', 'Actor_19', 'Actor_18', 'Actor_17', 'Actor_16', 'Actor_15', 'Actor_03', 'Actor_01']\n",
            "/content/drive/MyDrive/RAVDESS_speech\n",
            "[]\n",
            "/content/drive/MyDrive/RAVDESS_speech/Actor_05\n",
            "[]\n",
            "/content/drive/MyDrive/RAVDESS_speech/Actor_08\n",
            "[]\n",
            "/content/drive/MyDrive/RAVDESS_speech/Actor_10\n",
            "[]\n",
            "/content/drive/MyDrive/RAVDESS_speech/Actor_04\n",
            "[]\n",
            "/content/drive/MyDrive/RAVDESS_speech/Actor_09\n",
            "[]\n",
            "/content/drive/MyDrive/RAVDESS_speech/Actor_14\n",
            "[]\n",
            "/content/drive/MyDrive/RAVDESS_speech/Actor_12\n",
            "[]\n",
            "/content/drive/MyDrive/RAVDESS_speech/Actor_13\n",
            "[]\n",
            "/content/drive/MyDrive/RAVDESS_speech/Actor_11\n",
            "[]\n",
            "/content/drive/MyDrive/RAVDESS_speech/Actor_06\n",
            "[]\n",
            "/content/drive/MyDrive/RAVDESS_speech/Actor_24\n",
            "[]\n",
            "/content/drive/MyDrive/RAVDESS_speech/Actor_07\n",
            "[]\n",
            "/content/drive/MyDrive/RAVDESS_speech/Actor_23\n",
            "[]\n",
            "/content/drive/MyDrive/RAVDESS_speech/Actor_22\n",
            "[]\n",
            "/content/drive/MyDrive/RAVDESS_speech/Actor_21\n",
            "[]\n",
            "/content/drive/MyDrive/RAVDESS_speech/Actor_20\n",
            "[]\n",
            "/content/drive/MyDrive/RAVDESS_speech/Actor_02\n",
            "[]\n",
            "/content/drive/MyDrive/RAVDESS_speech/Actor_19\n",
            "[]\n",
            "/content/drive/MyDrive/RAVDESS_speech/Actor_18\n",
            "[]\n",
            "/content/drive/MyDrive/RAVDESS_speech/Actor_17\n",
            "[]\n",
            "/content/drive/MyDrive/RAVDESS_speech/Actor_16\n",
            "[]\n",
            "/content/drive/MyDrive/RAVDESS_speech/Actor_15\n",
            "[]\n",
            "/content/drive/MyDrive/RAVDESS_speech/Actor_03\n",
            "[]\n",
            "/content/drive/MyDrive/RAVDESS_speech/Actor_01\n",
            "--- Data loaded. Loading time: 204.12607288360596 seconds ---\n"
          ]
        }
      ]
    },
    {
      "cell_type": "code",
      "source": [
        "count"
      ],
      "metadata": {
        "id": "Ltlhi25L2AI5",
        "colab": {
          "base_uri": "https://localhost:8080/"
        },
        "outputId": "92f64156-e27a-4381-e558-85094fc41c56"
      },
      "execution_count": null,
      "outputs": [
        {
          "output_type": "execute_result",
          "data": {
            "text/plain": [
              "2068"
            ]
          },
          "metadata": {},
          "execution_count": 5
        }
      ]
    },
    {
      "cell_type": "code",
      "source": [
        "from numpy.core.fromnumeric import size\n",
        "size(lst)"
      ],
      "metadata": {
        "id": "HMOH7d7mzHB7",
        "colab": {
          "base_uri": "https://localhost:8080/"
        },
        "outputId": "454c6795-9625-4c4a-aae1-8816c01db98f"
      },
      "execution_count": null,
      "outputs": [
        {
          "output_type": "stream",
          "name": "stderr",
          "text": [
            "/usr/local/lib/python3.7/dist-packages/numpy/core/fromnumeric.py:3208: VisibleDeprecationWarning:\n",
            "\n",
            "Creating an ndarray from ragged nested sequences (which is a list-or-tuple of lists-or-tuples-or ndarrays with different lengths or shapes) is deprecated. If you meant to do this, you must specify 'dtype=object' when creating the ndarray.\n",
            "\n"
          ]
        },
        {
          "output_type": "execute_result",
          "data": {
            "text/plain": [
              "4136"
            ]
          },
          "metadata": {},
          "execution_count": 6
        }
      ]
    },
    {
      "cell_type": "code",
      "source": [
        "# Creating X and y: zip makes a list of all the first elements, and a list of all the second elements.\n",
        "X, y = zip(*lst)"
      ],
      "metadata": {
        "id": "ocdL7tSTBoMt"
      },
      "execution_count": null,
      "outputs": []
    },
    {
      "cell_type": "code",
      "source": [
        "import numpy as np\n",
        "X = np.asarray(X)\n",
        "y = np.asarray(y)\n",
        "X.shape, y.shape"
      ],
      "metadata": {
        "id": "vHKwUGTbBtnF",
        "colab": {
          "base_uri": "https://localhost:8080/"
        },
        "outputId": "52b5b212-692b-49e9-b357-6d6f08d864df"
      },
      "execution_count": null,
      "outputs": [
        {
          "output_type": "execute_result",
          "data": {
            "text/plain": [
              "((2068, 40), (2068,))"
            ]
          },
          "metadata": {},
          "execution_count": 8
        }
      ]
    },
    {
      "cell_type": "code",
      "source": [
        "X.shape"
      ],
      "metadata": {
        "id": "2sUCtbfMztE5",
        "colab": {
          "base_uri": "https://localhost:8080/"
        },
        "outputId": "e14844a2-b3c4-439c-e82f-783c1f91504a"
      },
      "execution_count": null,
      "outputs": [
        {
          "output_type": "execute_result",
          "data": {
            "text/plain": [
              "(2068, 40)"
            ]
          },
          "metadata": {},
          "execution_count": 9
        }
      ]
    },
    {
      "cell_type": "code",
      "source": [
        "# # Saving joblib files to not load them again with the loop above\n",
        "\n",
        "# import joblib\n",
        "\n",
        "# X_name = 'x.joblib'\n",
        "# y_name = 'y.joblib'\n",
        "# save_dir = '/content/drive/My Drive/graduation project/audio/paper_code/features'\n",
        "\n",
        "# savedX = joblib.dump(X, os.path.join(save_dir, X_name))\n",
        "# savedy = joblib.dump(y, os.path.join(save_dir, y_name))"
      ],
      "metadata": {
        "id": "UCzic8rlDcuk"
      },
      "execution_count": null,
      "outputs": []
    },
    {
      "cell_type": "code",
      "source": [
        "# # Loading saved models\n",
        "import joblib\n",
        "X = joblib.load('/content/drive/My Drive/graduation project/audio/paper_code/features/x.joblib')\n",
        "y = joblib.load('/content/drive/My Drive/graduation project/audio/paper_code/features/y.joblib')"
      ],
      "metadata": {
        "id": "Q35CN6zDrzg1"
      },
      "execution_count": 2,
      "outputs": []
    },
    {
      "cell_type": "code",
      "source": [
        "X.shape"
      ],
      "metadata": {
        "colab": {
          "base_uri": "https://localhost:8080/"
        },
        "id": "7PSTurzjCo5K",
        "outputId": "6af5cfb6-b624-4a1f-a4cf-fcc0a5123822"
      },
      "execution_count": 3,
      "outputs": [
        {
          "output_type": "execute_result",
          "data": {
            "text/plain": [
              "(2068, 40)"
            ]
          },
          "metadata": {},
          "execution_count": 3
        }
      ]
    },
    {
      "cell_type": "code",
      "source": [
        "from sklearn.model_selection import train_test_split\n",
        "\n",
        "X_train, X_test, y_train, y_test = train_test_split(X,y, test_size=0.1,shuffle = True, random_state=42)\n",
        "X_train , X_valid, y_train, y_valid = train_test_split(X_train,y_train, test_size=0.1112305212, shuffle = True, random_state=42)"
      ],
      "metadata": {
        "id": "Ai4Fy5cPCiq1"
      },
      "execution_count": 4,
      "outputs": []
    },
    {
      "cell_type": "code",
      "source": [
        "import numpy as np\n",
        "x_traincnn = np.expand_dims(X_train, axis=2)\n",
        "x_testcnn = np.expand_dims(X_test, axis=2)\n",
        "X_valid= np.expand_dims(X_valid, axis=2)"
      ],
      "metadata": {
        "id": "tp1Fm5K3CEXu"
      },
      "execution_count": 5,
      "outputs": []
    },
    {
      "cell_type": "code",
      "source": [
        "x_traincnn.shape, x_testcnn.shape , X_valid.shape\n",
        "#1861"
      ],
      "metadata": {
        "id": "RI0MxoIPBws5",
        "colab": {
          "base_uri": "https://localhost:8080/"
        },
        "outputId": "4a961d27-f7b0-4475-dac0-ed7467f04e0c"
      },
      "execution_count": 6,
      "outputs": [
        {
          "output_type": "execute_result",
          "data": {
            "text/plain": [
              "((1654, 40, 1), (207, 40, 1), (207, 40, 1))"
            ]
          },
          "metadata": {},
          "execution_count": 6
        }
      ]
    },
    {
      "cell_type": "code",
      "source": [
        "import keras\n",
        "import numpy as np\n",
        "import matplotlib.pyplot as plt\n",
        "import tensorflow as tf\n",
        "from keras.preprocessing import sequence\n",
        "from keras.models import Sequential\n",
        "from keras.layers import Dense, Embedding\n",
        "from tensorflow.keras.utils import to_categorical\n",
        "from keras.layers import Input, Flatten, Dropout, Activation\n",
        "from keras.layers import Conv1D, MaxPooling1D\n",
        "from keras.models import Model\n",
        "from keras.callbacks import ModelCheckpoint\n",
        "from tensorflow.keras import optimizers\n",
        "\n",
        "model = Sequential()\n",
        "\n",
        "model.add(Conv1D(128, 8,padding='same', #classifier.add(Convolution2D(64, (3, 3), padding = 'same', input_shape = (128, 128, 3), activation = 'relu'))\n",
        "                 input_shape=(40,1)))\n",
        "model.add(Activation('relu'))\n",
        "model.add(Dropout(0.3))\n",
        "model.add(MaxPooling1D(pool_size=(5)))\n",
        "\n",
        "\n",
        "model.add(Conv1D(256,8,padding='same',))\n",
        "model.add(Activation('relu'))\n",
        "model.add(Dropout(0.3))\n",
        "model.add(MaxPooling1D(pool_size=(5)))\n",
        "\n",
        "model.add(Flatten())\n",
        "\n",
        "model.add(Dense(256))\n",
        "model.add(Activation('relu'))\n",
        "model.add(Dense(256))\n",
        "model.add(Activation('relu'))\n",
        "\n",
        "model.add(Dense(6))\n",
        "model.add(Activation('softmax'))\n",
        "\n",
        "opt = tf.keras.optimizers.RMSprop(lr=0.0002 , decay=0.9)\n",
        "#opt = tf.keras.optimizers.RMSprop(lr=0.0001, rho=0.9, epsilon=1e-07, decay=0.0)\n",
        "#opt = tf.keras.optimizers.SGD(lr=0.001, momentum=0.0, decay=0.0, nesterov=False)"
      ],
      "metadata": {
        "id": "g74fXWVAC4Cr",
        "colab": {
          "base_uri": "https://localhost:8080/"
        },
        "outputId": "fbac398b-7122-44bb-833e-85fa61f8db0d"
      },
      "execution_count": 7,
      "outputs": [
        {
          "output_type": "stream",
          "name": "stderr",
          "text": [
            "/usr/local/lib/python3.7/dist-packages/keras/optimizer_v2/rmsprop.py:130: UserWarning:\n",
            "\n",
            "The `lr` argument is deprecated, use `learning_rate` instead.\n",
            "\n"
          ]
        }
      ]
    },
    {
      "cell_type": "code",
      "source": [
        "model.summary()"
      ],
      "metadata": {
        "colab": {
          "base_uri": "https://localhost:8080/"
        },
        "id": "H6ukOxAGC_I4",
        "outputId": "0d43078c-a482-494e-c38b-4fb69d4135a6"
      },
      "execution_count": 8,
      "outputs": [
        {
          "output_type": "stream",
          "name": "stdout",
          "text": [
            "Model: \"sequential\"\n",
            "_________________________________________________________________\n",
            " Layer (type)                Output Shape              Param #   \n",
            "=================================================================\n",
            " conv1d (Conv1D)             (None, 40, 128)           1152      \n",
            "                                                                 \n",
            " activation (Activation)     (None, 40, 128)           0         \n",
            "                                                                 \n",
            " dropout (Dropout)           (None, 40, 128)           0         \n",
            "                                                                 \n",
            " max_pooling1d (MaxPooling1D  (None, 8, 128)           0         \n",
            " )                                                               \n",
            "                                                                 \n",
            " conv1d_1 (Conv1D)           (None, 8, 256)            262400    \n",
            "                                                                 \n",
            " activation_1 (Activation)   (None, 8, 256)            0         \n",
            "                                                                 \n",
            " dropout_1 (Dropout)         (None, 8, 256)            0         \n",
            "                                                                 \n",
            " max_pooling1d_1 (MaxPooling  (None, 1, 256)           0         \n",
            " 1D)                                                             \n",
            "                                                                 \n",
            " flatten (Flatten)           (None, 256)               0         \n",
            "                                                                 \n",
            " dense (Dense)               (None, 256)               65792     \n",
            "                                                                 \n",
            " activation_2 (Activation)   (None, 256)               0         \n",
            "                                                                 \n",
            " dense_1 (Dense)             (None, 256)               65792     \n",
            "                                                                 \n",
            " activation_3 (Activation)   (None, 256)               0         \n",
            "                                                                 \n",
            " dense_2 (Dense)             (None, 6)                 1542      \n",
            "                                                                 \n",
            " activation_4 (Activation)   (None, 6)                 0         \n",
            "                                                                 \n",
            "=================================================================\n",
            "Total params: 396,678\n",
            "Trainable params: 396,678\n",
            "Non-trainable params: 0\n",
            "_________________________________________________________________\n"
          ]
        }
      ]
    },
    {
      "cell_type": "code",
      "source": [
        "model.compile(loss='sparse_categorical_crossentropy',\n",
        "              optimizer=opt,\n",
        "              metrics=['accuracy'])"
      ],
      "metadata": {
        "id": "AbMlLNk4DCBM"
      },
      "execution_count": 9,
      "outputs": []
    },
    {
      "cell_type": "code",
      "source": [
        "# Create an Instance of Early Stopping Callback.\n",
        "#early_stopping_callback = EarlyStopping(monitor = 'val_loss', patience = 25, mode = 'min', restore_best_weights = True)\n",
        "\n",
        "cnnhistory=model.fit(x_traincnn, y_train, batch_size=16, epochs=500 , shuffle = True, validation_data=(X_valid, y_valid) )#, callbacks = [early_stopping_callback])"
      ],
      "metadata": {
        "colab": {
          "base_uri": "https://localhost:8080/"
        },
        "id": "RI1v2AuADFhy",
        "outputId": "98ac1851-d1dc-441d-a9c4-6fca5a3071a3"
      },
      "execution_count": 10,
      "outputs": [
        {
          "output_type": "stream",
          "name": "stdout",
          "text": [
            "Epoch 1/500\n",
            "104/104 [==============================] - 4s 7ms/step - loss: 5.9585 - accuracy: 0.1566 - val_loss: 3.3521 - val_accuracy: 0.1932\n",
            "Epoch 2/500\n",
            "104/104 [==============================] - 0s 4ms/step - loss: 5.1604 - accuracy: 0.1590 - val_loss: 3.2547 - val_accuracy: 0.1932\n",
            "Epoch 3/500\n",
            "104/104 [==============================] - 0s 5ms/step - loss: 5.1914 - accuracy: 0.1693 - val_loss: 3.2906 - val_accuracy: 0.1932\n",
            "Epoch 4/500\n",
            "104/104 [==============================] - 0s 4ms/step - loss: 5.1481 - accuracy: 0.1590 - val_loss: 3.1886 - val_accuracy: 0.1932\n",
            "Epoch 5/500\n",
            "104/104 [==============================] - 1s 5ms/step - loss: 4.9928 - accuracy: 0.1850 - val_loss: 3.1834 - val_accuracy: 0.1932\n",
            "Epoch 6/500\n",
            "104/104 [==============================] - 1s 5ms/step - loss: 4.9667 - accuracy: 0.1784 - val_loss: 3.1553 - val_accuracy: 0.1932\n",
            "Epoch 7/500\n",
            "104/104 [==============================] - 1s 5ms/step - loss: 5.0166 - accuracy: 0.1778 - val_loss: 3.1230 - val_accuracy: 0.1932\n",
            "Epoch 8/500\n",
            "104/104 [==============================] - 0s 5ms/step - loss: 4.9839 - accuracy: 0.1669 - val_loss: 3.0707 - val_accuracy: 0.1932\n",
            "Epoch 9/500\n",
            "104/104 [==============================] - 1s 5ms/step - loss: 4.9957 - accuracy: 0.1844 - val_loss: 3.0680 - val_accuracy: 0.1932\n",
            "Epoch 10/500\n",
            "104/104 [==============================] - 0s 4ms/step - loss: 5.0753 - accuracy: 0.1723 - val_loss: 3.0563 - val_accuracy: 0.1932\n",
            "Epoch 11/500\n",
            "104/104 [==============================] - 0s 5ms/step - loss: 4.8925 - accuracy: 0.1796 - val_loss: 3.0565 - val_accuracy: 0.1932\n",
            "Epoch 12/500\n",
            "104/104 [==============================] - 1s 5ms/step - loss: 5.1046 - accuracy: 0.1699 - val_loss: 3.0528 - val_accuracy: 0.1932\n",
            "Epoch 13/500\n",
            "104/104 [==============================] - 1s 5ms/step - loss: 5.0811 - accuracy: 0.1638 - val_loss: 3.0610 - val_accuracy: 0.1932\n",
            "Epoch 14/500\n",
            "104/104 [==============================] - 1s 5ms/step - loss: 4.9071 - accuracy: 0.1663 - val_loss: 3.0440 - val_accuracy: 0.1932\n",
            "Epoch 15/500\n",
            "104/104 [==============================] - 0s 5ms/step - loss: 4.9995 - accuracy: 0.1578 - val_loss: 3.0340 - val_accuracy: 0.1932\n",
            "Epoch 16/500\n",
            "104/104 [==============================] - 0s 5ms/step - loss: 4.8075 - accuracy: 0.1911 - val_loss: 3.0373 - val_accuracy: 0.1932\n",
            "Epoch 17/500\n",
            "104/104 [==============================] - 0s 5ms/step - loss: 5.0858 - accuracy: 0.1663 - val_loss: 3.0331 - val_accuracy: 0.1932\n",
            "Epoch 18/500\n",
            "104/104 [==============================] - 0s 4ms/step - loss: 5.1146 - accuracy: 0.1602 - val_loss: 3.0236 - val_accuracy: 0.1932\n",
            "Epoch 19/500\n",
            "104/104 [==============================] - 1s 5ms/step - loss: 5.1720 - accuracy: 0.1518 - val_loss: 3.0241 - val_accuracy: 0.1932\n",
            "Epoch 20/500\n",
            "104/104 [==============================] - 1s 5ms/step - loss: 4.9362 - accuracy: 0.1820 - val_loss: 3.0206 - val_accuracy: 0.1932\n",
            "Epoch 21/500\n",
            "104/104 [==============================] - 1s 5ms/step - loss: 4.9067 - accuracy: 0.1644 - val_loss: 3.0099 - val_accuracy: 0.1932\n",
            "Epoch 22/500\n",
            "104/104 [==============================] - 1s 5ms/step - loss: 4.9768 - accuracy: 0.1572 - val_loss: 3.0076 - val_accuracy: 0.1932\n",
            "Epoch 23/500\n",
            "104/104 [==============================] - 1s 5ms/step - loss: 4.8752 - accuracy: 0.1711 - val_loss: 2.9956 - val_accuracy: 0.1932\n",
            "Epoch 24/500\n",
            "104/104 [==============================] - 0s 4ms/step - loss: 4.8955 - accuracy: 0.1759 - val_loss: 2.9941 - val_accuracy: 0.1932\n",
            "Epoch 25/500\n",
            "104/104 [==============================] - 0s 5ms/step - loss: 4.9218 - accuracy: 0.1620 - val_loss: 2.9830 - val_accuracy: 0.1932\n",
            "Epoch 26/500\n",
            "104/104 [==============================] - 0s 5ms/step - loss: 4.7792 - accuracy: 0.1759 - val_loss: 2.9756 - val_accuracy: 0.1932\n",
            "Epoch 27/500\n",
            "104/104 [==============================] - 0s 5ms/step - loss: 4.8341 - accuracy: 0.1626 - val_loss: 2.9792 - val_accuracy: 0.1932\n",
            "Epoch 28/500\n",
            "104/104 [==============================] - 1s 5ms/step - loss: 4.9426 - accuracy: 0.1747 - val_loss: 2.9740 - val_accuracy: 0.1932\n",
            "Epoch 29/500\n",
            "104/104 [==============================] - 0s 5ms/step - loss: 5.1208 - accuracy: 0.1578 - val_loss: 2.9731 - val_accuracy: 0.1932\n",
            "Epoch 30/500\n",
            "104/104 [==============================] - 1s 5ms/step - loss: 4.8940 - accuracy: 0.1784 - val_loss: 2.9644 - val_accuracy: 0.1932\n",
            "Epoch 31/500\n",
            "104/104 [==============================] - 1s 5ms/step - loss: 4.7669 - accuracy: 0.1790 - val_loss: 2.9646 - val_accuracy: 0.1932\n",
            "Epoch 32/500\n",
            "104/104 [==============================] - 1s 5ms/step - loss: 4.7709 - accuracy: 0.1856 - val_loss: 2.9644 - val_accuracy: 0.1932\n",
            "Epoch 33/500\n",
            "104/104 [==============================] - 1s 5ms/step - loss: 4.8919 - accuracy: 0.1771 - val_loss: 2.9518 - val_accuracy: 0.1932\n",
            "Epoch 34/500\n",
            "104/104 [==============================] - 1s 5ms/step - loss: 4.7786 - accuracy: 0.1560 - val_loss: 2.9456 - val_accuracy: 0.1932\n",
            "Epoch 35/500\n",
            "104/104 [==============================] - 1s 5ms/step - loss: 4.9261 - accuracy: 0.1705 - val_loss: 2.9447 - val_accuracy: 0.1932\n",
            "Epoch 36/500\n",
            "104/104 [==============================] - 0s 4ms/step - loss: 4.8199 - accuracy: 0.1735 - val_loss: 2.9382 - val_accuracy: 0.1932\n",
            "Epoch 37/500\n",
            "104/104 [==============================] - 1s 5ms/step - loss: 4.7549 - accuracy: 0.1759 - val_loss: 2.9307 - val_accuracy: 0.1932\n",
            "Epoch 38/500\n",
            "104/104 [==============================] - 1s 5ms/step - loss: 5.0516 - accuracy: 0.1626 - val_loss: 2.9318 - val_accuracy: 0.1932\n",
            "Epoch 39/500\n",
            "104/104 [==============================] - 1s 5ms/step - loss: 4.8775 - accuracy: 0.1626 - val_loss: 2.9313 - val_accuracy: 0.1932\n",
            "Epoch 40/500\n",
            "104/104 [==============================] - 0s 5ms/step - loss: 5.0294 - accuracy: 0.1391 - val_loss: 2.9278 - val_accuracy: 0.1932\n",
            "Epoch 41/500\n",
            "104/104 [==============================] - 1s 5ms/step - loss: 4.8393 - accuracy: 0.1790 - val_loss: 2.9280 - val_accuracy: 0.1932\n",
            "Epoch 42/500\n",
            "104/104 [==============================] - 0s 4ms/step - loss: 5.1055 - accuracy: 0.1542 - val_loss: 2.9301 - val_accuracy: 0.1932\n",
            "Epoch 43/500\n",
            "104/104 [==============================] - 0s 5ms/step - loss: 4.8804 - accuracy: 0.1699 - val_loss: 2.9256 - val_accuracy: 0.1932\n",
            "Epoch 44/500\n",
            "104/104 [==============================] - 0s 4ms/step - loss: 5.0169 - accuracy: 0.1487 - val_loss: 2.9226 - val_accuracy: 0.1932\n",
            "Epoch 45/500\n",
            "104/104 [==============================] - 1s 5ms/step - loss: 4.9433 - accuracy: 0.1608 - val_loss: 2.9201 - val_accuracy: 0.1932\n",
            "Epoch 46/500\n",
            "104/104 [==============================] - 1s 5ms/step - loss: 4.8731 - accuracy: 0.1784 - val_loss: 2.9168 - val_accuracy: 0.1932\n",
            "Epoch 47/500\n",
            "104/104 [==============================] - 0s 5ms/step - loss: 4.8217 - accuracy: 0.1693 - val_loss: 2.9158 - val_accuracy: 0.1932\n",
            "Epoch 48/500\n",
            "104/104 [==============================] - 0s 5ms/step - loss: 4.9681 - accuracy: 0.1723 - val_loss: 2.9133 - val_accuracy: 0.1932\n",
            "Epoch 49/500\n",
            "104/104 [==============================] - 1s 5ms/step - loss: 4.9270 - accuracy: 0.1608 - val_loss: 2.9134 - val_accuracy: 0.1932\n",
            "Epoch 50/500\n",
            "104/104 [==============================] - 1s 7ms/step - loss: 4.9094 - accuracy: 0.1802 - val_loss: 2.9098 - val_accuracy: 0.1932\n",
            "Epoch 51/500\n",
            "104/104 [==============================] - 1s 8ms/step - loss: 4.9081 - accuracy: 0.1681 - val_loss: 2.9110 - val_accuracy: 0.1932\n",
            "Epoch 52/500\n",
            "104/104 [==============================] - 0s 5ms/step - loss: 4.9247 - accuracy: 0.1669 - val_loss: 2.9067 - val_accuracy: 0.1932\n",
            "Epoch 53/500\n",
            "104/104 [==============================] - 0s 4ms/step - loss: 4.9112 - accuracy: 0.1687 - val_loss: 2.9041 - val_accuracy: 0.1932\n",
            "Epoch 54/500\n",
            "104/104 [==============================] - 0s 5ms/step - loss: 4.8308 - accuracy: 0.1602 - val_loss: 2.9028 - val_accuracy: 0.1932\n",
            "Epoch 55/500\n",
            "104/104 [==============================] - 0s 5ms/step - loss: 4.7659 - accuracy: 0.1644 - val_loss: 2.8949 - val_accuracy: 0.1932\n",
            "Epoch 56/500\n",
            "104/104 [==============================] - 0s 4ms/step - loss: 4.8962 - accuracy: 0.1717 - val_loss: 2.8967 - val_accuracy: 0.1932\n",
            "Epoch 57/500\n",
            "104/104 [==============================] - 0s 5ms/step - loss: 4.8977 - accuracy: 0.1753 - val_loss: 2.8918 - val_accuracy: 0.1932\n",
            "Epoch 58/500\n",
            "104/104 [==============================] - 0s 5ms/step - loss: 5.0140 - accuracy: 0.1548 - val_loss: 2.8920 - val_accuracy: 0.1932\n",
            "Epoch 59/500\n",
            "104/104 [==============================] - 0s 5ms/step - loss: 5.0368 - accuracy: 0.1705 - val_loss: 2.8902 - val_accuracy: 0.1932\n",
            "Epoch 60/500\n",
            "104/104 [==============================] - 1s 5ms/step - loss: 4.7599 - accuracy: 0.1759 - val_loss: 2.8864 - val_accuracy: 0.1932\n",
            "Epoch 61/500\n",
            "104/104 [==============================] - 1s 5ms/step - loss: 4.7081 - accuracy: 0.1693 - val_loss: 2.8854 - val_accuracy: 0.1932\n",
            "Epoch 62/500\n",
            "104/104 [==============================] - 0s 5ms/step - loss: 5.0474 - accuracy: 0.1687 - val_loss: 2.8822 - val_accuracy: 0.1932\n",
            "Epoch 63/500\n",
            "104/104 [==============================] - 0s 5ms/step - loss: 4.7484 - accuracy: 0.1717 - val_loss: 2.8812 - val_accuracy: 0.1932\n",
            "Epoch 64/500\n",
            "104/104 [==============================] - 0s 5ms/step - loss: 4.8577 - accuracy: 0.1651 - val_loss: 2.8773 - val_accuracy: 0.1932\n",
            "Epoch 65/500\n",
            "104/104 [==============================] - 0s 5ms/step - loss: 4.8177 - accuracy: 0.1711 - val_loss: 2.8804 - val_accuracy: 0.1932\n",
            "Epoch 66/500\n",
            "104/104 [==============================] - 1s 5ms/step - loss: 4.8084 - accuracy: 0.1814 - val_loss: 2.8807 - val_accuracy: 0.1932\n",
            "Epoch 67/500\n",
            "104/104 [==============================] - 1s 5ms/step - loss: 4.8082 - accuracy: 0.1820 - val_loss: 2.8759 - val_accuracy: 0.1932\n",
            "Epoch 68/500\n",
            "104/104 [==============================] - 1s 5ms/step - loss: 4.8745 - accuracy: 0.1651 - val_loss: 2.8739 - val_accuracy: 0.1932\n",
            "Epoch 69/500\n",
            "104/104 [==============================] - 1s 8ms/step - loss: 4.9090 - accuracy: 0.1675 - val_loss: 2.8747 - val_accuracy: 0.1932\n",
            "Epoch 70/500\n",
            "104/104 [==============================] - 1s 6ms/step - loss: 4.8318 - accuracy: 0.1759 - val_loss: 2.8742 - val_accuracy: 0.1932\n",
            "Epoch 71/500\n",
            "104/104 [==============================] - 1s 9ms/step - loss: 4.8313 - accuracy: 0.1669 - val_loss: 2.8721 - val_accuracy: 0.1932\n",
            "Epoch 72/500\n",
            "104/104 [==============================] - 1s 6ms/step - loss: 4.8017 - accuracy: 0.1705 - val_loss: 2.8697 - val_accuracy: 0.1932\n",
            "Epoch 73/500\n",
            "104/104 [==============================] - 1s 5ms/step - loss: 5.0300 - accuracy: 0.1747 - val_loss: 2.8675 - val_accuracy: 0.1932\n",
            "Epoch 74/500\n",
            "104/104 [==============================] - 1s 5ms/step - loss: 4.7382 - accuracy: 0.1765 - val_loss: 2.8677 - val_accuracy: 0.1932\n",
            "Epoch 75/500\n",
            "104/104 [==============================] - 0s 4ms/step - loss: 4.8456 - accuracy: 0.1669 - val_loss: 2.8656 - val_accuracy: 0.1932\n",
            "Epoch 76/500\n",
            "104/104 [==============================] - 0s 5ms/step - loss: 4.8385 - accuracy: 0.1814 - val_loss: 2.8658 - val_accuracy: 0.1932\n",
            "Epoch 77/500\n",
            "104/104 [==============================] - 1s 5ms/step - loss: 4.7977 - accuracy: 0.1717 - val_loss: 2.8668 - val_accuracy: 0.1932\n",
            "Epoch 78/500\n",
            "104/104 [==============================] - 1s 5ms/step - loss: 4.9254 - accuracy: 0.1717 - val_loss: 2.8650 - val_accuracy: 0.1932\n",
            "Epoch 79/500\n",
            "104/104 [==============================] - 0s 5ms/step - loss: 4.8175 - accuracy: 0.1735 - val_loss: 2.8629 - val_accuracy: 0.1932\n",
            "Epoch 80/500\n",
            "104/104 [==============================] - 0s 5ms/step - loss: 4.7753 - accuracy: 0.1651 - val_loss: 2.8639 - val_accuracy: 0.1932\n",
            "Epoch 81/500\n",
            "104/104 [==============================] - 1s 5ms/step - loss: 4.9804 - accuracy: 0.1536 - val_loss: 2.8620 - val_accuracy: 0.1932\n",
            "Epoch 82/500\n",
            "104/104 [==============================] - 1s 5ms/step - loss: 4.8992 - accuracy: 0.1530 - val_loss: 2.8611 - val_accuracy: 0.1932\n",
            "Epoch 83/500\n",
            "104/104 [==============================] - 0s 5ms/step - loss: 5.0279 - accuracy: 0.1608 - val_loss: 2.8601 - val_accuracy: 0.1932\n",
            "Epoch 84/500\n",
            "104/104 [==============================] - 1s 5ms/step - loss: 4.7942 - accuracy: 0.1723 - val_loss: 2.8587 - val_accuracy: 0.1932\n",
            "Epoch 85/500\n",
            "104/104 [==============================] - 0s 5ms/step - loss: 4.9030 - accuracy: 0.1511 - val_loss: 2.8564 - val_accuracy: 0.1932\n",
            "Epoch 86/500\n",
            "104/104 [==============================] - 1s 5ms/step - loss: 4.8381 - accuracy: 0.1765 - val_loss: 2.8568 - val_accuracy: 0.1932\n",
            "Epoch 87/500\n",
            "104/104 [==============================] - 0s 5ms/step - loss: 4.7832 - accuracy: 0.1669 - val_loss: 2.8567 - val_accuracy: 0.1932\n",
            "Epoch 88/500\n",
            "104/104 [==============================] - 1s 5ms/step - loss: 4.6563 - accuracy: 0.1929 - val_loss: 2.8559 - val_accuracy: 0.1932\n",
            "Epoch 89/500\n",
            "104/104 [==============================] - 0s 5ms/step - loss: 4.7280 - accuracy: 0.1747 - val_loss: 2.8534 - val_accuracy: 0.1932\n",
            "Epoch 90/500\n",
            "104/104 [==============================] - 1s 5ms/step - loss: 4.7585 - accuracy: 0.1675 - val_loss: 2.8539 - val_accuracy: 0.1932\n",
            "Epoch 91/500\n",
            "104/104 [==============================] - 1s 5ms/step - loss: 4.8383 - accuracy: 0.1778 - val_loss: 2.8538 - val_accuracy: 0.1932\n",
            "Epoch 92/500\n",
            "104/104 [==============================] - 1s 5ms/step - loss: 4.6769 - accuracy: 0.1953 - val_loss: 2.8528 - val_accuracy: 0.1932\n",
            "Epoch 93/500\n",
            "104/104 [==============================] - 1s 5ms/step - loss: 4.8155 - accuracy: 0.1578 - val_loss: 2.8509 - val_accuracy: 0.1932\n",
            "Epoch 94/500\n",
            "104/104 [==============================] - 1s 5ms/step - loss: 4.7482 - accuracy: 0.1626 - val_loss: 2.8521 - val_accuracy: 0.1932\n",
            "Epoch 95/500\n",
            "104/104 [==============================] - 1s 5ms/step - loss: 4.8687 - accuracy: 0.1663 - val_loss: 2.8514 - val_accuracy: 0.1932\n",
            "Epoch 96/500\n",
            "104/104 [==============================] - 0s 5ms/step - loss: 4.6976 - accuracy: 0.1765 - val_loss: 2.8502 - val_accuracy: 0.1932\n",
            "Epoch 97/500\n",
            "104/104 [==============================] - 0s 5ms/step - loss: 4.7074 - accuracy: 0.1747 - val_loss: 2.8474 - val_accuracy: 0.1932\n",
            "Epoch 98/500\n",
            "104/104 [==============================] - 1s 5ms/step - loss: 4.8917 - accuracy: 0.1723 - val_loss: 2.8430 - val_accuracy: 0.1932\n",
            "Epoch 99/500\n",
            "104/104 [==============================] - 1s 5ms/step - loss: 4.9074 - accuracy: 0.1699 - val_loss: 2.8422 - val_accuracy: 0.1932\n",
            "Epoch 100/500\n",
            "104/104 [==============================] - 1s 5ms/step - loss: 4.6942 - accuracy: 0.1892 - val_loss: 2.8403 - val_accuracy: 0.1932\n",
            "Epoch 101/500\n",
            "104/104 [==============================] - 0s 5ms/step - loss: 4.7474 - accuracy: 0.1735 - val_loss: 2.8400 - val_accuracy: 0.1932\n",
            "Epoch 102/500\n",
            "104/104 [==============================] - 1s 5ms/step - loss: 4.7484 - accuracy: 0.1632 - val_loss: 2.8394 - val_accuracy: 0.1932\n",
            "Epoch 103/500\n",
            "104/104 [==============================] - 0s 5ms/step - loss: 4.6680 - accuracy: 0.1638 - val_loss: 2.8379 - val_accuracy: 0.1932\n",
            "Epoch 104/500\n",
            "104/104 [==============================] - 0s 5ms/step - loss: 4.8438 - accuracy: 0.1663 - val_loss: 2.8386 - val_accuracy: 0.1932\n",
            "Epoch 105/500\n",
            "104/104 [==============================] - 1s 5ms/step - loss: 4.6138 - accuracy: 0.1814 - val_loss: 2.8380 - val_accuracy: 0.1932\n",
            "Epoch 106/500\n",
            "104/104 [==============================] - 1s 5ms/step - loss: 4.9434 - accuracy: 0.1651 - val_loss: 2.8369 - val_accuracy: 0.1932\n",
            "Epoch 107/500\n",
            "104/104 [==============================] - 0s 5ms/step - loss: 4.8455 - accuracy: 0.1681 - val_loss: 2.8364 - val_accuracy: 0.1932\n",
            "Epoch 108/500\n",
            "104/104 [==============================] - 0s 5ms/step - loss: 4.8497 - accuracy: 0.1675 - val_loss: 2.8353 - val_accuracy: 0.1932\n",
            "Epoch 109/500\n",
            "104/104 [==============================] - 1s 5ms/step - loss: 4.7271 - accuracy: 0.1971 - val_loss: 2.8320 - val_accuracy: 0.1932\n",
            "Epoch 110/500\n",
            "104/104 [==============================] - 1s 5ms/step - loss: 4.8404 - accuracy: 0.1808 - val_loss: 2.8300 - val_accuracy: 0.1932\n",
            "Epoch 111/500\n",
            "104/104 [==============================] - 0s 5ms/step - loss: 4.8433 - accuracy: 0.1723 - val_loss: 2.8294 - val_accuracy: 0.1932\n",
            "Epoch 112/500\n",
            "104/104 [==============================] - 0s 5ms/step - loss: 4.9290 - accuracy: 0.1675 - val_loss: 2.8273 - val_accuracy: 0.1932\n",
            "Epoch 113/500\n",
            "104/104 [==============================] - 1s 5ms/step - loss: 4.7234 - accuracy: 0.1614 - val_loss: 2.8278 - val_accuracy: 0.1932\n",
            "Epoch 114/500\n",
            "104/104 [==============================] - 0s 5ms/step - loss: 4.7152 - accuracy: 0.1717 - val_loss: 2.8286 - val_accuracy: 0.1932\n",
            "Epoch 115/500\n",
            "104/104 [==============================] - 1s 5ms/step - loss: 4.9057 - accuracy: 0.1705 - val_loss: 2.8270 - val_accuracy: 0.1932\n",
            "Epoch 116/500\n",
            "104/104 [==============================] - 0s 4ms/step - loss: 4.7414 - accuracy: 0.1868 - val_loss: 2.8262 - val_accuracy: 0.1932\n",
            "Epoch 117/500\n",
            "104/104 [==============================] - 0s 5ms/step - loss: 4.9202 - accuracy: 0.1608 - val_loss: 2.8243 - val_accuracy: 0.1932\n",
            "Epoch 118/500\n",
            "104/104 [==============================] - 0s 5ms/step - loss: 4.8231 - accuracy: 0.1614 - val_loss: 2.8248 - val_accuracy: 0.1932\n",
            "Epoch 119/500\n",
            "104/104 [==============================] - 1s 5ms/step - loss: 4.7733 - accuracy: 0.1602 - val_loss: 2.8240 - val_accuracy: 0.1932\n",
            "Epoch 120/500\n",
            "104/104 [==============================] - 0s 5ms/step - loss: 4.7708 - accuracy: 0.1608 - val_loss: 2.8246 - val_accuracy: 0.1932\n",
            "Epoch 121/500\n",
            "104/104 [==============================] - 0s 5ms/step - loss: 4.8517 - accuracy: 0.1608 - val_loss: 2.8243 - val_accuracy: 0.1932\n",
            "Epoch 122/500\n",
            "104/104 [==============================] - 0s 5ms/step - loss: 4.9203 - accuracy: 0.1560 - val_loss: 2.8245 - val_accuracy: 0.1932\n",
            "Epoch 123/500\n",
            "104/104 [==============================] - 1s 5ms/step - loss: 4.9103 - accuracy: 0.1729 - val_loss: 2.8227 - val_accuracy: 0.1932\n",
            "Epoch 124/500\n",
            "104/104 [==============================] - 0s 5ms/step - loss: 4.7257 - accuracy: 0.1735 - val_loss: 2.8205 - val_accuracy: 0.1932\n",
            "Epoch 125/500\n",
            "104/104 [==============================] - 0s 5ms/step - loss: 4.7240 - accuracy: 0.1808 - val_loss: 2.8196 - val_accuracy: 0.1932\n",
            "Epoch 126/500\n",
            "104/104 [==============================] - 1s 5ms/step - loss: 4.7353 - accuracy: 0.1862 - val_loss: 2.8194 - val_accuracy: 0.1932\n",
            "Epoch 127/500\n",
            "104/104 [==============================] - 1s 5ms/step - loss: 4.8198 - accuracy: 0.1729 - val_loss: 2.8180 - val_accuracy: 0.1932\n",
            "Epoch 128/500\n",
            "104/104 [==============================] - 0s 5ms/step - loss: 4.9283 - accuracy: 0.1663 - val_loss: 2.8176 - val_accuracy: 0.1932\n",
            "Epoch 129/500\n",
            "104/104 [==============================] - 1s 5ms/step - loss: 4.7380 - accuracy: 0.1638 - val_loss: 2.8159 - val_accuracy: 0.1932\n",
            "Epoch 130/500\n",
            "104/104 [==============================] - 1s 5ms/step - loss: 4.7669 - accuracy: 0.1584 - val_loss: 2.8156 - val_accuracy: 0.1932\n",
            "Epoch 131/500\n",
            "104/104 [==============================] - 0s 5ms/step - loss: 4.7815 - accuracy: 0.1729 - val_loss: 2.8150 - val_accuracy: 0.1932\n",
            "Epoch 132/500\n",
            "104/104 [==============================] - 0s 5ms/step - loss: 4.7294 - accuracy: 0.1681 - val_loss: 2.8161 - val_accuracy: 0.1932\n",
            "Epoch 133/500\n",
            "104/104 [==============================] - 0s 5ms/step - loss: 4.9472 - accuracy: 0.1584 - val_loss: 2.8161 - val_accuracy: 0.1932\n",
            "Epoch 134/500\n",
            "104/104 [==============================] - 1s 5ms/step - loss: 4.7118 - accuracy: 0.1596 - val_loss: 2.8167 - val_accuracy: 0.1932\n",
            "Epoch 135/500\n",
            "104/104 [==============================] - 1s 5ms/step - loss: 4.7842 - accuracy: 0.1753 - val_loss: 2.8147 - val_accuracy: 0.1932\n",
            "Epoch 136/500\n",
            "104/104 [==============================] - 0s 5ms/step - loss: 4.6351 - accuracy: 0.1911 - val_loss: 2.8144 - val_accuracy: 0.1932\n",
            "Epoch 137/500\n",
            "104/104 [==============================] - 0s 5ms/step - loss: 4.7679 - accuracy: 0.1626 - val_loss: 2.8130 - val_accuracy: 0.1932\n",
            "Epoch 138/500\n",
            "104/104 [==============================] - 0s 4ms/step - loss: 4.7601 - accuracy: 0.1644 - val_loss: 2.8110 - val_accuracy: 0.1932\n",
            "Epoch 139/500\n",
            "104/104 [==============================] - 1s 5ms/step - loss: 4.8375 - accuracy: 0.1614 - val_loss: 2.8102 - val_accuracy: 0.1932\n",
            "Epoch 140/500\n",
            "104/104 [==============================] - 0s 5ms/step - loss: 4.7989 - accuracy: 0.1741 - val_loss: 2.8085 - val_accuracy: 0.1932\n",
            "Epoch 141/500\n",
            "104/104 [==============================] - 1s 5ms/step - loss: 4.5939 - accuracy: 0.1814 - val_loss: 2.8072 - val_accuracy: 0.1932\n",
            "Epoch 142/500\n",
            "104/104 [==============================] - 1s 5ms/step - loss: 4.9150 - accuracy: 0.1584 - val_loss: 2.8056 - val_accuracy: 0.1932\n",
            "Epoch 143/500\n",
            "104/104 [==============================] - 1s 5ms/step - loss: 4.9533 - accuracy: 0.1638 - val_loss: 2.8050 - val_accuracy: 0.1932\n",
            "Epoch 144/500\n",
            "104/104 [==============================] - 1s 5ms/step - loss: 4.8541 - accuracy: 0.1669 - val_loss: 2.8031 - val_accuracy: 0.1932\n",
            "Epoch 145/500\n",
            "104/104 [==============================] - 0s 5ms/step - loss: 4.7712 - accuracy: 0.1687 - val_loss: 2.8030 - val_accuracy: 0.1932\n",
            "Epoch 146/500\n",
            "104/104 [==============================] - 1s 5ms/step - loss: 4.6780 - accuracy: 0.1850 - val_loss: 2.8025 - val_accuracy: 0.1932\n",
            "Epoch 147/500\n",
            "104/104 [==============================] - 1s 5ms/step - loss: 4.6116 - accuracy: 0.1868 - val_loss: 2.8022 - val_accuracy: 0.1932\n",
            "Epoch 148/500\n",
            "104/104 [==============================] - 1s 5ms/step - loss: 4.7268 - accuracy: 0.1832 - val_loss: 2.8009 - val_accuracy: 0.1932\n",
            "Epoch 149/500\n",
            "104/104 [==============================] - 1s 5ms/step - loss: 4.8451 - accuracy: 0.1584 - val_loss: 2.8003 - val_accuracy: 0.1932\n",
            "Epoch 150/500\n",
            "104/104 [==============================] - 1s 5ms/step - loss: 4.7624 - accuracy: 0.1729 - val_loss: 2.7985 - val_accuracy: 0.1932\n",
            "Epoch 151/500\n",
            "104/104 [==============================] - 1s 5ms/step - loss: 4.7137 - accuracy: 0.1898 - val_loss: 2.7988 - val_accuracy: 0.1932\n",
            "Epoch 152/500\n",
            "104/104 [==============================] - 1s 5ms/step - loss: 4.7094 - accuracy: 0.1644 - val_loss: 2.7977 - val_accuracy: 0.1932\n",
            "Epoch 153/500\n",
            "104/104 [==============================] - 1s 5ms/step - loss: 4.6936 - accuracy: 0.1904 - val_loss: 2.7967 - val_accuracy: 0.1932\n",
            "Epoch 154/500\n",
            "104/104 [==============================] - 1s 5ms/step - loss: 4.7573 - accuracy: 0.1759 - val_loss: 2.7958 - val_accuracy: 0.1932\n",
            "Epoch 155/500\n",
            "104/104 [==============================] - 0s 5ms/step - loss: 4.8240 - accuracy: 0.1542 - val_loss: 2.7950 - val_accuracy: 0.1932\n",
            "Epoch 156/500\n",
            "104/104 [==============================] - 1s 5ms/step - loss: 4.6809 - accuracy: 0.1765 - val_loss: 2.7938 - val_accuracy: 0.1932\n",
            "Epoch 157/500\n",
            "104/104 [==============================] - 1s 5ms/step - loss: 4.7380 - accuracy: 0.1699 - val_loss: 2.7925 - val_accuracy: 0.1932\n",
            "Epoch 158/500\n",
            "104/104 [==============================] - 1s 5ms/step - loss: 4.7235 - accuracy: 0.1675 - val_loss: 2.7920 - val_accuracy: 0.1932\n",
            "Epoch 159/500\n",
            "104/104 [==============================] - 0s 5ms/step - loss: 4.6884 - accuracy: 0.1850 - val_loss: 2.7912 - val_accuracy: 0.1932\n",
            "Epoch 160/500\n",
            "104/104 [==============================] - 1s 5ms/step - loss: 4.7031 - accuracy: 0.1802 - val_loss: 2.7902 - val_accuracy: 0.1932\n",
            "Epoch 161/500\n",
            "104/104 [==============================] - 1s 5ms/step - loss: 4.7102 - accuracy: 0.1832 - val_loss: 2.7903 - val_accuracy: 0.1932\n",
            "Epoch 162/500\n",
            "104/104 [==============================] - 1s 5ms/step - loss: 4.8435 - accuracy: 0.1644 - val_loss: 2.7895 - val_accuracy: 0.1932\n",
            "Epoch 163/500\n",
            "104/104 [==============================] - 0s 5ms/step - loss: 4.7902 - accuracy: 0.1693 - val_loss: 2.7893 - val_accuracy: 0.1932\n",
            "Epoch 164/500\n",
            "104/104 [==============================] - 1s 5ms/step - loss: 4.6662 - accuracy: 0.1844 - val_loss: 2.7888 - val_accuracy: 0.1932\n",
            "Epoch 165/500\n",
            "104/104 [==============================] - 1s 5ms/step - loss: 4.8485 - accuracy: 0.1741 - val_loss: 2.7899 - val_accuracy: 0.1932\n",
            "Epoch 166/500\n",
            "104/104 [==============================] - 0s 5ms/step - loss: 4.7566 - accuracy: 0.1705 - val_loss: 2.7892 - val_accuracy: 0.1932\n",
            "Epoch 167/500\n",
            "104/104 [==============================] - 0s 5ms/step - loss: 4.7872 - accuracy: 0.1663 - val_loss: 2.7879 - val_accuracy: 0.1932\n",
            "Epoch 168/500\n",
            "104/104 [==============================] - 0s 5ms/step - loss: 4.8118 - accuracy: 0.1675 - val_loss: 2.7868 - val_accuracy: 0.1932\n",
            "Epoch 169/500\n",
            "104/104 [==============================] - 1s 5ms/step - loss: 4.8605 - accuracy: 0.1590 - val_loss: 2.7869 - val_accuracy: 0.1932\n",
            "Epoch 170/500\n",
            "104/104 [==============================] - 0s 5ms/step - loss: 4.6393 - accuracy: 0.1892 - val_loss: 2.7867 - val_accuracy: 0.1932\n",
            "Epoch 171/500\n",
            "104/104 [==============================] - 0s 5ms/step - loss: 4.6423 - accuracy: 0.1596 - val_loss: 2.7863 - val_accuracy: 0.1932\n",
            "Epoch 172/500\n",
            "104/104 [==============================] - 1s 5ms/step - loss: 4.7827 - accuracy: 0.1802 - val_loss: 2.7853 - val_accuracy: 0.1932\n",
            "Epoch 173/500\n",
            "104/104 [==============================] - 1s 5ms/step - loss: 4.7557 - accuracy: 0.1687 - val_loss: 2.7846 - val_accuracy: 0.1932\n",
            "Epoch 174/500\n",
            "104/104 [==============================] - 1s 5ms/step - loss: 4.7469 - accuracy: 0.1735 - val_loss: 2.7848 - val_accuracy: 0.1932\n",
            "Epoch 175/500\n",
            "104/104 [==============================] - 1s 5ms/step - loss: 4.7877 - accuracy: 0.1723 - val_loss: 2.7839 - val_accuracy: 0.1932\n",
            "Epoch 176/500\n",
            "104/104 [==============================] - 1s 5ms/step - loss: 4.8843 - accuracy: 0.1657 - val_loss: 2.7835 - val_accuracy: 0.1932\n",
            "Epoch 177/500\n",
            "104/104 [==============================] - 0s 5ms/step - loss: 4.7919 - accuracy: 0.1687 - val_loss: 2.7833 - val_accuracy: 0.1932\n",
            "Epoch 178/500\n",
            "104/104 [==============================] - 1s 5ms/step - loss: 4.8459 - accuracy: 0.1620 - val_loss: 2.7831 - val_accuracy: 0.1932\n",
            "Epoch 179/500\n",
            "104/104 [==============================] - 1s 5ms/step - loss: 4.6694 - accuracy: 0.1790 - val_loss: 2.7833 - val_accuracy: 0.1932\n",
            "Epoch 180/500\n",
            "104/104 [==============================] - 0s 5ms/step - loss: 4.8007 - accuracy: 0.1711 - val_loss: 2.7828 - val_accuracy: 0.1932\n",
            "Epoch 181/500\n",
            "104/104 [==============================] - 1s 5ms/step - loss: 4.6802 - accuracy: 0.1759 - val_loss: 2.7827 - val_accuracy: 0.1932\n",
            "Epoch 182/500\n",
            "104/104 [==============================] - 0s 5ms/step - loss: 4.5746 - accuracy: 0.1741 - val_loss: 2.7813 - val_accuracy: 0.1932\n",
            "Epoch 183/500\n",
            "104/104 [==============================] - 1s 5ms/step - loss: 4.6932 - accuracy: 0.1675 - val_loss: 2.7808 - val_accuracy: 0.1932\n",
            "Epoch 184/500\n",
            "104/104 [==============================] - 1s 5ms/step - loss: 4.6847 - accuracy: 0.1759 - val_loss: 2.7802 - val_accuracy: 0.1932\n",
            "Epoch 185/500\n",
            "104/104 [==============================] - 0s 5ms/step - loss: 4.8996 - accuracy: 0.1632 - val_loss: 2.7798 - val_accuracy: 0.1932\n",
            "Epoch 186/500\n",
            "104/104 [==============================] - 1s 5ms/step - loss: 4.7312 - accuracy: 0.1699 - val_loss: 2.7782 - val_accuracy: 0.1932\n",
            "Epoch 187/500\n",
            "104/104 [==============================] - 0s 5ms/step - loss: 4.5668 - accuracy: 0.1832 - val_loss: 2.7782 - val_accuracy: 0.1932\n",
            "Epoch 188/500\n",
            "104/104 [==============================] - 1s 5ms/step - loss: 4.6875 - accuracy: 0.1790 - val_loss: 2.7776 - val_accuracy: 0.1932\n",
            "Epoch 189/500\n",
            "104/104 [==============================] - 1s 5ms/step - loss: 4.7724 - accuracy: 0.1771 - val_loss: 2.7755 - val_accuracy: 0.1932\n",
            "Epoch 190/500\n",
            "104/104 [==============================] - 1s 5ms/step - loss: 4.7561 - accuracy: 0.1584 - val_loss: 2.7749 - val_accuracy: 0.1932\n",
            "Epoch 191/500\n",
            "104/104 [==============================] - 1s 5ms/step - loss: 4.6999 - accuracy: 0.1741 - val_loss: 2.7751 - val_accuracy: 0.1932\n",
            "Epoch 192/500\n",
            "104/104 [==============================] - 1s 5ms/step - loss: 4.5702 - accuracy: 0.1723 - val_loss: 2.7755 - val_accuracy: 0.1932\n",
            "Epoch 193/500\n",
            "104/104 [==============================] - 1s 5ms/step - loss: 4.8324 - accuracy: 0.1657 - val_loss: 2.7754 - val_accuracy: 0.1932\n",
            "Epoch 194/500\n",
            "104/104 [==============================] - 1s 5ms/step - loss: 4.6502 - accuracy: 0.1693 - val_loss: 2.7746 - val_accuracy: 0.1932\n",
            "Epoch 195/500\n",
            "104/104 [==============================] - 0s 5ms/step - loss: 4.6747 - accuracy: 0.1675 - val_loss: 2.7753 - val_accuracy: 0.1932\n",
            "Epoch 196/500\n",
            "104/104 [==============================] - 1s 5ms/step - loss: 4.6232 - accuracy: 0.1856 - val_loss: 2.7754 - val_accuracy: 0.1932\n",
            "Epoch 197/500\n",
            "104/104 [==============================] - 0s 5ms/step - loss: 4.7861 - accuracy: 0.1717 - val_loss: 2.7743 - val_accuracy: 0.1932\n",
            "Epoch 198/500\n",
            "104/104 [==============================] - 1s 5ms/step - loss: 4.6551 - accuracy: 0.1771 - val_loss: 2.7737 - val_accuracy: 0.1932\n",
            "Epoch 199/500\n",
            "104/104 [==============================] - 1s 5ms/step - loss: 4.6748 - accuracy: 0.1729 - val_loss: 2.7747 - val_accuracy: 0.1932\n",
            "Epoch 200/500\n",
            "104/104 [==============================] - 1s 5ms/step - loss: 4.6955 - accuracy: 0.1747 - val_loss: 2.7743 - val_accuracy: 0.1932\n",
            "Epoch 201/500\n",
            "104/104 [==============================] - 1s 5ms/step - loss: 4.5695 - accuracy: 0.1693 - val_loss: 2.7737 - val_accuracy: 0.1932\n",
            "Epoch 202/500\n",
            "104/104 [==============================] - 1s 5ms/step - loss: 4.7380 - accuracy: 0.1717 - val_loss: 2.7735 - val_accuracy: 0.1932\n",
            "Epoch 203/500\n",
            "104/104 [==============================] - 1s 5ms/step - loss: 4.7782 - accuracy: 0.1729 - val_loss: 2.7727 - val_accuracy: 0.1932\n",
            "Epoch 204/500\n",
            "104/104 [==============================] - 1s 5ms/step - loss: 4.8511 - accuracy: 0.1729 - val_loss: 2.7718 - val_accuracy: 0.1932\n",
            "Epoch 205/500\n",
            "104/104 [==============================] - 0s 5ms/step - loss: 4.7564 - accuracy: 0.1790 - val_loss: 2.7715 - val_accuracy: 0.1932\n",
            "Epoch 206/500\n",
            "104/104 [==============================] - 1s 5ms/step - loss: 4.8342 - accuracy: 0.1511 - val_loss: 2.7712 - val_accuracy: 0.1932\n",
            "Epoch 207/500\n",
            "104/104 [==============================] - 1s 6ms/step - loss: 4.8242 - accuracy: 0.1771 - val_loss: 2.7711 - val_accuracy: 0.1932\n",
            "Epoch 208/500\n",
            "104/104 [==============================] - 1s 7ms/step - loss: 4.7584 - accuracy: 0.1663 - val_loss: 2.7714 - val_accuracy: 0.1932\n",
            "Epoch 209/500\n",
            "104/104 [==============================] - 1s 6ms/step - loss: 4.7868 - accuracy: 0.1620 - val_loss: 2.7712 - val_accuracy: 0.1932\n",
            "Epoch 210/500\n",
            "104/104 [==============================] - 1s 7ms/step - loss: 4.5024 - accuracy: 0.1880 - val_loss: 2.7701 - val_accuracy: 0.1932\n",
            "Epoch 211/500\n",
            "104/104 [==============================] - 1s 7ms/step - loss: 4.7978 - accuracy: 0.1524 - val_loss: 2.7684 - val_accuracy: 0.1932\n",
            "Epoch 212/500\n",
            "104/104 [==============================] - 1s 6ms/step - loss: 4.6433 - accuracy: 0.1711 - val_loss: 2.7679 - val_accuracy: 0.1932\n",
            "Epoch 213/500\n",
            "104/104 [==============================] - 1s 5ms/step - loss: 4.5489 - accuracy: 0.1784 - val_loss: 2.7674 - val_accuracy: 0.1932\n",
            "Epoch 214/500\n",
            "104/104 [==============================] - 1s 5ms/step - loss: 4.7200 - accuracy: 0.1614 - val_loss: 2.7670 - val_accuracy: 0.1932\n",
            "Epoch 215/500\n",
            "104/104 [==============================] - 0s 5ms/step - loss: 4.6845 - accuracy: 0.1681 - val_loss: 2.7664 - val_accuracy: 0.1932\n",
            "Epoch 216/500\n",
            "104/104 [==============================] - 1s 5ms/step - loss: 4.8221 - accuracy: 0.1693 - val_loss: 2.7660 - val_accuracy: 0.1932\n",
            "Epoch 217/500\n",
            "104/104 [==============================] - 1s 5ms/step - loss: 4.6504 - accuracy: 0.1814 - val_loss: 2.7653 - val_accuracy: 0.1932\n",
            "Epoch 218/500\n",
            "104/104 [==============================] - 1s 5ms/step - loss: 4.8330 - accuracy: 0.1608 - val_loss: 2.7651 - val_accuracy: 0.1932\n",
            "Epoch 219/500\n",
            "104/104 [==============================] - 1s 5ms/step - loss: 4.7814 - accuracy: 0.1596 - val_loss: 2.7649 - val_accuracy: 0.1932\n",
            "Epoch 220/500\n",
            "104/104 [==============================] - 1s 5ms/step - loss: 4.5729 - accuracy: 0.1681 - val_loss: 2.7644 - val_accuracy: 0.1932\n",
            "Epoch 221/500\n",
            "104/104 [==============================] - 0s 5ms/step - loss: 4.7393 - accuracy: 0.1669 - val_loss: 2.7649 - val_accuracy: 0.1932\n",
            "Epoch 222/500\n",
            "104/104 [==============================] - 1s 5ms/step - loss: 4.7869 - accuracy: 0.1681 - val_loss: 2.7645 - val_accuracy: 0.1932\n",
            "Epoch 223/500\n",
            "104/104 [==============================] - 1s 5ms/step - loss: 4.6942 - accuracy: 0.1820 - val_loss: 2.7637 - val_accuracy: 0.1932\n",
            "Epoch 224/500\n",
            "104/104 [==============================] - 1s 5ms/step - loss: 4.8234 - accuracy: 0.1711 - val_loss: 2.7637 - val_accuracy: 0.1932\n",
            "Epoch 225/500\n",
            "104/104 [==============================] - 1s 5ms/step - loss: 4.6869 - accuracy: 0.1717 - val_loss: 2.7635 - val_accuracy: 0.1932\n",
            "Epoch 226/500\n",
            "104/104 [==============================] - 1s 5ms/step - loss: 4.5793 - accuracy: 0.1765 - val_loss: 2.7621 - val_accuracy: 0.1932\n",
            "Epoch 227/500\n",
            "104/104 [==============================] - 1s 5ms/step - loss: 4.7761 - accuracy: 0.1705 - val_loss: 2.7612 - val_accuracy: 0.1932\n",
            "Epoch 228/500\n",
            "104/104 [==============================] - 1s 5ms/step - loss: 4.8324 - accuracy: 0.1681 - val_loss: 2.7607 - val_accuracy: 0.1932\n",
            "Epoch 229/500\n",
            "104/104 [==============================] - 1s 5ms/step - loss: 4.7174 - accuracy: 0.1663 - val_loss: 2.7588 - val_accuracy: 0.1932\n",
            "Epoch 230/500\n",
            "104/104 [==============================] - 1s 5ms/step - loss: 4.8002 - accuracy: 0.1620 - val_loss: 2.7578 - val_accuracy: 0.1932\n",
            "Epoch 231/500\n",
            "104/104 [==============================] - 1s 5ms/step - loss: 4.7208 - accuracy: 0.1826 - val_loss: 2.7582 - val_accuracy: 0.1932\n",
            "Epoch 232/500\n",
            "104/104 [==============================] - 1s 5ms/step - loss: 4.6000 - accuracy: 0.1862 - val_loss: 2.7576 - val_accuracy: 0.1932\n",
            "Epoch 233/500\n",
            "104/104 [==============================] - 1s 5ms/step - loss: 4.8402 - accuracy: 0.1572 - val_loss: 2.7564 - val_accuracy: 0.1932\n",
            "Epoch 234/500\n",
            "104/104 [==============================] - 1s 5ms/step - loss: 4.8177 - accuracy: 0.1566 - val_loss: 2.7552 - val_accuracy: 0.1932\n",
            "Epoch 235/500\n",
            "104/104 [==============================] - 0s 5ms/step - loss: 4.7570 - accuracy: 0.1711 - val_loss: 2.7539 - val_accuracy: 0.1932\n",
            "Epoch 236/500\n",
            "104/104 [==============================] - 0s 5ms/step - loss: 4.6771 - accuracy: 0.1711 - val_loss: 2.7530 - val_accuracy: 0.1932\n",
            "Epoch 237/500\n",
            "104/104 [==============================] - 0s 5ms/step - loss: 4.7262 - accuracy: 0.1699 - val_loss: 2.7527 - val_accuracy: 0.1932\n",
            "Epoch 238/500\n",
            "104/104 [==============================] - 1s 5ms/step - loss: 4.6370 - accuracy: 0.1856 - val_loss: 2.7517 - val_accuracy: 0.1932\n",
            "Epoch 239/500\n",
            "104/104 [==============================] - 1s 5ms/step - loss: 4.6981 - accuracy: 0.1778 - val_loss: 2.7502 - val_accuracy: 0.1932\n",
            "Epoch 240/500\n",
            "104/104 [==============================] - 1s 5ms/step - loss: 4.6196 - accuracy: 0.1796 - val_loss: 2.7494 - val_accuracy: 0.1932\n",
            "Epoch 241/500\n",
            "104/104 [==============================] - 1s 5ms/step - loss: 4.9145 - accuracy: 0.1536 - val_loss: 2.7489 - val_accuracy: 0.1932\n",
            "Epoch 242/500\n",
            "104/104 [==============================] - 1s 5ms/step - loss: 4.7733 - accuracy: 0.1735 - val_loss: 2.7488 - val_accuracy: 0.1932\n",
            "Epoch 243/500\n",
            "104/104 [==============================] - 1s 5ms/step - loss: 4.5995 - accuracy: 0.1778 - val_loss: 2.7482 - val_accuracy: 0.1932\n",
            "Epoch 244/500\n",
            "104/104 [==============================] - 1s 5ms/step - loss: 4.7587 - accuracy: 0.1765 - val_loss: 2.7472 - val_accuracy: 0.1932\n",
            "Epoch 245/500\n",
            "104/104 [==============================] - 1s 5ms/step - loss: 4.6655 - accuracy: 0.1771 - val_loss: 2.7474 - val_accuracy: 0.1932\n",
            "Epoch 246/500\n",
            "104/104 [==============================] - 1s 5ms/step - loss: 4.6565 - accuracy: 0.1892 - val_loss: 2.7477 - val_accuracy: 0.1932\n",
            "Epoch 247/500\n",
            "104/104 [==============================] - 1s 5ms/step - loss: 4.7230 - accuracy: 0.1663 - val_loss: 2.7468 - val_accuracy: 0.1932\n",
            "Epoch 248/500\n",
            "104/104 [==============================] - 1s 5ms/step - loss: 4.6944 - accuracy: 0.1530 - val_loss: 2.7464 - val_accuracy: 0.1932\n",
            "Epoch 249/500\n",
            "104/104 [==============================] - 1s 5ms/step - loss: 4.5330 - accuracy: 0.1826 - val_loss: 2.7467 - val_accuracy: 0.1932\n",
            "Epoch 250/500\n",
            "104/104 [==============================] - 1s 5ms/step - loss: 4.8801 - accuracy: 0.1542 - val_loss: 2.7461 - val_accuracy: 0.1932\n",
            "Epoch 251/500\n",
            "104/104 [==============================] - 1s 5ms/step - loss: 4.7676 - accuracy: 0.1765 - val_loss: 2.7463 - val_accuracy: 0.1932\n",
            "Epoch 252/500\n",
            "104/104 [==============================] - 1s 5ms/step - loss: 4.7165 - accuracy: 0.1693 - val_loss: 2.7462 - val_accuracy: 0.1932\n",
            "Epoch 253/500\n",
            "104/104 [==============================] - 1s 6ms/step - loss: 4.5979 - accuracy: 0.1753 - val_loss: 2.7468 - val_accuracy: 0.1932\n",
            "Epoch 254/500\n",
            "104/104 [==============================] - 1s 5ms/step - loss: 4.7210 - accuracy: 0.1584 - val_loss: 2.7469 - val_accuracy: 0.1932\n",
            "Epoch 255/500\n",
            "104/104 [==============================] - 0s 5ms/step - loss: 4.6028 - accuracy: 0.1838 - val_loss: 2.7465 - val_accuracy: 0.1932\n",
            "Epoch 256/500\n",
            "104/104 [==============================] - 1s 5ms/step - loss: 4.7273 - accuracy: 0.1765 - val_loss: 2.7463 - val_accuracy: 0.1932\n",
            "Epoch 257/500\n",
            "104/104 [==============================] - 1s 5ms/step - loss: 4.8340 - accuracy: 0.1675 - val_loss: 2.7463 - val_accuracy: 0.1932\n",
            "Epoch 258/500\n",
            "104/104 [==============================] - 1s 5ms/step - loss: 4.6203 - accuracy: 0.1632 - val_loss: 2.7456 - val_accuracy: 0.1932\n",
            "Epoch 259/500\n",
            "104/104 [==============================] - 1s 5ms/step - loss: 4.7585 - accuracy: 0.1608 - val_loss: 2.7451 - val_accuracy: 0.1932\n",
            "Epoch 260/500\n",
            "104/104 [==============================] - 1s 5ms/step - loss: 4.7673 - accuracy: 0.1626 - val_loss: 2.7446 - val_accuracy: 0.1932\n",
            "Epoch 261/500\n",
            "104/104 [==============================] - 1s 5ms/step - loss: 4.7017 - accuracy: 0.1796 - val_loss: 2.7446 - val_accuracy: 0.1932\n",
            "Epoch 262/500\n",
            "104/104 [==============================] - 1s 5ms/step - loss: 4.5861 - accuracy: 0.1705 - val_loss: 2.7439 - val_accuracy: 0.1932\n",
            "Epoch 263/500\n",
            "104/104 [==============================] - 1s 5ms/step - loss: 4.6832 - accuracy: 0.1808 - val_loss: 2.7429 - val_accuracy: 0.1932\n",
            "Epoch 264/500\n",
            "104/104 [==============================] - 1s 5ms/step - loss: 4.8755 - accuracy: 0.1602 - val_loss: 2.7427 - val_accuracy: 0.1932\n",
            "Epoch 265/500\n",
            "104/104 [==============================] - 0s 5ms/step - loss: 4.7727 - accuracy: 0.1675 - val_loss: 2.7422 - val_accuracy: 0.1932\n",
            "Epoch 266/500\n",
            "104/104 [==============================] - 1s 5ms/step - loss: 4.6762 - accuracy: 0.1566 - val_loss: 2.7424 - val_accuracy: 0.1932\n",
            "Epoch 267/500\n",
            "104/104 [==============================] - 1s 5ms/step - loss: 4.7202 - accuracy: 0.1844 - val_loss: 2.7418 - val_accuracy: 0.1932\n",
            "Epoch 268/500\n",
            "104/104 [==============================] - 1s 5ms/step - loss: 4.6520 - accuracy: 0.1904 - val_loss: 2.7412 - val_accuracy: 0.1932\n",
            "Epoch 269/500\n",
            "104/104 [==============================] - 1s 5ms/step - loss: 4.7252 - accuracy: 0.1657 - val_loss: 2.7409 - val_accuracy: 0.1932\n",
            "Epoch 270/500\n",
            "104/104 [==============================] - 1s 5ms/step - loss: 4.7259 - accuracy: 0.1584 - val_loss: 2.7411 - val_accuracy: 0.1932\n",
            "Epoch 271/500\n",
            "104/104 [==============================] - 1s 5ms/step - loss: 4.6259 - accuracy: 0.1747 - val_loss: 2.7406 - val_accuracy: 0.1932\n",
            "Epoch 272/500\n",
            "104/104 [==============================] - 1s 5ms/step - loss: 4.8066 - accuracy: 0.1687 - val_loss: 2.7403 - val_accuracy: 0.1932\n",
            "Epoch 273/500\n",
            "104/104 [==============================] - 1s 5ms/step - loss: 4.5340 - accuracy: 0.1880 - val_loss: 2.7400 - val_accuracy: 0.1932\n",
            "Epoch 274/500\n",
            "104/104 [==============================] - 1s 5ms/step - loss: 4.5948 - accuracy: 0.1657 - val_loss: 2.7402 - val_accuracy: 0.1932\n",
            "Epoch 275/500\n",
            "104/104 [==============================] - 1s 5ms/step - loss: 4.7881 - accuracy: 0.1790 - val_loss: 2.7397 - val_accuracy: 0.1932\n",
            "Epoch 276/500\n",
            "104/104 [==============================] - 1s 5ms/step - loss: 4.7350 - accuracy: 0.1651 - val_loss: 2.7388 - val_accuracy: 0.1932\n",
            "Epoch 277/500\n",
            "104/104 [==============================] - 1s 5ms/step - loss: 4.7622 - accuracy: 0.1530 - val_loss: 2.7386 - val_accuracy: 0.1932\n",
            "Epoch 278/500\n",
            "104/104 [==============================] - 1s 5ms/step - loss: 4.5809 - accuracy: 0.1729 - val_loss: 2.7384 - val_accuracy: 0.1932\n",
            "Epoch 279/500\n",
            "104/104 [==============================] - 1s 5ms/step - loss: 4.6013 - accuracy: 0.1735 - val_loss: 2.7382 - val_accuracy: 0.1932\n",
            "Epoch 280/500\n",
            "104/104 [==============================] - 1s 5ms/step - loss: 4.5870 - accuracy: 0.1784 - val_loss: 2.7379 - val_accuracy: 0.1932\n",
            "Epoch 281/500\n",
            "104/104 [==============================] - 1s 5ms/step - loss: 4.6087 - accuracy: 0.1832 - val_loss: 2.7368 - val_accuracy: 0.1932\n",
            "Epoch 282/500\n",
            "104/104 [==============================] - 1s 5ms/step - loss: 4.6910 - accuracy: 0.1741 - val_loss: 2.7368 - val_accuracy: 0.1932\n",
            "Epoch 283/500\n",
            "104/104 [==============================] - 1s 5ms/step - loss: 4.6816 - accuracy: 0.1796 - val_loss: 2.7360 - val_accuracy: 0.1932\n",
            "Epoch 284/500\n",
            "104/104 [==============================] - 1s 6ms/step - loss: 4.8324 - accuracy: 0.1644 - val_loss: 2.7360 - val_accuracy: 0.1932\n",
            "Epoch 285/500\n",
            "104/104 [==============================] - 1s 5ms/step - loss: 4.7680 - accuracy: 0.1626 - val_loss: 2.7352 - val_accuracy: 0.1932\n",
            "Epoch 286/500\n",
            "104/104 [==============================] - 1s 5ms/step - loss: 4.6784 - accuracy: 0.1747 - val_loss: 2.7350 - val_accuracy: 0.1932\n",
            "Epoch 287/500\n",
            "104/104 [==============================] - 1s 5ms/step - loss: 4.7147 - accuracy: 0.1669 - val_loss: 2.7355 - val_accuracy: 0.1932\n",
            "Epoch 288/500\n",
            "104/104 [==============================] - 1s 5ms/step - loss: 4.7405 - accuracy: 0.1790 - val_loss: 2.7356 - val_accuracy: 0.1932\n",
            "Epoch 289/500\n",
            "104/104 [==============================] - 1s 5ms/step - loss: 4.6844 - accuracy: 0.1578 - val_loss: 2.7355 - val_accuracy: 0.1932\n",
            "Epoch 290/500\n",
            "104/104 [==============================] - 1s 6ms/step - loss: 4.8504 - accuracy: 0.1663 - val_loss: 2.7350 - val_accuracy: 0.1932\n",
            "Epoch 291/500\n",
            "104/104 [==============================] - 1s 6ms/step - loss: 4.5416 - accuracy: 0.1923 - val_loss: 2.7345 - val_accuracy: 0.1932\n",
            "Epoch 292/500\n",
            "104/104 [==============================] - 1s 5ms/step - loss: 4.6822 - accuracy: 0.1723 - val_loss: 2.7345 - val_accuracy: 0.1932\n",
            "Epoch 293/500\n",
            "104/104 [==============================] - 1s 5ms/step - loss: 4.6119 - accuracy: 0.1796 - val_loss: 2.7341 - val_accuracy: 0.1932\n",
            "Epoch 294/500\n",
            "104/104 [==============================] - 1s 5ms/step - loss: 4.6975 - accuracy: 0.1753 - val_loss: 2.7331 - val_accuracy: 0.1932\n",
            "Epoch 295/500\n",
            "104/104 [==============================] - 1s 5ms/step - loss: 4.6986 - accuracy: 0.1808 - val_loss: 2.7331 - val_accuracy: 0.1932\n",
            "Epoch 296/500\n",
            "104/104 [==============================] - 1s 5ms/step - loss: 4.5778 - accuracy: 0.1717 - val_loss: 2.7329 - val_accuracy: 0.1932\n",
            "Epoch 297/500\n",
            "104/104 [==============================] - 1s 5ms/step - loss: 4.6690 - accuracy: 0.1675 - val_loss: 2.7327 - val_accuracy: 0.1932\n",
            "Epoch 298/500\n",
            "104/104 [==============================] - 1s 5ms/step - loss: 4.7886 - accuracy: 0.1675 - val_loss: 2.7322 - val_accuracy: 0.1932\n",
            "Epoch 299/500\n",
            "104/104 [==============================] - 1s 6ms/step - loss: 4.7712 - accuracy: 0.1778 - val_loss: 2.7321 - val_accuracy: 0.1932\n",
            "Epoch 300/500\n",
            "104/104 [==============================] - 1s 5ms/step - loss: 4.7256 - accuracy: 0.1638 - val_loss: 2.7319 - val_accuracy: 0.1932\n",
            "Epoch 301/500\n",
            "104/104 [==============================] - 1s 5ms/step - loss: 4.8068 - accuracy: 0.1614 - val_loss: 2.7318 - val_accuracy: 0.1932\n",
            "Epoch 302/500\n",
            "104/104 [==============================] - 1s 5ms/step - loss: 4.7067 - accuracy: 0.1741 - val_loss: 2.7312 - val_accuracy: 0.1932\n",
            "Epoch 303/500\n",
            "104/104 [==============================] - 1s 6ms/step - loss: 4.7348 - accuracy: 0.1796 - val_loss: 2.7313 - val_accuracy: 0.1932\n",
            "Epoch 304/500\n",
            "104/104 [==============================] - 1s 5ms/step - loss: 4.6175 - accuracy: 0.1862 - val_loss: 2.7305 - val_accuracy: 0.1932\n",
            "Epoch 305/500\n",
            "104/104 [==============================] - 1s 5ms/step - loss: 4.8089 - accuracy: 0.1729 - val_loss: 2.7304 - val_accuracy: 0.1932\n",
            "Epoch 306/500\n",
            "104/104 [==============================] - 1s 5ms/step - loss: 4.7731 - accuracy: 0.1542 - val_loss: 2.7304 - val_accuracy: 0.1932\n",
            "Epoch 307/500\n",
            "104/104 [==============================] - 1s 6ms/step - loss: 4.7486 - accuracy: 0.1669 - val_loss: 2.7305 - val_accuracy: 0.1932\n",
            "Epoch 308/500\n",
            "104/104 [==============================] - 1s 5ms/step - loss: 4.6939 - accuracy: 0.1765 - val_loss: 2.7297 - val_accuracy: 0.1932\n",
            "Epoch 309/500\n",
            "104/104 [==============================] - 1s 5ms/step - loss: 4.7707 - accuracy: 0.1560 - val_loss: 2.7296 - val_accuracy: 0.1932\n",
            "Epoch 310/500\n",
            "104/104 [==============================] - 1s 5ms/step - loss: 4.7330 - accuracy: 0.1657 - val_loss: 2.7293 - val_accuracy: 0.1932\n",
            "Epoch 311/500\n",
            "104/104 [==============================] - 1s 5ms/step - loss: 4.6995 - accuracy: 0.1590 - val_loss: 2.7290 - val_accuracy: 0.1932\n",
            "Epoch 312/500\n",
            "104/104 [==============================] - 1s 5ms/step - loss: 4.7243 - accuracy: 0.1530 - val_loss: 2.7289 - val_accuracy: 0.1932\n",
            "Epoch 313/500\n",
            "104/104 [==============================] - 1s 5ms/step - loss: 4.8154 - accuracy: 0.1681 - val_loss: 2.7287 - val_accuracy: 0.1932\n",
            "Epoch 314/500\n",
            "104/104 [==============================] - 1s 5ms/step - loss: 4.7363 - accuracy: 0.1638 - val_loss: 2.7283 - val_accuracy: 0.1932\n",
            "Epoch 315/500\n",
            "104/104 [==============================] - 1s 5ms/step - loss: 4.6672 - accuracy: 0.1675 - val_loss: 2.7280 - val_accuracy: 0.1932\n",
            "Epoch 316/500\n",
            "104/104 [==============================] - 1s 6ms/step - loss: 4.7475 - accuracy: 0.1620 - val_loss: 2.7281 - val_accuracy: 0.1932\n",
            "Epoch 317/500\n",
            "104/104 [==============================] - 1s 6ms/step - loss: 4.5645 - accuracy: 0.1711 - val_loss: 2.7277 - val_accuracy: 0.1932\n",
            "Epoch 318/500\n",
            "104/104 [==============================] - 1s 6ms/step - loss: 4.6053 - accuracy: 0.1832 - val_loss: 2.7276 - val_accuracy: 0.1932\n",
            "Epoch 319/500\n",
            "104/104 [==============================] - 1s 6ms/step - loss: 4.7796 - accuracy: 0.1687 - val_loss: 2.7281 - val_accuracy: 0.1932\n",
            "Epoch 320/500\n",
            "104/104 [==============================] - 1s 5ms/step - loss: 4.7054 - accuracy: 0.1651 - val_loss: 2.7270 - val_accuracy: 0.1932\n",
            "Epoch 321/500\n",
            "104/104 [==============================] - 1s 5ms/step - loss: 4.6833 - accuracy: 0.1747 - val_loss: 2.7265 - val_accuracy: 0.1932\n",
            "Epoch 322/500\n",
            "104/104 [==============================] - 1s 5ms/step - loss: 4.6547 - accuracy: 0.1711 - val_loss: 2.7267 - val_accuracy: 0.1932\n",
            "Epoch 323/500\n",
            "104/104 [==============================] - 1s 5ms/step - loss: 4.6324 - accuracy: 0.1856 - val_loss: 2.7262 - val_accuracy: 0.1932\n",
            "Epoch 324/500\n",
            "104/104 [==============================] - 1s 6ms/step - loss: 4.6643 - accuracy: 0.1663 - val_loss: 2.7258 - val_accuracy: 0.1932\n",
            "Epoch 325/500\n",
            "104/104 [==============================] - 1s 5ms/step - loss: 4.5589 - accuracy: 0.1929 - val_loss: 2.7257 - val_accuracy: 0.1932\n",
            "Epoch 326/500\n",
            "104/104 [==============================] - 1s 6ms/step - loss: 4.7000 - accuracy: 0.1644 - val_loss: 2.7263 - val_accuracy: 0.1932\n",
            "Epoch 327/500\n",
            "104/104 [==============================] - 1s 6ms/step - loss: 4.7328 - accuracy: 0.1735 - val_loss: 2.7259 - val_accuracy: 0.1932\n",
            "Epoch 328/500\n",
            "104/104 [==============================] - 1s 5ms/step - loss: 4.5553 - accuracy: 0.1880 - val_loss: 2.7256 - val_accuracy: 0.1932\n",
            "Epoch 329/500\n",
            "104/104 [==============================] - 1s 6ms/step - loss: 4.7884 - accuracy: 0.1638 - val_loss: 2.7256 - val_accuracy: 0.1932\n",
            "Epoch 330/500\n",
            "104/104 [==============================] - 1s 6ms/step - loss: 4.6822 - accuracy: 0.1753 - val_loss: 2.7252 - val_accuracy: 0.1932\n",
            "Epoch 331/500\n",
            "104/104 [==============================] - 1s 6ms/step - loss: 4.5552 - accuracy: 0.1735 - val_loss: 2.7248 - val_accuracy: 0.1932\n",
            "Epoch 332/500\n",
            "104/104 [==============================] - 1s 5ms/step - loss: 4.5453 - accuracy: 0.1929 - val_loss: 2.7243 - val_accuracy: 0.1932\n",
            "Epoch 333/500\n",
            "104/104 [==============================] - 1s 6ms/step - loss: 4.7609 - accuracy: 0.1651 - val_loss: 2.7242 - val_accuracy: 0.1932\n",
            "Epoch 334/500\n",
            "104/104 [==============================] - 1s 5ms/step - loss: 4.4971 - accuracy: 0.1832 - val_loss: 2.7240 - val_accuracy: 0.1932\n",
            "Epoch 335/500\n",
            "104/104 [==============================] - 1s 5ms/step - loss: 4.6494 - accuracy: 0.1759 - val_loss: 2.7239 - val_accuracy: 0.1932\n",
            "Epoch 336/500\n",
            "104/104 [==============================] - 1s 6ms/step - loss: 4.7140 - accuracy: 0.1663 - val_loss: 2.7241 - val_accuracy: 0.1932\n",
            "Epoch 337/500\n",
            "104/104 [==============================] - 1s 6ms/step - loss: 4.5505 - accuracy: 0.1687 - val_loss: 2.7239 - val_accuracy: 0.1932\n",
            "Epoch 338/500\n",
            "104/104 [==============================] - 1s 6ms/step - loss: 4.6639 - accuracy: 0.1657 - val_loss: 2.7241 - val_accuracy: 0.1932\n",
            "Epoch 339/500\n",
            "104/104 [==============================] - 1s 5ms/step - loss: 4.7717 - accuracy: 0.1560 - val_loss: 2.7234 - val_accuracy: 0.1932\n",
            "Epoch 340/500\n",
            "104/104 [==============================] - 1s 6ms/step - loss: 4.6174 - accuracy: 0.1911 - val_loss: 2.7231 - val_accuracy: 0.1932\n",
            "Epoch 341/500\n",
            "104/104 [==============================] - 1s 5ms/step - loss: 4.6874 - accuracy: 0.1620 - val_loss: 2.7226 - val_accuracy: 0.1932\n",
            "Epoch 342/500\n",
            "104/104 [==============================] - 1s 5ms/step - loss: 4.6893 - accuracy: 0.1765 - val_loss: 2.7220 - val_accuracy: 0.1932\n",
            "Epoch 343/500\n",
            "104/104 [==============================] - 1s 5ms/step - loss: 4.6774 - accuracy: 0.1759 - val_loss: 2.7214 - val_accuracy: 0.1932\n",
            "Epoch 344/500\n",
            "104/104 [==============================] - 1s 5ms/step - loss: 4.5883 - accuracy: 0.1693 - val_loss: 2.7207 - val_accuracy: 0.1932\n",
            "Epoch 345/500\n",
            "104/104 [==============================] - 1s 6ms/step - loss: 4.6953 - accuracy: 0.1826 - val_loss: 2.7209 - val_accuracy: 0.1932\n",
            "Epoch 346/500\n",
            "104/104 [==============================] - 1s 5ms/step - loss: 4.4910 - accuracy: 0.1741 - val_loss: 2.7207 - val_accuracy: 0.1932\n",
            "Epoch 347/500\n",
            "104/104 [==============================] - 1s 5ms/step - loss: 4.5979 - accuracy: 0.1765 - val_loss: 2.7202 - val_accuracy: 0.1932\n",
            "Epoch 348/500\n",
            "104/104 [==============================] - 1s 5ms/step - loss: 4.4575 - accuracy: 0.1790 - val_loss: 2.7203 - val_accuracy: 0.1932\n",
            "Epoch 349/500\n",
            "104/104 [==============================] - 1s 6ms/step - loss: 4.6003 - accuracy: 0.1814 - val_loss: 2.7200 - val_accuracy: 0.1932\n",
            "Epoch 350/500\n",
            "104/104 [==============================] - 1s 5ms/step - loss: 4.5206 - accuracy: 0.1820 - val_loss: 2.7194 - val_accuracy: 0.1932\n",
            "Epoch 351/500\n",
            "104/104 [==============================] - 1s 5ms/step - loss: 4.5935 - accuracy: 0.1681 - val_loss: 2.7183 - val_accuracy: 0.1932\n",
            "Epoch 352/500\n",
            "104/104 [==============================] - 1s 6ms/step - loss: 4.5805 - accuracy: 0.1669 - val_loss: 2.7182 - val_accuracy: 0.1932\n",
            "Epoch 353/500\n",
            "104/104 [==============================] - 1s 5ms/step - loss: 4.6345 - accuracy: 0.1729 - val_loss: 2.7178 - val_accuracy: 0.1932\n",
            "Epoch 354/500\n",
            "104/104 [==============================] - 1s 5ms/step - loss: 4.5361 - accuracy: 0.1790 - val_loss: 2.7175 - val_accuracy: 0.1932\n",
            "Epoch 355/500\n",
            "104/104 [==============================] - 1s 5ms/step - loss: 4.5976 - accuracy: 0.1820 - val_loss: 2.7169 - val_accuracy: 0.1932\n",
            "Epoch 356/500\n",
            "104/104 [==============================] - 1s 5ms/step - loss: 4.5197 - accuracy: 0.1856 - val_loss: 2.7167 - val_accuracy: 0.1932\n",
            "Epoch 357/500\n",
            "104/104 [==============================] - 1s 5ms/step - loss: 4.7441 - accuracy: 0.1663 - val_loss: 2.7165 - val_accuracy: 0.1932\n",
            "Epoch 358/500\n",
            "104/104 [==============================] - 1s 5ms/step - loss: 4.6164 - accuracy: 0.1868 - val_loss: 2.7164 - val_accuracy: 0.1932\n",
            "Epoch 359/500\n",
            "104/104 [==============================] - 1s 5ms/step - loss: 4.6275 - accuracy: 0.1747 - val_loss: 2.7159 - val_accuracy: 0.1932\n",
            "Epoch 360/500\n",
            "104/104 [==============================] - 1s 5ms/step - loss: 4.6711 - accuracy: 0.1856 - val_loss: 2.7158 - val_accuracy: 0.1932\n",
            "Epoch 361/500\n",
            "104/104 [==============================] - 1s 5ms/step - loss: 4.6281 - accuracy: 0.1856 - val_loss: 2.7154 - val_accuracy: 0.1932\n",
            "Epoch 362/500\n",
            "104/104 [==============================] - 1s 5ms/step - loss: 4.7499 - accuracy: 0.1771 - val_loss: 2.7157 - val_accuracy: 0.1932\n",
            "Epoch 363/500\n",
            "104/104 [==============================] - 1s 5ms/step - loss: 4.7260 - accuracy: 0.1711 - val_loss: 2.7154 - val_accuracy: 0.1932\n",
            "Epoch 364/500\n",
            "104/104 [==============================] - 1s 5ms/step - loss: 4.8250 - accuracy: 0.1584 - val_loss: 2.7153 - val_accuracy: 0.1932\n",
            "Epoch 365/500\n",
            "104/104 [==============================] - 1s 5ms/step - loss: 4.7047 - accuracy: 0.1626 - val_loss: 2.7155 - val_accuracy: 0.1932\n",
            "Epoch 366/500\n",
            "104/104 [==============================] - 1s 5ms/step - loss: 4.5316 - accuracy: 0.1784 - val_loss: 2.7150 - val_accuracy: 0.1932\n",
            "Epoch 367/500\n",
            "104/104 [==============================] - 1s 5ms/step - loss: 4.5577 - accuracy: 0.1886 - val_loss: 2.7145 - val_accuracy: 0.1932\n",
            "Epoch 368/500\n",
            "104/104 [==============================] - 1s 5ms/step - loss: 4.5392 - accuracy: 0.1729 - val_loss: 2.7146 - val_accuracy: 0.1932\n",
            "Epoch 369/500\n",
            "104/104 [==============================] - 1s 5ms/step - loss: 4.6623 - accuracy: 0.1784 - val_loss: 2.7142 - val_accuracy: 0.1932\n",
            "Epoch 370/500\n",
            "104/104 [==============================] - 1s 5ms/step - loss: 4.7255 - accuracy: 0.1741 - val_loss: 2.7136 - val_accuracy: 0.1932\n",
            "Epoch 371/500\n",
            "104/104 [==============================] - 1s 5ms/step - loss: 4.7497 - accuracy: 0.1705 - val_loss: 2.7141 - val_accuracy: 0.1932\n",
            "Epoch 372/500\n",
            "104/104 [==============================] - 1s 5ms/step - loss: 4.6137 - accuracy: 0.1644 - val_loss: 2.7143 - val_accuracy: 0.1932\n",
            "Epoch 373/500\n",
            "104/104 [==============================] - 1s 5ms/step - loss: 4.6852 - accuracy: 0.1784 - val_loss: 2.7141 - val_accuracy: 0.1932\n",
            "Epoch 374/500\n",
            "104/104 [==============================] - 1s 5ms/step - loss: 4.6850 - accuracy: 0.1802 - val_loss: 2.7143 - val_accuracy: 0.1932\n",
            "Epoch 375/500\n",
            "104/104 [==============================] - 1s 5ms/step - loss: 4.6714 - accuracy: 0.1741 - val_loss: 2.7142 - val_accuracy: 0.1932\n",
            "Epoch 376/500\n",
            "104/104 [==============================] - 1s 5ms/step - loss: 4.5845 - accuracy: 0.1675 - val_loss: 2.7140 - val_accuracy: 0.1932\n",
            "Epoch 377/500\n",
            "104/104 [==============================] - 1s 5ms/step - loss: 4.7296 - accuracy: 0.1608 - val_loss: 2.7136 - val_accuracy: 0.1932\n",
            "Epoch 378/500\n",
            "104/104 [==============================] - 1s 6ms/step - loss: 4.8814 - accuracy: 0.1518 - val_loss: 2.7136 - val_accuracy: 0.1932\n",
            "Epoch 379/500\n",
            "104/104 [==============================] - 1s 5ms/step - loss: 4.6715 - accuracy: 0.1929 - val_loss: 2.7135 - val_accuracy: 0.1932\n",
            "Epoch 380/500\n",
            "104/104 [==============================] - 1s 5ms/step - loss: 4.7073 - accuracy: 0.1681 - val_loss: 2.7131 - val_accuracy: 0.1932\n",
            "Epoch 381/500\n",
            "104/104 [==============================] - 1s 6ms/step - loss: 4.8522 - accuracy: 0.1560 - val_loss: 2.7128 - val_accuracy: 0.1932\n",
            "Epoch 382/500\n",
            "104/104 [==============================] - 1s 5ms/step - loss: 4.6320 - accuracy: 0.1681 - val_loss: 2.7126 - val_accuracy: 0.1932\n",
            "Epoch 383/500\n",
            "104/104 [==============================] - 1s 5ms/step - loss: 4.6324 - accuracy: 0.1784 - val_loss: 2.7125 - val_accuracy: 0.1932\n",
            "Epoch 384/500\n",
            "104/104 [==============================] - 1s 5ms/step - loss: 4.6467 - accuracy: 0.1566 - val_loss: 2.7120 - val_accuracy: 0.1932\n",
            "Epoch 385/500\n",
            "104/104 [==============================] - 1s 5ms/step - loss: 4.7012 - accuracy: 0.1632 - val_loss: 2.7117 - val_accuracy: 0.1932\n",
            "Epoch 386/500\n",
            "104/104 [==============================] - 1s 5ms/step - loss: 4.5947 - accuracy: 0.1723 - val_loss: 2.7121 - val_accuracy: 0.1932\n",
            "Epoch 387/500\n",
            "104/104 [==============================] - 1s 6ms/step - loss: 4.6137 - accuracy: 0.1729 - val_loss: 2.7119 - val_accuracy: 0.1932\n",
            "Epoch 388/500\n",
            "104/104 [==============================] - 1s 5ms/step - loss: 4.6403 - accuracy: 0.1693 - val_loss: 2.7115 - val_accuracy: 0.1932\n",
            "Epoch 389/500\n",
            "104/104 [==============================] - 1s 5ms/step - loss: 4.6287 - accuracy: 0.1771 - val_loss: 2.7107 - val_accuracy: 0.1932\n",
            "Epoch 390/500\n",
            "104/104 [==============================] - 1s 5ms/step - loss: 4.7099 - accuracy: 0.1620 - val_loss: 2.7103 - val_accuracy: 0.1932\n",
            "Epoch 391/500\n",
            "104/104 [==============================] - 1s 5ms/step - loss: 4.5449 - accuracy: 0.1832 - val_loss: 2.7102 - val_accuracy: 0.1932\n",
            "Epoch 392/500\n",
            "104/104 [==============================] - 1s 5ms/step - loss: 4.6636 - accuracy: 0.1687 - val_loss: 2.7098 - val_accuracy: 0.1932\n",
            "Epoch 393/500\n",
            "104/104 [==============================] - 1s 5ms/step - loss: 4.6985 - accuracy: 0.1796 - val_loss: 2.7095 - val_accuracy: 0.1932\n",
            "Epoch 394/500\n",
            "104/104 [==============================] - 1s 5ms/step - loss: 4.4531 - accuracy: 0.1838 - val_loss: 2.7094 - val_accuracy: 0.1932\n",
            "Epoch 395/500\n",
            "104/104 [==============================] - 1s 5ms/step - loss: 4.7054 - accuracy: 0.1657 - val_loss: 2.7088 - val_accuracy: 0.1932\n",
            "Epoch 396/500\n",
            "104/104 [==============================] - 1s 5ms/step - loss: 4.6120 - accuracy: 0.1699 - val_loss: 2.7086 - val_accuracy: 0.1932\n",
            "Epoch 397/500\n",
            "104/104 [==============================] - 1s 5ms/step - loss: 4.7066 - accuracy: 0.1608 - val_loss: 2.7083 - val_accuracy: 0.1932\n",
            "Epoch 398/500\n",
            "104/104 [==============================] - 1s 5ms/step - loss: 4.5888 - accuracy: 0.1856 - val_loss: 2.7076 - val_accuracy: 0.1932\n",
            "Epoch 399/500\n",
            "104/104 [==============================] - 1s 5ms/step - loss: 4.5645 - accuracy: 0.1765 - val_loss: 2.7077 - val_accuracy: 0.1932\n",
            "Epoch 400/500\n",
            "104/104 [==============================] - 1s 5ms/step - loss: 4.5725 - accuracy: 0.1941 - val_loss: 2.7082 - val_accuracy: 0.1932\n",
            "Epoch 401/500\n",
            "104/104 [==============================] - 1s 5ms/step - loss: 4.7125 - accuracy: 0.1620 - val_loss: 2.7079 - val_accuracy: 0.1932\n",
            "Epoch 402/500\n",
            "104/104 [==============================] - 1s 5ms/step - loss: 4.7370 - accuracy: 0.1753 - val_loss: 2.7076 - val_accuracy: 0.1932\n",
            "Epoch 403/500\n",
            "104/104 [==============================] - 1s 5ms/step - loss: 4.7141 - accuracy: 0.1669 - val_loss: 2.7077 - val_accuracy: 0.1932\n",
            "Epoch 404/500\n",
            "104/104 [==============================] - 1s 5ms/step - loss: 4.7171 - accuracy: 0.1693 - val_loss: 2.7074 - val_accuracy: 0.1932\n",
            "Epoch 405/500\n",
            "104/104 [==============================] - 1s 5ms/step - loss: 4.6756 - accuracy: 0.1717 - val_loss: 2.7070 - val_accuracy: 0.1932\n",
            "Epoch 406/500\n",
            "104/104 [==============================] - 1s 5ms/step - loss: 4.6093 - accuracy: 0.1729 - val_loss: 2.7067 - val_accuracy: 0.1932\n",
            "Epoch 407/500\n",
            "104/104 [==============================] - 1s 5ms/step - loss: 4.6701 - accuracy: 0.1663 - val_loss: 2.7066 - val_accuracy: 0.1932\n",
            "Epoch 408/500\n",
            "104/104 [==============================] - 1s 5ms/step - loss: 4.8862 - accuracy: 0.1584 - val_loss: 2.7063 - val_accuracy: 0.1932\n",
            "Epoch 409/500\n",
            "104/104 [==============================] - 1s 6ms/step - loss: 4.6653 - accuracy: 0.1620 - val_loss: 2.7066 - val_accuracy: 0.1932\n",
            "Epoch 410/500\n",
            "104/104 [==============================] - 1s 5ms/step - loss: 4.5891 - accuracy: 0.1693 - val_loss: 2.7065 - val_accuracy: 0.1932\n",
            "Epoch 411/500\n",
            "104/104 [==============================] - 1s 6ms/step - loss: 4.6130 - accuracy: 0.1784 - val_loss: 2.7062 - val_accuracy: 0.1932\n",
            "Epoch 412/500\n",
            "104/104 [==============================] - 1s 5ms/step - loss: 4.6953 - accuracy: 0.1584 - val_loss: 2.7057 - val_accuracy: 0.1932\n",
            "Epoch 413/500\n",
            "104/104 [==============================] - 1s 5ms/step - loss: 4.5590 - accuracy: 0.1898 - val_loss: 2.7052 - val_accuracy: 0.1932\n",
            "Epoch 414/500\n",
            "104/104 [==============================] - 1s 5ms/step - loss: 4.5543 - accuracy: 0.1753 - val_loss: 2.7050 - val_accuracy: 0.1932\n",
            "Epoch 415/500\n",
            "104/104 [==============================] - 1s 6ms/step - loss: 4.6811 - accuracy: 0.1784 - val_loss: 2.7049 - val_accuracy: 0.1932\n",
            "Epoch 416/500\n",
            "104/104 [==============================] - 1s 5ms/step - loss: 4.6093 - accuracy: 0.1717 - val_loss: 2.7046 - val_accuracy: 0.1932\n",
            "Epoch 417/500\n",
            "104/104 [==============================] - 1s 5ms/step - loss: 4.5627 - accuracy: 0.1771 - val_loss: 2.7043 - val_accuracy: 0.1932\n",
            "Epoch 418/500\n",
            "104/104 [==============================] - 1s 5ms/step - loss: 4.6261 - accuracy: 0.1808 - val_loss: 2.7042 - val_accuracy: 0.1932\n",
            "Epoch 419/500\n",
            "104/104 [==============================] - 1s 5ms/step - loss: 4.7242 - accuracy: 0.1693 - val_loss: 2.7040 - val_accuracy: 0.1932\n",
            "Epoch 420/500\n",
            "104/104 [==============================] - 1s 5ms/step - loss: 4.6963 - accuracy: 0.1747 - val_loss: 2.7038 - val_accuracy: 0.1932\n",
            "Epoch 421/500\n",
            "104/104 [==============================] - 1s 5ms/step - loss: 4.5487 - accuracy: 0.1572 - val_loss: 2.7038 - val_accuracy: 0.1932\n",
            "Epoch 422/500\n",
            "104/104 [==============================] - 1s 5ms/step - loss: 4.7832 - accuracy: 0.1505 - val_loss: 2.7033 - val_accuracy: 0.1932\n",
            "Epoch 423/500\n",
            "104/104 [==============================] - 1s 6ms/step - loss: 4.5904 - accuracy: 0.1826 - val_loss: 2.7030 - val_accuracy: 0.1932\n",
            "Epoch 424/500\n",
            "104/104 [==============================] - 1s 6ms/step - loss: 4.6215 - accuracy: 0.1723 - val_loss: 2.7025 - val_accuracy: 0.1932\n",
            "Epoch 425/500\n",
            "104/104 [==============================] - 1s 6ms/step - loss: 4.7515 - accuracy: 0.1590 - val_loss: 2.7025 - val_accuracy: 0.1932\n",
            "Epoch 426/500\n",
            "104/104 [==============================] - 1s 6ms/step - loss: 4.8338 - accuracy: 0.1596 - val_loss: 2.7023 - val_accuracy: 0.1932\n",
            "Epoch 427/500\n",
            "104/104 [==============================] - 1s 6ms/step - loss: 4.6333 - accuracy: 0.1778 - val_loss: 2.7019 - val_accuracy: 0.1932\n",
            "Epoch 428/500\n",
            "104/104 [==============================] - 1s 6ms/step - loss: 4.6901 - accuracy: 0.1687 - val_loss: 2.7018 - val_accuracy: 0.1932\n",
            "Epoch 429/500\n",
            "104/104 [==============================] - 1s 5ms/step - loss: 4.6745 - accuracy: 0.1844 - val_loss: 2.7018 - val_accuracy: 0.1932\n",
            "Epoch 430/500\n",
            "104/104 [==============================] - 1s 5ms/step - loss: 4.6329 - accuracy: 0.1765 - val_loss: 2.7013 - val_accuracy: 0.1932\n",
            "Epoch 431/500\n",
            "104/104 [==============================] - 1s 5ms/step - loss: 4.5999 - accuracy: 0.1711 - val_loss: 2.7015 - val_accuracy: 0.1932\n",
            "Epoch 432/500\n",
            "104/104 [==============================] - 1s 6ms/step - loss: 4.5696 - accuracy: 0.1705 - val_loss: 2.7011 - val_accuracy: 0.1932\n",
            "Epoch 433/500\n",
            "104/104 [==============================] - 1s 5ms/step - loss: 4.6207 - accuracy: 0.1620 - val_loss: 2.7008 - val_accuracy: 0.1932\n",
            "Epoch 434/500\n",
            "104/104 [==============================] - 1s 5ms/step - loss: 4.5888 - accuracy: 0.1844 - val_loss: 2.7008 - val_accuracy: 0.1932\n",
            "Epoch 435/500\n",
            "104/104 [==============================] - 1s 5ms/step - loss: 4.8891 - accuracy: 0.1566 - val_loss: 2.7004 - val_accuracy: 0.1932\n",
            "Epoch 436/500\n",
            "104/104 [==============================] - 1s 5ms/step - loss: 4.7169 - accuracy: 0.1693 - val_loss: 2.7001 - val_accuracy: 0.1932\n",
            "Epoch 437/500\n",
            "104/104 [==============================] - 1s 5ms/step - loss: 4.6679 - accuracy: 0.1536 - val_loss: 2.7000 - val_accuracy: 0.1932\n",
            "Epoch 438/500\n",
            "104/104 [==============================] - 1s 5ms/step - loss: 4.5830 - accuracy: 0.1759 - val_loss: 2.6996 - val_accuracy: 0.1932\n",
            "Epoch 439/500\n",
            "104/104 [==============================] - 1s 5ms/step - loss: 4.6571 - accuracy: 0.1929 - val_loss: 2.6992 - val_accuracy: 0.1932\n",
            "Epoch 440/500\n",
            "104/104 [==============================] - 1s 5ms/step - loss: 4.5410 - accuracy: 0.1844 - val_loss: 2.6988 - val_accuracy: 0.1932\n",
            "Epoch 441/500\n",
            "104/104 [==============================] - 1s 5ms/step - loss: 4.7216 - accuracy: 0.1651 - val_loss: 2.6981 - val_accuracy: 0.1932\n",
            "Epoch 442/500\n",
            "104/104 [==============================] - 1s 5ms/step - loss: 4.7256 - accuracy: 0.1735 - val_loss: 2.6979 - val_accuracy: 0.1932\n",
            "Epoch 443/500\n",
            "104/104 [==============================] - 1s 5ms/step - loss: 4.5325 - accuracy: 0.1796 - val_loss: 2.6974 - val_accuracy: 0.1932\n",
            "Epoch 444/500\n",
            "104/104 [==============================] - 1s 5ms/step - loss: 4.6995 - accuracy: 0.1578 - val_loss: 2.6971 - val_accuracy: 0.1932\n",
            "Epoch 445/500\n",
            "104/104 [==============================] - 1s 5ms/step - loss: 4.9002 - accuracy: 0.1409 - val_loss: 2.6970 - val_accuracy: 0.1932\n",
            "Epoch 446/500\n",
            "104/104 [==============================] - 1s 5ms/step - loss: 4.7066 - accuracy: 0.1657 - val_loss: 2.6965 - val_accuracy: 0.1932\n",
            "Epoch 447/500\n",
            "104/104 [==============================] - 1s 6ms/step - loss: 4.7840 - accuracy: 0.1632 - val_loss: 2.6967 - val_accuracy: 0.1932\n",
            "Epoch 448/500\n",
            "104/104 [==============================] - 1s 6ms/step - loss: 4.6448 - accuracy: 0.1705 - val_loss: 2.6965 - val_accuracy: 0.1932\n",
            "Epoch 449/500\n",
            "104/104 [==============================] - 1s 5ms/step - loss: 4.5897 - accuracy: 0.1898 - val_loss: 2.6958 - val_accuracy: 0.1932\n",
            "Epoch 450/500\n",
            "104/104 [==============================] - 1s 5ms/step - loss: 4.6303 - accuracy: 0.1723 - val_loss: 2.6955 - val_accuracy: 0.1932\n",
            "Epoch 451/500\n",
            "104/104 [==============================] - 1s 6ms/step - loss: 4.6795 - accuracy: 0.1590 - val_loss: 2.6950 - val_accuracy: 0.1932\n",
            "Epoch 452/500\n",
            "104/104 [==============================] - 1s 6ms/step - loss: 4.6735 - accuracy: 0.1687 - val_loss: 2.6947 - val_accuracy: 0.1932\n",
            "Epoch 453/500\n",
            "104/104 [==============================] - 1s 5ms/step - loss: 4.6943 - accuracy: 0.1796 - val_loss: 2.6941 - val_accuracy: 0.1932\n",
            "Epoch 454/500\n",
            "104/104 [==============================] - 1s 6ms/step - loss: 4.5213 - accuracy: 0.1717 - val_loss: 2.6943 - val_accuracy: 0.1932\n",
            "Epoch 455/500\n",
            "104/104 [==============================] - 1s 6ms/step - loss: 4.7080 - accuracy: 0.1753 - val_loss: 2.6943 - val_accuracy: 0.1932\n",
            "Epoch 456/500\n",
            "104/104 [==============================] - 1s 5ms/step - loss: 4.5562 - accuracy: 0.1808 - val_loss: 2.6940 - val_accuracy: 0.1932\n",
            "Epoch 457/500\n",
            "104/104 [==============================] - 1s 6ms/step - loss: 4.6437 - accuracy: 0.1578 - val_loss: 2.6939 - val_accuracy: 0.1932\n",
            "Epoch 458/500\n",
            "104/104 [==============================] - 1s 6ms/step - loss: 4.6450 - accuracy: 0.1602 - val_loss: 2.6941 - val_accuracy: 0.1932\n",
            "Epoch 459/500\n",
            "104/104 [==============================] - 1s 6ms/step - loss: 4.6621 - accuracy: 0.1693 - val_loss: 2.6936 - val_accuracy: 0.1932\n",
            "Epoch 460/500\n",
            "104/104 [==============================] - 1s 5ms/step - loss: 4.7549 - accuracy: 0.1518 - val_loss: 2.6932 - val_accuracy: 0.1932\n",
            "Epoch 461/500\n",
            "104/104 [==============================] - 1s 5ms/step - loss: 4.5294 - accuracy: 0.1856 - val_loss: 2.6931 - val_accuracy: 0.1932\n",
            "Epoch 462/500\n",
            "104/104 [==============================] - 1s 6ms/step - loss: 4.6917 - accuracy: 0.1602 - val_loss: 2.6931 - val_accuracy: 0.1932\n",
            "Epoch 463/500\n",
            "104/104 [==============================] - 1s 5ms/step - loss: 4.5251 - accuracy: 0.1790 - val_loss: 2.6928 - val_accuracy: 0.1932\n",
            "Epoch 464/500\n",
            "104/104 [==============================] - 1s 6ms/step - loss: 4.5863 - accuracy: 0.1651 - val_loss: 2.6926 - val_accuracy: 0.1932\n",
            "Epoch 465/500\n",
            "104/104 [==============================] - 1s 6ms/step - loss: 4.8490 - accuracy: 0.1433 - val_loss: 2.6923 - val_accuracy: 0.1932\n",
            "Epoch 466/500\n",
            "104/104 [==============================] - 1s 6ms/step - loss: 4.7376 - accuracy: 0.1663 - val_loss: 2.6921 - val_accuracy: 0.1932\n",
            "Epoch 467/500\n",
            "104/104 [==============================] - 1s 5ms/step - loss: 4.4976 - accuracy: 0.1832 - val_loss: 2.6918 - val_accuracy: 0.1932\n",
            "Epoch 468/500\n",
            "104/104 [==============================] - 1s 5ms/step - loss: 4.5064 - accuracy: 0.1832 - val_loss: 2.6918 - val_accuracy: 0.1932\n",
            "Epoch 469/500\n",
            "104/104 [==============================] - 1s 5ms/step - loss: 4.6580 - accuracy: 0.1723 - val_loss: 2.6918 - val_accuracy: 0.1932\n",
            "Epoch 470/500\n",
            "104/104 [==============================] - 1s 5ms/step - loss: 4.7242 - accuracy: 0.1614 - val_loss: 2.6919 - val_accuracy: 0.1932\n",
            "Epoch 471/500\n",
            "104/104 [==============================] - 1s 5ms/step - loss: 4.6439 - accuracy: 0.1753 - val_loss: 2.6916 - val_accuracy: 0.1932\n",
            "Epoch 472/500\n",
            "104/104 [==============================] - 1s 5ms/step - loss: 4.5705 - accuracy: 0.1838 - val_loss: 2.6913 - val_accuracy: 0.1932\n",
            "Epoch 473/500\n",
            "104/104 [==============================] - 1s 6ms/step - loss: 4.6302 - accuracy: 0.1632 - val_loss: 2.6913 - val_accuracy: 0.1932\n",
            "Epoch 474/500\n",
            "104/104 [==============================] - 1s 5ms/step - loss: 4.6537 - accuracy: 0.1590 - val_loss: 2.6911 - val_accuracy: 0.1932\n",
            "Epoch 475/500\n",
            "104/104 [==============================] - 1s 5ms/step - loss: 4.4860 - accuracy: 0.1753 - val_loss: 2.6909 - val_accuracy: 0.1932\n",
            "Epoch 476/500\n",
            "104/104 [==============================] - 1s 5ms/step - loss: 4.6305 - accuracy: 0.1826 - val_loss: 2.6907 - val_accuracy: 0.1932\n",
            "Epoch 477/500\n",
            "104/104 [==============================] - 1s 5ms/step - loss: 4.7514 - accuracy: 0.1687 - val_loss: 2.6904 - val_accuracy: 0.1932\n",
            "Epoch 478/500\n",
            "104/104 [==============================] - 1s 5ms/step - loss: 4.7045 - accuracy: 0.1868 - val_loss: 2.6903 - val_accuracy: 0.1932\n",
            "Epoch 479/500\n",
            "104/104 [==============================] - 1s 5ms/step - loss: 4.5442 - accuracy: 0.1711 - val_loss: 2.6900 - val_accuracy: 0.1932\n",
            "Epoch 480/500\n",
            "104/104 [==============================] - 1s 5ms/step - loss: 4.7432 - accuracy: 0.1560 - val_loss: 2.6901 - val_accuracy: 0.1932\n",
            "Epoch 481/500\n",
            "104/104 [==============================] - 1s 5ms/step - loss: 4.6691 - accuracy: 0.1578 - val_loss: 2.6895 - val_accuracy: 0.1932\n",
            "Epoch 482/500\n",
            "104/104 [==============================] - 1s 6ms/step - loss: 4.7254 - accuracy: 0.1705 - val_loss: 2.6891 - val_accuracy: 0.1932\n",
            "Epoch 483/500\n",
            "104/104 [==============================] - 1s 6ms/step - loss: 4.6150 - accuracy: 0.1669 - val_loss: 2.6886 - val_accuracy: 0.1932\n",
            "Epoch 484/500\n",
            "104/104 [==============================] - 1s 6ms/step - loss: 4.5866 - accuracy: 0.1790 - val_loss: 2.6883 - val_accuracy: 0.1932\n",
            "Epoch 485/500\n",
            "104/104 [==============================] - 1s 6ms/step - loss: 4.7226 - accuracy: 0.1608 - val_loss: 2.6881 - val_accuracy: 0.1932\n",
            "Epoch 486/500\n",
            "104/104 [==============================] - 1s 6ms/step - loss: 4.5421 - accuracy: 0.1784 - val_loss: 2.6878 - val_accuracy: 0.1932\n",
            "Epoch 487/500\n",
            "104/104 [==============================] - 1s 5ms/step - loss: 4.7385 - accuracy: 0.1578 - val_loss: 2.6874 - val_accuracy: 0.1932\n",
            "Epoch 488/500\n",
            "104/104 [==============================] - 1s 5ms/step - loss: 4.4804 - accuracy: 0.1784 - val_loss: 2.6874 - val_accuracy: 0.1932\n",
            "Epoch 489/500\n",
            "104/104 [==============================] - 1s 5ms/step - loss: 4.7853 - accuracy: 0.1602 - val_loss: 2.6875 - val_accuracy: 0.1932\n",
            "Epoch 490/500\n",
            "104/104 [==============================] - 1s 5ms/step - loss: 4.6053 - accuracy: 0.1765 - val_loss: 2.6870 - val_accuracy: 0.1932\n",
            "Epoch 491/500\n",
            "104/104 [==============================] - 1s 6ms/step - loss: 4.6153 - accuracy: 0.1669 - val_loss: 2.6870 - val_accuracy: 0.1932\n",
            "Epoch 492/500\n",
            "104/104 [==============================] - 1s 6ms/step - loss: 4.5633 - accuracy: 0.1687 - val_loss: 2.6869 - val_accuracy: 0.1932\n",
            "Epoch 493/500\n",
            "104/104 [==============================] - 1s 5ms/step - loss: 4.6237 - accuracy: 0.1850 - val_loss: 2.6863 - val_accuracy: 0.1932\n",
            "Epoch 494/500\n",
            "104/104 [==============================] - 1s 6ms/step - loss: 4.5051 - accuracy: 0.1778 - val_loss: 2.6860 - val_accuracy: 0.1932\n",
            "Epoch 495/500\n",
            "104/104 [==============================] - 1s 6ms/step - loss: 4.5543 - accuracy: 0.1741 - val_loss: 2.6856 - val_accuracy: 0.1932\n",
            "Epoch 496/500\n",
            "104/104 [==============================] - 1s 5ms/step - loss: 4.4928 - accuracy: 0.1886 - val_loss: 2.6856 - val_accuracy: 0.1932\n",
            "Epoch 497/500\n",
            "104/104 [==============================] - 1s 5ms/step - loss: 4.6218 - accuracy: 0.1850 - val_loss: 2.6855 - val_accuracy: 0.1932\n",
            "Epoch 498/500\n",
            "104/104 [==============================] - 1s 5ms/step - loss: 4.5632 - accuracy: 0.1771 - val_loss: 2.6856 - val_accuracy: 0.1932\n",
            "Epoch 499/500\n",
            "104/104 [==============================] - 1s 5ms/step - loss: 4.8014 - accuracy: 0.1638 - val_loss: 2.6854 - val_accuracy: 0.1932\n",
            "Epoch 500/500\n",
            "104/104 [==============================] - 1s 5ms/step - loss: 4.6263 - accuracy: 0.1814 - val_loss: 2.6854 - val_accuracy: 0.1932\n"
          ]
        }
      ]
    },
    {
      "cell_type": "code",
      "source": [
        "plt.plot(cnnhistory.history['loss'])\n",
        "plt.plot(cnnhistory.history['val_loss'])\n",
        "plt.title('model loss')\n",
        "plt.ylabel('loss')\n",
        "plt.xlabel('epoch')\n",
        "plt.legend(['train','test'], loc='upper left')\n",
        "plt.show()"
      ],
      "metadata": {
        "colab": {
          "base_uri": "https://localhost:8080/",
          "height": 295
        },
        "id": "oQYnuaCrDH_A",
        "outputId": "142c8faf-16f4-4e5a-d812-c54370833f2b"
      },
      "execution_count": 11,
      "outputs": [
        {
          "output_type": "display_data",
          "data": {
            "text/plain": [
              "<Figure size 432x288 with 1 Axes>"
            ],
            "image/png": "[encoded data removed]"
          },
          "metadata": {
            "needs_background": "light"
          }
        }
      ]
    },
    {
      "cell_type": "code",
      "source": [
        "plt.plot(cnnhistory.history['accuracy'])\n",
        "plt.plot(cnnhistory.history['val_accuracy'])\n",
        "plt.title('model accuracy')\n",
        "plt.ylabel('accuracy')\n",
        "plt.xlabel('epoch')\n",
        "plt.legend(['train','test'], loc='upper left')\n",
        "plt.show()"
      ],
      "metadata": {
        "colab": {
          "base_uri": "https://localhost:8080/",
          "height": 295
        },
        "id": "IFkTuO8nDNdq",
        "outputId": "75ea048a-b33f-46ac-a7c6-12d0420e683a"
      },
      "execution_count": 12,
      "outputs": [
        {
          "output_type": "display_data",
          "data": {
            "text/plain": [
              "<Figure size 432x288 with 1 Axes>"
            ],
            "image/png": "[encoded data removed]"
          },
          "metadata": {
            "needs_background": "light"
          }
        }
      ]
    },
    {
      "cell_type": "code",
      "source": [
        "predictions = model.predict(x_testcnn)"
      ],
      "metadata": {
        "id": "A2xtrN5wDQgY"
      },
      "execution_count": 13,
      "outputs": []
    },
    {
      "cell_type": "code",
      "source": [
        "predictions"
      ],
      "metadata": {
        "colab": {
          "base_uri": "https://localhost:8080/"
        },
        "id": "_f_ohjXKDUpY",
        "outputId": "b72ffb66-18f3-4fd3-e360-6ff1f8681d28"
      },
      "execution_count": 14,
      "outputs": [
        {
          "output_type": "execute_result",
          "data": {
            "text/plain": [
              "array([[0.11360645, 0.08592346, 0.03330169, 0.7112366 , 0.04466781,\n",
              "        0.01126409],\n",
              "       [0.1298412 , 0.08880243, 0.03380957, 0.6936311 , 0.04542244,\n",
              "        0.00849331],\n",
              "       [0.10578606, 0.06820837, 0.0215126 , 0.77499074, 0.02498493,\n",
              "        0.00451741],\n",
              "       ...,\n",
              "       [0.17174102, 0.05228438, 0.04715325, 0.6607394 , 0.03412047,\n",
              "        0.03396149],\n",
              "       [0.17252716, 0.03588425, 0.03824236, 0.7049429 , 0.02428469,\n",
              "        0.02411864],\n",
              "       [0.17273381, 0.06523   , 0.06434043, 0.6067833 , 0.05524015,\n",
              "        0.03567235]], dtype=float32)"
            ]
          },
          "metadata": {},
          "execution_count": 14
        }
      ]
    },
    {
      "cell_type": "code",
      "source": [
        "y_test"
      ],
      "metadata": {
        "colab": {
          "base_uri": "https://localhost:8080/"
        },
        "id": "cmA2bFgsDW3D",
        "outputId": "9f20b127-e2d6-491b-9ab0-1fff4350e12f"
      },
      "execution_count": 15,
      "outputs": [
        {
          "output_type": "execute_result",
          "data": {
            "text/plain": [
              "array([3, 3, 3, 0, 4, 4, 1, 2, 5, 0, 5, 3, 2, 2, 1, 4, 4, 5, 2, 4, 1, 2,\n",
              "       3, 5, 4, 2, 1, 2, 2, 2, 2, 5, 2, 5, 3, 1, 2, 0, 4, 5, 2, 3, 2, 2,\n",
              "       5, 2, 0, 1, 3, 4, 4, 5, 1, 1, 4, 4, 5, 1, 1, 1, 0, 1, 5, 0, 4, 1,\n",
              "       1, 0, 1, 4, 1, 0, 4, 1, 3, 1, 2, 2, 1, 2, 3, 0, 5, 3, 5, 5, 2, 4,\n",
              "       5, 1, 5, 1, 5, 3, 4, 1, 4, 1, 5, 4, 5, 1, 2, 1, 1, 5, 1, 3, 2, 5,\n",
              "       2, 1, 3, 5, 4, 4, 0, 0, 3, 1, 2, 2, 3, 5, 1, 5, 3, 4, 2, 2, 0, 2,\n",
              "       2, 5, 5, 0, 3, 3, 2, 2, 0, 3, 4, 0, 4, 2, 4, 5, 4, 1, 5, 3, 2, 2,\n",
              "       5, 4, 3, 3, 4, 3, 3, 4, 1, 5, 2, 3, 2, 2, 0, 2, 1, 3, 1, 2, 2, 5,\n",
              "       5, 1, 4, 2, 2, 1, 1, 3, 3, 5, 5, 2, 5, 1, 5, 0, 3, 3, 0, 5, 1, 4,\n",
              "       1, 4, 2, 5, 5, 1, 4, 2, 4])"
            ]
          },
          "metadata": {},
          "execution_count": 15
        }
      ]
    },
    {
      "cell_type": "code",
      "source": [
        "new_Ytest = y_test.astype(int)"
      ],
      "metadata": {
        "id": "0PHDKWJWDY3g"
      },
      "execution_count": 16,
      "outputs": []
    },
    {
      "cell_type": "code",
      "source": [
        "new_Ytest"
      ],
      "metadata": {
        "colab": {
          "base_uri": "https://localhost:8080/"
        },
        "id": "k68v2i-pDbZE",
        "outputId": "61e392c3-c108-48b9-b37b-31f0970df40b"
      },
      "execution_count": 17,
      "outputs": [
        {
          "output_type": "execute_result",
          "data": {
            "text/plain": [
              "array([3, 3, 3, 0, 4, 4, 1, 2, 5, 0, 5, 3, 2, 2, 1, 4, 4, 5, 2, 4, 1, 2,\n",
              "       3, 5, 4, 2, 1, 2, 2, 2, 2, 5, 2, 5, 3, 1, 2, 0, 4, 5, 2, 3, 2, 2,\n",
              "       5, 2, 0, 1, 3, 4, 4, 5, 1, 1, 4, 4, 5, 1, 1, 1, 0, 1, 5, 0, 4, 1,\n",
              "       1, 0, 1, 4, 1, 0, 4, 1, 3, 1, 2, 2, 1, 2, 3, 0, 5, 3, 5, 5, 2, 4,\n",
              "       5, 1, 5, 1, 5, 3, 4, 1, 4, 1, 5, 4, 5, 1, 2, 1, 1, 5, 1, 3, 2, 5,\n",
              "       2, 1, 3, 5, 4, 4, 0, 0, 3, 1, 2, 2, 3, 5, 1, 5, 3, 4, 2, 2, 0, 2,\n",
              "       2, 5, 5, 0, 3, 3, 2, 2, 0, 3, 4, 0, 4, 2, 4, 5, 4, 1, 5, 3, 2, 2,\n",
              "       5, 4, 3, 3, 4, 3, 3, 4, 1, 5, 2, 3, 2, 2, 0, 2, 1, 3, 1, 2, 2, 5,\n",
              "       5, 1, 4, 2, 2, 1, 1, 3, 3, 5, 5, 2, 5, 1, 5, 0, 3, 3, 0, 5, 1, 4,\n",
              "       1, 4, 2, 5, 5, 1, 4, 2, 4])"
            ]
          },
          "metadata": {},
          "execution_count": 17
        }
      ]
    },
    {
      "cell_type": "code",
      "source": [
        "preds1=predictions.argmax(axis=1)\n",
        "preds1"
      ],
      "metadata": {
        "colab": {
          "base_uri": "https://localhost:8080/"
        },
        "id": "4_cAI39VFhtp",
        "outputId": "456345ed-04a1-4a9e-fa21-412d2f9a1df6"
      },
      "execution_count": 18,
      "outputs": [
        {
          "output_type": "execute_result",
          "data": {
            "text/plain": [
              "array([3, 3, 3, 3, 3, 3, 3, 3, 3, 3, 3, 3, 3, 3, 3, 3, 3, 3, 3, 3, 3, 3,\n",
              "       3, 3, 3, 3, 3, 3, 3, 3, 3, 3, 3, 3, 3, 3, 3, 3, 3, 3, 3, 3, 3, 3,\n",
              "       3, 3, 3, 3, 3, 3, 3, 3, 3, 3, 3, 3, 3, 3, 3, 3, 3, 3, 3, 3, 3, 3,\n",
              "       3, 3, 3, 3, 3, 3, 3, 3, 3, 3, 3, 3, 3, 3, 3, 3, 3, 3, 3, 3, 3, 3,\n",
              "       3, 3, 3, 3, 3, 3, 3, 3, 3, 3, 3, 3, 3, 3, 3, 3, 3, 3, 3, 3, 3, 3,\n",
              "       3, 3, 3, 3, 3, 3, 3, 3, 3, 3, 3, 3, 3, 3, 3, 3, 3, 3, 3, 3, 3, 3,\n",
              "       3, 3, 3, 3, 3, 3, 3, 3, 3, 3, 3, 3, 3, 3, 3, 3, 3, 3, 3, 3, 3, 3,\n",
              "       3, 3, 3, 3, 3, 3, 3, 3, 3, 3, 3, 3, 3, 3, 3, 3, 3, 3, 3, 3, 3, 3,\n",
              "       3, 3, 3, 3, 3, 3, 3, 3, 3, 3, 3, 3, 3, 3, 3, 3, 3, 3, 3, 3, 3, 3,\n",
              "       3, 3, 3, 3, 3, 3, 3, 3, 3])"
            ]
          },
          "metadata": {},
          "execution_count": 18
        }
      ]
    },
    {
      "cell_type": "code",
      "source": [
        "abc = preds1.astype(int).flatten()"
      ],
      "metadata": {
        "id": "H4WEmM60NfQn"
      },
      "execution_count": 19,
      "outputs": []
    },
    {
      "cell_type": "code",
      "source": [
        "from sklearn.metrics import confusion_matrix\n",
        "c = confusion_matrix(new_Ytest, abc) \n",
        "c"
      ],
      "metadata": {
        "colab": {
          "base_uri": "https://localhost:8080/"
        },
        "id": "bKEBeEBlFjB8",
        "outputId": "f88466ce-dca0-4298-c213-d313f81ddf88"
      },
      "execution_count": 20,
      "outputs": [
        {
          "output_type": "execute_result",
          "data": {
            "text/plain": [
              "array([[ 0,  0,  0, 18,  0,  0],\n",
              "       [ 0,  0,  0, 41,  0,  0],\n",
              "       [ 0,  0,  0, 45,  0,  0],\n",
              "       [ 0,  0,  0, 31,  0,  0],\n",
              "       [ 0,  0,  0, 33,  0,  0],\n",
              "       [ 0,  0,  0, 39,  0,  0]])"
            ]
          },
          "metadata": {},
          "execution_count": 20
        }
      ]
    },
    {
      "cell_type": "code",
      "source": [
        "y_test"
      ],
      "metadata": {
        "colab": {
          "base_uri": "https://localhost:8080/"
        },
        "id": "m4RjG7LWLSQx",
        "outputId": "863496d4-8ab8-4b3c-ff00-c685132d73fc"
      },
      "execution_count": 21,
      "outputs": [
        {
          "output_type": "execute_result",
          "data": {
            "text/plain": [
              "array([3, 3, 3, 0, 4, 4, 1, 2, 5, 0, 5, 3, 2, 2, 1, 4, 4, 5, 2, 4, 1, 2,\n",
              "       3, 5, 4, 2, 1, 2, 2, 2, 2, 5, 2, 5, 3, 1, 2, 0, 4, 5, 2, 3, 2, 2,\n",
              "       5, 2, 0, 1, 3, 4, 4, 5, 1, 1, 4, 4, 5, 1, 1, 1, 0, 1, 5, 0, 4, 1,\n",
              "       1, 0, 1, 4, 1, 0, 4, 1, 3, 1, 2, 2, 1, 2, 3, 0, 5, 3, 5, 5, 2, 4,\n",
              "       5, 1, 5, 1, 5, 3, 4, 1, 4, 1, 5, 4, 5, 1, 2, 1, 1, 5, 1, 3, 2, 5,\n",
              "       2, 1, 3, 5, 4, 4, 0, 0, 3, 1, 2, 2, 3, 5, 1, 5, 3, 4, 2, 2, 0, 2,\n",
              "       2, 5, 5, 0, 3, 3, 2, 2, 0, 3, 4, 0, 4, 2, 4, 5, 4, 1, 5, 3, 2, 2,\n",
              "       5, 4, 3, 3, 4, 3, 3, 4, 1, 5, 2, 3, 2, 2, 0, 2, 1, 3, 1, 2, 2, 5,\n",
              "       5, 1, 4, 2, 2, 1, 1, 3, 3, 5, 5, 2, 5, 1, 5, 0, 3, 3, 0, 5, 1, 4,\n",
              "       1, 4, 2, 5, 5, 1, 4, 2, 4])"
            ]
          },
          "metadata": {},
          "execution_count": 21
        }
      ]
    },
    {
      "cell_type": "code",
      "source": [
        "model.save('/content/drive/My Drive/graduation project/audio/paper_code/mariam/original_500 epoch_with_valid_Adam2_3')\n",
        "print(\"MODEL SAVED\")"
      ],
      "metadata": {
        "colab": {
          "base_uri": "https://localhost:8080/"
        },
        "id": "lsJBNeMWDl6Z",
        "outputId": "ed96267e-046d-45db-d259-833819b1e6f2"
      },
      "execution_count": null,
      "outputs": [
        {
          "output_type": "stream",
          "name": "stdout",
          "text": [
            "INFO:tensorflow:Assets written to: /content/drive/My Drive/graduation project/audio/paper_code/mariam/original_500 epoch_with_valid_Adam2_3/assets\n",
            "MODEL SAVED\n"
          ]
        }
      ]
    },
    {
      "cell_type": "code",
      "source": [
        "new_model=keras.models.load_model('/content/drive/My Drive/graduation project/audio/paper_code/mariam/original_500 epoch_with_valid_Adam2_3')\n",
        "new_model.summary()"
      ],
      "metadata": {
        "colab": {
          "base_uri": "https://localhost:8080/"
        },
        "id": "Q3KjaO9GDoNl",
        "outputId": "b509c41b-32e6-434b-f23d-4c04a29eb7c5"
      },
      "execution_count": null,
      "outputs": [
        {
          "output_type": "stream",
          "name": "stdout",
          "text": [
            "Model: \"sequential\"\n",
            "_________________________________________________________________\n",
            " Layer (type)                Output Shape              Param #   \n",
            "=================================================================\n",
            " conv1d (Conv1D)             (None, 40, 128)           1152      \n",
            "                                                                 \n",
            " activation (Activation)     (None, 40, 128)           0         \n",
            "                                                                 \n",
            " dropout (Dropout)           (None, 40, 128)           0         \n",
            "                                                                 \n",
            " max_pooling1d (MaxPooling1D  (None, 8, 128)           0         \n",
            " )                                                               \n",
            "                                                                 \n",
            " conv1d_1 (Conv1D)           (None, 8, 256)            262400    \n",
            "                                                                 \n",
            " activation_1 (Activation)   (None, 8, 256)            0         \n",
            "                                                                 \n",
            " dropout_1 (Dropout)         (None, 8, 256)            0         \n",
            "                                                                 \n",
            " max_pooling1d_1 (MaxPooling  (None, 1, 256)           0         \n",
            " 1D)                                                             \n",
            "                                                                 \n",
            " flatten (Flatten)           (None, 256)               0         \n",
            "                                                                 \n",
            " dense (Dense)               (None, 256)               65792     \n",
            "                                                                 \n",
            " activation_2 (Activation)   (None, 256)               0         \n",
            "                                                                 \n",
            " dense_1 (Dense)             (None, 256)               65792     \n",
            "                                                                 \n",
            " activation_3 (Activation)   (None, 256)               0         \n",
            "                                                                 \n",
            " dense_2 (Dense)             (None, 6)                 1542      \n",
            "                                                                 \n",
            " activation_4 (Activation)   (None, 6)                 0         \n",
            "                                                                 \n",
            "=================================================================\n",
            "Total params: 396,678\n",
            "Trainable params: 396,678\n",
            "Non-trainable params: 0\n",
            "_________________________________________________________________\n"
          ]
        }
      ]
    },
    {
      "cell_type": "code",
      "source": [
        "loss, acc =model.evaluate(x_testcnn, y_test)\n",
        "print(\"Restored model, accuracy: {:5.2f}%\".format(100*acc))"
      ],
      "metadata": {
        "colab": {
          "base_uri": "https://localhost:8080/"
        },
        "id": "n3kzoqPkDqqS",
        "outputId": "f4877b87-c9fd-484f-d339-876e01979bc2"
      },
      "execution_count": 22,
      "outputs": [
        {
          "output_type": "stream",
          "name": "stdout",
          "text": [
            "7/7 [==============================] - 0s 3ms/step - loss: 2.7893 - accuracy: 0.1498\n",
            "Restored model, accuracy: 14.98%\n"
          ]
        }
      ]
    },
    {
      "cell_type": "code",
      "source": [
        "loss, acc =model.evaluate(X_train, y_train)\n",
        "print(\"Restored model train, accuracy: {:5.2f}%\".format(100*acc))"
      ],
      "metadata": {
        "id": "fJDTGH_OUX0z",
        "colab": {
          "base_uri": "https://localhost:8080/"
        },
        "outputId": "fdd952f4-fac7-470e-aebb-2332a6835bfb"
      },
      "execution_count": 23,
      "outputs": [
        {
          "output_type": "stream",
          "name": "stdout",
          "text": [
            "52/52 [==============================] - 0s 4ms/step - loss: 2.7010 - accuracy: 0.1844\n",
            "Restored model train, accuracy: 18.44%\n"
          ]
        }
      ]
    },
    {
      "cell_type": "code",
      "source": [
        "from sklearn.metrics import classification_report, confusion_matrix,accuracy_score\n",
        "import seaborn as sn\n",
        "\n",
        "print(classification_report(new_Ytest,abc))\n",
        "\n",
        "acc = float(accuracy_score(new_Ytest,abc))*100\n",
        "print(\"----accuracy score %s ----\" % acc)\n",
        "\n",
        "cm = confusion_matrix(new_Ytest,abc)\n",
        "#df_cm = pd.DataFrame(cm)\n",
        "class_names = ['neutral','calm', 'happy','sad','angry', 'fearful' ]\n",
        "df_cm = pd.DataFrame(cm, index=class_names, columns=class_names,)\n",
        "sn.heatmap(df_cm, annot=True, fmt='')\n",
        "plt.show()"
      ],
      "metadata": {
        "colab": {
          "base_uri": "https://localhost:8080/",
          "height": 720
        },
        "id": "SfSC3El94LZg",
        "outputId": "30f35590-28c3-407c-bfb1-5da2b5340174"
      },
      "execution_count": 24,
      "outputs": [
        {
          "output_type": "stream",
          "name": "stderr",
          "text": [
            "/usr/local/lib/python3.7/dist-packages/sklearn/metrics/_classification.py:1318: UndefinedMetricWarning:\n",
            "\n",
            "Precision and F-score are ill-defined and being set to 0.0 in labels with no predicted samples. Use `zero_division` parameter to control this behavior.\n",
            "\n",
            "/usr/local/lib/python3.7/dist-packages/sklearn/metrics/_classification.py:1318: UndefinedMetricWarning:\n",
            "\n",
            "Precision and F-score are ill-defined and being set to 0.0 in labels with no predicted samples. Use `zero_division` parameter to control this behavior.\n",
            "\n",
            "/usr/local/lib/python3.7/dist-packages/sklearn/metrics/_classification.py:1318: UndefinedMetricWarning:\n",
            "\n",
            "Precision and F-score are ill-defined and being set to 0.0 in labels with no predicted samples. Use `zero_division` parameter to control this behavior.\n",
            "\n"
          ]
        },
        {
          "output_type": "stream",
          "name": "stdout",
          "text": [
            "              precision    recall  f1-score   support\n",
            "\n",
            "           0       0.00      0.00      0.00        18\n",
            "           1       0.00      0.00      0.00        41\n",
            "           2       0.00      0.00      0.00        45\n",
            "           3       0.15      1.00      0.26        31\n",
            "           4       0.00      0.00      0.00        33\n",
            "           5       0.00      0.00      0.00        39\n",
            "\n",
            "    accuracy                           0.15       207\n",
            "   macro avg       0.02      0.17      0.04       207\n",
            "weighted avg       0.02      0.15      0.04       207\n",
            "\n",
            "----accuracy score 14.975845410628018 ----\n"
          ]
        },
        {
          "output_type": "display_data",
          "data": {
            "text/plain": [
              "<Figure size 432x288 with 2 Axes>"
            ],
            "image/png": "[encoded data removed]"
          },
          "metadata": {
            "needs_background": "light"
          }
        }
      ]
    },
    {
      "cell_type": "code",
      "source": [
        ""
      ],
      "metadata": {
        "id": "LGpgwFQqkpyU"
      },
      "execution_count": null,
      "outputs": []
    }
  ]
}