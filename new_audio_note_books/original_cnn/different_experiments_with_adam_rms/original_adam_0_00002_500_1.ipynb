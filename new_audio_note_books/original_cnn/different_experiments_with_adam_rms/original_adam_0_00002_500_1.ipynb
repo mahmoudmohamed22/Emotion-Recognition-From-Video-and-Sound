{
  "nbformat": 4,
  "nbformat_minor": 0,
  "metadata": {
    "colab": {
      "name": "original_adam_0.00002_500_1.ipynb",
      "provenance": [],
      "collapsed_sections": []
    },
    "kernelspec": {
      "name": "python3",
      "display_name": "Python 3"
    },
    "language_info": {
      "name": "python"
    },
    "accelerator": "GPU"
  },
  "cells": [
    {
      "cell_type": "code",
      "execution_count": 3,
      "metadata": {
        "colab": {
          "base_uri": "https://localhost:8080/"
        },
        "id": "9SRCO-a_AlH5",
        "outputId": "ef0ac785-f068-4be1-d523-fba26939af46"
      },
      "outputs": [
        {
          "output_type": "stream",
          "name": "stdout",
          "text": [
            "Mounted at /content/drive\n"
          ]
        }
      ],
      "source": [
        "from google.colab import drive\n",
        "drive.mount('/content/drive')"
      ]
    },
    {
      "cell_type": "code",
      "metadata": {
        "id": "HJjcbxwy46bG",
        "colab": {
          "base_uri": "https://localhost:8080/",
          "height": 17
        },
        "outputId": "b6469c19-26c1-4986-9d9f-e6bbeef5ac11"
      },
      "source": [
        "# Orignial Notebook: https://github.com/MITESHPUTHRANNEU/Speech-Emotion-Analyzer/blob/master/final_results_gender_test.ipynb\n",
        "# This notebook author: Reza Chu\n",
        "# Last Editing Date: 31st May 2019\n",
        "\n",
        "## Python\n",
        "import os\n",
        "import random\n",
        "import sys\n",
        "\n",
        "import IPython\n",
        "from IPython.display import Audio\n",
        "from IPython.display import Image\n",
        "import matplotlib.pyplot as plt\n",
        "\n",
        "## Package\n",
        "import glob \n",
        "import keras\n",
        "import IPython.display as ipd\n",
        "import librosa\n",
        "import librosa.display\n",
        "import matplotlib.pyplot as plt\n",
        "import numpy as np\n",
        "import pandas as pd\n",
        "import plotly.graph_objs as go\n",
        "import plotly.offline as py\n",
        "import plotly.tools as tls\n",
        "import seaborn as sns\n",
        "import scipy.io.wavfile\n",
        "import tensorflow as tf\n",
        "py.init_notebook_mode(connected=True)\n",
        "\n",
        "## Keras\n",
        "from keras import regularizers\n",
        "from keras.callbacks import ModelCheckpoint, LearningRateScheduler, EarlyStopping\n",
        "from keras.callbacks import  History, ReduceLROnPlateau, CSVLogger\n",
        "from keras.models import Model, Sequential\n",
        "from keras.layers import Dense, Embedding, LSTM\n",
        "from keras.layers import Input, Flatten, Dropout, Activation, BatchNormalization\n",
        "from keras.layers import Conv1D, MaxPooling1D, AveragePooling1D\n",
        "from keras.preprocessing import sequence\n",
        "from keras.preprocessing.sequence import pad_sequences\n",
        "from keras.preprocessing.text import Tokenizer\n",
        "from keras.utils import np_utils\n",
        "from tensorflow.keras.utils import to_categorical\n",
        "\n",
        "## Sklearn\n",
        "from sklearn.metrics import confusion_matrix\n",
        "from sklearn.preprocessing import LabelEncoder\n",
        "\n",
        "## Rest\n",
        "from scipy.fftpack import fft\n",
        "from scipy import signal\n",
        "from scipy.io import wavfile\n",
        "from tqdm import tqdm\n",
        "\n",
        "input_duration=3\n",
        "# % pylab inline"
      ],
      "execution_count": 1,
      "outputs": [
        {
          "output_type": "display_data",
          "data": {
            "text/html": [
              "        <script type=\"text/javascript\">\n",
              "        window.PlotlyConfig = {MathJaxConfig: 'local'};\n",
              "        if (window.MathJax) {MathJax.Hub.Config({SVG: {font: \"STIX-Web\"}});}\n",
              "        if (typeof require !== 'undefined') {\n",
              "        require.undef(\"plotly\");\n",
              "        requirejs.config({\n",
              "            paths: {\n",
              "                'plotly': ['https://cdn.plot.ly/plotly-2.8.3.min']\n",
              "            }\n",
              "        });\n",
              "        require(['plotly'], function(Plotly) {\n",
              "            window._Plotly = Plotly;\n",
              "        });\n",
              "        }\n",
              "        </script>\n",
              "        "
            ]
          },
          "metadata": {}
        }
      ]
    },
    {
      "cell_type": "code",
      "source": [
        "#radvass speech and song\n",
        "import time\n",
        "import os\n",
        "import librosa\n",
        "from librosa import display\n",
        "import matplotlib.pyplot as plt\n",
        "\n",
        "count=0\n",
        "path1 = '/content/drive/MyDrive/RAVDESS_speech'\n",
        "path2 = '/content/drive/MyDrive/RAVDESS_song'\n",
        "\n",
        "lst = []\n",
        "\n",
        "start_time = time.time()\n",
        "\n",
        "for subdir, dirs, files in os.walk(path2):\n",
        "  print(dirs)\n",
        "  print(subdir)\n",
        "  #print(files)\n",
        "  for file in files:\n",
        "      try:\n",
        "        count +=1\n",
        "        #Load librosa array, obtain mfcss, store the file and the mcss information in a new array\n",
        "        X, sample_rate = librosa.load(os.path.join(subdir,file), res_type='kaiser_fast')\n",
        "        mfccs = np.mean(librosa.feature.mfcc(y=X, sr=sample_rate, n_mfcc=40).T,axis=0) \n",
        "        # The instruction below converts the labels (from 1 to 8) to a series from 0 to 7\n",
        "        # This is because our predictor needs to start from 0 otherwise it will try to predict also 0.\n",
        "        file = int(file[7:8]) - 1 \n",
        "        arr = mfccs, file\n",
        "        lst.append(arr)\n",
        "      # If the file is not valid, skip it\n",
        "      except ValueError:\n",
        "        continue\n",
        "\n",
        "for subdir, dirs, files in os.walk(path1):\n",
        "  print(dirs)\n",
        "  print(subdir)\n",
        " # print(files)\n",
        "  for file in files:\n",
        "      try:\n",
        "        #Load librosa array, obtain mfcss, store the file and the mcss information in a new array\n",
        "        X, sample_rate = librosa.load(os.path.join(subdir,file), res_type='kaiser_fast')\n",
        "        mfccs = np.mean(librosa.feature.mfcc(y=X, sr=sample_rate, n_mfcc=40).T,axis=0) \n",
        "        # The instruction below converts the labels (from 1 to 8) to a series from 0 to 7\n",
        "        # This is because our predictor needs to start from 0 otherwise it will try to predict also 0.\n",
        "        file = int(file[7:8]) - 1 \n",
        "        if(file ==6 or file==7):\n",
        "          continue\n",
        "        count +=1\n",
        "        arr = mfccs, file\n",
        "        lst.append(arr)\n",
        "      # If the file is not valid, skip it\n",
        "      except ValueError:\n",
        "        continue\n",
        "\n",
        "\n",
        "\n",
        "print(\"--- Data loaded. Loading time: %s seconds ---\" % (time.time() - start_time))"
      ],
      "metadata": {
        "colab": {
          "base_uri": "https://localhost:8080/"
        },
        "id": "IfuyRZl42ccZ",
        "outputId": "ce249970-9930-450a-db19-8e2b3f9edde8"
      },
      "execution_count": null,
      "outputs": [
        {
          "output_type": "stream",
          "name": "stdout",
          "text": [
            "['Actor_10', 'Actor_11', 'Actor_13', 'Actor_12', 'Actor_14', 'Actor_15', 'Actor_16', 'Actor_17', 'Actor_18', 'Actor_19', 'Actor_21', 'Actor_22', 'Actor_23', 'Actor_09', 'Actor_24', 'Actor_04', 'Actor_08', 'Actor_03', 'Actor_02', 'Actor_06', 'Actor_05', 'Actor_01', 'Actor_07', 'Actor_20']\n",
            "/content/drive/MyDrive/RAVDESS_song\n",
            "[]\n",
            "/content/drive/MyDrive/RAVDESS_song/Actor_10\n",
            "[]\n",
            "/content/drive/MyDrive/RAVDESS_song/Actor_11\n",
            "[]\n",
            "/content/drive/MyDrive/RAVDESS_song/Actor_13\n",
            "[]\n",
            "/content/drive/MyDrive/RAVDESS_song/Actor_12\n",
            "[]\n",
            "/content/drive/MyDrive/RAVDESS_song/Actor_14\n",
            "[]\n",
            "/content/drive/MyDrive/RAVDESS_song/Actor_15\n",
            "[]\n",
            "/content/drive/MyDrive/RAVDESS_song/Actor_16\n",
            "[]\n",
            "/content/drive/MyDrive/RAVDESS_song/Actor_17\n",
            "[]\n",
            "/content/drive/MyDrive/RAVDESS_song/Actor_18\n",
            "[]\n",
            "/content/drive/MyDrive/RAVDESS_song/Actor_19\n",
            "[]\n",
            "/content/drive/MyDrive/RAVDESS_song/Actor_21\n",
            "[]\n",
            "/content/drive/MyDrive/RAVDESS_song/Actor_22\n",
            "[]\n",
            "/content/drive/MyDrive/RAVDESS_song/Actor_23\n",
            "[]\n",
            "/content/drive/MyDrive/RAVDESS_song/Actor_09\n",
            "[]\n",
            "/content/drive/MyDrive/RAVDESS_song/Actor_24\n",
            "[]\n",
            "/content/drive/MyDrive/RAVDESS_song/Actor_04\n",
            "[]\n",
            "/content/drive/MyDrive/RAVDESS_song/Actor_08\n",
            "[]\n",
            "/content/drive/MyDrive/RAVDESS_song/Actor_03\n",
            "[]\n",
            "/content/drive/MyDrive/RAVDESS_song/Actor_02\n",
            "[]\n",
            "/content/drive/MyDrive/RAVDESS_song/Actor_06\n",
            "[]\n",
            "/content/drive/MyDrive/RAVDESS_song/Actor_05\n",
            "[]\n",
            "/content/drive/MyDrive/RAVDESS_song/Actor_01\n",
            "[]\n",
            "/content/drive/MyDrive/RAVDESS_song/Actor_07\n",
            "[]\n",
            "/content/drive/MyDrive/RAVDESS_song/Actor_20\n",
            "['Actor_05', 'Actor_08', 'Actor_10', 'Actor_04', 'Actor_09', 'Actor_14', 'Actor_12', 'Actor_13', 'Actor_11', 'Actor_06', 'Actor_24', 'Actor_07', 'Actor_23', 'Actor_22', 'Actor_21', 'Actor_20', 'Actor_02', 'Actor_19', 'Actor_18', 'Actor_17', 'Actor_16', 'Actor_15', 'Actor_03', 'Actor_01']\n",
            "/content/drive/MyDrive/RAVDESS_speech\n",
            "[]\n",
            "/content/drive/MyDrive/RAVDESS_speech/Actor_05\n",
            "[]\n",
            "/content/drive/MyDrive/RAVDESS_speech/Actor_08\n",
            "[]\n",
            "/content/drive/MyDrive/RAVDESS_speech/Actor_10\n",
            "[]\n",
            "/content/drive/MyDrive/RAVDESS_speech/Actor_04\n",
            "[]\n",
            "/content/drive/MyDrive/RAVDESS_speech/Actor_09\n",
            "[]\n",
            "/content/drive/MyDrive/RAVDESS_speech/Actor_14\n",
            "[]\n",
            "/content/drive/MyDrive/RAVDESS_speech/Actor_12\n",
            "[]\n",
            "/content/drive/MyDrive/RAVDESS_speech/Actor_13\n",
            "[]\n",
            "/content/drive/MyDrive/RAVDESS_speech/Actor_11\n",
            "[]\n",
            "/content/drive/MyDrive/RAVDESS_speech/Actor_06\n",
            "[]\n",
            "/content/drive/MyDrive/RAVDESS_speech/Actor_24\n",
            "[]\n",
            "/content/drive/MyDrive/RAVDESS_speech/Actor_07\n",
            "[]\n",
            "/content/drive/MyDrive/RAVDESS_speech/Actor_23\n",
            "[]\n",
            "/content/drive/MyDrive/RAVDESS_speech/Actor_22\n",
            "[]\n",
            "/content/drive/MyDrive/RAVDESS_speech/Actor_21\n",
            "[]\n",
            "/content/drive/MyDrive/RAVDESS_speech/Actor_20\n",
            "[]\n",
            "/content/drive/MyDrive/RAVDESS_speech/Actor_02\n",
            "[]\n",
            "/content/drive/MyDrive/RAVDESS_speech/Actor_19\n",
            "[]\n",
            "/content/drive/MyDrive/RAVDESS_speech/Actor_18\n",
            "[]\n",
            "/content/drive/MyDrive/RAVDESS_speech/Actor_17\n",
            "[]\n",
            "/content/drive/MyDrive/RAVDESS_speech/Actor_16\n",
            "[]\n",
            "/content/drive/MyDrive/RAVDESS_speech/Actor_15\n",
            "[]\n",
            "/content/drive/MyDrive/RAVDESS_speech/Actor_03\n",
            "[]\n",
            "/content/drive/MyDrive/RAVDESS_speech/Actor_01\n",
            "--- Data loaded. Loading time: 204.12607288360596 seconds ---\n"
          ]
        }
      ]
    },
    {
      "cell_type": "code",
      "source": [
        "count"
      ],
      "metadata": {
        "id": "Ltlhi25L2AI5",
        "colab": {
          "base_uri": "https://localhost:8080/"
        },
        "outputId": "92f64156-e27a-4381-e558-85094fc41c56"
      },
      "execution_count": null,
      "outputs": [
        {
          "output_type": "execute_result",
          "data": {
            "text/plain": [
              "2068"
            ]
          },
          "metadata": {},
          "execution_count": 5
        }
      ]
    },
    {
      "cell_type": "code",
      "source": [
        "from numpy.core.fromnumeric import size\n",
        "size(lst)"
      ],
      "metadata": {
        "id": "HMOH7d7mzHB7",
        "colab": {
          "base_uri": "https://localhost:8080/"
        },
        "outputId": "454c6795-9625-4c4a-aae1-8816c01db98f"
      },
      "execution_count": null,
      "outputs": [
        {
          "output_type": "stream",
          "name": "stderr",
          "text": [
            "/usr/local/lib/python3.7/dist-packages/numpy/core/fromnumeric.py:3208: VisibleDeprecationWarning:\n",
            "\n",
            "Creating an ndarray from ragged nested sequences (which is a list-or-tuple of lists-or-tuples-or ndarrays with different lengths or shapes) is deprecated. If you meant to do this, you must specify 'dtype=object' when creating the ndarray.\n",
            "\n"
          ]
        },
        {
          "output_type": "execute_result",
          "data": {
            "text/plain": [
              "4136"
            ]
          },
          "metadata": {},
          "execution_count": 6
        }
      ]
    },
    {
      "cell_type": "code",
      "source": [
        "# Creating X and y: zip makes a list of all the first elements, and a list of all the second elements.\n",
        "X, y = zip(*lst)"
      ],
      "metadata": {
        "id": "ocdL7tSTBoMt"
      },
      "execution_count": null,
      "outputs": []
    },
    {
      "cell_type": "code",
      "source": [
        "import numpy as np\n",
        "X = np.asarray(X)\n",
        "y = np.asarray(y)\n",
        "X.shape, y.shape"
      ],
      "metadata": {
        "id": "vHKwUGTbBtnF",
        "colab": {
          "base_uri": "https://localhost:8080/"
        },
        "outputId": "52b5b212-692b-49e9-b357-6d6f08d864df"
      },
      "execution_count": null,
      "outputs": [
        {
          "output_type": "execute_result",
          "data": {
            "text/plain": [
              "((2068, 40), (2068,))"
            ]
          },
          "metadata": {},
          "execution_count": 8
        }
      ]
    },
    {
      "cell_type": "code",
      "source": [
        "X.shape"
      ],
      "metadata": {
        "id": "2sUCtbfMztE5",
        "colab": {
          "base_uri": "https://localhost:8080/"
        },
        "outputId": "e14844a2-b3c4-439c-e82f-783c1f91504a"
      },
      "execution_count": null,
      "outputs": [
        {
          "output_type": "execute_result",
          "data": {
            "text/plain": [
              "(2068, 40)"
            ]
          },
          "metadata": {},
          "execution_count": 9
        }
      ]
    },
    {
      "cell_type": "code",
      "source": [
        "# # Saving joblib files to not load them again with the loop above\n",
        "\n",
        "# import joblib\n",
        "\n",
        "# X_name = 'x.joblib'\n",
        "# y_name = 'y.joblib'\n",
        "# save_dir = '/content/drive/My Drive/graduation project/audio/paper_code/features'\n",
        "\n",
        "# savedX = joblib.dump(X, os.path.join(save_dir, X_name))\n",
        "# savedy = joblib.dump(y, os.path.join(save_dir, y_name))"
      ],
      "metadata": {
        "id": "UCzic8rlDcuk"
      },
      "execution_count": null,
      "outputs": []
    },
    {
      "cell_type": "code",
      "source": [
        "# # Loading saved models\n",
        "import joblib\n",
        "X = joblib.load('/content/drive/My Drive/graduation project/audio/paper_code/features/x.joblib')\n",
        "y = joblib.load('/content/drive/My Drive/graduation project/audio/paper_code/features/y.joblib')"
      ],
      "metadata": {
        "id": "Q35CN6zDrzg1"
      },
      "execution_count": 2,
      "outputs": []
    },
    {
      "cell_type": "code",
      "source": [
        "X.shape"
      ],
      "metadata": {
        "colab": {
          "base_uri": "https://localhost:8080/"
        },
        "id": "7PSTurzjCo5K",
        "outputId": "b48d97a5-7fb2-40ac-cb27-1d3bc8a593c9"
      },
      "execution_count": 3,
      "outputs": [
        {
          "output_type": "execute_result",
          "data": {
            "text/plain": [
              "(2068, 40)"
            ]
          },
          "metadata": {},
          "execution_count": 3
        }
      ]
    },
    {
      "cell_type": "code",
      "source": [
        "from sklearn.model_selection import train_test_split\n",
        "\n",
        "X_train, X_test, y_train, y_test = train_test_split(X,y, test_size=0.1,shuffle = True, random_state=42)\n",
        "X_train , X_valid, y_train, y_valid = train_test_split(X_train,y_train, test_size=0.1112305212, shuffle = True, random_state=42)"
      ],
      "metadata": {
        "id": "Ai4Fy5cPCiq1"
      },
      "execution_count": 4,
      "outputs": []
    },
    {
      "cell_type": "code",
      "source": [
        "import numpy as np\n",
        "x_traincnn = np.expand_dims(X_train, axis=2)\n",
        "x_testcnn = np.expand_dims(X_test, axis=2)\n",
        "X_valid= np.expand_dims(X_valid, axis=2)"
      ],
      "metadata": {
        "id": "tp1Fm5K3CEXu"
      },
      "execution_count": 5,
      "outputs": []
    },
    {
      "cell_type": "code",
      "source": [
        "x_traincnn.shape, x_testcnn.shape , X_valid.shape\n",
        "#1861"
      ],
      "metadata": {
        "id": "RI0MxoIPBws5",
        "colab": {
          "base_uri": "https://localhost:8080/"
        },
        "outputId": "c4de76b7-36a4-4c55-b22b-7efa2608cc30"
      },
      "execution_count": 6,
      "outputs": [
        {
          "output_type": "execute_result",
          "data": {
            "text/plain": [
              "((1654, 40, 1), (207, 40, 1), (207, 40, 1))"
            ]
          },
          "metadata": {},
          "execution_count": 6
        }
      ]
    },
    {
      "cell_type": "code",
      "source": [
        "import keras\n",
        "import numpy as np\n",
        "import matplotlib.pyplot as plt\n",
        "import tensorflow as tf\n",
        "from keras.preprocessing import sequence\n",
        "from keras.models import Sequential\n",
        "from keras.layers import Dense, Embedding\n",
        "from tensorflow.keras.utils import to_categorical\n",
        "from keras.layers import Input, Flatten, Dropout, Activation\n",
        "from keras.layers import Conv1D, MaxPooling1D\n",
        "from keras.models import Model\n",
        "from keras.callbacks import ModelCheckpoint\n",
        "from tensorflow.keras import optimizers\n",
        "\n",
        "model = Sequential()\n",
        "\n",
        "model.add(Conv1D(128, 8,padding='same', #classifier.add(Convolution2D(64, (3, 3), padding = 'same', input_shape = (128, 128, 3), activation = 'relu'))\n",
        "                 input_shape=(40,1)))\n",
        "model.add(Activation('relu'))\n",
        "model.add(Dropout(0.3))\n",
        "model.add(MaxPooling1D(pool_size=(5)))\n",
        "\n",
        "\n",
        "model.add(Conv1D(256,8,padding='same',))\n",
        "model.add(Activation('relu'))\n",
        "model.add(Dropout(0.3))\n",
        "model.add(MaxPooling1D(pool_size=(5)))\n",
        "\n",
        "model.add(Flatten())\n",
        "\n",
        "model.add(Dense(256))\n",
        "model.add(Activation('relu'))\n",
        "model.add(Dense(256))\n",
        "model.add(Activation('relu'))\n",
        "\n",
        "model.add(Dense(6))\n",
        "model.add(Activation('softmax'))\n",
        "\n",
        "opt = tf.keras.optimizers.Adam(lr=0.00002 , decay=0.9)\n",
        "#opt = tf.keras.optimizers.RMSprop(lr=0.0001, rho=0.9, epsilon=1e-07, decay=0.0)\n",
        "#opt = tf.keras.optimizers.SGD(lr=0.001, momentum=0.0, decay=0.0, nesterov=False)"
      ],
      "metadata": {
        "id": "g74fXWVAC4Cr",
        "colab": {
          "base_uri": "https://localhost:8080/"
        },
        "outputId": "34fae04b-22e1-42b5-a819-d204c8332281"
      },
      "execution_count": 7,
      "outputs": [
        {
          "output_type": "stream",
          "name": "stderr",
          "text": [
            "/usr/local/lib/python3.7/dist-packages/keras/optimizer_v2/adam.py:105: UserWarning:\n",
            "\n",
            "The `lr` argument is deprecated, use `learning_rate` instead.\n",
            "\n"
          ]
        }
      ]
    },
    {
      "cell_type": "code",
      "source": [
        "model.summary()"
      ],
      "metadata": {
        "colab": {
          "base_uri": "https://localhost:8080/"
        },
        "id": "H6ukOxAGC_I4",
        "outputId": "0e1545b1-fe97-465c-9312-93bf50917b62"
      },
      "execution_count": 8,
      "outputs": [
        {
          "output_type": "stream",
          "name": "stdout",
          "text": [
            "Model: \"sequential\"\n",
            "_________________________________________________________________\n",
            " Layer (type)                Output Shape              Param #   \n",
            "=================================================================\n",
            " conv1d (Conv1D)             (None, 40, 128)           1152      \n",
            "                                                                 \n",
            " activation (Activation)     (None, 40, 128)           0         \n",
            "                                                                 \n",
            " dropout (Dropout)           (None, 40, 128)           0         \n",
            "                                                                 \n",
            " max_pooling1d (MaxPooling1D  (None, 8, 128)           0         \n",
            " )                                                               \n",
            "                                                                 \n",
            " conv1d_1 (Conv1D)           (None, 8, 256)            262400    \n",
            "                                                                 \n",
            " activation_1 (Activation)   (None, 8, 256)            0         \n",
            "                                                                 \n",
            " dropout_1 (Dropout)         (None, 8, 256)            0         \n",
            "                                                                 \n",
            " max_pooling1d_1 (MaxPooling  (None, 1, 256)           0         \n",
            " 1D)                                                             \n",
            "                                                                 \n",
            " flatten (Flatten)           (None, 256)               0         \n",
            "                                                                 \n",
            " dense (Dense)               (None, 256)               65792     \n",
            "                                                                 \n",
            " activation_2 (Activation)   (None, 256)               0         \n",
            "                                                                 \n",
            " dense_1 (Dense)             (None, 256)               65792     \n",
            "                                                                 \n",
            " activation_3 (Activation)   (None, 256)               0         \n",
            "                                                                 \n",
            " dense_2 (Dense)             (None, 6)                 1542      \n",
            "                                                                 \n",
            " activation_4 (Activation)   (None, 6)                 0         \n",
            "                                                                 \n",
            "=================================================================\n",
            "Total params: 396,678\n",
            "Trainable params: 396,678\n",
            "Non-trainable params: 0\n",
            "_________________________________________________________________\n"
          ]
        }
      ]
    },
    {
      "cell_type": "code",
      "source": [
        "model.compile(loss='sparse_categorical_crossentropy',\n",
        "              optimizer=opt,\n",
        "              metrics=['accuracy'])"
      ],
      "metadata": {
        "id": "AbMlLNk4DCBM"
      },
      "execution_count": 9,
      "outputs": []
    },
    {
      "cell_type": "code",
      "source": [
        "# Create an Instance of Early Stopping Callback.\n",
        "early_stopping_callback = EarlyStopping(monitor = 'val_loss', patience = 25, mode = 'min', restore_best_weights = True)\n",
        "\n",
        "cnnhistory=model.fit(x_traincnn, y_train, batch_size=16, epochs=500 , shuffle = True, validation_data=(X_valid, y_valid), callbacks = [early_stopping_callback])"
      ],
      "metadata": {
        "colab": {
          "base_uri": "https://localhost:8080/"
        },
        "id": "RI1v2AuADFhy",
        "outputId": "941de671-67cc-44a1-ac6f-b58dda338aec"
      },
      "execution_count": 10,
      "outputs": [
        {
          "output_type": "stream",
          "name": "stdout",
          "text": [
            "Epoch 1/500\n",
            "104/104 [==============================] - 3s 7ms/step - loss: 10.4589 - accuracy: 0.1778 - val_loss: 6.2572 - val_accuracy: 0.1932\n",
            "Epoch 2/500\n",
            "104/104 [==============================] - 0s 5ms/step - loss: 9.7664 - accuracy: 0.1820 - val_loss: 6.1055 - val_accuracy: 0.1932\n",
            "Epoch 3/500\n",
            "104/104 [==============================] - 0s 4ms/step - loss: 9.5670 - accuracy: 0.1784 - val_loss: 6.0013 - val_accuracy: 0.1932\n",
            "Epoch 4/500\n",
            "104/104 [==============================] - 0s 4ms/step - loss: 9.5041 - accuracy: 0.1759 - val_loss: 5.9401 - val_accuracy: 0.1932\n",
            "Epoch 5/500\n",
            "104/104 [==============================] - 0s 4ms/step - loss: 9.3205 - accuracy: 0.1802 - val_loss: 5.8880 - val_accuracy: 0.1932\n",
            "Epoch 6/500\n",
            "104/104 [==============================] - 0s 4ms/step - loss: 9.1980 - accuracy: 0.1820 - val_loss: 5.8476 - val_accuracy: 0.1932\n",
            "Epoch 7/500\n",
            "104/104 [==============================] - 0s 4ms/step - loss: 8.9008 - accuracy: 0.1856 - val_loss: 5.8092 - val_accuracy: 0.1932\n",
            "Epoch 8/500\n",
            "104/104 [==============================] - 0s 4ms/step - loss: 9.0289 - accuracy: 0.1880 - val_loss: 5.7812 - val_accuracy: 0.1932\n",
            "Epoch 9/500\n",
            "104/104 [==============================] - 0s 4ms/step - loss: 9.0033 - accuracy: 0.1850 - val_loss: 5.7586 - val_accuracy: 0.1932\n",
            "Epoch 10/500\n",
            "104/104 [==============================] - 0s 4ms/step - loss: 9.1224 - accuracy: 0.1711 - val_loss: 5.7336 - val_accuracy: 0.1932\n",
            "Epoch 11/500\n",
            "104/104 [==============================] - 0s 4ms/step - loss: 8.8325 - accuracy: 0.1790 - val_loss: 5.7123 - val_accuracy: 0.1932\n",
            "Epoch 12/500\n",
            "104/104 [==============================] - 0s 4ms/step - loss: 8.9009 - accuracy: 0.1923 - val_loss: 5.6923 - val_accuracy: 0.1932\n",
            "Epoch 13/500\n",
            "104/104 [==============================] - 0s 4ms/step - loss: 8.8375 - accuracy: 0.1808 - val_loss: 5.6740 - val_accuracy: 0.1932\n",
            "Epoch 14/500\n",
            "104/104 [==============================] - 0s 5ms/step - loss: 8.9368 - accuracy: 0.1693 - val_loss: 5.6562 - val_accuracy: 0.1932\n",
            "Epoch 15/500\n",
            "104/104 [==============================] - 0s 4ms/step - loss: 8.8426 - accuracy: 0.1892 - val_loss: 5.6376 - val_accuracy: 0.1932\n",
            "Epoch 16/500\n",
            "104/104 [==============================] - 1s 6ms/step - loss: 8.8540 - accuracy: 0.1808 - val_loss: 5.6241 - val_accuracy: 0.1932\n",
            "Epoch 17/500\n",
            "104/104 [==============================] - 1s 6ms/step - loss: 8.7402 - accuracy: 0.1917 - val_loss: 5.6115 - val_accuracy: 0.1932\n",
            "Epoch 18/500\n",
            "104/104 [==============================] - 1s 6ms/step - loss: 8.7758 - accuracy: 0.1880 - val_loss: 5.5979 - val_accuracy: 0.1932\n",
            "Epoch 19/500\n",
            "104/104 [==============================] - 1s 6ms/step - loss: 8.7825 - accuracy: 0.1778 - val_loss: 5.5872 - val_accuracy: 0.1932\n",
            "Epoch 20/500\n",
            "104/104 [==============================] - 1s 5ms/step - loss: 8.7748 - accuracy: 0.1753 - val_loss: 5.5751 - val_accuracy: 0.1932\n",
            "Epoch 21/500\n",
            "104/104 [==============================] - 0s 4ms/step - loss: 8.8071 - accuracy: 0.1741 - val_loss: 5.5642 - val_accuracy: 0.1932\n",
            "Epoch 22/500\n",
            "104/104 [==============================] - 0s 4ms/step - loss: 8.6607 - accuracy: 0.1850 - val_loss: 5.5537 - val_accuracy: 0.1932\n",
            "Epoch 23/500\n",
            "104/104 [==============================] - 0s 4ms/step - loss: 8.6523 - accuracy: 0.1651 - val_loss: 5.5433 - val_accuracy: 0.1932\n",
            "Epoch 24/500\n",
            "104/104 [==============================] - 0s 4ms/step - loss: 8.6529 - accuracy: 0.1886 - val_loss: 5.5347 - val_accuracy: 0.1932\n",
            "Epoch 25/500\n",
            "104/104 [==============================] - 0s 4ms/step - loss: 8.4416 - accuracy: 0.1898 - val_loss: 5.5246 - val_accuracy: 0.1932\n",
            "Epoch 26/500\n",
            "104/104 [==============================] - 0s 5ms/step - loss: 8.4653 - accuracy: 0.1917 - val_loss: 5.5152 - val_accuracy: 0.1932\n",
            "Epoch 27/500\n",
            "104/104 [==============================] - 0s 4ms/step - loss: 8.6464 - accuracy: 0.1723 - val_loss: 5.5064 - val_accuracy: 0.1932\n",
            "Epoch 28/500\n",
            "104/104 [==============================] - 0s 4ms/step - loss: 8.6224 - accuracy: 0.1880 - val_loss: 5.4987 - val_accuracy: 0.1932\n",
            "Epoch 29/500\n",
            "104/104 [==============================] - 0s 4ms/step - loss: 8.4059 - accuracy: 0.1705 - val_loss: 5.4900 - val_accuracy: 0.1932\n",
            "Epoch 30/500\n",
            "104/104 [==============================] - 0s 4ms/step - loss: 8.4724 - accuracy: 0.1723 - val_loss: 5.4819 - val_accuracy: 0.1932\n",
            "Epoch 31/500\n",
            "104/104 [==============================] - 0s 4ms/step - loss: 8.6908 - accuracy: 0.1681 - val_loss: 5.4740 - val_accuracy: 0.1932\n",
            "Epoch 32/500\n",
            "104/104 [==============================] - 0s 4ms/step - loss: 8.5712 - accuracy: 0.1814 - val_loss: 5.4665 - val_accuracy: 0.1932\n",
            "Epoch 33/500\n",
            "104/104 [==============================] - 0s 4ms/step - loss: 8.5267 - accuracy: 0.1904 - val_loss: 5.4587 - val_accuracy: 0.1932\n",
            "Epoch 34/500\n",
            "104/104 [==============================] - 0s 4ms/step - loss: 8.3158 - accuracy: 0.1892 - val_loss: 5.4512 - val_accuracy: 0.1932\n",
            "Epoch 35/500\n",
            "104/104 [==============================] - 0s 4ms/step - loss: 8.3839 - accuracy: 0.1784 - val_loss: 5.4442 - val_accuracy: 0.1932\n",
            "Epoch 36/500\n",
            "104/104 [==============================] - 0s 4ms/step - loss: 8.5099 - accuracy: 0.1862 - val_loss: 5.4384 - val_accuracy: 0.1932\n",
            "Epoch 37/500\n",
            "104/104 [==============================] - 0s 4ms/step - loss: 8.3023 - accuracy: 0.1765 - val_loss: 5.4331 - val_accuracy: 0.1932\n",
            "Epoch 38/500\n",
            "104/104 [==============================] - 0s 4ms/step - loss: 8.6421 - accuracy: 0.1753 - val_loss: 5.4261 - val_accuracy: 0.1932\n",
            "Epoch 39/500\n",
            "104/104 [==============================] - 0s 4ms/step - loss: 8.5847 - accuracy: 0.1790 - val_loss: 5.4203 - val_accuracy: 0.1932\n",
            "Epoch 40/500\n",
            "104/104 [==============================] - 0s 4ms/step - loss: 8.5121 - accuracy: 0.1790 - val_loss: 5.4142 - val_accuracy: 0.1932\n",
            "Epoch 41/500\n",
            "104/104 [==============================] - 0s 4ms/step - loss: 8.4442 - accuracy: 0.1850 - val_loss: 5.4091 - val_accuracy: 0.1932\n",
            "Epoch 42/500\n",
            "104/104 [==============================] - 0s 4ms/step - loss: 8.6653 - accuracy: 0.1753 - val_loss: 5.4031 - val_accuracy: 0.1932\n",
            "Epoch 43/500\n",
            "104/104 [==============================] - 0s 4ms/step - loss: 8.4042 - accuracy: 0.1868 - val_loss: 5.3983 - val_accuracy: 0.1932\n",
            "Epoch 44/500\n",
            "104/104 [==============================] - 0s 4ms/step - loss: 8.3665 - accuracy: 0.1850 - val_loss: 5.3925 - val_accuracy: 0.1932\n",
            "Epoch 45/500\n",
            "104/104 [==============================] - 0s 4ms/step - loss: 8.5066 - accuracy: 0.1898 - val_loss: 5.3880 - val_accuracy: 0.1932\n",
            "Epoch 46/500\n",
            "104/104 [==============================] - 0s 4ms/step - loss: 8.1941 - accuracy: 0.1953 - val_loss: 5.3838 - val_accuracy: 0.1932\n",
            "Epoch 47/500\n",
            "104/104 [==============================] - 0s 4ms/step - loss: 8.2969 - accuracy: 0.1874 - val_loss: 5.3789 - val_accuracy: 0.1932\n",
            "Epoch 48/500\n",
            "104/104 [==============================] - 0s 4ms/step - loss: 8.4727 - accuracy: 0.1759 - val_loss: 5.3744 - val_accuracy: 0.1932\n",
            "Epoch 49/500\n",
            "104/104 [==============================] - 0s 4ms/step - loss: 8.3997 - accuracy: 0.1741 - val_loss: 5.3695 - val_accuracy: 0.1932\n",
            "Epoch 50/500\n",
            "104/104 [==============================] - 0s 5ms/step - loss: 8.5031 - accuracy: 0.1705 - val_loss: 5.3654 - val_accuracy: 0.1932\n",
            "Epoch 51/500\n",
            "104/104 [==============================] - 0s 4ms/step - loss: 8.4983 - accuracy: 0.1874 - val_loss: 5.3615 - val_accuracy: 0.1932\n",
            "Epoch 52/500\n",
            "104/104 [==============================] - 0s 4ms/step - loss: 8.3631 - accuracy: 0.1814 - val_loss: 5.3580 - val_accuracy: 0.1932\n",
            "Epoch 53/500\n",
            "104/104 [==============================] - 0s 4ms/step - loss: 8.0195 - accuracy: 0.1705 - val_loss: 5.3545 - val_accuracy: 0.1932\n",
            "Epoch 54/500\n",
            "104/104 [==============================] - 0s 4ms/step - loss: 8.4014 - accuracy: 0.1886 - val_loss: 5.3507 - val_accuracy: 0.1932\n",
            "Epoch 55/500\n",
            "104/104 [==============================] - 0s 4ms/step - loss: 8.2393 - accuracy: 0.1741 - val_loss: 5.3476 - val_accuracy: 0.1932\n",
            "Epoch 56/500\n",
            "104/104 [==============================] - 0s 4ms/step - loss: 8.3340 - accuracy: 0.1862 - val_loss: 5.3446 - val_accuracy: 0.1932\n",
            "Epoch 57/500\n",
            "104/104 [==============================] - 0s 4ms/step - loss: 8.2628 - accuracy: 0.1965 - val_loss: 5.3407 - val_accuracy: 0.1932\n",
            "Epoch 58/500\n",
            "104/104 [==============================] - 0s 4ms/step - loss: 8.4169 - accuracy: 0.1771 - val_loss: 5.3369 - val_accuracy: 0.1932\n",
            "Epoch 59/500\n",
            "104/104 [==============================] - 0s 4ms/step - loss: 8.1439 - accuracy: 0.1796 - val_loss: 5.3340 - val_accuracy: 0.1932\n",
            "Epoch 60/500\n",
            "104/104 [==============================] - 0s 4ms/step - loss: 8.3148 - accuracy: 0.1765 - val_loss: 5.3310 - val_accuracy: 0.1932\n",
            "Epoch 61/500\n",
            "104/104 [==============================] - 0s 4ms/step - loss: 8.3976 - accuracy: 0.1699 - val_loss: 5.3275 - val_accuracy: 0.1932\n",
            "Epoch 62/500\n",
            "104/104 [==============================] - 0s 4ms/step - loss: 8.4574 - accuracy: 0.1856 - val_loss: 5.3249 - val_accuracy: 0.1932\n",
            "Epoch 63/500\n",
            "104/104 [==============================] - 0s 4ms/step - loss: 8.5026 - accuracy: 0.1826 - val_loss: 5.3220 - val_accuracy: 0.1932\n",
            "Epoch 64/500\n",
            "104/104 [==============================] - 0s 4ms/step - loss: 8.3398 - accuracy: 0.1784 - val_loss: 5.3192 - val_accuracy: 0.1932\n",
            "Epoch 65/500\n",
            "104/104 [==============================] - 0s 4ms/step - loss: 8.2366 - accuracy: 0.1844 - val_loss: 5.3164 - val_accuracy: 0.1932\n",
            "Epoch 66/500\n",
            "104/104 [==============================] - 0s 4ms/step - loss: 8.2618 - accuracy: 0.1874 - val_loss: 5.3140 - val_accuracy: 0.1932\n",
            "Epoch 67/500\n",
            "104/104 [==============================] - 0s 4ms/step - loss: 8.2799 - accuracy: 0.1814 - val_loss: 5.3113 - val_accuracy: 0.1932\n",
            "Epoch 68/500\n",
            "104/104 [==============================] - 0s 4ms/step - loss: 8.4413 - accuracy: 0.1802 - val_loss: 5.3089 - val_accuracy: 0.1932\n",
            "Epoch 69/500\n",
            "104/104 [==============================] - 0s 4ms/step - loss: 8.3084 - accuracy: 0.1832 - val_loss: 5.3065 - val_accuracy: 0.1932\n",
            "Epoch 70/500\n",
            "104/104 [==============================] - 0s 4ms/step - loss: 8.3166 - accuracy: 0.1675 - val_loss: 5.3039 - val_accuracy: 0.1932\n",
            "Epoch 71/500\n",
            "104/104 [==============================] - 0s 4ms/step - loss: 8.4786 - accuracy: 0.1681 - val_loss: 5.3010 - val_accuracy: 0.1932\n",
            "Epoch 72/500\n",
            "104/104 [==============================] - 0s 4ms/step - loss: 8.3562 - accuracy: 0.1802 - val_loss: 5.2985 - val_accuracy: 0.1932\n",
            "Epoch 73/500\n",
            "104/104 [==============================] - 0s 4ms/step - loss: 8.3036 - accuracy: 0.1947 - val_loss: 5.2962 - val_accuracy: 0.1932\n",
            "Epoch 74/500\n",
            "104/104 [==============================] - 0s 4ms/step - loss: 8.5115 - accuracy: 0.1723 - val_loss: 5.2938 - val_accuracy: 0.1932\n",
            "Epoch 75/500\n",
            "104/104 [==============================] - 0s 4ms/step - loss: 8.5001 - accuracy: 0.1687 - val_loss: 5.2916 - val_accuracy: 0.1932\n",
            "Epoch 76/500\n",
            "104/104 [==============================] - 0s 4ms/step - loss: 8.2536 - accuracy: 0.1765 - val_loss: 5.2892 - val_accuracy: 0.1932\n",
            "Epoch 77/500\n",
            "104/104 [==============================] - 0s 4ms/step - loss: 8.3081 - accuracy: 0.1747 - val_loss: 5.2865 - val_accuracy: 0.1932\n",
            "Epoch 78/500\n",
            "104/104 [==============================] - 0s 4ms/step - loss: 8.2387 - accuracy: 0.1850 - val_loss: 5.2845 - val_accuracy: 0.1932\n",
            "Epoch 79/500\n",
            "104/104 [==============================] - 0s 4ms/step - loss: 8.3265 - accuracy: 0.1747 - val_loss: 5.2825 - val_accuracy: 0.1932\n",
            "Epoch 80/500\n",
            "104/104 [==============================] - 0s 4ms/step - loss: 8.2558 - accuracy: 0.1862 - val_loss: 5.2801 - val_accuracy: 0.1932\n",
            "Epoch 81/500\n",
            "104/104 [==============================] - 0s 4ms/step - loss: 8.2531 - accuracy: 0.1790 - val_loss: 5.2780 - val_accuracy: 0.1932\n",
            "Epoch 82/500\n",
            "104/104 [==============================] - 0s 4ms/step - loss: 8.4976 - accuracy: 0.1560 - val_loss: 5.2764 - val_accuracy: 0.1932\n",
            "Epoch 83/500\n",
            "104/104 [==============================] - 0s 4ms/step - loss: 8.3211 - accuracy: 0.1995 - val_loss: 5.2744 - val_accuracy: 0.1932\n",
            "Epoch 84/500\n",
            "104/104 [==============================] - 0s 4ms/step - loss: 8.3949 - accuracy: 0.1699 - val_loss: 5.2724 - val_accuracy: 0.1932\n",
            "Epoch 85/500\n",
            "104/104 [==============================] - 0s 4ms/step - loss: 8.5295 - accuracy: 0.1711 - val_loss: 5.2706 - val_accuracy: 0.1932\n",
            "Epoch 86/500\n",
            "104/104 [==============================] - 0s 4ms/step - loss: 8.4726 - accuracy: 0.1651 - val_loss: 5.2686 - val_accuracy: 0.1932\n",
            "Epoch 87/500\n",
            "104/104 [==============================] - 0s 4ms/step - loss: 8.3964 - accuracy: 0.1838 - val_loss: 5.2669 - val_accuracy: 0.1932\n",
            "Epoch 88/500\n",
            "104/104 [==============================] - 0s 4ms/step - loss: 8.1848 - accuracy: 0.1850 - val_loss: 5.2650 - val_accuracy: 0.1932\n",
            "Epoch 89/500\n",
            "104/104 [==============================] - 0s 4ms/step - loss: 8.4751 - accuracy: 0.1826 - val_loss: 5.2633 - val_accuracy: 0.1932\n",
            "Epoch 90/500\n",
            "104/104 [==============================] - 0s 4ms/step - loss: 8.4320 - accuracy: 0.1802 - val_loss: 5.2619 - val_accuracy: 0.1932\n",
            "Epoch 91/500\n",
            "104/104 [==============================] - 0s 4ms/step - loss: 7.9771 - accuracy: 0.1935 - val_loss: 5.2598 - val_accuracy: 0.1932\n",
            "Epoch 92/500\n",
            "104/104 [==============================] - 0s 4ms/step - loss: 8.1228 - accuracy: 0.1868 - val_loss: 5.2583 - val_accuracy: 0.1932\n",
            "Epoch 93/500\n",
            "104/104 [==============================] - 0s 4ms/step - loss: 8.4022 - accuracy: 0.1771 - val_loss: 5.2567 - val_accuracy: 0.1932\n",
            "Epoch 94/500\n",
            "104/104 [==============================] - 0s 4ms/step - loss: 8.0528 - accuracy: 0.1826 - val_loss: 5.2553 - val_accuracy: 0.1932\n",
            "Epoch 95/500\n",
            "104/104 [==============================] - 0s 4ms/step - loss: 8.2403 - accuracy: 0.1814 - val_loss: 5.2536 - val_accuracy: 0.1932\n",
            "Epoch 96/500\n",
            "104/104 [==============================] - 0s 4ms/step - loss: 8.1806 - accuracy: 0.1904 - val_loss: 5.2522 - val_accuracy: 0.1932\n",
            "Epoch 97/500\n",
            "104/104 [==============================] - 0s 4ms/step - loss: 8.2596 - accuracy: 0.1844 - val_loss: 5.2508 - val_accuracy: 0.1932\n",
            "Epoch 98/500\n",
            "104/104 [==============================] - 0s 4ms/step - loss: 8.2016 - accuracy: 0.1802 - val_loss: 5.2498 - val_accuracy: 0.1932\n",
            "Epoch 99/500\n",
            "104/104 [==============================] - 0s 4ms/step - loss: 8.3918 - accuracy: 0.1669 - val_loss: 5.2482 - val_accuracy: 0.1932\n",
            "Epoch 100/500\n",
            "104/104 [==============================] - 0s 5ms/step - loss: 8.3195 - accuracy: 0.1651 - val_loss: 5.2467 - val_accuracy: 0.1932\n",
            "Epoch 101/500\n",
            "104/104 [==============================] - 0s 5ms/step - loss: 8.2398 - accuracy: 0.1796 - val_loss: 5.2452 - val_accuracy: 0.1932\n",
            "Epoch 102/500\n",
            "104/104 [==============================] - 0s 5ms/step - loss: 8.2708 - accuracy: 0.1717 - val_loss: 5.2434 - val_accuracy: 0.1932\n",
            "Epoch 103/500\n",
            "104/104 [==============================] - 0s 4ms/step - loss: 8.2708 - accuracy: 0.1850 - val_loss: 5.2420 - val_accuracy: 0.1932\n",
            "Epoch 104/500\n",
            "104/104 [==============================] - 0s 5ms/step - loss: 8.1898 - accuracy: 0.1784 - val_loss: 5.2409 - val_accuracy: 0.1932\n",
            "Epoch 105/500\n",
            "104/104 [==============================] - 0s 4ms/step - loss: 8.2037 - accuracy: 0.1977 - val_loss: 5.2399 - val_accuracy: 0.1932\n",
            "Epoch 106/500\n",
            "104/104 [==============================] - 0s 5ms/step - loss: 8.3948 - accuracy: 0.1681 - val_loss: 5.2389 - val_accuracy: 0.1932\n",
            "Epoch 107/500\n",
            "104/104 [==============================] - 0s 4ms/step - loss: 8.0991 - accuracy: 0.1844 - val_loss: 5.2375 - val_accuracy: 0.1932\n",
            "Epoch 108/500\n",
            "104/104 [==============================] - 0s 4ms/step - loss: 8.1428 - accuracy: 0.1953 - val_loss: 5.2364 - val_accuracy: 0.1932\n",
            "Epoch 109/500\n",
            "104/104 [==============================] - 0s 4ms/step - loss: 8.2276 - accuracy: 0.1820 - val_loss: 5.2353 - val_accuracy: 0.1932\n",
            "Epoch 110/500\n",
            "104/104 [==============================] - 0s 4ms/step - loss: 8.1552 - accuracy: 0.1808 - val_loss: 5.2341 - val_accuracy: 0.1932\n",
            "Epoch 111/500\n",
            "104/104 [==============================] - 0s 5ms/step - loss: 7.9926 - accuracy: 0.1832 - val_loss: 5.2330 - val_accuracy: 0.1932\n",
            "Epoch 112/500\n",
            "104/104 [==============================] - 0s 4ms/step - loss: 8.1147 - accuracy: 0.1765 - val_loss: 5.2322 - val_accuracy: 0.1932\n",
            "Epoch 113/500\n",
            "104/104 [==============================] - 0s 4ms/step - loss: 8.1049 - accuracy: 0.1911 - val_loss: 5.2312 - val_accuracy: 0.1932\n",
            "Epoch 114/500\n",
            "104/104 [==============================] - 0s 4ms/step - loss: 8.2615 - accuracy: 0.1826 - val_loss: 5.2301 - val_accuracy: 0.1932\n",
            "Epoch 115/500\n",
            "104/104 [==============================] - 0s 4ms/step - loss: 8.1249 - accuracy: 0.2013 - val_loss: 5.2290 - val_accuracy: 0.1932\n",
            "Epoch 116/500\n",
            "104/104 [==============================] - 1s 5ms/step - loss: 8.1758 - accuracy: 0.1759 - val_loss: 5.2279 - val_accuracy: 0.1932\n",
            "Epoch 117/500\n",
            "104/104 [==============================] - 0s 4ms/step - loss: 8.3087 - accuracy: 0.1723 - val_loss: 5.2268 - val_accuracy: 0.1932\n",
            "Epoch 118/500\n",
            "104/104 [==============================] - 0s 4ms/step - loss: 8.0798 - accuracy: 0.1880 - val_loss: 5.2259 - val_accuracy: 0.1932\n",
            "Epoch 119/500\n",
            "104/104 [==============================] - 0s 4ms/step - loss: 8.4051 - accuracy: 0.1705 - val_loss: 5.2249 - val_accuracy: 0.1932\n",
            "Epoch 120/500\n",
            "104/104 [==============================] - 0s 4ms/step - loss: 8.1347 - accuracy: 0.1898 - val_loss: 5.2240 - val_accuracy: 0.1932\n",
            "Epoch 121/500\n",
            "104/104 [==============================] - 0s 4ms/step - loss: 8.1236 - accuracy: 0.1880 - val_loss: 5.2232 - val_accuracy: 0.1932\n",
            "Epoch 122/500\n",
            "104/104 [==============================] - 0s 5ms/step - loss: 8.1554 - accuracy: 0.1747 - val_loss: 5.2224 - val_accuracy: 0.1932\n",
            "Epoch 123/500\n",
            "104/104 [==============================] - 0s 4ms/step - loss: 8.0737 - accuracy: 0.1784 - val_loss: 5.2216 - val_accuracy: 0.1932\n",
            "Epoch 124/500\n",
            "104/104 [==============================] - 0s 4ms/step - loss: 8.0849 - accuracy: 0.2044 - val_loss: 5.2206 - val_accuracy: 0.1932\n",
            "Epoch 125/500\n",
            "104/104 [==============================] - 0s 4ms/step - loss: 8.2206 - accuracy: 0.1820 - val_loss: 5.2198 - val_accuracy: 0.1932\n",
            "Epoch 126/500\n",
            "104/104 [==============================] - 0s 4ms/step - loss: 8.1873 - accuracy: 0.1651 - val_loss: 5.2189 - val_accuracy: 0.1932\n",
            "Epoch 127/500\n",
            "104/104 [==============================] - 0s 4ms/step - loss: 8.2903 - accuracy: 0.1566 - val_loss: 5.2182 - val_accuracy: 0.1932\n",
            "Epoch 128/500\n",
            "104/104 [==============================] - 0s 4ms/step - loss: 8.3803 - accuracy: 0.1693 - val_loss: 5.2172 - val_accuracy: 0.1932\n",
            "Epoch 129/500\n",
            "104/104 [==============================] - 0s 4ms/step - loss: 8.2567 - accuracy: 0.1820 - val_loss: 5.2163 - val_accuracy: 0.1932\n",
            "Epoch 130/500\n",
            "104/104 [==============================] - 0s 4ms/step - loss: 8.1004 - accuracy: 0.1747 - val_loss: 5.2154 - val_accuracy: 0.1932\n",
            "Epoch 131/500\n",
            "104/104 [==============================] - 0s 4ms/step - loss: 8.2546 - accuracy: 0.1911 - val_loss: 5.2145 - val_accuracy: 0.1932\n",
            "Epoch 132/500\n",
            "104/104 [==============================] - 0s 4ms/step - loss: 8.1543 - accuracy: 0.1723 - val_loss: 5.2137 - val_accuracy: 0.1932\n",
            "Epoch 133/500\n",
            "104/104 [==============================] - 0s 4ms/step - loss: 8.2375 - accuracy: 0.1826 - val_loss: 5.2129 - val_accuracy: 0.1932\n",
            "Epoch 134/500\n",
            "104/104 [==============================] - 0s 5ms/step - loss: 8.0246 - accuracy: 0.1941 - val_loss: 5.2120 - val_accuracy: 0.1932\n",
            "Epoch 135/500\n",
            "104/104 [==============================] - 0s 5ms/step - loss: 8.2200 - accuracy: 0.1917 - val_loss: 5.2112 - val_accuracy: 0.1932\n",
            "Epoch 136/500\n",
            "104/104 [==============================] - 0s 4ms/step - loss: 8.1603 - accuracy: 0.1862 - val_loss: 5.2105 - val_accuracy: 0.1932\n",
            "Epoch 137/500\n",
            "104/104 [==============================] - 0s 5ms/step - loss: 8.1976 - accuracy: 0.1947 - val_loss: 5.2097 - val_accuracy: 0.1932\n",
            "Epoch 138/500\n",
            "104/104 [==============================] - 0s 4ms/step - loss: 8.0949 - accuracy: 0.1838 - val_loss: 5.2090 - val_accuracy: 0.1932\n",
            "Epoch 139/500\n",
            "104/104 [==============================] - 0s 4ms/step - loss: 8.3392 - accuracy: 0.1638 - val_loss: 5.2083 - val_accuracy: 0.1932\n",
            "Epoch 140/500\n",
            "104/104 [==============================] - 0s 4ms/step - loss: 8.2822 - accuracy: 0.1941 - val_loss: 5.2075 - val_accuracy: 0.1932\n",
            "Epoch 141/500\n",
            "104/104 [==============================] - 0s 5ms/step - loss: 8.1575 - accuracy: 0.1808 - val_loss: 5.2068 - val_accuracy: 0.1932\n",
            "Epoch 142/500\n",
            "104/104 [==============================] - 0s 5ms/step - loss: 8.1779 - accuracy: 0.1759 - val_loss: 5.2062 - val_accuracy: 0.1932\n",
            "Epoch 143/500\n",
            "104/104 [==============================] - 0s 4ms/step - loss: 8.3069 - accuracy: 0.1808 - val_loss: 5.2055 - val_accuracy: 0.1932\n",
            "Epoch 144/500\n",
            "104/104 [==============================] - 0s 4ms/step - loss: 8.1337 - accuracy: 0.1747 - val_loss: 5.2049 - val_accuracy: 0.1932\n",
            "Epoch 145/500\n",
            "104/104 [==============================] - 0s 4ms/step - loss: 7.9926 - accuracy: 0.1814 - val_loss: 5.2042 - val_accuracy: 0.1932\n",
            "Epoch 146/500\n",
            "104/104 [==============================] - 0s 5ms/step - loss: 8.1499 - accuracy: 0.1820 - val_loss: 5.2035 - val_accuracy: 0.1932\n",
            "Epoch 147/500\n",
            "104/104 [==============================] - 0s 4ms/step - loss: 8.0420 - accuracy: 0.1838 - val_loss: 5.2028 - val_accuracy: 0.1932\n",
            "Epoch 148/500\n",
            "104/104 [==============================] - 0s 5ms/step - loss: 8.1625 - accuracy: 0.1741 - val_loss: 5.2022 - val_accuracy: 0.1932\n",
            "Epoch 149/500\n",
            "104/104 [==============================] - 0s 4ms/step - loss: 8.1319 - accuracy: 0.1778 - val_loss: 5.2015 - val_accuracy: 0.1932\n",
            "Epoch 150/500\n",
            "104/104 [==============================] - 0s 5ms/step - loss: 8.2296 - accuracy: 0.1850 - val_loss: 5.2010 - val_accuracy: 0.1932\n",
            "Epoch 151/500\n",
            "104/104 [==============================] - 0s 4ms/step - loss: 7.9676 - accuracy: 0.1838 - val_loss: 5.2004 - val_accuracy: 0.1932\n",
            "Epoch 152/500\n",
            "104/104 [==============================] - 0s 4ms/step - loss: 8.0734 - accuracy: 0.1898 - val_loss: 5.1997 - val_accuracy: 0.1932\n",
            "Epoch 153/500\n",
            "104/104 [==============================] - 0s 4ms/step - loss: 8.2059 - accuracy: 0.1935 - val_loss: 5.1990 - val_accuracy: 0.1932\n",
            "Epoch 154/500\n",
            "104/104 [==============================] - 0s 4ms/step - loss: 8.2156 - accuracy: 0.1832 - val_loss: 5.1983 - val_accuracy: 0.1932\n",
            "Epoch 155/500\n",
            "104/104 [==============================] - 0s 5ms/step - loss: 8.2976 - accuracy: 0.1711 - val_loss: 5.1978 - val_accuracy: 0.1932\n",
            "Epoch 156/500\n",
            "104/104 [==============================] - 0s 4ms/step - loss: 8.1676 - accuracy: 0.1814 - val_loss: 5.1972 - val_accuracy: 0.1932\n",
            "Epoch 157/500\n",
            "104/104 [==============================] - 0s 4ms/step - loss: 8.1012 - accuracy: 0.1983 - val_loss: 5.1966 - val_accuracy: 0.1932\n",
            "Epoch 158/500\n",
            "104/104 [==============================] - 0s 5ms/step - loss: 8.2734 - accuracy: 0.1778 - val_loss: 5.1960 - val_accuracy: 0.1932\n",
            "Epoch 159/500\n",
            "104/104 [==============================] - 0s 4ms/step - loss: 8.0895 - accuracy: 0.1693 - val_loss: 5.1955 - val_accuracy: 0.1932\n",
            "Epoch 160/500\n",
            "104/104 [==============================] - 0s 4ms/step - loss: 8.0502 - accuracy: 0.1778 - val_loss: 5.1948 - val_accuracy: 0.1932\n",
            "Epoch 161/500\n",
            "104/104 [==============================] - 0s 5ms/step - loss: 8.0958 - accuracy: 0.1765 - val_loss: 5.1942 - val_accuracy: 0.1932\n",
            "Epoch 162/500\n",
            "104/104 [==============================] - 0s 4ms/step - loss: 8.2413 - accuracy: 0.1832 - val_loss: 5.1935 - val_accuracy: 0.1932\n",
            "Epoch 163/500\n",
            "104/104 [==============================] - 0s 4ms/step - loss: 8.0017 - accuracy: 0.1820 - val_loss: 5.1930 - val_accuracy: 0.1932\n",
            "Epoch 164/500\n",
            "104/104 [==============================] - 0s 4ms/step - loss: 8.3636 - accuracy: 0.1687 - val_loss: 5.1924 - val_accuracy: 0.1932\n",
            "Epoch 165/500\n",
            "104/104 [==============================] - 0s 4ms/step - loss: 8.2886 - accuracy: 0.1802 - val_loss: 5.1919 - val_accuracy: 0.1932\n",
            "Epoch 166/500\n",
            "104/104 [==============================] - 0s 4ms/step - loss: 8.1977 - accuracy: 0.1826 - val_loss: 5.1913 - val_accuracy: 0.1932\n",
            "Epoch 167/500\n",
            "104/104 [==============================] - 0s 5ms/step - loss: 8.2475 - accuracy: 0.1935 - val_loss: 5.1907 - val_accuracy: 0.1932\n",
            "Epoch 168/500\n",
            "104/104 [==============================] - 0s 4ms/step - loss: 8.1506 - accuracy: 0.1735 - val_loss: 5.1902 - val_accuracy: 0.1932\n",
            "Epoch 169/500\n",
            "104/104 [==============================] - 0s 5ms/step - loss: 8.0729 - accuracy: 0.1771 - val_loss: 5.1896 - val_accuracy: 0.1932\n",
            "Epoch 170/500\n",
            "104/104 [==============================] - 0s 5ms/step - loss: 8.2729 - accuracy: 0.1578 - val_loss: 5.1893 - val_accuracy: 0.1932\n",
            "Epoch 171/500\n",
            "104/104 [==============================] - 0s 5ms/step - loss: 8.1593 - accuracy: 0.1759 - val_loss: 5.1888 - val_accuracy: 0.1932\n",
            "Epoch 172/500\n",
            "104/104 [==============================] - 0s 4ms/step - loss: 8.0030 - accuracy: 0.1959 - val_loss: 5.1883 - val_accuracy: 0.1932\n",
            "Epoch 173/500\n",
            "104/104 [==============================] - 0s 5ms/step - loss: 8.2457 - accuracy: 0.1765 - val_loss: 5.1877 - val_accuracy: 0.1932\n",
            "Epoch 174/500\n",
            "104/104 [==============================] - 0s 5ms/step - loss: 8.2813 - accuracy: 0.1699 - val_loss: 5.1874 - val_accuracy: 0.1932\n",
            "Epoch 175/500\n",
            "104/104 [==============================] - 0s 5ms/step - loss: 8.2059 - accuracy: 0.1759 - val_loss: 5.1868 - val_accuracy: 0.1932\n",
            "Epoch 176/500\n",
            "104/104 [==============================] - 0s 5ms/step - loss: 8.0881 - accuracy: 0.1705 - val_loss: 5.1864 - val_accuracy: 0.1932\n",
            "Epoch 177/500\n",
            "104/104 [==============================] - 0s 4ms/step - loss: 8.2311 - accuracy: 0.1808 - val_loss: 5.1858 - val_accuracy: 0.1932\n",
            "Epoch 178/500\n",
            "104/104 [==============================] - 0s 5ms/step - loss: 8.2120 - accuracy: 0.1759 - val_loss: 5.1853 - val_accuracy: 0.1932\n",
            "Epoch 179/500\n",
            "104/104 [==============================] - 0s 5ms/step - loss: 8.1583 - accuracy: 0.1765 - val_loss: 5.1849 - val_accuracy: 0.1932\n",
            "Epoch 180/500\n",
            "104/104 [==============================] - 0s 5ms/step - loss: 8.2101 - accuracy: 0.1796 - val_loss: 5.1843 - val_accuracy: 0.1932\n",
            "Epoch 181/500\n",
            "104/104 [==============================] - 0s 5ms/step - loss: 8.2325 - accuracy: 0.1632 - val_loss: 5.1838 - val_accuracy: 0.1932\n",
            "Epoch 182/500\n",
            "104/104 [==============================] - 0s 4ms/step - loss: 8.0266 - accuracy: 0.1681 - val_loss: 5.1834 - val_accuracy: 0.1932\n",
            "Epoch 183/500\n",
            "104/104 [==============================] - 0s 4ms/step - loss: 7.8420 - accuracy: 0.1965 - val_loss: 5.1829 - val_accuracy: 0.1932\n",
            "Epoch 184/500\n",
            "104/104 [==============================] - 0s 4ms/step - loss: 8.1239 - accuracy: 0.1826 - val_loss: 5.1825 - val_accuracy: 0.1932\n",
            "Epoch 185/500\n",
            "104/104 [==============================] - 0s 5ms/step - loss: 8.2267 - accuracy: 0.1675 - val_loss: 5.1820 - val_accuracy: 0.1932\n",
            "Epoch 186/500\n",
            "104/104 [==============================] - 0s 5ms/step - loss: 8.0653 - accuracy: 0.1886 - val_loss: 5.1816 - val_accuracy: 0.1932\n",
            "Epoch 187/500\n",
            "104/104 [==============================] - 0s 4ms/step - loss: 8.4063 - accuracy: 0.1850 - val_loss: 5.1811 - val_accuracy: 0.1932\n",
            "Epoch 188/500\n",
            "104/104 [==============================] - 0s 4ms/step - loss: 8.0763 - accuracy: 0.1826 - val_loss: 5.1807 - val_accuracy: 0.1932\n",
            "Epoch 189/500\n",
            "104/104 [==============================] - 0s 4ms/step - loss: 8.1417 - accuracy: 0.1814 - val_loss: 5.1802 - val_accuracy: 0.1932\n",
            "Epoch 190/500\n",
            "104/104 [==============================] - 0s 5ms/step - loss: 8.2276 - accuracy: 0.1759 - val_loss: 5.1799 - val_accuracy: 0.1932\n",
            "Epoch 191/500\n",
            "104/104 [==============================] - 0s 4ms/step - loss: 8.0812 - accuracy: 0.1862 - val_loss: 5.1794 - val_accuracy: 0.1932\n",
            "Epoch 192/500\n",
            "104/104 [==============================] - 0s 4ms/step - loss: 8.3769 - accuracy: 0.1723 - val_loss: 5.1791 - val_accuracy: 0.1932\n",
            "Epoch 193/500\n",
            "104/104 [==============================] - 0s 4ms/step - loss: 7.9733 - accuracy: 0.1771 - val_loss: 5.1787 - val_accuracy: 0.1932\n",
            "Epoch 194/500\n",
            "104/104 [==============================] - 0s 4ms/step - loss: 8.2769 - accuracy: 0.1929 - val_loss: 5.1783 - val_accuracy: 0.1932\n",
            "Epoch 195/500\n",
            "104/104 [==============================] - 0s 5ms/step - loss: 8.1014 - accuracy: 0.1753 - val_loss: 5.1779 - val_accuracy: 0.1932\n",
            "Epoch 196/500\n",
            "104/104 [==============================] - 0s 5ms/step - loss: 8.4090 - accuracy: 0.1717 - val_loss: 5.1775 - val_accuracy: 0.1932\n",
            "Epoch 197/500\n",
            "104/104 [==============================] - 0s 5ms/step - loss: 8.0916 - accuracy: 0.1832 - val_loss: 5.1771 - val_accuracy: 0.1932\n",
            "Epoch 198/500\n",
            "104/104 [==============================] - 0s 5ms/step - loss: 7.9798 - accuracy: 0.1765 - val_loss: 5.1767 - val_accuracy: 0.1932\n",
            "Epoch 199/500\n",
            "104/104 [==============================] - 0s 4ms/step - loss: 7.9421 - accuracy: 0.1790 - val_loss: 5.1763 - val_accuracy: 0.1932\n",
            "Epoch 200/500\n",
            "104/104 [==============================] - 0s 5ms/step - loss: 7.9830 - accuracy: 0.1904 - val_loss: 5.1759 - val_accuracy: 0.1932\n",
            "Epoch 201/500\n",
            "104/104 [==============================] - 0s 4ms/step - loss: 8.1525 - accuracy: 0.1687 - val_loss: 5.1756 - val_accuracy: 0.1932\n",
            "Epoch 202/500\n",
            "104/104 [==============================] - 0s 4ms/step - loss: 8.1378 - accuracy: 0.1826 - val_loss: 5.1752 - val_accuracy: 0.1932\n",
            "Epoch 203/500\n",
            "104/104 [==============================] - 0s 4ms/step - loss: 8.1177 - accuracy: 0.1850 - val_loss: 5.1748 - val_accuracy: 0.1932\n",
            "Epoch 204/500\n",
            "104/104 [==============================] - 0s 4ms/step - loss: 8.3036 - accuracy: 0.1784 - val_loss: 5.1745 - val_accuracy: 0.1932\n",
            "Epoch 205/500\n",
            "104/104 [==============================] - 0s 4ms/step - loss: 8.2726 - accuracy: 0.1826 - val_loss: 5.1742 - val_accuracy: 0.1932\n",
            "Epoch 206/500\n",
            "104/104 [==============================] - 0s 4ms/step - loss: 8.2369 - accuracy: 0.1644 - val_loss: 5.1739 - val_accuracy: 0.1932\n",
            "Epoch 207/500\n",
            "104/104 [==============================] - 0s 4ms/step - loss: 8.3122 - accuracy: 0.1814 - val_loss: 5.1736 - val_accuracy: 0.1932\n",
            "Epoch 208/500\n",
            "104/104 [==============================] - 0s 4ms/step - loss: 8.1932 - accuracy: 0.1705 - val_loss: 5.1733 - val_accuracy: 0.1932\n",
            "Epoch 209/500\n",
            "104/104 [==============================] - 0s 5ms/step - loss: 7.8063 - accuracy: 0.1741 - val_loss: 5.1730 - val_accuracy: 0.1932\n",
            "Epoch 210/500\n",
            "104/104 [==============================] - 0s 4ms/step - loss: 8.0539 - accuracy: 0.1904 - val_loss: 5.1727 - val_accuracy: 0.1932\n",
            "Epoch 211/500\n",
            "104/104 [==============================] - 0s 5ms/step - loss: 8.0191 - accuracy: 0.1820 - val_loss: 5.1724 - val_accuracy: 0.1932\n",
            "Epoch 212/500\n",
            "104/104 [==============================] - 0s 5ms/step - loss: 8.2588 - accuracy: 0.1675 - val_loss: 5.1721 - val_accuracy: 0.1932\n",
            "Epoch 213/500\n",
            "104/104 [==============================] - 0s 5ms/step - loss: 7.9948 - accuracy: 0.1874 - val_loss: 5.1717 - val_accuracy: 0.1932\n",
            "Epoch 214/500\n",
            "104/104 [==============================] - 0s 5ms/step - loss: 8.2701 - accuracy: 0.1856 - val_loss: 5.1714 - val_accuracy: 0.1932\n",
            "Epoch 215/500\n",
            "104/104 [==============================] - 0s 5ms/step - loss: 8.2866 - accuracy: 0.1711 - val_loss: 5.1711 - val_accuracy: 0.1932\n",
            "Epoch 216/500\n",
            "104/104 [==============================] - 0s 5ms/step - loss: 8.0795 - accuracy: 0.1820 - val_loss: 5.1708 - val_accuracy: 0.1932\n",
            "Epoch 217/500\n",
            "104/104 [==============================] - 0s 5ms/step - loss: 8.4098 - accuracy: 0.1638 - val_loss: 5.1705 - val_accuracy: 0.1932\n",
            "Epoch 218/500\n",
            "104/104 [==============================] - 0s 4ms/step - loss: 8.1546 - accuracy: 0.1838 - val_loss: 5.1702 - val_accuracy: 0.1932\n",
            "Epoch 219/500\n",
            "104/104 [==============================] - 0s 5ms/step - loss: 8.0901 - accuracy: 0.1820 - val_loss: 5.1699 - val_accuracy: 0.1932\n",
            "Epoch 220/500\n",
            "104/104 [==============================] - 0s 4ms/step - loss: 8.1625 - accuracy: 0.1771 - val_loss: 5.1696 - val_accuracy: 0.1932\n",
            "Epoch 221/500\n",
            "104/104 [==============================] - 0s 4ms/step - loss: 8.1870 - accuracy: 0.1735 - val_loss: 5.1693 - val_accuracy: 0.1932\n",
            "Epoch 222/500\n",
            "104/104 [==============================] - 0s 4ms/step - loss: 8.2841 - accuracy: 0.1699 - val_loss: 5.1690 - val_accuracy: 0.1932\n",
            "Epoch 223/500\n",
            "104/104 [==============================] - 0s 4ms/step - loss: 8.1605 - accuracy: 0.1765 - val_loss: 5.1687 - val_accuracy: 0.1932\n",
            "Epoch 224/500\n",
            "104/104 [==============================] - 0s 5ms/step - loss: 8.1365 - accuracy: 0.1765 - val_loss: 5.1684 - val_accuracy: 0.1932\n",
            "Epoch 225/500\n",
            "104/104 [==============================] - 0s 5ms/step - loss: 8.0748 - accuracy: 0.1820 - val_loss: 5.1682 - val_accuracy: 0.1932\n",
            "Epoch 226/500\n",
            "104/104 [==============================] - 0s 4ms/step - loss: 8.0785 - accuracy: 0.1778 - val_loss: 5.1680 - val_accuracy: 0.1932\n",
            "Epoch 227/500\n",
            "104/104 [==============================] - 0s 4ms/step - loss: 8.0117 - accuracy: 0.1874 - val_loss: 5.1677 - val_accuracy: 0.1932\n",
            "Epoch 228/500\n",
            "104/104 [==============================] - 1s 5ms/step - loss: 8.0938 - accuracy: 0.1644 - val_loss: 5.1675 - val_accuracy: 0.1932\n",
            "Epoch 229/500\n",
            "104/104 [==============================] - 0s 4ms/step - loss: 8.2660 - accuracy: 0.1814 - val_loss: 5.1673 - val_accuracy: 0.1932\n",
            "Epoch 230/500\n",
            "104/104 [==============================] - 0s 4ms/step - loss: 8.1813 - accuracy: 0.1802 - val_loss: 5.1670 - val_accuracy: 0.1932\n",
            "Epoch 231/500\n",
            "104/104 [==============================] - 0s 4ms/step - loss: 8.3615 - accuracy: 0.1790 - val_loss: 5.1668 - val_accuracy: 0.1932\n",
            "Epoch 232/500\n",
            "104/104 [==============================] - 0s 4ms/step - loss: 8.0812 - accuracy: 0.1874 - val_loss: 5.1665 - val_accuracy: 0.1932\n",
            "Epoch 233/500\n",
            "104/104 [==============================] - 0s 4ms/step - loss: 8.1260 - accuracy: 0.1874 - val_loss: 5.1663 - val_accuracy: 0.1932\n",
            "Epoch 234/500\n",
            "104/104 [==============================] - 0s 5ms/step - loss: 8.2672 - accuracy: 0.1663 - val_loss: 5.1660 - val_accuracy: 0.1932\n",
            "Epoch 235/500\n",
            "104/104 [==============================] - 0s 5ms/step - loss: 8.2158 - accuracy: 0.1832 - val_loss: 5.1658 - val_accuracy: 0.1932\n",
            "Epoch 236/500\n",
            "104/104 [==============================] - 0s 4ms/step - loss: 8.0201 - accuracy: 0.1729 - val_loss: 5.1655 - val_accuracy: 0.1932\n",
            "Epoch 237/500\n",
            "104/104 [==============================] - 0s 4ms/step - loss: 8.1125 - accuracy: 0.1741 - val_loss: 5.1652 - val_accuracy: 0.1932\n",
            "Epoch 238/500\n",
            "104/104 [==============================] - 0s 4ms/step - loss: 7.8219 - accuracy: 0.1917 - val_loss: 5.1650 - val_accuracy: 0.1932\n",
            "Epoch 239/500\n",
            "104/104 [==============================] - 0s 4ms/step - loss: 8.1299 - accuracy: 0.1729 - val_loss: 5.1647 - val_accuracy: 0.1932\n",
            "Epoch 240/500\n",
            "104/104 [==============================] - 0s 5ms/step - loss: 8.3021 - accuracy: 0.1784 - val_loss: 5.1645 - val_accuracy: 0.1932\n",
            "Epoch 241/500\n",
            "104/104 [==============================] - 0s 4ms/step - loss: 8.1506 - accuracy: 0.1747 - val_loss: 5.1643 - val_accuracy: 0.1932\n",
            "Epoch 242/500\n",
            "104/104 [==============================] - 0s 4ms/step - loss: 8.0114 - accuracy: 0.1808 - val_loss: 5.1641 - val_accuracy: 0.1932\n",
            "Epoch 243/500\n",
            "104/104 [==============================] - 0s 5ms/step - loss: 8.2529 - accuracy: 0.1699 - val_loss: 5.1639 - val_accuracy: 0.1932\n",
            "Epoch 244/500\n",
            "104/104 [==============================] - 0s 4ms/step - loss: 7.9848 - accuracy: 0.1814 - val_loss: 5.1637 - val_accuracy: 0.1932\n",
            "Epoch 245/500\n",
            "104/104 [==============================] - 0s 4ms/step - loss: 8.0548 - accuracy: 0.1923 - val_loss: 5.1635 - val_accuracy: 0.1932\n",
            "Epoch 246/500\n",
            "104/104 [==============================] - 0s 5ms/step - loss: 8.0839 - accuracy: 0.1741 - val_loss: 5.1633 - val_accuracy: 0.1932\n",
            "Epoch 247/500\n",
            "104/104 [==============================] - 0s 4ms/step - loss: 8.2358 - accuracy: 0.1705 - val_loss: 5.1630 - val_accuracy: 0.1932\n",
            "Epoch 248/500\n",
            "104/104 [==============================] - 0s 5ms/step - loss: 7.9345 - accuracy: 0.1868 - val_loss: 5.1628 - val_accuracy: 0.1932\n",
            "Epoch 249/500\n",
            "104/104 [==============================] - 0s 4ms/step - loss: 8.1042 - accuracy: 0.1886 - val_loss: 5.1626 - val_accuracy: 0.1932\n",
            "Epoch 250/500\n",
            "104/104 [==============================] - 0s 5ms/step - loss: 8.1113 - accuracy: 0.1723 - val_loss: 5.1624 - val_accuracy: 0.1932\n",
            "Epoch 251/500\n",
            "104/104 [==============================] - 1s 5ms/step - loss: 8.0977 - accuracy: 0.1771 - val_loss: 5.1621 - val_accuracy: 0.1932\n",
            "Epoch 252/500\n",
            "104/104 [==============================] - 0s 5ms/step - loss: 8.2649 - accuracy: 0.1741 - val_loss: 5.1620 - val_accuracy: 0.1932\n",
            "Epoch 253/500\n",
            "104/104 [==============================] - 0s 4ms/step - loss: 8.0161 - accuracy: 0.1802 - val_loss: 5.1618 - val_accuracy: 0.1932\n",
            "Epoch 254/500\n",
            "104/104 [==============================] - 0s 5ms/step - loss: 8.2627 - accuracy: 0.1711 - val_loss: 5.1615 - val_accuracy: 0.1932\n",
            "Epoch 255/500\n",
            "104/104 [==============================] - 0s 4ms/step - loss: 7.9115 - accuracy: 0.1826 - val_loss: 5.1613 - val_accuracy: 0.1932\n",
            "Epoch 256/500\n",
            "104/104 [==============================] - 0s 5ms/step - loss: 8.0968 - accuracy: 0.1717 - val_loss: 5.1611 - val_accuracy: 0.1932\n",
            "Epoch 257/500\n",
            "104/104 [==============================] - 0s 4ms/step - loss: 8.2056 - accuracy: 0.1747 - val_loss: 5.1609 - val_accuracy: 0.1932\n",
            "Epoch 258/500\n",
            "104/104 [==============================] - 0s 4ms/step - loss: 8.0189 - accuracy: 0.1735 - val_loss: 5.1607 - val_accuracy: 0.1932\n",
            "Epoch 259/500\n",
            "104/104 [==============================] - 1s 5ms/step - loss: 8.0573 - accuracy: 0.1693 - val_loss: 5.1604 - val_accuracy: 0.1932\n",
            "Epoch 260/500\n",
            "104/104 [==============================] - 1s 5ms/step - loss: 7.9768 - accuracy: 0.1778 - val_loss: 5.1602 - val_accuracy: 0.1932\n",
            "Epoch 261/500\n",
            "104/104 [==============================] - 0s 4ms/step - loss: 8.2330 - accuracy: 0.1850 - val_loss: 5.1600 - val_accuracy: 0.1932\n",
            "Epoch 262/500\n",
            "104/104 [==============================] - 0s 5ms/step - loss: 8.2968 - accuracy: 0.1832 - val_loss: 5.1598 - val_accuracy: 0.1932\n",
            "Epoch 263/500\n",
            "104/104 [==============================] - 0s 5ms/step - loss: 8.2569 - accuracy: 0.1735 - val_loss: 5.1596 - val_accuracy: 0.1932\n",
            "Epoch 264/500\n",
            "104/104 [==============================] - 0s 4ms/step - loss: 8.1382 - accuracy: 0.1796 - val_loss: 5.1594 - val_accuracy: 0.1932\n",
            "Epoch 265/500\n",
            "104/104 [==============================] - 0s 4ms/step - loss: 8.0726 - accuracy: 0.1705 - val_loss: 5.1591 - val_accuracy: 0.1932\n",
            "Epoch 266/500\n",
            "104/104 [==============================] - 0s 5ms/step - loss: 8.2159 - accuracy: 0.1802 - val_loss: 5.1589 - val_accuracy: 0.1932\n",
            "Epoch 267/500\n",
            "104/104 [==============================] - 0s 5ms/step - loss: 8.2481 - accuracy: 0.1802 - val_loss: 5.1587 - val_accuracy: 0.1932\n",
            "Epoch 268/500\n",
            "104/104 [==============================] - 0s 5ms/step - loss: 8.1466 - accuracy: 0.1759 - val_loss: 5.1585 - val_accuracy: 0.1932\n",
            "Epoch 269/500\n",
            "104/104 [==============================] - 1s 5ms/step - loss: 7.9790 - accuracy: 0.1820 - val_loss: 5.1584 - val_accuracy: 0.1932\n",
            "Epoch 270/500\n",
            "104/104 [==============================] - 0s 5ms/step - loss: 7.9638 - accuracy: 0.1784 - val_loss: 5.1582 - val_accuracy: 0.1932\n",
            "Epoch 271/500\n",
            "104/104 [==============================] - 0s 4ms/step - loss: 8.4061 - accuracy: 0.1693 - val_loss: 5.1580 - val_accuracy: 0.1932\n",
            "Epoch 272/500\n",
            "104/104 [==============================] - 0s 4ms/step - loss: 8.1339 - accuracy: 0.1874 - val_loss: 5.1578 - val_accuracy: 0.1932\n",
            "Epoch 273/500\n",
            "104/104 [==============================] - 0s 4ms/step - loss: 8.0710 - accuracy: 0.1826 - val_loss: 5.1576 - val_accuracy: 0.1932\n",
            "Epoch 274/500\n",
            "104/104 [==============================] - 0s 4ms/step - loss: 8.0148 - accuracy: 0.1874 - val_loss: 5.1574 - val_accuracy: 0.1932\n",
            "Epoch 275/500\n",
            "104/104 [==============================] - 0s 5ms/step - loss: 8.1130 - accuracy: 0.1778 - val_loss: 5.1572 - val_accuracy: 0.1932\n",
            "Epoch 276/500\n",
            "104/104 [==============================] - 0s 5ms/step - loss: 8.0544 - accuracy: 0.1832 - val_loss: 5.1570 - val_accuracy: 0.1932\n",
            "Epoch 277/500\n",
            "104/104 [==============================] - 0s 4ms/step - loss: 8.1014 - accuracy: 0.1880 - val_loss: 5.1568 - val_accuracy: 0.1932\n",
            "Epoch 278/500\n",
            "104/104 [==============================] - 0s 4ms/step - loss: 8.0525 - accuracy: 0.1808 - val_loss: 5.1566 - val_accuracy: 0.1932\n",
            "Epoch 279/500\n",
            "104/104 [==============================] - 0s 5ms/step - loss: 8.0232 - accuracy: 0.1820 - val_loss: 5.1565 - val_accuracy: 0.1932\n",
            "Epoch 280/500\n",
            "104/104 [==============================] - 0s 4ms/step - loss: 7.9917 - accuracy: 0.1826 - val_loss: 5.1563 - val_accuracy: 0.1932\n",
            "Epoch 281/500\n",
            "104/104 [==============================] - 0s 5ms/step - loss: 8.1240 - accuracy: 0.1784 - val_loss: 5.1561 - val_accuracy: 0.1932\n",
            "Epoch 282/500\n",
            "104/104 [==============================] - 0s 4ms/step - loss: 8.1480 - accuracy: 0.1820 - val_loss: 5.1559 - val_accuracy: 0.1932\n",
            "Epoch 283/500\n",
            "104/104 [==============================] - 1s 5ms/step - loss: 7.9294 - accuracy: 0.1826 - val_loss: 5.1557 - val_accuracy: 0.1932\n",
            "Epoch 284/500\n",
            "104/104 [==============================] - 0s 5ms/step - loss: 7.9511 - accuracy: 0.1880 - val_loss: 5.1555 - val_accuracy: 0.1932\n",
            "Epoch 285/500\n",
            "104/104 [==============================] - 0s 4ms/step - loss: 7.9639 - accuracy: 0.2007 - val_loss: 5.1554 - val_accuracy: 0.1932\n",
            "Epoch 286/500\n",
            "104/104 [==============================] - 0s 5ms/step - loss: 8.1243 - accuracy: 0.1741 - val_loss: 5.1552 - val_accuracy: 0.1932\n",
            "Epoch 287/500\n",
            "104/104 [==============================] - 0s 5ms/step - loss: 8.0956 - accuracy: 0.1820 - val_loss: 5.1550 - val_accuracy: 0.1932\n",
            "Epoch 288/500\n",
            "104/104 [==============================] - 1s 5ms/step - loss: 8.1608 - accuracy: 0.1747 - val_loss: 5.1548 - val_accuracy: 0.1932\n",
            "Epoch 289/500\n",
            "104/104 [==============================] - 1s 5ms/step - loss: 8.1452 - accuracy: 0.1626 - val_loss: 5.1546 - val_accuracy: 0.1932\n",
            "Epoch 290/500\n",
            "104/104 [==============================] - 1s 5ms/step - loss: 7.9170 - accuracy: 0.1898 - val_loss: 5.1544 - val_accuracy: 0.1932\n",
            "Epoch 291/500\n",
            "104/104 [==============================] - 0s 4ms/step - loss: 8.0514 - accuracy: 0.1892 - val_loss: 5.1543 - val_accuracy: 0.1932\n",
            "Epoch 292/500\n",
            "104/104 [==============================] - 0s 5ms/step - loss: 8.0673 - accuracy: 0.1808 - val_loss: 5.1541 - val_accuracy: 0.1932\n",
            "Epoch 293/500\n",
            "104/104 [==============================] - 0s 5ms/step - loss: 8.1858 - accuracy: 0.1669 - val_loss: 5.1540 - val_accuracy: 0.1932\n",
            "Epoch 294/500\n",
            "104/104 [==============================] - 1s 5ms/step - loss: 8.0366 - accuracy: 0.1844 - val_loss: 5.1538 - val_accuracy: 0.1932\n",
            "Epoch 295/500\n",
            "104/104 [==============================] - 0s 4ms/step - loss: 8.2154 - accuracy: 0.1717 - val_loss: 5.1536 - val_accuracy: 0.1932\n",
            "Epoch 296/500\n",
            "104/104 [==============================] - 0s 4ms/step - loss: 8.1992 - accuracy: 0.1929 - val_loss: 5.1535 - val_accuracy: 0.1932\n",
            "Epoch 297/500\n",
            "104/104 [==============================] - 0s 5ms/step - loss: 8.0522 - accuracy: 0.1850 - val_loss: 5.1533 - val_accuracy: 0.1932\n",
            "Epoch 298/500\n",
            "104/104 [==============================] - 1s 5ms/step - loss: 8.2225 - accuracy: 0.1796 - val_loss: 5.1532 - val_accuracy: 0.1932\n",
            "Epoch 299/500\n",
            "104/104 [==============================] - 0s 4ms/step - loss: 8.0760 - accuracy: 0.1935 - val_loss: 5.1530 - val_accuracy: 0.1932\n",
            "Epoch 300/500\n",
            "104/104 [==============================] - 0s 4ms/step - loss: 8.1174 - accuracy: 0.1820 - val_loss: 5.1528 - val_accuracy: 0.1932\n",
            "Epoch 301/500\n",
            "104/104 [==============================] - 0s 4ms/step - loss: 7.9471 - accuracy: 0.1947 - val_loss: 5.1527 - val_accuracy: 0.1932\n",
            "Epoch 302/500\n",
            "104/104 [==============================] - 0s 4ms/step - loss: 7.9814 - accuracy: 0.1904 - val_loss: 5.1525 - val_accuracy: 0.1932\n",
            "Epoch 303/500\n",
            "104/104 [==============================] - 1s 5ms/step - loss: 7.9362 - accuracy: 0.1735 - val_loss: 5.1523 - val_accuracy: 0.1932\n",
            "Epoch 304/500\n",
            "104/104 [==============================] - 0s 5ms/step - loss: 8.0668 - accuracy: 0.1784 - val_loss: 5.1522 - val_accuracy: 0.1932\n",
            "Epoch 305/500\n",
            "104/104 [==============================] - 0s 4ms/step - loss: 8.0937 - accuracy: 0.1826 - val_loss: 5.1520 - val_accuracy: 0.1932\n",
            "Epoch 306/500\n",
            "104/104 [==============================] - 0s 5ms/step - loss: 8.0885 - accuracy: 0.1917 - val_loss: 5.1519 - val_accuracy: 0.1932\n",
            "Epoch 307/500\n",
            "104/104 [==============================] - 0s 4ms/step - loss: 8.0245 - accuracy: 0.1983 - val_loss: 5.1517 - val_accuracy: 0.1932\n",
            "Epoch 308/500\n",
            "104/104 [==============================] - 0s 4ms/step - loss: 8.1302 - accuracy: 0.1826 - val_loss: 5.1515 - val_accuracy: 0.1932\n",
            "Epoch 309/500\n",
            "104/104 [==============================] - 0s 4ms/step - loss: 8.2197 - accuracy: 0.1886 - val_loss: 5.1513 - val_accuracy: 0.1932\n",
            "Epoch 310/500\n",
            "104/104 [==============================] - 0s 4ms/step - loss: 8.1920 - accuracy: 0.1832 - val_loss: 5.1512 - val_accuracy: 0.1932\n",
            "Epoch 311/500\n",
            "104/104 [==============================] - 0s 5ms/step - loss: 8.3008 - accuracy: 0.1741 - val_loss: 5.1510 - val_accuracy: 0.1932\n",
            "Epoch 312/500\n",
            "104/104 [==============================] - 0s 5ms/step - loss: 8.1103 - accuracy: 0.1669 - val_loss: 5.1509 - val_accuracy: 0.1932\n",
            "Epoch 313/500\n",
            "104/104 [==============================] - 0s 5ms/step - loss: 8.1407 - accuracy: 0.1765 - val_loss: 5.1507 - val_accuracy: 0.1932\n",
            "Epoch 314/500\n",
            "104/104 [==============================] - 0s 5ms/step - loss: 7.8970 - accuracy: 0.1911 - val_loss: 5.1506 - val_accuracy: 0.1932\n",
            "Epoch 315/500\n",
            "104/104 [==============================] - 0s 5ms/step - loss: 8.0177 - accuracy: 0.1862 - val_loss: 5.1504 - val_accuracy: 0.1932\n",
            "Epoch 316/500\n",
            "104/104 [==============================] - 1s 5ms/step - loss: 8.1631 - accuracy: 0.1747 - val_loss: 5.1503 - val_accuracy: 0.1932\n",
            "Epoch 317/500\n",
            "104/104 [==============================] - 0s 4ms/step - loss: 8.0213 - accuracy: 0.1844 - val_loss: 5.1501 - val_accuracy: 0.1932\n",
            "Epoch 318/500\n",
            "104/104 [==============================] - 0s 5ms/step - loss: 8.1081 - accuracy: 0.1844 - val_loss: 5.1500 - val_accuracy: 0.1932\n",
            "Epoch 319/500\n",
            "104/104 [==============================] - 1s 5ms/step - loss: 8.1754 - accuracy: 0.1790 - val_loss: 5.1498 - val_accuracy: 0.1932\n",
            "Epoch 320/500\n",
            "104/104 [==============================] - 1s 5ms/step - loss: 8.1015 - accuracy: 0.1771 - val_loss: 5.1496 - val_accuracy: 0.1932\n",
            "Epoch 321/500\n",
            "104/104 [==============================] - 1s 5ms/step - loss: 8.1572 - accuracy: 0.1874 - val_loss: 5.1495 - val_accuracy: 0.1932\n",
            "Epoch 322/500\n",
            "104/104 [==============================] - 0s 4ms/step - loss: 8.1436 - accuracy: 0.1771 - val_loss: 5.1493 - val_accuracy: 0.1932\n",
            "Epoch 323/500\n",
            "104/104 [==============================] - 0s 5ms/step - loss: 8.0190 - accuracy: 0.1796 - val_loss: 5.1492 - val_accuracy: 0.1932\n",
            "Epoch 324/500\n",
            "104/104 [==============================] - 0s 4ms/step - loss: 8.3183 - accuracy: 0.1753 - val_loss: 5.1491 - val_accuracy: 0.1932\n",
            "Epoch 325/500\n",
            "104/104 [==============================] - 1s 5ms/step - loss: 7.9411 - accuracy: 0.1820 - val_loss: 5.1489 - val_accuracy: 0.1932\n",
            "Epoch 326/500\n",
            "104/104 [==============================] - 1s 5ms/step - loss: 8.0686 - accuracy: 0.1971 - val_loss: 5.1488 - val_accuracy: 0.1932\n",
            "Epoch 327/500\n",
            "104/104 [==============================] - 1s 5ms/step - loss: 8.2263 - accuracy: 0.1747 - val_loss: 5.1486 - val_accuracy: 0.1932\n",
            "Epoch 328/500\n",
            "104/104 [==============================] - 1s 5ms/step - loss: 8.2048 - accuracy: 0.1747 - val_loss: 5.1485 - val_accuracy: 0.1932\n",
            "Epoch 329/500\n",
            "104/104 [==============================] - 0s 5ms/step - loss: 8.3716 - accuracy: 0.1687 - val_loss: 5.1484 - val_accuracy: 0.1932\n",
            "Epoch 330/500\n",
            "104/104 [==============================] - 0s 4ms/step - loss: 8.1285 - accuracy: 0.1832 - val_loss: 5.1482 - val_accuracy: 0.1932\n",
            "Epoch 331/500\n",
            "104/104 [==============================] - 0s 4ms/step - loss: 8.0137 - accuracy: 0.1796 - val_loss: 5.1481 - val_accuracy: 0.1932\n",
            "Epoch 332/500\n",
            "104/104 [==============================] - 1s 5ms/step - loss: 8.0621 - accuracy: 0.1844 - val_loss: 5.1479 - val_accuracy: 0.1932\n",
            "Epoch 333/500\n",
            "104/104 [==============================] - 1s 5ms/step - loss: 8.0231 - accuracy: 0.1862 - val_loss: 5.1477 - val_accuracy: 0.1932\n",
            "Epoch 334/500\n",
            "104/104 [==============================] - 1s 5ms/step - loss: 8.0675 - accuracy: 0.1826 - val_loss: 5.1476 - val_accuracy: 0.1932\n",
            "Epoch 335/500\n",
            "104/104 [==============================] - 0s 5ms/step - loss: 8.0942 - accuracy: 0.1669 - val_loss: 5.1475 - val_accuracy: 0.1932\n",
            "Epoch 336/500\n",
            "104/104 [==============================] - 1s 5ms/step - loss: 8.0313 - accuracy: 0.1880 - val_loss: 5.1473 - val_accuracy: 0.1932\n",
            "Epoch 337/500\n",
            "104/104 [==============================] - 0s 5ms/step - loss: 8.1618 - accuracy: 0.1850 - val_loss: 5.1472 - val_accuracy: 0.1932\n",
            "Epoch 338/500\n",
            "104/104 [==============================] - 0s 4ms/step - loss: 8.2285 - accuracy: 0.1711 - val_loss: 5.1471 - val_accuracy: 0.1932\n",
            "Epoch 339/500\n",
            "104/104 [==============================] - 0s 4ms/step - loss: 8.0005 - accuracy: 0.1802 - val_loss: 5.1470 - val_accuracy: 0.1932\n",
            "Epoch 340/500\n",
            "104/104 [==============================] - 0s 5ms/step - loss: 8.1122 - accuracy: 0.1753 - val_loss: 5.1468 - val_accuracy: 0.1932\n",
            "Epoch 341/500\n",
            "104/104 [==============================] - 1s 5ms/step - loss: 8.1704 - accuracy: 0.1663 - val_loss: 5.1467 - val_accuracy: 0.1932\n",
            "Epoch 342/500\n",
            "104/104 [==============================] - 0s 4ms/step - loss: 8.1585 - accuracy: 0.1663 - val_loss: 5.1466 - val_accuracy: 0.1932\n",
            "Epoch 343/500\n",
            "104/104 [==============================] - 0s 4ms/step - loss: 8.0479 - accuracy: 0.1868 - val_loss: 5.1465 - val_accuracy: 0.1932\n",
            "Epoch 344/500\n",
            "104/104 [==============================] - 0s 4ms/step - loss: 8.0835 - accuracy: 0.1832 - val_loss: 5.1463 - val_accuracy: 0.1932\n",
            "Epoch 345/500\n",
            "104/104 [==============================] - 0s 5ms/step - loss: 8.0435 - accuracy: 0.1771 - val_loss: 5.1462 - val_accuracy: 0.1932\n",
            "Epoch 346/500\n",
            "104/104 [==============================] - 0s 5ms/step - loss: 8.1025 - accuracy: 0.1771 - val_loss: 5.1461 - val_accuracy: 0.1932\n",
            "Epoch 347/500\n",
            "104/104 [==============================] - 0s 4ms/step - loss: 8.0278 - accuracy: 0.1832 - val_loss: 5.1460 - val_accuracy: 0.1932\n",
            "Epoch 348/500\n",
            "104/104 [==============================] - 0s 5ms/step - loss: 8.2422 - accuracy: 0.1608 - val_loss: 5.1458 - val_accuracy: 0.1932\n",
            "Epoch 349/500\n",
            "104/104 [==============================] - 0s 4ms/step - loss: 8.1357 - accuracy: 0.1850 - val_loss: 5.1457 - val_accuracy: 0.1932\n",
            "Epoch 350/500\n",
            "104/104 [==============================] - 0s 4ms/step - loss: 8.0099 - accuracy: 0.1850 - val_loss: 5.1456 - val_accuracy: 0.1932\n",
            "Epoch 351/500\n",
            "104/104 [==============================] - 0s 4ms/step - loss: 8.0546 - accuracy: 0.1977 - val_loss: 5.1454 - val_accuracy: 0.1932\n",
            "Epoch 352/500\n",
            "104/104 [==============================] - 0s 5ms/step - loss: 8.0679 - accuracy: 0.1717 - val_loss: 5.1453 - val_accuracy: 0.1932\n",
            "Epoch 353/500\n",
            "104/104 [==============================] - 0s 4ms/step - loss: 8.0837 - accuracy: 0.1711 - val_loss: 5.1452 - val_accuracy: 0.1932\n",
            "Epoch 354/500\n",
            "104/104 [==============================] - 0s 4ms/step - loss: 8.1737 - accuracy: 0.1904 - val_loss: 5.1451 - val_accuracy: 0.1932\n",
            "Epoch 355/500\n",
            "104/104 [==============================] - 0s 5ms/step - loss: 8.2239 - accuracy: 0.1832 - val_loss: 5.1449 - val_accuracy: 0.1932\n",
            "Epoch 356/500\n",
            "104/104 [==============================] - 0s 5ms/step - loss: 8.1425 - accuracy: 0.1741 - val_loss: 5.1448 - val_accuracy: 0.1932\n",
            "Epoch 357/500\n",
            "104/104 [==============================] - 0s 5ms/step - loss: 8.1857 - accuracy: 0.1838 - val_loss: 5.1447 - val_accuracy: 0.1932\n",
            "Epoch 358/500\n",
            "104/104 [==============================] - 0s 5ms/step - loss: 7.9387 - accuracy: 0.1802 - val_loss: 5.1446 - val_accuracy: 0.1932\n",
            "Epoch 359/500\n",
            "104/104 [==============================] - 0s 5ms/step - loss: 8.0582 - accuracy: 0.1820 - val_loss: 5.1445 - val_accuracy: 0.1932\n",
            "Epoch 360/500\n",
            "104/104 [==============================] - 0s 4ms/step - loss: 8.2687 - accuracy: 0.1771 - val_loss: 5.1444 - val_accuracy: 0.1932\n",
            "Epoch 361/500\n",
            "104/104 [==============================] - 0s 5ms/step - loss: 8.0016 - accuracy: 0.1892 - val_loss: 5.1442 - val_accuracy: 0.1932\n",
            "Epoch 362/500\n",
            "104/104 [==============================] - 1s 5ms/step - loss: 8.0689 - accuracy: 0.1802 - val_loss: 5.1441 - val_accuracy: 0.1932\n",
            "Epoch 363/500\n",
            "104/104 [==============================] - 0s 4ms/step - loss: 8.1410 - accuracy: 0.1838 - val_loss: 5.1440 - val_accuracy: 0.1932\n",
            "Epoch 364/500\n",
            "104/104 [==============================] - 0s 5ms/step - loss: 8.1611 - accuracy: 0.1892 - val_loss: 5.1439 - val_accuracy: 0.1932\n",
            "Epoch 365/500\n",
            "104/104 [==============================] - 0s 5ms/step - loss: 8.1418 - accuracy: 0.1941 - val_loss: 5.1438 - val_accuracy: 0.1932\n",
            "Epoch 366/500\n",
            "104/104 [==============================] - 0s 5ms/step - loss: 8.0720 - accuracy: 0.1911 - val_loss: 5.1437 - val_accuracy: 0.1932\n",
            "Epoch 367/500\n",
            "104/104 [==============================] - 0s 5ms/step - loss: 8.0772 - accuracy: 0.1874 - val_loss: 5.1436 - val_accuracy: 0.1932\n",
            "Epoch 368/500\n",
            "104/104 [==============================] - 0s 4ms/step - loss: 8.3044 - accuracy: 0.1862 - val_loss: 5.1435 - val_accuracy: 0.1932\n",
            "Epoch 369/500\n",
            "104/104 [==============================] - 1s 5ms/step - loss: 8.2029 - accuracy: 0.1723 - val_loss: 5.1434 - val_accuracy: 0.1932\n",
            "Epoch 370/500\n",
            "104/104 [==============================] - 0s 5ms/step - loss: 8.2386 - accuracy: 0.1796 - val_loss: 5.1433 - val_accuracy: 0.1932\n",
            "Epoch 371/500\n",
            "104/104 [==============================] - 0s 4ms/step - loss: 8.1539 - accuracy: 0.1814 - val_loss: 5.1432 - val_accuracy: 0.1932\n",
            "Epoch 372/500\n",
            "104/104 [==============================] - 0s 5ms/step - loss: 8.1230 - accuracy: 0.1663 - val_loss: 5.1431 - val_accuracy: 0.1932\n",
            "Epoch 373/500\n",
            "104/104 [==============================] - 1s 5ms/step - loss: 8.0663 - accuracy: 0.1904 - val_loss: 5.1430 - val_accuracy: 0.1932\n",
            "Epoch 374/500\n",
            "104/104 [==============================] - 1s 5ms/step - loss: 8.1556 - accuracy: 0.1723 - val_loss: 5.1429 - val_accuracy: 0.1932\n",
            "Epoch 375/500\n",
            "104/104 [==============================] - 1s 5ms/step - loss: 8.0605 - accuracy: 0.1935 - val_loss: 5.1428 - val_accuracy: 0.1932\n",
            "Epoch 376/500\n",
            "104/104 [==============================] - 1s 5ms/step - loss: 8.1799 - accuracy: 0.1904 - val_loss: 5.1427 - val_accuracy: 0.1932\n",
            "Epoch 377/500\n",
            "104/104 [==============================] - 1s 5ms/step - loss: 8.1776 - accuracy: 0.1771 - val_loss: 5.1426 - val_accuracy: 0.1932\n",
            "Epoch 378/500\n",
            "104/104 [==============================] - 0s 4ms/step - loss: 8.2222 - accuracy: 0.1753 - val_loss: 5.1425 - val_accuracy: 0.1932\n",
            "Epoch 379/500\n",
            "104/104 [==============================] - 1s 5ms/step - loss: 8.1358 - accuracy: 0.1844 - val_loss: 5.1424 - val_accuracy: 0.1932\n",
            "Epoch 380/500\n",
            "104/104 [==============================] - 0s 5ms/step - loss: 8.1425 - accuracy: 0.1862 - val_loss: 5.1423 - val_accuracy: 0.1932\n",
            "Epoch 381/500\n",
            "104/104 [==============================] - 0s 5ms/step - loss: 8.2277 - accuracy: 0.1675 - val_loss: 5.1422 - val_accuracy: 0.1932\n",
            "Epoch 382/500\n",
            "104/104 [==============================] - 0s 5ms/step - loss: 8.1790 - accuracy: 0.1838 - val_loss: 5.1421 - val_accuracy: 0.1932\n",
            "Epoch 383/500\n",
            "104/104 [==============================] - 0s 5ms/step - loss: 8.0654 - accuracy: 0.1856 - val_loss: 5.1420 - val_accuracy: 0.1932\n",
            "Epoch 384/500\n",
            "104/104 [==============================] - 0s 5ms/step - loss: 8.0937 - accuracy: 0.1874 - val_loss: 5.1419 - val_accuracy: 0.1932\n",
            "Epoch 385/500\n",
            "104/104 [==============================] - 0s 5ms/step - loss: 8.1225 - accuracy: 0.1808 - val_loss: 5.1418 - val_accuracy: 0.1932\n",
            "Epoch 386/500\n",
            "104/104 [==============================] - 0s 4ms/step - loss: 7.8816 - accuracy: 0.1892 - val_loss: 5.1417 - val_accuracy: 0.1932\n",
            "Epoch 387/500\n",
            "104/104 [==============================] - 1s 5ms/step - loss: 7.9504 - accuracy: 0.1826 - val_loss: 5.1416 - val_accuracy: 0.1932\n",
            "Epoch 388/500\n",
            "104/104 [==============================] - 1s 5ms/step - loss: 8.0638 - accuracy: 0.1771 - val_loss: 5.1415 - val_accuracy: 0.1932\n",
            "Epoch 389/500\n",
            "104/104 [==============================] - 1s 5ms/step - loss: 8.1389 - accuracy: 0.1850 - val_loss: 5.1414 - val_accuracy: 0.1932\n",
            "Epoch 390/500\n",
            "104/104 [==============================] - 0s 5ms/step - loss: 8.0960 - accuracy: 0.1796 - val_loss: 5.1413 - val_accuracy: 0.1932\n",
            "Epoch 391/500\n",
            "104/104 [==============================] - 0s 5ms/step - loss: 8.1066 - accuracy: 0.1717 - val_loss: 5.1412 - val_accuracy: 0.1932\n",
            "Epoch 392/500\n",
            "104/104 [==============================] - 1s 5ms/step - loss: 8.1478 - accuracy: 0.1886 - val_loss: 5.1411 - val_accuracy: 0.1932\n",
            "Epoch 393/500\n",
            "104/104 [==============================] - 0s 5ms/step - loss: 8.0875 - accuracy: 0.1723 - val_loss: 5.1410 - val_accuracy: 0.1932\n",
            "Epoch 394/500\n",
            "104/104 [==============================] - 1s 5ms/step - loss: 8.1160 - accuracy: 0.1717 - val_loss: 5.1410 - val_accuracy: 0.1932\n",
            "Epoch 395/500\n",
            "104/104 [==============================] - 1s 5ms/step - loss: 8.2058 - accuracy: 0.1687 - val_loss: 5.1409 - val_accuracy: 0.1932\n",
            "Epoch 396/500\n",
            "104/104 [==============================] - 0s 5ms/step - loss: 8.2020 - accuracy: 0.1687 - val_loss: 5.1408 - val_accuracy: 0.1932\n",
            "Epoch 397/500\n",
            "104/104 [==============================] - 1s 5ms/step - loss: 8.1512 - accuracy: 0.1771 - val_loss: 5.1407 - val_accuracy: 0.1932\n",
            "Epoch 398/500\n",
            "104/104 [==============================] - 1s 5ms/step - loss: 7.9917 - accuracy: 0.1850 - val_loss: 5.1406 - val_accuracy: 0.1932\n",
            "Epoch 399/500\n",
            "104/104 [==============================] - 0s 5ms/step - loss: 7.9676 - accuracy: 0.1856 - val_loss: 5.1405 - val_accuracy: 0.1932\n",
            "Epoch 400/500\n",
            "104/104 [==============================] - 1s 5ms/step - loss: 8.0183 - accuracy: 0.1711 - val_loss: 5.1404 - val_accuracy: 0.1932\n",
            "Epoch 401/500\n",
            "104/104 [==============================] - 1s 5ms/step - loss: 7.8023 - accuracy: 0.1880 - val_loss: 5.1403 - val_accuracy: 0.1932\n",
            "Epoch 402/500\n",
            "104/104 [==============================] - 0s 5ms/step - loss: 7.9816 - accuracy: 0.1850 - val_loss: 5.1402 - val_accuracy: 0.1932\n",
            "Epoch 403/500\n",
            "104/104 [==============================] - 0s 5ms/step - loss: 8.0184 - accuracy: 0.1808 - val_loss: 5.1401 - val_accuracy: 0.1932\n",
            "Epoch 404/500\n",
            "104/104 [==============================] - 1s 5ms/step - loss: 8.0053 - accuracy: 0.1898 - val_loss: 5.1400 - val_accuracy: 0.1932\n",
            "Epoch 405/500\n",
            "104/104 [==============================] - 1s 5ms/step - loss: 8.1842 - accuracy: 0.1820 - val_loss: 5.1399 - val_accuracy: 0.1932\n",
            "Epoch 406/500\n",
            "104/104 [==============================] - 0s 5ms/step - loss: 8.2553 - accuracy: 0.1657 - val_loss: 5.1399 - val_accuracy: 0.1932\n",
            "Epoch 407/500\n",
            "104/104 [==============================] - 1s 5ms/step - loss: 8.1329 - accuracy: 0.1904 - val_loss: 5.1398 - val_accuracy: 0.1932\n",
            "Epoch 408/500\n",
            "104/104 [==============================] - 0s 5ms/step - loss: 8.3122 - accuracy: 0.1741 - val_loss: 5.1397 - val_accuracy: 0.1932\n",
            "Epoch 409/500\n",
            "104/104 [==============================] - 0s 5ms/step - loss: 8.2787 - accuracy: 0.1741 - val_loss: 5.1396 - val_accuracy: 0.1932\n",
            "Epoch 410/500\n",
            "104/104 [==============================] - 1s 5ms/step - loss: 8.0840 - accuracy: 0.1874 - val_loss: 5.1395 - val_accuracy: 0.1932\n",
            "Epoch 411/500\n",
            "104/104 [==============================] - 0s 5ms/step - loss: 8.0788 - accuracy: 0.1904 - val_loss: 5.1394 - val_accuracy: 0.1932\n",
            "Epoch 412/500\n",
            "104/104 [==============================] - 1s 5ms/step - loss: 8.0950 - accuracy: 0.1729 - val_loss: 5.1394 - val_accuracy: 0.1932\n",
            "Epoch 413/500\n",
            "104/104 [==============================] - 0s 5ms/step - loss: 8.1934 - accuracy: 0.1735 - val_loss: 5.1393 - val_accuracy: 0.1932\n",
            "Epoch 414/500\n",
            "104/104 [==============================] - 1s 5ms/step - loss: 8.1181 - accuracy: 0.1802 - val_loss: 5.1392 - val_accuracy: 0.1932\n",
            "Epoch 415/500\n",
            "104/104 [==============================] - 1s 5ms/step - loss: 8.0017 - accuracy: 0.1771 - val_loss: 5.1391 - val_accuracy: 0.1932\n",
            "Epoch 416/500\n",
            "104/104 [==============================] - 1s 5ms/step - loss: 8.2081 - accuracy: 0.1729 - val_loss: 5.1391 - val_accuracy: 0.1932\n",
            "Epoch 417/500\n",
            "104/104 [==============================] - 1s 5ms/step - loss: 8.3107 - accuracy: 0.1765 - val_loss: 5.1390 - val_accuracy: 0.1932\n",
            "Epoch 418/500\n",
            "104/104 [==============================] - 1s 5ms/step - loss: 8.2088 - accuracy: 0.1850 - val_loss: 5.1389 - val_accuracy: 0.1932\n",
            "Epoch 419/500\n",
            "104/104 [==============================] - 0s 5ms/step - loss: 8.0596 - accuracy: 0.1862 - val_loss: 5.1388 - val_accuracy: 0.1932\n",
            "Epoch 420/500\n",
            "104/104 [==============================] - 1s 5ms/step - loss: 8.0329 - accuracy: 0.1765 - val_loss: 5.1387 - val_accuracy: 0.1932\n",
            "Epoch 421/500\n",
            "104/104 [==============================] - 1s 5ms/step - loss: 8.1552 - accuracy: 0.1868 - val_loss: 5.1387 - val_accuracy: 0.1932\n",
            "Epoch 422/500\n",
            "104/104 [==============================] - 0s 5ms/step - loss: 8.0694 - accuracy: 0.1923 - val_loss: 5.1386 - val_accuracy: 0.1932\n",
            "Epoch 423/500\n",
            "104/104 [==============================] - 1s 5ms/step - loss: 8.0033 - accuracy: 0.1898 - val_loss: 5.1385 - val_accuracy: 0.1932\n",
            "Epoch 424/500\n",
            "104/104 [==============================] - 0s 5ms/step - loss: 8.2097 - accuracy: 0.1753 - val_loss: 5.1384 - val_accuracy: 0.1932\n",
            "Epoch 425/500\n",
            "104/104 [==============================] - 1s 5ms/step - loss: 7.9565 - accuracy: 0.1778 - val_loss: 5.1384 - val_accuracy: 0.1932\n",
            "Epoch 426/500\n",
            "104/104 [==============================] - 1s 5ms/step - loss: 8.1670 - accuracy: 0.1820 - val_loss: 5.1383 - val_accuracy: 0.1932\n",
            "Epoch 427/500\n",
            "104/104 [==============================] - 0s 5ms/step - loss: 8.1297 - accuracy: 0.1790 - val_loss: 5.1382 - val_accuracy: 0.1932\n",
            "Epoch 428/500\n",
            "104/104 [==============================] - 0s 5ms/step - loss: 8.1750 - accuracy: 0.1880 - val_loss: 5.1382 - val_accuracy: 0.1932\n",
            "Epoch 429/500\n",
            "104/104 [==============================] - 1s 5ms/step - loss: 8.2687 - accuracy: 0.1681 - val_loss: 5.1381 - val_accuracy: 0.1932\n",
            "Epoch 430/500\n",
            "104/104 [==============================] - 1s 5ms/step - loss: 8.2857 - accuracy: 0.1741 - val_loss: 5.1380 - val_accuracy: 0.1932\n",
            "Epoch 431/500\n",
            "104/104 [==============================] - 1s 5ms/step - loss: 8.1114 - accuracy: 0.1820 - val_loss: 5.1380 - val_accuracy: 0.1932\n",
            "Epoch 432/500\n",
            "104/104 [==============================] - 1s 5ms/step - loss: 7.9910 - accuracy: 0.1929 - val_loss: 5.1379 - val_accuracy: 0.1932\n",
            "Epoch 433/500\n",
            "104/104 [==============================] - 1s 5ms/step - loss: 8.0073 - accuracy: 0.1790 - val_loss: 5.1378 - val_accuracy: 0.1932\n",
            "Epoch 434/500\n",
            "104/104 [==============================] - 1s 5ms/step - loss: 8.2002 - accuracy: 0.1820 - val_loss: 5.1378 - val_accuracy: 0.1932\n",
            "Epoch 435/500\n",
            "104/104 [==============================] - 1s 5ms/step - loss: 7.9154 - accuracy: 0.1850 - val_loss: 5.1377 - val_accuracy: 0.1932\n",
            "Epoch 436/500\n",
            "104/104 [==============================] - 1s 5ms/step - loss: 8.2199 - accuracy: 0.1765 - val_loss: 5.1376 - val_accuracy: 0.1932\n",
            "Epoch 437/500\n",
            "104/104 [==============================] - 1s 5ms/step - loss: 7.9635 - accuracy: 0.1880 - val_loss: 5.1375 - val_accuracy: 0.1932\n",
            "Epoch 438/500\n",
            "104/104 [==============================] - 0s 5ms/step - loss: 8.0444 - accuracy: 0.1729 - val_loss: 5.1375 - val_accuracy: 0.1932\n",
            "Epoch 439/500\n",
            "104/104 [==============================] - 1s 5ms/step - loss: 8.1509 - accuracy: 0.1759 - val_loss: 5.1374 - val_accuracy: 0.1932\n",
            "Epoch 440/500\n",
            "104/104 [==============================] - 1s 5ms/step - loss: 7.9418 - accuracy: 0.1929 - val_loss: 5.1373 - val_accuracy: 0.1932\n",
            "Epoch 441/500\n",
            "104/104 [==============================] - 1s 5ms/step - loss: 7.9899 - accuracy: 0.1735 - val_loss: 5.1372 - val_accuracy: 0.1932\n",
            "Epoch 442/500\n",
            "104/104 [==============================] - 1s 5ms/step - loss: 8.1551 - accuracy: 0.1802 - val_loss: 5.1371 - val_accuracy: 0.1932\n",
            "Epoch 443/500\n",
            "104/104 [==============================] - 0s 5ms/step - loss: 7.9053 - accuracy: 0.1904 - val_loss: 5.1371 - val_accuracy: 0.1932\n",
            "Epoch 444/500\n",
            "104/104 [==============================] - 1s 5ms/step - loss: 7.9904 - accuracy: 0.1765 - val_loss: 5.1370 - val_accuracy: 0.1932\n",
            "Epoch 445/500\n",
            "104/104 [==============================] - 0s 5ms/step - loss: 8.0855 - accuracy: 0.1657 - val_loss: 5.1370 - val_accuracy: 0.1932\n",
            "Epoch 446/500\n",
            "104/104 [==============================] - 0s 5ms/step - loss: 8.0261 - accuracy: 0.1753 - val_loss: 5.1369 - val_accuracy: 0.1932\n",
            "Epoch 447/500\n",
            "104/104 [==============================] - 1s 5ms/step - loss: 7.9577 - accuracy: 0.1844 - val_loss: 5.1368 - val_accuracy: 0.1932\n",
            "Epoch 448/500\n",
            "104/104 [==============================] - 1s 5ms/step - loss: 8.0188 - accuracy: 0.1880 - val_loss: 5.1368 - val_accuracy: 0.1932\n",
            "Epoch 449/500\n",
            "104/104 [==============================] - 1s 5ms/step - loss: 8.1769 - accuracy: 0.1759 - val_loss: 5.1367 - val_accuracy: 0.1932\n",
            "Epoch 450/500\n",
            "104/104 [==============================] - 1s 5ms/step - loss: 7.9365 - accuracy: 0.1995 - val_loss: 5.1366 - val_accuracy: 0.1932\n",
            "Epoch 451/500\n",
            "104/104 [==============================] - 1s 5ms/step - loss: 7.9157 - accuracy: 0.1814 - val_loss: 5.1365 - val_accuracy: 0.1932\n",
            "Epoch 452/500\n",
            "104/104 [==============================] - 0s 5ms/step - loss: 8.1778 - accuracy: 0.1778 - val_loss: 5.1365 - val_accuracy: 0.1932\n",
            "Epoch 453/500\n",
            "104/104 [==============================] - 1s 5ms/step - loss: 8.1305 - accuracy: 0.1765 - val_loss: 5.1364 - val_accuracy: 0.1932\n",
            "Epoch 454/500\n",
            "104/104 [==============================] - 1s 5ms/step - loss: 8.0860 - accuracy: 0.1765 - val_loss: 5.1363 - val_accuracy: 0.1932\n",
            "Epoch 455/500\n",
            "104/104 [==============================] - 0s 5ms/step - loss: 8.2257 - accuracy: 0.1705 - val_loss: 5.1363 - val_accuracy: 0.1932\n",
            "Epoch 456/500\n",
            "104/104 [==============================] - 0s 5ms/step - loss: 8.1734 - accuracy: 0.1796 - val_loss: 5.1362 - val_accuracy: 0.1932\n",
            "Epoch 457/500\n",
            "104/104 [==============================] - 0s 5ms/step - loss: 8.0827 - accuracy: 0.1802 - val_loss: 5.1361 - val_accuracy: 0.1932\n",
            "Epoch 458/500\n",
            "104/104 [==============================] - 1s 5ms/step - loss: 8.1092 - accuracy: 0.1784 - val_loss: 5.1361 - val_accuracy: 0.1932\n",
            "Epoch 459/500\n",
            "104/104 [==============================] - 0s 5ms/step - loss: 8.1030 - accuracy: 0.1669 - val_loss: 5.1360 - val_accuracy: 0.1932\n",
            "Epoch 460/500\n",
            "104/104 [==============================] - 1s 5ms/step - loss: 7.9859 - accuracy: 0.1874 - val_loss: 5.1360 - val_accuracy: 0.1932\n",
            "Epoch 461/500\n",
            "104/104 [==============================] - 1s 5ms/step - loss: 8.1074 - accuracy: 0.1735 - val_loss: 5.1359 - val_accuracy: 0.1932\n",
            "Epoch 462/500\n",
            "104/104 [==============================] - 1s 5ms/step - loss: 8.1394 - accuracy: 0.1808 - val_loss: 5.1358 - val_accuracy: 0.1932\n",
            "Epoch 463/500\n",
            "104/104 [==============================] - 0s 5ms/step - loss: 8.2327 - accuracy: 0.1892 - val_loss: 5.1358 - val_accuracy: 0.1932\n",
            "Epoch 464/500\n",
            "104/104 [==============================] - 0s 5ms/step - loss: 8.2195 - accuracy: 0.1874 - val_loss: 5.1357 - val_accuracy: 0.1932\n",
            "Epoch 465/500\n",
            "104/104 [==============================] - 0s 5ms/step - loss: 8.2254 - accuracy: 0.1874 - val_loss: 5.1356 - val_accuracy: 0.1932\n",
            "Epoch 466/500\n",
            "104/104 [==============================] - 1s 5ms/step - loss: 8.1370 - accuracy: 0.1796 - val_loss: 5.1356 - val_accuracy: 0.1932\n",
            "Epoch 467/500\n",
            "104/104 [==============================] - 0s 5ms/step - loss: 7.9698 - accuracy: 0.1917 - val_loss: 5.1355 - val_accuracy: 0.1932\n",
            "Epoch 468/500\n",
            "104/104 [==============================] - 1s 5ms/step - loss: 8.0981 - accuracy: 0.1753 - val_loss: 5.1354 - val_accuracy: 0.1932\n",
            "Epoch 469/500\n",
            "104/104 [==============================] - 1s 5ms/step - loss: 8.1280 - accuracy: 0.1675 - val_loss: 5.1354 - val_accuracy: 0.1932\n",
            "Epoch 470/500\n",
            "104/104 [==============================] - 1s 6ms/step - loss: 8.0814 - accuracy: 0.1971 - val_loss: 5.1353 - val_accuracy: 0.1932\n",
            "Epoch 471/500\n",
            "104/104 [==============================] - 1s 7ms/step - loss: 8.1759 - accuracy: 0.1850 - val_loss: 5.1353 - val_accuracy: 0.1932\n",
            "Epoch 472/500\n",
            "104/104 [==============================] - 1s 6ms/step - loss: 8.0839 - accuracy: 0.1838 - val_loss: 5.1352 - val_accuracy: 0.1932\n",
            "Epoch 473/500\n",
            "104/104 [==============================] - 1s 6ms/step - loss: 8.1219 - accuracy: 0.1862 - val_loss: 5.1351 - val_accuracy: 0.1932\n",
            "Epoch 474/500\n",
            "104/104 [==============================] - 1s 6ms/step - loss: 8.1034 - accuracy: 0.1868 - val_loss: 5.1351 - val_accuracy: 0.1932\n",
            "Epoch 475/500\n",
            "104/104 [==============================] - 0s 5ms/step - loss: 8.0605 - accuracy: 0.1832 - val_loss: 5.1350 - val_accuracy: 0.1932\n",
            "Epoch 476/500\n",
            "104/104 [==============================] - 0s 5ms/step - loss: 8.1007 - accuracy: 0.1886 - val_loss: 5.1349 - val_accuracy: 0.1932\n",
            "Epoch 477/500\n",
            "104/104 [==============================] - 1s 5ms/step - loss: 8.0448 - accuracy: 0.2031 - val_loss: 5.1349 - val_accuracy: 0.1932\n",
            "Epoch 478/500\n",
            "104/104 [==============================] - 1s 5ms/step - loss: 7.9753 - accuracy: 0.1693 - val_loss: 5.1348 - val_accuracy: 0.1932\n",
            "Epoch 479/500\n",
            "104/104 [==============================] - 1s 5ms/step - loss: 7.9234 - accuracy: 0.1699 - val_loss: 5.1348 - val_accuracy: 0.1932\n",
            "Epoch 480/500\n",
            "104/104 [==============================] - 0s 5ms/step - loss: 7.9250 - accuracy: 0.1941 - val_loss: 5.1347 - val_accuracy: 0.1932\n",
            "Epoch 481/500\n",
            "104/104 [==============================] - 0s 5ms/step - loss: 8.3076 - accuracy: 0.1898 - val_loss: 5.1346 - val_accuracy: 0.1932\n",
            "Epoch 482/500\n",
            "104/104 [==============================] - 0s 5ms/step - loss: 7.9834 - accuracy: 0.1880 - val_loss: 5.1346 - val_accuracy: 0.1932\n",
            "Epoch 483/500\n",
            "104/104 [==============================] - 0s 5ms/step - loss: 8.0915 - accuracy: 0.1808 - val_loss: 5.1345 - val_accuracy: 0.1932\n",
            "Epoch 484/500\n",
            "104/104 [==============================] - 1s 5ms/step - loss: 8.1427 - accuracy: 0.1850 - val_loss: 5.1345 - val_accuracy: 0.1932\n",
            "Epoch 485/500\n",
            "104/104 [==============================] - 0s 5ms/step - loss: 8.0985 - accuracy: 0.1814 - val_loss: 5.1344 - val_accuracy: 0.1932\n",
            "Epoch 486/500\n",
            "104/104 [==============================] - 1s 5ms/step - loss: 8.0178 - accuracy: 0.1892 - val_loss: 5.1344 - val_accuracy: 0.1932\n",
            "Epoch 487/500\n",
            "104/104 [==============================] - 0s 5ms/step - loss: 7.9763 - accuracy: 0.1832 - val_loss: 5.1343 - val_accuracy: 0.1932\n",
            "Epoch 488/500\n",
            "104/104 [==============================] - 0s 5ms/step - loss: 7.9826 - accuracy: 0.1935 - val_loss: 5.1342 - val_accuracy: 0.1932\n",
            "Epoch 489/500\n",
            "104/104 [==============================] - 1s 5ms/step - loss: 8.2962 - accuracy: 0.1620 - val_loss: 5.1342 - val_accuracy: 0.1932\n",
            "Epoch 490/500\n",
            "104/104 [==============================] - 0s 5ms/step - loss: 8.1188 - accuracy: 0.1862 - val_loss: 5.1341 - val_accuracy: 0.1932\n",
            "Epoch 491/500\n",
            "104/104 [==============================] - 0s 5ms/step - loss: 8.0573 - accuracy: 0.1717 - val_loss: 5.1341 - val_accuracy: 0.1932\n",
            "Epoch 492/500\n",
            "104/104 [==============================] - 1s 5ms/step - loss: 7.9679 - accuracy: 0.1838 - val_loss: 5.1340 - val_accuracy: 0.1932\n",
            "Epoch 493/500\n",
            "104/104 [==============================] - 1s 5ms/step - loss: 8.1873 - accuracy: 0.1705 - val_loss: 5.1340 - val_accuracy: 0.1932\n",
            "Epoch 494/500\n",
            "104/104 [==============================] - 1s 5ms/step - loss: 8.0138 - accuracy: 0.1892 - val_loss: 5.1339 - val_accuracy: 0.1932\n",
            "Epoch 495/500\n",
            "104/104 [==============================] - 0s 5ms/step - loss: 8.3560 - accuracy: 0.1699 - val_loss: 5.1339 - val_accuracy: 0.1932\n",
            "Epoch 496/500\n",
            "104/104 [==============================] - 1s 5ms/step - loss: 8.1371 - accuracy: 0.1753 - val_loss: 5.1338 - val_accuracy: 0.1932\n",
            "Epoch 497/500\n",
            "104/104 [==============================] - 1s 5ms/step - loss: 7.9319 - accuracy: 0.1784 - val_loss: 5.1337 - val_accuracy: 0.1932\n",
            "Epoch 498/500\n",
            "104/104 [==============================] - 1s 5ms/step - loss: 8.0522 - accuracy: 0.1911 - val_loss: 5.1337 - val_accuracy: 0.1932\n",
            "Epoch 499/500\n",
            "104/104 [==============================] - 0s 4ms/step - loss: 8.2465 - accuracy: 0.1796 - val_loss: 5.1336 - val_accuracy: 0.1932\n",
            "Epoch 500/500\n",
            "104/104 [==============================] - 0s 5ms/step - loss: 8.0479 - accuracy: 0.1753 - val_loss: 5.1336 - val_accuracy: 0.1932\n"
          ]
        }
      ]
    },
    {
      "cell_type": "code",
      "source": [
        "plt.plot(cnnhistory.history['loss'])\n",
        "plt.plot(cnnhistory.history['val_loss'])\n",
        "plt.title('model loss')\n",
        "plt.ylabel('loss')\n",
        "plt.xlabel('epoch')\n",
        "plt.legend(['train','test'], loc='upper left')\n",
        "plt.show()"
      ],
      "metadata": {
        "colab": {
          "base_uri": "https://localhost:8080/",
          "height": 295
        },
        "id": "oQYnuaCrDH_A",
        "outputId": "6d130c96-5a76-4fed-d8a5-68a6eb60b21f"
      },
      "execution_count": 11,
      "outputs": [
        {
          "output_type": "display_data",
          "data": {
            "text/plain": [
              "<Figure size 432x288 with 1 Axes>"
            ],
            "image/png": "[encoded data removed]"
          },
          "metadata": {
            "needs_background": "light"
          }
        }
      ]
    },
    {
      "cell_type": "code",
      "source": [
        "plt.plot(cnnhistory.history['accuracy'])\n",
        "plt.plot(cnnhistory.history['val_accuracy'])\n",
        "plt.title('model accuracy')\n",
        "plt.ylabel('accuracy')\n",
        "plt.xlabel('epoch')\n",
        "plt.legend(['train','test'], loc='upper left')\n",
        "plt.show()"
      ],
      "metadata": {
        "colab": {
          "base_uri": "https://localhost:8080/",
          "height": 295
        },
        "id": "IFkTuO8nDNdq",
        "outputId": "d4245a31-e9e7-42b8-9dbf-6b63d0a62b62"
      },
      "execution_count": 12,
      "outputs": [
        {
          "output_type": "display_data",
          "data": {
            "text/plain": [
              "<Figure size 432x288 with 1 Axes>"
            ],
            "image/png": "[encoded data removed]"
          },
          "metadata": {
            "needs_background": "light"
          }
        }
      ]
    },
    {
      "cell_type": "code",
      "source": [
        "#predictions = model.predict_classes(x_testcnn)\n",
        "predictions = model.predict(x_testcnn)"
      ],
      "metadata": {
        "id": "A2xtrN5wDQgY"
      },
      "execution_count": 13,
      "outputs": []
    },
    {
      "cell_type": "code",
      "source": [
        "predictions"
      ],
      "metadata": {
        "colab": {
          "base_uri": "https://localhost:8080/"
        },
        "id": "_f_ohjXKDUpY",
        "outputId": "5bc01886-b1f6-4f76-94c8-6860e99cc646"
      },
      "execution_count": 14,
      "outputs": [
        {
          "output_type": "execute_result",
          "data": {
            "text/plain": [
              "array([[2.6224321e-05, 5.2440265e-04, 1.6916951e-02, 9.7590023e-01,\n",
              "        6.1501577e-03, 4.8203493e-04],\n",
              "       [4.6662917e-05, 1.9610312e-03, 2.0730732e-02, 9.6377665e-01,\n",
              "        1.2740853e-02, 7.4407336e-04],\n",
              "       [4.3904402e-06, 1.9029444e-04, 8.8810753e-03, 9.8856401e-01,\n",
              "        2.2478271e-03, 1.1238234e-04],\n",
              "       ...,\n",
              "       [4.1419579e-04, 2.0259598e-03, 5.3296112e-02, 9.0894175e-01,\n",
              "        3.0622473e-02, 4.6995273e-03],\n",
              "       [1.9384507e-04, 1.4913960e-03, 3.8976818e-02, 9.1862178e-01,\n",
              "        3.6707606e-02, 4.0085288e-03],\n",
              "       [6.2878110e-04, 3.7942401e-03, 4.9655385e-02, 9.0681064e-01,\n",
              "        3.4294151e-02, 4.8167100e-03]], dtype=float32)"
            ]
          },
          "metadata": {},
          "execution_count": 14
        }
      ]
    },
    {
      "cell_type": "code",
      "source": [
        "y_test"
      ],
      "metadata": {
        "colab": {
          "base_uri": "https://localhost:8080/"
        },
        "id": "cmA2bFgsDW3D",
        "outputId": "c5859422-99d9-48b9-bf8e-f8746a20795e"
      },
      "execution_count": 15,
      "outputs": [
        {
          "output_type": "execute_result",
          "data": {
            "text/plain": [
              "array([3, 3, 3, 0, 4, 4, 1, 2, 5, 0, 5, 3, 2, 2, 1, 4, 4, 5, 2, 4, 1, 2,\n",
              "       3, 5, 4, 2, 1, 2, 2, 2, 2, 5, 2, 5, 3, 1, 2, 0, 4, 5, 2, 3, 2, 2,\n",
              "       5, 2, 0, 1, 3, 4, 4, 5, 1, 1, 4, 4, 5, 1, 1, 1, 0, 1, 5, 0, 4, 1,\n",
              "       1, 0, 1, 4, 1, 0, 4, 1, 3, 1, 2, 2, 1, 2, 3, 0, 5, 3, 5, 5, 2, 4,\n",
              "       5, 1, 5, 1, 5, 3, 4, 1, 4, 1, 5, 4, 5, 1, 2, 1, 1, 5, 1, 3, 2, 5,\n",
              "       2, 1, 3, 5, 4, 4, 0, 0, 3, 1, 2, 2, 3, 5, 1, 5, 3, 4, 2, 2, 0, 2,\n",
              "       2, 5, 5, 0, 3, 3, 2, 2, 0, 3, 4, 0, 4, 2, 4, 5, 4, 1, 5, 3, 2, 2,\n",
              "       5, 4, 3, 3, 4, 3, 3, 4, 1, 5, 2, 3, 2, 2, 0, 2, 1, 3, 1, 2, 2, 5,\n",
              "       5, 1, 4, 2, 2, 1, 1, 3, 3, 5, 5, 2, 5, 1, 5, 0, 3, 3, 0, 5, 1, 4,\n",
              "       1, 4, 2, 5, 5, 1, 4, 2, 4])"
            ]
          },
          "metadata": {},
          "execution_count": 15
        }
      ]
    },
    {
      "cell_type": "code",
      "source": [
        "new_Ytest = y_test.astype(int)"
      ],
      "metadata": {
        "id": "0PHDKWJWDY3g"
      },
      "execution_count": 16,
      "outputs": []
    },
    {
      "cell_type": "code",
      "source": [
        "new_Ytest"
      ],
      "metadata": {
        "colab": {
          "base_uri": "https://localhost:8080/"
        },
        "id": "k68v2i-pDbZE",
        "outputId": "0dace000-61f3-4f16-ce0c-d4d21d23f8cf"
      },
      "execution_count": 17,
      "outputs": [
        {
          "output_type": "execute_result",
          "data": {
            "text/plain": [
              "array([3, 3, 3, 0, 4, 4, 1, 2, 5, 0, 5, 3, 2, 2, 1, 4, 4, 5, 2, 4, 1, 2,\n",
              "       3, 5, 4, 2, 1, 2, 2, 2, 2, 5, 2, 5, 3, 1, 2, 0, 4, 5, 2, 3, 2, 2,\n",
              "       5, 2, 0, 1, 3, 4, 4, 5, 1, 1, 4, 4, 5, 1, 1, 1, 0, 1, 5, 0, 4, 1,\n",
              "       1, 0, 1, 4, 1, 0, 4, 1, 3, 1, 2, 2, 1, 2, 3, 0, 5, 3, 5, 5, 2, 4,\n",
              "       5, 1, 5, 1, 5, 3, 4, 1, 4, 1, 5, 4, 5, 1, 2, 1, 1, 5, 1, 3, 2, 5,\n",
              "       2, 1, 3, 5, 4, 4, 0, 0, 3, 1, 2, 2, 3, 5, 1, 5, 3, 4, 2, 2, 0, 2,\n",
              "       2, 5, 5, 0, 3, 3, 2, 2, 0, 3, 4, 0, 4, 2, 4, 5, 4, 1, 5, 3, 2, 2,\n",
              "       5, 4, 3, 3, 4, 3, 3, 4, 1, 5, 2, 3, 2, 2, 0, 2, 1, 3, 1, 2, 2, 5,\n",
              "       5, 1, 4, 2, 2, 1, 1, 3, 3, 5, 5, 2, 5, 1, 5, 0, 3, 3, 0, 5, 1, 4,\n",
              "       1, 4, 2, 5, 5, 1, 4, 2, 4])"
            ]
          },
          "metadata": {},
          "execution_count": 17
        }
      ]
    },
    {
      "cell_type": "code",
      "source": [
        "preds1=predictions.argmax(axis=1)\n",
        "preds1"
      ],
      "metadata": {
        "colab": {
          "base_uri": "https://localhost:8080/"
        },
        "id": "4_cAI39VFhtp",
        "outputId": "2750d65c-b46a-4b8a-d627-c47dc3c3f739"
      },
      "execution_count": 18,
      "outputs": [
        {
          "output_type": "execute_result",
          "data": {
            "text/plain": [
              "array([3, 3, 3, 3, 3, 3, 3, 3, 3, 3, 3, 3, 3, 3, 3, 3, 3, 3, 3, 3, 3, 3,\n",
              "       3, 3, 3, 3, 3, 3, 3, 3, 3, 3, 3, 3, 3, 3, 3, 3, 3, 3, 3, 3, 3, 3,\n",
              "       3, 3, 3, 3, 3, 3, 3, 3, 3, 3, 3, 3, 3, 3, 3, 3, 3, 3, 3, 3, 3, 3,\n",
              "       3, 3, 3, 3, 3, 3, 3, 3, 3, 3, 3, 3, 3, 3, 3, 3, 3, 3, 3, 3, 3, 3,\n",
              "       3, 3, 3, 3, 3, 3, 3, 3, 3, 3, 3, 3, 3, 3, 3, 3, 3, 3, 3, 3, 3, 3,\n",
              "       3, 3, 3, 3, 3, 3, 3, 3, 3, 3, 3, 3, 3, 3, 3, 3, 3, 3, 3, 3, 3, 3,\n",
              "       3, 3, 3, 3, 3, 3, 3, 3, 3, 3, 3, 3, 3, 3, 3, 3, 3, 3, 3, 3, 3, 3,\n",
              "       3, 3, 3, 3, 3, 3, 3, 3, 3, 3, 3, 3, 3, 3, 3, 3, 3, 3, 3, 3, 3, 3,\n",
              "       3, 3, 3, 3, 3, 3, 3, 3, 3, 3, 3, 3, 3, 3, 3, 3, 3, 3, 3, 3, 3, 3,\n",
              "       3, 3, 3, 3, 3, 3, 3, 3, 3])"
            ]
          },
          "metadata": {},
          "execution_count": 18
        }
      ]
    },
    {
      "cell_type": "code",
      "source": [
        "abc = preds1.astype(int).flatten()"
      ],
      "metadata": {
        "id": "H4WEmM60NfQn"
      },
      "execution_count": 19,
      "outputs": []
    },
    {
      "cell_type": "code",
      "source": [
        "from sklearn.metrics import confusion_matrix\n",
        "c = confusion_matrix(new_Ytest, abc) \n",
        "c"
      ],
      "metadata": {
        "colab": {
          "base_uri": "https://localhost:8080/"
        },
        "id": "bKEBeEBlFjB8",
        "outputId": "0c8432c0-d7ce-4823-9735-9bd275f1778b"
      },
      "execution_count": 20,
      "outputs": [
        {
          "output_type": "execute_result",
          "data": {
            "text/plain": [
              "array([[ 0,  0,  0, 18,  0,  0],\n",
              "       [ 0,  0,  0, 41,  0,  0],\n",
              "       [ 0,  0,  0, 45,  0,  0],\n",
              "       [ 0,  0,  0, 31,  0,  0],\n",
              "       [ 0,  0,  0, 33,  0,  0],\n",
              "       [ 0,  0,  0, 39,  0,  0]])"
            ]
          },
          "metadata": {},
          "execution_count": 20
        }
      ]
    },
    {
      "cell_type": "code",
      "source": [
        "y_test"
      ],
      "metadata": {
        "colab": {
          "base_uri": "https://localhost:8080/"
        },
        "id": "m4RjG7LWLSQx",
        "outputId": "4d189eda-3ae9-4252-8216-9ba0faa7eb45"
      },
      "execution_count": 21,
      "outputs": [
        {
          "output_type": "execute_result",
          "data": {
            "text/plain": [
              "array([3, 3, 3, 0, 4, 4, 1, 2, 5, 0, 5, 3, 2, 2, 1, 4, 4, 5, 2, 4, 1, 2,\n",
              "       3, 5, 4, 2, 1, 2, 2, 2, 2, 5, 2, 5, 3, 1, 2, 0, 4, 5, 2, 3, 2, 2,\n",
              "       5, 2, 0, 1, 3, 4, 4, 5, 1, 1, 4, 4, 5, 1, 1, 1, 0, 1, 5, 0, 4, 1,\n",
              "       1, 0, 1, 4, 1, 0, 4, 1, 3, 1, 2, 2, 1, 2, 3, 0, 5, 3, 5, 5, 2, 4,\n",
              "       5, 1, 5, 1, 5, 3, 4, 1, 4, 1, 5, 4, 5, 1, 2, 1, 1, 5, 1, 3, 2, 5,\n",
              "       2, 1, 3, 5, 4, 4, 0, 0, 3, 1, 2, 2, 3, 5, 1, 5, 3, 4, 2, 2, 0, 2,\n",
              "       2, 5, 5, 0, 3, 3, 2, 2, 0, 3, 4, 0, 4, 2, 4, 5, 4, 1, 5, 3, 2, 2,\n",
              "       5, 4, 3, 3, 4, 3, 3, 4, 1, 5, 2, 3, 2, 2, 0, 2, 1, 3, 1, 2, 2, 5,\n",
              "       5, 1, 4, 2, 2, 1, 1, 3, 3, 5, 5, 2, 5, 1, 5, 0, 3, 3, 0, 5, 1, 4,\n",
              "       1, 4, 2, 5, 5, 1, 4, 2, 4])"
            ]
          },
          "metadata": {},
          "execution_count": 21
        }
      ]
    },
    {
      "cell_type": "code",
      "source": [
        "model.save('/content/drive/My Drive/graduation project/audio/paper_code/mariam/original_500 epoch_with_valid_Adam2_3')\n",
        "print(\"MODEL SAVED\")"
      ],
      "metadata": {
        "colab": {
          "base_uri": "https://localhost:8080/"
        },
        "id": "lsJBNeMWDl6Z",
        "outputId": "ed96267e-046d-45db-d259-833819b1e6f2"
      },
      "execution_count": null,
      "outputs": [
        {
          "output_type": "stream",
          "name": "stdout",
          "text": [
            "INFO:tensorflow:Assets written to: /content/drive/My Drive/graduation project/audio/paper_code/mariam/original_500 epoch_with_valid_Adam2_3/assets\n",
            "MODEL SAVED\n"
          ]
        }
      ]
    },
    {
      "cell_type": "code",
      "source": [
        "new_model=keras.models.load_model('/content/drive/My Drive/graduation project/audio/paper_code/mariam/original_500 epoch_with_valid_Adam2_3')\n",
        "new_model.summary()"
      ],
      "metadata": {
        "colab": {
          "base_uri": "https://localhost:8080/"
        },
        "id": "Q3KjaO9GDoNl",
        "outputId": "b509c41b-32e6-434b-f23d-4c04a29eb7c5"
      },
      "execution_count": null,
      "outputs": [
        {
          "output_type": "stream",
          "name": "stdout",
          "text": [
            "Model: \"sequential\"\n",
            "_________________________________________________________________\n",
            " Layer (type)                Output Shape              Param #   \n",
            "=================================================================\n",
            " conv1d (Conv1D)             (None, 40, 128)           1152      \n",
            "                                                                 \n",
            " activation (Activation)     (None, 40, 128)           0         \n",
            "                                                                 \n",
            " dropout (Dropout)           (None, 40, 128)           0         \n",
            "                                                                 \n",
            " max_pooling1d (MaxPooling1D  (None, 8, 128)           0         \n",
            " )                                                               \n",
            "                                                                 \n",
            " conv1d_1 (Conv1D)           (None, 8, 256)            262400    \n",
            "                                                                 \n",
            " activation_1 (Activation)   (None, 8, 256)            0         \n",
            "                                                                 \n",
            " dropout_1 (Dropout)         (None, 8, 256)            0         \n",
            "                                                                 \n",
            " max_pooling1d_1 (MaxPooling  (None, 1, 256)           0         \n",
            " 1D)                                                             \n",
            "                                                                 \n",
            " flatten (Flatten)           (None, 256)               0         \n",
            "                                                                 \n",
            " dense (Dense)               (None, 256)               65792     \n",
            "                                                                 \n",
            " activation_2 (Activation)   (None, 256)               0         \n",
            "                                                                 \n",
            " dense_1 (Dense)             (None, 256)               65792     \n",
            "                                                                 \n",
            " activation_3 (Activation)   (None, 256)               0         \n",
            "                                                                 \n",
            " dense_2 (Dense)             (None, 6)                 1542      \n",
            "                                                                 \n",
            " activation_4 (Activation)   (None, 6)                 0         \n",
            "                                                                 \n",
            "=================================================================\n",
            "Total params: 396,678\n",
            "Trainable params: 396,678\n",
            "Non-trainable params: 0\n",
            "_________________________________________________________________\n"
          ]
        }
      ]
    },
    {
      "cell_type": "code",
      "source": [
        "loss, acc =model.evaluate(x_testcnn, y_test)\n",
        "print(\"Restored model, accuracy: {:5.2f}%\".format(100*acc))"
      ],
      "metadata": {
        "colab": {
          "base_uri": "https://localhost:8080/"
        },
        "id": "n3kzoqPkDqqS",
        "outputId": "3c35ed2e-f804-431a-e745-bc510fe7dc95"
      },
      "execution_count": 22,
      "outputs": [
        {
          "output_type": "stream",
          "name": "stdout",
          "text": [
            "7/7 [==============================] - 0s 3ms/step - loss: 5.3154 - accuracy: 0.1498\n",
            "Restored model, accuracy: 14.98%\n"
          ]
        }
      ]
    },
    {
      "cell_type": "code",
      "source": [
        "loss, acc =model.evaluate(X_train, y_train)\n",
        "print(\"Restored model train, accuracy: {:5.2f}%\".format(100*acc))"
      ],
      "metadata": {
        "id": "fJDTGH_OUX0z",
        "colab": {
          "base_uri": "https://localhost:8080/"
        },
        "outputId": "26128410-9dc6-43c1-efcd-918811b1734e"
      },
      "execution_count": 23,
      "outputs": [
        {
          "output_type": "stream",
          "name": "stdout",
          "text": [
            "52/52 [==============================] - 0s 3ms/step - loss: 5.0777 - accuracy: 0.1844\n",
            "Restored model train, accuracy: 18.44%\n"
          ]
        }
      ]
    },
    {
      "cell_type": "code",
      "source": [
        "from sklearn.metrics import classification_report, confusion_matrix,accuracy_score\n",
        "import seaborn as sn\n",
        "\n",
        "print(classification_report(new_Ytest,abc))\n",
        "\n",
        "acc = float(accuracy_score(new_Ytest,abc))*100\n",
        "print(\"----accuracy score %s ----\" % acc)\n",
        "\n",
        "cm = confusion_matrix(new_Ytest,abc)\n",
        "#df_cm = pd.DataFrame(cm)\n",
        "class_names = ['neutral','calm', 'happy','sad','angry', 'fearful' ]\n",
        "df_cm = pd.DataFrame(cm, index=class_names, columns=class_names,)\n",
        "sn.heatmap(df_cm, annot=True, fmt='')\n",
        "plt.show()"
      ],
      "metadata": {
        "colab": {
          "base_uri": "https://localhost:8080/",
          "height": 720
        },
        "id": "SfSC3El94LZg",
        "outputId": "751af75a-156f-4ca0-977b-03c33bfe9179"
      },
      "execution_count": 24,
      "outputs": [
        {
          "output_type": "stream",
          "name": "stderr",
          "text": [
            "/usr/local/lib/python3.7/dist-packages/sklearn/metrics/_classification.py:1318: UndefinedMetricWarning:\n",
            "\n",
            "Precision and F-score are ill-defined and being set to 0.0 in labels with no predicted samples. Use `zero_division` parameter to control this behavior.\n",
            "\n",
            "/usr/local/lib/python3.7/dist-packages/sklearn/metrics/_classification.py:1318: UndefinedMetricWarning:\n",
            "\n",
            "Precision and F-score are ill-defined and being set to 0.0 in labels with no predicted samples. Use `zero_division` parameter to control this behavior.\n",
            "\n",
            "/usr/local/lib/python3.7/dist-packages/sklearn/metrics/_classification.py:1318: UndefinedMetricWarning:\n",
            "\n",
            "Precision and F-score are ill-defined and being set to 0.0 in labels with no predicted samples. Use `zero_division` parameter to control this behavior.\n",
            "\n"
          ]
        },
        {
          "output_type": "stream",
          "name": "stdout",
          "text": [
            "              precision    recall  f1-score   support\n",
            "\n",
            "           0       0.00      0.00      0.00        18\n",
            "           1       0.00      0.00      0.00        41\n",
            "           2       0.00      0.00      0.00        45\n",
            "           3       0.15      1.00      0.26        31\n",
            "           4       0.00      0.00      0.00        33\n",
            "           5       0.00      0.00      0.00        39\n",
            "\n",
            "    accuracy                           0.15       207\n",
            "   macro avg       0.02      0.17      0.04       207\n",
            "weighted avg       0.02      0.15      0.04       207\n",
            "\n",
            "----accuracy score 14.975845410628018 ----\n"
          ]
        },
        {
          "output_type": "display_data",
          "data": {
            "text/plain": [
              "<Figure size 432x288 with 2 Axes>"
            ],
            "image/png": "[encoded data removed]"
          },
          "metadata": {
            "needs_background": "light"
          }
        }
      ]
    },
    {
      "cell_type": "code",
      "source": [
        ""
      ],
      "metadata": {
        "id": "LGpgwFQqkpyU"
      },
      "execution_count": null,
      "outputs": []
    }
  ]
}