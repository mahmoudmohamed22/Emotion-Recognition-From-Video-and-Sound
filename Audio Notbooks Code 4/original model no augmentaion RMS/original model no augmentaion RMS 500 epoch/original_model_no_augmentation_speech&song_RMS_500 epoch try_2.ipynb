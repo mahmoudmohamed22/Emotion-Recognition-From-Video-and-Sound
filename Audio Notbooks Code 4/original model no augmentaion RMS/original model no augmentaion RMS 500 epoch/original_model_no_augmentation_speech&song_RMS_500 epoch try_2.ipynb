{
  "nbformat": 4,
  "nbformat_minor": 0,
  "metadata": {
    "colab": {
      "name": "original model no augmentation speech&song RMS try 2.ipynb",
      "provenance": [],
      "collapsed_sections": []
    },
    "kernelspec": {
      "name": "python3",
      "display_name": "Python 3"
    },
    "language_info": {
      "name": "python"
    },
    "accelerator": "GPU"
  },
  "cells": [
    {
      "cell_type": "code",
      "execution_count": 1,
      "metadata": {
        "colab": {
          "base_uri": "https://localhost:8080/"
        },
        "id": "9SRCO-a_AlH5",
        "outputId": "ea5d0a28-f9c7-46a2-864e-689464192b51"
      },
      "outputs": [
        {
          "output_type": "stream",
          "name": "stdout",
          "text": [
            "Drive already mounted at /content/drive; to attempt to forcibly remount, call drive.mount(\"/content/drive\", force_remount=True).\n"
          ]
        }
      ],
      "source": [
        "from google.colab import drive\n",
        "drive.mount('/content/drive')"
      ]
    },
    {
      "cell_type": "code",
      "source": [
        "!pip install librosa"
      ],
      "metadata": {
        "colab": {
          "base_uri": "https://localhost:8080/"
        },
        "id": "oi8pWV3yBVjO",
        "outputId": "1f89fdac-4f17-49c5-94d7-ab6622b4e818"
      },
      "execution_count": 2,
      "outputs": [
        {
          "output_type": "stream",
          "name": "stdout",
          "text": [
            "Looking in indexes: https://pypi.org/simple, https://us-python.pkg.dev/colab-wheels/public/simple/\n",
            "Requirement already satisfied: librosa in /usr/local/lib/python3.7/dist-packages (0.8.1)\n",
            "Requirement already satisfied: joblib>=0.14 in /usr/local/lib/python3.7/dist-packages (from librosa) (1.1.0)\n",
            "Requirement already satisfied: scikit-learn!=0.19.0,>=0.14.0 in /usr/local/lib/python3.7/dist-packages (from librosa) (1.0.2)\n",
            "Requirement already satisfied: numpy>=1.15.0 in /usr/local/lib/python3.7/dist-packages (from librosa) (1.21.6)\n",
            "Requirement already satisfied: soundfile>=0.10.2 in /usr/local/lib/python3.7/dist-packages (from librosa) (0.10.3.post1)\n",
            "Requirement already satisfied: resampy>=0.2.2 in /usr/local/lib/python3.7/dist-packages (from librosa) (0.2.2)\n",
            "Requirement already satisfied: scipy>=1.0.0 in /usr/local/lib/python3.7/dist-packages (from librosa) (1.4.1)\n",
            "Requirement already satisfied: numba>=0.43.0 in /usr/local/lib/python3.7/dist-packages (from librosa) (0.51.2)\n",
            "Requirement already satisfied: packaging>=20.0 in /usr/local/lib/python3.7/dist-packages (from librosa) (21.3)\n",
            "Requirement already satisfied: pooch>=1.0 in /usr/local/lib/python3.7/dist-packages (from librosa) (1.6.0)\n",
            "Requirement already satisfied: audioread>=2.0.0 in /usr/local/lib/python3.7/dist-packages (from librosa) (2.1.9)\n",
            "Requirement already satisfied: decorator>=3.0.0 in /usr/local/lib/python3.7/dist-packages (from librosa) (4.4.2)\n",
            "Requirement already satisfied: setuptools in /usr/local/lib/python3.7/dist-packages (from numba>=0.43.0->librosa) (57.4.0)\n",
            "Requirement already satisfied: llvmlite<0.35,>=0.34.0.dev0 in /usr/local/lib/python3.7/dist-packages (from numba>=0.43.0->librosa) (0.34.0)\n",
            "Requirement already satisfied: pyparsing!=3.0.5,>=2.0.2 in /usr/local/lib/python3.7/dist-packages (from packaging>=20.0->librosa) (3.0.9)\n",
            "Requirement already satisfied: appdirs>=1.3.0 in /usr/local/lib/python3.7/dist-packages (from pooch>=1.0->librosa) (1.4.4)\n",
            "Requirement already satisfied: requests>=2.19.0 in /usr/local/lib/python3.7/dist-packages (from pooch>=1.0->librosa) (2.23.0)\n",
            "Requirement already satisfied: urllib3!=1.25.0,!=1.25.1,<1.26,>=1.21.1 in /usr/local/lib/python3.7/dist-packages (from requests>=2.19.0->pooch>=1.0->librosa) (1.24.3)\n",
            "Requirement already satisfied: idna<3,>=2.5 in /usr/local/lib/python3.7/dist-packages (from requests>=2.19.0->pooch>=1.0->librosa) (2.10)\n",
            "Requirement already satisfied: certifi>=2017.4.17 in /usr/local/lib/python3.7/dist-packages (from requests>=2.19.0->pooch>=1.0->librosa) (2022.5.18.1)\n",
            "Requirement already satisfied: chardet<4,>=3.0.2 in /usr/local/lib/python3.7/dist-packages (from requests>=2.19.0->pooch>=1.0->librosa) (3.0.4)\n",
            "Requirement already satisfied: six>=1.3 in /usr/local/lib/python3.7/dist-packages (from resampy>=0.2.2->librosa) (1.15.0)\n",
            "Requirement already satisfied: threadpoolctl>=2.0.0 in /usr/local/lib/python3.7/dist-packages (from scikit-learn!=0.19.0,>=0.14.0->librosa) (3.1.0)\n",
            "Requirement already satisfied: cffi>=1.0 in /usr/local/lib/python3.7/dist-packages (from soundfile>=0.10.2->librosa) (1.15.0)\n",
            "Requirement already satisfied: pycparser in /usr/local/lib/python3.7/dist-packages (from cffi>=1.0->soundfile>=0.10.2->librosa) (2.21)\n"
          ]
        }
      ]
    },
    {
      "cell_type": "code",
      "metadata": {
        "id": "HJjcbxwy46bG",
        "colab": {
          "base_uri": "https://localhost:8080/",
          "height": 17
        },
        "outputId": "21a063ec-f31d-4b4b-8584-c071baaae2f2"
      },
      "source": [
        "# Orignial Notebook: https://github.com/MITESHPUTHRANNEU/Speech-Emotion-Analyzer/blob/master/final_results_gender_test.ipynb\n",
        "# This notebook author: Reza Chu\n",
        "# Last Editing Date: 31st May 2019\n",
        "\n",
        "## Python\n",
        "import os\n",
        "import random\n",
        "import sys\n",
        "\n",
        "import IPython\n",
        "from IPython.display import Audio\n",
        "from IPython.display import Image\n",
        "import matplotlib.pyplot as plt\n",
        "\n",
        "## Package\n",
        "import glob \n",
        "import keras\n",
        "import IPython.display as ipd\n",
        "import librosa\n",
        "import librosa.display\n",
        "import matplotlib.pyplot as plt\n",
        "import numpy as np\n",
        "import pandas as pd\n",
        "import plotly.graph_objs as go\n",
        "import plotly.offline as py\n",
        "import plotly.tools as tls\n",
        "import seaborn as sns\n",
        "import scipy.io.wavfile\n",
        "import tensorflow as tf\n",
        "py.init_notebook_mode(connected=True)\n",
        "\n",
        "## Keras\n",
        "from keras import regularizers\n",
        "from keras.callbacks import ModelCheckpoint, LearningRateScheduler, EarlyStopping\n",
        "from keras.callbacks import  History, ReduceLROnPlateau, CSVLogger\n",
        "from keras.models import Model, Sequential\n",
        "from keras.layers import Dense, Embedding, LSTM\n",
        "from keras.layers import Input, Flatten, Dropout, Activation, BatchNormalization\n",
        "from keras.layers import Conv1D, MaxPooling1D, AveragePooling1D\n",
        "from keras.preprocessing import sequence\n",
        "from keras.preprocessing.sequence import pad_sequences\n",
        "from keras.preprocessing.text import Tokenizer\n",
        "from keras.utils import np_utils\n",
        "from tensorflow.keras.utils import to_categorical\n",
        "\n",
        "## Sklearn\n",
        "from sklearn.metrics import confusion_matrix\n",
        "from sklearn.preprocessing import LabelEncoder\n",
        "\n",
        "## Rest\n",
        "from scipy.fftpack import fft\n",
        "from scipy import signal\n",
        "from scipy.io import wavfile\n",
        "from tqdm import tqdm\n",
        "\n",
        "input_duration=3\n",
        "# % pylab inline"
      ],
      "execution_count": 3,
      "outputs": [
        {
          "output_type": "display_data",
          "data": {
            "text/html": [
              "        <script type=\"text/javascript\">\n",
              "        window.PlotlyConfig = {MathJaxConfig: 'local'};\n",
              "        if (window.MathJax) {MathJax.Hub.Config({SVG: {font: \"STIX-Web\"}});}\n",
              "        if (typeof require !== 'undefined') {\n",
              "        require.undef(\"plotly\");\n",
              "        requirejs.config({\n",
              "            paths: {\n",
              "                'plotly': ['https://cdn.plot.ly/plotly-2.8.3.min']\n",
              "            }\n",
              "        });\n",
              "        require(['plotly'], function(Plotly) {\n",
              "            window._Plotly = Plotly;\n",
              "        });\n",
              "        }\n",
              "        </script>\n",
              "        "
            ]
          },
          "metadata": {}
        }
      ]
    },
    {
      "cell_type": "code",
      "source": [
        "#radvass speech and song\n",
        "import time\n",
        "import os\n",
        "import librosa\n",
        "from librosa import display\n",
        "import matplotlib.pyplot as plt\n",
        "\n",
        "count=0\n",
        "path1 = '/content/drive/MyDrive/RAVDESS_speech'\n",
        "path2 = '/content/drive/MyDrive/RAVDESS_song'\n",
        "\n",
        "lst = []\n",
        "\n",
        "start_time = time.time()\n",
        "\n",
        "for subdir, dirs, files in os.walk(path2):\n",
        "  #print(dirs)\n",
        "  #print(subdir)\n",
        "  #print(files)\n",
        "  for file in files:\n",
        "      try:\n",
        "        count +=1\n",
        "        #Load librosa array, obtain mfcss, store the file and the mcss information in a new array\n",
        "        X, sample_rate = librosa.load(os.path.join(subdir,file), res_type='kaiser_fast')\n",
        "        mfccs = np.mean(librosa.feature.mfcc(y=X, sr=sample_rate, n_mfcc=40).T,axis=0) \n",
        "        # The instruction below converts the labels (from 1 to 8) to a series from 0 to 7\n",
        "        # This is because our predictor needs to start from 0 otherwise it will try to predict also 0.\n",
        "        file = int(file[7:8]) - 1 \n",
        "        arr = mfccs, file\n",
        "        lst.append(arr)\n",
        "      # If the file is not valid, skip it\n",
        "      except ValueError:\n",
        "        continue\n",
        "\n",
        "for subdir, dirs, files in os.walk(path1):\n",
        "  #print(dirs)\n",
        "  #print(subdir)\n",
        " # print(files)\n",
        "  for file in files:\n",
        "      try:\n",
        "        #Load librosa array, obtain mfcss, store the file and the mcss information in a new array\n",
        "        X, sample_rate = librosa.load(os.path.join(subdir,file), res_type='kaiser_fast')\n",
        "        mfccs = np.mean(librosa.feature.mfcc(y=X, sr=sample_rate, n_mfcc=40).T,axis=0) \n",
        "        # The instruction below converts the labels (from 1 to 8) to a series from 0 to 7\n",
        "        # This is because our predictor needs to start from 0 otherwise it will try to predict also 0.\n",
        "        file = int(file[7:8]) - 1 \n",
        "        if(file ==6 or file==7):\n",
        "          continue\n",
        "        count +=1\n",
        "        arr = mfccs, file\n",
        "        lst.append(arr)\n",
        "      # If the file is not valid, skip it\n",
        "      except ValueError:\n",
        "        continue\n",
        "\n",
        "\n",
        "\n",
        "print(\"--- Data loaded. Loading time: %s seconds ---\" % (time.time() - start_time))"
      ],
      "metadata": {
        "colab": {
          "base_uri": "https://localhost:8080/"
        },
        "id": "IfuyRZl42ccZ",
        "outputId": "4ff164c5-2585-4c21-9872-c75e3f69697f"
      },
      "execution_count": 4,
      "outputs": [
        {
          "output_type": "stream",
          "name": "stdout",
          "text": [
            "--- Data loaded. Loading time: 205.20774102210999 seconds ---\n"
          ]
        }
      ]
    },
    {
      "cell_type": "code",
      "source": [
        "count"
      ],
      "metadata": {
        "id": "Ltlhi25L2AI5",
        "colab": {
          "base_uri": "https://localhost:8080/"
        },
        "outputId": "d95d5df5-ec0c-4ee1-8708-296e12cb6cf3"
      },
      "execution_count": 5,
      "outputs": [
        {
          "output_type": "execute_result",
          "data": {
            "text/plain": [
              "2068"
            ]
          },
          "metadata": {},
          "execution_count": 5
        }
      ]
    },
    {
      "cell_type": "code",
      "source": [
        "from numpy.core.fromnumeric import size\n",
        "size(lst)"
      ],
      "metadata": {
        "id": "HMOH7d7mzHB7",
        "colab": {
          "base_uri": "https://localhost:8080/"
        },
        "outputId": "482564f5-c524-429e-af12-e7a190b2ce4b"
      },
      "execution_count": 6,
      "outputs": [
        {
          "output_type": "stream",
          "name": "stderr",
          "text": [
            "/usr/local/lib/python3.7/dist-packages/numpy/core/fromnumeric.py:3208: VisibleDeprecationWarning:\n",
            "\n",
            "Creating an ndarray from ragged nested sequences (which is a list-or-tuple of lists-or-tuples-or ndarrays with different lengths or shapes) is deprecated. If you meant to do this, you must specify 'dtype=object' when creating the ndarray.\n",
            "\n"
          ]
        },
        {
          "output_type": "execute_result",
          "data": {
            "text/plain": [
              "4136"
            ]
          },
          "metadata": {},
          "execution_count": 6
        }
      ]
    },
    {
      "cell_type": "code",
      "source": [
        "# Creating X and y: zip makes a list of all the first elements, and a list of all the second elements.\n",
        "X, y = zip(*lst)"
      ],
      "metadata": {
        "id": "ocdL7tSTBoMt"
      },
      "execution_count": 7,
      "outputs": []
    },
    {
      "cell_type": "code",
      "source": [
        "import numpy as np\n",
        "X = np.asarray(X)\n",
        "y = np.asarray(y)\n",
        "X.shape, y.shape"
      ],
      "metadata": {
        "id": "vHKwUGTbBtnF",
        "colab": {
          "base_uri": "https://localhost:8080/"
        },
        "outputId": "64b8b825-d7b5-4e56-d922-b43be43483f7"
      },
      "execution_count": 8,
      "outputs": [
        {
          "output_type": "execute_result",
          "data": {
            "text/plain": [
              "((2068, 40), (2068,))"
            ]
          },
          "metadata": {},
          "execution_count": 8
        }
      ]
    },
    {
      "cell_type": "code",
      "source": [
        "X.shape"
      ],
      "metadata": {
        "id": "2sUCtbfMztE5",
        "colab": {
          "base_uri": "https://localhost:8080/"
        },
        "outputId": "d780a4a1-f3fc-4711-c04f-38a37676f4ec"
      },
      "execution_count": 9,
      "outputs": [
        {
          "output_type": "execute_result",
          "data": {
            "text/plain": [
              "(2068, 40)"
            ]
          },
          "metadata": {},
          "execution_count": 9
        }
      ]
    },
    {
      "cell_type": "code",
      "source": [
        "X.shape"
      ],
      "metadata": {
        "colab": {
          "base_uri": "https://localhost:8080/"
        },
        "id": "7PSTurzjCo5K",
        "outputId": "42b2eb8c-7206-44ba-c957-54ae0baada5f"
      },
      "execution_count": 10,
      "outputs": [
        {
          "output_type": "execute_result",
          "data": {
            "text/plain": [
              "(2068, 40)"
            ]
          },
          "metadata": {},
          "execution_count": 10
        }
      ]
    },
    {
      "cell_type": "code",
      "source": [
        "from sklearn.model_selection import train_test_split\n",
        "\n",
        "X_train, X_test, y_train, y_test = train_test_split(X,y, test_size=0.2,train_size=0.8, random_state=42)\n",
        "X_valid, X_test, y_valid, y_test = train_test_split(X_test,y_test, test_size=0.5,train_size=0.5, random_state=42)"
      ],
      "metadata": {
        "id": "Ai4Fy5cPCiq1"
      },
      "execution_count": 11,
      "outputs": []
    },
    {
      "cell_type": "code",
      "source": [
        "import numpy as np\n",
        "x_traincnn = np.expand_dims(X_train, axis=2)\n",
        "x_testcnn = np.expand_dims(X_test, axis=2)\n",
        "X_valid= np.expand_dims(X_valid, axis=2)"
      ],
      "metadata": {
        "id": "tp1Fm5K3CEXu"
      },
      "execution_count": 12,
      "outputs": []
    },
    {
      "cell_type": "code",
      "source": [
        "x_traincnn.shape, x_testcnn.shape , X_valid.shape"
      ],
      "metadata": {
        "id": "RI0MxoIPBws5",
        "colab": {
          "base_uri": "https://localhost:8080/"
        },
        "outputId": "90792ffa-4acf-446b-94cf-bf3c2502abb1"
      },
      "execution_count": 13,
      "outputs": [
        {
          "output_type": "execute_result",
          "data": {
            "text/plain": [
              "((1654, 40, 1), (207, 40, 1), (207, 40, 1))"
            ]
          },
          "metadata": {},
          "execution_count": 13
        }
      ]
    },
    {
      "cell_type": "code",
      "source": [
        "!pip install tensorflow"
      ],
      "metadata": {
        "id": "goxL4Y3jKICC",
        "colab": {
          "base_uri": "https://localhost:8080/"
        },
        "outputId": "523f3c46-2bba-49c3-a700-7fcfae81b645"
      },
      "execution_count": 14,
      "outputs": [
        {
          "output_type": "stream",
          "name": "stdout",
          "text": [
            "Looking in indexes: https://pypi.org/simple, https://us-python.pkg.dev/colab-wheels/public/simple/\n",
            "Requirement already satisfied: tensorflow in /usr/local/lib/python3.7/dist-packages (2.8.2+zzzcolab20220527125636)\n",
            "Requirement already satisfied: tensorboard<2.9,>=2.8 in /usr/local/lib/python3.7/dist-packages (from tensorflow) (2.8.0)\n",
            "Requirement already satisfied: typing-extensions>=3.6.6 in /usr/local/lib/python3.7/dist-packages (from tensorflow) (4.2.0)\n",
            "Requirement already satisfied: tensorflow-estimator<2.9,>=2.8 in /usr/local/lib/python3.7/dist-packages (from tensorflow) (2.8.0)\n",
            "Requirement already satisfied: keras<2.9,>=2.8.0rc0 in /usr/local/lib/python3.7/dist-packages (from tensorflow) (2.8.0)\n",
            "Requirement already satisfied: setuptools in /usr/local/lib/python3.7/dist-packages (from tensorflow) (57.4.0)\n",
            "Requirement already satisfied: wrapt>=1.11.0 in /usr/local/lib/python3.7/dist-packages (from tensorflow) (1.14.1)\n",
            "Requirement already satisfied: termcolor>=1.1.0 in /usr/local/lib/python3.7/dist-packages (from tensorflow) (1.1.0)\n",
            "Requirement already satisfied: absl-py>=0.4.0 in /usr/local/lib/python3.7/dist-packages (from tensorflow) (1.0.0)\n",
            "Requirement already satisfied: h5py>=2.9.0 in /usr/local/lib/python3.7/dist-packages (from tensorflow) (3.1.0)\n",
            "Requirement already satisfied: astunparse>=1.6.0 in /usr/local/lib/python3.7/dist-packages (from tensorflow) (1.6.3)\n",
            "Requirement already satisfied: keras-preprocessing>=1.1.1 in /usr/local/lib/python3.7/dist-packages (from tensorflow) (1.1.2)\n",
            "Requirement already satisfied: grpcio<2.0,>=1.24.3 in /usr/local/lib/python3.7/dist-packages (from tensorflow) (1.46.3)\n",
            "Requirement already satisfied: gast>=0.2.1 in /usr/local/lib/python3.7/dist-packages (from tensorflow) (0.5.3)\n",
            "Requirement already satisfied: protobuf<3.20,>=3.9.2 in /usr/local/lib/python3.7/dist-packages (from tensorflow) (3.17.3)\n",
            "Requirement already satisfied: libclang>=9.0.1 in /usr/local/lib/python3.7/dist-packages (from tensorflow) (14.0.1)\n",
            "Requirement already satisfied: six>=1.12.0 in /usr/local/lib/python3.7/dist-packages (from tensorflow) (1.15.0)\n",
            "Requirement already satisfied: google-pasta>=0.1.1 in /usr/local/lib/python3.7/dist-packages (from tensorflow) (0.2.0)\n",
            "Requirement already satisfied: flatbuffers>=1.12 in /usr/local/lib/python3.7/dist-packages (from tensorflow) (2.0)\n",
            "Requirement already satisfied: tensorflow-io-gcs-filesystem>=0.23.1 in /usr/local/lib/python3.7/dist-packages (from tensorflow) (0.26.0)\n",
            "Requirement already satisfied: opt-einsum>=2.3.2 in /usr/local/lib/python3.7/dist-packages (from tensorflow) (3.3.0)\n",
            "Requirement already satisfied: numpy>=1.20 in /usr/local/lib/python3.7/dist-packages (from tensorflow) (1.21.6)\n",
            "Requirement already satisfied: wheel<1.0,>=0.23.0 in /usr/local/lib/python3.7/dist-packages (from astunparse>=1.6.0->tensorflow) (0.37.1)\n",
            "Requirement already satisfied: cached-property in /usr/local/lib/python3.7/dist-packages (from h5py>=2.9.0->tensorflow) (1.5.2)\n",
            "Requirement already satisfied: tensorboard-plugin-wit>=1.6.0 in /usr/local/lib/python3.7/dist-packages (from tensorboard<2.9,>=2.8->tensorflow) (1.8.1)\n",
            "Requirement already satisfied: google-auth<3,>=1.6.3 in /usr/local/lib/python3.7/dist-packages (from tensorboard<2.9,>=2.8->tensorflow) (1.35.0)\n",
            "Requirement already satisfied: werkzeug>=0.11.15 in /usr/local/lib/python3.7/dist-packages (from tensorboard<2.9,>=2.8->tensorflow) (1.0.1)\n",
            "Requirement already satisfied: google-auth-oauthlib<0.5,>=0.4.1 in /usr/local/lib/python3.7/dist-packages (from tensorboard<2.9,>=2.8->tensorflow) (0.4.6)\n",
            "Requirement already satisfied: requests<3,>=2.21.0 in /usr/local/lib/python3.7/dist-packages (from tensorboard<2.9,>=2.8->tensorflow) (2.23.0)\n",
            "Requirement already satisfied: tensorboard-data-server<0.7.0,>=0.6.0 in /usr/local/lib/python3.7/dist-packages (from tensorboard<2.9,>=2.8->tensorflow) (0.6.1)\n",
            "Requirement already satisfied: markdown>=2.6.8 in /usr/local/lib/python3.7/dist-packages (from tensorboard<2.9,>=2.8->tensorflow) (3.3.7)\n",
            "Requirement already satisfied: cachetools<5.0,>=2.0.0 in /usr/local/lib/python3.7/dist-packages (from google-auth<3,>=1.6.3->tensorboard<2.9,>=2.8->tensorflow) (4.2.4)\n",
            "Requirement already satisfied: rsa<5,>=3.1.4 in /usr/local/lib/python3.7/dist-packages (from google-auth<3,>=1.6.3->tensorboard<2.9,>=2.8->tensorflow) (4.8)\n",
            "Requirement already satisfied: pyasn1-modules>=0.2.1 in /usr/local/lib/python3.7/dist-packages (from google-auth<3,>=1.6.3->tensorboard<2.9,>=2.8->tensorflow) (0.2.8)\n",
            "Requirement already satisfied: requests-oauthlib>=0.7.0 in /usr/local/lib/python3.7/dist-packages (from google-auth-oauthlib<0.5,>=0.4.1->tensorboard<2.9,>=2.8->tensorflow) (1.3.1)\n",
            "Requirement already satisfied: importlib-metadata>=4.4 in /usr/local/lib/python3.7/dist-packages (from markdown>=2.6.8->tensorboard<2.9,>=2.8->tensorflow) (4.11.4)\n",
            "Requirement already satisfied: zipp>=0.5 in /usr/local/lib/python3.7/dist-packages (from importlib-metadata>=4.4->markdown>=2.6.8->tensorboard<2.9,>=2.8->tensorflow) (3.8.0)\n",
            "Requirement already satisfied: pyasn1<0.5.0,>=0.4.6 in /usr/local/lib/python3.7/dist-packages (from pyasn1-modules>=0.2.1->google-auth<3,>=1.6.3->tensorboard<2.9,>=2.8->tensorflow) (0.4.8)\n",
            "Requirement already satisfied: chardet<4,>=3.0.2 in /usr/local/lib/python3.7/dist-packages (from requests<3,>=2.21.0->tensorboard<2.9,>=2.8->tensorflow) (3.0.4)\n",
            "Requirement already satisfied: urllib3!=1.25.0,!=1.25.1,<1.26,>=1.21.1 in /usr/local/lib/python3.7/dist-packages (from requests<3,>=2.21.0->tensorboard<2.9,>=2.8->tensorflow) (1.24.3)\n",
            "Requirement already satisfied: certifi>=2017.4.17 in /usr/local/lib/python3.7/dist-packages (from requests<3,>=2.21.0->tensorboard<2.9,>=2.8->tensorflow) (2022.5.18.1)\n",
            "Requirement already satisfied: idna<3,>=2.5 in /usr/local/lib/python3.7/dist-packages (from requests<3,>=2.21.0->tensorboard<2.9,>=2.8->tensorflow) (2.10)\n",
            "Requirement already satisfied: oauthlib>=3.0.0 in /usr/local/lib/python3.7/dist-packages (from requests-oauthlib>=0.7.0->google-auth-oauthlib<0.5,>=0.4.1->tensorboard<2.9,>=2.8->tensorflow) (3.2.0)\n"
          ]
        }
      ]
    },
    {
      "cell_type": "code",
      "source": [
        "!pip install keras"
      ],
      "metadata": {
        "id": "EkcmN9UrKSxj",
        "colab": {
          "base_uri": "https://localhost:8080/"
        },
        "outputId": "547838ae-8af9-4c15-e91a-e4884d6bfe54"
      },
      "execution_count": 15,
      "outputs": [
        {
          "output_type": "stream",
          "name": "stdout",
          "text": [
            "Looking in indexes: https://pypi.org/simple, https://us-python.pkg.dev/colab-wheels/public/simple/\n",
            "Requirement already satisfied: keras in /usr/local/lib/python3.7/dist-packages (2.8.0)\n"
          ]
        }
      ]
    },
    {
      "cell_type": "code",
      "source": [
        "import keras\n",
        "import numpy as np\n",
        "import matplotlib.pyplot as plt\n",
        "import tensorflow as tf\n",
        "from keras.preprocessing import sequence\n",
        "from keras.models import Sequential\n",
        "from keras.layers import Dense, Embedding\n",
        "from tensorflow.keras.utils import to_categorical\n",
        "from keras.layers import Input, Flatten, Dropout, Activation\n",
        "from keras.layers import Conv1D, MaxPooling1D\n",
        "from keras.models import Model\n",
        "from keras.callbacks import ModelCheckpoint\n",
        "from tensorflow.keras import optimizers\n",
        "\n",
        "model = Sequential()\n",
        "\n",
        "model.add(Conv1D(128, 8,padding='same', #classifier.add(Convolution2D(64, (3, 3), padding = 'same', input_shape = (128, 128, 3), activation = 'relu'))\n",
        "                 input_shape=(40,1)))\n",
        "model.add(Activation('relu'))\n",
        "model.add(Dropout(0.3))\n",
        "model.add(MaxPooling1D(pool_size=(5)))\n",
        "\n",
        "\n",
        "model.add(Conv1D(256,8,padding='same',))\n",
        "model.add(Activation('relu'))\n",
        "model.add(Dropout(0.3))\n",
        "model.add(MaxPooling1D(pool_size=(5)))\n",
        "\n",
        "model.add(Flatten())\n",
        "\n",
        "model.add(Dense(256))\n",
        "model.add(Activation('relu'))\n",
        "model.add(Dense(256))\n",
        "model.add(Activation('relu'))\n",
        "\n",
        "model.add(Dense(6))\n",
        "model.add(Activation('softmax'))\n",
        "\n",
        "#opt = tf.keras.optimizers.Adam(lr=0.00002)\n",
        "opt = tf.keras.optimizers.RMSprop(lr=0.00002, rho=0.9, epsilon=1e-07, decay=0.0)\n",
        "#opt = tf.keras.optimizers.SGD(lr=0.001, momentum=0.0, decay=0.0, nesterov=False)"
      ],
      "metadata": {
        "id": "g74fXWVAC4Cr",
        "colab": {
          "base_uri": "https://localhost:8080/"
        },
        "outputId": "dddcc5d9-702c-4545-8726-5dba69da5744"
      },
      "execution_count": 16,
      "outputs": [
        {
          "output_type": "stream",
          "name": "stderr",
          "text": [
            "/usr/local/lib/python3.7/dist-packages/keras/optimizer_v2/rmsprop.py:130: UserWarning:\n",
            "\n",
            "The `lr` argument is deprecated, use `learning_rate` instead.\n",
            "\n"
          ]
        }
      ]
    },
    {
      "cell_type": "code",
      "source": [
        "model.summary()"
      ],
      "metadata": {
        "colab": {
          "base_uri": "https://localhost:8080/"
        },
        "id": "H6ukOxAGC_I4",
        "outputId": "2823f254-5538-41fd-fa9b-acc102bb7ffe"
      },
      "execution_count": 17,
      "outputs": [
        {
          "output_type": "stream",
          "name": "stdout",
          "text": [
            "Model: \"sequential\"\n",
            "_________________________________________________________________\n",
            " Layer (type)                Output Shape              Param #   \n",
            "=================================================================\n",
            " conv1d (Conv1D)             (None, 40, 128)           1152      \n",
            "                                                                 \n",
            " activation (Activation)     (None, 40, 128)           0         \n",
            "                                                                 \n",
            " dropout (Dropout)           (None, 40, 128)           0         \n",
            "                                                                 \n",
            " max_pooling1d (MaxPooling1D  (None, 8, 128)           0         \n",
            " )                                                               \n",
            "                                                                 \n",
            " conv1d_1 (Conv1D)           (None, 8, 256)            262400    \n",
            "                                                                 \n",
            " activation_1 (Activation)   (None, 8, 256)            0         \n",
            "                                                                 \n",
            " dropout_1 (Dropout)         (None, 8, 256)            0         \n",
            "                                                                 \n",
            " max_pooling1d_1 (MaxPooling  (None, 1, 256)           0         \n",
            " 1D)                                                             \n",
            "                                                                 \n",
            " flatten (Flatten)           (None, 256)               0         \n",
            "                                                                 \n",
            " dense (Dense)               (None, 256)               65792     \n",
            "                                                                 \n",
            " activation_2 (Activation)   (None, 256)               0         \n",
            "                                                                 \n",
            " dense_1 (Dense)             (None, 256)               65792     \n",
            "                                                                 \n",
            " activation_3 (Activation)   (None, 256)               0         \n",
            "                                                                 \n",
            " dense_2 (Dense)             (None, 6)                 1542      \n",
            "                                                                 \n",
            " activation_4 (Activation)   (None, 6)                 0         \n",
            "                                                                 \n",
            "=================================================================\n",
            "Total params: 396,678\n",
            "Trainable params: 396,678\n",
            "Non-trainable params: 0\n",
            "_________________________________________________________________\n"
          ]
        }
      ]
    },
    {
      "cell_type": "code",
      "source": [
        "model.compile(loss='sparse_categorical_crossentropy',\n",
        "              optimizer=opt,\n",
        "              metrics=['accuracy'])"
      ],
      "metadata": {
        "id": "AbMlLNk4DCBM"
      },
      "execution_count": 18,
      "outputs": []
    },
    {
      "cell_type": "code",
      "source": [
        "#cnnhistory=model.fit(x_traincnn, y_train, batch_size=16, epochs=700, validation_data=(x_testcnn, y_test))\n",
        "cnnhistory=model.fit(x_traincnn, y_train, batch_size=16, epochs=500 , validation_data=(X_valid, y_valid))"
      ],
      "metadata": {
        "colab": {
          "base_uri": "https://localhost:8080/"
        },
        "id": "RI1v2AuADFhy",
        "outputId": "a5476792-67c4-49d7-c168-f009d77eee36"
      },
      "execution_count": 19,
      "outputs": [
        {
          "output_type": "stream",
          "name": "stdout",
          "text": [
            "Epoch 1/500\n",
            "104/104 [==============================] - 4s 11ms/step - loss: 6.3361 - accuracy: 0.1699 - val_loss: 2.5956 - val_accuracy: 0.2029\n",
            "Epoch 2/500\n",
            "104/104 [==============================] - 1s 8ms/step - loss: 4.9699 - accuracy: 0.1838 - val_loss: 1.9956 - val_accuracy: 0.2077\n",
            "Epoch 3/500\n",
            "104/104 [==============================] - 1s 8ms/step - loss: 4.2542 - accuracy: 0.1784 - val_loss: 1.9774 - val_accuracy: 0.1884\n",
            "Epoch 4/500\n",
            "104/104 [==============================] - 1s 7ms/step - loss: 3.7619 - accuracy: 0.1838 - val_loss: 1.8108 - val_accuracy: 0.2174\n",
            "Epoch 5/500\n",
            "104/104 [==============================] - 1s 8ms/step - loss: 3.3776 - accuracy: 0.2080 - val_loss: 1.9496 - val_accuracy: 0.1836\n",
            "Epoch 6/500\n",
            "104/104 [==============================] - 1s 8ms/step - loss: 3.0152 - accuracy: 0.1983 - val_loss: 1.7266 - val_accuracy: 0.3043\n",
            "Epoch 7/500\n",
            "104/104 [==============================] - 1s 9ms/step - loss: 2.9246 - accuracy: 0.1826 - val_loss: 1.8340 - val_accuracy: 0.2754\n",
            "Epoch 8/500\n",
            "104/104 [==============================] - 1s 9ms/step - loss: 2.7177 - accuracy: 0.2086 - val_loss: 1.7299 - val_accuracy: 0.2415\n",
            "Epoch 9/500\n",
            "104/104 [==============================] - 1s 13ms/step - loss: 2.5254 - accuracy: 0.2170 - val_loss: 1.7632 - val_accuracy: 0.2609\n",
            "Epoch 10/500\n",
            "104/104 [==============================] - 1s 11ms/step - loss: 2.4568 - accuracy: 0.2146 - val_loss: 1.7608 - val_accuracy: 0.2367\n",
            "Epoch 11/500\n",
            "104/104 [==============================] - 1s 9ms/step - loss: 2.4381 - accuracy: 0.2031 - val_loss: 1.6734 - val_accuracy: 0.3188\n",
            "Epoch 12/500\n",
            "104/104 [==============================] - 1s 8ms/step - loss: 2.3038 - accuracy: 0.2044 - val_loss: 1.6674 - val_accuracy: 0.3140\n",
            "Epoch 13/500\n",
            "104/104 [==============================] - 1s 8ms/step - loss: 2.2637 - accuracy: 0.2237 - val_loss: 1.6628 - val_accuracy: 0.3285\n",
            "Epoch 14/500\n",
            "104/104 [==============================] - 1s 8ms/step - loss: 2.1765 - accuracy: 0.2255 - val_loss: 1.6897 - val_accuracy: 0.2850\n",
            "Epoch 15/500\n",
            "104/104 [==============================] - 1s 10ms/step - loss: 2.1456 - accuracy: 0.2249 - val_loss: 1.6472 - val_accuracy: 0.3237\n",
            "Epoch 16/500\n",
            "104/104 [==============================] - 1s 10ms/step - loss: 2.0819 - accuracy: 0.2304 - val_loss: 1.6570 - val_accuracy: 0.2609\n",
            "Epoch 17/500\n",
            "104/104 [==============================] - 1s 9ms/step - loss: 2.0434 - accuracy: 0.2310 - val_loss: 1.6300 - val_accuracy: 0.3188\n",
            "Epoch 18/500\n",
            "104/104 [==============================] - 1s 8ms/step - loss: 2.0461 - accuracy: 0.2346 - val_loss: 1.6347 - val_accuracy: 0.3092\n",
            "Epoch 19/500\n",
            "104/104 [==============================] - 1s 9ms/step - loss: 2.0210 - accuracy: 0.2437 - val_loss: 1.6292 - val_accuracy: 0.3043\n",
            "Epoch 20/500\n",
            "104/104 [==============================] - 1s 9ms/step - loss: 1.9739 - accuracy: 0.2394 - val_loss: 1.6263 - val_accuracy: 0.3092\n",
            "Epoch 21/500\n",
            "104/104 [==============================] - 1s 8ms/step - loss: 2.0094 - accuracy: 0.2310 - val_loss: 1.6566 - val_accuracy: 0.3430\n",
            "Epoch 22/500\n",
            "104/104 [==============================] - 1s 10ms/step - loss: 1.9607 - accuracy: 0.2388 - val_loss: 1.6308 - val_accuracy: 0.3768\n",
            "Epoch 23/500\n",
            "104/104 [==============================] - 1s 8ms/step - loss: 1.8851 - accuracy: 0.2588 - val_loss: 1.6316 - val_accuracy: 0.3382\n",
            "Epoch 24/500\n",
            "104/104 [==============================] - 1s 8ms/step - loss: 1.8614 - accuracy: 0.2551 - val_loss: 1.6121 - val_accuracy: 0.3623\n",
            "Epoch 25/500\n",
            "104/104 [==============================] - 1s 9ms/step - loss: 1.8777 - accuracy: 0.2430 - val_loss: 1.6347 - val_accuracy: 0.3527\n",
            "Epoch 26/500\n",
            "104/104 [==============================] - 1s 7ms/step - loss: 1.8812 - accuracy: 0.2467 - val_loss: 1.6179 - val_accuracy: 0.3623\n",
            "Epoch 27/500\n",
            "104/104 [==============================] - 1s 9ms/step - loss: 1.8370 - accuracy: 0.2557 - val_loss: 1.6666 - val_accuracy: 0.2899\n",
            "Epoch 28/500\n",
            "104/104 [==============================] - 1s 7ms/step - loss: 1.8627 - accuracy: 0.2388 - val_loss: 1.6245 - val_accuracy: 0.3768\n",
            "Epoch 29/500\n",
            "104/104 [==============================] - 1s 7ms/step - loss: 1.8717 - accuracy: 0.2533 - val_loss: 1.5951 - val_accuracy: 0.3671\n",
            "Epoch 30/500\n",
            "104/104 [==============================] - 1s 10ms/step - loss: 1.7725 - accuracy: 0.2775 - val_loss: 1.5997 - val_accuracy: 0.3913\n",
            "Epoch 31/500\n",
            "104/104 [==============================] - 1s 9ms/step - loss: 1.8162 - accuracy: 0.2727 - val_loss: 1.5870 - val_accuracy: 0.4348\n",
            "Epoch 32/500\n",
            "104/104 [==============================] - 1s 7ms/step - loss: 1.7945 - accuracy: 0.2721 - val_loss: 1.5826 - val_accuracy: 0.4396\n",
            "Epoch 33/500\n",
            "104/104 [==============================] - 1s 7ms/step - loss: 1.7830 - accuracy: 0.2690 - val_loss: 1.5787 - val_accuracy: 0.3478\n",
            "Epoch 34/500\n",
            "104/104 [==============================] - 1s 7ms/step - loss: 1.7892 - accuracy: 0.2606 - val_loss: 1.5936 - val_accuracy: 0.3478\n",
            "Epoch 35/500\n",
            "104/104 [==============================] - 1s 6ms/step - loss: 1.7717 - accuracy: 0.2612 - val_loss: 1.5951 - val_accuracy: 0.4300\n",
            "Epoch 36/500\n",
            "104/104 [==============================] - 1s 5ms/step - loss: 1.7564 - accuracy: 0.2981 - val_loss: 1.5730 - val_accuracy: 0.4251\n",
            "Epoch 37/500\n",
            "104/104 [==============================] - 0s 5ms/step - loss: 1.7462 - accuracy: 0.2860 - val_loss: 1.6181 - val_accuracy: 0.3188\n",
            "Epoch 38/500\n",
            "104/104 [==============================] - 0s 5ms/step - loss: 1.7516 - accuracy: 0.2823 - val_loss: 1.6186 - val_accuracy: 0.3478\n",
            "Epoch 39/500\n",
            "104/104 [==============================] - 0s 5ms/step - loss: 1.7219 - accuracy: 0.2963 - val_loss: 1.6134 - val_accuracy: 0.3092\n",
            "Epoch 40/500\n",
            "104/104 [==============================] - 0s 4ms/step - loss: 1.7158 - accuracy: 0.2944 - val_loss: 1.5652 - val_accuracy: 0.4203\n",
            "Epoch 41/500\n",
            "104/104 [==============================] - 1s 5ms/step - loss: 1.6890 - accuracy: 0.3047 - val_loss: 1.5770 - val_accuracy: 0.3623\n",
            "Epoch 42/500\n",
            "104/104 [==============================] - 0s 5ms/step - loss: 1.7342 - accuracy: 0.2854 - val_loss: 1.5952 - val_accuracy: 0.3671\n",
            "Epoch 43/500\n",
            "104/104 [==============================] - 0s 5ms/step - loss: 1.7047 - accuracy: 0.3029 - val_loss: 1.5765 - val_accuracy: 0.3623\n",
            "Epoch 44/500\n",
            "104/104 [==============================] - 0s 5ms/step - loss: 1.6927 - accuracy: 0.3017 - val_loss: 1.5565 - val_accuracy: 0.4058\n",
            "Epoch 45/500\n",
            "104/104 [==============================] - 1s 5ms/step - loss: 1.6872 - accuracy: 0.2944 - val_loss: 1.5694 - val_accuracy: 0.4203\n",
            "Epoch 46/500\n",
            "104/104 [==============================] - 1s 5ms/step - loss: 1.6980 - accuracy: 0.2914 - val_loss: 1.5502 - val_accuracy: 0.4493\n",
            "Epoch 47/500\n",
            "104/104 [==============================] - 1s 5ms/step - loss: 1.6880 - accuracy: 0.2981 - val_loss: 1.5460 - val_accuracy: 0.4203\n",
            "Epoch 48/500\n",
            "104/104 [==============================] - 0s 5ms/step - loss: 1.6666 - accuracy: 0.3108 - val_loss: 1.5440 - val_accuracy: 0.4058\n",
            "Epoch 49/500\n",
            "104/104 [==============================] - 0s 5ms/step - loss: 1.6846 - accuracy: 0.3174 - val_loss: 1.5414 - val_accuracy: 0.3671\n",
            "Epoch 50/500\n",
            "104/104 [==============================] - 1s 5ms/step - loss: 1.6660 - accuracy: 0.3102 - val_loss: 1.5502 - val_accuracy: 0.3623\n",
            "Epoch 51/500\n",
            "104/104 [==============================] - 0s 5ms/step - loss: 1.6535 - accuracy: 0.3023 - val_loss: 1.5579 - val_accuracy: 0.4203\n",
            "Epoch 52/500\n",
            "104/104 [==============================] - 1s 5ms/step - loss: 1.6353 - accuracy: 0.3368 - val_loss: 1.5459 - val_accuracy: 0.4106\n",
            "Epoch 53/500\n",
            "104/104 [==============================] - 1s 5ms/step - loss: 1.6643 - accuracy: 0.3023 - val_loss: 1.5727 - val_accuracy: 0.3623\n",
            "Epoch 54/500\n",
            "104/104 [==============================] - 0s 4ms/step - loss: 1.6449 - accuracy: 0.3235 - val_loss: 1.5509 - val_accuracy: 0.3865\n",
            "Epoch 55/500\n",
            "104/104 [==============================] - 0s 5ms/step - loss: 1.6381 - accuracy: 0.3464 - val_loss: 1.5203 - val_accuracy: 0.4203\n",
            "Epoch 56/500\n",
            "104/104 [==============================] - 1s 5ms/step - loss: 1.6243 - accuracy: 0.3362 - val_loss: 1.5432 - val_accuracy: 0.3623\n",
            "Epoch 57/500\n",
            "104/104 [==============================] - 0s 5ms/step - loss: 1.6168 - accuracy: 0.3313 - val_loss: 1.5112 - val_accuracy: 0.4058\n",
            "Epoch 58/500\n",
            "104/104 [==============================] - 1s 5ms/step - loss: 1.6283 - accuracy: 0.3174 - val_loss: 1.5150 - val_accuracy: 0.4106\n",
            "Epoch 59/500\n",
            "104/104 [==============================] - 1s 5ms/step - loss: 1.5975 - accuracy: 0.3422 - val_loss: 1.5169 - val_accuracy: 0.4155\n",
            "Epoch 60/500\n",
            "104/104 [==============================] - 1s 5ms/step - loss: 1.6032 - accuracy: 0.3386 - val_loss: 1.5294 - val_accuracy: 0.3768\n",
            "Epoch 61/500\n",
            "104/104 [==============================] - 0s 5ms/step - loss: 1.6102 - accuracy: 0.3416 - val_loss: 1.5060 - val_accuracy: 0.4251\n",
            "Epoch 62/500\n",
            "104/104 [==============================] - 0s 5ms/step - loss: 1.5828 - accuracy: 0.3495 - val_loss: 1.5257 - val_accuracy: 0.4203\n",
            "Epoch 63/500\n",
            "104/104 [==============================] - 1s 5ms/step - loss: 1.5782 - accuracy: 0.3615 - val_loss: 1.5123 - val_accuracy: 0.3816\n",
            "Epoch 64/500\n",
            "104/104 [==============================] - 1s 5ms/step - loss: 1.5735 - accuracy: 0.3482 - val_loss: 1.5064 - val_accuracy: 0.4300\n",
            "Epoch 65/500\n",
            "104/104 [==============================] - 0s 5ms/step - loss: 1.5655 - accuracy: 0.3561 - val_loss: 1.5112 - val_accuracy: 0.3913\n",
            "Epoch 66/500\n",
            "104/104 [==============================] - 1s 5ms/step - loss: 1.5572 - accuracy: 0.3555 - val_loss: 1.5132 - val_accuracy: 0.3865\n",
            "Epoch 67/500\n",
            "104/104 [==============================] - 0s 5ms/step - loss: 1.5666 - accuracy: 0.3573 - val_loss: 1.4694 - val_accuracy: 0.4106\n",
            "Epoch 68/500\n",
            "104/104 [==============================] - 0s 5ms/step - loss: 1.5622 - accuracy: 0.3676 - val_loss: 1.4937 - val_accuracy: 0.4444\n",
            "Epoch 69/500\n",
            "104/104 [==============================] - 1s 5ms/step - loss: 1.5620 - accuracy: 0.3724 - val_loss: 1.4969 - val_accuracy: 0.3720\n",
            "Epoch 70/500\n",
            "104/104 [==============================] - 1s 5ms/step - loss: 1.5522 - accuracy: 0.3628 - val_loss: 1.4636 - val_accuracy: 0.4493\n",
            "Epoch 71/500\n",
            "104/104 [==============================] - 1s 5ms/step - loss: 1.5424 - accuracy: 0.3634 - val_loss: 1.4909 - val_accuracy: 0.3816\n",
            "Epoch 72/500\n",
            "104/104 [==============================] - 0s 5ms/step - loss: 1.5408 - accuracy: 0.3676 - val_loss: 1.4562 - val_accuracy: 0.4686\n",
            "Epoch 73/500\n",
            "104/104 [==============================] - 0s 5ms/step - loss: 1.5353 - accuracy: 0.3676 - val_loss: 1.4542 - val_accuracy: 0.4493\n",
            "Epoch 74/500\n",
            "104/104 [==============================] - 0s 5ms/step - loss: 1.5328 - accuracy: 0.3706 - val_loss: 1.4499 - val_accuracy: 0.4589\n",
            "Epoch 75/500\n",
            "104/104 [==============================] - 0s 5ms/step - loss: 1.5105 - accuracy: 0.3857 - val_loss: 1.4647 - val_accuracy: 0.4348\n",
            "Epoch 76/500\n",
            "104/104 [==============================] - 0s 5ms/step - loss: 1.5004 - accuracy: 0.3767 - val_loss: 1.4408 - val_accuracy: 0.4396\n",
            "Epoch 77/500\n",
            "104/104 [==============================] - 0s 5ms/step - loss: 1.5025 - accuracy: 0.3748 - val_loss: 1.4734 - val_accuracy: 0.4106\n",
            "Epoch 78/500\n",
            "104/104 [==============================] - 0s 5ms/step - loss: 1.4999 - accuracy: 0.3833 - val_loss: 1.4563 - val_accuracy: 0.4106\n",
            "Epoch 79/500\n",
            "104/104 [==============================] - 1s 5ms/step - loss: 1.4921 - accuracy: 0.3875 - val_loss: 1.4271 - val_accuracy: 0.4976\n",
            "Epoch 80/500\n",
            "104/104 [==============================] - 0s 5ms/step - loss: 1.5045 - accuracy: 0.3954 - val_loss: 1.4486 - val_accuracy: 0.4638\n",
            "Epoch 81/500\n",
            "104/104 [==============================] - 0s 5ms/step - loss: 1.5008 - accuracy: 0.3894 - val_loss: 1.4245 - val_accuracy: 0.4734\n",
            "Epoch 82/500\n",
            "104/104 [==============================] - 1s 5ms/step - loss: 1.4917 - accuracy: 0.3960 - val_loss: 1.4321 - val_accuracy: 0.4348\n",
            "Epoch 83/500\n",
            "104/104 [==============================] - 0s 5ms/step - loss: 1.4775 - accuracy: 0.4008 - val_loss: 1.4428 - val_accuracy: 0.4203\n",
            "Epoch 84/500\n",
            "104/104 [==============================] - 0s 5ms/step - loss: 1.4923 - accuracy: 0.3869 - val_loss: 1.4213 - val_accuracy: 0.4396\n",
            "Epoch 85/500\n",
            "104/104 [==============================] - 1s 5ms/step - loss: 1.4733 - accuracy: 0.3918 - val_loss: 1.4161 - val_accuracy: 0.4493\n",
            "Epoch 86/500\n",
            "104/104 [==============================] - 0s 5ms/step - loss: 1.4601 - accuracy: 0.4002 - val_loss: 1.4370 - val_accuracy: 0.4155\n",
            "Epoch 87/500\n",
            "104/104 [==============================] - 1s 5ms/step - loss: 1.4725 - accuracy: 0.4015 - val_loss: 1.4057 - val_accuracy: 0.4686\n",
            "Epoch 88/500\n",
            "104/104 [==============================] - 1s 5ms/step - loss: 1.4688 - accuracy: 0.4093 - val_loss: 1.4171 - val_accuracy: 0.4541\n",
            "Epoch 89/500\n",
            "104/104 [==============================] - 1s 5ms/step - loss: 1.4482 - accuracy: 0.3972 - val_loss: 1.4109 - val_accuracy: 0.4203\n",
            "Epoch 90/500\n",
            "104/104 [==============================] - 1s 5ms/step - loss: 1.4459 - accuracy: 0.4099 - val_loss: 1.3752 - val_accuracy: 0.4879\n",
            "Epoch 91/500\n",
            "104/104 [==============================] - 0s 5ms/step - loss: 1.4494 - accuracy: 0.4154 - val_loss: 1.4003 - val_accuracy: 0.4444\n",
            "Epoch 92/500\n",
            "104/104 [==============================] - 1s 5ms/step - loss: 1.4528 - accuracy: 0.4202 - val_loss: 1.3621 - val_accuracy: 0.5266\n",
            "Epoch 93/500\n",
            "104/104 [==============================] - 1s 5ms/step - loss: 1.4356 - accuracy: 0.4045 - val_loss: 1.3705 - val_accuracy: 0.4783\n",
            "Epoch 94/500\n",
            "104/104 [==============================] - 1s 5ms/step - loss: 1.4403 - accuracy: 0.4099 - val_loss: 1.3629 - val_accuracy: 0.4541\n",
            "Epoch 95/500\n",
            "104/104 [==============================] - 0s 5ms/step - loss: 1.4214 - accuracy: 0.4274 - val_loss: 1.3712 - val_accuracy: 0.5072\n",
            "Epoch 96/500\n",
            "104/104 [==============================] - 1s 5ms/step - loss: 1.4129 - accuracy: 0.4244 - val_loss: 1.3561 - val_accuracy: 0.4879\n",
            "Epoch 97/500\n",
            "104/104 [==============================] - 1s 5ms/step - loss: 1.4252 - accuracy: 0.4202 - val_loss: 1.3692 - val_accuracy: 0.4155\n",
            "Epoch 98/500\n",
            "104/104 [==============================] - 1s 5ms/step - loss: 1.4168 - accuracy: 0.4383 - val_loss: 1.3420 - val_accuracy: 0.5507\n",
            "Epoch 99/500\n",
            "104/104 [==============================] - 1s 5ms/step - loss: 1.3746 - accuracy: 0.4401 - val_loss: 1.3363 - val_accuracy: 0.5459\n",
            "Epoch 100/500\n",
            "104/104 [==============================] - 1s 5ms/step - loss: 1.4152 - accuracy: 0.4232 - val_loss: 1.3212 - val_accuracy: 0.5314\n",
            "Epoch 101/500\n",
            "104/104 [==============================] - 1s 5ms/step - loss: 1.4018 - accuracy: 0.4305 - val_loss: 1.3303 - val_accuracy: 0.5072\n",
            "Epoch 102/500\n",
            "104/104 [==============================] - 0s 5ms/step - loss: 1.3929 - accuracy: 0.4353 - val_loss: 1.3304 - val_accuracy: 0.5459\n",
            "Epoch 103/500\n",
            "104/104 [==============================] - 1s 5ms/step - loss: 1.4051 - accuracy: 0.4305 - val_loss: 1.3381 - val_accuracy: 0.5072\n",
            "Epoch 104/500\n",
            "104/104 [==============================] - 1s 5ms/step - loss: 1.3900 - accuracy: 0.4335 - val_loss: 1.3217 - val_accuracy: 0.5024\n",
            "Epoch 105/500\n",
            "104/104 [==============================] - 0s 5ms/step - loss: 1.3558 - accuracy: 0.4522 - val_loss: 1.3163 - val_accuracy: 0.4928\n",
            "Epoch 106/500\n",
            "104/104 [==============================] - 0s 5ms/step - loss: 1.3847 - accuracy: 0.4432 - val_loss: 1.3317 - val_accuracy: 0.4686\n",
            "Epoch 107/500\n",
            "104/104 [==============================] - 0s 5ms/step - loss: 1.3754 - accuracy: 0.4335 - val_loss: 1.3149 - val_accuracy: 0.5121\n",
            "Epoch 108/500\n",
            "104/104 [==============================] - 1s 5ms/step - loss: 1.3891 - accuracy: 0.4395 - val_loss: 1.3258 - val_accuracy: 0.4928\n",
            "Epoch 109/500\n",
            "104/104 [==============================] - 0s 5ms/step - loss: 1.3696 - accuracy: 0.4510 - val_loss: 1.2911 - val_accuracy: 0.5217\n",
            "Epoch 110/500\n",
            "104/104 [==============================] - 0s 5ms/step - loss: 1.3773 - accuracy: 0.4516 - val_loss: 1.2887 - val_accuracy: 0.5556\n",
            "Epoch 111/500\n",
            "104/104 [==============================] - 0s 4ms/step - loss: 1.3811 - accuracy: 0.4486 - val_loss: 1.2988 - val_accuracy: 0.5362\n",
            "Epoch 112/500\n",
            "104/104 [==============================] - 0s 5ms/step - loss: 1.3385 - accuracy: 0.4680 - val_loss: 1.2790 - val_accuracy: 0.5700\n",
            "Epoch 113/500\n",
            "104/104 [==============================] - 0s 4ms/step - loss: 1.3692 - accuracy: 0.4480 - val_loss: 1.2815 - val_accuracy: 0.5314\n",
            "Epoch 114/500\n",
            "104/104 [==============================] - 0s 5ms/step - loss: 1.3226 - accuracy: 0.4534 - val_loss: 1.2638 - val_accuracy: 0.5604\n",
            "Epoch 115/500\n",
            "104/104 [==============================] - 1s 5ms/step - loss: 1.3354 - accuracy: 0.4571 - val_loss: 1.2777 - val_accuracy: 0.5314\n",
            "Epoch 116/500\n",
            "104/104 [==============================] - 0s 5ms/step - loss: 1.3277 - accuracy: 0.4625 - val_loss: 1.2779 - val_accuracy: 0.5169\n",
            "Epoch 117/500\n",
            "104/104 [==============================] - 0s 5ms/step - loss: 1.3275 - accuracy: 0.4740 - val_loss: 1.2617 - val_accuracy: 0.5314\n",
            "Epoch 118/500\n",
            "104/104 [==============================] - 0s 5ms/step - loss: 1.3212 - accuracy: 0.4746 - val_loss: 1.2514 - val_accuracy: 0.5749\n",
            "Epoch 119/500\n",
            "104/104 [==============================] - 1s 5ms/step - loss: 1.3301 - accuracy: 0.4722 - val_loss: 1.2733 - val_accuracy: 0.4831\n",
            "Epoch 120/500\n",
            "104/104 [==============================] - 1s 5ms/step - loss: 1.3273 - accuracy: 0.4680 - val_loss: 1.2582 - val_accuracy: 0.5217\n",
            "Epoch 121/500\n",
            "104/104 [==============================] - 0s 4ms/step - loss: 1.3189 - accuracy: 0.4655 - val_loss: 1.2527 - val_accuracy: 0.5894\n",
            "Epoch 122/500\n",
            "104/104 [==============================] - 0s 5ms/step - loss: 1.3040 - accuracy: 0.4813 - val_loss: 1.2440 - val_accuracy: 0.5652\n",
            "Epoch 123/500\n",
            "104/104 [==============================] - 0s 5ms/step - loss: 1.3339 - accuracy: 0.4613 - val_loss: 1.2380 - val_accuracy: 0.5990\n",
            "Epoch 124/500\n",
            "104/104 [==============================] - 0s 5ms/step - loss: 1.3033 - accuracy: 0.4680 - val_loss: 1.2506 - val_accuracy: 0.5411\n",
            "Epoch 125/500\n",
            "104/104 [==============================] - 1s 5ms/step - loss: 1.3117 - accuracy: 0.4571 - val_loss: 1.2301 - val_accuracy: 0.5362\n",
            "Epoch 126/500\n",
            "104/104 [==============================] - 0s 5ms/step - loss: 1.3349 - accuracy: 0.4710 - val_loss: 1.2479 - val_accuracy: 0.5652\n",
            "Epoch 127/500\n",
            "104/104 [==============================] - 1s 5ms/step - loss: 1.2990 - accuracy: 0.4776 - val_loss: 1.2285 - val_accuracy: 0.5169\n",
            "Epoch 128/500\n",
            "104/104 [==============================] - 1s 5ms/step - loss: 1.2955 - accuracy: 0.4776 - val_loss: 1.2430 - val_accuracy: 0.4879\n",
            "Epoch 129/500\n",
            "104/104 [==============================] - 0s 5ms/step - loss: 1.2788 - accuracy: 0.4927 - val_loss: 1.2367 - val_accuracy: 0.5556\n",
            "Epoch 130/500\n",
            "104/104 [==============================] - 1s 5ms/step - loss: 1.2835 - accuracy: 0.4903 - val_loss: 1.2245 - val_accuracy: 0.5362\n",
            "Epoch 131/500\n",
            "104/104 [==============================] - 1s 5ms/step - loss: 1.2738 - accuracy: 0.4915 - val_loss: 1.2184 - val_accuracy: 0.5797\n",
            "Epoch 132/500\n",
            "104/104 [==============================] - 1s 5ms/step - loss: 1.2750 - accuracy: 0.4891 - val_loss: 1.2190 - val_accuracy: 0.5652\n",
            "Epoch 133/500\n",
            "104/104 [==============================] - 1s 5ms/step - loss: 1.2663 - accuracy: 0.4867 - val_loss: 1.2073 - val_accuracy: 0.5845\n",
            "Epoch 134/500\n",
            "104/104 [==============================] - 0s 5ms/step - loss: 1.2643 - accuracy: 0.5000 - val_loss: 1.2157 - val_accuracy: 0.5507\n",
            "Epoch 135/500\n",
            "104/104 [==============================] - 1s 5ms/step - loss: 1.2306 - accuracy: 0.5175 - val_loss: 1.2011 - val_accuracy: 0.5894\n",
            "Epoch 136/500\n",
            "104/104 [==============================] - 1s 5ms/step - loss: 1.2694 - accuracy: 0.4885 - val_loss: 1.2001 - val_accuracy: 0.5797\n",
            "Epoch 137/500\n",
            "104/104 [==============================] - 1s 5ms/step - loss: 1.2682 - accuracy: 0.4891 - val_loss: 1.1811 - val_accuracy: 0.5894\n",
            "Epoch 138/500\n",
            "104/104 [==============================] - 1s 5ms/step - loss: 1.2667 - accuracy: 0.4885 - val_loss: 1.1860 - val_accuracy: 0.5749\n",
            "Epoch 139/500\n",
            "104/104 [==============================] - 0s 5ms/step - loss: 1.2369 - accuracy: 0.5030 - val_loss: 1.1841 - val_accuracy: 0.5700\n",
            "Epoch 140/500\n",
            "104/104 [==============================] - 1s 5ms/step - loss: 1.2483 - accuracy: 0.5091 - val_loss: 1.1729 - val_accuracy: 0.5507\n",
            "Epoch 141/500\n",
            "104/104 [==============================] - 0s 5ms/step - loss: 1.2433 - accuracy: 0.5024 - val_loss: 1.1999 - val_accuracy: 0.5362\n",
            "Epoch 142/500\n",
            "104/104 [==============================] - 1s 5ms/step - loss: 1.2397 - accuracy: 0.5115 - val_loss: 1.1859 - val_accuracy: 0.5507\n",
            "Epoch 143/500\n",
            "104/104 [==============================] - 0s 5ms/step - loss: 1.2398 - accuracy: 0.5012 - val_loss: 1.1559 - val_accuracy: 0.5797\n",
            "Epoch 144/500\n",
            "104/104 [==============================] - 1s 5ms/step - loss: 1.2207 - accuracy: 0.5067 - val_loss: 1.1858 - val_accuracy: 0.5459\n",
            "Epoch 145/500\n",
            "104/104 [==============================] - 0s 5ms/step - loss: 1.2473 - accuracy: 0.4903 - val_loss: 1.1658 - val_accuracy: 0.5990\n",
            "Epoch 146/500\n",
            "104/104 [==============================] - 0s 5ms/step - loss: 1.2079 - accuracy: 0.5109 - val_loss: 1.1777 - val_accuracy: 0.5362\n",
            "Epoch 147/500\n",
            "104/104 [==============================] - 1s 5ms/step - loss: 1.2353 - accuracy: 0.5060 - val_loss: 1.1628 - val_accuracy: 0.6135\n",
            "Epoch 148/500\n",
            "104/104 [==============================] - 1s 5ms/step - loss: 1.2132 - accuracy: 0.5139 - val_loss: 1.1500 - val_accuracy: 0.5894\n",
            "Epoch 149/500\n",
            "104/104 [==============================] - 1s 6ms/step - loss: 1.2217 - accuracy: 0.5079 - val_loss: 1.1655 - val_accuracy: 0.5797\n",
            "Epoch 150/500\n",
            "104/104 [==============================] - 1s 5ms/step - loss: 1.2179 - accuracy: 0.5042 - val_loss: 1.1660 - val_accuracy: 0.5700\n",
            "Epoch 151/500\n",
            "104/104 [==============================] - 0s 5ms/step - loss: 1.2107 - accuracy: 0.5157 - val_loss: 1.1742 - val_accuracy: 0.5024\n",
            "Epoch 152/500\n",
            "104/104 [==============================] - 0s 5ms/step - loss: 1.1982 - accuracy: 0.5320 - val_loss: 1.1541 - val_accuracy: 0.5797\n",
            "Epoch 153/500\n",
            "104/104 [==============================] - 1s 5ms/step - loss: 1.2233 - accuracy: 0.5048 - val_loss: 1.1448 - val_accuracy: 0.6039\n",
            "Epoch 154/500\n",
            "104/104 [==============================] - 0s 5ms/step - loss: 1.2324 - accuracy: 0.5109 - val_loss: 1.1683 - val_accuracy: 0.5459\n",
            "Epoch 155/500\n",
            "104/104 [==============================] - 1s 5ms/step - loss: 1.2066 - accuracy: 0.5181 - val_loss: 1.1461 - val_accuracy: 0.5556\n",
            "Epoch 156/500\n",
            "104/104 [==============================] - 1s 5ms/step - loss: 1.2157 - accuracy: 0.5314 - val_loss: 1.1488 - val_accuracy: 0.6087\n",
            "Epoch 157/500\n",
            "104/104 [==============================] - 0s 5ms/step - loss: 1.1964 - accuracy: 0.5284 - val_loss: 1.1366 - val_accuracy: 0.5700\n",
            "Epoch 158/500\n",
            "104/104 [==============================] - 1s 5ms/step - loss: 1.2214 - accuracy: 0.5054 - val_loss: 1.1397 - val_accuracy: 0.6232\n",
            "Epoch 159/500\n",
            "104/104 [==============================] - 1s 5ms/step - loss: 1.1935 - accuracy: 0.5200 - val_loss: 1.1295 - val_accuracy: 0.5990\n",
            "Epoch 160/500\n",
            "104/104 [==============================] - 0s 5ms/step - loss: 1.1780 - accuracy: 0.5248 - val_loss: 1.1306 - val_accuracy: 0.5700\n",
            "Epoch 161/500\n",
            "104/104 [==============================] - 0s 5ms/step - loss: 1.1963 - accuracy: 0.5157 - val_loss: 1.1372 - val_accuracy: 0.5845\n",
            "Epoch 162/500\n",
            "104/104 [==============================] - 0s 5ms/step - loss: 1.1586 - accuracy: 0.5381 - val_loss: 1.1133 - val_accuracy: 0.6377\n",
            "Epoch 163/500\n",
            "104/104 [==============================] - 1s 10ms/step - loss: 1.1692 - accuracy: 0.5290 - val_loss: 1.1160 - val_accuracy: 0.6329\n",
            "Epoch 164/500\n",
            "104/104 [==============================] - 1s 7ms/step - loss: 1.1659 - accuracy: 0.5345 - val_loss: 1.1230 - val_accuracy: 0.6232\n",
            "Epoch 165/500\n",
            "104/104 [==============================] - 1s 9ms/step - loss: 1.1835 - accuracy: 0.5224 - val_loss: 1.1207 - val_accuracy: 0.6232\n",
            "Epoch 166/500\n",
            "104/104 [==============================] - 1s 7ms/step - loss: 1.1703 - accuracy: 0.5163 - val_loss: 1.1152 - val_accuracy: 0.6039\n",
            "Epoch 167/500\n",
            "104/104 [==============================] - 1s 9ms/step - loss: 1.1704 - accuracy: 0.5435 - val_loss: 1.1077 - val_accuracy: 0.5942\n",
            "Epoch 168/500\n",
            "104/104 [==============================] - 1s 7ms/step - loss: 1.1708 - accuracy: 0.5260 - val_loss: 1.0945 - val_accuracy: 0.5894\n",
            "Epoch 169/500\n",
            "104/104 [==============================] - 1s 5ms/step - loss: 1.1605 - accuracy: 0.5459 - val_loss: 1.1121 - val_accuracy: 0.5990\n",
            "Epoch 170/500\n",
            "104/104 [==============================] - 0s 5ms/step - loss: 1.1370 - accuracy: 0.5447 - val_loss: 1.0882 - val_accuracy: 0.6377\n",
            "Epoch 171/500\n",
            "104/104 [==============================] - 1s 5ms/step - loss: 1.1711 - accuracy: 0.5212 - val_loss: 1.0898 - val_accuracy: 0.6280\n",
            "Epoch 172/500\n",
            "104/104 [==============================] - 1s 5ms/step - loss: 1.1511 - accuracy: 0.5399 - val_loss: 1.0808 - val_accuracy: 0.6280\n",
            "Epoch 173/500\n",
            "104/104 [==============================] - 1s 5ms/step - loss: 1.1583 - accuracy: 0.5351 - val_loss: 1.0995 - val_accuracy: 0.5942\n",
            "Epoch 174/500\n",
            "104/104 [==============================] - 1s 5ms/step - loss: 1.1847 - accuracy: 0.5036 - val_loss: 1.1078 - val_accuracy: 0.5990\n",
            "Epoch 175/500\n",
            "104/104 [==============================] - 1s 5ms/step - loss: 1.1579 - accuracy: 0.5435 - val_loss: 1.0827 - val_accuracy: 0.6425\n",
            "Epoch 176/500\n",
            "104/104 [==============================] - 1s 5ms/step - loss: 1.1455 - accuracy: 0.5290 - val_loss: 1.0936 - val_accuracy: 0.6039\n",
            "Epoch 177/500\n",
            "104/104 [==============================] - 1s 5ms/step - loss: 1.1429 - accuracy: 0.5405 - val_loss: 1.1124 - val_accuracy: 0.5411\n",
            "Epoch 178/500\n",
            "104/104 [==============================] - 0s 5ms/step - loss: 1.1362 - accuracy: 0.5538 - val_loss: 1.0933 - val_accuracy: 0.5942\n",
            "Epoch 179/500\n",
            "104/104 [==============================] - 0s 5ms/step - loss: 1.1426 - accuracy: 0.5387 - val_loss: 1.0904 - val_accuracy: 0.5700\n",
            "Epoch 180/500\n",
            "104/104 [==============================] - 0s 5ms/step - loss: 1.1347 - accuracy: 0.5496 - val_loss: 1.0916 - val_accuracy: 0.5845\n",
            "Epoch 181/500\n",
            "104/104 [==============================] - 0s 5ms/step - loss: 1.1337 - accuracy: 0.5538 - val_loss: 1.0690 - val_accuracy: 0.6135\n",
            "Epoch 182/500\n",
            "104/104 [==============================] - 1s 5ms/step - loss: 1.1348 - accuracy: 0.5484 - val_loss: 1.0957 - val_accuracy: 0.5894\n",
            "Epoch 183/500\n",
            "104/104 [==============================] - 0s 5ms/step - loss: 1.1223 - accuracy: 0.5586 - val_loss: 1.0664 - val_accuracy: 0.6184\n",
            "Epoch 184/500\n",
            "104/104 [==============================] - 0s 5ms/step - loss: 1.1220 - accuracy: 0.5550 - val_loss: 1.0818 - val_accuracy: 0.5942\n",
            "Epoch 185/500\n",
            "104/104 [==============================] - 0s 5ms/step - loss: 1.1200 - accuracy: 0.5453 - val_loss: 1.0758 - val_accuracy: 0.5942\n",
            "Epoch 186/500\n",
            "104/104 [==============================] - 0s 5ms/step - loss: 1.0968 - accuracy: 0.5520 - val_loss: 1.0592 - val_accuracy: 0.6039\n",
            "Epoch 187/500\n",
            "104/104 [==============================] - 1s 5ms/step - loss: 1.1001 - accuracy: 0.5459 - val_loss: 1.0711 - val_accuracy: 0.5797\n",
            "Epoch 188/500\n",
            "104/104 [==============================] - 1s 5ms/step - loss: 1.0930 - accuracy: 0.5659 - val_loss: 1.0636 - val_accuracy: 0.6329\n",
            "Epoch 189/500\n",
            "104/104 [==============================] - 0s 5ms/step - loss: 1.1100 - accuracy: 0.5671 - val_loss: 1.0628 - val_accuracy: 0.6039\n",
            "Epoch 190/500\n",
            "104/104 [==============================] - 1s 5ms/step - loss: 1.1264 - accuracy: 0.5502 - val_loss: 1.0517 - val_accuracy: 0.6425\n",
            "Epoch 191/500\n",
            "104/104 [==============================] - 1s 5ms/step - loss: 1.1089 - accuracy: 0.5641 - val_loss: 1.0779 - val_accuracy: 0.5894\n",
            "Epoch 192/500\n",
            "104/104 [==============================] - 1s 5ms/step - loss: 1.0961 - accuracy: 0.5605 - val_loss: 1.0501 - val_accuracy: 0.6280\n",
            "Epoch 193/500\n",
            "104/104 [==============================] - 1s 5ms/step - loss: 1.0885 - accuracy: 0.5677 - val_loss: 1.0455 - val_accuracy: 0.6280\n",
            "Epoch 194/500\n",
            "104/104 [==============================] - 1s 5ms/step - loss: 1.0838 - accuracy: 0.5659 - val_loss: 1.0371 - val_accuracy: 0.6473\n",
            "Epoch 195/500\n",
            "104/104 [==============================] - 0s 5ms/step - loss: 1.0798 - accuracy: 0.5768 - val_loss: 1.0376 - val_accuracy: 0.6184\n",
            "Epoch 196/500\n",
            "104/104 [==============================] - 1s 5ms/step - loss: 1.0869 - accuracy: 0.5738 - val_loss: 1.0357 - val_accuracy: 0.6135\n",
            "Epoch 197/500\n",
            "104/104 [==============================] - 1s 5ms/step - loss: 1.0855 - accuracy: 0.5677 - val_loss: 1.0438 - val_accuracy: 0.6425\n",
            "Epoch 198/500\n",
            "104/104 [==============================] - 0s 5ms/step - loss: 1.1042 - accuracy: 0.5599 - val_loss: 1.0475 - val_accuracy: 0.6280\n",
            "Epoch 199/500\n",
            "104/104 [==============================] - 0s 5ms/step - loss: 1.0914 - accuracy: 0.5762 - val_loss: 1.0408 - val_accuracy: 0.6425\n",
            "Epoch 200/500\n",
            "104/104 [==============================] - 1s 5ms/step - loss: 1.0881 - accuracy: 0.5574 - val_loss: 1.0508 - val_accuracy: 0.6135\n",
            "Epoch 201/500\n",
            "104/104 [==============================] - 1s 5ms/step - loss: 1.0787 - accuracy: 0.5744 - val_loss: 1.0261 - val_accuracy: 0.6280\n",
            "Epoch 202/500\n",
            "104/104 [==============================] - 0s 5ms/step - loss: 1.0677 - accuracy: 0.5647 - val_loss: 1.0616 - val_accuracy: 0.5942\n",
            "Epoch 203/500\n",
            "104/104 [==============================] - 0s 5ms/step - loss: 1.0639 - accuracy: 0.5732 - val_loss: 1.0252 - val_accuracy: 0.6618\n",
            "Epoch 204/500\n",
            "104/104 [==============================] - 1s 5ms/step - loss: 1.0724 - accuracy: 0.5707 - val_loss: 1.0291 - val_accuracy: 0.6425\n",
            "Epoch 205/500\n",
            "104/104 [==============================] - 1s 5ms/step - loss: 1.0711 - accuracy: 0.5689 - val_loss: 1.0263 - val_accuracy: 0.6377\n",
            "Epoch 206/500\n",
            "104/104 [==============================] - 1s 5ms/step - loss: 1.0859 - accuracy: 0.5780 - val_loss: 1.0347 - val_accuracy: 0.6280\n",
            "Epoch 207/500\n",
            "104/104 [==============================] - 1s 5ms/step - loss: 1.0733 - accuracy: 0.5762 - val_loss: 1.0187 - val_accuracy: 0.6232\n",
            "Epoch 208/500\n",
            "104/104 [==============================] - 1s 5ms/step - loss: 1.0574 - accuracy: 0.5804 - val_loss: 1.0088 - val_accuracy: 0.6329\n",
            "Epoch 209/500\n",
            "104/104 [==============================] - 1s 5ms/step - loss: 1.0590 - accuracy: 0.5689 - val_loss: 1.0479 - val_accuracy: 0.5652\n",
            "Epoch 210/500\n",
            "104/104 [==============================] - 1s 5ms/step - loss: 1.0546 - accuracy: 0.5913 - val_loss: 1.0243 - val_accuracy: 0.6377\n",
            "Epoch 211/500\n",
            "104/104 [==============================] - 0s 5ms/step - loss: 1.0620 - accuracy: 0.5768 - val_loss: 1.0266 - val_accuracy: 0.6280\n",
            "Epoch 212/500\n",
            "104/104 [==============================] - 0s 5ms/step - loss: 1.0312 - accuracy: 0.5907 - val_loss: 1.0415 - val_accuracy: 0.6087\n",
            "Epoch 213/500\n",
            "104/104 [==============================] - 0s 5ms/step - loss: 1.0565 - accuracy: 0.5719 - val_loss: 1.0172 - val_accuracy: 0.6425\n",
            "Epoch 214/500\n",
            "104/104 [==============================] - 1s 5ms/step - loss: 1.0469 - accuracy: 0.5961 - val_loss: 1.0169 - val_accuracy: 0.6522\n",
            "Epoch 215/500\n",
            "104/104 [==============================] - 0s 5ms/step - loss: 1.0634 - accuracy: 0.5798 - val_loss: 1.0120 - val_accuracy: 0.6715\n",
            "Epoch 216/500\n",
            "104/104 [==============================] - 1s 5ms/step - loss: 1.0507 - accuracy: 0.5750 - val_loss: 1.0109 - val_accuracy: 0.6425\n",
            "Epoch 217/500\n",
            "104/104 [==============================] - 1s 5ms/step - loss: 1.0291 - accuracy: 0.5774 - val_loss: 1.0035 - val_accuracy: 0.6618\n",
            "Epoch 218/500\n",
            "104/104 [==============================] - 1s 5ms/step - loss: 1.0349 - accuracy: 0.5738 - val_loss: 1.0134 - val_accuracy: 0.6039\n",
            "Epoch 219/500\n",
            "104/104 [==============================] - 1s 5ms/step - loss: 1.0371 - accuracy: 0.5816 - val_loss: 0.9833 - val_accuracy: 0.6473\n",
            "Epoch 220/500\n",
            "104/104 [==============================] - 1s 5ms/step - loss: 1.0373 - accuracy: 0.5943 - val_loss: 1.0058 - val_accuracy: 0.6377\n",
            "Epoch 221/500\n",
            "104/104 [==============================] - 1s 5ms/step - loss: 1.0163 - accuracy: 0.6034 - val_loss: 0.9991 - val_accuracy: 0.6667\n",
            "Epoch 222/500\n",
            "104/104 [==============================] - 1s 5ms/step - loss: 1.0384 - accuracy: 0.5846 - val_loss: 0.9883 - val_accuracy: 0.6763\n",
            "Epoch 223/500\n",
            "104/104 [==============================] - 1s 5ms/step - loss: 1.0312 - accuracy: 0.5840 - val_loss: 1.0011 - val_accuracy: 0.6763\n",
            "Epoch 224/500\n",
            "104/104 [==============================] - 1s 5ms/step - loss: 1.0229 - accuracy: 0.5913 - val_loss: 1.0096 - val_accuracy: 0.6232\n",
            "Epoch 225/500\n",
            "104/104 [==============================] - 1s 5ms/step - loss: 1.0246 - accuracy: 0.5822 - val_loss: 0.9890 - val_accuracy: 0.6570\n",
            "Epoch 226/500\n",
            "104/104 [==============================] - 1s 5ms/step - loss: 1.0244 - accuracy: 0.5816 - val_loss: 0.9910 - val_accuracy: 0.6377\n",
            "Epoch 227/500\n",
            "104/104 [==============================] - 1s 5ms/step - loss: 1.0021 - accuracy: 0.6070 - val_loss: 0.9905 - val_accuracy: 0.6763\n",
            "Epoch 228/500\n",
            "104/104 [==============================] - 1s 5ms/step - loss: 1.0188 - accuracy: 0.5877 - val_loss: 0.9768 - val_accuracy: 0.6667\n",
            "Epoch 229/500\n",
            "104/104 [==============================] - 0s 5ms/step - loss: 1.0218 - accuracy: 0.5877 - val_loss: 0.9744 - val_accuracy: 0.6473\n",
            "Epoch 230/500\n",
            "104/104 [==============================] - 0s 5ms/step - loss: 1.0402 - accuracy: 0.5834 - val_loss: 0.9904 - val_accuracy: 0.6184\n",
            "Epoch 231/500\n",
            "104/104 [==============================] - 1s 5ms/step - loss: 0.9814 - accuracy: 0.6137 - val_loss: 0.9924 - val_accuracy: 0.6329\n",
            "Epoch 232/500\n",
            "104/104 [==============================] - 1s 5ms/step - loss: 0.9984 - accuracy: 0.5992 - val_loss: 0.9820 - val_accuracy: 0.6522\n",
            "Epoch 233/500\n",
            "104/104 [==============================] - 1s 5ms/step - loss: 0.9993 - accuracy: 0.6040 - val_loss: 0.9962 - val_accuracy: 0.5990\n",
            "Epoch 234/500\n",
            "104/104 [==============================] - 1s 5ms/step - loss: 0.9865 - accuracy: 0.6167 - val_loss: 1.0052 - val_accuracy: 0.5797\n",
            "Epoch 235/500\n",
            "104/104 [==============================] - 1s 5ms/step - loss: 0.9981 - accuracy: 0.6100 - val_loss: 0.9636 - val_accuracy: 0.6667\n",
            "Epoch 236/500\n",
            "104/104 [==============================] - 1s 5ms/step - loss: 0.9992 - accuracy: 0.5998 - val_loss: 0.9860 - val_accuracy: 0.6184\n",
            "Epoch 237/500\n",
            "104/104 [==============================] - 1s 5ms/step - loss: 1.0004 - accuracy: 0.6028 - val_loss: 0.9868 - val_accuracy: 0.6232\n",
            "Epoch 238/500\n",
            "104/104 [==============================] - 1s 5ms/step - loss: 0.9782 - accuracy: 0.6173 - val_loss: 0.9722 - val_accuracy: 0.6087\n",
            "Epoch 239/500\n",
            "104/104 [==============================] - 1s 5ms/step - loss: 0.9831 - accuracy: 0.6070 - val_loss: 0.9523 - val_accuracy: 0.6860\n",
            "Epoch 240/500\n",
            "104/104 [==============================] - 1s 5ms/step - loss: 0.9735 - accuracy: 0.6149 - val_loss: 0.9538 - val_accuracy: 0.6763\n",
            "Epoch 241/500\n",
            "104/104 [==============================] - 1s 5ms/step - loss: 0.9750 - accuracy: 0.6143 - val_loss: 0.9461 - val_accuracy: 0.6570\n",
            "Epoch 242/500\n",
            "104/104 [==============================] - 1s 5ms/step - loss: 1.0081 - accuracy: 0.5919 - val_loss: 0.9614 - val_accuracy: 0.6280\n",
            "Epoch 243/500\n",
            "104/104 [==============================] - 1s 5ms/step - loss: 0.9854 - accuracy: 0.6125 - val_loss: 0.9890 - val_accuracy: 0.6039\n",
            "Epoch 244/500\n",
            "104/104 [==============================] - 1s 5ms/step - loss: 0.9874 - accuracy: 0.6155 - val_loss: 0.9486 - val_accuracy: 0.6715\n",
            "Epoch 245/500\n",
            "104/104 [==============================] - 1s 5ms/step - loss: 0.9862 - accuracy: 0.6137 - val_loss: 0.9524 - val_accuracy: 0.6425\n",
            "Epoch 246/500\n",
            "104/104 [==============================] - 1s 5ms/step - loss: 1.0053 - accuracy: 0.6125 - val_loss: 0.9692 - val_accuracy: 0.6715\n",
            "Epoch 247/500\n",
            "104/104 [==============================] - 1s 5ms/step - loss: 0.9520 - accuracy: 0.6112 - val_loss: 0.9533 - val_accuracy: 0.6522\n",
            "Epoch 248/500\n",
            "104/104 [==============================] - 1s 5ms/step - loss: 0.9644 - accuracy: 0.6088 - val_loss: 0.9628 - val_accuracy: 0.6329\n",
            "Epoch 249/500\n",
            "104/104 [==============================] - 1s 5ms/step - loss: 0.9755 - accuracy: 0.6082 - val_loss: 0.9497 - val_accuracy: 0.6522\n",
            "Epoch 250/500\n",
            "104/104 [==============================] - 1s 5ms/step - loss: 0.9715 - accuracy: 0.6185 - val_loss: 0.9343 - val_accuracy: 0.7005\n",
            "Epoch 251/500\n",
            "104/104 [==============================] - 1s 5ms/step - loss: 0.9583 - accuracy: 0.6282 - val_loss: 0.9391 - val_accuracy: 0.6763\n",
            "Epoch 252/500\n",
            "104/104 [==============================] - 1s 5ms/step - loss: 0.9863 - accuracy: 0.6052 - val_loss: 0.9408 - val_accuracy: 0.6715\n",
            "Epoch 253/500\n",
            "104/104 [==============================] - 1s 5ms/step - loss: 0.9696 - accuracy: 0.6227 - val_loss: 0.9545 - val_accuracy: 0.6377\n",
            "Epoch 254/500\n",
            "104/104 [==============================] - 1s 5ms/step - loss: 0.9564 - accuracy: 0.6125 - val_loss: 0.9625 - val_accuracy: 0.6522\n",
            "Epoch 255/500\n",
            "104/104 [==============================] - 1s 5ms/step - loss: 0.9885 - accuracy: 0.6052 - val_loss: 0.9437 - val_accuracy: 0.7005\n",
            "Epoch 256/500\n",
            "104/104 [==============================] - 0s 5ms/step - loss: 0.9709 - accuracy: 0.6052 - val_loss: 0.9396 - val_accuracy: 0.6618\n",
            "Epoch 257/500\n",
            "104/104 [==============================] - 1s 5ms/step - loss: 0.9464 - accuracy: 0.6252 - val_loss: 0.9463 - val_accuracy: 0.6618\n",
            "Epoch 258/500\n",
            "104/104 [==============================] - 1s 6ms/step - loss: 0.9490 - accuracy: 0.6185 - val_loss: 0.9410 - val_accuracy: 0.6425\n",
            "Epoch 259/500\n",
            "104/104 [==============================] - 1s 5ms/step - loss: 0.9447 - accuracy: 0.6270 - val_loss: 0.9617 - val_accuracy: 0.6280\n",
            "Epoch 260/500\n",
            "104/104 [==============================] - 1s 5ms/step - loss: 0.9625 - accuracy: 0.6155 - val_loss: 0.9360 - val_accuracy: 0.6522\n",
            "Epoch 261/500\n",
            "104/104 [==============================] - 1s 5ms/step - loss: 0.9492 - accuracy: 0.6197 - val_loss: 0.9504 - val_accuracy: 0.6232\n",
            "Epoch 262/500\n",
            "104/104 [==============================] - 1s 6ms/step - loss: 0.9589 - accuracy: 0.6197 - val_loss: 0.9471 - val_accuracy: 0.6425\n",
            "Epoch 263/500\n",
            "104/104 [==============================] - 1s 5ms/step - loss: 0.9613 - accuracy: 0.6100 - val_loss: 0.9373 - val_accuracy: 0.6715\n",
            "Epoch 264/500\n",
            "104/104 [==============================] - 1s 5ms/step - loss: 0.9390 - accuracy: 0.6342 - val_loss: 0.9461 - val_accuracy: 0.6667\n",
            "Epoch 265/500\n",
            "104/104 [==============================] - 1s 5ms/step - loss: 0.9569 - accuracy: 0.6094 - val_loss: 0.9306 - val_accuracy: 0.7053\n",
            "Epoch 266/500\n",
            "104/104 [==============================] - 1s 5ms/step - loss: 0.9566 - accuracy: 0.6415 - val_loss: 0.9288 - val_accuracy: 0.6812\n",
            "Epoch 267/500\n",
            "104/104 [==============================] - 1s 5ms/step - loss: 0.9274 - accuracy: 0.6270 - val_loss: 0.9291 - val_accuracy: 0.6522\n",
            "Epoch 268/500\n",
            "104/104 [==============================] - 1s 5ms/step - loss: 0.9248 - accuracy: 0.6469 - val_loss: 0.9350 - val_accuracy: 0.6763\n",
            "Epoch 269/500\n",
            "104/104 [==============================] - 1s 5ms/step - loss: 0.9405 - accuracy: 0.6306 - val_loss: 0.9229 - val_accuracy: 0.7053\n",
            "Epoch 270/500\n",
            "104/104 [==============================] - 1s 6ms/step - loss: 0.9423 - accuracy: 0.6276 - val_loss: 0.9330 - val_accuracy: 0.6522\n",
            "Epoch 271/500\n",
            "104/104 [==============================] - 1s 6ms/step - loss: 0.9315 - accuracy: 0.6300 - val_loss: 0.9184 - val_accuracy: 0.6763\n",
            "Epoch 272/500\n",
            "104/104 [==============================] - 1s 5ms/step - loss: 0.9254 - accuracy: 0.6270 - val_loss: 0.9261 - val_accuracy: 0.6908\n",
            "Epoch 273/500\n",
            "104/104 [==============================] - 1s 5ms/step - loss: 0.9380 - accuracy: 0.6203 - val_loss: 0.9389 - val_accuracy: 0.6329\n",
            "Epoch 274/500\n",
            "104/104 [==============================] - 1s 5ms/step - loss: 0.9133 - accuracy: 0.6451 - val_loss: 0.9189 - val_accuracy: 0.6812\n",
            "Epoch 275/500\n",
            "104/104 [==============================] - 1s 5ms/step - loss: 0.9156 - accuracy: 0.6348 - val_loss: 0.9329 - val_accuracy: 0.6473\n",
            "Epoch 276/500\n",
            "104/104 [==============================] - 1s 5ms/step - loss: 0.9060 - accuracy: 0.6530 - val_loss: 0.9299 - val_accuracy: 0.6715\n",
            "Epoch 277/500\n",
            "104/104 [==============================] - 1s 6ms/step - loss: 0.9280 - accuracy: 0.6354 - val_loss: 0.9103 - val_accuracy: 0.6763\n",
            "Epoch 278/500\n",
            "104/104 [==============================] - 1s 5ms/step - loss: 0.9157 - accuracy: 0.6445 - val_loss: 0.9293 - val_accuracy: 0.6522\n",
            "Epoch 279/500\n",
            "104/104 [==============================] - 1s 5ms/step - loss: 0.9081 - accuracy: 0.6481 - val_loss: 0.9121 - val_accuracy: 0.6570\n",
            "Epoch 280/500\n",
            "104/104 [==============================] - 1s 6ms/step - loss: 0.9111 - accuracy: 0.6487 - val_loss: 0.9042 - val_accuracy: 0.7005\n",
            "Epoch 281/500\n",
            "104/104 [==============================] - 1s 5ms/step - loss: 0.9103 - accuracy: 0.6530 - val_loss: 0.9400 - val_accuracy: 0.6425\n",
            "Epoch 282/500\n",
            "104/104 [==============================] - 1s 5ms/step - loss: 0.9076 - accuracy: 0.6445 - val_loss: 0.9114 - val_accuracy: 0.6329\n",
            "Epoch 283/500\n",
            "104/104 [==============================] - 1s 5ms/step - loss: 0.9177 - accuracy: 0.6288 - val_loss: 0.9051 - val_accuracy: 0.7101\n",
            "Epoch 284/500\n",
            "104/104 [==============================] - 1s 6ms/step - loss: 0.9446 - accuracy: 0.6306 - val_loss: 0.9178 - val_accuracy: 0.6908\n",
            "Epoch 285/500\n",
            "104/104 [==============================] - 1s 5ms/step - loss: 0.9050 - accuracy: 0.6312 - val_loss: 0.8972 - val_accuracy: 0.6667\n",
            "Epoch 286/500\n",
            "104/104 [==============================] - 1s 5ms/step - loss: 0.9174 - accuracy: 0.6276 - val_loss: 0.9221 - val_accuracy: 0.6667\n",
            "Epoch 287/500\n",
            "104/104 [==============================] - 1s 6ms/step - loss: 0.9126 - accuracy: 0.6342 - val_loss: 0.9106 - val_accuracy: 0.6860\n",
            "Epoch 288/500\n",
            "104/104 [==============================] - 1s 6ms/step - loss: 0.9296 - accuracy: 0.6276 - val_loss: 0.9025 - val_accuracy: 0.6715\n",
            "Epoch 289/500\n",
            "104/104 [==============================] - 1s 5ms/step - loss: 0.9133 - accuracy: 0.6421 - val_loss: 0.8958 - val_accuracy: 0.6618\n",
            "Epoch 290/500\n",
            "104/104 [==============================] - 1s 5ms/step - loss: 0.9193 - accuracy: 0.6499 - val_loss: 0.8977 - val_accuracy: 0.6812\n",
            "Epoch 291/500\n",
            "104/104 [==============================] - 1s 5ms/step - loss: 0.8992 - accuracy: 0.6397 - val_loss: 0.8892 - val_accuracy: 0.6812\n",
            "Epoch 292/500\n",
            "104/104 [==============================] - 1s 5ms/step - loss: 0.9159 - accuracy: 0.6312 - val_loss: 0.9019 - val_accuracy: 0.6812\n",
            "Epoch 293/500\n",
            "104/104 [==============================] - 1s 6ms/step - loss: 0.9111 - accuracy: 0.6324 - val_loss: 0.8823 - val_accuracy: 0.6957\n",
            "Epoch 294/500\n",
            "104/104 [==============================] - 1s 5ms/step - loss: 0.8792 - accuracy: 0.6499 - val_loss: 0.9029 - val_accuracy: 0.6667\n",
            "Epoch 295/500\n",
            "104/104 [==============================] - 1s 6ms/step - loss: 0.8771 - accuracy: 0.6518 - val_loss: 0.8863 - val_accuracy: 0.6908\n",
            "Epoch 296/500\n",
            "104/104 [==============================] - 1s 5ms/step - loss: 0.8721 - accuracy: 0.6578 - val_loss: 0.9012 - val_accuracy: 0.6667\n",
            "Epoch 297/500\n",
            "104/104 [==============================] - 1s 6ms/step - loss: 0.8959 - accuracy: 0.6590 - val_loss: 0.8940 - val_accuracy: 0.6860\n",
            "Epoch 298/500\n",
            "104/104 [==============================] - 1s 5ms/step - loss: 0.8977 - accuracy: 0.6457 - val_loss: 0.8867 - val_accuracy: 0.6667\n",
            "Epoch 299/500\n",
            "104/104 [==============================] - 1s 5ms/step - loss: 0.8771 - accuracy: 0.6451 - val_loss: 0.8705 - val_accuracy: 0.7101\n",
            "Epoch 300/500\n",
            "104/104 [==============================] - 1s 5ms/step - loss: 0.8828 - accuracy: 0.6572 - val_loss: 0.8846 - val_accuracy: 0.6908\n",
            "Epoch 301/500\n",
            "104/104 [==============================] - 1s 5ms/step - loss: 0.9099 - accuracy: 0.6366 - val_loss: 0.8822 - val_accuracy: 0.6812\n",
            "Epoch 302/500\n",
            "104/104 [==============================] - 1s 5ms/step - loss: 0.8610 - accuracy: 0.6493 - val_loss: 0.8850 - val_accuracy: 0.6763\n",
            "Epoch 303/500\n",
            "104/104 [==============================] - 1s 5ms/step - loss: 0.8858 - accuracy: 0.6487 - val_loss: 0.9050 - val_accuracy: 0.6763\n",
            "Epoch 304/500\n",
            "104/104 [==============================] - 1s 5ms/step - loss: 0.8980 - accuracy: 0.6397 - val_loss: 0.8870 - val_accuracy: 0.6667\n",
            "Epoch 305/500\n",
            "104/104 [==============================] - 1s 5ms/step - loss: 0.8768 - accuracy: 0.6554 - val_loss: 0.8862 - val_accuracy: 0.6812\n",
            "Epoch 306/500\n",
            "104/104 [==============================] - 1s 5ms/step - loss: 0.8877 - accuracy: 0.6499 - val_loss: 0.8901 - val_accuracy: 0.6570\n",
            "Epoch 307/500\n",
            "104/104 [==============================] - 1s 5ms/step - loss: 0.8579 - accuracy: 0.6505 - val_loss: 0.8887 - val_accuracy: 0.6763\n",
            "Epoch 308/500\n",
            "104/104 [==============================] - 1s 5ms/step - loss: 0.8902 - accuracy: 0.6518 - val_loss: 0.8753 - val_accuracy: 0.6812\n",
            "Epoch 309/500\n",
            "104/104 [==============================] - 1s 5ms/step - loss: 0.8777 - accuracy: 0.6542 - val_loss: 0.8929 - val_accuracy: 0.6473\n",
            "Epoch 310/500\n",
            "104/104 [==============================] - 1s 5ms/step - loss: 0.8706 - accuracy: 0.6572 - val_loss: 0.8819 - val_accuracy: 0.6908\n",
            "Epoch 311/500\n",
            "104/104 [==============================] - 1s 5ms/step - loss: 0.8444 - accuracy: 0.6590 - val_loss: 0.8786 - val_accuracy: 0.6860\n",
            "Epoch 312/500\n",
            "104/104 [==============================] - 1s 6ms/step - loss: 0.8798 - accuracy: 0.6451 - val_loss: 0.9012 - val_accuracy: 0.6667\n",
            "Epoch 313/500\n",
            "104/104 [==============================] - 1s 6ms/step - loss: 0.8651 - accuracy: 0.6481 - val_loss: 0.8892 - val_accuracy: 0.6522\n",
            "Epoch 314/500\n",
            "104/104 [==============================] - 1s 5ms/step - loss: 0.8582 - accuracy: 0.6578 - val_loss: 0.8639 - val_accuracy: 0.7198\n",
            "Epoch 315/500\n",
            "104/104 [==============================] - 1s 5ms/step - loss: 0.8620 - accuracy: 0.6524 - val_loss: 0.8630 - val_accuracy: 0.7246\n",
            "Epoch 316/500\n",
            "104/104 [==============================] - 1s 5ms/step - loss: 0.8560 - accuracy: 0.6596 - val_loss: 0.8678 - val_accuracy: 0.7053\n",
            "Epoch 317/500\n",
            "104/104 [==============================] - 1s 6ms/step - loss: 0.8674 - accuracy: 0.6487 - val_loss: 0.8676 - val_accuracy: 0.7005\n",
            "Epoch 318/500\n",
            "104/104 [==============================] - 1s 5ms/step - loss: 0.8657 - accuracy: 0.6493 - val_loss: 0.8744 - val_accuracy: 0.6860\n",
            "Epoch 319/500\n",
            "104/104 [==============================] - 1s 5ms/step - loss: 0.8405 - accuracy: 0.6638 - val_loss: 0.8450 - val_accuracy: 0.7198\n",
            "Epoch 320/500\n",
            "104/104 [==============================] - 1s 5ms/step - loss: 0.8563 - accuracy: 0.6499 - val_loss: 0.8735 - val_accuracy: 0.6908\n",
            "Epoch 321/500\n",
            "104/104 [==============================] - 1s 5ms/step - loss: 0.8581 - accuracy: 0.6638 - val_loss: 0.8831 - val_accuracy: 0.6763\n",
            "Epoch 322/500\n",
            "104/104 [==============================] - 1s 5ms/step - loss: 0.8521 - accuracy: 0.6632 - val_loss: 0.8661 - val_accuracy: 0.6812\n",
            "Epoch 323/500\n",
            "104/104 [==============================] - 1s 5ms/step - loss: 0.8598 - accuracy: 0.6518 - val_loss: 0.8584 - val_accuracy: 0.6957\n",
            "Epoch 324/500\n",
            "104/104 [==============================] - 1s 6ms/step - loss: 0.8642 - accuracy: 0.6548 - val_loss: 0.8502 - val_accuracy: 0.7053\n",
            "Epoch 325/500\n",
            "104/104 [==============================] - 1s 5ms/step - loss: 0.8444 - accuracy: 0.6560 - val_loss: 0.8742 - val_accuracy: 0.6763\n",
            "Epoch 326/500\n",
            "104/104 [==============================] - 1s 5ms/step - loss: 0.8644 - accuracy: 0.6566 - val_loss: 0.8714 - val_accuracy: 0.6860\n",
            "Epoch 327/500\n",
            "104/104 [==============================] - 1s 5ms/step - loss: 0.8640 - accuracy: 0.6644 - val_loss: 0.8665 - val_accuracy: 0.6812\n",
            "Epoch 328/500\n",
            "104/104 [==============================] - 1s 6ms/step - loss: 0.8733 - accuracy: 0.6530 - val_loss: 0.8782 - val_accuracy: 0.6957\n",
            "Epoch 329/500\n",
            "104/104 [==============================] - 1s 6ms/step - loss: 0.8617 - accuracy: 0.6560 - val_loss: 0.8614 - val_accuracy: 0.6908\n",
            "Epoch 330/500\n",
            "104/104 [==============================] - 1s 5ms/step - loss: 0.8298 - accuracy: 0.6820 - val_loss: 0.8937 - val_accuracy: 0.6715\n",
            "Epoch 331/500\n",
            "104/104 [==============================] - 1s 5ms/step - loss: 0.8329 - accuracy: 0.6705 - val_loss: 0.8522 - val_accuracy: 0.7005\n",
            "Epoch 332/500\n",
            "104/104 [==============================] - 1s 5ms/step - loss: 0.8519 - accuracy: 0.6566 - val_loss: 0.8497 - val_accuracy: 0.7005\n",
            "Epoch 333/500\n",
            "104/104 [==============================] - 1s 5ms/step - loss: 0.8335 - accuracy: 0.6808 - val_loss: 0.8568 - val_accuracy: 0.6812\n",
            "Epoch 334/500\n",
            "104/104 [==============================] - 1s 5ms/step - loss: 0.8474 - accuracy: 0.6735 - val_loss: 0.8631 - val_accuracy: 0.6715\n",
            "Epoch 335/500\n",
            "104/104 [==============================] - 1s 6ms/step - loss: 0.8433 - accuracy: 0.6602 - val_loss: 0.8697 - val_accuracy: 0.6618\n",
            "Epoch 336/500\n",
            "104/104 [==============================] - 1s 5ms/step - loss: 0.8281 - accuracy: 0.6747 - val_loss: 0.8535 - val_accuracy: 0.7005\n",
            "Epoch 337/500\n",
            "104/104 [==============================] - 1s 5ms/step - loss: 0.8316 - accuracy: 0.6802 - val_loss: 0.8549 - val_accuracy: 0.7101\n",
            "Epoch 338/500\n",
            "104/104 [==============================] - 1s 5ms/step - loss: 0.8372 - accuracy: 0.6693 - val_loss: 0.8458 - val_accuracy: 0.6957\n",
            "Epoch 339/500\n",
            "104/104 [==============================] - 1s 5ms/step - loss: 0.8476 - accuracy: 0.6735 - val_loss: 0.8573 - val_accuracy: 0.6957\n",
            "Epoch 340/500\n",
            "104/104 [==============================] - 1s 5ms/step - loss: 0.8332 - accuracy: 0.6687 - val_loss: 0.8598 - val_accuracy: 0.6860\n",
            "Epoch 341/500\n",
            "104/104 [==============================] - 1s 5ms/step - loss: 0.8406 - accuracy: 0.6638 - val_loss: 0.8549 - val_accuracy: 0.6812\n",
            "Epoch 342/500\n",
            "104/104 [==============================] - 1s 5ms/step - loss: 0.8322 - accuracy: 0.6548 - val_loss: 0.8473 - val_accuracy: 0.6860\n",
            "Epoch 343/500\n",
            "104/104 [==============================] - 1s 5ms/step - loss: 0.8373 - accuracy: 0.6753 - val_loss: 0.8545 - val_accuracy: 0.7053\n",
            "Epoch 344/500\n",
            "104/104 [==============================] - 1s 6ms/step - loss: 0.8388 - accuracy: 0.6765 - val_loss: 0.8524 - val_accuracy: 0.7101\n",
            "Epoch 345/500\n",
            "104/104 [==============================] - 1s 5ms/step - loss: 0.8310 - accuracy: 0.6741 - val_loss: 0.8471 - val_accuracy: 0.6908\n",
            "Epoch 346/500\n",
            "104/104 [==============================] - 1s 5ms/step - loss: 0.8192 - accuracy: 0.6675 - val_loss: 0.8517 - val_accuracy: 0.6812\n",
            "Epoch 347/500\n",
            "104/104 [==============================] - 1s 6ms/step - loss: 0.8167 - accuracy: 0.6747 - val_loss: 0.8490 - val_accuracy: 0.6957\n",
            "Epoch 348/500\n",
            "104/104 [==============================] - 1s 6ms/step - loss: 0.8432 - accuracy: 0.6747 - val_loss: 0.8706 - val_accuracy: 0.6812\n",
            "Epoch 349/500\n",
            "104/104 [==============================] - 1s 5ms/step - loss: 0.8078 - accuracy: 0.6814 - val_loss: 0.8583 - val_accuracy: 0.6570\n",
            "Epoch 350/500\n",
            "104/104 [==============================] - 1s 6ms/step - loss: 0.8341 - accuracy: 0.6638 - val_loss: 0.8448 - val_accuracy: 0.7005\n",
            "Epoch 351/500\n",
            "104/104 [==============================] - 1s 6ms/step - loss: 0.8196 - accuracy: 0.6771 - val_loss: 0.8454 - val_accuracy: 0.6908\n",
            "Epoch 352/500\n",
            "104/104 [==============================] - 1s 5ms/step - loss: 0.8163 - accuracy: 0.6790 - val_loss: 0.8280 - val_accuracy: 0.6812\n",
            "Epoch 353/500\n",
            "104/104 [==============================] - 1s 6ms/step - loss: 0.8236 - accuracy: 0.6790 - val_loss: 0.8382 - val_accuracy: 0.6812\n",
            "Epoch 354/500\n",
            "104/104 [==============================] - 1s 5ms/step - loss: 0.8302 - accuracy: 0.6753 - val_loss: 0.8421 - val_accuracy: 0.7005\n",
            "Epoch 355/500\n",
            "104/104 [==============================] - 1s 6ms/step - loss: 0.8038 - accuracy: 0.6808 - val_loss: 0.8251 - val_accuracy: 0.7101\n",
            "Epoch 356/500\n",
            "104/104 [==============================] - 1s 6ms/step - loss: 0.8027 - accuracy: 0.6838 - val_loss: 0.8619 - val_accuracy: 0.6618\n",
            "Epoch 357/500\n",
            "104/104 [==============================] - 1s 5ms/step - loss: 0.8080 - accuracy: 0.6657 - val_loss: 0.8522 - val_accuracy: 0.6522\n",
            "Epoch 358/500\n",
            "104/104 [==============================] - 1s 5ms/step - loss: 0.8095 - accuracy: 0.6765 - val_loss: 0.8367 - val_accuracy: 0.6812\n",
            "Epoch 359/500\n",
            "104/104 [==============================] - 1s 5ms/step - loss: 0.7913 - accuracy: 0.6874 - val_loss: 0.8201 - val_accuracy: 0.7053\n",
            "Epoch 360/500\n",
            "104/104 [==============================] - 1s 5ms/step - loss: 0.8035 - accuracy: 0.6838 - val_loss: 0.8308 - val_accuracy: 0.7005\n",
            "Epoch 361/500\n",
            "104/104 [==============================] - 1s 5ms/step - loss: 0.7933 - accuracy: 0.6705 - val_loss: 0.8360 - val_accuracy: 0.6860\n",
            "Epoch 362/500\n",
            "104/104 [==============================] - 1s 5ms/step - loss: 0.7813 - accuracy: 0.6886 - val_loss: 0.8280 - val_accuracy: 0.6812\n",
            "Epoch 363/500\n",
            "104/104 [==============================] - 1s 5ms/step - loss: 0.8461 - accuracy: 0.6626 - val_loss: 0.8447 - val_accuracy: 0.6715\n",
            "Epoch 364/500\n",
            "104/104 [==============================] - 1s 5ms/step - loss: 0.8092 - accuracy: 0.6886 - val_loss: 0.8466 - val_accuracy: 0.6908\n",
            "Epoch 365/500\n",
            "104/104 [==============================] - 1s 5ms/step - loss: 0.7948 - accuracy: 0.6784 - val_loss: 0.8187 - val_accuracy: 0.7005\n",
            "Epoch 366/500\n",
            "104/104 [==============================] - 1s 5ms/step - loss: 0.7991 - accuracy: 0.6904 - val_loss: 0.8144 - val_accuracy: 0.7295\n",
            "Epoch 367/500\n",
            "104/104 [==============================] - 1s 6ms/step - loss: 0.7925 - accuracy: 0.6753 - val_loss: 0.8094 - val_accuracy: 0.7246\n",
            "Epoch 368/500\n",
            "104/104 [==============================] - 1s 5ms/step - loss: 0.7907 - accuracy: 0.6814 - val_loss: 0.8467 - val_accuracy: 0.6618\n",
            "Epoch 369/500\n",
            "104/104 [==============================] - 1s 5ms/step - loss: 0.7823 - accuracy: 0.6935 - val_loss: 0.8241 - val_accuracy: 0.6957\n",
            "Epoch 370/500\n",
            "104/104 [==============================] - 1s 5ms/step - loss: 0.8127 - accuracy: 0.6784 - val_loss: 0.8199 - val_accuracy: 0.7246\n",
            "Epoch 371/500\n",
            "104/104 [==============================] - 1s 5ms/step - loss: 0.8040 - accuracy: 0.6669 - val_loss: 0.8405 - val_accuracy: 0.6763\n",
            "Epoch 372/500\n",
            "104/104 [==============================] - 1s 5ms/step - loss: 0.7963 - accuracy: 0.6911 - val_loss: 0.8445 - val_accuracy: 0.6812\n",
            "Epoch 373/500\n",
            "104/104 [==============================] - 1s 5ms/step - loss: 0.7895 - accuracy: 0.6983 - val_loss: 0.8301 - val_accuracy: 0.6957\n",
            "Epoch 374/500\n",
            "104/104 [==============================] - 1s 6ms/step - loss: 0.8193 - accuracy: 0.6874 - val_loss: 0.8442 - val_accuracy: 0.6812\n",
            "Epoch 375/500\n",
            "104/104 [==============================] - 1s 5ms/step - loss: 0.7604 - accuracy: 0.7013 - val_loss: 0.8423 - val_accuracy: 0.6715\n",
            "Epoch 376/500\n",
            "104/104 [==============================] - 1s 5ms/step - loss: 0.8077 - accuracy: 0.6729 - val_loss: 0.8338 - val_accuracy: 0.7343\n",
            "Epoch 377/500\n",
            "104/104 [==============================] - 1s 5ms/step - loss: 0.7829 - accuracy: 0.6965 - val_loss: 0.8223 - val_accuracy: 0.7150\n",
            "Epoch 378/500\n",
            "104/104 [==============================] - 1s 5ms/step - loss: 0.8052 - accuracy: 0.6796 - val_loss: 0.8504 - val_accuracy: 0.6957\n",
            "Epoch 379/500\n",
            "104/104 [==============================] - 1s 5ms/step - loss: 0.7942 - accuracy: 0.6747 - val_loss: 0.8410 - val_accuracy: 0.7005\n",
            "Epoch 380/500\n",
            "104/104 [==============================] - 1s 6ms/step - loss: 0.7994 - accuracy: 0.6856 - val_loss: 0.8377 - val_accuracy: 0.6715\n",
            "Epoch 381/500\n",
            "104/104 [==============================] - 1s 5ms/step - loss: 0.7793 - accuracy: 0.7056 - val_loss: 0.8397 - val_accuracy: 0.6618\n",
            "Epoch 382/500\n",
            "104/104 [==============================] - 1s 5ms/step - loss: 0.8002 - accuracy: 0.6880 - val_loss: 0.8495 - val_accuracy: 0.6908\n",
            "Epoch 383/500\n",
            "104/104 [==============================] - 1s 5ms/step - loss: 0.7762 - accuracy: 0.6874 - val_loss: 0.8194 - val_accuracy: 0.7101\n",
            "Epoch 384/500\n",
            "104/104 [==============================] - 1s 6ms/step - loss: 0.7656 - accuracy: 0.7019 - val_loss: 0.8406 - val_accuracy: 0.6860\n",
            "Epoch 385/500\n",
            "104/104 [==============================] - 1s 5ms/step - loss: 0.7692 - accuracy: 0.6880 - val_loss: 0.8180 - val_accuracy: 0.6812\n",
            "Epoch 386/500\n",
            "104/104 [==============================] - 1s 5ms/step - loss: 0.7684 - accuracy: 0.6904 - val_loss: 0.8398 - val_accuracy: 0.7005\n",
            "Epoch 387/500\n",
            "104/104 [==============================] - 1s 5ms/step - loss: 0.7716 - accuracy: 0.6880 - val_loss: 0.8300 - val_accuracy: 0.6522\n",
            "Epoch 388/500\n",
            "104/104 [==============================] - 1s 5ms/step - loss: 0.7750 - accuracy: 0.6898 - val_loss: 0.8261 - val_accuracy: 0.6570\n",
            "Epoch 389/500\n",
            "104/104 [==============================] - 1s 5ms/step - loss: 0.7879 - accuracy: 0.6886 - val_loss: 0.8153 - val_accuracy: 0.6812\n",
            "Epoch 390/500\n",
            "104/104 [==============================] - 1s 5ms/step - loss: 0.7680 - accuracy: 0.6929 - val_loss: 0.8340 - val_accuracy: 0.7053\n",
            "Epoch 391/500\n",
            "104/104 [==============================] - 1s 5ms/step - loss: 0.7649 - accuracy: 0.6983 - val_loss: 0.8340 - val_accuracy: 0.6812\n",
            "Epoch 392/500\n",
            "104/104 [==============================] - 1s 5ms/step - loss: 0.7802 - accuracy: 0.6989 - val_loss: 0.8043 - val_accuracy: 0.7053\n",
            "Epoch 393/500\n",
            "104/104 [==============================] - 1s 5ms/step - loss: 0.7513 - accuracy: 0.7062 - val_loss: 0.8462 - val_accuracy: 0.6763\n",
            "Epoch 394/500\n",
            "104/104 [==============================] - 1s 5ms/step - loss: 0.7569 - accuracy: 0.7074 - val_loss: 0.8045 - val_accuracy: 0.7246\n",
            "Epoch 395/500\n",
            "104/104 [==============================] - 1s 6ms/step - loss: 0.7668 - accuracy: 0.6971 - val_loss: 0.8133 - val_accuracy: 0.7391\n",
            "Epoch 396/500\n",
            "104/104 [==============================] - 1s 5ms/step - loss: 0.7851 - accuracy: 0.6826 - val_loss: 0.8215 - val_accuracy: 0.7053\n",
            "Epoch 397/500\n",
            "104/104 [==============================] - 1s 6ms/step - loss: 0.7738 - accuracy: 0.6911 - val_loss: 0.8196 - val_accuracy: 0.6812\n",
            "Epoch 398/500\n",
            "104/104 [==============================] - 1s 5ms/step - loss: 0.7686 - accuracy: 0.6929 - val_loss: 0.8079 - val_accuracy: 0.6908\n",
            "Epoch 399/500\n",
            "104/104 [==============================] - 1s 6ms/step - loss: 0.7603 - accuracy: 0.6965 - val_loss: 0.8042 - val_accuracy: 0.7053\n",
            "Epoch 400/500\n",
            "104/104 [==============================] - 1s 5ms/step - loss: 0.7475 - accuracy: 0.7092 - val_loss: 0.8109 - val_accuracy: 0.7198\n",
            "Epoch 401/500\n",
            "104/104 [==============================] - 1s 5ms/step - loss: 0.7547 - accuracy: 0.7068 - val_loss: 0.7918 - val_accuracy: 0.7101\n",
            "Epoch 402/500\n",
            "104/104 [==============================] - 1s 5ms/step - loss: 0.7704 - accuracy: 0.7019 - val_loss: 0.7905 - val_accuracy: 0.7198\n",
            "Epoch 403/500\n",
            "104/104 [==============================] - 1s 5ms/step - loss: 0.7638 - accuracy: 0.6965 - val_loss: 0.7894 - val_accuracy: 0.7005\n",
            "Epoch 404/500\n",
            "104/104 [==============================] - 1s 5ms/step - loss: 0.7477 - accuracy: 0.7037 - val_loss: 0.8080 - val_accuracy: 0.7295\n",
            "Epoch 405/500\n",
            "104/104 [==============================] - 1s 5ms/step - loss: 0.7604 - accuracy: 0.7086 - val_loss: 0.8052 - val_accuracy: 0.7246\n",
            "Epoch 406/500\n",
            "104/104 [==============================] - 1s 6ms/step - loss: 0.7802 - accuracy: 0.6947 - val_loss: 0.8130 - val_accuracy: 0.6812\n",
            "Epoch 407/500\n",
            "104/104 [==============================] - 1s 6ms/step - loss: 0.7693 - accuracy: 0.6880 - val_loss: 0.8130 - val_accuracy: 0.7295\n",
            "Epoch 408/500\n",
            "104/104 [==============================] - 1s 5ms/step - loss: 0.7461 - accuracy: 0.7044 - val_loss: 0.7873 - val_accuracy: 0.7101\n",
            "Epoch 409/500\n",
            "104/104 [==============================] - 1s 6ms/step - loss: 0.7534 - accuracy: 0.6995 - val_loss: 0.7892 - val_accuracy: 0.7150\n",
            "Epoch 410/500\n",
            "104/104 [==============================] - 1s 6ms/step - loss: 0.7526 - accuracy: 0.7007 - val_loss: 0.8099 - val_accuracy: 0.6957\n",
            "Epoch 411/500\n",
            "104/104 [==============================] - 1s 5ms/step - loss: 0.7443 - accuracy: 0.7098 - val_loss: 0.8137 - val_accuracy: 0.6957\n",
            "Epoch 412/500\n",
            "104/104 [==============================] - 1s 6ms/step - loss: 0.7442 - accuracy: 0.7056 - val_loss: 0.8124 - val_accuracy: 0.7246\n",
            "Epoch 413/500\n",
            "104/104 [==============================] - 1s 6ms/step - loss: 0.7565 - accuracy: 0.7013 - val_loss: 0.8119 - val_accuracy: 0.7005\n",
            "Epoch 414/500\n",
            "104/104 [==============================] - 1s 5ms/step - loss: 0.7422 - accuracy: 0.7110 - val_loss: 0.7828 - val_accuracy: 0.7101\n",
            "Epoch 415/500\n",
            "104/104 [==============================] - 1s 5ms/step - loss: 0.7652 - accuracy: 0.7092 - val_loss: 0.8019 - val_accuracy: 0.7246\n",
            "Epoch 416/500\n",
            "104/104 [==============================] - 1s 6ms/step - loss: 0.7256 - accuracy: 0.7225 - val_loss: 0.8036 - val_accuracy: 0.7005\n",
            "Epoch 417/500\n",
            "104/104 [==============================] - 1s 5ms/step - loss: 0.7597 - accuracy: 0.7037 - val_loss: 0.7997 - val_accuracy: 0.6908\n",
            "Epoch 418/500\n",
            "104/104 [==============================] - 1s 5ms/step - loss: 0.7420 - accuracy: 0.7074 - val_loss: 0.7887 - val_accuracy: 0.7198\n",
            "Epoch 419/500\n",
            "104/104 [==============================] - 1s 5ms/step - loss: 0.7490 - accuracy: 0.6947 - val_loss: 0.7930 - val_accuracy: 0.7101\n",
            "Epoch 420/500\n",
            "104/104 [==============================] - 1s 5ms/step - loss: 0.7318 - accuracy: 0.7170 - val_loss: 0.7982 - val_accuracy: 0.7101\n",
            "Epoch 421/500\n",
            "104/104 [==============================] - 1s 6ms/step - loss: 0.7348 - accuracy: 0.7177 - val_loss: 0.7881 - val_accuracy: 0.7150\n",
            "Epoch 422/500\n",
            "104/104 [==============================] - 1s 5ms/step - loss: 0.7298 - accuracy: 0.7183 - val_loss: 0.7981 - val_accuracy: 0.6812\n",
            "Epoch 423/500\n",
            "104/104 [==============================] - 1s 5ms/step - loss: 0.7513 - accuracy: 0.7080 - val_loss: 0.7905 - val_accuracy: 0.7005\n",
            "Epoch 424/500\n",
            "104/104 [==============================] - 1s 6ms/step - loss: 0.7352 - accuracy: 0.7080 - val_loss: 0.7933 - val_accuracy: 0.7053\n",
            "Epoch 425/500\n",
            "104/104 [==============================] - 1s 5ms/step - loss: 0.7116 - accuracy: 0.7110 - val_loss: 0.7943 - val_accuracy: 0.6812\n",
            "Epoch 426/500\n",
            "104/104 [==============================] - 1s 5ms/step - loss: 0.7435 - accuracy: 0.7146 - val_loss: 0.7927 - val_accuracy: 0.6908\n",
            "Epoch 427/500\n",
            "104/104 [==============================] - 1s 6ms/step - loss: 0.7147 - accuracy: 0.7231 - val_loss: 0.7861 - val_accuracy: 0.7101\n",
            "Epoch 428/500\n",
            "104/104 [==============================] - 1s 5ms/step - loss: 0.7500 - accuracy: 0.6995 - val_loss: 0.8050 - val_accuracy: 0.6715\n",
            "Epoch 429/500\n",
            "104/104 [==============================] - 1s 5ms/step - loss: 0.7263 - accuracy: 0.7201 - val_loss: 0.8053 - val_accuracy: 0.6957\n",
            "Epoch 430/500\n",
            "104/104 [==============================] - 1s 5ms/step - loss: 0.7347 - accuracy: 0.7134 - val_loss: 0.7992 - val_accuracy: 0.6908\n",
            "Epoch 431/500\n",
            "104/104 [==============================] - 1s 6ms/step - loss: 0.7263 - accuracy: 0.7231 - val_loss: 0.7845 - val_accuracy: 0.7150\n",
            "Epoch 432/500\n",
            "104/104 [==============================] - 1s 5ms/step - loss: 0.7345 - accuracy: 0.7158 - val_loss: 0.8045 - val_accuracy: 0.7198\n",
            "Epoch 433/500\n",
            "104/104 [==============================] - 1s 5ms/step - loss: 0.7344 - accuracy: 0.7122 - val_loss: 0.7824 - val_accuracy: 0.7053\n",
            "Epoch 434/500\n",
            "104/104 [==============================] - 1s 5ms/step - loss: 0.7334 - accuracy: 0.7152 - val_loss: 0.8105 - val_accuracy: 0.6763\n",
            "Epoch 435/500\n",
            "104/104 [==============================] - 1s 7ms/step - loss: 0.7276 - accuracy: 0.7170 - val_loss: 0.8013 - val_accuracy: 0.7005\n",
            "Epoch 436/500\n",
            "104/104 [==============================] - 1s 7ms/step - loss: 0.7164 - accuracy: 0.7195 - val_loss: 0.7898 - val_accuracy: 0.6957\n",
            "Epoch 437/500\n",
            "104/104 [==============================] - 1s 7ms/step - loss: 0.7443 - accuracy: 0.7092 - val_loss: 0.7937 - val_accuracy: 0.6812\n",
            "Epoch 438/500\n",
            "104/104 [==============================] - 1s 7ms/step - loss: 0.7339 - accuracy: 0.7092 - val_loss: 0.7998 - val_accuracy: 0.6957\n",
            "Epoch 439/500\n",
            "104/104 [==============================] - 1s 7ms/step - loss: 0.7266 - accuracy: 0.7158 - val_loss: 0.8020 - val_accuracy: 0.7053\n",
            "Epoch 440/500\n",
            "104/104 [==============================] - 1s 6ms/step - loss: 0.6917 - accuracy: 0.7207 - val_loss: 0.7723 - val_accuracy: 0.7246\n",
            "Epoch 441/500\n",
            "104/104 [==============================] - 1s 6ms/step - loss: 0.7078 - accuracy: 0.7164 - val_loss: 0.7842 - val_accuracy: 0.7101\n",
            "Epoch 442/500\n",
            "104/104 [==============================] - 1s 5ms/step - loss: 0.7124 - accuracy: 0.7134 - val_loss: 0.7655 - val_accuracy: 0.7053\n",
            "Epoch 443/500\n",
            "104/104 [==============================] - 1s 5ms/step - loss: 0.7400 - accuracy: 0.7110 - val_loss: 0.7894 - val_accuracy: 0.6908\n",
            "Epoch 444/500\n",
            "104/104 [==============================] - 1s 5ms/step - loss: 0.7263 - accuracy: 0.7031 - val_loss: 0.7639 - val_accuracy: 0.7005\n",
            "Epoch 445/500\n",
            "104/104 [==============================] - 1s 5ms/step - loss: 0.7144 - accuracy: 0.7237 - val_loss: 0.7896 - val_accuracy: 0.7053\n",
            "Epoch 446/500\n",
            "104/104 [==============================] - 1s 6ms/step - loss: 0.7144 - accuracy: 0.7104 - val_loss: 0.7910 - val_accuracy: 0.7005\n",
            "Epoch 447/500\n",
            "104/104 [==============================] - 1s 6ms/step - loss: 0.7342 - accuracy: 0.7086 - val_loss: 0.7840 - val_accuracy: 0.7198\n",
            "Epoch 448/500\n",
            "104/104 [==============================] - 1s 5ms/step - loss: 0.6978 - accuracy: 0.7279 - val_loss: 0.7603 - val_accuracy: 0.7101\n",
            "Epoch 449/500\n",
            "104/104 [==============================] - 1s 6ms/step - loss: 0.7216 - accuracy: 0.7098 - val_loss: 0.7837 - val_accuracy: 0.7198\n",
            "Epoch 450/500\n",
            "104/104 [==============================] - 1s 6ms/step - loss: 0.7243 - accuracy: 0.7122 - val_loss: 0.7634 - val_accuracy: 0.7343\n",
            "Epoch 451/500\n",
            "104/104 [==============================] - 1s 6ms/step - loss: 0.7304 - accuracy: 0.7134 - val_loss: 0.7811 - val_accuracy: 0.7198\n",
            "Epoch 452/500\n",
            "104/104 [==============================] - 1s 5ms/step - loss: 0.7224 - accuracy: 0.7074 - val_loss: 0.7851 - val_accuracy: 0.6908\n",
            "Epoch 453/500\n",
            "104/104 [==============================] - 1s 5ms/step - loss: 0.7033 - accuracy: 0.7098 - val_loss: 0.7712 - val_accuracy: 0.7005\n",
            "Epoch 454/500\n",
            "104/104 [==============================] - 1s 5ms/step - loss: 0.7028 - accuracy: 0.7164 - val_loss: 0.7775 - val_accuracy: 0.6860\n",
            "Epoch 455/500\n",
            "104/104 [==============================] - 1s 5ms/step - loss: 0.6875 - accuracy: 0.7297 - val_loss: 0.7805 - val_accuracy: 0.6957\n",
            "Epoch 456/500\n",
            "104/104 [==============================] - 1s 6ms/step - loss: 0.6863 - accuracy: 0.7304 - val_loss: 0.7528 - val_accuracy: 0.7150\n",
            "Epoch 457/500\n",
            "104/104 [==============================] - 1s 5ms/step - loss: 0.7082 - accuracy: 0.7207 - val_loss: 0.7844 - val_accuracy: 0.7005\n",
            "Epoch 458/500\n",
            "104/104 [==============================] - 1s 6ms/step - loss: 0.6979 - accuracy: 0.7164 - val_loss: 0.7795 - val_accuracy: 0.7246\n",
            "Epoch 459/500\n",
            "104/104 [==============================] - 1s 5ms/step - loss: 0.7058 - accuracy: 0.7285 - val_loss: 0.7764 - val_accuracy: 0.7295\n",
            "Epoch 460/500\n",
            "104/104 [==============================] - 1s 5ms/step - loss: 0.6990 - accuracy: 0.7291 - val_loss: 0.7885 - val_accuracy: 0.6860\n",
            "Epoch 461/500\n",
            "104/104 [==============================] - 1s 6ms/step - loss: 0.7267 - accuracy: 0.7037 - val_loss: 0.7706 - val_accuracy: 0.7150\n",
            "Epoch 462/500\n",
            "104/104 [==============================] - 1s 5ms/step - loss: 0.6923 - accuracy: 0.7291 - val_loss: 0.7921 - val_accuracy: 0.6763\n",
            "Epoch 463/500\n",
            "104/104 [==============================] - 1s 6ms/step - loss: 0.7026 - accuracy: 0.7231 - val_loss: 0.7765 - val_accuracy: 0.7053\n",
            "Epoch 464/500\n",
            "104/104 [==============================] - 1s 6ms/step - loss: 0.7022 - accuracy: 0.7098 - val_loss: 0.7981 - val_accuracy: 0.6618\n",
            "Epoch 465/500\n",
            "104/104 [==============================] - 1s 6ms/step - loss: 0.7084 - accuracy: 0.7116 - val_loss: 0.7777 - val_accuracy: 0.7343\n",
            "Epoch 466/500\n",
            "104/104 [==============================] - 1s 6ms/step - loss: 0.6954 - accuracy: 0.7316 - val_loss: 0.7684 - val_accuracy: 0.7053\n",
            "Epoch 467/500\n",
            "104/104 [==============================] - 1s 5ms/step - loss: 0.6974 - accuracy: 0.7261 - val_loss: 0.7723 - val_accuracy: 0.7246\n",
            "Epoch 468/500\n",
            "104/104 [==============================] - 1s 6ms/step - loss: 0.6903 - accuracy: 0.7243 - val_loss: 0.7620 - val_accuracy: 0.7101\n",
            "Epoch 469/500\n",
            "104/104 [==============================] - 1s 5ms/step - loss: 0.6697 - accuracy: 0.7394 - val_loss: 0.7808 - val_accuracy: 0.7053\n",
            "Epoch 470/500\n",
            "104/104 [==============================] - 1s 5ms/step - loss: 0.6863 - accuracy: 0.7364 - val_loss: 0.7507 - val_accuracy: 0.7295\n",
            "Epoch 471/500\n",
            "104/104 [==============================] - 1s 6ms/step - loss: 0.6914 - accuracy: 0.7201 - val_loss: 0.7577 - val_accuracy: 0.7246\n",
            "Epoch 472/500\n",
            "104/104 [==============================] - 1s 5ms/step - loss: 0.6895 - accuracy: 0.7122 - val_loss: 0.7642 - val_accuracy: 0.7101\n",
            "Epoch 473/500\n",
            "104/104 [==============================] - 1s 5ms/step - loss: 0.6923 - accuracy: 0.7304 - val_loss: 0.7622 - val_accuracy: 0.6957\n",
            "Epoch 474/500\n",
            "104/104 [==============================] - 1s 6ms/step - loss: 0.6866 - accuracy: 0.7340 - val_loss: 0.7937 - val_accuracy: 0.6763\n",
            "Epoch 475/500\n",
            "104/104 [==============================] - 1s 5ms/step - loss: 0.6943 - accuracy: 0.7249 - val_loss: 0.7850 - val_accuracy: 0.6715\n",
            "Epoch 476/500\n",
            "104/104 [==============================] - 1s 6ms/step - loss: 0.6960 - accuracy: 0.7261 - val_loss: 0.7771 - val_accuracy: 0.6860\n",
            "Epoch 477/500\n",
            "104/104 [==============================] - 1s 6ms/step - loss: 0.6687 - accuracy: 0.7316 - val_loss: 0.7705 - val_accuracy: 0.6957\n",
            "Epoch 478/500\n",
            "104/104 [==============================] - 1s 5ms/step - loss: 0.6963 - accuracy: 0.7304 - val_loss: 0.7741 - val_accuracy: 0.6908\n",
            "Epoch 479/500\n",
            "104/104 [==============================] - 1s 6ms/step - loss: 0.6950 - accuracy: 0.7267 - val_loss: 0.7577 - val_accuracy: 0.6860\n",
            "Epoch 480/500\n",
            "104/104 [==============================] - 1s 6ms/step - loss: 0.6865 - accuracy: 0.7231 - val_loss: 0.7971 - val_accuracy: 0.6957\n",
            "Epoch 481/500\n",
            "104/104 [==============================] - 1s 5ms/step - loss: 0.7151 - accuracy: 0.7195 - val_loss: 0.7882 - val_accuracy: 0.7101\n",
            "Epoch 482/500\n",
            "104/104 [==============================] - 1s 6ms/step - loss: 0.6815 - accuracy: 0.7346 - val_loss: 0.7688 - val_accuracy: 0.6908\n",
            "Epoch 483/500\n",
            "104/104 [==============================] - 1s 5ms/step - loss: 0.6774 - accuracy: 0.7273 - val_loss: 0.7488 - val_accuracy: 0.7295\n",
            "Epoch 484/500\n",
            "104/104 [==============================] - 1s 6ms/step - loss: 0.6692 - accuracy: 0.7382 - val_loss: 0.7559 - val_accuracy: 0.7488\n",
            "Epoch 485/500\n",
            "104/104 [==============================] - 1s 5ms/step - loss: 0.6649 - accuracy: 0.7437 - val_loss: 0.7663 - val_accuracy: 0.7343\n",
            "Epoch 486/500\n",
            "104/104 [==============================] - 1s 6ms/step - loss: 0.6601 - accuracy: 0.7424 - val_loss: 0.7719 - val_accuracy: 0.7005\n",
            "Epoch 487/500\n",
            "104/104 [==============================] - 1s 5ms/step - loss: 0.6857 - accuracy: 0.7201 - val_loss: 0.7741 - val_accuracy: 0.7005\n",
            "Epoch 488/500\n",
            "104/104 [==============================] - 1s 5ms/step - loss: 0.7080 - accuracy: 0.7164 - val_loss: 0.7757 - val_accuracy: 0.6812\n",
            "Epoch 489/500\n",
            "104/104 [==============================] - 1s 5ms/step - loss: 0.6627 - accuracy: 0.7424 - val_loss: 0.7618 - val_accuracy: 0.7053\n",
            "Epoch 490/500\n",
            "104/104 [==============================] - 1s 6ms/step - loss: 0.6794 - accuracy: 0.7279 - val_loss: 0.7523 - val_accuracy: 0.7101\n",
            "Epoch 491/500\n",
            "104/104 [==============================] - 1s 6ms/step - loss: 0.6608 - accuracy: 0.7370 - val_loss: 0.7564 - val_accuracy: 0.7053\n",
            "Epoch 492/500\n",
            "104/104 [==============================] - 1s 6ms/step - loss: 0.7039 - accuracy: 0.7140 - val_loss: 0.7737 - val_accuracy: 0.7053\n",
            "Epoch 493/500\n",
            "104/104 [==============================] - 1s 6ms/step - loss: 0.6662 - accuracy: 0.7515 - val_loss: 0.7398 - val_accuracy: 0.7295\n",
            "Epoch 494/500\n",
            "104/104 [==============================] - 1s 6ms/step - loss: 0.6724 - accuracy: 0.7316 - val_loss: 0.7588 - val_accuracy: 0.6957\n",
            "Epoch 495/500\n",
            "104/104 [==============================] - 1s 5ms/step - loss: 0.6612 - accuracy: 0.7424 - val_loss: 0.7544 - val_accuracy: 0.7150\n",
            "Epoch 496/500\n",
            "104/104 [==============================] - 1s 5ms/step - loss: 0.6667 - accuracy: 0.7485 - val_loss: 0.7542 - val_accuracy: 0.7053\n",
            "Epoch 497/500\n",
            "104/104 [==============================] - 1s 5ms/step - loss: 0.6738 - accuracy: 0.7316 - val_loss: 0.7586 - val_accuracy: 0.7005\n",
            "Epoch 498/500\n",
            "104/104 [==============================] - 1s 5ms/step - loss: 0.6840 - accuracy: 0.7358 - val_loss: 0.7704 - val_accuracy: 0.6908\n",
            "Epoch 499/500\n",
            "104/104 [==============================] - 1s 5ms/step - loss: 0.6616 - accuracy: 0.7376 - val_loss: 0.7569 - val_accuracy: 0.7005\n",
            "Epoch 500/500\n",
            "104/104 [==============================] - 1s 6ms/step - loss: 0.6573 - accuracy: 0.7449 - val_loss: 0.7729 - val_accuracy: 0.7150\n"
          ]
        }
      ]
    },
    {
      "cell_type": "code",
      "source": [
        "plt.plot(cnnhistory.history['loss'])\n",
        "plt.plot(cnnhistory.history['val_loss'])\n",
        "plt.title('model loss')\n",
        "plt.ylabel('loss')\n",
        "plt.xlabel('epoch')\n",
        "plt.legend(['train','test'], loc='upper left')\n",
        "plt.show()"
      ],
      "metadata": {
        "colab": {
          "base_uri": "https://localhost:8080/",
          "height": 295
        },
        "id": "oQYnuaCrDH_A",
        "outputId": "8308eddc-c8b1-428f-a952-5e591bf97984"
      },
      "execution_count": 20,
      "outputs": [
        {
          "output_type": "display_data",
          "data": {
            "text/plain": [
              "<Figure size 432x288 with 1 Axes>"
            ],
            "image/png": "[encoded data removed]"
          },
          "metadata": {
            "needs_background": "light"
          }
        }
      ]
    },
    {
      "cell_type": "code",
      "source": [
        "plt.plot(cnnhistory.history['accuracy'])\n",
        "plt.plot(cnnhistory.history['val_accuracy'])\n",
        "plt.title('model accuracy')\n",
        "plt.ylabel('accuracy')\n",
        "plt.xlabel('epoch')\n",
        "plt.legend(['train','test'], loc='upper left')\n",
        "plt.show()"
      ],
      "metadata": {
        "colab": {
          "base_uri": "https://localhost:8080/",
          "height": 295
        },
        "id": "IFkTuO8nDNdq",
        "outputId": "92fb6597-4a66-4dd0-fd0a-c2b4e4e68b8b"
      },
      "execution_count": 21,
      "outputs": [
        {
          "output_type": "display_data",
          "data": {
            "text/plain": [
              "<Figure size 432x288 with 1 Axes>"
            ],
            "image/png": "[encoded data removed]"
          },
          "metadata": {
            "needs_background": "light"
          }
        }
      ]
    },
    {
      "cell_type": "code",
      "source": [
        "#predictions = model.predict_classes(x_testcnn)\n",
        "predictions = model.predict(x_testcnn)"
      ],
      "metadata": {
        "id": "A2xtrN5wDQgY"
      },
      "execution_count": 22,
      "outputs": []
    },
    {
      "cell_type": "code",
      "source": [
        "predictions"
      ],
      "metadata": {
        "colab": {
          "base_uri": "https://localhost:8080/"
        },
        "id": "_f_ohjXKDUpY",
        "outputId": "a9c11178-700b-400c-b1d7-e19dabdf9932"
      },
      "execution_count": 23,
      "outputs": [
        {
          "output_type": "execute_result",
          "data": {
            "text/plain": [
              "array([[8.55492079e-04, 8.95957404e-04, 4.67839390e-02, 1.73376892e-02,\n",
              "        4.50295284e-02, 8.89097393e-01],\n",
              "       [1.56404138e-01, 6.66396558e-01, 4.33807783e-02, 5.99641688e-02,\n",
              "        4.24917713e-02, 3.13625820e-02],\n",
              "       [5.23325056e-04, 5.09895664e-03, 4.58133221e-01, 1.04635162e-02,\n",
              "        3.67982835e-01, 1.57798186e-01],\n",
              "       ...,\n",
              "       [3.20386025e-03, 6.18492253e-04, 1.04905656e-02, 1.89405158e-02,\n",
              "        5.88252246e-01, 3.78494322e-01],\n",
              "       [9.33804289e-02, 4.83277850e-02, 3.10943611e-02, 4.02157128e-01,\n",
              "        2.24450734e-02, 4.02595162e-01],\n",
              "       [1.33329704e-01, 1.20263234e-01, 2.08482012e-01, 5.08843958e-02,\n",
              "        4.70097780e-01, 1.69429295e-02]], dtype=float32)"
            ]
          },
          "metadata": {},
          "execution_count": 23
        }
      ]
    },
    {
      "cell_type": "code",
      "source": [
        "y_test"
      ],
      "metadata": {
        "colab": {
          "base_uri": "https://localhost:8080/"
        },
        "id": "cmA2bFgsDW3D",
        "outputId": "a30253c8-0e8a-4fe0-99f6-db0966b74229"
      },
      "execution_count": 24,
      "outputs": [
        {
          "output_type": "execute_result",
          "data": {
            "text/plain": [
              "array([5, 1, 2, 5, 3, 4, 2, 0, 3, 1, 3, 2, 1, 4, 3, 0, 5, 0, 2, 5, 0, 0,\n",
              "       1, 3, 2, 3, 2, 5, 4, 2, 2, 3, 1, 2, 5, 5, 3, 5, 3, 3, 4, 1, 3, 2,\n",
              "       3, 1, 5, 3, 1, 2, 4, 4, 5, 5, 5, 1, 2, 3, 2, 5, 0, 2, 4, 2, 5, 4,\n",
              "       3, 0, 1, 2, 5, 2, 1, 2, 4, 5, 4, 1, 5, 5, 3, 1, 5, 3, 2, 4, 2, 5,\n",
              "       0, 5, 0, 5, 4, 0, 2, 4, 0, 2, 2, 0, 2, 3, 5, 3, 5, 5, 3, 1, 2, 2,\n",
              "       2, 1, 3, 2, 1, 3, 4, 4, 1, 1, 2, 4, 4, 1, 4, 2, 0, 4, 5, 5, 3, 1,\n",
              "       2, 1, 5, 5, 1, 2, 3, 3, 0, 3, 3, 0, 1, 0, 1, 2, 1, 5, 1, 2, 2, 0,\n",
              "       1, 1, 1, 1, 1, 4, 0, 1, 5, 1, 4, 5, 5, 4, 1, 0, 3, 5, 2, 3, 0, 4,\n",
              "       1, 3, 1, 0, 5, 5, 3, 5, 4, 5, 4, 0, 4, 1, 2, 1, 5, 0, 4, 3, 2, 1,\n",
              "       0, 3, 5, 0, 4, 5, 4, 5, 4])"
            ]
          },
          "metadata": {},
          "execution_count": 24
        }
      ]
    },
    {
      "cell_type": "code",
      "source": [
        "new_Ytest = y_test.astype(int)"
      ],
      "metadata": {
        "id": "0PHDKWJWDY3g"
      },
      "execution_count": 25,
      "outputs": []
    },
    {
      "cell_type": "code",
      "source": [
        "new_Ytest"
      ],
      "metadata": {
        "colab": {
          "base_uri": "https://localhost:8080/"
        },
        "id": "k68v2i-pDbZE",
        "outputId": "668bafd2-f44c-4d97-f812-dcc9b40c3fb1"
      },
      "execution_count": 26,
      "outputs": [
        {
          "output_type": "execute_result",
          "data": {
            "text/plain": [
              "array([5, 1, 2, 5, 3, 4, 2, 0, 3, 1, 3, 2, 1, 4, 3, 0, 5, 0, 2, 5, 0, 0,\n",
              "       1, 3, 2, 3, 2, 5, 4, 2, 2, 3, 1, 2, 5, 5, 3, 5, 3, 3, 4, 1, 3, 2,\n",
              "       3, 1, 5, 3, 1, 2, 4, 4, 5, 5, 5, 1, 2, 3, 2, 5, 0, 2, 4, 2, 5, 4,\n",
              "       3, 0, 1, 2, 5, 2, 1, 2, 4, 5, 4, 1, 5, 5, 3, 1, 5, 3, 2, 4, 2, 5,\n",
              "       0, 5, 0, 5, 4, 0, 2, 4, 0, 2, 2, 0, 2, 3, 5, 3, 5, 5, 3, 1, 2, 2,\n",
              "       2, 1, 3, 2, 1, 3, 4, 4, 1, 1, 2, 4, 4, 1, 4, 2, 0, 4, 5, 5, 3, 1,\n",
              "       2, 1, 5, 5, 1, 2, 3, 3, 0, 3, 3, 0, 1, 0, 1, 2, 1, 5, 1, 2, 2, 0,\n",
              "       1, 1, 1, 1, 1, 4, 0, 1, 5, 1, 4, 5, 5, 4, 1, 0, 3, 5, 2, 3, 0, 4,\n",
              "       1, 3, 1, 0, 5, 5, 3, 5, 4, 5, 4, 0, 4, 1, 2, 1, 5, 0, 4, 3, 2, 1,\n",
              "       0, 3, 5, 0, 4, 5, 4, 5, 4])"
            ]
          },
          "metadata": {},
          "execution_count": 26
        }
      ]
    },
    {
      "cell_type": "code",
      "source": [
        "preds1=predictions.argmax(axis=1)\n",
        "preds1"
      ],
      "metadata": {
        "colab": {
          "base_uri": "https://localhost:8080/"
        },
        "id": "4_cAI39VFhtp",
        "outputId": "772a5d61-ef31-4065-93d5-35a1e846f583"
      },
      "execution_count": 27,
      "outputs": [
        {
          "output_type": "execute_result",
          "data": {
            "text/plain": [
              "array([5, 1, 2, 5, 3, 4, 2, 0, 3, 0, 3, 4, 1, 4, 3, 0, 5, 1, 4, 5, 3, 1,\n",
              "       1, 3, 2, 3, 2, 5, 2, 4, 2, 3, 1, 4, 5, 4, 1, 5, 3, 2, 5, 1, 4, 2,\n",
              "       3, 1, 5, 3, 1, 3, 4, 4, 5, 3, 3, 1, 2, 3, 2, 2, 0, 2, 4, 4, 5, 4,\n",
              "       3, 1, 2, 2, 5, 2, 1, 5, 4, 3, 4, 3, 5, 5, 3, 1, 5, 3, 2, 4, 2, 3,\n",
              "       0, 4, 0, 3, 4, 0, 2, 4, 3, 2, 2, 0, 2, 1, 5, 3, 5, 5, 5, 1, 2, 2,\n",
              "       2, 1, 3, 2, 1, 4, 4, 4, 0, 2, 2, 4, 4, 1, 4, 2, 3, 4, 3, 5, 5, 1,\n",
              "       4, 1, 5, 4, 1, 3, 3, 3, 0, 3, 5, 0, 0, 0, 1, 2, 0, 5, 0, 2, 4, 0,\n",
              "       1, 4, 1, 1, 3, 4, 0, 1, 5, 0, 4, 5, 4, 2, 1, 0, 5, 3, 2, 3, 3, 4,\n",
              "       1, 3, 1, 0, 5, 4, 3, 3, 4, 4, 4, 0, 3, 0, 2, 1, 5, 0, 4, 1, 2, 1,\n",
              "       1, 4, 5, 0, 4, 5, 4, 5, 4])"
            ]
          },
          "metadata": {},
          "execution_count": 27
        }
      ]
    },
    {
      "cell_type": "code",
      "source": [
        "abc = preds1.astype(int).flatten()"
      ],
      "metadata": {
        "id": "H4WEmM60NfQn"
      },
      "execution_count": 28,
      "outputs": []
    },
    {
      "cell_type": "code",
      "source": [
        "from sklearn.metrics import confusion_matrix\n",
        "c = confusion_matrix(new_Ytest, abc) \n",
        "c"
      ],
      "metadata": {
        "colab": {
          "base_uri": "https://localhost:8080/"
        },
        "id": "bKEBeEBlFjB8",
        "outputId": "6800bde8-e5cd-4be2-d8b7-0eb838d0aec1"
      },
      "execution_count": 29,
      "outputs": [
        {
          "output_type": "execute_result",
          "data": {
            "text/plain": [
              "array([[17,  4,  0,  4,  0,  0],\n",
              "       [ 7, 27,  2,  2,  1,  0],\n",
              "       [ 0,  0, 28,  2,  7,  1],\n",
              "       [ 0,  3,  1, 22,  3,  4],\n",
              "       [ 0,  0,  2,  1, 26,  1],\n",
              "       [ 0,  0,  1,  8,  6, 27]])"
            ]
          },
          "metadata": {},
          "execution_count": 29
        }
      ]
    },
    {
      "cell_type": "code",
      "source": [
        "y_test"
      ],
      "metadata": {
        "colab": {
          "base_uri": "https://localhost:8080/"
        },
        "id": "m4RjG7LWLSQx",
        "outputId": "260d5df2-96d6-4d9c-a8b0-00292c4ce1f7"
      },
      "execution_count": 30,
      "outputs": [
        {
          "output_type": "execute_result",
          "data": {
            "text/plain": [
              "array([5, 1, 2, 5, 3, 4, 2, 0, 3, 1, 3, 2, 1, 4, 3, 0, 5, 0, 2, 5, 0, 0,\n",
              "       1, 3, 2, 3, 2, 5, 4, 2, 2, 3, 1, 2, 5, 5, 3, 5, 3, 3, 4, 1, 3, 2,\n",
              "       3, 1, 5, 3, 1, 2, 4, 4, 5, 5, 5, 1, 2, 3, 2, 5, 0, 2, 4, 2, 5, 4,\n",
              "       3, 0, 1, 2, 5, 2, 1, 2, 4, 5, 4, 1, 5, 5, 3, 1, 5, 3, 2, 4, 2, 5,\n",
              "       0, 5, 0, 5, 4, 0, 2, 4, 0, 2, 2, 0, 2, 3, 5, 3, 5, 5, 3, 1, 2, 2,\n",
              "       2, 1, 3, 2, 1, 3, 4, 4, 1, 1, 2, 4, 4, 1, 4, 2, 0, 4, 5, 5, 3, 1,\n",
              "       2, 1, 5, 5, 1, 2, 3, 3, 0, 3, 3, 0, 1, 0, 1, 2, 1, 5, 1, 2, 2, 0,\n",
              "       1, 1, 1, 1, 1, 4, 0, 1, 5, 1, 4, 5, 5, 4, 1, 0, 3, 5, 2, 3, 0, 4,\n",
              "       1, 3, 1, 0, 5, 5, 3, 5, 4, 5, 4, 0, 4, 1, 2, 1, 5, 0, 4, 3, 2, 1,\n",
              "       0, 3, 5, 0, 4, 5, 4, 5, 4])"
            ]
          },
          "metadata": {},
          "execution_count": 30
        }
      ]
    },
    {
      "cell_type": "code",
      "source": [
        "model.save('/content/drive/MyDrive/model2')\n",
        "print(\"MODEL SAVED\")"
      ],
      "metadata": {
        "colab": {
          "base_uri": "https://localhost:8080/"
        },
        "id": "lsJBNeMWDl6Z",
        "outputId": "3f321b8c-8fa6-49bb-cc1a-4f3464ee7d11"
      },
      "execution_count": 31,
      "outputs": [
        {
          "output_type": "stream",
          "name": "stdout",
          "text": [
            "INFO:tensorflow:Assets written to: /content/drive/MyDrive/model2/assets\n",
            "MODEL SAVED\n"
          ]
        }
      ]
    },
    {
      "cell_type": "code",
      "source": [
        "new_model=keras.models.load_model('/content/drive/MyDrive/model2')\n",
        "new_model.summary()"
      ],
      "metadata": {
        "colab": {
          "base_uri": "https://localhost:8080/"
        },
        "id": "Q3KjaO9GDoNl",
        "outputId": "28ca4ada-c990-4791-8ea4-c8994fcb6c37"
      },
      "execution_count": 32,
      "outputs": [
        {
          "output_type": "stream",
          "name": "stdout",
          "text": [
            "Model: \"sequential\"\n",
            "_________________________________________________________________\n",
            " Layer (type)                Output Shape              Param #   \n",
            "=================================================================\n",
            " conv1d (Conv1D)             (None, 40, 128)           1152      \n",
            "                                                                 \n",
            " activation (Activation)     (None, 40, 128)           0         \n",
            "                                                                 \n",
            " dropout (Dropout)           (None, 40, 128)           0         \n",
            "                                                                 \n",
            " max_pooling1d (MaxPooling1D  (None, 8, 128)           0         \n",
            " )                                                               \n",
            "                                                                 \n",
            " conv1d_1 (Conv1D)           (None, 8, 256)            262400    \n",
            "                                                                 \n",
            " activation_1 (Activation)   (None, 8, 256)            0         \n",
            "                                                                 \n",
            " dropout_1 (Dropout)         (None, 8, 256)            0         \n",
            "                                                                 \n",
            " max_pooling1d_1 (MaxPooling  (None, 1, 256)           0         \n",
            " 1D)                                                             \n",
            "                                                                 \n",
            " flatten (Flatten)           (None, 256)               0         \n",
            "                                                                 \n",
            " dense (Dense)               (None, 256)               65792     \n",
            "                                                                 \n",
            " activation_2 (Activation)   (None, 256)               0         \n",
            "                                                                 \n",
            " dense_1 (Dense)             (None, 256)               65792     \n",
            "                                                                 \n",
            " activation_3 (Activation)   (None, 256)               0         \n",
            "                                                                 \n",
            " dense_2 (Dense)             (None, 6)                 1542      \n",
            "                                                                 \n",
            " activation_4 (Activation)   (None, 6)                 0         \n",
            "                                                                 \n",
            "=================================================================\n",
            "Total params: 396,678\n",
            "Trainable params: 396,678\n",
            "Non-trainable params: 0\n",
            "_________________________________________________________________\n"
          ]
        }
      ]
    },
    {
      "cell_type": "code",
      "source": [
        "loss, acc =model.evaluate(x_testcnn, y_test)\n",
        "print(\"Restored model, accuracy: {:5.2f}%\".format(100*acc))"
      ],
      "metadata": {
        "colab": {
          "base_uri": "https://localhost:8080/"
        },
        "id": "n3kzoqPkDqqS",
        "outputId": "4582cdfd-b557-4f27-ba76-850ebd623d5b"
      },
      "execution_count": 33,
      "outputs": [
        {
          "output_type": "stream",
          "name": "stdout",
          "text": [
            "7/7 [==============================] - 0s 3ms/step - loss: 0.7689 - accuracy: 0.7101\n",
            "Restored model, accuracy: 71.01%\n"
          ]
        }
      ]
    },
    {
      "cell_type": "code",
      "source": [
        "loss, acc =model.evaluate(X_train, y_train)\n",
        "print(\"Restored model train, accuracy: {:5.2f}%\".format(100*acc))"
      ],
      "metadata": {
        "id": "fJDTGH_OUX0z",
        "colab": {
          "base_uri": "https://localhost:8080/"
        },
        "outputId": "b81330d2-eb54-48e7-e78a-33ab2bfb6773"
      },
      "execution_count": 34,
      "outputs": [
        {
          "output_type": "stream",
          "name": "stdout",
          "text": [
            "52/52 [==============================] - 0s 4ms/step - loss: 0.5734 - accuracy: 0.8259\n",
            "Restored model train, accuracy: 82.59%\n"
          ]
        }
      ]
    },
    {
      "cell_type": "code",
      "source": [
        "from sklearn.metrics import classification_report, confusion_matrix,accuracy_score\n",
        "import seaborn as sn\n",
        "\n",
        "print(classification_report(new_Ytest,abc))\n",
        "\n",
        "acc = float(accuracy_score(new_Ytest,abc))*100\n",
        "print(\"----accuracy score %s ----\" % acc)\n",
        "\n",
        "cm = confusion_matrix(new_Ytest,abc)\n",
        "#df_cm = pd.DataFrame(cm)\n",
        "class_names = ['neutral','calm', 'happy','sad','angry', 'fearful' ]\n",
        "df_cm = pd.DataFrame(cm, index=class_names, columns=class_names,)\n",
        "sn.heatmap(df_cm, annot=True, fmt='')\n",
        "plt.show()"
      ],
      "metadata": {
        "colab": {
          "base_uri": "https://localhost:8080/",
          "height": 508
        },
        "id": "SfSC3El94LZg",
        "outputId": "d127a30a-03f7-49c9-f65e-7151086c79a2"
      },
      "execution_count": 35,
      "outputs": [
        {
          "output_type": "stream",
          "name": "stdout",
          "text": [
            "              precision    recall  f1-score   support\n",
            "\n",
            "           0       0.71      0.68      0.69        25\n",
            "           1       0.79      0.69      0.74        39\n",
            "           2       0.82      0.74      0.78        38\n",
            "           3       0.56      0.67      0.61        33\n",
            "           4       0.60      0.87      0.71        30\n",
            "           5       0.82      0.64      0.72        42\n",
            "\n",
            "    accuracy                           0.71       207\n",
            "   macro avg       0.72      0.71      0.71       207\n",
            "weighted avg       0.73      0.71      0.71       207\n",
            "\n",
            "----accuracy score 71.01449275362319 ----\n"
          ]
        },
        {
          "output_type": "display_data",
          "data": {
            "text/plain": [
              "<Figure size 432x288 with 2 Axes>"
            ],
            "image/png": "[encoded data removed]"
          },
          "metadata": {
            "needs_background": "light"
          }
        }
      ]
    }
  ]
}