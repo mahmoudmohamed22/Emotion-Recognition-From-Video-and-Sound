{
  "nbformat": 4,
  "nbformat_minor": 0,
  "metadata": {
    "colab": {
      "name": "original_adam_0.00002_without decay_500_1.ipynb",
      "provenance": [],
      "collapsed_sections": []
    },
    "kernelspec": {
      "name": "python3",
      "display_name": "Python 3"
    },
    "language_info": {
      "name": "python"
    },
    "accelerator": "GPU"
  },
  "cells": [
    {
      "cell_type": "code",
      "execution_count": 1,
      "metadata": {
        "colab": {
          "base_uri": "https://localhost:8080/"
        },
        "id": "9SRCO-a_AlH5",
        "outputId": "f0712833-e68b-4a4b-d46d-b8e7ca593acf"
      },
      "outputs": [
        {
          "output_type": "stream",
          "name": "stdout",
          "text": [
            "Drive already mounted at /content/drive; to attempt to forcibly remount, call drive.mount(\"/content/drive\", force_remount=True).\n"
          ]
        }
      ],
      "source": [
        "from google.colab import drive\n",
        "drive.mount('/content/drive')"
      ]
    },
    {
      "cell_type": "code",
      "source": [
        "!pip install librosa"
      ],
      "metadata": {
        "colab": {
          "base_uri": "https://localhost:8080/"
        },
        "id": "5Lo4mUwG9RMd",
        "outputId": "ead273ba-c8bb-48c5-b013-975dfb4fe84a"
      },
      "execution_count": 2,
      "outputs": [
        {
          "output_type": "stream",
          "name": "stdout",
          "text": [
            "Looking in indexes: https://pypi.org/simple, https://us-python.pkg.dev/colab-wheels/public/simple/\n",
            "Requirement already satisfied: librosa in /usr/local/lib/python3.7/dist-packages (0.8.1)\n",
            "Requirement already satisfied: resampy>=0.2.2 in /usr/local/lib/python3.7/dist-packages (from librosa) (0.2.2)\n",
            "Requirement already satisfied: audioread>=2.0.0 in /usr/local/lib/python3.7/dist-packages (from librosa) (2.1.9)\n",
            "Requirement already satisfied: soundfile>=0.10.2 in /usr/local/lib/python3.7/dist-packages (from librosa) (0.10.3.post1)\n",
            "Requirement already satisfied: numpy>=1.15.0 in /usr/local/lib/python3.7/dist-packages (from librosa) (1.21.6)\n",
            "Requirement already satisfied: scipy>=1.0.0 in /usr/local/lib/python3.7/dist-packages (from librosa) (1.4.1)\n",
            "Requirement already satisfied: numba>=0.43.0 in /usr/local/lib/python3.7/dist-packages (from librosa) (0.51.2)\n",
            "Requirement already satisfied: joblib>=0.14 in /usr/local/lib/python3.7/dist-packages (from librosa) (1.1.0)\n",
            "Requirement already satisfied: pooch>=1.0 in /usr/local/lib/python3.7/dist-packages (from librosa) (1.6.0)\n",
            "Requirement already satisfied: packaging>=20.0 in /usr/local/lib/python3.7/dist-packages (from librosa) (21.3)\n",
            "Requirement already satisfied: decorator>=3.0.0 in /usr/local/lib/python3.7/dist-packages (from librosa) (4.4.2)\n",
            "Requirement already satisfied: scikit-learn!=0.19.0,>=0.14.0 in /usr/local/lib/python3.7/dist-packages (from librosa) (1.0.2)\n",
            "Requirement already satisfied: llvmlite<0.35,>=0.34.0.dev0 in /usr/local/lib/python3.7/dist-packages (from numba>=0.43.0->librosa) (0.34.0)\n",
            "Requirement already satisfied: setuptools in /usr/local/lib/python3.7/dist-packages (from numba>=0.43.0->librosa) (57.4.0)\n",
            "Requirement already satisfied: pyparsing!=3.0.5,>=2.0.2 in /usr/local/lib/python3.7/dist-packages (from packaging>=20.0->librosa) (3.0.9)\n",
            "Requirement already satisfied: requests>=2.19.0 in /usr/local/lib/python3.7/dist-packages (from pooch>=1.0->librosa) (2.23.0)\n",
            "Requirement already satisfied: appdirs>=1.3.0 in /usr/local/lib/python3.7/dist-packages (from pooch>=1.0->librosa) (1.4.4)\n",
            "Requirement already satisfied: urllib3!=1.25.0,!=1.25.1,<1.26,>=1.21.1 in /usr/local/lib/python3.7/dist-packages (from requests>=2.19.0->pooch>=1.0->librosa) (1.24.3)\n",
            "Requirement already satisfied: chardet<4,>=3.0.2 in /usr/local/lib/python3.7/dist-packages (from requests>=2.19.0->pooch>=1.0->librosa) (3.0.4)\n",
            "Requirement already satisfied: idna<3,>=2.5 in /usr/local/lib/python3.7/dist-packages (from requests>=2.19.0->pooch>=1.0->librosa) (2.10)\n",
            "Requirement already satisfied: certifi>=2017.4.17 in /usr/local/lib/python3.7/dist-packages (from requests>=2.19.0->pooch>=1.0->librosa) (2022.5.18.1)\n",
            "Requirement already satisfied: six>=1.3 in /usr/local/lib/python3.7/dist-packages (from resampy>=0.2.2->librosa) (1.15.0)\n",
            "Requirement already satisfied: threadpoolctl>=2.0.0 in /usr/local/lib/python3.7/dist-packages (from scikit-learn!=0.19.0,>=0.14.0->librosa) (3.1.0)\n",
            "Requirement already satisfied: cffi>=1.0 in /usr/local/lib/python3.7/dist-packages (from soundfile>=0.10.2->librosa) (1.15.0)\n",
            "Requirement already satisfied: pycparser in /usr/local/lib/python3.7/dist-packages (from cffi>=1.0->soundfile>=0.10.2->librosa) (2.21)\n"
          ]
        }
      ]
    },
    {
      "cell_type": "code",
      "metadata": {
        "id": "HJjcbxwy46bG",
        "colab": {
          "base_uri": "https://localhost:8080/",
          "height": 17
        },
        "outputId": "63734bb8-6e09-4199-bbda-5b62d461bf8e"
      },
      "source": [
        "# Orignial Notebook: https://github.com/MITESHPUTHRANNEU/Speech-Emotion-Analyzer/blob/master/final_results_gender_test.ipynb\n",
        "# This notebook author: Reza Chu\n",
        "# Last Editing Date: 31st May 2019\n",
        "\n",
        "## Python\n",
        "import os\n",
        "import random\n",
        "import sys\n",
        "\n",
        "import IPython\n",
        "from IPython.display import Audio\n",
        "from IPython.display import Image\n",
        "import matplotlib.pyplot as plt\n",
        "\n",
        "## Package\n",
        "import glob \n",
        "import keras\n",
        "import IPython.display as ipd\n",
        "import librosa\n",
        "import librosa.display\n",
        "import matplotlib.pyplot as plt\n",
        "import numpy as np\n",
        "import pandas as pd\n",
        "import plotly.graph_objs as go\n",
        "import plotly.offline as py\n",
        "import plotly.tools as tls\n",
        "import seaborn as sns\n",
        "import scipy.io.wavfile\n",
        "import tensorflow as tf\n",
        "py.init_notebook_mode(connected=True)\n",
        "\n",
        "## Keras\n",
        "from keras import regularizers\n",
        "from keras.callbacks import ModelCheckpoint, LearningRateScheduler, EarlyStopping\n",
        "from keras.callbacks import  History, ReduceLROnPlateau, CSVLogger\n",
        "from keras.models import Model, Sequential\n",
        "from keras.layers import Dense, Embedding, LSTM\n",
        "from keras.layers import Input, Flatten, Dropout, Activation, BatchNormalization\n",
        "from keras.layers import Conv1D, MaxPooling1D, AveragePooling1D\n",
        "from keras.preprocessing import sequence\n",
        "from keras.preprocessing.sequence import pad_sequences\n",
        "from keras.preprocessing.text import Tokenizer\n",
        "from keras.utils import np_utils\n",
        "from tensorflow.keras.utils import to_categorical\n",
        "\n",
        "## Sklearn\n",
        "from sklearn.metrics import confusion_matrix\n",
        "from sklearn.preprocessing import LabelEncoder\n",
        "\n",
        "## Rest\n",
        "from scipy.fftpack import fft\n",
        "from scipy import signal\n",
        "from scipy.io import wavfile\n",
        "from tqdm import tqdm\n",
        "\n",
        "input_duration=3\n",
        "# % pylab inline"
      ],
      "execution_count": 3,
      "outputs": [
        {
          "output_type": "display_data",
          "data": {
            "text/html": [
              "        <script type=\"text/javascript\">\n",
              "        window.PlotlyConfig = {MathJaxConfig: 'local'};\n",
              "        if (window.MathJax) {MathJax.Hub.Config({SVG: {font: \"STIX-Web\"}});}\n",
              "        if (typeof require !== 'undefined') {\n",
              "        require.undef(\"plotly\");\n",
              "        requirejs.config({\n",
              "            paths: {\n",
              "                'plotly': ['https://cdn.plot.ly/plotly-2.8.3.min']\n",
              "            }\n",
              "        });\n",
              "        require(['plotly'], function(Plotly) {\n",
              "            window._Plotly = Plotly;\n",
              "        });\n",
              "        }\n",
              "        </script>\n",
              "        "
            ]
          },
          "metadata": {}
        }
      ]
    },
    {
      "cell_type": "code",
      "source": [
        "# # Saving joblib files to not load them again with the loop above\n",
        "\n",
        "# import joblib\n",
        "\n",
        "# X_name = 'x.joblib'\n",
        "# y_name = 'y.joblib'\n",
        "# save_dir = '/content/drive/My Drive/graduation project/audio/paper_code/features'\n",
        "\n",
        "# savedX = joblib.dump(X, os.path.join(save_dir, X_name))\n",
        "# savedy = joblib.dump(y, os.path.join(save_dir, y_name))"
      ],
      "metadata": {
        "id": "UCzic8rlDcuk"
      },
      "execution_count": 4,
      "outputs": []
    },
    {
      "cell_type": "code",
      "source": [
        "# # Loading saved models\n",
        "import joblib\n",
        "X = joblib.load('/content/drive/My Drive/graduation project/audio/paper_code/features/x.joblib')\n",
        "y = joblib.load('/content/drive/My Drive/graduation project/audio/paper_code/features/y.joblib')"
      ],
      "metadata": {
        "id": "Q35CN6zDrzg1"
      },
      "execution_count": 5,
      "outputs": []
    },
    {
      "cell_type": "code",
      "source": [
        "X.shape"
      ],
      "metadata": {
        "colab": {
          "base_uri": "https://localhost:8080/"
        },
        "id": "7PSTurzjCo5K",
        "outputId": "edbe88e8-267f-4ada-d95d-18c7e0345eb1"
      },
      "execution_count": 6,
      "outputs": [
        {
          "output_type": "execute_result",
          "data": {
            "text/plain": [
              "(2068, 40)"
            ]
          },
          "metadata": {},
          "execution_count": 6
        }
      ]
    },
    {
      "cell_type": "code",
      "source": [
        "from sklearn.model_selection import train_test_split\n",
        "\n",
        "X_train, X_test, y_train, y_test = train_test_split(X,y, test_size=0.1 ,shuffle = True\n",
        "                                                    , random_state=42)\n",
        "X_train , X_valid, y_train, y_valid = train_test_split(X_train,y_train, test_size=0.1112305212 , shuffle = True \n",
        "                                                       , random_state=42)"
      ],
      "metadata": {
        "id": "Ai4Fy5cPCiq1"
      },
      "execution_count": 7,
      "outputs": []
    },
    {
      "cell_type": "code",
      "source": [
        "import numpy as np\n",
        "x_traincnn = np.expand_dims(X_train, axis=2)\n",
        "x_testcnn = np.expand_dims(X_test, axis=2)\n",
        "X_valid= np.expand_dims(X_valid, axis=2)"
      ],
      "metadata": {
        "id": "tp1Fm5K3CEXu"
      },
      "execution_count": 8,
      "outputs": []
    },
    {
      "cell_type": "code",
      "source": [
        "x_traincnn.shape, x_testcnn.shape , X_valid.shape\n",
        "#1861"
      ],
      "metadata": {
        "id": "RI0MxoIPBws5",
        "colab": {
          "base_uri": "https://localhost:8080/"
        },
        "outputId": "3fa579eb-446a-49d6-bdc7-bf098a5fe73f"
      },
      "execution_count": 9,
      "outputs": [
        {
          "output_type": "execute_result",
          "data": {
            "text/plain": [
              "((1654, 40, 1), (207, 40, 1), (207, 40, 1))"
            ]
          },
          "metadata": {},
          "execution_count": 9
        }
      ]
    },
    {
      "cell_type": "code",
      "source": [
        "!pip install tensorflow"
      ],
      "metadata": {
        "colab": {
          "base_uri": "https://localhost:8080/"
        },
        "id": "oALhiMUd9G2Y",
        "outputId": "6197b761-7fc3-40c8-a131-03439d1a73fb"
      },
      "execution_count": 10,
      "outputs": [
        {
          "output_type": "stream",
          "name": "stdout",
          "text": [
            "Looking in indexes: https://pypi.org/simple, https://us-python.pkg.dev/colab-wheels/public/simple/\n",
            "Requirement already satisfied: tensorflow in /usr/local/lib/python3.7/dist-packages (2.8.2+zzzcolab20220527125636)\n",
            "Requirement already satisfied: h5py>=2.9.0 in /usr/local/lib/python3.7/dist-packages (from tensorflow) (3.1.0)\n",
            "Requirement already satisfied: typing-extensions>=3.6.6 in /usr/local/lib/python3.7/dist-packages (from tensorflow) (4.2.0)\n",
            "Requirement already satisfied: tensorflow-estimator<2.9,>=2.8 in /usr/local/lib/python3.7/dist-packages (from tensorflow) (2.8.0)\n",
            "Requirement already satisfied: protobuf<3.20,>=3.9.2 in /usr/local/lib/python3.7/dist-packages (from tensorflow) (3.17.3)\n",
            "Requirement already satisfied: wrapt>=1.11.0 in /usr/local/lib/python3.7/dist-packages (from tensorflow) (1.14.1)\n",
            "Requirement already satisfied: tensorflow-io-gcs-filesystem>=0.23.1 in /usr/local/lib/python3.7/dist-packages (from tensorflow) (0.26.0)\n",
            "Requirement already satisfied: setuptools in /usr/local/lib/python3.7/dist-packages (from tensorflow) (57.4.0)\n",
            "Requirement already satisfied: flatbuffers>=1.12 in /usr/local/lib/python3.7/dist-packages (from tensorflow) (2.0)\n",
            "Requirement already satisfied: keras<2.9,>=2.8.0rc0 in /usr/local/lib/python3.7/dist-packages (from tensorflow) (2.8.0)\n",
            "Requirement already satisfied: gast>=0.2.1 in /usr/local/lib/python3.7/dist-packages (from tensorflow) (0.5.3)\n",
            "Requirement already satisfied: grpcio<2.0,>=1.24.3 in /usr/local/lib/python3.7/dist-packages (from tensorflow) (1.46.3)\n",
            "Requirement already satisfied: numpy>=1.20 in /usr/local/lib/python3.7/dist-packages (from tensorflow) (1.21.6)\n",
            "Requirement already satisfied: termcolor>=1.1.0 in /usr/local/lib/python3.7/dist-packages (from tensorflow) (1.1.0)\n",
            "Requirement already satisfied: opt-einsum>=2.3.2 in /usr/local/lib/python3.7/dist-packages (from tensorflow) (3.3.0)\n",
            "Requirement already satisfied: absl-py>=0.4.0 in /usr/local/lib/python3.7/dist-packages (from tensorflow) (1.0.0)\n",
            "Requirement already satisfied: tensorboard<2.9,>=2.8 in /usr/local/lib/python3.7/dist-packages (from tensorflow) (2.8.0)\n",
            "Requirement already satisfied: astunparse>=1.6.0 in /usr/local/lib/python3.7/dist-packages (from tensorflow) (1.6.3)\n",
            "Requirement already satisfied: google-pasta>=0.1.1 in /usr/local/lib/python3.7/dist-packages (from tensorflow) (0.2.0)\n",
            "Requirement already satisfied: libclang>=9.0.1 in /usr/local/lib/python3.7/dist-packages (from tensorflow) (14.0.1)\n",
            "Requirement already satisfied: keras-preprocessing>=1.1.1 in /usr/local/lib/python3.7/dist-packages (from tensorflow) (1.1.2)\n",
            "Requirement already satisfied: six>=1.12.0 in /usr/local/lib/python3.7/dist-packages (from tensorflow) (1.15.0)\n",
            "Requirement already satisfied: wheel<1.0,>=0.23.0 in /usr/local/lib/python3.7/dist-packages (from astunparse>=1.6.0->tensorflow) (0.37.1)\n",
            "Requirement already satisfied: cached-property in /usr/local/lib/python3.7/dist-packages (from h5py>=2.9.0->tensorflow) (1.5.2)\n",
            "Requirement already satisfied: werkzeug>=0.11.15 in /usr/local/lib/python3.7/dist-packages (from tensorboard<2.9,>=2.8->tensorflow) (1.0.1)\n",
            "Requirement already satisfied: tensorboard-plugin-wit>=1.6.0 in /usr/local/lib/python3.7/dist-packages (from tensorboard<2.9,>=2.8->tensorflow) (1.8.1)\n",
            "Requirement already satisfied: tensorboard-data-server<0.7.0,>=0.6.0 in /usr/local/lib/python3.7/dist-packages (from tensorboard<2.9,>=2.8->tensorflow) (0.6.1)\n",
            "Requirement already satisfied: google-auth-oauthlib<0.5,>=0.4.1 in /usr/local/lib/python3.7/dist-packages (from tensorboard<2.9,>=2.8->tensorflow) (0.4.6)\n",
            "Requirement already satisfied: markdown>=2.6.8 in /usr/local/lib/python3.7/dist-packages (from tensorboard<2.9,>=2.8->tensorflow) (3.3.7)\n",
            "Requirement already satisfied: google-auth<3,>=1.6.3 in /usr/local/lib/python3.7/dist-packages (from tensorboard<2.9,>=2.8->tensorflow) (1.35.0)\n",
            "Requirement already satisfied: requests<3,>=2.21.0 in /usr/local/lib/python3.7/dist-packages (from tensorboard<2.9,>=2.8->tensorflow) (2.23.0)\n",
            "Requirement already satisfied: rsa<5,>=3.1.4 in /usr/local/lib/python3.7/dist-packages (from google-auth<3,>=1.6.3->tensorboard<2.9,>=2.8->tensorflow) (4.8)\n",
            "Requirement already satisfied: cachetools<5.0,>=2.0.0 in /usr/local/lib/python3.7/dist-packages (from google-auth<3,>=1.6.3->tensorboard<2.9,>=2.8->tensorflow) (4.2.4)\n",
            "Requirement already satisfied: pyasn1-modules>=0.2.1 in /usr/local/lib/python3.7/dist-packages (from google-auth<3,>=1.6.3->tensorboard<2.9,>=2.8->tensorflow) (0.2.8)\n",
            "Requirement already satisfied: requests-oauthlib>=0.7.0 in /usr/local/lib/python3.7/dist-packages (from google-auth-oauthlib<0.5,>=0.4.1->tensorboard<2.9,>=2.8->tensorflow) (1.3.1)\n",
            "Requirement already satisfied: importlib-metadata>=4.4 in /usr/local/lib/python3.7/dist-packages (from markdown>=2.6.8->tensorboard<2.9,>=2.8->tensorflow) (4.11.4)\n",
            "Requirement already satisfied: zipp>=0.5 in /usr/local/lib/python3.7/dist-packages (from importlib-metadata>=4.4->markdown>=2.6.8->tensorboard<2.9,>=2.8->tensorflow) (3.8.0)\n",
            "Requirement already satisfied: pyasn1<0.5.0,>=0.4.6 in /usr/local/lib/python3.7/dist-packages (from pyasn1-modules>=0.2.1->google-auth<3,>=1.6.3->tensorboard<2.9,>=2.8->tensorflow) (0.4.8)\n",
            "Requirement already satisfied: urllib3!=1.25.0,!=1.25.1,<1.26,>=1.21.1 in /usr/local/lib/python3.7/dist-packages (from requests<3,>=2.21.0->tensorboard<2.9,>=2.8->tensorflow) (1.24.3)\n",
            "Requirement already satisfied: idna<3,>=2.5 in /usr/local/lib/python3.7/dist-packages (from requests<3,>=2.21.0->tensorboard<2.9,>=2.8->tensorflow) (2.10)\n",
            "Requirement already satisfied: chardet<4,>=3.0.2 in /usr/local/lib/python3.7/dist-packages (from requests<3,>=2.21.0->tensorboard<2.9,>=2.8->tensorflow) (3.0.4)\n",
            "Requirement already satisfied: certifi>=2017.4.17 in /usr/local/lib/python3.7/dist-packages (from requests<3,>=2.21.0->tensorboard<2.9,>=2.8->tensorflow) (2022.5.18.1)\n",
            "Requirement already satisfied: oauthlib>=3.0.0 in /usr/local/lib/python3.7/dist-packages (from requests-oauthlib>=0.7.0->google-auth-oauthlib<0.5,>=0.4.1->tensorboard<2.9,>=2.8->tensorflow) (3.2.0)\n"
          ]
        }
      ]
    },
    {
      "cell_type": "code",
      "source": [
        "import keras\n",
        "import numpy as np\n",
        "import matplotlib.pyplot as plt\n",
        "import tensorflow as tf\n",
        "from keras.preprocessing import sequence\n",
        "from keras.models import Sequential\n",
        "from keras.layers import Dense, Embedding\n",
        "from tensorflow.keras.utils import to_categorical\n",
        "from keras.layers import Input, Flatten, Dropout, Activation\n",
        "from keras.layers import Conv1D, MaxPooling1D\n",
        "from keras.models import Model\n",
        "from keras.callbacks import ModelCheckpoint\n",
        "from tensorflow.keras import optimizers\n",
        "\n",
        "model = Sequential()\n",
        "\n",
        "model.add(Conv1D(128, 8,padding='same', #classifier.add(Convolution2D(64, (3, 3), padding = 'same', input_shape = (128, 128, 3), activation = 'relu'))\n",
        "                 input_shape=(40,1)))\n",
        "model.add(Activation('relu'))\n",
        "model.add(Dropout(0.3))\n",
        "model.add(MaxPooling1D(pool_size=(5)))\n",
        "\n",
        "\n",
        "model.add(Conv1D(256,8,padding='same',))\n",
        "model.add(Activation('relu'))\n",
        "model.add(Dropout(0.3))\n",
        "model.add(MaxPooling1D(pool_size=(5)))\n",
        "\n",
        "model.add(Flatten())\n",
        "\n",
        "model.add(Dense(256))\n",
        "model.add(Activation('relu'))\n",
        "model.add(Dense(256))\n",
        "model.add(Activation('relu'))\n",
        "\n",
        "model.add(Dense(6))\n",
        "model.add(Activation('softmax'))\n",
        "\n",
        "opt = tf.keras.optimizers.Adam(lr=0.0002 , decay=0.0)\n",
        "#opt = tf.keras.optimizers.RMSprop(lr=0.0001, rho=0.9, epsilon=1e-07, decay=0.0)\n",
        "#opt = tf.keras.optimizers.SGD(lr=0.001, momentum=0.0, decay=0.0, nesterov=False)"
      ],
      "metadata": {
        "id": "g74fXWVAC4Cr",
        "colab": {
          "base_uri": "https://localhost:8080/"
        },
        "outputId": "a37d80b2-5d60-4b37-b369-aa1b06c6bd60"
      },
      "execution_count": 11,
      "outputs": [
        {
          "output_type": "stream",
          "name": "stderr",
          "text": [
            "/usr/local/lib/python3.7/dist-packages/keras/optimizer_v2/adam.py:105: UserWarning:\n",
            "\n",
            "The `lr` argument is deprecated, use `learning_rate` instead.\n",
            "\n"
          ]
        }
      ]
    },
    {
      "cell_type": "code",
      "source": [
        "model.summary()"
      ],
      "metadata": {
        "colab": {
          "base_uri": "https://localhost:8080/"
        },
        "id": "H6ukOxAGC_I4",
        "outputId": "e5ab3fe9-6724-46c8-b4e8-873d396bb706"
      },
      "execution_count": 12,
      "outputs": [
        {
          "output_type": "stream",
          "name": "stdout",
          "text": [
            "Model: \"sequential\"\n",
            "_________________________________________________________________\n",
            " Layer (type)                Output Shape              Param #   \n",
            "=================================================================\n",
            " conv1d (Conv1D)             (None, 40, 128)           1152      \n",
            "                                                                 \n",
            " activation (Activation)     (None, 40, 128)           0         \n",
            "                                                                 \n",
            " dropout (Dropout)           (None, 40, 128)           0         \n",
            "                                                                 \n",
            " max_pooling1d (MaxPooling1D  (None, 8, 128)           0         \n",
            " )                                                               \n",
            "                                                                 \n",
            " conv1d_1 (Conv1D)           (None, 8, 256)            262400    \n",
            "                                                                 \n",
            " activation_1 (Activation)   (None, 8, 256)            0         \n",
            "                                                                 \n",
            " dropout_1 (Dropout)         (None, 8, 256)            0         \n",
            "                                                                 \n",
            " max_pooling1d_1 (MaxPooling  (None, 1, 256)           0         \n",
            " 1D)                                                             \n",
            "                                                                 \n",
            " flatten (Flatten)           (None, 256)               0         \n",
            "                                                                 \n",
            " dense (Dense)               (None, 256)               65792     \n",
            "                                                                 \n",
            " activation_2 (Activation)   (None, 256)               0         \n",
            "                                                                 \n",
            " dense_1 (Dense)             (None, 256)               65792     \n",
            "                                                                 \n",
            " activation_3 (Activation)   (None, 256)               0         \n",
            "                                                                 \n",
            " dense_2 (Dense)             (None, 6)                 1542      \n",
            "                                                                 \n",
            " activation_4 (Activation)   (None, 6)                 0         \n",
            "                                                                 \n",
            "=================================================================\n",
            "Total params: 396,678\n",
            "Trainable params: 396,678\n",
            "Non-trainable params: 0\n",
            "_________________________________________________________________\n"
          ]
        }
      ]
    },
    {
      "cell_type": "code",
      "source": [
        "model.compile(loss='sparse_categorical_crossentropy',\n",
        "              optimizer=opt,\n",
        "              metrics=['accuracy'])"
      ],
      "metadata": {
        "id": "AbMlLNk4DCBM"
      },
      "execution_count": 13,
      "outputs": []
    },
    {
      "cell_type": "code",
      "source": [
        "# Create an Instance of Early Stopping Callback.\n",
        "early_stopping_callback = EarlyStopping(monitor = 'val_loss', patience = 25, mode = 'min', restore_best_weights = True)\n",
        "\n",
        "cnnhistory=model.fit(x_traincnn, y_train, batch_size=16, epochs=500 , shuffle = True, \n",
        "                     validation_data=(X_valid, y_valid) , callbacks = [early_stopping_callback])"
      ],
      "metadata": {
        "colab": {
          "base_uri": "https://localhost:8080/"
        },
        "id": "RI1v2AuADFhy",
        "outputId": "401436e1-a084-43df-9c3e-7bedf7b21b8a"
      },
      "execution_count": 14,
      "outputs": [
        {
          "output_type": "stream",
          "name": "stdout",
          "text": [
            "Epoch 1/500\n",
            "104/104 [==============================] - 4s 11ms/step - loss: 4.6350 - accuracy: 0.1711 - val_loss: 1.9238 - val_accuracy: 0.2415\n",
            "Epoch 2/500\n",
            "104/104 [==============================] - 1s 7ms/step - loss: 2.6271 - accuracy: 0.1753 - val_loss: 1.8305 - val_accuracy: 0.1739\n",
            "Epoch 3/500\n",
            "104/104 [==============================] - 1s 7ms/step - loss: 2.1001 - accuracy: 0.2267 - val_loss: 1.7769 - val_accuracy: 0.2319\n",
            "Epoch 4/500\n",
            "104/104 [==============================] - 1s 8ms/step - loss: 2.0314 - accuracy: 0.2110 - val_loss: 1.8006 - val_accuracy: 0.2126\n",
            "Epoch 5/500\n",
            "104/104 [==============================] - 1s 7ms/step - loss: 1.9552 - accuracy: 0.2086 - val_loss: 1.7159 - val_accuracy: 0.3237\n",
            "Epoch 6/500\n",
            "104/104 [==============================] - 1s 7ms/step - loss: 1.8776 - accuracy: 0.2104 - val_loss: 1.7433 - val_accuracy: 0.2174\n",
            "Epoch 7/500\n",
            "104/104 [==============================] - 1s 7ms/step - loss: 1.8282 - accuracy: 0.2382 - val_loss: 1.7378 - val_accuracy: 0.2271\n",
            "Epoch 8/500\n",
            "104/104 [==============================] - 1s 7ms/step - loss: 1.7933 - accuracy: 0.2418 - val_loss: 1.7076 - val_accuracy: 0.3237\n",
            "Epoch 9/500\n",
            "104/104 [==============================] - 1s 7ms/step - loss: 1.8136 - accuracy: 0.2158 - val_loss: 1.6970 - val_accuracy: 0.2995\n",
            "Epoch 10/500\n",
            "104/104 [==============================] - 1s 8ms/step - loss: 1.7390 - accuracy: 0.2654 - val_loss: 1.6793 - val_accuracy: 0.2705\n",
            "Epoch 11/500\n",
            "104/104 [==============================] - 1s 8ms/step - loss: 1.7342 - accuracy: 0.2666 - val_loss: 1.6758 - val_accuracy: 0.3140\n",
            "Epoch 12/500\n",
            "104/104 [==============================] - 1s 7ms/step - loss: 1.7060 - accuracy: 0.2775 - val_loss: 1.6523 - val_accuracy: 0.3188\n",
            "Epoch 13/500\n",
            "104/104 [==============================] - 1s 8ms/step - loss: 1.6970 - accuracy: 0.2842 - val_loss: 1.6232 - val_accuracy: 0.3237\n",
            "Epoch 14/500\n",
            "104/104 [==============================] - 1s 7ms/step - loss: 1.6555 - accuracy: 0.3005 - val_loss: 1.6209 - val_accuracy: 0.3816\n",
            "Epoch 15/500\n",
            "104/104 [==============================] - 1s 7ms/step - loss: 1.6504 - accuracy: 0.3168 - val_loss: 1.6171 - val_accuracy: 0.3478\n",
            "Epoch 16/500\n",
            "104/104 [==============================] - 1s 7ms/step - loss: 1.6253 - accuracy: 0.3089 - val_loss: 1.5893 - val_accuracy: 0.3913\n",
            "Epoch 17/500\n",
            "104/104 [==============================] - 1s 7ms/step - loss: 1.6134 - accuracy: 0.3277 - val_loss: 1.5773 - val_accuracy: 0.3478\n",
            "Epoch 18/500\n",
            "104/104 [==============================] - 1s 8ms/step - loss: 1.5897 - accuracy: 0.3374 - val_loss: 1.5674 - val_accuracy: 0.3527\n",
            "Epoch 19/500\n",
            "104/104 [==============================] - 1s 8ms/step - loss: 1.5839 - accuracy: 0.3452 - val_loss: 1.5236 - val_accuracy: 0.4203\n",
            "Epoch 20/500\n",
            "104/104 [==============================] - 1s 7ms/step - loss: 1.5604 - accuracy: 0.3416 - val_loss: 1.5030 - val_accuracy: 0.3816\n",
            "Epoch 21/500\n",
            "104/104 [==============================] - 1s 11ms/step - loss: 1.5324 - accuracy: 0.3549 - val_loss: 1.5104 - val_accuracy: 0.4155\n",
            "Epoch 22/500\n",
            "104/104 [==============================] - 1s 11ms/step - loss: 1.5159 - accuracy: 0.3724 - val_loss: 1.4981 - val_accuracy: 0.4444\n",
            "Epoch 23/500\n",
            "104/104 [==============================] - 1s 9ms/step - loss: 1.4884 - accuracy: 0.3755 - val_loss: 1.4575 - val_accuracy: 0.4300\n",
            "Epoch 24/500\n",
            "104/104 [==============================] - 1s 8ms/step - loss: 1.4631 - accuracy: 0.3761 - val_loss: 1.4150 - val_accuracy: 0.4783\n",
            "Epoch 25/500\n",
            "104/104 [==============================] - 1s 8ms/step - loss: 1.4303 - accuracy: 0.3875 - val_loss: 1.4188 - val_accuracy: 0.3430\n",
            "Epoch 26/500\n",
            "104/104 [==============================] - 1s 8ms/step - loss: 1.3866 - accuracy: 0.4190 - val_loss: 1.4021 - val_accuracy: 0.4589\n",
            "Epoch 27/500\n",
            "104/104 [==============================] - 1s 7ms/step - loss: 1.3763 - accuracy: 0.4323 - val_loss: 1.3247 - val_accuracy: 0.5217\n",
            "Epoch 28/500\n",
            "104/104 [==============================] - 1s 6ms/step - loss: 1.3406 - accuracy: 0.4438 - val_loss: 1.2927 - val_accuracy: 0.5266\n",
            "Epoch 29/500\n",
            "104/104 [==============================] - 1s 7ms/step - loss: 1.3340 - accuracy: 0.4486 - val_loss: 1.3033 - val_accuracy: 0.5217\n",
            "Epoch 30/500\n",
            "104/104 [==============================] - 0s 4ms/step - loss: 1.3026 - accuracy: 0.4450 - val_loss: 1.2455 - val_accuracy: 0.5024\n",
            "Epoch 31/500\n",
            "104/104 [==============================] - 0s 4ms/step - loss: 1.2653 - accuracy: 0.4788 - val_loss: 1.2408 - val_accuracy: 0.5121\n",
            "Epoch 32/500\n",
            "104/104 [==============================] - 0s 4ms/step - loss: 1.2492 - accuracy: 0.4849 - val_loss: 1.2183 - val_accuracy: 0.5604\n",
            "Epoch 33/500\n",
            "104/104 [==============================] - 0s 4ms/step - loss: 1.2049 - accuracy: 0.4994 - val_loss: 1.2198 - val_accuracy: 0.5072\n",
            "Epoch 34/500\n",
            "104/104 [==============================] - 0s 4ms/step - loss: 1.2304 - accuracy: 0.4885 - val_loss: 1.1889 - val_accuracy: 0.5990\n",
            "Epoch 35/500\n",
            "104/104 [==============================] - 0s 4ms/step - loss: 1.1935 - accuracy: 0.4982 - val_loss: 1.1714 - val_accuracy: 0.5362\n",
            "Epoch 36/500\n",
            "104/104 [==============================] - 0s 4ms/step - loss: 1.1686 - accuracy: 0.5290 - val_loss: 1.1715 - val_accuracy: 0.5217\n",
            "Epoch 37/500\n",
            "104/104 [==============================] - 0s 4ms/step - loss: 1.1367 - accuracy: 0.5496 - val_loss: 1.1399 - val_accuracy: 0.5411\n",
            "Epoch 38/500\n",
            "104/104 [==============================] - 0s 4ms/step - loss: 1.1672 - accuracy: 0.5169 - val_loss: 1.1252 - val_accuracy: 0.5507\n",
            "Epoch 39/500\n",
            "104/104 [==============================] - 0s 4ms/step - loss: 1.1386 - accuracy: 0.5151 - val_loss: 1.1200 - val_accuracy: 0.5990\n",
            "Epoch 40/500\n",
            "104/104 [==============================] - 0s 4ms/step - loss: 1.1012 - accuracy: 0.5478 - val_loss: 1.1508 - val_accuracy: 0.4976\n",
            "Epoch 41/500\n",
            "104/104 [==============================] - 0s 4ms/step - loss: 1.1003 - accuracy: 0.5441 - val_loss: 1.1353 - val_accuracy: 0.5411\n",
            "Epoch 42/500\n",
            "104/104 [==============================] - 0s 4ms/step - loss: 1.0988 - accuracy: 0.5447 - val_loss: 1.0677 - val_accuracy: 0.5990\n",
            "Epoch 43/500\n",
            "104/104 [==============================] - 0s 4ms/step - loss: 1.0674 - accuracy: 0.5599 - val_loss: 1.0574 - val_accuracy: 0.6232\n",
            "Epoch 44/500\n",
            "104/104 [==============================] - 0s 4ms/step - loss: 1.0322 - accuracy: 0.5689 - val_loss: 1.0646 - val_accuracy: 0.5749\n",
            "Epoch 45/500\n",
            "104/104 [==============================] - 0s 4ms/step - loss: 1.0354 - accuracy: 0.5641 - val_loss: 1.0531 - val_accuracy: 0.6135\n",
            "Epoch 46/500\n",
            "104/104 [==============================] - 0s 4ms/step - loss: 1.0272 - accuracy: 0.5786 - val_loss: 1.0269 - val_accuracy: 0.6184\n",
            "Epoch 47/500\n",
            "104/104 [==============================] - 0s 4ms/step - loss: 0.9979 - accuracy: 0.5998 - val_loss: 0.9784 - val_accuracy: 0.6522\n",
            "Epoch 48/500\n",
            "104/104 [==============================] - 0s 4ms/step - loss: 0.9943 - accuracy: 0.5998 - val_loss: 1.0700 - val_accuracy: 0.5411\n",
            "Epoch 49/500\n",
            "104/104 [==============================] - 0s 4ms/step - loss: 0.9835 - accuracy: 0.5949 - val_loss: 0.9983 - val_accuracy: 0.6232\n",
            "Epoch 50/500\n",
            "104/104 [==============================] - 0s 4ms/step - loss: 0.9652 - accuracy: 0.6119 - val_loss: 1.0179 - val_accuracy: 0.6135\n",
            "Epoch 51/500\n",
            "104/104 [==============================] - 0s 4ms/step - loss: 0.9703 - accuracy: 0.6191 - val_loss: 1.0203 - val_accuracy: 0.5990\n",
            "Epoch 52/500\n",
            "104/104 [==============================] - 0s 5ms/step - loss: 0.9593 - accuracy: 0.6016 - val_loss: 0.9820 - val_accuracy: 0.6329\n",
            "Epoch 53/500\n",
            "104/104 [==============================] - 0s 4ms/step - loss: 0.9653 - accuracy: 0.6179 - val_loss: 0.9819 - val_accuracy: 0.6232\n",
            "Epoch 54/500\n",
            "104/104 [==============================] - 0s 4ms/step - loss: 0.9501 - accuracy: 0.6082 - val_loss: 0.9421 - val_accuracy: 0.6522\n",
            "Epoch 55/500\n",
            "104/104 [==============================] - 0s 4ms/step - loss: 0.9482 - accuracy: 0.6010 - val_loss: 0.9234 - val_accuracy: 0.6522\n",
            "Epoch 56/500\n",
            "104/104 [==============================] - 0s 4ms/step - loss: 0.9178 - accuracy: 0.6270 - val_loss: 0.9382 - val_accuracy: 0.6184\n",
            "Epoch 57/500\n",
            "104/104 [==============================] - 0s 4ms/step - loss: 0.9054 - accuracy: 0.6312 - val_loss: 0.9135 - val_accuracy: 0.6618\n",
            "Epoch 58/500\n",
            "104/104 [==============================] - 0s 4ms/step - loss: 0.8969 - accuracy: 0.6245 - val_loss: 0.8943 - val_accuracy: 0.6618\n",
            "Epoch 59/500\n",
            "104/104 [==============================] - 0s 4ms/step - loss: 0.8830 - accuracy: 0.6397 - val_loss: 0.9522 - val_accuracy: 0.6280\n",
            "Epoch 60/500\n",
            "104/104 [==============================] - 0s 4ms/step - loss: 0.8587 - accuracy: 0.6584 - val_loss: 0.9096 - val_accuracy: 0.6039\n",
            "Epoch 61/500\n",
            "104/104 [==============================] - 0s 5ms/step - loss: 0.8671 - accuracy: 0.6578 - val_loss: 0.9260 - val_accuracy: 0.6425\n",
            "Epoch 62/500\n",
            "104/104 [==============================] - 0s 4ms/step - loss: 0.8759 - accuracy: 0.6378 - val_loss: 0.9000 - val_accuracy: 0.6667\n",
            "Epoch 63/500\n",
            "104/104 [==============================] - 0s 4ms/step - loss: 0.8517 - accuracy: 0.6511 - val_loss: 0.9048 - val_accuracy: 0.6184\n",
            "Epoch 64/500\n",
            "104/104 [==============================] - 0s 4ms/step - loss: 0.8708 - accuracy: 0.6463 - val_loss: 0.8577 - val_accuracy: 0.6812\n",
            "Epoch 65/500\n",
            "104/104 [==============================] - 0s 4ms/step - loss: 0.8341 - accuracy: 0.6602 - val_loss: 0.8514 - val_accuracy: 0.6860\n",
            "Epoch 66/500\n",
            "104/104 [==============================] - 0s 4ms/step - loss: 0.8205 - accuracy: 0.6632 - val_loss: 0.8412 - val_accuracy: 0.7053\n",
            "Epoch 67/500\n",
            "104/104 [==============================] - 0s 4ms/step - loss: 0.8415 - accuracy: 0.6705 - val_loss: 0.8209 - val_accuracy: 0.6908\n",
            "Epoch 68/500\n",
            "104/104 [==============================] - 0s 4ms/step - loss: 0.8200 - accuracy: 0.6687 - val_loss: 0.8277 - val_accuracy: 0.7005\n",
            "Epoch 69/500\n",
            "104/104 [==============================] - 0s 4ms/step - loss: 0.8110 - accuracy: 0.6778 - val_loss: 0.8839 - val_accuracy: 0.6377\n",
            "Epoch 70/500\n",
            "104/104 [==============================] - 0s 4ms/step - loss: 0.8063 - accuracy: 0.6566 - val_loss: 0.8432 - val_accuracy: 0.6763\n",
            "Epoch 71/500\n",
            "104/104 [==============================] - 0s 4ms/step - loss: 0.7911 - accuracy: 0.6802 - val_loss: 0.8260 - val_accuracy: 0.6908\n",
            "Epoch 72/500\n",
            "104/104 [==============================] - 0s 4ms/step - loss: 0.7948 - accuracy: 0.6759 - val_loss: 0.8280 - val_accuracy: 0.7101\n",
            "Epoch 73/500\n",
            "104/104 [==============================] - 0s 4ms/step - loss: 0.7791 - accuracy: 0.6838 - val_loss: 0.8249 - val_accuracy: 0.6715\n",
            "Epoch 74/500\n",
            "104/104 [==============================] - 0s 4ms/step - loss: 0.7728 - accuracy: 0.6923 - val_loss: 0.8369 - val_accuracy: 0.6860\n",
            "Epoch 75/500\n",
            "104/104 [==============================] - 0s 4ms/step - loss: 0.7676 - accuracy: 0.6911 - val_loss: 0.8245 - val_accuracy: 0.6908\n",
            "Epoch 76/500\n",
            "104/104 [==============================] - 0s 4ms/step - loss: 0.7789 - accuracy: 0.6880 - val_loss: 0.8222 - val_accuracy: 0.7005\n",
            "Epoch 77/500\n",
            "104/104 [==============================] - 0s 5ms/step - loss: 0.7361 - accuracy: 0.7019 - val_loss: 0.8381 - val_accuracy: 0.6667\n",
            "Epoch 78/500\n",
            "104/104 [==============================] - 0s 4ms/step - loss: 0.7323 - accuracy: 0.7025 - val_loss: 0.7506 - val_accuracy: 0.7295\n",
            "Epoch 79/500\n",
            "104/104 [==============================] - 0s 5ms/step - loss: 0.7279 - accuracy: 0.7025 - val_loss: 0.8215 - val_accuracy: 0.6715\n",
            "Epoch 80/500\n",
            "104/104 [==============================] - 0s 4ms/step - loss: 0.7337 - accuracy: 0.7068 - val_loss: 0.7830 - val_accuracy: 0.7246\n",
            "Epoch 81/500\n",
            "104/104 [==============================] - 0s 4ms/step - loss: 0.7262 - accuracy: 0.7056 - val_loss: 0.7655 - val_accuracy: 0.7343\n",
            "Epoch 82/500\n",
            "104/104 [==============================] - 0s 4ms/step - loss: 0.7201 - accuracy: 0.7116 - val_loss: 0.7689 - val_accuracy: 0.7440\n",
            "Epoch 83/500\n",
            "104/104 [==============================] - 0s 4ms/step - loss: 0.7298 - accuracy: 0.7050 - val_loss: 0.7504 - val_accuracy: 0.7585\n",
            "Epoch 84/500\n",
            "104/104 [==============================] - 0s 4ms/step - loss: 0.7040 - accuracy: 0.7092 - val_loss: 0.7871 - val_accuracy: 0.7005\n",
            "Epoch 85/500\n",
            "104/104 [==============================] - 0s 4ms/step - loss: 0.6933 - accuracy: 0.7152 - val_loss: 0.7391 - val_accuracy: 0.7198\n",
            "Epoch 86/500\n",
            "104/104 [==============================] - 0s 4ms/step - loss: 0.6773 - accuracy: 0.7170 - val_loss: 0.7775 - val_accuracy: 0.7391\n",
            "Epoch 87/500\n",
            "104/104 [==============================] - 0s 4ms/step - loss: 0.6766 - accuracy: 0.7189 - val_loss: 0.7899 - val_accuracy: 0.7101\n",
            "Epoch 88/500\n",
            "104/104 [==============================] - 0s 4ms/step - loss: 0.6531 - accuracy: 0.7418 - val_loss: 0.7429 - val_accuracy: 0.7198\n",
            "Epoch 89/500\n",
            "104/104 [==============================] - 0s 4ms/step - loss: 0.6497 - accuracy: 0.7455 - val_loss: 0.7651 - val_accuracy: 0.7295\n",
            "Epoch 90/500\n",
            "104/104 [==============================] - 0s 4ms/step - loss: 0.6328 - accuracy: 0.7539 - val_loss: 0.7502 - val_accuracy: 0.7198\n",
            "Epoch 91/500\n",
            "104/104 [==============================] - 0s 4ms/step - loss: 0.6434 - accuracy: 0.7461 - val_loss: 0.7165 - val_accuracy: 0.7246\n",
            "Epoch 92/500\n",
            "104/104 [==============================] - 0s 4ms/step - loss: 0.6382 - accuracy: 0.7424 - val_loss: 0.7196 - val_accuracy: 0.7295\n",
            "Epoch 93/500\n",
            "104/104 [==============================] - 0s 4ms/step - loss: 0.6007 - accuracy: 0.7696 - val_loss: 0.7177 - val_accuracy: 0.7391\n",
            "Epoch 94/500\n",
            "104/104 [==============================] - 0s 4ms/step - loss: 0.6218 - accuracy: 0.7618 - val_loss: 0.7165 - val_accuracy: 0.7246\n",
            "Epoch 95/500\n",
            "104/104 [==============================] - 0s 4ms/step - loss: 0.6215 - accuracy: 0.7545 - val_loss: 0.7405 - val_accuracy: 0.7536\n",
            "Epoch 96/500\n",
            "104/104 [==============================] - 0s 4ms/step - loss: 0.6239 - accuracy: 0.7376 - val_loss: 0.7131 - val_accuracy: 0.7585\n",
            "Epoch 97/500\n",
            "104/104 [==============================] - 0s 4ms/step - loss: 0.6195 - accuracy: 0.7582 - val_loss: 0.7126 - val_accuracy: 0.7440\n",
            "Epoch 98/500\n",
            "104/104 [==============================] - 0s 4ms/step - loss: 0.5975 - accuracy: 0.7582 - val_loss: 0.7379 - val_accuracy: 0.7343\n",
            "Epoch 99/500\n",
            "104/104 [==============================] - 0s 4ms/step - loss: 0.5864 - accuracy: 0.7709 - val_loss: 0.7213 - val_accuracy: 0.7295\n",
            "Epoch 100/500\n",
            "104/104 [==============================] - 0s 4ms/step - loss: 0.5819 - accuracy: 0.7709 - val_loss: 0.6974 - val_accuracy: 0.7778\n",
            "Epoch 101/500\n",
            "104/104 [==============================] - 0s 4ms/step - loss: 0.5675 - accuracy: 0.7817 - val_loss: 0.6909 - val_accuracy: 0.7536\n",
            "Epoch 102/500\n",
            "104/104 [==============================] - 0s 5ms/step - loss: 0.5939 - accuracy: 0.7660 - val_loss: 0.6717 - val_accuracy: 0.7440\n",
            "Epoch 103/500\n",
            "104/104 [==============================] - 0s 4ms/step - loss: 0.5780 - accuracy: 0.7751 - val_loss: 0.7102 - val_accuracy: 0.7488\n",
            "Epoch 104/500\n",
            "104/104 [==============================] - 0s 4ms/step - loss: 0.5323 - accuracy: 0.7902 - val_loss: 0.7006 - val_accuracy: 0.7585\n",
            "Epoch 105/500\n",
            "104/104 [==============================] - 0s 4ms/step - loss: 0.5354 - accuracy: 0.7914 - val_loss: 0.6982 - val_accuracy: 0.7585\n",
            "Epoch 106/500\n",
            "104/104 [==============================] - 0s 4ms/step - loss: 0.5639 - accuracy: 0.7799 - val_loss: 0.6676 - val_accuracy: 0.7681\n",
            "Epoch 107/500\n",
            "104/104 [==============================] - 0s 4ms/step - loss: 0.5563 - accuracy: 0.7757 - val_loss: 0.6893 - val_accuracy: 0.7246\n",
            "Epoch 108/500\n",
            "104/104 [==============================] - 0s 4ms/step - loss: 0.5396 - accuracy: 0.7878 - val_loss: 0.6936 - val_accuracy: 0.7391\n",
            "Epoch 109/500\n",
            "104/104 [==============================] - 0s 4ms/step - loss: 0.5347 - accuracy: 0.7902 - val_loss: 0.6953 - val_accuracy: 0.7536\n",
            "Epoch 110/500\n",
            "104/104 [==============================] - 0s 4ms/step - loss: 0.5276 - accuracy: 0.7969 - val_loss: 0.7194 - val_accuracy: 0.7343\n",
            "Epoch 111/500\n",
            "104/104 [==============================] - 0s 4ms/step - loss: 0.5575 - accuracy: 0.7823 - val_loss: 0.6610 - val_accuracy: 0.7633\n",
            "Epoch 112/500\n",
            "104/104 [==============================] - 0s 4ms/step - loss: 0.5086 - accuracy: 0.7969 - val_loss: 0.6885 - val_accuracy: 0.7729\n",
            "Epoch 113/500\n",
            "104/104 [==============================] - 0s 4ms/step - loss: 0.5172 - accuracy: 0.7956 - val_loss: 0.6616 - val_accuracy: 0.7536\n",
            "Epoch 114/500\n",
            "104/104 [==============================] - 0s 4ms/step - loss: 0.4851 - accuracy: 0.8023 - val_loss: 0.6870 - val_accuracy: 0.7391\n",
            "Epoch 115/500\n",
            "104/104 [==============================] - 0s 5ms/step - loss: 0.4875 - accuracy: 0.8132 - val_loss: 0.6867 - val_accuracy: 0.7778\n",
            "Epoch 116/500\n",
            "104/104 [==============================] - 0s 4ms/step - loss: 0.4938 - accuracy: 0.8132 - val_loss: 0.7245 - val_accuracy: 0.7295\n",
            "Epoch 117/500\n",
            "104/104 [==============================] - 0s 4ms/step - loss: 0.5039 - accuracy: 0.7963 - val_loss: 0.6868 - val_accuracy: 0.7295\n",
            "Epoch 118/500\n",
            "104/104 [==============================] - 0s 4ms/step - loss: 0.4968 - accuracy: 0.8126 - val_loss: 0.6583 - val_accuracy: 0.7633\n",
            "Epoch 119/500\n",
            "104/104 [==============================] - 0s 4ms/step - loss: 0.4813 - accuracy: 0.8174 - val_loss: 0.6687 - val_accuracy: 0.7488\n",
            "Epoch 120/500\n",
            "104/104 [==============================] - 1s 5ms/step - loss: 0.4997 - accuracy: 0.8077 - val_loss: 0.6279 - val_accuracy: 0.7874\n",
            "Epoch 121/500\n",
            "104/104 [==============================] - 0s 4ms/step - loss: 0.4488 - accuracy: 0.8289 - val_loss: 0.6907 - val_accuracy: 0.7536\n",
            "Epoch 122/500\n",
            "104/104 [==============================] - 0s 4ms/step - loss: 0.4642 - accuracy: 0.8204 - val_loss: 0.6222 - val_accuracy: 0.7778\n",
            "Epoch 123/500\n",
            "104/104 [==============================] - 0s 4ms/step - loss: 0.4562 - accuracy: 0.8283 - val_loss: 0.6363 - val_accuracy: 0.7585\n",
            "Epoch 124/500\n",
            "104/104 [==============================] - 0s 4ms/step - loss: 0.4519 - accuracy: 0.8253 - val_loss: 0.6832 - val_accuracy: 0.7585\n",
            "Epoch 125/500\n",
            "104/104 [==============================] - 0s 4ms/step - loss: 0.4338 - accuracy: 0.8283 - val_loss: 0.6067 - val_accuracy: 0.7971\n",
            "Epoch 126/500\n",
            "104/104 [==============================] - 0s 4ms/step - loss: 0.4374 - accuracy: 0.8259 - val_loss: 0.6731 - val_accuracy: 0.7150\n",
            "Epoch 127/500\n",
            "104/104 [==============================] - 0s 4ms/step - loss: 0.4542 - accuracy: 0.8253 - val_loss: 0.6231 - val_accuracy: 0.8164\n",
            "Epoch 128/500\n",
            "104/104 [==============================] - 0s 5ms/step - loss: 0.4305 - accuracy: 0.8398 - val_loss: 0.7013 - val_accuracy: 0.7729\n",
            "Epoch 129/500\n",
            "104/104 [==============================] - 0s 4ms/step - loss: 0.4242 - accuracy: 0.8356 - val_loss: 0.7015 - val_accuracy: 0.7585\n",
            "Epoch 130/500\n",
            "104/104 [==============================] - 0s 4ms/step - loss: 0.3868 - accuracy: 0.8482 - val_loss: 0.6648 - val_accuracy: 0.7488\n",
            "Epoch 131/500\n",
            "104/104 [==============================] - 0s 4ms/step - loss: 0.3923 - accuracy: 0.8507 - val_loss: 0.6740 - val_accuracy: 0.7826\n",
            "Epoch 132/500\n",
            "104/104 [==============================] - 0s 4ms/step - loss: 0.4142 - accuracy: 0.8410 - val_loss: 0.6557 - val_accuracy: 0.7681\n",
            "Epoch 133/500\n",
            "104/104 [==============================] - 0s 4ms/step - loss: 0.4288 - accuracy: 0.8362 - val_loss: 0.6762 - val_accuracy: 0.7633\n",
            "Epoch 134/500\n",
            "104/104 [==============================] - 0s 4ms/step - loss: 0.3792 - accuracy: 0.8513 - val_loss: 0.6776 - val_accuracy: 0.7778\n",
            "Epoch 135/500\n",
            "104/104 [==============================] - 0s 4ms/step - loss: 0.4156 - accuracy: 0.8398 - val_loss: 0.6438 - val_accuracy: 0.7778\n",
            "Epoch 136/500\n",
            "104/104 [==============================] - 0s 4ms/step - loss: 0.4045 - accuracy: 0.8398 - val_loss: 0.7049 - val_accuracy: 0.7440\n",
            "Epoch 137/500\n",
            "104/104 [==============================] - 0s 4ms/step - loss: 0.4445 - accuracy: 0.8265 - val_loss: 0.6802 - val_accuracy: 0.7729\n",
            "Epoch 138/500\n",
            "104/104 [==============================] - 0s 4ms/step - loss: 0.3831 - accuracy: 0.8489 - val_loss: 0.6456 - val_accuracy: 0.7923\n",
            "Epoch 139/500\n",
            "104/104 [==============================] - 0s 4ms/step - loss: 0.3672 - accuracy: 0.8579 - val_loss: 0.6503 - val_accuracy: 0.7874\n",
            "Epoch 140/500\n",
            "104/104 [==============================] - 0s 4ms/step - loss: 0.3947 - accuracy: 0.8495 - val_loss: 0.6893 - val_accuracy: 0.7681\n",
            "Epoch 141/500\n",
            "104/104 [==============================] - 0s 4ms/step - loss: 0.3783 - accuracy: 0.8585 - val_loss: 0.6616 - val_accuracy: 0.7729\n",
            "Epoch 142/500\n",
            "104/104 [==============================] - 0s 5ms/step - loss: 0.3930 - accuracy: 0.8501 - val_loss: 0.6263 - val_accuracy: 0.8019\n",
            "Epoch 143/500\n",
            "104/104 [==============================] - 0s 4ms/step - loss: 0.3426 - accuracy: 0.8694 - val_loss: 0.6410 - val_accuracy: 0.7826\n",
            "Epoch 144/500\n",
            "104/104 [==============================] - 0s 4ms/step - loss: 0.3695 - accuracy: 0.8585 - val_loss: 0.6400 - val_accuracy: 0.7923\n",
            "Epoch 145/500\n",
            "104/104 [==============================] - 0s 4ms/step - loss: 0.3505 - accuracy: 0.8634 - val_loss: 0.7364 - val_accuracy: 0.7488\n",
            "Epoch 146/500\n",
            "104/104 [==============================] - 0s 4ms/step - loss: 0.3902 - accuracy: 0.8440 - val_loss: 0.6485 - val_accuracy: 0.7729\n",
            "Epoch 147/500\n",
            "104/104 [==============================] - 0s 4ms/step - loss: 0.3323 - accuracy: 0.8736 - val_loss: 0.6982 - val_accuracy: 0.7874\n",
            "Epoch 148/500\n",
            "104/104 [==============================] - 0s 4ms/step - loss: 0.3588 - accuracy: 0.8658 - val_loss: 0.6979 - val_accuracy: 0.7826\n",
            "Epoch 149/500\n",
            "104/104 [==============================] - 0s 4ms/step - loss: 0.3285 - accuracy: 0.8755 - val_loss: 0.6566 - val_accuracy: 0.7971\n",
            "Epoch 150/500\n",
            "104/104 [==============================] - 0s 4ms/step - loss: 0.3348 - accuracy: 0.8700 - val_loss: 0.6348 - val_accuracy: 0.7874\n"
          ]
        }
      ]
    },
    {
      "cell_type": "code",
      "source": [
        "plt.plot(cnnhistory.history['loss'])\n",
        "plt.plot(cnnhistory.history['val_loss'])\n",
        "plt.title('model loss')\n",
        "plt.ylabel('loss')\n",
        "plt.xlabel('epoch')\n",
        "plt.legend(['train','test'], loc='upper left')\n",
        "plt.show()"
      ],
      "metadata": {
        "colab": {
          "base_uri": "https://localhost:8080/",
          "height": 295
        },
        "id": "oQYnuaCrDH_A",
        "outputId": "c94c871c-412e-4855-f7c8-d144b4b80f72"
      },
      "execution_count": 15,
      "outputs": [
        {
          "output_type": "display_data",
          "data": {
            "text/plain": [
              "<Figure size 432x288 with 1 Axes>"
            ],
            "image/png": "[encoded data removed]"
          },
          "metadata": {
            "needs_background": "light"
          }
        }
      ]
    },
    {
      "cell_type": "code",
      "source": [
        "plt.plot(cnnhistory.history['accuracy'])\n",
        "plt.plot(cnnhistory.history['val_accuracy'])\n",
        "plt.title('model accuracy')\n",
        "plt.ylabel('accuracy')\n",
        "plt.xlabel('epoch')\n",
        "plt.legend(['train','test'], loc='upper left')\n",
        "plt.show()"
      ],
      "metadata": {
        "colab": {
          "base_uri": "https://localhost:8080/",
          "height": 295
        },
        "id": "IFkTuO8nDNdq",
        "outputId": "86be305c-4c77-4ab8-f23c-330b3c5af3b4"
      },
      "execution_count": 16,
      "outputs": [
        {
          "output_type": "display_data",
          "data": {
            "text/plain": [
              "<Figure size 432x288 with 1 Axes>"
            ],
            "image/png": "[encoded data removed]"
          },
          "metadata": {
            "needs_background": "light"
          }
        }
      ]
    },
    {
      "cell_type": "code",
      "source": [
        "predictions = model.predict(x_testcnn)"
      ],
      "metadata": {
        "id": "A2xtrN5wDQgY"
      },
      "execution_count": 17,
      "outputs": []
    },
    {
      "cell_type": "code",
      "source": [
        "predictions"
      ],
      "metadata": {
        "colab": {
          "base_uri": "https://localhost:8080/"
        },
        "id": "_f_ohjXKDUpY",
        "outputId": "dc96878e-7b2a-4a76-c9a4-5823f1740289"
      },
      "execution_count": 18,
      "outputs": [
        {
          "output_type": "execute_result",
          "data": {
            "text/plain": [
              "array([[3.07674468e-01, 1.00282289e-01, 1.32365793e-01, 2.69333959e-01,\n",
              "        9.12550390e-02, 9.90884677e-02],\n",
              "       [1.77124195e-04, 1.12538357e-04, 3.14953195e-06, 9.65356052e-01,\n",
              "        3.04451678e-04, 3.40467915e-02],\n",
              "       [1.07726254e-01, 5.71067668e-02, 1.82355613e-01, 3.51819336e-01,\n",
              "        4.05114219e-02, 2.60480553e-01],\n",
              "       ...,\n",
              "       [1.17327909e-04, 2.18528839e-06, 1.07809424e-03, 8.76700971e-04,\n",
              "        9.73467708e-01, 2.44579576e-02],\n",
              "       [7.52615510e-04, 6.91255271e-01, 2.79425919e-01, 1.15862861e-02,\n",
              "        4.07488132e-03, 1.29050305e-02],\n",
              "       [1.25988357e-04, 1.56541591e-05, 8.15826748e-03, 2.54032948e-05,\n",
              "        9.88996029e-01, 2.67859129e-03]], dtype=float32)"
            ]
          },
          "metadata": {},
          "execution_count": 18
        }
      ]
    },
    {
      "cell_type": "code",
      "source": [
        "y_test"
      ],
      "metadata": {
        "colab": {
          "base_uri": "https://localhost:8080/"
        },
        "id": "cmA2bFgsDW3D",
        "outputId": "f98f2b9b-8bd1-4007-b489-5f2eeb87b289"
      },
      "execution_count": 19,
      "outputs": [
        {
          "output_type": "execute_result",
          "data": {
            "text/plain": [
              "array([3, 3, 3, 0, 4, 4, 1, 2, 5, 0, 5, 3, 2, 2, 1, 4, 4, 5, 2, 4, 1, 2,\n",
              "       3, 5, 4, 2, 1, 2, 2, 2, 2, 5, 2, 5, 3, 1, 2, 0, 4, 5, 2, 3, 2, 2,\n",
              "       5, 2, 0, 1, 3, 4, 4, 5, 1, 1, 4, 4, 5, 1, 1, 1, 0, 1, 5, 0, 4, 1,\n",
              "       1, 0, 1, 4, 1, 0, 4, 1, 3, 1, 2, 2, 1, 2, 3, 0, 5, 3, 5, 5, 2, 4,\n",
              "       5, 1, 5, 1, 5, 3, 4, 1, 4, 1, 5, 4, 5, 1, 2, 1, 1, 5, 1, 3, 2, 5,\n",
              "       2, 1, 3, 5, 4, 4, 0, 0, 3, 1, 2, 2, 3, 5, 1, 5, 3, 4, 2, 2, 0, 2,\n",
              "       2, 5, 5, 0, 3, 3, 2, 2, 0, 3, 4, 0, 4, 2, 4, 5, 4, 1, 5, 3, 2, 2,\n",
              "       5, 4, 3, 3, 4, 3, 3, 4, 1, 5, 2, 3, 2, 2, 0, 2, 1, 3, 1, 2, 2, 5,\n",
              "       5, 1, 4, 2, 2, 1, 1, 3, 3, 5, 5, 2, 5, 1, 5, 0, 3, 3, 0, 5, 1, 4,\n",
              "       1, 4, 2, 5, 5, 1, 4, 2, 4])"
            ]
          },
          "metadata": {},
          "execution_count": 19
        }
      ]
    },
    {
      "cell_type": "code",
      "source": [
        "new_Ytest = y_test.astype(int)"
      ],
      "metadata": {
        "id": "0PHDKWJWDY3g"
      },
      "execution_count": 20,
      "outputs": []
    },
    {
      "cell_type": "code",
      "source": [
        "new_Ytest"
      ],
      "metadata": {
        "colab": {
          "base_uri": "https://localhost:8080/"
        },
        "id": "k68v2i-pDbZE",
        "outputId": "72c5f815-15a6-4c69-8fd6-8da378f38613"
      },
      "execution_count": 21,
      "outputs": [
        {
          "output_type": "execute_result",
          "data": {
            "text/plain": [
              "array([3, 3, 3, 0, 4, 4, 1, 2, 5, 0, 5, 3, 2, 2, 1, 4, 4, 5, 2, 4, 1, 2,\n",
              "       3, 5, 4, 2, 1, 2, 2, 2, 2, 5, 2, 5, 3, 1, 2, 0, 4, 5, 2, 3, 2, 2,\n",
              "       5, 2, 0, 1, 3, 4, 4, 5, 1, 1, 4, 4, 5, 1, 1, 1, 0, 1, 5, 0, 4, 1,\n",
              "       1, 0, 1, 4, 1, 0, 4, 1, 3, 1, 2, 2, 1, 2, 3, 0, 5, 3, 5, 5, 2, 4,\n",
              "       5, 1, 5, 1, 5, 3, 4, 1, 4, 1, 5, 4, 5, 1, 2, 1, 1, 5, 1, 3, 2, 5,\n",
              "       2, 1, 3, 5, 4, 4, 0, 0, 3, 1, 2, 2, 3, 5, 1, 5, 3, 4, 2, 2, 0, 2,\n",
              "       2, 5, 5, 0, 3, 3, 2, 2, 0, 3, 4, 0, 4, 2, 4, 5, 4, 1, 5, 3, 2, 2,\n",
              "       5, 4, 3, 3, 4, 3, 3, 4, 1, 5, 2, 3, 2, 2, 0, 2, 1, 3, 1, 2, 2, 5,\n",
              "       5, 1, 4, 2, 2, 1, 1, 3, 3, 5, 5, 2, 5, 1, 5, 0, 3, 3, 0, 5, 1, 4,\n",
              "       1, 4, 2, 5, 5, 1, 4, 2, 4])"
            ]
          },
          "metadata": {},
          "execution_count": 21
        }
      ]
    },
    {
      "cell_type": "code",
      "source": [
        "preds1=predictions.argmax(axis=1)\n",
        "preds1"
      ],
      "metadata": {
        "colab": {
          "base_uri": "https://localhost:8080/"
        },
        "id": "4_cAI39VFhtp",
        "outputId": "d0f6bd38-a9de-4879-d1d0-c5df3782693a"
      },
      "execution_count": 22,
      "outputs": [
        {
          "output_type": "execute_result",
          "data": {
            "text/plain": [
              "array([0, 3, 3, 2, 4, 4, 1, 2, 5, 1, 5, 3, 1, 2, 1, 5, 4, 5, 3, 4, 2, 2,\n",
              "       3, 5, 4, 2, 1, 1, 2, 2, 2, 5, 2, 5, 3, 1, 1, 0, 4, 5, 1, 5, 2, 2,\n",
              "       5, 2, 1, 1, 3, 4, 4, 5, 1, 1, 4, 4, 5, 1, 1, 1, 3, 1, 5, 3, 4, 1,\n",
              "       1, 1, 1, 4, 1, 5, 4, 1, 5, 2, 2, 2, 1, 2, 1, 0, 5, 3, 5, 5, 2, 5,\n",
              "       5, 1, 5, 1, 5, 3, 2, 1, 4, 1, 5, 4, 5, 1, 5, 1, 1, 5, 1, 5, 2, 2,\n",
              "       5, 2, 3, 5, 4, 4, 2, 0, 3, 1, 1, 2, 3, 3, 1, 3, 3, 5, 2, 5, 0, 2,\n",
              "       2, 3, 3, 0, 5, 3, 2, 5, 0, 5, 4, 0, 4, 4, 4, 5, 4, 1, 5, 3, 2, 2,\n",
              "       5, 4, 3, 3, 4, 5, 5, 4, 2, 5, 2, 3, 2, 2, 0, 2, 1, 5, 1, 4, 4, 5,\n",
              "       5, 1, 4, 2, 4, 1, 1, 3, 3, 5, 5, 2, 5, 1, 2, 1, 3, 3, 2, 5, 1, 4,\n",
              "       1, 4, 5, 2, 5, 1, 4, 1, 4])"
            ]
          },
          "metadata": {},
          "execution_count": 22
        }
      ]
    },
    {
      "cell_type": "code",
      "source": [
        "abc = preds1.astype(int).flatten()"
      ],
      "metadata": {
        "id": "H4WEmM60NfQn"
      },
      "execution_count": 23,
      "outputs": []
    },
    {
      "cell_type": "code",
      "source": [
        "from sklearn.metrics import confusion_matrix\n",
        "c = confusion_matrix(new_Ytest, abc) \n",
        "c"
      ],
      "metadata": {
        "colab": {
          "base_uri": "https://localhost:8080/"
        },
        "id": "bKEBeEBlFjB8",
        "outputId": "8887b358-8cdc-4e47-df02-2c060e698b9b"
      },
      "execution_count": 24,
      "outputs": [
        {
          "output_type": "execute_result",
          "data": {
            "text/plain": [
              "array([[ 8,  4,  3,  2,  0,  1],\n",
              "       [ 0, 37,  4,  0,  0,  0],\n",
              "       [ 0,  6, 29,  1,  4,  5],\n",
              "       [ 1,  1,  0, 21,  0,  8],\n",
              "       [ 0,  0,  1,  0, 29,  3],\n",
              "       [ 0,  0,  3,  4,  0, 32]])"
            ]
          },
          "metadata": {},
          "execution_count": 24
        }
      ]
    },
    {
      "cell_type": "code",
      "source": [
        "y_test"
      ],
      "metadata": {
        "colab": {
          "base_uri": "https://localhost:8080/"
        },
        "id": "m4RjG7LWLSQx",
        "outputId": "c64fdef6-c270-482b-ddfe-3825a773cd01"
      },
      "execution_count": 25,
      "outputs": [
        {
          "output_type": "execute_result",
          "data": {
            "text/plain": [
              "array([3, 3, 3, 0, 4, 4, 1, 2, 5, 0, 5, 3, 2, 2, 1, 4, 4, 5, 2, 4, 1, 2,\n",
              "       3, 5, 4, 2, 1, 2, 2, 2, 2, 5, 2, 5, 3, 1, 2, 0, 4, 5, 2, 3, 2, 2,\n",
              "       5, 2, 0, 1, 3, 4, 4, 5, 1, 1, 4, 4, 5, 1, 1, 1, 0, 1, 5, 0, 4, 1,\n",
              "       1, 0, 1, 4, 1, 0, 4, 1, 3, 1, 2, 2, 1, 2, 3, 0, 5, 3, 5, 5, 2, 4,\n",
              "       5, 1, 5, 1, 5, 3, 4, 1, 4, 1, 5, 4, 5, 1, 2, 1, 1, 5, 1, 3, 2, 5,\n",
              "       2, 1, 3, 5, 4, 4, 0, 0, 3, 1, 2, 2, 3, 5, 1, 5, 3, 4, 2, 2, 0, 2,\n",
              "       2, 5, 5, 0, 3, 3, 2, 2, 0, 3, 4, 0, 4, 2, 4, 5, 4, 1, 5, 3, 2, 2,\n",
              "       5, 4, 3, 3, 4, 3, 3, 4, 1, 5, 2, 3, 2, 2, 0, 2, 1, 3, 1, 2, 2, 5,\n",
              "       5, 1, 4, 2, 2, 1, 1, 3, 3, 5, 5, 2, 5, 1, 5, 0, 3, 3, 0, 5, 1, 4,\n",
              "       1, 4, 2, 5, 5, 1, 4, 2, 4])"
            ]
          },
          "metadata": {},
          "execution_count": 25
        }
      ]
    },
    {
      "cell_type": "code",
      "source": [
        "loss, acc =model.evaluate(x_testcnn, y_test)\n",
        "print(\"Restored model, accuracy: {:5.2f}%\".format(100*acc))"
      ],
      "metadata": {
        "colab": {
          "base_uri": "https://localhost:8080/"
        },
        "id": "n3kzoqPkDqqS",
        "outputId": "821146c4-7361-42c4-e481-9aaaa12d1533"
      },
      "execution_count": 26,
      "outputs": [
        {
          "output_type": "stream",
          "name": "stdout",
          "text": [
            "7/7 [==============================] - 0s 3ms/step - loss: 0.6596 - accuracy: 0.7536\n",
            "Restored model, accuracy: 75.36%\n"
          ]
        }
      ]
    },
    {
      "cell_type": "code",
      "source": [
        "loss, acc =model.evaluate(X_train, y_train)\n",
        "print(\"Restored model train, accuracy: {:5.2f}%\".format(100*acc))"
      ],
      "metadata": {
        "id": "fJDTGH_OUX0z",
        "colab": {
          "base_uri": "https://localhost:8080/"
        },
        "outputId": "5aea45be-443b-44f7-b260-fa6d70b3c3ae"
      },
      "execution_count": 27,
      "outputs": [
        {
          "output_type": "stream",
          "name": "stdout",
          "text": [
            "52/52 [==============================] - 0s 4ms/step - loss: 0.3383 - accuracy: 0.9123\n",
            "Restored model train, accuracy: 91.23%\n"
          ]
        }
      ]
    },
    {
      "cell_type": "code",
      "source": [
        "from sklearn.metrics import classification_report, confusion_matrix,accuracy_score\n",
        "import seaborn as sn\n",
        "\n",
        "print(classification_report(new_Ytest,abc))\n",
        "\n",
        "acc = float(accuracy_score(new_Ytest,abc))*100\n",
        "print(\"----accuracy score %s ----\" % acc)\n",
        "\n",
        "cm = confusion_matrix(new_Ytest,abc)\n",
        "#df_cm = pd.DataFrame(cm)\n",
        "class_names = ['neutral','calm', 'happy','sad','angry', 'fearful' ]\n",
        "df_cm = pd.DataFrame(cm, index=class_names, columns=class_names,)\n",
        "sn.heatmap(df_cm, annot=True, fmt='')\n",
        "plt.show()"
      ],
      "metadata": {
        "colab": {
          "base_uri": "https://localhost:8080/",
          "height": 508
        },
        "id": "SfSC3El94LZg",
        "outputId": "fb974e66-ac20-44c1-9968-2bfa0739aa44"
      },
      "execution_count": 28,
      "outputs": [
        {
          "output_type": "stream",
          "name": "stdout",
          "text": [
            "              precision    recall  f1-score   support\n",
            "\n",
            "           0       0.89      0.44      0.59        18\n",
            "           1       0.77      0.90      0.83        41\n",
            "           2       0.72      0.64      0.68        45\n",
            "           3       0.75      0.68      0.71        31\n",
            "           4       0.88      0.88      0.88        33\n",
            "           5       0.65      0.82      0.73        39\n",
            "\n",
            "    accuracy                           0.75       207\n",
            "   macro avg       0.78      0.73      0.74       207\n",
            "weighted avg       0.76      0.75      0.75       207\n",
            "\n",
            "----accuracy score 75.36231884057972 ----\n"
          ]
        },
        {
          "output_type": "display_data",
          "data": {
            "text/plain": [
              "<Figure size 432x288 with 2 Axes>"
            ],
            "image/png": "[encoded data removed]"
          },
          "metadata": {
            "needs_background": "light"
          }
        }
      ]
    }
  ]
}