{
  "cells": [
    {
      "cell_type": "code",
      "execution_count": 1,
      "metadata": {
        "colab": {
          "base_uri": "https://localhost:8080/"
        },
        "id": "iC_o_HaWEBQ4",
        "outputId": "eb405be6-3491-437c-dbc7-091ca15a9895"
      },
      "outputs": [
        {
          "output_type": "stream",
          "name": "stdout",
          "text": [
            "Looking in indexes: https://pypi.org/simple, https://us-python.pkg.dev/colab-wheels/public/simple/\n",
            "Requirement already satisfied: tensorflow in /usr/local/lib/python3.7/dist-packages (2.8.2+zzzcolab20220527125636)\n",
            "Requirement already satisfied: opencv-contrib-python in /usr/local/lib/python3.7/dist-packages (4.1.2.30)\n",
            "Collecting youtube-dl\n",
            "  Downloading youtube_dl-2021.12.17-py2.py3-none-any.whl (1.9 MB)\n",
            "\u001b[K     |████████████████████████████████| 1.9 MB 8.4 MB/s \n",
            "\u001b[?25hRequirement already satisfied: moviepy in /usr/local/lib/python3.7/dist-packages (0.2.3.5)\n",
            "Requirement already satisfied: pydot in /usr/local/lib/python3.7/dist-packages (1.3.0)\n",
            "Requirement already satisfied: flatbuffers>=1.12 in /usr/local/lib/python3.7/dist-packages (from tensorflow) (2.0)\n",
            "Requirement already satisfied: absl-py>=0.4.0 in /usr/local/lib/python3.7/dist-packages (from tensorflow) (1.0.0)\n",
            "Requirement already satisfied: google-pasta>=0.1.1 in /usr/local/lib/python3.7/dist-packages (from tensorflow) (0.2.0)\n",
            "Requirement already satisfied: libclang>=9.0.1 in /usr/local/lib/python3.7/dist-packages (from tensorflow) (14.0.1)\n",
            "Requirement already satisfied: wrapt>=1.11.0 in /usr/local/lib/python3.7/dist-packages (from tensorflow) (1.14.1)\n",
            "Requirement already satisfied: gast>=0.2.1 in /usr/local/lib/python3.7/dist-packages (from tensorflow) (0.5.3)\n",
            "Requirement already satisfied: h5py>=2.9.0 in /usr/local/lib/python3.7/dist-packages (from tensorflow) (3.1.0)\n",
            "Requirement already satisfied: numpy>=1.20 in /usr/local/lib/python3.7/dist-packages (from tensorflow) (1.21.6)\n",
            "Requirement already satisfied: tensorflow-estimator<2.9,>=2.8 in /usr/local/lib/python3.7/dist-packages (from tensorflow) (2.8.0)\n",
            "Requirement already satisfied: termcolor>=1.1.0 in /usr/local/lib/python3.7/dist-packages (from tensorflow) (1.1.0)\n",
            "Requirement already satisfied: six>=1.12.0 in /usr/local/lib/python3.7/dist-packages (from tensorflow) (1.15.0)\n",
            "Requirement already satisfied: keras-preprocessing>=1.1.1 in /usr/local/lib/python3.7/dist-packages (from tensorflow) (1.1.2)\n",
            "Requirement already satisfied: tensorflow-io-gcs-filesystem>=0.23.1 in /usr/local/lib/python3.7/dist-packages (from tensorflow) (0.26.0)\n",
            "Requirement already satisfied: typing-extensions>=3.6.6 in /usr/local/lib/python3.7/dist-packages (from tensorflow) (4.2.0)\n",
            "Requirement already satisfied: tensorboard<2.9,>=2.8 in /usr/local/lib/python3.7/dist-packages (from tensorflow) (2.8.0)\n",
            "Requirement already satisfied: opt-einsum>=2.3.2 in /usr/local/lib/python3.7/dist-packages (from tensorflow) (3.3.0)\n",
            "Requirement already satisfied: keras<2.9,>=2.8.0rc0 in /usr/local/lib/python3.7/dist-packages (from tensorflow) (2.8.0)\n",
            "Requirement already satisfied: astunparse>=1.6.0 in /usr/local/lib/python3.7/dist-packages (from tensorflow) (1.6.3)\n",
            "Requirement already satisfied: setuptools in /usr/local/lib/python3.7/dist-packages (from tensorflow) (57.4.0)\n",
            "Requirement already satisfied: grpcio<2.0,>=1.24.3 in /usr/local/lib/python3.7/dist-packages (from tensorflow) (1.46.3)\n",
            "Requirement already satisfied: protobuf<3.20,>=3.9.2 in /usr/local/lib/python3.7/dist-packages (from tensorflow) (3.17.3)\n",
            "Requirement already satisfied: wheel<1.0,>=0.23.0 in /usr/local/lib/python3.7/dist-packages (from astunparse>=1.6.0->tensorflow) (0.37.1)\n",
            "Requirement already satisfied: cached-property in /usr/local/lib/python3.7/dist-packages (from h5py>=2.9.0->tensorflow) (1.5.2)\n",
            "Requirement already satisfied: tensorboard-data-server<0.7.0,>=0.6.0 in /usr/local/lib/python3.7/dist-packages (from tensorboard<2.9,>=2.8->tensorflow) (0.6.1)\n",
            "Requirement already satisfied: markdown>=2.6.8 in /usr/local/lib/python3.7/dist-packages (from tensorboard<2.9,>=2.8->tensorflow) (3.3.7)\n",
            "Requirement already satisfied: requests<3,>=2.21.0 in /usr/local/lib/python3.7/dist-packages (from tensorboard<2.9,>=2.8->tensorflow) (2.23.0)\n",
            "Requirement already satisfied: tensorboard-plugin-wit>=1.6.0 in /usr/local/lib/python3.7/dist-packages (from tensorboard<2.9,>=2.8->tensorflow) (1.8.1)\n",
            "Requirement already satisfied: google-auth<3,>=1.6.3 in /usr/local/lib/python3.7/dist-packages (from tensorboard<2.9,>=2.8->tensorflow) (1.35.0)\n",
            "Requirement already satisfied: werkzeug>=0.11.15 in /usr/local/lib/python3.7/dist-packages (from tensorboard<2.9,>=2.8->tensorflow) (1.0.1)\n",
            "Requirement already satisfied: google-auth-oauthlib<0.5,>=0.4.1 in /usr/local/lib/python3.7/dist-packages (from tensorboard<2.9,>=2.8->tensorflow) (0.4.6)\n",
            "Requirement already satisfied: rsa<5,>=3.1.4 in /usr/local/lib/python3.7/dist-packages (from google-auth<3,>=1.6.3->tensorboard<2.9,>=2.8->tensorflow) (4.8)\n",
            "Requirement already satisfied: cachetools<5.0,>=2.0.0 in /usr/local/lib/python3.7/dist-packages (from google-auth<3,>=1.6.3->tensorboard<2.9,>=2.8->tensorflow) (4.2.4)\n",
            "Requirement already satisfied: pyasn1-modules>=0.2.1 in /usr/local/lib/python3.7/dist-packages (from google-auth<3,>=1.6.3->tensorboard<2.9,>=2.8->tensorflow) (0.2.8)\n",
            "Requirement already satisfied: requests-oauthlib>=0.7.0 in /usr/local/lib/python3.7/dist-packages (from google-auth-oauthlib<0.5,>=0.4.1->tensorboard<2.9,>=2.8->tensorflow) (1.3.1)\n",
            "Requirement already satisfied: importlib-metadata>=4.4 in /usr/local/lib/python3.7/dist-packages (from markdown>=2.6.8->tensorboard<2.9,>=2.8->tensorflow) (4.11.4)\n",
            "Requirement already satisfied: zipp>=0.5 in /usr/local/lib/python3.7/dist-packages (from importlib-metadata>=4.4->markdown>=2.6.8->tensorboard<2.9,>=2.8->tensorflow) (3.8.0)\n",
            "Requirement already satisfied: pyasn1<0.5.0,>=0.4.6 in /usr/local/lib/python3.7/dist-packages (from pyasn1-modules>=0.2.1->google-auth<3,>=1.6.3->tensorboard<2.9,>=2.8->tensorflow) (0.4.8)\n",
            "Requirement already satisfied: idna<3,>=2.5 in /usr/local/lib/python3.7/dist-packages (from requests<3,>=2.21.0->tensorboard<2.9,>=2.8->tensorflow) (2.10)\n",
            "Requirement already satisfied: urllib3!=1.25.0,!=1.25.1,<1.26,>=1.21.1 in /usr/local/lib/python3.7/dist-packages (from requests<3,>=2.21.0->tensorboard<2.9,>=2.8->tensorflow) (1.24.3)\n",
            "Requirement already satisfied: certifi>=2017.4.17 in /usr/local/lib/python3.7/dist-packages (from requests<3,>=2.21.0->tensorboard<2.9,>=2.8->tensorflow) (2022.5.18.1)\n",
            "Requirement already satisfied: chardet<4,>=3.0.2 in /usr/local/lib/python3.7/dist-packages (from requests<3,>=2.21.0->tensorboard<2.9,>=2.8->tensorflow) (3.0.4)\n",
            "Requirement already satisfied: oauthlib>=3.0.0 in /usr/local/lib/python3.7/dist-packages (from requests-oauthlib>=0.7.0->google-auth-oauthlib<0.5,>=0.4.1->tensorboard<2.9,>=2.8->tensorflow) (3.2.0)\n",
            "Requirement already satisfied: imageio<3.0,>=2.1.2 in /usr/local/lib/python3.7/dist-packages (from moviepy) (2.4.1)\n",
            "Requirement already satisfied: tqdm<5.0,>=4.11.2 in /usr/local/lib/python3.7/dist-packages (from moviepy) (4.64.0)\n",
            "Requirement already satisfied: decorator<5.0,>=4.0.2 in /usr/local/lib/python3.7/dist-packages (from moviepy) (4.4.2)\n",
            "Requirement already satisfied: pillow in /usr/local/lib/python3.7/dist-packages (from imageio<3.0,>=2.1.2->moviepy) (7.1.2)\n",
            "Requirement already satisfied: pyparsing>=2.1.4 in /usr/local/lib/python3.7/dist-packages (from pydot) (3.0.9)\n",
            "Installing collected packages: youtube-dl\n",
            "Successfully installed youtube-dl-2021.12.17\n",
            "Looking in indexes: https://pypi.org/simple, https://us-python.pkg.dev/colab-wheels/public/simple/\n",
            "Collecting pafy\n",
            "  Cloning https://github.com/TahaAnwar/pafy.git to /tmp/pip-install-y6ucxk_b/pafy_e20742b028d9491cbe822bf5d776c7c3\n",
            "  Running command git clone -q https://github.com/TahaAnwar/pafy.git /tmp/pip-install-y6ucxk_b/pafy_e20742b028d9491cbe822bf5d776c7c3\n",
            "Building wheels for collected packages: pafy\n",
            "  Building wheel for pafy (setup.py) ... \u001b[?25l\u001b[?25hdone\n",
            "  Created wheel for pafy: filename=pafy-0.5.5-py2.py3-none-any.whl size=35706 sha256=8d703a803cc9eba5e8199db6c3da763508052a0bfa5746c74516f4324ff423cf\n",
            "  Stored in directory: /tmp/pip-ephem-wheel-cache-ep3yk6os/wheels/64/82/dd/3d7823b3bbbe1aca9b30f8cf0d6bb6c1b72ccd95e3360f8190\n",
            "Successfully built pafy\n",
            "Installing collected packages: pafy\n",
            "Successfully installed pafy-0.5.5\n"
          ]
        }
      ],
      "source": [
        "# Discard the output of this cell.\n",
        "#%%capture\n",
        "\n",
        "# Install the required libraries.\n",
        "!pip install tensorflow opencv-contrib-python youtube-dl moviepy pydot\n",
        "!pip install git+https://github.com/TahaAnwar/pafy.git#egg=pafy"
      ]
    },
    {
      "cell_type": "code",
      "execution_count": 2,
      "metadata": {
        "colab": {
          "base_uri": "https://localhost:8080/"
        },
        "id": "773CUmldFLWW",
        "outputId": "14dafe1b-33d1-4dbd-8649-8361e4fe562b"
      },
      "outputs": [
        {
          "output_type": "stream",
          "name": "stdout",
          "text": [
            "Mounted at /content/drive\n"
          ]
        }
      ],
      "source": [
        "from google.colab import drive\n",
        "drive.mount('/content/drive')"
      ]
    },
    {
      "cell_type": "code",
      "execution_count": 3,
      "metadata": {
        "id": "pI_Uxj54EZA-",
        "colab": {
          "base_uri": "https://localhost:8080/"
        },
        "outputId": "a6216914-192b-4ef7-ef3a-902bd58b839d"
      },
      "outputs": [
        {
          "output_type": "stream",
          "name": "stdout",
          "text": [
            "Imageio: 'ffmpeg-linux64-v3.3.1' was not found on your computer; downloading it now.\n",
            "Try 1. Download from https://github.com/imageio/imageio-binaries/raw/master/ffmpeg/ffmpeg-linux64-v3.3.1 (43.8 MB)\n",
            "Downloading: 8192/45929032 bytes (0.0%)\b\b\b\b\b\b\b\b\b\b\b\b\b\b\b\b\b\b\b\b\b\b\b\b\b\b3973120/45929032 bytes (8.7%)\b\b\b\b\b\b\b\b\b\b\b\b\b\b\b\b\b\b\b\b\b\b\b\b\b\b\b\b\b8331264/45929032 bytes (18.1%)\b\b\b\b\b\b\b\b\b\b\b\b\b\b\b\b\b\b\b\b\b\b\b\b\b\b\b\b\b\b12304384/45929032 bytes (26.8%)\b\b\b\b\b\b\b\b\b\b\b\b\b\b\b\b\b\b\b\b\b\b\b\b\b\b\b\b\b\b\b16375808/45929032 bytes (35.7%)\b\b\b\b\b\b\b\b\b\b\b\b\b\b\b\b\b\b\b\b\b\b\b\b\b\b\b\b\b\b\b20652032/45929032 bytes (45.0%)\b\b\b\b\b\b\b\b\b\b\b\b\b\b\b\b\b\b\b\b\b\b\b\b\b\b\b\b\b\b\b24879104/45929032 bytes (54.2%)\b\b\b\b\b\b\b\b\b\b\b\b\b\b\b\b\b\b\b\b\b\b\b\b\b\b\b\b\b\b\b29081600/45929032 bytes (63.3%)\b\b\b\b\b\b\b\b\b\b\b\b\b\b\b\b\b\b\b\b\b\b\b\b\b\b\b\b\b\b\b33382400/45929032 bytes (72.7%)\b\b\b\b\b\b\b\b\b\b\b\b\b\b\b\b\b\b\b\b\b\b\b\b\b\b\b\b\b\b\b37593088/45929032 bytes (81.9%)\b\b\b\b\b\b\b\b\b\b\b\b\b\b\b\b\b\b\b\b\b\b\b\b\b\b\b\b\b\b\b41836544/45929032 bytes (91.1%)\b\b\b\b\b\b\b\b\b\b\b\b\b\b\b\b\b\b\b\b\b\b\b\b\b\b\b\b\b\b\b45929032/45929032 bytes (100.0%)\n",
            "  Done\n",
            "File saved as /root/.imageio/ffmpeg/ffmpeg-linux64-v3.3.1.\n"
          ]
        }
      ],
      "source": [
        "# Import the required libraries.\n",
        "import os\n",
        "import cv2\n",
        "import pafy\n",
        "import math\n",
        "import random\n",
        "import numpy as np\n",
        "import datetime as dt\n",
        "import tensorflow as tf\n",
        "from collections import deque\n",
        "import matplotlib.pyplot as plt\n",
        "\n",
        "from moviepy.editor import *\n",
        "%matplotlib inline\n",
        "\n",
        "from sklearn.model_selection import train_test_split\n",
        "\n",
        "from tensorflow.keras.layers import *\n",
        "from tensorflow.keras.models import Sequential\n",
        "from tensorflow.keras.utils import to_categorical\n",
        "from tensorflow.keras.callbacks import EarlyStopping\n",
        "from tensorflow.keras.utils import plot_model"
      ]
    },
    {
      "cell_type": "code",
      "execution_count": 19,
      "metadata": {
        "id": "p_XR9N_KEd0h",
        "colab": {
          "base_uri": "https://localhost:8080/"
        },
        "outputId": "7eb9e1e9-f428-40c7-c70d-d7ef9c6593cd"
      },
      "outputs": [
        {
          "output_type": "stream",
          "name": "stdout",
          "text": [
            "31\n",
            "None\n",
            "None\n",
            "None\n",
            "31\n"
          ]
        }
      ],
      "source": [
        "seed_constant = 31\n",
        "my_seed=np.random.seed(seed_constant)\n",
        "print(seed_constant)\n",
        "print(my_seed)\n",
        "my_seed=random.seed(seed_constant)\n",
        "print(my_seed)\n",
        "my_seed=tf.random.set_seed(seed_constant)\n",
        "print(my_seed)\n",
        "print(seed_constant)"
      ]
    },
    {
      "cell_type": "code",
      "execution_count": 20,
      "metadata": {
        "id": "SjdIu5iUEtFT"
      },
      "outputs": [],
      "source": [
        "# Specify the height and width to which each video frame will be resized in our dataset.\n",
        "IMAGE_HEIGHT , IMAGE_WIDTH = 64, 64\n",
        "\n",
        "# Specify the number of frames of a video that will be fed to the model as one sequence.\n",
        "SEQUENCE_LENGTH = 30\n",
        "\n",
        "# Specify the directory containing the UCF50 dataset. \n",
        "#DATASET_DIR = \"/content/drive/MyDrive/videospeechsong_label\"\n",
        "\n",
        "# Specify the list containing the names of the classes used for training. Feel free to choose any set of classes.\n",
        "CLASSES_LIST = [\"neutral\", \"calm\", \"happy\", \"sad\",\"angry\",\"fearful\"]"
      ]
    },
    {
      "cell_type": "code",
      "execution_count": 21,
      "metadata": {
        "id": "z1PugGDOFidu"
      },
      "outputs": [],
      "source": [
        "import joblib\n",
        "features = joblib.load('/content/drive/My Drive/features_ravdess/data_set/features_data')\n",
        "labels = joblib.load('/content/drive/MyDrive/features_ravdess/data_set/labels')\n",
        "video_files_paths = joblib.load('/content/drive/My Drive/features_ravdess/data_set/video_path')"
      ]
    },
    {
      "cell_type": "code",
      "execution_count": 22,
      "metadata": {
        "id": "AQLmPjgCf52M"
      },
      "outputs": [],
      "source": [
        "features = np.asarray(features)\n",
        "labels = np.array(labels)"
      ]
    },
    {
      "cell_type": "code",
      "execution_count": 23,
      "metadata": {
        "colab": {
          "base_uri": "https://localhost:8080/"
        },
        "id": "MU9jM0FlE-aH",
        "outputId": "ac426acb-360f-44b2-c937-feb8f75d04b7"
      },
      "outputs": [
        {
          "output_type": "execute_result",
          "data": {
            "text/plain": [
              "((2067, 30, 64, 64, 3), (2067,), 2067)"
            ]
          },
          "metadata": {},
          "execution_count": 23
        }
      ],
      "source": [
        "features.shape,labels.shape,len(video_files_paths)"
      ]
    },
    {
      "cell_type": "code",
      "source": [
        "\n",
        "# Split the Data into Train ( 80% ) and Test Set ( 20% ).\n",
        "features_train, features_test, labels_train, labels_test,video_train_path,video_test_path = train_test_split(features, labels,video_files_paths,\n",
        "                                                                            test_size = 0.10, shuffle = True,\n",
        "                                                                            random_state = seed_constant)"
      ],
      "metadata": {
        "id": "7ygQ1ZFPHD4v"
      },
      "execution_count": 24,
      "outputs": []
    },
    {
      "cell_type": "code",
      "source": [
        "len(features_train),len(features_test),len(labels_train),len(labels_test),len(video_train_path),len(video_test_path)"
      ],
      "metadata": {
        "colab": {
          "base_uri": "https://localhost:8080/"
        },
        "id": "BiEcB_EoH7_y",
        "outputId": "82018d01-1f08-4b1f-add1-91f812a4213a"
      },
      "execution_count": 25,
      "outputs": [
        {
          "output_type": "execute_result",
          "data": {
            "text/plain": [
              "(1860, 207, 1860, 207, 1860, 207)"
            ]
          },
          "metadata": {},
          "execution_count": 25
        }
      ]
    },
    {
      "cell_type": "code",
      "source": [
        "\n",
        "# Split train the Data into Train ( 80% ) and valid Set ( 20% ).\n",
        "features_train, features_valid, labels_train, labels_valid,video_train_path,video_valid_path = train_test_split(features_train, labels_train,video_train_path,\n",
        "                                                                            test_size = 0.11129032258, shuffle = True,\n",
        "                                                                            random_state = seed_constant)"
      ],
      "metadata": {
        "id": "9tk83FqyIKrO"
      },
      "execution_count": 26,
      "outputs": []
    },
    {
      "cell_type": "code",
      "source": [
        "len(features_train),len(features_valid),len(labels_train),len(labels_valid),len(video_train_path),len(video_valid_path)"
      ],
      "metadata": {
        "colab": {
          "base_uri": "https://localhost:8080/"
        },
        "id": "jJAp-BHdHFDd",
        "outputId": "1b190154-0ab9-4ceb-d12a-4a9480edee3d"
      },
      "execution_count": 27,
      "outputs": [
        {
          "output_type": "execute_result",
          "data": {
            "text/plain": [
              "(1653, 207, 1653, 207, 1653, 207)"
            ]
          },
          "metadata": {},
          "execution_count": 27
        }
      ]
    },
    {
      "cell_type": "code",
      "source": [
        "video_valid_path"
      ],
      "metadata": {
        "colab": {
          "base_uri": "https://localhost:8080/"
        },
        "id": "0X0V_x1-KGz7",
        "outputId": "5ec8c31f-a8b0-4ce3-ed88-8e15bee1eb02"
      },
      "execution_count": null,
      "outputs": [
        {
          "output_type": "execute_result",
          "data": {
            "text/plain": [
              "['/content/drive/MyDrive/frames_ravdess_label/happy/01-01-03-01-02-02-18.mp4',\n",
              " '/content/drive/MyDrive/frames_ravdess_label/sad/01-01-04-01-02-01-07.mp4',\n",
              " '/content/drive/MyDrive/frames_ravdess_label/sad/01-01-04-02-02-01-23.mp4',\n",
              " '/content/drive/MyDrive/frames_ravdess_label/calm/01-02-02-02-01-02-17.mp4',\n",
              " '/content/drive/MyDrive/frames_ravdess_label/happy/01-01-03-02-01-02-15.mp4',\n",
              " '/content/drive/MyDrive/frames_ravdess_label/happy/01-02-03-02-01-02-22.mp4',\n",
              " '/content/drive/MyDrive/frames_ravdess_label/sad/01-01-04-01-02-01-19.mp4',\n",
              " '/content/drive/MyDrive/frames_ravdess_label/calm/01-01-02-02-01-01-21.mp4',\n",
              " '/content/drive/MyDrive/frames_ravdess_label/fearful/01-01-06-02-02-02-16.mp4',\n",
              " '/content/drive/MyDrive/frames_ravdess_label/fearful/01-01-06-02-01-01-16.mp4',\n",
              " '/content/drive/MyDrive/frames_ravdess_label/fearful/01-02-06-01-02-01-13.mp4',\n",
              " '/content/drive/MyDrive/frames_ravdess_label/calm/01-02-02-01-02-01-11.mp4',\n",
              " '/content/drive/MyDrive/frames_ravdess_label/calm/01-02-02-02-01-02-04.mp4',\n",
              " '/content/drive/MyDrive/frames_ravdess_label/happy/01-02-03-02-01-01-14.mp4',\n",
              " '/content/drive/MyDrive/frames_ravdess_label/sad/01-02-04-02-02-02-03.mp4',\n",
              " '/content/drive/MyDrive/frames_ravdess_label/neutral/01-02-01-01-02-02-02.mp4',\n",
              " '/content/drive/MyDrive/frames_ravdess_label/angry/01-02-05-01-02-01-11.mp4',\n",
              " '/content/drive/MyDrive/frames_ravdess_label/sad/01-01-04-02-02-01-10.mp4',\n",
              " '/content/drive/MyDrive/frames_ravdess_label/neutral/01-01-01-01-01-02-14.mp4',\n",
              " '/content/drive/MyDrive/frames_ravdess_label/angry/01-01-05-01-02-01-04.mp4',\n",
              " '/content/drive/MyDrive/frames_ravdess_label/angry/01-01-05-02-02-02-07.mp4',\n",
              " '/content/drive/MyDrive/frames_ravdess_label/calm/01-02-02-02-02-02-15.mp4',\n",
              " '/content/drive/MyDrive/frames_ravdess_label/angry/01-01-05-01-02-01-11.mp4',\n",
              " '/content/drive/MyDrive/frames_ravdess_label/happy/01-02-03-02-02-01-03.mp4',\n",
              " '/content/drive/MyDrive/frames_ravdess_label/calm/01-02-02-02-02-01-10.mp4',\n",
              " '/content/drive/MyDrive/frames_ravdess_label/sad/01-02-04-02-01-02-14.mp4',\n",
              " '/content/drive/MyDrive/frames_ravdess_label/calm/01-02-02-02-01-01-03.mp4',\n",
              " '/content/drive/MyDrive/frames_ravdess_label/calm/01-02-02-01-01-02-17.mp4',\n",
              " '/content/drive/MyDrive/frames_ravdess_label/sad/01-01-04-01-01-01-06.mp4',\n",
              " '/content/drive/MyDrive/frames_ravdess_label/happy/01-01-03-01-01-02-08.mp4',\n",
              " '/content/drive/MyDrive/frames_ravdess_label/sad/01-01-04-02-01-01-18.mp4',\n",
              " '/content/drive/MyDrive/frames_ravdess_label/fearful/01-01-06-02-02-02-02.mp4',\n",
              " '/content/drive/MyDrive/frames_ravdess_label/calm/01-01-02-02-01-01-18.mp4',\n",
              " '/content/drive/MyDrive/frames_ravdess_label/happy/01-02-03-02-01-01-01.mp4',\n",
              " '/content/drive/MyDrive/frames_ravdess_label/sad/01-02-04-01-02-01-16.mp4',\n",
              " '/content/drive/MyDrive/frames_ravdess_label/fearful/01-02-06-02-01-02-24.mp4',\n",
              " '/content/drive/MyDrive/frames_ravdess_label/calm/01-02-02-02-02-01-09.mp4',\n",
              " '/content/drive/MyDrive/frames_ravdess_label/calm/01-01-02-02-01-01-19.mp4',\n",
              " '/content/drive/MyDrive/frames_ravdess_label/happy/01-02-03-01-02-01-10.mp4',\n",
              " '/content/drive/MyDrive/frames_ravdess_label/angry/01-02-05-02-02-02-16.mp4',\n",
              " '/content/drive/MyDrive/frames_ravdess_label/calm/01-01-02-01-01-01-23.mp4',\n",
              " '/content/drive/MyDrive/frames_ravdess_label/angry/01-01-05-01-01-01-07.mp4',\n",
              " '/content/drive/MyDrive/frames_ravdess_label/fearful/01-01-06-01-01-01-16.mp4',\n",
              " '/content/drive/MyDrive/frames_ravdess_label/sad/01-01-04-01-01-01-01.mp4',\n",
              " '/content/drive/MyDrive/frames_ravdess_label/calm/01-02-02-01-01-01-16.mp4',\n",
              " '/content/drive/MyDrive/frames_ravdess_label/happy/01-01-03-01-01-02-07.mp4',\n",
              " '/content/drive/MyDrive/frames_ravdess_label/sad/01-02-04-02-01-02-23.mp4',\n",
              " '/content/drive/MyDrive/frames_ravdess_label/angry/01-02-05-01-01-02-08.mp4',\n",
              " '/content/drive/MyDrive/frames_ravdess_label/sad/01-02-04-01-02-01-05.mp4',\n",
              " '/content/drive/MyDrive/frames_ravdess_label/fearful/01-02-06-01-01-01-01.mp4',\n",
              " '/content/drive/MyDrive/frames_ravdess_label/happy/01-01-03-01-02-02-03.mp4',\n",
              " '/content/drive/MyDrive/frames_ravdess_label/fearful/01-02-06-01-01-02-06.mp4',\n",
              " '/content/drive/MyDrive/frames_ravdess_label/angry/01-01-05-02-01-01-24.mp4',\n",
              " '/content/drive/MyDrive/frames_ravdess_label/sad/01-01-04-01-02-01-11.mp4',\n",
              " '/content/drive/MyDrive/frames_ravdess_label/neutral/01-01-01-01-01-02-17.mp4',\n",
              " '/content/drive/MyDrive/frames_ravdess_label/angry/01-01-05-01-01-02-07.mp4',\n",
              " '/content/drive/MyDrive/frames_ravdess_label/sad/01-02-04-01-02-01-09.mp4',\n",
              " '/content/drive/MyDrive/frames_ravdess_label/happy/01-01-03-01-01-01-14.mp4',\n",
              " '/content/drive/MyDrive/frames_ravdess_label/calm/01-01-02-01-02-01-11.mp4',\n",
              " '/content/drive/MyDrive/frames_ravdess_label/sad/01-01-04-01-02-01-05.mp4',\n",
              " '/content/drive/MyDrive/frames_ravdess_label/happy/01-02-03-02-01-02-19.mp4',\n",
              " '/content/drive/MyDrive/frames_ravdess_label/happy/01-02-03-01-01-02-17.mp4',\n",
              " '/content/drive/MyDrive/frames_ravdess_label/fearful/01-02-06-02-01-02-13.mp4',\n",
              " '/content/drive/MyDrive/frames_ravdess_label/fearful/01-01-06-01-02-01-21.mp4',\n",
              " '/content/drive/MyDrive/frames_ravdess_label/happy/01-01-03-02-01-02-03.mp4',\n",
              " '/content/drive/MyDrive/frames_ravdess_label/angry/01-01-05-02-01-02-18.mp4',\n",
              " '/content/drive/MyDrive/frames_ravdess_label/sad/01-02-04-01-01-02-17.mp4',\n",
              " '/content/drive/MyDrive/frames_ravdess_label/calm/01-02-02-02-01-01-10.mp4',\n",
              " '/content/drive/MyDrive/frames_ravdess_label/happy/01-01-03-02-02-01-12.mp4',\n",
              " '/content/drive/MyDrive/frames_ravdess_label/neutral/01-02-01-01-02-01-19.mp4',\n",
              " '/content/drive/MyDrive/frames_ravdess_label/sad/01-02-04-02-02-02-17.mp4',\n",
              " '/content/drive/MyDrive/frames_ravdess_label/fearful/01-02-06-01-01-01-20.mp4',\n",
              " '/content/drive/MyDrive/frames_ravdess_label/sad/01-02-04-01-02-02-23.mp4',\n",
              " '/content/drive/MyDrive/frames_ravdess_label/angry/01-01-05-01-02-02-21.mp4',\n",
              " '/content/drive/MyDrive/frames_ravdess_label/happy/01-02-03-01-01-02-14.mp4',\n",
              " '/content/drive/MyDrive/frames_ravdess_label/neutral/01-01-01-01-02-01-20.mp4',\n",
              " '/content/drive/MyDrive/frames_ravdess_label/angry/01-01-05-02-01-01-01.mp4',\n",
              " '/content/drive/MyDrive/frames_ravdess_label/calm/01-01-02-02-01-02-24.mp4',\n",
              " '/content/drive/MyDrive/frames_ravdess_label/fearful/01-01-06-01-01-02-06.mp4',\n",
              " '/content/drive/MyDrive/frames_ravdess_label/angry/01-01-05-01-01-01-14.mp4',\n",
              " '/content/drive/MyDrive/frames_ravdess_label/calm/01-02-02-02-01-01-09.mp4',\n",
              " '/content/drive/MyDrive/frames_ravdess_label/sad/01-02-04-01-01-01-17.mp4',\n",
              " '/content/drive/MyDrive/frames_ravdess_label/happy/01-01-03-01-02-01-23.mp4',\n",
              " '/content/drive/MyDrive/frames_ravdess_label/sad/01-01-04-01-01-02-21.mp4',\n",
              " '/content/drive/MyDrive/frames_ravdess_label/sad/01-01-04-01-02-02-21.mp4',\n",
              " '/content/drive/MyDrive/frames_ravdess_label/sad/01-01-04-02-02-02-12.mp4',\n",
              " '/content/drive/MyDrive/frames_ravdess_label/neutral/01-01-01-01-02-02-17.mp4',\n",
              " '/content/drive/MyDrive/frames_ravdess_label/angry/01-02-05-02-01-01-21.mp4',\n",
              " '/content/drive/MyDrive/frames_ravdess_label/happy/01-01-03-01-02-01-13.mp4',\n",
              " '/content/drive/MyDrive/frames_ravdess_label/calm/01-01-02-02-02-01-08.mp4',\n",
              " '/content/drive/MyDrive/frames_ravdess_label/happy/01-02-03-01-01-02-16.mp4',\n",
              " '/content/drive/MyDrive/frames_ravdess_label/fearful/01-02-06-02-01-02-09.mp4',\n",
              " '/content/drive/MyDrive/frames_ravdess_label/sad/01-01-04-02-01-02-16.mp4',\n",
              " '/content/drive/MyDrive/frames_ravdess_label/angry/01-01-05-02-02-02-11.mp4',\n",
              " '/content/drive/MyDrive/frames_ravdess_label/calm/01-02-02-02-01-02-21.mp4',\n",
              " '/content/drive/MyDrive/frames_ravdess_label/sad/01-02-04-01-02-01-02.mp4',\n",
              " '/content/drive/MyDrive/frames_ravdess_label/calm/01-02-02-02-02-02-13.mp4',\n",
              " '/content/drive/MyDrive/frames_ravdess_label/happy/01-02-03-01-01-01-23.mp4',\n",
              " '/content/drive/MyDrive/frames_ravdess_label/angry/01-01-05-01-02-01-03.mp4',\n",
              " '/content/drive/MyDrive/frames_ravdess_label/happy/01-02-03-01-01-01-14.mp4',\n",
              " '/content/drive/MyDrive/frames_ravdess_label/calm/01-02-02-02-02-02-08.mp4',\n",
              " '/content/drive/MyDrive/frames_ravdess_label/calm/01-02-02-01-02-01-16.mp4',\n",
              " '/content/drive/MyDrive/frames_ravdess_label/calm/01-01-02-01-02-02-17.mp4',\n",
              " '/content/drive/MyDrive/frames_ravdess_label/angry/01-01-05-02-01-01-14.mp4',\n",
              " '/content/drive/MyDrive/frames_ravdess_label/sad/01-01-04-01-02-02-07.mp4',\n",
              " '/content/drive/MyDrive/frames_ravdess_label/fearful/01-02-06-02-01-01-22.mp4',\n",
              " '/content/drive/MyDrive/frames_ravdess_label/happy/01-01-03-02-02-01-02.mp4',\n",
              " '/content/drive/MyDrive/frames_ravdess_label/sad/01-01-04-02-01-02-21.mp4',\n",
              " '/content/drive/MyDrive/frames_ravdess_label/happy/01-02-03-02-01-02-13.mp4',\n",
              " '/content/drive/MyDrive/frames_ravdess_label/happy/01-01-03-02-02-02-13.mp4',\n",
              " '/content/drive/MyDrive/frames_ravdess_label/fearful/01-02-06-01-01-02-21.mp4',\n",
              " '/content/drive/MyDrive/frames_ravdess_label/fearful/01-01-06-01-02-02-01.mp4',\n",
              " '/content/drive/MyDrive/frames_ravdess_label/neutral/01-01-01-01-02-01-12.mp4',\n",
              " '/content/drive/MyDrive/frames_ravdess_label/angry/01-01-05-02-01-01-04.mp4',\n",
              " '/content/drive/MyDrive/frames_ravdess_label/angry/01-01-05-01-01-01-17.mp4',\n",
              " '/content/drive/MyDrive/frames_ravdess_label/sad/01-02-04-02-02-01-17.mp4',\n",
              " '/content/drive/MyDrive/frames_ravdess_label/fearful/01-02-06-01-01-02-17.mp4',\n",
              " '/content/drive/MyDrive/frames_ravdess_label/sad/01-01-04-01-01-02-05.mp4',\n",
              " '/content/drive/MyDrive/frames_ravdess_label/angry/01-01-05-02-02-02-19.mp4',\n",
              " '/content/drive/MyDrive/frames_ravdess_label/calm/01-01-02-01-02-02-11.mp4',\n",
              " '/content/drive/MyDrive/frames_ravdess_label/calm/01-02-02-02-01-02-10.mp4',\n",
              " '/content/drive/MyDrive/frames_ravdess_label/fearful/01-02-06-02-02-01-04.mp4',\n",
              " '/content/drive/MyDrive/frames_ravdess_label/angry/01-01-05-02-02-02-10.mp4',\n",
              " '/content/drive/MyDrive/frames_ravdess_label/happy/01-02-03-02-01-02-09.mp4',\n",
              " '/content/drive/MyDrive/frames_ravdess_label/calm/01-02-02-02-01-02-16.mp4',\n",
              " '/content/drive/MyDrive/frames_ravdess_label/angry/01-01-05-01-01-01-16.mp4',\n",
              " '/content/drive/MyDrive/frames_ravdess_label/fearful/01-01-06-01-02-01-05.mp4',\n",
              " '/content/drive/MyDrive/frames_ravdess_label/calm/01-02-02-01-02-02-11.mp4',\n",
              " '/content/drive/MyDrive/frames_ravdess_label/sad/01-01-04-01-02-01-01.mp4',\n",
              " '/content/drive/MyDrive/frames_ravdess_label/sad/01-01-04-02-01-02-15.mp4',\n",
              " '/content/drive/MyDrive/frames_ravdess_label/sad/01-02-04-01-01-01-11.mp4',\n",
              " '/content/drive/MyDrive/frames_ravdess_label/angry/01-01-05-02-01-01-23.mp4',\n",
              " '/content/drive/MyDrive/frames_ravdess_label/fearful/01-01-06-01-01-02-01.mp4',\n",
              " '/content/drive/MyDrive/frames_ravdess_label/calm/01-01-02-01-01-01-22.mp4',\n",
              " '/content/drive/MyDrive/frames_ravdess_label/calm/01-02-02-01-02-02-24.mp4',\n",
              " '/content/drive/MyDrive/frames_ravdess_label/happy/01-02-03-01-01-02-03.mp4',\n",
              " '/content/drive/MyDrive/frames_ravdess_label/fearful/01-01-06-02-01-02-15.mp4',\n",
              " '/content/drive/MyDrive/frames_ravdess_label/sad/01-01-04-02-02-02-01.mp4',\n",
              " '/content/drive/MyDrive/frames_ravdess_label/sad/01-02-04-02-01-01-03.mp4',\n",
              " '/content/drive/MyDrive/frames_ravdess_label/calm/01-01-02-01-01-01-20.mp4',\n",
              " '/content/drive/MyDrive/frames_ravdess_label/angry/01-02-05-02-02-01-15.mp4',\n",
              " '/content/drive/MyDrive/frames_ravdess_label/angry/01-02-05-01-02-02-19.mp4',\n",
              " '/content/drive/MyDrive/frames_ravdess_label/sad/01-02-04-01-02-01-24.mp4',\n",
              " '/content/drive/MyDrive/frames_ravdess_label/neutral/01-01-01-01-02-02-20.mp4',\n",
              " '/content/drive/MyDrive/frames_ravdess_label/sad/01-02-04-01-02-02-19.mp4',\n",
              " '/content/drive/MyDrive/frames_ravdess_label/happy/01-01-03-01-02-02-08.mp4',\n",
              " '/content/drive/MyDrive/frames_ravdess_label/fearful/01-01-06-01-02-02-12.mp4',\n",
              " '/content/drive/MyDrive/frames_ravdess_label/calm/01-01-02-01-02-01-16.mp4',\n",
              " '/content/drive/MyDrive/frames_ravdess_label/sad/01-02-04-01-02-01-14.mp4',\n",
              " '/content/drive/MyDrive/frames_ravdess_label/neutral/01-01-01-01-01-02-20.mp4',\n",
              " '/content/drive/MyDrive/frames_ravdess_label/neutral/01-01-01-01-02-01-04.mp4',\n",
              " '/content/drive/MyDrive/frames_ravdess_label/angry/01-01-05-01-01-02-20.mp4',\n",
              " '/content/drive/MyDrive/frames_ravdess_label/sad/01-02-04-01-01-02-10.mp4',\n",
              " '/content/drive/MyDrive/frames_ravdess_label/calm/01-01-02-02-01-01-10.mp4',\n",
              " '/content/drive/MyDrive/frames_ravdess_label/sad/01-01-04-02-01-02-18.mp4',\n",
              " '/content/drive/MyDrive/frames_ravdess_label/calm/01-02-02-01-01-01-01.mp4',\n",
              " '/content/drive/MyDrive/frames_ravdess_label/sad/01-02-04-01-01-01-15.mp4',\n",
              " '/content/drive/MyDrive/frames_ravdess_label/sad/01-02-04-02-02-01-11.mp4',\n",
              " '/content/drive/MyDrive/frames_ravdess_label/fearful/01-02-06-02-02-01-22.mp4',\n",
              " '/content/drive/MyDrive/frames_ravdess_label/calm/01-01-02-02-01-02-21.mp4',\n",
              " '/content/drive/MyDrive/frames_ravdess_label/sad/01-02-04-02-02-02-16.mp4',\n",
              " '/content/drive/MyDrive/frames_ravdess_label/sad/01-01-04-01-01-02-15.mp4',\n",
              " '/content/drive/MyDrive/frames_ravdess_label/fearful/01-01-06-01-02-01-18.mp4',\n",
              " '/content/drive/MyDrive/frames_ravdess_label/calm/01-02-02-01-02-01-13.mp4',\n",
              " '/content/drive/MyDrive/frames_ravdess_label/angry/01-02-05-02-02-02-19.mp4',\n",
              " '/content/drive/MyDrive/frames_ravdess_label/happy/01-02-03-01-01-02-22.mp4',\n",
              " '/content/drive/MyDrive/frames_ravdess_label/neutral/01-01-01-01-02-01-13.mp4',\n",
              " '/content/drive/MyDrive/frames_ravdess_label/happy/01-02-03-02-02-01-13.mp4',\n",
              " '/content/drive/MyDrive/frames_ravdess_label/happy/01-02-03-02-01-01-08.mp4',\n",
              " '/content/drive/MyDrive/frames_ravdess_label/calm/01-01-02-02-01-01-09.mp4',\n",
              " '/content/drive/MyDrive/frames_ravdess_label/angry/01-02-05-02-02-01-06.mp4',\n",
              " '/content/drive/MyDrive/frames_ravdess_label/neutral/01-01-01-01-01-02-12.mp4',\n",
              " '/content/drive/MyDrive/frames_ravdess_label/sad/01-02-04-02-02-02-01.mp4',\n",
              " '/content/drive/MyDrive/frames_ravdess_label/sad/01-02-04-02-01-01-16.mp4',\n",
              " '/content/drive/MyDrive/frames_ravdess_label/angry/01-01-05-01-02-01-18.mp4',\n",
              " '/content/drive/MyDrive/frames_ravdess_label/fearful/01-01-06-01-02-01-19.mp4',\n",
              " '/content/drive/MyDrive/frames_ravdess_label/calm/01-01-02-02-02-02-11.mp4',\n",
              " '/content/drive/MyDrive/frames_ravdess_label/fearful/01-01-06-01-01-02-16.mp4',\n",
              " '/content/drive/MyDrive/frames_ravdess_label/calm/01-02-02-02-01-01-13.mp4',\n",
              " '/content/drive/MyDrive/frames_ravdess_label/neutral/01-01-01-01-02-02-23.mp4',\n",
              " '/content/drive/MyDrive/frames_ravdess_label/angry/01-01-05-02-02-01-14.mp4',\n",
              " '/content/drive/MyDrive/frames_ravdess_label/angry/01-01-05-02-01-02-14.mp4',\n",
              " '/content/drive/MyDrive/frames_ravdess_label/sad/01-01-04-01-01-02-12.mp4',\n",
              " '/content/drive/MyDrive/frames_ravdess_label/angry/01-01-05-01-01-02-13.mp4',\n",
              " '/content/drive/MyDrive/frames_ravdess_label/calm/01-01-02-02-01-01-08.mp4',\n",
              " '/content/drive/MyDrive/frames_ravdess_label/angry/01-02-05-01-02-02-16.mp4',\n",
              " '/content/drive/MyDrive/frames_ravdess_label/sad/01-02-04-01-01-01-04.mp4',\n",
              " '/content/drive/MyDrive/frames_ravdess_label/calm/01-01-02-01-02-01-03.mp4',\n",
              " '/content/drive/MyDrive/frames_ravdess_label/calm/01-02-02-01-02-01-22.mp4',\n",
              " '/content/drive/MyDrive/frames_ravdess_label/angry/01-01-05-02-01-02-19.mp4',\n",
              " '/content/drive/MyDrive/frames_ravdess_label/fearful/01-02-06-01-01-01-06.mp4',\n",
              " '/content/drive/MyDrive/frames_ravdess_label/neutral/01-01-01-01-02-02-11.mp4',\n",
              " '/content/drive/MyDrive/frames_ravdess_label/happy/01-02-03-02-02-02-03.mp4',\n",
              " '/content/drive/MyDrive/frames_ravdess_label/fearful/01-02-06-01-01-02-15.mp4',\n",
              " '/content/drive/MyDrive/frames_ravdess_label/happy/01-01-03-02-02-02-18.mp4',\n",
              " '/content/drive/MyDrive/frames_ravdess_label/calm/01-02-02-01-01-01-22.mp4',\n",
              " '/content/drive/MyDrive/frames_ravdess_label/angry/01-01-05-02-01-02-23.mp4',\n",
              " '/content/drive/MyDrive/frames_ravdess_label/fearful/01-01-06-01-02-02-05.mp4',\n",
              " '/content/drive/MyDrive/frames_ravdess_label/angry/01-02-05-01-02-01-04.mp4',\n",
              " '/content/drive/MyDrive/frames_ravdess_label/angry/01-01-05-01-02-02-24.mp4',\n",
              " '/content/drive/MyDrive/frames_ravdess_label/neutral/01-02-01-01-01-02-04.mp4',\n",
              " '/content/drive/MyDrive/frames_ravdess_label/neutral/01-01-01-01-02-01-14.mp4',\n",
              " '/content/drive/MyDrive/frames_ravdess_label/calm/01-02-02-02-01-01-02.mp4',\n",
              " '/content/drive/MyDrive/frames_ravdess_label/fearful/01-01-06-01-01-01-20.mp4',\n",
              " '/content/drive/MyDrive/frames_ravdess_label/angry/01-01-05-02-01-02-10.mp4',\n",
              " '/content/drive/MyDrive/frames_ravdess_label/fearful/01-02-06-01-02-02-24.mp4',\n",
              " '/content/drive/MyDrive/frames_ravdess_label/angry/01-01-05-02-02-01-01.mp4']"
            ]
          },
          "metadata": {},
          "execution_count": 22
        }
      ]
    },
    {
      "cell_type": "code",
      "source": [
        "# '/content/drive/MyDrive/frames_ravdess_label/angry/01-01-05-02-02-01-01.mp4']"
      ],
      "metadata": {
        "id": "rJK-xsrkTzvC"
      },
      "execution_count": null,
      "outputs": []
    },
    {
      "cell_type": "markdown",
      "source": [
        "**please not forget to change expert number**"
      ],
      "metadata": {
        "id": "yODensEaOZ-E"
      }
    },
    {
      "cell_type": "code",
      "source": [
        "import joblib\n",
        "\n",
        "save_dir = '/content/drive/My Drive/fusion/video/data_set_fusion/expert2'\n",
        "\n",
        "savedvX = joblib.dump(labels_train, os.path.join(save_dir, 'train/labels_train'))\n",
        "savedvX = joblib.dump(labels_test, os.path.join(save_dir, 'test/labels_test'))\n",
        "savedvX = joblib.dump(labels_valid, os.path.join(save_dir, 'valid/labels_valid'))\n",
        "savedvX = joblib.dump(video_train_path, os.path.join(save_dir, 'train/video_train_path'))\n",
        "savedvX = joblib.dump(video_test_path, os.path.join(save_dir, 'test/video_test_path'))\n",
        "savedvX = joblib.dump(video_valid_path, os.path.join(save_dir, 'valid/video_valid_path'))"
      ],
      "metadata": {
        "id": "Tchx6xO0HHzb"
      },
      "execution_count": 32,
      "outputs": []
    },
    {
      "cell_type": "code",
      "source": [
        "labels_test=to_categorical(labels_test)\n",
        "labels_train=to_categorical(labels_train)\n",
        "labels_valid=to_categorical(labels_valid)"
      ],
      "metadata": {
        "id": "6lLzecnJHMaY"
      },
      "execution_count": 33,
      "outputs": []
    },
    {
      "cell_type": "code",
      "execution_count": 34,
      "metadata": {
        "id": "4WmDntbuFEzc"
      },
      "outputs": [],
      "source": [
        "def create_LRCN_model():\n",
        "    '''\n",
        "    This function will construct the required LRCN model.\n",
        "    Returns:\n",
        "        model: It is the required constructed LRCN model.\n",
        "    '''\n",
        "\n",
        "    # We will use a Sequential model for model construction.\n",
        "    model = Sequential()\n",
        "   \n",
        "    # Define the Model Architecture.\n",
        "    ########################################################################################################################\n",
        "    \n",
        "    model.add(TimeDistributed(Conv2D(16, (5, 5), padding='same'),\n",
        "                              input_shape = (SEQUENCE_LENGTH, IMAGE_HEIGHT, IMAGE_WIDTH, 3)))\n",
        "    model.add(TimeDistributed(BatchNormalization()))\n",
        "    model.add(TimeDistributed(Activation('relu')))\n",
        "    model.add(TimeDistributed(MaxPooling2D((4, 4)))) \n",
        "    model.add(TimeDistributed(Dropout(0.1)))\n",
        "    \n",
        "    model.add(TimeDistributed(Conv2D(32, (5, 5), padding='same')))\n",
        "    model.add(TimeDistributed(BatchNormalization()))\n",
        "    model.add(TimeDistributed(Activation('relu')))\n",
        "    model.add(TimeDistributed(MaxPooling2D((4, 4))))\n",
        "    model.add(TimeDistributed(Dropout(0.2)))\n",
        "    \n",
        "    model.add(TimeDistributed(Conv2D(64, (5, 5), padding='same')))\n",
        "    model.add(TimeDistributed(BatchNormalization()))\n",
        "    model.add(TimeDistributed(Activation('relu')))\n",
        "    model.add(TimeDistributed(MaxPooling2D((2, 2))))\n",
        "    model.add(TimeDistributed(Dropout(0.3)))\n",
        "    \n",
        "    model.add(TimeDistributed(Conv2D(64, (5, 5), padding='same')))\n",
        "    model.add(TimeDistributed(BatchNormalization()))\n",
        "    model.add(TimeDistributed(Activation('relu')))\n",
        "    model.add(TimeDistributed(MaxPooling2D((2, 2))))\n",
        "    #model.add(TimeDistributed(Dropout(0.25)))\n",
        "                                      \n",
        "    model.add(TimeDistributed(Flatten()))\n",
        "                                      \n",
        "    model.add(LSTM(64))\n",
        "                                      \n",
        "    model.add(Dense(len(CLASSES_LIST), activation = 'softmax'))\n",
        "\n",
        "    ########################################################################################################################\n",
        "\n",
        "    # Display the models summary.\n",
        "    model.summary()\n",
        "    \n",
        "    # Return the constructed LRCN model.\n",
        "    return model"
      ]
    },
    {
      "cell_type": "code",
      "execution_count": 35,
      "metadata": {
        "colab": {
          "base_uri": "https://localhost:8080/"
        },
        "id": "2Mjr6pjzFOkd",
        "outputId": "df0c8a4a-800a-4aa2-f6ba-357199f552c9"
      },
      "outputs": [
        {
          "output_type": "stream",
          "name": "stdout",
          "text": [
            "Model: \"sequential\"\n",
            "_________________________________________________________________\n",
            " Layer (type)                Output Shape              Param #   \n",
            "=================================================================\n",
            " time_distributed (TimeDistr  (None, 30, 64, 64, 16)   1216      \n",
            " ibuted)                                                         \n",
            "                                                                 \n",
            " time_distributed_1 (TimeDis  (None, 30, 64, 64, 16)   64        \n",
            " tributed)                                                       \n",
            "                                                                 \n",
            " time_distributed_2 (TimeDis  (None, 30, 64, 64, 16)   0         \n",
            " tributed)                                                       \n",
            "                                                                 \n",
            " time_distributed_3 (TimeDis  (None, 30, 16, 16, 16)   0         \n",
            " tributed)                                                       \n",
            "                                                                 \n",
            " time_distributed_4 (TimeDis  (None, 30, 16, 16, 16)   0         \n",
            " tributed)                                                       \n",
            "                                                                 \n",
            " time_distributed_5 (TimeDis  (None, 30, 16, 16, 32)   12832     \n",
            " tributed)                                                       \n",
            "                                                                 \n",
            " time_distributed_6 (TimeDis  (None, 30, 16, 16, 32)   128       \n",
            " tributed)                                                       \n",
            "                                                                 \n",
            " time_distributed_7 (TimeDis  (None, 30, 16, 16, 32)   0         \n",
            " tributed)                                                       \n",
            "                                                                 \n",
            " time_distributed_8 (TimeDis  (None, 30, 4, 4, 32)     0         \n",
            " tributed)                                                       \n",
            "                                                                 \n",
            " time_distributed_9 (TimeDis  (None, 30, 4, 4, 32)     0         \n",
            " tributed)                                                       \n",
            "                                                                 \n",
            " time_distributed_10 (TimeDi  (None, 30, 4, 4, 64)     51264     \n",
            " stributed)                                                      \n",
            "                                                                 \n",
            " time_distributed_11 (TimeDi  (None, 30, 4, 4, 64)     256       \n",
            " stributed)                                                      \n",
            "                                                                 \n",
            " time_distributed_12 (TimeDi  (None, 30, 4, 4, 64)     0         \n",
            " stributed)                                                      \n",
            "                                                                 \n",
            " time_distributed_13 (TimeDi  (None, 30, 2, 2, 64)     0         \n",
            " stributed)                                                      \n",
            "                                                                 \n",
            " time_distributed_14 (TimeDi  (None, 30, 2, 2, 64)     0         \n",
            " stributed)                                                      \n",
            "                                                                 \n",
            " time_distributed_15 (TimeDi  (None, 30, 2, 2, 64)     102464    \n",
            " stributed)                                                      \n",
            "                                                                 \n",
            " time_distributed_16 (TimeDi  (None, 30, 2, 2, 64)     256       \n",
            " stributed)                                                      \n",
            "                                                                 \n",
            " time_distributed_17 (TimeDi  (None, 30, 2, 2, 64)     0         \n",
            " stributed)                                                      \n",
            "                                                                 \n",
            " time_distributed_18 (TimeDi  (None, 30, 1, 1, 64)     0         \n",
            " stributed)                                                      \n",
            "                                                                 \n",
            " time_distributed_19 (TimeDi  (None, 30, 64)           0         \n",
            " stributed)                                                      \n",
            "                                                                 \n",
            " lstm (LSTM)                 (None, 64)                33024     \n",
            "                                                                 \n",
            " dense (Dense)               (None, 6)                 390       \n",
            "                                                                 \n",
            "=================================================================\n",
            "Total params: 201,894\n",
            "Trainable params: 201,542\n",
            "Non-trainable params: 352\n",
            "_________________________________________________________________\n",
            "Model Created Successfully!\n"
          ]
        }
      ],
      "source": [
        "# Construct the required LRCN model.\n",
        "LRCN_model = create_LRCN_model()\n",
        "\n",
        "# Display the success message.\n",
        "print(\"Model Created Successfully!\")\n"
      ]
    },
    {
      "cell_type": "code",
      "execution_count": 36,
      "metadata": {
        "colab": {
          "base_uri": "https://localhost:8080/"
        },
        "id": "dvXcqO0TFRzR",
        "outputId": "c49ce309-d7c1-42a4-92e5-ff47c252e90f"
      },
      "outputs": [
        {
          "output_type": "stream",
          "name": "stdout",
          "text": [
            "Epoch 1/100\n",
            "414/414 [==============================] - 20s 18ms/step - loss: 1.5223 - accuracy: 0.3406 - val_loss: 1.5815 - val_accuracy: 0.3961\n",
            "Epoch 2/100\n",
            "414/414 [==============================] - 6s 15ms/step - loss: 1.2062 - accuracy: 0.4961 - val_loss: 1.0220 - val_accuracy: 0.5894\n",
            "Epoch 3/100\n",
            "414/414 [==============================] - 6s 15ms/step - loss: 1.0487 - accuracy: 0.5632 - val_loss: 0.9926 - val_accuracy: 0.5894\n",
            "Epoch 4/100\n",
            "414/414 [==============================] - 6s 15ms/step - loss: 0.9993 - accuracy: 0.5735 - val_loss: 3.1957 - val_accuracy: 0.2657\n",
            "Epoch 5/100\n",
            "414/414 [==============================] - 6s 15ms/step - loss: 0.9224 - accuracy: 0.6195 - val_loss: 1.0600 - val_accuracy: 0.5942\n",
            "Epoch 6/100\n",
            "414/414 [==============================] - 6s 15ms/step - loss: 0.8054 - accuracy: 0.6715 - val_loss: 0.8401 - val_accuracy: 0.6570\n",
            "Epoch 7/100\n",
            "414/414 [==============================] - 6s 15ms/step - loss: 0.7250 - accuracy: 0.7217 - val_loss: 0.5887 - val_accuracy: 0.7923\n",
            "Epoch 8/100\n",
            "414/414 [==============================] - 6s 15ms/step - loss: 0.6544 - accuracy: 0.7526 - val_loss: 1.3780 - val_accuracy: 0.5507\n",
            "Epoch 9/100\n",
            "414/414 [==============================] - 6s 15ms/step - loss: 0.6040 - accuracy: 0.7677 - val_loss: 0.7076 - val_accuracy: 0.7246\n",
            "Epoch 10/100\n",
            "414/414 [==============================] - 6s 15ms/step - loss: 0.5446 - accuracy: 0.7973 - val_loss: 0.5844 - val_accuracy: 0.7874\n",
            "Epoch 11/100\n",
            "414/414 [==============================] - 6s 15ms/step - loss: 0.5218 - accuracy: 0.8070 - val_loss: 0.8069 - val_accuracy: 0.7440\n",
            "Epoch 12/100\n",
            "414/414 [==============================] - 6s 15ms/step - loss: 0.4454 - accuracy: 0.8355 - val_loss: 1.3522 - val_accuracy: 0.6184\n",
            "Epoch 13/100\n",
            "414/414 [==============================] - 6s 15ms/step - loss: 0.4355 - accuracy: 0.8439 - val_loss: 1.3716 - val_accuracy: 0.5990\n",
            "Epoch 14/100\n",
            "414/414 [==============================] - 6s 15ms/step - loss: 0.3709 - accuracy: 0.8681 - val_loss: 0.4995 - val_accuracy: 0.8019\n",
            "Epoch 15/100\n",
            "414/414 [==============================] - 6s 15ms/step - loss: 0.3608 - accuracy: 0.8724 - val_loss: 1.1051 - val_accuracy: 0.6184\n",
            "Epoch 16/100\n",
            "414/414 [==============================] - 6s 15ms/step - loss: 0.3451 - accuracy: 0.8754 - val_loss: 0.6140 - val_accuracy: 0.7633\n",
            "Epoch 17/100\n",
            "414/414 [==============================] - 6s 15ms/step - loss: 0.3226 - accuracy: 0.8748 - val_loss: 1.1095 - val_accuracy: 0.7053\n",
            "Epoch 18/100\n",
            "414/414 [==============================] - 6s 15ms/step - loss: 0.2830 - accuracy: 0.9032 - val_loss: 0.4817 - val_accuracy: 0.7971\n",
            "Epoch 19/100\n",
            "414/414 [==============================] - 6s 15ms/step - loss: 0.2775 - accuracy: 0.8996 - val_loss: 0.9198 - val_accuracy: 0.7343\n",
            "Epoch 20/100\n",
            "414/414 [==============================] - 6s 15ms/step - loss: 0.2645 - accuracy: 0.9080 - val_loss: 0.2336 - val_accuracy: 0.9275\n",
            "Epoch 21/100\n",
            "414/414 [==============================] - 6s 15ms/step - loss: 0.2465 - accuracy: 0.9147 - val_loss: 0.9858 - val_accuracy: 0.7150\n",
            "Epoch 22/100\n",
            "414/414 [==============================] - 6s 15ms/step - loss: 0.2283 - accuracy: 0.9195 - val_loss: 0.3806 - val_accuracy: 0.8986\n",
            "Epoch 23/100\n",
            "414/414 [==============================] - 6s 15ms/step - loss: 0.2188 - accuracy: 0.9298 - val_loss: 0.3509 - val_accuracy: 0.8792\n",
            "Epoch 24/100\n",
            "414/414 [==============================] - 7s 16ms/step - loss: 0.2386 - accuracy: 0.9135 - val_loss: 0.3162 - val_accuracy: 0.9082\n",
            "Epoch 25/100\n",
            "414/414 [==============================] - 6s 15ms/step - loss: 0.1900 - accuracy: 0.9262 - val_loss: 0.3478 - val_accuracy: 0.8841\n",
            "Epoch 26/100\n",
            "414/414 [==============================] - 6s 15ms/step - loss: 0.1976 - accuracy: 0.9322 - val_loss: 0.8131 - val_accuracy: 0.7826\n",
            "Epoch 27/100\n",
            "414/414 [==============================] - 6s 15ms/step - loss: 0.1936 - accuracy: 0.9238 - val_loss: 0.5661 - val_accuracy: 0.8599\n",
            "Epoch 28/100\n",
            "414/414 [==============================] - 6s 15ms/step - loss: 0.1650 - accuracy: 0.9437 - val_loss: 0.4280 - val_accuracy: 0.8599\n",
            "Epoch 29/100\n",
            "414/414 [==============================] - 6s 15ms/step - loss: 0.1914 - accuracy: 0.9286 - val_loss: 0.3928 - val_accuracy: 0.8841\n",
            "Epoch 30/100\n",
            "414/414 [==============================] - 6s 15ms/step - loss: 0.1617 - accuracy: 0.9474 - val_loss: 0.4676 - val_accuracy: 0.8599\n",
            "Epoch 31/100\n",
            "414/414 [==============================] - 6s 15ms/step - loss: 0.1628 - accuracy: 0.9431 - val_loss: 0.5220 - val_accuracy: 0.8551\n",
            "Epoch 32/100\n",
            "414/414 [==============================] - 6s 16ms/step - loss: 0.1828 - accuracy: 0.9353 - val_loss: 0.4097 - val_accuracy: 0.8696\n",
            "Epoch 33/100\n",
            "414/414 [==============================] - 6s 15ms/step - loss: 0.1256 - accuracy: 0.9570 - val_loss: 0.4499 - val_accuracy: 0.8357\n",
            "Epoch 34/100\n",
            "414/414 [==============================] - 6s 15ms/step - loss: 0.1158 - accuracy: 0.9649 - val_loss: 0.3140 - val_accuracy: 0.9082\n",
            "Epoch 35/100\n",
            "414/414 [==============================] - 6s 15ms/step - loss: 0.1362 - accuracy: 0.9498 - val_loss: 0.2895 - val_accuracy: 0.9082\n",
            "Epoch 36/100\n",
            "414/414 [==============================] - 6s 16ms/step - loss: 0.1625 - accuracy: 0.9413 - val_loss: 0.3558 - val_accuracy: 0.9082\n",
            "Epoch 37/100\n",
            "414/414 [==============================] - 6s 15ms/step - loss: 0.0964 - accuracy: 0.9685 - val_loss: 0.6050 - val_accuracy: 0.8599\n",
            "Epoch 38/100\n",
            "414/414 [==============================] - 6s 15ms/step - loss: 0.1109 - accuracy: 0.9619 - val_loss: 0.7186 - val_accuracy: 0.7874\n",
            "Epoch 39/100\n",
            "414/414 [==============================] - 6s 15ms/step - loss: 0.1278 - accuracy: 0.9583 - val_loss: 0.3062 - val_accuracy: 0.8937\n",
            "Epoch 40/100\n",
            "414/414 [==============================] - 6s 15ms/step - loss: 0.1403 - accuracy: 0.9552 - val_loss: 0.7886 - val_accuracy: 0.8213\n",
            "Epoch 41/100\n",
            "414/414 [==============================] - 6s 15ms/step - loss: 0.0849 - accuracy: 0.9734 - val_loss: 0.5838 - val_accuracy: 0.8406\n",
            "Epoch 42/100\n",
            "414/414 [==============================] - 6s 15ms/step - loss: 0.1451 - accuracy: 0.9528 - val_loss: 0.5851 - val_accuracy: 0.8406\n",
            "Epoch 43/100\n",
            "414/414 [==============================] - 6s 15ms/step - loss: 0.0877 - accuracy: 0.9710 - val_loss: 0.7041 - val_accuracy: 0.8309\n",
            "Epoch 44/100\n",
            "414/414 [==============================] - 6s 15ms/step - loss: 0.1021 - accuracy: 0.9595 - val_loss: 0.8473 - val_accuracy: 0.7633\n",
            "Epoch 45/100\n",
            "414/414 [==============================] - 6s 15ms/step - loss: 0.0820 - accuracy: 0.9746 - val_loss: 0.2446 - val_accuracy: 0.9130\n"
          ]
        }
      ],
      "source": [
        "# Create an Instance of Early Stopping Callback.\n",
        "early_stopping_callback = EarlyStopping(monitor = 'val_loss', patience = 25, mode = 'min', restore_best_weights = True)\n",
        " \n",
        "# Compile the model and specify loss function, optimizer and metrics to the model.\n",
        "LRCN_model.compile(loss = 'categorical_crossentropy', optimizer = 'Adam', metrics = [\"accuracy\"])\n",
        "\n",
        "# Start training the model.\n",
        "LRCN_model_training_history = LRCN_model.fit(x = features_train, y = labels_train, epochs = 100, batch_size = 4 ,\n",
        "                                             shuffle = True, validation_data = (features_valid,labels_valid), callbacks = [early_stopping_callback])"
      ]
    },
    {
      "cell_type": "code",
      "execution_count": 37,
      "metadata": {
        "colab": {
          "base_uri": "https://localhost:8080/"
        },
        "id": "2UP4-H_oF4TZ",
        "outputId": "c69e8111-02a3-4fc7-a800-c4e665a405e0"
      },
      "outputs": [
        {
          "output_type": "stream",
          "name": "stdout",
          "text": [
            "7/7 [==============================] - 0s 38ms/step - loss: 0.1689 - accuracy: 0.9179\n"
          ]
        }
      ],
      "source": [
        "# Evaluate the trained model.\n",
        "model_evaluation_history = LRCN_model.evaluate(features_test, labels_test)"
      ]
    },
    {
      "cell_type": "markdown",
      "source": [
        "**please don't forget to change expert number**"
      ],
      "metadata": {
        "id": "6cFm75mqPQv2"
      }
    },
    {
      "cell_type": "code",
      "execution_count": 38,
      "metadata": {
        "id": "ZQFzvcgbF73v"
      },
      "outputs": [],
      "source": [
        "# Get the loss and accuracy from model_evaluation_history.\n",
        "model_evaluation_loss, model_evaluation_accuracy = model_evaluation_history\n",
        "\n",
        "# Define the string date format.\n",
        "# Get the current Date and Time in a DateTime Object.\n",
        "# Convert the DateTime object to string according to the style mentioned in date_time_format string.\n",
        "#date_time_format = '%Y_%m_%d__%H_%M_%S'\n",
        "#current_date_time_dt = dt.datetime.now()\n",
        "#current_date_time_string = dt.datetime.strftime(current_date_time_dt, date_time_format)\n",
        "    \n",
        "# Define a useful name for our model to make it easy for us while navigating through multiple saved models.\n",
        "model_file_name = f'/content/drive/My Drive/fusion/video/model/expert2/best_LRCN_model___Loss_{model_evaluation_loss}___Accuracy_{model_evaluation_accuracy}.h5'\n",
        "\n",
        "# Save the Model.\n",
        "LRCN_model.save(model_file_name)"
      ]
    },
    {
      "cell_type": "code",
      "source": [
        "from keras.models import save_model\n",
        "\n",
        "# you can write whatever you desire instead of 'my_model'\n",
        "# model = Your trained model\n",
        "LRCN_model.save('/content/drive/My Drive/fusion/video/model/expert2/best_LRCN_model')\n"
      ],
      "metadata": {
        "colab": {
          "base_uri": "https://localhost:8080/"
        },
        "id": "A18RutO-XK26",
        "outputId": "e467428a-885b-40f0-b5f4-bd48eb3e492c"
      },
      "execution_count": 39,
      "outputs": [
        {
          "output_type": "stream",
          "name": "stderr",
          "text": [
            "WARNING:absl:Found untraced functions such as lstm_cell_layer_call_fn, lstm_cell_layer_call_and_return_conditional_losses while saving (showing 2 of 2). These functions will not be directly callable after loading.\n"
          ]
        },
        {
          "output_type": "stream",
          "name": "stdout",
          "text": [
            "INFO:tensorflow:Assets written to: /content/drive/My Drive/fusion/video/model/expert2/best_LRCN_model/assets\n"
          ]
        },
        {
          "output_type": "stream",
          "name": "stderr",
          "text": [
            "INFO:tensorflow:Assets written to: /content/drive/My Drive/fusion/video/model/expert2/best_LRCN_model/assets\n",
            "WARNING:absl:<keras.layers.recurrent.LSTMCell object at 0x7fad400f1090> has the same name 'LSTMCell' as a built-in Keras object. Consider renaming <class 'keras.layers.recurrent.LSTMCell'> to avoid naming conflicts when loading with `tf.keras.models.load_model`. If renaming is not possible, pass the object in the `custom_objects` parameter of the load function.\n"
          ]
        }
      ]
    },
    {
      "cell_type": "code",
      "source": [
        "# serialize model to JSON\n",
        "model_json = LRCN_model.to_json()\n",
        "with open(\"/content/drive/My Drive/fusion/video/model/expert2/best_LRCN_model.json\", \"w\") as json_file:\n",
        "    json_file.write(model_json)"
      ],
      "metadata": {
        "id": "Ttu6HwNtXx7x"
      },
      "execution_count": 40,
      "outputs": []
    },
    {
      "cell_type": "code",
      "execution_count": 41,
      "metadata": {
        "id": "f6YHM7o_F-LU"
      },
      "outputs": [],
      "source": [
        "def plot_metric(model_training_history, metric_name_1, metric_name_2, plot_name):\n",
        "    '''\n",
        "    This function will plot the metrics passed to it in a graph.\n",
        "    Args:\n",
        "        model_training_history: A history object containing a record of training and validation \n",
        "                                loss values and metrics values at successive epochs\n",
        "        metric_name_1:          The name of the first metric that needs to be plotted in the graph.\n",
        "        metric_name_2:          The name of the second metric that needs to be plotted in the graph.\n",
        "        plot_name:              The title of the graph.\n",
        "    '''\n",
        "    \n",
        "    # Get metric values using metric names as identifiers.\n",
        "    metric_value_1 = model_training_history.history[metric_name_1]\n",
        "    metric_value_2 = model_training_history.history[metric_name_2]\n",
        "    \n",
        "    # Construct a range object which will be used as x-axis (horizontal plane) of the graph.\n",
        "    epochs = range(len(metric_value_1))\n",
        "\n",
        "    # Plot the Graph.\n",
        "    plt.plot(epochs, metric_value_1, 'blue', label = metric_name_1)\n",
        "    plt.plot(epochs, metric_value_2, 'red', label = metric_name_2)\n",
        "\n",
        "    # Add title to the plot.\n",
        "    plt.title(str(plot_name))\n",
        "\n",
        "    # Add legend to the plot.\n",
        "    plt.legend()"
      ]
    },
    {
      "cell_type": "code",
      "execution_count": 42,
      "metadata": {
        "colab": {
          "base_uri": "https://localhost:8080/",
          "height": 281
        },
        "id": "3V346_N6GAKN",
        "outputId": "ad0fd545-13bb-4c1d-8c1b-6e51e7f3f2be"
      },
      "outputs": [
        {
          "output_type": "display_data",
          "data": {
            "text/plain": [
              "<Figure size 432x288 with 1 Axes>"
            ],
            "image/png": "[encoded data removed]"
          },
          "metadata": {
            "needs_background": "light"
          }
        }
      ],
      "source": [
        "# Visualize the training and validation loss metrices.\n",
        "plot_metric(LRCN_model_training_history, 'loss', 'val_loss', 'Total Loss vs Total Validation Loss')"
      ]
    },
    {
      "cell_type": "code",
      "execution_count": 43,
      "metadata": {
        "colab": {
          "base_uri": "https://localhost:8080/",
          "height": 281
        },
        "id": "K-2dqoIFGCZl",
        "outputId": "71c8420c-d6b2-4e31-d887-c9fa08d8bc6e"
      },
      "outputs": [
        {
          "output_type": "display_data",
          "data": {
            "text/plain": [
              "<Figure size 432x288 with 1 Axes>"
            ],
            "image/png": "[encoded data removed]"
          },
          "metadata": {
            "needs_background": "light"
          }
        }
      ],
      "source": [
        "# Visualize the training and validation accuracy metrices.\n",
        "plot_metric(LRCN_model_training_history, 'accuracy', 'val_accuracy', 'Total Accuracy vs Total Validation Accuracy')"
      ]
    },
    {
      "cell_type": "code",
      "execution_count": 44,
      "metadata": {
        "colab": {
          "base_uri": "https://localhost:8080/"
        },
        "id": "UIQGDtkcGGu0",
        "outputId": "1c5737ff-068b-469c-8c3e-04238d1c1097"
      },
      "outputs": [
        {
          "output_type": "execute_result",
          "data": {
            "text/plain": [
              "array([[3.4799349e-02, 7.4193007e-03, 5.8334113e-05, 8.5845917e-01,\n",
              "        2.8796713e-03, 9.6384168e-02],\n",
              "       [1.3955313e-03, 9.8738676e-01, 3.2620218e-03, 6.6159274e-03,\n",
              "        1.2797733e-03, 5.9923903e-05],\n",
              "       [5.1943985e-06, 3.4298791e-05, 2.7806382e-05, 1.1520557e-03,\n",
              "        9.9653733e-01, 2.2434120e-03],\n",
              "       ...,\n",
              "       [8.2945848e-01, 3.2727998e-02, 2.2231713e-04, 1.2605965e-01,\n",
              "        3.2997524e-04, 1.1201593e-02],\n",
              "       [4.7118806e-06, 2.4018688e-03, 9.9728692e-01, 1.8621130e-04,\n",
              "        1.7031622e-05, 1.0329654e-04],\n",
              "       [3.8874124e-03, 9.7822738e-01, 1.5191780e-02, 1.5491989e-03,\n",
              "        1.0673091e-03, 7.6917087e-05]], dtype=float32)"
            ]
          },
          "metadata": {},
          "execution_count": 44
        }
      ],
      "source": [
        "predictions =  LRCN_model.predict(features_test)\n",
        "predictions"
      ]
    },
    {
      "cell_type": "code",
      "execution_count": 45,
      "metadata": {
        "colab": {
          "base_uri": "https://localhost:8080/"
        },
        "id": "E7smnX9oGMly",
        "outputId": "4ce31b45-18fa-4ba2-d292-08924a6e913c"
      },
      "outputs": [
        {
          "output_type": "execute_result",
          "data": {
            "text/plain": [
              "array([3, 1, 4, 1, 5, 3, 5, 0, 2, 2, 2, 4, 0, 1, 0, 4, 1, 1, 4, 5, 0, 2,\n",
              "       2, 1, 0, 2, 2, 3, 4, 1, 3, 0, 2, 1, 1, 3, 1, 4, 0, 5, 1, 4, 5, 1,\n",
              "       2, 2, 1, 0, 4, 3, 4, 1, 5, 0, 1, 4, 3, 3, 3, 5, 0, 1, 4, 3, 4, 5,\n",
              "       1, 4, 2, 0, 5, 2, 3, 3, 2, 1, 5, 4, 5, 5, 3, 2, 5, 4, 3, 2, 4, 4,\n",
              "       4, 4, 2, 0, 2, 1, 2, 1, 4, 1, 2, 5, 4, 5, 5, 2, 5, 2, 1, 3, 3, 5,\n",
              "       5, 1, 5, 4, 4, 2, 4, 4, 2, 2, 1, 1, 1, 3, 3, 0, 3, 1, 5, 4, 5, 3,\n",
              "       0, 5, 2, 1, 4, 4, 3, 3, 5, 1, 1, 3, 1, 1, 4, 2, 3, 3, 2, 5, 3, 5,\n",
              "       3, 3, 0, 5, 3, 4, 3, 5, 3, 2, 3, 5, 0, 3, 3, 5, 5, 1, 0, 2, 1, 3,\n",
              "       4, 5, 1, 1, 5, 1, 0, 3, 1, 2, 0, 0, 5, 2, 0, 0, 3, 0, 5, 0, 0, 1,\n",
              "       5, 5, 2, 4, 3, 1, 0, 2, 1])"
            ]
          },
          "metadata": {},
          "execution_count": 45
        }
      ],
      "source": [
        "preds=predictions.argmax(axis=1)\n",
        "preds"
      ]
    },
    {
      "cell_type": "code",
      "execution_count": 46,
      "metadata": {
        "colab": {
          "base_uri": "https://localhost:8080/"
        },
        "id": "DvrDaZw2GPHK",
        "outputId": "4e2ab91c-154e-4a8c-ee01-c3ff377c2c3a"
      },
      "outputs": [
        {
          "output_type": "execute_result",
          "data": {
            "text/plain": [
              "array([3, 1, 4, 1, 5, 3, 5, 0, 2, 2, 2, 4, 0, 1, 0, 4, 1, 1, 4, 5, 0, 2,\n",
              "       2, 1, 0, 2, 2, 3, 4, 1, 3, 0, 2, 1, 1, 3, 1, 4, 0, 5, 1, 4, 5, 1,\n",
              "       2, 2, 1, 0, 4, 3, 4, 1, 5, 0, 1, 4, 3, 3, 3, 5, 0, 1, 4, 3, 4, 5,\n",
              "       1, 4, 2, 0, 5, 2, 3, 3, 2, 1, 5, 4, 5, 5, 3, 2, 5, 4, 3, 2, 4, 4,\n",
              "       4, 4, 2, 0, 2, 1, 2, 1, 4, 1, 2, 5, 4, 5, 5, 2, 5, 2, 1, 3, 3, 5,\n",
              "       5, 1, 5, 4, 4, 2, 4, 4, 2, 2, 1, 1, 1, 3, 3, 0, 3, 1, 5, 4, 5, 3,\n",
              "       0, 5, 2, 1, 4, 4, 3, 3, 5, 1, 1, 3, 1, 1, 4, 2, 3, 3, 2, 5, 3, 5,\n",
              "       3, 3, 0, 5, 3, 4, 3, 5, 3, 2, 3, 5, 0, 3, 3, 5, 5, 1, 0, 2, 1, 3,\n",
              "       4, 5, 1, 1, 5, 1, 0, 3, 1, 2, 0, 0, 5, 2, 0, 0, 3, 0, 5, 0, 0, 1,\n",
              "       5, 5, 2, 4, 3, 1, 0, 2, 1])"
            ]
          },
          "metadata": {},
          "execution_count": 46
        }
      ],
      "source": [
        "new_preds = preds.astype(int).flatten()\n",
        "new_preds"
      ]
    },
    {
      "cell_type": "code",
      "execution_count": 47,
      "metadata": {
        "colab": {
          "base_uri": "https://localhost:8080/",
          "height": 508
        },
        "id": "7p7e1ihVGSke",
        "outputId": "06ee328a-e699-430f-b4e4-083757e753b5"
      },
      "outputs": [
        {
          "output_type": "stream",
          "name": "stdout",
          "text": [
            "              precision    recall  f1-score   support\n",
            "\n",
            "           0       0.81      1.00      0.89        21\n",
            "           1       0.93      0.95      0.94        40\n",
            "           2       1.00      0.92      0.96        36\n",
            "           3       0.95      0.84      0.89        43\n",
            "           4       1.00      0.91      0.96        35\n",
            "           5       0.81      0.94      0.87        32\n",
            "\n",
            "    accuracy                           0.92       207\n",
            "   macro avg       0.92      0.93      0.92       207\n",
            "weighted avg       0.93      0.92      0.92       207\n",
            "\n",
            "----accuracy score 91.78743961352657 ----\n"
          ]
        },
        {
          "output_type": "display_data",
          "data": {
            "text/plain": [
              "<Figure size 432x288 with 2 Axes>"
            ],
            "image/png": "[encoded data removed]"
          },
          "metadata": {
            "needs_background": "light"
          }
        }
      ],
      "source": [
        "from sklearn.metrics import classification_report, confusion_matrix,accuracy_score\n",
        "import seaborn as sn\n",
        "import pandas as pd\n",
        "import numpy as np\n",
        "new_labels=np.argmax(labels_test, axis=1)\n",
        "print(classification_report(new_labels,new_preds))\n",
        "\n",
        "acc = float(accuracy_score(new_labels,new_preds))*100\n",
        "print(\"----accuracy score %s ----\" % acc)\n",
        "\n",
        "cm = confusion_matrix(new_labels,new_preds)\n",
        "#df_cm = pd.DataFrame(cm)\n",
        "class_names = ['neutral','calm', 'happy','sad','angry', 'fearful' ]\n",
        "df_cm = pd.DataFrame(cm, index=class_names, columns=class_names,)\n",
        "sn.heatmap(df_cm, annot=True, fmt='')\n",
        "plt.show()"
      ]
    },
    {
      "cell_type": "code",
      "source": [
        "predictions_train=LRCN_model.predict(features_train)\n",
        "predictions_valid=LRCN_model.predict(features_valid)"
      ],
      "metadata": {
        "id": "n3lLZ2bpZ3u0"
      },
      "execution_count": 48,
      "outputs": []
    },
    {
      "cell_type": "code",
      "source": [
        "df_video_train=pd.DataFrame(predictions_train,columns=[\"OV_\"+str(i) for i in range(6)]) \n",
        "df_video_test=pd.DataFrame(predictions,columns=[\"OV_\"+str(i) for i in range(6)]) \n",
        "df_video_valid=pd.DataFrame(predictions_valid,columns=[\"OV_\"+str(i) for i in range(6)])"
      ],
      "metadata": {
        "id": "FYlqyEzUcl7n"
      },
      "execution_count": 49,
      "outputs": []
    },
    {
      "cell_type": "code",
      "source": [
        "df_video_valid"
      ],
      "metadata": {
        "colab": {
          "base_uri": "https://localhost:8080/",
          "height": 424
        },
        "id": "rz92KqhXcw3Q",
        "outputId": "424aee34-22e3-4d55-e957-d68da4f2b950"
      },
      "execution_count": 50,
      "outputs": [
        {
          "output_type": "execute_result",
          "data": {
            "text/plain": [
              "         OV_0      OV_1      OV_2      OV_3      OV_4      OV_5\n",
              "0    0.000006  0.000883  0.998844  0.000131  0.000052  0.000084\n",
              "1    0.000020  0.000278  0.000048  0.001501  0.997224  0.000929\n",
              "2    0.742997  0.236061  0.000986  0.016300  0.001366  0.002290\n",
              "3    0.000834  0.013438  0.000048  0.977378  0.000210  0.008092\n",
              "4    0.054731  0.925814  0.015475  0.002326  0.001119  0.000535\n",
              "..        ...       ...       ...       ...       ...       ...\n",
              "202  0.000006  0.000039  0.000070  0.001118  0.995057  0.003711\n",
              "203  0.001364  0.514139  0.464604  0.017488  0.000136  0.002269\n",
              "204  0.000059  0.000045  0.000058  0.015229  0.002455  0.982153\n",
              "205  0.000124  0.000557  0.000073  0.025379  0.955971  0.017896\n",
              "206  0.000063  0.000039  0.000053  0.017131  0.000548  0.982165\n",
              "\n",
              "[207 rows x 6 columns]"
            ],
            "text/html": [
              "\n",
              "  <div id=\"df-7224e3f5-bac5-4750-8fb1-0399d9eb3082\">\n",
              "    <div class=\"colab-df-container\">\n",
              "      <div>\n",
              "<style scoped>\n",
              "    .dataframe tbody tr th:only-of-type {\n",
              "        vertical-align: middle;\n",
              "    }\n",
              "\n",
              "    .dataframe tbody tr th {\n",
              "        vertical-align: top;\n",
              "    }\n",
              "\n",
              "    .dataframe thead th {\n",
              "        text-align: right;\n",
              "    }\n",
              "</style>\n",
              "<table border=\"1\" class=\"dataframe\">\n",
              "  <thead>\n",
              "    <tr style=\"text-align: right;\">\n",
              "      <th></th>\n",
              "      <th>OV_0</th>\n",
              "      <th>OV_1</th>\n",
              "      <th>OV_2</th>\n",
              "      <th>OV_3</th>\n",
              "      <th>OV_4</th>\n",
              "      <th>OV_5</th>\n",
              "    </tr>\n",
              "  </thead>\n",
              "  <tbody>\n",
              "    <tr>\n",
              "      <th>0</th>\n",
              "      <td>0.000006</td>\n",
              "      <td>0.000883</td>\n",
              "      <td>0.998844</td>\n",
              "      <td>0.000131</td>\n",
              "      <td>0.000052</td>\n",
              "      <td>0.000084</td>\n",
              "    </tr>\n",
              "    <tr>\n",
              "      <th>1</th>\n",
              "      <td>0.000020</td>\n",
              "      <td>0.000278</td>\n",
              "      <td>0.000048</td>\n",
              "      <td>0.001501</td>\n",
              "      <td>0.997224</td>\n",
              "      <td>0.000929</td>\n",
              "    </tr>\n",
              "    <tr>\n",
              "      <th>2</th>\n",
              "      <td>0.742997</td>\n",
              "      <td>0.236061</td>\n",
              "      <td>0.000986</td>\n",
              "      <td>0.016300</td>\n",
              "      <td>0.001366</td>\n",
              "      <td>0.002290</td>\n",
              "    </tr>\n",
              "    <tr>\n",
              "      <th>3</th>\n",
              "      <td>0.000834</td>\n",
              "      <td>0.013438</td>\n",
              "      <td>0.000048</td>\n",
              "      <td>0.977378</td>\n",
              "      <td>0.000210</td>\n",
              "      <td>0.008092</td>\n",
              "    </tr>\n",
              "    <tr>\n",
              "      <th>4</th>\n",
              "      <td>0.054731</td>\n",
              "      <td>0.925814</td>\n",
              "      <td>0.015475</td>\n",
              "      <td>0.002326</td>\n",
              "      <td>0.001119</td>\n",
              "      <td>0.000535</td>\n",
              "    </tr>\n",
              "    <tr>\n",
              "      <th>...</th>\n",
              "      <td>...</td>\n",
              "      <td>...</td>\n",
              "      <td>...</td>\n",
              "      <td>...</td>\n",
              "      <td>...</td>\n",
              "      <td>...</td>\n",
              "    </tr>\n",
              "    <tr>\n",
              "      <th>202</th>\n",
              "      <td>0.000006</td>\n",
              "      <td>0.000039</td>\n",
              "      <td>0.000070</td>\n",
              "      <td>0.001118</td>\n",
              "      <td>0.995057</td>\n",
              "      <td>0.003711</td>\n",
              "    </tr>\n",
              "    <tr>\n",
              "      <th>203</th>\n",
              "      <td>0.001364</td>\n",
              "      <td>0.514139</td>\n",
              "      <td>0.464604</td>\n",
              "      <td>0.017488</td>\n",
              "      <td>0.000136</td>\n",
              "      <td>0.002269</td>\n",
              "    </tr>\n",
              "    <tr>\n",
              "      <th>204</th>\n",
              "      <td>0.000059</td>\n",
              "      <td>0.000045</td>\n",
              "      <td>0.000058</td>\n",
              "      <td>0.015229</td>\n",
              "      <td>0.002455</td>\n",
              "      <td>0.982153</td>\n",
              "    </tr>\n",
              "    <tr>\n",
              "      <th>205</th>\n",
              "      <td>0.000124</td>\n",
              "      <td>0.000557</td>\n",
              "      <td>0.000073</td>\n",
              "      <td>0.025379</td>\n",
              "      <td>0.955971</td>\n",
              "      <td>0.017896</td>\n",
              "    </tr>\n",
              "    <tr>\n",
              "      <th>206</th>\n",
              "      <td>0.000063</td>\n",
              "      <td>0.000039</td>\n",
              "      <td>0.000053</td>\n",
              "      <td>0.017131</td>\n",
              "      <td>0.000548</td>\n",
              "      <td>0.982165</td>\n",
              "    </tr>\n",
              "  </tbody>\n",
              "</table>\n",
              "<p>207 rows × 6 columns</p>\n",
              "</div>\n",
              "      <button class=\"colab-df-convert\" onclick=\"convertToInteractive('df-7224e3f5-bac5-4750-8fb1-0399d9eb3082')\"\n",
              "              title=\"Convert this dataframe to an interactive table.\"\n",
              "              style=\"display:none;\">\n",
              "        \n",
              "  <svg xmlns=\"http://www.w3.org/2000/svg\" height=\"24px\"viewBox=\"0 0 24 24\"\n",
              "       width=\"24px\">\n",
              "    <path d=\"M0 0h24v24H0V0z\" fill=\"none\"/>\n",
              "    <path d=\"M18.56 5.44l.94 2.06.94-2.06 2.06-.94-2.06-.94-.94-2.06-.94 2.06-2.06.94zm-11 1L8.5 8.5l.94-2.06 2.06-.94-2.06-.94L8.5 2.5l-.94 2.06-2.06.94zm10 10l.94 2.06.94-2.06 2.06-.94-2.06-.94-.94-2.06-.94 2.06-2.06.94z\"/><path d=\"M17.41 7.96l-1.37-1.37c-.4-.4-.92-.59-1.43-.59-.52 0-1.04.2-1.43.59L10.3 9.45l-7.72 7.72c-.78.78-.78 2.05 0 2.83L4 21.41c.39.39.9.59 1.41.59.51 0 1.02-.2 1.41-.59l7.78-7.78 2.81-2.81c.8-.78.8-2.07 0-2.86zM5.41 20L4 18.59l7.72-7.72 1.47 1.35L5.41 20z\"/>\n",
              "  </svg>\n",
              "      </button>\n",
              "      \n",
              "  <style>\n",
              "    .colab-df-container {\n",
              "      display:flex;\n",
              "      flex-wrap:wrap;\n",
              "      gap: 12px;\n",
              "    }\n",
              "\n",
              "    .colab-df-convert {\n",
              "      background-color: #E8F0FE;\n",
              "      border: none;\n",
              "      border-radius: 50%;\n",
              "      cursor: pointer;\n",
              "      display: none;\n",
              "      fill: #1967D2;\n",
              "      height: 32px;\n",
              "      padding: 0 0 0 0;\n",
              "      width: 32px;\n",
              "    }\n",
              "\n",
              "    .colab-df-convert:hover {\n",
              "      background-color: #E2EBFA;\n",
              "      box-shadow: 0px 1px 2px rgba(60, 64, 67, 0.3), 0px 1px 3px 1px rgba(60, 64, 67, 0.15);\n",
              "      fill: #174EA6;\n",
              "    }\n",
              "\n",
              "    [theme=dark] .colab-df-convert {\n",
              "      background-color: #3B4455;\n",
              "      fill: #D2E3FC;\n",
              "    }\n",
              "\n",
              "    [theme=dark] .colab-df-convert:hover {\n",
              "      background-color: #434B5C;\n",
              "      box-shadow: 0px 1px 3px 1px rgba(0, 0, 0, 0.15);\n",
              "      filter: drop-shadow(0px 1px 2px rgba(0, 0, 0, 0.3));\n",
              "      fill: #FFFFFF;\n",
              "    }\n",
              "  </style>\n",
              "\n",
              "      <script>\n",
              "        const buttonEl =\n",
              "          document.querySelector('#df-7224e3f5-bac5-4750-8fb1-0399d9eb3082 button.colab-df-convert');\n",
              "        buttonEl.style.display =\n",
              "          google.colab.kernel.accessAllowed ? 'block' : 'none';\n",
              "\n",
              "        async function convertToInteractive(key) {\n",
              "          const element = document.querySelector('#df-7224e3f5-bac5-4750-8fb1-0399d9eb3082');\n",
              "          const dataTable =\n",
              "            await google.colab.kernel.invokeFunction('convertToInteractive',\n",
              "                                                     [key], {});\n",
              "          if (!dataTable) return;\n",
              "\n",
              "          const docLinkHtml = 'Like what you see? Visit the ' +\n",
              "            '<a target=\"_blank\" href=https://colab.research.google.com/notebooks/data_table.ipynb>data table notebook</a>'\n",
              "            + ' to learn more about interactive tables.';\n",
              "          element.innerHTML = '';\n",
              "          dataTable['output_type'] = 'display_data';\n",
              "          await google.colab.output.renderOutput(dataTable, element);\n",
              "          const docLink = document.createElement('div');\n",
              "          docLink.innerHTML = docLinkHtml;\n",
              "          element.appendChild(docLink);\n",
              "        }\n",
              "      </script>\n",
              "    </div>\n",
              "  </div>\n",
              "  "
            ]
          },
          "metadata": {},
          "execution_count": 50
        }
      ]
    },
    {
      "cell_type": "code",
      "source": [
        "save_dir = '/content/drive/My Drive/fusion/video/data_set_fusion/expert2'\n",
        "\n",
        "savedvX = joblib.dump(df_video_train, os.path.join(save_dir, 'train/pred_train'))\n",
        "savedvX = joblib.dump(df_video_test, os.path.join(save_dir, 'test/pred_test'))\n",
        "savedvX = joblib.dump(df_video_valid, os.path.join(save_dir, 'valid/pred_valid'))"
      ],
      "metadata": {
        "id": "cJrh9R1CZKY-"
      },
      "execution_count": 51,
      "outputs": []
    },
    {
      "cell_type": "code",
      "source": [
        ""
      ],
      "metadata": {
        "id": "1puKDjgKjNgO"
      },
      "execution_count": null,
      "outputs": []
    }
  ],
  "metadata": {
    "accelerator": "GPU",
    "colab": {
      "machine_shape": "hm",
      "name": "our_best_final_lrcn_model_2.ipynb",
      "provenance": [],
      "collapsed_sections": []
    },
    "kernelspec": {
      "display_name": "Python 3",
      "name": "python3"
    },
    "language_info": {
      "name": "python"
    }
  },
  "nbformat": 4,
  "nbformat_minor": 0
}