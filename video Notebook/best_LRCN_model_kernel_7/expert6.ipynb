{
  "nbformat": 4,
  "nbformat_minor": 0,
  "metadata": {
    "colab": {
      "name": "expert6.ipynb",
      "provenance": [],
      "collapsed_sections": [],
      "machine_shape": "hm"
    },
    "kernelspec": {
      "name": "python3",
      "display_name": "Python 3"
    },
    "accelerator": "GPU"
  },
  "cells": [
    {
      "cell_type": "markdown",
      "source": [
        "**training**"
      ],
      "metadata": {
        "id": "3p4NEbw1wA08"
      }
    },
    {
      "cell_type": "code",
      "source": [
        "# Discard the output of this cell.\n",
        "#%%capture\n",
        "\n",
        "# Install the required libraries.\n",
        "!pip install tensorflow opencv-contrib-python youtube-dl moviepy pydot\n",
        "!pip install git+https://github.com/TahaAnwar/pafy.git#egg=pafy"
      ],
      "metadata": {
        "id": "MChAq7xYwD1o",
        "outputId": "57f26dd2-9aba-453f-9c8f-61090cfb4973",
        "colab": {
          "base_uri": "https://localhost:8080/"
        }
      },
      "execution_count": 1,
      "outputs": [
        {
          "output_type": "stream",
          "name": "stdout",
          "text": [
            "Looking in indexes: https://pypi.org/simple, https://us-python.pkg.dev/colab-wheels/public/simple/\n",
            "Requirement already satisfied: tensorflow in /usr/local/lib/python3.7/dist-packages (2.8.2+zzzcolab20220527125636)\n",
            "Requirement already satisfied: opencv-contrib-python in /usr/local/lib/python3.7/dist-packages (4.1.2.30)\n",
            "Requirement already satisfied: youtube-dl in /usr/local/lib/python3.7/dist-packages (2021.12.17)\n",
            "Requirement already satisfied: moviepy in /usr/local/lib/python3.7/dist-packages (0.2.3.5)\n",
            "Requirement already satisfied: pydot in /usr/local/lib/python3.7/dist-packages (1.3.0)\n",
            "Requirement already satisfied: six>=1.12.0 in /usr/local/lib/python3.7/dist-packages (from tensorflow) (1.15.0)\n",
            "Requirement already satisfied: protobuf<3.20,>=3.9.2 in /usr/local/lib/python3.7/dist-packages (from tensorflow) (3.17.3)\n",
            "Requirement already satisfied: keras<2.9,>=2.8.0rc0 in /usr/local/lib/python3.7/dist-packages (from tensorflow) (2.8.0)\n",
            "Requirement already satisfied: wrapt>=1.11.0 in /usr/local/lib/python3.7/dist-packages (from tensorflow) (1.14.1)\n",
            "Requirement already satisfied: tensorboard<2.9,>=2.8 in /usr/local/lib/python3.7/dist-packages (from tensorflow) (2.8.0)\n",
            "Requirement already satisfied: opt-einsum>=2.3.2 in /usr/local/lib/python3.7/dist-packages (from tensorflow) (3.3.0)\n",
            "Requirement already satisfied: gast>=0.2.1 in /usr/local/lib/python3.7/dist-packages (from tensorflow) (0.5.3)\n",
            "Requirement already satisfied: setuptools in /usr/local/lib/python3.7/dist-packages (from tensorflow) (57.4.0)\n",
            "Requirement already satisfied: tensorflow-estimator<2.9,>=2.8 in /usr/local/lib/python3.7/dist-packages (from tensorflow) (2.8.0)\n",
            "Requirement already satisfied: libclang>=9.0.1 in /usr/local/lib/python3.7/dist-packages (from tensorflow) (14.0.1)\n",
            "Requirement already satisfied: astunparse>=1.6.0 in /usr/local/lib/python3.7/dist-packages (from tensorflow) (1.6.3)\n",
            "Requirement already satisfied: h5py>=2.9.0 in /usr/local/lib/python3.7/dist-packages (from tensorflow) (3.1.0)\n",
            "Requirement already satisfied: google-pasta>=0.1.1 in /usr/local/lib/python3.7/dist-packages (from tensorflow) (0.2.0)\n",
            "Requirement already satisfied: typing-extensions>=3.6.6 in /usr/local/lib/python3.7/dist-packages (from tensorflow) (4.2.0)\n",
            "Requirement already satisfied: absl-py>=0.4.0 in /usr/local/lib/python3.7/dist-packages (from tensorflow) (1.0.0)\n",
            "Requirement already satisfied: keras-preprocessing>=1.1.1 in /usr/local/lib/python3.7/dist-packages (from tensorflow) (1.1.2)\n",
            "Requirement already satisfied: termcolor>=1.1.0 in /usr/local/lib/python3.7/dist-packages (from tensorflow) (1.1.0)\n",
            "Requirement already satisfied: grpcio<2.0,>=1.24.3 in /usr/local/lib/python3.7/dist-packages (from tensorflow) (1.46.3)\n",
            "Requirement already satisfied: numpy>=1.20 in /usr/local/lib/python3.7/dist-packages (from tensorflow) (1.21.6)\n",
            "Requirement already satisfied: flatbuffers>=1.12 in /usr/local/lib/python3.7/dist-packages (from tensorflow) (2.0)\n",
            "Requirement already satisfied: tensorflow-io-gcs-filesystem>=0.23.1 in /usr/local/lib/python3.7/dist-packages (from tensorflow) (0.26.0)\n",
            "Requirement already satisfied: wheel<1.0,>=0.23.0 in /usr/local/lib/python3.7/dist-packages (from astunparse>=1.6.0->tensorflow) (0.37.1)\n",
            "Requirement already satisfied: cached-property in /usr/local/lib/python3.7/dist-packages (from h5py>=2.9.0->tensorflow) (1.5.2)\n",
            "Requirement already satisfied: google-auth-oauthlib<0.5,>=0.4.1 in /usr/local/lib/python3.7/dist-packages (from tensorboard<2.9,>=2.8->tensorflow) (0.4.6)\n",
            "Requirement already satisfied: tensorboard-plugin-wit>=1.6.0 in /usr/local/lib/python3.7/dist-packages (from tensorboard<2.9,>=2.8->tensorflow) (1.8.1)\n",
            "Requirement already satisfied: google-auth<3,>=1.6.3 in /usr/local/lib/python3.7/dist-packages (from tensorboard<2.9,>=2.8->tensorflow) (1.35.0)\n",
            "Requirement already satisfied: markdown>=2.6.8 in /usr/local/lib/python3.7/dist-packages (from tensorboard<2.9,>=2.8->tensorflow) (3.3.7)\n",
            "Requirement already satisfied: requests<3,>=2.21.0 in /usr/local/lib/python3.7/dist-packages (from tensorboard<2.9,>=2.8->tensorflow) (2.23.0)\n",
            "Requirement already satisfied: tensorboard-data-server<0.7.0,>=0.6.0 in /usr/local/lib/python3.7/dist-packages (from tensorboard<2.9,>=2.8->tensorflow) (0.6.1)\n",
            "Requirement already satisfied: werkzeug>=0.11.15 in /usr/local/lib/python3.7/dist-packages (from tensorboard<2.9,>=2.8->tensorflow) (1.0.1)\n",
            "Requirement already satisfied: pyasn1-modules>=0.2.1 in /usr/local/lib/python3.7/dist-packages (from google-auth<3,>=1.6.3->tensorboard<2.9,>=2.8->tensorflow) (0.2.8)\n",
            "Requirement already satisfied: rsa<5,>=3.1.4 in /usr/local/lib/python3.7/dist-packages (from google-auth<3,>=1.6.3->tensorboard<2.9,>=2.8->tensorflow) (4.8)\n",
            "Requirement already satisfied: cachetools<5.0,>=2.0.0 in /usr/local/lib/python3.7/dist-packages (from google-auth<3,>=1.6.3->tensorboard<2.9,>=2.8->tensorflow) (4.2.4)\n",
            "Requirement already satisfied: requests-oauthlib>=0.7.0 in /usr/local/lib/python3.7/dist-packages (from google-auth-oauthlib<0.5,>=0.4.1->tensorboard<2.9,>=2.8->tensorflow) (1.3.1)\n",
            "Requirement already satisfied: importlib-metadata>=4.4 in /usr/local/lib/python3.7/dist-packages (from markdown>=2.6.8->tensorboard<2.9,>=2.8->tensorflow) (4.11.4)\n",
            "Requirement already satisfied: zipp>=0.5 in /usr/local/lib/python3.7/dist-packages (from importlib-metadata>=4.4->markdown>=2.6.8->tensorboard<2.9,>=2.8->tensorflow) (3.8.0)\n",
            "Requirement already satisfied: pyasn1<0.5.0,>=0.4.6 in /usr/local/lib/python3.7/dist-packages (from pyasn1-modules>=0.2.1->google-auth<3,>=1.6.3->tensorboard<2.9,>=2.8->tensorflow) (0.4.8)\n",
            "Requirement already satisfied: idna<3,>=2.5 in /usr/local/lib/python3.7/dist-packages (from requests<3,>=2.21.0->tensorboard<2.9,>=2.8->tensorflow) (2.10)\n",
            "Requirement already satisfied: certifi>=2017.4.17 in /usr/local/lib/python3.7/dist-packages (from requests<3,>=2.21.0->tensorboard<2.9,>=2.8->tensorflow) (2022.5.18.1)\n",
            "Requirement already satisfied: chardet<4,>=3.0.2 in /usr/local/lib/python3.7/dist-packages (from requests<3,>=2.21.0->tensorboard<2.9,>=2.8->tensorflow) (3.0.4)\n",
            "Requirement already satisfied: urllib3!=1.25.0,!=1.25.1,<1.26,>=1.21.1 in /usr/local/lib/python3.7/dist-packages (from requests<3,>=2.21.0->tensorboard<2.9,>=2.8->tensorflow) (1.24.3)\n",
            "Requirement already satisfied: oauthlib>=3.0.0 in /usr/local/lib/python3.7/dist-packages (from requests-oauthlib>=0.7.0->google-auth-oauthlib<0.5,>=0.4.1->tensorboard<2.9,>=2.8->tensorflow) (3.2.0)\n",
            "Requirement already satisfied: decorator<5.0,>=4.0.2 in /usr/local/lib/python3.7/dist-packages (from moviepy) (4.4.2)\n",
            "Requirement already satisfied: imageio<3.0,>=2.1.2 in /usr/local/lib/python3.7/dist-packages (from moviepy) (2.4.1)\n",
            "Requirement already satisfied: tqdm<5.0,>=4.11.2 in /usr/local/lib/python3.7/dist-packages (from moviepy) (4.64.0)\n",
            "Requirement already satisfied: pillow in /usr/local/lib/python3.7/dist-packages (from imageio<3.0,>=2.1.2->moviepy) (7.1.2)\n",
            "Requirement already satisfied: pyparsing>=2.1.4 in /usr/local/lib/python3.7/dist-packages (from pydot) (3.0.9)\n",
            "Looking in indexes: https://pypi.org/simple, https://us-python.pkg.dev/colab-wheels/public/simple/\n",
            "Collecting pafy\n",
            "  Cloning https://github.com/TahaAnwar/pafy.git to /tmp/pip-install-z3wanyb4/pafy_7bc2843458c440c38445c9fb940fda31\n",
            "  Running command git clone -q https://github.com/TahaAnwar/pafy.git /tmp/pip-install-z3wanyb4/pafy_7bc2843458c440c38445c9fb940fda31\n"
          ]
        }
      ]
    },
    {
      "cell_type": "code",
      "source": [
        "# Import the required libraries.\n",
        "import os\n",
        "import cv2\n",
        "import pafy\n",
        "import math\n",
        "import random\n",
        "import numpy as np\n",
        "import datetime as dt\n",
        "import tensorflow as tf\n",
        "from collections import deque\n",
        "import matplotlib.pyplot as plt\n",
        "\n",
        "from moviepy.editor import *\n",
        "%matplotlib inline\n",
        "\n",
        "from sklearn.model_selection import train_test_split\n",
        "\n",
        "from tensorflow.keras.layers import *\n",
        "from tensorflow.keras.models import Sequential\n",
        "from tensorflow.keras.utils import to_categorical\n",
        "from tensorflow.keras.callbacks import EarlyStopping\n",
        "from tensorflow.keras.utils import plot_model\n",
        "import glob"
      ],
      "metadata": {
        "id": "1nJVuzQAwGQp"
      },
      "execution_count": 2,
      "outputs": []
    },
    {
      "cell_type": "code",
      "source": [
        "seed_constant = 27\n",
        "np.random.seed(seed_constant)\n",
        "random.seed(seed_constant)\n",
        "tf.random.set_seed(seed_constant)\n"
      ],
      "metadata": {
        "id": "IoMuaveSwK6K"
      },
      "execution_count": 3,
      "outputs": []
    },
    {
      "cell_type": "code",
      "source": [
        "# Specify the height and width to which each video frame will be resized in our dataset.\n",
        "IMAGE_HEIGHT , IMAGE_WIDTH = 64, 64\n",
        "\n",
        "# Specify the number of frames of a video that will be fed to the model as one sequence.\n",
        "SEQUENCE_LENGTH = 30\n",
        "\n",
        "# Specify the directory containing the UCF50 dataset. \n",
        "#DATASET_DIR = \"/content/drive/MyDrive/frames_ravdess_label\"\n",
        "\n",
        "# Specify the list containing the names of the classes used for training. Feel free to choose any set of classes.\n",
        "CLASSES_LIST = [\"neutral\", \"calm\", \"happy\", \"sad\",\"angry\",\"fearful\"]"
      ],
      "metadata": {
        "id": "GcOPbLHXwNW6"
      },
      "execution_count": 4,
      "outputs": []
    },
    {
      "cell_type": "code",
      "source": [
        "from google.colab import drive\n",
        "drive.mount('/content/drive')"
      ],
      "metadata": {
        "id": "R4qTnVYzwtnU",
        "outputId": "6cc67fc7-5dc8-4514-cfce-cba8e859cd85",
        "colab": {
          "base_uri": "https://localhost:8080/"
        }
      },
      "execution_count": 5,
      "outputs": [
        {
          "output_type": "stream",
          "name": "stdout",
          "text": [
            "Mounted at /content/drive\n"
          ]
        }
      ]
    },
    {
      "cell_type": "code",
      "source": [
        "import joblib\n",
        "features = joblib.load('/content/drive/My Drive/features_ravdess/data_set/features_data')\n",
        "labels = joblib.load('/content/drive/MyDrive/features_ravdess/data_set/labels')\n",
        "video_files_paths = joblib.load('/content/drive/My Drive/features_ravdess/data_set/video_path')"
      ],
      "metadata": {
        "id": "Hpib_QJowRPo"
      },
      "execution_count": 5,
      "outputs": []
    },
    {
      "cell_type": "code",
      "source": [
        "features = np.asarray(features)\n",
        "labels = np.array(labels)  "
      ],
      "metadata": {
        "id": "PH_q4iTSwt_7"
      },
      "execution_count": 6,
      "outputs": []
    },
    {
      "cell_type": "code",
      "source": [
        "features.shape"
      ],
      "metadata": {
        "id": "EcUFSl-ExLkk",
        "outputId": "ce967056-e27c-4711-c660-03033b76a7bf",
        "colab": {
          "base_uri": "https://localhost:8080/"
        }
      },
      "execution_count": 7,
      "outputs": [
        {
          "output_type": "execute_result",
          "data": {
            "text/plain": [
              "(2067, 30, 64, 64, 3)"
            ]
          },
          "metadata": {},
          "execution_count": 7
        }
      ]
    },
    {
      "cell_type": "code",
      "source": [
        "# Using Keras's to_categorical method to convert labels into one-hot-encoded vectors\n",
        "one_hot_encoded_labels = to_categorical(labels)"
      ],
      "metadata": {
        "id": "byN_xKZ1w3db"
      },
      "execution_count": 8,
      "outputs": []
    },
    {
      "cell_type": "code",
      "source": [
        "# Split the Data into Train ( 80% ) and Test Set ( 20% ).\n",
        "features_train, features_test, labels_train, labels_test = train_test_split(features, one_hot_encoded_labels,\n",
        "                                                                            test_size = 0.10, shuffle = True,\n",
        "                                                                            random_state = seed_constant)"
      ],
      "metadata": {
        "id": "Xbo5u-ynw4bP"
      },
      "execution_count": 9,
      "outputs": []
    },
    {
      "cell_type": "code",
      "source": [
        "def create_LRCN_model():\n",
        "    '''\n",
        "    This function will construct the required LRCN model.\n",
        "    Returns:\n",
        "        model: It is the required constructed LRCN model.\n",
        "    '''\n",
        "\n",
        "    # We will use a Sequential model for model construction.\n",
        "    model = Sequential()\n",
        "   \n",
        "    # Define the Model Architecture.\n",
        "    ########################################################################################################################\n",
        "    \n",
        "    model.add(TimeDistributed(Conv2D(16, (7, 7), padding='same'),\n",
        "                              input_shape = (SEQUENCE_LENGTH, IMAGE_HEIGHT, IMAGE_WIDTH, 3)))\n",
        "    model.add(TimeDistributed(BatchNormalization()))\n",
        "    model.add(TimeDistributed(Activation('relu')))\n",
        "    model.add(TimeDistributed(MaxPooling2D((4, 4)))) \n",
        "    model.add(TimeDistributed(Dropout(0.1)))\n",
        "    \n",
        "    model.add(TimeDistributed(Conv2D(32, (7, 7), padding='same')))\n",
        "    model.add(TimeDistributed(BatchNormalization()))\n",
        "    model.add(TimeDistributed(Activation('relu')))\n",
        "    model.add(TimeDistributed(MaxPooling2D((4, 4))))\n",
        "    model.add(TimeDistributed(Dropout(0.2)))\n",
        "    \n",
        "    model.add(TimeDistributed(Conv2D(64, (7, 7), padding='same')))\n",
        "    model.add(TimeDistributed(BatchNormalization()))\n",
        "    model.add(TimeDistributed(Activation('relu')))\n",
        "    model.add(TimeDistributed(MaxPooling2D((2, 2))))\n",
        "    model.add(TimeDistributed(Dropout(0.3)))\n",
        "    \n",
        "    model.add(TimeDistributed(Conv2D(64, (7, 7), padding='same')))\n",
        "    model.add(TimeDistributed(BatchNormalization()))\n",
        "    model.add(TimeDistributed(Activation('relu')))\n",
        "    model.add(TimeDistributed(MaxPooling2D((2, 2))))\n",
        "    #model.add(TimeDistributed(Dropout(0.25)))\n",
        "                                      \n",
        "    model.add(TimeDistributed(Flatten()))\n",
        "                                      \n",
        "    model.add(LSTM(64))\n",
        "                                      \n",
        "    model.add(Dense(len(CLASSES_LIST), activation = 'softmax'))\n",
        "\n",
        "    ########################################################################################################################\n",
        "\n",
        "    # Display the models summary.\n",
        "    model.summary()\n",
        "    \n",
        "    # Return the constructed LRCN model.\n",
        "    return model"
      ],
      "metadata": {
        "id": "ANf9NyOAw7Fa"
      },
      "execution_count": 10,
      "outputs": []
    },
    {
      "cell_type": "code",
      "source": [
        "# Construct the required LRCN model.\n",
        "LRCN_model = create_LRCN_model()\n",
        "\n",
        "# Display the success message.\n",
        "print(\"Model Created Successfully!\")"
      ],
      "metadata": {
        "id": "VX1aE7GoxSHl",
        "outputId": "6944ea96-2679-4c65-ee6b-e10bf2967ff5",
        "colab": {
          "base_uri": "https://localhost:8080/"
        }
      },
      "execution_count": 11,
      "outputs": [
        {
          "output_type": "stream",
          "name": "stdout",
          "text": [
            "Model: \"sequential\"\n",
            "_________________________________________________________________\n",
            " Layer (type)                Output Shape              Param #   \n",
            "=================================================================\n",
            " time_distributed (TimeDistr  (None, 30, 64, 64, 16)   2368      \n",
            " ibuted)                                                         \n",
            "                                                                 \n",
            " time_distributed_1 (TimeDis  (None, 30, 64, 64, 16)   64        \n",
            " tributed)                                                       \n",
            "                                                                 \n",
            " time_distributed_2 (TimeDis  (None, 30, 64, 64, 16)   0         \n",
            " tributed)                                                       \n",
            "                                                                 \n",
            " time_distributed_3 (TimeDis  (None, 30, 16, 16, 16)   0         \n",
            " tributed)                                                       \n",
            "                                                                 \n",
            " time_distributed_4 (TimeDis  (None, 30, 16, 16, 16)   0         \n",
            " tributed)                                                       \n",
            "                                                                 \n",
            " time_distributed_5 (TimeDis  (None, 30, 16, 16, 32)   25120     \n",
            " tributed)                                                       \n",
            "                                                                 \n",
            " time_distributed_6 (TimeDis  (None, 30, 16, 16, 32)   128       \n",
            " tributed)                                                       \n",
            "                                                                 \n",
            " time_distributed_7 (TimeDis  (None, 30, 16, 16, 32)   0         \n",
            " tributed)                                                       \n",
            "                                                                 \n",
            " time_distributed_8 (TimeDis  (None, 30, 4, 4, 32)     0         \n",
            " tributed)                                                       \n",
            "                                                                 \n",
            " time_distributed_9 (TimeDis  (None, 30, 4, 4, 32)     0         \n",
            " tributed)                                                       \n",
            "                                                                 \n",
            " time_distributed_10 (TimeDi  (None, 30, 4, 4, 64)     100416    \n",
            " stributed)                                                      \n",
            "                                                                 \n",
            " time_distributed_11 (TimeDi  (None, 30, 4, 4, 64)     256       \n",
            " stributed)                                                      \n",
            "                                                                 \n",
            " time_distributed_12 (TimeDi  (None, 30, 4, 4, 64)     0         \n",
            " stributed)                                                      \n",
            "                                                                 \n",
            " time_distributed_13 (TimeDi  (None, 30, 2, 2, 64)     0         \n",
            " stributed)                                                      \n",
            "                                                                 \n",
            " time_distributed_14 (TimeDi  (None, 30, 2, 2, 64)     0         \n",
            " stributed)                                                      \n",
            "                                                                 \n",
            " time_distributed_15 (TimeDi  (None, 30, 2, 2, 64)     200768    \n",
            " stributed)                                                      \n",
            "                                                                 \n",
            " time_distributed_16 (TimeDi  (None, 30, 2, 2, 64)     256       \n",
            " stributed)                                                      \n",
            "                                                                 \n",
            " time_distributed_17 (TimeDi  (None, 30, 2, 2, 64)     0         \n",
            " stributed)                                                      \n",
            "                                                                 \n",
            " time_distributed_18 (TimeDi  (None, 30, 1, 1, 64)     0         \n",
            " stributed)                                                      \n",
            "                                                                 \n",
            " time_distributed_19 (TimeDi  (None, 30, 64)           0         \n",
            " stributed)                                                      \n",
            "                                                                 \n",
            " lstm (LSTM)                 (None, 64)                33024     \n",
            "                                                                 \n",
            " dense (Dense)               (None, 6)                 390       \n",
            "                                                                 \n",
            "=================================================================\n",
            "Total params: 362,790\n",
            "Trainable params: 362,438\n",
            "Non-trainable params: 352\n",
            "_________________________________________________________________\n",
            "Model Created Successfully!\n"
          ]
        }
      ]
    },
    {
      "cell_type": "code",
      "source": [
        "# Create an Instance of Early Stopping Callback.\n",
        "early_stopping_callback = EarlyStopping(monitor = 'val_loss', patience = 25, mode = 'min', restore_best_weights = True)\n",
        " \n",
        "# Compile the model and specify loss function, optimizer and metrics to the model.\n",
        "LRCN_model.compile(loss = 'categorical_crossentropy', optimizer = 'Adam', metrics = [\"accuracy\"])\n",
        "\n",
        "# Start training the model.\n",
        "LRCN_model_training_history = LRCN_model.fit(x = features_train, y = labels_train, epochs = 100, batch_size = 4 ,\n",
        "                                             shuffle = True, validation_split = 0.1, callbacks = [early_stopping_callback])"
      ],
      "metadata": {
        "id": "-wmt7CHExUgm",
        "outputId": "d87a109a-95cf-411b-c2a1-0f929d1dc26f",
        "colab": {
          "base_uri": "https://localhost:8080/"
        }
      },
      "execution_count": 12,
      "outputs": [
        {
          "output_type": "stream",
          "name": "stdout",
          "text": [
            "Epoch 1/100\n",
            "419/419 [==============================] - 24s 21ms/step - loss: 1.6905 - accuracy: 0.2742 - val_loss: 1.6826 - val_accuracy: 0.3495\n",
            "Epoch 2/100\n",
            "419/419 [==============================] - 7s 17ms/step - loss: 1.2751 - accuracy: 0.4486 - val_loss: 1.9464 - val_accuracy: 0.1613\n",
            "Epoch 3/100\n",
            "419/419 [==============================] - 7s 17ms/step - loss: 1.1120 - accuracy: 0.5149 - val_loss: 2.0577 - val_accuracy: 0.3333\n",
            "Epoch 4/100\n",
            "419/419 [==============================] - 7s 17ms/step - loss: 1.0121 - accuracy: 0.5538 - val_loss: 1.0406 - val_accuracy: 0.5806\n",
            "Epoch 5/100\n",
            "419/419 [==============================] - 7s 17ms/step - loss: 0.9476 - accuracy: 0.6099 - val_loss: 0.8600 - val_accuracy: 0.5860\n",
            "Epoch 6/100\n",
            "419/419 [==============================] - 7s 17ms/step - loss: 0.8739 - accuracy: 0.6350 - val_loss: 0.9483 - val_accuracy: 0.6183\n",
            "Epoch 7/100\n",
            "419/419 [==============================] - 7s 17ms/step - loss: 0.8020 - accuracy: 0.6798 - val_loss: 0.6983 - val_accuracy: 0.7312\n",
            "Epoch 8/100\n",
            "419/419 [==============================] - 7s 17ms/step - loss: 0.7228 - accuracy: 0.7180 - val_loss: 0.8979 - val_accuracy: 0.6559\n",
            "Epoch 9/100\n",
            "419/419 [==============================] - 7s 17ms/step - loss: 0.6654 - accuracy: 0.7443 - val_loss: 0.7322 - val_accuracy: 0.7527\n",
            "Epoch 10/100\n",
            "419/419 [==============================] - 7s 17ms/step - loss: 0.5677 - accuracy: 0.7694 - val_loss: 0.6136 - val_accuracy: 0.8065\n",
            "Epoch 11/100\n",
            "419/419 [==============================] - 7s 17ms/step - loss: 0.5305 - accuracy: 0.8011 - val_loss: 0.6208 - val_accuracy: 0.7634\n",
            "Epoch 12/100\n",
            "419/419 [==============================] - 7s 17ms/step - loss: 0.4761 - accuracy: 0.8250 - val_loss: 0.5268 - val_accuracy: 0.7903\n",
            "Epoch 13/100\n",
            "419/419 [==============================] - 7s 17ms/step - loss: 0.3831 - accuracy: 0.8560 - val_loss: 0.9684 - val_accuracy: 0.6667\n",
            "Epoch 14/100\n",
            "419/419 [==============================] - 7s 17ms/step - loss: 0.3419 - accuracy: 0.8811 - val_loss: 0.5207 - val_accuracy: 0.8172\n",
            "Epoch 15/100\n",
            "419/419 [==============================] - 7s 17ms/step - loss: 0.3311 - accuracy: 0.8853 - val_loss: 0.4024 - val_accuracy: 0.8387\n",
            "Epoch 16/100\n",
            "419/419 [==============================] - 7s 17ms/step - loss: 0.2826 - accuracy: 0.8949 - val_loss: 0.4518 - val_accuracy: 0.8710\n",
            "Epoch 17/100\n",
            "419/419 [==============================] - 7s 17ms/step - loss: 0.2762 - accuracy: 0.9032 - val_loss: 0.5651 - val_accuracy: 0.8172\n",
            "Epoch 18/100\n",
            "419/419 [==============================] - 7s 17ms/step - loss: 0.2295 - accuracy: 0.9134 - val_loss: 0.9474 - val_accuracy: 0.7097\n",
            "Epoch 19/100\n",
            "419/419 [==============================] - 7s 17ms/step - loss: 0.2328 - accuracy: 0.9211 - val_loss: 0.6490 - val_accuracy: 0.7796\n",
            "Epoch 20/100\n",
            "419/419 [==============================] - 7s 17ms/step - loss: 0.2351 - accuracy: 0.9152 - val_loss: 0.8188 - val_accuracy: 0.8065\n",
            "Epoch 21/100\n",
            "419/419 [==============================] - 7s 17ms/step - loss: 0.2377 - accuracy: 0.9253 - val_loss: 0.3165 - val_accuracy: 0.8925\n",
            "Epoch 22/100\n",
            "419/419 [==============================] - 7s 17ms/step - loss: 0.1909 - accuracy: 0.9361 - val_loss: 0.4255 - val_accuracy: 0.8871\n",
            "Epoch 23/100\n",
            "419/419 [==============================] - 7s 17ms/step - loss: 0.1397 - accuracy: 0.9540 - val_loss: 0.7157 - val_accuracy: 0.8172\n",
            "Epoch 24/100\n",
            "419/419 [==============================] - 7s 17ms/step - loss: 0.1882 - accuracy: 0.9343 - val_loss: 0.2097 - val_accuracy: 0.9409\n",
            "Epoch 25/100\n",
            "419/419 [==============================] - 7s 17ms/step - loss: 0.1456 - accuracy: 0.9510 - val_loss: 0.7577 - val_accuracy: 0.7957\n",
            "Epoch 26/100\n",
            "419/419 [==============================] - 7s 17ms/step - loss: 0.1681 - accuracy: 0.9415 - val_loss: 0.6368 - val_accuracy: 0.7688\n",
            "Epoch 27/100\n",
            "419/419 [==============================] - 7s 17ms/step - loss: 0.1523 - accuracy: 0.9462 - val_loss: 0.1740 - val_accuracy: 0.9409\n",
            "Epoch 28/100\n",
            "419/419 [==============================] - 7s 17ms/step - loss: 0.1151 - accuracy: 0.9665 - val_loss: 0.3772 - val_accuracy: 0.9086\n",
            "Epoch 29/100\n",
            "419/419 [==============================] - 7s 17ms/step - loss: 0.1687 - accuracy: 0.9385 - val_loss: 0.3601 - val_accuracy: 0.8925\n",
            "Epoch 30/100\n",
            "419/419 [==============================] - 7s 17ms/step - loss: 0.1320 - accuracy: 0.9552 - val_loss: 0.8460 - val_accuracy: 0.7849\n",
            "Epoch 31/100\n",
            "419/419 [==============================] - 7s 17ms/step - loss: 0.1435 - accuracy: 0.9534 - val_loss: 0.4964 - val_accuracy: 0.8495\n",
            "Epoch 32/100\n",
            "419/419 [==============================] - 7s 17ms/step - loss: 0.1083 - accuracy: 0.9636 - val_loss: 0.2746 - val_accuracy: 0.9355\n",
            "Epoch 33/100\n",
            "419/419 [==============================] - 7s 17ms/step - loss: 0.1080 - accuracy: 0.9606 - val_loss: 0.1795 - val_accuracy: 0.9409\n",
            "Epoch 34/100\n",
            "419/419 [==============================] - 7s 17ms/step - loss: 0.1207 - accuracy: 0.9558 - val_loss: 0.6883 - val_accuracy: 0.7742\n",
            "Epoch 35/100\n",
            "419/419 [==============================] - 7s 17ms/step - loss: 0.1131 - accuracy: 0.9618 - val_loss: 0.5116 - val_accuracy: 0.8710\n",
            "Epoch 36/100\n",
            "419/419 [==============================] - 7s 17ms/step - loss: 0.1000 - accuracy: 0.9671 - val_loss: 0.2313 - val_accuracy: 0.9355\n",
            "Epoch 37/100\n",
            "419/419 [==============================] - 7s 17ms/step - loss: 0.0992 - accuracy: 0.9648 - val_loss: 0.4345 - val_accuracy: 0.8548\n",
            "Epoch 38/100\n",
            "419/419 [==============================] - 7s 17ms/step - loss: 0.1148 - accuracy: 0.9546 - val_loss: 0.3299 - val_accuracy: 0.9140\n",
            "Epoch 39/100\n",
            "419/419 [==============================] - 7s 17ms/step - loss: 0.0959 - accuracy: 0.9624 - val_loss: 0.3925 - val_accuracy: 0.8763\n",
            "Epoch 40/100\n",
            "419/419 [==============================] - 7s 17ms/step - loss: 0.0680 - accuracy: 0.9755 - val_loss: 0.3181 - val_accuracy: 0.9301\n",
            "Epoch 41/100\n",
            "419/419 [==============================] - 7s 17ms/step - loss: 0.0694 - accuracy: 0.9761 - val_loss: 0.2827 - val_accuracy: 0.9140\n",
            "Epoch 42/100\n",
            "419/419 [==============================] - 7s 17ms/step - loss: 0.1011 - accuracy: 0.9713 - val_loss: 0.2923 - val_accuracy: 0.9247\n",
            "Epoch 43/100\n",
            "419/419 [==============================] - 7s 17ms/step - loss: 0.0797 - accuracy: 0.9701 - val_loss: 0.3171 - val_accuracy: 0.9194\n",
            "Epoch 44/100\n",
            "419/419 [==============================] - 7s 17ms/step - loss: 0.0937 - accuracy: 0.9695 - val_loss: 0.4547 - val_accuracy: 0.8602\n",
            "Epoch 45/100\n",
            "419/419 [==============================] - 7s 17ms/step - loss: 0.0913 - accuracy: 0.9677 - val_loss: 0.3174 - val_accuracy: 0.8978\n",
            "Epoch 46/100\n",
            "419/419 [==============================] - 7s 17ms/step - loss: 0.0926 - accuracy: 0.9689 - val_loss: 0.2108 - val_accuracy: 0.9409\n",
            "Epoch 47/100\n",
            "419/419 [==============================] - 7s 17ms/step - loss: 0.0574 - accuracy: 0.9821 - val_loss: 0.3292 - val_accuracy: 0.8978\n",
            "Epoch 48/100\n",
            "419/419 [==============================] - 7s 17ms/step - loss: 0.0853 - accuracy: 0.9683 - val_loss: 0.3519 - val_accuracy: 0.9086\n",
            "Epoch 49/100\n",
            "419/419 [==============================] - 7s 17ms/step - loss: 0.0651 - accuracy: 0.9767 - val_loss: 0.3470 - val_accuracy: 0.9086\n",
            "Epoch 50/100\n",
            "419/419 [==============================] - 7s 17ms/step - loss: 0.0611 - accuracy: 0.9797 - val_loss: 0.3081 - val_accuracy: 0.9032\n",
            "Epoch 51/100\n",
            "419/419 [==============================] - 7s 17ms/step - loss: 0.0730 - accuracy: 0.9719 - val_loss: 0.2534 - val_accuracy: 0.9247\n",
            "Epoch 52/100\n",
            "419/419 [==============================] - 7s 17ms/step - loss: 0.0622 - accuracy: 0.9815 - val_loss: 0.3554 - val_accuracy: 0.8925\n"
          ]
        }
      ]
    },
    {
      "cell_type": "code",
      "source": [
        "# Evaluate the trained model.\n",
        "model_evaluation_history = LRCN_model.evaluate(features_test, labels_test)"
      ],
      "metadata": {
        "id": "hhLgaWvCxZ-e",
        "outputId": "026c0a94-bd0c-4139-c999-6e81598f462b",
        "colab": {
          "base_uri": "https://localhost:8080/"
        }
      },
      "execution_count": 13,
      "outputs": [
        {
          "output_type": "stream",
          "name": "stdout",
          "text": [
            "7/7 [==============================] - 0s 41ms/step - loss: 0.3315 - accuracy: 0.8841\n"
          ]
        }
      ]
    },
    {
      "cell_type": "code",
      "source": [
        "# Get the loss and accuracy from model_evaluation_history.\n",
        "model_evaluation_loss, model_evaluation_accuracy = model_evaluation_history\n",
        "\n",
        "# Define the string date format.\n",
        "# Get the current Date and Time in a DateTime Object.\n",
        "# Convert the DateTime object to string according to the style mentioned in date_time_format string.\n",
        "date_time_format = '%Y_%m_%d__%H_%M_%S'\n",
        "current_date_time_dt = dt.datetime.now()\n",
        "current_date_time_string = dt.datetime.strftime(current_date_time_dt, date_time_format)\n",
        "    \n",
        "# Define a useful name for our model to make it easy for us while navigating through multiple saved models.\n",
        "model_file_name = f'landmark3_lr=0.001___Accuracy_{model_evaluation_accuracy}___Loss_{model_evaluation_loss}.h5'\n",
        "\n",
        "# Save the Model.\n",
        "#LRCN_model.save('/content/drive/My Drive/marwa/saved_models/lrcn/'+model_file_name)"
      ],
      "metadata": {
        "id": "g8wWe5lR1GRp"
      },
      "execution_count": null,
      "outputs": []
    },
    {
      "cell_type": "code",
      "source": [
        "def plot_metric(model_training_history, metric_name_1, metric_name_2, plot_name):\n",
        "    '''\n",
        "    This function will plot the metrics passed to it in a graph.\n",
        "    Args:\n",
        "        model_training_history: A history object containing a record of training and validation \n",
        "                                loss values and metrics values at successive epochs\n",
        "        metric_name_1:          The name of the first metric that needs to be plotted in the graph.\n",
        "        metric_name_2:          The name of the second metric that needs to be plotted in the graph.\n",
        "        plot_name:              The title of the graph.\n",
        "    '''\n",
        "    \n",
        "    # Get metric values using metric names as identifiers.\n",
        "    metric_value_1 = model_training_history.history[metric_name_1]\n",
        "    metric_value_2 = model_training_history.history[metric_name_2]\n",
        "    \n",
        "    # Construct a range object which will be used as x-axis (horizontal plane) of the graph.\n",
        "    epochs = range(len(metric_value_1))\n",
        "\n",
        "    # Plot the Graph.\n",
        "    plt.plot(epochs, metric_value_1, 'blue', label = metric_name_1)\n",
        "    plt.plot(epochs, metric_value_2, 'red', label = metric_name_2)\n",
        "\n",
        "    # Add title to the plot.\n",
        "    plt.title(str(plot_name))\n",
        "\n",
        "    # Add legend to the plot.\n",
        "    plt.legend()"
      ],
      "metadata": {
        "id": "ZiSh_i871KAd"
      },
      "execution_count": 14,
      "outputs": []
    },
    {
      "cell_type": "code",
      "source": [
        "# Visualize the training and validation loss metrices.\n",
        "plot_metric(LRCN_model_training_history, 'loss', 'val_loss', 'Total Loss vs Total Validation Loss')"
      ],
      "metadata": {
        "id": "7HjkIAJj1Ncw",
        "outputId": "c3997e40-f350-40dd-b346-796cdd37d9a5",
        "colab": {
          "base_uri": "https://localhost:8080/",
          "height": 281
        }
      },
      "execution_count": 15,
      "outputs": [
        {
          "output_type": "display_data",
          "data": {
            "text/plain": [
              "<Figure size 432x288 with 1 Axes>"
            ],
            "image/png": "[encoded data removed]"
          },
          "metadata": {
            "needs_background": "light"
          }
        }
      ]
    },
    {
      "cell_type": "code",
      "source": [
        "\n",
        "# Visualize the training and validation accuracy metrices.\n",
        "plot_metric(LRCN_model_training_history, 'accuracy', 'val_accuracy', 'Total Accuracy vs Total Validation Accuracy')"
      ],
      "metadata": {
        "id": "sYTDhDnq1Qce",
        "outputId": "ca21eb38-db60-4eed-b9c4-ab9cd944d78a",
        "colab": {
          "base_uri": "https://localhost:8080/",
          "height": 281
        }
      },
      "execution_count": 16,
      "outputs": [
        {
          "output_type": "display_data",
          "data": {
            "text/plain": [
              "<Figure size 432x288 with 1 Axes>"
            ],
            "image/png": "[encoded data removed]"
          },
          "metadata": {
            "needs_background": "light"
          }
        }
      ]
    },
    {
      "cell_type": "code",
      "source": [
        "predictions =  LRCN_model.predict(features_test)\n",
        "predictions"
      ],
      "metadata": {
        "id": "KrJfAkU41SlN",
        "outputId": "d35c9c0b-71db-44a2-f0e6-38b4c89851ac",
        "colab": {
          "base_uri": "https://localhost:8080/"
        }
      },
      "execution_count": 17,
      "outputs": [
        {
          "output_type": "execute_result",
          "data": {
            "text/plain": [
              "array([[9.7570944e-01, 8.5315304e-03, 1.9099261e-05, 1.5100125e-02,\n",
              "        4.7473545e-04, 1.6515709e-04],\n",
              "       [5.5939273e-04, 3.2281338e-03, 7.6937016e-05, 9.6188247e-01,\n",
              "        1.2212867e-03, 3.3031810e-02],\n",
              "       [2.8616068e-06, 1.1144208e-03, 9.9858618e-01, 4.2662890e-05,\n",
              "        4.7092552e-05, 2.0687000e-04],\n",
              "       ...,\n",
              "       [3.4370626e-04, 2.1618858e-03, 1.5767617e-04, 6.7935830e-01,\n",
              "        5.8330819e-02, 2.5964752e-01],\n",
              "       [1.6900634e-05, 1.6373933e-04, 1.0306794e-05, 3.6980025e-03,\n",
              "        9.9462408e-01, 1.4870163e-03],\n",
              "       [9.6318644e-04, 9.9696356e-01, 1.5917694e-03, 4.2176608e-04,\n",
              "        4.0207200e-05, 1.9557729e-05]], dtype=float32)"
            ]
          },
          "metadata": {},
          "execution_count": 17
        }
      ]
    },
    {
      "cell_type": "code",
      "source": [
        "preds=predictions.argmax(axis=1)\n",
        "preds"
      ],
      "metadata": {
        "id": "IWZvTQCa1W6M",
        "outputId": "f25608e7-365b-477f-8715-f6dc9636d5cd",
        "colab": {
          "base_uri": "https://localhost:8080/"
        }
      },
      "execution_count": 18,
      "outputs": [
        {
          "output_type": "execute_result",
          "data": {
            "text/plain": [
              "array([0, 3, 2, 5, 5, 2, 5, 1, 4, 0, 3, 1, 4, 0, 4, 5, 4, 1, 1, 1, 3, 2,\n",
              "       0, 2, 2, 5, 3, 5, 5, 5, 5, 4, 5, 0, 2, 2, 4, 1, 5, 4, 2, 2, 1, 5,\n",
              "       2, 1, 5, 5, 4, 3, 4, 2, 1, 4, 3, 0, 3, 0, 2, 5, 4, 4, 5, 0, 1, 3,\n",
              "       2, 0, 5, 1, 1, 2, 5, 3, 5, 4, 0, 3, 4, 5, 3, 4, 5, 0, 3, 1, 2, 5,\n",
              "       3, 5, 5, 1, 1, 1, 5, 5, 1, 2, 3, 3, 4, 3, 3, 5, 5, 3, 2, 1, 4, 1,\n",
              "       5, 2, 0, 1, 4, 0, 4, 1, 1, 1, 1, 5, 1, 5, 1, 2, 3, 2, 5, 1, 1, 0,\n",
              "       1, 5, 1, 0, 5, 0, 1, 1, 2, 1, 2, 3, 1, 2, 3, 0, 0, 3, 2, 3, 5, 3,\n",
              "       1, 2, 1, 3, 1, 0, 1, 3, 3, 2, 4, 1, 3, 3, 5, 4, 4, 3, 1, 4, 3, 1,\n",
              "       5, 0, 4, 5, 4, 0, 3, 5, 3, 3, 1, 3, 3, 4, 1, 4, 1, 3, 4, 2, 3, 1,\n",
              "       5, 5, 3, 2, 5, 2, 3, 4, 1])"
            ]
          },
          "metadata": {},
          "execution_count": 18
        }
      ]
    },
    {
      "cell_type": "code",
      "source": [
        "new_preds = preds.astype(int).flatten()\n",
        "new_preds"
      ],
      "metadata": {
        "id": "0CpgXIkh1Z_v",
        "outputId": "db0869b8-52dd-47ef-fea5-631b8253cb0d",
        "colab": {
          "base_uri": "https://localhost:8080/"
        }
      },
      "execution_count": 19,
      "outputs": [
        {
          "output_type": "execute_result",
          "data": {
            "text/plain": [
              "array([0, 3, 2, 5, 5, 2, 5, 1, 4, 0, 3, 1, 4, 0, 4, 5, 4, 1, 1, 1, 3, 2,\n",
              "       0, 2, 2, 5, 3, 5, 5, 5, 5, 4, 5, 0, 2, 2, 4, 1, 5, 4, 2, 2, 1, 5,\n",
              "       2, 1, 5, 5, 4, 3, 4, 2, 1, 4, 3, 0, 3, 0, 2, 5, 4, 4, 5, 0, 1, 3,\n",
              "       2, 0, 5, 1, 1, 2, 5, 3, 5, 4, 0, 3, 4, 5, 3, 4, 5, 0, 3, 1, 2, 5,\n",
              "       3, 5, 5, 1, 1, 1, 5, 5, 1, 2, 3, 3, 4, 3, 3, 5, 5, 3, 2, 1, 4, 1,\n",
              "       5, 2, 0, 1, 4, 0, 4, 1, 1, 1, 1, 5, 1, 5, 1, 2, 3, 2, 5, 1, 1, 0,\n",
              "       1, 5, 1, 0, 5, 0, 1, 1, 2, 1, 2, 3, 1, 2, 3, 0, 0, 3, 2, 3, 5, 3,\n",
              "       1, 2, 1, 3, 1, 0, 1, 3, 3, 2, 4, 1, 3, 3, 5, 4, 4, 3, 1, 4, 3, 1,\n",
              "       5, 0, 4, 5, 4, 0, 3, 5, 3, 3, 1, 3, 3, 4, 1, 4, 1, 3, 4, 2, 3, 1,\n",
              "       5, 5, 3, 2, 5, 2, 3, 4, 1])"
            ]
          },
          "metadata": {},
          "execution_count": 19
        }
      ]
    },
    {
      "cell_type": "code",
      "source": [
        "\n",
        "from sklearn.metrics import classification_report, confusion_matrix,accuracy_score\n",
        "import seaborn as sn\n",
        "import pandas as pd\n",
        "import numpy as np\n",
        "new_labels=np.argmax(labels_test, axis=1)\n",
        "print(classification_report(new_labels,new_preds))\n",
        "\n",
        "acc = float(accuracy_score(new_labels,new_preds))*100\n",
        "print(\"----accuracy score %s ----\" % acc)\n",
        "\n",
        "cm = confusion_matrix(new_labels,new_preds)\n",
        "#df_cm = pd.DataFrame(cm)\n",
        "class_names = ['neutral','calm', 'happy','sad','angry', 'fearful' ]\n",
        "df_cm = pd.DataFrame(cm, index=class_names, columns=class_names,)\n",
        "sn.heatmap(df_cm, annot=True, fmt='')\n",
        "plt.show()"
      ],
      "metadata": {
        "id": "7U3HwUqc1cft",
        "outputId": "77ee4bd4-9480-49db-f9c7-f136c8a2cb26",
        "colab": {
          "base_uri": "https://localhost:8080/",
          "height": 508
        }
      },
      "execution_count": 20,
      "outputs": [
        {
          "output_type": "stream",
          "name": "stdout",
          "text": [
            "              precision    recall  f1-score   support\n",
            "\n",
            "           0       0.95      0.74      0.83        27\n",
            "           1       0.91      0.95      0.93        44\n",
            "           2       0.97      0.93      0.95        30\n",
            "           3       0.75      0.88      0.81        34\n",
            "           4       0.97      0.82      0.89        34\n",
            "           5       0.83      0.92      0.88        38\n",
            "\n",
            "    accuracy                           0.88       207\n",
            "   macro avg       0.90      0.88      0.88       207\n",
            "weighted avg       0.89      0.88      0.88       207\n",
            "\n",
            "----accuracy score 88.40579710144928 ----\n"
          ]
        },
        {
          "output_type": "display_data",
          "data": {
            "text/plain": [
              "<Figure size 432x288 with 2 Axes>"
            ],
            "image/png": "[encoded data removed]"
          },
          "metadata": {
            "needs_background": "light"
          }
        }
      ]
    },
    {
      "cell_type": "code",
      "source": [
        ""
      ],
      "metadata": {
        "id": "pVlEoCq0-0n3"
      },
      "execution_count": null,
      "outputs": []
    }
  ]
}