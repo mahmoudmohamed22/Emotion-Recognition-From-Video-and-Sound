{
  "nbformat": 4,
  "nbformat_minor": 0,
  "metadata": {
    "colab": {
      "name": "late_fusion_SVM_expert6 kernel(sigmoid) .ipynb",
      "provenance": [],
      "collapsed_sections": []
    },
    "kernelspec": {
      "name": "python3",
      "display_name": "Python 3"
    },
    "language_info": {
      "name": "python"
    }
  },
  "cells": [
    {
      "cell_type": "code",
      "source": [
        "# stacked generalization with linear meta model on blobs dataset\n",
        "from sklearn.metrics import accuracy_score\n",
        "from sklearn.linear_model import LogisticRegression\n",
        "from matplotlib import pyplot\n"
      ],
      "metadata": {
        "id": "XQj4f23-Ix-w"
      },
      "execution_count": 1,
      "outputs": []
    },
    {
      "cell_type": "code",
      "source": [
        "from google.colab import drive\n",
        "drive.mount('/content/drive')"
      ],
      "metadata": {
        "colab": {
          "base_uri": "https://localhost:8080/"
        },
        "id": "qj9wMQtlI1os",
        "outputId": "f176f365-1ad6-4178-8fab-a660be7aeba6"
      },
      "execution_count": 2,
      "outputs": [
        {
          "output_type": "stream",
          "name": "stdout",
          "text": [
            "Drive already mounted at /content/drive; to attempt to forcibly remount, call drive.mount(\"/content/drive\", force_remount=True).\n"
          ]
        }
      ]
    },
    {
      "cell_type": "code",
      "source": [
        "#x_train  y_train to train\n",
        "#x_test   y_test to test\n",
        "#x_valid  y_valid \n",
        "#video\n",
        "import joblib\n",
        "x_test_prediction = joblib.load('/content/drive/My Drive/fusion/video/data_set_fusion/expert6/test/pred_test')\n",
        "x_train_prediction = joblib.load('/content/drive/My Drive/fusion/video/data_set_fusion/expert6/train/pred_train')\n",
        "x_valid_prediction = joblib.load('/content/drive/My Drive/fusion/video/data_set_fusion/expert6/valid/pred_valid')\n",
        "y_test = joblib.load('/content/drive/My Drive/fusion/video/data_set_fusion/expert6/test/labels_test')\n",
        "y_train = joblib.load('/content/drive/My Drive/fusion/video/data_set_fusion/expert6/train/labels_train')\n",
        "y_valid = joblib.load('/content/drive/My Drive/fusion/video/data_set_fusion/expert6/valid/labels_valid')\n",
        "#audio\n",
        "\n",
        "x_audio_test_prediction = joblib.load('/content/drive/My Drive/fusion/audio/new_data_set_fusion/expert6/test/predict_test')\n",
        "x_audio_train_prediction = joblib.load('/content/drive/My Drive/fusion/audio/new_data_set_fusion/expert6/train/predict_train')\n",
        "x_audio_valid_prediction = joblib.load('/content/drive/My Drive/fusion/audio/new_data_set_fusion/expert6/valid/predict_valid')\n",
        "\"\"\"\n",
        "#samples name\n",
        "test_videos= joblib.load('/content/drive/My Drive/fusion/video/data_set_fusion/expert1/test/video_test_path')\n",
        "train_videos = joblib.load('/content/drive/My Drive/fusion/video/data_set_fusion/expert1/train/video_train_path')\n",
        "valid_videos = joblib.load('/content/drive/My Drive/fusion/video/data_set_fusion/expert1/valid/video_valid_path')\n",
        "\"\"\""
      ],
      "metadata": {
        "id": "gb8C-44ct_Yp",
        "colab": {
          "base_uri": "https://localhost:8080/",
          "height": 70
        },
        "outputId": "32c4cf09-86e2-4389-ad89-aa62d2bf4878"
      },
      "execution_count": 5,
      "outputs": [
        {
          "output_type": "execute_result",
          "data": {
            "text/plain": [
              "\"\\n#samples name\\ntest_videos= joblib.load('/content/drive/My Drive/fusion/video/data_set_fusion/expert1/test/video_test_path')\\ntrain_videos = joblib.load('/content/drive/My Drive/fusion/video/data_set_fusion/expert1/train/video_train_path')\\nvalid_videos = joblib.load('/content/drive/My Drive/fusion/video/data_set_fusion/expert1/valid/video_valid_path')\\n\""
            ],
            "application/vnd.google.colaboratory.intrinsic+json": {
              "type": "string"
            }
          },
          "metadata": {},
          "execution_count": 5
        }
      ]
    },
    {
      "cell_type": "code",
      "source": [
        "len(x_test_prediction),len(x_train_prediction),len(x_audio_test_prediction),len(x_audio_train_prediction),len(x_valid_prediction),len(x_audio_valid_prediction)"
      ],
      "metadata": {
        "colab": {
          "base_uri": "https://localhost:8080/"
        },
        "id": "Qz1Z3Vgdxaaw",
        "outputId": "4b07516a-78e0-4bb6-9faa-4b967b2e5fde"
      },
      "execution_count": 6,
      "outputs": [
        {
          "output_type": "execute_result",
          "data": {
            "text/plain": [
              "(207, 1653, 207, 1653, 207, 207)"
            ]
          },
          "metadata": {},
          "execution_count": 6
        }
      ]
    },
    {
      "cell_type": "code",
      "source": [
        "#x_train for video\n",
        "x_train_prediction=x_train_prediction.append(x_valid_prediction,ignore_index = True)\n",
        "#x_train for audio\n",
        "x_audio_train_prediction=x_audio_train_prediction.append(x_audio_valid_prediction,ignore_index = True)"
      ],
      "metadata": {
        "id": "QgDf-FF0utgP"
      },
      "execution_count": 7,
      "outputs": []
    },
    {
      "cell_type": "code",
      "source": [
        "len(x_audio_train_prediction),len(x_train_prediction)"
      ],
      "metadata": {
        "colab": {
          "base_uri": "https://localhost:8080/"
        },
        "id": "3G4-X-MLv79s",
        "outputId": "84cf015b-cb45-486a-8630-404a6aeba051"
      },
      "execution_count": 8,
      "outputs": [
        {
          "output_type": "execute_result",
          "data": {
            "text/plain": [
              "(1860, 1860)"
            ]
          },
          "metadata": {},
          "execution_count": 8
        }
      ]
    },
    {
      "cell_type": "code",
      "source": [
        "from pandas.core.frame import DataFrame\n",
        "df_train=DataFrame(y_train,columns=['labels'])\n",
        "df_valid=DataFrame(y_valid,columns=['labels'])"
      ],
      "metadata": {
        "id": "JrYaQCyZw06M"
      },
      "execution_count": 9,
      "outputs": []
    },
    {
      "cell_type": "code",
      "source": [
        "df_train=df_train.append(df_valid,ignore_index = True)"
      ],
      "metadata": {
        "id": "Rq3yhw26xjfy"
      },
      "execution_count": 10,
      "outputs": []
    },
    {
      "cell_type": "code",
      "source": [
        "len(df_train)"
      ],
      "metadata": {
        "colab": {
          "base_uri": "https://localhost:8080/"
        },
        "id": "dvYKmNurx1KR",
        "outputId": "4a96fcf4-ef1f-4ad6-e6ac-fb78c36cbfc0"
      },
      "execution_count": 11,
      "outputs": [
        {
          "output_type": "execute_result",
          "data": {
            "text/plain": [
              "1860"
            ]
          },
          "metadata": {},
          "execution_count": 11
        }
      ]
    },
    {
      "cell_type": "code",
      "source": [
        "df_train"
      ],
      "metadata": {
        "colab": {
          "base_uri": "https://localhost:8080/",
          "height": 424
        },
        "id": "Pfp2YX591X1F",
        "outputId": "8c235026-0514-420b-886b-fc0166700ba5"
      },
      "execution_count": 12,
      "outputs": [
        {
          "output_type": "execute_result",
          "data": {
            "text/plain": [
              "      labels\n",
              "0          4\n",
              "1          1\n",
              "2          2\n",
              "3          3\n",
              "4          2\n",
              "...      ...\n",
              "1855       3\n",
              "1856       0\n",
              "1857       4\n",
              "1858       4\n",
              "1859       2\n",
              "\n",
              "[1860 rows x 1 columns]"
            ],
            "text/html": [
              "\n",
              "  <div id=\"df-63835f82-481b-4fe7-a653-bd9dcb0de89a\">\n",
              "    <div class=\"colab-df-container\">\n",
              "      <div>\n",
              "<style scoped>\n",
              "    .dataframe tbody tr th:only-of-type {\n",
              "        vertical-align: middle;\n",
              "    }\n",
              "\n",
              "    .dataframe tbody tr th {\n",
              "        vertical-align: top;\n",
              "    }\n",
              "\n",
              "    .dataframe thead th {\n",
              "        text-align: right;\n",
              "    }\n",
              "</style>\n",
              "<table border=\"1\" class=\"dataframe\">\n",
              "  <thead>\n",
              "    <tr style=\"text-align: right;\">\n",
              "      <th></th>\n",
              "      <th>labels</th>\n",
              "    </tr>\n",
              "  </thead>\n",
              "  <tbody>\n",
              "    <tr>\n",
              "      <th>0</th>\n",
              "      <td>4</td>\n",
              "    </tr>\n",
              "    <tr>\n",
              "      <th>1</th>\n",
              "      <td>1</td>\n",
              "    </tr>\n",
              "    <tr>\n",
              "      <th>2</th>\n",
              "      <td>2</td>\n",
              "    </tr>\n",
              "    <tr>\n",
              "      <th>3</th>\n",
              "      <td>3</td>\n",
              "    </tr>\n",
              "    <tr>\n",
              "      <th>4</th>\n",
              "      <td>2</td>\n",
              "    </tr>\n",
              "    <tr>\n",
              "      <th>...</th>\n",
              "      <td>...</td>\n",
              "    </tr>\n",
              "    <tr>\n",
              "      <th>1855</th>\n",
              "      <td>3</td>\n",
              "    </tr>\n",
              "    <tr>\n",
              "      <th>1856</th>\n",
              "      <td>0</td>\n",
              "    </tr>\n",
              "    <tr>\n",
              "      <th>1857</th>\n",
              "      <td>4</td>\n",
              "    </tr>\n",
              "    <tr>\n",
              "      <th>1858</th>\n",
              "      <td>4</td>\n",
              "    </tr>\n",
              "    <tr>\n",
              "      <th>1859</th>\n",
              "      <td>2</td>\n",
              "    </tr>\n",
              "  </tbody>\n",
              "</table>\n",
              "<p>1860 rows × 1 columns</p>\n",
              "</div>\n",
              "      <button class=\"colab-df-convert\" onclick=\"convertToInteractive('df-63835f82-481b-4fe7-a653-bd9dcb0de89a')\"\n",
              "              title=\"Convert this dataframe to an interactive table.\"\n",
              "              style=\"display:none;\">\n",
              "        \n",
              "  <svg xmlns=\"http://www.w3.org/2000/svg\" height=\"24px\"viewBox=\"0 0 24 24\"\n",
              "       width=\"24px\">\n",
              "    <path d=\"M0 0h24v24H0V0z\" fill=\"none\"/>\n",
              "    <path d=\"M18.56 5.44l.94 2.06.94-2.06 2.06-.94-2.06-.94-.94-2.06-.94 2.06-2.06.94zm-11 1L8.5 8.5l.94-2.06 2.06-.94-2.06-.94L8.5 2.5l-.94 2.06-2.06.94zm10 10l.94 2.06.94-2.06 2.06-.94-2.06-.94-.94-2.06-.94 2.06-2.06.94z\"/><path d=\"M17.41 7.96l-1.37-1.37c-.4-.4-.92-.59-1.43-.59-.52 0-1.04.2-1.43.59L10.3 9.45l-7.72 7.72c-.78.78-.78 2.05 0 2.83L4 21.41c.39.39.9.59 1.41.59.51 0 1.02-.2 1.41-.59l7.78-7.78 2.81-2.81c.8-.78.8-2.07 0-2.86zM5.41 20L4 18.59l7.72-7.72 1.47 1.35L5.41 20z\"/>\n",
              "  </svg>\n",
              "      </button>\n",
              "      \n",
              "  <style>\n",
              "    .colab-df-container {\n",
              "      display:flex;\n",
              "      flex-wrap:wrap;\n",
              "      gap: 12px;\n",
              "    }\n",
              "\n",
              "    .colab-df-convert {\n",
              "      background-color: #E8F0FE;\n",
              "      border: none;\n",
              "      border-radius: 50%;\n",
              "      cursor: pointer;\n",
              "      display: none;\n",
              "      fill: #1967D2;\n",
              "      height: 32px;\n",
              "      padding: 0 0 0 0;\n",
              "      width: 32px;\n",
              "    }\n",
              "\n",
              "    .colab-df-convert:hover {\n",
              "      background-color: #E2EBFA;\n",
              "      box-shadow: 0px 1px 2px rgba(60, 64, 67, 0.3), 0px 1px 3px 1px rgba(60, 64, 67, 0.15);\n",
              "      fill: #174EA6;\n",
              "    }\n",
              "\n",
              "    [theme=dark] .colab-df-convert {\n",
              "      background-color: #3B4455;\n",
              "      fill: #D2E3FC;\n",
              "    }\n",
              "\n",
              "    [theme=dark] .colab-df-convert:hover {\n",
              "      background-color: #434B5C;\n",
              "      box-shadow: 0px 1px 3px 1px rgba(0, 0, 0, 0.15);\n",
              "      filter: drop-shadow(0px 1px 2px rgba(0, 0, 0, 0.3));\n",
              "      fill: #FFFFFF;\n",
              "    }\n",
              "  </style>\n",
              "\n",
              "      <script>\n",
              "        const buttonEl =\n",
              "          document.querySelector('#df-63835f82-481b-4fe7-a653-bd9dcb0de89a button.colab-df-convert');\n",
              "        buttonEl.style.display =\n",
              "          google.colab.kernel.accessAllowed ? 'block' : 'none';\n",
              "\n",
              "        async function convertToInteractive(key) {\n",
              "          const element = document.querySelector('#df-63835f82-481b-4fe7-a653-bd9dcb0de89a');\n",
              "          const dataTable =\n",
              "            await google.colab.kernel.invokeFunction('convertToInteractive',\n",
              "                                                     [key], {});\n",
              "          if (!dataTable) return;\n",
              "\n",
              "          const docLinkHtml = 'Like what you see? Visit the ' +\n",
              "            '<a target=\"_blank\" href=https://colab.research.google.com/notebooks/data_table.ipynb>data table notebook</a>'\n",
              "            + ' to learn more about interactive tables.';\n",
              "          element.innerHTML = '';\n",
              "          dataTable['output_type'] = 'display_data';\n",
              "          await google.colab.output.renderOutput(dataTable, element);\n",
              "          const docLink = document.createElement('div');\n",
              "          docLink.innerHTML = docLinkHtml;\n",
              "          element.appendChild(docLink);\n",
              "        }\n",
              "      </script>\n",
              "    </div>\n",
              "  </div>\n",
              "  "
            ]
          },
          "metadata": {},
          "execution_count": 12
        }
      ]
    },
    {
      "cell_type": "code",
      "source": [
        "import pandas as pd\n",
        "\n",
        "x_train = pd.concat([x_train_prediction, x_audio_train_prediction], axis=1,join='inner')\n",
        "x_test =  pd.concat([x_test_prediction, x_audio_test_prediction], axis=1,join='inner')"
      ],
      "metadata": {
        "id": "sbkgIXaFwKwh"
      },
      "execution_count": 13,
      "outputs": []
    },
    {
      "cell_type": "code",
      "source": [
        "x_test"
      ],
      "metadata": {
        "colab": {
          "base_uri": "https://localhost:8080/",
          "height": 424
        },
        "id": "78gEQ1w7w_fd",
        "outputId": "6cbc9447-6e7e-4718-8e45-d3f66252ac05"
      },
      "execution_count": 14,
      "outputs": [
        {
          "output_type": "execute_result",
          "data": {
            "text/plain": [
              "             OV_0      OV_1      OV_2      OV_3          OV_4      OV_5  \\\n",
              "0    7.780105e-06  0.000040  0.000027  0.000160  5.380579e-05  0.999712   \n",
              "1    7.297665e-05  0.999754  0.000043  0.000120  4.270825e-07  0.000010   \n",
              "2    1.916489e-05  0.000300  0.000004  0.999334  1.249728e-05  0.000331   \n",
              "3    1.874786e-07  0.000104  0.999859  0.000005  2.123697e-06  0.000030   \n",
              "4    6.415075e-07  0.000002  0.000005  0.000050  9.997198e-01  0.000222   \n",
              "..            ...       ...       ...       ...           ...       ...   \n",
              "202  5.623411e-05  0.000234  0.003189  0.002262  5.129320e-04  0.993745   \n",
              "203  1.472854e-07  0.000249  0.999723  0.000006  1.929889e-06  0.000020   \n",
              "204  8.814672e-06  0.000075  0.000053  0.000206  2.076775e-04  0.999449   \n",
              "205  1.981894e-07  0.000106  0.999857  0.000006  4.204789e-06  0.000026   \n",
              "206  2.242734e-05  0.469132  0.528646  0.000520  1.660531e-05  0.001664   \n",
              "\n",
              "             OA_0          OA_1          OA_2          OA_3          OA_4  \\\n",
              "0    1.936802e-10  7.852173e-13  6.640285e-06  9.867480e-04  3.790536e-05   \n",
              "1    3.369219e-01  6.540952e-01  8.945608e-03  6.829579e-07  1.202702e-05   \n",
              "2    9.408867e-09  1.651772e-07  6.631060e-13  9.999999e-01  1.610594e-14   \n",
              "3    5.629899e-09  1.415552e-07  9.658893e-01  3.073566e-05  6.899030e-04   \n",
              "4    7.327420e-14  7.529729e-24  5.906849e-13  3.661182e-09  1.000000e+00   \n",
              "..            ...           ...           ...           ...           ...   \n",
              "202  5.615510e-12  7.502888e-03  8.821482e-04  6.088373e-05  4.916212e-09   \n",
              "203  1.267675e-06  2.358050e-08  7.175865e-02  1.163456e-03  9.265963e-01   \n",
              "204  1.598653e-02  7.122843e-04  1.186622e-01  4.227360e-02  1.446489e-02   \n",
              "205  1.025545e-09  1.873669e-13  9.885288e-01  6.332670e-08  1.146533e-02   \n",
              "206  1.270925e-14  2.636232e-02  9.736376e-01  4.301007e-11  5.296594e-13   \n",
              "\n",
              "             OA_5  \n",
              "0    9.989687e-01  \n",
              "1    2.453875e-05  \n",
              "2    1.681032e-10  \n",
              "3    3.338988e-02  \n",
              "4    2.174262e-12  \n",
              "..            ...  \n",
              "202  9.915541e-01  \n",
              "203  4.802891e-04  \n",
              "204  8.079005e-01  \n",
              "205  5.747351e-06  \n",
              "206  1.066943e-10  \n",
              "\n",
              "[207 rows x 12 columns]"
            ],
            "text/html": [
              "\n",
              "  <div id=\"df-fbd571ca-c9de-4719-85d5-a8bca29defe2\">\n",
              "    <div class=\"colab-df-container\">\n",
              "      <div>\n",
              "<style scoped>\n",
              "    .dataframe tbody tr th:only-of-type {\n",
              "        vertical-align: middle;\n",
              "    }\n",
              "\n",
              "    .dataframe tbody tr th {\n",
              "        vertical-align: top;\n",
              "    }\n",
              "\n",
              "    .dataframe thead th {\n",
              "        text-align: right;\n",
              "    }\n",
              "</style>\n",
              "<table border=\"1\" class=\"dataframe\">\n",
              "  <thead>\n",
              "    <tr style=\"text-align: right;\">\n",
              "      <th></th>\n",
              "      <th>OV_0</th>\n",
              "      <th>OV_1</th>\n",
              "      <th>OV_2</th>\n",
              "      <th>OV_3</th>\n",
              "      <th>OV_4</th>\n",
              "      <th>OV_5</th>\n",
              "      <th>OA_0</th>\n",
              "      <th>OA_1</th>\n",
              "      <th>OA_2</th>\n",
              "      <th>OA_3</th>\n",
              "      <th>OA_4</th>\n",
              "      <th>OA_5</th>\n",
              "    </tr>\n",
              "  </thead>\n",
              "  <tbody>\n",
              "    <tr>\n",
              "      <th>0</th>\n",
              "      <td>7.780105e-06</td>\n",
              "      <td>0.000040</td>\n",
              "      <td>0.000027</td>\n",
              "      <td>0.000160</td>\n",
              "      <td>5.380579e-05</td>\n",
              "      <td>0.999712</td>\n",
              "      <td>1.936802e-10</td>\n",
              "      <td>7.852173e-13</td>\n",
              "      <td>6.640285e-06</td>\n",
              "      <td>9.867480e-04</td>\n",
              "      <td>3.790536e-05</td>\n",
              "      <td>9.989687e-01</td>\n",
              "    </tr>\n",
              "    <tr>\n",
              "      <th>1</th>\n",
              "      <td>7.297665e-05</td>\n",
              "      <td>0.999754</td>\n",
              "      <td>0.000043</td>\n",
              "      <td>0.000120</td>\n",
              "      <td>4.270825e-07</td>\n",
              "      <td>0.000010</td>\n",
              "      <td>3.369219e-01</td>\n",
              "      <td>6.540952e-01</td>\n",
              "      <td>8.945608e-03</td>\n",
              "      <td>6.829579e-07</td>\n",
              "      <td>1.202702e-05</td>\n",
              "      <td>2.453875e-05</td>\n",
              "    </tr>\n",
              "    <tr>\n",
              "      <th>2</th>\n",
              "      <td>1.916489e-05</td>\n",
              "      <td>0.000300</td>\n",
              "      <td>0.000004</td>\n",
              "      <td>0.999334</td>\n",
              "      <td>1.249728e-05</td>\n",
              "      <td>0.000331</td>\n",
              "      <td>9.408867e-09</td>\n",
              "      <td>1.651772e-07</td>\n",
              "      <td>6.631060e-13</td>\n",
              "      <td>9.999999e-01</td>\n",
              "      <td>1.610594e-14</td>\n",
              "      <td>1.681032e-10</td>\n",
              "    </tr>\n",
              "    <tr>\n",
              "      <th>3</th>\n",
              "      <td>1.874786e-07</td>\n",
              "      <td>0.000104</td>\n",
              "      <td>0.999859</td>\n",
              "      <td>0.000005</td>\n",
              "      <td>2.123697e-06</td>\n",
              "      <td>0.000030</td>\n",
              "      <td>5.629899e-09</td>\n",
              "      <td>1.415552e-07</td>\n",
              "      <td>9.658893e-01</td>\n",
              "      <td>3.073566e-05</td>\n",
              "      <td>6.899030e-04</td>\n",
              "      <td>3.338988e-02</td>\n",
              "    </tr>\n",
              "    <tr>\n",
              "      <th>4</th>\n",
              "      <td>6.415075e-07</td>\n",
              "      <td>0.000002</td>\n",
              "      <td>0.000005</td>\n",
              "      <td>0.000050</td>\n",
              "      <td>9.997198e-01</td>\n",
              "      <td>0.000222</td>\n",
              "      <td>7.327420e-14</td>\n",
              "      <td>7.529729e-24</td>\n",
              "      <td>5.906849e-13</td>\n",
              "      <td>3.661182e-09</td>\n",
              "      <td>1.000000e+00</td>\n",
              "      <td>2.174262e-12</td>\n",
              "    </tr>\n",
              "    <tr>\n",
              "      <th>...</th>\n",
              "      <td>...</td>\n",
              "      <td>...</td>\n",
              "      <td>...</td>\n",
              "      <td>...</td>\n",
              "      <td>...</td>\n",
              "      <td>...</td>\n",
              "      <td>...</td>\n",
              "      <td>...</td>\n",
              "      <td>...</td>\n",
              "      <td>...</td>\n",
              "      <td>...</td>\n",
              "      <td>...</td>\n",
              "    </tr>\n",
              "    <tr>\n",
              "      <th>202</th>\n",
              "      <td>5.623411e-05</td>\n",
              "      <td>0.000234</td>\n",
              "      <td>0.003189</td>\n",
              "      <td>0.002262</td>\n",
              "      <td>5.129320e-04</td>\n",
              "      <td>0.993745</td>\n",
              "      <td>5.615510e-12</td>\n",
              "      <td>7.502888e-03</td>\n",
              "      <td>8.821482e-04</td>\n",
              "      <td>6.088373e-05</td>\n",
              "      <td>4.916212e-09</td>\n",
              "      <td>9.915541e-01</td>\n",
              "    </tr>\n",
              "    <tr>\n",
              "      <th>203</th>\n",
              "      <td>1.472854e-07</td>\n",
              "      <td>0.000249</td>\n",
              "      <td>0.999723</td>\n",
              "      <td>0.000006</td>\n",
              "      <td>1.929889e-06</td>\n",
              "      <td>0.000020</td>\n",
              "      <td>1.267675e-06</td>\n",
              "      <td>2.358050e-08</td>\n",
              "      <td>7.175865e-02</td>\n",
              "      <td>1.163456e-03</td>\n",
              "      <td>9.265963e-01</td>\n",
              "      <td>4.802891e-04</td>\n",
              "    </tr>\n",
              "    <tr>\n",
              "      <th>204</th>\n",
              "      <td>8.814672e-06</td>\n",
              "      <td>0.000075</td>\n",
              "      <td>0.000053</td>\n",
              "      <td>0.000206</td>\n",
              "      <td>2.076775e-04</td>\n",
              "      <td>0.999449</td>\n",
              "      <td>1.598653e-02</td>\n",
              "      <td>7.122843e-04</td>\n",
              "      <td>1.186622e-01</td>\n",
              "      <td>4.227360e-02</td>\n",
              "      <td>1.446489e-02</td>\n",
              "      <td>8.079005e-01</td>\n",
              "    </tr>\n",
              "    <tr>\n",
              "      <th>205</th>\n",
              "      <td>1.981894e-07</td>\n",
              "      <td>0.000106</td>\n",
              "      <td>0.999857</td>\n",
              "      <td>0.000006</td>\n",
              "      <td>4.204789e-06</td>\n",
              "      <td>0.000026</td>\n",
              "      <td>1.025545e-09</td>\n",
              "      <td>1.873669e-13</td>\n",
              "      <td>9.885288e-01</td>\n",
              "      <td>6.332670e-08</td>\n",
              "      <td>1.146533e-02</td>\n",
              "      <td>5.747351e-06</td>\n",
              "    </tr>\n",
              "    <tr>\n",
              "      <th>206</th>\n",
              "      <td>2.242734e-05</td>\n",
              "      <td>0.469132</td>\n",
              "      <td>0.528646</td>\n",
              "      <td>0.000520</td>\n",
              "      <td>1.660531e-05</td>\n",
              "      <td>0.001664</td>\n",
              "      <td>1.270925e-14</td>\n",
              "      <td>2.636232e-02</td>\n",
              "      <td>9.736376e-01</td>\n",
              "      <td>4.301007e-11</td>\n",
              "      <td>5.296594e-13</td>\n",
              "      <td>1.066943e-10</td>\n",
              "    </tr>\n",
              "  </tbody>\n",
              "</table>\n",
              "<p>207 rows × 12 columns</p>\n",
              "</div>\n",
              "      <button class=\"colab-df-convert\" onclick=\"convertToInteractive('df-fbd571ca-c9de-4719-85d5-a8bca29defe2')\"\n",
              "              title=\"Convert this dataframe to an interactive table.\"\n",
              "              style=\"display:none;\">\n",
              "        \n",
              "  <svg xmlns=\"http://www.w3.org/2000/svg\" height=\"24px\"viewBox=\"0 0 24 24\"\n",
              "       width=\"24px\">\n",
              "    <path d=\"M0 0h24v24H0V0z\" fill=\"none\"/>\n",
              "    <path d=\"M18.56 5.44l.94 2.06.94-2.06 2.06-.94-2.06-.94-.94-2.06-.94 2.06-2.06.94zm-11 1L8.5 8.5l.94-2.06 2.06-.94-2.06-.94L8.5 2.5l-.94 2.06-2.06.94zm10 10l.94 2.06.94-2.06 2.06-.94-2.06-.94-.94-2.06-.94 2.06-2.06.94z\"/><path d=\"M17.41 7.96l-1.37-1.37c-.4-.4-.92-.59-1.43-.59-.52 0-1.04.2-1.43.59L10.3 9.45l-7.72 7.72c-.78.78-.78 2.05 0 2.83L4 21.41c.39.39.9.59 1.41.59.51 0 1.02-.2 1.41-.59l7.78-7.78 2.81-2.81c.8-.78.8-2.07 0-2.86zM5.41 20L4 18.59l7.72-7.72 1.47 1.35L5.41 20z\"/>\n",
              "  </svg>\n",
              "      </button>\n",
              "      \n",
              "  <style>\n",
              "    .colab-df-container {\n",
              "      display:flex;\n",
              "      flex-wrap:wrap;\n",
              "      gap: 12px;\n",
              "    }\n",
              "\n",
              "    .colab-df-convert {\n",
              "      background-color: #E8F0FE;\n",
              "      border: none;\n",
              "      border-radius: 50%;\n",
              "      cursor: pointer;\n",
              "      display: none;\n",
              "      fill: #1967D2;\n",
              "      height: 32px;\n",
              "      padding: 0 0 0 0;\n",
              "      width: 32px;\n",
              "    }\n",
              "\n",
              "    .colab-df-convert:hover {\n",
              "      background-color: #E2EBFA;\n",
              "      box-shadow: 0px 1px 2px rgba(60, 64, 67, 0.3), 0px 1px 3px 1px rgba(60, 64, 67, 0.15);\n",
              "      fill: #174EA6;\n",
              "    }\n",
              "\n",
              "    [theme=dark] .colab-df-convert {\n",
              "      background-color: #3B4455;\n",
              "      fill: #D2E3FC;\n",
              "    }\n",
              "\n",
              "    [theme=dark] .colab-df-convert:hover {\n",
              "      background-color: #434B5C;\n",
              "      box-shadow: 0px 1px 3px 1px rgba(0, 0, 0, 0.15);\n",
              "      filter: drop-shadow(0px 1px 2px rgba(0, 0, 0, 0.3));\n",
              "      fill: #FFFFFF;\n",
              "    }\n",
              "  </style>\n",
              "\n",
              "      <script>\n",
              "        const buttonEl =\n",
              "          document.querySelector('#df-fbd571ca-c9de-4719-85d5-a8bca29defe2 button.colab-df-convert');\n",
              "        buttonEl.style.display =\n",
              "          google.colab.kernel.accessAllowed ? 'block' : 'none';\n",
              "\n",
              "        async function convertToInteractive(key) {\n",
              "          const element = document.querySelector('#df-fbd571ca-c9de-4719-85d5-a8bca29defe2');\n",
              "          const dataTable =\n",
              "            await google.colab.kernel.invokeFunction('convertToInteractive',\n",
              "                                                     [key], {});\n",
              "          if (!dataTable) return;\n",
              "\n",
              "          const docLinkHtml = 'Like what you see? Visit the ' +\n",
              "            '<a target=\"_blank\" href=https://colab.research.google.com/notebooks/data_table.ipynb>data table notebook</a>'\n",
              "            + ' to learn more about interactive tables.';\n",
              "          element.innerHTML = '';\n",
              "          dataTable['output_type'] = 'display_data';\n",
              "          await google.colab.output.renderOutput(dataTable, element);\n",
              "          const docLink = document.createElement('div');\n",
              "          docLink.innerHTML = docLinkHtml;\n",
              "          element.appendChild(docLink);\n",
              "        }\n",
              "      </script>\n",
              "    </div>\n",
              "  </div>\n",
              "  "
            ]
          },
          "metadata": {},
          "execution_count": 14
        }
      ]
    },
    {
      "cell_type": "code",
      "source": [
        "len(x_test),len(x_train)"
      ],
      "metadata": {
        "colab": {
          "base_uri": "https://localhost:8080/"
        },
        "id": "ryRQjTkUyZJv",
        "outputId": "31c0d511-d48e-48da-ba54-b611a90e3983"
      },
      "execution_count": 15,
      "outputs": [
        {
          "output_type": "execute_result",
          "data": {
            "text/plain": [
              "(207, 1860)"
            ]
          },
          "metadata": {},
          "execution_count": 15
        }
      ]
    },
    {
      "cell_type": "code",
      "source": [
        "x_train"
      ],
      "metadata": {
        "colab": {
          "base_uri": "https://localhost:8080/",
          "height": 424
        },
        "id": "1e5kgXiFwzx3",
        "outputId": "c15b9a78-39d7-47de-b2a7-168a2b1753b2"
      },
      "execution_count": 16,
      "outputs": [
        {
          "output_type": "execute_result",
          "data": {
            "text/plain": [
              "              OV_0      OV_1          OV_2      OV_3      OV_4      OV_5  \\\n",
              "0     5.110107e-07  0.000003  1.590872e-06  0.000024  0.999869  0.000102   \n",
              "1     4.388915e-05  0.999194  1.771843e-04  0.000548  0.000006  0.000030   \n",
              "2     1.616983e-07  0.000217  9.997681e-01  0.000005  0.000001  0.000009   \n",
              "3     6.566693e-05  0.000115  4.973264e-07  0.999346  0.000241  0.000232   \n",
              "4     2.649658e-06  0.003611  9.962283e-01  0.000017  0.000001  0.000140   \n",
              "...            ...       ...           ...       ...       ...       ...   \n",
              "1855  2.409035e-05  0.000075  9.488845e-07  0.999642  0.000009  0.000250   \n",
              "1856  9.955193e-01  0.001356  7.494498e-07  0.001737  0.000022  0.001365   \n",
              "1857  2.784763e-07  0.000001  1.670589e-06  0.000019  0.999886  0.000092   \n",
              "1858  1.203074e-05  0.000096  5.784472e-05  0.009850  0.986992  0.002992   \n",
              "1859  1.625500e-07  0.000201  9.997849e-01  0.000004  0.000002  0.000008   \n",
              "\n",
              "              OA_0          OA_1          OA_2          OA_3          OA_4  \\\n",
              "0     8.925185e-05  4.747361e-06  1.530530e-05  2.586961e-06  9.998566e-01   \n",
              "1     8.553511e-06  9.999597e-01  5.333033e-06  1.265866e-06  1.760026e-07   \n",
              "2     1.331074e-05  9.736670e-05  9.993984e-01  5.722401e-06  3.444346e-06   \n",
              "3     2.089144e-04  2.200925e-07  1.405861e-03  9.917848e-01  6.532692e-03   \n",
              "4     2.769722e-12  1.544248e-07  9.999999e-01  1.956094e-12  1.328491e-12   \n",
              "...            ...           ...           ...           ...           ...   \n",
              "1855  3.698262e-17  3.968281e-15  1.344102e-21  9.999188e-01  9.293107e-09   \n",
              "1856  9.613765e-01  3.477971e-02  3.071885e-03  5.340534e-04  2.318523e-04   \n",
              "1857  5.171353e-09  6.235674e-14  5.430216e-07  1.604926e-04  9.998361e-01   \n",
              "1858  2.259942e-07  1.655710e-09  1.896437e-04  1.704427e-03  1.296348e-01   \n",
              "1859  8.358367e-07  3.415724e-09  9.997868e-01  4.186546e-05  1.535590e-04   \n",
              "\n",
              "              OA_5  \n",
              "0     3.145612e-05  \n",
              "1     2.492217e-05  \n",
              "2     4.818414e-04  \n",
              "3     6.748127e-05  \n",
              "4     6.160358e-10  \n",
              "...            ...  \n",
              "1855  8.117367e-05  \n",
              "1856  5.979859e-06  \n",
              "1857  2.810983e-06  \n",
              "1858  8.684709e-01  \n",
              "1859  1.699588e-05  \n",
              "\n",
              "[1860 rows x 12 columns]"
            ],
            "text/html": [
              "\n",
              "  <div id=\"df-cb93dce2-1ec3-402d-a5ed-ab3fd1bab4dc\">\n",
              "    <div class=\"colab-df-container\">\n",
              "      <div>\n",
              "<style scoped>\n",
              "    .dataframe tbody tr th:only-of-type {\n",
              "        vertical-align: middle;\n",
              "    }\n",
              "\n",
              "    .dataframe tbody tr th {\n",
              "        vertical-align: top;\n",
              "    }\n",
              "\n",
              "    .dataframe thead th {\n",
              "        text-align: right;\n",
              "    }\n",
              "</style>\n",
              "<table border=\"1\" class=\"dataframe\">\n",
              "  <thead>\n",
              "    <tr style=\"text-align: right;\">\n",
              "      <th></th>\n",
              "      <th>OV_0</th>\n",
              "      <th>OV_1</th>\n",
              "      <th>OV_2</th>\n",
              "      <th>OV_3</th>\n",
              "      <th>OV_4</th>\n",
              "      <th>OV_5</th>\n",
              "      <th>OA_0</th>\n",
              "      <th>OA_1</th>\n",
              "      <th>OA_2</th>\n",
              "      <th>OA_3</th>\n",
              "      <th>OA_4</th>\n",
              "      <th>OA_5</th>\n",
              "    </tr>\n",
              "  </thead>\n",
              "  <tbody>\n",
              "    <tr>\n",
              "      <th>0</th>\n",
              "      <td>5.110107e-07</td>\n",
              "      <td>0.000003</td>\n",
              "      <td>1.590872e-06</td>\n",
              "      <td>0.000024</td>\n",
              "      <td>0.999869</td>\n",
              "      <td>0.000102</td>\n",
              "      <td>8.925185e-05</td>\n",
              "      <td>4.747361e-06</td>\n",
              "      <td>1.530530e-05</td>\n",
              "      <td>2.586961e-06</td>\n",
              "      <td>9.998566e-01</td>\n",
              "      <td>3.145612e-05</td>\n",
              "    </tr>\n",
              "    <tr>\n",
              "      <th>1</th>\n",
              "      <td>4.388915e-05</td>\n",
              "      <td>0.999194</td>\n",
              "      <td>1.771843e-04</td>\n",
              "      <td>0.000548</td>\n",
              "      <td>0.000006</td>\n",
              "      <td>0.000030</td>\n",
              "      <td>8.553511e-06</td>\n",
              "      <td>9.999597e-01</td>\n",
              "      <td>5.333033e-06</td>\n",
              "      <td>1.265866e-06</td>\n",
              "      <td>1.760026e-07</td>\n",
              "      <td>2.492217e-05</td>\n",
              "    </tr>\n",
              "    <tr>\n",
              "      <th>2</th>\n",
              "      <td>1.616983e-07</td>\n",
              "      <td>0.000217</td>\n",
              "      <td>9.997681e-01</td>\n",
              "      <td>0.000005</td>\n",
              "      <td>0.000001</td>\n",
              "      <td>0.000009</td>\n",
              "      <td>1.331074e-05</td>\n",
              "      <td>9.736670e-05</td>\n",
              "      <td>9.993984e-01</td>\n",
              "      <td>5.722401e-06</td>\n",
              "      <td>3.444346e-06</td>\n",
              "      <td>4.818414e-04</td>\n",
              "    </tr>\n",
              "    <tr>\n",
              "      <th>3</th>\n",
              "      <td>6.566693e-05</td>\n",
              "      <td>0.000115</td>\n",
              "      <td>4.973264e-07</td>\n",
              "      <td>0.999346</td>\n",
              "      <td>0.000241</td>\n",
              "      <td>0.000232</td>\n",
              "      <td>2.089144e-04</td>\n",
              "      <td>2.200925e-07</td>\n",
              "      <td>1.405861e-03</td>\n",
              "      <td>9.917848e-01</td>\n",
              "      <td>6.532692e-03</td>\n",
              "      <td>6.748127e-05</td>\n",
              "    </tr>\n",
              "    <tr>\n",
              "      <th>4</th>\n",
              "      <td>2.649658e-06</td>\n",
              "      <td>0.003611</td>\n",
              "      <td>9.962283e-01</td>\n",
              "      <td>0.000017</td>\n",
              "      <td>0.000001</td>\n",
              "      <td>0.000140</td>\n",
              "      <td>2.769722e-12</td>\n",
              "      <td>1.544248e-07</td>\n",
              "      <td>9.999999e-01</td>\n",
              "      <td>1.956094e-12</td>\n",
              "      <td>1.328491e-12</td>\n",
              "      <td>6.160358e-10</td>\n",
              "    </tr>\n",
              "    <tr>\n",
              "      <th>...</th>\n",
              "      <td>...</td>\n",
              "      <td>...</td>\n",
              "      <td>...</td>\n",
              "      <td>...</td>\n",
              "      <td>...</td>\n",
              "      <td>...</td>\n",
              "      <td>...</td>\n",
              "      <td>...</td>\n",
              "      <td>...</td>\n",
              "      <td>...</td>\n",
              "      <td>...</td>\n",
              "      <td>...</td>\n",
              "    </tr>\n",
              "    <tr>\n",
              "      <th>1855</th>\n",
              "      <td>2.409035e-05</td>\n",
              "      <td>0.000075</td>\n",
              "      <td>9.488845e-07</td>\n",
              "      <td>0.999642</td>\n",
              "      <td>0.000009</td>\n",
              "      <td>0.000250</td>\n",
              "      <td>3.698262e-17</td>\n",
              "      <td>3.968281e-15</td>\n",
              "      <td>1.344102e-21</td>\n",
              "      <td>9.999188e-01</td>\n",
              "      <td>9.293107e-09</td>\n",
              "      <td>8.117367e-05</td>\n",
              "    </tr>\n",
              "    <tr>\n",
              "      <th>1856</th>\n",
              "      <td>9.955193e-01</td>\n",
              "      <td>0.001356</td>\n",
              "      <td>7.494498e-07</td>\n",
              "      <td>0.001737</td>\n",
              "      <td>0.000022</td>\n",
              "      <td>0.001365</td>\n",
              "      <td>9.613765e-01</td>\n",
              "      <td>3.477971e-02</td>\n",
              "      <td>3.071885e-03</td>\n",
              "      <td>5.340534e-04</td>\n",
              "      <td>2.318523e-04</td>\n",
              "      <td>5.979859e-06</td>\n",
              "    </tr>\n",
              "    <tr>\n",
              "      <th>1857</th>\n",
              "      <td>2.784763e-07</td>\n",
              "      <td>0.000001</td>\n",
              "      <td>1.670589e-06</td>\n",
              "      <td>0.000019</td>\n",
              "      <td>0.999886</td>\n",
              "      <td>0.000092</td>\n",
              "      <td>5.171353e-09</td>\n",
              "      <td>6.235674e-14</td>\n",
              "      <td>5.430216e-07</td>\n",
              "      <td>1.604926e-04</td>\n",
              "      <td>9.998361e-01</td>\n",
              "      <td>2.810983e-06</td>\n",
              "    </tr>\n",
              "    <tr>\n",
              "      <th>1858</th>\n",
              "      <td>1.203074e-05</td>\n",
              "      <td>0.000096</td>\n",
              "      <td>5.784472e-05</td>\n",
              "      <td>0.009850</td>\n",
              "      <td>0.986992</td>\n",
              "      <td>0.002992</td>\n",
              "      <td>2.259942e-07</td>\n",
              "      <td>1.655710e-09</td>\n",
              "      <td>1.896437e-04</td>\n",
              "      <td>1.704427e-03</td>\n",
              "      <td>1.296348e-01</td>\n",
              "      <td>8.684709e-01</td>\n",
              "    </tr>\n",
              "    <tr>\n",
              "      <th>1859</th>\n",
              "      <td>1.625500e-07</td>\n",
              "      <td>0.000201</td>\n",
              "      <td>9.997849e-01</td>\n",
              "      <td>0.000004</td>\n",
              "      <td>0.000002</td>\n",
              "      <td>0.000008</td>\n",
              "      <td>8.358367e-07</td>\n",
              "      <td>3.415724e-09</td>\n",
              "      <td>9.997868e-01</td>\n",
              "      <td>4.186546e-05</td>\n",
              "      <td>1.535590e-04</td>\n",
              "      <td>1.699588e-05</td>\n",
              "    </tr>\n",
              "  </tbody>\n",
              "</table>\n",
              "<p>1860 rows × 12 columns</p>\n",
              "</div>\n",
              "      <button class=\"colab-df-convert\" onclick=\"convertToInteractive('df-cb93dce2-1ec3-402d-a5ed-ab3fd1bab4dc')\"\n",
              "              title=\"Convert this dataframe to an interactive table.\"\n",
              "              style=\"display:none;\">\n",
              "        \n",
              "  <svg xmlns=\"http://www.w3.org/2000/svg\" height=\"24px\"viewBox=\"0 0 24 24\"\n",
              "       width=\"24px\">\n",
              "    <path d=\"M0 0h24v24H0V0z\" fill=\"none\"/>\n",
              "    <path d=\"M18.56 5.44l.94 2.06.94-2.06 2.06-.94-2.06-.94-.94-2.06-.94 2.06-2.06.94zm-11 1L8.5 8.5l.94-2.06 2.06-.94-2.06-.94L8.5 2.5l-.94 2.06-2.06.94zm10 10l.94 2.06.94-2.06 2.06-.94-2.06-.94-.94-2.06-.94 2.06-2.06.94z\"/><path d=\"M17.41 7.96l-1.37-1.37c-.4-.4-.92-.59-1.43-.59-.52 0-1.04.2-1.43.59L10.3 9.45l-7.72 7.72c-.78.78-.78 2.05 0 2.83L4 21.41c.39.39.9.59 1.41.59.51 0 1.02-.2 1.41-.59l7.78-7.78 2.81-2.81c.8-.78.8-2.07 0-2.86zM5.41 20L4 18.59l7.72-7.72 1.47 1.35L5.41 20z\"/>\n",
              "  </svg>\n",
              "      </button>\n",
              "      \n",
              "  <style>\n",
              "    .colab-df-container {\n",
              "      display:flex;\n",
              "      flex-wrap:wrap;\n",
              "      gap: 12px;\n",
              "    }\n",
              "\n",
              "    .colab-df-convert {\n",
              "      background-color: #E8F0FE;\n",
              "      border: none;\n",
              "      border-radius: 50%;\n",
              "      cursor: pointer;\n",
              "      display: none;\n",
              "      fill: #1967D2;\n",
              "      height: 32px;\n",
              "      padding: 0 0 0 0;\n",
              "      width: 32px;\n",
              "    }\n",
              "\n",
              "    .colab-df-convert:hover {\n",
              "      background-color: #E2EBFA;\n",
              "      box-shadow: 0px 1px 2px rgba(60, 64, 67, 0.3), 0px 1px 3px 1px rgba(60, 64, 67, 0.15);\n",
              "      fill: #174EA6;\n",
              "    }\n",
              "\n",
              "    [theme=dark] .colab-df-convert {\n",
              "      background-color: #3B4455;\n",
              "      fill: #D2E3FC;\n",
              "    }\n",
              "\n",
              "    [theme=dark] .colab-df-convert:hover {\n",
              "      background-color: #434B5C;\n",
              "      box-shadow: 0px 1px 3px 1px rgba(0, 0, 0, 0.15);\n",
              "      filter: drop-shadow(0px 1px 2px rgba(0, 0, 0, 0.3));\n",
              "      fill: #FFFFFF;\n",
              "    }\n",
              "  </style>\n",
              "\n",
              "      <script>\n",
              "        const buttonEl =\n",
              "          document.querySelector('#df-cb93dce2-1ec3-402d-a5ed-ab3fd1bab4dc button.colab-df-convert');\n",
              "        buttonEl.style.display =\n",
              "          google.colab.kernel.accessAllowed ? 'block' : 'none';\n",
              "\n",
              "        async function convertToInteractive(key) {\n",
              "          const element = document.querySelector('#df-cb93dce2-1ec3-402d-a5ed-ab3fd1bab4dc');\n",
              "          const dataTable =\n",
              "            await google.colab.kernel.invokeFunction('convertToInteractive',\n",
              "                                                     [key], {});\n",
              "          if (!dataTable) return;\n",
              "\n",
              "          const docLinkHtml = 'Like what you see? Visit the ' +\n",
              "            '<a target=\"_blank\" href=https://colab.research.google.com/notebooks/data_table.ipynb>data table notebook</a>'\n",
              "            + ' to learn more about interactive tables.';\n",
              "          element.innerHTML = '';\n",
              "          dataTable['output_type'] = 'display_data';\n",
              "          await google.colab.output.renderOutput(dataTable, element);\n",
              "          const docLink = document.createElement('div');\n",
              "          docLink.innerHTML = docLinkHtml;\n",
              "          element.appendChild(docLink);\n",
              "        }\n",
              "      </script>\n",
              "    </div>\n",
              "  </div>\n",
              "  "
            ]
          },
          "metadata": {},
          "execution_count": 16
        }
      ]
    },
    {
      "cell_type": "code",
      "source": [
        "y_train=df_train.to_numpy()\n",
        "y_train=y_train.reshape(1860,)\n",
        "y_train, y_train.shape"
      ],
      "metadata": {
        "colab": {
          "base_uri": "https://localhost:8080/"
        },
        "id": "-u--DKkn2SYN",
        "outputId": "f460c271-f2ad-4eb3-f219-139e642fade0"
      },
      "execution_count": 17,
      "outputs": [
        {
          "output_type": "execute_result",
          "data": {
            "text/plain": [
              "(array([4, 1, 2, ..., 4, 4, 2]), (1860,))"
            ]
          },
          "metadata": {},
          "execution_count": 17
        }
      ]
    },
    {
      "cell_type": "markdown",
      "source": [
        "# training machine learning"
      ],
      "metadata": {
        "id": "1hZPjTpT4lb3"
      }
    },
    {
      "cell_type": "code",
      "source": [
        "from sklearn.svm import SVC\n",
        "model = SVC(random_state=2020, kernel='sigmoid')\n",
        "svm=model.fit(x_train,y_train)\n",
        "predictions = model.predict(x_test)\n",
        "#print(\"Restored model, accuracy: {:5.2f}%\".format(100*acc))"
      ],
      "metadata": {
        "id": "PS4PZtkj5G8k"
      },
      "execution_count": 18,
      "outputs": []
    },
    {
      "cell_type": "code",
      "source": [
        "predictions"
      ],
      "metadata": {
        "colab": {
          "base_uri": "https://localhost:8080/"
        },
        "id": "ibm_g_O66uKI",
        "outputId": "9de8878e-5edd-4ee0-f6af-ac299f4bd335"
      },
      "execution_count": 19,
      "outputs": [
        {
          "output_type": "execute_result",
          "data": {
            "text/plain": [
              "array([5, 1, 3, 2, 4, 3, 5, 5, 2, 4, 3, 0, 4, 5, 4, 3, 3, 4, 5, 3, 4, 1,\n",
              "       4, 5, 0, 4, 4, 2, 2, 4, 5, 3, 1, 3, 5, 3, 5, 5, 0, 5, 0, 4, 3, 2,\n",
              "       2, 5, 2, 5, 4, 5, 2, 1, 4, 5, 1, 4, 1, 0, 1, 0, 4, 0, 4, 1, 3, 2,\n",
              "       5, 3, 3, 1, 1, 2, 3, 4, 1, 3, 1, 1, 1, 0, 5, 1, 5, 4, 1, 3, 2, 0,\n",
              "       5, 5, 2, 3, 2, 5, 5, 1, 3, 3, 5, 2, 0, 4, 4, 2, 1, 3, 1, 4, 3, 5,\n",
              "       2, 5, 3, 2, 5, 5, 3, 2, 5, 2, 1, 3, 1, 1, 3, 1, 5, 1, 3, 4, 4, 3,\n",
              "       5, 5, 5, 4, 2, 0, 1, 4, 4, 2, 1, 2, 3, 2, 5, 4, 5, 4, 4, 5, 1, 1,\n",
              "       2, 1, 2, 2, 2, 2, 1, 2, 3, 5, 4, 4, 4, 2, 1, 0, 2, 2, 2, 3, 2, 4,\n",
              "       0, 1, 3, 5, 1, 5, 1, 5, 4, 5, 3, 1, 2, 2, 4, 1, 3, 3, 2, 2, 5, 3,\n",
              "       1, 1, 3, 2, 5, 2, 5, 2, 2])"
            ]
          },
          "metadata": {},
          "execution_count": 19
        }
      ]
    },
    {
      "cell_type": "code",
      "source": [
        "from sklearn.metrics import classification_report, confusion_matrix,accuracy_score\n",
        "import seaborn as sn\n",
        "import matplotlib.pyplot as plt\n",
        "\n",
        "print(classification_report(y_test,predictions))\n",
        "\n",
        "acc = float(accuracy_score(y_test,predictions))*100\n",
        "print(\"----accuracy score %s ----\" % acc)\n",
        "\n",
        "cm = confusion_matrix(y_test,predictions)\n",
        "#df_cm = pd.DataFrame(cm)\n",
        "class_names = ['neutral','calm', 'happy','sad','angry', 'fearful' ]\n",
        "df_cm = pd.DataFrame(cm, index=class_names, columns=class_names,)\n",
        "sn.heatmap(df_cm, annot=True, fmt='')\n",
        "plt.show()"
      ],
      "metadata": {
        "colab": {
          "base_uri": "https://localhost:8080/",
          "height": 512
        },
        "id": "A9gR6pV063GP",
        "outputId": "e6278dc1-2f00-4272-92fe-e22f877e0de4"
      },
      "execution_count": 20,
      "outputs": [
        {
          "output_type": "stream",
          "name": "stdout",
          "text": [
            "              precision    recall  f1-score   support\n",
            "\n",
            "           0       0.85      0.92      0.88        12\n",
            "           1       0.95      0.95      0.95        38\n",
            "           2       0.95      0.95      0.95        42\n",
            "           3       0.97      0.85      0.91        41\n",
            "           4       1.00      0.97      0.99        36\n",
            "           5       0.88      1.00      0.94        38\n",
            "\n",
            "    accuracy                           0.94       207\n",
            "   macro avg       0.93      0.94      0.94       207\n",
            "weighted avg       0.94      0.94      0.94       207\n",
            "\n",
            "----accuracy score 94.20289855072464 ----\n"
          ]
        },
        {
          "output_type": "display_data",
          "data": {
            "text/plain": [
              "<Figure size 432x288 with 2 Axes>"
            ],
            "image/png": "[encoded data removed]"
          },
          "metadata": {
            "needs_background": "light"
          }
        }
      ]
    },
    {
      "cell_type": "code",
      "source": [
        "path='/content/drive/My Drive/fusion/fusion_model/SVM/kernel(sigmoid)/expert6'\n",
        "savedvX = joblib.dump(model, path)\n",
        "\n",
        "print(\"MODEL SAVED\")"
      ],
      "metadata": {
        "colab": {
          "base_uri": "https://localhost:8080/"
        },
        "id": "WFonuoIS7NTg",
        "outputId": "22a5d0c7-404e-4f0f-cdd7-bd23fc8a3380"
      },
      "execution_count": 21,
      "outputs": [
        {
          "output_type": "stream",
          "name": "stdout",
          "text": [
            "MODEL SAVED\n"
          ]
        }
      ]
    },
    {
      "cell_type": "code",
      "source": [
        ""
      ],
      "metadata": {
        "id": "Bp4nDNcd7lc_"
      },
      "execution_count": null,
      "outputs": []
    }
  ]
}