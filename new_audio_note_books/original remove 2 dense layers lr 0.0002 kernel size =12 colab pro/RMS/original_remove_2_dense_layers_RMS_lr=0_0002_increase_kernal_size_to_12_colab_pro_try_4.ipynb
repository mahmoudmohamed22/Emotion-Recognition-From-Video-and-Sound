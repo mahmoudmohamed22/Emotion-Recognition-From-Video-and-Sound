{
  "nbformat": 4,
  "nbformat_minor": 0,
  "metadata": {
    "colab": {
      "name": "original_remove_2_dense_layers_RMS_lr=0_0002 increase_kernal_size_to_12 colab pro try 4.ipynb",
      "provenance": [],
      "collapsed_sections": [],
      "machine_shape": "hm"
    },
    "kernelspec": {
      "name": "python3",
      "display_name": "Python 3"
    },
    "language_info": {
      "name": "python"
    },
    "accelerator": "GPU"
  },
  "cells": [
    {
      "cell_type": "code",
      "execution_count": 1,
      "metadata": {
        "colab": {
          "base_uri": "https://localhost:8080/"
        },
        "id": "9SRCO-a_AlH5",
        "outputId": "463c86f6-27d3-490e-f0f5-b8c883cef791"
      },
      "outputs": [
        {
          "output_type": "stream",
          "name": "stdout",
          "text": [
            "Drive already mounted at /content/drive; to attempt to forcibly remount, call drive.mount(\"/content/drive\", force_remount=True).\n"
          ]
        }
      ],
      "source": [
        "from google.colab import drive\n",
        "drive.mount('/content/drive')"
      ]
    },
    {
      "cell_type": "code",
      "source": [
        "!pip install librosa"
      ],
      "metadata": {
        "colab": {
          "base_uri": "https://localhost:8080/"
        },
        "id": "5Lo4mUwG9RMd",
        "outputId": "36f40a11-342b-4b26-eef7-4adffa76ea53"
      },
      "execution_count": 2,
      "outputs": [
        {
          "output_type": "stream",
          "name": "stdout",
          "text": [
            "Looking in indexes: https://pypi.org/simple, https://us-python.pkg.dev/colab-wheels/public/simple/\n",
            "Requirement already satisfied: librosa in /usr/local/lib/python3.7/dist-packages (0.8.1)\n",
            "Requirement already satisfied: scipy>=1.0.0 in /usr/local/lib/python3.7/dist-packages (from librosa) (1.4.1)\n",
            "Requirement already satisfied: soundfile>=0.10.2 in /usr/local/lib/python3.7/dist-packages (from librosa) (0.10.3.post1)\n",
            "Requirement already satisfied: resampy>=0.2.2 in /usr/local/lib/python3.7/dist-packages (from librosa) (0.2.2)\n",
            "Requirement already satisfied: pooch>=1.0 in /usr/local/lib/python3.7/dist-packages (from librosa) (1.6.0)\n",
            "Requirement already satisfied: audioread>=2.0.0 in /usr/local/lib/python3.7/dist-packages (from librosa) (2.1.9)\n",
            "Requirement already satisfied: packaging>=20.0 in /usr/local/lib/python3.7/dist-packages (from librosa) (21.3)\n",
            "Requirement already satisfied: scikit-learn!=0.19.0,>=0.14.0 in /usr/local/lib/python3.7/dist-packages (from librosa) (1.0.2)\n",
            "Requirement already satisfied: numba>=0.43.0 in /usr/local/lib/python3.7/dist-packages (from librosa) (0.51.2)\n",
            "Requirement already satisfied: numpy>=1.15.0 in /usr/local/lib/python3.7/dist-packages (from librosa) (1.21.6)\n",
            "Requirement already satisfied: joblib>=0.14 in /usr/local/lib/python3.7/dist-packages (from librosa) (1.1.0)\n",
            "Requirement already satisfied: decorator>=3.0.0 in /usr/local/lib/python3.7/dist-packages (from librosa) (4.4.2)\n",
            "Requirement already satisfied: llvmlite<0.35,>=0.34.0.dev0 in /usr/local/lib/python3.7/dist-packages (from numba>=0.43.0->librosa) (0.34.0)\n",
            "Requirement already satisfied: setuptools in /usr/local/lib/python3.7/dist-packages (from numba>=0.43.0->librosa) (57.4.0)\n",
            "Requirement already satisfied: pyparsing!=3.0.5,>=2.0.2 in /usr/local/lib/python3.7/dist-packages (from packaging>=20.0->librosa) (3.0.9)\n",
            "Requirement already satisfied: requests>=2.19.0 in /usr/local/lib/python3.7/dist-packages (from pooch>=1.0->librosa) (2.23.0)\n",
            "Requirement already satisfied: appdirs>=1.3.0 in /usr/local/lib/python3.7/dist-packages (from pooch>=1.0->librosa) (1.4.4)\n",
            "Requirement already satisfied: urllib3!=1.25.0,!=1.25.1,<1.26,>=1.21.1 in /usr/local/lib/python3.7/dist-packages (from requests>=2.19.0->pooch>=1.0->librosa) (1.24.3)\n",
            "Requirement already satisfied: certifi>=2017.4.17 in /usr/local/lib/python3.7/dist-packages (from requests>=2.19.0->pooch>=1.0->librosa) (2022.5.18.1)\n",
            "Requirement already satisfied: chardet<4,>=3.0.2 in /usr/local/lib/python3.7/dist-packages (from requests>=2.19.0->pooch>=1.0->librosa) (3.0.4)\n",
            "Requirement already satisfied: idna<3,>=2.5 in /usr/local/lib/python3.7/dist-packages (from requests>=2.19.0->pooch>=1.0->librosa) (2.10)\n",
            "Requirement already satisfied: six>=1.3 in /usr/local/lib/python3.7/dist-packages (from resampy>=0.2.2->librosa) (1.15.0)\n",
            "Requirement already satisfied: threadpoolctl>=2.0.0 in /usr/local/lib/python3.7/dist-packages (from scikit-learn!=0.19.0,>=0.14.0->librosa) (3.1.0)\n",
            "Requirement already satisfied: cffi>=1.0 in /usr/local/lib/python3.7/dist-packages (from soundfile>=0.10.2->librosa) (1.15.0)\n",
            "Requirement already satisfied: pycparser in /usr/local/lib/python3.7/dist-packages (from cffi>=1.0->soundfile>=0.10.2->librosa) (2.21)\n"
          ]
        }
      ]
    },
    {
      "cell_type": "code",
      "metadata": {
        "id": "HJjcbxwy46bG",
        "colab": {
          "base_uri": "https://localhost:8080/",
          "height": 17
        },
        "outputId": "1eb8f90e-bcfb-4e42-a78a-d9e0a30a2bd6"
      },
      "source": [
        "# Orignial Notebook: https://github.com/MITESHPUTHRANNEU/Speech-Emotion-Analyzer/blob/master/final_results_gender_test.ipynb\n",
        "# This notebook author: Reza Chu\n",
        "# Last Editing Date: 31st May 2019\n",
        "\n",
        "## Python\n",
        "import os\n",
        "import random\n",
        "import sys\n",
        "\n",
        "import IPython\n",
        "from IPython.display import Audio\n",
        "from IPython.display import Image\n",
        "import matplotlib.pyplot as plt\n",
        "\n",
        "## Package\n",
        "import glob \n",
        "import keras\n",
        "import IPython.display as ipd\n",
        "import librosa\n",
        "import librosa.display\n",
        "import matplotlib.pyplot as plt\n",
        "import numpy as np\n",
        "import pandas as pd\n",
        "import plotly.graph_objs as go\n",
        "import plotly.offline as py\n",
        "import plotly.tools as tls\n",
        "import seaborn as sns\n",
        "import scipy.io.wavfile\n",
        "import tensorflow as tf\n",
        "py.init_notebook_mode(connected=True)\n",
        "\n",
        "## Keras\n",
        "from keras import regularizers\n",
        "from keras.callbacks import ModelCheckpoint, LearningRateScheduler, EarlyStopping\n",
        "from keras.callbacks import  History, ReduceLROnPlateau, CSVLogger\n",
        "from keras.models import Model, Sequential\n",
        "from keras.layers import Dense, Embedding, LSTM\n",
        "from keras.layers import Input, Flatten, Dropout, Activation, BatchNormalization\n",
        "from keras.layers import Conv1D, MaxPooling1D, AveragePooling1D\n",
        "from keras.preprocessing import sequence\n",
        "from keras.preprocessing.sequence import pad_sequences\n",
        "from keras.preprocessing.text import Tokenizer\n",
        "from keras.utils import np_utils\n",
        "from tensorflow.keras.utils import to_categorical\n",
        "\n",
        "## Sklearn\n",
        "from sklearn.metrics import confusion_matrix\n",
        "from sklearn.preprocessing import LabelEncoder\n",
        "\n",
        "## Rest\n",
        "from scipy.fftpack import fft\n",
        "from scipy import signal\n",
        "from scipy.io import wavfile\n",
        "from tqdm import tqdm\n",
        "\n",
        "input_duration=3\n",
        "# % pylab inline"
      ],
      "execution_count": 3,
      "outputs": [
        {
          "output_type": "display_data",
          "data": {
            "text/html": [
              "        <script type=\"text/javascript\">\n",
              "        window.PlotlyConfig = {MathJaxConfig: 'local'};\n",
              "        if (window.MathJax) {MathJax.Hub.Config({SVG: {font: \"STIX-Web\"}});}\n",
              "        if (typeof require !== 'undefined') {\n",
              "        require.undef(\"plotly\");\n",
              "        requirejs.config({\n",
              "            paths: {\n",
              "                'plotly': ['https://cdn.plot.ly/plotly-2.8.3.min']\n",
              "            }\n",
              "        });\n",
              "        require(['plotly'], function(Plotly) {\n",
              "            window._Plotly = Plotly;\n",
              "        });\n",
              "        }\n",
              "        </script>\n",
              "        "
            ]
          },
          "metadata": {}
        }
      ]
    },
    {
      "cell_type": "code",
      "source": [
        "# # Saving joblib files to not load them again with the loop above\n",
        "\n",
        "# import joblib\n",
        "\n",
        "# X_name = 'x.joblib'\n",
        "# y_name = 'y.joblib'\n",
        "# save_dir = '/content/drive/My Drive/graduation project/audio/paper_code/features'\n",
        "\n",
        "# savedX = joblib.dump(X, os.path.join(save_dir, X_name))\n",
        "# savedy = joblib.dump(y, os.path.join(save_dir, y_name))"
      ],
      "metadata": {
        "id": "UCzic8rlDcuk"
      },
      "execution_count": 4,
      "outputs": []
    },
    {
      "cell_type": "code",
      "source": [
        "# # Loading saved models\n",
        "import joblib\n",
        "X = joblib.load('/content/drive/My Drive/graduation project/audio/paper_code/features/x.joblib')\n",
        "y = joblib.load('/content/drive/My Drive/graduation project/audio/paper_code/features/y.joblib')"
      ],
      "metadata": {
        "id": "Q35CN6zDrzg1"
      },
      "execution_count": 5,
      "outputs": []
    },
    {
      "cell_type": "code",
      "source": [
        "X.shape"
      ],
      "metadata": {
        "id": "7PSTurzjCo5K",
        "colab": {
          "base_uri": "https://localhost:8080/"
        },
        "outputId": "0cd93ecb-6128-4db9-be60-0c4d829b070e"
      },
      "execution_count": 6,
      "outputs": [
        {
          "output_type": "execute_result",
          "data": {
            "text/plain": [
              "(2068, 40)"
            ]
          },
          "metadata": {},
          "execution_count": 6
        }
      ]
    },
    {
      "cell_type": "code",
      "source": [
        "from sklearn.model_selection import train_test_split\n",
        "\n",
        "X_train, X_test, y_train, y_test = train_test_split(X,y, test_size=0.1 ,shuffle = True\n",
        "                                                    , random_state=42)\n",
        "X_train , X_valid, y_train, y_valid = train_test_split(X_train,y_train, test_size=0.1112305212 , shuffle = True \n",
        "                                                       , random_state=42)"
      ],
      "metadata": {
        "id": "Ai4Fy5cPCiq1"
      },
      "execution_count": 7,
      "outputs": []
    },
    {
      "cell_type": "code",
      "source": [
        "import numpy as np\n",
        "x_traincnn = np.expand_dims(X_train, axis=2)\n",
        "x_testcnn = np.expand_dims(X_test, axis=2)\n",
        "X_valid= np.expand_dims(X_valid, axis=2)"
      ],
      "metadata": {
        "id": "tp1Fm5K3CEXu"
      },
      "execution_count": 8,
      "outputs": []
    },
    {
      "cell_type": "code",
      "source": [
        "x_traincnn.shape, x_testcnn.shape , X_valid.shape\n",
        "#1861"
      ],
      "metadata": {
        "id": "RI0MxoIPBws5",
        "colab": {
          "base_uri": "https://localhost:8080/"
        },
        "outputId": "10b782ff-9fe4-46fc-d34b-1683d3b8aff0"
      },
      "execution_count": 9,
      "outputs": [
        {
          "output_type": "execute_result",
          "data": {
            "text/plain": [
              "((1654, 40, 1), (207, 40, 1), (207, 40, 1))"
            ]
          },
          "metadata": {},
          "execution_count": 9
        }
      ]
    },
    {
      "cell_type": "code",
      "source": [
        "!pip install tensorflow"
      ],
      "metadata": {
        "id": "oALhiMUd9G2Y",
        "colab": {
          "base_uri": "https://localhost:8080/"
        },
        "outputId": "4aa7b913-adfb-4435-ef5d-0c05e24c24f8"
      },
      "execution_count": 10,
      "outputs": [
        {
          "output_type": "stream",
          "name": "stdout",
          "text": [
            "Looking in indexes: https://pypi.org/simple, https://us-python.pkg.dev/colab-wheels/public/simple/\n",
            "Requirement already satisfied: tensorflow in /usr/local/lib/python3.7/dist-packages (2.8.2+zzzcolab20220527125636)\n",
            "Requirement already satisfied: termcolor>=1.1.0 in /usr/local/lib/python3.7/dist-packages (from tensorflow) (1.1.0)\n",
            "Requirement already satisfied: tensorboard<2.9,>=2.8 in /usr/local/lib/python3.7/dist-packages (from tensorflow) (2.8.0)\n",
            "Requirement already satisfied: opt-einsum>=2.3.2 in /usr/local/lib/python3.7/dist-packages (from tensorflow) (3.3.0)\n",
            "Requirement already satisfied: setuptools in /usr/local/lib/python3.7/dist-packages (from tensorflow) (57.4.0)\n",
            "Requirement already satisfied: google-pasta>=0.1.1 in /usr/local/lib/python3.7/dist-packages (from tensorflow) (0.2.0)\n",
            "Requirement already satisfied: typing-extensions>=3.6.6 in /usr/local/lib/python3.7/dist-packages (from tensorflow) (4.2.0)\n",
            "Requirement already satisfied: h5py>=2.9.0 in /usr/local/lib/python3.7/dist-packages (from tensorflow) (3.1.0)\n",
            "Requirement already satisfied: absl-py>=0.4.0 in /usr/local/lib/python3.7/dist-packages (from tensorflow) (1.0.0)\n",
            "Requirement already satisfied: astunparse>=1.6.0 in /usr/local/lib/python3.7/dist-packages (from tensorflow) (1.6.3)\n",
            "Requirement already satisfied: libclang>=9.0.1 in /usr/local/lib/python3.7/dist-packages (from tensorflow) (14.0.1)\n",
            "Requirement already satisfied: numpy>=1.20 in /usr/local/lib/python3.7/dist-packages (from tensorflow) (1.21.6)\n",
            "Requirement already satisfied: tensorflow-io-gcs-filesystem>=0.23.1 in /usr/local/lib/python3.7/dist-packages (from tensorflow) (0.26.0)\n",
            "Requirement already satisfied: keras<2.9,>=2.8.0rc0 in /usr/local/lib/python3.7/dist-packages (from tensorflow) (2.8.0)\n",
            "Requirement already satisfied: keras-preprocessing>=1.1.1 in /usr/local/lib/python3.7/dist-packages (from tensorflow) (1.1.2)\n",
            "Requirement already satisfied: flatbuffers>=1.12 in /usr/local/lib/python3.7/dist-packages (from tensorflow) (2.0)\n",
            "Requirement already satisfied: grpcio<2.0,>=1.24.3 in /usr/local/lib/python3.7/dist-packages (from tensorflow) (1.46.3)\n",
            "Requirement already satisfied: protobuf<3.20,>=3.9.2 in /usr/local/lib/python3.7/dist-packages (from tensorflow) (3.17.3)\n",
            "Requirement already satisfied: six>=1.12.0 in /usr/local/lib/python3.7/dist-packages (from tensorflow) (1.15.0)\n",
            "Requirement already satisfied: tensorflow-estimator<2.9,>=2.8 in /usr/local/lib/python3.7/dist-packages (from tensorflow) (2.8.0)\n",
            "Requirement already satisfied: wrapt>=1.11.0 in /usr/local/lib/python3.7/dist-packages (from tensorflow) (1.14.1)\n",
            "Requirement already satisfied: gast>=0.2.1 in /usr/local/lib/python3.7/dist-packages (from tensorflow) (0.5.3)\n",
            "Requirement already satisfied: wheel<1.0,>=0.23.0 in /usr/local/lib/python3.7/dist-packages (from astunparse>=1.6.0->tensorflow) (0.37.1)\n",
            "Requirement already satisfied: cached-property in /usr/local/lib/python3.7/dist-packages (from h5py>=2.9.0->tensorflow) (1.5.2)\n",
            "Requirement already satisfied: google-auth<3,>=1.6.3 in /usr/local/lib/python3.7/dist-packages (from tensorboard<2.9,>=2.8->tensorflow) (1.35.0)\n",
            "Requirement already satisfied: markdown>=2.6.8 in /usr/local/lib/python3.7/dist-packages (from tensorboard<2.9,>=2.8->tensorflow) (3.3.7)\n",
            "Requirement already satisfied: werkzeug>=0.11.15 in /usr/local/lib/python3.7/dist-packages (from tensorboard<2.9,>=2.8->tensorflow) (1.0.1)\n",
            "Requirement already satisfied: google-auth-oauthlib<0.5,>=0.4.1 in /usr/local/lib/python3.7/dist-packages (from tensorboard<2.9,>=2.8->tensorflow) (0.4.6)\n",
            "Requirement already satisfied: tensorboard-plugin-wit>=1.6.0 in /usr/local/lib/python3.7/dist-packages (from tensorboard<2.9,>=2.8->tensorflow) (1.8.1)\n",
            "Requirement already satisfied: tensorboard-data-server<0.7.0,>=0.6.0 in /usr/local/lib/python3.7/dist-packages (from tensorboard<2.9,>=2.8->tensorflow) (0.6.1)\n",
            "Requirement already satisfied: requests<3,>=2.21.0 in /usr/local/lib/python3.7/dist-packages (from tensorboard<2.9,>=2.8->tensorflow) (2.23.0)\n",
            "Requirement already satisfied: rsa<5,>=3.1.4 in /usr/local/lib/python3.7/dist-packages (from google-auth<3,>=1.6.3->tensorboard<2.9,>=2.8->tensorflow) (4.8)\n",
            "Requirement already satisfied: pyasn1-modules>=0.2.1 in /usr/local/lib/python3.7/dist-packages (from google-auth<3,>=1.6.3->tensorboard<2.9,>=2.8->tensorflow) (0.2.8)\n",
            "Requirement already satisfied: cachetools<5.0,>=2.0.0 in /usr/local/lib/python3.7/dist-packages (from google-auth<3,>=1.6.3->tensorboard<2.9,>=2.8->tensorflow) (4.2.4)\n",
            "Requirement already satisfied: requests-oauthlib>=0.7.0 in /usr/local/lib/python3.7/dist-packages (from google-auth-oauthlib<0.5,>=0.4.1->tensorboard<2.9,>=2.8->tensorflow) (1.3.1)\n",
            "Requirement already satisfied: importlib-metadata>=4.4 in /usr/local/lib/python3.7/dist-packages (from markdown>=2.6.8->tensorboard<2.9,>=2.8->tensorflow) (4.11.4)\n",
            "Requirement already satisfied: zipp>=0.5 in /usr/local/lib/python3.7/dist-packages (from importlib-metadata>=4.4->markdown>=2.6.8->tensorboard<2.9,>=2.8->tensorflow) (3.8.0)\n",
            "Requirement already satisfied: pyasn1<0.5.0,>=0.4.6 in /usr/local/lib/python3.7/dist-packages (from pyasn1-modules>=0.2.1->google-auth<3,>=1.6.3->tensorboard<2.9,>=2.8->tensorflow) (0.4.8)\n",
            "Requirement already satisfied: urllib3!=1.25.0,!=1.25.1,<1.26,>=1.21.1 in /usr/local/lib/python3.7/dist-packages (from requests<3,>=2.21.0->tensorboard<2.9,>=2.8->tensorflow) (1.24.3)\n",
            "Requirement already satisfied: idna<3,>=2.5 in /usr/local/lib/python3.7/dist-packages (from requests<3,>=2.21.0->tensorboard<2.9,>=2.8->tensorflow) (2.10)\n",
            "Requirement already satisfied: certifi>=2017.4.17 in /usr/local/lib/python3.7/dist-packages (from requests<3,>=2.21.0->tensorboard<2.9,>=2.8->tensorflow) (2022.5.18.1)\n",
            "Requirement already satisfied: chardet<4,>=3.0.2 in /usr/local/lib/python3.7/dist-packages (from requests<3,>=2.21.0->tensorboard<2.9,>=2.8->tensorflow) (3.0.4)\n",
            "Requirement already satisfied: oauthlib>=3.0.0 in /usr/local/lib/python3.7/dist-packages (from requests-oauthlib>=0.7.0->google-auth-oauthlib<0.5,>=0.4.1->tensorboard<2.9,>=2.8->tensorflow) (3.2.0)\n"
          ]
        }
      ]
    },
    {
      "cell_type": "code",
      "source": [
        "import keras\n",
        "import numpy as np\n",
        "import matplotlib.pyplot as plt\n",
        "import tensorflow as tf\n",
        "from keras.preprocessing import sequence\n",
        "from keras.models import Sequential\n",
        "from keras.layers import Dense, Embedding\n",
        "from tensorflow.keras.utils import to_categorical\n",
        "from keras.layers import Input, Flatten, Dropout, Activation\n",
        "from keras.layers import Conv1D, MaxPooling1D\n",
        "from keras.models import Model\n",
        "from keras.callbacks import ModelCheckpoint\n",
        "from tensorflow.keras import optimizers\n",
        "\n",
        "model = Sequential()\n",
        "\n",
        "model.add(Conv1D(128, 12,padding='same', #classifier.add(Convolution2D(64, (3, 3), padding = 'same', input_shape = (128, 128, 3), activation = 'relu'))\n",
        "                 input_shape=(40,1)))\n",
        "model.add(Activation('relu'))\n",
        "model.add(Dropout(0.3))\n",
        "model.add(MaxPooling1D(pool_size=(5)))\n",
        "\n",
        "\n",
        "model.add(Conv1D(256,12,padding='same',))\n",
        "model.add(Activation('relu'))\n",
        "model.add(Dropout(0.3))\n",
        "model.add(MaxPooling1D(pool_size=(5)))\n",
        "\n",
        "#model.add(MaxPooling1D(pool_size=(5)))\n",
        "\n",
        "model.add(Flatten())\n",
        "\n",
        "\n",
        "\n",
        "model.add(Dense(6))\n",
        "model.add(Activation('softmax'))\n",
        "\n",
        "\n",
        "opt = tf.keras.optimizers.RMSprop(lr=0.0002 , decay=0.0)\n",
        "#opt = tf.keras.optimizers.Adam(lr=0.0002 , decay=0.0)\n",
        "#opt = tf.keras.optimizers.RMSprop(lr=0.0001, rho=0.9, epsilon=1e-07, decay=0.0)\n",
        "#opt = tf.keras.optimizers.SGD(lr=0.001, momentum=0.0, decay=0.0, nesterov=False)"
      ],
      "metadata": {
        "id": "g74fXWVAC4Cr",
        "colab": {
          "base_uri": "https://localhost:8080/"
        },
        "outputId": "96f6eb39-fb45-4042-d7a2-e2571c7cab26"
      },
      "execution_count": 11,
      "outputs": [
        {
          "output_type": "stream",
          "name": "stderr",
          "text": [
            "/usr/local/lib/python3.7/dist-packages/keras/optimizer_v2/rmsprop.py:130: UserWarning:\n",
            "\n",
            "The `lr` argument is deprecated, use `learning_rate` instead.\n",
            "\n"
          ]
        }
      ]
    },
    {
      "cell_type": "code",
      "source": [
        "model.summary()"
      ],
      "metadata": {
        "id": "H6ukOxAGC_I4",
        "colab": {
          "base_uri": "https://localhost:8080/"
        },
        "outputId": "9e0ad7c0-7d3a-4335-a60a-bc6fb5f89ea7"
      },
      "execution_count": 12,
      "outputs": [
        {
          "output_type": "stream",
          "name": "stdout",
          "text": [
            "Model: \"sequential\"\n",
            "_________________________________________________________________\n",
            " Layer (type)                Output Shape              Param #   \n",
            "=================================================================\n",
            " conv1d (Conv1D)             (None, 40, 128)           1664      \n",
            "                                                                 \n",
            " activation (Activation)     (None, 40, 128)           0         \n",
            "                                                                 \n",
            " dropout (Dropout)           (None, 40, 128)           0         \n",
            "                                                                 \n",
            " max_pooling1d (MaxPooling1D  (None, 8, 128)           0         \n",
            " )                                                               \n",
            "                                                                 \n",
            " conv1d_1 (Conv1D)           (None, 8, 256)            393472    \n",
            "                                                                 \n",
            " activation_1 (Activation)   (None, 8, 256)            0         \n",
            "                                                                 \n",
            " dropout_1 (Dropout)         (None, 8, 256)            0         \n",
            "                                                                 \n",
            " max_pooling1d_1 (MaxPooling  (None, 1, 256)           0         \n",
            " 1D)                                                             \n",
            "                                                                 \n",
            " flatten (Flatten)           (None, 256)               0         \n",
            "                                                                 \n",
            " dense (Dense)               (None, 6)                 1542      \n",
            "                                                                 \n",
            " activation_2 (Activation)   (None, 6)                 0         \n",
            "                                                                 \n",
            "=================================================================\n",
            "Total params: 396,678\n",
            "Trainable params: 396,678\n",
            "Non-trainable params: 0\n",
            "_________________________________________________________________\n"
          ]
        }
      ]
    },
    {
      "cell_type": "code",
      "source": [
        "model.compile(loss='sparse_categorical_crossentropy',\n",
        "              optimizer=opt,\n",
        "              metrics=['accuracy'])"
      ],
      "metadata": {
        "id": "AbMlLNk4DCBM"
      },
      "execution_count": 13,
      "outputs": []
    },
    {
      "cell_type": "code",
      "source": [
        "# Create an Instance of Early Stopping Callback.\n",
        "early_stopping_callback = EarlyStopping(monitor = 'val_loss', patience = 25, mode = 'min', restore_best_weights = True)\n",
        "\n",
        "cnnhistory=model.fit(x_traincnn, y_train, batch_size=16, epochs=500 , shuffle = True, \n",
        "                     validation_data=(X_valid, y_valid) , callbacks = [early_stopping_callback])"
      ],
      "metadata": {
        "id": "RI1v2AuADFhy",
        "colab": {
          "base_uri": "https://localhost:8080/"
        },
        "outputId": "95dca5ad-af0d-4f1d-8701-4e26235a70fa"
      },
      "execution_count": 14,
      "outputs": [
        {
          "output_type": "stream",
          "name": "stdout",
          "text": [
            "Epoch 1/500\n",
            "104/104 [==============================] - 2s 6ms/step - loss: 12.4025 - accuracy: 0.1826 - val_loss: 7.1170 - val_accuracy: 0.1739\n",
            "Epoch 2/500\n",
            "104/104 [==============================] - 0s 3ms/step - loss: 9.0284 - accuracy: 0.1977 - val_loss: 7.7704 - val_accuracy: 0.1836\n",
            "Epoch 3/500\n",
            "104/104 [==============================] - 0s 4ms/step - loss: 7.3915 - accuracy: 0.2037 - val_loss: 5.0144 - val_accuracy: 0.2029\n",
            "Epoch 4/500\n",
            "104/104 [==============================] - 0s 4ms/step - loss: 6.3224 - accuracy: 0.2346 - val_loss: 4.0287 - val_accuracy: 0.1787\n",
            "Epoch 5/500\n",
            "104/104 [==============================] - 0s 3ms/step - loss: 5.1373 - accuracy: 0.2533 - val_loss: 3.2682 - val_accuracy: 0.2754\n",
            "Epoch 6/500\n",
            "104/104 [==============================] - 0s 4ms/step - loss: 4.3734 - accuracy: 0.2799 - val_loss: 3.2734 - val_accuracy: 0.1884\n",
            "Epoch 7/500\n",
            "104/104 [==============================] - 0s 4ms/step - loss: 3.9394 - accuracy: 0.2678 - val_loss: 3.3665 - val_accuracy: 0.2077\n",
            "Epoch 8/500\n",
            "104/104 [==============================] - 0s 4ms/step - loss: 3.5560 - accuracy: 0.2709 - val_loss: 2.7929 - val_accuracy: 0.2029\n",
            "Epoch 9/500\n",
            "104/104 [==============================] - 0s 4ms/step - loss: 3.1202 - accuracy: 0.2944 - val_loss: 1.7066 - val_accuracy: 0.3140\n",
            "Epoch 10/500\n",
            "104/104 [==============================] - 0s 4ms/step - loss: 2.9211 - accuracy: 0.2963 - val_loss: 1.7646 - val_accuracy: 0.4155\n",
            "Epoch 11/500\n",
            "104/104 [==============================] - 0s 4ms/step - loss: 2.6580 - accuracy: 0.3174 - val_loss: 1.6588 - val_accuracy: 0.4058\n",
            "Epoch 12/500\n",
            "104/104 [==============================] - 0s 3ms/step - loss: 2.3822 - accuracy: 0.3404 - val_loss: 1.6616 - val_accuracy: 0.3285\n",
            "Epoch 13/500\n",
            "104/104 [==============================] - 0s 4ms/step - loss: 2.2472 - accuracy: 0.3676 - val_loss: 1.6280 - val_accuracy: 0.3913\n",
            "Epoch 14/500\n",
            "104/104 [==============================] - 0s 4ms/step - loss: 2.1564 - accuracy: 0.3440 - val_loss: 1.4960 - val_accuracy: 0.3623\n",
            "Epoch 15/500\n",
            "104/104 [==============================] - 0s 4ms/step - loss: 2.0727 - accuracy: 0.3615 - val_loss: 1.5207 - val_accuracy: 0.4058\n",
            "Epoch 16/500\n",
            "104/104 [==============================] - 1s 5ms/step - loss: 1.9441 - accuracy: 0.3736 - val_loss: 1.3526 - val_accuracy: 0.4444\n",
            "Epoch 17/500\n",
            "104/104 [==============================] - 1s 5ms/step - loss: 1.7638 - accuracy: 0.4129 - val_loss: 1.3049 - val_accuracy: 0.5121\n",
            "Epoch 18/500\n",
            "104/104 [==============================] - 1s 5ms/step - loss: 1.7469 - accuracy: 0.3954 - val_loss: 1.3146 - val_accuracy: 0.4638\n",
            "Epoch 19/500\n",
            "104/104 [==============================] - 1s 5ms/step - loss: 1.6524 - accuracy: 0.4238 - val_loss: 1.3861 - val_accuracy: 0.4444\n",
            "Epoch 20/500\n",
            "104/104 [==============================] - 0s 5ms/step - loss: 1.5666 - accuracy: 0.4389 - val_loss: 1.3170 - val_accuracy: 0.4783\n",
            "Epoch 21/500\n",
            "104/104 [==============================] - 1s 5ms/step - loss: 1.5190 - accuracy: 0.4389 - val_loss: 1.5555 - val_accuracy: 0.3623\n",
            "Epoch 22/500\n",
            "104/104 [==============================] - 1s 5ms/step - loss: 1.4606 - accuracy: 0.4740 - val_loss: 1.2868 - val_accuracy: 0.4831\n",
            "Epoch 23/500\n",
            "104/104 [==============================] - 1s 5ms/step - loss: 1.3960 - accuracy: 0.4855 - val_loss: 1.2075 - val_accuracy: 0.5652\n",
            "Epoch 24/500\n",
            "104/104 [==============================] - 0s 5ms/step - loss: 1.3942 - accuracy: 0.4782 - val_loss: 1.2391 - val_accuracy: 0.5072\n",
            "Epoch 25/500\n",
            "104/104 [==============================] - 0s 5ms/step - loss: 1.3048 - accuracy: 0.5079 - val_loss: 1.1616 - val_accuracy: 0.5072\n",
            "Epoch 26/500\n",
            "104/104 [==============================] - 1s 5ms/step - loss: 1.2799 - accuracy: 0.5187 - val_loss: 1.2522 - val_accuracy: 0.4541\n",
            "Epoch 27/500\n",
            "104/104 [==============================] - 1s 5ms/step - loss: 1.2190 - accuracy: 0.5357 - val_loss: 1.1695 - val_accuracy: 0.5121\n",
            "Epoch 28/500\n",
            "104/104 [==============================] - 1s 5ms/step - loss: 1.1994 - accuracy: 0.5411 - val_loss: 1.1511 - val_accuracy: 0.5604\n",
            "Epoch 29/500\n",
            "104/104 [==============================] - 1s 5ms/step - loss: 1.1918 - accuracy: 0.5308 - val_loss: 1.0438 - val_accuracy: 0.6135\n",
            "Epoch 30/500\n",
            "104/104 [==============================] - 1s 5ms/step - loss: 1.1355 - accuracy: 0.5641 - val_loss: 1.0792 - val_accuracy: 0.5700\n",
            "Epoch 31/500\n",
            "104/104 [==============================] - 1s 6ms/step - loss: 1.1221 - accuracy: 0.5677 - val_loss: 1.0782 - val_accuracy: 0.5894\n",
            "Epoch 32/500\n",
            "104/104 [==============================] - 1s 5ms/step - loss: 1.0901 - accuracy: 0.5877 - val_loss: 1.0875 - val_accuracy: 0.5556\n",
            "Epoch 33/500\n",
            "104/104 [==============================] - 1s 6ms/step - loss: 1.0591 - accuracy: 0.5961 - val_loss: 1.0373 - val_accuracy: 0.5990\n",
            "Epoch 34/500\n",
            "104/104 [==============================] - 1s 5ms/step - loss: 1.0533 - accuracy: 0.5901 - val_loss: 1.0077 - val_accuracy: 0.6570\n",
            "Epoch 35/500\n",
            "104/104 [==============================] - 1s 5ms/step - loss: 1.0117 - accuracy: 0.6197 - val_loss: 1.0232 - val_accuracy: 0.6135\n",
            "Epoch 36/500\n",
            "104/104 [==============================] - 0s 5ms/step - loss: 1.0064 - accuracy: 0.6270 - val_loss: 0.9918 - val_accuracy: 0.5894\n",
            "Epoch 37/500\n",
            "104/104 [==============================] - 0s 5ms/step - loss: 1.0051 - accuracy: 0.6143 - val_loss: 0.9985 - val_accuracy: 0.5797\n",
            "Epoch 38/500\n",
            "104/104 [==============================] - 0s 3ms/step - loss: 0.9704 - accuracy: 0.6366 - val_loss: 0.9145 - val_accuracy: 0.6763\n",
            "Epoch 39/500\n",
            "104/104 [==============================] - 0s 3ms/step - loss: 0.9761 - accuracy: 0.6264 - val_loss: 0.9153 - val_accuracy: 0.6957\n",
            "Epoch 40/500\n",
            "104/104 [==============================] - 0s 4ms/step - loss: 0.9180 - accuracy: 0.6391 - val_loss: 0.9101 - val_accuracy: 0.6667\n",
            "Epoch 41/500\n",
            "104/104 [==============================] - 0s 4ms/step - loss: 0.9117 - accuracy: 0.6445 - val_loss: 1.0707 - val_accuracy: 0.5314\n",
            "Epoch 42/500\n",
            "104/104 [==============================] - 0s 4ms/step - loss: 0.9332 - accuracy: 0.6318 - val_loss: 0.9148 - val_accuracy: 0.6667\n",
            "Epoch 43/500\n",
            "104/104 [==============================] - 0s 3ms/step - loss: 0.9073 - accuracy: 0.6554 - val_loss: 0.9458 - val_accuracy: 0.6135\n",
            "Epoch 44/500\n",
            "104/104 [==============================] - 0s 3ms/step - loss: 0.8804 - accuracy: 0.6487 - val_loss: 0.9455 - val_accuracy: 0.5990\n",
            "Epoch 45/500\n",
            "104/104 [==============================] - 0s 4ms/step - loss: 0.8789 - accuracy: 0.6614 - val_loss: 0.8262 - val_accuracy: 0.7246\n",
            "Epoch 46/500\n",
            "104/104 [==============================] - 0s 3ms/step - loss: 0.8788 - accuracy: 0.6608 - val_loss: 0.8899 - val_accuracy: 0.6860\n",
            "Epoch 47/500\n",
            "104/104 [==============================] - 0s 3ms/step - loss: 0.8583 - accuracy: 0.6590 - val_loss: 0.9284 - val_accuracy: 0.6667\n",
            "Epoch 48/500\n",
            "104/104 [==============================] - 0s 4ms/step - loss: 0.8636 - accuracy: 0.6711 - val_loss: 0.8615 - val_accuracy: 0.6908\n",
            "Epoch 49/500\n",
            "104/104 [==============================] - 0s 3ms/step - loss: 0.8331 - accuracy: 0.6699 - val_loss: 0.8547 - val_accuracy: 0.7053\n",
            "Epoch 50/500\n",
            "104/104 [==============================] - 0s 4ms/step - loss: 0.7955 - accuracy: 0.6868 - val_loss: 1.0243 - val_accuracy: 0.5652\n",
            "Epoch 51/500\n",
            "104/104 [==============================] - 0s 4ms/step - loss: 0.8329 - accuracy: 0.6753 - val_loss: 0.8110 - val_accuracy: 0.6812\n",
            "Epoch 52/500\n",
            "104/104 [==============================] - 0s 3ms/step - loss: 0.7790 - accuracy: 0.7013 - val_loss: 0.8967 - val_accuracy: 0.6377\n",
            "Epoch 53/500\n",
            "104/104 [==============================] - 0s 3ms/step - loss: 0.8037 - accuracy: 0.6808 - val_loss: 0.8337 - val_accuracy: 0.6860\n",
            "Epoch 54/500\n",
            "104/104 [==============================] - 0s 4ms/step - loss: 0.7788 - accuracy: 0.6959 - val_loss: 0.8031 - val_accuracy: 0.7005\n",
            "Epoch 55/500\n",
            "104/104 [==============================] - 0s 3ms/step - loss: 0.7740 - accuracy: 0.6886 - val_loss: 0.7770 - val_accuracy: 0.7150\n",
            "Epoch 56/500\n",
            "104/104 [==============================] - 0s 4ms/step - loss: 0.7473 - accuracy: 0.7122 - val_loss: 0.7861 - val_accuracy: 0.7246\n",
            "Epoch 57/500\n",
            "104/104 [==============================] - 0s 3ms/step - loss: 0.7600 - accuracy: 0.7056 - val_loss: 0.8102 - val_accuracy: 0.6715\n",
            "Epoch 58/500\n",
            "104/104 [==============================] - 0s 3ms/step - loss: 0.7280 - accuracy: 0.7134 - val_loss: 0.8398 - val_accuracy: 0.6812\n",
            "Epoch 59/500\n",
            "104/104 [==============================] - 0s 4ms/step - loss: 0.7390 - accuracy: 0.7140 - val_loss: 0.7513 - val_accuracy: 0.7150\n",
            "Epoch 60/500\n",
            "104/104 [==============================] - 0s 3ms/step - loss: 0.7087 - accuracy: 0.7255 - val_loss: 0.7938 - val_accuracy: 0.6957\n",
            "Epoch 61/500\n",
            "104/104 [==============================] - 0s 3ms/step - loss: 0.6828 - accuracy: 0.7267 - val_loss: 0.9643 - val_accuracy: 0.5990\n",
            "Epoch 62/500\n",
            "104/104 [==============================] - 0s 4ms/step - loss: 0.7148 - accuracy: 0.7201 - val_loss: 0.8042 - val_accuracy: 0.6618\n",
            "Epoch 63/500\n",
            "104/104 [==============================] - 0s 3ms/step - loss: 0.6826 - accuracy: 0.7485 - val_loss: 0.7990 - val_accuracy: 0.6908\n",
            "Epoch 64/500\n",
            "104/104 [==============================] - 0s 4ms/step - loss: 0.6800 - accuracy: 0.7346 - val_loss: 0.8968 - val_accuracy: 0.6425\n",
            "Epoch 65/500\n",
            "104/104 [==============================] - 0s 4ms/step - loss: 0.6664 - accuracy: 0.7455 - val_loss: 0.7399 - val_accuracy: 0.7005\n",
            "Epoch 66/500\n",
            "104/104 [==============================] - 0s 3ms/step - loss: 0.6702 - accuracy: 0.7388 - val_loss: 0.8013 - val_accuracy: 0.6812\n",
            "Epoch 67/500\n",
            "104/104 [==============================] - 0s 4ms/step - loss: 0.6719 - accuracy: 0.7473 - val_loss: 0.7179 - val_accuracy: 0.7536\n",
            "Epoch 68/500\n",
            "104/104 [==============================] - 0s 3ms/step - loss: 0.6536 - accuracy: 0.7479 - val_loss: 0.7833 - val_accuracy: 0.6957\n",
            "Epoch 69/500\n",
            "104/104 [==============================] - 0s 3ms/step - loss: 0.6377 - accuracy: 0.7467 - val_loss: 0.6731 - val_accuracy: 0.7681\n",
            "Epoch 70/500\n",
            "104/104 [==============================] - 0s 3ms/step - loss: 0.6435 - accuracy: 0.7509 - val_loss: 0.7824 - val_accuracy: 0.6908\n",
            "Epoch 71/500\n",
            "104/104 [==============================] - 0s 4ms/step - loss: 0.6144 - accuracy: 0.7630 - val_loss: 0.8259 - val_accuracy: 0.7101\n",
            "Epoch 72/500\n",
            "104/104 [==============================] - 0s 3ms/step - loss: 0.6242 - accuracy: 0.7654 - val_loss: 0.7647 - val_accuracy: 0.6812\n",
            "Epoch 73/500\n",
            "104/104 [==============================] - 0s 3ms/step - loss: 0.6121 - accuracy: 0.7666 - val_loss: 0.7077 - val_accuracy: 0.7343\n",
            "Epoch 74/500\n",
            "104/104 [==============================] - 0s 4ms/step - loss: 0.5875 - accuracy: 0.7727 - val_loss: 0.7233 - val_accuracy: 0.7150\n",
            "Epoch 75/500\n",
            "104/104 [==============================] - 0s 4ms/step - loss: 0.6199 - accuracy: 0.7606 - val_loss: 0.7173 - val_accuracy: 0.7150\n",
            "Epoch 76/500\n",
            "104/104 [==============================] - 0s 3ms/step - loss: 0.5760 - accuracy: 0.7757 - val_loss: 0.7386 - val_accuracy: 0.6908\n",
            "Epoch 77/500\n",
            "104/104 [==============================] - 0s 3ms/step - loss: 0.5786 - accuracy: 0.7836 - val_loss: 0.7326 - val_accuracy: 0.7053\n",
            "Epoch 78/500\n",
            "104/104 [==============================] - 0s 4ms/step - loss: 0.5946 - accuracy: 0.7781 - val_loss: 0.6958 - val_accuracy: 0.7150\n",
            "Epoch 79/500\n",
            "104/104 [==============================] - 0s 3ms/step - loss: 0.5702 - accuracy: 0.7775 - val_loss: 0.8261 - val_accuracy: 0.6812\n",
            "Epoch 80/500\n",
            "104/104 [==============================] - 0s 3ms/step - loss: 0.5880 - accuracy: 0.7860 - val_loss: 0.7060 - val_accuracy: 0.7391\n",
            "Epoch 81/500\n",
            "104/104 [==============================] - 0s 3ms/step - loss: 0.5748 - accuracy: 0.7739 - val_loss: 0.7738 - val_accuracy: 0.6522\n",
            "Epoch 82/500\n",
            "104/104 [==============================] - 0s 3ms/step - loss: 0.5781 - accuracy: 0.7781 - val_loss: 0.6788 - val_accuracy: 0.7391\n",
            "Epoch 83/500\n",
            "104/104 [==============================] - 0s 3ms/step - loss: 0.5575 - accuracy: 0.7823 - val_loss: 0.8146 - val_accuracy: 0.6763\n",
            "Epoch 84/500\n",
            "104/104 [==============================] - 0s 4ms/step - loss: 0.5538 - accuracy: 0.7866 - val_loss: 0.6577 - val_accuracy: 0.7391\n",
            "Epoch 85/500\n",
            "104/104 [==============================] - 0s 4ms/step - loss: 0.5369 - accuracy: 0.7950 - val_loss: 0.6390 - val_accuracy: 0.7391\n",
            "Epoch 86/500\n",
            "104/104 [==============================] - 0s 3ms/step - loss: 0.5368 - accuracy: 0.7987 - val_loss: 0.6741 - val_accuracy: 0.7440\n",
            "Epoch 87/500\n",
            "104/104 [==============================] - 0s 3ms/step - loss: 0.5411 - accuracy: 0.7920 - val_loss: 0.6821 - val_accuracy: 0.7295\n",
            "Epoch 88/500\n",
            "104/104 [==============================] - 0s 3ms/step - loss: 0.5055 - accuracy: 0.8089 - val_loss: 0.6953 - val_accuracy: 0.7150\n",
            "Epoch 89/500\n",
            "104/104 [==============================] - 0s 3ms/step - loss: 0.5280 - accuracy: 0.8029 - val_loss: 0.6995 - val_accuracy: 0.7005\n",
            "Epoch 90/500\n",
            "104/104 [==============================] - 0s 3ms/step - loss: 0.4945 - accuracy: 0.8144 - val_loss: 0.6680 - val_accuracy: 0.7391\n",
            "Epoch 91/500\n",
            "104/104 [==============================] - 0s 3ms/step - loss: 0.5155 - accuracy: 0.8089 - val_loss: 0.6653 - val_accuracy: 0.7198\n",
            "Epoch 92/500\n",
            "104/104 [==============================] - 0s 4ms/step - loss: 0.5085 - accuracy: 0.8053 - val_loss: 0.6576 - val_accuracy: 0.7440\n",
            "Epoch 93/500\n",
            "104/104 [==============================] - 0s 3ms/step - loss: 0.4913 - accuracy: 0.8168 - val_loss: 0.6708 - val_accuracy: 0.7585\n",
            "Epoch 94/500\n",
            "104/104 [==============================] - 0s 3ms/step - loss: 0.4902 - accuracy: 0.8047 - val_loss: 0.6217 - val_accuracy: 0.7729\n",
            "Epoch 95/500\n",
            "104/104 [==============================] - 0s 3ms/step - loss: 0.4823 - accuracy: 0.8053 - val_loss: 0.6635 - val_accuracy: 0.7488\n",
            "Epoch 96/500\n",
            "104/104 [==============================] - 0s 4ms/step - loss: 0.4792 - accuracy: 0.8174 - val_loss: 0.6566 - val_accuracy: 0.7536\n",
            "Epoch 97/500\n",
            "104/104 [==============================] - 0s 4ms/step - loss: 0.4806 - accuracy: 0.8174 - val_loss: 0.7252 - val_accuracy: 0.7150\n",
            "Epoch 98/500\n",
            "104/104 [==============================] - 0s 3ms/step - loss: 0.4789 - accuracy: 0.8089 - val_loss: 0.6622 - val_accuracy: 0.7536\n",
            "Epoch 99/500\n",
            "104/104 [==============================] - 0s 4ms/step - loss: 0.4552 - accuracy: 0.8356 - val_loss: 0.6837 - val_accuracy: 0.7198\n",
            "Epoch 100/500\n",
            "104/104 [==============================] - 0s 4ms/step - loss: 0.4674 - accuracy: 0.8192 - val_loss: 0.6660 - val_accuracy: 0.7585\n",
            "Epoch 101/500\n",
            "104/104 [==============================] - 0s 3ms/step - loss: 0.4499 - accuracy: 0.8241 - val_loss: 0.6295 - val_accuracy: 0.7681\n",
            "Epoch 102/500\n",
            "104/104 [==============================] - 0s 3ms/step - loss: 0.4899 - accuracy: 0.8132 - val_loss: 0.6620 - val_accuracy: 0.7391\n",
            "Epoch 103/500\n",
            "104/104 [==============================] - 0s 5ms/step - loss: 0.4564 - accuracy: 0.8337 - val_loss: 0.6318 - val_accuracy: 0.7633\n",
            "Epoch 104/500\n",
            "104/104 [==============================] - 0s 4ms/step - loss: 0.4348 - accuracy: 0.8271 - val_loss: 0.6992 - val_accuracy: 0.7246\n",
            "Epoch 105/500\n",
            "104/104 [==============================] - 0s 4ms/step - loss: 0.4149 - accuracy: 0.8410 - val_loss: 0.6479 - val_accuracy: 0.7681\n",
            "Epoch 106/500\n",
            "104/104 [==============================] - 0s 4ms/step - loss: 0.4343 - accuracy: 0.8277 - val_loss: 0.5934 - val_accuracy: 0.7826\n",
            "Epoch 107/500\n",
            "104/104 [==============================] - 0s 4ms/step - loss: 0.4045 - accuracy: 0.8422 - val_loss: 0.7382 - val_accuracy: 0.7246\n",
            "Epoch 108/500\n",
            "104/104 [==============================] - 0s 5ms/step - loss: 0.4310 - accuracy: 0.8337 - val_loss: 0.6714 - val_accuracy: 0.7488\n",
            "Epoch 109/500\n",
            "104/104 [==============================] - 0s 4ms/step - loss: 0.4386 - accuracy: 0.8349 - val_loss: 0.6264 - val_accuracy: 0.7536\n",
            "Epoch 110/500\n",
            "104/104 [==============================] - 0s 4ms/step - loss: 0.4144 - accuracy: 0.8416 - val_loss: 0.6240 - val_accuracy: 0.7633\n",
            "Epoch 111/500\n",
            "104/104 [==============================] - 0s 3ms/step - loss: 0.4126 - accuracy: 0.8356 - val_loss: 0.6584 - val_accuracy: 0.7343\n",
            "Epoch 112/500\n",
            "104/104 [==============================] - 0s 4ms/step - loss: 0.3982 - accuracy: 0.8615 - val_loss: 0.6018 - val_accuracy: 0.7633\n",
            "Epoch 113/500\n",
            "104/104 [==============================] - 0s 3ms/step - loss: 0.4054 - accuracy: 0.8495 - val_loss: 0.5891 - val_accuracy: 0.7633\n",
            "Epoch 114/500\n",
            "104/104 [==============================] - 0s 3ms/step - loss: 0.4050 - accuracy: 0.8489 - val_loss: 0.5582 - val_accuracy: 0.7874\n",
            "Epoch 115/500\n",
            "104/104 [==============================] - 0s 4ms/step - loss: 0.4021 - accuracy: 0.8446 - val_loss: 0.6125 - val_accuracy: 0.7536\n",
            "Epoch 116/500\n",
            "104/104 [==============================] - 0s 3ms/step - loss: 0.4167 - accuracy: 0.8392 - val_loss: 0.6252 - val_accuracy: 0.7729\n",
            "Epoch 117/500\n",
            "104/104 [==============================] - 0s 4ms/step - loss: 0.4056 - accuracy: 0.8482 - val_loss: 0.7487 - val_accuracy: 0.7101\n",
            "Epoch 118/500\n",
            "104/104 [==============================] - 0s 3ms/step - loss: 0.3905 - accuracy: 0.8525 - val_loss: 0.6152 - val_accuracy: 0.7778\n",
            "Epoch 119/500\n",
            "104/104 [==============================] - 0s 3ms/step - loss: 0.3957 - accuracy: 0.8489 - val_loss: 0.6932 - val_accuracy: 0.7198\n",
            "Epoch 120/500\n",
            "104/104 [==============================] - 0s 4ms/step - loss: 0.3872 - accuracy: 0.8555 - val_loss: 0.5800 - val_accuracy: 0.7778\n",
            "Epoch 121/500\n",
            "104/104 [==============================] - 0s 4ms/step - loss: 0.3742 - accuracy: 0.8591 - val_loss: 0.7168 - val_accuracy: 0.7391\n",
            "Epoch 122/500\n",
            "104/104 [==============================] - 0s 4ms/step - loss: 0.3945 - accuracy: 0.8476 - val_loss: 0.5890 - val_accuracy: 0.8019\n",
            "Epoch 123/500\n",
            "104/104 [==============================] - 0s 4ms/step - loss: 0.3713 - accuracy: 0.8531 - val_loss: 0.6511 - val_accuracy: 0.7488\n",
            "Epoch 124/500\n",
            "104/104 [==============================] - 0s 3ms/step - loss: 0.3794 - accuracy: 0.8543 - val_loss: 0.5736 - val_accuracy: 0.7681\n",
            "Epoch 125/500\n",
            "104/104 [==============================] - 0s 4ms/step - loss: 0.3721 - accuracy: 0.8543 - val_loss: 0.6119 - val_accuracy: 0.7585\n",
            "Epoch 126/500\n",
            "104/104 [==============================] - 0s 4ms/step - loss: 0.3664 - accuracy: 0.8561 - val_loss: 0.6285 - val_accuracy: 0.7585\n",
            "Epoch 127/500\n",
            "104/104 [==============================] - 0s 4ms/step - loss: 0.3495 - accuracy: 0.8670 - val_loss: 0.5528 - val_accuracy: 0.7729\n",
            "Epoch 128/500\n",
            "104/104 [==============================] - 0s 4ms/step - loss: 0.3320 - accuracy: 0.8736 - val_loss: 0.6718 - val_accuracy: 0.7391\n",
            "Epoch 129/500\n",
            "104/104 [==============================] - 0s 4ms/step - loss: 0.3559 - accuracy: 0.8682 - val_loss: 0.5985 - val_accuracy: 0.7729\n",
            "Epoch 130/500\n",
            "104/104 [==============================] - 0s 4ms/step - loss: 0.3405 - accuracy: 0.8797 - val_loss: 0.7008 - val_accuracy: 0.7585\n",
            "Epoch 131/500\n",
            "104/104 [==============================] - 0s 4ms/step - loss: 0.3356 - accuracy: 0.8803 - val_loss: 0.6465 - val_accuracy: 0.7778\n",
            "Epoch 132/500\n",
            "104/104 [==============================] - 0s 4ms/step - loss: 0.3379 - accuracy: 0.8730 - val_loss: 0.5231 - val_accuracy: 0.8019\n",
            "Epoch 133/500\n",
            "104/104 [==============================] - 0s 4ms/step - loss: 0.3354 - accuracy: 0.8694 - val_loss: 0.6525 - val_accuracy: 0.7536\n",
            "Epoch 134/500\n",
            "104/104 [==============================] - 0s 4ms/step - loss: 0.3165 - accuracy: 0.8809 - val_loss: 0.7170 - val_accuracy: 0.7536\n",
            "Epoch 135/500\n",
            "104/104 [==============================] - 0s 3ms/step - loss: 0.3391 - accuracy: 0.8748 - val_loss: 0.7268 - val_accuracy: 0.7536\n",
            "Epoch 136/500\n",
            "104/104 [==============================] - 0s 4ms/step - loss: 0.3486 - accuracy: 0.8730 - val_loss: 0.6266 - val_accuracy: 0.7633\n",
            "Epoch 137/500\n",
            "104/104 [==============================] - 0s 4ms/step - loss: 0.3483 - accuracy: 0.8718 - val_loss: 0.6187 - val_accuracy: 0.7585\n",
            "Epoch 138/500\n",
            "104/104 [==============================] - 0s 4ms/step - loss: 0.3282 - accuracy: 0.8742 - val_loss: 0.6225 - val_accuracy: 0.7778\n",
            "Epoch 139/500\n",
            "104/104 [==============================] - 0s 4ms/step - loss: 0.3318 - accuracy: 0.8797 - val_loss: 0.5703 - val_accuracy: 0.8068\n",
            "Epoch 140/500\n",
            "104/104 [==============================] - 0s 4ms/step - loss: 0.3420 - accuracy: 0.8676 - val_loss: 0.5912 - val_accuracy: 0.7923\n",
            "Epoch 141/500\n",
            "104/104 [==============================] - 0s 4ms/step - loss: 0.3061 - accuracy: 0.8863 - val_loss: 0.7194 - val_accuracy: 0.7198\n",
            "Epoch 142/500\n",
            "104/104 [==============================] - 0s 4ms/step - loss: 0.3095 - accuracy: 0.8863 - val_loss: 0.5742 - val_accuracy: 0.8116\n",
            "Epoch 143/500\n",
            "104/104 [==============================] - 0s 4ms/step - loss: 0.3083 - accuracy: 0.8785 - val_loss: 0.7108 - val_accuracy: 0.7440\n",
            "Epoch 144/500\n",
            "104/104 [==============================] - 0s 4ms/step - loss: 0.3237 - accuracy: 0.8779 - val_loss: 0.5510 - val_accuracy: 0.8068\n",
            "Epoch 145/500\n",
            "104/104 [==============================] - 0s 4ms/step - loss: 0.3111 - accuracy: 0.8845 - val_loss: 0.6277 - val_accuracy: 0.7971\n",
            "Epoch 146/500\n",
            "104/104 [==============================] - 0s 4ms/step - loss: 0.3047 - accuracy: 0.8869 - val_loss: 0.5929 - val_accuracy: 0.8068\n",
            "Epoch 147/500\n",
            "104/104 [==============================] - 0s 4ms/step - loss: 0.3021 - accuracy: 0.8839 - val_loss: 0.5771 - val_accuracy: 0.7729\n",
            "Epoch 148/500\n",
            "104/104 [==============================] - 0s 4ms/step - loss: 0.2909 - accuracy: 0.8894 - val_loss: 0.5878 - val_accuracy: 0.7971\n",
            "Epoch 149/500\n",
            "104/104 [==============================] - 0s 4ms/step - loss: 0.3038 - accuracy: 0.8930 - val_loss: 0.5336 - val_accuracy: 0.7923\n",
            "Epoch 150/500\n",
            "104/104 [==============================] - 0s 4ms/step - loss: 0.3105 - accuracy: 0.8839 - val_loss: 0.5774 - val_accuracy: 0.7874\n",
            "Epoch 151/500\n",
            "104/104 [==============================] - 0s 4ms/step - loss: 0.2728 - accuracy: 0.9002 - val_loss: 0.6235 - val_accuracy: 0.7778\n",
            "Epoch 152/500\n",
            "104/104 [==============================] - 0s 4ms/step - loss: 0.3032 - accuracy: 0.8767 - val_loss: 0.5404 - val_accuracy: 0.8068\n",
            "Epoch 153/500\n",
            "104/104 [==============================] - 0s 3ms/step - loss: 0.2712 - accuracy: 0.9057 - val_loss: 0.5378 - val_accuracy: 0.8164\n",
            "Epoch 154/500\n",
            "104/104 [==============================] - 0s 4ms/step - loss: 0.3053 - accuracy: 0.8894 - val_loss: 0.5455 - val_accuracy: 0.7923\n",
            "Epoch 155/500\n",
            "104/104 [==============================] - 0s 4ms/step - loss: 0.2862 - accuracy: 0.8966 - val_loss: 0.7582 - val_accuracy: 0.7633\n",
            "Epoch 156/500\n",
            "104/104 [==============================] - 0s 4ms/step - loss: 0.3063 - accuracy: 0.8894 - val_loss: 0.5974 - val_accuracy: 0.7826\n",
            "Epoch 157/500\n",
            "104/104 [==============================] - 0s 3ms/step - loss: 0.2713 - accuracy: 0.9002 - val_loss: 0.5951 - val_accuracy: 0.7778\n"
          ]
        }
      ]
    },
    {
      "cell_type": "code",
      "source": [
        "plt.plot(cnnhistory.history['loss'])\n",
        "plt.plot(cnnhistory.history['val_loss'])\n",
        "plt.title('model loss')\n",
        "plt.ylabel('loss')\n",
        "plt.xlabel('epoch')\n",
        "plt.legend(['train','test'], loc='upper left')\n",
        "plt.show()"
      ],
      "metadata": {
        "id": "oQYnuaCrDH_A",
        "colab": {
          "base_uri": "https://localhost:8080/",
          "height": 295
        },
        "outputId": "973b6a84-f229-468d-e3d8-48823e41020b"
      },
      "execution_count": 15,
      "outputs": [
        {
          "output_type": "display_data",
          "data": {
            "text/plain": [
              "<Figure size 432x288 with 1 Axes>"
            ],
            "image/png": "[encoded data removed]"
          },
          "metadata": {
            "needs_background": "light"
          }
        }
      ]
    },
    {
      "cell_type": "code",
      "source": [
        "plt.plot(cnnhistory.history['accuracy'])\n",
        "plt.plot(cnnhistory.history['val_accuracy'])\n",
        "plt.title('model accuracy')\n",
        "plt.ylabel('accuracy')\n",
        "plt.xlabel('epoch')\n",
        "plt.legend(['train','test'], loc='upper left')\n",
        "plt.show()"
      ],
      "metadata": {
        "id": "IFkTuO8nDNdq",
        "colab": {
          "base_uri": "https://localhost:8080/",
          "height": 295
        },
        "outputId": "b0684fa3-8685-4351-8549-a09f64c2a884"
      },
      "execution_count": 16,
      "outputs": [
        {
          "output_type": "display_data",
          "data": {
            "text/plain": [
              "<Figure size 432x288 with 1 Axes>"
            ],
            "image/png": "[encoded data removed]"
          },
          "metadata": {
            "needs_background": "light"
          }
        }
      ]
    },
    {
      "cell_type": "code",
      "source": [
        "predictions = model.predict(x_testcnn)"
      ],
      "metadata": {
        "id": "A2xtrN5wDQgY"
      },
      "execution_count": 17,
      "outputs": []
    },
    {
      "cell_type": "code",
      "source": [
        "predictions"
      ],
      "metadata": {
        "id": "_f_ohjXKDUpY",
        "colab": {
          "base_uri": "https://localhost:8080/"
        },
        "outputId": "49ba8dfa-7a10-4ca2-8be1-17fe21256240"
      },
      "execution_count": 18,
      "outputs": [
        {
          "output_type": "execute_result",
          "data": {
            "text/plain": [
              "array([[3.8083228e-01, 4.2133275e-02, 2.3222600e-01, 3.0984053e-01,\n",
              "        1.4307169e-02, 2.0660724e-02],\n",
              "       [5.5548217e-04, 3.5910914e-06, 9.2375177e-07, 9.7169656e-01,\n",
              "        3.2061827e-05, 2.7711459e-02],\n",
              "       [3.6957487e-01, 4.6195608e-02, 1.8155292e-02, 4.2395270e-01,\n",
              "        6.6150250e-03, 1.3550647e-01],\n",
              "       ...,\n",
              "       [1.4036958e-05, 4.8396545e-09, 9.8276214e-06, 6.4186679e-06,\n",
              "        9.9937540e-01, 5.9437554e-04],\n",
              "       [1.2536834e-04, 6.5637010e-01, 3.2916144e-01, 1.5707314e-03,\n",
              "        9.7400844e-03, 3.0322701e-03],\n",
              "       [5.4322579e-04, 8.9558001e-05, 9.7556766e-03, 7.0756278e-04,\n",
              "        9.8383969e-01, 5.0643124e-03]], dtype=float32)"
            ]
          },
          "metadata": {},
          "execution_count": 18
        }
      ]
    },
    {
      "cell_type": "code",
      "source": [
        "y_test"
      ],
      "metadata": {
        "id": "cmA2bFgsDW3D",
        "colab": {
          "base_uri": "https://localhost:8080/"
        },
        "outputId": "13530f09-da3a-47fd-d2a0-a97f501f4429"
      },
      "execution_count": 19,
      "outputs": [
        {
          "output_type": "execute_result",
          "data": {
            "text/plain": [
              "array([3, 3, 3, 0, 4, 4, 1, 2, 5, 0, 5, 3, 2, 2, 1, 4, 4, 5, 2, 4, 1, 2,\n",
              "       3, 5, 4, 2, 1, 2, 2, 2, 2, 5, 2, 5, 3, 1, 2, 0, 4, 5, 2, 3, 2, 2,\n",
              "       5, 2, 0, 1, 3, 4, 4, 5, 1, 1, 4, 4, 5, 1, 1, 1, 0, 1, 5, 0, 4, 1,\n",
              "       1, 0, 1, 4, 1, 0, 4, 1, 3, 1, 2, 2, 1, 2, 3, 0, 5, 3, 5, 5, 2, 4,\n",
              "       5, 1, 5, 1, 5, 3, 4, 1, 4, 1, 5, 4, 5, 1, 2, 1, 1, 5, 1, 3, 2, 5,\n",
              "       2, 1, 3, 5, 4, 4, 0, 0, 3, 1, 2, 2, 3, 5, 1, 5, 3, 4, 2, 2, 0, 2,\n",
              "       2, 5, 5, 0, 3, 3, 2, 2, 0, 3, 4, 0, 4, 2, 4, 5, 4, 1, 5, 3, 2, 2,\n",
              "       5, 4, 3, 3, 4, 3, 3, 4, 1, 5, 2, 3, 2, 2, 0, 2, 1, 3, 1, 2, 2, 5,\n",
              "       5, 1, 4, 2, 2, 1, 1, 3, 3, 5, 5, 2, 5, 1, 5, 0, 3, 3, 0, 5, 1, 4,\n",
              "       1, 4, 2, 5, 5, 1, 4, 2, 4])"
            ]
          },
          "metadata": {},
          "execution_count": 19
        }
      ]
    },
    {
      "cell_type": "code",
      "source": [
        "new_Ytest = y_test.astype(int)"
      ],
      "metadata": {
        "id": "0PHDKWJWDY3g"
      },
      "execution_count": 20,
      "outputs": []
    },
    {
      "cell_type": "code",
      "source": [
        "new_Ytest"
      ],
      "metadata": {
        "id": "k68v2i-pDbZE",
        "colab": {
          "base_uri": "https://localhost:8080/"
        },
        "outputId": "ad14a343-fc81-4701-cd17-b06e35848bd1"
      },
      "execution_count": 21,
      "outputs": [
        {
          "output_type": "execute_result",
          "data": {
            "text/plain": [
              "array([3, 3, 3, 0, 4, 4, 1, 2, 5, 0, 5, 3, 2, 2, 1, 4, 4, 5, 2, 4, 1, 2,\n",
              "       3, 5, 4, 2, 1, 2, 2, 2, 2, 5, 2, 5, 3, 1, 2, 0, 4, 5, 2, 3, 2, 2,\n",
              "       5, 2, 0, 1, 3, 4, 4, 5, 1, 1, 4, 4, 5, 1, 1, 1, 0, 1, 5, 0, 4, 1,\n",
              "       1, 0, 1, 4, 1, 0, 4, 1, 3, 1, 2, 2, 1, 2, 3, 0, 5, 3, 5, 5, 2, 4,\n",
              "       5, 1, 5, 1, 5, 3, 4, 1, 4, 1, 5, 4, 5, 1, 2, 1, 1, 5, 1, 3, 2, 5,\n",
              "       2, 1, 3, 5, 4, 4, 0, 0, 3, 1, 2, 2, 3, 5, 1, 5, 3, 4, 2, 2, 0, 2,\n",
              "       2, 5, 5, 0, 3, 3, 2, 2, 0, 3, 4, 0, 4, 2, 4, 5, 4, 1, 5, 3, 2, 2,\n",
              "       5, 4, 3, 3, 4, 3, 3, 4, 1, 5, 2, 3, 2, 2, 0, 2, 1, 3, 1, 2, 2, 5,\n",
              "       5, 1, 4, 2, 2, 1, 1, 3, 3, 5, 5, 2, 5, 1, 5, 0, 3, 3, 0, 5, 1, 4,\n",
              "       1, 4, 2, 5, 5, 1, 4, 2, 4])"
            ]
          },
          "metadata": {},
          "execution_count": 21
        }
      ]
    },
    {
      "cell_type": "code",
      "source": [
        "preds1=predictions.argmax(axis=1)\n",
        "preds1"
      ],
      "metadata": {
        "id": "4_cAI39VFhtp",
        "colab": {
          "base_uri": "https://localhost:8080/"
        },
        "outputId": "9d9b842d-8c8a-4243-bb64-1b2e844d8bff"
      },
      "execution_count": 22,
      "outputs": [
        {
          "output_type": "execute_result",
          "data": {
            "text/plain": [
              "array([0, 3, 3, 0, 4, 4, 1, 2, 5, 1, 5, 3, 2, 2, 0, 4, 4, 3, 3, 4, 0, 2,\n",
              "       3, 3, 4, 2, 1, 2, 4, 2, 2, 5, 2, 5, 3, 1, 2, 0, 4, 5, 2, 3, 2, 2,\n",
              "       3, 2, 0, 1, 3, 4, 4, 5, 1, 1, 4, 4, 5, 1, 1, 1, 0, 1, 5, 0, 4, 1,\n",
              "       1, 1, 1, 4, 0, 0, 4, 1, 5, 0, 2, 2, 1, 2, 1, 0, 5, 3, 5, 5, 2, 4,\n",
              "       3, 1, 0, 1, 5, 3, 4, 1, 0, 0, 5, 4, 5, 1, 2, 1, 0, 5, 1, 3, 2, 5,\n",
              "       1, 0, 3, 5, 4, 4, 3, 0, 3, 1, 1, 2, 1, 0, 1, 3, 3, 5, 2, 2, 0, 2,\n",
              "       2, 3, 3, 0, 5, 3, 2, 4, 0, 5, 4, 0, 4, 2, 4, 2, 4, 1, 5, 3, 2, 2,\n",
              "       5, 4, 3, 3, 4, 5, 3, 4, 1, 5, 2, 3, 2, 2, 0, 2, 1, 3, 1, 2, 2, 5,\n",
              "       5, 1, 4, 2, 2, 1, 1, 3, 3, 5, 5, 2, 5, 1, 2, 1, 3, 3, 2, 5, 1, 4,\n",
              "       1, 4, 5, 5, 5, 1, 4, 1, 4])"
            ]
          },
          "metadata": {},
          "execution_count": 22
        }
      ]
    },
    {
      "cell_type": "code",
      "source": [
        "abc = preds1.astype(int).flatten()"
      ],
      "metadata": {
        "id": "H4WEmM60NfQn"
      },
      "execution_count": 23,
      "outputs": []
    },
    {
      "cell_type": "code",
      "source": [
        "from sklearn.metrics import confusion_matrix\n",
        "c = confusion_matrix(new_Ytest, abc) \n",
        "c"
      ],
      "metadata": {
        "id": "bKEBeEBlFjB8",
        "colab": {
          "base_uri": "https://localhost:8080/"
        },
        "outputId": "75e5ba47-2743-4d20-f4e0-21dbd55f3289"
      },
      "execution_count": 24,
      "outputs": [
        {
          "output_type": "execute_result",
          "data": {
            "text/plain": [
              "array([[13,  3,  1,  1,  0,  0],\n",
              "       [ 7, 34,  0,  0,  0,  0],\n",
              "       [ 0,  3, 38,  1,  2,  1],\n",
              "       [ 1,  2,  0, 24,  0,  4],\n",
              "       [ 1,  0,  0,  0, 31,  1],\n",
              "       [ 2,  0,  2,  7,  0, 28]])"
            ]
          },
          "metadata": {},
          "execution_count": 24
        }
      ]
    },
    {
      "cell_type": "code",
      "source": [
        "y_test"
      ],
      "metadata": {
        "id": "m4RjG7LWLSQx",
        "colab": {
          "base_uri": "https://localhost:8080/"
        },
        "outputId": "ccdfba21-8eab-4046-9ff8-524825754c0c"
      },
      "execution_count": 25,
      "outputs": [
        {
          "output_type": "execute_result",
          "data": {
            "text/plain": [
              "array([3, 3, 3, 0, 4, 4, 1, 2, 5, 0, 5, 3, 2, 2, 1, 4, 4, 5, 2, 4, 1, 2,\n",
              "       3, 5, 4, 2, 1, 2, 2, 2, 2, 5, 2, 5, 3, 1, 2, 0, 4, 5, 2, 3, 2, 2,\n",
              "       5, 2, 0, 1, 3, 4, 4, 5, 1, 1, 4, 4, 5, 1, 1, 1, 0, 1, 5, 0, 4, 1,\n",
              "       1, 0, 1, 4, 1, 0, 4, 1, 3, 1, 2, 2, 1, 2, 3, 0, 5, 3, 5, 5, 2, 4,\n",
              "       5, 1, 5, 1, 5, 3, 4, 1, 4, 1, 5, 4, 5, 1, 2, 1, 1, 5, 1, 3, 2, 5,\n",
              "       2, 1, 3, 5, 4, 4, 0, 0, 3, 1, 2, 2, 3, 5, 1, 5, 3, 4, 2, 2, 0, 2,\n",
              "       2, 5, 5, 0, 3, 3, 2, 2, 0, 3, 4, 0, 4, 2, 4, 5, 4, 1, 5, 3, 2, 2,\n",
              "       5, 4, 3, 3, 4, 3, 3, 4, 1, 5, 2, 3, 2, 2, 0, 2, 1, 3, 1, 2, 2, 5,\n",
              "       5, 1, 4, 2, 2, 1, 1, 3, 3, 5, 5, 2, 5, 1, 5, 0, 3, 3, 0, 5, 1, 4,\n",
              "       1, 4, 2, 5, 5, 1, 4, 2, 4])"
            ]
          },
          "metadata": {},
          "execution_count": 25
        }
      ]
    },
    {
      "cell_type": "code",
      "source": [
        "loss, acc =model.evaluate(x_testcnn, y_test)\n",
        "print(\"Restored model, accuracy: {:5.2f}%\".format(100*acc))"
      ],
      "metadata": {
        "id": "n3kzoqPkDqqS",
        "colab": {
          "base_uri": "https://localhost:8080/"
        },
        "outputId": "5406d0a9-fb84-45d6-c08f-9e8a2ada77cb"
      },
      "execution_count": 26,
      "outputs": [
        {
          "output_type": "stream",
          "name": "stdout",
          "text": [
            "7/7 [==============================] - 0s 2ms/step - loss: 0.5087 - accuracy: 0.8116\n",
            "Restored model, accuracy: 81.16%\n"
          ]
        }
      ]
    },
    {
      "cell_type": "code",
      "source": [
        "loss, acc =model.evaluate(X_train, y_train)\n",
        "print(\"Restored model train, accuracy: {:5.2f}%\".format(100*acc))"
      ],
      "metadata": {
        "id": "fJDTGH_OUX0z",
        "colab": {
          "base_uri": "https://localhost:8080/"
        },
        "outputId": "c0fa1412-155c-4c7c-9d12-b2497a67d23d"
      },
      "execution_count": 27,
      "outputs": [
        {
          "output_type": "stream",
          "name": "stdout",
          "text": [
            "52/52 [==============================] - 0s 3ms/step - loss: 0.1966 - accuracy: 0.9698\n",
            "Restored model train, accuracy: 96.98%\n"
          ]
        }
      ]
    },
    {
      "cell_type": "code",
      "source": [
        "from sklearn.metrics import classification_report, confusion_matrix,accuracy_score\n",
        "import seaborn as sn\n",
        "\n",
        "print(classification_report(new_Ytest,abc))\n",
        "\n",
        "acc = float(accuracy_score(new_Ytest,abc))*100\n",
        "print(\"----accuracy score %s ----\" % acc)\n",
        "\n",
        "cm = confusion_matrix(new_Ytest,abc)\n",
        "#df_cm = pd.DataFrame(cm)\n",
        "class_names = ['neutral','calm', 'happy','sad','angry', 'fearful' ]\n",
        "df_cm = pd.DataFrame(cm, index=class_names, columns=class_names,)\n",
        "sn.heatmap(df_cm, annot=True, fmt='')\n",
        "plt.show()"
      ],
      "metadata": {
        "id": "SfSC3El94LZg",
        "colab": {
          "base_uri": "https://localhost:8080/",
          "height": 521
        },
        "outputId": "12352640-25a6-4f2e-abf8-e4146a3ca241"
      },
      "execution_count": 28,
      "outputs": [
        {
          "output_type": "stream",
          "name": "stdout",
          "text": [
            "              precision    recall  f1-score   support\n",
            "\n",
            "           0       0.54      0.72      0.62        18\n",
            "           1       0.81      0.83      0.82        41\n",
            "           2       0.93      0.84      0.88        45\n",
            "           3       0.73      0.77      0.75        31\n",
            "           4       0.94      0.94      0.94        33\n",
            "           5       0.82      0.72      0.77        39\n",
            "\n",
            "    accuracy                           0.81       207\n",
            "   macro avg       0.79      0.80      0.80       207\n",
            "weighted avg       0.82      0.81      0.81       207\n",
            "\n",
            "----accuracy score 81.15942028985508 ----\n"
          ]
        },
        {
          "output_type": "display_data",
          "data": {
            "text/plain": [
              "<Figure size 432x288 with 2 Axes>"
            ],
            "image/png": "[encoded data removed]"
          },
          "metadata": {
            "needs_background": "light"
          }
        }
      ]
    }
  ]
}