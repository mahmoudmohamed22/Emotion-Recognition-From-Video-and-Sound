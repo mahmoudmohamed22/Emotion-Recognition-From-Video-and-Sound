{
  "nbformat": 4,
  "nbformat_minor": 0,
  "metadata": {
    "colab": {
      "name": "expert6.ipynb",
      "provenance": [],
      "collapsed_sections": [],
      "machine_shape": "hm"
    },
    "kernelspec": {
      "name": "python3",
      "display_name": "Python 3"
    },
    "accelerator": "GPU"
  },
  "cells": [
    {
      "cell_type": "code",
      "source": [
        "# Discard the output of this cell.\n",
        "#%%capture\n",
        "\n",
        "# Install the required libraries.\n",
        "!pip install tensorflow opencv-contrib-python youtube-dl moviepy pydot\n",
        "!pip install git+https://github.com/TahaAnwar/pafy.git#egg=pafy"
      ],
      "metadata": {
        "id": "MChAq7xYwD1o",
        "outputId": "a75fd3dc-dae5-4ebf-fc0b-2889f63d4296",
        "colab": {
          "base_uri": "https://localhost:8080/"
        }
      },
      "execution_count": 1,
      "outputs": [
        {
          "output_type": "stream",
          "name": "stdout",
          "text": [
            "Looking in indexes: https://pypi.org/simple, https://us-python.pkg.dev/colab-wheels/public/simple/\n",
            "Requirement already satisfied: tensorflow in /usr/local/lib/python3.7/dist-packages (2.8.2+zzzcolab20220527125636)\n",
            "Requirement already satisfied: opencv-contrib-python in /usr/local/lib/python3.7/dist-packages (4.1.2.30)\n",
            "Requirement already satisfied: youtube-dl in /usr/local/lib/python3.7/dist-packages (2021.12.17)\n",
            "Requirement already satisfied: moviepy in /usr/local/lib/python3.7/dist-packages (0.2.3.5)\n",
            "Requirement already satisfied: pydot in /usr/local/lib/python3.7/dist-packages (1.3.0)\n",
            "Requirement already satisfied: h5py>=2.9.0 in /usr/local/lib/python3.7/dist-packages (from tensorflow) (3.1.0)\n",
            "Requirement already satisfied: absl-py>=0.4.0 in /usr/local/lib/python3.7/dist-packages (from tensorflow) (1.0.0)\n",
            "Requirement already satisfied: astunparse>=1.6.0 in /usr/local/lib/python3.7/dist-packages (from tensorflow) (1.6.3)\n",
            "Requirement already satisfied: setuptools in /usr/local/lib/python3.7/dist-packages (from tensorflow) (57.4.0)\n",
            "Requirement already satisfied: six>=1.12.0 in /usr/local/lib/python3.7/dist-packages (from tensorflow) (1.15.0)\n",
            "Requirement already satisfied: tensorflow-io-gcs-filesystem>=0.23.1 in /usr/local/lib/python3.7/dist-packages (from tensorflow) (0.26.0)\n",
            "Requirement already satisfied: numpy>=1.20 in /usr/local/lib/python3.7/dist-packages (from tensorflow) (1.21.6)\n",
            "Requirement already satisfied: keras-preprocessing>=1.1.1 in /usr/local/lib/python3.7/dist-packages (from tensorflow) (1.1.2)\n",
            "Requirement already satisfied: libclang>=9.0.1 in /usr/local/lib/python3.7/dist-packages (from tensorflow) (14.0.1)\n",
            "Requirement already satisfied: opt-einsum>=2.3.2 in /usr/local/lib/python3.7/dist-packages (from tensorflow) (3.3.0)\n",
            "Requirement already satisfied: typing-extensions>=3.6.6 in /usr/local/lib/python3.7/dist-packages (from tensorflow) (4.2.0)\n",
            "Requirement already satisfied: protobuf<3.20,>=3.9.2 in /usr/local/lib/python3.7/dist-packages (from tensorflow) (3.17.3)\n",
            "Requirement already satisfied: wrapt>=1.11.0 in /usr/local/lib/python3.7/dist-packages (from tensorflow) (1.14.1)\n",
            "Requirement already satisfied: tensorboard<2.9,>=2.8 in /usr/local/lib/python3.7/dist-packages (from tensorflow) (2.8.0)\n",
            "Requirement already satisfied: google-pasta>=0.1.1 in /usr/local/lib/python3.7/dist-packages (from tensorflow) (0.2.0)\n",
            "Requirement already satisfied: flatbuffers>=1.12 in /usr/local/lib/python3.7/dist-packages (from tensorflow) (2.0)\n",
            "Requirement already satisfied: gast>=0.2.1 in /usr/local/lib/python3.7/dist-packages (from tensorflow) (0.5.3)\n",
            "Requirement already satisfied: termcolor>=1.1.0 in /usr/local/lib/python3.7/dist-packages (from tensorflow) (1.1.0)\n",
            "Requirement already satisfied: grpcio<2.0,>=1.24.3 in /usr/local/lib/python3.7/dist-packages (from tensorflow) (1.46.3)\n",
            "Requirement already satisfied: tensorflow-estimator<2.9,>=2.8 in /usr/local/lib/python3.7/dist-packages (from tensorflow) (2.8.0)\n",
            "Requirement already satisfied: keras<2.9,>=2.8.0rc0 in /usr/local/lib/python3.7/dist-packages (from tensorflow) (2.8.0)\n",
            "Requirement already satisfied: wheel<1.0,>=0.23.0 in /usr/local/lib/python3.7/dist-packages (from astunparse>=1.6.0->tensorflow) (0.37.1)\n",
            "Requirement already satisfied: cached-property in /usr/local/lib/python3.7/dist-packages (from h5py>=2.9.0->tensorflow) (1.5.2)\n",
            "Requirement already satisfied: google-auth<3,>=1.6.3 in /usr/local/lib/python3.7/dist-packages (from tensorboard<2.9,>=2.8->tensorflow) (1.35.0)\n",
            "Requirement already satisfied: markdown>=2.6.8 in /usr/local/lib/python3.7/dist-packages (from tensorboard<2.9,>=2.8->tensorflow) (3.3.7)\n",
            "Requirement already satisfied: tensorboard-data-server<0.7.0,>=0.6.0 in /usr/local/lib/python3.7/dist-packages (from tensorboard<2.9,>=2.8->tensorflow) (0.6.1)\n",
            "Requirement already satisfied: tensorboard-plugin-wit>=1.6.0 in /usr/local/lib/python3.7/dist-packages (from tensorboard<2.9,>=2.8->tensorflow) (1.8.1)\n",
            "Requirement already satisfied: werkzeug>=0.11.15 in /usr/local/lib/python3.7/dist-packages (from tensorboard<2.9,>=2.8->tensorflow) (1.0.1)\n",
            "Requirement already satisfied: google-auth-oauthlib<0.5,>=0.4.1 in /usr/local/lib/python3.7/dist-packages (from tensorboard<2.9,>=2.8->tensorflow) (0.4.6)\n",
            "Requirement already satisfied: requests<3,>=2.21.0 in /usr/local/lib/python3.7/dist-packages (from tensorboard<2.9,>=2.8->tensorflow) (2.23.0)\n",
            "Requirement already satisfied: rsa<5,>=3.1.4 in /usr/local/lib/python3.7/dist-packages (from google-auth<3,>=1.6.3->tensorboard<2.9,>=2.8->tensorflow) (4.8)\n",
            "Requirement already satisfied: pyasn1-modules>=0.2.1 in /usr/local/lib/python3.7/dist-packages (from google-auth<3,>=1.6.3->tensorboard<2.9,>=2.8->tensorflow) (0.2.8)\n",
            "Requirement already satisfied: cachetools<5.0,>=2.0.0 in /usr/local/lib/python3.7/dist-packages (from google-auth<3,>=1.6.3->tensorboard<2.9,>=2.8->tensorflow) (4.2.4)\n",
            "Requirement already satisfied: requests-oauthlib>=0.7.0 in /usr/local/lib/python3.7/dist-packages (from google-auth-oauthlib<0.5,>=0.4.1->tensorboard<2.9,>=2.8->tensorflow) (1.3.1)\n",
            "Requirement already satisfied: importlib-metadata>=4.4 in /usr/local/lib/python3.7/dist-packages (from markdown>=2.6.8->tensorboard<2.9,>=2.8->tensorflow) (4.11.4)\n",
            "Requirement already satisfied: zipp>=0.5 in /usr/local/lib/python3.7/dist-packages (from importlib-metadata>=4.4->markdown>=2.6.8->tensorboard<2.9,>=2.8->tensorflow) (3.8.0)\n",
            "Requirement already satisfied: pyasn1<0.5.0,>=0.4.6 in /usr/local/lib/python3.7/dist-packages (from pyasn1-modules>=0.2.1->google-auth<3,>=1.6.3->tensorboard<2.9,>=2.8->tensorflow) (0.4.8)\n",
            "Requirement already satisfied: chardet<4,>=3.0.2 in /usr/local/lib/python3.7/dist-packages (from requests<3,>=2.21.0->tensorboard<2.9,>=2.8->tensorflow) (3.0.4)\n",
            "Requirement already satisfied: urllib3!=1.25.0,!=1.25.1,<1.26,>=1.21.1 in /usr/local/lib/python3.7/dist-packages (from requests<3,>=2.21.0->tensorboard<2.9,>=2.8->tensorflow) (1.24.3)\n",
            "Requirement already satisfied: idna<3,>=2.5 in /usr/local/lib/python3.7/dist-packages (from requests<3,>=2.21.0->tensorboard<2.9,>=2.8->tensorflow) (2.10)\n",
            "Requirement already satisfied: certifi>=2017.4.17 in /usr/local/lib/python3.7/dist-packages (from requests<3,>=2.21.0->tensorboard<2.9,>=2.8->tensorflow) (2022.5.18.1)\n",
            "Requirement already satisfied: oauthlib>=3.0.0 in /usr/local/lib/python3.7/dist-packages (from requests-oauthlib>=0.7.0->google-auth-oauthlib<0.5,>=0.4.1->tensorboard<2.9,>=2.8->tensorflow) (3.2.0)\n",
            "Requirement already satisfied: tqdm<5.0,>=4.11.2 in /usr/local/lib/python3.7/dist-packages (from moviepy) (4.64.0)\n",
            "Requirement already satisfied: decorator<5.0,>=4.0.2 in /usr/local/lib/python3.7/dist-packages (from moviepy) (4.4.2)\n",
            "Requirement already satisfied: imageio<3.0,>=2.1.2 in /usr/local/lib/python3.7/dist-packages (from moviepy) (2.4.1)\n",
            "Requirement already satisfied: pillow in /usr/local/lib/python3.7/dist-packages (from imageio<3.0,>=2.1.2->moviepy) (7.1.2)\n",
            "Requirement already satisfied: pyparsing>=2.1.4 in /usr/local/lib/python3.7/dist-packages (from pydot) (3.0.9)\n",
            "Looking in indexes: https://pypi.org/simple, https://us-python.pkg.dev/colab-wheels/public/simple/\n",
            "Collecting pafy\n",
            "  Cloning https://github.com/TahaAnwar/pafy.git to /tmp/pip-install-fpqxl99e/pafy_4686a92131584df08f3bbc1432692886\n",
            "  Running command git clone -q https://github.com/TahaAnwar/pafy.git /tmp/pip-install-fpqxl99e/pafy_4686a92131584df08f3bbc1432692886\n"
          ]
        }
      ]
    },
    {
      "cell_type": "code",
      "source": [
        "# Import the required libraries.\n",
        "import os\n",
        "import cv2\n",
        "import pafy\n",
        "import math\n",
        "import random\n",
        "import numpy as np\n",
        "import datetime as dt\n",
        "import tensorflow as tf\n",
        "from collections import deque\n",
        "import matplotlib.pyplot as plt\n",
        "\n",
        "from moviepy.editor import *\n",
        "%matplotlib inline\n",
        "\n",
        "from sklearn.model_selection import train_test_split\n",
        "\n",
        "from tensorflow.keras.layers import *\n",
        "from tensorflow.keras.models import Sequential\n",
        "from tensorflow.keras.utils import to_categorical\n",
        "from tensorflow.keras.callbacks import EarlyStopping\n",
        "from tensorflow.keras.utils import plot_model\n",
        "import glob"
      ],
      "metadata": {
        "id": "1nJVuzQAwGQp"
      },
      "execution_count": 2,
      "outputs": []
    },
    {
      "cell_type": "code",
      "source": [
        "seed_constant = 27\n",
        "np.random.seed(seed_constant)\n",
        "random.seed(seed_constant)\n",
        "tf.random.set_seed(seed_constant)\n"
      ],
      "metadata": {
        "id": "IoMuaveSwK6K"
      },
      "execution_count": 3,
      "outputs": []
    },
    {
      "cell_type": "code",
      "source": [
        "# Specify the height and width to which each video frame will be resized in our dataset.\n",
        "IMAGE_HEIGHT , IMAGE_WIDTH = 64, 64\n",
        "\n",
        "# Specify the number of frames of a video that will be fed to the model as one sequence.\n",
        "SEQUENCE_LENGTH = 30\n",
        "\n",
        "# Specify the directory containing the UCF50 dataset. \n",
        "#DATASET_DIR = \"/content/drive/MyDrive/frames_ravdess_label\"\n",
        "\n",
        "# Specify the list containing the names of the classes used for training. Feel free to choose any set of classes.\n",
        "CLASSES_LIST = [\"neutral\", \"calm\", \"happy\", \"sad\",\"angry\",\"fearful\"]"
      ],
      "metadata": {
        "id": "GcOPbLHXwNW6"
      },
      "execution_count": 4,
      "outputs": []
    },
    {
      "cell_type": "code",
      "source": [
        "from google.colab import drive\n",
        "drive.mount('/content/drive')"
      ],
      "metadata": {
        "id": "R4qTnVYzwtnU",
        "outputId": "f0a16be7-760c-4f7d-b17e-e7e327296229",
        "colab": {
          "base_uri": "https://localhost:8080/"
        }
      },
      "execution_count": 5,
      "outputs": [
        {
          "output_type": "stream",
          "name": "stdout",
          "text": [
            "Drive already mounted at /content/drive; to attempt to forcibly remount, call drive.mount(\"/content/drive\", force_remount=True).\n"
          ]
        }
      ]
    },
    {
      "cell_type": "code",
      "source": [
        "import joblib\n",
        "features = joblib.load('/content/drive/My Drive/features_ravdess/data_set/features_data')\n",
        "labels = joblib.load('/content/drive/MyDrive/features_ravdess/data_set/labels')\n",
        "video_files_paths = joblib.load('/content/drive/My Drive/features_ravdess/data_set/video_path')"
      ],
      "metadata": {
        "id": "Hpib_QJowRPo"
      },
      "execution_count": 6,
      "outputs": []
    },
    {
      "cell_type": "code",
      "source": [
        "features = np.asarray(features)\n",
        "labels = np.array(labels)  "
      ],
      "metadata": {
        "id": "PH_q4iTSwt_7"
      },
      "execution_count": 7,
      "outputs": []
    },
    {
      "cell_type": "code",
      "source": [
        "features.shape"
      ],
      "metadata": {
        "id": "EcUFSl-ExLkk",
        "outputId": "0724728f-b3c3-4a13-d370-0df48e49edf5",
        "colab": {
          "base_uri": "https://localhost:8080/"
        }
      },
      "execution_count": 8,
      "outputs": [
        {
          "output_type": "execute_result",
          "data": {
            "text/plain": [
              "(2067, 30, 64, 64, 3)"
            ]
          },
          "metadata": {},
          "execution_count": 8
        }
      ]
    },
    {
      "cell_type": "code",
      "source": [
        "# Using Keras's to_categorical method to convert labels into one-hot-encoded vectors\n",
        "one_hot_encoded_labels = to_categorical(labels)"
      ],
      "metadata": {
        "id": "byN_xKZ1w3db"
      },
      "execution_count": 9,
      "outputs": []
    },
    {
      "cell_type": "code",
      "source": [
        "# Split the Data into Train ( 80% ) and Test Set ( 20% ).\n",
        "features_train, features_test, labels_train, labels_test = train_test_split(features, one_hot_encoded_labels,\n",
        "                                                                            test_size = 0.10, shuffle = True,\n",
        "                                                                            random_state = seed_constant)"
      ],
      "metadata": {
        "id": "Xbo5u-ynw4bP"
      },
      "execution_count": 10,
      "outputs": []
    },
    {
      "cell_type": "code",
      "source": [
        "def create_LRCN_model():\n",
        "    '''\n",
        "    This function will construct the required LRCN model.\n",
        "    Returns:\n",
        "        model: It is the required constructed LRCN model.\n",
        "    '''\n",
        "\n",
        "    # We will use a Sequential model for model construction.\n",
        "    model = Sequential()\n",
        "   \n",
        "    # Define the Model Architecture.\n",
        "    ########################################################################################################################\n",
        "    \n",
        "    model.add(TimeDistributed(Conv2D(16, (3,3), padding='same'),\n",
        "                              input_shape = (SEQUENCE_LENGTH, IMAGE_HEIGHT, IMAGE_WIDTH, 3)))\n",
        "    model.add(TimeDistributed(BatchNormalization()))\n",
        "    model.add(TimeDistributed(Activation('relu')))\n",
        "    model.add(TimeDistributed(MaxPooling2D((4, 4)))) \n",
        "    model.add(TimeDistributed(Dropout(0.1)))\n",
        "    \n",
        "    model.add(TimeDistributed(Conv2D(32, (3,3), padding='same')))\n",
        "    model.add(TimeDistributed(BatchNormalization()))\n",
        "    model.add(TimeDistributed(Activation('relu')))\n",
        "    model.add(TimeDistributed(MaxPooling2D((4, 4))))\n",
        "    model.add(TimeDistributed(Dropout(0.2)))\n",
        "    \n",
        "    model.add(TimeDistributed(Conv2D(64, (3,3), padding='same')))\n",
        "    model.add(TimeDistributed(BatchNormalization()))\n",
        "    model.add(TimeDistributed(Activation('relu')))\n",
        "    model.add(TimeDistributed(MaxPooling2D((2, 2))))\n",
        "    model.add(TimeDistributed(Dropout(0.3)))\n",
        "    \n",
        "    model.add(TimeDistributed(Conv2D(64, (3,3), padding='same')))\n",
        "    model.add(TimeDistributed(BatchNormalization()))\n",
        "    model.add(TimeDistributed(Activation('relu')))\n",
        "    model.add(TimeDistributed(MaxPooling2D((2, 2))))\n",
        "    #model.add(TimeDistributed(Dropout(0.25)))\n",
        "                                      \n",
        "    model.add(TimeDistributed(Flatten()))\n",
        "                                      \n",
        "    model.add(LSTM(64))\n",
        "                                      \n",
        "    model.add(Dense(len(CLASSES_LIST), activation = 'softmax'))\n",
        "\n",
        "    ########################################################################################################################\n",
        "\n",
        "    # Display the models summary.\n",
        "    model.summary()\n",
        "    \n",
        "    # Return the constructed LRCN model.\n",
        "    return model"
      ],
      "metadata": {
        "id": "ANf9NyOAw7Fa"
      },
      "execution_count": 11,
      "outputs": []
    },
    {
      "cell_type": "code",
      "source": [
        "# Construct the required LRCN model.\n",
        "LRCN_model = create_LRCN_model()\n",
        "\n",
        "# Display the success message.\n",
        "print(\"Model Created Successfully!\")"
      ],
      "metadata": {
        "id": "VX1aE7GoxSHl",
        "outputId": "86ada5ea-d6c1-4127-9d5e-fe6b223f6aac",
        "colab": {
          "base_uri": "https://localhost:8080/"
        }
      },
      "execution_count": 12,
      "outputs": [
        {
          "output_type": "stream",
          "name": "stdout",
          "text": [
            "Model: \"sequential\"\n",
            "_________________________________________________________________\n",
            " Layer (type)                Output Shape              Param #   \n",
            "=================================================================\n",
            " time_distributed (TimeDistr  (None, 30, 64, 64, 16)   448       \n",
            " ibuted)                                                         \n",
            "                                                                 \n",
            " time_distributed_1 (TimeDis  (None, 30, 64, 64, 16)   64        \n",
            " tributed)                                                       \n",
            "                                                                 \n",
            " time_distributed_2 (TimeDis  (None, 30, 64, 64, 16)   0         \n",
            " tributed)                                                       \n",
            "                                                                 \n",
            " time_distributed_3 (TimeDis  (None, 30, 16, 16, 16)   0         \n",
            " tributed)                                                       \n",
            "                                                                 \n",
            " time_distributed_4 (TimeDis  (None, 30, 16, 16, 16)   0         \n",
            " tributed)                                                       \n",
            "                                                                 \n",
            " time_distributed_5 (TimeDis  (None, 30, 16, 16, 32)   4640      \n",
            " tributed)                                                       \n",
            "                                                                 \n",
            " time_distributed_6 (TimeDis  (None, 30, 16, 16, 32)   128       \n",
            " tributed)                                                       \n",
            "                                                                 \n",
            " time_distributed_7 (TimeDis  (None, 30, 16, 16, 32)   0         \n",
            " tributed)                                                       \n",
            "                                                                 \n",
            " time_distributed_8 (TimeDis  (None, 30, 4, 4, 32)     0         \n",
            " tributed)                                                       \n",
            "                                                                 \n",
            " time_distributed_9 (TimeDis  (None, 30, 4, 4, 32)     0         \n",
            " tributed)                                                       \n",
            "                                                                 \n",
            " time_distributed_10 (TimeDi  (None, 30, 4, 4, 64)     18496     \n",
            " stributed)                                                      \n",
            "                                                                 \n",
            " time_distributed_11 (TimeDi  (None, 30, 4, 4, 64)     256       \n",
            " stributed)                                                      \n",
            "                                                                 \n",
            " time_distributed_12 (TimeDi  (None, 30, 4, 4, 64)     0         \n",
            " stributed)                                                      \n",
            "                                                                 \n",
            " time_distributed_13 (TimeDi  (None, 30, 2, 2, 64)     0         \n",
            " stributed)                                                      \n",
            "                                                                 \n",
            " time_distributed_14 (TimeDi  (None, 30, 2, 2, 64)     0         \n",
            " stributed)                                                      \n",
            "                                                                 \n",
            " time_distributed_15 (TimeDi  (None, 30, 2, 2, 64)     36928     \n",
            " stributed)                                                      \n",
            "                                                                 \n",
            " time_distributed_16 (TimeDi  (None, 30, 2, 2, 64)     256       \n",
            " stributed)                                                      \n",
            "                                                                 \n",
            " time_distributed_17 (TimeDi  (None, 30, 2, 2, 64)     0         \n",
            " stributed)                                                      \n",
            "                                                                 \n",
            " time_distributed_18 (TimeDi  (None, 30, 1, 1, 64)     0         \n",
            " stributed)                                                      \n",
            "                                                                 \n",
            " time_distributed_19 (TimeDi  (None, 30, 64)           0         \n",
            " stributed)                                                      \n",
            "                                                                 \n",
            " lstm (LSTM)                 (None, 64)                33024     \n",
            "                                                                 \n",
            " dense (Dense)               (None, 6)                 390       \n",
            "                                                                 \n",
            "=================================================================\n",
            "Total params: 94,630\n",
            "Trainable params: 94,278\n",
            "Non-trainable params: 352\n",
            "_________________________________________________________________\n",
            "Model Created Successfully!\n"
          ]
        }
      ]
    },
    {
      "cell_type": "code",
      "source": [
        "# Create an Instance of Early Stopping Callback.\n",
        "early_stopping_callback = EarlyStopping(monitor = 'val_loss', patience = 25, mode = 'min', restore_best_weights = True)\n",
        " \n",
        "# Compile the model and specify loss function, optimizer and metrics to the model.\n",
        "LRCN_model.compile(loss = 'categorical_crossentropy', optimizer = 'Adam', metrics = [\"accuracy\"])\n",
        "\n",
        "# Start training the model.\n",
        "LRCN_model_training_history = LRCN_model.fit(x = features_train, y = labels_train, epochs = 100, batch_size = 8 ,\n",
        "                                             shuffle = True, validation_split = 0.1, callbacks = [early_stopping_callback])"
      ],
      "metadata": {
        "id": "-wmt7CHExUgm",
        "outputId": "8d3eec1a-5329-48d5-e422-fcaf21a3925c",
        "colab": {
          "base_uri": "https://localhost:8080/"
        }
      },
      "execution_count": 13,
      "outputs": [
        {
          "output_type": "stream",
          "name": "stdout",
          "text": [
            "Epoch 1/100\n",
            "210/210 [==============================] - 24s 31ms/step - loss: 1.5577 - accuracy: 0.3602 - val_loss: 2.3831 - val_accuracy: 0.1398\n",
            "Epoch 2/100\n",
            "210/210 [==============================] - 5s 23ms/step - loss: 1.1669 - accuracy: 0.5096 - val_loss: 1.8737 - val_accuracy: 0.2581\n",
            "Epoch 3/100\n",
            "210/210 [==============================] - 5s 23ms/step - loss: 1.0192 - accuracy: 0.5866 - val_loss: 1.0126 - val_accuracy: 0.6183\n",
            "Epoch 4/100\n",
            "210/210 [==============================] - 5s 23ms/step - loss: 0.8885 - accuracy: 0.6523 - val_loss: 1.4919 - val_accuracy: 0.4570\n",
            "Epoch 5/100\n",
            "210/210 [==============================] - 5s 23ms/step - loss: 0.8165 - accuracy: 0.6780 - val_loss: 0.7752 - val_accuracy: 0.7043\n",
            "Epoch 6/100\n",
            "210/210 [==============================] - 5s 23ms/step - loss: 0.7341 - accuracy: 0.7115 - val_loss: 0.7220 - val_accuracy: 0.7151\n",
            "Epoch 7/100\n",
            "210/210 [==============================] - 5s 23ms/step - loss: 0.6235 - accuracy: 0.7640 - val_loss: 0.9515 - val_accuracy: 0.6613\n",
            "Epoch 8/100\n",
            "210/210 [==============================] - 5s 24ms/step - loss: 0.6093 - accuracy: 0.7688 - val_loss: 0.5784 - val_accuracy: 0.7742\n",
            "Epoch 9/100\n",
            "210/210 [==============================] - 5s 24ms/step - loss: 0.5594 - accuracy: 0.8005 - val_loss: 1.1040 - val_accuracy: 0.6613\n",
            "Epoch 10/100\n",
            "210/210 [==============================] - 5s 23ms/step - loss: 0.4521 - accuracy: 0.8393 - val_loss: 0.7709 - val_accuracy: 0.7204\n",
            "Epoch 11/100\n",
            "210/210 [==============================] - 5s 24ms/step - loss: 0.4926 - accuracy: 0.8166 - val_loss: 1.1215 - val_accuracy: 0.6452\n",
            "Epoch 12/100\n",
            "210/210 [==============================] - 5s 23ms/step - loss: 0.4406 - accuracy: 0.8387 - val_loss: 0.4184 - val_accuracy: 0.8226\n",
            "Epoch 13/100\n",
            "210/210 [==============================] - 5s 23ms/step - loss: 0.4200 - accuracy: 0.8357 - val_loss: 0.6855 - val_accuracy: 0.7957\n",
            "Epoch 14/100\n",
            "210/210 [==============================] - 5s 23ms/step - loss: 0.3738 - accuracy: 0.8650 - val_loss: 0.6837 - val_accuracy: 0.7634\n",
            "Epoch 15/100\n",
            "210/210 [==============================] - 5s 23ms/step - loss: 0.3349 - accuracy: 0.8823 - val_loss: 0.5603 - val_accuracy: 0.8226\n",
            "Epoch 16/100\n",
            "210/210 [==============================] - 5s 24ms/step - loss: 0.3639 - accuracy: 0.8686 - val_loss: 0.3779 - val_accuracy: 0.8763\n",
            "Epoch 17/100\n",
            "210/210 [==============================] - 5s 24ms/step - loss: 0.3861 - accuracy: 0.8584 - val_loss: 0.4939 - val_accuracy: 0.8011\n",
            "Epoch 18/100\n",
            "210/210 [==============================] - 5s 24ms/step - loss: 0.2939 - accuracy: 0.8913 - val_loss: 0.3804 - val_accuracy: 0.8710\n",
            "Epoch 19/100\n",
            "210/210 [==============================] - 5s 23ms/step - loss: 0.2865 - accuracy: 0.9008 - val_loss: 0.4076 - val_accuracy: 0.8710\n",
            "Epoch 20/100\n",
            "210/210 [==============================] - 5s 23ms/step - loss: 0.3144 - accuracy: 0.8877 - val_loss: 1.0456 - val_accuracy: 0.7473\n",
            "Epoch 21/100\n",
            "210/210 [==============================] - 5s 23ms/step - loss: 0.2715 - accuracy: 0.9056 - val_loss: 0.7988 - val_accuracy: 0.7366\n",
            "Epoch 22/100\n",
            "210/210 [==============================] - 5s 23ms/step - loss: 0.2726 - accuracy: 0.8990 - val_loss: 0.3891 - val_accuracy: 0.8387\n",
            "Epoch 23/100\n",
            "210/210 [==============================] - 5s 23ms/step - loss: 0.2534 - accuracy: 0.9176 - val_loss: 0.3216 - val_accuracy: 0.8871\n",
            "Epoch 24/100\n",
            "210/210 [==============================] - 5s 23ms/step - loss: 0.2439 - accuracy: 0.9146 - val_loss: 0.4133 - val_accuracy: 0.8602\n",
            "Epoch 25/100\n",
            "210/210 [==============================] - 5s 23ms/step - loss: 0.2206 - accuracy: 0.9176 - val_loss: 0.6675 - val_accuracy: 0.8118\n",
            "Epoch 26/100\n",
            "210/210 [==============================] - 5s 23ms/step - loss: 0.1776 - accuracy: 0.9403 - val_loss: 0.4685 - val_accuracy: 0.8333\n",
            "Epoch 27/100\n",
            "210/210 [==============================] - 5s 23ms/step - loss: 0.2359 - accuracy: 0.9182 - val_loss: 0.9774 - val_accuracy: 0.7312\n",
            "Epoch 28/100\n",
            "210/210 [==============================] - 5s 23ms/step - loss: 0.1925 - accuracy: 0.9265 - val_loss: 0.6631 - val_accuracy: 0.7957\n",
            "Epoch 29/100\n",
            "210/210 [==============================] - 5s 24ms/step - loss: 0.1689 - accuracy: 0.9397 - val_loss: 0.7489 - val_accuracy: 0.7796\n",
            "Epoch 30/100\n",
            "210/210 [==============================] - 5s 23ms/step - loss: 0.1800 - accuracy: 0.9427 - val_loss: 0.3302 - val_accuracy: 0.8871\n",
            "Epoch 31/100\n",
            "210/210 [==============================] - 5s 23ms/step - loss: 0.1687 - accuracy: 0.9367 - val_loss: 0.3426 - val_accuracy: 0.8763\n",
            "Epoch 32/100\n",
            "210/210 [==============================] - 5s 23ms/step - loss: 0.1822 - accuracy: 0.9331 - val_loss: 0.3730 - val_accuracy: 0.8602\n",
            "Epoch 33/100\n",
            "210/210 [==============================] - 5s 23ms/step - loss: 0.2120 - accuracy: 0.9176 - val_loss: 0.3321 - val_accuracy: 0.9140\n",
            "Epoch 34/100\n",
            "210/210 [==============================] - 5s 23ms/step - loss: 0.1729 - accuracy: 0.9373 - val_loss: 0.5571 - val_accuracy: 0.7849\n",
            "Epoch 35/100\n",
            "210/210 [==============================] - 5s 23ms/step - loss: 0.1501 - accuracy: 0.9498 - val_loss: 0.4017 - val_accuracy: 0.8817\n",
            "Epoch 36/100\n",
            "210/210 [==============================] - 5s 23ms/step - loss: 0.1626 - accuracy: 0.9486 - val_loss: 0.7160 - val_accuracy: 0.8011\n",
            "Epoch 37/100\n",
            "210/210 [==============================] - 5s 23ms/step - loss: 0.1490 - accuracy: 0.9474 - val_loss: 0.4766 - val_accuracy: 0.8441\n",
            "Epoch 38/100\n",
            "210/210 [==============================] - 5s 23ms/step - loss: 0.1441 - accuracy: 0.9498 - val_loss: 0.4868 - val_accuracy: 0.8387\n",
            "Epoch 39/100\n",
            "210/210 [==============================] - 5s 24ms/step - loss: 0.1329 - accuracy: 0.9510 - val_loss: 0.3043 - val_accuracy: 0.8925\n",
            "Epoch 40/100\n",
            "210/210 [==============================] - 5s 24ms/step - loss: 0.1425 - accuracy: 0.9522 - val_loss: 0.2283 - val_accuracy: 0.9086\n",
            "Epoch 41/100\n",
            "210/210 [==============================] - 5s 23ms/step - loss: 0.1293 - accuracy: 0.9576 - val_loss: 0.4003 - val_accuracy: 0.8978\n",
            "Epoch 42/100\n",
            "210/210 [==============================] - 5s 23ms/step - loss: 0.1496 - accuracy: 0.9516 - val_loss: 0.5502 - val_accuracy: 0.8441\n",
            "Epoch 43/100\n",
            "210/210 [==============================] - 5s 23ms/step - loss: 0.1205 - accuracy: 0.9600 - val_loss: 0.2902 - val_accuracy: 0.8925\n",
            "Epoch 44/100\n",
            "210/210 [==============================] - 5s 23ms/step - loss: 0.1251 - accuracy: 0.9522 - val_loss: 0.5205 - val_accuracy: 0.8333\n",
            "Epoch 45/100\n",
            "210/210 [==============================] - 5s 23ms/step - loss: 0.1200 - accuracy: 0.9528 - val_loss: 0.4243 - val_accuracy: 0.8925\n",
            "Epoch 46/100\n",
            "210/210 [==============================] - 5s 23ms/step - loss: 0.1096 - accuracy: 0.9582 - val_loss: 0.2096 - val_accuracy: 0.9301\n",
            "Epoch 47/100\n",
            "210/210 [==============================] - 5s 23ms/step - loss: 0.1377 - accuracy: 0.9516 - val_loss: 0.9957 - val_accuracy: 0.7204\n",
            "Epoch 48/100\n",
            "210/210 [==============================] - 5s 23ms/step - loss: 0.1333 - accuracy: 0.9522 - val_loss: 0.3429 - val_accuracy: 0.8925\n",
            "Epoch 49/100\n",
            "210/210 [==============================] - 5s 23ms/step - loss: 0.1024 - accuracy: 0.9648 - val_loss: 0.3688 - val_accuracy: 0.8710\n",
            "Epoch 50/100\n",
            "210/210 [==============================] - 5s 23ms/step - loss: 0.0932 - accuracy: 0.9636 - val_loss: 0.2011 - val_accuracy: 0.9462\n",
            "Epoch 51/100\n",
            "210/210 [==============================] - 5s 23ms/step - loss: 0.0980 - accuracy: 0.9618 - val_loss: 0.2571 - val_accuracy: 0.9140\n",
            "Epoch 52/100\n",
            "210/210 [==============================] - 5s 24ms/step - loss: 0.0764 - accuracy: 0.9761 - val_loss: 0.1704 - val_accuracy: 0.9462\n",
            "Epoch 53/100\n",
            "210/210 [==============================] - 5s 23ms/step - loss: 0.1242 - accuracy: 0.9612 - val_loss: 0.3869 - val_accuracy: 0.8871\n",
            "Epoch 54/100\n",
            "210/210 [==============================] - 5s 23ms/step - loss: 0.1115 - accuracy: 0.9618 - val_loss: 0.1901 - val_accuracy: 0.9462\n",
            "Epoch 55/100\n",
            "210/210 [==============================] - 5s 23ms/step - loss: 0.0920 - accuracy: 0.9689 - val_loss: 0.2243 - val_accuracy: 0.9516\n",
            "Epoch 56/100\n",
            "210/210 [==============================] - 5s 23ms/step - loss: 0.1238 - accuracy: 0.9558 - val_loss: 0.2672 - val_accuracy: 0.9247\n",
            "Epoch 57/100\n",
            "210/210 [==============================] - 5s 23ms/step - loss: 0.0998 - accuracy: 0.9671 - val_loss: 0.4410 - val_accuracy: 0.8710\n",
            "Epoch 58/100\n",
            "210/210 [==============================] - 5s 23ms/step - loss: 0.0619 - accuracy: 0.9785 - val_loss: 0.2994 - val_accuracy: 0.8978\n",
            "Epoch 59/100\n",
            "210/210 [==============================] - 5s 23ms/step - loss: 0.0970 - accuracy: 0.9624 - val_loss: 0.9974 - val_accuracy: 0.7312\n",
            "Epoch 60/100\n",
            "210/210 [==============================] - 5s 23ms/step - loss: 0.1105 - accuracy: 0.9600 - val_loss: 0.2681 - val_accuracy: 0.8925\n",
            "Epoch 61/100\n",
            "210/210 [==============================] - 5s 23ms/step - loss: 0.0764 - accuracy: 0.9761 - val_loss: 0.4135 - val_accuracy: 0.8763\n",
            "Epoch 62/100\n",
            "210/210 [==============================] - 5s 23ms/step - loss: 0.1077 - accuracy: 0.9636 - val_loss: 0.3070 - val_accuracy: 0.9247\n",
            "Epoch 63/100\n",
            "210/210 [==============================] - 5s 23ms/step - loss: 0.0836 - accuracy: 0.9707 - val_loss: 0.1951 - val_accuracy: 0.9355\n",
            "Epoch 64/100\n",
            "210/210 [==============================] - 5s 23ms/step - loss: 0.0539 - accuracy: 0.9809 - val_loss: 0.2804 - val_accuracy: 0.9194\n",
            "Epoch 65/100\n",
            "210/210 [==============================] - 5s 23ms/step - loss: 0.1035 - accuracy: 0.9665 - val_loss: 0.5181 - val_accuracy: 0.8602\n",
            "Epoch 66/100\n",
            "210/210 [==============================] - 5s 24ms/step - loss: 0.0814 - accuracy: 0.9749 - val_loss: 0.8676 - val_accuracy: 0.7527\n",
            "Epoch 67/100\n",
            "210/210 [==============================] - 5s 24ms/step - loss: 0.0664 - accuracy: 0.9731 - val_loss: 0.2311 - val_accuracy: 0.9409\n",
            "Epoch 68/100\n",
            "210/210 [==============================] - 5s 24ms/step - loss: 0.0641 - accuracy: 0.9767 - val_loss: 0.2861 - val_accuracy: 0.9032\n",
            "Epoch 69/100\n",
            "210/210 [==============================] - 5s 24ms/step - loss: 0.0925 - accuracy: 0.9701 - val_loss: 0.1428 - val_accuracy: 0.9301\n",
            "Epoch 70/100\n",
            "210/210 [==============================] - 5s 23ms/step - loss: 0.0587 - accuracy: 0.9833 - val_loss: 0.1916 - val_accuracy: 0.9409\n",
            "Epoch 71/100\n",
            "210/210 [==============================] - 5s 23ms/step - loss: 0.0811 - accuracy: 0.9719 - val_loss: 0.2711 - val_accuracy: 0.9355\n",
            "Epoch 72/100\n",
            "210/210 [==============================] - 5s 23ms/step - loss: 0.0787 - accuracy: 0.9689 - val_loss: 0.3726 - val_accuracy: 0.9032\n",
            "Epoch 73/100\n",
            "210/210 [==============================] - 5s 23ms/step - loss: 0.0762 - accuracy: 0.9749 - val_loss: 0.1883 - val_accuracy: 0.9570\n",
            "Epoch 74/100\n",
            "210/210 [==============================] - 5s 23ms/step - loss: 0.0425 - accuracy: 0.9827 - val_loss: 0.1795 - val_accuracy: 0.9624\n",
            "Epoch 75/100\n",
            "210/210 [==============================] - 5s 23ms/step - loss: 0.0321 - accuracy: 0.9869 - val_loss: 0.2393 - val_accuracy: 0.9301\n",
            "Epoch 76/100\n",
            "210/210 [==============================] - 5s 23ms/step - loss: 0.0850 - accuracy: 0.9659 - val_loss: 0.8160 - val_accuracy: 0.7957\n",
            "Epoch 77/100\n",
            "210/210 [==============================] - 5s 23ms/step - loss: 0.0495 - accuracy: 0.9833 - val_loss: 0.2519 - val_accuracy: 0.9140\n",
            "Epoch 78/100\n",
            "210/210 [==============================] - 5s 24ms/step - loss: 0.0545 - accuracy: 0.9833 - val_loss: 0.3116 - val_accuracy: 0.9086\n",
            "Epoch 79/100\n",
            "210/210 [==============================] - 5s 23ms/step - loss: 0.0622 - accuracy: 0.9791 - val_loss: 0.2790 - val_accuracy: 0.9194\n",
            "Epoch 80/100\n",
            "210/210 [==============================] - 5s 23ms/step - loss: 0.0952 - accuracy: 0.9695 - val_loss: 0.2010 - val_accuracy: 0.9462\n",
            "Epoch 81/100\n",
            "210/210 [==============================] - 5s 23ms/step - loss: 0.0684 - accuracy: 0.9761 - val_loss: 0.3216 - val_accuracy: 0.9032\n",
            "Epoch 82/100\n",
            "210/210 [==============================] - 5s 23ms/step - loss: 0.0627 - accuracy: 0.9791 - val_loss: 0.3046 - val_accuracy: 0.9086\n",
            "Epoch 83/100\n",
            "210/210 [==============================] - 5s 23ms/step - loss: 0.0756 - accuracy: 0.9743 - val_loss: 0.2768 - val_accuracy: 0.9086\n",
            "Epoch 84/100\n",
            "210/210 [==============================] - 5s 23ms/step - loss: 0.0658 - accuracy: 0.9779 - val_loss: 0.2391 - val_accuracy: 0.9301\n",
            "Epoch 85/100\n",
            "210/210 [==============================] - 5s 23ms/step - loss: 0.0607 - accuracy: 0.9791 - val_loss: 0.1427 - val_accuracy: 0.9516\n",
            "Epoch 86/100\n",
            "210/210 [==============================] - 5s 23ms/step - loss: 0.0624 - accuracy: 0.9797 - val_loss: 0.1529 - val_accuracy: 0.9570\n",
            "Epoch 87/100\n",
            "210/210 [==============================] - 5s 23ms/step - loss: 0.0463 - accuracy: 0.9845 - val_loss: 0.2571 - val_accuracy: 0.9355\n",
            "Epoch 88/100\n",
            "210/210 [==============================] - 5s 23ms/step - loss: 0.0528 - accuracy: 0.9803 - val_loss: 0.2663 - val_accuracy: 0.9247\n",
            "Epoch 89/100\n",
            "210/210 [==============================] - 5s 23ms/step - loss: 0.0636 - accuracy: 0.9755 - val_loss: 0.4289 - val_accuracy: 0.9032\n",
            "Epoch 90/100\n",
            "210/210 [==============================] - 5s 23ms/step - loss: 0.0505 - accuracy: 0.9863 - val_loss: 0.2091 - val_accuracy: 0.9355\n",
            "Epoch 91/100\n",
            "210/210 [==============================] - 5s 23ms/step - loss: 0.0543 - accuracy: 0.9797 - val_loss: 0.2924 - val_accuracy: 0.9086\n",
            "Epoch 92/100\n",
            "210/210 [==============================] - 5s 23ms/step - loss: 0.0337 - accuracy: 0.9916 - val_loss: 0.1945 - val_accuracy: 0.9247\n",
            "Epoch 93/100\n",
            "210/210 [==============================] - 5s 23ms/step - loss: 0.0281 - accuracy: 0.9916 - val_loss: 0.2902 - val_accuracy: 0.8817\n",
            "Epoch 94/100\n",
            "210/210 [==============================] - 5s 23ms/step - loss: 0.0583 - accuracy: 0.9833 - val_loss: 0.1378 - val_accuracy: 0.9570\n",
            "Epoch 95/100\n",
            "210/210 [==============================] - 5s 23ms/step - loss: 0.0466 - accuracy: 0.9815 - val_loss: 0.4977 - val_accuracy: 0.8548\n",
            "Epoch 96/100\n",
            "210/210 [==============================] - 5s 23ms/step - loss: 0.0784 - accuracy: 0.9719 - val_loss: 0.2125 - val_accuracy: 0.9194\n",
            "Epoch 97/100\n",
            "210/210 [==============================] - 5s 23ms/step - loss: 0.0597 - accuracy: 0.9821 - val_loss: 0.2078 - val_accuracy: 0.9462\n",
            "Epoch 98/100\n",
            "210/210 [==============================] - 5s 23ms/step - loss: 0.0612 - accuracy: 0.9785 - val_loss: 0.2170 - val_accuracy: 0.9409\n",
            "Epoch 99/100\n",
            "210/210 [==============================] - 5s 23ms/step - loss: 0.0432 - accuracy: 0.9869 - val_loss: 0.1871 - val_accuracy: 0.9462\n",
            "Epoch 100/100\n",
            "210/210 [==============================] - 5s 23ms/step - loss: 0.0572 - accuracy: 0.9785 - val_loss: 0.4228 - val_accuracy: 0.8763\n"
          ]
        }
      ]
    },
    {
      "cell_type": "code",
      "source": [
        "# Evaluate the trained model.\n",
        "model_evaluation_history = LRCN_model.evaluate(features_test, labels_test)"
      ],
      "metadata": {
        "id": "hhLgaWvCxZ-e",
        "outputId": "9a8db37c-8292-421c-e0a7-fb61271a44ed",
        "colab": {
          "base_uri": "https://localhost:8080/"
        }
      },
      "execution_count": 14,
      "outputs": [
        {
          "output_type": "stream",
          "name": "stdout",
          "text": [
            "7/7 [==============================] - 0s 35ms/step - loss: 0.7363 - accuracy: 0.8261\n"
          ]
        }
      ]
    },
    {
      "cell_type": "code",
      "source": [
        "# Get the loss and accuracy from model_evaluation_history.\n",
        "model_evaluation_loss, model_evaluation_accuracy = model_evaluation_history\n",
        "\n",
        "# Define the string date format.\n",
        "# Get the current Date and Time in a DateTime Object.\n",
        "# Convert the DateTime object to string according to the style mentioned in date_time_format string.\n",
        "date_time_format = '%Y_%m_%d__%H_%M_%S'\n",
        "current_date_time_dt = dt.datetime.now()\n",
        "current_date_time_string = dt.datetime.strftime(current_date_time_dt, date_time_format)\n",
        "    \n",
        "# Define a useful name for our model to make it easy for us while navigating through multiple saved models.\n",
        "model_file_name = f'landmark3_lr=0.001___Accuracy_{model_evaluation_accuracy}___Loss_{model_evaluation_loss}.h5'\n",
        "\n",
        "# Save the Model.\n",
        "#LRCN_model.save('/content/drive/My Drive/marwa/saved_models/lrcn/'+model_file_name)"
      ],
      "metadata": {
        "id": "g8wWe5lR1GRp"
      },
      "execution_count": 15,
      "outputs": []
    },
    {
      "cell_type": "code",
      "source": [
        "def plot_metric(model_training_history, metric_name_1, metric_name_2, plot_name):\n",
        "    '''\n",
        "    This function will plot the metrics passed to it in a graph.\n",
        "    Args:\n",
        "        model_training_history: A history object containing a record of training and validation \n",
        "                                loss values and metrics values at successive epochs\n",
        "        metric_name_1:          The name of the first metric that needs to be plotted in the graph.\n",
        "        metric_name_2:          The name of the second metric that needs to be plotted in the graph.\n",
        "        plot_name:              The title of the graph.\n",
        "    '''\n",
        "    \n",
        "    # Get metric values using metric names as identifiers.\n",
        "    metric_value_1 = model_training_history.history[metric_name_1]\n",
        "    metric_value_2 = model_training_history.history[metric_name_2]\n",
        "    \n",
        "    # Construct a range object which will be used as x-axis (horizontal plane) of the graph.\n",
        "    epochs = range(len(metric_value_1))\n",
        "\n",
        "    # Plot the Graph.\n",
        "    plt.plot(epochs, metric_value_1, 'blue', label = metric_name_1)\n",
        "    plt.plot(epochs, metric_value_2, 'red', label = metric_name_2)\n",
        "\n",
        "    # Add title to the plot.\n",
        "    plt.title(str(plot_name))\n",
        "\n",
        "    # Add legend to the plot.\n",
        "    plt.legend()"
      ],
      "metadata": {
        "id": "ZiSh_i871KAd"
      },
      "execution_count": 16,
      "outputs": []
    },
    {
      "cell_type": "code",
      "source": [
        "# Visualize the training and validation loss metrices.\n",
        "plot_metric(LRCN_model_training_history, 'loss', 'val_loss', 'Total Loss vs Total Validation Loss')"
      ],
      "metadata": {
        "id": "7HjkIAJj1Ncw",
        "outputId": "99f5cc76-96e9-465b-a0cc-c3b01806f785",
        "colab": {
          "base_uri": "https://localhost:8080/",
          "height": 281
        }
      },
      "execution_count": 17,
      "outputs": [
        {
          "output_type": "display_data",
          "data": {
            "text/plain": [
              "<Figure size 432x288 with 1 Axes>"
            ],
            "image/png": "[encoded data removed]"
          },
          "metadata": {
            "needs_background": "light"
          }
        }
      ]
    },
    {
      "cell_type": "code",
      "source": [
        "\n",
        "# Visualize the training and validation accuracy metrices.\n",
        "plot_metric(LRCN_model_training_history, 'accuracy', 'val_accuracy', 'Total Accuracy vs Total Validation Accuracy')"
      ],
      "metadata": {
        "id": "sYTDhDnq1Qce",
        "outputId": "6b1ec679-4ee0-41c1-a5f3-d5f4373a9223",
        "colab": {
          "base_uri": "https://localhost:8080/",
          "height": 281
        }
      },
      "execution_count": 18,
      "outputs": [
        {
          "output_type": "display_data",
          "data": {
            "text/plain": [
              "<Figure size 432x288 with 1 Axes>"
            ],
            "image/png": "[encoded data removed]"
          },
          "metadata": {
            "needs_background": "light"
          }
        }
      ]
    },
    {
      "cell_type": "code",
      "source": [
        "predictions =  LRCN_model.predict(features_test)\n",
        "predictions"
      ],
      "metadata": {
        "id": "KrJfAkU41SlN",
        "outputId": "571c2bab-34d4-450d-e6d3-0c98c8fda4c5",
        "colab": {
          "base_uri": "https://localhost:8080/"
        }
      },
      "execution_count": 19,
      "outputs": [
        {
          "output_type": "execute_result",
          "data": {
            "text/plain": [
              "array([[6.8946213e-01, 2.7549130e-04, 1.7547564e-04, 2.3897111e-01,\n",
              "        3.9142412e-03, 6.7201495e-02],\n",
              "       [3.4235645e-06, 1.3703620e-04, 3.1310232e-05, 2.0231130e-04,\n",
              "        2.4646536e-02, 9.7497934e-01],\n",
              "       [1.2106725e-06, 2.3569639e-05, 9.9992824e-01, 3.6635163e-06,\n",
              "        3.4987683e-05, 8.2949891e-06],\n",
              "       ...,\n",
              "       [2.2230513e-05, 7.9587902e-05, 3.8414486e-04, 1.5707428e-03,\n",
              "        8.5136138e-02, 9.1280711e-01],\n",
              "       [6.0443053e-05, 8.5932988e-06, 5.4024775e-05, 1.0335067e-03,\n",
              "        3.4579897e-01, 6.5304440e-01],\n",
              "       [2.8952025e-04, 6.8866128e-01, 3.0865157e-01, 8.3607410e-05,\n",
              "        1.5259658e-04, 2.1613345e-03]], dtype=float32)"
            ]
          },
          "metadata": {},
          "execution_count": 19
        }
      ]
    },
    {
      "cell_type": "code",
      "source": [
        "preds=predictions.argmax(axis=1)\n",
        "preds"
      ],
      "metadata": {
        "id": "IWZvTQCa1W6M",
        "outputId": "2c424f4b-b1e1-4d5b-a55e-563f71e4c890",
        "colab": {
          "base_uri": "https://localhost:8080/"
        }
      },
      "execution_count": 20,
      "outputs": [
        {
          "output_type": "execute_result",
          "data": {
            "text/plain": [
              "array([0, 5, 2, 3, 5, 2, 5, 1, 4, 5, 5, 1, 4, 0, 4, 5, 4, 5, 1, 1, 5, 2,\n",
              "       0, 2, 2, 5, 5, 5, 5, 5, 5, 4, 5, 0, 2, 2, 4, 1, 5, 4, 2, 2, 1, 5,\n",
              "       2, 2, 5, 5, 5, 5, 4, 2, 1, 3, 3, 0, 5, 0, 2, 5, 4, 4, 5, 3, 1, 3,\n",
              "       2, 0, 5, 1, 1, 2, 5, 5, 5, 4, 0, 3, 4, 4, 5, 4, 5, 0, 5, 5, 2, 5,\n",
              "       3, 5, 5, 1, 0, 1, 5, 5, 1, 2, 5, 3, 4, 3, 0, 5, 4, 3, 2, 1, 4, 1,\n",
              "       5, 2, 0, 1, 4, 0, 4, 1, 1, 3, 1, 5, 1, 5, 1, 2, 3, 2, 5, 1, 2, 0,\n",
              "       1, 5, 1, 0, 5, 5, 1, 1, 2, 2, 2, 3, 2, 2, 3, 5, 0, 3, 2, 3, 5, 3,\n",
              "       1, 2, 1, 5, 3, 0, 1, 3, 3, 2, 4, 1, 3, 3, 5, 4, 4, 3, 1, 5, 3, 1,\n",
              "       5, 1, 4, 5, 4, 0, 3, 5, 3, 3, 1, 3, 3, 4, 1, 4, 3, 3, 4, 2, 3, 1,\n",
              "       4, 5, 3, 2, 5, 2, 5, 5, 1])"
            ]
          },
          "metadata": {},
          "execution_count": 20
        }
      ]
    },
    {
      "cell_type": "code",
      "source": [
        "new_preds = preds.astype(int).flatten()\n",
        "new_preds"
      ],
      "metadata": {
        "id": "0CpgXIkh1Z_v",
        "outputId": "a485d7e5-c8a7-4067-9c2c-c5121d82f55a",
        "colab": {
          "base_uri": "https://localhost:8080/"
        }
      },
      "execution_count": 21,
      "outputs": [
        {
          "output_type": "execute_result",
          "data": {
            "text/plain": [
              "array([0, 5, 2, 3, 5, 2, 5, 1, 4, 5, 5, 1, 4, 0, 4, 5, 4, 5, 1, 1, 5, 2,\n",
              "       0, 2, 2, 5, 5, 5, 5, 5, 5, 4, 5, 0, 2, 2, 4, 1, 5, 4, 2, 2, 1, 5,\n",
              "       2, 2, 5, 5, 5, 5, 4, 2, 1, 3, 3, 0, 5, 0, 2, 5, 4, 4, 5, 3, 1, 3,\n",
              "       2, 0, 5, 1, 1, 2, 5, 5, 5, 4, 0, 3, 4, 4, 5, 4, 5, 0, 5, 5, 2, 5,\n",
              "       3, 5, 5, 1, 0, 1, 5, 5, 1, 2, 5, 3, 4, 3, 0, 5, 4, 3, 2, 1, 4, 1,\n",
              "       5, 2, 0, 1, 4, 0, 4, 1, 1, 3, 1, 5, 1, 5, 1, 2, 3, 2, 5, 1, 2, 0,\n",
              "       1, 5, 1, 0, 5, 5, 1, 1, 2, 2, 2, 3, 2, 2, 3, 5, 0, 3, 2, 3, 5, 3,\n",
              "       1, 2, 1, 5, 3, 0, 1, 3, 3, 2, 4, 1, 3, 3, 5, 4, 4, 3, 1, 5, 3, 1,\n",
              "       5, 1, 4, 5, 4, 0, 3, 5, 3, 3, 1, 3, 3, 4, 1, 4, 3, 3, 4, 2, 3, 1,\n",
              "       4, 5, 3, 2, 5, 2, 5, 5, 1])"
            ]
          },
          "metadata": {},
          "execution_count": 21
        }
      ]
    },
    {
      "cell_type": "code",
      "source": [
        "\n",
        "from sklearn.metrics import classification_report, confusion_matrix,accuracy_score\n",
        "import seaborn as sn\n",
        "import pandas as pd\n",
        "import numpy as np\n",
        "new_labels=np.argmax(labels_test, axis=1)\n",
        "print(classification_report(new_labels,new_preds))\n",
        "\n",
        "acc = float(accuracy_score(new_labels,new_preds))*100\n",
        "print(\"----accuracy score %s ----\" % acc)\n",
        "\n",
        "cm = confusion_matrix(new_labels,new_preds)\n",
        "#df_cm = pd.DataFrame(cm)\n",
        "class_names = ['neutral','calm', 'happy','sad','angry', 'fearful' ]\n",
        "df_cm = pd.DataFrame(cm, index=class_names, columns=class_names,)\n",
        "sn.heatmap(df_cm, annot=True, fmt='')\n",
        "plt.show()"
      ],
      "metadata": {
        "id": "7U3HwUqc1cft",
        "outputId": "bc0fbb8b-6876-4ed1-cbac-0ea6102b4a3a",
        "colab": {
          "base_uri": "https://localhost:8080/",
          "height": 508
        }
      },
      "execution_count": 22,
      "outputs": [
        {
          "output_type": "stream",
          "name": "stdout",
          "text": [
            "              precision    recall  f1-score   support\n",
            "\n",
            "           0       0.94      0.63      0.76        27\n",
            "           1       0.95      0.80      0.86        44\n",
            "           2       0.88      0.97      0.92        30\n",
            "           3       0.76      0.74      0.75        34\n",
            "           4       1.00      0.82      0.90        34\n",
            "           5       0.64      0.97      0.77        38\n",
            "\n",
            "    accuracy                           0.83       207\n",
            "   macro avg       0.86      0.82      0.83       207\n",
            "weighted avg       0.86      0.83      0.83       207\n",
            "\n",
            "----accuracy score 82.6086956521739 ----\n"
          ]
        },
        {
          "output_type": "display_data",
          "data": {
            "text/plain": [
              "<Figure size 432x288 with 2 Axes>"
            ],
            "image/png": "[encoded data removed]"
          },
          "metadata": {
            "needs_background": "light"
          }
        }
      ]
    },
    {
      "cell_type": "code",
      "source": [
        ""
      ],
      "metadata": {
        "id": "pVlEoCq0-0n3"
      },
      "execution_count": 22,
      "outputs": []
    }
  ]
}