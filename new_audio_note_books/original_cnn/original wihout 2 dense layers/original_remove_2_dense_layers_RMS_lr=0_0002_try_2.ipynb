{
  "nbformat": 4,
  "nbformat_minor": 0,
  "metadata": {
    "colab": {
      "name": "original remove 2 dense layers RMS lr=0.0002 try 2.ipynb",
      "provenance": [],
      "collapsed_sections": []
    },
    "kernelspec": {
      "name": "python3",
      "display_name": "Python 3"
    },
    "language_info": {
      "name": "python"
    },
    "accelerator": "GPU"
  },
  "cells": [
    {
      "cell_type": "code",
      "execution_count": 1,
      "metadata": {
        "colab": {
          "base_uri": "https://localhost:8080/"
        },
        "id": "9SRCO-a_AlH5",
        "outputId": "23573dba-28d9-4d87-9efd-7342313594f8"
      },
      "outputs": [
        {
          "output_type": "stream",
          "name": "stdout",
          "text": [
            "Drive already mounted at /content/drive; to attempt to forcibly remount, call drive.mount(\"/content/drive\", force_remount=True).\n"
          ]
        }
      ],
      "source": [
        "from google.colab import drive\n",
        "drive.mount('/content/drive')"
      ]
    },
    {
      "cell_type": "code",
      "source": [
        "!pip install librosa"
      ],
      "metadata": {
        "colab": {
          "base_uri": "https://localhost:8080/"
        },
        "id": "5Lo4mUwG9RMd",
        "outputId": "ee67d0af-ccc5-4765-863e-4fda3504a37f"
      },
      "execution_count": 2,
      "outputs": [
        {
          "output_type": "stream",
          "name": "stdout",
          "text": [
            "Looking in indexes: https://pypi.org/simple, https://us-python.pkg.dev/colab-wheels/public/simple/\n",
            "Requirement already satisfied: librosa in /usr/local/lib/python3.7/dist-packages (0.8.1)\n",
            "Requirement already satisfied: pooch>=1.0 in /usr/local/lib/python3.7/dist-packages (from librosa) (1.6.0)\n",
            "Requirement already satisfied: scipy>=1.0.0 in /usr/local/lib/python3.7/dist-packages (from librosa) (1.4.1)\n",
            "Requirement already satisfied: audioread>=2.0.0 in /usr/local/lib/python3.7/dist-packages (from librosa) (2.1.9)\n",
            "Requirement already satisfied: scikit-learn!=0.19.0,>=0.14.0 in /usr/local/lib/python3.7/dist-packages (from librosa) (1.0.2)\n",
            "Requirement already satisfied: packaging>=20.0 in /usr/local/lib/python3.7/dist-packages (from librosa) (21.3)\n",
            "Requirement already satisfied: decorator>=3.0.0 in /usr/local/lib/python3.7/dist-packages (from librosa) (4.4.2)\n",
            "Requirement already satisfied: numba>=0.43.0 in /usr/local/lib/python3.7/dist-packages (from librosa) (0.51.2)\n",
            "Requirement already satisfied: soundfile>=0.10.2 in /usr/local/lib/python3.7/dist-packages (from librosa) (0.10.3.post1)\n",
            "Requirement already satisfied: joblib>=0.14 in /usr/local/lib/python3.7/dist-packages (from librosa) (1.1.0)\n",
            "Requirement already satisfied: resampy>=0.2.2 in /usr/local/lib/python3.7/dist-packages (from librosa) (0.2.2)\n",
            "Requirement already satisfied: numpy>=1.15.0 in /usr/local/lib/python3.7/dist-packages (from librosa) (1.21.6)\n",
            "Requirement already satisfied: setuptools in /usr/local/lib/python3.7/dist-packages (from numba>=0.43.0->librosa) (57.4.0)\n",
            "Requirement already satisfied: llvmlite<0.35,>=0.34.0.dev0 in /usr/local/lib/python3.7/dist-packages (from numba>=0.43.0->librosa) (0.34.0)\n",
            "Requirement already satisfied: pyparsing!=3.0.5,>=2.0.2 in /usr/local/lib/python3.7/dist-packages (from packaging>=20.0->librosa) (3.0.9)\n",
            "Requirement already satisfied: requests>=2.19.0 in /usr/local/lib/python3.7/dist-packages (from pooch>=1.0->librosa) (2.23.0)\n",
            "Requirement already satisfied: appdirs>=1.3.0 in /usr/local/lib/python3.7/dist-packages (from pooch>=1.0->librosa) (1.4.4)\n",
            "Requirement already satisfied: idna<3,>=2.5 in /usr/local/lib/python3.7/dist-packages (from requests>=2.19.0->pooch>=1.0->librosa) (2.10)\n",
            "Requirement already satisfied: urllib3!=1.25.0,!=1.25.1,<1.26,>=1.21.1 in /usr/local/lib/python3.7/dist-packages (from requests>=2.19.0->pooch>=1.0->librosa) (1.24.3)\n",
            "Requirement already satisfied: certifi>=2017.4.17 in /usr/local/lib/python3.7/dist-packages (from requests>=2.19.0->pooch>=1.0->librosa) (2022.5.18.1)\n",
            "Requirement already satisfied: chardet<4,>=3.0.2 in /usr/local/lib/python3.7/dist-packages (from requests>=2.19.0->pooch>=1.0->librosa) (3.0.4)\n",
            "Requirement already satisfied: six>=1.3 in /usr/local/lib/python3.7/dist-packages (from resampy>=0.2.2->librosa) (1.15.0)\n",
            "Requirement already satisfied: threadpoolctl>=2.0.0 in /usr/local/lib/python3.7/dist-packages (from scikit-learn!=0.19.0,>=0.14.0->librosa) (3.1.0)\n",
            "Requirement already satisfied: cffi>=1.0 in /usr/local/lib/python3.7/dist-packages (from soundfile>=0.10.2->librosa) (1.15.0)\n",
            "Requirement already satisfied: pycparser in /usr/local/lib/python3.7/dist-packages (from cffi>=1.0->soundfile>=0.10.2->librosa) (2.21)\n"
          ]
        }
      ]
    },
    {
      "cell_type": "code",
      "metadata": {
        "id": "HJjcbxwy46bG",
        "colab": {
          "base_uri": "https://localhost:8080/",
          "height": 17
        },
        "outputId": "6c884518-942f-4d8d-c239-2598260b604a"
      },
      "source": [
        "# Orignial Notebook: https://github.com/MITESHPUTHRANNEU/Speech-Emotion-Analyzer/blob/master/final_results_gender_test.ipynb\n",
        "# This notebook author: Reza Chu\n",
        "# Last Editing Date: 31st May 2019\n",
        "\n",
        "## Python\n",
        "import os\n",
        "import random\n",
        "import sys\n",
        "\n",
        "import IPython\n",
        "from IPython.display import Audio\n",
        "from IPython.display import Image\n",
        "import matplotlib.pyplot as plt\n",
        "\n",
        "## Package\n",
        "import glob \n",
        "import keras\n",
        "import IPython.display as ipd\n",
        "import librosa\n",
        "import librosa.display\n",
        "import matplotlib.pyplot as plt\n",
        "import numpy as np\n",
        "import pandas as pd\n",
        "import plotly.graph_objs as go\n",
        "import plotly.offline as py\n",
        "import plotly.tools as tls\n",
        "import seaborn as sns\n",
        "import scipy.io.wavfile\n",
        "import tensorflow as tf\n",
        "py.init_notebook_mode(connected=True)\n",
        "\n",
        "## Keras\n",
        "from keras import regularizers\n",
        "from keras.callbacks import ModelCheckpoint, LearningRateScheduler, EarlyStopping\n",
        "from keras.callbacks import  History, ReduceLROnPlateau, CSVLogger\n",
        "from keras.models import Model, Sequential\n",
        "from keras.layers import Dense, Embedding, LSTM\n",
        "from keras.layers import Input, Flatten, Dropout, Activation, BatchNormalization\n",
        "from keras.layers import Conv1D, MaxPooling1D, AveragePooling1D\n",
        "from keras.preprocessing import sequence\n",
        "from keras.preprocessing.sequence import pad_sequences\n",
        "from keras.preprocessing.text import Tokenizer\n",
        "from keras.utils import np_utils\n",
        "from tensorflow.keras.utils import to_categorical\n",
        "\n",
        "## Sklearn\n",
        "from sklearn.metrics import confusion_matrix\n",
        "from sklearn.preprocessing import LabelEncoder\n",
        "\n",
        "## Rest\n",
        "from scipy.fftpack import fft\n",
        "from scipy import signal\n",
        "from scipy.io import wavfile\n",
        "from tqdm import tqdm\n",
        "\n",
        "input_duration=3\n",
        "# % pylab inline"
      ],
      "execution_count": 3,
      "outputs": [
        {
          "output_type": "display_data",
          "data": {
            "text/html": [
              "        <script type=\"text/javascript\">\n",
              "        window.PlotlyConfig = {MathJaxConfig: 'local'};\n",
              "        if (window.MathJax) {MathJax.Hub.Config({SVG: {font: \"STIX-Web\"}});}\n",
              "        if (typeof require !== 'undefined') {\n",
              "        require.undef(\"plotly\");\n",
              "        requirejs.config({\n",
              "            paths: {\n",
              "                'plotly': ['https://cdn.plot.ly/plotly-2.8.3.min']\n",
              "            }\n",
              "        });\n",
              "        require(['plotly'], function(Plotly) {\n",
              "            window._Plotly = Plotly;\n",
              "        });\n",
              "        }\n",
              "        </script>\n",
              "        "
            ]
          },
          "metadata": {}
        }
      ]
    },
    {
      "cell_type": "code",
      "source": [
        "# # Saving joblib files to not load them again with the loop above\n",
        "\n",
        "# import joblib\n",
        "\n",
        "# X_name = 'x.joblib'\n",
        "# y_name = 'y.joblib'\n",
        "# save_dir = '/content/drive/My Drive/graduation project/audio/paper_code/features'\n",
        "\n",
        "# savedX = joblib.dump(X, os.path.join(save_dir, X_name))\n",
        "# savedy = joblib.dump(y, os.path.join(save_dir, y_name))"
      ],
      "metadata": {
        "id": "UCzic8rlDcuk"
      },
      "execution_count": 4,
      "outputs": []
    },
    {
      "cell_type": "code",
      "source": [
        "# # Loading saved models\n",
        "import joblib\n",
        "X = joblib.load('/content/drive/My Drive/graduation project/audio/paper_code/features/x.joblib')\n",
        "y = joblib.load('/content/drive/My Drive/graduation project/audio/paper_code/features/y.joblib')"
      ],
      "metadata": {
        "id": "Q35CN6zDrzg1"
      },
      "execution_count": 5,
      "outputs": []
    },
    {
      "cell_type": "code",
      "source": [
        "X.shape"
      ],
      "metadata": {
        "colab": {
          "base_uri": "https://localhost:8080/"
        },
        "id": "7PSTurzjCo5K",
        "outputId": "b43552e6-4ec1-4fe1-a7da-9cd5901bcf55"
      },
      "execution_count": 6,
      "outputs": [
        {
          "output_type": "execute_result",
          "data": {
            "text/plain": [
              "(2068, 40)"
            ]
          },
          "metadata": {},
          "execution_count": 6
        }
      ]
    },
    {
      "cell_type": "code",
      "source": [
        "from sklearn.model_selection import train_test_split\n",
        "\n",
        "X_train, X_test, y_train, y_test = train_test_split(X,y, test_size=0.1 ,shuffle = True\n",
        "                                                    , random_state=42)\n",
        "X_train , X_valid, y_train, y_valid = train_test_split(X_train,y_train, test_size=0.1112305212 , shuffle = True \n",
        "                                                       , random_state=42)"
      ],
      "metadata": {
        "id": "Ai4Fy5cPCiq1"
      },
      "execution_count": 7,
      "outputs": []
    },
    {
      "cell_type": "code",
      "source": [
        "import numpy as np\n",
        "x_traincnn = np.expand_dims(X_train, axis=2)\n",
        "x_testcnn = np.expand_dims(X_test, axis=2)\n",
        "X_valid= np.expand_dims(X_valid, axis=2)"
      ],
      "metadata": {
        "id": "tp1Fm5K3CEXu"
      },
      "execution_count": 8,
      "outputs": []
    },
    {
      "cell_type": "code",
      "source": [
        "x_traincnn.shape, x_testcnn.shape , X_valid.shape\n",
        "#1861"
      ],
      "metadata": {
        "id": "RI0MxoIPBws5",
        "colab": {
          "base_uri": "https://localhost:8080/"
        },
        "outputId": "b7fefd2d-1e7d-43d6-ea71-55f448bc302f"
      },
      "execution_count": 9,
      "outputs": [
        {
          "output_type": "execute_result",
          "data": {
            "text/plain": [
              "((1654, 40, 1), (207, 40, 1), (207, 40, 1))"
            ]
          },
          "metadata": {},
          "execution_count": 9
        }
      ]
    },
    {
      "cell_type": "code",
      "source": [
        "!pip install tensorflow"
      ],
      "metadata": {
        "colab": {
          "base_uri": "https://localhost:8080/"
        },
        "id": "oALhiMUd9G2Y",
        "outputId": "4432aa71-26ac-47b9-bff4-cbf9b8943bbf"
      },
      "execution_count": 10,
      "outputs": [
        {
          "output_type": "stream",
          "name": "stdout",
          "text": [
            "Looking in indexes: https://pypi.org/simple, https://us-python.pkg.dev/colab-wheels/public/simple/\n",
            "Requirement already satisfied: tensorflow in /usr/local/lib/python3.7/dist-packages (2.8.2+zzzcolab20220527125636)\n",
            "Requirement already satisfied: numpy>=1.20 in /usr/local/lib/python3.7/dist-packages (from tensorflow) (1.21.6)\n",
            "Requirement already satisfied: opt-einsum>=2.3.2 in /usr/local/lib/python3.7/dist-packages (from tensorflow) (3.3.0)\n",
            "Requirement already satisfied: keras-preprocessing>=1.1.1 in /usr/local/lib/python3.7/dist-packages (from tensorflow) (1.1.2)\n",
            "Requirement already satisfied: tensorboard<2.9,>=2.8 in /usr/local/lib/python3.7/dist-packages (from tensorflow) (2.8.0)\n",
            "Requirement already satisfied: absl-py>=0.4.0 in /usr/local/lib/python3.7/dist-packages (from tensorflow) (1.0.0)\n",
            "Requirement already satisfied: flatbuffers>=1.12 in /usr/local/lib/python3.7/dist-packages (from tensorflow) (2.0)\n",
            "Requirement already satisfied: h5py>=2.9.0 in /usr/local/lib/python3.7/dist-packages (from tensorflow) (3.1.0)\n",
            "Requirement already satisfied: astunparse>=1.6.0 in /usr/local/lib/python3.7/dist-packages (from tensorflow) (1.6.3)\n",
            "Requirement already satisfied: google-pasta>=0.1.1 in /usr/local/lib/python3.7/dist-packages (from tensorflow) (0.2.0)\n",
            "Requirement already satisfied: protobuf<3.20,>=3.9.2 in /usr/local/lib/python3.7/dist-packages (from tensorflow) (3.17.3)\n",
            "Requirement already satisfied: wrapt>=1.11.0 in /usr/local/lib/python3.7/dist-packages (from tensorflow) (1.14.1)\n",
            "Requirement already satisfied: tensorflow-io-gcs-filesystem>=0.23.1 in /usr/local/lib/python3.7/dist-packages (from tensorflow) (0.26.0)\n",
            "Requirement already satisfied: tensorflow-estimator<2.9,>=2.8 in /usr/local/lib/python3.7/dist-packages (from tensorflow) (2.8.0)\n",
            "Requirement already satisfied: gast>=0.2.1 in /usr/local/lib/python3.7/dist-packages (from tensorflow) (0.5.3)\n",
            "Requirement already satisfied: setuptools in /usr/local/lib/python3.7/dist-packages (from tensorflow) (57.4.0)\n",
            "Requirement already satisfied: typing-extensions>=3.6.6 in /usr/local/lib/python3.7/dist-packages (from tensorflow) (4.2.0)\n",
            "Requirement already satisfied: keras<2.9,>=2.8.0rc0 in /usr/local/lib/python3.7/dist-packages (from tensorflow) (2.8.0)\n",
            "Requirement already satisfied: six>=1.12.0 in /usr/local/lib/python3.7/dist-packages (from tensorflow) (1.15.0)\n",
            "Requirement already satisfied: libclang>=9.0.1 in /usr/local/lib/python3.7/dist-packages (from tensorflow) (14.0.1)\n",
            "Requirement already satisfied: termcolor>=1.1.0 in /usr/local/lib/python3.7/dist-packages (from tensorflow) (1.1.0)\n",
            "Requirement already satisfied: grpcio<2.0,>=1.24.3 in /usr/local/lib/python3.7/dist-packages (from tensorflow) (1.46.3)\n",
            "Requirement already satisfied: wheel<1.0,>=0.23.0 in /usr/local/lib/python3.7/dist-packages (from astunparse>=1.6.0->tensorflow) (0.37.1)\n",
            "Requirement already satisfied: cached-property in /usr/local/lib/python3.7/dist-packages (from h5py>=2.9.0->tensorflow) (1.5.2)\n",
            "Requirement already satisfied: markdown>=2.6.8 in /usr/local/lib/python3.7/dist-packages (from tensorboard<2.9,>=2.8->tensorflow) (3.3.7)\n",
            "Requirement already satisfied: tensorboard-data-server<0.7.0,>=0.6.0 in /usr/local/lib/python3.7/dist-packages (from tensorboard<2.9,>=2.8->tensorflow) (0.6.1)\n",
            "Requirement already satisfied: requests<3,>=2.21.0 in /usr/local/lib/python3.7/dist-packages (from tensorboard<2.9,>=2.8->tensorflow) (2.23.0)\n",
            "Requirement already satisfied: google-auth-oauthlib<0.5,>=0.4.1 in /usr/local/lib/python3.7/dist-packages (from tensorboard<2.9,>=2.8->tensorflow) (0.4.6)\n",
            "Requirement already satisfied: google-auth<3,>=1.6.3 in /usr/local/lib/python3.7/dist-packages (from tensorboard<2.9,>=2.8->tensorflow) (1.35.0)\n",
            "Requirement already satisfied: werkzeug>=0.11.15 in /usr/local/lib/python3.7/dist-packages (from tensorboard<2.9,>=2.8->tensorflow) (1.0.1)\n",
            "Requirement already satisfied: tensorboard-plugin-wit>=1.6.0 in /usr/local/lib/python3.7/dist-packages (from tensorboard<2.9,>=2.8->tensorflow) (1.8.1)\n",
            "Requirement already satisfied: rsa<5,>=3.1.4 in /usr/local/lib/python3.7/dist-packages (from google-auth<3,>=1.6.3->tensorboard<2.9,>=2.8->tensorflow) (4.8)\n",
            "Requirement already satisfied: pyasn1-modules>=0.2.1 in /usr/local/lib/python3.7/dist-packages (from google-auth<3,>=1.6.3->tensorboard<2.9,>=2.8->tensorflow) (0.2.8)\n",
            "Requirement already satisfied: cachetools<5.0,>=2.0.0 in /usr/local/lib/python3.7/dist-packages (from google-auth<3,>=1.6.3->tensorboard<2.9,>=2.8->tensorflow) (4.2.4)\n",
            "Requirement already satisfied: requests-oauthlib>=0.7.0 in /usr/local/lib/python3.7/dist-packages (from google-auth-oauthlib<0.5,>=0.4.1->tensorboard<2.9,>=2.8->tensorflow) (1.3.1)\n",
            "Requirement already satisfied: importlib-metadata>=4.4 in /usr/local/lib/python3.7/dist-packages (from markdown>=2.6.8->tensorboard<2.9,>=2.8->tensorflow) (4.11.4)\n",
            "Requirement already satisfied: zipp>=0.5 in /usr/local/lib/python3.7/dist-packages (from importlib-metadata>=4.4->markdown>=2.6.8->tensorboard<2.9,>=2.8->tensorflow) (3.8.0)\n",
            "Requirement already satisfied: pyasn1<0.5.0,>=0.4.6 in /usr/local/lib/python3.7/dist-packages (from pyasn1-modules>=0.2.1->google-auth<3,>=1.6.3->tensorboard<2.9,>=2.8->tensorflow) (0.4.8)\n",
            "Requirement already satisfied: chardet<4,>=3.0.2 in /usr/local/lib/python3.7/dist-packages (from requests<3,>=2.21.0->tensorboard<2.9,>=2.8->tensorflow) (3.0.4)\n",
            "Requirement already satisfied: certifi>=2017.4.17 in /usr/local/lib/python3.7/dist-packages (from requests<3,>=2.21.0->tensorboard<2.9,>=2.8->tensorflow) (2022.5.18.1)\n",
            "Requirement already satisfied: idna<3,>=2.5 in /usr/local/lib/python3.7/dist-packages (from requests<3,>=2.21.0->tensorboard<2.9,>=2.8->tensorflow) (2.10)\n",
            "Requirement already satisfied: urllib3!=1.25.0,!=1.25.1,<1.26,>=1.21.1 in /usr/local/lib/python3.7/dist-packages (from requests<3,>=2.21.0->tensorboard<2.9,>=2.8->tensorflow) (1.24.3)\n",
            "Requirement already satisfied: oauthlib>=3.0.0 in /usr/local/lib/python3.7/dist-packages (from requests-oauthlib>=0.7.0->google-auth-oauthlib<0.5,>=0.4.1->tensorboard<2.9,>=2.8->tensorflow) (3.2.0)\n"
          ]
        }
      ]
    },
    {
      "cell_type": "code",
      "source": [
        "import keras\n",
        "import numpy as np\n",
        "import matplotlib.pyplot as plt\n",
        "import tensorflow as tf\n",
        "from keras.preprocessing import sequence\n",
        "from keras.models import Sequential\n",
        "from keras.layers import Dense, Embedding\n",
        "from tensorflow.keras.utils import to_categorical\n",
        "from keras.layers import Input, Flatten, Dropout, Activation\n",
        "from keras.layers import Conv1D, MaxPooling1D\n",
        "from keras.models import Model\n",
        "from keras.callbacks import ModelCheckpoint\n",
        "from tensorflow.keras import optimizers\n",
        "\n",
        "model = Sequential()\n",
        "\n",
        "model.add(Conv1D(128, 8,padding='same', #classifier.add(Convolution2D(64, (3, 3), padding = 'same', input_shape = (128, 128, 3), activation = 'relu'))\n",
        "                 input_shape=(40,1)))\n",
        "model.add(Activation('relu'))\n",
        "model.add(Dropout(0.3))\n",
        "model.add(MaxPooling1D(pool_size=(5)))\n",
        "\n",
        "\n",
        "model.add(Conv1D(256,8,padding='same',))\n",
        "model.add(Activation('relu'))\n",
        "model.add(Dropout(0.3))\n",
        "model.add(MaxPooling1D(pool_size=(5)))\n",
        "\n",
        "model.add(Conv1D(256,8,padding='same',))\n",
        "model.add(Activation('relu'))\n",
        "model.add(Dropout(0.3))\n",
        "#model.add(MaxPooling1D(pool_size=(5)))\n",
        "\n",
        "model.add(Flatten())\n",
        "\n",
        "\n",
        "\n",
        "model.add(Dense(6))\n",
        "model.add(Activation('softmax'))\n",
        "\n",
        "\n",
        "opt = tf.keras.optimizers.RMSprop(lr=0.0002 , decay=0.0)\n",
        "#opt = tf.keras.optimizers.Adam(lr=0.0002 , decay=0.0)\n",
        "#opt = tf.keras.optimizers.RMSprop(lr=0.0001, rho=0.9, epsilon=1e-07, decay=0.0)\n",
        "#opt = tf.keras.optimizers.SGD(lr=0.001, momentum=0.0, decay=0.0, nesterov=False)"
      ],
      "metadata": {
        "id": "g74fXWVAC4Cr",
        "colab": {
          "base_uri": "https://localhost:8080/"
        },
        "outputId": "2aad496b-417a-4c5b-a0c2-0eff0e275cca"
      },
      "execution_count": 11,
      "outputs": [
        {
          "output_type": "stream",
          "name": "stderr",
          "text": [
            "/usr/local/lib/python3.7/dist-packages/keras/optimizer_v2/rmsprop.py:130: UserWarning:\n",
            "\n",
            "The `lr` argument is deprecated, use `learning_rate` instead.\n",
            "\n"
          ]
        }
      ]
    },
    {
      "cell_type": "code",
      "source": [
        "model.summary()"
      ],
      "metadata": {
        "colab": {
          "base_uri": "https://localhost:8080/"
        },
        "id": "H6ukOxAGC_I4",
        "outputId": "2b206c2d-d365-48b1-b4e4-c2ce5904599c"
      },
      "execution_count": 12,
      "outputs": [
        {
          "output_type": "stream",
          "name": "stdout",
          "text": [
            "Model: \"sequential\"\n",
            "_________________________________________________________________\n",
            " Layer (type)                Output Shape              Param #   \n",
            "=================================================================\n",
            " conv1d (Conv1D)             (None, 40, 128)           1152      \n",
            "                                                                 \n",
            " activation (Activation)     (None, 40, 128)           0         \n",
            "                                                                 \n",
            " dropout (Dropout)           (None, 40, 128)           0         \n",
            "                                                                 \n",
            " max_pooling1d (MaxPooling1D  (None, 8, 128)           0         \n",
            " )                                                               \n",
            "                                                                 \n",
            " conv1d_1 (Conv1D)           (None, 8, 256)            262400    \n",
            "                                                                 \n",
            " activation_1 (Activation)   (None, 8, 256)            0         \n",
            "                                                                 \n",
            " dropout_1 (Dropout)         (None, 8, 256)            0         \n",
            "                                                                 \n",
            " max_pooling1d_1 (MaxPooling  (None, 1, 256)           0         \n",
            " 1D)                                                             \n",
            "                                                                 \n",
            " conv1d_2 (Conv1D)           (None, 1, 256)            524544    \n",
            "                                                                 \n",
            " activation_2 (Activation)   (None, 1, 256)            0         \n",
            "                                                                 \n",
            " dropout_2 (Dropout)         (None, 1, 256)            0         \n",
            "                                                                 \n",
            " flatten (Flatten)           (None, 256)               0         \n",
            "                                                                 \n",
            " dense (Dense)               (None, 6)                 1542      \n",
            "                                                                 \n",
            " activation_3 (Activation)   (None, 6)                 0         \n",
            "                                                                 \n",
            "=================================================================\n",
            "Total params: 789,638\n",
            "Trainable params: 789,638\n",
            "Non-trainable params: 0\n",
            "_________________________________________________________________\n"
          ]
        }
      ]
    },
    {
      "cell_type": "code",
      "source": [
        "model.compile(loss='sparse_categorical_crossentropy',\n",
        "              optimizer=opt,\n",
        "              metrics=['accuracy'])"
      ],
      "metadata": {
        "id": "AbMlLNk4DCBM"
      },
      "execution_count": 13,
      "outputs": []
    },
    {
      "cell_type": "code",
      "source": [
        "# Create an Instance of Early Stopping Callback.\n",
        "early_stopping_callback = EarlyStopping(monitor = 'val_loss', patience = 25, mode = 'min', restore_best_weights = True)\n",
        "\n",
        "cnnhistory=model.fit(x_traincnn, y_train, batch_size=16, epochs=500 , shuffle = True, \n",
        "                     validation_data=(X_valid, y_valid) , callbacks = [early_stopping_callback])"
      ],
      "metadata": {
        "colab": {
          "base_uri": "https://localhost:8080/"
        },
        "id": "RI1v2AuADFhy",
        "outputId": "b81a2810-9e68-4046-b62d-d56e349be653"
      },
      "execution_count": 14,
      "outputs": [
        {
          "output_type": "stream",
          "name": "stdout",
          "text": [
            "Epoch 1/500\n",
            "104/104 [==============================] - 4s 10ms/step - loss: 3.0940 - accuracy: 0.1771 - val_loss: 1.7924 - val_accuracy: 0.1739\n",
            "Epoch 2/500\n",
            "104/104 [==============================] - 1s 5ms/step - loss: 1.8567 - accuracy: 0.1886 - val_loss: 1.8537 - val_accuracy: 0.1449\n",
            "Epoch 3/500\n",
            "104/104 [==============================] - 1s 6ms/step - loss: 1.8185 - accuracy: 0.1844 - val_loss: 1.7811 - val_accuracy: 0.1691\n",
            "Epoch 4/500\n",
            "104/104 [==============================] - 1s 5ms/step - loss: 1.7986 - accuracy: 0.1784 - val_loss: 1.7801 - val_accuracy: 0.1932\n",
            "Epoch 5/500\n",
            "104/104 [==============================] - 1s 6ms/step - loss: 1.8114 - accuracy: 0.1802 - val_loss: 1.7826 - val_accuracy: 0.1739\n",
            "Epoch 6/500\n",
            "104/104 [==============================] - 1s 8ms/step - loss: 1.7984 - accuracy: 0.2031 - val_loss: 1.7815 - val_accuracy: 0.1932\n",
            "Epoch 7/500\n",
            "104/104 [==============================] - 1s 9ms/step - loss: 1.7921 - accuracy: 0.1892 - val_loss: 1.8100 - val_accuracy: 0.1787\n",
            "Epoch 8/500\n",
            "104/104 [==============================] - 1s 9ms/step - loss: 1.8106 - accuracy: 0.1904 - val_loss: 1.7798 - val_accuracy: 0.1981\n",
            "Epoch 9/500\n",
            "104/104 [==============================] - 1s 9ms/step - loss: 1.7967 - accuracy: 0.1989 - val_loss: 1.7924 - val_accuracy: 0.1981\n",
            "Epoch 10/500\n",
            "104/104 [==============================] - 1s 8ms/step - loss: 1.7915 - accuracy: 0.1941 - val_loss: 1.7743 - val_accuracy: 0.2271\n",
            "Epoch 11/500\n",
            "104/104 [==============================] - 1s 10ms/step - loss: 1.7875 - accuracy: 0.2122 - val_loss: 1.7744 - val_accuracy: 0.2850\n",
            "Epoch 12/500\n",
            "104/104 [==============================] - 1s 9ms/step - loss: 1.7744 - accuracy: 0.1959 - val_loss: 1.7747 - val_accuracy: 0.2174\n",
            "Epoch 13/500\n",
            "104/104 [==============================] - 1s 10ms/step - loss: 1.7660 - accuracy: 0.2116 - val_loss: 1.7673 - val_accuracy: 0.2415\n",
            "Epoch 14/500\n",
            "104/104 [==============================] - 1s 10ms/step - loss: 1.7530 - accuracy: 0.2443 - val_loss: 1.7407 - val_accuracy: 0.2802\n",
            "Epoch 15/500\n",
            "104/104 [==============================] - 1s 9ms/step - loss: 1.7436 - accuracy: 0.2467 - val_loss: 1.7192 - val_accuracy: 0.2705\n",
            "Epoch 16/500\n",
            "104/104 [==============================] - 1s 10ms/step - loss: 1.7196 - accuracy: 0.2642 - val_loss: 1.7638 - val_accuracy: 0.2174\n",
            "Epoch 17/500\n",
            "104/104 [==============================] - 1s 10ms/step - loss: 1.7033 - accuracy: 0.2672 - val_loss: 1.7181 - val_accuracy: 0.2657\n",
            "Epoch 18/500\n",
            "104/104 [==============================] - 1s 11ms/step - loss: 1.6837 - accuracy: 0.2757 - val_loss: 1.6675 - val_accuracy: 0.2995\n",
            "Epoch 19/500\n",
            "104/104 [==============================] - 1s 9ms/step - loss: 1.6879 - accuracy: 0.2594 - val_loss: 1.6545 - val_accuracy: 0.2947\n",
            "Epoch 20/500\n",
            "104/104 [==============================] - 1s 9ms/step - loss: 1.6653 - accuracy: 0.2775 - val_loss: 1.6817 - val_accuracy: 0.3623\n",
            "Epoch 21/500\n",
            "104/104 [==============================] - 1s 9ms/step - loss: 1.6346 - accuracy: 0.2884 - val_loss: 1.6610 - val_accuracy: 0.3237\n",
            "Epoch 22/500\n",
            "104/104 [==============================] - 1s 11ms/step - loss: 1.6388 - accuracy: 0.2866 - val_loss: 1.6561 - val_accuracy: 0.3140\n",
            "Epoch 23/500\n",
            "104/104 [==============================] - 1s 11ms/step - loss: 1.6112 - accuracy: 0.3065 - val_loss: 1.6602 - val_accuracy: 0.2705\n",
            "Epoch 24/500\n",
            "104/104 [==============================] - 1s 10ms/step - loss: 1.6083 - accuracy: 0.3023 - val_loss: 1.6652 - val_accuracy: 0.2657\n",
            "Epoch 25/500\n",
            "104/104 [==============================] - 1s 10ms/step - loss: 1.5908 - accuracy: 0.3005 - val_loss: 1.6063 - val_accuracy: 0.3140\n",
            "Epoch 26/500\n",
            "104/104 [==============================] - 1s 10ms/step - loss: 1.6048 - accuracy: 0.2999 - val_loss: 1.5622 - val_accuracy: 0.3333\n",
            "Epoch 27/500\n",
            "104/104 [==============================] - 1s 10ms/step - loss: 1.5765 - accuracy: 0.3216 - val_loss: 1.5270 - val_accuracy: 0.3816\n",
            "Epoch 28/500\n",
            "104/104 [==============================] - 1s 9ms/step - loss: 1.5677 - accuracy: 0.3319 - val_loss: 1.5049 - val_accuracy: 0.3527\n",
            "Epoch 29/500\n",
            "104/104 [==============================] - 1s 10ms/step - loss: 1.5616 - accuracy: 0.3108 - val_loss: 1.5112 - val_accuracy: 0.4106\n",
            "Epoch 30/500\n",
            "104/104 [==============================] - 1s 9ms/step - loss: 1.5685 - accuracy: 0.3192 - val_loss: 1.5391 - val_accuracy: 0.3285\n",
            "Epoch 31/500\n",
            "104/104 [==============================] - 1s 11ms/step - loss: 1.5532 - accuracy: 0.3362 - val_loss: 1.5717 - val_accuracy: 0.3237\n",
            "Epoch 32/500\n",
            "104/104 [==============================] - 1s 6ms/step - loss: 1.5172 - accuracy: 0.3579 - val_loss: 1.5177 - val_accuracy: 0.4203\n",
            "Epoch 33/500\n",
            "104/104 [==============================] - 1s 6ms/step - loss: 1.5234 - accuracy: 0.3646 - val_loss: 1.5319 - val_accuracy: 0.3623\n",
            "Epoch 34/500\n",
            "104/104 [==============================] - 1s 6ms/step - loss: 1.5235 - accuracy: 0.3368 - val_loss: 1.5337 - val_accuracy: 0.3575\n",
            "Epoch 35/500\n",
            "104/104 [==============================] - 1s 6ms/step - loss: 1.4931 - accuracy: 0.3640 - val_loss: 1.4497 - val_accuracy: 0.4155\n",
            "Epoch 36/500\n",
            "104/104 [==============================] - 1s 6ms/step - loss: 1.4755 - accuracy: 0.3803 - val_loss: 1.4485 - val_accuracy: 0.3478\n",
            "Epoch 37/500\n",
            "104/104 [==============================] - 1s 6ms/step - loss: 1.4635 - accuracy: 0.3767 - val_loss: 1.4438 - val_accuracy: 0.3913\n",
            "Epoch 38/500\n",
            "104/104 [==============================] - 1s 6ms/step - loss: 1.4445 - accuracy: 0.3863 - val_loss: 1.4211 - val_accuracy: 0.5072\n",
            "Epoch 39/500\n",
            "104/104 [==============================] - 1s 5ms/step - loss: 1.4111 - accuracy: 0.4111 - val_loss: 1.4115 - val_accuracy: 0.4783\n",
            "Epoch 40/500\n",
            "104/104 [==============================] - 1s 5ms/step - loss: 1.4015 - accuracy: 0.4262 - val_loss: 1.3982 - val_accuracy: 0.4348\n",
            "Epoch 41/500\n",
            "104/104 [==============================] - 1s 5ms/step - loss: 1.3818 - accuracy: 0.4135 - val_loss: 1.3400 - val_accuracy: 0.4444\n",
            "Epoch 42/500\n",
            "104/104 [==============================] - 1s 5ms/step - loss: 1.3783 - accuracy: 0.4268 - val_loss: 1.4807 - val_accuracy: 0.3671\n",
            "Epoch 43/500\n",
            "104/104 [==============================] - 1s 5ms/step - loss: 1.3447 - accuracy: 0.4305 - val_loss: 1.2948 - val_accuracy: 0.4589\n",
            "Epoch 44/500\n",
            "104/104 [==============================] - 0s 5ms/step - loss: 1.3409 - accuracy: 0.4426 - val_loss: 1.3322 - val_accuracy: 0.4879\n",
            "Epoch 45/500\n",
            "104/104 [==============================] - 1s 5ms/step - loss: 1.3248 - accuracy: 0.4589 - val_loss: 1.2609 - val_accuracy: 0.4589\n",
            "Epoch 46/500\n",
            "104/104 [==============================] - 1s 5ms/step - loss: 1.2768 - accuracy: 0.4661 - val_loss: 1.2522 - val_accuracy: 0.5072\n",
            "Epoch 47/500\n",
            "104/104 [==============================] - 1s 5ms/step - loss: 1.2668 - accuracy: 0.4686 - val_loss: 1.2787 - val_accuracy: 0.4928\n",
            "Epoch 48/500\n",
            "104/104 [==============================] - 1s 5ms/step - loss: 1.2571 - accuracy: 0.5000 - val_loss: 1.2119 - val_accuracy: 0.5266\n",
            "Epoch 49/500\n",
            "104/104 [==============================] - 0s 5ms/step - loss: 1.2585 - accuracy: 0.4825 - val_loss: 1.2538 - val_accuracy: 0.4734\n",
            "Epoch 50/500\n",
            "104/104 [==============================] - 1s 5ms/step - loss: 1.2404 - accuracy: 0.4915 - val_loss: 1.1964 - val_accuracy: 0.5217\n",
            "Epoch 51/500\n",
            "104/104 [==============================] - 0s 5ms/step - loss: 1.2036 - accuracy: 0.4976 - val_loss: 1.1719 - val_accuracy: 0.5169\n",
            "Epoch 52/500\n",
            "104/104 [==============================] - 1s 5ms/step - loss: 1.1932 - accuracy: 0.5278 - val_loss: 1.1792 - val_accuracy: 0.5652\n",
            "Epoch 53/500\n",
            "104/104 [==============================] - 0s 5ms/step - loss: 1.1812 - accuracy: 0.5314 - val_loss: 1.1729 - val_accuracy: 0.5411\n",
            "Epoch 54/500\n",
            "104/104 [==============================] - 1s 5ms/step - loss: 1.1646 - accuracy: 0.5206 - val_loss: 1.1423 - val_accuracy: 0.5700\n",
            "Epoch 55/500\n",
            "104/104 [==============================] - 0s 5ms/step - loss: 1.1640 - accuracy: 0.5127 - val_loss: 1.1594 - val_accuracy: 0.5652\n",
            "Epoch 56/500\n",
            "104/104 [==============================] - 1s 5ms/step - loss: 1.1283 - accuracy: 0.5520 - val_loss: 1.1666 - val_accuracy: 0.5169\n",
            "Epoch 57/500\n",
            "104/104 [==============================] - 1s 5ms/step - loss: 1.1173 - accuracy: 0.5496 - val_loss: 1.1406 - val_accuracy: 0.5459\n",
            "Epoch 58/500\n",
            "104/104 [==============================] - 1s 5ms/step - loss: 1.1195 - accuracy: 0.5532 - val_loss: 1.1851 - val_accuracy: 0.5169\n",
            "Epoch 59/500\n",
            "104/104 [==============================] - 0s 5ms/step - loss: 1.0887 - accuracy: 0.5514 - val_loss: 1.2144 - val_accuracy: 0.5024\n",
            "Epoch 60/500\n",
            "104/104 [==============================] - 1s 5ms/step - loss: 1.0693 - accuracy: 0.5550 - val_loss: 1.0396 - val_accuracy: 0.5700\n",
            "Epoch 61/500\n",
            "104/104 [==============================] - 1s 5ms/step - loss: 1.0567 - accuracy: 0.5834 - val_loss: 1.0294 - val_accuracy: 0.5700\n",
            "Epoch 62/500\n",
            "104/104 [==============================] - 1s 5ms/step - loss: 1.0620 - accuracy: 0.5677 - val_loss: 1.0960 - val_accuracy: 0.5797\n",
            "Epoch 63/500\n",
            "104/104 [==============================] - 1s 6ms/step - loss: 1.0337 - accuracy: 0.5871 - val_loss: 1.0378 - val_accuracy: 0.6087\n",
            "Epoch 64/500\n",
            "104/104 [==============================] - 1s 6ms/step - loss: 1.0229 - accuracy: 0.5907 - val_loss: 0.9646 - val_accuracy: 0.6618\n",
            "Epoch 65/500\n",
            "104/104 [==============================] - 1s 6ms/step - loss: 0.9968 - accuracy: 0.5973 - val_loss: 1.0775 - val_accuracy: 0.5459\n",
            "Epoch 66/500\n",
            "104/104 [==============================] - 1s 6ms/step - loss: 1.0138 - accuracy: 0.5859 - val_loss: 0.9866 - val_accuracy: 0.6135\n",
            "Epoch 67/500\n",
            "104/104 [==============================] - 1s 6ms/step - loss: 0.9901 - accuracy: 0.5985 - val_loss: 1.0365 - val_accuracy: 0.6184\n",
            "Epoch 68/500\n",
            "104/104 [==============================] - 1s 6ms/step - loss: 0.9645 - accuracy: 0.6167 - val_loss: 0.9493 - val_accuracy: 0.6232\n",
            "Epoch 69/500\n",
            "104/104 [==============================] - 1s 5ms/step - loss: 0.9480 - accuracy: 0.6161 - val_loss: 0.9038 - val_accuracy: 0.6763\n",
            "Epoch 70/500\n",
            "104/104 [==============================] - 1s 6ms/step - loss: 0.9399 - accuracy: 0.6010 - val_loss: 1.0238 - val_accuracy: 0.5942\n",
            "Epoch 71/500\n",
            "104/104 [==============================] - 1s 6ms/step - loss: 0.9242 - accuracy: 0.6391 - val_loss: 0.9530 - val_accuracy: 0.6377\n",
            "Epoch 72/500\n",
            "104/104 [==============================] - 1s 6ms/step - loss: 0.9189 - accuracy: 0.6300 - val_loss: 0.8944 - val_accuracy: 0.6860\n",
            "Epoch 73/500\n",
            "104/104 [==============================] - 1s 6ms/step - loss: 0.9276 - accuracy: 0.6203 - val_loss: 0.9803 - val_accuracy: 0.5845\n",
            "Epoch 74/500\n",
            "104/104 [==============================] - 1s 6ms/step - loss: 0.9079 - accuracy: 0.6330 - val_loss: 0.8828 - val_accuracy: 0.6715\n",
            "Epoch 75/500\n",
            "104/104 [==============================] - 1s 6ms/step - loss: 0.8931 - accuracy: 0.6463 - val_loss: 0.8657 - val_accuracy: 0.6957\n",
            "Epoch 76/500\n",
            "104/104 [==============================] - 1s 5ms/step - loss: 0.8881 - accuracy: 0.6427 - val_loss: 0.8924 - val_accuracy: 0.6812\n",
            "Epoch 77/500\n",
            "104/104 [==============================] - 1s 6ms/step - loss: 0.8718 - accuracy: 0.6608 - val_loss: 0.9196 - val_accuracy: 0.6329\n",
            "Epoch 78/500\n",
            "104/104 [==============================] - 1s 6ms/step - loss: 0.8613 - accuracy: 0.6596 - val_loss: 0.8910 - val_accuracy: 0.6570\n",
            "Epoch 79/500\n",
            "104/104 [==============================] - 1s 5ms/step - loss: 0.8601 - accuracy: 0.6572 - val_loss: 0.8541 - val_accuracy: 0.6377\n",
            "Epoch 80/500\n",
            "104/104 [==============================] - 1s 6ms/step - loss: 0.8669 - accuracy: 0.6693 - val_loss: 0.9985 - val_accuracy: 0.5845\n",
            "Epoch 81/500\n",
            "104/104 [==============================] - 1s 6ms/step - loss: 0.8529 - accuracy: 0.6651 - val_loss: 0.8629 - val_accuracy: 0.6570\n",
            "Epoch 82/500\n",
            "104/104 [==============================] - 1s 6ms/step - loss: 0.8402 - accuracy: 0.6566 - val_loss: 0.8619 - val_accuracy: 0.6812\n",
            "Epoch 83/500\n",
            "104/104 [==============================] - 1s 6ms/step - loss: 0.8053 - accuracy: 0.6850 - val_loss: 1.0016 - val_accuracy: 0.5797\n",
            "Epoch 84/500\n",
            "104/104 [==============================] - 1s 5ms/step - loss: 0.8309 - accuracy: 0.6808 - val_loss: 0.8279 - val_accuracy: 0.7005\n",
            "Epoch 85/500\n",
            "104/104 [==============================] - 1s 6ms/step - loss: 0.8352 - accuracy: 0.6693 - val_loss: 0.9889 - val_accuracy: 0.5894\n",
            "Epoch 86/500\n",
            "104/104 [==============================] - 1s 5ms/step - loss: 0.8143 - accuracy: 0.6838 - val_loss: 0.8431 - val_accuracy: 0.6763\n",
            "Epoch 87/500\n",
            "104/104 [==============================] - 1s 5ms/step - loss: 0.7968 - accuracy: 0.6929 - val_loss: 0.7628 - val_accuracy: 0.7053\n",
            "Epoch 88/500\n",
            "104/104 [==============================] - 1s 6ms/step - loss: 0.7878 - accuracy: 0.6880 - val_loss: 0.7851 - val_accuracy: 0.7053\n",
            "Epoch 89/500\n",
            "104/104 [==============================] - 1s 5ms/step - loss: 0.7922 - accuracy: 0.6929 - val_loss: 0.8350 - val_accuracy: 0.7101\n",
            "Epoch 90/500\n",
            "104/104 [==============================] - 1s 6ms/step - loss: 0.7705 - accuracy: 0.6959 - val_loss: 0.8078 - val_accuracy: 0.7198\n",
            "Epoch 91/500\n",
            "104/104 [==============================] - 1s 5ms/step - loss: 0.7458 - accuracy: 0.6995 - val_loss: 0.8038 - val_accuracy: 0.7005\n",
            "Epoch 92/500\n",
            "104/104 [==============================] - 1s 5ms/step - loss: 0.7775 - accuracy: 0.6953 - val_loss: 0.8143 - val_accuracy: 0.6763\n",
            "Epoch 93/500\n",
            "104/104 [==============================] - 1s 6ms/step - loss: 0.7293 - accuracy: 0.7062 - val_loss: 0.8001 - val_accuracy: 0.7005\n",
            "Epoch 94/500\n",
            "104/104 [==============================] - 1s 5ms/step - loss: 0.7523 - accuracy: 0.7128 - val_loss: 0.7851 - val_accuracy: 0.7053\n",
            "Epoch 95/500\n",
            "104/104 [==============================] - 1s 6ms/step - loss: 0.7240 - accuracy: 0.7243 - val_loss: 0.9573 - val_accuracy: 0.6618\n",
            "Epoch 96/500\n",
            "104/104 [==============================] - 1s 5ms/step - loss: 0.7078 - accuracy: 0.7219 - val_loss: 0.8463 - val_accuracy: 0.6763\n",
            "Epoch 97/500\n",
            "104/104 [==============================] - 1s 6ms/step - loss: 0.7158 - accuracy: 0.7219 - val_loss: 0.8130 - val_accuracy: 0.7295\n",
            "Epoch 98/500\n",
            "104/104 [==============================] - 1s 6ms/step - loss: 0.7431 - accuracy: 0.7080 - val_loss: 0.8207 - val_accuracy: 0.6860\n",
            "Epoch 99/500\n",
            "104/104 [==============================] - 1s 5ms/step - loss: 0.7402 - accuracy: 0.7213 - val_loss: 0.7465 - val_accuracy: 0.7005\n",
            "Epoch 100/500\n",
            "104/104 [==============================] - 1s 6ms/step - loss: 0.7170 - accuracy: 0.7128 - val_loss: 0.8621 - val_accuracy: 0.6812\n",
            "Epoch 101/500\n",
            "104/104 [==============================] - 1s 6ms/step - loss: 0.7098 - accuracy: 0.7328 - val_loss: 0.7387 - val_accuracy: 0.7053\n",
            "Epoch 102/500\n",
            "104/104 [==============================] - 1s 6ms/step - loss: 0.7095 - accuracy: 0.7177 - val_loss: 0.7701 - val_accuracy: 0.6667\n",
            "Epoch 103/500\n",
            "104/104 [==============================] - 1s 6ms/step - loss: 0.6691 - accuracy: 0.7509 - val_loss: 0.7662 - val_accuracy: 0.6860\n",
            "Epoch 104/500\n",
            "104/104 [==============================] - 1s 5ms/step - loss: 0.6875 - accuracy: 0.7346 - val_loss: 0.7946 - val_accuracy: 0.6860\n",
            "Epoch 105/500\n",
            "104/104 [==============================] - 1s 6ms/step - loss: 0.6746 - accuracy: 0.7310 - val_loss: 0.8383 - val_accuracy: 0.6908\n",
            "Epoch 106/500\n",
            "104/104 [==============================] - 1s 6ms/step - loss: 0.6611 - accuracy: 0.7461 - val_loss: 0.7654 - val_accuracy: 0.6860\n",
            "Epoch 107/500\n",
            "104/104 [==============================] - 1s 6ms/step - loss: 0.6796 - accuracy: 0.7382 - val_loss: 0.7802 - val_accuracy: 0.7101\n",
            "Epoch 108/500\n",
            "104/104 [==============================] - 1s 6ms/step - loss: 0.6546 - accuracy: 0.7376 - val_loss: 0.7445 - val_accuracy: 0.7198\n",
            "Epoch 109/500\n",
            "104/104 [==============================] - 1s 6ms/step - loss: 0.6561 - accuracy: 0.7533 - val_loss: 0.7676 - val_accuracy: 0.7101\n",
            "Epoch 110/500\n",
            "104/104 [==============================] - 1s 6ms/step - loss: 0.6400 - accuracy: 0.7557 - val_loss: 0.7217 - val_accuracy: 0.7198\n",
            "Epoch 111/500\n",
            "104/104 [==============================] - 1s 5ms/step - loss: 0.6420 - accuracy: 0.7545 - val_loss: 0.7421 - val_accuracy: 0.7295\n",
            "Epoch 112/500\n",
            "104/104 [==============================] - 1s 8ms/step - loss: 0.6393 - accuracy: 0.7533 - val_loss: 0.8991 - val_accuracy: 0.6618\n",
            "Epoch 113/500\n",
            "104/104 [==============================] - 1s 8ms/step - loss: 0.6061 - accuracy: 0.7582 - val_loss: 0.7561 - val_accuracy: 0.7198\n",
            "Epoch 114/500\n",
            "104/104 [==============================] - 1s 6ms/step - loss: 0.6210 - accuracy: 0.7594 - val_loss: 0.6849 - val_accuracy: 0.7391\n",
            "Epoch 115/500\n",
            "104/104 [==============================] - 1s 5ms/step - loss: 0.6439 - accuracy: 0.7576 - val_loss: 0.7226 - val_accuracy: 0.7440\n",
            "Epoch 116/500\n",
            "104/104 [==============================] - 1s 6ms/step - loss: 0.6213 - accuracy: 0.7612 - val_loss: 0.7317 - val_accuracy: 0.7101\n",
            "Epoch 117/500\n",
            "104/104 [==============================] - 1s 5ms/step - loss: 0.6371 - accuracy: 0.7503 - val_loss: 0.7146 - val_accuracy: 0.7246\n",
            "Epoch 118/500\n",
            "104/104 [==============================] - 1s 6ms/step - loss: 0.6223 - accuracy: 0.7630 - val_loss: 0.7871 - val_accuracy: 0.7005\n",
            "Epoch 119/500\n",
            "104/104 [==============================] - 1s 6ms/step - loss: 0.5961 - accuracy: 0.7624 - val_loss: 0.7425 - val_accuracy: 0.6860\n",
            "Epoch 120/500\n",
            "104/104 [==============================] - 1s 6ms/step - loss: 0.6034 - accuracy: 0.7727 - val_loss: 0.7355 - val_accuracy: 0.7198\n",
            "Epoch 121/500\n",
            "104/104 [==============================] - 1s 6ms/step - loss: 0.5833 - accuracy: 0.7733 - val_loss: 0.8088 - val_accuracy: 0.7198\n",
            "Epoch 122/500\n",
            "104/104 [==============================] - 1s 6ms/step - loss: 0.5888 - accuracy: 0.7751 - val_loss: 0.7870 - val_accuracy: 0.7101\n",
            "Epoch 123/500\n",
            "104/104 [==============================] - 1s 6ms/step - loss: 0.5918 - accuracy: 0.7690 - val_loss: 0.7822 - val_accuracy: 0.7101\n",
            "Epoch 124/500\n",
            "104/104 [==============================] - 1s 6ms/step - loss: 0.5675 - accuracy: 0.7799 - val_loss: 0.7002 - val_accuracy: 0.7295\n",
            "Epoch 125/500\n",
            "104/104 [==============================] - 1s 6ms/step - loss: 0.5913 - accuracy: 0.7721 - val_loss: 0.6973 - val_accuracy: 0.7295\n",
            "Epoch 126/500\n",
            "104/104 [==============================] - 1s 6ms/step - loss: 0.5908 - accuracy: 0.7769 - val_loss: 0.7191 - val_accuracy: 0.7295\n",
            "Epoch 127/500\n",
            "104/104 [==============================] - 1s 5ms/step - loss: 0.5784 - accuracy: 0.7805 - val_loss: 0.6837 - val_accuracy: 0.7005\n",
            "Epoch 128/500\n",
            "104/104 [==============================] - 1s 6ms/step - loss: 0.5676 - accuracy: 0.7866 - val_loss: 0.7643 - val_accuracy: 0.7198\n",
            "Epoch 129/500\n",
            "104/104 [==============================] - 1s 6ms/step - loss: 0.5758 - accuracy: 0.7926 - val_loss: 0.7184 - val_accuracy: 0.7536\n",
            "Epoch 130/500\n",
            "104/104 [==============================] - 1s 6ms/step - loss: 0.5714 - accuracy: 0.7830 - val_loss: 0.7017 - val_accuracy: 0.7536\n",
            "Epoch 131/500\n",
            "104/104 [==============================] - 1s 6ms/step - loss: 0.5742 - accuracy: 0.7872 - val_loss: 0.7318 - val_accuracy: 0.7198\n",
            "Epoch 132/500\n",
            "104/104 [==============================] - 1s 5ms/step - loss: 0.5544 - accuracy: 0.7926 - val_loss: 0.8897 - val_accuracy: 0.6570\n",
            "Epoch 133/500\n",
            "104/104 [==============================] - 1s 6ms/step - loss: 0.5667 - accuracy: 0.7860 - val_loss: 0.7692 - val_accuracy: 0.7005\n",
            "Epoch 134/500\n",
            "104/104 [==============================] - 1s 6ms/step - loss: 0.5514 - accuracy: 0.7872 - val_loss: 0.7925 - val_accuracy: 0.6957\n",
            "Epoch 135/500\n",
            "104/104 [==============================] - 1s 6ms/step - loss: 0.5693 - accuracy: 0.7823 - val_loss: 0.7531 - val_accuracy: 0.7101\n",
            "Epoch 136/500\n",
            "104/104 [==============================] - 1s 5ms/step - loss: 0.5399 - accuracy: 0.7872 - val_loss: 0.6760 - val_accuracy: 0.7681\n",
            "Epoch 137/500\n",
            "104/104 [==============================] - 1s 6ms/step - loss: 0.5407 - accuracy: 0.7896 - val_loss: 0.8762 - val_accuracy: 0.6763\n",
            "Epoch 138/500\n",
            "104/104 [==============================] - 1s 6ms/step - loss: 0.5161 - accuracy: 0.8005 - val_loss: 0.7245 - val_accuracy: 0.7101\n",
            "Epoch 139/500\n",
            "104/104 [==============================] - 1s 6ms/step - loss: 0.5576 - accuracy: 0.7981 - val_loss: 0.6981 - val_accuracy: 0.7391\n",
            "Epoch 140/500\n",
            "104/104 [==============================] - 1s 6ms/step - loss: 0.5016 - accuracy: 0.8065 - val_loss: 0.6872 - val_accuracy: 0.7633\n",
            "Epoch 141/500\n",
            "104/104 [==============================] - 1s 8ms/step - loss: 0.5395 - accuracy: 0.8077 - val_loss: 0.7579 - val_accuracy: 0.6812\n",
            "Epoch 142/500\n",
            "104/104 [==============================] - 1s 8ms/step - loss: 0.5248 - accuracy: 0.8005 - val_loss: 0.6887 - val_accuracy: 0.6908\n",
            "Epoch 143/500\n",
            "104/104 [==============================] - 1s 13ms/step - loss: 0.5505 - accuracy: 0.8017 - val_loss: 0.7708 - val_accuracy: 0.7101\n",
            "Epoch 144/500\n",
            "104/104 [==============================] - 1s 10ms/step - loss: 0.5315 - accuracy: 0.8029 - val_loss: 0.7714 - val_accuracy: 0.6957\n",
            "Epoch 145/500\n",
            "104/104 [==============================] - 1s 8ms/step - loss: 0.5193 - accuracy: 0.8005 - val_loss: 0.6714 - val_accuracy: 0.7246\n",
            "Epoch 146/500\n",
            "104/104 [==============================] - 1s 8ms/step - loss: 0.5307 - accuracy: 0.8023 - val_loss: 0.7177 - val_accuracy: 0.7198\n",
            "Epoch 147/500\n",
            "104/104 [==============================] - 1s 6ms/step - loss: 0.4964 - accuracy: 0.8126 - val_loss: 0.6941 - val_accuracy: 0.7295\n",
            "Epoch 148/500\n",
            "104/104 [==============================] - 1s 6ms/step - loss: 0.4934 - accuracy: 0.8144 - val_loss: 0.6767 - val_accuracy: 0.7585\n",
            "Epoch 149/500\n",
            "104/104 [==============================] - 1s 6ms/step - loss: 0.5366 - accuracy: 0.7993 - val_loss: 0.6811 - val_accuracy: 0.7246\n",
            "Epoch 150/500\n",
            "104/104 [==============================] - 1s 6ms/step - loss: 0.4940 - accuracy: 0.8029 - val_loss: 0.7675 - val_accuracy: 0.7295\n",
            "Epoch 151/500\n",
            "104/104 [==============================] - 1s 7ms/step - loss: 0.5097 - accuracy: 0.8071 - val_loss: 0.6915 - val_accuracy: 0.7729\n",
            "Epoch 152/500\n",
            "104/104 [==============================] - 1s 10ms/step - loss: 0.4704 - accuracy: 0.8356 - val_loss: 0.7677 - val_accuracy: 0.7440\n",
            "Epoch 153/500\n",
            "104/104 [==============================] - 1s 6ms/step - loss: 0.5156 - accuracy: 0.8053 - val_loss: 0.6917 - val_accuracy: 0.7391\n",
            "Epoch 154/500\n",
            "104/104 [==============================] - 1s 6ms/step - loss: 0.5147 - accuracy: 0.8089 - val_loss: 0.7015 - val_accuracy: 0.7343\n",
            "Epoch 155/500\n",
            "104/104 [==============================] - 1s 8ms/step - loss: 0.4874 - accuracy: 0.8186 - val_loss: 0.8074 - val_accuracy: 0.7246\n",
            "Epoch 156/500\n",
            "104/104 [==============================] - 1s 9ms/step - loss: 0.4874 - accuracy: 0.8192 - val_loss: 0.8126 - val_accuracy: 0.6957\n",
            "Epoch 157/500\n",
            "104/104 [==============================] - 1s 6ms/step - loss: 0.4679 - accuracy: 0.8144 - val_loss: 0.6866 - val_accuracy: 0.7585\n",
            "Epoch 158/500\n",
            "104/104 [==============================] - 1s 6ms/step - loss: 0.4893 - accuracy: 0.8271 - val_loss: 0.6560 - val_accuracy: 0.7729\n",
            "Epoch 159/500\n",
            "104/104 [==============================] - 1s 6ms/step - loss: 0.4920 - accuracy: 0.8174 - val_loss: 0.8015 - val_accuracy: 0.7150\n",
            "Epoch 160/500\n",
            "104/104 [==============================] - 1s 6ms/step - loss: 0.4749 - accuracy: 0.8198 - val_loss: 0.8513 - val_accuracy: 0.7295\n",
            "Epoch 161/500\n",
            "104/104 [==============================] - 1s 5ms/step - loss: 0.4703 - accuracy: 0.8289 - val_loss: 0.6658 - val_accuracy: 0.7536\n",
            "Epoch 162/500\n",
            "104/104 [==============================] - 1s 6ms/step - loss: 0.4779 - accuracy: 0.8295 - val_loss: 0.8606 - val_accuracy: 0.7101\n",
            "Epoch 163/500\n",
            "104/104 [==============================] - 1s 6ms/step - loss: 0.4641 - accuracy: 0.8253 - val_loss: 0.9144 - val_accuracy: 0.6908\n",
            "Epoch 164/500\n",
            "104/104 [==============================] - 1s 6ms/step - loss: 0.4873 - accuracy: 0.8216 - val_loss: 0.6527 - val_accuracy: 0.7488\n",
            "Epoch 165/500\n",
            "104/104 [==============================] - 1s 6ms/step - loss: 0.4544 - accuracy: 0.8307 - val_loss: 0.6760 - val_accuracy: 0.7585\n",
            "Epoch 166/500\n",
            "104/104 [==============================] - 1s 6ms/step - loss: 0.4613 - accuracy: 0.8307 - val_loss: 0.7220 - val_accuracy: 0.7295\n",
            "Epoch 167/500\n",
            "104/104 [==============================] - 1s 6ms/step - loss: 0.4332 - accuracy: 0.8422 - val_loss: 0.6773 - val_accuracy: 0.7536\n",
            "Epoch 168/500\n",
            "104/104 [==============================] - 1s 6ms/step - loss: 0.4771 - accuracy: 0.8216 - val_loss: 0.7072 - val_accuracy: 0.7633\n",
            "Epoch 169/500\n",
            "104/104 [==============================] - 1s 6ms/step - loss: 0.4630 - accuracy: 0.8235 - val_loss: 0.6869 - val_accuracy: 0.7488\n",
            "Epoch 170/500\n",
            "104/104 [==============================] - 1s 6ms/step - loss: 0.4827 - accuracy: 0.8277 - val_loss: 0.7009 - val_accuracy: 0.7440\n",
            "Epoch 171/500\n",
            "104/104 [==============================] - 1s 6ms/step - loss: 0.4545 - accuracy: 0.8325 - val_loss: 0.6879 - val_accuracy: 0.7488\n",
            "Epoch 172/500\n",
            "104/104 [==============================] - 1s 6ms/step - loss: 0.4506 - accuracy: 0.8416 - val_loss: 0.7201 - val_accuracy: 0.7488\n",
            "Epoch 173/500\n",
            "104/104 [==============================] - 1s 6ms/step - loss: 0.4444 - accuracy: 0.8392 - val_loss: 0.7281 - val_accuracy: 0.7488\n",
            "Epoch 174/500\n",
            "104/104 [==============================] - 1s 6ms/step - loss: 0.4445 - accuracy: 0.8301 - val_loss: 0.6761 - val_accuracy: 0.7585\n",
            "Epoch 175/500\n",
            "104/104 [==============================] - 1s 5ms/step - loss: 0.4581 - accuracy: 0.8380 - val_loss: 0.7969 - val_accuracy: 0.7246\n",
            "Epoch 176/500\n",
            "104/104 [==============================] - 1s 6ms/step - loss: 0.4430 - accuracy: 0.8356 - val_loss: 0.7510 - val_accuracy: 0.7536\n",
            "Epoch 177/500\n",
            "104/104 [==============================] - 1s 6ms/step - loss: 0.4608 - accuracy: 0.8259 - val_loss: 0.7012 - val_accuracy: 0.7295\n",
            "Epoch 178/500\n",
            "104/104 [==============================] - 1s 5ms/step - loss: 0.4498 - accuracy: 0.8428 - val_loss: 0.7386 - val_accuracy: 0.7246\n",
            "Epoch 179/500\n",
            "104/104 [==============================] - 1s 6ms/step - loss: 0.4118 - accuracy: 0.8555 - val_loss: 0.6449 - val_accuracy: 0.7874\n",
            "Epoch 180/500\n",
            "104/104 [==============================] - 1s 6ms/step - loss: 0.4399 - accuracy: 0.8458 - val_loss: 0.7637 - val_accuracy: 0.7440\n",
            "Epoch 181/500\n",
            "104/104 [==============================] - 1s 6ms/step - loss: 0.4117 - accuracy: 0.8537 - val_loss: 0.7869 - val_accuracy: 0.7343\n",
            "Epoch 182/500\n",
            "104/104 [==============================] - 1s 6ms/step - loss: 0.4262 - accuracy: 0.8349 - val_loss: 0.7807 - val_accuracy: 0.7198\n",
            "Epoch 183/500\n",
            "104/104 [==============================] - 1s 6ms/step - loss: 0.4437 - accuracy: 0.8482 - val_loss: 0.7492 - val_accuracy: 0.7488\n",
            "Epoch 184/500\n",
            "104/104 [==============================] - 1s 6ms/step - loss: 0.4294 - accuracy: 0.8525 - val_loss: 0.8044 - val_accuracy: 0.7488\n",
            "Epoch 185/500\n",
            "104/104 [==============================] - 1s 6ms/step - loss: 0.4151 - accuracy: 0.8555 - val_loss: 0.6647 - val_accuracy: 0.7826\n",
            "Epoch 186/500\n",
            "104/104 [==============================] - 1s 6ms/step - loss: 0.4566 - accuracy: 0.8404 - val_loss: 0.7696 - val_accuracy: 0.7488\n",
            "Epoch 187/500\n",
            "104/104 [==============================] - 1s 6ms/step - loss: 0.4605 - accuracy: 0.8428 - val_loss: 0.7900 - val_accuracy: 0.7585\n",
            "Epoch 188/500\n",
            "104/104 [==============================] - 1s 6ms/step - loss: 0.4481 - accuracy: 0.8380 - val_loss: 0.6294 - val_accuracy: 0.7826\n",
            "Epoch 189/500\n",
            "104/104 [==============================] - 1s 5ms/step - loss: 0.4400 - accuracy: 0.8380 - val_loss: 0.6815 - val_accuracy: 0.7585\n",
            "Epoch 190/500\n",
            "104/104 [==============================] - 1s 6ms/step - loss: 0.4351 - accuracy: 0.8386 - val_loss: 0.6852 - val_accuracy: 0.7729\n",
            "Epoch 191/500\n",
            "104/104 [==============================] - 1s 6ms/step - loss: 0.4316 - accuracy: 0.8392 - val_loss: 0.8299 - val_accuracy: 0.7150\n",
            "Epoch 192/500\n",
            "104/104 [==============================] - 1s 5ms/step - loss: 0.4243 - accuracy: 0.8343 - val_loss: 0.7023 - val_accuracy: 0.7585\n",
            "Epoch 193/500\n",
            "104/104 [==============================] - 1s 6ms/step - loss: 0.4151 - accuracy: 0.8573 - val_loss: 0.7694 - val_accuracy: 0.7681\n",
            "Epoch 194/500\n",
            "104/104 [==============================] - 1s 6ms/step - loss: 0.4386 - accuracy: 0.8452 - val_loss: 0.6567 - val_accuracy: 0.8019\n",
            "Epoch 195/500\n",
            "104/104 [==============================] - 1s 6ms/step - loss: 0.3857 - accuracy: 0.8585 - val_loss: 0.7796 - val_accuracy: 0.7536\n",
            "Epoch 196/500\n",
            "104/104 [==============================] - 1s 5ms/step - loss: 0.4018 - accuracy: 0.8622 - val_loss: 0.7188 - val_accuracy: 0.7585\n",
            "Epoch 197/500\n",
            "104/104 [==============================] - 1s 6ms/step - loss: 0.4086 - accuracy: 0.8482 - val_loss: 0.7160 - val_accuracy: 0.7681\n",
            "Epoch 198/500\n",
            "104/104 [==============================] - 1s 6ms/step - loss: 0.4144 - accuracy: 0.8531 - val_loss: 0.6888 - val_accuracy: 0.7778\n",
            "Epoch 199/500\n",
            "104/104 [==============================] - 1s 6ms/step - loss: 0.4093 - accuracy: 0.8573 - val_loss: 0.7767 - val_accuracy: 0.7198\n",
            "Epoch 200/500\n",
            "104/104 [==============================] - 1s 6ms/step - loss: 0.4002 - accuracy: 0.8585 - val_loss: 0.7438 - val_accuracy: 0.7391\n",
            "Epoch 201/500\n",
            "104/104 [==============================] - 1s 6ms/step - loss: 0.4368 - accuracy: 0.8458 - val_loss: 0.7791 - val_accuracy: 0.7488\n",
            "Epoch 202/500\n",
            "104/104 [==============================] - 1s 6ms/step - loss: 0.4223 - accuracy: 0.8452 - val_loss: 0.7001 - val_accuracy: 0.7681\n",
            "Epoch 203/500\n",
            "104/104 [==============================] - 1s 6ms/step - loss: 0.4017 - accuracy: 0.8549 - val_loss: 0.7849 - val_accuracy: 0.7391\n",
            "Epoch 204/500\n",
            "104/104 [==============================] - 1s 6ms/step - loss: 0.4174 - accuracy: 0.8537 - val_loss: 0.7807 - val_accuracy: 0.7391\n",
            "Epoch 205/500\n",
            "104/104 [==============================] - 1s 6ms/step - loss: 0.4301 - accuracy: 0.8476 - val_loss: 0.8266 - val_accuracy: 0.7295\n",
            "Epoch 206/500\n",
            "104/104 [==============================] - 1s 5ms/step - loss: 0.4049 - accuracy: 0.8658 - val_loss: 0.6758 - val_accuracy: 0.7681\n",
            "Epoch 207/500\n",
            "104/104 [==============================] - 1s 6ms/step - loss: 0.4246 - accuracy: 0.8555 - val_loss: 0.8769 - val_accuracy: 0.7295\n",
            "Epoch 208/500\n",
            "104/104 [==============================] - 1s 6ms/step - loss: 0.3947 - accuracy: 0.8748 - val_loss: 0.7771 - val_accuracy: 0.7536\n",
            "Epoch 209/500\n",
            "104/104 [==============================] - 1s 6ms/step - loss: 0.3892 - accuracy: 0.8549 - val_loss: 0.7665 - val_accuracy: 0.7633\n",
            "Epoch 210/500\n",
            "104/104 [==============================] - 1s 6ms/step - loss: 0.4348 - accuracy: 0.8615 - val_loss: 1.0241 - val_accuracy: 0.7246\n",
            "Epoch 211/500\n",
            "104/104 [==============================] - 1s 6ms/step - loss: 0.3945 - accuracy: 0.8646 - val_loss: 0.8204 - val_accuracy: 0.7778\n",
            "Epoch 212/500\n",
            "104/104 [==============================] - 1s 6ms/step - loss: 0.3649 - accuracy: 0.8652 - val_loss: 0.7438 - val_accuracy: 0.7729\n",
            "Epoch 213/500\n",
            "104/104 [==============================] - 1s 6ms/step - loss: 0.3987 - accuracy: 0.8628 - val_loss: 0.7361 - val_accuracy: 0.7729\n"
          ]
        }
      ]
    },
    {
      "cell_type": "code",
      "source": [
        "plt.plot(cnnhistory.history['loss'])\n",
        "plt.plot(cnnhistory.history['val_loss'])\n",
        "plt.title('model loss')\n",
        "plt.ylabel('loss')\n",
        "plt.xlabel('epoch')\n",
        "plt.legend(['train','test'], loc='upper left')\n",
        "plt.show()"
      ],
      "metadata": {
        "colab": {
          "base_uri": "https://localhost:8080/",
          "height": 295
        },
        "id": "oQYnuaCrDH_A",
        "outputId": "94930d8b-a03d-41ee-95dd-e8061d11b54b"
      },
      "execution_count": 15,
      "outputs": [
        {
          "output_type": "display_data",
          "data": {
            "text/plain": [
              "<Figure size 432x288 with 1 Axes>"
            ],
            "image/png": "[encoded data removed]"
          },
          "metadata": {
            "needs_background": "light"
          }
        }
      ]
    },
    {
      "cell_type": "code",
      "source": [
        "plt.plot(cnnhistory.history['accuracy'])\n",
        "plt.plot(cnnhistory.history['val_accuracy'])\n",
        "plt.title('model accuracy')\n",
        "plt.ylabel('accuracy')\n",
        "plt.xlabel('epoch')\n",
        "plt.legend(['train','test'], loc='upper left')\n",
        "plt.show()"
      ],
      "metadata": {
        "colab": {
          "base_uri": "https://localhost:8080/",
          "height": 295
        },
        "id": "IFkTuO8nDNdq",
        "outputId": "da7accdf-7b32-49be-a0ef-4849f1b829f1"
      },
      "execution_count": 16,
      "outputs": [
        {
          "output_type": "display_data",
          "data": {
            "text/plain": [
              "<Figure size 432x288 with 1 Axes>"
            ],
            "image/png": "[encoded data removed]"
          },
          "metadata": {
            "needs_background": "light"
          }
        }
      ]
    },
    {
      "cell_type": "code",
      "source": [
        "predictions = model.predict(x_testcnn)"
      ],
      "metadata": {
        "id": "A2xtrN5wDQgY"
      },
      "execution_count": 17,
      "outputs": []
    },
    {
      "cell_type": "code",
      "source": [
        "predictions"
      ],
      "metadata": {
        "colab": {
          "base_uri": "https://localhost:8080/"
        },
        "id": "_f_ohjXKDUpY",
        "outputId": "0aa9fc0d-37a0-43a8-f294-880d93d71eec"
      },
      "execution_count": 18,
      "outputs": [
        {
          "output_type": "execute_result",
          "data": {
            "text/plain": [
              "array([[4.0856194e-01, 9.2355281e-02, 2.3259386e-01, 1.7884742e-01,\n",
              "        6.2853366e-02, 2.4788169e-02],\n",
              "       [7.1418827e-07, 1.4961522e-07, 1.9048931e-11, 9.9864048e-01,\n",
              "        1.4138979e-09, 1.3587279e-03],\n",
              "       [2.8450599e-01, 7.1022190e-02, 2.6305573e-02, 4.1536567e-01,\n",
              "        1.1664134e-02, 1.9113640e-01],\n",
              "       ...,\n",
              "       [1.5654393e-06, 1.5560049e-07, 1.3586083e-04, 1.8709412e-04,\n",
              "        9.9228776e-01, 7.3876162e-03],\n",
              "       [6.8410300e-04, 4.1487008e-01, 5.4872406e-01, 9.4494261e-03,\n",
              "        7.2340104e-03, 1.9038323e-02],\n",
              "       [3.0613581e-05, 4.3772689e-06, 5.5383523e-03, 1.3114398e-04,\n",
              "        9.9161726e-01, 2.6783228e-03]], dtype=float32)"
            ]
          },
          "metadata": {},
          "execution_count": 18
        }
      ]
    },
    {
      "cell_type": "code",
      "source": [
        "y_test"
      ],
      "metadata": {
        "colab": {
          "base_uri": "https://localhost:8080/"
        },
        "id": "cmA2bFgsDW3D",
        "outputId": "b9b5c2ae-9740-470d-8b3e-2ab62a9f46c7"
      },
      "execution_count": 19,
      "outputs": [
        {
          "output_type": "execute_result",
          "data": {
            "text/plain": [
              "array([3, 3, 3, 0, 4, 4, 1, 2, 5, 0, 5, 3, 2, 2, 1, 4, 4, 5, 2, 4, 1, 2,\n",
              "       3, 5, 4, 2, 1, 2, 2, 2, 2, 5, 2, 5, 3, 1, 2, 0, 4, 5, 2, 3, 2, 2,\n",
              "       5, 2, 0, 1, 3, 4, 4, 5, 1, 1, 4, 4, 5, 1, 1, 1, 0, 1, 5, 0, 4, 1,\n",
              "       1, 0, 1, 4, 1, 0, 4, 1, 3, 1, 2, 2, 1, 2, 3, 0, 5, 3, 5, 5, 2, 4,\n",
              "       5, 1, 5, 1, 5, 3, 4, 1, 4, 1, 5, 4, 5, 1, 2, 1, 1, 5, 1, 3, 2, 5,\n",
              "       2, 1, 3, 5, 4, 4, 0, 0, 3, 1, 2, 2, 3, 5, 1, 5, 3, 4, 2, 2, 0, 2,\n",
              "       2, 5, 5, 0, 3, 3, 2, 2, 0, 3, 4, 0, 4, 2, 4, 5, 4, 1, 5, 3, 2, 2,\n",
              "       5, 4, 3, 3, 4, 3, 3, 4, 1, 5, 2, 3, 2, 2, 0, 2, 1, 3, 1, 2, 2, 5,\n",
              "       5, 1, 4, 2, 2, 1, 1, 3, 3, 5, 5, 2, 5, 1, 5, 0, 3, 3, 0, 5, 1, 4,\n",
              "       1, 4, 2, 5, 5, 1, 4, 2, 4])"
            ]
          },
          "metadata": {},
          "execution_count": 19
        }
      ]
    },
    {
      "cell_type": "code",
      "source": [
        "new_Ytest = y_test.astype(int)"
      ],
      "metadata": {
        "id": "0PHDKWJWDY3g"
      },
      "execution_count": 20,
      "outputs": []
    },
    {
      "cell_type": "code",
      "source": [
        "new_Ytest"
      ],
      "metadata": {
        "colab": {
          "base_uri": "https://localhost:8080/"
        },
        "id": "k68v2i-pDbZE",
        "outputId": "71f873e8-0716-4c5d-af75-062237877b74"
      },
      "execution_count": 21,
      "outputs": [
        {
          "output_type": "execute_result",
          "data": {
            "text/plain": [
              "array([3, 3, 3, 0, 4, 4, 1, 2, 5, 0, 5, 3, 2, 2, 1, 4, 4, 5, 2, 4, 1, 2,\n",
              "       3, 5, 4, 2, 1, 2, 2, 2, 2, 5, 2, 5, 3, 1, 2, 0, 4, 5, 2, 3, 2, 2,\n",
              "       5, 2, 0, 1, 3, 4, 4, 5, 1, 1, 4, 4, 5, 1, 1, 1, 0, 1, 5, 0, 4, 1,\n",
              "       1, 0, 1, 4, 1, 0, 4, 1, 3, 1, 2, 2, 1, 2, 3, 0, 5, 3, 5, 5, 2, 4,\n",
              "       5, 1, 5, 1, 5, 3, 4, 1, 4, 1, 5, 4, 5, 1, 2, 1, 1, 5, 1, 3, 2, 5,\n",
              "       2, 1, 3, 5, 4, 4, 0, 0, 3, 1, 2, 2, 3, 5, 1, 5, 3, 4, 2, 2, 0, 2,\n",
              "       2, 5, 5, 0, 3, 3, 2, 2, 0, 3, 4, 0, 4, 2, 4, 5, 4, 1, 5, 3, 2, 2,\n",
              "       5, 4, 3, 3, 4, 3, 3, 4, 1, 5, 2, 3, 2, 2, 0, 2, 1, 3, 1, 2, 2, 5,\n",
              "       5, 1, 4, 2, 2, 1, 1, 3, 3, 5, 5, 2, 5, 1, 5, 0, 3, 3, 0, 5, 1, 4,\n",
              "       1, 4, 2, 5, 5, 1, 4, 2, 4])"
            ]
          },
          "metadata": {},
          "execution_count": 21
        }
      ]
    },
    {
      "cell_type": "code",
      "source": [
        "preds1=predictions.argmax(axis=1)\n",
        "preds1"
      ],
      "metadata": {
        "colab": {
          "base_uri": "https://localhost:8080/"
        },
        "id": "4_cAI39VFhtp",
        "outputId": "eeb9d70a-9e04-46d3-914f-48ea98f1e88b"
      },
      "execution_count": 22,
      "outputs": [
        {
          "output_type": "execute_result",
          "data": {
            "text/plain": [
              "array([0, 3, 3, 0, 4, 4, 1, 2, 5, 1, 4, 3, 2, 2, 0, 4, 4, 3, 3, 4, 2, 2,\n",
              "       3, 2, 4, 2, 1, 0, 4, 2, 2, 5, 2, 5, 3, 1, 2, 0, 4, 5, 2, 5, 2, 2,\n",
              "       5, 4, 1, 1, 3, 4, 4, 5, 1, 1, 4, 4, 5, 1, 1, 1, 3, 1, 2, 1, 4, 1,\n",
              "       1, 1, 1, 4, 0, 2, 4, 1, 5, 5, 2, 2, 1, 3, 1, 0, 5, 3, 5, 5, 2, 5,\n",
              "       5, 1, 5, 1, 5, 3, 4, 1, 4, 0, 5, 4, 5, 1, 2, 1, 1, 5, 1, 5, 2, 5,\n",
              "       5, 1, 3, 5, 4, 4, 3, 0, 3, 1, 1, 2, 1, 5, 1, 3, 3, 4, 2, 2, 0, 2,\n",
              "       2, 3, 5, 0, 3, 3, 2, 2, 0, 3, 4, 0, 4, 1, 4, 5, 4, 1, 5, 3, 2, 2,\n",
              "       5, 4, 3, 3, 4, 5, 3, 4, 1, 5, 2, 3, 2, 2, 0, 2, 1, 3, 1, 2, 2, 5,\n",
              "       5, 1, 4, 2, 4, 1, 1, 3, 3, 5, 5, 2, 5, 1, 4, 1, 3, 3, 1, 5, 1, 4,\n",
              "       1, 4, 5, 5, 5, 1, 4, 2, 4])"
            ]
          },
          "metadata": {},
          "execution_count": 22
        }
      ]
    },
    {
      "cell_type": "code",
      "source": [
        "abc = preds1.astype(int).flatten()"
      ],
      "metadata": {
        "id": "H4WEmM60NfQn"
      },
      "execution_count": 23,
      "outputs": []
    },
    {
      "cell_type": "code",
      "source": [
        "from sklearn.metrics import confusion_matrix\n",
        "c = confusion_matrix(new_Ytest, abc) \n",
        "c"
      ],
      "metadata": {
        "colab": {
          "base_uri": "https://localhost:8080/"
        },
        "id": "bKEBeEBlFjB8",
        "outputId": "daa2acc8-b67a-4a83-f084-4bef61f6365b"
      },
      "execution_count": 24,
      "outputs": [
        {
          "output_type": "execute_result",
          "data": {
            "text/plain": [
              "array([[ 9,  6,  1,  2,  0,  0],\n",
              "       [ 3, 36,  1,  0,  0,  1],\n",
              "       [ 1,  2, 35,  2,  3,  2],\n",
              "       [ 1,  2,  0, 24,  0,  4],\n",
              "       [ 0,  0,  0,  0, 32,  1],\n",
              "       [ 0,  0,  2,  3,  2, 32]])"
            ]
          },
          "metadata": {},
          "execution_count": 24
        }
      ]
    },
    {
      "cell_type": "code",
      "source": [
        "y_test"
      ],
      "metadata": {
        "colab": {
          "base_uri": "https://localhost:8080/"
        },
        "id": "m4RjG7LWLSQx",
        "outputId": "a5832f04-c072-4018-fc57-e733b79a63ab"
      },
      "execution_count": 25,
      "outputs": [
        {
          "output_type": "execute_result",
          "data": {
            "text/plain": [
              "array([3, 3, 3, 0, 4, 4, 1, 2, 5, 0, 5, 3, 2, 2, 1, 4, 4, 5, 2, 4, 1, 2,\n",
              "       3, 5, 4, 2, 1, 2, 2, 2, 2, 5, 2, 5, 3, 1, 2, 0, 4, 5, 2, 3, 2, 2,\n",
              "       5, 2, 0, 1, 3, 4, 4, 5, 1, 1, 4, 4, 5, 1, 1, 1, 0, 1, 5, 0, 4, 1,\n",
              "       1, 0, 1, 4, 1, 0, 4, 1, 3, 1, 2, 2, 1, 2, 3, 0, 5, 3, 5, 5, 2, 4,\n",
              "       5, 1, 5, 1, 5, 3, 4, 1, 4, 1, 5, 4, 5, 1, 2, 1, 1, 5, 1, 3, 2, 5,\n",
              "       2, 1, 3, 5, 4, 4, 0, 0, 3, 1, 2, 2, 3, 5, 1, 5, 3, 4, 2, 2, 0, 2,\n",
              "       2, 5, 5, 0, 3, 3, 2, 2, 0, 3, 4, 0, 4, 2, 4, 5, 4, 1, 5, 3, 2, 2,\n",
              "       5, 4, 3, 3, 4, 3, 3, 4, 1, 5, 2, 3, 2, 2, 0, 2, 1, 3, 1, 2, 2, 5,\n",
              "       5, 1, 4, 2, 2, 1, 1, 3, 3, 5, 5, 2, 5, 1, 5, 0, 3, 3, 0, 5, 1, 4,\n",
              "       1, 4, 2, 5, 5, 1, 4, 2, 4])"
            ]
          },
          "metadata": {},
          "execution_count": 25
        }
      ]
    },
    {
      "cell_type": "code",
      "source": [
        "loss, acc =model.evaluate(x_testcnn, y_test)\n",
        "print(\"Restored model, accuracy: {:5.2f}%\".format(100*acc))"
      ],
      "metadata": {
        "colab": {
          "base_uri": "https://localhost:8080/"
        },
        "id": "n3kzoqPkDqqS",
        "outputId": "ab8c63e7-4fb8-4955-d91c-7554fa2355fa"
      },
      "execution_count": 26,
      "outputs": [
        {
          "output_type": "stream",
          "name": "stdout",
          "text": [
            "7/7 [==============================] - 0s 3ms/step - loss: 0.5223 - accuracy: 0.8116\n",
            "Restored model, accuracy: 81.16%\n"
          ]
        }
      ]
    },
    {
      "cell_type": "code",
      "source": [
        "loss, acc =model.evaluate(X_train, y_train)\n",
        "print(\"Restored model train, accuracy: {:5.2f}%\".format(100*acc))"
      ],
      "metadata": {
        "id": "fJDTGH_OUX0z",
        "colab": {
          "base_uri": "https://localhost:8080/"
        },
        "outputId": "3c42cdf4-1f6e-4635-c800-61241e7c3d20"
      },
      "execution_count": 27,
      "outputs": [
        {
          "output_type": "stream",
          "name": "stdout",
          "text": [
            "52/52 [==============================] - 0s 5ms/step - loss: 0.2325 - accuracy: 0.9613\n",
            "Restored model train, accuracy: 96.13%\n"
          ]
        }
      ]
    },
    {
      "cell_type": "code",
      "source": [
        "from sklearn.metrics import classification_report, confusion_matrix,accuracy_score\n",
        "import seaborn as sn\n",
        "\n",
        "print(classification_report(new_Ytest,abc))\n",
        "\n",
        "acc = float(accuracy_score(new_Ytest,abc))*100\n",
        "print(\"----accuracy score %s ----\" % acc)\n",
        "\n",
        "cm = confusion_matrix(new_Ytest,abc)\n",
        "#df_cm = pd.DataFrame(cm)\n",
        "class_names = ['neutral','calm', 'happy','sad','angry', 'fearful' ]\n",
        "df_cm = pd.DataFrame(cm, index=class_names, columns=class_names,)\n",
        "sn.heatmap(df_cm, annot=True, fmt='')\n",
        "plt.show()"
      ],
      "metadata": {
        "colab": {
          "base_uri": "https://localhost:8080/",
          "height": 508
        },
        "id": "SfSC3El94LZg",
        "outputId": "ed8c7830-f9e1-42bd-b11f-7c34807a88a0"
      },
      "execution_count": 28,
      "outputs": [
        {
          "output_type": "stream",
          "name": "stdout",
          "text": [
            "              precision    recall  f1-score   support\n",
            "\n",
            "           0       0.64      0.50      0.56        18\n",
            "           1       0.78      0.88      0.83        41\n",
            "           2       0.90      0.78      0.83        45\n",
            "           3       0.77      0.77      0.77        31\n",
            "           4       0.86      0.97      0.91        33\n",
            "           5       0.80      0.82      0.81        39\n",
            "\n",
            "    accuracy                           0.81       207\n",
            "   macro avg       0.79      0.79      0.79       207\n",
            "weighted avg       0.81      0.81      0.81       207\n",
            "\n",
            "----accuracy score 81.15942028985508 ----\n"
          ]
        },
        {
          "output_type": "display_data",
          "data": {
            "text/plain": [
              "<Figure size 432x288 with 2 Axes>"
            ],
            "image/png": "[encoded data removed]"
          },
          "metadata": {
            "needs_background": "light"
          }
        }
      ]
    }
  ]
}