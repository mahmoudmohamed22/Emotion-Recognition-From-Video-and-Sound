{
  "nbformat": 4,
  "nbformat_minor": 0,
  "metadata": {
    "colab": {
      "name": "original_rms_0.0002_without early_without_shufflel500_1.ipynb",
      "provenance": [],
      "collapsed_sections": []
    },
    "kernelspec": {
      "name": "python3",
      "display_name": "Python 3"
    },
    "language_info": {
      "name": "python"
    },
    "accelerator": "GPU"
  },
  "cells": [
    {
      "cell_type": "code",
      "execution_count": 3,
      "metadata": {
        "colab": {
          "base_uri": "https://localhost:8080/"
        },
        "id": "9SRCO-a_AlH5",
        "outputId": "ef0ac785-f068-4be1-d523-fba26939af46"
      },
      "outputs": [
        {
          "output_type": "stream",
          "name": "stdout",
          "text": [
            "Mounted at /content/drive\n"
          ]
        }
      ],
      "source": [
        "from google.colab import drive\n",
        "drive.mount('/content/drive')"
      ]
    },
    {
      "cell_type": "code",
      "metadata": {
        "id": "HJjcbxwy46bG",
        "colab": {
          "base_uri": "https://localhost:8080/",
          "height": 17
        },
        "outputId": "2969814f-7c41-4e12-8486-62345243de07"
      },
      "source": [
        "# Orignial Notebook: https://github.com/MITESHPUTHRANNEU/Speech-Emotion-Analyzer/blob/master/final_results_gender_test.ipynb\n",
        "# This notebook author: Reza Chu\n",
        "# Last Editing Date: 31st May 2019\n",
        "\n",
        "## Python\n",
        "import os\n",
        "import random\n",
        "import sys\n",
        "\n",
        "import IPython\n",
        "from IPython.display import Audio\n",
        "from IPython.display import Image\n",
        "import matplotlib.pyplot as plt\n",
        "\n",
        "## Package\n",
        "import glob \n",
        "import keras\n",
        "import IPython.display as ipd\n",
        "import librosa\n",
        "import librosa.display\n",
        "import matplotlib.pyplot as plt\n",
        "import numpy as np\n",
        "import pandas as pd\n",
        "import plotly.graph_objs as go\n",
        "import plotly.offline as py\n",
        "import plotly.tools as tls\n",
        "import seaborn as sns\n",
        "import scipy.io.wavfile\n",
        "import tensorflow as tf\n",
        "py.init_notebook_mode(connected=True)\n",
        "\n",
        "## Keras\n",
        "from keras import regularizers\n",
        "from keras.callbacks import ModelCheckpoint, LearningRateScheduler, EarlyStopping\n",
        "from keras.callbacks import  History, ReduceLROnPlateau, CSVLogger\n",
        "from keras.models import Model, Sequential\n",
        "from keras.layers import Dense, Embedding, LSTM\n",
        "from keras.layers import Input, Flatten, Dropout, Activation, BatchNormalization\n",
        "from keras.layers import Conv1D, MaxPooling1D, AveragePooling1D\n",
        "from keras.preprocessing import sequence\n",
        "from keras.preprocessing.sequence import pad_sequences\n",
        "from keras.preprocessing.text import Tokenizer\n",
        "from keras.utils import np_utils\n",
        "from tensorflow.keras.utils import to_categorical\n",
        "\n",
        "## Sklearn\n",
        "from sklearn.metrics import confusion_matrix\n",
        "from sklearn.preprocessing import LabelEncoder\n",
        "\n",
        "## Rest\n",
        "from scipy.fftpack import fft\n",
        "from scipy import signal\n",
        "from scipy.io import wavfile\n",
        "from tqdm import tqdm\n",
        "\n",
        "input_duration=3\n",
        "# % pylab inline"
      ],
      "execution_count": 1,
      "outputs": [
        {
          "output_type": "display_data",
          "data": {
            "text/html": [
              "        <script type=\"text/javascript\">\n",
              "        window.PlotlyConfig = {MathJaxConfig: 'local'};\n",
              "        if (window.MathJax) {MathJax.Hub.Config({SVG: {font: \"STIX-Web\"}});}\n",
              "        if (typeof require !== 'undefined') {\n",
              "        require.undef(\"plotly\");\n",
              "        requirejs.config({\n",
              "            paths: {\n",
              "                'plotly': ['https://cdn.plot.ly/plotly-2.8.3.min']\n",
              "            }\n",
              "        });\n",
              "        require(['plotly'], function(Plotly) {\n",
              "            window._Plotly = Plotly;\n",
              "        });\n",
              "        }\n",
              "        </script>\n",
              "        "
            ]
          },
          "metadata": {}
        }
      ]
    },
    {
      "cell_type": "code",
      "source": [
        "#radvass speech and song\n",
        "import time\n",
        "import os\n",
        "import librosa\n",
        "from librosa import display\n",
        "import matplotlib.pyplot as plt\n",
        "\n",
        "count=0\n",
        "path1 = '/content/drive/MyDrive/RAVDESS_speech'\n",
        "path2 = '/content/drive/MyDrive/RAVDESS_song'\n",
        "\n",
        "lst = []\n",
        "\n",
        "start_time = time.time()\n",
        "\n",
        "for subdir, dirs, files in os.walk(path2):\n",
        "  print(dirs)\n",
        "  print(subdir)\n",
        "  #print(files)\n",
        "  for file in files:\n",
        "      try:\n",
        "        count +=1\n",
        "        #Load librosa array, obtain mfcss, store the file and the mcss information in a new array\n",
        "        X, sample_rate = librosa.load(os.path.join(subdir,file), res_type='kaiser_fast')\n",
        "        mfccs = np.mean(librosa.feature.mfcc(y=X, sr=sample_rate, n_mfcc=40).T,axis=0) \n",
        "        # The instruction below converts the labels (from 1 to 8) to a series from 0 to 7\n",
        "        # This is because our predictor needs to start from 0 otherwise it will try to predict also 0.\n",
        "        file = int(file[7:8]) - 1 \n",
        "        arr = mfccs, file\n",
        "        lst.append(arr)\n",
        "      # If the file is not valid, skip it\n",
        "      except ValueError:\n",
        "        continue\n",
        "\n",
        "for subdir, dirs, files in os.walk(path1):\n",
        "  print(dirs)\n",
        "  print(subdir)\n",
        " # print(files)\n",
        "  for file in files:\n",
        "      try:\n",
        "        #Load librosa array, obtain mfcss, store the file and the mcss information in a new array\n",
        "        X, sample_rate = librosa.load(os.path.join(subdir,file), res_type='kaiser_fast')\n",
        "        mfccs = np.mean(librosa.feature.mfcc(y=X, sr=sample_rate, n_mfcc=40).T,axis=0) \n",
        "        # The instruction below converts the labels (from 1 to 8) to a series from 0 to 7\n",
        "        # This is because our predictor needs to start from 0 otherwise it will try to predict also 0.\n",
        "        file = int(file[7:8]) - 1 \n",
        "        if(file ==6 or file==7):\n",
        "          continue\n",
        "        count +=1\n",
        "        arr = mfccs, file\n",
        "        lst.append(arr)\n",
        "      # If the file is not valid, skip it\n",
        "      except ValueError:\n",
        "        continue\n",
        "\n",
        "\n",
        "\n",
        "print(\"--- Data loaded. Loading time: %s seconds ---\" % (time.time() - start_time))"
      ],
      "metadata": {
        "colab": {
          "base_uri": "https://localhost:8080/"
        },
        "id": "IfuyRZl42ccZ",
        "outputId": "ce249970-9930-450a-db19-8e2b3f9edde8"
      },
      "execution_count": null,
      "outputs": [
        {
          "output_type": "stream",
          "name": "stdout",
          "text": [
            "['Actor_10', 'Actor_11', 'Actor_13', 'Actor_12', 'Actor_14', 'Actor_15', 'Actor_16', 'Actor_17', 'Actor_18', 'Actor_19', 'Actor_21', 'Actor_22', 'Actor_23', 'Actor_09', 'Actor_24', 'Actor_04', 'Actor_08', 'Actor_03', 'Actor_02', 'Actor_06', 'Actor_05', 'Actor_01', 'Actor_07', 'Actor_20']\n",
            "/content/drive/MyDrive/RAVDESS_song\n",
            "[]\n",
            "/content/drive/MyDrive/RAVDESS_song/Actor_10\n",
            "[]\n",
            "/content/drive/MyDrive/RAVDESS_song/Actor_11\n",
            "[]\n",
            "/content/drive/MyDrive/RAVDESS_song/Actor_13\n",
            "[]\n",
            "/content/drive/MyDrive/RAVDESS_song/Actor_12\n",
            "[]\n",
            "/content/drive/MyDrive/RAVDESS_song/Actor_14\n",
            "[]\n",
            "/content/drive/MyDrive/RAVDESS_song/Actor_15\n",
            "[]\n",
            "/content/drive/MyDrive/RAVDESS_song/Actor_16\n",
            "[]\n",
            "/content/drive/MyDrive/RAVDESS_song/Actor_17\n",
            "[]\n",
            "/content/drive/MyDrive/RAVDESS_song/Actor_18\n",
            "[]\n",
            "/content/drive/MyDrive/RAVDESS_song/Actor_19\n",
            "[]\n",
            "/content/drive/MyDrive/RAVDESS_song/Actor_21\n",
            "[]\n",
            "/content/drive/MyDrive/RAVDESS_song/Actor_22\n",
            "[]\n",
            "/content/drive/MyDrive/RAVDESS_song/Actor_23\n",
            "[]\n",
            "/content/drive/MyDrive/RAVDESS_song/Actor_09\n",
            "[]\n",
            "/content/drive/MyDrive/RAVDESS_song/Actor_24\n",
            "[]\n",
            "/content/drive/MyDrive/RAVDESS_song/Actor_04\n",
            "[]\n",
            "/content/drive/MyDrive/RAVDESS_song/Actor_08\n",
            "[]\n",
            "/content/drive/MyDrive/RAVDESS_song/Actor_03\n",
            "[]\n",
            "/content/drive/MyDrive/RAVDESS_song/Actor_02\n",
            "[]\n",
            "/content/drive/MyDrive/RAVDESS_song/Actor_06\n",
            "[]\n",
            "/content/drive/MyDrive/RAVDESS_song/Actor_05\n",
            "[]\n",
            "/content/drive/MyDrive/RAVDESS_song/Actor_01\n",
            "[]\n",
            "/content/drive/MyDrive/RAVDESS_song/Actor_07\n",
            "[]\n",
            "/content/drive/MyDrive/RAVDESS_song/Actor_20\n",
            "['Actor_05', 'Actor_08', 'Actor_10', 'Actor_04', 'Actor_09', 'Actor_14', 'Actor_12', 'Actor_13', 'Actor_11', 'Actor_06', 'Actor_24', 'Actor_07', 'Actor_23', 'Actor_22', 'Actor_21', 'Actor_20', 'Actor_02', 'Actor_19', 'Actor_18', 'Actor_17', 'Actor_16', 'Actor_15', 'Actor_03', 'Actor_01']\n",
            "/content/drive/MyDrive/RAVDESS_speech\n",
            "[]\n",
            "/content/drive/MyDrive/RAVDESS_speech/Actor_05\n",
            "[]\n",
            "/content/drive/MyDrive/RAVDESS_speech/Actor_08\n",
            "[]\n",
            "/content/drive/MyDrive/RAVDESS_speech/Actor_10\n",
            "[]\n",
            "/content/drive/MyDrive/RAVDESS_speech/Actor_04\n",
            "[]\n",
            "/content/drive/MyDrive/RAVDESS_speech/Actor_09\n",
            "[]\n",
            "/content/drive/MyDrive/RAVDESS_speech/Actor_14\n",
            "[]\n",
            "/content/drive/MyDrive/RAVDESS_speech/Actor_12\n",
            "[]\n",
            "/content/drive/MyDrive/RAVDESS_speech/Actor_13\n",
            "[]\n",
            "/content/drive/MyDrive/RAVDESS_speech/Actor_11\n",
            "[]\n",
            "/content/drive/MyDrive/RAVDESS_speech/Actor_06\n",
            "[]\n",
            "/content/drive/MyDrive/RAVDESS_speech/Actor_24\n",
            "[]\n",
            "/content/drive/MyDrive/RAVDESS_speech/Actor_07\n",
            "[]\n",
            "/content/drive/MyDrive/RAVDESS_speech/Actor_23\n",
            "[]\n",
            "/content/drive/MyDrive/RAVDESS_speech/Actor_22\n",
            "[]\n",
            "/content/drive/MyDrive/RAVDESS_speech/Actor_21\n",
            "[]\n",
            "/content/drive/MyDrive/RAVDESS_speech/Actor_20\n",
            "[]\n",
            "/content/drive/MyDrive/RAVDESS_speech/Actor_02\n",
            "[]\n",
            "/content/drive/MyDrive/RAVDESS_speech/Actor_19\n",
            "[]\n",
            "/content/drive/MyDrive/RAVDESS_speech/Actor_18\n",
            "[]\n",
            "/content/drive/MyDrive/RAVDESS_speech/Actor_17\n",
            "[]\n",
            "/content/drive/MyDrive/RAVDESS_speech/Actor_16\n",
            "[]\n",
            "/content/drive/MyDrive/RAVDESS_speech/Actor_15\n",
            "[]\n",
            "/content/drive/MyDrive/RAVDESS_speech/Actor_03\n",
            "[]\n",
            "/content/drive/MyDrive/RAVDESS_speech/Actor_01\n",
            "--- Data loaded. Loading time: 204.12607288360596 seconds ---\n"
          ]
        }
      ]
    },
    {
      "cell_type": "code",
      "source": [
        "count"
      ],
      "metadata": {
        "id": "Ltlhi25L2AI5",
        "colab": {
          "base_uri": "https://localhost:8080/"
        },
        "outputId": "92f64156-e27a-4381-e558-85094fc41c56"
      },
      "execution_count": null,
      "outputs": [
        {
          "output_type": "execute_result",
          "data": {
            "text/plain": [
              "2068"
            ]
          },
          "metadata": {},
          "execution_count": 5
        }
      ]
    },
    {
      "cell_type": "code",
      "source": [
        "from numpy.core.fromnumeric import size\n",
        "size(lst)"
      ],
      "metadata": {
        "id": "HMOH7d7mzHB7",
        "colab": {
          "base_uri": "https://localhost:8080/"
        },
        "outputId": "454c6795-9625-4c4a-aae1-8816c01db98f"
      },
      "execution_count": null,
      "outputs": [
        {
          "output_type": "stream",
          "name": "stderr",
          "text": [
            "/usr/local/lib/python3.7/dist-packages/numpy/core/fromnumeric.py:3208: VisibleDeprecationWarning:\n",
            "\n",
            "Creating an ndarray from ragged nested sequences (which is a list-or-tuple of lists-or-tuples-or ndarrays with different lengths or shapes) is deprecated. If you meant to do this, you must specify 'dtype=object' when creating the ndarray.\n",
            "\n"
          ]
        },
        {
          "output_type": "execute_result",
          "data": {
            "text/plain": [
              "4136"
            ]
          },
          "metadata": {},
          "execution_count": 6
        }
      ]
    },
    {
      "cell_type": "code",
      "source": [
        "# Creating X and y: zip makes a list of all the first elements, and a list of all the second elements.\n",
        "X, y = zip(*lst)"
      ],
      "metadata": {
        "id": "ocdL7tSTBoMt"
      },
      "execution_count": null,
      "outputs": []
    },
    {
      "cell_type": "code",
      "source": [
        "import numpy as np\n",
        "X = np.asarray(X)\n",
        "y = np.asarray(y)\n",
        "X.shape, y.shape"
      ],
      "metadata": {
        "id": "vHKwUGTbBtnF",
        "colab": {
          "base_uri": "https://localhost:8080/"
        },
        "outputId": "52b5b212-692b-49e9-b357-6d6f08d864df"
      },
      "execution_count": null,
      "outputs": [
        {
          "output_type": "execute_result",
          "data": {
            "text/plain": [
              "((2068, 40), (2068,))"
            ]
          },
          "metadata": {},
          "execution_count": 8
        }
      ]
    },
    {
      "cell_type": "code",
      "source": [
        "X.shape"
      ],
      "metadata": {
        "id": "2sUCtbfMztE5",
        "colab": {
          "base_uri": "https://localhost:8080/"
        },
        "outputId": "e14844a2-b3c4-439c-e82f-783c1f91504a"
      },
      "execution_count": null,
      "outputs": [
        {
          "output_type": "execute_result",
          "data": {
            "text/plain": [
              "(2068, 40)"
            ]
          },
          "metadata": {},
          "execution_count": 9
        }
      ]
    },
    {
      "cell_type": "code",
      "source": [
        "# # Saving joblib files to not load them again with the loop above\n",
        "\n",
        "# import joblib\n",
        "\n",
        "# X_name = 'x.joblib'\n",
        "# y_name = 'y.joblib'\n",
        "# save_dir = '/content/drive/My Drive/graduation project/audio/paper_code/features'\n",
        "\n",
        "# savedX = joblib.dump(X, os.path.join(save_dir, X_name))\n",
        "# savedy = joblib.dump(y, os.path.join(save_dir, y_name))"
      ],
      "metadata": {
        "id": "UCzic8rlDcuk"
      },
      "execution_count": null,
      "outputs": []
    },
    {
      "cell_type": "code",
      "source": [
        "# # Loading saved models\n",
        "import joblib\n",
        "X = joblib.load('/content/drive/My Drive/graduation project/audio/paper_code/features/x.joblib')\n",
        "y = joblib.load('/content/drive/My Drive/graduation project/audio/paper_code/features/y.joblib')"
      ],
      "metadata": {
        "id": "Q35CN6zDrzg1"
      },
      "execution_count": 2,
      "outputs": []
    },
    {
      "cell_type": "code",
      "source": [
        "X.shape"
      ],
      "metadata": {
        "colab": {
          "base_uri": "https://localhost:8080/"
        },
        "id": "7PSTurzjCo5K",
        "outputId": "3c8e33f1-15f2-41bf-cf39-e680e14d3dd5"
      },
      "execution_count": 3,
      "outputs": [
        {
          "output_type": "execute_result",
          "data": {
            "text/plain": [
              "(2068, 40)"
            ]
          },
          "metadata": {},
          "execution_count": 3
        }
      ]
    },
    {
      "cell_type": "code",
      "source": [
        "from sklearn.model_selection import train_test_split\n",
        "\n",
        "X_train, X_test, y_train, y_test = train_test_split(X,y, test_size=0.1,shuffle = True, random_state=42)\n",
        "X_train , X_valid, y_train, y_valid = train_test_split(X_train,y_train, test_size=0.1112305212, shuffle = True, random_state=42)"
      ],
      "metadata": {
        "id": "Ai4Fy5cPCiq1"
      },
      "execution_count": 4,
      "outputs": []
    },
    {
      "cell_type": "code",
      "source": [
        "import numpy as np\n",
        "x_traincnn = np.expand_dims(X_train, axis=2)\n",
        "x_testcnn = np.expand_dims(X_test, axis=2)\n",
        "X_valid= np.expand_dims(X_valid, axis=2)"
      ],
      "metadata": {
        "id": "tp1Fm5K3CEXu"
      },
      "execution_count": 5,
      "outputs": []
    },
    {
      "cell_type": "code",
      "source": [
        "x_traincnn.shape, x_testcnn.shape , X_valid.shape\n",
        "#1861"
      ],
      "metadata": {
        "id": "RI0MxoIPBws5",
        "colab": {
          "base_uri": "https://localhost:8080/"
        },
        "outputId": "4b000a31-0632-4d1e-e75b-4fbfb5ca529f"
      },
      "execution_count": 6,
      "outputs": [
        {
          "output_type": "execute_result",
          "data": {
            "text/plain": [
              "((1654, 40, 1), (207, 40, 1), (207, 40, 1))"
            ]
          },
          "metadata": {},
          "execution_count": 6
        }
      ]
    },
    {
      "cell_type": "code",
      "source": [
        "import keras\n",
        "import numpy as np\n",
        "import matplotlib.pyplot as plt\n",
        "import tensorflow as tf\n",
        "from keras.preprocessing import sequence\n",
        "from keras.models import Sequential\n",
        "from keras.layers import Dense, Embedding\n",
        "from tensorflow.keras.utils import to_categorical\n",
        "from keras.layers import Input, Flatten, Dropout, Activation\n",
        "from keras.layers import Conv1D, MaxPooling1D\n",
        "from keras.models import Model\n",
        "from keras.callbacks import ModelCheckpoint\n",
        "from tensorflow.keras import optimizers\n",
        "\n",
        "model = Sequential()\n",
        "\n",
        "model.add(Conv1D(128, 8,padding='same', #classifier.add(Convolution2D(64, (3, 3), padding = 'same', input_shape = (128, 128, 3), activation = 'relu'))\n",
        "                 input_shape=(40,1)))\n",
        "model.add(Activation('relu'))\n",
        "model.add(Dropout(0.3))\n",
        "model.add(MaxPooling1D(pool_size=(5)))\n",
        "\n",
        "\n",
        "model.add(Conv1D(256,8,padding='same',))\n",
        "model.add(Activation('relu'))\n",
        "model.add(Dropout(0.3))\n",
        "model.add(MaxPooling1D(pool_size=(5)))\n",
        "\n",
        "model.add(Flatten())\n",
        "\n",
        "model.add(Dense(256))\n",
        "model.add(Activation('relu'))\n",
        "model.add(Dense(256))\n",
        "model.add(Activation('relu'))\n",
        "\n",
        "model.add(Dense(6))\n",
        "model.add(Activation('softmax'))\n",
        "\n",
        "opt = tf.keras.optimizers.RMSprop(lr=0.0002 , decay=0.9)\n",
        "#opt = tf.keras.optimizers.RMSprop(lr=0.0001, rho=0.9, epsilon=1e-07, decay=0.0)\n",
        "#opt = tf.keras.optimizers.SGD(lr=0.001, momentum=0.0, decay=0.0, nesterov=False)"
      ],
      "metadata": {
        "id": "g74fXWVAC4Cr",
        "colab": {
          "base_uri": "https://localhost:8080/"
        },
        "outputId": "38fc04f1-0c61-48ab-a1ff-0de3873309d0"
      },
      "execution_count": 7,
      "outputs": [
        {
          "output_type": "stream",
          "name": "stderr",
          "text": [
            "/usr/local/lib/python3.7/dist-packages/keras/optimizer_v2/rmsprop.py:130: UserWarning:\n",
            "\n",
            "The `lr` argument is deprecated, use `learning_rate` instead.\n",
            "\n"
          ]
        }
      ]
    },
    {
      "cell_type": "code",
      "source": [
        "model.summary()"
      ],
      "metadata": {
        "colab": {
          "base_uri": "https://localhost:8080/"
        },
        "id": "H6ukOxAGC_I4",
        "outputId": "0d43078c-a482-494e-c38b-4fb69d4135a6"
      },
      "execution_count": 8,
      "outputs": [
        {
          "output_type": "stream",
          "name": "stdout",
          "text": [
            "Model: \"sequential\"\n",
            "_________________________________________________________________\n",
            " Layer (type)                Output Shape              Param #   \n",
            "=================================================================\n",
            " conv1d (Conv1D)             (None, 40, 128)           1152      \n",
            "                                                                 \n",
            " activation (Activation)     (None, 40, 128)           0         \n",
            "                                                                 \n",
            " dropout (Dropout)           (None, 40, 128)           0         \n",
            "                                                                 \n",
            " max_pooling1d (MaxPooling1D  (None, 8, 128)           0         \n",
            " )                                                               \n",
            "                                                                 \n",
            " conv1d_1 (Conv1D)           (None, 8, 256)            262400    \n",
            "                                                                 \n",
            " activation_1 (Activation)   (None, 8, 256)            0         \n",
            "                                                                 \n",
            " dropout_1 (Dropout)         (None, 8, 256)            0         \n",
            "                                                                 \n",
            " max_pooling1d_1 (MaxPooling  (None, 1, 256)           0         \n",
            " 1D)                                                             \n",
            "                                                                 \n",
            " flatten (Flatten)           (None, 256)               0         \n",
            "                                                                 \n",
            " dense (Dense)               (None, 256)               65792     \n",
            "                                                                 \n",
            " activation_2 (Activation)   (None, 256)               0         \n",
            "                                                                 \n",
            " dense_1 (Dense)             (None, 256)               65792     \n",
            "                                                                 \n",
            " activation_3 (Activation)   (None, 256)               0         \n",
            "                                                                 \n",
            " dense_2 (Dense)             (None, 6)                 1542      \n",
            "                                                                 \n",
            " activation_4 (Activation)   (None, 6)                 0         \n",
            "                                                                 \n",
            "=================================================================\n",
            "Total params: 396,678\n",
            "Trainable params: 396,678\n",
            "Non-trainable params: 0\n",
            "_________________________________________________________________\n"
          ]
        }
      ]
    },
    {
      "cell_type": "code",
      "source": [
        "model.compile(loss='sparse_categorical_crossentropy',\n",
        "              optimizer=opt,\n",
        "              metrics=['accuracy'])"
      ],
      "metadata": {
        "id": "AbMlLNk4DCBM"
      },
      "execution_count": 9,
      "outputs": []
    },
    {
      "cell_type": "code",
      "source": [
        "# Create an Instance of Early Stopping Callback.\n",
        "#early_stopping_callback = EarlyStopping(monitor = 'val_loss', patience = 25, mode = 'min', restore_best_weights = True)\n",
        "\n",
        "cnnhistory=model.fit(x_traincnn, y_train, batch_size=16, epochs=500 , #shuffle = True, \n",
        "                     validation_data=(X_valid, y_valid) )#, callbacks = [early_stopping_callback])"
      ],
      "metadata": {
        "colab": {
          "base_uri": "https://localhost:8080/"
        },
        "id": "RI1v2AuADFhy",
        "outputId": "c77af833-d301-4611-ca2a-3159e7d388d7"
      },
      "execution_count": 10,
      "outputs": [
        {
          "output_type": "stream",
          "name": "stdout",
          "text": [
            "Epoch 1/500\n",
            "104/104 [==============================] - 4s 7ms/step - loss: 5.1991 - accuracy: 0.1826 - val_loss: 2.4624 - val_accuracy: 0.2029\n",
            "Epoch 2/500\n",
            "104/104 [==============================] - 0s 5ms/step - loss: 4.8542 - accuracy: 0.2013 - val_loss: 2.4028 - val_accuracy: 0.2029\n",
            "Epoch 3/500\n",
            "104/104 [==============================] - 1s 5ms/step - loss: 4.7675 - accuracy: 0.1687 - val_loss: 2.4234 - val_accuracy: 0.2271\n",
            "Epoch 4/500\n",
            "104/104 [==============================] - 0s 5ms/step - loss: 4.6405 - accuracy: 0.1784 - val_loss: 2.3836 - val_accuracy: 0.2222\n",
            "Epoch 5/500\n",
            "104/104 [==============================] - 1s 5ms/step - loss: 4.8154 - accuracy: 0.1790 - val_loss: 2.3671 - val_accuracy: 0.2222\n",
            "Epoch 6/500\n",
            "104/104 [==============================] - 1s 5ms/step - loss: 4.8144 - accuracy: 0.1669 - val_loss: 2.3515 - val_accuracy: 0.2222\n",
            "Epoch 7/500\n",
            "104/104 [==============================] - 0s 5ms/step - loss: 4.7120 - accuracy: 0.1687 - val_loss: 2.3421 - val_accuracy: 0.2222\n",
            "Epoch 8/500\n",
            "104/104 [==============================] - 0s 5ms/step - loss: 4.7103 - accuracy: 0.1862 - val_loss: 2.3395 - val_accuracy: 0.2222\n",
            "Epoch 9/500\n",
            "104/104 [==============================] - 0s 5ms/step - loss: 4.6640 - accuracy: 0.1826 - val_loss: 2.3366 - val_accuracy: 0.2222\n",
            "Epoch 10/500\n",
            "104/104 [==============================] - 1s 5ms/step - loss: 4.6706 - accuracy: 0.1796 - val_loss: 2.3296 - val_accuracy: 0.2174\n",
            "Epoch 11/500\n",
            "104/104 [==============================] - 1s 5ms/step - loss: 4.6351 - accuracy: 0.1802 - val_loss: 2.3220 - val_accuracy: 0.2222\n",
            "Epoch 12/500\n",
            "104/104 [==============================] - 1s 5ms/step - loss: 4.8533 - accuracy: 0.1536 - val_loss: 2.3141 - val_accuracy: 0.2222\n",
            "Epoch 13/500\n",
            "104/104 [==============================] - 1s 5ms/step - loss: 4.7124 - accuracy: 0.1747 - val_loss: 2.3124 - val_accuracy: 0.2222\n",
            "Epoch 14/500\n",
            "104/104 [==============================] - 1s 5ms/step - loss: 4.6403 - accuracy: 0.1638 - val_loss: 2.3157 - val_accuracy: 0.2222\n",
            "Epoch 15/500\n",
            "104/104 [==============================] - 0s 5ms/step - loss: 4.5687 - accuracy: 0.1753 - val_loss: 2.3091 - val_accuracy: 0.2174\n",
            "Epoch 16/500\n",
            "104/104 [==============================] - 0s 5ms/step - loss: 4.7183 - accuracy: 0.1995 - val_loss: 2.3038 - val_accuracy: 0.2174\n",
            "Epoch 17/500\n",
            "104/104 [==============================] - 1s 5ms/step - loss: 4.7735 - accuracy: 0.1669 - val_loss: 2.2978 - val_accuracy: 0.2222\n",
            "Epoch 18/500\n",
            "104/104 [==============================] - 1s 5ms/step - loss: 4.7972 - accuracy: 0.1542 - val_loss: 2.2906 - val_accuracy: 0.2222\n",
            "Epoch 19/500\n",
            "104/104 [==============================] - 0s 5ms/step - loss: 4.6856 - accuracy: 0.1687 - val_loss: 2.2864 - val_accuracy: 0.2222\n",
            "Epoch 20/500\n",
            "104/104 [==============================] - 0s 5ms/step - loss: 4.8008 - accuracy: 0.1499 - val_loss: 2.2822 - val_accuracy: 0.2174\n",
            "Epoch 21/500\n",
            "104/104 [==============================] - 0s 5ms/step - loss: 4.6243 - accuracy: 0.1808 - val_loss: 2.2775 - val_accuracy: 0.2222\n",
            "Epoch 22/500\n",
            "104/104 [==============================] - 1s 5ms/step - loss: 4.6550 - accuracy: 0.1784 - val_loss: 2.2800 - val_accuracy: 0.2174\n",
            "Epoch 23/500\n",
            "104/104 [==============================] - 1s 5ms/step - loss: 4.4751 - accuracy: 0.1759 - val_loss: 2.2773 - val_accuracy: 0.2222\n",
            "Epoch 24/500\n",
            "104/104 [==============================] - 0s 5ms/step - loss: 4.7283 - accuracy: 0.1729 - val_loss: 2.2764 - val_accuracy: 0.2222\n",
            "Epoch 25/500\n",
            "104/104 [==============================] - 1s 5ms/step - loss: 4.5414 - accuracy: 0.1753 - val_loss: 2.2744 - val_accuracy: 0.2126\n",
            "Epoch 26/500\n",
            "104/104 [==============================] - 1s 5ms/step - loss: 4.4132 - accuracy: 0.2128 - val_loss: 2.2734 - val_accuracy: 0.2126\n",
            "Epoch 27/500\n",
            "104/104 [==============================] - 0s 5ms/step - loss: 4.6174 - accuracy: 0.1796 - val_loss: 2.2672 - val_accuracy: 0.2126\n",
            "Epoch 28/500\n",
            "104/104 [==============================] - 1s 5ms/step - loss: 4.5359 - accuracy: 0.1898 - val_loss: 2.2678 - val_accuracy: 0.2126\n",
            "Epoch 29/500\n",
            "104/104 [==============================] - 1s 5ms/step - loss: 4.5096 - accuracy: 0.1856 - val_loss: 2.2691 - val_accuracy: 0.2126\n",
            "Epoch 30/500\n",
            "104/104 [==============================] - 1s 5ms/step - loss: 4.5276 - accuracy: 0.1784 - val_loss: 2.2689 - val_accuracy: 0.2126\n",
            "Epoch 31/500\n",
            "104/104 [==============================] - 1s 5ms/step - loss: 4.5933 - accuracy: 0.1814 - val_loss: 2.2661 - val_accuracy: 0.2126\n",
            "Epoch 32/500\n",
            "104/104 [==============================] - 0s 5ms/step - loss: 4.6988 - accuracy: 0.1723 - val_loss: 2.2641 - val_accuracy: 0.2126\n",
            "Epoch 33/500\n",
            "104/104 [==============================] - 1s 5ms/step - loss: 4.5057 - accuracy: 0.1850 - val_loss: 2.2653 - val_accuracy: 0.2126\n",
            "Epoch 34/500\n",
            "104/104 [==============================] - 1s 5ms/step - loss: 4.5352 - accuracy: 0.1699 - val_loss: 2.2634 - val_accuracy: 0.2126\n",
            "Epoch 35/500\n",
            "104/104 [==============================] - 0s 5ms/step - loss: 4.6893 - accuracy: 0.1717 - val_loss: 2.2627 - val_accuracy: 0.2126\n",
            "Epoch 36/500\n",
            "104/104 [==============================] - 1s 5ms/step - loss: 4.4286 - accuracy: 0.1868 - val_loss: 2.2616 - val_accuracy: 0.2126\n",
            "Epoch 37/500\n",
            "104/104 [==============================] - 1s 5ms/step - loss: 4.4625 - accuracy: 0.1784 - val_loss: 2.2599 - val_accuracy: 0.2126\n",
            "Epoch 38/500\n",
            "104/104 [==============================] - 1s 5ms/step - loss: 4.6006 - accuracy: 0.1759 - val_loss: 2.2591 - val_accuracy: 0.2126\n",
            "Epoch 39/500\n",
            "104/104 [==============================] - 1s 5ms/step - loss: 4.4647 - accuracy: 0.1784 - val_loss: 2.2563 - val_accuracy: 0.2126\n",
            "Epoch 40/500\n",
            "104/104 [==============================] - 0s 5ms/step - loss: 4.5654 - accuracy: 0.1711 - val_loss: 2.2533 - val_accuracy: 0.2126\n",
            "Epoch 41/500\n",
            "104/104 [==============================] - 1s 5ms/step - loss: 4.4987 - accuracy: 0.1983 - val_loss: 2.2551 - val_accuracy: 0.2126\n",
            "Epoch 42/500\n",
            "104/104 [==============================] - 1s 5ms/step - loss: 4.4611 - accuracy: 0.1862 - val_loss: 2.2545 - val_accuracy: 0.2126\n",
            "Epoch 43/500\n",
            "104/104 [==============================] - 1s 5ms/step - loss: 4.6131 - accuracy: 0.1802 - val_loss: 2.2545 - val_accuracy: 0.2126\n",
            "Epoch 44/500\n",
            "104/104 [==============================] - 1s 5ms/step - loss: 4.5752 - accuracy: 0.1729 - val_loss: 2.2555 - val_accuracy: 0.2126\n",
            "Epoch 45/500\n",
            "104/104 [==============================] - 0s 5ms/step - loss: 4.6120 - accuracy: 0.1765 - val_loss: 2.2537 - val_accuracy: 0.2126\n",
            "Epoch 46/500\n",
            "104/104 [==============================] - 1s 5ms/step - loss: 4.5085 - accuracy: 0.1796 - val_loss: 2.2521 - val_accuracy: 0.2126\n",
            "Epoch 47/500\n",
            "104/104 [==============================] - 0s 5ms/step - loss: 4.5917 - accuracy: 0.1820 - val_loss: 2.2503 - val_accuracy: 0.2126\n",
            "Epoch 48/500\n",
            "104/104 [==============================] - 0s 5ms/step - loss: 4.5307 - accuracy: 0.1826 - val_loss: 2.2484 - val_accuracy: 0.2126\n",
            "Epoch 49/500\n",
            "104/104 [==============================] - 1s 5ms/step - loss: 4.5523 - accuracy: 0.1892 - val_loss: 2.2481 - val_accuracy: 0.2126\n",
            "Epoch 50/500\n",
            "104/104 [==============================] - 1s 5ms/step - loss: 4.6630 - accuracy: 0.1729 - val_loss: 2.2477 - val_accuracy: 0.2126\n",
            "Epoch 51/500\n",
            "104/104 [==============================] - 0s 5ms/step - loss: 4.6244 - accuracy: 0.1705 - val_loss: 2.2464 - val_accuracy: 0.2126\n",
            "Epoch 52/500\n",
            "104/104 [==============================] - 0s 5ms/step - loss: 4.4734 - accuracy: 0.1735 - val_loss: 2.2446 - val_accuracy: 0.2126\n",
            "Epoch 53/500\n",
            "104/104 [==============================] - 1s 5ms/step - loss: 4.4752 - accuracy: 0.1711 - val_loss: 2.2434 - val_accuracy: 0.2126\n",
            "Epoch 54/500\n",
            "104/104 [==============================] - 1s 5ms/step - loss: 4.5890 - accuracy: 0.1826 - val_loss: 2.2440 - val_accuracy: 0.2126\n",
            "Epoch 55/500\n",
            "104/104 [==============================] - 1s 5ms/step - loss: 4.6132 - accuracy: 0.1765 - val_loss: 2.2420 - val_accuracy: 0.2126\n",
            "Epoch 56/500\n",
            "104/104 [==============================] - 0s 5ms/step - loss: 4.5362 - accuracy: 0.1796 - val_loss: 2.2423 - val_accuracy: 0.2126\n",
            "Epoch 57/500\n",
            "104/104 [==============================] - 1s 5ms/step - loss: 4.6270 - accuracy: 0.1808 - val_loss: 2.2403 - val_accuracy: 0.2126\n",
            "Epoch 58/500\n",
            "104/104 [==============================] - 1s 5ms/step - loss: 4.5214 - accuracy: 0.1741 - val_loss: 2.2398 - val_accuracy: 0.2126\n",
            "Epoch 59/500\n",
            "104/104 [==============================] - 0s 5ms/step - loss: 4.6244 - accuracy: 0.1735 - val_loss: 2.2384 - val_accuracy: 0.2126\n",
            "Epoch 60/500\n",
            "104/104 [==============================] - 1s 5ms/step - loss: 4.4982 - accuracy: 0.1917 - val_loss: 2.2378 - val_accuracy: 0.2126\n",
            "Epoch 61/500\n",
            "104/104 [==============================] - 0s 5ms/step - loss: 4.5676 - accuracy: 0.1856 - val_loss: 2.2377 - val_accuracy: 0.2126\n",
            "Epoch 62/500\n",
            "104/104 [==============================] - 1s 5ms/step - loss: 4.5494 - accuracy: 0.1699 - val_loss: 2.2376 - val_accuracy: 0.2126\n",
            "Epoch 63/500\n",
            "104/104 [==============================] - 1s 5ms/step - loss: 4.5502 - accuracy: 0.1868 - val_loss: 2.2372 - val_accuracy: 0.2126\n",
            "Epoch 64/500\n",
            "104/104 [==============================] - 1s 5ms/step - loss: 4.5660 - accuracy: 0.1693 - val_loss: 2.2363 - val_accuracy: 0.2126\n",
            "Epoch 65/500\n",
            "104/104 [==============================] - 1s 5ms/step - loss: 4.5211 - accuracy: 0.1778 - val_loss: 2.2351 - val_accuracy: 0.2126\n",
            "Epoch 66/500\n",
            "104/104 [==============================] - 1s 5ms/step - loss: 4.5400 - accuracy: 0.1796 - val_loss: 2.2356 - val_accuracy: 0.2126\n",
            "Epoch 67/500\n",
            "104/104 [==============================] - 1s 5ms/step - loss: 4.5749 - accuracy: 0.1874 - val_loss: 2.2355 - val_accuracy: 0.2126\n",
            "Epoch 68/500\n",
            "104/104 [==============================] - 1s 5ms/step - loss: 4.5990 - accuracy: 0.1723 - val_loss: 2.2352 - val_accuracy: 0.2126\n",
            "Epoch 69/500\n",
            "104/104 [==============================] - 1s 5ms/step - loss: 4.4331 - accuracy: 0.1892 - val_loss: 2.2347 - val_accuracy: 0.2126\n",
            "Epoch 70/500\n",
            "104/104 [==============================] - 1s 5ms/step - loss: 4.5245 - accuracy: 0.1675 - val_loss: 2.2345 - val_accuracy: 0.2126\n",
            "Epoch 71/500\n",
            "104/104 [==============================] - 1s 5ms/step - loss: 4.4705 - accuracy: 0.1838 - val_loss: 2.2340 - val_accuracy: 0.2126\n",
            "Epoch 72/500\n",
            "104/104 [==============================] - 0s 5ms/step - loss: 4.6124 - accuracy: 0.1705 - val_loss: 2.2327 - val_accuracy: 0.2126\n",
            "Epoch 73/500\n",
            "104/104 [==============================] - 0s 5ms/step - loss: 4.5845 - accuracy: 0.1584 - val_loss: 2.2310 - val_accuracy: 0.2126\n",
            "Epoch 74/500\n",
            "104/104 [==============================] - 1s 5ms/step - loss: 4.6032 - accuracy: 0.1566 - val_loss: 2.2319 - val_accuracy: 0.2126\n",
            "Epoch 75/500\n",
            "104/104 [==============================] - 0s 5ms/step - loss: 4.5113 - accuracy: 0.2050 - val_loss: 2.2310 - val_accuracy: 0.2126\n",
            "Epoch 76/500\n",
            "104/104 [==============================] - 1s 5ms/step - loss: 4.6468 - accuracy: 0.1590 - val_loss: 2.2310 - val_accuracy: 0.2126\n",
            "Epoch 77/500\n",
            "104/104 [==============================] - 0s 5ms/step - loss: 4.5735 - accuracy: 0.1850 - val_loss: 2.2294 - val_accuracy: 0.2126\n",
            "Epoch 78/500\n",
            "104/104 [==============================] - 0s 5ms/step - loss: 4.5769 - accuracy: 0.1590 - val_loss: 2.2282 - val_accuracy: 0.2126\n",
            "Epoch 79/500\n",
            "104/104 [==============================] - 1s 5ms/step - loss: 4.3862 - accuracy: 0.1959 - val_loss: 2.2273 - val_accuracy: 0.2126\n",
            "Epoch 80/500\n",
            "104/104 [==============================] - 1s 5ms/step - loss: 4.4257 - accuracy: 0.1826 - val_loss: 2.2265 - val_accuracy: 0.2126\n",
            "Epoch 81/500\n",
            "104/104 [==============================] - 1s 5ms/step - loss: 4.4883 - accuracy: 0.1850 - val_loss: 2.2271 - val_accuracy: 0.2126\n",
            "Epoch 82/500\n",
            "104/104 [==============================] - 1s 5ms/step - loss: 4.5291 - accuracy: 0.1898 - val_loss: 2.2271 - val_accuracy: 0.2126\n",
            "Epoch 83/500\n",
            "104/104 [==============================] - 1s 5ms/step - loss: 4.5744 - accuracy: 0.1596 - val_loss: 2.2272 - val_accuracy: 0.2126\n",
            "Epoch 84/500\n",
            "104/104 [==============================] - 1s 5ms/step - loss: 4.4836 - accuracy: 0.1832 - val_loss: 2.2263 - val_accuracy: 0.2126\n",
            "Epoch 85/500\n",
            "104/104 [==============================] - 1s 5ms/step - loss: 4.4999 - accuracy: 0.1784 - val_loss: 2.2265 - val_accuracy: 0.2126\n",
            "Epoch 86/500\n",
            "104/104 [==============================] - 1s 5ms/step - loss: 4.4023 - accuracy: 0.1856 - val_loss: 2.2251 - val_accuracy: 0.2126\n",
            "Epoch 87/500\n",
            "104/104 [==============================] - 1s 6ms/step - loss: 4.4726 - accuracy: 0.1602 - val_loss: 2.2244 - val_accuracy: 0.2126\n",
            "Epoch 88/500\n",
            "104/104 [==============================] - 1s 5ms/step - loss: 4.4784 - accuracy: 0.1886 - val_loss: 2.2249 - val_accuracy: 0.2126\n",
            "Epoch 89/500\n",
            "104/104 [==============================] - 1s 5ms/step - loss: 4.5733 - accuracy: 0.1771 - val_loss: 2.2248 - val_accuracy: 0.2126\n",
            "Epoch 90/500\n",
            "104/104 [==============================] - 1s 5ms/step - loss: 4.5358 - accuracy: 0.1693 - val_loss: 2.2241 - val_accuracy: 0.2126\n",
            "Epoch 91/500\n",
            "104/104 [==============================] - 0s 5ms/step - loss: 4.4745 - accuracy: 0.1796 - val_loss: 2.2237 - val_accuracy: 0.2126\n",
            "Epoch 92/500\n",
            "104/104 [==============================] - 1s 5ms/step - loss: 4.3527 - accuracy: 0.1923 - val_loss: 2.2228 - val_accuracy: 0.2126\n",
            "Epoch 93/500\n",
            "104/104 [==============================] - 1s 6ms/step - loss: 4.4671 - accuracy: 0.1796 - val_loss: 2.2217 - val_accuracy: 0.2126\n",
            "Epoch 94/500\n",
            "104/104 [==============================] - 1s 7ms/step - loss: 4.4324 - accuracy: 0.1796 - val_loss: 2.2218 - val_accuracy: 0.2126\n",
            "Epoch 95/500\n",
            "104/104 [==============================] - 1s 6ms/step - loss: 4.3507 - accuracy: 0.1868 - val_loss: 2.2216 - val_accuracy: 0.2126\n",
            "Epoch 96/500\n",
            "104/104 [==============================] - 1s 6ms/step - loss: 4.4545 - accuracy: 0.1687 - val_loss: 2.2206 - val_accuracy: 0.2126\n",
            "Epoch 97/500\n",
            "104/104 [==============================] - 0s 5ms/step - loss: 4.5928 - accuracy: 0.1626 - val_loss: 2.2205 - val_accuracy: 0.2126\n",
            "Epoch 98/500\n",
            "104/104 [==============================] - 1s 5ms/step - loss: 4.5617 - accuracy: 0.1832 - val_loss: 2.2195 - val_accuracy: 0.2126\n",
            "Epoch 99/500\n",
            "104/104 [==============================] - 0s 5ms/step - loss: 4.5086 - accuracy: 0.1741 - val_loss: 2.2191 - val_accuracy: 0.2126\n",
            "Epoch 100/500\n",
            "104/104 [==============================] - 1s 5ms/step - loss: 4.5756 - accuracy: 0.1723 - val_loss: 2.2183 - val_accuracy: 0.2126\n",
            "Epoch 101/500\n",
            "104/104 [==============================] - 0s 5ms/step - loss: 4.4097 - accuracy: 0.1753 - val_loss: 2.2174 - val_accuracy: 0.2126\n",
            "Epoch 102/500\n",
            "104/104 [==============================] - 1s 5ms/step - loss: 4.5448 - accuracy: 0.1669 - val_loss: 2.2170 - val_accuracy: 0.2126\n",
            "Epoch 103/500\n",
            "104/104 [==============================] - 0s 5ms/step - loss: 4.6184 - accuracy: 0.1608 - val_loss: 2.2166 - val_accuracy: 0.2126\n",
            "Epoch 104/500\n",
            "104/104 [==============================] - 1s 5ms/step - loss: 4.4855 - accuracy: 0.1844 - val_loss: 2.2165 - val_accuracy: 0.2126\n",
            "Epoch 105/500\n",
            "104/104 [==============================] - 1s 5ms/step - loss: 4.4480 - accuracy: 0.1904 - val_loss: 2.2160 - val_accuracy: 0.2126\n",
            "Epoch 106/500\n",
            "104/104 [==============================] - 1s 5ms/step - loss: 4.3955 - accuracy: 0.1977 - val_loss: 2.2147 - val_accuracy: 0.2126\n",
            "Epoch 107/500\n",
            "104/104 [==============================] - 1s 5ms/step - loss: 4.4290 - accuracy: 0.1808 - val_loss: 2.2147 - val_accuracy: 0.2126\n",
            "Epoch 108/500\n",
            "104/104 [==============================] - 1s 5ms/step - loss: 4.5196 - accuracy: 0.1620 - val_loss: 2.2148 - val_accuracy: 0.2126\n",
            "Epoch 109/500\n",
            "104/104 [==============================] - 1s 5ms/step - loss: 4.5039 - accuracy: 0.1560 - val_loss: 2.2139 - val_accuracy: 0.2126\n",
            "Epoch 110/500\n",
            "104/104 [==============================] - 1s 5ms/step - loss: 4.3900 - accuracy: 0.1753 - val_loss: 2.2134 - val_accuracy: 0.2126\n",
            "Epoch 111/500\n",
            "104/104 [==============================] - 1s 5ms/step - loss: 4.5433 - accuracy: 0.1771 - val_loss: 2.2133 - val_accuracy: 0.2126\n",
            "Epoch 112/500\n",
            "104/104 [==============================] - 1s 5ms/step - loss: 4.4770 - accuracy: 0.1753 - val_loss: 2.2127 - val_accuracy: 0.2126\n",
            "Epoch 113/500\n",
            "104/104 [==============================] - 1s 5ms/step - loss: 4.5212 - accuracy: 0.1741 - val_loss: 2.2124 - val_accuracy: 0.2126\n",
            "Epoch 114/500\n",
            "104/104 [==============================] - 1s 5ms/step - loss: 4.5016 - accuracy: 0.1826 - val_loss: 2.2120 - val_accuracy: 0.2126\n",
            "Epoch 115/500\n",
            "104/104 [==============================] - 1s 7ms/step - loss: 4.4933 - accuracy: 0.1747 - val_loss: 2.2123 - val_accuracy: 0.2126\n",
            "Epoch 116/500\n",
            "104/104 [==============================] - 1s 9ms/step - loss: 4.5398 - accuracy: 0.1844 - val_loss: 2.2121 - val_accuracy: 0.2126\n",
            "Epoch 117/500\n",
            "104/104 [==============================] - 1s 5ms/step - loss: 4.4832 - accuracy: 0.1693 - val_loss: 2.2117 - val_accuracy: 0.2126\n",
            "Epoch 118/500\n",
            "104/104 [==============================] - 1s 5ms/step - loss: 4.4194 - accuracy: 0.1796 - val_loss: 2.2113 - val_accuracy: 0.2126\n",
            "Epoch 119/500\n",
            "104/104 [==============================] - 1s 5ms/step - loss: 4.3189 - accuracy: 0.1904 - val_loss: 2.2114 - val_accuracy: 0.2126\n",
            "Epoch 120/500\n",
            "104/104 [==============================] - 1s 5ms/step - loss: 4.3994 - accuracy: 0.1862 - val_loss: 2.2117 - val_accuracy: 0.2126\n",
            "Epoch 121/500\n",
            "104/104 [==============================] - 1s 5ms/step - loss: 4.3468 - accuracy: 0.1917 - val_loss: 2.2113 - val_accuracy: 0.2126\n",
            "Epoch 122/500\n",
            "104/104 [==============================] - 1s 5ms/step - loss: 4.5810 - accuracy: 0.1669 - val_loss: 2.2101 - val_accuracy: 0.2126\n",
            "Epoch 123/500\n",
            "104/104 [==============================] - 1s 5ms/step - loss: 4.4667 - accuracy: 0.1765 - val_loss: 2.2099 - val_accuracy: 0.2126\n",
            "Epoch 124/500\n",
            "104/104 [==============================] - 1s 5ms/step - loss: 4.5029 - accuracy: 0.1838 - val_loss: 2.2102 - val_accuracy: 0.2126\n",
            "Epoch 125/500\n",
            "104/104 [==============================] - 1s 5ms/step - loss: 4.5505 - accuracy: 0.1723 - val_loss: 2.2103 - val_accuracy: 0.2126\n",
            "Epoch 126/500\n",
            "104/104 [==============================] - 1s 5ms/step - loss: 4.4948 - accuracy: 0.1657 - val_loss: 2.2108 - val_accuracy: 0.2126\n",
            "Epoch 127/500\n",
            "104/104 [==============================] - 1s 5ms/step - loss: 4.4436 - accuracy: 0.1765 - val_loss: 2.2103 - val_accuracy: 0.2126\n",
            "Epoch 128/500\n",
            "104/104 [==============================] - 1s 5ms/step - loss: 4.4642 - accuracy: 0.1850 - val_loss: 2.2103 - val_accuracy: 0.2126\n",
            "Epoch 129/500\n",
            "104/104 [==============================] - 1s 5ms/step - loss: 4.4219 - accuracy: 0.1814 - val_loss: 2.2097 - val_accuracy: 0.2126\n",
            "Epoch 130/500\n",
            "104/104 [==============================] - 0s 5ms/step - loss: 4.3506 - accuracy: 0.1711 - val_loss: 2.2088 - val_accuracy: 0.2126\n",
            "Epoch 131/500\n",
            "104/104 [==============================] - 1s 5ms/step - loss: 4.5523 - accuracy: 0.1711 - val_loss: 2.2083 - val_accuracy: 0.2126\n",
            "Epoch 132/500\n",
            "104/104 [==============================] - 0s 5ms/step - loss: 4.4028 - accuracy: 0.1856 - val_loss: 2.2078 - val_accuracy: 0.2126\n",
            "Epoch 133/500\n",
            "104/104 [==============================] - 0s 5ms/step - loss: 4.4876 - accuracy: 0.1874 - val_loss: 2.2076 - val_accuracy: 0.2126\n",
            "Epoch 134/500\n",
            "104/104 [==============================] - 1s 5ms/step - loss: 4.4566 - accuracy: 0.1765 - val_loss: 2.2077 - val_accuracy: 0.2126\n",
            "Epoch 135/500\n",
            "104/104 [==============================] - 1s 5ms/step - loss: 4.5417 - accuracy: 0.1796 - val_loss: 2.2064 - val_accuracy: 0.2126\n",
            "Epoch 136/500\n",
            "104/104 [==============================] - 1s 5ms/step - loss: 4.4182 - accuracy: 0.1784 - val_loss: 2.2068 - val_accuracy: 0.2126\n",
            "Epoch 137/500\n",
            "104/104 [==============================] - 1s 5ms/step - loss: 4.2388 - accuracy: 0.1886 - val_loss: 2.2062 - val_accuracy: 0.2126\n",
            "Epoch 138/500\n",
            "104/104 [==============================] - 1s 5ms/step - loss: 4.4026 - accuracy: 0.1904 - val_loss: 2.2052 - val_accuracy: 0.2126\n",
            "Epoch 139/500\n",
            "104/104 [==============================] - 1s 5ms/step - loss: 4.5181 - accuracy: 0.1632 - val_loss: 2.2053 - val_accuracy: 0.2126\n",
            "Epoch 140/500\n",
            "104/104 [==============================] - 1s 5ms/step - loss: 4.3990 - accuracy: 0.1820 - val_loss: 2.2048 - val_accuracy: 0.2126\n",
            "Epoch 141/500\n",
            "104/104 [==============================] - 1s 6ms/step - loss: 4.5110 - accuracy: 0.1651 - val_loss: 2.2045 - val_accuracy: 0.2126\n",
            "Epoch 142/500\n",
            "104/104 [==============================] - 1s 5ms/step - loss: 4.4365 - accuracy: 0.1669 - val_loss: 2.2040 - val_accuracy: 0.2126\n",
            "Epoch 143/500\n",
            "104/104 [==============================] - 1s 5ms/step - loss: 4.4780 - accuracy: 0.1790 - val_loss: 2.2047 - val_accuracy: 0.2126\n",
            "Epoch 144/500\n",
            "104/104 [==============================] - 1s 5ms/step - loss: 4.3399 - accuracy: 0.1808 - val_loss: 2.2038 - val_accuracy: 0.2126\n",
            "Epoch 145/500\n",
            "104/104 [==============================] - 1s 5ms/step - loss: 4.3785 - accuracy: 0.1874 - val_loss: 2.2032 - val_accuracy: 0.2126\n",
            "Epoch 146/500\n",
            "104/104 [==============================] - 1s 5ms/step - loss: 4.4593 - accuracy: 0.1747 - val_loss: 2.2029 - val_accuracy: 0.2126\n",
            "Epoch 147/500\n",
            "104/104 [==============================] - 1s 5ms/step - loss: 4.4358 - accuracy: 0.1711 - val_loss: 2.2025 - val_accuracy: 0.2126\n",
            "Epoch 148/500\n",
            "104/104 [==============================] - 1s 7ms/step - loss: 4.3973 - accuracy: 0.1874 - val_loss: 2.2027 - val_accuracy: 0.2126\n",
            "Epoch 149/500\n",
            "104/104 [==============================] - 1s 7ms/step - loss: 4.4696 - accuracy: 0.1759 - val_loss: 2.2022 - val_accuracy: 0.2126\n",
            "Epoch 150/500\n",
            "104/104 [==============================] - 1s 7ms/step - loss: 4.4418 - accuracy: 0.1808 - val_loss: 2.2021 - val_accuracy: 0.2126\n",
            "Epoch 151/500\n",
            "104/104 [==============================] - 1s 7ms/step - loss: 4.5172 - accuracy: 0.1723 - val_loss: 2.2016 - val_accuracy: 0.2126\n",
            "Epoch 152/500\n",
            "104/104 [==============================] - 1s 6ms/step - loss: 4.5080 - accuracy: 0.1826 - val_loss: 2.2012 - val_accuracy: 0.2126\n",
            "Epoch 153/500\n",
            "104/104 [==============================] - 1s 5ms/step - loss: 4.5357 - accuracy: 0.1632 - val_loss: 2.2008 - val_accuracy: 0.2126\n",
            "Epoch 154/500\n",
            "104/104 [==============================] - 0s 5ms/step - loss: 4.5124 - accuracy: 0.1784 - val_loss: 2.2004 - val_accuracy: 0.2126\n",
            "Epoch 155/500\n",
            "104/104 [==============================] - 0s 5ms/step - loss: 4.3509 - accuracy: 0.1892 - val_loss: 2.2003 - val_accuracy: 0.2126\n",
            "Epoch 156/500\n",
            "104/104 [==============================] - 1s 5ms/step - loss: 4.4259 - accuracy: 0.1814 - val_loss: 2.2000 - val_accuracy: 0.2126\n",
            "Epoch 157/500\n",
            "104/104 [==============================] - 0s 5ms/step - loss: 4.4548 - accuracy: 0.1814 - val_loss: 2.1992 - val_accuracy: 0.2126\n",
            "Epoch 158/500\n",
            "104/104 [==============================] - 0s 5ms/step - loss: 4.4224 - accuracy: 0.1729 - val_loss: 2.1991 - val_accuracy: 0.2126\n",
            "Epoch 159/500\n",
            "104/104 [==============================] - 1s 5ms/step - loss: 4.4664 - accuracy: 0.1723 - val_loss: 2.1992 - val_accuracy: 0.2126\n",
            "Epoch 160/500\n",
            "104/104 [==============================] - 1s 5ms/step - loss: 4.6071 - accuracy: 0.1620 - val_loss: 2.1991 - val_accuracy: 0.2126\n",
            "Epoch 161/500\n",
            "104/104 [==============================] - 0s 5ms/step - loss: 4.4941 - accuracy: 0.1917 - val_loss: 2.1987 - val_accuracy: 0.2126\n",
            "Epoch 162/500\n",
            "104/104 [==============================] - 1s 5ms/step - loss: 4.5609 - accuracy: 0.1735 - val_loss: 2.1978 - val_accuracy: 0.2126\n",
            "Epoch 163/500\n",
            "104/104 [==============================] - 0s 5ms/step - loss: 4.4959 - accuracy: 0.1935 - val_loss: 2.1977 - val_accuracy: 0.2126\n",
            "Epoch 164/500\n",
            "104/104 [==============================] - 1s 5ms/step - loss: 4.4361 - accuracy: 0.1784 - val_loss: 2.1970 - val_accuracy: 0.2126\n",
            "Epoch 165/500\n",
            "104/104 [==============================] - 1s 5ms/step - loss: 4.5526 - accuracy: 0.1620 - val_loss: 2.1972 - val_accuracy: 0.2126\n",
            "Epoch 166/500\n",
            "104/104 [==============================] - 1s 5ms/step - loss: 4.4319 - accuracy: 0.1844 - val_loss: 2.1972 - val_accuracy: 0.2126\n",
            "Epoch 167/500\n",
            "104/104 [==============================] - 1s 5ms/step - loss: 4.3789 - accuracy: 0.1638 - val_loss: 2.1969 - val_accuracy: 0.2126\n",
            "Epoch 168/500\n",
            "104/104 [==============================] - 0s 5ms/step - loss: 4.5175 - accuracy: 0.1602 - val_loss: 2.1964 - val_accuracy: 0.2126\n",
            "Epoch 169/500\n",
            "104/104 [==============================] - 0s 5ms/step - loss: 4.4606 - accuracy: 0.1765 - val_loss: 2.1959 - val_accuracy: 0.2126\n",
            "Epoch 170/500\n",
            "104/104 [==============================] - 1s 5ms/step - loss: 4.4373 - accuracy: 0.1626 - val_loss: 2.1958 - val_accuracy: 0.2126\n",
            "Epoch 171/500\n",
            "104/104 [==============================] - 1s 5ms/step - loss: 4.5223 - accuracy: 0.1778 - val_loss: 2.1955 - val_accuracy: 0.2126\n",
            "Epoch 172/500\n",
            "104/104 [==============================] - 0s 5ms/step - loss: 4.4983 - accuracy: 0.1790 - val_loss: 2.1951 - val_accuracy: 0.2126\n",
            "Epoch 173/500\n",
            "104/104 [==============================] - 1s 5ms/step - loss: 4.3706 - accuracy: 0.1693 - val_loss: 2.1950 - val_accuracy: 0.2126\n",
            "Epoch 174/500\n",
            "104/104 [==============================] - 1s 5ms/step - loss: 4.5030 - accuracy: 0.1753 - val_loss: 2.1954 - val_accuracy: 0.2126\n",
            "Epoch 175/500\n",
            "104/104 [==============================] - 1s 5ms/step - loss: 4.2979 - accuracy: 0.1935 - val_loss: 2.1952 - val_accuracy: 0.2126\n",
            "Epoch 176/500\n",
            "104/104 [==============================] - 1s 5ms/step - loss: 4.3866 - accuracy: 0.1880 - val_loss: 2.1952 - val_accuracy: 0.2126\n",
            "Epoch 177/500\n",
            "104/104 [==============================] - 1s 5ms/step - loss: 4.3528 - accuracy: 0.1644 - val_loss: 2.1947 - val_accuracy: 0.2126\n",
            "Epoch 178/500\n",
            "104/104 [==============================] - 1s 5ms/step - loss: 4.5780 - accuracy: 0.1735 - val_loss: 2.1950 - val_accuracy: 0.2126\n",
            "Epoch 179/500\n",
            "104/104 [==============================] - 1s 5ms/step - loss: 4.5450 - accuracy: 0.1735 - val_loss: 2.1942 - val_accuracy: 0.2126\n",
            "Epoch 180/500\n",
            "104/104 [==============================] - 1s 5ms/step - loss: 4.4768 - accuracy: 0.1620 - val_loss: 2.1940 - val_accuracy: 0.2126\n",
            "Epoch 181/500\n",
            "104/104 [==============================] - 0s 5ms/step - loss: 4.1945 - accuracy: 0.1953 - val_loss: 2.1939 - val_accuracy: 0.2126\n",
            "Epoch 182/500\n",
            "104/104 [==============================] - 1s 5ms/step - loss: 4.4690 - accuracy: 0.1784 - val_loss: 2.1936 - val_accuracy: 0.2126\n",
            "Epoch 183/500\n",
            "104/104 [==============================] - 0s 5ms/step - loss: 4.3652 - accuracy: 0.1814 - val_loss: 2.1934 - val_accuracy: 0.2126\n",
            "Epoch 184/500\n",
            "104/104 [==============================] - 1s 5ms/step - loss: 4.6377 - accuracy: 0.1669 - val_loss: 2.1929 - val_accuracy: 0.2126\n",
            "Epoch 185/500\n",
            "104/104 [==============================] - 1s 5ms/step - loss: 4.4789 - accuracy: 0.1880 - val_loss: 2.1926 - val_accuracy: 0.2126\n",
            "Epoch 186/500\n",
            "104/104 [==============================] - 1s 5ms/step - loss: 4.4968 - accuracy: 0.1784 - val_loss: 2.1926 - val_accuracy: 0.2126\n",
            "Epoch 187/500\n",
            "104/104 [==============================] - 1s 5ms/step - loss: 4.3913 - accuracy: 0.1850 - val_loss: 2.1929 - val_accuracy: 0.2126\n",
            "Epoch 188/500\n",
            "104/104 [==============================] - 1s 5ms/step - loss: 4.2917 - accuracy: 0.1729 - val_loss: 2.1928 - val_accuracy: 0.2126\n",
            "Epoch 189/500\n",
            "104/104 [==============================] - 1s 5ms/step - loss: 4.4339 - accuracy: 0.1681 - val_loss: 2.1925 - val_accuracy: 0.2126\n",
            "Epoch 190/500\n",
            "104/104 [==============================] - 1s 5ms/step - loss: 4.4884 - accuracy: 0.1796 - val_loss: 2.1924 - val_accuracy: 0.2126\n",
            "Epoch 191/500\n",
            "104/104 [==============================] - 1s 5ms/step - loss: 4.4397 - accuracy: 0.1723 - val_loss: 2.1923 - val_accuracy: 0.2126\n",
            "Epoch 192/500\n",
            "104/104 [==============================] - 1s 5ms/step - loss: 4.3568 - accuracy: 0.1886 - val_loss: 2.1923 - val_accuracy: 0.2126\n",
            "Epoch 193/500\n",
            "104/104 [==============================] - 1s 5ms/step - loss: 4.3676 - accuracy: 0.1832 - val_loss: 2.1918 - val_accuracy: 0.2126\n",
            "Epoch 194/500\n",
            "104/104 [==============================] - 1s 5ms/step - loss: 4.3730 - accuracy: 0.1681 - val_loss: 2.1918 - val_accuracy: 0.2126\n",
            "Epoch 195/500\n",
            "104/104 [==============================] - 1s 5ms/step - loss: 4.5295 - accuracy: 0.1759 - val_loss: 2.1914 - val_accuracy: 0.2126\n",
            "Epoch 196/500\n",
            "104/104 [==============================] - 1s 5ms/step - loss: 4.5149 - accuracy: 0.1820 - val_loss: 2.1914 - val_accuracy: 0.2126\n",
            "Epoch 197/500\n",
            "104/104 [==============================] - 1s 5ms/step - loss: 4.4522 - accuracy: 0.1868 - val_loss: 2.1915 - val_accuracy: 0.2126\n",
            "Epoch 198/500\n",
            "104/104 [==============================] - 0s 5ms/step - loss: 4.4949 - accuracy: 0.1717 - val_loss: 2.1913 - val_accuracy: 0.2126\n",
            "Epoch 199/500\n",
            "104/104 [==============================] - 1s 5ms/step - loss: 4.4559 - accuracy: 0.1820 - val_loss: 2.1915 - val_accuracy: 0.2126\n",
            "Epoch 200/500\n",
            "104/104 [==============================] - 1s 5ms/step - loss: 4.4854 - accuracy: 0.1808 - val_loss: 2.1915 - val_accuracy: 0.2126\n",
            "Epoch 201/500\n",
            "104/104 [==============================] - 1s 5ms/step - loss: 4.4627 - accuracy: 0.1802 - val_loss: 2.1915 - val_accuracy: 0.2126\n",
            "Epoch 202/500\n",
            "104/104 [==============================] - 1s 5ms/step - loss: 4.3470 - accuracy: 0.1657 - val_loss: 2.1914 - val_accuracy: 0.2126\n",
            "Epoch 203/500\n",
            "104/104 [==============================] - 1s 5ms/step - loss: 4.4591 - accuracy: 0.1590 - val_loss: 2.1915 - val_accuracy: 0.2126\n",
            "Epoch 204/500\n",
            "104/104 [==============================] - 1s 5ms/step - loss: 4.4852 - accuracy: 0.1826 - val_loss: 2.1914 - val_accuracy: 0.2126\n",
            "Epoch 205/500\n",
            "104/104 [==============================] - 1s 5ms/step - loss: 4.4826 - accuracy: 0.1790 - val_loss: 2.1908 - val_accuracy: 0.2126\n",
            "Epoch 206/500\n",
            "104/104 [==============================] - 1s 5ms/step - loss: 4.4256 - accuracy: 0.1753 - val_loss: 2.1908 - val_accuracy: 0.2126\n",
            "Epoch 207/500\n",
            "104/104 [==============================] - 1s 5ms/step - loss: 4.5123 - accuracy: 0.1711 - val_loss: 2.1908 - val_accuracy: 0.2126\n",
            "Epoch 208/500\n",
            "104/104 [==============================] - 1s 5ms/step - loss: 4.4220 - accuracy: 0.1705 - val_loss: 2.1905 - val_accuracy: 0.2126\n",
            "Epoch 209/500\n",
            "104/104 [==============================] - 1s 5ms/step - loss: 4.4645 - accuracy: 0.1729 - val_loss: 2.1905 - val_accuracy: 0.2126\n",
            "Epoch 210/500\n",
            "104/104 [==============================] - 1s 5ms/step - loss: 4.4506 - accuracy: 0.1723 - val_loss: 2.1900 - val_accuracy: 0.2126\n",
            "Epoch 211/500\n",
            "104/104 [==============================] - 1s 5ms/step - loss: 4.3437 - accuracy: 0.1911 - val_loss: 2.1899 - val_accuracy: 0.2126\n",
            "Epoch 212/500\n",
            "104/104 [==============================] - 1s 5ms/step - loss: 4.5759 - accuracy: 0.1699 - val_loss: 2.1897 - val_accuracy: 0.2126\n",
            "Epoch 213/500\n",
            "104/104 [==============================] - 0s 5ms/step - loss: 4.2460 - accuracy: 0.1953 - val_loss: 2.1892 - val_accuracy: 0.2126\n",
            "Epoch 214/500\n",
            "104/104 [==============================] - 1s 5ms/step - loss: 4.3491 - accuracy: 0.1759 - val_loss: 2.1891 - val_accuracy: 0.2126\n",
            "Epoch 215/500\n",
            "104/104 [==============================] - 1s 5ms/step - loss: 4.4210 - accuracy: 0.1923 - val_loss: 2.1885 - val_accuracy: 0.2126\n",
            "Epoch 216/500\n",
            "104/104 [==============================] - 1s 5ms/step - loss: 4.5074 - accuracy: 0.1572 - val_loss: 2.1884 - val_accuracy: 0.2126\n",
            "Epoch 217/500\n",
            "104/104 [==============================] - 1s 5ms/step - loss: 4.4414 - accuracy: 0.1753 - val_loss: 2.1883 - val_accuracy: 0.2126\n",
            "Epoch 218/500\n",
            "104/104 [==============================] - 1s 5ms/step - loss: 4.3758 - accuracy: 0.1826 - val_loss: 2.1881 - val_accuracy: 0.2126\n",
            "Epoch 219/500\n",
            "104/104 [==============================] - 1s 5ms/step - loss: 4.3983 - accuracy: 0.1651 - val_loss: 2.1878 - val_accuracy: 0.2126\n",
            "Epoch 220/500\n",
            "104/104 [==============================] - 1s 5ms/step - loss: 4.2980 - accuracy: 0.1778 - val_loss: 2.1875 - val_accuracy: 0.2126\n",
            "Epoch 221/500\n",
            "104/104 [==============================] - 1s 5ms/step - loss: 4.4762 - accuracy: 0.1796 - val_loss: 2.1874 - val_accuracy: 0.2126\n",
            "Epoch 222/500\n",
            "104/104 [==============================] - 1s 5ms/step - loss: 4.3879 - accuracy: 0.1711 - val_loss: 2.1873 - val_accuracy: 0.2126\n",
            "Epoch 223/500\n",
            "104/104 [==============================] - 1s 5ms/step - loss: 4.5386 - accuracy: 0.1632 - val_loss: 2.1870 - val_accuracy: 0.2126\n",
            "Epoch 224/500\n",
            "104/104 [==============================] - 1s 5ms/step - loss: 4.5204 - accuracy: 0.1759 - val_loss: 2.1868 - val_accuracy: 0.2126\n",
            "Epoch 225/500\n",
            "104/104 [==============================] - 1s 5ms/step - loss: 4.4621 - accuracy: 0.1796 - val_loss: 2.1869 - val_accuracy: 0.2126\n",
            "Epoch 226/500\n",
            "104/104 [==============================] - 1s 5ms/step - loss: 4.4373 - accuracy: 0.1687 - val_loss: 2.1865 - val_accuracy: 0.2126\n",
            "Epoch 227/500\n",
            "104/104 [==============================] - 1s 5ms/step - loss: 4.4861 - accuracy: 0.1711 - val_loss: 2.1863 - val_accuracy: 0.2126\n",
            "Epoch 228/500\n",
            "104/104 [==============================] - 1s 5ms/step - loss: 4.3102 - accuracy: 0.1765 - val_loss: 2.1863 - val_accuracy: 0.2126\n",
            "Epoch 229/500\n",
            "104/104 [==============================] - 1s 5ms/step - loss: 4.3043 - accuracy: 0.1765 - val_loss: 2.1864 - val_accuracy: 0.2126\n",
            "Epoch 230/500\n",
            "104/104 [==============================] - 1s 5ms/step - loss: 4.3117 - accuracy: 0.1898 - val_loss: 2.1863 - val_accuracy: 0.2126\n",
            "Epoch 231/500\n",
            "104/104 [==============================] - 1s 5ms/step - loss: 4.4562 - accuracy: 0.1771 - val_loss: 2.1862 - val_accuracy: 0.2126\n",
            "Epoch 232/500\n",
            "104/104 [==============================] - 1s 5ms/step - loss: 4.2590 - accuracy: 0.1802 - val_loss: 2.1861 - val_accuracy: 0.2126\n",
            "Epoch 233/500\n",
            "104/104 [==============================] - 1s 5ms/step - loss: 4.3768 - accuracy: 0.1765 - val_loss: 2.1857 - val_accuracy: 0.2126\n",
            "Epoch 234/500\n",
            "104/104 [==============================] - 1s 5ms/step - loss: 4.4196 - accuracy: 0.1644 - val_loss: 2.1859 - val_accuracy: 0.2126\n",
            "Epoch 235/500\n",
            "104/104 [==============================] - 1s 5ms/step - loss: 4.4180 - accuracy: 0.1796 - val_loss: 2.1855 - val_accuracy: 0.2126\n",
            "Epoch 236/500\n",
            "104/104 [==============================] - 1s 5ms/step - loss: 4.4998 - accuracy: 0.1663 - val_loss: 2.1848 - val_accuracy: 0.2126\n",
            "Epoch 237/500\n",
            "104/104 [==============================] - 1s 5ms/step - loss: 4.5668 - accuracy: 0.1820 - val_loss: 2.1846 - val_accuracy: 0.2126\n",
            "Epoch 238/500\n",
            "104/104 [==============================] - 0s 5ms/step - loss: 4.3971 - accuracy: 0.1711 - val_loss: 2.1842 - val_accuracy: 0.2126\n",
            "Epoch 239/500\n",
            "104/104 [==============================] - 1s 5ms/step - loss: 4.4834 - accuracy: 0.1632 - val_loss: 2.1838 - val_accuracy: 0.2126\n",
            "Epoch 240/500\n",
            "104/104 [==============================] - 1s 5ms/step - loss: 4.3028 - accuracy: 0.2068 - val_loss: 2.1835 - val_accuracy: 0.2126\n",
            "Epoch 241/500\n",
            "104/104 [==============================] - 1s 5ms/step - loss: 4.4589 - accuracy: 0.1759 - val_loss: 2.1836 - val_accuracy: 0.2126\n",
            "Epoch 242/500\n",
            "104/104 [==============================] - 0s 5ms/step - loss: 4.4781 - accuracy: 0.1820 - val_loss: 2.1833 - val_accuracy: 0.2126\n",
            "Epoch 243/500\n",
            "104/104 [==============================] - 1s 5ms/step - loss: 4.5223 - accuracy: 0.1808 - val_loss: 2.1833 - val_accuracy: 0.2126\n",
            "Epoch 244/500\n",
            "104/104 [==============================] - 1s 5ms/step - loss: 4.4443 - accuracy: 0.1771 - val_loss: 2.1833 - val_accuracy: 0.2126\n",
            "Epoch 245/500\n",
            "104/104 [==============================] - 1s 5ms/step - loss: 4.3616 - accuracy: 0.1796 - val_loss: 2.1830 - val_accuracy: 0.2126\n",
            "Epoch 246/500\n",
            "104/104 [==============================] - 1s 5ms/step - loss: 4.3386 - accuracy: 0.1771 - val_loss: 2.1830 - val_accuracy: 0.2126\n",
            "Epoch 247/500\n",
            "104/104 [==============================] - 1s 5ms/step - loss: 4.4444 - accuracy: 0.1790 - val_loss: 2.1827 - val_accuracy: 0.2126\n",
            "Epoch 248/500\n",
            "104/104 [==============================] - 0s 5ms/step - loss: 4.4092 - accuracy: 0.1778 - val_loss: 2.1822 - val_accuracy: 0.2126\n",
            "Epoch 249/500\n",
            "104/104 [==============================] - 1s 5ms/step - loss: 4.5505 - accuracy: 0.1699 - val_loss: 2.1823 - val_accuracy: 0.2126\n",
            "Epoch 250/500\n",
            "104/104 [==============================] - 1s 5ms/step - loss: 4.3823 - accuracy: 0.1572 - val_loss: 2.1824 - val_accuracy: 0.2126\n",
            "Epoch 251/500\n",
            "104/104 [==============================] - 1s 5ms/step - loss: 4.5509 - accuracy: 0.1669 - val_loss: 2.1822 - val_accuracy: 0.2126\n",
            "Epoch 252/500\n",
            "104/104 [==============================] - 1s 5ms/step - loss: 4.3859 - accuracy: 0.1850 - val_loss: 2.1822 - val_accuracy: 0.2126\n",
            "Epoch 253/500\n",
            "104/104 [==============================] - 1s 5ms/step - loss: 4.3862 - accuracy: 0.1862 - val_loss: 2.1820 - val_accuracy: 0.2126\n",
            "Epoch 254/500\n",
            "104/104 [==============================] - 1s 5ms/step - loss: 4.4629 - accuracy: 0.1892 - val_loss: 2.1823 - val_accuracy: 0.2126\n",
            "Epoch 255/500\n",
            "104/104 [==============================] - 1s 5ms/step - loss: 4.4721 - accuracy: 0.1778 - val_loss: 2.1822 - val_accuracy: 0.2126\n",
            "Epoch 256/500\n",
            "104/104 [==============================] - 1s 5ms/step - loss: 4.3164 - accuracy: 0.1844 - val_loss: 2.1823 - val_accuracy: 0.2126\n",
            "Epoch 257/500\n",
            "104/104 [==============================] - 1s 5ms/step - loss: 4.5462 - accuracy: 0.1699 - val_loss: 2.1822 - val_accuracy: 0.2126\n",
            "Epoch 258/500\n",
            "104/104 [==============================] - 1s 5ms/step - loss: 4.3469 - accuracy: 0.1796 - val_loss: 2.1821 - val_accuracy: 0.2126\n",
            "Epoch 259/500\n",
            "104/104 [==============================] - 1s 5ms/step - loss: 4.3656 - accuracy: 0.1832 - val_loss: 2.1819 - val_accuracy: 0.2126\n",
            "Epoch 260/500\n",
            "104/104 [==============================] - 1s 5ms/step - loss: 4.4669 - accuracy: 0.1729 - val_loss: 2.1817 - val_accuracy: 0.2126\n",
            "Epoch 261/500\n",
            "104/104 [==============================] - 1s 5ms/step - loss: 4.5107 - accuracy: 0.1626 - val_loss: 2.1816 - val_accuracy: 0.2126\n",
            "Epoch 262/500\n",
            "104/104 [==============================] - 1s 5ms/step - loss: 4.3793 - accuracy: 0.1778 - val_loss: 2.1812 - val_accuracy: 0.2126\n",
            "Epoch 263/500\n",
            "104/104 [==============================] - 1s 5ms/step - loss: 4.2818 - accuracy: 0.1959 - val_loss: 2.1812 - val_accuracy: 0.2126\n",
            "Epoch 264/500\n",
            "104/104 [==============================] - 1s 5ms/step - loss: 4.5019 - accuracy: 0.1832 - val_loss: 2.1808 - val_accuracy: 0.2126\n",
            "Epoch 265/500\n",
            "104/104 [==============================] - 1s 6ms/step - loss: 4.4455 - accuracy: 0.1784 - val_loss: 2.1805 - val_accuracy: 0.2126\n",
            "Epoch 266/500\n",
            "104/104 [==============================] - 1s 5ms/step - loss: 4.2878 - accuracy: 0.1880 - val_loss: 2.1801 - val_accuracy: 0.2126\n",
            "Epoch 267/500\n",
            "104/104 [==============================] - 1s 5ms/step - loss: 4.4635 - accuracy: 0.1759 - val_loss: 2.1798 - val_accuracy: 0.2126\n",
            "Epoch 268/500\n",
            "104/104 [==============================] - 1s 5ms/step - loss: 4.5243 - accuracy: 0.1790 - val_loss: 2.1798 - val_accuracy: 0.2126\n",
            "Epoch 269/500\n",
            "104/104 [==============================] - 1s 5ms/step - loss: 4.4907 - accuracy: 0.1904 - val_loss: 2.1797 - val_accuracy: 0.2126\n",
            "Epoch 270/500\n",
            "104/104 [==============================] - 1s 5ms/step - loss: 4.4119 - accuracy: 0.1808 - val_loss: 2.1800 - val_accuracy: 0.2126\n",
            "Epoch 271/500\n",
            "104/104 [==============================] - 1s 5ms/step - loss: 4.5443 - accuracy: 0.1602 - val_loss: 2.1798 - val_accuracy: 0.2126\n",
            "Epoch 272/500\n",
            "104/104 [==============================] - 1s 5ms/step - loss: 4.3263 - accuracy: 0.1880 - val_loss: 2.1797 - val_accuracy: 0.2126\n",
            "Epoch 273/500\n",
            "104/104 [==============================] - 1s 5ms/step - loss: 4.4451 - accuracy: 0.1693 - val_loss: 2.1793 - val_accuracy: 0.2126\n",
            "Epoch 274/500\n",
            "104/104 [==============================] - 1s 5ms/step - loss: 4.3183 - accuracy: 0.1826 - val_loss: 2.1791 - val_accuracy: 0.2126\n",
            "Epoch 275/500\n",
            "104/104 [==============================] - 1s 5ms/step - loss: 4.4275 - accuracy: 0.1862 - val_loss: 2.1789 - val_accuracy: 0.2126\n",
            "Epoch 276/500\n",
            "104/104 [==============================] - 1s 5ms/step - loss: 4.3673 - accuracy: 0.1862 - val_loss: 2.1788 - val_accuracy: 0.2126\n",
            "Epoch 277/500\n",
            "104/104 [==============================] - 1s 5ms/step - loss: 4.2500 - accuracy: 0.1923 - val_loss: 2.1785 - val_accuracy: 0.2126\n",
            "Epoch 278/500\n",
            "104/104 [==============================] - 1s 5ms/step - loss: 4.4718 - accuracy: 0.1651 - val_loss: 2.1784 - val_accuracy: 0.2126\n",
            "Epoch 279/500\n",
            "104/104 [==============================] - 1s 5ms/step - loss: 4.4208 - accuracy: 0.1826 - val_loss: 2.1782 - val_accuracy: 0.2126\n",
            "Epoch 280/500\n",
            "104/104 [==============================] - 1s 5ms/step - loss: 4.5290 - accuracy: 0.1753 - val_loss: 2.1780 - val_accuracy: 0.2126\n",
            "Epoch 281/500\n",
            "104/104 [==============================] - 1s 5ms/step - loss: 4.3942 - accuracy: 0.1808 - val_loss: 2.1777 - val_accuracy: 0.2126\n",
            "Epoch 282/500\n",
            "104/104 [==============================] - 1s 5ms/step - loss: 4.3988 - accuracy: 0.1675 - val_loss: 2.1775 - val_accuracy: 0.2126\n",
            "Epoch 283/500\n",
            "104/104 [==============================] - 1s 5ms/step - loss: 4.4553 - accuracy: 0.1663 - val_loss: 2.1772 - val_accuracy: 0.2126\n",
            "Epoch 284/500\n",
            "104/104 [==============================] - 1s 5ms/step - loss: 4.4524 - accuracy: 0.1759 - val_loss: 2.1772 - val_accuracy: 0.2126\n",
            "Epoch 285/500\n",
            "104/104 [==============================] - 1s 5ms/step - loss: 4.4647 - accuracy: 0.1590 - val_loss: 2.1768 - val_accuracy: 0.2126\n",
            "Epoch 286/500\n",
            "104/104 [==============================] - 1s 5ms/step - loss: 4.4416 - accuracy: 0.1687 - val_loss: 2.1763 - val_accuracy: 0.2126\n",
            "Epoch 287/500\n",
            "104/104 [==============================] - 1s 5ms/step - loss: 4.3508 - accuracy: 0.1844 - val_loss: 2.1760 - val_accuracy: 0.2126\n",
            "Epoch 288/500\n",
            "104/104 [==============================] - 1s 5ms/step - loss: 4.4211 - accuracy: 0.1844 - val_loss: 2.1760 - val_accuracy: 0.2126\n",
            "Epoch 289/500\n",
            "104/104 [==============================] - 1s 5ms/step - loss: 4.4064 - accuracy: 0.1669 - val_loss: 2.1758 - val_accuracy: 0.2126\n",
            "Epoch 290/500\n",
            "104/104 [==============================] - 1s 5ms/step - loss: 4.4978 - accuracy: 0.1820 - val_loss: 2.1757 - val_accuracy: 0.2126\n",
            "Epoch 291/500\n",
            "104/104 [==============================] - 1s 5ms/step - loss: 4.3717 - accuracy: 0.1820 - val_loss: 2.1755 - val_accuracy: 0.2126\n",
            "Epoch 292/500\n",
            "104/104 [==============================] - 1s 5ms/step - loss: 4.4737 - accuracy: 0.1723 - val_loss: 2.1754 - val_accuracy: 0.2126\n",
            "Epoch 293/500\n",
            "104/104 [==============================] - 1s 5ms/step - loss: 4.2977 - accuracy: 0.1826 - val_loss: 2.1755 - val_accuracy: 0.2126\n",
            "Epoch 294/500\n",
            "104/104 [==============================] - 1s 5ms/step - loss: 4.2919 - accuracy: 0.1778 - val_loss: 2.1754 - val_accuracy: 0.2126\n",
            "Epoch 295/500\n",
            "104/104 [==============================] - 1s 5ms/step - loss: 4.3162 - accuracy: 0.1953 - val_loss: 2.1752 - val_accuracy: 0.2126\n",
            "Epoch 296/500\n",
            "104/104 [==============================] - 1s 5ms/step - loss: 4.4315 - accuracy: 0.1796 - val_loss: 2.1752 - val_accuracy: 0.2126\n",
            "Epoch 297/500\n",
            "104/104 [==============================] - 1s 5ms/step - loss: 4.4844 - accuracy: 0.1808 - val_loss: 2.1753 - val_accuracy: 0.2126\n",
            "Epoch 298/500\n",
            "104/104 [==============================] - 1s 5ms/step - loss: 4.3868 - accuracy: 0.1778 - val_loss: 2.1751 - val_accuracy: 0.2126\n",
            "Epoch 299/500\n",
            "104/104 [==============================] - 1s 5ms/step - loss: 4.2886 - accuracy: 0.1747 - val_loss: 2.1751 - val_accuracy: 0.2126\n",
            "Epoch 300/500\n",
            "104/104 [==============================] - 1s 5ms/step - loss: 4.2519 - accuracy: 0.1832 - val_loss: 2.1750 - val_accuracy: 0.2126\n",
            "Epoch 301/500\n",
            "104/104 [==============================] - 1s 5ms/step - loss: 4.5653 - accuracy: 0.1711 - val_loss: 2.1747 - val_accuracy: 0.2126\n",
            "Epoch 302/500\n",
            "104/104 [==============================] - 1s 5ms/step - loss: 4.3460 - accuracy: 0.1814 - val_loss: 2.1744 - val_accuracy: 0.2126\n",
            "Epoch 303/500\n",
            "104/104 [==============================] - 1s 5ms/step - loss: 4.5641 - accuracy: 0.1572 - val_loss: 2.1743 - val_accuracy: 0.2126\n",
            "Epoch 304/500\n",
            "104/104 [==============================] - 1s 5ms/step - loss: 4.4715 - accuracy: 0.1832 - val_loss: 2.1743 - val_accuracy: 0.2126\n",
            "Epoch 305/500\n",
            "104/104 [==============================] - 1s 5ms/step - loss: 4.3100 - accuracy: 0.1832 - val_loss: 2.1740 - val_accuracy: 0.2126\n",
            "Epoch 306/500\n",
            "104/104 [==============================] - 1s 5ms/step - loss: 4.5505 - accuracy: 0.1505 - val_loss: 2.1739 - val_accuracy: 0.2126\n",
            "Epoch 307/500\n",
            "104/104 [==============================] - 1s 5ms/step - loss: 4.3730 - accuracy: 0.1717 - val_loss: 2.1740 - val_accuracy: 0.2126\n",
            "Epoch 308/500\n",
            "104/104 [==============================] - 1s 5ms/step - loss: 4.3241 - accuracy: 0.1729 - val_loss: 2.1736 - val_accuracy: 0.2126\n",
            "Epoch 309/500\n",
            "104/104 [==============================] - 1s 6ms/step - loss: 4.4035 - accuracy: 0.1687 - val_loss: 2.1735 - val_accuracy: 0.2126\n",
            "Epoch 310/500\n",
            "104/104 [==============================] - 1s 5ms/step - loss: 4.3975 - accuracy: 0.1874 - val_loss: 2.1734 - val_accuracy: 0.2126\n",
            "Epoch 311/500\n",
            "104/104 [==============================] - 1s 10ms/step - loss: 4.4230 - accuracy: 0.1759 - val_loss: 2.1729 - val_accuracy: 0.2126\n",
            "Epoch 312/500\n",
            "104/104 [==============================] - 1s 8ms/step - loss: 4.3522 - accuracy: 0.1850 - val_loss: 2.1727 - val_accuracy: 0.2126\n",
            "Epoch 313/500\n",
            "104/104 [==============================] - 1s 5ms/step - loss: 4.2681 - accuracy: 0.1880 - val_loss: 2.1728 - val_accuracy: 0.2126\n",
            "Epoch 314/500\n",
            "104/104 [==============================] - 1s 5ms/step - loss: 4.2235 - accuracy: 0.1971 - val_loss: 2.1729 - val_accuracy: 0.2126\n",
            "Epoch 315/500\n",
            "104/104 [==============================] - 1s 5ms/step - loss: 4.2800 - accuracy: 0.1614 - val_loss: 2.1725 - val_accuracy: 0.2126\n",
            "Epoch 316/500\n",
            "104/104 [==============================] - 1s 5ms/step - loss: 4.3891 - accuracy: 0.1759 - val_loss: 2.1722 - val_accuracy: 0.2126\n",
            "Epoch 317/500\n",
            "104/104 [==============================] - 1s 5ms/step - loss: 4.5121 - accuracy: 0.1626 - val_loss: 2.1723 - val_accuracy: 0.2126\n",
            "Epoch 318/500\n",
            "104/104 [==============================] - 1s 5ms/step - loss: 4.3067 - accuracy: 0.1759 - val_loss: 2.1724 - val_accuracy: 0.2126\n",
            "Epoch 319/500\n",
            "104/104 [==============================] - 1s 5ms/step - loss: 4.3614 - accuracy: 0.1784 - val_loss: 2.1722 - val_accuracy: 0.2126\n",
            "Epoch 320/500\n",
            "104/104 [==============================] - 1s 5ms/step - loss: 4.3929 - accuracy: 0.1765 - val_loss: 2.1722 - val_accuracy: 0.2126\n",
            "Epoch 321/500\n",
            "104/104 [==============================] - 1s 6ms/step - loss: 4.3051 - accuracy: 0.1826 - val_loss: 2.1722 - val_accuracy: 0.2126\n",
            "Epoch 322/500\n",
            "104/104 [==============================] - 1s 6ms/step - loss: 4.3083 - accuracy: 0.1790 - val_loss: 2.1720 - val_accuracy: 0.2126\n",
            "Epoch 323/500\n",
            "104/104 [==============================] - 1s 6ms/step - loss: 4.3285 - accuracy: 0.1638 - val_loss: 2.1720 - val_accuracy: 0.2126\n",
            "Epoch 324/500\n",
            "104/104 [==============================] - 1s 5ms/step - loss: 4.3634 - accuracy: 0.1904 - val_loss: 2.1719 - val_accuracy: 0.2126\n",
            "Epoch 325/500\n",
            "104/104 [==============================] - 1s 5ms/step - loss: 4.4110 - accuracy: 0.1784 - val_loss: 2.1715 - val_accuracy: 0.2126\n",
            "Epoch 326/500\n",
            "104/104 [==============================] - 1s 5ms/step - loss: 4.4825 - accuracy: 0.1699 - val_loss: 2.1714 - val_accuracy: 0.2126\n",
            "Epoch 327/500\n",
            "104/104 [==============================] - 1s 5ms/step - loss: 4.4963 - accuracy: 0.1651 - val_loss: 2.1713 - val_accuracy: 0.2126\n",
            "Epoch 328/500\n",
            "104/104 [==============================] - 1s 6ms/step - loss: 4.3220 - accuracy: 0.1753 - val_loss: 2.1710 - val_accuracy: 0.2126\n",
            "Epoch 329/500\n",
            "104/104 [==============================] - 1s 5ms/step - loss: 4.3003 - accuracy: 0.1771 - val_loss: 2.1707 - val_accuracy: 0.2126\n",
            "Epoch 330/500\n",
            "104/104 [==============================] - 1s 5ms/step - loss: 4.2572 - accuracy: 0.1880 - val_loss: 2.1705 - val_accuracy: 0.2126\n",
            "Epoch 331/500\n",
            "104/104 [==============================] - 1s 5ms/step - loss: 4.4422 - accuracy: 0.1753 - val_loss: 2.1705 - val_accuracy: 0.2126\n",
            "Epoch 332/500\n",
            "104/104 [==============================] - 1s 5ms/step - loss: 4.4059 - accuracy: 0.1723 - val_loss: 2.1701 - val_accuracy: 0.2126\n",
            "Epoch 333/500\n",
            "104/104 [==============================] - 1s 5ms/step - loss: 4.4573 - accuracy: 0.1651 - val_loss: 2.1701 - val_accuracy: 0.2126\n",
            "Epoch 334/500\n",
            "104/104 [==============================] - 1s 5ms/step - loss: 4.3870 - accuracy: 0.1663 - val_loss: 2.1699 - val_accuracy: 0.2126\n",
            "Epoch 335/500\n",
            "104/104 [==============================] - 1s 6ms/step - loss: 4.2753 - accuracy: 0.1917 - val_loss: 2.1699 - val_accuracy: 0.2126\n",
            "Epoch 336/500\n",
            "104/104 [==============================] - 1s 6ms/step - loss: 4.4262 - accuracy: 0.1820 - val_loss: 2.1700 - val_accuracy: 0.2126\n",
            "Epoch 337/500\n",
            "104/104 [==============================] - 1s 6ms/step - loss: 4.2516 - accuracy: 0.1917 - val_loss: 2.1700 - val_accuracy: 0.2126\n",
            "Epoch 338/500\n",
            "104/104 [==============================] - 1s 5ms/step - loss: 4.3275 - accuracy: 0.1790 - val_loss: 2.1698 - val_accuracy: 0.2126\n",
            "Epoch 339/500\n",
            "104/104 [==============================] - 1s 5ms/step - loss: 4.2799 - accuracy: 0.2031 - val_loss: 2.1697 - val_accuracy: 0.2126\n",
            "Epoch 340/500\n",
            "104/104 [==============================] - 1s 5ms/step - loss: 4.3918 - accuracy: 0.1771 - val_loss: 2.1696 - val_accuracy: 0.2126\n",
            "Epoch 341/500\n",
            "104/104 [==============================] - 1s 5ms/step - loss: 4.3242 - accuracy: 0.1747 - val_loss: 2.1694 - val_accuracy: 0.2126\n",
            "Epoch 342/500\n",
            "104/104 [==============================] - 1s 6ms/step - loss: 4.4673 - accuracy: 0.1699 - val_loss: 2.1693 - val_accuracy: 0.2126\n",
            "Epoch 343/500\n",
            "104/104 [==============================] - 1s 5ms/step - loss: 4.3465 - accuracy: 0.1844 - val_loss: 2.1694 - val_accuracy: 0.2126\n",
            "Epoch 344/500\n",
            "104/104 [==============================] - 1s 5ms/step - loss: 4.4740 - accuracy: 0.1717 - val_loss: 2.1693 - val_accuracy: 0.2126\n",
            "Epoch 345/500\n",
            "104/104 [==============================] - 1s 5ms/step - loss: 4.3645 - accuracy: 0.1753 - val_loss: 2.1691 - val_accuracy: 0.2126\n",
            "Epoch 346/500\n",
            "104/104 [==============================] - 1s 6ms/step - loss: 4.3709 - accuracy: 0.1832 - val_loss: 2.1691 - val_accuracy: 0.2126\n",
            "Epoch 347/500\n",
            "104/104 [==============================] - 1s 5ms/step - loss: 4.2882 - accuracy: 0.1832 - val_loss: 2.1690 - val_accuracy: 0.2126\n",
            "Epoch 348/500\n",
            "104/104 [==============================] - 1s 5ms/step - loss: 4.4733 - accuracy: 0.1904 - val_loss: 2.1690 - val_accuracy: 0.2126\n",
            "Epoch 349/500\n",
            "104/104 [==============================] - 1s 5ms/step - loss: 4.3088 - accuracy: 0.1765 - val_loss: 2.1688 - val_accuracy: 0.2126\n",
            "Epoch 350/500\n",
            "104/104 [==============================] - 1s 5ms/step - loss: 4.3006 - accuracy: 0.1814 - val_loss: 2.1688 - val_accuracy: 0.2126\n",
            "Epoch 351/500\n",
            "104/104 [==============================] - 1s 5ms/step - loss: 4.3640 - accuracy: 0.1638 - val_loss: 2.1686 - val_accuracy: 0.2126\n",
            "Epoch 352/500\n",
            "104/104 [==============================] - 1s 5ms/step - loss: 4.3844 - accuracy: 0.1644 - val_loss: 2.1687 - val_accuracy: 0.2126\n",
            "Epoch 353/500\n",
            "104/104 [==============================] - 1s 5ms/step - loss: 4.4292 - accuracy: 0.1820 - val_loss: 2.1685 - val_accuracy: 0.2126\n",
            "Epoch 354/500\n",
            "104/104 [==============================] - 1s 6ms/step - loss: 4.1976 - accuracy: 0.1820 - val_loss: 2.1687 - val_accuracy: 0.2126\n",
            "Epoch 355/500\n",
            "104/104 [==============================] - 1s 6ms/step - loss: 4.3770 - accuracy: 0.1880 - val_loss: 2.1685 - val_accuracy: 0.2126\n",
            "Epoch 356/500\n",
            "104/104 [==============================] - 1s 5ms/step - loss: 4.3539 - accuracy: 0.1820 - val_loss: 2.1686 - val_accuracy: 0.2126\n",
            "Epoch 357/500\n",
            "104/104 [==============================] - 1s 6ms/step - loss: 4.4380 - accuracy: 0.1802 - val_loss: 2.1684 - val_accuracy: 0.2126\n",
            "Epoch 358/500\n",
            "104/104 [==============================] - 1s 5ms/step - loss: 4.3284 - accuracy: 0.1651 - val_loss: 2.1684 - val_accuracy: 0.2126\n",
            "Epoch 359/500\n",
            "104/104 [==============================] - 1s 5ms/step - loss: 4.3356 - accuracy: 0.1796 - val_loss: 2.1683 - val_accuracy: 0.2126\n",
            "Epoch 360/500\n",
            "104/104 [==============================] - 1s 5ms/step - loss: 4.5139 - accuracy: 0.1669 - val_loss: 2.1682 - val_accuracy: 0.2126\n",
            "Epoch 361/500\n",
            "104/104 [==============================] - 1s 6ms/step - loss: 4.4378 - accuracy: 0.1735 - val_loss: 2.1682 - val_accuracy: 0.2126\n",
            "Epoch 362/500\n",
            "104/104 [==============================] - 1s 5ms/step - loss: 4.4071 - accuracy: 0.1711 - val_loss: 2.1683 - val_accuracy: 0.2126\n",
            "Epoch 363/500\n",
            "104/104 [==============================] - 1s 5ms/step - loss: 4.3789 - accuracy: 0.1898 - val_loss: 2.1681 - val_accuracy: 0.2126\n",
            "Epoch 364/500\n",
            "104/104 [==============================] - 1s 6ms/step - loss: 4.3955 - accuracy: 0.1741 - val_loss: 2.1681 - val_accuracy: 0.2126\n",
            "Epoch 365/500\n",
            "104/104 [==============================] - 1s 5ms/step - loss: 4.4245 - accuracy: 0.1808 - val_loss: 2.1678 - val_accuracy: 0.2126\n",
            "Epoch 366/500\n",
            "104/104 [==============================] - 1s 6ms/step - loss: 4.4219 - accuracy: 0.1717 - val_loss: 2.1677 - val_accuracy: 0.2126\n",
            "Epoch 367/500\n",
            "104/104 [==============================] - 1s 5ms/step - loss: 4.3459 - accuracy: 0.1608 - val_loss: 2.1675 - val_accuracy: 0.2126\n",
            "Epoch 368/500\n",
            "104/104 [==============================] - 1s 5ms/step - loss: 4.3572 - accuracy: 0.1832 - val_loss: 2.1677 - val_accuracy: 0.2126\n",
            "Epoch 369/500\n",
            "104/104 [==============================] - 1s 5ms/step - loss: 4.3856 - accuracy: 0.1917 - val_loss: 2.1677 - val_accuracy: 0.2126\n",
            "Epoch 370/500\n",
            "104/104 [==============================] - 1s 6ms/step - loss: 4.3252 - accuracy: 0.1759 - val_loss: 2.1677 - val_accuracy: 0.2126\n",
            "Epoch 371/500\n",
            "104/104 [==============================] - 1s 6ms/step - loss: 4.5141 - accuracy: 0.1735 - val_loss: 2.1677 - val_accuracy: 0.2126\n",
            "Epoch 372/500\n",
            "104/104 [==============================] - 1s 5ms/step - loss: 4.2182 - accuracy: 0.1838 - val_loss: 2.1677 - val_accuracy: 0.2126\n",
            "Epoch 373/500\n",
            "104/104 [==============================] - 1s 5ms/step - loss: 4.3492 - accuracy: 0.1826 - val_loss: 2.1676 - val_accuracy: 0.2126\n",
            "Epoch 374/500\n",
            "104/104 [==============================] - 1s 5ms/step - loss: 4.2988 - accuracy: 0.1802 - val_loss: 2.1674 - val_accuracy: 0.2126\n",
            "Epoch 375/500\n",
            "104/104 [==============================] - 1s 6ms/step - loss: 4.1957 - accuracy: 0.2013 - val_loss: 2.1673 - val_accuracy: 0.2126\n",
            "Epoch 376/500\n",
            "104/104 [==============================] - 1s 6ms/step - loss: 4.3289 - accuracy: 0.1989 - val_loss: 2.1671 - val_accuracy: 0.2126\n",
            "Epoch 377/500\n",
            "104/104 [==============================] - 1s 5ms/step - loss: 4.3581 - accuracy: 0.2001 - val_loss: 2.1670 - val_accuracy: 0.2126\n",
            "Epoch 378/500\n",
            "104/104 [==============================] - 1s 5ms/step - loss: 4.3898 - accuracy: 0.1862 - val_loss: 2.1668 - val_accuracy: 0.2126\n",
            "Epoch 379/500\n",
            "104/104 [==============================] - 1s 6ms/step - loss: 4.3549 - accuracy: 0.1735 - val_loss: 2.1665 - val_accuracy: 0.2126\n",
            "Epoch 380/500\n",
            "104/104 [==============================] - 1s 6ms/step - loss: 4.3858 - accuracy: 0.1898 - val_loss: 2.1663 - val_accuracy: 0.2126\n",
            "Epoch 381/500\n",
            "104/104 [==============================] - 1s 5ms/step - loss: 4.3083 - accuracy: 0.1790 - val_loss: 2.1663 - val_accuracy: 0.2126\n",
            "Epoch 382/500\n",
            "104/104 [==============================] - 1s 5ms/step - loss: 4.3121 - accuracy: 0.1729 - val_loss: 2.1661 - val_accuracy: 0.2126\n",
            "Epoch 383/500\n",
            "104/104 [==============================] - 1s 6ms/step - loss: 4.3652 - accuracy: 0.1759 - val_loss: 2.1660 - val_accuracy: 0.2126\n",
            "Epoch 384/500\n",
            "104/104 [==============================] - 1s 6ms/step - loss: 4.3073 - accuracy: 0.1898 - val_loss: 2.1659 - val_accuracy: 0.2126\n",
            "Epoch 385/500\n",
            "104/104 [==============================] - 1s 5ms/step - loss: 4.5139 - accuracy: 0.1614 - val_loss: 2.1657 - val_accuracy: 0.2126\n",
            "Epoch 386/500\n",
            "104/104 [==============================] - 1s 5ms/step - loss: 4.4802 - accuracy: 0.1644 - val_loss: 2.1654 - val_accuracy: 0.2126\n",
            "Epoch 387/500\n",
            "104/104 [==============================] - 1s 6ms/step - loss: 4.4960 - accuracy: 0.1802 - val_loss: 2.1652 - val_accuracy: 0.2126\n",
            "Epoch 388/500\n",
            "104/104 [==============================] - 1s 5ms/step - loss: 4.4187 - accuracy: 0.1862 - val_loss: 2.1651 - val_accuracy: 0.2126\n",
            "Epoch 389/500\n",
            "104/104 [==============================] - 1s 6ms/step - loss: 4.3271 - accuracy: 0.1705 - val_loss: 2.1652 - val_accuracy: 0.2126\n",
            "Epoch 390/500\n",
            "104/104 [==============================] - 1s 5ms/step - loss: 4.3169 - accuracy: 0.1814 - val_loss: 2.1651 - val_accuracy: 0.2126\n",
            "Epoch 391/500\n",
            "104/104 [==============================] - 1s 5ms/step - loss: 4.3863 - accuracy: 0.1832 - val_loss: 2.1651 - val_accuracy: 0.2126\n",
            "Epoch 392/500\n",
            "104/104 [==============================] - 1s 5ms/step - loss: 4.3812 - accuracy: 0.1765 - val_loss: 2.1649 - val_accuracy: 0.2126\n",
            "Epoch 393/500\n",
            "104/104 [==============================] - 1s 5ms/step - loss: 4.4334 - accuracy: 0.1929 - val_loss: 2.1646 - val_accuracy: 0.2126\n",
            "Epoch 394/500\n",
            "104/104 [==============================] - 1s 5ms/step - loss: 4.4544 - accuracy: 0.1771 - val_loss: 2.1643 - val_accuracy: 0.2126\n",
            "Epoch 395/500\n",
            "104/104 [==============================] - 1s 6ms/step - loss: 4.3491 - accuracy: 0.1814 - val_loss: 2.1642 - val_accuracy: 0.2126\n",
            "Epoch 396/500\n",
            "104/104 [==============================] - 1s 5ms/step - loss: 4.2967 - accuracy: 0.1844 - val_loss: 2.1641 - val_accuracy: 0.2126\n",
            "Epoch 397/500\n",
            "104/104 [==============================] - 1s 5ms/step - loss: 4.3154 - accuracy: 0.1663 - val_loss: 2.1640 - val_accuracy: 0.2126\n",
            "Epoch 398/500\n",
            "104/104 [==============================] - 1s 5ms/step - loss: 4.3834 - accuracy: 0.1862 - val_loss: 2.1636 - val_accuracy: 0.2126\n",
            "Epoch 399/500\n",
            "104/104 [==============================] - 1s 5ms/step - loss: 4.2148 - accuracy: 0.1995 - val_loss: 2.1637 - val_accuracy: 0.2126\n",
            "Epoch 400/500\n",
            "104/104 [==============================] - 1s 5ms/step - loss: 4.3167 - accuracy: 0.1844 - val_loss: 2.1637 - val_accuracy: 0.2126\n",
            "Epoch 401/500\n",
            "104/104 [==============================] - 1s 5ms/step - loss: 4.3534 - accuracy: 0.1632 - val_loss: 2.1636 - val_accuracy: 0.2126\n",
            "Epoch 402/500\n",
            "104/104 [==============================] - 1s 6ms/step - loss: 4.3827 - accuracy: 0.1723 - val_loss: 2.1636 - val_accuracy: 0.2126\n",
            "Epoch 403/500\n",
            "104/104 [==============================] - 1s 5ms/step - loss: 4.3905 - accuracy: 0.1790 - val_loss: 2.1634 - val_accuracy: 0.2126\n",
            "Epoch 404/500\n",
            "104/104 [==============================] - 1s 5ms/step - loss: 4.3835 - accuracy: 0.1735 - val_loss: 2.1633 - val_accuracy: 0.2126\n",
            "Epoch 405/500\n",
            "104/104 [==============================] - 1s 5ms/step - loss: 4.5133 - accuracy: 0.1778 - val_loss: 2.1632 - val_accuracy: 0.2126\n",
            "Epoch 406/500\n",
            "104/104 [==============================] - 1s 5ms/step - loss: 4.4487 - accuracy: 0.1784 - val_loss: 2.1631 - val_accuracy: 0.2126\n",
            "Epoch 407/500\n",
            "104/104 [==============================] - 1s 5ms/step - loss: 4.5304 - accuracy: 0.1687 - val_loss: 2.1633 - val_accuracy: 0.2126\n",
            "Epoch 408/500\n",
            "104/104 [==============================] - 1s 5ms/step - loss: 4.4431 - accuracy: 0.1802 - val_loss: 2.1632 - val_accuracy: 0.2126\n",
            "Epoch 409/500\n",
            "104/104 [==============================] - 1s 5ms/step - loss: 4.3960 - accuracy: 0.1832 - val_loss: 2.1633 - val_accuracy: 0.2126\n",
            "Epoch 410/500\n",
            "104/104 [==============================] - 1s 6ms/step - loss: 4.4092 - accuracy: 0.1657 - val_loss: 2.1631 - val_accuracy: 0.2126\n",
            "Epoch 411/500\n",
            "104/104 [==============================] - 1s 6ms/step - loss: 4.4279 - accuracy: 0.1850 - val_loss: 2.1629 - val_accuracy: 0.2126\n",
            "Epoch 412/500\n",
            "104/104 [==============================] - 1s 5ms/step - loss: 4.4084 - accuracy: 0.1735 - val_loss: 2.1628 - val_accuracy: 0.2126\n",
            "Epoch 413/500\n",
            "104/104 [==============================] - 1s 6ms/step - loss: 4.4705 - accuracy: 0.1699 - val_loss: 2.1628 - val_accuracy: 0.2126\n",
            "Epoch 414/500\n",
            "104/104 [==============================] - 1s 5ms/step - loss: 4.2858 - accuracy: 0.1874 - val_loss: 2.1626 - val_accuracy: 0.2126\n",
            "Epoch 415/500\n",
            "104/104 [==============================] - 1s 6ms/step - loss: 4.3189 - accuracy: 0.1747 - val_loss: 2.1627 - val_accuracy: 0.2126\n",
            "Epoch 416/500\n",
            "104/104 [==============================] - 1s 5ms/step - loss: 4.3110 - accuracy: 0.1904 - val_loss: 2.1627 - val_accuracy: 0.2126\n",
            "Epoch 417/500\n",
            "104/104 [==============================] - 1s 6ms/step - loss: 4.3505 - accuracy: 0.1935 - val_loss: 2.1627 - val_accuracy: 0.2126\n",
            "Epoch 418/500\n",
            "104/104 [==============================] - 1s 5ms/step - loss: 4.3340 - accuracy: 0.1814 - val_loss: 2.1627 - val_accuracy: 0.2126\n",
            "Epoch 419/500\n",
            "104/104 [==============================] - 1s 6ms/step - loss: 4.2953 - accuracy: 0.1911 - val_loss: 2.1626 - val_accuracy: 0.2126\n",
            "Epoch 420/500\n",
            "104/104 [==============================] - 1s 5ms/step - loss: 4.3040 - accuracy: 0.1953 - val_loss: 2.1626 - val_accuracy: 0.2126\n",
            "Epoch 421/500\n",
            "104/104 [==============================] - 1s 5ms/step - loss: 4.4371 - accuracy: 0.1759 - val_loss: 2.1625 - val_accuracy: 0.2126\n",
            "Epoch 422/500\n",
            "104/104 [==============================] - 1s 6ms/step - loss: 4.4281 - accuracy: 0.1693 - val_loss: 2.1623 - val_accuracy: 0.2126\n",
            "Epoch 423/500\n",
            "104/104 [==============================] - 1s 5ms/step - loss: 4.4110 - accuracy: 0.1687 - val_loss: 2.1622 - val_accuracy: 0.2126\n",
            "Epoch 424/500\n",
            "104/104 [==============================] - 1s 6ms/step - loss: 4.5014 - accuracy: 0.1753 - val_loss: 2.1622 - val_accuracy: 0.2126\n",
            "Epoch 425/500\n",
            "104/104 [==============================] - 1s 5ms/step - loss: 4.3223 - accuracy: 0.1850 - val_loss: 2.1621 - val_accuracy: 0.2174\n",
            "Epoch 426/500\n",
            "104/104 [==============================] - 1s 5ms/step - loss: 4.4925 - accuracy: 0.1741 - val_loss: 2.1623 - val_accuracy: 0.2126\n",
            "Epoch 427/500\n",
            "104/104 [==============================] - 1s 6ms/step - loss: 4.2810 - accuracy: 0.1874 - val_loss: 2.1622 - val_accuracy: 0.2126\n",
            "Epoch 428/500\n",
            "104/104 [==============================] - 1s 6ms/step - loss: 4.3662 - accuracy: 0.1929 - val_loss: 2.1620 - val_accuracy: 0.2174\n",
            "Epoch 429/500\n",
            "104/104 [==============================] - 1s 5ms/step - loss: 4.4859 - accuracy: 0.1790 - val_loss: 2.1619 - val_accuracy: 0.2174\n",
            "Epoch 430/500\n",
            "104/104 [==============================] - 1s 6ms/step - loss: 4.4171 - accuracy: 0.1778 - val_loss: 2.1619 - val_accuracy: 0.2174\n",
            "Epoch 431/500\n",
            "104/104 [==============================] - 1s 6ms/step - loss: 4.3541 - accuracy: 0.1711 - val_loss: 2.1618 - val_accuracy: 0.2174\n",
            "Epoch 432/500\n",
            "104/104 [==============================] - 1s 5ms/step - loss: 4.5440 - accuracy: 0.1735 - val_loss: 2.1618 - val_accuracy: 0.2174\n",
            "Epoch 433/500\n",
            "104/104 [==============================] - 1s 5ms/step - loss: 4.2931 - accuracy: 0.1796 - val_loss: 2.1618 - val_accuracy: 0.2174\n",
            "Epoch 434/500\n",
            "104/104 [==============================] - 1s 6ms/step - loss: 4.5055 - accuracy: 0.1796 - val_loss: 2.1619 - val_accuracy: 0.2174\n",
            "Epoch 435/500\n",
            "104/104 [==============================] - 1s 5ms/step - loss: 4.4749 - accuracy: 0.1711 - val_loss: 2.1616 - val_accuracy: 0.2174\n",
            "Epoch 436/500\n",
            "104/104 [==============================] - 1s 6ms/step - loss: 4.3434 - accuracy: 0.1820 - val_loss: 2.1617 - val_accuracy: 0.2174\n",
            "Epoch 437/500\n",
            "104/104 [==============================] - 1s 5ms/step - loss: 4.2851 - accuracy: 0.1741 - val_loss: 2.1617 - val_accuracy: 0.2174\n",
            "Epoch 438/500\n",
            "104/104 [==============================] - 1s 6ms/step - loss: 4.4030 - accuracy: 0.1802 - val_loss: 2.1618 - val_accuracy: 0.2174\n",
            "Epoch 439/500\n",
            "104/104 [==============================] - 1s 5ms/step - loss: 4.2315 - accuracy: 0.1971 - val_loss: 2.1618 - val_accuracy: 0.2174\n",
            "Epoch 440/500\n",
            "104/104 [==============================] - 1s 6ms/step - loss: 4.3954 - accuracy: 0.1681 - val_loss: 2.1616 - val_accuracy: 0.2174\n",
            "Epoch 441/500\n",
            "104/104 [==============================] - 1s 5ms/step - loss: 4.3922 - accuracy: 0.1753 - val_loss: 2.1615 - val_accuracy: 0.2174\n",
            "Epoch 442/500\n",
            "104/104 [==============================] - 1s 5ms/step - loss: 4.2522 - accuracy: 0.1911 - val_loss: 2.1613 - val_accuracy: 0.2174\n",
            "Epoch 443/500\n",
            "104/104 [==============================] - 1s 6ms/step - loss: 4.3488 - accuracy: 0.1693 - val_loss: 2.1613 - val_accuracy: 0.2174\n",
            "Epoch 444/500\n",
            "104/104 [==============================] - 1s 6ms/step - loss: 4.3326 - accuracy: 0.1838 - val_loss: 2.1611 - val_accuracy: 0.2174\n",
            "Epoch 445/500\n",
            "104/104 [==============================] - 1s 6ms/step - loss: 4.3626 - accuracy: 0.1705 - val_loss: 2.1611 - val_accuracy: 0.2174\n",
            "Epoch 446/500\n",
            "104/104 [==============================] - 1s 6ms/step - loss: 4.3767 - accuracy: 0.1784 - val_loss: 2.1613 - val_accuracy: 0.2174\n",
            "Epoch 447/500\n",
            "104/104 [==============================] - 1s 5ms/step - loss: 4.2714 - accuracy: 0.1923 - val_loss: 2.1613 - val_accuracy: 0.2174\n",
            "Epoch 448/500\n",
            "104/104 [==============================] - 1s 6ms/step - loss: 4.2538 - accuracy: 0.1923 - val_loss: 2.1613 - val_accuracy: 0.2174\n",
            "Epoch 449/500\n",
            "104/104 [==============================] - 1s 5ms/step - loss: 4.2819 - accuracy: 0.1796 - val_loss: 2.1612 - val_accuracy: 0.2174\n",
            "Epoch 450/500\n",
            "104/104 [==============================] - 1s 6ms/step - loss: 4.4367 - accuracy: 0.1844 - val_loss: 2.1611 - val_accuracy: 0.2174\n",
            "Epoch 451/500\n",
            "104/104 [==============================] - 1s 6ms/step - loss: 4.4426 - accuracy: 0.1802 - val_loss: 2.1610 - val_accuracy: 0.2174\n",
            "Epoch 452/500\n",
            "104/104 [==============================] - 1s 5ms/step - loss: 4.2697 - accuracy: 0.1741 - val_loss: 2.1611 - val_accuracy: 0.2174\n",
            "Epoch 453/500\n",
            "104/104 [==============================] - 1s 5ms/step - loss: 4.4038 - accuracy: 0.1759 - val_loss: 2.1611 - val_accuracy: 0.2174\n",
            "Epoch 454/500\n",
            "104/104 [==============================] - 1s 6ms/step - loss: 4.3941 - accuracy: 0.1844 - val_loss: 2.1609 - val_accuracy: 0.2174\n",
            "Epoch 455/500\n",
            "104/104 [==============================] - 1s 5ms/step - loss: 4.2908 - accuracy: 0.1699 - val_loss: 2.1609 - val_accuracy: 0.2174\n",
            "Epoch 456/500\n",
            "104/104 [==============================] - 1s 6ms/step - loss: 4.4415 - accuracy: 0.1693 - val_loss: 2.1608 - val_accuracy: 0.2174\n",
            "Epoch 457/500\n",
            "104/104 [==============================] - 1s 5ms/step - loss: 4.3972 - accuracy: 0.1856 - val_loss: 2.1608 - val_accuracy: 0.2174\n",
            "Epoch 458/500\n",
            "104/104 [==============================] - 1s 6ms/step - loss: 4.3975 - accuracy: 0.1711 - val_loss: 2.1606 - val_accuracy: 0.2174\n",
            "Epoch 459/500\n",
            "104/104 [==============================] - 1s 6ms/step - loss: 4.3150 - accuracy: 0.1923 - val_loss: 2.1606 - val_accuracy: 0.2174\n",
            "Epoch 460/500\n",
            "104/104 [==============================] - 1s 6ms/step - loss: 4.3559 - accuracy: 0.1838 - val_loss: 2.1606 - val_accuracy: 0.2174\n",
            "Epoch 461/500\n",
            "104/104 [==============================] - 1s 6ms/step - loss: 4.5012 - accuracy: 0.1747 - val_loss: 2.1607 - val_accuracy: 0.2174\n",
            "Epoch 462/500\n",
            "104/104 [==============================] - 1s 6ms/step - loss: 4.3556 - accuracy: 0.1741 - val_loss: 2.1605 - val_accuracy: 0.2174\n",
            "Epoch 463/500\n",
            "104/104 [==============================] - 1s 5ms/step - loss: 4.4180 - accuracy: 0.1820 - val_loss: 2.1606 - val_accuracy: 0.2174\n",
            "Epoch 464/500\n",
            "104/104 [==============================] - 1s 6ms/step - loss: 4.5700 - accuracy: 0.1644 - val_loss: 2.1607 - val_accuracy: 0.2174\n",
            "Epoch 465/500\n",
            "104/104 [==============================] - 1s 6ms/step - loss: 4.4791 - accuracy: 0.1626 - val_loss: 2.1607 - val_accuracy: 0.2174\n",
            "Epoch 466/500\n",
            "104/104 [==============================] - 1s 5ms/step - loss: 4.3784 - accuracy: 0.1838 - val_loss: 2.1606 - val_accuracy: 0.2174\n",
            "Epoch 467/500\n",
            "104/104 [==============================] - 1s 6ms/step - loss: 4.3295 - accuracy: 0.1790 - val_loss: 2.1604 - val_accuracy: 0.2174\n",
            "Epoch 468/500\n",
            "104/104 [==============================] - 1s 6ms/step - loss: 4.3354 - accuracy: 0.1741 - val_loss: 2.1603 - val_accuracy: 0.2174\n",
            "Epoch 469/500\n",
            "104/104 [==============================] - 1s 6ms/step - loss: 4.2496 - accuracy: 0.1904 - val_loss: 2.1602 - val_accuracy: 0.2174\n",
            "Epoch 470/500\n",
            "104/104 [==============================] - 1s 6ms/step - loss: 4.4222 - accuracy: 0.1790 - val_loss: 2.1603 - val_accuracy: 0.2174\n",
            "Epoch 471/500\n",
            "104/104 [==============================] - 1s 5ms/step - loss: 4.2988 - accuracy: 0.1898 - val_loss: 2.1602 - val_accuracy: 0.2174\n",
            "Epoch 472/500\n",
            "104/104 [==============================] - 1s 6ms/step - loss: 4.2240 - accuracy: 0.1814 - val_loss: 2.1600 - val_accuracy: 0.2174\n",
            "Epoch 473/500\n",
            "104/104 [==============================] - 1s 6ms/step - loss: 4.3405 - accuracy: 0.1802 - val_loss: 2.1599 - val_accuracy: 0.2174\n",
            "Epoch 474/500\n",
            "104/104 [==============================] - 1s 5ms/step - loss: 4.2028 - accuracy: 0.1669 - val_loss: 2.1597 - val_accuracy: 0.2174\n",
            "Epoch 475/500\n",
            "104/104 [==============================] - 1s 5ms/step - loss: 4.4663 - accuracy: 0.1638 - val_loss: 2.1598 - val_accuracy: 0.2174\n",
            "Epoch 476/500\n",
            "104/104 [==============================] - 1s 6ms/step - loss: 4.3225 - accuracy: 0.1808 - val_loss: 2.1597 - val_accuracy: 0.2174\n",
            "Epoch 477/500\n",
            "104/104 [==============================] - 1s 6ms/step - loss: 4.3188 - accuracy: 0.1632 - val_loss: 2.1597 - val_accuracy: 0.2174\n",
            "Epoch 478/500\n",
            "104/104 [==============================] - 1s 5ms/step - loss: 4.3455 - accuracy: 0.1765 - val_loss: 2.1596 - val_accuracy: 0.2174\n",
            "Epoch 479/500\n",
            "104/104 [==============================] - 1s 5ms/step - loss: 4.3267 - accuracy: 0.1808 - val_loss: 2.1594 - val_accuracy: 0.2174\n",
            "Epoch 480/500\n",
            "104/104 [==============================] - 1s 5ms/step - loss: 4.3243 - accuracy: 0.1856 - val_loss: 2.1592 - val_accuracy: 0.2174\n",
            "Epoch 481/500\n",
            "104/104 [==============================] - 1s 6ms/step - loss: 4.2682 - accuracy: 0.1796 - val_loss: 2.1590 - val_accuracy: 0.2174\n",
            "Epoch 482/500\n",
            "104/104 [==============================] - 1s 6ms/step - loss: 4.3016 - accuracy: 0.1850 - val_loss: 2.1589 - val_accuracy: 0.2174\n",
            "Epoch 483/500\n",
            "104/104 [==============================] - 1s 6ms/step - loss: 4.4330 - accuracy: 0.1681 - val_loss: 2.1589 - val_accuracy: 0.2174\n",
            "Epoch 484/500\n",
            "104/104 [==============================] - 1s 6ms/step - loss: 4.3413 - accuracy: 0.1687 - val_loss: 2.1588 - val_accuracy: 0.2174\n",
            "Epoch 485/500\n",
            "104/104 [==============================] - 1s 6ms/step - loss: 4.3455 - accuracy: 0.1838 - val_loss: 2.1587 - val_accuracy: 0.2174\n",
            "Epoch 486/500\n",
            "104/104 [==============================] - 1s 6ms/step - loss: 4.2612 - accuracy: 0.1953 - val_loss: 2.1587 - val_accuracy: 0.2174\n",
            "Epoch 487/500\n",
            "104/104 [==============================] - 1s 6ms/step - loss: 4.1600 - accuracy: 0.1862 - val_loss: 2.1586 - val_accuracy: 0.2174\n",
            "Epoch 488/500\n",
            "104/104 [==============================] - 1s 6ms/step - loss: 4.3228 - accuracy: 0.1687 - val_loss: 2.1585 - val_accuracy: 0.2174\n",
            "Epoch 489/500\n",
            "104/104 [==============================] - 1s 6ms/step - loss: 4.2076 - accuracy: 0.1790 - val_loss: 2.1585 - val_accuracy: 0.2174\n",
            "Epoch 490/500\n",
            "104/104 [==============================] - 1s 5ms/step - loss: 4.3124 - accuracy: 0.1814 - val_loss: 2.1583 - val_accuracy: 0.2174\n",
            "Epoch 491/500\n",
            "104/104 [==============================] - 1s 5ms/step - loss: 4.3400 - accuracy: 0.1717 - val_loss: 2.1583 - val_accuracy: 0.2174\n",
            "Epoch 492/500\n",
            "104/104 [==============================] - 1s 6ms/step - loss: 4.4760 - accuracy: 0.1759 - val_loss: 2.1583 - val_accuracy: 0.2174\n",
            "Epoch 493/500\n",
            "104/104 [==============================] - 1s 6ms/step - loss: 4.3811 - accuracy: 0.1814 - val_loss: 2.1582 - val_accuracy: 0.2174\n",
            "Epoch 494/500\n",
            "104/104 [==============================] - 1s 6ms/step - loss: 4.3750 - accuracy: 0.1687 - val_loss: 2.1583 - val_accuracy: 0.2174\n",
            "Epoch 495/500\n",
            "104/104 [==============================] - 1s 5ms/step - loss: 4.3007 - accuracy: 0.1753 - val_loss: 2.1582 - val_accuracy: 0.2174\n",
            "Epoch 496/500\n",
            "104/104 [==============================] - 1s 7ms/step - loss: 4.4339 - accuracy: 0.1729 - val_loss: 2.1582 - val_accuracy: 0.2174\n",
            "Epoch 497/500\n",
            "104/104 [==============================] - 1s 9ms/step - loss: 4.2160 - accuracy: 0.1838 - val_loss: 2.1580 - val_accuracy: 0.2174\n",
            "Epoch 498/500\n",
            "104/104 [==============================] - 1s 6ms/step - loss: 4.5157 - accuracy: 0.1626 - val_loss: 2.1579 - val_accuracy: 0.2222\n",
            "Epoch 499/500\n",
            "104/104 [==============================] - 1s 5ms/step - loss: 4.3583 - accuracy: 0.1705 - val_loss: 2.1579 - val_accuracy: 0.2222\n",
            "Epoch 500/500\n",
            "104/104 [==============================] - 1s 5ms/step - loss: 4.3359 - accuracy: 0.1868 - val_loss: 2.1577 - val_accuracy: 0.2222\n"
          ]
        }
      ]
    },
    {
      "cell_type": "code",
      "source": [
        "plt.plot(cnnhistory.history['loss'])\n",
        "plt.plot(cnnhistory.history['val_loss'])\n",
        "plt.title('model loss')\n",
        "plt.ylabel('loss')\n",
        "plt.xlabel('epoch')\n",
        "plt.legend(['train','test'], loc='upper left')\n",
        "plt.show()"
      ],
      "metadata": {
        "colab": {
          "base_uri": "https://localhost:8080/",
          "height": 295
        },
        "id": "oQYnuaCrDH_A",
        "outputId": "470beb2f-8d93-4614-f860-69d5dec7760a"
      },
      "execution_count": 11,
      "outputs": [
        {
          "output_type": "display_data",
          "data": {
            "text/plain": [
              "<Figure size 432x288 with 1 Axes>"
            ],
            "image/png": "[encoded data removed]"
          },
          "metadata": {
            "needs_background": "light"
          }
        }
      ]
    },
    {
      "cell_type": "code",
      "source": [
        "plt.plot(cnnhistory.history['accuracy'])\n",
        "plt.plot(cnnhistory.history['val_accuracy'])\n",
        "plt.title('model accuracy')\n",
        "plt.ylabel('accuracy')\n",
        "plt.xlabel('epoch')\n",
        "plt.legend(['train','test'], loc='upper left')\n",
        "plt.show()"
      ],
      "metadata": {
        "colab": {
          "base_uri": "https://localhost:8080/",
          "height": 295
        },
        "id": "IFkTuO8nDNdq",
        "outputId": "cd18e62d-51c5-43fb-9372-a5b4b016ba17"
      },
      "execution_count": 12,
      "outputs": [
        {
          "output_type": "display_data",
          "data": {
            "text/plain": [
              "<Figure size 432x288 with 1 Axes>"
            ],
            "image/png": "[encoded data removed]"
          },
          "metadata": {
            "needs_background": "light"
          }
        }
      ]
    },
    {
      "cell_type": "code",
      "source": [
        "predictions = model.predict(x_testcnn)"
      ],
      "metadata": {
        "id": "A2xtrN5wDQgY"
      },
      "execution_count": 13,
      "outputs": []
    },
    {
      "cell_type": "code",
      "source": [
        "predictions"
      ],
      "metadata": {
        "colab": {
          "base_uri": "https://localhost:8080/"
        },
        "id": "_f_ohjXKDUpY",
        "outputId": "df0d3fb1-d4f1-4162-bc5b-9591cdd641fd"
      },
      "execution_count": 14,
      "outputs": [
        {
          "output_type": "execute_result",
          "data": {
            "text/plain": [
              "array([[0.00364423, 0.17440839, 0.13754323, 0.08701073, 0.19851436,\n",
              "        0.39887908],\n",
              "       [0.00662043, 0.15827218, 0.2184432 , 0.08596576, 0.22155434,\n",
              "        0.30914408],\n",
              "       [0.00204302, 0.15451942, 0.13333316, 0.10202334, 0.24090567,\n",
              "        0.36717537],\n",
              "       ...,\n",
              "       [0.02382122, 0.11652306, 0.08213732, 0.08319521, 0.47789428,\n",
              "        0.21642895],\n",
              "       [0.0175163 , 0.0880137 , 0.07211923, 0.09947906, 0.5210084 ,\n",
              "        0.20186333],\n",
              "       [0.02027537, 0.154844  , 0.144255  , 0.11529938, 0.31581646,\n",
              "        0.24950975]], dtype=float32)"
            ]
          },
          "metadata": {},
          "execution_count": 14
        }
      ]
    },
    {
      "cell_type": "code",
      "source": [
        "y_test"
      ],
      "metadata": {
        "colab": {
          "base_uri": "https://localhost:8080/"
        },
        "id": "cmA2bFgsDW3D",
        "outputId": "936c1a30-8a6e-469f-d109-53faad3d5651"
      },
      "execution_count": 15,
      "outputs": [
        {
          "output_type": "execute_result",
          "data": {
            "text/plain": [
              "array([3, 3, 3, 0, 4, 4, 1, 2, 5, 0, 5, 3, 2, 2, 1, 4, 4, 5, 2, 4, 1, 2,\n",
              "       3, 5, 4, 2, 1, 2, 2, 2, 2, 5, 2, 5, 3, 1, 2, 0, 4, 5, 2, 3, 2, 2,\n",
              "       5, 2, 0, 1, 3, 4, 4, 5, 1, 1, 4, 4, 5, 1, 1, 1, 0, 1, 5, 0, 4, 1,\n",
              "       1, 0, 1, 4, 1, 0, 4, 1, 3, 1, 2, 2, 1, 2, 3, 0, 5, 3, 5, 5, 2, 4,\n",
              "       5, 1, 5, 1, 5, 3, 4, 1, 4, 1, 5, 4, 5, 1, 2, 1, 1, 5, 1, 3, 2, 5,\n",
              "       2, 1, 3, 5, 4, 4, 0, 0, 3, 1, 2, 2, 3, 5, 1, 5, 3, 4, 2, 2, 0, 2,\n",
              "       2, 5, 5, 0, 3, 3, 2, 2, 0, 3, 4, 0, 4, 2, 4, 5, 4, 1, 5, 3, 2, 2,\n",
              "       5, 4, 3, 3, 4, 3, 3, 4, 1, 5, 2, 3, 2, 2, 0, 2, 1, 3, 1, 2, 2, 5,\n",
              "       5, 1, 4, 2, 2, 1, 1, 3, 3, 5, 5, 2, 5, 1, 5, 0, 3, 3, 0, 5, 1, 4,\n",
              "       1, 4, 2, 5, 5, 1, 4, 2, 4])"
            ]
          },
          "metadata": {},
          "execution_count": 15
        }
      ]
    },
    {
      "cell_type": "code",
      "source": [
        "new_Ytest = y_test.astype(int)"
      ],
      "metadata": {
        "id": "0PHDKWJWDY3g"
      },
      "execution_count": 16,
      "outputs": []
    },
    {
      "cell_type": "code",
      "source": [
        "new_Ytest"
      ],
      "metadata": {
        "colab": {
          "base_uri": "https://localhost:8080/"
        },
        "id": "k68v2i-pDbZE",
        "outputId": "b9996e1f-210d-4887-ecc2-6e924177eacc"
      },
      "execution_count": 17,
      "outputs": [
        {
          "output_type": "execute_result",
          "data": {
            "text/plain": [
              "array([3, 3, 3, 0, 4, 4, 1, 2, 5, 0, 5, 3, 2, 2, 1, 4, 4, 5, 2, 4, 1, 2,\n",
              "       3, 5, 4, 2, 1, 2, 2, 2, 2, 5, 2, 5, 3, 1, 2, 0, 4, 5, 2, 3, 2, 2,\n",
              "       5, 2, 0, 1, 3, 4, 4, 5, 1, 1, 4, 4, 5, 1, 1, 1, 0, 1, 5, 0, 4, 1,\n",
              "       1, 0, 1, 4, 1, 0, 4, 1, 3, 1, 2, 2, 1, 2, 3, 0, 5, 3, 5, 5, 2, 4,\n",
              "       5, 1, 5, 1, 5, 3, 4, 1, 4, 1, 5, 4, 5, 1, 2, 1, 1, 5, 1, 3, 2, 5,\n",
              "       2, 1, 3, 5, 4, 4, 0, 0, 3, 1, 2, 2, 3, 5, 1, 5, 3, 4, 2, 2, 0, 2,\n",
              "       2, 5, 5, 0, 3, 3, 2, 2, 0, 3, 4, 0, 4, 2, 4, 5, 4, 1, 5, 3, 2, 2,\n",
              "       5, 4, 3, 3, 4, 3, 3, 4, 1, 5, 2, 3, 2, 2, 0, 2, 1, 3, 1, 2, 2, 5,\n",
              "       5, 1, 4, 2, 2, 1, 1, 3, 3, 5, 5, 2, 5, 1, 5, 0, 3, 3, 0, 5, 1, 4,\n",
              "       1, 4, 2, 5, 5, 1, 4, 2, 4])"
            ]
          },
          "metadata": {},
          "execution_count": 17
        }
      ]
    },
    {
      "cell_type": "code",
      "source": [
        "preds1=predictions.argmax(axis=1)\n",
        "preds1"
      ],
      "metadata": {
        "colab": {
          "base_uri": "https://localhost:8080/"
        },
        "id": "4_cAI39VFhtp",
        "outputId": "01646adb-190f-4018-87a1-dd1f44764ad2"
      },
      "execution_count": 18,
      "outputs": [
        {
          "output_type": "execute_result",
          "data": {
            "text/plain": [
              "array([5, 5, 5, 5, 5, 4, 4, 4, 4, 5, 4, 4, 4, 4, 5, 5, 4, 4, 4, 4, 5, 5,\n",
              "       5, 4, 5, 4, 5, 5, 4, 4, 5, 4, 5, 4, 5, 5, 5, 5, 4, 4, 5, 4, 5, 5,\n",
              "       4, 4, 5, 5, 4, 4, 4, 5, 5, 5, 4, 5, 5, 5, 5, 5, 4, 4, 4, 5, 4, 5,\n",
              "       4, 5, 5, 4, 5, 5, 4, 4, 5, 5, 5, 4, 5, 5, 5, 5, 5, 4, 4, 4, 4, 4,\n",
              "       4, 5, 5, 4, 4, 5, 5, 4, 5, 5, 5, 4, 4, 5, 4, 5, 5, 4, 4, 4, 4, 4,\n",
              "       5, 5, 4, 4, 4, 4, 5, 5, 4, 5, 5, 1, 5, 5, 4, 5, 5, 4, 4, 4, 5, 5,\n",
              "       4, 4, 5, 5, 4, 4, 5, 5, 4, 5, 4, 5, 4, 4, 5, 5, 4, 4, 5, 5, 4, 4,\n",
              "       4, 4, 4, 4, 4, 5, 4, 4, 5, 4, 4, 5, 5, 4, 5, 4, 5, 4, 4, 4, 4, 4,\n",
              "       4, 5, 5, 4, 5, 5, 5, 4, 5, 4, 4, 4, 4, 5, 5, 5, 5, 4, 5, 4, 5, 5,\n",
              "       4, 5, 4, 4, 4, 5, 4, 4, 4])"
            ]
          },
          "metadata": {},
          "execution_count": 18
        }
      ]
    },
    {
      "cell_type": "code",
      "source": [
        "abc = preds1.astype(int).flatten()"
      ],
      "metadata": {
        "id": "H4WEmM60NfQn"
      },
      "execution_count": 19,
      "outputs": []
    },
    {
      "cell_type": "code",
      "source": [
        "from sklearn.metrics import confusion_matrix\n",
        "c = confusion_matrix(new_Ytest, abc) \n",
        "c"
      ],
      "metadata": {
        "colab": {
          "base_uri": "https://localhost:8080/"
        },
        "id": "bKEBeEBlFjB8",
        "outputId": "ca61fa69-37fd-4f09-f88b-0d615a9aa49d"
      },
      "execution_count": 20,
      "outputs": [
        {
          "output_type": "execute_result",
          "data": {
            "text/plain": [
              "array([[ 0,  0,  0,  0,  2, 16],\n",
              "       [ 0,  0,  0,  0, 11, 30],\n",
              "       [ 0,  1,  0,  0, 27, 17],\n",
              "       [ 0,  0,  0,  0, 15, 16],\n",
              "       [ 0,  0,  0,  0, 23, 10],\n",
              "       [ 0,  0,  0,  0, 28, 11]])"
            ]
          },
          "metadata": {},
          "execution_count": 20
        }
      ]
    },
    {
      "cell_type": "code",
      "source": [
        "y_test"
      ],
      "metadata": {
        "colab": {
          "base_uri": "https://localhost:8080/"
        },
        "id": "m4RjG7LWLSQx",
        "outputId": "14adc05f-0721-4700-d050-3c059bf0a30a"
      },
      "execution_count": 21,
      "outputs": [
        {
          "output_type": "execute_result",
          "data": {
            "text/plain": [
              "array([3, 3, 3, 0, 4, 4, 1, 2, 5, 0, 5, 3, 2, 2, 1, 4, 4, 5, 2, 4, 1, 2,\n",
              "       3, 5, 4, 2, 1, 2, 2, 2, 2, 5, 2, 5, 3, 1, 2, 0, 4, 5, 2, 3, 2, 2,\n",
              "       5, 2, 0, 1, 3, 4, 4, 5, 1, 1, 4, 4, 5, 1, 1, 1, 0, 1, 5, 0, 4, 1,\n",
              "       1, 0, 1, 4, 1, 0, 4, 1, 3, 1, 2, 2, 1, 2, 3, 0, 5, 3, 5, 5, 2, 4,\n",
              "       5, 1, 5, 1, 5, 3, 4, 1, 4, 1, 5, 4, 5, 1, 2, 1, 1, 5, 1, 3, 2, 5,\n",
              "       2, 1, 3, 5, 4, 4, 0, 0, 3, 1, 2, 2, 3, 5, 1, 5, 3, 4, 2, 2, 0, 2,\n",
              "       2, 5, 5, 0, 3, 3, 2, 2, 0, 3, 4, 0, 4, 2, 4, 5, 4, 1, 5, 3, 2, 2,\n",
              "       5, 4, 3, 3, 4, 3, 3, 4, 1, 5, 2, 3, 2, 2, 0, 2, 1, 3, 1, 2, 2, 5,\n",
              "       5, 1, 4, 2, 2, 1, 1, 3, 3, 5, 5, 2, 5, 1, 5, 0, 3, 3, 0, 5, 1, 4,\n",
              "       1, 4, 2, 5, 5, 1, 4, 2, 4])"
            ]
          },
          "metadata": {},
          "execution_count": 21
        }
      ]
    },
    {
      "cell_type": "code",
      "source": [
        "model.save('/content/drive/My Drive/graduation project/audio/paper_code/mariam/original_500 epoch_with_valid_Adam2_3')\n",
        "print(\"MODEL SAVED\")"
      ],
      "metadata": {
        "colab": {
          "base_uri": "https://localhost:8080/"
        },
        "id": "lsJBNeMWDl6Z",
        "outputId": "ed96267e-046d-45db-d259-833819b1e6f2"
      },
      "execution_count": null,
      "outputs": [
        {
          "output_type": "stream",
          "name": "stdout",
          "text": [
            "INFO:tensorflow:Assets written to: /content/drive/My Drive/graduation project/audio/paper_code/mariam/original_500 epoch_with_valid_Adam2_3/assets\n",
            "MODEL SAVED\n"
          ]
        }
      ]
    },
    {
      "cell_type": "code",
      "source": [
        "new_model=keras.models.load_model('/content/drive/My Drive/graduation project/audio/paper_code/mariam/original_500 epoch_with_valid_Adam2_3')\n",
        "new_model.summary()"
      ],
      "metadata": {
        "colab": {
          "base_uri": "https://localhost:8080/"
        },
        "id": "Q3KjaO9GDoNl",
        "outputId": "b509c41b-32e6-434b-f23d-4c04a29eb7c5"
      },
      "execution_count": null,
      "outputs": [
        {
          "output_type": "stream",
          "name": "stdout",
          "text": [
            "Model: \"sequential\"\n",
            "_________________________________________________________________\n",
            " Layer (type)                Output Shape              Param #   \n",
            "=================================================================\n",
            " conv1d (Conv1D)             (None, 40, 128)           1152      \n",
            "                                                                 \n",
            " activation (Activation)     (None, 40, 128)           0         \n",
            "                                                                 \n",
            " dropout (Dropout)           (None, 40, 128)           0         \n",
            "                                                                 \n",
            " max_pooling1d (MaxPooling1D  (None, 8, 128)           0         \n",
            " )                                                               \n",
            "                                                                 \n",
            " conv1d_1 (Conv1D)           (None, 8, 256)            262400    \n",
            "                                                                 \n",
            " activation_1 (Activation)   (None, 8, 256)            0         \n",
            "                                                                 \n",
            " dropout_1 (Dropout)         (None, 8, 256)            0         \n",
            "                                                                 \n",
            " max_pooling1d_1 (MaxPooling  (None, 1, 256)           0         \n",
            " 1D)                                                             \n",
            "                                                                 \n",
            " flatten (Flatten)           (None, 256)               0         \n",
            "                                                                 \n",
            " dense (Dense)               (None, 256)               65792     \n",
            "                                                                 \n",
            " activation_2 (Activation)   (None, 256)               0         \n",
            "                                                                 \n",
            " dense_1 (Dense)             (None, 256)               65792     \n",
            "                                                                 \n",
            " activation_3 (Activation)   (None, 256)               0         \n",
            "                                                                 \n",
            " dense_2 (Dense)             (None, 6)                 1542      \n",
            "                                                                 \n",
            " activation_4 (Activation)   (None, 6)                 0         \n",
            "                                                                 \n",
            "=================================================================\n",
            "Total params: 396,678\n",
            "Trainable params: 396,678\n",
            "Non-trainable params: 0\n",
            "_________________________________________________________________\n"
          ]
        }
      ]
    },
    {
      "cell_type": "code",
      "source": [
        "loss, acc =model.evaluate(x_testcnn, y_test)\n",
        "print(\"Restored model, accuracy: {:5.2f}%\".format(100*acc))"
      ],
      "metadata": {
        "colab": {
          "base_uri": "https://localhost:8080/"
        },
        "id": "n3kzoqPkDqqS",
        "outputId": "6839abf7-72f4-4f8d-fbb5-d23a94fbc554"
      },
      "execution_count": 22,
      "outputs": [
        {
          "output_type": "stream",
          "name": "stdout",
          "text": [
            "7/7 [==============================] - 0s 3ms/step - loss: 2.1319 - accuracy: 0.1643\n",
            "Restored model, accuracy: 16.43%\n"
          ]
        }
      ]
    },
    {
      "cell_type": "code",
      "source": [
        "loss, acc =model.evaluate(X_train, y_train)\n",
        "print(\"Restored model train, accuracy: {:5.2f}%\".format(100*acc))"
      ],
      "metadata": {
        "id": "fJDTGH_OUX0z",
        "colab": {
          "base_uri": "https://localhost:8080/"
        },
        "outputId": "fdd952f4-fac7-470e-aebb-2332a6835bfb"
      },
      "execution_count": 23,
      "outputs": [
        {
          "output_type": "stream",
          "name": "stdout",
          "text": [
            "52/52 [==============================] - 0s 4ms/step - loss: 2.7010 - accuracy: 0.1844\n",
            "Restored model train, accuracy: 18.44%\n"
          ]
        }
      ]
    },
    {
      "cell_type": "code",
      "source": [
        "from sklearn.metrics import classification_report, confusion_matrix,accuracy_score\n",
        "import seaborn as sn\n",
        "\n",
        "print(classification_report(new_Ytest,abc))\n",
        "\n",
        "acc = float(accuracy_score(new_Ytest,abc))*100\n",
        "print(\"----accuracy score %s ----\" % acc)\n",
        "\n",
        "cm = confusion_matrix(new_Ytest,abc)\n",
        "#df_cm = pd.DataFrame(cm)\n",
        "class_names = ['neutral','calm', 'happy','sad','angry', 'fearful' ]\n",
        "df_cm = pd.DataFrame(cm, index=class_names, columns=class_names,)\n",
        "sn.heatmap(df_cm, annot=True, fmt='')\n",
        "plt.show()"
      ],
      "metadata": {
        "colab": {
          "base_uri": "https://localhost:8080/",
          "height": 720
        },
        "id": "SfSC3El94LZg",
        "outputId": "4d77c98b-fce8-48c8-93fe-ef0456b522fd"
      },
      "execution_count": 23,
      "outputs": [
        {
          "output_type": "stream",
          "name": "stderr",
          "text": [
            "/usr/local/lib/python3.7/dist-packages/sklearn/metrics/_classification.py:1318: UndefinedMetricWarning:\n",
            "\n",
            "Precision and F-score are ill-defined and being set to 0.0 in labels with no predicted samples. Use `zero_division` parameter to control this behavior.\n",
            "\n",
            "/usr/local/lib/python3.7/dist-packages/sklearn/metrics/_classification.py:1318: UndefinedMetricWarning:\n",
            "\n",
            "Precision and F-score are ill-defined and being set to 0.0 in labels with no predicted samples. Use `zero_division` parameter to control this behavior.\n",
            "\n",
            "/usr/local/lib/python3.7/dist-packages/sklearn/metrics/_classification.py:1318: UndefinedMetricWarning:\n",
            "\n",
            "Precision and F-score are ill-defined and being set to 0.0 in labels with no predicted samples. Use `zero_division` parameter to control this behavior.\n",
            "\n"
          ]
        },
        {
          "output_type": "stream",
          "name": "stdout",
          "text": [
            "              precision    recall  f1-score   support\n",
            "\n",
            "           0       0.00      0.00      0.00        18\n",
            "           1       0.00      0.00      0.00        41\n",
            "           2       0.00      0.00      0.00        45\n",
            "           3       0.00      0.00      0.00        31\n",
            "           4       0.22      0.70      0.33        33\n",
            "           5       0.11      0.28      0.16        39\n",
            "\n",
            "    accuracy                           0.16       207\n",
            "   macro avg       0.05      0.16      0.08       207\n",
            "weighted avg       0.06      0.16      0.08       207\n",
            "\n",
            "----accuracy score 16.425120772946862 ----\n"
          ]
        },
        {
          "output_type": "display_data",
          "data": {
            "text/plain": [
              "<Figure size 432x288 with 2 Axes>"
            ],
            "image/png": "[encoded data removed]"
          },
          "metadata": {
            "needs_background": "light"
          }
        }
      ]
    },
    {
      "cell_type": "code",
      "source": [
        ""
      ],
      "metadata": {
        "id": "LGpgwFQqkpyU"
      },
      "execution_count": null,
      "outputs": []
    }
  ]
}