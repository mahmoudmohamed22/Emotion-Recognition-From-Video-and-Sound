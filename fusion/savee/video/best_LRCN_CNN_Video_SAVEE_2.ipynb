{
  "cells": [
    {
      "cell_type": "code",
      "execution_count": 1,
      "metadata": {
        "colab": {
          "base_uri": "https://localhost:8080/"
        },
        "id": "iC_o_HaWEBQ4",
        "outputId": "9d8ee94c-cc71-4f4f-fd4f-9e52fe0921e3"
      },
      "outputs": [
        {
          "output_type": "stream",
          "name": "stdout",
          "text": [
            "Looking in indexes: https://pypi.org/simple, https://us-python.pkg.dev/colab-wheels/public/simple/\n",
            "Requirement already satisfied: tensorflow in /usr/local/lib/python3.7/dist-packages (2.8.2+zzzcolab20220527125636)\n",
            "Requirement already satisfied: opencv-contrib-python in /usr/local/lib/python3.7/dist-packages (4.1.2.30)\n",
            "Requirement already satisfied: youtube-dl in /usr/local/lib/python3.7/dist-packages (2021.12.17)\n",
            "Requirement already satisfied: moviepy in /usr/local/lib/python3.7/dist-packages (0.2.3.5)\n",
            "Requirement already satisfied: pydot in /usr/local/lib/python3.7/dist-packages (1.3.0)\n",
            "Requirement already satisfied: keras-preprocessing>=1.1.1 in /usr/local/lib/python3.7/dist-packages (from tensorflow) (1.1.2)\n",
            "Requirement already satisfied: six>=1.12.0 in /usr/local/lib/python3.7/dist-packages (from tensorflow) (1.15.0)\n",
            "Requirement already satisfied: astunparse>=1.6.0 in /usr/local/lib/python3.7/dist-packages (from tensorflow) (1.6.3)\n",
            "Requirement already satisfied: gast>=0.2.1 in /usr/local/lib/python3.7/dist-packages (from tensorflow) (0.5.3)\n",
            "Requirement already satisfied: typing-extensions>=3.6.6 in /usr/local/lib/python3.7/dist-packages (from tensorflow) (4.2.0)\n",
            "Requirement already satisfied: libclang>=9.0.1 in /usr/local/lib/python3.7/dist-packages (from tensorflow) (14.0.1)\n",
            "Requirement already satisfied: wrapt>=1.11.0 in /usr/local/lib/python3.7/dist-packages (from tensorflow) (1.14.1)\n",
            "Requirement already satisfied: absl-py>=0.4.0 in /usr/local/lib/python3.7/dist-packages (from tensorflow) (1.0.0)\n",
            "Requirement already satisfied: numpy>=1.20 in /usr/local/lib/python3.7/dist-packages (from tensorflow) (1.21.6)\n",
            "Requirement already satisfied: grpcio<2.0,>=1.24.3 in /usr/local/lib/python3.7/dist-packages (from tensorflow) (1.46.3)\n",
            "Requirement already satisfied: tensorboard<2.9,>=2.8 in /usr/local/lib/python3.7/dist-packages (from tensorflow) (2.8.0)\n",
            "Requirement already satisfied: protobuf<3.20,>=3.9.2 in /usr/local/lib/python3.7/dist-packages (from tensorflow) (3.17.3)\n",
            "Requirement already satisfied: termcolor>=1.1.0 in /usr/local/lib/python3.7/dist-packages (from tensorflow) (1.1.0)\n",
            "Requirement already satisfied: flatbuffers>=1.12 in /usr/local/lib/python3.7/dist-packages (from tensorflow) (2.0)\n",
            "Requirement already satisfied: tensorflow-estimator<2.9,>=2.8 in /usr/local/lib/python3.7/dist-packages (from tensorflow) (2.8.0)\n",
            "Requirement already satisfied: tensorflow-io-gcs-filesystem>=0.23.1 in /usr/local/lib/python3.7/dist-packages (from tensorflow) (0.26.0)\n",
            "Requirement already satisfied: google-pasta>=0.1.1 in /usr/local/lib/python3.7/dist-packages (from tensorflow) (0.2.0)\n",
            "Requirement already satisfied: opt-einsum>=2.3.2 in /usr/local/lib/python3.7/dist-packages (from tensorflow) (3.3.0)\n",
            "Requirement already satisfied: keras<2.9,>=2.8.0rc0 in /usr/local/lib/python3.7/dist-packages (from tensorflow) (2.8.0)\n",
            "Requirement already satisfied: setuptools in /usr/local/lib/python3.7/dist-packages (from tensorflow) (57.4.0)\n",
            "Requirement already satisfied: h5py>=2.9.0 in /usr/local/lib/python3.7/dist-packages (from tensorflow) (3.1.0)\n",
            "Requirement already satisfied: wheel<1.0,>=0.23.0 in /usr/local/lib/python3.7/dist-packages (from astunparse>=1.6.0->tensorflow) (0.37.1)\n",
            "Requirement already satisfied: cached-property in /usr/local/lib/python3.7/dist-packages (from h5py>=2.9.0->tensorflow) (1.5.2)\n",
            "Requirement already satisfied: requests<3,>=2.21.0 in /usr/local/lib/python3.7/dist-packages (from tensorboard<2.9,>=2.8->tensorflow) (2.23.0)\n",
            "Requirement already satisfied: tensorboard-plugin-wit>=1.6.0 in /usr/local/lib/python3.7/dist-packages (from tensorboard<2.9,>=2.8->tensorflow) (1.8.1)\n",
            "Requirement already satisfied: werkzeug>=0.11.15 in /usr/local/lib/python3.7/dist-packages (from tensorboard<2.9,>=2.8->tensorflow) (1.0.1)\n",
            "Requirement already satisfied: google-auth<3,>=1.6.3 in /usr/local/lib/python3.7/dist-packages (from tensorboard<2.9,>=2.8->tensorflow) (1.35.0)\n",
            "Requirement already satisfied: tensorboard-data-server<0.7.0,>=0.6.0 in /usr/local/lib/python3.7/dist-packages (from tensorboard<2.9,>=2.8->tensorflow) (0.6.1)\n",
            "Requirement already satisfied: markdown>=2.6.8 in /usr/local/lib/python3.7/dist-packages (from tensorboard<2.9,>=2.8->tensorflow) (3.3.7)\n",
            "Requirement already satisfied: google-auth-oauthlib<0.5,>=0.4.1 in /usr/local/lib/python3.7/dist-packages (from tensorboard<2.9,>=2.8->tensorflow) (0.4.6)\n",
            "Requirement already satisfied: pyasn1-modules>=0.2.1 in /usr/local/lib/python3.7/dist-packages (from google-auth<3,>=1.6.3->tensorboard<2.9,>=2.8->tensorflow) (0.2.8)\n",
            "Requirement already satisfied: cachetools<5.0,>=2.0.0 in /usr/local/lib/python3.7/dist-packages (from google-auth<3,>=1.6.3->tensorboard<2.9,>=2.8->tensorflow) (4.2.4)\n",
            "Requirement already satisfied: rsa<5,>=3.1.4 in /usr/local/lib/python3.7/dist-packages (from google-auth<3,>=1.6.3->tensorboard<2.9,>=2.8->tensorflow) (4.8)\n",
            "Requirement already satisfied: requests-oauthlib>=0.7.0 in /usr/local/lib/python3.7/dist-packages (from google-auth-oauthlib<0.5,>=0.4.1->tensorboard<2.9,>=2.8->tensorflow) (1.3.1)\n",
            "Requirement already satisfied: importlib-metadata>=4.4 in /usr/local/lib/python3.7/dist-packages (from markdown>=2.6.8->tensorboard<2.9,>=2.8->tensorflow) (4.11.4)\n",
            "Requirement already satisfied: zipp>=0.5 in /usr/local/lib/python3.7/dist-packages (from importlib-metadata>=4.4->markdown>=2.6.8->tensorboard<2.9,>=2.8->tensorflow) (3.8.0)\n",
            "Requirement already satisfied: pyasn1<0.5.0,>=0.4.6 in /usr/local/lib/python3.7/dist-packages (from pyasn1-modules>=0.2.1->google-auth<3,>=1.6.3->tensorboard<2.9,>=2.8->tensorflow) (0.4.8)\n",
            "Requirement already satisfied: certifi>=2017.4.17 in /usr/local/lib/python3.7/dist-packages (from requests<3,>=2.21.0->tensorboard<2.9,>=2.8->tensorflow) (2022.5.18.1)\n",
            "Requirement already satisfied: chardet<4,>=3.0.2 in /usr/local/lib/python3.7/dist-packages (from requests<3,>=2.21.0->tensorboard<2.9,>=2.8->tensorflow) (3.0.4)\n",
            "Requirement already satisfied: urllib3!=1.25.0,!=1.25.1,<1.26,>=1.21.1 in /usr/local/lib/python3.7/dist-packages (from requests<3,>=2.21.0->tensorboard<2.9,>=2.8->tensorflow) (1.24.3)\n",
            "Requirement already satisfied: idna<3,>=2.5 in /usr/local/lib/python3.7/dist-packages (from requests<3,>=2.21.0->tensorboard<2.9,>=2.8->tensorflow) (2.10)\n",
            "Requirement already satisfied: oauthlib>=3.0.0 in /usr/local/lib/python3.7/dist-packages (from requests-oauthlib>=0.7.0->google-auth-oauthlib<0.5,>=0.4.1->tensorboard<2.9,>=2.8->tensorflow) (3.2.0)\n",
            "Requirement already satisfied: tqdm<5.0,>=4.11.2 in /usr/local/lib/python3.7/dist-packages (from moviepy) (4.64.0)\n",
            "Requirement already satisfied: decorator<5.0,>=4.0.2 in /usr/local/lib/python3.7/dist-packages (from moviepy) (4.4.2)\n",
            "Requirement already satisfied: imageio<3.0,>=2.1.2 in /usr/local/lib/python3.7/dist-packages (from moviepy) (2.4.1)\n",
            "Requirement already satisfied: pillow in /usr/local/lib/python3.7/dist-packages (from imageio<3.0,>=2.1.2->moviepy) (7.1.2)\n",
            "Requirement already satisfied: pyparsing>=2.1.4 in /usr/local/lib/python3.7/dist-packages (from pydot) (3.0.9)\n",
            "Looking in indexes: https://pypi.org/simple, https://us-python.pkg.dev/colab-wheels/public/simple/\n",
            "Collecting pafy\n",
            "  Cloning https://github.com/TahaAnwar/pafy.git to /tmp/pip-install-4jseggm_/pafy_fd2a8ef016e14a6f8fc118506a747a3a\n",
            "  Running command git clone -q https://github.com/TahaAnwar/pafy.git /tmp/pip-install-4jseggm_/pafy_fd2a8ef016e14a6f8fc118506a747a3a\n"
          ]
        }
      ],
      "source": [
        "# Discard the output of this cell.\n",
        "#%%capture\n",
        "\n",
        "# Install the required libraries.\n",
        "!pip install tensorflow opencv-contrib-python youtube-dl moviepy pydot\n",
        "!pip install git+https://github.com/TahaAnwar/pafy.git#egg=pafy"
      ]
    },
    {
      "cell_type": "code",
      "source": [
        "from google.colab import drive\n",
        "drive.mount('/content/drive')"
      ],
      "metadata": {
        "colab": {
          "base_uri": "https://localhost:8080/"
        },
        "id": "773CUmldFLWW",
        "outputId": "6a8529d3-bda0-4992-8d42-d57c40c24457"
      },
      "execution_count": 2,
      "outputs": [
        {
          "output_type": "stream",
          "name": "stdout",
          "text": [
            "Drive already mounted at /content/drive; to attempt to forcibly remount, call drive.mount(\"/content/drive\", force_remount=True).\n"
          ]
        }
      ]
    },
    {
      "cell_type": "code",
      "source": [
        "# Import the required libraries.\n",
        "import os\n",
        "import cv2\n",
        "import pafy\n",
        "import math\n",
        "import random\n",
        "import numpy as np\n",
        "import datetime as dt\n",
        "import tensorflow as tf\n",
        "from collections import deque\n",
        "import matplotlib.pyplot as plt\n",
        "\n",
        "from moviepy.editor import *\n",
        "%matplotlib inline\n",
        "\n",
        "from sklearn.model_selection import train_test_split\n",
        "\n",
        "from tensorflow.keras.layers import *\n",
        "from tensorflow.keras.models import Sequential\n",
        "from tensorflow.keras.utils import to_categorical\n",
        "from tensorflow.keras.callbacks import EarlyStopping\n",
        "from tensorflow.keras.utils import plot_model"
      ],
      "metadata": {
        "id": "pI_Uxj54EZA-"
      },
      "execution_count": 3,
      "outputs": []
    },
    {
      "cell_type": "code",
      "source": [
        "# Specify the height and width to which each video frame will be resized in our dataset.\n",
        "IMAGE_HEIGHT , IMAGE_WIDTH = 64, 64\n",
        "\n",
        "# Specify the number of frames of a video that will be fed to the model as one sequence.\n",
        "SEQUENCE_LENGTH = 30\n",
        "\n",
        "# Specify the directory containing the UCF50 dataset. \n",
        "DATASET_DIR = \"/content/drive/MyDrive/SAVEEvideowithlabel/\"\n",
        "\n",
        "# Specify the list containing the names of the classes used for training. Feel free to choose any set of classes.\n",
        "CLASSES_LIST = [\"neutral\", \"happy\", \"sad\",\"angry\",\"fearful\"]"
      ],
      "metadata": {
        "id": "SjdIu5iUEtFT"
      },
      "execution_count": 4,
      "outputs": []
    },
    {
      "cell_type": "code",
      "source": [
        "import joblib\n",
        "train_path_name=joblib.load('/content/drive/My Drive/fusion/savee/audio/data_set/expert2/train/video_train_path')\n",
        "valid_path_name=joblib.load('/content/drive/My Drive/fusion/savee/audio/data_set/expert2/valid/video_valid_path')\n",
        "test_path_name=joblib.load('/content/drive/My Drive/fusion/savee/audio/data_set/expert2/test/video_test_path')\n",
        "\n",
        "labels_train=joblib.load('/content/drive/My Drive/fusion/savee/audio/data_set/expert2/train/labels_train')\n",
        "labels_valid=joblib.load('/content/drive/My Drive/fusion/savee/audio/data_set/expert2/valid/labels_valid')\n",
        "labels_test=joblib.load('/content/drive/My Drive/fusion/savee/audio/data_set/expert2/test/labels_test')\n"
      ],
      "metadata": {
        "id": "bX4U29oQ2pim"
      },
      "execution_count": 5,
      "outputs": []
    },
    {
      "cell_type": "code",
      "source": [
        "len(train_path_name),len(valid_path_name),len(test_path_name),len(labels_train),len(labels_valid),len(labels_test)"
      ],
      "metadata": {
        "colab": {
          "base_uri": "https://localhost:8080/"
        },
        "id": "h0ruZZrrBkht",
        "outputId": "abb03d6e-7fb3-493e-f09f-4fc8f13ada7c"
      },
      "execution_count": 6,
      "outputs": [
        {
          "output_type": "execute_result",
          "data": {
            "text/plain": [
              "(288, 36, 36, 288, 36, 36)"
            ]
          },
          "metadata": {},
          "execution_count": 6
        }
      ]
    },
    {
      "cell_type": "code",
      "source": [
        "def frames_extraction(video_path):\n",
        "    '''\n",
        "    This function will extract the required frames from a video after resizing and normalizing them.\n",
        "    Args:\n",
        "        video_path: The path of the video in the disk, whose frames are to be extracted.\n",
        "    Returns:\n",
        "        frames_list: A list containing the resized and normalized frames of the video.\n",
        "    '''\n",
        "\n",
        "    # Declare a list to store video frames.\n",
        "    frames_list = []\n",
        "    # Read the Video File using the VideoCapture object.\n",
        "    video_reader = cv2.VideoCapture(video_path)\n",
        "\n",
        "    # Get the total number of frames in the video.\n",
        "    video_frames_count = int(video_reader.get(cv2.CAP_PROP_FRAME_COUNT))\n",
        "\n",
        "    # Calculate the the interval after which frames will be added to the list.\n",
        "    skip_frames_window = max(int(video_frames_count/SEQUENCE_LENGTH), 1)\n",
        "\n",
        "    # Iterate through the Video Frames.\n",
        "    for frame_counter in range(SEQUENCE_LENGTH):\n",
        "\n",
        "        # Set the current frame position of the video.\n",
        "        video_reader.set(cv2.CAP_PROP_POS_FRAMES, frame_counter * skip_frames_window)\n",
        "\n",
        "        # Reading the frame from the video. \n",
        "        success, frame = video_reader.read() \n",
        "\n",
        "        # Check if Video frame is not successfully read then break the loop\n",
        "        if not success:\n",
        "            break\n",
        "\n",
        "        # Resize the Frame to fixed height and width.\n",
        "        resized_frame = cv2.resize(frame, (IMAGE_HEIGHT, IMAGE_WIDTH))\n",
        "        \n",
        "        # Normalize the resized frame by dividing it with 255 so that each pixel value then lies between 0 and 1\n",
        "        normalized_frame = resized_frame / 255\n",
        "        \n",
        "        # Append the normalized frame into the frames list\n",
        "        frames_list.append(normalized_frame)\n",
        "    \n",
        "    # Release the VideoCapture object. \n",
        "    video_reader.release()\n",
        "\n",
        "    # Return the frames list.\n",
        "    return frames_list"
      ],
      "metadata": {
        "id": "FDdQgjx3wZ7I"
      },
      "execution_count": 7,
      "outputs": []
    },
    {
      "cell_type": "code",
      "source": [
        "def create_dataset(video_path):\n",
        "    '''\n",
        "    This function will extract the data of the selected classes and create the required dataset.\n",
        "    Returns:\n",
        "        features:          A list containing the extracted frames of the videos.\n",
        "        labels:            A list containing the indexes of the classes associated with the videos.\n",
        "        video_files_paths: A list containing the paths of the videos in the disk.\n",
        "    '''\n",
        "\n",
        "    # Declared Empty Lists to store the features, labels and video file path values.\n",
        "    features = []\n",
        "    #labels = []\n",
        "    #video_files_paths = []\n",
        "    #count=0\n",
        "    # Iterating through all the classes mentioned in the classes list\n",
        "    #for class_index, class_name in enumerate(CLASSES_LIST):\n",
        "    for i in video_path:   \n",
        "        # Display the name of the class whose data is being extracted.\n",
        "        #print(f'Extracting Data of Class: {class_name}')\n",
        "        \n",
        "        # Get the list of video files present in the specific class name directory.\n",
        "        #files_list = os.listdir(os.path.join(DATASET_DIR, class_name))\n",
        "        \n",
        "        # Iterate through all the files present in the files list.\n",
        "        #for file_name in files_list:\n",
        "            \n",
        "            # Get the complete video path.\n",
        "            #video_file_path = os.path.join(DATASET_DIR, class_name, file_name)\n",
        "            video_file_path=DATASET_DIR+i\n",
        "            print(video_file_path)\n",
        "            # Extract the frames of the video file.\n",
        "            frames = frames_extraction(video_file_path)\n",
        "            \n",
        "            # Check if the extracted frames are equal to the SEQUENCE_LENGTH specified above.\n",
        "            # So ignore the vides having frames less than the SEQUENCE_LENGTH.\n",
        "            if len(frames) == SEQUENCE_LENGTH:\n",
        "\n",
        "                # Append the data to their repective lists.\n",
        "                features.append(frames)\n",
        "                #labels.append(class_index)\n",
        "            \n",
        "\n",
        "    # Converting the list to numpy arrays\n",
        "    features = np.asarray(features)\n",
        "    \n",
        "    #labels = np.array(labels)  \n",
        "    \n",
        "    # Return the frames, class index, and video file path.\n",
        "    return features"
      ],
      "metadata": {
        "id": "ZsZMU8CWwidt"
      },
      "execution_count": 8,
      "outputs": []
    },
    {
      "cell_type": "code",
      "source": [
        "features_train=create_dataset(train_path_name)\n",
        "features_test=create_dataset(test_path_name)\n",
        "features_valid=create_dataset(valid_path_name)"
      ],
      "metadata": {
        "colab": {
          "base_uri": "https://localhost:8080/"
        },
        "id": "5dVZii6-wjPV",
        "outputId": "8c77aecf-525b-4aba-8ace-593634cf2016"
      },
      "execution_count": 9,
      "outputs": [
        {
          "output_type": "stream",
          "name": "stdout",
          "text": [
            "/content/drive/MyDrive/SAVEEvideowithlabel/neutral/n17dc.avi\n",
            "/content/drive/MyDrive/SAVEEvideowithlabel/neutral/n20kl.avi\n",
            "/content/drive/MyDrive/SAVEEvideowithlabel/fearful/f12dc.avi\n",
            "/content/drive/MyDrive/SAVEEvideowithlabel/happy/h2kl.avi\n",
            "/content/drive/MyDrive/SAVEEvideowithlabel/happy/h8jk.avi\n",
            "/content/drive/MyDrive/SAVEEvideowithlabel/angry/a6dc.avi\n",
            "/content/drive/MyDrive/SAVEEvideowithlabel/angry/a15dc.avi\n",
            "/content/drive/MyDrive/SAVEEvideowithlabel/happy/h5dc.avi\n",
            "/content/drive/MyDrive/SAVEEvideowithlabel/fearful/f9je.avi\n",
            "/content/drive/MyDrive/SAVEEvideowithlabel/neutral/n26jk.avi\n",
            "/content/drive/MyDrive/SAVEEvideowithlabel/neutral/n12dc.avi\n",
            "/content/drive/MyDrive/SAVEEvideowithlabel/sad/sa8jk.avi\n",
            "/content/drive/MyDrive/SAVEEvideowithlabel/fearful/f13dc.avi\n",
            "/content/drive/MyDrive/SAVEEvideowithlabel/neutral/n17kl.avi\n",
            "/content/drive/MyDrive/SAVEEvideowithlabel/neutral/n6kl.avi\n",
            "/content/drive/MyDrive/SAVEEvideowithlabel/angry/a11kl.avi\n",
            "/content/drive/MyDrive/SAVEEvideowithlabel/happy/h2je.avi\n",
            "/content/drive/MyDrive/SAVEEvideowithlabel/sad/sa9jk.avi\n",
            "/content/drive/MyDrive/SAVEEvideowithlabel/sad/sa12jk.avi\n",
            "/content/drive/MyDrive/SAVEEvideowithlabel/fearful/f4jk.avi\n",
            "/content/drive/MyDrive/SAVEEvideowithlabel/sad/sa10je.avi\n",
            "/content/drive/MyDrive/SAVEEvideowithlabel/happy/h14kl.avi\n",
            "/content/drive/MyDrive/SAVEEvideowithlabel/angry/a8dc.avi\n",
            "/content/drive/MyDrive/SAVEEvideowithlabel/fearful/f7kl.avi\n",
            "/content/drive/MyDrive/SAVEEvideowithlabel/sad/sa10dc.avi\n",
            "/content/drive/MyDrive/SAVEEvideowithlabel/happy/h7jk.avi\n",
            "/content/drive/MyDrive/SAVEEvideowithlabel/neutral/n7dc.avi\n",
            "/content/drive/MyDrive/SAVEEvideowithlabel/happy/h2jk.avi\n",
            "/content/drive/MyDrive/SAVEEvideowithlabel/neutral/n15dc.avi\n",
            "/content/drive/MyDrive/SAVEEvideowithlabel/neutral/n25je.avi\n",
            "/content/drive/MyDrive/SAVEEvideowithlabel/happy/h10kl.avi\n",
            "/content/drive/MyDrive/SAVEEvideowithlabel/neutral/n27je.avi\n",
            "/content/drive/MyDrive/SAVEEvideowithlabel/sad/sa12kl.avi\n",
            "/content/drive/MyDrive/SAVEEvideowithlabel/neutral/n28dc.avi\n",
            "/content/drive/MyDrive/SAVEEvideowithlabel/fearful/f13kl.avi\n",
            "/content/drive/MyDrive/SAVEEvideowithlabel/neutral/n13dc.avi\n",
            "/content/drive/MyDrive/SAVEEvideowithlabel/happy/h12kl.avi\n",
            "/content/drive/MyDrive/SAVEEvideowithlabel/neutral/n22jk.avi\n",
            "/content/drive/MyDrive/SAVEEvideowithlabel/fearful/f10jk.avi\n",
            "/content/drive/MyDrive/SAVEEvideowithlabel/fearful/f2kl.avi\n",
            "/content/drive/MyDrive/SAVEEvideowithlabel/fearful/f5je.avi\n",
            "/content/drive/MyDrive/SAVEEvideowithlabel/neutral/n17jk.avi\n",
            "/content/drive/MyDrive/SAVEEvideowithlabel/neutral/n28jk.avi\n",
            "/content/drive/MyDrive/SAVEEvideowithlabel/sad/sa14dc.avi\n",
            "/content/drive/MyDrive/SAVEEvideowithlabel/angry/a6je.avi\n",
            "/content/drive/MyDrive/SAVEEvideowithlabel/neutral/n2kl.avi\n",
            "/content/drive/MyDrive/SAVEEvideowithlabel/angry/a9je.avi\n",
            "/content/drive/MyDrive/SAVEEvideowithlabel/fearful/f10dc.avi\n",
            "/content/drive/MyDrive/SAVEEvideowithlabel/neutral/n21dc.avi\n",
            "/content/drive/MyDrive/SAVEEvideowithlabel/neutral/n25jk.avi\n",
            "/content/drive/MyDrive/SAVEEvideowithlabel/happy/h8je.avi\n",
            "/content/drive/MyDrive/SAVEEvideowithlabel/sad/sa11kl.avi\n",
            "/content/drive/MyDrive/SAVEEvideowithlabel/happy/h10dc.avi\n",
            "/content/drive/MyDrive/SAVEEvideowithlabel/happy/h1dc.avi\n",
            "/content/drive/MyDrive/SAVEEvideowithlabel/angry/a1dc.avi\n",
            "/content/drive/MyDrive/SAVEEvideowithlabel/angry/a5kl.avi\n",
            "/content/drive/MyDrive/SAVEEvideowithlabel/sad/sa2dc.avi\n",
            "/content/drive/MyDrive/SAVEEvideowithlabel/neutral/n30je.avi\n",
            "/content/drive/MyDrive/SAVEEvideowithlabel/angry/a13jk.avi\n",
            "/content/drive/MyDrive/SAVEEvideowithlabel/neutral/n2jk.avi\n",
            "/content/drive/MyDrive/SAVEEvideowithlabel/neutral/n16dc.avi\n",
            "/content/drive/MyDrive/SAVEEvideowithlabel/sad/sa6jk.avi\n",
            "/content/drive/MyDrive/SAVEEvideowithlabel/happy/h14jk.avi\n",
            "/content/drive/MyDrive/SAVEEvideowithlabel/neutral/n3kl.avi\n",
            "/content/drive/MyDrive/SAVEEvideowithlabel/fearful/f5dc.avi\n",
            "/content/drive/MyDrive/SAVEEvideowithlabel/happy/h15je.avi\n",
            "/content/drive/MyDrive/SAVEEvideowithlabel/angry/a4jk.avi\n",
            "/content/drive/MyDrive/SAVEEvideowithlabel/happy/h13je.avi\n",
            "/content/drive/MyDrive/SAVEEvideowithlabel/neutral/n13jk.avi\n",
            "/content/drive/MyDrive/SAVEEvideowithlabel/happy/h4dc.avi\n",
            "/content/drive/MyDrive/SAVEEvideowithlabel/neutral/n24kl.avi\n",
            "/content/drive/MyDrive/SAVEEvideowithlabel/neutral/n21jk.avi\n",
            "/content/drive/MyDrive/SAVEEvideowithlabel/happy/h6kl.avi\n",
            "/content/drive/MyDrive/SAVEEvideowithlabel/happy/h14je.avi\n",
            "/content/drive/MyDrive/SAVEEvideowithlabel/fearful/f14kl.avi\n",
            "/content/drive/MyDrive/SAVEEvideowithlabel/sad/sa7dc.avi\n",
            "/content/drive/MyDrive/SAVEEvideowithlabel/fearful/f10kl.avi\n",
            "/content/drive/MyDrive/SAVEEvideowithlabel/angry/a7dc.avi\n",
            "/content/drive/MyDrive/SAVEEvideowithlabel/neutral/n12kl.avi\n",
            "/content/drive/MyDrive/SAVEEvideowithlabel/neutral/n24dc.avi\n",
            "/content/drive/MyDrive/SAVEEvideowithlabel/angry/a1je.avi\n",
            "/content/drive/MyDrive/SAVEEvideowithlabel/sad/sa11jk.avi\n",
            "/content/drive/MyDrive/SAVEEvideowithlabel/fearful/f3jk.avi\n",
            "/content/drive/MyDrive/SAVEEvideowithlabel/happy/h8kl.avi\n",
            "/content/drive/MyDrive/SAVEEvideowithlabel/angry/a15jk.avi\n",
            "/content/drive/MyDrive/SAVEEvideowithlabel/happy/h5kl.avi\n",
            "/content/drive/MyDrive/SAVEEvideowithlabel/fearful/f12kl.avi\n",
            "/content/drive/MyDrive/SAVEEvideowithlabel/angry/a12dc.avi\n",
            "/content/drive/MyDrive/SAVEEvideowithlabel/neutral/n19dc.avi\n",
            "/content/drive/MyDrive/SAVEEvideowithlabel/happy/h9kl.avi\n",
            "/content/drive/MyDrive/SAVEEvideowithlabel/sad/sa15je.avi\n",
            "/content/drive/MyDrive/SAVEEvideowithlabel/happy/h13dc.avi\n",
            "/content/drive/MyDrive/SAVEEvideowithlabel/sad/sa14je.avi\n",
            "/content/drive/MyDrive/SAVEEvideowithlabel/neutral/n23dc.avi\n",
            "/content/drive/MyDrive/SAVEEvideowithlabel/neutral/n16kl.avi\n",
            "/content/drive/MyDrive/SAVEEvideowithlabel/fearful/f13je.avi\n",
            "/content/drive/MyDrive/SAVEEvideowithlabel/neutral/n2je.avi\n",
            "/content/drive/MyDrive/SAVEEvideowithlabel/happy/h9je.avi\n",
            "/content/drive/MyDrive/SAVEEvideowithlabel/angry/a7je.avi\n",
            "/content/drive/MyDrive/SAVEEvideowithlabel/angry/a13dc.avi\n",
            "/content/drive/MyDrive/SAVEEvideowithlabel/fearful/f10je.avi\n",
            "/content/drive/MyDrive/SAVEEvideowithlabel/sad/sa3kl.avi\n",
            "/content/drive/MyDrive/SAVEEvideowithlabel/neutral/n3dc.avi\n",
            "/content/drive/MyDrive/SAVEEvideowithlabel/neutral/n23je.avi\n",
            "/content/drive/MyDrive/SAVEEvideowithlabel/angry/a12kl.avi\n",
            "/content/drive/MyDrive/SAVEEvideowithlabel/happy/h7kl.avi\n",
            "/content/drive/MyDrive/SAVEEvideowithlabel/fearful/f9dc.avi\n",
            "/content/drive/MyDrive/SAVEEvideowithlabel/sad/sa13jk.avi\n",
            "/content/drive/MyDrive/SAVEEvideowithlabel/neutral/n3je.avi\n",
            "/content/drive/MyDrive/SAVEEvideowithlabel/sad/sa14jk.avi\n",
            "/content/drive/MyDrive/SAVEEvideowithlabel/neutral/n6je.avi\n",
            "/content/drive/MyDrive/SAVEEvideowithlabel/neutral/n6jk.avi\n",
            "/content/drive/MyDrive/SAVEEvideowithlabel/fearful/f6je.avi\n",
            "/content/drive/MyDrive/SAVEEvideowithlabel/angry/a11je.avi\n",
            "/content/drive/MyDrive/SAVEEvideowithlabel/sad/sa1jk.avi\n",
            "/content/drive/MyDrive/SAVEEvideowithlabel/happy/h11dc.avi\n",
            "/content/drive/MyDrive/SAVEEvideowithlabel/happy/h7dc.avi\n",
            "/content/drive/MyDrive/SAVEEvideowithlabel/neutral/n29je.avi\n",
            "/content/drive/MyDrive/SAVEEvideowithlabel/angry/a9kl.avi\n",
            "/content/drive/MyDrive/SAVEEvideowithlabel/sad/sa2je.avi\n",
            "/content/drive/MyDrive/SAVEEvideowithlabel/neutral/n11kl.avi\n",
            "/content/drive/MyDrive/SAVEEvideowithlabel/angry/a12je.avi\n",
            "/content/drive/MyDrive/SAVEEvideowithlabel/neutral/n15je.avi\n",
            "/content/drive/MyDrive/SAVEEvideowithlabel/fearful/f2je.avi\n",
            "/content/drive/MyDrive/SAVEEvideowithlabel/happy/h2dc.avi\n",
            "/content/drive/MyDrive/SAVEEvideowithlabel/happy/h12dc.avi\n",
            "/content/drive/MyDrive/SAVEEvideowithlabel/neutral/n15jk.avi\n",
            "/content/drive/MyDrive/SAVEEvideowithlabel/fearful/f11dc.avi\n",
            "/content/drive/MyDrive/SAVEEvideowithlabel/neutral/n7je.avi\n",
            "/content/drive/MyDrive/SAVEEvideowithlabel/fearful/f1je.avi\n",
            "/content/drive/MyDrive/SAVEEvideowithlabel/fearful/f3dc.avi\n",
            "/content/drive/MyDrive/SAVEEvideowithlabel/sad/sa6dc.avi\n",
            "/content/drive/MyDrive/SAVEEvideowithlabel/fearful/f1jk.avi\n",
            "/content/drive/MyDrive/SAVEEvideowithlabel/sad/sa4jk.avi\n",
            "/content/drive/MyDrive/SAVEEvideowithlabel/neutral/n18dc.avi\n",
            "/content/drive/MyDrive/SAVEEvideowithlabel/neutral/n19je.avi\n",
            "/content/drive/MyDrive/SAVEEvideowithlabel/neutral/n2dc.avi\n",
            "/content/drive/MyDrive/SAVEEvideowithlabel/angry/a4dc.avi\n",
            "/content/drive/MyDrive/SAVEEvideowithlabel/neutral/n27kl.avi\n",
            "/content/drive/MyDrive/SAVEEvideowithlabel/sad/sa15kl.avi\n",
            "/content/drive/MyDrive/SAVEEvideowithlabel/sad/sa7kl.avi\n",
            "/content/drive/MyDrive/SAVEEvideowithlabel/sad/sa1je.avi\n",
            "/content/drive/MyDrive/SAVEEvideowithlabel/angry/a5jk.avi\n",
            "/content/drive/MyDrive/SAVEEvideowithlabel/neutral/n8kl.avi\n",
            "/content/drive/MyDrive/SAVEEvideowithlabel/angry/a9dc.avi\n",
            "/content/drive/MyDrive/SAVEEvideowithlabel/neutral/n19kl.avi\n",
            "/content/drive/MyDrive/SAVEEvideowithlabel/angry/a10kl.avi\n",
            "/content/drive/MyDrive/SAVEEvideowithlabel/fearful/f14dc.avi\n",
            "/content/drive/MyDrive/SAVEEvideowithlabel/happy/h11kl.avi\n",
            "/content/drive/MyDrive/SAVEEvideowithlabel/sad/sa4dc.avi\n",
            "/content/drive/MyDrive/SAVEEvideowithlabel/angry/a5je.avi\n",
            "/content/drive/MyDrive/SAVEEvideowithlabel/happy/h10jk.avi\n",
            "/content/drive/MyDrive/SAVEEvideowithlabel/happy/h5jk.avi\n",
            "/content/drive/MyDrive/SAVEEvideowithlabel/neutral/n14jk.avi\n",
            "/content/drive/MyDrive/SAVEEvideowithlabel/fearful/f11kl.avi\n",
            "/content/drive/MyDrive/SAVEEvideowithlabel/angry/a10dc.avi\n",
            "/content/drive/MyDrive/SAVEEvideowithlabel/neutral/n18jk.avi\n",
            "/content/drive/MyDrive/SAVEEvideowithlabel/neutral/n21kl.avi\n",
            "/content/drive/MyDrive/SAVEEvideowithlabel/happy/h4jk.avi\n",
            "/content/drive/MyDrive/SAVEEvideowithlabel/angry/a2jk.avi\n",
            "/content/drive/MyDrive/SAVEEvideowithlabel/fearful/f8jk.avi\n",
            "/content/drive/MyDrive/SAVEEvideowithlabel/sad/sa8kl.avi\n",
            "/content/drive/MyDrive/SAVEEvideowithlabel/sad/sa5kl.avi\n",
            "/content/drive/MyDrive/SAVEEvideowithlabel/sad/sa8je.avi\n",
            "/content/drive/MyDrive/SAVEEvideowithlabel/fearful/f9kl.avi\n",
            "/content/drive/MyDrive/SAVEEvideowithlabel/sad/sa3je.avi\n",
            "/content/drive/MyDrive/SAVEEvideowithlabel/neutral/n29dc.avi\n",
            "/content/drive/MyDrive/SAVEEvideowithlabel/neutral/n24je.avi\n",
            "/content/drive/MyDrive/SAVEEvideowithlabel/happy/h4je.avi\n",
            "/content/drive/MyDrive/SAVEEvideowithlabel/neutral/n9dc.avi\n",
            "/content/drive/MyDrive/SAVEEvideowithlabel/sad/sa9je.avi\n",
            "/content/drive/MyDrive/SAVEEvideowithlabel/neutral/n20dc.avi\n",
            "/content/drive/MyDrive/SAVEEvideowithlabel/neutral/n21je.avi\n",
            "/content/drive/MyDrive/SAVEEvideowithlabel/neutral/n25kl.avi\n",
            "/content/drive/MyDrive/SAVEEvideowithlabel/neutral/n27dc.avi\n",
            "/content/drive/MyDrive/SAVEEvideowithlabel/fearful/f4je.avi\n",
            "/content/drive/MyDrive/SAVEEvideowithlabel/fearful/f14jk.avi\n",
            "/content/drive/MyDrive/SAVEEvideowithlabel/angry/a2kl.avi\n",
            "/content/drive/MyDrive/SAVEEvideowithlabel/neutral/n16je.avi\n",
            "/content/drive/MyDrive/SAVEEvideowithlabel/angry/a8kl.avi\n",
            "/content/drive/MyDrive/SAVEEvideowithlabel/happy/h14dc.avi\n",
            "/content/drive/MyDrive/SAVEEvideowithlabel/sad/sa5dc.avi\n",
            "/content/drive/MyDrive/SAVEEvideowithlabel/sad/sa7je.avi\n",
            "/content/drive/MyDrive/SAVEEvideowithlabel/sad/sa12je.avi\n",
            "/content/drive/MyDrive/SAVEEvideowithlabel/angry/a10jk.avi\n",
            "/content/drive/MyDrive/SAVEEvideowithlabel/sad/sa1kl.avi\n",
            "/content/drive/MyDrive/SAVEEvideowithlabel/neutral/n14dc.avi\n",
            "/content/drive/MyDrive/SAVEEvideowithlabel/neutral/n8jk.avi\n",
            "/content/drive/MyDrive/SAVEEvideowithlabel/neutral/n15kl.avi\n",
            "/content/drive/MyDrive/SAVEEvideowithlabel/happy/h6dc.avi\n",
            "/content/drive/MyDrive/SAVEEvideowithlabel/sad/sa7jk.avi\n",
            "/content/drive/MyDrive/SAVEEvideowithlabel/neutral/n26dc.avi\n",
            "/content/drive/MyDrive/SAVEEvideowithlabel/neutral/n28kl.avi\n",
            "/content/drive/MyDrive/SAVEEvideowithlabel/fearful/f7je.avi\n",
            "/content/drive/MyDrive/SAVEEvideowithlabel/fearful/f12jk.avi\n",
            "/content/drive/MyDrive/SAVEEvideowithlabel/angry/a6kl.avi\n",
            "/content/drive/MyDrive/SAVEEvideowithlabel/neutral/n4kl.avi\n",
            "/content/drive/MyDrive/SAVEEvideowithlabel/fearful/f7jk.avi\n",
            "/content/drive/MyDrive/SAVEEvideowithlabel/neutral/n10dc.avi\n",
            "/content/drive/MyDrive/SAVEEvideowithlabel/neutral/n10kl.avi\n",
            "/content/drive/MyDrive/SAVEEvideowithlabel/neutral/n13kl.avi\n",
            "/content/drive/MyDrive/SAVEEvideowithlabel/sad/sa9kl.avi\n",
            "/content/drive/MyDrive/SAVEEvideowithlabel/neutral/n14je.avi\n",
            "/content/drive/MyDrive/SAVEEvideowithlabel/neutral/n11je.avi\n",
            "/content/drive/MyDrive/SAVEEvideowithlabel/angry/a14jk.avi\n",
            "/content/drive/MyDrive/SAVEEvideowithlabel/fearful/f6jk.avi\n",
            "/content/drive/MyDrive/SAVEEvideowithlabel/neutral/n26je.avi\n",
            "/content/drive/MyDrive/SAVEEvideowithlabel/happy/h11jk.avi\n",
            "/content/drive/MyDrive/SAVEEvideowithlabel/fearful/f4dc.avi\n",
            "/content/drive/MyDrive/SAVEEvideowithlabel/fearful/f13jk.avi\n",
            "/content/drive/MyDrive/SAVEEvideowithlabel/neutral/n4jk.avi\n",
            "/content/drive/MyDrive/SAVEEvideowithlabel/angry/a15je.avi\n",
            "/content/drive/MyDrive/SAVEEvideowithlabel/angry/a8jk.avi\n",
            "/content/drive/MyDrive/SAVEEvideowithlabel/neutral/n17je.avi\n",
            "/content/drive/MyDrive/SAVEEvideowithlabel/sad/sa11je.avi\n",
            "/content/drive/MyDrive/SAVEEvideowithlabel/neutral/n23jk.avi\n",
            "/content/drive/MyDrive/SAVEEvideowithlabel/happy/h1je.avi\n",
            "/content/drive/MyDrive/SAVEEvideowithlabel/sad/sa14kl.avi\n",
            "/content/drive/MyDrive/SAVEEvideowithlabel/neutral/n22kl.avi\n",
            "/content/drive/MyDrive/SAVEEvideowithlabel/happy/h1kl.avi\n",
            "/content/drive/MyDrive/SAVEEvideowithlabel/happy/h9dc.avi\n",
            "/content/drive/MyDrive/SAVEEvideowithlabel/neutral/n1kl.avi\n",
            "/content/drive/MyDrive/SAVEEvideowithlabel/neutral/n11jk.avi\n",
            "/content/drive/MyDrive/SAVEEvideowithlabel/neutral/n5jk.avi\n",
            "/content/drive/MyDrive/SAVEEvideowithlabel/sad/sa5je.avi\n",
            "/content/drive/MyDrive/SAVEEvideowithlabel/angry/a6jk.avi\n",
            "/content/drive/MyDrive/SAVEEvideowithlabel/happy/h3je.avi\n",
            "/content/drive/MyDrive/SAVEEvideowithlabel/happy/h13kl.avi\n",
            "/content/drive/MyDrive/SAVEEvideowithlabel/fearful/f1dc.avi\n",
            "/content/drive/MyDrive/SAVEEvideowithlabel/angry/a15kl.avi\n",
            "/content/drive/MyDrive/SAVEEvideowithlabel/angry/a4je.avi\n",
            "/content/drive/MyDrive/SAVEEvideowithlabel/happy/h3kl.avi\n",
            "/content/drive/MyDrive/SAVEEvideowithlabel/neutral/n10jk.avi\n",
            "/content/drive/MyDrive/SAVEEvideowithlabel/angry/a10je.avi\n",
            "/content/drive/MyDrive/SAVEEvideowithlabel/neutral/n20je.avi\n",
            "/content/drive/MyDrive/SAVEEvideowithlabel/neutral/n7jk.avi\n",
            "/content/drive/MyDrive/SAVEEvideowithlabel/happy/h15jk.avi\n",
            "/content/drive/MyDrive/SAVEEvideowithlabel/angry/a9jk.avi\n",
            "/content/drive/MyDrive/SAVEEvideowithlabel/neutral/n12jk.avi\n",
            "/content/drive/MyDrive/SAVEEvideowithlabel/happy/h11je.avi\n",
            "/content/drive/MyDrive/SAVEEvideowithlabel/angry/a3dc.avi\n",
            "/content/drive/MyDrive/SAVEEvideowithlabel/angry/a13kl.avi\n",
            "/content/drive/MyDrive/SAVEEvideowithlabel/sad/sa11dc.avi\n",
            "/content/drive/MyDrive/SAVEEvideowithlabel/happy/h4kl.avi\n",
            "/content/drive/MyDrive/SAVEEvideowithlabel/sad/sa10kl.avi\n",
            "/content/drive/MyDrive/SAVEEvideowithlabel/happy/h6je.avi\n",
            "/content/drive/MyDrive/SAVEEvideowithlabel/angry/a14dc.avi\n",
            "/content/drive/MyDrive/SAVEEvideowithlabel/angry/a3je.avi\n",
            "/content/drive/MyDrive/SAVEEvideowithlabel/fearful/f3kl.avi\n",
            "/content/drive/MyDrive/SAVEEvideowithlabel/neutral/n27jk.avi\n",
            "/content/drive/MyDrive/SAVEEvideowithlabel/fearful/f6kl.avi\n",
            "/content/drive/MyDrive/SAVEEvideowithlabel/neutral/n28je.avi\n",
            "/content/drive/MyDrive/SAVEEvideowithlabel/fearful/f9jk.avi\n",
            "/content/drive/MyDrive/SAVEEvideowithlabel/angry/a1kl.avi\n",
            "/content/drive/MyDrive/SAVEEvideowithlabel/angry/a11jk.avi\n",
            "/content/drive/MyDrive/SAVEEvideowithlabel/happy/h12je.avi\n",
            "/content/drive/MyDrive/SAVEEvideowithlabel/happy/h10je.avi\n",
            "/content/drive/MyDrive/SAVEEvideowithlabel/sad/sa10jk.avi\n",
            "/content/drive/MyDrive/SAVEEvideowithlabel/neutral/n22je.avi\n",
            "/content/drive/MyDrive/SAVEEvideowithlabel/fearful/f11je.avi\n",
            "/content/drive/MyDrive/SAVEEvideowithlabel/fearful/f5kl.avi\n",
            "/content/drive/MyDrive/SAVEEvideowithlabel/neutral/n5je.avi\n",
            "/content/drive/MyDrive/SAVEEvideowithlabel/angry/a14je.avi\n",
            "/content/drive/MyDrive/SAVEEvideowithlabel/sad/sa2kl.avi\n",
            "/content/drive/MyDrive/SAVEEvideowithlabel/neutral/n5kl.avi\n",
            "/content/drive/MyDrive/SAVEEvideowithlabel/fearful/f1kl.avi\n",
            "/content/drive/MyDrive/SAVEEvideowithlabel/angry/a13je.avi\n",
            "/content/drive/MyDrive/SAVEEvideowithlabel/happy/h8dc.avi\n",
            "/content/drive/MyDrive/SAVEEvideowithlabel/neutral/n8je.avi\n",
            "/content/drive/MyDrive/SAVEEvideowithlabel/fearful/f3je.avi\n",
            "/content/drive/MyDrive/SAVEEvideowithlabel/sad/sa13dc.avi\n",
            "/content/drive/MyDrive/SAVEEvideowithlabel/fearful/f12je.avi\n",
            "/content/drive/MyDrive/SAVEEvideowithlabel/sad/sa13kl.avi\n",
            "/content/drive/MyDrive/SAVEEvideowithlabel/neutral/n18je.avi\n",
            "/content/drive/MyDrive/SAVEEvideowithlabel/sad/sa12dc.avi\n",
            "/content/drive/MyDrive/SAVEEvideowithlabel/fearful/f14je.avi\n",
            "/content/drive/MyDrive/SAVEEvideowithlabel/neutral/n5dc.avi\n",
            "/content/drive/MyDrive/SAVEEvideowithlabel/neutral/n6dc.avi\n",
            "/content/drive/MyDrive/SAVEEvideowithlabel/neutral/n30dc.avi\n",
            "/content/drive/MyDrive/SAVEEvideowithlabel/neutral/n4je.avi\n",
            "/content/drive/MyDrive/SAVEEvideowithlabel/angry/a2je.avi\n",
            "/content/drive/MyDrive/SAVEEvideowithlabel/fearful/f8kl.avi\n",
            "/content/drive/MyDrive/SAVEEvideowithlabel/sad/sa6je.avi\n",
            "/content/drive/MyDrive/SAVEEvideowithlabel/angry/a14kl.avi\n",
            "/content/drive/MyDrive/SAVEEvideowithlabel/sad/sa15dc.avi\n",
            "/content/drive/MyDrive/SAVEEvideowithlabel/neutral/n30jk.avi\n",
            "/content/drive/MyDrive/SAVEEvideowithlabel/angry/a12jk.avi\n",
            "/content/drive/MyDrive/SAVEEvideowithlabel/fearful/f5jk.avi\n",
            "/content/drive/MyDrive/SAVEEvideowithlabel/neutral/n11dc.avi\n",
            "/content/drive/MyDrive/SAVEEvideowithlabel/neutral/n9kl.avi\n",
            "/content/drive/MyDrive/SAVEEvideowithlabel/happy/h3dc.avi\n",
            "/content/drive/MyDrive/SAVEEvideowithlabel/sad/sa2jk.avi\n",
            "/content/drive/MyDrive/SAVEEvideowithlabel/neutral/n20jk.avi\n",
            "/content/drive/MyDrive/SAVEEvideowithlabel/happy/h13jk.avi\n",
            "/content/drive/MyDrive/SAVEEvideowithlabel/neutral/n23kl.avi\n",
            "/content/drive/MyDrive/SAVEEvideowithlabel/neutral/n24jk.avi\n",
            "/content/drive/MyDrive/SAVEEvideowithlabel/sad/sa6kl.avi\n",
            "/content/drive/MyDrive/SAVEEvideowithlabel/sad/sa9dc.avi\n",
            "/content/drive/MyDrive/SAVEEvideowithlabel/angry/a3jk.avi\n",
            "/content/drive/MyDrive/SAVEEvideowithlabel/neutral/n30kl.avi\n",
            "/content/drive/MyDrive/SAVEEvideowithlabel/neutral/n19jk.avi\n",
            "/content/drive/MyDrive/SAVEEvideowithlabel/neutral/n8dc.avi\n",
            "/content/drive/MyDrive/SAVEEvideowithlabel/fearful/f8je.avi\n",
            "/content/drive/MyDrive/SAVEEvideowithlabel/sad/sa4je.avi\n",
            "/content/drive/MyDrive/SAVEEvideowithlabel/neutral/n9je.avi\n",
            "/content/drive/MyDrive/SAVEEvideowithlabel/sad/sa15jk.avi\n",
            "/content/drive/MyDrive/SAVEEvideowithlabel/neutral/n4dc.avi\n",
            "/content/drive/MyDrive/SAVEEvideowithlabel/neutral/n12je.avi\n",
            "/content/drive/MyDrive/SAVEEvideowithlabel/neutral/n1jk.avi\n",
            "/content/drive/MyDrive/SAVEEvideowithlabel/happy/h1jk.avi\n",
            "/content/drive/MyDrive/SAVEEvideowithlabel/neutral/n29kl.avi\n",
            "/content/drive/MyDrive/SAVEEvideowithlabel/neutral/n29jk.avi\n",
            "/content/drive/MyDrive/SAVEEvideowithlabel/fearful/f11jk.avi\n",
            "/content/drive/MyDrive/SAVEEvideowithlabel/sad/sa4kl.avi\n",
            "/content/drive/MyDrive/SAVEEvideowithlabel/sad/sa1dc.avi\n",
            "/content/drive/MyDrive/SAVEEvideowithlabel/angry/a8je.avi\n",
            "/content/drive/MyDrive/SAVEEvideowithlabel/happy/h12jk.avi\n",
            "/content/drive/MyDrive/SAVEEvideowithlabel/fearful/f15jk.avi\n",
            "/content/drive/MyDrive/SAVEEvideowithlabel/neutral/n13je.avi\n",
            "/content/drive/MyDrive/SAVEEvideowithlabel/fearful/f15je.avi\n",
            "/content/drive/MyDrive/SAVEEvideowithlabel/angry/a4kl.avi\n",
            "/content/drive/MyDrive/SAVEEvideowithlabel/angry/a11dc.avi\n",
            "/content/drive/MyDrive/SAVEEvideowithlabel/neutral/n18kl.avi\n",
            "/content/drive/MyDrive/SAVEEvideowithlabel/neutral/n10je.avi\n",
            "/content/drive/MyDrive/SAVEEvideowithlabel/fearful/f2jk.avi\n",
            "/content/drive/MyDrive/SAVEEvideowithlabel/fearful/f2dc.avi\n",
            "/content/drive/MyDrive/SAVEEvideowithlabel/fearful/f7dc.avi\n",
            "/content/drive/MyDrive/SAVEEvideowithlabel/neutral/n3jk.avi\n",
            "/content/drive/MyDrive/SAVEEvideowithlabel/sad/sa8dc.avi\n",
            "/content/drive/MyDrive/SAVEEvideowithlabel/sad/sa13je.avi\n",
            "/content/drive/MyDrive/SAVEEvideowithlabel/neutral/n25dc.avi\n",
            "/content/drive/MyDrive/SAVEEvideowithlabel/happy/h6jk.avi\n",
            "/content/drive/MyDrive/SAVEEvideowithlabel/happy/h9jk.avi\n",
            "/content/drive/MyDrive/SAVEEvideowithlabel/fearful/f6dc.avi\n",
            "/content/drive/MyDrive/SAVEEvideowithlabel/happy/h15kl.avi\n",
            "/content/drive/MyDrive/SAVEEvideowithlabel/neutral/n1je.avi\n",
            "/content/drive/MyDrive/SAVEEvideowithlabel/angry/a2dc.avi\n",
            "/content/drive/MyDrive/SAVEEvideowithlabel/neutral/n14kl.avi\n",
            "/content/drive/MyDrive/SAVEEvideowithlabel/angry/a3kl.avi\n",
            "/content/drive/MyDrive/SAVEEvideowithlabel/happy/h15dc.avi\n",
            "/content/drive/MyDrive/SAVEEvideowithlabel/fearful/f15dc.avi\n",
            "/content/drive/MyDrive/SAVEEvideowithlabel/neutral/n7kl.avi\n",
            "/content/drive/MyDrive/SAVEEvideowithlabel/neutral/n1dc.avi\n",
            "/content/drive/MyDrive/SAVEEvideowithlabel/angry/a7jk.avi\n",
            "/content/drive/MyDrive/SAVEEvideowithlabel/neutral/n26kl.avi\n",
            "/content/drive/MyDrive/SAVEEvideowithlabel/sad/sa3dc.avi\n",
            "/content/drive/MyDrive/SAVEEvideowithlabel/neutral/n16jk.avi\n",
            "/content/drive/MyDrive/SAVEEvideowithlabel/sad/sa5jk.avi\n",
            "/content/drive/MyDrive/SAVEEvideowithlabel/fearful/f8dc.avi\n",
            "/content/drive/MyDrive/SAVEEvideowithlabel/fearful/f4kl.avi\n",
            "/content/drive/MyDrive/SAVEEvideowithlabel/angry/a5dc.avi\n",
            "/content/drive/MyDrive/SAVEEvideowithlabel/neutral/n22dc.avi\n",
            "/content/drive/MyDrive/SAVEEvideowithlabel/angry/a7kl.avi\n",
            "/content/drive/MyDrive/SAVEEvideowithlabel/fearful/f15kl.avi\n",
            "/content/drive/MyDrive/SAVEEvideowithlabel/sad/sa3jk.avi\n",
            "/content/drive/MyDrive/SAVEEvideowithlabel/happy/h5je.avi\n",
            "/content/drive/MyDrive/SAVEEvideowithlabel/happy/h7je.avi\n",
            "/content/drive/MyDrive/SAVEEvideowithlabel/neutral/n9jk.avi\n",
            "/content/drive/MyDrive/SAVEEvideowithlabel/angry/a1jk.avi\n",
            "/content/drive/MyDrive/SAVEEvideowithlabel/happy/h3jk.avi\n"
          ]
        }
      ]
    },
    {
      "cell_type": "code",
      "source": [
        "labels_train = np.array(labels_train)\n",
        "labels_test = np.array(labels_test)\n",
        "labels_valid = np.array(labels_valid)"
      ],
      "metadata": {
        "id": "YSRZYFTZckym"
      },
      "execution_count": 10,
      "outputs": []
    },
    {
      "cell_type": "code",
      "source": [
        "features_train.shape,features_test.shape,features_valid.shape"
      ],
      "metadata": {
        "colab": {
          "base_uri": "https://localhost:8080/"
        },
        "id": "MU9jM0FlE-aH",
        "outputId": "94757fbc-a295-4e22-b740-adcea30c40a1"
      },
      "execution_count": 11,
      "outputs": [
        {
          "output_type": "execute_result",
          "data": {
            "text/plain": [
              "((288, 30, 64, 64, 3), (36, 30, 64, 64, 3), (36, 30, 64, 64, 3))"
            ]
          },
          "metadata": {},
          "execution_count": 11
        }
      ]
    },
    {
      "cell_type": "code",
      "source": [
        "labels_train.shape,labels_test.shape,labels_valid.shape"
      ],
      "metadata": {
        "colab": {
          "base_uri": "https://localhost:8080/"
        },
        "id": "kr5PJu0KdER-",
        "outputId": "3ad043cf-217d-4b07-b8aa-d029e31d3c92"
      },
      "execution_count": 12,
      "outputs": [
        {
          "output_type": "execute_result",
          "data": {
            "text/plain": [
              "((288,), (36,), (36,))"
            ]
          },
          "metadata": {},
          "execution_count": 12
        }
      ]
    },
    {
      "cell_type": "code",
      "source": [
        "labels_train = to_categorical(labels_train)\n",
        "labels_test = to_categorical(labels_test)\n",
        "labels_valid = to_categorical(labels_valid)"
      ],
      "metadata": {
        "id": "t6-P1EP9sDPD"
      },
      "execution_count": 13,
      "outputs": []
    },
    {
      "cell_type": "code",
      "source": [
        "labels_train.shape,labels_test.shape,labels_valid.shape"
      ],
      "metadata": {
        "colab": {
          "base_uri": "https://localhost:8080/"
        },
        "id": "8j-GrkZ2sVjU",
        "outputId": "e182a1a4-f6c7-4a3e-f1aa-b756a108f256"
      },
      "execution_count": 14,
      "outputs": [
        {
          "output_type": "execute_result",
          "data": {
            "text/plain": [
              "((288, 5), (36, 5), (36, 5))"
            ]
          },
          "metadata": {},
          "execution_count": 14
        }
      ]
    },
    {
      "cell_type": "code",
      "source": [
        "def create_LRCN_model():\n",
        "    '''\n",
        "    This function will construct the required LRCN model.\n",
        "    Returns:\n",
        "        model: It is the required constructed LRCN model.\n",
        "    '''\n",
        "\n",
        "    # We will use a Sequential model for model construction.\n",
        "    model = Sequential()\n",
        "   \n",
        "    # Define the Model Architecture.\n",
        "    ########################################################################################################################\n",
        "    \n",
        "    model.add(TimeDistributed(Conv2D(16, (5, 5), padding='same'),\n",
        "                              input_shape = (SEQUENCE_LENGTH, IMAGE_HEIGHT, IMAGE_WIDTH, 3)))\n",
        "    model.add(TimeDistributed(BatchNormalization()))\n",
        "    model.add(TimeDistributed(Activation('relu')))\n",
        "    model.add(TimeDistributed(MaxPooling2D((4, 4)))) \n",
        "    model.add(TimeDistributed(Dropout(0.1)))\n",
        "    \n",
        "    model.add(TimeDistributed(Conv2D(32, (5, 5), padding='same')))\n",
        "    model.add(TimeDistributed(BatchNormalization()))\n",
        "    model.add(TimeDistributed(Activation('relu')))\n",
        "    model.add(TimeDistributed(MaxPooling2D((4, 4))))\n",
        "    model.add(TimeDistributed(Dropout(0.2)))\n",
        "    \n",
        "    model.add(TimeDistributed(Conv2D(64, (5, 5), padding='same')))\n",
        "    model.add(TimeDistributed(BatchNormalization()))\n",
        "    model.add(TimeDistributed(Activation('relu')))\n",
        "    model.add(TimeDistributed(MaxPooling2D((2, 2))))\n",
        "    model.add(TimeDistributed(Dropout(0.3)))\n",
        "    \n",
        "    model.add(TimeDistributed(Conv2D(64, (5, 5), padding='same')))\n",
        "    model.add(TimeDistributed(BatchNormalization()))\n",
        "    model.add(TimeDistributed(Activation('relu')))\n",
        "    model.add(TimeDistributed(MaxPooling2D((2, 2))))\n",
        "    #model.add(TimeDistributed(Dropout(0.25)))\n",
        "                                      \n",
        "    model.add(TimeDistributed(Flatten()))\n",
        "                                      \n",
        "    model.add(LSTM(64))\n",
        "                                      \n",
        "    model.add(Dense(len(CLASSES_LIST), activation = 'softmax'))\n",
        "\n",
        "    ########################################################################################################################\n",
        "\n",
        "    # Display the models summary.\n",
        "    model.summary()\n",
        "    \n",
        "    # Return the constructed LRCN model.\n",
        "    return model\n"
      ],
      "metadata": {
        "id": "4WmDntbuFEzc"
      },
      "execution_count": 15,
      "outputs": []
    },
    {
      "cell_type": "code",
      "source": [
        "# Construct the required LRCN model.\n",
        "LRCN_model = create_LRCN_model()\n",
        "\n",
        "# Display the success message.\n",
        "print(\"Model Created Successfully!\")\n"
      ],
      "metadata": {
        "colab": {
          "base_uri": "https://localhost:8080/"
        },
        "id": "2Mjr6pjzFOkd",
        "outputId": "5bd54fe2-4cdd-4dcb-fedd-00a197211c8f"
      },
      "execution_count": 16,
      "outputs": [
        {
          "output_type": "stream",
          "name": "stdout",
          "text": [
            "Model: \"sequential\"\n",
            "_________________________________________________________________\n",
            " Layer (type)                Output Shape              Param #   \n",
            "=================================================================\n",
            " time_distributed (TimeDistr  (None, 30, 64, 64, 16)   1216      \n",
            " ibuted)                                                         \n",
            "                                                                 \n",
            " time_distributed_1 (TimeDis  (None, 30, 64, 64, 16)   64        \n",
            " tributed)                                                       \n",
            "                                                                 \n",
            " time_distributed_2 (TimeDis  (None, 30, 64, 64, 16)   0         \n",
            " tributed)                                                       \n",
            "                                                                 \n",
            " time_distributed_3 (TimeDis  (None, 30, 16, 16, 16)   0         \n",
            " tributed)                                                       \n",
            "                                                                 \n",
            " time_distributed_4 (TimeDis  (None, 30, 16, 16, 16)   0         \n",
            " tributed)                                                       \n",
            "                                                                 \n",
            " time_distributed_5 (TimeDis  (None, 30, 16, 16, 32)   12832     \n",
            " tributed)                                                       \n",
            "                                                                 \n",
            " time_distributed_6 (TimeDis  (None, 30, 16, 16, 32)   128       \n",
            " tributed)                                                       \n",
            "                                                                 \n",
            " time_distributed_7 (TimeDis  (None, 30, 16, 16, 32)   0         \n",
            " tributed)                                                       \n",
            "                                                                 \n",
            " time_distributed_8 (TimeDis  (None, 30, 4, 4, 32)     0         \n",
            " tributed)                                                       \n",
            "                                                                 \n",
            " time_distributed_9 (TimeDis  (None, 30, 4, 4, 32)     0         \n",
            " tributed)                                                       \n",
            "                                                                 \n",
            " time_distributed_10 (TimeDi  (None, 30, 4, 4, 64)     51264     \n",
            " stributed)                                                      \n",
            "                                                                 \n",
            " time_distributed_11 (TimeDi  (None, 30, 4, 4, 64)     256       \n",
            " stributed)                                                      \n",
            "                                                                 \n",
            " time_distributed_12 (TimeDi  (None, 30, 4, 4, 64)     0         \n",
            " stributed)                                                      \n",
            "                                                                 \n",
            " time_distributed_13 (TimeDi  (None, 30, 2, 2, 64)     0         \n",
            " stributed)                                                      \n",
            "                                                                 \n",
            " time_distributed_14 (TimeDi  (None, 30, 2, 2, 64)     0         \n",
            " stributed)                                                      \n",
            "                                                                 \n",
            " time_distributed_15 (TimeDi  (None, 30, 2, 2, 64)     102464    \n",
            " stributed)                                                      \n",
            "                                                                 \n",
            " time_distributed_16 (TimeDi  (None, 30, 2, 2, 64)     256       \n",
            " stributed)                                                      \n",
            "                                                                 \n",
            " time_distributed_17 (TimeDi  (None, 30, 2, 2, 64)     0         \n",
            " stributed)                                                      \n",
            "                                                                 \n",
            " time_distributed_18 (TimeDi  (None, 30, 1, 1, 64)     0         \n",
            " stributed)                                                      \n",
            "                                                                 \n",
            " time_distributed_19 (TimeDi  (None, 30, 64)           0         \n",
            " stributed)                                                      \n",
            "                                                                 \n",
            " lstm (LSTM)                 (None, 64)                33024     \n",
            "                                                                 \n",
            " dense (Dense)               (None, 5)                 325       \n",
            "                                                                 \n",
            "=================================================================\n",
            "Total params: 201,829\n",
            "Trainable params: 201,477\n",
            "Non-trainable params: 352\n",
            "_________________________________________________________________\n",
            "Model Created Successfully!\n"
          ]
        }
      ]
    },
    {
      "cell_type": "code",
      "source": [
        "\n",
        "# Create an Instance of Early Stopping Callback.\n",
        "early_stopping_callback = EarlyStopping(monitor = 'val_loss', patience = 25, mode = 'min', restore_best_weights = True)\n",
        " \n",
        "# Compile the model and specify loss function, optimizer and metrics to the model.\n",
        "LRCN_model.compile(loss = 'categorical_crossentropy', optimizer = 'Adam', metrics = [\"accuracy\"])\n",
        "\n",
        "# Start training the model.\n",
        "LRCN_model_training_history = LRCN_model.fit(x = features_train, y = labels_train, epochs = 100, batch_size = 4 ,\n",
        "                                             shuffle = True, validation_data =(features_valid,labels_valid), callbacks = [early_stopping_callback])"
      ],
      "metadata": {
        "colab": {
          "base_uri": "https://localhost:8080/"
        },
        "id": "dvXcqO0TFRzR",
        "outputId": "3097bc8a-7a4e-48a0-a033-e91b6c07d344"
      },
      "execution_count": 17,
      "outputs": [
        {
          "output_type": "stream",
          "name": "stdout",
          "text": [
            "Epoch 1/100\n",
            "72/72 [==============================] - 6s 25ms/step - loss: 1.6108 - accuracy: 0.3056 - val_loss: 1.5918 - val_accuracy: 0.2778\n",
            "Epoch 2/100\n",
            "72/72 [==============================] - 1s 13ms/step - loss: 1.5798 - accuracy: 0.3125 - val_loss: 1.5731 - val_accuracy: 0.3333\n",
            "Epoch 3/100\n",
            "72/72 [==============================] - 1s 13ms/step - loss: 1.5137 - accuracy: 0.3611 - val_loss: 1.5163 - val_accuracy: 0.4167\n",
            "Epoch 4/100\n",
            "72/72 [==============================] - 1s 13ms/step - loss: 1.4913 - accuracy: 0.3681 - val_loss: 1.7227 - val_accuracy: 0.2778\n",
            "Epoch 5/100\n",
            "72/72 [==============================] - 1s 13ms/step - loss: 1.4026 - accuracy: 0.3542 - val_loss: 1.3512 - val_accuracy: 0.4722\n",
            "Epoch 6/100\n",
            "72/72 [==============================] - 1s 13ms/step - loss: 1.3922 - accuracy: 0.3958 - val_loss: 1.5123 - val_accuracy: 0.4167\n",
            "Epoch 7/100\n",
            "72/72 [==============================] - 1s 13ms/step - loss: 1.2779 - accuracy: 0.4618 - val_loss: 1.1611 - val_accuracy: 0.4444\n",
            "Epoch 8/100\n",
            "72/72 [==============================] - 1s 13ms/step - loss: 1.2642 - accuracy: 0.4410 - val_loss: 2.6345 - val_accuracy: 0.2778\n",
            "Epoch 9/100\n",
            "72/72 [==============================] - 1s 13ms/step - loss: 1.2025 - accuracy: 0.4861 - val_loss: 0.9909 - val_accuracy: 0.5833\n",
            "Epoch 10/100\n",
            "72/72 [==============================] - 1s 13ms/step - loss: 1.1354 - accuracy: 0.5174 - val_loss: 1.3318 - val_accuracy: 0.4444\n",
            "Epoch 11/100\n",
            "72/72 [==============================] - 1s 13ms/step - loss: 1.0990 - accuracy: 0.5104 - val_loss: 1.1726 - val_accuracy: 0.4444\n",
            "Epoch 12/100\n",
            "72/72 [==============================] - 1s 13ms/step - loss: 0.9912 - accuracy: 0.5694 - val_loss: 0.8292 - val_accuracy: 0.5833\n",
            "Epoch 13/100\n",
            "72/72 [==============================] - 1s 13ms/step - loss: 1.0071 - accuracy: 0.5625 - val_loss: 1.0398 - val_accuracy: 0.5278\n",
            "Epoch 14/100\n",
            "72/72 [==============================] - 1s 13ms/step - loss: 1.0355 - accuracy: 0.5451 - val_loss: 1.3551 - val_accuracy: 0.4167\n",
            "Epoch 15/100\n",
            "72/72 [==============================] - 1s 13ms/step - loss: 0.9608 - accuracy: 0.5729 - val_loss: 0.8555 - val_accuracy: 0.5278\n",
            "Epoch 16/100\n",
            "72/72 [==============================] - 1s 13ms/step - loss: 0.9650 - accuracy: 0.5625 - val_loss: 1.1043 - val_accuracy: 0.5833\n",
            "Epoch 17/100\n",
            "72/72 [==============================] - 1s 13ms/step - loss: 0.8033 - accuracy: 0.6285 - val_loss: 1.2419 - val_accuracy: 0.5000\n",
            "Epoch 18/100\n",
            "72/72 [==============================] - 1s 13ms/step - loss: 0.8102 - accuracy: 0.6354 - val_loss: 0.9954 - val_accuracy: 0.6944\n",
            "Epoch 19/100\n",
            "72/72 [==============================] - 1s 13ms/step - loss: 0.7845 - accuracy: 0.6285 - val_loss: 0.9499 - val_accuracy: 0.6389\n",
            "Epoch 20/100\n",
            "72/72 [==============================] - 1s 13ms/step - loss: 0.7829 - accuracy: 0.6944 - val_loss: 0.6499 - val_accuracy: 0.6389\n",
            "Epoch 21/100\n",
            "72/72 [==============================] - 1s 13ms/step - loss: 0.7073 - accuracy: 0.6840 - val_loss: 0.9284 - val_accuracy: 0.7778\n",
            "Epoch 22/100\n",
            "72/72 [==============================] - 1s 13ms/step - loss: 0.6721 - accuracy: 0.7188 - val_loss: 0.8516 - val_accuracy: 0.5833\n",
            "Epoch 23/100\n",
            "72/72 [==============================] - 1s 13ms/step - loss: 0.6787 - accuracy: 0.7118 - val_loss: 0.4164 - val_accuracy: 0.8611\n",
            "Epoch 24/100\n",
            "72/72 [==============================] - 1s 13ms/step - loss: 0.5568 - accuracy: 0.8056 - val_loss: 0.6145 - val_accuracy: 0.7778\n",
            "Epoch 25/100\n",
            "72/72 [==============================] - 1s 13ms/step - loss: 0.4879 - accuracy: 0.8299 - val_loss: 0.3796 - val_accuracy: 0.9722\n",
            "Epoch 26/100\n",
            "72/72 [==============================] - 1s 13ms/step - loss: 0.4304 - accuracy: 0.8368 - val_loss: 0.6395 - val_accuracy: 0.7778\n",
            "Epoch 27/100\n",
            "72/72 [==============================] - 1s 13ms/step - loss: 0.6690 - accuracy: 0.7222 - val_loss: 1.0923 - val_accuracy: 0.5278\n",
            "Epoch 28/100\n",
            "72/72 [==============================] - 1s 13ms/step - loss: 0.4906 - accuracy: 0.8090 - val_loss: 0.4409 - val_accuracy: 0.8611\n",
            "Epoch 29/100\n",
            "72/72 [==============================] - 1s 13ms/step - loss: 0.4019 - accuracy: 0.8438 - val_loss: 0.4894 - val_accuracy: 0.7500\n",
            "Epoch 30/100\n",
            "72/72 [==============================] - 1s 13ms/step - loss: 0.2756 - accuracy: 0.9132 - val_loss: 0.5156 - val_accuracy: 0.8333\n",
            "Epoch 31/100\n",
            "72/72 [==============================] - 1s 13ms/step - loss: 0.3584 - accuracy: 0.8819 - val_loss: 0.9117 - val_accuracy: 0.6389\n",
            "Epoch 32/100\n",
            "72/72 [==============================] - 1s 13ms/step - loss: 0.2918 - accuracy: 0.9132 - val_loss: 0.3335 - val_accuracy: 0.9167\n",
            "Epoch 33/100\n",
            "72/72 [==============================] - 1s 13ms/step - loss: 0.3498 - accuracy: 0.8715 - val_loss: 0.5588 - val_accuracy: 0.7778\n",
            "Epoch 34/100\n",
            "72/72 [==============================] - 1s 13ms/step - loss: 0.2416 - accuracy: 0.9028 - val_loss: 0.4013 - val_accuracy: 0.8333\n",
            "Epoch 35/100\n",
            "72/72 [==============================] - 1s 13ms/step - loss: 0.1959 - accuracy: 0.9306 - val_loss: 0.1213 - val_accuracy: 0.9722\n",
            "Epoch 36/100\n",
            "72/72 [==============================] - 1s 13ms/step - loss: 0.2300 - accuracy: 0.9236 - val_loss: 0.0944 - val_accuracy: 1.0000\n",
            "Epoch 37/100\n",
            "72/72 [==============================] - 1s 13ms/step - loss: 0.2216 - accuracy: 0.9097 - val_loss: 0.1525 - val_accuracy: 0.9722\n",
            "Epoch 38/100\n",
            "72/72 [==============================] - 1s 13ms/step - loss: 0.2403 - accuracy: 0.9271 - val_loss: 0.3754 - val_accuracy: 0.8611\n",
            "Epoch 39/100\n",
            "72/72 [==============================] - 1s 13ms/step - loss: 0.3017 - accuracy: 0.9097 - val_loss: 0.1716 - val_accuracy: 0.9444\n",
            "Epoch 40/100\n",
            "72/72 [==============================] - 1s 13ms/step - loss: 0.1603 - accuracy: 0.9514 - val_loss: 0.5140 - val_accuracy: 0.8056\n",
            "Epoch 41/100\n",
            "72/72 [==============================] - 1s 13ms/step - loss: 0.1894 - accuracy: 0.9549 - val_loss: 0.0427 - val_accuracy: 1.0000\n",
            "Epoch 42/100\n",
            "72/72 [==============================] - 1s 13ms/step - loss: 0.1855 - accuracy: 0.9410 - val_loss: 0.2099 - val_accuracy: 0.9444\n",
            "Epoch 43/100\n",
            "72/72 [==============================] - 1s 13ms/step - loss: 0.0975 - accuracy: 0.9757 - val_loss: 0.0312 - val_accuracy: 1.0000\n",
            "Epoch 44/100\n",
            "72/72 [==============================] - 1s 13ms/step - loss: 0.0816 - accuracy: 0.9653 - val_loss: 0.1291 - val_accuracy: 0.9722\n",
            "Epoch 45/100\n",
            "72/72 [==============================] - 1s 13ms/step - loss: 0.0874 - accuracy: 0.9757 - val_loss: 0.2319 - val_accuracy: 0.9444\n",
            "Epoch 46/100\n",
            "72/72 [==============================] - 1s 13ms/step - loss: 0.1184 - accuracy: 0.9618 - val_loss: 0.0580 - val_accuracy: 1.0000\n",
            "Epoch 47/100\n",
            "72/72 [==============================] - 1s 13ms/step - loss: 0.2682 - accuracy: 0.9306 - val_loss: 1.2515 - val_accuracy: 0.5556\n",
            "Epoch 48/100\n",
            "72/72 [==============================] - 1s 13ms/step - loss: 0.1941 - accuracy: 0.9306 - val_loss: 0.1773 - val_accuracy: 0.9444\n",
            "Epoch 49/100\n",
            "72/72 [==============================] - 1s 13ms/step - loss: 0.1281 - accuracy: 0.9549 - val_loss: 0.0482 - val_accuracy: 1.0000\n",
            "Epoch 50/100\n",
            "72/72 [==============================] - 1s 13ms/step - loss: 0.1617 - accuracy: 0.9410 - val_loss: 0.2019 - val_accuracy: 0.8889\n",
            "Epoch 51/100\n",
            "72/72 [==============================] - 1s 13ms/step - loss: 0.0560 - accuracy: 0.9896 - val_loss: 0.1434 - val_accuracy: 0.9722\n",
            "Epoch 52/100\n",
            "72/72 [==============================] - 1s 13ms/step - loss: 0.0256 - accuracy: 0.9965 - val_loss: 0.2795 - val_accuracy: 0.9444\n",
            "Epoch 53/100\n",
            "72/72 [==============================] - 1s 13ms/step - loss: 0.0542 - accuracy: 0.9792 - val_loss: 0.2395 - val_accuracy: 0.9444\n",
            "Epoch 54/100\n",
            "72/72 [==============================] - 1s 13ms/step - loss: 0.1758 - accuracy: 0.9444 - val_loss: 0.1104 - val_accuracy: 0.9722\n",
            "Epoch 55/100\n",
            "72/72 [==============================] - 1s 13ms/step - loss: 0.1269 - accuracy: 0.9653 - val_loss: 0.1997 - val_accuracy: 0.9444\n",
            "Epoch 56/100\n",
            "72/72 [==============================] - 1s 13ms/step - loss: 0.0784 - accuracy: 0.9757 - val_loss: 0.0341 - val_accuracy: 1.0000\n",
            "Epoch 57/100\n",
            "72/72 [==============================] - 1s 13ms/step - loss: 0.0637 - accuracy: 0.9722 - val_loss: 0.0271 - val_accuracy: 1.0000\n",
            "Epoch 58/100\n",
            "72/72 [==============================] - 1s 13ms/step - loss: 0.0608 - accuracy: 0.9792 - val_loss: 0.0266 - val_accuracy: 1.0000\n",
            "Epoch 59/100\n",
            "72/72 [==============================] - 1s 14ms/step - loss: 0.0269 - accuracy: 0.9931 - val_loss: 0.1643 - val_accuracy: 0.9722\n",
            "Epoch 60/100\n",
            "72/72 [==============================] - 1s 14ms/step - loss: 0.0348 - accuracy: 0.9896 - val_loss: 0.0227 - val_accuracy: 1.0000\n",
            "Epoch 61/100\n",
            "72/72 [==============================] - 1s 14ms/step - loss: 0.0598 - accuracy: 0.9792 - val_loss: 0.3317 - val_accuracy: 0.9167\n",
            "Epoch 62/100\n",
            "72/72 [==============================] - 1s 13ms/step - loss: 0.0730 - accuracy: 0.9722 - val_loss: 0.1273 - val_accuracy: 0.9167\n",
            "Epoch 63/100\n",
            "72/72 [==============================] - 1s 13ms/step - loss: 0.0346 - accuracy: 0.9861 - val_loss: 0.0175 - val_accuracy: 1.0000\n",
            "Epoch 64/100\n",
            "72/72 [==============================] - 1s 13ms/step - loss: 0.0376 - accuracy: 0.9896 - val_loss: 0.1246 - val_accuracy: 0.9444\n",
            "Epoch 65/100\n",
            "72/72 [==============================] - 1s 13ms/step - loss: 0.0873 - accuracy: 0.9757 - val_loss: 0.7005 - val_accuracy: 0.8611\n",
            "Epoch 66/100\n",
            "72/72 [==============================] - 1s 13ms/step - loss: 0.0878 - accuracy: 0.9792 - val_loss: 0.2636 - val_accuracy: 0.9444\n",
            "Epoch 67/100\n",
            "72/72 [==============================] - 1s 13ms/step - loss: 0.0251 - accuracy: 0.9931 - val_loss: 0.1915 - val_accuracy: 0.9722\n",
            "Epoch 68/100\n",
            "72/72 [==============================] - 1s 13ms/step - loss: 0.1455 - accuracy: 0.9514 - val_loss: 0.2397 - val_accuracy: 0.9444\n",
            "Epoch 69/100\n",
            "72/72 [==============================] - 1s 13ms/step - loss: 0.1585 - accuracy: 0.9479 - val_loss: 0.1024 - val_accuracy: 0.9722\n",
            "Epoch 70/100\n",
            "72/72 [==============================] - 1s 13ms/step - loss: 0.0175 - accuracy: 1.0000 - val_loss: 0.0399 - val_accuracy: 0.9722\n",
            "Epoch 71/100\n",
            "72/72 [==============================] - 1s 13ms/step - loss: 0.0166 - accuracy: 0.9965 - val_loss: 0.1375 - val_accuracy: 0.9722\n",
            "Epoch 72/100\n",
            "72/72 [==============================] - 1s 13ms/step - loss: 0.0447 - accuracy: 0.9861 - val_loss: 0.0092 - val_accuracy: 1.0000\n",
            "Epoch 73/100\n",
            "72/72 [==============================] - 1s 13ms/step - loss: 0.0749 - accuracy: 0.9826 - val_loss: 0.0548 - val_accuracy: 0.9722\n",
            "Epoch 74/100\n",
            "72/72 [==============================] - 1s 13ms/step - loss: 0.0114 - accuracy: 1.0000 - val_loss: 0.0121 - val_accuracy: 1.0000\n",
            "Epoch 75/100\n",
            "72/72 [==============================] - 1s 13ms/step - loss: 0.0084 - accuracy: 1.0000 - val_loss: 0.0053 - val_accuracy: 1.0000\n",
            "Epoch 76/100\n",
            "72/72 [==============================] - 1s 13ms/step - loss: 0.0468 - accuracy: 0.9861 - val_loss: 0.4804 - val_accuracy: 0.8889\n",
            "Epoch 77/100\n",
            "72/72 [==============================] - 1s 13ms/step - loss: 0.0831 - accuracy: 0.9792 - val_loss: 0.0790 - val_accuracy: 0.9722\n",
            "Epoch 78/100\n",
            "72/72 [==============================] - 1s 13ms/step - loss: 0.0108 - accuracy: 1.0000 - val_loss: 0.1932 - val_accuracy: 0.9722\n",
            "Epoch 79/100\n",
            "72/72 [==============================] - 1s 13ms/step - loss: 0.0138 - accuracy: 0.9931 - val_loss: 0.1882 - val_accuracy: 0.9722\n",
            "Epoch 80/100\n",
            "72/72 [==============================] - 1s 13ms/step - loss: 0.2218 - accuracy: 0.9306 - val_loss: 1.4447 - val_accuracy: 0.6667\n",
            "Epoch 81/100\n",
            "72/72 [==============================] - 1s 13ms/step - loss: 0.2044 - accuracy: 0.9306 - val_loss: 0.4694 - val_accuracy: 0.8611\n",
            "Epoch 82/100\n",
            "72/72 [==============================] - 1s 13ms/step - loss: 0.0842 - accuracy: 0.9757 - val_loss: 0.1526 - val_accuracy: 0.9722\n",
            "Epoch 83/100\n",
            "72/72 [==============================] - 1s 13ms/step - loss: 0.0743 - accuracy: 0.9722 - val_loss: 0.0385 - val_accuracy: 1.0000\n",
            "Epoch 84/100\n",
            "72/72 [==============================] - 1s 13ms/step - loss: 0.0505 - accuracy: 0.9931 - val_loss: 0.0722 - val_accuracy: 0.9722\n",
            "Epoch 85/100\n",
            "72/72 [==============================] - 1s 13ms/step - loss: 0.0625 - accuracy: 0.9826 - val_loss: 0.0183 - val_accuracy: 1.0000\n",
            "Epoch 86/100\n",
            "72/72 [==============================] - 1s 13ms/step - loss: 0.0110 - accuracy: 1.0000 - val_loss: 0.0061 - val_accuracy: 1.0000\n",
            "Epoch 87/100\n",
            "72/72 [==============================] - 1s 13ms/step - loss: 0.0635 - accuracy: 0.9826 - val_loss: 0.7985 - val_accuracy: 0.8333\n",
            "Epoch 88/100\n",
            "72/72 [==============================] - 1s 13ms/step - loss: 0.1199 - accuracy: 0.9618 - val_loss: 0.0351 - val_accuracy: 0.9722\n",
            "Epoch 89/100\n",
            "72/72 [==============================] - 1s 13ms/step - loss: 0.0223 - accuracy: 0.9965 - val_loss: 0.2176 - val_accuracy: 0.9444\n",
            "Epoch 90/100\n",
            "72/72 [==============================] - 1s 13ms/step - loss: 0.0296 - accuracy: 0.9896 - val_loss: 0.0198 - val_accuracy: 1.0000\n",
            "Epoch 91/100\n",
            "72/72 [==============================] - 1s 13ms/step - loss: 0.0137 - accuracy: 0.9965 - val_loss: 0.0071 - val_accuracy: 1.0000\n",
            "Epoch 92/100\n",
            "72/72 [==============================] - 1s 13ms/step - loss: 0.0069 - accuracy: 1.0000 - val_loss: 0.0090 - val_accuracy: 1.0000\n",
            "Epoch 93/100\n",
            "72/72 [==============================] - 1s 13ms/step - loss: 0.0045 - accuracy: 1.0000 - val_loss: 0.0196 - val_accuracy: 1.0000\n",
            "Epoch 94/100\n",
            "72/72 [==============================] - 1s 13ms/step - loss: 0.0042 - accuracy: 1.0000 - val_loss: 0.0220 - val_accuracy: 1.0000\n",
            "Epoch 95/100\n",
            "72/72 [==============================] - 1s 13ms/step - loss: 0.0037 - accuracy: 1.0000 - val_loss: 0.0560 - val_accuracy: 0.9722\n",
            "Epoch 96/100\n",
            "72/72 [==============================] - 1s 13ms/step - loss: 0.0031 - accuracy: 1.0000 - val_loss: 0.0318 - val_accuracy: 0.9722\n",
            "Epoch 97/100\n",
            "72/72 [==============================] - 1s 13ms/step - loss: 0.0030 - accuracy: 1.0000 - val_loss: 0.0838 - val_accuracy: 0.9722\n",
            "Epoch 98/100\n",
            "72/72 [==============================] - 1s 13ms/step - loss: 0.0025 - accuracy: 1.0000 - val_loss: 0.0328 - val_accuracy: 0.9722\n",
            "Epoch 99/100\n",
            "72/72 [==============================] - 1s 13ms/step - loss: 0.0028 - accuracy: 1.0000 - val_loss: 0.0400 - val_accuracy: 0.9722\n",
            "Epoch 100/100\n",
            "72/72 [==============================] - 1s 13ms/step - loss: 0.0020 - accuracy: 1.0000 - val_loss: 0.0260 - val_accuracy: 0.9722\n"
          ]
        }
      ]
    },
    {
      "cell_type": "code",
      "source": [
        "# Evaluate the trained model.\n",
        "model_evaluation_history = LRCN_model.evaluate(features_test, labels_test)"
      ],
      "metadata": {
        "colab": {
          "base_uri": "https://localhost:8080/"
        },
        "id": "2UP4-H_oF4TZ",
        "outputId": "9975889e-7ce5-49dd-e62a-51a75560081f"
      },
      "execution_count": 18,
      "outputs": [
        {
          "output_type": "stream",
          "name": "stdout",
          "text": [
            "2/2 [==============================] - 1s 11ms/step - loss: 0.2436 - accuracy: 0.9444\n"
          ]
        }
      ]
    },
    {
      "cell_type": "code",
      "source": [
        "# Get the loss and accuracy from model_evaluation_history.\n",
        "model_evaluation_loss, model_evaluation_accuracy = model_evaluation_history\n",
        "\n",
        "# Define the string date format.\n",
        "# Get the current Date and Time in a DateTime Object.\n",
        "# Convert the DateTime object to string according to the style mentioned in date_time_format string.\n",
        "#date_time_format = '%Y_%m_%d__%H_%M_%S'\n",
        "#current_date_time_dt = dt.datetime.now()\n",
        "#current_date_time_string = dt.datetime.strftime(current_date_time_dt, date_time_format)\n",
        "    \n",
        "# Define a useful name for our model to make it easy for us while navigating through multiple saved models.\n",
        "model_file_name = f'/content/drive/My Drive/fusion/savee/video/model/expert2/best_LRCN_model___Loss_{model_evaluation_loss}___Accuracy_{model_evaluation_accuracy}.h5'\n",
        "\n",
        "# Save the Model.\n",
        "LRCN_model.save(model_file_name)"
      ],
      "metadata": {
        "id": "ZQFzvcgbF73v"
      },
      "execution_count": 19,
      "outputs": []
    },
    {
      "cell_type": "code",
      "source": [
        "from keras.models import save_model\n",
        "\n",
        "# you can write whatever you desire instead of 'my_model'\n",
        "# model = Your trained model\n",
        "LRCN_model.save('/content/drive/My Drive/fusion/savee/video/model/expert2/best_LRCN_model')\n"
      ],
      "metadata": {
        "id": "Z1V8hgLFAjf2",
        "colab": {
          "base_uri": "https://localhost:8080/"
        },
        "outputId": "0c7a7ed0-3af4-49d6-dad9-62b6fe0c0c1a"
      },
      "execution_count": 20,
      "outputs": [
        {
          "output_type": "stream",
          "name": "stderr",
          "text": [
            "WARNING:absl:Found untraced functions such as lstm_cell_layer_call_fn, lstm_cell_layer_call_and_return_conditional_losses while saving (showing 2 of 2). These functions will not be directly callable after loading.\n"
          ]
        },
        {
          "output_type": "stream",
          "name": "stdout",
          "text": [
            "INFO:tensorflow:Assets written to: /content/drive/My Drive/fusion/savee/video/model/expert2/best_LRCN_model/assets\n"
          ]
        },
        {
          "output_type": "stream",
          "name": "stderr",
          "text": [
            "INFO:tensorflow:Assets written to: /content/drive/My Drive/fusion/savee/video/model/expert2/best_LRCN_model/assets\n",
            "WARNING:absl:<keras.layers.recurrent.LSTMCell object at 0x7f374015c910> has the same name 'LSTMCell' as a built-in Keras object. Consider renaming <class 'keras.layers.recurrent.LSTMCell'> to avoid naming conflicts when loading with `tf.keras.models.load_model`. If renaming is not possible, pass the object in the `custom_objects` parameter of the load function.\n"
          ]
        }
      ]
    },
    {
      "cell_type": "code",
      "source": [
        "# serialize model to JSON\n",
        "model_json = LRCN_model.to_json()\n",
        "with open(\"/content/drive/My Drive/fusion/savee/video/model/expert2/best_LRCN_model.json\", \"w\") as json_file:\n",
        "    json_file.write(model_json)"
      ],
      "metadata": {
        "id": "Dn4OC224Ao4g"
      },
      "execution_count": 21,
      "outputs": []
    },
    {
      "cell_type": "code",
      "source": [
        "def plot_metric(model_training_history, metric_name_1, metric_name_2, plot_name):\n",
        "    '''\n",
        "    This function will plot the metrics passed to it in a graph.\n",
        "    Args:\n",
        "        model_training_history: A history object containing a record of training and validation \n",
        "                                loss values and metrics values at successive epochs\n",
        "        metric_name_1:          The name of the first metric that needs to be plotted in the graph.\n",
        "        metric_name_2:          The name of the second metric that needs to be plotted in the graph.\n",
        "        plot_name:              The title of the graph.\n",
        "    '''\n",
        "    \n",
        "    # Get metric values using metric names as identifiers.\n",
        "    metric_value_1 = model_training_history.history[metric_name_1]\n",
        "    metric_value_2 = model_training_history.history[metric_name_2]\n",
        "    \n",
        "    # Construct a range object which will be used as x-axis (horizontal plane) of the graph.\n",
        "    epochs = range(len(metric_value_1))\n",
        "\n",
        "    # Plot the Graph.\n",
        "    plt.plot(epochs, metric_value_1, 'blue', label = metric_name_1)\n",
        "    plt.plot(epochs, metric_value_2, 'red', label = metric_name_2)\n",
        "\n",
        "    # Add title to the plot.\n",
        "    plt.title(str(plot_name))\n",
        "\n",
        "    # Add legend to the plot.\n",
        "    plt.legend()"
      ],
      "metadata": {
        "id": "f6YHM7o_F-LU"
      },
      "execution_count": 22,
      "outputs": []
    },
    {
      "cell_type": "code",
      "source": [
        "# Visualize the training and validation loss metrices.\n",
        "plot_metric(LRCN_model_training_history, 'loss', 'val_loss', 'Total Loss vs Total Validation Loss')"
      ],
      "metadata": {
        "colab": {
          "base_uri": "https://localhost:8080/",
          "height": 281
        },
        "id": "3V346_N6GAKN",
        "outputId": "aa021d7a-278c-48bb-d430-e3103c6c7f96"
      },
      "execution_count": 23,
      "outputs": [
        {
          "output_type": "display_data",
          "data": {
            "text/plain": [
              "<Figure size 432x288 with 1 Axes>"
            ],
            "image/png": "[encoded data removed]"
          },
          "metadata": {
            "needs_background": "light"
          }
        }
      ]
    },
    {
      "cell_type": "code",
      "source": [
        "# Visualize the training and validation accuracy metrices.\n",
        "plot_metric(LRCN_model_training_history, 'accuracy', 'val_accuracy', 'Total Accuracy vs Total Validation Accuracy')"
      ],
      "metadata": {
        "colab": {
          "base_uri": "https://localhost:8080/",
          "height": 281
        },
        "id": "K-2dqoIFGCZl",
        "outputId": "6bcbb82f-70fe-4404-9b60-1fabe032e00a"
      },
      "execution_count": 24,
      "outputs": [
        {
          "output_type": "display_data",
          "data": {
            "text/plain": [
              "<Figure size 432x288 with 1 Axes>"
            ],
            "image/png": "[encoded data removed]"
          },
          "metadata": {
            "needs_background": "light"
          }
        }
      ]
    },
    {
      "cell_type": "code",
      "source": [
        "predictions =  LRCN_model.predict(features_test)\n",
        "predictions"
      ],
      "metadata": {
        "colab": {
          "base_uri": "https://localhost:8080/"
        },
        "id": "UIQGDtkcGGu0",
        "outputId": "207f8cbe-e1bf-4bd2-ac07-404f5e0336e5"
      },
      "execution_count": 25,
      "outputs": [
        {
          "output_type": "execute_result",
          "data": {
            "text/plain": [
              "array([[9.98549283e-01, 6.77827775e-05, 8.62589804e-04, 4.58824972e-04,\n",
              "        6.15059253e-05],\n",
              "       [9.97925282e-01, 9.60229008e-05, 1.28915766e-03, 6.18115591e-04,\n",
              "        7.14219495e-05],\n",
              "       [1.39851563e-05, 9.97236311e-01, 4.90832717e-05, 4.65197954e-04,\n",
              "        2.23540468e-03],\n",
              "       [1.28388812e-04, 9.42631505e-06, 9.93266940e-01, 1.08459755e-03,\n",
              "        5.51070273e-03],\n",
              "       [9.98379111e-01, 6.55176482e-05, 1.02367718e-03, 4.73588705e-04,\n",
              "        5.81949571e-05],\n",
              "       [1.66006994e-05, 9.96792853e-01, 5.53999853e-05, 6.25461806e-04,\n",
              "        2.50966637e-03],\n",
              "       [9.97789025e-01, 7.65804361e-05, 1.73550693e-03, 3.21019383e-04,\n",
              "        7.77887763e-05],\n",
              "       [9.95530546e-01, 1.89879400e-04, 2.71698926e-03, 1.45120313e-03,\n",
              "        1.11459558e-04],\n",
              "       [5.74974169e-04, 1.36502495e-05, 9.96910036e-01, 8.93180026e-04,\n",
              "        1.60821469e-03],\n",
              "       [7.57937960e-04, 3.69393092e-05, 1.82153881e-02, 9.80648696e-01,\n",
              "        3.41120845e-04],\n",
              "       [2.39413464e-03, 1.17148142e-04, 2.37286300e-03, 9.94875133e-01,\n",
              "        2.40665060e-04],\n",
              "       [9.97772872e-01, 1.23660750e-04, 1.12978776e-03, 8.95054429e-04,\n",
              "        7.84630611e-05],\n",
              "       [9.98510063e-01, 6.26242763e-05, 9.04953165e-04, 4.65602119e-04,\n",
              "        5.67896277e-05],\n",
              "       [9.98421669e-01, 6.79902660e-05, 9.77731659e-04, 4.70988773e-04,\n",
              "        6.17036785e-05],\n",
              "       [2.36613796e-05, 3.38304555e-04, 9.98697430e-03, 1.82675474e-04,\n",
              "        9.89468396e-01],\n",
              "       [1.85012221e-04, 2.76712944e-05, 9.75167334e-01, 1.14895497e-03,\n",
              "        2.34709196e-02],\n",
              "       [9.98333752e-01, 9.71679547e-05, 8.79197032e-04, 6.16552774e-04,\n",
              "        7.34583591e-05],\n",
              "       [1.19412813e-04, 7.09233291e-06, 9.95014846e-01, 1.18357560e-03,\n",
              "        3.67501820e-03],\n",
              "       [9.98484910e-01, 7.48101520e-05, 8.74743680e-04, 5.00582508e-04,\n",
              "        6.48780406e-05],\n",
              "       [9.98111248e-01, 1.11534071e-04, 1.01276464e-03, 6.85609819e-04,\n",
              "        7.89179394e-05],\n",
              "       [9.98433411e-01, 6.70670634e-05, 9.95000009e-04, 4.48334555e-04,\n",
              "        5.61588240e-05],\n",
              "       [2.30248152e-05, 9.96170580e-01, 6.59246580e-05, 1.18456222e-03,\n",
              "        2.55589723e-03],\n",
              "       [9.95778084e-01, 2.49423203e-04, 1.69140904e-03, 2.16558459e-03,\n",
              "        1.15495735e-04],\n",
              "       [9.97744441e-01, 1.17704585e-04, 1.31239544e-03, 7.43115786e-04,\n",
              "        8.23511655e-05],\n",
              "       [2.06756504e-05, 3.53888888e-03, 2.23055552e-03, 4.66917845e-04,\n",
              "        9.93743002e-01],\n",
              "       [5.84996305e-04, 1.65670554e-05, 9.97097731e-01, 6.11877767e-04,\n",
              "        1.68879889e-03],\n",
              "       [1.60635958e-04, 8.15687144e-06, 9.97070909e-01, 8.07680539e-04,\n",
              "        1.95261126e-03],\n",
              "       [8.04336742e-04, 2.86688592e-04, 5.00327908e-04, 9.98218238e-01,\n",
              "        1.90267150e-04],\n",
              "       [1.60874133e-05, 9.96886671e-01, 5.49442593e-05, 6.17154350e-04,\n",
              "        2.42516655e-03],\n",
              "       [1.14032191e-05, 4.51141794e-04, 3.10903485e-03, 1.77134119e-04,\n",
              "        9.96251285e-01],\n",
              "       [9.98003304e-01, 1.19793956e-04, 1.06376235e-03, 7.32451736e-04,\n",
              "        8.07130054e-05],\n",
              "       [2.23620865e-03, 2.17721390e-04, 6.30216300e-01, 3.57653648e-01,\n",
              "        9.67613794e-03],\n",
              "       [2.99280771e-04, 4.65217774e-04, 1.08289556e-03, 9.97895241e-01,\n",
              "        2.57277949e-04],\n",
              "       [9.63117520e-04, 2.70003249e-04, 4.99671616e-04, 9.98094261e-01,\n",
              "        1.72922591e-04],\n",
              "       [9.98320878e-01, 6.14623059e-05, 1.28078728e-03, 2.79744709e-04,\n",
              "        5.71482778e-05],\n",
              "       [9.98250663e-01, 1.03576669e-04, 9.11316485e-04, 6.59143960e-04,\n",
              "        7.53379645e-05]], dtype=float32)"
            ]
          },
          "metadata": {},
          "execution_count": 25
        }
      ]
    },
    {
      "cell_type": "code",
      "source": [
        "preds=predictions.argmax(axis=1)\n",
        "preds"
      ],
      "metadata": {
        "colab": {
          "base_uri": "https://localhost:8080/"
        },
        "id": "E7smnX9oGMly",
        "outputId": "68909956-6eed-405c-af2c-cc1e4989e905"
      },
      "execution_count": 26,
      "outputs": [
        {
          "output_type": "execute_result",
          "data": {
            "text/plain": [
              "array([0, 0, 1, 2, 0, 1, 0, 0, 2, 3, 3, 0, 0, 0, 4, 2, 0, 2, 0, 0, 0, 1,\n",
              "       0, 0, 4, 2, 2, 3, 1, 4, 0, 2, 3, 3, 0, 0])"
            ]
          },
          "metadata": {},
          "execution_count": 26
        }
      ]
    },
    {
      "cell_type": "code",
      "source": [
        "new_preds = preds.astype(int).flatten()\n",
        "new_preds"
      ],
      "metadata": {
        "id": "DvrDaZw2GPHK",
        "colab": {
          "base_uri": "https://localhost:8080/"
        },
        "outputId": "42c51227-877f-402e-cb71-1685277c17da"
      },
      "execution_count": 27,
      "outputs": [
        {
          "output_type": "execute_result",
          "data": {
            "text/plain": [
              "array([0, 0, 1, 2, 0, 1, 0, 0, 2, 3, 3, 0, 0, 0, 4, 2, 0, 2, 0, 0, 0, 1,\n",
              "       0, 0, 4, 2, 2, 3, 1, 4, 0, 2, 3, 3, 0, 0])"
            ]
          },
          "metadata": {},
          "execution_count": 27
        }
      ]
    },
    {
      "cell_type": "code",
      "source": [
        "from sklearn.metrics import classification_report, confusion_matrix,accuracy_score\n",
        "import seaborn as sn\n",
        "import pandas as pd\n",
        "import numpy as np\n",
        "new_labels=np.argmax(labels_test, axis=1)\n",
        "print(classification_report(new_labels,new_preds))\n",
        "\n",
        "acc = float(accuracy_score(new_labels,new_preds))*100\n",
        "print(\"----accuracy score %s ----\" % acc)\n",
        "\n",
        "cm = confusion_matrix(new_labels,new_preds)\n",
        "#df_cm = pd.DataFrame(cm)\n",
        "class_names = ['neutral', 'happy','sad','angry', 'fearful' ]\n",
        "df_cm = pd.DataFrame(cm, index=class_names, columns=class_names,)\n",
        "sn.heatmap(df_cm, annot=True, fmt='')\n",
        "plt.show()"
      ],
      "metadata": {
        "colab": {
          "base_uri": "https://localhost:8080/",
          "height": 501
        },
        "id": "7p7e1ihVGSke",
        "outputId": "4069b14b-8364-4693-f4e2-4a98c090b515"
      },
      "execution_count": 28,
      "outputs": [
        {
          "output_type": "stream",
          "name": "stdout",
          "text": [
            "              precision    recall  f1-score   support\n",
            "\n",
            "           0       1.00      1.00      1.00        17\n",
            "           1       1.00      1.00      1.00         4\n",
            "           2       0.86      0.86      0.86         7\n",
            "           3       0.80      1.00      0.89         4\n",
            "           4       1.00      0.75      0.86         4\n",
            "\n",
            "    accuracy                           0.94        36\n",
            "   macro avg       0.93      0.92      0.92        36\n",
            "weighted avg       0.95      0.94      0.94        36\n",
            "\n",
            "----accuracy score 94.44444444444444 ----\n"
          ]
        },
        {
          "output_type": "display_data",
          "data": {
            "text/plain": [
              "<Figure size 432x288 with 2 Axes>"
            ],
            "image/png": "[encoded data removed]"
          },
          "metadata": {
            "needs_background": "light"
          }
        }
      ]
    },
    {
      "cell_type": "code",
      "source": [
        "predictions_train=LRCN_model.predict(features_train)\n",
        "predictions_valid=LRCN_model.predict(features_valid)"
      ],
      "metadata": {
        "id": "Mr6xwbi0Az4-"
      },
      "execution_count": 29,
      "outputs": []
    },
    {
      "cell_type": "code",
      "source": [
        "df_video_train=pd.DataFrame(predictions_train,columns=[\"OV_\"+str(i) for i in range(5)]) \n",
        "df_video_test=pd.DataFrame(predictions,columns=[\"OV_\"+str(i) for i in range(5)]) \n",
        "df_video_valid=pd.DataFrame(predictions_valid,columns=[\"OV_\"+str(i) for i in range(5)])"
      ],
      "metadata": {
        "id": "nOPu0lZJA4Qf"
      },
      "execution_count": 30,
      "outputs": []
    },
    {
      "cell_type": "code",
      "source": [
        "save_dir = '/content/drive/My Drive/fusion/savee/video/data_set/expert2'\n",
        "\n",
        "savedvX = joblib.dump(df_video_train, os.path.join(save_dir, 'train/pred_train'))\n",
        "savedvX = joblib.dump(df_video_test, os.path.join(save_dir, 'test/pred_test'))\n",
        "savedvX = joblib.dump(df_video_valid, os.path.join(save_dir, 'valid/pred_valid'))"
      ],
      "metadata": {
        "id": "GwiWQx4kA4WO"
      },
      "execution_count": 36,
      "outputs": []
    },
    {
      "cell_type": "code",
      "source": [
        ""
      ],
      "metadata": {
        "id": "hGykuKISA4Ye"
      },
      "execution_count": null,
      "outputs": []
    },
    {
      "cell_type": "code",
      "source": [
        ""
      ],
      "metadata": {
        "id": "Sx_svvPfA4au"
      },
      "execution_count": null,
      "outputs": []
    },
    {
      "cell_type": "code",
      "source": [
        ""
      ],
      "metadata": {
        "id": "Ks6nrT3EA4dJ"
      },
      "execution_count": null,
      "outputs": []
    },
    {
      "cell_type": "code",
      "source": [
        ""
      ],
      "metadata": {
        "id": "4sGQF7F4A4fx"
      },
      "execution_count": null,
      "outputs": []
    },
    {
      "cell_type": "code",
      "source": [
        ""
      ],
      "metadata": {
        "id": "kAVedoXqA4iY"
      },
      "execution_count": null,
      "outputs": []
    },
    {
      "cell_type": "code",
      "source": [
        ""
      ],
      "metadata": {
        "id": "yOOPBV20A4l6"
      },
      "execution_count": null,
      "outputs": []
    },
    {
      "cell_type": "code",
      "source": [
        ""
      ],
      "metadata": {
        "id": "FCzorWtzA4q7"
      },
      "execution_count": null,
      "outputs": []
    },
    {
      "cell_type": "code",
      "source": [
        ""
      ],
      "metadata": {
        "id": "aGFdH2kVA4uT"
      },
      "execution_count": null,
      "outputs": []
    },
    {
      "cell_type": "code",
      "source": [
        ""
      ],
      "metadata": {
        "id": "kqYHujdikXgf"
      },
      "execution_count": null,
      "outputs": []
    }
  ],
  "metadata": {
    "accelerator": "GPU",
    "colab": {
      "name": "best_LRCN_CNN_Video_SAVEE_2.ipynb",
      "provenance": [],
      "machine_shape": "hm",
      "collapsed_sections": []
    },
    "kernelspec": {
      "display_name": "Python 3",
      "name": "python3"
    },
    "language_info": {
      "name": "python"
    }
  },
  "nbformat": 4,
  "nbformat_minor": 0
}