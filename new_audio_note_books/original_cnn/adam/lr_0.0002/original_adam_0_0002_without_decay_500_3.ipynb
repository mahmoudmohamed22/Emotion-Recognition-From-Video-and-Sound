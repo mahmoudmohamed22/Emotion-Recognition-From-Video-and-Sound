{
  "nbformat": 4,
  "nbformat_minor": 0,
  "metadata": {
    "colab": {
      "name": "original_adam_0.00002_without decay_500_3.ipynb",
      "provenance": [],
      "collapsed_sections": []
    },
    "kernelspec": {
      "name": "python3",
      "display_name": "Python 3"
    },
    "language_info": {
      "name": "python"
    },
    "accelerator": "GPU"
  },
  "cells": [
    {
      "cell_type": "code",
      "execution_count": 1,
      "metadata": {
        "colab": {
          "base_uri": "https://localhost:8080/"
        },
        "id": "9SRCO-a_AlH5",
        "outputId": "92fdc7ae-13bc-482b-aef3-23bd01922635"
      },
      "outputs": [
        {
          "output_type": "stream",
          "name": "stdout",
          "text": [
            "Drive already mounted at /content/drive; to attempt to forcibly remount, call drive.mount(\"/content/drive\", force_remount=True).\n"
          ]
        }
      ],
      "source": [
        "from google.colab import drive\n",
        "drive.mount('/content/drive')"
      ]
    },
    {
      "cell_type": "code",
      "source": [
        "!pip install librosa"
      ],
      "metadata": {
        "colab": {
          "base_uri": "https://localhost:8080/"
        },
        "id": "5Lo4mUwG9RMd",
        "outputId": "ad9fe203-dca5-4984-9ed3-ba92758c66aa"
      },
      "execution_count": 2,
      "outputs": [
        {
          "output_type": "stream",
          "name": "stdout",
          "text": [
            "Looking in indexes: https://pypi.org/simple, https://us-python.pkg.dev/colab-wheels/public/simple/\n",
            "Requirement already satisfied: librosa in /usr/local/lib/python3.7/dist-packages (0.8.1)\n",
            "Requirement already satisfied: scikit-learn!=0.19.0,>=0.14.0 in /usr/local/lib/python3.7/dist-packages (from librosa) (1.0.2)\n",
            "Requirement already satisfied: resampy>=0.2.2 in /usr/local/lib/python3.7/dist-packages (from librosa) (0.2.2)\n",
            "Requirement already satisfied: decorator>=3.0.0 in /usr/local/lib/python3.7/dist-packages (from librosa) (4.4.2)\n",
            "Requirement already satisfied: numba>=0.43.0 in /usr/local/lib/python3.7/dist-packages (from librosa) (0.51.2)\n",
            "Requirement already satisfied: packaging>=20.0 in /usr/local/lib/python3.7/dist-packages (from librosa) (21.3)\n",
            "Requirement already satisfied: scipy>=1.0.0 in /usr/local/lib/python3.7/dist-packages (from librosa) (1.4.1)\n",
            "Requirement already satisfied: joblib>=0.14 in /usr/local/lib/python3.7/dist-packages (from librosa) (1.1.0)\n",
            "Requirement already satisfied: pooch>=1.0 in /usr/local/lib/python3.7/dist-packages (from librosa) (1.6.0)\n",
            "Requirement already satisfied: soundfile>=0.10.2 in /usr/local/lib/python3.7/dist-packages (from librosa) (0.10.3.post1)\n",
            "Requirement already satisfied: audioread>=2.0.0 in /usr/local/lib/python3.7/dist-packages (from librosa) (2.1.9)\n",
            "Requirement already satisfied: numpy>=1.15.0 in /usr/local/lib/python3.7/dist-packages (from librosa) (1.21.6)\n",
            "Requirement already satisfied: llvmlite<0.35,>=0.34.0.dev0 in /usr/local/lib/python3.7/dist-packages (from numba>=0.43.0->librosa) (0.34.0)\n",
            "Requirement already satisfied: setuptools in /usr/local/lib/python3.7/dist-packages (from numba>=0.43.0->librosa) (57.4.0)\n",
            "Requirement already satisfied: pyparsing!=3.0.5,>=2.0.2 in /usr/local/lib/python3.7/dist-packages (from packaging>=20.0->librosa) (3.0.9)\n",
            "Requirement already satisfied: appdirs>=1.3.0 in /usr/local/lib/python3.7/dist-packages (from pooch>=1.0->librosa) (1.4.4)\n",
            "Requirement already satisfied: requests>=2.19.0 in /usr/local/lib/python3.7/dist-packages (from pooch>=1.0->librosa) (2.23.0)\n",
            "Requirement already satisfied: idna<3,>=2.5 in /usr/local/lib/python3.7/dist-packages (from requests>=2.19.0->pooch>=1.0->librosa) (2.10)\n",
            "Requirement already satisfied: urllib3!=1.25.0,!=1.25.1,<1.26,>=1.21.1 in /usr/local/lib/python3.7/dist-packages (from requests>=2.19.0->pooch>=1.0->librosa) (1.24.3)\n",
            "Requirement already satisfied: certifi>=2017.4.17 in /usr/local/lib/python3.7/dist-packages (from requests>=2.19.0->pooch>=1.0->librosa) (2022.5.18.1)\n",
            "Requirement already satisfied: chardet<4,>=3.0.2 in /usr/local/lib/python3.7/dist-packages (from requests>=2.19.0->pooch>=1.0->librosa) (3.0.4)\n",
            "Requirement already satisfied: six>=1.3 in /usr/local/lib/python3.7/dist-packages (from resampy>=0.2.2->librosa) (1.15.0)\n",
            "Requirement already satisfied: threadpoolctl>=2.0.0 in /usr/local/lib/python3.7/dist-packages (from scikit-learn!=0.19.0,>=0.14.0->librosa) (3.1.0)\n",
            "Requirement already satisfied: cffi>=1.0 in /usr/local/lib/python3.7/dist-packages (from soundfile>=0.10.2->librosa) (1.15.0)\n",
            "Requirement already satisfied: pycparser in /usr/local/lib/python3.7/dist-packages (from cffi>=1.0->soundfile>=0.10.2->librosa) (2.21)\n"
          ]
        }
      ]
    },
    {
      "cell_type": "code",
      "metadata": {
        "id": "HJjcbxwy46bG",
        "colab": {
          "base_uri": "https://localhost:8080/",
          "height": 17
        },
        "outputId": "e8feecf7-4a12-48d7-f494-d5ace179b2b0"
      },
      "source": [
        "# Orignial Notebook: https://github.com/MITESHPUTHRANNEU/Speech-Emotion-Analyzer/blob/master/final_results_gender_test.ipynb\n",
        "# This notebook author: Reza Chu\n",
        "# Last Editing Date: 31st May 2019\n",
        "\n",
        "## Python\n",
        "import os\n",
        "import random\n",
        "import sys\n",
        "\n",
        "import IPython\n",
        "from IPython.display import Audio\n",
        "from IPython.display import Image\n",
        "import matplotlib.pyplot as plt\n",
        "\n",
        "## Package\n",
        "import glob \n",
        "import keras\n",
        "import IPython.display as ipd\n",
        "import librosa\n",
        "import librosa.display\n",
        "import matplotlib.pyplot as plt\n",
        "import numpy as np\n",
        "import pandas as pd\n",
        "import plotly.graph_objs as go\n",
        "import plotly.offline as py\n",
        "import plotly.tools as tls\n",
        "import seaborn as sns\n",
        "import scipy.io.wavfile\n",
        "import tensorflow as tf\n",
        "py.init_notebook_mode(connected=True)\n",
        "\n",
        "## Keras\n",
        "from keras import regularizers\n",
        "from keras.callbacks import ModelCheckpoint, LearningRateScheduler, EarlyStopping\n",
        "from keras.callbacks import  History, ReduceLROnPlateau, CSVLogger\n",
        "from keras.models import Model, Sequential\n",
        "from keras.layers import Dense, Embedding, LSTM\n",
        "from keras.layers import Input, Flatten, Dropout, Activation, BatchNormalization\n",
        "from keras.layers import Conv1D, MaxPooling1D, AveragePooling1D\n",
        "from keras.preprocessing import sequence\n",
        "from keras.preprocessing.sequence import pad_sequences\n",
        "from keras.preprocessing.text import Tokenizer\n",
        "from keras.utils import np_utils\n",
        "from tensorflow.keras.utils import to_categorical\n",
        "\n",
        "## Sklearn\n",
        "from sklearn.metrics import confusion_matrix\n",
        "from sklearn.preprocessing import LabelEncoder\n",
        "\n",
        "## Rest\n",
        "from scipy.fftpack import fft\n",
        "from scipy import signal\n",
        "from scipy.io import wavfile\n",
        "from tqdm import tqdm\n",
        "\n",
        "input_duration=3\n",
        "# % pylab inline"
      ],
      "execution_count": 3,
      "outputs": [
        {
          "output_type": "display_data",
          "data": {
            "text/html": [
              "        <script type=\"text/javascript\">\n",
              "        window.PlotlyConfig = {MathJaxConfig: 'local'};\n",
              "        if (window.MathJax) {MathJax.Hub.Config({SVG: {font: \"STIX-Web\"}});}\n",
              "        if (typeof require !== 'undefined') {\n",
              "        require.undef(\"plotly\");\n",
              "        requirejs.config({\n",
              "            paths: {\n",
              "                'plotly': ['https://cdn.plot.ly/plotly-2.8.3.min']\n",
              "            }\n",
              "        });\n",
              "        require(['plotly'], function(Plotly) {\n",
              "            window._Plotly = Plotly;\n",
              "        });\n",
              "        }\n",
              "        </script>\n",
              "        "
            ]
          },
          "metadata": {}
        }
      ]
    },
    {
      "cell_type": "code",
      "source": [
        "# # Saving joblib files to not load them again with the loop above\n",
        "\n",
        "# import joblib\n",
        "\n",
        "# X_name = 'x.joblib'\n",
        "# y_name = 'y.joblib'\n",
        "# save_dir = '/content/drive/My Drive/graduation project/audio/paper_code/features'\n",
        "\n",
        "# savedX = joblib.dump(X, os.path.join(save_dir, X_name))\n",
        "# savedy = joblib.dump(y, os.path.join(save_dir, y_name))"
      ],
      "metadata": {
        "id": "UCzic8rlDcuk"
      },
      "execution_count": 4,
      "outputs": []
    },
    {
      "cell_type": "code",
      "source": [
        "# # Loading saved models\n",
        "import joblib\n",
        "X = joblib.load('/content/drive/My Drive/graduation project/audio/paper_code/features/x.joblib')\n",
        "y = joblib.load('/content/drive/My Drive/graduation project/audio/paper_code/features/y.joblib')"
      ],
      "metadata": {
        "id": "Q35CN6zDrzg1"
      },
      "execution_count": 5,
      "outputs": []
    },
    {
      "cell_type": "code",
      "source": [
        "X.shape"
      ],
      "metadata": {
        "colab": {
          "base_uri": "https://localhost:8080/"
        },
        "id": "7PSTurzjCo5K",
        "outputId": "a7cd3946-161a-456b-b11d-9097b746c793"
      },
      "execution_count": 6,
      "outputs": [
        {
          "output_type": "execute_result",
          "data": {
            "text/plain": [
              "(2068, 40)"
            ]
          },
          "metadata": {},
          "execution_count": 6
        }
      ]
    },
    {
      "cell_type": "code",
      "source": [
        "from sklearn.model_selection import train_test_split\n",
        "\n",
        "X_train, X_test, y_train, y_test = train_test_split(X,y, test_size=0.1 ,shuffle = True\n",
        "                                                    , random_state=42)\n",
        "X_train , X_valid, y_train, y_valid = train_test_split(X_train,y_train, test_size=0.1112305212 , shuffle = True \n",
        "                                                       , random_state=42)"
      ],
      "metadata": {
        "id": "Ai4Fy5cPCiq1"
      },
      "execution_count": 7,
      "outputs": []
    },
    {
      "cell_type": "code",
      "source": [
        "import numpy as np\n",
        "x_traincnn = np.expand_dims(X_train, axis=2)\n",
        "x_testcnn = np.expand_dims(X_test, axis=2)\n",
        "X_valid= np.expand_dims(X_valid, axis=2)"
      ],
      "metadata": {
        "id": "tp1Fm5K3CEXu"
      },
      "execution_count": 8,
      "outputs": []
    },
    {
      "cell_type": "code",
      "source": [
        "x_traincnn.shape, x_testcnn.shape , X_valid.shape\n",
        "#1861"
      ],
      "metadata": {
        "id": "RI0MxoIPBws5",
        "colab": {
          "base_uri": "https://localhost:8080/"
        },
        "outputId": "66d3bd16-651c-4520-af0f-2e9894552c3b"
      },
      "execution_count": 9,
      "outputs": [
        {
          "output_type": "execute_result",
          "data": {
            "text/plain": [
              "((1654, 40, 1), (207, 40, 1), (207, 40, 1))"
            ]
          },
          "metadata": {},
          "execution_count": 9
        }
      ]
    },
    {
      "cell_type": "code",
      "source": [
        "!pip install tensorflow"
      ],
      "metadata": {
        "colab": {
          "base_uri": "https://localhost:8080/"
        },
        "id": "oALhiMUd9G2Y",
        "outputId": "b103632a-456d-4c55-ef21-9e7dcb4731b0"
      },
      "execution_count": 10,
      "outputs": [
        {
          "output_type": "stream",
          "name": "stdout",
          "text": [
            "Looking in indexes: https://pypi.org/simple, https://us-python.pkg.dev/colab-wheels/public/simple/\n",
            "Requirement already satisfied: tensorflow in /usr/local/lib/python3.7/dist-packages (2.8.2+zzzcolab20220527125636)\n",
            "Requirement already satisfied: opt-einsum>=2.3.2 in /usr/local/lib/python3.7/dist-packages (from tensorflow) (3.3.0)\n",
            "Requirement already satisfied: numpy>=1.20 in /usr/local/lib/python3.7/dist-packages (from tensorflow) (1.21.6)\n",
            "Requirement already satisfied: termcolor>=1.1.0 in /usr/local/lib/python3.7/dist-packages (from tensorflow) (1.1.0)\n",
            "Requirement already satisfied: six>=1.12.0 in /usr/local/lib/python3.7/dist-packages (from tensorflow) (1.15.0)\n",
            "Requirement already satisfied: libclang>=9.0.1 in /usr/local/lib/python3.7/dist-packages (from tensorflow) (14.0.1)\n",
            "Requirement already satisfied: astunparse>=1.6.0 in /usr/local/lib/python3.7/dist-packages (from tensorflow) (1.6.3)\n",
            "Requirement already satisfied: absl-py>=0.4.0 in /usr/local/lib/python3.7/dist-packages (from tensorflow) (1.0.0)\n",
            "Requirement already satisfied: google-pasta>=0.1.1 in /usr/local/lib/python3.7/dist-packages (from tensorflow) (0.2.0)\n",
            "Requirement already satisfied: grpcio<2.0,>=1.24.3 in /usr/local/lib/python3.7/dist-packages (from tensorflow) (1.46.3)\n",
            "Requirement already satisfied: flatbuffers>=1.12 in /usr/local/lib/python3.7/dist-packages (from tensorflow) (2.0)\n",
            "Requirement already satisfied: typing-extensions>=3.6.6 in /usr/local/lib/python3.7/dist-packages (from tensorflow) (4.2.0)\n",
            "Requirement already satisfied: keras<2.9,>=2.8.0rc0 in /usr/local/lib/python3.7/dist-packages (from tensorflow) (2.8.0)\n",
            "Requirement already satisfied: wrapt>=1.11.0 in /usr/local/lib/python3.7/dist-packages (from tensorflow) (1.14.1)\n",
            "Requirement already satisfied: tensorboard<2.9,>=2.8 in /usr/local/lib/python3.7/dist-packages (from tensorflow) (2.8.0)\n",
            "Requirement already satisfied: keras-preprocessing>=1.1.1 in /usr/local/lib/python3.7/dist-packages (from tensorflow) (1.1.2)\n",
            "Requirement already satisfied: tensorflow-estimator<2.9,>=2.8 in /usr/local/lib/python3.7/dist-packages (from tensorflow) (2.8.0)\n",
            "Requirement already satisfied: setuptools in /usr/local/lib/python3.7/dist-packages (from tensorflow) (57.4.0)\n",
            "Requirement already satisfied: tensorflow-io-gcs-filesystem>=0.23.1 in /usr/local/lib/python3.7/dist-packages (from tensorflow) (0.26.0)\n",
            "Requirement already satisfied: protobuf<3.20,>=3.9.2 in /usr/local/lib/python3.7/dist-packages (from tensorflow) (3.17.3)\n",
            "Requirement already satisfied: gast>=0.2.1 in /usr/local/lib/python3.7/dist-packages (from tensorflow) (0.5.3)\n",
            "Requirement already satisfied: h5py>=2.9.0 in /usr/local/lib/python3.7/dist-packages (from tensorflow) (3.1.0)\n",
            "Requirement already satisfied: wheel<1.0,>=0.23.0 in /usr/local/lib/python3.7/dist-packages (from astunparse>=1.6.0->tensorflow) (0.37.1)\n",
            "Requirement already satisfied: cached-property in /usr/local/lib/python3.7/dist-packages (from h5py>=2.9.0->tensorflow) (1.5.2)\n",
            "Requirement already satisfied: markdown>=2.6.8 in /usr/local/lib/python3.7/dist-packages (from tensorboard<2.9,>=2.8->tensorflow) (3.3.7)\n",
            "Requirement already satisfied: werkzeug>=0.11.15 in /usr/local/lib/python3.7/dist-packages (from tensorboard<2.9,>=2.8->tensorflow) (1.0.1)\n",
            "Requirement already satisfied: google-auth-oauthlib<0.5,>=0.4.1 in /usr/local/lib/python3.7/dist-packages (from tensorboard<2.9,>=2.8->tensorflow) (0.4.6)\n",
            "Requirement already satisfied: tensorboard-plugin-wit>=1.6.0 in /usr/local/lib/python3.7/dist-packages (from tensorboard<2.9,>=2.8->tensorflow) (1.8.1)\n",
            "Requirement already satisfied: requests<3,>=2.21.0 in /usr/local/lib/python3.7/dist-packages (from tensorboard<2.9,>=2.8->tensorflow) (2.23.0)\n",
            "Requirement already satisfied: google-auth<3,>=1.6.3 in /usr/local/lib/python3.7/dist-packages (from tensorboard<2.9,>=2.8->tensorflow) (1.35.0)\n",
            "Requirement already satisfied: tensorboard-data-server<0.7.0,>=0.6.0 in /usr/local/lib/python3.7/dist-packages (from tensorboard<2.9,>=2.8->tensorflow) (0.6.1)\n",
            "Requirement already satisfied: cachetools<5.0,>=2.0.0 in /usr/local/lib/python3.7/dist-packages (from google-auth<3,>=1.6.3->tensorboard<2.9,>=2.8->tensorflow) (4.2.4)\n",
            "Requirement already satisfied: pyasn1-modules>=0.2.1 in /usr/local/lib/python3.7/dist-packages (from google-auth<3,>=1.6.3->tensorboard<2.9,>=2.8->tensorflow) (0.2.8)\n",
            "Requirement already satisfied: rsa<5,>=3.1.4 in /usr/local/lib/python3.7/dist-packages (from google-auth<3,>=1.6.3->tensorboard<2.9,>=2.8->tensorflow) (4.8)\n",
            "Requirement already satisfied: requests-oauthlib>=0.7.0 in /usr/local/lib/python3.7/dist-packages (from google-auth-oauthlib<0.5,>=0.4.1->tensorboard<2.9,>=2.8->tensorflow) (1.3.1)\n",
            "Requirement already satisfied: importlib-metadata>=4.4 in /usr/local/lib/python3.7/dist-packages (from markdown>=2.6.8->tensorboard<2.9,>=2.8->tensorflow) (4.11.4)\n",
            "Requirement already satisfied: zipp>=0.5 in /usr/local/lib/python3.7/dist-packages (from importlib-metadata>=4.4->markdown>=2.6.8->tensorboard<2.9,>=2.8->tensorflow) (3.8.0)\n",
            "Requirement already satisfied: pyasn1<0.5.0,>=0.4.6 in /usr/local/lib/python3.7/dist-packages (from pyasn1-modules>=0.2.1->google-auth<3,>=1.6.3->tensorboard<2.9,>=2.8->tensorflow) (0.4.8)\n",
            "Requirement already satisfied: certifi>=2017.4.17 in /usr/local/lib/python3.7/dist-packages (from requests<3,>=2.21.0->tensorboard<2.9,>=2.8->tensorflow) (2022.5.18.1)\n",
            "Requirement already satisfied: urllib3!=1.25.0,!=1.25.1,<1.26,>=1.21.1 in /usr/local/lib/python3.7/dist-packages (from requests<3,>=2.21.0->tensorboard<2.9,>=2.8->tensorflow) (1.24.3)\n",
            "Requirement already satisfied: idna<3,>=2.5 in /usr/local/lib/python3.7/dist-packages (from requests<3,>=2.21.0->tensorboard<2.9,>=2.8->tensorflow) (2.10)\n",
            "Requirement already satisfied: chardet<4,>=3.0.2 in /usr/local/lib/python3.7/dist-packages (from requests<3,>=2.21.0->tensorboard<2.9,>=2.8->tensorflow) (3.0.4)\n",
            "Requirement already satisfied: oauthlib>=3.0.0 in /usr/local/lib/python3.7/dist-packages (from requests-oauthlib>=0.7.0->google-auth-oauthlib<0.5,>=0.4.1->tensorboard<2.9,>=2.8->tensorflow) (3.2.0)\n"
          ]
        }
      ]
    },
    {
      "cell_type": "code",
      "source": [
        "import keras\n",
        "import numpy as np\n",
        "import matplotlib.pyplot as plt\n",
        "import tensorflow as tf\n",
        "from keras.preprocessing import sequence\n",
        "from keras.models import Sequential\n",
        "from keras.layers import Dense, Embedding\n",
        "from tensorflow.keras.utils import to_categorical\n",
        "from keras.layers import Input, Flatten, Dropout, Activation\n",
        "from keras.layers import Conv1D, MaxPooling1D\n",
        "from keras.models import Model\n",
        "from keras.callbacks import ModelCheckpoint\n",
        "from tensorflow.keras import optimizers\n",
        "\n",
        "model = Sequential()\n",
        "\n",
        "model.add(Conv1D(128, 8,padding='same', #classifier.add(Convolution2D(64, (3, 3), padding = 'same', input_shape = (128, 128, 3), activation = 'relu'))\n",
        "                 input_shape=(40,1)))\n",
        "model.add(Activation('relu'))\n",
        "model.add(Dropout(0.3))\n",
        "model.add(MaxPooling1D(pool_size=(5)))\n",
        "\n",
        "\n",
        "model.add(Conv1D(256,8,padding='same',))\n",
        "model.add(Activation('relu'))\n",
        "model.add(Dropout(0.3))\n",
        "model.add(MaxPooling1D(pool_size=(5)))\n",
        "\n",
        "model.add(Flatten())\n",
        "\n",
        "model.add(Dense(256))\n",
        "model.add(Activation('relu'))\n",
        "model.add(Dense(256))\n",
        "model.add(Activation('relu'))\n",
        "\n",
        "model.add(Dense(6))\n",
        "model.add(Activation('softmax'))\n",
        "\n",
        "opt = tf.keras.optimizers.Adam(lr=0.0002 , decay=0.0)\n",
        "#opt = tf.keras.optimizers.RMSprop(lr=0.0001, rho=0.9, epsilon=1e-07, decay=0.0)\n",
        "#opt = tf.keras.optimizers.SGD(lr=0.001, momentum=0.0, decay=0.0, nesterov=False)"
      ],
      "metadata": {
        "id": "g74fXWVAC4Cr",
        "colab": {
          "base_uri": "https://localhost:8080/"
        },
        "outputId": "e04a9746-8645-40a7-fb82-1c0a1f0e9146"
      },
      "execution_count": 11,
      "outputs": [
        {
          "output_type": "stream",
          "name": "stderr",
          "text": [
            "/usr/local/lib/python3.7/dist-packages/keras/optimizer_v2/adam.py:105: UserWarning:\n",
            "\n",
            "The `lr` argument is deprecated, use `learning_rate` instead.\n",
            "\n"
          ]
        }
      ]
    },
    {
      "cell_type": "code",
      "source": [
        "model.summary()"
      ],
      "metadata": {
        "colab": {
          "base_uri": "https://localhost:8080/"
        },
        "id": "H6ukOxAGC_I4",
        "outputId": "de7ac21d-0c99-4963-a20c-3cf11c8de608"
      },
      "execution_count": 12,
      "outputs": [
        {
          "output_type": "stream",
          "name": "stdout",
          "text": [
            "Model: \"sequential\"\n",
            "_________________________________________________________________\n",
            " Layer (type)                Output Shape              Param #   \n",
            "=================================================================\n",
            " conv1d (Conv1D)             (None, 40, 128)           1152      \n",
            "                                                                 \n",
            " activation (Activation)     (None, 40, 128)           0         \n",
            "                                                                 \n",
            " dropout (Dropout)           (None, 40, 128)           0         \n",
            "                                                                 \n",
            " max_pooling1d (MaxPooling1D  (None, 8, 128)           0         \n",
            " )                                                               \n",
            "                                                                 \n",
            " conv1d_1 (Conv1D)           (None, 8, 256)            262400    \n",
            "                                                                 \n",
            " activation_1 (Activation)   (None, 8, 256)            0         \n",
            "                                                                 \n",
            " dropout_1 (Dropout)         (None, 8, 256)            0         \n",
            "                                                                 \n",
            " max_pooling1d_1 (MaxPooling  (None, 1, 256)           0         \n",
            " 1D)                                                             \n",
            "                                                                 \n",
            " flatten (Flatten)           (None, 256)               0         \n",
            "                                                                 \n",
            " dense (Dense)               (None, 256)               65792     \n",
            "                                                                 \n",
            " activation_2 (Activation)   (None, 256)               0         \n",
            "                                                                 \n",
            " dense_1 (Dense)             (None, 256)               65792     \n",
            "                                                                 \n",
            " activation_3 (Activation)   (None, 256)               0         \n",
            "                                                                 \n",
            " dense_2 (Dense)             (None, 6)                 1542      \n",
            "                                                                 \n",
            " activation_4 (Activation)   (None, 6)                 0         \n",
            "                                                                 \n",
            "=================================================================\n",
            "Total params: 396,678\n",
            "Trainable params: 396,678\n",
            "Non-trainable params: 0\n",
            "_________________________________________________________________\n"
          ]
        }
      ]
    },
    {
      "cell_type": "code",
      "source": [
        "model.compile(loss='sparse_categorical_crossentropy',\n",
        "              optimizer=opt,\n",
        "              metrics=['accuracy'])"
      ],
      "metadata": {
        "id": "AbMlLNk4DCBM"
      },
      "execution_count": 13,
      "outputs": []
    },
    {
      "cell_type": "code",
      "source": [
        "# Create an Instance of Early Stopping Callback.\n",
        "early_stopping_callback = EarlyStopping(monitor = 'val_loss', patience = 25, mode = 'min', restore_best_weights = True)\n",
        "\n",
        "cnnhistory=model.fit(x_traincnn, y_train, batch_size=16, epochs=500 , shuffle = True, \n",
        "                     validation_data=(X_valid, y_valid) , callbacks = [early_stopping_callback])"
      ],
      "metadata": {
        "colab": {
          "base_uri": "https://localhost:8080/"
        },
        "id": "RI1v2AuADFhy",
        "outputId": "ea1c9614-728f-41ad-90cf-8d838a4e898b"
      },
      "execution_count": 14,
      "outputs": [
        {
          "output_type": "stream",
          "name": "stdout",
          "text": [
            "Epoch 1/500\n",
            "104/104 [==============================] - 4s 7ms/step - loss: 4.7671 - accuracy: 0.1765 - val_loss: 2.1965 - val_accuracy: 0.1932\n",
            "Epoch 2/500\n",
            "104/104 [==============================] - 0s 4ms/step - loss: 2.7611 - accuracy: 0.1892 - val_loss: 1.7926 - val_accuracy: 0.2512\n",
            "Epoch 3/500\n",
            "104/104 [==============================] - 0s 4ms/step - loss: 2.3014 - accuracy: 0.1850 - val_loss: 1.8609 - val_accuracy: 0.1981\n",
            "Epoch 4/500\n",
            "104/104 [==============================] - 1s 5ms/step - loss: 2.0361 - accuracy: 0.2122 - val_loss: 1.7332 - val_accuracy: 0.2222\n",
            "Epoch 5/500\n",
            "104/104 [==============================] - 0s 4ms/step - loss: 1.9696 - accuracy: 0.2237 - val_loss: 1.7574 - val_accuracy: 0.2367\n",
            "Epoch 6/500\n",
            "104/104 [==============================] - 0s 4ms/step - loss: 1.9128 - accuracy: 0.2237 - val_loss: 1.7147 - val_accuracy: 0.2415\n",
            "Epoch 7/500\n",
            "104/104 [==============================] - 0s 4ms/step - loss: 1.8068 - accuracy: 0.2461 - val_loss: 1.7260 - val_accuracy: 0.2367\n",
            "Epoch 8/500\n",
            "104/104 [==============================] - 0s 4ms/step - loss: 1.8074 - accuracy: 0.2418 - val_loss: 1.6881 - val_accuracy: 0.2609\n",
            "Epoch 9/500\n",
            "104/104 [==============================] - 0s 5ms/step - loss: 1.8056 - accuracy: 0.2467 - val_loss: 1.6970 - val_accuracy: 0.2705\n",
            "Epoch 10/500\n",
            "104/104 [==============================] - 1s 7ms/step - loss: 1.7592 - accuracy: 0.2539 - val_loss: 1.6518 - val_accuracy: 0.2947\n",
            "Epoch 11/500\n",
            "104/104 [==============================] - 1s 7ms/step - loss: 1.7258 - accuracy: 0.2648 - val_loss: 1.6613 - val_accuracy: 0.2802\n",
            "Epoch 12/500\n",
            "104/104 [==============================] - 1s 7ms/step - loss: 1.7049 - accuracy: 0.2944 - val_loss: 1.6462 - val_accuracy: 0.2850\n",
            "Epoch 13/500\n",
            "104/104 [==============================] - 1s 7ms/step - loss: 1.6719 - accuracy: 0.2805 - val_loss: 1.6092 - val_accuracy: 0.3816\n",
            "Epoch 14/500\n",
            "104/104 [==============================] - 1s 7ms/step - loss: 1.6737 - accuracy: 0.2914 - val_loss: 1.6094 - val_accuracy: 0.3043\n",
            "Epoch 15/500\n",
            "104/104 [==============================] - 1s 7ms/step - loss: 1.6519 - accuracy: 0.3029 - val_loss: 1.5904 - val_accuracy: 0.3768\n",
            "Epoch 16/500\n",
            "104/104 [==============================] - 1s 8ms/step - loss: 1.6176 - accuracy: 0.3132 - val_loss: 1.5648 - val_accuracy: 0.4300\n",
            "Epoch 17/500\n",
            "104/104 [==============================] - 1s 6ms/step - loss: 1.6033 - accuracy: 0.3210 - val_loss: 1.5664 - val_accuracy: 0.3575\n",
            "Epoch 18/500\n",
            "104/104 [==============================] - 1s 7ms/step - loss: 1.5860 - accuracy: 0.3440 - val_loss: 1.5343 - val_accuracy: 0.3720\n",
            "Epoch 19/500\n",
            "104/104 [==============================] - 1s 7ms/step - loss: 1.5706 - accuracy: 0.3507 - val_loss: 1.5134 - val_accuracy: 0.3768\n",
            "Epoch 20/500\n",
            "104/104 [==============================] - 1s 7ms/step - loss: 1.5401 - accuracy: 0.3809 - val_loss: 1.5052 - val_accuracy: 0.3913\n",
            "Epoch 21/500\n",
            "104/104 [==============================] - 1s 8ms/step - loss: 1.5171 - accuracy: 0.3761 - val_loss: 1.4661 - val_accuracy: 0.4300\n",
            "Epoch 22/500\n",
            "104/104 [==============================] - 1s 8ms/step - loss: 1.5015 - accuracy: 0.3845 - val_loss: 1.4605 - val_accuracy: 0.4251\n",
            "Epoch 23/500\n",
            "104/104 [==============================] - 1s 8ms/step - loss: 1.4977 - accuracy: 0.3730 - val_loss: 1.4294 - val_accuracy: 0.4348\n",
            "Epoch 24/500\n",
            "104/104 [==============================] - 1s 7ms/step - loss: 1.4544 - accuracy: 0.3894 - val_loss: 1.3973 - val_accuracy: 0.4734\n",
            "Epoch 25/500\n",
            "104/104 [==============================] - 1s 7ms/step - loss: 1.4166 - accuracy: 0.4166 - val_loss: 1.4098 - val_accuracy: 0.4155\n",
            "Epoch 26/500\n",
            "104/104 [==============================] - 1s 8ms/step - loss: 1.3959 - accuracy: 0.4226 - val_loss: 1.3561 - val_accuracy: 0.4734\n",
            "Epoch 27/500\n",
            "104/104 [==============================] - 1s 7ms/step - loss: 1.3940 - accuracy: 0.4117 - val_loss: 1.3821 - val_accuracy: 0.3865\n",
            "Epoch 28/500\n",
            "104/104 [==============================] - 1s 8ms/step - loss: 1.3435 - accuracy: 0.4571 - val_loss: 1.2977 - val_accuracy: 0.5024\n",
            "Epoch 29/500\n",
            "104/104 [==============================] - 1s 8ms/step - loss: 1.3481 - accuracy: 0.4444 - val_loss: 1.2922 - val_accuracy: 0.4831\n",
            "Epoch 30/500\n",
            "104/104 [==============================] - 1s 7ms/step - loss: 1.3217 - accuracy: 0.4613 - val_loss: 1.3014 - val_accuracy: 0.5024\n",
            "Epoch 31/500\n",
            "104/104 [==============================] - 1s 7ms/step - loss: 1.3248 - accuracy: 0.4329 - val_loss: 1.2561 - val_accuracy: 0.4831\n",
            "Epoch 32/500\n",
            "104/104 [==============================] - 1s 8ms/step - loss: 1.2681 - accuracy: 0.4734 - val_loss: 1.2373 - val_accuracy: 0.5072\n",
            "Epoch 33/500\n",
            "104/104 [==============================] - 1s 8ms/step - loss: 1.2213 - accuracy: 0.5115 - val_loss: 1.1973 - val_accuracy: 0.5604\n",
            "Epoch 34/500\n",
            "104/104 [==============================] - 1s 8ms/step - loss: 1.2275 - accuracy: 0.5030 - val_loss: 1.2121 - val_accuracy: 0.5121\n",
            "Epoch 35/500\n",
            "104/104 [==============================] - 1s 8ms/step - loss: 1.2051 - accuracy: 0.5133 - val_loss: 1.2208 - val_accuracy: 0.5024\n",
            "Epoch 36/500\n",
            "104/104 [==============================] - 1s 7ms/step - loss: 1.1884 - accuracy: 0.5036 - val_loss: 1.1146 - val_accuracy: 0.5990\n",
            "Epoch 37/500\n",
            "104/104 [==============================] - 1s 6ms/step - loss: 1.1629 - accuracy: 0.5133 - val_loss: 1.1197 - val_accuracy: 0.6232\n",
            "Epoch 38/500\n",
            "104/104 [==============================] - 1s 6ms/step - loss: 1.1587 - accuracy: 0.5242 - val_loss: 1.1457 - val_accuracy: 0.5362\n",
            "Epoch 39/500\n",
            "104/104 [==============================] - 1s 6ms/step - loss: 1.1295 - accuracy: 0.5393 - val_loss: 1.1080 - val_accuracy: 0.5266\n",
            "Epoch 40/500\n",
            "104/104 [==============================] - 0s 4ms/step - loss: 1.1326 - accuracy: 0.5369 - val_loss: 1.0980 - val_accuracy: 0.5845\n",
            "Epoch 41/500\n",
            "104/104 [==============================] - 0s 4ms/step - loss: 1.0971 - accuracy: 0.5411 - val_loss: 1.0231 - val_accuracy: 0.6232\n",
            "Epoch 42/500\n",
            "104/104 [==============================] - 0s 4ms/step - loss: 1.0902 - accuracy: 0.5568 - val_loss: 1.0018 - val_accuracy: 0.6280\n",
            "Epoch 43/500\n",
            "104/104 [==============================] - 0s 4ms/step - loss: 1.0756 - accuracy: 0.5496 - val_loss: 1.0355 - val_accuracy: 0.5990\n",
            "Epoch 44/500\n",
            "104/104 [==============================] - 0s 4ms/step - loss: 1.0605 - accuracy: 0.5701 - val_loss: 1.0460 - val_accuracy: 0.5652\n",
            "Epoch 45/500\n",
            "104/104 [==============================] - 0s 4ms/step - loss: 1.0280 - accuracy: 0.5756 - val_loss: 1.0412 - val_accuracy: 0.5700\n",
            "Epoch 46/500\n",
            "104/104 [==============================] - 0s 4ms/step - loss: 1.0231 - accuracy: 0.5846 - val_loss: 1.0016 - val_accuracy: 0.6232\n",
            "Epoch 47/500\n",
            "104/104 [==============================] - 0s 4ms/step - loss: 1.0193 - accuracy: 0.5762 - val_loss: 0.9852 - val_accuracy: 0.6039\n",
            "Epoch 48/500\n",
            "104/104 [==============================] - 0s 4ms/step - loss: 1.0210 - accuracy: 0.5816 - val_loss: 1.0151 - val_accuracy: 0.6184\n",
            "Epoch 49/500\n",
            "104/104 [==============================] - 0s 4ms/step - loss: 1.0067 - accuracy: 0.5907 - val_loss: 0.9643 - val_accuracy: 0.6329\n",
            "Epoch 50/500\n",
            "104/104 [==============================] - 0s 4ms/step - loss: 0.9763 - accuracy: 0.5992 - val_loss: 0.9396 - val_accuracy: 0.6618\n",
            "Epoch 51/500\n",
            "104/104 [==============================] - 0s 4ms/step - loss: 0.9883 - accuracy: 0.5961 - val_loss: 0.9685 - val_accuracy: 0.6425\n",
            "Epoch 52/500\n",
            "104/104 [==============================] - 0s 4ms/step - loss: 0.9740 - accuracy: 0.6070 - val_loss: 0.9389 - val_accuracy: 0.6763\n",
            "Epoch 53/500\n",
            "104/104 [==============================] - 0s 4ms/step - loss: 0.9439 - accuracy: 0.6203 - val_loss: 0.9497 - val_accuracy: 0.6135\n",
            "Epoch 54/500\n",
            "104/104 [==============================] - 0s 4ms/step - loss: 0.9892 - accuracy: 0.6010 - val_loss: 0.9645 - val_accuracy: 0.6329\n",
            "Epoch 55/500\n",
            "104/104 [==============================] - 0s 4ms/step - loss: 0.9531 - accuracy: 0.6155 - val_loss: 0.9580 - val_accuracy: 0.6184\n",
            "Epoch 56/500\n",
            "104/104 [==============================] - 0s 4ms/step - loss: 0.9351 - accuracy: 0.6245 - val_loss: 0.8671 - val_accuracy: 0.6860\n",
            "Epoch 57/500\n",
            "104/104 [==============================] - 0s 4ms/step - loss: 0.9102 - accuracy: 0.6360 - val_loss: 0.9174 - val_accuracy: 0.6377\n",
            "Epoch 58/500\n",
            "104/104 [==============================] - 0s 4ms/step - loss: 0.9161 - accuracy: 0.6197 - val_loss: 0.9021 - val_accuracy: 0.6618\n",
            "Epoch 59/500\n",
            "104/104 [==============================] - 0s 4ms/step - loss: 0.8963 - accuracy: 0.6264 - val_loss: 0.8554 - val_accuracy: 0.6812\n",
            "Epoch 60/500\n",
            "104/104 [==============================] - 0s 4ms/step - loss: 0.8707 - accuracy: 0.6403 - val_loss: 0.9032 - val_accuracy: 0.6232\n",
            "Epoch 61/500\n",
            "104/104 [==============================] - 0s 4ms/step - loss: 0.8826 - accuracy: 0.6463 - val_loss: 0.8533 - val_accuracy: 0.6957\n",
            "Epoch 62/500\n",
            "104/104 [==============================] - 0s 4ms/step - loss: 0.8573 - accuracy: 0.6560 - val_loss: 0.9175 - val_accuracy: 0.6473\n",
            "Epoch 63/500\n",
            "104/104 [==============================] - 0s 4ms/step - loss: 0.8820 - accuracy: 0.6421 - val_loss: 0.8779 - val_accuracy: 0.6715\n",
            "Epoch 64/500\n",
            "104/104 [==============================] - 0s 4ms/step - loss: 0.8624 - accuracy: 0.6511 - val_loss: 0.8540 - val_accuracy: 0.6908\n",
            "Epoch 65/500\n",
            "104/104 [==============================] - 0s 4ms/step - loss: 0.8511 - accuracy: 0.6524 - val_loss: 0.8646 - val_accuracy: 0.6377\n",
            "Epoch 66/500\n",
            "104/104 [==============================] - 0s 4ms/step - loss: 0.8457 - accuracy: 0.6626 - val_loss: 0.8900 - val_accuracy: 0.6667\n",
            "Epoch 67/500\n",
            "104/104 [==============================] - 0s 4ms/step - loss: 0.8224 - accuracy: 0.6620 - val_loss: 0.8321 - val_accuracy: 0.6618\n",
            "Epoch 68/500\n",
            "104/104 [==============================] - 0s 4ms/step - loss: 0.8506 - accuracy: 0.6493 - val_loss: 0.8727 - val_accuracy: 0.6957\n",
            "Epoch 69/500\n",
            "104/104 [==============================] - 0s 4ms/step - loss: 0.8494 - accuracy: 0.6693 - val_loss: 0.8431 - val_accuracy: 0.6763\n",
            "Epoch 70/500\n",
            "104/104 [==============================] - 0s 4ms/step - loss: 0.8136 - accuracy: 0.6753 - val_loss: 0.8149 - val_accuracy: 0.6860\n",
            "Epoch 71/500\n",
            "104/104 [==============================] - 0s 4ms/step - loss: 0.8226 - accuracy: 0.6596 - val_loss: 0.8028 - val_accuracy: 0.7053\n",
            "Epoch 72/500\n",
            "104/104 [==============================] - 0s 4ms/step - loss: 0.8094 - accuracy: 0.6814 - val_loss: 0.8739 - val_accuracy: 0.6763\n",
            "Epoch 73/500\n",
            "104/104 [==============================] - 0s 4ms/step - loss: 0.7697 - accuracy: 0.7001 - val_loss: 0.7637 - val_accuracy: 0.7053\n",
            "Epoch 74/500\n",
            "104/104 [==============================] - 0s 4ms/step - loss: 0.7955 - accuracy: 0.6880 - val_loss: 0.8053 - val_accuracy: 0.6618\n",
            "Epoch 75/500\n",
            "104/104 [==============================] - 0s 4ms/step - loss: 0.7677 - accuracy: 0.6953 - val_loss: 0.8047 - val_accuracy: 0.6812\n",
            "Epoch 76/500\n",
            "104/104 [==============================] - 0s 4ms/step - loss: 0.7835 - accuracy: 0.6735 - val_loss: 0.8114 - val_accuracy: 0.6860\n",
            "Epoch 77/500\n",
            "104/104 [==============================] - 0s 4ms/step - loss: 0.7537 - accuracy: 0.7019 - val_loss: 0.7948 - val_accuracy: 0.6812\n",
            "Epoch 78/500\n",
            "104/104 [==============================] - 0s 4ms/step - loss: 0.7442 - accuracy: 0.7037 - val_loss: 0.7918 - val_accuracy: 0.6860\n",
            "Epoch 79/500\n",
            "104/104 [==============================] - 0s 4ms/step - loss: 0.7498 - accuracy: 0.6838 - val_loss: 0.7724 - val_accuracy: 0.7246\n",
            "Epoch 80/500\n",
            "104/104 [==============================] - 0s 4ms/step - loss: 0.7508 - accuracy: 0.7007 - val_loss: 0.7537 - val_accuracy: 0.7295\n",
            "Epoch 81/500\n",
            "104/104 [==============================] - 0s 4ms/step - loss: 0.7480 - accuracy: 0.7001 - val_loss: 0.8033 - val_accuracy: 0.7391\n",
            "Epoch 82/500\n",
            "104/104 [==============================] - 0s 4ms/step - loss: 0.7447 - accuracy: 0.6929 - val_loss: 0.7709 - val_accuracy: 0.7295\n",
            "Epoch 83/500\n",
            "104/104 [==============================] - 0s 4ms/step - loss: 0.7240 - accuracy: 0.7170 - val_loss: 0.8125 - val_accuracy: 0.6763\n",
            "Epoch 84/500\n",
            "104/104 [==============================] - 0s 4ms/step - loss: 0.7108 - accuracy: 0.7128 - val_loss: 0.7572 - val_accuracy: 0.7101\n",
            "Epoch 85/500\n",
            "104/104 [==============================] - 0s 4ms/step - loss: 0.7134 - accuracy: 0.7219 - val_loss: 0.8163 - val_accuracy: 0.6908\n",
            "Epoch 86/500\n",
            "104/104 [==============================] - 0s 4ms/step - loss: 0.7036 - accuracy: 0.7104 - val_loss: 0.7765 - val_accuracy: 0.6812\n",
            "Epoch 87/500\n",
            "104/104 [==============================] - 0s 5ms/step - loss: 0.6918 - accuracy: 0.7219 - val_loss: 0.7451 - val_accuracy: 0.7295\n",
            "Epoch 88/500\n",
            "104/104 [==============================] - 0s 4ms/step - loss: 0.6606 - accuracy: 0.7304 - val_loss: 0.7364 - val_accuracy: 0.7150\n",
            "Epoch 89/500\n",
            "104/104 [==============================] - 0s 4ms/step - loss: 0.6817 - accuracy: 0.7261 - val_loss: 0.7369 - val_accuracy: 0.7343\n",
            "Epoch 90/500\n",
            "104/104 [==============================] - 0s 4ms/step - loss: 0.7081 - accuracy: 0.7152 - val_loss: 0.7481 - val_accuracy: 0.7295\n",
            "Epoch 91/500\n",
            "104/104 [==============================] - 0s 4ms/step - loss: 0.6731 - accuracy: 0.7334 - val_loss: 0.7488 - val_accuracy: 0.7246\n",
            "Epoch 92/500\n",
            "104/104 [==============================] - 0s 4ms/step - loss: 0.6757 - accuracy: 0.7279 - val_loss: 0.7328 - val_accuracy: 0.7440\n",
            "Epoch 93/500\n",
            "104/104 [==============================] - 0s 4ms/step - loss: 0.6783 - accuracy: 0.7370 - val_loss: 0.7290 - val_accuracy: 0.7488\n",
            "Epoch 94/500\n",
            "104/104 [==============================] - 0s 4ms/step - loss: 0.6443 - accuracy: 0.7388 - val_loss: 0.7349 - val_accuracy: 0.7343\n",
            "Epoch 95/500\n",
            "104/104 [==============================] - 0s 5ms/step - loss: 0.6326 - accuracy: 0.7533 - val_loss: 0.7634 - val_accuracy: 0.7440\n",
            "Epoch 96/500\n",
            "104/104 [==============================] - 0s 4ms/step - loss: 0.6519 - accuracy: 0.7479 - val_loss: 0.7257 - val_accuracy: 0.7536\n",
            "Epoch 97/500\n",
            "104/104 [==============================] - 0s 5ms/step - loss: 0.6291 - accuracy: 0.7437 - val_loss: 0.7143 - val_accuracy: 0.7778\n",
            "Epoch 98/500\n",
            "104/104 [==============================] - 0s 4ms/step - loss: 0.6415 - accuracy: 0.7473 - val_loss: 0.7179 - val_accuracy: 0.7536\n",
            "Epoch 99/500\n",
            "104/104 [==============================] - 0s 4ms/step - loss: 0.6410 - accuracy: 0.7479 - val_loss: 0.7457 - val_accuracy: 0.7295\n",
            "Epoch 100/500\n",
            "104/104 [==============================] - 0s 4ms/step - loss: 0.6394 - accuracy: 0.7370 - val_loss: 0.7721 - val_accuracy: 0.7295\n",
            "Epoch 101/500\n",
            "104/104 [==============================] - 0s 4ms/step - loss: 0.6397 - accuracy: 0.7406 - val_loss: 0.7492 - val_accuracy: 0.7536\n",
            "Epoch 102/500\n",
            "104/104 [==============================] - 0s 4ms/step - loss: 0.5973 - accuracy: 0.7551 - val_loss: 0.7433 - val_accuracy: 0.7391\n",
            "Epoch 103/500\n",
            "104/104 [==============================] - 0s 4ms/step - loss: 0.5953 - accuracy: 0.7684 - val_loss: 0.7636 - val_accuracy: 0.7198\n",
            "Epoch 104/500\n",
            "104/104 [==============================] - 0s 4ms/step - loss: 0.6001 - accuracy: 0.7527 - val_loss: 0.7633 - val_accuracy: 0.7343\n",
            "Epoch 105/500\n",
            "104/104 [==============================] - 0s 4ms/step - loss: 0.5844 - accuracy: 0.7709 - val_loss: 0.6844 - val_accuracy: 0.7681\n",
            "Epoch 106/500\n",
            "104/104 [==============================] - 0s 4ms/step - loss: 0.5823 - accuracy: 0.7654 - val_loss: 0.7248 - val_accuracy: 0.7343\n",
            "Epoch 107/500\n",
            "104/104 [==============================] - 0s 4ms/step - loss: 0.5789 - accuracy: 0.7678 - val_loss: 0.7309 - val_accuracy: 0.7343\n",
            "Epoch 108/500\n",
            "104/104 [==============================] - 0s 4ms/step - loss: 0.5812 - accuracy: 0.7745 - val_loss: 0.7297 - val_accuracy: 0.7391\n",
            "Epoch 109/500\n",
            "104/104 [==============================] - 0s 4ms/step - loss: 0.5772 - accuracy: 0.7703 - val_loss: 0.7057 - val_accuracy: 0.7633\n",
            "Epoch 110/500\n",
            "104/104 [==============================] - 0s 4ms/step - loss: 0.5814 - accuracy: 0.7733 - val_loss: 0.6818 - val_accuracy: 0.7198\n",
            "Epoch 111/500\n",
            "104/104 [==============================] - 0s 4ms/step - loss: 0.5617 - accuracy: 0.7775 - val_loss: 0.6846 - val_accuracy: 0.7729\n",
            "Epoch 112/500\n",
            "104/104 [==============================] - 0s 4ms/step - loss: 0.5357 - accuracy: 0.7950 - val_loss: 0.7008 - val_accuracy: 0.7633\n",
            "Epoch 113/500\n",
            "104/104 [==============================] - 0s 4ms/step - loss: 0.5487 - accuracy: 0.7878 - val_loss: 0.6820 - val_accuracy: 0.7681\n",
            "Epoch 114/500\n",
            "104/104 [==============================] - 0s 4ms/step - loss: 0.5289 - accuracy: 0.8041 - val_loss: 0.6825 - val_accuracy: 0.7488\n",
            "Epoch 115/500\n",
            "104/104 [==============================] - 0s 4ms/step - loss: 0.5654 - accuracy: 0.7775 - val_loss: 0.6693 - val_accuracy: 0.7488\n",
            "Epoch 116/500\n",
            "104/104 [==============================] - 0s 4ms/step - loss: 0.5435 - accuracy: 0.7817 - val_loss: 0.6785 - val_accuracy: 0.7585\n",
            "Epoch 117/500\n",
            "104/104 [==============================] - 0s 4ms/step - loss: 0.5292 - accuracy: 0.7920 - val_loss: 0.7305 - val_accuracy: 0.7198\n",
            "Epoch 118/500\n",
            "104/104 [==============================] - 0s 4ms/step - loss: 0.5032 - accuracy: 0.8017 - val_loss: 0.6923 - val_accuracy: 0.7778\n",
            "Epoch 119/500\n",
            "104/104 [==============================] - 0s 4ms/step - loss: 0.5218 - accuracy: 0.8047 - val_loss: 0.7026 - val_accuracy: 0.7585\n",
            "Epoch 120/500\n",
            "104/104 [==============================] - 0s 5ms/step - loss: 0.5206 - accuracy: 0.7926 - val_loss: 0.6999 - val_accuracy: 0.7440\n",
            "Epoch 121/500\n",
            "104/104 [==============================] - 0s 4ms/step - loss: 0.5210 - accuracy: 0.7926 - val_loss: 0.6483 - val_accuracy: 0.7633\n",
            "Epoch 122/500\n",
            "104/104 [==============================] - 0s 4ms/step - loss: 0.4915 - accuracy: 0.8102 - val_loss: 0.6724 - val_accuracy: 0.7681\n",
            "Epoch 123/500\n",
            "104/104 [==============================] - 0s 4ms/step - loss: 0.4803 - accuracy: 0.8047 - val_loss: 0.7093 - val_accuracy: 0.7681\n",
            "Epoch 124/500\n",
            "104/104 [==============================] - 0s 5ms/step - loss: 0.4913 - accuracy: 0.8108 - val_loss: 0.6773 - val_accuracy: 0.7681\n",
            "Epoch 125/500\n",
            "104/104 [==============================] - 0s 4ms/step - loss: 0.4988 - accuracy: 0.8071 - val_loss: 0.6677 - val_accuracy: 0.7729\n",
            "Epoch 126/500\n",
            "104/104 [==============================] - 0s 5ms/step - loss: 0.4869 - accuracy: 0.8077 - val_loss: 0.6665 - val_accuracy: 0.7729\n",
            "Epoch 127/500\n",
            "104/104 [==============================] - 0s 4ms/step - loss: 0.4493 - accuracy: 0.8229 - val_loss: 0.7107 - val_accuracy: 0.7585\n",
            "Epoch 128/500\n",
            "104/104 [==============================] - 0s 4ms/step - loss: 0.4653 - accuracy: 0.8174 - val_loss: 0.6560 - val_accuracy: 0.7729\n",
            "Epoch 129/500\n",
            "104/104 [==============================] - 0s 4ms/step - loss: 0.4448 - accuracy: 0.8259 - val_loss: 0.6596 - val_accuracy: 0.7826\n",
            "Epoch 130/500\n",
            "104/104 [==============================] - 0s 4ms/step - loss: 0.4443 - accuracy: 0.8307 - val_loss: 0.6804 - val_accuracy: 0.7681\n",
            "Epoch 131/500\n",
            "104/104 [==============================] - 0s 4ms/step - loss: 0.4675 - accuracy: 0.8229 - val_loss: 0.6926 - val_accuracy: 0.7295\n",
            "Epoch 132/500\n",
            "104/104 [==============================] - 0s 5ms/step - loss: 0.4603 - accuracy: 0.8168 - val_loss: 0.6856 - val_accuracy: 0.7633\n",
            "Epoch 133/500\n",
            "104/104 [==============================] - 0s 5ms/step - loss: 0.4553 - accuracy: 0.8222 - val_loss: 0.6520 - val_accuracy: 0.7874\n",
            "Epoch 134/500\n",
            "104/104 [==============================] - 0s 4ms/step - loss: 0.4398 - accuracy: 0.8295 - val_loss: 0.6547 - val_accuracy: 0.7681\n",
            "Epoch 135/500\n",
            "104/104 [==============================] - 0s 5ms/step - loss: 0.4497 - accuracy: 0.8319 - val_loss: 0.6723 - val_accuracy: 0.7633\n",
            "Epoch 136/500\n",
            "104/104 [==============================] - 0s 4ms/step - loss: 0.4391 - accuracy: 0.8307 - val_loss: 0.6814 - val_accuracy: 0.7681\n",
            "Epoch 137/500\n",
            "104/104 [==============================] - 0s 4ms/step - loss: 0.4259 - accuracy: 0.8337 - val_loss: 0.6872 - val_accuracy: 0.7874\n",
            "Epoch 138/500\n",
            "104/104 [==============================] - 0s 4ms/step - loss: 0.4301 - accuracy: 0.8422 - val_loss: 0.7182 - val_accuracy: 0.7440\n",
            "Epoch 139/500\n",
            "104/104 [==============================] - 0s 4ms/step - loss: 0.4169 - accuracy: 0.8404 - val_loss: 0.6565 - val_accuracy: 0.7488\n",
            "Epoch 140/500\n",
            "104/104 [==============================] - 0s 4ms/step - loss: 0.3818 - accuracy: 0.8603 - val_loss: 0.6842 - val_accuracy: 0.7874\n",
            "Epoch 141/500\n",
            "104/104 [==============================] - 0s 4ms/step - loss: 0.4190 - accuracy: 0.8422 - val_loss: 0.6479 - val_accuracy: 0.7874\n",
            "Epoch 142/500\n",
            "104/104 [==============================] - 0s 4ms/step - loss: 0.4197 - accuracy: 0.8325 - val_loss: 0.6677 - val_accuracy: 0.7874\n",
            "Epoch 143/500\n",
            "104/104 [==============================] - 0s 4ms/step - loss: 0.3894 - accuracy: 0.8501 - val_loss: 0.6402 - val_accuracy: 0.7729\n",
            "Epoch 144/500\n",
            "104/104 [==============================] - 0s 5ms/step - loss: 0.4233 - accuracy: 0.8476 - val_loss: 0.6927 - val_accuracy: 0.7729\n",
            "Epoch 145/500\n",
            "104/104 [==============================] - 0s 4ms/step - loss: 0.3710 - accuracy: 0.8537 - val_loss: 0.6534 - val_accuracy: 0.7874\n",
            "Epoch 146/500\n",
            "104/104 [==============================] - 0s 5ms/step - loss: 0.3798 - accuracy: 0.8482 - val_loss: 0.7092 - val_accuracy: 0.7536\n",
            "Epoch 147/500\n",
            "104/104 [==============================] - 0s 4ms/step - loss: 0.3993 - accuracy: 0.8531 - val_loss: 0.7234 - val_accuracy: 0.7246\n",
            "Epoch 148/500\n",
            "104/104 [==============================] - 0s 4ms/step - loss: 0.4127 - accuracy: 0.8343 - val_loss: 0.6614 - val_accuracy: 0.7729\n",
            "Epoch 149/500\n",
            "104/104 [==============================] - 0s 4ms/step - loss: 0.3813 - accuracy: 0.8591 - val_loss: 0.6258 - val_accuracy: 0.7971\n",
            "Epoch 150/500\n",
            "104/104 [==============================] - 0s 4ms/step - loss: 0.3768 - accuracy: 0.8561 - val_loss: 0.6153 - val_accuracy: 0.7923\n",
            "Epoch 151/500\n",
            "104/104 [==============================] - 0s 4ms/step - loss: 0.3583 - accuracy: 0.8591 - val_loss: 0.6615 - val_accuracy: 0.7778\n",
            "Epoch 152/500\n",
            "104/104 [==============================] - 0s 4ms/step - loss: 0.3854 - accuracy: 0.8495 - val_loss: 0.6377 - val_accuracy: 0.7826\n",
            "Epoch 153/500\n",
            "104/104 [==============================] - 0s 4ms/step - loss: 0.3712 - accuracy: 0.8609 - val_loss: 0.6383 - val_accuracy: 0.7971\n",
            "Epoch 154/500\n",
            "104/104 [==============================] - 0s 4ms/step - loss: 0.3487 - accuracy: 0.8676 - val_loss: 0.6381 - val_accuracy: 0.7633\n",
            "Epoch 155/500\n",
            "104/104 [==============================] - 0s 4ms/step - loss: 0.3669 - accuracy: 0.8622 - val_loss: 0.6264 - val_accuracy: 0.7874\n",
            "Epoch 156/500\n",
            "104/104 [==============================] - 0s 4ms/step - loss: 0.3285 - accuracy: 0.8851 - val_loss: 0.6589 - val_accuracy: 0.7826\n",
            "Epoch 157/500\n",
            "104/104 [==============================] - 0s 4ms/step - loss: 0.3586 - accuracy: 0.8573 - val_loss: 0.6839 - val_accuracy: 0.7729\n",
            "Epoch 158/500\n",
            "104/104 [==============================] - 0s 4ms/step - loss: 0.3616 - accuracy: 0.8640 - val_loss: 0.7270 - val_accuracy: 0.7246\n",
            "Epoch 159/500\n",
            "104/104 [==============================] - 0s 4ms/step - loss: 0.3561 - accuracy: 0.8615 - val_loss: 0.6366 - val_accuracy: 0.7778\n",
            "Epoch 160/500\n",
            "104/104 [==============================] - 0s 4ms/step - loss: 0.3483 - accuracy: 0.8640 - val_loss: 0.7081 - val_accuracy: 0.7343\n",
            "Epoch 161/500\n",
            "104/104 [==============================] - 0s 5ms/step - loss: 0.3463 - accuracy: 0.8652 - val_loss: 0.6770 - val_accuracy: 0.7585\n",
            "Epoch 162/500\n",
            "104/104 [==============================] - 0s 5ms/step - loss: 0.3485 - accuracy: 0.8682 - val_loss: 0.6962 - val_accuracy: 0.7971\n",
            "Epoch 163/500\n",
            "104/104 [==============================] - 0s 4ms/step - loss: 0.3359 - accuracy: 0.8773 - val_loss: 0.6544 - val_accuracy: 0.7826\n",
            "Epoch 164/500\n",
            "104/104 [==============================] - 1s 6ms/step - loss: 0.3371 - accuracy: 0.8718 - val_loss: 0.6489 - val_accuracy: 0.7681\n",
            "Epoch 165/500\n",
            "104/104 [==============================] - 1s 8ms/step - loss: 0.3393 - accuracy: 0.8688 - val_loss: 0.6563 - val_accuracy: 0.7874\n",
            "Epoch 166/500\n",
            "104/104 [==============================] - 1s 7ms/step - loss: 0.3648 - accuracy: 0.8615 - val_loss: 0.6850 - val_accuracy: 0.7488\n",
            "Epoch 167/500\n",
            "104/104 [==============================] - 1s 7ms/step - loss: 0.3627 - accuracy: 0.8676 - val_loss: 0.6505 - val_accuracy: 0.7681\n",
            "Epoch 168/500\n",
            "104/104 [==============================] - 1s 7ms/step - loss: 0.3149 - accuracy: 0.8748 - val_loss: 0.6897 - val_accuracy: 0.7729\n",
            "Epoch 169/500\n",
            "104/104 [==============================] - 1s 6ms/step - loss: 0.2909 - accuracy: 0.8966 - val_loss: 0.7217 - val_accuracy: 0.7536\n",
            "Epoch 170/500\n",
            "104/104 [==============================] - 0s 4ms/step - loss: 0.3351 - accuracy: 0.8767 - val_loss: 0.6327 - val_accuracy: 0.7633\n",
            "Epoch 171/500\n",
            "104/104 [==============================] - 0s 4ms/step - loss: 0.3362 - accuracy: 0.8724 - val_loss: 0.6458 - val_accuracy: 0.7729\n",
            "Epoch 172/500\n",
            "104/104 [==============================] - 0s 4ms/step - loss: 0.3023 - accuracy: 0.8815 - val_loss: 0.6692 - val_accuracy: 0.7971\n",
            "Epoch 173/500\n",
            "104/104 [==============================] - 0s 5ms/step - loss: 0.2819 - accuracy: 0.8894 - val_loss: 0.6382 - val_accuracy: 0.7729\n",
            "Epoch 174/500\n",
            "104/104 [==============================] - 0s 5ms/step - loss: 0.3098 - accuracy: 0.8906 - val_loss: 0.6457 - val_accuracy: 0.7874\n",
            "Epoch 175/500\n",
            "104/104 [==============================] - 0s 4ms/step - loss: 0.2855 - accuracy: 0.8924 - val_loss: 0.6369 - val_accuracy: 0.7971\n"
          ]
        }
      ]
    },
    {
      "cell_type": "code",
      "source": [
        "plt.plot(cnnhistory.history['loss'])\n",
        "plt.plot(cnnhistory.history['val_loss'])\n",
        "plt.title('model loss')\n",
        "plt.ylabel('loss')\n",
        "plt.xlabel('epoch')\n",
        "plt.legend(['train','test'], loc='upper left')\n",
        "plt.show()"
      ],
      "metadata": {
        "colab": {
          "base_uri": "https://localhost:8080/",
          "height": 295
        },
        "id": "oQYnuaCrDH_A",
        "outputId": "1999e589-eeb5-461e-c764-ec95d3bd192f"
      },
      "execution_count": 15,
      "outputs": [
        {
          "output_type": "display_data",
          "data": {
            "text/plain": [
              "<Figure size 432x288 with 1 Axes>"
            ],
            "image/png": "[encoded data removed]"
          },
          "metadata": {
            "needs_background": "light"
          }
        }
      ]
    },
    {
      "cell_type": "code",
      "source": [
        "plt.plot(cnnhistory.history['accuracy'])\n",
        "plt.plot(cnnhistory.history['val_accuracy'])\n",
        "plt.title('model accuracy')\n",
        "plt.ylabel('accuracy')\n",
        "plt.xlabel('epoch')\n",
        "plt.legend(['train','test'], loc='upper left')\n",
        "plt.show()"
      ],
      "metadata": {
        "colab": {
          "base_uri": "https://localhost:8080/",
          "height": 295
        },
        "id": "IFkTuO8nDNdq",
        "outputId": "30c730bc-40ef-4d1a-f326-d6dcfc9cf4ac"
      },
      "execution_count": 16,
      "outputs": [
        {
          "output_type": "display_data",
          "data": {
            "text/plain": [
              "<Figure size 432x288 with 1 Axes>"
            ],
            "image/png": "[encoded data removed]"
          },
          "metadata": {
            "needs_background": "light"
          }
        }
      ]
    },
    {
      "cell_type": "code",
      "source": [
        "predictions = model.predict(x_testcnn)"
      ],
      "metadata": {
        "id": "A2xtrN5wDQgY"
      },
      "execution_count": 17,
      "outputs": []
    },
    {
      "cell_type": "code",
      "source": [
        "predictions"
      ],
      "metadata": {
        "colab": {
          "base_uri": "https://localhost:8080/"
        },
        "id": "_f_ohjXKDUpY",
        "outputId": "0249f575-541c-45d8-f8af-b9cbbbba0974"
      },
      "execution_count": 18,
      "outputs": [
        {
          "output_type": "execute_result",
          "data": {
            "text/plain": [
              "array([[1.7931643e-01, 6.3463539e-02, 3.1576678e-01, 3.3441383e-01,\n",
              "        6.0796533e-02, 4.6242863e-02],\n",
              "       [4.1017979e-06, 7.5671704e-07, 1.6485896e-07, 9.3994892e-01,\n",
              "        8.4123349e-05, 5.9962038e-02],\n",
              "       [2.1981752e-01, 7.0117116e-02, 2.5472710e-02, 4.7458839e-01,\n",
              "        2.7869064e-02, 1.8213528e-01],\n",
              "       ...,\n",
              "       [3.2317421e-05, 9.1131341e-07, 1.0027853e-03, 3.7636457e-04,\n",
              "        9.6189761e-01, 3.6690075e-02],\n",
              "       [1.4851891e-04, 5.7578504e-01, 4.1311887e-01, 3.2724212e-03,\n",
              "        6.3104220e-05, 7.6120123e-03],\n",
              "       [1.9034233e-06, 8.6886111e-08, 3.4616445e-03, 8.4556459e-06,\n",
              "        9.9607217e-01, 4.5576508e-04]], dtype=float32)"
            ]
          },
          "metadata": {},
          "execution_count": 18
        }
      ]
    },
    {
      "cell_type": "code",
      "source": [
        "y_test"
      ],
      "metadata": {
        "colab": {
          "base_uri": "https://localhost:8080/"
        },
        "id": "cmA2bFgsDW3D",
        "outputId": "897da1d4-0ef6-4c4f-c0ea-86559ee400c4"
      },
      "execution_count": 19,
      "outputs": [
        {
          "output_type": "execute_result",
          "data": {
            "text/plain": [
              "array([3, 3, 3, 0, 4, 4, 1, 2, 5, 0, 5, 3, 2, 2, 1, 4, 4, 5, 2, 4, 1, 2,\n",
              "       3, 5, 4, 2, 1, 2, 2, 2, 2, 5, 2, 5, 3, 1, 2, 0, 4, 5, 2, 3, 2, 2,\n",
              "       5, 2, 0, 1, 3, 4, 4, 5, 1, 1, 4, 4, 5, 1, 1, 1, 0, 1, 5, 0, 4, 1,\n",
              "       1, 0, 1, 4, 1, 0, 4, 1, 3, 1, 2, 2, 1, 2, 3, 0, 5, 3, 5, 5, 2, 4,\n",
              "       5, 1, 5, 1, 5, 3, 4, 1, 4, 1, 5, 4, 5, 1, 2, 1, 1, 5, 1, 3, 2, 5,\n",
              "       2, 1, 3, 5, 4, 4, 0, 0, 3, 1, 2, 2, 3, 5, 1, 5, 3, 4, 2, 2, 0, 2,\n",
              "       2, 5, 5, 0, 3, 3, 2, 2, 0, 3, 4, 0, 4, 2, 4, 5, 4, 1, 5, 3, 2, 2,\n",
              "       5, 4, 3, 3, 4, 3, 3, 4, 1, 5, 2, 3, 2, 2, 0, 2, 1, 3, 1, 2, 2, 5,\n",
              "       5, 1, 4, 2, 2, 1, 1, 3, 3, 5, 5, 2, 5, 1, 5, 0, 3, 3, 0, 5, 1, 4,\n",
              "       1, 4, 2, 5, 5, 1, 4, 2, 4])"
            ]
          },
          "metadata": {},
          "execution_count": 19
        }
      ]
    },
    {
      "cell_type": "code",
      "source": [
        "new_Ytest = y_test.astype(int)"
      ],
      "metadata": {
        "id": "0PHDKWJWDY3g"
      },
      "execution_count": 20,
      "outputs": []
    },
    {
      "cell_type": "code",
      "source": [
        "new_Ytest"
      ],
      "metadata": {
        "colab": {
          "base_uri": "https://localhost:8080/"
        },
        "id": "k68v2i-pDbZE",
        "outputId": "1dbc7cf9-8102-41e3-8aa5-05ebce76edf3"
      },
      "execution_count": 21,
      "outputs": [
        {
          "output_type": "execute_result",
          "data": {
            "text/plain": [
              "array([3, 3, 3, 0, 4, 4, 1, 2, 5, 0, 5, 3, 2, 2, 1, 4, 4, 5, 2, 4, 1, 2,\n",
              "       3, 5, 4, 2, 1, 2, 2, 2, 2, 5, 2, 5, 3, 1, 2, 0, 4, 5, 2, 3, 2, 2,\n",
              "       5, 2, 0, 1, 3, 4, 4, 5, 1, 1, 4, 4, 5, 1, 1, 1, 0, 1, 5, 0, 4, 1,\n",
              "       1, 0, 1, 4, 1, 0, 4, 1, 3, 1, 2, 2, 1, 2, 3, 0, 5, 3, 5, 5, 2, 4,\n",
              "       5, 1, 5, 1, 5, 3, 4, 1, 4, 1, 5, 4, 5, 1, 2, 1, 1, 5, 1, 3, 2, 5,\n",
              "       2, 1, 3, 5, 4, 4, 0, 0, 3, 1, 2, 2, 3, 5, 1, 5, 3, 4, 2, 2, 0, 2,\n",
              "       2, 5, 5, 0, 3, 3, 2, 2, 0, 3, 4, 0, 4, 2, 4, 5, 4, 1, 5, 3, 2, 2,\n",
              "       5, 4, 3, 3, 4, 3, 3, 4, 1, 5, 2, 3, 2, 2, 0, 2, 1, 3, 1, 2, 2, 5,\n",
              "       5, 1, 4, 2, 2, 1, 1, 3, 3, 5, 5, 2, 5, 1, 5, 0, 3, 3, 0, 5, 1, 4,\n",
              "       1, 4, 2, 5, 5, 1, 4, 2, 4])"
            ]
          },
          "metadata": {},
          "execution_count": 21
        }
      ]
    },
    {
      "cell_type": "code",
      "source": [
        "preds1=predictions.argmax(axis=1)\n",
        "preds1"
      ],
      "metadata": {
        "colab": {
          "base_uri": "https://localhost:8080/"
        },
        "id": "4_cAI39VFhtp",
        "outputId": "88a10aad-e69b-4ad4-a2af-63ab437f1f9e"
      },
      "execution_count": 22,
      "outputs": [
        {
          "output_type": "execute_result",
          "data": {
            "text/plain": [
              "array([3, 3, 3, 2, 4, 4, 1, 2, 5, 2, 5, 3, 2, 2, 1, 4, 4, 3, 3, 4, 2, 2,\n",
              "       3, 3, 5, 2, 1, 2, 2, 2, 2, 5, 2, 5, 3, 1, 2, 0, 4, 5, 2, 3, 2, 2,\n",
              "       3, 2, 1, 1, 3, 4, 4, 2, 1, 1, 4, 4, 5, 1, 1, 1, 3, 1, 2, 1, 4, 1,\n",
              "       1, 1, 1, 4, 0, 2, 4, 1, 5, 3, 2, 2, 1, 3, 1, 0, 5, 3, 5, 2, 2, 5,\n",
              "       3, 1, 3, 1, 5, 3, 2, 2, 4, 3, 5, 4, 5, 1, 5, 1, 1, 5, 1, 5, 2, 2,\n",
              "       3, 3, 3, 5, 4, 4, 3, 0, 3, 3, 1, 2, 1, 3, 1, 3, 3, 3, 2, 2, 0, 2,\n",
              "       2, 3, 3, 0, 3, 3, 2, 4, 0, 3, 4, 0, 4, 4, 4, 2, 4, 1, 5, 3, 2, 2,\n",
              "       5, 2, 3, 3, 4, 3, 3, 4, 1, 5, 2, 3, 2, 2, 0, 2, 1, 3, 1, 2, 2, 3,\n",
              "       5, 1, 4, 2, 2, 1, 1, 3, 3, 5, 5, 2, 5, 1, 2, 1, 3, 3, 2, 5, 1, 4,\n",
              "       1, 3, 3, 2, 5, 3, 4, 1, 4])"
            ]
          },
          "metadata": {},
          "execution_count": 22
        }
      ]
    },
    {
      "cell_type": "code",
      "source": [
        "abc = preds1.astype(int).flatten()"
      ],
      "metadata": {
        "id": "H4WEmM60NfQn"
      },
      "execution_count": 23,
      "outputs": []
    },
    {
      "cell_type": "code",
      "source": [
        "from sklearn.metrics import confusion_matrix\n",
        "c = confusion_matrix(new_Ytest, abc) \n",
        "c"
      ],
      "metadata": {
        "colab": {
          "base_uri": "https://localhost:8080/"
        },
        "id": "bKEBeEBlFjB8",
        "outputId": "c0b03a59-42cc-4d11-8c68-5d72b1e7bc16"
      },
      "execution_count": 24,
      "outputs": [
        {
          "output_type": "execute_result",
          "data": {
            "text/plain": [
              "array([[ 8,  4,  4,  2,  0,  0],\n",
              "       [ 1, 33,  2,  5,  0,  0],\n",
              "       [ 0,  2, 36,  4,  2,  1],\n",
              "       [ 0,  2,  0, 27,  0,  2],\n",
              "       [ 0,  0,  2,  2, 27,  2],\n",
              "       [ 0,  0,  7, 10,  0, 22]])"
            ]
          },
          "metadata": {},
          "execution_count": 24
        }
      ]
    },
    {
      "cell_type": "code",
      "source": [
        "y_test"
      ],
      "metadata": {
        "colab": {
          "base_uri": "https://localhost:8080/"
        },
        "id": "m4RjG7LWLSQx",
        "outputId": "ceebfec7-61f0-4f49-c083-28707882c0ec"
      },
      "execution_count": 25,
      "outputs": [
        {
          "output_type": "execute_result",
          "data": {
            "text/plain": [
              "array([3, 3, 3, 0, 4, 4, 1, 2, 5, 0, 5, 3, 2, 2, 1, 4, 4, 5, 2, 4, 1, 2,\n",
              "       3, 5, 4, 2, 1, 2, 2, 2, 2, 5, 2, 5, 3, 1, 2, 0, 4, 5, 2, 3, 2, 2,\n",
              "       5, 2, 0, 1, 3, 4, 4, 5, 1, 1, 4, 4, 5, 1, 1, 1, 0, 1, 5, 0, 4, 1,\n",
              "       1, 0, 1, 4, 1, 0, 4, 1, 3, 1, 2, 2, 1, 2, 3, 0, 5, 3, 5, 5, 2, 4,\n",
              "       5, 1, 5, 1, 5, 3, 4, 1, 4, 1, 5, 4, 5, 1, 2, 1, 1, 5, 1, 3, 2, 5,\n",
              "       2, 1, 3, 5, 4, 4, 0, 0, 3, 1, 2, 2, 3, 5, 1, 5, 3, 4, 2, 2, 0, 2,\n",
              "       2, 5, 5, 0, 3, 3, 2, 2, 0, 3, 4, 0, 4, 2, 4, 5, 4, 1, 5, 3, 2, 2,\n",
              "       5, 4, 3, 3, 4, 3, 3, 4, 1, 5, 2, 3, 2, 2, 0, 2, 1, 3, 1, 2, 2, 5,\n",
              "       5, 1, 4, 2, 2, 1, 1, 3, 3, 5, 5, 2, 5, 1, 5, 0, 3, 3, 0, 5, 1, 4,\n",
              "       1, 4, 2, 5, 5, 1, 4, 2, 4])"
            ]
          },
          "metadata": {},
          "execution_count": 25
        }
      ]
    },
    {
      "cell_type": "code",
      "source": [
        "loss, acc =model.evaluate(x_testcnn, y_test)\n",
        "print(\"Restored model, accuracy: {:5.2f}%\".format(100*acc))"
      ],
      "metadata": {
        "colab": {
          "base_uri": "https://localhost:8080/"
        },
        "id": "n3kzoqPkDqqS",
        "outputId": "61ed08b7-5a9e-47c0-88a1-2f4c6ff59706"
      },
      "execution_count": 26,
      "outputs": [
        {
          "output_type": "stream",
          "name": "stdout",
          "text": [
            "7/7 [==============================] - 0s 3ms/step - loss: 0.6166 - accuracy: 0.7391\n",
            "Restored model, accuracy: 73.91%\n"
          ]
        }
      ]
    },
    {
      "cell_type": "code",
      "source": [
        "loss, acc =model.evaluate(X_train, y_train)\n",
        "print(\"Restored model train, accuracy: {:5.2f}%\".format(100*acc))"
      ],
      "metadata": {
        "id": "fJDTGH_OUX0z",
        "colab": {
          "base_uri": "https://localhost:8080/"
        },
        "outputId": "0f995833-0b7f-42fb-dc68-0bca57a39644"
      },
      "execution_count": 27,
      "outputs": [
        {
          "output_type": "stream",
          "name": "stdout",
          "text": [
            "52/52 [==============================] - 0s 4ms/step - loss: 0.2555 - accuracy: 0.9510\n",
            "Restored model train, accuracy: 95.10%\n"
          ]
        }
      ]
    },
    {
      "cell_type": "code",
      "source": [
        "from sklearn.metrics import classification_report, confusion_matrix,accuracy_score\n",
        "import seaborn as sn\n",
        "\n",
        "print(classification_report(new_Ytest,abc))\n",
        "\n",
        "acc = float(accuracy_score(new_Ytest,abc))*100\n",
        "print(\"----accuracy score %s ----\" % acc)\n",
        "\n",
        "cm = confusion_matrix(new_Ytest,abc)\n",
        "#df_cm = pd.DataFrame(cm)\n",
        "class_names = ['neutral','calm', 'happy','sad','angry', 'fearful' ]\n",
        "df_cm = pd.DataFrame(cm, index=class_names, columns=class_names,)\n",
        "sn.heatmap(df_cm, annot=True, fmt='')\n",
        "plt.show()"
      ],
      "metadata": {
        "colab": {
          "base_uri": "https://localhost:8080/",
          "height": 508
        },
        "id": "SfSC3El94LZg",
        "outputId": "cd85f8bb-afb7-48d3-962c-9b08d58001c7"
      },
      "execution_count": 28,
      "outputs": [
        {
          "output_type": "stream",
          "name": "stdout",
          "text": [
            "              precision    recall  f1-score   support\n",
            "\n",
            "           0       0.89      0.44      0.59        18\n",
            "           1       0.80      0.80      0.80        41\n",
            "           2       0.71      0.80      0.75        45\n",
            "           3       0.54      0.87      0.67        31\n",
            "           4       0.93      0.82      0.87        33\n",
            "           5       0.81      0.56      0.67        39\n",
            "\n",
            "    accuracy                           0.74       207\n",
            "   macro avg       0.78      0.72      0.73       207\n",
            "weighted avg       0.77      0.74      0.74       207\n",
            "\n",
            "----accuracy score 73.91304347826086 ----\n"
          ]
        },
        {
          "output_type": "display_data",
          "data": {
            "text/plain": [
              "<Figure size 432x288 with 2 Axes>"
            ],
            "image/png": "[encoded data removed]"
          },
          "metadata": {
            "needs_background": "light"
          }
        }
      ]
    }
  ]
}