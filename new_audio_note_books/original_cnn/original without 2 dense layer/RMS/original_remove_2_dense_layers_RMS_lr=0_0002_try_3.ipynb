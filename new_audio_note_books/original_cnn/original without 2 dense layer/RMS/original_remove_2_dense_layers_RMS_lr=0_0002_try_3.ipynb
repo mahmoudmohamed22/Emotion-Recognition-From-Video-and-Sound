{
  "nbformat": 4,
  "nbformat_minor": 0,
  "metadata": {
    "colab": {
      "name": "original remove 2 dense layers RMS lr=0.0002 try 3.ipynb",
      "provenance": [],
      "collapsed_sections": []
    },
    "kernelspec": {
      "name": "python3",
      "display_name": "Python 3"
    },
    "language_info": {
      "name": "python"
    },
    "accelerator": "GPU"
  },
  "cells": [
    {
      "cell_type": "code",
      "execution_count": 1,
      "metadata": {
        "colab": {
          "base_uri": "https://localhost:8080/"
        },
        "id": "9SRCO-a_AlH5",
        "outputId": "a457af2b-b2cf-4283-a7ef-829bb16aa504"
      },
      "outputs": [
        {
          "output_type": "stream",
          "name": "stdout",
          "text": [
            "Drive already mounted at /content/drive; to attempt to forcibly remount, call drive.mount(\"/content/drive\", force_remount=True).\n"
          ]
        }
      ],
      "source": [
        "from google.colab import drive\n",
        "drive.mount('/content/drive')"
      ]
    },
    {
      "cell_type": "code",
      "source": [
        "!pip install librosa"
      ],
      "metadata": {
        "colab": {
          "base_uri": "https://localhost:8080/"
        },
        "id": "5Lo4mUwG9RMd",
        "outputId": "f976ef71-efec-4717-88c8-72755524d464"
      },
      "execution_count": 2,
      "outputs": [
        {
          "output_type": "stream",
          "name": "stdout",
          "text": [
            "Looking in indexes: https://pypi.org/simple, https://us-python.pkg.dev/colab-wheels/public/simple/\n",
            "Requirement already satisfied: librosa in /usr/local/lib/python3.7/dist-packages (0.8.1)\n",
            "Requirement already satisfied: audioread>=2.0.0 in /usr/local/lib/python3.7/dist-packages (from librosa) (2.1.9)\n",
            "Requirement already satisfied: scikit-learn!=0.19.0,>=0.14.0 in /usr/local/lib/python3.7/dist-packages (from librosa) (1.0.2)\n",
            "Requirement already satisfied: soundfile>=0.10.2 in /usr/local/lib/python3.7/dist-packages (from librosa) (0.10.3.post1)\n",
            "Requirement already satisfied: scipy>=1.0.0 in /usr/local/lib/python3.7/dist-packages (from librosa) (1.4.1)\n",
            "Requirement already satisfied: numba>=0.43.0 in /usr/local/lib/python3.7/dist-packages (from librosa) (0.51.2)\n",
            "Requirement already satisfied: joblib>=0.14 in /usr/local/lib/python3.7/dist-packages (from librosa) (1.1.0)\n",
            "Requirement already satisfied: decorator>=3.0.0 in /usr/local/lib/python3.7/dist-packages (from librosa) (4.4.2)\n",
            "Requirement already satisfied: pooch>=1.0 in /usr/local/lib/python3.7/dist-packages (from librosa) (1.6.0)\n",
            "Requirement already satisfied: packaging>=20.0 in /usr/local/lib/python3.7/dist-packages (from librosa) (21.3)\n",
            "Requirement already satisfied: numpy>=1.15.0 in /usr/local/lib/python3.7/dist-packages (from librosa) (1.21.6)\n",
            "Requirement already satisfied: resampy>=0.2.2 in /usr/local/lib/python3.7/dist-packages (from librosa) (0.2.2)\n",
            "Requirement already satisfied: llvmlite<0.35,>=0.34.0.dev0 in /usr/local/lib/python3.7/dist-packages (from numba>=0.43.0->librosa) (0.34.0)\n",
            "Requirement already satisfied: setuptools in /usr/local/lib/python3.7/dist-packages (from numba>=0.43.0->librosa) (57.4.0)\n",
            "Requirement already satisfied: pyparsing!=3.0.5,>=2.0.2 in /usr/local/lib/python3.7/dist-packages (from packaging>=20.0->librosa) (3.0.9)\n",
            "Requirement already satisfied: appdirs>=1.3.0 in /usr/local/lib/python3.7/dist-packages (from pooch>=1.0->librosa) (1.4.4)\n",
            "Requirement already satisfied: requests>=2.19.0 in /usr/local/lib/python3.7/dist-packages (from pooch>=1.0->librosa) (2.23.0)\n",
            "Requirement already satisfied: idna<3,>=2.5 in /usr/local/lib/python3.7/dist-packages (from requests>=2.19.0->pooch>=1.0->librosa) (2.10)\n",
            "Requirement already satisfied: urllib3!=1.25.0,!=1.25.1,<1.26,>=1.21.1 in /usr/local/lib/python3.7/dist-packages (from requests>=2.19.0->pooch>=1.0->librosa) (1.24.3)\n",
            "Requirement already satisfied: certifi>=2017.4.17 in /usr/local/lib/python3.7/dist-packages (from requests>=2.19.0->pooch>=1.0->librosa) (2022.5.18.1)\n",
            "Requirement already satisfied: chardet<4,>=3.0.2 in /usr/local/lib/python3.7/dist-packages (from requests>=2.19.0->pooch>=1.0->librosa) (3.0.4)\n",
            "Requirement already satisfied: six>=1.3 in /usr/local/lib/python3.7/dist-packages (from resampy>=0.2.2->librosa) (1.15.0)\n",
            "Requirement already satisfied: threadpoolctl>=2.0.0 in /usr/local/lib/python3.7/dist-packages (from scikit-learn!=0.19.0,>=0.14.0->librosa) (3.1.0)\n",
            "Requirement already satisfied: cffi>=1.0 in /usr/local/lib/python3.7/dist-packages (from soundfile>=0.10.2->librosa) (1.15.0)\n",
            "Requirement already satisfied: pycparser in /usr/local/lib/python3.7/dist-packages (from cffi>=1.0->soundfile>=0.10.2->librosa) (2.21)\n"
          ]
        }
      ]
    },
    {
      "cell_type": "code",
      "metadata": {
        "id": "HJjcbxwy46bG",
        "colab": {
          "base_uri": "https://localhost:8080/",
          "height": 17
        },
        "outputId": "86ea7635-5b35-4f86-bd2d-af0f1816c53f"
      },
      "source": [
        "# Orignial Notebook: https://github.com/MITESHPUTHRANNEU/Speech-Emotion-Analyzer/blob/master/final_results_gender_test.ipynb\n",
        "# This notebook author: Reza Chu\n",
        "# Last Editing Date: 31st May 2019\n",
        "\n",
        "## Python\n",
        "import os\n",
        "import random\n",
        "import sys\n",
        "\n",
        "import IPython\n",
        "from IPython.display import Audio\n",
        "from IPython.display import Image\n",
        "import matplotlib.pyplot as plt\n",
        "\n",
        "## Package\n",
        "import glob \n",
        "import keras\n",
        "import IPython.display as ipd\n",
        "import librosa\n",
        "import librosa.display\n",
        "import matplotlib.pyplot as plt\n",
        "import numpy as np\n",
        "import pandas as pd\n",
        "import plotly.graph_objs as go\n",
        "import plotly.offline as py\n",
        "import plotly.tools as tls\n",
        "import seaborn as sns\n",
        "import scipy.io.wavfile\n",
        "import tensorflow as tf\n",
        "py.init_notebook_mode(connected=True)\n",
        "\n",
        "## Keras\n",
        "from keras import regularizers\n",
        "from keras.callbacks import ModelCheckpoint, LearningRateScheduler, EarlyStopping\n",
        "from keras.callbacks import  History, ReduceLROnPlateau, CSVLogger\n",
        "from keras.models import Model, Sequential\n",
        "from keras.layers import Dense, Embedding, LSTM\n",
        "from keras.layers import Input, Flatten, Dropout, Activation, BatchNormalization\n",
        "from keras.layers import Conv1D, MaxPooling1D, AveragePooling1D\n",
        "from keras.preprocessing import sequence\n",
        "from keras.preprocessing.sequence import pad_sequences\n",
        "from keras.preprocessing.text import Tokenizer\n",
        "from keras.utils import np_utils\n",
        "from tensorflow.keras.utils import to_categorical\n",
        "\n",
        "## Sklearn\n",
        "from sklearn.metrics import confusion_matrix\n",
        "from sklearn.preprocessing import LabelEncoder\n",
        "\n",
        "## Rest\n",
        "from scipy.fftpack import fft\n",
        "from scipy import signal\n",
        "from scipy.io import wavfile\n",
        "from tqdm import tqdm\n",
        "\n",
        "input_duration=3\n",
        "# % pylab inline"
      ],
      "execution_count": 3,
      "outputs": [
        {
          "output_type": "display_data",
          "data": {
            "text/html": [
              "        <script type=\"text/javascript\">\n",
              "        window.PlotlyConfig = {MathJaxConfig: 'local'};\n",
              "        if (window.MathJax) {MathJax.Hub.Config({SVG: {font: \"STIX-Web\"}});}\n",
              "        if (typeof require !== 'undefined') {\n",
              "        require.undef(\"plotly\");\n",
              "        requirejs.config({\n",
              "            paths: {\n",
              "                'plotly': ['https://cdn.plot.ly/plotly-2.8.3.min']\n",
              "            }\n",
              "        });\n",
              "        require(['plotly'], function(Plotly) {\n",
              "            window._Plotly = Plotly;\n",
              "        });\n",
              "        }\n",
              "        </script>\n",
              "        "
            ]
          },
          "metadata": {}
        }
      ]
    },
    {
      "cell_type": "code",
      "source": [
        "# # Saving joblib files to not load them again with the loop above\n",
        "\n",
        "# import joblib\n",
        "\n",
        "# X_name = 'x.joblib'\n",
        "# y_name = 'y.joblib'\n",
        "# save_dir = '/content/drive/My Drive/graduation project/audio/paper_code/features'\n",
        "\n",
        "# savedX = joblib.dump(X, os.path.join(save_dir, X_name))\n",
        "# savedy = joblib.dump(y, os.path.join(save_dir, y_name))"
      ],
      "metadata": {
        "id": "UCzic8rlDcuk"
      },
      "execution_count": 4,
      "outputs": []
    },
    {
      "cell_type": "code",
      "source": [
        "# # Loading saved models\n",
        "import joblib\n",
        "X = joblib.load('/content/drive/My Drive/graduation project/audio/paper_code/features/x.joblib')\n",
        "y = joblib.load('/content/drive/My Drive/graduation project/audio/paper_code/features/y.joblib')"
      ],
      "metadata": {
        "id": "Q35CN6zDrzg1"
      },
      "execution_count": 5,
      "outputs": []
    },
    {
      "cell_type": "code",
      "source": [
        "X.shape"
      ],
      "metadata": {
        "colab": {
          "base_uri": "https://localhost:8080/"
        },
        "id": "7PSTurzjCo5K",
        "outputId": "8f804970-43bf-4558-83d2-07904b9652c7"
      },
      "execution_count": 6,
      "outputs": [
        {
          "output_type": "execute_result",
          "data": {
            "text/plain": [
              "(2068, 40)"
            ]
          },
          "metadata": {},
          "execution_count": 6
        }
      ]
    },
    {
      "cell_type": "code",
      "source": [
        "from sklearn.model_selection import train_test_split\n",
        "\n",
        "X_train, X_test, y_train, y_test = train_test_split(X,y, test_size=0.1 ,shuffle = True\n",
        "                                                    , random_state=42)\n",
        "X_train , X_valid, y_train, y_valid = train_test_split(X_train,y_train, test_size=0.1112305212 , shuffle = True \n",
        "                                                       , random_state=42)"
      ],
      "metadata": {
        "id": "Ai4Fy5cPCiq1"
      },
      "execution_count": 7,
      "outputs": []
    },
    {
      "cell_type": "code",
      "source": [
        "import numpy as np\n",
        "x_traincnn = np.expand_dims(X_train, axis=2)\n",
        "x_testcnn = np.expand_dims(X_test, axis=2)\n",
        "X_valid= np.expand_dims(X_valid, axis=2)"
      ],
      "metadata": {
        "id": "tp1Fm5K3CEXu"
      },
      "execution_count": 8,
      "outputs": []
    },
    {
      "cell_type": "code",
      "source": [
        "x_traincnn.shape, x_testcnn.shape , X_valid.shape\n",
        "#1861"
      ],
      "metadata": {
        "id": "RI0MxoIPBws5",
        "colab": {
          "base_uri": "https://localhost:8080/"
        },
        "outputId": "d5ecdf30-457e-4192-8ea5-ea4709599d74"
      },
      "execution_count": 9,
      "outputs": [
        {
          "output_type": "execute_result",
          "data": {
            "text/plain": [
              "((1654, 40, 1), (207, 40, 1), (207, 40, 1))"
            ]
          },
          "metadata": {},
          "execution_count": 9
        }
      ]
    },
    {
      "cell_type": "code",
      "source": [
        "!pip install tensorflow"
      ],
      "metadata": {
        "colab": {
          "base_uri": "https://localhost:8080/"
        },
        "id": "oALhiMUd9G2Y",
        "outputId": "7079d5dd-6178-4004-8339-86bcd11c03a6"
      },
      "execution_count": 10,
      "outputs": [
        {
          "output_type": "stream",
          "name": "stdout",
          "text": [
            "Looking in indexes: https://pypi.org/simple, https://us-python.pkg.dev/colab-wheels/public/simple/\n",
            "Requirement already satisfied: tensorflow in /usr/local/lib/python3.7/dist-packages (2.8.2+zzzcolab20220527125636)\n",
            "Requirement already satisfied: keras<2.9,>=2.8.0rc0 in /usr/local/lib/python3.7/dist-packages (from tensorflow) (2.8.0)\n",
            "Requirement already satisfied: tensorflow-io-gcs-filesystem>=0.23.1 in /usr/local/lib/python3.7/dist-packages (from tensorflow) (0.26.0)\n",
            "Requirement already satisfied: gast>=0.2.1 in /usr/local/lib/python3.7/dist-packages (from tensorflow) (0.5.3)\n",
            "Requirement already satisfied: grpcio<2.0,>=1.24.3 in /usr/local/lib/python3.7/dist-packages (from tensorflow) (1.46.3)\n",
            "Requirement already satisfied: wrapt>=1.11.0 in /usr/local/lib/python3.7/dist-packages (from tensorflow) (1.14.1)\n",
            "Requirement already satisfied: tensorflow-estimator<2.9,>=2.8 in /usr/local/lib/python3.7/dist-packages (from tensorflow) (2.8.0)\n",
            "Requirement already satisfied: setuptools in /usr/local/lib/python3.7/dist-packages (from tensorflow) (57.4.0)\n",
            "Requirement already satisfied: termcolor>=1.1.0 in /usr/local/lib/python3.7/dist-packages (from tensorflow) (1.1.0)\n",
            "Requirement already satisfied: h5py>=2.9.0 in /usr/local/lib/python3.7/dist-packages (from tensorflow) (3.1.0)\n",
            "Requirement already satisfied: opt-einsum>=2.3.2 in /usr/local/lib/python3.7/dist-packages (from tensorflow) (3.3.0)\n",
            "Requirement already satisfied: keras-preprocessing>=1.1.1 in /usr/local/lib/python3.7/dist-packages (from tensorflow) (1.1.2)\n",
            "Requirement already satisfied: google-pasta>=0.1.1 in /usr/local/lib/python3.7/dist-packages (from tensorflow) (0.2.0)\n",
            "Requirement already satisfied: absl-py>=0.4.0 in /usr/local/lib/python3.7/dist-packages (from tensorflow) (1.0.0)\n",
            "Requirement already satisfied: six>=1.12.0 in /usr/local/lib/python3.7/dist-packages (from tensorflow) (1.15.0)\n",
            "Requirement already satisfied: numpy>=1.20 in /usr/local/lib/python3.7/dist-packages (from tensorflow) (1.21.6)\n",
            "Requirement already satisfied: libclang>=9.0.1 in /usr/local/lib/python3.7/dist-packages (from tensorflow) (14.0.1)\n",
            "Requirement already satisfied: tensorboard<2.9,>=2.8 in /usr/local/lib/python3.7/dist-packages (from tensorflow) (2.8.0)\n",
            "Requirement already satisfied: protobuf<3.20,>=3.9.2 in /usr/local/lib/python3.7/dist-packages (from tensorflow) (3.17.3)\n",
            "Requirement already satisfied: typing-extensions>=3.6.6 in /usr/local/lib/python3.7/dist-packages (from tensorflow) (4.2.0)\n",
            "Requirement already satisfied: astunparse>=1.6.0 in /usr/local/lib/python3.7/dist-packages (from tensorflow) (1.6.3)\n",
            "Requirement already satisfied: flatbuffers>=1.12 in /usr/local/lib/python3.7/dist-packages (from tensorflow) (2.0)\n",
            "Requirement already satisfied: wheel<1.0,>=0.23.0 in /usr/local/lib/python3.7/dist-packages (from astunparse>=1.6.0->tensorflow) (0.37.1)\n",
            "Requirement already satisfied: cached-property in /usr/local/lib/python3.7/dist-packages (from h5py>=2.9.0->tensorflow) (1.5.2)\n",
            "Requirement already satisfied: google-auth-oauthlib<0.5,>=0.4.1 in /usr/local/lib/python3.7/dist-packages (from tensorboard<2.9,>=2.8->tensorflow) (0.4.6)\n",
            "Requirement already satisfied: requests<3,>=2.21.0 in /usr/local/lib/python3.7/dist-packages (from tensorboard<2.9,>=2.8->tensorflow) (2.23.0)\n",
            "Requirement already satisfied: markdown>=2.6.8 in /usr/local/lib/python3.7/dist-packages (from tensorboard<2.9,>=2.8->tensorflow) (3.3.7)\n",
            "Requirement already satisfied: tensorboard-data-server<0.7.0,>=0.6.0 in /usr/local/lib/python3.7/dist-packages (from tensorboard<2.9,>=2.8->tensorflow) (0.6.1)\n",
            "Requirement already satisfied: werkzeug>=0.11.15 in /usr/local/lib/python3.7/dist-packages (from tensorboard<2.9,>=2.8->tensorflow) (1.0.1)\n",
            "Requirement already satisfied: google-auth<3,>=1.6.3 in /usr/local/lib/python3.7/dist-packages (from tensorboard<2.9,>=2.8->tensorflow) (1.35.0)\n",
            "Requirement already satisfied: tensorboard-plugin-wit>=1.6.0 in /usr/local/lib/python3.7/dist-packages (from tensorboard<2.9,>=2.8->tensorflow) (1.8.1)\n",
            "Requirement already satisfied: pyasn1-modules>=0.2.1 in /usr/local/lib/python3.7/dist-packages (from google-auth<3,>=1.6.3->tensorboard<2.9,>=2.8->tensorflow) (0.2.8)\n",
            "Requirement already satisfied: cachetools<5.0,>=2.0.0 in /usr/local/lib/python3.7/dist-packages (from google-auth<3,>=1.6.3->tensorboard<2.9,>=2.8->tensorflow) (4.2.4)\n",
            "Requirement already satisfied: rsa<5,>=3.1.4 in /usr/local/lib/python3.7/dist-packages (from google-auth<3,>=1.6.3->tensorboard<2.9,>=2.8->tensorflow) (4.8)\n",
            "Requirement already satisfied: requests-oauthlib>=0.7.0 in /usr/local/lib/python3.7/dist-packages (from google-auth-oauthlib<0.5,>=0.4.1->tensorboard<2.9,>=2.8->tensorflow) (1.3.1)\n",
            "Requirement already satisfied: importlib-metadata>=4.4 in /usr/local/lib/python3.7/dist-packages (from markdown>=2.6.8->tensorboard<2.9,>=2.8->tensorflow) (4.11.4)\n",
            "Requirement already satisfied: zipp>=0.5 in /usr/local/lib/python3.7/dist-packages (from importlib-metadata>=4.4->markdown>=2.6.8->tensorboard<2.9,>=2.8->tensorflow) (3.8.0)\n",
            "Requirement already satisfied: pyasn1<0.5.0,>=0.4.6 in /usr/local/lib/python3.7/dist-packages (from pyasn1-modules>=0.2.1->google-auth<3,>=1.6.3->tensorboard<2.9,>=2.8->tensorflow) (0.4.8)\n",
            "Requirement already satisfied: idna<3,>=2.5 in /usr/local/lib/python3.7/dist-packages (from requests<3,>=2.21.0->tensorboard<2.9,>=2.8->tensorflow) (2.10)\n",
            "Requirement already satisfied: chardet<4,>=3.0.2 in /usr/local/lib/python3.7/dist-packages (from requests<3,>=2.21.0->tensorboard<2.9,>=2.8->tensorflow) (3.0.4)\n",
            "Requirement already satisfied: certifi>=2017.4.17 in /usr/local/lib/python3.7/dist-packages (from requests<3,>=2.21.0->tensorboard<2.9,>=2.8->tensorflow) (2022.5.18.1)\n",
            "Requirement already satisfied: urllib3!=1.25.0,!=1.25.1,<1.26,>=1.21.1 in /usr/local/lib/python3.7/dist-packages (from requests<3,>=2.21.0->tensorboard<2.9,>=2.8->tensorflow) (1.24.3)\n",
            "Requirement already satisfied: oauthlib>=3.0.0 in /usr/local/lib/python3.7/dist-packages (from requests-oauthlib>=0.7.0->google-auth-oauthlib<0.5,>=0.4.1->tensorboard<2.9,>=2.8->tensorflow) (3.2.0)\n"
          ]
        }
      ]
    },
    {
      "cell_type": "code",
      "source": [
        "import keras\n",
        "import numpy as np\n",
        "import matplotlib.pyplot as plt\n",
        "import tensorflow as tf\n",
        "from keras.preprocessing import sequence\n",
        "from keras.models import Sequential\n",
        "from keras.layers import Dense, Embedding\n",
        "from tensorflow.keras.utils import to_categorical\n",
        "from keras.layers import Input, Flatten, Dropout, Activation\n",
        "from keras.layers import Conv1D, MaxPooling1D\n",
        "from keras.models import Model\n",
        "from keras.callbacks import ModelCheckpoint\n",
        "from tensorflow.keras import optimizers\n",
        "\n",
        "model = Sequential()\n",
        "\n",
        "model.add(Conv1D(128, 8,padding='same', #classifier.add(Convolution2D(64, (3, 3), padding = 'same', input_shape = (128, 128, 3), activation = 'relu'))\n",
        "                 input_shape=(40,1)))\n",
        "model.add(Activation('relu'))\n",
        "model.add(Dropout(0.3))\n",
        "model.add(MaxPooling1D(pool_size=(5)))\n",
        "\n",
        "\n",
        "model.add(Conv1D(256,8,padding='same',))\n",
        "model.add(Activation('relu'))\n",
        "model.add(Dropout(0.3))\n",
        "model.add(MaxPooling1D(pool_size=(5)))\n",
        "\n",
        "#model.add(MaxPooling1D(pool_size=(5)))\n",
        "\n",
        "model.add(Flatten())\n",
        "\n",
        "\n",
        "\n",
        "model.add(Dense(6))\n",
        "model.add(Activation('softmax'))\n",
        "\n",
        "\n",
        "opt = tf.keras.optimizers.RMSprop(lr=0.0002 , decay=0.0)\n",
        "#opt = tf.keras.optimizers.Adam(lr=0.0002 , decay=0.0)\n",
        "#opt = tf.keras.optimizers.RMSprop(lr=0.0001, rho=0.9, epsilon=1e-07, decay=0.0)\n",
        "#opt = tf.keras.optimizers.SGD(lr=0.001, momentum=0.0, decay=0.0, nesterov=False)"
      ],
      "metadata": {
        "id": "g74fXWVAC4Cr",
        "colab": {
          "base_uri": "https://localhost:8080/"
        },
        "outputId": "b744960f-d02f-4ad5-df8c-a86ede7e085a"
      },
      "execution_count": 11,
      "outputs": [
        {
          "output_type": "stream",
          "name": "stderr",
          "text": [
            "/usr/local/lib/python3.7/dist-packages/keras/optimizer_v2/rmsprop.py:130: UserWarning:\n",
            "\n",
            "The `lr` argument is deprecated, use `learning_rate` instead.\n",
            "\n"
          ]
        }
      ]
    },
    {
      "cell_type": "code",
      "source": [
        "model.summary()"
      ],
      "metadata": {
        "colab": {
          "base_uri": "https://localhost:8080/"
        },
        "id": "H6ukOxAGC_I4",
        "outputId": "29ebd58f-f3fb-4941-cb9b-ae39c55f94dc"
      },
      "execution_count": 12,
      "outputs": [
        {
          "output_type": "stream",
          "name": "stdout",
          "text": [
            "Model: \"sequential\"\n",
            "_________________________________________________________________\n",
            " Layer (type)                Output Shape              Param #   \n",
            "=================================================================\n",
            " conv1d (Conv1D)             (None, 40, 128)           1152      \n",
            "                                                                 \n",
            " activation (Activation)     (None, 40, 128)           0         \n",
            "                                                                 \n",
            " dropout (Dropout)           (None, 40, 128)           0         \n",
            "                                                                 \n",
            " max_pooling1d (MaxPooling1D  (None, 8, 128)           0         \n",
            " )                                                               \n",
            "                                                                 \n",
            " conv1d_1 (Conv1D)           (None, 8, 256)            262400    \n",
            "                                                                 \n",
            " activation_1 (Activation)   (None, 8, 256)            0         \n",
            "                                                                 \n",
            " dropout_1 (Dropout)         (None, 8, 256)            0         \n",
            "                                                                 \n",
            " max_pooling1d_1 (MaxPooling  (None, 1, 256)           0         \n",
            " 1D)                                                             \n",
            "                                                                 \n",
            " flatten (Flatten)           (None, 256)               0         \n",
            "                                                                 \n",
            " dense (Dense)               (None, 6)                 1542      \n",
            "                                                                 \n",
            " activation_2 (Activation)   (None, 6)                 0         \n",
            "                                                                 \n",
            "=================================================================\n",
            "Total params: 265,094\n",
            "Trainable params: 265,094\n",
            "Non-trainable params: 0\n",
            "_________________________________________________________________\n"
          ]
        }
      ]
    },
    {
      "cell_type": "code",
      "source": [
        "model.compile(loss='sparse_categorical_crossentropy',\n",
        "              optimizer=opt,\n",
        "              metrics=['accuracy'])"
      ],
      "metadata": {
        "id": "AbMlLNk4DCBM"
      },
      "execution_count": 13,
      "outputs": []
    },
    {
      "cell_type": "code",
      "source": [
        "# Create an Instance of Early Stopping Callback.\n",
        "early_stopping_callback = EarlyStopping(monitor = 'val_loss', patience = 25, mode = 'min', restore_best_weights = True)\n",
        "\n",
        "cnnhistory=model.fit(x_traincnn, y_train, batch_size=16, epochs=500 , shuffle = True, \n",
        "                     validation_data=(X_valid, y_valid) , callbacks = [early_stopping_callback])"
      ],
      "metadata": {
        "colab": {
          "base_uri": "https://localhost:8080/"
        },
        "id": "RI1v2AuADFhy",
        "outputId": "96485e55-35c2-4ff8-e8d8-b478635c767e"
      },
      "execution_count": 14,
      "outputs": [
        {
          "output_type": "stream",
          "name": "stdout",
          "text": [
            "Epoch 1/500\n",
            "104/104 [==============================] - 5s 12ms/step - loss: 12.7592 - accuracy: 0.2080 - val_loss: 9.0357 - val_accuracy: 0.1208\n",
            "Epoch 2/500\n",
            "104/104 [==============================] - 1s 9ms/step - loss: 9.6105 - accuracy: 0.2007 - val_loss: 4.2271 - val_accuracy: 0.2705\n",
            "Epoch 3/500\n",
            "104/104 [==============================] - 1s 9ms/step - loss: 7.8308 - accuracy: 0.2152 - val_loss: 3.9938 - val_accuracy: 0.2560\n",
            "Epoch 4/500\n",
            "104/104 [==============================] - 1s 8ms/step - loss: 6.6855 - accuracy: 0.2146 - val_loss: 2.7087 - val_accuracy: 0.2609\n",
            "Epoch 5/500\n",
            "104/104 [==============================] - 1s 10ms/step - loss: 5.6466 - accuracy: 0.2334 - val_loss: 4.4617 - val_accuracy: 0.1739\n",
            "Epoch 6/500\n",
            "104/104 [==============================] - 1s 7ms/step - loss: 4.9203 - accuracy: 0.2497 - val_loss: 3.6260 - val_accuracy: 0.2319\n",
            "Epoch 7/500\n",
            "104/104 [==============================] - 1s 9ms/step - loss: 4.4381 - accuracy: 0.2563 - val_loss: 3.0904 - val_accuracy: 0.2174\n",
            "Epoch 8/500\n",
            "104/104 [==============================] - 1s 11ms/step - loss: 3.8398 - accuracy: 0.2896 - val_loss: 1.6580 - val_accuracy: 0.2754\n",
            "Epoch 9/500\n",
            "104/104 [==============================] - 1s 11ms/step - loss: 3.6496 - accuracy: 0.2678 - val_loss: 2.1114 - val_accuracy: 0.3237\n",
            "Epoch 10/500\n",
            "104/104 [==============================] - 1s 10ms/step - loss: 3.2602 - accuracy: 0.2950 - val_loss: 1.7517 - val_accuracy: 0.2657\n",
            "Epoch 11/500\n",
            "104/104 [==============================] - 1s 10ms/step - loss: 3.0726 - accuracy: 0.2745 - val_loss: 1.5651 - val_accuracy: 0.3865\n",
            "Epoch 12/500\n",
            "104/104 [==============================] - 1s 8ms/step - loss: 2.7542 - accuracy: 0.3114 - val_loss: 1.9760 - val_accuracy: 0.2802\n",
            "Epoch 13/500\n",
            "104/104 [==============================] - 1s 9ms/step - loss: 2.5716 - accuracy: 0.3489 - val_loss: 2.2125 - val_accuracy: 0.2947\n",
            "Epoch 14/500\n",
            "104/104 [==============================] - 1s 10ms/step - loss: 2.4963 - accuracy: 0.3253 - val_loss: 1.7613 - val_accuracy: 0.3430\n",
            "Epoch 15/500\n",
            "104/104 [==============================] - 1s 9ms/step - loss: 2.3002 - accuracy: 0.3634 - val_loss: 1.8290 - val_accuracy: 0.3043\n",
            "Epoch 16/500\n",
            "104/104 [==============================] - 1s 9ms/step - loss: 2.1466 - accuracy: 0.3785 - val_loss: 1.3903 - val_accuracy: 0.4783\n",
            "Epoch 17/500\n",
            "104/104 [==============================] - 1s 8ms/step - loss: 2.0182 - accuracy: 0.3682 - val_loss: 1.4832 - val_accuracy: 0.4589\n",
            "Epoch 18/500\n",
            "104/104 [==============================] - 1s 9ms/step - loss: 1.9152 - accuracy: 0.3900 - val_loss: 1.6048 - val_accuracy: 0.3720\n",
            "Epoch 19/500\n",
            "104/104 [==============================] - 1s 9ms/step - loss: 1.8439 - accuracy: 0.4057 - val_loss: 1.5104 - val_accuracy: 0.4155\n",
            "Epoch 20/500\n",
            "104/104 [==============================] - 1s 9ms/step - loss: 1.7875 - accuracy: 0.4214 - val_loss: 1.4305 - val_accuracy: 0.4541\n",
            "Epoch 21/500\n",
            "104/104 [==============================] - 1s 10ms/step - loss: 1.6605 - accuracy: 0.4371 - val_loss: 1.2571 - val_accuracy: 0.5411\n",
            "Epoch 22/500\n",
            "104/104 [==============================] - 1s 10ms/step - loss: 1.6482 - accuracy: 0.4456 - val_loss: 1.2803 - val_accuracy: 0.5411\n",
            "Epoch 23/500\n",
            "104/104 [==============================] - 1s 9ms/step - loss: 1.5413 - accuracy: 0.4547 - val_loss: 1.3708 - val_accuracy: 0.4348\n",
            "Epoch 24/500\n",
            "104/104 [==============================] - 1s 9ms/step - loss: 1.4919 - accuracy: 0.4758 - val_loss: 1.4649 - val_accuracy: 0.4251\n",
            "Epoch 25/500\n",
            "104/104 [==============================] - 1s 9ms/step - loss: 1.4369 - accuracy: 0.4692 - val_loss: 1.3822 - val_accuracy: 0.4251\n",
            "Epoch 26/500\n",
            "104/104 [==============================] - 1s 8ms/step - loss: 1.4073 - accuracy: 0.4940 - val_loss: 1.2313 - val_accuracy: 0.4928\n",
            "Epoch 27/500\n",
            "104/104 [==============================] - 1s 9ms/step - loss: 1.3447 - accuracy: 0.5012 - val_loss: 1.3051 - val_accuracy: 0.4541\n",
            "Epoch 28/500\n",
            "104/104 [==============================] - 1s 7ms/step - loss: 1.3265 - accuracy: 0.5121 - val_loss: 1.2048 - val_accuracy: 0.5024\n",
            "Epoch 29/500\n",
            "104/104 [==============================] - 1s 8ms/step - loss: 1.2926 - accuracy: 0.5109 - val_loss: 1.2063 - val_accuracy: 0.4638\n",
            "Epoch 30/500\n",
            "104/104 [==============================] - 1s 7ms/step - loss: 1.2562 - accuracy: 0.5200 - val_loss: 1.1646 - val_accuracy: 0.5797\n",
            "Epoch 31/500\n",
            "104/104 [==============================] - 1s 5ms/step - loss: 1.2042 - accuracy: 0.5508 - val_loss: 1.1165 - val_accuracy: 0.5845\n",
            "Epoch 32/500\n",
            "104/104 [==============================] - 1s 5ms/step - loss: 1.2399 - accuracy: 0.5260 - val_loss: 1.1581 - val_accuracy: 0.5121\n",
            "Epoch 33/500\n",
            "104/104 [==============================] - 1s 5ms/step - loss: 1.1542 - accuracy: 0.5580 - val_loss: 1.1904 - val_accuracy: 0.5507\n",
            "Epoch 34/500\n",
            "104/104 [==============================] - 1s 5ms/step - loss: 1.1477 - accuracy: 0.5508 - val_loss: 1.0522 - val_accuracy: 0.6135\n",
            "Epoch 35/500\n",
            "104/104 [==============================] - 0s 5ms/step - loss: 1.1363 - accuracy: 0.5671 - val_loss: 1.1554 - val_accuracy: 0.5266\n",
            "Epoch 36/500\n",
            "104/104 [==============================] - 1s 5ms/step - loss: 1.0999 - accuracy: 0.5635 - val_loss: 1.0360 - val_accuracy: 0.5990\n",
            "Epoch 37/500\n",
            "104/104 [==============================] - 1s 5ms/step - loss: 1.0592 - accuracy: 0.5871 - val_loss: 1.0947 - val_accuracy: 0.5990\n",
            "Epoch 38/500\n",
            "104/104 [==============================] - 1s 5ms/step - loss: 1.0625 - accuracy: 0.5919 - val_loss: 1.1244 - val_accuracy: 0.5604\n",
            "Epoch 39/500\n",
            "104/104 [==============================] - 1s 5ms/step - loss: 1.0519 - accuracy: 0.6070 - val_loss: 1.0178 - val_accuracy: 0.6135\n",
            "Epoch 40/500\n",
            "104/104 [==============================] - 1s 5ms/step - loss: 1.0255 - accuracy: 0.6070 - val_loss: 1.0278 - val_accuracy: 0.6425\n",
            "Epoch 41/500\n",
            "104/104 [==============================] - 1s 5ms/step - loss: 0.9893 - accuracy: 0.6366 - val_loss: 0.9821 - val_accuracy: 0.6232\n",
            "Epoch 42/500\n",
            "104/104 [==============================] - 1s 5ms/step - loss: 0.9599 - accuracy: 0.6354 - val_loss: 0.9295 - val_accuracy: 0.6522\n",
            "Epoch 43/500\n",
            "104/104 [==============================] - 1s 5ms/step - loss: 1.0105 - accuracy: 0.6094 - val_loss: 0.9065 - val_accuracy: 0.6908\n",
            "Epoch 44/500\n",
            "104/104 [==============================] - 1s 5ms/step - loss: 0.9571 - accuracy: 0.6372 - val_loss: 0.9755 - val_accuracy: 0.6377\n",
            "Epoch 45/500\n",
            "104/104 [==============================] - 0s 5ms/step - loss: 0.9538 - accuracy: 0.6264 - val_loss: 1.0371 - val_accuracy: 0.6039\n",
            "Epoch 46/500\n",
            "104/104 [==============================] - 1s 5ms/step - loss: 0.9385 - accuracy: 0.6463 - val_loss: 1.0485 - val_accuracy: 0.5362\n",
            "Epoch 47/500\n",
            "104/104 [==============================] - 1s 5ms/step - loss: 0.9483 - accuracy: 0.6421 - val_loss: 0.9825 - val_accuracy: 0.6473\n",
            "Epoch 48/500\n",
            "104/104 [==============================] - 1s 5ms/step - loss: 0.9005 - accuracy: 0.6415 - val_loss: 0.9008 - val_accuracy: 0.6812\n",
            "Epoch 49/500\n",
            "104/104 [==============================] - 1s 5ms/step - loss: 0.9154 - accuracy: 0.6511 - val_loss: 0.9175 - val_accuracy: 0.6618\n",
            "Epoch 50/500\n",
            "104/104 [==============================] - 1s 5ms/step - loss: 0.8760 - accuracy: 0.6608 - val_loss: 1.1041 - val_accuracy: 0.5749\n",
            "Epoch 51/500\n",
            "104/104 [==============================] - 0s 5ms/step - loss: 0.8921 - accuracy: 0.6499 - val_loss: 0.9667 - val_accuracy: 0.6039\n",
            "Epoch 52/500\n",
            "104/104 [==============================] - 1s 6ms/step - loss: 0.8673 - accuracy: 0.6626 - val_loss: 0.8856 - val_accuracy: 0.6618\n",
            "Epoch 53/500\n",
            "104/104 [==============================] - 1s 5ms/step - loss: 0.8514 - accuracy: 0.6874 - val_loss: 0.8765 - val_accuracy: 0.7053\n",
            "Epoch 54/500\n",
            "104/104 [==============================] - 0s 5ms/step - loss: 0.8461 - accuracy: 0.6735 - val_loss: 0.8780 - val_accuracy: 0.6715\n",
            "Epoch 55/500\n",
            "104/104 [==============================] - 1s 5ms/step - loss: 0.8671 - accuracy: 0.6711 - val_loss: 0.9239 - val_accuracy: 0.6280\n",
            "Epoch 56/500\n",
            "104/104 [==============================] - 0s 5ms/step - loss: 0.8301 - accuracy: 0.6814 - val_loss: 0.8587 - val_accuracy: 0.7295\n",
            "Epoch 57/500\n",
            "104/104 [==============================] - 1s 5ms/step - loss: 0.8277 - accuracy: 0.6687 - val_loss: 0.8397 - val_accuracy: 0.6957\n",
            "Epoch 58/500\n",
            "104/104 [==============================] - 1s 5ms/step - loss: 0.8288 - accuracy: 0.6880 - val_loss: 0.9557 - val_accuracy: 0.6425\n",
            "Epoch 59/500\n",
            "104/104 [==============================] - 0s 5ms/step - loss: 0.7868 - accuracy: 0.6898 - val_loss: 0.8405 - val_accuracy: 0.7150\n",
            "Epoch 60/500\n",
            "104/104 [==============================] - 0s 5ms/step - loss: 0.7733 - accuracy: 0.7110 - val_loss: 0.9093 - val_accuracy: 0.6618\n",
            "Epoch 61/500\n",
            "104/104 [==============================] - 1s 5ms/step - loss: 0.7674 - accuracy: 0.7068 - val_loss: 0.9586 - val_accuracy: 0.6618\n",
            "Epoch 62/500\n",
            "104/104 [==============================] - 0s 5ms/step - loss: 0.7680 - accuracy: 0.6977 - val_loss: 0.8248 - val_accuracy: 0.7295\n",
            "Epoch 63/500\n",
            "104/104 [==============================] - 1s 5ms/step - loss: 0.7757 - accuracy: 0.6868 - val_loss: 0.7968 - val_accuracy: 0.7198\n",
            "Epoch 64/500\n",
            "104/104 [==============================] - 1s 5ms/step - loss: 0.7442 - accuracy: 0.7177 - val_loss: 0.9578 - val_accuracy: 0.6425\n",
            "Epoch 65/500\n",
            "104/104 [==============================] - 0s 4ms/step - loss: 0.7141 - accuracy: 0.7231 - val_loss: 0.8255 - val_accuracy: 0.7005\n",
            "Epoch 66/500\n",
            "104/104 [==============================] - 1s 5ms/step - loss: 0.7461 - accuracy: 0.7062 - val_loss: 0.8658 - val_accuracy: 0.6763\n",
            "Epoch 67/500\n",
            "104/104 [==============================] - 1s 5ms/step - loss: 0.7311 - accuracy: 0.7170 - val_loss: 0.8152 - val_accuracy: 0.6667\n",
            "Epoch 68/500\n",
            "104/104 [==============================] - 1s 7ms/step - loss: 0.7132 - accuracy: 0.7243 - val_loss: 0.8191 - val_accuracy: 0.6763\n",
            "Epoch 69/500\n",
            "104/104 [==============================] - 1s 7ms/step - loss: 0.7267 - accuracy: 0.7134 - val_loss: 0.8167 - val_accuracy: 0.6908\n",
            "Epoch 70/500\n",
            "104/104 [==============================] - 1s 5ms/step - loss: 0.7133 - accuracy: 0.7152 - val_loss: 0.8293 - val_accuracy: 0.6860\n",
            "Epoch 71/500\n",
            "104/104 [==============================] - 1s 5ms/step - loss: 0.6722 - accuracy: 0.7346 - val_loss: 0.7958 - val_accuracy: 0.7150\n",
            "Epoch 72/500\n",
            "104/104 [==============================] - 1s 5ms/step - loss: 0.6874 - accuracy: 0.7424 - val_loss: 0.7986 - val_accuracy: 0.7101\n",
            "Epoch 73/500\n",
            "104/104 [==============================] - 0s 5ms/step - loss: 0.6655 - accuracy: 0.7443 - val_loss: 0.7399 - val_accuracy: 0.7633\n",
            "Epoch 74/500\n",
            "104/104 [==============================] - 1s 5ms/step - loss: 0.6750 - accuracy: 0.7370 - val_loss: 0.8160 - val_accuracy: 0.7005\n",
            "Epoch 75/500\n",
            "104/104 [==============================] - 1s 5ms/step - loss: 0.6711 - accuracy: 0.7437 - val_loss: 0.7731 - val_accuracy: 0.7005\n",
            "Epoch 76/500\n",
            "104/104 [==============================] - 0s 5ms/step - loss: 0.6666 - accuracy: 0.7394 - val_loss: 0.7931 - val_accuracy: 0.7101\n",
            "Epoch 77/500\n",
            "104/104 [==============================] - 1s 5ms/step - loss: 0.6553 - accuracy: 0.7443 - val_loss: 0.7878 - val_accuracy: 0.7246\n",
            "Epoch 78/500\n",
            "104/104 [==============================] - 1s 5ms/step - loss: 0.6905 - accuracy: 0.7304 - val_loss: 0.8253 - val_accuracy: 0.6812\n",
            "Epoch 79/500\n",
            "104/104 [==============================] - 1s 5ms/step - loss: 0.6596 - accuracy: 0.7346 - val_loss: 0.7493 - val_accuracy: 0.7488\n",
            "Epoch 80/500\n",
            "104/104 [==============================] - 1s 5ms/step - loss: 0.6395 - accuracy: 0.7636 - val_loss: 0.7584 - val_accuracy: 0.7488\n",
            "Epoch 81/500\n",
            "104/104 [==============================] - 1s 5ms/step - loss: 0.6410 - accuracy: 0.7570 - val_loss: 0.7449 - val_accuracy: 0.7343\n",
            "Epoch 82/500\n",
            "104/104 [==============================] - 1s 5ms/step - loss: 0.6295 - accuracy: 0.7606 - val_loss: 0.7507 - val_accuracy: 0.7536\n",
            "Epoch 83/500\n",
            "104/104 [==============================] - 0s 5ms/step - loss: 0.6277 - accuracy: 0.7557 - val_loss: 0.7644 - val_accuracy: 0.7053\n",
            "Epoch 84/500\n",
            "104/104 [==============================] - 1s 5ms/step - loss: 0.6208 - accuracy: 0.7612 - val_loss: 0.7950 - val_accuracy: 0.7343\n",
            "Epoch 85/500\n",
            "104/104 [==============================] - 1s 5ms/step - loss: 0.6158 - accuracy: 0.7618 - val_loss: 0.7069 - val_accuracy: 0.7536\n",
            "Epoch 86/500\n",
            "104/104 [==============================] - 0s 5ms/step - loss: 0.6024 - accuracy: 0.7678 - val_loss: 0.6993 - val_accuracy: 0.7246\n",
            "Epoch 87/500\n",
            "104/104 [==============================] - 1s 5ms/step - loss: 0.5923 - accuracy: 0.7666 - val_loss: 0.7348 - val_accuracy: 0.7295\n",
            "Epoch 88/500\n",
            "104/104 [==============================] - 1s 5ms/step - loss: 0.5939 - accuracy: 0.7745 - val_loss: 0.7680 - val_accuracy: 0.7391\n",
            "Epoch 89/500\n",
            "104/104 [==============================] - 1s 5ms/step - loss: 0.5870 - accuracy: 0.7757 - val_loss: 0.7277 - val_accuracy: 0.7295\n",
            "Epoch 90/500\n",
            "104/104 [==============================] - 1s 5ms/step - loss: 0.5948 - accuracy: 0.7799 - val_loss: 0.6930 - val_accuracy: 0.7391\n",
            "Epoch 91/500\n",
            "104/104 [==============================] - 1s 5ms/step - loss: 0.5893 - accuracy: 0.7672 - val_loss: 0.7421 - val_accuracy: 0.7440\n",
            "Epoch 92/500\n",
            "104/104 [==============================] - 1s 5ms/step - loss: 0.5727 - accuracy: 0.7787 - val_loss: 0.8361 - val_accuracy: 0.7005\n",
            "Epoch 93/500\n",
            "104/104 [==============================] - 1s 5ms/step - loss: 0.5700 - accuracy: 0.7823 - val_loss: 0.7364 - val_accuracy: 0.7246\n",
            "Epoch 94/500\n",
            "104/104 [==============================] - 1s 5ms/step - loss: 0.5735 - accuracy: 0.7727 - val_loss: 0.6839 - val_accuracy: 0.7488\n",
            "Epoch 95/500\n",
            "104/104 [==============================] - 0s 5ms/step - loss: 0.5719 - accuracy: 0.7727 - val_loss: 0.6548 - val_accuracy: 0.7826\n",
            "Epoch 96/500\n",
            "104/104 [==============================] - 1s 5ms/step - loss: 0.5632 - accuracy: 0.7926 - val_loss: 0.6989 - val_accuracy: 0.7488\n",
            "Epoch 97/500\n",
            "104/104 [==============================] - 1s 5ms/step - loss: 0.5423 - accuracy: 0.7938 - val_loss: 0.7949 - val_accuracy: 0.7198\n",
            "Epoch 98/500\n",
            "104/104 [==============================] - 1s 5ms/step - loss: 0.5370 - accuracy: 0.7993 - val_loss: 0.8413 - val_accuracy: 0.6957\n",
            "Epoch 99/500\n",
            "104/104 [==============================] - 1s 5ms/step - loss: 0.5515 - accuracy: 0.7914 - val_loss: 0.7693 - val_accuracy: 0.7005\n",
            "Epoch 100/500\n",
            "104/104 [==============================] - 1s 5ms/step - loss: 0.5460 - accuracy: 0.7950 - val_loss: 0.8183 - val_accuracy: 0.7005\n",
            "Epoch 101/500\n",
            "104/104 [==============================] - 1s 5ms/step - loss: 0.5230 - accuracy: 0.8023 - val_loss: 0.7234 - val_accuracy: 0.7343\n",
            "Epoch 102/500\n",
            "104/104 [==============================] - 1s 5ms/step - loss: 0.5406 - accuracy: 0.7902 - val_loss: 0.7760 - val_accuracy: 0.6908\n",
            "Epoch 103/500\n",
            "104/104 [==============================] - 1s 6ms/step - loss: 0.4974 - accuracy: 0.8162 - val_loss: 0.7023 - val_accuracy: 0.7198\n",
            "Epoch 104/500\n",
            "104/104 [==============================] - 1s 9ms/step - loss: 0.4939 - accuracy: 0.8210 - val_loss: 0.6776 - val_accuracy: 0.7391\n",
            "Epoch 105/500\n",
            "104/104 [==============================] - 1s 9ms/step - loss: 0.5213 - accuracy: 0.7963 - val_loss: 0.6518 - val_accuracy: 0.7536\n",
            "Epoch 106/500\n",
            "104/104 [==============================] - 1s 10ms/step - loss: 0.4990 - accuracy: 0.8144 - val_loss: 0.7501 - val_accuracy: 0.7053\n",
            "Epoch 107/500\n",
            "104/104 [==============================] - 1s 10ms/step - loss: 0.5119 - accuracy: 0.8005 - val_loss: 0.7928 - val_accuracy: 0.6957\n",
            "Epoch 108/500\n",
            "104/104 [==============================] - 1s 10ms/step - loss: 0.5019 - accuracy: 0.8053 - val_loss: 0.6874 - val_accuracy: 0.7101\n",
            "Epoch 109/500\n",
            "104/104 [==============================] - 1s 9ms/step - loss: 0.5040 - accuracy: 0.8108 - val_loss: 0.9000 - val_accuracy: 0.6715\n",
            "Epoch 110/500\n",
            "104/104 [==============================] - 1s 9ms/step - loss: 0.5011 - accuracy: 0.8126 - val_loss: 0.6989 - val_accuracy: 0.7440\n",
            "Epoch 111/500\n",
            "104/104 [==============================] - 1s 9ms/step - loss: 0.4811 - accuracy: 0.8065 - val_loss: 0.7143 - val_accuracy: 0.7440\n",
            "Epoch 112/500\n",
            "104/104 [==============================] - 1s 9ms/step - loss: 0.4832 - accuracy: 0.8150 - val_loss: 0.6897 - val_accuracy: 0.7440\n",
            "Epoch 113/500\n",
            "104/104 [==============================] - 1s 7ms/step - loss: 0.4752 - accuracy: 0.8186 - val_loss: 0.6520 - val_accuracy: 0.7681\n",
            "Epoch 114/500\n",
            "104/104 [==============================] - 1s 11ms/step - loss: 0.4811 - accuracy: 0.8216 - val_loss: 0.6653 - val_accuracy: 0.7391\n",
            "Epoch 115/500\n",
            "104/104 [==============================] - 1s 6ms/step - loss: 0.5042 - accuracy: 0.8047 - val_loss: 0.7186 - val_accuracy: 0.7295\n",
            "Epoch 116/500\n",
            "104/104 [==============================] - 1s 6ms/step - loss: 0.4723 - accuracy: 0.8108 - val_loss: 0.6179 - val_accuracy: 0.7681\n",
            "Epoch 117/500\n",
            "104/104 [==============================] - 1s 5ms/step - loss: 0.4743 - accuracy: 0.8204 - val_loss: 0.6539 - val_accuracy: 0.7488\n",
            "Epoch 118/500\n",
            "104/104 [==============================] - 1s 5ms/step - loss: 0.4656 - accuracy: 0.8168 - val_loss: 0.6448 - val_accuracy: 0.7729\n",
            "Epoch 119/500\n",
            "104/104 [==============================] - 1s 5ms/step - loss: 0.4698 - accuracy: 0.8192 - val_loss: 0.7704 - val_accuracy: 0.7150\n",
            "Epoch 120/500\n",
            "104/104 [==============================] - 0s 5ms/step - loss: 0.4629 - accuracy: 0.8259 - val_loss: 0.6876 - val_accuracy: 0.7343\n",
            "Epoch 121/500\n",
            "104/104 [==============================] - 1s 5ms/step - loss: 0.4207 - accuracy: 0.8428 - val_loss: 0.6661 - val_accuracy: 0.7536\n",
            "Epoch 122/500\n",
            "104/104 [==============================] - 1s 5ms/step - loss: 0.4706 - accuracy: 0.8319 - val_loss: 0.6541 - val_accuracy: 0.7536\n",
            "Epoch 123/500\n",
            "104/104 [==============================] - 1s 5ms/step - loss: 0.4544 - accuracy: 0.8265 - val_loss: 0.6033 - val_accuracy: 0.7681\n",
            "Epoch 124/500\n",
            "104/104 [==============================] - 1s 5ms/step - loss: 0.4746 - accuracy: 0.8150 - val_loss: 0.7006 - val_accuracy: 0.7246\n",
            "Epoch 125/500\n",
            "104/104 [==============================] - 1s 5ms/step - loss: 0.4545 - accuracy: 0.8307 - val_loss: 0.7616 - val_accuracy: 0.7150\n",
            "Epoch 126/500\n",
            "104/104 [==============================] - 1s 5ms/step - loss: 0.4222 - accuracy: 0.8501 - val_loss: 0.6001 - val_accuracy: 0.7826\n",
            "Epoch 127/500\n",
            "104/104 [==============================] - 1s 6ms/step - loss: 0.4328 - accuracy: 0.8452 - val_loss: 0.6215 - val_accuracy: 0.7633\n",
            "Epoch 128/500\n",
            "104/104 [==============================] - 0s 4ms/step - loss: 0.4115 - accuracy: 0.8476 - val_loss: 0.6865 - val_accuracy: 0.7488\n",
            "Epoch 129/500\n",
            "104/104 [==============================] - 1s 5ms/step - loss: 0.4404 - accuracy: 0.8349 - val_loss: 0.6109 - val_accuracy: 0.7729\n",
            "Epoch 130/500\n",
            "104/104 [==============================] - 1s 5ms/step - loss: 0.4260 - accuracy: 0.8368 - val_loss: 0.6175 - val_accuracy: 0.7633\n",
            "Epoch 131/500\n",
            "104/104 [==============================] - 1s 5ms/step - loss: 0.4273 - accuracy: 0.8349 - val_loss: 0.6109 - val_accuracy: 0.7681\n",
            "Epoch 132/500\n",
            "104/104 [==============================] - 1s 5ms/step - loss: 0.4142 - accuracy: 0.8404 - val_loss: 0.6239 - val_accuracy: 0.7729\n",
            "Epoch 133/500\n",
            "104/104 [==============================] - 1s 5ms/step - loss: 0.3959 - accuracy: 0.8470 - val_loss: 0.6357 - val_accuracy: 0.7681\n",
            "Epoch 134/500\n",
            "104/104 [==============================] - 1s 5ms/step - loss: 0.3997 - accuracy: 0.8482 - val_loss: 0.6099 - val_accuracy: 0.7681\n",
            "Epoch 135/500\n",
            "104/104 [==============================] - 1s 5ms/step - loss: 0.4092 - accuracy: 0.8470 - val_loss: 0.6874 - val_accuracy: 0.7343\n",
            "Epoch 136/500\n",
            "104/104 [==============================] - 1s 5ms/step - loss: 0.4099 - accuracy: 0.8440 - val_loss: 0.6035 - val_accuracy: 0.7778\n",
            "Epoch 137/500\n",
            "104/104 [==============================] - 1s 6ms/step - loss: 0.3950 - accuracy: 0.8555 - val_loss: 0.5894 - val_accuracy: 0.7778\n",
            "Epoch 138/500\n",
            "104/104 [==============================] - 1s 5ms/step - loss: 0.4126 - accuracy: 0.8501 - val_loss: 0.6854 - val_accuracy: 0.7440\n",
            "Epoch 139/500\n",
            "104/104 [==============================] - 0s 5ms/step - loss: 0.4046 - accuracy: 0.8495 - val_loss: 0.5695 - val_accuracy: 0.7923\n",
            "Epoch 140/500\n",
            "104/104 [==============================] - 1s 5ms/step - loss: 0.4074 - accuracy: 0.8458 - val_loss: 0.5786 - val_accuracy: 0.7778\n",
            "Epoch 141/500\n",
            "104/104 [==============================] - 1s 5ms/step - loss: 0.4080 - accuracy: 0.8404 - val_loss: 0.6080 - val_accuracy: 0.7633\n",
            "Epoch 142/500\n",
            "104/104 [==============================] - 1s 10ms/step - loss: 0.3954 - accuracy: 0.8440 - val_loss: 0.6323 - val_accuracy: 0.7778\n",
            "Epoch 143/500\n",
            "104/104 [==============================] - 1s 6ms/step - loss: 0.3925 - accuracy: 0.8543 - val_loss: 0.6567 - val_accuracy: 0.7585\n",
            "Epoch 144/500\n",
            "104/104 [==============================] - 1s 10ms/step - loss: 0.3860 - accuracy: 0.8561 - val_loss: 0.5958 - val_accuracy: 0.7729\n",
            "Epoch 145/500\n",
            "104/104 [==============================] - 1s 7ms/step - loss: 0.3928 - accuracy: 0.8513 - val_loss: 0.6056 - val_accuracy: 0.7778\n",
            "Epoch 146/500\n",
            "104/104 [==============================] - 1s 8ms/step - loss: 0.3700 - accuracy: 0.8615 - val_loss: 0.6403 - val_accuracy: 0.7874\n",
            "Epoch 147/500\n",
            "104/104 [==============================] - 1s 5ms/step - loss: 0.3683 - accuracy: 0.8670 - val_loss: 0.6312 - val_accuracy: 0.7729\n",
            "Epoch 148/500\n",
            "104/104 [==============================] - 1s 5ms/step - loss: 0.3738 - accuracy: 0.8561 - val_loss: 0.5980 - val_accuracy: 0.7971\n",
            "Epoch 149/500\n",
            "104/104 [==============================] - 1s 5ms/step - loss: 0.3912 - accuracy: 0.8513 - val_loss: 0.6126 - val_accuracy: 0.7729\n",
            "Epoch 150/500\n",
            "104/104 [==============================] - 0s 5ms/step - loss: 0.3811 - accuracy: 0.8513 - val_loss: 0.5850 - val_accuracy: 0.8068\n",
            "Epoch 151/500\n",
            "104/104 [==============================] - 1s 5ms/step - loss: 0.3730 - accuracy: 0.8519 - val_loss: 0.5770 - val_accuracy: 0.8019\n",
            "Epoch 152/500\n",
            "104/104 [==============================] - 0s 5ms/step - loss: 0.3741 - accuracy: 0.8676 - val_loss: 0.8708 - val_accuracy: 0.6860\n",
            "Epoch 153/500\n",
            "104/104 [==============================] - 1s 5ms/step - loss: 0.3601 - accuracy: 0.8507 - val_loss: 0.6105 - val_accuracy: 0.8068\n",
            "Epoch 154/500\n",
            "104/104 [==============================] - 1s 5ms/step - loss: 0.3637 - accuracy: 0.8609 - val_loss: 0.7014 - val_accuracy: 0.7536\n",
            "Epoch 155/500\n",
            "104/104 [==============================] - 1s 5ms/step - loss: 0.3517 - accuracy: 0.8670 - val_loss: 0.6761 - val_accuracy: 0.7488\n",
            "Epoch 156/500\n",
            "104/104 [==============================] - 1s 5ms/step - loss: 0.3685 - accuracy: 0.8622 - val_loss: 0.6579 - val_accuracy: 0.7633\n",
            "Epoch 157/500\n",
            "104/104 [==============================] - 1s 5ms/step - loss: 0.3632 - accuracy: 0.8555 - val_loss: 0.6364 - val_accuracy: 0.7923\n",
            "Epoch 158/500\n",
            "104/104 [==============================] - 1s 5ms/step - loss: 0.3531 - accuracy: 0.8597 - val_loss: 0.6091 - val_accuracy: 0.7585\n",
            "Epoch 159/500\n",
            "104/104 [==============================] - 1s 5ms/step - loss: 0.3658 - accuracy: 0.8615 - val_loss: 0.6346 - val_accuracy: 0.7778\n",
            "Epoch 160/500\n",
            "104/104 [==============================] - 1s 5ms/step - loss: 0.3429 - accuracy: 0.8682 - val_loss: 0.6468 - val_accuracy: 0.7778\n",
            "Epoch 161/500\n",
            "104/104 [==============================] - 1s 5ms/step - loss: 0.3613 - accuracy: 0.8688 - val_loss: 0.6119 - val_accuracy: 0.7778\n",
            "Epoch 162/500\n",
            "104/104 [==============================] - 1s 5ms/step - loss: 0.3515 - accuracy: 0.8706 - val_loss: 0.6062 - val_accuracy: 0.7729\n",
            "Epoch 163/500\n",
            "104/104 [==============================] - 1s 5ms/step - loss: 0.3645 - accuracy: 0.8688 - val_loss: 0.6441 - val_accuracy: 0.7633\n",
            "Epoch 164/500\n",
            "104/104 [==============================] - 1s 5ms/step - loss: 0.3451 - accuracy: 0.8658 - val_loss: 0.6205 - val_accuracy: 0.7729\n"
          ]
        }
      ]
    },
    {
      "cell_type": "code",
      "source": [
        "plt.plot(cnnhistory.history['loss'])\n",
        "plt.plot(cnnhistory.history['val_loss'])\n",
        "plt.title('model loss')\n",
        "plt.ylabel('loss')\n",
        "plt.xlabel('epoch')\n",
        "plt.legend(['train','test'], loc='upper left')\n",
        "plt.show()"
      ],
      "metadata": {
        "colab": {
          "base_uri": "https://localhost:8080/",
          "height": 295
        },
        "id": "oQYnuaCrDH_A",
        "outputId": "d7fab77a-c3ef-40f0-ba64-7d0d760780fb"
      },
      "execution_count": 15,
      "outputs": [
        {
          "output_type": "display_data",
          "data": {
            "text/plain": [
              "<Figure size 432x288 with 1 Axes>"
            ],
            "image/png": "[encoded data removed]"
          },
          "metadata": {
            "needs_background": "light"
          }
        }
      ]
    },
    {
      "cell_type": "code",
      "source": [
        "plt.plot(cnnhistory.history['accuracy'])\n",
        "plt.plot(cnnhistory.history['val_accuracy'])\n",
        "plt.title('model accuracy')\n",
        "plt.ylabel('accuracy')\n",
        "plt.xlabel('epoch')\n",
        "plt.legend(['train','test'], loc='upper left')\n",
        "plt.show()"
      ],
      "metadata": {
        "colab": {
          "base_uri": "https://localhost:8080/",
          "height": 295
        },
        "id": "IFkTuO8nDNdq",
        "outputId": "8c3b62bf-738a-4a7b-d4af-8ac57605f07b"
      },
      "execution_count": 16,
      "outputs": [
        {
          "output_type": "display_data",
          "data": {
            "text/plain": [
              "<Figure size 432x288 with 1 Axes>"
            ],
            "image/png": "[encoded data removed]"
          },
          "metadata": {
            "needs_background": "light"
          }
        }
      ]
    },
    {
      "cell_type": "code",
      "source": [
        "predictions = model.predict(x_testcnn)"
      ],
      "metadata": {
        "id": "A2xtrN5wDQgY"
      },
      "execution_count": 17,
      "outputs": []
    },
    {
      "cell_type": "code",
      "source": [
        "predictions"
      ],
      "metadata": {
        "colab": {
          "base_uri": "https://localhost:8080/"
        },
        "id": "_f_ohjXKDUpY",
        "outputId": "01a55df0-f66b-47ba-ac4e-2b51b4f7db26"
      },
      "execution_count": 18,
      "outputs": [
        {
          "output_type": "execute_result",
          "data": {
            "text/plain": [
              "array([[3.56623501e-01, 2.02831119e-01, 2.33287141e-01, 1.31926268e-01,\n",
              "        5.44506572e-02, 2.08813176e-02],\n",
              "       [5.08396944e-04, 4.98693180e-06, 3.31870034e-08, 9.76209223e-01,\n",
              "        2.44550629e-05, 2.32529044e-02],\n",
              "       [1.68629318e-01, 9.15644169e-02, 2.57838871e-02, 4.82671142e-01,\n",
              "        3.51397879e-02, 1.96211562e-01],\n",
              "       ...,\n",
              "       [1.56572569e-04, 3.12346685e-07, 3.21849919e-04, 2.14009735e-04,\n",
              "        9.92403924e-01, 6.90331077e-03],\n",
              "       [3.95582028e-04, 8.88473764e-02, 8.39054465e-01, 3.58043658e-03,\n",
              "        2.88809557e-02, 3.92411426e-02],\n",
              "       [6.11753669e-04, 3.23268032e-04, 1.16278045e-02, 9.44302476e-04,\n",
              "        9.77320969e-01, 9.17197019e-03]], dtype=float32)"
            ]
          },
          "metadata": {},
          "execution_count": 18
        }
      ]
    },
    {
      "cell_type": "code",
      "source": [
        "y_test"
      ],
      "metadata": {
        "colab": {
          "base_uri": "https://localhost:8080/"
        },
        "id": "cmA2bFgsDW3D",
        "outputId": "83ffe3df-4ab5-4602-a10c-f4ee91913764"
      },
      "execution_count": 19,
      "outputs": [
        {
          "output_type": "execute_result",
          "data": {
            "text/plain": [
              "array([3, 3, 3, 0, 4, 4, 1, 2, 5, 0, 5, 3, 2, 2, 1, 4, 4, 5, 2, 4, 1, 2,\n",
              "       3, 5, 4, 2, 1, 2, 2, 2, 2, 5, 2, 5, 3, 1, 2, 0, 4, 5, 2, 3, 2, 2,\n",
              "       5, 2, 0, 1, 3, 4, 4, 5, 1, 1, 4, 4, 5, 1, 1, 1, 0, 1, 5, 0, 4, 1,\n",
              "       1, 0, 1, 4, 1, 0, 4, 1, 3, 1, 2, 2, 1, 2, 3, 0, 5, 3, 5, 5, 2, 4,\n",
              "       5, 1, 5, 1, 5, 3, 4, 1, 4, 1, 5, 4, 5, 1, 2, 1, 1, 5, 1, 3, 2, 5,\n",
              "       2, 1, 3, 5, 4, 4, 0, 0, 3, 1, 2, 2, 3, 5, 1, 5, 3, 4, 2, 2, 0, 2,\n",
              "       2, 5, 5, 0, 3, 3, 2, 2, 0, 3, 4, 0, 4, 2, 4, 5, 4, 1, 5, 3, 2, 2,\n",
              "       5, 4, 3, 3, 4, 3, 3, 4, 1, 5, 2, 3, 2, 2, 0, 2, 1, 3, 1, 2, 2, 5,\n",
              "       5, 1, 4, 2, 2, 1, 1, 3, 3, 5, 5, 2, 5, 1, 5, 0, 3, 3, 0, 5, 1, 4,\n",
              "       1, 4, 2, 5, 5, 1, 4, 2, 4])"
            ]
          },
          "metadata": {},
          "execution_count": 19
        }
      ]
    },
    {
      "cell_type": "code",
      "source": [
        "new_Ytest = y_test.astype(int)"
      ],
      "metadata": {
        "id": "0PHDKWJWDY3g"
      },
      "execution_count": 20,
      "outputs": []
    },
    {
      "cell_type": "code",
      "source": [
        "new_Ytest"
      ],
      "metadata": {
        "colab": {
          "base_uri": "https://localhost:8080/"
        },
        "id": "k68v2i-pDbZE",
        "outputId": "5f78fa33-5bc4-4726-93fa-16bef8aa3624"
      },
      "execution_count": 21,
      "outputs": [
        {
          "output_type": "execute_result",
          "data": {
            "text/plain": [
              "array([3, 3, 3, 0, 4, 4, 1, 2, 5, 0, 5, 3, 2, 2, 1, 4, 4, 5, 2, 4, 1, 2,\n",
              "       3, 5, 4, 2, 1, 2, 2, 2, 2, 5, 2, 5, 3, 1, 2, 0, 4, 5, 2, 3, 2, 2,\n",
              "       5, 2, 0, 1, 3, 4, 4, 5, 1, 1, 4, 4, 5, 1, 1, 1, 0, 1, 5, 0, 4, 1,\n",
              "       1, 0, 1, 4, 1, 0, 4, 1, 3, 1, 2, 2, 1, 2, 3, 0, 5, 3, 5, 5, 2, 4,\n",
              "       5, 1, 5, 1, 5, 3, 4, 1, 4, 1, 5, 4, 5, 1, 2, 1, 1, 5, 1, 3, 2, 5,\n",
              "       2, 1, 3, 5, 4, 4, 0, 0, 3, 1, 2, 2, 3, 5, 1, 5, 3, 4, 2, 2, 0, 2,\n",
              "       2, 5, 5, 0, 3, 3, 2, 2, 0, 3, 4, 0, 4, 2, 4, 5, 4, 1, 5, 3, 2, 2,\n",
              "       5, 4, 3, 3, 4, 3, 3, 4, 1, 5, 2, 3, 2, 2, 0, 2, 1, 3, 1, 2, 2, 5,\n",
              "       5, 1, 4, 2, 2, 1, 1, 3, 3, 5, 5, 2, 5, 1, 5, 0, 3, 3, 0, 5, 1, 4,\n",
              "       1, 4, 2, 5, 5, 1, 4, 2, 4])"
            ]
          },
          "metadata": {},
          "execution_count": 21
        }
      ]
    },
    {
      "cell_type": "code",
      "source": [
        "preds1=predictions.argmax(axis=1)\n",
        "preds1"
      ],
      "metadata": {
        "colab": {
          "base_uri": "https://localhost:8080/"
        },
        "id": "4_cAI39VFhtp",
        "outputId": "a1a12415-e61f-475d-a981-4965cfa73a27"
      },
      "execution_count": 22,
      "outputs": [
        {
          "output_type": "execute_result",
          "data": {
            "text/plain": [
              "array([0, 3, 3, 0, 4, 4, 1, 2, 5, 1, 5, 3, 2, 2, 0, 4, 4, 3, 3, 4, 2, 2,\n",
              "       3, 3, 4, 2, 1, 1, 2, 2, 2, 5, 2, 5, 3, 1, 2, 0, 4, 5, 2, 5, 2, 2,\n",
              "       3, 2, 1, 1, 3, 4, 4, 5, 1, 1, 4, 4, 5, 1, 1, 1, 0, 1, 2, 1, 4, 1,\n",
              "       1, 1, 1, 4, 0, 0, 4, 3, 5, 1, 2, 2, 1, 2, 1, 0, 5, 3, 5, 4, 2, 4,\n",
              "       3, 1, 0, 1, 5, 3, 4, 2, 4, 0, 3, 4, 5, 1, 2, 1, 1, 5, 1, 3, 2, 5,\n",
              "       1, 1, 3, 5, 4, 4, 3, 0, 3, 1, 1, 2, 1, 3, 1, 3, 3, 4, 2, 2, 0, 2,\n",
              "       2, 3, 3, 0, 3, 3, 2, 4, 0, 3, 4, 0, 4, 4, 4, 2, 4, 1, 5, 3, 2, 2,\n",
              "       5, 4, 3, 3, 4, 5, 3, 4, 1, 5, 2, 3, 2, 2, 0, 2, 1, 3, 1, 4, 4, 5,\n",
              "       5, 1, 4, 2, 4, 1, 1, 3, 3, 5, 2, 2, 5, 1, 4, 1, 3, 3, 1, 4, 1, 4,\n",
              "       1, 3, 3, 5, 5, 1, 4, 2, 4])"
            ]
          },
          "metadata": {},
          "execution_count": 22
        }
      ]
    },
    {
      "cell_type": "code",
      "source": [
        "abc = preds1.astype(int).flatten()"
      ],
      "metadata": {
        "id": "H4WEmM60NfQn"
      },
      "execution_count": 23,
      "outputs": []
    },
    {
      "cell_type": "code",
      "source": [
        "from sklearn.metrics import confusion_matrix\n",
        "c = confusion_matrix(new_Ytest, abc) \n",
        "c"
      ],
      "metadata": {
        "colab": {
          "base_uri": "https://localhost:8080/"
        },
        "id": "bKEBeEBlFjB8",
        "outputId": "f7a0bbb1-bc01-425d-fd72-46ff24fd80d1"
      },
      "execution_count": 24,
      "outputs": [
        {
          "output_type": "execute_result",
          "data": {
            "text/plain": [
              "array([[11,  6,  0,  1,  0,  0],\n",
              "       [ 3, 35,  2,  1,  0,  0],\n",
              "       [ 0,  3, 35,  2,  5,  0],\n",
              "       [ 1,  2,  0, 25,  0,  3],\n",
              "       [ 0,  0,  0,  1, 32,  0],\n",
              "       [ 1,  0,  3,  9,  3, 23]])"
            ]
          },
          "metadata": {},
          "execution_count": 24
        }
      ]
    },
    {
      "cell_type": "code",
      "source": [
        "y_test"
      ],
      "metadata": {
        "colab": {
          "base_uri": "https://localhost:8080/"
        },
        "id": "m4RjG7LWLSQx",
        "outputId": "f8230e6e-96fa-4cec-b46d-d5dc9df5911a"
      },
      "execution_count": 25,
      "outputs": [
        {
          "output_type": "execute_result",
          "data": {
            "text/plain": [
              "array([3, 3, 3, 0, 4, 4, 1, 2, 5, 0, 5, 3, 2, 2, 1, 4, 4, 5, 2, 4, 1, 2,\n",
              "       3, 5, 4, 2, 1, 2, 2, 2, 2, 5, 2, 5, 3, 1, 2, 0, 4, 5, 2, 3, 2, 2,\n",
              "       5, 2, 0, 1, 3, 4, 4, 5, 1, 1, 4, 4, 5, 1, 1, 1, 0, 1, 5, 0, 4, 1,\n",
              "       1, 0, 1, 4, 1, 0, 4, 1, 3, 1, 2, 2, 1, 2, 3, 0, 5, 3, 5, 5, 2, 4,\n",
              "       5, 1, 5, 1, 5, 3, 4, 1, 4, 1, 5, 4, 5, 1, 2, 1, 1, 5, 1, 3, 2, 5,\n",
              "       2, 1, 3, 5, 4, 4, 0, 0, 3, 1, 2, 2, 3, 5, 1, 5, 3, 4, 2, 2, 0, 2,\n",
              "       2, 5, 5, 0, 3, 3, 2, 2, 0, 3, 4, 0, 4, 2, 4, 5, 4, 1, 5, 3, 2, 2,\n",
              "       5, 4, 3, 3, 4, 3, 3, 4, 1, 5, 2, 3, 2, 2, 0, 2, 1, 3, 1, 2, 2, 5,\n",
              "       5, 1, 4, 2, 2, 1, 1, 3, 3, 5, 5, 2, 5, 1, 5, 0, 3, 3, 0, 5, 1, 4,\n",
              "       1, 4, 2, 5, 5, 1, 4, 2, 4])"
            ]
          },
          "metadata": {},
          "execution_count": 25
        }
      ]
    },
    {
      "cell_type": "code",
      "source": [
        "loss, acc =model.evaluate(x_testcnn, y_test)\n",
        "print(\"Restored model, accuracy: {:5.2f}%\".format(100*acc))"
      ],
      "metadata": {
        "colab": {
          "base_uri": "https://localhost:8080/"
        },
        "id": "n3kzoqPkDqqS",
        "outputId": "779b4b72-5411-4125-e714-69c0bb0f5021"
      },
      "execution_count": 26,
      "outputs": [
        {
          "output_type": "stream",
          "name": "stdout",
          "text": [
            "7/7 [==============================] - 0s 4ms/step - loss: 0.5761 - accuracy: 0.7778\n",
            "Restored model, accuracy: 77.78%\n"
          ]
        }
      ]
    },
    {
      "cell_type": "code",
      "source": [
        "loss, acc =model.evaluate(X_train, y_train)\n",
        "print(\"Restored model train, accuracy: {:5.2f}%\".format(100*acc))"
      ],
      "metadata": {
        "id": "fJDTGH_OUX0z",
        "colab": {
          "base_uri": "https://localhost:8080/"
        },
        "outputId": "ab938b40-e8af-4a02-b4b2-204e31501b74"
      },
      "execution_count": 27,
      "outputs": [
        {
          "output_type": "stream",
          "name": "stdout",
          "text": [
            "52/52 [==============================] - 0s 4ms/step - loss: 0.2478 - accuracy: 0.9480\n",
            "Restored model train, accuracy: 94.80%\n"
          ]
        }
      ]
    },
    {
      "cell_type": "code",
      "source": [
        "from sklearn.metrics import classification_report, confusion_matrix,accuracy_score\n",
        "import seaborn as sn\n",
        "\n",
        "print(classification_report(new_Ytest,abc))\n",
        "\n",
        "acc = float(accuracy_score(new_Ytest,abc))*100\n",
        "print(\"----accuracy score %s ----\" % acc)\n",
        "\n",
        "cm = confusion_matrix(new_Ytest,abc)\n",
        "#df_cm = pd.DataFrame(cm)\n",
        "class_names = ['neutral','calm', 'happy','sad','angry', 'fearful' ]\n",
        "df_cm = pd.DataFrame(cm, index=class_names, columns=class_names,)\n",
        "sn.heatmap(df_cm, annot=True, fmt='')\n",
        "plt.show()"
      ],
      "metadata": {
        "colab": {
          "base_uri": "https://localhost:8080/",
          "height": 512
        },
        "id": "SfSC3El94LZg",
        "outputId": "add73a63-b392-4f9f-f587-bb835fcf094b"
      },
      "execution_count": 28,
      "outputs": [
        {
          "output_type": "stream",
          "name": "stdout",
          "text": [
            "              precision    recall  f1-score   support\n",
            "\n",
            "           0       0.69      0.61      0.65        18\n",
            "           1       0.76      0.85      0.80        41\n",
            "           2       0.88      0.78      0.82        45\n",
            "           3       0.64      0.81      0.71        31\n",
            "           4       0.80      0.97      0.88        33\n",
            "           5       0.88      0.59      0.71        39\n",
            "\n",
            "    accuracy                           0.78       207\n",
            "   macro avg       0.77      0.77      0.76       207\n",
            "weighted avg       0.79      0.78      0.77       207\n",
            "\n",
            "----accuracy score 77.77777777777779 ----\n"
          ]
        },
        {
          "output_type": "display_data",
          "data": {
            "text/plain": [
              "<Figure size 432x288 with 2 Axes>"
            ],
            "image/png": "[encoded data removed]"
          },
          "metadata": {
            "needs_background": "light"
          }
        }
      ]
    }
  ]
}