{
  "nbformat": 4,
  "nbformat_minor": 0,
  "metadata": {
    "colab": {
      "name": "original add layer RMS lr=0.0002 try 2.ipynb",
      "provenance": [],
      "collapsed_sections": []
    },
    "kernelspec": {
      "name": "python3",
      "display_name": "Python 3"
    },
    "language_info": {
      "name": "python"
    },
    "accelerator": "GPU"
  },
  "cells": [
    {
      "cell_type": "code",
      "execution_count": 1,
      "metadata": {
        "colab": {
          "base_uri": "https://localhost:8080/"
        },
        "id": "9SRCO-a_AlH5",
        "outputId": "7cff4854-a735-4b88-cb27-a4be3769055c"
      },
      "outputs": [
        {
          "output_type": "stream",
          "name": "stdout",
          "text": [
            "Drive already mounted at /content/drive; to attempt to forcibly remount, call drive.mount(\"/content/drive\", force_remount=True).\n"
          ]
        }
      ],
      "source": [
        "from google.colab import drive\n",
        "drive.mount('/content/drive')"
      ]
    },
    {
      "cell_type": "code",
      "source": [
        "!pip install librosa"
      ],
      "metadata": {
        "colab": {
          "base_uri": "https://localhost:8080/"
        },
        "id": "5Lo4mUwG9RMd",
        "outputId": "f684726c-5633-4778-bc5f-5f3fe8591260"
      },
      "execution_count": 2,
      "outputs": [
        {
          "output_type": "stream",
          "name": "stdout",
          "text": [
            "Looking in indexes: https://pypi.org/simple, https://us-python.pkg.dev/colab-wheels/public/simple/\n",
            "Requirement already satisfied: librosa in /usr/local/lib/python3.7/dist-packages (0.8.1)\n",
            "Requirement already satisfied: numpy>=1.15.0 in /usr/local/lib/python3.7/dist-packages (from librosa) (1.21.6)\n",
            "Requirement already satisfied: decorator>=3.0.0 in /usr/local/lib/python3.7/dist-packages (from librosa) (4.4.2)\n",
            "Requirement already satisfied: soundfile>=0.10.2 in /usr/local/lib/python3.7/dist-packages (from librosa) (0.10.3.post1)\n",
            "Requirement already satisfied: scikit-learn!=0.19.0,>=0.14.0 in /usr/local/lib/python3.7/dist-packages (from librosa) (1.0.2)\n",
            "Requirement already satisfied: resampy>=0.2.2 in /usr/local/lib/python3.7/dist-packages (from librosa) (0.2.2)\n",
            "Requirement already satisfied: pooch>=1.0 in /usr/local/lib/python3.7/dist-packages (from librosa) (1.6.0)\n",
            "Requirement already satisfied: packaging>=20.0 in /usr/local/lib/python3.7/dist-packages (from librosa) (21.3)\n",
            "Requirement already satisfied: audioread>=2.0.0 in /usr/local/lib/python3.7/dist-packages (from librosa) (2.1.9)\n",
            "Requirement already satisfied: joblib>=0.14 in /usr/local/lib/python3.7/dist-packages (from librosa) (1.1.0)\n",
            "Requirement already satisfied: numba>=0.43.0 in /usr/local/lib/python3.7/dist-packages (from librosa) (0.51.2)\n",
            "Requirement already satisfied: scipy>=1.0.0 in /usr/local/lib/python3.7/dist-packages (from librosa) (1.4.1)\n",
            "Requirement already satisfied: llvmlite<0.35,>=0.34.0.dev0 in /usr/local/lib/python3.7/dist-packages (from numba>=0.43.0->librosa) (0.34.0)\n",
            "Requirement already satisfied: setuptools in /usr/local/lib/python3.7/dist-packages (from numba>=0.43.0->librosa) (57.4.0)\n",
            "Requirement already satisfied: pyparsing!=3.0.5,>=2.0.2 in /usr/local/lib/python3.7/dist-packages (from packaging>=20.0->librosa) (3.0.9)\n",
            "Requirement already satisfied: appdirs>=1.3.0 in /usr/local/lib/python3.7/dist-packages (from pooch>=1.0->librosa) (1.4.4)\n",
            "Requirement already satisfied: requests>=2.19.0 in /usr/local/lib/python3.7/dist-packages (from pooch>=1.0->librosa) (2.23.0)\n",
            "Requirement already satisfied: idna<3,>=2.5 in /usr/local/lib/python3.7/dist-packages (from requests>=2.19.0->pooch>=1.0->librosa) (2.10)\n",
            "Requirement already satisfied: certifi>=2017.4.17 in /usr/local/lib/python3.7/dist-packages (from requests>=2.19.0->pooch>=1.0->librosa) (2022.5.18.1)\n",
            "Requirement already satisfied: urllib3!=1.25.0,!=1.25.1,<1.26,>=1.21.1 in /usr/local/lib/python3.7/dist-packages (from requests>=2.19.0->pooch>=1.0->librosa) (1.24.3)\n",
            "Requirement already satisfied: chardet<4,>=3.0.2 in /usr/local/lib/python3.7/dist-packages (from requests>=2.19.0->pooch>=1.0->librosa) (3.0.4)\n",
            "Requirement already satisfied: six>=1.3 in /usr/local/lib/python3.7/dist-packages (from resampy>=0.2.2->librosa) (1.15.0)\n",
            "Requirement already satisfied: threadpoolctl>=2.0.0 in /usr/local/lib/python3.7/dist-packages (from scikit-learn!=0.19.0,>=0.14.0->librosa) (3.1.0)\n",
            "Requirement already satisfied: cffi>=1.0 in /usr/local/lib/python3.7/dist-packages (from soundfile>=0.10.2->librosa) (1.15.0)\n",
            "Requirement already satisfied: pycparser in /usr/local/lib/python3.7/dist-packages (from cffi>=1.0->soundfile>=0.10.2->librosa) (2.21)\n"
          ]
        }
      ]
    },
    {
      "cell_type": "code",
      "metadata": {
        "id": "HJjcbxwy46bG",
        "colab": {
          "base_uri": "https://localhost:8080/",
          "height": 17
        },
        "outputId": "198875b9-aca7-40a5-d2b5-a5d5852e5a6a"
      },
      "source": [
        "# Orignial Notebook: https://github.com/MITESHPUTHRANNEU/Speech-Emotion-Analyzer/blob/master/final_results_gender_test.ipynb\n",
        "# This notebook author: Reza Chu\n",
        "# Last Editing Date: 31st May 2019\n",
        "\n",
        "## Python\n",
        "import os\n",
        "import random\n",
        "import sys\n",
        "\n",
        "import IPython\n",
        "from IPython.display import Audio\n",
        "from IPython.display import Image\n",
        "import matplotlib.pyplot as plt\n",
        "\n",
        "## Package\n",
        "import glob \n",
        "import keras\n",
        "import IPython.display as ipd\n",
        "import librosa\n",
        "import librosa.display\n",
        "import matplotlib.pyplot as plt\n",
        "import numpy as np\n",
        "import pandas as pd\n",
        "import plotly.graph_objs as go\n",
        "import plotly.offline as py\n",
        "import plotly.tools as tls\n",
        "import seaborn as sns\n",
        "import scipy.io.wavfile\n",
        "import tensorflow as tf\n",
        "py.init_notebook_mode(connected=True)\n",
        "\n",
        "## Keras\n",
        "from keras import regularizers\n",
        "from keras.callbacks import ModelCheckpoint, LearningRateScheduler, EarlyStopping\n",
        "from keras.callbacks import  History, ReduceLROnPlateau, CSVLogger\n",
        "from keras.models import Model, Sequential\n",
        "from keras.layers import Dense, Embedding, LSTM\n",
        "from keras.layers import Input, Flatten, Dropout, Activation, BatchNormalization\n",
        "from keras.layers import Conv1D, MaxPooling1D, AveragePooling1D\n",
        "from keras.preprocessing import sequence\n",
        "from keras.preprocessing.sequence import pad_sequences\n",
        "from keras.preprocessing.text import Tokenizer\n",
        "from keras.utils import np_utils\n",
        "from tensorflow.keras.utils import to_categorical\n",
        "\n",
        "## Sklearn\n",
        "from sklearn.metrics import confusion_matrix\n",
        "from sklearn.preprocessing import LabelEncoder\n",
        "\n",
        "## Rest\n",
        "from scipy.fftpack import fft\n",
        "from scipy import signal\n",
        "from scipy.io import wavfile\n",
        "from tqdm import tqdm\n",
        "\n",
        "input_duration=3\n",
        "# % pylab inline"
      ],
      "execution_count": 3,
      "outputs": [
        {
          "output_type": "display_data",
          "data": {
            "text/html": [
              "        <script type=\"text/javascript\">\n",
              "        window.PlotlyConfig = {MathJaxConfig: 'local'};\n",
              "        if (window.MathJax) {MathJax.Hub.Config({SVG: {font: \"STIX-Web\"}});}\n",
              "        if (typeof require !== 'undefined') {\n",
              "        require.undef(\"plotly\");\n",
              "        requirejs.config({\n",
              "            paths: {\n",
              "                'plotly': ['https://cdn.plot.ly/plotly-2.8.3.min']\n",
              "            }\n",
              "        });\n",
              "        require(['plotly'], function(Plotly) {\n",
              "            window._Plotly = Plotly;\n",
              "        });\n",
              "        }\n",
              "        </script>\n",
              "        "
            ]
          },
          "metadata": {}
        }
      ]
    },
    {
      "cell_type": "code",
      "source": [
        "# # Saving joblib files to not load them again with the loop above\n",
        "\n",
        "# import joblib\n",
        "\n",
        "# X_name = 'x.joblib'\n",
        "# y_name = 'y.joblib'\n",
        "# save_dir = '/content/drive/My Drive/graduation project/audio/paper_code/features'\n",
        "\n",
        "# savedX = joblib.dump(X, os.path.join(save_dir, X_name))\n",
        "# savedy = joblib.dump(y, os.path.join(save_dir, y_name))"
      ],
      "metadata": {
        "id": "UCzic8rlDcuk"
      },
      "execution_count": 4,
      "outputs": []
    },
    {
      "cell_type": "code",
      "source": [
        "# # Loading saved models\n",
        "import joblib\n",
        "X = joblib.load('/content/drive/My Drive/graduation project/audio/paper_code/features/x.joblib')\n",
        "y = joblib.load('/content/drive/My Drive/graduation project/audio/paper_code/features/y.joblib')"
      ],
      "metadata": {
        "id": "Q35CN6zDrzg1"
      },
      "execution_count": 5,
      "outputs": []
    },
    {
      "cell_type": "code",
      "source": [
        "X.shape"
      ],
      "metadata": {
        "colab": {
          "base_uri": "https://localhost:8080/"
        },
        "id": "7PSTurzjCo5K",
        "outputId": "297f1b28-681e-4906-f4f0-b103e1c93730"
      },
      "execution_count": 6,
      "outputs": [
        {
          "output_type": "execute_result",
          "data": {
            "text/plain": [
              "(2068, 40)"
            ]
          },
          "metadata": {},
          "execution_count": 6
        }
      ]
    },
    {
      "cell_type": "code",
      "source": [
        "from sklearn.model_selection import train_test_split\n",
        "\n",
        "X_train, X_test, y_train, y_test = train_test_split(X,y, test_size=0.1 ,shuffle = True\n",
        "                                                    , random_state=42)\n",
        "X_train , X_valid, y_train, y_valid = train_test_split(X_train,y_train, test_size=0.1112305212 , shuffle = True \n",
        "                                                       , random_state=42)"
      ],
      "metadata": {
        "id": "Ai4Fy5cPCiq1"
      },
      "execution_count": 7,
      "outputs": []
    },
    {
      "cell_type": "code",
      "source": [
        "import numpy as np\n",
        "x_traincnn = np.expand_dims(X_train, axis=2)\n",
        "x_testcnn = np.expand_dims(X_test, axis=2)\n",
        "X_valid= np.expand_dims(X_valid, axis=2)"
      ],
      "metadata": {
        "id": "tp1Fm5K3CEXu"
      },
      "execution_count": 8,
      "outputs": []
    },
    {
      "cell_type": "code",
      "source": [
        "x_traincnn.shape, x_testcnn.shape , X_valid.shape\n",
        "#1861"
      ],
      "metadata": {
        "id": "RI0MxoIPBws5",
        "colab": {
          "base_uri": "https://localhost:8080/"
        },
        "outputId": "383c2be6-4494-4841-8faa-5d5a3667e8c6"
      },
      "execution_count": 9,
      "outputs": [
        {
          "output_type": "execute_result",
          "data": {
            "text/plain": [
              "((1654, 40, 1), (207, 40, 1), (207, 40, 1))"
            ]
          },
          "metadata": {},
          "execution_count": 9
        }
      ]
    },
    {
      "cell_type": "code",
      "source": [
        "!pip install tensorflow"
      ],
      "metadata": {
        "colab": {
          "base_uri": "https://localhost:8080/"
        },
        "id": "oALhiMUd9G2Y",
        "outputId": "6ce4e7f7-3805-44c6-c5b8-d9bcd5fef9e0"
      },
      "execution_count": 10,
      "outputs": [
        {
          "output_type": "stream",
          "name": "stdout",
          "text": [
            "Looking in indexes: https://pypi.org/simple, https://us-python.pkg.dev/colab-wheels/public/simple/\n",
            "Requirement already satisfied: tensorflow in /usr/local/lib/python3.7/dist-packages (2.8.2+zzzcolab20220527125636)\n",
            "Requirement already satisfied: libclang>=9.0.1 in /usr/local/lib/python3.7/dist-packages (from tensorflow) (14.0.1)\n",
            "Requirement already satisfied: protobuf<3.20,>=3.9.2 in /usr/local/lib/python3.7/dist-packages (from tensorflow) (3.17.3)\n",
            "Requirement already satisfied: tensorflow-estimator<2.9,>=2.8 in /usr/local/lib/python3.7/dist-packages (from tensorflow) (2.8.0)\n",
            "Requirement already satisfied: keras<2.9,>=2.8.0rc0 in /usr/local/lib/python3.7/dist-packages (from tensorflow) (2.8.0)\n",
            "Requirement already satisfied: astunparse>=1.6.0 in /usr/local/lib/python3.7/dist-packages (from tensorflow) (1.6.3)\n",
            "Requirement already satisfied: grpcio<2.0,>=1.24.3 in /usr/local/lib/python3.7/dist-packages (from tensorflow) (1.46.3)\n",
            "Requirement already satisfied: absl-py>=0.4.0 in /usr/local/lib/python3.7/dist-packages (from tensorflow) (1.0.0)\n",
            "Requirement already satisfied: google-pasta>=0.1.1 in /usr/local/lib/python3.7/dist-packages (from tensorflow) (0.2.0)\n",
            "Requirement already satisfied: wrapt>=1.11.0 in /usr/local/lib/python3.7/dist-packages (from tensorflow) (1.14.1)\n",
            "Requirement already satisfied: h5py>=2.9.0 in /usr/local/lib/python3.7/dist-packages (from tensorflow) (3.1.0)\n",
            "Requirement already satisfied: tensorflow-io-gcs-filesystem>=0.23.1 in /usr/local/lib/python3.7/dist-packages (from tensorflow) (0.26.0)\n",
            "Requirement already satisfied: setuptools in /usr/local/lib/python3.7/dist-packages (from tensorflow) (57.4.0)\n",
            "Requirement already satisfied: opt-einsum>=2.3.2 in /usr/local/lib/python3.7/dist-packages (from tensorflow) (3.3.0)\n",
            "Requirement already satisfied: numpy>=1.20 in /usr/local/lib/python3.7/dist-packages (from tensorflow) (1.21.6)\n",
            "Requirement already satisfied: flatbuffers>=1.12 in /usr/local/lib/python3.7/dist-packages (from tensorflow) (2.0)\n",
            "Requirement already satisfied: keras-preprocessing>=1.1.1 in /usr/local/lib/python3.7/dist-packages (from tensorflow) (1.1.2)\n",
            "Requirement already satisfied: typing-extensions>=3.6.6 in /usr/local/lib/python3.7/dist-packages (from tensorflow) (4.2.0)\n",
            "Requirement already satisfied: tensorboard<2.9,>=2.8 in /usr/local/lib/python3.7/dist-packages (from tensorflow) (2.8.0)\n",
            "Requirement already satisfied: gast>=0.2.1 in /usr/local/lib/python3.7/dist-packages (from tensorflow) (0.5.3)\n",
            "Requirement already satisfied: six>=1.12.0 in /usr/local/lib/python3.7/dist-packages (from tensorflow) (1.15.0)\n",
            "Requirement already satisfied: termcolor>=1.1.0 in /usr/local/lib/python3.7/dist-packages (from tensorflow) (1.1.0)\n",
            "Requirement already satisfied: wheel<1.0,>=0.23.0 in /usr/local/lib/python3.7/dist-packages (from astunparse>=1.6.0->tensorflow) (0.37.1)\n",
            "Requirement already satisfied: cached-property in /usr/local/lib/python3.7/dist-packages (from h5py>=2.9.0->tensorflow) (1.5.2)\n",
            "Requirement already satisfied: google-auth<3,>=1.6.3 in /usr/local/lib/python3.7/dist-packages (from tensorboard<2.9,>=2.8->tensorflow) (1.35.0)\n",
            "Requirement already satisfied: werkzeug>=0.11.15 in /usr/local/lib/python3.7/dist-packages (from tensorboard<2.9,>=2.8->tensorflow) (1.0.1)\n",
            "Requirement already satisfied: tensorboard-data-server<0.7.0,>=0.6.0 in /usr/local/lib/python3.7/dist-packages (from tensorboard<2.9,>=2.8->tensorflow) (0.6.1)\n",
            "Requirement already satisfied: markdown>=2.6.8 in /usr/local/lib/python3.7/dist-packages (from tensorboard<2.9,>=2.8->tensorflow) (3.3.7)\n",
            "Requirement already satisfied: requests<3,>=2.21.0 in /usr/local/lib/python3.7/dist-packages (from tensorboard<2.9,>=2.8->tensorflow) (2.23.0)\n",
            "Requirement already satisfied: tensorboard-plugin-wit>=1.6.0 in /usr/local/lib/python3.7/dist-packages (from tensorboard<2.9,>=2.8->tensorflow) (1.8.1)\n",
            "Requirement already satisfied: google-auth-oauthlib<0.5,>=0.4.1 in /usr/local/lib/python3.7/dist-packages (from tensorboard<2.9,>=2.8->tensorflow) (0.4.6)\n",
            "Requirement already satisfied: pyasn1-modules>=0.2.1 in /usr/local/lib/python3.7/dist-packages (from google-auth<3,>=1.6.3->tensorboard<2.9,>=2.8->tensorflow) (0.2.8)\n",
            "Requirement already satisfied: cachetools<5.0,>=2.0.0 in /usr/local/lib/python3.7/dist-packages (from google-auth<3,>=1.6.3->tensorboard<2.9,>=2.8->tensorflow) (4.2.4)\n",
            "Requirement already satisfied: rsa<5,>=3.1.4 in /usr/local/lib/python3.7/dist-packages (from google-auth<3,>=1.6.3->tensorboard<2.9,>=2.8->tensorflow) (4.8)\n",
            "Requirement already satisfied: requests-oauthlib>=0.7.0 in /usr/local/lib/python3.7/dist-packages (from google-auth-oauthlib<0.5,>=0.4.1->tensorboard<2.9,>=2.8->tensorflow) (1.3.1)\n",
            "Requirement already satisfied: importlib-metadata>=4.4 in /usr/local/lib/python3.7/dist-packages (from markdown>=2.6.8->tensorboard<2.9,>=2.8->tensorflow) (4.11.4)\n",
            "Requirement already satisfied: zipp>=0.5 in /usr/local/lib/python3.7/dist-packages (from importlib-metadata>=4.4->markdown>=2.6.8->tensorboard<2.9,>=2.8->tensorflow) (3.8.0)\n",
            "Requirement already satisfied: pyasn1<0.5.0,>=0.4.6 in /usr/local/lib/python3.7/dist-packages (from pyasn1-modules>=0.2.1->google-auth<3,>=1.6.3->tensorboard<2.9,>=2.8->tensorflow) (0.4.8)\n",
            "Requirement already satisfied: certifi>=2017.4.17 in /usr/local/lib/python3.7/dist-packages (from requests<3,>=2.21.0->tensorboard<2.9,>=2.8->tensorflow) (2022.5.18.1)\n",
            "Requirement already satisfied: urllib3!=1.25.0,!=1.25.1,<1.26,>=1.21.1 in /usr/local/lib/python3.7/dist-packages (from requests<3,>=2.21.0->tensorboard<2.9,>=2.8->tensorflow) (1.24.3)\n",
            "Requirement already satisfied: idna<3,>=2.5 in /usr/local/lib/python3.7/dist-packages (from requests<3,>=2.21.0->tensorboard<2.9,>=2.8->tensorflow) (2.10)\n",
            "Requirement already satisfied: chardet<4,>=3.0.2 in /usr/local/lib/python3.7/dist-packages (from requests<3,>=2.21.0->tensorboard<2.9,>=2.8->tensorflow) (3.0.4)\n",
            "Requirement already satisfied: oauthlib>=3.0.0 in /usr/local/lib/python3.7/dist-packages (from requests-oauthlib>=0.7.0->google-auth-oauthlib<0.5,>=0.4.1->tensorboard<2.9,>=2.8->tensorflow) (3.2.0)\n"
          ]
        }
      ]
    },
    {
      "cell_type": "code",
      "source": [
        "import keras\n",
        "import numpy as np\n",
        "import matplotlib.pyplot as plt\n",
        "import tensorflow as tf\n",
        "from keras.preprocessing import sequence\n",
        "from keras.models import Sequential\n",
        "from keras.layers import Dense, Embedding\n",
        "from tensorflow.keras.utils import to_categorical\n",
        "from keras.layers import Input, Flatten, Dropout, Activation\n",
        "from keras.layers import Conv1D, MaxPooling1D\n",
        "from keras.models import Model\n",
        "from keras.callbacks import ModelCheckpoint\n",
        "from tensorflow.keras import optimizers\n",
        "\n",
        "model = Sequential()\n",
        "\n",
        "model.add(Conv1D(128, 8,padding='same', #classifier.add(Convolution2D(64, (3, 3), padding = 'same', input_shape = (128, 128, 3), activation = 'relu'))\n",
        "                 input_shape=(40,1)))\n",
        "model.add(Activation('relu'))\n",
        "model.add(Dropout(0.3))\n",
        "model.add(MaxPooling1D(pool_size=(5)))\n",
        "\n",
        "\n",
        "model.add(Conv1D(256,8,padding='same',))\n",
        "model.add(Activation('relu'))\n",
        "model.add(Dropout(0.3))\n",
        "model.add(MaxPooling1D(pool_size=(5)))\n",
        "\n",
        "model.add(Conv1D(256,8,padding='same',))\n",
        "model.add(Activation('relu'))\n",
        "model.add(Dropout(0.3))\n",
        "#model.add(MaxPooling1D(pool_size=(5)))\n",
        "\n",
        "model.add(Flatten())\n",
        "\n",
        "model.add(Dense(256))\n",
        "model.add(Activation('relu'))\n",
        "model.add(Dense(256))\n",
        "model.add(Activation('relu'))\n",
        "\n",
        "model.add(Dense(6))\n",
        "model.add(Activation('softmax'))\n",
        "\n",
        "\n",
        "opt = tf.keras.optimizers.RMSprop(lr=0.0002 , decay=0.0)\n",
        "#opt = tf.keras.optimizers.Adam(lr=0.0002 , decay=0.0)\n",
        "#opt = tf.keras.optimizers.RMSprop(lr=0.0001, rho=0.9, epsilon=1e-07, decay=0.0)\n",
        "#opt = tf.keras.optimizers.SGD(lr=0.001, momentum=0.0, decay=0.0, nesterov=False)"
      ],
      "metadata": {
        "id": "g74fXWVAC4Cr",
        "colab": {
          "base_uri": "https://localhost:8080/"
        },
        "outputId": "45d3cb14-1445-43c5-e714-9410b9f55e3a"
      },
      "execution_count": 11,
      "outputs": [
        {
          "output_type": "stream",
          "name": "stderr",
          "text": [
            "/usr/local/lib/python3.7/dist-packages/keras/optimizer_v2/rmsprop.py:130: UserWarning:\n",
            "\n",
            "The `lr` argument is deprecated, use `learning_rate` instead.\n",
            "\n"
          ]
        }
      ]
    },
    {
      "cell_type": "code",
      "source": [
        "model.summary()"
      ],
      "metadata": {
        "colab": {
          "base_uri": "https://localhost:8080/"
        },
        "id": "H6ukOxAGC_I4",
        "outputId": "34f58bad-41ec-46b3-b3c1-087b9ed2ce0a"
      },
      "execution_count": 12,
      "outputs": [
        {
          "output_type": "stream",
          "name": "stdout",
          "text": [
            "Model: \"sequential\"\n",
            "_________________________________________________________________\n",
            " Layer (type)                Output Shape              Param #   \n",
            "=================================================================\n",
            " conv1d (Conv1D)             (None, 40, 128)           1152      \n",
            "                                                                 \n",
            " activation (Activation)     (None, 40, 128)           0         \n",
            "                                                                 \n",
            " dropout (Dropout)           (None, 40, 128)           0         \n",
            "                                                                 \n",
            " max_pooling1d (MaxPooling1D  (None, 8, 128)           0         \n",
            " )                                                               \n",
            "                                                                 \n",
            " conv1d_1 (Conv1D)           (None, 8, 256)            262400    \n",
            "                                                                 \n",
            " activation_1 (Activation)   (None, 8, 256)            0         \n",
            "                                                                 \n",
            " dropout_1 (Dropout)         (None, 8, 256)            0         \n",
            "                                                                 \n",
            " max_pooling1d_1 (MaxPooling  (None, 1, 256)           0         \n",
            " 1D)                                                             \n",
            "                                                                 \n",
            " conv1d_2 (Conv1D)           (None, 1, 256)            524544    \n",
            "                                                                 \n",
            " activation_2 (Activation)   (None, 1, 256)            0         \n",
            "                                                                 \n",
            " dropout_2 (Dropout)         (None, 1, 256)            0         \n",
            "                                                                 \n",
            " flatten (Flatten)           (None, 256)               0         \n",
            "                                                                 \n",
            " dense (Dense)               (None, 256)               65792     \n",
            "                                                                 \n",
            " activation_3 (Activation)   (None, 256)               0         \n",
            "                                                                 \n",
            " dense_1 (Dense)             (None, 256)               65792     \n",
            "                                                                 \n",
            " activation_4 (Activation)   (None, 256)               0         \n",
            "                                                                 \n",
            " dense_2 (Dense)             (None, 6)                 1542      \n",
            "                                                                 \n",
            " activation_5 (Activation)   (None, 6)                 0         \n",
            "                                                                 \n",
            "=================================================================\n",
            "Total params: 921,222\n",
            "Trainable params: 921,222\n",
            "Non-trainable params: 0\n",
            "_________________________________________________________________\n"
          ]
        }
      ]
    },
    {
      "cell_type": "code",
      "source": [
        "model.compile(loss='sparse_categorical_crossentropy',\n",
        "              optimizer=opt,\n",
        "              metrics=['accuracy'])"
      ],
      "metadata": {
        "id": "AbMlLNk4DCBM"
      },
      "execution_count": 13,
      "outputs": []
    },
    {
      "cell_type": "code",
      "source": [
        "# Create an Instance of Early Stopping Callback.\n",
        "early_stopping_callback = EarlyStopping(monitor = 'val_loss', patience = 25, mode = 'min', restore_best_weights = True)\n",
        "\n",
        "cnnhistory=model.fit(x_traincnn, y_train, batch_size=16, epochs=500 , shuffle = True, \n",
        "                     validation_data=(X_valid, y_valid) , callbacks = [early_stopping_callback])"
      ],
      "metadata": {
        "colab": {
          "base_uri": "https://localhost:8080/"
        },
        "id": "RI1v2AuADFhy",
        "outputId": "e9c57e0e-1414-455e-b286-868c13ee822a"
      },
      "execution_count": 14,
      "outputs": [
        {
          "output_type": "stream",
          "name": "stdout",
          "text": [
            "Epoch 1/500\n",
            "104/104 [==============================] - 6s 16ms/step - loss: 2.3389 - accuracy: 0.1844 - val_loss: 1.8439 - val_accuracy: 0.1932\n",
            "Epoch 2/500\n",
            "104/104 [==============================] - 1s 10ms/step - loss: 1.8763 - accuracy: 0.1838 - val_loss: 1.7909 - val_accuracy: 0.1739\n",
            "Epoch 3/500\n",
            "104/104 [==============================] - 1s 10ms/step - loss: 1.8375 - accuracy: 0.1923 - val_loss: 1.7740 - val_accuracy: 0.1884\n",
            "Epoch 4/500\n",
            "104/104 [==============================] - 1s 11ms/step - loss: 1.8194 - accuracy: 0.2195 - val_loss: 1.7827 - val_accuracy: 0.1739\n",
            "Epoch 5/500\n",
            "104/104 [==============================] - 1s 10ms/step - loss: 1.8132 - accuracy: 0.1941 - val_loss: 1.7609 - val_accuracy: 0.1981\n",
            "Epoch 6/500\n",
            "104/104 [==============================] - 1s 11ms/step - loss: 1.7876 - accuracy: 0.2001 - val_loss: 1.7560 - val_accuracy: 0.2029\n",
            "Epoch 7/500\n",
            "104/104 [==============================] - 1s 9ms/step - loss: 1.7703 - accuracy: 0.2140 - val_loss: 1.7600 - val_accuracy: 0.2126\n",
            "Epoch 8/500\n",
            "104/104 [==============================] - 1s 10ms/step - loss: 1.7554 - accuracy: 0.2388 - val_loss: 1.7456 - val_accuracy: 0.2126\n",
            "Epoch 9/500\n",
            "104/104 [==============================] - 1s 11ms/step - loss: 1.7369 - accuracy: 0.2358 - val_loss: 1.6976 - val_accuracy: 0.2899\n",
            "Epoch 10/500\n",
            "104/104 [==============================] - 1s 12ms/step - loss: 1.7193 - accuracy: 0.2545 - val_loss: 1.6728 - val_accuracy: 0.2367\n",
            "Epoch 11/500\n",
            "104/104 [==============================] - 1s 11ms/step - loss: 1.6749 - accuracy: 0.2600 - val_loss: 1.6941 - val_accuracy: 0.2174\n",
            "Epoch 12/500\n",
            "104/104 [==============================] - 1s 12ms/step - loss: 1.6558 - accuracy: 0.2612 - val_loss: 1.6213 - val_accuracy: 0.2899\n",
            "Epoch 13/500\n",
            "104/104 [==============================] - 1s 10ms/step - loss: 1.6386 - accuracy: 0.2781 - val_loss: 1.6096 - val_accuracy: 0.3285\n",
            "Epoch 14/500\n",
            "104/104 [==============================] - 1s 11ms/step - loss: 1.6312 - accuracy: 0.2781 - val_loss: 1.6147 - val_accuracy: 0.3043\n",
            "Epoch 15/500\n",
            "104/104 [==============================] - 1s 10ms/step - loss: 1.6232 - accuracy: 0.2872 - val_loss: 1.6206 - val_accuracy: 0.3527\n",
            "Epoch 16/500\n",
            "104/104 [==============================] - 1s 12ms/step - loss: 1.6035 - accuracy: 0.2950 - val_loss: 1.5746 - val_accuracy: 0.3092\n",
            "Epoch 17/500\n",
            "104/104 [==============================] - 1s 13ms/step - loss: 1.5777 - accuracy: 0.3053 - val_loss: 1.5833 - val_accuracy: 0.3043\n",
            "Epoch 18/500\n",
            "104/104 [==============================] - 1s 10ms/step - loss: 1.5818 - accuracy: 0.3162 - val_loss: 1.5650 - val_accuracy: 0.3333\n",
            "Epoch 19/500\n",
            "104/104 [==============================] - 1s 10ms/step - loss: 1.5515 - accuracy: 0.3216 - val_loss: 1.5390 - val_accuracy: 0.3285\n",
            "Epoch 20/500\n",
            "104/104 [==============================] - 1s 10ms/step - loss: 1.5493 - accuracy: 0.3362 - val_loss: 1.5339 - val_accuracy: 0.3382\n",
            "Epoch 21/500\n",
            "104/104 [==============================] - 1s 10ms/step - loss: 1.5294 - accuracy: 0.3368 - val_loss: 1.5049 - val_accuracy: 0.3285\n",
            "Epoch 22/500\n",
            "104/104 [==============================] - 1s 10ms/step - loss: 1.5306 - accuracy: 0.3452 - val_loss: 1.5069 - val_accuracy: 0.3575\n",
            "Epoch 23/500\n",
            "104/104 [==============================] - 1s 6ms/step - loss: 1.4931 - accuracy: 0.3622 - val_loss: 1.5278 - val_accuracy: 0.3430\n",
            "Epoch 24/500\n",
            "104/104 [==============================] - 1s 7ms/step - loss: 1.4729 - accuracy: 0.3718 - val_loss: 1.4794 - val_accuracy: 0.3913\n",
            "Epoch 25/500\n",
            "104/104 [==============================] - 1s 6ms/step - loss: 1.4688 - accuracy: 0.3803 - val_loss: 1.4780 - val_accuracy: 0.4493\n",
            "Epoch 26/500\n",
            "104/104 [==============================] - 1s 6ms/step - loss: 1.4390 - accuracy: 0.3996 - val_loss: 1.4454 - val_accuracy: 0.3478\n",
            "Epoch 27/500\n",
            "104/104 [==============================] - 1s 6ms/step - loss: 1.4163 - accuracy: 0.4178 - val_loss: 1.3513 - val_accuracy: 0.4300\n",
            "Epoch 28/500\n",
            "104/104 [==============================] - 1s 5ms/step - loss: 1.3770 - accuracy: 0.4256 - val_loss: 1.3600 - val_accuracy: 0.4541\n",
            "Epoch 29/500\n",
            "104/104 [==============================] - 1s 7ms/step - loss: 1.3744 - accuracy: 0.4160 - val_loss: 1.3456 - val_accuracy: 0.4300\n",
            "Epoch 30/500\n",
            "104/104 [==============================] - 1s 6ms/step - loss: 1.3472 - accuracy: 0.4407 - val_loss: 1.2946 - val_accuracy: 0.4638\n",
            "Epoch 31/500\n",
            "104/104 [==============================] - 1s 7ms/step - loss: 1.3313 - accuracy: 0.4528 - val_loss: 1.3021 - val_accuracy: 0.4879\n",
            "Epoch 32/500\n",
            "104/104 [==============================] - 1s 6ms/step - loss: 1.2849 - accuracy: 0.4553 - val_loss: 1.2542 - val_accuracy: 0.4879\n",
            "Epoch 33/500\n",
            "104/104 [==============================] - 1s 6ms/step - loss: 1.2637 - accuracy: 0.4758 - val_loss: 1.2305 - val_accuracy: 0.5072\n",
            "Epoch 34/500\n",
            "104/104 [==============================] - 1s 6ms/step - loss: 1.2349 - accuracy: 0.4879 - val_loss: 1.2456 - val_accuracy: 0.4444\n",
            "Epoch 35/500\n",
            "104/104 [==============================] - 1s 6ms/step - loss: 1.2411 - accuracy: 0.4807 - val_loss: 1.2137 - val_accuracy: 0.4976\n",
            "Epoch 36/500\n",
            "104/104 [==============================] - 1s 7ms/step - loss: 1.2028 - accuracy: 0.5006 - val_loss: 1.1731 - val_accuracy: 0.5121\n",
            "Epoch 37/500\n",
            "104/104 [==============================] - 1s 6ms/step - loss: 1.1933 - accuracy: 0.5200 - val_loss: 1.2500 - val_accuracy: 0.4493\n",
            "Epoch 38/500\n",
            "104/104 [==============================] - 1s 7ms/step - loss: 1.1777 - accuracy: 0.5036 - val_loss: 1.1366 - val_accuracy: 0.5411\n",
            "Epoch 39/500\n",
            "104/104 [==============================] - 1s 5ms/step - loss: 1.1528 - accuracy: 0.5151 - val_loss: 1.2572 - val_accuracy: 0.4831\n",
            "Epoch 40/500\n",
            "104/104 [==============================] - 1s 6ms/step - loss: 1.1333 - accuracy: 0.5435 - val_loss: 1.1486 - val_accuracy: 0.5266\n",
            "Epoch 41/500\n",
            "104/104 [==============================] - 1s 6ms/step - loss: 1.1012 - accuracy: 0.5459 - val_loss: 1.1007 - val_accuracy: 0.5121\n",
            "Epoch 42/500\n",
            "104/104 [==============================] - 1s 6ms/step - loss: 1.1122 - accuracy: 0.5417 - val_loss: 1.1548 - val_accuracy: 0.5217\n",
            "Epoch 43/500\n",
            "104/104 [==============================] - 1s 6ms/step - loss: 1.0932 - accuracy: 0.5423 - val_loss: 1.1128 - val_accuracy: 0.5169\n",
            "Epoch 44/500\n",
            "104/104 [==============================] - 1s 6ms/step - loss: 1.0906 - accuracy: 0.5623 - val_loss: 1.1309 - val_accuracy: 0.5556\n",
            "Epoch 45/500\n",
            "104/104 [==============================] - 1s 7ms/step - loss: 1.0521 - accuracy: 0.5834 - val_loss: 1.0751 - val_accuracy: 0.5217\n",
            "Epoch 46/500\n",
            "104/104 [==============================] - 1s 6ms/step - loss: 1.0453 - accuracy: 0.5719 - val_loss: 1.0580 - val_accuracy: 0.5604\n",
            "Epoch 47/500\n",
            "104/104 [==============================] - 1s 7ms/step - loss: 1.0445 - accuracy: 0.5550 - val_loss: 1.0496 - val_accuracy: 0.5507\n",
            "Epoch 48/500\n",
            "104/104 [==============================] - 1s 6ms/step - loss: 1.0178 - accuracy: 0.5828 - val_loss: 1.0463 - val_accuracy: 0.5556\n",
            "Epoch 49/500\n",
            "104/104 [==============================] - 1s 7ms/step - loss: 1.0317 - accuracy: 0.5701 - val_loss: 1.0251 - val_accuracy: 0.5845\n",
            "Epoch 50/500\n",
            "104/104 [==============================] - 1s 6ms/step - loss: 0.9863 - accuracy: 0.5901 - val_loss: 1.1154 - val_accuracy: 0.5459\n",
            "Epoch 51/500\n",
            "104/104 [==============================] - 1s 6ms/step - loss: 0.9933 - accuracy: 0.5967 - val_loss: 0.9796 - val_accuracy: 0.5990\n",
            "Epoch 52/500\n",
            "104/104 [==============================] - 1s 6ms/step - loss: 0.9993 - accuracy: 0.5937 - val_loss: 0.9782 - val_accuracy: 0.6039\n",
            "Epoch 53/500\n",
            "104/104 [==============================] - 1s 6ms/step - loss: 0.9899 - accuracy: 0.6028 - val_loss: 0.9955 - val_accuracy: 0.5894\n",
            "Epoch 54/500\n",
            "104/104 [==============================] - 1s 7ms/step - loss: 0.9712 - accuracy: 0.6028 - val_loss: 0.9362 - val_accuracy: 0.6618\n",
            "Epoch 55/500\n",
            "104/104 [==============================] - 1s 6ms/step - loss: 0.9737 - accuracy: 0.6100 - val_loss: 0.9894 - val_accuracy: 0.5942\n",
            "Epoch 56/500\n",
            "104/104 [==============================] - 1s 9ms/step - loss: 0.9320 - accuracy: 0.6324 - val_loss: 0.9724 - val_accuracy: 0.6135\n",
            "Epoch 57/500\n",
            "104/104 [==============================] - 1s 10ms/step - loss: 0.9362 - accuracy: 0.6239 - val_loss: 0.9320 - val_accuracy: 0.6184\n",
            "Epoch 58/500\n",
            "104/104 [==============================] - 1s 12ms/step - loss: 0.9372 - accuracy: 0.6397 - val_loss: 0.9621 - val_accuracy: 0.5845\n",
            "Epoch 59/500\n",
            "104/104 [==============================] - 1s 14ms/step - loss: 0.9222 - accuracy: 0.6167 - val_loss: 0.9548 - val_accuracy: 0.6280\n",
            "Epoch 60/500\n",
            "104/104 [==============================] - 2s 16ms/step - loss: 0.9033 - accuracy: 0.6318 - val_loss: 0.9312 - val_accuracy: 0.6039\n",
            "Epoch 61/500\n",
            "104/104 [==============================] - 1s 8ms/step - loss: 0.9092 - accuracy: 0.6354 - val_loss: 0.9843 - val_accuracy: 0.5797\n",
            "Epoch 62/500\n",
            "104/104 [==============================] - 1s 8ms/step - loss: 0.8865 - accuracy: 0.6421 - val_loss: 0.9301 - val_accuracy: 0.6184\n",
            "Epoch 63/500\n",
            "104/104 [==============================] - 1s 6ms/step - loss: 0.8799 - accuracy: 0.6445 - val_loss: 0.8978 - val_accuracy: 0.6570\n",
            "Epoch 64/500\n",
            "104/104 [==============================] - 1s 6ms/step - loss: 0.8974 - accuracy: 0.6463 - val_loss: 0.8759 - val_accuracy: 0.6618\n",
            "Epoch 65/500\n",
            "104/104 [==============================] - 1s 6ms/step - loss: 0.8637 - accuracy: 0.6602 - val_loss: 0.9168 - val_accuracy: 0.6329\n",
            "Epoch 66/500\n",
            "104/104 [==============================] - 1s 6ms/step - loss: 0.8741 - accuracy: 0.6560 - val_loss: 0.8579 - val_accuracy: 0.6763\n",
            "Epoch 67/500\n",
            "104/104 [==============================] - 1s 7ms/step - loss: 0.8369 - accuracy: 0.6439 - val_loss: 0.8547 - val_accuracy: 0.6667\n",
            "Epoch 68/500\n",
            "104/104 [==============================] - 1s 6ms/step - loss: 0.8346 - accuracy: 0.6620 - val_loss: 0.8914 - val_accuracy: 0.6763\n",
            "Epoch 69/500\n",
            "104/104 [==============================] - 1s 6ms/step - loss: 0.8326 - accuracy: 0.6632 - val_loss: 0.8761 - val_accuracy: 0.6715\n",
            "Epoch 70/500\n",
            "104/104 [==============================] - 1s 6ms/step - loss: 0.8500 - accuracy: 0.6433 - val_loss: 0.9390 - val_accuracy: 0.6329\n",
            "Epoch 71/500\n",
            "104/104 [==============================] - 1s 7ms/step - loss: 0.8224 - accuracy: 0.6747 - val_loss: 0.9247 - val_accuracy: 0.6329\n",
            "Epoch 72/500\n",
            "104/104 [==============================] - 1s 6ms/step - loss: 0.8025 - accuracy: 0.6856 - val_loss: 0.8650 - val_accuracy: 0.6522\n",
            "Epoch 73/500\n",
            "104/104 [==============================] - 1s 7ms/step - loss: 0.7879 - accuracy: 0.6941 - val_loss: 0.7994 - val_accuracy: 0.6763\n",
            "Epoch 74/500\n",
            "104/104 [==============================] - 1s 6ms/step - loss: 0.8109 - accuracy: 0.6663 - val_loss: 0.8029 - val_accuracy: 0.6957\n",
            "Epoch 75/500\n",
            "104/104 [==============================] - 1s 6ms/step - loss: 0.7983 - accuracy: 0.6778 - val_loss: 0.7793 - val_accuracy: 0.7005\n",
            "Epoch 76/500\n",
            "104/104 [==============================] - 1s 6ms/step - loss: 0.7877 - accuracy: 0.6917 - val_loss: 0.8728 - val_accuracy: 0.6473\n",
            "Epoch 77/500\n",
            "104/104 [==============================] - 1s 6ms/step - loss: 0.7929 - accuracy: 0.6898 - val_loss: 0.7582 - val_accuracy: 0.7150\n",
            "Epoch 78/500\n",
            "104/104 [==============================] - 1s 7ms/step - loss: 0.7720 - accuracy: 0.6856 - val_loss: 0.7670 - val_accuracy: 0.6957\n",
            "Epoch 79/500\n",
            "104/104 [==============================] - 1s 6ms/step - loss: 0.7835 - accuracy: 0.6820 - val_loss: 0.8610 - val_accuracy: 0.6763\n",
            "Epoch 80/500\n",
            "104/104 [==============================] - 1s 6ms/step - loss: 0.7642 - accuracy: 0.7068 - val_loss: 0.9481 - val_accuracy: 0.5797\n",
            "Epoch 81/500\n",
            "104/104 [==============================] - 1s 6ms/step - loss: 0.7834 - accuracy: 0.6856 - val_loss: 0.8373 - val_accuracy: 0.6570\n",
            "Epoch 82/500\n",
            "104/104 [==============================] - 1s 6ms/step - loss: 0.7607 - accuracy: 0.7068 - val_loss: 0.7769 - val_accuracy: 0.7585\n",
            "Epoch 83/500\n",
            "104/104 [==============================] - 1s 6ms/step - loss: 0.7492 - accuracy: 0.7037 - val_loss: 0.8608 - val_accuracy: 0.6522\n",
            "Epoch 84/500\n",
            "104/104 [==============================] - 1s 7ms/step - loss: 0.7566 - accuracy: 0.7068 - val_loss: 0.8550 - val_accuracy: 0.6570\n",
            "Epoch 85/500\n",
            "104/104 [==============================] - 1s 6ms/step - loss: 0.7315 - accuracy: 0.7007 - val_loss: 0.7771 - val_accuracy: 0.7053\n",
            "Epoch 86/500\n",
            "104/104 [==============================] - 1s 6ms/step - loss: 0.7404 - accuracy: 0.7195 - val_loss: 0.7745 - val_accuracy: 0.6715\n",
            "Epoch 87/500\n",
            "104/104 [==============================] - 1s 6ms/step - loss: 0.7329 - accuracy: 0.7104 - val_loss: 0.7235 - val_accuracy: 0.7391\n",
            "Epoch 88/500\n",
            "104/104 [==============================] - 1s 6ms/step - loss: 0.7398 - accuracy: 0.7050 - val_loss: 0.8354 - val_accuracy: 0.6329\n",
            "Epoch 89/500\n",
            "104/104 [==============================] - 1s 7ms/step - loss: 0.7319 - accuracy: 0.7164 - val_loss: 0.7892 - val_accuracy: 0.6957\n",
            "Epoch 90/500\n",
            "104/104 [==============================] - 1s 6ms/step - loss: 0.7149 - accuracy: 0.7195 - val_loss: 0.7485 - val_accuracy: 0.7150\n",
            "Epoch 91/500\n",
            "104/104 [==============================] - 1s 7ms/step - loss: 0.7118 - accuracy: 0.7170 - val_loss: 0.8658 - val_accuracy: 0.6087\n",
            "Epoch 92/500\n",
            "104/104 [==============================] - 1s 6ms/step - loss: 0.6998 - accuracy: 0.7183 - val_loss: 0.7625 - val_accuracy: 0.7150\n",
            "Epoch 93/500\n",
            "104/104 [==============================] - 1s 6ms/step - loss: 0.7079 - accuracy: 0.7334 - val_loss: 0.7157 - val_accuracy: 0.7585\n",
            "Epoch 94/500\n",
            "104/104 [==============================] - 1s 6ms/step - loss: 0.6993 - accuracy: 0.7310 - val_loss: 0.7366 - val_accuracy: 0.7440\n",
            "Epoch 95/500\n",
            "104/104 [==============================] - 1s 6ms/step - loss: 0.6744 - accuracy: 0.7437 - val_loss: 0.7127 - val_accuracy: 0.7488\n",
            "Epoch 96/500\n",
            "104/104 [==============================] - 1s 7ms/step - loss: 0.6675 - accuracy: 0.7376 - val_loss: 0.7230 - val_accuracy: 0.7343\n",
            "Epoch 97/500\n",
            "104/104 [==============================] - 1s 6ms/step - loss: 0.6753 - accuracy: 0.7424 - val_loss: 0.7197 - val_accuracy: 0.7343\n",
            "Epoch 98/500\n",
            "104/104 [==============================] - 1s 6ms/step - loss: 0.6781 - accuracy: 0.7376 - val_loss: 0.7659 - val_accuracy: 0.7005\n",
            "Epoch 99/500\n",
            "104/104 [==============================] - 1s 7ms/step - loss: 0.6704 - accuracy: 0.7449 - val_loss: 0.7580 - val_accuracy: 0.7005\n",
            "Epoch 100/500\n",
            "104/104 [==============================] - 1s 6ms/step - loss: 0.6592 - accuracy: 0.7467 - val_loss: 0.7589 - val_accuracy: 0.7343\n",
            "Epoch 101/500\n",
            "104/104 [==============================] - 1s 6ms/step - loss: 0.6615 - accuracy: 0.7455 - val_loss: 0.7164 - val_accuracy: 0.7391\n",
            "Epoch 102/500\n",
            "104/104 [==============================] - 1s 7ms/step - loss: 0.6596 - accuracy: 0.7382 - val_loss: 0.6674 - val_accuracy: 0.7585\n",
            "Epoch 103/500\n",
            "104/104 [==============================] - 1s 7ms/step - loss: 0.6622 - accuracy: 0.7539 - val_loss: 0.7870 - val_accuracy: 0.6715\n",
            "Epoch 104/500\n",
            "104/104 [==============================] - 1s 10ms/step - loss: 0.6478 - accuracy: 0.7497 - val_loss: 0.7423 - val_accuracy: 0.7246\n",
            "Epoch 105/500\n",
            "104/104 [==============================] - 1s 11ms/step - loss: 0.6440 - accuracy: 0.7503 - val_loss: 0.7026 - val_accuracy: 0.7440\n",
            "Epoch 106/500\n",
            "104/104 [==============================] - 1s 9ms/step - loss: 0.6383 - accuracy: 0.7576 - val_loss: 0.7273 - val_accuracy: 0.7101\n",
            "Epoch 107/500\n",
            "104/104 [==============================] - 1s 8ms/step - loss: 0.6366 - accuracy: 0.7539 - val_loss: 0.7095 - val_accuracy: 0.7246\n",
            "Epoch 108/500\n",
            "104/104 [==============================] - 1s 6ms/step - loss: 0.6451 - accuracy: 0.7376 - val_loss: 0.7530 - val_accuracy: 0.7150\n",
            "Epoch 109/500\n",
            "104/104 [==============================] - 1s 6ms/step - loss: 0.6433 - accuracy: 0.7545 - val_loss: 0.7243 - val_accuracy: 0.7198\n",
            "Epoch 110/500\n",
            "104/104 [==============================] - 1s 6ms/step - loss: 0.6448 - accuracy: 0.7563 - val_loss: 0.6868 - val_accuracy: 0.7246\n",
            "Epoch 111/500\n",
            "104/104 [==============================] - 1s 6ms/step - loss: 0.6003 - accuracy: 0.7715 - val_loss: 0.6781 - val_accuracy: 0.7440\n",
            "Epoch 112/500\n",
            "104/104 [==============================] - 1s 5ms/step - loss: 0.6435 - accuracy: 0.7521 - val_loss: 0.6840 - val_accuracy: 0.7536\n",
            "Epoch 113/500\n",
            "104/104 [==============================] - 1s 6ms/step - loss: 0.6075 - accuracy: 0.7557 - val_loss: 0.7205 - val_accuracy: 0.7343\n",
            "Epoch 114/500\n",
            "104/104 [==============================] - 1s 6ms/step - loss: 0.5830 - accuracy: 0.7739 - val_loss: 0.7296 - val_accuracy: 0.7536\n",
            "Epoch 115/500\n",
            "104/104 [==============================] - 1s 7ms/step - loss: 0.5915 - accuracy: 0.7769 - val_loss: 0.6385 - val_accuracy: 0.7343\n",
            "Epoch 116/500\n",
            "104/104 [==============================] - 1s 6ms/step - loss: 0.6172 - accuracy: 0.7642 - val_loss: 0.6870 - val_accuracy: 0.7295\n",
            "Epoch 117/500\n",
            "104/104 [==============================] - 1s 7ms/step - loss: 0.5884 - accuracy: 0.7745 - val_loss: 0.6989 - val_accuracy: 0.7295\n",
            "Epoch 118/500\n",
            "104/104 [==============================] - 1s 6ms/step - loss: 0.5914 - accuracy: 0.7636 - val_loss: 0.6983 - val_accuracy: 0.7440\n",
            "Epoch 119/500\n",
            "104/104 [==============================] - 1s 6ms/step - loss: 0.5757 - accuracy: 0.7696 - val_loss: 0.6748 - val_accuracy: 0.7633\n",
            "Epoch 120/500\n",
            "104/104 [==============================] - 1s 7ms/step - loss: 0.5768 - accuracy: 0.7775 - val_loss: 0.6441 - val_accuracy: 0.7923\n",
            "Epoch 121/500\n",
            "104/104 [==============================] - 1s 6ms/step - loss: 0.5505 - accuracy: 0.7739 - val_loss: 0.7010 - val_accuracy: 0.7488\n",
            "Epoch 122/500\n",
            "104/104 [==============================] - 1s 7ms/step - loss: 0.6029 - accuracy: 0.7781 - val_loss: 0.7457 - val_accuracy: 0.7053\n",
            "Epoch 123/500\n",
            "104/104 [==============================] - 1s 6ms/step - loss: 0.5691 - accuracy: 0.7805 - val_loss: 0.6569 - val_accuracy: 0.7440\n",
            "Epoch 124/500\n",
            "104/104 [==============================] - 1s 7ms/step - loss: 0.6080 - accuracy: 0.7745 - val_loss: 0.6731 - val_accuracy: 0.7343\n",
            "Epoch 125/500\n",
            "104/104 [==============================] - 1s 6ms/step - loss: 0.5561 - accuracy: 0.7805 - val_loss: 0.7849 - val_accuracy: 0.6957\n",
            "Epoch 126/500\n",
            "104/104 [==============================] - 1s 6ms/step - loss: 0.5700 - accuracy: 0.7823 - val_loss: 0.7160 - val_accuracy: 0.7295\n",
            "Epoch 127/500\n",
            "104/104 [==============================] - 1s 6ms/step - loss: 0.5825 - accuracy: 0.7830 - val_loss: 0.6770 - val_accuracy: 0.7440\n",
            "Epoch 128/500\n",
            "104/104 [==============================] - 1s 6ms/step - loss: 0.5649 - accuracy: 0.7817 - val_loss: 0.6883 - val_accuracy: 0.7440\n",
            "Epoch 129/500\n",
            "104/104 [==============================] - 1s 7ms/step - loss: 0.5900 - accuracy: 0.7842 - val_loss: 0.7703 - val_accuracy: 0.6860\n",
            "Epoch 130/500\n",
            "104/104 [==============================] - 1s 6ms/step - loss: 0.5407 - accuracy: 0.7908 - val_loss: 0.7346 - val_accuracy: 0.7295\n",
            "Epoch 131/500\n",
            "104/104 [==============================] - 1s 7ms/step - loss: 0.5201 - accuracy: 0.8089 - val_loss: 0.6224 - val_accuracy: 0.7633\n",
            "Epoch 132/500\n",
            "104/104 [==============================] - 1s 6ms/step - loss: 0.5585 - accuracy: 0.7932 - val_loss: 0.6320 - val_accuracy: 0.7681\n",
            "Epoch 133/500\n",
            "104/104 [==============================] - 1s 7ms/step - loss: 0.5211 - accuracy: 0.7950 - val_loss: 0.6349 - val_accuracy: 0.7778\n",
            "Epoch 134/500\n",
            "104/104 [==============================] - 1s 5ms/step - loss: 0.5279 - accuracy: 0.8053 - val_loss: 0.5989 - val_accuracy: 0.7826\n",
            "Epoch 135/500\n",
            "104/104 [==============================] - 1s 9ms/step - loss: 0.5548 - accuracy: 0.7938 - val_loss: 0.6280 - val_accuracy: 0.7585\n",
            "Epoch 136/500\n",
            "104/104 [==============================] - 1s 6ms/step - loss: 0.5175 - accuracy: 0.7896 - val_loss: 0.7334 - val_accuracy: 0.7053\n",
            "Epoch 137/500\n",
            "104/104 [==============================] - 1s 6ms/step - loss: 0.5058 - accuracy: 0.8071 - val_loss: 0.6867 - val_accuracy: 0.7536\n",
            "Epoch 138/500\n",
            "104/104 [==============================] - 1s 6ms/step - loss: 0.5266 - accuracy: 0.8096 - val_loss: 0.6771 - val_accuracy: 0.7488\n",
            "Epoch 139/500\n",
            "104/104 [==============================] - 1s 6ms/step - loss: 0.5250 - accuracy: 0.8065 - val_loss: 0.8044 - val_accuracy: 0.7295\n",
            "Epoch 140/500\n",
            "104/104 [==============================] - 1s 6ms/step - loss: 0.5365 - accuracy: 0.7944 - val_loss: 0.6336 - val_accuracy: 0.7826\n",
            "Epoch 141/500\n",
            "104/104 [==============================] - 1s 6ms/step - loss: 0.5331 - accuracy: 0.7932 - val_loss: 0.6483 - val_accuracy: 0.7681\n",
            "Epoch 142/500\n",
            "104/104 [==============================] - 1s 7ms/step - loss: 0.5294 - accuracy: 0.8047 - val_loss: 0.6506 - val_accuracy: 0.7874\n",
            "Epoch 143/500\n",
            "104/104 [==============================] - 1s 6ms/step - loss: 0.5115 - accuracy: 0.8047 - val_loss: 0.6742 - val_accuracy: 0.7681\n",
            "Epoch 144/500\n",
            "104/104 [==============================] - 1s 7ms/step - loss: 0.5173 - accuracy: 0.8150 - val_loss: 0.6884 - val_accuracy: 0.7585\n",
            "Epoch 145/500\n",
            "104/104 [==============================] - 1s 6ms/step - loss: 0.5347 - accuracy: 0.8089 - val_loss: 0.6769 - val_accuracy: 0.7488\n",
            "Epoch 146/500\n",
            "104/104 [==============================] - 1s 6ms/step - loss: 0.5053 - accuracy: 0.8059 - val_loss: 0.7672 - val_accuracy: 0.7536\n",
            "Epoch 147/500\n",
            "104/104 [==============================] - 1s 6ms/step - loss: 0.5002 - accuracy: 0.8150 - val_loss: 0.6726 - val_accuracy: 0.7536\n",
            "Epoch 148/500\n",
            "104/104 [==============================] - 1s 6ms/step - loss: 0.5013 - accuracy: 0.8150 - val_loss: 0.6569 - val_accuracy: 0.7536\n",
            "Epoch 149/500\n",
            "104/104 [==============================] - 1s 7ms/step - loss: 0.5310 - accuracy: 0.7938 - val_loss: 0.6094 - val_accuracy: 0.7923\n",
            "Epoch 150/500\n",
            "104/104 [==============================] - 1s 6ms/step - loss: 0.4932 - accuracy: 0.8253 - val_loss: 0.7442 - val_accuracy: 0.7246\n",
            "Epoch 151/500\n",
            "104/104 [==============================] - 1s 7ms/step - loss: 0.5544 - accuracy: 0.7956 - val_loss: 0.7882 - val_accuracy: 0.7150\n",
            "Epoch 152/500\n",
            "104/104 [==============================] - 1s 6ms/step - loss: 0.4992 - accuracy: 0.8235 - val_loss: 0.6896 - val_accuracy: 0.7488\n",
            "Epoch 153/500\n",
            "104/104 [==============================] - 1s 7ms/step - loss: 0.5109 - accuracy: 0.8132 - val_loss: 0.6369 - val_accuracy: 0.7681\n",
            "Epoch 154/500\n",
            "104/104 [==============================] - 1s 6ms/step - loss: 0.5222 - accuracy: 0.8089 - val_loss: 0.6506 - val_accuracy: 0.7440\n",
            "Epoch 155/500\n",
            "104/104 [==============================] - 1s 6ms/step - loss: 0.4804 - accuracy: 0.8192 - val_loss: 0.6323 - val_accuracy: 0.7971\n",
            "Epoch 156/500\n",
            "104/104 [==============================] - 1s 6ms/step - loss: 0.4910 - accuracy: 0.8156 - val_loss: 0.6114 - val_accuracy: 0.7874\n",
            "Epoch 157/500\n",
            "104/104 [==============================] - 1s 6ms/step - loss: 0.5151 - accuracy: 0.8089 - val_loss: 0.6373 - val_accuracy: 0.7536\n",
            "Epoch 158/500\n",
            "104/104 [==============================] - 1s 7ms/step - loss: 0.4880 - accuracy: 0.8216 - val_loss: 0.6532 - val_accuracy: 0.7488\n",
            "Epoch 159/500\n",
            "104/104 [==============================] - 1s 6ms/step - loss: 0.4773 - accuracy: 0.8126 - val_loss: 0.6430 - val_accuracy: 0.7633\n"
          ]
        }
      ]
    },
    {
      "cell_type": "code",
      "source": [
        "plt.plot(cnnhistory.history['loss'])\n",
        "plt.plot(cnnhistory.history['val_loss'])\n",
        "plt.title('model loss')\n",
        "plt.ylabel('loss')\n",
        "plt.xlabel('epoch')\n",
        "plt.legend(['train','test'], loc='upper left')\n",
        "plt.show()"
      ],
      "metadata": {
        "colab": {
          "base_uri": "https://localhost:8080/",
          "height": 295
        },
        "id": "oQYnuaCrDH_A",
        "outputId": "467fe193-07f9-446b-a42d-d2d822919052"
      },
      "execution_count": 15,
      "outputs": [
        {
          "output_type": "display_data",
          "data": {
            "text/plain": [
              "<Figure size 432x288 with 1 Axes>"
            ],
            "image/png": "[encoded data removed]"
          },
          "metadata": {
            "needs_background": "light"
          }
        }
      ]
    },
    {
      "cell_type": "code",
      "source": [
        "plt.plot(cnnhistory.history['accuracy'])\n",
        "plt.plot(cnnhistory.history['val_accuracy'])\n",
        "plt.title('model accuracy')\n",
        "plt.ylabel('accuracy')\n",
        "plt.xlabel('epoch')\n",
        "plt.legend(['train','test'], loc='upper left')\n",
        "plt.show()"
      ],
      "metadata": {
        "colab": {
          "base_uri": "https://localhost:8080/",
          "height": 295
        },
        "id": "IFkTuO8nDNdq",
        "outputId": "784551a9-ae53-4f11-8a14-7a5789a4755f"
      },
      "execution_count": 16,
      "outputs": [
        {
          "output_type": "display_data",
          "data": {
            "text/plain": [
              "<Figure size 432x288 with 1 Axes>"
            ],
            "image/png": "[encoded data removed]"
          },
          "metadata": {
            "needs_background": "light"
          }
        }
      ]
    },
    {
      "cell_type": "code",
      "source": [
        "predictions = model.predict(x_testcnn)"
      ],
      "metadata": {
        "id": "A2xtrN5wDQgY"
      },
      "execution_count": 17,
      "outputs": []
    },
    {
      "cell_type": "code",
      "source": [
        "predictions"
      ],
      "metadata": {
        "colab": {
          "base_uri": "https://localhost:8080/"
        },
        "id": "_f_ohjXKDUpY",
        "outputId": "c47d654f-f1cf-45db-c1ff-611f44f5caa2"
      },
      "execution_count": 18,
      "outputs": [
        {
          "output_type": "execute_result",
          "data": {
            "text/plain": [
              "array([[2.2571518e-01, 2.8514188e-02, 3.7665871e-01, 1.8819615e-01,\n",
              "        1.5958321e-01, 2.1332558e-02],\n",
              "       [7.1676623e-05, 1.0697343e-05, 1.0595148e-06, 9.7991824e-01,\n",
              "        2.8597777e-05, 1.9969722e-02],\n",
              "       [1.8100728e-01, 2.2964561e-01, 8.9922540e-02, 2.0002809e-01,\n",
              "        2.5061680e-02, 2.7433479e-01],\n",
              "       ...,\n",
              "       [1.9093663e-05, 6.9422953e-07, 3.3754348e-03, 6.8111770e-04,\n",
              "        9.7929347e-01, 1.6630214e-02],\n",
              "       [1.0900523e-02, 4.9837837e-01, 4.4839650e-01, 1.2644194e-02,\n",
              "        1.6855285e-02, 1.2825178e-02],\n",
              "       [6.5712529e-06, 1.0415243e-06, 2.9480493e-02, 2.1633825e-04,\n",
              "        9.6645677e-01, 3.8387857e-03]], dtype=float32)"
            ]
          },
          "metadata": {},
          "execution_count": 18
        }
      ]
    },
    {
      "cell_type": "code",
      "source": [
        "y_test"
      ],
      "metadata": {
        "colab": {
          "base_uri": "https://localhost:8080/"
        },
        "id": "cmA2bFgsDW3D",
        "outputId": "e434dc0d-d51a-41b0-9b5a-b5f23a7f1dc5"
      },
      "execution_count": 19,
      "outputs": [
        {
          "output_type": "execute_result",
          "data": {
            "text/plain": [
              "array([3, 3, 3, 0, 4, 4, 1, 2, 5, 0, 5, 3, 2, 2, 1, 4, 4, 5, 2, 4, 1, 2,\n",
              "       3, 5, 4, 2, 1, 2, 2, 2, 2, 5, 2, 5, 3, 1, 2, 0, 4, 5, 2, 3, 2, 2,\n",
              "       5, 2, 0, 1, 3, 4, 4, 5, 1, 1, 4, 4, 5, 1, 1, 1, 0, 1, 5, 0, 4, 1,\n",
              "       1, 0, 1, 4, 1, 0, 4, 1, 3, 1, 2, 2, 1, 2, 3, 0, 5, 3, 5, 5, 2, 4,\n",
              "       5, 1, 5, 1, 5, 3, 4, 1, 4, 1, 5, 4, 5, 1, 2, 1, 1, 5, 1, 3, 2, 5,\n",
              "       2, 1, 3, 5, 4, 4, 0, 0, 3, 1, 2, 2, 3, 5, 1, 5, 3, 4, 2, 2, 0, 2,\n",
              "       2, 5, 5, 0, 3, 3, 2, 2, 0, 3, 4, 0, 4, 2, 4, 5, 4, 1, 5, 3, 2, 2,\n",
              "       5, 4, 3, 3, 4, 3, 3, 4, 1, 5, 2, 3, 2, 2, 0, 2, 1, 3, 1, 2, 2, 5,\n",
              "       5, 1, 4, 2, 2, 1, 1, 3, 3, 5, 5, 2, 5, 1, 5, 0, 3, 3, 0, 5, 1, 4,\n",
              "       1, 4, 2, 5, 5, 1, 4, 2, 4])"
            ]
          },
          "metadata": {},
          "execution_count": 19
        }
      ]
    },
    {
      "cell_type": "code",
      "source": [
        "new_Ytest = y_test.astype(int)"
      ],
      "metadata": {
        "id": "0PHDKWJWDY3g"
      },
      "execution_count": 20,
      "outputs": []
    },
    {
      "cell_type": "code",
      "source": [
        "new_Ytest"
      ],
      "metadata": {
        "colab": {
          "base_uri": "https://localhost:8080/"
        },
        "id": "k68v2i-pDbZE",
        "outputId": "788f1c34-7d57-4822-a476-8c9069937acf"
      },
      "execution_count": 21,
      "outputs": [
        {
          "output_type": "execute_result",
          "data": {
            "text/plain": [
              "array([3, 3, 3, 0, 4, 4, 1, 2, 5, 0, 5, 3, 2, 2, 1, 4, 4, 5, 2, 4, 1, 2,\n",
              "       3, 5, 4, 2, 1, 2, 2, 2, 2, 5, 2, 5, 3, 1, 2, 0, 4, 5, 2, 3, 2, 2,\n",
              "       5, 2, 0, 1, 3, 4, 4, 5, 1, 1, 4, 4, 5, 1, 1, 1, 0, 1, 5, 0, 4, 1,\n",
              "       1, 0, 1, 4, 1, 0, 4, 1, 3, 1, 2, 2, 1, 2, 3, 0, 5, 3, 5, 5, 2, 4,\n",
              "       5, 1, 5, 1, 5, 3, 4, 1, 4, 1, 5, 4, 5, 1, 2, 1, 1, 5, 1, 3, 2, 5,\n",
              "       2, 1, 3, 5, 4, 4, 0, 0, 3, 1, 2, 2, 3, 5, 1, 5, 3, 4, 2, 2, 0, 2,\n",
              "       2, 5, 5, 0, 3, 3, 2, 2, 0, 3, 4, 0, 4, 2, 4, 5, 4, 1, 5, 3, 2, 2,\n",
              "       5, 4, 3, 3, 4, 3, 3, 4, 1, 5, 2, 3, 2, 2, 0, 2, 1, 3, 1, 2, 2, 5,\n",
              "       5, 1, 4, 2, 2, 1, 1, 3, 3, 5, 5, 2, 5, 1, 5, 0, 3, 3, 0, 5, 1, 4,\n",
              "       1, 4, 2, 5, 5, 1, 4, 2, 4])"
            ]
          },
          "metadata": {},
          "execution_count": 21
        }
      ]
    },
    {
      "cell_type": "code",
      "source": [
        "preds1=predictions.argmax(axis=1)\n",
        "preds1"
      ],
      "metadata": {
        "colab": {
          "base_uri": "https://localhost:8080/"
        },
        "id": "4_cAI39VFhtp",
        "outputId": "5f7f06e2-dab8-4063-fbf9-bc2a2c65f319"
      },
      "execution_count": 22,
      "outputs": [
        {
          "output_type": "execute_result",
          "data": {
            "text/plain": [
              "array([2, 3, 5, 0, 4, 4, 1, 2, 5, 1, 4, 3, 2, 2, 1, 4, 4, 3, 3, 4, 2, 2,\n",
              "       3, 3, 5, 2, 1, 0, 2, 2, 2, 5, 2, 5, 3, 1, 2, 0, 4, 5, 2, 5, 2, 2,\n",
              "       5, 2, 1, 1, 1, 4, 4, 5, 1, 1, 4, 4, 5, 1, 1, 1, 3, 1, 2, 1, 4, 1,\n",
              "       1, 1, 1, 4, 1, 2, 4, 1, 5, 1, 2, 2, 5, 2, 1, 0, 5, 3, 5, 5, 2, 4,\n",
              "       3, 1, 5, 1, 5, 3, 2, 2, 4, 1, 5, 4, 5, 1, 2, 1, 1, 5, 1, 5, 2, 5,\n",
              "       5, 1, 3, 5, 4, 4, 2, 0, 3, 1, 1, 2, 1, 5, 1, 5, 3, 4, 2, 2, 0, 2,\n",
              "       2, 3, 5, 0, 5, 3, 2, 4, 0, 5, 4, 1, 4, 2, 4, 5, 4, 1, 5, 3, 2, 2,\n",
              "       5, 4, 3, 3, 4, 5, 5, 4, 1, 5, 2, 3, 2, 2, 0, 2, 1, 5, 1, 2, 2, 5,\n",
              "       5, 1, 4, 2, 4, 1, 1, 3, 3, 5, 5, 2, 5, 1, 4, 1, 3, 3, 2, 2, 1, 4,\n",
              "       1, 3, 5, 5, 4, 1, 4, 1, 4])"
            ]
          },
          "metadata": {},
          "execution_count": 22
        }
      ]
    },
    {
      "cell_type": "code",
      "source": [
        "abc = preds1.astype(int).flatten()"
      ],
      "metadata": {
        "id": "H4WEmM60NfQn"
      },
      "execution_count": 23,
      "outputs": []
    },
    {
      "cell_type": "code",
      "source": [
        "from sklearn.metrics import confusion_matrix\n",
        "c = confusion_matrix(new_Ytest, abc) \n",
        "c"
      ],
      "metadata": {
        "colab": {
          "base_uri": "https://localhost:8080/"
        },
        "id": "bKEBeEBlFjB8",
        "outputId": "3d403e00-dee4-4aa0-ee31-96aa4a26d903"
      },
      "execution_count": 24,
      "outputs": [
        {
          "output_type": "execute_result",
          "data": {
            "text/plain": [
              "array([[ 8,  6,  3,  1,  0,  0],\n",
              "       [ 0, 38,  2,  0,  0,  1],\n",
              "       [ 1,  2, 37,  1,  2,  2],\n",
              "       [ 0,  3,  1, 18,  0,  9],\n",
              "       [ 0,  0,  1,  1, 30,  1],\n",
              "       [ 0,  0,  2,  4,  3, 30]])"
            ]
          },
          "metadata": {},
          "execution_count": 24
        }
      ]
    },
    {
      "cell_type": "code",
      "source": [
        "y_test"
      ],
      "metadata": {
        "colab": {
          "base_uri": "https://localhost:8080/"
        },
        "id": "m4RjG7LWLSQx",
        "outputId": "bef82eac-8fea-4171-a37c-53096afb524c"
      },
      "execution_count": 25,
      "outputs": [
        {
          "output_type": "execute_result",
          "data": {
            "text/plain": [
              "array([3, 3, 3, 0, 4, 4, 1, 2, 5, 0, 5, 3, 2, 2, 1, 4, 4, 5, 2, 4, 1, 2,\n",
              "       3, 5, 4, 2, 1, 2, 2, 2, 2, 5, 2, 5, 3, 1, 2, 0, 4, 5, 2, 3, 2, 2,\n",
              "       5, 2, 0, 1, 3, 4, 4, 5, 1, 1, 4, 4, 5, 1, 1, 1, 0, 1, 5, 0, 4, 1,\n",
              "       1, 0, 1, 4, 1, 0, 4, 1, 3, 1, 2, 2, 1, 2, 3, 0, 5, 3, 5, 5, 2, 4,\n",
              "       5, 1, 5, 1, 5, 3, 4, 1, 4, 1, 5, 4, 5, 1, 2, 1, 1, 5, 1, 3, 2, 5,\n",
              "       2, 1, 3, 5, 4, 4, 0, 0, 3, 1, 2, 2, 3, 5, 1, 5, 3, 4, 2, 2, 0, 2,\n",
              "       2, 5, 5, 0, 3, 3, 2, 2, 0, 3, 4, 0, 4, 2, 4, 5, 4, 1, 5, 3, 2, 2,\n",
              "       5, 4, 3, 3, 4, 3, 3, 4, 1, 5, 2, 3, 2, 2, 0, 2, 1, 3, 1, 2, 2, 5,\n",
              "       5, 1, 4, 2, 2, 1, 1, 3, 3, 5, 5, 2, 5, 1, 5, 0, 3, 3, 0, 5, 1, 4,\n",
              "       1, 4, 2, 5, 5, 1, 4, 2, 4])"
            ]
          },
          "metadata": {},
          "execution_count": 25
        }
      ]
    },
    {
      "cell_type": "code",
      "source": [
        "loss, acc =model.evaluate(x_testcnn, y_test)\n",
        "print(\"Restored model, accuracy: {:5.2f}%\".format(100*acc))"
      ],
      "metadata": {
        "colab": {
          "base_uri": "https://localhost:8080/"
        },
        "id": "n3kzoqPkDqqS",
        "outputId": "5a7774a4-77d0-49bb-b647-26d55a020b41"
      },
      "execution_count": 26,
      "outputs": [
        {
          "output_type": "stream",
          "name": "stdout",
          "text": [
            "7/7 [==============================] - 0s 3ms/step - loss: 0.6103 - accuracy: 0.7778\n",
            "Restored model, accuracy: 77.78%\n"
          ]
        }
      ]
    },
    {
      "cell_type": "code",
      "source": [
        "loss, acc =model.evaluate(X_train, y_train)\n",
        "print(\"Restored model train, accuracy: {:5.2f}%\".format(100*acc))"
      ],
      "metadata": {
        "id": "fJDTGH_OUX0z",
        "colab": {
          "base_uri": "https://localhost:8080/"
        },
        "outputId": "e640c821-3013-4e11-c793-8930fe0271bc"
      },
      "execution_count": 27,
      "outputs": [
        {
          "output_type": "stream",
          "name": "stdout",
          "text": [
            "52/52 [==============================] - 0s 5ms/step - loss: 0.3639 - accuracy: 0.8894\n",
            "Restored model train, accuracy: 88.94%\n"
          ]
        }
      ]
    },
    {
      "cell_type": "code",
      "source": [
        "from sklearn.metrics import classification_report, confusion_matrix,accuracy_score\n",
        "import seaborn as sn\n",
        "\n",
        "print(classification_report(new_Ytest,abc))\n",
        "\n",
        "acc = float(accuracy_score(new_Ytest,abc))*100\n",
        "print(\"----accuracy score %s ----\" % acc)\n",
        "\n",
        "cm = confusion_matrix(new_Ytest,abc)\n",
        "#df_cm = pd.DataFrame(cm)\n",
        "class_names = ['neutral','calm', 'happy','sad','angry', 'fearful' ]\n",
        "df_cm = pd.DataFrame(cm, index=class_names, columns=class_names,)\n",
        "sn.heatmap(df_cm, annot=True, fmt='')\n",
        "plt.show()"
      ],
      "metadata": {
        "colab": {
          "base_uri": "https://localhost:8080/",
          "height": 508
        },
        "id": "SfSC3El94LZg",
        "outputId": "28bd50a5-93bc-4182-87c4-6d48c0daa511"
      },
      "execution_count": 28,
      "outputs": [
        {
          "output_type": "stream",
          "name": "stdout",
          "text": [
            "              precision    recall  f1-score   support\n",
            "\n",
            "           0       0.89      0.44      0.59        18\n",
            "           1       0.78      0.93      0.84        41\n",
            "           2       0.80      0.82      0.81        45\n",
            "           3       0.72      0.58      0.64        31\n",
            "           4       0.86      0.91      0.88        33\n",
            "           5       0.70      0.77      0.73        39\n",
            "\n",
            "    accuracy                           0.78       207\n",
            "   macro avg       0.79      0.74      0.75       207\n",
            "weighted avg       0.78      0.78      0.77       207\n",
            "\n",
            "----accuracy score 77.77777777777779 ----\n"
          ]
        },
        {
          "output_type": "display_data",
          "data": {
            "text/plain": [
              "<Figure size 432x288 with 2 Axes>"
            ],
            "image/png": "[encoded data removed]"
          },
          "metadata": {
            "needs_background": "light"
          }
        }
      ]
    }
  ]
}