{
  "nbformat": 4,
  "nbformat_minor": 0,
  "metadata": {
    "colab": {
      "name": "original_remove_2_dense_layers_RMS_lr=0_0002 increase_kernal_size_to_12 colab pro try 2.ipynb",
      "provenance": [],
      "collapsed_sections": [],
      "machine_shape": "hm"
    },
    "kernelspec": {
      "name": "python3",
      "display_name": "Python 3"
    },
    "language_info": {
      "name": "python"
    },
    "accelerator": "GPU"
  },
  "cells": [
    {
      "cell_type": "code",
      "execution_count": 1,
      "metadata": {
        "colab": {
          "base_uri": "https://localhost:8080/"
        },
        "id": "9SRCO-a_AlH5",
        "outputId": "798c057e-c3d4-4e0a-af9e-04868bcb86e2"
      },
      "outputs": [
        {
          "output_type": "stream",
          "name": "stdout",
          "text": [
            "Drive already mounted at /content/drive; to attempt to forcibly remount, call drive.mount(\"/content/drive\", force_remount=True).\n"
          ]
        }
      ],
      "source": [
        "from google.colab import drive\n",
        "drive.mount('/content/drive')"
      ]
    },
    {
      "cell_type": "code",
      "source": [
        "!pip install librosa"
      ],
      "metadata": {
        "colab": {
          "base_uri": "https://localhost:8080/"
        },
        "id": "5Lo4mUwG9RMd",
        "outputId": "2d910f84-9d04-433a-9981-571845120903"
      },
      "execution_count": 2,
      "outputs": [
        {
          "output_type": "stream",
          "name": "stdout",
          "text": [
            "Looking in indexes: https://pypi.org/simple, https://us-python.pkg.dev/colab-wheels/public/simple/\n",
            "Requirement already satisfied: librosa in /usr/local/lib/python3.7/dist-packages (0.8.1)\n",
            "Requirement already satisfied: numpy>=1.15.0 in /usr/local/lib/python3.7/dist-packages (from librosa) (1.21.6)\n",
            "Requirement already satisfied: soundfile>=0.10.2 in /usr/local/lib/python3.7/dist-packages (from librosa) (0.10.3.post1)\n",
            "Requirement already satisfied: joblib>=0.14 in /usr/local/lib/python3.7/dist-packages (from librosa) (1.1.0)\n",
            "Requirement already satisfied: resampy>=0.2.2 in /usr/local/lib/python3.7/dist-packages (from librosa) (0.2.2)\n",
            "Requirement already satisfied: audioread>=2.0.0 in /usr/local/lib/python3.7/dist-packages (from librosa) (2.1.9)\n",
            "Requirement already satisfied: decorator>=3.0.0 in /usr/local/lib/python3.7/dist-packages (from librosa) (4.4.2)\n",
            "Requirement already satisfied: scikit-learn!=0.19.0,>=0.14.0 in /usr/local/lib/python3.7/dist-packages (from librosa) (1.0.2)\n",
            "Requirement already satisfied: numba>=0.43.0 in /usr/local/lib/python3.7/dist-packages (from librosa) (0.51.2)\n",
            "Requirement already satisfied: pooch>=1.0 in /usr/local/lib/python3.7/dist-packages (from librosa) (1.6.0)\n",
            "Requirement already satisfied: packaging>=20.0 in /usr/local/lib/python3.7/dist-packages (from librosa) (21.3)\n",
            "Requirement already satisfied: scipy>=1.0.0 in /usr/local/lib/python3.7/dist-packages (from librosa) (1.4.1)\n",
            "Requirement already satisfied: setuptools in /usr/local/lib/python3.7/dist-packages (from numba>=0.43.0->librosa) (57.4.0)\n",
            "Requirement already satisfied: llvmlite<0.35,>=0.34.0.dev0 in /usr/local/lib/python3.7/dist-packages (from numba>=0.43.0->librosa) (0.34.0)\n",
            "Requirement already satisfied: pyparsing!=3.0.5,>=2.0.2 in /usr/local/lib/python3.7/dist-packages (from packaging>=20.0->librosa) (3.0.9)\n",
            "Requirement already satisfied: appdirs>=1.3.0 in /usr/local/lib/python3.7/dist-packages (from pooch>=1.0->librosa) (1.4.4)\n",
            "Requirement already satisfied: requests>=2.19.0 in /usr/local/lib/python3.7/dist-packages (from pooch>=1.0->librosa) (2.23.0)\n",
            "Requirement already satisfied: urllib3!=1.25.0,!=1.25.1,<1.26,>=1.21.1 in /usr/local/lib/python3.7/dist-packages (from requests>=2.19.0->pooch>=1.0->librosa) (1.24.3)\n",
            "Requirement already satisfied: idna<3,>=2.5 in /usr/local/lib/python3.7/dist-packages (from requests>=2.19.0->pooch>=1.0->librosa) (2.10)\n",
            "Requirement already satisfied: certifi>=2017.4.17 in /usr/local/lib/python3.7/dist-packages (from requests>=2.19.0->pooch>=1.0->librosa) (2022.5.18.1)\n",
            "Requirement already satisfied: chardet<4,>=3.0.2 in /usr/local/lib/python3.7/dist-packages (from requests>=2.19.0->pooch>=1.0->librosa) (3.0.4)\n",
            "Requirement already satisfied: six>=1.3 in /usr/local/lib/python3.7/dist-packages (from resampy>=0.2.2->librosa) (1.15.0)\n",
            "Requirement already satisfied: threadpoolctl>=2.0.0 in /usr/local/lib/python3.7/dist-packages (from scikit-learn!=0.19.0,>=0.14.0->librosa) (3.1.0)\n",
            "Requirement already satisfied: cffi>=1.0 in /usr/local/lib/python3.7/dist-packages (from soundfile>=0.10.2->librosa) (1.15.0)\n",
            "Requirement already satisfied: pycparser in /usr/local/lib/python3.7/dist-packages (from cffi>=1.0->soundfile>=0.10.2->librosa) (2.21)\n"
          ]
        }
      ]
    },
    {
      "cell_type": "code",
      "metadata": {
        "id": "HJjcbxwy46bG",
        "colab": {
          "base_uri": "https://localhost:8080/",
          "height": 17
        },
        "outputId": "aea2ebec-eb9e-4ba6-eaf9-b4efd8408e21"
      },
      "source": [
        "# Orignial Notebook: https://github.com/MITESHPUTHRANNEU/Speech-Emotion-Analyzer/blob/master/final_results_gender_test.ipynb\n",
        "# This notebook author: Reza Chu\n",
        "# Last Editing Date: 31st May 2019\n",
        "\n",
        "## Python\n",
        "import os\n",
        "import random\n",
        "import sys\n",
        "\n",
        "import IPython\n",
        "from IPython.display import Audio\n",
        "from IPython.display import Image\n",
        "import matplotlib.pyplot as plt\n",
        "\n",
        "## Package\n",
        "import glob \n",
        "import keras\n",
        "import IPython.display as ipd\n",
        "import librosa\n",
        "import librosa.display\n",
        "import matplotlib.pyplot as plt\n",
        "import numpy as np\n",
        "import pandas as pd\n",
        "import plotly.graph_objs as go\n",
        "import plotly.offline as py\n",
        "import plotly.tools as tls\n",
        "import seaborn as sns\n",
        "import scipy.io.wavfile\n",
        "import tensorflow as tf\n",
        "py.init_notebook_mode(connected=True)\n",
        "\n",
        "## Keras\n",
        "from keras import regularizers\n",
        "from keras.callbacks import ModelCheckpoint, LearningRateScheduler, EarlyStopping\n",
        "from keras.callbacks import  History, ReduceLROnPlateau, CSVLogger\n",
        "from keras.models import Model, Sequential\n",
        "from keras.layers import Dense, Embedding, LSTM\n",
        "from keras.layers import Input, Flatten, Dropout, Activation, BatchNormalization\n",
        "from keras.layers import Conv1D, MaxPooling1D, AveragePooling1D\n",
        "from keras.preprocessing import sequence\n",
        "from keras.preprocessing.sequence import pad_sequences\n",
        "from keras.preprocessing.text import Tokenizer\n",
        "from keras.utils import np_utils\n",
        "from tensorflow.keras.utils import to_categorical\n",
        "\n",
        "## Sklearn\n",
        "from sklearn.metrics import confusion_matrix\n",
        "from sklearn.preprocessing import LabelEncoder\n",
        "\n",
        "## Rest\n",
        "from scipy.fftpack import fft\n",
        "from scipy import signal\n",
        "from scipy.io import wavfile\n",
        "from tqdm import tqdm\n",
        "\n",
        "input_duration=3\n",
        "# % pylab inline"
      ],
      "execution_count": 3,
      "outputs": [
        {
          "output_type": "display_data",
          "data": {
            "text/html": [
              "        <script type=\"text/javascript\">\n",
              "        window.PlotlyConfig = {MathJaxConfig: 'local'};\n",
              "        if (window.MathJax) {MathJax.Hub.Config({SVG: {font: \"STIX-Web\"}});}\n",
              "        if (typeof require !== 'undefined') {\n",
              "        require.undef(\"plotly\");\n",
              "        requirejs.config({\n",
              "            paths: {\n",
              "                'plotly': ['https://cdn.plot.ly/plotly-2.8.3.min']\n",
              "            }\n",
              "        });\n",
              "        require(['plotly'], function(Plotly) {\n",
              "            window._Plotly = Plotly;\n",
              "        });\n",
              "        }\n",
              "        </script>\n",
              "        "
            ]
          },
          "metadata": {}
        }
      ]
    },
    {
      "cell_type": "code",
      "source": [
        "# # Saving joblib files to not load them again with the loop above\n",
        "\n",
        "# import joblib\n",
        "\n",
        "# X_name = 'x.joblib'\n",
        "# y_name = 'y.joblib'\n",
        "# save_dir = '/content/drive/My Drive/graduation project/audio/paper_code/features'\n",
        "\n",
        "# savedX = joblib.dump(X, os.path.join(save_dir, X_name))\n",
        "# savedy = joblib.dump(y, os.path.join(save_dir, y_name))"
      ],
      "metadata": {
        "id": "UCzic8rlDcuk"
      },
      "execution_count": 4,
      "outputs": []
    },
    {
      "cell_type": "code",
      "source": [
        "# # Loading saved models\n",
        "import joblib\n",
        "X = joblib.load('/content/drive/My Drive/graduation project/audio/paper_code/features/x.joblib')\n",
        "y = joblib.load('/content/drive/My Drive/graduation project/audio/paper_code/features/y.joblib')"
      ],
      "metadata": {
        "id": "Q35CN6zDrzg1"
      },
      "execution_count": 5,
      "outputs": []
    },
    {
      "cell_type": "code",
      "source": [
        "X.shape"
      ],
      "metadata": {
        "id": "7PSTurzjCo5K",
        "colab": {
          "base_uri": "https://localhost:8080/"
        },
        "outputId": "36927833-34c9-4e1d-eac8-d8fd10254e3f"
      },
      "execution_count": 6,
      "outputs": [
        {
          "output_type": "execute_result",
          "data": {
            "text/plain": [
              "(2068, 40)"
            ]
          },
          "metadata": {},
          "execution_count": 6
        }
      ]
    },
    {
      "cell_type": "code",
      "source": [
        "from sklearn.model_selection import train_test_split\n",
        "\n",
        "X_train, X_test, y_train, y_test = train_test_split(X,y, test_size=0.1 ,shuffle = True\n",
        "                                                    , random_state=42)\n",
        "X_train , X_valid, y_train, y_valid = train_test_split(X_train,y_train, test_size=0.1112305212 , shuffle = True \n",
        "                                                       , random_state=42)"
      ],
      "metadata": {
        "id": "Ai4Fy5cPCiq1"
      },
      "execution_count": 7,
      "outputs": []
    },
    {
      "cell_type": "code",
      "source": [
        "import numpy as np\n",
        "x_traincnn = np.expand_dims(X_train, axis=2)\n",
        "x_testcnn = np.expand_dims(X_test, axis=2)\n",
        "X_valid= np.expand_dims(X_valid, axis=2)"
      ],
      "metadata": {
        "id": "tp1Fm5K3CEXu"
      },
      "execution_count": 8,
      "outputs": []
    },
    {
      "cell_type": "code",
      "source": [
        "x_traincnn.shape, x_testcnn.shape , X_valid.shape\n",
        "#1861"
      ],
      "metadata": {
        "id": "RI0MxoIPBws5",
        "colab": {
          "base_uri": "https://localhost:8080/"
        },
        "outputId": "9567710d-b080-4e13-a0c5-d7693ab33dce"
      },
      "execution_count": 9,
      "outputs": [
        {
          "output_type": "execute_result",
          "data": {
            "text/plain": [
              "((1654, 40, 1), (207, 40, 1), (207, 40, 1))"
            ]
          },
          "metadata": {},
          "execution_count": 9
        }
      ]
    },
    {
      "cell_type": "code",
      "source": [
        "!pip install tensorflow"
      ],
      "metadata": {
        "id": "oALhiMUd9G2Y",
        "colab": {
          "base_uri": "https://localhost:8080/"
        },
        "outputId": "2ef7fe5f-6d01-4388-e1d9-e9afa8b6ab1a"
      },
      "execution_count": 10,
      "outputs": [
        {
          "output_type": "stream",
          "name": "stdout",
          "text": [
            "Looking in indexes: https://pypi.org/simple, https://us-python.pkg.dev/colab-wheels/public/simple/\n",
            "Requirement already satisfied: tensorflow in /usr/local/lib/python3.7/dist-packages (2.8.2+zzzcolab20220527125636)\n",
            "Requirement already satisfied: opt-einsum>=2.3.2 in /usr/local/lib/python3.7/dist-packages (from tensorflow) (3.3.0)\n",
            "Requirement already satisfied: tensorflow-io-gcs-filesystem>=0.23.1 in /usr/local/lib/python3.7/dist-packages (from tensorflow) (0.26.0)\n",
            "Requirement already satisfied: flatbuffers>=1.12 in /usr/local/lib/python3.7/dist-packages (from tensorflow) (2.0)\n",
            "Requirement already satisfied: wrapt>=1.11.0 in /usr/local/lib/python3.7/dist-packages (from tensorflow) (1.14.1)\n",
            "Requirement already satisfied: protobuf<3.20,>=3.9.2 in /usr/local/lib/python3.7/dist-packages (from tensorflow) (3.17.3)\n",
            "Requirement already satisfied: absl-py>=0.4.0 in /usr/local/lib/python3.7/dist-packages (from tensorflow) (1.0.0)\n",
            "Requirement already satisfied: h5py>=2.9.0 in /usr/local/lib/python3.7/dist-packages (from tensorflow) (3.1.0)\n",
            "Requirement already satisfied: six>=1.12.0 in /usr/local/lib/python3.7/dist-packages (from tensorflow) (1.15.0)\n",
            "Requirement already satisfied: typing-extensions>=3.6.6 in /usr/local/lib/python3.7/dist-packages (from tensorflow) (4.2.0)\n",
            "Requirement already satisfied: keras<2.9,>=2.8.0rc0 in /usr/local/lib/python3.7/dist-packages (from tensorflow) (2.8.0)\n",
            "Requirement already satisfied: grpcio<2.0,>=1.24.3 in /usr/local/lib/python3.7/dist-packages (from tensorflow) (1.46.3)\n",
            "Requirement already satisfied: termcolor>=1.1.0 in /usr/local/lib/python3.7/dist-packages (from tensorflow) (1.1.0)\n",
            "Requirement already satisfied: astunparse>=1.6.0 in /usr/local/lib/python3.7/dist-packages (from tensorflow) (1.6.3)\n",
            "Requirement already satisfied: libclang>=9.0.1 in /usr/local/lib/python3.7/dist-packages (from tensorflow) (14.0.1)\n",
            "Requirement already satisfied: gast>=0.2.1 in /usr/local/lib/python3.7/dist-packages (from tensorflow) (0.5.3)\n",
            "Requirement already satisfied: google-pasta>=0.1.1 in /usr/local/lib/python3.7/dist-packages (from tensorflow) (0.2.0)\n",
            "Requirement already satisfied: tensorboard<2.9,>=2.8 in /usr/local/lib/python3.7/dist-packages (from tensorflow) (2.8.0)\n",
            "Requirement already satisfied: keras-preprocessing>=1.1.1 in /usr/local/lib/python3.7/dist-packages (from tensorflow) (1.1.2)\n",
            "Requirement already satisfied: setuptools in /usr/local/lib/python3.7/dist-packages (from tensorflow) (57.4.0)\n",
            "Requirement already satisfied: numpy>=1.20 in /usr/local/lib/python3.7/dist-packages (from tensorflow) (1.21.6)\n",
            "Requirement already satisfied: tensorflow-estimator<2.9,>=2.8 in /usr/local/lib/python3.7/dist-packages (from tensorflow) (2.8.0)\n",
            "Requirement already satisfied: wheel<1.0,>=0.23.0 in /usr/local/lib/python3.7/dist-packages (from astunparse>=1.6.0->tensorflow) (0.37.1)\n",
            "Requirement already satisfied: cached-property in /usr/local/lib/python3.7/dist-packages (from h5py>=2.9.0->tensorflow) (1.5.2)\n",
            "Requirement already satisfied: tensorboard-data-server<0.7.0,>=0.6.0 in /usr/local/lib/python3.7/dist-packages (from tensorboard<2.9,>=2.8->tensorflow) (0.6.1)\n",
            "Requirement already satisfied: werkzeug>=0.11.15 in /usr/local/lib/python3.7/dist-packages (from tensorboard<2.9,>=2.8->tensorflow) (1.0.1)\n",
            "Requirement already satisfied: google-auth-oauthlib<0.5,>=0.4.1 in /usr/local/lib/python3.7/dist-packages (from tensorboard<2.9,>=2.8->tensorflow) (0.4.6)\n",
            "Requirement already satisfied: markdown>=2.6.8 in /usr/local/lib/python3.7/dist-packages (from tensorboard<2.9,>=2.8->tensorflow) (3.3.7)\n",
            "Requirement already satisfied: google-auth<3,>=1.6.3 in /usr/local/lib/python3.7/dist-packages (from tensorboard<2.9,>=2.8->tensorflow) (1.35.0)\n",
            "Requirement already satisfied: tensorboard-plugin-wit>=1.6.0 in /usr/local/lib/python3.7/dist-packages (from tensorboard<2.9,>=2.8->tensorflow) (1.8.1)\n",
            "Requirement already satisfied: requests<3,>=2.21.0 in /usr/local/lib/python3.7/dist-packages (from tensorboard<2.9,>=2.8->tensorflow) (2.23.0)\n",
            "Requirement already satisfied: rsa<5,>=3.1.4 in /usr/local/lib/python3.7/dist-packages (from google-auth<3,>=1.6.3->tensorboard<2.9,>=2.8->tensorflow) (4.8)\n",
            "Requirement already satisfied: pyasn1-modules>=0.2.1 in /usr/local/lib/python3.7/dist-packages (from google-auth<3,>=1.6.3->tensorboard<2.9,>=2.8->tensorflow) (0.2.8)\n",
            "Requirement already satisfied: cachetools<5.0,>=2.0.0 in /usr/local/lib/python3.7/dist-packages (from google-auth<3,>=1.6.3->tensorboard<2.9,>=2.8->tensorflow) (4.2.4)\n",
            "Requirement already satisfied: requests-oauthlib>=0.7.0 in /usr/local/lib/python3.7/dist-packages (from google-auth-oauthlib<0.5,>=0.4.1->tensorboard<2.9,>=2.8->tensorflow) (1.3.1)\n",
            "Requirement already satisfied: importlib-metadata>=4.4 in /usr/local/lib/python3.7/dist-packages (from markdown>=2.6.8->tensorboard<2.9,>=2.8->tensorflow) (4.11.4)\n",
            "Requirement already satisfied: zipp>=0.5 in /usr/local/lib/python3.7/dist-packages (from importlib-metadata>=4.4->markdown>=2.6.8->tensorboard<2.9,>=2.8->tensorflow) (3.8.0)\n",
            "Requirement already satisfied: pyasn1<0.5.0,>=0.4.6 in /usr/local/lib/python3.7/dist-packages (from pyasn1-modules>=0.2.1->google-auth<3,>=1.6.3->tensorboard<2.9,>=2.8->tensorflow) (0.4.8)\n",
            "Requirement already satisfied: chardet<4,>=3.0.2 in /usr/local/lib/python3.7/dist-packages (from requests<3,>=2.21.0->tensorboard<2.9,>=2.8->tensorflow) (3.0.4)\n",
            "Requirement already satisfied: certifi>=2017.4.17 in /usr/local/lib/python3.7/dist-packages (from requests<3,>=2.21.0->tensorboard<2.9,>=2.8->tensorflow) (2022.5.18.1)\n",
            "Requirement already satisfied: idna<3,>=2.5 in /usr/local/lib/python3.7/dist-packages (from requests<3,>=2.21.0->tensorboard<2.9,>=2.8->tensorflow) (2.10)\n",
            "Requirement already satisfied: urllib3!=1.25.0,!=1.25.1,<1.26,>=1.21.1 in /usr/local/lib/python3.7/dist-packages (from requests<3,>=2.21.0->tensorboard<2.9,>=2.8->tensorflow) (1.24.3)\n",
            "Requirement already satisfied: oauthlib>=3.0.0 in /usr/local/lib/python3.7/dist-packages (from requests-oauthlib>=0.7.0->google-auth-oauthlib<0.5,>=0.4.1->tensorboard<2.9,>=2.8->tensorflow) (3.2.0)\n"
          ]
        }
      ]
    },
    {
      "cell_type": "code",
      "source": [
        "import keras\n",
        "import numpy as np\n",
        "import matplotlib.pyplot as plt\n",
        "import tensorflow as tf\n",
        "from keras.preprocessing import sequence\n",
        "from keras.models import Sequential\n",
        "from keras.layers import Dense, Embedding\n",
        "from tensorflow.keras.utils import to_categorical\n",
        "from keras.layers import Input, Flatten, Dropout, Activation\n",
        "from keras.layers import Conv1D, MaxPooling1D\n",
        "from keras.models import Model\n",
        "from keras.callbacks import ModelCheckpoint\n",
        "from tensorflow.keras import optimizers\n",
        "\n",
        "model = Sequential()\n",
        "\n",
        "model.add(Conv1D(128, 12,padding='same', #classifier.add(Convolution2D(64, (3, 3), padding = 'same', input_shape = (128, 128, 3), activation = 'relu'))\n",
        "                 input_shape=(40,1)))\n",
        "model.add(Activation('relu'))\n",
        "model.add(Dropout(0.3))\n",
        "model.add(MaxPooling1D(pool_size=(5)))\n",
        "\n",
        "\n",
        "model.add(Conv1D(256,12,padding='same',))\n",
        "model.add(Activation('relu'))\n",
        "model.add(Dropout(0.3))\n",
        "model.add(MaxPooling1D(pool_size=(5)))\n",
        "\n",
        "#model.add(MaxPooling1D(pool_size=(5)))\n",
        "\n",
        "model.add(Flatten())\n",
        "\n",
        "\n",
        "\n",
        "model.add(Dense(6))\n",
        "model.add(Activation('softmax'))\n",
        "\n",
        "\n",
        "opt = tf.keras.optimizers.RMSprop(lr=0.0002 , decay=0.0)\n",
        "#opt = tf.keras.optimizers.Adam(lr=0.0002 , decay=0.0)\n",
        "#opt = tf.keras.optimizers.RMSprop(lr=0.0001, rho=0.9, epsilon=1e-07, decay=0.0)\n",
        "#opt = tf.keras.optimizers.SGD(lr=0.001, momentum=0.0, decay=0.0, nesterov=False)"
      ],
      "metadata": {
        "id": "g74fXWVAC4Cr",
        "colab": {
          "base_uri": "https://localhost:8080/"
        },
        "outputId": "75396881-5871-406c-c86b-0bc0223e3fdc"
      },
      "execution_count": 11,
      "outputs": [
        {
          "output_type": "stream",
          "name": "stderr",
          "text": [
            "/usr/local/lib/python3.7/dist-packages/keras/optimizer_v2/rmsprop.py:130: UserWarning:\n",
            "\n",
            "The `lr` argument is deprecated, use `learning_rate` instead.\n",
            "\n"
          ]
        }
      ]
    },
    {
      "cell_type": "code",
      "source": [
        "model.summary()"
      ],
      "metadata": {
        "id": "H6ukOxAGC_I4",
        "colab": {
          "base_uri": "https://localhost:8080/"
        },
        "outputId": "7637b231-2e34-42c1-c1a4-9e0ed8a04bb3"
      },
      "execution_count": 12,
      "outputs": [
        {
          "output_type": "stream",
          "name": "stdout",
          "text": [
            "Model: \"sequential\"\n",
            "_________________________________________________________________\n",
            " Layer (type)                Output Shape              Param #   \n",
            "=================================================================\n",
            " conv1d (Conv1D)             (None, 40, 128)           1664      \n",
            "                                                                 \n",
            " activation (Activation)     (None, 40, 128)           0         \n",
            "                                                                 \n",
            " dropout (Dropout)           (None, 40, 128)           0         \n",
            "                                                                 \n",
            " max_pooling1d (MaxPooling1D  (None, 8, 128)           0         \n",
            " )                                                               \n",
            "                                                                 \n",
            " conv1d_1 (Conv1D)           (None, 8, 256)            393472    \n",
            "                                                                 \n",
            " activation_1 (Activation)   (None, 8, 256)            0         \n",
            "                                                                 \n",
            " dropout_1 (Dropout)         (None, 8, 256)            0         \n",
            "                                                                 \n",
            " max_pooling1d_1 (MaxPooling  (None, 1, 256)           0         \n",
            " 1D)                                                             \n",
            "                                                                 \n",
            " flatten (Flatten)           (None, 256)               0         \n",
            "                                                                 \n",
            " dense (Dense)               (None, 6)                 1542      \n",
            "                                                                 \n",
            " activation_2 (Activation)   (None, 6)                 0         \n",
            "                                                                 \n",
            "=================================================================\n",
            "Total params: 396,678\n",
            "Trainable params: 396,678\n",
            "Non-trainable params: 0\n",
            "_________________________________________________________________\n"
          ]
        }
      ]
    },
    {
      "cell_type": "code",
      "source": [
        "model.compile(loss='sparse_categorical_crossentropy',\n",
        "              optimizer=opt,\n",
        "              metrics=['accuracy'])"
      ],
      "metadata": {
        "id": "AbMlLNk4DCBM"
      },
      "execution_count": 13,
      "outputs": []
    },
    {
      "cell_type": "code",
      "source": [
        "# Create an Instance of Early Stopping Callback.\n",
        "early_stopping_callback = EarlyStopping(monitor = 'val_loss', patience = 25, mode = 'min', restore_best_weights = True)\n",
        "\n",
        "cnnhistory=model.fit(x_traincnn, y_train, batch_size=16, epochs=500 , shuffle = True, \n",
        "                     validation_data=(X_valid, y_valid) , callbacks = [early_stopping_callback])"
      ],
      "metadata": {
        "id": "RI1v2AuADFhy",
        "colab": {
          "base_uri": "https://localhost:8080/"
        },
        "outputId": "ea743907-29c9-445d-dd3f-1604262705f7"
      },
      "execution_count": 14,
      "outputs": [
        {
          "output_type": "stream",
          "name": "stdout",
          "text": [
            "Epoch 1/500\n",
            "104/104 [==============================] - 2s 5ms/step - loss: 11.9617 - accuracy: 0.1808 - val_loss: 7.4468 - val_accuracy: 0.2415\n",
            "Epoch 2/500\n",
            "104/104 [==============================] - 0s 4ms/step - loss: 8.5524 - accuracy: 0.2019 - val_loss: 3.7273 - val_accuracy: 0.2705\n",
            "Epoch 3/500\n",
            "104/104 [==============================] - 0s 4ms/step - loss: 7.3145 - accuracy: 0.2134 - val_loss: 4.1481 - val_accuracy: 0.2077\n",
            "Epoch 4/500\n",
            "104/104 [==============================] - 0s 4ms/step - loss: 6.0913 - accuracy: 0.2056 - val_loss: 5.4899 - val_accuracy: 0.1739\n",
            "Epoch 5/500\n",
            "104/104 [==============================] - 0s 3ms/step - loss: 4.8732 - accuracy: 0.2418 - val_loss: 3.2555 - val_accuracy: 0.3092\n",
            "Epoch 6/500\n",
            "104/104 [==============================] - 0s 4ms/step - loss: 4.3485 - accuracy: 0.2727 - val_loss: 2.7370 - val_accuracy: 0.1932\n",
            "Epoch 7/500\n",
            "104/104 [==============================] - 0s 4ms/step - loss: 3.8826 - accuracy: 0.2527 - val_loss: 1.9085 - val_accuracy: 0.2174\n",
            "Epoch 8/500\n",
            "104/104 [==============================] - 0s 4ms/step - loss: 3.4599 - accuracy: 0.2890 - val_loss: 2.4443 - val_accuracy: 0.2947\n",
            "Epoch 9/500\n",
            "104/104 [==============================] - 0s 4ms/step - loss: 3.0409 - accuracy: 0.2963 - val_loss: 1.8795 - val_accuracy: 0.3382\n",
            "Epoch 10/500\n",
            "104/104 [==============================] - 0s 3ms/step - loss: 2.7932 - accuracy: 0.3065 - val_loss: 2.2484 - val_accuracy: 0.2947\n",
            "Epoch 11/500\n",
            "104/104 [==============================] - 0s 4ms/step - loss: 2.5274 - accuracy: 0.3283 - val_loss: 1.3231 - val_accuracy: 0.4348\n",
            "Epoch 12/500\n",
            "104/104 [==============================] - 0s 4ms/step - loss: 2.2269 - accuracy: 0.3519 - val_loss: 1.7106 - val_accuracy: 0.3092\n",
            "Epoch 13/500\n",
            "104/104 [==============================] - 0s 4ms/step - loss: 2.1529 - accuracy: 0.3519 - val_loss: 1.5089 - val_accuracy: 0.4300\n",
            "Epoch 14/500\n",
            "104/104 [==============================] - 1s 6ms/step - loss: 2.0009 - accuracy: 0.3845 - val_loss: 1.3270 - val_accuracy: 0.4686\n",
            "Epoch 15/500\n",
            "104/104 [==============================] - 1s 5ms/step - loss: 1.8615 - accuracy: 0.4081 - val_loss: 1.3145 - val_accuracy: 0.5266\n",
            "Epoch 16/500\n",
            "104/104 [==============================] - 1s 5ms/step - loss: 1.8051 - accuracy: 0.3990 - val_loss: 1.3398 - val_accuracy: 0.4686\n",
            "Epoch 17/500\n",
            "104/104 [==============================] - 1s 5ms/step - loss: 1.7146 - accuracy: 0.4069 - val_loss: 1.3196 - val_accuracy: 0.4976\n",
            "Epoch 18/500\n",
            "104/104 [==============================] - 0s 4ms/step - loss: 1.6247 - accuracy: 0.4335 - val_loss: 1.4296 - val_accuracy: 0.3768\n",
            "Epoch 19/500\n",
            "104/104 [==============================] - 1s 5ms/step - loss: 1.5534 - accuracy: 0.4643 - val_loss: 1.3487 - val_accuracy: 0.4589\n",
            "Epoch 20/500\n",
            "104/104 [==============================] - 0s 5ms/step - loss: 1.5288 - accuracy: 0.4607 - val_loss: 1.1796 - val_accuracy: 0.5266\n",
            "Epoch 21/500\n",
            "104/104 [==============================] - 1s 5ms/step - loss: 1.4256 - accuracy: 0.4752 - val_loss: 1.2888 - val_accuracy: 0.4589\n",
            "Epoch 22/500\n",
            "104/104 [==============================] - 1s 5ms/step - loss: 1.3844 - accuracy: 0.4891 - val_loss: 1.1450 - val_accuracy: 0.5700\n",
            "Epoch 23/500\n",
            "104/104 [==============================] - 1s 6ms/step - loss: 1.3528 - accuracy: 0.4940 - val_loss: 1.1327 - val_accuracy: 0.5314\n",
            "Epoch 24/500\n",
            "104/104 [==============================] - 1s 5ms/step - loss: 1.3354 - accuracy: 0.4964 - val_loss: 1.2644 - val_accuracy: 0.5314\n",
            "Epoch 25/500\n",
            "104/104 [==============================] - 0s 5ms/step - loss: 1.2831 - accuracy: 0.5290 - val_loss: 1.2869 - val_accuracy: 0.4783\n",
            "Epoch 26/500\n",
            "104/104 [==============================] - 1s 5ms/step - loss: 1.2211 - accuracy: 0.5466 - val_loss: 1.1640 - val_accuracy: 0.4976\n",
            "Epoch 27/500\n",
            "104/104 [==============================] - 1s 5ms/step - loss: 1.1930 - accuracy: 0.5538 - val_loss: 1.1855 - val_accuracy: 0.5072\n",
            "Epoch 28/500\n",
            "104/104 [==============================] - 1s 6ms/step - loss: 1.1651 - accuracy: 0.5478 - val_loss: 1.1007 - val_accuracy: 0.5942\n",
            "Epoch 29/500\n",
            "104/104 [==============================] - 1s 6ms/step - loss: 1.1475 - accuracy: 0.5623 - val_loss: 1.0245 - val_accuracy: 0.6135\n",
            "Epoch 30/500\n",
            "104/104 [==============================] - 1s 6ms/step - loss: 1.0939 - accuracy: 0.5677 - val_loss: 1.0829 - val_accuracy: 0.6039\n",
            "Epoch 31/500\n",
            "104/104 [==============================] - 1s 5ms/step - loss: 1.1027 - accuracy: 0.5719 - val_loss: 1.0583 - val_accuracy: 0.5845\n",
            "Epoch 32/500\n",
            "104/104 [==============================] - 0s 4ms/step - loss: 1.0351 - accuracy: 0.6070 - val_loss: 1.1029 - val_accuracy: 0.5604\n",
            "Epoch 33/500\n",
            "104/104 [==============================] - 0s 5ms/step - loss: 1.0619 - accuracy: 0.5834 - val_loss: 1.0130 - val_accuracy: 0.5604\n",
            "Epoch 34/500\n",
            "104/104 [==============================] - 0s 4ms/step - loss: 1.0163 - accuracy: 0.6203 - val_loss: 1.0386 - val_accuracy: 0.5652\n",
            "Epoch 35/500\n",
            "104/104 [==============================] - 0s 3ms/step - loss: 1.0049 - accuracy: 0.6106 - val_loss: 1.0427 - val_accuracy: 0.5507\n",
            "Epoch 36/500\n",
            "104/104 [==============================] - 0s 3ms/step - loss: 0.9708 - accuracy: 0.6264 - val_loss: 0.9192 - val_accuracy: 0.6860\n",
            "Epoch 37/500\n",
            "104/104 [==============================] - 0s 4ms/step - loss: 0.9771 - accuracy: 0.6161 - val_loss: 0.9395 - val_accuracy: 0.6232\n",
            "Epoch 38/500\n",
            "104/104 [==============================] - 0s 4ms/step - loss: 0.9229 - accuracy: 0.6578 - val_loss: 0.9362 - val_accuracy: 0.6522\n",
            "Epoch 39/500\n",
            "104/104 [==============================] - 0s 4ms/step - loss: 0.9382 - accuracy: 0.6463 - val_loss: 0.9168 - val_accuracy: 0.6715\n",
            "Epoch 40/500\n",
            "104/104 [==============================] - 0s 4ms/step - loss: 0.9370 - accuracy: 0.6354 - val_loss: 0.9261 - val_accuracy: 0.5845\n",
            "Epoch 41/500\n",
            "104/104 [==============================] - 0s 3ms/step - loss: 0.9030 - accuracy: 0.6566 - val_loss: 0.9253 - val_accuracy: 0.6522\n",
            "Epoch 42/500\n",
            "104/104 [==============================] - 0s 3ms/step - loss: 0.8893 - accuracy: 0.6596 - val_loss: 1.0668 - val_accuracy: 0.6087\n",
            "Epoch 43/500\n",
            "104/104 [==============================] - 0s 4ms/step - loss: 0.9035 - accuracy: 0.6493 - val_loss: 0.8561 - val_accuracy: 0.6763\n",
            "Epoch 44/500\n",
            "104/104 [==============================] - 0s 3ms/step - loss: 0.8590 - accuracy: 0.6699 - val_loss: 0.8869 - val_accuracy: 0.6715\n",
            "Epoch 45/500\n",
            "104/104 [==============================] - 0s 4ms/step - loss: 0.8642 - accuracy: 0.6681 - val_loss: 0.8539 - val_accuracy: 0.6812\n",
            "Epoch 46/500\n",
            "104/104 [==============================] - 0s 3ms/step - loss: 0.8578 - accuracy: 0.6693 - val_loss: 0.8982 - val_accuracy: 0.6570\n",
            "Epoch 47/500\n",
            "104/104 [==============================] - 0s 3ms/step - loss: 0.8483 - accuracy: 0.6723 - val_loss: 0.8814 - val_accuracy: 0.6377\n",
            "Epoch 48/500\n",
            "104/104 [==============================] - 0s 3ms/step - loss: 0.8173 - accuracy: 0.6880 - val_loss: 0.9379 - val_accuracy: 0.6184\n",
            "Epoch 49/500\n",
            "104/104 [==============================] - 0s 3ms/step - loss: 0.7930 - accuracy: 0.6965 - val_loss: 0.9360 - val_accuracy: 0.5700\n",
            "Epoch 50/500\n",
            "104/104 [==============================] - 0s 4ms/step - loss: 0.7882 - accuracy: 0.6892 - val_loss: 0.8052 - val_accuracy: 0.7198\n",
            "Epoch 51/500\n",
            "104/104 [==============================] - 0s 4ms/step - loss: 0.7634 - accuracy: 0.7086 - val_loss: 0.8670 - val_accuracy: 0.6425\n",
            "Epoch 52/500\n",
            "104/104 [==============================] - 0s 3ms/step - loss: 0.7927 - accuracy: 0.6850 - val_loss: 0.7758 - val_accuracy: 0.7053\n",
            "Epoch 53/500\n",
            "104/104 [==============================] - 0s 4ms/step - loss: 0.7594 - accuracy: 0.7098 - val_loss: 0.8482 - val_accuracy: 0.6522\n",
            "Epoch 54/500\n",
            "104/104 [==============================] - 0s 4ms/step - loss: 0.7324 - accuracy: 0.7025 - val_loss: 0.8891 - val_accuracy: 0.6184\n",
            "Epoch 55/500\n",
            "104/104 [==============================] - 0s 3ms/step - loss: 0.7523 - accuracy: 0.6935 - val_loss: 0.7604 - val_accuracy: 0.7198\n",
            "Epoch 56/500\n",
            "104/104 [==============================] - 0s 4ms/step - loss: 0.7288 - accuracy: 0.7037 - val_loss: 0.7876 - val_accuracy: 0.6908\n",
            "Epoch 57/500\n",
            "104/104 [==============================] - 0s 3ms/step - loss: 0.7238 - accuracy: 0.7104 - val_loss: 0.7911 - val_accuracy: 0.6763\n",
            "Epoch 58/500\n",
            "104/104 [==============================] - 0s 3ms/step - loss: 0.7142 - accuracy: 0.7304 - val_loss: 0.8281 - val_accuracy: 0.6570\n",
            "Epoch 59/500\n",
            "104/104 [==============================] - 0s 4ms/step - loss: 0.7374 - accuracy: 0.7170 - val_loss: 0.7801 - val_accuracy: 0.6957\n",
            "Epoch 60/500\n",
            "104/104 [==============================] - 0s 3ms/step - loss: 0.6890 - accuracy: 0.7449 - val_loss: 0.8039 - val_accuracy: 0.7198\n",
            "Epoch 61/500\n",
            "104/104 [==============================] - 0s 4ms/step - loss: 0.6690 - accuracy: 0.7430 - val_loss: 0.7066 - val_accuracy: 0.7440\n",
            "Epoch 62/500\n",
            "104/104 [==============================] - 0s 3ms/step - loss: 0.6931 - accuracy: 0.7400 - val_loss: 0.7418 - val_accuracy: 0.7440\n",
            "Epoch 63/500\n",
            "104/104 [==============================] - 0s 3ms/step - loss: 0.6643 - accuracy: 0.7424 - val_loss: 0.7000 - val_accuracy: 0.7488\n",
            "Epoch 64/500\n",
            "104/104 [==============================] - 0s 3ms/step - loss: 0.6604 - accuracy: 0.7437 - val_loss: 0.7422 - val_accuracy: 0.7295\n",
            "Epoch 65/500\n",
            "104/104 [==============================] - 0s 4ms/step - loss: 0.6439 - accuracy: 0.7503 - val_loss: 0.7797 - val_accuracy: 0.6812\n",
            "Epoch 66/500\n",
            "104/104 [==============================] - 0s 4ms/step - loss: 0.6459 - accuracy: 0.7509 - val_loss: 0.7147 - val_accuracy: 0.7246\n",
            "Epoch 67/500\n",
            "104/104 [==============================] - 0s 3ms/step - loss: 0.6331 - accuracy: 0.7545 - val_loss: 0.6705 - val_accuracy: 0.7440\n",
            "Epoch 68/500\n",
            "104/104 [==============================] - 0s 3ms/step - loss: 0.6078 - accuracy: 0.7672 - val_loss: 0.6873 - val_accuracy: 0.7150\n",
            "Epoch 69/500\n",
            "104/104 [==============================] - 0s 3ms/step - loss: 0.6351 - accuracy: 0.7467 - val_loss: 0.7326 - val_accuracy: 0.6812\n",
            "Epoch 70/500\n",
            "104/104 [==============================] - 0s 3ms/step - loss: 0.6124 - accuracy: 0.7606 - val_loss: 0.7359 - val_accuracy: 0.7005\n",
            "Epoch 71/500\n",
            "104/104 [==============================] - 0s 3ms/step - loss: 0.6159 - accuracy: 0.7654 - val_loss: 0.7184 - val_accuracy: 0.7150\n",
            "Epoch 72/500\n",
            "104/104 [==============================] - 0s 3ms/step - loss: 0.6331 - accuracy: 0.7624 - val_loss: 0.7182 - val_accuracy: 0.7440\n",
            "Epoch 73/500\n",
            "104/104 [==============================] - 0s 3ms/step - loss: 0.5954 - accuracy: 0.7721 - val_loss: 0.6694 - val_accuracy: 0.7536\n",
            "Epoch 74/500\n",
            "104/104 [==============================] - 0s 3ms/step - loss: 0.5944 - accuracy: 0.7733 - val_loss: 0.7491 - val_accuracy: 0.7053\n",
            "Epoch 75/500\n",
            "104/104 [==============================] - 0s 3ms/step - loss: 0.5696 - accuracy: 0.7823 - val_loss: 0.7087 - val_accuracy: 0.7246\n",
            "Epoch 76/500\n",
            "104/104 [==============================] - 0s 4ms/step - loss: 0.5752 - accuracy: 0.7781 - val_loss: 0.7286 - val_accuracy: 0.7246\n",
            "Epoch 77/500\n",
            "104/104 [==============================] - 0s 3ms/step - loss: 0.5813 - accuracy: 0.7769 - val_loss: 0.6580 - val_accuracy: 0.7536\n",
            "Epoch 78/500\n",
            "104/104 [==============================] - 0s 4ms/step - loss: 0.5563 - accuracy: 0.7811 - val_loss: 0.6921 - val_accuracy: 0.7391\n",
            "Epoch 79/500\n",
            "104/104 [==============================] - 0s 3ms/step - loss: 0.5617 - accuracy: 0.7836 - val_loss: 0.6692 - val_accuracy: 0.7343\n",
            "Epoch 80/500\n",
            "104/104 [==============================] - 0s 4ms/step - loss: 0.5607 - accuracy: 0.7866 - val_loss: 0.6492 - val_accuracy: 0.7536\n",
            "Epoch 81/500\n",
            "104/104 [==============================] - 0s 4ms/step - loss: 0.5254 - accuracy: 0.8029 - val_loss: 0.6597 - val_accuracy: 0.7440\n",
            "Epoch 82/500\n",
            "104/104 [==============================] - 0s 3ms/step - loss: 0.5380 - accuracy: 0.7902 - val_loss: 0.6246 - val_accuracy: 0.7633\n",
            "Epoch 83/500\n",
            "104/104 [==============================] - 0s 4ms/step - loss: 0.5141 - accuracy: 0.7956 - val_loss: 0.7314 - val_accuracy: 0.7101\n",
            "Epoch 84/500\n",
            "104/104 [==============================] - 0s 3ms/step - loss: 0.5134 - accuracy: 0.8059 - val_loss: 0.6966 - val_accuracy: 0.7053\n",
            "Epoch 85/500\n",
            "104/104 [==============================] - 0s 3ms/step - loss: 0.5396 - accuracy: 0.7920 - val_loss: 0.6237 - val_accuracy: 0.7633\n",
            "Epoch 86/500\n",
            "104/104 [==============================] - 0s 3ms/step - loss: 0.4855 - accuracy: 0.8210 - val_loss: 0.6166 - val_accuracy: 0.7488\n",
            "Epoch 87/500\n",
            "104/104 [==============================] - 0s 3ms/step - loss: 0.4843 - accuracy: 0.8102 - val_loss: 0.7235 - val_accuracy: 0.7198\n",
            "Epoch 88/500\n",
            "104/104 [==============================] - 0s 3ms/step - loss: 0.5272 - accuracy: 0.8035 - val_loss: 0.6340 - val_accuracy: 0.7681\n",
            "Epoch 89/500\n",
            "104/104 [==============================] - 0s 4ms/step - loss: 0.4896 - accuracy: 0.8241 - val_loss: 0.6777 - val_accuracy: 0.7295\n",
            "Epoch 90/500\n",
            "104/104 [==============================] - 0s 3ms/step - loss: 0.5182 - accuracy: 0.8120 - val_loss: 0.6391 - val_accuracy: 0.7440\n",
            "Epoch 91/500\n",
            "104/104 [==============================] - 0s 3ms/step - loss: 0.4814 - accuracy: 0.8150 - val_loss: 0.6267 - val_accuracy: 0.7923\n",
            "Epoch 92/500\n",
            "104/104 [==============================] - 0s 3ms/step - loss: 0.5065 - accuracy: 0.8114 - val_loss: 0.6871 - val_accuracy: 0.7198\n",
            "Epoch 93/500\n",
            "104/104 [==============================] - 0s 3ms/step - loss: 0.4848 - accuracy: 0.8229 - val_loss: 0.7009 - val_accuracy: 0.7440\n",
            "Epoch 94/500\n",
            "104/104 [==============================] - 0s 3ms/step - loss: 0.4786 - accuracy: 0.8156 - val_loss: 0.6341 - val_accuracy: 0.7536\n",
            "Epoch 95/500\n",
            "104/104 [==============================] - 0s 3ms/step - loss: 0.4691 - accuracy: 0.8210 - val_loss: 0.6806 - val_accuracy: 0.7198\n",
            "Epoch 96/500\n",
            "104/104 [==============================] - 0s 3ms/step - loss: 0.4690 - accuracy: 0.8198 - val_loss: 0.6008 - val_accuracy: 0.7391\n",
            "Epoch 97/500\n",
            "104/104 [==============================] - 0s 3ms/step - loss: 0.4680 - accuracy: 0.8144 - val_loss: 0.8067 - val_accuracy: 0.6957\n",
            "Epoch 98/500\n",
            "104/104 [==============================] - 0s 4ms/step - loss: 0.4714 - accuracy: 0.8210 - val_loss: 0.5912 - val_accuracy: 0.7681\n",
            "Epoch 99/500\n",
            "104/104 [==============================] - 0s 3ms/step - loss: 0.4682 - accuracy: 0.8186 - val_loss: 0.6020 - val_accuracy: 0.7391\n",
            "Epoch 100/500\n",
            "104/104 [==============================] - 1s 5ms/step - loss: 0.4374 - accuracy: 0.8283 - val_loss: 0.6363 - val_accuracy: 0.7585\n",
            "Epoch 101/500\n",
            "104/104 [==============================] - 0s 4ms/step - loss: 0.4557 - accuracy: 0.8277 - val_loss: 0.6680 - val_accuracy: 0.7343\n",
            "Epoch 102/500\n",
            "104/104 [==============================] - 0s 5ms/step - loss: 0.4507 - accuracy: 0.8283 - val_loss: 0.5731 - val_accuracy: 0.7778\n",
            "Epoch 103/500\n",
            "104/104 [==============================] - 0s 4ms/step - loss: 0.4461 - accuracy: 0.8356 - val_loss: 0.6122 - val_accuracy: 0.7488\n",
            "Epoch 104/500\n",
            "104/104 [==============================] - 0s 5ms/step - loss: 0.4386 - accuracy: 0.8325 - val_loss: 0.5853 - val_accuracy: 0.7778\n",
            "Epoch 105/500\n",
            "104/104 [==============================] - 0s 4ms/step - loss: 0.4128 - accuracy: 0.8458 - val_loss: 0.6002 - val_accuracy: 0.7633\n",
            "Epoch 106/500\n",
            "104/104 [==============================] - 0s 3ms/step - loss: 0.4282 - accuracy: 0.8337 - val_loss: 0.5955 - val_accuracy: 0.7681\n",
            "Epoch 107/500\n",
            "104/104 [==============================] - 0s 4ms/step - loss: 0.4021 - accuracy: 0.8440 - val_loss: 0.6185 - val_accuracy: 0.7440\n",
            "Epoch 108/500\n",
            "104/104 [==============================] - 0s 4ms/step - loss: 0.4064 - accuracy: 0.8482 - val_loss: 0.5695 - val_accuracy: 0.7874\n",
            "Epoch 109/500\n",
            "104/104 [==============================] - 0s 4ms/step - loss: 0.4070 - accuracy: 0.8489 - val_loss: 0.5723 - val_accuracy: 0.7874\n",
            "Epoch 110/500\n",
            "104/104 [==============================] - 0s 4ms/step - loss: 0.3777 - accuracy: 0.8470 - val_loss: 0.5648 - val_accuracy: 0.7778\n",
            "Epoch 111/500\n",
            "104/104 [==============================] - 0s 4ms/step - loss: 0.4103 - accuracy: 0.8458 - val_loss: 0.5531 - val_accuracy: 0.7874\n",
            "Epoch 112/500\n",
            "104/104 [==============================] - 0s 4ms/step - loss: 0.3972 - accuracy: 0.8519 - val_loss: 0.5871 - val_accuracy: 0.7681\n",
            "Epoch 113/500\n",
            "104/104 [==============================] - 0s 4ms/step - loss: 0.3992 - accuracy: 0.8458 - val_loss: 0.6318 - val_accuracy: 0.7681\n",
            "Epoch 114/500\n",
            "104/104 [==============================] - 0s 4ms/step - loss: 0.3896 - accuracy: 0.8579 - val_loss: 0.6213 - val_accuracy: 0.7343\n",
            "Epoch 115/500\n",
            "104/104 [==============================] - 0s 4ms/step - loss: 0.4151 - accuracy: 0.8392 - val_loss: 0.7047 - val_accuracy: 0.6812\n",
            "Epoch 116/500\n",
            "104/104 [==============================] - 0s 4ms/step - loss: 0.3981 - accuracy: 0.8392 - val_loss: 0.5733 - val_accuracy: 0.7585\n",
            "Epoch 117/500\n",
            "104/104 [==============================] - 0s 4ms/step - loss: 0.3788 - accuracy: 0.8591 - val_loss: 0.6074 - val_accuracy: 0.7729\n",
            "Epoch 118/500\n",
            "104/104 [==============================] - 0s 4ms/step - loss: 0.3957 - accuracy: 0.8374 - val_loss: 0.6177 - val_accuracy: 0.7778\n",
            "Epoch 119/500\n",
            "104/104 [==============================] - 0s 4ms/step - loss: 0.3713 - accuracy: 0.8597 - val_loss: 0.5639 - val_accuracy: 0.7729\n",
            "Epoch 120/500\n",
            "104/104 [==============================] - 0s 4ms/step - loss: 0.3822 - accuracy: 0.8519 - val_loss: 0.5405 - val_accuracy: 0.8019\n",
            "Epoch 121/500\n",
            "104/104 [==============================] - 0s 4ms/step - loss: 0.3648 - accuracy: 0.8755 - val_loss: 0.5954 - val_accuracy: 0.7633\n",
            "Epoch 122/500\n",
            "104/104 [==============================] - 0s 4ms/step - loss: 0.3599 - accuracy: 0.8597 - val_loss: 0.5239 - val_accuracy: 0.8116\n",
            "Epoch 123/500\n",
            "104/104 [==============================] - 0s 4ms/step - loss: 0.3879 - accuracy: 0.8555 - val_loss: 0.6233 - val_accuracy: 0.7874\n",
            "Epoch 124/500\n",
            "104/104 [==============================] - 0s 4ms/step - loss: 0.3194 - accuracy: 0.8888 - val_loss: 0.5994 - val_accuracy: 0.7826\n",
            "Epoch 125/500\n",
            "104/104 [==============================] - 0s 4ms/step - loss: 0.3444 - accuracy: 0.8634 - val_loss: 0.5631 - val_accuracy: 0.7923\n",
            "Epoch 126/500\n",
            "104/104 [==============================] - 0s 4ms/step - loss: 0.3474 - accuracy: 0.8700 - val_loss: 0.5549 - val_accuracy: 0.7971\n",
            "Epoch 127/500\n",
            "104/104 [==============================] - 0s 4ms/step - loss: 0.3426 - accuracy: 0.8748 - val_loss: 0.5459 - val_accuracy: 0.7971\n",
            "Epoch 128/500\n",
            "104/104 [==============================] - 0s 4ms/step - loss: 0.3458 - accuracy: 0.8622 - val_loss: 0.5685 - val_accuracy: 0.7971\n",
            "Epoch 129/500\n",
            "104/104 [==============================] - 0s 4ms/step - loss: 0.3124 - accuracy: 0.8881 - val_loss: 0.7494 - val_accuracy: 0.6957\n",
            "Epoch 130/500\n",
            "104/104 [==============================] - 0s 4ms/step - loss: 0.3623 - accuracy: 0.8622 - val_loss: 0.6072 - val_accuracy: 0.7585\n",
            "Epoch 131/500\n",
            "104/104 [==============================] - 0s 4ms/step - loss: 0.3409 - accuracy: 0.8718 - val_loss: 0.5389 - val_accuracy: 0.7971\n",
            "Epoch 132/500\n",
            "104/104 [==============================] - 0s 4ms/step - loss: 0.3322 - accuracy: 0.8803 - val_loss: 0.5395 - val_accuracy: 0.7971\n",
            "Epoch 133/500\n",
            "104/104 [==============================] - 0s 4ms/step - loss: 0.3002 - accuracy: 0.8881 - val_loss: 0.5068 - val_accuracy: 0.8213\n",
            "Epoch 134/500\n",
            "104/104 [==============================] - 0s 4ms/step - loss: 0.3195 - accuracy: 0.8827 - val_loss: 0.5612 - val_accuracy: 0.7778\n",
            "Epoch 135/500\n",
            "104/104 [==============================] - 0s 4ms/step - loss: 0.3214 - accuracy: 0.8815 - val_loss: 0.5613 - val_accuracy: 0.8068\n",
            "Epoch 136/500\n",
            "104/104 [==============================] - 0s 4ms/step - loss: 0.2890 - accuracy: 0.8918 - val_loss: 0.5350 - val_accuracy: 0.8068\n",
            "Epoch 137/500\n",
            "104/104 [==============================] - 0s 4ms/step - loss: 0.3386 - accuracy: 0.8742 - val_loss: 0.5475 - val_accuracy: 0.7826\n",
            "Epoch 138/500\n",
            "104/104 [==============================] - 0s 4ms/step - loss: 0.3227 - accuracy: 0.8779 - val_loss: 0.6063 - val_accuracy: 0.7874\n",
            "Epoch 139/500\n",
            "104/104 [==============================] - 0s 4ms/step - loss: 0.3227 - accuracy: 0.8730 - val_loss: 0.5928 - val_accuracy: 0.7971\n",
            "Epoch 140/500\n",
            "104/104 [==============================] - 0s 4ms/step - loss: 0.3052 - accuracy: 0.8900 - val_loss: 0.5714 - val_accuracy: 0.7729\n",
            "Epoch 141/500\n",
            "104/104 [==============================] - 0s 4ms/step - loss: 0.3022 - accuracy: 0.8936 - val_loss: 0.5284 - val_accuracy: 0.8116\n",
            "Epoch 142/500\n",
            "104/104 [==============================] - 0s 4ms/step - loss: 0.2991 - accuracy: 0.8851 - val_loss: 0.5932 - val_accuracy: 0.7778\n",
            "Epoch 143/500\n",
            "104/104 [==============================] - 0s 4ms/step - loss: 0.2833 - accuracy: 0.8942 - val_loss: 0.5501 - val_accuracy: 0.8164\n",
            "Epoch 144/500\n",
            "104/104 [==============================] - 0s 4ms/step - loss: 0.2885 - accuracy: 0.8948 - val_loss: 0.4997 - val_accuracy: 0.8502\n",
            "Epoch 145/500\n",
            "104/104 [==============================] - 0s 4ms/step - loss: 0.3002 - accuracy: 0.8930 - val_loss: 0.5037 - val_accuracy: 0.8164\n",
            "Epoch 146/500\n",
            "104/104 [==============================] - 0s 4ms/step - loss: 0.3006 - accuracy: 0.8815 - val_loss: 0.5161 - val_accuracy: 0.8116\n",
            "Epoch 147/500\n",
            "104/104 [==============================] - 0s 4ms/step - loss: 0.2836 - accuracy: 0.8990 - val_loss: 0.5873 - val_accuracy: 0.7778\n",
            "Epoch 148/500\n",
            "104/104 [==============================] - 0s 4ms/step - loss: 0.2830 - accuracy: 0.8936 - val_loss: 0.5383 - val_accuracy: 0.8068\n",
            "Epoch 149/500\n",
            "104/104 [==============================] - 0s 4ms/step - loss: 0.3063 - accuracy: 0.8803 - val_loss: 0.5835 - val_accuracy: 0.7971\n",
            "Epoch 150/500\n",
            "104/104 [==============================] - 0s 4ms/step - loss: 0.2893 - accuracy: 0.8954 - val_loss: 0.6314 - val_accuracy: 0.7585\n",
            "Epoch 151/500\n",
            "104/104 [==============================] - 0s 3ms/step - loss: 0.2943 - accuracy: 0.8881 - val_loss: 0.5298 - val_accuracy: 0.7971\n",
            "Epoch 152/500\n",
            "104/104 [==============================] - 0s 4ms/step - loss: 0.3072 - accuracy: 0.8888 - val_loss: 0.4889 - val_accuracy: 0.8164\n",
            "Epoch 153/500\n",
            "104/104 [==============================] - 0s 4ms/step - loss: 0.2662 - accuracy: 0.9002 - val_loss: 0.5520 - val_accuracy: 0.7971\n",
            "Epoch 154/500\n",
            "104/104 [==============================] - 0s 4ms/step - loss: 0.2831 - accuracy: 0.9002 - val_loss: 0.5090 - val_accuracy: 0.8357\n",
            "Epoch 155/500\n",
            "104/104 [==============================] - 0s 4ms/step - loss: 0.2790 - accuracy: 0.8930 - val_loss: 0.5056 - val_accuracy: 0.8309\n",
            "Epoch 156/500\n",
            "104/104 [==============================] - 0s 3ms/step - loss: 0.2574 - accuracy: 0.9111 - val_loss: 0.5081 - val_accuracy: 0.8213\n",
            "Epoch 157/500\n",
            "104/104 [==============================] - 0s 4ms/step - loss: 0.2462 - accuracy: 0.9111 - val_loss: 0.6095 - val_accuracy: 0.7778\n",
            "Epoch 158/500\n",
            "104/104 [==============================] - 0s 3ms/step - loss: 0.2734 - accuracy: 0.9039 - val_loss: 0.5986 - val_accuracy: 0.8068\n",
            "Epoch 159/500\n",
            "104/104 [==============================] - 0s 3ms/step - loss: 0.2850 - accuracy: 0.8948 - val_loss: 0.5191 - val_accuracy: 0.7971\n",
            "Epoch 160/500\n",
            "104/104 [==============================] - 0s 3ms/step - loss: 0.2668 - accuracy: 0.9045 - val_loss: 0.6027 - val_accuracy: 0.7585\n",
            "Epoch 161/500\n",
            "104/104 [==============================] - 0s 3ms/step - loss: 0.2583 - accuracy: 0.9051 - val_loss: 0.5227 - val_accuracy: 0.8019\n",
            "Epoch 162/500\n",
            "104/104 [==============================] - 0s 3ms/step - loss: 0.2736 - accuracy: 0.9051 - val_loss: 0.5181 - val_accuracy: 0.7971\n",
            "Epoch 163/500\n",
            "104/104 [==============================] - 0s 4ms/step - loss: 0.2663 - accuracy: 0.9027 - val_loss: 0.5495 - val_accuracy: 0.7826\n",
            "Epoch 164/500\n",
            "104/104 [==============================] - 0s 4ms/step - loss: 0.2396 - accuracy: 0.9111 - val_loss: 0.6367 - val_accuracy: 0.7536\n",
            "Epoch 165/500\n",
            "104/104 [==============================] - 0s 4ms/step - loss: 0.2669 - accuracy: 0.9057 - val_loss: 0.6028 - val_accuracy: 0.7778\n",
            "Epoch 166/500\n",
            "104/104 [==============================] - 0s 4ms/step - loss: 0.2466 - accuracy: 0.9135 - val_loss: 0.6352 - val_accuracy: 0.7536\n",
            "Epoch 167/500\n",
            "104/104 [==============================] - 0s 3ms/step - loss: 0.2411 - accuracy: 0.9154 - val_loss: 0.5865 - val_accuracy: 0.7874\n",
            "Epoch 168/500\n",
            "104/104 [==============================] - 0s 4ms/step - loss: 0.2376 - accuracy: 0.9172 - val_loss: 0.5316 - val_accuracy: 0.8068\n",
            "Epoch 169/500\n",
            "104/104 [==============================] - 0s 4ms/step - loss: 0.2420 - accuracy: 0.9129 - val_loss: 0.6289 - val_accuracy: 0.7971\n",
            "Epoch 170/500\n",
            "104/104 [==============================] - 0s 3ms/step - loss: 0.2622 - accuracy: 0.9093 - val_loss: 0.5987 - val_accuracy: 0.7826\n",
            "Epoch 171/500\n",
            "104/104 [==============================] - 0s 3ms/step - loss: 0.2342 - accuracy: 0.9196 - val_loss: 0.5943 - val_accuracy: 0.8116\n",
            "Epoch 172/500\n",
            "104/104 [==============================] - 0s 3ms/step - loss: 0.2194 - accuracy: 0.9178 - val_loss: 0.5671 - val_accuracy: 0.8019\n",
            "Epoch 173/500\n",
            "104/104 [==============================] - 0s 3ms/step - loss: 0.2333 - accuracy: 0.9202 - val_loss: 0.5418 - val_accuracy: 0.7826\n",
            "Epoch 174/500\n",
            "104/104 [==============================] - 0s 4ms/step - loss: 0.2405 - accuracy: 0.9172 - val_loss: 0.5077 - val_accuracy: 0.8213\n",
            "Epoch 175/500\n",
            "104/104 [==============================] - 0s 4ms/step - loss: 0.2322 - accuracy: 0.9123 - val_loss: 0.5066 - val_accuracy: 0.8164\n",
            "Epoch 176/500\n",
            "104/104 [==============================] - 0s 4ms/step - loss: 0.2430 - accuracy: 0.9069 - val_loss: 0.5898 - val_accuracy: 0.7826\n",
            "Epoch 177/500\n",
            "104/104 [==============================] - 0s 4ms/step - loss: 0.2308 - accuracy: 0.9105 - val_loss: 0.6615 - val_accuracy: 0.7729\n"
          ]
        }
      ]
    },
    {
      "cell_type": "code",
      "source": [
        "plt.plot(cnnhistory.history['loss'])\n",
        "plt.plot(cnnhistory.history['val_loss'])\n",
        "plt.title('model loss')\n",
        "plt.ylabel('loss')\n",
        "plt.xlabel('epoch')\n",
        "plt.legend(['train','test'], loc='upper left')\n",
        "plt.show()"
      ],
      "metadata": {
        "id": "oQYnuaCrDH_A",
        "colab": {
          "base_uri": "https://localhost:8080/",
          "height": 295
        },
        "outputId": "d9d14242-1c4f-475d-b586-b88d78662a2d"
      },
      "execution_count": 15,
      "outputs": [
        {
          "output_type": "display_data",
          "data": {
            "text/plain": [
              "<Figure size 432x288 with 1 Axes>"
            ],
            "image/png": "[encoded data removed]"
          },
          "metadata": {
            "needs_background": "light"
          }
        }
      ]
    },
    {
      "cell_type": "code",
      "source": [
        "plt.plot(cnnhistory.history['accuracy'])\n",
        "plt.plot(cnnhistory.history['val_accuracy'])\n",
        "plt.title('model accuracy')\n",
        "plt.ylabel('accuracy')\n",
        "plt.xlabel('epoch')\n",
        "plt.legend(['train','test'], loc='upper left')\n",
        "plt.show()"
      ],
      "metadata": {
        "id": "IFkTuO8nDNdq",
        "colab": {
          "base_uri": "https://localhost:8080/",
          "height": 295
        },
        "outputId": "3fc1f375-a502-400b-bf00-c3cb1c8d7f06"
      },
      "execution_count": 16,
      "outputs": [
        {
          "output_type": "display_data",
          "data": {
            "text/plain": [
              "<Figure size 432x288 with 1 Axes>"
            ],
            "image/png": "[encoded data removed]"
          },
          "metadata": {
            "needs_background": "light"
          }
        }
      ]
    },
    {
      "cell_type": "code",
      "source": [
        "predictions = model.predict(x_testcnn)"
      ],
      "metadata": {
        "id": "A2xtrN5wDQgY"
      },
      "execution_count": 17,
      "outputs": []
    },
    {
      "cell_type": "code",
      "source": [
        "predictions"
      ],
      "metadata": {
        "id": "_f_ohjXKDUpY",
        "colab": {
          "base_uri": "https://localhost:8080/"
        },
        "outputId": "d6ebd46f-0f8e-44d4-c203-b8eb2c628605"
      },
      "execution_count": 18,
      "outputs": [
        {
          "output_type": "execute_result",
          "data": {
            "text/plain": [
              "array([[3.69084269e-01, 5.19820973e-02, 2.22393334e-01, 2.76900947e-01,\n",
              "        3.48318964e-02, 4.48074266e-02],\n",
              "       [8.28566495e-04, 4.41645079e-06, 6.80505707e-07, 9.08792973e-01,\n",
              "        5.46206320e-06, 9.03679579e-02],\n",
              "       [1.06108226e-01, 1.00515172e-01, 1.25957187e-02, 6.79944932e-01,\n",
              "        4.23679361e-03, 9.65990871e-02],\n",
              "       ...,\n",
              "       [1.32616861e-07, 3.68492431e-10, 2.92375194e-06, 3.51531952e-07,\n",
              "        9.99838352e-01, 1.58130031e-04],\n",
              "       [4.67197206e-05, 7.64887452e-01, 2.19714999e-01, 4.56483627e-04,\n",
              "        1.33557711e-02, 1.53858040e-03],\n",
              "       [8.08264813e-05, 4.25252860e-04, 1.11687491e-02, 1.94357504e-04,\n",
              "        9.79876161e-01, 8.25459510e-03]], dtype=float32)"
            ]
          },
          "metadata": {},
          "execution_count": 18
        }
      ]
    },
    {
      "cell_type": "code",
      "source": [
        "y_test"
      ],
      "metadata": {
        "id": "cmA2bFgsDW3D",
        "colab": {
          "base_uri": "https://localhost:8080/"
        },
        "outputId": "160536e6-b7e0-4484-bc70-e7275a47ca10"
      },
      "execution_count": 19,
      "outputs": [
        {
          "output_type": "execute_result",
          "data": {
            "text/plain": [
              "array([3, 3, 3, 0, 4, 4, 1, 2, 5, 0, 5, 3, 2, 2, 1, 4, 4, 5, 2, 4, 1, 2,\n",
              "       3, 5, 4, 2, 1, 2, 2, 2, 2, 5, 2, 5, 3, 1, 2, 0, 4, 5, 2, 3, 2, 2,\n",
              "       5, 2, 0, 1, 3, 4, 4, 5, 1, 1, 4, 4, 5, 1, 1, 1, 0, 1, 5, 0, 4, 1,\n",
              "       1, 0, 1, 4, 1, 0, 4, 1, 3, 1, 2, 2, 1, 2, 3, 0, 5, 3, 5, 5, 2, 4,\n",
              "       5, 1, 5, 1, 5, 3, 4, 1, 4, 1, 5, 4, 5, 1, 2, 1, 1, 5, 1, 3, 2, 5,\n",
              "       2, 1, 3, 5, 4, 4, 0, 0, 3, 1, 2, 2, 3, 5, 1, 5, 3, 4, 2, 2, 0, 2,\n",
              "       2, 5, 5, 0, 3, 3, 2, 2, 0, 3, 4, 0, 4, 2, 4, 5, 4, 1, 5, 3, 2, 2,\n",
              "       5, 4, 3, 3, 4, 3, 3, 4, 1, 5, 2, 3, 2, 2, 0, 2, 1, 3, 1, 2, 2, 5,\n",
              "       5, 1, 4, 2, 2, 1, 1, 3, 3, 5, 5, 2, 5, 1, 5, 0, 3, 3, 0, 5, 1, 4,\n",
              "       1, 4, 2, 5, 5, 1, 4, 2, 4])"
            ]
          },
          "metadata": {},
          "execution_count": 19
        }
      ]
    },
    {
      "cell_type": "code",
      "source": [
        "new_Ytest = y_test.astype(int)"
      ],
      "metadata": {
        "id": "0PHDKWJWDY3g"
      },
      "execution_count": 20,
      "outputs": []
    },
    {
      "cell_type": "code",
      "source": [
        "new_Ytest"
      ],
      "metadata": {
        "id": "k68v2i-pDbZE",
        "colab": {
          "base_uri": "https://localhost:8080/"
        },
        "outputId": "3be1958b-1000-4f69-95cd-7ee03c8de917"
      },
      "execution_count": 21,
      "outputs": [
        {
          "output_type": "execute_result",
          "data": {
            "text/plain": [
              "array([3, 3, 3, 0, 4, 4, 1, 2, 5, 0, 5, 3, 2, 2, 1, 4, 4, 5, 2, 4, 1, 2,\n",
              "       3, 5, 4, 2, 1, 2, 2, 2, 2, 5, 2, 5, 3, 1, 2, 0, 4, 5, 2, 3, 2, 2,\n",
              "       5, 2, 0, 1, 3, 4, 4, 5, 1, 1, 4, 4, 5, 1, 1, 1, 0, 1, 5, 0, 4, 1,\n",
              "       1, 0, 1, 4, 1, 0, 4, 1, 3, 1, 2, 2, 1, 2, 3, 0, 5, 3, 5, 5, 2, 4,\n",
              "       5, 1, 5, 1, 5, 3, 4, 1, 4, 1, 5, 4, 5, 1, 2, 1, 1, 5, 1, 3, 2, 5,\n",
              "       2, 1, 3, 5, 4, 4, 0, 0, 3, 1, 2, 2, 3, 5, 1, 5, 3, 4, 2, 2, 0, 2,\n",
              "       2, 5, 5, 0, 3, 3, 2, 2, 0, 3, 4, 0, 4, 2, 4, 5, 4, 1, 5, 3, 2, 2,\n",
              "       5, 4, 3, 3, 4, 3, 3, 4, 1, 5, 2, 3, 2, 2, 0, 2, 1, 3, 1, 2, 2, 5,\n",
              "       5, 1, 4, 2, 2, 1, 1, 3, 3, 5, 5, 2, 5, 1, 5, 0, 3, 3, 0, 5, 1, 4,\n",
              "       1, 4, 2, 5, 5, 1, 4, 2, 4])"
            ]
          },
          "metadata": {},
          "execution_count": 21
        }
      ]
    },
    {
      "cell_type": "code",
      "source": [
        "preds1=predictions.argmax(axis=1)\n",
        "preds1"
      ],
      "metadata": {
        "id": "4_cAI39VFhtp",
        "colab": {
          "base_uri": "https://localhost:8080/"
        },
        "outputId": "bc6c9071-d72d-49ed-85c6-0ac9d116003f"
      },
      "execution_count": 22,
      "outputs": [
        {
          "output_type": "execute_result",
          "data": {
            "text/plain": [
              "array([0, 3, 3, 2, 4, 4, 1, 2, 5, 1, 5, 3, 2, 2, 0, 4, 4, 3, 3, 4, 2, 2,\n",
              "       0, 3, 4, 2, 1, 2, 2, 2, 2, 5, 2, 5, 3, 1, 2, 0, 4, 5, 2, 5, 4, 2,\n",
              "       5, 2, 1, 1, 3, 4, 4, 5, 1, 1, 4, 4, 5, 1, 1, 1, 0, 1, 2, 1, 4, 1,\n",
              "       1, 1, 1, 4, 0, 0, 4, 1, 5, 1, 2, 2, 1, 2, 1, 0, 5, 3, 5, 5, 2, 4,\n",
              "       3, 1, 5, 1, 5, 3, 4, 1, 4, 1, 5, 4, 5, 1, 2, 1, 1, 5, 1, 3, 2, 5,\n",
              "       5, 1, 3, 5, 4, 4, 2, 0, 3, 1, 1, 2, 1, 5, 1, 5, 3, 4, 2, 2, 0, 2,\n",
              "       2, 3, 3, 0, 3, 3, 2, 2, 0, 3, 4, 0, 4, 4, 4, 1, 4, 1, 5, 3, 2, 2,\n",
              "       5, 4, 3, 5, 4, 5, 3, 4, 1, 5, 2, 3, 2, 2, 0, 2, 1, 3, 1, 4, 2, 5,\n",
              "       5, 1, 4, 2, 2, 1, 1, 3, 3, 5, 2, 2, 5, 1, 2, 1, 3, 3, 2, 4, 1, 4,\n",
              "       1, 4, 5, 5, 5, 1, 4, 1, 4])"
            ]
          },
          "metadata": {},
          "execution_count": 22
        }
      ]
    },
    {
      "cell_type": "code",
      "source": [
        "abc = preds1.astype(int).flatten()"
      ],
      "metadata": {
        "id": "H4WEmM60NfQn"
      },
      "execution_count": 23,
      "outputs": []
    },
    {
      "cell_type": "code",
      "source": [
        "from sklearn.metrics import confusion_matrix\n",
        "c = confusion_matrix(new_Ytest, abc) \n",
        "c"
      ],
      "metadata": {
        "id": "bKEBeEBlFjB8",
        "colab": {
          "base_uri": "https://localhost:8080/"
        },
        "outputId": "5a6f1232-05d1-4bc9-9f8d-58f1994bea48"
      },
      "execution_count": 24,
      "outputs": [
        {
          "output_type": "execute_result",
          "data": {
            "text/plain": [
              "array([[10,  5,  3,  0,  0,  0],\n",
              "       [ 2, 38,  1,  0,  0,  0],\n",
              "       [ 0,  2, 37,  1,  3,  2],\n",
              "       [ 2,  2,  0, 23,  0,  4],\n",
              "       [ 0,  0,  0,  0, 33,  0],\n",
              "       [ 0,  1,  3,  5,  1, 29]])"
            ]
          },
          "metadata": {},
          "execution_count": 24
        }
      ]
    },
    {
      "cell_type": "code",
      "source": [
        "y_test"
      ],
      "metadata": {
        "id": "m4RjG7LWLSQx",
        "colab": {
          "base_uri": "https://localhost:8080/"
        },
        "outputId": "69e44d23-aa93-46ee-aa13-1c64354986ed"
      },
      "execution_count": 25,
      "outputs": [
        {
          "output_type": "execute_result",
          "data": {
            "text/plain": [
              "array([3, 3, 3, 0, 4, 4, 1, 2, 5, 0, 5, 3, 2, 2, 1, 4, 4, 5, 2, 4, 1, 2,\n",
              "       3, 5, 4, 2, 1, 2, 2, 2, 2, 5, 2, 5, 3, 1, 2, 0, 4, 5, 2, 3, 2, 2,\n",
              "       5, 2, 0, 1, 3, 4, 4, 5, 1, 1, 4, 4, 5, 1, 1, 1, 0, 1, 5, 0, 4, 1,\n",
              "       1, 0, 1, 4, 1, 0, 4, 1, 3, 1, 2, 2, 1, 2, 3, 0, 5, 3, 5, 5, 2, 4,\n",
              "       5, 1, 5, 1, 5, 3, 4, 1, 4, 1, 5, 4, 5, 1, 2, 1, 1, 5, 1, 3, 2, 5,\n",
              "       2, 1, 3, 5, 4, 4, 0, 0, 3, 1, 2, 2, 3, 5, 1, 5, 3, 4, 2, 2, 0, 2,\n",
              "       2, 5, 5, 0, 3, 3, 2, 2, 0, 3, 4, 0, 4, 2, 4, 5, 4, 1, 5, 3, 2, 2,\n",
              "       5, 4, 3, 3, 4, 3, 3, 4, 1, 5, 2, 3, 2, 2, 0, 2, 1, 3, 1, 2, 2, 5,\n",
              "       5, 1, 4, 2, 2, 1, 1, 3, 3, 5, 5, 2, 5, 1, 5, 0, 3, 3, 0, 5, 1, 4,\n",
              "       1, 4, 2, 5, 5, 1, 4, 2, 4])"
            ]
          },
          "metadata": {},
          "execution_count": 25
        }
      ]
    },
    {
      "cell_type": "code",
      "source": [
        "loss, acc =model.evaluate(x_testcnn, y_test)\n",
        "print(\"Restored model, accuracy: {:5.2f}%\".format(100*acc))"
      ],
      "metadata": {
        "id": "n3kzoqPkDqqS",
        "colab": {
          "base_uri": "https://localhost:8080/"
        },
        "outputId": "b750cf80-3d28-485c-dccc-510a993fddd1"
      },
      "execution_count": 26,
      "outputs": [
        {
          "output_type": "stream",
          "name": "stdout",
          "text": [
            "7/7 [==============================] - 0s 3ms/step - loss: 0.4489 - accuracy: 0.8213\n",
            "Restored model, accuracy: 82.13%\n"
          ]
        }
      ]
    },
    {
      "cell_type": "code",
      "source": [
        "loss, acc =model.evaluate(X_train, y_train)\n",
        "print(\"Restored model train, accuracy: {:5.2f}%\".format(100*acc))"
      ],
      "metadata": {
        "id": "fJDTGH_OUX0z",
        "colab": {
          "base_uri": "https://localhost:8080/"
        },
        "outputId": "c1ab2167-29a6-43ac-eb6a-f533ddadb503"
      },
      "execution_count": 27,
      "outputs": [
        {
          "output_type": "stream",
          "name": "stdout",
          "text": [
            "52/52 [==============================] - 0s 3ms/step - loss: 0.1395 - accuracy: 0.9776\n",
            "Restored model train, accuracy: 97.76%\n"
          ]
        }
      ]
    },
    {
      "cell_type": "code",
      "source": [
        "from sklearn.metrics import classification_report, confusion_matrix,accuracy_score\n",
        "import seaborn as sn\n",
        "\n",
        "print(classification_report(new_Ytest,abc))\n",
        "\n",
        "acc = float(accuracy_score(new_Ytest,abc))*100\n",
        "print(\"----accuracy score %s ----\" % acc)\n",
        "\n",
        "cm = confusion_matrix(new_Ytest,abc)\n",
        "#df_cm = pd.DataFrame(cm)\n",
        "class_names = ['neutral','calm', 'happy','sad','angry', 'fearful' ]\n",
        "df_cm = pd.DataFrame(cm, index=class_names, columns=class_names,)\n",
        "sn.heatmap(df_cm, annot=True, fmt='')\n",
        "plt.show()"
      ],
      "metadata": {
        "id": "SfSC3El94LZg",
        "colab": {
          "base_uri": "https://localhost:8080/",
          "height": 521
        },
        "outputId": "d3b80bff-9c3a-4c18-fe7a-e4b3cff47503"
      },
      "execution_count": 28,
      "outputs": [
        {
          "output_type": "stream",
          "name": "stdout",
          "text": [
            "              precision    recall  f1-score   support\n",
            "\n",
            "           0       0.71      0.56      0.63        18\n",
            "           1       0.79      0.93      0.85        41\n",
            "           2       0.84      0.82      0.83        45\n",
            "           3       0.79      0.74      0.77        31\n",
            "           4       0.89      1.00      0.94        33\n",
            "           5       0.83      0.74      0.78        39\n",
            "\n",
            "    accuracy                           0.82       207\n",
            "   macro avg       0.81      0.80      0.80       207\n",
            "weighted avg       0.82      0.82      0.82       207\n",
            "\n",
            "----accuracy score 82.1256038647343 ----\n"
          ]
        },
        {
          "output_type": "display_data",
          "data": {
            "text/plain": [
              "<Figure size 432x288 with 2 Axes>"
            ],
            "image/png": "[encoded data removed]"
          },
          "metadata": {
            "needs_background": "light"
          }
        }
      ]
    }
  ]
}