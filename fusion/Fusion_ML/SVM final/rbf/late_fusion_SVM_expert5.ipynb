{
  "nbformat": 4,
  "nbformat_minor": 0,
  "metadata": {
    "colab": {
      "name": "late_fusion_SVM_expert5.ipynb",
      "provenance": [],
      "collapsed_sections": []
    },
    "kernelspec": {
      "name": "python3",
      "display_name": "Python 3"
    },
    "language_info": {
      "name": "python"
    }
  },
  "cells": [
    {
      "cell_type": "code",
      "source": [
        "# stacked generalization with linear meta model on blobs dataset\n",
        "from sklearn.metrics import accuracy_score\n",
        "from sklearn.linear_model import LogisticRegression\n",
        "from matplotlib import pyplot\n"
      ],
      "metadata": {
        "id": "XQj4f23-Ix-w"
      },
      "execution_count": 1,
      "outputs": []
    },
    {
      "cell_type": "code",
      "source": [
        "from google.colab import drive\n",
        "drive.mount('/content/drive')"
      ],
      "metadata": {
        "colab": {
          "base_uri": "https://localhost:8080/"
        },
        "id": "qj9wMQtlI1os",
        "outputId": "20c6961f-cfea-44ff-c589-d69d816f50b5"
      },
      "execution_count": 2,
      "outputs": [
        {
          "output_type": "stream",
          "name": "stdout",
          "text": [
            "Mounted at /content/drive\n"
          ]
        }
      ]
    },
    {
      "cell_type": "code",
      "source": [
        "#x_train  y_train to train\n",
        "#x_test   y_test to test\n",
        "#x_valid  y_valid \n",
        "#video\n",
        "import joblib\n",
        "x_test_prediction = joblib.load('/content/drive/My Drive/fusion/video/data_set_fusion/expert5/test/pred_test')\n",
        "x_train_prediction = joblib.load('/content/drive/My Drive/fusion/video/data_set_fusion/expert5/train/pred_train')\n",
        "x_valid_prediction = joblib.load('/content/drive/My Drive/fusion/video/data_set_fusion/expert5/valid/pred_valid')\n",
        "y_test = joblib.load('/content/drive/My Drive/fusion/video/data_set_fusion/expert5/test/labels_test')\n",
        "y_train = joblib.load('/content/drive/My Drive/fusion/video/data_set_fusion/expert5/train/labels_train')\n",
        "y_valid = joblib.load('/content/drive/My Drive/fusion/video/data_set_fusion/expert5/valid/labels_valid')\n",
        "#audio\n",
        "\n",
        "x_audio_test_prediction = joblib.load('/content/drive/My Drive/fusion/final_audio/data_set_fusion/expert5/test/predict_test')\n",
        "x_audio_train_prediction = joblib.load('/content/drive/My Drive/fusion/final_audio/data_set_fusion/expert5/train/predict_train')\n",
        "x_audio_valid_prediction = joblib.load('/content/drive/My Drive/fusion/final_audio/data_set_fusion/expert5/valid/predict_valid')\n",
        "\"\"\"\n",
        "#samples name\n",
        "test_videos= joblib.load('/content/drive/My Drive/fusion/video/data_set_fusion/expert1/test/video_test_path')\n",
        "train_videos = joblib.load('/content/drive/My Drive/fusion/video/data_set_fusion/expert1/train/video_train_path')\n",
        "valid_videos = joblib.load('/content/drive/My Drive/fusion/video/data_set_fusion/expert1/valid/video_valid_path')\n",
        "\"\"\""
      ],
      "metadata": {
        "id": "gb8C-44ct_Yp",
        "colab": {
          "base_uri": "https://localhost:8080/",
          "height": 53
        },
        "outputId": "2ab92042-0707-496e-c034-34a05cfe0a2a"
      },
      "execution_count": 3,
      "outputs": [
        {
          "output_type": "execute_result",
          "data": {
            "text/plain": [
              "\"\\n#samples name\\ntest_videos= joblib.load('/content/drive/My Drive/fusion/video/data_set_fusion/expert1/test/video_test_path')\\ntrain_videos = joblib.load('/content/drive/My Drive/fusion/video/data_set_fusion/expert1/train/video_train_path')\\nvalid_videos = joblib.load('/content/drive/My Drive/fusion/video/data_set_fusion/expert1/valid/video_valid_path')\\n\""
            ],
            "application/vnd.google.colaboratory.intrinsic+json": {
              "type": "string"
            }
          },
          "metadata": {},
          "execution_count": 3
        }
      ]
    },
    {
      "cell_type": "code",
      "source": [
        "len(x_test_prediction),len(x_train_prediction),len(x_audio_test_prediction),len(x_audio_train_prediction),len(x_valid_prediction),len(x_audio_valid_prediction)"
      ],
      "metadata": {
        "colab": {
          "base_uri": "https://localhost:8080/"
        },
        "id": "Qz1Z3Vgdxaaw",
        "outputId": "3d71bf27-8c86-456c-f50b-d8eeb2c7312b"
      },
      "execution_count": 4,
      "outputs": [
        {
          "output_type": "execute_result",
          "data": {
            "text/plain": [
              "(207, 1653, 207, 1653, 207, 207)"
            ]
          },
          "metadata": {},
          "execution_count": 4
        }
      ]
    },
    {
      "cell_type": "code",
      "source": [
        "#x_train for video\n",
        "x_train_prediction=x_train_prediction.append(x_valid_prediction,ignore_index = True)\n",
        "#x_train for audio\n",
        "x_audio_train_prediction=x_audio_train_prediction.append(x_audio_valid_prediction,ignore_index = True)"
      ],
      "metadata": {
        "id": "QgDf-FF0utgP"
      },
      "execution_count": 5,
      "outputs": []
    },
    {
      "cell_type": "code",
      "source": [
        "len(x_audio_train_prediction),len(x_train_prediction)"
      ],
      "metadata": {
        "colab": {
          "base_uri": "https://localhost:8080/"
        },
        "id": "3G4-X-MLv79s",
        "outputId": "19bc281b-992a-4b4a-a353-0f0cb69f1b67"
      },
      "execution_count": 6,
      "outputs": [
        {
          "output_type": "execute_result",
          "data": {
            "text/plain": [
              "(1860, 1860)"
            ]
          },
          "metadata": {},
          "execution_count": 6
        }
      ]
    },
    {
      "cell_type": "code",
      "source": [
        "from pandas.core.frame import DataFrame\n",
        "df_train=DataFrame(y_train,columns=['labels'])\n",
        "df_valid=DataFrame(y_valid,columns=['labels'])"
      ],
      "metadata": {
        "id": "JrYaQCyZw06M"
      },
      "execution_count": 7,
      "outputs": []
    },
    {
      "cell_type": "code",
      "source": [
        "df_train=df_train.append(df_valid,ignore_index = True)"
      ],
      "metadata": {
        "id": "Rq3yhw26xjfy"
      },
      "execution_count": 8,
      "outputs": []
    },
    {
      "cell_type": "code",
      "source": [
        "len(df_train)"
      ],
      "metadata": {
        "colab": {
          "base_uri": "https://localhost:8080/"
        },
        "id": "dvYKmNurx1KR",
        "outputId": "bed79bf4-4354-4fcd-f2a2-9537915d37d6"
      },
      "execution_count": 9,
      "outputs": [
        {
          "output_type": "execute_result",
          "data": {
            "text/plain": [
              "1860"
            ]
          },
          "metadata": {},
          "execution_count": 9
        }
      ]
    },
    {
      "cell_type": "code",
      "source": [
        "df_train"
      ],
      "metadata": {
        "colab": {
          "base_uri": "https://localhost:8080/",
          "height": 424
        },
        "id": "Pfp2YX591X1F",
        "outputId": "22900ab3-8696-41e5-c219-ad1c6157b551"
      },
      "execution_count": 10,
      "outputs": [
        {
          "output_type": "execute_result",
          "data": {
            "text/plain": [
              "      labels\n",
              "0          1\n",
              "1          0\n",
              "2          1\n",
              "3          2\n",
              "4          2\n",
              "...      ...\n",
              "1855       3\n",
              "1856       1\n",
              "1857       5\n",
              "1858       5\n",
              "1859       5\n",
              "\n",
              "[1860 rows x 1 columns]"
            ],
            "text/html": [
              "\n",
              "  <div id=\"df-9b40ada7-c033-4ebd-bf1c-28d73eda8faf\">\n",
              "    <div class=\"colab-df-container\">\n",
              "      <div>\n",
              "<style scoped>\n",
              "    .dataframe tbody tr th:only-of-type {\n",
              "        vertical-align: middle;\n",
              "    }\n",
              "\n",
              "    .dataframe tbody tr th {\n",
              "        vertical-align: top;\n",
              "    }\n",
              "\n",
              "    .dataframe thead th {\n",
              "        text-align: right;\n",
              "    }\n",
              "</style>\n",
              "<table border=\"1\" class=\"dataframe\">\n",
              "  <thead>\n",
              "    <tr style=\"text-align: right;\">\n",
              "      <th></th>\n",
              "      <th>labels</th>\n",
              "    </tr>\n",
              "  </thead>\n",
              "  <tbody>\n",
              "    <tr>\n",
              "      <th>0</th>\n",
              "      <td>1</td>\n",
              "    </tr>\n",
              "    <tr>\n",
              "      <th>1</th>\n",
              "      <td>0</td>\n",
              "    </tr>\n",
              "    <tr>\n",
              "      <th>2</th>\n",
              "      <td>1</td>\n",
              "    </tr>\n",
              "    <tr>\n",
              "      <th>3</th>\n",
              "      <td>2</td>\n",
              "    </tr>\n",
              "    <tr>\n",
              "      <th>4</th>\n",
              "      <td>2</td>\n",
              "    </tr>\n",
              "    <tr>\n",
              "      <th>...</th>\n",
              "      <td>...</td>\n",
              "    </tr>\n",
              "    <tr>\n",
              "      <th>1855</th>\n",
              "      <td>3</td>\n",
              "    </tr>\n",
              "    <tr>\n",
              "      <th>1856</th>\n",
              "      <td>1</td>\n",
              "    </tr>\n",
              "    <tr>\n",
              "      <th>1857</th>\n",
              "      <td>5</td>\n",
              "    </tr>\n",
              "    <tr>\n",
              "      <th>1858</th>\n",
              "      <td>5</td>\n",
              "    </tr>\n",
              "    <tr>\n",
              "      <th>1859</th>\n",
              "      <td>5</td>\n",
              "    </tr>\n",
              "  </tbody>\n",
              "</table>\n",
              "<p>1860 rows × 1 columns</p>\n",
              "</div>\n",
              "      <button class=\"colab-df-convert\" onclick=\"convertToInteractive('df-9b40ada7-c033-4ebd-bf1c-28d73eda8faf')\"\n",
              "              title=\"Convert this dataframe to an interactive table.\"\n",
              "              style=\"display:none;\">\n",
              "        \n",
              "  <svg xmlns=\"http://www.w3.org/2000/svg\" height=\"24px\"viewBox=\"0 0 24 24\"\n",
              "       width=\"24px\">\n",
              "    <path d=\"M0 0h24v24H0V0z\" fill=\"none\"/>\n",
              "    <path d=\"M18.56 5.44l.94 2.06.94-2.06 2.06-.94-2.06-.94-.94-2.06-.94 2.06-2.06.94zm-11 1L8.5 8.5l.94-2.06 2.06-.94-2.06-.94L8.5 2.5l-.94 2.06-2.06.94zm10 10l.94 2.06.94-2.06 2.06-.94-2.06-.94-.94-2.06-.94 2.06-2.06.94z\"/><path d=\"M17.41 7.96l-1.37-1.37c-.4-.4-.92-.59-1.43-.59-.52 0-1.04.2-1.43.59L10.3 9.45l-7.72 7.72c-.78.78-.78 2.05 0 2.83L4 21.41c.39.39.9.59 1.41.59.51 0 1.02-.2 1.41-.59l7.78-7.78 2.81-2.81c.8-.78.8-2.07 0-2.86zM5.41 20L4 18.59l7.72-7.72 1.47 1.35L5.41 20z\"/>\n",
              "  </svg>\n",
              "      </button>\n",
              "      \n",
              "  <style>\n",
              "    .colab-df-container {\n",
              "      display:flex;\n",
              "      flex-wrap:wrap;\n",
              "      gap: 12px;\n",
              "    }\n",
              "\n",
              "    .colab-df-convert {\n",
              "      background-color: #E8F0FE;\n",
              "      border: none;\n",
              "      border-radius: 50%;\n",
              "      cursor: pointer;\n",
              "      display: none;\n",
              "      fill: #1967D2;\n",
              "      height: 32px;\n",
              "      padding: 0 0 0 0;\n",
              "      width: 32px;\n",
              "    }\n",
              "\n",
              "    .colab-df-convert:hover {\n",
              "      background-color: #E2EBFA;\n",
              "      box-shadow: 0px 1px 2px rgba(60, 64, 67, 0.3), 0px 1px 3px 1px rgba(60, 64, 67, 0.15);\n",
              "      fill: #174EA6;\n",
              "    }\n",
              "\n",
              "    [theme=dark] .colab-df-convert {\n",
              "      background-color: #3B4455;\n",
              "      fill: #D2E3FC;\n",
              "    }\n",
              "\n",
              "    [theme=dark] .colab-df-convert:hover {\n",
              "      background-color: #434B5C;\n",
              "      box-shadow: 0px 1px 3px 1px rgba(0, 0, 0, 0.15);\n",
              "      filter: drop-shadow(0px 1px 2px rgba(0, 0, 0, 0.3));\n",
              "      fill: #FFFFFF;\n",
              "    }\n",
              "  </style>\n",
              "\n",
              "      <script>\n",
              "        const buttonEl =\n",
              "          document.querySelector('#df-9b40ada7-c033-4ebd-bf1c-28d73eda8faf button.colab-df-convert');\n",
              "        buttonEl.style.display =\n",
              "          google.colab.kernel.accessAllowed ? 'block' : 'none';\n",
              "\n",
              "        async function convertToInteractive(key) {\n",
              "          const element = document.querySelector('#df-9b40ada7-c033-4ebd-bf1c-28d73eda8faf');\n",
              "          const dataTable =\n",
              "            await google.colab.kernel.invokeFunction('convertToInteractive',\n",
              "                                                     [key], {});\n",
              "          if (!dataTable) return;\n",
              "\n",
              "          const docLinkHtml = 'Like what you see? Visit the ' +\n",
              "            '<a target=\"_blank\" href=https://colab.research.google.com/notebooks/data_table.ipynb>data table notebook</a>'\n",
              "            + ' to learn more about interactive tables.';\n",
              "          element.innerHTML = '';\n",
              "          dataTable['output_type'] = 'display_data';\n",
              "          await google.colab.output.renderOutput(dataTable, element);\n",
              "          const docLink = document.createElement('div');\n",
              "          docLink.innerHTML = docLinkHtml;\n",
              "          element.appendChild(docLink);\n",
              "        }\n",
              "      </script>\n",
              "    </div>\n",
              "  </div>\n",
              "  "
            ]
          },
          "metadata": {},
          "execution_count": 10
        }
      ]
    },
    {
      "cell_type": "code",
      "source": [
        "import pandas as pd\n",
        "\n",
        "x_train = pd.concat([x_train_prediction, x_audio_train_prediction], axis=1,join='inner')\n",
        "x_test =  pd.concat([x_test_prediction, x_audio_test_prediction], axis=1,join='inner')"
      ],
      "metadata": {
        "id": "sbkgIXaFwKwh"
      },
      "execution_count": 11,
      "outputs": []
    },
    {
      "cell_type": "code",
      "source": [
        "x_test"
      ],
      "metadata": {
        "colab": {
          "base_uri": "https://localhost:8080/",
          "height": 424
        },
        "id": "78gEQ1w7w_fd",
        "outputId": "b35f393b-0578-4c4c-9bee-d7ffb74659e2"
      },
      "execution_count": 12,
      "outputs": [
        {
          "output_type": "execute_result",
          "data": {
            "text/plain": [
              "         OV_0      OV_1      OV_2      OV_3      OV_4      OV_5          OA_0  \\\n",
              "0    0.000002  0.000616  0.999156  0.000070  0.000015  0.000141  3.120543e-09   \n",
              "1    0.070524  0.924814  0.001640  0.001804  0.001131  0.000087  2.814680e-18   \n",
              "2    0.000057  0.000164  0.000066  0.001010  0.995511  0.003193  2.975224e-03   \n",
              "3    0.000493  0.000126  0.000069  0.004140  0.926091  0.069081  2.915305e-09   \n",
              "4    0.867374  0.088145  0.000096  0.043439  0.000198  0.000748  6.149637e-02   \n",
              "..        ...       ...       ...       ...       ...       ...           ...   \n",
              "202  0.013694  0.008708  0.000044  0.723786  0.250908  0.002860  2.256047e-09   \n",
              "203  0.000189  0.001172  0.002108  0.000934  0.873140  0.122457  1.264513e-09   \n",
              "204  0.000157  0.000339  0.001526  0.003077  0.117318  0.877584  1.842989e-06   \n",
              "205  0.000283  0.000095  0.000185  0.009486  0.001196  0.988754  1.579074e-04   \n",
              "206  0.000141  0.000189  0.000046  0.000675  0.995514  0.003435  3.373655e-07   \n",
              "\n",
              "             OA_1          OA_2          OA_3          OA_4          OA_5  \n",
              "0    1.878039e-07  9.712390e-01  2.847798e-02  2.126502e-07  2.825581e-04  \n",
              "1    9.999990e-01  7.501311e-07  1.844225e-07  1.812109e-14  1.011151e-14  \n",
              "2    1.990036e-04  5.236944e-01  8.508634e-02  2.055436e-01  1.825015e-01  \n",
              "3    1.042901e-11  4.304118e-04  8.434960e-07  9.993483e-01  2.204236e-04  \n",
              "4    1.610519e-08  1.248254e-06  8.577012e-01  3.309720e-07  8.080090e-02  \n",
              "..            ...           ...           ...           ...           ...  \n",
              "202  1.970846e-10  6.843630e-07  9.934046e-08  9.999992e-01  4.158084e-10  \n",
              "203  1.685255e-09  2.225480e-04  3.071244e-06  9.996568e-01  1.176655e-04  \n",
              "204  1.257121e-10  9.362705e-05  4.167560e-05  2.702758e-01  7.295870e-01  \n",
              "205  1.233524e-06  2.652438e-04  4.022013e-05  1.279410e-04  9.994074e-01  \n",
              "206  4.440386e-08  2.645198e-03  5.464350e-04  9.929068e-01  3.901134e-03  \n",
              "\n",
              "[207 rows x 12 columns]"
            ],
            "text/html": [
              "\n",
              "  <div id=\"df-88cc4d3e-baf4-41c7-9d70-3f5a6d7c0491\">\n",
              "    <div class=\"colab-df-container\">\n",
              "      <div>\n",
              "<style scoped>\n",
              "    .dataframe tbody tr th:only-of-type {\n",
              "        vertical-align: middle;\n",
              "    }\n",
              "\n",
              "    .dataframe tbody tr th {\n",
              "        vertical-align: top;\n",
              "    }\n",
              "\n",
              "    .dataframe thead th {\n",
              "        text-align: right;\n",
              "    }\n",
              "</style>\n",
              "<table border=\"1\" class=\"dataframe\">\n",
              "  <thead>\n",
              "    <tr style=\"text-align: right;\">\n",
              "      <th></th>\n",
              "      <th>OV_0</th>\n",
              "      <th>OV_1</th>\n",
              "      <th>OV_2</th>\n",
              "      <th>OV_3</th>\n",
              "      <th>OV_4</th>\n",
              "      <th>OV_5</th>\n",
              "      <th>OA_0</th>\n",
              "      <th>OA_1</th>\n",
              "      <th>OA_2</th>\n",
              "      <th>OA_3</th>\n",
              "      <th>OA_4</th>\n",
              "      <th>OA_5</th>\n",
              "    </tr>\n",
              "  </thead>\n",
              "  <tbody>\n",
              "    <tr>\n",
              "      <th>0</th>\n",
              "      <td>0.000002</td>\n",
              "      <td>0.000616</td>\n",
              "      <td>0.999156</td>\n",
              "      <td>0.000070</td>\n",
              "      <td>0.000015</td>\n",
              "      <td>0.000141</td>\n",
              "      <td>3.120543e-09</td>\n",
              "      <td>1.878039e-07</td>\n",
              "      <td>9.712390e-01</td>\n",
              "      <td>2.847798e-02</td>\n",
              "      <td>2.126502e-07</td>\n",
              "      <td>2.825581e-04</td>\n",
              "    </tr>\n",
              "    <tr>\n",
              "      <th>1</th>\n",
              "      <td>0.070524</td>\n",
              "      <td>0.924814</td>\n",
              "      <td>0.001640</td>\n",
              "      <td>0.001804</td>\n",
              "      <td>0.001131</td>\n",
              "      <td>0.000087</td>\n",
              "      <td>2.814680e-18</td>\n",
              "      <td>9.999990e-01</td>\n",
              "      <td>7.501311e-07</td>\n",
              "      <td>1.844225e-07</td>\n",
              "      <td>1.812109e-14</td>\n",
              "      <td>1.011151e-14</td>\n",
              "    </tr>\n",
              "    <tr>\n",
              "      <th>2</th>\n",
              "      <td>0.000057</td>\n",
              "      <td>0.000164</td>\n",
              "      <td>0.000066</td>\n",
              "      <td>0.001010</td>\n",
              "      <td>0.995511</td>\n",
              "      <td>0.003193</td>\n",
              "      <td>2.975224e-03</td>\n",
              "      <td>1.990036e-04</td>\n",
              "      <td>5.236944e-01</td>\n",
              "      <td>8.508634e-02</td>\n",
              "      <td>2.055436e-01</td>\n",
              "      <td>1.825015e-01</td>\n",
              "    </tr>\n",
              "    <tr>\n",
              "      <th>3</th>\n",
              "      <td>0.000493</td>\n",
              "      <td>0.000126</td>\n",
              "      <td>0.000069</td>\n",
              "      <td>0.004140</td>\n",
              "      <td>0.926091</td>\n",
              "      <td>0.069081</td>\n",
              "      <td>2.915305e-09</td>\n",
              "      <td>1.042901e-11</td>\n",
              "      <td>4.304118e-04</td>\n",
              "      <td>8.434960e-07</td>\n",
              "      <td>9.993483e-01</td>\n",
              "      <td>2.204236e-04</td>\n",
              "    </tr>\n",
              "    <tr>\n",
              "      <th>4</th>\n",
              "      <td>0.867374</td>\n",
              "      <td>0.088145</td>\n",
              "      <td>0.000096</td>\n",
              "      <td>0.043439</td>\n",
              "      <td>0.000198</td>\n",
              "      <td>0.000748</td>\n",
              "      <td>6.149637e-02</td>\n",
              "      <td>1.610519e-08</td>\n",
              "      <td>1.248254e-06</td>\n",
              "      <td>8.577012e-01</td>\n",
              "      <td>3.309720e-07</td>\n",
              "      <td>8.080090e-02</td>\n",
              "    </tr>\n",
              "    <tr>\n",
              "      <th>...</th>\n",
              "      <td>...</td>\n",
              "      <td>...</td>\n",
              "      <td>...</td>\n",
              "      <td>...</td>\n",
              "      <td>...</td>\n",
              "      <td>...</td>\n",
              "      <td>...</td>\n",
              "      <td>...</td>\n",
              "      <td>...</td>\n",
              "      <td>...</td>\n",
              "      <td>...</td>\n",
              "      <td>...</td>\n",
              "    </tr>\n",
              "    <tr>\n",
              "      <th>202</th>\n",
              "      <td>0.013694</td>\n",
              "      <td>0.008708</td>\n",
              "      <td>0.000044</td>\n",
              "      <td>0.723786</td>\n",
              "      <td>0.250908</td>\n",
              "      <td>0.002860</td>\n",
              "      <td>2.256047e-09</td>\n",
              "      <td>1.970846e-10</td>\n",
              "      <td>6.843630e-07</td>\n",
              "      <td>9.934046e-08</td>\n",
              "      <td>9.999992e-01</td>\n",
              "      <td>4.158084e-10</td>\n",
              "    </tr>\n",
              "    <tr>\n",
              "      <th>203</th>\n",
              "      <td>0.000189</td>\n",
              "      <td>0.001172</td>\n",
              "      <td>0.002108</td>\n",
              "      <td>0.000934</td>\n",
              "      <td>0.873140</td>\n",
              "      <td>0.122457</td>\n",
              "      <td>1.264513e-09</td>\n",
              "      <td>1.685255e-09</td>\n",
              "      <td>2.225480e-04</td>\n",
              "      <td>3.071244e-06</td>\n",
              "      <td>9.996568e-01</td>\n",
              "      <td>1.176655e-04</td>\n",
              "    </tr>\n",
              "    <tr>\n",
              "      <th>204</th>\n",
              "      <td>0.000157</td>\n",
              "      <td>0.000339</td>\n",
              "      <td>0.001526</td>\n",
              "      <td>0.003077</td>\n",
              "      <td>0.117318</td>\n",
              "      <td>0.877584</td>\n",
              "      <td>1.842989e-06</td>\n",
              "      <td>1.257121e-10</td>\n",
              "      <td>9.362705e-05</td>\n",
              "      <td>4.167560e-05</td>\n",
              "      <td>2.702758e-01</td>\n",
              "      <td>7.295870e-01</td>\n",
              "    </tr>\n",
              "    <tr>\n",
              "      <th>205</th>\n",
              "      <td>0.000283</td>\n",
              "      <td>0.000095</td>\n",
              "      <td>0.000185</td>\n",
              "      <td>0.009486</td>\n",
              "      <td>0.001196</td>\n",
              "      <td>0.988754</td>\n",
              "      <td>1.579074e-04</td>\n",
              "      <td>1.233524e-06</td>\n",
              "      <td>2.652438e-04</td>\n",
              "      <td>4.022013e-05</td>\n",
              "      <td>1.279410e-04</td>\n",
              "      <td>9.994074e-01</td>\n",
              "    </tr>\n",
              "    <tr>\n",
              "      <th>206</th>\n",
              "      <td>0.000141</td>\n",
              "      <td>0.000189</td>\n",
              "      <td>0.000046</td>\n",
              "      <td>0.000675</td>\n",
              "      <td>0.995514</td>\n",
              "      <td>0.003435</td>\n",
              "      <td>3.373655e-07</td>\n",
              "      <td>4.440386e-08</td>\n",
              "      <td>2.645198e-03</td>\n",
              "      <td>5.464350e-04</td>\n",
              "      <td>9.929068e-01</td>\n",
              "      <td>3.901134e-03</td>\n",
              "    </tr>\n",
              "  </tbody>\n",
              "</table>\n",
              "<p>207 rows × 12 columns</p>\n",
              "</div>\n",
              "      <button class=\"colab-df-convert\" onclick=\"convertToInteractive('df-88cc4d3e-baf4-41c7-9d70-3f5a6d7c0491')\"\n",
              "              title=\"Convert this dataframe to an interactive table.\"\n",
              "              style=\"display:none;\">\n",
              "        \n",
              "  <svg xmlns=\"http://www.w3.org/2000/svg\" height=\"24px\"viewBox=\"0 0 24 24\"\n",
              "       width=\"24px\">\n",
              "    <path d=\"M0 0h24v24H0V0z\" fill=\"none\"/>\n",
              "    <path d=\"M18.56 5.44l.94 2.06.94-2.06 2.06-.94-2.06-.94-.94-2.06-.94 2.06-2.06.94zm-11 1L8.5 8.5l.94-2.06 2.06-.94-2.06-.94L8.5 2.5l-.94 2.06-2.06.94zm10 10l.94 2.06.94-2.06 2.06-.94-2.06-.94-.94-2.06-.94 2.06-2.06.94z\"/><path d=\"M17.41 7.96l-1.37-1.37c-.4-.4-.92-.59-1.43-.59-.52 0-1.04.2-1.43.59L10.3 9.45l-7.72 7.72c-.78.78-.78 2.05 0 2.83L4 21.41c.39.39.9.59 1.41.59.51 0 1.02-.2 1.41-.59l7.78-7.78 2.81-2.81c.8-.78.8-2.07 0-2.86zM5.41 20L4 18.59l7.72-7.72 1.47 1.35L5.41 20z\"/>\n",
              "  </svg>\n",
              "      </button>\n",
              "      \n",
              "  <style>\n",
              "    .colab-df-container {\n",
              "      display:flex;\n",
              "      flex-wrap:wrap;\n",
              "      gap: 12px;\n",
              "    }\n",
              "\n",
              "    .colab-df-convert {\n",
              "      background-color: #E8F0FE;\n",
              "      border: none;\n",
              "      border-radius: 50%;\n",
              "      cursor: pointer;\n",
              "      display: none;\n",
              "      fill: #1967D2;\n",
              "      height: 32px;\n",
              "      padding: 0 0 0 0;\n",
              "      width: 32px;\n",
              "    }\n",
              "\n",
              "    .colab-df-convert:hover {\n",
              "      background-color: #E2EBFA;\n",
              "      box-shadow: 0px 1px 2px rgba(60, 64, 67, 0.3), 0px 1px 3px 1px rgba(60, 64, 67, 0.15);\n",
              "      fill: #174EA6;\n",
              "    }\n",
              "\n",
              "    [theme=dark] .colab-df-convert {\n",
              "      background-color: #3B4455;\n",
              "      fill: #D2E3FC;\n",
              "    }\n",
              "\n",
              "    [theme=dark] .colab-df-convert:hover {\n",
              "      background-color: #434B5C;\n",
              "      box-shadow: 0px 1px 3px 1px rgba(0, 0, 0, 0.15);\n",
              "      filter: drop-shadow(0px 1px 2px rgba(0, 0, 0, 0.3));\n",
              "      fill: #FFFFFF;\n",
              "    }\n",
              "  </style>\n",
              "\n",
              "      <script>\n",
              "        const buttonEl =\n",
              "          document.querySelector('#df-88cc4d3e-baf4-41c7-9d70-3f5a6d7c0491 button.colab-df-convert');\n",
              "        buttonEl.style.display =\n",
              "          google.colab.kernel.accessAllowed ? 'block' : 'none';\n",
              "\n",
              "        async function convertToInteractive(key) {\n",
              "          const element = document.querySelector('#df-88cc4d3e-baf4-41c7-9d70-3f5a6d7c0491');\n",
              "          const dataTable =\n",
              "            await google.colab.kernel.invokeFunction('convertToInteractive',\n",
              "                                                     [key], {});\n",
              "          if (!dataTable) return;\n",
              "\n",
              "          const docLinkHtml = 'Like what you see? Visit the ' +\n",
              "            '<a target=\"_blank\" href=https://colab.research.google.com/notebooks/data_table.ipynb>data table notebook</a>'\n",
              "            + ' to learn more about interactive tables.';\n",
              "          element.innerHTML = '';\n",
              "          dataTable['output_type'] = 'display_data';\n",
              "          await google.colab.output.renderOutput(dataTable, element);\n",
              "          const docLink = document.createElement('div');\n",
              "          docLink.innerHTML = docLinkHtml;\n",
              "          element.appendChild(docLink);\n",
              "        }\n",
              "      </script>\n",
              "    </div>\n",
              "  </div>\n",
              "  "
            ]
          },
          "metadata": {},
          "execution_count": 12
        }
      ]
    },
    {
      "cell_type": "code",
      "source": [
        "len(x_test),len(x_train)"
      ],
      "metadata": {
        "colab": {
          "base_uri": "https://localhost:8080/"
        },
        "id": "ryRQjTkUyZJv",
        "outputId": "18b176a6-7451-4a83-9490-a56a509cd8d2"
      },
      "execution_count": 13,
      "outputs": [
        {
          "output_type": "execute_result",
          "data": {
            "text/plain": [
              "(207, 1860)"
            ]
          },
          "metadata": {},
          "execution_count": 13
        }
      ]
    },
    {
      "cell_type": "code",
      "source": [
        "x_train"
      ],
      "metadata": {
        "colab": {
          "base_uri": "https://localhost:8080/",
          "height": 424
        },
        "id": "1e5kgXiFwzx3",
        "outputId": "eec6b347-65b6-4ea8-ddba-99133d9efdda"
      },
      "execution_count": 14,
      "outputs": [
        {
          "output_type": "execute_result",
          "data": {
            "text/plain": [
              "          OV_0      OV_1      OV_2      OV_3      OV_4      OV_5  \\\n",
              "0     0.003411  0.987883  0.007827  0.000725  0.000091  0.000064   \n",
              "1     0.946476  0.041576  0.000079  0.007025  0.004232  0.000614   \n",
              "2     0.335372  0.644594  0.001657  0.016966  0.000159  0.001252   \n",
              "3     0.000014  0.000685  0.995223  0.000722  0.000039  0.003317   \n",
              "4     0.000002  0.001680  0.998102  0.000089  0.000024  0.000103   \n",
              "...        ...       ...       ...       ...       ...       ...   \n",
              "1855  0.000718  0.000579  0.000208  0.816382  0.020579  0.161535   \n",
              "1856  0.029151  0.967429  0.001374  0.001910  0.000038  0.000099   \n",
              "1857  0.000801  0.000096  0.000103  0.014107  0.003850  0.981043   \n",
              "1858  0.000236  0.000068  0.000225  0.009715  0.000862  0.988894   \n",
              "1859  0.005124  0.002583  0.003335  0.045351  0.002891  0.940715   \n",
              "\n",
              "              OA_0          OA_1          OA_2      OA_3          OA_4  \\\n",
              "0     7.452684e-04  9.984699e-01  1.155615e-04  0.000649  2.139574e-06   \n",
              "1     9.936737e-01  4.417195e-05  3.568929e-03  0.001013  4.949052e-04   \n",
              "2     1.381475e-05  9.909487e-01  9.001423e-03  0.000019  1.571672e-05   \n",
              "3     1.026852e-04  8.015258e-05  9.991412e-01  0.000140  3.136253e-05   \n",
              "4     1.043385e-06  2.146033e-07  9.987963e-01  0.000879  3.184161e-04   \n",
              "...            ...           ...           ...       ...           ...   \n",
              "1855  5.307785e-06  2.511110e-09  1.015465e-06  0.999869  2.135202e-07   \n",
              "1856  9.454942e-08  6.908455e-01  3.090858e-01  0.000057  7.106598e-10   \n",
              "1857  2.638927e-03  1.054727e-02  1.855539e-05  0.009019  3.841746e-11   \n",
              "1858  1.261675e-04  3.208694e-07  1.532342e-03  0.001139  4.100581e-03   \n",
              "1859  3.801648e-06  4.307902e-15  2.523958e-07  0.000009  1.104408e-04   \n",
              "\n",
              "              OA_5  \n",
              "0     1.791606e-05  \n",
              "1     1.205095e-03  \n",
              "2     9.877971e-07  \n",
              "3     5.051437e-04  \n",
              "4     4.484669e-06  \n",
              "...            ...  \n",
              "1855  1.243104e-04  \n",
              "1856  1.112847e-05  \n",
              "1857  9.777768e-01  \n",
              "1858  9.931020e-01  \n",
              "1859  9.998760e-01  \n",
              "\n",
              "[1860 rows x 12 columns]"
            ],
            "text/html": [
              "\n",
              "  <div id=\"df-d87792e5-1204-441e-9f86-abb9cd075d5d\">\n",
              "    <div class=\"colab-df-container\">\n",
              "      <div>\n",
              "<style scoped>\n",
              "    .dataframe tbody tr th:only-of-type {\n",
              "        vertical-align: middle;\n",
              "    }\n",
              "\n",
              "    .dataframe tbody tr th {\n",
              "        vertical-align: top;\n",
              "    }\n",
              "\n",
              "    .dataframe thead th {\n",
              "        text-align: right;\n",
              "    }\n",
              "</style>\n",
              "<table border=\"1\" class=\"dataframe\">\n",
              "  <thead>\n",
              "    <tr style=\"text-align: right;\">\n",
              "      <th></th>\n",
              "      <th>OV_0</th>\n",
              "      <th>OV_1</th>\n",
              "      <th>OV_2</th>\n",
              "      <th>OV_3</th>\n",
              "      <th>OV_4</th>\n",
              "      <th>OV_5</th>\n",
              "      <th>OA_0</th>\n",
              "      <th>OA_1</th>\n",
              "      <th>OA_2</th>\n",
              "      <th>OA_3</th>\n",
              "      <th>OA_4</th>\n",
              "      <th>OA_5</th>\n",
              "    </tr>\n",
              "  </thead>\n",
              "  <tbody>\n",
              "    <tr>\n",
              "      <th>0</th>\n",
              "      <td>0.003411</td>\n",
              "      <td>0.987883</td>\n",
              "      <td>0.007827</td>\n",
              "      <td>0.000725</td>\n",
              "      <td>0.000091</td>\n",
              "      <td>0.000064</td>\n",
              "      <td>7.452684e-04</td>\n",
              "      <td>9.984699e-01</td>\n",
              "      <td>1.155615e-04</td>\n",
              "      <td>0.000649</td>\n",
              "      <td>2.139574e-06</td>\n",
              "      <td>1.791606e-05</td>\n",
              "    </tr>\n",
              "    <tr>\n",
              "      <th>1</th>\n",
              "      <td>0.946476</td>\n",
              "      <td>0.041576</td>\n",
              "      <td>0.000079</td>\n",
              "      <td>0.007025</td>\n",
              "      <td>0.004232</td>\n",
              "      <td>0.000614</td>\n",
              "      <td>9.936737e-01</td>\n",
              "      <td>4.417195e-05</td>\n",
              "      <td>3.568929e-03</td>\n",
              "      <td>0.001013</td>\n",
              "      <td>4.949052e-04</td>\n",
              "      <td>1.205095e-03</td>\n",
              "    </tr>\n",
              "    <tr>\n",
              "      <th>2</th>\n",
              "      <td>0.335372</td>\n",
              "      <td>0.644594</td>\n",
              "      <td>0.001657</td>\n",
              "      <td>0.016966</td>\n",
              "      <td>0.000159</td>\n",
              "      <td>0.001252</td>\n",
              "      <td>1.381475e-05</td>\n",
              "      <td>9.909487e-01</td>\n",
              "      <td>9.001423e-03</td>\n",
              "      <td>0.000019</td>\n",
              "      <td>1.571672e-05</td>\n",
              "      <td>9.877971e-07</td>\n",
              "    </tr>\n",
              "    <tr>\n",
              "      <th>3</th>\n",
              "      <td>0.000014</td>\n",
              "      <td>0.000685</td>\n",
              "      <td>0.995223</td>\n",
              "      <td>0.000722</td>\n",
              "      <td>0.000039</td>\n",
              "      <td>0.003317</td>\n",
              "      <td>1.026852e-04</td>\n",
              "      <td>8.015258e-05</td>\n",
              "      <td>9.991412e-01</td>\n",
              "      <td>0.000140</td>\n",
              "      <td>3.136253e-05</td>\n",
              "      <td>5.051437e-04</td>\n",
              "    </tr>\n",
              "    <tr>\n",
              "      <th>4</th>\n",
              "      <td>0.000002</td>\n",
              "      <td>0.001680</td>\n",
              "      <td>0.998102</td>\n",
              "      <td>0.000089</td>\n",
              "      <td>0.000024</td>\n",
              "      <td>0.000103</td>\n",
              "      <td>1.043385e-06</td>\n",
              "      <td>2.146033e-07</td>\n",
              "      <td>9.987963e-01</td>\n",
              "      <td>0.000879</td>\n",
              "      <td>3.184161e-04</td>\n",
              "      <td>4.484669e-06</td>\n",
              "    </tr>\n",
              "    <tr>\n",
              "      <th>...</th>\n",
              "      <td>...</td>\n",
              "      <td>...</td>\n",
              "      <td>...</td>\n",
              "      <td>...</td>\n",
              "      <td>...</td>\n",
              "      <td>...</td>\n",
              "      <td>...</td>\n",
              "      <td>...</td>\n",
              "      <td>...</td>\n",
              "      <td>...</td>\n",
              "      <td>...</td>\n",
              "      <td>...</td>\n",
              "    </tr>\n",
              "    <tr>\n",
              "      <th>1855</th>\n",
              "      <td>0.000718</td>\n",
              "      <td>0.000579</td>\n",
              "      <td>0.000208</td>\n",
              "      <td>0.816382</td>\n",
              "      <td>0.020579</td>\n",
              "      <td>0.161535</td>\n",
              "      <td>5.307785e-06</td>\n",
              "      <td>2.511110e-09</td>\n",
              "      <td>1.015465e-06</td>\n",
              "      <td>0.999869</td>\n",
              "      <td>2.135202e-07</td>\n",
              "      <td>1.243104e-04</td>\n",
              "    </tr>\n",
              "    <tr>\n",
              "      <th>1856</th>\n",
              "      <td>0.029151</td>\n",
              "      <td>0.967429</td>\n",
              "      <td>0.001374</td>\n",
              "      <td>0.001910</td>\n",
              "      <td>0.000038</td>\n",
              "      <td>0.000099</td>\n",
              "      <td>9.454942e-08</td>\n",
              "      <td>6.908455e-01</td>\n",
              "      <td>3.090858e-01</td>\n",
              "      <td>0.000057</td>\n",
              "      <td>7.106598e-10</td>\n",
              "      <td>1.112847e-05</td>\n",
              "    </tr>\n",
              "    <tr>\n",
              "      <th>1857</th>\n",
              "      <td>0.000801</td>\n",
              "      <td>0.000096</td>\n",
              "      <td>0.000103</td>\n",
              "      <td>0.014107</td>\n",
              "      <td>0.003850</td>\n",
              "      <td>0.981043</td>\n",
              "      <td>2.638927e-03</td>\n",
              "      <td>1.054727e-02</td>\n",
              "      <td>1.855539e-05</td>\n",
              "      <td>0.009019</td>\n",
              "      <td>3.841746e-11</td>\n",
              "      <td>9.777768e-01</td>\n",
              "    </tr>\n",
              "    <tr>\n",
              "      <th>1858</th>\n",
              "      <td>0.000236</td>\n",
              "      <td>0.000068</td>\n",
              "      <td>0.000225</td>\n",
              "      <td>0.009715</td>\n",
              "      <td>0.000862</td>\n",
              "      <td>0.988894</td>\n",
              "      <td>1.261675e-04</td>\n",
              "      <td>3.208694e-07</td>\n",
              "      <td>1.532342e-03</td>\n",
              "      <td>0.001139</td>\n",
              "      <td>4.100581e-03</td>\n",
              "      <td>9.931020e-01</td>\n",
              "    </tr>\n",
              "    <tr>\n",
              "      <th>1859</th>\n",
              "      <td>0.005124</td>\n",
              "      <td>0.002583</td>\n",
              "      <td>0.003335</td>\n",
              "      <td>0.045351</td>\n",
              "      <td>0.002891</td>\n",
              "      <td>0.940715</td>\n",
              "      <td>3.801648e-06</td>\n",
              "      <td>4.307902e-15</td>\n",
              "      <td>2.523958e-07</td>\n",
              "      <td>0.000009</td>\n",
              "      <td>1.104408e-04</td>\n",
              "      <td>9.998760e-01</td>\n",
              "    </tr>\n",
              "  </tbody>\n",
              "</table>\n",
              "<p>1860 rows × 12 columns</p>\n",
              "</div>\n",
              "      <button class=\"colab-df-convert\" onclick=\"convertToInteractive('df-d87792e5-1204-441e-9f86-abb9cd075d5d')\"\n",
              "              title=\"Convert this dataframe to an interactive table.\"\n",
              "              style=\"display:none;\">\n",
              "        \n",
              "  <svg xmlns=\"http://www.w3.org/2000/svg\" height=\"24px\"viewBox=\"0 0 24 24\"\n",
              "       width=\"24px\">\n",
              "    <path d=\"M0 0h24v24H0V0z\" fill=\"none\"/>\n",
              "    <path d=\"M18.56 5.44l.94 2.06.94-2.06 2.06-.94-2.06-.94-.94-2.06-.94 2.06-2.06.94zm-11 1L8.5 8.5l.94-2.06 2.06-.94-2.06-.94L8.5 2.5l-.94 2.06-2.06.94zm10 10l.94 2.06.94-2.06 2.06-.94-2.06-.94-.94-2.06-.94 2.06-2.06.94z\"/><path d=\"M17.41 7.96l-1.37-1.37c-.4-.4-.92-.59-1.43-.59-.52 0-1.04.2-1.43.59L10.3 9.45l-7.72 7.72c-.78.78-.78 2.05 0 2.83L4 21.41c.39.39.9.59 1.41.59.51 0 1.02-.2 1.41-.59l7.78-7.78 2.81-2.81c.8-.78.8-2.07 0-2.86zM5.41 20L4 18.59l7.72-7.72 1.47 1.35L5.41 20z\"/>\n",
              "  </svg>\n",
              "      </button>\n",
              "      \n",
              "  <style>\n",
              "    .colab-df-container {\n",
              "      display:flex;\n",
              "      flex-wrap:wrap;\n",
              "      gap: 12px;\n",
              "    }\n",
              "\n",
              "    .colab-df-convert {\n",
              "      background-color: #E8F0FE;\n",
              "      border: none;\n",
              "      border-radius: 50%;\n",
              "      cursor: pointer;\n",
              "      display: none;\n",
              "      fill: #1967D2;\n",
              "      height: 32px;\n",
              "      padding: 0 0 0 0;\n",
              "      width: 32px;\n",
              "    }\n",
              "\n",
              "    .colab-df-convert:hover {\n",
              "      background-color: #E2EBFA;\n",
              "      box-shadow: 0px 1px 2px rgba(60, 64, 67, 0.3), 0px 1px 3px 1px rgba(60, 64, 67, 0.15);\n",
              "      fill: #174EA6;\n",
              "    }\n",
              "\n",
              "    [theme=dark] .colab-df-convert {\n",
              "      background-color: #3B4455;\n",
              "      fill: #D2E3FC;\n",
              "    }\n",
              "\n",
              "    [theme=dark] .colab-df-convert:hover {\n",
              "      background-color: #434B5C;\n",
              "      box-shadow: 0px 1px 3px 1px rgba(0, 0, 0, 0.15);\n",
              "      filter: drop-shadow(0px 1px 2px rgba(0, 0, 0, 0.3));\n",
              "      fill: #FFFFFF;\n",
              "    }\n",
              "  </style>\n",
              "\n",
              "      <script>\n",
              "        const buttonEl =\n",
              "          document.querySelector('#df-d87792e5-1204-441e-9f86-abb9cd075d5d button.colab-df-convert');\n",
              "        buttonEl.style.display =\n",
              "          google.colab.kernel.accessAllowed ? 'block' : 'none';\n",
              "\n",
              "        async function convertToInteractive(key) {\n",
              "          const element = document.querySelector('#df-d87792e5-1204-441e-9f86-abb9cd075d5d');\n",
              "          const dataTable =\n",
              "            await google.colab.kernel.invokeFunction('convertToInteractive',\n",
              "                                                     [key], {});\n",
              "          if (!dataTable) return;\n",
              "\n",
              "          const docLinkHtml = 'Like what you see? Visit the ' +\n",
              "            '<a target=\"_blank\" href=https://colab.research.google.com/notebooks/data_table.ipynb>data table notebook</a>'\n",
              "            + ' to learn more about interactive tables.';\n",
              "          element.innerHTML = '';\n",
              "          dataTable['output_type'] = 'display_data';\n",
              "          await google.colab.output.renderOutput(dataTable, element);\n",
              "          const docLink = document.createElement('div');\n",
              "          docLink.innerHTML = docLinkHtml;\n",
              "          element.appendChild(docLink);\n",
              "        }\n",
              "      </script>\n",
              "    </div>\n",
              "  </div>\n",
              "  "
            ]
          },
          "metadata": {},
          "execution_count": 14
        }
      ]
    },
    {
      "cell_type": "code",
      "source": [
        "from sklearn.utils import shuffle\n",
        "seed=42\n",
        "new_x_train = shuffle(x_train,random_state=seed)\n",
        "new_y_train = shuffle(df_train,random_state=seed)\n",
        "new_x_train = new_x_train.reset_index(drop=True)\n",
        "new_y_train = new_y_train.reset_index(drop=True)\n",
        "\"\"\"\n",
        "y_train=df_train.to_numpy()\n",
        "y_train=y_train.reshape(1860,)\n",
        "y_train, y_train.shape\n",
        "\"\"\""
      ],
      "metadata": {
        "colab": {
          "base_uri": "https://localhost:8080/",
          "height": 36
        },
        "id": "p5veJq2ei1vA",
        "outputId": "d1991621-961e-4e6a-c91d-52ef12d4403a"
      },
      "execution_count": 15,
      "outputs": [
        {
          "output_type": "execute_result",
          "data": {
            "text/plain": [
              "'\\ny_train=df_train.to_numpy()\\ny_train=y_train.reshape(1860,)\\ny_train, y_train.shape\\n'"
            ],
            "application/vnd.google.colaboratory.intrinsic+json": {
              "type": "string"
            }
          },
          "metadata": {},
          "execution_count": 15
        }
      ]
    },
    {
      "cell_type": "code",
      "source": [
        "len(new_y_train)"
      ],
      "metadata": {
        "colab": {
          "base_uri": "https://localhost:8080/"
        },
        "id": "pFfSFyo-7NfO",
        "outputId": "52d1304b-c0bb-459f-e0cd-61a8f8d0dd94"
      },
      "execution_count": 16,
      "outputs": [
        {
          "output_type": "execute_result",
          "data": {
            "text/plain": [
              "1860"
            ]
          },
          "metadata": {},
          "execution_count": 16
        }
      ]
    },
    {
      "cell_type": "code",
      "source": [
        "from sklearn.preprocessing import StandardScaler, MinMaxScaler\n",
        "scaler = MinMaxScaler(feature_range=(0, 1))\n",
        "new_x_train = scaler.fit_transform(new_x_train)\n",
        "X_test = scaler.transform(x_test)"
      ],
      "metadata": {
        "id": "wPUM0nKyxmkZ"
      },
      "execution_count": 17,
      "outputs": []
    },
    {
      "cell_type": "code",
      "source": [
        "y_train=df_train.to_numpy()\n",
        "y_train=y_train.reshape(1860,)\n",
        "y_train, y_train.shape"
      ],
      "metadata": {
        "colab": {
          "base_uri": "https://localhost:8080/"
        },
        "id": "4UmZkWm-tMOU",
        "outputId": "55fdcd6b-73cf-4b9f-dd55-0d815468a745"
      },
      "execution_count": 18,
      "outputs": [
        {
          "output_type": "execute_result",
          "data": {
            "text/plain": [
              "(array([1, 0, 1, ..., 5, 5, 5]), (1860,))"
            ]
          },
          "metadata": {},
          "execution_count": 18
        }
      ]
    },
    {
      "cell_type": "markdown",
      "source": [
        "# training machine learning"
      ],
      "metadata": {
        "id": "1hZPjTpT4lb3"
      }
    },
    {
      "cell_type": "code",
      "source": [
        "from sklearn.svm import SVC\n",
        "model = SVC(random_state=seed, kernel='rbf')\n",
        "svm=model.fit(x_train,y_train)\n",
        "predictions = model.predict(x_test)\n",
        "#print(\"Restored model, accuracy: {:5.2f}%\".format(100*acc))"
      ],
      "metadata": {
        "id": "PS4PZtkj5G8k"
      },
      "execution_count": 19,
      "outputs": []
    },
    {
      "cell_type": "code",
      "source": [
        "predictions"
      ],
      "metadata": {
        "colab": {
          "base_uri": "https://localhost:8080/"
        },
        "id": "ibm_g_O66uKI",
        "outputId": "55e98f04-2482-4fab-f2b7-036c572e3952"
      },
      "execution_count": 20,
      "outputs": [
        {
          "output_type": "execute_result",
          "data": {
            "text/plain": [
              "array([2, 1, 4, 4, 3, 5, 4, 1, 5, 3, 3, 2, 0, 5, 2, 2, 3, 3, 2, 1, 2, 4,\n",
              "       1, 5, 4, 2, 3, 0, 3, 3, 0, 3, 2, 3, 3, 4, 4, 5, 1, 4, 0, 0, 4, 4,\n",
              "       0, 2, 2, 2, 3, 0, 4, 2, 5, 5, 5, 1, 3, 3, 1, 0, 5, 4, 5, 3, 3, 5,\n",
              "       5, 4, 3, 5, 5, 2, 5, 5, 1, 4, 5, 2, 3, 1, 4, 4, 3, 5, 2, 0, 1, 2,\n",
              "       0, 0, 5, 5, 2, 2, 4, 1, 5, 0, 1, 3, 2, 2, 2, 1, 4, 1, 3, 1, 4, 1,\n",
              "       4, 1, 4, 4, 1, 2, 5, 5, 0, 4, 4, 1, 3, 2, 2, 5, 1, 5, 2, 4, 4, 3,\n",
              "       4, 1, 5, 2, 4, 2, 2, 0, 3, 3, 5, 3, 2, 1, 1, 5, 2, 0, 4, 0, 1, 5,\n",
              "       2, 2, 5, 1, 4, 5, 5, 3, 5, 2, 2, 1, 1, 4, 5, 1, 3, 4, 3, 0, 5, 3,\n",
              "       2, 1, 0, 4, 2, 4, 4, 4, 1, 2, 3, 4, 4, 2, 4, 5, 2, 1, 5, 1, 3, 5,\n",
              "       5, 3, 3, 5, 4, 4, 5, 5, 4])"
            ]
          },
          "metadata": {},
          "execution_count": 20
        }
      ]
    },
    {
      "cell_type": "code",
      "source": [
        "from sklearn.metrics import classification_report, confusion_matrix,accuracy_score\n",
        "import seaborn as sn\n",
        "import matplotlib.pyplot as plt\n",
        "\n",
        "print(classification_report(y_test,predictions))\n",
        "\n",
        "acc = float(accuracy_score(y_test,predictions))*100\n",
        "print(\"----accuracy score %s ----\" % acc)\n",
        "\n",
        "cm = confusion_matrix(y_test,predictions)\n",
        "#df_cm = pd.DataFrame(cm)\n",
        "class_names = ['neutral','calm', 'happy','sad','angry', 'fearful' ]\n",
        "df_cm = pd.DataFrame(cm, index=class_names, columns=class_names,)\n",
        "sn.heatmap(df_cm, annot=True, fmt='')\n",
        "plt.show()"
      ],
      "metadata": {
        "colab": {
          "base_uri": "https://localhost:8080/",
          "height": 508
        },
        "id": "A9gR6pV063GP",
        "outputId": "1ea6c561-4bce-4e15-a22e-d68bf6328f66"
      },
      "execution_count": 21,
      "outputs": [
        {
          "output_type": "stream",
          "name": "stdout",
          "text": [
            "              precision    recall  f1-score   support\n",
            "\n",
            "           0       1.00      0.86      0.92        21\n",
            "           1       0.88      0.93      0.90        30\n",
            "           2       1.00      0.95      0.97        41\n",
            "           3       0.79      0.93      0.86        29\n",
            "           4       0.98      0.91      0.94        45\n",
            "           5       0.88      0.90      0.89        41\n",
            "\n",
            "    accuracy                           0.92       207\n",
            "   macro avg       0.92      0.91      0.92       207\n",
            "weighted avg       0.92      0.92      0.92       207\n",
            "\n",
            "----accuracy score 91.78743961352657 ----\n"
          ]
        },
        {
          "output_type": "display_data",
          "data": {
            "text/plain": [
              "<Figure size 432x288 with 2 Axes>"
            ],
            "image/png": "[encoded data removed]"
          },
          "metadata": {
            "needs_background": "light"
          }
        }
      ]
    },
    {
      "cell_type": "code",
      "source": [
        "path='/content/drive/My Drive/fusion/fusion_model/SVM/rbf/expert5 '\n",
        "savedvX = joblib.dump(model, path)\n",
        "\n",
        "print(\"MODEL SAVED\")"
      ],
      "metadata": {
        "colab": {
          "base_uri": "https://localhost:8080/"
        },
        "id": "WFonuoIS7NTg",
        "outputId": "e109dcaa-aed0-466f-e523-aa24457045c0"
      },
      "execution_count": 22,
      "outputs": [
        {
          "output_type": "stream",
          "name": "stdout",
          "text": [
            "MODEL SAVED\n"
          ]
        }
      ]
    },
    {
      "cell_type": "code",
      "source": [
        ""
      ],
      "metadata": {
        "id": "Bp4nDNcd7lc_"
      },
      "execution_count": 22,
      "outputs": []
    }
  ]
}