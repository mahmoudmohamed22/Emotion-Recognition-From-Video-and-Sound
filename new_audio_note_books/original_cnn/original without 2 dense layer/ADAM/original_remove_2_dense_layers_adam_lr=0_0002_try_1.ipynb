{
  "nbformat": 4,
  "nbformat_minor": 0,
  "metadata": {
    "colab": {
      "name": "original remove 2 dense layers adam lr=0.0002 try 1.ipynb",
      "provenance": [],
      "collapsed_sections": []
    },
    "kernelspec": {
      "name": "python3",
      "display_name": "Python 3"
    },
    "language_info": {
      "name": "python"
    },
    "accelerator": "GPU"
  },
  "cells": [
    {
      "cell_type": "code",
      "execution_count": 1,
      "metadata": {
        "colab": {
          "base_uri": "https://localhost:8080/"
        },
        "id": "9SRCO-a_AlH5",
        "outputId": "ffb73184-d90b-4ef8-859a-d8bff44b8cdf"
      },
      "outputs": [
        {
          "output_type": "stream",
          "name": "stdout",
          "text": [
            "Drive already mounted at /content/drive; to attempt to forcibly remount, call drive.mount(\"/content/drive\", force_remount=True).\n"
          ]
        }
      ],
      "source": [
        "from google.colab import drive\n",
        "drive.mount('/content/drive')"
      ]
    },
    {
      "cell_type": "code",
      "source": [
        "!pip install librosa"
      ],
      "metadata": {
        "colab": {
          "base_uri": "https://localhost:8080/"
        },
        "id": "5Lo4mUwG9RMd",
        "outputId": "b12eb92f-ffa5-4dd6-e0b8-92b2e952b42b"
      },
      "execution_count": 2,
      "outputs": [
        {
          "output_type": "stream",
          "name": "stdout",
          "text": [
            "Looking in indexes: https://pypi.org/simple, https://us-python.pkg.dev/colab-wheels/public/simple/\n",
            "Requirement already satisfied: librosa in /usr/local/lib/python3.7/dist-packages (0.8.1)\n",
            "Requirement already satisfied: joblib>=0.14 in /usr/local/lib/python3.7/dist-packages (from librosa) (1.1.0)\n",
            "Requirement already satisfied: numpy>=1.15.0 in /usr/local/lib/python3.7/dist-packages (from librosa) (1.21.6)\n",
            "Requirement already satisfied: scipy>=1.0.0 in /usr/local/lib/python3.7/dist-packages (from librosa) (1.4.1)\n",
            "Requirement already satisfied: scikit-learn!=0.19.0,>=0.14.0 in /usr/local/lib/python3.7/dist-packages (from librosa) (1.0.2)\n",
            "Requirement already satisfied: decorator>=3.0.0 in /usr/local/lib/python3.7/dist-packages (from librosa) (4.4.2)\n",
            "Requirement already satisfied: numba>=0.43.0 in /usr/local/lib/python3.7/dist-packages (from librosa) (0.51.2)\n",
            "Requirement already satisfied: audioread>=2.0.0 in /usr/local/lib/python3.7/dist-packages (from librosa) (2.1.9)\n",
            "Requirement already satisfied: soundfile>=0.10.2 in /usr/local/lib/python3.7/dist-packages (from librosa) (0.10.3.post1)\n",
            "Requirement already satisfied: resampy>=0.2.2 in /usr/local/lib/python3.7/dist-packages (from librosa) (0.2.2)\n",
            "Requirement already satisfied: pooch>=1.0 in /usr/local/lib/python3.7/dist-packages (from librosa) (1.6.0)\n",
            "Requirement already satisfied: packaging>=20.0 in /usr/local/lib/python3.7/dist-packages (from librosa) (21.3)\n",
            "Requirement already satisfied: llvmlite<0.35,>=0.34.0.dev0 in /usr/local/lib/python3.7/dist-packages (from numba>=0.43.0->librosa) (0.34.0)\n",
            "Requirement already satisfied: setuptools in /usr/local/lib/python3.7/dist-packages (from numba>=0.43.0->librosa) (57.4.0)\n",
            "Requirement already satisfied: pyparsing!=3.0.5,>=2.0.2 in /usr/local/lib/python3.7/dist-packages (from packaging>=20.0->librosa) (3.0.9)\n",
            "Requirement already satisfied: appdirs>=1.3.0 in /usr/local/lib/python3.7/dist-packages (from pooch>=1.0->librosa) (1.4.4)\n",
            "Requirement already satisfied: requests>=2.19.0 in /usr/local/lib/python3.7/dist-packages (from pooch>=1.0->librosa) (2.23.0)\n",
            "Requirement already satisfied: chardet<4,>=3.0.2 in /usr/local/lib/python3.7/dist-packages (from requests>=2.19.0->pooch>=1.0->librosa) (3.0.4)\n",
            "Requirement already satisfied: idna<3,>=2.5 in /usr/local/lib/python3.7/dist-packages (from requests>=2.19.0->pooch>=1.0->librosa) (2.10)\n",
            "Requirement already satisfied: certifi>=2017.4.17 in /usr/local/lib/python3.7/dist-packages (from requests>=2.19.0->pooch>=1.0->librosa) (2022.5.18.1)\n",
            "Requirement already satisfied: urllib3!=1.25.0,!=1.25.1,<1.26,>=1.21.1 in /usr/local/lib/python3.7/dist-packages (from requests>=2.19.0->pooch>=1.0->librosa) (1.24.3)\n",
            "Requirement already satisfied: six>=1.3 in /usr/local/lib/python3.7/dist-packages (from resampy>=0.2.2->librosa) (1.15.0)\n",
            "Requirement already satisfied: threadpoolctl>=2.0.0 in /usr/local/lib/python3.7/dist-packages (from scikit-learn!=0.19.0,>=0.14.0->librosa) (3.1.0)\n",
            "Requirement already satisfied: cffi>=1.0 in /usr/local/lib/python3.7/dist-packages (from soundfile>=0.10.2->librosa) (1.15.0)\n",
            "Requirement already satisfied: pycparser in /usr/local/lib/python3.7/dist-packages (from cffi>=1.0->soundfile>=0.10.2->librosa) (2.21)\n"
          ]
        }
      ]
    },
    {
      "cell_type": "code",
      "metadata": {
        "id": "HJjcbxwy46bG",
        "colab": {
          "base_uri": "https://localhost:8080/",
          "height": 17
        },
        "outputId": "c209bbcf-8181-4aa7-bc86-a3c56e711a3a"
      },
      "source": [
        "# Orignial Notebook: https://github.com/MITESHPUTHRANNEU/Speech-Emotion-Analyzer/blob/master/final_results_gender_test.ipynb\n",
        "# This notebook author: Reza Chu\n",
        "# Last Editing Date: 31st May 2019\n",
        "\n",
        "## Python\n",
        "import os\n",
        "import random\n",
        "import sys\n",
        "\n",
        "import IPython\n",
        "from IPython.display import Audio\n",
        "from IPython.display import Image\n",
        "import matplotlib.pyplot as plt\n",
        "\n",
        "## Package\n",
        "import glob \n",
        "import keras\n",
        "import IPython.display as ipd\n",
        "import librosa\n",
        "import librosa.display\n",
        "import matplotlib.pyplot as plt\n",
        "import numpy as np\n",
        "import pandas as pd\n",
        "import plotly.graph_objs as go\n",
        "import plotly.offline as py\n",
        "import plotly.tools as tls\n",
        "import seaborn as sns\n",
        "import scipy.io.wavfile\n",
        "import tensorflow as tf\n",
        "py.init_notebook_mode(connected=True)\n",
        "\n",
        "## Keras\n",
        "from keras import regularizers\n",
        "from keras.callbacks import ModelCheckpoint, LearningRateScheduler, EarlyStopping\n",
        "from keras.callbacks import  History, ReduceLROnPlateau, CSVLogger\n",
        "from keras.models import Model, Sequential\n",
        "from keras.layers import Dense, Embedding, LSTM\n",
        "from keras.layers import Input, Flatten, Dropout, Activation, BatchNormalization\n",
        "from keras.layers import Conv1D, MaxPooling1D, AveragePooling1D\n",
        "from keras.preprocessing import sequence\n",
        "from keras.preprocessing.sequence import pad_sequences\n",
        "from keras.preprocessing.text import Tokenizer\n",
        "from keras.utils import np_utils\n",
        "from tensorflow.keras.utils import to_categorical\n",
        "\n",
        "## Sklearn\n",
        "from sklearn.metrics import confusion_matrix\n",
        "from sklearn.preprocessing import LabelEncoder\n",
        "\n",
        "## Rest\n",
        "from scipy.fftpack import fft\n",
        "from scipy import signal\n",
        "from scipy.io import wavfile\n",
        "from tqdm import tqdm\n",
        "\n",
        "input_duration=3\n",
        "# % pylab inline"
      ],
      "execution_count": 3,
      "outputs": [
        {
          "output_type": "display_data",
          "data": {
            "text/html": [
              "        <script type=\"text/javascript\">\n",
              "        window.PlotlyConfig = {MathJaxConfig: 'local'};\n",
              "        if (window.MathJax) {MathJax.Hub.Config({SVG: {font: \"STIX-Web\"}});}\n",
              "        if (typeof require !== 'undefined') {\n",
              "        require.undef(\"plotly\");\n",
              "        requirejs.config({\n",
              "            paths: {\n",
              "                'plotly': ['https://cdn.plot.ly/plotly-2.8.3.min']\n",
              "            }\n",
              "        });\n",
              "        require(['plotly'], function(Plotly) {\n",
              "            window._Plotly = Plotly;\n",
              "        });\n",
              "        }\n",
              "        </script>\n",
              "        "
            ]
          },
          "metadata": {}
        }
      ]
    },
    {
      "cell_type": "code",
      "source": [
        "# # Saving joblib files to not load them again with the loop above\n",
        "\n",
        "# import joblib\n",
        "\n",
        "# X_name = 'x.joblib'\n",
        "# y_name = 'y.joblib'\n",
        "# save_dir = '/content/drive/My Drive/graduation project/audio/paper_code/features'\n",
        "\n",
        "# savedX = joblib.dump(X, os.path.join(save_dir, X_name))\n",
        "# savedy = joblib.dump(y, os.path.join(save_dir, y_name))"
      ],
      "metadata": {
        "id": "UCzic8rlDcuk"
      },
      "execution_count": 4,
      "outputs": []
    },
    {
      "cell_type": "code",
      "source": [
        "# # Loading saved models\n",
        "import joblib\n",
        "X = joblib.load('/content/drive/My Drive/graduation project/audio/paper_code/features/x.joblib')\n",
        "y = joblib.load('/content/drive/My Drive/graduation project/audio/paper_code/features/y.joblib')"
      ],
      "metadata": {
        "id": "Q35CN6zDrzg1"
      },
      "execution_count": 5,
      "outputs": []
    },
    {
      "cell_type": "code",
      "source": [
        "X.shape"
      ],
      "metadata": {
        "colab": {
          "base_uri": "https://localhost:8080/"
        },
        "id": "7PSTurzjCo5K",
        "outputId": "e84a561a-c609-401c-a7b0-43e25d0616c2"
      },
      "execution_count": 6,
      "outputs": [
        {
          "output_type": "execute_result",
          "data": {
            "text/plain": [
              "(2068, 40)"
            ]
          },
          "metadata": {},
          "execution_count": 6
        }
      ]
    },
    {
      "cell_type": "code",
      "source": [
        "from sklearn.model_selection import train_test_split\n",
        "\n",
        "X_train, X_test, y_train, y_test = train_test_split(X,y, test_size=0.1 ,shuffle = True\n",
        "                                                    , random_state=42)\n",
        "X_train , X_valid, y_train, y_valid = train_test_split(X_train,y_train, test_size=0.1112305212 , shuffle = True \n",
        "                                                       , random_state=42)"
      ],
      "metadata": {
        "id": "Ai4Fy5cPCiq1"
      },
      "execution_count": 7,
      "outputs": []
    },
    {
      "cell_type": "code",
      "source": [
        "import numpy as np\n",
        "x_traincnn = np.expand_dims(X_train, axis=2)\n",
        "x_testcnn = np.expand_dims(X_test, axis=2)\n",
        "X_valid= np.expand_dims(X_valid, axis=2)"
      ],
      "metadata": {
        "id": "tp1Fm5K3CEXu"
      },
      "execution_count": 8,
      "outputs": []
    },
    {
      "cell_type": "code",
      "source": [
        "x_traincnn.shape, x_testcnn.shape , X_valid.shape\n",
        "#1861"
      ],
      "metadata": {
        "id": "RI0MxoIPBws5",
        "colab": {
          "base_uri": "https://localhost:8080/"
        },
        "outputId": "90050749-71a7-46d7-9bc0-5a5127d01348"
      },
      "execution_count": 9,
      "outputs": [
        {
          "output_type": "execute_result",
          "data": {
            "text/plain": [
              "((1654, 40, 1), (207, 40, 1), (207, 40, 1))"
            ]
          },
          "metadata": {},
          "execution_count": 9
        }
      ]
    },
    {
      "cell_type": "code",
      "source": [
        "!pip install tensorflow"
      ],
      "metadata": {
        "colab": {
          "base_uri": "https://localhost:8080/"
        },
        "id": "oALhiMUd9G2Y",
        "outputId": "7cc684d8-fe5c-4d94-8f61-c3ff6190566b"
      },
      "execution_count": 10,
      "outputs": [
        {
          "output_type": "stream",
          "name": "stdout",
          "text": [
            "Looking in indexes: https://pypi.org/simple, https://us-python.pkg.dev/colab-wheels/public/simple/\n",
            "Requirement already satisfied: tensorflow in /usr/local/lib/python3.7/dist-packages (2.8.2+zzzcolab20220527125636)\n",
            "Requirement already satisfied: tensorflow-io-gcs-filesystem>=0.23.1 in /usr/local/lib/python3.7/dist-packages (from tensorflow) (0.26.0)\n",
            "Requirement already satisfied: keras-preprocessing>=1.1.1 in /usr/local/lib/python3.7/dist-packages (from tensorflow) (1.1.2)\n",
            "Requirement already satisfied: absl-py>=0.4.0 in /usr/local/lib/python3.7/dist-packages (from tensorflow) (1.0.0)\n",
            "Requirement already satisfied: grpcio<2.0,>=1.24.3 in /usr/local/lib/python3.7/dist-packages (from tensorflow) (1.46.3)\n",
            "Requirement already satisfied: keras<2.9,>=2.8.0rc0 in /usr/local/lib/python3.7/dist-packages (from tensorflow) (2.8.0)\n",
            "Requirement already satisfied: h5py>=2.9.0 in /usr/local/lib/python3.7/dist-packages (from tensorflow) (3.1.0)\n",
            "Requirement already satisfied: flatbuffers>=1.12 in /usr/local/lib/python3.7/dist-packages (from tensorflow) (2.0)\n",
            "Requirement already satisfied: astunparse>=1.6.0 in /usr/local/lib/python3.7/dist-packages (from tensorflow) (1.6.3)\n",
            "Requirement already satisfied: opt-einsum>=2.3.2 in /usr/local/lib/python3.7/dist-packages (from tensorflow) (3.3.0)\n",
            "Requirement already satisfied: gast>=0.2.1 in /usr/local/lib/python3.7/dist-packages (from tensorflow) (0.5.3)\n",
            "Requirement already satisfied: tensorboard<2.9,>=2.8 in /usr/local/lib/python3.7/dist-packages (from tensorflow) (2.8.0)\n",
            "Requirement already satisfied: numpy>=1.20 in /usr/local/lib/python3.7/dist-packages (from tensorflow) (1.21.6)\n",
            "Requirement already satisfied: setuptools in /usr/local/lib/python3.7/dist-packages (from tensorflow) (57.4.0)\n",
            "Requirement already satisfied: tensorflow-estimator<2.9,>=2.8 in /usr/local/lib/python3.7/dist-packages (from tensorflow) (2.8.0)\n",
            "Requirement already satisfied: protobuf<3.20,>=3.9.2 in /usr/local/lib/python3.7/dist-packages (from tensorflow) (3.17.3)\n",
            "Requirement already satisfied: libclang>=9.0.1 in /usr/local/lib/python3.7/dist-packages (from tensorflow) (14.0.1)\n",
            "Requirement already satisfied: typing-extensions>=3.6.6 in /usr/local/lib/python3.7/dist-packages (from tensorflow) (4.2.0)\n",
            "Requirement already satisfied: google-pasta>=0.1.1 in /usr/local/lib/python3.7/dist-packages (from tensorflow) (0.2.0)\n",
            "Requirement already satisfied: termcolor>=1.1.0 in /usr/local/lib/python3.7/dist-packages (from tensorflow) (1.1.0)\n",
            "Requirement already satisfied: wrapt>=1.11.0 in /usr/local/lib/python3.7/dist-packages (from tensorflow) (1.14.1)\n",
            "Requirement already satisfied: six>=1.12.0 in /usr/local/lib/python3.7/dist-packages (from tensorflow) (1.15.0)\n",
            "Requirement already satisfied: wheel<1.0,>=0.23.0 in /usr/local/lib/python3.7/dist-packages (from astunparse>=1.6.0->tensorflow) (0.37.1)\n",
            "Requirement already satisfied: cached-property in /usr/local/lib/python3.7/dist-packages (from h5py>=2.9.0->tensorflow) (1.5.2)\n",
            "Requirement already satisfied: tensorboard-data-server<0.7.0,>=0.6.0 in /usr/local/lib/python3.7/dist-packages (from tensorboard<2.9,>=2.8->tensorflow) (0.6.1)\n",
            "Requirement already satisfied: google-auth-oauthlib<0.5,>=0.4.1 in /usr/local/lib/python3.7/dist-packages (from tensorboard<2.9,>=2.8->tensorflow) (0.4.6)\n",
            "Requirement already satisfied: tensorboard-plugin-wit>=1.6.0 in /usr/local/lib/python3.7/dist-packages (from tensorboard<2.9,>=2.8->tensorflow) (1.8.1)\n",
            "Requirement already satisfied: werkzeug>=0.11.15 in /usr/local/lib/python3.7/dist-packages (from tensorboard<2.9,>=2.8->tensorflow) (1.0.1)\n",
            "Requirement already satisfied: requests<3,>=2.21.0 in /usr/local/lib/python3.7/dist-packages (from tensorboard<2.9,>=2.8->tensorflow) (2.23.0)\n",
            "Requirement already satisfied: markdown>=2.6.8 in /usr/local/lib/python3.7/dist-packages (from tensorboard<2.9,>=2.8->tensorflow) (3.3.7)\n",
            "Requirement already satisfied: google-auth<3,>=1.6.3 in /usr/local/lib/python3.7/dist-packages (from tensorboard<2.9,>=2.8->tensorflow) (1.35.0)\n",
            "Requirement already satisfied: cachetools<5.0,>=2.0.0 in /usr/local/lib/python3.7/dist-packages (from google-auth<3,>=1.6.3->tensorboard<2.9,>=2.8->tensorflow) (4.2.4)\n",
            "Requirement already satisfied: rsa<5,>=3.1.4 in /usr/local/lib/python3.7/dist-packages (from google-auth<3,>=1.6.3->tensorboard<2.9,>=2.8->tensorflow) (4.8)\n",
            "Requirement already satisfied: pyasn1-modules>=0.2.1 in /usr/local/lib/python3.7/dist-packages (from google-auth<3,>=1.6.3->tensorboard<2.9,>=2.8->tensorflow) (0.2.8)\n",
            "Requirement already satisfied: requests-oauthlib>=0.7.0 in /usr/local/lib/python3.7/dist-packages (from google-auth-oauthlib<0.5,>=0.4.1->tensorboard<2.9,>=2.8->tensorflow) (1.3.1)\n",
            "Requirement already satisfied: importlib-metadata>=4.4 in /usr/local/lib/python3.7/dist-packages (from markdown>=2.6.8->tensorboard<2.9,>=2.8->tensorflow) (4.11.4)\n",
            "Requirement already satisfied: zipp>=0.5 in /usr/local/lib/python3.7/dist-packages (from importlib-metadata>=4.4->markdown>=2.6.8->tensorboard<2.9,>=2.8->tensorflow) (3.8.0)\n",
            "Requirement already satisfied: pyasn1<0.5.0,>=0.4.6 in /usr/local/lib/python3.7/dist-packages (from pyasn1-modules>=0.2.1->google-auth<3,>=1.6.3->tensorboard<2.9,>=2.8->tensorflow) (0.4.8)\n",
            "Requirement already satisfied: certifi>=2017.4.17 in /usr/local/lib/python3.7/dist-packages (from requests<3,>=2.21.0->tensorboard<2.9,>=2.8->tensorflow) (2022.5.18.1)\n",
            "Requirement already satisfied: idna<3,>=2.5 in /usr/local/lib/python3.7/dist-packages (from requests<3,>=2.21.0->tensorboard<2.9,>=2.8->tensorflow) (2.10)\n",
            "Requirement already satisfied: urllib3!=1.25.0,!=1.25.1,<1.26,>=1.21.1 in /usr/local/lib/python3.7/dist-packages (from requests<3,>=2.21.0->tensorboard<2.9,>=2.8->tensorflow) (1.24.3)\n",
            "Requirement already satisfied: chardet<4,>=3.0.2 in /usr/local/lib/python3.7/dist-packages (from requests<3,>=2.21.0->tensorboard<2.9,>=2.8->tensorflow) (3.0.4)\n",
            "Requirement already satisfied: oauthlib>=3.0.0 in /usr/local/lib/python3.7/dist-packages (from requests-oauthlib>=0.7.0->google-auth-oauthlib<0.5,>=0.4.1->tensorboard<2.9,>=2.8->tensorflow) (3.2.0)\n"
          ]
        }
      ]
    },
    {
      "cell_type": "code",
      "source": [
        "import keras\n",
        "import numpy as np\n",
        "import matplotlib.pyplot as plt\n",
        "import tensorflow as tf\n",
        "from keras.preprocessing import sequence\n",
        "from keras.models import Sequential\n",
        "from keras.layers import Dense, Embedding\n",
        "from tensorflow.keras.utils import to_categorical\n",
        "from keras.layers import Input, Flatten, Dropout, Activation\n",
        "from keras.layers import Conv1D, MaxPooling1D\n",
        "from keras.models import Model\n",
        "from keras.callbacks import ModelCheckpoint\n",
        "from tensorflow.keras import optimizers\n",
        "\n",
        "model = Sequential()\n",
        "\n",
        "model.add(Conv1D(128, 8,padding='same', #classifier.add(Convolution2D(64, (3, 3), padding = 'same', input_shape = (128, 128, 3), activation = 'relu'))\n",
        "                 input_shape=(40,1)))\n",
        "model.add(Activation('relu'))\n",
        "model.add(Dropout(0.3))\n",
        "model.add(MaxPooling1D(pool_size=(5)))\n",
        "\n",
        "\n",
        "model.add(Conv1D(256,8,padding='same',))\n",
        "model.add(Activation('relu'))\n",
        "model.add(Dropout(0.3))\n",
        "model.add(MaxPooling1D(pool_size=(5)))\n",
        "\n",
        "#model.add(MaxPooling1D(pool_size=(5)))\n",
        "\n",
        "model.add(Flatten())\n",
        "\n",
        "\n",
        "\n",
        "model.add(Dense(6))\n",
        "model.add(Activation('softmax'))\n",
        "\n",
        "\n",
        "#opt = tf.keras.optimizers.RMSprop(lr=0.0002 , decay=0.0)\n",
        "opt = tf.keras.optimizers.Adam(lr=0.0002 , decay=0.0)\n",
        "#opt = tf.keras.optimizers.RMSprop(lr=0.0001, rho=0.9, epsilon=1e-07, decay=0.0)\n",
        "#opt = tf.keras.optimizers.SGD(lr=0.001, momentum=0.0, decay=0.0, nesterov=False)"
      ],
      "metadata": {
        "id": "g74fXWVAC4Cr",
        "colab": {
          "base_uri": "https://localhost:8080/"
        },
        "outputId": "27ff5b08-9e72-40c2-9ec4-c6431476ab8b"
      },
      "execution_count": 11,
      "outputs": [
        {
          "output_type": "stream",
          "name": "stderr",
          "text": [
            "/usr/local/lib/python3.7/dist-packages/keras/optimizer_v2/adam.py:105: UserWarning:\n",
            "\n",
            "The `lr` argument is deprecated, use `learning_rate` instead.\n",
            "\n"
          ]
        }
      ]
    },
    {
      "cell_type": "code",
      "source": [
        "model.summary()"
      ],
      "metadata": {
        "colab": {
          "base_uri": "https://localhost:8080/"
        },
        "id": "H6ukOxAGC_I4",
        "outputId": "2c9b997e-3bdf-4b9f-9491-2843952f314b"
      },
      "execution_count": 12,
      "outputs": [
        {
          "output_type": "stream",
          "name": "stdout",
          "text": [
            "Model: \"sequential\"\n",
            "_________________________________________________________________\n",
            " Layer (type)                Output Shape              Param #   \n",
            "=================================================================\n",
            " conv1d (Conv1D)             (None, 40, 128)           1152      \n",
            "                                                                 \n",
            " activation (Activation)     (None, 40, 128)           0         \n",
            "                                                                 \n",
            " dropout (Dropout)           (None, 40, 128)           0         \n",
            "                                                                 \n",
            " max_pooling1d (MaxPooling1D  (None, 8, 128)           0         \n",
            " )                                                               \n",
            "                                                                 \n",
            " conv1d_1 (Conv1D)           (None, 8, 256)            262400    \n",
            "                                                                 \n",
            " activation_1 (Activation)   (None, 8, 256)            0         \n",
            "                                                                 \n",
            " dropout_1 (Dropout)         (None, 8, 256)            0         \n",
            "                                                                 \n",
            " max_pooling1d_1 (MaxPooling  (None, 1, 256)           0         \n",
            " 1D)                                                             \n",
            "                                                                 \n",
            " flatten (Flatten)           (None, 256)               0         \n",
            "                                                                 \n",
            " dense (Dense)               (None, 6)                 1542      \n",
            "                                                                 \n",
            " activation_2 (Activation)   (None, 6)                 0         \n",
            "                                                                 \n",
            "=================================================================\n",
            "Total params: 265,094\n",
            "Trainable params: 265,094\n",
            "Non-trainable params: 0\n",
            "_________________________________________________________________\n"
          ]
        }
      ]
    },
    {
      "cell_type": "code",
      "source": [
        "model.compile(loss='sparse_categorical_crossentropy',\n",
        "              optimizer=opt,\n",
        "              metrics=['accuracy'])"
      ],
      "metadata": {
        "id": "AbMlLNk4DCBM"
      },
      "execution_count": 13,
      "outputs": []
    },
    {
      "cell_type": "code",
      "source": [
        "# Create an Instance of Early Stopping Callback.\n",
        "early_stopping_callback = EarlyStopping(monitor = 'val_loss', patience = 25, mode = 'min', restore_best_weights = True)\n",
        "\n",
        "cnnhistory=model.fit(x_traincnn, y_train, batch_size=16, epochs=500 , shuffle = True, \n",
        "                     validation_data=(X_valid, y_valid) , callbacks = [early_stopping_callback])"
      ],
      "metadata": {
        "colab": {
          "base_uri": "https://localhost:8080/"
        },
        "id": "RI1v2AuADFhy",
        "outputId": "d1a77298-1e11-4d4f-dd57-774ea275e6c2"
      },
      "execution_count": 14,
      "outputs": [
        {
          "output_type": "stream",
          "name": "stdout",
          "text": [
            "Epoch 1/500\n",
            "104/104 [==============================] - 5s 11ms/step - loss: 11.7040 - accuracy: 0.1904 - val_loss: 4.4335 - val_accuracy: 0.2415\n",
            "Epoch 2/500\n",
            "104/104 [==============================] - 1s 9ms/step - loss: 7.2594 - accuracy: 0.2261 - val_loss: 3.0668 - val_accuracy: 0.2609\n",
            "Epoch 3/500\n",
            "104/104 [==============================] - 1s 10ms/step - loss: 6.3392 - accuracy: 0.2382 - val_loss: 3.6465 - val_accuracy: 0.2271\n",
            "Epoch 4/500\n",
            "104/104 [==============================] - 1s 8ms/step - loss: 5.0705 - accuracy: 0.2352 - val_loss: 2.1868 - val_accuracy: 0.2126\n",
            "Epoch 5/500\n",
            "104/104 [==============================] - 1s 7ms/step - loss: 3.8979 - accuracy: 0.2557 - val_loss: 1.8481 - val_accuracy: 0.2174\n",
            "Epoch 6/500\n",
            "104/104 [==============================] - 1s 10ms/step - loss: 3.1715 - accuracy: 0.2703 - val_loss: 1.8039 - val_accuracy: 0.2947\n",
            "Epoch 7/500\n",
            "104/104 [==============================] - 1s 7ms/step - loss: 2.8804 - accuracy: 0.2606 - val_loss: 1.7052 - val_accuracy: 0.3478\n",
            "Epoch 8/500\n",
            "104/104 [==============================] - 1s 8ms/step - loss: 2.5097 - accuracy: 0.3023 - val_loss: 1.5116 - val_accuracy: 0.4348\n",
            "Epoch 9/500\n",
            "104/104 [==============================] - 1s 7ms/step - loss: 2.2940 - accuracy: 0.2938 - val_loss: 1.5028 - val_accuracy: 0.3865\n",
            "Epoch 10/500\n",
            "104/104 [==============================] - 1s 8ms/step - loss: 2.0248 - accuracy: 0.3126 - val_loss: 1.4955 - val_accuracy: 0.4348\n",
            "Epoch 11/500\n",
            "104/104 [==============================] - 1s 7ms/step - loss: 1.8718 - accuracy: 0.3253 - val_loss: 1.4627 - val_accuracy: 0.4444\n",
            "Epoch 12/500\n",
            "104/104 [==============================] - 1s 8ms/step - loss: 1.7089 - accuracy: 0.3464 - val_loss: 1.4649 - val_accuracy: 0.4879\n",
            "Epoch 13/500\n",
            "104/104 [==============================] - 1s 9ms/step - loss: 1.6335 - accuracy: 0.3670 - val_loss: 1.4232 - val_accuracy: 0.4686\n",
            "Epoch 14/500\n",
            "104/104 [==============================] - 1s 8ms/step - loss: 1.6020 - accuracy: 0.3622 - val_loss: 1.3979 - val_accuracy: 0.4444\n",
            "Epoch 15/500\n",
            "104/104 [==============================] - 1s 8ms/step - loss: 1.5841 - accuracy: 0.3869 - val_loss: 1.3798 - val_accuracy: 0.5121\n",
            "Epoch 16/500\n",
            "104/104 [==============================] - 1s 8ms/step - loss: 1.5213 - accuracy: 0.3785 - val_loss: 1.3523 - val_accuracy: 0.5072\n",
            "Epoch 17/500\n",
            "104/104 [==============================] - 1s 9ms/step - loss: 1.4870 - accuracy: 0.4117 - val_loss: 1.3395 - val_accuracy: 0.5024\n",
            "Epoch 18/500\n",
            "104/104 [==============================] - 1s 8ms/step - loss: 1.4432 - accuracy: 0.4232 - val_loss: 1.3261 - val_accuracy: 0.5411\n",
            "Epoch 19/500\n",
            "104/104 [==============================] - 1s 9ms/step - loss: 1.3928 - accuracy: 0.4559 - val_loss: 1.3042 - val_accuracy: 0.5217\n",
            "Epoch 20/500\n",
            "104/104 [==============================] - 1s 10ms/step - loss: 1.3374 - accuracy: 0.4655 - val_loss: 1.2898 - val_accuracy: 0.5411\n",
            "Epoch 21/500\n",
            "104/104 [==============================] - 1s 9ms/step - loss: 1.3265 - accuracy: 0.4710 - val_loss: 1.2521 - val_accuracy: 0.5411\n",
            "Epoch 22/500\n",
            "104/104 [==============================] - 1s 7ms/step - loss: 1.2854 - accuracy: 0.4728 - val_loss: 1.2356 - val_accuracy: 0.5749\n",
            "Epoch 23/500\n",
            "104/104 [==============================] - 1s 9ms/step - loss: 1.2607 - accuracy: 0.4825 - val_loss: 1.2700 - val_accuracy: 0.5024\n",
            "Epoch 24/500\n",
            "104/104 [==============================] - 1s 8ms/step - loss: 1.2700 - accuracy: 0.4958 - val_loss: 1.2055 - val_accuracy: 0.5942\n",
            "Epoch 25/500\n",
            "104/104 [==============================] - 1s 8ms/step - loss: 1.2289 - accuracy: 0.5036 - val_loss: 1.2342 - val_accuracy: 0.5507\n",
            "Epoch 26/500\n",
            "104/104 [==============================] - 1s 8ms/step - loss: 1.2332 - accuracy: 0.5054 - val_loss: 1.1812 - val_accuracy: 0.5797\n",
            "Epoch 27/500\n",
            "104/104 [==============================] - 1s 7ms/step - loss: 1.2132 - accuracy: 0.5260 - val_loss: 1.1728 - val_accuracy: 0.5845\n",
            "Epoch 28/500\n",
            "104/104 [==============================] - 1s 7ms/step - loss: 1.1689 - accuracy: 0.5363 - val_loss: 1.1120 - val_accuracy: 0.6280\n",
            "Epoch 29/500\n",
            "104/104 [==============================] - 1s 7ms/step - loss: 1.1526 - accuracy: 0.5260 - val_loss: 1.1214 - val_accuracy: 0.6184\n",
            "Epoch 30/500\n",
            "104/104 [==============================] - 1s 6ms/step - loss: 1.1398 - accuracy: 0.5393 - val_loss: 1.1217 - val_accuracy: 0.6232\n",
            "Epoch 31/500\n",
            "104/104 [==============================] - 1s 5ms/step - loss: 1.1505 - accuracy: 0.5381 - val_loss: 1.1642 - val_accuracy: 0.5507\n",
            "Epoch 32/500\n",
            "104/104 [==============================] - 0s 4ms/step - loss: 1.1247 - accuracy: 0.5514 - val_loss: 1.0562 - val_accuracy: 0.6280\n",
            "Epoch 33/500\n",
            "104/104 [==============================] - 0s 5ms/step - loss: 1.1017 - accuracy: 0.5665 - val_loss: 1.0812 - val_accuracy: 0.6087\n",
            "Epoch 34/500\n",
            "104/104 [==============================] - 0s 5ms/step - loss: 1.0966 - accuracy: 0.5707 - val_loss: 1.0465 - val_accuracy: 0.6377\n",
            "Epoch 35/500\n",
            "104/104 [==============================] - 0s 4ms/step - loss: 1.0804 - accuracy: 0.5671 - val_loss: 1.0635 - val_accuracy: 0.6377\n",
            "Epoch 36/500\n",
            "104/104 [==============================] - 0s 4ms/step - loss: 1.0618 - accuracy: 0.5762 - val_loss: 1.0600 - val_accuracy: 0.6135\n",
            "Epoch 37/500\n",
            "104/104 [==============================] - 1s 5ms/step - loss: 1.0737 - accuracy: 0.5683 - val_loss: 1.0335 - val_accuracy: 0.6522\n",
            "Epoch 38/500\n",
            "104/104 [==============================] - 0s 4ms/step - loss: 1.0376 - accuracy: 0.5828 - val_loss: 1.0331 - val_accuracy: 0.6280\n",
            "Epoch 39/500\n",
            "104/104 [==============================] - 0s 4ms/step - loss: 1.0366 - accuracy: 0.5792 - val_loss: 0.9936 - val_accuracy: 0.6570\n",
            "Epoch 40/500\n",
            "104/104 [==============================] - 1s 6ms/step - loss: 1.0322 - accuracy: 0.5871 - val_loss: 1.0203 - val_accuracy: 0.6377\n",
            "Epoch 41/500\n",
            "104/104 [==============================] - 0s 5ms/step - loss: 1.0269 - accuracy: 0.6022 - val_loss: 0.9945 - val_accuracy: 0.6570\n",
            "Epoch 42/500\n",
            "104/104 [==============================] - 0s 4ms/step - loss: 1.0057 - accuracy: 0.5961 - val_loss: 0.9871 - val_accuracy: 0.6667\n",
            "Epoch 43/500\n",
            "104/104 [==============================] - 1s 5ms/step - loss: 1.0032 - accuracy: 0.6064 - val_loss: 0.9990 - val_accuracy: 0.6473\n",
            "Epoch 44/500\n",
            "104/104 [==============================] - 0s 4ms/step - loss: 0.9701 - accuracy: 0.6252 - val_loss: 0.9329 - val_accuracy: 0.6812\n",
            "Epoch 45/500\n",
            "104/104 [==============================] - 0s 5ms/step - loss: 0.9820 - accuracy: 0.6233 - val_loss: 1.0077 - val_accuracy: 0.6232\n",
            "Epoch 46/500\n",
            "104/104 [==============================] - 1s 5ms/step - loss: 0.9777 - accuracy: 0.6034 - val_loss: 0.9775 - val_accuracy: 0.6232\n",
            "Epoch 47/500\n",
            "104/104 [==============================] - 0s 4ms/step - loss: 0.9772 - accuracy: 0.6233 - val_loss: 0.9622 - val_accuracy: 0.6763\n",
            "Epoch 48/500\n",
            "104/104 [==============================] - 1s 5ms/step - loss: 0.9439 - accuracy: 0.6239 - val_loss: 0.9371 - val_accuracy: 0.7150\n",
            "Epoch 49/500\n",
            "104/104 [==============================] - 1s 5ms/step - loss: 0.9381 - accuracy: 0.6300 - val_loss: 0.9216 - val_accuracy: 0.6860\n",
            "Epoch 50/500\n",
            "104/104 [==============================] - 0s 4ms/step - loss: 0.9192 - accuracy: 0.6415 - val_loss: 0.9347 - val_accuracy: 0.6618\n",
            "Epoch 51/500\n",
            "104/104 [==============================] - 1s 5ms/step - loss: 0.9200 - accuracy: 0.6366 - val_loss: 0.9432 - val_accuracy: 0.6812\n",
            "Epoch 52/500\n",
            "104/104 [==============================] - 0s 4ms/step - loss: 0.9129 - accuracy: 0.6397 - val_loss: 0.9236 - val_accuracy: 0.6908\n",
            "Epoch 53/500\n",
            "104/104 [==============================] - 0s 5ms/step - loss: 0.8910 - accuracy: 0.6566 - val_loss: 0.9184 - val_accuracy: 0.6860\n",
            "Epoch 54/500\n",
            "104/104 [==============================] - 0s 5ms/step - loss: 0.8871 - accuracy: 0.6511 - val_loss: 0.8900 - val_accuracy: 0.6860\n",
            "Epoch 55/500\n",
            "104/104 [==============================] - 0s 5ms/step - loss: 0.8795 - accuracy: 0.6638 - val_loss: 0.9108 - val_accuracy: 0.6618\n",
            "Epoch 56/500\n",
            "104/104 [==============================] - 0s 5ms/step - loss: 0.8779 - accuracy: 0.6536 - val_loss: 0.8655 - val_accuracy: 0.7101\n",
            "Epoch 57/500\n",
            "104/104 [==============================] - 1s 5ms/step - loss: 0.8723 - accuracy: 0.6584 - val_loss: 0.8863 - val_accuracy: 0.6957\n",
            "Epoch 58/500\n",
            "104/104 [==============================] - 0s 4ms/step - loss: 0.8455 - accuracy: 0.6681 - val_loss: 0.8638 - val_accuracy: 0.6715\n",
            "Epoch 59/500\n",
            "104/104 [==============================] - 0s 5ms/step - loss: 0.8487 - accuracy: 0.6632 - val_loss: 0.8663 - val_accuracy: 0.6812\n",
            "Epoch 60/500\n",
            "104/104 [==============================] - 1s 5ms/step - loss: 0.8372 - accuracy: 0.6820 - val_loss: 0.8634 - val_accuracy: 0.7053\n",
            "Epoch 61/500\n",
            "104/104 [==============================] - 0s 5ms/step - loss: 0.8399 - accuracy: 0.6784 - val_loss: 0.8465 - val_accuracy: 0.7150\n",
            "Epoch 62/500\n",
            "104/104 [==============================] - 0s 4ms/step - loss: 0.8276 - accuracy: 0.6705 - val_loss: 0.8404 - val_accuracy: 0.7246\n",
            "Epoch 63/500\n",
            "104/104 [==============================] - 1s 5ms/step - loss: 0.8305 - accuracy: 0.6723 - val_loss: 0.8375 - val_accuracy: 0.7391\n",
            "Epoch 64/500\n",
            "104/104 [==============================] - 1s 5ms/step - loss: 0.8046 - accuracy: 0.6826 - val_loss: 0.8255 - val_accuracy: 0.7053\n",
            "Epoch 65/500\n",
            "104/104 [==============================] - 0s 4ms/step - loss: 0.8228 - accuracy: 0.6820 - val_loss: 0.8393 - val_accuracy: 0.7246\n",
            "Epoch 66/500\n",
            "104/104 [==============================] - 1s 5ms/step - loss: 0.8260 - accuracy: 0.6778 - val_loss: 0.8935 - val_accuracy: 0.6908\n",
            "Epoch 67/500\n",
            "104/104 [==============================] - 0s 5ms/step - loss: 0.7938 - accuracy: 0.6850 - val_loss: 0.8447 - val_accuracy: 0.6957\n",
            "Epoch 68/500\n",
            "104/104 [==============================] - 0s 4ms/step - loss: 0.7780 - accuracy: 0.6911 - val_loss: 0.8023 - val_accuracy: 0.7246\n",
            "Epoch 69/500\n",
            "104/104 [==============================] - 0s 5ms/step - loss: 0.7774 - accuracy: 0.6983 - val_loss: 0.8161 - val_accuracy: 0.7005\n",
            "Epoch 70/500\n",
            "104/104 [==============================] - 0s 5ms/step - loss: 0.7801 - accuracy: 0.6977 - val_loss: 0.7983 - val_accuracy: 0.7440\n",
            "Epoch 71/500\n",
            "104/104 [==============================] - 0s 5ms/step - loss: 0.7674 - accuracy: 0.7013 - val_loss: 0.8030 - val_accuracy: 0.7101\n",
            "Epoch 72/500\n",
            "104/104 [==============================] - 1s 5ms/step - loss: 0.7664 - accuracy: 0.6989 - val_loss: 0.7974 - val_accuracy: 0.7101\n",
            "Epoch 73/500\n",
            "104/104 [==============================] - 0s 4ms/step - loss: 0.7906 - accuracy: 0.6929 - val_loss: 0.8252 - val_accuracy: 0.7101\n",
            "Epoch 74/500\n",
            "104/104 [==============================] - 0s 4ms/step - loss: 0.7608 - accuracy: 0.7019 - val_loss: 0.8074 - val_accuracy: 0.7246\n",
            "Epoch 75/500\n",
            "104/104 [==============================] - 1s 5ms/step - loss: 0.7628 - accuracy: 0.7001 - val_loss: 0.7878 - val_accuracy: 0.7198\n",
            "Epoch 76/500\n",
            "104/104 [==============================] - 0s 4ms/step - loss: 0.7379 - accuracy: 0.7158 - val_loss: 0.7905 - val_accuracy: 0.7101\n",
            "Epoch 77/500\n",
            "104/104 [==============================] - 0s 4ms/step - loss: 0.7590 - accuracy: 0.7104 - val_loss: 0.8269 - val_accuracy: 0.6908\n",
            "Epoch 78/500\n",
            "104/104 [==============================] - 1s 5ms/step - loss: 0.7176 - accuracy: 0.7279 - val_loss: 0.7907 - val_accuracy: 0.7295\n",
            "Epoch 79/500\n",
            "104/104 [==============================] - 0s 4ms/step - loss: 0.7002 - accuracy: 0.7376 - val_loss: 0.7748 - val_accuracy: 0.7391\n",
            "Epoch 80/500\n",
            "104/104 [==============================] - 0s 5ms/step - loss: 0.7151 - accuracy: 0.7164 - val_loss: 0.7714 - val_accuracy: 0.7391\n",
            "Epoch 81/500\n",
            "104/104 [==============================] - 1s 5ms/step - loss: 0.7118 - accuracy: 0.7273 - val_loss: 0.7589 - val_accuracy: 0.7440\n",
            "Epoch 82/500\n",
            "104/104 [==============================] - 0s 4ms/step - loss: 0.6903 - accuracy: 0.7207 - val_loss: 0.7798 - val_accuracy: 0.7391\n",
            "Epoch 83/500\n",
            "104/104 [==============================] - 0s 5ms/step - loss: 0.6839 - accuracy: 0.7340 - val_loss: 0.7985 - val_accuracy: 0.6908\n",
            "Epoch 84/500\n",
            "104/104 [==============================] - 1s 5ms/step - loss: 0.7085 - accuracy: 0.7255 - val_loss: 0.7705 - val_accuracy: 0.7246\n",
            "Epoch 85/500\n",
            "104/104 [==============================] - 0s 5ms/step - loss: 0.6909 - accuracy: 0.7364 - val_loss: 0.7429 - val_accuracy: 0.7488\n",
            "Epoch 86/500\n",
            "104/104 [==============================] - 0s 5ms/step - loss: 0.6958 - accuracy: 0.7364 - val_loss: 0.7426 - val_accuracy: 0.7729\n",
            "Epoch 87/500\n",
            "104/104 [==============================] - 1s 5ms/step - loss: 0.6642 - accuracy: 0.7412 - val_loss: 0.7268 - val_accuracy: 0.7488\n",
            "Epoch 88/500\n",
            "104/104 [==============================] - 0s 5ms/step - loss: 0.6817 - accuracy: 0.7455 - val_loss: 0.7235 - val_accuracy: 0.7585\n",
            "Epoch 89/500\n",
            "104/104 [==============================] - 0s 5ms/step - loss: 0.6837 - accuracy: 0.7412 - val_loss: 0.7238 - val_accuracy: 0.7585\n",
            "Epoch 90/500\n",
            "104/104 [==============================] - 1s 5ms/step - loss: 0.6491 - accuracy: 0.7594 - val_loss: 0.7663 - val_accuracy: 0.7440\n",
            "Epoch 91/500\n",
            "104/104 [==============================] - 0s 5ms/step - loss: 0.6632 - accuracy: 0.7376 - val_loss: 0.7515 - val_accuracy: 0.7440\n",
            "Epoch 92/500\n",
            "104/104 [==============================] - 1s 5ms/step - loss: 0.6566 - accuracy: 0.7370 - val_loss: 0.7222 - val_accuracy: 0.7778\n",
            "Epoch 93/500\n",
            "104/104 [==============================] - 0s 5ms/step - loss: 0.6465 - accuracy: 0.7539 - val_loss: 0.7218 - val_accuracy: 0.7778\n",
            "Epoch 94/500\n",
            "104/104 [==============================] - 0s 5ms/step - loss: 0.6443 - accuracy: 0.7521 - val_loss: 0.7138 - val_accuracy: 0.7343\n",
            "Epoch 95/500\n",
            "104/104 [==============================] - 1s 5ms/step - loss: 0.6106 - accuracy: 0.7606 - val_loss: 0.6955 - val_accuracy: 0.7536\n",
            "Epoch 96/500\n",
            "104/104 [==============================] - 1s 5ms/step - loss: 0.6226 - accuracy: 0.7733 - val_loss: 0.6910 - val_accuracy: 0.7633\n",
            "Epoch 97/500\n",
            "104/104 [==============================] - 0s 4ms/step - loss: 0.6513 - accuracy: 0.7394 - val_loss: 0.7220 - val_accuracy: 0.7488\n",
            "Epoch 98/500\n",
            "104/104 [==============================] - 0s 5ms/step - loss: 0.6469 - accuracy: 0.7485 - val_loss: 0.6946 - val_accuracy: 0.7681\n",
            "Epoch 99/500\n",
            "104/104 [==============================] - 0s 5ms/step - loss: 0.6034 - accuracy: 0.7690 - val_loss: 0.7161 - val_accuracy: 0.7585\n",
            "Epoch 100/500\n",
            "104/104 [==============================] - 0s 5ms/step - loss: 0.6117 - accuracy: 0.7618 - val_loss: 0.7162 - val_accuracy: 0.7585\n",
            "Epoch 101/500\n",
            "104/104 [==============================] - 1s 5ms/step - loss: 0.6021 - accuracy: 0.7600 - val_loss: 0.7094 - val_accuracy: 0.7729\n",
            "Epoch 102/500\n",
            "104/104 [==============================] - 0s 4ms/step - loss: 0.5879 - accuracy: 0.7733 - val_loss: 0.7052 - val_accuracy: 0.7729\n",
            "Epoch 103/500\n",
            "104/104 [==============================] - 0s 4ms/step - loss: 0.5896 - accuracy: 0.7793 - val_loss: 0.7590 - val_accuracy: 0.7391\n",
            "Epoch 104/500\n",
            "104/104 [==============================] - 1s 5ms/step - loss: 0.5981 - accuracy: 0.7733 - val_loss: 0.7222 - val_accuracy: 0.7633\n",
            "Epoch 105/500\n",
            "104/104 [==============================] - 0s 5ms/step - loss: 0.5762 - accuracy: 0.7787 - val_loss: 0.6918 - val_accuracy: 0.7681\n",
            "Epoch 106/500\n",
            "104/104 [==============================] - 0s 4ms/step - loss: 0.5769 - accuracy: 0.7811 - val_loss: 0.6920 - val_accuracy: 0.7536\n",
            "Epoch 107/500\n",
            "104/104 [==============================] - 1s 5ms/step - loss: 0.5592 - accuracy: 0.7872 - val_loss: 0.6718 - val_accuracy: 0.7923\n",
            "Epoch 108/500\n",
            "104/104 [==============================] - 0s 5ms/step - loss: 0.5668 - accuracy: 0.7848 - val_loss: 0.6768 - val_accuracy: 0.7633\n",
            "Epoch 109/500\n",
            "104/104 [==============================] - 0s 4ms/step - loss: 0.5758 - accuracy: 0.7793 - val_loss: 0.6727 - val_accuracy: 0.7778\n",
            "Epoch 110/500\n",
            "104/104 [==============================] - 1s 5ms/step - loss: 0.5757 - accuracy: 0.7854 - val_loss: 0.6952 - val_accuracy: 0.7826\n",
            "Epoch 111/500\n",
            "104/104 [==============================] - 0s 5ms/step - loss: 0.5655 - accuracy: 0.7836 - val_loss: 0.7164 - val_accuracy: 0.7488\n",
            "Epoch 112/500\n",
            "104/104 [==============================] - 0s 4ms/step - loss: 0.5502 - accuracy: 0.7866 - val_loss: 0.7102 - val_accuracy: 0.7440\n",
            "Epoch 113/500\n",
            "104/104 [==============================] - 1s 5ms/step - loss: 0.5373 - accuracy: 0.8023 - val_loss: 0.6979 - val_accuracy: 0.7536\n",
            "Epoch 114/500\n",
            "104/104 [==============================] - 1s 5ms/step - loss: 0.5405 - accuracy: 0.7993 - val_loss: 0.6698 - val_accuracy: 0.7923\n",
            "Epoch 115/500\n",
            "104/104 [==============================] - 0s 4ms/step - loss: 0.5593 - accuracy: 0.7787 - val_loss: 0.6750 - val_accuracy: 0.7633\n",
            "Epoch 116/500\n",
            "104/104 [==============================] - 1s 5ms/step - loss: 0.5397 - accuracy: 0.7842 - val_loss: 0.6438 - val_accuracy: 0.7923\n",
            "Epoch 117/500\n",
            "104/104 [==============================] - 0s 4ms/step - loss: 0.5245 - accuracy: 0.8011 - val_loss: 0.7204 - val_accuracy: 0.7536\n",
            "Epoch 118/500\n",
            "104/104 [==============================] - 0s 4ms/step - loss: 0.5287 - accuracy: 0.8102 - val_loss: 0.6525 - val_accuracy: 0.7874\n",
            "Epoch 119/500\n",
            "104/104 [==============================] - 1s 5ms/step - loss: 0.5127 - accuracy: 0.8132 - val_loss: 0.6817 - val_accuracy: 0.7488\n",
            "Epoch 120/500\n",
            "104/104 [==============================] - 0s 5ms/step - loss: 0.5298 - accuracy: 0.7890 - val_loss: 0.6844 - val_accuracy: 0.7585\n",
            "Epoch 121/500\n",
            "104/104 [==============================] - 0s 4ms/step - loss: 0.5108 - accuracy: 0.7956 - val_loss: 0.6703 - val_accuracy: 0.7778\n",
            "Epoch 122/500\n",
            "104/104 [==============================] - 1s 5ms/step - loss: 0.5097 - accuracy: 0.8077 - val_loss: 0.6481 - val_accuracy: 0.7633\n",
            "Epoch 123/500\n",
            "104/104 [==============================] - 0s 4ms/step - loss: 0.5167 - accuracy: 0.8053 - val_loss: 0.6698 - val_accuracy: 0.7440\n",
            "Epoch 124/500\n",
            "104/104 [==============================] - 1s 5ms/step - loss: 0.5105 - accuracy: 0.8041 - val_loss: 0.6822 - val_accuracy: 0.7729\n",
            "Epoch 125/500\n",
            "104/104 [==============================] - 1s 5ms/step - loss: 0.5081 - accuracy: 0.8005 - val_loss: 0.6623 - val_accuracy: 0.7681\n",
            "Epoch 126/500\n",
            "104/104 [==============================] - 0s 4ms/step - loss: 0.5107 - accuracy: 0.7950 - val_loss: 0.7231 - val_accuracy: 0.7585\n",
            "Epoch 127/500\n",
            "104/104 [==============================] - 0s 5ms/step - loss: 0.5234 - accuracy: 0.8005 - val_loss: 0.6793 - val_accuracy: 0.7633\n",
            "Epoch 128/500\n",
            "104/104 [==============================] - 1s 5ms/step - loss: 0.4831 - accuracy: 0.8259 - val_loss: 0.6472 - val_accuracy: 0.7971\n",
            "Epoch 129/500\n",
            "104/104 [==============================] - 0s 4ms/step - loss: 0.4946 - accuracy: 0.8120 - val_loss: 0.6579 - val_accuracy: 0.7778\n",
            "Epoch 130/500\n",
            "104/104 [==============================] - 0s 5ms/step - loss: 0.4752 - accuracy: 0.8247 - val_loss: 0.6406 - val_accuracy: 0.7826\n",
            "Epoch 131/500\n",
            "104/104 [==============================] - 1s 5ms/step - loss: 0.4769 - accuracy: 0.8216 - val_loss: 0.6984 - val_accuracy: 0.7923\n",
            "Epoch 132/500\n",
            "104/104 [==============================] - 0s 4ms/step - loss: 0.4863 - accuracy: 0.8083 - val_loss: 0.6704 - val_accuracy: 0.7729\n",
            "Epoch 133/500\n",
            "104/104 [==============================] - 0s 5ms/step - loss: 0.4673 - accuracy: 0.8307 - val_loss: 0.6324 - val_accuracy: 0.7585\n",
            "Epoch 134/500\n",
            "104/104 [==============================] - 0s 5ms/step - loss: 0.4708 - accuracy: 0.8301 - val_loss: 0.6237 - val_accuracy: 0.7923\n",
            "Epoch 135/500\n",
            "104/104 [==============================] - 0s 4ms/step - loss: 0.4720 - accuracy: 0.8253 - val_loss: 0.6381 - val_accuracy: 0.7971\n",
            "Epoch 136/500\n",
            "104/104 [==============================] - 1s 7ms/step - loss: 0.4736 - accuracy: 0.8114 - val_loss: 0.6388 - val_accuracy: 0.7681\n",
            "Epoch 137/500\n",
            "104/104 [==============================] - 1s 5ms/step - loss: 0.4570 - accuracy: 0.8331 - val_loss: 0.6574 - val_accuracy: 0.7826\n",
            "Epoch 138/500\n",
            "104/104 [==============================] - 1s 5ms/step - loss: 0.4674 - accuracy: 0.8265 - val_loss: 0.6343 - val_accuracy: 0.7778\n",
            "Epoch 139/500\n",
            "104/104 [==============================] - 0s 5ms/step - loss: 0.4684 - accuracy: 0.8259 - val_loss: 0.6711 - val_accuracy: 0.7826\n",
            "Epoch 140/500\n",
            "104/104 [==============================] - 0s 5ms/step - loss: 0.4436 - accuracy: 0.8362 - val_loss: 0.6381 - val_accuracy: 0.7778\n",
            "Epoch 141/500\n",
            "104/104 [==============================] - 0s 4ms/step - loss: 0.4533 - accuracy: 0.8337 - val_loss: 0.6545 - val_accuracy: 0.7874\n",
            "Epoch 142/500\n",
            "104/104 [==============================] - 1s 5ms/step - loss: 0.4593 - accuracy: 0.8229 - val_loss: 0.6233 - val_accuracy: 0.7923\n",
            "Epoch 143/500\n",
            "104/104 [==============================] - 1s 5ms/step - loss: 0.4425 - accuracy: 0.8452 - val_loss: 0.6516 - val_accuracy: 0.7778\n",
            "Epoch 144/500\n",
            "104/104 [==============================] - 1s 9ms/step - loss: 0.4694 - accuracy: 0.8192 - val_loss: 0.6122 - val_accuracy: 0.8019\n",
            "Epoch 145/500\n",
            "104/104 [==============================] - 1s 6ms/step - loss: 0.4331 - accuracy: 0.8349 - val_loss: 0.5959 - val_accuracy: 0.7971\n",
            "Epoch 146/500\n",
            "104/104 [==============================] - 0s 4ms/step - loss: 0.4458 - accuracy: 0.8392 - val_loss: 0.6072 - val_accuracy: 0.7874\n",
            "Epoch 147/500\n",
            "104/104 [==============================] - 1s 5ms/step - loss: 0.3978 - accuracy: 0.8591 - val_loss: 0.6406 - val_accuracy: 0.7778\n",
            "Epoch 148/500\n",
            "104/104 [==============================] - 1s 5ms/step - loss: 0.4145 - accuracy: 0.8489 - val_loss: 0.6231 - val_accuracy: 0.7778\n",
            "Epoch 149/500\n",
            "104/104 [==============================] - 0s 5ms/step - loss: 0.4225 - accuracy: 0.8380 - val_loss: 0.6264 - val_accuracy: 0.7778\n",
            "Epoch 150/500\n",
            "104/104 [==============================] - 1s 5ms/step - loss: 0.4221 - accuracy: 0.8422 - val_loss: 0.6647 - val_accuracy: 0.7536\n",
            "Epoch 151/500\n",
            "104/104 [==============================] - 1s 5ms/step - loss: 0.4327 - accuracy: 0.8374 - val_loss: 0.6266 - val_accuracy: 0.8019\n",
            "Epoch 152/500\n",
            "104/104 [==============================] - 1s 7ms/step - loss: 0.4007 - accuracy: 0.8501 - val_loss: 0.6237 - val_accuracy: 0.7923\n",
            "Epoch 153/500\n",
            "104/104 [==============================] - 1s 8ms/step - loss: 0.4105 - accuracy: 0.8470 - val_loss: 0.6702 - val_accuracy: 0.7729\n",
            "Epoch 154/500\n",
            "104/104 [==============================] - 1s 8ms/step - loss: 0.4080 - accuracy: 0.8422 - val_loss: 0.6054 - val_accuracy: 0.7826\n",
            "Epoch 155/500\n",
            "104/104 [==============================] - 1s 9ms/step - loss: 0.4182 - accuracy: 0.8470 - val_loss: 0.6434 - val_accuracy: 0.7826\n",
            "Epoch 156/500\n",
            "104/104 [==============================] - 1s 9ms/step - loss: 0.3980 - accuracy: 0.8489 - val_loss: 0.6374 - val_accuracy: 0.7971\n",
            "Epoch 157/500\n",
            "104/104 [==============================] - 1s 9ms/step - loss: 0.3719 - accuracy: 0.8622 - val_loss: 0.6479 - val_accuracy: 0.7923\n",
            "Epoch 158/500\n",
            "104/104 [==============================] - 1s 12ms/step - loss: 0.4219 - accuracy: 0.8374 - val_loss: 0.6307 - val_accuracy: 0.7971\n",
            "Epoch 159/500\n",
            "104/104 [==============================] - 1s 11ms/step - loss: 0.4141 - accuracy: 0.8464 - val_loss: 0.6518 - val_accuracy: 0.7633\n",
            "Epoch 160/500\n",
            "104/104 [==============================] - 1s 9ms/step - loss: 0.4028 - accuracy: 0.8422 - val_loss: 0.6199 - val_accuracy: 0.7826\n",
            "Epoch 161/500\n",
            "104/104 [==============================] - 1s 8ms/step - loss: 0.4166 - accuracy: 0.8410 - val_loss: 0.6461 - val_accuracy: 0.7778\n",
            "Epoch 162/500\n",
            "104/104 [==============================] - 1s 8ms/step - loss: 0.3895 - accuracy: 0.8603 - val_loss: 0.6374 - val_accuracy: 0.7778\n",
            "Epoch 163/500\n",
            "104/104 [==============================] - 1s 7ms/step - loss: 0.3664 - accuracy: 0.8628 - val_loss: 0.6181 - val_accuracy: 0.7826\n",
            "Epoch 164/500\n",
            "104/104 [==============================] - 1s 7ms/step - loss: 0.3762 - accuracy: 0.8609 - val_loss: 0.6244 - val_accuracy: 0.7778\n",
            "Epoch 165/500\n",
            "104/104 [==============================] - 1s 7ms/step - loss: 0.3917 - accuracy: 0.8585 - val_loss: 0.6477 - val_accuracy: 0.7729\n",
            "Epoch 166/500\n",
            "104/104 [==============================] - 1s 9ms/step - loss: 0.3826 - accuracy: 0.8495 - val_loss: 0.6206 - val_accuracy: 0.7826\n",
            "Epoch 167/500\n",
            "104/104 [==============================] - 1s 10ms/step - loss: 0.4124 - accuracy: 0.8470 - val_loss: 0.6136 - val_accuracy: 0.7874\n",
            "Epoch 168/500\n",
            "104/104 [==============================] - 1s 9ms/step - loss: 0.3983 - accuracy: 0.8452 - val_loss: 0.6491 - val_accuracy: 0.7826\n",
            "Epoch 169/500\n",
            "104/104 [==============================] - 1s 8ms/step - loss: 0.3620 - accuracy: 0.8640 - val_loss: 0.6255 - val_accuracy: 0.7778\n",
            "Epoch 170/500\n",
            "104/104 [==============================] - 1s 10ms/step - loss: 0.3594 - accuracy: 0.8597 - val_loss: 0.6230 - val_accuracy: 0.7826\n"
          ]
        }
      ]
    },
    {
      "cell_type": "code",
      "source": [
        "plt.plot(cnnhistory.history['loss'])\n",
        "plt.plot(cnnhistory.history['val_loss'])\n",
        "plt.title('model loss')\n",
        "plt.ylabel('loss')\n",
        "plt.xlabel('epoch')\n",
        "plt.legend(['train','test'], loc='upper left')\n",
        "plt.show()"
      ],
      "metadata": {
        "colab": {
          "base_uri": "https://localhost:8080/",
          "height": 295
        },
        "id": "oQYnuaCrDH_A",
        "outputId": "8b25a4c9-87b8-425d-fe88-a5812589154c"
      },
      "execution_count": 15,
      "outputs": [
        {
          "output_type": "display_data",
          "data": {
            "text/plain": [
              "<Figure size 432x288 with 1 Axes>"
            ],
            "image/png": "[encoded data removed]"
          },
          "metadata": {
            "needs_background": "light"
          }
        }
      ]
    },
    {
      "cell_type": "code",
      "source": [
        "plt.plot(cnnhistory.history['accuracy'])\n",
        "plt.plot(cnnhistory.history['val_accuracy'])\n",
        "plt.title('model accuracy')\n",
        "plt.ylabel('accuracy')\n",
        "plt.xlabel('epoch')\n",
        "plt.legend(['train','test'], loc='upper left')\n",
        "plt.show()"
      ],
      "metadata": {
        "colab": {
          "base_uri": "https://localhost:8080/",
          "height": 295
        },
        "id": "IFkTuO8nDNdq",
        "outputId": "64b54dd0-f924-4f90-84bb-260ad2c4edb0"
      },
      "execution_count": 16,
      "outputs": [
        {
          "output_type": "display_data",
          "data": {
            "text/plain": [
              "<Figure size 432x288 with 1 Axes>"
            ],
            "image/png": "[encoded data removed]"
          },
          "metadata": {
            "needs_background": "light"
          }
        }
      ]
    },
    {
      "cell_type": "code",
      "source": [
        "predictions = model.predict(x_testcnn)"
      ],
      "metadata": {
        "id": "A2xtrN5wDQgY"
      },
      "execution_count": 17,
      "outputs": []
    },
    {
      "cell_type": "code",
      "source": [
        "predictions"
      ],
      "metadata": {
        "colab": {
          "base_uri": "https://localhost:8080/"
        },
        "id": "_f_ohjXKDUpY",
        "outputId": "ce60f623-5214-4b1d-8ced-5cb0367f613b"
      },
      "execution_count": 18,
      "outputs": [
        {
          "output_type": "execute_result",
          "data": {
            "text/plain": [
              "array([[1.3463676e-01, 8.5817032e-02, 3.8923061e-01, 1.5286027e-01,\n",
              "        1.3526571e-01, 1.0218958e-01],\n",
              "       [3.7391268e-04, 1.2365571e-05, 4.0957480e-07, 9.5975447e-01,\n",
              "        2.8418133e-05, 3.9830375e-02],\n",
              "       [1.9397990e-01, 5.1555194e-02, 4.5608617e-02, 4.1329479e-01,\n",
              "        2.7675176e-02, 2.6788631e-01],\n",
              "       ...,\n",
              "       [1.2288138e-04, 6.5037193e-07, 3.7942574e-04, 2.1724618e-04,\n",
              "        9.9677449e-01, 2.5052717e-03],\n",
              "       [1.8991699e-04, 5.9812605e-01, 3.6363375e-01, 4.7658123e-03,\n",
              "        2.0194924e-02, 1.3089476e-02],\n",
              "       [6.2968006e-04, 2.2275765e-04, 6.1179984e-02, 9.4901747e-04,\n",
              "        9.1893780e-01, 1.8080756e-02]], dtype=float32)"
            ]
          },
          "metadata": {},
          "execution_count": 18
        }
      ]
    },
    {
      "cell_type": "code",
      "source": [
        "y_test"
      ],
      "metadata": {
        "colab": {
          "base_uri": "https://localhost:8080/"
        },
        "id": "cmA2bFgsDW3D",
        "outputId": "e14a6fc8-9264-42fb-b331-6f9d78531ab8"
      },
      "execution_count": 19,
      "outputs": [
        {
          "output_type": "execute_result",
          "data": {
            "text/plain": [
              "array([3, 3, 3, 0, 4, 4, 1, 2, 5, 0, 5, 3, 2, 2, 1, 4, 4, 5, 2, 4, 1, 2,\n",
              "       3, 5, 4, 2, 1, 2, 2, 2, 2, 5, 2, 5, 3, 1, 2, 0, 4, 5, 2, 3, 2, 2,\n",
              "       5, 2, 0, 1, 3, 4, 4, 5, 1, 1, 4, 4, 5, 1, 1, 1, 0, 1, 5, 0, 4, 1,\n",
              "       1, 0, 1, 4, 1, 0, 4, 1, 3, 1, 2, 2, 1, 2, 3, 0, 5, 3, 5, 5, 2, 4,\n",
              "       5, 1, 5, 1, 5, 3, 4, 1, 4, 1, 5, 4, 5, 1, 2, 1, 1, 5, 1, 3, 2, 5,\n",
              "       2, 1, 3, 5, 4, 4, 0, 0, 3, 1, 2, 2, 3, 5, 1, 5, 3, 4, 2, 2, 0, 2,\n",
              "       2, 5, 5, 0, 3, 3, 2, 2, 0, 3, 4, 0, 4, 2, 4, 5, 4, 1, 5, 3, 2, 2,\n",
              "       5, 4, 3, 3, 4, 3, 3, 4, 1, 5, 2, 3, 2, 2, 0, 2, 1, 3, 1, 2, 2, 5,\n",
              "       5, 1, 4, 2, 2, 1, 1, 3, 3, 5, 5, 2, 5, 1, 5, 0, 3, 3, 0, 5, 1, 4,\n",
              "       1, 4, 2, 5, 5, 1, 4, 2, 4])"
            ]
          },
          "metadata": {},
          "execution_count": 19
        }
      ]
    },
    {
      "cell_type": "code",
      "source": [
        "new_Ytest = y_test.astype(int)"
      ],
      "metadata": {
        "id": "0PHDKWJWDY3g"
      },
      "execution_count": 20,
      "outputs": []
    },
    {
      "cell_type": "code",
      "source": [
        "new_Ytest"
      ],
      "metadata": {
        "colab": {
          "base_uri": "https://localhost:8080/"
        },
        "id": "k68v2i-pDbZE",
        "outputId": "1d02b48b-2e29-4f3a-ebad-35e209e1f353"
      },
      "execution_count": 21,
      "outputs": [
        {
          "output_type": "execute_result",
          "data": {
            "text/plain": [
              "array([3, 3, 3, 0, 4, 4, 1, 2, 5, 0, 5, 3, 2, 2, 1, 4, 4, 5, 2, 4, 1, 2,\n",
              "       3, 5, 4, 2, 1, 2, 2, 2, 2, 5, 2, 5, 3, 1, 2, 0, 4, 5, 2, 3, 2, 2,\n",
              "       5, 2, 0, 1, 3, 4, 4, 5, 1, 1, 4, 4, 5, 1, 1, 1, 0, 1, 5, 0, 4, 1,\n",
              "       1, 0, 1, 4, 1, 0, 4, 1, 3, 1, 2, 2, 1, 2, 3, 0, 5, 3, 5, 5, 2, 4,\n",
              "       5, 1, 5, 1, 5, 3, 4, 1, 4, 1, 5, 4, 5, 1, 2, 1, 1, 5, 1, 3, 2, 5,\n",
              "       2, 1, 3, 5, 4, 4, 0, 0, 3, 1, 2, 2, 3, 5, 1, 5, 3, 4, 2, 2, 0, 2,\n",
              "       2, 5, 5, 0, 3, 3, 2, 2, 0, 3, 4, 0, 4, 2, 4, 5, 4, 1, 5, 3, 2, 2,\n",
              "       5, 4, 3, 3, 4, 3, 3, 4, 1, 5, 2, 3, 2, 2, 0, 2, 1, 3, 1, 2, 2, 5,\n",
              "       5, 1, 4, 2, 2, 1, 1, 3, 3, 5, 5, 2, 5, 1, 5, 0, 3, 3, 0, 5, 1, 4,\n",
              "       1, 4, 2, 5, 5, 1, 4, 2, 4])"
            ]
          },
          "metadata": {},
          "execution_count": 21
        }
      ]
    },
    {
      "cell_type": "code",
      "source": [
        "preds1=predictions.argmax(axis=1)\n",
        "preds1"
      ],
      "metadata": {
        "colab": {
          "base_uri": "https://localhost:8080/"
        },
        "id": "4_cAI39VFhtp",
        "outputId": "816f8abd-b712-4ca9-cc07-977b774c6ce7"
      },
      "execution_count": 22,
      "outputs": [
        {
          "output_type": "execute_result",
          "data": {
            "text/plain": [
              "array([2, 3, 3, 0, 4, 4, 1, 2, 5, 1, 5, 3, 2, 2, 1, 4, 4, 3, 2, 4, 1, 2,\n",
              "       3, 3, 4, 2, 1, 2, 2, 2, 2, 5, 2, 5, 3, 1, 2, 0, 4, 5, 2, 3, 2, 2,\n",
              "       3, 2, 1, 1, 3, 4, 4, 2, 1, 1, 4, 4, 5, 1, 1, 1, 1, 1, 2, 1, 4, 1,\n",
              "       1, 1, 1, 4, 0, 0, 4, 3, 3, 4, 2, 2, 1, 2, 1, 0, 5, 3, 5, 5, 2, 4,\n",
              "       3, 1, 5, 2, 5, 5, 4, 2, 4, 1, 5, 4, 5, 1, 2, 1, 1, 5, 1, 3, 2, 5,\n",
              "       1, 2, 3, 5, 4, 4, 3, 0, 3, 3, 1, 2, 1, 3, 1, 3, 3, 4, 2, 2, 3, 2,\n",
              "       2, 3, 3, 0, 3, 3, 2, 2, 0, 3, 4, 0, 4, 4, 4, 2, 4, 1, 5, 3, 2, 2,\n",
              "       5, 4, 3, 3, 4, 5, 3, 4, 1, 5, 2, 3, 2, 2, 0, 2, 1, 3, 1, 4, 4, 3,\n",
              "       5, 1, 4, 2, 4, 1, 1, 2, 3, 5, 5, 2, 5, 1, 2, 1, 3, 3, 2, 4, 1, 4,\n",
              "       1, 3, 3, 2, 5, 1, 4, 1, 4])"
            ]
          },
          "metadata": {},
          "execution_count": 22
        }
      ]
    },
    {
      "cell_type": "code",
      "source": [
        "abc = preds1.astype(int).flatten()"
      ],
      "metadata": {
        "id": "H4WEmM60NfQn"
      },
      "execution_count": 23,
      "outputs": []
    },
    {
      "cell_type": "code",
      "source": [
        "from sklearn.metrics import confusion_matrix\n",
        "c = confusion_matrix(new_Ytest, abc) \n",
        "c"
      ],
      "metadata": {
        "colab": {
          "base_uri": "https://localhost:8080/"
        },
        "id": "bKEBeEBlFjB8",
        "outputId": "a994c12d-3730-4f5f-e045-84eabe606455"
      },
      "execution_count": 24,
      "outputs": [
        {
          "output_type": "execute_result",
          "data": {
            "text/plain": [
              "array([[ 9,  6,  1,  2,  0,  0],\n",
              "       [ 1, 34,  3,  2,  1,  0],\n",
              "       [ 0,  3, 37,  1,  4,  0],\n",
              "       [ 0,  2,  2, 25,  0,  2],\n",
              "       [ 0,  0,  0,  1, 32,  0],\n",
              "       [ 0,  0,  5,  9,  1, 24]])"
            ]
          },
          "metadata": {},
          "execution_count": 24
        }
      ]
    },
    {
      "cell_type": "code",
      "source": [
        "y_test"
      ],
      "metadata": {
        "colab": {
          "base_uri": "https://localhost:8080/"
        },
        "id": "m4RjG7LWLSQx",
        "outputId": "0b60660b-d86d-4964-c07d-407de1916972"
      },
      "execution_count": 25,
      "outputs": [
        {
          "output_type": "execute_result",
          "data": {
            "text/plain": [
              "array([3, 3, 3, 0, 4, 4, 1, 2, 5, 0, 5, 3, 2, 2, 1, 4, 4, 5, 2, 4, 1, 2,\n",
              "       3, 5, 4, 2, 1, 2, 2, 2, 2, 5, 2, 5, 3, 1, 2, 0, 4, 5, 2, 3, 2, 2,\n",
              "       5, 2, 0, 1, 3, 4, 4, 5, 1, 1, 4, 4, 5, 1, 1, 1, 0, 1, 5, 0, 4, 1,\n",
              "       1, 0, 1, 4, 1, 0, 4, 1, 3, 1, 2, 2, 1, 2, 3, 0, 5, 3, 5, 5, 2, 4,\n",
              "       5, 1, 5, 1, 5, 3, 4, 1, 4, 1, 5, 4, 5, 1, 2, 1, 1, 5, 1, 3, 2, 5,\n",
              "       2, 1, 3, 5, 4, 4, 0, 0, 3, 1, 2, 2, 3, 5, 1, 5, 3, 4, 2, 2, 0, 2,\n",
              "       2, 5, 5, 0, 3, 3, 2, 2, 0, 3, 4, 0, 4, 2, 4, 5, 4, 1, 5, 3, 2, 2,\n",
              "       5, 4, 3, 3, 4, 3, 3, 4, 1, 5, 2, 3, 2, 2, 0, 2, 1, 3, 1, 2, 2, 5,\n",
              "       5, 1, 4, 2, 2, 1, 1, 3, 3, 5, 5, 2, 5, 1, 5, 0, 3, 3, 0, 5, 1, 4,\n",
              "       1, 4, 2, 5, 5, 1, 4, 2, 4])"
            ]
          },
          "metadata": {},
          "execution_count": 25
        }
      ]
    },
    {
      "cell_type": "code",
      "source": [
        "loss, acc =model.evaluate(x_testcnn, y_test)\n",
        "print(\"Restored model, accuracy: {:5.2f}%\".format(100*acc))"
      ],
      "metadata": {
        "colab": {
          "base_uri": "https://localhost:8080/"
        },
        "id": "n3kzoqPkDqqS",
        "outputId": "5876ef71-2e51-4b91-af74-6be47ed0e792"
      },
      "execution_count": 26,
      "outputs": [
        {
          "output_type": "stream",
          "name": "stdout",
          "text": [
            "7/7 [==============================] - 0s 4ms/step - loss: 0.6179 - accuracy: 0.7778\n",
            "Restored model, accuracy: 77.78%\n"
          ]
        }
      ]
    },
    {
      "cell_type": "code",
      "source": [
        "loss, acc =model.evaluate(X_train, y_train)\n",
        "print(\"Restored model train, accuracy: {:5.2f}%\".format(100*acc))"
      ],
      "metadata": {
        "id": "fJDTGH_OUX0z",
        "colab": {
          "base_uri": "https://localhost:8080/"
        },
        "outputId": "eb136308-5fbe-41d1-f011-f129952b2bb5"
      },
      "execution_count": 27,
      "outputs": [
        {
          "output_type": "stream",
          "name": "stdout",
          "text": [
            "52/52 [==============================] - 0s 4ms/step - loss: 0.3123 - accuracy: 0.9323\n",
            "Restored model train, accuracy: 93.23%\n"
          ]
        }
      ]
    },
    {
      "cell_type": "code",
      "source": [
        "from sklearn.metrics import classification_report, confusion_matrix,accuracy_score\n",
        "import seaborn as sn\n",
        "\n",
        "print(classification_report(new_Ytest,abc))\n",
        "\n",
        "acc = float(accuracy_score(new_Ytest,abc))*100\n",
        "print(\"----accuracy score %s ----\" % acc)\n",
        "\n",
        "cm = confusion_matrix(new_Ytest,abc)\n",
        "#df_cm = pd.DataFrame(cm)\n",
        "class_names = ['neutral','calm', 'happy','sad','angry', 'fearful' ]\n",
        "df_cm = pd.DataFrame(cm, index=class_names, columns=class_names,)\n",
        "sn.heatmap(df_cm, annot=True, fmt='')\n",
        "plt.show()"
      ],
      "metadata": {
        "colab": {
          "base_uri": "https://localhost:8080/",
          "height": 508
        },
        "id": "SfSC3El94LZg",
        "outputId": "d995a410-d1e4-47d5-ac71-1f9a2624c77b"
      },
      "execution_count": 28,
      "outputs": [
        {
          "output_type": "stream",
          "name": "stdout",
          "text": [
            "              precision    recall  f1-score   support\n",
            "\n",
            "           0       0.90      0.50      0.64        18\n",
            "           1       0.76      0.83      0.79        41\n",
            "           2       0.77      0.82      0.80        45\n",
            "           3       0.62      0.81      0.70        31\n",
            "           4       0.84      0.97      0.90        33\n",
            "           5       0.92      0.62      0.74        39\n",
            "\n",
            "    accuracy                           0.78       207\n",
            "   macro avg       0.80      0.76      0.76       207\n",
            "weighted avg       0.80      0.78      0.77       207\n",
            "\n",
            "----accuracy score 77.77777777777779 ----\n"
          ]
        },
        {
          "output_type": "display_data",
          "data": {
            "text/plain": [
              "<Figure size 432x288 with 2 Axes>"
            ],
            "image/png": "[encoded data removed]"
          },
          "metadata": {
            "needs_background": "light"
          }
        }
      ]
    }
  ]
}