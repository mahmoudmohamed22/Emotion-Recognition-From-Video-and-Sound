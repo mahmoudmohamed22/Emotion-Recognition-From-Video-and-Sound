{
  "nbformat": 4,
  "nbformat_minor": 0,
  "metadata": {
    "colab": {
      "name": "video_emotion_recognition_2.ipynb",
      "provenance": [],
      "collapsed_sections": [],
      "machine_shape": "hm"
    },
    "kernelspec": {
      "name": "python3",
      "display_name": "Python 3"
    },
    "accelerator": "GPU"
  },
  "cells": [
    {
      "cell_type": "code",
      "source": [
        "from google.colab import drive\n",
        "drive.mount('/content/drive')"
      ],
      "metadata": {
        "colab": {
          "base_uri": "https://localhost:8080/"
        },
        "id": "o94I67GBPVfM",
        "outputId": "6d7f9d6b-b5ac-4df8-e696-5b6ef1817863"
      },
      "execution_count": 6,
      "outputs": [
        {
          "output_type": "stream",
          "name": "stdout",
          "text": [
            "Mounted at /content/drive\n"
          ]
        }
      ]
    },
    {
      "cell_type": "code",
      "source": [
        "# Discard the output of this cell.\n",
        "#%%capture\n",
        "\n",
        "# Install the required libraries.\n",
        "!pip install tensorflow opencv-contrib-python youtube-dl moviepy pydot\n",
        "!pip install git+https://github.com/TahaAnwar/pafy.git#egg=pafy"
      ],
      "metadata": {
        "colab": {
          "base_uri": "https://localhost:8080/"
        },
        "id": "6OQ7vRnzP6n8",
        "outputId": "16a60c83-7e3a-416f-f00e-2cc9e421c90b"
      },
      "execution_count": 1,
      "outputs": [
        {
          "output_type": "stream",
          "name": "stdout",
          "text": [
            "Looking in indexes: https://pypi.org/simple, https://us-python.pkg.dev/colab-wheels/public/simple/\n",
            "Requirement already satisfied: tensorflow in /usr/local/lib/python3.7/dist-packages (2.8.2+zzzcolab20220527125636)\n",
            "Requirement already satisfied: opencv-contrib-python in /usr/local/lib/python3.7/dist-packages (4.1.2.30)\n",
            "Requirement already satisfied: youtube-dl in /usr/local/lib/python3.7/dist-packages (2021.12.17)\n",
            "Requirement already satisfied: moviepy in /usr/local/lib/python3.7/dist-packages (0.2.3.5)\n",
            "Requirement already satisfied: pydot in /usr/local/lib/python3.7/dist-packages (1.3.0)\n",
            "Requirement already satisfied: google-pasta>=0.1.1 in /usr/local/lib/python3.7/dist-packages (from tensorflow) (0.2.0)\n",
            "Requirement already satisfied: termcolor>=1.1.0 in /usr/local/lib/python3.7/dist-packages (from tensorflow) (1.1.0)\n",
            "Requirement already satisfied: keras-preprocessing>=1.1.1 in /usr/local/lib/python3.7/dist-packages (from tensorflow) (1.1.2)\n",
            "Requirement already satisfied: absl-py>=0.4.0 in /usr/local/lib/python3.7/dist-packages (from tensorflow) (1.0.0)\n",
            "Requirement already satisfied: setuptools in /usr/local/lib/python3.7/dist-packages (from tensorflow) (57.4.0)\n",
            "Requirement already satisfied: six>=1.12.0 in /usr/local/lib/python3.7/dist-packages (from tensorflow) (1.15.0)\n",
            "Requirement already satisfied: keras<2.9,>=2.8.0rc0 in /usr/local/lib/python3.7/dist-packages (from tensorflow) (2.8.0)\n",
            "Requirement already satisfied: grpcio<2.0,>=1.24.3 in /usr/local/lib/python3.7/dist-packages (from tensorflow) (1.46.3)\n",
            "Requirement already satisfied: libclang>=9.0.1 in /usr/local/lib/python3.7/dist-packages (from tensorflow) (14.0.1)\n",
            "Requirement already satisfied: typing-extensions>=3.6.6 in /usr/local/lib/python3.7/dist-packages (from tensorflow) (4.2.0)\n",
            "Requirement already satisfied: numpy>=1.20 in /usr/local/lib/python3.7/dist-packages (from tensorflow) (1.21.6)\n",
            "Requirement already satisfied: opt-einsum>=2.3.2 in /usr/local/lib/python3.7/dist-packages (from tensorflow) (3.3.0)\n",
            "Requirement already satisfied: tensorflow-estimator<2.9,>=2.8 in /usr/local/lib/python3.7/dist-packages (from tensorflow) (2.8.0)\n",
            "Requirement already satisfied: flatbuffers>=1.12 in /usr/local/lib/python3.7/dist-packages (from tensorflow) (2.0)\n",
            "Requirement already satisfied: tensorboard<2.9,>=2.8 in /usr/local/lib/python3.7/dist-packages (from tensorflow) (2.8.0)\n",
            "Requirement already satisfied: astunparse>=1.6.0 in /usr/local/lib/python3.7/dist-packages (from tensorflow) (1.6.3)\n",
            "Requirement already satisfied: h5py>=2.9.0 in /usr/local/lib/python3.7/dist-packages (from tensorflow) (3.1.0)\n",
            "Requirement already satisfied: gast>=0.2.1 in /usr/local/lib/python3.7/dist-packages (from tensorflow) (0.5.3)\n",
            "Requirement already satisfied: protobuf<3.20,>=3.9.2 in /usr/local/lib/python3.7/dist-packages (from tensorflow) (3.17.3)\n",
            "Requirement already satisfied: tensorflow-io-gcs-filesystem>=0.23.1 in /usr/local/lib/python3.7/dist-packages (from tensorflow) (0.26.0)\n",
            "Requirement already satisfied: wrapt>=1.11.0 in /usr/local/lib/python3.7/dist-packages (from tensorflow) (1.14.1)\n",
            "Requirement already satisfied: wheel<1.0,>=0.23.0 in /usr/local/lib/python3.7/dist-packages (from astunparse>=1.6.0->tensorflow) (0.37.1)\n",
            "Requirement already satisfied: cached-property in /usr/local/lib/python3.7/dist-packages (from h5py>=2.9.0->tensorflow) (1.5.2)\n",
            "Requirement already satisfied: requests<3,>=2.21.0 in /usr/local/lib/python3.7/dist-packages (from tensorboard<2.9,>=2.8->tensorflow) (2.23.0)\n",
            "Requirement already satisfied: tensorboard-data-server<0.7.0,>=0.6.0 in /usr/local/lib/python3.7/dist-packages (from tensorboard<2.9,>=2.8->tensorflow) (0.6.1)\n",
            "Requirement already satisfied: werkzeug>=0.11.15 in /usr/local/lib/python3.7/dist-packages (from tensorboard<2.9,>=2.8->tensorflow) (1.0.1)\n",
            "Requirement already satisfied: google-auth-oauthlib<0.5,>=0.4.1 in /usr/local/lib/python3.7/dist-packages (from tensorboard<2.9,>=2.8->tensorflow) (0.4.6)\n",
            "Requirement already satisfied: tensorboard-plugin-wit>=1.6.0 in /usr/local/lib/python3.7/dist-packages (from tensorboard<2.9,>=2.8->tensorflow) (1.8.1)\n",
            "Requirement already satisfied: google-auth<3,>=1.6.3 in /usr/local/lib/python3.7/dist-packages (from tensorboard<2.9,>=2.8->tensorflow) (1.35.0)\n",
            "Requirement already satisfied: markdown>=2.6.8 in /usr/local/lib/python3.7/dist-packages (from tensorboard<2.9,>=2.8->tensorflow) (3.3.7)\n",
            "Requirement already satisfied: cachetools<5.0,>=2.0.0 in /usr/local/lib/python3.7/dist-packages (from google-auth<3,>=1.6.3->tensorboard<2.9,>=2.8->tensorflow) (4.2.4)\n",
            "Requirement already satisfied: rsa<5,>=3.1.4 in /usr/local/lib/python3.7/dist-packages (from google-auth<3,>=1.6.3->tensorboard<2.9,>=2.8->tensorflow) (4.8)\n",
            "Requirement already satisfied: pyasn1-modules>=0.2.1 in /usr/local/lib/python3.7/dist-packages (from google-auth<3,>=1.6.3->tensorboard<2.9,>=2.8->tensorflow) (0.2.8)\n",
            "Requirement already satisfied: requests-oauthlib>=0.7.0 in /usr/local/lib/python3.7/dist-packages (from google-auth-oauthlib<0.5,>=0.4.1->tensorboard<2.9,>=2.8->tensorflow) (1.3.1)\n",
            "Requirement already satisfied: importlib-metadata>=4.4 in /usr/local/lib/python3.7/dist-packages (from markdown>=2.6.8->tensorboard<2.9,>=2.8->tensorflow) (4.11.4)\n",
            "Requirement already satisfied: zipp>=0.5 in /usr/local/lib/python3.7/dist-packages (from importlib-metadata>=4.4->markdown>=2.6.8->tensorboard<2.9,>=2.8->tensorflow) (3.8.0)\n",
            "Requirement already satisfied: pyasn1<0.5.0,>=0.4.6 in /usr/local/lib/python3.7/dist-packages (from pyasn1-modules>=0.2.1->google-auth<3,>=1.6.3->tensorboard<2.9,>=2.8->tensorflow) (0.4.8)\n",
            "Requirement already satisfied: certifi>=2017.4.17 in /usr/local/lib/python3.7/dist-packages (from requests<3,>=2.21.0->tensorboard<2.9,>=2.8->tensorflow) (2022.5.18.1)\n",
            "Requirement already satisfied: urllib3!=1.25.0,!=1.25.1,<1.26,>=1.21.1 in /usr/local/lib/python3.7/dist-packages (from requests<3,>=2.21.0->tensorboard<2.9,>=2.8->tensorflow) (1.24.3)\n",
            "Requirement already satisfied: chardet<4,>=3.0.2 in /usr/local/lib/python3.7/dist-packages (from requests<3,>=2.21.0->tensorboard<2.9,>=2.8->tensorflow) (3.0.4)\n",
            "Requirement already satisfied: idna<3,>=2.5 in /usr/local/lib/python3.7/dist-packages (from requests<3,>=2.21.0->tensorboard<2.9,>=2.8->tensorflow) (2.10)\n",
            "Requirement already satisfied: oauthlib>=3.0.0 in /usr/local/lib/python3.7/dist-packages (from requests-oauthlib>=0.7.0->google-auth-oauthlib<0.5,>=0.4.1->tensorboard<2.9,>=2.8->tensorflow) (3.2.0)\n",
            "Requirement already satisfied: decorator<5.0,>=4.0.2 in /usr/local/lib/python3.7/dist-packages (from moviepy) (4.4.2)\n",
            "Requirement already satisfied: tqdm<5.0,>=4.11.2 in /usr/local/lib/python3.7/dist-packages (from moviepy) (4.64.0)\n",
            "Requirement already satisfied: imageio<3.0,>=2.1.2 in /usr/local/lib/python3.7/dist-packages (from moviepy) (2.4.1)\n",
            "Requirement already satisfied: pillow in /usr/local/lib/python3.7/dist-packages (from imageio<3.0,>=2.1.2->moviepy) (7.1.2)\n",
            "Requirement already satisfied: pyparsing>=2.1.4 in /usr/local/lib/python3.7/dist-packages (from pydot) (3.0.9)\n",
            "Looking in indexes: https://pypi.org/simple, https://us-python.pkg.dev/colab-wheels/public/simple/\n",
            "Collecting pafy\n",
            "  Cloning https://github.com/TahaAnwar/pafy.git to /tmp/pip-install-2doq79lu/pafy_a7c57b6e4f484a9b893491783d3b2f04\n",
            "  Running command git clone -q https://github.com/TahaAnwar/pafy.git /tmp/pip-install-2doq79lu/pafy_a7c57b6e4f484a9b893491783d3b2f04\n"
          ]
        }
      ]
    },
    {
      "cell_type": "code",
      "source": [
        "# Import the required libraries.\n",
        "import os\n",
        "import cv2\n",
        "import pafy\n",
        "import math\n",
        "import random\n",
        "import numpy as np\n",
        "import datetime as dt\n",
        "import tensorflow as tf\n",
        "from collections import deque\n",
        "import matplotlib.pyplot as plt\n",
        "\n",
        "from moviepy.editor import *\n",
        "%matplotlib inline\n",
        "\n",
        "from sklearn.model_selection import train_test_split\n",
        "\n",
        "from tensorflow.keras.layers import *\n",
        "from tensorflow.keras.models import Sequential\n",
        "from tensorflow.keras.utils import to_categorical\n",
        "from tensorflow.keras.callbacks import EarlyStopping\n",
        "from tensorflow.keras.utils import plot_model"
      ],
      "metadata": {
        "id": "LiLwshTpP-OB"
      },
      "execution_count": 2,
      "outputs": []
    },
    {
      "cell_type": "code",
      "source": [
        "seed_constant = 27\n",
        "np.random.seed(seed_constant)\n",
        "random.seed(seed_constant)\n",
        "tf.random.set_seed(seed_constant)"
      ],
      "metadata": {
        "id": "u4EtD4rrQEnb"
      },
      "execution_count": 3,
      "outputs": []
    },
    {
      "cell_type": "code",
      "source": [
        "# Specify the height and width to which each video frame will be resized in our dataset.\n",
        "IMAGE_HEIGHT , IMAGE_WIDTH = 64, 64\n",
        "\n",
        "# Specify the number of frames of a video that will be fed to the model as one sequence.\n",
        "SEQUENCE_LENGTH = 30\n",
        "\n",
        "# Specify the directory containing the UCF50 dataset. \n",
        "#DATASET_DIR = \"/content/drive/MyDrive/videospeech_label\"\n",
        "\n",
        "# Specify the list containing the names of the classes used for training. Feel free to choose any set of classes.\n",
        "CLASSES_LIST = [\"neutral\", \"calm\", \"happy\", \"sad\",\"angry\",\"fearful\"]"
      ],
      "metadata": {
        "id": "7H6KBiblQKE9"
      },
      "execution_count": 4,
      "outputs": []
    },
    {
      "cell_type": "code",
      "source": [
        "import joblib\n",
        "features=joblib.load('/content/drive/My Drive/features_ravdess/original_data_set/features_data')\n",
        "labels=joblib.load('/content/drive/My Drive/features_ravdess/original_data_set/labels')\n",
        "video_file_path=joblib.load('/content/drive/My Drive/features_ravdess/original_data_set/video_path')"
      ],
      "metadata": {
        "id": "V_rh-id5cmwd"
      },
      "execution_count": 5,
      "outputs": []
    },
    {
      "cell_type": "code",
      "source": [
        "features = np.asarray(features)\n",
        "labels = np.array(labels)  "
      ],
      "metadata": {
        "id": "WI3wNd7zdKzJ"
      },
      "execution_count": 6,
      "outputs": []
    },
    {
      "cell_type": "code",
      "source": [
        "features.shape"
      ],
      "metadata": {
        "colab": {
          "base_uri": "https://localhost:8080/"
        },
        "id": "pnnmkPz5Qh75",
        "outputId": "899cc6c9-8ef7-4f86-a2a8-10d70dd63046"
      },
      "execution_count": 7,
      "outputs": [
        {
          "output_type": "execute_result",
          "data": {
            "text/plain": [
              "(2068, 30, 64, 64, 3)"
            ]
          },
          "metadata": {},
          "execution_count": 7
        }
      ]
    },
    {
      "cell_type": "code",
      "source": [
        "labels.shape"
      ],
      "metadata": {
        "colab": {
          "base_uri": "https://localhost:8080/"
        },
        "id": "kSGvdE_hQklC",
        "outputId": "0a8f6cef-7565-42ca-8f44-811ec8012b3c"
      },
      "execution_count": 8,
      "outputs": [
        {
          "output_type": "execute_result",
          "data": {
            "text/plain": [
              "(2068,)"
            ]
          },
          "metadata": {},
          "execution_count": 8
        }
      ]
    },
    {
      "cell_type": "code",
      "source": [
        "# Using Keras's to_categorical method to convert labels into one-hot-encoded vectors\n",
        "one_hot_encoded_labels = to_categorical(labels)"
      ],
      "metadata": {
        "id": "DGicVwcRQn9x"
      },
      "execution_count": 9,
      "outputs": []
    },
    {
      "cell_type": "code",
      "source": [
        "# Split the Data into Train ( 80% ) and Test Set ( 20% ).\n",
        "features_train, features_test, labels_train, labels_test = train_test_split(features, one_hot_encoded_labels,\n",
        "                                                                            test_size = 0.10, shuffle = True,\n",
        "                                                                            random_state = seed_constant)"
      ],
      "metadata": {
        "id": "pysOwWbgQrBv"
      },
      "execution_count": 10,
      "outputs": []
    },
    {
      "cell_type": "code",
      "source": [
        "def create_LRCN_model():\n",
        "    '''\n",
        "    This function will construct the required LRCN model.\n",
        "    Returns:\n",
        "        model: It is the required constructed LRCN model.\n",
        "    '''\n",
        "\n",
        "    # We will use a Sequential model for model construction.\n",
        "    model = Sequential()\n",
        "    \n",
        "    # Define the Model Architecture.\n",
        "    ########################################################################################################################\n",
        "    \n",
        "    model.add(TimeDistributed(Conv2D(16, (3, 3), padding='same',activation = 'relu'),\n",
        "                              input_shape = (SEQUENCE_LENGTH, IMAGE_HEIGHT, IMAGE_WIDTH, 3)))\n",
        "    \n",
        "    model.add(TimeDistributed(MaxPooling2D((4, 4)))) \n",
        "    model.add(TimeDistributed(Dropout(0.25)))\n",
        "    \n",
        "    model.add(TimeDistributed(Conv2D(32, (3, 3), padding='same',activation = 'relu')))\n",
        "    model.add(TimeDistributed(MaxPooling2D((4, 4))))\n",
        "    model.add(TimeDistributed(Dropout(0.25)))\n",
        "    \n",
        "    model.add(TimeDistributed(Conv2D(64, (3, 3), padding='same',activation = 'relu')))\n",
        "    model.add(TimeDistributed(MaxPooling2D((2, 2))))\n",
        "    model.add(TimeDistributed(Dropout(0.25)))\n",
        "    \n",
        "    model.add(TimeDistributed(Conv2D(64, (3, 3), padding='same',activation = 'relu')))\n",
        "    model.add(TimeDistributed(MaxPooling2D((2, 2))))\n",
        "    #model.add(TimeDistributed(Dropout(0.25)))\n",
        "                                      \n",
        "    model.add(TimeDistributed(Flatten()))\n",
        "                                      \n",
        "    model.add(LSTM(32))\n",
        "                                      \n",
        "    model.add(Dense(len(CLASSES_LIST), activation = 'softmax'))\n",
        "\n",
        "    ########################################################################################################################\n",
        "\n",
        "    # Display the models summary.\n",
        "    model.summary()\n",
        "    \n",
        "    # Return the constructed LRCN model.\n",
        "    return model"
      ],
      "metadata": {
        "id": "01zL-4EVQt3J"
      },
      "execution_count": 11,
      "outputs": []
    },
    {
      "cell_type": "code",
      "source": [
        "# Construct the required LRCN model.\n",
        "LRCN_model = create_LRCN_model()\n",
        "\n",
        "# Display the success message.\n",
        "print(\"Model Created Successfully!\")"
      ],
      "metadata": {
        "colab": {
          "base_uri": "https://localhost:8080/"
        },
        "id": "sFdjcb8zQxX4",
        "outputId": "0de20ebc-0602-4272-a9fd-7fc305fd1eae"
      },
      "execution_count": 12,
      "outputs": [
        {
          "output_type": "stream",
          "name": "stdout",
          "text": [
            "Model: \"sequential\"\n",
            "_________________________________________________________________\n",
            " Layer (type)                Output Shape              Param #   \n",
            "=================================================================\n",
            " time_distributed (TimeDistr  (None, 30, 64, 64, 16)   448       \n",
            " ibuted)                                                         \n",
            "                                                                 \n",
            " time_distributed_1 (TimeDis  (None, 30, 16, 16, 16)   0         \n",
            " tributed)                                                       \n",
            "                                                                 \n",
            " time_distributed_2 (TimeDis  (None, 30, 16, 16, 16)   0         \n",
            " tributed)                                                       \n",
            "                                                                 \n",
            " time_distributed_3 (TimeDis  (None, 30, 16, 16, 32)   4640      \n",
            " tributed)                                                       \n",
            "                                                                 \n",
            " time_distributed_4 (TimeDis  (None, 30, 4, 4, 32)     0         \n",
            " tributed)                                                       \n",
            "                                                                 \n",
            " time_distributed_5 (TimeDis  (None, 30, 4, 4, 32)     0         \n",
            " tributed)                                                       \n",
            "                                                                 \n",
            " time_distributed_6 (TimeDis  (None, 30, 4, 4, 64)     18496     \n",
            " tributed)                                                       \n",
            "                                                                 \n",
            " time_distributed_7 (TimeDis  (None, 30, 2, 2, 64)     0         \n",
            " tributed)                                                       \n",
            "                                                                 \n",
            " time_distributed_8 (TimeDis  (None, 30, 2, 2, 64)     0         \n",
            " tributed)                                                       \n",
            "                                                                 \n",
            " time_distributed_9 (TimeDis  (None, 30, 2, 2, 64)     36928     \n",
            " tributed)                                                       \n",
            "                                                                 \n",
            " time_distributed_10 (TimeDi  (None, 30, 1, 1, 64)     0         \n",
            " stributed)                                                      \n",
            "                                                                 \n",
            " time_distributed_11 (TimeDi  (None, 30, 64)           0         \n",
            " stributed)                                                      \n",
            "                                                                 \n",
            " lstm (LSTM)                 (None, 32)                12416     \n",
            "                                                                 \n",
            " dense (Dense)               (None, 6)                 198       \n",
            "                                                                 \n",
            "=================================================================\n",
            "Total params: 73,126\n",
            "Trainable params: 73,126\n",
            "Non-trainable params: 0\n",
            "_________________________________________________________________\n",
            "Model Created Successfully!\n"
          ]
        }
      ]
    },
    {
      "cell_type": "code",
      "source": [
        "# Create an Instance of Early Stopping Callback.\n",
        "early_stopping_callback = EarlyStopping(monitor = 'val_loss', patience = 25, mode = 'min', restore_best_weights = True)\n",
        " \n",
        "# Compile the model and specify loss function, optimizer and metrics to the model.\n",
        "LRCN_model.compile(loss = 'categorical_crossentropy', optimizer = 'Adam', metrics = [\"accuracy\"])\n",
        "\n",
        "# Start training the model.\n",
        "LRCN_model_training_history = LRCN_model.fit(x = features_train, y = labels_train, epochs = 100, batch_size = 4 ,\n",
        "                                             shuffle = True, validation_split = 0.1, callbacks = [early_stopping_callback])"
      ],
      "metadata": {
        "colab": {
          "base_uri": "https://localhost:8080/"
        },
        "id": "cVmXzItZQ4-r",
        "outputId": "cdf192b5-a60d-41d3-f2ec-bee974189a4e"
      },
      "execution_count": 13,
      "outputs": [
        {
          "output_type": "stream",
          "name": "stdout",
          "text": [
            "Epoch 1/100\n",
            "419/419 [==============================] - 20s 14ms/step - loss: 1.7846 - accuracy: 0.1858 - val_loss: 1.7765 - val_accuracy: 0.2193\n",
            "Epoch 2/100\n",
            "419/419 [==============================] - 4s 11ms/step - loss: 1.7745 - accuracy: 0.1703 - val_loss: 1.7782 - val_accuracy: 0.1390\n",
            "Epoch 3/100\n",
            "419/419 [==============================] - 4s 11ms/step - loss: 1.7677 - accuracy: 0.1864 - val_loss: 1.7801 - val_accuracy: 0.1390\n",
            "Epoch 4/100\n",
            "419/419 [==============================] - 4s 11ms/step - loss: 1.7694 - accuracy: 0.1846 - val_loss: 1.7781 - val_accuracy: 0.1711\n",
            "Epoch 5/100\n",
            "419/419 [==============================] - 4s 11ms/step - loss: 1.7687 - accuracy: 0.1631 - val_loss: 1.7783 - val_accuracy: 0.2086\n",
            "Epoch 6/100\n",
            "419/419 [==============================] - 4s 11ms/step - loss: 1.7665 - accuracy: 0.1804 - val_loss: 1.7754 - val_accuracy: 0.1765\n",
            "Epoch 7/100\n",
            "419/419 [==============================] - 4s 11ms/step - loss: 1.7594 - accuracy: 0.1935 - val_loss: 1.7731 - val_accuracy: 0.1925\n",
            "Epoch 8/100\n",
            "419/419 [==============================] - 4s 11ms/step - loss: 1.6544 - accuracy: 0.2730 - val_loss: 1.5408 - val_accuracy: 0.2888\n",
            "Epoch 9/100\n",
            "419/419 [==============================] - 5s 11ms/step - loss: 1.5014 - accuracy: 0.3513 - val_loss: 1.5282 - val_accuracy: 0.3155\n",
            "Epoch 10/100\n",
            "419/419 [==============================] - 4s 11ms/step - loss: 1.4502 - accuracy: 0.3734 - val_loss: 1.4650 - val_accuracy: 0.3102\n",
            "Epoch 11/100\n",
            "419/419 [==============================] - 4s 11ms/step - loss: 1.4015 - accuracy: 0.4080 - val_loss: 1.4347 - val_accuracy: 0.3476\n",
            "Epoch 12/100\n",
            "419/419 [==============================] - 5s 11ms/step - loss: 1.3774 - accuracy: 0.3865 - val_loss: 1.4073 - val_accuracy: 0.3262\n",
            "Epoch 13/100\n",
            "419/419 [==============================] - 4s 11ms/step - loss: 1.3227 - accuracy: 0.4247 - val_loss: 1.3584 - val_accuracy: 0.3636\n",
            "Epoch 14/100\n",
            "419/419 [==============================] - 4s 11ms/step - loss: 1.2906 - accuracy: 0.4462 - val_loss: 1.3234 - val_accuracy: 0.3957\n",
            "Epoch 15/100\n",
            "419/419 [==============================] - 4s 11ms/step - loss: 1.2568 - accuracy: 0.4564 - val_loss: 1.2151 - val_accuracy: 0.4385\n",
            "Epoch 16/100\n",
            "419/419 [==============================] - 4s 11ms/step - loss: 1.2547 - accuracy: 0.4444 - val_loss: 1.2594 - val_accuracy: 0.3850\n",
            "Epoch 17/100\n",
            "419/419 [==============================] - 5s 11ms/step - loss: 1.2223 - accuracy: 0.4707 - val_loss: 1.2062 - val_accuracy: 0.4652\n",
            "Epoch 18/100\n",
            "419/419 [==============================] - 4s 11ms/step - loss: 1.1934 - accuracy: 0.4982 - val_loss: 1.2223 - val_accuracy: 0.4813\n",
            "Epoch 19/100\n",
            "419/419 [==============================] - 4s 11ms/step - loss: 1.1754 - accuracy: 0.4970 - val_loss: 1.2630 - val_accuracy: 0.4278\n",
            "Epoch 20/100\n",
            "419/419 [==============================] - 4s 11ms/step - loss: 1.1515 - accuracy: 0.5131 - val_loss: 1.1841 - val_accuracy: 0.4385\n",
            "Epoch 21/100\n",
            "419/419 [==============================] - 4s 11ms/step - loss: 1.1363 - accuracy: 0.5149 - val_loss: 1.1709 - val_accuracy: 0.5027\n",
            "Epoch 22/100\n",
            "419/419 [==============================] - 4s 11ms/step - loss: 1.0793 - accuracy: 0.5466 - val_loss: 1.0663 - val_accuracy: 0.5027\n",
            "Epoch 23/100\n",
            "419/419 [==============================] - 4s 11ms/step - loss: 1.0729 - accuracy: 0.5472 - val_loss: 1.0768 - val_accuracy: 0.5294\n",
            "Epoch 24/100\n",
            "419/419 [==============================] - 4s 11ms/step - loss: 1.0248 - accuracy: 0.5723 - val_loss: 1.0207 - val_accuracy: 0.5134\n",
            "Epoch 25/100\n",
            "419/419 [==============================] - 5s 11ms/step - loss: 0.9731 - accuracy: 0.5980 - val_loss: 1.0123 - val_accuracy: 0.5775\n",
            "Epoch 26/100\n",
            "419/419 [==============================] - 4s 11ms/step - loss: 0.9388 - accuracy: 0.6260 - val_loss: 0.8914 - val_accuracy: 0.6310\n",
            "Epoch 27/100\n",
            "419/419 [==============================] - 4s 11ms/step - loss: 0.8902 - accuracy: 0.6452 - val_loss: 0.8975 - val_accuracy: 0.6096\n",
            "Epoch 28/100\n",
            "419/419 [==============================] - 4s 11ms/step - loss: 0.8558 - accuracy: 0.6607 - val_loss: 0.8506 - val_accuracy: 0.6471\n",
            "Epoch 29/100\n",
            "419/419 [==============================] - 4s 11ms/step - loss: 0.8247 - accuracy: 0.6726 - val_loss: 0.9200 - val_accuracy: 0.6310\n",
            "Epoch 30/100\n",
            "419/419 [==============================] - 4s 11ms/step - loss: 0.7817 - accuracy: 0.6918 - val_loss: 0.8327 - val_accuracy: 0.6684\n",
            "Epoch 31/100\n",
            "419/419 [==============================] - 4s 11ms/step - loss: 0.7577 - accuracy: 0.7049 - val_loss: 0.7172 - val_accuracy: 0.7219\n",
            "Epoch 32/100\n",
            "419/419 [==============================] - 4s 11ms/step - loss: 0.7485 - accuracy: 0.7049 - val_loss: 0.8082 - val_accuracy: 0.6845\n",
            "Epoch 33/100\n",
            "419/419 [==============================] - 4s 11ms/step - loss: 0.7004 - accuracy: 0.7210 - val_loss: 0.9342 - val_accuracy: 0.6524\n",
            "Epoch 34/100\n",
            "419/419 [==============================] - 4s 11ms/step - loss: 0.6871 - accuracy: 0.7401 - val_loss: 0.9117 - val_accuracy: 0.6524\n",
            "Epoch 35/100\n",
            "419/419 [==============================] - 4s 11ms/step - loss: 0.6701 - accuracy: 0.7443 - val_loss: 0.8411 - val_accuracy: 0.6898\n",
            "Epoch 36/100\n",
            "419/419 [==============================] - 5s 11ms/step - loss: 0.6551 - accuracy: 0.7557 - val_loss: 0.7694 - val_accuracy: 0.6952\n",
            "Epoch 37/100\n",
            "419/419 [==============================] - 5s 11ms/step - loss: 0.6198 - accuracy: 0.7611 - val_loss: 0.7388 - val_accuracy: 0.7219\n",
            "Epoch 38/100\n",
            "419/419 [==============================] - 4s 11ms/step - loss: 0.6150 - accuracy: 0.7652 - val_loss: 0.7009 - val_accuracy: 0.7326\n",
            "Epoch 39/100\n",
            "419/419 [==============================] - 5s 11ms/step - loss: 0.6099 - accuracy: 0.7730 - val_loss: 0.7471 - val_accuracy: 0.6952\n",
            "Epoch 40/100\n",
            "419/419 [==============================] - 4s 11ms/step - loss: 0.5959 - accuracy: 0.7634 - val_loss: 0.7598 - val_accuracy: 0.7219\n",
            "Epoch 41/100\n",
            "419/419 [==============================] - 5s 11ms/step - loss: 0.5317 - accuracy: 0.7915 - val_loss: 0.7536 - val_accuracy: 0.7059\n",
            "Epoch 42/100\n",
            "419/419 [==============================] - 5s 11ms/step - loss: 0.5160 - accuracy: 0.8130 - val_loss: 0.6278 - val_accuracy: 0.7594\n",
            "Epoch 43/100\n",
            "419/419 [==============================] - 4s 11ms/step - loss: 0.5326 - accuracy: 0.7969 - val_loss: 0.7189 - val_accuracy: 0.7326\n",
            "Epoch 44/100\n",
            "419/419 [==============================] - 5s 11ms/step - loss: 0.5486 - accuracy: 0.7957 - val_loss: 0.7553 - val_accuracy: 0.7112\n",
            "Epoch 45/100\n",
            "419/419 [==============================] - 4s 11ms/step - loss: 0.5013 - accuracy: 0.8148 - val_loss: 0.7830 - val_accuracy: 0.7005\n",
            "Epoch 46/100\n",
            "419/419 [==============================] - 5s 11ms/step - loss: 0.5233 - accuracy: 0.8088 - val_loss: 0.7603 - val_accuracy: 0.7112\n",
            "Epoch 47/100\n",
            "419/419 [==============================] - 5s 11ms/step - loss: 0.4655 - accuracy: 0.8309 - val_loss: 0.7239 - val_accuracy: 0.7701\n",
            "Epoch 48/100\n",
            "419/419 [==============================] - 4s 11ms/step - loss: 0.4501 - accuracy: 0.8274 - val_loss: 0.6787 - val_accuracy: 0.7594\n",
            "Epoch 49/100\n",
            "419/419 [==============================] - 4s 11ms/step - loss: 0.4725 - accuracy: 0.8232 - val_loss: 0.6723 - val_accuracy: 0.7807\n",
            "Epoch 50/100\n",
            "419/419 [==============================] - 5s 11ms/step - loss: 0.4695 - accuracy: 0.8280 - val_loss: 0.7692 - val_accuracy: 0.7273\n",
            "Epoch 51/100\n",
            "419/419 [==============================] - 4s 11ms/step - loss: 0.4154 - accuracy: 0.8435 - val_loss: 0.7675 - val_accuracy: 0.7433\n",
            "Epoch 52/100\n",
            "419/419 [==============================] - 4s 11ms/step - loss: 0.4706 - accuracy: 0.8244 - val_loss: 0.7118 - val_accuracy: 0.7594\n",
            "Epoch 53/100\n",
            "419/419 [==============================] - 5s 11ms/step - loss: 0.4550 - accuracy: 0.8369 - val_loss: 0.5924 - val_accuracy: 0.7701\n",
            "Epoch 54/100\n",
            "419/419 [==============================] - 5s 11ms/step - loss: 0.3668 - accuracy: 0.8692 - val_loss: 0.6629 - val_accuracy: 0.7807\n",
            "Epoch 55/100\n",
            "419/419 [==============================] - 4s 11ms/step - loss: 0.4143 - accuracy: 0.8524 - val_loss: 0.6584 - val_accuracy: 0.7487\n",
            "Epoch 56/100\n",
            "419/419 [==============================] - 4s 11ms/step - loss: 0.4013 - accuracy: 0.8513 - val_loss: 0.7076 - val_accuracy: 0.7861\n",
            "Epoch 57/100\n",
            "419/419 [==============================] - 4s 11ms/step - loss: 0.3914 - accuracy: 0.8477 - val_loss: 0.7658 - val_accuracy: 0.7433\n",
            "Epoch 58/100\n",
            "419/419 [==============================] - 5s 11ms/step - loss: 0.3882 - accuracy: 0.8602 - val_loss: 0.6479 - val_accuracy: 0.7861\n",
            "Epoch 59/100\n",
            "419/419 [==============================] - 4s 11ms/step - loss: 0.3847 - accuracy: 0.8483 - val_loss: 0.8276 - val_accuracy: 0.7273\n",
            "Epoch 60/100\n",
            "419/419 [==============================] - 4s 11ms/step - loss: 0.3720 - accuracy: 0.8602 - val_loss: 0.6540 - val_accuracy: 0.7861\n",
            "Epoch 61/100\n",
            "419/419 [==============================] - 4s 11ms/step - loss: 0.3938 - accuracy: 0.8572 - val_loss: 0.8387 - val_accuracy: 0.7273\n",
            "Epoch 62/100\n",
            "419/419 [==============================] - 4s 11ms/step - loss: 0.3861 - accuracy: 0.8578 - val_loss: 0.6363 - val_accuracy: 0.7487\n",
            "Epoch 63/100\n",
            "419/419 [==============================] - 4s 11ms/step - loss: 0.3501 - accuracy: 0.8656 - val_loss: 0.6291 - val_accuracy: 0.7968\n",
            "Epoch 64/100\n",
            "419/419 [==============================] - 5s 11ms/step - loss: 0.3341 - accuracy: 0.8775 - val_loss: 0.7360 - val_accuracy: 0.7754\n",
            "Epoch 65/100\n",
            "419/419 [==============================] - 5s 11ms/step - loss: 0.3469 - accuracy: 0.8620 - val_loss: 0.6436 - val_accuracy: 0.7807\n",
            "Epoch 66/100\n",
            "419/419 [==============================] - 4s 11ms/step - loss: 0.3459 - accuracy: 0.8656 - val_loss: 0.6121 - val_accuracy: 0.8021\n",
            "Epoch 67/100\n",
            "419/419 [==============================] - 5s 11ms/step - loss: 0.3116 - accuracy: 0.8805 - val_loss: 0.6323 - val_accuracy: 0.7914\n",
            "Epoch 68/100\n",
            "419/419 [==============================] - 4s 11ms/step - loss: 0.3482 - accuracy: 0.8674 - val_loss: 0.6607 - val_accuracy: 0.7807\n",
            "Epoch 69/100\n",
            "419/419 [==============================] - 4s 11ms/step - loss: 0.3160 - accuracy: 0.8811 - val_loss: 0.7271 - val_accuracy: 0.7540\n",
            "Epoch 70/100\n",
            "419/419 [==============================] - 5s 11ms/step - loss: 0.3067 - accuracy: 0.8865 - val_loss: 0.6893 - val_accuracy: 0.7807\n",
            "Epoch 71/100\n",
            "419/419 [==============================] - 5s 11ms/step - loss: 0.3205 - accuracy: 0.8823 - val_loss: 0.6036 - val_accuracy: 0.7914\n",
            "Epoch 72/100\n",
            "419/419 [==============================] - 4s 11ms/step - loss: 0.3031 - accuracy: 0.8835 - val_loss: 0.6906 - val_accuracy: 0.7861\n",
            "Epoch 73/100\n",
            "419/419 [==============================] - 5s 11ms/step - loss: 0.3042 - accuracy: 0.8883 - val_loss: 0.5648 - val_accuracy: 0.8128\n",
            "Epoch 74/100\n",
            "419/419 [==============================] - 4s 11ms/step - loss: 0.2665 - accuracy: 0.8961 - val_loss: 0.7181 - val_accuracy: 0.7647\n",
            "Epoch 75/100\n",
            "419/419 [==============================] - 4s 11ms/step - loss: 0.3067 - accuracy: 0.8871 - val_loss: 0.6669 - val_accuracy: 0.7647\n",
            "Epoch 76/100\n",
            "419/419 [==============================] - 5s 11ms/step - loss: 0.2691 - accuracy: 0.9032 - val_loss: 0.6957 - val_accuracy: 0.7914\n",
            "Epoch 77/100\n",
            "419/419 [==============================] - 5s 11ms/step - loss: 0.2827 - accuracy: 0.8907 - val_loss: 0.6362 - val_accuracy: 0.8235\n",
            "Epoch 78/100\n",
            "419/419 [==============================] - 4s 11ms/step - loss: 0.2717 - accuracy: 0.9050 - val_loss: 0.6989 - val_accuracy: 0.7914\n",
            "Epoch 79/100\n",
            "419/419 [==============================] - 4s 11ms/step - loss: 0.2794 - accuracy: 0.9020 - val_loss: 0.7417 - val_accuracy: 0.7701\n",
            "Epoch 80/100\n",
            "419/419 [==============================] - 5s 11ms/step - loss: 0.2713 - accuracy: 0.9044 - val_loss: 0.6890 - val_accuracy: 0.8075\n",
            "Epoch 81/100\n",
            "419/419 [==============================] - 4s 11ms/step - loss: 0.2793 - accuracy: 0.8949 - val_loss: 0.6514 - val_accuracy: 0.8021\n",
            "Epoch 82/100\n",
            "419/419 [==============================] - 5s 11ms/step - loss: 0.2724 - accuracy: 0.8901 - val_loss: 0.7296 - val_accuracy: 0.7914\n",
            "Epoch 83/100\n",
            "419/419 [==============================] - 5s 11ms/step - loss: 0.2463 - accuracy: 0.9194 - val_loss: 0.6566 - val_accuracy: 0.7968\n",
            "Epoch 84/100\n",
            "419/419 [==============================] - 5s 11ms/step - loss: 0.2476 - accuracy: 0.9074 - val_loss: 0.9287 - val_accuracy: 0.7487\n",
            "Epoch 85/100\n",
            "419/419 [==============================] - 4s 11ms/step - loss: 0.2711 - accuracy: 0.9032 - val_loss: 0.7120 - val_accuracy: 0.8075\n",
            "Epoch 86/100\n",
            "419/419 [==============================] - 4s 11ms/step - loss: 0.2290 - accuracy: 0.9152 - val_loss: 0.6956 - val_accuracy: 0.7914\n",
            "Epoch 87/100\n",
            "419/419 [==============================] - 4s 11ms/step - loss: 0.2705 - accuracy: 0.9008 - val_loss: 0.7651 - val_accuracy: 0.7807\n",
            "Epoch 88/100\n",
            "419/419 [==============================] - 4s 11ms/step - loss: 0.2164 - accuracy: 0.9176 - val_loss: 0.6685 - val_accuracy: 0.8075\n",
            "Epoch 89/100\n",
            "419/419 [==============================] - 5s 11ms/step - loss: 0.2366 - accuracy: 0.9158 - val_loss: 0.8216 - val_accuracy: 0.7433\n",
            "Epoch 90/100\n",
            "419/419 [==============================] - 4s 11ms/step - loss: 0.2430 - accuracy: 0.9140 - val_loss: 0.7638 - val_accuracy: 0.8021\n",
            "Epoch 91/100\n",
            "419/419 [==============================] - 5s 11ms/step - loss: 0.2371 - accuracy: 0.9074 - val_loss: 0.7353 - val_accuracy: 0.8182\n",
            "Epoch 92/100\n",
            "419/419 [==============================] - 4s 11ms/step - loss: 0.2106 - accuracy: 0.9253 - val_loss: 0.7339 - val_accuracy: 0.8021\n",
            "Epoch 93/100\n",
            "419/419 [==============================] - 5s 11ms/step - loss: 0.2505 - accuracy: 0.9134 - val_loss: 0.6255 - val_accuracy: 0.7861\n",
            "Epoch 94/100\n",
            "419/419 [==============================] - 5s 12ms/step - loss: 0.2201 - accuracy: 0.9194 - val_loss: 0.7648 - val_accuracy: 0.7968\n",
            "Epoch 95/100\n",
            "419/419 [==============================] - 4s 11ms/step - loss: 0.2554 - accuracy: 0.9062 - val_loss: 0.7441 - val_accuracy: 0.7701\n",
            "Epoch 96/100\n",
            "419/419 [==============================] - 4s 11ms/step - loss: 0.2009 - accuracy: 0.9307 - val_loss: 0.7397 - val_accuracy: 0.8128\n",
            "Epoch 97/100\n",
            "419/419 [==============================] - 5s 11ms/step - loss: 0.2161 - accuracy: 0.9259 - val_loss: 0.6243 - val_accuracy: 0.8289\n",
            "Epoch 98/100\n",
            "419/419 [==============================] - 5s 11ms/step - loss: 0.2249 - accuracy: 0.9182 - val_loss: 0.6942 - val_accuracy: 0.8342\n"
          ]
        }
      ]
    },
    {
      "cell_type": "code",
      "source": [
        "# Evaluate the trained model.\n",
        "model_evaluation_history = LRCN_model.evaluate(features_test, labels_test)"
      ],
      "metadata": {
        "colab": {
          "base_uri": "https://localhost:8080/"
        },
        "id": "sa-sTkK6Q-ks",
        "outputId": "26603d90-8ada-44e4-d0b1-9f266b75e20c"
      },
      "execution_count": 14,
      "outputs": [
        {
          "output_type": "stream",
          "name": "stdout",
          "text": [
            "7/7 [==============================] - 0s 28ms/step - loss: 0.5261 - accuracy: 0.7874\n"
          ]
        }
      ]
    },
    {
      "cell_type": "code",
      "source": [
        "# Get the loss and accuracy from model_evaluation_history.\n",
        "model_evaluation_loss, model_evaluation_accuracy = model_evaluation_history\n",
        "\n",
        "# Define the string date format.\n",
        "# Get the current Date and Time in a DateTime Object.\n",
        "# Convert the DateTime object to string according to the style mentioned in date_time_format string.\n",
        "date_time_format = '%Y_%m_%d__%H_%M_%S'\n",
        "current_date_time_dt = dt.datetime.now()\n",
        "current_date_time_string = dt.datetime.strftime(current_date_time_dt, date_time_format)\n",
        "    \n",
        "# Define a useful name for our model to make it easy for us while navigating through multiple saved models.\n",
        "model_file_name = f'LRCN_model___Date_Time_{current_date_time_string}___Loss_{model_evaluation_loss}___Accuracy_{model_evaluation_accuracy}.h5'\n",
        "\n",
        "# Save the Model.\n",
        "LRCN_model.save(model_file_name)"
      ],
      "metadata": {
        "id": "D3J57fVJRCEa"
      },
      "execution_count": null,
      "outputs": []
    },
    {
      "cell_type": "code",
      "source": [
        "def plot_metric(model_training_history, metric_name_1, metric_name_2, plot_name):\n",
        "    '''\n",
        "    This function will plot the metrics passed to it in a graph.\n",
        "    Args:\n",
        "        model_training_history: A history object containing a record of training and validation \n",
        "                                loss values and metrics values at successive epochs\n",
        "        metric_name_1:          The name of the first metric that needs to be plotted in the graph.\n",
        "        metric_name_2:          The name of the second metric that needs to be plotted in the graph.\n",
        "        plot_name:              The title of the graph.\n",
        "    '''\n",
        "    \n",
        "    # Get metric values using metric names as identifiers.\n",
        "    metric_value_1 = model_training_history.history[metric_name_1]\n",
        "    metric_value_2 = model_training_history.history[metric_name_2]\n",
        "    \n",
        "    # Construct a range object which will be used as x-axis (horizontal plane) of the graph.\n",
        "    epochs = range(len(metric_value_1))\n",
        "\n",
        "    # Plot the Graph.\n",
        "    plt.plot(epochs, metric_value_1, 'blue', label = metric_name_1)\n",
        "    plt.plot(epochs, metric_value_2, 'red', label = metric_name_2)\n",
        "\n",
        "    # Add title to the plot.\n",
        "    plt.title(str(plot_name))\n",
        "\n",
        "    # Add legend to the plot.\n",
        "    plt.legend()"
      ],
      "metadata": {
        "id": "sXhBv91xRFgU"
      },
      "execution_count": 15,
      "outputs": []
    },
    {
      "cell_type": "code",
      "source": [
        "# Visualize the training and validation loss metrices.\n",
        "plot_metric(LRCN_model_training_history, 'loss', 'val_loss', 'Total Loss vs Total Validation Loss')"
      ],
      "metadata": {
        "colab": {
          "base_uri": "https://localhost:8080/",
          "height": 281
        },
        "id": "cKhf3si1RJUW",
        "outputId": "c417060f-7441-4cf4-dd22-f1ec64ea3420"
      },
      "execution_count": 16,
      "outputs": [
        {
          "output_type": "display_data",
          "data": {
            "text/plain": [
              "<Figure size 432x288 with 1 Axes>"
            ],
            "image/png": "[encoded data removed]"
          },
          "metadata": {
            "needs_background": "light"
          }
        }
      ]
    },
    {
      "cell_type": "code",
      "source": [
        "# Visualize the training and validation accuracy metrices.\n",
        "plot_metric(LRCN_model_training_history, 'accuracy', 'val_accuracy', 'Total Accuracy vs Total Validation Accuracy')"
      ],
      "metadata": {
        "colab": {
          "base_uri": "https://localhost:8080/",
          "height": 281
        },
        "id": "5JB37wh3RLWX",
        "outputId": "a76327b5-22ef-49d4-fc88-922eeb115723"
      },
      "execution_count": 17,
      "outputs": [
        {
          "output_type": "display_data",
          "data": {
            "text/plain": [
              "<Figure size 432x288 with 1 Axes>"
            ],
            "image/png": "[encoded data removed]"
          },
          "metadata": {
            "needs_background": "light"
          }
        }
      ]
    },
    {
      "cell_type": "code",
      "source": [
        "predictions =  LRCN_model.predict(features_test)\n",
        "predictions\n"
      ],
      "metadata": {
        "colab": {
          "base_uri": "https://localhost:8080/"
        },
        "id": "yM7edJgyRf-P",
        "outputId": "19c0bcef-a2a8-46ce-ba25-3a873b3df7ae"
      },
      "execution_count": 18,
      "outputs": [
        {
          "output_type": "execute_result",
          "data": {
            "text/plain": [
              "array([[3.3399206e-01, 1.4139886e-02, 7.8442658e-04, 6.2893760e-01,\n",
              "        1.3409659e-02, 8.7364148e-03],\n",
              "       [6.1815765e-02, 6.4939482e-04, 1.6775397e-05, 9.2311001e-01,\n",
              "        9.3742053e-04, 1.3470668e-02],\n",
              "       [2.6199143e-04, 5.2637123e-02, 9.4622254e-01, 3.9823528e-04,\n",
              "        2.2654189e-04, 2.5349527e-04],\n",
              "       ...,\n",
              "       [1.5127164e-02, 2.4642367e-02, 4.7635818e-03, 9.0008628e-01,\n",
              "        3.2700051e-02, 2.2680534e-02],\n",
              "       [1.7891822e-05, 4.1208332e-04, 9.9948221e-01, 3.7131136e-05,\n",
              "        5.2367513e-06, 4.5378631e-05],\n",
              "       [6.3871920e-01, 2.6189750e-01, 7.5710662e-02, 2.2369850e-02,\n",
              "        2.4815241e-04, 1.0546291e-03]], dtype=float32)"
            ]
          },
          "metadata": {},
          "execution_count": 18
        }
      ]
    },
    {
      "cell_type": "code",
      "source": [
        "preds=predictions.argmax(axis=1)\n",
        "preds"
      ],
      "metadata": {
        "colab": {
          "base_uri": "https://localhost:8080/"
        },
        "id": "DNHaLfq2RjeT",
        "outputId": "542dd165-2ee0-489c-fb31-e9b0827250f3"
      },
      "execution_count": 19,
      "outputs": [
        {
          "output_type": "execute_result",
          "data": {
            "text/plain": [
              "array([3, 3, 2, 3, 5, 2, 5, 1, 3, 0, 3, 0, 2, 0, 5, 3, 5, 1, 1, 0, 5, 5,\n",
              "       0, 2, 2, 4, 4, 4, 4, 5, 4, 5, 5, 3, 5, 2, 4, 2, 2, 4, 2, 2, 0, 3,\n",
              "       2, 1, 5, 5, 4, 3, 2, 2, 1, 3, 3, 0, 3, 0, 2, 5, 4, 3, 5, 0, 1, 3,\n",
              "       1, 0, 5, 2, 2, 2, 4, 5, 5, 4, 0, 4, 4, 5, 3, 3, 3, 0, 0, 1, 2, 3,\n",
              "       3, 4, 2, 1, 0, 1, 5, 3, 1, 2, 0, 4, 3, 3, 5, 5, 2, 3, 2, 1, 3, 0,\n",
              "       5, 4, 0, 1, 4, 0, 3, 1, 2, 1, 1, 5, 1, 5, 0, 3, 5, 2, 2, 1, 2, 0,\n",
              "       2, 2, 1, 0, 3, 0, 5, 5, 2, 5, 3, 3, 1, 2, 2, 0, 0, 3, 5, 3, 4, 5,\n",
              "       3, 2, 1, 4, 0, 3, 0, 3, 2, 2, 4, 3, 0, 0, 5, 4, 3, 5, 1, 4, 3, 1,\n",
              "       5, 0, 4, 5, 5, 0, 1, 3, 4, 3, 1, 4, 3, 4, 1, 4, 2, 2, 4, 4, 3, 0,\n",
              "       3, 5, 4, 2, 3, 2, 3, 2, 0])"
            ]
          },
          "metadata": {},
          "execution_count": 19
        }
      ]
    },
    {
      "cell_type": "code",
      "source": [
        "new_preds = preds.astype(int).flatten()\n",
        "new_preds"
      ],
      "metadata": {
        "colab": {
          "base_uri": "https://localhost:8080/"
        },
        "id": "0W618McKRl02",
        "outputId": "d4248d4a-f728-4232-ca9b-0e1fa0c249ae"
      },
      "execution_count": 20,
      "outputs": [
        {
          "output_type": "execute_result",
          "data": {
            "text/plain": [
              "array([3, 3, 2, 3, 5, 2, 5, 1, 3, 0, 3, 0, 2, 0, 5, 3, 5, 1, 1, 0, 5, 5,\n",
              "       0, 2, 2, 4, 4, 4, 4, 5, 4, 5, 5, 3, 5, 2, 4, 2, 2, 4, 2, 2, 0, 3,\n",
              "       2, 1, 5, 5, 4, 3, 2, 2, 1, 3, 3, 0, 3, 0, 2, 5, 4, 3, 5, 0, 1, 3,\n",
              "       1, 0, 5, 2, 2, 2, 4, 5, 5, 4, 0, 4, 4, 5, 3, 3, 3, 0, 0, 1, 2, 3,\n",
              "       3, 4, 2, 1, 0, 1, 5, 3, 1, 2, 0, 4, 3, 3, 5, 5, 2, 3, 2, 1, 3, 0,\n",
              "       5, 4, 0, 1, 4, 0, 3, 1, 2, 1, 1, 5, 1, 5, 0, 3, 5, 2, 2, 1, 2, 0,\n",
              "       2, 2, 1, 0, 3, 0, 5, 5, 2, 5, 3, 3, 1, 2, 2, 0, 0, 3, 5, 3, 4, 5,\n",
              "       3, 2, 1, 4, 0, 3, 0, 3, 2, 2, 4, 3, 0, 0, 5, 4, 3, 5, 1, 4, 3, 1,\n",
              "       5, 0, 4, 5, 5, 0, 1, 3, 4, 3, 1, 4, 3, 4, 1, 4, 2, 2, 4, 4, 3, 0,\n",
              "       3, 5, 4, 2, 3, 2, 3, 2, 0])"
            ]
          },
          "metadata": {},
          "execution_count": 20
        }
      ]
    },
    {
      "cell_type": "code",
      "source": [
        "\n",
        "from sklearn.metrics import classification_report, confusion_matrix,accuracy_score\n",
        "import seaborn as sn\n",
        "import pandas as pd\n",
        "import numpy as np\n",
        "new_labels=np.argmax(labels_test, axis=1)\n",
        "print(classification_report(new_labels,new_preds))\n",
        "\n",
        "acc = float(accuracy_score(new_labels,new_preds))*100\n",
        "print(\"----accuracy score %s ----\" % acc)\n",
        "\n",
        "cm = confusion_matrix(new_labels,new_preds)\n",
        "#df_cm = pd.DataFrame(cm)\n",
        "class_names = ['neutral','calm', 'happy','sad','angry', 'fearful' ]\n",
        "df_cm = pd.DataFrame(cm, index=class_names, columns=class_names,)\n",
        "sn.heatmap(df_cm, annot=True, fmt='')\n",
        "plt.show()\n"
      ],
      "metadata": {
        "colab": {
          "base_uri": "https://localhost:8080/",
          "height": 508
        },
        "id": "cTET95L8RoVW",
        "outputId": "e2b972ae-ff08-4840-b3cf-1ed872ec5a74"
      },
      "execution_count": 21,
      "outputs": [
        {
          "output_type": "stream",
          "name": "stdout",
          "text": [
            "              precision    recall  f1-score   support\n",
            "\n",
            "           0       0.69      0.81      0.75        27\n",
            "           1       0.96      0.57      0.71        44\n",
            "           2       0.79      0.97      0.87        32\n",
            "           3       0.70      0.84      0.77        37\n",
            "           4       0.83      0.78      0.81        32\n",
            "           5       0.81      0.83      0.82        35\n",
            "\n",
            "    accuracy                           0.79       207\n",
            "   macro avg       0.80      0.80      0.79       207\n",
            "weighted avg       0.81      0.79      0.78       207\n",
            "\n",
            "----accuracy score 78.74396135265701 ----\n"
          ]
        },
        {
          "output_type": "display_data",
          "data": {
            "text/plain": [
              "<Figure size 432x288 with 2 Axes>"
            ],
            "image/png": "[encoded data removed]"
          },
          "metadata": {
            "needs_background": "light"
          }
        }
      ]
    },
    {
      "cell_type": "code",
      "source": [
        ""
      ],
      "metadata": {
        "id": "c3nbyK6BfnDR"
      },
      "execution_count": null,
      "outputs": []
    }
  ]
}