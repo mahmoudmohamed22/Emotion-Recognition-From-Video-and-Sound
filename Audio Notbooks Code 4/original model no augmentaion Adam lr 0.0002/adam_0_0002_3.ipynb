{
  "nbformat": 4,
  "nbformat_minor": 0,
  "metadata": {
    "colab": {
      "name": "ramadan adam 0.0002 3.ipynb",
      "provenance": [],
      "collapsed_sections": []
    },
    "kernelspec": {
      "name": "python3",
      "display_name": "Python 3"
    },
    "language_info": {
      "name": "python"
    },
    "accelerator": "GPU"
  },
  "cells": [
    {
      "cell_type": "code",
      "execution_count": 1,
      "metadata": {
        "colab": {
          "base_uri": "https://localhost:8080/"
        },
        "id": "9SRCO-a_AlH5",
        "outputId": "fb0b6889-f155-4869-c35d-58d2d17adb5c"
      },
      "outputs": [
        {
          "output_type": "stream",
          "name": "stdout",
          "text": [
            "Drive already mounted at /content/drive; to attempt to forcibly remount, call drive.mount(\"/content/drive\", force_remount=True).\n"
          ]
        }
      ],
      "source": [
        "from google.colab import drive\n",
        "drive.mount('/content/drive')"
      ]
    },
    {
      "cell_type": "code",
      "source": [
        "!pip install librosa"
      ],
      "metadata": {
        "colab": {
          "base_uri": "https://localhost:8080/"
        },
        "id": "oi8pWV3yBVjO",
        "outputId": "0193c2da-521b-435a-a03d-6ded2cb1d2bb"
      },
      "execution_count": 2,
      "outputs": [
        {
          "output_type": "stream",
          "name": "stdout",
          "text": [
            "Looking in indexes: https://pypi.org/simple, https://us-python.pkg.dev/colab-wheels/public/simple/\n",
            "Requirement already satisfied: librosa in /usr/local/lib/python3.7/dist-packages (0.8.1)\n",
            "Requirement already satisfied: numpy>=1.15.0 in /usr/local/lib/python3.7/dist-packages (from librosa) (1.21.6)\n",
            "Requirement already satisfied: scikit-learn!=0.19.0,>=0.14.0 in /usr/local/lib/python3.7/dist-packages (from librosa) (1.0.2)\n",
            "Requirement already satisfied: numba>=0.43.0 in /usr/local/lib/python3.7/dist-packages (from librosa) (0.51.2)\n",
            "Requirement already satisfied: scipy>=1.0.0 in /usr/local/lib/python3.7/dist-packages (from librosa) (1.4.1)\n",
            "Requirement already satisfied: packaging>=20.0 in /usr/local/lib/python3.7/dist-packages (from librosa) (21.3)\n",
            "Requirement already satisfied: audioread>=2.0.0 in /usr/local/lib/python3.7/dist-packages (from librosa) (2.1.9)\n",
            "Requirement already satisfied: joblib>=0.14 in /usr/local/lib/python3.7/dist-packages (from librosa) (1.1.0)\n",
            "Requirement already satisfied: pooch>=1.0 in /usr/local/lib/python3.7/dist-packages (from librosa) (1.6.0)\n",
            "Requirement already satisfied: resampy>=0.2.2 in /usr/local/lib/python3.7/dist-packages (from librosa) (0.2.2)\n",
            "Requirement already satisfied: decorator>=3.0.0 in /usr/local/lib/python3.7/dist-packages (from librosa) (4.4.2)\n",
            "Requirement already satisfied: soundfile>=0.10.2 in /usr/local/lib/python3.7/dist-packages (from librosa) (0.10.3.post1)\n",
            "Requirement already satisfied: llvmlite<0.35,>=0.34.0.dev0 in /usr/local/lib/python3.7/dist-packages (from numba>=0.43.0->librosa) (0.34.0)\n",
            "Requirement already satisfied: setuptools in /usr/local/lib/python3.7/dist-packages (from numba>=0.43.0->librosa) (57.4.0)\n",
            "Requirement already satisfied: pyparsing!=3.0.5,>=2.0.2 in /usr/local/lib/python3.7/dist-packages (from packaging>=20.0->librosa) (3.0.9)\n",
            "Requirement already satisfied: appdirs>=1.3.0 in /usr/local/lib/python3.7/dist-packages (from pooch>=1.0->librosa) (1.4.4)\n",
            "Requirement already satisfied: requests>=2.19.0 in /usr/local/lib/python3.7/dist-packages (from pooch>=1.0->librosa) (2.23.0)\n",
            "Requirement already satisfied: certifi>=2017.4.17 in /usr/local/lib/python3.7/dist-packages (from requests>=2.19.0->pooch>=1.0->librosa) (2022.5.18.1)\n",
            "Requirement already satisfied: chardet<4,>=3.0.2 in /usr/local/lib/python3.7/dist-packages (from requests>=2.19.0->pooch>=1.0->librosa) (3.0.4)\n",
            "Requirement already satisfied: urllib3!=1.25.0,!=1.25.1,<1.26,>=1.21.1 in /usr/local/lib/python3.7/dist-packages (from requests>=2.19.0->pooch>=1.0->librosa) (1.24.3)\n",
            "Requirement already satisfied: idna<3,>=2.5 in /usr/local/lib/python3.7/dist-packages (from requests>=2.19.0->pooch>=1.0->librosa) (2.10)\n",
            "Requirement already satisfied: six>=1.3 in /usr/local/lib/python3.7/dist-packages (from resampy>=0.2.2->librosa) (1.15.0)\n",
            "Requirement already satisfied: threadpoolctl>=2.0.0 in /usr/local/lib/python3.7/dist-packages (from scikit-learn!=0.19.0,>=0.14.0->librosa) (3.1.0)\n",
            "Requirement already satisfied: cffi>=1.0 in /usr/local/lib/python3.7/dist-packages (from soundfile>=0.10.2->librosa) (1.15.0)\n",
            "Requirement already satisfied: pycparser in /usr/local/lib/python3.7/dist-packages (from cffi>=1.0->soundfile>=0.10.2->librosa) (2.21)\n"
          ]
        }
      ]
    },
    {
      "cell_type": "code",
      "metadata": {
        "id": "HJjcbxwy46bG",
        "colab": {
          "base_uri": "https://localhost:8080/",
          "height": 17
        },
        "outputId": "831d03c2-0c2e-47d3-9a16-ef986993e82f"
      },
      "source": [
        "# Orignial Notebook: https://github.com/MITESHPUTHRANNEU/Speech-Emotion-Analyzer/blob/master/final_results_gender_test.ipynb\n",
        "# This notebook author: Reza Chu\n",
        "# Last Editing Date: 31st May 2019\n",
        "\n",
        "## Python\n",
        "import os\n",
        "import random\n",
        "import sys\n",
        "\n",
        "import IPython\n",
        "from IPython.display import Audio\n",
        "from IPython.display import Image\n",
        "import matplotlib.pyplot as plt\n",
        "\n",
        "## Package\n",
        "import glob \n",
        "import keras\n",
        "import IPython.display as ipd\n",
        "import librosa\n",
        "import librosa.display\n",
        "import matplotlib.pyplot as plt\n",
        "import numpy as np\n",
        "import pandas as pd\n",
        "import plotly.graph_objs as go\n",
        "import plotly.offline as py\n",
        "import plotly.tools as tls\n",
        "import seaborn as sns\n",
        "import scipy.io.wavfile\n",
        "import tensorflow as tf\n",
        "py.init_notebook_mode(connected=True)\n",
        "\n",
        "## Keras\n",
        "from keras import regularizers\n",
        "from keras.callbacks import ModelCheckpoint, LearningRateScheduler, EarlyStopping\n",
        "from keras.callbacks import  History, ReduceLROnPlateau, CSVLogger\n",
        "from keras.models import Model, Sequential\n",
        "from keras.layers import Dense, Embedding, LSTM\n",
        "from keras.layers import Input, Flatten, Dropout, Activation, BatchNormalization\n",
        "from keras.layers import Conv1D, MaxPooling1D, AveragePooling1D\n",
        "from keras.preprocessing import sequence\n",
        "from keras.preprocessing.sequence import pad_sequences\n",
        "from keras.preprocessing.text import Tokenizer\n",
        "from keras.utils import np_utils\n",
        "from tensorflow.keras.utils import to_categorical\n",
        "\n",
        "## Sklearn\n",
        "from sklearn.metrics import confusion_matrix\n",
        "from sklearn.preprocessing import LabelEncoder\n",
        "\n",
        "## Rest\n",
        "from scipy.fftpack import fft\n",
        "from scipy import signal\n",
        "from scipy.io import wavfile\n",
        "from tqdm import tqdm\n",
        "\n",
        "input_duration=3\n",
        "# % pylab inline"
      ],
      "execution_count": 3,
      "outputs": [
        {
          "output_type": "display_data",
          "data": {
            "text/html": [
              "        <script type=\"text/javascript\">\n",
              "        window.PlotlyConfig = {MathJaxConfig: 'local'};\n",
              "        if (window.MathJax) {MathJax.Hub.Config({SVG: {font: \"STIX-Web\"}});}\n",
              "        if (typeof require !== 'undefined') {\n",
              "        require.undef(\"plotly\");\n",
              "        requirejs.config({\n",
              "            paths: {\n",
              "                'plotly': ['https://cdn.plot.ly/plotly-2.8.3.min']\n",
              "            }\n",
              "        });\n",
              "        require(['plotly'], function(Plotly) {\n",
              "            window._Plotly = Plotly;\n",
              "        });\n",
              "        }\n",
              "        </script>\n",
              "        "
            ]
          },
          "metadata": {}
        }
      ]
    },
    {
      "cell_type": "code",
      "source": [
        "#radvass speech and song\n",
        "import time\n",
        "import os\n",
        "import librosa\n",
        "from librosa import display\n",
        "import matplotlib.pyplot as plt\n",
        "\n",
        "count=0\n",
        "path1 = '/content/drive/MyDrive/RAVDESS_speech'\n",
        "path2 = '/content/drive/MyDrive/RAVDESS_song'\n",
        "\n",
        "lst = []\n",
        "\n",
        "start_time = time.time()\n",
        "\n",
        "for subdir, dirs, files in os.walk(path2):\n",
        "  print(dirs)\n",
        "  print(subdir)\n",
        "  #print(files)\n",
        "  for file in files:\n",
        "      try:\n",
        "        count +=1\n",
        "        #Load librosa array, obtain mfcss, store the file and the mcss information in a new array\n",
        "        X, sample_rate = librosa.load(os.path.join(subdir,file), res_type='kaiser_fast')\n",
        "        mfccs = np.mean(librosa.feature.mfcc(y=X, sr=sample_rate, n_mfcc=40).T,axis=0) \n",
        "        # The instruction below converts the labels (from 1 to 8) to a series from 0 to 7\n",
        "        # This is because our predictor needs to start from 0 otherwise it will try to predict also 0.\n",
        "        file = int(file[7:8]) - 1 \n",
        "        arr = mfccs, file\n",
        "        lst.append(arr)\n",
        "      # If the file is not valid, skip it\n",
        "      except ValueError:\n",
        "        continue\n",
        "\n",
        "for subdir, dirs, files in os.walk(path1):\n",
        "  print(dirs)\n",
        "  print(subdir)\n",
        " # print(files)\n",
        "  for file in files:\n",
        "      try:\n",
        "        #Load librosa array, obtain mfcss, store the file and the mcss information in a new array\n",
        "        X, sample_rate = librosa.load(os.path.join(subdir,file), res_type='kaiser_fast')\n",
        "        mfccs = np.mean(librosa.feature.mfcc(y=X, sr=sample_rate, n_mfcc=40).T,axis=0) \n",
        "        # The instruction below converts the labels (from 1 to 8) to a series from 0 to 7\n",
        "        # This is because our predictor needs to start from 0 otherwise it will try to predict also 0.\n",
        "        file = int(file[7:8]) - 1 \n",
        "        if(file ==6 or file==7):\n",
        "          continue\n",
        "        count +=1\n",
        "        arr = mfccs, file\n",
        "        lst.append(arr)\n",
        "      # If the file is not valid, skip it\n",
        "      except ValueError:\n",
        "        continue\n",
        "\n",
        "\n",
        "\n",
        "print(\"--- Data loaded. Loading time: %s seconds ---\" % (time.time() - start_time))"
      ],
      "metadata": {
        "colab": {
          "base_uri": "https://localhost:8080/"
        },
        "id": "IfuyRZl42ccZ",
        "outputId": "4d4b951e-feef-4742-fc61-c4f756835bd2"
      },
      "execution_count": 4,
      "outputs": [
        {
          "output_type": "stream",
          "name": "stdout",
          "text": [
            "['Actor_10', 'Actor_11', 'Actor_13', 'Actor_12', 'Actor_14', 'Actor_15', 'Actor_16', 'Actor_17', 'Actor_18', 'Actor_19', 'Actor_21', 'Actor_22', 'Actor_23', 'Actor_09', 'Actor_24', 'Actor_04', 'Actor_08', 'Actor_03', 'Actor_02', 'Actor_06', 'Actor_05', 'Actor_01', 'Actor_07', 'Actor_20']\n",
            "/content/drive/MyDrive/RAVDESS_song\n",
            "[]\n",
            "/content/drive/MyDrive/RAVDESS_song/Actor_10\n",
            "[]\n",
            "/content/drive/MyDrive/RAVDESS_song/Actor_11\n",
            "[]\n",
            "/content/drive/MyDrive/RAVDESS_song/Actor_13\n",
            "[]\n",
            "/content/drive/MyDrive/RAVDESS_song/Actor_12\n",
            "[]\n",
            "/content/drive/MyDrive/RAVDESS_song/Actor_14\n",
            "[]\n",
            "/content/drive/MyDrive/RAVDESS_song/Actor_15\n",
            "[]\n",
            "/content/drive/MyDrive/RAVDESS_song/Actor_16\n",
            "[]\n",
            "/content/drive/MyDrive/RAVDESS_song/Actor_17\n",
            "[]\n",
            "/content/drive/MyDrive/RAVDESS_song/Actor_18\n",
            "[]\n",
            "/content/drive/MyDrive/RAVDESS_song/Actor_19\n",
            "[]\n",
            "/content/drive/MyDrive/RAVDESS_song/Actor_21\n",
            "[]\n",
            "/content/drive/MyDrive/RAVDESS_song/Actor_22\n",
            "[]\n",
            "/content/drive/MyDrive/RAVDESS_song/Actor_23\n",
            "[]\n",
            "/content/drive/MyDrive/RAVDESS_song/Actor_09\n",
            "[]\n",
            "/content/drive/MyDrive/RAVDESS_song/Actor_24\n",
            "[]\n",
            "/content/drive/MyDrive/RAVDESS_song/Actor_04\n",
            "[]\n",
            "/content/drive/MyDrive/RAVDESS_song/Actor_08\n",
            "[]\n",
            "/content/drive/MyDrive/RAVDESS_song/Actor_03\n",
            "[]\n",
            "/content/drive/MyDrive/RAVDESS_song/Actor_02\n",
            "[]\n",
            "/content/drive/MyDrive/RAVDESS_song/Actor_06\n",
            "[]\n",
            "/content/drive/MyDrive/RAVDESS_song/Actor_05\n",
            "[]\n",
            "/content/drive/MyDrive/RAVDESS_song/Actor_01\n",
            "[]\n",
            "/content/drive/MyDrive/RAVDESS_song/Actor_07\n",
            "[]\n",
            "/content/drive/MyDrive/RAVDESS_song/Actor_20\n",
            "['Actor_05', 'Actor_08', 'Actor_10', 'Actor_04', 'Actor_09', 'Actor_14', 'Actor_12', 'Actor_13', 'Actor_11', 'Actor_06', 'Actor_24', 'Actor_07', 'Actor_23', 'Actor_22', 'Actor_21', 'Actor_20', 'Actor_02', 'Actor_19', 'Actor_18', 'Actor_17', 'Actor_16', 'Actor_15', 'Actor_03', 'Actor_01']\n",
            "/content/drive/MyDrive/RAVDESS_speech\n",
            "[]\n",
            "/content/drive/MyDrive/RAVDESS_speech/Actor_05\n",
            "[]\n",
            "/content/drive/MyDrive/RAVDESS_speech/Actor_08\n",
            "[]\n",
            "/content/drive/MyDrive/RAVDESS_speech/Actor_10\n",
            "[]\n",
            "/content/drive/MyDrive/RAVDESS_speech/Actor_04\n",
            "[]\n",
            "/content/drive/MyDrive/RAVDESS_speech/Actor_09\n",
            "[]\n",
            "/content/drive/MyDrive/RAVDESS_speech/Actor_14\n",
            "[]\n",
            "/content/drive/MyDrive/RAVDESS_speech/Actor_12\n",
            "[]\n",
            "/content/drive/MyDrive/RAVDESS_speech/Actor_13\n",
            "[]\n",
            "/content/drive/MyDrive/RAVDESS_speech/Actor_11\n",
            "[]\n",
            "/content/drive/MyDrive/RAVDESS_speech/Actor_06\n",
            "[]\n",
            "/content/drive/MyDrive/RAVDESS_speech/Actor_24\n",
            "[]\n",
            "/content/drive/MyDrive/RAVDESS_speech/Actor_07\n",
            "[]\n",
            "/content/drive/MyDrive/RAVDESS_speech/Actor_23\n",
            "[]\n",
            "/content/drive/MyDrive/RAVDESS_speech/Actor_22\n",
            "[]\n",
            "/content/drive/MyDrive/RAVDESS_speech/Actor_21\n",
            "[]\n",
            "/content/drive/MyDrive/RAVDESS_speech/Actor_20\n",
            "[]\n",
            "/content/drive/MyDrive/RAVDESS_speech/Actor_02\n",
            "[]\n",
            "/content/drive/MyDrive/RAVDESS_speech/Actor_19\n",
            "[]\n",
            "/content/drive/MyDrive/RAVDESS_speech/Actor_18\n",
            "[]\n",
            "/content/drive/MyDrive/RAVDESS_speech/Actor_17\n",
            "[]\n",
            "/content/drive/MyDrive/RAVDESS_speech/Actor_16\n",
            "[]\n",
            "/content/drive/MyDrive/RAVDESS_speech/Actor_15\n",
            "[]\n",
            "/content/drive/MyDrive/RAVDESS_speech/Actor_03\n",
            "[]\n",
            "/content/drive/MyDrive/RAVDESS_speech/Actor_01\n",
            "--- Data loaded. Loading time: 209.39799165725708 seconds ---\n"
          ]
        }
      ]
    },
    {
      "cell_type": "code",
      "source": [
        "count"
      ],
      "metadata": {
        "id": "Ltlhi25L2AI5",
        "colab": {
          "base_uri": "https://localhost:8080/"
        },
        "outputId": "d6ebf24c-fbc4-4aea-87b4-d5c9178b7d1d"
      },
      "execution_count": 5,
      "outputs": [
        {
          "output_type": "execute_result",
          "data": {
            "text/plain": [
              "2068"
            ]
          },
          "metadata": {},
          "execution_count": 5
        }
      ]
    },
    {
      "cell_type": "code",
      "source": [
        "from numpy.core.fromnumeric import size\n",
        "size(lst)"
      ],
      "metadata": {
        "id": "HMOH7d7mzHB7",
        "colab": {
          "base_uri": "https://localhost:8080/"
        },
        "outputId": "bd48f706-b38c-4911-8945-d8e5c32be186"
      },
      "execution_count": 6,
      "outputs": [
        {
          "output_type": "stream",
          "name": "stderr",
          "text": [
            "/usr/local/lib/python3.7/dist-packages/numpy/core/fromnumeric.py:3208: VisibleDeprecationWarning:\n",
            "\n",
            "Creating an ndarray from ragged nested sequences (which is a list-or-tuple of lists-or-tuples-or ndarrays with different lengths or shapes) is deprecated. If you meant to do this, you must specify 'dtype=object' when creating the ndarray.\n",
            "\n"
          ]
        },
        {
          "output_type": "execute_result",
          "data": {
            "text/plain": [
              "4136"
            ]
          },
          "metadata": {},
          "execution_count": 6
        }
      ]
    },
    {
      "cell_type": "code",
      "source": [
        "# Creating X and y: zip makes a list of all the first elements, and a list of all the second elements.\n",
        "X, y = zip(*lst)"
      ],
      "metadata": {
        "id": "ocdL7tSTBoMt"
      },
      "execution_count": 7,
      "outputs": []
    },
    {
      "cell_type": "code",
      "source": [
        "import numpy as np\n",
        "X = np.asarray(X)\n",
        "y = np.asarray(y)\n",
        "X.shape, y.shape"
      ],
      "metadata": {
        "id": "vHKwUGTbBtnF",
        "colab": {
          "base_uri": "https://localhost:8080/"
        },
        "outputId": "f1f12bdd-b3d8-4abc-e592-63e3dbc3bf47"
      },
      "execution_count": 8,
      "outputs": [
        {
          "output_type": "execute_result",
          "data": {
            "text/plain": [
              "((2068, 40), (2068,))"
            ]
          },
          "metadata": {},
          "execution_count": 8
        }
      ]
    },
    {
      "cell_type": "code",
      "source": [
        "X.shape"
      ],
      "metadata": {
        "id": "2sUCtbfMztE5",
        "colab": {
          "base_uri": "https://localhost:8080/"
        },
        "outputId": "f6886efb-7792-4131-d94c-86bdf8e3d6d9"
      },
      "execution_count": 9,
      "outputs": [
        {
          "output_type": "execute_result",
          "data": {
            "text/plain": [
              "(2068, 40)"
            ]
          },
          "metadata": {},
          "execution_count": 9
        }
      ]
    },
    {
      "cell_type": "code",
      "source": [
        "# # Saving joblib files to not load them again with the loop above\n",
        "\n",
        "# import joblib\n",
        "\n",
        "# X_name = 'x.joblib'\n",
        "# y_name = 'y.joblib'\n",
        "# save_dir = '/content/drive/My Drive/graduation project/audio/paper_code/features'\n",
        "\n",
        "# savedX = joblib.dump(X, os.path.join(save_dir, X_name))\n",
        "# savedy = joblib.dump(y, os.path.join(save_dir, y_name))"
      ],
      "metadata": {
        "id": "UCzic8rlDcuk"
      },
      "execution_count": 10,
      "outputs": []
    },
    {
      "cell_type": "code",
      "source": [
        "# # Loading saved models\n",
        "# import joblib\n",
        "# X = joblib.load('/content/drive/My Drive/graduation project/audio/paper_code/features/x.joblib')\n",
        "# y = joblib.load('/content/drive/My Drive/graduation project/audio/paper_code/features/y.joblib')"
      ],
      "metadata": {
        "id": "Q35CN6zDrzg1"
      },
      "execution_count": 11,
      "outputs": []
    },
    {
      "cell_type": "code",
      "source": [
        "X.shape"
      ],
      "metadata": {
        "colab": {
          "base_uri": "https://localhost:8080/"
        },
        "id": "7PSTurzjCo5K",
        "outputId": "88da6ed9-229a-4647-c946-6073b9d9ffcc"
      },
      "execution_count": 12,
      "outputs": [
        {
          "output_type": "execute_result",
          "data": {
            "text/plain": [
              "(2068, 40)"
            ]
          },
          "metadata": {},
          "execution_count": 12
        }
      ]
    },
    {
      "cell_type": "code",
      "source": [
        "from sklearn.model_selection import train_test_split\n",
        "\n",
        "X_train, X_test, y_train, y_test = train_test_split(X,y, test_size=0.2,train_size=0.8, random_state=42)\n",
        "X_valid, X_test, y_valid, y_test = train_test_split(X_test,y_test, test_size=0.5,train_size=0.5, random_state=42)"
      ],
      "metadata": {
        "id": "Ai4Fy5cPCiq1"
      },
      "execution_count": 13,
      "outputs": []
    },
    {
      "cell_type": "code",
      "source": [
        "import numpy as np\n",
        "x_traincnn = np.expand_dims(X_train, axis=2)\n",
        "x_testcnn = np.expand_dims(X_test, axis=2)\n",
        "X_valid= np.expand_dims(X_valid, axis=2)"
      ],
      "metadata": {
        "id": "tp1Fm5K3CEXu"
      },
      "execution_count": 14,
      "outputs": []
    },
    {
      "cell_type": "code",
      "source": [
        "x_traincnn.shape, x_testcnn.shape , X_valid.shape"
      ],
      "metadata": {
        "id": "RI0MxoIPBws5",
        "colab": {
          "base_uri": "https://localhost:8080/"
        },
        "outputId": "4e457a17-c466-4528-d1cf-3d2eee256bb9"
      },
      "execution_count": 15,
      "outputs": [
        {
          "output_type": "execute_result",
          "data": {
            "text/plain": [
              "((1654, 40, 1), (207, 40, 1), (207, 40, 1))"
            ]
          },
          "metadata": {},
          "execution_count": 15
        }
      ]
    },
    {
      "cell_type": "code",
      "source": [
        "!pip install tensorflow"
      ],
      "metadata": {
        "id": "goxL4Y3jKICC",
        "colab": {
          "base_uri": "https://localhost:8080/"
        },
        "outputId": "b8887b52-ea42-41d0-948d-f28ccb0ab4fb"
      },
      "execution_count": 16,
      "outputs": [
        {
          "output_type": "stream",
          "name": "stdout",
          "text": [
            "Looking in indexes: https://pypi.org/simple, https://us-python.pkg.dev/colab-wheels/public/simple/\n",
            "Requirement already satisfied: tensorflow in /usr/local/lib/python3.7/dist-packages (2.8.2+zzzcolab20220527125636)\n",
            "Requirement already satisfied: numpy>=1.20 in /usr/local/lib/python3.7/dist-packages (from tensorflow) (1.21.6)\n",
            "Requirement already satisfied: protobuf<3.20,>=3.9.2 in /usr/local/lib/python3.7/dist-packages (from tensorflow) (3.17.3)\n",
            "Requirement already satisfied: keras-preprocessing>=1.1.1 in /usr/local/lib/python3.7/dist-packages (from tensorflow) (1.1.2)\n",
            "Requirement already satisfied: tensorflow-estimator<2.9,>=2.8 in /usr/local/lib/python3.7/dist-packages (from tensorflow) (2.8.0)\n",
            "Requirement already satisfied: wrapt>=1.11.0 in /usr/local/lib/python3.7/dist-packages (from tensorflow) (1.14.1)\n",
            "Requirement already satisfied: libclang>=9.0.1 in /usr/local/lib/python3.7/dist-packages (from tensorflow) (14.0.1)\n",
            "Requirement already satisfied: grpcio<2.0,>=1.24.3 in /usr/local/lib/python3.7/dist-packages (from tensorflow) (1.46.3)\n",
            "Requirement already satisfied: termcolor>=1.1.0 in /usr/local/lib/python3.7/dist-packages (from tensorflow) (1.1.0)\n",
            "Requirement already satisfied: opt-einsum>=2.3.2 in /usr/local/lib/python3.7/dist-packages (from tensorflow) (3.3.0)\n",
            "Requirement already satisfied: six>=1.12.0 in /usr/local/lib/python3.7/dist-packages (from tensorflow) (1.15.0)\n",
            "Requirement already satisfied: absl-py>=0.4.0 in /usr/local/lib/python3.7/dist-packages (from tensorflow) (1.0.0)\n",
            "Requirement already satisfied: flatbuffers>=1.12 in /usr/local/lib/python3.7/dist-packages (from tensorflow) (2.0)\n",
            "Requirement already satisfied: astunparse>=1.6.0 in /usr/local/lib/python3.7/dist-packages (from tensorflow) (1.6.3)\n",
            "Requirement already satisfied: typing-extensions>=3.6.6 in /usr/local/lib/python3.7/dist-packages (from tensorflow) (4.2.0)\n",
            "Requirement already satisfied: keras<2.9,>=2.8.0rc0 in /usr/local/lib/python3.7/dist-packages (from tensorflow) (2.8.0)\n",
            "Requirement already satisfied: tensorflow-io-gcs-filesystem>=0.23.1 in /usr/local/lib/python3.7/dist-packages (from tensorflow) (0.26.0)\n",
            "Requirement already satisfied: google-pasta>=0.1.1 in /usr/local/lib/python3.7/dist-packages (from tensorflow) (0.2.0)\n",
            "Requirement already satisfied: setuptools in /usr/local/lib/python3.7/dist-packages (from tensorflow) (57.4.0)\n",
            "Requirement already satisfied: h5py>=2.9.0 in /usr/local/lib/python3.7/dist-packages (from tensorflow) (3.1.0)\n",
            "Requirement already satisfied: gast>=0.2.1 in /usr/local/lib/python3.7/dist-packages (from tensorflow) (0.5.3)\n",
            "Requirement already satisfied: tensorboard<2.9,>=2.8 in /usr/local/lib/python3.7/dist-packages (from tensorflow) (2.8.0)\n",
            "Requirement already satisfied: wheel<1.0,>=0.23.0 in /usr/local/lib/python3.7/dist-packages (from astunparse>=1.6.0->tensorflow) (0.37.1)\n",
            "Requirement already satisfied: cached-property in /usr/local/lib/python3.7/dist-packages (from h5py>=2.9.0->tensorflow) (1.5.2)\n",
            "Requirement already satisfied: requests<3,>=2.21.0 in /usr/local/lib/python3.7/dist-packages (from tensorboard<2.9,>=2.8->tensorflow) (2.23.0)\n",
            "Requirement already satisfied: tensorboard-plugin-wit>=1.6.0 in /usr/local/lib/python3.7/dist-packages (from tensorboard<2.9,>=2.8->tensorflow) (1.8.1)\n",
            "Requirement already satisfied: google-auth<3,>=1.6.3 in /usr/local/lib/python3.7/dist-packages (from tensorboard<2.9,>=2.8->tensorflow) (1.35.0)\n",
            "Requirement already satisfied: tensorboard-data-server<0.7.0,>=0.6.0 in /usr/local/lib/python3.7/dist-packages (from tensorboard<2.9,>=2.8->tensorflow) (0.6.1)\n",
            "Requirement already satisfied: werkzeug>=0.11.15 in /usr/local/lib/python3.7/dist-packages (from tensorboard<2.9,>=2.8->tensorflow) (1.0.1)\n",
            "Requirement already satisfied: markdown>=2.6.8 in /usr/local/lib/python3.7/dist-packages (from tensorboard<2.9,>=2.8->tensorflow) (3.3.7)\n",
            "Requirement already satisfied: google-auth-oauthlib<0.5,>=0.4.1 in /usr/local/lib/python3.7/dist-packages (from tensorboard<2.9,>=2.8->tensorflow) (0.4.6)\n",
            "Requirement already satisfied: cachetools<5.0,>=2.0.0 in /usr/local/lib/python3.7/dist-packages (from google-auth<3,>=1.6.3->tensorboard<2.9,>=2.8->tensorflow) (4.2.4)\n",
            "Requirement already satisfied: rsa<5,>=3.1.4 in /usr/local/lib/python3.7/dist-packages (from google-auth<3,>=1.6.3->tensorboard<2.9,>=2.8->tensorflow) (4.8)\n",
            "Requirement already satisfied: pyasn1-modules>=0.2.1 in /usr/local/lib/python3.7/dist-packages (from google-auth<3,>=1.6.3->tensorboard<2.9,>=2.8->tensorflow) (0.2.8)\n",
            "Requirement already satisfied: requests-oauthlib>=0.7.0 in /usr/local/lib/python3.7/dist-packages (from google-auth-oauthlib<0.5,>=0.4.1->tensorboard<2.9,>=2.8->tensorflow) (1.3.1)\n",
            "Requirement already satisfied: importlib-metadata>=4.4 in /usr/local/lib/python3.7/dist-packages (from markdown>=2.6.8->tensorboard<2.9,>=2.8->tensorflow) (4.11.4)\n",
            "Requirement already satisfied: zipp>=0.5 in /usr/local/lib/python3.7/dist-packages (from importlib-metadata>=4.4->markdown>=2.6.8->tensorboard<2.9,>=2.8->tensorflow) (3.8.0)\n",
            "Requirement already satisfied: pyasn1<0.5.0,>=0.4.6 in /usr/local/lib/python3.7/dist-packages (from pyasn1-modules>=0.2.1->google-auth<3,>=1.6.3->tensorboard<2.9,>=2.8->tensorflow) (0.4.8)\n",
            "Requirement already satisfied: certifi>=2017.4.17 in /usr/local/lib/python3.7/dist-packages (from requests<3,>=2.21.0->tensorboard<2.9,>=2.8->tensorflow) (2022.5.18.1)\n",
            "Requirement already satisfied: chardet<4,>=3.0.2 in /usr/local/lib/python3.7/dist-packages (from requests<3,>=2.21.0->tensorboard<2.9,>=2.8->tensorflow) (3.0.4)\n",
            "Requirement already satisfied: urllib3!=1.25.0,!=1.25.1,<1.26,>=1.21.1 in /usr/local/lib/python3.7/dist-packages (from requests<3,>=2.21.0->tensorboard<2.9,>=2.8->tensorflow) (1.24.3)\n",
            "Requirement already satisfied: idna<3,>=2.5 in /usr/local/lib/python3.7/dist-packages (from requests<3,>=2.21.0->tensorboard<2.9,>=2.8->tensorflow) (2.10)\n",
            "Requirement already satisfied: oauthlib>=3.0.0 in /usr/local/lib/python3.7/dist-packages (from requests-oauthlib>=0.7.0->google-auth-oauthlib<0.5,>=0.4.1->tensorboard<2.9,>=2.8->tensorflow) (3.2.0)\n"
          ]
        }
      ]
    },
    {
      "cell_type": "code",
      "source": [
        "!pip install keras"
      ],
      "metadata": {
        "id": "EkcmN9UrKSxj",
        "colab": {
          "base_uri": "https://localhost:8080/"
        },
        "outputId": "df62f37f-9dc2-4469-febe-aa9e68951871"
      },
      "execution_count": 17,
      "outputs": [
        {
          "output_type": "stream",
          "name": "stdout",
          "text": [
            "Looking in indexes: https://pypi.org/simple, https://us-python.pkg.dev/colab-wheels/public/simple/\n",
            "Requirement already satisfied: keras in /usr/local/lib/python3.7/dist-packages (2.8.0)\n"
          ]
        }
      ]
    },
    {
      "cell_type": "code",
      "source": [
        "import keras\n",
        "import numpy as np\n",
        "import matplotlib.pyplot as plt\n",
        "import tensorflow as tf\n",
        "from keras.preprocessing import sequence\n",
        "from keras.models import Sequential\n",
        "from keras.layers import Dense, Embedding\n",
        "from tensorflow.keras.utils import to_categorical\n",
        "from keras.layers import Input, Flatten, Dropout, Activation\n",
        "from keras.layers import Conv1D, MaxPooling1D\n",
        "from keras.models import Model\n",
        "from keras.callbacks import ModelCheckpoint\n",
        "from tensorflow.keras import optimizers\n",
        "\n",
        "model = Sequential()\n",
        "\n",
        "model.add(Conv1D(128, 8,padding='same', #classifier.add(Convolution2D(64, (3, 3), padding = 'same', input_shape = (128, 128, 3), activation = 'relu'))\n",
        "                 input_shape=(40,1)))\n",
        "model.add(Activation('relu'))\n",
        "model.add(Dropout(0.3))\n",
        "model.add(MaxPooling1D(pool_size=(5)))\n",
        "\n",
        "\n",
        "model.add(Conv1D(256,8,padding='same',))\n",
        "model.add(Activation('relu'))\n",
        "model.add(Dropout(0.3))\n",
        "model.add(MaxPooling1D(pool_size=(5)))\n",
        "\n",
        "model.add(Flatten())\n",
        "\n",
        "model.add(Dense(256))\n",
        "model.add(Activation('relu'))\n",
        "model.add(Dense(256))\n",
        "model.add(Activation('relu'))\n",
        "\n",
        "model.add(Dense(6))\n",
        "model.add(Activation('softmax'))\n",
        "\n",
        "opt = tf.keras.optimizers.Adam(lr=0.0002)\n",
        "#opt = tf.keras.optimizers.RMSprop(lr=0.0001, rho=0.9, epsilon=1e-07, decay=0.0)\n",
        "#opt = tf.keras.optimizers.SGD(lr=0.001, momentum=0.0, decay=0.0, nesterov=False)"
      ],
      "metadata": {
        "id": "g74fXWVAC4Cr",
        "colab": {
          "base_uri": "https://localhost:8080/"
        },
        "outputId": "5e14501f-b6ee-47c2-a1d3-cc7f3076454c"
      },
      "execution_count": 18,
      "outputs": [
        {
          "output_type": "stream",
          "name": "stderr",
          "text": [
            "/usr/local/lib/python3.7/dist-packages/keras/optimizer_v2/adam.py:105: UserWarning:\n",
            "\n",
            "The `lr` argument is deprecated, use `learning_rate` instead.\n",
            "\n"
          ]
        }
      ]
    },
    {
      "cell_type": "code",
      "source": [
        "model.summary()"
      ],
      "metadata": {
        "colab": {
          "base_uri": "https://localhost:8080/"
        },
        "id": "H6ukOxAGC_I4",
        "outputId": "89aa0906-19a6-415a-c564-c50c7569033d"
      },
      "execution_count": 19,
      "outputs": [
        {
          "output_type": "stream",
          "name": "stdout",
          "text": [
            "Model: \"sequential\"\n",
            "_________________________________________________________________\n",
            " Layer (type)                Output Shape              Param #   \n",
            "=================================================================\n",
            " conv1d (Conv1D)             (None, 40, 128)           1152      \n",
            "                                                                 \n",
            " activation (Activation)     (None, 40, 128)           0         \n",
            "                                                                 \n",
            " dropout (Dropout)           (None, 40, 128)           0         \n",
            "                                                                 \n",
            " max_pooling1d (MaxPooling1D  (None, 8, 128)           0         \n",
            " )                                                               \n",
            "                                                                 \n",
            " conv1d_1 (Conv1D)           (None, 8, 256)            262400    \n",
            "                                                                 \n",
            " activation_1 (Activation)   (None, 8, 256)            0         \n",
            "                                                                 \n",
            " dropout_1 (Dropout)         (None, 8, 256)            0         \n",
            "                                                                 \n",
            " max_pooling1d_1 (MaxPooling  (None, 1, 256)           0         \n",
            " 1D)                                                             \n",
            "                                                                 \n",
            " flatten (Flatten)           (None, 256)               0         \n",
            "                                                                 \n",
            " dense (Dense)               (None, 256)               65792     \n",
            "                                                                 \n",
            " activation_2 (Activation)   (None, 256)               0         \n",
            "                                                                 \n",
            " dense_1 (Dense)             (None, 256)               65792     \n",
            "                                                                 \n",
            " activation_3 (Activation)   (None, 256)               0         \n",
            "                                                                 \n",
            " dense_2 (Dense)             (None, 6)                 1542      \n",
            "                                                                 \n",
            " activation_4 (Activation)   (None, 6)                 0         \n",
            "                                                                 \n",
            "=================================================================\n",
            "Total params: 396,678\n",
            "Trainable params: 396,678\n",
            "Non-trainable params: 0\n",
            "_________________________________________________________________\n"
          ]
        }
      ]
    },
    {
      "cell_type": "code",
      "source": [
        "model.compile(loss='sparse_categorical_crossentropy',\n",
        "              optimizer=opt,\n",
        "              metrics=['accuracy'])"
      ],
      "metadata": {
        "id": "AbMlLNk4DCBM"
      },
      "execution_count": 20,
      "outputs": []
    },
    {
      "cell_type": "code",
      "source": [
        "#cnnhistory=model.fit(x_traincnn, y_train, batch_size=16, epochs=700, validation_data=(x_testcnn, y_test))\n",
        "cnnhistory=model.fit(x_traincnn, y_train, batch_size=16, epochs=500 , validation_data=(X_valid, y_valid))"
      ],
      "metadata": {
        "colab": {
          "base_uri": "https://localhost:8080/"
        },
        "id": "RI1v2AuADFhy",
        "outputId": "62031a9f-b1dd-4ecb-f971-e312ae125ea0"
      },
      "execution_count": 21,
      "outputs": [
        {
          "output_type": "stream",
          "name": "stdout",
          "text": [
            "Epoch 1/500\n",
            "104/104 [==============================] - 4s 9ms/step - loss: 3.9784 - accuracy: 0.1892 - val_loss: 1.8665 - val_accuracy: 0.2029\n",
            "Epoch 2/500\n",
            "104/104 [==============================] - 1s 7ms/step - loss: 2.3255 - accuracy: 0.1977 - val_loss: 1.7990 - val_accuracy: 0.2077\n",
            "Epoch 3/500\n",
            "104/104 [==============================] - 1s 7ms/step - loss: 2.0200 - accuracy: 0.2177 - val_loss: 1.6960 - val_accuracy: 0.2754\n",
            "Epoch 4/500\n",
            "104/104 [==============================] - 1s 7ms/step - loss: 1.9485 - accuracy: 0.2122 - val_loss: 1.7351 - val_accuracy: 0.1932\n",
            "Epoch 5/500\n",
            "104/104 [==============================] - 1s 9ms/step - loss: 1.8539 - accuracy: 0.2231 - val_loss: 1.6752 - val_accuracy: 0.3188\n",
            "Epoch 6/500\n",
            "104/104 [==============================] - 1s 7ms/step - loss: 1.8145 - accuracy: 0.2213 - val_loss: 1.6794 - val_accuracy: 0.2995\n",
            "Epoch 7/500\n",
            "104/104 [==============================] - 1s 9ms/step - loss: 1.8045 - accuracy: 0.2406 - val_loss: 1.7052 - val_accuracy: 0.2899\n",
            "Epoch 8/500\n",
            "104/104 [==============================] - 1s 7ms/step - loss: 1.7469 - accuracy: 0.2437 - val_loss: 1.6990 - val_accuracy: 0.2126\n",
            "Epoch 9/500\n",
            "104/104 [==============================] - 1s 8ms/step - loss: 1.7434 - accuracy: 0.2527 - val_loss: 1.6316 - val_accuracy: 0.3043\n",
            "Epoch 10/500\n",
            "104/104 [==============================] - 1s 7ms/step - loss: 1.6933 - accuracy: 0.2860 - val_loss: 1.6199 - val_accuracy: 0.3140\n",
            "Epoch 11/500\n",
            "104/104 [==============================] - 1s 8ms/step - loss: 1.6653 - accuracy: 0.3029 - val_loss: 1.6202 - val_accuracy: 0.2705\n",
            "Epoch 12/500\n",
            "104/104 [==============================] - 1s 7ms/step - loss: 1.6581 - accuracy: 0.3011 - val_loss: 1.5551 - val_accuracy: 0.3816\n",
            "Epoch 13/500\n",
            "104/104 [==============================] - 1s 7ms/step - loss: 1.6270 - accuracy: 0.3180 - val_loss: 1.6047 - val_accuracy: 0.3285\n",
            "Epoch 14/500\n",
            "104/104 [==============================] - 1s 8ms/step - loss: 1.6389 - accuracy: 0.3180 - val_loss: 1.5663 - val_accuracy: 0.3237\n",
            "Epoch 15/500\n",
            "104/104 [==============================] - 1s 8ms/step - loss: 1.6102 - accuracy: 0.3259 - val_loss: 1.5508 - val_accuracy: 0.3865\n",
            "Epoch 16/500\n",
            "104/104 [==============================] - 1s 8ms/step - loss: 1.6050 - accuracy: 0.3271 - val_loss: 1.5148 - val_accuracy: 0.3720\n",
            "Epoch 17/500\n",
            "104/104 [==============================] - 1s 7ms/step - loss: 1.5363 - accuracy: 0.3640 - val_loss: 1.4691 - val_accuracy: 0.3961\n",
            "Epoch 18/500\n",
            "104/104 [==============================] - 1s 9ms/step - loss: 1.5244 - accuracy: 0.3718 - val_loss: 1.4414 - val_accuracy: 0.4251\n",
            "Epoch 19/500\n",
            "104/104 [==============================] - 1s 8ms/step - loss: 1.4933 - accuracy: 0.3688 - val_loss: 1.4164 - val_accuracy: 0.4734\n",
            "Epoch 20/500\n",
            "104/104 [==============================] - 1s 8ms/step - loss: 1.4961 - accuracy: 0.3857 - val_loss: 1.4459 - val_accuracy: 0.4493\n",
            "Epoch 21/500\n",
            "104/104 [==============================] - 1s 8ms/step - loss: 1.4427 - accuracy: 0.3936 - val_loss: 1.3633 - val_accuracy: 0.4589\n",
            "Epoch 22/500\n",
            "104/104 [==============================] - 1s 9ms/step - loss: 1.4270 - accuracy: 0.4057 - val_loss: 1.3375 - val_accuracy: 0.4686\n",
            "Epoch 23/500\n",
            "104/104 [==============================] - 1s 7ms/step - loss: 1.4119 - accuracy: 0.4141 - val_loss: 1.3459 - val_accuracy: 0.4686\n",
            "Epoch 24/500\n",
            "104/104 [==============================] - 1s 7ms/step - loss: 1.3789 - accuracy: 0.4311 - val_loss: 1.3726 - val_accuracy: 0.4155\n",
            "Epoch 25/500\n",
            "104/104 [==============================] - 1s 8ms/step - loss: 1.3539 - accuracy: 0.4365 - val_loss: 1.3314 - val_accuracy: 0.5024\n",
            "Epoch 26/500\n",
            "104/104 [==============================] - 1s 7ms/step - loss: 1.3183 - accuracy: 0.4752 - val_loss: 1.2392 - val_accuracy: 0.5411\n",
            "Epoch 27/500\n",
            "104/104 [==============================] - 1s 9ms/step - loss: 1.3050 - accuracy: 0.4541 - val_loss: 1.2115 - val_accuracy: 0.5700\n",
            "Epoch 28/500\n",
            "104/104 [==============================] - 1s 7ms/step - loss: 1.2741 - accuracy: 0.4873 - val_loss: 1.2472 - val_accuracy: 0.5314\n",
            "Epoch 29/500\n",
            "104/104 [==============================] - 1s 7ms/step - loss: 1.2602 - accuracy: 0.4728 - val_loss: 1.2263 - val_accuracy: 0.5507\n",
            "Epoch 30/500\n",
            "104/104 [==============================] - 1s 7ms/step - loss: 1.2216 - accuracy: 0.4976 - val_loss: 1.1742 - val_accuracy: 0.5314\n",
            "Epoch 31/500\n",
            "104/104 [==============================] - 1s 7ms/step - loss: 1.2267 - accuracy: 0.4849 - val_loss: 1.1588 - val_accuracy: 0.5894\n",
            "Epoch 32/500\n",
            "104/104 [==============================] - 1s 7ms/step - loss: 1.2073 - accuracy: 0.5006 - val_loss: 1.0980 - val_accuracy: 0.6087\n",
            "Epoch 33/500\n",
            "104/104 [==============================] - 1s 9ms/step - loss: 1.1806 - accuracy: 0.5133 - val_loss: 1.0978 - val_accuracy: 0.5749\n",
            "Epoch 34/500\n",
            "104/104 [==============================] - 1s 8ms/step - loss: 1.1631 - accuracy: 0.5212 - val_loss: 1.0854 - val_accuracy: 0.5797\n",
            "Epoch 35/500\n",
            "104/104 [==============================] - 1s 7ms/step - loss: 1.1557 - accuracy: 0.5230 - val_loss: 1.0645 - val_accuracy: 0.6039\n",
            "Epoch 36/500\n",
            "104/104 [==============================] - 1s 8ms/step - loss: 1.1502 - accuracy: 0.5351 - val_loss: 1.0637 - val_accuracy: 0.5749\n",
            "Epoch 37/500\n",
            "104/104 [==============================] - 1s 6ms/step - loss: 1.1299 - accuracy: 0.5345 - val_loss: 1.0837 - val_accuracy: 0.5942\n",
            "Epoch 38/500\n",
            "104/104 [==============================] - 0s 4ms/step - loss: 1.0937 - accuracy: 0.5641 - val_loss: 1.0666 - val_accuracy: 0.6039\n",
            "Epoch 39/500\n",
            "104/104 [==============================] - 0s 5ms/step - loss: 1.1021 - accuracy: 0.5447 - val_loss: 1.0529 - val_accuracy: 0.6039\n",
            "Epoch 40/500\n",
            "104/104 [==============================] - 0s 5ms/step - loss: 1.0484 - accuracy: 0.5738 - val_loss: 0.9942 - val_accuracy: 0.6039\n",
            "Epoch 41/500\n",
            "104/104 [==============================] - 0s 4ms/step - loss: 1.0429 - accuracy: 0.5520 - val_loss: 1.0143 - val_accuracy: 0.6039\n",
            "Epoch 42/500\n",
            "104/104 [==============================] - 0s 5ms/step - loss: 1.0063 - accuracy: 0.5840 - val_loss: 0.9923 - val_accuracy: 0.6232\n",
            "Epoch 43/500\n",
            "104/104 [==============================] - 0s 5ms/step - loss: 1.0067 - accuracy: 0.5901 - val_loss: 1.0089 - val_accuracy: 0.5894\n",
            "Epoch 44/500\n",
            "104/104 [==============================] - 0s 5ms/step - loss: 0.9918 - accuracy: 0.5973 - val_loss: 0.9516 - val_accuracy: 0.6232\n",
            "Epoch 45/500\n",
            "104/104 [==============================] - 0s 5ms/step - loss: 0.9945 - accuracy: 0.5871 - val_loss: 0.9823 - val_accuracy: 0.6425\n",
            "Epoch 46/500\n",
            "104/104 [==============================] - 0s 4ms/step - loss: 0.9820 - accuracy: 0.6010 - val_loss: 0.9722 - val_accuracy: 0.6329\n",
            "Epoch 47/500\n",
            "104/104 [==============================] - 0s 4ms/step - loss: 0.9991 - accuracy: 0.5961 - val_loss: 0.9425 - val_accuracy: 0.6232\n",
            "Epoch 48/500\n",
            "104/104 [==============================] - 0s 4ms/step - loss: 0.9568 - accuracy: 0.6052 - val_loss: 0.9229 - val_accuracy: 0.6280\n",
            "Epoch 49/500\n",
            "104/104 [==============================] - 0s 4ms/step - loss: 0.9485 - accuracy: 0.6131 - val_loss: 0.9095 - val_accuracy: 0.6232\n",
            "Epoch 50/500\n",
            "104/104 [==============================] - 0s 4ms/step - loss: 0.9346 - accuracy: 0.6215 - val_loss: 0.9148 - val_accuracy: 0.6135\n",
            "Epoch 51/500\n",
            "104/104 [==============================] - 0s 5ms/step - loss: 0.9040 - accuracy: 0.6324 - val_loss: 0.9116 - val_accuracy: 0.6329\n",
            "Epoch 52/500\n",
            "104/104 [==============================] - 0s 4ms/step - loss: 0.9026 - accuracy: 0.6312 - val_loss: 0.9327 - val_accuracy: 0.6715\n",
            "Epoch 53/500\n",
            "104/104 [==============================] - 0s 4ms/step - loss: 0.9188 - accuracy: 0.6360 - val_loss: 0.9327 - val_accuracy: 0.6473\n",
            "Epoch 54/500\n",
            "104/104 [==============================] - 0s 4ms/step - loss: 0.8875 - accuracy: 0.6475 - val_loss: 0.9538 - val_accuracy: 0.5990\n",
            "Epoch 55/500\n",
            "104/104 [==============================] - 0s 5ms/step - loss: 0.8953 - accuracy: 0.6372 - val_loss: 0.8724 - val_accuracy: 0.6618\n",
            "Epoch 56/500\n",
            "104/104 [==============================] - 0s 4ms/step - loss: 0.8824 - accuracy: 0.6372 - val_loss: 0.8851 - val_accuracy: 0.6522\n",
            "Epoch 57/500\n",
            "104/104 [==============================] - 0s 4ms/step - loss: 0.8683 - accuracy: 0.6499 - val_loss: 0.8618 - val_accuracy: 0.6667\n",
            "Epoch 58/500\n",
            "104/104 [==============================] - 0s 5ms/step - loss: 0.8282 - accuracy: 0.6747 - val_loss: 0.8834 - val_accuracy: 0.6280\n",
            "Epoch 59/500\n",
            "104/104 [==============================] - 0s 5ms/step - loss: 0.8439 - accuracy: 0.6602 - val_loss: 0.8458 - val_accuracy: 0.6908\n",
            "Epoch 60/500\n",
            "104/104 [==============================] - 0s 5ms/step - loss: 0.8353 - accuracy: 0.6705 - val_loss: 0.8298 - val_accuracy: 0.6957\n",
            "Epoch 61/500\n",
            "104/104 [==============================] - 0s 5ms/step - loss: 0.8329 - accuracy: 0.6626 - val_loss: 0.8808 - val_accuracy: 0.6425\n",
            "Epoch 62/500\n",
            "104/104 [==============================] - 0s 4ms/step - loss: 0.8056 - accuracy: 0.6747 - val_loss: 0.8862 - val_accuracy: 0.6135\n",
            "Epoch 63/500\n",
            "104/104 [==============================] - 0s 4ms/step - loss: 0.8256 - accuracy: 0.6735 - val_loss: 0.8547 - val_accuracy: 0.6570\n",
            "Epoch 64/500\n",
            "104/104 [==============================] - 0s 4ms/step - loss: 0.7988 - accuracy: 0.6651 - val_loss: 0.8864 - val_accuracy: 0.6473\n",
            "Epoch 65/500\n",
            "104/104 [==============================] - 0s 4ms/step - loss: 0.8180 - accuracy: 0.6657 - val_loss: 0.8466 - val_accuracy: 0.6667\n",
            "Epoch 66/500\n",
            "104/104 [==============================] - 0s 4ms/step - loss: 0.7792 - accuracy: 0.6965 - val_loss: 0.8297 - val_accuracy: 0.6522\n",
            "Epoch 67/500\n",
            "104/104 [==============================] - 0s 4ms/step - loss: 0.7807 - accuracy: 0.6917 - val_loss: 0.8449 - val_accuracy: 0.6329\n",
            "Epoch 68/500\n",
            "104/104 [==============================] - 0s 4ms/step - loss: 0.7463 - accuracy: 0.7025 - val_loss: 0.8201 - val_accuracy: 0.6957\n",
            "Epoch 69/500\n",
            "104/104 [==============================] - 0s 5ms/step - loss: 0.7763 - accuracy: 0.6971 - val_loss: 0.8701 - val_accuracy: 0.6425\n",
            "Epoch 70/500\n",
            "104/104 [==============================] - 0s 4ms/step - loss: 0.7366 - accuracy: 0.7050 - val_loss: 0.8294 - val_accuracy: 0.6812\n",
            "Epoch 71/500\n",
            "104/104 [==============================] - 0s 4ms/step - loss: 0.7496 - accuracy: 0.6832 - val_loss: 0.8211 - val_accuracy: 0.6763\n",
            "Epoch 72/500\n",
            "104/104 [==============================] - 0s 4ms/step - loss: 0.7305 - accuracy: 0.7025 - val_loss: 0.8221 - val_accuracy: 0.6715\n",
            "Epoch 73/500\n",
            "104/104 [==============================] - 0s 4ms/step - loss: 0.7414 - accuracy: 0.6947 - val_loss: 0.7959 - val_accuracy: 0.6860\n",
            "Epoch 74/500\n",
            "104/104 [==============================] - 0s 4ms/step - loss: 0.7438 - accuracy: 0.7013 - val_loss: 0.8432 - val_accuracy: 0.6618\n",
            "Epoch 75/500\n",
            "104/104 [==============================] - 0s 4ms/step - loss: 0.7241 - accuracy: 0.7170 - val_loss: 0.8297 - val_accuracy: 0.6908\n",
            "Epoch 76/500\n",
            "104/104 [==============================] - 0s 4ms/step - loss: 0.7296 - accuracy: 0.7050 - val_loss: 0.7991 - val_accuracy: 0.6908\n",
            "Epoch 77/500\n",
            "104/104 [==============================] - 0s 4ms/step - loss: 0.6923 - accuracy: 0.7304 - val_loss: 0.8158 - val_accuracy: 0.6715\n",
            "Epoch 78/500\n",
            "104/104 [==============================] - 0s 4ms/step - loss: 0.7039 - accuracy: 0.7261 - val_loss: 0.7953 - val_accuracy: 0.7053\n",
            "Epoch 79/500\n",
            "104/104 [==============================] - 1s 5ms/step - loss: 0.6968 - accuracy: 0.7164 - val_loss: 0.8380 - val_accuracy: 0.6667\n",
            "Epoch 80/500\n",
            "104/104 [==============================] - 0s 4ms/step - loss: 0.6864 - accuracy: 0.7213 - val_loss: 0.8098 - val_accuracy: 0.6715\n",
            "Epoch 81/500\n",
            "104/104 [==============================] - 0s 4ms/step - loss: 0.6752 - accuracy: 0.7328 - val_loss: 0.7698 - val_accuracy: 0.7005\n",
            "Epoch 82/500\n",
            "104/104 [==============================] - 0s 4ms/step - loss: 0.6535 - accuracy: 0.7340 - val_loss: 0.7891 - val_accuracy: 0.6957\n",
            "Epoch 83/500\n",
            "104/104 [==============================] - 0s 4ms/step - loss: 0.6853 - accuracy: 0.7255 - val_loss: 0.8070 - val_accuracy: 0.6763\n",
            "Epoch 84/500\n",
            "104/104 [==============================] - 0s 5ms/step - loss: 0.6338 - accuracy: 0.7388 - val_loss: 0.7597 - val_accuracy: 0.6908\n",
            "Epoch 85/500\n",
            "104/104 [==============================] - 0s 5ms/step - loss: 0.6471 - accuracy: 0.7430 - val_loss: 0.7660 - val_accuracy: 0.6812\n",
            "Epoch 86/500\n",
            "104/104 [==============================] - 0s 4ms/step - loss: 0.6112 - accuracy: 0.7533 - val_loss: 0.7727 - val_accuracy: 0.6908\n",
            "Epoch 87/500\n",
            "104/104 [==============================] - 0s 5ms/step - loss: 0.6328 - accuracy: 0.7491 - val_loss: 0.7652 - val_accuracy: 0.6908\n",
            "Epoch 88/500\n",
            "104/104 [==============================] - 0s 5ms/step - loss: 0.6126 - accuracy: 0.7563 - val_loss: 0.7597 - val_accuracy: 0.6957\n",
            "Epoch 89/500\n",
            "104/104 [==============================] - 0s 4ms/step - loss: 0.6175 - accuracy: 0.7533 - val_loss: 0.7925 - val_accuracy: 0.6812\n",
            "Epoch 90/500\n",
            "104/104 [==============================] - 0s 5ms/step - loss: 0.6010 - accuracy: 0.7551 - val_loss: 0.8113 - val_accuracy: 0.6618\n",
            "Epoch 91/500\n",
            "104/104 [==============================] - 0s 5ms/step - loss: 0.5807 - accuracy: 0.7733 - val_loss: 0.7444 - val_accuracy: 0.7198\n",
            "Epoch 92/500\n",
            "104/104 [==============================] - 0s 5ms/step - loss: 0.6151 - accuracy: 0.7515 - val_loss: 0.7574 - val_accuracy: 0.7005\n",
            "Epoch 93/500\n",
            "104/104 [==============================] - 0s 5ms/step - loss: 0.5727 - accuracy: 0.7836 - val_loss: 0.7562 - val_accuracy: 0.6860\n",
            "Epoch 94/500\n",
            "104/104 [==============================] - 0s 5ms/step - loss: 0.5747 - accuracy: 0.7690 - val_loss: 0.7673 - val_accuracy: 0.6812\n",
            "Epoch 95/500\n",
            "104/104 [==============================] - 0s 5ms/step - loss: 0.5695 - accuracy: 0.7769 - val_loss: 0.7380 - val_accuracy: 0.7150\n",
            "Epoch 96/500\n",
            "104/104 [==============================] - 0s 4ms/step - loss: 0.5573 - accuracy: 0.7884 - val_loss: 0.6976 - val_accuracy: 0.7681\n",
            "Epoch 97/500\n",
            "104/104 [==============================] - 0s 5ms/step - loss: 0.5871 - accuracy: 0.7696 - val_loss: 0.7583 - val_accuracy: 0.6812\n",
            "Epoch 98/500\n",
            "104/104 [==============================] - 1s 5ms/step - loss: 0.5263 - accuracy: 0.7866 - val_loss: 0.7136 - val_accuracy: 0.7343\n",
            "Epoch 99/500\n",
            "104/104 [==============================] - 0s 5ms/step - loss: 0.5114 - accuracy: 0.8023 - val_loss: 0.7142 - val_accuracy: 0.7488\n",
            "Epoch 100/500\n",
            "104/104 [==============================] - 1s 5ms/step - loss: 0.5646 - accuracy: 0.7842 - val_loss: 0.7433 - val_accuracy: 0.7101\n",
            "Epoch 101/500\n",
            "104/104 [==============================] - 0s 5ms/step - loss: 0.5450 - accuracy: 0.7878 - val_loss: 0.7038 - val_accuracy: 0.7343\n",
            "Epoch 102/500\n",
            "104/104 [==============================] - 0s 5ms/step - loss: 0.5278 - accuracy: 0.7981 - val_loss: 0.6937 - val_accuracy: 0.7198\n",
            "Epoch 103/500\n",
            "104/104 [==============================] - 0s 5ms/step - loss: 0.5168 - accuracy: 0.7969 - val_loss: 0.7636 - val_accuracy: 0.6763\n",
            "Epoch 104/500\n",
            "104/104 [==============================] - 0s 5ms/step - loss: 0.5128 - accuracy: 0.7999 - val_loss: 0.7273 - val_accuracy: 0.7101\n",
            "Epoch 105/500\n",
            "104/104 [==============================] - 0s 4ms/step - loss: 0.4901 - accuracy: 0.8083 - val_loss: 0.7331 - val_accuracy: 0.7005\n",
            "Epoch 106/500\n",
            "104/104 [==============================] - 0s 5ms/step - loss: 0.4987 - accuracy: 0.8138 - val_loss: 0.7301 - val_accuracy: 0.6957\n",
            "Epoch 107/500\n",
            "104/104 [==============================] - 1s 5ms/step - loss: 0.4987 - accuracy: 0.8041 - val_loss: 0.7576 - val_accuracy: 0.6860\n",
            "Epoch 108/500\n",
            "104/104 [==============================] - 0s 5ms/step - loss: 0.4925 - accuracy: 0.8083 - val_loss: 0.7146 - val_accuracy: 0.7246\n",
            "Epoch 109/500\n",
            "104/104 [==============================] - 0s 5ms/step - loss: 0.4845 - accuracy: 0.8089 - val_loss: 0.7554 - val_accuracy: 0.6957\n",
            "Epoch 110/500\n",
            "104/104 [==============================] - 0s 5ms/step - loss: 0.4922 - accuracy: 0.8096 - val_loss: 0.7206 - val_accuracy: 0.7053\n",
            "Epoch 111/500\n",
            "104/104 [==============================] - 0s 4ms/step - loss: 0.4654 - accuracy: 0.8241 - val_loss: 0.7468 - val_accuracy: 0.7005\n",
            "Epoch 112/500\n",
            "104/104 [==============================] - 0s 4ms/step - loss: 0.4647 - accuracy: 0.8222 - val_loss: 0.7406 - val_accuracy: 0.7053\n",
            "Epoch 113/500\n",
            "104/104 [==============================] - 0s 4ms/step - loss: 0.4709 - accuracy: 0.8210 - val_loss: 0.7455 - val_accuracy: 0.7150\n",
            "Epoch 114/500\n",
            "104/104 [==============================] - 0s 4ms/step - loss: 0.4573 - accuracy: 0.8271 - val_loss: 0.7231 - val_accuracy: 0.7101\n",
            "Epoch 115/500\n",
            "104/104 [==============================] - 0s 4ms/step - loss: 0.4948 - accuracy: 0.8035 - val_loss: 0.7611 - val_accuracy: 0.6763\n",
            "Epoch 116/500\n",
            "104/104 [==============================] - 0s 4ms/step - loss: 0.4619 - accuracy: 0.8216 - val_loss: 0.6834 - val_accuracy: 0.7536\n",
            "Epoch 117/500\n",
            "104/104 [==============================] - 0s 5ms/step - loss: 0.4476 - accuracy: 0.8325 - val_loss: 0.6875 - val_accuracy: 0.7295\n",
            "Epoch 118/500\n",
            "104/104 [==============================] - 0s 5ms/step - loss: 0.4360 - accuracy: 0.8337 - val_loss: 0.6817 - val_accuracy: 0.7150\n",
            "Epoch 119/500\n",
            "104/104 [==============================] - 0s 5ms/step - loss: 0.4209 - accuracy: 0.8458 - val_loss: 0.7106 - val_accuracy: 0.7198\n",
            "Epoch 120/500\n",
            "104/104 [==============================] - 0s 5ms/step - loss: 0.4397 - accuracy: 0.8247 - val_loss: 0.7097 - val_accuracy: 0.6957\n",
            "Epoch 121/500\n",
            "104/104 [==============================] - 0s 5ms/step - loss: 0.4252 - accuracy: 0.8307 - val_loss: 0.6369 - val_accuracy: 0.7440\n",
            "Epoch 122/500\n",
            "104/104 [==============================] - 0s 4ms/step - loss: 0.4263 - accuracy: 0.8301 - val_loss: 0.6411 - val_accuracy: 0.7343\n",
            "Epoch 123/500\n",
            "104/104 [==============================] - 0s 4ms/step - loss: 0.3837 - accuracy: 0.8531 - val_loss: 0.6655 - val_accuracy: 0.7295\n",
            "Epoch 124/500\n",
            "104/104 [==============================] - 0s 5ms/step - loss: 0.4075 - accuracy: 0.8349 - val_loss: 0.6681 - val_accuracy: 0.7101\n",
            "Epoch 125/500\n",
            "104/104 [==============================] - 0s 4ms/step - loss: 0.3928 - accuracy: 0.8428 - val_loss: 0.6869 - val_accuracy: 0.7150\n",
            "Epoch 126/500\n",
            "104/104 [==============================] - 0s 5ms/step - loss: 0.4056 - accuracy: 0.8470 - val_loss: 0.6192 - val_accuracy: 0.7633\n",
            "Epoch 127/500\n",
            "104/104 [==============================] - 0s 4ms/step - loss: 0.4308 - accuracy: 0.8440 - val_loss: 0.6483 - val_accuracy: 0.7440\n",
            "Epoch 128/500\n",
            "104/104 [==============================] - 0s 5ms/step - loss: 0.3789 - accuracy: 0.8507 - val_loss: 0.6780 - val_accuracy: 0.7343\n",
            "Epoch 129/500\n",
            "104/104 [==============================] - 0s 5ms/step - loss: 0.3986 - accuracy: 0.8428 - val_loss: 0.6859 - val_accuracy: 0.7005\n",
            "Epoch 130/500\n",
            "104/104 [==============================] - 0s 4ms/step - loss: 0.3956 - accuracy: 0.8507 - val_loss: 0.7214 - val_accuracy: 0.7246\n",
            "Epoch 131/500\n",
            "104/104 [==============================] - 0s 4ms/step - loss: 0.3899 - accuracy: 0.8476 - val_loss: 0.6456 - val_accuracy: 0.7391\n",
            "Epoch 132/500\n",
            "104/104 [==============================] - 0s 4ms/step - loss: 0.3755 - accuracy: 0.8609 - val_loss: 0.6753 - val_accuracy: 0.7053\n",
            "Epoch 133/500\n",
            "104/104 [==============================] - 0s 5ms/step - loss: 0.3670 - accuracy: 0.8543 - val_loss: 0.6660 - val_accuracy: 0.7488\n",
            "Epoch 134/500\n",
            "104/104 [==============================] - 0s 5ms/step - loss: 0.3700 - accuracy: 0.8549 - val_loss: 0.6530 - val_accuracy: 0.7488\n",
            "Epoch 135/500\n",
            "104/104 [==============================] - 0s 4ms/step - loss: 0.3645 - accuracy: 0.8597 - val_loss: 0.6299 - val_accuracy: 0.7633\n",
            "Epoch 136/500\n",
            "104/104 [==============================] - 0s 5ms/step - loss: 0.3615 - accuracy: 0.8597 - val_loss: 0.6350 - val_accuracy: 0.7440\n",
            "Epoch 137/500\n",
            "104/104 [==============================] - 0s 5ms/step - loss: 0.3527 - accuracy: 0.8585 - val_loss: 0.7194 - val_accuracy: 0.7343\n",
            "Epoch 138/500\n",
            "104/104 [==============================] - 0s 4ms/step - loss: 0.3522 - accuracy: 0.8585 - val_loss: 0.6668 - val_accuracy: 0.7198\n",
            "Epoch 139/500\n",
            "104/104 [==============================] - 1s 5ms/step - loss: 0.3371 - accuracy: 0.8706 - val_loss: 0.6410 - val_accuracy: 0.7488\n",
            "Epoch 140/500\n",
            "104/104 [==============================] - 0s 5ms/step - loss: 0.3422 - accuracy: 0.8634 - val_loss: 0.6457 - val_accuracy: 0.7585\n",
            "Epoch 141/500\n",
            "104/104 [==============================] - 1s 5ms/step - loss: 0.3497 - accuracy: 0.8670 - val_loss: 0.6659 - val_accuracy: 0.7536\n",
            "Epoch 142/500\n",
            "104/104 [==============================] - 0s 4ms/step - loss: 0.3554 - accuracy: 0.8597 - val_loss: 0.6461 - val_accuracy: 0.7440\n",
            "Epoch 143/500\n",
            "104/104 [==============================] - 0s 5ms/step - loss: 0.3192 - accuracy: 0.8815 - val_loss: 0.7503 - val_accuracy: 0.7101\n",
            "Epoch 144/500\n",
            "104/104 [==============================] - 0s 4ms/step - loss: 0.3349 - accuracy: 0.8682 - val_loss: 0.6272 - val_accuracy: 0.7681\n",
            "Epoch 145/500\n",
            "104/104 [==============================] - 0s 4ms/step - loss: 0.3281 - accuracy: 0.8712 - val_loss: 0.7065 - val_accuracy: 0.7295\n",
            "Epoch 146/500\n",
            "104/104 [==============================] - 0s 4ms/step - loss: 0.3159 - accuracy: 0.8803 - val_loss: 0.6726 - val_accuracy: 0.7391\n",
            "Epoch 147/500\n",
            "104/104 [==============================] - 0s 5ms/step - loss: 0.3119 - accuracy: 0.8888 - val_loss: 0.6768 - val_accuracy: 0.7488\n",
            "Epoch 148/500\n",
            "104/104 [==============================] - 0s 5ms/step - loss: 0.3272 - accuracy: 0.8724 - val_loss: 0.6256 - val_accuracy: 0.7585\n",
            "Epoch 149/500\n",
            "104/104 [==============================] - 0s 4ms/step - loss: 0.3282 - accuracy: 0.8736 - val_loss: 0.6523 - val_accuracy: 0.7633\n",
            "Epoch 150/500\n",
            "104/104 [==============================] - 1s 5ms/step - loss: 0.3144 - accuracy: 0.8791 - val_loss: 0.6289 - val_accuracy: 0.7391\n",
            "Epoch 151/500\n",
            "104/104 [==============================] - 0s 5ms/step - loss: 0.3028 - accuracy: 0.8845 - val_loss: 0.5792 - val_accuracy: 0.7971\n",
            "Epoch 152/500\n",
            "104/104 [==============================] - 0s 5ms/step - loss: 0.3018 - accuracy: 0.8827 - val_loss: 0.6357 - val_accuracy: 0.7681\n",
            "Epoch 153/500\n",
            "104/104 [==============================] - 0s 5ms/step - loss: 0.3162 - accuracy: 0.8742 - val_loss: 0.6787 - val_accuracy: 0.7488\n",
            "Epoch 154/500\n",
            "104/104 [==============================] - 0s 4ms/step - loss: 0.2867 - accuracy: 0.8894 - val_loss: 0.7229 - val_accuracy: 0.7343\n",
            "Epoch 155/500\n",
            "104/104 [==============================] - 0s 4ms/step - loss: 0.3139 - accuracy: 0.8827 - val_loss: 0.6833 - val_accuracy: 0.7391\n",
            "Epoch 156/500\n",
            "104/104 [==============================] - 0s 5ms/step - loss: 0.3080 - accuracy: 0.8803 - val_loss: 0.6780 - val_accuracy: 0.7440\n",
            "Epoch 157/500\n",
            "104/104 [==============================] - 1s 9ms/step - loss: 0.2886 - accuracy: 0.8851 - val_loss: 0.6216 - val_accuracy: 0.7633\n",
            "Epoch 158/500\n",
            "104/104 [==============================] - 1s 6ms/step - loss: 0.2864 - accuracy: 0.8942 - val_loss: 0.6283 - val_accuracy: 0.7488\n",
            "Epoch 159/500\n",
            "104/104 [==============================] - 1s 10ms/step - loss: 0.2644 - accuracy: 0.9075 - val_loss: 0.5783 - val_accuracy: 0.7874\n",
            "Epoch 160/500\n",
            "104/104 [==============================] - 1s 6ms/step - loss: 0.2604 - accuracy: 0.9008 - val_loss: 0.6334 - val_accuracy: 0.7874\n",
            "Epoch 161/500\n",
            "104/104 [==============================] - 1s 9ms/step - loss: 0.2752 - accuracy: 0.8954 - val_loss: 0.6350 - val_accuracy: 0.7729\n",
            "Epoch 162/500\n",
            "104/104 [==============================] - 1s 7ms/step - loss: 0.2663 - accuracy: 0.9045 - val_loss: 0.6171 - val_accuracy: 0.7633\n",
            "Epoch 163/500\n",
            "104/104 [==============================] - 0s 5ms/step - loss: 0.2799 - accuracy: 0.8948 - val_loss: 0.6847 - val_accuracy: 0.7343\n",
            "Epoch 164/500\n",
            "104/104 [==============================] - 0s 4ms/step - loss: 0.2719 - accuracy: 0.8972 - val_loss: 0.6359 - val_accuracy: 0.7826\n",
            "Epoch 165/500\n",
            "104/104 [==============================] - 0s 4ms/step - loss: 0.2947 - accuracy: 0.8863 - val_loss: 0.6557 - val_accuracy: 0.7391\n",
            "Epoch 166/500\n",
            "104/104 [==============================] - 0s 5ms/step - loss: 0.2870 - accuracy: 0.8930 - val_loss: 0.6862 - val_accuracy: 0.7488\n",
            "Epoch 167/500\n",
            "104/104 [==============================] - 0s 5ms/step - loss: 0.2817 - accuracy: 0.8930 - val_loss: 0.6146 - val_accuracy: 0.7826\n",
            "Epoch 168/500\n",
            "104/104 [==============================] - 0s 4ms/step - loss: 0.2450 - accuracy: 0.9002 - val_loss: 0.7076 - val_accuracy: 0.7391\n",
            "Epoch 169/500\n",
            "104/104 [==============================] - 0s 4ms/step - loss: 0.2550 - accuracy: 0.9033 - val_loss: 0.6282 - val_accuracy: 0.7778\n",
            "Epoch 170/500\n",
            "104/104 [==============================] - 0s 5ms/step - loss: 0.2612 - accuracy: 0.9015 - val_loss: 0.5825 - val_accuracy: 0.7729\n",
            "Epoch 171/500\n",
            "104/104 [==============================] - 0s 5ms/step - loss: 0.2368 - accuracy: 0.9148 - val_loss: 0.6006 - val_accuracy: 0.7778\n",
            "Epoch 172/500\n",
            "104/104 [==============================] - 0s 4ms/step - loss: 0.2225 - accuracy: 0.9178 - val_loss: 0.6159 - val_accuracy: 0.7778\n",
            "Epoch 173/500\n",
            "104/104 [==============================] - 0s 5ms/step - loss: 0.2266 - accuracy: 0.9111 - val_loss: 0.6397 - val_accuracy: 0.7440\n",
            "Epoch 174/500\n",
            "104/104 [==============================] - 0s 4ms/step - loss: 0.2609 - accuracy: 0.8984 - val_loss: 0.6372 - val_accuracy: 0.7729\n",
            "Epoch 175/500\n",
            "104/104 [==============================] - 0s 5ms/step - loss: 0.2348 - accuracy: 0.9166 - val_loss: 0.6467 - val_accuracy: 0.7681\n",
            "Epoch 176/500\n",
            "104/104 [==============================] - 1s 5ms/step - loss: 0.2557 - accuracy: 0.9015 - val_loss: 0.5963 - val_accuracy: 0.7633\n",
            "Epoch 177/500\n",
            "104/104 [==============================] - 0s 5ms/step - loss: 0.2465 - accuracy: 0.9117 - val_loss: 0.5983 - val_accuracy: 0.7971\n",
            "Epoch 178/500\n",
            "104/104 [==============================] - 0s 4ms/step - loss: 0.2412 - accuracy: 0.9081 - val_loss: 0.6056 - val_accuracy: 0.7391\n",
            "Epoch 179/500\n",
            "104/104 [==============================] - 1s 5ms/step - loss: 0.2180 - accuracy: 0.9184 - val_loss: 0.6439 - val_accuracy: 0.7536\n",
            "Epoch 180/500\n",
            "104/104 [==============================] - 1s 6ms/step - loss: 0.2139 - accuracy: 0.9208 - val_loss: 0.6580 - val_accuracy: 0.7729\n",
            "Epoch 181/500\n",
            "104/104 [==============================] - 1s 7ms/step - loss: 0.2342 - accuracy: 0.9093 - val_loss: 0.6095 - val_accuracy: 0.7729\n",
            "Epoch 182/500\n",
            "104/104 [==============================] - 1s 6ms/step - loss: 0.2083 - accuracy: 0.9196 - val_loss: 0.6781 - val_accuracy: 0.7343\n",
            "Epoch 183/500\n",
            "104/104 [==============================] - 1s 6ms/step - loss: 0.2096 - accuracy: 0.9166 - val_loss: 0.6893 - val_accuracy: 0.7633\n",
            "Epoch 184/500\n",
            "104/104 [==============================] - 1s 6ms/step - loss: 0.2115 - accuracy: 0.9208 - val_loss: 0.6046 - val_accuracy: 0.7681\n",
            "Epoch 185/500\n",
            "104/104 [==============================] - 1s 6ms/step - loss: 0.2327 - accuracy: 0.9069 - val_loss: 0.6632 - val_accuracy: 0.7729\n",
            "Epoch 186/500\n",
            "104/104 [==============================] - 0s 4ms/step - loss: 0.2215 - accuracy: 0.9196 - val_loss: 0.6621 - val_accuracy: 0.7729\n",
            "Epoch 187/500\n",
            "104/104 [==============================] - 0s 5ms/step - loss: 0.2136 - accuracy: 0.9148 - val_loss: 0.6697 - val_accuracy: 0.7826\n",
            "Epoch 188/500\n",
            "104/104 [==============================] - 0s 5ms/step - loss: 0.2366 - accuracy: 0.9045 - val_loss: 0.5897 - val_accuracy: 0.8019\n",
            "Epoch 189/500\n",
            "104/104 [==============================] - 0s 4ms/step - loss: 0.2301 - accuracy: 0.9093 - val_loss: 0.5918 - val_accuracy: 0.7826\n",
            "Epoch 190/500\n",
            "104/104 [==============================] - 0s 4ms/step - loss: 0.2116 - accuracy: 0.9160 - val_loss: 0.6788 - val_accuracy: 0.7633\n",
            "Epoch 191/500\n",
            "104/104 [==============================] - 0s 5ms/step - loss: 0.2009 - accuracy: 0.9208 - val_loss: 0.6073 - val_accuracy: 0.7681\n",
            "Epoch 192/500\n",
            "104/104 [==============================] - 0s 5ms/step - loss: 0.2283 - accuracy: 0.9117 - val_loss: 0.6052 - val_accuracy: 0.8068\n",
            "Epoch 193/500\n",
            "104/104 [==============================] - 0s 4ms/step - loss: 0.2048 - accuracy: 0.9250 - val_loss: 0.6551 - val_accuracy: 0.7729\n",
            "Epoch 194/500\n",
            "104/104 [==============================] - 0s 5ms/step - loss: 0.1697 - accuracy: 0.9407 - val_loss: 0.6859 - val_accuracy: 0.7729\n",
            "Epoch 195/500\n",
            "104/104 [==============================] - 0s 5ms/step - loss: 0.2246 - accuracy: 0.9178 - val_loss: 0.5931 - val_accuracy: 0.7874\n",
            "Epoch 196/500\n",
            "104/104 [==============================] - 0s 4ms/step - loss: 0.1759 - accuracy: 0.9359 - val_loss: 0.7037 - val_accuracy: 0.7585\n",
            "Epoch 197/500\n",
            "104/104 [==============================] - 0s 4ms/step - loss: 0.1893 - accuracy: 0.9226 - val_loss: 0.6181 - val_accuracy: 0.7778\n",
            "Epoch 198/500\n",
            "104/104 [==============================] - 1s 5ms/step - loss: 0.2119 - accuracy: 0.9141 - val_loss: 0.5977 - val_accuracy: 0.7923\n",
            "Epoch 199/500\n",
            "104/104 [==============================] - 0s 5ms/step - loss: 0.2203 - accuracy: 0.9154 - val_loss: 0.6261 - val_accuracy: 0.7633\n",
            "Epoch 200/500\n",
            "104/104 [==============================] - 0s 5ms/step - loss: 0.2051 - accuracy: 0.9250 - val_loss: 0.6959 - val_accuracy: 0.7778\n",
            "Epoch 201/500\n",
            "104/104 [==============================] - 1s 5ms/step - loss: 0.1937 - accuracy: 0.9299 - val_loss: 0.6500 - val_accuracy: 0.7729\n",
            "Epoch 202/500\n",
            "104/104 [==============================] - 0s 4ms/step - loss: 0.2129 - accuracy: 0.9196 - val_loss: 0.6264 - val_accuracy: 0.7826\n",
            "Epoch 203/500\n",
            "104/104 [==============================] - 0s 4ms/step - loss: 0.1678 - accuracy: 0.9401 - val_loss: 0.6024 - val_accuracy: 0.7729\n",
            "Epoch 204/500\n",
            "104/104 [==============================] - 1s 5ms/step - loss: 0.1702 - accuracy: 0.9377 - val_loss: 0.6408 - val_accuracy: 0.7923\n",
            "Epoch 205/500\n",
            "104/104 [==============================] - 1s 5ms/step - loss: 0.1938 - accuracy: 0.9274 - val_loss: 0.7191 - val_accuracy: 0.7488\n",
            "Epoch 206/500\n",
            "104/104 [==============================] - 0s 5ms/step - loss: 0.2074 - accuracy: 0.9250 - val_loss: 0.6791 - val_accuracy: 0.7440\n",
            "Epoch 207/500\n",
            "104/104 [==============================] - 0s 5ms/step - loss: 0.1872 - accuracy: 0.9377 - val_loss: 0.6923 - val_accuracy: 0.7536\n",
            "Epoch 208/500\n",
            "104/104 [==============================] - 0s 5ms/step - loss: 0.2050 - accuracy: 0.9220 - val_loss: 0.7315 - val_accuracy: 0.7391\n",
            "Epoch 209/500\n",
            "104/104 [==============================] - 0s 4ms/step - loss: 0.2100 - accuracy: 0.9166 - val_loss: 0.7082 - val_accuracy: 0.7585\n",
            "Epoch 210/500\n",
            "104/104 [==============================] - 0s 5ms/step - loss: 0.1956 - accuracy: 0.9250 - val_loss: 0.6556 - val_accuracy: 0.7729\n",
            "Epoch 211/500\n",
            "104/104 [==============================] - 0s 5ms/step - loss: 0.1802 - accuracy: 0.9299 - val_loss: 0.6270 - val_accuracy: 0.7923\n",
            "Epoch 212/500\n",
            "104/104 [==============================] - 0s 4ms/step - loss: 0.1781 - accuracy: 0.9414 - val_loss: 0.6049 - val_accuracy: 0.8164\n",
            "Epoch 213/500\n",
            "104/104 [==============================] - 1s 5ms/step - loss: 0.1519 - accuracy: 0.9401 - val_loss: 0.7474 - val_accuracy: 0.7488\n",
            "Epoch 214/500\n",
            "104/104 [==============================] - 0s 4ms/step - loss: 0.1723 - accuracy: 0.9389 - val_loss: 0.6297 - val_accuracy: 0.8019\n",
            "Epoch 215/500\n",
            "104/104 [==============================] - 0s 5ms/step - loss: 0.1649 - accuracy: 0.9371 - val_loss: 0.6959 - val_accuracy: 0.7729\n",
            "Epoch 216/500\n",
            "104/104 [==============================] - 0s 5ms/step - loss: 0.1723 - accuracy: 0.9371 - val_loss: 0.6314 - val_accuracy: 0.8116\n",
            "Epoch 217/500\n",
            "104/104 [==============================] - 0s 5ms/step - loss: 0.1638 - accuracy: 0.9407 - val_loss: 0.7024 - val_accuracy: 0.7681\n",
            "Epoch 218/500\n",
            "104/104 [==============================] - 0s 5ms/step - loss: 0.1799 - accuracy: 0.9365 - val_loss: 0.6435 - val_accuracy: 0.7778\n",
            "Epoch 219/500\n",
            "104/104 [==============================] - 0s 5ms/step - loss: 0.1706 - accuracy: 0.9383 - val_loss: 0.7663 - val_accuracy: 0.7536\n",
            "Epoch 220/500\n",
            "104/104 [==============================] - 0s 4ms/step - loss: 0.1698 - accuracy: 0.9407 - val_loss: 0.6295 - val_accuracy: 0.7874\n",
            "Epoch 221/500\n",
            "104/104 [==============================] - 0s 5ms/step - loss: 0.1709 - accuracy: 0.9341 - val_loss: 0.6716 - val_accuracy: 0.7681\n",
            "Epoch 222/500\n",
            "104/104 [==============================] - 1s 5ms/step - loss: 0.1950 - accuracy: 0.9281 - val_loss: 0.6199 - val_accuracy: 0.7923\n",
            "Epoch 223/500\n",
            "104/104 [==============================] - 0s 4ms/step - loss: 0.1775 - accuracy: 0.9341 - val_loss: 0.6671 - val_accuracy: 0.7826\n",
            "Epoch 224/500\n",
            "104/104 [==============================] - 1s 5ms/step - loss: 0.1590 - accuracy: 0.9377 - val_loss: 0.6739 - val_accuracy: 0.7633\n",
            "Epoch 225/500\n",
            "104/104 [==============================] - 0s 4ms/step - loss: 0.1792 - accuracy: 0.9323 - val_loss: 0.7041 - val_accuracy: 0.8019\n",
            "Epoch 226/500\n",
            "104/104 [==============================] - 0s 4ms/step - loss: 0.1714 - accuracy: 0.9395 - val_loss: 0.6745 - val_accuracy: 0.7971\n",
            "Epoch 227/500\n",
            "104/104 [==============================] - 0s 4ms/step - loss: 0.1424 - accuracy: 0.9480 - val_loss: 0.6137 - val_accuracy: 0.8019\n",
            "Epoch 228/500\n",
            "104/104 [==============================] - 0s 4ms/step - loss: 0.1403 - accuracy: 0.9516 - val_loss: 0.6861 - val_accuracy: 0.7536\n",
            "Epoch 229/500\n",
            "104/104 [==============================] - 0s 4ms/step - loss: 0.1656 - accuracy: 0.9395 - val_loss: 0.6388 - val_accuracy: 0.7971\n",
            "Epoch 230/500\n",
            "104/104 [==============================] - 1s 5ms/step - loss: 0.1429 - accuracy: 0.9438 - val_loss: 0.6798 - val_accuracy: 0.7874\n",
            "Epoch 231/500\n",
            "104/104 [==============================] - 0s 4ms/step - loss: 0.1243 - accuracy: 0.9498 - val_loss: 0.6610 - val_accuracy: 0.7874\n",
            "Epoch 232/500\n",
            "104/104 [==============================] - 0s 4ms/step - loss: 0.1480 - accuracy: 0.9498 - val_loss: 0.6595 - val_accuracy: 0.7826\n",
            "Epoch 233/500\n",
            "104/104 [==============================] - 0s 5ms/step - loss: 0.1902 - accuracy: 0.9341 - val_loss: 0.6372 - val_accuracy: 0.7874\n",
            "Epoch 234/500\n",
            "104/104 [==============================] - 0s 4ms/step - loss: 0.1493 - accuracy: 0.9522 - val_loss: 0.7170 - val_accuracy: 0.7488\n",
            "Epoch 235/500\n",
            "104/104 [==============================] - 0s 4ms/step - loss: 0.1493 - accuracy: 0.9468 - val_loss: 0.6429 - val_accuracy: 0.7633\n",
            "Epoch 236/500\n",
            "104/104 [==============================] - 0s 5ms/step - loss: 0.1359 - accuracy: 0.9504 - val_loss: 0.6459 - val_accuracy: 0.7971\n",
            "Epoch 237/500\n",
            "104/104 [==============================] - 0s 4ms/step - loss: 0.1607 - accuracy: 0.9359 - val_loss: 0.6536 - val_accuracy: 0.7681\n",
            "Epoch 238/500\n",
            "104/104 [==============================] - 0s 4ms/step - loss: 0.1464 - accuracy: 0.9395 - val_loss: 0.6948 - val_accuracy: 0.7488\n",
            "Epoch 239/500\n",
            "104/104 [==============================] - 0s 4ms/step - loss: 0.1552 - accuracy: 0.9438 - val_loss: 0.5714 - val_accuracy: 0.8068\n",
            "Epoch 240/500\n",
            "104/104 [==============================] - 0s 4ms/step - loss: 0.1383 - accuracy: 0.9510 - val_loss: 0.6752 - val_accuracy: 0.7681\n",
            "Epoch 241/500\n",
            "104/104 [==============================] - 0s 4ms/step - loss: 0.1613 - accuracy: 0.9407 - val_loss: 0.7366 - val_accuracy: 0.7343\n",
            "Epoch 242/500\n",
            "104/104 [==============================] - 0s 5ms/step - loss: 0.1385 - accuracy: 0.9504 - val_loss: 0.6349 - val_accuracy: 0.8164\n",
            "Epoch 243/500\n",
            "104/104 [==============================] - 0s 4ms/step - loss: 0.1730 - accuracy: 0.9444 - val_loss: 0.6271 - val_accuracy: 0.8019\n",
            "Epoch 244/500\n",
            "104/104 [==============================] - 0s 5ms/step - loss: 0.1480 - accuracy: 0.9492 - val_loss: 0.6485 - val_accuracy: 0.7536\n",
            "Epoch 245/500\n",
            "104/104 [==============================] - 0s 5ms/step - loss: 0.1594 - accuracy: 0.9438 - val_loss: 0.6314 - val_accuracy: 0.8019\n",
            "Epoch 246/500\n",
            "104/104 [==============================] - 0s 5ms/step - loss: 0.1513 - accuracy: 0.9456 - val_loss: 0.5845 - val_accuracy: 0.8406\n",
            "Epoch 247/500\n",
            "104/104 [==============================] - 0s 4ms/step - loss: 0.1487 - accuracy: 0.9474 - val_loss: 0.6790 - val_accuracy: 0.8019\n",
            "Epoch 248/500\n",
            "104/104 [==============================] - 0s 5ms/step - loss: 0.1619 - accuracy: 0.9456 - val_loss: 0.6966 - val_accuracy: 0.8116\n",
            "Epoch 249/500\n",
            "104/104 [==============================] - 0s 5ms/step - loss: 0.1527 - accuracy: 0.9456 - val_loss: 0.7639 - val_accuracy: 0.7488\n",
            "Epoch 250/500\n",
            "104/104 [==============================] - 0s 4ms/step - loss: 0.1660 - accuracy: 0.9395 - val_loss: 0.7193 - val_accuracy: 0.7585\n",
            "Epoch 251/500\n",
            "104/104 [==============================] - 0s 5ms/step - loss: 0.1443 - accuracy: 0.9444 - val_loss: 0.6633 - val_accuracy: 0.7874\n",
            "Epoch 252/500\n",
            "104/104 [==============================] - 0s 4ms/step - loss: 0.1353 - accuracy: 0.9547 - val_loss: 0.6995 - val_accuracy: 0.7778\n",
            "Epoch 253/500\n",
            "104/104 [==============================] - 0s 5ms/step - loss: 0.1558 - accuracy: 0.9456 - val_loss: 0.6866 - val_accuracy: 0.7729\n",
            "Epoch 254/500\n",
            "104/104 [==============================] - 1s 5ms/step - loss: 0.1675 - accuracy: 0.9395 - val_loss: 0.6887 - val_accuracy: 0.7633\n",
            "Epoch 255/500\n",
            "104/104 [==============================] - 0s 4ms/step - loss: 0.1413 - accuracy: 0.9438 - val_loss: 0.6458 - val_accuracy: 0.7923\n",
            "Epoch 256/500\n",
            "104/104 [==============================] - 0s 5ms/step - loss: 0.1135 - accuracy: 0.9613 - val_loss: 0.7060 - val_accuracy: 0.7536\n",
            "Epoch 257/500\n",
            "104/104 [==============================] - 1s 5ms/step - loss: 0.1322 - accuracy: 0.9534 - val_loss: 0.6734 - val_accuracy: 0.7729\n",
            "Epoch 258/500\n",
            "104/104 [==============================] - 0s 4ms/step - loss: 0.1348 - accuracy: 0.9504 - val_loss: 0.6509 - val_accuracy: 0.8019\n",
            "Epoch 259/500\n",
            "104/104 [==============================] - 0s 5ms/step - loss: 0.1114 - accuracy: 0.9571 - val_loss: 0.6542 - val_accuracy: 0.8068\n",
            "Epoch 260/500\n",
            "104/104 [==============================] - 1s 5ms/step - loss: 0.1434 - accuracy: 0.9516 - val_loss: 0.7010 - val_accuracy: 0.7874\n",
            "Epoch 261/500\n",
            "104/104 [==============================] - 0s 5ms/step - loss: 0.1290 - accuracy: 0.9534 - val_loss: 0.6407 - val_accuracy: 0.8116\n",
            "Epoch 262/500\n",
            "104/104 [==============================] - 0s 5ms/step - loss: 0.1388 - accuracy: 0.9480 - val_loss: 0.7033 - val_accuracy: 0.7874\n",
            "Epoch 263/500\n",
            "104/104 [==============================] - 0s 5ms/step - loss: 0.1548 - accuracy: 0.9395 - val_loss: 0.8139 - val_accuracy: 0.7681\n",
            "Epoch 264/500\n",
            "104/104 [==============================] - 1s 5ms/step - loss: 0.1338 - accuracy: 0.9516 - val_loss: 0.6447 - val_accuracy: 0.7778\n",
            "Epoch 265/500\n",
            "104/104 [==============================] - 1s 5ms/step - loss: 0.1440 - accuracy: 0.9510 - val_loss: 0.6076 - val_accuracy: 0.8116\n",
            "Epoch 266/500\n",
            "104/104 [==============================] - 0s 5ms/step - loss: 0.1371 - accuracy: 0.9522 - val_loss: 0.6248 - val_accuracy: 0.7923\n",
            "Epoch 267/500\n",
            "104/104 [==============================] - 1s 5ms/step - loss: 0.1331 - accuracy: 0.9510 - val_loss: 0.6389 - val_accuracy: 0.7923\n",
            "Epoch 268/500\n",
            "104/104 [==============================] - 0s 5ms/step - loss: 0.1153 - accuracy: 0.9516 - val_loss: 0.6997 - val_accuracy: 0.7585\n",
            "Epoch 269/500\n",
            "104/104 [==============================] - 1s 5ms/step - loss: 0.1102 - accuracy: 0.9613 - val_loss: 0.7156 - val_accuracy: 0.7826\n",
            "Epoch 270/500\n",
            "104/104 [==============================] - 1s 5ms/step - loss: 0.1253 - accuracy: 0.9559 - val_loss: 0.7179 - val_accuracy: 0.7440\n",
            "Epoch 271/500\n",
            "104/104 [==============================] - 0s 5ms/step - loss: 0.1158 - accuracy: 0.9565 - val_loss: 0.6538 - val_accuracy: 0.7874\n",
            "Epoch 272/500\n",
            "104/104 [==============================] - 0s 5ms/step - loss: 0.1150 - accuracy: 0.9571 - val_loss: 0.6384 - val_accuracy: 0.8019\n",
            "Epoch 273/500\n",
            "104/104 [==============================] - 1s 5ms/step - loss: 0.1227 - accuracy: 0.9553 - val_loss: 0.6206 - val_accuracy: 0.8068\n",
            "Epoch 274/500\n",
            "104/104 [==============================] - 1s 5ms/step - loss: 0.1342 - accuracy: 0.9522 - val_loss: 0.6038 - val_accuracy: 0.8261\n",
            "Epoch 275/500\n",
            "104/104 [==============================] - 0s 5ms/step - loss: 0.1336 - accuracy: 0.9553 - val_loss: 0.7378 - val_accuracy: 0.7585\n",
            "Epoch 276/500\n",
            "104/104 [==============================] - 1s 5ms/step - loss: 0.1494 - accuracy: 0.9450 - val_loss: 0.6696 - val_accuracy: 0.7923\n",
            "Epoch 277/500\n",
            "104/104 [==============================] - 1s 5ms/step - loss: 0.1386 - accuracy: 0.9553 - val_loss: 0.6712 - val_accuracy: 0.7923\n",
            "Epoch 278/500\n",
            "104/104 [==============================] - 0s 5ms/step - loss: 0.1344 - accuracy: 0.9468 - val_loss: 0.6400 - val_accuracy: 0.7826\n",
            "Epoch 279/500\n",
            "104/104 [==============================] - 0s 5ms/step - loss: 0.1513 - accuracy: 0.9480 - val_loss: 0.6764 - val_accuracy: 0.7488\n",
            "Epoch 280/500\n",
            "104/104 [==============================] - 1s 5ms/step - loss: 0.1053 - accuracy: 0.9607 - val_loss: 0.6486 - val_accuracy: 0.8019\n",
            "Epoch 281/500\n",
            "104/104 [==============================] - 1s 5ms/step - loss: 0.1234 - accuracy: 0.9601 - val_loss: 0.7527 - val_accuracy: 0.7729\n",
            "Epoch 282/500\n",
            "104/104 [==============================] - 1s 5ms/step - loss: 0.1320 - accuracy: 0.9534 - val_loss: 0.6653 - val_accuracy: 0.7633\n",
            "Epoch 283/500\n",
            "104/104 [==============================] - 1s 5ms/step - loss: 0.1018 - accuracy: 0.9583 - val_loss: 0.6188 - val_accuracy: 0.8164\n",
            "Epoch 284/500\n",
            "104/104 [==============================] - 1s 5ms/step - loss: 0.0896 - accuracy: 0.9667 - val_loss: 0.6366 - val_accuracy: 0.7778\n",
            "Epoch 285/500\n",
            "104/104 [==============================] - 0s 5ms/step - loss: 0.0915 - accuracy: 0.9710 - val_loss: 0.6167 - val_accuracy: 0.7874\n",
            "Epoch 286/500\n",
            "104/104 [==============================] - 1s 5ms/step - loss: 0.0913 - accuracy: 0.9631 - val_loss: 0.6351 - val_accuracy: 0.8068\n",
            "Epoch 287/500\n",
            "104/104 [==============================] - 1s 5ms/step - loss: 0.1186 - accuracy: 0.9583 - val_loss: 0.7164 - val_accuracy: 0.7729\n",
            "Epoch 288/500\n",
            "104/104 [==============================] - 0s 5ms/step - loss: 0.1070 - accuracy: 0.9589 - val_loss: 0.6673 - val_accuracy: 0.7778\n",
            "Epoch 289/500\n",
            "104/104 [==============================] - 0s 5ms/step - loss: 0.1223 - accuracy: 0.9528 - val_loss: 0.6836 - val_accuracy: 0.7826\n",
            "Epoch 290/500\n",
            "104/104 [==============================] - 0s 5ms/step - loss: 0.1641 - accuracy: 0.9407 - val_loss: 0.7491 - val_accuracy: 0.7585\n",
            "Epoch 291/500\n",
            "104/104 [==============================] - 1s 5ms/step - loss: 0.0995 - accuracy: 0.9643 - val_loss: 0.6902 - val_accuracy: 0.7923\n",
            "Epoch 292/500\n",
            "104/104 [==============================] - 0s 5ms/step - loss: 0.1068 - accuracy: 0.9643 - val_loss: 0.6866 - val_accuracy: 0.7923\n",
            "Epoch 293/500\n",
            "104/104 [==============================] - 0s 5ms/step - loss: 0.1168 - accuracy: 0.9595 - val_loss: 0.6912 - val_accuracy: 0.8309\n",
            "Epoch 294/500\n",
            "104/104 [==============================] - 1s 5ms/step - loss: 0.1136 - accuracy: 0.9595 - val_loss: 0.6527 - val_accuracy: 0.8116\n",
            "Epoch 295/500\n",
            "104/104 [==============================] - 1s 8ms/step - loss: 0.1151 - accuracy: 0.9565 - val_loss: 0.6396 - val_accuracy: 0.7681\n",
            "Epoch 296/500\n",
            "104/104 [==============================] - 1s 9ms/step - loss: 0.1049 - accuracy: 0.9710 - val_loss: 0.6358 - val_accuracy: 0.8116\n",
            "Epoch 297/500\n",
            "104/104 [==============================] - 1s 7ms/step - loss: 0.1139 - accuracy: 0.9559 - val_loss: 0.6573 - val_accuracy: 0.7681\n",
            "Epoch 298/500\n",
            "104/104 [==============================] - 1s 8ms/step - loss: 0.1198 - accuracy: 0.9510 - val_loss: 0.6604 - val_accuracy: 0.8019\n",
            "Epoch 299/500\n",
            "104/104 [==============================] - 1s 8ms/step - loss: 0.0844 - accuracy: 0.9698 - val_loss: 0.6655 - val_accuracy: 0.8213\n",
            "Epoch 300/500\n",
            "104/104 [==============================] - 1s 6ms/step - loss: 0.1000 - accuracy: 0.9655 - val_loss: 0.6616 - val_accuracy: 0.7874\n",
            "Epoch 301/500\n",
            "104/104 [==============================] - 1s 8ms/step - loss: 0.1201 - accuracy: 0.9547 - val_loss: 0.6358 - val_accuracy: 0.7971\n",
            "Epoch 302/500\n",
            "104/104 [==============================] - 1s 8ms/step - loss: 0.0943 - accuracy: 0.9655 - val_loss: 0.7694 - val_accuracy: 0.7826\n",
            "Epoch 303/500\n",
            "104/104 [==============================] - 1s 9ms/step - loss: 0.1230 - accuracy: 0.9583 - val_loss: 0.7531 - val_accuracy: 0.7729\n",
            "Epoch 304/500\n",
            "104/104 [==============================] - 1s 9ms/step - loss: 0.1239 - accuracy: 0.9541 - val_loss: 0.6335 - val_accuracy: 0.7874\n",
            "Epoch 305/500\n",
            "104/104 [==============================] - 1s 8ms/step - loss: 0.1436 - accuracy: 0.9474 - val_loss: 0.6394 - val_accuracy: 0.7923\n",
            "Epoch 306/500\n",
            "104/104 [==============================] - 1s 8ms/step - loss: 0.1018 - accuracy: 0.9643 - val_loss: 0.6067 - val_accuracy: 0.7874\n",
            "Epoch 307/500\n",
            "104/104 [==============================] - 1s 9ms/step - loss: 0.1079 - accuracy: 0.9571 - val_loss: 0.6335 - val_accuracy: 0.7729\n",
            "Epoch 308/500\n",
            "104/104 [==============================] - 0s 5ms/step - loss: 0.0931 - accuracy: 0.9655 - val_loss: 0.6058 - val_accuracy: 0.7729\n",
            "Epoch 309/500\n",
            "104/104 [==============================] - 0s 5ms/step - loss: 0.1084 - accuracy: 0.9661 - val_loss: 0.6469 - val_accuracy: 0.7971\n",
            "Epoch 310/500\n",
            "104/104 [==============================] - 0s 5ms/step - loss: 0.1088 - accuracy: 0.9583 - val_loss: 0.7031 - val_accuracy: 0.7826\n",
            "Epoch 311/500\n",
            "104/104 [==============================] - 1s 5ms/step - loss: 0.1080 - accuracy: 0.9601 - val_loss: 0.7366 - val_accuracy: 0.7923\n",
            "Epoch 312/500\n",
            "104/104 [==============================] - 1s 5ms/step - loss: 0.1032 - accuracy: 0.9661 - val_loss: 0.6505 - val_accuracy: 0.8213\n",
            "Epoch 313/500\n",
            "104/104 [==============================] - 1s 5ms/step - loss: 0.0788 - accuracy: 0.9698 - val_loss: 0.6151 - val_accuracy: 0.8019\n",
            "Epoch 314/500\n",
            "104/104 [==============================] - 1s 5ms/step - loss: 0.0951 - accuracy: 0.9667 - val_loss: 0.6317 - val_accuracy: 0.7778\n",
            "Epoch 315/500\n",
            "104/104 [==============================] - 0s 5ms/step - loss: 0.0773 - accuracy: 0.9710 - val_loss: 0.7243 - val_accuracy: 0.7536\n",
            "Epoch 316/500\n",
            "104/104 [==============================] - 1s 5ms/step - loss: 0.1105 - accuracy: 0.9589 - val_loss: 0.7142 - val_accuracy: 0.7923\n",
            "Epoch 317/500\n",
            "104/104 [==============================] - 1s 5ms/step - loss: 0.1214 - accuracy: 0.9577 - val_loss: 0.6661 - val_accuracy: 0.7923\n",
            "Epoch 318/500\n",
            "104/104 [==============================] - 0s 5ms/step - loss: 0.1009 - accuracy: 0.9619 - val_loss: 0.6467 - val_accuracy: 0.7923\n",
            "Epoch 319/500\n",
            "104/104 [==============================] - 0s 5ms/step - loss: 0.1030 - accuracy: 0.9655 - val_loss: 0.6705 - val_accuracy: 0.7826\n",
            "Epoch 320/500\n",
            "104/104 [==============================] - 1s 5ms/step - loss: 0.0931 - accuracy: 0.9686 - val_loss: 0.7314 - val_accuracy: 0.7585\n",
            "Epoch 321/500\n",
            "104/104 [==============================] - 0s 5ms/step - loss: 0.1031 - accuracy: 0.9577 - val_loss: 0.6935 - val_accuracy: 0.7874\n",
            "Epoch 322/500\n",
            "104/104 [==============================] - 0s 5ms/step - loss: 0.0976 - accuracy: 0.9655 - val_loss: 0.6744 - val_accuracy: 0.7488\n",
            "Epoch 323/500\n",
            "104/104 [==============================] - 0s 5ms/step - loss: 0.1212 - accuracy: 0.9528 - val_loss: 0.6228 - val_accuracy: 0.7874\n",
            "Epoch 324/500\n",
            "104/104 [==============================] - 1s 5ms/step - loss: 0.1079 - accuracy: 0.9559 - val_loss: 0.6026 - val_accuracy: 0.7971\n",
            "Epoch 325/500\n",
            "104/104 [==============================] - 1s 5ms/step - loss: 0.1219 - accuracy: 0.9541 - val_loss: 0.7154 - val_accuracy: 0.7874\n",
            "Epoch 326/500\n",
            "104/104 [==============================] - 1s 5ms/step - loss: 0.1088 - accuracy: 0.9607 - val_loss: 0.7004 - val_accuracy: 0.7681\n",
            "Epoch 327/500\n",
            "104/104 [==============================] - 0s 5ms/step - loss: 0.0971 - accuracy: 0.9655 - val_loss: 0.6802 - val_accuracy: 0.8019\n",
            "Epoch 328/500\n",
            "104/104 [==============================] - 0s 5ms/step - loss: 0.0959 - accuracy: 0.9667 - val_loss: 0.7298 - val_accuracy: 0.7729\n",
            "Epoch 329/500\n",
            "104/104 [==============================] - 1s 5ms/step - loss: 0.0868 - accuracy: 0.9667 - val_loss: 0.7323 - val_accuracy: 0.7681\n",
            "Epoch 330/500\n",
            "104/104 [==============================] - 0s 5ms/step - loss: 0.0876 - accuracy: 0.9680 - val_loss: 0.6306 - val_accuracy: 0.8019\n",
            "Epoch 331/500\n",
            "104/104 [==============================] - 1s 5ms/step - loss: 0.0770 - accuracy: 0.9692 - val_loss: 0.6245 - val_accuracy: 0.8213\n",
            "Epoch 332/500\n",
            "104/104 [==============================] - 1s 5ms/step - loss: 0.0983 - accuracy: 0.9667 - val_loss: 0.6124 - val_accuracy: 0.8068\n",
            "Epoch 333/500\n",
            "104/104 [==============================] - 0s 5ms/step - loss: 0.0940 - accuracy: 0.9716 - val_loss: 0.6188 - val_accuracy: 0.7874\n",
            "Epoch 334/500\n",
            "104/104 [==============================] - 1s 5ms/step - loss: 0.1381 - accuracy: 0.9516 - val_loss: 0.6530 - val_accuracy: 0.8019\n",
            "Epoch 335/500\n",
            "104/104 [==============================] - 0s 5ms/step - loss: 0.1036 - accuracy: 0.9643 - val_loss: 0.6465 - val_accuracy: 0.7874\n",
            "Epoch 336/500\n",
            "104/104 [==============================] - 1s 5ms/step - loss: 0.0945 - accuracy: 0.9674 - val_loss: 0.6540 - val_accuracy: 0.8068\n",
            "Epoch 337/500\n",
            "104/104 [==============================] - 0s 5ms/step - loss: 0.1107 - accuracy: 0.9649 - val_loss: 0.6439 - val_accuracy: 0.7826\n",
            "Epoch 338/500\n",
            "104/104 [==============================] - 0s 5ms/step - loss: 0.1317 - accuracy: 0.9486 - val_loss: 0.6847 - val_accuracy: 0.7633\n",
            "Epoch 339/500\n",
            "104/104 [==============================] - 1s 5ms/step - loss: 0.1218 - accuracy: 0.9583 - val_loss: 0.6651 - val_accuracy: 0.8116\n",
            "Epoch 340/500\n",
            "104/104 [==============================] - 1s 5ms/step - loss: 0.0977 - accuracy: 0.9649 - val_loss: 0.6753 - val_accuracy: 0.7778\n",
            "Epoch 341/500\n",
            "104/104 [==============================] - 1s 5ms/step - loss: 0.0813 - accuracy: 0.9710 - val_loss: 0.6553 - val_accuracy: 0.7971\n",
            "Epoch 342/500\n",
            "104/104 [==============================] - 0s 5ms/step - loss: 0.0714 - accuracy: 0.9734 - val_loss: 0.6140 - val_accuracy: 0.8068\n",
            "Epoch 343/500\n",
            "104/104 [==============================] - 1s 5ms/step - loss: 0.0949 - accuracy: 0.9692 - val_loss: 0.5969 - val_accuracy: 0.8164\n",
            "Epoch 344/500\n",
            "104/104 [==============================] - 0s 5ms/step - loss: 0.0767 - accuracy: 0.9752 - val_loss: 0.6911 - val_accuracy: 0.7971\n",
            "Epoch 345/500\n",
            "104/104 [==============================] - 1s 5ms/step - loss: 0.0800 - accuracy: 0.9722 - val_loss: 0.6887 - val_accuracy: 0.7778\n",
            "Epoch 346/500\n",
            "104/104 [==============================] - 0s 5ms/step - loss: 0.0921 - accuracy: 0.9655 - val_loss: 0.6455 - val_accuracy: 0.8019\n",
            "Epoch 347/500\n",
            "104/104 [==============================] - 0s 5ms/step - loss: 0.0949 - accuracy: 0.9686 - val_loss: 0.7210 - val_accuracy: 0.7826\n",
            "Epoch 348/500\n",
            "104/104 [==============================] - 0s 5ms/step - loss: 0.0991 - accuracy: 0.9643 - val_loss: 0.6539 - val_accuracy: 0.7874\n",
            "Epoch 349/500\n",
            "104/104 [==============================] - 0s 5ms/step - loss: 0.0949 - accuracy: 0.9692 - val_loss: 0.6986 - val_accuracy: 0.7874\n",
            "Epoch 350/500\n",
            "104/104 [==============================] - 0s 5ms/step - loss: 0.1021 - accuracy: 0.9637 - val_loss: 0.6600 - val_accuracy: 0.7923\n",
            "Epoch 351/500\n",
            "104/104 [==============================] - 0s 5ms/step - loss: 0.1027 - accuracy: 0.9631 - val_loss: 0.7089 - val_accuracy: 0.7971\n",
            "Epoch 352/500\n",
            "104/104 [==============================] - 1s 5ms/step - loss: 0.0845 - accuracy: 0.9680 - val_loss: 0.8103 - val_accuracy: 0.7874\n",
            "Epoch 353/500\n",
            "104/104 [==============================] - 0s 5ms/step - loss: 0.0878 - accuracy: 0.9692 - val_loss: 0.7692 - val_accuracy: 0.7874\n",
            "Epoch 354/500\n",
            "104/104 [==============================] - 0s 5ms/step - loss: 0.0903 - accuracy: 0.9667 - val_loss: 0.7632 - val_accuracy: 0.7826\n",
            "Epoch 355/500\n",
            "104/104 [==============================] - 0s 4ms/step - loss: 0.0957 - accuracy: 0.9680 - val_loss: 0.8198 - val_accuracy: 0.7681\n",
            "Epoch 356/500\n",
            "104/104 [==============================] - 0s 5ms/step - loss: 0.0676 - accuracy: 0.9788 - val_loss: 0.7718 - val_accuracy: 0.7681\n",
            "Epoch 357/500\n",
            "104/104 [==============================] - 1s 5ms/step - loss: 0.0791 - accuracy: 0.9692 - val_loss: 0.6272 - val_accuracy: 0.7923\n",
            "Epoch 358/500\n",
            "104/104 [==============================] - 0s 5ms/step - loss: 0.0790 - accuracy: 0.9722 - val_loss: 0.6809 - val_accuracy: 0.8019\n",
            "Epoch 359/500\n",
            "104/104 [==============================] - 1s 5ms/step - loss: 0.0861 - accuracy: 0.9643 - val_loss: 0.8562 - val_accuracy: 0.7633\n",
            "Epoch 360/500\n",
            "104/104 [==============================] - 1s 5ms/step - loss: 0.1100 - accuracy: 0.9655 - val_loss: 0.9388 - val_accuracy: 0.7295\n",
            "Epoch 361/500\n",
            "104/104 [==============================] - 1s 5ms/step - loss: 0.1053 - accuracy: 0.9631 - val_loss: 0.8348 - val_accuracy: 0.7729\n",
            "Epoch 362/500\n",
            "104/104 [==============================] - 1s 5ms/step - loss: 0.1001 - accuracy: 0.9607 - val_loss: 0.7785 - val_accuracy: 0.7778\n",
            "Epoch 363/500\n",
            "104/104 [==============================] - 0s 4ms/step - loss: 0.0982 - accuracy: 0.9643 - val_loss: 0.6699 - val_accuracy: 0.8116\n",
            "Epoch 364/500\n",
            "104/104 [==============================] - 1s 5ms/step - loss: 0.1036 - accuracy: 0.9643 - val_loss: 0.9326 - val_accuracy: 0.7488\n",
            "Epoch 365/500\n",
            "104/104 [==============================] - 0s 5ms/step - loss: 0.1189 - accuracy: 0.9583 - val_loss: 0.7424 - val_accuracy: 0.7971\n",
            "Epoch 366/500\n",
            "104/104 [==============================] - 0s 5ms/step - loss: 0.1043 - accuracy: 0.9674 - val_loss: 0.7274 - val_accuracy: 0.7826\n",
            "Epoch 367/500\n",
            "104/104 [==============================] - 1s 5ms/step - loss: 0.0725 - accuracy: 0.9752 - val_loss: 0.8038 - val_accuracy: 0.7778\n",
            "Epoch 368/500\n",
            "104/104 [==============================] - 1s 5ms/step - loss: 0.0657 - accuracy: 0.9800 - val_loss: 0.7764 - val_accuracy: 0.7826\n",
            "Epoch 369/500\n",
            "104/104 [==============================] - 0s 5ms/step - loss: 0.0662 - accuracy: 0.9758 - val_loss: 0.7583 - val_accuracy: 0.7826\n",
            "Epoch 370/500\n",
            "104/104 [==============================] - 1s 5ms/step - loss: 0.0784 - accuracy: 0.9740 - val_loss: 0.7327 - val_accuracy: 0.7971\n",
            "Epoch 371/500\n",
            "104/104 [==============================] - 1s 5ms/step - loss: 0.0987 - accuracy: 0.9661 - val_loss: 0.7202 - val_accuracy: 0.7585\n",
            "Epoch 372/500\n",
            "104/104 [==============================] - 1s 5ms/step - loss: 0.0830 - accuracy: 0.9655 - val_loss: 0.7369 - val_accuracy: 0.7874\n",
            "Epoch 373/500\n",
            "104/104 [==============================] - 0s 5ms/step - loss: 0.0875 - accuracy: 0.9710 - val_loss: 0.6982 - val_accuracy: 0.8068\n",
            "Epoch 374/500\n",
            "104/104 [==============================] - 0s 5ms/step - loss: 0.0649 - accuracy: 0.9776 - val_loss: 0.7068 - val_accuracy: 0.8068\n",
            "Epoch 375/500\n",
            "104/104 [==============================] - 0s 5ms/step - loss: 0.1121 - accuracy: 0.9625 - val_loss: 0.6903 - val_accuracy: 0.7971\n",
            "Epoch 376/500\n",
            "104/104 [==============================] - 0s 5ms/step - loss: 0.1009 - accuracy: 0.9674 - val_loss: 0.7649 - val_accuracy: 0.7729\n",
            "Epoch 377/500\n",
            "104/104 [==============================] - 1s 5ms/step - loss: 0.0978 - accuracy: 0.9643 - val_loss: 0.6992 - val_accuracy: 0.8019\n",
            "Epoch 378/500\n",
            "104/104 [==============================] - 1s 5ms/step - loss: 0.1112 - accuracy: 0.9637 - val_loss: 0.7448 - val_accuracy: 0.8116\n",
            "Epoch 379/500\n",
            "104/104 [==============================] - 1s 5ms/step - loss: 0.0824 - accuracy: 0.9716 - val_loss: 0.6754 - val_accuracy: 0.8068\n",
            "Epoch 380/500\n",
            "104/104 [==============================] - 0s 5ms/step - loss: 0.0830 - accuracy: 0.9661 - val_loss: 0.7668 - val_accuracy: 0.7874\n",
            "Epoch 381/500\n",
            "104/104 [==============================] - 0s 5ms/step - loss: 0.0902 - accuracy: 0.9686 - val_loss: 0.7337 - val_accuracy: 0.7633\n",
            "Epoch 382/500\n",
            "104/104 [==============================] - 0s 5ms/step - loss: 0.0888 - accuracy: 0.9710 - val_loss: 0.7694 - val_accuracy: 0.7729\n",
            "Epoch 383/500\n",
            "104/104 [==============================] - 1s 5ms/step - loss: 0.0707 - accuracy: 0.9758 - val_loss: 0.7675 - val_accuracy: 0.8116\n",
            "Epoch 384/500\n",
            "104/104 [==============================] - 1s 5ms/step - loss: 0.0578 - accuracy: 0.9794 - val_loss: 0.7091 - val_accuracy: 0.8019\n",
            "Epoch 385/500\n",
            "104/104 [==============================] - 1s 5ms/step - loss: 0.0588 - accuracy: 0.9843 - val_loss: 0.6758 - val_accuracy: 0.7923\n",
            "Epoch 386/500\n",
            "104/104 [==============================] - 1s 5ms/step - loss: 0.0661 - accuracy: 0.9740 - val_loss: 0.7483 - val_accuracy: 0.7923\n",
            "Epoch 387/500\n",
            "104/104 [==============================] - 1s 5ms/step - loss: 0.0541 - accuracy: 0.9788 - val_loss: 0.7507 - val_accuracy: 0.7874\n",
            "Epoch 388/500\n",
            "104/104 [==============================] - 1s 5ms/step - loss: 0.0817 - accuracy: 0.9752 - val_loss: 0.7904 - val_accuracy: 0.7488\n",
            "Epoch 389/500\n",
            "104/104 [==============================] - 1s 5ms/step - loss: 0.1159 - accuracy: 0.9607 - val_loss: 0.7334 - val_accuracy: 0.7923\n",
            "Epoch 390/500\n",
            "104/104 [==============================] - 0s 5ms/step - loss: 0.0763 - accuracy: 0.9722 - val_loss: 0.7251 - val_accuracy: 0.7923\n",
            "Epoch 391/500\n",
            "104/104 [==============================] - 1s 5ms/step - loss: 0.0795 - accuracy: 0.9752 - val_loss: 0.7304 - val_accuracy: 0.7681\n",
            "Epoch 392/500\n",
            "104/104 [==============================] - 1s 5ms/step - loss: 0.0813 - accuracy: 0.9649 - val_loss: 0.6607 - val_accuracy: 0.7971\n",
            "Epoch 393/500\n",
            "104/104 [==============================] - 1s 5ms/step - loss: 0.0827 - accuracy: 0.9692 - val_loss: 0.6317 - val_accuracy: 0.8164\n",
            "Epoch 394/500\n",
            "104/104 [==============================] - 0s 5ms/step - loss: 0.0852 - accuracy: 0.9680 - val_loss: 0.7341 - val_accuracy: 0.7633\n",
            "Epoch 395/500\n",
            "104/104 [==============================] - 1s 5ms/step - loss: 0.1061 - accuracy: 0.9619 - val_loss: 0.7750 - val_accuracy: 0.7585\n",
            "Epoch 396/500\n",
            "104/104 [==============================] - 1s 5ms/step - loss: 0.0673 - accuracy: 0.9728 - val_loss: 0.7485 - val_accuracy: 0.7536\n",
            "Epoch 397/500\n",
            "104/104 [==============================] - 1s 5ms/step - loss: 0.0636 - accuracy: 0.9752 - val_loss: 0.7306 - val_accuracy: 0.7778\n",
            "Epoch 398/500\n",
            "104/104 [==============================] - 0s 5ms/step - loss: 0.0590 - accuracy: 0.9800 - val_loss: 0.8261 - val_accuracy: 0.7778\n",
            "Epoch 399/500\n",
            "104/104 [==============================] - 1s 5ms/step - loss: 0.0926 - accuracy: 0.9698 - val_loss: 0.7342 - val_accuracy: 0.7923\n",
            "Epoch 400/500\n",
            "104/104 [==============================] - 0s 5ms/step - loss: 0.1114 - accuracy: 0.9595 - val_loss: 0.7212 - val_accuracy: 0.8116\n",
            "Epoch 401/500\n",
            "104/104 [==============================] - 1s 5ms/step - loss: 0.0777 - accuracy: 0.9752 - val_loss: 0.6636 - val_accuracy: 0.7971\n",
            "Epoch 402/500\n",
            "104/104 [==============================] - 1s 5ms/step - loss: 0.0834 - accuracy: 0.9746 - val_loss: 0.8739 - val_accuracy: 0.7681\n",
            "Epoch 403/500\n",
            "104/104 [==============================] - 0s 5ms/step - loss: 0.1117 - accuracy: 0.9607 - val_loss: 0.7249 - val_accuracy: 0.7826\n",
            "Epoch 404/500\n",
            "104/104 [==============================] - 0s 4ms/step - loss: 0.0909 - accuracy: 0.9704 - val_loss: 0.8070 - val_accuracy: 0.7633\n",
            "Epoch 405/500\n",
            "104/104 [==============================] - 0s 5ms/step - loss: 0.0881 - accuracy: 0.9692 - val_loss: 0.8045 - val_accuracy: 0.7923\n",
            "Epoch 406/500\n",
            "104/104 [==============================] - 1s 5ms/step - loss: 0.0635 - accuracy: 0.9782 - val_loss: 0.8429 - val_accuracy: 0.7826\n",
            "Epoch 407/500\n",
            "104/104 [==============================] - 0s 5ms/step - loss: 0.0865 - accuracy: 0.9680 - val_loss: 0.7302 - val_accuracy: 0.7826\n",
            "Epoch 408/500\n",
            "104/104 [==============================] - 1s 5ms/step - loss: 0.0617 - accuracy: 0.9813 - val_loss: 0.7456 - val_accuracy: 0.7826\n",
            "Epoch 409/500\n",
            "104/104 [==============================] - 0s 5ms/step - loss: 0.0523 - accuracy: 0.9788 - val_loss: 0.8985 - val_accuracy: 0.7633\n",
            "Epoch 410/500\n",
            "104/104 [==============================] - 1s 5ms/step - loss: 0.0961 - accuracy: 0.9667 - val_loss: 0.7102 - val_accuracy: 0.7874\n",
            "Epoch 411/500\n",
            "104/104 [==============================] - 1s 5ms/step - loss: 0.0684 - accuracy: 0.9716 - val_loss: 0.7335 - val_accuracy: 0.7971\n",
            "Epoch 412/500\n",
            "104/104 [==============================] - 1s 5ms/step - loss: 0.0678 - accuracy: 0.9752 - val_loss: 0.7082 - val_accuracy: 0.8019\n",
            "Epoch 413/500\n",
            "104/104 [==============================] - 0s 5ms/step - loss: 0.0685 - accuracy: 0.9758 - val_loss: 0.8359 - val_accuracy: 0.7681\n",
            "Epoch 414/500\n",
            "104/104 [==============================] - 0s 5ms/step - loss: 0.0618 - accuracy: 0.9770 - val_loss: 0.7593 - val_accuracy: 0.7826\n",
            "Epoch 415/500\n",
            "104/104 [==============================] - 1s 5ms/step - loss: 0.0584 - accuracy: 0.9794 - val_loss: 0.8425 - val_accuracy: 0.7536\n",
            "Epoch 416/500\n",
            "104/104 [==============================] - 1s 5ms/step - loss: 0.0840 - accuracy: 0.9740 - val_loss: 0.7809 - val_accuracy: 0.7729\n",
            "Epoch 417/500\n",
            "104/104 [==============================] - 1s 5ms/step - loss: 0.0731 - accuracy: 0.9752 - val_loss: 0.7419 - val_accuracy: 0.7923\n",
            "Epoch 418/500\n",
            "104/104 [==============================] - 0s 5ms/step - loss: 0.0731 - accuracy: 0.9788 - val_loss: 0.7537 - val_accuracy: 0.7874\n",
            "Epoch 419/500\n",
            "104/104 [==============================] - 0s 5ms/step - loss: 0.0798 - accuracy: 0.9716 - val_loss: 0.7567 - val_accuracy: 0.8019\n",
            "Epoch 420/500\n",
            "104/104 [==============================] - 0s 5ms/step - loss: 0.0730 - accuracy: 0.9746 - val_loss: 0.7994 - val_accuracy: 0.7681\n",
            "Epoch 421/500\n",
            "104/104 [==============================] - 1s 5ms/step - loss: 0.0658 - accuracy: 0.9746 - val_loss: 0.8810 - val_accuracy: 0.7681\n",
            "Epoch 422/500\n",
            "104/104 [==============================] - 0s 5ms/step - loss: 0.0805 - accuracy: 0.9686 - val_loss: 0.7580 - val_accuracy: 0.7923\n",
            "Epoch 423/500\n",
            "104/104 [==============================] - 0s 5ms/step - loss: 0.0911 - accuracy: 0.9686 - val_loss: 0.7804 - val_accuracy: 0.7778\n",
            "Epoch 424/500\n",
            "104/104 [==============================] - 1s 5ms/step - loss: 0.0732 - accuracy: 0.9746 - val_loss: 0.7262 - val_accuracy: 0.8019\n",
            "Epoch 425/500\n",
            "104/104 [==============================] - 0s 5ms/step - loss: 0.0837 - accuracy: 0.9740 - val_loss: 0.7461 - val_accuracy: 0.7778\n",
            "Epoch 426/500\n",
            "104/104 [==============================] - 1s 5ms/step - loss: 0.0673 - accuracy: 0.9788 - val_loss: 0.7670 - val_accuracy: 0.8068\n",
            "Epoch 427/500\n",
            "104/104 [==============================] - 1s 5ms/step - loss: 0.0645 - accuracy: 0.9770 - val_loss: 0.8412 - val_accuracy: 0.7729\n",
            "Epoch 428/500\n",
            "104/104 [==============================] - 0s 5ms/step - loss: 0.0559 - accuracy: 0.9758 - val_loss: 0.8220 - val_accuracy: 0.7826\n",
            "Epoch 429/500\n",
            "104/104 [==============================] - 1s 5ms/step - loss: 0.0728 - accuracy: 0.9764 - val_loss: 0.7611 - val_accuracy: 0.7874\n",
            "Epoch 430/500\n",
            "104/104 [==============================] - 0s 5ms/step - loss: 0.0660 - accuracy: 0.9782 - val_loss: 0.7784 - val_accuracy: 0.7971\n",
            "Epoch 431/500\n",
            "104/104 [==============================] - 1s 5ms/step - loss: 0.0744 - accuracy: 0.9758 - val_loss: 0.7218 - val_accuracy: 0.8068\n",
            "Epoch 432/500\n",
            "104/104 [==============================] - 0s 5ms/step - loss: 0.0683 - accuracy: 0.9776 - val_loss: 0.7518 - val_accuracy: 0.7923\n",
            "Epoch 433/500\n",
            "104/104 [==============================] - 0s 5ms/step - loss: 0.0772 - accuracy: 0.9710 - val_loss: 0.7653 - val_accuracy: 0.7729\n",
            "Epoch 434/500\n",
            "104/104 [==============================] - 1s 5ms/step - loss: 0.0827 - accuracy: 0.9680 - val_loss: 0.8242 - val_accuracy: 0.7826\n",
            "Epoch 435/500\n",
            "104/104 [==============================] - 1s 5ms/step - loss: 0.0594 - accuracy: 0.9758 - val_loss: 0.9195 - val_accuracy: 0.7633\n",
            "Epoch 436/500\n",
            "104/104 [==============================] - 1s 5ms/step - loss: 0.0466 - accuracy: 0.9788 - val_loss: 0.8308 - val_accuracy: 0.7826\n",
            "Epoch 437/500\n",
            "104/104 [==============================] - 0s 5ms/step - loss: 0.0707 - accuracy: 0.9758 - val_loss: 0.7494 - val_accuracy: 0.7681\n",
            "Epoch 438/500\n",
            "104/104 [==============================] - 1s 5ms/step - loss: 0.0862 - accuracy: 0.9710 - val_loss: 0.7523 - val_accuracy: 0.8019\n",
            "Epoch 439/500\n",
            "104/104 [==============================] - 1s 5ms/step - loss: 0.0807 - accuracy: 0.9752 - val_loss: 0.6413 - val_accuracy: 0.8164\n",
            "Epoch 440/500\n",
            "104/104 [==============================] - 1s 5ms/step - loss: 0.0852 - accuracy: 0.9704 - val_loss: 0.6439 - val_accuracy: 0.8068\n",
            "Epoch 441/500\n",
            "104/104 [==============================] - 1s 5ms/step - loss: 0.0705 - accuracy: 0.9758 - val_loss: 0.7872 - val_accuracy: 0.7778\n",
            "Epoch 442/500\n",
            "104/104 [==============================] - 0s 5ms/step - loss: 0.0733 - accuracy: 0.9740 - val_loss: 0.6776 - val_accuracy: 0.8019\n",
            "Epoch 443/500\n",
            "104/104 [==============================] - 1s 5ms/step - loss: 0.0605 - accuracy: 0.9752 - val_loss: 0.7537 - val_accuracy: 0.8068\n",
            "Epoch 444/500\n",
            "104/104 [==============================] - 1s 5ms/step - loss: 0.0646 - accuracy: 0.9807 - val_loss: 0.8301 - val_accuracy: 0.7971\n",
            "Epoch 445/500\n",
            "104/104 [==============================] - 1s 5ms/step - loss: 0.0672 - accuracy: 0.9776 - val_loss: 0.7583 - val_accuracy: 0.7874\n",
            "Epoch 446/500\n",
            "104/104 [==============================] - 0s 5ms/step - loss: 0.0392 - accuracy: 0.9855 - val_loss: 0.7645 - val_accuracy: 0.7729\n",
            "Epoch 447/500\n",
            "104/104 [==============================] - 1s 5ms/step - loss: 0.0625 - accuracy: 0.9746 - val_loss: 0.7772 - val_accuracy: 0.7874\n",
            "Epoch 448/500\n",
            "104/104 [==============================] - 1s 5ms/step - loss: 0.0582 - accuracy: 0.9825 - val_loss: 0.7928 - val_accuracy: 0.7874\n",
            "Epoch 449/500\n",
            "104/104 [==============================] - 1s 5ms/step - loss: 0.0755 - accuracy: 0.9716 - val_loss: 0.8144 - val_accuracy: 0.7778\n",
            "Epoch 450/500\n",
            "104/104 [==============================] - 0s 5ms/step - loss: 0.0680 - accuracy: 0.9758 - val_loss: 0.7080 - val_accuracy: 0.8309\n",
            "Epoch 451/500\n",
            "104/104 [==============================] - 0s 5ms/step - loss: 0.0602 - accuracy: 0.9728 - val_loss: 0.7085 - val_accuracy: 0.8116\n",
            "Epoch 452/500\n",
            "104/104 [==============================] - 0s 5ms/step - loss: 0.0735 - accuracy: 0.9740 - val_loss: 0.8197 - val_accuracy: 0.7488\n",
            "Epoch 453/500\n",
            "104/104 [==============================] - 1s 5ms/step - loss: 0.0740 - accuracy: 0.9722 - val_loss: 0.7537 - val_accuracy: 0.8068\n",
            "Epoch 454/500\n",
            "104/104 [==============================] - 1s 5ms/step - loss: 0.0736 - accuracy: 0.9776 - val_loss: 0.8247 - val_accuracy: 0.7778\n",
            "Epoch 455/500\n",
            "104/104 [==============================] - 0s 5ms/step - loss: 0.0632 - accuracy: 0.9764 - val_loss: 0.8222 - val_accuracy: 0.8019\n",
            "Epoch 456/500\n",
            "104/104 [==============================] - 1s 5ms/step - loss: 0.0682 - accuracy: 0.9740 - val_loss: 0.7836 - val_accuracy: 0.7971\n",
            "Epoch 457/500\n",
            "104/104 [==============================] - 1s 5ms/step - loss: 0.0796 - accuracy: 0.9704 - val_loss: 0.8027 - val_accuracy: 0.7778\n",
            "Epoch 458/500\n",
            "104/104 [==============================] - 1s 5ms/step - loss: 0.0724 - accuracy: 0.9764 - val_loss: 0.7370 - val_accuracy: 0.8164\n",
            "Epoch 459/500\n",
            "104/104 [==============================] - 0s 5ms/step - loss: 0.0777 - accuracy: 0.9746 - val_loss: 0.7423 - val_accuracy: 0.8019\n",
            "Epoch 460/500\n",
            "104/104 [==============================] - 0s 5ms/step - loss: 0.0791 - accuracy: 0.9758 - val_loss: 0.8001 - val_accuracy: 0.7971\n",
            "Epoch 461/500\n",
            "104/104 [==============================] - 0s 5ms/step - loss: 0.0790 - accuracy: 0.9734 - val_loss: 0.7625 - val_accuracy: 0.8068\n",
            "Epoch 462/500\n",
            "104/104 [==============================] - 1s 5ms/step - loss: 0.0901 - accuracy: 0.9692 - val_loss: 0.8120 - val_accuracy: 0.7778\n",
            "Epoch 463/500\n",
            "104/104 [==============================] - 1s 5ms/step - loss: 0.0830 - accuracy: 0.9728 - val_loss: 0.7507 - val_accuracy: 0.7971\n",
            "Epoch 464/500\n",
            "104/104 [==============================] - 1s 5ms/step - loss: 0.0533 - accuracy: 0.9807 - val_loss: 0.7538 - val_accuracy: 0.7971\n",
            "Epoch 465/500\n",
            "104/104 [==============================] - 1s 5ms/step - loss: 0.0532 - accuracy: 0.9807 - val_loss: 0.7342 - val_accuracy: 0.7971\n",
            "Epoch 466/500\n",
            "104/104 [==============================] - 1s 5ms/step - loss: 0.0459 - accuracy: 0.9825 - val_loss: 0.7160 - val_accuracy: 0.8213\n",
            "Epoch 467/500\n",
            "104/104 [==============================] - 1s 5ms/step - loss: 0.0684 - accuracy: 0.9740 - val_loss: 0.7965 - val_accuracy: 0.7681\n",
            "Epoch 468/500\n",
            "104/104 [==============================] - 1s 5ms/step - loss: 0.0330 - accuracy: 0.9879 - val_loss: 0.8340 - val_accuracy: 0.7874\n",
            "Epoch 469/500\n",
            "104/104 [==============================] - 0s 5ms/step - loss: 0.0639 - accuracy: 0.9764 - val_loss: 0.7806 - val_accuracy: 0.8164\n",
            "Epoch 470/500\n",
            "104/104 [==============================] - 0s 5ms/step - loss: 0.0633 - accuracy: 0.9770 - val_loss: 0.7960 - val_accuracy: 0.7633\n",
            "Epoch 471/500\n",
            "104/104 [==============================] - 0s 5ms/step - loss: 0.0697 - accuracy: 0.9746 - val_loss: 0.8092 - val_accuracy: 0.7971\n",
            "Epoch 472/500\n",
            "104/104 [==============================] - 1s 5ms/step - loss: 0.0555 - accuracy: 0.9752 - val_loss: 0.8317 - val_accuracy: 0.7633\n",
            "Epoch 473/500\n",
            "104/104 [==============================] - 1s 5ms/step - loss: 0.0783 - accuracy: 0.9746 - val_loss: 0.8346 - val_accuracy: 0.7874\n",
            "Epoch 474/500\n",
            "104/104 [==============================] - 0s 5ms/step - loss: 0.0571 - accuracy: 0.9800 - val_loss: 0.7965 - val_accuracy: 0.7923\n",
            "Epoch 475/500\n",
            "104/104 [==============================] - 1s 5ms/step - loss: 0.0758 - accuracy: 0.9746 - val_loss: 0.8984 - val_accuracy: 0.7729\n",
            "Epoch 476/500\n",
            "104/104 [==============================] - 1s 5ms/step - loss: 0.1128 - accuracy: 0.9649 - val_loss: 0.7791 - val_accuracy: 0.7681\n",
            "Epoch 477/500\n",
            "104/104 [==============================] - 1s 5ms/step - loss: 0.0596 - accuracy: 0.9764 - val_loss: 0.7324 - val_accuracy: 0.8116\n",
            "Epoch 478/500\n",
            "104/104 [==============================] - 1s 5ms/step - loss: 0.0716 - accuracy: 0.9770 - val_loss: 0.6570 - val_accuracy: 0.8213\n",
            "Epoch 479/500\n",
            "104/104 [==============================] - 1s 5ms/step - loss: 0.0852 - accuracy: 0.9704 - val_loss: 0.8376 - val_accuracy: 0.7874\n",
            "Epoch 480/500\n",
            "104/104 [==============================] - 1s 5ms/step - loss: 0.0707 - accuracy: 0.9746 - val_loss: 0.7047 - val_accuracy: 0.7778\n",
            "Epoch 481/500\n",
            "104/104 [==============================] - 1s 5ms/step - loss: 0.0586 - accuracy: 0.9825 - val_loss: 0.7298 - val_accuracy: 0.8261\n",
            "Epoch 482/500\n",
            "104/104 [==============================] - 1s 5ms/step - loss: 0.0390 - accuracy: 0.9891 - val_loss: 0.7539 - val_accuracy: 0.7633\n",
            "Epoch 483/500\n",
            "104/104 [==============================] - 1s 5ms/step - loss: 0.0481 - accuracy: 0.9837 - val_loss: 0.6690 - val_accuracy: 0.8406\n",
            "Epoch 484/500\n",
            "104/104 [==============================] - 1s 5ms/step - loss: 0.0425 - accuracy: 0.9837 - val_loss: 0.7045 - val_accuracy: 0.7874\n",
            "Epoch 485/500\n",
            "104/104 [==============================] - 0s 5ms/step - loss: 0.0841 - accuracy: 0.9782 - val_loss: 0.7058 - val_accuracy: 0.7971\n",
            "Epoch 486/500\n",
            "104/104 [==============================] - 0s 5ms/step - loss: 0.0757 - accuracy: 0.9764 - val_loss: 0.6830 - val_accuracy: 0.8213\n",
            "Epoch 487/500\n",
            "104/104 [==============================] - 1s 5ms/step - loss: 0.0723 - accuracy: 0.9698 - val_loss: 0.7243 - val_accuracy: 0.8164\n",
            "Epoch 488/500\n",
            "104/104 [==============================] - 1s 5ms/step - loss: 0.0675 - accuracy: 0.9752 - val_loss: 0.6541 - val_accuracy: 0.8164\n",
            "Epoch 489/500\n",
            "104/104 [==============================] - 1s 5ms/step - loss: 0.0480 - accuracy: 0.9861 - val_loss: 0.6869 - val_accuracy: 0.8164\n",
            "Epoch 490/500\n",
            "104/104 [==============================] - 0s 5ms/step - loss: 0.0562 - accuracy: 0.9819 - val_loss: 0.7075 - val_accuracy: 0.7971\n",
            "Epoch 491/500\n",
            "104/104 [==============================] - 1s 5ms/step - loss: 0.0708 - accuracy: 0.9788 - val_loss: 0.9223 - val_accuracy: 0.7826\n",
            "Epoch 492/500\n",
            "104/104 [==============================] - 1s 5ms/step - loss: 0.0735 - accuracy: 0.9740 - val_loss: 0.7115 - val_accuracy: 0.7971\n",
            "Epoch 493/500\n",
            "104/104 [==============================] - 1s 5ms/step - loss: 0.0520 - accuracy: 0.9837 - val_loss: 0.6925 - val_accuracy: 0.8406\n",
            "Epoch 494/500\n",
            "104/104 [==============================] - 1s 5ms/step - loss: 0.0475 - accuracy: 0.9831 - val_loss: 0.7818 - val_accuracy: 0.8019\n",
            "Epoch 495/500\n",
            "104/104 [==============================] - 1s 5ms/step - loss: 0.0734 - accuracy: 0.9740 - val_loss: 0.9148 - val_accuracy: 0.7440\n",
            "Epoch 496/500\n",
            "104/104 [==============================] - 1s 5ms/step - loss: 0.0712 - accuracy: 0.9746 - val_loss: 0.7780 - val_accuracy: 0.7923\n",
            "Epoch 497/500\n",
            "104/104 [==============================] - 1s 5ms/step - loss: 0.0560 - accuracy: 0.9794 - val_loss: 0.8419 - val_accuracy: 0.7923\n",
            "Epoch 498/500\n",
            "104/104 [==============================] - 1s 5ms/step - loss: 0.0591 - accuracy: 0.9782 - val_loss: 0.8375 - val_accuracy: 0.7971\n",
            "Epoch 499/500\n",
            "104/104 [==============================] - 1s 5ms/step - loss: 0.0639 - accuracy: 0.9758 - val_loss: 0.7104 - val_accuracy: 0.8261\n",
            "Epoch 500/500\n",
            "104/104 [==============================] - 1s 5ms/step - loss: 0.0611 - accuracy: 0.9788 - val_loss: 0.6669 - val_accuracy: 0.8406\n"
          ]
        }
      ]
    },
    {
      "cell_type": "code",
      "source": [
        "plt.plot(cnnhistory.history['loss'])\n",
        "plt.plot(cnnhistory.history['val_loss'])\n",
        "plt.title('model loss')\n",
        "plt.ylabel('loss')\n",
        "plt.xlabel('epoch')\n",
        "plt.legend(['train','test'], loc='upper left')\n",
        "plt.show()"
      ],
      "metadata": {
        "colab": {
          "base_uri": "https://localhost:8080/",
          "height": 295
        },
        "id": "oQYnuaCrDH_A",
        "outputId": "15e33b92-66e6-4f6c-f41f-19b656d47991"
      },
      "execution_count": 22,
      "outputs": [
        {
          "output_type": "display_data",
          "data": {
            "text/plain": [
              "<Figure size 432x288 with 1 Axes>"
            ],
            "image/png": "[encoded data removed]"
          },
          "metadata": {
            "needs_background": "light"
          }
        }
      ]
    },
    {
      "cell_type": "code",
      "source": [
        "plt.plot(cnnhistory.history['accuracy'])\n",
        "plt.plot(cnnhistory.history['val_accuracy'])\n",
        "plt.title('model accuracy')\n",
        "plt.ylabel('accuracy')\n",
        "plt.xlabel('epoch')\n",
        "plt.legend(['train','test'], loc='upper left')\n",
        "plt.show()"
      ],
      "metadata": {
        "colab": {
          "base_uri": "https://localhost:8080/",
          "height": 295
        },
        "id": "IFkTuO8nDNdq",
        "outputId": "357d330a-2ad4-4e5a-e817-ec5e7246812b"
      },
      "execution_count": 23,
      "outputs": [
        {
          "output_type": "display_data",
          "data": {
            "text/plain": [
              "<Figure size 432x288 with 1 Axes>"
            ],
            "image/png": "[encoded data removed]"
          },
          "metadata": {
            "needs_background": "light"
          }
        }
      ]
    },
    {
      "cell_type": "code",
      "source": [
        "#predictions = model.predict_classes(x_testcnn)\n",
        "predictions = model.predict(x_testcnn)"
      ],
      "metadata": {
        "id": "A2xtrN5wDQgY"
      },
      "execution_count": 24,
      "outputs": []
    },
    {
      "cell_type": "code",
      "source": [
        "predictions"
      ],
      "metadata": {
        "colab": {
          "base_uri": "https://localhost:8080/"
        },
        "id": "_f_ohjXKDUpY",
        "outputId": "2c8b3b3c-ef21-48bb-d9cb-a7d7d1173e48"
      },
      "execution_count": 25,
      "outputs": [
        {
          "output_type": "execute_result",
          "data": {
            "text/plain": [
              "array([[1.15701944e-07, 5.55171287e-09, 2.24317759e-02, 1.32335288e-07,\n",
              "        2.50838980e-06, 9.77565408e-01],\n",
              "       [2.62324512e-03, 9.67977941e-01, 3.49238667e-06, 2.91635748e-02,\n",
              "        4.76181631e-05, 1.84175267e-04],\n",
              "       [5.23801624e-08, 1.07757605e-05, 9.99906659e-01, 3.86751964e-08,\n",
              "        6.90431407e-05, 1.34823595e-05],\n",
              "       ...,\n",
              "       [1.87276843e-08, 2.02349838e-11, 1.96975776e-07, 5.52720216e-08,\n",
              "        9.99988079e-01, 1.17019808e-05],\n",
              "       [1.40412943e-04, 6.68361554e-06, 1.82845327e-03, 9.41782236e-01,\n",
              "        1.13782822e-03, 5.51044755e-02],\n",
              "       [2.30995193e-03, 1.77254304e-04, 6.91760797e-04, 8.53874080e-05,\n",
              "        9.96735156e-01, 4.65615557e-07]], dtype=float32)"
            ]
          },
          "metadata": {},
          "execution_count": 25
        }
      ]
    },
    {
      "cell_type": "code",
      "source": [
        "y_test"
      ],
      "metadata": {
        "colab": {
          "base_uri": "https://localhost:8080/"
        },
        "id": "cmA2bFgsDW3D",
        "outputId": "d2bd4a7d-e076-4f01-9d66-2e56e779338c"
      },
      "execution_count": 26,
      "outputs": [
        {
          "output_type": "execute_result",
          "data": {
            "text/plain": [
              "array([5, 1, 2, 5, 3, 4, 2, 0, 3, 1, 3, 2, 1, 4, 3, 0, 5, 0, 2, 5, 0, 0,\n",
              "       1, 3, 2, 3, 2, 5, 4, 2, 2, 3, 1, 2, 5, 5, 3, 5, 3, 3, 4, 1, 3, 2,\n",
              "       3, 1, 5, 3, 1, 2, 4, 4, 5, 5, 5, 1, 2, 3, 2, 5, 0, 2, 4, 2, 5, 4,\n",
              "       3, 0, 1, 2, 5, 2, 1, 2, 4, 5, 4, 1, 5, 5, 3, 1, 5, 3, 2, 4, 2, 5,\n",
              "       0, 5, 0, 5, 4, 0, 2, 4, 0, 2, 2, 0, 2, 3, 5, 3, 5, 5, 3, 1, 2, 2,\n",
              "       2, 1, 3, 2, 1, 3, 4, 4, 1, 1, 2, 4, 4, 1, 4, 2, 0, 4, 5, 5, 3, 1,\n",
              "       2, 1, 5, 5, 1, 2, 3, 3, 0, 3, 3, 0, 1, 0, 1, 2, 1, 5, 1, 2, 2, 0,\n",
              "       1, 1, 1, 1, 1, 4, 0, 1, 5, 1, 4, 5, 5, 4, 1, 0, 3, 5, 2, 3, 0, 4,\n",
              "       1, 3, 1, 0, 5, 5, 3, 5, 4, 5, 4, 0, 4, 1, 2, 1, 5, 0, 4, 3, 2, 1,\n",
              "       0, 3, 5, 0, 4, 5, 4, 5, 4])"
            ]
          },
          "metadata": {},
          "execution_count": 26
        }
      ]
    },
    {
      "cell_type": "code",
      "source": [
        "new_Ytest = y_test.astype(int)"
      ],
      "metadata": {
        "id": "0PHDKWJWDY3g"
      },
      "execution_count": 27,
      "outputs": []
    },
    {
      "cell_type": "code",
      "source": [
        "new_Ytest"
      ],
      "metadata": {
        "colab": {
          "base_uri": "https://localhost:8080/"
        },
        "id": "k68v2i-pDbZE",
        "outputId": "f87d2f62-9fa4-4a29-848e-435495cb45bd"
      },
      "execution_count": 28,
      "outputs": [
        {
          "output_type": "execute_result",
          "data": {
            "text/plain": [
              "array([5, 1, 2, 5, 3, 4, 2, 0, 3, 1, 3, 2, 1, 4, 3, 0, 5, 0, 2, 5, 0, 0,\n",
              "       1, 3, 2, 3, 2, 5, 4, 2, 2, 3, 1, 2, 5, 5, 3, 5, 3, 3, 4, 1, 3, 2,\n",
              "       3, 1, 5, 3, 1, 2, 4, 4, 5, 5, 5, 1, 2, 3, 2, 5, 0, 2, 4, 2, 5, 4,\n",
              "       3, 0, 1, 2, 5, 2, 1, 2, 4, 5, 4, 1, 5, 5, 3, 1, 5, 3, 2, 4, 2, 5,\n",
              "       0, 5, 0, 5, 4, 0, 2, 4, 0, 2, 2, 0, 2, 3, 5, 3, 5, 5, 3, 1, 2, 2,\n",
              "       2, 1, 3, 2, 1, 3, 4, 4, 1, 1, 2, 4, 4, 1, 4, 2, 0, 4, 5, 5, 3, 1,\n",
              "       2, 1, 5, 5, 1, 2, 3, 3, 0, 3, 3, 0, 1, 0, 1, 2, 1, 5, 1, 2, 2, 0,\n",
              "       1, 1, 1, 1, 1, 4, 0, 1, 5, 1, 4, 5, 5, 4, 1, 0, 3, 5, 2, 3, 0, 4,\n",
              "       1, 3, 1, 0, 5, 5, 3, 5, 4, 5, 4, 0, 4, 1, 2, 1, 5, 0, 4, 3, 2, 1,\n",
              "       0, 3, 5, 0, 4, 5, 4, 5, 4])"
            ]
          },
          "metadata": {},
          "execution_count": 28
        }
      ]
    },
    {
      "cell_type": "code",
      "source": [
        "preds1=predictions.argmax(axis=1)\n",
        "preds1"
      ],
      "metadata": {
        "colab": {
          "base_uri": "https://localhost:8080/"
        },
        "id": "4_cAI39VFhtp",
        "outputId": "5ffe06fb-902d-4fe0-e84c-950df3831871"
      },
      "execution_count": 29,
      "outputs": [
        {
          "output_type": "execute_result",
          "data": {
            "text/plain": [
              "array([5, 1, 2, 5, 3, 4, 2, 0, 3, 0, 3, 2, 1, 4, 3, 0, 5, 3, 2, 5, 2, 0,\n",
              "       1, 5, 2, 5, 2, 5, 2, 2, 2, 3, 0, 2, 5, 5, 1, 5, 3, 3, 4, 1, 3, 2,\n",
              "       3, 1, 5, 5, 1, 5, 4, 4, 5, 2, 3, 1, 2, 3, 2, 5, 0, 2, 4, 2, 5, 4,\n",
              "       3, 4, 1, 2, 5, 2, 1, 2, 4, 3, 4, 1, 5, 2, 3, 1, 5, 3, 2, 4, 2, 5,\n",
              "       0, 5, 0, 3, 4, 0, 3, 4, 3, 4, 2, 4, 4, 3, 5, 3, 5, 5, 5, 1, 2, 2,\n",
              "       2, 1, 3, 2, 1, 3, 5, 4, 0, 0, 2, 4, 4, 1, 4, 2, 0, 4, 5, 5, 5, 1,\n",
              "       4, 1, 2, 5, 1, 3, 3, 3, 0, 3, 5, 0, 1, 0, 1, 2, 1, 5, 0, 2, 2, 0,\n",
              "       1, 1, 1, 1, 2, 4, 0, 1, 5, 1, 4, 5, 5, 2, 1, 0, 3, 5, 2, 2, 1, 4,\n",
              "       1, 3, 1, 0, 5, 5, 3, 5, 4, 5, 2, 0, 0, 0, 2, 1, 3, 0, 4, 3, 2, 1,\n",
              "       1, 4, 5, 3, 4, 5, 4, 3, 4])"
            ]
          },
          "metadata": {},
          "execution_count": 29
        }
      ]
    },
    {
      "cell_type": "code",
      "source": [
        "abc = preds1.astype(int).flatten()"
      ],
      "metadata": {
        "id": "H4WEmM60NfQn"
      },
      "execution_count": 30,
      "outputs": []
    },
    {
      "cell_type": "code",
      "source": [
        "from sklearn.metrics import confusion_matrix\n",
        "c = confusion_matrix(new_Ytest, abc) \n",
        "c"
      ],
      "metadata": {
        "colab": {
          "base_uri": "https://localhost:8080/"
        },
        "id": "bKEBeEBlFjB8",
        "outputId": "9cdbb7d3-ec76-439b-bd70-968a41c1b9df"
      },
      "execution_count": 31,
      "outputs": [
        {
          "output_type": "execute_result",
          "data": {
            "text/plain": [
              "array([[17,  2,  1,  3,  2,  0],\n",
              "       [ 6, 32,  1,  0,  0,  0],\n",
              "       [ 0,  0, 32,  2,  3,  1],\n",
              "       [ 0,  1,  1, 24,  1,  6],\n",
              "       [ 1,  0,  3,  0, 25,  1],\n",
              "       [ 0,  0,  3,  5,  0, 34]])"
            ]
          },
          "metadata": {},
          "execution_count": 31
        }
      ]
    },
    {
      "cell_type": "code",
      "source": [
        "y_test"
      ],
      "metadata": {
        "colab": {
          "base_uri": "https://localhost:8080/"
        },
        "id": "m4RjG7LWLSQx",
        "outputId": "a364a582-1bea-4bf8-f304-d3937699a960"
      },
      "execution_count": 32,
      "outputs": [
        {
          "output_type": "execute_result",
          "data": {
            "text/plain": [
              "array([5, 1, 2, 5, 3, 4, 2, 0, 3, 1, 3, 2, 1, 4, 3, 0, 5, 0, 2, 5, 0, 0,\n",
              "       1, 3, 2, 3, 2, 5, 4, 2, 2, 3, 1, 2, 5, 5, 3, 5, 3, 3, 4, 1, 3, 2,\n",
              "       3, 1, 5, 3, 1, 2, 4, 4, 5, 5, 5, 1, 2, 3, 2, 5, 0, 2, 4, 2, 5, 4,\n",
              "       3, 0, 1, 2, 5, 2, 1, 2, 4, 5, 4, 1, 5, 5, 3, 1, 5, 3, 2, 4, 2, 5,\n",
              "       0, 5, 0, 5, 4, 0, 2, 4, 0, 2, 2, 0, 2, 3, 5, 3, 5, 5, 3, 1, 2, 2,\n",
              "       2, 1, 3, 2, 1, 3, 4, 4, 1, 1, 2, 4, 4, 1, 4, 2, 0, 4, 5, 5, 3, 1,\n",
              "       2, 1, 5, 5, 1, 2, 3, 3, 0, 3, 3, 0, 1, 0, 1, 2, 1, 5, 1, 2, 2, 0,\n",
              "       1, 1, 1, 1, 1, 4, 0, 1, 5, 1, 4, 5, 5, 4, 1, 0, 3, 5, 2, 3, 0, 4,\n",
              "       1, 3, 1, 0, 5, 5, 3, 5, 4, 5, 4, 0, 4, 1, 2, 1, 5, 0, 4, 3, 2, 1,\n",
              "       0, 3, 5, 0, 4, 5, 4, 5, 4])"
            ]
          },
          "metadata": {},
          "execution_count": 32
        }
      ]
    },
    {
      "cell_type": "code",
      "source": [
        "model.save('/content/drive/My Drive/graduation project/audio/paper_code/mariam/original_500 epoch_with_valid_Adam2_3')\n",
        "print(\"MODEL SAVED\")"
      ],
      "metadata": {
        "colab": {
          "base_uri": "https://localhost:8080/"
        },
        "id": "lsJBNeMWDl6Z",
        "outputId": "e016f08b-fc17-4f33-ac96-985afa240939"
      },
      "execution_count": 33,
      "outputs": [
        {
          "output_type": "stream",
          "name": "stdout",
          "text": [
            "INFO:tensorflow:Assets written to: /content/drive/My Drive/graduation project/audio/paper_code/mariam/original_500 epoch_with_valid_Adam2_3/assets\n",
            "MODEL SAVED\n"
          ]
        }
      ]
    },
    {
      "cell_type": "code",
      "source": [
        "new_model=keras.models.load_model('/content/drive/My Drive/graduation project/audio/paper_code/mariam/original_500 epoch_with_valid_Adam2_3')\n",
        "new_model.summary()"
      ],
      "metadata": {
        "colab": {
          "base_uri": "https://localhost:8080/"
        },
        "id": "Q3KjaO9GDoNl",
        "outputId": "80e3e5b1-1694-4f17-e06b-441b5088382a"
      },
      "execution_count": 34,
      "outputs": [
        {
          "output_type": "stream",
          "name": "stdout",
          "text": [
            "Model: \"sequential\"\n",
            "_________________________________________________________________\n",
            " Layer (type)                Output Shape              Param #   \n",
            "=================================================================\n",
            " conv1d (Conv1D)             (None, 40, 128)           1152      \n",
            "                                                                 \n",
            " activation (Activation)     (None, 40, 128)           0         \n",
            "                                                                 \n",
            " dropout (Dropout)           (None, 40, 128)           0         \n",
            "                                                                 \n",
            " max_pooling1d (MaxPooling1D  (None, 8, 128)           0         \n",
            " )                                                               \n",
            "                                                                 \n",
            " conv1d_1 (Conv1D)           (None, 8, 256)            262400    \n",
            "                                                                 \n",
            " activation_1 (Activation)   (None, 8, 256)            0         \n",
            "                                                                 \n",
            " dropout_1 (Dropout)         (None, 8, 256)            0         \n",
            "                                                                 \n",
            " max_pooling1d_1 (MaxPooling  (None, 1, 256)           0         \n",
            " 1D)                                                             \n",
            "                                                                 \n",
            " flatten (Flatten)           (None, 256)               0         \n",
            "                                                                 \n",
            " dense (Dense)               (None, 256)               65792     \n",
            "                                                                 \n",
            " activation_2 (Activation)   (None, 256)               0         \n",
            "                                                                 \n",
            " dense_1 (Dense)             (None, 256)               65792     \n",
            "                                                                 \n",
            " activation_3 (Activation)   (None, 256)               0         \n",
            "                                                                 \n",
            " dense_2 (Dense)             (None, 6)                 1542      \n",
            "                                                                 \n",
            " activation_4 (Activation)   (None, 6)                 0         \n",
            "                                                                 \n",
            "=================================================================\n",
            "Total params: 396,678\n",
            "Trainable params: 396,678\n",
            "Non-trainable params: 0\n",
            "_________________________________________________________________\n"
          ]
        }
      ]
    },
    {
      "cell_type": "code",
      "source": [
        "loss, acc =model.evaluate(x_testcnn, y_test)\n",
        "print(\"Restored model, accuracy: {:5.2f}%\".format(100*acc))"
      ],
      "metadata": {
        "colab": {
          "base_uri": "https://localhost:8080/"
        },
        "id": "n3kzoqPkDqqS",
        "outputId": "45f1f5cd-b51e-4a07-ac25-9ebf33e53e18"
      },
      "execution_count": 35,
      "outputs": [
        {
          "output_type": "stream",
          "name": "stdout",
          "text": [
            "7/7 [==============================] - 0s 5ms/step - loss: 0.7330 - accuracy: 0.7923\n",
            "Restored model, accuracy: 79.23%\n"
          ]
        }
      ]
    },
    {
      "cell_type": "code",
      "source": [
        "loss, acc =model.evaluate(X_train, y_train)\n",
        "print(\"Restored model train, accuracy: {:5.2f}%\".format(100*acc))"
      ],
      "metadata": {
        "id": "fJDTGH_OUX0z",
        "colab": {
          "base_uri": "https://localhost:8080/"
        },
        "outputId": "e78c84e7-14f4-4acc-cc00-c4b2234acd6a"
      },
      "execution_count": 36,
      "outputs": [
        {
          "output_type": "stream",
          "name": "stdout",
          "text": [
            "52/52 [==============================] - 0s 5ms/step - loss: 0.0210 - accuracy: 0.9964\n",
            "Restored model train, accuracy: 99.64%\n"
          ]
        }
      ]
    },
    {
      "cell_type": "code",
      "source": [
        "from sklearn.metrics import classification_report, confusion_matrix,accuracy_score\n",
        "import seaborn as sn\n",
        "\n",
        "print(classification_report(new_Ytest,abc))\n",
        "\n",
        "acc = float(accuracy_score(new_Ytest,abc))*100\n",
        "print(\"----accuracy score %s ----\" % acc)\n",
        "\n",
        "cm = confusion_matrix(new_Ytest,abc)\n",
        "#df_cm = pd.DataFrame(cm)\n",
        "class_names = ['neutral','calm', 'happy','sad','angry', 'fearful' ]\n",
        "df_cm = pd.DataFrame(cm, index=class_names, columns=class_names,)\n",
        "sn.heatmap(df_cm, annot=True, fmt='')\n",
        "plt.show()"
      ],
      "metadata": {
        "colab": {
          "base_uri": "https://localhost:8080/",
          "height": 508
        },
        "id": "SfSC3El94LZg",
        "outputId": "9e26a98d-a429-49f9-ab05-217a94091117"
      },
      "execution_count": 37,
      "outputs": [
        {
          "output_type": "stream",
          "name": "stdout",
          "text": [
            "              precision    recall  f1-score   support\n",
            "\n",
            "           0       0.71      0.68      0.69        25\n",
            "           1       0.91      0.82      0.86        39\n",
            "           2       0.78      0.84      0.81        38\n",
            "           3       0.71      0.73      0.72        33\n",
            "           4       0.81      0.83      0.82        30\n",
            "           5       0.81      0.81      0.81        42\n",
            "\n",
            "    accuracy                           0.79       207\n",
            "   macro avg       0.79      0.79      0.79       207\n",
            "weighted avg       0.79      0.79      0.79       207\n",
            "\n",
            "----accuracy score 79.22705314009661 ----\n"
          ]
        },
        {
          "output_type": "display_data",
          "data": {
            "text/plain": [
              "<Figure size 432x288 with 2 Axes>"
            ],
            "image/png": "[encoded data removed]"
          },
          "metadata": {
            "needs_background": "light"
          }
        }
      ]
    },
    {
      "cell_type": "code",
      "source": [
        ""
      ],
      "metadata": {
        "id": "LGpgwFQqkpyU"
      },
      "execution_count": 37,
      "outputs": []
    }
  ]
}