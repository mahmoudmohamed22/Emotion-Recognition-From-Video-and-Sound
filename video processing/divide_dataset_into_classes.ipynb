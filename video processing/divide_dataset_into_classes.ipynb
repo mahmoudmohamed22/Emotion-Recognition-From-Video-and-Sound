{
  "nbformat": 4,
  "nbformat_minor": 0,
  "metadata": {
    "colab": {
      "name": "divide dataset into classes.ipynb",
      "provenance": []
    },
    "kernelspec": {
      "name": "python3",
      "display_name": "Python 3"
    },
    "language_info": {
      "name": "python"
    },
    "accelerator": "GPU"
  },
  "cells": [
    {
      "cell_type": "code",
      "source": [
        "import shutil\n",
        "import time\n",
        "import os\n",
        "import librosa\n",
        "from librosa import display\n",
        "import matplotlib.pyplot as plt\n",
        "\n",
        "count=0\n",
        "\n",
        "path1='/content/drive/MyDrive/Datasetvideo'\n",
        "\n",
        "for subdir, dirs, files in os.walk(path1):\n",
        "  if(subdir)=='/content/drive/MyDrive/Datasetvideo/landmarks':continue\n",
        "  print(subdir)\n",
        "  for file in files:\n",
        "      \n",
        "      try:\n",
        "        emo = int(file[7:8]) - 1 \n",
        "        if(emo==6 or emo==7):\n",
        "          continue\n",
        "        if(emo==0):\n",
        "          newf=subdir+'/'+file\n",
        "          shutil.copyfile(newf,('/content/drive/MyDrive/Datasetvideowithlabel/neutral/'+file))\n",
        "          \n",
        "        if(emo==1):\n",
        "          newf=subdir+'/'+file\n",
        "          shutil.copyfile(newf,('/content/drive/MyDrive/Datasetvideowithlabel/calm/'+file))\n",
        "\n",
        "        if(emo==2):\n",
        "          newf=subdir+'/'+file\n",
        "          shutil.copyfile(newf,('/content/drive/MyDrive/Datasetvideowithlabel/happy/'+file))\n",
        "        \n",
        "        if(emo==3):\n",
        "          newf=subdir+'/'+file\n",
        "          shutil.copyfile(newf,('/content/drive/MyDrive/Datasetvideowithlabel/sad/'+file))\n",
        "        \n",
        "        if(emo==4):\n",
        "          newf=subdir+'/'+file\n",
        "          shutil.copyfile(newf,('/content/drive/MyDrive/Datasetvideowithlabel/angry/'+file))\n",
        "        \n",
        "        if(emo==5):\n",
        "          newf=subdir+'/'+file\n",
        "          shutil.copyfile(newf,('/content/drive/MyDrive/Datasetvideowithlabel/fearful/'+file))\n",
        "        \n",
        "    \n",
        "        \n",
        "        \n",
        "      # If the file is not valid, skip it\n",
        "      except ValueError:\n",
        "        continue\n"
      ],
      "metadata": {
        "colab": {
          "base_uri": "https://localhost:8080/"
        },
        "id": "xyEYrQLPf22A",
        "outputId": "0e18df99-f38d-456e-c260-16f155b4bcba"
      },
      "execution_count": 18,
      "outputs": [
        {
          "output_type": "stream",
          "name": "stdout",
          "text": [
            "/content/drive/MyDrive/Datasetvideo\n",
            "/content/drive/MyDrive/Datasetvideo/Actor_01\n",
            "/content/drive/MyDrive/Datasetvideo/Actor_02\n",
            "/content/drive/MyDrive/Datasetvideo/Actor_03\n",
            "/content/drive/MyDrive/Datasetvideo/Actor_04\n",
            "/content/drive/MyDrive/Datasetvideo/Actor_05\n"
          ]
        }
      ]
    },
    {
      "cell_type": "code",
      "source": [
        ""
      ],
      "metadata": {
        "id": "YU6z7H_r2fK-"
      },
      "execution_count": null,
      "outputs": []
    }
  ]
}