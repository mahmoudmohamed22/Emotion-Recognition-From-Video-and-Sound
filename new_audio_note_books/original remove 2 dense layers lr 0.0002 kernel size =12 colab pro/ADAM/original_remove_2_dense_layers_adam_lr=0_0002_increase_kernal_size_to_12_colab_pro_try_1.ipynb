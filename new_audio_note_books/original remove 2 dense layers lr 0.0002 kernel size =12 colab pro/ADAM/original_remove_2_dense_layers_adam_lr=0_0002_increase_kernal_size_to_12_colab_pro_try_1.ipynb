{
  "nbformat": 4,
  "nbformat_minor": 0,
  "metadata": {
    "colab": {
      "name": "original_remove_2_dense_layers_adam_lr=0_0002 increase_kernal_size_to_12 colab pro try 1.ipynb",
      "provenance": [],
      "collapsed_sections": [],
      "machine_shape": "hm"
    },
    "kernelspec": {
      "name": "python3",
      "display_name": "Python 3"
    },
    "language_info": {
      "name": "python"
    },
    "accelerator": "GPU"
  },
  "cells": [
    {
      "cell_type": "code",
      "execution_count": 1,
      "metadata": {
        "colab": {
          "base_uri": "https://localhost:8080/"
        },
        "id": "9SRCO-a_AlH5",
        "outputId": "e798d56a-6f3e-495f-eb2d-60fab4c3b920"
      },
      "outputs": [
        {
          "output_type": "stream",
          "name": "stdout",
          "text": [
            "Drive already mounted at /content/drive; to attempt to forcibly remount, call drive.mount(\"/content/drive\", force_remount=True).\n"
          ]
        }
      ],
      "source": [
        "from google.colab import drive\n",
        "drive.mount('/content/drive')"
      ]
    },
    {
      "cell_type": "code",
      "source": [
        "!pip install librosa"
      ],
      "metadata": {
        "colab": {
          "base_uri": "https://localhost:8080/"
        },
        "id": "5Lo4mUwG9RMd",
        "outputId": "f1a14852-1c7d-494d-d7ca-72b959540ef4"
      },
      "execution_count": 2,
      "outputs": [
        {
          "output_type": "stream",
          "name": "stdout",
          "text": [
            "Looking in indexes: https://pypi.org/simple, https://us-python.pkg.dev/colab-wheels/public/simple/\n",
            "Requirement already satisfied: librosa in /usr/local/lib/python3.7/dist-packages (0.8.1)\n",
            "Requirement already satisfied: scikit-learn!=0.19.0,>=0.14.0 in /usr/local/lib/python3.7/dist-packages (from librosa) (1.0.2)\n",
            "Requirement already satisfied: scipy>=1.0.0 in /usr/local/lib/python3.7/dist-packages (from librosa) (1.4.1)\n",
            "Requirement already satisfied: numba>=0.43.0 in /usr/local/lib/python3.7/dist-packages (from librosa) (0.51.2)\n",
            "Requirement already satisfied: decorator>=3.0.0 in /usr/local/lib/python3.7/dist-packages (from librosa) (4.4.2)\n",
            "Requirement already satisfied: packaging>=20.0 in /usr/local/lib/python3.7/dist-packages (from librosa) (21.3)\n",
            "Requirement already satisfied: soundfile>=0.10.2 in /usr/local/lib/python3.7/dist-packages (from librosa) (0.10.3.post1)\n",
            "Requirement already satisfied: joblib>=0.14 in /usr/local/lib/python3.7/dist-packages (from librosa) (1.1.0)\n",
            "Requirement already satisfied: resampy>=0.2.2 in /usr/local/lib/python3.7/dist-packages (from librosa) (0.2.2)\n",
            "Requirement already satisfied: pooch>=1.0 in /usr/local/lib/python3.7/dist-packages (from librosa) (1.6.0)\n",
            "Requirement already satisfied: audioread>=2.0.0 in /usr/local/lib/python3.7/dist-packages (from librosa) (2.1.9)\n",
            "Requirement already satisfied: numpy>=1.15.0 in /usr/local/lib/python3.7/dist-packages (from librosa) (1.21.6)\n",
            "Requirement already satisfied: setuptools in /usr/local/lib/python3.7/dist-packages (from numba>=0.43.0->librosa) (57.4.0)\n",
            "Requirement already satisfied: llvmlite<0.35,>=0.34.0.dev0 in /usr/local/lib/python3.7/dist-packages (from numba>=0.43.0->librosa) (0.34.0)\n",
            "Requirement already satisfied: pyparsing!=3.0.5,>=2.0.2 in /usr/local/lib/python3.7/dist-packages (from packaging>=20.0->librosa) (3.0.9)\n",
            "Requirement already satisfied: requests>=2.19.0 in /usr/local/lib/python3.7/dist-packages (from pooch>=1.0->librosa) (2.23.0)\n",
            "Requirement already satisfied: appdirs>=1.3.0 in /usr/local/lib/python3.7/dist-packages (from pooch>=1.0->librosa) (1.4.4)\n",
            "Requirement already satisfied: chardet<4,>=3.0.2 in /usr/local/lib/python3.7/dist-packages (from requests>=2.19.0->pooch>=1.0->librosa) (3.0.4)\n",
            "Requirement already satisfied: urllib3!=1.25.0,!=1.25.1,<1.26,>=1.21.1 in /usr/local/lib/python3.7/dist-packages (from requests>=2.19.0->pooch>=1.0->librosa) (1.24.3)\n",
            "Requirement already satisfied: idna<3,>=2.5 in /usr/local/lib/python3.7/dist-packages (from requests>=2.19.0->pooch>=1.0->librosa) (2.10)\n",
            "Requirement already satisfied: certifi>=2017.4.17 in /usr/local/lib/python3.7/dist-packages (from requests>=2.19.0->pooch>=1.0->librosa) (2022.5.18.1)\n",
            "Requirement already satisfied: six>=1.3 in /usr/local/lib/python3.7/dist-packages (from resampy>=0.2.2->librosa) (1.15.0)\n",
            "Requirement already satisfied: threadpoolctl>=2.0.0 in /usr/local/lib/python3.7/dist-packages (from scikit-learn!=0.19.0,>=0.14.0->librosa) (3.1.0)\n",
            "Requirement already satisfied: cffi>=1.0 in /usr/local/lib/python3.7/dist-packages (from soundfile>=0.10.2->librosa) (1.15.0)\n",
            "Requirement already satisfied: pycparser in /usr/local/lib/python3.7/dist-packages (from cffi>=1.0->soundfile>=0.10.2->librosa) (2.21)\n"
          ]
        }
      ]
    },
    {
      "cell_type": "code",
      "metadata": {
        "id": "HJjcbxwy46bG",
        "colab": {
          "base_uri": "https://localhost:8080/",
          "height": 17
        },
        "outputId": "b0451685-9d56-4bfe-e5b4-0fa1107cfbfc"
      },
      "source": [
        "# Orignial Notebook: https://github.com/MITESHPUTHRANNEU/Speech-Emotion-Analyzer/blob/master/final_results_gender_test.ipynb\n",
        "# This notebook author: Reza Chu\n",
        "# Last Editing Date: 31st May 2019\n",
        "\n",
        "## Python\n",
        "import os\n",
        "import random\n",
        "import sys\n",
        "\n",
        "import IPython\n",
        "from IPython.display import Audio\n",
        "from IPython.display import Image\n",
        "import matplotlib.pyplot as plt\n",
        "\n",
        "## Package\n",
        "import glob \n",
        "import keras\n",
        "import IPython.display as ipd\n",
        "import librosa\n",
        "import librosa.display\n",
        "import matplotlib.pyplot as plt\n",
        "import numpy as np\n",
        "import pandas as pd\n",
        "import plotly.graph_objs as go\n",
        "import plotly.offline as py\n",
        "import plotly.tools as tls\n",
        "import seaborn as sns\n",
        "import scipy.io.wavfile\n",
        "import tensorflow as tf\n",
        "py.init_notebook_mode(connected=True)\n",
        "\n",
        "## Keras\n",
        "from keras import regularizers\n",
        "from keras.callbacks import ModelCheckpoint, LearningRateScheduler, EarlyStopping\n",
        "from keras.callbacks import  History, ReduceLROnPlateau, CSVLogger\n",
        "from keras.models import Model, Sequential\n",
        "from keras.layers import Dense, Embedding, LSTM\n",
        "from keras.layers import Input, Flatten, Dropout, Activation, BatchNormalization\n",
        "from keras.layers import Conv1D, MaxPooling1D, AveragePooling1D\n",
        "from keras.preprocessing import sequence\n",
        "from keras.preprocessing.sequence import pad_sequences\n",
        "from keras.preprocessing.text import Tokenizer\n",
        "from keras.utils import np_utils\n",
        "from tensorflow.keras.utils import to_categorical\n",
        "\n",
        "## Sklearn\n",
        "from sklearn.metrics import confusion_matrix\n",
        "from sklearn.preprocessing import LabelEncoder\n",
        "\n",
        "## Rest\n",
        "from scipy.fftpack import fft\n",
        "from scipy import signal\n",
        "from scipy.io import wavfile\n",
        "from tqdm import tqdm\n",
        "\n",
        "input_duration=3\n",
        "# % pylab inline"
      ],
      "execution_count": 3,
      "outputs": [
        {
          "output_type": "display_data",
          "data": {
            "text/html": [
              "        <script type=\"text/javascript\">\n",
              "        window.PlotlyConfig = {MathJaxConfig: 'local'};\n",
              "        if (window.MathJax) {MathJax.Hub.Config({SVG: {font: \"STIX-Web\"}});}\n",
              "        if (typeof require !== 'undefined') {\n",
              "        require.undef(\"plotly\");\n",
              "        requirejs.config({\n",
              "            paths: {\n",
              "                'plotly': ['https://cdn.plot.ly/plotly-2.8.3.min']\n",
              "            }\n",
              "        });\n",
              "        require(['plotly'], function(Plotly) {\n",
              "            window._Plotly = Plotly;\n",
              "        });\n",
              "        }\n",
              "        </script>\n",
              "        "
            ]
          },
          "metadata": {}
        }
      ]
    },
    {
      "cell_type": "code",
      "source": [
        "# # Saving joblib files to not load them again with the loop above\n",
        "\n",
        "# import joblib\n",
        "\n",
        "# X_name = 'x.joblib'\n",
        "# y_name = 'y.joblib'\n",
        "# save_dir = '/content/drive/My Drive/graduation project/audio/paper_code/features'\n",
        "\n",
        "# savedX = joblib.dump(X, os.path.join(save_dir, X_name))\n",
        "# savedy = joblib.dump(y, os.path.join(save_dir, y_name))"
      ],
      "metadata": {
        "id": "UCzic8rlDcuk"
      },
      "execution_count": 4,
      "outputs": []
    },
    {
      "cell_type": "code",
      "source": [
        "# # Loading saved models\n",
        "import joblib\n",
        "X = joblib.load('/content/drive/My Drive/graduation project/audio/paper_code/features/x.joblib')\n",
        "y = joblib.load('/content/drive/My Drive/graduation project/audio/paper_code/features/y.joblib')"
      ],
      "metadata": {
        "id": "Q35CN6zDrzg1"
      },
      "execution_count": 5,
      "outputs": []
    },
    {
      "cell_type": "code",
      "source": [
        "X.shape"
      ],
      "metadata": {
        "id": "7PSTurzjCo5K",
        "colab": {
          "base_uri": "https://localhost:8080/"
        },
        "outputId": "688e0536-09b6-4c38-92e4-1e3424863149"
      },
      "execution_count": 6,
      "outputs": [
        {
          "output_type": "execute_result",
          "data": {
            "text/plain": [
              "(2068, 40)"
            ]
          },
          "metadata": {},
          "execution_count": 6
        }
      ]
    },
    {
      "cell_type": "code",
      "source": [
        "from sklearn.model_selection import train_test_split\n",
        "\n",
        "X_train, X_test, y_train, y_test = train_test_split(X,y, test_size=0.1 ,shuffle = True\n",
        "                                                    , random_state=42)\n",
        "X_train , X_valid, y_train, y_valid = train_test_split(X_train,y_train, test_size=0.1112305212 , shuffle = True \n",
        "                                                       , random_state=42)"
      ],
      "metadata": {
        "id": "Ai4Fy5cPCiq1"
      },
      "execution_count": 7,
      "outputs": []
    },
    {
      "cell_type": "code",
      "source": [
        "import numpy as np\n",
        "x_traincnn = np.expand_dims(X_train, axis=2)\n",
        "x_testcnn = np.expand_dims(X_test, axis=2)\n",
        "X_valid= np.expand_dims(X_valid, axis=2)"
      ],
      "metadata": {
        "id": "tp1Fm5K3CEXu"
      },
      "execution_count": 8,
      "outputs": []
    },
    {
      "cell_type": "code",
      "source": [
        "x_traincnn.shape, x_testcnn.shape , X_valid.shape\n",
        "#1861"
      ],
      "metadata": {
        "id": "RI0MxoIPBws5",
        "colab": {
          "base_uri": "https://localhost:8080/"
        },
        "outputId": "c927f000-991e-4e81-b24c-0bdd373e3374"
      },
      "execution_count": 9,
      "outputs": [
        {
          "output_type": "execute_result",
          "data": {
            "text/plain": [
              "((1654, 40, 1), (207, 40, 1), (207, 40, 1))"
            ]
          },
          "metadata": {},
          "execution_count": 9
        }
      ]
    },
    {
      "cell_type": "code",
      "source": [
        "!pip install tensorflow"
      ],
      "metadata": {
        "id": "oALhiMUd9G2Y",
        "colab": {
          "base_uri": "https://localhost:8080/"
        },
        "outputId": "93a0103c-fadb-42ef-dd87-01e742e9227b"
      },
      "execution_count": 10,
      "outputs": [
        {
          "output_type": "stream",
          "name": "stdout",
          "text": [
            "Looking in indexes: https://pypi.org/simple, https://us-python.pkg.dev/colab-wheels/public/simple/\n",
            "Requirement already satisfied: tensorflow in /usr/local/lib/python3.7/dist-packages (2.8.2+zzzcolab20220527125636)\n",
            "Requirement already satisfied: tensorflow-io-gcs-filesystem>=0.23.1 in /usr/local/lib/python3.7/dist-packages (from tensorflow) (0.26.0)\n",
            "Requirement already satisfied: keras-preprocessing>=1.1.1 in /usr/local/lib/python3.7/dist-packages (from tensorflow) (1.1.2)\n",
            "Requirement already satisfied: google-pasta>=0.1.1 in /usr/local/lib/python3.7/dist-packages (from tensorflow) (0.2.0)\n",
            "Requirement already satisfied: opt-einsum>=2.3.2 in /usr/local/lib/python3.7/dist-packages (from tensorflow) (3.3.0)\n",
            "Requirement already satisfied: numpy>=1.20 in /usr/local/lib/python3.7/dist-packages (from tensorflow) (1.21.6)\n",
            "Requirement already satisfied: grpcio<2.0,>=1.24.3 in /usr/local/lib/python3.7/dist-packages (from tensorflow) (1.46.3)\n",
            "Requirement already satisfied: protobuf<3.20,>=3.9.2 in /usr/local/lib/python3.7/dist-packages (from tensorflow) (3.17.3)\n",
            "Requirement already satisfied: termcolor>=1.1.0 in /usr/local/lib/python3.7/dist-packages (from tensorflow) (1.1.0)\n",
            "Requirement already satisfied: gast>=0.2.1 in /usr/local/lib/python3.7/dist-packages (from tensorflow) (0.5.3)\n",
            "Requirement already satisfied: tensorflow-estimator<2.9,>=2.8 in /usr/local/lib/python3.7/dist-packages (from tensorflow) (2.8.0)\n",
            "Requirement already satisfied: tensorboard<2.9,>=2.8 in /usr/local/lib/python3.7/dist-packages (from tensorflow) (2.8.0)\n",
            "Requirement already satisfied: keras<2.9,>=2.8.0rc0 in /usr/local/lib/python3.7/dist-packages (from tensorflow) (2.8.0)\n",
            "Requirement already satisfied: absl-py>=0.4.0 in /usr/local/lib/python3.7/dist-packages (from tensorflow) (1.0.0)\n",
            "Requirement already satisfied: setuptools in /usr/local/lib/python3.7/dist-packages (from tensorflow) (57.4.0)\n",
            "Requirement already satisfied: flatbuffers>=1.12 in /usr/local/lib/python3.7/dist-packages (from tensorflow) (2.0)\n",
            "Requirement already satisfied: libclang>=9.0.1 in /usr/local/lib/python3.7/dist-packages (from tensorflow) (14.0.1)\n",
            "Requirement already satisfied: wrapt>=1.11.0 in /usr/local/lib/python3.7/dist-packages (from tensorflow) (1.14.1)\n",
            "Requirement already satisfied: astunparse>=1.6.0 in /usr/local/lib/python3.7/dist-packages (from tensorflow) (1.6.3)\n",
            "Requirement already satisfied: typing-extensions>=3.6.6 in /usr/local/lib/python3.7/dist-packages (from tensorflow) (4.2.0)\n",
            "Requirement already satisfied: h5py>=2.9.0 in /usr/local/lib/python3.7/dist-packages (from tensorflow) (3.1.0)\n",
            "Requirement already satisfied: six>=1.12.0 in /usr/local/lib/python3.7/dist-packages (from tensorflow) (1.15.0)\n",
            "Requirement already satisfied: wheel<1.0,>=0.23.0 in /usr/local/lib/python3.7/dist-packages (from astunparse>=1.6.0->tensorflow) (0.37.1)\n",
            "Requirement already satisfied: cached-property in /usr/local/lib/python3.7/dist-packages (from h5py>=2.9.0->tensorflow) (1.5.2)\n",
            "Requirement already satisfied: tensorboard-data-server<0.7.0,>=0.6.0 in /usr/local/lib/python3.7/dist-packages (from tensorboard<2.9,>=2.8->tensorflow) (0.6.1)\n",
            "Requirement already satisfied: markdown>=2.6.8 in /usr/local/lib/python3.7/dist-packages (from tensorboard<2.9,>=2.8->tensorflow) (3.3.7)\n",
            "Requirement already satisfied: google-auth-oauthlib<0.5,>=0.4.1 in /usr/local/lib/python3.7/dist-packages (from tensorboard<2.9,>=2.8->tensorflow) (0.4.6)\n",
            "Requirement already satisfied: tensorboard-plugin-wit>=1.6.0 in /usr/local/lib/python3.7/dist-packages (from tensorboard<2.9,>=2.8->tensorflow) (1.8.1)\n",
            "Requirement already satisfied: requests<3,>=2.21.0 in /usr/local/lib/python3.7/dist-packages (from tensorboard<2.9,>=2.8->tensorflow) (2.23.0)\n",
            "Requirement already satisfied: google-auth<3,>=1.6.3 in /usr/local/lib/python3.7/dist-packages (from tensorboard<2.9,>=2.8->tensorflow) (1.35.0)\n",
            "Requirement already satisfied: werkzeug>=0.11.15 in /usr/local/lib/python3.7/dist-packages (from tensorboard<2.9,>=2.8->tensorflow) (1.0.1)\n",
            "Requirement already satisfied: pyasn1-modules>=0.2.1 in /usr/local/lib/python3.7/dist-packages (from google-auth<3,>=1.6.3->tensorboard<2.9,>=2.8->tensorflow) (0.2.8)\n",
            "Requirement already satisfied: rsa<5,>=3.1.4 in /usr/local/lib/python3.7/dist-packages (from google-auth<3,>=1.6.3->tensorboard<2.9,>=2.8->tensorflow) (4.8)\n",
            "Requirement already satisfied: cachetools<5.0,>=2.0.0 in /usr/local/lib/python3.7/dist-packages (from google-auth<3,>=1.6.3->tensorboard<2.9,>=2.8->tensorflow) (4.2.4)\n",
            "Requirement already satisfied: requests-oauthlib>=0.7.0 in /usr/local/lib/python3.7/dist-packages (from google-auth-oauthlib<0.5,>=0.4.1->tensorboard<2.9,>=2.8->tensorflow) (1.3.1)\n",
            "Requirement already satisfied: importlib-metadata>=4.4 in /usr/local/lib/python3.7/dist-packages (from markdown>=2.6.8->tensorboard<2.9,>=2.8->tensorflow) (4.11.4)\n",
            "Requirement already satisfied: zipp>=0.5 in /usr/local/lib/python3.7/dist-packages (from importlib-metadata>=4.4->markdown>=2.6.8->tensorboard<2.9,>=2.8->tensorflow) (3.8.0)\n",
            "Requirement already satisfied: pyasn1<0.5.0,>=0.4.6 in /usr/local/lib/python3.7/dist-packages (from pyasn1-modules>=0.2.1->google-auth<3,>=1.6.3->tensorboard<2.9,>=2.8->tensorflow) (0.4.8)\n",
            "Requirement already satisfied: idna<3,>=2.5 in /usr/local/lib/python3.7/dist-packages (from requests<3,>=2.21.0->tensorboard<2.9,>=2.8->tensorflow) (2.10)\n",
            "Requirement already satisfied: chardet<4,>=3.0.2 in /usr/local/lib/python3.7/dist-packages (from requests<3,>=2.21.0->tensorboard<2.9,>=2.8->tensorflow) (3.0.4)\n",
            "Requirement already satisfied: certifi>=2017.4.17 in /usr/local/lib/python3.7/dist-packages (from requests<3,>=2.21.0->tensorboard<2.9,>=2.8->tensorflow) (2022.5.18.1)\n",
            "Requirement already satisfied: urllib3!=1.25.0,!=1.25.1,<1.26,>=1.21.1 in /usr/local/lib/python3.7/dist-packages (from requests<3,>=2.21.0->tensorboard<2.9,>=2.8->tensorflow) (1.24.3)\n",
            "Requirement already satisfied: oauthlib>=3.0.0 in /usr/local/lib/python3.7/dist-packages (from requests-oauthlib>=0.7.0->google-auth-oauthlib<0.5,>=0.4.1->tensorboard<2.9,>=2.8->tensorflow) (3.2.0)\n"
          ]
        }
      ]
    },
    {
      "cell_type": "code",
      "source": [
        "import keras\n",
        "import numpy as np\n",
        "import matplotlib.pyplot as plt\n",
        "import tensorflow as tf\n",
        "from keras.preprocessing import sequence\n",
        "from keras.models import Sequential\n",
        "from keras.layers import Dense, Embedding\n",
        "from tensorflow.keras.utils import to_categorical\n",
        "from keras.layers import Input, Flatten, Dropout, Activation\n",
        "from keras.layers import Conv1D, MaxPooling1D\n",
        "from keras.models import Model\n",
        "from keras.callbacks import ModelCheckpoint\n",
        "from tensorflow.keras import optimizers\n",
        "\n",
        "model = Sequential()\n",
        "\n",
        "model.add(Conv1D(128, 12,padding='same', #classifier.add(Convolution2D(64, (3, 3), padding = 'same', input_shape = (128, 128, 3), activation = 'relu'))\n",
        "                 input_shape=(40,1)))\n",
        "model.add(Activation('relu'))\n",
        "model.add(Dropout(0.3))\n",
        "model.add(MaxPooling1D(pool_size=(5)))\n",
        "\n",
        "\n",
        "model.add(Conv1D(256,12,padding='same',))\n",
        "model.add(Activation('relu'))\n",
        "model.add(Dropout(0.3))\n",
        "model.add(MaxPooling1D(pool_size=(5)))\n",
        "\n",
        "#model.add(MaxPooling1D(pool_size=(5)))\n",
        "\n",
        "model.add(Flatten())\n",
        "\n",
        "\n",
        "\n",
        "model.add(Dense(6))\n",
        "model.add(Activation('softmax'))\n",
        "\n",
        "\n",
        "#opt = tf.keras.optimizers.RMSprop(lr=0.0002 , decay=0.0)\n",
        "opt = tf.keras.optimizers.Adam(lr=0.0002 , decay=0.0)\n",
        "#opt = tf.keras.optimizers.RMSprop(lr=0.0001, rho=0.9, epsilon=1e-07, decay=0.0)\n",
        "#opt = tf.keras.optimizers.SGD(lr=0.001, momentum=0.0, decay=0.0, nesterov=False)"
      ],
      "metadata": {
        "id": "g74fXWVAC4Cr",
        "colab": {
          "base_uri": "https://localhost:8080/"
        },
        "outputId": "6fc183e8-8d28-4215-87a0-fa441d6ad282"
      },
      "execution_count": 11,
      "outputs": [
        {
          "output_type": "stream",
          "name": "stderr",
          "text": [
            "/usr/local/lib/python3.7/dist-packages/keras/optimizer_v2/adam.py:105: UserWarning:\n",
            "\n",
            "The `lr` argument is deprecated, use `learning_rate` instead.\n",
            "\n"
          ]
        }
      ]
    },
    {
      "cell_type": "code",
      "source": [
        "model.summary()"
      ],
      "metadata": {
        "id": "H6ukOxAGC_I4",
        "colab": {
          "base_uri": "https://localhost:8080/"
        },
        "outputId": "6056ab13-f98f-4458-df0b-c65bd34830bd"
      },
      "execution_count": 12,
      "outputs": [
        {
          "output_type": "stream",
          "name": "stdout",
          "text": [
            "Model: \"sequential\"\n",
            "_________________________________________________________________\n",
            " Layer (type)                Output Shape              Param #   \n",
            "=================================================================\n",
            " conv1d (Conv1D)             (None, 40, 128)           1664      \n",
            "                                                                 \n",
            " activation (Activation)     (None, 40, 128)           0         \n",
            "                                                                 \n",
            " dropout (Dropout)           (None, 40, 128)           0         \n",
            "                                                                 \n",
            " max_pooling1d (MaxPooling1D  (None, 8, 128)           0         \n",
            " )                                                               \n",
            "                                                                 \n",
            " conv1d_1 (Conv1D)           (None, 8, 256)            393472    \n",
            "                                                                 \n",
            " activation_1 (Activation)   (None, 8, 256)            0         \n",
            "                                                                 \n",
            " dropout_1 (Dropout)         (None, 8, 256)            0         \n",
            "                                                                 \n",
            " max_pooling1d_1 (MaxPooling  (None, 1, 256)           0         \n",
            " 1D)                                                             \n",
            "                                                                 \n",
            " flatten (Flatten)           (None, 256)               0         \n",
            "                                                                 \n",
            " dense (Dense)               (None, 6)                 1542      \n",
            "                                                                 \n",
            " activation_2 (Activation)   (None, 6)                 0         \n",
            "                                                                 \n",
            "=================================================================\n",
            "Total params: 396,678\n",
            "Trainable params: 396,678\n",
            "Non-trainable params: 0\n",
            "_________________________________________________________________\n"
          ]
        }
      ]
    },
    {
      "cell_type": "code",
      "source": [
        "model.compile(loss='sparse_categorical_crossentropy',\n",
        "              optimizer=opt,\n",
        "              metrics=['accuracy'])"
      ],
      "metadata": {
        "id": "AbMlLNk4DCBM"
      },
      "execution_count": 13,
      "outputs": []
    },
    {
      "cell_type": "code",
      "source": [
        "# Create an Instance of Early Stopping Callback.\n",
        "early_stopping_callback = EarlyStopping(monitor = 'val_loss', patience = 25, mode = 'min', restore_best_weights = True)\n",
        "\n",
        "cnnhistory=model.fit(x_traincnn, y_train, batch_size=16, epochs=500 , shuffle = True, \n",
        "                     validation_data=(X_valid, y_valid) , callbacks = [early_stopping_callback])"
      ],
      "metadata": {
        "id": "RI1v2AuADFhy",
        "colab": {
          "base_uri": "https://localhost:8080/"
        },
        "outputId": "96dc43c8-0486-448a-cb8c-67b7d1ad7f76"
      },
      "execution_count": 14,
      "outputs": [
        {
          "output_type": "stream",
          "name": "stdout",
          "text": [
            "Epoch 1/500\n",
            "104/104 [==============================] - 2s 5ms/step - loss: 10.7145 - accuracy: 0.1911 - val_loss: 3.5622 - val_accuracy: 0.2609\n",
            "Epoch 2/500\n",
            "104/104 [==============================] - 0s 3ms/step - loss: 7.4432 - accuracy: 0.2019 - val_loss: 4.0784 - val_accuracy: 0.2029\n",
            "Epoch 3/500\n",
            "104/104 [==============================] - 0s 3ms/step - loss: 5.7907 - accuracy: 0.2291 - val_loss: 2.0775 - val_accuracy: 0.2899\n",
            "Epoch 4/500\n",
            "104/104 [==============================] - 0s 3ms/step - loss: 5.0060 - accuracy: 0.2437 - val_loss: 2.9412 - val_accuracy: 0.2126\n",
            "Epoch 5/500\n",
            "104/104 [==============================] - 0s 3ms/step - loss: 3.8485 - accuracy: 0.2563 - val_loss: 1.6912 - val_accuracy: 0.4155\n",
            "Epoch 6/500\n",
            "104/104 [==============================] - 0s 4ms/step - loss: 3.3712 - accuracy: 0.2660 - val_loss: 1.5699 - val_accuracy: 0.3865\n",
            "Epoch 7/500\n",
            "104/104 [==============================] - 0s 4ms/step - loss: 2.8917 - accuracy: 0.2842 - val_loss: 2.0270 - val_accuracy: 0.2705\n",
            "Epoch 8/500\n",
            "104/104 [==============================] - 0s 4ms/step - loss: 2.6833 - accuracy: 0.3204 - val_loss: 1.5496 - val_accuracy: 0.3575\n",
            "Epoch 9/500\n",
            "104/104 [==============================] - 0s 5ms/step - loss: 2.3684 - accuracy: 0.3096 - val_loss: 1.9814 - val_accuracy: 0.2754\n",
            "Epoch 10/500\n",
            "104/104 [==============================] - 1s 5ms/step - loss: 2.4213 - accuracy: 0.3114 - val_loss: 1.5139 - val_accuracy: 0.3816\n",
            "Epoch 11/500\n",
            "104/104 [==============================] - 1s 5ms/step - loss: 2.1652 - accuracy: 0.3210 - val_loss: 1.4692 - val_accuracy: 0.4444\n",
            "Epoch 12/500\n",
            "104/104 [==============================] - 0s 5ms/step - loss: 1.8662 - accuracy: 0.3712 - val_loss: 1.4947 - val_accuracy: 0.3913\n",
            "Epoch 13/500\n",
            "104/104 [==============================] - 0s 4ms/step - loss: 1.8836 - accuracy: 0.3567 - val_loss: 1.4910 - val_accuracy: 0.4300\n",
            "Epoch 14/500\n",
            "104/104 [==============================] - 1s 5ms/step - loss: 1.7960 - accuracy: 0.3742 - val_loss: 1.3567 - val_accuracy: 0.4831\n",
            "Epoch 15/500\n",
            "104/104 [==============================] - 0s 4ms/step - loss: 1.7129 - accuracy: 0.3827 - val_loss: 1.3252 - val_accuracy: 0.5266\n",
            "Epoch 16/500\n",
            "104/104 [==============================] - 0s 4ms/step - loss: 1.6125 - accuracy: 0.4021 - val_loss: 1.3282 - val_accuracy: 0.4928\n",
            "Epoch 17/500\n",
            "104/104 [==============================] - 0s 4ms/step - loss: 1.6109 - accuracy: 0.4069 - val_loss: 1.4030 - val_accuracy: 0.5072\n",
            "Epoch 18/500\n",
            "104/104 [==============================] - 0s 5ms/step - loss: 1.5035 - accuracy: 0.4420 - val_loss: 1.3035 - val_accuracy: 0.4348\n",
            "Epoch 19/500\n",
            "104/104 [==============================] - 0s 4ms/step - loss: 1.4926 - accuracy: 0.4353 - val_loss: 1.2977 - val_accuracy: 0.5169\n",
            "Epoch 20/500\n",
            "104/104 [==============================] - 1s 5ms/step - loss: 1.4514 - accuracy: 0.4426 - val_loss: 1.3079 - val_accuracy: 0.4396\n",
            "Epoch 21/500\n",
            "104/104 [==============================] - 1s 5ms/step - loss: 1.4036 - accuracy: 0.4565 - val_loss: 1.2245 - val_accuracy: 0.5217\n",
            "Epoch 22/500\n",
            "104/104 [==============================] - 0s 5ms/step - loss: 1.4021 - accuracy: 0.4595 - val_loss: 1.2447 - val_accuracy: 0.5411\n",
            "Epoch 23/500\n",
            "104/104 [==============================] - 0s 4ms/step - loss: 1.3907 - accuracy: 0.4504 - val_loss: 1.1828 - val_accuracy: 0.5652\n",
            "Epoch 24/500\n",
            "104/104 [==============================] - 1s 5ms/step - loss: 1.3398 - accuracy: 0.4752 - val_loss: 1.2130 - val_accuracy: 0.5749\n",
            "Epoch 25/500\n",
            "104/104 [==============================] - 1s 5ms/step - loss: 1.2687 - accuracy: 0.5036 - val_loss: 1.2160 - val_accuracy: 0.5411\n",
            "Epoch 26/500\n",
            "104/104 [==============================] - 1s 5ms/step - loss: 1.2858 - accuracy: 0.4958 - val_loss: 1.2346 - val_accuracy: 0.5121\n",
            "Epoch 27/500\n",
            "104/104 [==============================] - 1s 5ms/step - loss: 1.2289 - accuracy: 0.5085 - val_loss: 1.1426 - val_accuracy: 0.5845\n",
            "Epoch 28/500\n",
            "104/104 [==============================] - 1s 5ms/step - loss: 1.2397 - accuracy: 0.5187 - val_loss: 1.1352 - val_accuracy: 0.5942\n",
            "Epoch 29/500\n",
            "104/104 [==============================] - 1s 5ms/step - loss: 1.2158 - accuracy: 0.5048 - val_loss: 1.1138 - val_accuracy: 0.6135\n",
            "Epoch 30/500\n",
            "104/104 [==============================] - 0s 4ms/step - loss: 1.1572 - accuracy: 0.5429 - val_loss: 1.1120 - val_accuracy: 0.5845\n",
            "Epoch 31/500\n",
            "104/104 [==============================] - 0s 4ms/step - loss: 1.1496 - accuracy: 0.5339 - val_loss: 1.1089 - val_accuracy: 0.5556\n",
            "Epoch 32/500\n",
            "104/104 [==============================] - 0s 4ms/step - loss: 1.1466 - accuracy: 0.5472 - val_loss: 1.0301 - val_accuracy: 0.6377\n",
            "Epoch 33/500\n",
            "104/104 [==============================] - 0s 3ms/step - loss: 1.1619 - accuracy: 0.5435 - val_loss: 1.0940 - val_accuracy: 0.5459\n",
            "Epoch 34/500\n",
            "104/104 [==============================] - 0s 3ms/step - loss: 1.1291 - accuracy: 0.5478 - val_loss: 1.1793 - val_accuracy: 0.5072\n",
            "Epoch 35/500\n",
            "104/104 [==============================] - 0s 3ms/step - loss: 1.1058 - accuracy: 0.5623 - val_loss: 1.0213 - val_accuracy: 0.6715\n",
            "Epoch 36/500\n",
            "104/104 [==============================] - 0s 3ms/step - loss: 1.0888 - accuracy: 0.5665 - val_loss: 1.0563 - val_accuracy: 0.6135\n",
            "Epoch 37/500\n",
            "104/104 [==============================] - 0s 3ms/step - loss: 1.0793 - accuracy: 0.5707 - val_loss: 1.0303 - val_accuracy: 0.6087\n",
            "Epoch 38/500\n",
            "104/104 [==============================] - 0s 3ms/step - loss: 1.0670 - accuracy: 0.5859 - val_loss: 1.0146 - val_accuracy: 0.6087\n",
            "Epoch 39/500\n",
            "104/104 [==============================] - 0s 3ms/step - loss: 1.0533 - accuracy: 0.5695 - val_loss: 1.0438 - val_accuracy: 0.5990\n",
            "Epoch 40/500\n",
            "104/104 [==============================] - 0s 3ms/step - loss: 1.0340 - accuracy: 0.5931 - val_loss: 1.0132 - val_accuracy: 0.6184\n",
            "Epoch 41/500\n",
            "104/104 [==============================] - 0s 3ms/step - loss: 1.0552 - accuracy: 0.5901 - val_loss: 1.0205 - val_accuracy: 0.6087\n",
            "Epoch 42/500\n",
            "104/104 [==============================] - 0s 3ms/step - loss: 1.0081 - accuracy: 0.5937 - val_loss: 0.9824 - val_accuracy: 0.5894\n",
            "Epoch 43/500\n",
            "104/104 [==============================] - 0s 3ms/step - loss: 0.9887 - accuracy: 0.6106 - val_loss: 0.9505 - val_accuracy: 0.6522\n",
            "Epoch 44/500\n",
            "104/104 [==============================] - 0s 3ms/step - loss: 0.9725 - accuracy: 0.6125 - val_loss: 1.0076 - val_accuracy: 0.5797\n",
            "Epoch 45/500\n",
            "104/104 [==============================] - 0s 3ms/step - loss: 0.9767 - accuracy: 0.6125 - val_loss: 0.9668 - val_accuracy: 0.6425\n",
            "Epoch 46/500\n",
            "104/104 [==============================] - 0s 3ms/step - loss: 0.9789 - accuracy: 0.6046 - val_loss: 0.9786 - val_accuracy: 0.6618\n",
            "Epoch 47/500\n",
            "104/104 [==============================] - 0s 3ms/step - loss: 0.9612 - accuracy: 0.6094 - val_loss: 0.9864 - val_accuracy: 0.5942\n",
            "Epoch 48/500\n",
            "104/104 [==============================] - 0s 3ms/step - loss: 0.9365 - accuracy: 0.6578 - val_loss: 0.9055 - val_accuracy: 0.6957\n",
            "Epoch 49/500\n",
            "104/104 [==============================] - 0s 3ms/step - loss: 0.9334 - accuracy: 0.6312 - val_loss: 0.9209 - val_accuracy: 0.6957\n",
            "Epoch 50/500\n",
            "104/104 [==============================] - 0s 3ms/step - loss: 0.9022 - accuracy: 0.6378 - val_loss: 0.9100 - val_accuracy: 0.6377\n",
            "Epoch 51/500\n",
            "104/104 [==============================] - 0s 3ms/step - loss: 0.9013 - accuracy: 0.6409 - val_loss: 0.8932 - val_accuracy: 0.7005\n",
            "Epoch 52/500\n",
            "104/104 [==============================] - 0s 3ms/step - loss: 0.8949 - accuracy: 0.6584 - val_loss: 0.9183 - val_accuracy: 0.6908\n",
            "Epoch 53/500\n",
            "104/104 [==============================] - 0s 3ms/step - loss: 0.8940 - accuracy: 0.6590 - val_loss: 0.9013 - val_accuracy: 0.6473\n",
            "Epoch 54/500\n",
            "104/104 [==============================] - 0s 3ms/step - loss: 0.8873 - accuracy: 0.6421 - val_loss: 0.9225 - val_accuracy: 0.6860\n",
            "Epoch 55/500\n",
            "104/104 [==============================] - 0s 3ms/step - loss: 0.9066 - accuracy: 0.6306 - val_loss: 0.8867 - val_accuracy: 0.6715\n",
            "Epoch 56/500\n",
            "104/104 [==============================] - 0s 3ms/step - loss: 0.8614 - accuracy: 0.6644 - val_loss: 0.8443 - val_accuracy: 0.7101\n",
            "Epoch 57/500\n",
            "104/104 [==============================] - 0s 3ms/step - loss: 0.8633 - accuracy: 0.6493 - val_loss: 0.8565 - val_accuracy: 0.6812\n",
            "Epoch 58/500\n",
            "104/104 [==============================] - 0s 3ms/step - loss: 0.8489 - accuracy: 0.6699 - val_loss: 0.8706 - val_accuracy: 0.6908\n",
            "Epoch 59/500\n",
            "104/104 [==============================] - 0s 3ms/step - loss: 0.8456 - accuracy: 0.6626 - val_loss: 0.8662 - val_accuracy: 0.6570\n",
            "Epoch 60/500\n",
            "104/104 [==============================] - 0s 3ms/step - loss: 0.8713 - accuracy: 0.6554 - val_loss: 0.8785 - val_accuracy: 0.6618\n",
            "Epoch 61/500\n",
            "104/104 [==============================] - 0s 3ms/step - loss: 0.8220 - accuracy: 0.6790 - val_loss: 0.8683 - val_accuracy: 0.6522\n",
            "Epoch 62/500\n",
            "104/104 [==============================] - 0s 3ms/step - loss: 0.8002 - accuracy: 0.6838 - val_loss: 0.8061 - val_accuracy: 0.7440\n",
            "Epoch 63/500\n",
            "104/104 [==============================] - 0s 3ms/step - loss: 0.8029 - accuracy: 0.6874 - val_loss: 0.8327 - val_accuracy: 0.6763\n",
            "Epoch 64/500\n",
            "104/104 [==============================] - 0s 3ms/step - loss: 0.7819 - accuracy: 0.6947 - val_loss: 0.8147 - val_accuracy: 0.7198\n",
            "Epoch 65/500\n",
            "104/104 [==============================] - 0s 3ms/step - loss: 0.7905 - accuracy: 0.6917 - val_loss: 0.8074 - val_accuracy: 0.7295\n",
            "Epoch 66/500\n",
            "104/104 [==============================] - 0s 3ms/step - loss: 0.7836 - accuracy: 0.6904 - val_loss: 0.8250 - val_accuracy: 0.7053\n",
            "Epoch 67/500\n",
            "104/104 [==============================] - 0s 3ms/step - loss: 0.7728 - accuracy: 0.6989 - val_loss: 0.7850 - val_accuracy: 0.7101\n",
            "Epoch 68/500\n",
            "104/104 [==============================] - 0s 3ms/step - loss: 0.7616 - accuracy: 0.6965 - val_loss: 0.8189 - val_accuracy: 0.6667\n",
            "Epoch 69/500\n",
            "104/104 [==============================] - 0s 3ms/step - loss: 0.7676 - accuracy: 0.6904 - val_loss: 0.7888 - val_accuracy: 0.7005\n",
            "Epoch 70/500\n",
            "104/104 [==============================] - 0s 3ms/step - loss: 0.7692 - accuracy: 0.6892 - val_loss: 0.7700 - val_accuracy: 0.7633\n",
            "Epoch 71/500\n",
            "104/104 [==============================] - 0s 3ms/step - loss: 0.7424 - accuracy: 0.7031 - val_loss: 0.7785 - val_accuracy: 0.6908\n",
            "Epoch 72/500\n",
            "104/104 [==============================] - 0s 3ms/step - loss: 0.7375 - accuracy: 0.7074 - val_loss: 0.8258 - val_accuracy: 0.6812\n",
            "Epoch 73/500\n",
            "104/104 [==============================] - 0s 3ms/step - loss: 0.7499 - accuracy: 0.7044 - val_loss: 0.7729 - val_accuracy: 0.7343\n",
            "Epoch 74/500\n",
            "104/104 [==============================] - 0s 3ms/step - loss: 0.7227 - accuracy: 0.7092 - val_loss: 0.7752 - val_accuracy: 0.7295\n",
            "Epoch 75/500\n",
            "104/104 [==============================] - 0s 3ms/step - loss: 0.7354 - accuracy: 0.7152 - val_loss: 0.7744 - val_accuracy: 0.7198\n",
            "Epoch 76/500\n",
            "104/104 [==============================] - 0s 3ms/step - loss: 0.7345 - accuracy: 0.7044 - val_loss: 0.7565 - val_accuracy: 0.7295\n",
            "Epoch 77/500\n",
            "104/104 [==============================] - 0s 3ms/step - loss: 0.7184 - accuracy: 0.7255 - val_loss: 0.7764 - val_accuracy: 0.6957\n",
            "Epoch 78/500\n",
            "104/104 [==============================] - 0s 3ms/step - loss: 0.7318 - accuracy: 0.7122 - val_loss: 0.7789 - val_accuracy: 0.7150\n",
            "Epoch 79/500\n",
            "104/104 [==============================] - 0s 3ms/step - loss: 0.7206 - accuracy: 0.7213 - val_loss: 0.7282 - val_accuracy: 0.7681\n",
            "Epoch 80/500\n",
            "104/104 [==============================] - 0s 3ms/step - loss: 0.7186 - accuracy: 0.7177 - val_loss: 0.7472 - val_accuracy: 0.7391\n",
            "Epoch 81/500\n",
            "104/104 [==============================] - 0s 3ms/step - loss: 0.6639 - accuracy: 0.7473 - val_loss: 0.7260 - val_accuracy: 0.7246\n",
            "Epoch 82/500\n",
            "104/104 [==============================] - 0s 3ms/step - loss: 0.6617 - accuracy: 0.7437 - val_loss: 0.7422 - val_accuracy: 0.7391\n",
            "Epoch 83/500\n",
            "104/104 [==============================] - 0s 3ms/step - loss: 0.6727 - accuracy: 0.7291 - val_loss: 0.7248 - val_accuracy: 0.7198\n",
            "Epoch 84/500\n",
            "104/104 [==============================] - 0s 3ms/step - loss: 0.6612 - accuracy: 0.7376 - val_loss: 0.7344 - val_accuracy: 0.7440\n",
            "Epoch 85/500\n",
            "104/104 [==============================] - 0s 3ms/step - loss: 0.6433 - accuracy: 0.7497 - val_loss: 0.7330 - val_accuracy: 0.7391\n",
            "Epoch 86/500\n",
            "104/104 [==============================] - 0s 3ms/step - loss: 0.6431 - accuracy: 0.7418 - val_loss: 0.7036 - val_accuracy: 0.7440\n",
            "Epoch 87/500\n",
            "104/104 [==============================] - 0s 3ms/step - loss: 0.6715 - accuracy: 0.7394 - val_loss: 0.7433 - val_accuracy: 0.7150\n",
            "Epoch 88/500\n",
            "104/104 [==============================] - 0s 3ms/step - loss: 0.6449 - accuracy: 0.7479 - val_loss: 0.7309 - val_accuracy: 0.7150\n",
            "Epoch 89/500\n",
            "104/104 [==============================] - 0s 3ms/step - loss: 0.6326 - accuracy: 0.7509 - val_loss: 0.7140 - val_accuracy: 0.7391\n",
            "Epoch 90/500\n",
            "104/104 [==============================] - 0s 3ms/step - loss: 0.6381 - accuracy: 0.7503 - val_loss: 0.6991 - val_accuracy: 0.7440\n",
            "Epoch 91/500\n",
            "104/104 [==============================] - 0s 3ms/step - loss: 0.6403 - accuracy: 0.7521 - val_loss: 0.6942 - val_accuracy: 0.7488\n",
            "Epoch 92/500\n",
            "104/104 [==============================] - 0s 3ms/step - loss: 0.6390 - accuracy: 0.7533 - val_loss: 0.6825 - val_accuracy: 0.7874\n",
            "Epoch 93/500\n",
            "104/104 [==============================] - 0s 3ms/step - loss: 0.6281 - accuracy: 0.7588 - val_loss: 0.7067 - val_accuracy: 0.7391\n",
            "Epoch 94/500\n",
            "104/104 [==============================] - 0s 3ms/step - loss: 0.6256 - accuracy: 0.7642 - val_loss: 0.6904 - val_accuracy: 0.7536\n",
            "Epoch 95/500\n",
            "104/104 [==============================] - 0s 3ms/step - loss: 0.5913 - accuracy: 0.7606 - val_loss: 0.7198 - val_accuracy: 0.7295\n",
            "Epoch 96/500\n",
            "104/104 [==============================] - 0s 3ms/step - loss: 0.6212 - accuracy: 0.7563 - val_loss: 0.6842 - val_accuracy: 0.7681\n",
            "Epoch 97/500\n",
            "104/104 [==============================] - 0s 3ms/step - loss: 0.5889 - accuracy: 0.7757 - val_loss: 0.7290 - val_accuracy: 0.7440\n",
            "Epoch 98/500\n",
            "104/104 [==============================] - 0s 3ms/step - loss: 0.5843 - accuracy: 0.7751 - val_loss: 0.6868 - val_accuracy: 0.7101\n",
            "Epoch 99/500\n",
            "104/104 [==============================] - 0s 3ms/step - loss: 0.5840 - accuracy: 0.7805 - val_loss: 0.6528 - val_accuracy: 0.7536\n",
            "Epoch 100/500\n",
            "104/104 [==============================] - 0s 3ms/step - loss: 0.5719 - accuracy: 0.7836 - val_loss: 0.6931 - val_accuracy: 0.7391\n",
            "Epoch 101/500\n",
            "104/104 [==============================] - 0s 3ms/step - loss: 0.5917 - accuracy: 0.7696 - val_loss: 0.6507 - val_accuracy: 0.7826\n",
            "Epoch 102/500\n",
            "104/104 [==============================] - 0s 3ms/step - loss: 0.5685 - accuracy: 0.7763 - val_loss: 0.6808 - val_accuracy: 0.7633\n",
            "Epoch 103/500\n",
            "104/104 [==============================] - 0s 3ms/step - loss: 0.5617 - accuracy: 0.7896 - val_loss: 0.6654 - val_accuracy: 0.7729\n",
            "Epoch 104/500\n",
            "104/104 [==============================] - 0s 3ms/step - loss: 0.5742 - accuracy: 0.7836 - val_loss: 0.6698 - val_accuracy: 0.7681\n",
            "Epoch 105/500\n",
            "104/104 [==============================] - 0s 3ms/step - loss: 0.5557 - accuracy: 0.7860 - val_loss: 0.6549 - val_accuracy: 0.7778\n",
            "Epoch 106/500\n",
            "104/104 [==============================] - 0s 3ms/step - loss: 0.5536 - accuracy: 0.7836 - val_loss: 0.6780 - val_accuracy: 0.7198\n",
            "Epoch 107/500\n",
            "104/104 [==============================] - 0s 3ms/step - loss: 0.5493 - accuracy: 0.7830 - val_loss: 0.6456 - val_accuracy: 0.7826\n",
            "Epoch 108/500\n",
            "104/104 [==============================] - 0s 3ms/step - loss: 0.5209 - accuracy: 0.7956 - val_loss: 0.6397 - val_accuracy: 0.7585\n",
            "Epoch 109/500\n",
            "104/104 [==============================] - 0s 3ms/step - loss: 0.5172 - accuracy: 0.8023 - val_loss: 0.6473 - val_accuracy: 0.7778\n",
            "Epoch 110/500\n",
            "104/104 [==============================] - 0s 3ms/step - loss: 0.5371 - accuracy: 0.7896 - val_loss: 0.6412 - val_accuracy: 0.7633\n",
            "Epoch 111/500\n",
            "104/104 [==============================] - 0s 3ms/step - loss: 0.5286 - accuracy: 0.7969 - val_loss: 0.6438 - val_accuracy: 0.7729\n",
            "Epoch 112/500\n",
            "104/104 [==============================] - 0s 3ms/step - loss: 0.5322 - accuracy: 0.8005 - val_loss: 0.6230 - val_accuracy: 0.8068\n",
            "Epoch 113/500\n",
            "104/104 [==============================] - 0s 3ms/step - loss: 0.5133 - accuracy: 0.8011 - val_loss: 0.6327 - val_accuracy: 0.7874\n",
            "Epoch 114/500\n",
            "104/104 [==============================] - 0s 4ms/step - loss: 0.5135 - accuracy: 0.8011 - val_loss: 0.6943 - val_accuracy: 0.7391\n",
            "Epoch 115/500\n",
            "104/104 [==============================] - 0s 3ms/step - loss: 0.4955 - accuracy: 0.8053 - val_loss: 0.6333 - val_accuracy: 0.7874\n",
            "Epoch 116/500\n",
            "104/104 [==============================] - 0s 3ms/step - loss: 0.5056 - accuracy: 0.8011 - val_loss: 0.6679 - val_accuracy: 0.7585\n",
            "Epoch 117/500\n",
            "104/104 [==============================] - 0s 3ms/step - loss: 0.5091 - accuracy: 0.8029 - val_loss: 0.6299 - val_accuracy: 0.7778\n",
            "Epoch 118/500\n",
            "104/104 [==============================] - 0s 3ms/step - loss: 0.4862 - accuracy: 0.8071 - val_loss: 0.6322 - val_accuracy: 0.7633\n",
            "Epoch 119/500\n",
            "104/104 [==============================] - 0s 3ms/step - loss: 0.4892 - accuracy: 0.8114 - val_loss: 0.6044 - val_accuracy: 0.7874\n",
            "Epoch 120/500\n",
            "104/104 [==============================] - 0s 3ms/step - loss: 0.4669 - accuracy: 0.8283 - val_loss: 0.6313 - val_accuracy: 0.7874\n",
            "Epoch 121/500\n",
            "104/104 [==============================] - 0s 3ms/step - loss: 0.4853 - accuracy: 0.8150 - val_loss: 0.6222 - val_accuracy: 0.7536\n",
            "Epoch 122/500\n",
            "104/104 [==============================] - 0s 3ms/step - loss: 0.4751 - accuracy: 0.8247 - val_loss: 0.6180 - val_accuracy: 0.7874\n",
            "Epoch 123/500\n",
            "104/104 [==============================] - 0s 3ms/step - loss: 0.4755 - accuracy: 0.8120 - val_loss: 0.6343 - val_accuracy: 0.7729\n",
            "Epoch 124/500\n",
            "104/104 [==============================] - 0s 3ms/step - loss: 0.4493 - accuracy: 0.8192 - val_loss: 0.6431 - val_accuracy: 0.7488\n",
            "Epoch 125/500\n",
            "104/104 [==============================] - 0s 4ms/step - loss: 0.4532 - accuracy: 0.8144 - val_loss: 0.6386 - val_accuracy: 0.7391\n",
            "Epoch 126/500\n",
            "104/104 [==============================] - 0s 4ms/step - loss: 0.4535 - accuracy: 0.8241 - val_loss: 0.6009 - val_accuracy: 0.7729\n",
            "Epoch 127/500\n",
            "104/104 [==============================] - 0s 3ms/step - loss: 0.4453 - accuracy: 0.8295 - val_loss: 0.6252 - val_accuracy: 0.7585\n",
            "Epoch 128/500\n",
            "104/104 [==============================] - 0s 5ms/step - loss: 0.4655 - accuracy: 0.8265 - val_loss: 0.5913 - val_accuracy: 0.7923\n",
            "Epoch 129/500\n",
            "104/104 [==============================] - 0s 3ms/step - loss: 0.4630 - accuracy: 0.8204 - val_loss: 0.6550 - val_accuracy: 0.7874\n",
            "Epoch 130/500\n",
            "104/104 [==============================] - 0s 4ms/step - loss: 0.4491 - accuracy: 0.8410 - val_loss: 0.6151 - val_accuracy: 0.7778\n",
            "Epoch 131/500\n",
            "104/104 [==============================] - 0s 4ms/step - loss: 0.4419 - accuracy: 0.8247 - val_loss: 0.5945 - val_accuracy: 0.7923\n",
            "Epoch 132/500\n",
            "104/104 [==============================] - 0s 3ms/step - loss: 0.4238 - accuracy: 0.8356 - val_loss: 0.6111 - val_accuracy: 0.7826\n",
            "Epoch 133/500\n",
            "104/104 [==============================] - 0s 4ms/step - loss: 0.4219 - accuracy: 0.8458 - val_loss: 0.6479 - val_accuracy: 0.7585\n",
            "Epoch 134/500\n",
            "104/104 [==============================] - 0s 4ms/step - loss: 0.4368 - accuracy: 0.8295 - val_loss: 0.5628 - val_accuracy: 0.8068\n",
            "Epoch 135/500\n",
            "104/104 [==============================] - 0s 3ms/step - loss: 0.4271 - accuracy: 0.8368 - val_loss: 0.5921 - val_accuracy: 0.7585\n",
            "Epoch 136/500\n",
            "104/104 [==============================] - 0s 3ms/step - loss: 0.4153 - accuracy: 0.8386 - val_loss: 0.6034 - val_accuracy: 0.7826\n",
            "Epoch 137/500\n",
            "104/104 [==============================] - 0s 3ms/step - loss: 0.3938 - accuracy: 0.8549 - val_loss: 0.5883 - val_accuracy: 0.7729\n",
            "Epoch 138/500\n",
            "104/104 [==============================] - 0s 3ms/step - loss: 0.4126 - accuracy: 0.8452 - val_loss: 0.6046 - val_accuracy: 0.7778\n",
            "Epoch 139/500\n",
            "104/104 [==============================] - 0s 3ms/step - loss: 0.4213 - accuracy: 0.8368 - val_loss: 0.5784 - val_accuracy: 0.7874\n",
            "Epoch 140/500\n",
            "104/104 [==============================] - 0s 4ms/step - loss: 0.4120 - accuracy: 0.8380 - val_loss: 0.6075 - val_accuracy: 0.7729\n",
            "Epoch 141/500\n",
            "104/104 [==============================] - 0s 3ms/step - loss: 0.3991 - accuracy: 0.8476 - val_loss: 0.5944 - val_accuracy: 0.7536\n",
            "Epoch 142/500\n",
            "104/104 [==============================] - 0s 3ms/step - loss: 0.4103 - accuracy: 0.8476 - val_loss: 0.5981 - val_accuracy: 0.7778\n",
            "Epoch 143/500\n",
            "104/104 [==============================] - 0s 3ms/step - loss: 0.4218 - accuracy: 0.8501 - val_loss: 0.6147 - val_accuracy: 0.7874\n",
            "Epoch 144/500\n",
            "104/104 [==============================] - 0s 3ms/step - loss: 0.3657 - accuracy: 0.8603 - val_loss: 0.5922 - val_accuracy: 0.7826\n",
            "Epoch 145/500\n",
            "104/104 [==============================] - 0s 3ms/step - loss: 0.3902 - accuracy: 0.8519 - val_loss: 0.5889 - val_accuracy: 0.7633\n",
            "Epoch 146/500\n",
            "104/104 [==============================] - 0s 3ms/step - loss: 0.3710 - accuracy: 0.8640 - val_loss: 0.5536 - val_accuracy: 0.8019\n",
            "Epoch 147/500\n",
            "104/104 [==============================] - 0s 3ms/step - loss: 0.3818 - accuracy: 0.8470 - val_loss: 0.5671 - val_accuracy: 0.7923\n",
            "Epoch 148/500\n",
            "104/104 [==============================] - 0s 3ms/step - loss: 0.3602 - accuracy: 0.8664 - val_loss: 0.5341 - val_accuracy: 0.8164\n",
            "Epoch 149/500\n",
            "104/104 [==============================] - 0s 3ms/step - loss: 0.3920 - accuracy: 0.8519 - val_loss: 0.6015 - val_accuracy: 0.7826\n",
            "Epoch 150/500\n",
            "104/104 [==============================] - 0s 3ms/step - loss: 0.3690 - accuracy: 0.8591 - val_loss: 0.5902 - val_accuracy: 0.7874\n",
            "Epoch 151/500\n",
            "104/104 [==============================] - 0s 3ms/step - loss: 0.3895 - accuracy: 0.8519 - val_loss: 0.5583 - val_accuracy: 0.8213\n",
            "Epoch 152/500\n",
            "104/104 [==============================] - 0s 3ms/step - loss: 0.3905 - accuracy: 0.8464 - val_loss: 0.5635 - val_accuracy: 0.8019\n",
            "Epoch 153/500\n",
            "104/104 [==============================] - 0s 3ms/step - loss: 0.3813 - accuracy: 0.8543 - val_loss: 0.5973 - val_accuracy: 0.7681\n",
            "Epoch 154/500\n",
            "104/104 [==============================] - 0s 4ms/step - loss: 0.3418 - accuracy: 0.8785 - val_loss: 0.5620 - val_accuracy: 0.7874\n",
            "Epoch 155/500\n",
            "104/104 [==============================] - 0s 3ms/step - loss: 0.3371 - accuracy: 0.8797 - val_loss: 0.5500 - val_accuracy: 0.8019\n",
            "Epoch 156/500\n",
            "104/104 [==============================] - 0s 3ms/step - loss: 0.3407 - accuracy: 0.8706 - val_loss: 0.5761 - val_accuracy: 0.8164\n",
            "Epoch 157/500\n",
            "104/104 [==============================] - 0s 3ms/step - loss: 0.3548 - accuracy: 0.8658 - val_loss: 0.5360 - val_accuracy: 0.8164\n",
            "Epoch 158/500\n",
            "104/104 [==============================] - 0s 3ms/step - loss: 0.3316 - accuracy: 0.8718 - val_loss: 0.5542 - val_accuracy: 0.7971\n",
            "Epoch 159/500\n",
            "104/104 [==============================] - 0s 3ms/step - loss: 0.3446 - accuracy: 0.8646 - val_loss: 0.5372 - val_accuracy: 0.8261\n",
            "Epoch 160/500\n",
            "104/104 [==============================] - 0s 3ms/step - loss: 0.3422 - accuracy: 0.8712 - val_loss: 0.5666 - val_accuracy: 0.7923\n",
            "Epoch 161/500\n",
            "104/104 [==============================] - 0s 3ms/step - loss: 0.3355 - accuracy: 0.8712 - val_loss: 0.5236 - val_accuracy: 0.8116\n",
            "Epoch 162/500\n",
            "104/104 [==============================] - 0s 3ms/step - loss: 0.3292 - accuracy: 0.8767 - val_loss: 0.5498 - val_accuracy: 0.7874\n",
            "Epoch 163/500\n",
            "104/104 [==============================] - 0s 3ms/step - loss: 0.3217 - accuracy: 0.8779 - val_loss: 0.5585 - val_accuracy: 0.7585\n",
            "Epoch 164/500\n",
            "104/104 [==============================] - 0s 3ms/step - loss: 0.3307 - accuracy: 0.8767 - val_loss: 0.5479 - val_accuracy: 0.8068\n",
            "Epoch 165/500\n",
            "104/104 [==============================] - 0s 3ms/step - loss: 0.3234 - accuracy: 0.8851 - val_loss: 0.5317 - val_accuracy: 0.8261\n",
            "Epoch 166/500\n",
            "104/104 [==============================] - 0s 3ms/step - loss: 0.3205 - accuracy: 0.8815 - val_loss: 0.5695 - val_accuracy: 0.7778\n",
            "Epoch 167/500\n",
            "104/104 [==============================] - 0s 3ms/step - loss: 0.3116 - accuracy: 0.8875 - val_loss: 0.5101 - val_accuracy: 0.8454\n",
            "Epoch 168/500\n",
            "104/104 [==============================] - 0s 3ms/step - loss: 0.3309 - accuracy: 0.8791 - val_loss: 0.5256 - val_accuracy: 0.8164\n",
            "Epoch 169/500\n",
            "104/104 [==============================] - 0s 3ms/step - loss: 0.2846 - accuracy: 0.8948 - val_loss: 0.5486 - val_accuracy: 0.7971\n",
            "Epoch 170/500\n",
            "104/104 [==============================] - 0s 3ms/step - loss: 0.3145 - accuracy: 0.8827 - val_loss: 0.5467 - val_accuracy: 0.8068\n",
            "Epoch 171/500\n",
            "104/104 [==============================] - 0s 3ms/step - loss: 0.3101 - accuracy: 0.8869 - val_loss: 0.5430 - val_accuracy: 0.7923\n",
            "Epoch 172/500\n",
            "104/104 [==============================] - 0s 3ms/step - loss: 0.3280 - accuracy: 0.8700 - val_loss: 0.5417 - val_accuracy: 0.8116\n",
            "Epoch 173/500\n",
            "104/104 [==============================] - 0s 3ms/step - loss: 0.3042 - accuracy: 0.8912 - val_loss: 0.5635 - val_accuracy: 0.7681\n",
            "Epoch 174/500\n",
            "104/104 [==============================] - 0s 3ms/step - loss: 0.3132 - accuracy: 0.8809 - val_loss: 0.5569 - val_accuracy: 0.7826\n",
            "Epoch 175/500\n",
            "104/104 [==============================] - 0s 3ms/step - loss: 0.3037 - accuracy: 0.8833 - val_loss: 0.5745 - val_accuracy: 0.8019\n",
            "Epoch 176/500\n",
            "104/104 [==============================] - 0s 3ms/step - loss: 0.3000 - accuracy: 0.8906 - val_loss: 0.5467 - val_accuracy: 0.8019\n",
            "Epoch 177/500\n",
            "104/104 [==============================] - 0s 3ms/step - loss: 0.2838 - accuracy: 0.8984 - val_loss: 0.5150 - val_accuracy: 0.8213\n",
            "Epoch 178/500\n",
            "104/104 [==============================] - 0s 3ms/step - loss: 0.2834 - accuracy: 0.8942 - val_loss: 0.5365 - val_accuracy: 0.8309\n",
            "Epoch 179/500\n",
            "104/104 [==============================] - 0s 3ms/step - loss: 0.2910 - accuracy: 0.8930 - val_loss: 0.5336 - val_accuracy: 0.8164\n",
            "Epoch 180/500\n",
            "104/104 [==============================] - 0s 3ms/step - loss: 0.2669 - accuracy: 0.9015 - val_loss: 0.5161 - val_accuracy: 0.8164\n",
            "Epoch 181/500\n",
            "104/104 [==============================] - 0s 3ms/step - loss: 0.2777 - accuracy: 0.9045 - val_loss: 0.5926 - val_accuracy: 0.7826\n",
            "Epoch 182/500\n",
            "104/104 [==============================] - 0s 3ms/step - loss: 0.3159 - accuracy: 0.8803 - val_loss: 0.5222 - val_accuracy: 0.8164\n",
            "Epoch 183/500\n",
            "104/104 [==============================] - 0s 3ms/step - loss: 0.2660 - accuracy: 0.9111 - val_loss: 0.5538 - val_accuracy: 0.7874\n",
            "Epoch 184/500\n",
            "104/104 [==============================] - 0s 3ms/step - loss: 0.2472 - accuracy: 0.9166 - val_loss: 0.5512 - val_accuracy: 0.7729\n",
            "Epoch 185/500\n",
            "104/104 [==============================] - 0s 3ms/step - loss: 0.2665 - accuracy: 0.9008 - val_loss: 0.5074 - val_accuracy: 0.8357\n",
            "Epoch 186/500\n",
            "104/104 [==============================] - 0s 3ms/step - loss: 0.2739 - accuracy: 0.9087 - val_loss: 0.5318 - val_accuracy: 0.8019\n",
            "Epoch 187/500\n",
            "104/104 [==============================] - 0s 3ms/step - loss: 0.2682 - accuracy: 0.9039 - val_loss: 0.5427 - val_accuracy: 0.8068\n",
            "Epoch 188/500\n",
            "104/104 [==============================] - 0s 3ms/step - loss: 0.2722 - accuracy: 0.9008 - val_loss: 0.4936 - val_accuracy: 0.8261\n",
            "Epoch 189/500\n",
            "104/104 [==============================] - 0s 3ms/step - loss: 0.2599 - accuracy: 0.9129 - val_loss: 0.4927 - val_accuracy: 0.8357\n",
            "Epoch 190/500\n",
            "104/104 [==============================] - 0s 3ms/step - loss: 0.2619 - accuracy: 0.8966 - val_loss: 0.5168 - val_accuracy: 0.8261\n",
            "Epoch 191/500\n",
            "104/104 [==============================] - 0s 3ms/step - loss: 0.2428 - accuracy: 0.9093 - val_loss: 0.5383 - val_accuracy: 0.8213\n",
            "Epoch 192/500\n",
            "104/104 [==============================] - 0s 3ms/step - loss: 0.2622 - accuracy: 0.9105 - val_loss: 0.5098 - val_accuracy: 0.8116\n",
            "Epoch 193/500\n",
            "104/104 [==============================] - 0s 3ms/step - loss: 0.2630 - accuracy: 0.9033 - val_loss: 0.5059 - val_accuracy: 0.8309\n",
            "Epoch 194/500\n",
            "104/104 [==============================] - 0s 3ms/step - loss: 0.2353 - accuracy: 0.9160 - val_loss: 0.5138 - val_accuracy: 0.8164\n",
            "Epoch 195/500\n",
            "104/104 [==============================] - 0s 3ms/step - loss: 0.2358 - accuracy: 0.9123 - val_loss: 0.5786 - val_accuracy: 0.8164\n",
            "Epoch 196/500\n",
            "104/104 [==============================] - 0s 3ms/step - loss: 0.2712 - accuracy: 0.8978 - val_loss: 0.5394 - val_accuracy: 0.8164\n",
            "Epoch 197/500\n",
            "104/104 [==============================] - 0s 3ms/step - loss: 0.2496 - accuracy: 0.9123 - val_loss: 0.5531 - val_accuracy: 0.8116\n",
            "Epoch 198/500\n",
            "104/104 [==============================] - 0s 3ms/step - loss: 0.2729 - accuracy: 0.8960 - val_loss: 0.5421 - val_accuracy: 0.7971\n",
            "Epoch 199/500\n",
            "104/104 [==============================] - 0s 3ms/step - loss: 0.2327 - accuracy: 0.9141 - val_loss: 0.5130 - val_accuracy: 0.8019\n",
            "Epoch 200/500\n",
            "104/104 [==============================] - 0s 3ms/step - loss: 0.2381 - accuracy: 0.9117 - val_loss: 0.5668 - val_accuracy: 0.7971\n",
            "Epoch 201/500\n",
            "104/104 [==============================] - 0s 3ms/step - loss: 0.2456 - accuracy: 0.9123 - val_loss: 0.5683 - val_accuracy: 0.8213\n",
            "Epoch 202/500\n",
            "104/104 [==============================] - 0s 3ms/step - loss: 0.2452 - accuracy: 0.9087 - val_loss: 0.5288 - val_accuracy: 0.8116\n",
            "Epoch 203/500\n",
            "104/104 [==============================] - 0s 3ms/step - loss: 0.2392 - accuracy: 0.9129 - val_loss: 0.5011 - val_accuracy: 0.8213\n",
            "Epoch 204/500\n",
            "104/104 [==============================] - 0s 3ms/step - loss: 0.2357 - accuracy: 0.9208 - val_loss: 0.5378 - val_accuracy: 0.8019\n",
            "Epoch 205/500\n",
            "104/104 [==============================] - 0s 3ms/step - loss: 0.2332 - accuracy: 0.9129 - val_loss: 0.5527 - val_accuracy: 0.8116\n",
            "Epoch 206/500\n",
            "104/104 [==============================] - 0s 3ms/step - loss: 0.2407 - accuracy: 0.9063 - val_loss: 0.5332 - val_accuracy: 0.8164\n",
            "Epoch 207/500\n",
            "104/104 [==============================] - 0s 3ms/step - loss: 0.2497 - accuracy: 0.9069 - val_loss: 0.5187 - val_accuracy: 0.8068\n",
            "Epoch 208/500\n",
            "104/104 [==============================] - 0s 3ms/step - loss: 0.2420 - accuracy: 0.9057 - val_loss: 0.5407 - val_accuracy: 0.8164\n",
            "Epoch 209/500\n",
            "104/104 [==============================] - 0s 3ms/step - loss: 0.2469 - accuracy: 0.9129 - val_loss: 0.4885 - val_accuracy: 0.8309\n",
            "Epoch 210/500\n",
            "104/104 [==============================] - 0s 3ms/step - loss: 0.2339 - accuracy: 0.9141 - val_loss: 0.5165 - val_accuracy: 0.7971\n",
            "Epoch 211/500\n",
            "104/104 [==============================] - 0s 3ms/step - loss: 0.2300 - accuracy: 0.9202 - val_loss: 0.5306 - val_accuracy: 0.8406\n",
            "Epoch 212/500\n",
            "104/104 [==============================] - 0s 3ms/step - loss: 0.2190 - accuracy: 0.9208 - val_loss: 0.5227 - val_accuracy: 0.8357\n",
            "Epoch 213/500\n",
            "104/104 [==============================] - 0s 3ms/step - loss: 0.2431 - accuracy: 0.9160 - val_loss: 0.5291 - val_accuracy: 0.8309\n",
            "Epoch 214/500\n",
            "104/104 [==============================] - 0s 3ms/step - loss: 0.2145 - accuracy: 0.9123 - val_loss: 0.5192 - val_accuracy: 0.8261\n",
            "Epoch 215/500\n",
            "104/104 [==============================] - 0s 4ms/step - loss: 0.2271 - accuracy: 0.9093 - val_loss: 0.5436 - val_accuracy: 0.8068\n",
            "Epoch 216/500\n",
            "104/104 [==============================] - 0s 3ms/step - loss: 0.2412 - accuracy: 0.9154 - val_loss: 0.5385 - val_accuracy: 0.8068\n",
            "Epoch 217/500\n",
            "104/104 [==============================] - 0s 3ms/step - loss: 0.2217 - accuracy: 0.9178 - val_loss: 0.5379 - val_accuracy: 0.8213\n",
            "Epoch 218/500\n",
            "104/104 [==============================] - 0s 3ms/step - loss: 0.2169 - accuracy: 0.9232 - val_loss: 0.5058 - val_accuracy: 0.8406\n",
            "Epoch 219/500\n",
            "104/104 [==============================] - 0s 3ms/step - loss: 0.2314 - accuracy: 0.9154 - val_loss: 0.5165 - val_accuracy: 0.8213\n",
            "Epoch 220/500\n",
            "104/104 [==============================] - 0s 3ms/step - loss: 0.2174 - accuracy: 0.9287 - val_loss: 0.5006 - val_accuracy: 0.8406\n",
            "Epoch 221/500\n",
            "104/104 [==============================] - 0s 3ms/step - loss: 0.2026 - accuracy: 0.9287 - val_loss: 0.5094 - val_accuracy: 0.7971\n",
            "Epoch 222/500\n",
            "104/104 [==============================] - 0s 3ms/step - loss: 0.2051 - accuracy: 0.9274 - val_loss: 0.5382 - val_accuracy: 0.8019\n",
            "Epoch 223/500\n",
            "104/104 [==============================] - 0s 3ms/step - loss: 0.2121 - accuracy: 0.9262 - val_loss: 0.5155 - val_accuracy: 0.7971\n",
            "Epoch 224/500\n",
            "104/104 [==============================] - 0s 3ms/step - loss: 0.2326 - accuracy: 0.9141 - val_loss: 0.5247 - val_accuracy: 0.8116\n",
            "Epoch 225/500\n",
            "104/104 [==============================] - 0s 3ms/step - loss: 0.2030 - accuracy: 0.9287 - val_loss: 0.5005 - val_accuracy: 0.8213\n",
            "Epoch 226/500\n",
            "104/104 [==============================] - 0s 3ms/step - loss: 0.2103 - accuracy: 0.9293 - val_loss: 0.5086 - val_accuracy: 0.8261\n",
            "Epoch 227/500\n",
            "104/104 [==============================] - 0s 3ms/step - loss: 0.2168 - accuracy: 0.9202 - val_loss: 0.5498 - val_accuracy: 0.8068\n",
            "Epoch 228/500\n",
            "104/104 [==============================] - 0s 3ms/step - loss: 0.1947 - accuracy: 0.9250 - val_loss: 0.5127 - val_accuracy: 0.8019\n",
            "Epoch 229/500\n",
            "104/104 [==============================] - 0s 3ms/step - loss: 0.2023 - accuracy: 0.9262 - val_loss: 0.4991 - val_accuracy: 0.8068\n",
            "Epoch 230/500\n",
            "104/104 [==============================] - 0s 3ms/step - loss: 0.1924 - accuracy: 0.9311 - val_loss: 0.4911 - val_accuracy: 0.8213\n",
            "Epoch 231/500\n",
            "104/104 [==============================] - 0s 3ms/step - loss: 0.1982 - accuracy: 0.9329 - val_loss: 0.5126 - val_accuracy: 0.8213\n",
            "Epoch 232/500\n",
            "104/104 [==============================] - 0s 3ms/step - loss: 0.2051 - accuracy: 0.9287 - val_loss: 0.4526 - val_accuracy: 0.8502\n",
            "Epoch 233/500\n",
            "104/104 [==============================] - 0s 3ms/step - loss: 0.1962 - accuracy: 0.9232 - val_loss: 0.4742 - val_accuracy: 0.8213\n",
            "Epoch 234/500\n",
            "104/104 [==============================] - 0s 3ms/step - loss: 0.1925 - accuracy: 0.9329 - val_loss: 0.4899 - val_accuracy: 0.8261\n",
            "Epoch 235/500\n",
            "104/104 [==============================] - 0s 3ms/step - loss: 0.1836 - accuracy: 0.9329 - val_loss: 0.5085 - val_accuracy: 0.8454\n",
            "Epoch 236/500\n",
            "104/104 [==============================] - 0s 3ms/step - loss: 0.2101 - accuracy: 0.9135 - val_loss: 0.4789 - val_accuracy: 0.8406\n",
            "Epoch 237/500\n",
            "104/104 [==============================] - 0s 3ms/step - loss: 0.1826 - accuracy: 0.9341 - val_loss: 0.5235 - val_accuracy: 0.7971\n",
            "Epoch 238/500\n",
            "104/104 [==============================] - 0s 3ms/step - loss: 0.2138 - accuracy: 0.9196 - val_loss: 0.5393 - val_accuracy: 0.8116\n",
            "Epoch 239/500\n",
            "104/104 [==============================] - 0s 3ms/step - loss: 0.1956 - accuracy: 0.9311 - val_loss: 0.4810 - val_accuracy: 0.8406\n",
            "Epoch 240/500\n",
            "104/104 [==============================] - 0s 3ms/step - loss: 0.2140 - accuracy: 0.9214 - val_loss: 0.4920 - val_accuracy: 0.8454\n",
            "Epoch 241/500\n",
            "104/104 [==============================] - 0s 3ms/step - loss: 0.1955 - accuracy: 0.9274 - val_loss: 0.5144 - val_accuracy: 0.8164\n",
            "Epoch 242/500\n",
            "104/104 [==============================] - 0s 3ms/step - loss: 0.1966 - accuracy: 0.9335 - val_loss: 0.4891 - val_accuracy: 0.8454\n",
            "Epoch 243/500\n",
            "104/104 [==============================] - 0s 3ms/step - loss: 0.1662 - accuracy: 0.9323 - val_loss: 0.5125 - val_accuracy: 0.8357\n",
            "Epoch 244/500\n",
            "104/104 [==============================] - 0s 3ms/step - loss: 0.1859 - accuracy: 0.9347 - val_loss: 0.5245 - val_accuracy: 0.8213\n",
            "Epoch 245/500\n",
            "104/104 [==============================] - 0s 3ms/step - loss: 0.1756 - accuracy: 0.9383 - val_loss: 0.5435 - val_accuracy: 0.8357\n",
            "Epoch 246/500\n",
            "104/104 [==============================] - 0s 3ms/step - loss: 0.1676 - accuracy: 0.9383 - val_loss: 0.5175 - val_accuracy: 0.8068\n",
            "Epoch 247/500\n",
            "104/104 [==============================] - 0s 3ms/step - loss: 0.2032 - accuracy: 0.9256 - val_loss: 0.4971 - val_accuracy: 0.8309\n",
            "Epoch 248/500\n",
            "104/104 [==============================] - 0s 3ms/step - loss: 0.2015 - accuracy: 0.9287 - val_loss: 0.4855 - val_accuracy: 0.8357\n",
            "Epoch 249/500\n",
            "104/104 [==============================] - 0s 3ms/step - loss: 0.1870 - accuracy: 0.9323 - val_loss: 0.4833 - val_accuracy: 0.8406\n",
            "Epoch 250/500\n",
            "104/104 [==============================] - 0s 3ms/step - loss: 0.1793 - accuracy: 0.9365 - val_loss: 0.5323 - val_accuracy: 0.8261\n",
            "Epoch 251/500\n",
            "104/104 [==============================] - 0s 3ms/step - loss: 0.1736 - accuracy: 0.9365 - val_loss: 0.4812 - val_accuracy: 0.8357\n",
            "Epoch 252/500\n",
            "104/104 [==============================] - 0s 3ms/step - loss: 0.1760 - accuracy: 0.9432 - val_loss: 0.5314 - val_accuracy: 0.8309\n",
            "Epoch 253/500\n",
            "104/104 [==============================] - 0s 3ms/step - loss: 0.1724 - accuracy: 0.9377 - val_loss: 0.5160 - val_accuracy: 0.8406\n",
            "Epoch 254/500\n",
            "104/104 [==============================] - 0s 3ms/step - loss: 0.1887 - accuracy: 0.9401 - val_loss: 0.4593 - val_accuracy: 0.8599\n",
            "Epoch 255/500\n",
            "104/104 [==============================] - 0s 3ms/step - loss: 0.1635 - accuracy: 0.9420 - val_loss: 0.5192 - val_accuracy: 0.8309\n",
            "Epoch 256/500\n",
            "104/104 [==============================] - 0s 3ms/step - loss: 0.1707 - accuracy: 0.9389 - val_loss: 0.5174 - val_accuracy: 0.8357\n",
            "Epoch 257/500\n",
            "104/104 [==============================] - 0s 3ms/step - loss: 0.1697 - accuracy: 0.9377 - val_loss: 0.5137 - val_accuracy: 0.8502\n"
          ]
        }
      ]
    },
    {
      "cell_type": "code",
      "source": [
        "plt.plot(cnnhistory.history['loss'])\n",
        "plt.plot(cnnhistory.history['val_loss'])\n",
        "plt.title('model loss')\n",
        "plt.ylabel('loss')\n",
        "plt.xlabel('epoch')\n",
        "plt.legend(['train','test'], loc='upper left')\n",
        "plt.show()"
      ],
      "metadata": {
        "id": "oQYnuaCrDH_A",
        "colab": {
          "base_uri": "https://localhost:8080/",
          "height": 295
        },
        "outputId": "689ae98e-7681-4f93-9231-16942eb362ed"
      },
      "execution_count": 15,
      "outputs": [
        {
          "output_type": "display_data",
          "data": {
            "text/plain": [
              "<Figure size 432x288 with 1 Axes>"
            ],
            "image/png": "[encoded data removed]"
          },
          "metadata": {
            "needs_background": "light"
          }
        }
      ]
    },
    {
      "cell_type": "code",
      "source": [
        "plt.plot(cnnhistory.history['accuracy'])\n",
        "plt.plot(cnnhistory.history['val_accuracy'])\n",
        "plt.title('model accuracy')\n",
        "plt.ylabel('accuracy')\n",
        "plt.xlabel('epoch')\n",
        "plt.legend(['train','test'], loc='upper left')\n",
        "plt.show()"
      ],
      "metadata": {
        "id": "IFkTuO8nDNdq",
        "colab": {
          "base_uri": "https://localhost:8080/",
          "height": 295
        },
        "outputId": "9509a0b9-8e6a-412a-f5d7-8bc79c8bac6c"
      },
      "execution_count": 16,
      "outputs": [
        {
          "output_type": "display_data",
          "data": {
            "text/plain": [
              "<Figure size 432x288 with 1 Axes>"
            ],
            "image/png": "[encoded data removed]"
          },
          "metadata": {
            "needs_background": "light"
          }
        }
      ]
    },
    {
      "cell_type": "code",
      "source": [
        "predictions = model.predict(x_testcnn)"
      ],
      "metadata": {
        "id": "A2xtrN5wDQgY"
      },
      "execution_count": 17,
      "outputs": []
    },
    {
      "cell_type": "code",
      "source": [
        "predictions"
      ],
      "metadata": {
        "id": "_f_ohjXKDUpY",
        "colab": {
          "base_uri": "https://localhost:8080/"
        },
        "outputId": "ca2c5cb6-66a5-451a-f99e-9f7d6368ae4d"
      },
      "execution_count": 18,
      "outputs": [
        {
          "output_type": "execute_result",
          "data": {
            "text/plain": [
              "array([[4.6372047e-01, 2.8936166e-02, 5.4024845e-02, 4.1124016e-01,\n",
              "        1.7735848e-02, 2.4342522e-02],\n",
              "       [3.3224371e-06, 1.9797671e-08, 4.1614670e-10, 9.9809438e-01,\n",
              "        2.4130086e-08, 1.9022913e-03],\n",
              "       [1.7814136e-01, 6.1763164e-02, 1.0631598e-02, 7.0038009e-01,\n",
              "        4.0504010e-03, 4.5033451e-02],\n",
              "       ...,\n",
              "       [2.3441546e-06, 3.2988005e-11, 1.3393415e-04, 6.2678856e-07,\n",
              "        9.9776053e-01, 2.1025226e-03],\n",
              "       [2.0509727e-07, 2.9910246e-01, 7.0042706e-01, 1.2553181e-04,\n",
              "        2.5575925e-04, 8.9042042e-05],\n",
              "       [8.3475097e-06, 1.7434835e-06, 6.8936790e-03, 2.9588682e-05,\n",
              "        9.8585594e-01, 7.2106575e-03]], dtype=float32)"
            ]
          },
          "metadata": {},
          "execution_count": 18
        }
      ]
    },
    {
      "cell_type": "code",
      "source": [
        "y_test"
      ],
      "metadata": {
        "id": "cmA2bFgsDW3D",
        "colab": {
          "base_uri": "https://localhost:8080/"
        },
        "outputId": "8180266b-dd1f-44c6-c417-4258da0f5db7"
      },
      "execution_count": 19,
      "outputs": [
        {
          "output_type": "execute_result",
          "data": {
            "text/plain": [
              "array([3, 3, 3, 0, 4, 4, 1, 2, 5, 0, 5, 3, 2, 2, 1, 4, 4, 5, 2, 4, 1, 2,\n",
              "       3, 5, 4, 2, 1, 2, 2, 2, 2, 5, 2, 5, 3, 1, 2, 0, 4, 5, 2, 3, 2, 2,\n",
              "       5, 2, 0, 1, 3, 4, 4, 5, 1, 1, 4, 4, 5, 1, 1, 1, 0, 1, 5, 0, 4, 1,\n",
              "       1, 0, 1, 4, 1, 0, 4, 1, 3, 1, 2, 2, 1, 2, 3, 0, 5, 3, 5, 5, 2, 4,\n",
              "       5, 1, 5, 1, 5, 3, 4, 1, 4, 1, 5, 4, 5, 1, 2, 1, 1, 5, 1, 3, 2, 5,\n",
              "       2, 1, 3, 5, 4, 4, 0, 0, 3, 1, 2, 2, 3, 5, 1, 5, 3, 4, 2, 2, 0, 2,\n",
              "       2, 5, 5, 0, 3, 3, 2, 2, 0, 3, 4, 0, 4, 2, 4, 5, 4, 1, 5, 3, 2, 2,\n",
              "       5, 4, 3, 3, 4, 3, 3, 4, 1, 5, 2, 3, 2, 2, 0, 2, 1, 3, 1, 2, 2, 5,\n",
              "       5, 1, 4, 2, 2, 1, 1, 3, 3, 5, 5, 2, 5, 1, 5, 0, 3, 3, 0, 5, 1, 4,\n",
              "       1, 4, 2, 5, 5, 1, 4, 2, 4])"
            ]
          },
          "metadata": {},
          "execution_count": 19
        }
      ]
    },
    {
      "cell_type": "code",
      "source": [
        "new_Ytest = y_test.astype(int)"
      ],
      "metadata": {
        "id": "0PHDKWJWDY3g"
      },
      "execution_count": 20,
      "outputs": []
    },
    {
      "cell_type": "code",
      "source": [
        "new_Ytest"
      ],
      "metadata": {
        "id": "k68v2i-pDbZE",
        "colab": {
          "base_uri": "https://localhost:8080/"
        },
        "outputId": "84fe49b2-25e1-41a9-b8c8-cd78623ceb91"
      },
      "execution_count": 21,
      "outputs": [
        {
          "output_type": "execute_result",
          "data": {
            "text/plain": [
              "array([3, 3, 3, 0, 4, 4, 1, 2, 5, 0, 5, 3, 2, 2, 1, 4, 4, 5, 2, 4, 1, 2,\n",
              "       3, 5, 4, 2, 1, 2, 2, 2, 2, 5, 2, 5, 3, 1, 2, 0, 4, 5, 2, 3, 2, 2,\n",
              "       5, 2, 0, 1, 3, 4, 4, 5, 1, 1, 4, 4, 5, 1, 1, 1, 0, 1, 5, 0, 4, 1,\n",
              "       1, 0, 1, 4, 1, 0, 4, 1, 3, 1, 2, 2, 1, 2, 3, 0, 5, 3, 5, 5, 2, 4,\n",
              "       5, 1, 5, 1, 5, 3, 4, 1, 4, 1, 5, 4, 5, 1, 2, 1, 1, 5, 1, 3, 2, 5,\n",
              "       2, 1, 3, 5, 4, 4, 0, 0, 3, 1, 2, 2, 3, 5, 1, 5, 3, 4, 2, 2, 0, 2,\n",
              "       2, 5, 5, 0, 3, 3, 2, 2, 0, 3, 4, 0, 4, 2, 4, 5, 4, 1, 5, 3, 2, 2,\n",
              "       5, 4, 3, 3, 4, 3, 3, 4, 1, 5, 2, 3, 2, 2, 0, 2, 1, 3, 1, 2, 2, 5,\n",
              "       5, 1, 4, 2, 2, 1, 1, 3, 3, 5, 5, 2, 5, 1, 5, 0, 3, 3, 0, 5, 1, 4,\n",
              "       1, 4, 2, 5, 5, 1, 4, 2, 4])"
            ]
          },
          "metadata": {},
          "execution_count": 21
        }
      ]
    },
    {
      "cell_type": "code",
      "source": [
        "preds1=predictions.argmax(axis=1)\n",
        "preds1"
      ],
      "metadata": {
        "id": "4_cAI39VFhtp",
        "colab": {
          "base_uri": "https://localhost:8080/"
        },
        "outputId": "8a7d4088-1680-4b87-cd0d-8b0fd2bb200c"
      },
      "execution_count": 22,
      "outputs": [
        {
          "output_type": "execute_result",
          "data": {
            "text/plain": [
              "array([0, 3, 3, 0, 4, 4, 1, 2, 5, 1, 5, 3, 2, 2, 0, 4, 4, 3, 3, 4, 1, 2,\n",
              "       3, 3, 4, 2, 1, 2, 2, 2, 2, 5, 2, 5, 3, 1, 2, 0, 4, 5, 2, 3, 2, 2,\n",
              "       3, 2, 1, 1, 3, 4, 4, 2, 1, 1, 4, 4, 5, 1, 1, 1, 0, 1, 5, 1, 4, 1,\n",
              "       1, 1, 1, 4, 1, 0, 4, 1, 3, 1, 2, 2, 1, 2, 1, 0, 5, 3, 5, 5, 2, 3,\n",
              "       3, 1, 5, 1, 5, 3, 4, 1, 4, 1, 5, 4, 5, 1, 2, 1, 0, 5, 1, 3, 2, 2,\n",
              "       2, 0, 3, 2, 4, 4, 3, 0, 3, 1, 1, 4, 3, 3, 1, 5, 3, 3, 2, 2, 0, 2,\n",
              "       2, 3, 3, 0, 3, 3, 2, 2, 0, 3, 4, 0, 4, 1, 4, 2, 4, 1, 5, 3, 2, 2,\n",
              "       5, 4, 3, 3, 4, 5, 3, 4, 1, 5, 2, 3, 2, 2, 0, 2, 1, 3, 1, 2, 2, 5,\n",
              "       5, 1, 4, 2, 2, 1, 1, 3, 3, 5, 5, 2, 3, 1, 2, 1, 3, 3, 0, 2, 1, 4,\n",
              "       1, 3, 3, 2, 5, 1, 4, 2, 4])"
            ]
          },
          "metadata": {},
          "execution_count": 22
        }
      ]
    },
    {
      "cell_type": "code",
      "source": [
        "abc = preds1.astype(int).flatten()"
      ],
      "metadata": {
        "id": "H4WEmM60NfQn"
      },
      "execution_count": 23,
      "outputs": []
    },
    {
      "cell_type": "code",
      "source": [
        "from sklearn.metrics import confusion_matrix\n",
        "c = confusion_matrix(new_Ytest, abc) \n",
        "c"
      ],
      "metadata": {
        "id": "bKEBeEBlFjB8",
        "colab": {
          "base_uri": "https://localhost:8080/"
        },
        "outputId": "d381d543-d515-43d5-b95a-f61e2b209443"
      },
      "execution_count": 24,
      "outputs": [
        {
          "output_type": "execute_result",
          "data": {
            "text/plain": [
              "array([[12,  5,  0,  1,  0,  0],\n",
              "       [ 3, 38,  0,  0,  0,  0],\n",
              "       [ 0,  2, 40,  2,  1,  0],\n",
              "       [ 1,  1,  0, 28,  0,  1],\n",
              "       [ 0,  0,  0,  3, 30,  0],\n",
              "       [ 0,  0,  7,  8,  0, 24]])"
            ]
          },
          "metadata": {},
          "execution_count": 24
        }
      ]
    },
    {
      "cell_type": "code",
      "source": [
        "y_test"
      ],
      "metadata": {
        "id": "m4RjG7LWLSQx",
        "colab": {
          "base_uri": "https://localhost:8080/"
        },
        "outputId": "b13738ca-c638-430c-c702-424427450447"
      },
      "execution_count": 25,
      "outputs": [
        {
          "output_type": "execute_result",
          "data": {
            "text/plain": [
              "array([3, 3, 3, 0, 4, 4, 1, 2, 5, 0, 5, 3, 2, 2, 1, 4, 4, 5, 2, 4, 1, 2,\n",
              "       3, 5, 4, 2, 1, 2, 2, 2, 2, 5, 2, 5, 3, 1, 2, 0, 4, 5, 2, 3, 2, 2,\n",
              "       5, 2, 0, 1, 3, 4, 4, 5, 1, 1, 4, 4, 5, 1, 1, 1, 0, 1, 5, 0, 4, 1,\n",
              "       1, 0, 1, 4, 1, 0, 4, 1, 3, 1, 2, 2, 1, 2, 3, 0, 5, 3, 5, 5, 2, 4,\n",
              "       5, 1, 5, 1, 5, 3, 4, 1, 4, 1, 5, 4, 5, 1, 2, 1, 1, 5, 1, 3, 2, 5,\n",
              "       2, 1, 3, 5, 4, 4, 0, 0, 3, 1, 2, 2, 3, 5, 1, 5, 3, 4, 2, 2, 0, 2,\n",
              "       2, 5, 5, 0, 3, 3, 2, 2, 0, 3, 4, 0, 4, 2, 4, 5, 4, 1, 5, 3, 2, 2,\n",
              "       5, 4, 3, 3, 4, 3, 3, 4, 1, 5, 2, 3, 2, 2, 0, 2, 1, 3, 1, 2, 2, 5,\n",
              "       5, 1, 4, 2, 2, 1, 1, 3, 3, 5, 5, 2, 5, 1, 5, 0, 3, 3, 0, 5, 1, 4,\n",
              "       1, 4, 2, 5, 5, 1, 4, 2, 4])"
            ]
          },
          "metadata": {},
          "execution_count": 25
        }
      ]
    },
    {
      "cell_type": "code",
      "source": [
        "loss, acc =model.evaluate(x_testcnn, y_test)\n",
        "print(\"Restored model, accuracy: {:5.2f}%\".format(100*acc))"
      ],
      "metadata": {
        "id": "n3kzoqPkDqqS",
        "colab": {
          "base_uri": "https://localhost:8080/"
        },
        "outputId": "14cd6110-1356-4d3f-944c-cca650ebeca1"
      },
      "execution_count": 26,
      "outputs": [
        {
          "output_type": "stream",
          "name": "stdout",
          "text": [
            "7/7 [==============================] - 0s 3ms/step - loss: 0.4848 - accuracy: 0.8309\n",
            "Restored model, accuracy: 83.09%\n"
          ]
        }
      ]
    },
    {
      "cell_type": "code",
      "source": [
        "loss, acc =model.evaluate(X_train, y_train)\n",
        "print(\"Restored model train, accuracy: {:5.2f}%\".format(100*acc))"
      ],
      "metadata": {
        "id": "fJDTGH_OUX0z",
        "colab": {
          "base_uri": "https://localhost:8080/"
        },
        "outputId": "683419a4-9512-4315-8b1d-851916357760"
      },
      "execution_count": 27,
      "outputs": [
        {
          "output_type": "stream",
          "name": "stdout",
          "text": [
            "52/52 [==============================] - 0s 3ms/step - loss: 0.0970 - accuracy: 0.9940\n",
            "Restored model train, accuracy: 99.40%\n"
          ]
        }
      ]
    },
    {
      "cell_type": "code",
      "source": [
        "from sklearn.metrics import classification_report, confusion_matrix,accuracy_score\n",
        "import seaborn as sn\n",
        "\n",
        "print(classification_report(new_Ytest,abc))\n",
        "\n",
        "acc = float(accuracy_score(new_Ytest,abc))*100\n",
        "print(\"----accuracy score %s ----\" % acc)\n",
        "\n",
        "cm = confusion_matrix(new_Ytest,abc)\n",
        "#df_cm = pd.DataFrame(cm)\n",
        "class_names = ['neutral','calm', 'happy','sad','angry', 'fearful' ]\n",
        "df_cm = pd.DataFrame(cm, index=class_names, columns=class_names,)\n",
        "sn.heatmap(df_cm, annot=True, fmt='')\n",
        "plt.show()"
      ],
      "metadata": {
        "id": "SfSC3El94LZg",
        "colab": {
          "base_uri": "https://localhost:8080/",
          "height": 525
        },
        "outputId": "aac68e3b-8d99-4464-caed-f1684a703413"
      },
      "execution_count": 28,
      "outputs": [
        {
          "output_type": "stream",
          "name": "stdout",
          "text": [
            "              precision    recall  f1-score   support\n",
            "\n",
            "           0       0.75      0.67      0.71        18\n",
            "           1       0.83      0.93      0.87        41\n",
            "           2       0.85      0.89      0.87        45\n",
            "           3       0.67      0.90      0.77        31\n",
            "           4       0.97      0.91      0.94        33\n",
            "           5       0.96      0.62      0.75        39\n",
            "\n",
            "    accuracy                           0.83       207\n",
            "   macro avg       0.84      0.82      0.82       207\n",
            "weighted avg       0.85      0.83      0.83       207\n",
            "\n",
            "----accuracy score 83.09178743961353 ----\n"
          ]
        },
        {
          "output_type": "display_data",
          "data": {
            "text/plain": [
              "<Figure size 432x288 with 2 Axes>"
            ],
            "image/png": "[encoded data removed]"
          },
          "metadata": {
            "needs_background": "light"
          }
        }
      ]
    }
  ]
}