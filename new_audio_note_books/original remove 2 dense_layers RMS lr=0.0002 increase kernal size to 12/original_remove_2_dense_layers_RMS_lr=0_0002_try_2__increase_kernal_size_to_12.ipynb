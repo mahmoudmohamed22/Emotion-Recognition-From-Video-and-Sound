{
  "nbformat": 4,
  "nbformat_minor": 0,
  "metadata": {
    "colab": {
      "name": "original_remove_2_dense_layers_RMS_lr=0_0002_try_2_ increase kernal size to 12.ipynb",
      "provenance": [],
      "collapsed_sections": []
    },
    "kernelspec": {
      "name": "python3",
      "display_name": "Python 3"
    },
    "language_info": {
      "name": "python"
    },
    "accelerator": "TPU"
  },
  "cells": [
    {
      "cell_type": "code",
      "execution_count": 1,
      "metadata": {
        "colab": {
          "base_uri": "https://localhost:8080/"
        },
        "id": "9SRCO-a_AlH5",
        "outputId": "0175573d-d2cf-4bf3-d9b9-a082d3c3ce54"
      },
      "outputs": [
        {
          "output_type": "stream",
          "name": "stdout",
          "text": [
            "Drive already mounted at /content/drive; to attempt to forcibly remount, call drive.mount(\"/content/drive\", force_remount=True).\n"
          ]
        }
      ],
      "source": [
        "from google.colab import drive\n",
        "drive.mount('/content/drive')"
      ]
    },
    {
      "cell_type": "code",
      "source": [
        "!pip install librosa"
      ],
      "metadata": {
        "colab": {
          "base_uri": "https://localhost:8080/"
        },
        "id": "5Lo4mUwG9RMd",
        "outputId": "4c4ba38d-8cc0-4695-ff46-c27698a71d31"
      },
      "execution_count": 2,
      "outputs": [
        {
          "output_type": "stream",
          "name": "stdout",
          "text": [
            "Looking in indexes: https://pypi.org/simple, https://us-python.pkg.dev/colab-wheels/public/simple/\n",
            "Requirement already satisfied: librosa in /usr/local/lib/python3.7/dist-packages (0.8.1)\n",
            "Requirement already satisfied: numpy>=1.15.0 in /usr/local/lib/python3.7/dist-packages (from librosa) (1.21.6)\n",
            "Requirement already satisfied: audioread>=2.0.0 in /usr/local/lib/python3.7/dist-packages (from librosa) (2.1.9)\n",
            "Requirement already satisfied: scikit-learn!=0.19.0,>=0.14.0 in /usr/local/lib/python3.7/dist-packages (from librosa) (1.0.2)\n",
            "Requirement already satisfied: scipy>=1.0.0 in /usr/local/lib/python3.7/dist-packages (from librosa) (1.4.1)\n",
            "Requirement already satisfied: decorator>=3.0.0 in /usr/local/lib/python3.7/dist-packages (from librosa) (4.4.2)\n",
            "Requirement already satisfied: soundfile>=0.10.2 in /usr/local/lib/python3.7/dist-packages (from librosa) (0.10.3.post1)\n",
            "Requirement already satisfied: pooch>=1.0 in /usr/local/lib/python3.7/dist-packages (from librosa) (1.6.0)\n",
            "Requirement already satisfied: packaging>=20.0 in /usr/local/lib/python3.7/dist-packages (from librosa) (21.3)\n",
            "Requirement already satisfied: resampy>=0.2.2 in /usr/local/lib/python3.7/dist-packages (from librosa) (0.2.2)\n",
            "Requirement already satisfied: numba>=0.43.0 in /usr/local/lib/python3.7/dist-packages (from librosa) (0.51.2)\n",
            "Requirement already satisfied: joblib>=0.14 in /usr/local/lib/python3.7/dist-packages (from librosa) (1.1.0)\n",
            "Requirement already satisfied: setuptools in /usr/local/lib/python3.7/dist-packages (from numba>=0.43.0->librosa) (57.4.0)\n",
            "Requirement already satisfied: llvmlite<0.35,>=0.34.0.dev0 in /usr/local/lib/python3.7/dist-packages (from numba>=0.43.0->librosa) (0.34.0)\n",
            "Requirement already satisfied: pyparsing!=3.0.5,>=2.0.2 in /usr/local/lib/python3.7/dist-packages (from packaging>=20.0->librosa) (3.0.9)\n",
            "Requirement already satisfied: appdirs>=1.3.0 in /usr/local/lib/python3.7/dist-packages (from pooch>=1.0->librosa) (1.4.4)\n",
            "Requirement already satisfied: requests>=2.19.0 in /usr/local/lib/python3.7/dist-packages (from pooch>=1.0->librosa) (2.23.0)\n",
            "Requirement already satisfied: chardet<4,>=3.0.2 in /usr/local/lib/python3.7/dist-packages (from requests>=2.19.0->pooch>=1.0->librosa) (3.0.4)\n",
            "Requirement already satisfied: idna<3,>=2.5 in /usr/local/lib/python3.7/dist-packages (from requests>=2.19.0->pooch>=1.0->librosa) (2.10)\n",
            "Requirement already satisfied: urllib3!=1.25.0,!=1.25.1,<1.26,>=1.21.1 in /usr/local/lib/python3.7/dist-packages (from requests>=2.19.0->pooch>=1.0->librosa) (1.24.3)\n",
            "Requirement already satisfied: certifi>=2017.4.17 in /usr/local/lib/python3.7/dist-packages (from requests>=2.19.0->pooch>=1.0->librosa) (2022.5.18.1)\n",
            "Requirement already satisfied: six>=1.3 in /usr/local/lib/python3.7/dist-packages (from resampy>=0.2.2->librosa) (1.15.0)\n",
            "Requirement already satisfied: threadpoolctl>=2.0.0 in /usr/local/lib/python3.7/dist-packages (from scikit-learn!=0.19.0,>=0.14.0->librosa) (3.1.0)\n",
            "Requirement already satisfied: cffi>=1.0 in /usr/local/lib/python3.7/dist-packages (from soundfile>=0.10.2->librosa) (1.15.0)\n",
            "Requirement already satisfied: pycparser in /usr/local/lib/python3.7/dist-packages (from cffi>=1.0->soundfile>=0.10.2->librosa) (2.21)\n"
          ]
        }
      ]
    },
    {
      "cell_type": "code",
      "metadata": {
        "id": "HJjcbxwy46bG",
        "colab": {
          "base_uri": "https://localhost:8080/",
          "height": 17
        },
        "outputId": "3e61c061-9611-4efa-dbce-1a4b8d20f386"
      },
      "source": [
        "# Orignial Notebook: https://github.com/MITESHPUTHRANNEU/Speech-Emotion-Analyzer/blob/master/final_results_gender_test.ipynb\n",
        "# This notebook author: Reza Chu\n",
        "# Last Editing Date: 31st May 2019\n",
        "\n",
        "## Python\n",
        "import os\n",
        "import random\n",
        "import sys\n",
        "\n",
        "import IPython\n",
        "from IPython.display import Audio\n",
        "from IPython.display import Image\n",
        "import matplotlib.pyplot as plt\n",
        "\n",
        "## Package\n",
        "import glob \n",
        "import keras\n",
        "import IPython.display as ipd\n",
        "import librosa\n",
        "import librosa.display\n",
        "import matplotlib.pyplot as plt\n",
        "import numpy as np\n",
        "import pandas as pd\n",
        "import plotly.graph_objs as go\n",
        "import plotly.offline as py\n",
        "import plotly.tools as tls\n",
        "import seaborn as sns\n",
        "import scipy.io.wavfile\n",
        "import tensorflow as tf\n",
        "py.init_notebook_mode(connected=True)\n",
        "\n",
        "## Keras\n",
        "from keras import regularizers\n",
        "from keras.callbacks import ModelCheckpoint, LearningRateScheduler, EarlyStopping\n",
        "from keras.callbacks import  History, ReduceLROnPlateau, CSVLogger\n",
        "from keras.models import Model, Sequential\n",
        "from keras.layers import Dense, Embedding, LSTM\n",
        "from keras.layers import Input, Flatten, Dropout, Activation, BatchNormalization\n",
        "from keras.layers import Conv1D, MaxPooling1D, AveragePooling1D\n",
        "from keras.preprocessing import sequence\n",
        "from keras.preprocessing.sequence import pad_sequences\n",
        "from keras.preprocessing.text import Tokenizer\n",
        "from keras.utils import np_utils\n",
        "from tensorflow.keras.utils import to_categorical\n",
        "\n",
        "## Sklearn\n",
        "from sklearn.metrics import confusion_matrix\n",
        "from sklearn.preprocessing import LabelEncoder\n",
        "\n",
        "## Rest\n",
        "from scipy.fftpack import fft\n",
        "from scipy import signal\n",
        "from scipy.io import wavfile\n",
        "from tqdm import tqdm\n",
        "\n",
        "input_duration=3\n",
        "# % pylab inline"
      ],
      "execution_count": 3,
      "outputs": [
        {
          "output_type": "display_data",
          "data": {
            "text/html": [
              "        <script type=\"text/javascript\">\n",
              "        window.PlotlyConfig = {MathJaxConfig: 'local'};\n",
              "        if (window.MathJax) {MathJax.Hub.Config({SVG: {font: \"STIX-Web\"}});}\n",
              "        if (typeof require !== 'undefined') {\n",
              "        require.undef(\"plotly\");\n",
              "        requirejs.config({\n",
              "            paths: {\n",
              "                'plotly': ['https://cdn.plot.ly/plotly-2.8.3.min']\n",
              "            }\n",
              "        });\n",
              "        require(['plotly'], function(Plotly) {\n",
              "            window._Plotly = Plotly;\n",
              "        });\n",
              "        }\n",
              "        </script>\n",
              "        "
            ]
          },
          "metadata": {}
        }
      ]
    },
    {
      "cell_type": "code",
      "source": [
        "# # Saving joblib files to not load them again with the loop above\n",
        "\n",
        "# import joblib\n",
        "\n",
        "# X_name = 'x.joblib'\n",
        "# y_name = 'y.joblib'\n",
        "# save_dir = '/content/drive/My Drive/graduation project/audio/paper_code/features'\n",
        "\n",
        "# savedX = joblib.dump(X, os.path.join(save_dir, X_name))\n",
        "# savedy = joblib.dump(y, os.path.join(save_dir, y_name))"
      ],
      "metadata": {
        "id": "UCzic8rlDcuk"
      },
      "execution_count": 4,
      "outputs": []
    },
    {
      "cell_type": "code",
      "source": [
        "# # Loading saved models\n",
        "import joblib\n",
        "X = joblib.load('/content/drive/My Drive/graduation project/audio/paper_code/features/x.joblib')\n",
        "y = joblib.load('/content/drive/My Drive/graduation project/audio/paper_code/features/y.joblib')"
      ],
      "metadata": {
        "id": "Q35CN6zDrzg1"
      },
      "execution_count": 5,
      "outputs": []
    },
    {
      "cell_type": "code",
      "source": [
        "X.shape"
      ],
      "metadata": {
        "id": "7PSTurzjCo5K",
        "colab": {
          "base_uri": "https://localhost:8080/"
        },
        "outputId": "39668d9d-b25a-4b5e-e1ee-18652b19f104"
      },
      "execution_count": 6,
      "outputs": [
        {
          "output_type": "execute_result",
          "data": {
            "text/plain": [
              "(2068, 40)"
            ]
          },
          "metadata": {},
          "execution_count": 6
        }
      ]
    },
    {
      "cell_type": "code",
      "source": [
        "from sklearn.model_selection import train_test_split\n",
        "\n",
        "X_train, X_test, y_train, y_test = train_test_split(X,y, test_size=0.1 ,shuffle = True\n",
        "                                                    , random_state=42)\n",
        "X_train , X_valid, y_train, y_valid = train_test_split(X_train,y_train, test_size=0.1112305212 , shuffle = True \n",
        "                                                       , random_state=42)"
      ],
      "metadata": {
        "id": "Ai4Fy5cPCiq1"
      },
      "execution_count": 7,
      "outputs": []
    },
    {
      "cell_type": "code",
      "source": [
        "import numpy as np\n",
        "x_traincnn = np.expand_dims(X_train, axis=2)\n",
        "x_testcnn = np.expand_dims(X_test, axis=2)\n",
        "X_valid= np.expand_dims(X_valid, axis=2)"
      ],
      "metadata": {
        "id": "tp1Fm5K3CEXu"
      },
      "execution_count": 8,
      "outputs": []
    },
    {
      "cell_type": "code",
      "source": [
        "x_traincnn.shape, x_testcnn.shape , X_valid.shape\n",
        "#1861"
      ],
      "metadata": {
        "id": "RI0MxoIPBws5",
        "colab": {
          "base_uri": "https://localhost:8080/"
        },
        "outputId": "27e9108f-abaa-4766-e51b-3fea7eaf24cf"
      },
      "execution_count": 9,
      "outputs": [
        {
          "output_type": "execute_result",
          "data": {
            "text/plain": [
              "((1654, 40, 1), (207, 40, 1), (207, 40, 1))"
            ]
          },
          "metadata": {},
          "execution_count": 9
        }
      ]
    },
    {
      "cell_type": "code",
      "source": [
        "!pip install tensorflow"
      ],
      "metadata": {
        "id": "oALhiMUd9G2Y",
        "colab": {
          "base_uri": "https://localhost:8080/"
        },
        "outputId": "d65d891e-16af-4f63-c1f5-43c80528c15c"
      },
      "execution_count": 10,
      "outputs": [
        {
          "output_type": "stream",
          "name": "stdout",
          "text": [
            "Looking in indexes: https://pypi.org/simple, https://us-python.pkg.dev/colab-wheels/public/simple/\n",
            "Requirement already satisfied: tensorflow in /usr/local/lib/python3.7/dist-packages (2.8.2+zzzcolab20220527125636)\n",
            "Requirement already satisfied: tensorflow-io-gcs-filesystem>=0.23.1 in /usr/local/lib/python3.7/dist-packages (from tensorflow) (0.26.0)\n",
            "Requirement already satisfied: astunparse>=1.6.0 in /usr/local/lib/python3.7/dist-packages (from tensorflow) (1.6.3)\n",
            "Requirement already satisfied: six>=1.12.0 in /usr/local/lib/python3.7/dist-packages (from tensorflow) (1.15.0)\n",
            "Requirement already satisfied: termcolor>=1.1.0 in /usr/local/lib/python3.7/dist-packages (from tensorflow) (1.1.0)\n",
            "Requirement already satisfied: gast>=0.2.1 in /usr/local/lib/python3.7/dist-packages (from tensorflow) (0.5.3)\n",
            "Requirement already satisfied: google-pasta>=0.1.1 in /usr/local/lib/python3.7/dist-packages (from tensorflow) (0.2.0)\n",
            "Requirement already satisfied: opt-einsum>=2.3.2 in /usr/local/lib/python3.7/dist-packages (from tensorflow) (3.3.0)\n",
            "Requirement already satisfied: typing-extensions>=3.6.6 in /usr/local/lib/python3.7/dist-packages (from tensorflow) (4.2.0)\n",
            "Requirement already satisfied: wrapt>=1.11.0 in /usr/local/lib/python3.7/dist-packages (from tensorflow) (1.14.1)\n",
            "Requirement already satisfied: protobuf<3.20,>=3.9.2 in /usr/local/lib/python3.7/dist-packages (from tensorflow) (3.17.3)\n",
            "Requirement already satisfied: flatbuffers>=1.12 in /usr/local/lib/python3.7/dist-packages (from tensorflow) (2.0)\n",
            "Requirement already satisfied: keras-preprocessing>=1.1.1 in /usr/local/lib/python3.7/dist-packages (from tensorflow) (1.1.2)\n",
            "Requirement already satisfied: absl-py>=0.4.0 in /usr/local/lib/python3.7/dist-packages (from tensorflow) (1.0.0)\n",
            "Requirement already satisfied: tensorboard<2.9,>=2.8 in /usr/local/lib/python3.7/dist-packages (from tensorflow) (2.8.0)\n",
            "Requirement already satisfied: tensorflow-estimator<2.9,>=2.8 in /usr/local/lib/python3.7/dist-packages (from tensorflow) (2.8.0)\n",
            "Requirement already satisfied: grpcio<2.0,>=1.24.3 in /usr/local/lib/python3.7/dist-packages (from tensorflow) (1.46.3)\n",
            "Requirement already satisfied: numpy>=1.20 in /usr/local/lib/python3.7/dist-packages (from tensorflow) (1.21.6)\n",
            "Requirement already satisfied: h5py>=2.9.0 in /usr/local/lib/python3.7/dist-packages (from tensorflow) (3.1.0)\n",
            "Requirement already satisfied: setuptools in /usr/local/lib/python3.7/dist-packages (from tensorflow) (57.4.0)\n",
            "Requirement already satisfied: libclang>=9.0.1 in /usr/local/lib/python3.7/dist-packages (from tensorflow) (14.0.1)\n",
            "Requirement already satisfied: keras<2.9,>=2.8.0rc0 in /usr/local/lib/python3.7/dist-packages (from tensorflow) (2.8.0)\n",
            "Requirement already satisfied: wheel<1.0,>=0.23.0 in /usr/local/lib/python3.7/dist-packages (from astunparse>=1.6.0->tensorflow) (0.37.1)\n",
            "Requirement already satisfied: cached-property in /usr/local/lib/python3.7/dist-packages (from h5py>=2.9.0->tensorflow) (1.5.2)\n",
            "Requirement already satisfied: markdown>=2.6.8 in /usr/local/lib/python3.7/dist-packages (from tensorboard<2.9,>=2.8->tensorflow) (3.3.7)\n",
            "Requirement already satisfied: tensorboard-data-server<0.7.0,>=0.6.0 in /usr/local/lib/python3.7/dist-packages (from tensorboard<2.9,>=2.8->tensorflow) (0.6.1)\n",
            "Requirement already satisfied: tensorboard-plugin-wit>=1.6.0 in /usr/local/lib/python3.7/dist-packages (from tensorboard<2.9,>=2.8->tensorflow) (1.8.1)\n",
            "Requirement already satisfied: werkzeug>=0.11.15 in /usr/local/lib/python3.7/dist-packages (from tensorboard<2.9,>=2.8->tensorflow) (1.0.1)\n",
            "Requirement already satisfied: requests<3,>=2.21.0 in /usr/local/lib/python3.7/dist-packages (from tensorboard<2.9,>=2.8->tensorflow) (2.23.0)\n",
            "Requirement already satisfied: google-auth-oauthlib<0.5,>=0.4.1 in /usr/local/lib/python3.7/dist-packages (from tensorboard<2.9,>=2.8->tensorflow) (0.4.6)\n",
            "Requirement already satisfied: google-auth<3,>=1.6.3 in /usr/local/lib/python3.7/dist-packages (from tensorboard<2.9,>=2.8->tensorflow) (1.35.0)\n",
            "Requirement already satisfied: rsa<5,>=3.1.4 in /usr/local/lib/python3.7/dist-packages (from google-auth<3,>=1.6.3->tensorboard<2.9,>=2.8->tensorflow) (4.8)\n",
            "Requirement already satisfied: cachetools<5.0,>=2.0.0 in /usr/local/lib/python3.7/dist-packages (from google-auth<3,>=1.6.3->tensorboard<2.9,>=2.8->tensorflow) (4.2.4)\n",
            "Requirement already satisfied: pyasn1-modules>=0.2.1 in /usr/local/lib/python3.7/dist-packages (from google-auth<3,>=1.6.3->tensorboard<2.9,>=2.8->tensorflow) (0.2.8)\n",
            "Requirement already satisfied: requests-oauthlib>=0.7.0 in /usr/local/lib/python3.7/dist-packages (from google-auth-oauthlib<0.5,>=0.4.1->tensorboard<2.9,>=2.8->tensorflow) (1.3.1)\n",
            "Requirement already satisfied: importlib-metadata>=4.4 in /usr/local/lib/python3.7/dist-packages (from markdown>=2.6.8->tensorboard<2.9,>=2.8->tensorflow) (4.11.4)\n",
            "Requirement already satisfied: zipp>=0.5 in /usr/local/lib/python3.7/dist-packages (from importlib-metadata>=4.4->markdown>=2.6.8->tensorboard<2.9,>=2.8->tensorflow) (3.8.0)\n",
            "Requirement already satisfied: pyasn1<0.5.0,>=0.4.6 in /usr/local/lib/python3.7/dist-packages (from pyasn1-modules>=0.2.1->google-auth<3,>=1.6.3->tensorboard<2.9,>=2.8->tensorflow) (0.4.8)\n",
            "Requirement already satisfied: chardet<4,>=3.0.2 in /usr/local/lib/python3.7/dist-packages (from requests<3,>=2.21.0->tensorboard<2.9,>=2.8->tensorflow) (3.0.4)\n",
            "Requirement already satisfied: certifi>=2017.4.17 in /usr/local/lib/python3.7/dist-packages (from requests<3,>=2.21.0->tensorboard<2.9,>=2.8->tensorflow) (2022.5.18.1)\n",
            "Requirement already satisfied: idna<3,>=2.5 in /usr/local/lib/python3.7/dist-packages (from requests<3,>=2.21.0->tensorboard<2.9,>=2.8->tensorflow) (2.10)\n",
            "Requirement already satisfied: urllib3!=1.25.0,!=1.25.1,<1.26,>=1.21.1 in /usr/local/lib/python3.7/dist-packages (from requests<3,>=2.21.0->tensorboard<2.9,>=2.8->tensorflow) (1.24.3)\n",
            "Requirement already satisfied: oauthlib>=3.0.0 in /usr/local/lib/python3.7/dist-packages (from requests-oauthlib>=0.7.0->google-auth-oauthlib<0.5,>=0.4.1->tensorboard<2.9,>=2.8->tensorflow) (3.2.0)\n"
          ]
        }
      ]
    },
    {
      "cell_type": "code",
      "source": [
        "import keras\n",
        "import numpy as np\n",
        "import matplotlib.pyplot as plt\n",
        "import tensorflow as tf\n",
        "from keras.preprocessing import sequence\n",
        "from keras.models import Sequential\n",
        "from keras.layers import Dense, Embedding\n",
        "from tensorflow.keras.utils import to_categorical\n",
        "from keras.layers import Input, Flatten, Dropout, Activation\n",
        "from keras.layers import Conv1D, MaxPooling1D\n",
        "from keras.models import Model\n",
        "from keras.callbacks import ModelCheckpoint\n",
        "from tensorflow.keras import optimizers\n",
        "\n",
        "model = Sequential()\n",
        "\n",
        "model.add(Conv1D(128, 12,padding='same', #classifier.add(Convolution2D(64, (3, 3), padding = 'same', input_shape = (128, 128, 3), activation = 'relu'))\n",
        "                 input_shape=(40,1)))\n",
        "model.add(Activation('relu'))\n",
        "model.add(Dropout(0.3))\n",
        "model.add(MaxPooling1D(pool_size=(5)))\n",
        "\n",
        "\n",
        "model.add(Conv1D(256,12,padding='same',))\n",
        "model.add(Activation('relu'))\n",
        "model.add(Dropout(0.3))\n",
        "model.add(MaxPooling1D(pool_size=(5)))\n",
        "\n",
        "#model.add(MaxPooling1D(pool_size=(5)))\n",
        "\n",
        "model.add(Flatten())\n",
        "\n",
        "\n",
        "\n",
        "model.add(Dense(6))\n",
        "model.add(Activation('softmax'))\n",
        "\n",
        "\n",
        "opt = tf.keras.optimizers.RMSprop(lr=0.0002 , decay=0.0)\n",
        "#opt = tf.keras.optimizers.Adam(lr=0.0002 , decay=0.0)\n",
        "#opt = tf.keras.optimizers.RMSprop(lr=0.0001, rho=0.9, epsilon=1e-07, decay=0.0)\n",
        "#opt = tf.keras.optimizers.SGD(lr=0.001, momentum=0.0, decay=0.0, nesterov=False)"
      ],
      "metadata": {
        "id": "g74fXWVAC4Cr",
        "colab": {
          "base_uri": "https://localhost:8080/"
        },
        "outputId": "f54e2cce-a7e7-4ff5-8bb0-1e58a8f2a36b"
      },
      "execution_count": 11,
      "outputs": [
        {
          "output_type": "stream",
          "name": "stderr",
          "text": [
            "/usr/local/lib/python3.7/dist-packages/keras/optimizer_v2/rmsprop.py:130: UserWarning:\n",
            "\n",
            "The `lr` argument is deprecated, use `learning_rate` instead.\n",
            "\n"
          ]
        }
      ]
    },
    {
      "cell_type": "code",
      "source": [
        "model.summary()"
      ],
      "metadata": {
        "id": "H6ukOxAGC_I4",
        "colab": {
          "base_uri": "https://localhost:8080/"
        },
        "outputId": "ef2e212f-619a-4bea-b59b-17aac3eda1f3"
      },
      "execution_count": 12,
      "outputs": [
        {
          "output_type": "stream",
          "name": "stdout",
          "text": [
            "Model: \"sequential\"\n",
            "_________________________________________________________________\n",
            " Layer (type)                Output Shape              Param #   \n",
            "=================================================================\n",
            " conv1d (Conv1D)             (None, 40, 128)           1664      \n",
            "                                                                 \n",
            " activation (Activation)     (None, 40, 128)           0         \n",
            "                                                                 \n",
            " dropout (Dropout)           (None, 40, 128)           0         \n",
            "                                                                 \n",
            " max_pooling1d (MaxPooling1D  (None, 8, 128)           0         \n",
            " )                                                               \n",
            "                                                                 \n",
            " conv1d_1 (Conv1D)           (None, 8, 256)            393472    \n",
            "                                                                 \n",
            " activation_1 (Activation)   (None, 8, 256)            0         \n",
            "                                                                 \n",
            " dropout_1 (Dropout)         (None, 8, 256)            0         \n",
            "                                                                 \n",
            " max_pooling1d_1 (MaxPooling  (None, 1, 256)           0         \n",
            " 1D)                                                             \n",
            "                                                                 \n",
            " flatten (Flatten)           (None, 256)               0         \n",
            "                                                                 \n",
            " dense (Dense)               (None, 6)                 1542      \n",
            "                                                                 \n",
            " activation_2 (Activation)   (None, 6)                 0         \n",
            "                                                                 \n",
            "=================================================================\n",
            "Total params: 396,678\n",
            "Trainable params: 396,678\n",
            "Non-trainable params: 0\n",
            "_________________________________________________________________\n"
          ]
        }
      ]
    },
    {
      "cell_type": "code",
      "source": [
        "model.compile(loss='sparse_categorical_crossentropy',\n",
        "              optimizer=opt,\n",
        "              metrics=['accuracy'])"
      ],
      "metadata": {
        "id": "AbMlLNk4DCBM"
      },
      "execution_count": 13,
      "outputs": []
    },
    {
      "cell_type": "code",
      "source": [
        "# Create an Instance of Early Stopping Callback.\n",
        "early_stopping_callback = EarlyStopping(monitor = 'val_loss', patience = 25, mode = 'min', restore_best_weights = True)\n",
        "\n",
        "cnnhistory=model.fit(x_traincnn, y_train, batch_size=16, epochs=500 , shuffle = True, \n",
        "                     validation_data=(X_valid, y_valid) , callbacks = [early_stopping_callback])"
      ],
      "metadata": {
        "id": "RI1v2AuADFhy",
        "colab": {
          "base_uri": "https://localhost:8080/"
        },
        "outputId": "2743ac2f-92b8-4092-b6b1-37cb56dfb2b6"
      },
      "execution_count": 14,
      "outputs": [
        {
          "output_type": "stream",
          "name": "stdout",
          "text": [
            "Epoch 1/500\n",
            "104/104 [==============================] - 4s 35ms/step - loss: 11.4833 - accuracy: 0.1892 - val_loss: 6.3141 - val_accuracy: 0.1884\n",
            "Epoch 2/500\n",
            "104/104 [==============================] - 3s 33ms/step - loss: 8.4053 - accuracy: 0.2037 - val_loss: 7.5066 - val_accuracy: 0.1449\n",
            "Epoch 3/500\n",
            "104/104 [==============================] - 5s 47ms/step - loss: 6.5497 - accuracy: 0.2201 - val_loss: 3.6413 - val_accuracy: 0.2077\n",
            "Epoch 4/500\n",
            "104/104 [==============================] - 6s 54ms/step - loss: 5.4954 - accuracy: 0.2195 - val_loss: 5.6962 - val_accuracy: 0.1932\n",
            "Epoch 5/500\n",
            "104/104 [==============================] - 6s 54ms/step - loss: 4.7738 - accuracy: 0.2418 - val_loss: 3.0536 - val_accuracy: 0.1884\n",
            "Epoch 6/500\n",
            "104/104 [==============================] - 6s 56ms/step - loss: 3.9811 - accuracy: 0.2739 - val_loss: 1.8067 - val_accuracy: 0.3527\n",
            "Epoch 7/500\n",
            "104/104 [==============================] - 6s 56ms/step - loss: 3.6928 - accuracy: 0.2570 - val_loss: 1.8105 - val_accuracy: 0.2947\n",
            "Epoch 8/500\n",
            "104/104 [==============================] - 5s 51ms/step - loss: 3.1598 - accuracy: 0.2757 - val_loss: 2.9875 - val_accuracy: 0.1787\n",
            "Epoch 9/500\n",
            "104/104 [==============================] - 5s 50ms/step - loss: 2.8232 - accuracy: 0.3053 - val_loss: 2.0695 - val_accuracy: 0.3333\n",
            "Epoch 10/500\n",
            "104/104 [==============================] - 3s 31ms/step - loss: 2.6414 - accuracy: 0.3023 - val_loss: 1.9031 - val_accuracy: 0.2995\n",
            "Epoch 11/500\n",
            "104/104 [==============================] - 3s 30ms/step - loss: 2.3736 - accuracy: 0.3247 - val_loss: 1.9047 - val_accuracy: 0.2512\n",
            "Epoch 12/500\n",
            "104/104 [==============================] - 3s 30ms/step - loss: 2.3073 - accuracy: 0.3138 - val_loss: 1.3920 - val_accuracy: 0.4444\n",
            "Epoch 13/500\n",
            "104/104 [==============================] - 3s 30ms/step - loss: 2.0996 - accuracy: 0.3482 - val_loss: 1.3952 - val_accuracy: 0.4541\n",
            "Epoch 14/500\n",
            "104/104 [==============================] - 3s 30ms/step - loss: 1.9899 - accuracy: 0.3857 - val_loss: 1.6440 - val_accuracy: 0.4251\n",
            "Epoch 15/500\n",
            "104/104 [==============================] - 3s 30ms/step - loss: 1.9256 - accuracy: 0.3906 - val_loss: 1.5766 - val_accuracy: 0.4058\n",
            "Epoch 16/500\n",
            "104/104 [==============================] - 3s 29ms/step - loss: 1.7307 - accuracy: 0.4220 - val_loss: 1.3014 - val_accuracy: 0.4831\n",
            "Epoch 17/500\n",
            "104/104 [==============================] - 3s 29ms/step - loss: 1.6971 - accuracy: 0.4087 - val_loss: 1.2364 - val_accuracy: 0.5507\n",
            "Epoch 18/500\n",
            "104/104 [==============================] - 3s 30ms/step - loss: 1.6079 - accuracy: 0.4383 - val_loss: 1.4831 - val_accuracy: 0.3768\n",
            "Epoch 19/500\n",
            "104/104 [==============================] - 3s 31ms/step - loss: 1.5479 - accuracy: 0.4571 - val_loss: 1.1678 - val_accuracy: 0.5266\n",
            "Epoch 20/500\n",
            "104/104 [==============================] - 3s 30ms/step - loss: 1.4554 - accuracy: 0.4637 - val_loss: 1.2948 - val_accuracy: 0.4976\n",
            "Epoch 21/500\n",
            "104/104 [==============================] - 3s 29ms/step - loss: 1.4150 - accuracy: 0.4885 - val_loss: 1.2678 - val_accuracy: 0.4928\n",
            "Epoch 22/500\n",
            "104/104 [==============================] - 3s 31ms/step - loss: 1.3780 - accuracy: 0.4813 - val_loss: 1.4828 - val_accuracy: 0.4010\n",
            "Epoch 23/500\n",
            "104/104 [==============================] - 3s 29ms/step - loss: 1.3328 - accuracy: 0.4994 - val_loss: 1.2847 - val_accuracy: 0.4879\n",
            "Epoch 24/500\n",
            "104/104 [==============================] - 3s 30ms/step - loss: 1.2694 - accuracy: 0.5109 - val_loss: 1.1309 - val_accuracy: 0.5507\n",
            "Epoch 25/500\n",
            "104/104 [==============================] - 3s 29ms/step - loss: 1.2504 - accuracy: 0.5381 - val_loss: 1.2733 - val_accuracy: 0.4976\n",
            "Epoch 26/500\n",
            "104/104 [==============================] - 3s 29ms/step - loss: 1.2175 - accuracy: 0.5260 - val_loss: 1.2165 - val_accuracy: 0.4879\n",
            "Epoch 27/500\n",
            "104/104 [==============================] - 3s 30ms/step - loss: 1.1823 - accuracy: 0.5526 - val_loss: 1.1070 - val_accuracy: 0.5652\n",
            "Epoch 28/500\n",
            "104/104 [==============================] - 3s 31ms/step - loss: 1.1357 - accuracy: 0.5665 - val_loss: 1.0922 - val_accuracy: 0.5894\n",
            "Epoch 29/500\n",
            "104/104 [==============================] - 3s 30ms/step - loss: 1.1228 - accuracy: 0.5701 - val_loss: 1.0445 - val_accuracy: 0.5749\n",
            "Epoch 30/500\n",
            "104/104 [==============================] - 3s 30ms/step - loss: 1.0940 - accuracy: 0.5828 - val_loss: 0.9978 - val_accuracy: 0.6377\n",
            "Epoch 31/500\n",
            "104/104 [==============================] - 3s 31ms/step - loss: 1.0908 - accuracy: 0.5732 - val_loss: 1.0341 - val_accuracy: 0.6087\n",
            "Epoch 32/500\n",
            "104/104 [==============================] - 3s 30ms/step - loss: 1.0564 - accuracy: 0.5913 - val_loss: 1.0621 - val_accuracy: 0.6135\n",
            "Epoch 33/500\n",
            "104/104 [==============================] - 5s 46ms/step - loss: 1.0108 - accuracy: 0.6173 - val_loss: 1.2806 - val_accuracy: 0.4251\n",
            "Epoch 34/500\n",
            "104/104 [==============================] - 4s 38ms/step - loss: 1.0255 - accuracy: 0.6070 - val_loss: 0.9344 - val_accuracy: 0.6473\n",
            "Epoch 35/500\n",
            "104/104 [==============================] - 3s 30ms/step - loss: 0.9918 - accuracy: 0.6137 - val_loss: 1.0801 - val_accuracy: 0.5845\n",
            "Epoch 36/500\n",
            "104/104 [==============================] - 3s 30ms/step - loss: 0.9924 - accuracy: 0.6137 - val_loss: 0.9598 - val_accuracy: 0.6522\n",
            "Epoch 37/500\n",
            "104/104 [==============================] - 3s 32ms/step - loss: 0.9528 - accuracy: 0.6421 - val_loss: 0.9963 - val_accuracy: 0.6135\n",
            "Epoch 38/500\n",
            "104/104 [==============================] - 3s 30ms/step - loss: 0.9485 - accuracy: 0.6306 - val_loss: 0.9737 - val_accuracy: 0.6135\n",
            "Epoch 39/500\n",
            "104/104 [==============================] - 3s 31ms/step - loss: 0.9264 - accuracy: 0.6499 - val_loss: 0.9279 - val_accuracy: 0.6570\n",
            "Epoch 40/500\n",
            "104/104 [==============================] - 3s 30ms/step - loss: 0.9417 - accuracy: 0.6288 - val_loss: 0.8658 - val_accuracy: 0.7295\n",
            "Epoch 41/500\n",
            "104/104 [==============================] - 3s 31ms/step - loss: 0.9213 - accuracy: 0.6439 - val_loss: 0.9617 - val_accuracy: 0.6232\n",
            "Epoch 42/500\n",
            "104/104 [==============================] - 3s 31ms/step - loss: 0.8956 - accuracy: 0.6511 - val_loss: 0.9467 - val_accuracy: 0.6280\n",
            "Epoch 43/500\n",
            "104/104 [==============================] - 3s 31ms/step - loss: 0.8746 - accuracy: 0.6572 - val_loss: 0.8568 - val_accuracy: 0.6957\n",
            "Epoch 44/500\n",
            "104/104 [==============================] - 3s 30ms/step - loss: 0.8716 - accuracy: 0.6596 - val_loss: 0.8685 - val_accuracy: 0.6860\n",
            "Epoch 45/500\n",
            "104/104 [==============================] - 3s 30ms/step - loss: 0.8547 - accuracy: 0.6651 - val_loss: 0.9069 - val_accuracy: 0.6763\n",
            "Epoch 46/500\n",
            "104/104 [==============================] - 3s 31ms/step - loss: 0.8607 - accuracy: 0.6784 - val_loss: 0.8257 - val_accuracy: 0.7101\n",
            "Epoch 47/500\n",
            "104/104 [==============================] - 3s 31ms/step - loss: 0.8286 - accuracy: 0.6862 - val_loss: 0.7928 - val_accuracy: 0.6957\n",
            "Epoch 48/500\n",
            "104/104 [==============================] - 3s 31ms/step - loss: 0.8140 - accuracy: 0.6820 - val_loss: 0.8902 - val_accuracy: 0.6618\n",
            "Epoch 49/500\n",
            "104/104 [==============================] - 3s 30ms/step - loss: 0.8090 - accuracy: 0.6784 - val_loss: 0.8337 - val_accuracy: 0.6812\n",
            "Epoch 50/500\n",
            "104/104 [==============================] - 3s 31ms/step - loss: 0.7933 - accuracy: 0.6904 - val_loss: 0.8564 - val_accuracy: 0.6812\n",
            "Epoch 51/500\n",
            "104/104 [==============================] - 3s 30ms/step - loss: 0.7846 - accuracy: 0.7080 - val_loss: 0.7818 - val_accuracy: 0.7295\n",
            "Epoch 52/500\n",
            "104/104 [==============================] - 3s 31ms/step - loss: 0.7855 - accuracy: 0.6911 - val_loss: 0.7958 - val_accuracy: 0.6957\n",
            "Epoch 53/500\n",
            "104/104 [==============================] - 3s 31ms/step - loss: 0.7757 - accuracy: 0.7104 - val_loss: 0.8161 - val_accuracy: 0.6812\n",
            "Epoch 54/500\n",
            "104/104 [==============================] - 3s 31ms/step - loss: 0.7468 - accuracy: 0.7019 - val_loss: 0.7982 - val_accuracy: 0.7005\n",
            "Epoch 55/500\n",
            "104/104 [==============================] - 3s 30ms/step - loss: 0.7542 - accuracy: 0.7050 - val_loss: 0.8666 - val_accuracy: 0.6715\n",
            "Epoch 56/500\n",
            "104/104 [==============================] - 3s 31ms/step - loss: 0.7368 - accuracy: 0.7062 - val_loss: 0.8052 - val_accuracy: 0.7246\n",
            "Epoch 57/500\n",
            "104/104 [==============================] - 3s 30ms/step - loss: 0.7327 - accuracy: 0.7201 - val_loss: 0.8508 - val_accuracy: 0.6232\n",
            "Epoch 58/500\n",
            "104/104 [==============================] - 3s 30ms/step - loss: 0.7384 - accuracy: 0.7122 - val_loss: 0.8440 - val_accuracy: 0.6763\n",
            "Epoch 59/500\n",
            "104/104 [==============================] - 3s 31ms/step - loss: 0.7259 - accuracy: 0.7219 - val_loss: 0.7123 - val_accuracy: 0.7633\n",
            "Epoch 60/500\n",
            "104/104 [==============================] - 3s 31ms/step - loss: 0.7366 - accuracy: 0.7134 - val_loss: 0.7554 - val_accuracy: 0.7053\n",
            "Epoch 61/500\n",
            "104/104 [==============================] - 3s 31ms/step - loss: 0.7046 - accuracy: 0.7297 - val_loss: 0.8473 - val_accuracy: 0.6715\n",
            "Epoch 62/500\n",
            "104/104 [==============================] - 3s 30ms/step - loss: 0.6972 - accuracy: 0.7273 - val_loss: 0.8708 - val_accuracy: 0.6618\n",
            "Epoch 63/500\n",
            "104/104 [==============================] - 3s 31ms/step - loss: 0.7181 - accuracy: 0.7322 - val_loss: 0.7531 - val_accuracy: 0.7295\n",
            "Epoch 64/500\n",
            "104/104 [==============================] - 3s 30ms/step - loss: 0.6732 - accuracy: 0.7557 - val_loss: 0.7620 - val_accuracy: 0.7295\n",
            "Epoch 65/500\n",
            "104/104 [==============================] - 3s 30ms/step - loss: 0.6711 - accuracy: 0.7352 - val_loss: 0.7930 - val_accuracy: 0.6570\n",
            "Epoch 66/500\n",
            "104/104 [==============================] - 3s 30ms/step - loss: 0.6502 - accuracy: 0.7576 - val_loss: 0.7611 - val_accuracy: 0.7005\n",
            "Epoch 67/500\n",
            "104/104 [==============================] - 3s 31ms/step - loss: 0.6559 - accuracy: 0.7497 - val_loss: 0.8064 - val_accuracy: 0.6763\n",
            "Epoch 68/500\n",
            "104/104 [==============================] - 3s 30ms/step - loss: 0.6511 - accuracy: 0.7394 - val_loss: 0.7749 - val_accuracy: 0.6957\n",
            "Epoch 69/500\n",
            "104/104 [==============================] - 3s 31ms/step - loss: 0.6492 - accuracy: 0.7437 - val_loss: 0.6717 - val_accuracy: 0.7923\n",
            "Epoch 70/500\n",
            "104/104 [==============================] - 3s 31ms/step - loss: 0.6246 - accuracy: 0.7636 - val_loss: 0.7964 - val_accuracy: 0.7005\n",
            "Epoch 71/500\n",
            "104/104 [==============================] - 3s 32ms/step - loss: 0.6391 - accuracy: 0.7424 - val_loss: 0.7737 - val_accuracy: 0.7005\n",
            "Epoch 72/500\n",
            "104/104 [==============================] - 3s 31ms/step - loss: 0.6153 - accuracy: 0.7588 - val_loss: 0.6989 - val_accuracy: 0.7633\n",
            "Epoch 73/500\n",
            "104/104 [==============================] - 3s 30ms/step - loss: 0.6212 - accuracy: 0.7612 - val_loss: 0.8564 - val_accuracy: 0.6377\n",
            "Epoch 74/500\n",
            "104/104 [==============================] - 3s 31ms/step - loss: 0.6090 - accuracy: 0.7618 - val_loss: 0.8523 - val_accuracy: 0.6570\n",
            "Epoch 75/500\n",
            "104/104 [==============================] - 3s 31ms/step - loss: 0.6018 - accuracy: 0.7570 - val_loss: 0.8762 - val_accuracy: 0.6667\n",
            "Epoch 76/500\n",
            "104/104 [==============================] - 3s 30ms/step - loss: 0.6048 - accuracy: 0.7757 - val_loss: 0.6969 - val_accuracy: 0.7391\n",
            "Epoch 77/500\n",
            "104/104 [==============================] - 3s 30ms/step - loss: 0.5912 - accuracy: 0.7672 - val_loss: 0.7114 - val_accuracy: 0.7440\n",
            "Epoch 78/500\n",
            "104/104 [==============================] - 3s 30ms/step - loss: 0.5985 - accuracy: 0.7721 - val_loss: 0.6769 - val_accuracy: 0.7778\n",
            "Epoch 79/500\n",
            "104/104 [==============================] - 3s 31ms/step - loss: 0.6049 - accuracy: 0.7678 - val_loss: 0.6679 - val_accuracy: 0.7729\n",
            "Epoch 80/500\n",
            "104/104 [==============================] - 3s 30ms/step - loss: 0.5710 - accuracy: 0.7830 - val_loss: 0.7706 - val_accuracy: 0.7198\n",
            "Epoch 81/500\n",
            "104/104 [==============================] - 3s 31ms/step - loss: 0.5507 - accuracy: 0.7950 - val_loss: 0.7244 - val_accuracy: 0.7488\n",
            "Epoch 82/500\n",
            "104/104 [==============================] - 3s 30ms/step - loss: 0.5567 - accuracy: 0.7769 - val_loss: 0.7079 - val_accuracy: 0.7198\n",
            "Epoch 83/500\n",
            "104/104 [==============================] - 3s 31ms/step - loss: 0.5491 - accuracy: 0.7866 - val_loss: 0.6720 - val_accuracy: 0.7440\n",
            "Epoch 84/500\n",
            "104/104 [==============================] - 3s 32ms/step - loss: 0.5348 - accuracy: 0.8041 - val_loss: 0.8161 - val_accuracy: 0.6957\n",
            "Epoch 85/500\n",
            "104/104 [==============================] - 3s 31ms/step - loss: 0.5362 - accuracy: 0.7896 - val_loss: 0.8305 - val_accuracy: 0.6667\n",
            "Epoch 86/500\n",
            "104/104 [==============================] - 3s 30ms/step - loss: 0.5471 - accuracy: 0.7848 - val_loss: 0.6409 - val_accuracy: 0.7729\n",
            "Epoch 87/500\n",
            "104/104 [==============================] - 3s 30ms/step - loss: 0.5492 - accuracy: 0.7932 - val_loss: 0.7071 - val_accuracy: 0.7150\n",
            "Epoch 88/500\n",
            "104/104 [==============================] - 3s 30ms/step - loss: 0.5433 - accuracy: 0.7848 - val_loss: 0.6568 - val_accuracy: 0.7536\n",
            "Epoch 89/500\n",
            "104/104 [==============================] - 3s 30ms/step - loss: 0.5163 - accuracy: 0.8059 - val_loss: 0.7006 - val_accuracy: 0.7246\n",
            "Epoch 90/500\n",
            "104/104 [==============================] - 3s 31ms/step - loss: 0.5173 - accuracy: 0.8108 - val_loss: 0.6564 - val_accuracy: 0.7536\n",
            "Epoch 91/500\n",
            "104/104 [==============================] - 3s 30ms/step - loss: 0.5074 - accuracy: 0.8077 - val_loss: 0.6629 - val_accuracy: 0.7633\n",
            "Epoch 92/500\n",
            "104/104 [==============================] - 3s 30ms/step - loss: 0.4872 - accuracy: 0.8216 - val_loss: 0.7104 - val_accuracy: 0.7101\n",
            "Epoch 93/500\n",
            "104/104 [==============================] - 3s 30ms/step - loss: 0.4910 - accuracy: 0.8168 - val_loss: 0.6824 - val_accuracy: 0.7391\n",
            "Epoch 94/500\n",
            "104/104 [==============================] - 3s 30ms/step - loss: 0.4899 - accuracy: 0.8222 - val_loss: 0.6602 - val_accuracy: 0.7488\n",
            "Epoch 95/500\n",
            "104/104 [==============================] - 3s 30ms/step - loss: 0.5025 - accuracy: 0.8065 - val_loss: 0.6190 - val_accuracy: 0.7681\n",
            "Epoch 96/500\n",
            "104/104 [==============================] - 3s 31ms/step - loss: 0.4741 - accuracy: 0.8247 - val_loss: 0.6322 - val_accuracy: 0.7778\n",
            "Epoch 97/500\n",
            "104/104 [==============================] - 3s 30ms/step - loss: 0.4735 - accuracy: 0.8222 - val_loss: 0.5956 - val_accuracy: 0.7874\n",
            "Epoch 98/500\n",
            "104/104 [==============================] - 3s 30ms/step - loss: 0.4725 - accuracy: 0.8108 - val_loss: 0.6203 - val_accuracy: 0.7729\n",
            "Epoch 99/500\n",
            "104/104 [==============================] - 3s 29ms/step - loss: 0.4573 - accuracy: 0.8307 - val_loss: 0.9217 - val_accuracy: 0.6377\n",
            "Epoch 100/500\n",
            "104/104 [==============================] - 3s 31ms/step - loss: 0.4688 - accuracy: 0.8265 - val_loss: 0.6277 - val_accuracy: 0.7440\n",
            "Epoch 101/500\n",
            "104/104 [==============================] - 3s 30ms/step - loss: 0.4410 - accuracy: 0.8307 - val_loss: 0.7521 - val_accuracy: 0.7005\n",
            "Epoch 102/500\n",
            "104/104 [==============================] - 3s 32ms/step - loss: 0.4589 - accuracy: 0.8235 - val_loss: 0.7723 - val_accuracy: 0.6763\n",
            "Epoch 103/500\n",
            "104/104 [==============================] - 3s 31ms/step - loss: 0.4285 - accuracy: 0.8343 - val_loss: 0.7018 - val_accuracy: 0.7488\n",
            "Epoch 104/500\n",
            "104/104 [==============================] - 3s 31ms/step - loss: 0.4411 - accuracy: 0.8313 - val_loss: 0.6249 - val_accuracy: 0.7681\n",
            "Epoch 105/500\n",
            "104/104 [==============================] - 3s 30ms/step - loss: 0.4344 - accuracy: 0.8337 - val_loss: 0.7098 - val_accuracy: 0.7246\n",
            "Epoch 106/500\n",
            "104/104 [==============================] - 3s 30ms/step - loss: 0.4307 - accuracy: 0.8386 - val_loss: 0.5834 - val_accuracy: 0.7923\n",
            "Epoch 107/500\n",
            "104/104 [==============================] - 3s 30ms/step - loss: 0.4289 - accuracy: 0.8331 - val_loss: 0.6415 - val_accuracy: 0.7633\n",
            "Epoch 108/500\n",
            "104/104 [==============================] - 3s 31ms/step - loss: 0.4322 - accuracy: 0.8392 - val_loss: 0.6109 - val_accuracy: 0.7729\n",
            "Epoch 109/500\n",
            "104/104 [==============================] - 3s 30ms/step - loss: 0.3980 - accuracy: 0.8573 - val_loss: 0.6368 - val_accuracy: 0.7826\n",
            "Epoch 110/500\n",
            "104/104 [==============================] - 3s 30ms/step - loss: 0.4009 - accuracy: 0.8476 - val_loss: 0.6126 - val_accuracy: 0.7778\n",
            "Epoch 111/500\n",
            "104/104 [==============================] - 3s 30ms/step - loss: 0.4076 - accuracy: 0.8501 - val_loss: 0.5848 - val_accuracy: 0.7681\n",
            "Epoch 112/500\n",
            "104/104 [==============================] - 3s 31ms/step - loss: 0.4107 - accuracy: 0.8380 - val_loss: 0.6482 - val_accuracy: 0.7585\n",
            "Epoch 113/500\n",
            "104/104 [==============================] - 3s 31ms/step - loss: 0.4169 - accuracy: 0.8519 - val_loss: 0.6567 - val_accuracy: 0.7633\n",
            "Epoch 114/500\n",
            "104/104 [==============================] - 3s 31ms/step - loss: 0.4085 - accuracy: 0.8476 - val_loss: 0.5773 - val_accuracy: 0.8068\n",
            "Epoch 115/500\n",
            "104/104 [==============================] - 3s 31ms/step - loss: 0.4026 - accuracy: 0.8404 - val_loss: 0.7232 - val_accuracy: 0.7198\n",
            "Epoch 116/500\n",
            "104/104 [==============================] - 3s 30ms/step - loss: 0.4234 - accuracy: 0.8470 - val_loss: 0.5759 - val_accuracy: 0.7536\n",
            "Epoch 117/500\n",
            "104/104 [==============================] - 3s 30ms/step - loss: 0.4109 - accuracy: 0.8476 - val_loss: 0.5970 - val_accuracy: 0.8068\n",
            "Epoch 118/500\n",
            "104/104 [==============================] - 3s 30ms/step - loss: 0.4161 - accuracy: 0.8440 - val_loss: 0.5918 - val_accuracy: 0.7729\n",
            "Epoch 119/500\n",
            "104/104 [==============================] - 3s 31ms/step - loss: 0.3978 - accuracy: 0.8458 - val_loss: 0.5533 - val_accuracy: 0.7923\n",
            "Epoch 120/500\n",
            "104/104 [==============================] - 3s 31ms/step - loss: 0.3830 - accuracy: 0.8591 - val_loss: 0.6898 - val_accuracy: 0.7295\n",
            "Epoch 121/500\n",
            "104/104 [==============================] - 3s 30ms/step - loss: 0.3925 - accuracy: 0.8464 - val_loss: 0.6670 - val_accuracy: 0.7391\n",
            "Epoch 122/500\n",
            "104/104 [==============================] - 3s 31ms/step - loss: 0.3899 - accuracy: 0.8513 - val_loss: 0.6286 - val_accuracy: 0.7826\n",
            "Epoch 123/500\n",
            "104/104 [==============================] - 3s 31ms/step - loss: 0.3657 - accuracy: 0.8755 - val_loss: 0.5882 - val_accuracy: 0.7633\n",
            "Epoch 124/500\n",
            "104/104 [==============================] - 3s 30ms/step - loss: 0.3835 - accuracy: 0.8525 - val_loss: 0.5637 - val_accuracy: 0.7778\n",
            "Epoch 125/500\n",
            "104/104 [==============================] - 3s 31ms/step - loss: 0.3657 - accuracy: 0.8585 - val_loss: 0.6519 - val_accuracy: 0.7536\n",
            "Epoch 126/500\n",
            "104/104 [==============================] - 3s 32ms/step - loss: 0.3696 - accuracy: 0.8603 - val_loss: 0.6257 - val_accuracy: 0.7681\n",
            "Epoch 127/500\n",
            "104/104 [==============================] - 3s 30ms/step - loss: 0.3585 - accuracy: 0.8628 - val_loss: 0.5987 - val_accuracy: 0.7681\n",
            "Epoch 128/500\n",
            "104/104 [==============================] - 3s 30ms/step - loss: 0.3520 - accuracy: 0.8688 - val_loss: 0.5395 - val_accuracy: 0.8019\n",
            "Epoch 129/500\n",
            "104/104 [==============================] - 3s 30ms/step - loss: 0.3576 - accuracy: 0.8700 - val_loss: 0.5954 - val_accuracy: 0.7826\n",
            "Epoch 130/500\n",
            "104/104 [==============================] - 3s 30ms/step - loss: 0.3631 - accuracy: 0.8712 - val_loss: 0.5493 - val_accuracy: 0.7971\n",
            "Epoch 131/500\n",
            "104/104 [==============================] - 3s 30ms/step - loss: 0.3462 - accuracy: 0.8694 - val_loss: 0.6032 - val_accuracy: 0.7778\n",
            "Epoch 132/500\n",
            "104/104 [==============================] - 3s 30ms/step - loss: 0.3420 - accuracy: 0.8628 - val_loss: 0.6019 - val_accuracy: 0.7826\n",
            "Epoch 133/500\n",
            "104/104 [==============================] - 3s 31ms/step - loss: 0.3332 - accuracy: 0.8718 - val_loss: 0.5371 - val_accuracy: 0.8116\n",
            "Epoch 134/500\n",
            "104/104 [==============================] - 3s 31ms/step - loss: 0.3238 - accuracy: 0.8748 - val_loss: 0.5570 - val_accuracy: 0.7729\n",
            "Epoch 135/500\n",
            "104/104 [==============================] - 3s 31ms/step - loss: 0.3177 - accuracy: 0.8791 - val_loss: 0.6182 - val_accuracy: 0.7536\n",
            "Epoch 136/500\n",
            "104/104 [==============================] - 3s 30ms/step - loss: 0.3115 - accuracy: 0.8857 - val_loss: 0.6336 - val_accuracy: 0.7585\n",
            "Epoch 137/500\n",
            "104/104 [==============================] - 3s 31ms/step - loss: 0.3286 - accuracy: 0.8761 - val_loss: 0.5686 - val_accuracy: 0.7826\n",
            "Epoch 138/500\n",
            "104/104 [==============================] - 3s 30ms/step - loss: 0.3421 - accuracy: 0.8748 - val_loss: 0.6066 - val_accuracy: 0.7681\n",
            "Epoch 139/500\n",
            "104/104 [==============================] - 3s 32ms/step - loss: 0.3065 - accuracy: 0.8966 - val_loss: 0.6428 - val_accuracy: 0.7585\n",
            "Epoch 140/500\n",
            "104/104 [==============================] - 3s 30ms/step - loss: 0.3326 - accuracy: 0.8791 - val_loss: 0.5755 - val_accuracy: 0.7633\n",
            "Epoch 141/500\n",
            "104/104 [==============================] - 3s 31ms/step - loss: 0.3328 - accuracy: 0.8785 - val_loss: 0.5094 - val_accuracy: 0.8213\n",
            "Epoch 142/500\n",
            "104/104 [==============================] - 3s 31ms/step - loss: 0.3155 - accuracy: 0.8755 - val_loss: 0.5888 - val_accuracy: 0.7874\n",
            "Epoch 143/500\n",
            "104/104 [==============================] - 3s 32ms/step - loss: 0.3285 - accuracy: 0.8833 - val_loss: 0.6368 - val_accuracy: 0.7633\n",
            "Epoch 144/500\n",
            "104/104 [==============================] - 3s 32ms/step - loss: 0.3041 - accuracy: 0.8791 - val_loss: 0.5358 - val_accuracy: 0.8116\n",
            "Epoch 145/500\n",
            "104/104 [==============================] - 3s 31ms/step - loss: 0.3171 - accuracy: 0.8761 - val_loss: 0.5834 - val_accuracy: 0.7729\n",
            "Epoch 146/500\n",
            "104/104 [==============================] - 3s 31ms/step - loss: 0.2932 - accuracy: 0.8833 - val_loss: 0.5805 - val_accuracy: 0.8068\n",
            "Epoch 147/500\n",
            "104/104 [==============================] - 3s 31ms/step - loss: 0.2990 - accuracy: 0.8845 - val_loss: 0.6346 - val_accuracy: 0.7440\n",
            "Epoch 148/500\n",
            "104/104 [==============================] - 3s 30ms/step - loss: 0.2963 - accuracy: 0.8936 - val_loss: 0.5256 - val_accuracy: 0.8164\n",
            "Epoch 149/500\n",
            "104/104 [==============================] - 3s 30ms/step - loss: 0.3233 - accuracy: 0.8839 - val_loss: 0.5677 - val_accuracy: 0.7971\n",
            "Epoch 150/500\n",
            "104/104 [==============================] - 3s 31ms/step - loss: 0.3083 - accuracy: 0.8875 - val_loss: 0.6110 - val_accuracy: 0.7536\n",
            "Epoch 151/500\n",
            "104/104 [==============================] - 3s 31ms/step - loss: 0.3195 - accuracy: 0.8881 - val_loss: 0.5829 - val_accuracy: 0.8019\n",
            "Epoch 152/500\n",
            "104/104 [==============================] - 3s 31ms/step - loss: 0.3007 - accuracy: 0.8888 - val_loss: 0.5627 - val_accuracy: 0.7681\n",
            "Epoch 153/500\n",
            "104/104 [==============================] - 3s 30ms/step - loss: 0.2960 - accuracy: 0.8954 - val_loss: 0.5345 - val_accuracy: 0.8164\n",
            "Epoch 154/500\n",
            "104/104 [==============================] - 3s 31ms/step - loss: 0.3153 - accuracy: 0.8761 - val_loss: 0.5791 - val_accuracy: 0.7923\n",
            "Epoch 155/500\n",
            "104/104 [==============================] - 3s 30ms/step - loss: 0.2727 - accuracy: 0.8972 - val_loss: 0.5730 - val_accuracy: 0.8116\n",
            "Epoch 156/500\n",
            "104/104 [==============================] - 3s 30ms/step - loss: 0.2795 - accuracy: 0.9015 - val_loss: 0.6206 - val_accuracy: 0.7778\n",
            "Epoch 157/500\n",
            "104/104 [==============================] - 3s 30ms/step - loss: 0.2706 - accuracy: 0.8978 - val_loss: 0.5804 - val_accuracy: 0.7971\n",
            "Epoch 158/500\n",
            "104/104 [==============================] - 3s 30ms/step - loss: 0.3056 - accuracy: 0.8918 - val_loss: 0.7409 - val_accuracy: 0.7343\n",
            "Epoch 159/500\n",
            "104/104 [==============================] - 3s 30ms/step - loss: 0.2707 - accuracy: 0.9021 - val_loss: 0.5351 - val_accuracy: 0.8116\n",
            "Epoch 160/500\n",
            "104/104 [==============================] - 3s 31ms/step - loss: 0.2774 - accuracy: 0.8972 - val_loss: 0.5950 - val_accuracy: 0.7874\n",
            "Epoch 161/500\n",
            "104/104 [==============================] - 3s 32ms/step - loss: 0.2699 - accuracy: 0.9015 - val_loss: 0.5622 - val_accuracy: 0.8068\n",
            "Epoch 162/500\n",
            "104/104 [==============================] - 3s 31ms/step - loss: 0.2709 - accuracy: 0.8996 - val_loss: 0.6427 - val_accuracy: 0.7295\n",
            "Epoch 163/500\n",
            "104/104 [==============================] - 3s 31ms/step - loss: 0.2731 - accuracy: 0.8960 - val_loss: 0.5449 - val_accuracy: 0.8164\n",
            "Epoch 164/500\n",
            "104/104 [==============================] - 3s 30ms/step - loss: 0.2499 - accuracy: 0.9081 - val_loss: 0.6596 - val_accuracy: 0.7826\n",
            "Epoch 165/500\n",
            "104/104 [==============================] - 3s 30ms/step - loss: 0.2685 - accuracy: 0.8990 - val_loss: 0.6081 - val_accuracy: 0.8019\n",
            "Epoch 166/500\n",
            "104/104 [==============================] - 3s 31ms/step - loss: 0.2911 - accuracy: 0.8918 - val_loss: 0.5998 - val_accuracy: 0.7923\n"
          ]
        }
      ]
    },
    {
      "cell_type": "code",
      "source": [
        "plt.plot(cnnhistory.history['loss'])\n",
        "plt.plot(cnnhistory.history['val_loss'])\n",
        "plt.title('model loss')\n",
        "plt.ylabel('loss')\n",
        "plt.xlabel('epoch')\n",
        "plt.legend(['train','test'], loc='upper left')\n",
        "plt.show()"
      ],
      "metadata": {
        "id": "oQYnuaCrDH_A",
        "colab": {
          "base_uri": "https://localhost:8080/",
          "height": 295
        },
        "outputId": "322a767b-7d01-4cf7-9276-a5d6462dc676"
      },
      "execution_count": 15,
      "outputs": [
        {
          "output_type": "display_data",
          "data": {
            "text/plain": [
              "<Figure size 432x288 with 1 Axes>"
            ],
            "image/png": "[encoded data removed]"
          },
          "metadata": {
            "needs_background": "light"
          }
        }
      ]
    },
    {
      "cell_type": "code",
      "source": [
        "plt.plot(cnnhistory.history['accuracy'])\n",
        "plt.plot(cnnhistory.history['val_accuracy'])\n",
        "plt.title('model accuracy')\n",
        "plt.ylabel('accuracy')\n",
        "plt.xlabel('epoch')\n",
        "plt.legend(['train','test'], loc='upper left')\n",
        "plt.show()"
      ],
      "metadata": {
        "id": "IFkTuO8nDNdq",
        "colab": {
          "base_uri": "https://localhost:8080/",
          "height": 295
        },
        "outputId": "5d6496a7-a67a-4355-e166-3948c7401967"
      },
      "execution_count": 16,
      "outputs": [
        {
          "output_type": "display_data",
          "data": {
            "text/plain": [
              "<Figure size 432x288 with 1 Axes>"
            ],
            "image/png": "[encoded data removed]"
          },
          "metadata": {
            "needs_background": "light"
          }
        }
      ]
    },
    {
      "cell_type": "code",
      "source": [
        "predictions = model.predict(x_testcnn)"
      ],
      "metadata": {
        "id": "A2xtrN5wDQgY"
      },
      "execution_count": 17,
      "outputs": []
    },
    {
      "cell_type": "code",
      "source": [
        "predictions"
      ],
      "metadata": {
        "id": "_f_ohjXKDUpY",
        "colab": {
          "base_uri": "https://localhost:8080/"
        },
        "outputId": "ee67c5df-f12b-40c3-99d8-0aaa83123f6a"
      },
      "execution_count": 18,
      "outputs": [
        {
          "output_type": "execute_result",
          "data": {
            "text/plain": [
              "array([[3.5697457e-01, 4.9124219e-02, 1.1179966e-01, 4.2284325e-01,\n",
              "        3.1447269e-02, 2.7810957e-02],\n",
              "       [6.3641428e-04, 5.2270934e-05, 6.3700867e-07, 9.1847694e-01,\n",
              "        1.5337524e-05, 8.0818340e-02],\n",
              "       [1.6829434e-01, 1.6246097e-01, 2.6303908e-02, 5.3493553e-01,\n",
              "        1.1670627e-02, 9.6334688e-02],\n",
              "       ...,\n",
              "       [2.5175395e-06, 5.1875299e-10, 1.1111116e-05, 7.4220083e-07,\n",
              "        9.9924076e-01, 7.4479077e-04],\n",
              "       [3.0939287e-04, 8.3491004e-01, 1.5618894e-01, 1.4775357e-03,\n",
              "        3.5663580e-03, 3.5477718e-03],\n",
              "       [5.1005703e-04, 6.3392805e-04, 1.8513478e-02, 5.9299695e-04,\n",
              "        9.6968341e-01, 1.0066106e-02]], dtype=float32)"
            ]
          },
          "metadata": {},
          "execution_count": 18
        }
      ]
    },
    {
      "cell_type": "code",
      "source": [
        "y_test"
      ],
      "metadata": {
        "id": "cmA2bFgsDW3D",
        "colab": {
          "base_uri": "https://localhost:8080/"
        },
        "outputId": "01c0bbdf-5229-4004-bbac-63c8834ccae6"
      },
      "execution_count": 19,
      "outputs": [
        {
          "output_type": "execute_result",
          "data": {
            "text/plain": [
              "array([3, 3, 3, 0, 4, 4, 1, 2, 5, 0, 5, 3, 2, 2, 1, 4, 4, 5, 2, 4, 1, 2,\n",
              "       3, 5, 4, 2, 1, 2, 2, 2, 2, 5, 2, 5, 3, 1, 2, 0, 4, 5, 2, 3, 2, 2,\n",
              "       5, 2, 0, 1, 3, 4, 4, 5, 1, 1, 4, 4, 5, 1, 1, 1, 0, 1, 5, 0, 4, 1,\n",
              "       1, 0, 1, 4, 1, 0, 4, 1, 3, 1, 2, 2, 1, 2, 3, 0, 5, 3, 5, 5, 2, 4,\n",
              "       5, 1, 5, 1, 5, 3, 4, 1, 4, 1, 5, 4, 5, 1, 2, 1, 1, 5, 1, 3, 2, 5,\n",
              "       2, 1, 3, 5, 4, 4, 0, 0, 3, 1, 2, 2, 3, 5, 1, 5, 3, 4, 2, 2, 0, 2,\n",
              "       2, 5, 5, 0, 3, 3, 2, 2, 0, 3, 4, 0, 4, 2, 4, 5, 4, 1, 5, 3, 2, 2,\n",
              "       5, 4, 3, 3, 4, 3, 3, 4, 1, 5, 2, 3, 2, 2, 0, 2, 1, 3, 1, 2, 2, 5,\n",
              "       5, 1, 4, 2, 2, 1, 1, 3, 3, 5, 5, 2, 5, 1, 5, 0, 3, 3, 0, 5, 1, 4,\n",
              "       1, 4, 2, 5, 5, 1, 4, 2, 4])"
            ]
          },
          "metadata": {},
          "execution_count": 19
        }
      ]
    },
    {
      "cell_type": "code",
      "source": [
        "new_Ytest = y_test.astype(int)"
      ],
      "metadata": {
        "id": "0PHDKWJWDY3g"
      },
      "execution_count": 20,
      "outputs": []
    },
    {
      "cell_type": "code",
      "source": [
        "new_Ytest"
      ],
      "metadata": {
        "id": "k68v2i-pDbZE",
        "colab": {
          "base_uri": "https://localhost:8080/"
        },
        "outputId": "9f7ae9ea-201b-43c3-c3d3-eff268ed5ecd"
      },
      "execution_count": 21,
      "outputs": [
        {
          "output_type": "execute_result",
          "data": {
            "text/plain": [
              "array([3, 3, 3, 0, 4, 4, 1, 2, 5, 0, 5, 3, 2, 2, 1, 4, 4, 5, 2, 4, 1, 2,\n",
              "       3, 5, 4, 2, 1, 2, 2, 2, 2, 5, 2, 5, 3, 1, 2, 0, 4, 5, 2, 3, 2, 2,\n",
              "       5, 2, 0, 1, 3, 4, 4, 5, 1, 1, 4, 4, 5, 1, 1, 1, 0, 1, 5, 0, 4, 1,\n",
              "       1, 0, 1, 4, 1, 0, 4, 1, 3, 1, 2, 2, 1, 2, 3, 0, 5, 3, 5, 5, 2, 4,\n",
              "       5, 1, 5, 1, 5, 3, 4, 1, 4, 1, 5, 4, 5, 1, 2, 1, 1, 5, 1, 3, 2, 5,\n",
              "       2, 1, 3, 5, 4, 4, 0, 0, 3, 1, 2, 2, 3, 5, 1, 5, 3, 4, 2, 2, 0, 2,\n",
              "       2, 5, 5, 0, 3, 3, 2, 2, 0, 3, 4, 0, 4, 2, 4, 5, 4, 1, 5, 3, 2, 2,\n",
              "       5, 4, 3, 3, 4, 3, 3, 4, 1, 5, 2, 3, 2, 2, 0, 2, 1, 3, 1, 2, 2, 5,\n",
              "       5, 1, 4, 2, 2, 1, 1, 3, 3, 5, 5, 2, 5, 1, 5, 0, 3, 3, 0, 5, 1, 4,\n",
              "       1, 4, 2, 5, 5, 1, 4, 2, 4])"
            ]
          },
          "metadata": {},
          "execution_count": 21
        }
      ]
    },
    {
      "cell_type": "code",
      "source": [
        "preds1=predictions.argmax(axis=1)\n",
        "preds1"
      ],
      "metadata": {
        "id": "4_cAI39VFhtp",
        "colab": {
          "base_uri": "https://localhost:8080/"
        },
        "outputId": "8891aab6-4ac2-47cf-81b0-72117404ba68"
      },
      "execution_count": 22,
      "outputs": [
        {
          "output_type": "execute_result",
          "data": {
            "text/plain": [
              "array([3, 3, 3, 0, 4, 4, 1, 2, 5, 1, 5, 3, 2, 2, 0, 4, 4, 3, 3, 4, 1, 2,\n",
              "       0, 3, 4, 2, 1, 1, 4, 2, 2, 5, 2, 5, 3, 1, 2, 0, 4, 5, 2, 3, 1, 2,\n",
              "       5, 2, 1, 1, 3, 4, 4, 5, 1, 1, 4, 4, 5, 1, 1, 1, 0, 1, 5, 1, 4, 1,\n",
              "       1, 1, 1, 4, 1, 0, 4, 1, 5, 1, 2, 2, 1, 4, 1, 0, 5, 3, 5, 5, 2, 5,\n",
              "       3, 1, 0, 1, 5, 3, 2, 1, 4, 1, 5, 4, 5, 1, 2, 1, 1, 5, 1, 3, 2, 5,\n",
              "       0, 1, 3, 5, 4, 4, 3, 0, 3, 1, 1, 2, 1, 0, 1, 5, 3, 5, 2, 2, 0, 2,\n",
              "       2, 3, 3, 0, 3, 3, 2, 2, 0, 3, 4, 0, 4, 1, 4, 1, 4, 1, 5, 3, 2, 2,\n",
              "       5, 4, 3, 3, 4, 5, 3, 4, 1, 5, 1, 3, 2, 2, 0, 2, 1, 3, 1, 4, 4, 5,\n",
              "       5, 1, 4, 2, 4, 1, 1, 3, 3, 5, 5, 2, 5, 1, 2, 1, 3, 3, 2, 5, 1, 4,\n",
              "       1, 4, 0, 5, 5, 1, 4, 1, 4])"
            ]
          },
          "metadata": {},
          "execution_count": 22
        }
      ]
    },
    {
      "cell_type": "code",
      "source": [
        "abc = preds1.astype(int).flatten()"
      ],
      "metadata": {
        "id": "H4WEmM60NfQn"
      },
      "execution_count": 23,
      "outputs": []
    },
    {
      "cell_type": "code",
      "source": [
        "from sklearn.metrics import confusion_matrix\n",
        "c = confusion_matrix(new_Ytest, abc) \n",
        "c"
      ],
      "metadata": {
        "id": "bKEBeEBlFjB8",
        "colab": {
          "base_uri": "https://localhost:8080/"
        },
        "outputId": "33362554-cea1-4cc3-829a-cf5deb0c653a"
      },
      "execution_count": 24,
      "outputs": [
        {
          "output_type": "execute_result",
          "data": {
            "text/plain": [
              "array([[11,  5,  1,  1,  0,  0],\n",
              "       [ 1, 40,  0,  0,  0,  0],\n",
              "       [ 2,  6, 31,  1,  5,  0],\n",
              "       [ 1,  2,  0, 26,  0,  2],\n",
              "       [ 0,  0,  1,  0, 30,  2],\n",
              "       [ 2,  1,  1,  5,  0, 30]])"
            ]
          },
          "metadata": {},
          "execution_count": 24
        }
      ]
    },
    {
      "cell_type": "code",
      "source": [
        "y_test"
      ],
      "metadata": {
        "id": "m4RjG7LWLSQx",
        "colab": {
          "base_uri": "https://localhost:8080/"
        },
        "outputId": "fe187485-ae2d-42df-a2c1-4f4846a4062b"
      },
      "execution_count": 25,
      "outputs": [
        {
          "output_type": "execute_result",
          "data": {
            "text/plain": [
              "array([3, 3, 3, 0, 4, 4, 1, 2, 5, 0, 5, 3, 2, 2, 1, 4, 4, 5, 2, 4, 1, 2,\n",
              "       3, 5, 4, 2, 1, 2, 2, 2, 2, 5, 2, 5, 3, 1, 2, 0, 4, 5, 2, 3, 2, 2,\n",
              "       5, 2, 0, 1, 3, 4, 4, 5, 1, 1, 4, 4, 5, 1, 1, 1, 0, 1, 5, 0, 4, 1,\n",
              "       1, 0, 1, 4, 1, 0, 4, 1, 3, 1, 2, 2, 1, 2, 3, 0, 5, 3, 5, 5, 2, 4,\n",
              "       5, 1, 5, 1, 5, 3, 4, 1, 4, 1, 5, 4, 5, 1, 2, 1, 1, 5, 1, 3, 2, 5,\n",
              "       2, 1, 3, 5, 4, 4, 0, 0, 3, 1, 2, 2, 3, 5, 1, 5, 3, 4, 2, 2, 0, 2,\n",
              "       2, 5, 5, 0, 3, 3, 2, 2, 0, 3, 4, 0, 4, 2, 4, 5, 4, 1, 5, 3, 2, 2,\n",
              "       5, 4, 3, 3, 4, 3, 3, 4, 1, 5, 2, 3, 2, 2, 0, 2, 1, 3, 1, 2, 2, 5,\n",
              "       5, 1, 4, 2, 2, 1, 1, 3, 3, 5, 5, 2, 5, 1, 5, 0, 3, 3, 0, 5, 1, 4,\n",
              "       1, 4, 2, 5, 5, 1, 4, 2, 4])"
            ]
          },
          "metadata": {},
          "execution_count": 25
        }
      ]
    },
    {
      "cell_type": "code",
      "source": [
        "loss, acc =model.evaluate(x_testcnn, y_test)\n",
        "print(\"Restored model, accuracy: {:5.2f}%\".format(100*acc))"
      ],
      "metadata": {
        "id": "n3kzoqPkDqqS",
        "colab": {
          "base_uri": "https://localhost:8080/"
        },
        "outputId": "77a296a6-3b81-44f6-e433-1e5270150c76"
      },
      "execution_count": 26,
      "outputs": [
        {
          "output_type": "stream",
          "name": "stdout",
          "text": [
            "7/7 [==============================] - 0s 7ms/step - loss: 0.5243 - accuracy: 0.8116\n",
            "Restored model, accuracy: 81.16%\n"
          ]
        }
      ]
    },
    {
      "cell_type": "code",
      "source": [
        "loss, acc =model.evaluate(X_train, y_train)\n",
        "print(\"Restored model train, accuracy: {:5.2f}%\".format(100*acc))"
      ],
      "metadata": {
        "id": "fJDTGH_OUX0z",
        "colab": {
          "base_uri": "https://localhost:8080/"
        },
        "outputId": "25b9f4f4-8297-4158-eec1-733f59d9ced2"
      },
      "execution_count": 27,
      "outputs": [
        {
          "output_type": "stream",
          "name": "stdout",
          "text": [
            "52/52 [==============================] - 1s 12ms/step - loss: 0.1687 - accuracy: 0.9698\n",
            "Restored model train, accuracy: 96.98%\n"
          ]
        }
      ]
    },
    {
      "cell_type": "code",
      "source": [
        "from sklearn.metrics import classification_report, confusion_matrix,accuracy_score\n",
        "import seaborn as sn\n",
        "\n",
        "print(classification_report(new_Ytest,abc))\n",
        "\n",
        "acc = float(accuracy_score(new_Ytest,abc))*100\n",
        "print(\"----accuracy score %s ----\" % acc)\n",
        "\n",
        "cm = confusion_matrix(new_Ytest,abc)\n",
        "#df_cm = pd.DataFrame(cm)\n",
        "class_names = ['neutral','calm', 'happy','sad','angry', 'fearful' ]\n",
        "df_cm = pd.DataFrame(cm, index=class_names, columns=class_names,)\n",
        "sn.heatmap(df_cm, annot=True, fmt='')\n",
        "plt.show()"
      ],
      "metadata": {
        "id": "SfSC3El94LZg",
        "colab": {
          "base_uri": "https://localhost:8080/",
          "height": 526
        },
        "outputId": "20ea852b-482d-49b7-b9de-398ca2b5ba85"
      },
      "execution_count": 28,
      "outputs": [
        {
          "output_type": "stream",
          "name": "stdout",
          "text": [
            "              precision    recall  f1-score   support\n",
            "\n",
            "           0       0.65      0.61      0.63        18\n",
            "           1       0.74      0.98      0.84        41\n",
            "           2       0.91      0.69      0.78        45\n",
            "           3       0.79      0.84      0.81        31\n",
            "           4       0.86      0.91      0.88        33\n",
            "           5       0.88      0.77      0.82        39\n",
            "\n",
            "    accuracy                           0.81       207\n",
            "   macro avg       0.80      0.80      0.80       207\n",
            "weighted avg       0.82      0.81      0.81       207\n",
            "\n",
            "----accuracy score 81.15942028985508 ----\n"
          ]
        },
        {
          "output_type": "display_data",
          "data": {
            "text/plain": [
              "<Figure size 432x288 with 2 Axes>"
            ],
            "image/png": "[encoded data removed]"
          },
          "metadata": {
            "needs_background": "light"
          }
        }
      ]
    }
  ]
}