{
  "nbformat": 4,
  "nbformat_minor": 0,
  "metadata": {
    "colab": {
      "name": "original_remove_2_dense_layers_adam_lr=0_0002 increase_kernal_size_to_12 colab pro try 3.ipynb",
      "provenance": [],
      "collapsed_sections": [],
      "machine_shape": "hm"
    },
    "kernelspec": {
      "name": "python3",
      "display_name": "Python 3"
    },
    "language_info": {
      "name": "python"
    },
    "accelerator": "GPU"
  },
  "cells": [
    {
      "cell_type": "code",
      "execution_count": 1,
      "metadata": {
        "colab": {
          "base_uri": "https://localhost:8080/"
        },
        "id": "9SRCO-a_AlH5",
        "outputId": "c3a3870b-9311-46a6-fbae-53b7429c1077"
      },
      "outputs": [
        {
          "output_type": "stream",
          "name": "stdout",
          "text": [
            "Drive already mounted at /content/drive; to attempt to forcibly remount, call drive.mount(\"/content/drive\", force_remount=True).\n"
          ]
        }
      ],
      "source": [
        "from google.colab import drive\n",
        "drive.mount('/content/drive')"
      ]
    },
    {
      "cell_type": "code",
      "source": [
        "!pip install librosa"
      ],
      "metadata": {
        "colab": {
          "base_uri": "https://localhost:8080/"
        },
        "id": "5Lo4mUwG9RMd",
        "outputId": "2955c20b-a2d6-4a7e-c61a-c25a7a236ce6"
      },
      "execution_count": 2,
      "outputs": [
        {
          "output_type": "stream",
          "name": "stdout",
          "text": [
            "Looking in indexes: https://pypi.org/simple, https://us-python.pkg.dev/colab-wheels/public/simple/\n",
            "Requirement already satisfied: librosa in /usr/local/lib/python3.7/dist-packages (0.8.1)\n",
            "Requirement already satisfied: scikit-learn!=0.19.0,>=0.14.0 in /usr/local/lib/python3.7/dist-packages (from librosa) (1.0.2)\n",
            "Requirement already satisfied: audioread>=2.0.0 in /usr/local/lib/python3.7/dist-packages (from librosa) (2.1.9)\n",
            "Requirement already satisfied: scipy>=1.0.0 in /usr/local/lib/python3.7/dist-packages (from librosa) (1.4.1)\n",
            "Requirement already satisfied: numba>=0.43.0 in /usr/local/lib/python3.7/dist-packages (from librosa) (0.51.2)\n",
            "Requirement already satisfied: pooch>=1.0 in /usr/local/lib/python3.7/dist-packages (from librosa) (1.6.0)\n",
            "Requirement already satisfied: joblib>=0.14 in /usr/local/lib/python3.7/dist-packages (from librosa) (1.1.0)\n",
            "Requirement already satisfied: packaging>=20.0 in /usr/local/lib/python3.7/dist-packages (from librosa) (21.3)\n",
            "Requirement already satisfied: resampy>=0.2.2 in /usr/local/lib/python3.7/dist-packages (from librosa) (0.2.2)\n",
            "Requirement already satisfied: decorator>=3.0.0 in /usr/local/lib/python3.7/dist-packages (from librosa) (4.4.2)\n",
            "Requirement already satisfied: soundfile>=0.10.2 in /usr/local/lib/python3.7/dist-packages (from librosa) (0.10.3.post1)\n",
            "Requirement already satisfied: numpy>=1.15.0 in /usr/local/lib/python3.7/dist-packages (from librosa) (1.21.6)\n",
            "Requirement already satisfied: setuptools in /usr/local/lib/python3.7/dist-packages (from numba>=0.43.0->librosa) (57.4.0)\n",
            "Requirement already satisfied: llvmlite<0.35,>=0.34.0.dev0 in /usr/local/lib/python3.7/dist-packages (from numba>=0.43.0->librosa) (0.34.0)\n",
            "Requirement already satisfied: pyparsing!=3.0.5,>=2.0.2 in /usr/local/lib/python3.7/dist-packages (from packaging>=20.0->librosa) (3.0.9)\n",
            "Requirement already satisfied: appdirs>=1.3.0 in /usr/local/lib/python3.7/dist-packages (from pooch>=1.0->librosa) (1.4.4)\n",
            "Requirement already satisfied: requests>=2.19.0 in /usr/local/lib/python3.7/dist-packages (from pooch>=1.0->librosa) (2.23.0)\n",
            "Requirement already satisfied: certifi>=2017.4.17 in /usr/local/lib/python3.7/dist-packages (from requests>=2.19.0->pooch>=1.0->librosa) (2022.5.18.1)\n",
            "Requirement already satisfied: idna<3,>=2.5 in /usr/local/lib/python3.7/dist-packages (from requests>=2.19.0->pooch>=1.0->librosa) (2.10)\n",
            "Requirement already satisfied: urllib3!=1.25.0,!=1.25.1,<1.26,>=1.21.1 in /usr/local/lib/python3.7/dist-packages (from requests>=2.19.0->pooch>=1.0->librosa) (1.24.3)\n",
            "Requirement already satisfied: chardet<4,>=3.0.2 in /usr/local/lib/python3.7/dist-packages (from requests>=2.19.0->pooch>=1.0->librosa) (3.0.4)\n",
            "Requirement already satisfied: six>=1.3 in /usr/local/lib/python3.7/dist-packages (from resampy>=0.2.2->librosa) (1.15.0)\n",
            "Requirement already satisfied: threadpoolctl>=2.0.0 in /usr/local/lib/python3.7/dist-packages (from scikit-learn!=0.19.0,>=0.14.0->librosa) (3.1.0)\n",
            "Requirement already satisfied: cffi>=1.0 in /usr/local/lib/python3.7/dist-packages (from soundfile>=0.10.2->librosa) (1.15.0)\n",
            "Requirement already satisfied: pycparser in /usr/local/lib/python3.7/dist-packages (from cffi>=1.0->soundfile>=0.10.2->librosa) (2.21)\n"
          ]
        }
      ]
    },
    {
      "cell_type": "code",
      "metadata": {
        "id": "HJjcbxwy46bG",
        "colab": {
          "base_uri": "https://localhost:8080/",
          "height": 17
        },
        "outputId": "92bd0120-b247-4197-e03f-7e94bff45d35"
      },
      "source": [
        "# Orignial Notebook: https://github.com/MITESHPUTHRANNEU/Speech-Emotion-Analyzer/blob/master/final_results_gender_test.ipynb\n",
        "# This notebook author: Reza Chu\n",
        "# Last Editing Date: 31st May 2019\n",
        "\n",
        "## Python\n",
        "import os\n",
        "import random\n",
        "import sys\n",
        "\n",
        "import IPython\n",
        "from IPython.display import Audio\n",
        "from IPython.display import Image\n",
        "import matplotlib.pyplot as plt\n",
        "\n",
        "## Package\n",
        "import glob \n",
        "import keras\n",
        "import IPython.display as ipd\n",
        "import librosa\n",
        "import librosa.display\n",
        "import matplotlib.pyplot as plt\n",
        "import numpy as np\n",
        "import pandas as pd\n",
        "import plotly.graph_objs as go\n",
        "import plotly.offline as py\n",
        "import plotly.tools as tls\n",
        "import seaborn as sns\n",
        "import scipy.io.wavfile\n",
        "import tensorflow as tf\n",
        "py.init_notebook_mode(connected=True)\n",
        "\n",
        "## Keras\n",
        "from keras import regularizers\n",
        "from keras.callbacks import ModelCheckpoint, LearningRateScheduler, EarlyStopping\n",
        "from keras.callbacks import  History, ReduceLROnPlateau, CSVLogger\n",
        "from keras.models import Model, Sequential\n",
        "from keras.layers import Dense, Embedding, LSTM\n",
        "from keras.layers import Input, Flatten, Dropout, Activation, BatchNormalization\n",
        "from keras.layers import Conv1D, MaxPooling1D, AveragePooling1D\n",
        "from keras.preprocessing import sequence\n",
        "from keras.preprocessing.sequence import pad_sequences\n",
        "from keras.preprocessing.text import Tokenizer\n",
        "from keras.utils import np_utils\n",
        "from tensorflow.keras.utils import to_categorical\n",
        "\n",
        "## Sklearn\n",
        "from sklearn.metrics import confusion_matrix\n",
        "from sklearn.preprocessing import LabelEncoder\n",
        "\n",
        "## Rest\n",
        "from scipy.fftpack import fft\n",
        "from scipy import signal\n",
        "from scipy.io import wavfile\n",
        "from tqdm import tqdm\n",
        "\n",
        "input_duration=3\n",
        "# % pylab inline"
      ],
      "execution_count": 3,
      "outputs": [
        {
          "output_type": "display_data",
          "data": {
            "text/html": [
              "        <script type=\"text/javascript\">\n",
              "        window.PlotlyConfig = {MathJaxConfig: 'local'};\n",
              "        if (window.MathJax) {MathJax.Hub.Config({SVG: {font: \"STIX-Web\"}});}\n",
              "        if (typeof require !== 'undefined') {\n",
              "        require.undef(\"plotly\");\n",
              "        requirejs.config({\n",
              "            paths: {\n",
              "                'plotly': ['https://cdn.plot.ly/plotly-2.8.3.min']\n",
              "            }\n",
              "        });\n",
              "        require(['plotly'], function(Plotly) {\n",
              "            window._Plotly = Plotly;\n",
              "        });\n",
              "        }\n",
              "        </script>\n",
              "        "
            ]
          },
          "metadata": {}
        }
      ]
    },
    {
      "cell_type": "code",
      "source": [
        "# # Saving joblib files to not load them again with the loop above\n",
        "\n",
        "# import joblib\n",
        "\n",
        "# X_name = 'x.joblib'\n",
        "# y_name = 'y.joblib'\n",
        "# save_dir = '/content/drive/My Drive/graduation project/audio/paper_code/features'\n",
        "\n",
        "# savedX = joblib.dump(X, os.path.join(save_dir, X_name))\n",
        "# savedy = joblib.dump(y, os.path.join(save_dir, y_name))"
      ],
      "metadata": {
        "id": "UCzic8rlDcuk"
      },
      "execution_count": 4,
      "outputs": []
    },
    {
      "cell_type": "code",
      "source": [
        "# # Loading saved models\n",
        "import joblib\n",
        "X = joblib.load('/content/drive/My Drive/graduation project/audio/paper_code/features/x.joblib')\n",
        "y = joblib.load('/content/drive/My Drive/graduation project/audio/paper_code/features/y.joblib')"
      ],
      "metadata": {
        "id": "Q35CN6zDrzg1"
      },
      "execution_count": 5,
      "outputs": []
    },
    {
      "cell_type": "code",
      "source": [
        "X.shape"
      ],
      "metadata": {
        "id": "7PSTurzjCo5K",
        "colab": {
          "base_uri": "https://localhost:8080/"
        },
        "outputId": "71d9cee5-b61c-46dd-e9cc-1a99736625fa"
      },
      "execution_count": 6,
      "outputs": [
        {
          "output_type": "execute_result",
          "data": {
            "text/plain": [
              "(2068, 40)"
            ]
          },
          "metadata": {},
          "execution_count": 6
        }
      ]
    },
    {
      "cell_type": "code",
      "source": [
        "from sklearn.model_selection import train_test_split\n",
        "\n",
        "X_train, X_test, y_train, y_test = train_test_split(X,y, test_size=0.1 ,shuffle = True\n",
        "                                                    , random_state=42)\n",
        "X_train , X_valid, y_train, y_valid = train_test_split(X_train,y_train, test_size=0.1112305212 , shuffle = True \n",
        "                                                       , random_state=42)"
      ],
      "metadata": {
        "id": "Ai4Fy5cPCiq1"
      },
      "execution_count": 7,
      "outputs": []
    },
    {
      "cell_type": "code",
      "source": [
        "import numpy as np\n",
        "x_traincnn = np.expand_dims(X_train, axis=2)\n",
        "x_testcnn = np.expand_dims(X_test, axis=2)\n",
        "X_valid= np.expand_dims(X_valid, axis=2)"
      ],
      "metadata": {
        "id": "tp1Fm5K3CEXu"
      },
      "execution_count": 8,
      "outputs": []
    },
    {
      "cell_type": "code",
      "source": [
        "x_traincnn.shape, x_testcnn.shape , X_valid.shape\n",
        "#1861"
      ],
      "metadata": {
        "id": "RI0MxoIPBws5",
        "colab": {
          "base_uri": "https://localhost:8080/"
        },
        "outputId": "c77881d2-ccf7-4712-cf71-ced970e0f773"
      },
      "execution_count": 9,
      "outputs": [
        {
          "output_type": "execute_result",
          "data": {
            "text/plain": [
              "((1654, 40, 1), (207, 40, 1), (207, 40, 1))"
            ]
          },
          "metadata": {},
          "execution_count": 9
        }
      ]
    },
    {
      "cell_type": "code",
      "source": [
        "!pip install tensorflow"
      ],
      "metadata": {
        "id": "oALhiMUd9G2Y",
        "colab": {
          "base_uri": "https://localhost:8080/"
        },
        "outputId": "88a365d1-932b-4ac9-feee-c0514a2e9623"
      },
      "execution_count": 10,
      "outputs": [
        {
          "output_type": "stream",
          "name": "stdout",
          "text": [
            "Looking in indexes: https://pypi.org/simple, https://us-python.pkg.dev/colab-wheels/public/simple/\n",
            "Requirement already satisfied: tensorflow in /usr/local/lib/python3.7/dist-packages (2.8.2+zzzcolab20220527125636)\n",
            "Requirement already satisfied: protobuf<3.20,>=3.9.2 in /usr/local/lib/python3.7/dist-packages (from tensorflow) (3.17.3)\n",
            "Requirement already satisfied: tensorflow-io-gcs-filesystem>=0.23.1 in /usr/local/lib/python3.7/dist-packages (from tensorflow) (0.26.0)\n",
            "Requirement already satisfied: google-pasta>=0.1.1 in /usr/local/lib/python3.7/dist-packages (from tensorflow) (0.2.0)\n",
            "Requirement already satisfied: flatbuffers>=1.12 in /usr/local/lib/python3.7/dist-packages (from tensorflow) (2.0)\n",
            "Requirement already satisfied: gast>=0.2.1 in /usr/local/lib/python3.7/dist-packages (from tensorflow) (0.5.3)\n",
            "Requirement already satisfied: numpy>=1.20 in /usr/local/lib/python3.7/dist-packages (from tensorflow) (1.21.6)\n",
            "Requirement already satisfied: termcolor>=1.1.0 in /usr/local/lib/python3.7/dist-packages (from tensorflow) (1.1.0)\n",
            "Requirement already satisfied: tensorboard<2.9,>=2.8 in /usr/local/lib/python3.7/dist-packages (from tensorflow) (2.8.0)\n",
            "Requirement already satisfied: libclang>=9.0.1 in /usr/local/lib/python3.7/dist-packages (from tensorflow) (14.0.1)\n",
            "Requirement already satisfied: typing-extensions>=3.6.6 in /usr/local/lib/python3.7/dist-packages (from tensorflow) (4.2.0)\n",
            "Requirement already satisfied: keras<2.9,>=2.8.0rc0 in /usr/local/lib/python3.7/dist-packages (from tensorflow) (2.8.0)\n",
            "Requirement already satisfied: wrapt>=1.11.0 in /usr/local/lib/python3.7/dist-packages (from tensorflow) (1.14.1)\n",
            "Requirement already satisfied: tensorflow-estimator<2.9,>=2.8 in /usr/local/lib/python3.7/dist-packages (from tensorflow) (2.8.0)\n",
            "Requirement already satisfied: grpcio<2.0,>=1.24.3 in /usr/local/lib/python3.7/dist-packages (from tensorflow) (1.46.3)\n",
            "Requirement already satisfied: h5py>=2.9.0 in /usr/local/lib/python3.7/dist-packages (from tensorflow) (3.1.0)\n",
            "Requirement already satisfied: absl-py>=0.4.0 in /usr/local/lib/python3.7/dist-packages (from tensorflow) (1.0.0)\n",
            "Requirement already satisfied: opt-einsum>=2.3.2 in /usr/local/lib/python3.7/dist-packages (from tensorflow) (3.3.0)\n",
            "Requirement already satisfied: keras-preprocessing>=1.1.1 in /usr/local/lib/python3.7/dist-packages (from tensorflow) (1.1.2)\n",
            "Requirement already satisfied: astunparse>=1.6.0 in /usr/local/lib/python3.7/dist-packages (from tensorflow) (1.6.3)\n",
            "Requirement already satisfied: six>=1.12.0 in /usr/local/lib/python3.7/dist-packages (from tensorflow) (1.15.0)\n",
            "Requirement already satisfied: setuptools in /usr/local/lib/python3.7/dist-packages (from tensorflow) (57.4.0)\n",
            "Requirement already satisfied: wheel<1.0,>=0.23.0 in /usr/local/lib/python3.7/dist-packages (from astunparse>=1.6.0->tensorflow) (0.37.1)\n",
            "Requirement already satisfied: cached-property in /usr/local/lib/python3.7/dist-packages (from h5py>=2.9.0->tensorflow) (1.5.2)\n",
            "Requirement already satisfied: google-auth<3,>=1.6.3 in /usr/local/lib/python3.7/dist-packages (from tensorboard<2.9,>=2.8->tensorflow) (1.35.0)\n",
            "Requirement already satisfied: google-auth-oauthlib<0.5,>=0.4.1 in /usr/local/lib/python3.7/dist-packages (from tensorboard<2.9,>=2.8->tensorflow) (0.4.6)\n",
            "Requirement already satisfied: tensorboard-data-server<0.7.0,>=0.6.0 in /usr/local/lib/python3.7/dist-packages (from tensorboard<2.9,>=2.8->tensorflow) (0.6.1)\n",
            "Requirement already satisfied: tensorboard-plugin-wit>=1.6.0 in /usr/local/lib/python3.7/dist-packages (from tensorboard<2.9,>=2.8->tensorflow) (1.8.1)\n",
            "Requirement already satisfied: werkzeug>=0.11.15 in /usr/local/lib/python3.7/dist-packages (from tensorboard<2.9,>=2.8->tensorflow) (1.0.1)\n",
            "Requirement already satisfied: markdown>=2.6.8 in /usr/local/lib/python3.7/dist-packages (from tensorboard<2.9,>=2.8->tensorflow) (3.3.7)\n",
            "Requirement already satisfied: requests<3,>=2.21.0 in /usr/local/lib/python3.7/dist-packages (from tensorboard<2.9,>=2.8->tensorflow) (2.23.0)\n",
            "Requirement already satisfied: cachetools<5.0,>=2.0.0 in /usr/local/lib/python3.7/dist-packages (from google-auth<3,>=1.6.3->tensorboard<2.9,>=2.8->tensorflow) (4.2.4)\n",
            "Requirement already satisfied: rsa<5,>=3.1.4 in /usr/local/lib/python3.7/dist-packages (from google-auth<3,>=1.6.3->tensorboard<2.9,>=2.8->tensorflow) (4.8)\n",
            "Requirement already satisfied: pyasn1-modules>=0.2.1 in /usr/local/lib/python3.7/dist-packages (from google-auth<3,>=1.6.3->tensorboard<2.9,>=2.8->tensorflow) (0.2.8)\n",
            "Requirement already satisfied: requests-oauthlib>=0.7.0 in /usr/local/lib/python3.7/dist-packages (from google-auth-oauthlib<0.5,>=0.4.1->tensorboard<2.9,>=2.8->tensorflow) (1.3.1)\n",
            "Requirement already satisfied: importlib-metadata>=4.4 in /usr/local/lib/python3.7/dist-packages (from markdown>=2.6.8->tensorboard<2.9,>=2.8->tensorflow) (4.11.4)\n",
            "Requirement already satisfied: zipp>=0.5 in /usr/local/lib/python3.7/dist-packages (from importlib-metadata>=4.4->markdown>=2.6.8->tensorboard<2.9,>=2.8->tensorflow) (3.8.0)\n",
            "Requirement already satisfied: pyasn1<0.5.0,>=0.4.6 in /usr/local/lib/python3.7/dist-packages (from pyasn1-modules>=0.2.1->google-auth<3,>=1.6.3->tensorboard<2.9,>=2.8->tensorflow) (0.4.8)\n",
            "Requirement already satisfied: certifi>=2017.4.17 in /usr/local/lib/python3.7/dist-packages (from requests<3,>=2.21.0->tensorboard<2.9,>=2.8->tensorflow) (2022.5.18.1)\n",
            "Requirement already satisfied: chardet<4,>=3.0.2 in /usr/local/lib/python3.7/dist-packages (from requests<3,>=2.21.0->tensorboard<2.9,>=2.8->tensorflow) (3.0.4)\n",
            "Requirement already satisfied: idna<3,>=2.5 in /usr/local/lib/python3.7/dist-packages (from requests<3,>=2.21.0->tensorboard<2.9,>=2.8->tensorflow) (2.10)\n",
            "Requirement already satisfied: urllib3!=1.25.0,!=1.25.1,<1.26,>=1.21.1 in /usr/local/lib/python3.7/dist-packages (from requests<3,>=2.21.0->tensorboard<2.9,>=2.8->tensorflow) (1.24.3)\n",
            "Requirement already satisfied: oauthlib>=3.0.0 in /usr/local/lib/python3.7/dist-packages (from requests-oauthlib>=0.7.0->google-auth-oauthlib<0.5,>=0.4.1->tensorboard<2.9,>=2.8->tensorflow) (3.2.0)\n"
          ]
        }
      ]
    },
    {
      "cell_type": "code",
      "source": [
        "import keras\n",
        "import numpy as np\n",
        "import matplotlib.pyplot as plt\n",
        "import tensorflow as tf\n",
        "from keras.preprocessing import sequence\n",
        "from keras.models import Sequential\n",
        "from keras.layers import Dense, Embedding\n",
        "from tensorflow.keras.utils import to_categorical\n",
        "from keras.layers import Input, Flatten, Dropout, Activation\n",
        "from keras.layers import Conv1D, MaxPooling1D\n",
        "from keras.models import Model\n",
        "from keras.callbacks import ModelCheckpoint\n",
        "from tensorflow.keras import optimizers\n",
        "\n",
        "model = Sequential()\n",
        "\n",
        "model.add(Conv1D(128, 12,padding='same', #classifier.add(Convolution2D(64, (3, 3), padding = 'same', input_shape = (128, 128, 3), activation = 'relu'))\n",
        "                 input_shape=(40,1)))\n",
        "model.add(Activation('relu'))\n",
        "model.add(Dropout(0.3))\n",
        "model.add(MaxPooling1D(pool_size=(5)))\n",
        "\n",
        "\n",
        "model.add(Conv1D(256,12,padding='same',))\n",
        "model.add(Activation('relu'))\n",
        "model.add(Dropout(0.3))\n",
        "model.add(MaxPooling1D(pool_size=(5)))\n",
        "\n",
        "#model.add(MaxPooling1D(pool_size=(5)))\n",
        "\n",
        "model.add(Flatten())\n",
        "\n",
        "\n",
        "\n",
        "model.add(Dense(6))\n",
        "model.add(Activation('softmax'))\n",
        "\n",
        "\n",
        "#opt = tf.keras.optimizers.RMSprop(lr=0.0002 , decay=0.0)\n",
        "opt = tf.keras.optimizers.Adam(lr=0.0002 , decay=0.0)\n",
        "#opt = tf.keras.optimizers.RMSprop(lr=0.0001, rho=0.9, epsilon=1e-07, decay=0.0)\n",
        "#opt = tf.keras.optimizers.SGD(lr=0.001, momentum=0.0, decay=0.0, nesterov=False)"
      ],
      "metadata": {
        "id": "g74fXWVAC4Cr",
        "colab": {
          "base_uri": "https://localhost:8080/"
        },
        "outputId": "13da429c-d88d-4707-e25b-546aac86f011"
      },
      "execution_count": 11,
      "outputs": [
        {
          "output_type": "stream",
          "name": "stderr",
          "text": [
            "/usr/local/lib/python3.7/dist-packages/keras/optimizer_v2/adam.py:105: UserWarning:\n",
            "\n",
            "The `lr` argument is deprecated, use `learning_rate` instead.\n",
            "\n"
          ]
        }
      ]
    },
    {
      "cell_type": "code",
      "source": [
        "model.summary()"
      ],
      "metadata": {
        "id": "H6ukOxAGC_I4",
        "colab": {
          "base_uri": "https://localhost:8080/"
        },
        "outputId": "8d0c52b4-4c12-4d1f-bcb9-deb01d9e1001"
      },
      "execution_count": 12,
      "outputs": [
        {
          "output_type": "stream",
          "name": "stdout",
          "text": [
            "Model: \"sequential\"\n",
            "_________________________________________________________________\n",
            " Layer (type)                Output Shape              Param #   \n",
            "=================================================================\n",
            " conv1d (Conv1D)             (None, 40, 128)           1664      \n",
            "                                                                 \n",
            " activation (Activation)     (None, 40, 128)           0         \n",
            "                                                                 \n",
            " dropout (Dropout)           (None, 40, 128)           0         \n",
            "                                                                 \n",
            " max_pooling1d (MaxPooling1D  (None, 8, 128)           0         \n",
            " )                                                               \n",
            "                                                                 \n",
            " conv1d_1 (Conv1D)           (None, 8, 256)            393472    \n",
            "                                                                 \n",
            " activation_1 (Activation)   (None, 8, 256)            0         \n",
            "                                                                 \n",
            " dropout_1 (Dropout)         (None, 8, 256)            0         \n",
            "                                                                 \n",
            " max_pooling1d_1 (MaxPooling  (None, 1, 256)           0         \n",
            " 1D)                                                             \n",
            "                                                                 \n",
            " flatten (Flatten)           (None, 256)               0         \n",
            "                                                                 \n",
            " dense (Dense)               (None, 6)                 1542      \n",
            "                                                                 \n",
            " activation_2 (Activation)   (None, 6)                 0         \n",
            "                                                                 \n",
            "=================================================================\n",
            "Total params: 396,678\n",
            "Trainable params: 396,678\n",
            "Non-trainable params: 0\n",
            "_________________________________________________________________\n"
          ]
        }
      ]
    },
    {
      "cell_type": "code",
      "source": [
        "model.compile(loss='sparse_categorical_crossentropy',\n",
        "              optimizer=opt,\n",
        "              metrics=['accuracy'])"
      ],
      "metadata": {
        "id": "AbMlLNk4DCBM"
      },
      "execution_count": 13,
      "outputs": []
    },
    {
      "cell_type": "code",
      "source": [
        "# Create an Instance of Early Stopping Callback.\n",
        "early_stopping_callback = EarlyStopping(monitor = 'val_loss', patience = 25, mode = 'min', restore_best_weights = True)\n",
        "\n",
        "cnnhistory=model.fit(x_traincnn, y_train, batch_size=16, epochs=500 , shuffle = True, \n",
        "                     validation_data=(X_valid, y_valid) , callbacks = [early_stopping_callback])"
      ],
      "metadata": {
        "id": "RI1v2AuADFhy",
        "colab": {
          "base_uri": "https://localhost:8080/"
        },
        "outputId": "f9901da9-6f2e-445a-94bf-28063431bf07"
      },
      "execution_count": 14,
      "outputs": [
        {
          "output_type": "stream",
          "name": "stdout",
          "text": [
            "Epoch 1/500\n",
            "104/104 [==============================] - 2s 5ms/step - loss: 9.8821 - accuracy: 0.1790 - val_loss: 3.6551 - val_accuracy: 0.1836\n",
            "Epoch 2/500\n",
            "104/104 [==============================] - 0s 4ms/step - loss: 6.7964 - accuracy: 0.2183 - val_loss: 2.8547 - val_accuracy: 0.2367\n",
            "Epoch 3/500\n",
            "104/104 [==============================] - 0s 3ms/step - loss: 5.7641 - accuracy: 0.2376 - val_loss: 2.3043 - val_accuracy: 0.3043\n",
            "Epoch 4/500\n",
            "104/104 [==============================] - 0s 3ms/step - loss: 4.6379 - accuracy: 0.2503 - val_loss: 2.8186 - val_accuracy: 0.1643\n",
            "Epoch 5/500\n",
            "104/104 [==============================] - 0s 3ms/step - loss: 3.9174 - accuracy: 0.2527 - val_loss: 1.6594 - val_accuracy: 0.2899\n",
            "Epoch 6/500\n",
            "104/104 [==============================] - 0s 3ms/step - loss: 3.4348 - accuracy: 0.2654 - val_loss: 1.5815 - val_accuracy: 0.3478\n",
            "Epoch 7/500\n",
            "104/104 [==============================] - 0s 3ms/step - loss: 2.8889 - accuracy: 0.2805 - val_loss: 1.7248 - val_accuracy: 0.3382\n",
            "Epoch 8/500\n",
            "104/104 [==============================] - 0s 4ms/step - loss: 2.6189 - accuracy: 0.3011 - val_loss: 1.4797 - val_accuracy: 0.3961\n",
            "Epoch 9/500\n",
            "104/104 [==============================] - 0s 3ms/step - loss: 2.3433 - accuracy: 0.3126 - val_loss: 1.5987 - val_accuracy: 0.3527\n",
            "Epoch 10/500\n",
            "104/104 [==============================] - 0s 3ms/step - loss: 2.2404 - accuracy: 0.3150 - val_loss: 1.4885 - val_accuracy: 0.2899\n",
            "Epoch 11/500\n",
            "104/104 [==============================] - 0s 3ms/step - loss: 1.9804 - accuracy: 0.3289 - val_loss: 1.5480 - val_accuracy: 0.3188\n",
            "Epoch 12/500\n",
            "104/104 [==============================] - 0s 3ms/step - loss: 1.8893 - accuracy: 0.3356 - val_loss: 1.4598 - val_accuracy: 0.3527\n",
            "Epoch 13/500\n",
            "104/104 [==============================] - 0s 3ms/step - loss: 1.7940 - accuracy: 0.3495 - val_loss: 1.6816 - val_accuracy: 0.3285\n",
            "Epoch 14/500\n",
            "104/104 [==============================] - 0s 3ms/step - loss: 1.7456 - accuracy: 0.3736 - val_loss: 1.4693 - val_accuracy: 0.4010\n",
            "Epoch 15/500\n",
            "104/104 [==============================] - 0s 3ms/step - loss: 1.7177 - accuracy: 0.3603 - val_loss: 1.3750 - val_accuracy: 0.4589\n",
            "Epoch 16/500\n",
            "104/104 [==============================] - 0s 4ms/step - loss: 1.6078 - accuracy: 0.3912 - val_loss: 1.3915 - val_accuracy: 0.4010\n",
            "Epoch 17/500\n",
            "104/104 [==============================] - 0s 4ms/step - loss: 1.5825 - accuracy: 0.4057 - val_loss: 1.4473 - val_accuracy: 0.4783\n",
            "Epoch 18/500\n",
            "104/104 [==============================] - 0s 5ms/step - loss: 1.5552 - accuracy: 0.4051 - val_loss: 1.3752 - val_accuracy: 0.4783\n",
            "Epoch 19/500\n",
            "104/104 [==============================] - 0s 5ms/step - loss: 1.4827 - accuracy: 0.4359 - val_loss: 1.2643 - val_accuracy: 0.5072\n",
            "Epoch 20/500\n",
            "104/104 [==============================] - 0s 5ms/step - loss: 1.4790 - accuracy: 0.4335 - val_loss: 1.2683 - val_accuracy: 0.5217\n",
            "Epoch 21/500\n",
            "104/104 [==============================] - 0s 5ms/step - loss: 1.4422 - accuracy: 0.4383 - val_loss: 1.3343 - val_accuracy: 0.4638\n",
            "Epoch 22/500\n",
            "104/104 [==============================] - 1s 5ms/step - loss: 1.4587 - accuracy: 0.4553 - val_loss: 1.2144 - val_accuracy: 0.5700\n",
            "Epoch 23/500\n",
            "104/104 [==============================] - 0s 5ms/step - loss: 1.3514 - accuracy: 0.4764 - val_loss: 1.1921 - val_accuracy: 0.5362\n",
            "Epoch 24/500\n",
            "104/104 [==============================] - 0s 5ms/step - loss: 1.3372 - accuracy: 0.4649 - val_loss: 1.2350 - val_accuracy: 0.4879\n",
            "Epoch 25/500\n",
            "104/104 [==============================] - 0s 5ms/step - loss: 1.3434 - accuracy: 0.4674 - val_loss: 1.2212 - val_accuracy: 0.5362\n",
            "Epoch 26/500\n",
            "104/104 [==============================] - 0s 5ms/step - loss: 1.2868 - accuracy: 0.4710 - val_loss: 1.1654 - val_accuracy: 0.5700\n",
            "Epoch 27/500\n",
            "104/104 [==============================] - 1s 5ms/step - loss: 1.2591 - accuracy: 0.5097 - val_loss: 1.1010 - val_accuracy: 0.6039\n",
            "Epoch 28/500\n",
            "104/104 [==============================] - 1s 5ms/step - loss: 1.2265 - accuracy: 0.5085 - val_loss: 1.1357 - val_accuracy: 0.5556\n",
            "Epoch 29/500\n",
            "104/104 [==============================] - 0s 5ms/step - loss: 1.2240 - accuracy: 0.5127 - val_loss: 1.1065 - val_accuracy: 0.6329\n",
            "Epoch 30/500\n",
            "104/104 [==============================] - 0s 5ms/step - loss: 1.1963 - accuracy: 0.5212 - val_loss: 1.1218 - val_accuracy: 0.5797\n",
            "Epoch 31/500\n",
            "104/104 [==============================] - 1s 6ms/step - loss: 1.1724 - accuracy: 0.5248 - val_loss: 1.1198 - val_accuracy: 0.6087\n",
            "Epoch 32/500\n",
            "104/104 [==============================] - 1s 5ms/step - loss: 1.1705 - accuracy: 0.5478 - val_loss: 1.0983 - val_accuracy: 0.5749\n",
            "Epoch 33/500\n",
            "104/104 [==============================] - 0s 5ms/step - loss: 1.1479 - accuracy: 0.5490 - val_loss: 1.0812 - val_accuracy: 0.6377\n",
            "Epoch 34/500\n",
            "104/104 [==============================] - 1s 5ms/step - loss: 1.1098 - accuracy: 0.5617 - val_loss: 1.0820 - val_accuracy: 0.6039\n",
            "Epoch 35/500\n",
            "104/104 [==============================] - 1s 5ms/step - loss: 1.0995 - accuracy: 0.5719 - val_loss: 1.0606 - val_accuracy: 0.6473\n",
            "Epoch 36/500\n",
            "104/104 [==============================] - 1s 5ms/step - loss: 1.0939 - accuracy: 0.5659 - val_loss: 1.0442 - val_accuracy: 0.6522\n",
            "Epoch 37/500\n",
            "104/104 [==============================] - 0s 4ms/step - loss: 1.0817 - accuracy: 0.5617 - val_loss: 1.0841 - val_accuracy: 0.5459\n",
            "Epoch 38/500\n",
            "104/104 [==============================] - 0s 4ms/step - loss: 1.0989 - accuracy: 0.5707 - val_loss: 1.1035 - val_accuracy: 0.5121\n",
            "Epoch 39/500\n",
            "104/104 [==============================] - 0s 4ms/step - loss: 1.0613 - accuracy: 0.5834 - val_loss: 1.0448 - val_accuracy: 0.5942\n",
            "Epoch 40/500\n",
            "104/104 [==============================] - 0s 3ms/step - loss: 1.0376 - accuracy: 0.5750 - val_loss: 1.0008 - val_accuracy: 0.6715\n",
            "Epoch 41/500\n",
            "104/104 [==============================] - 0s 3ms/step - loss: 1.0470 - accuracy: 0.5828 - val_loss: 0.9906 - val_accuracy: 0.6280\n",
            "Epoch 42/500\n",
            "104/104 [==============================] - 0s 3ms/step - loss: 1.0399 - accuracy: 0.5865 - val_loss: 1.0210 - val_accuracy: 0.6184\n",
            "Epoch 43/500\n",
            "104/104 [==============================] - 0s 3ms/step - loss: 1.0279 - accuracy: 0.5949 - val_loss: 1.0131 - val_accuracy: 0.5942\n",
            "Epoch 44/500\n",
            "104/104 [==============================] - 0s 3ms/step - loss: 1.0030 - accuracy: 0.6034 - val_loss: 0.9965 - val_accuracy: 0.6522\n",
            "Epoch 45/500\n",
            "104/104 [==============================] - 0s 3ms/step - loss: 0.9998 - accuracy: 0.6022 - val_loss: 0.9764 - val_accuracy: 0.6280\n",
            "Epoch 46/500\n",
            "104/104 [==============================] - 0s 3ms/step - loss: 0.9810 - accuracy: 0.6131 - val_loss: 0.9620 - val_accuracy: 0.5845\n",
            "Epoch 47/500\n",
            "104/104 [==============================] - 0s 3ms/step - loss: 0.9656 - accuracy: 0.6167 - val_loss: 0.9454 - val_accuracy: 0.6522\n",
            "Epoch 48/500\n",
            "104/104 [==============================] - 0s 3ms/step - loss: 0.9811 - accuracy: 0.6161 - val_loss: 0.9529 - val_accuracy: 0.6329\n",
            "Epoch 49/500\n",
            "104/104 [==============================] - 0s 3ms/step - loss: 0.9593 - accuracy: 0.6258 - val_loss: 0.9167 - val_accuracy: 0.7005\n",
            "Epoch 50/500\n",
            "104/104 [==============================] - 0s 3ms/step - loss: 0.9412 - accuracy: 0.6203 - val_loss: 0.9168 - val_accuracy: 0.6860\n",
            "Epoch 51/500\n",
            "104/104 [==============================] - 0s 3ms/step - loss: 0.9399 - accuracy: 0.6354 - val_loss: 0.9308 - val_accuracy: 0.6570\n",
            "Epoch 52/500\n",
            "104/104 [==============================] - 0s 3ms/step - loss: 0.9164 - accuracy: 0.6306 - val_loss: 0.9228 - val_accuracy: 0.6763\n",
            "Epoch 53/500\n",
            "104/104 [==============================] - 0s 3ms/step - loss: 0.9198 - accuracy: 0.6306 - val_loss: 0.9316 - val_accuracy: 0.6377\n",
            "Epoch 54/500\n",
            "104/104 [==============================] - 0s 3ms/step - loss: 0.9087 - accuracy: 0.6372 - val_loss: 0.9361 - val_accuracy: 0.6135\n",
            "Epoch 55/500\n",
            "104/104 [==============================] - 0s 3ms/step - loss: 0.9036 - accuracy: 0.6324 - val_loss: 0.9064 - val_accuracy: 0.6763\n",
            "Epoch 56/500\n",
            "104/104 [==============================] - 0s 3ms/step - loss: 0.9114 - accuracy: 0.6457 - val_loss: 0.9306 - val_accuracy: 0.6184\n",
            "Epoch 57/500\n",
            "104/104 [==============================] - 0s 3ms/step - loss: 0.8749 - accuracy: 0.6511 - val_loss: 0.9130 - val_accuracy: 0.6715\n",
            "Epoch 58/500\n",
            "104/104 [==============================] - 0s 3ms/step - loss: 0.8644 - accuracy: 0.6560 - val_loss: 0.8674 - val_accuracy: 0.6618\n",
            "Epoch 59/500\n",
            "104/104 [==============================] - 0s 3ms/step - loss: 0.8565 - accuracy: 0.6705 - val_loss: 0.8715 - val_accuracy: 0.6618\n",
            "Epoch 60/500\n",
            "104/104 [==============================] - 0s 3ms/step - loss: 0.8676 - accuracy: 0.6518 - val_loss: 0.8822 - val_accuracy: 0.6570\n",
            "Epoch 61/500\n",
            "104/104 [==============================] - 0s 3ms/step - loss: 0.8763 - accuracy: 0.6524 - val_loss: 0.8504 - val_accuracy: 0.7005\n",
            "Epoch 62/500\n",
            "104/104 [==============================] - 0s 3ms/step - loss: 0.8708 - accuracy: 0.6481 - val_loss: 0.8665 - val_accuracy: 0.7005\n",
            "Epoch 63/500\n",
            "104/104 [==============================] - 0s 3ms/step - loss: 0.8489 - accuracy: 0.6542 - val_loss: 0.8318 - val_accuracy: 0.7295\n",
            "Epoch 64/500\n",
            "104/104 [==============================] - 0s 3ms/step - loss: 0.8289 - accuracy: 0.6681 - val_loss: 0.8398 - val_accuracy: 0.7053\n",
            "Epoch 65/500\n",
            "104/104 [==============================] - 0s 3ms/step - loss: 0.8195 - accuracy: 0.6790 - val_loss: 0.8298 - val_accuracy: 0.7198\n",
            "Epoch 66/500\n",
            "104/104 [==============================] - 0s 3ms/step - loss: 0.8138 - accuracy: 0.6729 - val_loss: 0.8414 - val_accuracy: 0.6957\n",
            "Epoch 67/500\n",
            "104/104 [==============================] - 0s 3ms/step - loss: 0.8122 - accuracy: 0.6723 - val_loss: 0.8291 - val_accuracy: 0.6618\n",
            "Epoch 68/500\n",
            "104/104 [==============================] - 0s 3ms/step - loss: 0.8175 - accuracy: 0.6717 - val_loss: 0.8315 - val_accuracy: 0.6812\n",
            "Epoch 69/500\n",
            "104/104 [==============================] - 0s 3ms/step - loss: 0.8211 - accuracy: 0.6657 - val_loss: 0.8521 - val_accuracy: 0.7005\n",
            "Epoch 70/500\n",
            "104/104 [==============================] - 0s 3ms/step - loss: 0.8007 - accuracy: 0.6796 - val_loss: 0.7941 - val_accuracy: 0.7246\n",
            "Epoch 71/500\n",
            "104/104 [==============================] - 0s 3ms/step - loss: 0.7660 - accuracy: 0.6850 - val_loss: 0.8173 - val_accuracy: 0.7101\n",
            "Epoch 72/500\n",
            "104/104 [==============================] - 0s 3ms/step - loss: 0.7694 - accuracy: 0.6953 - val_loss: 0.8045 - val_accuracy: 0.7198\n",
            "Epoch 73/500\n",
            "104/104 [==============================] - 0s 3ms/step - loss: 0.7585 - accuracy: 0.6892 - val_loss: 0.7779 - val_accuracy: 0.7440\n",
            "Epoch 74/500\n",
            "104/104 [==============================] - 0s 3ms/step - loss: 0.7618 - accuracy: 0.6995 - val_loss: 0.8413 - val_accuracy: 0.6908\n",
            "Epoch 75/500\n",
            "104/104 [==============================] - 0s 3ms/step - loss: 0.7650 - accuracy: 0.6941 - val_loss: 0.7880 - val_accuracy: 0.7005\n",
            "Epoch 76/500\n",
            "104/104 [==============================] - 0s 3ms/step - loss: 0.7596 - accuracy: 0.6995 - val_loss: 0.8139 - val_accuracy: 0.6860\n",
            "Epoch 77/500\n",
            "104/104 [==============================] - 0s 3ms/step - loss: 0.7603 - accuracy: 0.6965 - val_loss: 0.7900 - val_accuracy: 0.6908\n",
            "Epoch 78/500\n",
            "104/104 [==============================] - 0s 3ms/step - loss: 0.7461 - accuracy: 0.6965 - val_loss: 0.7645 - val_accuracy: 0.7150\n",
            "Epoch 79/500\n",
            "104/104 [==============================] - 0s 3ms/step - loss: 0.7425 - accuracy: 0.7116 - val_loss: 0.7496 - val_accuracy: 0.7391\n",
            "Epoch 80/500\n",
            "104/104 [==============================] - 0s 3ms/step - loss: 0.7320 - accuracy: 0.7044 - val_loss: 0.7503 - val_accuracy: 0.7295\n",
            "Epoch 81/500\n",
            "104/104 [==============================] - 0s 3ms/step - loss: 0.7235 - accuracy: 0.7177 - val_loss: 0.7793 - val_accuracy: 0.6908\n",
            "Epoch 82/500\n",
            "104/104 [==============================] - 0s 3ms/step - loss: 0.7139 - accuracy: 0.7037 - val_loss: 0.7513 - val_accuracy: 0.7101\n",
            "Epoch 83/500\n",
            "104/104 [==============================] - 0s 3ms/step - loss: 0.7185 - accuracy: 0.7213 - val_loss: 0.7604 - val_accuracy: 0.7053\n",
            "Epoch 84/500\n",
            "104/104 [==============================] - 0s 3ms/step - loss: 0.7122 - accuracy: 0.7177 - val_loss: 0.7327 - val_accuracy: 0.7053\n",
            "Epoch 85/500\n",
            "104/104 [==============================] - 0s 3ms/step - loss: 0.7228 - accuracy: 0.7044 - val_loss: 0.7691 - val_accuracy: 0.6908\n",
            "Epoch 86/500\n",
            "104/104 [==============================] - 0s 3ms/step - loss: 0.7024 - accuracy: 0.7183 - val_loss: 0.7407 - val_accuracy: 0.7246\n",
            "Epoch 87/500\n",
            "104/104 [==============================] - 0s 3ms/step - loss: 0.6843 - accuracy: 0.7316 - val_loss: 0.7284 - val_accuracy: 0.7343\n",
            "Epoch 88/500\n",
            "104/104 [==============================] - 0s 3ms/step - loss: 0.6896 - accuracy: 0.7279 - val_loss: 0.7450 - val_accuracy: 0.7053\n",
            "Epoch 89/500\n",
            "104/104 [==============================] - 0s 3ms/step - loss: 0.6921 - accuracy: 0.7279 - val_loss: 0.7144 - val_accuracy: 0.7343\n",
            "Epoch 90/500\n",
            "104/104 [==============================] - 0s 3ms/step - loss: 0.6601 - accuracy: 0.7406 - val_loss: 0.7516 - val_accuracy: 0.6763\n",
            "Epoch 91/500\n",
            "104/104 [==============================] - 0s 3ms/step - loss: 0.6815 - accuracy: 0.7358 - val_loss: 0.7371 - val_accuracy: 0.7295\n",
            "Epoch 92/500\n",
            "104/104 [==============================] - 0s 3ms/step - loss: 0.6753 - accuracy: 0.7322 - val_loss: 0.7333 - val_accuracy: 0.7246\n",
            "Epoch 93/500\n",
            "104/104 [==============================] - 0s 3ms/step - loss: 0.6653 - accuracy: 0.7388 - val_loss: 0.7463 - val_accuracy: 0.7198\n",
            "Epoch 94/500\n",
            "104/104 [==============================] - 0s 3ms/step - loss: 0.6312 - accuracy: 0.7503 - val_loss: 0.7133 - val_accuracy: 0.7536\n",
            "Epoch 95/500\n",
            "104/104 [==============================] - 0s 3ms/step - loss: 0.6526 - accuracy: 0.7358 - val_loss: 0.7008 - val_accuracy: 0.7440\n",
            "Epoch 96/500\n",
            "104/104 [==============================] - 0s 3ms/step - loss: 0.6291 - accuracy: 0.7491 - val_loss: 0.7244 - val_accuracy: 0.7440\n",
            "Epoch 97/500\n",
            "104/104 [==============================] - 0s 3ms/step - loss: 0.6161 - accuracy: 0.7527 - val_loss: 0.7065 - val_accuracy: 0.7391\n",
            "Epoch 98/500\n",
            "104/104 [==============================] - 0s 3ms/step - loss: 0.6221 - accuracy: 0.7660 - val_loss: 0.7111 - val_accuracy: 0.7198\n",
            "Epoch 99/500\n",
            "104/104 [==============================] - 0s 3ms/step - loss: 0.6512 - accuracy: 0.7497 - val_loss: 0.7620 - val_accuracy: 0.7101\n",
            "Epoch 100/500\n",
            "104/104 [==============================] - 0s 3ms/step - loss: 0.6247 - accuracy: 0.7527 - val_loss: 0.7118 - val_accuracy: 0.7391\n",
            "Epoch 101/500\n",
            "104/104 [==============================] - 0s 3ms/step - loss: 0.6386 - accuracy: 0.7406 - val_loss: 0.7294 - val_accuracy: 0.7440\n",
            "Epoch 102/500\n",
            "104/104 [==============================] - 0s 3ms/step - loss: 0.6043 - accuracy: 0.7654 - val_loss: 0.6869 - val_accuracy: 0.7585\n",
            "Epoch 103/500\n",
            "104/104 [==============================] - 0s 3ms/step - loss: 0.6101 - accuracy: 0.7636 - val_loss: 0.7236 - val_accuracy: 0.7198\n",
            "Epoch 104/500\n",
            "104/104 [==============================] - 0s 3ms/step - loss: 0.5991 - accuracy: 0.7703 - val_loss: 0.7050 - val_accuracy: 0.7440\n",
            "Epoch 105/500\n",
            "104/104 [==============================] - 0s 3ms/step - loss: 0.5865 - accuracy: 0.7763 - val_loss: 0.6977 - val_accuracy: 0.7391\n",
            "Epoch 106/500\n",
            "104/104 [==============================] - 0s 3ms/step - loss: 0.5808 - accuracy: 0.7709 - val_loss: 0.6658 - val_accuracy: 0.7778\n",
            "Epoch 107/500\n",
            "104/104 [==============================] - 0s 3ms/step - loss: 0.6052 - accuracy: 0.7636 - val_loss: 0.6659 - val_accuracy: 0.7633\n",
            "Epoch 108/500\n",
            "104/104 [==============================] - 0s 3ms/step - loss: 0.6188 - accuracy: 0.7594 - val_loss: 0.7104 - val_accuracy: 0.7488\n",
            "Epoch 109/500\n",
            "104/104 [==============================] - 0s 3ms/step - loss: 0.5651 - accuracy: 0.7963 - val_loss: 0.7250 - val_accuracy: 0.7295\n",
            "Epoch 110/500\n",
            "104/104 [==============================] - 0s 4ms/step - loss: 0.5967 - accuracy: 0.7739 - val_loss: 0.6629 - val_accuracy: 0.7440\n",
            "Epoch 111/500\n",
            "104/104 [==============================] - 0s 4ms/step - loss: 0.5777 - accuracy: 0.7787 - val_loss: 0.6848 - val_accuracy: 0.7536\n",
            "Epoch 112/500\n",
            "104/104 [==============================] - 0s 4ms/step - loss: 0.5754 - accuracy: 0.7715 - val_loss: 0.6735 - val_accuracy: 0.7488\n",
            "Epoch 113/500\n",
            "104/104 [==============================] - 0s 4ms/step - loss: 0.5757 - accuracy: 0.7648 - val_loss: 0.7036 - val_accuracy: 0.7391\n",
            "Epoch 114/500\n",
            "104/104 [==============================] - 0s 3ms/step - loss: 0.5451 - accuracy: 0.7866 - val_loss: 0.6486 - val_accuracy: 0.7536\n",
            "Epoch 115/500\n",
            "104/104 [==============================] - 0s 5ms/step - loss: 0.5442 - accuracy: 0.7860 - val_loss: 0.6742 - val_accuracy: 0.7633\n",
            "Epoch 116/500\n",
            "104/104 [==============================] - 0s 3ms/step - loss: 0.5507 - accuracy: 0.7914 - val_loss: 0.6261 - val_accuracy: 0.7826\n",
            "Epoch 117/500\n",
            "104/104 [==============================] - 0s 3ms/step - loss: 0.5371 - accuracy: 0.7969 - val_loss: 0.6549 - val_accuracy: 0.7488\n",
            "Epoch 118/500\n",
            "104/104 [==============================] - 0s 3ms/step - loss: 0.5275 - accuracy: 0.7860 - val_loss: 0.6626 - val_accuracy: 0.7198\n",
            "Epoch 119/500\n",
            "104/104 [==============================] - 0s 3ms/step - loss: 0.5122 - accuracy: 0.8011 - val_loss: 0.6482 - val_accuracy: 0.7536\n",
            "Epoch 120/500\n",
            "104/104 [==============================] - 0s 3ms/step - loss: 0.5472 - accuracy: 0.7854 - val_loss: 0.6542 - val_accuracy: 0.7729\n",
            "Epoch 121/500\n",
            "104/104 [==============================] - 0s 3ms/step - loss: 0.5211 - accuracy: 0.7969 - val_loss: 0.6501 - val_accuracy: 0.7440\n",
            "Epoch 122/500\n",
            "104/104 [==============================] - 0s 3ms/step - loss: 0.5230 - accuracy: 0.7987 - val_loss: 0.6460 - val_accuracy: 0.7585\n",
            "Epoch 123/500\n",
            "104/104 [==============================] - 0s 3ms/step - loss: 0.5374 - accuracy: 0.7781 - val_loss: 0.6331 - val_accuracy: 0.7585\n",
            "Epoch 124/500\n",
            "104/104 [==============================] - 0s 3ms/step - loss: 0.5257 - accuracy: 0.7963 - val_loss: 0.6723 - val_accuracy: 0.7343\n",
            "Epoch 125/500\n",
            "104/104 [==============================] - 0s 3ms/step - loss: 0.5021 - accuracy: 0.8180 - val_loss: 0.6430 - val_accuracy: 0.7585\n",
            "Epoch 126/500\n",
            "104/104 [==============================] - 0s 3ms/step - loss: 0.5058 - accuracy: 0.8150 - val_loss: 0.6364 - val_accuracy: 0.7874\n",
            "Epoch 127/500\n",
            "104/104 [==============================] - 0s 3ms/step - loss: 0.5254 - accuracy: 0.7944 - val_loss: 0.6533 - val_accuracy: 0.7536\n",
            "Epoch 128/500\n",
            "104/104 [==============================] - 0s 3ms/step - loss: 0.4710 - accuracy: 0.8198 - val_loss: 0.7096 - val_accuracy: 0.7488\n",
            "Epoch 129/500\n",
            "104/104 [==============================] - 0s 3ms/step - loss: 0.5138 - accuracy: 0.8005 - val_loss: 0.6518 - val_accuracy: 0.7681\n",
            "Epoch 130/500\n",
            "104/104 [==============================] - 0s 3ms/step - loss: 0.4887 - accuracy: 0.8077 - val_loss: 0.6323 - val_accuracy: 0.7633\n",
            "Epoch 131/500\n",
            "104/104 [==============================] - 0s 3ms/step - loss: 0.4627 - accuracy: 0.8235 - val_loss: 0.6340 - val_accuracy: 0.7585\n",
            "Epoch 132/500\n",
            "104/104 [==============================] - 0s 3ms/step - loss: 0.4823 - accuracy: 0.8108 - val_loss: 0.6116 - val_accuracy: 0.7826\n",
            "Epoch 133/500\n",
            "104/104 [==============================] - 0s 3ms/step - loss: 0.4978 - accuracy: 0.8041 - val_loss: 0.6313 - val_accuracy: 0.7585\n",
            "Epoch 134/500\n",
            "104/104 [==============================] - 0s 3ms/step - loss: 0.4602 - accuracy: 0.8229 - val_loss: 0.6770 - val_accuracy: 0.7585\n",
            "Epoch 135/500\n",
            "104/104 [==============================] - 0s 3ms/step - loss: 0.4323 - accuracy: 0.8380 - val_loss: 0.6178 - val_accuracy: 0.7585\n",
            "Epoch 136/500\n",
            "104/104 [==============================] - 0s 3ms/step - loss: 0.4779 - accuracy: 0.8083 - val_loss: 0.6351 - val_accuracy: 0.7633\n",
            "Epoch 137/500\n",
            "104/104 [==============================] - 0s 3ms/step - loss: 0.4456 - accuracy: 0.8301 - val_loss: 0.6158 - val_accuracy: 0.7440\n",
            "Epoch 138/500\n",
            "104/104 [==============================] - 0s 4ms/step - loss: 0.4823 - accuracy: 0.8150 - val_loss: 0.6345 - val_accuracy: 0.7681\n",
            "Epoch 139/500\n",
            "104/104 [==============================] - 0s 3ms/step - loss: 0.4626 - accuracy: 0.8192 - val_loss: 0.6251 - val_accuracy: 0.7488\n",
            "Epoch 140/500\n",
            "104/104 [==============================] - 0s 3ms/step - loss: 0.4603 - accuracy: 0.8138 - val_loss: 0.6646 - val_accuracy: 0.7585\n",
            "Epoch 141/500\n",
            "104/104 [==============================] - 0s 3ms/step - loss: 0.4555 - accuracy: 0.8301 - val_loss: 0.6083 - val_accuracy: 0.7826\n",
            "Epoch 142/500\n",
            "104/104 [==============================] - 0s 3ms/step - loss: 0.4675 - accuracy: 0.8150 - val_loss: 0.6003 - val_accuracy: 0.7826\n",
            "Epoch 143/500\n",
            "104/104 [==============================] - 0s 3ms/step - loss: 0.4385 - accuracy: 0.8283 - val_loss: 0.5888 - val_accuracy: 0.7729\n",
            "Epoch 144/500\n",
            "104/104 [==============================] - 0s 3ms/step - loss: 0.4489 - accuracy: 0.8198 - val_loss: 0.6171 - val_accuracy: 0.7633\n",
            "Epoch 145/500\n",
            "104/104 [==============================] - 0s 3ms/step - loss: 0.4472 - accuracy: 0.8222 - val_loss: 0.5984 - val_accuracy: 0.7729\n",
            "Epoch 146/500\n",
            "104/104 [==============================] - 0s 3ms/step - loss: 0.4308 - accuracy: 0.8337 - val_loss: 0.5875 - val_accuracy: 0.7729\n",
            "Epoch 147/500\n",
            "104/104 [==============================] - 0s 3ms/step - loss: 0.4329 - accuracy: 0.8368 - val_loss: 0.6108 - val_accuracy: 0.7729\n",
            "Epoch 148/500\n",
            "104/104 [==============================] - 0s 3ms/step - loss: 0.4438 - accuracy: 0.8362 - val_loss: 0.6101 - val_accuracy: 0.7971\n",
            "Epoch 149/500\n",
            "104/104 [==============================] - 0s 3ms/step - loss: 0.4314 - accuracy: 0.8398 - val_loss: 0.6066 - val_accuracy: 0.7536\n",
            "Epoch 150/500\n",
            "104/104 [==============================] - 0s 3ms/step - loss: 0.4340 - accuracy: 0.8464 - val_loss: 0.5717 - val_accuracy: 0.7874\n",
            "Epoch 151/500\n",
            "104/104 [==============================] - 0s 3ms/step - loss: 0.3984 - accuracy: 0.8489 - val_loss: 0.6070 - val_accuracy: 0.7874\n",
            "Epoch 152/500\n",
            "104/104 [==============================] - 0s 3ms/step - loss: 0.4240 - accuracy: 0.8325 - val_loss: 0.6105 - val_accuracy: 0.7778\n",
            "Epoch 153/500\n",
            "104/104 [==============================] - 0s 3ms/step - loss: 0.4011 - accuracy: 0.8531 - val_loss: 0.5847 - val_accuracy: 0.8116\n",
            "Epoch 154/500\n",
            "104/104 [==============================] - 0s 3ms/step - loss: 0.4154 - accuracy: 0.8476 - val_loss: 0.5922 - val_accuracy: 0.7681\n",
            "Epoch 155/500\n",
            "104/104 [==============================] - 0s 3ms/step - loss: 0.4072 - accuracy: 0.8452 - val_loss: 0.5760 - val_accuracy: 0.7874\n",
            "Epoch 156/500\n",
            "104/104 [==============================] - 0s 3ms/step - loss: 0.4343 - accuracy: 0.8368 - val_loss: 0.5859 - val_accuracy: 0.7874\n",
            "Epoch 157/500\n",
            "104/104 [==============================] - 0s 3ms/step - loss: 0.4091 - accuracy: 0.8392 - val_loss: 0.5540 - val_accuracy: 0.8019\n",
            "Epoch 158/500\n",
            "104/104 [==============================] - 0s 3ms/step - loss: 0.3744 - accuracy: 0.8682 - val_loss: 0.5783 - val_accuracy: 0.8019\n",
            "Epoch 159/500\n",
            "104/104 [==============================] - 0s 3ms/step - loss: 0.3882 - accuracy: 0.8603 - val_loss: 0.5631 - val_accuracy: 0.8068\n",
            "Epoch 160/500\n",
            "104/104 [==============================] - 0s 3ms/step - loss: 0.3974 - accuracy: 0.8446 - val_loss: 0.5600 - val_accuracy: 0.7826\n",
            "Epoch 161/500\n",
            "104/104 [==============================] - 0s 3ms/step - loss: 0.3786 - accuracy: 0.8513 - val_loss: 0.6039 - val_accuracy: 0.7778\n",
            "Epoch 162/500\n",
            "104/104 [==============================] - 0s 3ms/step - loss: 0.3771 - accuracy: 0.8591 - val_loss: 0.5709 - val_accuracy: 0.7778\n",
            "Epoch 163/500\n",
            "104/104 [==============================] - 0s 3ms/step - loss: 0.3871 - accuracy: 0.8489 - val_loss: 0.5859 - val_accuracy: 0.7971\n",
            "Epoch 164/500\n",
            "104/104 [==============================] - 0s 3ms/step - loss: 0.3917 - accuracy: 0.8470 - val_loss: 0.5923 - val_accuracy: 0.8019\n",
            "Epoch 165/500\n",
            "104/104 [==============================] - 0s 3ms/step - loss: 0.3654 - accuracy: 0.8646 - val_loss: 0.6452 - val_accuracy: 0.7778\n",
            "Epoch 166/500\n",
            "104/104 [==============================] - 0s 3ms/step - loss: 0.3968 - accuracy: 0.8482 - val_loss: 0.6148 - val_accuracy: 0.7826\n",
            "Epoch 167/500\n",
            "104/104 [==============================] - 0s 3ms/step - loss: 0.3667 - accuracy: 0.8688 - val_loss: 0.5665 - val_accuracy: 0.7681\n",
            "Epoch 168/500\n",
            "104/104 [==============================] - 0s 3ms/step - loss: 0.3743 - accuracy: 0.8597 - val_loss: 0.5627 - val_accuracy: 0.8068\n",
            "Epoch 169/500\n",
            "104/104 [==============================] - 0s 3ms/step - loss: 0.3665 - accuracy: 0.8634 - val_loss: 0.5739 - val_accuracy: 0.7778\n",
            "Epoch 170/500\n",
            "104/104 [==============================] - 0s 3ms/step - loss: 0.3568 - accuracy: 0.8724 - val_loss: 0.5469 - val_accuracy: 0.8164\n",
            "Epoch 171/500\n",
            "104/104 [==============================] - 0s 3ms/step - loss: 0.3612 - accuracy: 0.8767 - val_loss: 0.5804 - val_accuracy: 0.7488\n",
            "Epoch 172/500\n",
            "104/104 [==============================] - 0s 3ms/step - loss: 0.3627 - accuracy: 0.8622 - val_loss: 0.5488 - val_accuracy: 0.7971\n",
            "Epoch 173/500\n",
            "104/104 [==============================] - 0s 3ms/step - loss: 0.3622 - accuracy: 0.8664 - val_loss: 0.5596 - val_accuracy: 0.7923\n",
            "Epoch 174/500\n",
            "104/104 [==============================] - 0s 3ms/step - loss: 0.3606 - accuracy: 0.8718 - val_loss: 0.5383 - val_accuracy: 0.8116\n",
            "Epoch 175/500\n",
            "104/104 [==============================] - 0s 3ms/step - loss: 0.3427 - accuracy: 0.8742 - val_loss: 0.5494 - val_accuracy: 0.8261\n",
            "Epoch 176/500\n",
            "104/104 [==============================] - 0s 3ms/step - loss: 0.3604 - accuracy: 0.8622 - val_loss: 0.5826 - val_accuracy: 0.8116\n",
            "Epoch 177/500\n",
            "104/104 [==============================] - 0s 3ms/step - loss: 0.3692 - accuracy: 0.8561 - val_loss: 0.6135 - val_accuracy: 0.7633\n",
            "Epoch 178/500\n",
            "104/104 [==============================] - 0s 3ms/step - loss: 0.3445 - accuracy: 0.8664 - val_loss: 0.5442 - val_accuracy: 0.8261\n",
            "Epoch 179/500\n",
            "104/104 [==============================] - 0s 3ms/step - loss: 0.3480 - accuracy: 0.8634 - val_loss: 0.5445 - val_accuracy: 0.7971\n",
            "Epoch 180/500\n",
            "104/104 [==============================] - 0s 3ms/step - loss: 0.3388 - accuracy: 0.8682 - val_loss: 0.5572 - val_accuracy: 0.8068\n",
            "Epoch 181/500\n",
            "104/104 [==============================] - 0s 3ms/step - loss: 0.3380 - accuracy: 0.8748 - val_loss: 0.5458 - val_accuracy: 0.7874\n",
            "Epoch 182/500\n",
            "104/104 [==============================] - 0s 3ms/step - loss: 0.3218 - accuracy: 0.8809 - val_loss: 0.5650 - val_accuracy: 0.7971\n",
            "Epoch 183/500\n",
            "104/104 [==============================] - 0s 3ms/step - loss: 0.3350 - accuracy: 0.8797 - val_loss: 0.5344 - val_accuracy: 0.8164\n",
            "Epoch 184/500\n",
            "104/104 [==============================] - 0s 3ms/step - loss: 0.3440 - accuracy: 0.8700 - val_loss: 0.5544 - val_accuracy: 0.8068\n",
            "Epoch 185/500\n",
            "104/104 [==============================] - 0s 3ms/step - loss: 0.3294 - accuracy: 0.8664 - val_loss: 0.5698 - val_accuracy: 0.7971\n",
            "Epoch 186/500\n",
            "104/104 [==============================] - 0s 3ms/step - loss: 0.3291 - accuracy: 0.8724 - val_loss: 0.5599 - val_accuracy: 0.7923\n",
            "Epoch 187/500\n",
            "104/104 [==============================] - 0s 3ms/step - loss: 0.3302 - accuracy: 0.8736 - val_loss: 0.5914 - val_accuracy: 0.7923\n",
            "Epoch 188/500\n",
            "104/104 [==============================] - 0s 3ms/step - loss: 0.3095 - accuracy: 0.8894 - val_loss: 0.5551 - val_accuracy: 0.8213\n",
            "Epoch 189/500\n",
            "104/104 [==============================] - 0s 3ms/step - loss: 0.3271 - accuracy: 0.8773 - val_loss: 0.5585 - val_accuracy: 0.8213\n",
            "Epoch 190/500\n",
            "104/104 [==============================] - 0s 3ms/step - loss: 0.3492 - accuracy: 0.8640 - val_loss: 0.5572 - val_accuracy: 0.8164\n",
            "Epoch 191/500\n",
            "104/104 [==============================] - 0s 3ms/step - loss: 0.3092 - accuracy: 0.8875 - val_loss: 0.5468 - val_accuracy: 0.8019\n",
            "Epoch 192/500\n",
            "104/104 [==============================] - 0s 3ms/step - loss: 0.3225 - accuracy: 0.8742 - val_loss: 0.5228 - val_accuracy: 0.8213\n",
            "Epoch 193/500\n",
            "104/104 [==============================] - 0s 3ms/step - loss: 0.3270 - accuracy: 0.8694 - val_loss: 0.5519 - val_accuracy: 0.7923\n",
            "Epoch 194/500\n",
            "104/104 [==============================] - 0s 3ms/step - loss: 0.2964 - accuracy: 0.8857 - val_loss: 0.5314 - val_accuracy: 0.8213\n",
            "Epoch 195/500\n",
            "104/104 [==============================] - 0s 3ms/step - loss: 0.3148 - accuracy: 0.8809 - val_loss: 0.5375 - val_accuracy: 0.7923\n",
            "Epoch 196/500\n",
            "104/104 [==============================] - 0s 3ms/step - loss: 0.3015 - accuracy: 0.8894 - val_loss: 0.5484 - val_accuracy: 0.8019\n",
            "Epoch 197/500\n",
            "104/104 [==============================] - 0s 3ms/step - loss: 0.2912 - accuracy: 0.8894 - val_loss: 0.5519 - val_accuracy: 0.8164\n",
            "Epoch 198/500\n",
            "104/104 [==============================] - 0s 3ms/step - loss: 0.3031 - accuracy: 0.8881 - val_loss: 0.5345 - val_accuracy: 0.8261\n",
            "Epoch 199/500\n",
            "104/104 [==============================] - 0s 3ms/step - loss: 0.3070 - accuracy: 0.8972 - val_loss: 0.5542 - val_accuracy: 0.7778\n",
            "Epoch 200/500\n",
            "104/104 [==============================] - 0s 3ms/step - loss: 0.2839 - accuracy: 0.8966 - val_loss: 0.5363 - val_accuracy: 0.8309\n",
            "Epoch 201/500\n",
            "104/104 [==============================] - 0s 3ms/step - loss: 0.2907 - accuracy: 0.8881 - val_loss: 0.5176 - val_accuracy: 0.8357\n",
            "Epoch 202/500\n",
            "104/104 [==============================] - 0s 3ms/step - loss: 0.2955 - accuracy: 0.8869 - val_loss: 0.5496 - val_accuracy: 0.8068\n",
            "Epoch 203/500\n",
            "104/104 [==============================] - 0s 3ms/step - loss: 0.2978 - accuracy: 0.8906 - val_loss: 0.5271 - val_accuracy: 0.8261\n",
            "Epoch 204/500\n",
            "104/104 [==============================] - 0s 3ms/step - loss: 0.3287 - accuracy: 0.8779 - val_loss: 0.5077 - val_accuracy: 0.8164\n",
            "Epoch 205/500\n",
            "104/104 [==============================] - 0s 3ms/step - loss: 0.3004 - accuracy: 0.8839 - val_loss: 0.5163 - val_accuracy: 0.8068\n",
            "Epoch 206/500\n",
            "104/104 [==============================] - 0s 3ms/step - loss: 0.2796 - accuracy: 0.8978 - val_loss: 0.5416 - val_accuracy: 0.8019\n",
            "Epoch 207/500\n",
            "104/104 [==============================] - 0s 3ms/step - loss: 0.2788 - accuracy: 0.8930 - val_loss: 0.5103 - val_accuracy: 0.8116\n",
            "Epoch 208/500\n",
            "104/104 [==============================] - 0s 3ms/step - loss: 0.2705 - accuracy: 0.9045 - val_loss: 0.5096 - val_accuracy: 0.8309\n",
            "Epoch 209/500\n",
            "104/104 [==============================] - 0s 3ms/step - loss: 0.2884 - accuracy: 0.8966 - val_loss: 0.5718 - val_accuracy: 0.7971\n",
            "Epoch 210/500\n",
            "104/104 [==============================] - 0s 3ms/step - loss: 0.2842 - accuracy: 0.8906 - val_loss: 0.5675 - val_accuracy: 0.8068\n",
            "Epoch 211/500\n",
            "104/104 [==============================] - 0s 3ms/step - loss: 0.2823 - accuracy: 0.8960 - val_loss: 0.5348 - val_accuracy: 0.8164\n",
            "Epoch 212/500\n",
            "104/104 [==============================] - 0s 3ms/step - loss: 0.2854 - accuracy: 0.8906 - val_loss: 0.5427 - val_accuracy: 0.8213\n",
            "Epoch 213/500\n",
            "104/104 [==============================] - 0s 3ms/step - loss: 0.2554 - accuracy: 0.9051 - val_loss: 0.4914 - val_accuracy: 0.8357\n",
            "Epoch 214/500\n",
            "104/104 [==============================] - 0s 3ms/step - loss: 0.2778 - accuracy: 0.8924 - val_loss: 0.5044 - val_accuracy: 0.8261\n",
            "Epoch 215/500\n",
            "104/104 [==============================] - 0s 3ms/step - loss: 0.2609 - accuracy: 0.9063 - val_loss: 0.5511 - val_accuracy: 0.8019\n",
            "Epoch 216/500\n",
            "104/104 [==============================] - 0s 3ms/step - loss: 0.2719 - accuracy: 0.8912 - val_loss: 0.5430 - val_accuracy: 0.8164\n",
            "Epoch 217/500\n",
            "104/104 [==============================] - 0s 3ms/step - loss: 0.2812 - accuracy: 0.9069 - val_loss: 0.5275 - val_accuracy: 0.8164\n",
            "Epoch 218/500\n",
            "104/104 [==============================] - 0s 3ms/step - loss: 0.2772 - accuracy: 0.8888 - val_loss: 0.5021 - val_accuracy: 0.8213\n",
            "Epoch 219/500\n",
            "104/104 [==============================] - 0s 3ms/step - loss: 0.2566 - accuracy: 0.9015 - val_loss: 0.5226 - val_accuracy: 0.8357\n",
            "Epoch 220/500\n",
            "104/104 [==============================] - 0s 3ms/step - loss: 0.2679 - accuracy: 0.9039 - val_loss: 0.5508 - val_accuracy: 0.8116\n",
            "Epoch 221/500\n",
            "104/104 [==============================] - 0s 3ms/step - loss: 0.2571 - accuracy: 0.9008 - val_loss: 0.5288 - val_accuracy: 0.8309\n",
            "Epoch 222/500\n",
            "104/104 [==============================] - 0s 3ms/step - loss: 0.2636 - accuracy: 0.8984 - val_loss: 0.5305 - val_accuracy: 0.8068\n",
            "Epoch 223/500\n",
            "104/104 [==============================] - 0s 3ms/step - loss: 0.2671 - accuracy: 0.8996 - val_loss: 0.5239 - val_accuracy: 0.7826\n",
            "Epoch 224/500\n",
            "104/104 [==============================] - 0s 3ms/step - loss: 0.2453 - accuracy: 0.9069 - val_loss: 0.5166 - val_accuracy: 0.8406\n",
            "Epoch 225/500\n",
            "104/104 [==============================] - 0s 3ms/step - loss: 0.2475 - accuracy: 0.9081 - val_loss: 0.5758 - val_accuracy: 0.8116\n",
            "Epoch 226/500\n",
            "104/104 [==============================] - 0s 3ms/step - loss: 0.2730 - accuracy: 0.8912 - val_loss: 0.5518 - val_accuracy: 0.8116\n",
            "Epoch 227/500\n",
            "104/104 [==============================] - 0s 3ms/step - loss: 0.2451 - accuracy: 0.9105 - val_loss: 0.5901 - val_accuracy: 0.7923\n",
            "Epoch 228/500\n",
            "104/104 [==============================] - 0s 3ms/step - loss: 0.2309 - accuracy: 0.9178 - val_loss: 0.5287 - val_accuracy: 0.8116\n",
            "Epoch 229/500\n",
            "104/104 [==============================] - 0s 3ms/step - loss: 0.2374 - accuracy: 0.9172 - val_loss: 0.5404 - val_accuracy: 0.8164\n",
            "Epoch 230/500\n",
            "104/104 [==============================] - 0s 3ms/step - loss: 0.2357 - accuracy: 0.9111 - val_loss: 0.5272 - val_accuracy: 0.8261\n",
            "Epoch 231/500\n",
            "104/104 [==============================] - 0s 3ms/step - loss: 0.2708 - accuracy: 0.9008 - val_loss: 0.5197 - val_accuracy: 0.8309\n",
            "Epoch 232/500\n",
            "104/104 [==============================] - 0s 3ms/step - loss: 0.2412 - accuracy: 0.9123 - val_loss: 0.5387 - val_accuracy: 0.8261\n",
            "Epoch 233/500\n",
            "104/104 [==============================] - 0s 3ms/step - loss: 0.2475 - accuracy: 0.9063 - val_loss: 0.5041 - val_accuracy: 0.8164\n",
            "Epoch 234/500\n",
            "104/104 [==============================] - 0s 3ms/step - loss: 0.2434 - accuracy: 0.9081 - val_loss: 0.5342 - val_accuracy: 0.8164\n",
            "Epoch 235/500\n",
            "104/104 [==============================] - 0s 3ms/step - loss: 0.2582 - accuracy: 0.8996 - val_loss: 0.5277 - val_accuracy: 0.8261\n",
            "Epoch 236/500\n",
            "104/104 [==============================] - 0s 3ms/step - loss: 0.2582 - accuracy: 0.9033 - val_loss: 0.5158 - val_accuracy: 0.8116\n",
            "Epoch 237/500\n",
            "104/104 [==============================] - 0s 3ms/step - loss: 0.2309 - accuracy: 0.9166 - val_loss: 0.5276 - val_accuracy: 0.8261\n",
            "Epoch 238/500\n",
            "104/104 [==============================] - 0s 3ms/step - loss: 0.2775 - accuracy: 0.8948 - val_loss: 0.5023 - val_accuracy: 0.8213\n"
          ]
        }
      ]
    },
    {
      "cell_type": "code",
      "source": [
        "plt.plot(cnnhistory.history['loss'])\n",
        "plt.plot(cnnhistory.history['val_loss'])\n",
        "plt.title('model loss')\n",
        "plt.ylabel('loss')\n",
        "plt.xlabel('epoch')\n",
        "plt.legend(['train','test'], loc='upper left')\n",
        "plt.show()"
      ],
      "metadata": {
        "id": "oQYnuaCrDH_A",
        "colab": {
          "base_uri": "https://localhost:8080/",
          "height": 295
        },
        "outputId": "15adfe98-fb0c-49c9-b24a-764f5426cd3b"
      },
      "execution_count": 15,
      "outputs": [
        {
          "output_type": "display_data",
          "data": {
            "text/plain": [
              "<Figure size 432x288 with 1 Axes>"
            ],
            "image/png": "[encoded data removed]"
          },
          "metadata": {
            "needs_background": "light"
          }
        }
      ]
    },
    {
      "cell_type": "code",
      "source": [
        "plt.plot(cnnhistory.history['accuracy'])\n",
        "plt.plot(cnnhistory.history['val_accuracy'])\n",
        "plt.title('model accuracy')\n",
        "plt.ylabel('accuracy')\n",
        "plt.xlabel('epoch')\n",
        "plt.legend(['train','test'], loc='upper left')\n",
        "plt.show()"
      ],
      "metadata": {
        "id": "IFkTuO8nDNdq",
        "colab": {
          "base_uri": "https://localhost:8080/",
          "height": 295
        },
        "outputId": "1ae6aa32-3a43-44ce-8604-9b10f43b49cf"
      },
      "execution_count": 16,
      "outputs": [
        {
          "output_type": "display_data",
          "data": {
            "text/plain": [
              "<Figure size 432x288 with 1 Axes>"
            ],
            "image/png": "[encoded data removed]"
          },
          "metadata": {
            "needs_background": "light"
          }
        }
      ]
    },
    {
      "cell_type": "code",
      "source": [
        "predictions = model.predict(x_testcnn)"
      ],
      "metadata": {
        "id": "A2xtrN5wDQgY"
      },
      "execution_count": 17,
      "outputs": []
    },
    {
      "cell_type": "code",
      "source": [
        "predictions"
      ],
      "metadata": {
        "id": "_f_ohjXKDUpY",
        "colab": {
          "base_uri": "https://localhost:8080/"
        },
        "outputId": "980cc9f7-dac1-4899-b712-c3acedbb1a2d"
      },
      "execution_count": 18,
      "outputs": [
        {
          "output_type": "execute_result",
          "data": {
            "text/plain": [
              "array([[1.6462904e-01, 2.5945965e-02, 5.2550930e-01, 2.7058688e-01,\n",
              "        9.8117776e-03, 3.5169898e-03],\n",
              "       [2.6809264e-05, 2.8948152e-06, 1.3136664e-08, 9.8886335e-01,\n",
              "        1.2131575e-06, 1.1105770e-02],\n",
              "       [2.5466052e-01, 7.2223984e-02, 1.6052879e-02, 6.0954922e-01,\n",
              "        2.8584804e-03, 4.4654831e-02],\n",
              "       ...,\n",
              "       [7.4475264e-07, 4.9818379e-12, 9.2233931e-06, 3.6669741e-07,\n",
              "        9.9964774e-01, 3.4191500e-04],\n",
              "       [5.3453516e-07, 8.5858452e-01, 1.3956508e-01, 6.3642772e-04,\n",
              "        1.9524497e-04, 1.0182626e-03],\n",
              "       [1.8048964e-05, 1.4143379e-06, 3.9650038e-02, 1.4178506e-06,\n",
              "        9.5811510e-01, 2.2139682e-03]], dtype=float32)"
            ]
          },
          "metadata": {},
          "execution_count": 18
        }
      ]
    },
    {
      "cell_type": "code",
      "source": [
        "y_test"
      ],
      "metadata": {
        "id": "cmA2bFgsDW3D",
        "colab": {
          "base_uri": "https://localhost:8080/"
        },
        "outputId": "7877c504-ad8b-48fb-f43d-3c46f04a3821"
      },
      "execution_count": 19,
      "outputs": [
        {
          "output_type": "execute_result",
          "data": {
            "text/plain": [
              "array([3, 3, 3, 0, 4, 4, 1, 2, 5, 0, 5, 3, 2, 2, 1, 4, 4, 5, 2, 4, 1, 2,\n",
              "       3, 5, 4, 2, 1, 2, 2, 2, 2, 5, 2, 5, 3, 1, 2, 0, 4, 5, 2, 3, 2, 2,\n",
              "       5, 2, 0, 1, 3, 4, 4, 5, 1, 1, 4, 4, 5, 1, 1, 1, 0, 1, 5, 0, 4, 1,\n",
              "       1, 0, 1, 4, 1, 0, 4, 1, 3, 1, 2, 2, 1, 2, 3, 0, 5, 3, 5, 5, 2, 4,\n",
              "       5, 1, 5, 1, 5, 3, 4, 1, 4, 1, 5, 4, 5, 1, 2, 1, 1, 5, 1, 3, 2, 5,\n",
              "       2, 1, 3, 5, 4, 4, 0, 0, 3, 1, 2, 2, 3, 5, 1, 5, 3, 4, 2, 2, 0, 2,\n",
              "       2, 5, 5, 0, 3, 3, 2, 2, 0, 3, 4, 0, 4, 2, 4, 5, 4, 1, 5, 3, 2, 2,\n",
              "       5, 4, 3, 3, 4, 3, 3, 4, 1, 5, 2, 3, 2, 2, 0, 2, 1, 3, 1, 2, 2, 5,\n",
              "       5, 1, 4, 2, 2, 1, 1, 3, 3, 5, 5, 2, 5, 1, 5, 0, 3, 3, 0, 5, 1, 4,\n",
              "       1, 4, 2, 5, 5, 1, 4, 2, 4])"
            ]
          },
          "metadata": {},
          "execution_count": 19
        }
      ]
    },
    {
      "cell_type": "code",
      "source": [
        "new_Ytest = y_test.astype(int)"
      ],
      "metadata": {
        "id": "0PHDKWJWDY3g"
      },
      "execution_count": 20,
      "outputs": []
    },
    {
      "cell_type": "code",
      "source": [
        "new_Ytest"
      ],
      "metadata": {
        "id": "k68v2i-pDbZE",
        "colab": {
          "base_uri": "https://localhost:8080/"
        },
        "outputId": "b10188ca-d20e-442d-8652-584423c3fee9"
      },
      "execution_count": 21,
      "outputs": [
        {
          "output_type": "execute_result",
          "data": {
            "text/plain": [
              "array([3, 3, 3, 0, 4, 4, 1, 2, 5, 0, 5, 3, 2, 2, 1, 4, 4, 5, 2, 4, 1, 2,\n",
              "       3, 5, 4, 2, 1, 2, 2, 2, 2, 5, 2, 5, 3, 1, 2, 0, 4, 5, 2, 3, 2, 2,\n",
              "       5, 2, 0, 1, 3, 4, 4, 5, 1, 1, 4, 4, 5, 1, 1, 1, 0, 1, 5, 0, 4, 1,\n",
              "       1, 0, 1, 4, 1, 0, 4, 1, 3, 1, 2, 2, 1, 2, 3, 0, 5, 3, 5, 5, 2, 4,\n",
              "       5, 1, 5, 1, 5, 3, 4, 1, 4, 1, 5, 4, 5, 1, 2, 1, 1, 5, 1, 3, 2, 5,\n",
              "       2, 1, 3, 5, 4, 4, 0, 0, 3, 1, 2, 2, 3, 5, 1, 5, 3, 4, 2, 2, 0, 2,\n",
              "       2, 5, 5, 0, 3, 3, 2, 2, 0, 3, 4, 0, 4, 2, 4, 5, 4, 1, 5, 3, 2, 2,\n",
              "       5, 4, 3, 3, 4, 3, 3, 4, 1, 5, 2, 3, 2, 2, 0, 2, 1, 3, 1, 2, 2, 5,\n",
              "       5, 1, 4, 2, 2, 1, 1, 3, 3, 5, 5, 2, 5, 1, 5, 0, 3, 3, 0, 5, 1, 4,\n",
              "       1, 4, 2, 5, 5, 1, 4, 2, 4])"
            ]
          },
          "metadata": {},
          "execution_count": 21
        }
      ]
    },
    {
      "cell_type": "code",
      "source": [
        "preds1=predictions.argmax(axis=1)\n",
        "preds1"
      ],
      "metadata": {
        "id": "4_cAI39VFhtp",
        "colab": {
          "base_uri": "https://localhost:8080/"
        },
        "outputId": "45350da5-4a1c-4fd5-a584-1fd8759c72c5"
      },
      "execution_count": 22,
      "outputs": [
        {
          "output_type": "execute_result",
          "data": {
            "text/plain": [
              "array([2, 3, 3, 0, 4, 4, 1, 2, 5, 1, 5, 3, 2, 2, 0, 4, 4, 3, 3, 4, 2, 2,\n",
              "       0, 3, 4, 2, 1, 2, 2, 2, 2, 5, 2, 5, 3, 1, 2, 0, 4, 5, 2, 3, 1, 2,\n",
              "       3, 2, 1, 1, 3, 4, 4, 2, 1, 1, 4, 4, 5, 1, 1, 1, 0, 1, 5, 0, 4, 1,\n",
              "       1, 1, 1, 4, 0, 0, 4, 1, 5, 1, 2, 2, 1, 2, 1, 0, 5, 3, 5, 5, 2, 3,\n",
              "       3, 1, 0, 1, 5, 3, 2, 1, 3, 0, 5, 4, 5, 1, 2, 1, 1, 5, 1, 3, 2, 5,\n",
              "       0, 0, 3, 0, 4, 4, 0, 0, 3, 1, 1, 2, 1, 3, 1, 3, 3, 5, 2, 2, 0, 2,\n",
              "       2, 5, 3, 0, 5, 3, 2, 2, 0, 3, 4, 0, 4, 2, 4, 2, 4, 1, 5, 3, 2, 2,\n",
              "       5, 4, 3, 3, 4, 5, 3, 4, 1, 5, 2, 3, 2, 2, 0, 2, 1, 3, 1, 2, 2, 5,\n",
              "       5, 1, 4, 2, 2, 1, 1, 3, 5, 5, 5, 2, 3, 1, 2, 1, 3, 3, 2, 2, 1, 4,\n",
              "       1, 3, 3, 5, 5, 3, 4, 1, 4])"
            ]
          },
          "metadata": {},
          "execution_count": 22
        }
      ]
    },
    {
      "cell_type": "code",
      "source": [
        "abc = preds1.astype(int).flatten()"
      ],
      "metadata": {
        "id": "H4WEmM60NfQn"
      },
      "execution_count": 23,
      "outputs": []
    },
    {
      "cell_type": "code",
      "source": [
        "from sklearn.metrics import confusion_matrix\n",
        "c = confusion_matrix(new_Ytest, abc) \n",
        "c"
      ],
      "metadata": {
        "id": "bKEBeEBlFjB8",
        "colab": {
          "base_uri": "https://localhost:8080/"
        },
        "outputId": "2ca0360f-5371-4223-cd2e-037058b0e7d1"
      },
      "execution_count": 24,
      "outputs": [
        {
          "output_type": "execute_result",
          "data": {
            "text/plain": [
              "array([[13,  4,  1,  0,  0,  0],\n",
              "       [ 4, 35,  1,  1,  0,  0],\n",
              "       [ 1,  3, 39,  2,  0,  0],\n",
              "       [ 1,  2,  1, 23,  0,  4],\n",
              "       [ 0,  0,  1,  3, 28,  1],\n",
              "       [ 2,  0,  4,  8,  0, 25]])"
            ]
          },
          "metadata": {},
          "execution_count": 24
        }
      ]
    },
    {
      "cell_type": "code",
      "source": [
        "y_test"
      ],
      "metadata": {
        "id": "m4RjG7LWLSQx",
        "colab": {
          "base_uri": "https://localhost:8080/"
        },
        "outputId": "65a9fbb9-e86c-436e-ab0f-09834d755365"
      },
      "execution_count": 25,
      "outputs": [
        {
          "output_type": "execute_result",
          "data": {
            "text/plain": [
              "array([3, 3, 3, 0, 4, 4, 1, 2, 5, 0, 5, 3, 2, 2, 1, 4, 4, 5, 2, 4, 1, 2,\n",
              "       3, 5, 4, 2, 1, 2, 2, 2, 2, 5, 2, 5, 3, 1, 2, 0, 4, 5, 2, 3, 2, 2,\n",
              "       5, 2, 0, 1, 3, 4, 4, 5, 1, 1, 4, 4, 5, 1, 1, 1, 0, 1, 5, 0, 4, 1,\n",
              "       1, 0, 1, 4, 1, 0, 4, 1, 3, 1, 2, 2, 1, 2, 3, 0, 5, 3, 5, 5, 2, 4,\n",
              "       5, 1, 5, 1, 5, 3, 4, 1, 4, 1, 5, 4, 5, 1, 2, 1, 1, 5, 1, 3, 2, 5,\n",
              "       2, 1, 3, 5, 4, 4, 0, 0, 3, 1, 2, 2, 3, 5, 1, 5, 3, 4, 2, 2, 0, 2,\n",
              "       2, 5, 5, 0, 3, 3, 2, 2, 0, 3, 4, 0, 4, 2, 4, 5, 4, 1, 5, 3, 2, 2,\n",
              "       5, 4, 3, 3, 4, 3, 3, 4, 1, 5, 2, 3, 2, 2, 0, 2, 1, 3, 1, 2, 2, 5,\n",
              "       5, 1, 4, 2, 2, 1, 1, 3, 3, 5, 5, 2, 5, 1, 5, 0, 3, 3, 0, 5, 1, 4,\n",
              "       1, 4, 2, 5, 5, 1, 4, 2, 4])"
            ]
          },
          "metadata": {},
          "execution_count": 25
        }
      ]
    },
    {
      "cell_type": "code",
      "source": [
        "loss, acc =model.evaluate(x_testcnn, y_test)\n",
        "print(\"Restored model, accuracy: {:5.2f}%\".format(100*acc))"
      ],
      "metadata": {
        "id": "n3kzoqPkDqqS",
        "colab": {
          "base_uri": "https://localhost:8080/"
        },
        "outputId": "22b09151-fefb-4978-cc0e-1893016d90c6"
      },
      "execution_count": 26,
      "outputs": [
        {
          "output_type": "stream",
          "name": "stdout",
          "text": [
            "7/7 [==============================] - 0s 2ms/step - loss: 0.4887 - accuracy: 0.7874\n",
            "Restored model, accuracy: 78.74%\n"
          ]
        }
      ]
    },
    {
      "cell_type": "code",
      "source": [
        "loss, acc =model.evaluate(X_train, y_train)\n",
        "print(\"Restored model train, accuracy: {:5.2f}%\".format(100*acc))"
      ],
      "metadata": {
        "id": "fJDTGH_OUX0z",
        "colab": {
          "base_uri": "https://localhost:8080/"
        },
        "outputId": "172cd747-dd60-4a2e-c7a8-1c90f6298e4c"
      },
      "execution_count": 27,
      "outputs": [
        {
          "output_type": "stream",
          "name": "stdout",
          "text": [
            "52/52 [==============================] - 0s 3ms/step - loss: 0.1584 - accuracy: 0.9794\n",
            "Restored model train, accuracy: 97.94%\n"
          ]
        }
      ]
    },
    {
      "cell_type": "code",
      "source": [
        "from sklearn.metrics import classification_report, confusion_matrix,accuracy_score\n",
        "import seaborn as sn\n",
        "\n",
        "print(classification_report(new_Ytest,abc))\n",
        "\n",
        "acc = float(accuracy_score(new_Ytest,abc))*100\n",
        "print(\"----accuracy score %s ----\" % acc)\n",
        "\n",
        "cm = confusion_matrix(new_Ytest,abc)\n",
        "#df_cm = pd.DataFrame(cm)\n",
        "class_names = ['neutral','calm', 'happy','sad','angry', 'fearful' ]\n",
        "df_cm = pd.DataFrame(cm, index=class_names, columns=class_names,)\n",
        "sn.heatmap(df_cm, annot=True, fmt='')\n",
        "plt.show()"
      ],
      "metadata": {
        "id": "SfSC3El94LZg",
        "colab": {
          "base_uri": "https://localhost:8080/",
          "height": 521
        },
        "outputId": "6ad56970-b8b7-413d-dde8-dbc64558a2b7"
      },
      "execution_count": 28,
      "outputs": [
        {
          "output_type": "stream",
          "name": "stdout",
          "text": [
            "              precision    recall  f1-score   support\n",
            "\n",
            "           0       0.62      0.72      0.67        18\n",
            "           1       0.80      0.85      0.82        41\n",
            "           2       0.83      0.87      0.85        45\n",
            "           3       0.62      0.74      0.68        31\n",
            "           4       1.00      0.85      0.92        33\n",
            "           5       0.83      0.64      0.72        39\n",
            "\n",
            "    accuracy                           0.79       207\n",
            "   macro avg       0.78      0.78      0.78       207\n",
            "weighted avg       0.80      0.79      0.79       207\n",
            "\n",
            "----accuracy score 78.74396135265701 ----\n"
          ]
        },
        {
          "output_type": "display_data",
          "data": {
            "text/plain": [
              "<Figure size 432x288 with 2 Axes>"
            ],
            "image/png": "[encoded data removed]"
          },
          "metadata": {
            "needs_background": "light"
          }
        }
      ]
    }
  ]
}