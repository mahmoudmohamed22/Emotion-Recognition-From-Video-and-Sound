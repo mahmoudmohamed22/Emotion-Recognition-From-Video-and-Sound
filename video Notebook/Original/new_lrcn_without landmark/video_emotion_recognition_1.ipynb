{
  "nbformat": 4,
  "nbformat_minor": 0,
  "metadata": {
    "colab": {
      "name": "video_emotion_recognition_1.ipynb",
      "provenance": [],
      "collapsed_sections": [],
      "machine_shape": "hm"
    },
    "kernelspec": {
      "name": "python3",
      "display_name": "Python 3"
    },
    "accelerator": "GPU"
  },
  "cells": [
    {
      "cell_type": "code",
      "source": [
        "from google.colab import drive\n",
        "drive.mount('/content/drive')"
      ],
      "metadata": {
        "colab": {
          "base_uri": "https://localhost:8080/"
        },
        "id": "o94I67GBPVfM",
        "outputId": "6d7f9d6b-b5ac-4df8-e696-5b6ef1817863"
      },
      "execution_count": 6,
      "outputs": [
        {
          "output_type": "stream",
          "name": "stdout",
          "text": [
            "Mounted at /content/drive\n"
          ]
        }
      ]
    },
    {
      "cell_type": "code",
      "source": [
        "# Discard the output of this cell.\n",
        "#%%capture\n",
        "\n",
        "# Install the required libraries.\n",
        "!pip install tensorflow opencv-contrib-python youtube-dl moviepy pydot\n",
        "!pip install git+https://github.com/TahaAnwar/pafy.git#egg=pafy"
      ],
      "metadata": {
        "colab": {
          "base_uri": "https://localhost:8080/"
        },
        "id": "6OQ7vRnzP6n8",
        "outputId": "fbd1b854-646f-46c6-f92f-a07e60203eb5"
      },
      "execution_count": 1,
      "outputs": [
        {
          "output_type": "stream",
          "name": "stdout",
          "text": [
            "Looking in indexes: https://pypi.org/simple, https://us-python.pkg.dev/colab-wheels/public/simple/\n",
            "Requirement already satisfied: tensorflow in /usr/local/lib/python3.7/dist-packages (2.8.2+zzzcolab20220527125636)\n",
            "Requirement already satisfied: opencv-contrib-python in /usr/local/lib/python3.7/dist-packages (4.1.2.30)\n",
            "Collecting youtube-dl\n",
            "  Downloading youtube_dl-2021.12.17-py2.py3-none-any.whl (1.9 MB)\n",
            "\u001b[K     |████████████████████████████████| 1.9 MB 8.7 MB/s \n",
            "\u001b[?25hRequirement already satisfied: moviepy in /usr/local/lib/python3.7/dist-packages (0.2.3.5)\n",
            "Requirement already satisfied: pydot in /usr/local/lib/python3.7/dist-packages (1.3.0)\n",
            "Requirement already satisfied: absl-py>=0.4.0 in /usr/local/lib/python3.7/dist-packages (from tensorflow) (1.0.0)\n",
            "Requirement already satisfied: wrapt>=1.11.0 in /usr/local/lib/python3.7/dist-packages (from tensorflow) (1.14.1)\n",
            "Requirement already satisfied: termcolor>=1.1.0 in /usr/local/lib/python3.7/dist-packages (from tensorflow) (1.1.0)\n",
            "Requirement already satisfied: tensorboard<2.9,>=2.8 in /usr/local/lib/python3.7/dist-packages (from tensorflow) (2.8.0)\n",
            "Requirement already satisfied: h5py>=2.9.0 in /usr/local/lib/python3.7/dist-packages (from tensorflow) (3.1.0)\n",
            "Requirement already satisfied: gast>=0.2.1 in /usr/local/lib/python3.7/dist-packages (from tensorflow) (0.5.3)\n",
            "Requirement already satisfied: flatbuffers>=1.12 in /usr/local/lib/python3.7/dist-packages (from tensorflow) (2.0)\n",
            "Requirement already satisfied: setuptools in /usr/local/lib/python3.7/dist-packages (from tensorflow) (57.4.0)\n",
            "Requirement already satisfied: libclang>=9.0.1 in /usr/local/lib/python3.7/dist-packages (from tensorflow) (14.0.1)\n",
            "Requirement already satisfied: astunparse>=1.6.0 in /usr/local/lib/python3.7/dist-packages (from tensorflow) (1.6.3)\n",
            "Requirement already satisfied: google-pasta>=0.1.1 in /usr/local/lib/python3.7/dist-packages (from tensorflow) (0.2.0)\n",
            "Requirement already satisfied: tensorflow-io-gcs-filesystem>=0.23.1 in /usr/local/lib/python3.7/dist-packages (from tensorflow) (0.26.0)\n",
            "Requirement already satisfied: keras-preprocessing>=1.1.1 in /usr/local/lib/python3.7/dist-packages (from tensorflow) (1.1.2)\n",
            "Requirement already satisfied: tensorflow-estimator<2.9,>=2.8 in /usr/local/lib/python3.7/dist-packages (from tensorflow) (2.8.0)\n",
            "Requirement already satisfied: six>=1.12.0 in /usr/local/lib/python3.7/dist-packages (from tensorflow) (1.15.0)\n",
            "Requirement already satisfied: opt-einsum>=2.3.2 in /usr/local/lib/python3.7/dist-packages (from tensorflow) (3.3.0)\n",
            "Requirement already satisfied: numpy>=1.20 in /usr/local/lib/python3.7/dist-packages (from tensorflow) (1.21.6)\n",
            "Requirement already satisfied: protobuf<3.20,>=3.9.2 in /usr/local/lib/python3.7/dist-packages (from tensorflow) (3.17.3)\n",
            "Requirement already satisfied: keras<2.9,>=2.8.0rc0 in /usr/local/lib/python3.7/dist-packages (from tensorflow) (2.8.0)\n",
            "Requirement already satisfied: grpcio<2.0,>=1.24.3 in /usr/local/lib/python3.7/dist-packages (from tensorflow) (1.46.3)\n",
            "Requirement already satisfied: typing-extensions>=3.6.6 in /usr/local/lib/python3.7/dist-packages (from tensorflow) (4.2.0)\n",
            "Requirement already satisfied: wheel<1.0,>=0.23.0 in /usr/local/lib/python3.7/dist-packages (from astunparse>=1.6.0->tensorflow) (0.37.1)\n",
            "Requirement already satisfied: cached-property in /usr/local/lib/python3.7/dist-packages (from h5py>=2.9.0->tensorflow) (1.5.2)\n",
            "Requirement already satisfied: requests<3,>=2.21.0 in /usr/local/lib/python3.7/dist-packages (from tensorboard<2.9,>=2.8->tensorflow) (2.23.0)\n",
            "Requirement already satisfied: werkzeug>=0.11.15 in /usr/local/lib/python3.7/dist-packages (from tensorboard<2.9,>=2.8->tensorflow) (1.0.1)\n",
            "Requirement already satisfied: markdown>=2.6.8 in /usr/local/lib/python3.7/dist-packages (from tensorboard<2.9,>=2.8->tensorflow) (3.3.7)\n",
            "Requirement already satisfied: google-auth-oauthlib<0.5,>=0.4.1 in /usr/local/lib/python3.7/dist-packages (from tensorboard<2.9,>=2.8->tensorflow) (0.4.6)\n",
            "Requirement already satisfied: tensorboard-plugin-wit>=1.6.0 in /usr/local/lib/python3.7/dist-packages (from tensorboard<2.9,>=2.8->tensorflow) (1.8.1)\n",
            "Requirement already satisfied: google-auth<3,>=1.6.3 in /usr/local/lib/python3.7/dist-packages (from tensorboard<2.9,>=2.8->tensorflow) (1.35.0)\n",
            "Requirement already satisfied: tensorboard-data-server<0.7.0,>=0.6.0 in /usr/local/lib/python3.7/dist-packages (from tensorboard<2.9,>=2.8->tensorflow) (0.6.1)\n",
            "Requirement already satisfied: rsa<5,>=3.1.4 in /usr/local/lib/python3.7/dist-packages (from google-auth<3,>=1.6.3->tensorboard<2.9,>=2.8->tensorflow) (4.8)\n",
            "Requirement already satisfied: cachetools<5.0,>=2.0.0 in /usr/local/lib/python3.7/dist-packages (from google-auth<3,>=1.6.3->tensorboard<2.9,>=2.8->tensorflow) (4.2.4)\n",
            "Requirement already satisfied: pyasn1-modules>=0.2.1 in /usr/local/lib/python3.7/dist-packages (from google-auth<3,>=1.6.3->tensorboard<2.9,>=2.8->tensorflow) (0.2.8)\n",
            "Requirement already satisfied: requests-oauthlib>=0.7.0 in /usr/local/lib/python3.7/dist-packages (from google-auth-oauthlib<0.5,>=0.4.1->tensorboard<2.9,>=2.8->tensorflow) (1.3.1)\n",
            "Requirement already satisfied: importlib-metadata>=4.4 in /usr/local/lib/python3.7/dist-packages (from markdown>=2.6.8->tensorboard<2.9,>=2.8->tensorflow) (4.11.4)\n",
            "Requirement already satisfied: zipp>=0.5 in /usr/local/lib/python3.7/dist-packages (from importlib-metadata>=4.4->markdown>=2.6.8->tensorboard<2.9,>=2.8->tensorflow) (3.8.0)\n",
            "Requirement already satisfied: pyasn1<0.5.0,>=0.4.6 in /usr/local/lib/python3.7/dist-packages (from pyasn1-modules>=0.2.1->google-auth<3,>=1.6.3->tensorboard<2.9,>=2.8->tensorflow) (0.4.8)\n",
            "Requirement already satisfied: urllib3!=1.25.0,!=1.25.1,<1.26,>=1.21.1 in /usr/local/lib/python3.7/dist-packages (from requests<3,>=2.21.0->tensorboard<2.9,>=2.8->tensorflow) (1.24.3)\n",
            "Requirement already satisfied: chardet<4,>=3.0.2 in /usr/local/lib/python3.7/dist-packages (from requests<3,>=2.21.0->tensorboard<2.9,>=2.8->tensorflow) (3.0.4)\n",
            "Requirement already satisfied: idna<3,>=2.5 in /usr/local/lib/python3.7/dist-packages (from requests<3,>=2.21.0->tensorboard<2.9,>=2.8->tensorflow) (2.10)\n",
            "Requirement already satisfied: certifi>=2017.4.17 in /usr/local/lib/python3.7/dist-packages (from requests<3,>=2.21.0->tensorboard<2.9,>=2.8->tensorflow) (2022.5.18.1)\n",
            "Requirement already satisfied: oauthlib>=3.0.0 in /usr/local/lib/python3.7/dist-packages (from requests-oauthlib>=0.7.0->google-auth-oauthlib<0.5,>=0.4.1->tensorboard<2.9,>=2.8->tensorflow) (3.2.0)\n",
            "Requirement already satisfied: tqdm<5.0,>=4.11.2 in /usr/local/lib/python3.7/dist-packages (from moviepy) (4.64.0)\n",
            "Requirement already satisfied: imageio<3.0,>=2.1.2 in /usr/local/lib/python3.7/dist-packages (from moviepy) (2.4.1)\n",
            "Requirement already satisfied: decorator<5.0,>=4.0.2 in /usr/local/lib/python3.7/dist-packages (from moviepy) (4.4.2)\n",
            "Requirement already satisfied: pillow in /usr/local/lib/python3.7/dist-packages (from imageio<3.0,>=2.1.2->moviepy) (7.1.2)\n",
            "Requirement already satisfied: pyparsing>=2.1.4 in /usr/local/lib/python3.7/dist-packages (from pydot) (3.0.9)\n",
            "Installing collected packages: youtube-dl\n",
            "Successfully installed youtube-dl-2021.12.17\n",
            "Looking in indexes: https://pypi.org/simple, https://us-python.pkg.dev/colab-wheels/public/simple/\n",
            "Collecting pafy\n",
            "  Cloning https://github.com/TahaAnwar/pafy.git to /tmp/pip-install-4d73o7u5/pafy_14fee9e1f0954db994b13b46331c0666\n",
            "  Running command git clone -q https://github.com/TahaAnwar/pafy.git /tmp/pip-install-4d73o7u5/pafy_14fee9e1f0954db994b13b46331c0666\n",
            "Building wheels for collected packages: pafy\n",
            "  Building wheel for pafy (setup.py) ... \u001b[?25l\u001b[?25hdone\n",
            "  Created wheel for pafy: filename=pafy-0.5.5-py2.py3-none-any.whl size=35706 sha256=b98bf59f566a3914ea41dea2e24f3f81b46ecebb42a47a6a7e2ccba948c7a07d\n",
            "  Stored in directory: /tmp/pip-ephem-wheel-cache-jajk3shg/wheels/64/82/dd/3d7823b3bbbe1aca9b30f8cf0d6bb6c1b72ccd95e3360f8190\n",
            "Successfully built pafy\n",
            "Installing collected packages: pafy\n",
            "Successfully installed pafy-0.5.5\n"
          ]
        }
      ]
    },
    {
      "cell_type": "code",
      "source": [
        "# Import the required libraries.\n",
        "import os\n",
        "import cv2\n",
        "import pafy\n",
        "import math\n",
        "import random\n",
        "import numpy as np\n",
        "import datetime as dt\n",
        "import tensorflow as tf\n",
        "from collections import deque\n",
        "import matplotlib.pyplot as plt\n",
        "\n",
        "from moviepy.editor import *\n",
        "%matplotlib inline\n",
        "\n",
        "from sklearn.model_selection import train_test_split\n",
        "\n",
        "from tensorflow.keras.layers import *\n",
        "from tensorflow.keras.models import Sequential\n",
        "from tensorflow.keras.utils import to_categorical\n",
        "from tensorflow.keras.callbacks import EarlyStopping\n",
        "from tensorflow.keras.utils import plot_model"
      ],
      "metadata": {
        "colab": {
          "base_uri": "https://localhost:8080/"
        },
        "id": "LiLwshTpP-OB",
        "outputId": "4200fea2-a2d3-4490-969b-c5404f2fe0aa"
      },
      "execution_count": 2,
      "outputs": [
        {
          "output_type": "stream",
          "name": "stdout",
          "text": [
            "Imageio: 'ffmpeg-linux64-v3.3.1' was not found on your computer; downloading it now.\n",
            "Try 1. Download from https://github.com/imageio/imageio-binaries/raw/master/ffmpeg/ffmpeg-linux64-v3.3.1 (43.8 MB)\n",
            "Downloading: 8192/45929032 bytes (0.0%)\b\b\b\b\b\b\b\b\b\b\b\b\b\b\b\b\b\b\b\b\b\b\b\b\b\b3653632/45929032 bytes (8.0%)\b\b\b\b\b\b\b\b\b\b\b\b\b\b\b\b\b\b\b\b\b\b\b\b\b\b\b\b\b7823360/45929032 bytes (17.0%)\b\b\b\b\b\b\b\b\b\b\b\b\b\b\b\b\b\b\b\b\b\b\b\b\b\b\b\b\b\b12017664/45929032 bytes (26.2%)\b\b\b\b\b\b\b\b\b\b\b\b\b\b\b\b\b\b\b\b\b\b\b\b\b\b\b\b\b\b\b16252928/45929032 bytes (35.4%)\b\b\b\b\b\b\b\b\b\b\b\b\b\b\b\b\b\b\b\b\b\b\b\b\b\b\b\b\b\b\b19832832/45929032 bytes (43.2%)\b\b\b\b\b\b\b\b\b\b\b\b\b\b\b\b\b\b\b\b\b\b\b\b\b\b\b\b\b\b\b23191552/45929032 bytes (50.5%)\b\b\b\b\b\b\b\b\b\b\b\b\b\b\b\b\b\b\b\b\b\b\b\b\b\b\b\b\b\b\b26705920/45929032 bytes (58.1%)\b\b\b\b\b\b\b\b\b\b\b\b\b\b\b\b\b\b\b\b\b\b\b\b\b\b\b\b\b\b\b30015488/45929032 bytes (65.4%)\b\b\b\b\b\b\b\b\b\b\b\b\b\b\b\b\b\b\b\b\b\b\b\b\b\b\b\b\b\b\b33685504/45929032 bytes (73.3%)\b\b\b\b\b\b\b\b\b\b\b\b\b\b\b\b\b\b\b\b\b\b\b\b\b\b\b\b\b\b\b36855808/45929032 bytes (80.2%)\b\b\b\b\b\b\b\b\b\b\b\b\b\b\b\b\b\b\b\b\b\b\b\b\b\b\b\b\b\b\b40329216/45929032 bytes (87.8%)\b\b\b\b\b\b\b\b\b\b\b\b\b\b\b\b\b\b\b\b\b\b\b\b\b\b\b\b\b\b\b43966464/45929032 bytes (95.7%)\b\b\b\b\b\b\b\b\b\b\b\b\b\b\b\b\b\b\b\b\b\b\b\b\b\b\b\b\b\b\b45929032/45929032 bytes (100.0%)\n",
            "  Done\n",
            "File saved as /root/.imageio/ffmpeg/ffmpeg-linux64-v3.3.1.\n"
          ]
        }
      ]
    },
    {
      "cell_type": "code",
      "source": [
        "seed_constant = 27\n",
        "np.random.seed(seed_constant)\n",
        "random.seed(seed_constant)\n",
        "tf.random.set_seed(seed_constant)"
      ],
      "metadata": {
        "id": "u4EtD4rrQEnb"
      },
      "execution_count": 3,
      "outputs": []
    },
    {
      "cell_type": "code",
      "source": [
        "# Specify the height and width to which each video frame will be resized in our dataset.\n",
        "IMAGE_HEIGHT , IMAGE_WIDTH = 64, 64\n",
        "\n",
        "# Specify the number of frames of a video that will be fed to the model as one sequence.\n",
        "SEQUENCE_LENGTH = 30\n",
        "\n",
        "# Specify the directory containing the UCF50 dataset. \n",
        "#DATASET_DIR = \"/content/drive/MyDrive/videospeech_label\"\n",
        "\n",
        "# Specify the list containing the names of the classes used for training. Feel free to choose any set of classes.\n",
        "CLASSES_LIST = [\"neutral\", \"calm\", \"happy\", \"sad\",\"angry\",\"fearful\"]"
      ],
      "metadata": {
        "id": "7H6KBiblQKE9"
      },
      "execution_count": 4,
      "outputs": []
    },
    {
      "cell_type": "code",
      "source": [
        "import joblib\n",
        "features=joblib.load('/content/drive/My Drive/features_ravdess/original_data_set/features_data')\n",
        "labels=joblib.load('/content/drive/My Drive/features_ravdess/original_data_set/labels')\n",
        "video_file_path=joblib.load('/content/drive/My Drive/features_ravdess/original_data_set/video_path')"
      ],
      "metadata": {
        "id": "V_rh-id5cmwd"
      },
      "execution_count": 7,
      "outputs": []
    },
    {
      "cell_type": "code",
      "source": [
        "features = np.asarray(features)\n",
        "labels = np.array(labels)  "
      ],
      "metadata": {
        "id": "WI3wNd7zdKzJ"
      },
      "execution_count": 8,
      "outputs": []
    },
    {
      "cell_type": "code",
      "source": [
        "features.shape"
      ],
      "metadata": {
        "colab": {
          "base_uri": "https://localhost:8080/"
        },
        "id": "pnnmkPz5Qh75",
        "outputId": "3ad975e1-7e28-4113-fc25-8ed6bcb268de"
      },
      "execution_count": 9,
      "outputs": [
        {
          "output_type": "execute_result",
          "data": {
            "text/plain": [
              "(2068, 30, 64, 64, 3)"
            ]
          },
          "metadata": {},
          "execution_count": 9
        }
      ]
    },
    {
      "cell_type": "code",
      "source": [
        "labels.shape"
      ],
      "metadata": {
        "colab": {
          "base_uri": "https://localhost:8080/"
        },
        "id": "kSGvdE_hQklC",
        "outputId": "d3bc1b10-f924-42d2-c6a2-3f0b728ff8e7"
      },
      "execution_count": 10,
      "outputs": [
        {
          "output_type": "execute_result",
          "data": {
            "text/plain": [
              "(2068,)"
            ]
          },
          "metadata": {},
          "execution_count": 10
        }
      ]
    },
    {
      "cell_type": "code",
      "source": [
        "# Using Keras's to_categorical method to convert labels into one-hot-encoded vectors\n",
        "one_hot_encoded_labels = to_categorical(labels)"
      ],
      "metadata": {
        "id": "DGicVwcRQn9x"
      },
      "execution_count": 11,
      "outputs": []
    },
    {
      "cell_type": "code",
      "source": [
        "# Split the Data into Train ( 80% ) and Test Set ( 20% ).\n",
        "features_train, features_test, labels_train, labels_test = train_test_split(features, one_hot_encoded_labels,\n",
        "                                                                            test_size = 0.10, shuffle = True,\n",
        "                                                                            random_state = seed_constant)"
      ],
      "metadata": {
        "id": "pysOwWbgQrBv"
      },
      "execution_count": 12,
      "outputs": []
    },
    {
      "cell_type": "code",
      "source": [
        "def create_LRCN_model():\n",
        "    '''\n",
        "    This function will construct the required LRCN model.\n",
        "    Returns:\n",
        "        model: It is the required constructed LRCN model.\n",
        "    '''\n",
        "\n",
        "    # We will use a Sequential model for model construction.\n",
        "    model = Sequential()\n",
        "    \n",
        "    # Define the Model Architecture.\n",
        "    ########################################################################################################################\n",
        "    \n",
        "    model.add(TimeDistributed(Conv2D(16, (3, 3), padding='same',activation = 'relu'),\n",
        "                              input_shape = (SEQUENCE_LENGTH, IMAGE_HEIGHT, IMAGE_WIDTH, 3)))\n",
        "    \n",
        "    model.add(TimeDistributed(MaxPooling2D((4, 4)))) \n",
        "    model.add(TimeDistributed(Dropout(0.25)))\n",
        "    \n",
        "    model.add(TimeDistributed(Conv2D(32, (3, 3), padding='same',activation = 'relu')))\n",
        "    model.add(TimeDistributed(MaxPooling2D((4, 4))))\n",
        "    model.add(TimeDistributed(Dropout(0.25)))\n",
        "    \n",
        "    model.add(TimeDistributed(Conv2D(64, (3, 3), padding='same',activation = 'relu')))\n",
        "    model.add(TimeDistributed(MaxPooling2D((2, 2))))\n",
        "    model.add(TimeDistributed(Dropout(0.25)))\n",
        "    \n",
        "    model.add(TimeDistributed(Conv2D(64, (3, 3), padding='same',activation = 'relu')))\n",
        "    model.add(TimeDistributed(MaxPooling2D((2, 2))))\n",
        "    #model.add(TimeDistributed(Dropout(0.25)))\n",
        "                                      \n",
        "    model.add(TimeDistributed(Flatten()))\n",
        "                                      \n",
        "    model.add(LSTM(32))\n",
        "                                      \n",
        "    model.add(Dense(len(CLASSES_LIST), activation = 'softmax'))\n",
        "\n",
        "    ########################################################################################################################\n",
        "\n",
        "    # Display the models summary.\n",
        "    model.summary()\n",
        "    \n",
        "    # Return the constructed LRCN model.\n",
        "    return model"
      ],
      "metadata": {
        "id": "01zL-4EVQt3J"
      },
      "execution_count": 13,
      "outputs": []
    },
    {
      "cell_type": "code",
      "source": [
        "# Construct the required LRCN model.\n",
        "LRCN_model = create_LRCN_model()\n",
        "\n",
        "# Display the success message.\n",
        "print(\"Model Created Successfully!\")"
      ],
      "metadata": {
        "colab": {
          "base_uri": "https://localhost:8080/"
        },
        "id": "sFdjcb8zQxX4",
        "outputId": "0e16f83d-58bc-4e8b-b6cd-29a432d1d5db"
      },
      "execution_count": 14,
      "outputs": [
        {
          "output_type": "stream",
          "name": "stdout",
          "text": [
            "Model: \"sequential\"\n",
            "_________________________________________________________________\n",
            " Layer (type)                Output Shape              Param #   \n",
            "=================================================================\n",
            " time_distributed (TimeDistr  (None, 30, 64, 64, 16)   448       \n",
            " ibuted)                                                         \n",
            "                                                                 \n",
            " time_distributed_1 (TimeDis  (None, 30, 16, 16, 16)   0         \n",
            " tributed)                                                       \n",
            "                                                                 \n",
            " time_distributed_2 (TimeDis  (None, 30, 16, 16, 16)   0         \n",
            " tributed)                                                       \n",
            "                                                                 \n",
            " time_distributed_3 (TimeDis  (None, 30, 16, 16, 32)   4640      \n",
            " tributed)                                                       \n",
            "                                                                 \n",
            " time_distributed_4 (TimeDis  (None, 30, 4, 4, 32)     0         \n",
            " tributed)                                                       \n",
            "                                                                 \n",
            " time_distributed_5 (TimeDis  (None, 30, 4, 4, 32)     0         \n",
            " tributed)                                                       \n",
            "                                                                 \n",
            " time_distributed_6 (TimeDis  (None, 30, 4, 4, 64)     18496     \n",
            " tributed)                                                       \n",
            "                                                                 \n",
            " time_distributed_7 (TimeDis  (None, 30, 2, 2, 64)     0         \n",
            " tributed)                                                       \n",
            "                                                                 \n",
            " time_distributed_8 (TimeDis  (None, 30, 2, 2, 64)     0         \n",
            " tributed)                                                       \n",
            "                                                                 \n",
            " time_distributed_9 (TimeDis  (None, 30, 2, 2, 64)     36928     \n",
            " tributed)                                                       \n",
            "                                                                 \n",
            " time_distributed_10 (TimeDi  (None, 30, 1, 1, 64)     0         \n",
            " stributed)                                                      \n",
            "                                                                 \n",
            " time_distributed_11 (TimeDi  (None, 30, 64)           0         \n",
            " stributed)                                                      \n",
            "                                                                 \n",
            " lstm (LSTM)                 (None, 32)                12416     \n",
            "                                                                 \n",
            " dense (Dense)               (None, 6)                 198       \n",
            "                                                                 \n",
            "=================================================================\n",
            "Total params: 73,126\n",
            "Trainable params: 73,126\n",
            "Non-trainable params: 0\n",
            "_________________________________________________________________\n",
            "Model Created Successfully!\n"
          ]
        }
      ]
    },
    {
      "cell_type": "code",
      "source": [
        "# Create an Instance of Early Stopping Callback.\n",
        "early_stopping_callback = EarlyStopping(monitor = 'val_loss', patience = 25, mode = 'min', restore_best_weights = True)\n",
        " \n",
        "# Compile the model and specify loss function, optimizer and metrics to the model.\n",
        "LRCN_model.compile(loss = 'categorical_crossentropy', optimizer = 'Adam', metrics = [\"accuracy\"])\n",
        "\n",
        "# Start training the model.\n",
        "LRCN_model_training_history = LRCN_model.fit(x = features_train, y = labels_train, epochs = 100, batch_size = 4 ,\n",
        "                                             shuffle = True, validation_split = 0.1, callbacks = [early_stopping_callback])"
      ],
      "metadata": {
        "colab": {
          "base_uri": "https://localhost:8080/"
        },
        "id": "cVmXzItZQ4-r",
        "outputId": "f5dd1af0-d6d1-4bc7-fa53-be00f265005d"
      },
      "execution_count": 15,
      "outputs": [
        {
          "output_type": "stream",
          "name": "stdout",
          "text": [
            "Epoch 1/100\n",
            "419/419 [==============================] - 20s 14ms/step - loss: 1.7855 - accuracy: 0.1858 - val_loss: 1.7704 - val_accuracy: 0.2193\n",
            "Epoch 2/100\n",
            "419/419 [==============================] - 4s 10ms/step - loss: 1.7738 - accuracy: 0.1726 - val_loss: 1.7820 - val_accuracy: 0.1390\n",
            "Epoch 3/100\n",
            "419/419 [==============================] - 4s 11ms/step - loss: 1.7687 - accuracy: 0.1822 - val_loss: 1.7799 - val_accuracy: 0.1390\n",
            "Epoch 4/100\n",
            "419/419 [==============================] - 4s 11ms/step - loss: 1.7700 - accuracy: 0.1930 - val_loss: 1.7781 - val_accuracy: 0.1711\n",
            "Epoch 5/100\n",
            "419/419 [==============================] - 4s 10ms/step - loss: 1.7696 - accuracy: 0.1589 - val_loss: 1.7796 - val_accuracy: 0.1390\n",
            "Epoch 6/100\n",
            "419/419 [==============================] - 5s 11ms/step - loss: 1.7666 - accuracy: 0.1816 - val_loss: 1.7755 - val_accuracy: 0.1765\n",
            "Epoch 7/100\n",
            "419/419 [==============================] - 4s 11ms/step - loss: 1.7428 - accuracy: 0.2031 - val_loss: 1.7112 - val_accuracy: 0.2460\n",
            "Epoch 8/100\n",
            "419/419 [==============================] - 4s 11ms/step - loss: 1.5648 - accuracy: 0.3172 - val_loss: 1.4979 - val_accuracy: 0.3422\n",
            "Epoch 9/100\n",
            "419/419 [==============================] - 4s 11ms/step - loss: 1.4671 - accuracy: 0.3740 - val_loss: 1.5014 - val_accuracy: 0.3102\n",
            "Epoch 10/100\n",
            "419/419 [==============================] - 4s 11ms/step - loss: 1.4250 - accuracy: 0.3787 - val_loss: 1.4858 - val_accuracy: 0.3155\n",
            "Epoch 11/100\n",
            "419/419 [==============================] - 4s 11ms/step - loss: 1.3727 - accuracy: 0.4014 - val_loss: 1.3616 - val_accuracy: 0.3636\n",
            "Epoch 12/100\n",
            "419/419 [==============================] - 4s 11ms/step - loss: 1.3471 - accuracy: 0.4050 - val_loss: 1.3142 - val_accuracy: 0.3904\n",
            "Epoch 13/100\n",
            "419/419 [==============================] - 4s 11ms/step - loss: 1.3045 - accuracy: 0.4373 - val_loss: 1.2923 - val_accuracy: 0.4011\n",
            "Epoch 14/100\n",
            "419/419 [==============================] - 5s 11ms/step - loss: 1.2734 - accuracy: 0.4361 - val_loss: 1.2736 - val_accuracy: 0.3904\n",
            "Epoch 15/100\n",
            "419/419 [==============================] - 4s 11ms/step - loss: 1.2522 - accuracy: 0.4510 - val_loss: 1.2590 - val_accuracy: 0.3743\n",
            "Epoch 16/100\n",
            "419/419 [==============================] - 4s 11ms/step - loss: 1.2469 - accuracy: 0.4504 - val_loss: 1.2502 - val_accuracy: 0.4492\n",
            "Epoch 17/100\n",
            "419/419 [==============================] - 4s 11ms/step - loss: 1.1959 - accuracy: 0.4773 - val_loss: 1.1923 - val_accuracy: 0.4706\n",
            "Epoch 18/100\n",
            "419/419 [==============================] - 4s 11ms/step - loss: 1.1614 - accuracy: 0.5006 - val_loss: 1.2152 - val_accuracy: 0.4706\n",
            "Epoch 19/100\n",
            "419/419 [==============================] - 4s 10ms/step - loss: 1.1724 - accuracy: 0.4916 - val_loss: 1.2427 - val_accuracy: 0.4545\n",
            "Epoch 20/100\n",
            "419/419 [==============================] - 4s 11ms/step - loss: 1.1216 - accuracy: 0.5281 - val_loss: 1.2107 - val_accuracy: 0.4813\n",
            "Epoch 21/100\n",
            "419/419 [==============================] - 5s 11ms/step - loss: 1.1148 - accuracy: 0.5269 - val_loss: 1.1263 - val_accuracy: 0.5241\n",
            "Epoch 22/100\n",
            "419/419 [==============================] - 4s 11ms/step - loss: 1.0756 - accuracy: 0.5448 - val_loss: 1.0694 - val_accuracy: 0.5241\n",
            "Epoch 23/100\n",
            "419/419 [==============================] - 4s 11ms/step - loss: 1.0508 - accuracy: 0.5645 - val_loss: 1.0403 - val_accuracy: 0.6203\n",
            "Epoch 24/100\n",
            "419/419 [==============================] - 4s 11ms/step - loss: 1.0016 - accuracy: 0.5824 - val_loss: 0.9715 - val_accuracy: 0.5668\n",
            "Epoch 25/100\n",
            "419/419 [==============================] - 4s 10ms/step - loss: 0.9500 - accuracy: 0.6123 - val_loss: 1.0348 - val_accuracy: 0.6417\n",
            "Epoch 26/100\n",
            "419/419 [==============================] - 4s 11ms/step - loss: 0.8694 - accuracy: 0.6637 - val_loss: 0.9547 - val_accuracy: 0.5989\n",
            "Epoch 27/100\n",
            "419/419 [==============================] - 4s 10ms/step - loss: 0.8584 - accuracy: 0.6589 - val_loss: 0.8960 - val_accuracy: 0.6417\n",
            "Epoch 28/100\n",
            "419/419 [==============================] - 4s 11ms/step - loss: 0.8375 - accuracy: 0.6661 - val_loss: 0.8317 - val_accuracy: 0.6952\n",
            "Epoch 29/100\n",
            "419/419 [==============================] - 4s 10ms/step - loss: 0.8141 - accuracy: 0.6774 - val_loss: 0.8103 - val_accuracy: 0.6471\n",
            "Epoch 30/100\n",
            "419/419 [==============================] - 4s 10ms/step - loss: 0.7831 - accuracy: 0.6762 - val_loss: 0.7513 - val_accuracy: 0.7059\n",
            "Epoch 31/100\n",
            "419/419 [==============================] - 4s 10ms/step - loss: 0.7484 - accuracy: 0.6941 - val_loss: 0.8350 - val_accuracy: 0.6738\n",
            "Epoch 32/100\n",
            "419/419 [==============================] - 4s 10ms/step - loss: 0.7221 - accuracy: 0.7216 - val_loss: 0.8630 - val_accuracy: 0.7219\n",
            "Epoch 33/100\n",
            "419/419 [==============================] - 4s 11ms/step - loss: 0.7072 - accuracy: 0.7252 - val_loss: 0.8787 - val_accuracy: 0.7005\n",
            "Epoch 34/100\n",
            "419/419 [==============================] - 4s 11ms/step - loss: 0.6519 - accuracy: 0.7593 - val_loss: 0.8013 - val_accuracy: 0.7273\n",
            "Epoch 35/100\n",
            "419/419 [==============================] - 4s 11ms/step - loss: 0.6753 - accuracy: 0.7389 - val_loss: 0.7122 - val_accuracy: 0.7166\n",
            "Epoch 36/100\n",
            "419/419 [==============================] - 4s 10ms/step - loss: 0.6457 - accuracy: 0.7503 - val_loss: 0.8055 - val_accuracy: 0.7005\n",
            "Epoch 37/100\n",
            "419/419 [==============================] - 4s 10ms/step - loss: 0.6153 - accuracy: 0.7664 - val_loss: 0.8142 - val_accuracy: 0.6845\n",
            "Epoch 38/100\n",
            "419/419 [==============================] - 4s 11ms/step - loss: 0.6189 - accuracy: 0.7605 - val_loss: 0.6635 - val_accuracy: 0.7487\n",
            "Epoch 39/100\n",
            "419/419 [==============================] - 4s 10ms/step - loss: 0.5846 - accuracy: 0.7706 - val_loss: 0.7090 - val_accuracy: 0.7487\n",
            "Epoch 40/100\n",
            "419/419 [==============================] - 4s 11ms/step - loss: 0.5771 - accuracy: 0.7820 - val_loss: 0.7853 - val_accuracy: 0.7273\n",
            "Epoch 41/100\n",
            "419/419 [==============================] - 4s 11ms/step - loss: 0.5470 - accuracy: 0.7957 - val_loss: 0.6820 - val_accuracy: 0.7861\n",
            "Epoch 42/100\n",
            "419/419 [==============================] - 4s 11ms/step - loss: 0.5192 - accuracy: 0.8041 - val_loss: 0.6449 - val_accuracy: 0.7594\n",
            "Epoch 43/100\n",
            "419/419 [==============================] - 4s 10ms/step - loss: 0.5437 - accuracy: 0.7933 - val_loss: 0.6741 - val_accuracy: 0.7326\n",
            "Epoch 44/100\n",
            "419/419 [==============================] - 4s 10ms/step - loss: 0.5078 - accuracy: 0.8041 - val_loss: 0.6777 - val_accuracy: 0.7754\n",
            "Epoch 45/100\n",
            "419/419 [==============================] - 4s 10ms/step - loss: 0.4906 - accuracy: 0.8082 - val_loss: 0.6534 - val_accuracy: 0.7861\n",
            "Epoch 46/100\n",
            "419/419 [==============================] - 4s 11ms/step - loss: 0.5070 - accuracy: 0.8005 - val_loss: 0.7064 - val_accuracy: 0.7433\n",
            "Epoch 47/100\n",
            "419/419 [==============================] - 4s 11ms/step - loss: 0.4604 - accuracy: 0.8268 - val_loss: 0.6314 - val_accuracy: 0.7701\n",
            "Epoch 48/100\n",
            "419/419 [==============================] - 4s 10ms/step - loss: 0.4834 - accuracy: 0.8202 - val_loss: 0.6942 - val_accuracy: 0.7594\n",
            "Epoch 49/100\n",
            "419/419 [==============================] - 4s 11ms/step - loss: 0.4833 - accuracy: 0.8268 - val_loss: 0.5259 - val_accuracy: 0.8075\n",
            "Epoch 50/100\n",
            "419/419 [==============================] - 4s 11ms/step - loss: 0.4444 - accuracy: 0.8321 - val_loss: 0.6272 - val_accuracy: 0.7754\n",
            "Epoch 51/100\n",
            "419/419 [==============================] - 4s 11ms/step - loss: 0.4214 - accuracy: 0.8387 - val_loss: 0.5878 - val_accuracy: 0.7861\n",
            "Epoch 52/100\n",
            "419/419 [==============================] - 5s 11ms/step - loss: 0.4083 - accuracy: 0.8435 - val_loss: 0.6445 - val_accuracy: 0.7594\n",
            "Epoch 53/100\n",
            "419/419 [==============================] - 5s 11ms/step - loss: 0.4423 - accuracy: 0.8369 - val_loss: 0.4955 - val_accuracy: 0.8182\n",
            "Epoch 54/100\n",
            "419/419 [==============================] - 5s 11ms/step - loss: 0.4158 - accuracy: 0.8417 - val_loss: 0.6009 - val_accuracy: 0.8075\n",
            "Epoch 55/100\n",
            "419/419 [==============================] - 4s 11ms/step - loss: 0.4075 - accuracy: 0.8495 - val_loss: 0.7862 - val_accuracy: 0.7540\n",
            "Epoch 56/100\n",
            "419/419 [==============================] - 5s 11ms/step - loss: 0.3945 - accuracy: 0.8489 - val_loss: 0.5182 - val_accuracy: 0.8342\n",
            "Epoch 57/100\n",
            "419/419 [==============================] - 4s 11ms/step - loss: 0.3666 - accuracy: 0.8662 - val_loss: 0.5952 - val_accuracy: 0.8128\n",
            "Epoch 58/100\n",
            "419/419 [==============================] - 4s 11ms/step - loss: 0.3829 - accuracy: 0.8578 - val_loss: 0.6334 - val_accuracy: 0.7861\n",
            "Epoch 59/100\n",
            "419/419 [==============================] - 5s 11ms/step - loss: 0.3533 - accuracy: 0.8746 - val_loss: 0.5753 - val_accuracy: 0.7914\n",
            "Epoch 60/100\n",
            "419/419 [==============================] - 5s 11ms/step - loss: 0.3630 - accuracy: 0.8668 - val_loss: 0.5768 - val_accuracy: 0.8289\n",
            "Epoch 61/100\n",
            "419/419 [==============================] - 4s 11ms/step - loss: 0.3199 - accuracy: 0.8829 - val_loss: 0.6747 - val_accuracy: 0.7754\n",
            "Epoch 62/100\n",
            "419/419 [==============================] - 4s 11ms/step - loss: 0.3615 - accuracy: 0.8590 - val_loss: 0.6026 - val_accuracy: 0.8021\n",
            "Epoch 63/100\n",
            "419/419 [==============================] - 4s 11ms/step - loss: 0.3414 - accuracy: 0.8740 - val_loss: 0.6034 - val_accuracy: 0.7701\n",
            "Epoch 64/100\n",
            "419/419 [==============================] - 4s 11ms/step - loss: 0.3214 - accuracy: 0.8746 - val_loss: 0.5754 - val_accuracy: 0.8289\n",
            "Epoch 65/100\n",
            "419/419 [==============================] - 4s 11ms/step - loss: 0.3318 - accuracy: 0.8823 - val_loss: 0.7482 - val_accuracy: 0.7326\n",
            "Epoch 66/100\n",
            "419/419 [==============================] - 4s 11ms/step - loss: 0.3291 - accuracy: 0.8799 - val_loss: 0.5771 - val_accuracy: 0.7914\n",
            "Epoch 67/100\n",
            "419/419 [==============================] - 4s 11ms/step - loss: 0.2969 - accuracy: 0.8883 - val_loss: 0.5145 - val_accuracy: 0.8289\n",
            "Epoch 68/100\n",
            "419/419 [==============================] - 4s 11ms/step - loss: 0.3023 - accuracy: 0.8913 - val_loss: 0.4249 - val_accuracy: 0.8235\n",
            "Epoch 69/100\n",
            "419/419 [==============================] - 4s 11ms/step - loss: 0.3323 - accuracy: 0.8805 - val_loss: 0.5613 - val_accuracy: 0.8235\n",
            "Epoch 70/100\n",
            "419/419 [==============================] - 4s 11ms/step - loss: 0.2992 - accuracy: 0.8871 - val_loss: 0.5704 - val_accuracy: 0.8075\n",
            "Epoch 71/100\n",
            "419/419 [==============================] - 5s 11ms/step - loss: 0.3089 - accuracy: 0.8937 - val_loss: 0.5668 - val_accuracy: 0.8021\n",
            "Epoch 72/100\n",
            "419/419 [==============================] - 5s 11ms/step - loss: 0.2982 - accuracy: 0.8865 - val_loss: 0.5864 - val_accuracy: 0.7861\n",
            "Epoch 73/100\n",
            "419/419 [==============================] - 5s 11ms/step - loss: 0.2789 - accuracy: 0.8913 - val_loss: 0.6597 - val_accuracy: 0.7968\n",
            "Epoch 74/100\n",
            "419/419 [==============================] - 5s 11ms/step - loss: 0.2985 - accuracy: 0.8769 - val_loss: 0.4790 - val_accuracy: 0.8342\n",
            "Epoch 75/100\n",
            "419/419 [==============================] - 4s 11ms/step - loss: 0.2878 - accuracy: 0.8913 - val_loss: 0.4953 - val_accuracy: 0.8449\n",
            "Epoch 76/100\n",
            "419/419 [==============================] - 4s 11ms/step - loss: 0.2829 - accuracy: 0.9026 - val_loss: 0.6344 - val_accuracy: 0.7807\n",
            "Epoch 77/100\n",
            "419/419 [==============================] - 4s 11ms/step - loss: 0.2795 - accuracy: 0.8967 - val_loss: 0.4693 - val_accuracy: 0.8289\n",
            "Epoch 78/100\n",
            "419/419 [==============================] - 4s 11ms/step - loss: 0.2541 - accuracy: 0.9086 - val_loss: 0.4557 - val_accuracy: 0.8235\n",
            "Epoch 79/100\n",
            "419/419 [==============================] - 4s 11ms/step - loss: 0.2504 - accuracy: 0.9050 - val_loss: 0.6601 - val_accuracy: 0.7968\n",
            "Epoch 80/100\n",
            "419/419 [==============================] - 4s 11ms/step - loss: 0.2736 - accuracy: 0.8961 - val_loss: 0.5542 - val_accuracy: 0.8289\n",
            "Epoch 81/100\n",
            "419/419 [==============================] - 4s 11ms/step - loss: 0.2588 - accuracy: 0.9062 - val_loss: 0.5758 - val_accuracy: 0.8235\n",
            "Epoch 82/100\n",
            "419/419 [==============================] - 4s 11ms/step - loss: 0.2679 - accuracy: 0.9008 - val_loss: 0.6174 - val_accuracy: 0.7861\n",
            "Epoch 83/100\n",
            "419/419 [==============================] - 4s 11ms/step - loss: 0.2427 - accuracy: 0.9176 - val_loss: 0.6249 - val_accuracy: 0.7754\n",
            "Epoch 84/100\n",
            "419/419 [==============================] - 4s 11ms/step - loss: 0.2729 - accuracy: 0.9056 - val_loss: 0.7519 - val_accuracy: 0.7701\n",
            "Epoch 85/100\n",
            "419/419 [==============================] - 4s 11ms/step - loss: 0.2060 - accuracy: 0.9223 - val_loss: 0.9039 - val_accuracy: 0.7380\n",
            "Epoch 86/100\n",
            "419/419 [==============================] - 4s 11ms/step - loss: 0.2415 - accuracy: 0.9140 - val_loss: 0.5533 - val_accuracy: 0.8021\n",
            "Epoch 87/100\n",
            "419/419 [==============================] - 4s 11ms/step - loss: 0.2449 - accuracy: 0.9128 - val_loss: 0.9381 - val_accuracy: 0.7433\n",
            "Epoch 88/100\n",
            "419/419 [==============================] - 4s 11ms/step - loss: 0.2175 - accuracy: 0.9176 - val_loss: 0.5590 - val_accuracy: 0.8075\n",
            "Epoch 89/100\n",
            "419/419 [==============================] - 5s 11ms/step - loss: 0.2180 - accuracy: 0.9223 - val_loss: 0.6077 - val_accuracy: 0.8342\n",
            "Epoch 90/100\n",
            "419/419 [==============================] - 5s 11ms/step - loss: 0.1999 - accuracy: 0.9301 - val_loss: 0.6146 - val_accuracy: 0.8021\n",
            "Epoch 91/100\n",
            "419/419 [==============================] - 4s 11ms/step - loss: 0.2374 - accuracy: 0.9164 - val_loss: 0.6127 - val_accuracy: 0.8182\n",
            "Epoch 92/100\n",
            "419/419 [==============================] - 4s 11ms/step - loss: 0.2052 - accuracy: 0.9188 - val_loss: 0.5139 - val_accuracy: 0.8396\n",
            "Epoch 93/100\n",
            "419/419 [==============================] - 4s 11ms/step - loss: 0.2512 - accuracy: 0.9062 - val_loss: 0.5035 - val_accuracy: 0.8235\n"
          ]
        }
      ]
    },
    {
      "cell_type": "code",
      "source": [
        "# Evaluate the trained model.\n",
        "model_evaluation_history = LRCN_model.evaluate(features_test, labels_test)"
      ],
      "metadata": {
        "colab": {
          "base_uri": "https://localhost:8080/"
        },
        "id": "sa-sTkK6Q-ks",
        "outputId": "34f20352-de94-4566-93b2-0526e26699e0"
      },
      "execution_count": 16,
      "outputs": [
        {
          "output_type": "stream",
          "name": "stdout",
          "text": [
            "7/7 [==============================] - 0s 28ms/step - loss: 0.5577 - accuracy: 0.8019\n"
          ]
        }
      ]
    },
    {
      "cell_type": "code",
      "source": [
        "# Get the loss and accuracy from model_evaluation_history.\n",
        "model_evaluation_loss, model_evaluation_accuracy = model_evaluation_history\n",
        "\n",
        "# Define the string date format.\n",
        "# Get the current Date and Time in a DateTime Object.\n",
        "# Convert the DateTime object to string according to the style mentioned in date_time_format string.\n",
        "date_time_format = '%Y_%m_%d__%H_%M_%S'\n",
        "current_date_time_dt = dt.datetime.now()\n",
        "current_date_time_string = dt.datetime.strftime(current_date_time_dt, date_time_format)\n",
        "    \n",
        "# Define a useful name for our model to make it easy for us while navigating through multiple saved models.\n",
        "model_file_name = f'LRCN_model___Date_Time_{current_date_time_string}___Loss_{model_evaluation_loss}___Accuracy_{model_evaluation_accuracy}.h5'\n",
        "\n",
        "# Save the Model.\n",
        "LRCN_model.save(model_file_name)"
      ],
      "metadata": {
        "id": "D3J57fVJRCEa"
      },
      "execution_count": null,
      "outputs": []
    },
    {
      "cell_type": "code",
      "source": [
        "def plot_metric(model_training_history, metric_name_1, metric_name_2, plot_name):\n",
        "    '''\n",
        "    This function will plot the metrics passed to it in a graph.\n",
        "    Args:\n",
        "        model_training_history: A history object containing a record of training and validation \n",
        "                                loss values and metrics values at successive epochs\n",
        "        metric_name_1:          The name of the first metric that needs to be plotted in the graph.\n",
        "        metric_name_2:          The name of the second metric that needs to be plotted in the graph.\n",
        "        plot_name:              The title of the graph.\n",
        "    '''\n",
        "    \n",
        "    # Get metric values using metric names as identifiers.\n",
        "    metric_value_1 = model_training_history.history[metric_name_1]\n",
        "    metric_value_2 = model_training_history.history[metric_name_2]\n",
        "    \n",
        "    # Construct a range object which will be used as x-axis (horizontal plane) of the graph.\n",
        "    epochs = range(len(metric_value_1))\n",
        "\n",
        "    # Plot the Graph.\n",
        "    plt.plot(epochs, metric_value_1, 'blue', label = metric_name_1)\n",
        "    plt.plot(epochs, metric_value_2, 'red', label = metric_name_2)\n",
        "\n",
        "    # Add title to the plot.\n",
        "    plt.title(str(plot_name))\n",
        "\n",
        "    # Add legend to the plot.\n",
        "    plt.legend()"
      ],
      "metadata": {
        "id": "sXhBv91xRFgU"
      },
      "execution_count": 17,
      "outputs": []
    },
    {
      "cell_type": "code",
      "source": [
        "# Visualize the training and validation loss metrices.\n",
        "plot_metric(LRCN_model_training_history, 'loss', 'val_loss', 'Total Loss vs Total Validation Loss')"
      ],
      "metadata": {
        "colab": {
          "base_uri": "https://localhost:8080/",
          "height": 281
        },
        "id": "cKhf3si1RJUW",
        "outputId": "7bc2664f-fb6a-408a-d976-c92ca7838f3e"
      },
      "execution_count": 18,
      "outputs": [
        {
          "output_type": "display_data",
          "data": {
            "text/plain": [
              "<Figure size 432x288 with 1 Axes>"
            ],
            "image/png": "[encoded data removed]"
          },
          "metadata": {
            "needs_background": "light"
          }
        }
      ]
    },
    {
      "cell_type": "code",
      "source": [
        "# Visualize the training and validation accuracy metrices.\n",
        "plot_metric(LRCN_model_training_history, 'accuracy', 'val_accuracy', 'Total Accuracy vs Total Validation Accuracy')"
      ],
      "metadata": {
        "colab": {
          "base_uri": "https://localhost:8080/",
          "height": 281
        },
        "id": "5JB37wh3RLWX",
        "outputId": "121ab036-1c5c-46e9-df01-4f24e3fbc31f"
      },
      "execution_count": 19,
      "outputs": [
        {
          "output_type": "display_data",
          "data": {
            "text/plain": [
              "<Figure size 432x288 with 1 Axes>"
            ],
            "image/png": "[encoded data removed]"
          },
          "metadata": {
            "needs_background": "light"
          }
        }
      ]
    },
    {
      "cell_type": "code",
      "source": [
        "predictions =  LRCN_model.predict(features_test)\n",
        "predictions\n"
      ],
      "metadata": {
        "colab": {
          "base_uri": "https://localhost:8080/"
        },
        "id": "yM7edJgyRf-P",
        "outputId": "a89e91c6-61a2-4986-855d-22d8c045ce3c"
      },
      "execution_count": 20,
      "outputs": [
        {
          "output_type": "execute_result",
          "data": {
            "text/plain": [
              "array([[3.92727643e-01, 5.89917973e-02, 2.31728633e-03, 3.51955503e-01,\n",
              "        1.36910984e-02, 1.80316627e-01],\n",
              "       [1.94637419e-03, 6.65824336e-05, 3.27917332e-05, 9.94425535e-01,\n",
              "        1.14013231e-03, 2.38846103e-03],\n",
              "       [1.10464636e-04, 5.53736172e-04, 9.93760526e-01, 8.35325220e-04,\n",
              "        1.15646115e-04, 4.62432764e-03],\n",
              "       ...,\n",
              "       [8.41828659e-02, 1.17172867e-01, 2.47181095e-02, 1.04824668e-02,\n",
              "        1.26469741e-02, 7.50796676e-01],\n",
              "       [1.49122599e-04, 1.55036966e-03, 9.97727811e-01, 1.93562009e-04,\n",
              "        2.22961826e-05, 3.56835051e-04],\n",
              "       [1.99399609e-02, 9.69959140e-01, 8.89776833e-03, 9.59501485e-04,\n",
              "        1.58341689e-04, 8.52912199e-05]], dtype=float32)"
            ]
          },
          "metadata": {},
          "execution_count": 20
        }
      ]
    },
    {
      "cell_type": "code",
      "source": [
        "preds=predictions.argmax(axis=1)\n",
        "preds"
      ],
      "metadata": {
        "colab": {
          "base_uri": "https://localhost:8080/"
        },
        "id": "DNHaLfq2RjeT",
        "outputId": "edeee524-18d5-4e91-8172-2b2881f9b58e"
      },
      "execution_count": 21,
      "outputs": [
        {
          "output_type": "execute_result",
          "data": {
            "text/plain": [
              "array([0, 3, 2, 3, 5, 2, 5, 1, 3, 0, 3, 0, 2, 0, 5, 3, 5, 1, 1, 1, 5, 5,\n",
              "       0, 2, 2, 4, 4, 4, 5, 5, 4, 2, 5, 0, 3, 2, 4, 2, 2, 4, 2, 2, 0, 3,\n",
              "       2, 1, 5, 5, 4, 3, 2, 2, 1, 3, 3, 0, 0, 0, 2, 5, 4, 5, 5, 0, 1, 3,\n",
              "       1, 0, 5, 1, 2, 2, 4, 5, 3, 4, 0, 3, 4, 5, 3, 3, 5, 0, 0, 1, 1, 3,\n",
              "       3, 5, 2, 2, 0, 1, 5, 3, 1, 2, 0, 4, 3, 4, 4, 5, 2, 3, 2, 1, 4, 1,\n",
              "       5, 4, 0, 1, 3, 0, 3, 1, 1, 1, 5, 3, 1, 5, 1, 5, 5, 2, 2, 1, 2, 1,\n",
              "       1, 2, 1, 0, 0, 0, 1, 1, 2, 4, 3, 3, 1, 2, 5, 0, 0, 3, 5, 3, 5, 5,\n",
              "       1, 2, 1, 4, 0, 5, 0, 3, 2, 2, 4, 1, 0, 3, 5, 4, 4, 3, 1, 4, 3, 1,\n",
              "       5, 0, 4, 5, 5, 0, 3, 3, 4, 3, 1, 4, 0, 4, 1, 4, 1, 2, 3, 4, 0, 1,\n",
              "       3, 5, 4, 2, 3, 2, 5, 2, 1])"
            ]
          },
          "metadata": {},
          "execution_count": 21
        }
      ]
    },
    {
      "cell_type": "code",
      "source": [
        "new_preds = preds.astype(int).flatten()\n",
        "new_preds"
      ],
      "metadata": {
        "colab": {
          "base_uri": "https://localhost:8080/"
        },
        "id": "0W618McKRl02",
        "outputId": "2712943e-5178-4641-bdb5-cdd461259aca"
      },
      "execution_count": 22,
      "outputs": [
        {
          "output_type": "execute_result",
          "data": {
            "text/plain": [
              "array([0, 3, 2, 3, 5, 2, 5, 1, 3, 0, 3, 0, 2, 0, 5, 3, 5, 1, 1, 1, 5, 5,\n",
              "       0, 2, 2, 4, 4, 4, 5, 5, 4, 2, 5, 0, 3, 2, 4, 2, 2, 4, 2, 2, 0, 3,\n",
              "       2, 1, 5, 5, 4, 3, 2, 2, 1, 3, 3, 0, 0, 0, 2, 5, 4, 5, 5, 0, 1, 3,\n",
              "       1, 0, 5, 1, 2, 2, 4, 5, 3, 4, 0, 3, 4, 5, 3, 3, 5, 0, 0, 1, 1, 3,\n",
              "       3, 5, 2, 2, 0, 1, 5, 3, 1, 2, 0, 4, 3, 4, 4, 5, 2, 3, 2, 1, 4, 1,\n",
              "       5, 4, 0, 1, 3, 0, 3, 1, 1, 1, 5, 3, 1, 5, 1, 5, 5, 2, 2, 1, 2, 1,\n",
              "       1, 2, 1, 0, 0, 0, 1, 1, 2, 4, 3, 3, 1, 2, 5, 0, 0, 3, 5, 3, 5, 5,\n",
              "       1, 2, 1, 4, 0, 5, 0, 3, 2, 2, 4, 1, 0, 3, 5, 4, 4, 3, 1, 4, 3, 1,\n",
              "       5, 0, 4, 5, 5, 0, 3, 3, 4, 3, 1, 4, 0, 4, 1, 4, 1, 2, 3, 4, 0, 1,\n",
              "       3, 5, 4, 2, 3, 2, 5, 2, 1])"
            ]
          },
          "metadata": {},
          "execution_count": 22
        }
      ]
    },
    {
      "cell_type": "code",
      "source": [
        "\n",
        "from sklearn.metrics import classification_report, confusion_matrix,accuracy_score\n",
        "import seaborn as sn\n",
        "import pandas as pd\n",
        "import numpy as np\n",
        "new_labels=np.argmax(labels_test, axis=1)\n",
        "print(classification_report(new_labels,new_preds))\n",
        "\n",
        "acc = float(accuracy_score(new_labels,new_preds))*100\n",
        "print(\"----accuracy score %s ----\" % acc)\n",
        "\n",
        "cm = confusion_matrix(new_labels,new_preds)\n",
        "#df_cm = pd.DataFrame(cm)\n",
        "class_names = ['neutral','calm', 'happy','sad','angry', 'fearful' ]\n",
        "df_cm = pd.DataFrame(cm, index=class_names, columns=class_names,)\n",
        "sn.heatmap(df_cm, annot=True, fmt='')\n",
        "plt.show()\n"
      ],
      "metadata": {
        "colab": {
          "base_uri": "https://localhost:8080/",
          "height": 512
        },
        "id": "cTET95L8RoVW",
        "outputId": "fa60aa80-21f5-4c7f-8eb3-a0ba16e8a60d"
      },
      "execution_count": 23,
      "outputs": [
        {
          "output_type": "stream",
          "name": "stdout",
          "text": [
            "              precision    recall  f1-score   support\n",
            "\n",
            "           0       0.74      0.85      0.79        27\n",
            "           1       0.92      0.80      0.85        44\n",
            "           2       0.86      0.94      0.90        32\n",
            "           3       0.68      0.68      0.68        37\n",
            "           4       0.86      0.78      0.82        32\n",
            "           5       0.76      0.80      0.78        35\n",
            "\n",
            "    accuracy                           0.80       207\n",
            "   macro avg       0.80      0.81      0.80       207\n",
            "weighted avg       0.81      0.80      0.80       207\n",
            "\n",
            "----accuracy score 80.19323671497585 ----\n"
          ]
        },
        {
          "output_type": "display_data",
          "data": {
            "text/plain": [
              "<Figure size 432x288 with 2 Axes>"
            ],
            "image/png": "[encoded data removed]"
          },
          "metadata": {
            "needs_background": "light"
          }
        }
      ]
    },
    {
      "cell_type": "code",
      "source": [
        ""
      ],
      "metadata": {
        "id": "c3nbyK6BfnDR"
      },
      "execution_count": null,
      "outputs": []
    }
  ]
}