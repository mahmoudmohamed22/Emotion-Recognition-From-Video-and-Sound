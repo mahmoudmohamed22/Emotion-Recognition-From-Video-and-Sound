{
  "nbformat": 4,
  "nbformat_minor": 0,
  "metadata": {
    "colab": {
      "name": "original_rms_0.0002_without decay_500_4.ipynb",
      "provenance": [],
      "collapsed_sections": []
    },
    "kernelspec": {
      "name": "python3",
      "display_name": "Python 3"
    },
    "language_info": {
      "name": "python"
    },
    "accelerator": "GPU"
  },
  "cells": [
    {
      "cell_type": "code",
      "execution_count": 1,
      "metadata": {
        "colab": {
          "base_uri": "https://localhost:8080/"
        },
        "id": "9SRCO-a_AlH5",
        "outputId": "46287c84-deac-4f49-a4c3-10fd986c2f02"
      },
      "outputs": [
        {
          "output_type": "stream",
          "name": "stdout",
          "text": [
            "Drive already mounted at /content/drive; to attempt to forcibly remount, call drive.mount(\"/content/drive\", force_remount=True).\n"
          ]
        }
      ],
      "source": [
        "from google.colab import drive\n",
        "drive.mount('/content/drive')"
      ]
    },
    {
      "cell_type": "code",
      "source": [
        "!pip install librosa"
      ],
      "metadata": {
        "colab": {
          "base_uri": "https://localhost:8080/"
        },
        "id": "5Lo4mUwG9RMd",
        "outputId": "5ed2ded7-a43b-4c7a-f9ca-e19d4d879623"
      },
      "execution_count": 2,
      "outputs": [
        {
          "output_type": "stream",
          "name": "stdout",
          "text": [
            "Looking in indexes: https://pypi.org/simple, https://us-python.pkg.dev/colab-wheels/public/simple/\n",
            "Requirement already satisfied: librosa in /usr/local/lib/python3.7/dist-packages (0.8.1)\n",
            "Requirement already satisfied: joblib>=0.14 in /usr/local/lib/python3.7/dist-packages (from librosa) (1.1.0)\n",
            "Requirement already satisfied: resampy>=0.2.2 in /usr/local/lib/python3.7/dist-packages (from librosa) (0.2.2)\n",
            "Requirement already satisfied: numba>=0.43.0 in /usr/local/lib/python3.7/dist-packages (from librosa) (0.51.2)\n",
            "Requirement already satisfied: pooch>=1.0 in /usr/local/lib/python3.7/dist-packages (from librosa) (1.6.0)\n",
            "Requirement already satisfied: scikit-learn!=0.19.0,>=0.14.0 in /usr/local/lib/python3.7/dist-packages (from librosa) (1.0.2)\n",
            "Requirement already satisfied: scipy>=1.0.0 in /usr/local/lib/python3.7/dist-packages (from librosa) (1.4.1)\n",
            "Requirement already satisfied: audioread>=2.0.0 in /usr/local/lib/python3.7/dist-packages (from librosa) (2.1.9)\n",
            "Requirement already satisfied: numpy>=1.15.0 in /usr/local/lib/python3.7/dist-packages (from librosa) (1.21.6)\n",
            "Requirement already satisfied: decorator>=3.0.0 in /usr/local/lib/python3.7/dist-packages (from librosa) (4.4.2)\n",
            "Requirement already satisfied: soundfile>=0.10.2 in /usr/local/lib/python3.7/dist-packages (from librosa) (0.10.3.post1)\n",
            "Requirement already satisfied: packaging>=20.0 in /usr/local/lib/python3.7/dist-packages (from librosa) (21.3)\n",
            "Requirement already satisfied: llvmlite<0.35,>=0.34.0.dev0 in /usr/local/lib/python3.7/dist-packages (from numba>=0.43.0->librosa) (0.34.0)\n",
            "Requirement already satisfied: setuptools in /usr/local/lib/python3.7/dist-packages (from numba>=0.43.0->librosa) (57.4.0)\n",
            "Requirement already satisfied: pyparsing!=3.0.5,>=2.0.2 in /usr/local/lib/python3.7/dist-packages (from packaging>=20.0->librosa) (3.0.9)\n",
            "Requirement already satisfied: requests>=2.19.0 in /usr/local/lib/python3.7/dist-packages (from pooch>=1.0->librosa) (2.23.0)\n",
            "Requirement already satisfied: appdirs>=1.3.0 in /usr/local/lib/python3.7/dist-packages (from pooch>=1.0->librosa) (1.4.4)\n",
            "Requirement already satisfied: certifi>=2017.4.17 in /usr/local/lib/python3.7/dist-packages (from requests>=2.19.0->pooch>=1.0->librosa) (2022.5.18.1)\n",
            "Requirement already satisfied: urllib3!=1.25.0,!=1.25.1,<1.26,>=1.21.1 in /usr/local/lib/python3.7/dist-packages (from requests>=2.19.0->pooch>=1.0->librosa) (1.24.3)\n",
            "Requirement already satisfied: chardet<4,>=3.0.2 in /usr/local/lib/python3.7/dist-packages (from requests>=2.19.0->pooch>=1.0->librosa) (3.0.4)\n",
            "Requirement already satisfied: idna<3,>=2.5 in /usr/local/lib/python3.7/dist-packages (from requests>=2.19.0->pooch>=1.0->librosa) (2.10)\n",
            "Requirement already satisfied: six>=1.3 in /usr/local/lib/python3.7/dist-packages (from resampy>=0.2.2->librosa) (1.15.0)\n",
            "Requirement already satisfied: threadpoolctl>=2.0.0 in /usr/local/lib/python3.7/dist-packages (from scikit-learn!=0.19.0,>=0.14.0->librosa) (3.1.0)\n",
            "Requirement already satisfied: cffi>=1.0 in /usr/local/lib/python3.7/dist-packages (from soundfile>=0.10.2->librosa) (1.15.0)\n",
            "Requirement already satisfied: pycparser in /usr/local/lib/python3.7/dist-packages (from cffi>=1.0->soundfile>=0.10.2->librosa) (2.21)\n"
          ]
        }
      ]
    },
    {
      "cell_type": "code",
      "metadata": {
        "id": "HJjcbxwy46bG",
        "colab": {
          "base_uri": "https://localhost:8080/",
          "height": 17
        },
        "outputId": "b2ee2196-30c9-44da-af93-ee316c983e90"
      },
      "source": [
        "# Orignial Notebook: https://github.com/MITESHPUTHRANNEU/Speech-Emotion-Analyzer/blob/master/final_results_gender_test.ipynb\n",
        "# This notebook author: Reza Chu\n",
        "# Last Editing Date: 31st May 2019\n",
        "\n",
        "## Python\n",
        "import os\n",
        "import random\n",
        "import sys\n",
        "\n",
        "import IPython\n",
        "from IPython.display import Audio\n",
        "from IPython.display import Image\n",
        "import matplotlib.pyplot as plt\n",
        "\n",
        "## Package\n",
        "import glob \n",
        "import keras\n",
        "import IPython.display as ipd\n",
        "import librosa\n",
        "import librosa.display\n",
        "import matplotlib.pyplot as plt\n",
        "import numpy as np\n",
        "import pandas as pd\n",
        "import plotly.graph_objs as go\n",
        "import plotly.offline as py\n",
        "import plotly.tools as tls\n",
        "import seaborn as sns\n",
        "import scipy.io.wavfile\n",
        "import tensorflow as tf\n",
        "py.init_notebook_mode(connected=True)\n",
        "\n",
        "## Keras\n",
        "from keras import regularizers\n",
        "from keras.callbacks import ModelCheckpoint, LearningRateScheduler, EarlyStopping\n",
        "from keras.callbacks import  History, ReduceLROnPlateau, CSVLogger\n",
        "from keras.models import Model, Sequential\n",
        "from keras.layers import Dense, Embedding, LSTM\n",
        "from keras.layers import Input, Flatten, Dropout, Activation, BatchNormalization\n",
        "from keras.layers import Conv1D, MaxPooling1D, AveragePooling1D\n",
        "from keras.preprocessing import sequence\n",
        "from keras.preprocessing.sequence import pad_sequences\n",
        "from keras.preprocessing.text import Tokenizer\n",
        "from keras.utils import np_utils\n",
        "from tensorflow.keras.utils import to_categorical\n",
        "\n",
        "## Sklearn\n",
        "from sklearn.metrics import confusion_matrix\n",
        "from sklearn.preprocessing import LabelEncoder\n",
        "\n",
        "## Rest\n",
        "from scipy.fftpack import fft\n",
        "from scipy import signal\n",
        "from scipy.io import wavfile\n",
        "from tqdm import tqdm\n",
        "\n",
        "input_duration=3\n",
        "# % pylab inline"
      ],
      "execution_count": 3,
      "outputs": [
        {
          "output_type": "display_data",
          "data": {
            "text/html": [
              "        <script type=\"text/javascript\">\n",
              "        window.PlotlyConfig = {MathJaxConfig: 'local'};\n",
              "        if (window.MathJax) {MathJax.Hub.Config({SVG: {font: \"STIX-Web\"}});}\n",
              "        if (typeof require !== 'undefined') {\n",
              "        require.undef(\"plotly\");\n",
              "        requirejs.config({\n",
              "            paths: {\n",
              "                'plotly': ['https://cdn.plot.ly/plotly-2.8.3.min']\n",
              "            }\n",
              "        });\n",
              "        require(['plotly'], function(Plotly) {\n",
              "            window._Plotly = Plotly;\n",
              "        });\n",
              "        }\n",
              "        </script>\n",
              "        "
            ]
          },
          "metadata": {}
        }
      ]
    },
    {
      "cell_type": "code",
      "source": [
        "# # Saving joblib files to not load them again with the loop above\n",
        "\n",
        "# import joblib\n",
        "\n",
        "# X_name = 'x.joblib'\n",
        "# y_name = 'y.joblib'\n",
        "# save_dir = '/content/drive/My Drive/graduation project/audio/paper_code/features'\n",
        "\n",
        "# savedX = joblib.dump(X, os.path.join(save_dir, X_name))\n",
        "# savedy = joblib.dump(y, os.path.join(save_dir, y_name))"
      ],
      "metadata": {
        "id": "UCzic8rlDcuk"
      },
      "execution_count": 4,
      "outputs": []
    },
    {
      "cell_type": "code",
      "source": [
        "# # Loading saved models\n",
        "import joblib\n",
        "X = joblib.load('/content/drive/My Drive/graduation project/audio/paper_code/features/x.joblib')\n",
        "y = joblib.load('/content/drive/My Drive/graduation project/audio/paper_code/features/y.joblib')"
      ],
      "metadata": {
        "id": "Q35CN6zDrzg1"
      },
      "execution_count": 5,
      "outputs": []
    },
    {
      "cell_type": "code",
      "source": [
        "X.shape"
      ],
      "metadata": {
        "colab": {
          "base_uri": "https://localhost:8080/"
        },
        "id": "7PSTurzjCo5K",
        "outputId": "6b9e4161-d999-4c13-8b51-337a161fd126"
      },
      "execution_count": 6,
      "outputs": [
        {
          "output_type": "execute_result",
          "data": {
            "text/plain": [
              "(2068, 40)"
            ]
          },
          "metadata": {},
          "execution_count": 6
        }
      ]
    },
    {
      "cell_type": "code",
      "source": [
        "from sklearn.model_selection import train_test_split\n",
        "\n",
        "X_train, X_test, y_train, y_test = train_test_split(X,y, test_size=0.1 ,shuffle = True\n",
        "                                                    , random_state=42)\n",
        "X_train , X_valid, y_train, y_valid = train_test_split(X_train,y_train, test_size=0.1112305212 , shuffle = True \n",
        "                                                       , random_state=42)"
      ],
      "metadata": {
        "id": "Ai4Fy5cPCiq1"
      },
      "execution_count": 7,
      "outputs": []
    },
    {
      "cell_type": "code",
      "source": [
        "import numpy as np\n",
        "x_traincnn = np.expand_dims(X_train, axis=2)\n",
        "x_testcnn = np.expand_dims(X_test, axis=2)\n",
        "X_valid= np.expand_dims(X_valid, axis=2)"
      ],
      "metadata": {
        "id": "tp1Fm5K3CEXu"
      },
      "execution_count": 8,
      "outputs": []
    },
    {
      "cell_type": "code",
      "source": [
        "x_traincnn.shape, x_testcnn.shape , X_valid.shape\n",
        "#1861"
      ],
      "metadata": {
        "id": "RI0MxoIPBws5",
        "colab": {
          "base_uri": "https://localhost:8080/"
        },
        "outputId": "bce3451a-62d5-4baa-82b2-c4b0dbafbaed"
      },
      "execution_count": 9,
      "outputs": [
        {
          "output_type": "execute_result",
          "data": {
            "text/plain": [
              "((1654, 40, 1), (207, 40, 1), (207, 40, 1))"
            ]
          },
          "metadata": {},
          "execution_count": 9
        }
      ]
    },
    {
      "cell_type": "code",
      "source": [
        "!pip install tensorflow"
      ],
      "metadata": {
        "colab": {
          "base_uri": "https://localhost:8080/"
        },
        "id": "oALhiMUd9G2Y",
        "outputId": "e6efa008-a593-40a7-b885-b64ca06b37e5"
      },
      "execution_count": 10,
      "outputs": [
        {
          "output_type": "stream",
          "name": "stdout",
          "text": [
            "Looking in indexes: https://pypi.org/simple, https://us-python.pkg.dev/colab-wheels/public/simple/\n",
            "Requirement already satisfied: tensorflow in /usr/local/lib/python3.7/dist-packages (2.8.2+zzzcolab20220527125636)\n",
            "Requirement already satisfied: libclang>=9.0.1 in /usr/local/lib/python3.7/dist-packages (from tensorflow) (14.0.1)\n",
            "Requirement already satisfied: tensorflow-estimator<2.9,>=2.8 in /usr/local/lib/python3.7/dist-packages (from tensorflow) (2.8.0)\n",
            "Requirement already satisfied: typing-extensions>=3.6.6 in /usr/local/lib/python3.7/dist-packages (from tensorflow) (4.2.0)\n",
            "Requirement already satisfied: h5py>=2.9.0 in /usr/local/lib/python3.7/dist-packages (from tensorflow) (3.1.0)\n",
            "Requirement already satisfied: opt-einsum>=2.3.2 in /usr/local/lib/python3.7/dist-packages (from tensorflow) (3.3.0)\n",
            "Requirement already satisfied: six>=1.12.0 in /usr/local/lib/python3.7/dist-packages (from tensorflow) (1.15.0)\n",
            "Requirement already satisfied: termcolor>=1.1.0 in /usr/local/lib/python3.7/dist-packages (from tensorflow) (1.1.0)\n",
            "Requirement already satisfied: astunparse>=1.6.0 in /usr/local/lib/python3.7/dist-packages (from tensorflow) (1.6.3)\n",
            "Requirement already satisfied: tensorflow-io-gcs-filesystem>=0.23.1 in /usr/local/lib/python3.7/dist-packages (from tensorflow) (0.26.0)\n",
            "Requirement already satisfied: keras-preprocessing>=1.1.1 in /usr/local/lib/python3.7/dist-packages (from tensorflow) (1.1.2)\n",
            "Requirement already satisfied: google-pasta>=0.1.1 in /usr/local/lib/python3.7/dist-packages (from tensorflow) (0.2.0)\n",
            "Requirement already satisfied: setuptools in /usr/local/lib/python3.7/dist-packages (from tensorflow) (57.4.0)\n",
            "Requirement already satisfied: grpcio<2.0,>=1.24.3 in /usr/local/lib/python3.7/dist-packages (from tensorflow) (1.46.3)\n",
            "Requirement already satisfied: gast>=0.2.1 in /usr/local/lib/python3.7/dist-packages (from tensorflow) (0.5.3)\n",
            "Requirement already satisfied: protobuf<3.20,>=3.9.2 in /usr/local/lib/python3.7/dist-packages (from tensorflow) (3.17.3)\n",
            "Requirement already satisfied: wrapt>=1.11.0 in /usr/local/lib/python3.7/dist-packages (from tensorflow) (1.14.1)\n",
            "Requirement already satisfied: tensorboard<2.9,>=2.8 in /usr/local/lib/python3.7/dist-packages (from tensorflow) (2.8.0)\n",
            "Requirement already satisfied: absl-py>=0.4.0 in /usr/local/lib/python3.7/dist-packages (from tensorflow) (1.0.0)\n",
            "Requirement already satisfied: keras<2.9,>=2.8.0rc0 in /usr/local/lib/python3.7/dist-packages (from tensorflow) (2.8.0)\n",
            "Requirement already satisfied: numpy>=1.20 in /usr/local/lib/python3.7/dist-packages (from tensorflow) (1.21.6)\n",
            "Requirement already satisfied: flatbuffers>=1.12 in /usr/local/lib/python3.7/dist-packages (from tensorflow) (2.0)\n",
            "Requirement already satisfied: wheel<1.0,>=0.23.0 in /usr/local/lib/python3.7/dist-packages (from astunparse>=1.6.0->tensorflow) (0.37.1)\n",
            "Requirement already satisfied: cached-property in /usr/local/lib/python3.7/dist-packages (from h5py>=2.9.0->tensorflow) (1.5.2)\n",
            "Requirement already satisfied: markdown>=2.6.8 in /usr/local/lib/python3.7/dist-packages (from tensorboard<2.9,>=2.8->tensorflow) (3.3.7)\n",
            "Requirement already satisfied: werkzeug>=0.11.15 in /usr/local/lib/python3.7/dist-packages (from tensorboard<2.9,>=2.8->tensorflow) (1.0.1)\n",
            "Requirement already satisfied: google-auth-oauthlib<0.5,>=0.4.1 in /usr/local/lib/python3.7/dist-packages (from tensorboard<2.9,>=2.8->tensorflow) (0.4.6)\n",
            "Requirement already satisfied: requests<3,>=2.21.0 in /usr/local/lib/python3.7/dist-packages (from tensorboard<2.9,>=2.8->tensorflow) (2.23.0)\n",
            "Requirement already satisfied: google-auth<3,>=1.6.3 in /usr/local/lib/python3.7/dist-packages (from tensorboard<2.9,>=2.8->tensorflow) (1.35.0)\n",
            "Requirement already satisfied: tensorboard-plugin-wit>=1.6.0 in /usr/local/lib/python3.7/dist-packages (from tensorboard<2.9,>=2.8->tensorflow) (1.8.1)\n",
            "Requirement already satisfied: tensorboard-data-server<0.7.0,>=0.6.0 in /usr/local/lib/python3.7/dist-packages (from tensorboard<2.9,>=2.8->tensorflow) (0.6.1)\n",
            "Requirement already satisfied: rsa<5,>=3.1.4 in /usr/local/lib/python3.7/dist-packages (from google-auth<3,>=1.6.3->tensorboard<2.9,>=2.8->tensorflow) (4.8)\n",
            "Requirement already satisfied: pyasn1-modules>=0.2.1 in /usr/local/lib/python3.7/dist-packages (from google-auth<3,>=1.6.3->tensorboard<2.9,>=2.8->tensorflow) (0.2.8)\n",
            "Requirement already satisfied: cachetools<5.0,>=2.0.0 in /usr/local/lib/python3.7/dist-packages (from google-auth<3,>=1.6.3->tensorboard<2.9,>=2.8->tensorflow) (4.2.4)\n",
            "Requirement already satisfied: requests-oauthlib>=0.7.0 in /usr/local/lib/python3.7/dist-packages (from google-auth-oauthlib<0.5,>=0.4.1->tensorboard<2.9,>=2.8->tensorflow) (1.3.1)\n",
            "Requirement already satisfied: importlib-metadata>=4.4 in /usr/local/lib/python3.7/dist-packages (from markdown>=2.6.8->tensorboard<2.9,>=2.8->tensorflow) (4.11.4)\n",
            "Requirement already satisfied: zipp>=0.5 in /usr/local/lib/python3.7/dist-packages (from importlib-metadata>=4.4->markdown>=2.6.8->tensorboard<2.9,>=2.8->tensorflow) (3.8.0)\n",
            "Requirement already satisfied: pyasn1<0.5.0,>=0.4.6 in /usr/local/lib/python3.7/dist-packages (from pyasn1-modules>=0.2.1->google-auth<3,>=1.6.3->tensorboard<2.9,>=2.8->tensorflow) (0.4.8)\n",
            "Requirement already satisfied: chardet<4,>=3.0.2 in /usr/local/lib/python3.7/dist-packages (from requests<3,>=2.21.0->tensorboard<2.9,>=2.8->tensorflow) (3.0.4)\n",
            "Requirement already satisfied: certifi>=2017.4.17 in /usr/local/lib/python3.7/dist-packages (from requests<3,>=2.21.0->tensorboard<2.9,>=2.8->tensorflow) (2022.5.18.1)\n",
            "Requirement already satisfied: urllib3!=1.25.0,!=1.25.1,<1.26,>=1.21.1 in /usr/local/lib/python3.7/dist-packages (from requests<3,>=2.21.0->tensorboard<2.9,>=2.8->tensorflow) (1.24.3)\n",
            "Requirement already satisfied: idna<3,>=2.5 in /usr/local/lib/python3.7/dist-packages (from requests<3,>=2.21.0->tensorboard<2.9,>=2.8->tensorflow) (2.10)\n",
            "Requirement already satisfied: oauthlib>=3.0.0 in /usr/local/lib/python3.7/dist-packages (from requests-oauthlib>=0.7.0->google-auth-oauthlib<0.5,>=0.4.1->tensorboard<2.9,>=2.8->tensorflow) (3.2.0)\n"
          ]
        }
      ]
    },
    {
      "cell_type": "code",
      "source": [
        "import keras\n",
        "import numpy as np\n",
        "import matplotlib.pyplot as plt\n",
        "import tensorflow as tf\n",
        "from keras.preprocessing import sequence\n",
        "from keras.models import Sequential\n",
        "from keras.layers import Dense, Embedding\n",
        "from tensorflow.keras.utils import to_categorical\n",
        "from keras.layers import Input, Flatten, Dropout, Activation\n",
        "from keras.layers import Conv1D, MaxPooling1D\n",
        "from keras.models import Model\n",
        "from keras.callbacks import ModelCheckpoint\n",
        "from tensorflow.keras import optimizers\n",
        "\n",
        "model = Sequential()\n",
        "\n",
        "model.add(Conv1D(128, 8,padding='same', #classifier.add(Convolution2D(64, (3, 3), padding = 'same', input_shape = (128, 128, 3), activation = 'relu'))\n",
        "                 input_shape=(40,1)))\n",
        "model.add(Activation('relu'))\n",
        "model.add(Dropout(0.3))\n",
        "model.add(MaxPooling1D(pool_size=(5)))\n",
        "\n",
        "\n",
        "model.add(Conv1D(256,8,padding='same',))\n",
        "model.add(Activation('relu'))\n",
        "model.add(Dropout(0.3))\n",
        "model.add(MaxPooling1D(pool_size=(5)))\n",
        "\n",
        "model.add(Flatten())\n",
        "\n",
        "model.add(Dense(256))\n",
        "model.add(Activation('relu'))\n",
        "model.add(Dense(256))\n",
        "model.add(Activation('relu'))\n",
        "\n",
        "model.add(Dense(6))\n",
        "model.add(Activation('softmax'))\n",
        "\n",
        "opt = tf.keras.optimizers.RMSprop(lr=0.0002 , decay=0.0)\n",
        "#opt = tf.keras.optimizers.RMSprop(lr=0.0001, rho=0.9, epsilon=1e-07, decay=0.0)\n",
        "#opt = tf.keras.optimizers.SGD(lr=0.001, momentum=0.0, decay=0.0, nesterov=False)"
      ],
      "metadata": {
        "id": "g74fXWVAC4Cr",
        "colab": {
          "base_uri": "https://localhost:8080/"
        },
        "outputId": "c231c144-ca95-4716-b929-bb18c303b04d"
      },
      "execution_count": 11,
      "outputs": [
        {
          "output_type": "stream",
          "name": "stderr",
          "text": [
            "/usr/local/lib/python3.7/dist-packages/keras/optimizer_v2/rmsprop.py:130: UserWarning:\n",
            "\n",
            "The `lr` argument is deprecated, use `learning_rate` instead.\n",
            "\n"
          ]
        }
      ]
    },
    {
      "cell_type": "code",
      "source": [
        "model.summary()"
      ],
      "metadata": {
        "colab": {
          "base_uri": "https://localhost:8080/"
        },
        "id": "H6ukOxAGC_I4",
        "outputId": "a938e69a-ec90-4b79-c4e9-07cdb344bebf"
      },
      "execution_count": 12,
      "outputs": [
        {
          "output_type": "stream",
          "name": "stdout",
          "text": [
            "Model: \"sequential\"\n",
            "_________________________________________________________________\n",
            " Layer (type)                Output Shape              Param #   \n",
            "=================================================================\n",
            " conv1d (Conv1D)             (None, 40, 128)           1152      \n",
            "                                                                 \n",
            " activation (Activation)     (None, 40, 128)           0         \n",
            "                                                                 \n",
            " dropout (Dropout)           (None, 40, 128)           0         \n",
            "                                                                 \n",
            " max_pooling1d (MaxPooling1D  (None, 8, 128)           0         \n",
            " )                                                               \n",
            "                                                                 \n",
            " conv1d_1 (Conv1D)           (None, 8, 256)            262400    \n",
            "                                                                 \n",
            " activation_1 (Activation)   (None, 8, 256)            0         \n",
            "                                                                 \n",
            " dropout_1 (Dropout)         (None, 8, 256)            0         \n",
            "                                                                 \n",
            " max_pooling1d_1 (MaxPooling  (None, 1, 256)           0         \n",
            " 1D)                                                             \n",
            "                                                                 \n",
            " flatten (Flatten)           (None, 256)               0         \n",
            "                                                                 \n",
            " dense (Dense)               (None, 256)               65792     \n",
            "                                                                 \n",
            " activation_2 (Activation)   (None, 256)               0         \n",
            "                                                                 \n",
            " dense_1 (Dense)             (None, 256)               65792     \n",
            "                                                                 \n",
            " activation_3 (Activation)   (None, 256)               0         \n",
            "                                                                 \n",
            " dense_2 (Dense)             (None, 6)                 1542      \n",
            "                                                                 \n",
            " activation_4 (Activation)   (None, 6)                 0         \n",
            "                                                                 \n",
            "=================================================================\n",
            "Total params: 396,678\n",
            "Trainable params: 396,678\n",
            "Non-trainable params: 0\n",
            "_________________________________________________________________\n"
          ]
        }
      ]
    },
    {
      "cell_type": "code",
      "source": [
        "model.compile(loss='sparse_categorical_crossentropy',\n",
        "              optimizer=opt,\n",
        "              metrics=['accuracy'])"
      ],
      "metadata": {
        "id": "AbMlLNk4DCBM"
      },
      "execution_count": 13,
      "outputs": []
    },
    {
      "cell_type": "code",
      "source": [
        "# Create an Instance of Early Stopping Callback.\n",
        "early_stopping_callback = EarlyStopping(monitor = 'val_loss', patience = 25, mode = 'min', restore_best_weights = True)\n",
        "\n",
        "cnnhistory=model.fit(x_traincnn, y_train, batch_size=16, epochs=500 , shuffle = True, \n",
        "                     validation_data=(X_valid, y_valid) , callbacks = [early_stopping_callback])"
      ],
      "metadata": {
        "colab": {
          "base_uri": "https://localhost:8080/"
        },
        "id": "RI1v2AuADFhy",
        "outputId": "d4a757f1-08bf-4d54-cbe7-59ffde4c875f"
      },
      "execution_count": 14,
      "outputs": [
        {
          "output_type": "stream",
          "name": "stdout",
          "text": [
            "Epoch 1/500\n",
            "104/104 [==============================] - 4s 7ms/step - loss: 4.1617 - accuracy: 0.1820 - val_loss: 2.6065 - val_accuracy: 0.1932\n",
            "Epoch 2/500\n",
            "104/104 [==============================] - 1s 5ms/step - loss: 2.3439 - accuracy: 0.1953 - val_loss: 1.9567 - val_accuracy: 0.1932\n",
            "Epoch 3/500\n",
            "104/104 [==============================] - 0s 5ms/step - loss: 2.0934 - accuracy: 0.1983 - val_loss: 1.8347 - val_accuracy: 0.1594\n",
            "Epoch 4/500\n",
            "104/104 [==============================] - 1s 5ms/step - loss: 1.9669 - accuracy: 0.2213 - val_loss: 1.8818 - val_accuracy: 0.1884\n",
            "Epoch 5/500\n",
            "104/104 [==============================] - 1s 5ms/step - loss: 1.8893 - accuracy: 0.2261 - val_loss: 1.8569 - val_accuracy: 0.1836\n",
            "Epoch 6/500\n",
            "104/104 [==============================] - 1s 8ms/step - loss: 1.8792 - accuracy: 0.2261 - val_loss: 1.7724 - val_accuracy: 0.3043\n",
            "Epoch 7/500\n",
            "104/104 [==============================] - 1s 7ms/step - loss: 1.8018 - accuracy: 0.2515 - val_loss: 1.7633 - val_accuracy: 0.2029\n",
            "Epoch 8/500\n",
            "104/104 [==============================] - 1s 8ms/step - loss: 1.7802 - accuracy: 0.2527 - val_loss: 1.7435 - val_accuracy: 0.2415\n",
            "Epoch 9/500\n",
            "104/104 [==============================] - 1s 9ms/step - loss: 1.7369 - accuracy: 0.2751 - val_loss: 1.6715 - val_accuracy: 0.2947\n",
            "Epoch 10/500\n",
            "104/104 [==============================] - 1s 9ms/step - loss: 1.7002 - accuracy: 0.2830 - val_loss: 1.6093 - val_accuracy: 0.2947\n",
            "Epoch 11/500\n",
            "104/104 [==============================] - 1s 9ms/step - loss: 1.6612 - accuracy: 0.2993 - val_loss: 1.6435 - val_accuracy: 0.2899\n",
            "Epoch 12/500\n",
            "104/104 [==============================] - 1s 8ms/step - loss: 1.6436 - accuracy: 0.3138 - val_loss: 1.6119 - val_accuracy: 0.3188\n",
            "Epoch 13/500\n",
            "104/104 [==============================] - 1s 8ms/step - loss: 1.6010 - accuracy: 0.3434 - val_loss: 1.7590 - val_accuracy: 0.2222\n",
            "Epoch 14/500\n",
            "104/104 [==============================] - 1s 8ms/step - loss: 1.5744 - accuracy: 0.3422 - val_loss: 1.5757 - val_accuracy: 0.3237\n",
            "Epoch 15/500\n",
            "104/104 [==============================] - 1s 8ms/step - loss: 1.5470 - accuracy: 0.3349 - val_loss: 1.4776 - val_accuracy: 0.3816\n",
            "Epoch 16/500\n",
            "104/104 [==============================] - 1s 8ms/step - loss: 1.5090 - accuracy: 0.3658 - val_loss: 1.4781 - val_accuracy: 0.3768\n",
            "Epoch 17/500\n",
            "104/104 [==============================] - 1s 8ms/step - loss: 1.4747 - accuracy: 0.3966 - val_loss: 1.4812 - val_accuracy: 0.3720\n",
            "Epoch 18/500\n",
            "104/104 [==============================] - 1s 9ms/step - loss: 1.4742 - accuracy: 0.3797 - val_loss: 1.5074 - val_accuracy: 0.3816\n",
            "Epoch 19/500\n",
            "104/104 [==============================] - 1s 9ms/step - loss: 1.4469 - accuracy: 0.3875 - val_loss: 1.4757 - val_accuracy: 0.3430\n",
            "Epoch 20/500\n",
            "104/104 [==============================] - 1s 8ms/step - loss: 1.4138 - accuracy: 0.4250 - val_loss: 1.4238 - val_accuracy: 0.4541\n",
            "Epoch 21/500\n",
            "104/104 [==============================] - 1s 9ms/step - loss: 1.3772 - accuracy: 0.4281 - val_loss: 1.3785 - val_accuracy: 0.4348\n",
            "Epoch 22/500\n",
            "104/104 [==============================] - 1s 8ms/step - loss: 1.3736 - accuracy: 0.4268 - val_loss: 1.4010 - val_accuracy: 0.3720\n",
            "Epoch 23/500\n",
            "104/104 [==============================] - 1s 8ms/step - loss: 1.3417 - accuracy: 0.4504 - val_loss: 1.4177 - val_accuracy: 0.3768\n",
            "Epoch 24/500\n",
            "104/104 [==============================] - 1s 9ms/step - loss: 1.3256 - accuracy: 0.4613 - val_loss: 1.2994 - val_accuracy: 0.4638\n",
            "Epoch 25/500\n",
            "104/104 [==============================] - 1s 8ms/step - loss: 1.3068 - accuracy: 0.4619 - val_loss: 1.2759 - val_accuracy: 0.4783\n",
            "Epoch 26/500\n",
            "104/104 [==============================] - 1s 7ms/step - loss: 1.2731 - accuracy: 0.4752 - val_loss: 1.2802 - val_accuracy: 0.4783\n",
            "Epoch 27/500\n",
            "104/104 [==============================] - 1s 9ms/step - loss: 1.2543 - accuracy: 0.4891 - val_loss: 1.2454 - val_accuracy: 0.4976\n",
            "Epoch 28/500\n",
            "104/104 [==============================] - 1s 9ms/step - loss: 1.2349 - accuracy: 0.4831 - val_loss: 1.1902 - val_accuracy: 0.5362\n",
            "Epoch 29/500\n",
            "104/104 [==============================] - 1s 9ms/step - loss: 1.2188 - accuracy: 0.4976 - val_loss: 1.1841 - val_accuracy: 0.5314\n",
            "Epoch 30/500\n",
            "104/104 [==============================] - 1s 8ms/step - loss: 1.1847 - accuracy: 0.4903 - val_loss: 1.2727 - val_accuracy: 0.4686\n",
            "Epoch 31/500\n",
            "104/104 [==============================] - 1s 7ms/step - loss: 1.1748 - accuracy: 0.5236 - val_loss: 1.1674 - val_accuracy: 0.5217\n",
            "Epoch 32/500\n",
            "104/104 [==============================] - 1s 7ms/step - loss: 1.1631 - accuracy: 0.5218 - val_loss: 1.1843 - val_accuracy: 0.5169\n",
            "Epoch 33/500\n",
            "104/104 [==============================] - 1s 7ms/step - loss: 1.1244 - accuracy: 0.5326 - val_loss: 1.2240 - val_accuracy: 0.5217\n",
            "Epoch 34/500\n",
            "104/104 [==============================] - 0s 5ms/step - loss: 1.1157 - accuracy: 0.5284 - val_loss: 1.1542 - val_accuracy: 0.5556\n",
            "Epoch 35/500\n",
            "104/104 [==============================] - 0s 5ms/step - loss: 1.1103 - accuracy: 0.5441 - val_loss: 1.1802 - val_accuracy: 0.5169\n",
            "Epoch 36/500\n",
            "104/104 [==============================] - 1s 5ms/step - loss: 1.1210 - accuracy: 0.5339 - val_loss: 1.0529 - val_accuracy: 0.5749\n",
            "Epoch 37/500\n",
            "104/104 [==============================] - 0s 4ms/step - loss: 1.0877 - accuracy: 0.5532 - val_loss: 1.1645 - val_accuracy: 0.5169\n",
            "Epoch 38/500\n",
            "104/104 [==============================] - 0s 5ms/step - loss: 1.0498 - accuracy: 0.5701 - val_loss: 1.0749 - val_accuracy: 0.6135\n",
            "Epoch 39/500\n",
            "104/104 [==============================] - 1s 5ms/step - loss: 1.0322 - accuracy: 0.5732 - val_loss: 1.0755 - val_accuracy: 0.5700\n",
            "Epoch 40/500\n",
            "104/104 [==============================] - 0s 5ms/step - loss: 1.0290 - accuracy: 0.5804 - val_loss: 1.1234 - val_accuracy: 0.5362\n",
            "Epoch 41/500\n",
            "104/104 [==============================] - 1s 5ms/step - loss: 1.0350 - accuracy: 0.5701 - val_loss: 1.1018 - val_accuracy: 0.5894\n",
            "Epoch 42/500\n",
            "104/104 [==============================] - 0s 5ms/step - loss: 1.0003 - accuracy: 0.5937 - val_loss: 1.0077 - val_accuracy: 0.5990\n",
            "Epoch 43/500\n",
            "104/104 [==============================] - 0s 5ms/step - loss: 0.9942 - accuracy: 0.5949 - val_loss: 1.0054 - val_accuracy: 0.5845\n",
            "Epoch 44/500\n",
            "104/104 [==============================] - 1s 5ms/step - loss: 1.0059 - accuracy: 0.5852 - val_loss: 1.0867 - val_accuracy: 0.5024\n",
            "Epoch 45/500\n",
            "104/104 [==============================] - 1s 5ms/step - loss: 0.9862 - accuracy: 0.6088 - val_loss: 1.0035 - val_accuracy: 0.6280\n",
            "Epoch 46/500\n",
            "104/104 [==============================] - 0s 5ms/step - loss: 0.9820 - accuracy: 0.5992 - val_loss: 0.9551 - val_accuracy: 0.6715\n",
            "Epoch 47/500\n",
            "104/104 [==============================] - 0s 5ms/step - loss: 0.9638 - accuracy: 0.6100 - val_loss: 0.9654 - val_accuracy: 0.6618\n",
            "Epoch 48/500\n",
            "104/104 [==============================] - 0s 5ms/step - loss: 0.9625 - accuracy: 0.6070 - val_loss: 0.9710 - val_accuracy: 0.6522\n",
            "Epoch 49/500\n",
            "104/104 [==============================] - 0s 5ms/step - loss: 0.9296 - accuracy: 0.6258 - val_loss: 0.9420 - val_accuracy: 0.6377\n",
            "Epoch 50/500\n",
            "104/104 [==============================] - 0s 4ms/step - loss: 0.9361 - accuracy: 0.6221 - val_loss: 0.9465 - val_accuracy: 0.6667\n",
            "Epoch 51/500\n",
            "104/104 [==============================] - 1s 5ms/step - loss: 0.9316 - accuracy: 0.6161 - val_loss: 0.9626 - val_accuracy: 0.5556\n",
            "Epoch 52/500\n",
            "104/104 [==============================] - 1s 5ms/step - loss: 0.9483 - accuracy: 0.6203 - val_loss: 0.9110 - val_accuracy: 0.6860\n",
            "Epoch 53/500\n",
            "104/104 [==============================] - 0s 5ms/step - loss: 0.8836 - accuracy: 0.6378 - val_loss: 0.9520 - val_accuracy: 0.6232\n",
            "Epoch 54/500\n",
            "104/104 [==============================] - 1s 5ms/step - loss: 0.8928 - accuracy: 0.6391 - val_loss: 1.0051 - val_accuracy: 0.5845\n",
            "Epoch 55/500\n",
            "104/104 [==============================] - 1s 5ms/step - loss: 0.8770 - accuracy: 0.6457 - val_loss: 0.8858 - val_accuracy: 0.6715\n",
            "Epoch 56/500\n",
            "104/104 [==============================] - 1s 5ms/step - loss: 0.8816 - accuracy: 0.6378 - val_loss: 0.9319 - val_accuracy: 0.6184\n",
            "Epoch 57/500\n",
            "104/104 [==============================] - 0s 5ms/step - loss: 0.8730 - accuracy: 0.6487 - val_loss: 0.8901 - val_accuracy: 0.6618\n",
            "Epoch 58/500\n",
            "104/104 [==============================] - 0s 5ms/step - loss: 0.8468 - accuracy: 0.6511 - val_loss: 0.8634 - val_accuracy: 0.6425\n",
            "Epoch 59/500\n",
            "104/104 [==============================] - 0s 5ms/step - loss: 0.8594 - accuracy: 0.6481 - val_loss: 0.8701 - val_accuracy: 0.6957\n",
            "Epoch 60/500\n",
            "104/104 [==============================] - 1s 5ms/step - loss: 0.8411 - accuracy: 0.6657 - val_loss: 0.8679 - val_accuracy: 0.6715\n",
            "Epoch 61/500\n",
            "104/104 [==============================] - 1s 5ms/step - loss: 0.8566 - accuracy: 0.6487 - val_loss: 0.8812 - val_accuracy: 0.6377\n",
            "Epoch 62/500\n",
            "104/104 [==============================] - 1s 5ms/step - loss: 0.8355 - accuracy: 0.6505 - val_loss: 0.8840 - val_accuracy: 0.6715\n",
            "Epoch 63/500\n",
            "104/104 [==============================] - 1s 5ms/step - loss: 0.8074 - accuracy: 0.6778 - val_loss: 0.8598 - val_accuracy: 0.6715\n",
            "Epoch 64/500\n",
            "104/104 [==============================] - 0s 5ms/step - loss: 0.8082 - accuracy: 0.6814 - val_loss: 0.8921 - val_accuracy: 0.6667\n",
            "Epoch 65/500\n",
            "104/104 [==============================] - 1s 5ms/step - loss: 0.8248 - accuracy: 0.6687 - val_loss: 0.9169 - val_accuracy: 0.5845\n",
            "Epoch 66/500\n",
            "104/104 [==============================] - 1s 5ms/step - loss: 0.7985 - accuracy: 0.6856 - val_loss: 0.9105 - val_accuracy: 0.6667\n",
            "Epoch 67/500\n",
            "104/104 [==============================] - 0s 5ms/step - loss: 0.8166 - accuracy: 0.6826 - val_loss: 0.9085 - val_accuracy: 0.5990\n",
            "Epoch 68/500\n",
            "104/104 [==============================] - 0s 5ms/step - loss: 0.7854 - accuracy: 0.6892 - val_loss: 0.7942 - val_accuracy: 0.7005\n",
            "Epoch 69/500\n",
            "104/104 [==============================] - 0s 4ms/step - loss: 0.8022 - accuracy: 0.6735 - val_loss: 0.9432 - val_accuracy: 0.6087\n",
            "Epoch 70/500\n",
            "104/104 [==============================] - 0s 5ms/step - loss: 0.7550 - accuracy: 0.6977 - val_loss: 0.7665 - val_accuracy: 0.7053\n",
            "Epoch 71/500\n",
            "104/104 [==============================] - 1s 5ms/step - loss: 0.7512 - accuracy: 0.7098 - val_loss: 0.8332 - val_accuracy: 0.7150\n",
            "Epoch 72/500\n",
            "104/104 [==============================] - 1s 5ms/step - loss: 0.7600 - accuracy: 0.6953 - val_loss: 0.7794 - val_accuracy: 0.7198\n",
            "Epoch 73/500\n",
            "104/104 [==============================] - 1s 5ms/step - loss: 0.7644 - accuracy: 0.6947 - val_loss: 0.8474 - val_accuracy: 0.6618\n",
            "Epoch 74/500\n",
            "104/104 [==============================] - 0s 5ms/step - loss: 0.7559 - accuracy: 0.6935 - val_loss: 0.7952 - val_accuracy: 0.6763\n",
            "Epoch 75/500\n",
            "104/104 [==============================] - 0s 5ms/step - loss: 0.7409 - accuracy: 0.6880 - val_loss: 0.8127 - val_accuracy: 0.6860\n",
            "Epoch 76/500\n",
            "104/104 [==============================] - 0s 5ms/step - loss: 0.7323 - accuracy: 0.7050 - val_loss: 0.7944 - val_accuracy: 0.6908\n",
            "Epoch 77/500\n",
            "104/104 [==============================] - 0s 5ms/step - loss: 0.7166 - accuracy: 0.7122 - val_loss: 0.8896 - val_accuracy: 0.6425\n",
            "Epoch 78/500\n",
            "104/104 [==============================] - 0s 5ms/step - loss: 0.7425 - accuracy: 0.7019 - val_loss: 0.8278 - val_accuracy: 0.7391\n",
            "Epoch 79/500\n",
            "104/104 [==============================] - 1s 5ms/step - loss: 0.7147 - accuracy: 0.7116 - val_loss: 0.7889 - val_accuracy: 0.6908\n",
            "Epoch 80/500\n",
            "104/104 [==============================] - 0s 5ms/step - loss: 0.7122 - accuracy: 0.7044 - val_loss: 0.7983 - val_accuracy: 0.6667\n",
            "Epoch 81/500\n",
            "104/104 [==============================] - 1s 5ms/step - loss: 0.7160 - accuracy: 0.7140 - val_loss: 0.7586 - val_accuracy: 0.7343\n",
            "Epoch 82/500\n",
            "104/104 [==============================] - 0s 5ms/step - loss: 0.7194 - accuracy: 0.7110 - val_loss: 0.8103 - val_accuracy: 0.6715\n",
            "Epoch 83/500\n",
            "104/104 [==============================] - 0s 5ms/step - loss: 0.6758 - accuracy: 0.7243 - val_loss: 0.7535 - val_accuracy: 0.7150\n",
            "Epoch 84/500\n",
            "104/104 [==============================] - 1s 5ms/step - loss: 0.7121 - accuracy: 0.7219 - val_loss: 0.7691 - val_accuracy: 0.7343\n",
            "Epoch 85/500\n",
            "104/104 [==============================] - 0s 5ms/step - loss: 0.6829 - accuracy: 0.7219 - val_loss: 0.8125 - val_accuracy: 0.6860\n",
            "Epoch 86/500\n",
            "104/104 [==============================] - 0s 5ms/step - loss: 0.6622 - accuracy: 0.7340 - val_loss: 0.8749 - val_accuracy: 0.6232\n",
            "Epoch 87/500\n",
            "104/104 [==============================] - 0s 5ms/step - loss: 0.6858 - accuracy: 0.7273 - val_loss: 0.7410 - val_accuracy: 0.7246\n",
            "Epoch 88/500\n",
            "104/104 [==============================] - 0s 5ms/step - loss: 0.6631 - accuracy: 0.7364 - val_loss: 0.7563 - val_accuracy: 0.7198\n",
            "Epoch 89/500\n",
            "104/104 [==============================] - 0s 5ms/step - loss: 0.6627 - accuracy: 0.7267 - val_loss: 0.8018 - val_accuracy: 0.6618\n",
            "Epoch 90/500\n",
            "104/104 [==============================] - 0s 4ms/step - loss: 0.6612 - accuracy: 0.7334 - val_loss: 0.7422 - val_accuracy: 0.7005\n",
            "Epoch 91/500\n",
            "104/104 [==============================] - 1s 5ms/step - loss: 0.6420 - accuracy: 0.7497 - val_loss: 0.7478 - val_accuracy: 0.7150\n",
            "Epoch 92/500\n",
            "104/104 [==============================] - 0s 5ms/step - loss: 0.6283 - accuracy: 0.7479 - val_loss: 0.6859 - val_accuracy: 0.7391\n",
            "Epoch 93/500\n",
            "104/104 [==============================] - 0s 5ms/step - loss: 0.6476 - accuracy: 0.7424 - val_loss: 0.8054 - val_accuracy: 0.6860\n",
            "Epoch 94/500\n",
            "104/104 [==============================] - 1s 5ms/step - loss: 0.6273 - accuracy: 0.7497 - val_loss: 0.6806 - val_accuracy: 0.7440\n",
            "Epoch 95/500\n",
            "104/104 [==============================] - 1s 5ms/step - loss: 0.6332 - accuracy: 0.7424 - val_loss: 0.7908 - val_accuracy: 0.7150\n",
            "Epoch 96/500\n",
            "104/104 [==============================] - 1s 5ms/step - loss: 0.6235 - accuracy: 0.7418 - val_loss: 0.7184 - val_accuracy: 0.7391\n",
            "Epoch 97/500\n",
            "104/104 [==============================] - 1s 5ms/step - loss: 0.6225 - accuracy: 0.7563 - val_loss: 0.7002 - val_accuracy: 0.7295\n",
            "Epoch 98/500\n",
            "104/104 [==============================] - 1s 5ms/step - loss: 0.6144 - accuracy: 0.7576 - val_loss: 0.8328 - val_accuracy: 0.6763\n",
            "Epoch 99/500\n",
            "104/104 [==============================] - 0s 5ms/step - loss: 0.6349 - accuracy: 0.7515 - val_loss: 0.7390 - val_accuracy: 0.7198\n",
            "Epoch 100/500\n",
            "104/104 [==============================] - 1s 5ms/step - loss: 0.6116 - accuracy: 0.7606 - val_loss: 0.7045 - val_accuracy: 0.7101\n",
            "Epoch 101/500\n",
            "104/104 [==============================] - 1s 5ms/step - loss: 0.5968 - accuracy: 0.7618 - val_loss: 0.7153 - val_accuracy: 0.7198\n",
            "Epoch 102/500\n",
            "104/104 [==============================] - 0s 5ms/step - loss: 0.6085 - accuracy: 0.7739 - val_loss: 0.7333 - val_accuracy: 0.7343\n",
            "Epoch 103/500\n",
            "104/104 [==============================] - 1s 5ms/step - loss: 0.5962 - accuracy: 0.7757 - val_loss: 0.6698 - val_accuracy: 0.7585\n",
            "Epoch 104/500\n",
            "104/104 [==============================] - 1s 5ms/step - loss: 0.5893 - accuracy: 0.7696 - val_loss: 0.7320 - val_accuracy: 0.7391\n",
            "Epoch 105/500\n",
            "104/104 [==============================] - 1s 5ms/step - loss: 0.5907 - accuracy: 0.7612 - val_loss: 0.7942 - val_accuracy: 0.7005\n",
            "Epoch 106/500\n",
            "104/104 [==============================] - 1s 5ms/step - loss: 0.5769 - accuracy: 0.7684 - val_loss: 0.7079 - val_accuracy: 0.7343\n",
            "Epoch 107/500\n",
            "104/104 [==============================] - 1s 5ms/step - loss: 0.5673 - accuracy: 0.7793 - val_loss: 0.8353 - val_accuracy: 0.6908\n",
            "Epoch 108/500\n",
            "104/104 [==============================] - 1s 5ms/step - loss: 0.5872 - accuracy: 0.7684 - val_loss: 0.7848 - val_accuracy: 0.7101\n",
            "Epoch 109/500\n",
            "104/104 [==============================] - 1s 5ms/step - loss: 0.5668 - accuracy: 0.7938 - val_loss: 0.6976 - val_accuracy: 0.7343\n",
            "Epoch 110/500\n",
            "104/104 [==============================] - 1s 5ms/step - loss: 0.5607 - accuracy: 0.7884 - val_loss: 0.6877 - val_accuracy: 0.7198\n",
            "Epoch 111/500\n",
            "104/104 [==============================] - 0s 5ms/step - loss: 0.5938 - accuracy: 0.7696 - val_loss: 0.7148 - val_accuracy: 0.7295\n",
            "Epoch 112/500\n",
            "104/104 [==============================] - 0s 5ms/step - loss: 0.5543 - accuracy: 0.7830 - val_loss: 0.7503 - val_accuracy: 0.7246\n",
            "Epoch 113/500\n",
            "104/104 [==============================] - 1s 5ms/step - loss: 0.5913 - accuracy: 0.7793 - val_loss: 0.6897 - val_accuracy: 0.7536\n",
            "Epoch 114/500\n",
            "104/104 [==============================] - 0s 5ms/step - loss: 0.5487 - accuracy: 0.7884 - val_loss: 0.6598 - val_accuracy: 0.7585\n",
            "Epoch 115/500\n",
            "104/104 [==============================] - 1s 5ms/step - loss: 0.5580 - accuracy: 0.7757 - val_loss: 0.7103 - val_accuracy: 0.7246\n",
            "Epoch 116/500\n",
            "104/104 [==============================] - 0s 5ms/step - loss: 0.5410 - accuracy: 0.7981 - val_loss: 0.6787 - val_accuracy: 0.7633\n",
            "Epoch 117/500\n",
            "104/104 [==============================] - 0s 5ms/step - loss: 0.5485 - accuracy: 0.7854 - val_loss: 0.6424 - val_accuracy: 0.7778\n",
            "Epoch 118/500\n",
            "104/104 [==============================] - 1s 5ms/step - loss: 0.5287 - accuracy: 0.7920 - val_loss: 0.6736 - val_accuracy: 0.7295\n",
            "Epoch 119/500\n",
            "104/104 [==============================] - 0s 5ms/step - loss: 0.5231 - accuracy: 0.7932 - val_loss: 0.6799 - val_accuracy: 0.7488\n",
            "Epoch 120/500\n",
            "104/104 [==============================] - 0s 5ms/step - loss: 0.5229 - accuracy: 0.7969 - val_loss: 0.7081 - val_accuracy: 0.7295\n",
            "Epoch 121/500\n",
            "104/104 [==============================] - 1s 5ms/step - loss: 0.5201 - accuracy: 0.7956 - val_loss: 0.7129 - val_accuracy: 0.7150\n",
            "Epoch 122/500\n",
            "104/104 [==============================] - 1s 5ms/step - loss: 0.5405 - accuracy: 0.7872 - val_loss: 0.6944 - val_accuracy: 0.7440\n",
            "Epoch 123/500\n",
            "104/104 [==============================] - 0s 5ms/step - loss: 0.5255 - accuracy: 0.7932 - val_loss: 0.6489 - val_accuracy: 0.7295\n",
            "Epoch 124/500\n",
            "104/104 [==============================] - 0s 5ms/step - loss: 0.5068 - accuracy: 0.8053 - val_loss: 0.6409 - val_accuracy: 0.7729\n",
            "Epoch 125/500\n",
            "104/104 [==============================] - 1s 5ms/step - loss: 0.5134 - accuracy: 0.8023 - val_loss: 0.6406 - val_accuracy: 0.7633\n",
            "Epoch 126/500\n",
            "104/104 [==============================] - 0s 5ms/step - loss: 0.5038 - accuracy: 0.8150 - val_loss: 0.6642 - val_accuracy: 0.7633\n",
            "Epoch 127/500\n",
            "104/104 [==============================] - 1s 5ms/step - loss: 0.4979 - accuracy: 0.8108 - val_loss: 0.7063 - val_accuracy: 0.7391\n",
            "Epoch 128/500\n",
            "104/104 [==============================] - 1s 5ms/step - loss: 0.5119 - accuracy: 0.8077 - val_loss: 0.6018 - val_accuracy: 0.7778\n",
            "Epoch 129/500\n",
            "104/104 [==============================] - 0s 5ms/step - loss: 0.5175 - accuracy: 0.7932 - val_loss: 0.5915 - val_accuracy: 0.7633\n",
            "Epoch 130/500\n",
            "104/104 [==============================] - 0s 5ms/step - loss: 0.4974 - accuracy: 0.8120 - val_loss: 0.6150 - val_accuracy: 0.7488\n",
            "Epoch 131/500\n",
            "104/104 [==============================] - 0s 5ms/step - loss: 0.4954 - accuracy: 0.8071 - val_loss: 0.6024 - val_accuracy: 0.7343\n",
            "Epoch 132/500\n",
            "104/104 [==============================] - 0s 5ms/step - loss: 0.5064 - accuracy: 0.8005 - val_loss: 0.6436 - val_accuracy: 0.7440\n",
            "Epoch 133/500\n",
            "104/104 [==============================] - 1s 5ms/step - loss: 0.4799 - accuracy: 0.8017 - val_loss: 0.6950 - val_accuracy: 0.7053\n",
            "Epoch 134/500\n",
            "104/104 [==============================] - 0s 5ms/step - loss: 0.4843 - accuracy: 0.8174 - val_loss: 0.6067 - val_accuracy: 0.7923\n",
            "Epoch 135/500\n",
            "104/104 [==============================] - 0s 5ms/step - loss: 0.4854 - accuracy: 0.8162 - val_loss: 0.6035 - val_accuracy: 0.7681\n",
            "Epoch 136/500\n",
            "104/104 [==============================] - 1s 5ms/step - loss: 0.4749 - accuracy: 0.8210 - val_loss: 0.6375 - val_accuracy: 0.7729\n",
            "Epoch 137/500\n",
            "104/104 [==============================] - 1s 5ms/step - loss: 0.4972 - accuracy: 0.8132 - val_loss: 0.6415 - val_accuracy: 0.7681\n",
            "Epoch 138/500\n",
            "104/104 [==============================] - 1s 5ms/step - loss: 0.4508 - accuracy: 0.8253 - val_loss: 0.6033 - val_accuracy: 0.7633\n",
            "Epoch 139/500\n",
            "104/104 [==============================] - 1s 5ms/step - loss: 0.4692 - accuracy: 0.8138 - val_loss: 0.6041 - val_accuracy: 0.7681\n",
            "Epoch 140/500\n",
            "104/104 [==============================] - 0s 5ms/step - loss: 0.4912 - accuracy: 0.8186 - val_loss: 0.7795 - val_accuracy: 0.7295\n",
            "Epoch 141/500\n",
            "104/104 [==============================] - 1s 5ms/step - loss: 0.4710 - accuracy: 0.8271 - val_loss: 0.6394 - val_accuracy: 0.7488\n",
            "Epoch 142/500\n",
            "104/104 [==============================] - 0s 5ms/step - loss: 0.4729 - accuracy: 0.8192 - val_loss: 0.6449 - val_accuracy: 0.7633\n",
            "Epoch 143/500\n",
            "104/104 [==============================] - 1s 5ms/step - loss: 0.4573 - accuracy: 0.8222 - val_loss: 0.5800 - val_accuracy: 0.7874\n",
            "Epoch 144/500\n",
            "104/104 [==============================] - 0s 5ms/step - loss: 0.4514 - accuracy: 0.8368 - val_loss: 0.6778 - val_accuracy: 0.7440\n",
            "Epoch 145/500\n",
            "104/104 [==============================] - 1s 8ms/step - loss: 0.4536 - accuracy: 0.8210 - val_loss: 0.6242 - val_accuracy: 0.7633\n",
            "Epoch 146/500\n",
            "104/104 [==============================] - 1s 6ms/step - loss: 0.4530 - accuracy: 0.8283 - val_loss: 0.6510 - val_accuracy: 0.7585\n",
            "Epoch 147/500\n",
            "104/104 [==============================] - 1s 8ms/step - loss: 0.4400 - accuracy: 0.8283 - val_loss: 0.6680 - val_accuracy: 0.7585\n",
            "Epoch 148/500\n",
            "104/104 [==============================] - 1s 6ms/step - loss: 0.4741 - accuracy: 0.8319 - val_loss: 0.6141 - val_accuracy: 0.7923\n",
            "Epoch 149/500\n",
            "104/104 [==============================] - 1s 9ms/step - loss: 0.4348 - accuracy: 0.8337 - val_loss: 0.6473 - val_accuracy: 0.7633\n",
            "Epoch 150/500\n",
            "104/104 [==============================] - 1s 5ms/step - loss: 0.4644 - accuracy: 0.8271 - val_loss: 0.6018 - val_accuracy: 0.7826\n",
            "Epoch 151/500\n",
            "104/104 [==============================] - 1s 5ms/step - loss: 0.4473 - accuracy: 0.8259 - val_loss: 0.6122 - val_accuracy: 0.8019\n",
            "Epoch 152/500\n",
            "104/104 [==============================] - 1s 5ms/step - loss: 0.4536 - accuracy: 0.8307 - val_loss: 0.6159 - val_accuracy: 0.7923\n",
            "Epoch 153/500\n",
            "104/104 [==============================] - 1s 5ms/step - loss: 0.4190 - accuracy: 0.8428 - val_loss: 0.6750 - val_accuracy: 0.7633\n",
            "Epoch 154/500\n",
            "104/104 [==============================] - 1s 5ms/step - loss: 0.4329 - accuracy: 0.8349 - val_loss: 0.6375 - val_accuracy: 0.7729\n",
            "Epoch 155/500\n",
            "104/104 [==============================] - 1s 5ms/step - loss: 0.4203 - accuracy: 0.8404 - val_loss: 0.6933 - val_accuracy: 0.7585\n",
            "Epoch 156/500\n",
            "104/104 [==============================] - 0s 5ms/step - loss: 0.4330 - accuracy: 0.8422 - val_loss: 0.7473 - val_accuracy: 0.7633\n",
            "Epoch 157/500\n",
            "104/104 [==============================] - 0s 5ms/step - loss: 0.4431 - accuracy: 0.8259 - val_loss: 0.6264 - val_accuracy: 0.7826\n",
            "Epoch 158/500\n",
            "104/104 [==============================] - 1s 5ms/step - loss: 0.4522 - accuracy: 0.8313 - val_loss: 0.6934 - val_accuracy: 0.7198\n",
            "Epoch 159/500\n",
            "104/104 [==============================] - 0s 5ms/step - loss: 0.4072 - accuracy: 0.8404 - val_loss: 0.6495 - val_accuracy: 0.7826\n",
            "Epoch 160/500\n",
            "104/104 [==============================] - 1s 5ms/step - loss: 0.4327 - accuracy: 0.8356 - val_loss: 0.6128 - val_accuracy: 0.7826\n",
            "Epoch 161/500\n",
            "104/104 [==============================] - 0s 5ms/step - loss: 0.4227 - accuracy: 0.8392 - val_loss: 0.8021 - val_accuracy: 0.7005\n",
            "Epoch 162/500\n",
            "104/104 [==============================] - 1s 6ms/step - loss: 0.4193 - accuracy: 0.8398 - val_loss: 0.7489 - val_accuracy: 0.7536\n",
            "Epoch 163/500\n",
            "104/104 [==============================] - 1s 7ms/step - loss: 0.4226 - accuracy: 0.8362 - val_loss: 0.6963 - val_accuracy: 0.7585\n",
            "Epoch 164/500\n",
            "104/104 [==============================] - 1s 7ms/step - loss: 0.4145 - accuracy: 0.8398 - val_loss: 0.7781 - val_accuracy: 0.7101\n",
            "Epoch 165/500\n",
            "104/104 [==============================] - 1s 7ms/step - loss: 0.4102 - accuracy: 0.8567 - val_loss: 0.5976 - val_accuracy: 0.7971\n",
            "Epoch 166/500\n",
            "104/104 [==============================] - 1s 6ms/step - loss: 0.3953 - accuracy: 0.8543 - val_loss: 0.6524 - val_accuracy: 0.7923\n",
            "Epoch 167/500\n",
            "104/104 [==============================] - 1s 5ms/step - loss: 0.3862 - accuracy: 0.8525 - val_loss: 0.7820 - val_accuracy: 0.7488\n",
            "Epoch 168/500\n",
            "104/104 [==============================] - 1s 5ms/step - loss: 0.4160 - accuracy: 0.8446 - val_loss: 0.7347 - val_accuracy: 0.7440\n"
          ]
        }
      ]
    },
    {
      "cell_type": "code",
      "source": [
        "plt.plot(cnnhistory.history['loss'])\n",
        "plt.plot(cnnhistory.history['val_loss'])\n",
        "plt.title('model loss')\n",
        "plt.ylabel('loss')\n",
        "plt.xlabel('epoch')\n",
        "plt.legend(['train','test'], loc='upper left')\n",
        "plt.show()"
      ],
      "metadata": {
        "colab": {
          "base_uri": "https://localhost:8080/",
          "height": 295
        },
        "id": "oQYnuaCrDH_A",
        "outputId": "0738c9af-9f7b-4c2b-b609-bd7ae3308d71"
      },
      "execution_count": 15,
      "outputs": [
        {
          "output_type": "display_data",
          "data": {
            "text/plain": [
              "<Figure size 432x288 with 1 Axes>"
            ],
            "image/png": "[encoded data removed]"
          },
          "metadata": {
            "needs_background": "light"
          }
        }
      ]
    },
    {
      "cell_type": "code",
      "source": [
        "plt.plot(cnnhistory.history['accuracy'])\n",
        "plt.plot(cnnhistory.history['val_accuracy'])\n",
        "plt.title('model accuracy')\n",
        "plt.ylabel('accuracy')\n",
        "plt.xlabel('epoch')\n",
        "plt.legend(['train','test'], loc='upper left')\n",
        "plt.show()"
      ],
      "metadata": {
        "colab": {
          "base_uri": "https://localhost:8080/",
          "height": 295
        },
        "id": "IFkTuO8nDNdq",
        "outputId": "1c67ee43-5db1-4243-f36b-20e40e6c33da"
      },
      "execution_count": 16,
      "outputs": [
        {
          "output_type": "display_data",
          "data": {
            "text/plain": [
              "<Figure size 432x288 with 1 Axes>"
            ],
            "image/png": "[encoded data removed]"
          },
          "metadata": {
            "needs_background": "light"
          }
        }
      ]
    },
    {
      "cell_type": "code",
      "source": [
        "predictions = model.predict(x_testcnn)"
      ],
      "metadata": {
        "id": "A2xtrN5wDQgY"
      },
      "execution_count": 17,
      "outputs": []
    },
    {
      "cell_type": "code",
      "source": [
        "predictions"
      ],
      "metadata": {
        "colab": {
          "base_uri": "https://localhost:8080/"
        },
        "id": "_f_ohjXKDUpY",
        "outputId": "9fad5894-1560-4a49-eaa5-64015b614542"
      },
      "execution_count": 18,
      "outputs": [
        {
          "output_type": "execute_result",
          "data": {
            "text/plain": [
              "array([[4.6888512e-01, 9.2422433e-02, 1.4732063e-01, 2.5811797e-01,\n",
              "        2.4167946e-02, 9.0859262e-03],\n",
              "       [2.1526380e-04, 4.6237477e-07, 1.3613106e-06, 9.9559730e-01,\n",
              "        2.1391600e-06, 4.1835383e-03],\n",
              "       [2.9315624e-01, 1.5010472e-01, 1.8610386e-02, 3.4912124e-01,\n",
              "        5.4960060e-03, 1.8351141e-01],\n",
              "       ...,\n",
              "       [4.2471456e-07, 2.8660863e-10, 3.8742131e-05, 1.5654176e-05,\n",
              "        9.9598432e-01, 3.9608241e-03],\n",
              "       [6.1788796e-06, 4.7979277e-01, 5.1968241e-01, 2.1666629e-04,\n",
              "        1.2596989e-04, 1.7609463e-04],\n",
              "       [2.8852590e-05, 2.5476676e-05, 7.9308301e-02, 1.4934313e-04,\n",
              "        8.8783550e-01, 3.2652594e-02]], dtype=float32)"
            ]
          },
          "metadata": {},
          "execution_count": 18
        }
      ]
    },
    {
      "cell_type": "code",
      "source": [
        "y_test"
      ],
      "metadata": {
        "colab": {
          "base_uri": "https://localhost:8080/"
        },
        "id": "cmA2bFgsDW3D",
        "outputId": "dc4072ca-888c-4241-ea2f-4b9a817a44b0"
      },
      "execution_count": 19,
      "outputs": [
        {
          "output_type": "execute_result",
          "data": {
            "text/plain": [
              "array([3, 3, 3, 0, 4, 4, 1, 2, 5, 0, 5, 3, 2, 2, 1, 4, 4, 5, 2, 4, 1, 2,\n",
              "       3, 5, 4, 2, 1, 2, 2, 2, 2, 5, 2, 5, 3, 1, 2, 0, 4, 5, 2, 3, 2, 2,\n",
              "       5, 2, 0, 1, 3, 4, 4, 5, 1, 1, 4, 4, 5, 1, 1, 1, 0, 1, 5, 0, 4, 1,\n",
              "       1, 0, 1, 4, 1, 0, 4, 1, 3, 1, 2, 2, 1, 2, 3, 0, 5, 3, 5, 5, 2, 4,\n",
              "       5, 1, 5, 1, 5, 3, 4, 1, 4, 1, 5, 4, 5, 1, 2, 1, 1, 5, 1, 3, 2, 5,\n",
              "       2, 1, 3, 5, 4, 4, 0, 0, 3, 1, 2, 2, 3, 5, 1, 5, 3, 4, 2, 2, 0, 2,\n",
              "       2, 5, 5, 0, 3, 3, 2, 2, 0, 3, 4, 0, 4, 2, 4, 5, 4, 1, 5, 3, 2, 2,\n",
              "       5, 4, 3, 3, 4, 3, 3, 4, 1, 5, 2, 3, 2, 2, 0, 2, 1, 3, 1, 2, 2, 5,\n",
              "       5, 1, 4, 2, 2, 1, 1, 3, 3, 5, 5, 2, 5, 1, 5, 0, 3, 3, 0, 5, 1, 4,\n",
              "       1, 4, 2, 5, 5, 1, 4, 2, 4])"
            ]
          },
          "metadata": {},
          "execution_count": 19
        }
      ]
    },
    {
      "cell_type": "code",
      "source": [
        "new_Ytest = y_test.astype(int)"
      ],
      "metadata": {
        "id": "0PHDKWJWDY3g"
      },
      "execution_count": 20,
      "outputs": []
    },
    {
      "cell_type": "code",
      "source": [
        "new_Ytest"
      ],
      "metadata": {
        "colab": {
          "base_uri": "https://localhost:8080/"
        },
        "id": "k68v2i-pDbZE",
        "outputId": "a0a1a596-cd1a-4696-c67b-cd2c65a49464"
      },
      "execution_count": 21,
      "outputs": [
        {
          "output_type": "execute_result",
          "data": {
            "text/plain": [
              "array([3, 3, 3, 0, 4, 4, 1, 2, 5, 0, 5, 3, 2, 2, 1, 4, 4, 5, 2, 4, 1, 2,\n",
              "       3, 5, 4, 2, 1, 2, 2, 2, 2, 5, 2, 5, 3, 1, 2, 0, 4, 5, 2, 3, 2, 2,\n",
              "       5, 2, 0, 1, 3, 4, 4, 5, 1, 1, 4, 4, 5, 1, 1, 1, 0, 1, 5, 0, 4, 1,\n",
              "       1, 0, 1, 4, 1, 0, 4, 1, 3, 1, 2, 2, 1, 2, 3, 0, 5, 3, 5, 5, 2, 4,\n",
              "       5, 1, 5, 1, 5, 3, 4, 1, 4, 1, 5, 4, 5, 1, 2, 1, 1, 5, 1, 3, 2, 5,\n",
              "       2, 1, 3, 5, 4, 4, 0, 0, 3, 1, 2, 2, 3, 5, 1, 5, 3, 4, 2, 2, 0, 2,\n",
              "       2, 5, 5, 0, 3, 3, 2, 2, 0, 3, 4, 0, 4, 2, 4, 5, 4, 1, 5, 3, 2, 2,\n",
              "       5, 4, 3, 3, 4, 3, 3, 4, 1, 5, 2, 3, 2, 2, 0, 2, 1, 3, 1, 2, 2, 5,\n",
              "       5, 1, 4, 2, 2, 1, 1, 3, 3, 5, 5, 2, 5, 1, 5, 0, 3, 3, 0, 5, 1, 4,\n",
              "       1, 4, 2, 5, 5, 1, 4, 2, 4])"
            ]
          },
          "metadata": {},
          "execution_count": 21
        }
      ]
    },
    {
      "cell_type": "code",
      "source": [
        "preds1=predictions.argmax(axis=1)\n",
        "preds1"
      ],
      "metadata": {
        "colab": {
          "base_uri": "https://localhost:8080/"
        },
        "id": "4_cAI39VFhtp",
        "outputId": "99ca90ab-69d6-4896-9781-03771120f3a9"
      },
      "execution_count": 22,
      "outputs": [
        {
          "output_type": "execute_result",
          "data": {
            "text/plain": [
              "array([0, 3, 3, 0, 4, 4, 1, 2, 5, 1, 4, 3, 2, 2, 0, 5, 4, 3, 3, 4, 1, 2,\n",
              "       2, 3, 4, 2, 1, 0, 2, 2, 1, 5, 0, 5, 3, 1, 2, 0, 4, 5, 2, 5, 1, 2,\n",
              "       3, 2, 1, 1, 3, 4, 4, 2, 1, 1, 4, 4, 5, 1, 1, 1, 3, 1, 5, 1, 4, 1,\n",
              "       1, 1, 1, 4, 1, 5, 4, 1, 5, 3, 2, 2, 3, 2, 1, 0, 5, 3, 5, 3, 2, 3,\n",
              "       3, 1, 5, 1, 5, 3, 4, 1, 0, 0, 5, 4, 5, 1, 2, 1, 1, 5, 1, 5, 2, 5,\n",
              "       0, 3, 3, 0, 4, 4, 3, 0, 3, 0, 1, 2, 3, 0, 1, 3, 3, 4, 2, 2, 0, 2,\n",
              "       2, 3, 3, 0, 5, 3, 2, 4, 0, 3, 4, 0, 4, 1, 0, 2, 4, 1, 5, 3, 2, 2,\n",
              "       5, 4, 3, 3, 4, 5, 5, 4, 3, 5, 2, 3, 2, 2, 0, 2, 0, 1, 1, 2, 2, 3,\n",
              "       5, 1, 4, 2, 2, 1, 0, 3, 3, 5, 5, 2, 5, 1, 4, 1, 3, 3, 0, 5, 1, 4,\n",
              "       1, 3, 0, 5, 5, 1, 4, 2, 4])"
            ]
          },
          "metadata": {},
          "execution_count": 22
        }
      ]
    },
    {
      "cell_type": "code",
      "source": [
        "abc = preds1.astype(int).flatten()"
      ],
      "metadata": {
        "id": "H4WEmM60NfQn"
      },
      "execution_count": 23,
      "outputs": []
    },
    {
      "cell_type": "code",
      "source": [
        "from sklearn.metrics import confusion_matrix\n",
        "c = confusion_matrix(new_Ytest, abc) \n",
        "c"
      ],
      "metadata": {
        "colab": {
          "base_uri": "https://localhost:8080/"
        },
        "id": "bKEBeEBlFjB8",
        "outputId": "ac5a1080-4bd3-4bbc-ead6-dd320b5f5eb0"
      },
      "execution_count": 24,
      "outputs": [
        {
          "output_type": "execute_result",
          "data": {
            "text/plain": [
              "array([[10,  5,  0,  2,  0,  1],\n",
              "       [ 5, 32,  0,  4,  0,  0],\n",
              "       [ 4,  4, 35,  1,  1,  0],\n",
              "       [ 1,  2,  1, 21,  0,  6],\n",
              "       [ 2,  0,  0,  2, 28,  1],\n",
              "       [ 2,  0,  2,  9,  2, 24]])"
            ]
          },
          "metadata": {},
          "execution_count": 24
        }
      ]
    },
    {
      "cell_type": "code",
      "source": [
        "y_test"
      ],
      "metadata": {
        "colab": {
          "base_uri": "https://localhost:8080/"
        },
        "id": "m4RjG7LWLSQx",
        "outputId": "b47d17fd-07ea-4e20-8afb-4fcd03b10114"
      },
      "execution_count": 25,
      "outputs": [
        {
          "output_type": "execute_result",
          "data": {
            "text/plain": [
              "array([3, 3, 3, 0, 4, 4, 1, 2, 5, 0, 5, 3, 2, 2, 1, 4, 4, 5, 2, 4, 1, 2,\n",
              "       3, 5, 4, 2, 1, 2, 2, 2, 2, 5, 2, 5, 3, 1, 2, 0, 4, 5, 2, 3, 2, 2,\n",
              "       5, 2, 0, 1, 3, 4, 4, 5, 1, 1, 4, 4, 5, 1, 1, 1, 0, 1, 5, 0, 4, 1,\n",
              "       1, 0, 1, 4, 1, 0, 4, 1, 3, 1, 2, 2, 1, 2, 3, 0, 5, 3, 5, 5, 2, 4,\n",
              "       5, 1, 5, 1, 5, 3, 4, 1, 4, 1, 5, 4, 5, 1, 2, 1, 1, 5, 1, 3, 2, 5,\n",
              "       2, 1, 3, 5, 4, 4, 0, 0, 3, 1, 2, 2, 3, 5, 1, 5, 3, 4, 2, 2, 0, 2,\n",
              "       2, 5, 5, 0, 3, 3, 2, 2, 0, 3, 4, 0, 4, 2, 4, 5, 4, 1, 5, 3, 2, 2,\n",
              "       5, 4, 3, 3, 4, 3, 3, 4, 1, 5, 2, 3, 2, 2, 0, 2, 1, 3, 1, 2, 2, 5,\n",
              "       5, 1, 4, 2, 2, 1, 1, 3, 3, 5, 5, 2, 5, 1, 5, 0, 3, 3, 0, 5, 1, 4,\n",
              "       1, 4, 2, 5, 5, 1, 4, 2, 4])"
            ]
          },
          "metadata": {},
          "execution_count": 25
        }
      ]
    },
    {
      "cell_type": "code",
      "source": [
        "loss, acc =model.evaluate(x_testcnn, y_test)\n",
        "print(\"Restored model, accuracy: {:5.2f}%\".format(100*acc))"
      ],
      "metadata": {
        "colab": {
          "base_uri": "https://localhost:8080/"
        },
        "id": "n3kzoqPkDqqS",
        "outputId": "3fbb7c60-7fa2-4556-929e-88b9098e9d98"
      },
      "execution_count": 26,
      "outputs": [
        {
          "output_type": "stream",
          "name": "stdout",
          "text": [
            "7/7 [==============================] - 0s 3ms/step - loss: 0.6576 - accuracy: 0.7246\n",
            "Restored model, accuracy: 72.46%\n"
          ]
        }
      ]
    },
    {
      "cell_type": "code",
      "source": [
        "loss, acc =model.evaluate(X_train, y_train)\n",
        "print(\"Restored model train, accuracy: {:5.2f}%\".format(100*acc))"
      ],
      "metadata": {
        "id": "fJDTGH_OUX0z",
        "colab": {
          "base_uri": "https://localhost:8080/"
        },
        "outputId": "1b46d4fc-3d1e-4a22-cc5d-bd557b54f1b4"
      },
      "execution_count": 27,
      "outputs": [
        {
          "output_type": "stream",
          "name": "stdout",
          "text": [
            "52/52 [==============================] - 0s 4ms/step - loss: 0.2929 - accuracy: 0.9293\n",
            "Restored model train, accuracy: 92.93%\n"
          ]
        }
      ]
    },
    {
      "cell_type": "code",
      "source": [
        "from sklearn.metrics import classification_report, confusion_matrix,accuracy_score\n",
        "import seaborn as sn\n",
        "\n",
        "print(classification_report(new_Ytest,abc))\n",
        "\n",
        "acc = float(accuracy_score(new_Ytest,abc))*100\n",
        "print(\"----accuracy score %s ----\" % acc)\n",
        "\n",
        "cm = confusion_matrix(new_Ytest,abc)\n",
        "#df_cm = pd.DataFrame(cm)\n",
        "class_names = ['neutral','calm', 'happy','sad','angry', 'fearful' ]\n",
        "df_cm = pd.DataFrame(cm, index=class_names, columns=class_names,)\n",
        "sn.heatmap(df_cm, annot=True, fmt='')\n",
        "plt.show()"
      ],
      "metadata": {
        "colab": {
          "base_uri": "https://localhost:8080/",
          "height": 512
        },
        "id": "SfSC3El94LZg",
        "outputId": "f74dc3f8-1216-4f84-8a2f-7b68c609910c"
      },
      "execution_count": 28,
      "outputs": [
        {
          "output_type": "stream",
          "name": "stdout",
          "text": [
            "              precision    recall  f1-score   support\n",
            "\n",
            "           0       0.42      0.56      0.48        18\n",
            "           1       0.74      0.78      0.76        41\n",
            "           2       0.92      0.78      0.84        45\n",
            "           3       0.54      0.68      0.60        31\n",
            "           4       0.90      0.85      0.88        33\n",
            "           5       0.75      0.62      0.68        39\n",
            "\n",
            "    accuracy                           0.72       207\n",
            "   macro avg       0.71      0.71      0.71       207\n",
            "weighted avg       0.75      0.72      0.73       207\n",
            "\n",
            "----accuracy score 72.46376811594203 ----\n"
          ]
        },
        {
          "output_type": "display_data",
          "data": {
            "text/plain": [
              "<Figure size 432x288 with 2 Axes>"
            ],
            "image/png": "[encoded data removed]"
          },
          "metadata": {
            "needs_background": "light"
          }
        }
      ]
    }
  ]
}