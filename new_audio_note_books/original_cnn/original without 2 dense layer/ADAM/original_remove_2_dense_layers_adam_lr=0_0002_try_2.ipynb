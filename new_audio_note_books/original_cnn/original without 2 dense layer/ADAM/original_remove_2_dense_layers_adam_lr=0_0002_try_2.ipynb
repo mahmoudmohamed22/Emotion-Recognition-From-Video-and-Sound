{
  "nbformat": 4,
  "nbformat_minor": 0,
  "metadata": {
    "colab": {
      "name": "original remove 2 dense layers adam lr=0.0002 try 2.ipynb",
      "provenance": [],
      "collapsed_sections": []
    },
    "kernelspec": {
      "name": "python3",
      "display_name": "Python 3"
    },
    "language_info": {
      "name": "python"
    },
    "accelerator": "GPU"
  },
  "cells": [
    {
      "cell_type": "code",
      "execution_count": 1,
      "metadata": {
        "colab": {
          "base_uri": "https://localhost:8080/"
        },
        "id": "9SRCO-a_AlH5",
        "outputId": "a9c23ed6-6814-4ec1-996e-bafe903792a9"
      },
      "outputs": [
        {
          "output_type": "stream",
          "name": "stdout",
          "text": [
            "Drive already mounted at /content/drive; to attempt to forcibly remount, call drive.mount(\"/content/drive\", force_remount=True).\n"
          ]
        }
      ],
      "source": [
        "from google.colab import drive\n",
        "drive.mount('/content/drive')"
      ]
    },
    {
      "cell_type": "code",
      "source": [
        "!pip install librosa"
      ],
      "metadata": {
        "colab": {
          "base_uri": "https://localhost:8080/"
        },
        "id": "5Lo4mUwG9RMd",
        "outputId": "753634ab-b9f0-400a-bb18-c5b4185501f9"
      },
      "execution_count": 2,
      "outputs": [
        {
          "output_type": "stream",
          "name": "stdout",
          "text": [
            "Looking in indexes: https://pypi.org/simple, https://us-python.pkg.dev/colab-wheels/public/simple/\n",
            "Requirement already satisfied: librosa in /usr/local/lib/python3.7/dist-packages (0.8.1)\n",
            "Requirement already satisfied: resampy>=0.2.2 in /usr/local/lib/python3.7/dist-packages (from librosa) (0.2.2)\n",
            "Requirement already satisfied: joblib>=0.14 in /usr/local/lib/python3.7/dist-packages (from librosa) (1.1.0)\n",
            "Requirement already satisfied: decorator>=3.0.0 in /usr/local/lib/python3.7/dist-packages (from librosa) (4.4.2)\n",
            "Requirement already satisfied: pooch>=1.0 in /usr/local/lib/python3.7/dist-packages (from librosa) (1.6.0)\n",
            "Requirement already satisfied: packaging>=20.0 in /usr/local/lib/python3.7/dist-packages (from librosa) (21.3)\n",
            "Requirement already satisfied: numpy>=1.15.0 in /usr/local/lib/python3.7/dist-packages (from librosa) (1.21.6)\n",
            "Requirement already satisfied: numba>=0.43.0 in /usr/local/lib/python3.7/dist-packages (from librosa) (0.51.2)\n",
            "Requirement already satisfied: scikit-learn!=0.19.0,>=0.14.0 in /usr/local/lib/python3.7/dist-packages (from librosa) (1.0.2)\n",
            "Requirement already satisfied: scipy>=1.0.0 in /usr/local/lib/python3.7/dist-packages (from librosa) (1.4.1)\n",
            "Requirement already satisfied: soundfile>=0.10.2 in /usr/local/lib/python3.7/dist-packages (from librosa) (0.10.3.post1)\n",
            "Requirement already satisfied: audioread>=2.0.0 in /usr/local/lib/python3.7/dist-packages (from librosa) (2.1.9)\n",
            "Requirement already satisfied: llvmlite<0.35,>=0.34.0.dev0 in /usr/local/lib/python3.7/dist-packages (from numba>=0.43.0->librosa) (0.34.0)\n",
            "Requirement already satisfied: setuptools in /usr/local/lib/python3.7/dist-packages (from numba>=0.43.0->librosa) (57.4.0)\n",
            "Requirement already satisfied: pyparsing!=3.0.5,>=2.0.2 in /usr/local/lib/python3.7/dist-packages (from packaging>=20.0->librosa) (3.0.9)\n",
            "Requirement already satisfied: appdirs>=1.3.0 in /usr/local/lib/python3.7/dist-packages (from pooch>=1.0->librosa) (1.4.4)\n",
            "Requirement already satisfied: requests>=2.19.0 in /usr/local/lib/python3.7/dist-packages (from pooch>=1.0->librosa) (2.23.0)\n",
            "Requirement already satisfied: chardet<4,>=3.0.2 in /usr/local/lib/python3.7/dist-packages (from requests>=2.19.0->pooch>=1.0->librosa) (3.0.4)\n",
            "Requirement already satisfied: urllib3!=1.25.0,!=1.25.1,<1.26,>=1.21.1 in /usr/local/lib/python3.7/dist-packages (from requests>=2.19.0->pooch>=1.0->librosa) (1.24.3)\n",
            "Requirement already satisfied: certifi>=2017.4.17 in /usr/local/lib/python3.7/dist-packages (from requests>=2.19.0->pooch>=1.0->librosa) (2022.5.18.1)\n",
            "Requirement already satisfied: idna<3,>=2.5 in /usr/local/lib/python3.7/dist-packages (from requests>=2.19.0->pooch>=1.0->librosa) (2.10)\n",
            "Requirement already satisfied: six>=1.3 in /usr/local/lib/python3.7/dist-packages (from resampy>=0.2.2->librosa) (1.15.0)\n",
            "Requirement already satisfied: threadpoolctl>=2.0.0 in /usr/local/lib/python3.7/dist-packages (from scikit-learn!=0.19.0,>=0.14.0->librosa) (3.1.0)\n",
            "Requirement already satisfied: cffi>=1.0 in /usr/local/lib/python3.7/dist-packages (from soundfile>=0.10.2->librosa) (1.15.0)\n",
            "Requirement already satisfied: pycparser in /usr/local/lib/python3.7/dist-packages (from cffi>=1.0->soundfile>=0.10.2->librosa) (2.21)\n"
          ]
        }
      ]
    },
    {
      "cell_type": "code",
      "metadata": {
        "id": "HJjcbxwy46bG",
        "colab": {
          "base_uri": "https://localhost:8080/",
          "height": 17
        },
        "outputId": "338da1ed-5d3a-408a-d1eb-bb9bf7f5756b"
      },
      "source": [
        "# Orignial Notebook: https://github.com/MITESHPUTHRANNEU/Speech-Emotion-Analyzer/blob/master/final_results_gender_test.ipynb\n",
        "# This notebook author: Reza Chu\n",
        "# Last Editing Date: 31st May 2019\n",
        "\n",
        "## Python\n",
        "import os\n",
        "import random\n",
        "import sys\n",
        "\n",
        "import IPython\n",
        "from IPython.display import Audio\n",
        "from IPython.display import Image\n",
        "import matplotlib.pyplot as plt\n",
        "\n",
        "## Package\n",
        "import glob \n",
        "import keras\n",
        "import IPython.display as ipd\n",
        "import librosa\n",
        "import librosa.display\n",
        "import matplotlib.pyplot as plt\n",
        "import numpy as np\n",
        "import pandas as pd\n",
        "import plotly.graph_objs as go\n",
        "import plotly.offline as py\n",
        "import plotly.tools as tls\n",
        "import seaborn as sns\n",
        "import scipy.io.wavfile\n",
        "import tensorflow as tf\n",
        "py.init_notebook_mode(connected=True)\n",
        "\n",
        "## Keras\n",
        "from keras import regularizers\n",
        "from keras.callbacks import ModelCheckpoint, LearningRateScheduler, EarlyStopping\n",
        "from keras.callbacks import  History, ReduceLROnPlateau, CSVLogger\n",
        "from keras.models import Model, Sequential\n",
        "from keras.layers import Dense, Embedding, LSTM\n",
        "from keras.layers import Input, Flatten, Dropout, Activation, BatchNormalization\n",
        "from keras.layers import Conv1D, MaxPooling1D, AveragePooling1D\n",
        "from keras.preprocessing import sequence\n",
        "from keras.preprocessing.sequence import pad_sequences\n",
        "from keras.preprocessing.text import Tokenizer\n",
        "from keras.utils import np_utils\n",
        "from tensorflow.keras.utils import to_categorical\n",
        "\n",
        "## Sklearn\n",
        "from sklearn.metrics import confusion_matrix\n",
        "from sklearn.preprocessing import LabelEncoder\n",
        "\n",
        "## Rest\n",
        "from scipy.fftpack import fft\n",
        "from scipy import signal\n",
        "from scipy.io import wavfile\n",
        "from tqdm import tqdm\n",
        "\n",
        "input_duration=3\n",
        "# % pylab inline"
      ],
      "execution_count": 3,
      "outputs": [
        {
          "output_type": "display_data",
          "data": {
            "text/html": [
              "        <script type=\"text/javascript\">\n",
              "        window.PlotlyConfig = {MathJaxConfig: 'local'};\n",
              "        if (window.MathJax) {MathJax.Hub.Config({SVG: {font: \"STIX-Web\"}});}\n",
              "        if (typeof require !== 'undefined') {\n",
              "        require.undef(\"plotly\");\n",
              "        requirejs.config({\n",
              "            paths: {\n",
              "                'plotly': ['https://cdn.plot.ly/plotly-2.8.3.min']\n",
              "            }\n",
              "        });\n",
              "        require(['plotly'], function(Plotly) {\n",
              "            window._Plotly = Plotly;\n",
              "        });\n",
              "        }\n",
              "        </script>\n",
              "        "
            ]
          },
          "metadata": {}
        }
      ]
    },
    {
      "cell_type": "code",
      "source": [
        "# # Saving joblib files to not load them again with the loop above\n",
        "\n",
        "# import joblib\n",
        "\n",
        "# X_name = 'x.joblib'\n",
        "# y_name = 'y.joblib'\n",
        "# save_dir = '/content/drive/My Drive/graduation project/audio/paper_code/features'\n",
        "\n",
        "# savedX = joblib.dump(X, os.path.join(save_dir, X_name))\n",
        "# savedy = joblib.dump(y, os.path.join(save_dir, y_name))"
      ],
      "metadata": {
        "id": "UCzic8rlDcuk"
      },
      "execution_count": 4,
      "outputs": []
    },
    {
      "cell_type": "code",
      "source": [
        "# # Loading saved models\n",
        "import joblib\n",
        "X = joblib.load('/content/drive/My Drive/graduation project/audio/paper_code/features/x.joblib')\n",
        "y = joblib.load('/content/drive/My Drive/graduation project/audio/paper_code/features/y.joblib')"
      ],
      "metadata": {
        "id": "Q35CN6zDrzg1"
      },
      "execution_count": 5,
      "outputs": []
    },
    {
      "cell_type": "code",
      "source": [
        "X.shape"
      ],
      "metadata": {
        "colab": {
          "base_uri": "https://localhost:8080/"
        },
        "id": "7PSTurzjCo5K",
        "outputId": "146e8450-2e0f-4ea8-9b2f-0158a3d61f49"
      },
      "execution_count": 6,
      "outputs": [
        {
          "output_type": "execute_result",
          "data": {
            "text/plain": [
              "(2068, 40)"
            ]
          },
          "metadata": {},
          "execution_count": 6
        }
      ]
    },
    {
      "cell_type": "code",
      "source": [
        "from sklearn.model_selection import train_test_split\n",
        "\n",
        "X_train, X_test, y_train, y_test = train_test_split(X,y, test_size=0.1 ,shuffle = True\n",
        "                                                    , random_state=42)\n",
        "X_train , X_valid, y_train, y_valid = train_test_split(X_train,y_train, test_size=0.1112305212 , shuffle = True \n",
        "                                                       , random_state=42)"
      ],
      "metadata": {
        "id": "Ai4Fy5cPCiq1"
      },
      "execution_count": 7,
      "outputs": []
    },
    {
      "cell_type": "code",
      "source": [
        "import numpy as np\n",
        "x_traincnn = np.expand_dims(X_train, axis=2)\n",
        "x_testcnn = np.expand_dims(X_test, axis=2)\n",
        "X_valid= np.expand_dims(X_valid, axis=2)"
      ],
      "metadata": {
        "id": "tp1Fm5K3CEXu"
      },
      "execution_count": 8,
      "outputs": []
    },
    {
      "cell_type": "code",
      "source": [
        "x_traincnn.shape, x_testcnn.shape , X_valid.shape\n",
        "#1861"
      ],
      "metadata": {
        "id": "RI0MxoIPBws5",
        "colab": {
          "base_uri": "https://localhost:8080/"
        },
        "outputId": "25d09730-a565-4f46-9839-c94cfce94647"
      },
      "execution_count": 9,
      "outputs": [
        {
          "output_type": "execute_result",
          "data": {
            "text/plain": [
              "((1654, 40, 1), (207, 40, 1), (207, 40, 1))"
            ]
          },
          "metadata": {},
          "execution_count": 9
        }
      ]
    },
    {
      "cell_type": "code",
      "source": [
        "!pip install tensorflow"
      ],
      "metadata": {
        "colab": {
          "base_uri": "https://localhost:8080/"
        },
        "id": "oALhiMUd9G2Y",
        "outputId": "f6c7a83d-1d74-47ae-886a-c5a0721e302e"
      },
      "execution_count": 10,
      "outputs": [
        {
          "output_type": "stream",
          "name": "stdout",
          "text": [
            "Looking in indexes: https://pypi.org/simple, https://us-python.pkg.dev/colab-wheels/public/simple/\n",
            "Requirement already satisfied: tensorflow in /usr/local/lib/python3.7/dist-packages (2.8.2+zzzcolab20220527125636)\n",
            "Requirement already satisfied: wrapt>=1.11.0 in /usr/local/lib/python3.7/dist-packages (from tensorflow) (1.14.1)\n",
            "Requirement already satisfied: tensorflow-io-gcs-filesystem>=0.23.1 in /usr/local/lib/python3.7/dist-packages (from tensorflow) (0.26.0)\n",
            "Requirement already satisfied: astunparse>=1.6.0 in /usr/local/lib/python3.7/dist-packages (from tensorflow) (1.6.3)\n",
            "Requirement already satisfied: opt-einsum>=2.3.2 in /usr/local/lib/python3.7/dist-packages (from tensorflow) (3.3.0)\n",
            "Requirement already satisfied: libclang>=9.0.1 in /usr/local/lib/python3.7/dist-packages (from tensorflow) (14.0.1)\n",
            "Requirement already satisfied: termcolor>=1.1.0 in /usr/local/lib/python3.7/dist-packages (from tensorflow) (1.1.0)\n",
            "Requirement already satisfied: keras<2.9,>=2.8.0rc0 in /usr/local/lib/python3.7/dist-packages (from tensorflow) (2.8.0)\n",
            "Requirement already satisfied: tensorflow-estimator<2.9,>=2.8 in /usr/local/lib/python3.7/dist-packages (from tensorflow) (2.8.0)\n",
            "Requirement already satisfied: flatbuffers>=1.12 in /usr/local/lib/python3.7/dist-packages (from tensorflow) (2.0)\n",
            "Requirement already satisfied: google-pasta>=0.1.1 in /usr/local/lib/python3.7/dist-packages (from tensorflow) (0.2.0)\n",
            "Requirement already satisfied: absl-py>=0.4.0 in /usr/local/lib/python3.7/dist-packages (from tensorflow) (1.0.0)\n",
            "Requirement already satisfied: gast>=0.2.1 in /usr/local/lib/python3.7/dist-packages (from tensorflow) (0.5.3)\n",
            "Requirement already satisfied: setuptools in /usr/local/lib/python3.7/dist-packages (from tensorflow) (57.4.0)\n",
            "Requirement already satisfied: numpy>=1.20 in /usr/local/lib/python3.7/dist-packages (from tensorflow) (1.21.6)\n",
            "Requirement already satisfied: keras-preprocessing>=1.1.1 in /usr/local/lib/python3.7/dist-packages (from tensorflow) (1.1.2)\n",
            "Requirement already satisfied: h5py>=2.9.0 in /usr/local/lib/python3.7/dist-packages (from tensorflow) (3.1.0)\n",
            "Requirement already satisfied: protobuf<3.20,>=3.9.2 in /usr/local/lib/python3.7/dist-packages (from tensorflow) (3.17.3)\n",
            "Requirement already satisfied: six>=1.12.0 in /usr/local/lib/python3.7/dist-packages (from tensorflow) (1.15.0)\n",
            "Requirement already satisfied: grpcio<2.0,>=1.24.3 in /usr/local/lib/python3.7/dist-packages (from tensorflow) (1.46.3)\n",
            "Requirement already satisfied: typing-extensions>=3.6.6 in /usr/local/lib/python3.7/dist-packages (from tensorflow) (4.2.0)\n",
            "Requirement already satisfied: tensorboard<2.9,>=2.8 in /usr/local/lib/python3.7/dist-packages (from tensorflow) (2.8.0)\n",
            "Requirement already satisfied: wheel<1.0,>=0.23.0 in /usr/local/lib/python3.7/dist-packages (from astunparse>=1.6.0->tensorflow) (0.37.1)\n",
            "Requirement already satisfied: cached-property in /usr/local/lib/python3.7/dist-packages (from h5py>=2.9.0->tensorflow) (1.5.2)\n",
            "Requirement already satisfied: markdown>=2.6.8 in /usr/local/lib/python3.7/dist-packages (from tensorboard<2.9,>=2.8->tensorflow) (3.3.7)\n",
            "Requirement already satisfied: requests<3,>=2.21.0 in /usr/local/lib/python3.7/dist-packages (from tensorboard<2.9,>=2.8->tensorflow) (2.23.0)\n",
            "Requirement already satisfied: tensorboard-plugin-wit>=1.6.0 in /usr/local/lib/python3.7/dist-packages (from tensorboard<2.9,>=2.8->tensorflow) (1.8.1)\n",
            "Requirement already satisfied: werkzeug>=0.11.15 in /usr/local/lib/python3.7/dist-packages (from tensorboard<2.9,>=2.8->tensorflow) (1.0.1)\n",
            "Requirement already satisfied: google-auth<3,>=1.6.3 in /usr/local/lib/python3.7/dist-packages (from tensorboard<2.9,>=2.8->tensorflow) (1.35.0)\n",
            "Requirement already satisfied: tensorboard-data-server<0.7.0,>=0.6.0 in /usr/local/lib/python3.7/dist-packages (from tensorboard<2.9,>=2.8->tensorflow) (0.6.1)\n",
            "Requirement already satisfied: google-auth-oauthlib<0.5,>=0.4.1 in /usr/local/lib/python3.7/dist-packages (from tensorboard<2.9,>=2.8->tensorflow) (0.4.6)\n",
            "Requirement already satisfied: pyasn1-modules>=0.2.1 in /usr/local/lib/python3.7/dist-packages (from google-auth<3,>=1.6.3->tensorboard<2.9,>=2.8->tensorflow) (0.2.8)\n",
            "Requirement already satisfied: rsa<5,>=3.1.4 in /usr/local/lib/python3.7/dist-packages (from google-auth<3,>=1.6.3->tensorboard<2.9,>=2.8->tensorflow) (4.8)\n",
            "Requirement already satisfied: cachetools<5.0,>=2.0.0 in /usr/local/lib/python3.7/dist-packages (from google-auth<3,>=1.6.3->tensorboard<2.9,>=2.8->tensorflow) (4.2.4)\n",
            "Requirement already satisfied: requests-oauthlib>=0.7.0 in /usr/local/lib/python3.7/dist-packages (from google-auth-oauthlib<0.5,>=0.4.1->tensorboard<2.9,>=2.8->tensorflow) (1.3.1)\n",
            "Requirement already satisfied: importlib-metadata>=4.4 in /usr/local/lib/python3.7/dist-packages (from markdown>=2.6.8->tensorboard<2.9,>=2.8->tensorflow) (4.11.4)\n",
            "Requirement already satisfied: zipp>=0.5 in /usr/local/lib/python3.7/dist-packages (from importlib-metadata>=4.4->markdown>=2.6.8->tensorboard<2.9,>=2.8->tensorflow) (3.8.0)\n",
            "Requirement already satisfied: pyasn1<0.5.0,>=0.4.6 in /usr/local/lib/python3.7/dist-packages (from pyasn1-modules>=0.2.1->google-auth<3,>=1.6.3->tensorboard<2.9,>=2.8->tensorflow) (0.4.8)\n",
            "Requirement already satisfied: idna<3,>=2.5 in /usr/local/lib/python3.7/dist-packages (from requests<3,>=2.21.0->tensorboard<2.9,>=2.8->tensorflow) (2.10)\n",
            "Requirement already satisfied: chardet<4,>=3.0.2 in /usr/local/lib/python3.7/dist-packages (from requests<3,>=2.21.0->tensorboard<2.9,>=2.8->tensorflow) (3.0.4)\n",
            "Requirement already satisfied: certifi>=2017.4.17 in /usr/local/lib/python3.7/dist-packages (from requests<3,>=2.21.0->tensorboard<2.9,>=2.8->tensorflow) (2022.5.18.1)\n",
            "Requirement already satisfied: urllib3!=1.25.0,!=1.25.1,<1.26,>=1.21.1 in /usr/local/lib/python3.7/dist-packages (from requests<3,>=2.21.0->tensorboard<2.9,>=2.8->tensorflow) (1.24.3)\n",
            "Requirement already satisfied: oauthlib>=3.0.0 in /usr/local/lib/python3.7/dist-packages (from requests-oauthlib>=0.7.0->google-auth-oauthlib<0.5,>=0.4.1->tensorboard<2.9,>=2.8->tensorflow) (3.2.0)\n"
          ]
        }
      ]
    },
    {
      "cell_type": "code",
      "source": [
        "import keras\n",
        "import numpy as np\n",
        "import matplotlib.pyplot as plt\n",
        "import tensorflow as tf\n",
        "from keras.preprocessing import sequence\n",
        "from keras.models import Sequential\n",
        "from keras.layers import Dense, Embedding\n",
        "from tensorflow.keras.utils import to_categorical\n",
        "from keras.layers import Input, Flatten, Dropout, Activation\n",
        "from keras.layers import Conv1D, MaxPooling1D\n",
        "from keras.models import Model\n",
        "from keras.callbacks import ModelCheckpoint\n",
        "from tensorflow.keras import optimizers\n",
        "\n",
        "model = Sequential()\n",
        "\n",
        "model.add(Conv1D(128, 8,padding='same', #classifier.add(Convolution2D(64, (3, 3), padding = 'same', input_shape = (128, 128, 3), activation = 'relu'))\n",
        "                 input_shape=(40,1)))\n",
        "model.add(Activation('relu'))\n",
        "model.add(Dropout(0.3))\n",
        "model.add(MaxPooling1D(pool_size=(5)))\n",
        "\n",
        "\n",
        "model.add(Conv1D(256,8,padding='same',))\n",
        "model.add(Activation('relu'))\n",
        "model.add(Dropout(0.3))\n",
        "model.add(MaxPooling1D(pool_size=(5)))\n",
        "\n",
        "#model.add(MaxPooling1D(pool_size=(5)))\n",
        "\n",
        "model.add(Flatten())\n",
        "\n",
        "\n",
        "\n",
        "model.add(Dense(6))\n",
        "model.add(Activation('softmax'))\n",
        "\n",
        "\n",
        "#opt = tf.keras.optimizers.RMSprop(lr=0.0002 , decay=0.0)\n",
        "opt = tf.keras.optimizers.Adam(lr=0.0002 , decay=0.0)\n",
        "#opt = tf.keras.optimizers.RMSprop(lr=0.0001, rho=0.9, epsilon=1e-07, decay=0.0)\n",
        "#opt = tf.keras.optimizers.SGD(lr=0.001, momentum=0.0, decay=0.0, nesterov=False)"
      ],
      "metadata": {
        "id": "g74fXWVAC4Cr",
        "colab": {
          "base_uri": "https://localhost:8080/"
        },
        "outputId": "b39391d9-52dd-4cf7-bee9-8b64b13261a0"
      },
      "execution_count": 11,
      "outputs": [
        {
          "output_type": "stream",
          "name": "stderr",
          "text": [
            "/usr/local/lib/python3.7/dist-packages/keras/optimizer_v2/adam.py:105: UserWarning:\n",
            "\n",
            "The `lr` argument is deprecated, use `learning_rate` instead.\n",
            "\n"
          ]
        }
      ]
    },
    {
      "cell_type": "code",
      "source": [
        "model.summary()"
      ],
      "metadata": {
        "colab": {
          "base_uri": "https://localhost:8080/"
        },
        "id": "H6ukOxAGC_I4",
        "outputId": "7cf478e4-8367-4da1-cdc5-55475cd14b96"
      },
      "execution_count": 12,
      "outputs": [
        {
          "output_type": "stream",
          "name": "stdout",
          "text": [
            "Model: \"sequential\"\n",
            "_________________________________________________________________\n",
            " Layer (type)                Output Shape              Param #   \n",
            "=================================================================\n",
            " conv1d (Conv1D)             (None, 40, 128)           1152      \n",
            "                                                                 \n",
            " activation (Activation)     (None, 40, 128)           0         \n",
            "                                                                 \n",
            " dropout (Dropout)           (None, 40, 128)           0         \n",
            "                                                                 \n",
            " max_pooling1d (MaxPooling1D  (None, 8, 128)           0         \n",
            " )                                                               \n",
            "                                                                 \n",
            " conv1d_1 (Conv1D)           (None, 8, 256)            262400    \n",
            "                                                                 \n",
            " activation_1 (Activation)   (None, 8, 256)            0         \n",
            "                                                                 \n",
            " dropout_1 (Dropout)         (None, 8, 256)            0         \n",
            "                                                                 \n",
            " max_pooling1d_1 (MaxPooling  (None, 1, 256)           0         \n",
            " 1D)                                                             \n",
            "                                                                 \n",
            " flatten (Flatten)           (None, 256)               0         \n",
            "                                                                 \n",
            " dense (Dense)               (None, 6)                 1542      \n",
            "                                                                 \n",
            " activation_2 (Activation)   (None, 6)                 0         \n",
            "                                                                 \n",
            "=================================================================\n",
            "Total params: 265,094\n",
            "Trainable params: 265,094\n",
            "Non-trainable params: 0\n",
            "_________________________________________________________________\n"
          ]
        }
      ]
    },
    {
      "cell_type": "code",
      "source": [
        "model.compile(loss='sparse_categorical_crossentropy',\n",
        "              optimizer=opt,\n",
        "              metrics=['accuracy'])"
      ],
      "metadata": {
        "id": "AbMlLNk4DCBM"
      },
      "execution_count": 13,
      "outputs": []
    },
    {
      "cell_type": "code",
      "source": [
        "# Create an Instance of Early Stopping Callback.\n",
        "early_stopping_callback = EarlyStopping(monitor = 'val_loss', patience = 25, mode = 'min', restore_best_weights = True)\n",
        "\n",
        "cnnhistory=model.fit(x_traincnn, y_train, batch_size=16, epochs=500 , shuffle = True, \n",
        "                     validation_data=(X_valid, y_valid) , callbacks = [early_stopping_callback])"
      ],
      "metadata": {
        "colab": {
          "base_uri": "https://localhost:8080/"
        },
        "id": "RI1v2AuADFhy",
        "outputId": "2e9f3f9d-ccc0-4212-aacf-48a05f4c8496"
      },
      "execution_count": 14,
      "outputs": [
        {
          "output_type": "stream",
          "name": "stdout",
          "text": [
            "Epoch 1/500\n",
            "104/104 [==============================] - 5s 12ms/step - loss: 12.2610 - accuracy: 0.1778 - val_loss: 3.9958 - val_accuracy: 0.1884\n",
            "Epoch 2/500\n",
            "104/104 [==============================] - 1s 8ms/step - loss: 8.3618 - accuracy: 0.2267 - val_loss: 5.7910 - val_accuracy: 0.1787\n",
            "Epoch 3/500\n",
            "104/104 [==============================] - 1s 8ms/step - loss: 6.7285 - accuracy: 0.2140 - val_loss: 3.2625 - val_accuracy: 0.1787\n",
            "Epoch 4/500\n",
            "104/104 [==============================] - 1s 9ms/step - loss: 5.3063 - accuracy: 0.2285 - val_loss: 1.9140 - val_accuracy: 0.2899\n",
            "Epoch 5/500\n",
            "104/104 [==============================] - 1s 8ms/step - loss: 4.2338 - accuracy: 0.2310 - val_loss: 2.1117 - val_accuracy: 0.2995\n",
            "Epoch 6/500\n",
            "104/104 [==============================] - 1s 7ms/step - loss: 3.6856 - accuracy: 0.2612 - val_loss: 2.1280 - val_accuracy: 0.3188\n",
            "Epoch 7/500\n",
            "104/104 [==============================] - 1s 8ms/step - loss: 2.9509 - accuracy: 0.2636 - val_loss: 1.6128 - val_accuracy: 0.3188\n",
            "Epoch 8/500\n",
            "104/104 [==============================] - 1s 8ms/step - loss: 2.6601 - accuracy: 0.2721 - val_loss: 1.6096 - val_accuracy: 0.3527\n",
            "Epoch 9/500\n",
            "104/104 [==============================] - 1s 7ms/step - loss: 2.4174 - accuracy: 0.2956 - val_loss: 1.5621 - val_accuracy: 0.3575\n",
            "Epoch 10/500\n",
            "104/104 [==============================] - 1s 8ms/step - loss: 2.1158 - accuracy: 0.2981 - val_loss: 1.6799 - val_accuracy: 0.2899\n",
            "Epoch 11/500\n",
            "104/104 [==============================] - 1s 7ms/step - loss: 1.9950 - accuracy: 0.3108 - val_loss: 1.5208 - val_accuracy: 0.3478\n",
            "Epoch 12/500\n",
            "104/104 [==============================] - 1s 8ms/step - loss: 1.9393 - accuracy: 0.3216 - val_loss: 1.4930 - val_accuracy: 0.4396\n",
            "Epoch 13/500\n",
            "104/104 [==============================] - 1s 7ms/step - loss: 1.7612 - accuracy: 0.3452 - val_loss: 1.4330 - val_accuracy: 0.4493\n",
            "Epoch 14/500\n",
            "104/104 [==============================] - 1s 8ms/step - loss: 1.7560 - accuracy: 0.3464 - val_loss: 1.4420 - val_accuracy: 0.5314\n",
            "Epoch 15/500\n",
            "104/104 [==============================] - 1s 8ms/step - loss: 1.6585 - accuracy: 0.3748 - val_loss: 1.4563 - val_accuracy: 0.4203\n",
            "Epoch 16/500\n",
            "104/104 [==============================] - 1s 9ms/step - loss: 1.5937 - accuracy: 0.3809 - val_loss: 1.4329 - val_accuracy: 0.3961\n",
            "Epoch 17/500\n",
            "104/104 [==============================] - 1s 9ms/step - loss: 1.5755 - accuracy: 0.3815 - val_loss: 1.4027 - val_accuracy: 0.4444\n",
            "Epoch 18/500\n",
            "104/104 [==============================] - 1s 7ms/step - loss: 1.5291 - accuracy: 0.3924 - val_loss: 1.3787 - val_accuracy: 0.4734\n",
            "Epoch 19/500\n",
            "104/104 [==============================] - 1s 9ms/step - loss: 1.4443 - accuracy: 0.4268 - val_loss: 1.3274 - val_accuracy: 0.5072\n",
            "Epoch 20/500\n",
            "104/104 [==============================] - 1s 8ms/step - loss: 1.4563 - accuracy: 0.4299 - val_loss: 1.3759 - val_accuracy: 0.4348\n",
            "Epoch 21/500\n",
            "104/104 [==============================] - 1s 9ms/step - loss: 1.4236 - accuracy: 0.4474 - val_loss: 1.3003 - val_accuracy: 0.5266\n",
            "Epoch 22/500\n",
            "104/104 [==============================] - 1s 8ms/step - loss: 1.4031 - accuracy: 0.4456 - val_loss: 1.2798 - val_accuracy: 0.5362\n",
            "Epoch 23/500\n",
            "104/104 [==============================] - 1s 8ms/step - loss: 1.3793 - accuracy: 0.4577 - val_loss: 1.2933 - val_accuracy: 0.5121\n",
            "Epoch 24/500\n",
            "104/104 [==============================] - 1s 10ms/step - loss: 1.3284 - accuracy: 0.4807 - val_loss: 1.2958 - val_accuracy: 0.5217\n",
            "Epoch 25/500\n",
            "104/104 [==============================] - 1s 7ms/step - loss: 1.3035 - accuracy: 0.4752 - val_loss: 1.2526 - val_accuracy: 0.5845\n",
            "Epoch 26/500\n",
            "104/104 [==============================] - 1s 8ms/step - loss: 1.2550 - accuracy: 0.5127 - val_loss: 1.2428 - val_accuracy: 0.5314\n",
            "Epoch 27/500\n",
            "104/104 [==============================] - 1s 8ms/step - loss: 1.2636 - accuracy: 0.5054 - val_loss: 1.2542 - val_accuracy: 0.5362\n",
            "Epoch 28/500\n",
            "104/104 [==============================] - 1s 8ms/step - loss: 1.2392 - accuracy: 0.4976 - val_loss: 1.2096 - val_accuracy: 0.5411\n",
            "Epoch 29/500\n",
            "104/104 [==============================] - 1s 7ms/step - loss: 1.2251 - accuracy: 0.5121 - val_loss: 1.1899 - val_accuracy: 0.6329\n",
            "Epoch 30/500\n",
            "104/104 [==============================] - 1s 8ms/step - loss: 1.1717 - accuracy: 0.5236 - val_loss: 1.1499 - val_accuracy: 0.5942\n",
            "Epoch 31/500\n",
            "104/104 [==============================] - 1s 6ms/step - loss: 1.1898 - accuracy: 0.5369 - val_loss: 1.1625 - val_accuracy: 0.5845\n",
            "Epoch 32/500\n",
            "104/104 [==============================] - 1s 7ms/step - loss: 1.1555 - accuracy: 0.5532 - val_loss: 1.1435 - val_accuracy: 0.5700\n",
            "Epoch 33/500\n",
            "104/104 [==============================] - 0s 4ms/step - loss: 1.1307 - accuracy: 0.5538 - val_loss: 1.1645 - val_accuracy: 0.5652\n",
            "Epoch 34/500\n",
            "104/104 [==============================] - 0s 4ms/step - loss: 1.1470 - accuracy: 0.5562 - val_loss: 1.1144 - val_accuracy: 0.6135\n",
            "Epoch 35/500\n",
            "104/104 [==============================] - 1s 5ms/step - loss: 1.0991 - accuracy: 0.5574 - val_loss: 1.0936 - val_accuracy: 0.5990\n",
            "Epoch 36/500\n",
            "104/104 [==============================] - 0s 4ms/step - loss: 1.1055 - accuracy: 0.5472 - val_loss: 1.0978 - val_accuracy: 0.6087\n",
            "Epoch 37/500\n",
            "104/104 [==============================] - 0s 4ms/step - loss: 1.0897 - accuracy: 0.5611 - val_loss: 1.1058 - val_accuracy: 0.5845\n",
            "Epoch 38/500\n",
            "104/104 [==============================] - 0s 5ms/step - loss: 1.0746 - accuracy: 0.5580 - val_loss: 1.0700 - val_accuracy: 0.6135\n",
            "Epoch 39/500\n",
            "104/104 [==============================] - 1s 5ms/step - loss: 1.0411 - accuracy: 0.5865 - val_loss: 1.0431 - val_accuracy: 0.6087\n",
            "Epoch 40/500\n",
            "104/104 [==============================] - 0s 4ms/step - loss: 1.0469 - accuracy: 0.5979 - val_loss: 1.0324 - val_accuracy: 0.6232\n",
            "Epoch 41/500\n",
            "104/104 [==============================] - 0s 5ms/step - loss: 1.0278 - accuracy: 0.5943 - val_loss: 1.0414 - val_accuracy: 0.6184\n",
            "Epoch 42/500\n",
            "104/104 [==============================] - 1s 5ms/step - loss: 1.0020 - accuracy: 0.5949 - val_loss: 0.9988 - val_accuracy: 0.6570\n",
            "Epoch 43/500\n",
            "104/104 [==============================] - 0s 4ms/step - loss: 1.0284 - accuracy: 0.5901 - val_loss: 0.9927 - val_accuracy: 0.6135\n",
            "Epoch 44/500\n",
            "104/104 [==============================] - 1s 5ms/step - loss: 1.0253 - accuracy: 0.5871 - val_loss: 0.9990 - val_accuracy: 0.5990\n",
            "Epoch 45/500\n",
            "104/104 [==============================] - 0s 5ms/step - loss: 0.9907 - accuracy: 0.6070 - val_loss: 1.0206 - val_accuracy: 0.5845\n",
            "Epoch 46/500\n",
            "104/104 [==============================] - 0s 4ms/step - loss: 0.9864 - accuracy: 0.6070 - val_loss: 1.0039 - val_accuracy: 0.6039\n",
            "Epoch 47/500\n",
            "104/104 [==============================] - 1s 5ms/step - loss: 0.9403 - accuracy: 0.6330 - val_loss: 0.9693 - val_accuracy: 0.6184\n",
            "Epoch 48/500\n",
            "104/104 [==============================] - 1s 5ms/step - loss: 0.9478 - accuracy: 0.6282 - val_loss: 0.9866 - val_accuracy: 0.6473\n",
            "Epoch 49/500\n",
            "104/104 [==============================] - 0s 4ms/step - loss: 0.9582 - accuracy: 0.6161 - val_loss: 0.9433 - val_accuracy: 0.7053\n",
            "Epoch 50/500\n",
            "104/104 [==============================] - 0s 5ms/step - loss: 0.9171 - accuracy: 0.6324 - val_loss: 0.9343 - val_accuracy: 0.6908\n",
            "Epoch 51/500\n",
            "104/104 [==============================] - 1s 5ms/step - loss: 0.9581 - accuracy: 0.6179 - val_loss: 0.9407 - val_accuracy: 0.6473\n",
            "Epoch 52/500\n",
            "104/104 [==============================] - 0s 4ms/step - loss: 0.9289 - accuracy: 0.6330 - val_loss: 0.9423 - val_accuracy: 0.6522\n",
            "Epoch 53/500\n",
            "104/104 [==============================] - 0s 4ms/step - loss: 0.9162 - accuracy: 0.6385 - val_loss: 0.9050 - val_accuracy: 0.6908\n",
            "Epoch 54/500\n",
            "104/104 [==============================] - 1s 5ms/step - loss: 0.9204 - accuracy: 0.6397 - val_loss: 0.8956 - val_accuracy: 0.6908\n",
            "Epoch 55/500\n",
            "104/104 [==============================] - 0s 4ms/step - loss: 0.8760 - accuracy: 0.6699 - val_loss: 0.8976 - val_accuracy: 0.6957\n",
            "Epoch 56/500\n",
            "104/104 [==============================] - 1s 5ms/step - loss: 0.8954 - accuracy: 0.6433 - val_loss: 0.9403 - val_accuracy: 0.6522\n",
            "Epoch 57/500\n",
            "104/104 [==============================] - 1s 5ms/step - loss: 0.8920 - accuracy: 0.6566 - val_loss: 0.9191 - val_accuracy: 0.6908\n",
            "Epoch 58/500\n",
            "104/104 [==============================] - 0s 5ms/step - loss: 0.8899 - accuracy: 0.6415 - val_loss: 0.9173 - val_accuracy: 0.6715\n",
            "Epoch 59/500\n",
            "104/104 [==============================] - 0s 4ms/step - loss: 0.8738 - accuracy: 0.6530 - val_loss: 0.9052 - val_accuracy: 0.6763\n",
            "Epoch 60/500\n",
            "104/104 [==============================] - 1s 5ms/step - loss: 0.8412 - accuracy: 0.6590 - val_loss: 0.8661 - val_accuracy: 0.6812\n",
            "Epoch 61/500\n",
            "104/104 [==============================] - 0s 5ms/step - loss: 0.8407 - accuracy: 0.6675 - val_loss: 0.8881 - val_accuracy: 0.6570\n",
            "Epoch 62/500\n",
            "104/104 [==============================] - 0s 4ms/step - loss: 0.8715 - accuracy: 0.6675 - val_loss: 0.8830 - val_accuracy: 0.6425\n",
            "Epoch 63/500\n",
            "104/104 [==============================] - 0s 4ms/step - loss: 0.8343 - accuracy: 0.6802 - val_loss: 0.8641 - val_accuracy: 0.7391\n",
            "Epoch 64/500\n",
            "104/104 [==============================] - 0s 4ms/step - loss: 0.8347 - accuracy: 0.6663 - val_loss: 0.8541 - val_accuracy: 0.6908\n",
            "Epoch 65/500\n",
            "104/104 [==============================] - 0s 4ms/step - loss: 0.8148 - accuracy: 0.6820 - val_loss: 0.8492 - val_accuracy: 0.7005\n",
            "Epoch 66/500\n",
            "104/104 [==============================] - 0s 4ms/step - loss: 0.8227 - accuracy: 0.6699 - val_loss: 0.8450 - val_accuracy: 0.6957\n",
            "Epoch 67/500\n",
            "104/104 [==============================] - 0s 4ms/step - loss: 0.8184 - accuracy: 0.6693 - val_loss: 0.8289 - val_accuracy: 0.7150\n",
            "Epoch 68/500\n",
            "104/104 [==============================] - 0s 4ms/step - loss: 0.7999 - accuracy: 0.6814 - val_loss: 0.8264 - val_accuracy: 0.6860\n",
            "Epoch 69/500\n",
            "104/104 [==============================] - 0s 4ms/step - loss: 0.8228 - accuracy: 0.6765 - val_loss: 0.8374 - val_accuracy: 0.7440\n",
            "Epoch 70/500\n",
            "104/104 [==============================] - 1s 5ms/step - loss: 0.7655 - accuracy: 0.7086 - val_loss: 0.8346 - val_accuracy: 0.7343\n",
            "Epoch 71/500\n",
            "104/104 [==============================] - 0s 5ms/step - loss: 0.7863 - accuracy: 0.6953 - val_loss: 0.8091 - val_accuracy: 0.7198\n",
            "Epoch 72/500\n",
            "104/104 [==============================] - 0s 5ms/step - loss: 0.7761 - accuracy: 0.6838 - val_loss: 0.8067 - val_accuracy: 0.7150\n",
            "Epoch 73/500\n",
            "104/104 [==============================] - 1s 5ms/step - loss: 0.7638 - accuracy: 0.7068 - val_loss: 0.8465 - val_accuracy: 0.6812\n",
            "Epoch 74/500\n",
            "104/104 [==============================] - 0s 4ms/step - loss: 0.7396 - accuracy: 0.7177 - val_loss: 0.8292 - val_accuracy: 0.6860\n",
            "Epoch 75/500\n",
            "104/104 [==============================] - 0s 5ms/step - loss: 0.7530 - accuracy: 0.7062 - val_loss: 0.8046 - val_accuracy: 0.7343\n",
            "Epoch 76/500\n",
            "104/104 [==============================] - 1s 5ms/step - loss: 0.7508 - accuracy: 0.7074 - val_loss: 0.7829 - val_accuracy: 0.7150\n",
            "Epoch 77/500\n",
            "104/104 [==============================] - 0s 5ms/step - loss: 0.7136 - accuracy: 0.7140 - val_loss: 0.7999 - val_accuracy: 0.6812\n",
            "Epoch 78/500\n",
            "104/104 [==============================] - 1s 5ms/step - loss: 0.7369 - accuracy: 0.7140 - val_loss: 0.7775 - val_accuracy: 0.7391\n",
            "Epoch 79/500\n",
            "104/104 [==============================] - 1s 5ms/step - loss: 0.7240 - accuracy: 0.7140 - val_loss: 0.8009 - val_accuracy: 0.7101\n",
            "Epoch 80/500\n",
            "104/104 [==============================] - 0s 4ms/step - loss: 0.7420 - accuracy: 0.7116 - val_loss: 0.7811 - val_accuracy: 0.7246\n",
            "Epoch 81/500\n",
            "104/104 [==============================] - 0s 5ms/step - loss: 0.7176 - accuracy: 0.7213 - val_loss: 0.7846 - val_accuracy: 0.7343\n",
            "Epoch 82/500\n",
            "104/104 [==============================] - 1s 5ms/step - loss: 0.7261 - accuracy: 0.7152 - val_loss: 0.7793 - val_accuracy: 0.7343\n",
            "Epoch 83/500\n",
            "104/104 [==============================] - 0s 4ms/step - loss: 0.6940 - accuracy: 0.7249 - val_loss: 0.7778 - val_accuracy: 0.7295\n",
            "Epoch 84/500\n",
            "104/104 [==============================] - 1s 5ms/step - loss: 0.6814 - accuracy: 0.7424 - val_loss: 0.7695 - val_accuracy: 0.7488\n",
            "Epoch 85/500\n",
            "104/104 [==============================] - 0s 5ms/step - loss: 0.7031 - accuracy: 0.7249 - val_loss: 0.7706 - val_accuracy: 0.7440\n",
            "Epoch 86/500\n",
            "104/104 [==============================] - 0s 5ms/step - loss: 0.6979 - accuracy: 0.7297 - val_loss: 0.7481 - val_accuracy: 0.7343\n",
            "Epoch 87/500\n",
            "104/104 [==============================] - 1s 5ms/step - loss: 0.7129 - accuracy: 0.7255 - val_loss: 0.7783 - val_accuracy: 0.7246\n",
            "Epoch 88/500\n",
            "104/104 [==============================] - 0s 4ms/step - loss: 0.6685 - accuracy: 0.7400 - val_loss: 0.7735 - val_accuracy: 0.7295\n",
            "Epoch 89/500\n",
            "104/104 [==============================] - 0s 5ms/step - loss: 0.6825 - accuracy: 0.7376 - val_loss: 0.7437 - val_accuracy: 0.7778\n",
            "Epoch 90/500\n",
            "104/104 [==============================] - 1s 5ms/step - loss: 0.6636 - accuracy: 0.7388 - val_loss: 0.7486 - val_accuracy: 0.7488\n",
            "Epoch 91/500\n",
            "104/104 [==============================] - 0s 5ms/step - loss: 0.6638 - accuracy: 0.7437 - val_loss: 0.7732 - val_accuracy: 0.7246\n",
            "Epoch 92/500\n",
            "104/104 [==============================] - 0s 5ms/step - loss: 0.6386 - accuracy: 0.7412 - val_loss: 0.7380 - val_accuracy: 0.7681\n",
            "Epoch 93/500\n",
            "104/104 [==============================] - 0s 5ms/step - loss: 0.6457 - accuracy: 0.7557 - val_loss: 0.7806 - val_accuracy: 0.7101\n",
            "Epoch 94/500\n",
            "104/104 [==============================] - 0s 4ms/step - loss: 0.6256 - accuracy: 0.7533 - val_loss: 0.7337 - val_accuracy: 0.7536\n",
            "Epoch 95/500\n",
            "104/104 [==============================] - 0s 4ms/step - loss: 0.6433 - accuracy: 0.7557 - val_loss: 0.8147 - val_accuracy: 0.6957\n",
            "Epoch 96/500\n",
            "104/104 [==============================] - 0s 5ms/step - loss: 0.6604 - accuracy: 0.7443 - val_loss: 0.7421 - val_accuracy: 0.7585\n",
            "Epoch 97/500\n",
            "104/104 [==============================] - 0s 4ms/step - loss: 0.6067 - accuracy: 0.7666 - val_loss: 0.7939 - val_accuracy: 0.7391\n",
            "Epoch 98/500\n",
            "104/104 [==============================] - 0s 4ms/step - loss: 0.6259 - accuracy: 0.7588 - val_loss: 0.6974 - val_accuracy: 0.7633\n",
            "Epoch 99/500\n",
            "104/104 [==============================] - 0s 4ms/step - loss: 0.6167 - accuracy: 0.7467 - val_loss: 0.7352 - val_accuracy: 0.7536\n",
            "Epoch 100/500\n",
            "104/104 [==============================] - 0s 4ms/step - loss: 0.6065 - accuracy: 0.7793 - val_loss: 0.7304 - val_accuracy: 0.7585\n",
            "Epoch 101/500\n",
            "104/104 [==============================] - 0s 4ms/step - loss: 0.6212 - accuracy: 0.7618 - val_loss: 0.7152 - val_accuracy: 0.7681\n",
            "Epoch 102/500\n",
            "104/104 [==============================] - 0s 4ms/step - loss: 0.6027 - accuracy: 0.7594 - val_loss: 0.7318 - val_accuracy: 0.7440\n",
            "Epoch 103/500\n",
            "104/104 [==============================] - 0s 4ms/step - loss: 0.5967 - accuracy: 0.7684 - val_loss: 0.7506 - val_accuracy: 0.7440\n",
            "Epoch 104/500\n",
            "104/104 [==============================] - 0s 4ms/step - loss: 0.6000 - accuracy: 0.7684 - val_loss: 0.7176 - val_accuracy: 0.7488\n",
            "Epoch 105/500\n",
            "104/104 [==============================] - 0s 4ms/step - loss: 0.5883 - accuracy: 0.7848 - val_loss: 0.7114 - val_accuracy: 0.7536\n",
            "Epoch 106/500\n",
            "104/104 [==============================] - 0s 5ms/step - loss: 0.5840 - accuracy: 0.7703 - val_loss: 0.7161 - val_accuracy: 0.7681\n",
            "Epoch 107/500\n",
            "104/104 [==============================] - 0s 5ms/step - loss: 0.5875 - accuracy: 0.7672 - val_loss: 0.7030 - val_accuracy: 0.7585\n",
            "Epoch 108/500\n",
            "104/104 [==============================] - 0s 4ms/step - loss: 0.5829 - accuracy: 0.7769 - val_loss: 0.7131 - val_accuracy: 0.7923\n",
            "Epoch 109/500\n",
            "104/104 [==============================] - 1s 5ms/step - loss: 0.5906 - accuracy: 0.7709 - val_loss: 0.7820 - val_accuracy: 0.7053\n",
            "Epoch 110/500\n",
            "104/104 [==============================] - 0s 4ms/step - loss: 0.5664 - accuracy: 0.7811 - val_loss: 0.6883 - val_accuracy: 0.7778\n",
            "Epoch 111/500\n",
            "104/104 [==============================] - 0s 4ms/step - loss: 0.5793 - accuracy: 0.7727 - val_loss: 0.6961 - val_accuracy: 0.7971\n",
            "Epoch 112/500\n",
            "104/104 [==============================] - 1s 5ms/step - loss: 0.5533 - accuracy: 0.7902 - val_loss: 0.7144 - val_accuracy: 0.7633\n",
            "Epoch 113/500\n",
            "104/104 [==============================] - 0s 4ms/step - loss: 0.5798 - accuracy: 0.7727 - val_loss: 0.7278 - val_accuracy: 0.7053\n",
            "Epoch 114/500\n",
            "104/104 [==============================] - 0s 4ms/step - loss: 0.5918 - accuracy: 0.7660 - val_loss: 0.7385 - val_accuracy: 0.7585\n",
            "Epoch 115/500\n",
            "104/104 [==============================] - 1s 5ms/step - loss: 0.5692 - accuracy: 0.7817 - val_loss: 0.6960 - val_accuracy: 0.7681\n",
            "Epoch 116/500\n",
            "104/104 [==============================] - 0s 5ms/step - loss: 0.5254 - accuracy: 0.8102 - val_loss: 0.7016 - val_accuracy: 0.7633\n",
            "Epoch 117/500\n",
            "104/104 [==============================] - 0s 5ms/step - loss: 0.5419 - accuracy: 0.7908 - val_loss: 0.7456 - val_accuracy: 0.7585\n",
            "Epoch 118/500\n",
            "104/104 [==============================] - 1s 5ms/step - loss: 0.5399 - accuracy: 0.7932 - val_loss: 0.6666 - val_accuracy: 0.7923\n",
            "Epoch 119/500\n",
            "104/104 [==============================] - 0s 4ms/step - loss: 0.5250 - accuracy: 0.7987 - val_loss: 0.7131 - val_accuracy: 0.7488\n",
            "Epoch 120/500\n",
            "104/104 [==============================] - 0s 5ms/step - loss: 0.5394 - accuracy: 0.7944 - val_loss: 0.7044 - val_accuracy: 0.7729\n",
            "Epoch 121/500\n",
            "104/104 [==============================] - 1s 5ms/step - loss: 0.5219 - accuracy: 0.7878 - val_loss: 0.6863 - val_accuracy: 0.7681\n",
            "Epoch 122/500\n",
            "104/104 [==============================] - 0s 4ms/step - loss: 0.5002 - accuracy: 0.8096 - val_loss: 0.7121 - val_accuracy: 0.7681\n",
            "Epoch 123/500\n",
            "104/104 [==============================] - 0s 4ms/step - loss: 0.5087 - accuracy: 0.8053 - val_loss: 0.6903 - val_accuracy: 0.7585\n",
            "Epoch 124/500\n",
            "104/104 [==============================] - 1s 5ms/step - loss: 0.5253 - accuracy: 0.8005 - val_loss: 0.6979 - val_accuracy: 0.7971\n",
            "Epoch 125/500\n",
            "104/104 [==============================] - 0s 4ms/step - loss: 0.5149 - accuracy: 0.7963 - val_loss: 0.6778 - val_accuracy: 0.7681\n",
            "Epoch 126/500\n",
            "104/104 [==============================] - 0s 4ms/step - loss: 0.5065 - accuracy: 0.7944 - val_loss: 0.6872 - val_accuracy: 0.7729\n",
            "Epoch 127/500\n",
            "104/104 [==============================] - 1s 5ms/step - loss: 0.4993 - accuracy: 0.8132 - val_loss: 0.7064 - val_accuracy: 0.7681\n",
            "Epoch 128/500\n",
            "104/104 [==============================] - 0s 4ms/step - loss: 0.4926 - accuracy: 0.8186 - val_loss: 0.7032 - val_accuracy: 0.7729\n",
            "Epoch 129/500\n",
            "104/104 [==============================] - 0s 4ms/step - loss: 0.5089 - accuracy: 0.8071 - val_loss: 0.6923 - val_accuracy: 0.7681\n",
            "Epoch 130/500\n",
            "104/104 [==============================] - 1s 5ms/step - loss: 0.4898 - accuracy: 0.8162 - val_loss: 0.7031 - val_accuracy: 0.7536\n",
            "Epoch 131/500\n",
            "104/104 [==============================] - 0s 5ms/step - loss: 0.4780 - accuracy: 0.8168 - val_loss: 0.6636 - val_accuracy: 0.7778\n",
            "Epoch 132/500\n",
            "104/104 [==============================] - 0s 4ms/step - loss: 0.4902 - accuracy: 0.8108 - val_loss: 0.6820 - val_accuracy: 0.7536\n",
            "Epoch 133/500\n",
            "104/104 [==============================] - 0s 5ms/step - loss: 0.4489 - accuracy: 0.8313 - val_loss: 0.6982 - val_accuracy: 0.7681\n",
            "Epoch 134/500\n",
            "104/104 [==============================] - 0s 5ms/step - loss: 0.4839 - accuracy: 0.8150 - val_loss: 0.6511 - val_accuracy: 0.7681\n",
            "Epoch 135/500\n",
            "104/104 [==============================] - 0s 4ms/step - loss: 0.4627 - accuracy: 0.8235 - val_loss: 0.6996 - val_accuracy: 0.7391\n",
            "Epoch 136/500\n",
            "104/104 [==============================] - 0s 5ms/step - loss: 0.4775 - accuracy: 0.8198 - val_loss: 0.6823 - val_accuracy: 0.7778\n",
            "Epoch 137/500\n",
            "104/104 [==============================] - 1s 5ms/step - loss: 0.4848 - accuracy: 0.8029 - val_loss: 0.6777 - val_accuracy: 0.7729\n",
            "Epoch 138/500\n",
            "104/104 [==============================] - 0s 4ms/step - loss: 0.4828 - accuracy: 0.8180 - val_loss: 0.6792 - val_accuracy: 0.7778\n",
            "Epoch 139/500\n",
            "104/104 [==============================] - 1s 5ms/step - loss: 0.4603 - accuracy: 0.8289 - val_loss: 0.7150 - val_accuracy: 0.7681\n",
            "Epoch 140/500\n",
            "104/104 [==============================] - 1s 6ms/step - loss: 0.4694 - accuracy: 0.8210 - val_loss: 0.7173 - val_accuracy: 0.7826\n",
            "Epoch 141/500\n",
            "104/104 [==============================] - 0s 4ms/step - loss: 0.4460 - accuracy: 0.8343 - val_loss: 0.6760 - val_accuracy: 0.7778\n",
            "Epoch 142/500\n",
            "104/104 [==============================] - 1s 5ms/step - loss: 0.4563 - accuracy: 0.8216 - val_loss: 0.6506 - val_accuracy: 0.7923\n",
            "Epoch 143/500\n",
            "104/104 [==============================] - 1s 5ms/step - loss: 0.4361 - accuracy: 0.8307 - val_loss: 0.6643 - val_accuracy: 0.7633\n",
            "Epoch 144/500\n",
            "104/104 [==============================] - 0s 4ms/step - loss: 0.4508 - accuracy: 0.8337 - val_loss: 0.6650 - val_accuracy: 0.7585\n",
            "Epoch 145/500\n",
            "104/104 [==============================] - 1s 5ms/step - loss: 0.4205 - accuracy: 0.8386 - val_loss: 0.6596 - val_accuracy: 0.7585\n",
            "Epoch 146/500\n",
            "104/104 [==============================] - 0s 4ms/step - loss: 0.4770 - accuracy: 0.8150 - val_loss: 0.6830 - val_accuracy: 0.7585\n",
            "Epoch 147/500\n",
            "104/104 [==============================] - 1s 5ms/step - loss: 0.4325 - accuracy: 0.8325 - val_loss: 0.6667 - val_accuracy: 0.7778\n",
            "Epoch 148/500\n",
            "104/104 [==============================] - 1s 8ms/step - loss: 0.4369 - accuracy: 0.8416 - val_loss: 0.7083 - val_accuracy: 0.7440\n",
            "Epoch 149/500\n",
            "104/104 [==============================] - 1s 6ms/step - loss: 0.4230 - accuracy: 0.8374 - val_loss: 0.7176 - val_accuracy: 0.7633\n",
            "Epoch 150/500\n",
            "104/104 [==============================] - 1s 10ms/step - loss: 0.3910 - accuracy: 0.8561 - val_loss: 0.7041 - val_accuracy: 0.7536\n",
            "Epoch 151/500\n",
            "104/104 [==============================] - 1s 7ms/step - loss: 0.4369 - accuracy: 0.8271 - val_loss: 0.6404 - val_accuracy: 0.7874\n",
            "Epoch 152/500\n",
            "104/104 [==============================] - 1s 8ms/step - loss: 0.4408 - accuracy: 0.8337 - val_loss: 0.7169 - val_accuracy: 0.7826\n",
            "Epoch 153/500\n",
            "104/104 [==============================] - 1s 5ms/step - loss: 0.4182 - accuracy: 0.8458 - val_loss: 0.6990 - val_accuracy: 0.8019\n",
            "Epoch 154/500\n",
            "104/104 [==============================] - 0s 5ms/step - loss: 0.4111 - accuracy: 0.8380 - val_loss: 0.6667 - val_accuracy: 0.7874\n",
            "Epoch 155/500\n",
            "104/104 [==============================] - 0s 4ms/step - loss: 0.4075 - accuracy: 0.8434 - val_loss: 0.6920 - val_accuracy: 0.7585\n",
            "Epoch 156/500\n",
            "104/104 [==============================] - 1s 5ms/step - loss: 0.4048 - accuracy: 0.8374 - val_loss: 0.6442 - val_accuracy: 0.8019\n",
            "Epoch 157/500\n",
            "104/104 [==============================] - 0s 5ms/step - loss: 0.4339 - accuracy: 0.8259 - val_loss: 0.6026 - val_accuracy: 0.7971\n",
            "Epoch 158/500\n",
            "104/104 [==============================] - 1s 5ms/step - loss: 0.3966 - accuracy: 0.8501 - val_loss: 0.6858 - val_accuracy: 0.7778\n",
            "Epoch 159/500\n",
            "104/104 [==============================] - 0s 5ms/step - loss: 0.3927 - accuracy: 0.8549 - val_loss: 0.6903 - val_accuracy: 0.7729\n",
            "Epoch 160/500\n",
            "104/104 [==============================] - 0s 4ms/step - loss: 0.3570 - accuracy: 0.8615 - val_loss: 0.6491 - val_accuracy: 0.7923\n",
            "Epoch 161/500\n",
            "104/104 [==============================] - 0s 4ms/step - loss: 0.3972 - accuracy: 0.8422 - val_loss: 0.6603 - val_accuracy: 0.7923\n",
            "Epoch 162/500\n",
            "104/104 [==============================] - 1s 5ms/step - loss: 0.3791 - accuracy: 0.8609 - val_loss: 0.6906 - val_accuracy: 0.7874\n",
            "Epoch 163/500\n",
            "104/104 [==============================] - 0s 4ms/step - loss: 0.3825 - accuracy: 0.8555 - val_loss: 0.6545 - val_accuracy: 0.8019\n",
            "Epoch 164/500\n",
            "104/104 [==============================] - 0s 5ms/step - loss: 0.3837 - accuracy: 0.8591 - val_loss: 0.6858 - val_accuracy: 0.8019\n",
            "Epoch 165/500\n",
            "104/104 [==============================] - 1s 5ms/step - loss: 0.3632 - accuracy: 0.8670 - val_loss: 0.6695 - val_accuracy: 0.7971\n",
            "Epoch 166/500\n",
            "104/104 [==============================] - 0s 4ms/step - loss: 0.3804 - accuracy: 0.8628 - val_loss: 0.6929 - val_accuracy: 0.7874\n",
            "Epoch 167/500\n",
            "104/104 [==============================] - 1s 5ms/step - loss: 0.3724 - accuracy: 0.8622 - val_loss: 0.6332 - val_accuracy: 0.8019\n",
            "Epoch 168/500\n",
            "104/104 [==============================] - 1s 5ms/step - loss: 0.3819 - accuracy: 0.8597 - val_loss: 0.6562 - val_accuracy: 0.7681\n",
            "Epoch 169/500\n",
            "104/104 [==============================] - 0s 5ms/step - loss: 0.3785 - accuracy: 0.8603 - val_loss: 0.7001 - val_accuracy: 0.7729\n",
            "Epoch 170/500\n",
            "104/104 [==============================] - 0s 5ms/step - loss: 0.3879 - accuracy: 0.8567 - val_loss: 0.6383 - val_accuracy: 0.7874\n",
            "Epoch 171/500\n",
            "104/104 [==============================] - 0s 5ms/step - loss: 0.4009 - accuracy: 0.8476 - val_loss: 0.6812 - val_accuracy: 0.7536\n",
            "Epoch 172/500\n",
            "104/104 [==============================] - 0s 4ms/step - loss: 0.3619 - accuracy: 0.8652 - val_loss: 0.6489 - val_accuracy: 0.7923\n",
            "Epoch 173/500\n",
            "104/104 [==============================] - 0s 4ms/step - loss: 0.3639 - accuracy: 0.8628 - val_loss: 0.6532 - val_accuracy: 0.7681\n",
            "Epoch 174/500\n",
            "104/104 [==============================] - 1s 5ms/step - loss: 0.3681 - accuracy: 0.8597 - val_loss: 0.6928 - val_accuracy: 0.7536\n",
            "Epoch 175/500\n",
            "104/104 [==============================] - 0s 5ms/step - loss: 0.3414 - accuracy: 0.8779 - val_loss: 0.6531 - val_accuracy: 0.7874\n",
            "Epoch 176/500\n",
            "104/104 [==============================] - 1s 5ms/step - loss: 0.3358 - accuracy: 0.8742 - val_loss: 0.6457 - val_accuracy: 0.7971\n",
            "Epoch 177/500\n",
            "104/104 [==============================] - 1s 5ms/step - loss: 0.3549 - accuracy: 0.8712 - val_loss: 0.6683 - val_accuracy: 0.7971\n",
            "Epoch 178/500\n",
            "104/104 [==============================] - 0s 5ms/step - loss: 0.3414 - accuracy: 0.8779 - val_loss: 0.6303 - val_accuracy: 0.7971\n",
            "Epoch 179/500\n",
            "104/104 [==============================] - 1s 6ms/step - loss: 0.3447 - accuracy: 0.8718 - val_loss: 0.7047 - val_accuracy: 0.7874\n",
            "Epoch 180/500\n",
            "104/104 [==============================] - 0s 5ms/step - loss: 0.3542 - accuracy: 0.8730 - val_loss: 0.6388 - val_accuracy: 0.8068\n",
            "Epoch 181/500\n",
            "104/104 [==============================] - 1s 5ms/step - loss: 0.3354 - accuracy: 0.8779 - val_loss: 0.6554 - val_accuracy: 0.7923\n",
            "Epoch 182/500\n",
            "104/104 [==============================] - 1s 5ms/step - loss: 0.3259 - accuracy: 0.8803 - val_loss: 0.6569 - val_accuracy: 0.7923\n"
          ]
        }
      ]
    },
    {
      "cell_type": "code",
      "source": [
        "plt.plot(cnnhistory.history['loss'])\n",
        "plt.plot(cnnhistory.history['val_loss'])\n",
        "plt.title('model loss')\n",
        "plt.ylabel('loss')\n",
        "plt.xlabel('epoch')\n",
        "plt.legend(['train','test'], loc='upper left')\n",
        "plt.show()"
      ],
      "metadata": {
        "colab": {
          "base_uri": "https://localhost:8080/",
          "height": 295
        },
        "id": "oQYnuaCrDH_A",
        "outputId": "b4003f80-6bc4-4844-a19d-3616fa906c38"
      },
      "execution_count": 15,
      "outputs": [
        {
          "output_type": "display_data",
          "data": {
            "text/plain": [
              "<Figure size 432x288 with 1 Axes>"
            ],
            "image/png": "[encoded data removed]"
          },
          "metadata": {
            "needs_background": "light"
          }
        }
      ]
    },
    {
      "cell_type": "code",
      "source": [
        "plt.plot(cnnhistory.history['accuracy'])\n",
        "plt.plot(cnnhistory.history['val_accuracy'])\n",
        "plt.title('model accuracy')\n",
        "plt.ylabel('accuracy')\n",
        "plt.xlabel('epoch')\n",
        "plt.legend(['train','test'], loc='upper left')\n",
        "plt.show()"
      ],
      "metadata": {
        "colab": {
          "base_uri": "https://localhost:8080/",
          "height": 295
        },
        "id": "IFkTuO8nDNdq",
        "outputId": "d9403dd3-1176-43a0-ad83-8ca3d355ef35"
      },
      "execution_count": 16,
      "outputs": [
        {
          "output_type": "display_data",
          "data": {
            "text/plain": [
              "<Figure size 432x288 with 1 Axes>"
            ],
            "image/png": "[encoded data removed]"
          },
          "metadata": {
            "needs_background": "light"
          }
        }
      ]
    },
    {
      "cell_type": "code",
      "source": [
        "predictions = model.predict(x_testcnn)"
      ],
      "metadata": {
        "id": "A2xtrN5wDQgY"
      },
      "execution_count": 17,
      "outputs": []
    },
    {
      "cell_type": "code",
      "source": [
        "predictions"
      ],
      "metadata": {
        "colab": {
          "base_uri": "https://localhost:8080/"
        },
        "id": "_f_ohjXKDUpY",
        "outputId": "b465e0e6-8c8a-4dea-cf99-c8f9be204d6f"
      },
      "execution_count": 18,
      "outputs": [
        {
          "output_type": "execute_result",
          "data": {
            "text/plain": [
              "array([[2.5149167e-01, 9.8192476e-02, 1.4450543e-01, 3.4667575e-01,\n",
              "        9.9029429e-02, 6.0105298e-02],\n",
              "       [7.7174984e-05, 3.5228791e-06, 4.7938897e-08, 9.2071050e-01,\n",
              "        5.2612155e-05, 7.9156235e-02],\n",
              "       [2.4566257e-01, 9.2144631e-02, 3.7761595e-02, 3.3660644e-01,\n",
              "        2.3400450e-02, 2.6442432e-01],\n",
              "       ...,\n",
              "       [1.0543424e-03, 2.9208613e-06, 8.1044802e-04, 1.8821199e-03,\n",
              "        9.7000194e-01, 2.6248224e-02],\n",
              "       [3.7623369e-05, 4.6585160e-01, 5.1386768e-01, 1.7525969e-03,\n",
              "        3.7715607e-04, 1.8113328e-02],\n",
              "       [1.8915915e-04, 1.1961276e-04, 4.3518495e-02, 1.0930406e-03,\n",
              "        9.4927895e-01, 5.8007697e-03]], dtype=float32)"
            ]
          },
          "metadata": {},
          "execution_count": 18
        }
      ]
    },
    {
      "cell_type": "code",
      "source": [
        "y_test"
      ],
      "metadata": {
        "colab": {
          "base_uri": "https://localhost:8080/"
        },
        "id": "cmA2bFgsDW3D",
        "outputId": "d5e80ae4-e013-448b-c920-67f0b97cb6cd"
      },
      "execution_count": 19,
      "outputs": [
        {
          "output_type": "execute_result",
          "data": {
            "text/plain": [
              "array([3, 3, 3, 0, 4, 4, 1, 2, 5, 0, 5, 3, 2, 2, 1, 4, 4, 5, 2, 4, 1, 2,\n",
              "       3, 5, 4, 2, 1, 2, 2, 2, 2, 5, 2, 5, 3, 1, 2, 0, 4, 5, 2, 3, 2, 2,\n",
              "       5, 2, 0, 1, 3, 4, 4, 5, 1, 1, 4, 4, 5, 1, 1, 1, 0, 1, 5, 0, 4, 1,\n",
              "       1, 0, 1, 4, 1, 0, 4, 1, 3, 1, 2, 2, 1, 2, 3, 0, 5, 3, 5, 5, 2, 4,\n",
              "       5, 1, 5, 1, 5, 3, 4, 1, 4, 1, 5, 4, 5, 1, 2, 1, 1, 5, 1, 3, 2, 5,\n",
              "       2, 1, 3, 5, 4, 4, 0, 0, 3, 1, 2, 2, 3, 5, 1, 5, 3, 4, 2, 2, 0, 2,\n",
              "       2, 5, 5, 0, 3, 3, 2, 2, 0, 3, 4, 0, 4, 2, 4, 5, 4, 1, 5, 3, 2, 2,\n",
              "       5, 4, 3, 3, 4, 3, 3, 4, 1, 5, 2, 3, 2, 2, 0, 2, 1, 3, 1, 2, 2, 5,\n",
              "       5, 1, 4, 2, 2, 1, 1, 3, 3, 5, 5, 2, 5, 1, 5, 0, 3, 3, 0, 5, 1, 4,\n",
              "       1, 4, 2, 5, 5, 1, 4, 2, 4])"
            ]
          },
          "metadata": {},
          "execution_count": 19
        }
      ]
    },
    {
      "cell_type": "code",
      "source": [
        "new_Ytest = y_test.astype(int)"
      ],
      "metadata": {
        "id": "0PHDKWJWDY3g"
      },
      "execution_count": 20,
      "outputs": []
    },
    {
      "cell_type": "code",
      "source": [
        "new_Ytest"
      ],
      "metadata": {
        "colab": {
          "base_uri": "https://localhost:8080/"
        },
        "id": "k68v2i-pDbZE",
        "outputId": "82c1a2d5-f9be-46c8-95c6-5cbb7c2d11b5"
      },
      "execution_count": 21,
      "outputs": [
        {
          "output_type": "execute_result",
          "data": {
            "text/plain": [
              "array([3, 3, 3, 0, 4, 4, 1, 2, 5, 0, 5, 3, 2, 2, 1, 4, 4, 5, 2, 4, 1, 2,\n",
              "       3, 5, 4, 2, 1, 2, 2, 2, 2, 5, 2, 5, 3, 1, 2, 0, 4, 5, 2, 3, 2, 2,\n",
              "       5, 2, 0, 1, 3, 4, 4, 5, 1, 1, 4, 4, 5, 1, 1, 1, 0, 1, 5, 0, 4, 1,\n",
              "       1, 0, 1, 4, 1, 0, 4, 1, 3, 1, 2, 2, 1, 2, 3, 0, 5, 3, 5, 5, 2, 4,\n",
              "       5, 1, 5, 1, 5, 3, 4, 1, 4, 1, 5, 4, 5, 1, 2, 1, 1, 5, 1, 3, 2, 5,\n",
              "       2, 1, 3, 5, 4, 4, 0, 0, 3, 1, 2, 2, 3, 5, 1, 5, 3, 4, 2, 2, 0, 2,\n",
              "       2, 5, 5, 0, 3, 3, 2, 2, 0, 3, 4, 0, 4, 2, 4, 5, 4, 1, 5, 3, 2, 2,\n",
              "       5, 4, 3, 3, 4, 3, 3, 4, 1, 5, 2, 3, 2, 2, 0, 2, 1, 3, 1, 2, 2, 5,\n",
              "       5, 1, 4, 2, 2, 1, 1, 3, 3, 5, 5, 2, 5, 1, 5, 0, 3, 3, 0, 5, 1, 4,\n",
              "       1, 4, 2, 5, 5, 1, 4, 2, 4])"
            ]
          },
          "metadata": {},
          "execution_count": 21
        }
      ]
    },
    {
      "cell_type": "code",
      "source": [
        "preds1=predictions.argmax(axis=1)\n",
        "preds1"
      ],
      "metadata": {
        "colab": {
          "base_uri": "https://localhost:8080/"
        },
        "id": "4_cAI39VFhtp",
        "outputId": "0c9300cc-0ca3-47e4-a6e7-2b7fe7e4f605"
      },
      "execution_count": 22,
      "outputs": [
        {
          "output_type": "execute_result",
          "data": {
            "text/plain": [
              "array([3, 3, 3, 1, 4, 4, 1, 2, 5, 1, 5, 3, 2, 2, 1, 4, 4, 3, 3, 4, 2, 2,\n",
              "       0, 3, 5, 2, 1, 2, 2, 2, 2, 5, 3, 5, 3, 1, 2, 0, 4, 5, 2, 3, 2, 2,\n",
              "       3, 2, 1, 1, 3, 4, 4, 2, 1, 1, 4, 4, 5, 1, 1, 1, 0, 1, 2, 0, 4, 1,\n",
              "       1, 1, 1, 4, 1, 0, 4, 1, 5, 1, 2, 2, 1, 2, 1, 0, 5, 3, 5, 5, 2, 3,\n",
              "       3, 1, 5, 1, 5, 3, 4, 1, 4, 0, 5, 4, 5, 1, 2, 1, 1, 5, 1, 5, 2, 5,\n",
              "       1, 1, 3, 5, 4, 4, 3, 0, 3, 1, 1, 2, 1, 3, 0, 3, 3, 5, 2, 2, 0, 2,\n",
              "       2, 3, 3, 0, 3, 3, 2, 2, 0, 3, 4, 0, 4, 4, 4, 2, 4, 1, 5, 3, 2, 2,\n",
              "       5, 4, 3, 3, 4, 5, 3, 4, 1, 5, 2, 3, 2, 2, 0, 2, 1, 3, 1, 2, 2, 5,\n",
              "       5, 1, 4, 2, 2, 1, 1, 3, 5, 5, 5, 2, 5, 1, 4, 1, 3, 3, 2, 4, 1, 4,\n",
              "       1, 4, 0, 2, 5, 1, 4, 2, 4])"
            ]
          },
          "metadata": {},
          "execution_count": 22
        }
      ]
    },
    {
      "cell_type": "code",
      "source": [
        "abc = preds1.astype(int).flatten()"
      ],
      "metadata": {
        "id": "H4WEmM60NfQn"
      },
      "execution_count": 23,
      "outputs": []
    },
    {
      "cell_type": "code",
      "source": [
        "from sklearn.metrics import confusion_matrix\n",
        "c = confusion_matrix(new_Ytest, abc) \n",
        "c"
      ],
      "metadata": {
        "colab": {
          "base_uri": "https://localhost:8080/"
        },
        "id": "bKEBeEBlFjB8",
        "outputId": "f1ed2536-4bc2-44c1-de76-74695d2703cd"
      },
      "execution_count": 24,
      "outputs": [
        {
          "output_type": "execute_result",
          "data": {
            "text/plain": [
              "array([[11,  5,  1,  1,  0,  0],\n",
              "       [ 2, 38,  1,  0,  0,  0],\n",
              "       [ 1,  2, 39,  2,  1,  0],\n",
              "       [ 1,  2,  0, 24,  0,  4],\n",
              "       [ 0,  0,  0,  1, 30,  2],\n",
              "       [ 0,  0,  4,  8,  2, 25]])"
            ]
          },
          "metadata": {},
          "execution_count": 24
        }
      ]
    },
    {
      "cell_type": "code",
      "source": [
        "y_test"
      ],
      "metadata": {
        "colab": {
          "base_uri": "https://localhost:8080/"
        },
        "id": "m4RjG7LWLSQx",
        "outputId": "e9d367ed-afda-4335-e7e4-aecd0a13e9ef"
      },
      "execution_count": 25,
      "outputs": [
        {
          "output_type": "execute_result",
          "data": {
            "text/plain": [
              "array([3, 3, 3, 0, 4, 4, 1, 2, 5, 0, 5, 3, 2, 2, 1, 4, 4, 5, 2, 4, 1, 2,\n",
              "       3, 5, 4, 2, 1, 2, 2, 2, 2, 5, 2, 5, 3, 1, 2, 0, 4, 5, 2, 3, 2, 2,\n",
              "       5, 2, 0, 1, 3, 4, 4, 5, 1, 1, 4, 4, 5, 1, 1, 1, 0, 1, 5, 0, 4, 1,\n",
              "       1, 0, 1, 4, 1, 0, 4, 1, 3, 1, 2, 2, 1, 2, 3, 0, 5, 3, 5, 5, 2, 4,\n",
              "       5, 1, 5, 1, 5, 3, 4, 1, 4, 1, 5, 4, 5, 1, 2, 1, 1, 5, 1, 3, 2, 5,\n",
              "       2, 1, 3, 5, 4, 4, 0, 0, 3, 1, 2, 2, 3, 5, 1, 5, 3, 4, 2, 2, 0, 2,\n",
              "       2, 5, 5, 0, 3, 3, 2, 2, 0, 3, 4, 0, 4, 2, 4, 5, 4, 1, 5, 3, 2, 2,\n",
              "       5, 4, 3, 3, 4, 3, 3, 4, 1, 5, 2, 3, 2, 2, 0, 2, 1, 3, 1, 2, 2, 5,\n",
              "       5, 1, 4, 2, 2, 1, 1, 3, 3, 5, 5, 2, 5, 1, 5, 0, 3, 3, 0, 5, 1, 4,\n",
              "       1, 4, 2, 5, 5, 1, 4, 2, 4])"
            ]
          },
          "metadata": {},
          "execution_count": 25
        }
      ]
    },
    {
      "cell_type": "code",
      "source": [
        "loss, acc =model.evaluate(x_testcnn, y_test)\n",
        "print(\"Restored model, accuracy: {:5.2f}%\".format(100*acc))"
      ],
      "metadata": {
        "colab": {
          "base_uri": "https://localhost:8080/"
        },
        "id": "n3kzoqPkDqqS",
        "outputId": "2570e475-ddfe-4774-c95f-85f252d6cc04"
      },
      "execution_count": 26,
      "outputs": [
        {
          "output_type": "stream",
          "name": "stdout",
          "text": [
            "7/7 [==============================] - 0s 7ms/step - loss: 0.5980 - accuracy: 0.8068\n",
            "Restored model, accuracy: 80.68%\n"
          ]
        }
      ]
    },
    {
      "cell_type": "code",
      "source": [
        "loss, acc =model.evaluate(X_train, y_train)\n",
        "print(\"Restored model train, accuracy: {:5.2f}%\".format(100*acc))"
      ],
      "metadata": {
        "id": "fJDTGH_OUX0z",
        "colab": {
          "base_uri": "https://localhost:8080/"
        },
        "outputId": "cdb970d9-43dd-40e4-ce5c-cc9e12d165a5"
      },
      "execution_count": 27,
      "outputs": [
        {
          "output_type": "stream",
          "name": "stdout",
          "text": [
            "52/52 [==============================] - 1s 6ms/step - loss: 0.2831 - accuracy: 0.9510\n",
            "Restored model train, accuracy: 95.10%\n"
          ]
        }
      ]
    },
    {
      "cell_type": "code",
      "source": [
        "from sklearn.metrics import classification_report, confusion_matrix,accuracy_score\n",
        "import seaborn as sn\n",
        "\n",
        "print(classification_report(new_Ytest,abc))\n",
        "\n",
        "acc = float(accuracy_score(new_Ytest,abc))*100\n",
        "print(\"----accuracy score %s ----\" % acc)\n",
        "\n",
        "cm = confusion_matrix(new_Ytest,abc)\n",
        "#df_cm = pd.DataFrame(cm)\n",
        "class_names = ['neutral','calm', 'happy','sad','angry', 'fearful' ]\n",
        "df_cm = pd.DataFrame(cm, index=class_names, columns=class_names,)\n",
        "sn.heatmap(df_cm, annot=True, fmt='')\n",
        "plt.show()"
      ],
      "metadata": {
        "colab": {
          "base_uri": "https://localhost:8080/",
          "height": 508
        },
        "id": "SfSC3El94LZg",
        "outputId": "2459f9b2-c44c-41ee-d0c9-e743c730a76c"
      },
      "execution_count": 28,
      "outputs": [
        {
          "output_type": "stream",
          "name": "stdout",
          "text": [
            "              precision    recall  f1-score   support\n",
            "\n",
            "           0       0.73      0.61      0.67        18\n",
            "           1       0.81      0.93      0.86        41\n",
            "           2       0.87      0.87      0.87        45\n",
            "           3       0.67      0.77      0.72        31\n",
            "           4       0.91      0.91      0.91        33\n",
            "           5       0.81      0.64      0.71        39\n",
            "\n",
            "    accuracy                           0.81       207\n",
            "   macro avg       0.80      0.79      0.79       207\n",
            "weighted avg       0.81      0.81      0.80       207\n",
            "\n",
            "----accuracy score 80.67632850241546 ----\n"
          ]
        },
        {
          "output_type": "display_data",
          "data": {
            "text/plain": [
              "<Figure size 432x288 with 2 Axes>"
            ],
            "image/png": "[encoded data removed]"
          },
          "metadata": {
            "needs_background": "light"
          }
        }
      ]
    }
  ]
}