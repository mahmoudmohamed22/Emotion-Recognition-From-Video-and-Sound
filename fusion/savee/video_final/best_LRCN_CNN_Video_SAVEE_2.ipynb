{
  "cells": [
    {
      "cell_type": "code",
      "execution_count": 1,
      "metadata": {
        "colab": {
          "base_uri": "https://localhost:8080/"
        },
        "id": "iC_o_HaWEBQ4",
        "outputId": "3986c63f-c2f3-40a9-9518-018eab3ed91c"
      },
      "outputs": [
        {
          "output_type": "stream",
          "name": "stdout",
          "text": [
            "Looking in indexes: https://pypi.org/simple, https://us-python.pkg.dev/colab-wheels/public/simple/\n",
            "Requirement already satisfied: tensorflow in /usr/local/lib/python3.7/dist-packages (2.8.2+zzzcolab20220527125636)\n",
            "Requirement already satisfied: opencv-contrib-python in /usr/local/lib/python3.7/dist-packages (4.1.2.30)\n",
            "Collecting youtube-dl\n",
            "  Downloading youtube_dl-2021.12.17-py2.py3-none-any.whl (1.9 MB)\n",
            "\u001b[K     |████████████████████████████████| 1.9 MB 4.4 MB/s \n",
            "\u001b[?25hRequirement already satisfied: moviepy in /usr/local/lib/python3.7/dist-packages (0.2.3.5)\n",
            "Requirement already satisfied: pydot in /usr/local/lib/python3.7/dist-packages (1.3.0)\n",
            "Requirement already satisfied: protobuf<3.20,>=3.9.2 in /usr/local/lib/python3.7/dist-packages (from tensorflow) (3.17.3)\n",
            "Requirement already satisfied: astunparse>=1.6.0 in /usr/local/lib/python3.7/dist-packages (from tensorflow) (1.6.3)\n",
            "Requirement already satisfied: tensorflow-estimator<2.9,>=2.8 in /usr/local/lib/python3.7/dist-packages (from tensorflow) (2.8.0)\n",
            "Requirement already satisfied: six>=1.12.0 in /usr/local/lib/python3.7/dist-packages (from tensorflow) (1.15.0)\n",
            "Requirement already satisfied: gast>=0.2.1 in /usr/local/lib/python3.7/dist-packages (from tensorflow) (0.5.3)\n",
            "Requirement already satisfied: setuptools in /usr/local/lib/python3.7/dist-packages (from tensorflow) (57.4.0)\n",
            "Requirement already satisfied: opt-einsum>=2.3.2 in /usr/local/lib/python3.7/dist-packages (from tensorflow) (3.3.0)\n",
            "Requirement already satisfied: absl-py>=0.4.0 in /usr/local/lib/python3.7/dist-packages (from tensorflow) (1.1.0)\n",
            "Requirement already satisfied: typing-extensions>=3.6.6 in /usr/local/lib/python3.7/dist-packages (from tensorflow) (4.2.0)\n",
            "Requirement already satisfied: tensorboard<2.9,>=2.8 in /usr/local/lib/python3.7/dist-packages (from tensorflow) (2.8.0)\n",
            "Requirement already satisfied: keras<2.9,>=2.8.0rc0 in /usr/local/lib/python3.7/dist-packages (from tensorflow) (2.8.0)\n",
            "Requirement already satisfied: libclang>=9.0.1 in /usr/local/lib/python3.7/dist-packages (from tensorflow) (14.0.1)\n",
            "Requirement already satisfied: grpcio<2.0,>=1.24.3 in /usr/local/lib/python3.7/dist-packages (from tensorflow) (1.46.3)\n",
            "Requirement already satisfied: keras-preprocessing>=1.1.1 in /usr/local/lib/python3.7/dist-packages (from tensorflow) (1.1.2)\n",
            "Requirement already satisfied: tensorflow-io-gcs-filesystem>=0.23.1 in /usr/local/lib/python3.7/dist-packages (from tensorflow) (0.26.0)\n",
            "Requirement already satisfied: google-pasta>=0.1.1 in /usr/local/lib/python3.7/dist-packages (from tensorflow) (0.2.0)\n",
            "Requirement already satisfied: numpy>=1.20 in /usr/local/lib/python3.7/dist-packages (from tensorflow) (1.21.6)\n",
            "Requirement already satisfied: flatbuffers>=1.12 in /usr/local/lib/python3.7/dist-packages (from tensorflow) (2.0)\n",
            "Requirement already satisfied: termcolor>=1.1.0 in /usr/local/lib/python3.7/dist-packages (from tensorflow) (1.1.0)\n",
            "Requirement already satisfied: wrapt>=1.11.0 in /usr/local/lib/python3.7/dist-packages (from tensorflow) (1.14.1)\n",
            "Requirement already satisfied: h5py>=2.9.0 in /usr/local/lib/python3.7/dist-packages (from tensorflow) (3.1.0)\n",
            "Requirement already satisfied: wheel<1.0,>=0.23.0 in /usr/local/lib/python3.7/dist-packages (from astunparse>=1.6.0->tensorflow) (0.37.1)\n",
            "Requirement already satisfied: cached-property in /usr/local/lib/python3.7/dist-packages (from h5py>=2.9.0->tensorflow) (1.5.2)\n",
            "Requirement already satisfied: werkzeug>=0.11.15 in /usr/local/lib/python3.7/dist-packages (from tensorboard<2.9,>=2.8->tensorflow) (1.0.1)\n",
            "Requirement already satisfied: requests<3,>=2.21.0 in /usr/local/lib/python3.7/dist-packages (from tensorboard<2.9,>=2.8->tensorflow) (2.23.0)\n",
            "Requirement already satisfied: tensorboard-data-server<0.7.0,>=0.6.0 in /usr/local/lib/python3.7/dist-packages (from tensorboard<2.9,>=2.8->tensorflow) (0.6.1)\n",
            "Requirement already satisfied: tensorboard-plugin-wit>=1.6.0 in /usr/local/lib/python3.7/dist-packages (from tensorboard<2.9,>=2.8->tensorflow) (1.8.1)\n",
            "Requirement already satisfied: google-auth<3,>=1.6.3 in /usr/local/lib/python3.7/dist-packages (from tensorboard<2.9,>=2.8->tensorflow) (1.35.0)\n",
            "Requirement already satisfied: google-auth-oauthlib<0.5,>=0.4.1 in /usr/local/lib/python3.7/dist-packages (from tensorboard<2.9,>=2.8->tensorflow) (0.4.6)\n",
            "Requirement already satisfied: markdown>=2.6.8 in /usr/local/lib/python3.7/dist-packages (from tensorboard<2.9,>=2.8->tensorflow) (3.3.7)\n",
            "Requirement already satisfied: pyasn1-modules>=0.2.1 in /usr/local/lib/python3.7/dist-packages (from google-auth<3,>=1.6.3->tensorboard<2.9,>=2.8->tensorflow) (0.2.8)\n",
            "Requirement already satisfied: rsa<5,>=3.1.4 in /usr/local/lib/python3.7/dist-packages (from google-auth<3,>=1.6.3->tensorboard<2.9,>=2.8->tensorflow) (4.8)\n",
            "Requirement already satisfied: cachetools<5.0,>=2.0.0 in /usr/local/lib/python3.7/dist-packages (from google-auth<3,>=1.6.3->tensorboard<2.9,>=2.8->tensorflow) (4.2.4)\n",
            "Requirement already satisfied: requests-oauthlib>=0.7.0 in /usr/local/lib/python3.7/dist-packages (from google-auth-oauthlib<0.5,>=0.4.1->tensorboard<2.9,>=2.8->tensorflow) (1.3.1)\n",
            "Requirement already satisfied: importlib-metadata>=4.4 in /usr/local/lib/python3.7/dist-packages (from markdown>=2.6.8->tensorboard<2.9,>=2.8->tensorflow) (4.11.4)\n",
            "Requirement already satisfied: zipp>=0.5 in /usr/local/lib/python3.7/dist-packages (from importlib-metadata>=4.4->markdown>=2.6.8->tensorboard<2.9,>=2.8->tensorflow) (3.8.0)\n",
            "Requirement already satisfied: pyasn1<0.5.0,>=0.4.6 in /usr/local/lib/python3.7/dist-packages (from pyasn1-modules>=0.2.1->google-auth<3,>=1.6.3->tensorboard<2.9,>=2.8->tensorflow) (0.4.8)\n",
            "Requirement already satisfied: certifi>=2017.4.17 in /usr/local/lib/python3.7/dist-packages (from requests<3,>=2.21.0->tensorboard<2.9,>=2.8->tensorflow) (2022.5.18.1)\n",
            "Requirement already satisfied: idna<3,>=2.5 in /usr/local/lib/python3.7/dist-packages (from requests<3,>=2.21.0->tensorboard<2.9,>=2.8->tensorflow) (2.10)\n",
            "Requirement already satisfied: urllib3!=1.25.0,!=1.25.1,<1.26,>=1.21.1 in /usr/local/lib/python3.7/dist-packages (from requests<3,>=2.21.0->tensorboard<2.9,>=2.8->tensorflow) (1.24.3)\n",
            "Requirement already satisfied: chardet<4,>=3.0.2 in /usr/local/lib/python3.7/dist-packages (from requests<3,>=2.21.0->tensorboard<2.9,>=2.8->tensorflow) (3.0.4)\n",
            "Requirement already satisfied: oauthlib>=3.0.0 in /usr/local/lib/python3.7/dist-packages (from requests-oauthlib>=0.7.0->google-auth-oauthlib<0.5,>=0.4.1->tensorboard<2.9,>=2.8->tensorflow) (3.2.0)\n",
            "Requirement already satisfied: decorator<5.0,>=4.0.2 in /usr/local/lib/python3.7/dist-packages (from moviepy) (4.4.2)\n",
            "Requirement already satisfied: tqdm<5.0,>=4.11.2 in /usr/local/lib/python3.7/dist-packages (from moviepy) (4.64.0)\n",
            "Requirement already satisfied: imageio<3.0,>=2.1.2 in /usr/local/lib/python3.7/dist-packages (from moviepy) (2.4.1)\n",
            "Requirement already satisfied: pillow in /usr/local/lib/python3.7/dist-packages (from imageio<3.0,>=2.1.2->moviepy) (7.1.2)\n",
            "Requirement already satisfied: pyparsing>=2.1.4 in /usr/local/lib/python3.7/dist-packages (from pydot) (3.0.9)\n",
            "Installing collected packages: youtube-dl\n",
            "Successfully installed youtube-dl-2021.12.17\n",
            "Looking in indexes: https://pypi.org/simple, https://us-python.pkg.dev/colab-wheels/public/simple/\n",
            "Collecting pafy\n",
            "  Cloning https://github.com/TahaAnwar/pafy.git to /tmp/pip-install-oz0mx2ea/pafy_d92aff18b58f439790b63b65c0f05a5f\n",
            "  Running command git clone -q https://github.com/TahaAnwar/pafy.git /tmp/pip-install-oz0mx2ea/pafy_d92aff18b58f439790b63b65c0f05a5f\n",
            "Building wheels for collected packages: pafy\n",
            "  Building wheel for pafy (setup.py) ... \u001b[?25l\u001b[?25hdone\n",
            "  Created wheel for pafy: filename=pafy-0.5.5-py2.py3-none-any.whl size=35706 sha256=2fb0550d0085f1d32244f9353b94fc65adccec5ac9dc59679d5d976e67b28336\n",
            "  Stored in directory: /tmp/pip-ephem-wheel-cache-bp91_goe/wheels/64/82/dd/3d7823b3bbbe1aca9b30f8cf0d6bb6c1b72ccd95e3360f8190\n",
            "Successfully built pafy\n",
            "Installing collected packages: pafy\n",
            "Successfully installed pafy-0.5.5\n"
          ]
        }
      ],
      "source": [
        "# Discard the output of this cell.\n",
        "#%%capture\n",
        "\n",
        "# Install the required libraries.\n",
        "!pip install tensorflow opencv-contrib-python youtube-dl moviepy pydot\n",
        "!pip install git+https://github.com/TahaAnwar/pafy.git#egg=pafy"
      ]
    },
    {
      "cell_type": "code",
      "source": [
        "from google.colab import drive\n",
        "drive.mount('/content/drive')"
      ],
      "metadata": {
        "colab": {
          "base_uri": "https://localhost:8080/"
        },
        "id": "773CUmldFLWW",
        "outputId": "757e53d4-5f62-4ddc-9c68-0093f2101cc9"
      },
      "execution_count": 2,
      "outputs": [
        {
          "output_type": "stream",
          "name": "stdout",
          "text": [
            "Mounted at /content/drive\n"
          ]
        }
      ]
    },
    {
      "cell_type": "code",
      "source": [
        "# Import the required libraries.\n",
        "import os\n",
        "import cv2\n",
        "import pafy\n",
        "import math\n",
        "import random\n",
        "import numpy as np\n",
        "import datetime as dt\n",
        "import tensorflow as tf\n",
        "from collections import deque\n",
        "import matplotlib.pyplot as plt\n",
        "\n",
        "from moviepy.editor import *\n",
        "%matplotlib inline\n",
        "\n",
        "from sklearn.model_selection import train_test_split\n",
        "\n",
        "from tensorflow.keras.layers import *\n",
        "from tensorflow.keras.models import Sequential\n",
        "from tensorflow.keras.utils import to_categorical\n",
        "from tensorflow.keras.callbacks import EarlyStopping\n",
        "from tensorflow.keras.utils import plot_model"
      ],
      "metadata": {
        "id": "pI_Uxj54EZA-",
        "colab": {
          "base_uri": "https://localhost:8080/"
        },
        "outputId": "a38a9deb-5c5a-4dd7-e021-7fc74fc9ec6a"
      },
      "execution_count": 3,
      "outputs": [
        {
          "output_type": "stream",
          "name": "stdout",
          "text": [
            "Imageio: 'ffmpeg-linux64-v3.3.1' was not found on your computer; downloading it now.\n",
            "Try 1. Download from https://github.com/imageio/imageio-binaries/raw/master/ffmpeg/ffmpeg-linux64-v3.3.1 (43.8 MB)\n",
            "Downloading: 8192/45929032 bytes (0.0%)\b\b\b\b\b\b\b\b\b\b\b\b\b\b\b\b\b\b\b\b\b\b\b\b\b\b2793472/45929032 bytes (6.1%)\b\b\b\b\b\b\b\b\b\b\b\b\b\b\b\b\b\b\b\b\b\b\b\b\b\b\b\b\b6897664/45929032 bytes (15.0%)\b\b\b\b\b\b\b\b\b\b\b\b\b\b\b\b\b\b\b\b\b\b\b\b\b\b\b\b\b\b10854400/45929032 bytes (23.6%)\b\b\b\b\b\b\b\b\b\b\b\b\b\b\b\b\b\b\b\b\b\b\b\b\b\b\b\b\b\b\b14974976/45929032 bytes (32.6%)\b\b\b\b\b\b\b\b\b\b\b\b\b\b\b\b\b\b\b\b\b\b\b\b\b\b\b\b\b\b\b19185664/45929032 bytes (41.8%)\b\b\b\b\b\b\b\b\b\b\b\b\b\b\b\b\b\b\b\b\b\b\b\b\b\b\b\b\b\b\b23199744/45929032 bytes (50.5%)\b\b\b\b\b\b\b\b\b\b\b\b\b\b\b\b\b\b\b\b\b\b\b\b\b\b\b\b\b\b\b27369472/45929032 bytes (59.6%)\b\b\b\b\b\b\b\b\b\b\b\b\b\b\b\b\b\b\b\b\b\b\b\b\b\b\b\b\b\b\b31473664/45929032 bytes (68.5%)\b\b\b\b\b\b\b\b\b\b\b\b\b\b\b\b\b\b\b\b\b\b\b\b\b\b\b\b\b\b\b35528704/45929032 bytes (77.4%)\b\b\b\b\b\b\b\b\b\b\b\b\b\b\b\b\b\b\b\b\b\b\b\b\b\b\b\b\b\b\b39624704/45929032 bytes (86.3%)\b\b\b\b\b\b\b\b\b\b\b\b\b\b\b\b\b\b\b\b\b\b\b\b\b\b\b\b\b\b\b43876352/45929032 bytes (95.5%)\b\b\b\b\b\b\b\b\b\b\b\b\b\b\b\b\b\b\b\b\b\b\b\b\b\b\b\b\b\b\b45929032/45929032 bytes (100.0%)\n",
            "  Done\n",
            "File saved as /root/.imageio/ffmpeg/ffmpeg-linux64-v3.3.1.\n"
          ]
        }
      ]
    },
    {
      "cell_type": "code",
      "source": [
        "# Specify the height and width to which each video frame will be resized in our dataset.\n",
        "IMAGE_HEIGHT , IMAGE_WIDTH = 64, 64\n",
        "\n",
        "# Specify the number of frames of a video that will be fed to the model as one sequence.\n",
        "SEQUENCE_LENGTH = 30\n",
        "\n",
        "# Specify the directory containing the UCF50 dataset. \n",
        "DATASET_DIR = \"/content/drive/MyDrive/SAVEEvideowithlabel/\"\n",
        "\n",
        "# Specify the list containing the names of the classes used for training. Feel free to choose any set of classes.\n",
        "CLASSES_LIST = [\"neutral\", \"happy\", \"sad\",\"angry\",\"fearful\"]"
      ],
      "metadata": {
        "id": "SjdIu5iUEtFT"
      },
      "execution_count": 4,
      "outputs": []
    },
    {
      "cell_type": "code",
      "source": [
        "import joblib\n",
        "path='/content/drive/My Drive/fusion/savee/audio/data_set/expert2/'\n",
        "train_path_name=joblib.load(path+'train/video_train_path')\n",
        "valid_path_name=joblib.load(path+'valid/video_valid_path')\n",
        "test_path_name=joblib.load(path+'test/video_test_path')\n",
        "\n",
        "labels_train=joblib.load(path+'train/labels_train')\n",
        "labels_valid=joblib.load(path+'valid/labels_valid')\n",
        "labels_test=joblib.load(path+'test/labels_test')\n"
      ],
      "metadata": {
        "id": "bX4U29oQ2pim"
      },
      "execution_count": 5,
      "outputs": []
    },
    {
      "cell_type": "code",
      "source": [
        "len(train_path_name),len(valid_path_name),len(test_path_name),len(labels_train),len(labels_valid),len(labels_test)"
      ],
      "metadata": {
        "colab": {
          "base_uri": "https://localhost:8080/"
        },
        "id": "h0ruZZrrBkht",
        "outputId": "d96a4bce-0351-4388-a02f-08e050cfd5e5"
      },
      "execution_count": 6,
      "outputs": [
        {
          "output_type": "execute_result",
          "data": {
            "text/plain": [
              "(288, 36, 36, 288, 36, 36)"
            ]
          },
          "metadata": {},
          "execution_count": 6
        }
      ]
    },
    {
      "cell_type": "code",
      "source": [
        "def frames_extraction(video_path):\n",
        "    '''\n",
        "    This function will extract the required frames from a video after resizing and normalizing them.\n",
        "    Args:\n",
        "        video_path: The path of the video in the disk, whose frames are to be extracted.\n",
        "    Returns:\n",
        "        frames_list: A list containing the resized and normalized frames of the video.\n",
        "    '''\n",
        "\n",
        "    # Declare a list to store video frames.\n",
        "    frames_list = []\n",
        "    # Read the Video File using the VideoCapture object.\n",
        "    video_reader = cv2.VideoCapture(video_path)\n",
        "\n",
        "    # Get the total number of frames in the video.\n",
        "    video_frames_count = int(video_reader.get(cv2.CAP_PROP_FRAME_COUNT))\n",
        "\n",
        "    # Calculate the the interval after which frames will be added to the list.\n",
        "    skip_frames_window = max(int(video_frames_count/SEQUENCE_LENGTH), 1)\n",
        "\n",
        "    # Iterate through the Video Frames.\n",
        "    for frame_counter in range(SEQUENCE_LENGTH):\n",
        "\n",
        "        # Set the current frame position of the video.\n",
        "        video_reader.set(cv2.CAP_PROP_POS_FRAMES, frame_counter * skip_frames_window)\n",
        "\n",
        "        # Reading the frame from the video. \n",
        "        success, frame = video_reader.read() \n",
        "\n",
        "        # Check if Video frame is not successfully read then break the loop\n",
        "        if not success:\n",
        "            break\n",
        "\n",
        "        # Resize the Frame to fixed height and width.\n",
        "        resized_frame = cv2.resize(frame, (IMAGE_HEIGHT, IMAGE_WIDTH))\n",
        "        \n",
        "        # Normalize the resized frame by dividing it with 255 so that each pixel value then lies between 0 and 1\n",
        "        normalized_frame = resized_frame / 255\n",
        "        \n",
        "        # Append the normalized frame into the frames list\n",
        "        frames_list.append(normalized_frame)\n",
        "    \n",
        "    # Release the VideoCapture object. \n",
        "    video_reader.release()\n",
        "\n",
        "    # Return the frames list.\n",
        "    return frames_list"
      ],
      "metadata": {
        "id": "FDdQgjx3wZ7I"
      },
      "execution_count": 7,
      "outputs": []
    },
    {
      "cell_type": "code",
      "source": [
        "def create_dataset(video_path):\n",
        "    '''\n",
        "    This function will extract the data of the selected classes and create the required dataset.\n",
        "    Returns:\n",
        "        features:          A list containing the extracted frames of the videos.\n",
        "        labels:            A list containing the indexes of the classes associated with the videos.\n",
        "        video_files_paths: A list containing the paths of the videos in the disk.\n",
        "    '''\n",
        "\n",
        "    # Declared Empty Lists to store the features, labels and video file path values.\n",
        "    features = []\n",
        "    #labels = []\n",
        "    #video_files_paths = []\n",
        "    #count=0\n",
        "    # Iterating through all the classes mentioned in the classes list\n",
        "    #for class_index, class_name in enumerate(CLASSES_LIST):\n",
        "    for i in video_path:   \n",
        "        # Display the name of the class whose data is being extracted.\n",
        "        #print(f'Extracting Data of Class: {class_name}')\n",
        "        \n",
        "        # Get the list of video files present in the specific class name directory.\n",
        "        #files_list = os.listdir(os.path.join(DATASET_DIR, class_name))\n",
        "        \n",
        "        # Iterate through all the files present in the files list.\n",
        "        #for file_name in files_list:\n",
        "            \n",
        "            # Get the complete video path.\n",
        "            #video_file_path = os.path.join(DATASET_DIR, class_name, file_name)\n",
        "            video_file_path=DATASET_DIR+i\n",
        "            print(video_file_path)\n",
        "            # Extract the frames of the video file.\n",
        "            frames = frames_extraction(video_file_path)\n",
        "            \n",
        "            # Check if the extracted frames are equal to the SEQUENCE_LENGTH specified above.\n",
        "            # So ignore the vides having frames less than the SEQUENCE_LENGTH.\n",
        "            if len(frames) == SEQUENCE_LENGTH:\n",
        "\n",
        "                # Append the data to their repective lists.\n",
        "                features.append(frames)\n",
        "                #labels.append(class_index)\n",
        "            \n",
        "\n",
        "    # Converting the list to numpy arrays\n",
        "    features = np.asarray(features)\n",
        "    \n",
        "    #labels = np.array(labels)  \n",
        "    \n",
        "    # Return the frames, class index, and video file path.\n",
        "    return features"
      ],
      "metadata": {
        "id": "ZsZMU8CWwidt"
      },
      "execution_count": 8,
      "outputs": []
    },
    {
      "cell_type": "code",
      "source": [
        "features_train=create_dataset(train_path_name)\n",
        "features_test=create_dataset(test_path_name)\n",
        "features_valid=create_dataset(valid_path_name)"
      ],
      "metadata": {
        "colab": {
          "base_uri": "https://localhost:8080/"
        },
        "id": "5dVZii6-wjPV",
        "outputId": "fcdb886a-7a7c-435f-8122-c005b8b7f455"
      },
      "execution_count": 9,
      "outputs": [
        {
          "output_type": "stream",
          "name": "stdout",
          "text": [
            "/content/drive/MyDrive/SAVEEvideowithlabel/neutral/n17dc.avi\n",
            "/content/drive/MyDrive/SAVEEvideowithlabel/neutral/n20kl.avi\n",
            "/content/drive/MyDrive/SAVEEvideowithlabel/fearful/f12dc.avi\n",
            "/content/drive/MyDrive/SAVEEvideowithlabel/happy/h2kl.avi\n",
            "/content/drive/MyDrive/SAVEEvideowithlabel/happy/h8jk.avi\n",
            "/content/drive/MyDrive/SAVEEvideowithlabel/angry/a6dc.avi\n",
            "/content/drive/MyDrive/SAVEEvideowithlabel/angry/a15dc.avi\n",
            "/content/drive/MyDrive/SAVEEvideowithlabel/happy/h5dc.avi\n",
            "/content/drive/MyDrive/SAVEEvideowithlabel/fearful/f9je.avi\n",
            "/content/drive/MyDrive/SAVEEvideowithlabel/neutral/n26jk.avi\n",
            "/content/drive/MyDrive/SAVEEvideowithlabel/neutral/n12dc.avi\n",
            "/content/drive/MyDrive/SAVEEvideowithlabel/sad/sa8jk.avi\n",
            "/content/drive/MyDrive/SAVEEvideowithlabel/fearful/f13dc.avi\n",
            "/content/drive/MyDrive/SAVEEvideowithlabel/neutral/n17kl.avi\n",
            "/content/drive/MyDrive/SAVEEvideowithlabel/neutral/n6kl.avi\n",
            "/content/drive/MyDrive/SAVEEvideowithlabel/angry/a11kl.avi\n",
            "/content/drive/MyDrive/SAVEEvideowithlabel/happy/h2je.avi\n",
            "/content/drive/MyDrive/SAVEEvideowithlabel/sad/sa9jk.avi\n",
            "/content/drive/MyDrive/SAVEEvideowithlabel/sad/sa12jk.avi\n",
            "/content/drive/MyDrive/SAVEEvideowithlabel/fearful/f4jk.avi\n",
            "/content/drive/MyDrive/SAVEEvideowithlabel/sad/sa10je.avi\n",
            "/content/drive/MyDrive/SAVEEvideowithlabel/happy/h14kl.avi\n",
            "/content/drive/MyDrive/SAVEEvideowithlabel/angry/a8dc.avi\n",
            "/content/drive/MyDrive/SAVEEvideowithlabel/fearful/f7kl.avi\n",
            "/content/drive/MyDrive/SAVEEvideowithlabel/sad/sa10dc.avi\n",
            "/content/drive/MyDrive/SAVEEvideowithlabel/happy/h7jk.avi\n",
            "/content/drive/MyDrive/SAVEEvideowithlabel/neutral/n7dc.avi\n",
            "/content/drive/MyDrive/SAVEEvideowithlabel/happy/h2jk.avi\n",
            "/content/drive/MyDrive/SAVEEvideowithlabel/neutral/n15dc.avi\n",
            "/content/drive/MyDrive/SAVEEvideowithlabel/neutral/n25je.avi\n",
            "/content/drive/MyDrive/SAVEEvideowithlabel/happy/h10kl.avi\n",
            "/content/drive/MyDrive/SAVEEvideowithlabel/neutral/n27je.avi\n",
            "/content/drive/MyDrive/SAVEEvideowithlabel/sad/sa12kl.avi\n",
            "/content/drive/MyDrive/SAVEEvideowithlabel/neutral/n28dc.avi\n",
            "/content/drive/MyDrive/SAVEEvideowithlabel/fearful/f13kl.avi\n",
            "/content/drive/MyDrive/SAVEEvideowithlabel/neutral/n13dc.avi\n",
            "/content/drive/MyDrive/SAVEEvideowithlabel/happy/h12kl.avi\n",
            "/content/drive/MyDrive/SAVEEvideowithlabel/neutral/n22jk.avi\n",
            "/content/drive/MyDrive/SAVEEvideowithlabel/fearful/f10jk.avi\n",
            "/content/drive/MyDrive/SAVEEvideowithlabel/fearful/f2kl.avi\n",
            "/content/drive/MyDrive/SAVEEvideowithlabel/fearful/f5je.avi\n",
            "/content/drive/MyDrive/SAVEEvideowithlabel/neutral/n17jk.avi\n",
            "/content/drive/MyDrive/SAVEEvideowithlabel/neutral/n28jk.avi\n",
            "/content/drive/MyDrive/SAVEEvideowithlabel/sad/sa14dc.avi\n",
            "/content/drive/MyDrive/SAVEEvideowithlabel/angry/a6je.avi\n",
            "/content/drive/MyDrive/SAVEEvideowithlabel/neutral/n2kl.avi\n",
            "/content/drive/MyDrive/SAVEEvideowithlabel/angry/a9je.avi\n",
            "/content/drive/MyDrive/SAVEEvideowithlabel/fearful/f10dc.avi\n",
            "/content/drive/MyDrive/SAVEEvideowithlabel/neutral/n21dc.avi\n",
            "/content/drive/MyDrive/SAVEEvideowithlabel/neutral/n25jk.avi\n",
            "/content/drive/MyDrive/SAVEEvideowithlabel/happy/h8je.avi\n",
            "/content/drive/MyDrive/SAVEEvideowithlabel/sad/sa11kl.avi\n",
            "/content/drive/MyDrive/SAVEEvideowithlabel/happy/h10dc.avi\n",
            "/content/drive/MyDrive/SAVEEvideowithlabel/happy/h1dc.avi\n",
            "/content/drive/MyDrive/SAVEEvideowithlabel/angry/a1dc.avi\n",
            "/content/drive/MyDrive/SAVEEvideowithlabel/angry/a5kl.avi\n",
            "/content/drive/MyDrive/SAVEEvideowithlabel/sad/sa2dc.avi\n",
            "/content/drive/MyDrive/SAVEEvideowithlabel/neutral/n30je.avi\n",
            "/content/drive/MyDrive/SAVEEvideowithlabel/angry/a13jk.avi\n",
            "/content/drive/MyDrive/SAVEEvideowithlabel/neutral/n2jk.avi\n",
            "/content/drive/MyDrive/SAVEEvideowithlabel/neutral/n16dc.avi\n",
            "/content/drive/MyDrive/SAVEEvideowithlabel/sad/sa6jk.avi\n",
            "/content/drive/MyDrive/SAVEEvideowithlabel/happy/h14jk.avi\n",
            "/content/drive/MyDrive/SAVEEvideowithlabel/neutral/n3kl.avi\n",
            "/content/drive/MyDrive/SAVEEvideowithlabel/fearful/f5dc.avi\n",
            "/content/drive/MyDrive/SAVEEvideowithlabel/happy/h15je.avi\n",
            "/content/drive/MyDrive/SAVEEvideowithlabel/angry/a4jk.avi\n",
            "/content/drive/MyDrive/SAVEEvideowithlabel/happy/h13je.avi\n",
            "/content/drive/MyDrive/SAVEEvideowithlabel/neutral/n13jk.avi\n",
            "/content/drive/MyDrive/SAVEEvideowithlabel/happy/h4dc.avi\n",
            "/content/drive/MyDrive/SAVEEvideowithlabel/neutral/n24kl.avi\n",
            "/content/drive/MyDrive/SAVEEvideowithlabel/neutral/n21jk.avi\n",
            "/content/drive/MyDrive/SAVEEvideowithlabel/happy/h6kl.avi\n",
            "/content/drive/MyDrive/SAVEEvideowithlabel/happy/h14je.avi\n",
            "/content/drive/MyDrive/SAVEEvideowithlabel/fearful/f14kl.avi\n",
            "/content/drive/MyDrive/SAVEEvideowithlabel/sad/sa7dc.avi\n",
            "/content/drive/MyDrive/SAVEEvideowithlabel/fearful/f10kl.avi\n",
            "/content/drive/MyDrive/SAVEEvideowithlabel/angry/a7dc.avi\n",
            "/content/drive/MyDrive/SAVEEvideowithlabel/neutral/n12kl.avi\n",
            "/content/drive/MyDrive/SAVEEvideowithlabel/neutral/n24dc.avi\n",
            "/content/drive/MyDrive/SAVEEvideowithlabel/angry/a1je.avi\n",
            "/content/drive/MyDrive/SAVEEvideowithlabel/sad/sa11jk.avi\n",
            "/content/drive/MyDrive/SAVEEvideowithlabel/fearful/f3jk.avi\n",
            "/content/drive/MyDrive/SAVEEvideowithlabel/happy/h8kl.avi\n",
            "/content/drive/MyDrive/SAVEEvideowithlabel/angry/a15jk.avi\n",
            "/content/drive/MyDrive/SAVEEvideowithlabel/happy/h5kl.avi\n",
            "/content/drive/MyDrive/SAVEEvideowithlabel/fearful/f12kl.avi\n",
            "/content/drive/MyDrive/SAVEEvideowithlabel/angry/a12dc.avi\n",
            "/content/drive/MyDrive/SAVEEvideowithlabel/neutral/n19dc.avi\n",
            "/content/drive/MyDrive/SAVEEvideowithlabel/happy/h9kl.avi\n",
            "/content/drive/MyDrive/SAVEEvideowithlabel/sad/sa15je.avi\n",
            "/content/drive/MyDrive/SAVEEvideowithlabel/happy/h13dc.avi\n",
            "/content/drive/MyDrive/SAVEEvideowithlabel/sad/sa14je.avi\n",
            "/content/drive/MyDrive/SAVEEvideowithlabel/neutral/n23dc.avi\n",
            "/content/drive/MyDrive/SAVEEvideowithlabel/neutral/n16kl.avi\n",
            "/content/drive/MyDrive/SAVEEvideowithlabel/fearful/f13je.avi\n",
            "/content/drive/MyDrive/SAVEEvideowithlabel/neutral/n2je.avi\n",
            "/content/drive/MyDrive/SAVEEvideowithlabel/happy/h9je.avi\n",
            "/content/drive/MyDrive/SAVEEvideowithlabel/angry/a7je.avi\n",
            "/content/drive/MyDrive/SAVEEvideowithlabel/angry/a13dc.avi\n",
            "/content/drive/MyDrive/SAVEEvideowithlabel/fearful/f10je.avi\n",
            "/content/drive/MyDrive/SAVEEvideowithlabel/sad/sa3kl.avi\n",
            "/content/drive/MyDrive/SAVEEvideowithlabel/neutral/n3dc.avi\n",
            "/content/drive/MyDrive/SAVEEvideowithlabel/neutral/n23je.avi\n",
            "/content/drive/MyDrive/SAVEEvideowithlabel/angry/a12kl.avi\n",
            "/content/drive/MyDrive/SAVEEvideowithlabel/happy/h7kl.avi\n",
            "/content/drive/MyDrive/SAVEEvideowithlabel/fearful/f9dc.avi\n",
            "/content/drive/MyDrive/SAVEEvideowithlabel/sad/sa13jk.avi\n",
            "/content/drive/MyDrive/SAVEEvideowithlabel/neutral/n3je.avi\n",
            "/content/drive/MyDrive/SAVEEvideowithlabel/sad/sa14jk.avi\n",
            "/content/drive/MyDrive/SAVEEvideowithlabel/neutral/n6je.avi\n",
            "/content/drive/MyDrive/SAVEEvideowithlabel/neutral/n6jk.avi\n",
            "/content/drive/MyDrive/SAVEEvideowithlabel/fearful/f6je.avi\n",
            "/content/drive/MyDrive/SAVEEvideowithlabel/angry/a11je.avi\n",
            "/content/drive/MyDrive/SAVEEvideowithlabel/sad/sa1jk.avi\n",
            "/content/drive/MyDrive/SAVEEvideowithlabel/happy/h11dc.avi\n",
            "/content/drive/MyDrive/SAVEEvideowithlabel/happy/h7dc.avi\n",
            "/content/drive/MyDrive/SAVEEvideowithlabel/neutral/n29je.avi\n",
            "/content/drive/MyDrive/SAVEEvideowithlabel/angry/a9kl.avi\n",
            "/content/drive/MyDrive/SAVEEvideowithlabel/sad/sa2je.avi\n",
            "/content/drive/MyDrive/SAVEEvideowithlabel/neutral/n11kl.avi\n",
            "/content/drive/MyDrive/SAVEEvideowithlabel/angry/a12je.avi\n",
            "/content/drive/MyDrive/SAVEEvideowithlabel/neutral/n15je.avi\n",
            "/content/drive/MyDrive/SAVEEvideowithlabel/fearful/f2je.avi\n",
            "/content/drive/MyDrive/SAVEEvideowithlabel/happy/h2dc.avi\n",
            "/content/drive/MyDrive/SAVEEvideowithlabel/happy/h12dc.avi\n",
            "/content/drive/MyDrive/SAVEEvideowithlabel/neutral/n15jk.avi\n",
            "/content/drive/MyDrive/SAVEEvideowithlabel/fearful/f11dc.avi\n",
            "/content/drive/MyDrive/SAVEEvideowithlabel/neutral/n7je.avi\n",
            "/content/drive/MyDrive/SAVEEvideowithlabel/fearful/f1je.avi\n",
            "/content/drive/MyDrive/SAVEEvideowithlabel/fearful/f3dc.avi\n",
            "/content/drive/MyDrive/SAVEEvideowithlabel/sad/sa6dc.avi\n",
            "/content/drive/MyDrive/SAVEEvideowithlabel/fearful/f1jk.avi\n",
            "/content/drive/MyDrive/SAVEEvideowithlabel/sad/sa4jk.avi\n",
            "/content/drive/MyDrive/SAVEEvideowithlabel/neutral/n18dc.avi\n",
            "/content/drive/MyDrive/SAVEEvideowithlabel/neutral/n19je.avi\n",
            "/content/drive/MyDrive/SAVEEvideowithlabel/neutral/n2dc.avi\n",
            "/content/drive/MyDrive/SAVEEvideowithlabel/angry/a4dc.avi\n",
            "/content/drive/MyDrive/SAVEEvideowithlabel/neutral/n27kl.avi\n",
            "/content/drive/MyDrive/SAVEEvideowithlabel/sad/sa15kl.avi\n",
            "/content/drive/MyDrive/SAVEEvideowithlabel/sad/sa7kl.avi\n",
            "/content/drive/MyDrive/SAVEEvideowithlabel/sad/sa1je.avi\n",
            "/content/drive/MyDrive/SAVEEvideowithlabel/angry/a5jk.avi\n",
            "/content/drive/MyDrive/SAVEEvideowithlabel/neutral/n8kl.avi\n",
            "/content/drive/MyDrive/SAVEEvideowithlabel/angry/a9dc.avi\n",
            "/content/drive/MyDrive/SAVEEvideowithlabel/neutral/n19kl.avi\n",
            "/content/drive/MyDrive/SAVEEvideowithlabel/angry/a10kl.avi\n",
            "/content/drive/MyDrive/SAVEEvideowithlabel/fearful/f14dc.avi\n",
            "/content/drive/MyDrive/SAVEEvideowithlabel/happy/h11kl.avi\n",
            "/content/drive/MyDrive/SAVEEvideowithlabel/sad/sa4dc.avi\n",
            "/content/drive/MyDrive/SAVEEvideowithlabel/angry/a5je.avi\n",
            "/content/drive/MyDrive/SAVEEvideowithlabel/happy/h10jk.avi\n",
            "/content/drive/MyDrive/SAVEEvideowithlabel/happy/h5jk.avi\n",
            "/content/drive/MyDrive/SAVEEvideowithlabel/neutral/n14jk.avi\n",
            "/content/drive/MyDrive/SAVEEvideowithlabel/fearful/f11kl.avi\n",
            "/content/drive/MyDrive/SAVEEvideowithlabel/angry/a10dc.avi\n",
            "/content/drive/MyDrive/SAVEEvideowithlabel/neutral/n18jk.avi\n",
            "/content/drive/MyDrive/SAVEEvideowithlabel/neutral/n21kl.avi\n",
            "/content/drive/MyDrive/SAVEEvideowithlabel/happy/h4jk.avi\n",
            "/content/drive/MyDrive/SAVEEvideowithlabel/angry/a2jk.avi\n",
            "/content/drive/MyDrive/SAVEEvideowithlabel/fearful/f8jk.avi\n",
            "/content/drive/MyDrive/SAVEEvideowithlabel/sad/sa8kl.avi\n",
            "/content/drive/MyDrive/SAVEEvideowithlabel/sad/sa5kl.avi\n",
            "/content/drive/MyDrive/SAVEEvideowithlabel/sad/sa8je.avi\n",
            "/content/drive/MyDrive/SAVEEvideowithlabel/fearful/f9kl.avi\n",
            "/content/drive/MyDrive/SAVEEvideowithlabel/sad/sa3je.avi\n",
            "/content/drive/MyDrive/SAVEEvideowithlabel/neutral/n29dc.avi\n",
            "/content/drive/MyDrive/SAVEEvideowithlabel/neutral/n24je.avi\n",
            "/content/drive/MyDrive/SAVEEvideowithlabel/happy/h4je.avi\n",
            "/content/drive/MyDrive/SAVEEvideowithlabel/neutral/n9dc.avi\n",
            "/content/drive/MyDrive/SAVEEvideowithlabel/sad/sa9je.avi\n",
            "/content/drive/MyDrive/SAVEEvideowithlabel/neutral/n20dc.avi\n",
            "/content/drive/MyDrive/SAVEEvideowithlabel/neutral/n21je.avi\n",
            "/content/drive/MyDrive/SAVEEvideowithlabel/neutral/n25kl.avi\n",
            "/content/drive/MyDrive/SAVEEvideowithlabel/neutral/n27dc.avi\n",
            "/content/drive/MyDrive/SAVEEvideowithlabel/fearful/f4je.avi\n",
            "/content/drive/MyDrive/SAVEEvideowithlabel/fearful/f14jk.avi\n",
            "/content/drive/MyDrive/SAVEEvideowithlabel/angry/a2kl.avi\n",
            "/content/drive/MyDrive/SAVEEvideowithlabel/neutral/n16je.avi\n",
            "/content/drive/MyDrive/SAVEEvideowithlabel/angry/a8kl.avi\n",
            "/content/drive/MyDrive/SAVEEvideowithlabel/happy/h14dc.avi\n",
            "/content/drive/MyDrive/SAVEEvideowithlabel/sad/sa5dc.avi\n",
            "/content/drive/MyDrive/SAVEEvideowithlabel/sad/sa7je.avi\n",
            "/content/drive/MyDrive/SAVEEvideowithlabel/sad/sa12je.avi\n",
            "/content/drive/MyDrive/SAVEEvideowithlabel/angry/a10jk.avi\n",
            "/content/drive/MyDrive/SAVEEvideowithlabel/sad/sa1kl.avi\n",
            "/content/drive/MyDrive/SAVEEvideowithlabel/neutral/n14dc.avi\n",
            "/content/drive/MyDrive/SAVEEvideowithlabel/neutral/n8jk.avi\n",
            "/content/drive/MyDrive/SAVEEvideowithlabel/neutral/n15kl.avi\n",
            "/content/drive/MyDrive/SAVEEvideowithlabel/happy/h6dc.avi\n",
            "/content/drive/MyDrive/SAVEEvideowithlabel/sad/sa7jk.avi\n",
            "/content/drive/MyDrive/SAVEEvideowithlabel/neutral/n26dc.avi\n",
            "/content/drive/MyDrive/SAVEEvideowithlabel/neutral/n28kl.avi\n",
            "/content/drive/MyDrive/SAVEEvideowithlabel/fearful/f7je.avi\n",
            "/content/drive/MyDrive/SAVEEvideowithlabel/fearful/f12jk.avi\n",
            "/content/drive/MyDrive/SAVEEvideowithlabel/angry/a6kl.avi\n",
            "/content/drive/MyDrive/SAVEEvideowithlabel/neutral/n4kl.avi\n",
            "/content/drive/MyDrive/SAVEEvideowithlabel/fearful/f7jk.avi\n",
            "/content/drive/MyDrive/SAVEEvideowithlabel/neutral/n10dc.avi\n",
            "/content/drive/MyDrive/SAVEEvideowithlabel/neutral/n10kl.avi\n",
            "/content/drive/MyDrive/SAVEEvideowithlabel/neutral/n13kl.avi\n",
            "/content/drive/MyDrive/SAVEEvideowithlabel/sad/sa9kl.avi\n",
            "/content/drive/MyDrive/SAVEEvideowithlabel/neutral/n14je.avi\n",
            "/content/drive/MyDrive/SAVEEvideowithlabel/neutral/n11je.avi\n",
            "/content/drive/MyDrive/SAVEEvideowithlabel/angry/a14jk.avi\n",
            "/content/drive/MyDrive/SAVEEvideowithlabel/fearful/f6jk.avi\n",
            "/content/drive/MyDrive/SAVEEvideowithlabel/neutral/n26je.avi\n",
            "/content/drive/MyDrive/SAVEEvideowithlabel/happy/h11jk.avi\n",
            "/content/drive/MyDrive/SAVEEvideowithlabel/fearful/f4dc.avi\n",
            "/content/drive/MyDrive/SAVEEvideowithlabel/fearful/f13jk.avi\n",
            "/content/drive/MyDrive/SAVEEvideowithlabel/neutral/n4jk.avi\n",
            "/content/drive/MyDrive/SAVEEvideowithlabel/angry/a15je.avi\n",
            "/content/drive/MyDrive/SAVEEvideowithlabel/angry/a8jk.avi\n",
            "/content/drive/MyDrive/SAVEEvideowithlabel/neutral/n17je.avi\n",
            "/content/drive/MyDrive/SAVEEvideowithlabel/sad/sa11je.avi\n",
            "/content/drive/MyDrive/SAVEEvideowithlabel/neutral/n23jk.avi\n",
            "/content/drive/MyDrive/SAVEEvideowithlabel/happy/h1je.avi\n",
            "/content/drive/MyDrive/SAVEEvideowithlabel/sad/sa14kl.avi\n",
            "/content/drive/MyDrive/SAVEEvideowithlabel/neutral/n22kl.avi\n",
            "/content/drive/MyDrive/SAVEEvideowithlabel/happy/h1kl.avi\n",
            "/content/drive/MyDrive/SAVEEvideowithlabel/happy/h9dc.avi\n",
            "/content/drive/MyDrive/SAVEEvideowithlabel/neutral/n1kl.avi\n",
            "/content/drive/MyDrive/SAVEEvideowithlabel/neutral/n11jk.avi\n",
            "/content/drive/MyDrive/SAVEEvideowithlabel/neutral/n5jk.avi\n",
            "/content/drive/MyDrive/SAVEEvideowithlabel/sad/sa5je.avi\n",
            "/content/drive/MyDrive/SAVEEvideowithlabel/angry/a6jk.avi\n",
            "/content/drive/MyDrive/SAVEEvideowithlabel/happy/h3je.avi\n",
            "/content/drive/MyDrive/SAVEEvideowithlabel/happy/h13kl.avi\n",
            "/content/drive/MyDrive/SAVEEvideowithlabel/fearful/f1dc.avi\n",
            "/content/drive/MyDrive/SAVEEvideowithlabel/angry/a15kl.avi\n",
            "/content/drive/MyDrive/SAVEEvideowithlabel/angry/a4je.avi\n",
            "/content/drive/MyDrive/SAVEEvideowithlabel/happy/h3kl.avi\n",
            "/content/drive/MyDrive/SAVEEvideowithlabel/neutral/n10jk.avi\n",
            "/content/drive/MyDrive/SAVEEvideowithlabel/angry/a10je.avi\n",
            "/content/drive/MyDrive/SAVEEvideowithlabel/neutral/n20je.avi\n",
            "/content/drive/MyDrive/SAVEEvideowithlabel/neutral/n7jk.avi\n",
            "/content/drive/MyDrive/SAVEEvideowithlabel/happy/h15jk.avi\n",
            "/content/drive/MyDrive/SAVEEvideowithlabel/angry/a9jk.avi\n",
            "/content/drive/MyDrive/SAVEEvideowithlabel/neutral/n12jk.avi\n",
            "/content/drive/MyDrive/SAVEEvideowithlabel/happy/h11je.avi\n",
            "/content/drive/MyDrive/SAVEEvideowithlabel/angry/a3dc.avi\n",
            "/content/drive/MyDrive/SAVEEvideowithlabel/angry/a13kl.avi\n",
            "/content/drive/MyDrive/SAVEEvideowithlabel/sad/sa11dc.avi\n",
            "/content/drive/MyDrive/SAVEEvideowithlabel/happy/h4kl.avi\n",
            "/content/drive/MyDrive/SAVEEvideowithlabel/sad/sa10kl.avi\n",
            "/content/drive/MyDrive/SAVEEvideowithlabel/happy/h6je.avi\n",
            "/content/drive/MyDrive/SAVEEvideowithlabel/angry/a14dc.avi\n",
            "/content/drive/MyDrive/SAVEEvideowithlabel/angry/a3je.avi\n",
            "/content/drive/MyDrive/SAVEEvideowithlabel/fearful/f3kl.avi\n",
            "/content/drive/MyDrive/SAVEEvideowithlabel/neutral/n27jk.avi\n",
            "/content/drive/MyDrive/SAVEEvideowithlabel/fearful/f6kl.avi\n",
            "/content/drive/MyDrive/SAVEEvideowithlabel/neutral/n28je.avi\n",
            "/content/drive/MyDrive/SAVEEvideowithlabel/fearful/f9jk.avi\n",
            "/content/drive/MyDrive/SAVEEvideowithlabel/angry/a1kl.avi\n",
            "/content/drive/MyDrive/SAVEEvideowithlabel/angry/a11jk.avi\n",
            "/content/drive/MyDrive/SAVEEvideowithlabel/happy/h12je.avi\n",
            "/content/drive/MyDrive/SAVEEvideowithlabel/happy/h10je.avi\n",
            "/content/drive/MyDrive/SAVEEvideowithlabel/sad/sa10jk.avi\n",
            "/content/drive/MyDrive/SAVEEvideowithlabel/neutral/n22je.avi\n",
            "/content/drive/MyDrive/SAVEEvideowithlabel/fearful/f11je.avi\n",
            "/content/drive/MyDrive/SAVEEvideowithlabel/fearful/f5kl.avi\n",
            "/content/drive/MyDrive/SAVEEvideowithlabel/neutral/n5je.avi\n",
            "/content/drive/MyDrive/SAVEEvideowithlabel/angry/a14je.avi\n",
            "/content/drive/MyDrive/SAVEEvideowithlabel/sad/sa2kl.avi\n",
            "/content/drive/MyDrive/SAVEEvideowithlabel/neutral/n5kl.avi\n",
            "/content/drive/MyDrive/SAVEEvideowithlabel/fearful/f1kl.avi\n",
            "/content/drive/MyDrive/SAVEEvideowithlabel/angry/a13je.avi\n",
            "/content/drive/MyDrive/SAVEEvideowithlabel/happy/h8dc.avi\n",
            "/content/drive/MyDrive/SAVEEvideowithlabel/neutral/n8je.avi\n",
            "/content/drive/MyDrive/SAVEEvideowithlabel/fearful/f3je.avi\n",
            "/content/drive/MyDrive/SAVEEvideowithlabel/sad/sa13dc.avi\n",
            "/content/drive/MyDrive/SAVEEvideowithlabel/fearful/f12je.avi\n",
            "/content/drive/MyDrive/SAVEEvideowithlabel/sad/sa13kl.avi\n",
            "/content/drive/MyDrive/SAVEEvideowithlabel/neutral/n18je.avi\n",
            "/content/drive/MyDrive/SAVEEvideowithlabel/sad/sa12dc.avi\n",
            "/content/drive/MyDrive/SAVEEvideowithlabel/fearful/f14je.avi\n",
            "/content/drive/MyDrive/SAVEEvideowithlabel/neutral/n5dc.avi\n",
            "/content/drive/MyDrive/SAVEEvideowithlabel/neutral/n6dc.avi\n",
            "/content/drive/MyDrive/SAVEEvideowithlabel/neutral/n30dc.avi\n",
            "/content/drive/MyDrive/SAVEEvideowithlabel/neutral/n4je.avi\n",
            "/content/drive/MyDrive/SAVEEvideowithlabel/angry/a2je.avi\n",
            "/content/drive/MyDrive/SAVEEvideowithlabel/fearful/f8kl.avi\n",
            "/content/drive/MyDrive/SAVEEvideowithlabel/sad/sa6je.avi\n",
            "/content/drive/MyDrive/SAVEEvideowithlabel/angry/a14kl.avi\n",
            "/content/drive/MyDrive/SAVEEvideowithlabel/sad/sa15dc.avi\n",
            "/content/drive/MyDrive/SAVEEvideowithlabel/neutral/n30jk.avi\n",
            "/content/drive/MyDrive/SAVEEvideowithlabel/angry/a12jk.avi\n",
            "/content/drive/MyDrive/SAVEEvideowithlabel/fearful/f5jk.avi\n",
            "/content/drive/MyDrive/SAVEEvideowithlabel/neutral/n11dc.avi\n",
            "/content/drive/MyDrive/SAVEEvideowithlabel/neutral/n9kl.avi\n",
            "/content/drive/MyDrive/SAVEEvideowithlabel/happy/h3dc.avi\n",
            "/content/drive/MyDrive/SAVEEvideowithlabel/sad/sa2jk.avi\n",
            "/content/drive/MyDrive/SAVEEvideowithlabel/neutral/n20jk.avi\n",
            "/content/drive/MyDrive/SAVEEvideowithlabel/happy/h13jk.avi\n",
            "/content/drive/MyDrive/SAVEEvideowithlabel/neutral/n23kl.avi\n",
            "/content/drive/MyDrive/SAVEEvideowithlabel/neutral/n24jk.avi\n",
            "/content/drive/MyDrive/SAVEEvideowithlabel/sad/sa6kl.avi\n",
            "/content/drive/MyDrive/SAVEEvideowithlabel/sad/sa9dc.avi\n",
            "/content/drive/MyDrive/SAVEEvideowithlabel/angry/a3jk.avi\n",
            "/content/drive/MyDrive/SAVEEvideowithlabel/neutral/n30kl.avi\n",
            "/content/drive/MyDrive/SAVEEvideowithlabel/neutral/n19jk.avi\n",
            "/content/drive/MyDrive/SAVEEvideowithlabel/neutral/n8dc.avi\n",
            "/content/drive/MyDrive/SAVEEvideowithlabel/fearful/f8je.avi\n",
            "/content/drive/MyDrive/SAVEEvideowithlabel/sad/sa4je.avi\n",
            "/content/drive/MyDrive/SAVEEvideowithlabel/neutral/n9je.avi\n",
            "/content/drive/MyDrive/SAVEEvideowithlabel/sad/sa15jk.avi\n",
            "/content/drive/MyDrive/SAVEEvideowithlabel/neutral/n4dc.avi\n",
            "/content/drive/MyDrive/SAVEEvideowithlabel/neutral/n12je.avi\n",
            "/content/drive/MyDrive/SAVEEvideowithlabel/neutral/n1jk.avi\n",
            "/content/drive/MyDrive/SAVEEvideowithlabel/happy/h1jk.avi\n",
            "/content/drive/MyDrive/SAVEEvideowithlabel/neutral/n29kl.avi\n",
            "/content/drive/MyDrive/SAVEEvideowithlabel/neutral/n29jk.avi\n",
            "/content/drive/MyDrive/SAVEEvideowithlabel/fearful/f11jk.avi\n",
            "/content/drive/MyDrive/SAVEEvideowithlabel/sad/sa4kl.avi\n",
            "/content/drive/MyDrive/SAVEEvideowithlabel/sad/sa1dc.avi\n",
            "/content/drive/MyDrive/SAVEEvideowithlabel/angry/a8je.avi\n",
            "/content/drive/MyDrive/SAVEEvideowithlabel/happy/h12jk.avi\n",
            "/content/drive/MyDrive/SAVEEvideowithlabel/fearful/f15jk.avi\n",
            "/content/drive/MyDrive/SAVEEvideowithlabel/neutral/n13je.avi\n",
            "/content/drive/MyDrive/SAVEEvideowithlabel/fearful/f15je.avi\n",
            "/content/drive/MyDrive/SAVEEvideowithlabel/angry/a4kl.avi\n",
            "/content/drive/MyDrive/SAVEEvideowithlabel/angry/a11dc.avi\n",
            "/content/drive/MyDrive/SAVEEvideowithlabel/neutral/n18kl.avi\n",
            "/content/drive/MyDrive/SAVEEvideowithlabel/neutral/n10je.avi\n",
            "/content/drive/MyDrive/SAVEEvideowithlabel/fearful/f2jk.avi\n",
            "/content/drive/MyDrive/SAVEEvideowithlabel/fearful/f2dc.avi\n",
            "/content/drive/MyDrive/SAVEEvideowithlabel/fearful/f7dc.avi\n",
            "/content/drive/MyDrive/SAVEEvideowithlabel/neutral/n3jk.avi\n",
            "/content/drive/MyDrive/SAVEEvideowithlabel/sad/sa8dc.avi\n",
            "/content/drive/MyDrive/SAVEEvideowithlabel/sad/sa13je.avi\n",
            "/content/drive/MyDrive/SAVEEvideowithlabel/neutral/n25dc.avi\n",
            "/content/drive/MyDrive/SAVEEvideowithlabel/happy/h6jk.avi\n",
            "/content/drive/MyDrive/SAVEEvideowithlabel/happy/h9jk.avi\n",
            "/content/drive/MyDrive/SAVEEvideowithlabel/fearful/f6dc.avi\n",
            "/content/drive/MyDrive/SAVEEvideowithlabel/happy/h15kl.avi\n",
            "/content/drive/MyDrive/SAVEEvideowithlabel/neutral/n1je.avi\n",
            "/content/drive/MyDrive/SAVEEvideowithlabel/angry/a2dc.avi\n",
            "/content/drive/MyDrive/SAVEEvideowithlabel/neutral/n14kl.avi\n",
            "/content/drive/MyDrive/SAVEEvideowithlabel/angry/a3kl.avi\n",
            "/content/drive/MyDrive/SAVEEvideowithlabel/happy/h15dc.avi\n",
            "/content/drive/MyDrive/SAVEEvideowithlabel/fearful/f15dc.avi\n",
            "/content/drive/MyDrive/SAVEEvideowithlabel/neutral/n7kl.avi\n",
            "/content/drive/MyDrive/SAVEEvideowithlabel/neutral/n1dc.avi\n",
            "/content/drive/MyDrive/SAVEEvideowithlabel/angry/a7jk.avi\n",
            "/content/drive/MyDrive/SAVEEvideowithlabel/neutral/n26kl.avi\n",
            "/content/drive/MyDrive/SAVEEvideowithlabel/sad/sa3dc.avi\n",
            "/content/drive/MyDrive/SAVEEvideowithlabel/neutral/n16jk.avi\n",
            "/content/drive/MyDrive/SAVEEvideowithlabel/sad/sa5jk.avi\n",
            "/content/drive/MyDrive/SAVEEvideowithlabel/fearful/f8dc.avi\n",
            "/content/drive/MyDrive/SAVEEvideowithlabel/fearful/f4kl.avi\n",
            "/content/drive/MyDrive/SAVEEvideowithlabel/angry/a5dc.avi\n",
            "/content/drive/MyDrive/SAVEEvideowithlabel/neutral/n22dc.avi\n",
            "/content/drive/MyDrive/SAVEEvideowithlabel/angry/a7kl.avi\n",
            "/content/drive/MyDrive/SAVEEvideowithlabel/fearful/f15kl.avi\n",
            "/content/drive/MyDrive/SAVEEvideowithlabel/sad/sa3jk.avi\n",
            "/content/drive/MyDrive/SAVEEvideowithlabel/happy/h5je.avi\n",
            "/content/drive/MyDrive/SAVEEvideowithlabel/happy/h7je.avi\n",
            "/content/drive/MyDrive/SAVEEvideowithlabel/neutral/n9jk.avi\n",
            "/content/drive/MyDrive/SAVEEvideowithlabel/angry/a1jk.avi\n",
            "/content/drive/MyDrive/SAVEEvideowithlabel/happy/h3jk.avi\n"
          ]
        }
      ]
    },
    {
      "cell_type": "code",
      "source": [
        "labels_train = np.array(labels_train)\n",
        "labels_test = np.array(labels_test)\n",
        "labels_valid = np.array(labels_valid)"
      ],
      "metadata": {
        "id": "YSRZYFTZckym"
      },
      "execution_count": 10,
      "outputs": []
    },
    {
      "cell_type": "code",
      "source": [
        "features_train.shape,features_test.shape,features_valid.shape"
      ],
      "metadata": {
        "colab": {
          "base_uri": "https://localhost:8080/"
        },
        "id": "MU9jM0FlE-aH",
        "outputId": "116f28a5-8d82-47ae-e759-17e766c5c65c"
      },
      "execution_count": 11,
      "outputs": [
        {
          "output_type": "execute_result",
          "data": {
            "text/plain": [
              "((288, 30, 64, 64, 3), (36, 30, 64, 64, 3), (36, 30, 64, 64, 3))"
            ]
          },
          "metadata": {},
          "execution_count": 11
        }
      ]
    },
    {
      "cell_type": "code",
      "source": [
        "labels_train.shape,labels_test.shape,labels_valid.shape"
      ],
      "metadata": {
        "colab": {
          "base_uri": "https://localhost:8080/"
        },
        "id": "kr5PJu0KdER-",
        "outputId": "5999b7e4-474b-4d29-e095-3a13e1d21901"
      },
      "execution_count": 12,
      "outputs": [
        {
          "output_type": "execute_result",
          "data": {
            "text/plain": [
              "((288,), (36,), (36,))"
            ]
          },
          "metadata": {},
          "execution_count": 12
        }
      ]
    },
    {
      "cell_type": "code",
      "source": [
        "labels_train = to_categorical(labels_train)\n",
        "labels_test = to_categorical(labels_test)\n",
        "labels_valid = to_categorical(labels_valid)"
      ],
      "metadata": {
        "id": "t6-P1EP9sDPD"
      },
      "execution_count": 13,
      "outputs": []
    },
    {
      "cell_type": "code",
      "source": [
        "labels_train.shape,labels_test.shape,labels_valid.shape"
      ],
      "metadata": {
        "colab": {
          "base_uri": "https://localhost:8080/"
        },
        "id": "8j-GrkZ2sVjU",
        "outputId": "50c70e96-74c7-4d32-c20f-5b4a0c59c3db"
      },
      "execution_count": 14,
      "outputs": [
        {
          "output_type": "execute_result",
          "data": {
            "text/plain": [
              "((288, 5), (36, 5), (36, 5))"
            ]
          },
          "metadata": {},
          "execution_count": 14
        }
      ]
    },
    {
      "cell_type": "code",
      "source": [
        "def create_LRCN_model():\n",
        "    '''\n",
        "    This function will construct the required LRCN model.\n",
        "    Returns:\n",
        "        model: It is the required constructed LRCN model.\n",
        "    '''\n",
        "\n",
        "    # We will use a Sequential model for model construction.\n",
        "    model = Sequential()\n",
        "   \n",
        "    # Define the Model Architecture.\n",
        "    ########################################################################################################################\n",
        "    \n",
        "    model.add(TimeDistributed(Conv2D(16, (5, 5), padding='same'),\n",
        "                              input_shape = (SEQUENCE_LENGTH, IMAGE_HEIGHT, IMAGE_WIDTH, 3)))\n",
        "    model.add(TimeDistributed(BatchNormalization()))\n",
        "    model.add(TimeDistributed(Activation('relu')))\n",
        "    model.add(TimeDistributed(MaxPooling2D((4, 4)))) \n",
        "    model.add(TimeDistributed(Dropout(0.1)))\n",
        "    \n",
        "    model.add(TimeDistributed(Conv2D(32, (5, 5), padding='same')))\n",
        "    model.add(TimeDistributed(BatchNormalization()))\n",
        "    model.add(TimeDistributed(Activation('relu')))\n",
        "    model.add(TimeDistributed(MaxPooling2D((4, 4))))\n",
        "    model.add(TimeDistributed(Dropout(0.2)))\n",
        "    \n",
        "    model.add(TimeDistributed(Conv2D(64, (5, 5), padding='same')))\n",
        "    model.add(TimeDistributed(BatchNormalization()))\n",
        "    model.add(TimeDistributed(Activation('relu')))\n",
        "    model.add(TimeDistributed(MaxPooling2D((2, 2))))\n",
        "    model.add(TimeDistributed(Dropout(0.3)))\n",
        "    \n",
        "    model.add(TimeDistributed(Conv2D(64, (5, 5), padding='same')))\n",
        "    model.add(TimeDistributed(BatchNormalization()))\n",
        "    model.add(TimeDistributed(Activation('relu')))\n",
        "    model.add(TimeDistributed(MaxPooling2D((2, 2))))\n",
        "    #model.add(TimeDistributed(Dropout(0.25)))\n",
        "                                      \n",
        "    model.add(TimeDistributed(Flatten()))\n",
        "                                      \n",
        "    model.add(LSTM(64))\n",
        "                                      \n",
        "    model.add(Dense(len(CLASSES_LIST), activation = 'softmax'))\n",
        "\n",
        "    ########################################################################################################################\n",
        "\n",
        "    # Display the models summary.\n",
        "    model.summary()\n",
        "    \n",
        "    # Return the constructed LRCN model.\n",
        "    return model\n"
      ],
      "metadata": {
        "id": "4WmDntbuFEzc"
      },
      "execution_count": 15,
      "outputs": []
    },
    {
      "cell_type": "code",
      "source": [
        "# Construct the required LRCN model.\n",
        "LRCN_model = create_LRCN_model()\n",
        "\n",
        "# Display the success message.\n",
        "print(\"Model Created Successfully!\")\n"
      ],
      "metadata": {
        "colab": {
          "base_uri": "https://localhost:8080/"
        },
        "id": "2Mjr6pjzFOkd",
        "outputId": "2d3aa678-6de1-406c-9e0d-a1eefe24b06e"
      },
      "execution_count": 16,
      "outputs": [
        {
          "output_type": "stream",
          "name": "stdout",
          "text": [
            "Model: \"sequential\"\n",
            "_________________________________________________________________\n",
            " Layer (type)                Output Shape              Param #   \n",
            "=================================================================\n",
            " time_distributed (TimeDistr  (None, 30, 64, 64, 16)   1216      \n",
            " ibuted)                                                         \n",
            "                                                                 \n",
            " time_distributed_1 (TimeDis  (None, 30, 64, 64, 16)   64        \n",
            " tributed)                                                       \n",
            "                                                                 \n",
            " time_distributed_2 (TimeDis  (None, 30, 64, 64, 16)   0         \n",
            " tributed)                                                       \n",
            "                                                                 \n",
            " time_distributed_3 (TimeDis  (None, 30, 16, 16, 16)   0         \n",
            " tributed)                                                       \n",
            "                                                                 \n",
            " time_distributed_4 (TimeDis  (None, 30, 16, 16, 16)   0         \n",
            " tributed)                                                       \n",
            "                                                                 \n",
            " time_distributed_5 (TimeDis  (None, 30, 16, 16, 32)   12832     \n",
            " tributed)                                                       \n",
            "                                                                 \n",
            " time_distributed_6 (TimeDis  (None, 30, 16, 16, 32)   128       \n",
            " tributed)                                                       \n",
            "                                                                 \n",
            " time_distributed_7 (TimeDis  (None, 30, 16, 16, 32)   0         \n",
            " tributed)                                                       \n",
            "                                                                 \n",
            " time_distributed_8 (TimeDis  (None, 30, 4, 4, 32)     0         \n",
            " tributed)                                                       \n",
            "                                                                 \n",
            " time_distributed_9 (TimeDis  (None, 30, 4, 4, 32)     0         \n",
            " tributed)                                                       \n",
            "                                                                 \n",
            " time_distributed_10 (TimeDi  (None, 30, 4, 4, 64)     51264     \n",
            " stributed)                                                      \n",
            "                                                                 \n",
            " time_distributed_11 (TimeDi  (None, 30, 4, 4, 64)     256       \n",
            " stributed)                                                      \n",
            "                                                                 \n",
            " time_distributed_12 (TimeDi  (None, 30, 4, 4, 64)     0         \n",
            " stributed)                                                      \n",
            "                                                                 \n",
            " time_distributed_13 (TimeDi  (None, 30, 2, 2, 64)     0         \n",
            " stributed)                                                      \n",
            "                                                                 \n",
            " time_distributed_14 (TimeDi  (None, 30, 2, 2, 64)     0         \n",
            " stributed)                                                      \n",
            "                                                                 \n",
            " time_distributed_15 (TimeDi  (None, 30, 2, 2, 64)     102464    \n",
            " stributed)                                                      \n",
            "                                                                 \n",
            " time_distributed_16 (TimeDi  (None, 30, 2, 2, 64)     256       \n",
            " stributed)                                                      \n",
            "                                                                 \n",
            " time_distributed_17 (TimeDi  (None, 30, 2, 2, 64)     0         \n",
            " stributed)                                                      \n",
            "                                                                 \n",
            " time_distributed_18 (TimeDi  (None, 30, 1, 1, 64)     0         \n",
            " stributed)                                                      \n",
            "                                                                 \n",
            " time_distributed_19 (TimeDi  (None, 30, 64)           0         \n",
            " stributed)                                                      \n",
            "                                                                 \n",
            " lstm (LSTM)                 (None, 64)                33024     \n",
            "                                                                 \n",
            " dense (Dense)               (None, 5)                 325       \n",
            "                                                                 \n",
            "=================================================================\n",
            "Total params: 201,829\n",
            "Trainable params: 201,477\n",
            "Non-trainable params: 352\n",
            "_________________________________________________________________\n",
            "Model Created Successfully!\n"
          ]
        }
      ]
    },
    {
      "cell_type": "code",
      "source": [
        "\n",
        "# Create an Instance of Early Stopping Callback.\n",
        "early_stopping_callback = EarlyStopping(monitor = 'val_loss', patience = 25, mode = 'min', restore_best_weights = True)\n",
        " \n",
        "# Compile the model and specify loss function, optimizer and metrics to the model.\n",
        "LRCN_model.compile(loss = 'categorical_crossentropy', optimizer = 'Adam', metrics = [\"accuracy\"])\n",
        "\n",
        "# Start training the model.\n",
        "LRCN_model_training_history = LRCN_model.fit(x = features_train, y = labels_train, epochs = 100, batch_size = 4 ,\n",
        "                                             shuffle = True, validation_data =(features_valid,labels_valid), callbacks = [early_stopping_callback])"
      ],
      "metadata": {
        "colab": {
          "base_uri": "https://localhost:8080/"
        },
        "id": "dvXcqO0TFRzR",
        "outputId": "b11ae439-7582-47c8-c945-19f2ee8fd782"
      },
      "execution_count": 17,
      "outputs": [
        {
          "output_type": "stream",
          "name": "stdout",
          "text": [
            "Epoch 1/100\n",
            "72/72 [==============================] - 15s 23ms/step - loss: 1.6302 - accuracy: 0.2708 - val_loss: 1.6190 - val_accuracy: 0.2778\n",
            "Epoch 2/100\n",
            "72/72 [==============================] - 1s 13ms/step - loss: 1.5470 - accuracy: 0.3507 - val_loss: 1.6128 - val_accuracy: 0.2778\n",
            "Epoch 3/100\n",
            "72/72 [==============================] - 1s 13ms/step - loss: 1.5057 - accuracy: 0.3368 - val_loss: 1.5859 - val_accuracy: 0.2778\n",
            "Epoch 4/100\n",
            "72/72 [==============================] - 1s 13ms/step - loss: 1.4127 - accuracy: 0.4201 - val_loss: 1.7890 - val_accuracy: 0.2778\n",
            "Epoch 5/100\n",
            "72/72 [==============================] - 1s 13ms/step - loss: 1.4443 - accuracy: 0.3993 - val_loss: 1.8651 - val_accuracy: 0.2778\n",
            "Epoch 6/100\n",
            "72/72 [==============================] - 1s 13ms/step - loss: 1.2522 - accuracy: 0.4653 - val_loss: 2.4068 - val_accuracy: 0.2778\n",
            "Epoch 7/100\n",
            "72/72 [==============================] - 1s 13ms/step - loss: 1.2557 - accuracy: 0.4514 - val_loss: 2.3346 - val_accuracy: 0.2778\n",
            "Epoch 8/100\n",
            "72/72 [==============================] - 1s 13ms/step - loss: 1.1542 - accuracy: 0.4861 - val_loss: 1.0765 - val_accuracy: 0.5556\n",
            "Epoch 9/100\n",
            "72/72 [==============================] - 1s 13ms/step - loss: 1.1184 - accuracy: 0.5000 - val_loss: 1.2395 - val_accuracy: 0.4444\n",
            "Epoch 10/100\n",
            "72/72 [==============================] - 1s 13ms/step - loss: 1.1820 - accuracy: 0.4826 - val_loss: 1.3898 - val_accuracy: 0.3611\n",
            "Epoch 11/100\n",
            "72/72 [==============================] - 1s 13ms/step - loss: 1.0320 - accuracy: 0.5556 - val_loss: 0.9718 - val_accuracy: 0.5833\n",
            "Epoch 12/100\n",
            "72/72 [==============================] - 1s 13ms/step - loss: 0.9833 - accuracy: 0.5868 - val_loss: 0.9574 - val_accuracy: 0.5833\n",
            "Epoch 13/100\n",
            "72/72 [==============================] - 1s 13ms/step - loss: 0.9761 - accuracy: 0.5660 - val_loss: 0.9146 - val_accuracy: 0.5833\n",
            "Epoch 14/100\n",
            "72/72 [==============================] - 1s 13ms/step - loss: 0.8774 - accuracy: 0.6528 - val_loss: 1.0927 - val_accuracy: 0.5278\n",
            "Epoch 15/100\n",
            "72/72 [==============================] - 1s 13ms/step - loss: 0.7706 - accuracy: 0.6979 - val_loss: 0.9224 - val_accuracy: 0.4722\n",
            "Epoch 16/100\n",
            "72/72 [==============================] - 1s 13ms/step - loss: 0.6916 - accuracy: 0.7326 - val_loss: 0.9516 - val_accuracy: 0.6111\n",
            "Epoch 17/100\n",
            "72/72 [==============================] - 1s 13ms/step - loss: 0.8339 - accuracy: 0.6458 - val_loss: 0.7626 - val_accuracy: 0.7778\n",
            "Epoch 18/100\n",
            "72/72 [==============================] - 1s 13ms/step - loss: 0.6275 - accuracy: 0.7569 - val_loss: 0.3988 - val_accuracy: 0.9167\n",
            "Epoch 19/100\n",
            "72/72 [==============================] - 1s 13ms/step - loss: 0.5012 - accuracy: 0.8160 - val_loss: 0.2884 - val_accuracy: 0.9722\n",
            "Epoch 20/100\n",
            "72/72 [==============================] - 1s 13ms/step - loss: 0.3847 - accuracy: 0.8542 - val_loss: 0.3136 - val_accuracy: 0.8611\n",
            "Epoch 21/100\n",
            "72/72 [==============================] - 1s 13ms/step - loss: 0.4396 - accuracy: 0.8542 - val_loss: 1.0925 - val_accuracy: 0.5833\n",
            "Epoch 22/100\n",
            "72/72 [==============================] - 1s 13ms/step - loss: 0.4579 - accuracy: 0.8056 - val_loss: 0.2845 - val_accuracy: 0.8611\n",
            "Epoch 23/100\n",
            "72/72 [==============================] - 1s 13ms/step - loss: 0.4016 - accuracy: 0.8403 - val_loss: 0.2812 - val_accuracy: 0.9444\n",
            "Epoch 24/100\n",
            "72/72 [==============================] - 1s 13ms/step - loss: 0.3776 - accuracy: 0.8542 - val_loss: 0.4700 - val_accuracy: 0.7500\n",
            "Epoch 25/100\n",
            "72/72 [==============================] - 1s 13ms/step - loss: 0.3732 - accuracy: 0.8507 - val_loss: 0.2500 - val_accuracy: 0.8611\n",
            "Epoch 26/100\n",
            "72/72 [==============================] - 1s 13ms/step - loss: 0.2789 - accuracy: 0.8993 - val_loss: 0.6218 - val_accuracy: 0.7500\n",
            "Epoch 27/100\n",
            "72/72 [==============================] - 1s 13ms/step - loss: 0.2638 - accuracy: 0.8889 - val_loss: 0.2053 - val_accuracy: 0.9444\n",
            "Epoch 28/100\n",
            "72/72 [==============================] - 1s 13ms/step - loss: 0.1703 - accuracy: 0.9410 - val_loss: 0.0593 - val_accuracy: 1.0000\n",
            "Epoch 29/100\n",
            "72/72 [==============================] - 1s 13ms/step - loss: 0.1558 - accuracy: 0.9514 - val_loss: 0.6459 - val_accuracy: 0.8333\n",
            "Epoch 30/100\n",
            "72/72 [==============================] - 1s 13ms/step - loss: 0.3601 - accuracy: 0.8681 - val_loss: 0.6630 - val_accuracy: 0.6944\n",
            "Epoch 31/100\n",
            "72/72 [==============================] - 1s 13ms/step - loss: 0.2252 - accuracy: 0.9201 - val_loss: 0.4142 - val_accuracy: 0.8056\n",
            "Epoch 32/100\n",
            "72/72 [==============================] - 1s 13ms/step - loss: 0.1930 - accuracy: 0.9340 - val_loss: 0.4888 - val_accuracy: 0.7778\n",
            "Epoch 33/100\n",
            "72/72 [==============================] - 1s 13ms/step - loss: 0.1907 - accuracy: 0.9375 - val_loss: 0.0513 - val_accuracy: 1.0000\n",
            "Epoch 34/100\n",
            "72/72 [==============================] - 1s 13ms/step - loss: 0.2447 - accuracy: 0.9167 - val_loss: 0.7742 - val_accuracy: 0.7222\n",
            "Epoch 35/100\n",
            "72/72 [==============================] - 1s 13ms/step - loss: 0.1419 - accuracy: 0.9583 - val_loss: 0.3106 - val_accuracy: 0.8333\n",
            "Epoch 36/100\n",
            "72/72 [==============================] - 1s 13ms/step - loss: 0.1084 - accuracy: 0.9444 - val_loss: 0.0736 - val_accuracy: 0.9722\n",
            "Epoch 37/100\n",
            "72/72 [==============================] - 1s 13ms/step - loss: 0.1972 - accuracy: 0.9236 - val_loss: 0.1940 - val_accuracy: 0.9167\n",
            "Epoch 38/100\n",
            "72/72 [==============================] - 1s 13ms/step - loss: 0.2413 - accuracy: 0.9236 - val_loss: 0.2143 - val_accuracy: 0.8889\n",
            "Epoch 39/100\n",
            "72/72 [==============================] - 1s 13ms/step - loss: 0.1278 - accuracy: 0.9583 - val_loss: 0.3023 - val_accuracy: 0.8056\n",
            "Epoch 40/100\n",
            "72/72 [==============================] - 1s 13ms/step - loss: 0.2306 - accuracy: 0.9271 - val_loss: 1.0206 - val_accuracy: 0.6667\n",
            "Epoch 41/100\n",
            "72/72 [==============================] - 1s 13ms/step - loss: 0.3131 - accuracy: 0.9132 - val_loss: 0.3876 - val_accuracy: 0.8333\n",
            "Epoch 42/100\n",
            "72/72 [==============================] - 1s 13ms/step - loss: 0.1074 - accuracy: 0.9688 - val_loss: 0.7213 - val_accuracy: 0.6944\n",
            "Epoch 43/100\n",
            "72/72 [==============================] - 1s 13ms/step - loss: 0.0691 - accuracy: 0.9826 - val_loss: 0.0358 - val_accuracy: 1.0000\n",
            "Epoch 44/100\n",
            "72/72 [==============================] - 1s 13ms/step - loss: 0.1418 - accuracy: 0.9618 - val_loss: 0.0145 - val_accuracy: 1.0000\n",
            "Epoch 45/100\n",
            "72/72 [==============================] - 1s 13ms/step - loss: 0.0563 - accuracy: 0.9826 - val_loss: 0.8965 - val_accuracy: 0.7222\n",
            "Epoch 46/100\n",
            "72/72 [==============================] - 1s 13ms/step - loss: 0.1325 - accuracy: 0.9688 - val_loss: 0.2318 - val_accuracy: 0.9167\n",
            "Epoch 47/100\n",
            "72/72 [==============================] - 1s 13ms/step - loss: 0.0373 - accuracy: 0.9896 - val_loss: 0.0108 - val_accuracy: 1.0000\n",
            "Epoch 48/100\n",
            "72/72 [==============================] - 1s 13ms/step - loss: 0.0776 - accuracy: 0.9826 - val_loss: 0.1425 - val_accuracy: 0.9722\n",
            "Epoch 49/100\n",
            "72/72 [==============================] - 1s 13ms/step - loss: 0.1156 - accuracy: 0.9653 - val_loss: 0.1488 - val_accuracy: 0.9167\n",
            "Epoch 50/100\n",
            "72/72 [==============================] - 1s 13ms/step - loss: 0.1307 - accuracy: 0.9583 - val_loss: 0.7541 - val_accuracy: 0.7778\n",
            "Epoch 51/100\n",
            "72/72 [==============================] - 1s 13ms/step - loss: 0.2920 - accuracy: 0.8889 - val_loss: 0.0837 - val_accuracy: 1.0000\n",
            "Epoch 52/100\n",
            "72/72 [==============================] - 1s 13ms/step - loss: 0.1147 - accuracy: 0.9618 - val_loss: 0.0402 - val_accuracy: 1.0000\n",
            "Epoch 53/100\n",
            "72/72 [==============================] - 1s 13ms/step - loss: 0.1456 - accuracy: 0.9410 - val_loss: 0.0688 - val_accuracy: 0.9722\n",
            "Epoch 54/100\n",
            "72/72 [==============================] - 1s 13ms/step - loss: 0.0539 - accuracy: 0.9826 - val_loss: 0.0923 - val_accuracy: 0.9444\n",
            "Epoch 55/100\n",
            "72/72 [==============================] - 1s 13ms/step - loss: 0.0294 - accuracy: 0.9896 - val_loss: 0.1832 - val_accuracy: 0.9444\n",
            "Epoch 56/100\n",
            "72/72 [==============================] - 1s 13ms/step - loss: 0.0933 - accuracy: 0.9583 - val_loss: 0.0209 - val_accuracy: 1.0000\n",
            "Epoch 57/100\n",
            "72/72 [==============================] - 1s 13ms/step - loss: 0.0653 - accuracy: 0.9722 - val_loss: 0.1596 - val_accuracy: 0.9444\n",
            "Epoch 58/100\n",
            "72/72 [==============================] - 1s 13ms/step - loss: 0.1406 - accuracy: 0.9549 - val_loss: 0.0711 - val_accuracy: 0.9722\n",
            "Epoch 59/100\n",
            "72/72 [==============================] - 1s 13ms/step - loss: 0.1299 - accuracy: 0.9653 - val_loss: 0.1725 - val_accuracy: 0.9167\n",
            "Epoch 60/100\n",
            "72/72 [==============================] - 1s 13ms/step - loss: 0.0913 - accuracy: 0.9722 - val_loss: 0.0241 - val_accuracy: 1.0000\n",
            "Epoch 61/100\n",
            "72/72 [==============================] - 1s 13ms/step - loss: 0.0321 - accuracy: 0.9965 - val_loss: 0.0082 - val_accuracy: 1.0000\n",
            "Epoch 62/100\n",
            "72/72 [==============================] - 1s 13ms/step - loss: 0.0088 - accuracy: 1.0000 - val_loss: 0.0082 - val_accuracy: 1.0000\n",
            "Epoch 63/100\n",
            "72/72 [==============================] - 1s 13ms/step - loss: 0.0105 - accuracy: 0.9965 - val_loss: 0.0082 - val_accuracy: 1.0000\n",
            "Epoch 64/100\n",
            "72/72 [==============================] - 1s 13ms/step - loss: 0.0537 - accuracy: 0.9861 - val_loss: 0.0818 - val_accuracy: 0.9722\n",
            "Epoch 65/100\n",
            "72/72 [==============================] - 1s 13ms/step - loss: 0.0118 - accuracy: 0.9965 - val_loss: 0.1109 - val_accuracy: 0.9722\n",
            "Epoch 66/100\n",
            "72/72 [==============================] - 1s 14ms/step - loss: 0.0066 - accuracy: 1.0000 - val_loss: 0.0050 - val_accuracy: 1.0000\n",
            "Epoch 67/100\n",
            "72/72 [==============================] - 1s 13ms/step - loss: 0.0832 - accuracy: 0.9722 - val_loss: 1.1284 - val_accuracy: 0.7500\n",
            "Epoch 68/100\n",
            "72/72 [==============================] - 1s 13ms/step - loss: 0.1479 - accuracy: 0.9549 - val_loss: 0.3478 - val_accuracy: 0.9444\n",
            "Epoch 69/100\n",
            "72/72 [==============================] - 1s 13ms/step - loss: 0.0459 - accuracy: 0.9826 - val_loss: 0.0086 - val_accuracy: 1.0000\n",
            "Epoch 70/100\n",
            "72/72 [==============================] - 1s 13ms/step - loss: 0.1421 - accuracy: 0.9549 - val_loss: 1.4080 - val_accuracy: 0.5833\n",
            "Epoch 71/100\n",
            "72/72 [==============================] - 1s 13ms/step - loss: 0.0983 - accuracy: 0.9688 - val_loss: 0.2959 - val_accuracy: 0.8889\n",
            "Epoch 72/100\n",
            "72/72 [==============================] - 1s 13ms/step - loss: 0.0298 - accuracy: 0.9965 - val_loss: 0.0064 - val_accuracy: 1.0000\n",
            "Epoch 73/100\n",
            "72/72 [==============================] - 1s 13ms/step - loss: 0.0192 - accuracy: 0.9965 - val_loss: 0.5003 - val_accuracy: 0.8333\n",
            "Epoch 74/100\n",
            "72/72 [==============================] - 1s 13ms/step - loss: 0.0119 - accuracy: 1.0000 - val_loss: 0.0068 - val_accuracy: 1.0000\n",
            "Epoch 75/100\n",
            "72/72 [==============================] - 1s 13ms/step - loss: 0.0839 - accuracy: 0.9688 - val_loss: 0.1818 - val_accuracy: 0.9167\n",
            "Epoch 76/100\n",
            "72/72 [==============================] - 1s 13ms/step - loss: 0.0244 - accuracy: 0.9931 - val_loss: 0.0679 - val_accuracy: 0.9722\n",
            "Epoch 77/100\n",
            "72/72 [==============================] - 1s 13ms/step - loss: 0.0333 - accuracy: 0.9896 - val_loss: 0.1331 - val_accuracy: 0.9722\n",
            "Epoch 78/100\n",
            "72/72 [==============================] - 1s 14ms/step - loss: 0.0262 - accuracy: 0.9896 - val_loss: 0.0133 - val_accuracy: 1.0000\n",
            "Epoch 79/100\n",
            "72/72 [==============================] - 1s 13ms/step - loss: 0.0087 - accuracy: 1.0000 - val_loss: 0.0117 - val_accuracy: 1.0000\n",
            "Epoch 80/100\n",
            "72/72 [==============================] - 1s 13ms/step - loss: 0.0135 - accuracy: 0.9965 - val_loss: 0.0034 - val_accuracy: 1.0000\n",
            "Epoch 81/100\n",
            "72/72 [==============================] - 1s 13ms/step - loss: 0.0028 - accuracy: 1.0000 - val_loss: 0.0034 - val_accuracy: 1.0000\n",
            "Epoch 82/100\n",
            "72/72 [==============================] - 1s 14ms/step - loss: 0.0118 - accuracy: 0.9931 - val_loss: 0.0030 - val_accuracy: 1.0000\n",
            "Epoch 83/100\n",
            "72/72 [==============================] - 1s 13ms/step - loss: 0.0063 - accuracy: 0.9965 - val_loss: 0.0090 - val_accuracy: 1.0000\n",
            "Epoch 84/100\n",
            "72/72 [==============================] - 1s 13ms/step - loss: 0.0042 - accuracy: 1.0000 - val_loss: 0.0025 - val_accuracy: 1.0000\n",
            "Epoch 85/100\n",
            "72/72 [==============================] - 1s 13ms/step - loss: 0.1084 - accuracy: 0.9618 - val_loss: 0.0071 - val_accuracy: 1.0000\n",
            "Epoch 86/100\n",
            "72/72 [==============================] - 1s 13ms/step - loss: 0.0622 - accuracy: 0.9896 - val_loss: 0.2468 - val_accuracy: 0.9444\n",
            "Epoch 87/100\n",
            "72/72 [==============================] - 1s 14ms/step - loss: 0.0367 - accuracy: 0.9861 - val_loss: 0.2665 - val_accuracy: 0.8889\n",
            "Epoch 88/100\n",
            "72/72 [==============================] - 1s 14ms/step - loss: 0.1224 - accuracy: 0.9653 - val_loss: 0.2950 - val_accuracy: 0.9167\n",
            "Epoch 89/100\n",
            "72/72 [==============================] - 1s 13ms/step - loss: 0.0972 - accuracy: 0.9618 - val_loss: 1.6428 - val_accuracy: 0.6111\n",
            "Epoch 90/100\n",
            "72/72 [==============================] - 1s 13ms/step - loss: 0.1987 - accuracy: 0.9375 - val_loss: 0.3452 - val_accuracy: 0.8611\n",
            "Epoch 91/100\n",
            "72/72 [==============================] - 1s 13ms/step - loss: 0.0672 - accuracy: 0.9722 - val_loss: 0.0291 - val_accuracy: 1.0000\n",
            "Epoch 92/100\n",
            "72/72 [==============================] - 1s 14ms/step - loss: 0.0302 - accuracy: 0.9931 - val_loss: 0.2859 - val_accuracy: 0.9167\n",
            "Epoch 93/100\n",
            "72/72 [==============================] - 1s 13ms/step - loss: 0.1367 - accuracy: 0.9549 - val_loss: 0.0294 - val_accuracy: 1.0000\n",
            "Epoch 94/100\n",
            "72/72 [==============================] - 1s 14ms/step - loss: 0.0501 - accuracy: 0.9861 - val_loss: 0.0058 - val_accuracy: 1.0000\n",
            "Epoch 95/100\n",
            "72/72 [==============================] - 1s 13ms/step - loss: 0.0224 - accuracy: 0.9965 - val_loss: 0.0048 - val_accuracy: 1.0000\n",
            "Epoch 96/100\n",
            "72/72 [==============================] - 1s 13ms/step - loss: 0.0071 - accuracy: 1.0000 - val_loss: 0.0040 - val_accuracy: 1.0000\n",
            "Epoch 97/100\n",
            "72/72 [==============================] - 1s 13ms/step - loss: 0.0065 - accuracy: 1.0000 - val_loss: 0.0034 - val_accuracy: 1.0000\n",
            "Epoch 98/100\n",
            "72/72 [==============================] - 1s 13ms/step - loss: 0.0416 - accuracy: 0.9896 - val_loss: 0.7831 - val_accuracy: 0.8333\n",
            "Epoch 99/100\n",
            "72/72 [==============================] - 1s 14ms/step - loss: 0.0939 - accuracy: 0.9688 - val_loss: 0.1703 - val_accuracy: 0.9444\n",
            "Epoch 100/100\n",
            "72/72 [==============================] - 1s 13ms/step - loss: 0.1209 - accuracy: 0.9514 - val_loss: 0.1137 - val_accuracy: 0.9722\n"
          ]
        }
      ]
    },
    {
      "cell_type": "code",
      "source": [
        "# Evaluate the trained model.\n",
        "model_evaluation_history = LRCN_model.evaluate(features_test, labels_test)"
      ],
      "metadata": {
        "colab": {
          "base_uri": "https://localhost:8080/"
        },
        "id": "vm7uj3_NBZNd",
        "outputId": "f811d94e-1472-43b2-9896-3ee53da67c58"
      },
      "execution_count": 33,
      "outputs": [
        {
          "output_type": "stream",
          "name": "stdout",
          "text": [
            "2/2 [==============================] - 0s 13ms/step - loss: 0.2114 - accuracy: 0.9167\n"
          ]
        }
      ]
    },
    {
      "cell_type": "code",
      "source": [
        "# Evaluate the trained model.\n",
        "model_evaluation_history = LRCN_model.evaluate(features_train, labels_train)"
      ],
      "metadata": {
        "colab": {
          "base_uri": "https://localhost:8080/"
        },
        "id": "edLOJjeiBb1R",
        "outputId": "3eb7a0a1-8180-475b-85bb-a6210ef5cc38"
      },
      "execution_count": 34,
      "outputs": [
        {
          "output_type": "stream",
          "name": "stdout",
          "text": [
            "9/9 [==============================] - 0s 47ms/step - loss: 0.0577 - accuracy: 0.9653\n"
          ]
        }
      ]
    },
    {
      "cell_type": "code",
      "source": [
        "# Get the loss and accuracy from model_evaluation_history.\n",
        "model_evaluation_loss, model_evaluation_accuracy = model_evaluation_history\n",
        "\n",
        "# Define the string date format.\n",
        "# Get the current Date and Time in a DateTime Object.\n",
        "# Convert the DateTime object to string according to the style mentioned in date_time_format string.\n",
        "#date_time_format = '%Y_%m_%d__%H_%M_%S'\n",
        "#current_date_time_dt = dt.datetime.now()\n",
        "#current_date_time_string = dt.datetime.strftime(current_date_time_dt, date_time_format)\n",
        "    \n",
        "# Define a useful name for our model to make it easy for us while navigating through multiple saved models.\n",
        "model_file_name = f'/content/drive/My Drive/fusion/savee/video/model/expert2/best_LRCN_model___Loss_{model_evaluation_loss}___Accuracy_{model_evaluation_accuracy}.h5'\n",
        "\n",
        "# Save the Model.\n",
        "LRCN_model.save(model_file_name)"
      ],
      "metadata": {
        "id": "jbolY9H4Bf6K"
      },
      "execution_count": 35,
      "outputs": []
    },
    {
      "cell_type": "code",
      "source": [
        "from keras.models import save_model\n",
        "\n",
        "# you can write whatever you desire instead of 'my_model'\n",
        "# model = Your trained model\n",
        "LRCN_model.save('/content/drive/My Drive/fusion/savee/video/model/expert2/best_LRCN_model')\n"
      ],
      "metadata": {
        "colab": {
          "base_uri": "https://localhost:8080/"
        },
        "id": "nVvWA9nABhDJ",
        "outputId": "d2f175d1-7883-41be-f49d-b516671b0d7a"
      },
      "execution_count": 36,
      "outputs": [
        {
          "output_type": "stream",
          "name": "stderr",
          "text": [
            "WARNING:absl:Found untraced functions such as lstm_cell_layer_call_fn, lstm_cell_layer_call_and_return_conditional_losses while saving (showing 2 of 2). These functions will not be directly callable after loading.\n"
          ]
        },
        {
          "output_type": "stream",
          "name": "stdout",
          "text": [
            "INFO:tensorflow:Assets written to: /content/drive/My Drive/fusion/savee/video/model/expert2/best_LRCN_model/assets\n"
          ]
        },
        {
          "output_type": "stream",
          "name": "stderr",
          "text": [
            "INFO:tensorflow:Assets written to: /content/drive/My Drive/fusion/savee/video/model/expert2/best_LRCN_model/assets\n",
            "WARNING:absl:<keras.layers.recurrent.LSTMCell object at 0x7f7e1008d490> has the same name 'LSTMCell' as a built-in Keras object. Consider renaming <class 'keras.layers.recurrent.LSTMCell'> to avoid naming conflicts when loading with `tf.keras.models.load_model`. If renaming is not possible, pass the object in the `custom_objects` parameter of the load function.\n"
          ]
        }
      ]
    },
    {
      "cell_type": "code",
      "source": [
        "# serialize model to JSON\n",
        "model_json = LRCN_model.to_json()\n",
        "with open(\"/content/drive/My Drive/fusion/savee/video/model/expert2/best_LRCN_model.json\", \"w\") as json_file:\n",
        "    json_file.write(model_json)"
      ],
      "metadata": {
        "id": "X4lwQaIcBlUB"
      },
      "execution_count": 37,
      "outputs": []
    },
    {
      "cell_type": "code",
      "source": [
        "def plot_metric(model_training_history, metric_name_1, metric_name_2, plot_name):\n",
        "    '''\n",
        "    This function will plot the metrics passed to it in a graph.\n",
        "    Args:\n",
        "        model_training_history: A history object containing a record of training and validation \n",
        "                                loss values and metrics values at successive epochs\n",
        "        metric_name_1:          The name of the first metric that needs to be plotted in the graph.\n",
        "        metric_name_2:          The name of the second metric that needs to be plotted in the graph.\n",
        "        plot_name:              The title of the graph.\n",
        "    '''\n",
        "    \n",
        "    # Get metric values using metric names as identifiers.\n",
        "    metric_value_1 = model_training_history.history[metric_name_1]\n",
        "    metric_value_2 = model_training_history.history[metric_name_2]\n",
        "    \n",
        "    # Construct a range object which will be used as x-axis (horizontal plane) of the graph.\n",
        "    epochs = range(len(metric_value_1))\n",
        "\n",
        "    # Plot the Graph.\n",
        "    plt.plot(epochs, metric_value_1, 'blue', label = metric_name_1)\n",
        "    plt.plot(epochs, metric_value_2, 'red', label = metric_name_2)\n",
        "\n",
        "    # Add title to the plot.\n",
        "    plt.title(str(plot_name))\n",
        "\n",
        "    # Add legend to the plot.\n",
        "    plt.legend()"
      ],
      "metadata": {
        "id": "NOHBaSPJBoHJ"
      },
      "execution_count": 38,
      "outputs": []
    },
    {
      "cell_type": "code",
      "source": [
        "# Visualize the training and validation loss metrices.\n",
        "plot_metric(LRCN_model_training_history, 'loss', 'val_loss', 'Total Loss vs Total Validation Loss')"
      ],
      "metadata": {
        "colab": {
          "base_uri": "https://localhost:8080/",
          "height": 281
        },
        "id": "Wd3LiO_UBsRR",
        "outputId": "39e0ec22-a8d4-4603-8cff-3c1a6f03f495"
      },
      "execution_count": 39,
      "outputs": [
        {
          "output_type": "display_data",
          "data": {
            "text/plain": [
              "<Figure size 432x288 with 1 Axes>"
            ],
            "image/png": "[encoded data removed]"
          },
          "metadata": {
            "needs_background": "light"
          }
        }
      ]
    },
    {
      "cell_type": "code",
      "source": [
        "# Visualize the training and validation accuracy metrices.\n",
        "plot_metric(LRCN_model_training_history, 'accuracy', 'val_accuracy', 'Total Accuracy vs Total Validation Accuracy')"
      ],
      "metadata": {
        "colab": {
          "base_uri": "https://localhost:8080/",
          "height": 281
        },
        "id": "oXaSWJqABvKe",
        "outputId": "2c0f637d-7bd1-4489-8174-ab7a8d464337"
      },
      "execution_count": 40,
      "outputs": [
        {
          "output_type": "display_data",
          "data": {
            "text/plain": [
              "<Figure size 432x288 with 1 Axes>"
            ],
            "image/png": "[encoded data removed]"
          },
          "metadata": {
            "needs_background": "light"
          }
        }
      ]
    },
    {
      "cell_type": "code",
      "source": [
        "predictions =  LRCN_model.predict(features_test)\n",
        "predictions"
      ],
      "metadata": {
        "colab": {
          "base_uri": "https://localhost:8080/"
        },
        "id": "UIQGDtkcGGu0",
        "outputId": "fe42cf13-07fd-4cce-df73-1ffb44a574eb"
      },
      "execution_count": 41,
      "outputs": [
        {
          "output_type": "execute_result",
          "data": {
            "text/plain": [
              "array([[9.9862325e-01, 3.0615622e-06, 1.1706981e-03, 1.9420964e-04,\n",
              "        8.8606221e-06],\n",
              "       [8.6359239e-01, 1.2030807e-04, 1.2616910e-01, 9.5539596e-03,\n",
              "        5.6425482e-04],\n",
              "       [5.6498875e-06, 9.9902558e-01, 1.3765608e-04, 1.3857878e-04,\n",
              "        6.9267361e-04],\n",
              "       [5.3774468e-03, 6.6254805e-05, 9.8589730e-01, 1.6779468e-03,\n",
              "        6.9811116e-03],\n",
              "       [9.9539512e-01, 7.1497161e-06, 3.7706858e-03, 7.8458589e-04,\n",
              "        4.2525873e-05],\n",
              "       [4.0198656e-06, 9.9955839e-01, 2.6271600e-05, 1.3083505e-04,\n",
              "        2.8051547e-04],\n",
              "       [8.4259212e-01, 1.0825413e-04, 1.4915712e-01, 7.3396512e-03,\n",
              "        8.0272171e-04],\n",
              "       [9.9632603e-01, 7.2379285e-06, 2.9220865e-03, 7.0785009e-04,\n",
              "        3.6875455e-05],\n",
              "       [7.5192522e-04, 4.6045760e-05, 9.9559253e-01, 6.4032059e-04,\n",
              "        2.9692587e-03],\n",
              "       [3.6475790e-04, 2.7903568e-05, 9.9691039e-01, 2.4767502e-04,\n",
              "        2.4492636e-03],\n",
              "       [1.8366994e-01, 4.4344971e-04, 5.6649834e-01, 2.4446468e-01,\n",
              "        4.9235220e-03],\n",
              "       [4.4654381e-01, 4.9667392e-04, 3.2015067e-01, 2.2897002e-01,\n",
              "        3.8388569e-03],\n",
              "       [9.9644703e-01, 5.8830437e-06, 2.8842469e-03, 6.3435402e-04,\n",
              "        2.8545714e-05],\n",
              "       [9.9850535e-01, 3.3158994e-06, 1.2729387e-03, 2.0800515e-04,\n",
              "        1.0372128e-05],\n",
              "       [8.7743916e-05, 5.5601017e-04, 1.3339913e-01, 3.3175529e-04,\n",
              "        8.6562532e-01],\n",
              "       [2.8939662e-04, 3.6361284e-04, 8.7807971e-01, 1.2559809e-04,\n",
              "        1.2114175e-01],\n",
              "       [9.9644154e-01, 9.9715389e-06, 2.6648818e-03, 8.2902116e-04,\n",
              "        5.4551612e-05],\n",
              "       [6.3384982e-04, 4.5164128e-05, 9.9625862e-01, 7.2439859e-04,\n",
              "        2.3380138e-03],\n",
              "       [9.9657047e-01, 6.6028870e-06, 2.8870800e-03, 5.0839293e-04,\n",
              "        2.7419566e-05],\n",
              "       [9.9777788e-01, 6.2099625e-06, 1.7590473e-03, 4.2967880e-04,\n",
              "        2.7263814e-05],\n",
              "       [9.9525106e-01, 8.3724208e-06, 3.6983190e-03, 9.9440524e-04,\n",
              "        4.7835576e-05],\n",
              "       [1.1080336e-04, 9.9923003e-01, 1.9597023e-04, 2.3839535e-04,\n",
              "        2.2472470e-04],\n",
              "       [5.4259157e-01, 4.2466601e-04, 3.2171306e-01, 1.3180721e-01,\n",
              "        3.4635530e-03],\n",
              "       [9.9657261e-01, 5.0650347e-06, 3.0317160e-03, 3.6955118e-04,\n",
              "        2.1079730e-05],\n",
              "       [6.8199734e-06, 3.9983238e-04, 1.4525813e-03, 1.1699634e-04,\n",
              "        9.9802375e-01],\n",
              "       [5.2080222e-04, 4.5684956e-05, 9.9615115e-01, 3.2069604e-04,\n",
              "        2.9615795e-03],\n",
              "       [3.1363117e-04, 2.3256898e-05, 9.9629349e-01, 1.0599573e-04,\n",
              "        3.2635769e-03],\n",
              "       [3.2710773e-03, 3.5737621e-04, 5.4612509e-03, 9.8043227e-01,\n",
              "        1.0477969e-02],\n",
              "       [3.4899308e-06, 9.9960083e-01, 2.3440312e-05, 1.5282759e-04,\n",
              "        2.1945595e-04],\n",
              "       [1.1416002e-04, 5.9072691e-04, 1.5487163e-01, 2.9508496e-04,\n",
              "        8.4412843e-01],\n",
              "       [9.9778688e-01, 5.7892789e-06, 1.7874438e-03, 3.9376898e-04,\n",
              "        2.6033986e-05],\n",
              "       [5.2644270e-03, 1.5827536e-04, 9.4667059e-01, 2.1798976e-03,\n",
              "        4.5726925e-02],\n",
              "       [1.2342421e-04, 3.1166902e-04, 1.9269006e-03, 9.9735665e-01,\n",
              "        2.8138160e-04],\n",
              "       [7.2405580e-03, 2.8531358e-04, 8.5430980e-02, 9.0207720e-01,\n",
              "        4.9658911e-03],\n",
              "       [4.7933084e-01, 2.0929474e-04, 4.9721488e-01, 2.1088559e-02,\n",
              "        2.1564078e-03],\n",
              "       [9.9710435e-01, 6.9556695e-06, 2.2596857e-03, 5.9421739e-04,\n",
              "        3.4740395e-05]], dtype=float32)"
            ]
          },
          "metadata": {},
          "execution_count": 41
        }
      ]
    },
    {
      "cell_type": "code",
      "source": [
        "preds=predictions.argmax(axis=1)\n",
        "preds"
      ],
      "metadata": {
        "colab": {
          "base_uri": "https://localhost:8080/"
        },
        "id": "TtHTnWF7B1y0",
        "outputId": "57ff4ffa-e649-4c8b-ce9b-db5f2adc47b9"
      },
      "execution_count": 42,
      "outputs": [
        {
          "output_type": "execute_result",
          "data": {
            "text/plain": [
              "array([0, 0, 1, 2, 0, 1, 0, 0, 2, 2, 2, 0, 0, 0, 4, 2, 0, 2, 0, 0, 0, 1,\n",
              "       0, 0, 4, 2, 2, 3, 1, 4, 0, 2, 3, 3, 2, 0])"
            ]
          },
          "metadata": {},
          "execution_count": 42
        }
      ]
    },
    {
      "cell_type": "code",
      "source": [
        "new_preds = preds.astype(int).flatten()\n",
        "new_preds"
      ],
      "metadata": {
        "id": "DvrDaZw2GPHK",
        "colab": {
          "base_uri": "https://localhost:8080/"
        },
        "outputId": "dd0824be-02c8-47d2-d996-03e479f5b681"
      },
      "execution_count": 43,
      "outputs": [
        {
          "output_type": "execute_result",
          "data": {
            "text/plain": [
              "array([0, 0, 1, 2, 0, 1, 0, 0, 2, 2, 2, 0, 0, 0, 4, 2, 0, 2, 0, 0, 0, 1,\n",
              "       0, 0, 4, 2, 2, 3, 1, 4, 0, 2, 3, 3, 2, 0])"
            ]
          },
          "metadata": {},
          "execution_count": 43
        }
      ]
    },
    {
      "cell_type": "code",
      "source": [
        "from sklearn.metrics import classification_report, confusion_matrix,accuracy_score\n",
        "import seaborn as sn\n",
        "import pandas as pd\n",
        "import numpy as np\n",
        "new_labels=np.argmax(labels_test, axis=1)\n",
        "print(classification_report(new_labels,new_preds))\n",
        "\n",
        "acc = float(accuracy_score(new_labels,new_preds))*100\n",
        "print(\"----accuracy score %s ----\" % acc)\n",
        "\n",
        "cm = confusion_matrix(new_labels,new_preds)\n",
        "#df_cm = pd.DataFrame(cm)\n",
        "class_names = ['neutral', 'happy','sad','angry', 'fearful' ]\n",
        "df_cm = pd.DataFrame(cm, index=class_names, columns=class_names,)\n",
        "sn.heatmap(df_cm, annot=True, fmt='')\n",
        "plt.show()"
      ],
      "metadata": {
        "colab": {
          "base_uri": "https://localhost:8080/",
          "height": 495
        },
        "id": "7p7e1ihVGSke",
        "outputId": "96a217f8-9d9a-4cd0-fd4d-f5487e91d1c0"
      },
      "execution_count": 44,
      "outputs": [
        {
          "output_type": "stream",
          "name": "stdout",
          "text": [
            "              precision    recall  f1-score   support\n",
            "\n",
            "           0       1.00      0.94      0.97        17\n",
            "           1       1.00      1.00      1.00         4\n",
            "           2       0.70      1.00      0.82         7\n",
            "           3       1.00      0.75      0.86         4\n",
            "           4       1.00      0.75      0.86         4\n",
            "\n",
            "    accuracy                           0.92        36\n",
            "   macro avg       0.94      0.89      0.90        36\n",
            "weighted avg       0.94      0.92      0.92        36\n",
            "\n",
            "----accuracy score 91.66666666666666 ----\n"
          ]
        },
        {
          "output_type": "display_data",
          "data": {
            "text/plain": [
              "<Figure size 432x288 with 2 Axes>"
            ],
            "image/png": "[encoded data removed]"
          },
          "metadata": {
            "needs_background": "light"
          }
        }
      ]
    },
    {
      "cell_type": "code",
      "source": [
        "predictions_train=LRCN_model.predict(features_train)\n",
        "predictions_valid=LRCN_model.predict(features_valid)"
      ],
      "metadata": {
        "id": "Mr6xwbi0Az4-"
      },
      "execution_count": 45,
      "outputs": []
    },
    {
      "cell_type": "code",
      "source": [
        "df_video_train=pd.DataFrame(predictions_train,columns=[\"OV_\"+str(i) for i in range(5)]) \n",
        "df_video_test=pd.DataFrame(predictions,columns=[\"OV_\"+str(i) for i in range(5)]) \n",
        "df_video_valid=pd.DataFrame(predictions_valid,columns=[\"OV_\"+str(i) for i in range(5)])"
      ],
      "metadata": {
        "id": "JBQxVEsxB6LW"
      },
      "execution_count": 46,
      "outputs": []
    },
    {
      "cell_type": "code",
      "source": [
        "save_dir = '/content/drive/My Drive/fusion/savee/video/data_set/expert2'\n",
        "\n",
        "savedvX = joblib.dump(df_video_train, os.path.join(save_dir, 'train/pred_train'))\n",
        "savedvX = joblib.dump(df_video_test, os.path.join(save_dir, 'test/pred_test'))\n",
        "savedvX = joblib.dump(df_video_valid, os.path.join(save_dir, 'valid/pred_valid'))"
      ],
      "metadata": {
        "id": "GwiWQx4kA4WO"
      },
      "execution_count": 47,
      "outputs": []
    },
    {
      "cell_type": "code",
      "source": [
        ""
      ],
      "metadata": {
        "id": "_yh18bSjCCkQ"
      },
      "execution_count": null,
      "outputs": []
    }
  ],
  "metadata": {
    "accelerator": "GPU",
    "colab": {
      "name": "best_LRCN_CNN_Video_SAVEE_2.ipynb",
      "provenance": [],
      "machine_shape": "hm",
      "collapsed_sections": []
    },
    "kernelspec": {
      "display_name": "Python 3",
      "name": "python3"
    },
    "language_info": {
      "name": "python"
    }
  },
  "nbformat": 4,
  "nbformat_minor": 0
}