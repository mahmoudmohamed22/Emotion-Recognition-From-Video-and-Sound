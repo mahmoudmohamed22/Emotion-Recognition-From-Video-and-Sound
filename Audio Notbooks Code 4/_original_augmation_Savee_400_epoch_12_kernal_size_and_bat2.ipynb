{
  "cells": [
    {
      "cell_type": "code",
      "execution_count": null,
      "metadata": {
        "colab": {
          "base_uri": "https://localhost:8080/"
        },
        "id": "uzZTLwtNdxKi",
        "outputId": "6a6f5a12-a0d2-4825-e5f7-f9e8cd2dd5ae"
      },
      "outputs": [
        {
          "name": "stdout",
          "output_type": "stream",
          "text": [
            "Requirement already satisfied: keras in /opt/conda/envs/rapids/lib/python3.7/site-packages (2.8.0)\n",
            "\u001b[33mWARNING: Running pip as the 'root' user can result in broken permissions and conflicting behaviour with the system package manager. It is recommended to use a virtual environment instead: https://pip.pypa.io/warnings/venv\u001b[0m\n",
            "Note: you may need to restart the kernel to use updated packages.\n"
          ]
        }
      ],
      "source": [
        "pip install keras"
      ]
    },
    {
      "cell_type": "code",
      "source": [
        "from google.colab import drive\n",
        "drive.mount('/content/drive')"
      ],
      "metadata": {
        "colab": {
          "base_uri": "https://localhost:8080/"
        },
        "id": "cB9NV-RLdSLZ",
        "outputId": "f3834e7b-d433-417c-ab1e-e1e07c4bc61a"
      },
      "execution_count": 1,
      "outputs": [
        {
          "output_type": "stream",
          "name": "stdout",
          "text": [
            "Mounted at /content/drive\n"
          ]
        }
      ]
    },
    {
      "cell_type": "code",
      "execution_count": null,
      "metadata": {
        "id": "EbHyBIe_dOYb",
        "outputId": "65c42ecd-cb15-422c-9f7c-006f2a33e71f"
      },
      "outputs": [
        {
          "name": "stdout",
          "output_type": "stream",
          "text": [
            "Requirement already satisfied: tensorflow in /opt/conda/envs/rapids/lib/python3.7/site-packages (2.8.0)\n",
            "Requirement already satisfied: termcolor>=1.1.0 in /opt/conda/envs/rapids/lib/python3.7/site-packages (from tensorflow) (1.1.0)\n",
            "Requirement already satisfied: tf-estimator-nightly==2.8.0.dev2021122109 in /opt/conda/envs/rapids/lib/python3.7/site-packages (from tensorflow) (2.8.0.dev2021122109)\n",
            "Requirement already satisfied: numpy>=1.20 in /opt/conda/envs/rapids/lib/python3.7/site-packages (from tensorflow) (1.21.1)\n",
            "Requirement already satisfied: libclang>=9.0.1 in /opt/conda/envs/rapids/lib/python3.7/site-packages (from tensorflow) (13.0.0)\n",
            "Requirement already satisfied: gast>=0.2.1 in /opt/conda/envs/rapids/lib/python3.7/site-packages (from tensorflow) (0.5.3)\n",
            "Requirement already satisfied: tensorflow-io-gcs-filesystem>=0.23.1 in /opt/conda/envs/rapids/lib/python3.7/site-packages (from tensorflow) (0.24.0)\n",
            "Requirement already satisfied: h5py>=2.9.0 in /opt/conda/envs/rapids/lib/python3.7/site-packages (from tensorflow) (3.6.0)\n",
            "Requirement already satisfied: setuptools in /opt/conda/envs/rapids/lib/python3.7/site-packages (from tensorflow) (49.6.0.post20210108)\n",
            "Requirement already satisfied: grpcio<2.0,>=1.24.3 in /opt/conda/envs/rapids/lib/python3.7/site-packages (from tensorflow) (1.44.0)\n",
            "Requirement already satisfied: keras<2.9,>=2.8.0rc0 in /opt/conda/envs/rapids/lib/python3.7/site-packages (from tensorflow) (2.8.0)\n",
            "Requirement already satisfied: wrapt>=1.11.0 in /opt/conda/envs/rapids/lib/python3.7/site-packages (from tensorflow) (1.12.1)\n",
            "Requirement already satisfied: google-pasta>=0.1.1 in /opt/conda/envs/rapids/lib/python3.7/site-packages (from tensorflow) (0.2.0)\n",
            "Requirement already satisfied: absl-py>=0.4.0 in /opt/conda/envs/rapids/lib/python3.7/site-packages (from tensorflow) (1.0.0)\n",
            "Requirement already satisfied: opt-einsum>=2.3.2 in /opt/conda/envs/rapids/lib/python3.7/site-packages (from tensorflow) (3.3.0)\n",
            "Requirement already satisfied: astunparse>=1.6.0 in /opt/conda/envs/rapids/lib/python3.7/site-packages (from tensorflow) (1.6.3)\n",
            "Requirement already satisfied: six>=1.12.0 in /opt/conda/envs/rapids/lib/python3.7/site-packages (from tensorflow) (1.16.0)\n",
            "Requirement already satisfied: tensorboard<2.9,>=2.8 in /opt/conda/envs/rapids/lib/python3.7/site-packages (from tensorflow) (2.8.0)\n",
            "Requirement already satisfied: flatbuffers>=1.12 in /opt/conda/envs/rapids/lib/python3.7/site-packages (from tensorflow) (2.0)\n",
            "Requirement already satisfied: keras-preprocessing>=1.1.1 in /opt/conda/envs/rapids/lib/python3.7/site-packages (from tensorflow) (1.1.2)\n",
            "Requirement already satisfied: typing-extensions>=3.6.6 in /opt/conda/envs/rapids/lib/python3.7/site-packages (from tensorflow) (3.10.0.0)\n",
            "Requirement already satisfied: protobuf>=3.9.2 in /opt/conda/envs/rapids/lib/python3.7/site-packages (from tensorflow) (3.16.0)\n",
            "Requirement already satisfied: wheel<1.0,>=0.23.0 in /opt/conda/envs/rapids/lib/python3.7/site-packages (from astunparse>=1.6.0->tensorflow) (0.37.0)\n",
            "Requirement already satisfied: cached-property in /opt/conda/envs/rapids/lib/python3.7/site-packages (from h5py>=2.9.0->tensorflow) (1.5.2)\n",
            "Requirement already satisfied: markdown>=2.6.8 in /opt/conda/envs/rapids/lib/python3.7/site-packages (from tensorboard<2.9,>=2.8->tensorflow) (3.3.4)\n",
            "Requirement already satisfied: tensorboard-plugin-wit>=1.6.0 in /opt/conda/envs/rapids/lib/python3.7/site-packages (from tensorboard<2.9,>=2.8->tensorflow) (1.8.1)\n",
            "Requirement already satisfied: tensorboard-data-server<0.7.0,>=0.6.0 in /opt/conda/envs/rapids/lib/python3.7/site-packages (from tensorboard<2.9,>=2.8->tensorflow) (0.6.1)\n",
            "Requirement already satisfied: google-auth<3,>=1.6.3 in /opt/conda/envs/rapids/lib/python3.7/site-packages (from tensorboard<2.9,>=2.8->tensorflow) (2.6.0)\n",
            "Requirement already satisfied: requests<3,>=2.21.0 in /opt/conda/envs/rapids/lib/python3.7/site-packages (from tensorboard<2.9,>=2.8->tensorflow) (2.26.0)\n",
            "Requirement already satisfied: werkzeug>=0.11.15 in /opt/conda/envs/rapids/lib/python3.7/site-packages (from tensorboard<2.9,>=2.8->tensorflow) (2.0.3)\n",
            "Requirement already satisfied: google-auth-oauthlib<0.5,>=0.4.1 in /opt/conda/envs/rapids/lib/python3.7/site-packages (from tensorboard<2.9,>=2.8->tensorflow) (0.4.6)\n",
            "Requirement already satisfied: cachetools<6.0,>=2.0.0 in /opt/conda/envs/rapids/lib/python3.7/site-packages (from google-auth<3,>=1.6.3->tensorboard<2.9,>=2.8->tensorflow) (4.2.2)\n",
            "Requirement already satisfied: pyasn1-modules>=0.2.1 in /opt/conda/envs/rapids/lib/python3.7/site-packages (from google-auth<3,>=1.6.3->tensorboard<2.9,>=2.8->tensorflow) (0.2.8)\n",
            "Requirement already satisfied: rsa<5,>=3.1.4 in /opt/conda/envs/rapids/lib/python3.7/site-packages (from google-auth<3,>=1.6.3->tensorboard<2.9,>=2.8->tensorflow) (4.8)\n",
            "Requirement already satisfied: requests-oauthlib>=0.7.0 in /opt/conda/envs/rapids/lib/python3.7/site-packages (from google-auth-oauthlib<0.5,>=0.4.1->tensorboard<2.9,>=2.8->tensorflow) (1.3.1)\n",
            "Requirement already satisfied: importlib-metadata in /opt/conda/envs/rapids/lib/python3.7/site-packages (from markdown>=2.6.8->tensorboard<2.9,>=2.8->tensorflow) (4.6.4)\n",
            "Requirement already satisfied: pyasn1<0.5.0,>=0.4.6 in /opt/conda/envs/rapids/lib/python3.7/site-packages (from pyasn1-modules>=0.2.1->google-auth<3,>=1.6.3->tensorboard<2.9,>=2.8->tensorflow) (0.4.8)\n",
            "Requirement already satisfied: urllib3<1.27,>=1.21.1 in /opt/conda/envs/rapids/lib/python3.7/site-packages (from requests<3,>=2.21.0->tensorboard<2.9,>=2.8->tensorflow) (1.26.6)\n",
            "Requirement already satisfied: certifi>=2017.4.17 in /opt/conda/envs/rapids/lib/python3.7/site-packages (from requests<3,>=2.21.0->tensorboard<2.9,>=2.8->tensorflow) (2021.10.8)\n",
            "Requirement already satisfied: idna<4,>=2.5 in /opt/conda/envs/rapids/lib/python3.7/site-packages (from requests<3,>=2.21.0->tensorboard<2.9,>=2.8->tensorflow) (3.1)\n",
            "Requirement already satisfied: charset-normalizer~=2.0.0 in /opt/conda/envs/rapids/lib/python3.7/site-packages (from requests<3,>=2.21.0->tensorboard<2.9,>=2.8->tensorflow) (2.0.0)\n",
            "Requirement already satisfied: oauthlib>=3.0.0 in /opt/conda/envs/rapids/lib/python3.7/site-packages (from requests-oauthlib>=0.7.0->google-auth-oauthlib<0.5,>=0.4.1->tensorboard<2.9,>=2.8->tensorflow) (3.2.0)\n",
            "Requirement already satisfied: zipp>=0.5 in /opt/conda/envs/rapids/lib/python3.7/site-packages (from importlib-metadata->markdown>=2.6.8->tensorboard<2.9,>=2.8->tensorflow) (3.5.0)\n",
            "\u001b[33mWARNING: Running pip as the 'root' user can result in broken permissions and conflicting behaviour with the system package manager. It is recommended to use a virtual environment instead: https://pip.pypa.io/warnings/venv\u001b[0m\n",
            "Note: you may need to restart the kernel to use updated packages.\n"
          ]
        }
      ],
      "source": [
        "pip install tensorflow"
      ]
    },
    {
      "cell_type": "code",
      "execution_count": null,
      "metadata": {
        "id": "-2iPI3-RdOYc",
        "outputId": "2509154d-3389-4ed5-bb2b-ee9ecd547258"
      },
      "outputs": [
        {
          "name": "stdout",
          "output_type": "stream",
          "text": [
            "Collecting package metadata (current_repodata.json): done\n",
            "Solving environment: done\n",
            "\n",
            "# All requested packages already installed.\n",
            "\n",
            "\n",
            "Note: you may need to restart the kernel to use updated packages.\n"
          ]
        }
      ],
      "source": [
        "conda install librosa "
      ]
    },
    {
      "cell_type": "code",
      "execution_count": null,
      "metadata": {
        "id": "bcVbQcYAdOYd",
        "outputId": "1390c775-5026-4e4a-9499-dda6f863afb1"
      },
      "outputs": [
        {
          "name": "stdout",
          "output_type": "stream",
          "text": [
            "Requirement already satisfied: plotly in /opt/conda/envs/rapids/lib/python3.7/site-packages (5.6.0)\n",
            "Requirement already satisfied: tenacity>=6.2.0 in /opt/conda/envs/rapids/lib/python3.7/site-packages (from plotly) (8.0.1)\n",
            "Requirement already satisfied: six in /opt/conda/envs/rapids/lib/python3.7/site-packages (from plotly) (1.16.0)\n",
            "\u001b[33mWARNING: Running pip as the 'root' user can result in broken permissions and conflicting behaviour with the system package manager. It is recommended to use a virtual environment instead: https://pip.pypa.io/warnings/venv\u001b[0m\n",
            "Note: you may need to restart the kernel to use updated packages.\n"
          ]
        }
      ],
      "source": [
        "pip install plotly"
      ]
    },
    {
      "cell_type": "code",
      "execution_count": null,
      "metadata": {
        "id": "QeizPlDkdOYe",
        "outputId": "0307d276-8ddb-469d-d681-866e0cd6afab"
      },
      "outputs": [
        {
          "name": "stdout",
          "output_type": "stream",
          "text": [
            "Requirement already satisfied: librosa in /opt/conda/envs/rapids/lib/python3.7/site-packages (0.9.1)\n",
            "Requirement already satisfied: resampy>=0.2.2 in /opt/conda/envs/rapids/lib/python3.7/site-packages (from librosa) (0.2.2)\n",
            "Requirement already satisfied: scikit-learn>=0.19.1 in /opt/conda/envs/rapids/lib/python3.7/site-packages (from librosa) (0.23.1)\n",
            "Requirement already satisfied: pooch>=1.0 in /opt/conda/envs/rapids/lib/python3.7/site-packages (from librosa) (1.5.1)\n",
            "Requirement already satisfied: audioread>=2.1.5 in /opt/conda/envs/rapids/lib/python3.7/site-packages (from librosa) (2.1.9)\n",
            "Requirement already satisfied: packaging>=20.0 in /opt/conda/envs/rapids/lib/python3.7/site-packages (from librosa) (21.0)\n",
            "Requirement already satisfied: numpy>=1.17.0 in /opt/conda/envs/rapids/lib/python3.7/site-packages (from librosa) (1.21.1)\n",
            "Requirement already satisfied: decorator>=4.0.10 in /opt/conda/envs/rapids/lib/python3.7/site-packages (from librosa) (4.4.2)\n",
            "Requirement already satisfied: joblib>=0.14 in /opt/conda/envs/rapids/lib/python3.7/site-packages (from librosa) (1.0.1)\n",
            "Requirement already satisfied: numba>=0.45.1 in /opt/conda/envs/rapids/lib/python3.7/site-packages (from librosa) (0.53.1)\n",
            "Requirement already satisfied: scipy>=1.2.0 in /opt/conda/envs/rapids/lib/python3.7/site-packages (from librosa) (1.6.0)\n",
            "Requirement already satisfied: soundfile>=0.10.2 in /opt/conda/envs/rapids/lib/python3.7/site-packages (from librosa) (0.10.3.post1)\n",
            "Requirement already satisfied: llvmlite<0.37,>=0.36.0rc1 in /opt/conda/envs/rapids/lib/python3.7/site-packages (from numba>=0.45.1->librosa) (0.36.0)\n",
            "Requirement already satisfied: setuptools in /opt/conda/envs/rapids/lib/python3.7/site-packages (from numba>=0.45.1->librosa) (49.6.0.post20210108)\n",
            "Requirement already satisfied: pyparsing>=2.0.2 in /opt/conda/envs/rapids/lib/python3.7/site-packages (from packaging>=20.0->librosa) (2.4.7)\n",
            "Requirement already satisfied: requests in /opt/conda/envs/rapids/lib/python3.7/site-packages (from pooch>=1.0->librosa) (2.26.0)\n",
            "Requirement already satisfied: appdirs in /opt/conda/envs/rapids/lib/python3.7/site-packages (from pooch>=1.0->librosa) (1.4.4)\n",
            "Requirement already satisfied: six>=1.3 in /opt/conda/envs/rapids/lib/python3.7/site-packages (from resampy>=0.2.2->librosa) (1.16.0)\n",
            "Requirement already satisfied: threadpoolctl>=2.0.0 in /opt/conda/envs/rapids/lib/python3.7/site-packages (from scikit-learn>=0.19.1->librosa) (2.2.0)\n",
            "Requirement already satisfied: cffi>=1.0 in /opt/conda/envs/rapids/lib/python3.7/site-packages (from soundfile>=0.10.2->librosa) (1.14.6)\n",
            "Requirement already satisfied: pycparser in /opt/conda/envs/rapids/lib/python3.7/site-packages (from cffi>=1.0->soundfile>=0.10.2->librosa) (2.20)\n",
            "Requirement already satisfied: certifi>=2017.4.17 in /opt/conda/envs/rapids/lib/python3.7/site-packages (from requests->pooch>=1.0->librosa) (2021.10.8)\n",
            "Requirement already satisfied: urllib3<1.27,>=1.21.1 in /opt/conda/envs/rapids/lib/python3.7/site-packages (from requests->pooch>=1.0->librosa) (1.26.6)\n",
            "Requirement already satisfied: charset-normalizer~=2.0.0 in /opt/conda/envs/rapids/lib/python3.7/site-packages (from requests->pooch>=1.0->librosa) (2.0.0)\n",
            "Requirement already satisfied: idna<4,>=2.5 in /opt/conda/envs/rapids/lib/python3.7/site-packages (from requests->pooch>=1.0->librosa) (3.1)\n",
            "\u001b[33mWARNING: Running pip as the 'root' user can result in broken permissions and conflicting behaviour with the system package manager. It is recommended to use a virtual environment instead: https://pip.pypa.io/warnings/venv\u001b[0m\n",
            "Note: you may need to restart the kernel to use updated packages.\n"
          ]
        }
      ],
      "source": [
        "pip install librosa"
      ]
    },
    {
      "cell_type": "code",
      "execution_count": 2,
      "metadata": {
        "colab": {
          "base_uri": "https://localhost:8080/",
          "height": 17
        },
        "id": "NgJohC6sdr-S",
        "outputId": "b7be791d-8dc3-42a5-9ac2-77a9f7f7c1ac"
      },
      "outputs": [
        {
          "output_type": "display_data",
          "data": {
            "text/html": [
              "        <script type=\"text/javascript\">\n",
              "        window.PlotlyConfig = {MathJaxConfig: 'local'};\n",
              "        if (window.MathJax) {MathJax.Hub.Config({SVG: {font: \"STIX-Web\"}});}\n",
              "        if (typeof require !== 'undefined') {\n",
              "        require.undef(\"plotly\");\n",
              "        requirejs.config({\n",
              "            paths: {\n",
              "                'plotly': ['https://cdn.plot.ly/plotly-2.8.3.min']\n",
              "            }\n",
              "        });\n",
              "        require(['plotly'], function(Plotly) {\n",
              "            window._Plotly = Plotly;\n",
              "        });\n",
              "        }\n",
              "        </script>\n",
              "        "
            ]
          },
          "metadata": {}
        }
      ],
      "source": [
        "# Orignial Notebook: https://github.com/MITESHPUTHRANNEU/Speech-Emotion-Analyzer/blob/master/final_results_gender_test.ipynb\n",
        "# This notebook author: Reza Chu\n",
        "# Last Editing Date: 31st May 2019\n",
        "\n",
        "## Python\n",
        "import os\n",
        "import random\n",
        "import sys\n",
        "\n",
        "import IPython\n",
        "from IPython.display import Audio\n",
        "from IPython.display import Image\n",
        "import matplotlib.pyplot as plt\n",
        "\n",
        "## Package\n",
        "import glob \n",
        "import keras\n",
        "import IPython.display as ipd\n",
        "import librosa\n",
        "import librosa.display\n",
        "import matplotlib.pyplot as plt\n",
        "import numpy as np\n",
        "import pandas as pd\n",
        "import plotly.graph_objs as go\n",
        "import plotly.offline as py\n",
        "import plotly.tools as tls\n",
        "import seaborn as sns\n",
        "import scipy.io.wavfile\n",
        "import tensorflow as tf\n",
        "py.init_notebook_mode(connected=True)\n",
        "\n",
        "## Keras\n",
        "from keras import regularizers\n",
        "from keras.callbacks import ModelCheckpoint, LearningRateScheduler, EarlyStopping\n",
        "from keras.callbacks import  History, ReduceLROnPlateau, CSVLogger\n",
        "from keras.models import Model, Sequential\n",
        "from keras.layers import Dense, Embedding, LSTM\n",
        "from keras.layers import Input, Flatten, Dropout, Activation, BatchNormalization\n",
        "from keras.layers import Conv1D, MaxPooling1D, AveragePooling1D\n",
        "from keras.preprocessing import sequence\n",
        "from keras.preprocessing.sequence import pad_sequences\n",
        "from keras.preprocessing.text import Tokenizer\n",
        "from keras.utils import np_utils\n",
        "from tensorflow.keras.utils import to_categorical\n",
        "\n",
        "## Sklearn\n",
        "from sklearn.metrics import confusion_matrix\n",
        "from sklearn.preprocessing import LabelEncoder\n",
        "\n",
        "## Rest\n",
        "from scipy.fftpack import fft\n",
        "from scipy import signal\n",
        "from scipy.io import wavfile\n",
        "from tqdm import tqdm\n",
        "\n",
        "input_duration=3\n",
        "# % pylab inline"
      ]
    },
    {
      "cell_type": "code",
      "execution_count": 3,
      "metadata": {
        "colab": {
          "base_uri": "https://localhost:8080/"
        },
        "id": "a9_TpDKveU1d",
        "outputId": "345cc66b-1bc5-43ed-d92f-d1bef65a55b8"
      },
      "outputs": [
        {
          "output_type": "stream",
          "name": "stdout",
          "text": [
            "--- Data loaded. Loading time: 23.732166528701782 seconds ---\n"
          ]
        }
      ],
      "source": [
        "#only SAVEE data set\n",
        "import time\n",
        "import os\n",
        "import librosa\n",
        "from librosa import display\n",
        "import matplotlib.pyplot as plt\n",
        "\n",
        "lst = []\n",
        "count=0\n",
        "start_time = time.time()\n",
        "\n",
        "path3 = '/content/drive/My Drive/data_set/SAVEE'\n",
        "for subdir, dirs, files in os.walk(path3):\n",
        "  for file in files:\n",
        "      try:\n",
        "        #0 = neutral,  1 = fearful, 2 = happy, 3 = sad, 4 = angry\n",
        "        if file.startswith('a'):\n",
        "            emotion=4\n",
        "        elif file.startswith('d'):\n",
        "            continue\n",
        "        elif file.startswith('f'):\n",
        "            emotion=1\n",
        "        elif file.startswith('h'):\n",
        "            emotion=2\n",
        "        elif file.startswith('n'):\n",
        "            emotion=0\n",
        "        elif file.startswith('sa'):\n",
        "            emotion=3\n",
        "        elif file.startswith('su'):\n",
        "            continue\n",
        "        else:\n",
        "            continue\n",
        "        #Load librosa array, obtain mfcss, store the file and the mcss information in a new array\n",
        "        X, sample_rate = librosa.load(os.path.join(subdir,file), res_type='kaiser_fast')\n",
        "        #print(sample_rate)\n",
        "       # mfccs = np.mean(librosa.feature.mfcc(y=X, sr=sample_rate, n_mfcc=40).T,axis=0) \n",
        "        count +=1\n",
        "        # The instruction below converts the labels (from 1 to 8) to a series from 0 to 7\n",
        "        # This is because our predictor needs to start from 0 otherwise it will try to predict also 0.\n",
        "        #file = int(file[7:8]) - 1 \n",
        "        #0 = neutral, 1 = calm, 2 = happy, 3 = sad, 4 = angry, 5 = fearful, 6 = disgust, 7 = surprised\n",
        "        arr = X, emotion\n",
        "        lst.append(arr)\n",
        "      # If the file is not valid, skip it\n",
        "      except ValueError:\n",
        "        continue\n",
        "\n",
        "print(\"--- Data loaded. Loading time: %s seconds ---\" % (time.time() - start_time))"
      ]
    },
    {
      "cell_type": "code",
      "execution_count": 4,
      "metadata": {
        "colab": {
          "base_uri": "https://localhost:8080/"
        },
        "id": "XVaArAIkdOYj",
        "outputId": "dbed4983-c32f-49c7-e067-179c61e47d19"
      },
      "outputs": [
        {
          "output_type": "stream",
          "name": "stderr",
          "text": [
            "/usr/local/lib/python3.7/dist-packages/numpy/core/fromnumeric.py:3208: VisibleDeprecationWarning:\n",
            "\n",
            "Creating an ndarray from ragged nested sequences (which is a list-or-tuple of lists-or-tuples-or ndarrays with different lengths or shapes) is deprecated. If you meant to do this, you must specify 'dtype=object' when creating the ndarray.\n",
            "\n"
          ]
        },
        {
          "output_type": "execute_result",
          "data": {
            "text/plain": [
              "720"
            ]
          },
          "metadata": {},
          "execution_count": 4
        }
      ],
      "source": [
        "from numpy.core.fromnumeric import size\n",
        "size(lst)\n"
      ]
    },
    {
      "cell_type": "code",
      "execution_count": 5,
      "metadata": {
        "colab": {
          "base_uri": "https://localhost:8080/"
        },
        "id": "uo6fLwandOYl",
        "outputId": "3db6f29c-dc52-4d30-a502-084fefcc0129"
      },
      "outputs": [
        {
          "output_type": "stream",
          "name": "stderr",
          "text": [
            "/usr/local/lib/python3.7/dist-packages/numpy/core/fromnumeric.py:3208: VisibleDeprecationWarning:\n",
            "\n",
            "Creating an ndarray from ragged nested sequences (which is a list-or-tuple of lists-or-tuples-or ndarrays with different lengths or shapes) is deprecated. If you meant to do this, you must specify 'dtype=object' when creating the ndarray.\n",
            "\n"
          ]
        },
        {
          "output_type": "execute_result",
          "data": {
            "text/plain": [
              "720"
            ]
          },
          "metadata": {},
          "execution_count": 5
        }
      ],
      "source": [
        "from numpy.core.fromnumeric import size\n",
        "size(lst)\n"
      ]
    },
    {
      "cell_type": "code",
      "execution_count": 6,
      "metadata": {
        "colab": {
          "base_uri": "https://localhost:8080/"
        },
        "id": "2vTLVo3SdOYm",
        "outputId": "1a9e4016-c492-4df4-8826-2e86271f6483"
      },
      "outputs": [
        {
          "output_type": "stream",
          "name": "stderr",
          "text": [
            "/usr/local/lib/python3.7/dist-packages/ipykernel_launcher.py:2: VisibleDeprecationWarning:\n",
            "\n",
            "Creating an ndarray from ragged nested sequences (which is a list-or-tuple of lists-or-tuples-or ndarrays with different lengths or shapes) is deprecated. If you meant to do this, you must specify 'dtype=object' when creating the ndarray.\n",
            "\n"
          ]
        }
      ],
      "source": [
        "audio_file, emotion = zip(*lst)\n",
        "audio_file=np.asarray(audio_file)\n",
        "emotion=np.asarray(emotion)\n"
      ]
    },
    {
      "cell_type": "code",
      "execution_count": 7,
      "metadata": {
        "colab": {
          "base_uri": "https://localhost:8080/"
        },
        "id": "M-pbYcFDd5a2",
        "outputId": "e27c569f-73dc-4f37-ecd6-f59ddd86e5fa"
      },
      "outputs": [
        {
          "output_type": "execute_result",
          "data": {
            "text/plain": [
              "((288,), (36,), (36,))"
            ]
          },
          "metadata": {},
          "execution_count": 7
        }
      ],
      "source": [
        "\n",
        "emotion.shape,audio_file.shape\n",
        "\n",
        "from sklearn.model_selection import train_test_split\n",
        "\n",
        "signal_train, signal_test, emo_train, emo_test = train_test_split(audio_file,emotion, test_size=0.2, random_state=42)\n",
        "signal_valid, signal_test, emo_valid, emo_test = train_test_split(signal_test,emo_test, test_size=0.5,train_size=0.5, random_state=42)\n",
        "signal_train.shape,signal_valid.shape,signal_test.shape"
      ]
    },
    {
      "cell_type": "code",
      "execution_count": 8,
      "metadata": {
        "id": "OflClL3QfDoj"
      },
      "outputs": [],
      "source": [
        "x_valid=[]\n",
        "x_test=[]\n",
        "for i in range(signal_valid.size):\n",
        "  x_valid.append(np.mean(librosa.feature.mfcc(y=signal_valid[i], sr=sample_rate, n_mfcc=40).T,axis=0))\n",
        "  #x_valid.append(np.mean(librosa.feature.chroma_stft(S=np.abs(librosa.stft(signal_valid[i])), sr=sample_rate ,n_chroma=12).T,axis=0))\n",
        "\n",
        "for i in range(signal_test.size):\n",
        "  x_test.append(np.mean(librosa.feature.mfcc(y=signal_test[i], sr=sample_rate, n_mfcc=40).T,axis=0))\n",
        "  #x_test.append(np.mean(librosa.feature.chroma_stft(S=np.abs(librosa.stft(signal_test[i])), sr=sample_rate,n_chroma=12).T,axis=0))\n",
        "#resv = np.hstack((resv, mfccsv))  \n",
        "#resv = np.hstack((resv, cromav))  \n",
        "#resv = np.hstack((resv, melv))  \n",
        "\n",
        "#rest = np.hstack((rest, mfccst))  \n",
        "#rest = np.hstack((rest, cromat))  \n",
        "#rest = np.hstack((rest, melt))\n",
        "\n",
        "#x_valid.append(resv)\n",
        "#x_test.append(rest)"
      ]
    },
    {
      "cell_type": "code",
      "execution_count": 9,
      "metadata": {
        "colab": {
          "base_uri": "https://localhost:8080/"
        },
        "id": "kJkN-K17gSvD",
        "outputId": "fec1389f-645e-49f9-a27b-0a2f96d55364"
      },
      "outputs": [
        {
          "output_type": "execute_result",
          "data": {
            "text/plain": [
              "((36, 40), (36, 40))"
            ]
          },
          "metadata": {},
          "execution_count": 9
        }
      ],
      "source": [
        "x_valid=np.asarray(x_valid)\n",
        "x_test=np.asarray(x_test)\n",
        "x_valid.shape,x_test.shape"
      ]
    },
    {
      "cell_type": "code",
      "execution_count": 10,
      "metadata": {
        "id": "k43cyWMKgXo9"
      },
      "outputs": [],
      "source": [
        "train_lst=[]\n",
        "for i in range(signal_train.size):\n",
        "  emo=emo_train[i]\n",
        "  x=signal_train[i]\n",
        "  arr=x,emo\n",
        "  train_lst.append(arr)\n",
        "  x=librosa.effects.time_stretch(signal_train[i],0.5)\n",
        "  arr=x,emo\n",
        "  train_lst.append(arr)\n",
        "  x=librosa.effects.time_stretch(signal_train[i],1.5)\n",
        "  arr=x,emo\n",
        "  train_lst.append(arr)\n",
        "  x=librosa.effects.pitch_shift(signal_train[i],sample_rate,2)\n",
        "  arr=x,emo\n",
        "  train_lst.append(arr)"
      ]
    },
    {
      "cell_type": "code",
      "execution_count": 11,
      "metadata": {
        "id": "gFL9v0A9kYvD"
      },
      "outputs": [],
      "source": [
        "signal, y_train = zip(*train_lst)"
      ]
    },
    {
      "cell_type": "code",
      "execution_count": 12,
      "metadata": {
        "colab": {
          "base_uri": "https://localhost:8080/"
        },
        "id": "ulnUCfZikY7Y",
        "outputId": "855b319a-9a5f-4840-b6b0-b31beb8e34e8"
      },
      "outputs": [
        {
          "output_type": "stream",
          "name": "stderr",
          "text": [
            "/usr/local/lib/python3.7/dist-packages/ipykernel_launcher.py:1: VisibleDeprecationWarning:\n",
            "\n",
            "Creating an ndarray from ragged nested sequences (which is a list-or-tuple of lists-or-tuples-or ndarrays with different lengths or shapes) is deprecated. If you meant to do this, you must specify 'dtype=object' when creating the ndarray.\n",
            "\n"
          ]
        }
      ],
      "source": [
        "signal=np.asarray(signal)\n",
        "y_train=np.asarray(y_train)"
      ]
    },
    {
      "cell_type": "code",
      "execution_count": 13,
      "metadata": {
        "colab": {
          "base_uri": "https://localhost:8080/"
        },
        "id": "Bt0pm0g4kY9q",
        "outputId": "2c98e12e-59d9-463b-e97c-ce5375b6646b"
      },
      "outputs": [
        {
          "output_type": "execute_result",
          "data": {
            "text/plain": [
              "(1152,)"
            ]
          },
          "metadata": {},
          "execution_count": 13
        }
      ],
      "source": [
        "y_train.shape"
      ]
    },
    {
      "cell_type": "code",
      "execution_count": 14,
      "metadata": {
        "id": "yGPv5UDikY_f"
      },
      "outputs": [],
      "source": [
        "x_train=[]\n",
        "for i in range(signal.size):\n",
        "  x_train.append(np.mean(librosa.feature.mfcc(y=signal[i], sr=sample_rate, n_mfcc=40).T,axis=0))"
      ]
    },
    {
      "cell_type": "code",
      "execution_count": 15,
      "metadata": {
        "colab": {
          "base_uri": "https://localhost:8080/"
        },
        "id": "7qnveahvkj3U",
        "outputId": "0f7858b5-e969-4510-cf74-e229d0d6bde5"
      },
      "outputs": [
        {
          "output_type": "execute_result",
          "data": {
            "text/plain": [
              "(1152, 40)"
            ]
          },
          "metadata": {},
          "execution_count": 15
        }
      ],
      "source": [
        "x_train=np.asarray(x_train)\n",
        "x_train.shape"
      ]
    },
    {
      "cell_type": "code",
      "execution_count": 16,
      "metadata": {
        "colab": {
          "base_uri": "https://localhost:8080/"
        },
        "id": "LFnBsKPXkmDV",
        "outputId": "4a5269d9-d308-4b81-c863-211e4b04944c"
      },
      "outputs": [
        {
          "output_type": "execute_result",
          "data": {
            "text/plain": [
              "(1152,)"
            ]
          },
          "metadata": {},
          "execution_count": 16
        }
      ],
      "source": [
        "y_train.shape"
      ]
    },
    {
      "cell_type": "code",
      "execution_count": 17,
      "metadata": {
        "colab": {
          "base_uri": "https://localhost:8080/"
        },
        "id": "zlvfnkyLkxWx",
        "outputId": "09929a3a-cfd9-4a22-9ca3-9de20eeb3b3d"
      },
      "outputs": [
        {
          "output_type": "stream",
          "name": "stderr",
          "text": [
            "/usr/local/lib/python3.7/dist-packages/keras/optimizer_v2/adam.py:105: UserWarning:\n",
            "\n",
            "The `lr` argument is deprecated, use `learning_rate` instead.\n",
            "\n"
          ]
        }
      ],
      "source": [
        "import keras\n",
        "import numpy as np\n",
        "import matplotlib.pyplot as plt\n",
        "import tensorflow as tf\n",
        "from keras.preprocessing import sequence\n",
        "from keras.models import Sequential\n",
        "from keras.layers import Dense, Embedding\n",
        "from tensorflow.keras.utils import to_categorical\n",
        "from keras.layers import Input, Flatten, Dropout, Activation\n",
        "from keras.layers import Conv1D, MaxPooling1D\n",
        "from keras.models import Model\n",
        "from keras.callbacks import ModelCheckpoint\n",
        "from tensorflow.keras import optimizers\n",
        "from keras.models import InputLayer\n",
        "\n",
        "model = Sequential(InputLayer((40,1)))\n",
        "model.add(BatchNormalization())\n",
        "\n",
        "model.add(Conv1D(128, 12,padding='same', ))\n",
        "model.add(BatchNormalization())\n",
        "model.add(Activation('relu'))\n",
        "model.add(Dropout(0.1))\n",
        "model.add(MaxPooling1D(pool_size=(5)))\n",
        "\n",
        "\n",
        "model.add(Conv1D(256,12,padding='same',))\n",
        "model.add(BatchNormalization())\n",
        "model.add(Activation('relu'))\n",
        "model.add(Dropout(0.3))\n",
        "model.add(MaxPooling1D(pool_size=(5)))\n",
        "\n",
        "model.add(Flatten())\n",
        "model.add(Dense(6))\n",
        "model.add(Activation('softmax'))\n",
        "\n",
        "opt = tf.keras.optimizers.Adam(lr=0.0002)\n",
        "#opt = tf.keras.optimizers.RMSprop(lr=0.0001, rho=0.9, epsilon=1e-07, decay=0.0)\n",
        "#opt = tf.keras.optimizers.SGD(lr=0.001, momentum=0.0, decay=0.0, nesterov=False)"
      ]
    },
    {
      "cell_type": "code",
      "execution_count": 18,
      "metadata": {
        "colab": {
          "base_uri": "https://localhost:8080/"
        },
        "id": "1-Xsvw44kzg1",
        "outputId": "5c39ff4d-a03a-4745-bf01-950ec2c9afdd"
      },
      "outputs": [
        {
          "output_type": "stream",
          "name": "stdout",
          "text": [
            "Model: \"sequential\"\n",
            "_________________________________________________________________\n",
            " Layer (type)                Output Shape              Param #   \n",
            "=================================================================\n",
            " batch_normalization (BatchN  (None, 40, 1)            4         \n",
            " ormalization)                                                   \n",
            "                                                                 \n",
            " conv1d (Conv1D)             (None, 40, 128)           1664      \n",
            "                                                                 \n",
            " batch_normalization_1 (Batc  (None, 40, 128)          512       \n",
            " hNormalization)                                                 \n",
            "                                                                 \n",
            " activation (Activation)     (None, 40, 128)           0         \n",
            "                                                                 \n",
            " dropout (Dropout)           (None, 40, 128)           0         \n",
            "                                                                 \n",
            " max_pooling1d (MaxPooling1D  (None, 8, 128)           0         \n",
            " )                                                               \n",
            "                                                                 \n",
            " conv1d_1 (Conv1D)           (None, 8, 256)            393472    \n",
            "                                                                 \n",
            " batch_normalization_2 (Batc  (None, 8, 256)           1024      \n",
            " hNormalization)                                                 \n",
            "                                                                 \n",
            " activation_1 (Activation)   (None, 8, 256)            0         \n",
            "                                                                 \n",
            " dropout_1 (Dropout)         (None, 8, 256)            0         \n",
            "                                                                 \n",
            " max_pooling1d_1 (MaxPooling  (None, 1, 256)           0         \n",
            " 1D)                                                             \n",
            "                                                                 \n",
            " flatten (Flatten)           (None, 256)               0         \n",
            "                                                                 \n",
            " dense (Dense)               (None, 6)                 1542      \n",
            "                                                                 \n",
            " activation_2 (Activation)   (None, 6)                 0         \n",
            "                                                                 \n",
            "=================================================================\n",
            "Total params: 398,218\n",
            "Trainable params: 397,448\n",
            "Non-trainable params: 770\n",
            "_________________________________________________________________\n"
          ]
        }
      ],
      "source": [
        "model.summary()"
      ]
    },
    {
      "cell_type": "code",
      "execution_count": 19,
      "metadata": {
        "id": "m0w5VpjNk1d7"
      },
      "outputs": [],
      "source": [
        "model.compile(loss='sparse_categorical_crossentropy',\n",
        "              optimizer=opt,\n",
        "              metrics=['accuracy'])"
      ]
    },
    {
      "cell_type": "code",
      "execution_count": 20,
      "metadata": {
        "colab": {
          "base_uri": "https://localhost:8080/"
        },
        "id": "Tz-HMdw4k3Vt",
        "outputId": "e2369163-4aef-4173-f3d3-8461693cab99"
      },
      "outputs": [
        {
          "output_type": "stream",
          "name": "stdout",
          "text": [
            "Epoch 1/400\n",
            "72/72 [==============================] - 3s 30ms/step - loss: 1.6435 - accuracy: 0.4175 - val_loss: 1.7633 - val_accuracy: 0.1389\n",
            "Epoch 2/400\n",
            "72/72 [==============================] - 2s 27ms/step - loss: 1.2628 - accuracy: 0.5304 - val_loss: 2.0254 - val_accuracy: 0.0278\n",
            "Epoch 3/400\n",
            "72/72 [==============================] - 2s 27ms/step - loss: 1.0944 - accuracy: 0.5755 - val_loss: 2.2675 - val_accuracy: 0.0278\n",
            "Epoch 4/400\n",
            "72/72 [==============================] - 2s 27ms/step - loss: 0.9318 - accuracy: 0.6424 - val_loss: 2.3754 - val_accuracy: 0.0278\n",
            "Epoch 5/400\n",
            "72/72 [==============================] - 2s 32ms/step - loss: 0.9222 - accuracy: 0.6450 - val_loss: 2.1651 - val_accuracy: 0.1389\n",
            "Epoch 6/400\n",
            "72/72 [==============================] - 2s 32ms/step - loss: 0.9892 - accuracy: 0.6250 - val_loss: 1.8210 - val_accuracy: 0.0833\n",
            "Epoch 7/400\n",
            "72/72 [==============================] - 2s 27ms/step - loss: 0.8725 - accuracy: 0.6632 - val_loss: 1.2786 - val_accuracy: 0.3889\n",
            "Epoch 8/400\n",
            "72/72 [==============================] - 2s 27ms/step - loss: 0.8357 - accuracy: 0.6719 - val_loss: 0.9554 - val_accuracy: 0.5556\n",
            "Epoch 9/400\n",
            "72/72 [==============================] - 2s 27ms/step - loss: 0.7805 - accuracy: 0.6910 - val_loss: 0.8190 - val_accuracy: 0.6944\n",
            "Epoch 10/400\n",
            "72/72 [==============================] - 3s 42ms/step - loss: 0.7133 - accuracy: 0.7109 - val_loss: 0.8216 - val_accuracy: 0.6389\n",
            "Epoch 11/400\n",
            "72/72 [==============================] - 3s 42ms/step - loss: 0.7339 - accuracy: 0.7161 - val_loss: 1.0073 - val_accuracy: 0.6389\n",
            "Epoch 12/400\n",
            "72/72 [==============================] - 2s 30ms/step - loss: 0.6618 - accuracy: 0.7179 - val_loss: 0.9688 - val_accuracy: 0.6111\n",
            "Epoch 13/400\n",
            "72/72 [==============================] - 3s 35ms/step - loss: 0.6748 - accuracy: 0.7396 - val_loss: 0.6614 - val_accuracy: 0.7778\n",
            "Epoch 14/400\n",
            "72/72 [==============================] - 3s 40ms/step - loss: 0.6182 - accuracy: 0.7535 - val_loss: 0.6769 - val_accuracy: 0.7222\n",
            "Epoch 15/400\n",
            "72/72 [==============================] - 2s 30ms/step - loss: 0.6387 - accuracy: 0.7552 - val_loss: 0.7510 - val_accuracy: 0.7222\n",
            "Epoch 16/400\n",
            "72/72 [==============================] - 2s 27ms/step - loss: 0.6259 - accuracy: 0.7300 - val_loss: 0.6857 - val_accuracy: 0.7222\n",
            "Epoch 17/400\n",
            "72/72 [==============================] - 2s 28ms/step - loss: 0.5974 - accuracy: 0.7700 - val_loss: 0.8318 - val_accuracy: 0.6389\n",
            "Epoch 18/400\n",
            "72/72 [==============================] - 2s 28ms/step - loss: 0.5827 - accuracy: 0.7561 - val_loss: 0.6625 - val_accuracy: 0.6944\n",
            "Epoch 19/400\n",
            "72/72 [==============================] - 2s 27ms/step - loss: 0.5669 - accuracy: 0.7630 - val_loss: 0.6808 - val_accuracy: 0.7222\n",
            "Epoch 20/400\n",
            "72/72 [==============================] - 2s 27ms/step - loss: 0.5405 - accuracy: 0.7726 - val_loss: 0.7412 - val_accuracy: 0.6944\n",
            "Epoch 21/400\n",
            "72/72 [==============================] - 2s 27ms/step - loss: 0.5573 - accuracy: 0.7865 - val_loss: 0.7252 - val_accuracy: 0.6667\n",
            "Epoch 22/400\n",
            "72/72 [==============================] - 2s 28ms/step - loss: 0.4924 - accuracy: 0.7977 - val_loss: 0.8205 - val_accuracy: 0.7222\n",
            "Epoch 23/400\n",
            "72/72 [==============================] - 2s 28ms/step - loss: 0.5493 - accuracy: 0.7786 - val_loss: 0.6659 - val_accuracy: 0.6944\n",
            "Epoch 24/400\n",
            "72/72 [==============================] - 2s 28ms/step - loss: 0.4782 - accuracy: 0.8125 - val_loss: 0.6912 - val_accuracy: 0.6944\n",
            "Epoch 25/400\n",
            "72/72 [==============================] - 2s 28ms/step - loss: 0.4814 - accuracy: 0.8012 - val_loss: 0.6877 - val_accuracy: 0.6111\n",
            "Epoch 26/400\n",
            "72/72 [==============================] - 2s 28ms/step - loss: 0.4630 - accuracy: 0.8099 - val_loss: 0.5610 - val_accuracy: 0.7222\n",
            "Epoch 27/400\n",
            "72/72 [==============================] - 2s 28ms/step - loss: 0.4457 - accuracy: 0.8142 - val_loss: 0.5503 - val_accuracy: 0.7222\n",
            "Epoch 28/400\n",
            "72/72 [==============================] - 2s 28ms/step - loss: 0.4361 - accuracy: 0.8238 - val_loss: 0.6844 - val_accuracy: 0.6667\n",
            "Epoch 29/400\n",
            "72/72 [==============================] - 2s 28ms/step - loss: 0.4346 - accuracy: 0.8238 - val_loss: 0.5650 - val_accuracy: 0.7500\n",
            "Epoch 30/400\n",
            "72/72 [==============================] - 2s 28ms/step - loss: 0.3757 - accuracy: 0.8611 - val_loss: 0.4937 - val_accuracy: 0.7500\n",
            "Epoch 31/400\n",
            "72/72 [==============================] - 2s 28ms/step - loss: 0.3707 - accuracy: 0.8377 - val_loss: 0.5480 - val_accuracy: 0.7500\n",
            "Epoch 32/400\n",
            "72/72 [==============================] - 2s 28ms/step - loss: 0.3764 - accuracy: 0.8377 - val_loss: 0.5483 - val_accuracy: 0.7222\n",
            "Epoch 33/400\n",
            "72/72 [==============================] - 2s 28ms/step - loss: 0.4229 - accuracy: 0.8325 - val_loss: 0.4707 - val_accuracy: 0.7500\n",
            "Epoch 34/400\n",
            "72/72 [==============================] - 2s 28ms/step - loss: 0.3595 - accuracy: 0.8602 - val_loss: 0.6144 - val_accuracy: 0.7500\n",
            "Epoch 35/400\n",
            "72/72 [==============================] - 2s 28ms/step - loss: 0.3650 - accuracy: 0.8628 - val_loss: 0.6025 - val_accuracy: 0.6389\n",
            "Epoch 36/400\n",
            "72/72 [==============================] - 2s 28ms/step - loss: 0.3328 - accuracy: 0.8759 - val_loss: 0.3762 - val_accuracy: 0.8611\n",
            "Epoch 37/400\n",
            "72/72 [==============================] - 2s 28ms/step - loss: 0.3220 - accuracy: 0.8715 - val_loss: 0.4547 - val_accuracy: 0.7500\n",
            "Epoch 38/400\n",
            "72/72 [==============================] - 2s 28ms/step - loss: 0.3596 - accuracy: 0.8516 - val_loss: 0.5613 - val_accuracy: 0.7500\n",
            "Epoch 39/400\n",
            "72/72 [==============================] - 2s 28ms/step - loss: 0.3123 - accuracy: 0.8759 - val_loss: 0.5120 - val_accuracy: 0.7222\n",
            "Epoch 40/400\n",
            "72/72 [==============================] - 2s 28ms/step - loss: 0.3015 - accuracy: 0.8767 - val_loss: 0.4933 - val_accuracy: 0.7778\n",
            "Epoch 41/400\n",
            "72/72 [==============================] - 2s 28ms/step - loss: 0.3124 - accuracy: 0.8776 - val_loss: 0.4235 - val_accuracy: 0.7778\n",
            "Epoch 42/400\n",
            "72/72 [==============================] - 2s 28ms/step - loss: 0.2939 - accuracy: 0.8802 - val_loss: 0.6156 - val_accuracy: 0.7222\n",
            "Epoch 43/400\n",
            "72/72 [==============================] - 2s 28ms/step - loss: 0.2468 - accuracy: 0.9036 - val_loss: 0.4806 - val_accuracy: 0.7500\n",
            "Epoch 44/400\n",
            "72/72 [==============================] - 2s 28ms/step - loss: 0.2961 - accuracy: 0.8776 - val_loss: 0.6137 - val_accuracy: 0.6667\n",
            "Epoch 45/400\n",
            "72/72 [==============================] - 2s 28ms/step - loss: 0.2922 - accuracy: 0.8872 - val_loss: 0.3836 - val_accuracy: 0.8333\n",
            "Epoch 46/400\n",
            "72/72 [==============================] - 2s 28ms/step - loss: 0.2471 - accuracy: 0.9080 - val_loss: 0.4853 - val_accuracy: 0.8333\n",
            "Epoch 47/400\n",
            "72/72 [==============================] - 2s 28ms/step - loss: 0.2221 - accuracy: 0.9141 - val_loss: 0.4605 - val_accuracy: 0.7500\n",
            "Epoch 48/400\n",
            "72/72 [==============================] - 2s 28ms/step - loss: 0.2351 - accuracy: 0.9106 - val_loss: 0.4835 - val_accuracy: 0.8056\n",
            "Epoch 49/400\n",
            "72/72 [==============================] - 2s 28ms/step - loss: 0.2392 - accuracy: 0.9054 - val_loss: 0.4782 - val_accuracy: 0.8056\n",
            "Epoch 50/400\n",
            "72/72 [==============================] - 2s 27ms/step - loss: 0.2192 - accuracy: 0.9149 - val_loss: 0.4955 - val_accuracy: 0.7778\n",
            "Epoch 51/400\n",
            "72/72 [==============================] - 2s 27ms/step - loss: 0.2358 - accuracy: 0.9089 - val_loss: 0.4508 - val_accuracy: 0.8056\n",
            "Epoch 52/400\n",
            "72/72 [==============================] - 2s 27ms/step - loss: 0.2214 - accuracy: 0.9106 - val_loss: 0.4814 - val_accuracy: 0.8056\n",
            "Epoch 53/400\n",
            "72/72 [==============================] - 2s 27ms/step - loss: 0.2038 - accuracy: 0.9314 - val_loss: 0.4618 - val_accuracy: 0.8056\n",
            "Epoch 54/400\n",
            "72/72 [==============================] - 2s 27ms/step - loss: 0.2094 - accuracy: 0.9219 - val_loss: 0.5274 - val_accuracy: 0.7222\n",
            "Epoch 55/400\n",
            "72/72 [==============================] - 2s 28ms/step - loss: 0.2083 - accuracy: 0.9167 - val_loss: 0.6267 - val_accuracy: 0.7500\n",
            "Epoch 56/400\n",
            "72/72 [==============================] - 2s 28ms/step - loss: 0.1998 - accuracy: 0.9288 - val_loss: 0.5352 - val_accuracy: 0.8333\n",
            "Epoch 57/400\n",
            "72/72 [==============================] - 2s 28ms/step - loss: 0.2012 - accuracy: 0.9288 - val_loss: 0.6078 - val_accuracy: 0.6944\n",
            "Epoch 58/400\n",
            "72/72 [==============================] - 2s 28ms/step - loss: 0.2197 - accuracy: 0.9175 - val_loss: 0.3361 - val_accuracy: 0.8611\n",
            "Epoch 59/400\n",
            "72/72 [==============================] - 2s 28ms/step - loss: 0.1933 - accuracy: 0.9184 - val_loss: 0.4518 - val_accuracy: 0.7778\n",
            "Epoch 60/400\n",
            "72/72 [==============================] - 2s 28ms/step - loss: 0.1737 - accuracy: 0.9314 - val_loss: 0.4108 - val_accuracy: 0.8333\n",
            "Epoch 61/400\n",
            "72/72 [==============================] - 2s 28ms/step - loss: 0.1600 - accuracy: 0.9358 - val_loss: 0.4045 - val_accuracy: 0.8611\n",
            "Epoch 62/400\n",
            "72/72 [==============================] - 2s 27ms/step - loss: 0.1620 - accuracy: 0.9384 - val_loss: 0.3320 - val_accuracy: 0.8611\n",
            "Epoch 63/400\n",
            "72/72 [==============================] - 2s 28ms/step - loss: 0.1574 - accuracy: 0.9410 - val_loss: 0.3990 - val_accuracy: 0.8056\n",
            "Epoch 64/400\n",
            "72/72 [==============================] - 2s 28ms/step - loss: 0.1678 - accuracy: 0.9306 - val_loss: 0.5547 - val_accuracy: 0.7778\n",
            "Epoch 65/400\n",
            "72/72 [==============================] - 2s 28ms/step - loss: 0.1790 - accuracy: 0.9227 - val_loss: 0.5224 - val_accuracy: 0.7778\n",
            "Epoch 66/400\n",
            "72/72 [==============================] - 2s 28ms/step - loss: 0.1533 - accuracy: 0.9453 - val_loss: 0.3682 - val_accuracy: 0.8056\n",
            "Epoch 67/400\n",
            "72/72 [==============================] - 2s 28ms/step - loss: 0.1392 - accuracy: 0.9470 - val_loss: 0.4420 - val_accuracy: 0.8333\n",
            "Epoch 68/400\n",
            "72/72 [==============================] - 2s 28ms/step - loss: 0.1588 - accuracy: 0.9392 - val_loss: 0.5141 - val_accuracy: 0.8056\n",
            "Epoch 69/400\n",
            "72/72 [==============================] - 2s 28ms/step - loss: 0.1477 - accuracy: 0.9401 - val_loss: 0.3726 - val_accuracy: 0.8611\n",
            "Epoch 70/400\n",
            "72/72 [==============================] - 2s 28ms/step - loss: 0.1195 - accuracy: 0.9549 - val_loss: 0.5311 - val_accuracy: 0.7778\n",
            "Epoch 71/400\n",
            "72/72 [==============================] - 2s 28ms/step - loss: 0.1272 - accuracy: 0.9566 - val_loss: 0.4061 - val_accuracy: 0.8611\n",
            "Epoch 72/400\n",
            "72/72 [==============================] - 2s 28ms/step - loss: 0.1456 - accuracy: 0.9497 - val_loss: 0.3483 - val_accuracy: 0.8611\n",
            "Epoch 73/400\n",
            "72/72 [==============================] - 2s 28ms/step - loss: 0.1523 - accuracy: 0.9436 - val_loss: 0.3219 - val_accuracy: 0.9167\n",
            "Epoch 74/400\n",
            "72/72 [==============================] - 2s 28ms/step - loss: 0.1437 - accuracy: 0.9488 - val_loss: 0.5023 - val_accuracy: 0.8056\n",
            "Epoch 75/400\n",
            "72/72 [==============================] - 2s 29ms/step - loss: 0.1238 - accuracy: 0.9505 - val_loss: 0.3906 - val_accuracy: 0.8333\n",
            "Epoch 76/400\n",
            "72/72 [==============================] - 2s 28ms/step - loss: 0.1067 - accuracy: 0.9609 - val_loss: 0.4564 - val_accuracy: 0.8056\n",
            "Epoch 77/400\n",
            "72/72 [==============================] - 2s 28ms/step - loss: 0.1099 - accuracy: 0.9627 - val_loss: 0.5495 - val_accuracy: 0.7222\n",
            "Epoch 78/400\n",
            "72/72 [==============================] - 2s 27ms/step - loss: 0.1129 - accuracy: 0.9575 - val_loss: 0.4656 - val_accuracy: 0.7778\n",
            "Epoch 79/400\n",
            "72/72 [==============================] - 2s 28ms/step - loss: 0.0867 - accuracy: 0.9688 - val_loss: 0.4598 - val_accuracy: 0.7778\n",
            "Epoch 80/400\n",
            "72/72 [==============================] - 2s 28ms/step - loss: 0.0949 - accuracy: 0.9670 - val_loss: 0.4902 - val_accuracy: 0.7500\n",
            "Epoch 81/400\n",
            "72/72 [==============================] - 2s 28ms/step - loss: 0.0964 - accuracy: 0.9653 - val_loss: 0.7136 - val_accuracy: 0.7500\n",
            "Epoch 82/400\n",
            "72/72 [==============================] - 2s 28ms/step - loss: 0.0979 - accuracy: 0.9688 - val_loss: 0.4253 - val_accuracy: 0.8056\n",
            "Epoch 83/400\n",
            "72/72 [==============================] - 2s 28ms/step - loss: 0.1032 - accuracy: 0.9627 - val_loss: 0.4923 - val_accuracy: 0.7778\n",
            "Epoch 84/400\n",
            "72/72 [==============================] - 2s 28ms/step - loss: 0.0926 - accuracy: 0.9722 - val_loss: 0.4731 - val_accuracy: 0.7778\n",
            "Epoch 85/400\n",
            "72/72 [==============================] - 2s 28ms/step - loss: 0.0942 - accuracy: 0.9705 - val_loss: 0.4876 - val_accuracy: 0.8611\n",
            "Epoch 86/400\n",
            "72/72 [==============================] - 2s 28ms/step - loss: 0.0993 - accuracy: 0.9653 - val_loss: 0.4856 - val_accuracy: 0.8333\n",
            "Epoch 87/400\n",
            "72/72 [==============================] - 2s 28ms/step - loss: 0.0651 - accuracy: 0.9844 - val_loss: 0.5616 - val_accuracy: 0.7778\n",
            "Epoch 88/400\n",
            "72/72 [==============================] - 2s 28ms/step - loss: 0.0956 - accuracy: 0.9670 - val_loss: 0.3418 - val_accuracy: 0.8056\n",
            "Epoch 89/400\n",
            "72/72 [==============================] - 2s 28ms/step - loss: 0.0762 - accuracy: 0.9766 - val_loss: 0.5243 - val_accuracy: 0.8056\n",
            "Epoch 90/400\n",
            "72/72 [==============================] - 2s 28ms/step - loss: 0.0781 - accuracy: 0.9783 - val_loss: 0.5243 - val_accuracy: 0.8333\n",
            "Epoch 91/400\n",
            "72/72 [==============================] - 2s 28ms/step - loss: 0.0650 - accuracy: 0.9792 - val_loss: 0.4997 - val_accuracy: 0.8333\n",
            "Epoch 92/400\n",
            "72/72 [==============================] - 2s 28ms/step - loss: 0.0933 - accuracy: 0.9661 - val_loss: 0.4339 - val_accuracy: 0.8056\n",
            "Epoch 93/400\n",
            "72/72 [==============================] - 2s 28ms/step - loss: 0.0799 - accuracy: 0.9714 - val_loss: 0.3775 - val_accuracy: 0.8056\n",
            "Epoch 94/400\n",
            "72/72 [==============================] - 2s 29ms/step - loss: 0.0713 - accuracy: 0.9731 - val_loss: 0.3036 - val_accuracy: 0.9167\n",
            "Epoch 95/400\n",
            "72/72 [==============================] - 2s 28ms/step - loss: 0.0848 - accuracy: 0.9679 - val_loss: 0.5382 - val_accuracy: 0.7500\n",
            "Epoch 96/400\n",
            "72/72 [==============================] - 2s 28ms/step - loss: 0.0827 - accuracy: 0.9714 - val_loss: 0.4499 - val_accuracy: 0.7778\n",
            "Epoch 97/400\n",
            "72/72 [==============================] - 2s 28ms/step - loss: 0.1053 - accuracy: 0.9575 - val_loss: 0.6421 - val_accuracy: 0.7500\n",
            "Epoch 98/400\n",
            "72/72 [==============================] - 2s 28ms/step - loss: 0.0854 - accuracy: 0.9688 - val_loss: 0.5305 - val_accuracy: 0.7778\n",
            "Epoch 99/400\n",
            "72/72 [==============================] - 2s 29ms/step - loss: 0.0747 - accuracy: 0.9714 - val_loss: 0.3834 - val_accuracy: 0.8056\n",
            "Epoch 100/400\n",
            "72/72 [==============================] - 2s 29ms/step - loss: 0.0736 - accuracy: 0.9792 - val_loss: 0.4817 - val_accuracy: 0.8056\n",
            "Epoch 101/400\n",
            "72/72 [==============================] - 2s 28ms/step - loss: 0.0781 - accuracy: 0.9722 - val_loss: 0.4851 - val_accuracy: 0.7778\n",
            "Epoch 102/400\n",
            "72/72 [==============================] - 2s 28ms/step - loss: 0.1081 - accuracy: 0.9575 - val_loss: 0.3276 - val_accuracy: 0.8611\n",
            "Epoch 103/400\n",
            "72/72 [==============================] - 2s 28ms/step - loss: 0.0915 - accuracy: 0.9688 - val_loss: 0.4600 - val_accuracy: 0.8333\n",
            "Epoch 104/400\n",
            "72/72 [==============================] - 2s 28ms/step - loss: 0.0555 - accuracy: 0.9861 - val_loss: 0.6275 - val_accuracy: 0.7500\n",
            "Epoch 105/400\n",
            "72/72 [==============================] - 2s 28ms/step - loss: 0.0587 - accuracy: 0.9844 - val_loss: 0.4466 - val_accuracy: 0.8056\n",
            "Epoch 106/400\n",
            "72/72 [==============================] - 2s 28ms/step - loss: 0.0589 - accuracy: 0.9792 - val_loss: 0.5469 - val_accuracy: 0.7500\n",
            "Epoch 107/400\n",
            "72/72 [==============================] - 2s 28ms/step - loss: 0.0571 - accuracy: 0.9800 - val_loss: 0.5154 - val_accuracy: 0.8056\n",
            "Epoch 108/400\n",
            "72/72 [==============================] - 2s 28ms/step - loss: 0.0572 - accuracy: 0.9783 - val_loss: 0.5810 - val_accuracy: 0.8056\n",
            "Epoch 109/400\n",
            "72/72 [==============================] - 2s 28ms/step - loss: 0.0549 - accuracy: 0.9783 - val_loss: 0.5384 - val_accuracy: 0.8056\n",
            "Epoch 110/400\n",
            "72/72 [==============================] - 2s 28ms/step - loss: 0.0524 - accuracy: 0.9826 - val_loss: 0.3770 - val_accuracy: 0.8333\n",
            "Epoch 111/400\n",
            "72/72 [==============================] - 2s 29ms/step - loss: 0.0645 - accuracy: 0.9818 - val_loss: 0.6587 - val_accuracy: 0.7500\n",
            "Epoch 112/400\n",
            "72/72 [==============================] - 2s 28ms/step - loss: 0.0569 - accuracy: 0.9818 - val_loss: 0.4728 - val_accuracy: 0.8611\n",
            "Epoch 113/400\n",
            "72/72 [==============================] - 2s 28ms/step - loss: 0.0599 - accuracy: 0.9800 - val_loss: 0.4494 - val_accuracy: 0.8333\n",
            "Epoch 114/400\n",
            "72/72 [==============================] - 2s 28ms/step - loss: 0.0339 - accuracy: 0.9939 - val_loss: 0.5100 - val_accuracy: 0.8056\n",
            "Epoch 115/400\n",
            "72/72 [==============================] - 2s 28ms/step - loss: 0.0691 - accuracy: 0.9714 - val_loss: 0.5570 - val_accuracy: 0.8056\n",
            "Epoch 116/400\n",
            "72/72 [==============================] - 2s 28ms/step - loss: 0.0513 - accuracy: 0.9826 - val_loss: 0.5472 - val_accuracy: 0.7500\n",
            "Epoch 117/400\n",
            "72/72 [==============================] - 2s 28ms/step - loss: 0.0489 - accuracy: 0.9826 - val_loss: 0.6639 - val_accuracy: 0.7778\n",
            "Epoch 118/400\n",
            "72/72 [==============================] - 2s 28ms/step - loss: 0.0487 - accuracy: 0.9852 - val_loss: 0.4489 - val_accuracy: 0.8611\n",
            "Epoch 119/400\n",
            "72/72 [==============================] - 2s 28ms/step - loss: 0.0504 - accuracy: 0.9878 - val_loss: 0.6061 - val_accuracy: 0.8056\n",
            "Epoch 120/400\n",
            "72/72 [==============================] - 2s 28ms/step - loss: 0.0520 - accuracy: 0.9818 - val_loss: 0.4896 - val_accuracy: 0.8056\n",
            "Epoch 121/400\n",
            "72/72 [==============================] - 2s 28ms/step - loss: 0.0435 - accuracy: 0.9861 - val_loss: 0.5378 - val_accuracy: 0.8056\n",
            "Epoch 122/400\n",
            "72/72 [==============================] - 2s 28ms/step - loss: 0.0344 - accuracy: 0.9896 - val_loss: 0.4394 - val_accuracy: 0.8611\n",
            "Epoch 123/400\n",
            "72/72 [==============================] - 2s 28ms/step - loss: 0.0533 - accuracy: 0.9826 - val_loss: 0.6531 - val_accuracy: 0.7778\n",
            "Epoch 124/400\n",
            "72/72 [==============================] - 2s 28ms/step - loss: 0.0455 - accuracy: 0.9870 - val_loss: 0.5609 - val_accuracy: 0.7778\n",
            "Epoch 125/400\n",
            "72/72 [==============================] - 2s 28ms/step - loss: 0.0643 - accuracy: 0.9740 - val_loss: 0.5111 - val_accuracy: 0.8056\n",
            "Epoch 126/400\n",
            "72/72 [==============================] - 2s 28ms/step - loss: 0.0544 - accuracy: 0.9818 - val_loss: 0.4754 - val_accuracy: 0.8056\n",
            "Epoch 127/400\n",
            "72/72 [==============================] - 2s 28ms/step - loss: 0.0642 - accuracy: 0.9766 - val_loss: 0.3622 - val_accuracy: 0.8611\n",
            "Epoch 128/400\n",
            "72/72 [==============================] - 2s 28ms/step - loss: 0.0509 - accuracy: 0.9809 - val_loss: 0.4050 - val_accuracy: 0.8611\n",
            "Epoch 129/400\n",
            "72/72 [==============================] - 2s 28ms/step - loss: 0.0367 - accuracy: 0.9931 - val_loss: 0.5471 - val_accuracy: 0.8056\n",
            "Epoch 130/400\n",
            "72/72 [==============================] - 2s 28ms/step - loss: 0.0414 - accuracy: 0.9870 - val_loss: 0.4772 - val_accuracy: 0.8333\n",
            "Epoch 131/400\n",
            "72/72 [==============================] - 2s 28ms/step - loss: 0.0318 - accuracy: 0.9896 - val_loss: 0.7112 - val_accuracy: 0.7500\n",
            "Epoch 132/400\n",
            "72/72 [==============================] - 2s 28ms/step - loss: 0.0273 - accuracy: 0.9957 - val_loss: 0.5049 - val_accuracy: 0.8333\n",
            "Epoch 133/400\n",
            "72/72 [==============================] - 2s 28ms/step - loss: 0.0340 - accuracy: 0.9905 - val_loss: 0.4253 - val_accuracy: 0.8611\n",
            "Epoch 134/400\n",
            "72/72 [==============================] - 2s 29ms/step - loss: 0.0378 - accuracy: 0.9870 - val_loss: 0.7933 - val_accuracy: 0.7500\n",
            "Epoch 135/400\n",
            "72/72 [==============================] - 2s 28ms/step - loss: 0.0589 - accuracy: 0.9757 - val_loss: 0.4756 - val_accuracy: 0.7778\n",
            "Epoch 136/400\n",
            "72/72 [==============================] - 2s 29ms/step - loss: 0.0508 - accuracy: 0.9852 - val_loss: 0.7075 - val_accuracy: 0.7500\n",
            "Epoch 137/400\n",
            "72/72 [==============================] - 2s 29ms/step - loss: 0.0549 - accuracy: 0.9818 - val_loss: 0.6826 - val_accuracy: 0.7500\n",
            "Epoch 138/400\n",
            "72/72 [==============================] - 2s 28ms/step - loss: 0.0406 - accuracy: 0.9896 - val_loss: 0.4976 - val_accuracy: 0.7778\n",
            "Epoch 139/400\n",
            "72/72 [==============================] - 2s 28ms/step - loss: 0.0730 - accuracy: 0.9748 - val_loss: 0.5014 - val_accuracy: 0.7778\n",
            "Epoch 140/400\n",
            "72/72 [==============================] - 2s 29ms/step - loss: 0.0593 - accuracy: 0.9748 - val_loss: 0.3338 - val_accuracy: 0.8889\n",
            "Epoch 141/400\n",
            "72/72 [==============================] - 2s 28ms/step - loss: 0.0358 - accuracy: 0.9887 - val_loss: 0.3479 - val_accuracy: 0.8611\n",
            "Epoch 142/400\n",
            "72/72 [==============================] - 2s 29ms/step - loss: 0.0376 - accuracy: 0.9878 - val_loss: 0.3696 - val_accuracy: 0.8333\n",
            "Epoch 143/400\n",
            "72/72 [==============================] - 2s 28ms/step - loss: 0.0381 - accuracy: 0.9861 - val_loss: 0.5657 - val_accuracy: 0.7778\n",
            "Epoch 144/400\n",
            "72/72 [==============================] - 2s 28ms/step - loss: 0.0354 - accuracy: 0.9887 - val_loss: 0.5439 - val_accuracy: 0.8056\n",
            "Epoch 145/400\n",
            "72/72 [==============================] - 2s 28ms/step - loss: 0.0318 - accuracy: 0.9896 - val_loss: 0.4367 - val_accuracy: 0.8611\n",
            "Epoch 146/400\n",
            "72/72 [==============================] - 2s 28ms/step - loss: 0.0237 - accuracy: 0.9965 - val_loss: 0.5204 - val_accuracy: 0.7778\n",
            "Epoch 147/400\n",
            "72/72 [==============================] - 2s 28ms/step - loss: 0.0220 - accuracy: 0.9922 - val_loss: 0.5044 - val_accuracy: 0.8333\n",
            "Epoch 148/400\n",
            "72/72 [==============================] - 2s 28ms/step - loss: 0.0250 - accuracy: 0.9922 - val_loss: 0.3140 - val_accuracy: 0.8889\n",
            "Epoch 149/400\n",
            "72/72 [==============================] - 2s 29ms/step - loss: 0.0184 - accuracy: 0.9974 - val_loss: 0.4802 - val_accuracy: 0.8333\n",
            "Epoch 150/400\n",
            "72/72 [==============================] - 2s 28ms/step - loss: 0.0236 - accuracy: 0.9931 - val_loss: 0.5770 - val_accuracy: 0.8333\n",
            "Epoch 151/400\n",
            "72/72 [==============================] - 2s 28ms/step - loss: 0.0515 - accuracy: 0.9792 - val_loss: 0.5332 - val_accuracy: 0.8333\n",
            "Epoch 152/400\n",
            "72/72 [==============================] - 2s 28ms/step - loss: 0.0446 - accuracy: 0.9878 - val_loss: 0.5853 - val_accuracy: 0.7778\n",
            "Epoch 153/400\n",
            "72/72 [==============================] - 2s 29ms/step - loss: 0.0457 - accuracy: 0.9826 - val_loss: 0.4409 - val_accuracy: 0.8889\n",
            "Epoch 154/400\n",
            "72/72 [==============================] - 2s 28ms/step - loss: 0.0451 - accuracy: 0.9826 - val_loss: 0.4349 - val_accuracy: 0.8611\n",
            "Epoch 155/400\n",
            "72/72 [==============================] - 2s 29ms/step - loss: 0.0341 - accuracy: 0.9905 - val_loss: 0.5357 - val_accuracy: 0.7778\n",
            "Epoch 156/400\n",
            "72/72 [==============================] - 2s 28ms/step - loss: 0.0364 - accuracy: 0.9844 - val_loss: 0.4816 - val_accuracy: 0.8056\n",
            "Epoch 157/400\n",
            "72/72 [==============================] - 2s 28ms/step - loss: 0.0320 - accuracy: 0.9905 - val_loss: 0.5985 - val_accuracy: 0.7222\n",
            "Epoch 158/400\n",
            "72/72 [==============================] - 2s 28ms/step - loss: 0.0315 - accuracy: 0.9905 - val_loss: 0.4019 - val_accuracy: 0.8611\n",
            "Epoch 159/400\n",
            "72/72 [==============================] - 2s 29ms/step - loss: 0.0209 - accuracy: 0.9957 - val_loss: 0.3856 - val_accuracy: 0.9167\n",
            "Epoch 160/400\n",
            "72/72 [==============================] - 2s 28ms/step - loss: 0.0236 - accuracy: 0.9939 - val_loss: 0.3863 - val_accuracy: 0.8333\n",
            "Epoch 161/400\n",
            "72/72 [==============================] - 2s 28ms/step - loss: 0.0211 - accuracy: 0.9948 - val_loss: 0.4266 - val_accuracy: 0.8056\n",
            "Epoch 162/400\n",
            "72/72 [==============================] - 2s 28ms/step - loss: 0.0193 - accuracy: 0.9948 - val_loss: 0.4012 - val_accuracy: 0.8056\n",
            "Epoch 163/400\n",
            "72/72 [==============================] - 2s 28ms/step - loss: 0.0239 - accuracy: 0.9913 - val_loss: 0.5126 - val_accuracy: 0.7778\n",
            "Epoch 164/400\n",
            "72/72 [==============================] - 2s 28ms/step - loss: 0.0312 - accuracy: 0.9870 - val_loss: 0.8217 - val_accuracy: 0.7222\n",
            "Epoch 165/400\n",
            "72/72 [==============================] - 2s 28ms/step - loss: 0.0355 - accuracy: 0.9870 - val_loss: 0.6220 - val_accuracy: 0.7778\n",
            "Epoch 166/400\n",
            "72/72 [==============================] - 2s 29ms/step - loss: 0.0388 - accuracy: 0.9870 - val_loss: 0.5390 - val_accuracy: 0.8056\n",
            "Epoch 167/400\n",
            "72/72 [==============================] - 2s 28ms/step - loss: 0.0391 - accuracy: 0.9887 - val_loss: 0.4210 - val_accuracy: 0.8333\n",
            "Epoch 168/400\n",
            "72/72 [==============================] - 2s 28ms/step - loss: 0.0201 - accuracy: 0.9965 - val_loss: 0.5549 - val_accuracy: 0.8056\n",
            "Epoch 169/400\n",
            "72/72 [==============================] - 2s 28ms/step - loss: 0.0527 - accuracy: 0.9800 - val_loss: 0.3625 - val_accuracy: 0.8333\n",
            "Epoch 170/400\n",
            "72/72 [==============================] - 2s 28ms/step - loss: 0.0388 - accuracy: 0.9852 - val_loss: 0.3971 - val_accuracy: 0.8333\n",
            "Epoch 171/400\n",
            "72/72 [==============================] - 2s 28ms/step - loss: 0.0493 - accuracy: 0.9852 - val_loss: 0.6171 - val_accuracy: 0.7778\n",
            "Epoch 172/400\n",
            "72/72 [==============================] - 2s 29ms/step - loss: 0.0403 - accuracy: 0.9913 - val_loss: 0.5582 - val_accuracy: 0.8333\n",
            "Epoch 173/400\n",
            "72/72 [==============================] - 2s 29ms/step - loss: 0.0208 - accuracy: 0.9948 - val_loss: 0.5899 - val_accuracy: 0.8056\n",
            "Epoch 174/400\n",
            "72/72 [==============================] - 2s 29ms/step - loss: 0.0186 - accuracy: 0.9965 - val_loss: 0.7625 - val_accuracy: 0.7778\n",
            "Epoch 175/400\n",
            "72/72 [==============================] - 2s 29ms/step - loss: 0.0192 - accuracy: 0.9957 - val_loss: 0.4903 - val_accuracy: 0.7778\n",
            "Epoch 176/400\n",
            "72/72 [==============================] - 2s 28ms/step - loss: 0.0134 - accuracy: 0.9983 - val_loss: 0.5133 - val_accuracy: 0.8333\n",
            "Epoch 177/400\n",
            "72/72 [==============================] - 2s 28ms/step - loss: 0.0147 - accuracy: 0.9974 - val_loss: 0.4886 - val_accuracy: 0.7778\n",
            "Epoch 178/400\n",
            "72/72 [==============================] - 2s 29ms/step - loss: 0.0219 - accuracy: 0.9948 - val_loss: 0.5751 - val_accuracy: 0.7222\n",
            "Epoch 179/400\n",
            "72/72 [==============================] - 2s 28ms/step - loss: 0.0189 - accuracy: 0.9957 - val_loss: 0.6220 - val_accuracy: 0.8333\n",
            "Epoch 180/400\n",
            "72/72 [==============================] - 2s 28ms/step - loss: 0.0186 - accuracy: 0.9948 - val_loss: 0.5956 - val_accuracy: 0.8056\n",
            "Epoch 181/400\n",
            "72/72 [==============================] - 2s 28ms/step - loss: 0.0098 - accuracy: 0.9983 - val_loss: 0.5042 - val_accuracy: 0.8056\n",
            "Epoch 182/400\n",
            "72/72 [==============================] - 2s 28ms/step - loss: 0.0162 - accuracy: 0.9948 - val_loss: 0.5071 - val_accuracy: 0.8611\n",
            "Epoch 183/400\n",
            "72/72 [==============================] - 2s 28ms/step - loss: 0.0179 - accuracy: 0.9957 - val_loss: 0.6052 - val_accuracy: 0.7778\n",
            "Epoch 184/400\n",
            "72/72 [==============================] - 2s 28ms/step - loss: 0.0267 - accuracy: 0.9939 - val_loss: 0.5189 - val_accuracy: 0.7778\n",
            "Epoch 185/400\n",
            "72/72 [==============================] - 2s 28ms/step - loss: 0.0164 - accuracy: 0.9983 - val_loss: 0.6605 - val_accuracy: 0.8333\n",
            "Epoch 186/400\n",
            "72/72 [==============================] - 2s 28ms/step - loss: 0.0398 - accuracy: 0.9878 - val_loss: 0.5882 - val_accuracy: 0.7778\n",
            "Epoch 187/400\n",
            "72/72 [==============================] - 2s 28ms/step - loss: 0.0275 - accuracy: 0.9922 - val_loss: 0.5827 - val_accuracy: 0.8611\n",
            "Epoch 188/400\n",
            "72/72 [==============================] - 2s 28ms/step - loss: 0.0171 - accuracy: 0.9957 - val_loss: 0.6352 - val_accuracy: 0.7500\n",
            "Epoch 189/400\n",
            "72/72 [==============================] - 2s 28ms/step - loss: 0.0177 - accuracy: 0.9965 - val_loss: 0.7284 - val_accuracy: 0.7500\n",
            "Epoch 190/400\n",
            "72/72 [==============================] - 2s 28ms/step - loss: 0.0192 - accuracy: 0.9948 - val_loss: 0.6799 - val_accuracy: 0.8056\n",
            "Epoch 191/400\n",
            "72/72 [==============================] - 2s 29ms/step - loss: 0.0246 - accuracy: 0.9922 - val_loss: 1.0466 - val_accuracy: 0.7222\n",
            "Epoch 192/400\n",
            "72/72 [==============================] - 2s 28ms/step - loss: 0.0346 - accuracy: 0.9852 - val_loss: 0.9024 - val_accuracy: 0.7500\n",
            "Epoch 193/400\n",
            "72/72 [==============================] - 2s 29ms/step - loss: 0.0473 - accuracy: 0.9835 - val_loss: 0.4386 - val_accuracy: 0.8611\n",
            "Epoch 194/400\n",
            "72/72 [==============================] - 2s 29ms/step - loss: 0.0335 - accuracy: 0.9896 - val_loss: 0.4635 - val_accuracy: 0.8611\n",
            "Epoch 195/400\n",
            "72/72 [==============================] - 2s 29ms/step - loss: 0.0394 - accuracy: 0.9835 - val_loss: 0.4814 - val_accuracy: 0.8056\n",
            "Epoch 196/400\n",
            "72/72 [==============================] - 2s 29ms/step - loss: 0.0218 - accuracy: 0.9931 - val_loss: 0.5043 - val_accuracy: 0.8611\n",
            "Epoch 197/400\n",
            "72/72 [==============================] - 2s 29ms/step - loss: 0.0319 - accuracy: 0.9861 - val_loss: 0.5385 - val_accuracy: 0.8056\n",
            "Epoch 198/400\n",
            "72/72 [==============================] - 2s 28ms/step - loss: 0.0260 - accuracy: 0.9905 - val_loss: 0.4500 - val_accuracy: 0.8611\n",
            "Epoch 199/400\n",
            "72/72 [==============================] - 2s 28ms/step - loss: 0.0264 - accuracy: 0.9922 - val_loss: 0.7303 - val_accuracy: 0.7778\n",
            "Epoch 200/400\n",
            "72/72 [==============================] - 2s 29ms/step - loss: 0.0361 - accuracy: 0.9887 - val_loss: 0.6372 - val_accuracy: 0.7500\n",
            "Epoch 201/400\n",
            "72/72 [==============================] - 2s 29ms/step - loss: 0.0350 - accuracy: 0.9878 - val_loss: 0.6958 - val_accuracy: 0.7500\n",
            "Epoch 202/400\n",
            "72/72 [==============================] - 2s 29ms/step - loss: 0.0213 - accuracy: 0.9957 - val_loss: 0.6887 - val_accuracy: 0.7500\n",
            "Epoch 203/400\n",
            "72/72 [==============================] - 2s 28ms/step - loss: 0.0172 - accuracy: 0.9957 - val_loss: 0.8921 - val_accuracy: 0.7500\n",
            "Epoch 204/400\n",
            "72/72 [==============================] - 2s 28ms/step - loss: 0.0210 - accuracy: 0.9948 - val_loss: 0.6175 - val_accuracy: 0.7778\n",
            "Epoch 205/400\n",
            "72/72 [==============================] - 2s 29ms/step - loss: 0.0139 - accuracy: 0.9965 - val_loss: 0.6269 - val_accuracy: 0.8056\n",
            "Epoch 206/400\n",
            "72/72 [==============================] - 2s 29ms/step - loss: 0.0111 - accuracy: 0.9983 - val_loss: 0.6942 - val_accuracy: 0.7500\n",
            "Epoch 207/400\n",
            "72/72 [==============================] - 2s 29ms/step - loss: 0.0070 - accuracy: 0.9991 - val_loss: 0.5458 - val_accuracy: 0.7500\n",
            "Epoch 208/400\n",
            "72/72 [==============================] - 2s 29ms/step - loss: 0.0077 - accuracy: 0.9974 - val_loss: 0.6330 - val_accuracy: 0.7778\n",
            "Epoch 209/400\n",
            "72/72 [==============================] - 2s 29ms/step - loss: 0.0096 - accuracy: 0.9991 - val_loss: 0.7171 - val_accuracy: 0.7778\n",
            "Epoch 210/400\n",
            "72/72 [==============================] - 2s 29ms/step - loss: 0.0139 - accuracy: 0.9991 - val_loss: 0.6440 - val_accuracy: 0.7500\n",
            "Epoch 211/400\n",
            "72/72 [==============================] - 2s 29ms/step - loss: 0.0111 - accuracy: 0.9983 - val_loss: 0.5269 - val_accuracy: 0.7778\n",
            "Epoch 212/400\n",
            "72/72 [==============================] - 2s 29ms/step - loss: 0.0099 - accuracy: 0.9983 - val_loss: 0.6728 - val_accuracy: 0.7500\n",
            "Epoch 213/400\n",
            "72/72 [==============================] - 2s 29ms/step - loss: 0.0371 - accuracy: 0.9878 - val_loss: 0.4328 - val_accuracy: 0.7222\n",
            "Epoch 214/400\n",
            "72/72 [==============================] - 2s 29ms/step - loss: 0.0296 - accuracy: 0.9870 - val_loss: 0.7351 - val_accuracy: 0.7778\n",
            "Epoch 215/400\n",
            "72/72 [==============================] - 2s 29ms/step - loss: 0.0241 - accuracy: 0.9957 - val_loss: 0.7767 - val_accuracy: 0.7500\n",
            "Epoch 216/400\n",
            "72/72 [==============================] - 2s 29ms/step - loss: 0.0238 - accuracy: 0.9913 - val_loss: 0.9461 - val_accuracy: 0.7500\n",
            "Epoch 217/400\n",
            "72/72 [==============================] - 2s 29ms/step - loss: 0.0205 - accuracy: 0.9939 - val_loss: 0.7244 - val_accuracy: 0.7778\n",
            "Epoch 218/400\n",
            "72/72 [==============================] - 2s 29ms/step - loss: 0.0262 - accuracy: 0.9896 - val_loss: 0.8581 - val_accuracy: 0.7500\n",
            "Epoch 219/400\n",
            "72/72 [==============================] - 2s 29ms/step - loss: 0.0222 - accuracy: 0.9913 - val_loss: 0.5492 - val_accuracy: 0.7500\n",
            "Epoch 220/400\n",
            "72/72 [==============================] - 2s 28ms/step - loss: 0.0103 - accuracy: 0.9991 - val_loss: 0.4953 - val_accuracy: 0.8056\n",
            "Epoch 221/400\n",
            "72/72 [==============================] - 2s 28ms/step - loss: 0.0044 - accuracy: 1.0000 - val_loss: 0.5609 - val_accuracy: 0.7500\n",
            "Epoch 222/400\n",
            "72/72 [==============================] - 2s 29ms/step - loss: 0.0147 - accuracy: 0.9957 - val_loss: 0.6361 - val_accuracy: 0.7778\n",
            "Epoch 223/400\n",
            "72/72 [==============================] - 2s 29ms/step - loss: 0.0154 - accuracy: 0.9957 - val_loss: 0.8092 - val_accuracy: 0.7500\n",
            "Epoch 224/400\n",
            "72/72 [==============================] - 2s 29ms/step - loss: 0.0229 - accuracy: 0.9887 - val_loss: 0.6207 - val_accuracy: 0.7222\n",
            "Epoch 225/400\n",
            "72/72 [==============================] - 2s 28ms/step - loss: 0.0287 - accuracy: 0.9931 - val_loss: 0.4930 - val_accuracy: 0.8056\n",
            "Epoch 226/400\n",
            "72/72 [==============================] - 2s 29ms/step - loss: 0.0277 - accuracy: 0.9878 - val_loss: 0.8045 - val_accuracy: 0.7500\n",
            "Epoch 227/400\n",
            "72/72 [==============================] - 2s 28ms/step - loss: 0.0187 - accuracy: 0.9948 - val_loss: 0.6289 - val_accuracy: 0.7500\n",
            "Epoch 228/400\n",
            "72/72 [==============================] - 2s 28ms/step - loss: 0.0293 - accuracy: 0.9905 - val_loss: 0.8266 - val_accuracy: 0.7500\n",
            "Epoch 229/400\n",
            "72/72 [==============================] - 2s 29ms/step - loss: 0.0224 - accuracy: 0.9931 - val_loss: 0.7452 - val_accuracy: 0.8056\n",
            "Epoch 230/400\n",
            "72/72 [==============================] - 2s 29ms/step - loss: 0.0110 - accuracy: 0.9991 - val_loss: 0.4778 - val_accuracy: 0.7778\n",
            "Epoch 231/400\n",
            "72/72 [==============================] - 2s 29ms/step - loss: 0.0119 - accuracy: 0.9983 - val_loss: 0.5299 - val_accuracy: 0.8056\n",
            "Epoch 232/400\n",
            "72/72 [==============================] - 2s 29ms/step - loss: 0.0113 - accuracy: 0.9957 - val_loss: 0.5898 - val_accuracy: 0.8056\n",
            "Epoch 233/400\n",
            "72/72 [==============================] - 2s 29ms/step - loss: 0.0042 - accuracy: 1.0000 - val_loss: 0.5839 - val_accuracy: 0.8056\n",
            "Epoch 234/400\n",
            "72/72 [==============================] - 2s 29ms/step - loss: 0.0047 - accuracy: 1.0000 - val_loss: 0.7053 - val_accuracy: 0.7778\n",
            "Epoch 235/400\n",
            "72/72 [==============================] - 2s 29ms/step - loss: 0.0115 - accuracy: 0.9974 - val_loss: 0.5464 - val_accuracy: 0.8611\n",
            "Epoch 236/400\n",
            "72/72 [==============================] - 2s 29ms/step - loss: 0.0135 - accuracy: 0.9957 - val_loss: 0.7904 - val_accuracy: 0.8333\n",
            "Epoch 237/400\n",
            "72/72 [==============================] - 2s 29ms/step - loss: 0.0226 - accuracy: 0.9905 - val_loss: 0.6035 - val_accuracy: 0.8333\n",
            "Epoch 238/400\n",
            "72/72 [==============================] - 2s 29ms/step - loss: 0.0089 - accuracy: 0.9983 - val_loss: 0.5640 - val_accuracy: 0.8611\n",
            "Epoch 239/400\n",
            "72/72 [==============================] - 2s 29ms/step - loss: 0.0119 - accuracy: 0.9991 - val_loss: 0.8050 - val_accuracy: 0.7500\n",
            "Epoch 240/400\n",
            "72/72 [==============================] - 2s 29ms/step - loss: 0.0232 - accuracy: 0.9913 - val_loss: 0.8751 - val_accuracy: 0.7500\n",
            "Epoch 241/400\n",
            "72/72 [==============================] - 2s 29ms/step - loss: 0.0261 - accuracy: 0.9939 - val_loss: 0.5122 - val_accuracy: 0.8333\n",
            "Epoch 242/400\n",
            "72/72 [==============================] - 2s 29ms/step - loss: 0.0211 - accuracy: 0.9939 - val_loss: 0.6089 - val_accuracy: 0.8056\n",
            "Epoch 243/400\n",
            "72/72 [==============================] - 2s 29ms/step - loss: 0.0357 - accuracy: 0.9852 - val_loss: 0.8312 - val_accuracy: 0.7778\n",
            "Epoch 244/400\n",
            "72/72 [==============================] - 2s 28ms/step - loss: 0.0099 - accuracy: 0.9991 - val_loss: 0.6860 - val_accuracy: 0.7778\n",
            "Epoch 245/400\n",
            "72/72 [==============================] - 2s 29ms/step - loss: 0.0117 - accuracy: 0.9965 - val_loss: 0.5458 - val_accuracy: 0.8333\n",
            "Epoch 246/400\n",
            "72/72 [==============================] - 2s 29ms/step - loss: 0.0118 - accuracy: 0.9974 - val_loss: 0.5923 - val_accuracy: 0.7778\n",
            "Epoch 247/400\n",
            "72/72 [==============================] - 2s 29ms/step - loss: 0.0073 - accuracy: 0.9991 - val_loss: 0.5809 - val_accuracy: 0.7778\n",
            "Epoch 248/400\n",
            "72/72 [==============================] - 2s 29ms/step - loss: 0.0115 - accuracy: 0.9974 - val_loss: 0.6012 - val_accuracy: 0.8056\n",
            "Epoch 249/400\n",
            "72/72 [==============================] - 2s 29ms/step - loss: 0.0135 - accuracy: 0.9957 - val_loss: 0.5666 - val_accuracy: 0.8333\n",
            "Epoch 250/400\n",
            "72/72 [==============================] - 2s 29ms/step - loss: 0.0107 - accuracy: 0.9965 - val_loss: 0.7775 - val_accuracy: 0.7500\n",
            "Epoch 251/400\n",
            "72/72 [==============================] - 2s 29ms/step - loss: 0.0176 - accuracy: 0.9939 - val_loss: 0.6543 - val_accuracy: 0.7500\n",
            "Epoch 252/400\n",
            "72/72 [==============================] - 2s 29ms/step - loss: 0.0387 - accuracy: 0.9878 - val_loss: 0.5362 - val_accuracy: 0.7778\n",
            "Epoch 253/400\n",
            "72/72 [==============================] - 2s 29ms/step - loss: 0.0121 - accuracy: 0.9991 - val_loss: 0.5060 - val_accuracy: 0.8056\n",
            "Epoch 254/400\n",
            "72/72 [==============================] - 2s 28ms/step - loss: 0.0127 - accuracy: 0.9957 - val_loss: 0.5191 - val_accuracy: 0.8333\n",
            "Epoch 255/400\n",
            "72/72 [==============================] - 2s 28ms/step - loss: 0.0153 - accuracy: 0.9957 - val_loss: 0.6021 - val_accuracy: 0.8333\n",
            "Epoch 256/400\n",
            "72/72 [==============================] - 2s 28ms/step - loss: 0.0085 - accuracy: 0.9991 - val_loss: 0.6257 - val_accuracy: 0.7778\n",
            "Epoch 257/400\n",
            "72/72 [==============================] - 2s 29ms/step - loss: 0.0060 - accuracy: 0.9991 - val_loss: 0.7072 - val_accuracy: 0.8056\n",
            "Epoch 258/400\n",
            "72/72 [==============================] - 2s 28ms/step - loss: 0.0050 - accuracy: 0.9991 - val_loss: 0.4470 - val_accuracy: 0.8333\n",
            "Epoch 259/400\n",
            "72/72 [==============================] - 2s 29ms/step - loss: 0.0037 - accuracy: 1.0000 - val_loss: 0.5073 - val_accuracy: 0.8056\n",
            "Epoch 260/400\n",
            "72/72 [==============================] - 2s 29ms/step - loss: 0.0117 - accuracy: 0.9965 - val_loss: 0.7996 - val_accuracy: 0.7778\n",
            "Epoch 261/400\n",
            "72/72 [==============================] - 2s 29ms/step - loss: 0.0096 - accuracy: 0.9974 - val_loss: 0.9228 - val_accuracy: 0.7778\n",
            "Epoch 262/400\n",
            "72/72 [==============================] - 2s 29ms/step - loss: 0.0105 - accuracy: 0.9983 - val_loss: 0.6279 - val_accuracy: 0.7778\n",
            "Epoch 263/400\n",
            "72/72 [==============================] - 2s 29ms/step - loss: 0.0082 - accuracy: 0.9991 - val_loss: 0.8251 - val_accuracy: 0.8333\n",
            "Epoch 264/400\n",
            "72/72 [==============================] - 2s 30ms/step - loss: 0.0076 - accuracy: 0.9983 - val_loss: 1.1421 - val_accuracy: 0.7222\n",
            "Epoch 265/400\n",
            "72/72 [==============================] - 2s 29ms/step - loss: 0.0064 - accuracy: 0.9983 - val_loss: 0.6641 - val_accuracy: 0.8333\n",
            "Epoch 266/400\n",
            "72/72 [==============================] - 2s 29ms/step - loss: 0.0048 - accuracy: 0.9991 - val_loss: 0.5922 - val_accuracy: 0.8333\n",
            "Epoch 267/400\n",
            "72/72 [==============================] - 2s 29ms/step - loss: 0.0126 - accuracy: 0.9965 - val_loss: 0.7166 - val_accuracy: 0.8056\n",
            "Epoch 268/400\n",
            "72/72 [==============================] - 2s 29ms/step - loss: 0.0157 - accuracy: 0.9957 - val_loss: 0.6816 - val_accuracy: 0.7778\n",
            "Epoch 269/400\n",
            "72/72 [==============================] - 2s 30ms/step - loss: 0.0170 - accuracy: 0.9948 - val_loss: 0.7420 - val_accuracy: 0.7500\n",
            "Epoch 270/400\n",
            "72/72 [==============================] - 2s 29ms/step - loss: 0.0120 - accuracy: 0.9991 - val_loss: 0.5123 - val_accuracy: 0.8056\n",
            "Epoch 271/400\n",
            "72/72 [==============================] - 2s 29ms/step - loss: 0.0055 - accuracy: 1.0000 - val_loss: 0.5705 - val_accuracy: 0.8333\n",
            "Epoch 272/400\n",
            "72/72 [==============================] - 2s 30ms/step - loss: 0.0185 - accuracy: 0.9965 - val_loss: 1.1327 - val_accuracy: 0.7222\n",
            "Epoch 273/400\n",
            "72/72 [==============================] - 2s 30ms/step - loss: 0.0212 - accuracy: 0.9974 - val_loss: 0.3965 - val_accuracy: 0.8333\n",
            "Epoch 274/400\n",
            "72/72 [==============================] - 2s 29ms/step - loss: 0.0104 - accuracy: 0.9983 - val_loss: 0.6034 - val_accuracy: 0.8056\n",
            "Epoch 275/400\n",
            "72/72 [==============================] - 2s 30ms/step - loss: 0.0066 - accuracy: 0.9983 - val_loss: 0.5611 - val_accuracy: 0.8056\n",
            "Epoch 276/400\n",
            "72/72 [==============================] - 2s 30ms/step - loss: 0.0072 - accuracy: 0.9991 - val_loss: 0.7306 - val_accuracy: 0.8056\n",
            "Epoch 277/400\n",
            "72/72 [==============================] - 2s 29ms/step - loss: 0.0139 - accuracy: 0.9948 - val_loss: 0.7172 - val_accuracy: 0.7500\n",
            "Epoch 278/400\n",
            "72/72 [==============================] - 2s 29ms/step - loss: 0.0328 - accuracy: 0.9887 - val_loss: 1.0730 - val_accuracy: 0.7500\n",
            "Epoch 279/400\n",
            "72/72 [==============================] - 2s 30ms/step - loss: 0.0312 - accuracy: 0.9896 - val_loss: 0.4550 - val_accuracy: 0.8333\n",
            "Epoch 280/400\n",
            "72/72 [==============================] - 2s 29ms/step - loss: 0.0277 - accuracy: 0.9905 - val_loss: 0.3323 - val_accuracy: 0.8889\n",
            "Epoch 281/400\n",
            "72/72 [==============================] - 2s 30ms/step - loss: 0.0190 - accuracy: 0.9913 - val_loss: 0.5319 - val_accuracy: 0.7778\n",
            "Epoch 282/400\n",
            "72/72 [==============================] - 2s 29ms/step - loss: 0.0243 - accuracy: 0.9913 - val_loss: 0.7547 - val_accuracy: 0.8056\n",
            "Epoch 283/400\n",
            "72/72 [==============================] - 2s 29ms/step - loss: 0.0157 - accuracy: 0.9948 - val_loss: 0.8885 - val_accuracy: 0.8056\n",
            "Epoch 284/400\n",
            "72/72 [==============================] - 2s 29ms/step - loss: 0.0237 - accuracy: 0.9913 - val_loss: 0.5667 - val_accuracy: 0.8056\n",
            "Epoch 285/400\n",
            "72/72 [==============================] - 2s 29ms/step - loss: 0.0112 - accuracy: 0.9957 - val_loss: 0.6928 - val_accuracy: 0.7778\n",
            "Epoch 286/400\n",
            "72/72 [==============================] - 2s 30ms/step - loss: 0.0138 - accuracy: 0.9939 - val_loss: 0.6824 - val_accuracy: 0.7500\n",
            "Epoch 287/400\n",
            "72/72 [==============================] - 2s 29ms/step - loss: 0.0122 - accuracy: 0.9957 - val_loss: 0.5954 - val_accuracy: 0.8611\n",
            "Epoch 288/400\n",
            "72/72 [==============================] - 2s 29ms/step - loss: 0.0191 - accuracy: 0.9913 - val_loss: 0.8562 - val_accuracy: 0.7778\n",
            "Epoch 289/400\n",
            "72/72 [==============================] - 2s 29ms/step - loss: 0.0199 - accuracy: 0.9939 - val_loss: 0.5244 - val_accuracy: 0.8333\n",
            "Epoch 290/400\n",
            "72/72 [==============================] - 2s 29ms/step - loss: 0.0098 - accuracy: 0.9983 - val_loss: 0.6068 - val_accuracy: 0.7778\n",
            "Epoch 291/400\n",
            "72/72 [==============================] - 2s 29ms/step - loss: 0.0181 - accuracy: 0.9939 - val_loss: 0.5363 - val_accuracy: 0.8333\n",
            "Epoch 292/400\n",
            "72/72 [==============================] - 2s 29ms/step - loss: 0.0117 - accuracy: 0.9957 - val_loss: 0.6619 - val_accuracy: 0.8056\n",
            "Epoch 293/400\n",
            "72/72 [==============================] - 2s 29ms/step - loss: 0.0062 - accuracy: 0.9974 - val_loss: 0.6020 - val_accuracy: 0.7778\n",
            "Epoch 294/400\n",
            "72/72 [==============================] - 2s 29ms/step - loss: 0.0056 - accuracy: 0.9991 - val_loss: 0.6578 - val_accuracy: 0.8056\n",
            "Epoch 295/400\n",
            "72/72 [==============================] - 2s 29ms/step - loss: 0.0040 - accuracy: 1.0000 - val_loss: 0.6017 - val_accuracy: 0.8056\n",
            "Epoch 296/400\n",
            "72/72 [==============================] - 2s 29ms/step - loss: 0.0031 - accuracy: 1.0000 - val_loss: 0.5575 - val_accuracy: 0.8056\n",
            "Epoch 297/400\n",
            "72/72 [==============================] - 2s 29ms/step - loss: 0.0100 - accuracy: 0.9965 - val_loss: 0.6048 - val_accuracy: 0.7778\n",
            "Epoch 298/400\n",
            "72/72 [==============================] - 2s 28ms/step - loss: 0.0201 - accuracy: 0.9939 - val_loss: 0.7824 - val_accuracy: 0.7500\n",
            "Epoch 299/400\n",
            "72/72 [==============================] - 2s 29ms/step - loss: 0.0164 - accuracy: 0.9957 - val_loss: 0.6789 - val_accuracy: 0.8056\n",
            "Epoch 300/400\n",
            "72/72 [==============================] - 2s 29ms/step - loss: 0.0209 - accuracy: 0.9948 - val_loss: 0.5351 - val_accuracy: 0.8611\n",
            "Epoch 301/400\n",
            "72/72 [==============================] - 2s 29ms/step - loss: 0.0099 - accuracy: 0.9983 - val_loss: 0.7430 - val_accuracy: 0.7778\n",
            "Epoch 302/400\n",
            "72/72 [==============================] - 2s 29ms/step - loss: 0.0254 - accuracy: 0.9905 - val_loss: 0.8203 - val_accuracy: 0.8056\n",
            "Epoch 303/400\n",
            "72/72 [==============================] - 2s 29ms/step - loss: 0.0188 - accuracy: 0.9922 - val_loss: 0.7284 - val_accuracy: 0.7778\n",
            "Epoch 304/400\n",
            "72/72 [==============================] - 2s 29ms/step - loss: 0.0226 - accuracy: 0.9913 - val_loss: 0.6262 - val_accuracy: 0.8611\n",
            "Epoch 305/400\n",
            "72/72 [==============================] - 2s 29ms/step - loss: 0.0167 - accuracy: 0.9965 - val_loss: 0.7036 - val_accuracy: 0.8056\n",
            "Epoch 306/400\n",
            "72/72 [==============================] - 2s 29ms/step - loss: 0.0043 - accuracy: 1.0000 - val_loss: 0.7753 - val_accuracy: 0.7778\n",
            "Epoch 307/400\n",
            "72/72 [==============================] - 2s 29ms/step - loss: 0.0040 - accuracy: 0.9991 - val_loss: 0.9525 - val_accuracy: 0.7500\n",
            "Epoch 308/400\n",
            "72/72 [==============================] - 2s 29ms/step - loss: 0.0104 - accuracy: 0.9965 - val_loss: 0.5732 - val_accuracy: 0.8056\n",
            "Epoch 309/400\n",
            "72/72 [==============================] - 2s 30ms/step - loss: 0.0049 - accuracy: 0.9991 - val_loss: 0.4858 - val_accuracy: 0.8056\n",
            "Epoch 310/400\n",
            "72/72 [==============================] - 2s 30ms/step - loss: 0.0038 - accuracy: 1.0000 - val_loss: 0.5841 - val_accuracy: 0.8056\n",
            "Epoch 311/400\n",
            "72/72 [==============================] - 2s 30ms/step - loss: 0.0022 - accuracy: 1.0000 - val_loss: 0.6612 - val_accuracy: 0.8333\n",
            "Epoch 312/400\n",
            "72/72 [==============================] - 2s 29ms/step - loss: 0.0062 - accuracy: 0.9983 - val_loss: 0.7205 - val_accuracy: 0.8333\n",
            "Epoch 313/400\n",
            "72/72 [==============================] - 2s 30ms/step - loss: 0.0052 - accuracy: 0.9991 - val_loss: 0.6892 - val_accuracy: 0.8333\n",
            "Epoch 314/400\n",
            "72/72 [==============================] - 2s 29ms/step - loss: 0.0039 - accuracy: 0.9983 - val_loss: 0.6242 - val_accuracy: 0.8056\n",
            "Epoch 315/400\n",
            "72/72 [==============================] - 2s 30ms/step - loss: 0.0032 - accuracy: 1.0000 - val_loss: 0.5828 - val_accuracy: 0.8611\n",
            "Epoch 316/400\n",
            "72/72 [==============================] - 2s 30ms/step - loss: 0.0021 - accuracy: 1.0000 - val_loss: 0.6792 - val_accuracy: 0.8333\n",
            "Epoch 317/400\n",
            "72/72 [==============================] - 2s 30ms/step - loss: 0.0020 - accuracy: 1.0000 - val_loss: 0.7253 - val_accuracy: 0.8333\n",
            "Epoch 318/400\n",
            "72/72 [==============================] - 2s 30ms/step - loss: 0.0010 - accuracy: 1.0000 - val_loss: 0.7030 - val_accuracy: 0.8333\n",
            "Epoch 319/400\n",
            "72/72 [==============================] - 2s 30ms/step - loss: 0.0042 - accuracy: 0.9983 - val_loss: 0.6630 - val_accuracy: 0.7500\n",
            "Epoch 320/400\n",
            "72/72 [==============================] - 2s 29ms/step - loss: 0.0056 - accuracy: 1.0000 - val_loss: 0.6052 - val_accuracy: 0.8056\n",
            "Epoch 321/400\n",
            "72/72 [==============================] - 2s 29ms/step - loss: 0.0060 - accuracy: 0.9991 - val_loss: 0.5089 - val_accuracy: 0.8333\n",
            "Epoch 322/400\n",
            "72/72 [==============================] - 2s 29ms/step - loss: 0.0161 - accuracy: 0.9939 - val_loss: 0.9977 - val_accuracy: 0.8056\n",
            "Epoch 323/400\n",
            "72/72 [==============================] - 2s 29ms/step - loss: 0.0302 - accuracy: 0.9870 - val_loss: 0.7830 - val_accuracy: 0.8056\n",
            "Epoch 324/400\n",
            "72/72 [==============================] - 2s 29ms/step - loss: 0.0280 - accuracy: 0.9896 - val_loss: 0.6288 - val_accuracy: 0.8333\n",
            "Epoch 325/400\n",
            "72/72 [==============================] - 2s 29ms/step - loss: 0.0284 - accuracy: 0.9896 - val_loss: 0.6451 - val_accuracy: 0.7778\n",
            "Epoch 326/400\n",
            "72/72 [==============================] - 2s 29ms/step - loss: 0.0277 - accuracy: 0.9922 - val_loss: 0.6295 - val_accuracy: 0.7500\n",
            "Epoch 327/400\n",
            "72/72 [==============================] - 2s 29ms/step - loss: 0.0112 - accuracy: 0.9974 - val_loss: 0.6069 - val_accuracy: 0.7778\n",
            "Epoch 328/400\n",
            "72/72 [==============================] - 2s 29ms/step - loss: 0.0097 - accuracy: 0.9983 - val_loss: 0.7296 - val_accuracy: 0.7778\n",
            "Epoch 329/400\n",
            "72/72 [==============================] - 2s 29ms/step - loss: 0.0166 - accuracy: 0.9948 - val_loss: 0.5268 - val_accuracy: 0.8056\n",
            "Epoch 330/400\n",
            "72/72 [==============================] - 2s 29ms/step - loss: 0.0076 - accuracy: 0.9983 - val_loss: 0.6142 - val_accuracy: 0.8056\n",
            "Epoch 331/400\n",
            "72/72 [==============================] - 2s 29ms/step - loss: 0.0134 - accuracy: 0.9948 - val_loss: 0.4652 - val_accuracy: 0.8056\n",
            "Epoch 332/400\n",
            "72/72 [==============================] - 2s 29ms/step - loss: 0.0218 - accuracy: 0.9939 - val_loss: 0.6841 - val_accuracy: 0.8611\n",
            "Epoch 333/400\n",
            "72/72 [==============================] - 2s 29ms/step - loss: 0.0221 - accuracy: 0.9878 - val_loss: 0.7646 - val_accuracy: 0.7500\n",
            "Epoch 334/400\n",
            "72/72 [==============================] - 2s 29ms/step - loss: 0.0264 - accuracy: 0.9905 - val_loss: 0.8725 - val_accuracy: 0.7222\n",
            "Epoch 335/400\n",
            "72/72 [==============================] - 2s 29ms/step - loss: 0.0169 - accuracy: 0.9957 - val_loss: 0.6022 - val_accuracy: 0.7778\n",
            "Epoch 336/400\n",
            "72/72 [==============================] - 2s 30ms/step - loss: 0.0058 - accuracy: 1.0000 - val_loss: 0.7856 - val_accuracy: 0.8056\n",
            "Epoch 337/400\n",
            "72/72 [==============================] - 2s 29ms/step - loss: 0.0079 - accuracy: 0.9974 - val_loss: 0.7205 - val_accuracy: 0.8056\n",
            "Epoch 338/400\n",
            "72/72 [==============================] - 2s 30ms/step - loss: 0.0131 - accuracy: 0.9965 - val_loss: 0.7315 - val_accuracy: 0.8056\n",
            "Epoch 339/400\n",
            "72/72 [==============================] - 2s 29ms/step - loss: 0.0083 - accuracy: 0.9991 - val_loss: 0.6823 - val_accuracy: 0.7500\n",
            "Epoch 340/400\n",
            "72/72 [==============================] - 2s 29ms/step - loss: 0.0085 - accuracy: 0.9983 - val_loss: 0.6165 - val_accuracy: 0.8056\n",
            "Epoch 341/400\n",
            "72/72 [==============================] - 2s 29ms/step - loss: 0.0048 - accuracy: 1.0000 - val_loss: 0.6403 - val_accuracy: 0.7500\n",
            "Epoch 342/400\n",
            "72/72 [==============================] - 2s 29ms/step - loss: 0.0028 - accuracy: 1.0000 - val_loss: 0.5641 - val_accuracy: 0.8333\n",
            "Epoch 343/400\n",
            "72/72 [==============================] - 2s 29ms/step - loss: 0.0042 - accuracy: 0.9991 - val_loss: 0.6349 - val_accuracy: 0.8056\n",
            "Epoch 344/400\n",
            "72/72 [==============================] - 2s 29ms/step - loss: 0.0021 - accuracy: 0.9991 - val_loss: 0.6271 - val_accuracy: 0.8333\n",
            "Epoch 345/400\n",
            "72/72 [==============================] - 2s 30ms/step - loss: 0.0051 - accuracy: 0.9983 - val_loss: 0.5054 - val_accuracy: 0.8333\n",
            "Epoch 346/400\n",
            "72/72 [==============================] - 2s 29ms/step - loss: 0.0227 - accuracy: 0.9931 - val_loss: 0.4853 - val_accuracy: 0.8611\n",
            "Epoch 347/400\n",
            "72/72 [==============================] - 2s 29ms/step - loss: 0.0054 - accuracy: 0.9991 - val_loss: 0.5232 - val_accuracy: 0.8333\n",
            "Epoch 348/400\n",
            "72/72 [==============================] - 2s 30ms/step - loss: 0.0041 - accuracy: 0.9991 - val_loss: 0.6777 - val_accuracy: 0.8056\n",
            "Epoch 349/400\n",
            "72/72 [==============================] - 2s 29ms/step - loss: 0.0065 - accuracy: 0.9991 - val_loss: 0.6417 - val_accuracy: 0.8333\n",
            "Epoch 350/400\n",
            "72/72 [==============================] - 2s 29ms/step - loss: 0.0114 - accuracy: 0.9965 - val_loss: 0.5707 - val_accuracy: 0.7778\n",
            "Epoch 351/400\n",
            "72/72 [==============================] - 2s 29ms/step - loss: 0.0232 - accuracy: 0.9913 - val_loss: 0.5955 - val_accuracy: 0.8056\n",
            "Epoch 352/400\n",
            "72/72 [==============================] - 2s 29ms/step - loss: 0.0055 - accuracy: 1.0000 - val_loss: 0.6231 - val_accuracy: 0.7778\n",
            "Epoch 353/400\n",
            "72/72 [==============================] - 2s 29ms/step - loss: 0.0124 - accuracy: 0.9965 - val_loss: 0.9313 - val_accuracy: 0.8056\n",
            "Epoch 354/400\n",
            "72/72 [==============================] - 2s 29ms/step - loss: 0.0125 - accuracy: 0.9974 - val_loss: 0.7163 - val_accuracy: 0.7778\n",
            "Epoch 355/400\n",
            "72/72 [==============================] - 2s 30ms/step - loss: 0.0258 - accuracy: 0.9896 - val_loss: 1.1433 - val_accuracy: 0.7500\n",
            "Epoch 356/400\n",
            "72/72 [==============================] - 2s 29ms/step - loss: 0.0351 - accuracy: 0.9878 - val_loss: 0.5900 - val_accuracy: 0.8056\n",
            "Epoch 357/400\n",
            "72/72 [==============================] - 2s 29ms/step - loss: 0.0094 - accuracy: 0.9974 - val_loss: 0.7354 - val_accuracy: 0.7778\n",
            "Epoch 358/400\n",
            "72/72 [==============================] - 2s 29ms/step - loss: 0.0210 - accuracy: 0.9931 - val_loss: 0.9084 - val_accuracy: 0.7778\n",
            "Epoch 359/400\n",
            "72/72 [==============================] - 2s 29ms/step - loss: 0.0120 - accuracy: 0.9974 - val_loss: 0.5457 - val_accuracy: 0.8333\n",
            "Epoch 360/400\n",
            "72/72 [==============================] - 2s 29ms/step - loss: 0.0051 - accuracy: 0.9991 - val_loss: 0.5475 - val_accuracy: 0.8333\n",
            "Epoch 361/400\n",
            "72/72 [==============================] - 2s 29ms/step - loss: 0.0072 - accuracy: 0.9974 - val_loss: 0.6988 - val_accuracy: 0.8056\n",
            "Epoch 362/400\n",
            "72/72 [==============================] - 2s 29ms/step - loss: 0.0033 - accuracy: 1.0000 - val_loss: 0.6150 - val_accuracy: 0.8056\n",
            "Epoch 363/400\n",
            "72/72 [==============================] - 2s 29ms/step - loss: 0.0030 - accuracy: 0.9991 - val_loss: 0.6236 - val_accuracy: 0.8333\n",
            "Epoch 364/400\n",
            "72/72 [==============================] - 2s 29ms/step - loss: 0.0017 - accuracy: 1.0000 - val_loss: 0.6233 - val_accuracy: 0.8333\n",
            "Epoch 365/400\n",
            "72/72 [==============================] - 2s 29ms/step - loss: 0.0013 - accuracy: 1.0000 - val_loss: 0.6101 - val_accuracy: 0.8056\n",
            "Epoch 366/400\n",
            "72/72 [==============================] - 2s 30ms/step - loss: 0.0027 - accuracy: 0.9991 - val_loss: 0.7072 - val_accuracy: 0.7778\n",
            "Epoch 367/400\n",
            "72/72 [==============================] - 2s 29ms/step - loss: 0.0355 - accuracy: 0.9870 - val_loss: 0.6797 - val_accuracy: 0.8333\n",
            "Epoch 368/400\n",
            "72/72 [==============================] - 2s 29ms/step - loss: 0.0216 - accuracy: 0.9922 - val_loss: 0.6570 - val_accuracy: 0.7778\n",
            "Epoch 369/400\n",
            "72/72 [==============================] - 2s 29ms/step - loss: 0.0066 - accuracy: 0.9983 - val_loss: 1.0092 - val_accuracy: 0.7778\n",
            "Epoch 370/400\n",
            "72/72 [==============================] - 2s 30ms/step - loss: 0.0066 - accuracy: 0.9974 - val_loss: 0.6049 - val_accuracy: 0.8056\n",
            "Epoch 371/400\n",
            "72/72 [==============================] - 2s 30ms/step - loss: 0.0056 - accuracy: 0.9983 - val_loss: 0.6604 - val_accuracy: 0.7500\n",
            "Epoch 372/400\n",
            "72/72 [==============================] - 2s 30ms/step - loss: 0.0055 - accuracy: 0.9983 - val_loss: 0.6850 - val_accuracy: 0.8056\n",
            "Epoch 373/400\n",
            "72/72 [==============================] - 2s 30ms/step - loss: 0.0126 - accuracy: 0.9948 - val_loss: 0.6387 - val_accuracy: 0.8056\n",
            "Epoch 374/400\n",
            "72/72 [==============================] - 2s 30ms/step - loss: 0.0208 - accuracy: 0.9931 - val_loss: 0.9005 - val_accuracy: 0.7222\n",
            "Epoch 375/400\n",
            "72/72 [==============================] - 2s 30ms/step - loss: 0.0041 - accuracy: 1.0000 - val_loss: 0.7251 - val_accuracy: 0.7778\n",
            "Epoch 376/400\n",
            "72/72 [==============================] - 2s 30ms/step - loss: 0.0084 - accuracy: 0.9983 - val_loss: 0.7081 - val_accuracy: 0.8333\n",
            "Epoch 377/400\n",
            "72/72 [==============================] - 2s 30ms/step - loss: 0.0123 - accuracy: 0.9957 - val_loss: 0.6917 - val_accuracy: 0.8333\n",
            "Epoch 378/400\n",
            "72/72 [==============================] - 2s 30ms/step - loss: 0.0066 - accuracy: 0.9983 - val_loss: 0.7609 - val_accuracy: 0.8056\n",
            "Epoch 379/400\n",
            "72/72 [==============================] - 2s 31ms/step - loss: 0.0079 - accuracy: 0.9983 - val_loss: 0.6148 - val_accuracy: 0.7500\n",
            "Epoch 380/400\n",
            "72/72 [==============================] - 2s 31ms/step - loss: 0.0039 - accuracy: 1.0000 - val_loss: 0.6268 - val_accuracy: 0.8056\n",
            "Epoch 381/400\n",
            "72/72 [==============================] - 2s 31ms/step - loss: 0.0041 - accuracy: 0.9991 - val_loss: 0.7180 - val_accuracy: 0.8056\n",
            "Epoch 382/400\n",
            "72/72 [==============================] - 2s 31ms/step - loss: 0.0045 - accuracy: 0.9991 - val_loss: 0.5315 - val_accuracy: 0.8611\n",
            "Epoch 383/400\n",
            "72/72 [==============================] - 2s 30ms/step - loss: 0.0107 - accuracy: 0.9965 - val_loss: 0.7829 - val_accuracy: 0.8056\n",
            "Epoch 384/400\n",
            "72/72 [==============================] - 2s 30ms/step - loss: 0.0049 - accuracy: 0.9991 - val_loss: 0.5075 - val_accuracy: 0.8611\n",
            "Epoch 385/400\n",
            "72/72 [==============================] - 2s 31ms/step - loss: 0.0033 - accuracy: 1.0000 - val_loss: 0.7564 - val_accuracy: 0.7778\n",
            "Epoch 386/400\n",
            "72/72 [==============================] - 2s 31ms/step - loss: 0.0046 - accuracy: 1.0000 - val_loss: 0.5817 - val_accuracy: 0.8333\n",
            "Epoch 387/400\n",
            "72/72 [==============================] - 2s 30ms/step - loss: 0.0046 - accuracy: 0.9991 - val_loss: 0.7482 - val_accuracy: 0.8056\n",
            "Epoch 388/400\n",
            "72/72 [==============================] - 2s 30ms/step - loss: 0.0041 - accuracy: 0.9991 - val_loss: 0.6309 - val_accuracy: 0.7778\n",
            "Epoch 389/400\n",
            "72/72 [==============================] - 2s 30ms/step - loss: 0.0018 - accuracy: 1.0000 - val_loss: 0.7286 - val_accuracy: 0.7778\n",
            "Epoch 390/400\n",
            "72/72 [==============================] - 2s 30ms/step - loss: 0.0012 - accuracy: 1.0000 - val_loss: 0.7562 - val_accuracy: 0.7778\n",
            "Epoch 391/400\n",
            "72/72 [==============================] - 2s 30ms/step - loss: 0.0038 - accuracy: 0.9991 - val_loss: 0.5075 - val_accuracy: 0.8056\n",
            "Epoch 392/400\n",
            "72/72 [==============================] - 2s 30ms/step - loss: 0.0216 - accuracy: 0.9931 - val_loss: 0.7910 - val_accuracy: 0.8056\n",
            "Epoch 393/400\n",
            "72/72 [==============================] - 2s 30ms/step - loss: 0.0114 - accuracy: 0.9983 - val_loss: 0.8050 - val_accuracy: 0.7778\n",
            "Epoch 394/400\n",
            "72/72 [==============================] - 2s 30ms/step - loss: 0.0053 - accuracy: 0.9983 - val_loss: 0.5289 - val_accuracy: 0.8333\n",
            "Epoch 395/400\n",
            "72/72 [==============================] - 2s 30ms/step - loss: 0.0049 - accuracy: 0.9983 - val_loss: 0.8081 - val_accuracy: 0.7500\n",
            "Epoch 396/400\n",
            "72/72 [==============================] - 2s 30ms/step - loss: 0.0278 - accuracy: 0.9922 - val_loss: 0.6289 - val_accuracy: 0.8056\n",
            "Epoch 397/400\n",
            "72/72 [==============================] - 2s 30ms/step - loss: 0.0074 - accuracy: 0.9983 - val_loss: 0.4484 - val_accuracy: 0.8333\n",
            "Epoch 398/400\n",
            "72/72 [==============================] - 2s 30ms/step - loss: 0.0098 - accuracy: 0.9965 - val_loss: 0.4148 - val_accuracy: 0.8333\n",
            "Epoch 399/400\n",
            "72/72 [==============================] - 2s 30ms/step - loss: 0.0030 - accuracy: 0.9991 - val_loss: 0.6765 - val_accuracy: 0.7778\n",
            "Epoch 400/400\n",
            "72/72 [==============================] - 2s 31ms/step - loss: 0.0147 - accuracy: 0.9965 - val_loss: 0.5502 - val_accuracy: 0.8333\n"
          ]
        }
      ],
      "source": [
        "cnnhistory=model.fit(x_train, y_train, batch_size=16, epochs=400,validation_data=(x_valid, emo_valid))"
      ]
    },
    {
      "cell_type": "code",
      "execution_count": 21,
      "metadata": {
        "colab": {
          "base_uri": "https://localhost:8080/"
        },
        "id": "EWT6F8K425LT",
        "outputId": "94ae6aad-cf49-439a-ccd0-bc7d324dea15"
      },
      "outputs": [
        {
          "output_type": "stream",
          "name": "stdout",
          "text": [
            "0.9622395807504653\n"
          ]
        }
      ],
      "source": [
        "ava_acc=np.mean(cnnhistory.history['accuracy']) # numpy assumed imported as np\n",
        "print(ava_acc)"
      ]
    },
    {
      "cell_type": "code",
      "execution_count": 22,
      "metadata": {
        "colab": {
          "base_uri": "https://localhost:8080/",
          "height": 295
        },
        "id": "3_HGLS8F29Qr",
        "outputId": "d5fa8f57-b60c-4fd3-ff81-9c5cbbc91bd8"
      },
      "outputs": [
        {
          "output_type": "display_data",
          "data": {
            "image/png": "[encoded data removed]",
            "text/plain": [
              "<Figure size 432x288 with 1 Axes>"
            ]
          },
          "metadata": {
            "needs_background": "light"
          }
        }
      ],
      "source": [
        "plt.plot(cnnhistory.history['loss'])\n",
        "plt.plot(cnnhistory.history['val_loss'])\n",
        "plt.title('model loss')\n",
        "plt.ylabel('loss')\n",
        "plt.xlabel('epoch')\n",
        "plt.legend(['train', 'valid'], loc='upper left')\n",
        "plt.show()"
      ]
    },
    {
      "cell_type": "code",
      "execution_count": 23,
      "metadata": {
        "colab": {
          "base_uri": "https://localhost:8080/",
          "height": 295
        },
        "id": "YlkBpKyX3El2",
        "outputId": "bc147118-6cdc-43c5-f4ff-dae53f45ccb4"
      },
      "outputs": [
        {
          "output_type": "display_data",
          "data": {
            "image/png": "[encoded data removed]",
            "text/plain": [
              "<Figure size 432x288 with 1 Axes>"
            ]
          },
          "metadata": {
            "needs_background": "light"
          }
        }
      ],
      "source": [
        "plt.plot(cnnhistory.history['accuracy'])\n",
        "plt.plot(cnnhistory.history['val_accuracy'])\n",
        "plt.title('model accuracy')\n",
        "plt.ylabel('accuracy')\n",
        "plt.xlabel('epoch')\n",
        "plt.legend(['train', 'valid'], loc='upper left')\n",
        "plt.show()"
      ]
    },
    {
      "cell_type": "code",
      "execution_count": 24,
      "metadata": {
        "colab": {
          "base_uri": "https://localhost:8080/"
        },
        "id": "jVaxLrTj3Hxc",
        "outputId": "bfe19b5c-5887-413f-a799-fcd73dae55fe"
      },
      "outputs": [
        {
          "output_type": "execute_result",
          "data": {
            "text/plain": [
              "array([[1.00000000e+00, 5.79582167e-15, 1.10842918e-14, 2.41427683e-10,\n",
              "        1.40107435e-13, 4.27788696e-18],\n",
              "       [4.46586368e-09, 6.19677544e-01, 3.76804858e-01, 3.47956615e-08,\n",
              "        3.51750362e-03, 5.68248365e-11],\n",
              "       [9.99987483e-01, 2.07249897e-07, 2.32793403e-11, 1.16558522e-05,\n",
              "        5.77966148e-07, 7.04327048e-12],\n",
              "       [3.02750175e-03, 9.42558572e-02, 6.35768652e-01, 1.75120216e-03,\n",
              "        2.65196174e-01, 5.90612046e-07],\n",
              "       [1.23612335e-16, 9.99795735e-01, 1.64793235e-07, 2.04115131e-04,\n",
              "        9.63621716e-09, 9.62876387e-19],\n",
              "       [1.83467233e-08, 1.78572312e-01, 4.01857972e-01, 3.06967172e-06,\n",
              "        4.19566661e-01, 5.57431878e-10],\n",
              "       [2.09840825e-13, 1.44145358e-03, 1.00670349e-11, 9.98526216e-01,\n",
              "        3.22033375e-05, 9.73090640e-17],\n",
              "       [1.97705731e-07, 9.99981999e-01, 8.47582851e-06, 9.08108632e-06,\n",
              "        2.59412303e-07, 1.45152007e-11],\n",
              "       [9.02196007e-06, 8.72027278e-02, 9.05566931e-01, 7.96601744e-05,\n",
              "        7.14169303e-03, 1.83932212e-08],\n",
              "       [9.99128282e-01, 9.41911327e-10, 2.67111139e-10, 8.71386554e-04,\n",
              "        3.14277798e-07, 2.28966585e-13],\n",
              "       [4.95889399e-04, 1.40998213e-10, 9.45116652e-10, 3.45276498e-12,\n",
              "        9.99504089e-01, 4.19375880e-15],\n",
              "       [1.98967145e-11, 3.52233738e-01, 6.06053732e-02, 6.03922626e-06,\n",
              "        5.87154806e-01, 7.06705944e-11],\n",
              "       [7.04720787e-06, 3.19082453e-03, 9.91636813e-01, 3.92136350e-03,\n",
              "        1.24392344e-03, 1.77217547e-08],\n",
              "       [3.24072456e-03, 1.18004894e-02, 7.58205206e-05, 9.32901978e-01,\n",
              "        5.19809052e-02, 1.38013654e-08],\n",
              "       [5.47386182e-04, 1.11553096e-03, 3.95536274e-02, 1.44764315e-04,\n",
              "        9.58638549e-01, 9.08835247e-08],\n",
              "       [9.99970078e-01, 1.07388374e-08, 4.96386747e-07, 2.94023703e-05,\n",
              "        4.54932619e-11, 6.47946106e-12],\n",
              "       [6.33927910e-11, 1.65218577e-08, 5.98317058e-07, 3.54956370e-10,\n",
              "        9.99999404e-01, 8.52908442e-14],\n",
              "       [2.23072879e-02, 9.21864796e-07, 2.41594603e-06, 9.77689266e-01,\n",
              "        1.55788001e-07, 1.60593328e-09],\n",
              "       [1.00000000e+00, 1.13806166e-10, 8.07648965e-14, 5.39343397e-08,\n",
              "        5.37900000e-08, 7.60328351e-14],\n",
              "       [8.15510532e-07, 1.23944413e-03, 3.66008282e-01, 6.07837283e-05,\n",
              "        6.32690668e-01, 2.90904856e-09],\n",
              "       [1.47106709e-06, 3.00647389e-06, 8.37009847e-02, 1.47636356e-07,\n",
              "        9.16294336e-01, 1.17284016e-10],\n",
              "       [1.12177736e-06, 2.40069777e-02, 2.16380768e-02, 9.43212015e-08,\n",
              "        9.54353750e-01, 3.56990171e-09],\n",
              "       [4.99145267e-13, 9.33119059e-01, 6.64582327e-02, 2.24740052e-06,\n",
              "        4.20424243e-04, 4.69554662e-15],\n",
              "       [9.99068081e-01, 1.64350809e-06, 5.71455589e-13, 9.30162030e-04,\n",
              "        8.64164917e-08, 1.08320280e-11],\n",
              "       [5.10892768e-08, 1.05061255e-04, 1.25402836e-02, 9.26635323e-07,\n",
              "        9.87353683e-01, 7.86413956e-09],\n",
              "       [1.00000000e+00, 3.57801809e-11, 1.59004347e-13, 2.77565597e-08,\n",
              "        3.47174485e-08, 2.61543411e-14],\n",
              "       [2.38767033e-08, 1.65944148e-04, 1.97083056e-02, 8.81898177e-06,\n",
              "        9.80116904e-01, 3.82249010e-10],\n",
              "       [5.69036638e-04, 6.81253674e-04, 4.03290167e-02, 1.25050673e-03,\n",
              "        9.57170188e-01, 7.48906359e-09],\n",
              "       [1.79836839e-01, 1.62471412e-03, 2.25428585e-03, 7.69848228e-02,\n",
              "        7.39299238e-01, 8.28830835e-08],\n",
              "       [9.99999881e-01, 2.49347001e-11, 3.30263974e-13, 1.40743438e-07,\n",
              "        1.89506688e-10, 2.83814779e-15],\n",
              "       [4.56324924e-04, 1.27957528e-02, 3.95631604e-03, 3.41715386e-05,\n",
              "        9.82757390e-01, 8.28583938e-11],\n",
              "       [1.98839371e-06, 2.39404763e-08, 1.07835085e-09, 9.99997973e-01,\n",
              "        2.83860602e-09, 4.74838094e-12],\n",
              "       [3.14230250e-13, 1.98810041e-01, 1.97660182e-12, 8.01188827e-01,\n",
              "        1.12528380e-06, 1.00275466e-18],\n",
              "       [1.05503132e-05, 1.58282086e-01, 8.39591682e-01, 2.39130168e-06,\n",
              "        2.11338676e-03, 2.14550910e-09],\n",
              "       [6.29321539e-06, 3.75771424e-06, 7.62205957e-07, 1.19137567e-07,\n",
              "        9.99989033e-01, 1.40150868e-12],\n",
              "       [1.01687774e-01, 4.07022271e-05, 7.92279025e-06, 8.98260117e-01,\n",
              "        3.37658480e-06, 3.03683301e-08]], dtype=float32)"
            ]
          },
          "metadata": {},
          "execution_count": 24
        }
      ],
      "source": [
        "#predictions = model.predict_classes(x_testcnn)\n",
        "predictions = model.predict(x_test)\n",
        "predictions"
      ]
    },
    {
      "cell_type": "code",
      "execution_count": 25,
      "metadata": {
        "colab": {
          "base_uri": "https://localhost:8080/"
        },
        "id": "Y01xRIqN3Kv7",
        "outputId": "11bcd629-2f95-45af-db2f-2da87e0eb0a2"
      },
      "outputs": [
        {
          "output_type": "execute_result",
          "data": {
            "text/plain": [
              "array([0, 2, 0, 2, 1, 1, 3, 1, 2, 0, 4, 4, 2, 3, 4, 0, 4, 0, 0, 4, 4, 1,\n",
              "       2, 0, 4, 0, 4, 2, 0, 0, 1, 3, 3, 2, 4, 0])"
            ]
          },
          "metadata": {},
          "execution_count": 25
        }
      ],
      "source": [
        "emo_test"
      ]
    },
    {
      "cell_type": "code",
      "execution_count": 26,
      "metadata": {
        "colab": {
          "base_uri": "https://localhost:8080/"
        },
        "id": "DLhoAcuI3N3Z",
        "outputId": "135d5ccc-aa36-4430-c57e-5d08df3df4e5"
      },
      "outputs": [
        {
          "output_type": "execute_result",
          "data": {
            "text/plain": [
              "array([0, 2, 0, 2, 1, 1, 3, 1, 2, 0, 4, 4, 2, 3, 4, 0, 4, 0, 0, 4, 4, 1,\n",
              "       2, 0, 4, 0, 4, 2, 0, 0, 1, 3, 3, 2, 4, 0])"
            ]
          },
          "metadata": {},
          "execution_count": 26
        }
      ],
      "source": [
        "new_Ytest = emo_test.astype(int)\n",
        "new_Ytest"
      ]
    },
    {
      "cell_type": "code",
      "execution_count": 27,
      "metadata": {
        "colab": {
          "base_uri": "https://localhost:8080/"
        },
        "id": "msg0xsZw3ROh",
        "outputId": "eb72f4e3-2e99-4aa8-fb09-5532c3b8a3b8"
      },
      "outputs": [
        {
          "output_type": "execute_result",
          "data": {
            "text/plain": [
              "array([0, 1, 0, 2, 1, 4, 3, 1, 2, 0, 4, 4, 2, 3, 4, 0, 4, 3, 0, 4, 4, 4,\n",
              "       1, 0, 4, 0, 4, 4, 4, 0, 4, 3, 3, 2, 4, 3])"
            ]
          },
          "metadata": {},
          "execution_count": 27
        }
      ],
      "source": [
        "preds1=predictions.argmax(axis=1)\n",
        "preds1"
      ]
    },
    {
      "cell_type": "code",
      "execution_count": 28,
      "metadata": {
        "colab": {
          "base_uri": "https://localhost:8080/"
        },
        "id": "-nADWckp3UHg",
        "outputId": "1657b6af-67a2-4a9a-ae6b-bd8705846a25"
      },
      "outputs": [
        {
          "output_type": "execute_result",
          "data": {
            "text/plain": [
              "array([[8, 0, 0, 2, 1],\n",
              "       [0, 2, 0, 0, 3],\n",
              "       [0, 2, 4, 0, 1],\n",
              "       [0, 0, 0, 4, 0],\n",
              "       [0, 0, 0, 0, 9]])"
            ]
          },
          "metadata": {},
          "execution_count": 28
        }
      ],
      "source": [
        "abc = preds1.astype(int).flatten()\n",
        "from sklearn.metrics import confusion_matrix\n",
        "c = confusion_matrix(new_Ytest, abc) \n",
        "c"
      ]
    },
    {
      "cell_type": "code",
      "execution_count": 29,
      "metadata": {
        "colab": {
          "base_uri": "https://localhost:8080/"
        },
        "id": "2fbTq6qW3UOm",
        "outputId": "60ea0c34-4e1e-44cc-de4a-ea981b130fa6"
      },
      "outputs": [
        {
          "output_type": "execute_result",
          "data": {
            "text/plain": [
              "array([0, 2, 0, 2, 1, 1, 3, 1, 2, 0, 4, 4, 2, 3, 4, 0, 4, 0, 0, 4, 4, 1,\n",
              "       2, 0, 4, 0, 4, 2, 0, 0, 1, 3, 3, 2, 4, 0])"
            ]
          },
          "metadata": {},
          "execution_count": 29
        }
      ],
      "source": [
        "emo_test"
      ]
    },
    {
      "cell_type": "code",
      "execution_count": 30,
      "metadata": {
        "colab": {
          "base_uri": "https://localhost:8080/"
        },
        "id": "vcuBTzA93UQk",
        "outputId": "8bd8abdb-10cd-4035-b09f-6ad6a8f3934f"
      },
      "outputs": [
        {
          "output_type": "stream",
          "name": "stdout",
          "text": [
            "INFO:tensorflow:Assets written to: /content/drive/My Drive/graduation project/audio/model/original_augmation_Savee_400_epoch_12_kernal_size_and_bat2/assets\n",
            "MODEL SAVED\n"
          ]
        }
      ],
      "source": [
        "#model.save('/content/drive/My Drive/augmanted_radvass')\n",
        "model.save('/content/drive/My Drive/graduation project/audio/model/original_augmation_Savee_400_epoch_12_kernal_size_and_bat2')\n",
        "print(\"MODEL SAVED\")"
      ]
    },
    {
      "cell_type": "code",
      "execution_count": 31,
      "metadata": {
        "colab": {
          "base_uri": "https://localhost:8080/"
        },
        "id": "gleoIwgk3aRm",
        "outputId": "096170f4-73bd-41bc-a822-ad9245c1b19c"
      },
      "outputs": [
        {
          "output_type": "stream",
          "name": "stdout",
          "text": [
            "Model: \"sequential\"\n",
            "_________________________________________________________________\n",
            " Layer (type)                Output Shape              Param #   \n",
            "=================================================================\n",
            " batch_normalization (BatchN  (None, 40, 1)            4         \n",
            " ormalization)                                                   \n",
            "                                                                 \n",
            " conv1d (Conv1D)             (None, 40, 128)           1664      \n",
            "                                                                 \n",
            " batch_normalization_1 (Batc  (None, 40, 128)          512       \n",
            " hNormalization)                                                 \n",
            "                                                                 \n",
            " activation (Activation)     (None, 40, 128)           0         \n",
            "                                                                 \n",
            " dropout (Dropout)           (None, 40, 128)           0         \n",
            "                                                                 \n",
            " max_pooling1d (MaxPooling1D  (None, 8, 128)           0         \n",
            " )                                                               \n",
            "                                                                 \n",
            " conv1d_1 (Conv1D)           (None, 8, 256)            393472    \n",
            "                                                                 \n",
            " batch_normalization_2 (Batc  (None, 8, 256)           1024      \n",
            " hNormalization)                                                 \n",
            "                                                                 \n",
            " activation_1 (Activation)   (None, 8, 256)            0         \n",
            "                                                                 \n",
            " dropout_1 (Dropout)         (None, 8, 256)            0         \n",
            "                                                                 \n",
            " max_pooling1d_1 (MaxPooling  (None, 1, 256)           0         \n",
            " 1D)                                                             \n",
            "                                                                 \n",
            " flatten (Flatten)           (None, 256)               0         \n",
            "                                                                 \n",
            " dense (Dense)               (None, 6)                 1542      \n",
            "                                                                 \n",
            " activation_2 (Activation)   (None, 6)                 0         \n",
            "                                                                 \n",
            "=================================================================\n",
            "Total params: 398,218\n",
            "Trainable params: 397,448\n",
            "Non-trainable params: 770\n",
            "_________________________________________________________________\n"
          ]
        }
      ],
      "source": [
        "#new_model=keras.models.load_model('/content/drive/My Drive/augmanted_radvass')\n",
        "new_model=keras.models.load_model('/content/drive/My Drive/graduation project/audio/model/original_augmation_Savee_400_epoch_12_kernal_size_and_bat2')\n",
        "new_model.summary()"
      ]
    },
    {
      "cell_type": "code",
      "execution_count": 32,
      "metadata": {
        "colab": {
          "base_uri": "https://localhost:8080/"
        },
        "id": "Pufwy7Ia3b12",
        "outputId": "6a1d5c97-ed66-4daa-a3c1-9f04beb2602e"
      },
      "outputs": [
        {
          "output_type": "stream",
          "name": "stdout",
          "text": [
            "2/2 [==============================] - 0s 7ms/step - loss: 0.7416 - accuracy: 0.7500\n",
            "Restored model, accuracy: 75.00%\n"
          ]
        }
      ],
      "source": [
        "loss, acc = model.evaluate(x_test, emo_test)\n",
        "print(\"Restored model, accuracy: {:5.2f}%\".format(100*acc))"
      ]
    },
    {
      "cell_type": "code",
      "execution_count": 33,
      "metadata": {
        "colab": {
          "base_uri": "https://localhost:8080/"
        },
        "id": "gqYIsrpY3drM",
        "outputId": "efc4812d-d940-4b4f-bd06-76062c2b8df5"
      },
      "outputs": [
        {
          "output_type": "stream",
          "name": "stdout",
          "text": [
            "36/36 [==============================] - 0s 7ms/step - loss: 0.0014 - accuracy: 1.0000\n",
            "Restored model, accuracy: 100.00%\n"
          ]
        }
      ],
      "source": [
        "loss, acc = model.evaluate(x_train, y_train)\n",
        "print(\"Restored model, accuracy: {:5.2f}%\".format(100*acc))"
      ]
    },
    {
      "cell_type": "code",
      "execution_count": 34,
      "metadata": {
        "colab": {
          "base_uri": "https://localhost:8080/",
          "height": 606
        },
        "id": "biI56TZV3fPV",
        "outputId": "6d528c93-1e32-4c0c-c97b-0175d5c418e3"
      },
      "outputs": [
        {
          "output_type": "stream",
          "name": "stdout",
          "text": [
            "              precision    recall  f1-score   support\n",
            "\n",
            "           0       1.00      0.73      0.84        11\n",
            "           1       0.50      0.40      0.44         5\n",
            "           2       1.00      0.57      0.73         7\n",
            "           3       0.67      1.00      0.80         4\n",
            "           4       0.64      1.00      0.78         9\n",
            "\n",
            "    accuracy                           0.75        36\n",
            "   macro avg       0.76      0.74      0.72        36\n",
            "weighted avg       0.80      0.75      0.74        36\n",
            "\n",
            "----accuracy score 75.0 ----\n"
          ]
        },
        {
          "output_type": "error",
          "ename": "ValueError",
          "evalue": "ignored",
          "traceback": [
            "\u001b[0;31m---------------------------------------------------------------------------\u001b[0m",
            "\u001b[0;31mValueError\u001b[0m                                Traceback (most recent call last)",
            "\u001b[0;32m<ipython-input-34-ced4651393a1>\u001b[0m in \u001b[0;36m<module>\u001b[0;34m()\u001b[0m\n\u001b[1;32m     10\u001b[0m \u001b[0;31m#df_cm = pd.DataFrame(cm)\u001b[0m\u001b[0;34m\u001b[0m\u001b[0;34m\u001b[0m\u001b[0;34m\u001b[0m\u001b[0m\n\u001b[1;32m     11\u001b[0m \u001b[0mclass_names\u001b[0m \u001b[0;34m=\u001b[0m \u001b[0;34m[\u001b[0m\u001b[0;34m'neutral'\u001b[0m\u001b[0;34m,\u001b[0m\u001b[0;34m'calm'\u001b[0m\u001b[0;34m,\u001b[0m \u001b[0;34m'happy'\u001b[0m\u001b[0;34m,\u001b[0m\u001b[0;34m'sad'\u001b[0m\u001b[0;34m,\u001b[0m\u001b[0;34m'angry'\u001b[0m\u001b[0;34m,\u001b[0m \u001b[0;34m'fearful'\u001b[0m \u001b[0;34m]\u001b[0m\u001b[0;34m\u001b[0m\u001b[0;34m\u001b[0m\u001b[0m\n\u001b[0;32m---> 12\u001b[0;31m \u001b[0mdf_cm\u001b[0m \u001b[0;34m=\u001b[0m \u001b[0mpd\u001b[0m\u001b[0;34m.\u001b[0m\u001b[0mDataFrame\u001b[0m\u001b[0;34m(\u001b[0m\u001b[0mcm\u001b[0m\u001b[0;34m,\u001b[0m \u001b[0mindex\u001b[0m\u001b[0;34m=\u001b[0m\u001b[0mclass_names\u001b[0m\u001b[0;34m,\u001b[0m \u001b[0mcolumns\u001b[0m\u001b[0;34m=\u001b[0m\u001b[0mclass_names\u001b[0m\u001b[0;34m,\u001b[0m\u001b[0;34m)\u001b[0m\u001b[0;34m\u001b[0m\u001b[0;34m\u001b[0m\u001b[0m\n\u001b[0m\u001b[1;32m     13\u001b[0m \u001b[0msn\u001b[0m\u001b[0;34m.\u001b[0m\u001b[0mheatmap\u001b[0m\u001b[0;34m(\u001b[0m\u001b[0mdf_cm\u001b[0m\u001b[0;34m,\u001b[0m \u001b[0mannot\u001b[0m\u001b[0;34m=\u001b[0m\u001b[0;32mTrue\u001b[0m\u001b[0;34m,\u001b[0m \u001b[0mfmt\u001b[0m\u001b[0;34m=\u001b[0m\u001b[0;34m''\u001b[0m\u001b[0;34m)\u001b[0m\u001b[0;34m\u001b[0m\u001b[0;34m\u001b[0m\u001b[0m\n\u001b[1;32m     14\u001b[0m \u001b[0mplt\u001b[0m\u001b[0;34m.\u001b[0m\u001b[0mshow\u001b[0m\u001b[0;34m(\u001b[0m\u001b[0;34m)\u001b[0m\u001b[0;34m\u001b[0m\u001b[0;34m\u001b[0m\u001b[0m\n",
            "\u001b[0;32m/usr/local/lib/python3.7/dist-packages/pandas/core/frame.py\u001b[0m in \u001b[0;36m__init__\u001b[0;34m(self, data, index, columns, dtype, copy)\u001b[0m\n\u001b[1;32m    676\u001b[0m                     \u001b[0mdtype\u001b[0m\u001b[0;34m=\u001b[0m\u001b[0mdtype\u001b[0m\u001b[0;34m,\u001b[0m\u001b[0;34m\u001b[0m\u001b[0;34m\u001b[0m\u001b[0m\n\u001b[1;32m    677\u001b[0m                     \u001b[0mcopy\u001b[0m\u001b[0;34m=\u001b[0m\u001b[0mcopy\u001b[0m\u001b[0;34m,\u001b[0m\u001b[0;34m\u001b[0m\u001b[0;34m\u001b[0m\u001b[0m\n\u001b[0;32m--> 678\u001b[0;31m                     \u001b[0mtyp\u001b[0m\u001b[0;34m=\u001b[0m\u001b[0mmanager\u001b[0m\u001b[0;34m,\u001b[0m\u001b[0;34m\u001b[0m\u001b[0;34m\u001b[0m\u001b[0m\n\u001b[0m\u001b[1;32m    679\u001b[0m                 )\n\u001b[1;32m    680\u001b[0m \u001b[0;34m\u001b[0m\u001b[0m\n",
            "\u001b[0;32m/usr/local/lib/python3.7/dist-packages/pandas/core/internals/construction.py\u001b[0m in \u001b[0;36mndarray_to_mgr\u001b[0;34m(values, index, columns, dtype, copy, typ)\u001b[0m\n\u001b[1;32m    322\u001b[0m     )\n\u001b[1;32m    323\u001b[0m \u001b[0;34m\u001b[0m\u001b[0m\n\u001b[0;32m--> 324\u001b[0;31m     \u001b[0m_check_values_indices_shape_match\u001b[0m\u001b[0;34m(\u001b[0m\u001b[0mvalues\u001b[0m\u001b[0;34m,\u001b[0m \u001b[0mindex\u001b[0m\u001b[0;34m,\u001b[0m \u001b[0mcolumns\u001b[0m\u001b[0;34m)\u001b[0m\u001b[0;34m\u001b[0m\u001b[0;34m\u001b[0m\u001b[0m\n\u001b[0m\u001b[1;32m    325\u001b[0m \u001b[0;34m\u001b[0m\u001b[0m\n\u001b[1;32m    326\u001b[0m     \u001b[0;32mif\u001b[0m \u001b[0mtyp\u001b[0m \u001b[0;34m==\u001b[0m \u001b[0;34m\"array\"\u001b[0m\u001b[0;34m:\u001b[0m\u001b[0;34m\u001b[0m\u001b[0;34m\u001b[0m\u001b[0m\n",
            "\u001b[0;32m/usr/local/lib/python3.7/dist-packages/pandas/core/internals/construction.py\u001b[0m in \u001b[0;36m_check_values_indices_shape_match\u001b[0;34m(values, index, columns)\u001b[0m\n\u001b[1;32m    391\u001b[0m         \u001b[0mpassed\u001b[0m \u001b[0;34m=\u001b[0m \u001b[0mvalues\u001b[0m\u001b[0;34m.\u001b[0m\u001b[0mshape\u001b[0m\u001b[0;34m\u001b[0m\u001b[0;34m\u001b[0m\u001b[0m\n\u001b[1;32m    392\u001b[0m         \u001b[0mimplied\u001b[0m \u001b[0;34m=\u001b[0m \u001b[0;34m(\u001b[0m\u001b[0mlen\u001b[0m\u001b[0;34m(\u001b[0m\u001b[0mindex\u001b[0m\u001b[0;34m)\u001b[0m\u001b[0;34m,\u001b[0m \u001b[0mlen\u001b[0m\u001b[0;34m(\u001b[0m\u001b[0mcolumns\u001b[0m\u001b[0;34m)\u001b[0m\u001b[0;34m)\u001b[0m\u001b[0;34m\u001b[0m\u001b[0;34m\u001b[0m\u001b[0m\n\u001b[0;32m--> 393\u001b[0;31m         \u001b[0;32mraise\u001b[0m \u001b[0mValueError\u001b[0m\u001b[0;34m(\u001b[0m\u001b[0;34mf\"Shape of passed values is {passed}, indices imply {implied}\"\u001b[0m\u001b[0;34m)\u001b[0m\u001b[0;34m\u001b[0m\u001b[0;34m\u001b[0m\u001b[0m\n\u001b[0m\u001b[1;32m    394\u001b[0m \u001b[0;34m\u001b[0m\u001b[0m\n\u001b[1;32m    395\u001b[0m \u001b[0;34m\u001b[0m\u001b[0m\n",
            "\u001b[0;31mValueError\u001b[0m: Shape of passed values is (5, 5), indices imply (6, 6)"
          ]
        }
      ],
      "source": [
        "from sklearn.metrics import classification_report, confusion_matrix,accuracy_score\n",
        "import seaborn as sn\n",
        "\n",
        "print(classification_report(emo_test,abc))\n",
        "\n",
        "acc = float(accuracy_score(emo_test,abc))*100\n",
        "print(\"----accuracy score %s ----\" % acc)\n",
        "\n",
        "cm = confusion_matrix(emo_test,abc)\n",
        "#df_cm = pd.DataFrame(cm)\n",
        "class_names = ['neutral','calm', 'happy','sad','angry', 'fearful' ]\n",
        "df_cm = pd.DataFrame(cm, index=class_names, columns=class_names,)\n",
        "sn.heatmap(df_cm, annot=True, fmt='')\n",
        "plt.show()"
      ]
    },
    {
      "cell_type": "code",
      "execution_count": null,
      "metadata": {
        "id": "59mA6uxedOYx"
      },
      "outputs": [],
      "source": [
        ""
      ]
    }
  ],
  "metadata": {
    "colab": {
      "collapsed_sections": [],
      "name": "_original_augmation_Savee_400_epoch_12_kernal_size_and_bat2.ipynb",
      "provenance": []
    },
    "kernelspec": {
      "display_name": "Python 3",
      "language": "python",
      "name": "python3"
    },
    "language_info": {
      "codemirror_mode": {
        "name": "ipython",
        "version": 3
      },
      "file_extension": ".py",
      "mimetype": "text/x-python",
      "name": "python",
      "nbconvert_exporter": "python",
      "pygments_lexer": "ipython3",
      "version": "3.7.10"
    }
  },
  "nbformat": 4,
  "nbformat_minor": 0
}