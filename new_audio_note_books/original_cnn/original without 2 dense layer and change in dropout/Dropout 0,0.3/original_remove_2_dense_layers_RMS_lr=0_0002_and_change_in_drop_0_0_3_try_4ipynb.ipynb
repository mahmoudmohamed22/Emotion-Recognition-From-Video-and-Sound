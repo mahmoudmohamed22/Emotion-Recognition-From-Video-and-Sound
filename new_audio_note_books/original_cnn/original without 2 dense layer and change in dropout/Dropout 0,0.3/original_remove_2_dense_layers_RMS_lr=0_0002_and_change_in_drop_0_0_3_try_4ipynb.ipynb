{
  "nbformat": 4,
  "nbformat_minor": 0,
  "metadata": {
    "colab": {
      "name": "original remove 2 dense layers RMS lr=0.0002 and change in drop 0 0.3 try 4ipynb",
      "provenance": [],
      "collapsed_sections": []
    },
    "kernelspec": {
      "name": "python3",
      "display_name": "Python 3"
    },
    "language_info": {
      "name": "python"
    },
    "accelerator": "GPU"
  },
  "cells": [
    {
      "cell_type": "code",
      "execution_count": 1,
      "metadata": {
        "colab": {
          "base_uri": "https://localhost:8080/"
        },
        "id": "9SRCO-a_AlH5",
        "outputId": "6f6b27b4-f3b8-4fd9-93fa-fae1a1d8abcd"
      },
      "outputs": [
        {
          "output_type": "stream",
          "name": "stdout",
          "text": [
            "Drive already mounted at /content/drive; to attempt to forcibly remount, call drive.mount(\"/content/drive\", force_remount=True).\n"
          ]
        }
      ],
      "source": [
        "from google.colab import drive\n",
        "drive.mount('/content/drive')"
      ]
    },
    {
      "cell_type": "code",
      "source": [
        "!pip install librosa"
      ],
      "metadata": {
        "colab": {
          "base_uri": "https://localhost:8080/"
        },
        "id": "5Lo4mUwG9RMd",
        "outputId": "18c1b129-7451-4615-ebfc-85d5e45ab73f"
      },
      "execution_count": 2,
      "outputs": [
        {
          "output_type": "stream",
          "name": "stdout",
          "text": [
            "Looking in indexes: https://pypi.org/simple, https://us-python.pkg.dev/colab-wheels/public/simple/\n",
            "Requirement already satisfied: librosa in /usr/local/lib/python3.7/dist-packages (0.8.1)\n",
            "Requirement already satisfied: numba>=0.43.0 in /usr/local/lib/python3.7/dist-packages (from librosa) (0.51.2)\n",
            "Requirement already satisfied: scipy>=1.0.0 in /usr/local/lib/python3.7/dist-packages (from librosa) (1.4.1)\n",
            "Requirement already satisfied: soundfile>=0.10.2 in /usr/local/lib/python3.7/dist-packages (from librosa) (0.10.3.post1)\n",
            "Requirement already satisfied: packaging>=20.0 in /usr/local/lib/python3.7/dist-packages (from librosa) (21.3)\n",
            "Requirement already satisfied: numpy>=1.15.0 in /usr/local/lib/python3.7/dist-packages (from librosa) (1.21.6)\n",
            "Requirement already satisfied: resampy>=0.2.2 in /usr/local/lib/python3.7/dist-packages (from librosa) (0.2.2)\n",
            "Requirement already satisfied: pooch>=1.0 in /usr/local/lib/python3.7/dist-packages (from librosa) (1.6.0)\n",
            "Requirement already satisfied: decorator>=3.0.0 in /usr/local/lib/python3.7/dist-packages (from librosa) (4.4.2)\n",
            "Requirement already satisfied: scikit-learn!=0.19.0,>=0.14.0 in /usr/local/lib/python3.7/dist-packages (from librosa) (1.0.2)\n",
            "Requirement already satisfied: audioread>=2.0.0 in /usr/local/lib/python3.7/dist-packages (from librosa) (2.1.9)\n",
            "Requirement already satisfied: joblib>=0.14 in /usr/local/lib/python3.7/dist-packages (from librosa) (1.1.0)\n",
            "Requirement already satisfied: llvmlite<0.35,>=0.34.0.dev0 in /usr/local/lib/python3.7/dist-packages (from numba>=0.43.0->librosa) (0.34.0)\n",
            "Requirement already satisfied: setuptools in /usr/local/lib/python3.7/dist-packages (from numba>=0.43.0->librosa) (57.4.0)\n",
            "Requirement already satisfied: pyparsing!=3.0.5,>=2.0.2 in /usr/local/lib/python3.7/dist-packages (from packaging>=20.0->librosa) (3.0.9)\n",
            "Requirement already satisfied: appdirs>=1.3.0 in /usr/local/lib/python3.7/dist-packages (from pooch>=1.0->librosa) (1.4.4)\n",
            "Requirement already satisfied: requests>=2.19.0 in /usr/local/lib/python3.7/dist-packages (from pooch>=1.0->librosa) (2.23.0)\n",
            "Requirement already satisfied: idna<3,>=2.5 in /usr/local/lib/python3.7/dist-packages (from requests>=2.19.0->pooch>=1.0->librosa) (2.10)\n",
            "Requirement already satisfied: urllib3!=1.25.0,!=1.25.1,<1.26,>=1.21.1 in /usr/local/lib/python3.7/dist-packages (from requests>=2.19.0->pooch>=1.0->librosa) (1.24.3)\n",
            "Requirement already satisfied: certifi>=2017.4.17 in /usr/local/lib/python3.7/dist-packages (from requests>=2.19.0->pooch>=1.0->librosa) (2022.5.18.1)\n",
            "Requirement already satisfied: chardet<4,>=3.0.2 in /usr/local/lib/python3.7/dist-packages (from requests>=2.19.0->pooch>=1.0->librosa) (3.0.4)\n",
            "Requirement already satisfied: six>=1.3 in /usr/local/lib/python3.7/dist-packages (from resampy>=0.2.2->librosa) (1.15.0)\n",
            "Requirement already satisfied: threadpoolctl>=2.0.0 in /usr/local/lib/python3.7/dist-packages (from scikit-learn!=0.19.0,>=0.14.0->librosa) (3.1.0)\n",
            "Requirement already satisfied: cffi>=1.0 in /usr/local/lib/python3.7/dist-packages (from soundfile>=0.10.2->librosa) (1.15.0)\n",
            "Requirement already satisfied: pycparser in /usr/local/lib/python3.7/dist-packages (from cffi>=1.0->soundfile>=0.10.2->librosa) (2.21)\n"
          ]
        }
      ]
    },
    {
      "cell_type": "code",
      "metadata": {
        "id": "HJjcbxwy46bG",
        "colab": {
          "base_uri": "https://localhost:8080/",
          "height": 17
        },
        "outputId": "b4b4c677-0be3-49ef-8d2a-cd29e00088ba"
      },
      "source": [
        "# Orignial Notebook: https://github.com/MITESHPUTHRANNEU/Speech-Emotion-Analyzer/blob/master/final_results_gender_test.ipynb\n",
        "# This notebook author: Reza Chu\n",
        "# Last Editing Date: 31st May 2019\n",
        "\n",
        "## Python\n",
        "import os\n",
        "import random\n",
        "import sys\n",
        "\n",
        "import IPython\n",
        "from IPython.display import Audio\n",
        "from IPython.display import Image\n",
        "import matplotlib.pyplot as plt\n",
        "\n",
        "## Package\n",
        "import glob \n",
        "import keras\n",
        "import IPython.display as ipd\n",
        "import librosa\n",
        "import librosa.display\n",
        "import matplotlib.pyplot as plt\n",
        "import numpy as np\n",
        "import pandas as pd\n",
        "import plotly.graph_objs as go\n",
        "import plotly.offline as py\n",
        "import plotly.tools as tls\n",
        "import seaborn as sns\n",
        "import scipy.io.wavfile\n",
        "import tensorflow as tf\n",
        "py.init_notebook_mode(connected=True)\n",
        "\n",
        "## Keras\n",
        "from keras import regularizers\n",
        "from keras.callbacks import ModelCheckpoint, LearningRateScheduler, EarlyStopping\n",
        "from keras.callbacks import  History, ReduceLROnPlateau, CSVLogger\n",
        "from keras.models import Model, Sequential\n",
        "from keras.layers import Dense, Embedding, LSTM\n",
        "from keras.layers import Input, Flatten, Dropout, Activation, BatchNormalization\n",
        "from keras.layers import Conv1D, MaxPooling1D, AveragePooling1D\n",
        "from keras.preprocessing import sequence\n",
        "from keras.preprocessing.sequence import pad_sequences\n",
        "from keras.preprocessing.text import Tokenizer\n",
        "from keras.utils import np_utils\n",
        "from tensorflow.keras.utils import to_categorical\n",
        "\n",
        "## Sklearn\n",
        "from sklearn.metrics import confusion_matrix\n",
        "from sklearn.preprocessing import LabelEncoder\n",
        "\n",
        "## Rest\n",
        "from scipy.fftpack import fft\n",
        "from scipy import signal\n",
        "from scipy.io import wavfile\n",
        "from tqdm import tqdm\n",
        "\n",
        "input_duration=3\n",
        "# % pylab inline"
      ],
      "execution_count": 3,
      "outputs": [
        {
          "output_type": "display_data",
          "data": {
            "text/html": [
              "        <script type=\"text/javascript\">\n",
              "        window.PlotlyConfig = {MathJaxConfig: 'local'};\n",
              "        if (window.MathJax) {MathJax.Hub.Config({SVG: {font: \"STIX-Web\"}});}\n",
              "        if (typeof require !== 'undefined') {\n",
              "        require.undef(\"plotly\");\n",
              "        requirejs.config({\n",
              "            paths: {\n",
              "                'plotly': ['https://cdn.plot.ly/plotly-2.8.3.min']\n",
              "            }\n",
              "        });\n",
              "        require(['plotly'], function(Plotly) {\n",
              "            window._Plotly = Plotly;\n",
              "        });\n",
              "        }\n",
              "        </script>\n",
              "        "
            ]
          },
          "metadata": {}
        }
      ]
    },
    {
      "cell_type": "code",
      "source": [
        "# # Saving joblib files to not load them again with the loop above\n",
        "\n",
        "# import joblib\n",
        "\n",
        "# X_name = 'x.joblib'\n",
        "# y_name = 'y.joblib'\n",
        "# save_dir = '/content/drive/My Drive/graduation project/audio/paper_code/features'\n",
        "\n",
        "# savedX = joblib.dump(X, os.path.join(save_dir, X_name))\n",
        "# savedy = joblib.dump(y, os.path.join(save_dir, y_name))"
      ],
      "metadata": {
        "id": "UCzic8rlDcuk"
      },
      "execution_count": 4,
      "outputs": []
    },
    {
      "cell_type": "code",
      "source": [
        "# # Loading saved models\n",
        "import joblib\n",
        "X = joblib.load('/content/drive/My Drive/graduation project/audio/paper_code/features/x.joblib')\n",
        "y = joblib.load('/content/drive/My Drive/graduation project/audio/paper_code/features/y.joblib')"
      ],
      "metadata": {
        "id": "Q35CN6zDrzg1"
      },
      "execution_count": 5,
      "outputs": []
    },
    {
      "cell_type": "code",
      "source": [
        "X.shape"
      ],
      "metadata": {
        "colab": {
          "base_uri": "https://localhost:8080/"
        },
        "id": "7PSTurzjCo5K",
        "outputId": "52d665c4-3149-47ac-a872-88fbfe714d30"
      },
      "execution_count": 6,
      "outputs": [
        {
          "output_type": "execute_result",
          "data": {
            "text/plain": [
              "(2068, 40)"
            ]
          },
          "metadata": {},
          "execution_count": 6
        }
      ]
    },
    {
      "cell_type": "code",
      "source": [
        "from sklearn.model_selection import train_test_split\n",
        "\n",
        "X_train, X_test, y_train, y_test = train_test_split(X,y, test_size=0.1 ,shuffle = True\n",
        "                                                    , random_state=42)\n",
        "X_train , X_valid, y_train, y_valid = train_test_split(X_train,y_train, test_size=0.1112305212 , shuffle = True \n",
        "                                                       , random_state=42)"
      ],
      "metadata": {
        "id": "Ai4Fy5cPCiq1"
      },
      "execution_count": 7,
      "outputs": []
    },
    {
      "cell_type": "code",
      "source": [
        "import numpy as np\n",
        "x_traincnn = np.expand_dims(X_train, axis=2)\n",
        "x_testcnn = np.expand_dims(X_test, axis=2)\n",
        "X_valid= np.expand_dims(X_valid, axis=2)"
      ],
      "metadata": {
        "id": "tp1Fm5K3CEXu"
      },
      "execution_count": 8,
      "outputs": []
    },
    {
      "cell_type": "code",
      "source": [
        "x_traincnn.shape, x_testcnn.shape , X_valid.shape\n",
        "#1861"
      ],
      "metadata": {
        "id": "RI0MxoIPBws5",
        "colab": {
          "base_uri": "https://localhost:8080/"
        },
        "outputId": "89be4f05-a301-4e9c-f065-02a5e2d959b2"
      },
      "execution_count": 9,
      "outputs": [
        {
          "output_type": "execute_result",
          "data": {
            "text/plain": [
              "((1654, 40, 1), (207, 40, 1), (207, 40, 1))"
            ]
          },
          "metadata": {},
          "execution_count": 9
        }
      ]
    },
    {
      "cell_type": "code",
      "source": [
        "!pip install tensorflow"
      ],
      "metadata": {
        "colab": {
          "base_uri": "https://localhost:8080/"
        },
        "id": "oALhiMUd9G2Y",
        "outputId": "34b05461-a21f-4786-9ab4-335dd6cf2309"
      },
      "execution_count": 10,
      "outputs": [
        {
          "output_type": "stream",
          "name": "stdout",
          "text": [
            "Looking in indexes: https://pypi.org/simple, https://us-python.pkg.dev/colab-wheels/public/simple/\n",
            "Requirement already satisfied: tensorflow in /usr/local/lib/python3.7/dist-packages (2.8.2+zzzcolab20220527125636)\n",
            "Requirement already satisfied: termcolor>=1.1.0 in /usr/local/lib/python3.7/dist-packages (from tensorflow) (1.1.0)\n",
            "Requirement already satisfied: google-pasta>=0.1.1 in /usr/local/lib/python3.7/dist-packages (from tensorflow) (0.2.0)\n",
            "Requirement already satisfied: astunparse>=1.6.0 in /usr/local/lib/python3.7/dist-packages (from tensorflow) (1.6.3)\n",
            "Requirement already satisfied: h5py>=2.9.0 in /usr/local/lib/python3.7/dist-packages (from tensorflow) (3.1.0)\n",
            "Requirement already satisfied: grpcio<2.0,>=1.24.3 in /usr/local/lib/python3.7/dist-packages (from tensorflow) (1.46.3)\n",
            "Requirement already satisfied: setuptools in /usr/local/lib/python3.7/dist-packages (from tensorflow) (57.4.0)\n",
            "Requirement already satisfied: wrapt>=1.11.0 in /usr/local/lib/python3.7/dist-packages (from tensorflow) (1.14.1)\n",
            "Requirement already satisfied: tensorflow-io-gcs-filesystem>=0.23.1 in /usr/local/lib/python3.7/dist-packages (from tensorflow) (0.26.0)\n",
            "Requirement already satisfied: gast>=0.2.1 in /usr/local/lib/python3.7/dist-packages (from tensorflow) (0.5.3)\n",
            "Requirement already satisfied: six>=1.12.0 in /usr/local/lib/python3.7/dist-packages (from tensorflow) (1.15.0)\n",
            "Requirement already satisfied: keras-preprocessing>=1.1.1 in /usr/local/lib/python3.7/dist-packages (from tensorflow) (1.1.2)\n",
            "Requirement already satisfied: numpy>=1.20 in /usr/local/lib/python3.7/dist-packages (from tensorflow) (1.21.6)\n",
            "Requirement already satisfied: tensorboard<2.9,>=2.8 in /usr/local/lib/python3.7/dist-packages (from tensorflow) (2.8.0)\n",
            "Requirement already satisfied: keras<2.9,>=2.8.0rc0 in /usr/local/lib/python3.7/dist-packages (from tensorflow) (2.8.0)\n",
            "Requirement already satisfied: absl-py>=0.4.0 in /usr/local/lib/python3.7/dist-packages (from tensorflow) (1.0.0)\n",
            "Requirement already satisfied: libclang>=9.0.1 in /usr/local/lib/python3.7/dist-packages (from tensorflow) (14.0.1)\n",
            "Requirement already satisfied: tensorflow-estimator<2.9,>=2.8 in /usr/local/lib/python3.7/dist-packages (from tensorflow) (2.8.0)\n",
            "Requirement already satisfied: protobuf<3.20,>=3.9.2 in /usr/local/lib/python3.7/dist-packages (from tensorflow) (3.17.3)\n",
            "Requirement already satisfied: typing-extensions>=3.6.6 in /usr/local/lib/python3.7/dist-packages (from tensorflow) (4.2.0)\n",
            "Requirement already satisfied: opt-einsum>=2.3.2 in /usr/local/lib/python3.7/dist-packages (from tensorflow) (3.3.0)\n",
            "Requirement already satisfied: flatbuffers>=1.12 in /usr/local/lib/python3.7/dist-packages (from tensorflow) (2.0)\n",
            "Requirement already satisfied: wheel<1.0,>=0.23.0 in /usr/local/lib/python3.7/dist-packages (from astunparse>=1.6.0->tensorflow) (0.37.1)\n",
            "Requirement already satisfied: cached-property in /usr/local/lib/python3.7/dist-packages (from h5py>=2.9.0->tensorflow) (1.5.2)\n",
            "Requirement already satisfied: markdown>=2.6.8 in /usr/local/lib/python3.7/dist-packages (from tensorboard<2.9,>=2.8->tensorflow) (3.3.7)\n",
            "Requirement already satisfied: tensorboard-data-server<0.7.0,>=0.6.0 in /usr/local/lib/python3.7/dist-packages (from tensorboard<2.9,>=2.8->tensorflow) (0.6.1)\n",
            "Requirement already satisfied: requests<3,>=2.21.0 in /usr/local/lib/python3.7/dist-packages (from tensorboard<2.9,>=2.8->tensorflow) (2.23.0)\n",
            "Requirement already satisfied: tensorboard-plugin-wit>=1.6.0 in /usr/local/lib/python3.7/dist-packages (from tensorboard<2.9,>=2.8->tensorflow) (1.8.1)\n",
            "Requirement already satisfied: werkzeug>=0.11.15 in /usr/local/lib/python3.7/dist-packages (from tensorboard<2.9,>=2.8->tensorflow) (1.0.1)\n",
            "Requirement already satisfied: google-auth-oauthlib<0.5,>=0.4.1 in /usr/local/lib/python3.7/dist-packages (from tensorboard<2.9,>=2.8->tensorflow) (0.4.6)\n",
            "Requirement already satisfied: google-auth<3,>=1.6.3 in /usr/local/lib/python3.7/dist-packages (from tensorboard<2.9,>=2.8->tensorflow) (1.35.0)\n",
            "Requirement already satisfied: cachetools<5.0,>=2.0.0 in /usr/local/lib/python3.7/dist-packages (from google-auth<3,>=1.6.3->tensorboard<2.9,>=2.8->tensorflow) (4.2.4)\n",
            "Requirement already satisfied: rsa<5,>=3.1.4 in /usr/local/lib/python3.7/dist-packages (from google-auth<3,>=1.6.3->tensorboard<2.9,>=2.8->tensorflow) (4.8)\n",
            "Requirement already satisfied: pyasn1-modules>=0.2.1 in /usr/local/lib/python3.7/dist-packages (from google-auth<3,>=1.6.3->tensorboard<2.9,>=2.8->tensorflow) (0.2.8)\n",
            "Requirement already satisfied: requests-oauthlib>=0.7.0 in /usr/local/lib/python3.7/dist-packages (from google-auth-oauthlib<0.5,>=0.4.1->tensorboard<2.9,>=2.8->tensorflow) (1.3.1)\n",
            "Requirement already satisfied: importlib-metadata>=4.4 in /usr/local/lib/python3.7/dist-packages (from markdown>=2.6.8->tensorboard<2.9,>=2.8->tensorflow) (4.11.4)\n",
            "Requirement already satisfied: zipp>=0.5 in /usr/local/lib/python3.7/dist-packages (from importlib-metadata>=4.4->markdown>=2.6.8->tensorboard<2.9,>=2.8->tensorflow) (3.8.0)\n",
            "Requirement already satisfied: pyasn1<0.5.0,>=0.4.6 in /usr/local/lib/python3.7/dist-packages (from pyasn1-modules>=0.2.1->google-auth<3,>=1.6.3->tensorboard<2.9,>=2.8->tensorflow) (0.4.8)\n",
            "Requirement already satisfied: chardet<4,>=3.0.2 in /usr/local/lib/python3.7/dist-packages (from requests<3,>=2.21.0->tensorboard<2.9,>=2.8->tensorflow) (3.0.4)\n",
            "Requirement already satisfied: idna<3,>=2.5 in /usr/local/lib/python3.7/dist-packages (from requests<3,>=2.21.0->tensorboard<2.9,>=2.8->tensorflow) (2.10)\n",
            "Requirement already satisfied: certifi>=2017.4.17 in /usr/local/lib/python3.7/dist-packages (from requests<3,>=2.21.0->tensorboard<2.9,>=2.8->tensorflow) (2022.5.18.1)\n",
            "Requirement already satisfied: urllib3!=1.25.0,!=1.25.1,<1.26,>=1.21.1 in /usr/local/lib/python3.7/dist-packages (from requests<3,>=2.21.0->tensorboard<2.9,>=2.8->tensorflow) (1.24.3)\n",
            "Requirement already satisfied: oauthlib>=3.0.0 in /usr/local/lib/python3.7/dist-packages (from requests-oauthlib>=0.7.0->google-auth-oauthlib<0.5,>=0.4.1->tensorboard<2.9,>=2.8->tensorflow) (3.2.0)\n"
          ]
        }
      ]
    },
    {
      "cell_type": "code",
      "source": [
        "import keras\n",
        "import numpy as np\n",
        "import matplotlib.pyplot as plt\n",
        "import tensorflow as tf\n",
        "from keras.preprocessing import sequence\n",
        "from keras.models import Sequential\n",
        "from keras.layers import Dense, Embedding\n",
        "from tensorflow.keras.utils import to_categorical\n",
        "from keras.layers import Input, Flatten, Dropout, Activation\n",
        "from keras.layers import Conv1D, MaxPooling1D\n",
        "from keras.models import Model\n",
        "from keras.callbacks import ModelCheckpoint\n",
        "from tensorflow.keras import optimizers\n",
        "\n",
        "model = Sequential()\n",
        "\n",
        "model.add(Conv1D(128, 8,padding='same', #classifier.add(Convolution2D(64, (3, 3), padding = 'same', input_shape = (128, 128, 3), activation = 'relu'))\n",
        "                 input_shape=(40,1)))\n",
        "model.add(Activation('relu'))\n",
        "model.add(Dropout(0))\n",
        "model.add(MaxPooling1D(pool_size=(5)))\n",
        "\n",
        "\n",
        "model.add(Conv1D(256,8,padding='same',))\n",
        "model.add(Activation('relu'))\n",
        "model.add(Dropout(0.3))\n",
        "model.add(MaxPooling1D(pool_size=(5)))\n",
        "\n",
        "#model.add(MaxPooling1D(pool_size=(5)))\n",
        "\n",
        "model.add(Flatten())\n",
        "\n",
        "\n",
        "\n",
        "model.add(Dense(6))\n",
        "model.add(Activation('softmax'))\n",
        "\n",
        "\n",
        "opt = tf.keras.optimizers.RMSprop(lr=0.0002 , decay=0.0)\n",
        "#opt = tf.keras.optimizers.Adam(lr=0.0002 , decay=0.0)\n",
        "#opt = tf.keras.optimizers.RMSprop(lr=0.0001, rho=0.9, epsilon=1e-07, decay=0.0)\n",
        "#opt = tf.keras.optimizers.SGD(lr=0.001, momentum=0.0, decay=0.0, nesterov=False)"
      ],
      "metadata": {
        "id": "g74fXWVAC4Cr",
        "colab": {
          "base_uri": "https://localhost:8080/"
        },
        "outputId": "93795ef2-b1be-4b2b-ce4c-e7caafe229f1"
      },
      "execution_count": 11,
      "outputs": [
        {
          "output_type": "stream",
          "name": "stderr",
          "text": [
            "/usr/local/lib/python3.7/dist-packages/keras/optimizer_v2/rmsprop.py:130: UserWarning:\n",
            "\n",
            "The `lr` argument is deprecated, use `learning_rate` instead.\n",
            "\n"
          ]
        }
      ]
    },
    {
      "cell_type": "code",
      "source": [
        "model.summary()"
      ],
      "metadata": {
        "colab": {
          "base_uri": "https://localhost:8080/"
        },
        "id": "H6ukOxAGC_I4",
        "outputId": "026a5ade-9031-49ed-821e-4c09be8bf900"
      },
      "execution_count": 12,
      "outputs": [
        {
          "output_type": "stream",
          "name": "stdout",
          "text": [
            "Model: \"sequential\"\n",
            "_________________________________________________________________\n",
            " Layer (type)                Output Shape              Param #   \n",
            "=================================================================\n",
            " conv1d (Conv1D)             (None, 40, 128)           1152      \n",
            "                                                                 \n",
            " activation (Activation)     (None, 40, 128)           0         \n",
            "                                                                 \n",
            " dropout (Dropout)           (None, 40, 128)           0         \n",
            "                                                                 \n",
            " max_pooling1d (MaxPooling1D  (None, 8, 128)           0         \n",
            " )                                                               \n",
            "                                                                 \n",
            " conv1d_1 (Conv1D)           (None, 8, 256)            262400    \n",
            "                                                                 \n",
            " activation_1 (Activation)   (None, 8, 256)            0         \n",
            "                                                                 \n",
            " dropout_1 (Dropout)         (None, 8, 256)            0         \n",
            "                                                                 \n",
            " max_pooling1d_1 (MaxPooling  (None, 1, 256)           0         \n",
            " 1D)                                                             \n",
            "                                                                 \n",
            " flatten (Flatten)           (None, 256)               0         \n",
            "                                                                 \n",
            " dense (Dense)               (None, 6)                 1542      \n",
            "                                                                 \n",
            " activation_2 (Activation)   (None, 6)                 0         \n",
            "                                                                 \n",
            "=================================================================\n",
            "Total params: 265,094\n",
            "Trainable params: 265,094\n",
            "Non-trainable params: 0\n",
            "_________________________________________________________________\n"
          ]
        }
      ]
    },
    {
      "cell_type": "code",
      "source": [
        "model.compile(loss='sparse_categorical_crossentropy',\n",
        "              optimizer=opt,\n",
        "              metrics=['accuracy'])"
      ],
      "metadata": {
        "id": "AbMlLNk4DCBM"
      },
      "execution_count": 13,
      "outputs": []
    },
    {
      "cell_type": "code",
      "source": [
        "# Create an Instance of Early Stopping Callback.\n",
        "early_stopping_callback = EarlyStopping(monitor = 'val_loss', patience = 25, mode = 'min', restore_best_weights = True)\n",
        "\n",
        "cnnhistory=model.fit(x_traincnn, y_train, batch_size=16, epochs=500 , shuffle = True, \n",
        "                     validation_data=(X_valid, y_valid) , callbacks = [early_stopping_callback])"
      ],
      "metadata": {
        "colab": {
          "base_uri": "https://localhost:8080/"
        },
        "id": "RI1v2AuADFhy",
        "outputId": "7f0d321e-1c37-4f86-a91e-b59e22b342ba"
      },
      "execution_count": 14,
      "outputs": [
        {
          "output_type": "stream",
          "name": "stdout",
          "text": [
            "Epoch 1/500\n",
            "104/104 [==============================] - 5s 12ms/step - loss: 9.6305 - accuracy: 0.1989 - val_loss: 7.5506 - val_accuracy: 0.1594\n",
            "Epoch 2/500\n",
            "104/104 [==============================] - 1s 8ms/step - loss: 6.7828 - accuracy: 0.2110 - val_loss: 5.5622 - val_accuracy: 0.2560\n",
            "Epoch 3/500\n",
            "104/104 [==============================] - 1s 10ms/step - loss: 5.4776 - accuracy: 0.2418 - val_loss: 5.7902 - val_accuracy: 0.1787\n",
            "Epoch 4/500\n",
            "104/104 [==============================] - 1s 8ms/step - loss: 4.6669 - accuracy: 0.2582 - val_loss: 4.4463 - val_accuracy: 0.2415\n",
            "Epoch 5/500\n",
            "104/104 [==============================] - 1s 9ms/step - loss: 4.3060 - accuracy: 0.2775 - val_loss: 3.8341 - val_accuracy: 0.2126\n",
            "Epoch 6/500\n",
            "104/104 [==============================] - 1s 9ms/step - loss: 3.8908 - accuracy: 0.2696 - val_loss: 2.6278 - val_accuracy: 0.2609\n",
            "Epoch 7/500\n",
            "104/104 [==============================] - 1s 8ms/step - loss: 3.4451 - accuracy: 0.3102 - val_loss: 2.9017 - val_accuracy: 0.2947\n",
            "Epoch 8/500\n",
            "104/104 [==============================] - 1s 8ms/step - loss: 3.3451 - accuracy: 0.2884 - val_loss: 3.7242 - val_accuracy: 0.2029\n",
            "Epoch 9/500\n",
            "104/104 [==============================] - 1s 7ms/step - loss: 3.0719 - accuracy: 0.3180 - val_loss: 1.5880 - val_accuracy: 0.4251\n",
            "Epoch 10/500\n",
            "104/104 [==============================] - 1s 9ms/step - loss: 2.8109 - accuracy: 0.3325 - val_loss: 3.0229 - val_accuracy: 0.2222\n",
            "Epoch 11/500\n",
            "104/104 [==============================] - 1s 8ms/step - loss: 2.6337 - accuracy: 0.3561 - val_loss: 2.4771 - val_accuracy: 0.2705\n",
            "Epoch 12/500\n",
            "104/104 [==============================] - 1s 8ms/step - loss: 2.5996 - accuracy: 0.3398 - val_loss: 2.2901 - val_accuracy: 0.2802\n",
            "Epoch 13/500\n",
            "104/104 [==============================] - 1s 9ms/step - loss: 2.4127 - accuracy: 0.3664 - val_loss: 1.7882 - val_accuracy: 0.3671\n",
            "Epoch 14/500\n",
            "104/104 [==============================] - 1s 8ms/step - loss: 2.3277 - accuracy: 0.3640 - val_loss: 2.7126 - val_accuracy: 0.2415\n",
            "Epoch 15/500\n",
            "104/104 [==============================] - 1s 7ms/step - loss: 2.2594 - accuracy: 0.3827 - val_loss: 1.9775 - val_accuracy: 0.3285\n",
            "Epoch 16/500\n",
            "104/104 [==============================] - 1s 9ms/step - loss: 2.0611 - accuracy: 0.4057 - val_loss: 1.5765 - val_accuracy: 0.4348\n",
            "Epoch 17/500\n",
            "104/104 [==============================] - 1s 9ms/step - loss: 2.0009 - accuracy: 0.4244 - val_loss: 1.8290 - val_accuracy: 0.4155\n",
            "Epoch 18/500\n",
            "104/104 [==============================] - 1s 10ms/step - loss: 1.9240 - accuracy: 0.4359 - val_loss: 1.6011 - val_accuracy: 0.3865\n",
            "Epoch 19/500\n",
            "104/104 [==============================] - 1s 9ms/step - loss: 1.8722 - accuracy: 0.4414 - val_loss: 1.5462 - val_accuracy: 0.4010\n",
            "Epoch 20/500\n",
            "104/104 [==============================] - 1s 8ms/step - loss: 1.7001 - accuracy: 0.4825 - val_loss: 1.8430 - val_accuracy: 0.3285\n",
            "Epoch 21/500\n",
            "104/104 [==============================] - 1s 8ms/step - loss: 1.7160 - accuracy: 0.4510 - val_loss: 1.1731 - val_accuracy: 0.6184\n",
            "Epoch 22/500\n",
            "104/104 [==============================] - 1s 9ms/step - loss: 1.6433 - accuracy: 0.4867 - val_loss: 2.2331 - val_accuracy: 0.3768\n",
            "Epoch 23/500\n",
            "104/104 [==============================] - 1s 9ms/step - loss: 1.5269 - accuracy: 0.4891 - val_loss: 1.2599 - val_accuracy: 0.5024\n",
            "Epoch 24/500\n",
            "104/104 [==============================] - 1s 10ms/step - loss: 1.4594 - accuracy: 0.5163 - val_loss: 1.2629 - val_accuracy: 0.5362\n",
            "Epoch 25/500\n",
            "104/104 [==============================] - 1s 9ms/step - loss: 1.4779 - accuracy: 0.4988 - val_loss: 1.2788 - val_accuracy: 0.5121\n",
            "Epoch 26/500\n",
            "104/104 [==============================] - 1s 7ms/step - loss: 1.3573 - accuracy: 0.5375 - val_loss: 1.2034 - val_accuracy: 0.5024\n",
            "Epoch 27/500\n",
            "104/104 [==============================] - 1s 7ms/step - loss: 1.3808 - accuracy: 0.5472 - val_loss: 1.0746 - val_accuracy: 0.5845\n",
            "Epoch 28/500\n",
            "104/104 [==============================] - 1s 8ms/step - loss: 1.2665 - accuracy: 0.5629 - val_loss: 1.3883 - val_accuracy: 0.4396\n",
            "Epoch 29/500\n",
            "104/104 [==============================] - 1s 5ms/step - loss: 1.2711 - accuracy: 0.5496 - val_loss: 1.0435 - val_accuracy: 0.6135\n",
            "Epoch 30/500\n",
            "104/104 [==============================] - 1s 5ms/step - loss: 1.1936 - accuracy: 0.5768 - val_loss: 1.1622 - val_accuracy: 0.5169\n",
            "Epoch 31/500\n",
            "104/104 [==============================] - 0s 4ms/step - loss: 1.1952 - accuracy: 0.5726 - val_loss: 1.2884 - val_accuracy: 0.5024\n",
            "Epoch 32/500\n",
            "104/104 [==============================] - 1s 5ms/step - loss: 1.1329 - accuracy: 0.5816 - val_loss: 1.1587 - val_accuracy: 0.5990\n",
            "Epoch 33/500\n",
            "104/104 [==============================] - 1s 5ms/step - loss: 1.0760 - accuracy: 0.6004 - val_loss: 0.9951 - val_accuracy: 0.5942\n",
            "Epoch 34/500\n",
            "104/104 [==============================] - 0s 5ms/step - loss: 1.0844 - accuracy: 0.6052 - val_loss: 1.0906 - val_accuracy: 0.5604\n",
            "Epoch 35/500\n",
            "104/104 [==============================] - 1s 5ms/step - loss: 1.0644 - accuracy: 0.6052 - val_loss: 1.0507 - val_accuracy: 0.6232\n",
            "Epoch 36/500\n",
            "104/104 [==============================] - 1s 5ms/step - loss: 1.0176 - accuracy: 0.6209 - val_loss: 1.0385 - val_accuracy: 0.6377\n",
            "Epoch 37/500\n",
            "104/104 [==============================] - 0s 4ms/step - loss: 1.0173 - accuracy: 0.6270 - val_loss: 1.3039 - val_accuracy: 0.4928\n",
            "Epoch 38/500\n",
            "104/104 [==============================] - 1s 5ms/step - loss: 1.0056 - accuracy: 0.6336 - val_loss: 1.0978 - val_accuracy: 0.5990\n",
            "Epoch 39/500\n",
            "104/104 [==============================] - 0s 5ms/step - loss: 0.9640 - accuracy: 0.6288 - val_loss: 1.3466 - val_accuracy: 0.4976\n",
            "Epoch 40/500\n",
            "104/104 [==============================] - 0s 5ms/step - loss: 0.9490 - accuracy: 0.6524 - val_loss: 0.9451 - val_accuracy: 0.6377\n",
            "Epoch 41/500\n",
            "104/104 [==============================] - 1s 5ms/step - loss: 0.9080 - accuracy: 0.6614 - val_loss: 1.1827 - val_accuracy: 0.5700\n",
            "Epoch 42/500\n",
            "104/104 [==============================] - 0s 5ms/step - loss: 0.9041 - accuracy: 0.6584 - val_loss: 1.0798 - val_accuracy: 0.6087\n",
            "Epoch 43/500\n",
            "104/104 [==============================] - 0s 5ms/step - loss: 0.8997 - accuracy: 0.6560 - val_loss: 1.1215 - val_accuracy: 0.5556\n",
            "Epoch 44/500\n",
            "104/104 [==============================] - 1s 5ms/step - loss: 0.8540 - accuracy: 0.6844 - val_loss: 0.8971 - val_accuracy: 0.6425\n",
            "Epoch 45/500\n",
            "104/104 [==============================] - 0s 4ms/step - loss: 0.8505 - accuracy: 0.6844 - val_loss: 1.1310 - val_accuracy: 0.5845\n",
            "Epoch 46/500\n",
            "104/104 [==============================] - 1s 5ms/step - loss: 0.8349 - accuracy: 0.6657 - val_loss: 0.9578 - val_accuracy: 0.6377\n",
            "Epoch 47/500\n",
            "104/104 [==============================] - 1s 5ms/step - loss: 0.7852 - accuracy: 0.6989 - val_loss: 0.8939 - val_accuracy: 0.6715\n",
            "Epoch 48/500\n",
            "104/104 [==============================] - 0s 5ms/step - loss: 0.8273 - accuracy: 0.6874 - val_loss: 0.9337 - val_accuracy: 0.6570\n",
            "Epoch 49/500\n",
            "104/104 [==============================] - 0s 5ms/step - loss: 0.7853 - accuracy: 0.7104 - val_loss: 0.9554 - val_accuracy: 0.6860\n",
            "Epoch 50/500\n",
            "104/104 [==============================] - 1s 5ms/step - loss: 0.7859 - accuracy: 0.6959 - val_loss: 0.9095 - val_accuracy: 0.6667\n",
            "Epoch 51/500\n",
            "104/104 [==============================] - 0s 5ms/step - loss: 0.7704 - accuracy: 0.7074 - val_loss: 1.0177 - val_accuracy: 0.6184\n",
            "Epoch 52/500\n",
            "104/104 [==============================] - 1s 5ms/step - loss: 0.7300 - accuracy: 0.7249 - val_loss: 0.8728 - val_accuracy: 0.6377\n",
            "Epoch 53/500\n",
            "104/104 [==============================] - 1s 5ms/step - loss: 0.7427 - accuracy: 0.7164 - val_loss: 0.9881 - val_accuracy: 0.6329\n",
            "Epoch 54/500\n",
            "104/104 [==============================] - 0s 5ms/step - loss: 0.7345 - accuracy: 0.7146 - val_loss: 0.9563 - val_accuracy: 0.6473\n",
            "Epoch 55/500\n",
            "104/104 [==============================] - 1s 6ms/step - loss: 0.7301 - accuracy: 0.7074 - val_loss: 0.8323 - val_accuracy: 0.7053\n",
            "Epoch 56/500\n",
            "104/104 [==============================] - 0s 4ms/step - loss: 0.6815 - accuracy: 0.7297 - val_loss: 0.7803 - val_accuracy: 0.7295\n",
            "Epoch 57/500\n",
            "104/104 [==============================] - 1s 5ms/step - loss: 0.6910 - accuracy: 0.7352 - val_loss: 0.9538 - val_accuracy: 0.6329\n",
            "Epoch 58/500\n",
            "104/104 [==============================] - 1s 5ms/step - loss: 0.7080 - accuracy: 0.7322 - val_loss: 0.7492 - val_accuracy: 0.7198\n",
            "Epoch 59/500\n",
            "104/104 [==============================] - 0s 5ms/step - loss: 0.6745 - accuracy: 0.7376 - val_loss: 0.8267 - val_accuracy: 0.7005\n",
            "Epoch 60/500\n",
            "104/104 [==============================] - 1s 5ms/step - loss: 0.6425 - accuracy: 0.7503 - val_loss: 1.0018 - val_accuracy: 0.6329\n",
            "Epoch 61/500\n",
            "104/104 [==============================] - 0s 5ms/step - loss: 0.6482 - accuracy: 0.7515 - val_loss: 0.9391 - val_accuracy: 0.6377\n",
            "Epoch 62/500\n",
            "104/104 [==============================] - 0s 4ms/step - loss: 0.6441 - accuracy: 0.7551 - val_loss: 0.7280 - val_accuracy: 0.7101\n",
            "Epoch 63/500\n",
            "104/104 [==============================] - 1s 5ms/step - loss: 0.6245 - accuracy: 0.7703 - val_loss: 0.7243 - val_accuracy: 0.7005\n",
            "Epoch 64/500\n",
            "104/104 [==============================] - 1s 5ms/step - loss: 0.6409 - accuracy: 0.7582 - val_loss: 0.7319 - val_accuracy: 0.7198\n",
            "Epoch 65/500\n",
            "104/104 [==============================] - 0s 4ms/step - loss: 0.6065 - accuracy: 0.7739 - val_loss: 1.0875 - val_accuracy: 0.6473\n",
            "Epoch 66/500\n",
            "104/104 [==============================] - 1s 5ms/step - loss: 0.6027 - accuracy: 0.7666 - val_loss: 0.8438 - val_accuracy: 0.7101\n",
            "Epoch 67/500\n",
            "104/104 [==============================] - 1s 5ms/step - loss: 0.5854 - accuracy: 0.7696 - val_loss: 0.8507 - val_accuracy: 0.6763\n",
            "Epoch 68/500\n",
            "104/104 [==============================] - 0s 5ms/step - loss: 0.5681 - accuracy: 0.7793 - val_loss: 0.7115 - val_accuracy: 0.7150\n",
            "Epoch 69/500\n",
            "104/104 [==============================] - 1s 6ms/step - loss: 0.5902 - accuracy: 0.7709 - val_loss: 0.6862 - val_accuracy: 0.7343\n",
            "Epoch 70/500\n",
            "104/104 [==============================] - 0s 5ms/step - loss: 0.5735 - accuracy: 0.7787 - val_loss: 0.7547 - val_accuracy: 0.7198\n",
            "Epoch 71/500\n",
            "104/104 [==============================] - 1s 5ms/step - loss: 0.5611 - accuracy: 0.7823 - val_loss: 0.7710 - val_accuracy: 0.6908\n",
            "Epoch 72/500\n",
            "104/104 [==============================] - 1s 5ms/step - loss: 0.5437 - accuracy: 0.7902 - val_loss: 0.7361 - val_accuracy: 0.7198\n",
            "Epoch 73/500\n",
            "104/104 [==============================] - 0s 5ms/step - loss: 0.5661 - accuracy: 0.7854 - val_loss: 0.6902 - val_accuracy: 0.7101\n",
            "Epoch 74/500\n",
            "104/104 [==============================] - 1s 5ms/step - loss: 0.5481 - accuracy: 0.7842 - val_loss: 0.6737 - val_accuracy: 0.7343\n",
            "Epoch 75/500\n",
            "104/104 [==============================] - 1s 5ms/step - loss: 0.5314 - accuracy: 0.7902 - val_loss: 0.8443 - val_accuracy: 0.6812\n",
            "Epoch 76/500\n",
            "104/104 [==============================] - 0s 4ms/step - loss: 0.5242 - accuracy: 0.7956 - val_loss: 0.8120 - val_accuracy: 0.6957\n",
            "Epoch 77/500\n",
            "104/104 [==============================] - 1s 5ms/step - loss: 0.5099 - accuracy: 0.8083 - val_loss: 0.6234 - val_accuracy: 0.7681\n",
            "Epoch 78/500\n",
            "104/104 [==============================] - 1s 5ms/step - loss: 0.4801 - accuracy: 0.8150 - val_loss: 0.7228 - val_accuracy: 0.7536\n",
            "Epoch 79/500\n",
            "104/104 [==============================] - 0s 5ms/step - loss: 0.5046 - accuracy: 0.8047 - val_loss: 0.7005 - val_accuracy: 0.7391\n",
            "Epoch 80/500\n",
            "104/104 [==============================] - 1s 7ms/step - loss: 0.5056 - accuracy: 0.8156 - val_loss: 0.8847 - val_accuracy: 0.6763\n",
            "Epoch 81/500\n",
            "104/104 [==============================] - 1s 6ms/step - loss: 0.4892 - accuracy: 0.8132 - val_loss: 0.7662 - val_accuracy: 0.7101\n",
            "Epoch 82/500\n",
            "104/104 [==============================] - 1s 7ms/step - loss: 0.4820 - accuracy: 0.8120 - val_loss: 0.7886 - val_accuracy: 0.6715\n",
            "Epoch 83/500\n",
            "104/104 [==============================] - 1s 6ms/step - loss: 0.4803 - accuracy: 0.8156 - val_loss: 0.8362 - val_accuracy: 0.6763\n",
            "Epoch 84/500\n",
            "104/104 [==============================] - 1s 7ms/step - loss: 0.4531 - accuracy: 0.8313 - val_loss: 0.9973 - val_accuracy: 0.6715\n",
            "Epoch 85/500\n",
            "104/104 [==============================] - 0s 5ms/step - loss: 0.4558 - accuracy: 0.8301 - val_loss: 0.6715 - val_accuracy: 0.7585\n",
            "Epoch 86/500\n",
            "104/104 [==============================] - 0s 4ms/step - loss: 0.4577 - accuracy: 0.8295 - val_loss: 1.0557 - val_accuracy: 0.6377\n",
            "Epoch 87/500\n",
            "104/104 [==============================] - 0s 4ms/step - loss: 0.4468 - accuracy: 0.8301 - val_loss: 0.7166 - val_accuracy: 0.7343\n",
            "Epoch 88/500\n",
            "104/104 [==============================] - 0s 5ms/step - loss: 0.4252 - accuracy: 0.8368 - val_loss: 0.8085 - val_accuracy: 0.6860\n",
            "Epoch 89/500\n",
            "104/104 [==============================] - 0s 4ms/step - loss: 0.4308 - accuracy: 0.8452 - val_loss: 0.6879 - val_accuracy: 0.7585\n",
            "Epoch 90/500\n",
            "104/104 [==============================] - 0s 4ms/step - loss: 0.4176 - accuracy: 0.8380 - val_loss: 0.5874 - val_accuracy: 0.7874\n",
            "Epoch 91/500\n",
            "104/104 [==============================] - 0s 5ms/step - loss: 0.4272 - accuracy: 0.8368 - val_loss: 0.7136 - val_accuracy: 0.7585\n",
            "Epoch 92/500\n",
            "104/104 [==============================] - 0s 4ms/step - loss: 0.4088 - accuracy: 0.8507 - val_loss: 0.6954 - val_accuracy: 0.7246\n",
            "Epoch 93/500\n",
            "104/104 [==============================] - 0s 5ms/step - loss: 0.3975 - accuracy: 0.8464 - val_loss: 0.6564 - val_accuracy: 0.7633\n",
            "Epoch 94/500\n",
            "104/104 [==============================] - 0s 4ms/step - loss: 0.3945 - accuracy: 0.8495 - val_loss: 0.7358 - val_accuracy: 0.7295\n",
            "Epoch 95/500\n",
            "104/104 [==============================] - 0s 4ms/step - loss: 0.4225 - accuracy: 0.8337 - val_loss: 0.7628 - val_accuracy: 0.7295\n",
            "Epoch 96/500\n",
            "104/104 [==============================] - 0s 5ms/step - loss: 0.4063 - accuracy: 0.8476 - val_loss: 0.7044 - val_accuracy: 0.7440\n",
            "Epoch 97/500\n",
            "104/104 [==============================] - 0s 4ms/step - loss: 0.3950 - accuracy: 0.8579 - val_loss: 0.7095 - val_accuracy: 0.7681\n",
            "Epoch 98/500\n",
            "104/104 [==============================] - 0s 5ms/step - loss: 0.3855 - accuracy: 0.8549 - val_loss: 0.6560 - val_accuracy: 0.7585\n",
            "Epoch 99/500\n",
            "104/104 [==============================] - 0s 5ms/step - loss: 0.3698 - accuracy: 0.8646 - val_loss: 0.8214 - val_accuracy: 0.7150\n",
            "Epoch 100/500\n",
            "104/104 [==============================] - 0s 4ms/step - loss: 0.3528 - accuracy: 0.8688 - val_loss: 0.7127 - val_accuracy: 0.7391\n",
            "Epoch 101/500\n",
            "104/104 [==============================] - 1s 5ms/step - loss: 0.3558 - accuracy: 0.8706 - val_loss: 0.6808 - val_accuracy: 0.7295\n",
            "Epoch 102/500\n",
            "104/104 [==============================] - 1s 5ms/step - loss: 0.3577 - accuracy: 0.8700 - val_loss: 0.6838 - val_accuracy: 0.7778\n",
            "Epoch 103/500\n",
            "104/104 [==============================] - 1s 5ms/step - loss: 0.3441 - accuracy: 0.8742 - val_loss: 0.6992 - val_accuracy: 0.7585\n",
            "Epoch 104/500\n",
            "104/104 [==============================] - 1s 5ms/step - loss: 0.3437 - accuracy: 0.8682 - val_loss: 1.0197 - val_accuracy: 0.6425\n",
            "Epoch 105/500\n",
            "104/104 [==============================] - 1s 5ms/step - loss: 0.3523 - accuracy: 0.8706 - val_loss: 0.8410 - val_accuracy: 0.7198\n",
            "Epoch 106/500\n",
            "104/104 [==============================] - 1s 5ms/step - loss: 0.3300 - accuracy: 0.8724 - val_loss: 0.6962 - val_accuracy: 0.7246\n",
            "Epoch 107/500\n",
            "104/104 [==============================] - 1s 5ms/step - loss: 0.3391 - accuracy: 0.8694 - val_loss: 0.7395 - val_accuracy: 0.7536\n",
            "Epoch 108/500\n",
            "104/104 [==============================] - 0s 4ms/step - loss: 0.3358 - accuracy: 0.8712 - val_loss: 0.6724 - val_accuracy: 0.7681\n",
            "Epoch 109/500\n",
            "104/104 [==============================] - 1s 5ms/step - loss: 0.3293 - accuracy: 0.8742 - val_loss: 1.0278 - val_accuracy: 0.7005\n",
            "Epoch 110/500\n",
            "104/104 [==============================] - 1s 5ms/step - loss: 0.3244 - accuracy: 0.8755 - val_loss: 0.7253 - val_accuracy: 0.7391\n",
            "Epoch 111/500\n",
            "104/104 [==============================] - 0s 5ms/step - loss: 0.3142 - accuracy: 0.8821 - val_loss: 0.7155 - val_accuracy: 0.7488\n",
            "Epoch 112/500\n",
            "104/104 [==============================] - 0s 5ms/step - loss: 0.3072 - accuracy: 0.8803 - val_loss: 0.6767 - val_accuracy: 0.7488\n",
            "Epoch 113/500\n",
            "104/104 [==============================] - 1s 6ms/step - loss: 0.2876 - accuracy: 0.8881 - val_loss: 0.7229 - val_accuracy: 0.7343\n",
            "Epoch 114/500\n",
            "104/104 [==============================] - 0s 5ms/step - loss: 0.3158 - accuracy: 0.8803 - val_loss: 0.7237 - val_accuracy: 0.7343\n",
            "Epoch 115/500\n",
            "104/104 [==============================] - 1s 5ms/step - loss: 0.2938 - accuracy: 0.8912 - val_loss: 0.7754 - val_accuracy: 0.7150\n"
          ]
        }
      ]
    },
    {
      "cell_type": "code",
      "source": [
        "plt.plot(cnnhistory.history['loss'])\n",
        "plt.plot(cnnhistory.history['val_loss'])\n",
        "plt.title('model loss')\n",
        "plt.ylabel('loss')\n",
        "plt.xlabel('epoch')\n",
        "plt.legend(['train','test'], loc='upper left')\n",
        "plt.show()"
      ],
      "metadata": {
        "colab": {
          "base_uri": "https://localhost:8080/",
          "height": 295
        },
        "id": "oQYnuaCrDH_A",
        "outputId": "0fcd04a2-5c9b-4d34-a024-657a91a40702"
      },
      "execution_count": 15,
      "outputs": [
        {
          "output_type": "display_data",
          "data": {
            "text/plain": [
              "<Figure size 432x288 with 1 Axes>"
            ],
            "image/png": "[encoded data removed]"
          },
          "metadata": {
            "needs_background": "light"
          }
        }
      ]
    },
    {
      "cell_type": "code",
      "source": [
        "plt.plot(cnnhistory.history['accuracy'])\n",
        "plt.plot(cnnhistory.history['val_accuracy'])\n",
        "plt.title('model accuracy')\n",
        "plt.ylabel('accuracy')\n",
        "plt.xlabel('epoch')\n",
        "plt.legend(['train','test'], loc='upper left')\n",
        "plt.show()"
      ],
      "metadata": {
        "colab": {
          "base_uri": "https://localhost:8080/",
          "height": 295
        },
        "id": "IFkTuO8nDNdq",
        "outputId": "acd25eaa-6907-41fe-ef77-b39be670345b"
      },
      "execution_count": 16,
      "outputs": [
        {
          "output_type": "display_data",
          "data": {
            "text/plain": [
              "<Figure size 432x288 with 1 Axes>"
            ],
            "image/png": "[encoded data removed]"
          },
          "metadata": {
            "needs_background": "light"
          }
        }
      ]
    },
    {
      "cell_type": "code",
      "source": [
        "predictions = model.predict(x_testcnn)"
      ],
      "metadata": {
        "id": "A2xtrN5wDQgY"
      },
      "execution_count": 17,
      "outputs": []
    },
    {
      "cell_type": "code",
      "source": [
        "predictions"
      ],
      "metadata": {
        "colab": {
          "base_uri": "https://localhost:8080/"
        },
        "id": "_f_ohjXKDUpY",
        "outputId": "a4d1d2f8-80e7-4a4b-d9e3-2a7653986d01"
      },
      "execution_count": 18,
      "outputs": [
        {
          "output_type": "execute_result",
          "data": {
            "text/plain": [
              "array([[3.4109351e-01, 1.3805486e-01, 1.8530241e-01, 2.4912074e-01,\n",
              "        7.4626543e-02, 1.1801970e-02],\n",
              "       [3.3918137e-04, 3.8967223e-06, 1.2841126e-07, 9.3608797e-01,\n",
              "        6.7638557e-06, 6.3562192e-02],\n",
              "       [1.4927930e-01, 9.8223470e-02, 3.3315986e-02, 6.2483686e-01,\n",
              "        3.0077174e-02, 6.4267248e-02],\n",
              "       ...,\n",
              "       [5.5329368e-05, 1.4620012e-07, 2.9626288e-04, 8.6899920e-05,\n",
              "        9.9917287e-01, 3.8838372e-04],\n",
              "       [9.1810100e-04, 6.6861117e-01, 2.9811680e-01, 7.1147867e-03,\n",
              "        2.0507054e-02, 4.7320290e-03],\n",
              "       [1.5779703e-04, 5.2590936e-04, 1.9164290e-02, 2.0524986e-04,\n",
              "        9.7374243e-01, 6.2042694e-03]], dtype=float32)"
            ]
          },
          "metadata": {},
          "execution_count": 18
        }
      ]
    },
    {
      "cell_type": "code",
      "source": [
        "y_test"
      ],
      "metadata": {
        "colab": {
          "base_uri": "https://localhost:8080/"
        },
        "id": "cmA2bFgsDW3D",
        "outputId": "57e41d3d-488a-46bf-8825-b478ebda74fb"
      },
      "execution_count": 19,
      "outputs": [
        {
          "output_type": "execute_result",
          "data": {
            "text/plain": [
              "array([3, 3, 3, 0, 4, 4, 1, 2, 5, 0, 5, 3, 2, 2, 1, 4, 4, 5, 2, 4, 1, 2,\n",
              "       3, 5, 4, 2, 1, 2, 2, 2, 2, 5, 2, 5, 3, 1, 2, 0, 4, 5, 2, 3, 2, 2,\n",
              "       5, 2, 0, 1, 3, 4, 4, 5, 1, 1, 4, 4, 5, 1, 1, 1, 0, 1, 5, 0, 4, 1,\n",
              "       1, 0, 1, 4, 1, 0, 4, 1, 3, 1, 2, 2, 1, 2, 3, 0, 5, 3, 5, 5, 2, 4,\n",
              "       5, 1, 5, 1, 5, 3, 4, 1, 4, 1, 5, 4, 5, 1, 2, 1, 1, 5, 1, 3, 2, 5,\n",
              "       2, 1, 3, 5, 4, 4, 0, 0, 3, 1, 2, 2, 3, 5, 1, 5, 3, 4, 2, 2, 0, 2,\n",
              "       2, 5, 5, 0, 3, 3, 2, 2, 0, 3, 4, 0, 4, 2, 4, 5, 4, 1, 5, 3, 2, 2,\n",
              "       5, 4, 3, 3, 4, 3, 3, 4, 1, 5, 2, 3, 2, 2, 0, 2, 1, 3, 1, 2, 2, 5,\n",
              "       5, 1, 4, 2, 2, 1, 1, 3, 3, 5, 5, 2, 5, 1, 5, 0, 3, 3, 0, 5, 1, 4,\n",
              "       1, 4, 2, 5, 5, 1, 4, 2, 4])"
            ]
          },
          "metadata": {},
          "execution_count": 19
        }
      ]
    },
    {
      "cell_type": "code",
      "source": [
        "new_Ytest = y_test.astype(int)"
      ],
      "metadata": {
        "id": "0PHDKWJWDY3g"
      },
      "execution_count": 20,
      "outputs": []
    },
    {
      "cell_type": "code",
      "source": [
        "new_Ytest"
      ],
      "metadata": {
        "colab": {
          "base_uri": "https://localhost:8080/"
        },
        "id": "k68v2i-pDbZE",
        "outputId": "7cec3eb6-23db-44dc-ec50-74134bb163ff"
      },
      "execution_count": 21,
      "outputs": [
        {
          "output_type": "execute_result",
          "data": {
            "text/plain": [
              "array([3, 3, 3, 0, 4, 4, 1, 2, 5, 0, 5, 3, 2, 2, 1, 4, 4, 5, 2, 4, 1, 2,\n",
              "       3, 5, 4, 2, 1, 2, 2, 2, 2, 5, 2, 5, 3, 1, 2, 0, 4, 5, 2, 3, 2, 2,\n",
              "       5, 2, 0, 1, 3, 4, 4, 5, 1, 1, 4, 4, 5, 1, 1, 1, 0, 1, 5, 0, 4, 1,\n",
              "       1, 0, 1, 4, 1, 0, 4, 1, 3, 1, 2, 2, 1, 2, 3, 0, 5, 3, 5, 5, 2, 4,\n",
              "       5, 1, 5, 1, 5, 3, 4, 1, 4, 1, 5, 4, 5, 1, 2, 1, 1, 5, 1, 3, 2, 5,\n",
              "       2, 1, 3, 5, 4, 4, 0, 0, 3, 1, 2, 2, 3, 5, 1, 5, 3, 4, 2, 2, 0, 2,\n",
              "       2, 5, 5, 0, 3, 3, 2, 2, 0, 3, 4, 0, 4, 2, 4, 5, 4, 1, 5, 3, 2, 2,\n",
              "       5, 4, 3, 3, 4, 3, 3, 4, 1, 5, 2, 3, 2, 2, 0, 2, 1, 3, 1, 2, 2, 5,\n",
              "       5, 1, 4, 2, 2, 1, 1, 3, 3, 5, 5, 2, 5, 1, 5, 0, 3, 3, 0, 5, 1, 4,\n",
              "       1, 4, 2, 5, 5, 1, 4, 2, 4])"
            ]
          },
          "metadata": {},
          "execution_count": 21
        }
      ]
    },
    {
      "cell_type": "code",
      "source": [
        "preds1=predictions.argmax(axis=1)\n",
        "preds1"
      ],
      "metadata": {
        "colab": {
          "base_uri": "https://localhost:8080/"
        },
        "id": "4_cAI39VFhtp",
        "outputId": "5f0a403c-c27b-409f-efab-3ce78c46f415"
      },
      "execution_count": 22,
      "outputs": [
        {
          "output_type": "execute_result",
          "data": {
            "text/plain": [
              "array([0, 3, 3, 0, 4, 4, 1, 2, 5, 1, 4, 3, 2, 2, 1, 4, 4, 3, 2, 4, 1, 2,\n",
              "       3, 3, 4, 2, 1, 0, 4, 2, 2, 5, 2, 5, 3, 1, 2, 0, 4, 5, 1, 3, 2, 2,\n",
              "       3, 4, 1, 1, 3, 4, 4, 5, 1, 1, 4, 4, 5, 1, 1, 1, 0, 1, 5, 1, 4, 1,\n",
              "       1, 1, 1, 4, 0, 0, 4, 1, 3, 3, 2, 2, 1, 2, 1, 0, 5, 3, 5, 5, 2, 5,\n",
              "       5, 1, 0, 1, 5, 3, 4, 2, 4, 1, 5, 4, 5, 1, 2, 1, 1, 5, 1, 5, 2, 5,\n",
              "       3, 3, 3, 5, 4, 4, 3, 0, 3, 3, 1, 2, 1, 3, 1, 5, 3, 5, 2, 2, 0, 4,\n",
              "       2, 3, 3, 0, 3, 3, 2, 4, 0, 3, 4, 0, 4, 4, 4, 2, 4, 1, 5, 3, 2, 2,\n",
              "       5, 4, 4, 3, 4, 3, 3, 4, 1, 5, 2, 3, 2, 2, 0, 2, 1, 3, 1, 4, 4, 5,\n",
              "       5, 1, 4, 2, 4, 1, 3, 3, 3, 5, 2, 2, 5, 1, 4, 1, 3, 3, 3, 4, 1, 4,\n",
              "       1, 4, 5, 5, 5, 1, 4, 1, 4])"
            ]
          },
          "metadata": {},
          "execution_count": 22
        }
      ]
    },
    {
      "cell_type": "code",
      "source": [
        "abc = preds1.astype(int).flatten()"
      ],
      "metadata": {
        "id": "H4WEmM60NfQn"
      },
      "execution_count": 23,
      "outputs": []
    },
    {
      "cell_type": "code",
      "source": [
        "from sklearn.metrics import confusion_matrix\n",
        "c = confusion_matrix(new_Ytest, abc) \n",
        "c"
      ],
      "metadata": {
        "colab": {
          "base_uri": "https://localhost:8080/"
        },
        "id": "bKEBeEBlFjB8",
        "outputId": "fd42fa05-c4dd-4ee1-8c79-0a05d7bd30b1"
      },
      "execution_count": 24,
      "outputs": [
        {
          "output_type": "execute_result",
          "data": {
            "text/plain": [
              "array([[11,  5,  0,  2,  0,  0],\n",
              "       [ 1, 35,  1,  4,  0,  0],\n",
              "       [ 1,  3, 31,  1,  8,  1],\n",
              "       [ 1,  2,  0, 26,  1,  1],\n",
              "       [ 0,  0,  0,  0, 31,  2],\n",
              "       [ 1,  0,  2,  6,  3, 27]])"
            ]
          },
          "metadata": {},
          "execution_count": 24
        }
      ]
    },
    {
      "cell_type": "code",
      "source": [
        "y_test"
      ],
      "metadata": {
        "colab": {
          "base_uri": "https://localhost:8080/"
        },
        "id": "m4RjG7LWLSQx",
        "outputId": "e142c96a-7be1-485c-db22-ebc9a97a49d6"
      },
      "execution_count": 25,
      "outputs": [
        {
          "output_type": "execute_result",
          "data": {
            "text/plain": [
              "array([3, 3, 3, 0, 4, 4, 1, 2, 5, 0, 5, 3, 2, 2, 1, 4, 4, 5, 2, 4, 1, 2,\n",
              "       3, 5, 4, 2, 1, 2, 2, 2, 2, 5, 2, 5, 3, 1, 2, 0, 4, 5, 2, 3, 2, 2,\n",
              "       5, 2, 0, 1, 3, 4, 4, 5, 1, 1, 4, 4, 5, 1, 1, 1, 0, 1, 5, 0, 4, 1,\n",
              "       1, 0, 1, 4, 1, 0, 4, 1, 3, 1, 2, 2, 1, 2, 3, 0, 5, 3, 5, 5, 2, 4,\n",
              "       5, 1, 5, 1, 5, 3, 4, 1, 4, 1, 5, 4, 5, 1, 2, 1, 1, 5, 1, 3, 2, 5,\n",
              "       2, 1, 3, 5, 4, 4, 0, 0, 3, 1, 2, 2, 3, 5, 1, 5, 3, 4, 2, 2, 0, 2,\n",
              "       2, 5, 5, 0, 3, 3, 2, 2, 0, 3, 4, 0, 4, 2, 4, 5, 4, 1, 5, 3, 2, 2,\n",
              "       5, 4, 3, 3, 4, 3, 3, 4, 1, 5, 2, 3, 2, 2, 0, 2, 1, 3, 1, 2, 2, 5,\n",
              "       5, 1, 4, 2, 2, 1, 1, 3, 3, 5, 5, 2, 5, 1, 5, 0, 3, 3, 0, 5, 1, 4,\n",
              "       1, 4, 2, 5, 5, 1, 4, 2, 4])"
            ]
          },
          "metadata": {},
          "execution_count": 25
        }
      ]
    },
    {
      "cell_type": "code",
      "source": [
        "loss, acc =model.evaluate(x_testcnn, y_test)\n",
        "print(\"Restored model, accuracy: {:5.2f}%\".format(100*acc))"
      ],
      "metadata": {
        "colab": {
          "base_uri": "https://localhost:8080/"
        },
        "id": "n3kzoqPkDqqS",
        "outputId": "d513cd4d-ab39-4e38-e88f-79eb5665911b"
      },
      "execution_count": 26,
      "outputs": [
        {
          "output_type": "stream",
          "name": "stdout",
          "text": [
            "7/7 [==============================] - 0s 3ms/step - loss: 0.5892 - accuracy: 0.7778\n",
            "Restored model, accuracy: 77.78%\n"
          ]
        }
      ]
    },
    {
      "cell_type": "code",
      "source": [
        "loss, acc =model.evaluate(X_train, y_train)\n",
        "print(\"Restored model train, accuracy: {:5.2f}%\".format(100*acc))"
      ],
      "metadata": {
        "id": "fJDTGH_OUX0z",
        "colab": {
          "base_uri": "https://localhost:8080/"
        },
        "outputId": "beff39de-c1b0-4104-84f9-819b0fd2f58c"
      },
      "execution_count": 27,
      "outputs": [
        {
          "output_type": "stream",
          "name": "stdout",
          "text": [
            "52/52 [==============================] - 0s 4ms/step - loss: 0.2596 - accuracy: 0.9299\n",
            "Restored model train, accuracy: 92.99%\n"
          ]
        }
      ]
    },
    {
      "cell_type": "code",
      "source": [
        "from sklearn.metrics import classification_report, confusion_matrix,accuracy_score\n",
        "import seaborn as sn\n",
        "\n",
        "print(classification_report(new_Ytest,abc))\n",
        "\n",
        "acc = float(accuracy_score(new_Ytest,abc))*100\n",
        "print(\"----accuracy score %s ----\" % acc)\n",
        "\n",
        "cm = confusion_matrix(new_Ytest,abc)\n",
        "#df_cm = pd.DataFrame(cm)\n",
        "class_names = ['neutral','calm', 'happy','sad','angry', 'fearful' ]\n",
        "df_cm = pd.DataFrame(cm, index=class_names, columns=class_names,)\n",
        "sn.heatmap(df_cm, annot=True, fmt='')\n",
        "plt.show()"
      ],
      "metadata": {
        "colab": {
          "base_uri": "https://localhost:8080/",
          "height": 512
        },
        "id": "SfSC3El94LZg",
        "outputId": "26959325-83ca-4c2a-ac5b-74d4ca223a11"
      },
      "execution_count": 28,
      "outputs": [
        {
          "output_type": "stream",
          "name": "stdout",
          "text": [
            "              precision    recall  f1-score   support\n",
            "\n",
            "           0       0.73      0.61      0.67        18\n",
            "           1       0.78      0.85      0.81        41\n",
            "           2       0.91      0.69      0.78        45\n",
            "           3       0.67      0.84      0.74        31\n",
            "           4       0.72      0.94      0.82        33\n",
            "           5       0.87      0.69      0.77        39\n",
            "\n",
            "    accuracy                           0.78       207\n",
            "   macro avg       0.78      0.77      0.77       207\n",
            "weighted avg       0.79      0.78      0.78       207\n",
            "\n",
            "----accuracy score 77.77777777777779 ----\n"
          ]
        },
        {
          "output_type": "display_data",
          "data": {
            "text/plain": [
              "<Figure size 432x288 with 2 Axes>"
            ],
            "image/png": "[encoded data removed]"
          },
          "metadata": {
            "needs_background": "light"
          }
        }
      ]
    }
  ]
}