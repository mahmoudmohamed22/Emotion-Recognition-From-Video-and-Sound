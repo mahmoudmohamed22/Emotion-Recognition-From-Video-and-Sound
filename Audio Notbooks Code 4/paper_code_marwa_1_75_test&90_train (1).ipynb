{
  "nbformat": 4,
  "nbformat_minor": 0,
  "metadata": {
    "colab": {
      "name": "paper_code_marwa_1_75 test&90 train.ipynb",
      "provenance": [],
      "collapsed_sections": []
    },
    "kernelspec": {
      "name": "python3",
      "display_name": "Python 3"
    },
    "language_info": {
      "name": "python"
    }
  },
  "cells": [
    {
      "cell_type": "code",
      "execution_count": 1,
      "metadata": {
        "colab": {
          "base_uri": "https://localhost:8080/"
        },
        "id": "9SRCO-a_AlH5",
        "outputId": "3fda7217-baa7-4669-e948-22ee8bb9473b"
      },
      "outputs": [
        {
          "output_type": "stream",
          "name": "stdout",
          "text": [
            "Mounted at /content/drive\n"
          ]
        }
      ],
      "source": [
        "from google.colab import drive\n",
        "drive.mount('/content/drive')"
      ]
    },
    {
      "cell_type": "code",
      "source": [
        "!pip install librosa"
      ],
      "metadata": {
        "colab": {
          "base_uri": "https://localhost:8080/"
        },
        "id": "oi8pWV3yBVjO",
        "outputId": "63acc4a7-a9e3-4ea6-cee4-832b42c1e1b4"
      },
      "execution_count": null,
      "outputs": [
        {
          "output_type": "stream",
          "name": "stdout",
          "text": [
            "Requirement already satisfied: librosa in /usr/local/lib/python3.7/dist-packages (0.8.1)\n",
            "Requirement already satisfied: numpy>=1.15.0 in /usr/local/lib/python3.7/dist-packages (from librosa) (1.21.5)\n",
            "Requirement already satisfied: decorator>=3.0.0 in /usr/local/lib/python3.7/dist-packages (from librosa) (4.4.2)\n",
            "Requirement already satisfied: audioread>=2.0.0 in /usr/local/lib/python3.7/dist-packages (from librosa) (2.1.9)\n",
            "Requirement already satisfied: resampy>=0.2.2 in /usr/local/lib/python3.7/dist-packages (from librosa) (0.2.2)\n",
            "Requirement already satisfied: pooch>=1.0 in /usr/local/lib/python3.7/dist-packages (from librosa) (1.6.0)\n",
            "Requirement already satisfied: soundfile>=0.10.2 in /usr/local/lib/python3.7/dist-packages (from librosa) (0.10.3.post1)\n",
            "Requirement already satisfied: packaging>=20.0 in /usr/local/lib/python3.7/dist-packages (from librosa) (21.3)\n",
            "Requirement already satisfied: scikit-learn!=0.19.0,>=0.14.0 in /usr/local/lib/python3.7/dist-packages (from librosa) (1.0.2)\n",
            "Requirement already satisfied: joblib>=0.14 in /usr/local/lib/python3.7/dist-packages (from librosa) (1.1.0)\n",
            "Requirement already satisfied: numba>=0.43.0 in /usr/local/lib/python3.7/dist-packages (from librosa) (0.51.2)\n",
            "Requirement already satisfied: scipy>=1.0.0 in /usr/local/lib/python3.7/dist-packages (from librosa) (1.4.1)\n",
            "Requirement already satisfied: llvmlite<0.35,>=0.34.0.dev0 in /usr/local/lib/python3.7/dist-packages (from numba>=0.43.0->librosa) (0.34.0)\n",
            "Requirement already satisfied: setuptools in /usr/local/lib/python3.7/dist-packages (from numba>=0.43.0->librosa) (57.4.0)\n",
            "Requirement already satisfied: pyparsing!=3.0.5,>=2.0.2 in /usr/local/lib/python3.7/dist-packages (from packaging>=20.0->librosa) (3.0.7)\n",
            "Requirement already satisfied: requests>=2.19.0 in /usr/local/lib/python3.7/dist-packages (from pooch>=1.0->librosa) (2.23.0)\n",
            "Requirement already satisfied: appdirs>=1.3.0 in /usr/local/lib/python3.7/dist-packages (from pooch>=1.0->librosa) (1.4.4)\n",
            "Requirement already satisfied: certifi>=2017.4.17 in /usr/local/lib/python3.7/dist-packages (from requests>=2.19.0->pooch>=1.0->librosa) (2021.10.8)\n",
            "Requirement already satisfied: idna<3,>=2.5 in /usr/local/lib/python3.7/dist-packages (from requests>=2.19.0->pooch>=1.0->librosa) (2.10)\n",
            "Requirement already satisfied: chardet<4,>=3.0.2 in /usr/local/lib/python3.7/dist-packages (from requests>=2.19.0->pooch>=1.0->librosa) (3.0.4)\n",
            "Requirement already satisfied: urllib3!=1.25.0,!=1.25.1,<1.26,>=1.21.1 in /usr/local/lib/python3.7/dist-packages (from requests>=2.19.0->pooch>=1.0->librosa) (1.24.3)\n",
            "Requirement already satisfied: six>=1.3 in /usr/local/lib/python3.7/dist-packages (from resampy>=0.2.2->librosa) (1.15.0)\n",
            "Requirement already satisfied: threadpoolctl>=2.0.0 in /usr/local/lib/python3.7/dist-packages (from scikit-learn!=0.19.0,>=0.14.0->librosa) (3.1.0)\n",
            "Requirement already satisfied: cffi>=1.0 in /usr/local/lib/python3.7/dist-packages (from soundfile>=0.10.2->librosa) (1.15.0)\n",
            "Requirement already satisfied: pycparser in /usr/local/lib/python3.7/dist-packages (from cffi>=1.0->soundfile>=0.10.2->librosa) (2.21)\n"
          ]
        }
      ]
    },
    {
      "cell_type": "code",
      "source": [
        ""
      ],
      "metadata": {
        "id": "wsaoikiQGfqd"
      },
      "execution_count": null,
      "outputs": []
    },
    {
      "cell_type": "code",
      "metadata": {
        "id": "HJjcbxwy46bG",
        "colab": {
          "base_uri": "https://localhost:8080/",
          "height": 17
        },
        "outputId": "ec0ffc96-1734-44b0-f6f0-9188e18ff5f6"
      },
      "source": [
        "# Orignial Notebook: https://github.com/MITESHPUTHRANNEU/Speech-Emotion-Analyzer/blob/master/final_results_gender_test.ipynb\n",
        "# This notebook author: Reza Chu\n",
        "# Last Editing Date: 31st May 2019\n",
        "\n",
        "## Python\n",
        "import os\n",
        "import random\n",
        "import sys\n",
        "\n",
        "import IPython\n",
        "from IPython.display import Audio\n",
        "from IPython.display import Image\n",
        "import matplotlib.pyplot as plt\n",
        "\n",
        "## Package\n",
        "import glob \n",
        "import keras\n",
        "import IPython.display as ipd\n",
        "import librosa\n",
        "import librosa.display\n",
        "import matplotlib.pyplot as plt\n",
        "import numpy as np\n",
        "import pandas as pd\n",
        "import plotly.graph_objs as go\n",
        "import plotly.offline as py\n",
        "import plotly.tools as tls\n",
        "import seaborn as sns\n",
        "import scipy.io.wavfile\n",
        "import tensorflow as tf\n",
        "py.init_notebook_mode(connected=True)\n",
        "\n",
        "## Keras\n",
        "from keras import regularizers\n",
        "from keras.callbacks import ModelCheckpoint, LearningRateScheduler, EarlyStopping\n",
        "from keras.callbacks import  History, ReduceLROnPlateau, CSVLogger\n",
        "from keras.models import Model, Sequential\n",
        "from keras.layers import Dense, Embedding, LSTM\n",
        "from keras.layers import Input, Flatten, Dropout, Activation, BatchNormalization\n",
        "from keras.layers import Conv1D, MaxPooling1D, AveragePooling1D\n",
        "from keras.preprocessing import sequence\n",
        "from keras.preprocessing.sequence import pad_sequences\n",
        "from keras.preprocessing.text import Tokenizer\n",
        "from keras.utils import np_utils\n",
        "from tensorflow.keras.utils import to_categorical\n",
        "\n",
        "## Sklearn\n",
        "from sklearn.metrics import confusion_matrix\n",
        "from sklearn.preprocessing import LabelEncoder\n",
        "\n",
        "## Rest\n",
        "from scipy.fftpack import fft\n",
        "from scipy import signal\n",
        "from scipy.io import wavfile\n",
        "from tqdm import tqdm\n",
        "\n",
        "input_duration=3\n",
        "# % pylab inline"
      ],
      "execution_count": 1,
      "outputs": [
        {
          "output_type": "display_data",
          "data": {
            "text/html": [
              "        <script type=\"text/javascript\">\n",
              "        window.PlotlyConfig = {MathJaxConfig: 'local'};\n",
              "        if (window.MathJax) {MathJax.Hub.Config({SVG: {font: \"STIX-Web\"}});}\n",
              "        if (typeof require !== 'undefined') {\n",
              "        require.undef(\"plotly\");\n",
              "        requirejs.config({\n",
              "            paths: {\n",
              "                'plotly': ['https://cdn.plot.ly/plotly-2.8.3.min']\n",
              "            }\n",
              "        });\n",
              "        require(['plotly'], function(Plotly) {\n",
              "            window._Plotly = Plotly;\n",
              "        });\n",
              "        }\n",
              "        </script>\n",
              "        "
            ]
          },
          "metadata": {}
        }
      ]
    },
    {
      "cell_type": "code",
      "source": [
        "#radvass speech and song\n",
        "import time\n",
        "import os\n",
        "import librosa\n",
        "from librosa import display\n",
        "import matplotlib.pyplot as plt\n",
        "\n",
        "count=0\n",
        "path1 = '/content/drive/My Drive/data_set/RAVDESS_speech'\n",
        "path2 = '/content/drive/My Drive/data_set/RAVDESS_song'\n",
        "\n",
        "lst = []\n",
        "\n",
        "start_time = time.time()\n",
        "\n",
        "for subdir, dirs, files in os.walk(path2):\n",
        "  print(dirs)\n",
        "  print(subdir)\n",
        "  #print(files)\n",
        "  for file in files:\n",
        "      try:\n",
        "        count +=1\n",
        "        #Load librosa array, obtain mfcss, store the file and the mcss information in a new array\n",
        "        X, sample_rate = librosa.load(os.path.join(subdir,file), res_type='kaiser_fast')\n",
        "        mfccs = np.mean(librosa.feature.mfcc(y=X, sr=sample_rate, n_mfcc=40).T,axis=0) \n",
        "        # The instruction below converts the labels (from 1 to 8) to a series from 0 to 7\n",
        "        # This is because our predictor needs to start from 0 otherwise it will try to predict also 0.\n",
        "        file = int(file[7:8]) - 1 \n",
        "        arr = mfccs, file\n",
        "        lst.append(arr)\n",
        "      # If the file is not valid, skip it\n",
        "      except ValueError:\n",
        "        continue\n",
        "\n",
        "for subdir, dirs, files in os.walk(path1):\n",
        "  print(dirs)\n",
        "  print(subdir)\n",
        " # print(files)\n",
        "  for file in files:\n",
        "      try:\n",
        "        #Load librosa array, obtain mfcss, store the file and the mcss information in a new array\n",
        "        X, sample_rate = librosa.load(os.path.join(subdir,file), res_type='kaiser_fast')\n",
        "        mfccs = np.mean(librosa.feature.mfcc(y=X, sr=sample_rate, n_mfcc=40).T,axis=0) \n",
        "        # The instruction below converts the labels (from 1 to 8) to a series from 0 to 7\n",
        "        # This is because our predictor needs to start from 0 otherwise it will try to predict also 0.\n",
        "        file = int(file[7:8]) - 1 \n",
        "        if(file ==6 or file==7):\n",
        "          continue\n",
        "        count +=1\n",
        "        arr = mfccs, file\n",
        "        lst.append(arr)\n",
        "      # If the file is not valid, skip it\n",
        "      except ValueError:\n",
        "        continue\n",
        "\n",
        "\n",
        "\n",
        "print(\"--- Data loaded. Loading time: %s seconds ---\" % (time.time() - start_time))"
      ],
      "metadata": {
        "colab": {
          "base_uri": "https://localhost:8080/"
        },
        "id": "IfuyRZl42ccZ",
        "outputId": "f6d28ba0-63cf-469e-aeb3-7d79f6f4fe98"
      },
      "execution_count": null,
      "outputs": [
        {
          "output_type": "stream",
          "name": "stdout",
          "text": [
            "['Actor_10', 'Actor_11', 'Actor_13', 'Actor_12', 'Actor_14', 'Actor_15', 'Actor_16', 'Actor_17', 'Actor_18', 'Actor_19', 'Actor_21', 'Actor_22', 'Actor_23', 'Actor_09', 'Actor_24', 'Actor_04', 'Actor_08', 'Actor_03', 'Actor_02', 'Actor_06', 'Actor_05', 'Actor_01', 'Actor_07', 'Actor_20']\n",
            "/content/drive/My Drive/data_set/RAVDESS_song\n",
            "[]\n",
            "/content/drive/My Drive/data_set/RAVDESS_song/Actor_10\n",
            "[]\n",
            "/content/drive/My Drive/data_set/RAVDESS_song/Actor_11\n",
            "[]\n",
            "/content/drive/My Drive/data_set/RAVDESS_song/Actor_13\n",
            "[]\n",
            "/content/drive/My Drive/data_set/RAVDESS_song/Actor_12\n",
            "[]\n",
            "/content/drive/My Drive/data_set/RAVDESS_song/Actor_14\n",
            "[]\n",
            "/content/drive/My Drive/data_set/RAVDESS_song/Actor_15\n",
            "[]\n",
            "/content/drive/My Drive/data_set/RAVDESS_song/Actor_16\n",
            "[]\n",
            "/content/drive/My Drive/data_set/RAVDESS_song/Actor_17\n",
            "[]\n",
            "/content/drive/My Drive/data_set/RAVDESS_song/Actor_18\n",
            "[]\n",
            "/content/drive/My Drive/data_set/RAVDESS_song/Actor_19\n",
            "[]\n",
            "/content/drive/My Drive/data_set/RAVDESS_song/Actor_21\n",
            "[]\n",
            "/content/drive/My Drive/data_set/RAVDESS_song/Actor_22\n",
            "[]\n",
            "/content/drive/My Drive/data_set/RAVDESS_song/Actor_23\n",
            "[]\n",
            "/content/drive/My Drive/data_set/RAVDESS_song/Actor_09\n",
            "[]\n",
            "/content/drive/My Drive/data_set/RAVDESS_song/Actor_24\n",
            "[]\n",
            "/content/drive/My Drive/data_set/RAVDESS_song/Actor_04\n",
            "[]\n",
            "/content/drive/My Drive/data_set/RAVDESS_song/Actor_08\n",
            "[]\n",
            "/content/drive/My Drive/data_set/RAVDESS_song/Actor_03\n",
            "[]\n",
            "/content/drive/My Drive/data_set/RAVDESS_song/Actor_02\n",
            "[]\n",
            "/content/drive/My Drive/data_set/RAVDESS_song/Actor_06\n",
            "[]\n",
            "/content/drive/My Drive/data_set/RAVDESS_song/Actor_05\n",
            "[]\n",
            "/content/drive/My Drive/data_set/RAVDESS_song/Actor_01\n",
            "[]\n",
            "/content/drive/My Drive/data_set/RAVDESS_song/Actor_07\n",
            "[]\n",
            "/content/drive/My Drive/data_set/RAVDESS_song/Actor_20\n",
            "['Actor_05', 'Actor_08', 'Actor_10', 'Actor_04', 'Actor_09', 'Actor_14', 'Actor_12', 'Actor_13', 'Actor_11', 'Actor_06', 'Actor_24', 'Actor_07', 'Actor_23', 'Actor_22', 'Actor_21', 'Actor_20', 'Actor_02', 'Actor_19', 'Actor_18', 'Actor_17', 'Actor_16', 'Actor_15', 'Actor_03', 'Actor_01']\n",
            "/content/drive/My Drive/data_set/RAVDESS_speech\n",
            "[]\n",
            "/content/drive/My Drive/data_set/RAVDESS_speech/Actor_05\n",
            "[]\n",
            "/content/drive/My Drive/data_set/RAVDESS_speech/Actor_08\n",
            "[]\n",
            "/content/drive/My Drive/data_set/RAVDESS_speech/Actor_10\n",
            "[]\n",
            "/content/drive/My Drive/data_set/RAVDESS_speech/Actor_04\n",
            "[]\n",
            "/content/drive/My Drive/data_set/RAVDESS_speech/Actor_09\n",
            "[]\n",
            "/content/drive/My Drive/data_set/RAVDESS_speech/Actor_14\n",
            "[]\n",
            "/content/drive/My Drive/data_set/RAVDESS_speech/Actor_12\n",
            "[]\n",
            "/content/drive/My Drive/data_set/RAVDESS_speech/Actor_13\n",
            "[]\n",
            "/content/drive/My Drive/data_set/RAVDESS_speech/Actor_11\n",
            "[]\n",
            "/content/drive/My Drive/data_set/RAVDESS_speech/Actor_06\n",
            "[]\n",
            "/content/drive/My Drive/data_set/RAVDESS_speech/Actor_24\n",
            "[]\n",
            "/content/drive/My Drive/data_set/RAVDESS_speech/Actor_07\n"
          ]
        }
      ]
    },
    {
      "cell_type": "code",
      "source": [
        "count"
      ],
      "metadata": {
        "id": "Ltlhi25L2AI5"
      },
      "execution_count": null,
      "outputs": []
    },
    {
      "cell_type": "code",
      "source": [
        "from numpy.core.fromnumeric import size\n",
        "size(lst)"
      ],
      "metadata": {
        "id": "HMOH7d7mzHB7"
      },
      "execution_count": null,
      "outputs": []
    },
    {
      "cell_type": "code",
      "source": [
        "# Creating X and y: zip makes a list of all the first elements, and a list of all the second elements.\n",
        "X, y = zip(*lst)"
      ],
      "metadata": {
        "id": "ocdL7tSTBoMt"
      },
      "execution_count": null,
      "outputs": []
    },
    {
      "cell_type": "code",
      "source": [
        "import numpy as np\n",
        "X = np.asarray(X)\n",
        "y = np.asarray(y)\n",
        "X.shape, y.shape"
      ],
      "metadata": {
        "id": "vHKwUGTbBtnF"
      },
      "execution_count": null,
      "outputs": []
    },
    {
      "cell_type": "code",
      "source": [
        "X.shape"
      ],
      "metadata": {
        "id": "2sUCtbfMztE5"
      },
      "execution_count": null,
      "outputs": []
    },
    {
      "cell_type": "code",
      "source": [
        "# Saving joblib files to not load them again with the loop above\n",
        "\n",
        "import joblib\n",
        "\n",
        "X_name = 'saveex5.joblib'\n",
        "y_name = 'saveey5.joblib'\n",
        "save_dir = '/content/drive/My Drive/graduation project/audio/improvement1/features'\n",
        "\n",
        "savedX = joblib.dump(X, os.path.join(save_dir, X_name))\n",
        "savedy = joblib.dump(y, os.path.join(save_dir, y_name))"
      ],
      "metadata": {
        "id": "UCzic8rlDcuk"
      },
      "execution_count": null,
      "outputs": []
    },
    {
      "cell_type": "code",
      "source": [
        "# Loading saved models\n",
        "import joblib\n",
        "X = joblib.load('/content/drive/My Drive/models/CNN_2/last/features/speech&songx6.joblib')\n",
        "y = joblib.load('/content/drive/My Drive/models/CNN_2/last/features/speech&songy6.joblib')"
      ],
      "metadata": {
        "id": "Q35CN6zDrzg1"
      },
      "execution_count": 2,
      "outputs": []
    },
    {
      "cell_type": "code",
      "source": [
        "from sklearn.model_selection import train_test_split\n",
        "\n",
        "X_train, X_test, y_train, y_test = train_test_split(X,y, test_size=0.2,train_size=0.8, random_state=42)\n",
        "X_valid, X_test, y_valid, y_test = train_test_split(X_test,y_test, test_size=0.5,train_size=0.5, random_state=42)"
      ],
      "metadata": {
        "id": "Ai4Fy5cPCiq1"
      },
      "execution_count": 3,
      "outputs": []
    },
    {
      "cell_type": "code",
      "source": [
        "X.shape"
      ],
      "metadata": {
        "colab": {
          "base_uri": "https://localhost:8080/"
        },
        "id": "7PSTurzjCo5K",
        "outputId": "4b7cf076-db15-4879-94f4-051cc1197c01"
      },
      "execution_count": 4,
      "outputs": [
        {
          "output_type": "execute_result",
          "data": {
            "text/plain": [
              "(2068, 40)"
            ]
          },
          "metadata": {},
          "execution_count": 4
        }
      ]
    },
    {
      "cell_type": "code",
      "source": [
        "import numpy as np\n",
        "x_traincnn = np.expand_dims(X_train, axis=2)\n",
        "x_testcnn = np.expand_dims(X_test, axis=2)\n",
        "X_valid= np.expand_dims(X_valid, axis=2)"
      ],
      "metadata": {
        "id": "tp1Fm5K3CEXu"
      },
      "execution_count": 5,
      "outputs": []
    },
    {
      "cell_type": "code",
      "source": [
        "x_traincnn.shape, x_testcnn.shape , X_valid.shape"
      ],
      "metadata": {
        "id": "RI0MxoIPBws5",
        "colab": {
          "base_uri": "https://localhost:8080/"
        },
        "outputId": "c40b47ec-3c8f-4935-cc83-c68ab1aab2ec"
      },
      "execution_count": 6,
      "outputs": [
        {
          "output_type": "execute_result",
          "data": {
            "text/plain": [
              "((1654, 40, 1), (207, 40, 1), (207, 40, 1))"
            ]
          },
          "metadata": {},
          "execution_count": 6
        }
      ]
    },
    {
      "cell_type": "code",
      "source": [
        "!pip install tensorflow"
      ],
      "metadata": {
        "id": "goxL4Y3jKICC"
      },
      "execution_count": null,
      "outputs": []
    },
    {
      "cell_type": "code",
      "source": [
        "!pip install keras"
      ],
      "metadata": {
        "id": "EkcmN9UrKSxj"
      },
      "execution_count": null,
      "outputs": []
    },
    {
      "cell_type": "code",
      "source": [
        "import keras\n",
        "import numpy as np\n",
        "import matplotlib.pyplot as plt\n",
        "import tensorflow as tf\n",
        "from keras.preprocessing import sequence\n",
        "from keras.models import Sequential\n",
        "from keras.layers import Dense, Embedding\n",
        "from tensorflow.keras.utils import to_categorical\n",
        "from keras.layers import Input, Flatten, Dropout, Activation\n",
        "from keras.layers import Conv1D, MaxPooling1D\n",
        "from keras.models import Model\n",
        "from keras.callbacks import ModelCheckpoint\n",
        "from tensorflow.keras import optimizers\n",
        "\n",
        "model = Sequential()\n",
        "\n",
        "model.add(Conv1D(128, 8,padding='same', #classifier.add(Convolution2D(64, (3, 3), padding = 'same', input_shape = (128, 128, 3), activation = 'relu'))\n",
        "                 input_shape=(40,1)))\n",
        "model.add(Activation('relu'))\n",
        "model.add(Dropout(0.3))\n",
        "model.add(MaxPooling1D(pool_size=(5)))\n",
        "\n",
        "\n",
        "model.add(Conv1D(256,8,padding='same',))\n",
        "model.add(Activation('relu'))\n",
        "model.add(Dropout(0.3))\n",
        "model.add(MaxPooling1D(pool_size=(5)))\n",
        "\n",
        "model.add(Flatten())\n",
        "\n",
        "model.add(Dense(256))\n",
        "model.add(Activation('relu'))\n",
        "model.add(Dense(256))\n",
        "model.add(Activation('relu'))\n",
        "\n",
        "model.add(Dense(6))\n",
        "model.add(Activation('softmax'))\n",
        "\n",
        "opt = tf.keras.optimizers.Adam(lr=0.00002)\n",
        "#opt = tf.keras.optimizers.RMSprop(lr=0.0001, rho=0.9, epsilon=1e-07, decay=0.0)\n",
        "#opt = tf.keras.optimizers.SGD(lr=0.001, momentum=0.0, decay=0.0, nesterov=False)"
      ],
      "metadata": {
        "id": "g74fXWVAC4Cr",
        "colab": {
          "base_uri": "https://localhost:8080/"
        },
        "outputId": "49c4ce46-a6ac-44bb-d608-7d69149b646a"
      },
      "execution_count": 7,
      "outputs": [
        {
          "output_type": "stream",
          "name": "stderr",
          "text": [
            "/usr/local/lib/python3.7/dist-packages/keras/optimizer_v2/adam.py:105: UserWarning:\n",
            "\n",
            "The `lr` argument is deprecated, use `learning_rate` instead.\n",
            "\n"
          ]
        }
      ]
    },
    {
      "cell_type": "code",
      "source": [
        "model.summary()"
      ],
      "metadata": {
        "colab": {
          "base_uri": "https://localhost:8080/"
        },
        "id": "H6ukOxAGC_I4",
        "outputId": "08f6cd03-e051-4111-fbdf-8d6ddd05e9db"
      },
      "execution_count": 8,
      "outputs": [
        {
          "output_type": "stream",
          "name": "stdout",
          "text": [
            "Model: \"sequential\"\n",
            "_________________________________________________________________\n",
            " Layer (type)                Output Shape              Param #   \n",
            "=================================================================\n",
            " conv1d (Conv1D)             (None, 40, 128)           1152      \n",
            "                                                                 \n",
            " activation (Activation)     (None, 40, 128)           0         \n",
            "                                                                 \n",
            " dropout (Dropout)           (None, 40, 128)           0         \n",
            "                                                                 \n",
            " max_pooling1d (MaxPooling1D  (None, 8, 128)           0         \n",
            " )                                                               \n",
            "                                                                 \n",
            " conv1d_1 (Conv1D)           (None, 8, 256)            262400    \n",
            "                                                                 \n",
            " activation_1 (Activation)   (None, 8, 256)            0         \n",
            "                                                                 \n",
            " dropout_1 (Dropout)         (None, 8, 256)            0         \n",
            "                                                                 \n",
            " max_pooling1d_1 (MaxPooling  (None, 1, 256)           0         \n",
            " 1D)                                                             \n",
            "                                                                 \n",
            " flatten (Flatten)           (None, 256)               0         \n",
            "                                                                 \n",
            " dense (Dense)               (None, 256)               65792     \n",
            "                                                                 \n",
            " activation_2 (Activation)   (None, 256)               0         \n",
            "                                                                 \n",
            " dense_1 (Dense)             (None, 256)               65792     \n",
            "                                                                 \n",
            " activation_3 (Activation)   (None, 256)               0         \n",
            "                                                                 \n",
            " dense_2 (Dense)             (None, 6)                 1542      \n",
            "                                                                 \n",
            " activation_4 (Activation)   (None, 6)                 0         \n",
            "                                                                 \n",
            "=================================================================\n",
            "Total params: 396,678\n",
            "Trainable params: 396,678\n",
            "Non-trainable params: 0\n",
            "_________________________________________________________________\n"
          ]
        }
      ]
    },
    {
      "cell_type": "code",
      "source": [
        "model.compile(loss='sparse_categorical_crossentropy',\n",
        "              optimizer=opt,\n",
        "              metrics=['accuracy'])"
      ],
      "metadata": {
        "id": "AbMlLNk4DCBM"
      },
      "execution_count": 9,
      "outputs": []
    },
    {
      "cell_type": "code",
      "source": [
        "#cnnhistory=model.fit(x_traincnn, y_train, batch_size=16, epochs=700, validation_data=(x_testcnn, y_test))\n",
        "cnnhistory=model.fit(x_traincnn, y_train, batch_size=16, epochs=500 , validation_data=(X_valid, y_valid))"
      ],
      "metadata": {
        "colab": {
          "base_uri": "https://localhost:8080/"
        },
        "id": "RI1v2AuADFhy",
        "outputId": "97e7b184-51b2-4ebf-fe92-54ab239aca4f"
      },
      "execution_count": 10,
      "outputs": [
        {
          "output_type": "stream",
          "name": "stdout",
          "text": [
            "Epoch 1/500\n",
            "104/104 [==============================] - 6s 45ms/step - loss: 6.3805 - accuracy: 0.1638 - val_loss: 3.5493 - val_accuracy: 0.1643\n",
            "Epoch 2/500\n",
            "104/104 [==============================] - 4s 34ms/step - loss: 4.5694 - accuracy: 0.1856 - val_loss: 3.1488 - val_accuracy: 0.1643\n",
            "Epoch 3/500\n",
            "104/104 [==============================] - 2s 22ms/step - loss: 3.9074 - accuracy: 0.1953 - val_loss: 2.4562 - val_accuracy: 0.1643\n",
            "Epoch 4/500\n",
            "104/104 [==============================] - 2s 22ms/step - loss: 3.4715 - accuracy: 0.1874 - val_loss: 2.2561 - val_accuracy: 0.1643\n",
            "Epoch 5/500\n",
            "104/104 [==============================] - 2s 22ms/step - loss: 3.2459 - accuracy: 0.1826 - val_loss: 2.0383 - val_accuracy: 0.1401\n",
            "Epoch 6/500\n",
            "104/104 [==============================] - 2s 22ms/step - loss: 2.9769 - accuracy: 0.2037 - val_loss: 1.8412 - val_accuracy: 0.1932\n",
            "Epoch 7/500\n",
            "104/104 [==============================] - 2s 22ms/step - loss: 2.9353 - accuracy: 0.1778 - val_loss: 1.8533 - val_accuracy: 0.1739\n",
            "Epoch 8/500\n",
            "104/104 [==============================] - 2s 22ms/step - loss: 2.7051 - accuracy: 0.1941 - val_loss: 1.7866 - val_accuracy: 0.1836\n",
            "Epoch 9/500\n",
            "104/104 [==============================] - 2s 22ms/step - loss: 2.6074 - accuracy: 0.2050 - val_loss: 1.7431 - val_accuracy: 0.2947\n",
            "Epoch 10/500\n",
            "104/104 [==============================] - 2s 22ms/step - loss: 2.4907 - accuracy: 0.1965 - val_loss: 1.7628 - val_accuracy: 0.2367\n",
            "Epoch 11/500\n",
            "104/104 [==============================] - 2s 22ms/step - loss: 2.3995 - accuracy: 0.2140 - val_loss: 1.7711 - val_accuracy: 0.1981\n",
            "Epoch 12/500\n",
            "104/104 [==============================] - 2s 22ms/step - loss: 2.3885 - accuracy: 0.2098 - val_loss: 1.7369 - val_accuracy: 0.2174\n",
            "Epoch 13/500\n",
            "104/104 [==============================] - 2s 22ms/step - loss: 2.2847 - accuracy: 0.2001 - val_loss: 1.6831 - val_accuracy: 0.2899\n",
            "Epoch 14/500\n",
            "104/104 [==============================] - 2s 22ms/step - loss: 2.1886 - accuracy: 0.2201 - val_loss: 1.7180 - val_accuracy: 0.2222\n",
            "Epoch 15/500\n",
            "104/104 [==============================] - 2s 22ms/step - loss: 2.2576 - accuracy: 0.2086 - val_loss: 1.7152 - val_accuracy: 0.2271\n",
            "Epoch 16/500\n",
            "104/104 [==============================] - 2s 22ms/step - loss: 2.1517 - accuracy: 0.2080 - val_loss: 1.6667 - val_accuracy: 0.2802\n",
            "Epoch 17/500\n",
            "104/104 [==============================] - 2s 22ms/step - loss: 2.1318 - accuracy: 0.2189 - val_loss: 1.6804 - val_accuracy: 0.2657\n",
            "Epoch 18/500\n",
            "104/104 [==============================] - 2s 22ms/step - loss: 2.0807 - accuracy: 0.2062 - val_loss: 1.6743 - val_accuracy: 0.2850\n",
            "Epoch 19/500\n",
            "104/104 [==============================] - 2s 23ms/step - loss: 2.0677 - accuracy: 0.2158 - val_loss: 1.7212 - val_accuracy: 0.2222\n",
            "Epoch 20/500\n",
            "104/104 [==============================] - 2s 23ms/step - loss: 2.0495 - accuracy: 0.2213 - val_loss: 1.7008 - val_accuracy: 0.2802\n",
            "Epoch 21/500\n",
            "104/104 [==============================] - 2s 22ms/step - loss: 1.9844 - accuracy: 0.2376 - val_loss: 1.6719 - val_accuracy: 0.3671\n",
            "Epoch 22/500\n",
            "104/104 [==============================] - 2s 22ms/step - loss: 1.9764 - accuracy: 0.2279 - val_loss: 1.6797 - val_accuracy: 0.3478\n",
            "Epoch 23/500\n",
            "104/104 [==============================] - 2s 23ms/step - loss: 1.9934 - accuracy: 0.2195 - val_loss: 1.6755 - val_accuracy: 0.3768\n",
            "Epoch 24/500\n",
            "104/104 [==============================] - 2s 22ms/step - loss: 1.9658 - accuracy: 0.2370 - val_loss: 1.6943 - val_accuracy: 0.2899\n",
            "Epoch 25/500\n",
            "104/104 [==============================] - 2s 23ms/step - loss: 1.9598 - accuracy: 0.2297 - val_loss: 1.6948 - val_accuracy: 0.3140\n",
            "Epoch 26/500\n",
            "104/104 [==============================] - 2s 22ms/step - loss: 1.9249 - accuracy: 0.2340 - val_loss: 1.6788 - val_accuracy: 0.3140\n",
            "Epoch 27/500\n",
            "104/104 [==============================] - 2s 23ms/step - loss: 1.9255 - accuracy: 0.2213 - val_loss: 1.6760 - val_accuracy: 0.3043\n",
            "Epoch 28/500\n",
            "104/104 [==============================] - 2s 24ms/step - loss: 1.9007 - accuracy: 0.2364 - val_loss: 1.6685 - val_accuracy: 0.3527\n",
            "Epoch 29/500\n",
            "104/104 [==============================] - 2s 23ms/step - loss: 1.9039 - accuracy: 0.2316 - val_loss: 1.6683 - val_accuracy: 0.3140\n",
            "Epoch 30/500\n",
            "104/104 [==============================] - 3s 32ms/step - loss: 1.8538 - accuracy: 0.2443 - val_loss: 1.6554 - val_accuracy: 0.3816\n",
            "Epoch 31/500\n",
            "104/104 [==============================] - 2s 23ms/step - loss: 1.8684 - accuracy: 0.2412 - val_loss: 1.6389 - val_accuracy: 0.3768\n",
            "Epoch 32/500\n",
            "104/104 [==============================] - 2s 23ms/step - loss: 1.8697 - accuracy: 0.2503 - val_loss: 1.6600 - val_accuracy: 0.3237\n",
            "Epoch 33/500\n",
            "104/104 [==============================] - 2s 23ms/step - loss: 1.8322 - accuracy: 0.2455 - val_loss: 1.6594 - val_accuracy: 0.3043\n",
            "Epoch 34/500\n",
            "104/104 [==============================] - 2s 23ms/step - loss: 1.8364 - accuracy: 0.2624 - val_loss: 1.6551 - val_accuracy: 0.3237\n",
            "Epoch 35/500\n",
            "104/104 [==============================] - 2s 23ms/step - loss: 1.8143 - accuracy: 0.2473 - val_loss: 1.6366 - val_accuracy: 0.3430\n",
            "Epoch 36/500\n",
            "104/104 [==============================] - 3s 28ms/step - loss: 1.8217 - accuracy: 0.2437 - val_loss: 1.6296 - val_accuracy: 0.3575\n",
            "Epoch 37/500\n",
            "104/104 [==============================] - 3s 26ms/step - loss: 1.7692 - accuracy: 0.2860 - val_loss: 1.6347 - val_accuracy: 0.4010\n",
            "Epoch 38/500\n",
            "104/104 [==============================] - 2s 23ms/step - loss: 1.8003 - accuracy: 0.2648 - val_loss: 1.6413 - val_accuracy: 0.3671\n",
            "Epoch 39/500\n",
            "104/104 [==============================] - 2s 23ms/step - loss: 1.7915 - accuracy: 0.2618 - val_loss: 1.6316 - val_accuracy: 0.3527\n",
            "Epoch 40/500\n",
            "104/104 [==============================] - 2s 23ms/step - loss: 1.7610 - accuracy: 0.2836 - val_loss: 1.6266 - val_accuracy: 0.3768\n",
            "Epoch 41/500\n",
            "104/104 [==============================] - 2s 23ms/step - loss: 1.7823 - accuracy: 0.2570 - val_loss: 1.6418 - val_accuracy: 0.3285\n",
            "Epoch 42/500\n",
            "104/104 [==============================] - 2s 23ms/step - loss: 1.7719 - accuracy: 0.2739 - val_loss: 1.6409 - val_accuracy: 0.3140\n",
            "Epoch 43/500\n",
            "104/104 [==============================] - 2s 23ms/step - loss: 1.7340 - accuracy: 0.2805 - val_loss: 1.6165 - val_accuracy: 0.3623\n",
            "Epoch 44/500\n",
            "104/104 [==============================] - 2s 23ms/step - loss: 1.7682 - accuracy: 0.2582 - val_loss: 1.5991 - val_accuracy: 0.3865\n",
            "Epoch 45/500\n",
            "104/104 [==============================] - 2s 23ms/step - loss: 1.7594 - accuracy: 0.2576 - val_loss: 1.6122 - val_accuracy: 0.3430\n",
            "Epoch 46/500\n",
            "104/104 [==============================] - 2s 23ms/step - loss: 1.7570 - accuracy: 0.2727 - val_loss: 1.6208 - val_accuracy: 0.3478\n",
            "Epoch 47/500\n",
            "104/104 [==============================] - 2s 23ms/step - loss: 1.7438 - accuracy: 0.2938 - val_loss: 1.6093 - val_accuracy: 0.3623\n",
            "Epoch 48/500\n",
            "104/104 [==============================] - 2s 23ms/step - loss: 1.7025 - accuracy: 0.3047 - val_loss: 1.6092 - val_accuracy: 0.3720\n",
            "Epoch 49/500\n",
            "104/104 [==============================] - 2s 23ms/step - loss: 1.7244 - accuracy: 0.2872 - val_loss: 1.6106 - val_accuracy: 0.3623\n",
            "Epoch 50/500\n",
            "104/104 [==============================] - 2s 23ms/step - loss: 1.7095 - accuracy: 0.2963 - val_loss: 1.6000 - val_accuracy: 0.3768\n",
            "Epoch 51/500\n",
            "104/104 [==============================] - 2s 23ms/step - loss: 1.7155 - accuracy: 0.2727 - val_loss: 1.5941 - val_accuracy: 0.3865\n",
            "Epoch 52/500\n",
            "104/104 [==============================] - 2s 24ms/step - loss: 1.6969 - accuracy: 0.2836 - val_loss: 1.6139 - val_accuracy: 0.3623\n",
            "Epoch 53/500\n",
            "104/104 [==============================] - 2s 23ms/step - loss: 1.6850 - accuracy: 0.2987 - val_loss: 1.5871 - val_accuracy: 0.3188\n",
            "Epoch 54/500\n",
            "104/104 [==============================] - 2s 23ms/step - loss: 1.7053 - accuracy: 0.2981 - val_loss: 1.5739 - val_accuracy: 0.3865\n",
            "Epoch 55/500\n",
            "104/104 [==============================] - 2s 23ms/step - loss: 1.6859 - accuracy: 0.3017 - val_loss: 1.5750 - val_accuracy: 0.4010\n",
            "Epoch 56/500\n",
            "104/104 [==============================] - 2s 23ms/step - loss: 1.6934 - accuracy: 0.2975 - val_loss: 1.5624 - val_accuracy: 0.4058\n",
            "Epoch 57/500\n",
            "104/104 [==============================] - 2s 23ms/step - loss: 1.6568 - accuracy: 0.3204 - val_loss: 1.5608 - val_accuracy: 0.3768\n",
            "Epoch 58/500\n",
            "104/104 [==============================] - 2s 24ms/step - loss: 1.6661 - accuracy: 0.3216 - val_loss: 1.5568 - val_accuracy: 0.3961\n",
            "Epoch 59/500\n",
            "104/104 [==============================] - 2s 23ms/step - loss: 1.6456 - accuracy: 0.3114 - val_loss: 1.5650 - val_accuracy: 0.4106\n",
            "Epoch 60/500\n",
            "104/104 [==============================] - 2s 23ms/step - loss: 1.6659 - accuracy: 0.3204 - val_loss: 1.5591 - val_accuracy: 0.3720\n",
            "Epoch 61/500\n",
            "104/104 [==============================] - 2s 23ms/step - loss: 1.6438 - accuracy: 0.3216 - val_loss: 1.5453 - val_accuracy: 0.4493\n",
            "Epoch 62/500\n",
            "104/104 [==============================] - 2s 23ms/step - loss: 1.6327 - accuracy: 0.3186 - val_loss: 1.5493 - val_accuracy: 0.4300\n",
            "Epoch 63/500\n",
            "104/104 [==============================] - 2s 23ms/step - loss: 1.6325 - accuracy: 0.3241 - val_loss: 1.5581 - val_accuracy: 0.4396\n",
            "Epoch 64/500\n",
            "104/104 [==============================] - 2s 23ms/step - loss: 1.6384 - accuracy: 0.3265 - val_loss: 1.5594 - val_accuracy: 0.3527\n",
            "Epoch 65/500\n",
            "104/104 [==============================] - 2s 23ms/step - loss: 1.6121 - accuracy: 0.3198 - val_loss: 1.5470 - val_accuracy: 0.3865\n",
            "Epoch 66/500\n",
            "104/104 [==============================] - 2s 23ms/step - loss: 1.6130 - accuracy: 0.3295 - val_loss: 1.5327 - val_accuracy: 0.3913\n",
            "Epoch 67/500\n",
            "104/104 [==============================] - 2s 24ms/step - loss: 1.5989 - accuracy: 0.3416 - val_loss: 1.5271 - val_accuracy: 0.4251\n",
            "Epoch 68/500\n",
            "104/104 [==============================] - 2s 23ms/step - loss: 1.6017 - accuracy: 0.3289 - val_loss: 1.5260 - val_accuracy: 0.4058\n",
            "Epoch 69/500\n",
            "104/104 [==============================] - 2s 23ms/step - loss: 1.6142 - accuracy: 0.3349 - val_loss: 1.5067 - val_accuracy: 0.4106\n",
            "Epoch 70/500\n",
            "104/104 [==============================] - 2s 23ms/step - loss: 1.5939 - accuracy: 0.3531 - val_loss: 1.5111 - val_accuracy: 0.4106\n",
            "Epoch 71/500\n",
            "104/104 [==============================] - 2s 23ms/step - loss: 1.6228 - accuracy: 0.3331 - val_loss: 1.5299 - val_accuracy: 0.3913\n",
            "Epoch 72/500\n",
            "104/104 [==============================] - 2s 24ms/step - loss: 1.6065 - accuracy: 0.3313 - val_loss: 1.5344 - val_accuracy: 0.3913\n",
            "Epoch 73/500\n",
            "104/104 [==============================] - 2s 23ms/step - loss: 1.5981 - accuracy: 0.3646 - val_loss: 1.5142 - val_accuracy: 0.4106\n",
            "Epoch 74/500\n",
            "104/104 [==============================] - 3s 32ms/step - loss: 1.5737 - accuracy: 0.3452 - val_loss: 1.4946 - val_accuracy: 0.4106\n",
            "Epoch 75/500\n",
            "104/104 [==============================] - 2s 23ms/step - loss: 1.5785 - accuracy: 0.3446 - val_loss: 1.4986 - val_accuracy: 0.4203\n",
            "Epoch 76/500\n",
            "104/104 [==============================] - 2s 23ms/step - loss: 1.5693 - accuracy: 0.3622 - val_loss: 1.4821 - val_accuracy: 0.3913\n",
            "Epoch 77/500\n",
            "104/104 [==============================] - 2s 23ms/step - loss: 1.5702 - accuracy: 0.3531 - val_loss: 1.4902 - val_accuracy: 0.4106\n",
            "Epoch 78/500\n",
            "104/104 [==============================] - 2s 23ms/step - loss: 1.5482 - accuracy: 0.3609 - val_loss: 1.5315 - val_accuracy: 0.3671\n",
            "Epoch 79/500\n",
            "104/104 [==============================] - 2s 23ms/step - loss: 1.5723 - accuracy: 0.3458 - val_loss: 1.5151 - val_accuracy: 0.3816\n",
            "Epoch 80/500\n",
            "104/104 [==============================] - 2s 23ms/step - loss: 1.5306 - accuracy: 0.3785 - val_loss: 1.4926 - val_accuracy: 0.3816\n",
            "Epoch 81/500\n",
            "104/104 [==============================] - 2s 23ms/step - loss: 1.5378 - accuracy: 0.3767 - val_loss: 1.4736 - val_accuracy: 0.4831\n",
            "Epoch 82/500\n",
            "104/104 [==============================] - 2s 23ms/step - loss: 1.5425 - accuracy: 0.3652 - val_loss: 1.4764 - val_accuracy: 0.4541\n",
            "Epoch 83/500\n",
            "104/104 [==============================] - 2s 23ms/step - loss: 1.5388 - accuracy: 0.3706 - val_loss: 1.4675 - val_accuracy: 0.4348\n",
            "Epoch 84/500\n",
            "104/104 [==============================] - 2s 23ms/step - loss: 1.5256 - accuracy: 0.3785 - val_loss: 1.4422 - val_accuracy: 0.4734\n",
            "Epoch 85/500\n",
            "104/104 [==============================] - 2s 23ms/step - loss: 1.4914 - accuracy: 0.4008 - val_loss: 1.4540 - val_accuracy: 0.4444\n",
            "Epoch 86/500\n",
            "104/104 [==============================] - 2s 23ms/step - loss: 1.5073 - accuracy: 0.3821 - val_loss: 1.4457 - val_accuracy: 0.4541\n",
            "Epoch 87/500\n",
            "104/104 [==============================] - 2s 23ms/step - loss: 1.5019 - accuracy: 0.3821 - val_loss: 1.4542 - val_accuracy: 0.4493\n",
            "Epoch 88/500\n",
            "104/104 [==============================] - 2s 23ms/step - loss: 1.5079 - accuracy: 0.3875 - val_loss: 1.4554 - val_accuracy: 0.4106\n",
            "Epoch 89/500\n",
            "104/104 [==============================] - 2s 24ms/step - loss: 1.5192 - accuracy: 0.3851 - val_loss: 1.4360 - val_accuracy: 0.4493\n",
            "Epoch 90/500\n",
            "104/104 [==============================] - 2s 23ms/step - loss: 1.5217 - accuracy: 0.3755 - val_loss: 1.4439 - val_accuracy: 0.4589\n",
            "Epoch 91/500\n",
            "104/104 [==============================] - 2s 23ms/step - loss: 1.4797 - accuracy: 0.4015 - val_loss: 1.4418 - val_accuracy: 0.4783\n",
            "Epoch 92/500\n",
            "104/104 [==============================] - 2s 24ms/step - loss: 1.4819 - accuracy: 0.3930 - val_loss: 1.4305 - val_accuracy: 0.4686\n",
            "Epoch 93/500\n",
            "104/104 [==============================] - 2s 23ms/step - loss: 1.4748 - accuracy: 0.3984 - val_loss: 1.4205 - val_accuracy: 0.4879\n",
            "Epoch 94/500\n",
            "104/104 [==============================] - 2s 23ms/step - loss: 1.4694 - accuracy: 0.4063 - val_loss: 1.4239 - val_accuracy: 0.4831\n",
            "Epoch 95/500\n",
            "104/104 [==============================] - 3s 25ms/step - loss: 1.4762 - accuracy: 0.3912 - val_loss: 1.4178 - val_accuracy: 0.4589\n",
            "Epoch 96/500\n",
            "104/104 [==============================] - 2s 24ms/step - loss: 1.4424 - accuracy: 0.4172 - val_loss: 1.4206 - val_accuracy: 0.4300\n",
            "Epoch 97/500\n",
            "104/104 [==============================] - 2s 24ms/step - loss: 1.4604 - accuracy: 0.4075 - val_loss: 1.4169 - val_accuracy: 0.4348\n",
            "Epoch 98/500\n",
            "104/104 [==============================] - 2s 24ms/step - loss: 1.4363 - accuracy: 0.4281 - val_loss: 1.4103 - val_accuracy: 0.4734\n",
            "Epoch 99/500\n",
            "104/104 [==============================] - 2s 24ms/step - loss: 1.4455 - accuracy: 0.4184 - val_loss: 1.4036 - val_accuracy: 0.4783\n",
            "Epoch 100/500\n",
            "104/104 [==============================] - 2s 23ms/step - loss: 1.4426 - accuracy: 0.4190 - val_loss: 1.3905 - val_accuracy: 0.4783\n",
            "Epoch 101/500\n",
            "104/104 [==============================] - 3s 24ms/step - loss: 1.4343 - accuracy: 0.4111 - val_loss: 1.3876 - val_accuracy: 0.4831\n",
            "Epoch 102/500\n",
            "104/104 [==============================] - 2s 23ms/step - loss: 1.4386 - accuracy: 0.4172 - val_loss: 1.4100 - val_accuracy: 0.4300\n",
            "Epoch 103/500\n",
            "104/104 [==============================] - 2s 23ms/step - loss: 1.4483 - accuracy: 0.3966 - val_loss: 1.3781 - val_accuracy: 0.4734\n",
            "Epoch 104/500\n",
            "104/104 [==============================] - 2s 23ms/step - loss: 1.4232 - accuracy: 0.4214 - val_loss: 1.3548 - val_accuracy: 0.4928\n",
            "Epoch 105/500\n",
            "104/104 [==============================] - 2s 24ms/step - loss: 1.3965 - accuracy: 0.4335 - val_loss: 1.3568 - val_accuracy: 0.5121\n",
            "Epoch 106/500\n",
            "104/104 [==============================] - 2s 24ms/step - loss: 1.4165 - accuracy: 0.4329 - val_loss: 1.3654 - val_accuracy: 0.4831\n",
            "Epoch 107/500\n",
            "104/104 [==============================] - 2s 24ms/step - loss: 1.3888 - accuracy: 0.4274 - val_loss: 1.3741 - val_accuracy: 0.4783\n",
            "Epoch 108/500\n",
            "104/104 [==============================] - 2s 24ms/step - loss: 1.4176 - accuracy: 0.4468 - val_loss: 1.3355 - val_accuracy: 0.4976\n",
            "Epoch 109/500\n",
            "104/104 [==============================] - 2s 24ms/step - loss: 1.4120 - accuracy: 0.4407 - val_loss: 1.3149 - val_accuracy: 0.5362\n",
            "Epoch 110/500\n",
            "104/104 [==============================] - 2s 24ms/step - loss: 1.3997 - accuracy: 0.4389 - val_loss: 1.3263 - val_accuracy: 0.5169\n",
            "Epoch 111/500\n",
            "104/104 [==============================] - 2s 24ms/step - loss: 1.3832 - accuracy: 0.4220 - val_loss: 1.3357 - val_accuracy: 0.4976\n",
            "Epoch 112/500\n",
            "104/104 [==============================] - 2s 23ms/step - loss: 1.3730 - accuracy: 0.4486 - val_loss: 1.3372 - val_accuracy: 0.4928\n",
            "Epoch 113/500\n",
            "104/104 [==============================] - 2s 24ms/step - loss: 1.3828 - accuracy: 0.4395 - val_loss: 1.3252 - val_accuracy: 0.5266\n",
            "Epoch 114/500\n",
            "104/104 [==============================] - 2s 24ms/step - loss: 1.3739 - accuracy: 0.4516 - val_loss: 1.3202 - val_accuracy: 0.5121\n",
            "Epoch 115/500\n",
            "104/104 [==============================] - 2s 24ms/step - loss: 1.3928 - accuracy: 0.4329 - val_loss: 1.3210 - val_accuracy: 0.5266\n",
            "Epoch 116/500\n",
            "104/104 [==============================] - 2s 23ms/step - loss: 1.3737 - accuracy: 0.4601 - val_loss: 1.3070 - val_accuracy: 0.5362\n",
            "Epoch 117/500\n",
            "104/104 [==============================] - 3s 32ms/step - loss: 1.3715 - accuracy: 0.4420 - val_loss: 1.2961 - val_accuracy: 0.5314\n",
            "Epoch 118/500\n",
            "104/104 [==============================] - 3s 24ms/step - loss: 1.3748 - accuracy: 0.4432 - val_loss: 1.3030 - val_accuracy: 0.5169\n",
            "Epoch 119/500\n",
            "104/104 [==============================] - 2s 23ms/step - loss: 1.3475 - accuracy: 0.4541 - val_loss: 1.3020 - val_accuracy: 0.4976\n",
            "Epoch 120/500\n",
            "104/104 [==============================] - 2s 23ms/step - loss: 1.3344 - accuracy: 0.4637 - val_loss: 1.2826 - val_accuracy: 0.5266\n",
            "Epoch 121/500\n",
            "104/104 [==============================] - 2s 23ms/step - loss: 1.3306 - accuracy: 0.4710 - val_loss: 1.2857 - val_accuracy: 0.5314\n",
            "Epoch 122/500\n",
            "104/104 [==============================] - 2s 24ms/step - loss: 1.3220 - accuracy: 0.4758 - val_loss: 1.2725 - val_accuracy: 0.5314\n",
            "Epoch 123/500\n",
            "104/104 [==============================] - 2s 23ms/step - loss: 1.3458 - accuracy: 0.4607 - val_loss: 1.2829 - val_accuracy: 0.5024\n",
            "Epoch 124/500\n",
            "104/104 [==============================] - 2s 23ms/step - loss: 1.3171 - accuracy: 0.4619 - val_loss: 1.2627 - val_accuracy: 0.5459\n",
            "Epoch 125/500\n",
            "104/104 [==============================] - 2s 23ms/step - loss: 1.3069 - accuracy: 0.4649 - val_loss: 1.2602 - val_accuracy: 0.5459\n",
            "Epoch 126/500\n",
            "104/104 [==============================] - 2s 23ms/step - loss: 1.3232 - accuracy: 0.4698 - val_loss: 1.2533 - val_accuracy: 0.5507\n",
            "Epoch 127/500\n",
            "104/104 [==============================] - 2s 24ms/step - loss: 1.3103 - accuracy: 0.4813 - val_loss: 1.2465 - val_accuracy: 0.5459\n",
            "Epoch 128/500\n",
            "104/104 [==============================] - 2s 24ms/step - loss: 1.3224 - accuracy: 0.4722 - val_loss: 1.2562 - val_accuracy: 0.5072\n",
            "Epoch 129/500\n",
            "104/104 [==============================] - 2s 23ms/step - loss: 1.3151 - accuracy: 0.4667 - val_loss: 1.2390 - val_accuracy: 0.5362\n",
            "Epoch 130/500\n",
            "104/104 [==============================] - 2s 24ms/step - loss: 1.2997 - accuracy: 0.4994 - val_loss: 1.2646 - val_accuracy: 0.5266\n",
            "Epoch 131/500\n",
            "104/104 [==============================] - 2s 24ms/step - loss: 1.3052 - accuracy: 0.4807 - val_loss: 1.2545 - val_accuracy: 0.5459\n",
            "Epoch 132/500\n",
            "104/104 [==============================] - 2s 23ms/step - loss: 1.2724 - accuracy: 0.4988 - val_loss: 1.2468 - val_accuracy: 0.5604\n",
            "Epoch 133/500\n",
            "104/104 [==============================] - 2s 24ms/step - loss: 1.3108 - accuracy: 0.4770 - val_loss: 1.2832 - val_accuracy: 0.5024\n",
            "Epoch 134/500\n",
            "104/104 [==============================] - 2s 23ms/step - loss: 1.2879 - accuracy: 0.4843 - val_loss: 1.2513 - val_accuracy: 0.5507\n",
            "Epoch 135/500\n",
            "104/104 [==============================] - 2s 24ms/step - loss: 1.2699 - accuracy: 0.4855 - val_loss: 1.2232 - val_accuracy: 0.5507\n",
            "Epoch 136/500\n",
            "104/104 [==============================] - 2s 24ms/step - loss: 1.2719 - accuracy: 0.4933 - val_loss: 1.2080 - val_accuracy: 0.5700\n",
            "Epoch 137/500\n",
            "104/104 [==============================] - 2s 23ms/step - loss: 1.2757 - accuracy: 0.4976 - val_loss: 1.2160 - val_accuracy: 0.5700\n",
            "Epoch 138/500\n",
            "104/104 [==============================] - 2s 24ms/step - loss: 1.2891 - accuracy: 0.4746 - val_loss: 1.2052 - val_accuracy: 0.5652\n",
            "Epoch 139/500\n",
            "104/104 [==============================] - 2s 23ms/step - loss: 1.2474 - accuracy: 0.5042 - val_loss: 1.2061 - val_accuracy: 0.5749\n",
            "Epoch 140/500\n",
            "104/104 [==============================] - 2s 24ms/step - loss: 1.2611 - accuracy: 0.5024 - val_loss: 1.2170 - val_accuracy: 0.5459\n",
            "Epoch 141/500\n",
            "104/104 [==============================] - 2s 24ms/step - loss: 1.2390 - accuracy: 0.5085 - val_loss: 1.2041 - val_accuracy: 0.5749\n",
            "Epoch 142/500\n",
            "104/104 [==============================] - 2s 24ms/step - loss: 1.2593 - accuracy: 0.4952 - val_loss: 1.1959 - val_accuracy: 0.5604\n",
            "Epoch 143/500\n",
            "104/104 [==============================] - 2s 24ms/step - loss: 1.2515 - accuracy: 0.5079 - val_loss: 1.1923 - val_accuracy: 0.5459\n",
            "Epoch 144/500\n",
            "104/104 [==============================] - 3s 24ms/step - loss: 1.2521 - accuracy: 0.5030 - val_loss: 1.1994 - val_accuracy: 0.5652\n",
            "Epoch 145/500\n",
            "104/104 [==============================] - 2s 23ms/step - loss: 1.2619 - accuracy: 0.4879 - val_loss: 1.1873 - val_accuracy: 0.5845\n",
            "Epoch 146/500\n",
            "104/104 [==============================] - 2s 24ms/step - loss: 1.2312 - accuracy: 0.5060 - val_loss: 1.1863 - val_accuracy: 0.5604\n",
            "Epoch 147/500\n",
            "104/104 [==============================] - 2s 23ms/step - loss: 1.2500 - accuracy: 0.5048 - val_loss: 1.1740 - val_accuracy: 0.5700\n",
            "Epoch 148/500\n",
            "104/104 [==============================] - 2s 24ms/step - loss: 1.2169 - accuracy: 0.5060 - val_loss: 1.1759 - val_accuracy: 0.5652\n",
            "Epoch 149/500\n",
            "104/104 [==============================] - 2s 23ms/step - loss: 1.2101 - accuracy: 0.5157 - val_loss: 1.1681 - val_accuracy: 0.5797\n",
            "Epoch 150/500\n",
            "104/104 [==============================] - 2s 23ms/step - loss: 1.2199 - accuracy: 0.5175 - val_loss: 1.1785 - val_accuracy: 0.5700\n",
            "Epoch 151/500\n",
            "104/104 [==============================] - 2s 23ms/step - loss: 1.2340 - accuracy: 0.4946 - val_loss: 1.1683 - val_accuracy: 0.5894\n",
            "Epoch 152/500\n",
            "104/104 [==============================] - 2s 24ms/step - loss: 1.2120 - accuracy: 0.5048 - val_loss: 1.1676 - val_accuracy: 0.5749\n",
            "Epoch 153/500\n",
            "104/104 [==============================] - 2s 24ms/step - loss: 1.1998 - accuracy: 0.5272 - val_loss: 1.1526 - val_accuracy: 0.6039\n",
            "Epoch 154/500\n",
            "104/104 [==============================] - 2s 24ms/step - loss: 1.2034 - accuracy: 0.5218 - val_loss: 1.1610 - val_accuracy: 0.5942\n",
            "Epoch 155/500\n",
            "104/104 [==============================] - 2s 24ms/step - loss: 1.2104 - accuracy: 0.5175 - val_loss: 1.1684 - val_accuracy: 0.5797\n",
            "Epoch 156/500\n",
            "104/104 [==============================] - 2s 23ms/step - loss: 1.2059 - accuracy: 0.5193 - val_loss: 1.1628 - val_accuracy: 0.5749\n",
            "Epoch 157/500\n",
            "104/104 [==============================] - 2s 24ms/step - loss: 1.2008 - accuracy: 0.5187 - val_loss: 1.1750 - val_accuracy: 0.5845\n",
            "Epoch 158/500\n",
            "104/104 [==============================] - 2s 24ms/step - loss: 1.1972 - accuracy: 0.5200 - val_loss: 1.1575 - val_accuracy: 0.5894\n",
            "Epoch 159/500\n",
            "104/104 [==============================] - 2s 23ms/step - loss: 1.2088 - accuracy: 0.5157 - val_loss: 1.1534 - val_accuracy: 0.5942\n",
            "Epoch 160/500\n",
            "104/104 [==============================] - 2s 24ms/step - loss: 1.1760 - accuracy: 0.5248 - val_loss: 1.1634 - val_accuracy: 0.5797\n",
            "Epoch 161/500\n",
            "104/104 [==============================] - 2s 24ms/step - loss: 1.1819 - accuracy: 0.5230 - val_loss: 1.1292 - val_accuracy: 0.5942\n",
            "Epoch 162/500\n",
            "104/104 [==============================] - 2s 24ms/step - loss: 1.1648 - accuracy: 0.5617 - val_loss: 1.1308 - val_accuracy: 0.5990\n",
            "Epoch 163/500\n",
            "104/104 [==============================] - 3s 24ms/step - loss: 1.1496 - accuracy: 0.5459 - val_loss: 1.1314 - val_accuracy: 0.6135\n",
            "Epoch 164/500\n",
            "104/104 [==============================] - 2s 24ms/step - loss: 1.1786 - accuracy: 0.5308 - val_loss: 1.1286 - val_accuracy: 0.6039\n",
            "Epoch 165/500\n",
            "104/104 [==============================] - 2s 24ms/step - loss: 1.1635 - accuracy: 0.5260 - val_loss: 1.1358 - val_accuracy: 0.5894\n",
            "Epoch 166/500\n",
            "104/104 [==============================] - 2s 24ms/step - loss: 1.1559 - accuracy: 0.5399 - val_loss: 1.1227 - val_accuracy: 0.6087\n",
            "Epoch 167/500\n",
            "104/104 [==============================] - 2s 23ms/step - loss: 1.1530 - accuracy: 0.5302 - val_loss: 1.1250 - val_accuracy: 0.5845\n",
            "Epoch 168/500\n",
            "104/104 [==============================] - 2s 23ms/step - loss: 1.1609 - accuracy: 0.5345 - val_loss: 1.1153 - val_accuracy: 0.6039\n",
            "Epoch 169/500\n",
            "104/104 [==============================] - 2s 24ms/step - loss: 1.1677 - accuracy: 0.5333 - val_loss: 1.1144 - val_accuracy: 0.5990\n",
            "Epoch 170/500\n",
            "104/104 [==============================] - 2s 24ms/step - loss: 1.1595 - accuracy: 0.5351 - val_loss: 1.1139 - val_accuracy: 0.5894\n",
            "Epoch 171/500\n",
            "104/104 [==============================] - 2s 23ms/step - loss: 1.1448 - accuracy: 0.5538 - val_loss: 1.1100 - val_accuracy: 0.5942\n",
            "Epoch 172/500\n",
            "104/104 [==============================] - 2s 23ms/step - loss: 1.1635 - accuracy: 0.5314 - val_loss: 1.1055 - val_accuracy: 0.5942\n",
            "Epoch 173/500\n",
            "104/104 [==============================] - 2s 23ms/step - loss: 1.1289 - accuracy: 0.5520 - val_loss: 1.1088 - val_accuracy: 0.5990\n",
            "Epoch 174/500\n",
            "104/104 [==============================] - 2s 23ms/step - loss: 1.1562 - accuracy: 0.5381 - val_loss: 1.0906 - val_accuracy: 0.6184\n",
            "Epoch 175/500\n",
            "104/104 [==============================] - 2s 24ms/step - loss: 1.1162 - accuracy: 0.5683 - val_loss: 1.0895 - val_accuracy: 0.6039\n",
            "Epoch 176/500\n",
            "104/104 [==============================] - 2s 24ms/step - loss: 1.1392 - accuracy: 0.5357 - val_loss: 1.0911 - val_accuracy: 0.6135\n",
            "Epoch 177/500\n",
            "104/104 [==============================] - 2s 24ms/step - loss: 1.1382 - accuracy: 0.5429 - val_loss: 1.1037 - val_accuracy: 0.6184\n",
            "Epoch 178/500\n",
            "104/104 [==============================] - 2s 24ms/step - loss: 1.1107 - accuracy: 0.5599 - val_loss: 1.1085 - val_accuracy: 0.5990\n",
            "Epoch 179/500\n",
            "104/104 [==============================] - 2s 23ms/step - loss: 1.1318 - accuracy: 0.5520 - val_loss: 1.0909 - val_accuracy: 0.6135\n",
            "Epoch 180/500\n",
            "104/104 [==============================] - 2s 24ms/step - loss: 1.1282 - accuracy: 0.5532 - val_loss: 1.0941 - val_accuracy: 0.6087\n",
            "Epoch 181/500\n",
            "104/104 [==============================] - 2s 23ms/step - loss: 1.1374 - accuracy: 0.5490 - val_loss: 1.0761 - val_accuracy: 0.6232\n",
            "Epoch 182/500\n",
            "104/104 [==============================] - 2s 23ms/step - loss: 1.1108 - accuracy: 0.5611 - val_loss: 1.0949 - val_accuracy: 0.5845\n",
            "Epoch 183/500\n",
            "104/104 [==============================] - 2s 23ms/step - loss: 1.1153 - accuracy: 0.5653 - val_loss: 1.0809 - val_accuracy: 0.6135\n",
            "Epoch 184/500\n",
            "104/104 [==============================] - 2s 23ms/step - loss: 1.1005 - accuracy: 0.5744 - val_loss: 1.0705 - val_accuracy: 0.6232\n",
            "Epoch 185/500\n",
            "104/104 [==============================] - 2s 23ms/step - loss: 1.1037 - accuracy: 0.5665 - val_loss: 1.0882 - val_accuracy: 0.6039\n",
            "Epoch 186/500\n",
            "104/104 [==============================] - 2s 23ms/step - loss: 1.1044 - accuracy: 0.5520 - val_loss: 1.0777 - val_accuracy: 0.5845\n",
            "Epoch 187/500\n",
            "104/104 [==============================] - 2s 24ms/step - loss: 1.1101 - accuracy: 0.5756 - val_loss: 1.0722 - val_accuracy: 0.5942\n",
            "Epoch 188/500\n",
            "104/104 [==============================] - 2s 24ms/step - loss: 1.0740 - accuracy: 0.5768 - val_loss: 1.0558 - val_accuracy: 0.6039\n",
            "Epoch 189/500\n",
            "104/104 [==============================] - 2s 24ms/step - loss: 1.1213 - accuracy: 0.5544 - val_loss: 1.0632 - val_accuracy: 0.6039\n",
            "Epoch 190/500\n",
            "104/104 [==============================] - 2s 23ms/step - loss: 1.0834 - accuracy: 0.5744 - val_loss: 1.0646 - val_accuracy: 0.6232\n",
            "Epoch 191/500\n",
            "104/104 [==============================] - 2s 23ms/step - loss: 1.0829 - accuracy: 0.5738 - val_loss: 1.0546 - val_accuracy: 0.5845\n",
            "Epoch 192/500\n",
            "104/104 [==============================] - 2s 23ms/step - loss: 1.1144 - accuracy: 0.5574 - val_loss: 1.0544 - val_accuracy: 0.6184\n",
            "Epoch 193/500\n",
            "104/104 [==============================] - 2s 23ms/step - loss: 1.0799 - accuracy: 0.5635 - val_loss: 1.0545 - val_accuracy: 0.6280\n",
            "Epoch 194/500\n",
            "104/104 [==============================] - 2s 24ms/step - loss: 1.0731 - accuracy: 0.5671 - val_loss: 1.0718 - val_accuracy: 0.6087\n",
            "Epoch 195/500\n",
            "104/104 [==============================] - 2s 23ms/step - loss: 1.0792 - accuracy: 0.5810 - val_loss: 1.0550 - val_accuracy: 0.6184\n",
            "Epoch 196/500\n",
            "104/104 [==============================] - 2s 24ms/step - loss: 1.0736 - accuracy: 0.5605 - val_loss: 1.0602 - val_accuracy: 0.6087\n",
            "Epoch 197/500\n",
            "104/104 [==============================] - 2s 23ms/step - loss: 1.0745 - accuracy: 0.5810 - val_loss: 1.0544 - val_accuracy: 0.6184\n",
            "Epoch 198/500\n",
            "104/104 [==============================] - 2s 23ms/step - loss: 1.0792 - accuracy: 0.5852 - val_loss: 1.0455 - val_accuracy: 0.6473\n",
            "Epoch 199/500\n",
            "104/104 [==============================] - 2s 24ms/step - loss: 1.0827 - accuracy: 0.5726 - val_loss: 1.0528 - val_accuracy: 0.6232\n",
            "Epoch 200/500\n",
            "104/104 [==============================] - 2s 24ms/step - loss: 1.0655 - accuracy: 0.5762 - val_loss: 1.0382 - val_accuracy: 0.6329\n",
            "Epoch 201/500\n",
            "104/104 [==============================] - 2s 24ms/step - loss: 1.0509 - accuracy: 0.5816 - val_loss: 1.0469 - val_accuracy: 0.6232\n",
            "Epoch 202/500\n",
            "104/104 [==============================] - 2s 24ms/step - loss: 1.0614 - accuracy: 0.5713 - val_loss: 1.0397 - val_accuracy: 0.6232\n",
            "Epoch 203/500\n",
            "104/104 [==============================] - 2s 24ms/step - loss: 1.0430 - accuracy: 0.5931 - val_loss: 1.0598 - val_accuracy: 0.6184\n",
            "Epoch 204/500\n",
            "104/104 [==============================] - 2s 23ms/step - loss: 1.0561 - accuracy: 0.5895 - val_loss: 1.0534 - val_accuracy: 0.6377\n",
            "Epoch 205/500\n",
            "104/104 [==============================] - 2s 23ms/step - loss: 1.0240 - accuracy: 0.6010 - val_loss: 1.0345 - val_accuracy: 0.6473\n",
            "Epoch 206/500\n",
            "104/104 [==============================] - 2s 24ms/step - loss: 1.0553 - accuracy: 0.5865 - val_loss: 1.0258 - val_accuracy: 0.6280\n",
            "Epoch 207/500\n",
            "104/104 [==============================] - 2s 24ms/step - loss: 1.0514 - accuracy: 0.5889 - val_loss: 1.0431 - val_accuracy: 0.6377\n",
            "Epoch 208/500\n",
            "104/104 [==============================] - 2s 23ms/step - loss: 1.0215 - accuracy: 0.6004 - val_loss: 1.0358 - val_accuracy: 0.6135\n",
            "Epoch 209/500\n",
            "104/104 [==============================] - 2s 23ms/step - loss: 1.0347 - accuracy: 0.6010 - val_loss: 1.0256 - val_accuracy: 0.6329\n",
            "Epoch 210/500\n",
            "104/104 [==============================] - 2s 23ms/step - loss: 1.0388 - accuracy: 0.5883 - val_loss: 1.0282 - val_accuracy: 0.6280\n",
            "Epoch 211/500\n",
            "104/104 [==============================] - 2s 23ms/step - loss: 1.0277 - accuracy: 0.5943 - val_loss: 1.0269 - val_accuracy: 0.6329\n",
            "Epoch 212/500\n",
            "104/104 [==============================] - 2s 23ms/step - loss: 1.0340 - accuracy: 0.5913 - val_loss: 1.0173 - val_accuracy: 0.6329\n",
            "Epoch 213/500\n",
            "104/104 [==============================] - 2s 24ms/step - loss: 1.0291 - accuracy: 0.6076 - val_loss: 1.0220 - val_accuracy: 0.6522\n",
            "Epoch 214/500\n",
            "104/104 [==============================] - 2s 23ms/step - loss: 1.0260 - accuracy: 0.5961 - val_loss: 1.0230 - val_accuracy: 0.6232\n",
            "Epoch 215/500\n",
            "104/104 [==============================] - 2s 23ms/step - loss: 1.0370 - accuracy: 0.5998 - val_loss: 1.0121 - val_accuracy: 0.6329\n",
            "Epoch 216/500\n",
            "104/104 [==============================] - 2s 24ms/step - loss: 1.0265 - accuracy: 0.5955 - val_loss: 1.0241 - val_accuracy: 0.6425\n",
            "Epoch 217/500\n",
            "104/104 [==============================] - 2s 24ms/step - loss: 1.0229 - accuracy: 0.5931 - val_loss: 1.0137 - val_accuracy: 0.6184\n",
            "Epoch 218/500\n",
            "104/104 [==============================] - 2s 24ms/step - loss: 1.0199 - accuracy: 0.5901 - val_loss: 1.0076 - val_accuracy: 0.6280\n",
            "Epoch 219/500\n",
            "104/104 [==============================] - 2s 23ms/step - loss: 0.9944 - accuracy: 0.6058 - val_loss: 1.0100 - val_accuracy: 0.6473\n",
            "Epoch 220/500\n",
            "104/104 [==============================] - 2s 23ms/step - loss: 1.0086 - accuracy: 0.6016 - val_loss: 1.0056 - val_accuracy: 0.6329\n",
            "Epoch 221/500\n",
            "104/104 [==============================] - 2s 24ms/step - loss: 1.0157 - accuracy: 0.5985 - val_loss: 1.0011 - val_accuracy: 0.6329\n",
            "Epoch 222/500\n",
            "104/104 [==============================] - 2s 23ms/step - loss: 1.0056 - accuracy: 0.6070 - val_loss: 0.9931 - val_accuracy: 0.6329\n",
            "Epoch 223/500\n",
            "104/104 [==============================] - 2s 23ms/step - loss: 0.9968 - accuracy: 0.6016 - val_loss: 0.9897 - val_accuracy: 0.6377\n",
            "Epoch 224/500\n",
            "104/104 [==============================] - 2s 23ms/step - loss: 0.9936 - accuracy: 0.6070 - val_loss: 0.9938 - val_accuracy: 0.6329\n",
            "Epoch 225/500\n",
            "104/104 [==============================] - 2s 23ms/step - loss: 0.9937 - accuracy: 0.6112 - val_loss: 1.0013 - val_accuracy: 0.6570\n",
            "Epoch 226/500\n",
            "104/104 [==============================] - 2s 24ms/step - loss: 1.0041 - accuracy: 0.6064 - val_loss: 0.9881 - val_accuracy: 0.6425\n",
            "Epoch 227/500\n",
            "104/104 [==============================] - 2s 23ms/step - loss: 1.0105 - accuracy: 0.6028 - val_loss: 0.9921 - val_accuracy: 0.6425\n",
            "Epoch 228/500\n",
            "104/104 [==============================] - 2s 24ms/step - loss: 0.9841 - accuracy: 0.6137 - val_loss: 0.9919 - val_accuracy: 0.6232\n",
            "Epoch 229/500\n",
            "104/104 [==============================] - 2s 23ms/step - loss: 0.9798 - accuracy: 0.6040 - val_loss: 0.9832 - val_accuracy: 0.6473\n",
            "Epoch 230/500\n",
            "104/104 [==============================] - 2s 23ms/step - loss: 0.9621 - accuracy: 0.6330 - val_loss: 0.9742 - val_accuracy: 0.6135\n",
            "Epoch 231/500\n",
            "104/104 [==============================] - 2s 23ms/step - loss: 0.9903 - accuracy: 0.6058 - val_loss: 0.9918 - val_accuracy: 0.6329\n",
            "Epoch 232/500\n",
            "104/104 [==============================] - 2s 23ms/step - loss: 0.9786 - accuracy: 0.6215 - val_loss: 0.9724 - val_accuracy: 0.6329\n",
            "Epoch 233/500\n",
            "104/104 [==============================] - 2s 23ms/step - loss: 0.9887 - accuracy: 0.6185 - val_loss: 0.9737 - val_accuracy: 0.6280\n",
            "Epoch 234/500\n",
            "104/104 [==============================] - 2s 23ms/step - loss: 0.9605 - accuracy: 0.6258 - val_loss: 0.9750 - val_accuracy: 0.6377\n",
            "Epoch 235/500\n",
            "104/104 [==============================] - 2s 24ms/step - loss: 0.9888 - accuracy: 0.6131 - val_loss: 0.9772 - val_accuracy: 0.6377\n",
            "Epoch 236/500\n",
            "104/104 [==============================] - 2s 24ms/step - loss: 0.9875 - accuracy: 0.6245 - val_loss: 0.9655 - val_accuracy: 0.6473\n",
            "Epoch 237/500\n",
            "104/104 [==============================] - 2s 24ms/step - loss: 0.9732 - accuracy: 0.6100 - val_loss: 0.9655 - val_accuracy: 0.6570\n",
            "Epoch 238/500\n",
            "104/104 [==============================] - 2s 24ms/step - loss: 0.9695 - accuracy: 0.6082 - val_loss: 0.9818 - val_accuracy: 0.6473\n",
            "Epoch 239/500\n",
            "104/104 [==============================] - 2s 24ms/step - loss: 0.9668 - accuracy: 0.6276 - val_loss: 0.9754 - val_accuracy: 0.6473\n",
            "Epoch 240/500\n",
            "104/104 [==============================] - 2s 24ms/step - loss: 0.9934 - accuracy: 0.6106 - val_loss: 0.9721 - val_accuracy: 0.6329\n",
            "Epoch 241/500\n",
            "104/104 [==============================] - 2s 23ms/step - loss: 0.9751 - accuracy: 0.6173 - val_loss: 0.9810 - val_accuracy: 0.6618\n",
            "Epoch 242/500\n",
            "104/104 [==============================] - 2s 23ms/step - loss: 0.9497 - accuracy: 0.6258 - val_loss: 0.9675 - val_accuracy: 0.6570\n",
            "Epoch 243/500\n",
            "104/104 [==============================] - 2s 24ms/step - loss: 0.9543 - accuracy: 0.6245 - val_loss: 0.9764 - val_accuracy: 0.6473\n",
            "Epoch 244/500\n",
            "104/104 [==============================] - 2s 23ms/step - loss: 0.9528 - accuracy: 0.6185 - val_loss: 0.9644 - val_accuracy: 0.6184\n",
            "Epoch 245/500\n",
            "104/104 [==============================] - 2s 24ms/step - loss: 0.9387 - accuracy: 0.6372 - val_loss: 0.9594 - val_accuracy: 0.6570\n",
            "Epoch 246/500\n",
            "104/104 [==============================] - 2s 23ms/step - loss: 0.9457 - accuracy: 0.6233 - val_loss: 0.9616 - val_accuracy: 0.6377\n",
            "Epoch 247/500\n",
            "104/104 [==============================] - 2s 23ms/step - loss: 0.9593 - accuracy: 0.6306 - val_loss: 0.9629 - val_accuracy: 0.6280\n",
            "Epoch 248/500\n",
            "104/104 [==============================] - 2s 23ms/step - loss: 0.9756 - accuracy: 0.6203 - val_loss: 0.9553 - val_accuracy: 0.6425\n",
            "Epoch 249/500\n",
            "104/104 [==============================] - 2s 23ms/step - loss: 0.9691 - accuracy: 0.6270 - val_loss: 0.9447 - val_accuracy: 0.6473\n",
            "Epoch 250/500\n",
            "104/104 [==============================] - 2s 24ms/step - loss: 0.9481 - accuracy: 0.6318 - val_loss: 0.9498 - val_accuracy: 0.6715\n",
            "Epoch 251/500\n",
            "104/104 [==============================] - 2s 24ms/step - loss: 0.9445 - accuracy: 0.6185 - val_loss: 0.9457 - val_accuracy: 0.6570\n",
            "Epoch 252/500\n",
            "104/104 [==============================] - 2s 24ms/step - loss: 0.9420 - accuracy: 0.6306 - val_loss: 0.9416 - val_accuracy: 0.6377\n",
            "Epoch 253/500\n",
            "104/104 [==============================] - 2s 23ms/step - loss: 0.9254 - accuracy: 0.6336 - val_loss: 0.9512 - val_accuracy: 0.6763\n",
            "Epoch 254/500\n",
            "104/104 [==============================] - 2s 24ms/step - loss: 0.9242 - accuracy: 0.6312 - val_loss: 0.9376 - val_accuracy: 0.6473\n",
            "Epoch 255/500\n",
            "104/104 [==============================] - 2s 24ms/step - loss: 0.9369 - accuracy: 0.6403 - val_loss: 0.9474 - val_accuracy: 0.6715\n",
            "Epoch 256/500\n",
            "104/104 [==============================] - 2s 24ms/step - loss: 0.9241 - accuracy: 0.6397 - val_loss: 0.9609 - val_accuracy: 0.6570\n",
            "Epoch 257/500\n",
            "104/104 [==============================] - 2s 24ms/step - loss: 0.9392 - accuracy: 0.6342 - val_loss: 0.9484 - val_accuracy: 0.6473\n",
            "Epoch 258/500\n",
            "104/104 [==============================] - 3s 24ms/step - loss: 0.9198 - accuracy: 0.6409 - val_loss: 0.9599 - val_accuracy: 0.6425\n",
            "Epoch 259/500\n",
            "104/104 [==============================] - 2s 24ms/step - loss: 0.9256 - accuracy: 0.6463 - val_loss: 0.9412 - val_accuracy: 0.6522\n",
            "Epoch 260/500\n",
            "104/104 [==============================] - 3s 24ms/step - loss: 0.9312 - accuracy: 0.6397 - val_loss: 0.9359 - val_accuracy: 0.6618\n",
            "Epoch 261/500\n",
            "104/104 [==============================] - 2s 24ms/step - loss: 0.9289 - accuracy: 0.6403 - val_loss: 0.9260 - val_accuracy: 0.6473\n",
            "Epoch 262/500\n",
            "104/104 [==============================] - 3s 24ms/step - loss: 0.9304 - accuracy: 0.6312 - val_loss: 0.9303 - val_accuracy: 0.6425\n",
            "Epoch 263/500\n",
            "104/104 [==============================] - 2s 24ms/step - loss: 0.9193 - accuracy: 0.6481 - val_loss: 0.9141 - val_accuracy: 0.6473\n",
            "Epoch 264/500\n",
            "104/104 [==============================] - 3s 24ms/step - loss: 0.9334 - accuracy: 0.6499 - val_loss: 0.9178 - val_accuracy: 0.6522\n",
            "Epoch 265/500\n",
            "104/104 [==============================] - 2s 24ms/step - loss: 0.9170 - accuracy: 0.6481 - val_loss: 0.9271 - val_accuracy: 0.6280\n",
            "Epoch 266/500\n",
            "104/104 [==============================] - 3s 24ms/step - loss: 0.9000 - accuracy: 0.6511 - val_loss: 0.9254 - val_accuracy: 0.6280\n",
            "Epoch 267/500\n",
            "104/104 [==============================] - 2s 24ms/step - loss: 0.9063 - accuracy: 0.6421 - val_loss: 0.9270 - val_accuracy: 0.6570\n",
            "Epoch 268/500\n",
            "104/104 [==============================] - 3s 24ms/step - loss: 0.9297 - accuracy: 0.6385 - val_loss: 0.9197 - val_accuracy: 0.6425\n",
            "Epoch 269/500\n",
            "104/104 [==============================] - 2s 24ms/step - loss: 0.9159 - accuracy: 0.6342 - val_loss: 0.9354 - val_accuracy: 0.6522\n",
            "Epoch 270/500\n",
            "104/104 [==============================] - 2s 24ms/step - loss: 0.9032 - accuracy: 0.6493 - val_loss: 0.9199 - val_accuracy: 0.6570\n",
            "Epoch 271/500\n",
            "104/104 [==============================] - 3s 24ms/step - loss: 0.9058 - accuracy: 0.6403 - val_loss: 0.9261 - val_accuracy: 0.6570\n",
            "Epoch 272/500\n",
            "104/104 [==============================] - 3s 24ms/step - loss: 0.9024 - accuracy: 0.6330 - val_loss: 0.9171 - val_accuracy: 0.6473\n",
            "Epoch 273/500\n",
            "104/104 [==============================] - 3s 24ms/step - loss: 0.8986 - accuracy: 0.6463 - val_loss: 0.9142 - val_accuracy: 0.6522\n",
            "Epoch 274/500\n",
            "104/104 [==============================] - 3s 24ms/step - loss: 0.9092 - accuracy: 0.6433 - val_loss: 0.9252 - val_accuracy: 0.6425\n",
            "Epoch 275/500\n",
            "104/104 [==============================] - 2s 24ms/step - loss: 0.9014 - accuracy: 0.6487 - val_loss: 0.9184 - val_accuracy: 0.6570\n",
            "Epoch 276/500\n",
            "104/104 [==============================] - 3s 24ms/step - loss: 0.9017 - accuracy: 0.6499 - val_loss: 0.9219 - val_accuracy: 0.6667\n",
            "Epoch 277/500\n",
            "104/104 [==============================] - 2s 23ms/step - loss: 0.8902 - accuracy: 0.6602 - val_loss: 0.9051 - val_accuracy: 0.6570\n",
            "Epoch 278/500\n",
            "104/104 [==============================] - 3s 24ms/step - loss: 0.8702 - accuracy: 0.6572 - val_loss: 0.8974 - val_accuracy: 0.6473\n",
            "Epoch 279/500\n",
            "104/104 [==============================] - 3s 24ms/step - loss: 0.8783 - accuracy: 0.6427 - val_loss: 0.9075 - val_accuracy: 0.6618\n",
            "Epoch 280/500\n",
            "104/104 [==============================] - 3s 24ms/step - loss: 0.9113 - accuracy: 0.6457 - val_loss: 0.9216 - val_accuracy: 0.6667\n",
            "Epoch 281/500\n",
            "104/104 [==============================] - 3s 24ms/step - loss: 0.8821 - accuracy: 0.6505 - val_loss: 0.9128 - val_accuracy: 0.6957\n",
            "Epoch 282/500\n",
            "104/104 [==============================] - 3s 25ms/step - loss: 0.8766 - accuracy: 0.6511 - val_loss: 0.9174 - val_accuracy: 0.6377\n",
            "Epoch 283/500\n",
            "104/104 [==============================] - 3s 25ms/step - loss: 0.8611 - accuracy: 0.6705 - val_loss: 0.9095 - val_accuracy: 0.6763\n",
            "Epoch 284/500\n",
            "104/104 [==============================] - 3s 24ms/step - loss: 0.8920 - accuracy: 0.6548 - val_loss: 0.8979 - val_accuracy: 0.6618\n",
            "Epoch 285/500\n",
            "104/104 [==============================] - 3s 24ms/step - loss: 0.8811 - accuracy: 0.6524 - val_loss: 0.8886 - val_accuracy: 0.6812\n",
            "Epoch 286/500\n",
            "104/104 [==============================] - 3s 24ms/step - loss: 0.8574 - accuracy: 0.6778 - val_loss: 0.9036 - val_accuracy: 0.6667\n",
            "Epoch 287/500\n",
            "104/104 [==============================] - 3s 24ms/step - loss: 0.8779 - accuracy: 0.6457 - val_loss: 0.8972 - val_accuracy: 0.6570\n",
            "Epoch 288/500\n",
            "104/104 [==============================] - 3s 24ms/step - loss: 0.8658 - accuracy: 0.6717 - val_loss: 0.8860 - val_accuracy: 0.6667\n",
            "Epoch 289/500\n",
            "104/104 [==============================] - 3s 24ms/step - loss: 0.8534 - accuracy: 0.6608 - val_loss: 0.9022 - val_accuracy: 0.6667\n",
            "Epoch 290/500\n",
            "104/104 [==============================] - 2s 24ms/step - loss: 0.8898 - accuracy: 0.6445 - val_loss: 0.9172 - val_accuracy: 0.6667\n",
            "Epoch 291/500\n",
            "104/104 [==============================] - 3s 24ms/step - loss: 0.8741 - accuracy: 0.6741 - val_loss: 0.8892 - val_accuracy: 0.6473\n",
            "Epoch 292/500\n",
            "104/104 [==============================] - 2s 24ms/step - loss: 0.8731 - accuracy: 0.6626 - val_loss: 0.8913 - val_accuracy: 0.6812\n",
            "Epoch 293/500\n",
            "104/104 [==============================] - 2s 24ms/step - loss: 0.8597 - accuracy: 0.6638 - val_loss: 0.8901 - val_accuracy: 0.6667\n",
            "Epoch 294/500\n",
            "104/104 [==============================] - 3s 24ms/step - loss: 0.8628 - accuracy: 0.6693 - val_loss: 0.8941 - val_accuracy: 0.6522\n",
            "Epoch 295/500\n",
            "104/104 [==============================] - 3s 24ms/step - loss: 0.8511 - accuracy: 0.6705 - val_loss: 0.8754 - val_accuracy: 0.6763\n",
            "Epoch 296/500\n",
            "104/104 [==============================] - 3s 24ms/step - loss: 0.8631 - accuracy: 0.6717 - val_loss: 0.8890 - val_accuracy: 0.6618\n",
            "Epoch 297/500\n",
            "104/104 [==============================] - 3s 24ms/step - loss: 0.8737 - accuracy: 0.6620 - val_loss: 0.9058 - val_accuracy: 0.6715\n",
            "Epoch 298/500\n",
            "104/104 [==============================] - 3s 25ms/step - loss: 0.8775 - accuracy: 0.6554 - val_loss: 0.8829 - val_accuracy: 0.6570\n",
            "Epoch 299/500\n",
            "104/104 [==============================] - 3s 24ms/step - loss: 0.8576 - accuracy: 0.6554 - val_loss: 0.8841 - val_accuracy: 0.6763\n",
            "Epoch 300/500\n",
            "104/104 [==============================] - 2s 24ms/step - loss: 0.8547 - accuracy: 0.6657 - val_loss: 0.8838 - val_accuracy: 0.6522\n",
            "Epoch 301/500\n",
            "104/104 [==============================] - 2s 24ms/step - loss: 0.8624 - accuracy: 0.6663 - val_loss: 0.8949 - val_accuracy: 0.6329\n",
            "Epoch 302/500\n",
            "104/104 [==============================] - 3s 24ms/step - loss: 0.8316 - accuracy: 0.6729 - val_loss: 0.8734 - val_accuracy: 0.6618\n",
            "Epoch 303/500\n",
            "104/104 [==============================] - 2s 24ms/step - loss: 0.8372 - accuracy: 0.6723 - val_loss: 0.8914 - val_accuracy: 0.6570\n",
            "Epoch 304/500\n",
            "104/104 [==============================] - 3s 24ms/step - loss: 0.8379 - accuracy: 0.6729 - val_loss: 0.8690 - val_accuracy: 0.6763\n",
            "Epoch 305/500\n",
            "104/104 [==============================] - 2s 24ms/step - loss: 0.8582 - accuracy: 0.6657 - val_loss: 0.8844 - val_accuracy: 0.6618\n",
            "Epoch 306/500\n",
            "104/104 [==============================] - 3s 24ms/step - loss: 0.8286 - accuracy: 0.6820 - val_loss: 0.8849 - val_accuracy: 0.6522\n",
            "Epoch 307/500\n",
            "104/104 [==============================] - 3s 24ms/step - loss: 0.8397 - accuracy: 0.6638 - val_loss: 0.8833 - val_accuracy: 0.6715\n",
            "Epoch 308/500\n",
            "104/104 [==============================] - 3s 25ms/step - loss: 0.8591 - accuracy: 0.6705 - val_loss: 0.8695 - val_accuracy: 0.6522\n",
            "Epoch 309/500\n",
            "104/104 [==============================] - 3s 25ms/step - loss: 0.8264 - accuracy: 0.6741 - val_loss: 0.8745 - val_accuracy: 0.6812\n",
            "Epoch 310/500\n",
            "104/104 [==============================] - 3s 24ms/step - loss: 0.8424 - accuracy: 0.6675 - val_loss: 0.8642 - val_accuracy: 0.6763\n",
            "Epoch 311/500\n",
            "104/104 [==============================] - 3s 24ms/step - loss: 0.8455 - accuracy: 0.6699 - val_loss: 0.8680 - val_accuracy: 0.6473\n",
            "Epoch 312/500\n",
            "104/104 [==============================] - 3s 25ms/step - loss: 0.8276 - accuracy: 0.6784 - val_loss: 0.8661 - val_accuracy: 0.6763\n",
            "Epoch 313/500\n",
            "104/104 [==============================] - 3s 25ms/step - loss: 0.8356 - accuracy: 0.6759 - val_loss: 0.8660 - val_accuracy: 0.6860\n",
            "Epoch 314/500\n",
            "104/104 [==============================] - 3s 24ms/step - loss: 0.8237 - accuracy: 0.6796 - val_loss: 0.8799 - val_accuracy: 0.6667\n",
            "Epoch 315/500\n",
            "104/104 [==============================] - 3s 25ms/step - loss: 0.8470 - accuracy: 0.6753 - val_loss: 0.8594 - val_accuracy: 0.6618\n",
            "Epoch 316/500\n",
            "104/104 [==============================] - 3s 25ms/step - loss: 0.8477 - accuracy: 0.6723 - val_loss: 0.8674 - val_accuracy: 0.6715\n",
            "Epoch 317/500\n",
            "104/104 [==============================] - 3s 25ms/step - loss: 0.8321 - accuracy: 0.6808 - val_loss: 0.8681 - val_accuracy: 0.6522\n",
            "Epoch 318/500\n",
            "104/104 [==============================] - 3s 25ms/step - loss: 0.8437 - accuracy: 0.6723 - val_loss: 0.8626 - val_accuracy: 0.6473\n",
            "Epoch 319/500\n",
            "104/104 [==============================] - 3s 25ms/step - loss: 0.8151 - accuracy: 0.6832 - val_loss: 0.8657 - val_accuracy: 0.6860\n",
            "Epoch 320/500\n",
            "104/104 [==============================] - 3s 24ms/step - loss: 0.8208 - accuracy: 0.6790 - val_loss: 0.8654 - val_accuracy: 0.6522\n",
            "Epoch 321/500\n",
            "104/104 [==============================] - 3s 25ms/step - loss: 0.8394 - accuracy: 0.6705 - val_loss: 0.8629 - val_accuracy: 0.6763\n",
            "Epoch 322/500\n",
            "104/104 [==============================] - 3s 25ms/step - loss: 0.8129 - accuracy: 0.6838 - val_loss: 0.8764 - val_accuracy: 0.6618\n",
            "Epoch 323/500\n",
            "104/104 [==============================] - 3s 25ms/step - loss: 0.8058 - accuracy: 0.6880 - val_loss: 0.8612 - val_accuracy: 0.6763\n",
            "Epoch 324/500\n",
            "104/104 [==============================] - 3s 24ms/step - loss: 0.8121 - accuracy: 0.6814 - val_loss: 0.8533 - val_accuracy: 0.6763\n",
            "Epoch 325/500\n",
            "104/104 [==============================] - 3s 24ms/step - loss: 0.8197 - accuracy: 0.6784 - val_loss: 0.8616 - val_accuracy: 0.6715\n",
            "Epoch 326/500\n",
            "104/104 [==============================] - 3s 25ms/step - loss: 0.8285 - accuracy: 0.6759 - val_loss: 0.8687 - val_accuracy: 0.6860\n",
            "Epoch 327/500\n",
            "104/104 [==============================] - 3s 25ms/step - loss: 0.8269 - accuracy: 0.6717 - val_loss: 0.8474 - val_accuracy: 0.6908\n",
            "Epoch 328/500\n",
            "104/104 [==============================] - 3s 24ms/step - loss: 0.8111 - accuracy: 0.6856 - val_loss: 0.8468 - val_accuracy: 0.6763\n",
            "Epoch 329/500\n",
            "104/104 [==============================] - 3s 25ms/step - loss: 0.8078 - accuracy: 0.6826 - val_loss: 0.8567 - val_accuracy: 0.6763\n",
            "Epoch 330/500\n",
            "104/104 [==============================] - 3s 25ms/step - loss: 0.8021 - accuracy: 0.6814 - val_loss: 0.8587 - val_accuracy: 0.6763\n",
            "Epoch 331/500\n",
            "104/104 [==============================] - 3s 25ms/step - loss: 0.8035 - accuracy: 0.6802 - val_loss: 0.8512 - val_accuracy: 0.6473\n",
            "Epoch 332/500\n",
            "104/104 [==============================] - 3s 25ms/step - loss: 0.8054 - accuracy: 0.6904 - val_loss: 0.8456 - val_accuracy: 0.6667\n",
            "Epoch 333/500\n",
            "104/104 [==============================] - 3s 25ms/step - loss: 0.7765 - accuracy: 0.6989 - val_loss: 0.8365 - val_accuracy: 0.6473\n",
            "Epoch 334/500\n",
            "104/104 [==============================] - 3s 25ms/step - loss: 0.8043 - accuracy: 0.6953 - val_loss: 0.8354 - val_accuracy: 0.6812\n",
            "Epoch 335/500\n",
            "104/104 [==============================] - 3s 24ms/step - loss: 0.8181 - accuracy: 0.6832 - val_loss: 0.8420 - val_accuracy: 0.6618\n",
            "Epoch 336/500\n",
            "104/104 [==============================] - 3s 25ms/step - loss: 0.7998 - accuracy: 0.6977 - val_loss: 0.8362 - val_accuracy: 0.6812\n",
            "Epoch 337/500\n",
            "104/104 [==============================] - 2s 24ms/step - loss: 0.8001 - accuracy: 0.6862 - val_loss: 0.8413 - val_accuracy: 0.6860\n",
            "Epoch 338/500\n",
            "104/104 [==============================] - 3s 24ms/step - loss: 0.7904 - accuracy: 0.6971 - val_loss: 0.8358 - val_accuracy: 0.7101\n",
            "Epoch 339/500\n",
            "104/104 [==============================] - 3s 25ms/step - loss: 0.7664 - accuracy: 0.7031 - val_loss: 0.8502 - val_accuracy: 0.6715\n",
            "Epoch 340/500\n",
            "104/104 [==============================] - 3s 24ms/step - loss: 0.8019 - accuracy: 0.6681 - val_loss: 0.8428 - val_accuracy: 0.6860\n",
            "Epoch 341/500\n",
            "104/104 [==============================] - 3s 24ms/step - loss: 0.7838 - accuracy: 0.6917 - val_loss: 0.8418 - val_accuracy: 0.6715\n",
            "Epoch 342/500\n",
            "104/104 [==============================] - 3s 24ms/step - loss: 0.8015 - accuracy: 0.6814 - val_loss: 0.8443 - val_accuracy: 0.6618\n",
            "Epoch 343/500\n",
            "104/104 [==============================] - 3s 25ms/step - loss: 0.7948 - accuracy: 0.6838 - val_loss: 0.8568 - val_accuracy: 0.6570\n",
            "Epoch 344/500\n",
            "104/104 [==============================] - 3s 25ms/step - loss: 0.7875 - accuracy: 0.6923 - val_loss: 0.8357 - val_accuracy: 0.6763\n",
            "Epoch 345/500\n",
            "104/104 [==============================] - 3s 24ms/step - loss: 0.7991 - accuracy: 0.6886 - val_loss: 0.8389 - val_accuracy: 0.6812\n",
            "Epoch 346/500\n",
            "104/104 [==============================] - 3s 24ms/step - loss: 0.7740 - accuracy: 0.6856 - val_loss: 0.8341 - val_accuracy: 0.6763\n",
            "Epoch 347/500\n",
            "104/104 [==============================] - 3s 25ms/step - loss: 0.7713 - accuracy: 0.7025 - val_loss: 0.8488 - val_accuracy: 0.6715\n",
            "Epoch 348/500\n",
            "104/104 [==============================] - 3s 25ms/step - loss: 0.7816 - accuracy: 0.6965 - val_loss: 0.8404 - val_accuracy: 0.6763\n",
            "Epoch 349/500\n",
            "104/104 [==============================] - 3s 25ms/step - loss: 0.7891 - accuracy: 0.6947 - val_loss: 0.8362 - val_accuracy: 0.6715\n",
            "Epoch 350/500\n",
            "104/104 [==============================] - 3s 25ms/step - loss: 0.7856 - accuracy: 0.6844 - val_loss: 0.8430 - val_accuracy: 0.6618\n",
            "Epoch 351/500\n",
            "104/104 [==============================] - 2s 24ms/step - loss: 0.7774 - accuracy: 0.7050 - val_loss: 0.8309 - val_accuracy: 0.6715\n",
            "Epoch 352/500\n",
            "104/104 [==============================] - 3s 24ms/step - loss: 0.7908 - accuracy: 0.6929 - val_loss: 0.8393 - val_accuracy: 0.6763\n",
            "Epoch 353/500\n",
            "104/104 [==============================] - 3s 24ms/step - loss: 0.7804 - accuracy: 0.6983 - val_loss: 0.8366 - val_accuracy: 0.6908\n",
            "Epoch 354/500\n",
            "104/104 [==============================] - 3s 25ms/step - loss: 0.7851 - accuracy: 0.6953 - val_loss: 0.8329 - val_accuracy: 0.6763\n",
            "Epoch 355/500\n",
            "104/104 [==============================] - 3s 25ms/step - loss: 0.7611 - accuracy: 0.6971 - val_loss: 0.8314 - val_accuracy: 0.6715\n",
            "Epoch 356/500\n",
            "104/104 [==============================] - 3s 24ms/step - loss: 0.7467 - accuracy: 0.7092 - val_loss: 0.8274 - val_accuracy: 0.6908\n",
            "Epoch 357/500\n",
            "104/104 [==============================] - 3s 24ms/step - loss: 0.7685 - accuracy: 0.7007 - val_loss: 0.8210 - val_accuracy: 0.6618\n",
            "Epoch 358/500\n",
            "104/104 [==============================] - 3s 25ms/step - loss: 0.7714 - accuracy: 0.6995 - val_loss: 0.8129 - val_accuracy: 0.6715\n",
            "Epoch 359/500\n",
            "104/104 [==============================] - 3s 25ms/step - loss: 0.7637 - accuracy: 0.7068 - val_loss: 0.8163 - val_accuracy: 0.6957\n",
            "Epoch 360/500\n",
            "104/104 [==============================] - 3s 25ms/step - loss: 0.7707 - accuracy: 0.6947 - val_loss: 0.8233 - val_accuracy: 0.6860\n",
            "Epoch 361/500\n",
            "104/104 [==============================] - 3s 25ms/step - loss: 0.7659 - accuracy: 0.6923 - val_loss: 0.8271 - val_accuracy: 0.6715\n",
            "Epoch 362/500\n",
            "104/104 [==============================] - 3s 24ms/step - loss: 0.7724 - accuracy: 0.7050 - val_loss: 0.8222 - val_accuracy: 0.6618\n",
            "Epoch 363/500\n",
            "104/104 [==============================] - 2s 24ms/step - loss: 0.7720 - accuracy: 0.6989 - val_loss: 0.8180 - val_accuracy: 0.7005\n",
            "Epoch 364/500\n",
            "104/104 [==============================] - 2s 24ms/step - loss: 0.7644 - accuracy: 0.7086 - val_loss: 0.8252 - val_accuracy: 0.6667\n",
            "Epoch 365/500\n",
            "104/104 [==============================] - 3s 24ms/step - loss: 0.7488 - accuracy: 0.7122 - val_loss: 0.8089 - val_accuracy: 0.6763\n",
            "Epoch 366/500\n",
            "104/104 [==============================] - 3s 24ms/step - loss: 0.7735 - accuracy: 0.7019 - val_loss: 0.8193 - val_accuracy: 0.6570\n",
            "Epoch 367/500\n",
            "104/104 [==============================] - 3s 24ms/step - loss: 0.7667 - accuracy: 0.6929 - val_loss: 0.8229 - val_accuracy: 0.6715\n",
            "Epoch 368/500\n",
            "104/104 [==============================] - 3s 24ms/step - loss: 0.7511 - accuracy: 0.7031 - val_loss: 0.8265 - val_accuracy: 0.6812\n",
            "Epoch 369/500\n",
            "104/104 [==============================] - 3s 25ms/step - loss: 0.7735 - accuracy: 0.6983 - val_loss: 0.8049 - val_accuracy: 0.7101\n",
            "Epoch 370/500\n",
            "104/104 [==============================] - 3s 24ms/step - loss: 0.7539 - accuracy: 0.7164 - val_loss: 0.8251 - val_accuracy: 0.6618\n",
            "Epoch 371/500\n",
            "104/104 [==============================] - 3s 24ms/step - loss: 0.7533 - accuracy: 0.7007 - val_loss: 0.8072 - val_accuracy: 0.6908\n",
            "Epoch 372/500\n",
            "104/104 [==============================] - 3s 25ms/step - loss: 0.7618 - accuracy: 0.7001 - val_loss: 0.7993 - val_accuracy: 0.7053\n",
            "Epoch 373/500\n",
            "104/104 [==============================] - 3s 26ms/step - loss: 0.7467 - accuracy: 0.7128 - val_loss: 0.8108 - val_accuracy: 0.6957\n",
            "Epoch 374/500\n",
            "104/104 [==============================] - 3s 25ms/step - loss: 0.7502 - accuracy: 0.7140 - val_loss: 0.7994 - val_accuracy: 0.6812\n",
            "Epoch 375/500\n",
            "104/104 [==============================] - 3s 26ms/step - loss: 0.7637 - accuracy: 0.6995 - val_loss: 0.8144 - val_accuracy: 0.6860\n",
            "Epoch 376/500\n",
            "104/104 [==============================] - 3s 25ms/step - loss: 0.7378 - accuracy: 0.7164 - val_loss: 0.8086 - val_accuracy: 0.7005\n",
            "Epoch 377/500\n",
            "104/104 [==============================] - 3s 25ms/step - loss: 0.7470 - accuracy: 0.7092 - val_loss: 0.8043 - val_accuracy: 0.6860\n",
            "Epoch 378/500\n",
            "104/104 [==============================] - 3s 26ms/step - loss: 0.7527 - accuracy: 0.7098 - val_loss: 0.8089 - val_accuracy: 0.6908\n",
            "Epoch 379/500\n",
            "104/104 [==============================] - 3s 25ms/step - loss: 0.7544 - accuracy: 0.7056 - val_loss: 0.7877 - val_accuracy: 0.6812\n",
            "Epoch 380/500\n",
            "104/104 [==============================] - 3s 25ms/step - loss: 0.7397 - accuracy: 0.7152 - val_loss: 0.7958 - val_accuracy: 0.6860\n",
            "Epoch 381/500\n",
            "104/104 [==============================] - 3s 26ms/step - loss: 0.7338 - accuracy: 0.7158 - val_loss: 0.8194 - val_accuracy: 0.6957\n",
            "Epoch 382/500\n",
            "104/104 [==============================] - 3s 26ms/step - loss: 0.7594 - accuracy: 0.6965 - val_loss: 0.7877 - val_accuracy: 0.7053\n",
            "Epoch 383/500\n",
            "104/104 [==============================] - 3s 24ms/step - loss: 0.7168 - accuracy: 0.7080 - val_loss: 0.7973 - val_accuracy: 0.7005\n",
            "Epoch 384/500\n",
            "104/104 [==============================] - 3s 25ms/step - loss: 0.7490 - accuracy: 0.7068 - val_loss: 0.8125 - val_accuracy: 0.6812\n",
            "Epoch 385/500\n",
            "104/104 [==============================] - 3s 26ms/step - loss: 0.7188 - accuracy: 0.7189 - val_loss: 0.7905 - val_accuracy: 0.6908\n",
            "Epoch 386/500\n",
            "104/104 [==============================] - 3s 26ms/step - loss: 0.7218 - accuracy: 0.7140 - val_loss: 0.7963 - val_accuracy: 0.6957\n",
            "Epoch 387/500\n",
            "104/104 [==============================] - 3s 26ms/step - loss: 0.7250 - accuracy: 0.7158 - val_loss: 0.8033 - val_accuracy: 0.6812\n",
            "Epoch 388/500\n",
            "104/104 [==============================] - 3s 26ms/step - loss: 0.7361 - accuracy: 0.7122 - val_loss: 0.8071 - val_accuracy: 0.6715\n",
            "Epoch 389/500\n",
            "104/104 [==============================] - 3s 26ms/step - loss: 0.7306 - accuracy: 0.7146 - val_loss: 0.7826 - val_accuracy: 0.7101\n",
            "Epoch 390/500\n",
            "104/104 [==============================] - 3s 26ms/step - loss: 0.7168 - accuracy: 0.7285 - val_loss: 0.7820 - val_accuracy: 0.7150\n",
            "Epoch 391/500\n",
            "104/104 [==============================] - 3s 25ms/step - loss: 0.7220 - accuracy: 0.7225 - val_loss: 0.7901 - val_accuracy: 0.7053\n",
            "Epoch 392/500\n",
            "104/104 [==============================] - 3s 25ms/step - loss: 0.7512 - accuracy: 0.7074 - val_loss: 0.7946 - val_accuracy: 0.6957\n",
            "Epoch 393/500\n",
            "104/104 [==============================] - 3s 25ms/step - loss: 0.7481 - accuracy: 0.7116 - val_loss: 0.7983 - val_accuracy: 0.6812\n",
            "Epoch 394/500\n",
            "104/104 [==============================] - 3s 25ms/step - loss: 0.7282 - accuracy: 0.7134 - val_loss: 0.7920 - val_accuracy: 0.6908\n",
            "Epoch 395/500\n",
            "104/104 [==============================] - 3s 25ms/step - loss: 0.7291 - accuracy: 0.7092 - val_loss: 0.8095 - val_accuracy: 0.6763\n",
            "Epoch 396/500\n",
            "104/104 [==============================] - 3s 26ms/step - loss: 0.7186 - accuracy: 0.7201 - val_loss: 0.8015 - val_accuracy: 0.6908\n",
            "Epoch 397/500\n",
            "104/104 [==============================] - 3s 26ms/step - loss: 0.7078 - accuracy: 0.7237 - val_loss: 0.7884 - val_accuracy: 0.6812\n",
            "Epoch 398/500\n",
            "104/104 [==============================] - 3s 25ms/step - loss: 0.7094 - accuracy: 0.7231 - val_loss: 0.7846 - val_accuracy: 0.7005\n",
            "Epoch 399/500\n",
            "104/104 [==============================] - 3s 25ms/step - loss: 0.7052 - accuracy: 0.7291 - val_loss: 0.7919 - val_accuracy: 0.6667\n",
            "Epoch 400/500\n",
            "104/104 [==============================] - 3s 25ms/step - loss: 0.7170 - accuracy: 0.7189 - val_loss: 0.7809 - val_accuracy: 0.7053\n",
            "Epoch 401/500\n",
            "104/104 [==============================] - 3s 25ms/step - loss: 0.7251 - accuracy: 0.7207 - val_loss: 0.7806 - val_accuracy: 0.7101\n",
            "Epoch 402/500\n",
            "104/104 [==============================] - 3s 25ms/step - loss: 0.6956 - accuracy: 0.7352 - val_loss: 0.7823 - val_accuracy: 0.7101\n",
            "Epoch 403/500\n",
            "104/104 [==============================] - 3s 25ms/step - loss: 0.7164 - accuracy: 0.7146 - val_loss: 0.8108 - val_accuracy: 0.6763\n",
            "Epoch 404/500\n",
            "104/104 [==============================] - 3s 26ms/step - loss: 0.7053 - accuracy: 0.7279 - val_loss: 0.8007 - val_accuracy: 0.6618\n",
            "Epoch 405/500\n",
            "104/104 [==============================] - 3s 25ms/step - loss: 0.7059 - accuracy: 0.7213 - val_loss: 0.7825 - val_accuracy: 0.6908\n",
            "Epoch 406/500\n",
            "104/104 [==============================] - 3s 26ms/step - loss: 0.7097 - accuracy: 0.7285 - val_loss: 0.7746 - val_accuracy: 0.7101\n",
            "Epoch 407/500\n",
            "104/104 [==============================] - 3s 26ms/step - loss: 0.7046 - accuracy: 0.7285 - val_loss: 0.7813 - val_accuracy: 0.7005\n",
            "Epoch 408/500\n",
            "104/104 [==============================] - 3s 25ms/step - loss: 0.7202 - accuracy: 0.7146 - val_loss: 0.7770 - val_accuracy: 0.6812\n",
            "Epoch 409/500\n",
            "104/104 [==============================] - 3s 26ms/step - loss: 0.7075 - accuracy: 0.7285 - val_loss: 0.7733 - val_accuracy: 0.6860\n",
            "Epoch 410/500\n",
            "104/104 [==============================] - 3s 26ms/step - loss: 0.7309 - accuracy: 0.7170 - val_loss: 0.7738 - val_accuracy: 0.6860\n",
            "Epoch 411/500\n",
            "104/104 [==============================] - 3s 26ms/step - loss: 0.7161 - accuracy: 0.7249 - val_loss: 0.7660 - val_accuracy: 0.6860\n",
            "Epoch 412/500\n",
            "104/104 [==============================] - 3s 25ms/step - loss: 0.7103 - accuracy: 0.7110 - val_loss: 0.7761 - val_accuracy: 0.7053\n",
            "Epoch 413/500\n",
            "104/104 [==============================] - 3s 25ms/step - loss: 0.6870 - accuracy: 0.7364 - val_loss: 0.7747 - val_accuracy: 0.7246\n",
            "Epoch 414/500\n",
            "104/104 [==============================] - 3s 26ms/step - loss: 0.6896 - accuracy: 0.7382 - val_loss: 0.7723 - val_accuracy: 0.7005\n",
            "Epoch 415/500\n",
            "104/104 [==============================] - 3s 25ms/step - loss: 0.7109 - accuracy: 0.7273 - val_loss: 0.7714 - val_accuracy: 0.7101\n",
            "Epoch 416/500\n",
            "104/104 [==============================] - 3s 25ms/step - loss: 0.7050 - accuracy: 0.7164 - val_loss: 0.7812 - val_accuracy: 0.6957\n",
            "Epoch 417/500\n",
            "104/104 [==============================] - 3s 25ms/step - loss: 0.6991 - accuracy: 0.7322 - val_loss: 0.7770 - val_accuracy: 0.7053\n",
            "Epoch 418/500\n",
            "104/104 [==============================] - 3s 26ms/step - loss: 0.7117 - accuracy: 0.7261 - val_loss: 0.7876 - val_accuracy: 0.7053\n",
            "Epoch 419/500\n",
            "104/104 [==============================] - 3s 26ms/step - loss: 0.7101 - accuracy: 0.7189 - val_loss: 0.7738 - val_accuracy: 0.7053\n",
            "Epoch 420/500\n",
            "104/104 [==============================] - 3s 25ms/step - loss: 0.6970 - accuracy: 0.7346 - val_loss: 0.7754 - val_accuracy: 0.6957\n",
            "Epoch 421/500\n",
            "104/104 [==============================] - 3s 25ms/step - loss: 0.6844 - accuracy: 0.7310 - val_loss: 0.7628 - val_accuracy: 0.6957\n",
            "Epoch 422/500\n",
            "104/104 [==============================] - 3s 25ms/step - loss: 0.6986 - accuracy: 0.7177 - val_loss: 0.7771 - val_accuracy: 0.6957\n",
            "Epoch 423/500\n",
            "104/104 [==============================] - 3s 26ms/step - loss: 0.7067 - accuracy: 0.7328 - val_loss: 0.7713 - val_accuracy: 0.6957\n",
            "Epoch 424/500\n",
            "104/104 [==============================] - 3s 25ms/step - loss: 0.7072 - accuracy: 0.7146 - val_loss: 0.7701 - val_accuracy: 0.6812\n",
            "Epoch 425/500\n",
            "104/104 [==============================] - 3s 25ms/step - loss: 0.6748 - accuracy: 0.7304 - val_loss: 0.7704 - val_accuracy: 0.6908\n",
            "Epoch 426/500\n",
            "104/104 [==============================] - 3s 25ms/step - loss: 0.6779 - accuracy: 0.7412 - val_loss: 0.7767 - val_accuracy: 0.6812\n",
            "Epoch 427/500\n",
            "104/104 [==============================] - 3s 25ms/step - loss: 0.6818 - accuracy: 0.7376 - val_loss: 0.7819 - val_accuracy: 0.6763\n",
            "Epoch 428/500\n",
            "104/104 [==============================] - 3s 25ms/step - loss: 0.7029 - accuracy: 0.7346 - val_loss: 0.7914 - val_accuracy: 0.6715\n",
            "Epoch 429/500\n",
            "104/104 [==============================] - 3s 25ms/step - loss: 0.6846 - accuracy: 0.7267 - val_loss: 0.7672 - val_accuracy: 0.6957\n",
            "Epoch 430/500\n",
            "104/104 [==============================] - 3s 26ms/step - loss: 0.6891 - accuracy: 0.7249 - val_loss: 0.7748 - val_accuracy: 0.6908\n",
            "Epoch 431/500\n",
            "104/104 [==============================] - 3s 25ms/step - loss: 0.6928 - accuracy: 0.7243 - val_loss: 0.7708 - val_accuracy: 0.6957\n",
            "Epoch 432/500\n",
            "104/104 [==============================] - 3s 25ms/step - loss: 0.6853 - accuracy: 0.7328 - val_loss: 0.7659 - val_accuracy: 0.6908\n",
            "Epoch 433/500\n",
            "104/104 [==============================] - 3s 24ms/step - loss: 0.6543 - accuracy: 0.7388 - val_loss: 0.7616 - val_accuracy: 0.6957\n",
            "Epoch 434/500\n",
            "104/104 [==============================] - 3s 25ms/step - loss: 0.6931 - accuracy: 0.7297 - val_loss: 0.7705 - val_accuracy: 0.6908\n",
            "Epoch 435/500\n",
            "104/104 [==============================] - 3s 24ms/step - loss: 0.7063 - accuracy: 0.7316 - val_loss: 0.7695 - val_accuracy: 0.7005\n",
            "Epoch 436/500\n",
            "104/104 [==============================] - 3s 25ms/step - loss: 0.6746 - accuracy: 0.7424 - val_loss: 0.7704 - val_accuracy: 0.7101\n",
            "Epoch 437/500\n",
            "104/104 [==============================] - 3s 25ms/step - loss: 0.6709 - accuracy: 0.7509 - val_loss: 0.7634 - val_accuracy: 0.7101\n",
            "Epoch 438/500\n",
            "104/104 [==============================] - 3s 25ms/step - loss: 0.6648 - accuracy: 0.7406 - val_loss: 0.7705 - val_accuracy: 0.6908\n",
            "Epoch 439/500\n",
            "104/104 [==============================] - 3s 25ms/step - loss: 0.6765 - accuracy: 0.7346 - val_loss: 0.7473 - val_accuracy: 0.7198\n",
            "Epoch 440/500\n",
            "104/104 [==============================] - 3s 25ms/step - loss: 0.6727 - accuracy: 0.7370 - val_loss: 0.7501 - val_accuracy: 0.7198\n",
            "Epoch 441/500\n",
            "104/104 [==============================] - 3s 25ms/step - loss: 0.6767 - accuracy: 0.7316 - val_loss: 0.7471 - val_accuracy: 0.7198\n",
            "Epoch 442/500\n",
            "104/104 [==============================] - 3s 25ms/step - loss: 0.6749 - accuracy: 0.7424 - val_loss: 0.7487 - val_accuracy: 0.7005\n",
            "Epoch 443/500\n",
            "104/104 [==============================] - 3s 25ms/step - loss: 0.6565 - accuracy: 0.7527 - val_loss: 0.7524 - val_accuracy: 0.6908\n",
            "Epoch 444/500\n",
            "104/104 [==============================] - 3s 25ms/step - loss: 0.6778 - accuracy: 0.7177 - val_loss: 0.7486 - val_accuracy: 0.7150\n",
            "Epoch 445/500\n",
            "104/104 [==============================] - 3s 25ms/step - loss: 0.6739 - accuracy: 0.7370 - val_loss: 0.7558 - val_accuracy: 0.6860\n",
            "Epoch 446/500\n",
            "104/104 [==============================] - 3s 25ms/step - loss: 0.6573 - accuracy: 0.7388 - val_loss: 0.7627 - val_accuracy: 0.6860\n",
            "Epoch 447/500\n",
            "104/104 [==============================] - 3s 25ms/step - loss: 0.6669 - accuracy: 0.7443 - val_loss: 0.7501 - val_accuracy: 0.6957\n",
            "Epoch 448/500\n",
            "104/104 [==============================] - 3s 25ms/step - loss: 0.6955 - accuracy: 0.7279 - val_loss: 0.7481 - val_accuracy: 0.6908\n",
            "Epoch 449/500\n",
            "104/104 [==============================] - 3s 25ms/step - loss: 0.6484 - accuracy: 0.7497 - val_loss: 0.7591 - val_accuracy: 0.7053\n",
            "Epoch 450/500\n",
            "104/104 [==============================] - 3s 25ms/step - loss: 0.6586 - accuracy: 0.7497 - val_loss: 0.7568 - val_accuracy: 0.7150\n",
            "Epoch 451/500\n",
            "104/104 [==============================] - 3s 25ms/step - loss: 0.6616 - accuracy: 0.7485 - val_loss: 0.7446 - val_accuracy: 0.7005\n",
            "Epoch 452/500\n",
            "104/104 [==============================] - 3s 25ms/step - loss: 0.6539 - accuracy: 0.7497 - val_loss: 0.7462 - val_accuracy: 0.6957\n",
            "Epoch 453/500\n",
            "104/104 [==============================] - 3s 25ms/step - loss: 0.6536 - accuracy: 0.7455 - val_loss: 0.7445 - val_accuracy: 0.6957\n",
            "Epoch 454/500\n",
            "104/104 [==============================] - 3s 25ms/step - loss: 0.6699 - accuracy: 0.7364 - val_loss: 0.7515 - val_accuracy: 0.6908\n",
            "Epoch 455/500\n",
            "104/104 [==============================] - 3s 26ms/step - loss: 0.6641 - accuracy: 0.7491 - val_loss: 0.7430 - val_accuracy: 0.6860\n",
            "Epoch 456/500\n",
            "104/104 [==============================] - 3s 25ms/step - loss: 0.6548 - accuracy: 0.7424 - val_loss: 0.7472 - val_accuracy: 0.7005\n",
            "Epoch 457/500\n",
            "104/104 [==============================] - 3s 26ms/step - loss: 0.6671 - accuracy: 0.7322 - val_loss: 0.7449 - val_accuracy: 0.7053\n",
            "Epoch 458/500\n",
            "104/104 [==============================] - 3s 26ms/step - loss: 0.6555 - accuracy: 0.7509 - val_loss: 0.7320 - val_accuracy: 0.7150\n",
            "Epoch 459/500\n",
            "104/104 [==============================] - 3s 26ms/step - loss: 0.6665 - accuracy: 0.7412 - val_loss: 0.7423 - val_accuracy: 0.7246\n",
            "Epoch 460/500\n",
            "104/104 [==============================] - 3s 25ms/step - loss: 0.6376 - accuracy: 0.7503 - val_loss: 0.7422 - val_accuracy: 0.7150\n",
            "Epoch 461/500\n",
            "104/104 [==============================] - 3s 26ms/step - loss: 0.6520 - accuracy: 0.7467 - val_loss: 0.7400 - val_accuracy: 0.7246\n",
            "Epoch 462/500\n",
            "104/104 [==============================] - 3s 26ms/step - loss: 0.6556 - accuracy: 0.7400 - val_loss: 0.7454 - val_accuracy: 0.7246\n",
            "Epoch 463/500\n",
            "104/104 [==============================] - 3s 25ms/step - loss: 0.6468 - accuracy: 0.7570 - val_loss: 0.7454 - val_accuracy: 0.7150\n",
            "Epoch 464/500\n",
            "104/104 [==============================] - 3s 25ms/step - loss: 0.6540 - accuracy: 0.7358 - val_loss: 0.7620 - val_accuracy: 0.6860\n",
            "Epoch 465/500\n",
            "104/104 [==============================] - 3s 25ms/step - loss: 0.6457 - accuracy: 0.7618 - val_loss: 0.7418 - val_accuracy: 0.6812\n",
            "Epoch 466/500\n",
            "104/104 [==============================] - 3s 25ms/step - loss: 0.6550 - accuracy: 0.7479 - val_loss: 0.7593 - val_accuracy: 0.6908\n",
            "Epoch 467/500\n",
            "104/104 [==============================] - 3s 25ms/step - loss: 0.6337 - accuracy: 0.7527 - val_loss: 0.7544 - val_accuracy: 0.7150\n",
            "Epoch 468/500\n",
            "104/104 [==============================] - 3s 26ms/step - loss: 0.6298 - accuracy: 0.7570 - val_loss: 0.7607 - val_accuracy: 0.7005\n",
            "Epoch 469/500\n",
            "104/104 [==============================] - 3s 26ms/step - loss: 0.6684 - accuracy: 0.7370 - val_loss: 0.7548 - val_accuracy: 0.6763\n",
            "Epoch 470/500\n",
            "104/104 [==============================] - 3s 26ms/step - loss: 0.6521 - accuracy: 0.7400 - val_loss: 0.7455 - val_accuracy: 0.6957\n",
            "Epoch 471/500\n",
            "104/104 [==============================] - 3s 25ms/step - loss: 0.6075 - accuracy: 0.7606 - val_loss: 0.7650 - val_accuracy: 0.7053\n",
            "Epoch 472/500\n",
            "104/104 [==============================] - 3s 26ms/step - loss: 0.6372 - accuracy: 0.7636 - val_loss: 0.7517 - val_accuracy: 0.7005\n",
            "Epoch 473/500\n",
            "104/104 [==============================] - 3s 26ms/step - loss: 0.6463 - accuracy: 0.7509 - val_loss: 0.7550 - val_accuracy: 0.7150\n",
            "Epoch 474/500\n",
            "104/104 [==============================] - 3s 25ms/step - loss: 0.6335 - accuracy: 0.7533 - val_loss: 0.7387 - val_accuracy: 0.7246\n",
            "Epoch 475/500\n",
            "104/104 [==============================] - 3s 25ms/step - loss: 0.6307 - accuracy: 0.7582 - val_loss: 0.7389 - val_accuracy: 0.6957\n",
            "Epoch 476/500\n",
            "104/104 [==============================] - 3s 25ms/step - loss: 0.6185 - accuracy: 0.7588 - val_loss: 0.7583 - val_accuracy: 0.6763\n",
            "Epoch 477/500\n",
            "104/104 [==============================] - 3s 25ms/step - loss: 0.6272 - accuracy: 0.7545 - val_loss: 0.7368 - val_accuracy: 0.7343\n",
            "Epoch 478/500\n",
            "104/104 [==============================] - 3s 25ms/step - loss: 0.6372 - accuracy: 0.7539 - val_loss: 0.7544 - val_accuracy: 0.7005\n",
            "Epoch 479/500\n",
            "104/104 [==============================] - 3s 25ms/step - loss: 0.6173 - accuracy: 0.7666 - val_loss: 0.7445 - val_accuracy: 0.7101\n",
            "Epoch 480/500\n",
            "104/104 [==============================] - 3s 26ms/step - loss: 0.6357 - accuracy: 0.7533 - val_loss: 0.7413 - val_accuracy: 0.7150\n",
            "Epoch 481/500\n",
            "104/104 [==============================] - 3s 25ms/step - loss: 0.6139 - accuracy: 0.7563 - val_loss: 0.7447 - val_accuracy: 0.6763\n",
            "Epoch 482/500\n",
            "104/104 [==============================] - 3s 26ms/step - loss: 0.6481 - accuracy: 0.7430 - val_loss: 0.7443 - val_accuracy: 0.7246\n",
            "Epoch 483/500\n",
            "104/104 [==============================] - 3s 26ms/step - loss: 0.6463 - accuracy: 0.7418 - val_loss: 0.7465 - val_accuracy: 0.6908\n",
            "Epoch 484/500\n",
            "104/104 [==============================] - 3s 25ms/step - loss: 0.6291 - accuracy: 0.7582 - val_loss: 0.7248 - val_accuracy: 0.7005\n",
            "Epoch 485/500\n",
            "104/104 [==============================] - 3s 25ms/step - loss: 0.6174 - accuracy: 0.7594 - val_loss: 0.7512 - val_accuracy: 0.6715\n",
            "Epoch 486/500\n",
            "104/104 [==============================] - 3s 25ms/step - loss: 0.6324 - accuracy: 0.7509 - val_loss: 0.7461 - val_accuracy: 0.7053\n",
            "Epoch 487/500\n",
            "104/104 [==============================] - 3s 25ms/step - loss: 0.6194 - accuracy: 0.7648 - val_loss: 0.7573 - val_accuracy: 0.6860\n",
            "Epoch 488/500\n",
            "104/104 [==============================] - 3s 26ms/step - loss: 0.6197 - accuracy: 0.7576 - val_loss: 0.7413 - val_accuracy: 0.6763\n",
            "Epoch 489/500\n",
            "104/104 [==============================] - 3s 26ms/step - loss: 0.6142 - accuracy: 0.7606 - val_loss: 0.7388 - val_accuracy: 0.7053\n",
            "Epoch 490/500\n",
            "104/104 [==============================] - 3s 25ms/step - loss: 0.6041 - accuracy: 0.7763 - val_loss: 0.7391 - val_accuracy: 0.7246\n",
            "Epoch 491/500\n",
            "104/104 [==============================] - 3s 25ms/step - loss: 0.6247 - accuracy: 0.7660 - val_loss: 0.7391 - val_accuracy: 0.6957\n",
            "Epoch 492/500\n",
            "104/104 [==============================] - 3s 25ms/step - loss: 0.6162 - accuracy: 0.7642 - val_loss: 0.7315 - val_accuracy: 0.6957\n",
            "Epoch 493/500\n",
            "104/104 [==============================] - 3s 25ms/step - loss: 0.6141 - accuracy: 0.7545 - val_loss: 0.7377 - val_accuracy: 0.6908\n",
            "Epoch 494/500\n",
            "104/104 [==============================] - 3s 25ms/step - loss: 0.6439 - accuracy: 0.7485 - val_loss: 0.7324 - val_accuracy: 0.7101\n",
            "Epoch 495/500\n",
            "104/104 [==============================] - 3s 25ms/step - loss: 0.6111 - accuracy: 0.7660 - val_loss: 0.7278 - val_accuracy: 0.7053\n",
            "Epoch 496/500\n",
            "104/104 [==============================] - 3s 26ms/step - loss: 0.6049 - accuracy: 0.7721 - val_loss: 0.7403 - val_accuracy: 0.7053\n",
            "Epoch 497/500\n",
            "104/104 [==============================] - 3s 26ms/step - loss: 0.6172 - accuracy: 0.7630 - val_loss: 0.7215 - val_accuracy: 0.6957\n",
            "Epoch 498/500\n",
            "104/104 [==============================] - 3s 25ms/step - loss: 0.6097 - accuracy: 0.7715 - val_loss: 0.7326 - val_accuracy: 0.7295\n",
            "Epoch 499/500\n",
            "104/104 [==============================] - 3s 26ms/step - loss: 0.5919 - accuracy: 0.7842 - val_loss: 0.7355 - val_accuracy: 0.6957\n",
            "Epoch 500/500\n",
            "104/104 [==============================] - 3s 26ms/step - loss: 0.6227 - accuracy: 0.7630 - val_loss: 0.7265 - val_accuracy: 0.7198\n"
          ]
        }
      ]
    },
    {
      "cell_type": "code",
      "source": [
        "plt.plot(cnnhistory.history['loss'])\n",
        "plt.plot(cnnhistory.history['val_loss'])\n",
        "plt.title('model loss')\n",
        "plt.ylabel('loss')\n",
        "plt.xlabel('epoch')\n",
        "plt.legend(['train','test'], loc='upper left')\n",
        "plt.show()"
      ],
      "metadata": {
        "colab": {
          "base_uri": "https://localhost:8080/",
          "height": 295
        },
        "id": "oQYnuaCrDH_A",
        "outputId": "b89267b5-8c52-410f-aa34-15bc330f7146"
      },
      "execution_count": 11,
      "outputs": [
        {
          "output_type": "display_data",
          "data": {
            "image/png": "[encoded data removed]",
            "text/plain": [
              "<Figure size 432x288 with 1 Axes>"
            ]
          },
          "metadata": {
            "needs_background": "light"
          }
        }
      ]
    },
    {
      "cell_type": "code",
      "source": [
        ""
      ],
      "metadata": {
        "id": "01otXNBSCLs9"
      },
      "execution_count": null,
      "outputs": []
    },
    {
      "cell_type": "code",
      "source": [
        "plt.plot(cnnhistory.history['accuracy'])\n",
        "plt.plot(cnnhistory.history['val_accuracy'])\n",
        "plt.title('model accuracy')\n",
        "plt.ylabel('accuracy')\n",
        "plt.xlabel('epoch')\n",
        "plt.legend(['train','test'], loc='upper left')\n",
        "plt.show()"
      ],
      "metadata": {
        "colab": {
          "base_uri": "https://localhost:8080/",
          "height": 295
        },
        "id": "IFkTuO8nDNdq",
        "outputId": "1d04d78f-3d47-4fae-bd15-72e30c8cbbbc"
      },
      "execution_count": 12,
      "outputs": [
        {
          "output_type": "display_data",
          "data": {
            "image/png": "[encoded data removed]",
            "text/plain": [
              "<Figure size 432x288 with 1 Axes>"
            ]
          },
          "metadata": {
            "needs_background": "light"
          }
        }
      ]
    },
    {
      "cell_type": "code",
      "source": [
        "#predictions = model.predict_classes(x_testcnn)\n",
        "predictions = model.predict(x_testcnn)"
      ],
      "metadata": {
        "id": "A2xtrN5wDQgY"
      },
      "execution_count": 13,
      "outputs": []
    },
    {
      "cell_type": "code",
      "source": [
        "predictions"
      ],
      "metadata": {
        "colab": {
          "base_uri": "https://localhost:8080/"
        },
        "id": "_f_ohjXKDUpY",
        "outputId": "e48b0fd5-87ee-4fb0-ed7f-24cefa1b6d95"
      },
      "execution_count": 14,
      "outputs": [
        {
          "output_type": "execute_result",
          "data": {
            "text/plain": [
              "array([[1.8377367e-02, 2.8207781e-02, 1.7172448e-01, 8.2609065e-02,\n",
              "        4.6809459e-01, 2.3098671e-01],\n",
              "       [1.3873920e-01, 6.4434975e-01, 3.2841925e-02, 8.5875005e-02,\n",
              "        2.5335748e-02, 7.2858229e-02],\n",
              "       [1.4086423e-03, 4.4376245e-03, 5.3481382e-01, 3.4007397e-03,\n",
              "        3.1755069e-01, 1.3838848e-01],\n",
              "       ...,\n",
              "       [4.2531122e-03, 2.5239549e-04, 3.7842991e-03, 2.5389429e-02,\n",
              "        6.5307432e-01, 3.1324637e-01],\n",
              "       [7.6718427e-02, 4.9882039e-02, 3.7858564e-02, 4.9400145e-01,\n",
              "        1.5361076e-02, 3.2617843e-01],\n",
              "       [7.1517327e-03, 5.4551298e-03, 1.8196400e-02, 4.8570505e-01,\n",
              "        3.8122895e-04, 4.8311052e-01]], dtype=float32)"
            ]
          },
          "metadata": {},
          "execution_count": 14
        }
      ]
    },
    {
      "cell_type": "code",
      "source": [
        "y_test"
      ],
      "metadata": {
        "colab": {
          "base_uri": "https://localhost:8080/"
        },
        "id": "cmA2bFgsDW3D",
        "outputId": "7032f776-5d1d-41d9-b32f-7b96c7ca6cd6"
      },
      "execution_count": 15,
      "outputs": [
        {
          "output_type": "execute_result",
          "data": {
            "text/plain": [
              "array([5, 1, 2, 5, 4, 3, 2, 0, 3, 0, 3, 2, 0, 3, 3, 0, 5, 0, 2, 4, 0, 0,\n",
              "       1, 3, 2, 3, 2, 5, 3, 1, 2, 4, 2, 2, 5, 5, 3, 5, 3, 3, 4, 1, 2, 2,\n",
              "       3, 1, 5, 3, 1, 0, 4, 5, 5, 5, 5, 1, 2, 3, 2, 5, 0, 2, 4, 2, 5, 4,\n",
              "       2, 0, 2, 3, 5, 2, 0, 3, 4, 4, 4, 0, 5, 5, 3, 4, 5, 3, 2, 4, 1, 5,\n",
              "       0, 5, 0, 5, 4, 0, 1, 4, 0, 2, 2, 0, 2, 4, 5, 3, 4, 5, 3, 1, 2, 2,\n",
              "       2, 1, 3, 2, 1, 2, 4, 4, 2, 1, 2, 4, 5, 1, 4, 2, 0, 4, 5, 5, 3, 1,\n",
              "       2, 1, 5, 5, 1, 2, 3, 3, 0, 3, 3, 0, 1, 0, 1, 2, 2, 5, 2, 2, 2, 1,\n",
              "       1, 0, 1, 1, 1, 4, 0, 1, 5, 1, 5, 5, 5, 4, 1, 0, 3, 5, 2, 4, 1, 4,\n",
              "       1, 3, 2, 0, 5, 5, 3, 5, 4, 5, 4, 0, 4, 1, 2, 1, 4, 0, 4, 3, 2, 1,\n",
              "       0, 3, 5, 0, 4, 5, 4, 5, 3])"
            ]
          },
          "metadata": {},
          "execution_count": 15
        }
      ]
    },
    {
      "cell_type": "code",
      "source": [
        "new_Ytest = y_test.astype(int)"
      ],
      "metadata": {
        "id": "0PHDKWJWDY3g"
      },
      "execution_count": 16,
      "outputs": []
    },
    {
      "cell_type": "code",
      "source": [
        "new_Ytest"
      ],
      "metadata": {
        "colab": {
          "base_uri": "https://localhost:8080/"
        },
        "id": "k68v2i-pDbZE",
        "outputId": "2d949e1c-5efd-474e-8591-8fd3354c275a"
      },
      "execution_count": 17,
      "outputs": [
        {
          "output_type": "execute_result",
          "data": {
            "text/plain": [
              "array([5, 1, 2, 5, 4, 3, 2, 0, 3, 0, 3, 2, 0, 3, 3, 0, 5, 0, 2, 4, 0, 0,\n",
              "       1, 3, 2, 3, 2, 5, 3, 1, 2, 4, 2, 2, 5, 5, 3, 5, 3, 3, 4, 1, 2, 2,\n",
              "       3, 1, 5, 3, 1, 0, 4, 5, 5, 5, 5, 1, 2, 3, 2, 5, 0, 2, 4, 2, 5, 4,\n",
              "       2, 0, 2, 3, 5, 2, 0, 3, 4, 4, 4, 0, 5, 5, 3, 4, 5, 3, 2, 4, 1, 5,\n",
              "       0, 5, 0, 5, 4, 0, 1, 4, 0, 2, 2, 0, 2, 4, 5, 3, 4, 5, 3, 1, 2, 2,\n",
              "       2, 1, 3, 2, 1, 2, 4, 4, 2, 1, 2, 4, 5, 1, 4, 2, 0, 4, 5, 5, 3, 1,\n",
              "       2, 1, 5, 5, 1, 2, 3, 3, 0, 3, 3, 0, 1, 0, 1, 2, 2, 5, 2, 2, 2, 1,\n",
              "       1, 0, 1, 1, 1, 4, 0, 1, 5, 1, 5, 5, 5, 4, 1, 0, 3, 5, 2, 4, 1, 4,\n",
              "       1, 3, 2, 0, 5, 5, 3, 5, 4, 5, 4, 0, 4, 1, 2, 1, 4, 0, 4, 3, 2, 1,\n",
              "       0, 3, 5, 0, 4, 5, 4, 5, 3])"
            ]
          },
          "metadata": {},
          "execution_count": 17
        }
      ]
    },
    {
      "cell_type": "code",
      "source": [
        "preds1=predictions.argmax(axis=1)\n",
        "preds1"
      ],
      "metadata": {
        "colab": {
          "base_uri": "https://localhost:8080/"
        },
        "id": "4_cAI39VFhtp",
        "outputId": "d1eef53b-5a06-4cf5-c94e-0c5ca7403744"
      },
      "execution_count": 18,
      "outputs": [
        {
          "output_type": "execute_result",
          "data": {
            "text/plain": [
              "array([4, 1, 2, 5, 2, 5, 2, 0, 3, 1, 3, 3, 1, 1, 3, 0, 5, 3, 2, 4, 3, 1,\n",
              "       1, 3, 2, 5, 2, 5, 3, 3, 2, 5, 4, 2, 5, 5, 1, 5, 3, 2, 5, 1, 4, 5,\n",
              "       3, 1, 3, 3, 1, 1, 4, 5, 4, 5, 3, 1, 2, 3, 2, 5, 0, 2, 3, 4, 5, 4,\n",
              "       2, 0, 2, 3, 5, 2, 0, 1, 4, 4, 4, 0, 5, 5, 3, 2, 5, 3, 2, 4, 1, 3,\n",
              "       1, 4, 0, 5, 4, 0, 3, 4, 3, 4, 2, 4, 2, 2, 5, 3, 4, 5, 5, 1, 2, 2,\n",
              "       2, 1, 3, 2, 1, 5, 4, 4, 3, 5, 4, 4, 1, 1, 4, 5, 3, 2, 3, 5, 5, 1,\n",
              "       4, 1, 5, 5, 1, 5, 3, 3, 0, 3, 3, 0, 2, 0, 1, 2, 2, 5, 2, 2, 4, 1,\n",
              "       1, 4, 1, 1, 3, 4, 0, 1, 5, 1, 5, 5, 4, 4, 1, 0, 5, 3, 2, 4, 3, 3,\n",
              "       1, 3, 1, 5, 5, 5, 3, 5, 4, 3, 4, 0, 4, 0, 2, 1, 4, 0, 4, 1, 2, 1,\n",
              "       0, 5, 5, 0, 4, 2, 4, 3, 3])"
            ]
          },
          "metadata": {},
          "execution_count": 18
        }
      ]
    },
    {
      "cell_type": "code",
      "source": [
        "abc = preds1.astype(int).flatten()"
      ],
      "metadata": {
        "id": "H4WEmM60NfQn"
      },
      "execution_count": 19,
      "outputs": []
    },
    {
      "cell_type": "code",
      "source": [
        "from sklearn.metrics import confusion_matrix\n",
        "c = confusion_matrix(new_Ytest, abc) \n",
        "c"
      ],
      "metadata": {
        "colab": {
          "base_uri": "https://localhost:8080/"
        },
        "id": "bKEBeEBlFjB8",
        "outputId": "577d1800-c2c2-4d77-c902-2ab1909d433d"
      },
      "execution_count": 20,
      "outputs": [
        {
          "output_type": "execute_result",
          "data": {
            "text/plain": [
              "array([[17,  5,  0,  4,  2,  1],\n",
              "       [ 1, 25,  1,  4,  0,  1],\n",
              "       [ 0,  1, 27,  2,  7,  4],\n",
              "       [ 0,  4,  1, 21,  0,  6],\n",
              "       [ 0,  0,  4,  2, 24,  2],\n",
              "       [ 0,  1,  1,  7,  4, 28]])"
            ]
          },
          "metadata": {},
          "execution_count": 20
        }
      ]
    },
    {
      "cell_type": "code",
      "source": [
        "y_test"
      ],
      "metadata": {
        "colab": {
          "base_uri": "https://localhost:8080/"
        },
        "id": "m4RjG7LWLSQx",
        "outputId": "babf8241-64c3-4fe9-f2f2-3759d251a8bc"
      },
      "execution_count": 21,
      "outputs": [
        {
          "output_type": "execute_result",
          "data": {
            "text/plain": [
              "array([5, 1, 2, 5, 4, 3, 2, 0, 3, 0, 3, 2, 0, 3, 3, 0, 5, 0, 2, 4, 0, 0,\n",
              "       1, 3, 2, 3, 2, 5, 3, 1, 2, 4, 2, 2, 5, 5, 3, 5, 3, 3, 4, 1, 2, 2,\n",
              "       3, 1, 5, 3, 1, 0, 4, 5, 5, 5, 5, 1, 2, 3, 2, 5, 0, 2, 4, 2, 5, 4,\n",
              "       2, 0, 2, 3, 5, 2, 0, 3, 4, 4, 4, 0, 5, 5, 3, 4, 5, 3, 2, 4, 1, 5,\n",
              "       0, 5, 0, 5, 4, 0, 1, 4, 0, 2, 2, 0, 2, 4, 5, 3, 4, 5, 3, 1, 2, 2,\n",
              "       2, 1, 3, 2, 1, 2, 4, 4, 2, 1, 2, 4, 5, 1, 4, 2, 0, 4, 5, 5, 3, 1,\n",
              "       2, 1, 5, 5, 1, 2, 3, 3, 0, 3, 3, 0, 1, 0, 1, 2, 2, 5, 2, 2, 2, 1,\n",
              "       1, 0, 1, 1, 1, 4, 0, 1, 5, 1, 5, 5, 5, 4, 1, 0, 3, 5, 2, 4, 1, 4,\n",
              "       1, 3, 2, 0, 5, 5, 3, 5, 4, 5, 4, 0, 4, 1, 2, 1, 4, 0, 4, 3, 2, 1,\n",
              "       0, 3, 5, 0, 4, 5, 4, 5, 3])"
            ]
          },
          "metadata": {},
          "execution_count": 21
        }
      ]
    },
    {
      "cell_type": "code",
      "source": [
        "model.save('/content/drive/My Drive/graduation project/audio/paper_code/orignal_2_500 epocs_with_valid')\n",
        "print(\"MODEL SAVED\")"
      ],
      "metadata": {
        "colab": {
          "base_uri": "https://localhost:8080/"
        },
        "id": "lsJBNeMWDl6Z",
        "outputId": "8c4d7fe7-f10a-4372-ec04-13ed8584f574"
      },
      "execution_count": 22,
      "outputs": [
        {
          "output_type": "stream",
          "name": "stdout",
          "text": [
            "INFO:tensorflow:Assets written to: /content/drive/My Drive/graduation project/audio/paper_code/orignal_2_500 epocs_with_valid/assets\n",
            "MODEL SAVED\n"
          ]
        }
      ]
    },
    {
      "cell_type": "code",
      "source": [
        "new_model=keras.models.load_model('/content/drive/My Drive/graduation project/audio/paper_code/orignal_2_500 epocs_with_valid')\n",
        "new_model.summary()"
      ],
      "metadata": {
        "colab": {
          "base_uri": "https://localhost:8080/"
        },
        "id": "Q3KjaO9GDoNl",
        "outputId": "4094423d-473c-49ab-cf7a-3cd250cd1134"
      },
      "execution_count": 23,
      "outputs": [
        {
          "output_type": "stream",
          "name": "stdout",
          "text": [
            "Model: \"sequential\"\n",
            "_________________________________________________________________\n",
            " Layer (type)                Output Shape              Param #   \n",
            "=================================================================\n",
            " conv1d (Conv1D)             (None, 40, 128)           1152      \n",
            "                                                                 \n",
            " activation (Activation)     (None, 40, 128)           0         \n",
            "                                                                 \n",
            " dropout (Dropout)           (None, 40, 128)           0         \n",
            "                                                                 \n",
            " max_pooling1d (MaxPooling1D  (None, 8, 128)           0         \n",
            " )                                                               \n",
            "                                                                 \n",
            " conv1d_1 (Conv1D)           (None, 8, 256)            262400    \n",
            "                                                                 \n",
            " activation_1 (Activation)   (None, 8, 256)            0         \n",
            "                                                                 \n",
            " dropout_1 (Dropout)         (None, 8, 256)            0         \n",
            "                                                                 \n",
            " max_pooling1d_1 (MaxPooling  (None, 1, 256)           0         \n",
            " 1D)                                                             \n",
            "                                                                 \n",
            " flatten (Flatten)           (None, 256)               0         \n",
            "                                                                 \n",
            " dense (Dense)               (None, 256)               65792     \n",
            "                                                                 \n",
            " activation_2 (Activation)   (None, 256)               0         \n",
            "                                                                 \n",
            " dense_1 (Dense)             (None, 256)               65792     \n",
            "                                                                 \n",
            " activation_3 (Activation)   (None, 256)               0         \n",
            "                                                                 \n",
            " dense_2 (Dense)             (None, 6)                 1542      \n",
            "                                                                 \n",
            " activation_4 (Activation)   (None, 6)                 0         \n",
            "                                                                 \n",
            "=================================================================\n",
            "Total params: 396,678\n",
            "Trainable params: 396,678\n",
            "Non-trainable params: 0\n",
            "_________________________________________________________________\n"
          ]
        }
      ]
    },
    {
      "cell_type": "code",
      "source": [
        "predictions = new_model.predict(x_testcnn)"
      ],
      "metadata": {
        "id": "WOKeSzc7T-MZ"
      },
      "execution_count": 24,
      "outputs": []
    },
    {
      "cell_type": "code",
      "source": [
        "predictions"
      ],
      "metadata": {
        "colab": {
          "base_uri": "https://localhost:8080/"
        },
        "id": "3RjQxa2RUBKQ",
        "outputId": "7a0f4393-2fc0-4307-d482-c2ad464b4457"
      },
      "execution_count": 25,
      "outputs": [
        {
          "output_type": "execute_result",
          "data": {
            "text/plain": [
              "array([[1.8377367e-02, 2.8207781e-02, 1.7172448e-01, 8.2609065e-02,\n",
              "        4.6809459e-01, 2.3098671e-01],\n",
              "       [1.3873920e-01, 6.4434975e-01, 3.2841925e-02, 8.5875005e-02,\n",
              "        2.5335748e-02, 7.2858229e-02],\n",
              "       [1.4086423e-03, 4.4376245e-03, 5.3481382e-01, 3.4007397e-03,\n",
              "        3.1755069e-01, 1.3838848e-01],\n",
              "       ...,\n",
              "       [4.2531122e-03, 2.5239549e-04, 3.7842991e-03, 2.5389429e-02,\n",
              "        6.5307432e-01, 3.1324637e-01],\n",
              "       [7.6718427e-02, 4.9882039e-02, 3.7858564e-02, 4.9400145e-01,\n",
              "        1.5361076e-02, 3.2617843e-01],\n",
              "       [7.1517327e-03, 5.4551298e-03, 1.8196400e-02, 4.8570505e-01,\n",
              "        3.8122895e-04, 4.8311052e-01]], dtype=float32)"
            ]
          },
          "metadata": {},
          "execution_count": 25
        }
      ]
    },
    {
      "cell_type": "code",
      "source": [
        "loss, acc =new_model.evaluate(x_testcnn, y_test)\n",
        "print(\"Restored model, accuracy: {:5.2f}%\".format(100*acc))"
      ],
      "metadata": {
        "colab": {
          "base_uri": "https://localhost:8080/"
        },
        "id": "n3kzoqPkDqqS",
        "outputId": "105e5bd8-0bf4-442a-d629-b55ef1912fb2"
      },
      "execution_count": 26,
      "outputs": [
        {
          "output_type": "stream",
          "name": "stdout",
          "text": [
            "7/7 [==============================] - 0s 6ms/step - loss: 0.8295 - accuracy: 0.6860\n",
            "Restored model, accuracy: 68.60%\n"
          ]
        }
      ]
    },
    {
      "cell_type": "code",
      "source": [
        "loss, acc =new_model.evaluate(X_train, y_train)\n",
        "print(\"Restored model train, accuracy: {:5.2f}%\".format(100*acc))"
      ],
      "metadata": {
        "id": "fJDTGH_OUX0z",
        "colab": {
          "base_uri": "https://localhost:8080/"
        },
        "outputId": "ff1d9b88-9060-4cb1-e252-3c635dc3525b"
      },
      "execution_count": 27,
      "outputs": [
        {
          "output_type": "stream",
          "name": "stdout",
          "text": [
            "52/52 [==============================] - 0s 6ms/step - loss: 0.5428 - accuracy: 0.8561\n",
            "Restored model train, accuracy: 85.61%\n"
          ]
        }
      ]
    },
    {
      "cell_type": "code",
      "source": [
        "from sklearn.metrics import classification_report, confusion_matrix,accuracy_score\n",
        "import seaborn as sn\n",
        "\n",
        "print(classification_report(new_Ytest,abc))\n",
        "\n",
        "acc = float(accuracy_score(new_Ytest,abc))*100\n",
        "print(\"----accuracy score %s ----\" % acc)\n",
        "\n",
        "cm = confusion_matrix(new_Ytest,abc)\n",
        "#df_cm = pd.DataFrame(cm)\n",
        "class_names = ['neutral','calm', 'happy','sad','angry', 'fearful' ]\n",
        "df_cm = pd.DataFrame(cm, index=class_names, columns=class_names,)\n",
        "sn.heatmap(df_cm, annot=True, fmt='')\n",
        "plt.show()"
      ],
      "metadata": {
        "colab": {
          "base_uri": "https://localhost:8080/",
          "height": 508
        },
        "id": "SfSC3El94LZg",
        "outputId": "5f694790-0586-40f4-f6a8-32828fde3698"
      },
      "execution_count": 30,
      "outputs": [
        {
          "output_type": "stream",
          "name": "stdout",
          "text": [
            "              precision    recall  f1-score   support\n",
            "\n",
            "           0       0.94      0.59      0.72        29\n",
            "           1       0.69      0.78      0.74        32\n",
            "           2       0.79      0.66      0.72        41\n",
            "           3       0.53      0.66      0.58        32\n",
            "           4       0.65      0.75      0.70        32\n",
            "           5       0.67      0.68      0.67        41\n",
            "\n",
            "    accuracy                           0.69       207\n",
            "   macro avg       0.71      0.69      0.69       207\n",
            "weighted avg       0.71      0.69      0.69       207\n",
            "\n",
            "----accuracy score 68.59903381642512 ----\n"
          ]
        },
        {
          "output_type": "display_data",
          "data": {
            "image/png": "[encoded data removed]",
            "text/plain": [
              "<Figure size 432x288 with 2 Axes>"
            ]
          },
          "metadata": {
            "needs_background": "light"
          }
        }
      ]
    },
    {
      "cell_type": "code",
      "source": [
        ""
      ],
      "metadata": {
        "id": "y5OoGgupF7kU"
      },
      "execution_count": null,
      "outputs": []
    }
  ]
}