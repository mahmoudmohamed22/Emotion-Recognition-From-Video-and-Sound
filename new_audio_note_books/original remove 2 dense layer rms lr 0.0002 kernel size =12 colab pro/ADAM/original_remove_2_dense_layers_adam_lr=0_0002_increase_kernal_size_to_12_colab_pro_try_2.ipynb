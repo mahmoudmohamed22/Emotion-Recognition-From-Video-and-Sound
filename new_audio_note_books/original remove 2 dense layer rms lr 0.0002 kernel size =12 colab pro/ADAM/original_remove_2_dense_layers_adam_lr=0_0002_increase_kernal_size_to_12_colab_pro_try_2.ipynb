{
  "nbformat": 4,
  "nbformat_minor": 0,
  "metadata": {
    "colab": {
      "name": "original_remove_2_dense_layers_adam_lr=0_0002 increase_kernal_size_to_12 colab pro try 2.ipynb",
      "provenance": [],
      "collapsed_sections": [],
      "machine_shape": "hm"
    },
    "kernelspec": {
      "name": "python3",
      "display_name": "Python 3"
    },
    "language_info": {
      "name": "python"
    },
    "accelerator": "GPU"
  },
  "cells": [
    {
      "cell_type": "code",
      "execution_count": 1,
      "metadata": {
        "colab": {
          "base_uri": "https://localhost:8080/"
        },
        "id": "9SRCO-a_AlH5",
        "outputId": "b49131c0-e07f-421b-9378-3b9bdd4a6a6d"
      },
      "outputs": [
        {
          "output_type": "stream",
          "name": "stdout",
          "text": [
            "Drive already mounted at /content/drive; to attempt to forcibly remount, call drive.mount(\"/content/drive\", force_remount=True).\n"
          ]
        }
      ],
      "source": [
        "from google.colab import drive\n",
        "drive.mount('/content/drive')"
      ]
    },
    {
      "cell_type": "code",
      "source": [
        "!pip install librosa"
      ],
      "metadata": {
        "colab": {
          "base_uri": "https://localhost:8080/"
        },
        "id": "5Lo4mUwG9RMd",
        "outputId": "c8cb4c41-babe-4e4b-f256-bea8b7a476a8"
      },
      "execution_count": 2,
      "outputs": [
        {
          "output_type": "stream",
          "name": "stdout",
          "text": [
            "Looking in indexes: https://pypi.org/simple, https://us-python.pkg.dev/colab-wheels/public/simple/\n",
            "Requirement already satisfied: librosa in /usr/local/lib/python3.7/dist-packages (0.8.1)\n",
            "Requirement already satisfied: scipy>=1.0.0 in /usr/local/lib/python3.7/dist-packages (from librosa) (1.4.1)\n",
            "Requirement already satisfied: resampy>=0.2.2 in /usr/local/lib/python3.7/dist-packages (from librosa) (0.2.2)\n",
            "Requirement already satisfied: numpy>=1.15.0 in /usr/local/lib/python3.7/dist-packages (from librosa) (1.21.6)\n",
            "Requirement already satisfied: joblib>=0.14 in /usr/local/lib/python3.7/dist-packages (from librosa) (1.1.0)\n",
            "Requirement already satisfied: packaging>=20.0 in /usr/local/lib/python3.7/dist-packages (from librosa) (21.3)\n",
            "Requirement already satisfied: scikit-learn!=0.19.0,>=0.14.0 in /usr/local/lib/python3.7/dist-packages (from librosa) (1.0.2)\n",
            "Requirement already satisfied: decorator>=3.0.0 in /usr/local/lib/python3.7/dist-packages (from librosa) (4.4.2)\n",
            "Requirement already satisfied: pooch>=1.0 in /usr/local/lib/python3.7/dist-packages (from librosa) (1.6.0)\n",
            "Requirement already satisfied: audioread>=2.0.0 in /usr/local/lib/python3.7/dist-packages (from librosa) (2.1.9)\n",
            "Requirement already satisfied: soundfile>=0.10.2 in /usr/local/lib/python3.7/dist-packages (from librosa) (0.10.3.post1)\n",
            "Requirement already satisfied: numba>=0.43.0 in /usr/local/lib/python3.7/dist-packages (from librosa) (0.51.2)\n",
            "Requirement already satisfied: llvmlite<0.35,>=0.34.0.dev0 in /usr/local/lib/python3.7/dist-packages (from numba>=0.43.0->librosa) (0.34.0)\n",
            "Requirement already satisfied: setuptools in /usr/local/lib/python3.7/dist-packages (from numba>=0.43.0->librosa) (57.4.0)\n",
            "Requirement already satisfied: pyparsing!=3.0.5,>=2.0.2 in /usr/local/lib/python3.7/dist-packages (from packaging>=20.0->librosa) (3.0.9)\n",
            "Requirement already satisfied: appdirs>=1.3.0 in /usr/local/lib/python3.7/dist-packages (from pooch>=1.0->librosa) (1.4.4)\n",
            "Requirement already satisfied: requests>=2.19.0 in /usr/local/lib/python3.7/dist-packages (from pooch>=1.0->librosa) (2.23.0)\n",
            "Requirement already satisfied: certifi>=2017.4.17 in /usr/local/lib/python3.7/dist-packages (from requests>=2.19.0->pooch>=1.0->librosa) (2022.5.18.1)\n",
            "Requirement already satisfied: idna<3,>=2.5 in /usr/local/lib/python3.7/dist-packages (from requests>=2.19.0->pooch>=1.0->librosa) (2.10)\n",
            "Requirement already satisfied: urllib3!=1.25.0,!=1.25.1,<1.26,>=1.21.1 in /usr/local/lib/python3.7/dist-packages (from requests>=2.19.0->pooch>=1.0->librosa) (1.24.3)\n",
            "Requirement already satisfied: chardet<4,>=3.0.2 in /usr/local/lib/python3.7/dist-packages (from requests>=2.19.0->pooch>=1.0->librosa) (3.0.4)\n",
            "Requirement already satisfied: six>=1.3 in /usr/local/lib/python3.7/dist-packages (from resampy>=0.2.2->librosa) (1.15.0)\n",
            "Requirement already satisfied: threadpoolctl>=2.0.0 in /usr/local/lib/python3.7/dist-packages (from scikit-learn!=0.19.0,>=0.14.0->librosa) (3.1.0)\n",
            "Requirement already satisfied: cffi>=1.0 in /usr/local/lib/python3.7/dist-packages (from soundfile>=0.10.2->librosa) (1.15.0)\n",
            "Requirement already satisfied: pycparser in /usr/local/lib/python3.7/dist-packages (from cffi>=1.0->soundfile>=0.10.2->librosa) (2.21)\n"
          ]
        }
      ]
    },
    {
      "cell_type": "code",
      "metadata": {
        "id": "HJjcbxwy46bG",
        "colab": {
          "base_uri": "https://localhost:8080/",
          "height": 17
        },
        "outputId": "a5f6d67a-4603-49c6-b036-ee50ad85678e"
      },
      "source": [
        "# Orignial Notebook: https://github.com/MITESHPUTHRANNEU/Speech-Emotion-Analyzer/blob/master/final_results_gender_test.ipynb\n",
        "# This notebook author: Reza Chu\n",
        "# Last Editing Date: 31st May 2019\n",
        "\n",
        "## Python\n",
        "import os\n",
        "import random\n",
        "import sys\n",
        "\n",
        "import IPython\n",
        "from IPython.display import Audio\n",
        "from IPython.display import Image\n",
        "import matplotlib.pyplot as plt\n",
        "\n",
        "## Package\n",
        "import glob \n",
        "import keras\n",
        "import IPython.display as ipd\n",
        "import librosa\n",
        "import librosa.display\n",
        "import matplotlib.pyplot as plt\n",
        "import numpy as np\n",
        "import pandas as pd\n",
        "import plotly.graph_objs as go\n",
        "import plotly.offline as py\n",
        "import plotly.tools as tls\n",
        "import seaborn as sns\n",
        "import scipy.io.wavfile\n",
        "import tensorflow as tf\n",
        "py.init_notebook_mode(connected=True)\n",
        "\n",
        "## Keras\n",
        "from keras import regularizers\n",
        "from keras.callbacks import ModelCheckpoint, LearningRateScheduler, EarlyStopping\n",
        "from keras.callbacks import  History, ReduceLROnPlateau, CSVLogger\n",
        "from keras.models import Model, Sequential\n",
        "from keras.layers import Dense, Embedding, LSTM\n",
        "from keras.layers import Input, Flatten, Dropout, Activation, BatchNormalization\n",
        "from keras.layers import Conv1D, MaxPooling1D, AveragePooling1D\n",
        "from keras.preprocessing import sequence\n",
        "from keras.preprocessing.sequence import pad_sequences\n",
        "from keras.preprocessing.text import Tokenizer\n",
        "from keras.utils import np_utils\n",
        "from tensorflow.keras.utils import to_categorical\n",
        "\n",
        "## Sklearn\n",
        "from sklearn.metrics import confusion_matrix\n",
        "from sklearn.preprocessing import LabelEncoder\n",
        "\n",
        "## Rest\n",
        "from scipy.fftpack import fft\n",
        "from scipy import signal\n",
        "from scipy.io import wavfile\n",
        "from tqdm import tqdm\n",
        "\n",
        "input_duration=3\n",
        "# % pylab inline"
      ],
      "execution_count": 3,
      "outputs": [
        {
          "output_type": "display_data",
          "data": {
            "text/html": [
              "        <script type=\"text/javascript\">\n",
              "        window.PlotlyConfig = {MathJaxConfig: 'local'};\n",
              "        if (window.MathJax) {MathJax.Hub.Config({SVG: {font: \"STIX-Web\"}});}\n",
              "        if (typeof require !== 'undefined') {\n",
              "        require.undef(\"plotly\");\n",
              "        requirejs.config({\n",
              "            paths: {\n",
              "                'plotly': ['https://cdn.plot.ly/plotly-2.8.3.min']\n",
              "            }\n",
              "        });\n",
              "        require(['plotly'], function(Plotly) {\n",
              "            window._Plotly = Plotly;\n",
              "        });\n",
              "        }\n",
              "        </script>\n",
              "        "
            ]
          },
          "metadata": {}
        }
      ]
    },
    {
      "cell_type": "code",
      "source": [
        "# # Saving joblib files to not load them again with the loop above\n",
        "\n",
        "# import joblib\n",
        "\n",
        "# X_name = 'x.joblib'\n",
        "# y_name = 'y.joblib'\n",
        "# save_dir = '/content/drive/My Drive/graduation project/audio/paper_code/features'\n",
        "\n",
        "# savedX = joblib.dump(X, os.path.join(save_dir, X_name))\n",
        "# savedy = joblib.dump(y, os.path.join(save_dir, y_name))"
      ],
      "metadata": {
        "id": "UCzic8rlDcuk"
      },
      "execution_count": 4,
      "outputs": []
    },
    {
      "cell_type": "code",
      "source": [
        "# # Loading saved models\n",
        "import joblib\n",
        "X = joblib.load('/content/drive/My Drive/graduation project/audio/paper_code/features/x.joblib')\n",
        "y = joblib.load('/content/drive/My Drive/graduation project/audio/paper_code/features/y.joblib')"
      ],
      "metadata": {
        "id": "Q35CN6zDrzg1"
      },
      "execution_count": 5,
      "outputs": []
    },
    {
      "cell_type": "code",
      "source": [
        "X.shape"
      ],
      "metadata": {
        "id": "7PSTurzjCo5K",
        "colab": {
          "base_uri": "https://localhost:8080/"
        },
        "outputId": "ce4828fe-f855-43b3-fb54-f57020d96b83"
      },
      "execution_count": 6,
      "outputs": [
        {
          "output_type": "execute_result",
          "data": {
            "text/plain": [
              "(2068, 40)"
            ]
          },
          "metadata": {},
          "execution_count": 6
        }
      ]
    },
    {
      "cell_type": "code",
      "source": [
        "from sklearn.model_selection import train_test_split\n",
        "\n",
        "X_train, X_test, y_train, y_test = train_test_split(X,y, test_size=0.1 ,shuffle = True\n",
        "                                                    , random_state=42)\n",
        "X_train , X_valid, y_train, y_valid = train_test_split(X_train,y_train, test_size=0.1112305212 , shuffle = True \n",
        "                                                       , random_state=42)"
      ],
      "metadata": {
        "id": "Ai4Fy5cPCiq1"
      },
      "execution_count": 7,
      "outputs": []
    },
    {
      "cell_type": "code",
      "source": [
        "import numpy as np\n",
        "x_traincnn = np.expand_dims(X_train, axis=2)\n",
        "x_testcnn = np.expand_dims(X_test, axis=2)\n",
        "X_valid= np.expand_dims(X_valid, axis=2)"
      ],
      "metadata": {
        "id": "tp1Fm5K3CEXu"
      },
      "execution_count": 8,
      "outputs": []
    },
    {
      "cell_type": "code",
      "source": [
        "x_traincnn.shape, x_testcnn.shape , X_valid.shape\n",
        "#1861"
      ],
      "metadata": {
        "id": "RI0MxoIPBws5",
        "colab": {
          "base_uri": "https://localhost:8080/"
        },
        "outputId": "37102549-3a82-4ea5-e203-324169e56b29"
      },
      "execution_count": 9,
      "outputs": [
        {
          "output_type": "execute_result",
          "data": {
            "text/plain": [
              "((1654, 40, 1), (207, 40, 1), (207, 40, 1))"
            ]
          },
          "metadata": {},
          "execution_count": 9
        }
      ]
    },
    {
      "cell_type": "code",
      "source": [
        "!pip install tensorflow"
      ],
      "metadata": {
        "id": "oALhiMUd9G2Y",
        "colab": {
          "base_uri": "https://localhost:8080/"
        },
        "outputId": "b9705f4e-9431-42a4-e441-5515986cc15a"
      },
      "execution_count": 10,
      "outputs": [
        {
          "output_type": "stream",
          "name": "stdout",
          "text": [
            "Looking in indexes: https://pypi.org/simple, https://us-python.pkg.dev/colab-wheels/public/simple/\n",
            "Requirement already satisfied: tensorflow in /usr/local/lib/python3.7/dist-packages (2.8.2+zzzcolab20220527125636)\n",
            "Requirement already satisfied: tensorboard<2.9,>=2.8 in /usr/local/lib/python3.7/dist-packages (from tensorflow) (2.8.0)\n",
            "Requirement already satisfied: grpcio<2.0,>=1.24.3 in /usr/local/lib/python3.7/dist-packages (from tensorflow) (1.46.3)\n",
            "Requirement already satisfied: numpy>=1.20 in /usr/local/lib/python3.7/dist-packages (from tensorflow) (1.21.6)\n",
            "Requirement already satisfied: google-pasta>=0.1.1 in /usr/local/lib/python3.7/dist-packages (from tensorflow) (0.2.0)\n",
            "Requirement already satisfied: flatbuffers>=1.12 in /usr/local/lib/python3.7/dist-packages (from tensorflow) (2.0)\n",
            "Requirement already satisfied: six>=1.12.0 in /usr/local/lib/python3.7/dist-packages (from tensorflow) (1.15.0)\n",
            "Requirement already satisfied: libclang>=9.0.1 in /usr/local/lib/python3.7/dist-packages (from tensorflow) (14.0.1)\n",
            "Requirement already satisfied: typing-extensions>=3.6.6 in /usr/local/lib/python3.7/dist-packages (from tensorflow) (4.2.0)\n",
            "Requirement already satisfied: keras-preprocessing>=1.1.1 in /usr/local/lib/python3.7/dist-packages (from tensorflow) (1.1.2)\n",
            "Requirement already satisfied: gast>=0.2.1 in /usr/local/lib/python3.7/dist-packages (from tensorflow) (0.5.3)\n",
            "Requirement already satisfied: astunparse>=1.6.0 in /usr/local/lib/python3.7/dist-packages (from tensorflow) (1.6.3)\n",
            "Requirement already satisfied: h5py>=2.9.0 in /usr/local/lib/python3.7/dist-packages (from tensorflow) (3.1.0)\n",
            "Requirement already satisfied: termcolor>=1.1.0 in /usr/local/lib/python3.7/dist-packages (from tensorflow) (1.1.0)\n",
            "Requirement already satisfied: protobuf<3.20,>=3.9.2 in /usr/local/lib/python3.7/dist-packages (from tensorflow) (3.17.3)\n",
            "Requirement already satisfied: absl-py>=0.4.0 in /usr/local/lib/python3.7/dist-packages (from tensorflow) (1.0.0)\n",
            "Requirement already satisfied: setuptools in /usr/local/lib/python3.7/dist-packages (from tensorflow) (57.4.0)\n",
            "Requirement already satisfied: tensorflow-estimator<2.9,>=2.8 in /usr/local/lib/python3.7/dist-packages (from tensorflow) (2.8.0)\n",
            "Requirement already satisfied: keras<2.9,>=2.8.0rc0 in /usr/local/lib/python3.7/dist-packages (from tensorflow) (2.8.0)\n",
            "Requirement already satisfied: tensorflow-io-gcs-filesystem>=0.23.1 in /usr/local/lib/python3.7/dist-packages (from tensorflow) (0.26.0)\n",
            "Requirement already satisfied: wrapt>=1.11.0 in /usr/local/lib/python3.7/dist-packages (from tensorflow) (1.14.1)\n",
            "Requirement already satisfied: opt-einsum>=2.3.2 in /usr/local/lib/python3.7/dist-packages (from tensorflow) (3.3.0)\n",
            "Requirement already satisfied: wheel<1.0,>=0.23.0 in /usr/local/lib/python3.7/dist-packages (from astunparse>=1.6.0->tensorflow) (0.37.1)\n",
            "Requirement already satisfied: cached-property in /usr/local/lib/python3.7/dist-packages (from h5py>=2.9.0->tensorflow) (1.5.2)\n",
            "Requirement already satisfied: werkzeug>=0.11.15 in /usr/local/lib/python3.7/dist-packages (from tensorboard<2.9,>=2.8->tensorflow) (1.0.1)\n",
            "Requirement already satisfied: google-auth-oauthlib<0.5,>=0.4.1 in /usr/local/lib/python3.7/dist-packages (from tensorboard<2.9,>=2.8->tensorflow) (0.4.6)\n",
            "Requirement already satisfied: requests<3,>=2.21.0 in /usr/local/lib/python3.7/dist-packages (from tensorboard<2.9,>=2.8->tensorflow) (2.23.0)\n",
            "Requirement already satisfied: markdown>=2.6.8 in /usr/local/lib/python3.7/dist-packages (from tensorboard<2.9,>=2.8->tensorflow) (3.3.7)\n",
            "Requirement already satisfied: google-auth<3,>=1.6.3 in /usr/local/lib/python3.7/dist-packages (from tensorboard<2.9,>=2.8->tensorflow) (1.35.0)\n",
            "Requirement already satisfied: tensorboard-plugin-wit>=1.6.0 in /usr/local/lib/python3.7/dist-packages (from tensorboard<2.9,>=2.8->tensorflow) (1.8.1)\n",
            "Requirement already satisfied: tensorboard-data-server<0.7.0,>=0.6.0 in /usr/local/lib/python3.7/dist-packages (from tensorboard<2.9,>=2.8->tensorflow) (0.6.1)\n",
            "Requirement already satisfied: cachetools<5.0,>=2.0.0 in /usr/local/lib/python3.7/dist-packages (from google-auth<3,>=1.6.3->tensorboard<2.9,>=2.8->tensorflow) (4.2.4)\n",
            "Requirement already satisfied: pyasn1-modules>=0.2.1 in /usr/local/lib/python3.7/dist-packages (from google-auth<3,>=1.6.3->tensorboard<2.9,>=2.8->tensorflow) (0.2.8)\n",
            "Requirement already satisfied: rsa<5,>=3.1.4 in /usr/local/lib/python3.7/dist-packages (from google-auth<3,>=1.6.3->tensorboard<2.9,>=2.8->tensorflow) (4.8)\n",
            "Requirement already satisfied: requests-oauthlib>=0.7.0 in /usr/local/lib/python3.7/dist-packages (from google-auth-oauthlib<0.5,>=0.4.1->tensorboard<2.9,>=2.8->tensorflow) (1.3.1)\n",
            "Requirement already satisfied: importlib-metadata>=4.4 in /usr/local/lib/python3.7/dist-packages (from markdown>=2.6.8->tensorboard<2.9,>=2.8->tensorflow) (4.11.4)\n",
            "Requirement already satisfied: zipp>=0.5 in /usr/local/lib/python3.7/dist-packages (from importlib-metadata>=4.4->markdown>=2.6.8->tensorboard<2.9,>=2.8->tensorflow) (3.8.0)\n",
            "Requirement already satisfied: pyasn1<0.5.0,>=0.4.6 in /usr/local/lib/python3.7/dist-packages (from pyasn1-modules>=0.2.1->google-auth<3,>=1.6.3->tensorboard<2.9,>=2.8->tensorflow) (0.4.8)\n",
            "Requirement already satisfied: chardet<4,>=3.0.2 in /usr/local/lib/python3.7/dist-packages (from requests<3,>=2.21.0->tensorboard<2.9,>=2.8->tensorflow) (3.0.4)\n",
            "Requirement already satisfied: certifi>=2017.4.17 in /usr/local/lib/python3.7/dist-packages (from requests<3,>=2.21.0->tensorboard<2.9,>=2.8->tensorflow) (2022.5.18.1)\n",
            "Requirement already satisfied: urllib3!=1.25.0,!=1.25.1,<1.26,>=1.21.1 in /usr/local/lib/python3.7/dist-packages (from requests<3,>=2.21.0->tensorboard<2.9,>=2.8->tensorflow) (1.24.3)\n",
            "Requirement already satisfied: idna<3,>=2.5 in /usr/local/lib/python3.7/dist-packages (from requests<3,>=2.21.0->tensorboard<2.9,>=2.8->tensorflow) (2.10)\n",
            "Requirement already satisfied: oauthlib>=3.0.0 in /usr/local/lib/python3.7/dist-packages (from requests-oauthlib>=0.7.0->google-auth-oauthlib<0.5,>=0.4.1->tensorboard<2.9,>=2.8->tensorflow) (3.2.0)\n"
          ]
        }
      ]
    },
    {
      "cell_type": "code",
      "source": [
        "import keras\n",
        "import numpy as np\n",
        "import matplotlib.pyplot as plt\n",
        "import tensorflow as tf\n",
        "from keras.preprocessing import sequence\n",
        "from keras.models import Sequential\n",
        "from keras.layers import Dense, Embedding\n",
        "from tensorflow.keras.utils import to_categorical\n",
        "from keras.layers import Input, Flatten, Dropout, Activation\n",
        "from keras.layers import Conv1D, MaxPooling1D\n",
        "from keras.models import Model\n",
        "from keras.callbacks import ModelCheckpoint\n",
        "from tensorflow.keras import optimizers\n",
        "\n",
        "model = Sequential()\n",
        "\n",
        "model.add(Conv1D(128, 12,padding='same', #classifier.add(Convolution2D(64, (3, 3), padding = 'same', input_shape = (128, 128, 3), activation = 'relu'))\n",
        "                 input_shape=(40,1)))\n",
        "model.add(Activation('relu'))\n",
        "model.add(Dropout(0.3))\n",
        "model.add(MaxPooling1D(pool_size=(5)))\n",
        "\n",
        "\n",
        "model.add(Conv1D(256,12,padding='same',))\n",
        "model.add(Activation('relu'))\n",
        "model.add(Dropout(0.3))\n",
        "model.add(MaxPooling1D(pool_size=(5)))\n",
        "\n",
        "#model.add(MaxPooling1D(pool_size=(5)))\n",
        "\n",
        "model.add(Flatten())\n",
        "\n",
        "\n",
        "\n",
        "model.add(Dense(6))\n",
        "model.add(Activation('softmax'))\n",
        "\n",
        "\n",
        "#opt = tf.keras.optimizers.RMSprop(lr=0.0002 , decay=0.0)\n",
        "opt = tf.keras.optimizers.Adam(lr=0.0002 , decay=0.0)\n",
        "#opt = tf.keras.optimizers.RMSprop(lr=0.0001, rho=0.9, epsilon=1e-07, decay=0.0)\n",
        "#opt = tf.keras.optimizers.SGD(lr=0.001, momentum=0.0, decay=0.0, nesterov=False)"
      ],
      "metadata": {
        "id": "g74fXWVAC4Cr",
        "colab": {
          "base_uri": "https://localhost:8080/"
        },
        "outputId": "0e158a32-9b28-4888-8aa9-6e4f5f6c9f3e"
      },
      "execution_count": 11,
      "outputs": [
        {
          "output_type": "stream",
          "name": "stderr",
          "text": [
            "/usr/local/lib/python3.7/dist-packages/keras/optimizer_v2/adam.py:105: UserWarning:\n",
            "\n",
            "The `lr` argument is deprecated, use `learning_rate` instead.\n",
            "\n"
          ]
        }
      ]
    },
    {
      "cell_type": "code",
      "source": [
        "model.summary()"
      ],
      "metadata": {
        "id": "H6ukOxAGC_I4",
        "colab": {
          "base_uri": "https://localhost:8080/"
        },
        "outputId": "3cfa281f-2d88-493c-8fff-2e840e5b7a4e"
      },
      "execution_count": 12,
      "outputs": [
        {
          "output_type": "stream",
          "name": "stdout",
          "text": [
            "Model: \"sequential\"\n",
            "_________________________________________________________________\n",
            " Layer (type)                Output Shape              Param #   \n",
            "=================================================================\n",
            " conv1d (Conv1D)             (None, 40, 128)           1664      \n",
            "                                                                 \n",
            " activation (Activation)     (None, 40, 128)           0         \n",
            "                                                                 \n",
            " dropout (Dropout)           (None, 40, 128)           0         \n",
            "                                                                 \n",
            " max_pooling1d (MaxPooling1D  (None, 8, 128)           0         \n",
            " )                                                               \n",
            "                                                                 \n",
            " conv1d_1 (Conv1D)           (None, 8, 256)            393472    \n",
            "                                                                 \n",
            " activation_1 (Activation)   (None, 8, 256)            0         \n",
            "                                                                 \n",
            " dropout_1 (Dropout)         (None, 8, 256)            0         \n",
            "                                                                 \n",
            " max_pooling1d_1 (MaxPooling  (None, 1, 256)           0         \n",
            " 1D)                                                             \n",
            "                                                                 \n",
            " flatten (Flatten)           (None, 256)               0         \n",
            "                                                                 \n",
            " dense (Dense)               (None, 6)                 1542      \n",
            "                                                                 \n",
            " activation_2 (Activation)   (None, 6)                 0         \n",
            "                                                                 \n",
            "=================================================================\n",
            "Total params: 396,678\n",
            "Trainable params: 396,678\n",
            "Non-trainable params: 0\n",
            "_________________________________________________________________\n"
          ]
        }
      ]
    },
    {
      "cell_type": "code",
      "source": [
        "model.compile(loss='sparse_categorical_crossentropy',\n",
        "              optimizer=opt,\n",
        "              metrics=['accuracy'])"
      ],
      "metadata": {
        "id": "AbMlLNk4DCBM"
      },
      "execution_count": 13,
      "outputs": []
    },
    {
      "cell_type": "code",
      "source": [
        "# Create an Instance of Early Stopping Callback.\n",
        "early_stopping_callback = EarlyStopping(monitor = 'val_loss', patience = 25, mode = 'min', restore_best_weights = True)\n",
        "\n",
        "cnnhistory=model.fit(x_traincnn, y_train, batch_size=16, epochs=500 , shuffle = True, \n",
        "                     validation_data=(X_valid, y_valid) , callbacks = [early_stopping_callback])"
      ],
      "metadata": {
        "id": "RI1v2AuADFhy",
        "colab": {
          "base_uri": "https://localhost:8080/"
        },
        "outputId": "f4fb408c-7dec-42fa-b26d-77b62d3f5bd0"
      },
      "execution_count": 14,
      "outputs": [
        {
          "output_type": "stream",
          "name": "stdout",
          "text": [
            "Epoch 1/500\n",
            "104/104 [==============================] - 2s 5ms/step - loss: 10.8081 - accuracy: 0.1753 - val_loss: 3.8754 - val_accuracy: 0.2222\n",
            "Epoch 2/500\n",
            "104/104 [==============================] - 0s 3ms/step - loss: 7.6279 - accuracy: 0.2074 - val_loss: 4.0492 - val_accuracy: 0.1932\n",
            "Epoch 3/500\n",
            "104/104 [==============================] - 0s 3ms/step - loss: 6.3238 - accuracy: 0.2255 - val_loss: 2.2807 - val_accuracy: 0.3237\n",
            "Epoch 4/500\n",
            "104/104 [==============================] - 0s 3ms/step - loss: 4.8213 - accuracy: 0.2473 - val_loss: 2.9389 - val_accuracy: 0.1932\n",
            "Epoch 5/500\n",
            "104/104 [==============================] - 0s 3ms/step - loss: 4.0904 - accuracy: 0.2624 - val_loss: 1.7785 - val_accuracy: 0.4058\n",
            "Epoch 6/500\n",
            "104/104 [==============================] - 0s 3ms/step - loss: 3.5693 - accuracy: 0.2388 - val_loss: 1.7074 - val_accuracy: 0.3333\n",
            "Epoch 7/500\n",
            "104/104 [==============================] - 0s 3ms/step - loss: 2.9423 - accuracy: 0.2799 - val_loss: 2.3065 - val_accuracy: 0.3140\n",
            "Epoch 8/500\n",
            "104/104 [==============================] - 0s 3ms/step - loss: 2.6628 - accuracy: 0.2823 - val_loss: 1.7546 - val_accuracy: 0.3092\n",
            "Epoch 9/500\n",
            "104/104 [==============================] - 0s 4ms/step - loss: 2.5331 - accuracy: 0.2944 - val_loss: 1.5885 - val_accuracy: 0.3333\n",
            "Epoch 10/500\n",
            "104/104 [==============================] - 0s 5ms/step - loss: 2.3255 - accuracy: 0.2956 - val_loss: 1.6046 - val_accuracy: 0.3527\n",
            "Epoch 11/500\n",
            "104/104 [==============================] - 0s 5ms/step - loss: 2.0956 - accuracy: 0.3343 - val_loss: 1.5433 - val_accuracy: 0.3768\n",
            "Epoch 12/500\n",
            "104/104 [==============================] - 1s 5ms/step - loss: 2.0248 - accuracy: 0.3253 - val_loss: 1.4857 - val_accuracy: 0.3720\n",
            "Epoch 13/500\n",
            "104/104 [==============================] - 0s 5ms/step - loss: 2.0031 - accuracy: 0.3277 - val_loss: 1.4546 - val_accuracy: 0.3575\n",
            "Epoch 14/500\n",
            "104/104 [==============================] - 1s 5ms/step - loss: 1.7690 - accuracy: 0.3652 - val_loss: 1.4657 - val_accuracy: 0.4300\n",
            "Epoch 15/500\n",
            "104/104 [==============================] - 0s 4ms/step - loss: 1.7720 - accuracy: 0.3440 - val_loss: 1.4022 - val_accuracy: 0.4106\n",
            "Epoch 16/500\n",
            "104/104 [==============================] - 1s 5ms/step - loss: 1.6440 - accuracy: 0.3888 - val_loss: 1.3766 - val_accuracy: 0.4203\n",
            "Epoch 17/500\n",
            "104/104 [==============================] - 0s 5ms/step - loss: 1.6154 - accuracy: 0.4051 - val_loss: 1.3057 - val_accuracy: 0.5169\n",
            "Epoch 18/500\n",
            "104/104 [==============================] - 0s 4ms/step - loss: 1.6232 - accuracy: 0.3900 - val_loss: 1.3325 - val_accuracy: 0.5024\n",
            "Epoch 19/500\n",
            "104/104 [==============================] - 0s 5ms/step - loss: 1.5388 - accuracy: 0.4160 - val_loss: 1.3250 - val_accuracy: 0.5024\n",
            "Epoch 20/500\n",
            "104/104 [==============================] - 1s 5ms/step - loss: 1.4646 - accuracy: 0.4365 - val_loss: 1.2623 - val_accuracy: 0.5121\n",
            "Epoch 21/500\n",
            "104/104 [==============================] - 1s 5ms/step - loss: 1.4693 - accuracy: 0.4287 - val_loss: 1.2700 - val_accuracy: 0.5556\n",
            "Epoch 22/500\n",
            "104/104 [==============================] - 0s 4ms/step - loss: 1.4746 - accuracy: 0.4226 - val_loss: 1.2805 - val_accuracy: 0.5169\n",
            "Epoch 23/500\n",
            "104/104 [==============================] - 0s 4ms/step - loss: 1.3983 - accuracy: 0.4565 - val_loss: 1.2269 - val_accuracy: 0.5266\n",
            "Epoch 24/500\n",
            "104/104 [==============================] - 1s 5ms/step - loss: 1.3818 - accuracy: 0.4492 - val_loss: 1.2308 - val_accuracy: 0.4976\n",
            "Epoch 25/500\n",
            "104/104 [==============================] - 1s 5ms/step - loss: 1.3596 - accuracy: 0.4528 - val_loss: 1.2544 - val_accuracy: 0.4783\n",
            "Epoch 26/500\n",
            "104/104 [==============================] - 0s 5ms/step - loss: 1.3554 - accuracy: 0.4674 - val_loss: 1.1916 - val_accuracy: 0.5556\n",
            "Epoch 27/500\n",
            "104/104 [==============================] - 1s 5ms/step - loss: 1.2997 - accuracy: 0.4909 - val_loss: 1.1686 - val_accuracy: 0.5604\n",
            "Epoch 28/500\n",
            "104/104 [==============================] - 1s 5ms/step - loss: 1.2950 - accuracy: 0.4861 - val_loss: 1.2420 - val_accuracy: 0.4879\n",
            "Epoch 29/500\n",
            "104/104 [==============================] - 0s 5ms/step - loss: 1.2256 - accuracy: 0.5079 - val_loss: 1.1750 - val_accuracy: 0.5121\n",
            "Epoch 30/500\n",
            "104/104 [==============================] - 0s 4ms/step - loss: 1.2533 - accuracy: 0.5133 - val_loss: 1.1912 - val_accuracy: 0.4879\n",
            "Epoch 31/500\n",
            "104/104 [==============================] - 0s 4ms/step - loss: 1.2085 - accuracy: 0.5200 - val_loss: 1.1137 - val_accuracy: 0.5990\n",
            "Epoch 32/500\n",
            "104/104 [==============================] - 0s 4ms/step - loss: 1.1724 - accuracy: 0.5399 - val_loss: 1.1531 - val_accuracy: 0.5604\n",
            "Epoch 33/500\n",
            "104/104 [==============================] - 0s 3ms/step - loss: 1.1846 - accuracy: 0.5447 - val_loss: 1.1121 - val_accuracy: 0.5700\n",
            "Epoch 34/500\n",
            "104/104 [==============================] - 0s 3ms/step - loss: 1.1408 - accuracy: 0.5526 - val_loss: 1.0991 - val_accuracy: 0.5942\n",
            "Epoch 35/500\n",
            "104/104 [==============================] - 0s 3ms/step - loss: 1.1889 - accuracy: 0.5411 - val_loss: 1.1106 - val_accuracy: 0.5652\n",
            "Epoch 36/500\n",
            "104/104 [==============================] - 0s 3ms/step - loss: 1.1407 - accuracy: 0.5339 - val_loss: 1.0618 - val_accuracy: 0.5797\n",
            "Epoch 37/500\n",
            "104/104 [==============================] - 0s 3ms/step - loss: 1.1158 - accuracy: 0.5580 - val_loss: 1.0555 - val_accuracy: 0.6087\n",
            "Epoch 38/500\n",
            "104/104 [==============================] - 0s 3ms/step - loss: 1.1392 - accuracy: 0.5399 - val_loss: 1.0788 - val_accuracy: 0.5749\n",
            "Epoch 39/500\n",
            "104/104 [==============================] - 0s 3ms/step - loss: 1.0906 - accuracy: 0.5665 - val_loss: 1.1047 - val_accuracy: 0.5749\n",
            "Epoch 40/500\n",
            "104/104 [==============================] - 0s 3ms/step - loss: 1.0846 - accuracy: 0.5647 - val_loss: 1.0133 - val_accuracy: 0.6667\n",
            "Epoch 41/500\n",
            "104/104 [==============================] - 0s 3ms/step - loss: 1.0513 - accuracy: 0.5732 - val_loss: 1.0308 - val_accuracy: 0.6184\n",
            "Epoch 42/500\n",
            "104/104 [==============================] - 0s 3ms/step - loss: 1.0569 - accuracy: 0.5780 - val_loss: 1.0008 - val_accuracy: 0.6377\n",
            "Epoch 43/500\n",
            "104/104 [==============================] - 0s 3ms/step - loss: 1.0427 - accuracy: 0.5804 - val_loss: 1.0132 - val_accuracy: 0.6184\n",
            "Epoch 44/500\n",
            "104/104 [==============================] - 0s 3ms/step - loss: 1.0296 - accuracy: 0.5750 - val_loss: 1.0105 - val_accuracy: 0.6280\n",
            "Epoch 45/500\n",
            "104/104 [==============================] - 0s 3ms/step - loss: 1.0249 - accuracy: 0.5859 - val_loss: 0.9802 - val_accuracy: 0.6473\n",
            "Epoch 46/500\n",
            "104/104 [==============================] - 0s 3ms/step - loss: 0.9873 - accuracy: 0.5895 - val_loss: 0.9556 - val_accuracy: 0.6522\n",
            "Epoch 47/500\n",
            "104/104 [==============================] - 0s 3ms/step - loss: 0.9982 - accuracy: 0.6052 - val_loss: 0.9688 - val_accuracy: 0.6812\n",
            "Epoch 48/500\n",
            "104/104 [==============================] - 0s 3ms/step - loss: 0.9860 - accuracy: 0.6082 - val_loss: 0.9860 - val_accuracy: 0.6039\n",
            "Epoch 49/500\n",
            "104/104 [==============================] - 0s 3ms/step - loss: 0.9856 - accuracy: 0.6161 - val_loss: 0.9284 - val_accuracy: 0.6618\n",
            "Epoch 50/500\n",
            "104/104 [==============================] - 0s 3ms/step - loss: 0.9658 - accuracy: 0.6155 - val_loss: 0.9514 - val_accuracy: 0.6618\n",
            "Epoch 51/500\n",
            "104/104 [==============================] - 0s 3ms/step - loss: 0.9623 - accuracy: 0.6161 - val_loss: 0.9606 - val_accuracy: 0.6280\n",
            "Epoch 52/500\n",
            "104/104 [==============================] - 0s 3ms/step - loss: 0.9815 - accuracy: 0.5949 - val_loss: 0.9265 - val_accuracy: 0.6715\n",
            "Epoch 53/500\n",
            "104/104 [==============================] - 0s 3ms/step - loss: 0.9358 - accuracy: 0.6288 - val_loss: 0.9211 - val_accuracy: 0.6667\n",
            "Epoch 54/500\n",
            "104/104 [==============================] - 0s 3ms/step - loss: 0.9421 - accuracy: 0.6203 - val_loss: 0.9446 - val_accuracy: 0.6473\n",
            "Epoch 55/500\n",
            "104/104 [==============================] - 0s 3ms/step - loss: 0.9079 - accuracy: 0.6276 - val_loss: 0.9117 - val_accuracy: 0.6522\n",
            "Epoch 56/500\n",
            "104/104 [==============================] - 0s 3ms/step - loss: 0.9024 - accuracy: 0.6397 - val_loss: 0.8941 - val_accuracy: 0.6957\n",
            "Epoch 57/500\n",
            "104/104 [==============================] - 0s 3ms/step - loss: 0.9069 - accuracy: 0.6324 - val_loss: 0.9011 - val_accuracy: 0.6618\n",
            "Epoch 58/500\n",
            "104/104 [==============================] - 0s 3ms/step - loss: 0.8885 - accuracy: 0.6439 - val_loss: 0.8817 - val_accuracy: 0.6473\n",
            "Epoch 59/500\n",
            "104/104 [==============================] - 0s 3ms/step - loss: 0.8876 - accuracy: 0.6511 - val_loss: 0.8888 - val_accuracy: 0.6618\n",
            "Epoch 60/500\n",
            "104/104 [==============================] - 0s 3ms/step - loss: 0.8924 - accuracy: 0.6360 - val_loss: 0.8718 - val_accuracy: 0.7101\n",
            "Epoch 61/500\n",
            "104/104 [==============================] - 0s 3ms/step - loss: 0.8558 - accuracy: 0.6554 - val_loss: 0.8972 - val_accuracy: 0.6377\n",
            "Epoch 62/500\n",
            "104/104 [==============================] - 0s 3ms/step - loss: 0.8971 - accuracy: 0.6324 - val_loss: 0.8861 - val_accuracy: 0.6377\n",
            "Epoch 63/500\n",
            "104/104 [==============================] - 0s 3ms/step - loss: 0.8635 - accuracy: 0.6475 - val_loss: 0.8341 - val_accuracy: 0.6860\n",
            "Epoch 64/500\n",
            "104/104 [==============================] - 0s 3ms/step - loss: 0.8634 - accuracy: 0.6578 - val_loss: 0.8824 - val_accuracy: 0.6425\n",
            "Epoch 65/500\n",
            "104/104 [==============================] - 0s 3ms/step - loss: 0.8573 - accuracy: 0.6620 - val_loss: 0.8328 - val_accuracy: 0.7053\n",
            "Epoch 66/500\n",
            "104/104 [==============================] - 0s 3ms/step - loss: 0.8445 - accuracy: 0.6771 - val_loss: 0.8533 - val_accuracy: 0.6618\n",
            "Epoch 67/500\n",
            "104/104 [==============================] - 0s 3ms/step - loss: 0.8396 - accuracy: 0.6651 - val_loss: 0.8228 - val_accuracy: 0.7005\n",
            "Epoch 68/500\n",
            "104/104 [==============================] - 0s 3ms/step - loss: 0.8050 - accuracy: 0.6826 - val_loss: 0.8045 - val_accuracy: 0.7150\n",
            "Epoch 69/500\n",
            "104/104 [==============================] - 0s 3ms/step - loss: 0.8387 - accuracy: 0.6681 - val_loss: 0.8029 - val_accuracy: 0.7005\n",
            "Epoch 70/500\n",
            "104/104 [==============================] - 0s 3ms/step - loss: 0.7935 - accuracy: 0.6844 - val_loss: 0.8302 - val_accuracy: 0.7005\n",
            "Epoch 71/500\n",
            "104/104 [==============================] - 0s 3ms/step - loss: 0.8290 - accuracy: 0.6644 - val_loss: 0.8255 - val_accuracy: 0.6763\n",
            "Epoch 72/500\n",
            "104/104 [==============================] - 0s 3ms/step - loss: 0.8170 - accuracy: 0.6729 - val_loss: 0.8418 - val_accuracy: 0.6570\n",
            "Epoch 73/500\n",
            "104/104 [==============================] - 0s 3ms/step - loss: 0.8134 - accuracy: 0.6778 - val_loss: 0.8196 - val_accuracy: 0.7246\n",
            "Epoch 74/500\n",
            "104/104 [==============================] - 0s 3ms/step - loss: 0.8104 - accuracy: 0.6808 - val_loss: 0.8286 - val_accuracy: 0.7198\n",
            "Epoch 75/500\n",
            "104/104 [==============================] - 0s 3ms/step - loss: 0.7672 - accuracy: 0.6989 - val_loss: 0.8568 - val_accuracy: 0.6763\n",
            "Epoch 76/500\n",
            "104/104 [==============================] - 0s 3ms/step - loss: 0.7488 - accuracy: 0.7074 - val_loss: 0.8000 - val_accuracy: 0.6667\n",
            "Epoch 77/500\n",
            "104/104 [==============================] - 0s 3ms/step - loss: 0.7669 - accuracy: 0.7050 - val_loss: 0.7729 - val_accuracy: 0.6908\n",
            "Epoch 78/500\n",
            "104/104 [==============================] - 0s 3ms/step - loss: 0.7625 - accuracy: 0.6971 - val_loss: 0.7957 - val_accuracy: 0.6908\n",
            "Epoch 79/500\n",
            "104/104 [==============================] - 0s 3ms/step - loss: 0.7472 - accuracy: 0.7025 - val_loss: 0.7699 - val_accuracy: 0.7343\n",
            "Epoch 80/500\n",
            "104/104 [==============================] - 0s 3ms/step - loss: 0.7609 - accuracy: 0.7074 - val_loss: 0.7911 - val_accuracy: 0.6908\n",
            "Epoch 81/500\n",
            "104/104 [==============================] - 0s 3ms/step - loss: 0.7338 - accuracy: 0.7158 - val_loss: 0.7898 - val_accuracy: 0.7053\n",
            "Epoch 82/500\n",
            "104/104 [==============================] - 0s 3ms/step - loss: 0.6964 - accuracy: 0.7189 - val_loss: 0.8455 - val_accuracy: 0.6860\n",
            "Epoch 83/500\n",
            "104/104 [==============================] - 0s 3ms/step - loss: 0.7473 - accuracy: 0.6959 - val_loss: 0.7697 - val_accuracy: 0.7198\n",
            "Epoch 84/500\n",
            "104/104 [==============================] - 0s 3ms/step - loss: 0.7197 - accuracy: 0.7092 - val_loss: 0.7699 - val_accuracy: 0.7295\n",
            "Epoch 85/500\n",
            "104/104 [==============================] - 0s 3ms/step - loss: 0.6937 - accuracy: 0.7346 - val_loss: 0.7544 - val_accuracy: 0.6908\n",
            "Epoch 86/500\n",
            "104/104 [==============================] - 0s 3ms/step - loss: 0.7205 - accuracy: 0.7158 - val_loss: 0.7814 - val_accuracy: 0.7295\n",
            "Epoch 87/500\n",
            "104/104 [==============================] - 0s 3ms/step - loss: 0.7247 - accuracy: 0.7116 - val_loss: 0.7853 - val_accuracy: 0.7198\n",
            "Epoch 88/500\n",
            "104/104 [==============================] - 0s 3ms/step - loss: 0.6805 - accuracy: 0.7449 - val_loss: 0.7388 - val_accuracy: 0.7101\n",
            "Epoch 89/500\n",
            "104/104 [==============================] - 0s 3ms/step - loss: 0.7048 - accuracy: 0.7279 - val_loss: 0.7442 - val_accuracy: 0.7150\n",
            "Epoch 90/500\n",
            "104/104 [==============================] - 0s 3ms/step - loss: 0.6975 - accuracy: 0.7310 - val_loss: 0.7163 - val_accuracy: 0.7198\n",
            "Epoch 91/500\n",
            "104/104 [==============================] - 0s 3ms/step - loss: 0.6788 - accuracy: 0.7334 - val_loss: 0.7307 - val_accuracy: 0.7391\n",
            "Epoch 92/500\n",
            "104/104 [==============================] - 0s 3ms/step - loss: 0.6806 - accuracy: 0.7358 - val_loss: 0.7299 - val_accuracy: 0.7053\n",
            "Epoch 93/500\n",
            "104/104 [==============================] - 0s 3ms/step - loss: 0.6800 - accuracy: 0.7207 - val_loss: 0.7085 - val_accuracy: 0.7246\n",
            "Epoch 94/500\n",
            "104/104 [==============================] - 0s 3ms/step - loss: 0.6931 - accuracy: 0.7231 - val_loss: 0.7266 - val_accuracy: 0.7343\n",
            "Epoch 95/500\n",
            "104/104 [==============================] - 0s 3ms/step - loss: 0.6547 - accuracy: 0.7467 - val_loss: 0.6965 - val_accuracy: 0.7440\n",
            "Epoch 96/500\n",
            "104/104 [==============================] - 0s 3ms/step - loss: 0.6538 - accuracy: 0.7473 - val_loss: 0.7120 - val_accuracy: 0.7488\n",
            "Epoch 97/500\n",
            "104/104 [==============================] - 0s 3ms/step - loss: 0.6665 - accuracy: 0.7334 - val_loss: 0.7052 - val_accuracy: 0.7053\n",
            "Epoch 98/500\n",
            "104/104 [==============================] - 0s 3ms/step - loss: 0.6245 - accuracy: 0.7570 - val_loss: 0.6892 - val_accuracy: 0.7391\n",
            "Epoch 99/500\n",
            "104/104 [==============================] - 0s 3ms/step - loss: 0.6476 - accuracy: 0.7297 - val_loss: 0.7040 - val_accuracy: 0.7440\n",
            "Epoch 100/500\n",
            "104/104 [==============================] - 0s 3ms/step - loss: 0.6495 - accuracy: 0.7424 - val_loss: 0.6904 - val_accuracy: 0.7633\n",
            "Epoch 101/500\n",
            "104/104 [==============================] - 0s 3ms/step - loss: 0.6366 - accuracy: 0.7491 - val_loss: 0.6808 - val_accuracy: 0.7633\n",
            "Epoch 102/500\n",
            "104/104 [==============================] - 0s 3ms/step - loss: 0.6151 - accuracy: 0.7557 - val_loss: 0.7099 - val_accuracy: 0.7440\n",
            "Epoch 103/500\n",
            "104/104 [==============================] - 0s 5ms/step - loss: 0.6399 - accuracy: 0.7485 - val_loss: 0.6835 - val_accuracy: 0.7343\n",
            "Epoch 104/500\n",
            "104/104 [==============================] - 0s 3ms/step - loss: 0.6170 - accuracy: 0.7570 - val_loss: 0.7077 - val_accuracy: 0.7246\n",
            "Epoch 105/500\n",
            "104/104 [==============================] - 0s 4ms/step - loss: 0.5944 - accuracy: 0.7636 - val_loss: 0.7000 - val_accuracy: 0.7391\n",
            "Epoch 106/500\n",
            "104/104 [==============================] - 0s 4ms/step - loss: 0.6014 - accuracy: 0.7672 - val_loss: 0.6972 - val_accuracy: 0.7343\n",
            "Epoch 107/500\n",
            "104/104 [==============================] - 0s 3ms/step - loss: 0.6072 - accuracy: 0.7660 - val_loss: 0.6869 - val_accuracy: 0.7246\n",
            "Epoch 108/500\n",
            "104/104 [==============================] - 0s 5ms/step - loss: 0.5940 - accuracy: 0.7618 - val_loss: 0.7107 - val_accuracy: 0.7343\n",
            "Epoch 109/500\n",
            "104/104 [==============================] - 0s 3ms/step - loss: 0.5625 - accuracy: 0.7860 - val_loss: 0.6800 - val_accuracy: 0.7295\n",
            "Epoch 110/500\n",
            "104/104 [==============================] - 0s 3ms/step - loss: 0.5890 - accuracy: 0.7715 - val_loss: 0.6709 - val_accuracy: 0.7585\n",
            "Epoch 111/500\n",
            "104/104 [==============================] - 0s 3ms/step - loss: 0.5957 - accuracy: 0.7612 - val_loss: 0.6722 - val_accuracy: 0.7246\n",
            "Epoch 112/500\n",
            "104/104 [==============================] - 0s 3ms/step - loss: 0.5934 - accuracy: 0.7594 - val_loss: 0.6633 - val_accuracy: 0.7440\n",
            "Epoch 113/500\n",
            "104/104 [==============================] - 0s 3ms/step - loss: 0.5719 - accuracy: 0.7703 - val_loss: 0.6937 - val_accuracy: 0.7150\n",
            "Epoch 114/500\n",
            "104/104 [==============================] - 0s 3ms/step - loss: 0.5624 - accuracy: 0.7830 - val_loss: 0.6676 - val_accuracy: 0.7391\n",
            "Epoch 115/500\n",
            "104/104 [==============================] - 0s 3ms/step - loss: 0.5676 - accuracy: 0.7769 - val_loss: 0.6385 - val_accuracy: 0.7295\n",
            "Epoch 116/500\n",
            "104/104 [==============================] - 0s 3ms/step - loss: 0.5426 - accuracy: 0.7878 - val_loss: 0.6416 - val_accuracy: 0.7440\n",
            "Epoch 117/500\n",
            "104/104 [==============================] - 0s 3ms/step - loss: 0.5785 - accuracy: 0.7703 - val_loss: 0.6653 - val_accuracy: 0.7391\n",
            "Epoch 118/500\n",
            "104/104 [==============================] - 0s 3ms/step - loss: 0.5414 - accuracy: 0.7878 - val_loss: 0.6569 - val_accuracy: 0.7295\n",
            "Epoch 119/500\n",
            "104/104 [==============================] - 0s 3ms/step - loss: 0.5321 - accuracy: 0.7860 - val_loss: 0.6746 - val_accuracy: 0.7391\n",
            "Epoch 120/500\n",
            "104/104 [==============================] - 0s 3ms/step - loss: 0.5311 - accuracy: 0.7963 - val_loss: 0.6368 - val_accuracy: 0.7391\n",
            "Epoch 121/500\n",
            "104/104 [==============================] - 0s 3ms/step - loss: 0.5233 - accuracy: 0.7963 - val_loss: 0.6380 - val_accuracy: 0.7440\n",
            "Epoch 122/500\n",
            "104/104 [==============================] - 0s 3ms/step - loss: 0.5084 - accuracy: 0.8077 - val_loss: 0.6208 - val_accuracy: 0.7826\n",
            "Epoch 123/500\n",
            "104/104 [==============================] - 0s 3ms/step - loss: 0.5189 - accuracy: 0.7999 - val_loss: 0.6400 - val_accuracy: 0.7488\n",
            "Epoch 124/500\n",
            "104/104 [==============================] - 0s 3ms/step - loss: 0.5267 - accuracy: 0.7884 - val_loss: 0.6294 - val_accuracy: 0.7585\n",
            "Epoch 125/500\n",
            "104/104 [==============================] - 0s 3ms/step - loss: 0.5160 - accuracy: 0.7993 - val_loss: 0.6326 - val_accuracy: 0.7633\n",
            "Epoch 126/500\n",
            "104/104 [==============================] - 0s 3ms/step - loss: 0.5026 - accuracy: 0.7981 - val_loss: 0.6136 - val_accuracy: 0.7681\n",
            "Epoch 127/500\n",
            "104/104 [==============================] - 0s 3ms/step - loss: 0.5288 - accuracy: 0.7963 - val_loss: 0.6668 - val_accuracy: 0.7585\n",
            "Epoch 128/500\n",
            "104/104 [==============================] - 0s 3ms/step - loss: 0.5032 - accuracy: 0.8059 - val_loss: 0.6358 - val_accuracy: 0.7440\n",
            "Epoch 129/500\n",
            "104/104 [==============================] - 0s 3ms/step - loss: 0.4984 - accuracy: 0.8023 - val_loss: 0.6186 - val_accuracy: 0.7585\n",
            "Epoch 130/500\n",
            "104/104 [==============================] - 0s 3ms/step - loss: 0.4910 - accuracy: 0.8083 - val_loss: 0.5973 - val_accuracy: 0.7633\n",
            "Epoch 131/500\n",
            "104/104 [==============================] - 0s 3ms/step - loss: 0.5095 - accuracy: 0.7999 - val_loss: 0.6326 - val_accuracy: 0.7536\n",
            "Epoch 132/500\n",
            "104/104 [==============================] - 0s 3ms/step - loss: 0.4887 - accuracy: 0.8089 - val_loss: 0.6106 - val_accuracy: 0.7585\n",
            "Epoch 133/500\n",
            "104/104 [==============================] - 0s 3ms/step - loss: 0.5077 - accuracy: 0.8071 - val_loss: 0.6185 - val_accuracy: 0.7440\n",
            "Epoch 134/500\n",
            "104/104 [==============================] - 0s 3ms/step - loss: 0.4956 - accuracy: 0.8144 - val_loss: 0.6339 - val_accuracy: 0.7343\n",
            "Epoch 135/500\n",
            "104/104 [==============================] - 0s 3ms/step - loss: 0.4599 - accuracy: 0.8150 - val_loss: 0.6346 - val_accuracy: 0.7391\n",
            "Epoch 136/500\n",
            "104/104 [==============================] - 0s 3ms/step - loss: 0.4782 - accuracy: 0.8162 - val_loss: 0.6462 - val_accuracy: 0.7246\n",
            "Epoch 137/500\n",
            "104/104 [==============================] - 0s 3ms/step - loss: 0.4777 - accuracy: 0.8180 - val_loss: 0.6151 - val_accuracy: 0.7585\n",
            "Epoch 138/500\n",
            "104/104 [==============================] - 0s 3ms/step - loss: 0.4697 - accuracy: 0.8186 - val_loss: 0.6421 - val_accuracy: 0.7391\n",
            "Epoch 139/500\n",
            "104/104 [==============================] - 0s 3ms/step - loss: 0.4807 - accuracy: 0.8192 - val_loss: 0.6228 - val_accuracy: 0.7440\n",
            "Epoch 140/500\n",
            "104/104 [==============================] - 0s 3ms/step - loss: 0.4690 - accuracy: 0.8114 - val_loss: 0.6504 - val_accuracy: 0.7536\n",
            "Epoch 141/500\n",
            "104/104 [==============================] - 0s 3ms/step - loss: 0.4660 - accuracy: 0.8089 - val_loss: 0.6130 - val_accuracy: 0.7633\n",
            "Epoch 142/500\n",
            "104/104 [==============================] - 0s 3ms/step - loss: 0.4404 - accuracy: 0.8277 - val_loss: 0.6032 - val_accuracy: 0.7536\n",
            "Epoch 143/500\n",
            "104/104 [==============================] - 0s 3ms/step - loss: 0.4920 - accuracy: 0.7950 - val_loss: 0.6196 - val_accuracy: 0.7585\n",
            "Epoch 144/500\n",
            "104/104 [==============================] - 0s 3ms/step - loss: 0.4564 - accuracy: 0.8216 - val_loss: 0.6349 - val_accuracy: 0.7343\n",
            "Epoch 145/500\n",
            "104/104 [==============================] - 0s 3ms/step - loss: 0.4553 - accuracy: 0.8180 - val_loss: 0.6205 - val_accuracy: 0.7729\n",
            "Epoch 146/500\n",
            "104/104 [==============================] - 0s 3ms/step - loss: 0.4401 - accuracy: 0.8368 - val_loss: 0.5879 - val_accuracy: 0.7585\n",
            "Epoch 147/500\n",
            "104/104 [==============================] - 0s 3ms/step - loss: 0.4521 - accuracy: 0.8253 - val_loss: 0.5959 - val_accuracy: 0.7343\n",
            "Epoch 148/500\n",
            "104/104 [==============================] - 0s 3ms/step - loss: 0.4466 - accuracy: 0.8253 - val_loss: 0.6442 - val_accuracy: 0.7295\n",
            "Epoch 149/500\n",
            "104/104 [==============================] - 0s 3ms/step - loss: 0.4245 - accuracy: 0.8464 - val_loss: 0.6027 - val_accuracy: 0.7826\n",
            "Epoch 150/500\n",
            "104/104 [==============================] - 0s 3ms/step - loss: 0.4433 - accuracy: 0.8253 - val_loss: 0.5927 - val_accuracy: 0.7681\n",
            "Epoch 151/500\n",
            "104/104 [==============================] - 0s 3ms/step - loss: 0.4264 - accuracy: 0.8422 - val_loss: 0.6483 - val_accuracy: 0.7488\n",
            "Epoch 152/500\n",
            "104/104 [==============================] - 0s 3ms/step - loss: 0.4456 - accuracy: 0.8331 - val_loss: 0.5811 - val_accuracy: 0.7923\n",
            "Epoch 153/500\n",
            "104/104 [==============================] - 0s 3ms/step - loss: 0.4042 - accuracy: 0.8440 - val_loss: 0.5978 - val_accuracy: 0.7633\n",
            "Epoch 154/500\n",
            "104/104 [==============================] - 0s 3ms/step - loss: 0.4109 - accuracy: 0.8410 - val_loss: 0.6036 - val_accuracy: 0.7633\n",
            "Epoch 155/500\n",
            "104/104 [==============================] - 0s 3ms/step - loss: 0.4070 - accuracy: 0.8398 - val_loss: 0.6196 - val_accuracy: 0.7585\n",
            "Epoch 156/500\n",
            "104/104 [==============================] - 0s 3ms/step - loss: 0.4182 - accuracy: 0.8495 - val_loss: 0.5874 - val_accuracy: 0.7681\n",
            "Epoch 157/500\n",
            "104/104 [==============================] - 0s 3ms/step - loss: 0.4020 - accuracy: 0.8434 - val_loss: 0.5936 - val_accuracy: 0.7778\n",
            "Epoch 158/500\n",
            "104/104 [==============================] - 0s 3ms/step - loss: 0.4149 - accuracy: 0.8356 - val_loss: 0.5815 - val_accuracy: 0.7681\n",
            "Epoch 159/500\n",
            "104/104 [==============================] - 0s 3ms/step - loss: 0.4162 - accuracy: 0.8434 - val_loss: 0.5600 - val_accuracy: 0.8019\n",
            "Epoch 160/500\n",
            "104/104 [==============================] - 0s 3ms/step - loss: 0.4055 - accuracy: 0.8464 - val_loss: 0.6057 - val_accuracy: 0.7585\n",
            "Epoch 161/500\n",
            "104/104 [==============================] - 0s 3ms/step - loss: 0.4062 - accuracy: 0.8392 - val_loss: 0.5864 - val_accuracy: 0.7633\n",
            "Epoch 162/500\n",
            "104/104 [==============================] - 0s 3ms/step - loss: 0.4176 - accuracy: 0.8404 - val_loss: 0.5686 - val_accuracy: 0.7681\n",
            "Epoch 163/500\n",
            "104/104 [==============================] - 0s 3ms/step - loss: 0.4256 - accuracy: 0.8458 - val_loss: 0.5764 - val_accuracy: 0.7874\n",
            "Epoch 164/500\n",
            "104/104 [==============================] - 0s 3ms/step - loss: 0.3850 - accuracy: 0.8489 - val_loss: 0.5625 - val_accuracy: 0.7923\n",
            "Epoch 165/500\n",
            "104/104 [==============================] - 0s 3ms/step - loss: 0.3975 - accuracy: 0.8458 - val_loss: 0.5721 - val_accuracy: 0.7826\n",
            "Epoch 166/500\n",
            "104/104 [==============================] - 0s 3ms/step - loss: 0.3900 - accuracy: 0.8482 - val_loss: 0.5784 - val_accuracy: 0.7826\n",
            "Epoch 167/500\n",
            "104/104 [==============================] - 0s 3ms/step - loss: 0.3947 - accuracy: 0.8573 - val_loss: 0.6076 - val_accuracy: 0.7488\n",
            "Epoch 168/500\n",
            "104/104 [==============================] - 0s 3ms/step - loss: 0.3987 - accuracy: 0.8476 - val_loss: 0.5639 - val_accuracy: 0.7778\n",
            "Epoch 169/500\n",
            "104/104 [==============================] - 0s 3ms/step - loss: 0.3611 - accuracy: 0.8567 - val_loss: 0.5802 - val_accuracy: 0.7633\n",
            "Epoch 170/500\n",
            "104/104 [==============================] - 0s 3ms/step - loss: 0.3834 - accuracy: 0.8501 - val_loss: 0.5885 - val_accuracy: 0.7971\n",
            "Epoch 171/500\n",
            "104/104 [==============================] - 0s 3ms/step - loss: 0.3909 - accuracy: 0.8525 - val_loss: 0.5822 - val_accuracy: 0.7923\n",
            "Epoch 172/500\n",
            "104/104 [==============================] - 0s 3ms/step - loss: 0.3795 - accuracy: 0.8476 - val_loss: 0.5653 - val_accuracy: 0.7971\n",
            "Epoch 173/500\n",
            "104/104 [==============================] - 0s 3ms/step - loss: 0.3665 - accuracy: 0.8622 - val_loss: 0.5579 - val_accuracy: 0.7778\n",
            "Epoch 174/500\n",
            "104/104 [==============================] - 0s 3ms/step - loss: 0.3759 - accuracy: 0.8513 - val_loss: 0.5397 - val_accuracy: 0.8261\n",
            "Epoch 175/500\n",
            "104/104 [==============================] - 0s 3ms/step - loss: 0.3649 - accuracy: 0.8628 - val_loss: 0.5584 - val_accuracy: 0.7826\n",
            "Epoch 176/500\n",
            "104/104 [==============================] - 0s 3ms/step - loss: 0.4016 - accuracy: 0.8416 - val_loss: 0.5752 - val_accuracy: 0.7729\n",
            "Epoch 177/500\n",
            "104/104 [==============================] - 0s 4ms/step - loss: 0.3547 - accuracy: 0.8585 - val_loss: 0.5534 - val_accuracy: 0.7874\n",
            "Epoch 178/500\n",
            "104/104 [==============================] - 0s 3ms/step - loss: 0.3802 - accuracy: 0.8597 - val_loss: 0.5599 - val_accuracy: 0.7874\n",
            "Epoch 179/500\n",
            "104/104 [==============================] - 0s 3ms/step - loss: 0.3944 - accuracy: 0.8507 - val_loss: 0.5710 - val_accuracy: 0.7874\n",
            "Epoch 180/500\n",
            "104/104 [==============================] - 0s 3ms/step - loss: 0.3484 - accuracy: 0.8700 - val_loss: 0.5827 - val_accuracy: 0.7633\n",
            "Epoch 181/500\n",
            "104/104 [==============================] - 0s 3ms/step - loss: 0.3440 - accuracy: 0.8712 - val_loss: 0.5504 - val_accuracy: 0.7971\n",
            "Epoch 182/500\n",
            "104/104 [==============================] - 0s 3ms/step - loss: 0.3370 - accuracy: 0.8634 - val_loss: 0.5857 - val_accuracy: 0.7874\n",
            "Epoch 183/500\n",
            "104/104 [==============================] - 0s 3ms/step - loss: 0.3488 - accuracy: 0.8761 - val_loss: 0.6701 - val_accuracy: 0.7440\n",
            "Epoch 184/500\n",
            "104/104 [==============================] - 0s 3ms/step - loss: 0.3581 - accuracy: 0.8615 - val_loss: 0.6008 - val_accuracy: 0.7536\n",
            "Epoch 185/500\n",
            "104/104 [==============================] - 0s 3ms/step - loss: 0.3347 - accuracy: 0.8640 - val_loss: 0.5859 - val_accuracy: 0.7874\n",
            "Epoch 186/500\n",
            "104/104 [==============================] - 0s 3ms/step - loss: 0.3527 - accuracy: 0.8676 - val_loss: 0.6029 - val_accuracy: 0.7778\n",
            "Epoch 187/500\n",
            "104/104 [==============================] - 0s 3ms/step - loss: 0.3262 - accuracy: 0.8718 - val_loss: 0.5654 - val_accuracy: 0.8019\n",
            "Epoch 188/500\n",
            "104/104 [==============================] - 0s 3ms/step - loss: 0.3451 - accuracy: 0.8748 - val_loss: 0.6109 - val_accuracy: 0.7633\n",
            "Epoch 189/500\n",
            "104/104 [==============================] - 0s 3ms/step - loss: 0.3679 - accuracy: 0.8597 - val_loss: 0.5574 - val_accuracy: 0.7826\n",
            "Epoch 190/500\n",
            "104/104 [==============================] - 0s 3ms/step - loss: 0.3201 - accuracy: 0.8706 - val_loss: 0.5520 - val_accuracy: 0.8068\n",
            "Epoch 191/500\n",
            "104/104 [==============================] - 0s 3ms/step - loss: 0.3232 - accuracy: 0.8821 - val_loss: 0.5539 - val_accuracy: 0.7826\n",
            "Epoch 192/500\n",
            "104/104 [==============================] - 0s 3ms/step - loss: 0.3363 - accuracy: 0.8827 - val_loss: 0.5916 - val_accuracy: 0.7826\n",
            "Epoch 193/500\n",
            "104/104 [==============================] - 0s 3ms/step - loss: 0.3352 - accuracy: 0.8742 - val_loss: 0.5358 - val_accuracy: 0.8068\n",
            "Epoch 194/500\n",
            "104/104 [==============================] - 0s 3ms/step - loss: 0.3101 - accuracy: 0.8845 - val_loss: 0.5465 - val_accuracy: 0.7923\n",
            "Epoch 195/500\n",
            "104/104 [==============================] - 0s 3ms/step - loss: 0.3540 - accuracy: 0.8670 - val_loss: 0.6132 - val_accuracy: 0.7488\n",
            "Epoch 196/500\n",
            "104/104 [==============================] - 0s 3ms/step - loss: 0.3278 - accuracy: 0.8785 - val_loss: 0.5494 - val_accuracy: 0.7826\n",
            "Epoch 197/500\n",
            "104/104 [==============================] - 0s 3ms/step - loss: 0.3238 - accuracy: 0.8773 - val_loss: 0.5666 - val_accuracy: 0.7874\n",
            "Epoch 198/500\n",
            "104/104 [==============================] - 0s 3ms/step - loss: 0.3234 - accuracy: 0.8785 - val_loss: 0.5488 - val_accuracy: 0.7826\n",
            "Epoch 199/500\n",
            "104/104 [==============================] - 0s 3ms/step - loss: 0.3179 - accuracy: 0.8761 - val_loss: 0.6137 - val_accuracy: 0.7778\n",
            "Epoch 200/500\n",
            "104/104 [==============================] - 0s 3ms/step - loss: 0.3344 - accuracy: 0.8700 - val_loss: 0.6030 - val_accuracy: 0.7585\n",
            "Epoch 201/500\n",
            "104/104 [==============================] - 0s 3ms/step - loss: 0.3257 - accuracy: 0.8767 - val_loss: 0.5947 - val_accuracy: 0.7971\n",
            "Epoch 202/500\n",
            "104/104 [==============================] - 0s 3ms/step - loss: 0.3065 - accuracy: 0.8815 - val_loss: 0.5790 - val_accuracy: 0.7971\n",
            "Epoch 203/500\n",
            "104/104 [==============================] - 0s 3ms/step - loss: 0.3052 - accuracy: 0.8924 - val_loss: 0.5160 - val_accuracy: 0.8164\n",
            "Epoch 204/500\n",
            "104/104 [==============================] - 0s 3ms/step - loss: 0.3073 - accuracy: 0.8875 - val_loss: 0.5360 - val_accuracy: 0.8068\n",
            "Epoch 205/500\n",
            "104/104 [==============================] - 0s 3ms/step - loss: 0.3098 - accuracy: 0.8803 - val_loss: 0.5672 - val_accuracy: 0.7826\n",
            "Epoch 206/500\n",
            "104/104 [==============================] - 0s 3ms/step - loss: 0.3300 - accuracy: 0.8851 - val_loss: 0.5511 - val_accuracy: 0.7826\n",
            "Epoch 207/500\n",
            "104/104 [==============================] - 0s 3ms/step - loss: 0.3325 - accuracy: 0.8718 - val_loss: 0.5597 - val_accuracy: 0.8116\n",
            "Epoch 208/500\n",
            "104/104 [==============================] - 0s 3ms/step - loss: 0.3094 - accuracy: 0.8839 - val_loss: 0.5316 - val_accuracy: 0.7971\n",
            "Epoch 209/500\n",
            "104/104 [==============================] - 0s 3ms/step - loss: 0.3139 - accuracy: 0.8773 - val_loss: 0.5458 - val_accuracy: 0.8019\n",
            "Epoch 210/500\n",
            "104/104 [==============================] - 0s 3ms/step - loss: 0.3032 - accuracy: 0.8851 - val_loss: 0.5538 - val_accuracy: 0.7923\n",
            "Epoch 211/500\n",
            "104/104 [==============================] - 0s 3ms/step - loss: 0.2980 - accuracy: 0.8900 - val_loss: 0.5830 - val_accuracy: 0.8164\n",
            "Epoch 212/500\n",
            "104/104 [==============================] - 0s 3ms/step - loss: 0.3188 - accuracy: 0.8809 - val_loss: 0.5584 - val_accuracy: 0.7923\n",
            "Epoch 213/500\n",
            "104/104 [==============================] - 0s 3ms/step - loss: 0.3204 - accuracy: 0.8809 - val_loss: 0.5432 - val_accuracy: 0.7874\n",
            "Epoch 214/500\n",
            "104/104 [==============================] - 0s 3ms/step - loss: 0.2846 - accuracy: 0.9002 - val_loss: 0.5760 - val_accuracy: 0.7971\n",
            "Epoch 215/500\n",
            "104/104 [==============================] - 0s 3ms/step - loss: 0.3132 - accuracy: 0.8815 - val_loss: 0.5367 - val_accuracy: 0.8019\n",
            "Epoch 216/500\n",
            "104/104 [==============================] - 0s 3ms/step - loss: 0.2977 - accuracy: 0.8869 - val_loss: 0.5661 - val_accuracy: 0.7874\n",
            "Epoch 217/500\n",
            "104/104 [==============================] - 0s 3ms/step - loss: 0.2975 - accuracy: 0.8821 - val_loss: 0.5180 - val_accuracy: 0.7971\n",
            "Epoch 218/500\n",
            "104/104 [==============================] - 0s 3ms/step - loss: 0.3144 - accuracy: 0.8755 - val_loss: 0.5285 - val_accuracy: 0.7874\n",
            "Epoch 219/500\n",
            "104/104 [==============================] - 0s 3ms/step - loss: 0.2566 - accuracy: 0.9081 - val_loss: 0.5464 - val_accuracy: 0.7971\n",
            "Epoch 220/500\n",
            "104/104 [==============================] - 0s 3ms/step - loss: 0.3008 - accuracy: 0.8894 - val_loss: 0.5270 - val_accuracy: 0.7874\n",
            "Epoch 221/500\n",
            "104/104 [==============================] - 0s 3ms/step - loss: 0.2778 - accuracy: 0.8936 - val_loss: 0.5484 - val_accuracy: 0.8068\n",
            "Epoch 222/500\n",
            "104/104 [==============================] - 0s 3ms/step - loss: 0.3033 - accuracy: 0.8869 - val_loss: 0.5396 - val_accuracy: 0.8068\n",
            "Epoch 223/500\n",
            "104/104 [==============================] - 0s 3ms/step - loss: 0.2733 - accuracy: 0.8996 - val_loss: 0.5048 - val_accuracy: 0.8116\n",
            "Epoch 224/500\n",
            "104/104 [==============================] - 0s 3ms/step - loss: 0.2603 - accuracy: 0.9087 - val_loss: 0.5156 - val_accuracy: 0.8213\n",
            "Epoch 225/500\n",
            "104/104 [==============================] - 0s 3ms/step - loss: 0.2654 - accuracy: 0.8978 - val_loss: 0.5181 - val_accuracy: 0.8213\n",
            "Epoch 226/500\n",
            "104/104 [==============================] - 0s 3ms/step - loss: 0.2649 - accuracy: 0.9015 - val_loss: 0.5639 - val_accuracy: 0.8019\n",
            "Epoch 227/500\n",
            "104/104 [==============================] - 0s 3ms/step - loss: 0.2885 - accuracy: 0.8972 - val_loss: 0.5455 - val_accuracy: 0.8019\n",
            "Epoch 228/500\n",
            "104/104 [==============================] - 0s 3ms/step - loss: 0.2708 - accuracy: 0.9051 - val_loss: 0.5656 - val_accuracy: 0.7778\n",
            "Epoch 229/500\n",
            "104/104 [==============================] - 0s 3ms/step - loss: 0.2696 - accuracy: 0.8966 - val_loss: 0.5735 - val_accuracy: 0.7826\n",
            "Epoch 230/500\n",
            "104/104 [==============================] - 0s 3ms/step - loss: 0.2944 - accuracy: 0.8936 - val_loss: 0.5508 - val_accuracy: 0.7971\n",
            "Epoch 231/500\n",
            "104/104 [==============================] - 0s 3ms/step - loss: 0.2639 - accuracy: 0.9015 - val_loss: 0.5681 - val_accuracy: 0.7923\n",
            "Epoch 232/500\n",
            "104/104 [==============================] - 0s 3ms/step - loss: 0.2640 - accuracy: 0.8990 - val_loss: 0.6027 - val_accuracy: 0.7826\n",
            "Epoch 233/500\n",
            "104/104 [==============================] - 0s 3ms/step - loss: 0.2751 - accuracy: 0.8966 - val_loss: 0.5656 - val_accuracy: 0.8068\n",
            "Epoch 234/500\n",
            "104/104 [==============================] - 0s 3ms/step - loss: 0.2700 - accuracy: 0.8966 - val_loss: 0.5539 - val_accuracy: 0.7778\n",
            "Epoch 235/500\n",
            "104/104 [==============================] - 0s 3ms/step - loss: 0.2759 - accuracy: 0.9015 - val_loss: 0.5586 - val_accuracy: 0.7923\n",
            "Epoch 236/500\n",
            "104/104 [==============================] - 0s 3ms/step - loss: 0.2601 - accuracy: 0.9063 - val_loss: 0.5506 - val_accuracy: 0.8019\n",
            "Epoch 237/500\n",
            "104/104 [==============================] - 0s 3ms/step - loss: 0.2484 - accuracy: 0.9141 - val_loss: 0.5602 - val_accuracy: 0.8068\n",
            "Epoch 238/500\n",
            "104/104 [==============================] - 0s 3ms/step - loss: 0.2697 - accuracy: 0.9002 - val_loss: 0.5355 - val_accuracy: 0.7923\n",
            "Epoch 239/500\n",
            "104/104 [==============================] - 0s 3ms/step - loss: 0.2651 - accuracy: 0.8984 - val_loss: 0.5356 - val_accuracy: 0.7923\n",
            "Epoch 240/500\n",
            "104/104 [==============================] - 0s 3ms/step - loss: 0.2732 - accuracy: 0.9033 - val_loss: 0.5134 - val_accuracy: 0.8164\n",
            "Epoch 241/500\n",
            "104/104 [==============================] - 0s 3ms/step - loss: 0.2374 - accuracy: 0.9154 - val_loss: 0.5205 - val_accuracy: 0.8116\n",
            "Epoch 242/500\n",
            "104/104 [==============================] - 0s 3ms/step - loss: 0.2468 - accuracy: 0.9154 - val_loss: 0.5409 - val_accuracy: 0.7923\n",
            "Epoch 243/500\n",
            "104/104 [==============================] - 0s 3ms/step - loss: 0.2709 - accuracy: 0.8996 - val_loss: 0.5068 - val_accuracy: 0.7971\n",
            "Epoch 244/500\n",
            "104/104 [==============================] - 0s 3ms/step - loss: 0.2454 - accuracy: 0.9129 - val_loss: 0.5110 - val_accuracy: 0.8116\n",
            "Epoch 245/500\n",
            "104/104 [==============================] - 0s 3ms/step - loss: 0.2448 - accuracy: 0.9166 - val_loss: 0.5464 - val_accuracy: 0.8213\n",
            "Epoch 246/500\n",
            "104/104 [==============================] - 0s 3ms/step - loss: 0.2315 - accuracy: 0.9160 - val_loss: 0.5370 - val_accuracy: 0.8019\n",
            "Epoch 247/500\n",
            "104/104 [==============================] - 0s 3ms/step - loss: 0.2467 - accuracy: 0.9039 - val_loss: 0.5230 - val_accuracy: 0.7826\n",
            "Epoch 248/500\n",
            "104/104 [==============================] - 0s 3ms/step - loss: 0.2612 - accuracy: 0.9045 - val_loss: 0.5244 - val_accuracy: 0.7971\n"
          ]
        }
      ]
    },
    {
      "cell_type": "code",
      "source": [
        "plt.plot(cnnhistory.history['loss'])\n",
        "plt.plot(cnnhistory.history['val_loss'])\n",
        "plt.title('model loss')\n",
        "plt.ylabel('loss')\n",
        "plt.xlabel('epoch')\n",
        "plt.legend(['train','test'], loc='upper left')\n",
        "plt.show()"
      ],
      "metadata": {
        "id": "oQYnuaCrDH_A",
        "colab": {
          "base_uri": "https://localhost:8080/",
          "height": 295
        },
        "outputId": "a7741a65-3c3d-4deb-fcf9-9b93cccaf944"
      },
      "execution_count": 15,
      "outputs": [
        {
          "output_type": "display_data",
          "data": {
            "text/plain": [
              "<Figure size 432x288 with 1 Axes>"
            ],
            "image/png": "[encoded data removed]"
          },
          "metadata": {
            "needs_background": "light"
          }
        }
      ]
    },
    {
      "cell_type": "code",
      "source": [
        "plt.plot(cnnhistory.history['accuracy'])\n",
        "plt.plot(cnnhistory.history['val_accuracy'])\n",
        "plt.title('model accuracy')\n",
        "plt.ylabel('accuracy')\n",
        "plt.xlabel('epoch')\n",
        "plt.legend(['train','test'], loc='upper left')\n",
        "plt.show()"
      ],
      "metadata": {
        "id": "IFkTuO8nDNdq",
        "colab": {
          "base_uri": "https://localhost:8080/",
          "height": 295
        },
        "outputId": "3bcb6d6f-dc4a-49b2-eada-fa164e646ecc"
      },
      "execution_count": 16,
      "outputs": [
        {
          "output_type": "display_data",
          "data": {
            "text/plain": [
              "<Figure size 432x288 with 1 Axes>"
            ],
            "image/png": "[encoded data removed]"
          },
          "metadata": {
            "needs_background": "light"
          }
        }
      ]
    },
    {
      "cell_type": "code",
      "source": [
        "predictions = model.predict(x_testcnn)"
      ],
      "metadata": {
        "id": "A2xtrN5wDQgY"
      },
      "execution_count": 17,
      "outputs": []
    },
    {
      "cell_type": "code",
      "source": [
        "predictions"
      ],
      "metadata": {
        "id": "_f_ohjXKDUpY",
        "colab": {
          "base_uri": "https://localhost:8080/"
        },
        "outputId": "9302ca82-6b72-4295-9c97-6189ddeeddb9"
      },
      "execution_count": 18,
      "outputs": [
        {
          "output_type": "execute_result",
          "data": {
            "text/plain": [
              "array([[1.99565172e-01, 5.12115890e-03, 4.21106666e-01, 3.09279621e-01,\n",
              "        4.76024598e-02, 1.73249226e-02],\n",
              "       [9.94616057e-05, 4.49111358e-05, 1.52086227e-06, 9.81172144e-01,\n",
              "        8.12748294e-06, 1.86738074e-02],\n",
              "       [2.56454319e-01, 2.99241811e-01, 1.65599380e-02, 4.05218333e-01,\n",
              "        4.68887528e-03, 1.78367328e-02],\n",
              "       ...,\n",
              "       [6.51043774e-06, 4.67942129e-09, 2.02965151e-04, 4.08386659e-05,\n",
              "        9.91891026e-01, 7.85861630e-03],\n",
              "       [1.22665392e-06, 7.78897226e-01, 2.20877200e-01, 1.03251485e-04,\n",
              "        9.05587003e-05, 3.05141530e-05],\n",
              "       [2.15806631e-06, 7.34454488e-07, 3.55032720e-02, 1.22525998e-05,\n",
              "        9.39302087e-01, 2.51794346e-02]], dtype=float32)"
            ]
          },
          "metadata": {},
          "execution_count": 18
        }
      ]
    },
    {
      "cell_type": "code",
      "source": [
        "y_test"
      ],
      "metadata": {
        "id": "cmA2bFgsDW3D",
        "colab": {
          "base_uri": "https://localhost:8080/"
        },
        "outputId": "0f387016-d573-4121-ead1-79a6e2308ff9"
      },
      "execution_count": 19,
      "outputs": [
        {
          "output_type": "execute_result",
          "data": {
            "text/plain": [
              "array([3, 3, 3, 0, 4, 4, 1, 2, 5, 0, 5, 3, 2, 2, 1, 4, 4, 5, 2, 4, 1, 2,\n",
              "       3, 5, 4, 2, 1, 2, 2, 2, 2, 5, 2, 5, 3, 1, 2, 0, 4, 5, 2, 3, 2, 2,\n",
              "       5, 2, 0, 1, 3, 4, 4, 5, 1, 1, 4, 4, 5, 1, 1, 1, 0, 1, 5, 0, 4, 1,\n",
              "       1, 0, 1, 4, 1, 0, 4, 1, 3, 1, 2, 2, 1, 2, 3, 0, 5, 3, 5, 5, 2, 4,\n",
              "       5, 1, 5, 1, 5, 3, 4, 1, 4, 1, 5, 4, 5, 1, 2, 1, 1, 5, 1, 3, 2, 5,\n",
              "       2, 1, 3, 5, 4, 4, 0, 0, 3, 1, 2, 2, 3, 5, 1, 5, 3, 4, 2, 2, 0, 2,\n",
              "       2, 5, 5, 0, 3, 3, 2, 2, 0, 3, 4, 0, 4, 2, 4, 5, 4, 1, 5, 3, 2, 2,\n",
              "       5, 4, 3, 3, 4, 3, 3, 4, 1, 5, 2, 3, 2, 2, 0, 2, 1, 3, 1, 2, 2, 5,\n",
              "       5, 1, 4, 2, 2, 1, 1, 3, 3, 5, 5, 2, 5, 1, 5, 0, 3, 3, 0, 5, 1, 4,\n",
              "       1, 4, 2, 5, 5, 1, 4, 2, 4])"
            ]
          },
          "metadata": {},
          "execution_count": 19
        }
      ]
    },
    {
      "cell_type": "code",
      "source": [
        "new_Ytest = y_test.astype(int)"
      ],
      "metadata": {
        "id": "0PHDKWJWDY3g"
      },
      "execution_count": 20,
      "outputs": []
    },
    {
      "cell_type": "code",
      "source": [
        "new_Ytest"
      ],
      "metadata": {
        "id": "k68v2i-pDbZE",
        "colab": {
          "base_uri": "https://localhost:8080/"
        },
        "outputId": "4116f880-be1e-48b0-bf8d-2a15176b0222"
      },
      "execution_count": 21,
      "outputs": [
        {
          "output_type": "execute_result",
          "data": {
            "text/plain": [
              "array([3, 3, 3, 0, 4, 4, 1, 2, 5, 0, 5, 3, 2, 2, 1, 4, 4, 5, 2, 4, 1, 2,\n",
              "       3, 5, 4, 2, 1, 2, 2, 2, 2, 5, 2, 5, 3, 1, 2, 0, 4, 5, 2, 3, 2, 2,\n",
              "       5, 2, 0, 1, 3, 4, 4, 5, 1, 1, 4, 4, 5, 1, 1, 1, 0, 1, 5, 0, 4, 1,\n",
              "       1, 0, 1, 4, 1, 0, 4, 1, 3, 1, 2, 2, 1, 2, 3, 0, 5, 3, 5, 5, 2, 4,\n",
              "       5, 1, 5, 1, 5, 3, 4, 1, 4, 1, 5, 4, 5, 1, 2, 1, 1, 5, 1, 3, 2, 5,\n",
              "       2, 1, 3, 5, 4, 4, 0, 0, 3, 1, 2, 2, 3, 5, 1, 5, 3, 4, 2, 2, 0, 2,\n",
              "       2, 5, 5, 0, 3, 3, 2, 2, 0, 3, 4, 0, 4, 2, 4, 5, 4, 1, 5, 3, 2, 2,\n",
              "       5, 4, 3, 3, 4, 3, 3, 4, 1, 5, 2, 3, 2, 2, 0, 2, 1, 3, 1, 2, 2, 5,\n",
              "       5, 1, 4, 2, 2, 1, 1, 3, 3, 5, 5, 2, 5, 1, 5, 0, 3, 3, 0, 5, 1, 4,\n",
              "       1, 4, 2, 5, 5, 1, 4, 2, 4])"
            ]
          },
          "metadata": {},
          "execution_count": 21
        }
      ]
    },
    {
      "cell_type": "code",
      "source": [
        "preds1=predictions.argmax(axis=1)\n",
        "preds1"
      ],
      "metadata": {
        "id": "4_cAI39VFhtp",
        "colab": {
          "base_uri": "https://localhost:8080/"
        },
        "outputId": "e08ff0b7-f17a-429c-e3f3-47c29cf64d67"
      },
      "execution_count": 22,
      "outputs": [
        {
          "output_type": "execute_result",
          "data": {
            "text/plain": [
              "array([2, 3, 3, 1, 4, 4, 1, 2, 5, 1, 5, 3, 2, 2, 1, 4, 4, 3, 2, 4, 1, 2,\n",
              "       3, 3, 5, 2, 1, 1, 2, 2, 2, 5, 2, 5, 3, 1, 2, 0, 4, 5, 2, 3, 2, 2,\n",
              "       5, 2, 1, 1, 1, 4, 4, 2, 1, 1, 4, 4, 5, 1, 1, 1, 0, 1, 5, 1, 4, 1,\n",
              "       1, 1, 1, 4, 1, 0, 4, 1, 5, 1, 2, 2, 1, 2, 1, 0, 5, 3, 5, 5, 2, 3,\n",
              "       3, 1, 5, 1, 5, 3, 2, 1, 4, 1, 5, 4, 5, 1, 2, 1, 1, 5, 1, 3, 2, 5,\n",
              "       1, 1, 3, 5, 4, 4, 1, 0, 3, 1, 1, 4, 1, 3, 1, 5, 3, 5, 2, 2, 0, 2,\n",
              "       2, 3, 3, 0, 5, 3, 2, 2, 0, 3, 4, 0, 4, 4, 4, 2, 4, 1, 5, 3, 2, 2,\n",
              "       5, 4, 3, 3, 4, 5, 3, 4, 1, 5, 2, 3, 2, 2, 0, 2, 1, 3, 1, 2, 4, 5,\n",
              "       5, 1, 4, 2, 4, 1, 1, 3, 3, 5, 5, 2, 3, 1, 2, 1, 3, 3, 1, 5, 1, 4,\n",
              "       1, 3, 3, 5, 5, 1, 4, 1, 4])"
            ]
          },
          "metadata": {},
          "execution_count": 22
        }
      ]
    },
    {
      "cell_type": "code",
      "source": [
        "abc = preds1.astype(int).flatten()"
      ],
      "metadata": {
        "id": "H4WEmM60NfQn"
      },
      "execution_count": 23,
      "outputs": []
    },
    {
      "cell_type": "code",
      "source": [
        "from sklearn.metrics import confusion_matrix\n",
        "c = confusion_matrix(new_Ytest, abc) \n",
        "c"
      ],
      "metadata": {
        "id": "bKEBeEBlFjB8",
        "colab": {
          "base_uri": "https://localhost:8080/"
        },
        "outputId": "68eafb7d-0cf6-48d4-e896-79e7f5242b97"
      },
      "execution_count": 24,
      "outputs": [
        {
          "output_type": "execute_result",
          "data": {
            "text/plain": [
              "array([[10,  8,  0,  0,  0,  0],\n",
              "       [ 0, 41,  0,  0,  0,  0],\n",
              "       [ 0,  4, 36,  1,  4,  0],\n",
              "       [ 0,  3,  1, 24,  0,  3],\n",
              "       [ 0,  0,  1,  2, 28,  2],\n",
              "       [ 0,  0,  3,  7,  0, 29]])"
            ]
          },
          "metadata": {},
          "execution_count": 24
        }
      ]
    },
    {
      "cell_type": "code",
      "source": [
        "y_test"
      ],
      "metadata": {
        "id": "m4RjG7LWLSQx",
        "colab": {
          "base_uri": "https://localhost:8080/"
        },
        "outputId": "4cc2def0-dd34-4841-dad1-24028c66cbff"
      },
      "execution_count": 25,
      "outputs": [
        {
          "output_type": "execute_result",
          "data": {
            "text/plain": [
              "array([3, 3, 3, 0, 4, 4, 1, 2, 5, 0, 5, 3, 2, 2, 1, 4, 4, 5, 2, 4, 1, 2,\n",
              "       3, 5, 4, 2, 1, 2, 2, 2, 2, 5, 2, 5, 3, 1, 2, 0, 4, 5, 2, 3, 2, 2,\n",
              "       5, 2, 0, 1, 3, 4, 4, 5, 1, 1, 4, 4, 5, 1, 1, 1, 0, 1, 5, 0, 4, 1,\n",
              "       1, 0, 1, 4, 1, 0, 4, 1, 3, 1, 2, 2, 1, 2, 3, 0, 5, 3, 5, 5, 2, 4,\n",
              "       5, 1, 5, 1, 5, 3, 4, 1, 4, 1, 5, 4, 5, 1, 2, 1, 1, 5, 1, 3, 2, 5,\n",
              "       2, 1, 3, 5, 4, 4, 0, 0, 3, 1, 2, 2, 3, 5, 1, 5, 3, 4, 2, 2, 0, 2,\n",
              "       2, 5, 5, 0, 3, 3, 2, 2, 0, 3, 4, 0, 4, 2, 4, 5, 4, 1, 5, 3, 2, 2,\n",
              "       5, 4, 3, 3, 4, 3, 3, 4, 1, 5, 2, 3, 2, 2, 0, 2, 1, 3, 1, 2, 2, 5,\n",
              "       5, 1, 4, 2, 2, 1, 1, 3, 3, 5, 5, 2, 5, 1, 5, 0, 3, 3, 0, 5, 1, 4,\n",
              "       1, 4, 2, 5, 5, 1, 4, 2, 4])"
            ]
          },
          "metadata": {},
          "execution_count": 25
        }
      ]
    },
    {
      "cell_type": "code",
      "source": [
        "loss, acc =model.evaluate(x_testcnn, y_test)\n",
        "print(\"Restored model, accuracy: {:5.2f}%\".format(100*acc))"
      ],
      "metadata": {
        "id": "n3kzoqPkDqqS",
        "colab": {
          "base_uri": "https://localhost:8080/"
        },
        "outputId": "10aa87c4-bc0d-48aa-a798-ce975e77113f"
      },
      "execution_count": 26,
      "outputs": [
        {
          "output_type": "stream",
          "name": "stdout",
          "text": [
            "7/7 [==============================] - 0s 3ms/step - loss: 0.5335 - accuracy: 0.8116\n",
            "Restored model, accuracy: 81.16%\n"
          ]
        }
      ]
    },
    {
      "cell_type": "code",
      "source": [
        "loss, acc =model.evaluate(X_train, y_train)\n",
        "print(\"Restored model train, accuracy: {:5.2f}%\".format(100*acc))"
      ],
      "metadata": {
        "id": "fJDTGH_OUX0z",
        "colab": {
          "base_uri": "https://localhost:8080/"
        },
        "outputId": "639c3fc6-2c4e-4d05-a26f-daff53bf3dfd"
      },
      "execution_count": 27,
      "outputs": [
        {
          "output_type": "stream",
          "name": "stdout",
          "text": [
            "52/52 [==============================] - 0s 3ms/step - loss: 0.1673 - accuracy: 0.9674\n",
            "Restored model train, accuracy: 96.74%\n"
          ]
        }
      ]
    },
    {
      "cell_type": "code",
      "source": [
        "from sklearn.metrics import classification_report, confusion_matrix,accuracy_score\n",
        "import seaborn as sn\n",
        "\n",
        "print(classification_report(new_Ytest,abc))\n",
        "\n",
        "acc = float(accuracy_score(new_Ytest,abc))*100\n",
        "print(\"----accuracy score %s ----\" % acc)\n",
        "\n",
        "cm = confusion_matrix(new_Ytest,abc)\n",
        "#df_cm = pd.DataFrame(cm)\n",
        "class_names = ['neutral','calm', 'happy','sad','angry', 'fearful' ]\n",
        "df_cm = pd.DataFrame(cm, index=class_names, columns=class_names,)\n",
        "sn.heatmap(df_cm, annot=True, fmt='')\n",
        "plt.show()"
      ],
      "metadata": {
        "id": "SfSC3El94LZg",
        "colab": {
          "base_uri": "https://localhost:8080/",
          "height": 521
        },
        "outputId": "a43e66da-20e8-4731-c2b9-473c247f6443"
      },
      "execution_count": 28,
      "outputs": [
        {
          "output_type": "stream",
          "name": "stdout",
          "text": [
            "              precision    recall  f1-score   support\n",
            "\n",
            "           0       1.00      0.56      0.71        18\n",
            "           1       0.73      1.00      0.85        41\n",
            "           2       0.88      0.80      0.84        45\n",
            "           3       0.71      0.77      0.74        31\n",
            "           4       0.88      0.85      0.86        33\n",
            "           5       0.85      0.74      0.79        39\n",
            "\n",
            "    accuracy                           0.81       207\n",
            "   macro avg       0.84      0.79      0.80       207\n",
            "weighted avg       0.83      0.81      0.81       207\n",
            "\n",
            "----accuracy score 81.15942028985508 ----\n"
          ]
        },
        {
          "output_type": "display_data",
          "data": {
            "text/plain": [
              "<Figure size 432x288 with 2 Axes>"
            ],
            "image/png": "[encoded data removed]"
          },
          "metadata": {
            "needs_background": "light"
          }
        }
      ]
    }
  ]
}