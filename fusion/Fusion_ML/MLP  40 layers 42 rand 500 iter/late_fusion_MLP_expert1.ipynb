{
  "nbformat": 4,
  "nbformat_minor": 0,
  "metadata": {
    "colab": {
      "name": "late_fusion_MLP_expert1.ipynb",
      "provenance": [],
      "collapsed_sections": []
    },
    "kernelspec": {
      "name": "python3",
      "display_name": "Python 3"
    },
    "language_info": {
      "name": "python"
    }
  },
  "cells": [
    {
      "cell_type": "code",
      "source": [
        "# stacked generalization with linear meta model on blobs dataset\n",
        "from sklearn.metrics import accuracy_score\n",
        "from sklearn.linear_model import LogisticRegression\n",
        "from matplotlib import pyplot\n"
      ],
      "metadata": {
        "id": "XQj4f23-Ix-w"
      },
      "execution_count": 1,
      "outputs": []
    },
    {
      "cell_type": "code",
      "source": [
        "from google.colab import drive\n",
        "drive.mount('/content/drive')"
      ],
      "metadata": {
        "colab": {
          "base_uri": "https://localhost:8080/"
        },
        "id": "qj9wMQtlI1os",
        "outputId": "281b9f58-37f4-4609-c1f7-7c01133f068c"
      },
      "execution_count": 2,
      "outputs": [
        {
          "output_type": "stream",
          "name": "stdout",
          "text": [
            "Drive already mounted at /content/drive; to attempt to forcibly remount, call drive.mount(\"/content/drive\", force_remount=True).\n"
          ]
        }
      ]
    },
    {
      "cell_type": "code",
      "source": [
        "#x_train  y_train to train\n",
        "#x_test   y_test to test\n",
        "#x_valid  y_valid \n",
        "#video\n",
        "import joblib\n",
        "x_test_prediction = joblib.load('/content/drive/My Drive/fusion/video/data_set_fusion/expert1/test/pred_test')\n",
        "x_train_prediction = joblib.load('/content/drive/My Drive/fusion/video/data_set_fusion/expert1/train/pred_train')\n",
        "x_valid_prediction = joblib.load('/content/drive/My Drive/fusion/video/data_set_fusion/expert1/valid/pred_valid')\n",
        "y_test = joblib.load('/content/drive/My Drive/fusion/video/data_set_fusion/expert1/test/labels_test')\n",
        "y_train = joblib.load('/content/drive/My Drive/fusion/video/data_set_fusion/expert1/train/labels_train')\n",
        "y_valid = joblib.load('/content/drive/My Drive/fusion/video/data_set_fusion/expert1/valid/labels_valid')\n",
        "#audio\n",
        "\n",
        "x_audio_test_prediction = joblib.load('/content/drive/My Drive/fusion/audio/new_data_set_fusion/expert1/test/predict_test')\n",
        "x_audio_train_prediction = joblib.load('/content/drive/My Drive/fusion/audio/new_data_set_fusion/expert1/train/predict_train')\n",
        "x_audio_valid_prediction = joblib.load('/content/drive/My Drive/fusion/audio/new_data_set_fusion/expert1/valid/predict_valid')\n",
        "\"\"\"\n",
        "#samples name\n",
        "test_videos= joblib.load('/content/drive/My Drive/fusion/video/data_set_fusion/expert1/test/video_test_path')\n",
        "train_videos = joblib.load('/content/drive/My Drive/fusion/video/data_set_fusion/expert1/train/video_train_path')\n",
        "valid_videos = joblib.load('/content/drive/My Drive/fusion/video/data_set_fusion/expert1/valid/video_valid_path')\n",
        "\"\"\""
      ],
      "metadata": {
        "id": "gb8C-44ct_Yp",
        "colab": {
          "base_uri": "https://localhost:8080/",
          "height": 55
        },
        "outputId": "a544b8f1-44de-45b5-d9ac-f60f1de42ab1"
      },
      "execution_count": 3,
      "outputs": [
        {
          "output_type": "execute_result",
          "data": {
            "text/plain": [
              "\"\\n#samples name\\ntest_videos= joblib.load('/content/drive/My Drive/fusion/video/data_set_fusion/expert1/test/video_test_path')\\ntrain_videos = joblib.load('/content/drive/My Drive/fusion/video/data_set_fusion/expert1/train/video_train_path')\\nvalid_videos = joblib.load('/content/drive/My Drive/fusion/video/data_set_fusion/expert1/valid/video_valid_path')\\n\""
            ],
            "application/vnd.google.colaboratory.intrinsic+json": {
              "type": "string"
            }
          },
          "metadata": {},
          "execution_count": 3
        }
      ]
    },
    {
      "cell_type": "code",
      "source": [
        "len(x_test_prediction),len(x_train_prediction),len(x_audio_test_prediction),len(x_audio_train_prediction),len(x_valid_prediction),len(x_audio_valid_prediction)"
      ],
      "metadata": {
        "colab": {
          "base_uri": "https://localhost:8080/"
        },
        "id": "Qz1Z3Vgdxaaw",
        "outputId": "537c15ae-2c5b-4044-bc72-4478ddd86c0a"
      },
      "execution_count": 4,
      "outputs": [
        {
          "output_type": "execute_result",
          "data": {
            "text/plain": [
              "(207, 1653, 207, 1653, 207, 207)"
            ]
          },
          "metadata": {},
          "execution_count": 4
        }
      ]
    },
    {
      "cell_type": "code",
      "source": [
        "#x_train for video\n",
        "x_train_prediction=x_train_prediction.append(x_valid_prediction,ignore_index = True)\n",
        "#x_train for audio\n",
        "x_audio_train_prediction=x_audio_train_prediction.append(x_audio_valid_prediction,ignore_index = True)"
      ],
      "metadata": {
        "id": "QgDf-FF0utgP"
      },
      "execution_count": 5,
      "outputs": []
    },
    {
      "cell_type": "code",
      "source": [
        "len(x_audio_train_prediction),len(x_train_prediction)"
      ],
      "metadata": {
        "colab": {
          "base_uri": "https://localhost:8080/"
        },
        "id": "3G4-X-MLv79s",
        "outputId": "5c13484c-9b54-477d-df74-aa15ffbc9f54"
      },
      "execution_count": 6,
      "outputs": [
        {
          "output_type": "execute_result",
          "data": {
            "text/plain": [
              "(1860, 1860)"
            ]
          },
          "metadata": {},
          "execution_count": 6
        }
      ]
    },
    {
      "cell_type": "code",
      "source": [
        "from pandas.core.frame import DataFrame\n",
        "df_train=DataFrame(y_train,columns=['labels'])\n",
        "df_valid=DataFrame(y_valid,columns=['labels'])"
      ],
      "metadata": {
        "id": "JrYaQCyZw06M"
      },
      "execution_count": 7,
      "outputs": []
    },
    {
      "cell_type": "code",
      "source": [
        "df_train=df_train.append(df_valid,ignore_index = True)"
      ],
      "metadata": {
        "id": "Rq3yhw26xjfy"
      },
      "execution_count": 8,
      "outputs": []
    },
    {
      "cell_type": "code",
      "source": [
        "len(df_train)"
      ],
      "metadata": {
        "colab": {
          "base_uri": "https://localhost:8080/"
        },
        "id": "dvYKmNurx1KR",
        "outputId": "d8f0c033-1ce2-49cc-d90e-ee4fed95b8d6"
      },
      "execution_count": 9,
      "outputs": [
        {
          "output_type": "execute_result",
          "data": {
            "text/plain": [
              "1860"
            ]
          },
          "metadata": {},
          "execution_count": 9
        }
      ]
    },
    {
      "cell_type": "code",
      "source": [
        "df_train"
      ],
      "metadata": {
        "colab": {
          "base_uri": "https://localhost:8080/",
          "height": 424
        },
        "id": "Pfp2YX591X1F",
        "outputId": "df0eb538-305e-4e2e-e7d3-88205d3b2d5b"
      },
      "execution_count": 10,
      "outputs": [
        {
          "output_type": "execute_result",
          "data": {
            "text/plain": [
              "      labels\n",
              "0          3\n",
              "1          2\n",
              "2          5\n",
              "3          1\n",
              "4          4\n",
              "...      ...\n",
              "1855       1\n",
              "1856       5\n",
              "1857       4\n",
              "1858       5\n",
              "1859       4\n",
              "\n",
              "[1860 rows x 1 columns]"
            ],
            "text/html": [
              "\n",
              "  <div id=\"df-b62bb6d9-d443-4220-8786-700b0cc7f658\">\n",
              "    <div class=\"colab-df-container\">\n",
              "      <div>\n",
              "<style scoped>\n",
              "    .dataframe tbody tr th:only-of-type {\n",
              "        vertical-align: middle;\n",
              "    }\n",
              "\n",
              "    .dataframe tbody tr th {\n",
              "        vertical-align: top;\n",
              "    }\n",
              "\n",
              "    .dataframe thead th {\n",
              "        text-align: right;\n",
              "    }\n",
              "</style>\n",
              "<table border=\"1\" class=\"dataframe\">\n",
              "  <thead>\n",
              "    <tr style=\"text-align: right;\">\n",
              "      <th></th>\n",
              "      <th>labels</th>\n",
              "    </tr>\n",
              "  </thead>\n",
              "  <tbody>\n",
              "    <tr>\n",
              "      <th>0</th>\n",
              "      <td>3</td>\n",
              "    </tr>\n",
              "    <tr>\n",
              "      <th>1</th>\n",
              "      <td>2</td>\n",
              "    </tr>\n",
              "    <tr>\n",
              "      <th>2</th>\n",
              "      <td>5</td>\n",
              "    </tr>\n",
              "    <tr>\n",
              "      <th>3</th>\n",
              "      <td>1</td>\n",
              "    </tr>\n",
              "    <tr>\n",
              "      <th>4</th>\n",
              "      <td>4</td>\n",
              "    </tr>\n",
              "    <tr>\n",
              "      <th>...</th>\n",
              "      <td>...</td>\n",
              "    </tr>\n",
              "    <tr>\n",
              "      <th>1855</th>\n",
              "      <td>1</td>\n",
              "    </tr>\n",
              "    <tr>\n",
              "      <th>1856</th>\n",
              "      <td>5</td>\n",
              "    </tr>\n",
              "    <tr>\n",
              "      <th>1857</th>\n",
              "      <td>4</td>\n",
              "    </tr>\n",
              "    <tr>\n",
              "      <th>1858</th>\n",
              "      <td>5</td>\n",
              "    </tr>\n",
              "    <tr>\n",
              "      <th>1859</th>\n",
              "      <td>4</td>\n",
              "    </tr>\n",
              "  </tbody>\n",
              "</table>\n",
              "<p>1860 rows × 1 columns</p>\n",
              "</div>\n",
              "      <button class=\"colab-df-convert\" onclick=\"convertToInteractive('df-b62bb6d9-d443-4220-8786-700b0cc7f658')\"\n",
              "              title=\"Convert this dataframe to an interactive table.\"\n",
              "              style=\"display:none;\">\n",
              "        \n",
              "  <svg xmlns=\"http://www.w3.org/2000/svg\" height=\"24px\"viewBox=\"0 0 24 24\"\n",
              "       width=\"24px\">\n",
              "    <path d=\"M0 0h24v24H0V0z\" fill=\"none\"/>\n",
              "    <path d=\"M18.56 5.44l.94 2.06.94-2.06 2.06-.94-2.06-.94-.94-2.06-.94 2.06-2.06.94zm-11 1L8.5 8.5l.94-2.06 2.06-.94-2.06-.94L8.5 2.5l-.94 2.06-2.06.94zm10 10l.94 2.06.94-2.06 2.06-.94-2.06-.94-.94-2.06-.94 2.06-2.06.94z\"/><path d=\"M17.41 7.96l-1.37-1.37c-.4-.4-.92-.59-1.43-.59-.52 0-1.04.2-1.43.59L10.3 9.45l-7.72 7.72c-.78.78-.78 2.05 0 2.83L4 21.41c.39.39.9.59 1.41.59.51 0 1.02-.2 1.41-.59l7.78-7.78 2.81-2.81c.8-.78.8-2.07 0-2.86zM5.41 20L4 18.59l7.72-7.72 1.47 1.35L5.41 20z\"/>\n",
              "  </svg>\n",
              "      </button>\n",
              "      \n",
              "  <style>\n",
              "    .colab-df-container {\n",
              "      display:flex;\n",
              "      flex-wrap:wrap;\n",
              "      gap: 12px;\n",
              "    }\n",
              "\n",
              "    .colab-df-convert {\n",
              "      background-color: #E8F0FE;\n",
              "      border: none;\n",
              "      border-radius: 50%;\n",
              "      cursor: pointer;\n",
              "      display: none;\n",
              "      fill: #1967D2;\n",
              "      height: 32px;\n",
              "      padding: 0 0 0 0;\n",
              "      width: 32px;\n",
              "    }\n",
              "\n",
              "    .colab-df-convert:hover {\n",
              "      background-color: #E2EBFA;\n",
              "      box-shadow: 0px 1px 2px rgba(60, 64, 67, 0.3), 0px 1px 3px 1px rgba(60, 64, 67, 0.15);\n",
              "      fill: #174EA6;\n",
              "    }\n",
              "\n",
              "    [theme=dark] .colab-df-convert {\n",
              "      background-color: #3B4455;\n",
              "      fill: #D2E3FC;\n",
              "    }\n",
              "\n",
              "    [theme=dark] .colab-df-convert:hover {\n",
              "      background-color: #434B5C;\n",
              "      box-shadow: 0px 1px 3px 1px rgba(0, 0, 0, 0.15);\n",
              "      filter: drop-shadow(0px 1px 2px rgba(0, 0, 0, 0.3));\n",
              "      fill: #FFFFFF;\n",
              "    }\n",
              "  </style>\n",
              "\n",
              "      <script>\n",
              "        const buttonEl =\n",
              "          document.querySelector('#df-b62bb6d9-d443-4220-8786-700b0cc7f658 button.colab-df-convert');\n",
              "        buttonEl.style.display =\n",
              "          google.colab.kernel.accessAllowed ? 'block' : 'none';\n",
              "\n",
              "        async function convertToInteractive(key) {\n",
              "          const element = document.querySelector('#df-b62bb6d9-d443-4220-8786-700b0cc7f658');\n",
              "          const dataTable =\n",
              "            await google.colab.kernel.invokeFunction('convertToInteractive',\n",
              "                                                     [key], {});\n",
              "          if (!dataTable) return;\n",
              "\n",
              "          const docLinkHtml = 'Like what you see? Visit the ' +\n",
              "            '<a target=\"_blank\" href=https://colab.research.google.com/notebooks/data_table.ipynb>data table notebook</a>'\n",
              "            + ' to learn more about interactive tables.';\n",
              "          element.innerHTML = '';\n",
              "          dataTable['output_type'] = 'display_data';\n",
              "          await google.colab.output.renderOutput(dataTable, element);\n",
              "          const docLink = document.createElement('div');\n",
              "          docLink.innerHTML = docLinkHtml;\n",
              "          element.appendChild(docLink);\n",
              "        }\n",
              "      </script>\n",
              "    </div>\n",
              "  </div>\n",
              "  "
            ]
          },
          "metadata": {},
          "execution_count": 10
        }
      ]
    },
    {
      "cell_type": "code",
      "source": [
        "import pandas as pd\n",
        "\n",
        "x_train = pd.concat([x_train_prediction, x_audio_train_prediction], axis=1,join='inner')\n",
        "x_test =  pd.concat([x_test_prediction, x_audio_test_prediction], axis=1,join='inner')"
      ],
      "metadata": {
        "id": "sbkgIXaFwKwh"
      },
      "execution_count": 11,
      "outputs": []
    },
    {
      "cell_type": "code",
      "source": [
        "x_test"
      ],
      "metadata": {
        "colab": {
          "base_uri": "https://localhost:8080/",
          "height": 424
        },
        "id": "78gEQ1w7w_fd",
        "outputId": "0eedff31-f29c-4dfa-824c-cc080b334cef"
      },
      "execution_count": 12,
      "outputs": [
        {
          "output_type": "execute_result",
          "data": {
            "text/plain": [
              "             OV_0      OV_1      OV_2      OV_3      OV_4      OV_5  \\\n",
              "0    9.868231e-01  0.003875  0.000017  0.008416  0.000144  0.000724   \n",
              "1    4.480442e-05  0.002354  0.000122  0.969830  0.001741  0.025908   \n",
              "2    3.244231e-07  0.000087  0.999900  0.000006  0.000001  0.000006   \n",
              "3    7.267597e-05  0.000142  0.000079  0.107955  0.000029  0.891723   \n",
              "4    5.066096e-04  0.001949  0.000253  0.029472  0.000321  0.967497   \n",
              "..            ...       ...       ...       ...       ...       ...   \n",
              "202  5.786679e-05  0.000258  0.000029  0.000694  0.004409  0.994552   \n",
              "203  1.949344e-07  0.000052  0.999928  0.000009  0.000001  0.000009   \n",
              "204  1.627866e-03  0.004693  0.000329  0.004044  0.831949  0.157358   \n",
              "205  4.316892e-05  0.000232  0.000092  0.003479  0.823165  0.172989   \n",
              "206  4.524051e-04  0.997560  0.001718  0.000254  0.000008  0.000007   \n",
              "\n",
              "             OA_0          OA_1          OA_2          OA_3          OA_4  \\\n",
              "0    9.999965e-01  3.050597e-08  4.180201e-11  3.544984e-08  2.818289e-06   \n",
              "1    3.293480e-12  5.757380e-10  2.715425e-11  9.999076e-01  5.853965e-08   \n",
              "2    9.133354e-08  5.190801e-09  9.998800e-01  1.377784e-06  1.065082e-07   \n",
              "3    1.149370e-02  2.589215e-03  4.142054e-03  1.571160e-01  7.270838e-02   \n",
              "4    4.259465e-07  8.716989e-01  6.219706e-05  1.255680e-01  4.994594e-06   \n",
              "..            ...           ...           ...           ...           ...   \n",
              "202  6.368382e-08  5.830236e-09  2.907437e-04  8.280055e-05  1.148807e-01   \n",
              "203  1.124625e-10  3.719832e-09  9.997450e-01  8.501186e-08  2.549505e-04   \n",
              "204  3.668804e-04  1.806214e-04  5.962101e-03  5.036101e-04  9.764073e-01   \n",
              "205  3.250004e-10  1.842577e-07  2.729654e-06  3.829209e-09  9.979839e-01   \n",
              "206  7.341146e-16  9.999995e-01  4.934175e-07  9.956390e-09  8.256297e-16   \n",
              "\n",
              "             OA_5  \n",
              "0    6.458926e-07  \n",
              "1    9.237029e-05  \n",
              "2    1.183443e-04  \n",
              "3    7.519507e-01  \n",
              "4    2.665530e-03  \n",
              "..            ...  \n",
              "202  8.847458e-01  \n",
              "203  1.208748e-08  \n",
              "204  1.657945e-02  \n",
              "205  2.013060e-03  \n",
              "206  1.990102e-16  \n",
              "\n",
              "[207 rows x 12 columns]"
            ],
            "text/html": [
              "\n",
              "  <div id=\"df-95823650-26c8-4336-b93a-629afe89d85d\">\n",
              "    <div class=\"colab-df-container\">\n",
              "      <div>\n",
              "<style scoped>\n",
              "    .dataframe tbody tr th:only-of-type {\n",
              "        vertical-align: middle;\n",
              "    }\n",
              "\n",
              "    .dataframe tbody tr th {\n",
              "        vertical-align: top;\n",
              "    }\n",
              "\n",
              "    .dataframe thead th {\n",
              "        text-align: right;\n",
              "    }\n",
              "</style>\n",
              "<table border=\"1\" class=\"dataframe\">\n",
              "  <thead>\n",
              "    <tr style=\"text-align: right;\">\n",
              "      <th></th>\n",
              "      <th>OV_0</th>\n",
              "      <th>OV_1</th>\n",
              "      <th>OV_2</th>\n",
              "      <th>OV_3</th>\n",
              "      <th>OV_4</th>\n",
              "      <th>OV_5</th>\n",
              "      <th>OA_0</th>\n",
              "      <th>OA_1</th>\n",
              "      <th>OA_2</th>\n",
              "      <th>OA_3</th>\n",
              "      <th>OA_4</th>\n",
              "      <th>OA_5</th>\n",
              "    </tr>\n",
              "  </thead>\n",
              "  <tbody>\n",
              "    <tr>\n",
              "      <th>0</th>\n",
              "      <td>9.868231e-01</td>\n",
              "      <td>0.003875</td>\n",
              "      <td>0.000017</td>\n",
              "      <td>0.008416</td>\n",
              "      <td>0.000144</td>\n",
              "      <td>0.000724</td>\n",
              "      <td>9.999965e-01</td>\n",
              "      <td>3.050597e-08</td>\n",
              "      <td>4.180201e-11</td>\n",
              "      <td>3.544984e-08</td>\n",
              "      <td>2.818289e-06</td>\n",
              "      <td>6.458926e-07</td>\n",
              "    </tr>\n",
              "    <tr>\n",
              "      <th>1</th>\n",
              "      <td>4.480442e-05</td>\n",
              "      <td>0.002354</td>\n",
              "      <td>0.000122</td>\n",
              "      <td>0.969830</td>\n",
              "      <td>0.001741</td>\n",
              "      <td>0.025908</td>\n",
              "      <td>3.293480e-12</td>\n",
              "      <td>5.757380e-10</td>\n",
              "      <td>2.715425e-11</td>\n",
              "      <td>9.999076e-01</td>\n",
              "      <td>5.853965e-08</td>\n",
              "      <td>9.237029e-05</td>\n",
              "    </tr>\n",
              "    <tr>\n",
              "      <th>2</th>\n",
              "      <td>3.244231e-07</td>\n",
              "      <td>0.000087</td>\n",
              "      <td>0.999900</td>\n",
              "      <td>0.000006</td>\n",
              "      <td>0.000001</td>\n",
              "      <td>0.000006</td>\n",
              "      <td>9.133354e-08</td>\n",
              "      <td>5.190801e-09</td>\n",
              "      <td>9.998800e-01</td>\n",
              "      <td>1.377784e-06</td>\n",
              "      <td>1.065082e-07</td>\n",
              "      <td>1.183443e-04</td>\n",
              "    </tr>\n",
              "    <tr>\n",
              "      <th>3</th>\n",
              "      <td>7.267597e-05</td>\n",
              "      <td>0.000142</td>\n",
              "      <td>0.000079</td>\n",
              "      <td>0.107955</td>\n",
              "      <td>0.000029</td>\n",
              "      <td>0.891723</td>\n",
              "      <td>1.149370e-02</td>\n",
              "      <td>2.589215e-03</td>\n",
              "      <td>4.142054e-03</td>\n",
              "      <td>1.571160e-01</td>\n",
              "      <td>7.270838e-02</td>\n",
              "      <td>7.519507e-01</td>\n",
              "    </tr>\n",
              "    <tr>\n",
              "      <th>4</th>\n",
              "      <td>5.066096e-04</td>\n",
              "      <td>0.001949</td>\n",
              "      <td>0.000253</td>\n",
              "      <td>0.029472</td>\n",
              "      <td>0.000321</td>\n",
              "      <td>0.967497</td>\n",
              "      <td>4.259465e-07</td>\n",
              "      <td>8.716989e-01</td>\n",
              "      <td>6.219706e-05</td>\n",
              "      <td>1.255680e-01</td>\n",
              "      <td>4.994594e-06</td>\n",
              "      <td>2.665530e-03</td>\n",
              "    </tr>\n",
              "    <tr>\n",
              "      <th>...</th>\n",
              "      <td>...</td>\n",
              "      <td>...</td>\n",
              "      <td>...</td>\n",
              "      <td>...</td>\n",
              "      <td>...</td>\n",
              "      <td>...</td>\n",
              "      <td>...</td>\n",
              "      <td>...</td>\n",
              "      <td>...</td>\n",
              "      <td>...</td>\n",
              "      <td>...</td>\n",
              "      <td>...</td>\n",
              "    </tr>\n",
              "    <tr>\n",
              "      <th>202</th>\n",
              "      <td>5.786679e-05</td>\n",
              "      <td>0.000258</td>\n",
              "      <td>0.000029</td>\n",
              "      <td>0.000694</td>\n",
              "      <td>0.004409</td>\n",
              "      <td>0.994552</td>\n",
              "      <td>6.368382e-08</td>\n",
              "      <td>5.830236e-09</td>\n",
              "      <td>2.907437e-04</td>\n",
              "      <td>8.280055e-05</td>\n",
              "      <td>1.148807e-01</td>\n",
              "      <td>8.847458e-01</td>\n",
              "    </tr>\n",
              "    <tr>\n",
              "      <th>203</th>\n",
              "      <td>1.949344e-07</td>\n",
              "      <td>0.000052</td>\n",
              "      <td>0.999928</td>\n",
              "      <td>0.000009</td>\n",
              "      <td>0.000001</td>\n",
              "      <td>0.000009</td>\n",
              "      <td>1.124625e-10</td>\n",
              "      <td>3.719832e-09</td>\n",
              "      <td>9.997450e-01</td>\n",
              "      <td>8.501186e-08</td>\n",
              "      <td>2.549505e-04</td>\n",
              "      <td>1.208748e-08</td>\n",
              "    </tr>\n",
              "    <tr>\n",
              "      <th>204</th>\n",
              "      <td>1.627866e-03</td>\n",
              "      <td>0.004693</td>\n",
              "      <td>0.000329</td>\n",
              "      <td>0.004044</td>\n",
              "      <td>0.831949</td>\n",
              "      <td>0.157358</td>\n",
              "      <td>3.668804e-04</td>\n",
              "      <td>1.806214e-04</td>\n",
              "      <td>5.962101e-03</td>\n",
              "      <td>5.036101e-04</td>\n",
              "      <td>9.764073e-01</td>\n",
              "      <td>1.657945e-02</td>\n",
              "    </tr>\n",
              "    <tr>\n",
              "      <th>205</th>\n",
              "      <td>4.316892e-05</td>\n",
              "      <td>0.000232</td>\n",
              "      <td>0.000092</td>\n",
              "      <td>0.003479</td>\n",
              "      <td>0.823165</td>\n",
              "      <td>0.172989</td>\n",
              "      <td>3.250004e-10</td>\n",
              "      <td>1.842577e-07</td>\n",
              "      <td>2.729654e-06</td>\n",
              "      <td>3.829209e-09</td>\n",
              "      <td>9.979839e-01</td>\n",
              "      <td>2.013060e-03</td>\n",
              "    </tr>\n",
              "    <tr>\n",
              "      <th>206</th>\n",
              "      <td>4.524051e-04</td>\n",
              "      <td>0.997560</td>\n",
              "      <td>0.001718</td>\n",
              "      <td>0.000254</td>\n",
              "      <td>0.000008</td>\n",
              "      <td>0.000007</td>\n",
              "      <td>7.341146e-16</td>\n",
              "      <td>9.999995e-01</td>\n",
              "      <td>4.934175e-07</td>\n",
              "      <td>9.956390e-09</td>\n",
              "      <td>8.256297e-16</td>\n",
              "      <td>1.990102e-16</td>\n",
              "    </tr>\n",
              "  </tbody>\n",
              "</table>\n",
              "<p>207 rows × 12 columns</p>\n",
              "</div>\n",
              "      <button class=\"colab-df-convert\" onclick=\"convertToInteractive('df-95823650-26c8-4336-b93a-629afe89d85d')\"\n",
              "              title=\"Convert this dataframe to an interactive table.\"\n",
              "              style=\"display:none;\">\n",
              "        \n",
              "  <svg xmlns=\"http://www.w3.org/2000/svg\" height=\"24px\"viewBox=\"0 0 24 24\"\n",
              "       width=\"24px\">\n",
              "    <path d=\"M0 0h24v24H0V0z\" fill=\"none\"/>\n",
              "    <path d=\"M18.56 5.44l.94 2.06.94-2.06 2.06-.94-2.06-.94-.94-2.06-.94 2.06-2.06.94zm-11 1L8.5 8.5l.94-2.06 2.06-.94-2.06-.94L8.5 2.5l-.94 2.06-2.06.94zm10 10l.94 2.06.94-2.06 2.06-.94-2.06-.94-.94-2.06-.94 2.06-2.06.94z\"/><path d=\"M17.41 7.96l-1.37-1.37c-.4-.4-.92-.59-1.43-.59-.52 0-1.04.2-1.43.59L10.3 9.45l-7.72 7.72c-.78.78-.78 2.05 0 2.83L4 21.41c.39.39.9.59 1.41.59.51 0 1.02-.2 1.41-.59l7.78-7.78 2.81-2.81c.8-.78.8-2.07 0-2.86zM5.41 20L4 18.59l7.72-7.72 1.47 1.35L5.41 20z\"/>\n",
              "  </svg>\n",
              "      </button>\n",
              "      \n",
              "  <style>\n",
              "    .colab-df-container {\n",
              "      display:flex;\n",
              "      flex-wrap:wrap;\n",
              "      gap: 12px;\n",
              "    }\n",
              "\n",
              "    .colab-df-convert {\n",
              "      background-color: #E8F0FE;\n",
              "      border: none;\n",
              "      border-radius: 50%;\n",
              "      cursor: pointer;\n",
              "      display: none;\n",
              "      fill: #1967D2;\n",
              "      height: 32px;\n",
              "      padding: 0 0 0 0;\n",
              "      width: 32px;\n",
              "    }\n",
              "\n",
              "    .colab-df-convert:hover {\n",
              "      background-color: #E2EBFA;\n",
              "      box-shadow: 0px 1px 2px rgba(60, 64, 67, 0.3), 0px 1px 3px 1px rgba(60, 64, 67, 0.15);\n",
              "      fill: #174EA6;\n",
              "    }\n",
              "\n",
              "    [theme=dark] .colab-df-convert {\n",
              "      background-color: #3B4455;\n",
              "      fill: #D2E3FC;\n",
              "    }\n",
              "\n",
              "    [theme=dark] .colab-df-convert:hover {\n",
              "      background-color: #434B5C;\n",
              "      box-shadow: 0px 1px 3px 1px rgba(0, 0, 0, 0.15);\n",
              "      filter: drop-shadow(0px 1px 2px rgba(0, 0, 0, 0.3));\n",
              "      fill: #FFFFFF;\n",
              "    }\n",
              "  </style>\n",
              "\n",
              "      <script>\n",
              "        const buttonEl =\n",
              "          document.querySelector('#df-95823650-26c8-4336-b93a-629afe89d85d button.colab-df-convert');\n",
              "        buttonEl.style.display =\n",
              "          google.colab.kernel.accessAllowed ? 'block' : 'none';\n",
              "\n",
              "        async function convertToInteractive(key) {\n",
              "          const element = document.querySelector('#df-95823650-26c8-4336-b93a-629afe89d85d');\n",
              "          const dataTable =\n",
              "            await google.colab.kernel.invokeFunction('convertToInteractive',\n",
              "                                                     [key], {});\n",
              "          if (!dataTable) return;\n",
              "\n",
              "          const docLinkHtml = 'Like what you see? Visit the ' +\n",
              "            '<a target=\"_blank\" href=https://colab.research.google.com/notebooks/data_table.ipynb>data table notebook</a>'\n",
              "            + ' to learn more about interactive tables.';\n",
              "          element.innerHTML = '';\n",
              "          dataTable['output_type'] = 'display_data';\n",
              "          await google.colab.output.renderOutput(dataTable, element);\n",
              "          const docLink = document.createElement('div');\n",
              "          docLink.innerHTML = docLinkHtml;\n",
              "          element.appendChild(docLink);\n",
              "        }\n",
              "      </script>\n",
              "    </div>\n",
              "  </div>\n",
              "  "
            ]
          },
          "metadata": {},
          "execution_count": 12
        }
      ]
    },
    {
      "cell_type": "code",
      "source": [
        "len(x_test),len(x_train)"
      ],
      "metadata": {
        "colab": {
          "base_uri": "https://localhost:8080/"
        },
        "id": "ryRQjTkUyZJv",
        "outputId": "6f86801a-33e8-4424-ecf7-3c22494219bd"
      },
      "execution_count": 13,
      "outputs": [
        {
          "output_type": "execute_result",
          "data": {
            "text/plain": [
              "(207, 1860)"
            ]
          },
          "metadata": {},
          "execution_count": 13
        }
      ]
    },
    {
      "cell_type": "code",
      "source": [
        "x_train"
      ],
      "metadata": {
        "colab": {
          "base_uri": "https://localhost:8080/",
          "height": 424
        },
        "id": "1e5kgXiFwzx3",
        "outputId": "d4c0f91b-4031-45f6-d70b-0c6ee66aa0e8"
      },
      "execution_count": 14,
      "outputs": [
        {
          "output_type": "execute_result",
          "data": {
            "text/plain": [
              "              OV_0      OV_1      OV_2      OV_3      OV_4      OV_5  \\\n",
              "0     3.139591e-05  0.000790  0.000003  0.998874  0.000018  0.000285   \n",
              "1     1.103409e-07  0.000032  0.999933  0.000022  0.000001  0.000011   \n",
              "2     7.565987e-03  0.003240  0.000197  0.093270  0.000536  0.895191   \n",
              "3     9.221826e-04  0.972584  0.026023  0.000381  0.000035  0.000054   \n",
              "4     1.234611e-04  0.000554  0.000002  0.003309  0.995933  0.000079   \n",
              "...            ...       ...       ...       ...       ...       ...   \n",
              "1855  2.386935e-03  0.992171  0.004256  0.001075  0.000007  0.000105   \n",
              "1856  9.088054e-02  0.003614  0.000219  0.675536  0.000492  0.229259   \n",
              "1857  6.606330e-06  0.000776  0.000345  0.000146  0.992820  0.005906   \n",
              "1858  9.965926e-05  0.000174  0.000029  0.001711  0.000860  0.997127   \n",
              "1859  2.576359e-07  0.000035  0.000007  0.000117  0.999703  0.000138   \n",
              "\n",
              "              OA_0          OA_1          OA_2          OA_3          OA_4  \\\n",
              "0     3.410993e-03  1.404161e-03  9.909497e-03  9.851754e-01  7.988319e-05   \n",
              "1     6.686086e-04  2.965975e-03  9.898452e-01  2.173457e-04  6.625170e-04   \n",
              "2     5.751084e-08  7.459536e-12  2.568105e-10  2.021580e-03  3.049719e-03   \n",
              "3     2.498322e-05  9.993660e-01  1.106080e-05  5.972445e-04  3.921983e-07   \n",
              "4     2.063275e-11  2.146545e-13  4.067878e-08  8.096257e-11  9.999998e-01   \n",
              "...            ...           ...           ...           ...           ...   \n",
              "1855  8.896496e-15  1.000000e+00  4.577453e-08  2.132386e-12  1.478108e-14   \n",
              "1856  5.969245e-04  2.960561e-05  3.139907e-02  1.014604e-03  9.549186e-03   \n",
              "1857  2.316331e-12  3.484239e-10  1.809272e-05  2.846565e-09  9.999714e-01   \n",
              "1858  1.994670e-05  2.559846e-07  1.859176e-09  2.191871e-04  2.378259e-05   \n",
              "1859  7.614361e-12  1.267038e-12  2.802366e-05  1.236930e-08  9.999671e-01   \n",
              "\n",
              "              OA_5  \n",
              "0     2.002994e-05  \n",
              "1     5.640339e-03  \n",
              "2     9.949287e-01  \n",
              "3     3.156232e-07  \n",
              "4     1.803801e-07  \n",
              "...            ...  \n",
              "1855  5.662018e-14  \n",
              "1856  9.574106e-01  \n",
              "1857  1.052558e-05  \n",
              "1858  9.997367e-01  \n",
              "1859  4.877730e-06  \n",
              "\n",
              "[1860 rows x 12 columns]"
            ],
            "text/html": [
              "\n",
              "  <div id=\"df-7897f71d-153f-41a5-8f83-1712246e4c86\">\n",
              "    <div class=\"colab-df-container\">\n",
              "      <div>\n",
              "<style scoped>\n",
              "    .dataframe tbody tr th:only-of-type {\n",
              "        vertical-align: middle;\n",
              "    }\n",
              "\n",
              "    .dataframe tbody tr th {\n",
              "        vertical-align: top;\n",
              "    }\n",
              "\n",
              "    .dataframe thead th {\n",
              "        text-align: right;\n",
              "    }\n",
              "</style>\n",
              "<table border=\"1\" class=\"dataframe\">\n",
              "  <thead>\n",
              "    <tr style=\"text-align: right;\">\n",
              "      <th></th>\n",
              "      <th>OV_0</th>\n",
              "      <th>OV_1</th>\n",
              "      <th>OV_2</th>\n",
              "      <th>OV_3</th>\n",
              "      <th>OV_4</th>\n",
              "      <th>OV_5</th>\n",
              "      <th>OA_0</th>\n",
              "      <th>OA_1</th>\n",
              "      <th>OA_2</th>\n",
              "      <th>OA_3</th>\n",
              "      <th>OA_4</th>\n",
              "      <th>OA_5</th>\n",
              "    </tr>\n",
              "  </thead>\n",
              "  <tbody>\n",
              "    <tr>\n",
              "      <th>0</th>\n",
              "      <td>3.139591e-05</td>\n",
              "      <td>0.000790</td>\n",
              "      <td>0.000003</td>\n",
              "      <td>0.998874</td>\n",
              "      <td>0.000018</td>\n",
              "      <td>0.000285</td>\n",
              "      <td>3.410993e-03</td>\n",
              "      <td>1.404161e-03</td>\n",
              "      <td>9.909497e-03</td>\n",
              "      <td>9.851754e-01</td>\n",
              "      <td>7.988319e-05</td>\n",
              "      <td>2.002994e-05</td>\n",
              "    </tr>\n",
              "    <tr>\n",
              "      <th>1</th>\n",
              "      <td>1.103409e-07</td>\n",
              "      <td>0.000032</td>\n",
              "      <td>0.999933</td>\n",
              "      <td>0.000022</td>\n",
              "      <td>0.000001</td>\n",
              "      <td>0.000011</td>\n",
              "      <td>6.686086e-04</td>\n",
              "      <td>2.965975e-03</td>\n",
              "      <td>9.898452e-01</td>\n",
              "      <td>2.173457e-04</td>\n",
              "      <td>6.625170e-04</td>\n",
              "      <td>5.640339e-03</td>\n",
              "    </tr>\n",
              "    <tr>\n",
              "      <th>2</th>\n",
              "      <td>7.565987e-03</td>\n",
              "      <td>0.003240</td>\n",
              "      <td>0.000197</td>\n",
              "      <td>0.093270</td>\n",
              "      <td>0.000536</td>\n",
              "      <td>0.895191</td>\n",
              "      <td>5.751084e-08</td>\n",
              "      <td>7.459536e-12</td>\n",
              "      <td>2.568105e-10</td>\n",
              "      <td>2.021580e-03</td>\n",
              "      <td>3.049719e-03</td>\n",
              "      <td>9.949287e-01</td>\n",
              "    </tr>\n",
              "    <tr>\n",
              "      <th>3</th>\n",
              "      <td>9.221826e-04</td>\n",
              "      <td>0.972584</td>\n",
              "      <td>0.026023</td>\n",
              "      <td>0.000381</td>\n",
              "      <td>0.000035</td>\n",
              "      <td>0.000054</td>\n",
              "      <td>2.498322e-05</td>\n",
              "      <td>9.993660e-01</td>\n",
              "      <td>1.106080e-05</td>\n",
              "      <td>5.972445e-04</td>\n",
              "      <td>3.921983e-07</td>\n",
              "      <td>3.156232e-07</td>\n",
              "    </tr>\n",
              "    <tr>\n",
              "      <th>4</th>\n",
              "      <td>1.234611e-04</td>\n",
              "      <td>0.000554</td>\n",
              "      <td>0.000002</td>\n",
              "      <td>0.003309</td>\n",
              "      <td>0.995933</td>\n",
              "      <td>0.000079</td>\n",
              "      <td>2.063275e-11</td>\n",
              "      <td>2.146545e-13</td>\n",
              "      <td>4.067878e-08</td>\n",
              "      <td>8.096257e-11</td>\n",
              "      <td>9.999998e-01</td>\n",
              "      <td>1.803801e-07</td>\n",
              "    </tr>\n",
              "    <tr>\n",
              "      <th>...</th>\n",
              "      <td>...</td>\n",
              "      <td>...</td>\n",
              "      <td>...</td>\n",
              "      <td>...</td>\n",
              "      <td>...</td>\n",
              "      <td>...</td>\n",
              "      <td>...</td>\n",
              "      <td>...</td>\n",
              "      <td>...</td>\n",
              "      <td>...</td>\n",
              "      <td>...</td>\n",
              "      <td>...</td>\n",
              "    </tr>\n",
              "    <tr>\n",
              "      <th>1855</th>\n",
              "      <td>2.386935e-03</td>\n",
              "      <td>0.992171</td>\n",
              "      <td>0.004256</td>\n",
              "      <td>0.001075</td>\n",
              "      <td>0.000007</td>\n",
              "      <td>0.000105</td>\n",
              "      <td>8.896496e-15</td>\n",
              "      <td>1.000000e+00</td>\n",
              "      <td>4.577453e-08</td>\n",
              "      <td>2.132386e-12</td>\n",
              "      <td>1.478108e-14</td>\n",
              "      <td>5.662018e-14</td>\n",
              "    </tr>\n",
              "    <tr>\n",
              "      <th>1856</th>\n",
              "      <td>9.088054e-02</td>\n",
              "      <td>0.003614</td>\n",
              "      <td>0.000219</td>\n",
              "      <td>0.675536</td>\n",
              "      <td>0.000492</td>\n",
              "      <td>0.229259</td>\n",
              "      <td>5.969245e-04</td>\n",
              "      <td>2.960561e-05</td>\n",
              "      <td>3.139907e-02</td>\n",
              "      <td>1.014604e-03</td>\n",
              "      <td>9.549186e-03</td>\n",
              "      <td>9.574106e-01</td>\n",
              "    </tr>\n",
              "    <tr>\n",
              "      <th>1857</th>\n",
              "      <td>6.606330e-06</td>\n",
              "      <td>0.000776</td>\n",
              "      <td>0.000345</td>\n",
              "      <td>0.000146</td>\n",
              "      <td>0.992820</td>\n",
              "      <td>0.005906</td>\n",
              "      <td>2.316331e-12</td>\n",
              "      <td>3.484239e-10</td>\n",
              "      <td>1.809272e-05</td>\n",
              "      <td>2.846565e-09</td>\n",
              "      <td>9.999714e-01</td>\n",
              "      <td>1.052558e-05</td>\n",
              "    </tr>\n",
              "    <tr>\n",
              "      <th>1858</th>\n",
              "      <td>9.965926e-05</td>\n",
              "      <td>0.000174</td>\n",
              "      <td>0.000029</td>\n",
              "      <td>0.001711</td>\n",
              "      <td>0.000860</td>\n",
              "      <td>0.997127</td>\n",
              "      <td>1.994670e-05</td>\n",
              "      <td>2.559846e-07</td>\n",
              "      <td>1.859176e-09</td>\n",
              "      <td>2.191871e-04</td>\n",
              "      <td>2.378259e-05</td>\n",
              "      <td>9.997367e-01</td>\n",
              "    </tr>\n",
              "    <tr>\n",
              "      <th>1859</th>\n",
              "      <td>2.576359e-07</td>\n",
              "      <td>0.000035</td>\n",
              "      <td>0.000007</td>\n",
              "      <td>0.000117</td>\n",
              "      <td>0.999703</td>\n",
              "      <td>0.000138</td>\n",
              "      <td>7.614361e-12</td>\n",
              "      <td>1.267038e-12</td>\n",
              "      <td>2.802366e-05</td>\n",
              "      <td>1.236930e-08</td>\n",
              "      <td>9.999671e-01</td>\n",
              "      <td>4.877730e-06</td>\n",
              "    </tr>\n",
              "  </tbody>\n",
              "</table>\n",
              "<p>1860 rows × 12 columns</p>\n",
              "</div>\n",
              "      <button class=\"colab-df-convert\" onclick=\"convertToInteractive('df-7897f71d-153f-41a5-8f83-1712246e4c86')\"\n",
              "              title=\"Convert this dataframe to an interactive table.\"\n",
              "              style=\"display:none;\">\n",
              "        \n",
              "  <svg xmlns=\"http://www.w3.org/2000/svg\" height=\"24px\"viewBox=\"0 0 24 24\"\n",
              "       width=\"24px\">\n",
              "    <path d=\"M0 0h24v24H0V0z\" fill=\"none\"/>\n",
              "    <path d=\"M18.56 5.44l.94 2.06.94-2.06 2.06-.94-2.06-.94-.94-2.06-.94 2.06-2.06.94zm-11 1L8.5 8.5l.94-2.06 2.06-.94-2.06-.94L8.5 2.5l-.94 2.06-2.06.94zm10 10l.94 2.06.94-2.06 2.06-.94-2.06-.94-.94-2.06-.94 2.06-2.06.94z\"/><path d=\"M17.41 7.96l-1.37-1.37c-.4-.4-.92-.59-1.43-.59-.52 0-1.04.2-1.43.59L10.3 9.45l-7.72 7.72c-.78.78-.78 2.05 0 2.83L4 21.41c.39.39.9.59 1.41.59.51 0 1.02-.2 1.41-.59l7.78-7.78 2.81-2.81c.8-.78.8-2.07 0-2.86zM5.41 20L4 18.59l7.72-7.72 1.47 1.35L5.41 20z\"/>\n",
              "  </svg>\n",
              "      </button>\n",
              "      \n",
              "  <style>\n",
              "    .colab-df-container {\n",
              "      display:flex;\n",
              "      flex-wrap:wrap;\n",
              "      gap: 12px;\n",
              "    }\n",
              "\n",
              "    .colab-df-convert {\n",
              "      background-color: #E8F0FE;\n",
              "      border: none;\n",
              "      border-radius: 50%;\n",
              "      cursor: pointer;\n",
              "      display: none;\n",
              "      fill: #1967D2;\n",
              "      height: 32px;\n",
              "      padding: 0 0 0 0;\n",
              "      width: 32px;\n",
              "    }\n",
              "\n",
              "    .colab-df-convert:hover {\n",
              "      background-color: #E2EBFA;\n",
              "      box-shadow: 0px 1px 2px rgba(60, 64, 67, 0.3), 0px 1px 3px 1px rgba(60, 64, 67, 0.15);\n",
              "      fill: #174EA6;\n",
              "    }\n",
              "\n",
              "    [theme=dark] .colab-df-convert {\n",
              "      background-color: #3B4455;\n",
              "      fill: #D2E3FC;\n",
              "    }\n",
              "\n",
              "    [theme=dark] .colab-df-convert:hover {\n",
              "      background-color: #434B5C;\n",
              "      box-shadow: 0px 1px 3px 1px rgba(0, 0, 0, 0.15);\n",
              "      filter: drop-shadow(0px 1px 2px rgba(0, 0, 0, 0.3));\n",
              "      fill: #FFFFFF;\n",
              "    }\n",
              "  </style>\n",
              "\n",
              "      <script>\n",
              "        const buttonEl =\n",
              "          document.querySelector('#df-7897f71d-153f-41a5-8f83-1712246e4c86 button.colab-df-convert');\n",
              "        buttonEl.style.display =\n",
              "          google.colab.kernel.accessAllowed ? 'block' : 'none';\n",
              "\n",
              "        async function convertToInteractive(key) {\n",
              "          const element = document.querySelector('#df-7897f71d-153f-41a5-8f83-1712246e4c86');\n",
              "          const dataTable =\n",
              "            await google.colab.kernel.invokeFunction('convertToInteractive',\n",
              "                                                     [key], {});\n",
              "          if (!dataTable) return;\n",
              "\n",
              "          const docLinkHtml = 'Like what you see? Visit the ' +\n",
              "            '<a target=\"_blank\" href=https://colab.research.google.com/notebooks/data_table.ipynb>data table notebook</a>'\n",
              "            + ' to learn more about interactive tables.';\n",
              "          element.innerHTML = '';\n",
              "          dataTable['output_type'] = 'display_data';\n",
              "          await google.colab.output.renderOutput(dataTable, element);\n",
              "          const docLink = document.createElement('div');\n",
              "          docLink.innerHTML = docLinkHtml;\n",
              "          element.appendChild(docLink);\n",
              "        }\n",
              "      </script>\n",
              "    </div>\n",
              "  </div>\n",
              "  "
            ]
          },
          "metadata": {},
          "execution_count": 14
        }
      ]
    },
    {
      "cell_type": "code",
      "source": [
        "from sklearn.utils import shuffle\n",
        "seed=42\n",
        "new_x_train = shuffle(x_train,random_state=seed)\n",
        "new_y_train = shuffle(df_train,random_state=seed)\n",
        "new_x_train = new_x_train.reset_index(drop=True)\n",
        "new_y_train = new_y_train.reset_index(drop=True)\n",
        "\"\"\"\n",
        "y_train=df_train.to_numpy()\n",
        "y_train=y_train.reshape(1860,)\n",
        "y_train, y_train.shape\n",
        "\"\"\""
      ],
      "metadata": {
        "colab": {
          "base_uri": "https://localhost:8080/",
          "height": 36
        },
        "id": "p5veJq2ei1vA",
        "outputId": "2bfa7ec7-ff48-4358-baaa-2e308f11e81d"
      },
      "execution_count": 15,
      "outputs": [
        {
          "output_type": "execute_result",
          "data": {
            "text/plain": [
              "'\\ny_train=df_train.to_numpy()\\ny_train=y_train.reshape(1860,)\\ny_train, y_train.shape\\n'"
            ],
            "application/vnd.google.colaboratory.intrinsic+json": {
              "type": "string"
            }
          },
          "metadata": {},
          "execution_count": 15
        }
      ]
    },
    {
      "cell_type": "code",
      "source": [
        "len(new_y_train)"
      ],
      "metadata": {
        "colab": {
          "base_uri": "https://localhost:8080/"
        },
        "id": "pFfSFyo-7NfO",
        "outputId": "03a07adc-d18e-436d-b8e6-e5850c1af39c"
      },
      "execution_count": 16,
      "outputs": [
        {
          "output_type": "execute_result",
          "data": {
            "text/plain": [
              "1860"
            ]
          },
          "metadata": {},
          "execution_count": 16
        }
      ]
    },
    {
      "cell_type": "code",
      "source": [
        "from sklearn.preprocessing import StandardScaler, MinMaxScaler\n",
        "scaler = MinMaxScaler(feature_range=(0, 1))\n",
        "new_x_train = scaler.fit_transform(new_x_train)\n",
        "X_test = scaler.transform(x_test)"
      ],
      "metadata": {
        "id": "wPUM0nKyxmkZ"
      },
      "execution_count": 17,
      "outputs": []
    },
    {
      "cell_type": "code",
      "source": [
        "y_train=df_train.to_numpy()\n",
        "y_train=y_train.reshape(1860,)\n",
        "y_train, y_train.shape"
      ],
      "metadata": {
        "colab": {
          "base_uri": "https://localhost:8080/"
        },
        "id": "4UmZkWm-tMOU",
        "outputId": "d64ff9bd-aa00-4e84-de15-0beb7c4e617a"
      },
      "execution_count": 18,
      "outputs": [
        {
          "output_type": "execute_result",
          "data": {
            "text/plain": [
              "(array([3, 2, 5, ..., 4, 5, 4]), (1860,))"
            ]
          },
          "metadata": {},
          "execution_count": 18
        }
      ]
    },
    {
      "cell_type": "markdown",
      "source": [
        "# training machine learning"
      ],
      "metadata": {
        "id": "1hZPjTpT4lb3"
      }
    },
    {
      "cell_type": "code",
      "source": [
        "\n",
        "from sklearn.neural_network import MLPClassifier\n",
        "from sklearn.datasets import make_classification\n",
        "import pandas as pd\n",
        "import numpy as np\n",
        "\n",
        "clf = MLPClassifier(hidden_layer_sizes=(40,),random_state=42, max_iter=500).fit(new_x_train, new_y_train)\n",
        "predictions = clf.predict(x_test)"
      ],
      "metadata": {
        "colab": {
          "base_uri": "https://localhost:8080/"
        },
        "id": "sDagKIFAw1dD",
        "outputId": "f49c794f-8a69-4c5c-aa76-91d6354bfaef"
      },
      "execution_count": 19,
      "outputs": [
        {
          "output_type": "stream",
          "name": "stderr",
          "text": [
            "/usr/local/lib/python3.7/dist-packages/sklearn/neural_network/_multilayer_perceptron.py:1109: DataConversionWarning: A column-vector y was passed when a 1d array was expected. Please change the shape of y to (n_samples, ), for example using ravel().\n",
            "  y = column_or_1d(y, warn=True)\n",
            "/usr/local/lib/python3.7/dist-packages/sklearn/base.py:444: UserWarning: X has feature names, but MLPClassifier was fitted without feature names\n",
            "  f\"X has feature names, but {self.__class__.__name__} was fitted without\"\n"
          ]
        }
      ]
    },
    {
      "cell_type": "code",
      "source": [
        "predictions"
      ],
      "metadata": {
        "colab": {
          "base_uri": "https://localhost:8080/"
        },
        "id": "ibm_g_O66uKI",
        "outputId": "2cd202ca-7668-44d6-fa69-eaaeda525c40"
      },
      "execution_count": 20,
      "outputs": [
        {
          "output_type": "execute_result",
          "data": {
            "text/plain": [
              "array([0, 3, 2, 5, 5, 2, 5, 1, 4, 0, 3, 1, 4, 0, 4, 3, 4, 1, 1, 1, 5, 2,\n",
              "       1, 2, 1, 5, 3, 5, 5, 5, 5, 4, 5, 5, 2, 2, 4, 1, 5, 4, 2, 2, 1, 5,\n",
              "       2, 1, 5, 5, 4, 3, 4, 2, 1, 3, 3, 0, 0, 0, 2, 4, 4, 4, 5, 0, 1, 3,\n",
              "       1, 0, 5, 1, 4, 2, 5, 3, 5, 4, 0, 3, 4, 4, 3, 4, 4, 0, 0, 1, 2, 3,\n",
              "       3, 5, 5, 1, 0, 1, 5, 5, 1, 2, 5, 3, 4, 3, 3, 0, 4, 5, 2, 1, 4, 1,\n",
              "       5, 2, 0, 1, 4, 0, 4, 1, 1, 1, 1, 5, 1, 4, 1, 2, 3, 2, 5, 1, 2, 0,\n",
              "       1, 5, 1, 0, 5, 0, 1, 1, 2, 1, 2, 5, 1, 2, 3, 0, 0, 3, 2, 3, 5, 0,\n",
              "       1, 2, 1, 3, 0, 0, 1, 3, 3, 2, 4, 1, 0, 0, 5, 4, 4, 3, 1, 4, 3, 1,\n",
              "       5, 0, 4, 4, 4, 0, 0, 5, 3, 3, 1, 3, 3, 4, 1, 4, 1, 1, 4, 2, 3, 1,\n",
              "       4, 5, 3, 2, 5, 2, 4, 4, 1])"
            ]
          },
          "metadata": {},
          "execution_count": 20
        }
      ]
    },
    {
      "cell_type": "code",
      "source": [
        "from sklearn.metrics import classification_report, confusion_matrix,accuracy_score\n",
        "import seaborn as sn\n",
        "import matplotlib.pyplot as plt\n",
        "\n",
        "print(classification_report(y_test,predictions))\n",
        "\n",
        "acc = float(accuracy_score(y_test,predictions))*100\n",
        "print(\"----accuracy score %s ----\" % acc)\n",
        "\n",
        "cm = confusion_matrix(y_test,predictions)\n",
        "#df_cm = pd.DataFrame(cm)\n",
        "class_names = ['neutral','calm', 'happy','sad','angry', 'fearful' ]\n",
        "df_cm = pd.DataFrame(cm, index=class_names, columns=class_names,)\n",
        "sn.heatmap(df_cm, annot=True, fmt='')\n",
        "plt.show()"
      ],
      "metadata": {
        "colab": {
          "base_uri": "https://localhost:8080/",
          "height": 522
        },
        "id": "A9gR6pV063GP",
        "outputId": "595c22fb-a9e0-471b-c6d9-ee924bbdef1c"
      },
      "execution_count": 21,
      "outputs": [
        {
          "output_type": "stream",
          "name": "stdout",
          "text": [
            "              precision    recall  f1-score   support\n",
            "\n",
            "           0       0.89      0.93      0.91        27\n",
            "           1       0.93      0.98      0.96        44\n",
            "           2       1.00      0.93      0.97        30\n",
            "           3       0.97      0.88      0.92        34\n",
            "           4       0.92      1.00      0.96        34\n",
            "           5       0.92      0.89      0.91        38\n",
            "\n",
            "    accuracy                           0.94       207\n",
            "   macro avg       0.94      0.94      0.94       207\n",
            "weighted avg       0.94      0.94      0.94       207\n",
            "\n",
            "----accuracy score 93.71980676328504 ----\n"
          ]
        },
        {
          "output_type": "display_data",
          "data": {
            "text/plain": [
              "<Figure size 432x288 with 2 Axes>"
            ],
            "image/png": "[encoded data removed]"
          },
          "metadata": {
            "needs_background": "light"
          }
        }
      ]
    },
    {
      "cell_type": "code",
      "source": [
        "path='/content/drive/My Drive/fusion/fusion_model/MLP/expert1'\n",
        "savedvX = joblib.dump(clf, path)\n",
        "\n",
        "print(\"MODEL SAVED\")"
      ],
      "metadata": {
        "colab": {
          "base_uri": "https://localhost:8080/"
        },
        "id": "WFonuoIS7NTg",
        "outputId": "eefced8e-8661-438f-a319-785d00b46c1b"
      },
      "execution_count": 22,
      "outputs": [
        {
          "output_type": "stream",
          "name": "stdout",
          "text": [
            "MODEL SAVED\n"
          ]
        }
      ]
    },
    {
      "cell_type": "code",
      "source": [
        ""
      ],
      "metadata": {
        "id": "Bp4nDNcd7lc_"
      },
      "execution_count": 22,
      "outputs": []
    }
  ]
}