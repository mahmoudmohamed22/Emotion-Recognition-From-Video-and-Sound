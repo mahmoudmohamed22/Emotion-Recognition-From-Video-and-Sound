{
  "nbformat": 4,
  "nbformat_minor": 0,
  "metadata": {
    "colab": {
      "name": "original_remove_2_dense_layers_RMS_lr=0_0002_kernal_size_12_3.ipynb",
      "provenance": [],
      "collapsed_sections": []
    },
    "kernelspec": {
      "name": "python3",
      "display_name": "Python 3"
    },
    "language_info": {
      "name": "python"
    },
    "accelerator": "TPU"
  },
  "cells": [
    {
      "cell_type": "code",
      "execution_count": 1,
      "metadata": {
        "colab": {
          "base_uri": "https://localhost:8080/"
        },
        "id": "9SRCO-a_AlH5",
        "outputId": "91b4b59a-be7b-4051-c3ca-2c3a79e15451"
      },
      "outputs": [
        {
          "output_type": "stream",
          "name": "stdout",
          "text": [
            "Mounted at /content/drive\n"
          ]
        }
      ],
      "source": [
        "from google.colab import drive\n",
        "drive.mount('/content/drive')"
      ]
    },
    {
      "cell_type": "code",
      "source": [
        "!pip install librosa"
      ],
      "metadata": {
        "colab": {
          "base_uri": "https://localhost:8080/"
        },
        "id": "5Lo4mUwG9RMd",
        "outputId": "94ae3477-15f6-4f3a-f6bd-80b488084926"
      },
      "execution_count": 2,
      "outputs": [
        {
          "output_type": "stream",
          "name": "stdout",
          "text": [
            "Looking in indexes: https://pypi.org/simple, https://us-python.pkg.dev/colab-wheels/public/simple/\n",
            "Requirement already satisfied: librosa in /usr/local/lib/python3.7/dist-packages (0.8.1)\n",
            "Requirement already satisfied: audioread>=2.0.0 in /usr/local/lib/python3.7/dist-packages (from librosa) (2.1.9)\n",
            "Requirement already satisfied: decorator>=3.0.0 in /usr/local/lib/python3.7/dist-packages (from librosa) (4.4.2)\n",
            "Requirement already satisfied: soundfile>=0.10.2 in /usr/local/lib/python3.7/dist-packages (from librosa) (0.10.3.post1)\n",
            "Requirement already satisfied: pooch>=1.0 in /usr/local/lib/python3.7/dist-packages (from librosa) (1.6.0)\n",
            "Requirement already satisfied: joblib>=0.14 in /usr/local/lib/python3.7/dist-packages (from librosa) (1.1.0)\n",
            "Requirement already satisfied: packaging>=20.0 in /usr/local/lib/python3.7/dist-packages (from librosa) (21.3)\n",
            "Requirement already satisfied: scipy>=1.0.0 in /usr/local/lib/python3.7/dist-packages (from librosa) (1.4.1)\n",
            "Requirement already satisfied: scikit-learn!=0.19.0,>=0.14.0 in /usr/local/lib/python3.7/dist-packages (from librosa) (1.0.2)\n",
            "Requirement already satisfied: numpy>=1.15.0 in /usr/local/lib/python3.7/dist-packages (from librosa) (1.21.6)\n",
            "Requirement already satisfied: resampy>=0.2.2 in /usr/local/lib/python3.7/dist-packages (from librosa) (0.2.2)\n",
            "Requirement already satisfied: numba>=0.43.0 in /usr/local/lib/python3.7/dist-packages (from librosa) (0.51.2)\n",
            "Requirement already satisfied: llvmlite<0.35,>=0.34.0.dev0 in /usr/local/lib/python3.7/dist-packages (from numba>=0.43.0->librosa) (0.34.0)\n",
            "Requirement already satisfied: setuptools in /usr/local/lib/python3.7/dist-packages (from numba>=0.43.0->librosa) (57.4.0)\n",
            "Requirement already satisfied: pyparsing!=3.0.5,>=2.0.2 in /usr/local/lib/python3.7/dist-packages (from packaging>=20.0->librosa) (3.0.9)\n",
            "Requirement already satisfied: requests>=2.19.0 in /usr/local/lib/python3.7/dist-packages (from pooch>=1.0->librosa) (2.23.0)\n",
            "Requirement already satisfied: appdirs>=1.3.0 in /usr/local/lib/python3.7/dist-packages (from pooch>=1.0->librosa) (1.4.4)\n",
            "Requirement already satisfied: chardet<4,>=3.0.2 in /usr/local/lib/python3.7/dist-packages (from requests>=2.19.0->pooch>=1.0->librosa) (3.0.4)\n",
            "Requirement already satisfied: urllib3!=1.25.0,!=1.25.1,<1.26,>=1.21.1 in /usr/local/lib/python3.7/dist-packages (from requests>=2.19.0->pooch>=1.0->librosa) (1.24.3)\n",
            "Requirement already satisfied: certifi>=2017.4.17 in /usr/local/lib/python3.7/dist-packages (from requests>=2.19.0->pooch>=1.0->librosa) (2022.5.18.1)\n",
            "Requirement already satisfied: idna<3,>=2.5 in /usr/local/lib/python3.7/dist-packages (from requests>=2.19.0->pooch>=1.0->librosa) (2.10)\n",
            "Requirement already satisfied: six>=1.3 in /usr/local/lib/python3.7/dist-packages (from resampy>=0.2.2->librosa) (1.15.0)\n",
            "Requirement already satisfied: threadpoolctl>=2.0.0 in /usr/local/lib/python3.7/dist-packages (from scikit-learn!=0.19.0,>=0.14.0->librosa) (3.1.0)\n",
            "Requirement already satisfied: cffi>=1.0 in /usr/local/lib/python3.7/dist-packages (from soundfile>=0.10.2->librosa) (1.15.0)\n",
            "Requirement already satisfied: pycparser in /usr/local/lib/python3.7/dist-packages (from cffi>=1.0->soundfile>=0.10.2->librosa) (2.21)\n"
          ]
        }
      ]
    },
    {
      "cell_type": "code",
      "metadata": {
        "id": "HJjcbxwy46bG",
        "colab": {
          "base_uri": "https://localhost:8080/",
          "height": 17
        },
        "outputId": "a96c88a6-b2f2-49fb-9424-f25334cb1be9"
      },
      "source": [
        "# Orignial Notebook: https://github.com/MITESHPUTHRANNEU/Speech-Emotion-Analyzer/blob/master/final_results_gender_test.ipynb\n",
        "# This notebook author: Reza Chu\n",
        "# Last Editing Date: 31st May 2019\n",
        "\n",
        "## Python\n",
        "import os\n",
        "import random\n",
        "import sys\n",
        "\n",
        "import IPython\n",
        "from IPython.display import Audio\n",
        "from IPython.display import Image\n",
        "import matplotlib.pyplot as plt\n",
        "\n",
        "## Package\n",
        "import glob \n",
        "import keras\n",
        "import IPython.display as ipd\n",
        "import librosa\n",
        "import librosa.display\n",
        "import matplotlib.pyplot as plt\n",
        "import numpy as np\n",
        "import pandas as pd\n",
        "import plotly.graph_objs as go\n",
        "import plotly.offline as py\n",
        "import plotly.tools as tls\n",
        "import seaborn as sns\n",
        "import scipy.io.wavfile\n",
        "import tensorflow as tf\n",
        "py.init_notebook_mode(connected=True)\n",
        "\n",
        "## Keras\n",
        "from keras import regularizers\n",
        "from keras.callbacks import ModelCheckpoint, LearningRateScheduler, EarlyStopping\n",
        "from keras.callbacks import  History, ReduceLROnPlateau, CSVLogger\n",
        "from keras.models import Model, Sequential\n",
        "from keras.layers import Dense, Embedding, LSTM\n",
        "from keras.layers import Input, Flatten, Dropout, Activation, BatchNormalization\n",
        "from keras.layers import Conv1D, MaxPooling1D, AveragePooling1D\n",
        "from keras.preprocessing import sequence\n",
        "from keras.preprocessing.sequence import pad_sequences\n",
        "from keras.preprocessing.text import Tokenizer\n",
        "from keras.utils import np_utils\n",
        "from tensorflow.keras.utils import to_categorical\n",
        "\n",
        "## Sklearn\n",
        "from sklearn.metrics import confusion_matrix\n",
        "from sklearn.preprocessing import LabelEncoder\n",
        "\n",
        "## Rest\n",
        "from scipy.fftpack import fft\n",
        "from scipy import signal\n",
        "from scipy.io import wavfile\n",
        "from tqdm import tqdm\n",
        "\n",
        "input_duration=3\n",
        "# % pylab inline"
      ],
      "execution_count": 3,
      "outputs": [
        {
          "output_type": "display_data",
          "data": {
            "text/html": [
              "        <script type=\"text/javascript\">\n",
              "        window.PlotlyConfig = {MathJaxConfig: 'local'};\n",
              "        if (window.MathJax) {MathJax.Hub.Config({SVG: {font: \"STIX-Web\"}});}\n",
              "        if (typeof require !== 'undefined') {\n",
              "        require.undef(\"plotly\");\n",
              "        requirejs.config({\n",
              "            paths: {\n",
              "                'plotly': ['https://cdn.plot.ly/plotly-2.8.3.min']\n",
              "            }\n",
              "        });\n",
              "        require(['plotly'], function(Plotly) {\n",
              "            window._Plotly = Plotly;\n",
              "        });\n",
              "        }\n",
              "        </script>\n",
              "        "
            ]
          },
          "metadata": {}
        }
      ]
    },
    {
      "cell_type": "code",
      "source": [
        "# # Saving joblib files to not load them again with the loop above\n",
        "\n",
        "# import joblib\n",
        "\n",
        "# X_name = 'x.joblib'\n",
        "# y_name = 'y.joblib'\n",
        "# save_dir = '/content/drive/My Drive/graduation project/audio/paper_code/features'\n",
        "\n",
        "# savedX = joblib.dump(X, os.path.join(save_dir, X_name))\n",
        "# savedy = joblib.dump(y, os.path.join(save_dir, y_name))"
      ],
      "metadata": {
        "id": "UCzic8rlDcuk"
      },
      "execution_count": 4,
      "outputs": []
    },
    {
      "cell_type": "code",
      "source": [
        "# # Loading saved models\n",
        "import joblib\n",
        "X = joblib.load('/content/drive/My Drive/graduation project/audio/paper_code/features/x.joblib')\n",
        "y = joblib.load('/content/drive/My Drive/graduation project/audio/paper_code/features/y.joblib')"
      ],
      "metadata": {
        "id": "Q35CN6zDrzg1"
      },
      "execution_count": 5,
      "outputs": []
    },
    {
      "cell_type": "code",
      "source": [
        "X.shape"
      ],
      "metadata": {
        "id": "7PSTurzjCo5K",
        "colab": {
          "base_uri": "https://localhost:8080/"
        },
        "outputId": "d567aa96-48bf-40e9-a71e-0bf68cd377ea"
      },
      "execution_count": 6,
      "outputs": [
        {
          "output_type": "execute_result",
          "data": {
            "text/plain": [
              "(2068, 40)"
            ]
          },
          "metadata": {},
          "execution_count": 6
        }
      ]
    },
    {
      "cell_type": "code",
      "source": [
        "from sklearn.model_selection import train_test_split\n",
        "\n",
        "X_train, X_test, y_train, y_test = train_test_split(X,y, test_size=0.1 ,shuffle = True\n",
        "                                                    , random_state=42)\n",
        "X_train , X_valid, y_train, y_valid = train_test_split(X_train,y_train, test_size=0.1112305212 , shuffle = True \n",
        "                                                       , random_state=42)"
      ],
      "metadata": {
        "id": "Ai4Fy5cPCiq1"
      },
      "execution_count": 7,
      "outputs": []
    },
    {
      "cell_type": "code",
      "source": [
        "import numpy as np\n",
        "x_traincnn = np.expand_dims(X_train, axis=2)\n",
        "x_testcnn = np.expand_dims(X_test, axis=2)\n",
        "X_valid= np.expand_dims(X_valid, axis=2)"
      ],
      "metadata": {
        "id": "tp1Fm5K3CEXu"
      },
      "execution_count": 8,
      "outputs": []
    },
    {
      "cell_type": "code",
      "source": [
        "x_traincnn.shape, x_testcnn.shape , X_valid.shape\n",
        "#1861"
      ],
      "metadata": {
        "id": "RI0MxoIPBws5",
        "colab": {
          "base_uri": "https://localhost:8080/"
        },
        "outputId": "86bb3458-4cea-4e2b-bd69-8fe0f3ad7339"
      },
      "execution_count": 9,
      "outputs": [
        {
          "output_type": "execute_result",
          "data": {
            "text/plain": [
              "((1654, 40, 1), (207, 40, 1), (207, 40, 1))"
            ]
          },
          "metadata": {},
          "execution_count": 9
        }
      ]
    },
    {
      "cell_type": "code",
      "source": [
        "!pip install tensorflow"
      ],
      "metadata": {
        "id": "oALhiMUd9G2Y",
        "colab": {
          "base_uri": "https://localhost:8080/"
        },
        "outputId": "29df9570-9dee-4c00-f362-d45298abb30b"
      },
      "execution_count": 10,
      "outputs": [
        {
          "output_type": "stream",
          "name": "stdout",
          "text": [
            "Looking in indexes: https://pypi.org/simple, https://us-python.pkg.dev/colab-wheels/public/simple/\n",
            "Requirement already satisfied: tensorflow in /usr/local/lib/python3.7/dist-packages (2.8.2+zzzcolab20220527125636)\n",
            "Requirement already satisfied: astunparse>=1.6.0 in /usr/local/lib/python3.7/dist-packages (from tensorflow) (1.6.3)\n",
            "Requirement already satisfied: protobuf<3.20,>=3.9.2 in /usr/local/lib/python3.7/dist-packages (from tensorflow) (3.17.3)\n",
            "Requirement already satisfied: google-pasta>=0.1.1 in /usr/local/lib/python3.7/dist-packages (from tensorflow) (0.2.0)\n",
            "Requirement already satisfied: six>=1.12.0 in /usr/local/lib/python3.7/dist-packages (from tensorflow) (1.15.0)\n",
            "Requirement already satisfied: tensorflow-estimator<2.9,>=2.8 in /usr/local/lib/python3.7/dist-packages (from tensorflow) (2.8.0)\n",
            "Requirement already satisfied: grpcio<2.0,>=1.24.3 in /usr/local/lib/python3.7/dist-packages (from tensorflow) (1.46.3)\n",
            "Requirement already satisfied: numpy>=1.20 in /usr/local/lib/python3.7/dist-packages (from tensorflow) (1.21.6)\n",
            "Requirement already satisfied: tensorflow-io-gcs-filesystem>=0.23.1 in /usr/local/lib/python3.7/dist-packages (from tensorflow) (0.26.0)\n",
            "Requirement already satisfied: setuptools in /usr/local/lib/python3.7/dist-packages (from tensorflow) (57.4.0)\n",
            "Requirement already satisfied: wrapt>=1.11.0 in /usr/local/lib/python3.7/dist-packages (from tensorflow) (1.14.1)\n",
            "Requirement already satisfied: termcolor>=1.1.0 in /usr/local/lib/python3.7/dist-packages (from tensorflow) (1.1.0)\n",
            "Requirement already satisfied: keras<2.9,>=2.8.0rc0 in /usr/local/lib/python3.7/dist-packages (from tensorflow) (2.8.0)\n",
            "Requirement already satisfied: h5py>=2.9.0 in /usr/local/lib/python3.7/dist-packages (from tensorflow) (3.1.0)\n",
            "Requirement already satisfied: libclang>=9.0.1 in /usr/local/lib/python3.7/dist-packages (from tensorflow) (14.0.1)\n",
            "Requirement already satisfied: tensorboard<2.9,>=2.8 in /usr/local/lib/python3.7/dist-packages (from tensorflow) (2.8.0)\n",
            "Requirement already satisfied: gast>=0.2.1 in /usr/local/lib/python3.7/dist-packages (from tensorflow) (0.5.3)\n",
            "Requirement already satisfied: opt-einsum>=2.3.2 in /usr/local/lib/python3.7/dist-packages (from tensorflow) (3.3.0)\n",
            "Requirement already satisfied: typing-extensions>=3.6.6 in /usr/local/lib/python3.7/dist-packages (from tensorflow) (4.2.0)\n",
            "Requirement already satisfied: absl-py>=0.4.0 in /usr/local/lib/python3.7/dist-packages (from tensorflow) (1.0.0)\n",
            "Requirement already satisfied: keras-preprocessing>=1.1.1 in /usr/local/lib/python3.7/dist-packages (from tensorflow) (1.1.2)\n",
            "Requirement already satisfied: flatbuffers>=1.12 in /usr/local/lib/python3.7/dist-packages (from tensorflow) (2.0)\n",
            "Requirement already satisfied: wheel<1.0,>=0.23.0 in /usr/local/lib/python3.7/dist-packages (from astunparse>=1.6.0->tensorflow) (0.37.1)\n",
            "Requirement already satisfied: cached-property in /usr/local/lib/python3.7/dist-packages (from h5py>=2.9.0->tensorflow) (1.5.2)\n",
            "Requirement already satisfied: google-auth<3,>=1.6.3 in /usr/local/lib/python3.7/dist-packages (from tensorboard<2.9,>=2.8->tensorflow) (1.35.0)\n",
            "Requirement already satisfied: tensorboard-data-server<0.7.0,>=0.6.0 in /usr/local/lib/python3.7/dist-packages (from tensorboard<2.9,>=2.8->tensorflow) (0.6.1)\n",
            "Requirement already satisfied: tensorboard-plugin-wit>=1.6.0 in /usr/local/lib/python3.7/dist-packages (from tensorboard<2.9,>=2.8->tensorflow) (1.8.1)\n",
            "Requirement already satisfied: requests<3,>=2.21.0 in /usr/local/lib/python3.7/dist-packages (from tensorboard<2.9,>=2.8->tensorflow) (2.23.0)\n",
            "Requirement already satisfied: markdown>=2.6.8 in /usr/local/lib/python3.7/dist-packages (from tensorboard<2.9,>=2.8->tensorflow) (3.3.7)\n",
            "Requirement already satisfied: werkzeug>=0.11.15 in /usr/local/lib/python3.7/dist-packages (from tensorboard<2.9,>=2.8->tensorflow) (1.0.1)\n",
            "Requirement already satisfied: google-auth-oauthlib<0.5,>=0.4.1 in /usr/local/lib/python3.7/dist-packages (from tensorboard<2.9,>=2.8->tensorflow) (0.4.6)\n",
            "Requirement already satisfied: cachetools<5.0,>=2.0.0 in /usr/local/lib/python3.7/dist-packages (from google-auth<3,>=1.6.3->tensorboard<2.9,>=2.8->tensorflow) (4.2.4)\n",
            "Requirement already satisfied: rsa<5,>=3.1.4 in /usr/local/lib/python3.7/dist-packages (from google-auth<3,>=1.6.3->tensorboard<2.9,>=2.8->tensorflow) (4.8)\n",
            "Requirement already satisfied: pyasn1-modules>=0.2.1 in /usr/local/lib/python3.7/dist-packages (from google-auth<3,>=1.6.3->tensorboard<2.9,>=2.8->tensorflow) (0.2.8)\n",
            "Requirement already satisfied: requests-oauthlib>=0.7.0 in /usr/local/lib/python3.7/dist-packages (from google-auth-oauthlib<0.5,>=0.4.1->tensorboard<2.9,>=2.8->tensorflow) (1.3.1)\n",
            "Requirement already satisfied: importlib-metadata>=4.4 in /usr/local/lib/python3.7/dist-packages (from markdown>=2.6.8->tensorboard<2.9,>=2.8->tensorflow) (4.11.4)\n",
            "Requirement already satisfied: zipp>=0.5 in /usr/local/lib/python3.7/dist-packages (from importlib-metadata>=4.4->markdown>=2.6.8->tensorboard<2.9,>=2.8->tensorflow) (3.8.0)\n",
            "Requirement already satisfied: pyasn1<0.5.0,>=0.4.6 in /usr/local/lib/python3.7/dist-packages (from pyasn1-modules>=0.2.1->google-auth<3,>=1.6.3->tensorboard<2.9,>=2.8->tensorflow) (0.4.8)\n",
            "Requirement already satisfied: certifi>=2017.4.17 in /usr/local/lib/python3.7/dist-packages (from requests<3,>=2.21.0->tensorboard<2.9,>=2.8->tensorflow) (2022.5.18.1)\n",
            "Requirement already satisfied: urllib3!=1.25.0,!=1.25.1,<1.26,>=1.21.1 in /usr/local/lib/python3.7/dist-packages (from requests<3,>=2.21.0->tensorboard<2.9,>=2.8->tensorflow) (1.24.3)\n",
            "Requirement already satisfied: chardet<4,>=3.0.2 in /usr/local/lib/python3.7/dist-packages (from requests<3,>=2.21.0->tensorboard<2.9,>=2.8->tensorflow) (3.0.4)\n",
            "Requirement already satisfied: idna<3,>=2.5 in /usr/local/lib/python3.7/dist-packages (from requests<3,>=2.21.0->tensorboard<2.9,>=2.8->tensorflow) (2.10)\n",
            "Requirement already satisfied: oauthlib>=3.0.0 in /usr/local/lib/python3.7/dist-packages (from requests-oauthlib>=0.7.0->google-auth-oauthlib<0.5,>=0.4.1->tensorboard<2.9,>=2.8->tensorflow) (3.2.0)\n"
          ]
        }
      ]
    },
    {
      "cell_type": "code",
      "source": [
        "import keras\n",
        "import numpy as np\n",
        "import matplotlib.pyplot as plt\n",
        "import tensorflow as tf\n",
        "from keras.preprocessing import sequence\n",
        "from keras.models import Sequential\n",
        "from keras.layers import Dense, Embedding\n",
        "from tensorflow.keras.utils import to_categorical\n",
        "from keras.layers import Input, Flatten, Dropout, Activation\n",
        "from keras.layers import Conv1D, MaxPooling1D\n",
        "from keras.models import Model\n",
        "from keras.callbacks import ModelCheckpoint\n",
        "from tensorflow.keras import optimizers\n",
        "\n",
        "model = Sequential()\n",
        "\n",
        "model.add(Conv1D(64, 12,padding='same', #classifier.add(Convolution2D(64, (3, 3), padding = 'same', input_shape = (128, 128, 3), activation = 'relu'))\n",
        "                 input_shape=(40,1)))\n",
        "model.add(Activation('relu'))\n",
        "model.add(Dropout(0.3))\n",
        "model.add(MaxPooling1D(pool_size=(5)))\n",
        "\n",
        "\n",
        "model.add(Conv1D(128,12,padding='same',))\n",
        "model.add(Activation('relu'))\n",
        "model.add(Dropout(0.3))\n",
        "model.add(MaxPooling1D(pool_size=(5)))\n",
        "\n",
        "#model.add(MaxPooling1D(pool_size=(5)))\n",
        "\n",
        "model.add(Flatten())\n",
        "\n",
        "\n",
        "\n",
        "model.add(Dense(6))\n",
        "model.add(Activation('softmax'))\n",
        "\n",
        "\n",
        "opt = tf.keras.optimizers.RMSprop(lr=0.0002 , decay=0.0)\n",
        "#opt = tf.keras.optimizers.Adam(lr=0.0002 , decay=0.0)\n",
        "#opt = tf.keras.optimizers.RMSprop(lr=0.0001, rho=0.9, epsilon=1e-07, decay=0.0)\n",
        "#opt = tf.keras.optimizers.SGD(lr=0.001, momentum=0.0, decay=0.0, nesterov=False)"
      ],
      "metadata": {
        "id": "g74fXWVAC4Cr",
        "colab": {
          "base_uri": "https://localhost:8080/"
        },
        "outputId": "4c6448db-d769-43c3-973a-a6cca0ffec8d"
      },
      "execution_count": 11,
      "outputs": [
        {
          "output_type": "stream",
          "name": "stderr",
          "text": [
            "/usr/local/lib/python3.7/dist-packages/keras/optimizer_v2/rmsprop.py:130: UserWarning:\n",
            "\n",
            "The `lr` argument is deprecated, use `learning_rate` instead.\n",
            "\n"
          ]
        }
      ]
    },
    {
      "cell_type": "code",
      "source": [
        "model.summary()"
      ],
      "metadata": {
        "id": "H6ukOxAGC_I4",
        "colab": {
          "base_uri": "https://localhost:8080/"
        },
        "outputId": "04d7c687-b03c-4a05-cdfe-71c46e16cb64"
      },
      "execution_count": 12,
      "outputs": [
        {
          "output_type": "stream",
          "name": "stdout",
          "text": [
            "Model: \"sequential\"\n",
            "_________________________________________________________________\n",
            " Layer (type)                Output Shape              Param #   \n",
            "=================================================================\n",
            " conv1d (Conv1D)             (None, 40, 64)            832       \n",
            "                                                                 \n",
            " activation (Activation)     (None, 40, 64)            0         \n",
            "                                                                 \n",
            " dropout (Dropout)           (None, 40, 64)            0         \n",
            "                                                                 \n",
            " max_pooling1d (MaxPooling1D  (None, 8, 64)            0         \n",
            " )                                                               \n",
            "                                                                 \n",
            " conv1d_1 (Conv1D)           (None, 8, 128)            98432     \n",
            "                                                                 \n",
            " activation_1 (Activation)   (None, 8, 128)            0         \n",
            "                                                                 \n",
            " dropout_1 (Dropout)         (None, 8, 128)            0         \n",
            "                                                                 \n",
            " max_pooling1d_1 (MaxPooling  (None, 1, 128)           0         \n",
            " 1D)                                                             \n",
            "                                                                 \n",
            " flatten (Flatten)           (None, 128)               0         \n",
            "                                                                 \n",
            " dense (Dense)               (None, 6)                 774       \n",
            "                                                                 \n",
            " activation_2 (Activation)   (None, 6)                 0         \n",
            "                                                                 \n",
            "=================================================================\n",
            "Total params: 100,038\n",
            "Trainable params: 100,038\n",
            "Non-trainable params: 0\n",
            "_________________________________________________________________\n"
          ]
        }
      ]
    },
    {
      "cell_type": "code",
      "source": [
        "model.compile(loss='sparse_categorical_crossentropy',\n",
        "              optimizer=opt,\n",
        "              metrics=['accuracy'])"
      ],
      "metadata": {
        "id": "AbMlLNk4DCBM"
      },
      "execution_count": 13,
      "outputs": []
    },
    {
      "cell_type": "code",
      "source": [
        "# Create an Instance of Early Stopping Callback.\n",
        "early_stopping_callback = EarlyStopping(monitor = 'val_loss', patience = 25, mode = 'min', restore_best_weights = True)\n",
        "\n",
        "cnnhistory=model.fit(x_traincnn, y_train, batch_size=16, epochs=500 , shuffle = True, \n",
        "                     validation_data=(X_valid, y_valid) , callbacks = [early_stopping_callback])"
      ],
      "metadata": {
        "id": "RI1v2AuADFhy",
        "colab": {
          "base_uri": "https://localhost:8080/"
        },
        "outputId": "13437d0b-1ae6-4ab2-c11a-fb0cb28e0355"
      },
      "execution_count": 14,
      "outputs": [
        {
          "output_type": "stream",
          "name": "stdout",
          "text": [
            "Epoch 1/500\n",
            "104/104 [==============================] - 5s 24ms/step - loss: 12.8173 - accuracy: 0.1657 - val_loss: 6.6114 - val_accuracy: 0.1836\n",
            "Epoch 2/500\n",
            "104/104 [==============================] - 2s 17ms/step - loss: 8.8976 - accuracy: 0.1874 - val_loss: 3.4233 - val_accuracy: 0.2512\n",
            "Epoch 3/500\n",
            "104/104 [==============================] - 2s 16ms/step - loss: 7.1861 - accuracy: 0.2110 - val_loss: 2.6430 - val_accuracy: 0.2609\n",
            "Epoch 4/500\n",
            "104/104 [==============================] - 2s 17ms/step - loss: 5.8265 - accuracy: 0.2358 - val_loss: 3.3327 - val_accuracy: 0.2754\n",
            "Epoch 5/500\n",
            "104/104 [==============================] - 2s 16ms/step - loss: 5.1214 - accuracy: 0.2304 - val_loss: 2.0587 - val_accuracy: 0.2077\n",
            "Epoch 6/500\n",
            "104/104 [==============================] - 2s 16ms/step - loss: 4.2442 - accuracy: 0.2551 - val_loss: 2.9387 - val_accuracy: 0.2126\n",
            "Epoch 7/500\n",
            "104/104 [==============================] - 2s 17ms/step - loss: 3.9683 - accuracy: 0.2503 - val_loss: 2.1271 - val_accuracy: 0.2609\n",
            "Epoch 8/500\n",
            "104/104 [==============================] - 2s 16ms/step - loss: 3.5325 - accuracy: 0.2443 - val_loss: 1.8912 - val_accuracy: 0.2464\n",
            "Epoch 9/500\n",
            "104/104 [==============================] - 2s 17ms/step - loss: 3.1767 - accuracy: 0.2503 - val_loss: 1.8920 - val_accuracy: 0.2705\n",
            "Epoch 10/500\n",
            "104/104 [==============================] - 2s 17ms/step - loss: 2.9703 - accuracy: 0.2624 - val_loss: 1.5823 - val_accuracy: 0.4058\n",
            "Epoch 11/500\n",
            "104/104 [==============================] - 2s 17ms/step - loss: 2.6493 - accuracy: 0.2739 - val_loss: 1.7287 - val_accuracy: 0.2657\n",
            "Epoch 12/500\n",
            "104/104 [==============================] - 2s 16ms/step - loss: 2.4703 - accuracy: 0.2848 - val_loss: 1.6602 - val_accuracy: 0.3623\n",
            "Epoch 13/500\n",
            "104/104 [==============================] - 2s 18ms/step - loss: 2.3686 - accuracy: 0.3047 - val_loss: 1.9866 - val_accuracy: 0.1884\n",
            "Epoch 14/500\n",
            "104/104 [==============================] - 1s 14ms/step - loss: 2.2835 - accuracy: 0.2896 - val_loss: 1.7953 - val_accuracy: 0.2609\n",
            "Epoch 15/500\n",
            "104/104 [==============================] - 2s 15ms/step - loss: 2.1276 - accuracy: 0.3168 - val_loss: 1.6089 - val_accuracy: 0.3478\n",
            "Epoch 16/500\n",
            "104/104 [==============================] - 2s 15ms/step - loss: 2.0712 - accuracy: 0.3271 - val_loss: 1.5062 - val_accuracy: 0.4010\n",
            "Epoch 17/500\n",
            "104/104 [==============================] - 1s 14ms/step - loss: 1.9568 - accuracy: 0.3380 - val_loss: 1.7096 - val_accuracy: 0.3188\n",
            "Epoch 18/500\n",
            "104/104 [==============================] - 2s 15ms/step - loss: 1.8609 - accuracy: 0.3561 - val_loss: 1.4196 - val_accuracy: 0.4010\n",
            "Epoch 19/500\n",
            "104/104 [==============================] - 2s 14ms/step - loss: 1.8235 - accuracy: 0.3694 - val_loss: 1.3756 - val_accuracy: 0.4348\n",
            "Epoch 20/500\n",
            "104/104 [==============================] - 2s 16ms/step - loss: 1.8581 - accuracy: 0.3622 - val_loss: 1.4157 - val_accuracy: 0.4010\n",
            "Epoch 21/500\n",
            "104/104 [==============================] - 2s 15ms/step - loss: 1.7911 - accuracy: 0.3640 - val_loss: 1.3744 - val_accuracy: 0.4638\n",
            "Epoch 22/500\n",
            "104/104 [==============================] - 2s 15ms/step - loss: 1.7794 - accuracy: 0.3664 - val_loss: 1.3325 - val_accuracy: 0.4976\n",
            "Epoch 23/500\n",
            "104/104 [==============================] - 2s 16ms/step - loss: 1.6919 - accuracy: 0.3894 - val_loss: 1.2959 - val_accuracy: 0.4879\n",
            "Epoch 24/500\n",
            "104/104 [==============================] - 2s 15ms/step - loss: 1.6680 - accuracy: 0.4008 - val_loss: 1.4272 - val_accuracy: 0.3671\n",
            "Epoch 25/500\n",
            "104/104 [==============================] - 2s 15ms/step - loss: 1.6223 - accuracy: 0.4154 - val_loss: 1.3052 - val_accuracy: 0.5169\n",
            "Epoch 26/500\n",
            "104/104 [==============================] - 1s 13ms/step - loss: 1.5921 - accuracy: 0.4220 - val_loss: 1.3429 - val_accuracy: 0.4348\n",
            "Epoch 27/500\n",
            "104/104 [==============================] - 1s 13ms/step - loss: 1.5709 - accuracy: 0.4214 - val_loss: 1.4260 - val_accuracy: 0.4300\n",
            "Epoch 28/500\n",
            "104/104 [==============================] - 1s 9ms/step - loss: 1.5476 - accuracy: 0.4202 - val_loss: 1.2542 - val_accuracy: 0.5459\n",
            "Epoch 29/500\n",
            "104/104 [==============================] - 1s 8ms/step - loss: 1.5251 - accuracy: 0.4389 - val_loss: 1.2288 - val_accuracy: 0.5459\n",
            "Epoch 30/500\n",
            "104/104 [==============================] - 1s 9ms/step - loss: 1.5115 - accuracy: 0.4371 - val_loss: 1.2252 - val_accuracy: 0.4928\n",
            "Epoch 31/500\n",
            "104/104 [==============================] - 1s 8ms/step - loss: 1.4720 - accuracy: 0.4595 - val_loss: 1.2279 - val_accuracy: 0.6039\n",
            "Epoch 32/500\n",
            "104/104 [==============================] - 1s 8ms/step - loss: 1.4404 - accuracy: 0.4698 - val_loss: 1.2499 - val_accuracy: 0.4686\n",
            "Epoch 33/500\n",
            "104/104 [==============================] - 1s 8ms/step - loss: 1.4441 - accuracy: 0.4534 - val_loss: 1.2294 - val_accuracy: 0.5169\n",
            "Epoch 34/500\n",
            "104/104 [==============================] - 1s 9ms/step - loss: 1.4128 - accuracy: 0.4619 - val_loss: 1.2776 - val_accuracy: 0.4155\n",
            "Epoch 35/500\n",
            "104/104 [==============================] - 1s 8ms/step - loss: 1.3967 - accuracy: 0.4740 - val_loss: 1.2216 - val_accuracy: 0.5459\n",
            "Epoch 36/500\n",
            "104/104 [==============================] - 1s 9ms/step - loss: 1.3560 - accuracy: 0.4909 - val_loss: 1.1635 - val_accuracy: 0.5604\n",
            "Epoch 37/500\n",
            "104/104 [==============================] - 1s 9ms/step - loss: 1.3410 - accuracy: 0.4807 - val_loss: 1.2951 - val_accuracy: 0.5121\n",
            "Epoch 38/500\n",
            "104/104 [==============================] - 1s 9ms/step - loss: 1.2908 - accuracy: 0.5157 - val_loss: 1.2478 - val_accuracy: 0.4879\n",
            "Epoch 39/500\n",
            "104/104 [==============================] - 1s 8ms/step - loss: 1.2768 - accuracy: 0.5133 - val_loss: 1.1525 - val_accuracy: 0.5894\n",
            "Epoch 40/500\n",
            "104/104 [==============================] - 1s 9ms/step - loss: 1.3046 - accuracy: 0.5163 - val_loss: 1.1335 - val_accuracy: 0.5700\n",
            "Epoch 41/500\n",
            "104/104 [==============================] - 1s 8ms/step - loss: 1.2923 - accuracy: 0.5326 - val_loss: 1.0980 - val_accuracy: 0.6087\n",
            "Epoch 42/500\n",
            "104/104 [==============================] - 1s 8ms/step - loss: 1.2775 - accuracy: 0.5290 - val_loss: 1.1625 - val_accuracy: 0.5652\n",
            "Epoch 43/500\n",
            "104/104 [==============================] - 1s 9ms/step - loss: 1.2688 - accuracy: 0.5060 - val_loss: 1.1174 - val_accuracy: 0.5894\n",
            "Epoch 44/500\n",
            "104/104 [==============================] - 1s 9ms/step - loss: 1.2239 - accuracy: 0.5459 - val_loss: 1.1426 - val_accuracy: 0.5266\n",
            "Epoch 45/500\n",
            "104/104 [==============================] - 1s 9ms/step - loss: 1.2180 - accuracy: 0.5453 - val_loss: 1.1079 - val_accuracy: 0.5652\n",
            "Epoch 46/500\n",
            "104/104 [==============================] - 1s 8ms/step - loss: 1.1985 - accuracy: 0.5387 - val_loss: 1.2052 - val_accuracy: 0.5217\n",
            "Epoch 47/500\n",
            "104/104 [==============================] - 1s 8ms/step - loss: 1.2318 - accuracy: 0.5459 - val_loss: 1.1243 - val_accuracy: 0.5700\n",
            "Epoch 48/500\n",
            "104/104 [==============================] - 1s 8ms/step - loss: 1.1785 - accuracy: 0.5611 - val_loss: 1.1025 - val_accuracy: 0.5652\n",
            "Epoch 49/500\n",
            "104/104 [==============================] - 1s 8ms/step - loss: 1.1868 - accuracy: 0.5484 - val_loss: 1.1382 - val_accuracy: 0.5797\n",
            "Epoch 50/500\n",
            "104/104 [==============================] - 1s 8ms/step - loss: 1.1630 - accuracy: 0.5532 - val_loss: 1.0662 - val_accuracy: 0.6039\n",
            "Epoch 51/500\n",
            "104/104 [==============================] - 1s 8ms/step - loss: 1.1072 - accuracy: 0.5683 - val_loss: 1.1150 - val_accuracy: 0.6184\n",
            "Epoch 52/500\n",
            "104/104 [==============================] - 1s 9ms/step - loss: 1.1448 - accuracy: 0.5762 - val_loss: 1.0549 - val_accuracy: 0.6377\n",
            "Epoch 53/500\n",
            "104/104 [==============================] - 1s 8ms/step - loss: 1.0993 - accuracy: 0.5840 - val_loss: 1.0050 - val_accuracy: 0.6473\n",
            "Epoch 54/500\n",
            "104/104 [==============================] - 1s 9ms/step - loss: 1.1105 - accuracy: 0.5695 - val_loss: 1.0165 - val_accuracy: 0.6329\n",
            "Epoch 55/500\n",
            "104/104 [==============================] - 1s 9ms/step - loss: 1.0754 - accuracy: 0.5883 - val_loss: 1.0021 - val_accuracy: 0.6763\n",
            "Epoch 56/500\n",
            "104/104 [==============================] - 1s 9ms/step - loss: 1.0646 - accuracy: 0.5979 - val_loss: 1.0234 - val_accuracy: 0.6184\n",
            "Epoch 57/500\n",
            "104/104 [==============================] - 1s 9ms/step - loss: 1.0788 - accuracy: 0.5949 - val_loss: 0.9967 - val_accuracy: 0.6522\n",
            "Epoch 58/500\n",
            "104/104 [==============================] - 1s 9ms/step - loss: 1.0663 - accuracy: 0.6034 - val_loss: 0.9898 - val_accuracy: 0.6618\n",
            "Epoch 59/500\n",
            "104/104 [==============================] - 1s 9ms/step - loss: 1.0395 - accuracy: 0.6137 - val_loss: 1.0404 - val_accuracy: 0.6135\n",
            "Epoch 60/500\n",
            "104/104 [==============================] - 1s 9ms/step - loss: 1.0068 - accuracy: 0.6082 - val_loss: 0.9705 - val_accuracy: 0.6522\n",
            "Epoch 61/500\n",
            "104/104 [==============================] - 1s 9ms/step - loss: 1.0324 - accuracy: 0.5973 - val_loss: 0.9901 - val_accuracy: 0.6522\n",
            "Epoch 62/500\n",
            "104/104 [==============================] - 1s 8ms/step - loss: 0.9957 - accuracy: 0.6203 - val_loss: 0.9761 - val_accuracy: 0.6425\n",
            "Epoch 63/500\n",
            "104/104 [==============================] - 1s 8ms/step - loss: 0.9726 - accuracy: 0.6264 - val_loss: 0.9779 - val_accuracy: 0.6184\n",
            "Epoch 64/500\n",
            "104/104 [==============================] - 1s 9ms/step - loss: 0.9804 - accuracy: 0.6215 - val_loss: 0.9501 - val_accuracy: 0.6618\n",
            "Epoch 65/500\n",
            "104/104 [==============================] - 1s 8ms/step - loss: 0.9949 - accuracy: 0.6100 - val_loss: 0.9602 - val_accuracy: 0.6763\n",
            "Epoch 66/500\n",
            "104/104 [==============================] - 1s 8ms/step - loss: 0.9858 - accuracy: 0.6137 - val_loss: 0.9271 - val_accuracy: 0.6763\n",
            "Epoch 67/500\n",
            "104/104 [==============================] - 1s 9ms/step - loss: 0.9810 - accuracy: 0.6149 - val_loss: 0.9199 - val_accuracy: 0.6473\n",
            "Epoch 68/500\n",
            "104/104 [==============================] - 1s 9ms/step - loss: 0.9447 - accuracy: 0.6312 - val_loss: 0.9341 - val_accuracy: 0.6570\n",
            "Epoch 69/500\n",
            "104/104 [==============================] - 1s 9ms/step - loss: 0.9539 - accuracy: 0.6294 - val_loss: 0.9055 - val_accuracy: 0.6522\n",
            "Epoch 70/500\n",
            "104/104 [==============================] - 1s 9ms/step - loss: 0.9219 - accuracy: 0.6354 - val_loss: 0.9159 - val_accuracy: 0.6618\n",
            "Epoch 71/500\n",
            "104/104 [==============================] - 1s 9ms/step - loss: 0.9167 - accuracy: 0.6391 - val_loss: 0.9661 - val_accuracy: 0.6377\n",
            "Epoch 72/500\n",
            "104/104 [==============================] - 1s 9ms/step - loss: 0.9187 - accuracy: 0.6360 - val_loss: 0.9522 - val_accuracy: 0.6184\n",
            "Epoch 73/500\n",
            "104/104 [==============================] - 1s 9ms/step - loss: 0.9313 - accuracy: 0.6445 - val_loss: 0.9305 - val_accuracy: 0.6522\n",
            "Epoch 74/500\n",
            "104/104 [==============================] - 1s 9ms/step - loss: 0.8921 - accuracy: 0.6463 - val_loss: 0.8842 - val_accuracy: 0.7101\n",
            "Epoch 75/500\n",
            "104/104 [==============================] - 1s 9ms/step - loss: 0.8999 - accuracy: 0.6584 - val_loss: 0.8934 - val_accuracy: 0.6715\n",
            "Epoch 76/500\n",
            "104/104 [==============================] - 1s 9ms/step - loss: 0.9074 - accuracy: 0.6493 - val_loss: 0.8801 - val_accuracy: 0.6618\n",
            "Epoch 77/500\n",
            "104/104 [==============================] - 1s 9ms/step - loss: 0.8936 - accuracy: 0.6614 - val_loss: 0.8694 - val_accuracy: 0.7053\n",
            "Epoch 78/500\n",
            "104/104 [==============================] - 1s 9ms/step - loss: 0.8816 - accuracy: 0.6572 - val_loss: 0.8666 - val_accuracy: 0.7053\n",
            "Epoch 79/500\n",
            "104/104 [==============================] - 1s 9ms/step - loss: 0.8491 - accuracy: 0.6735 - val_loss: 0.8514 - val_accuracy: 0.7440\n",
            "Epoch 80/500\n",
            "104/104 [==============================] - 1s 8ms/step - loss: 0.8482 - accuracy: 0.6657 - val_loss: 0.8260 - val_accuracy: 0.6908\n",
            "Epoch 81/500\n",
            "104/104 [==============================] - 1s 8ms/step - loss: 0.8518 - accuracy: 0.6675 - val_loss: 0.8421 - val_accuracy: 0.7198\n",
            "Epoch 82/500\n",
            "104/104 [==============================] - 1s 9ms/step - loss: 0.8293 - accuracy: 0.6693 - val_loss: 0.8537 - val_accuracy: 0.6618\n",
            "Epoch 83/500\n",
            "104/104 [==============================] - 1s 9ms/step - loss: 0.8373 - accuracy: 0.6765 - val_loss: 0.9341 - val_accuracy: 0.6232\n",
            "Epoch 84/500\n",
            "104/104 [==============================] - 1s 8ms/step - loss: 0.8286 - accuracy: 0.6802 - val_loss: 0.8810 - val_accuracy: 0.6763\n",
            "Epoch 85/500\n",
            "104/104 [==============================] - 1s 9ms/step - loss: 0.8372 - accuracy: 0.6784 - val_loss: 0.8417 - val_accuracy: 0.6763\n",
            "Epoch 86/500\n",
            "104/104 [==============================] - 1s 9ms/step - loss: 0.8413 - accuracy: 0.6699 - val_loss: 0.8200 - val_accuracy: 0.7343\n",
            "Epoch 87/500\n",
            "104/104 [==============================] - 1s 9ms/step - loss: 0.8147 - accuracy: 0.6880 - val_loss: 0.8318 - val_accuracy: 0.6957\n",
            "Epoch 88/500\n",
            "104/104 [==============================] - 1s 9ms/step - loss: 0.8347 - accuracy: 0.6699 - val_loss: 0.8214 - val_accuracy: 0.7101\n",
            "Epoch 89/500\n",
            "104/104 [==============================] - 1s 8ms/step - loss: 0.8252 - accuracy: 0.6820 - val_loss: 0.8714 - val_accuracy: 0.6908\n",
            "Epoch 90/500\n",
            "104/104 [==============================] - 1s 9ms/step - loss: 0.8111 - accuracy: 0.6898 - val_loss: 0.8386 - val_accuracy: 0.6860\n",
            "Epoch 91/500\n",
            "104/104 [==============================] - 1s 9ms/step - loss: 0.7962 - accuracy: 0.6904 - val_loss: 0.7779 - val_accuracy: 0.7343\n",
            "Epoch 92/500\n",
            "104/104 [==============================] - 1s 9ms/step - loss: 0.7777 - accuracy: 0.7037 - val_loss: 0.8178 - val_accuracy: 0.7101\n",
            "Epoch 93/500\n",
            "104/104 [==============================] - 1s 9ms/step - loss: 0.7827 - accuracy: 0.6929 - val_loss: 0.8076 - val_accuracy: 0.6957\n",
            "Epoch 94/500\n",
            "104/104 [==============================] - 1s 9ms/step - loss: 0.7707 - accuracy: 0.7146 - val_loss: 0.8022 - val_accuracy: 0.7005\n",
            "Epoch 95/500\n",
            "104/104 [==============================] - 1s 9ms/step - loss: 0.7921 - accuracy: 0.6862 - val_loss: 0.7691 - val_accuracy: 0.7198\n",
            "Epoch 96/500\n",
            "104/104 [==============================] - 1s 9ms/step - loss: 0.7885 - accuracy: 0.6917 - val_loss: 0.8154 - val_accuracy: 0.6812\n",
            "Epoch 97/500\n",
            "104/104 [==============================] - 1s 9ms/step - loss: 0.7734 - accuracy: 0.7025 - val_loss: 0.9407 - val_accuracy: 0.6135\n",
            "Epoch 98/500\n",
            "104/104 [==============================] - 1s 9ms/step - loss: 0.7680 - accuracy: 0.6886 - val_loss: 0.8302 - val_accuracy: 0.6522\n",
            "Epoch 99/500\n",
            "104/104 [==============================] - 1s 8ms/step - loss: 0.7624 - accuracy: 0.7062 - val_loss: 0.7898 - val_accuracy: 0.7053\n",
            "Epoch 100/500\n",
            "104/104 [==============================] - 1s 8ms/step - loss: 0.7595 - accuracy: 0.6850 - val_loss: 0.7880 - val_accuracy: 0.7101\n",
            "Epoch 101/500\n",
            "104/104 [==============================] - 1s 9ms/step - loss: 0.7300 - accuracy: 0.7122 - val_loss: 0.7746 - val_accuracy: 0.7295\n",
            "Epoch 102/500\n",
            "104/104 [==============================] - 1s 11ms/step - loss: 0.7283 - accuracy: 0.7134 - val_loss: 0.7587 - val_accuracy: 0.7391\n",
            "Epoch 103/500\n",
            "104/104 [==============================] - 1s 9ms/step - loss: 0.7239 - accuracy: 0.7201 - val_loss: 0.8099 - val_accuracy: 0.7005\n",
            "Epoch 104/500\n",
            "104/104 [==============================] - 1s 9ms/step - loss: 0.7450 - accuracy: 0.6935 - val_loss: 0.7870 - val_accuracy: 0.7440\n",
            "Epoch 105/500\n",
            "104/104 [==============================] - 1s 9ms/step - loss: 0.7249 - accuracy: 0.7279 - val_loss: 0.7575 - val_accuracy: 0.7391\n",
            "Epoch 106/500\n",
            "104/104 [==============================] - 1s 9ms/step - loss: 0.7446 - accuracy: 0.7152 - val_loss: 0.7383 - val_accuracy: 0.7440\n",
            "Epoch 107/500\n",
            "104/104 [==============================] - 1s 9ms/step - loss: 0.7301 - accuracy: 0.7164 - val_loss: 0.7398 - val_accuracy: 0.7343\n",
            "Epoch 108/500\n",
            "104/104 [==============================] - 2s 15ms/step - loss: 0.7194 - accuracy: 0.7195 - val_loss: 0.7428 - val_accuracy: 0.7053\n",
            "Epoch 109/500\n",
            "104/104 [==============================] - 1s 9ms/step - loss: 0.7199 - accuracy: 0.7183 - val_loss: 0.7975 - val_accuracy: 0.7005\n",
            "Epoch 110/500\n",
            "104/104 [==============================] - 1s 8ms/step - loss: 0.6954 - accuracy: 0.7219 - val_loss: 0.7726 - val_accuracy: 0.7150\n",
            "Epoch 111/500\n",
            "104/104 [==============================] - 1s 8ms/step - loss: 0.7221 - accuracy: 0.7056 - val_loss: 0.7432 - val_accuracy: 0.7343\n",
            "Epoch 112/500\n",
            "104/104 [==============================] - 1s 9ms/step - loss: 0.6936 - accuracy: 0.7364 - val_loss: 0.7397 - val_accuracy: 0.7295\n",
            "Epoch 113/500\n",
            "104/104 [==============================] - 1s 9ms/step - loss: 0.7232 - accuracy: 0.7164 - val_loss: 0.7559 - val_accuracy: 0.7198\n",
            "Epoch 114/500\n",
            "104/104 [==============================] - 1s 9ms/step - loss: 0.7077 - accuracy: 0.7376 - val_loss: 0.7340 - val_accuracy: 0.7198\n",
            "Epoch 115/500\n",
            "104/104 [==============================] - 1s 9ms/step - loss: 0.6927 - accuracy: 0.7340 - val_loss: 0.7539 - val_accuracy: 0.7440\n",
            "Epoch 116/500\n",
            "104/104 [==============================] - 1s 9ms/step - loss: 0.6803 - accuracy: 0.7267 - val_loss: 0.7317 - val_accuracy: 0.7536\n",
            "Epoch 117/500\n",
            "104/104 [==============================] - 1s 9ms/step - loss: 0.6804 - accuracy: 0.7400 - val_loss: 0.7702 - val_accuracy: 0.6908\n",
            "Epoch 118/500\n",
            "104/104 [==============================] - 2s 16ms/step - loss: 0.6904 - accuracy: 0.7370 - val_loss: 0.7201 - val_accuracy: 0.7295\n",
            "Epoch 119/500\n",
            "104/104 [==============================] - 2s 16ms/step - loss: 0.6834 - accuracy: 0.7455 - val_loss: 0.7863 - val_accuracy: 0.7101\n",
            "Epoch 120/500\n",
            "104/104 [==============================] - 1s 9ms/step - loss: 0.6510 - accuracy: 0.7515 - val_loss: 0.7293 - val_accuracy: 0.7536\n",
            "Epoch 121/500\n",
            "104/104 [==============================] - 1s 9ms/step - loss: 0.6609 - accuracy: 0.7479 - val_loss: 0.7213 - val_accuracy: 0.7198\n",
            "Epoch 122/500\n",
            "104/104 [==============================] - 1s 9ms/step - loss: 0.6846 - accuracy: 0.7455 - val_loss: 0.7688 - val_accuracy: 0.7246\n",
            "Epoch 123/500\n",
            "104/104 [==============================] - 1s 8ms/step - loss: 0.6432 - accuracy: 0.7467 - val_loss: 0.7590 - val_accuracy: 0.6812\n",
            "Epoch 124/500\n",
            "104/104 [==============================] - 1s 9ms/step - loss: 0.6602 - accuracy: 0.7503 - val_loss: 0.7059 - val_accuracy: 0.7391\n",
            "Epoch 125/500\n",
            "104/104 [==============================] - 1s 9ms/step - loss: 0.6590 - accuracy: 0.7479 - val_loss: 0.7249 - val_accuracy: 0.6860\n",
            "Epoch 126/500\n",
            "104/104 [==============================] - 1s 9ms/step - loss: 0.6689 - accuracy: 0.7430 - val_loss: 0.7600 - val_accuracy: 0.6763\n",
            "Epoch 127/500\n",
            "104/104 [==============================] - 1s 9ms/step - loss: 0.6529 - accuracy: 0.7467 - val_loss: 0.7232 - val_accuracy: 0.7101\n",
            "Epoch 128/500\n",
            "104/104 [==============================] - 1s 9ms/step - loss: 0.6486 - accuracy: 0.7412 - val_loss: 0.7114 - val_accuracy: 0.7536\n",
            "Epoch 129/500\n",
            "104/104 [==============================] - 1s 9ms/step - loss: 0.6454 - accuracy: 0.7443 - val_loss: 0.7069 - val_accuracy: 0.7246\n",
            "Epoch 130/500\n",
            "104/104 [==============================] - 1s 9ms/step - loss: 0.6736 - accuracy: 0.7467 - val_loss: 0.6954 - val_accuracy: 0.7633\n",
            "Epoch 131/500\n",
            "104/104 [==============================] - 1s 9ms/step - loss: 0.6526 - accuracy: 0.7551 - val_loss: 0.7026 - val_accuracy: 0.7391\n",
            "Epoch 132/500\n",
            "104/104 [==============================] - 1s 9ms/step - loss: 0.6108 - accuracy: 0.7630 - val_loss: 0.6808 - val_accuracy: 0.7681\n",
            "Epoch 133/500\n",
            "104/104 [==============================] - 1s 9ms/step - loss: 0.6378 - accuracy: 0.7533 - val_loss: 0.7149 - val_accuracy: 0.7295\n",
            "Epoch 134/500\n",
            "104/104 [==============================] - 1s 9ms/step - loss: 0.6279 - accuracy: 0.7521 - val_loss: 0.7222 - val_accuracy: 0.7440\n",
            "Epoch 135/500\n",
            "104/104 [==============================] - 1s 8ms/step - loss: 0.6223 - accuracy: 0.7576 - val_loss: 0.7278 - val_accuracy: 0.7343\n",
            "Epoch 136/500\n",
            "104/104 [==============================] - 1s 8ms/step - loss: 0.6172 - accuracy: 0.7551 - val_loss: 0.7178 - val_accuracy: 0.7101\n",
            "Epoch 137/500\n",
            "104/104 [==============================] - 1s 9ms/step - loss: 0.6233 - accuracy: 0.7515 - val_loss: 0.6701 - val_accuracy: 0.7778\n",
            "Epoch 138/500\n",
            "104/104 [==============================] - 1s 10ms/step - loss: 0.6041 - accuracy: 0.7642 - val_loss: 0.7822 - val_accuracy: 0.7246\n",
            "Epoch 139/500\n",
            "104/104 [==============================] - 1s 9ms/step - loss: 0.6153 - accuracy: 0.7545 - val_loss: 0.7372 - val_accuracy: 0.7053\n",
            "Epoch 140/500\n",
            "104/104 [==============================] - 1s 9ms/step - loss: 0.6028 - accuracy: 0.7690 - val_loss: 0.6923 - val_accuracy: 0.7246\n",
            "Epoch 141/500\n",
            "104/104 [==============================] - 1s 10ms/step - loss: 0.5949 - accuracy: 0.7721 - val_loss: 0.7194 - val_accuracy: 0.7246\n",
            "Epoch 142/500\n",
            "104/104 [==============================] - 1s 9ms/step - loss: 0.5937 - accuracy: 0.7715 - val_loss: 0.7176 - val_accuracy: 0.7295\n",
            "Epoch 143/500\n",
            "104/104 [==============================] - 1s 9ms/step - loss: 0.6228 - accuracy: 0.7576 - val_loss: 0.6936 - val_accuracy: 0.7295\n",
            "Epoch 144/500\n",
            "104/104 [==============================] - 1s 9ms/step - loss: 0.6043 - accuracy: 0.7576 - val_loss: 0.7072 - val_accuracy: 0.7536\n",
            "Epoch 145/500\n",
            "104/104 [==============================] - 1s 9ms/step - loss: 0.5918 - accuracy: 0.7709 - val_loss: 0.7132 - val_accuracy: 0.7150\n",
            "Epoch 146/500\n",
            "104/104 [==============================] - 1s 9ms/step - loss: 0.5959 - accuracy: 0.7696 - val_loss: 0.7186 - val_accuracy: 0.7150\n",
            "Epoch 147/500\n",
            "104/104 [==============================] - 1s 9ms/step - loss: 0.5795 - accuracy: 0.7848 - val_loss: 0.6606 - val_accuracy: 0.7729\n",
            "Epoch 148/500\n",
            "104/104 [==============================] - 1s 9ms/step - loss: 0.6103 - accuracy: 0.7612 - val_loss: 0.6661 - val_accuracy: 0.7440\n",
            "Epoch 149/500\n",
            "104/104 [==============================] - 1s 9ms/step - loss: 0.5930 - accuracy: 0.7709 - val_loss: 0.6686 - val_accuracy: 0.7198\n",
            "Epoch 150/500\n",
            "104/104 [==============================] - 1s 9ms/step - loss: 0.5823 - accuracy: 0.7757 - val_loss: 0.6617 - val_accuracy: 0.7826\n",
            "Epoch 151/500\n",
            "104/104 [==============================] - 1s 9ms/step - loss: 0.5814 - accuracy: 0.7775 - val_loss: 0.6962 - val_accuracy: 0.7198\n",
            "Epoch 152/500\n",
            "104/104 [==============================] - 1s 9ms/step - loss: 0.6051 - accuracy: 0.7666 - val_loss: 0.6724 - val_accuracy: 0.7440\n",
            "Epoch 153/500\n",
            "104/104 [==============================] - 1s 9ms/step - loss: 0.5793 - accuracy: 0.7830 - val_loss: 0.6606 - val_accuracy: 0.7391\n",
            "Epoch 154/500\n",
            "104/104 [==============================] - 1s 9ms/step - loss: 0.5540 - accuracy: 0.7884 - val_loss: 0.7302 - val_accuracy: 0.7246\n",
            "Epoch 155/500\n",
            "104/104 [==============================] - 1s 9ms/step - loss: 0.5444 - accuracy: 0.7860 - val_loss: 0.6989 - val_accuracy: 0.7585\n",
            "Epoch 156/500\n",
            "104/104 [==============================] - 1s 10ms/step - loss: 0.5452 - accuracy: 0.7902 - val_loss: 0.6487 - val_accuracy: 0.7729\n",
            "Epoch 157/500\n",
            "104/104 [==============================] - 1s 9ms/step - loss: 0.5691 - accuracy: 0.7920 - val_loss: 0.6682 - val_accuracy: 0.7585\n",
            "Epoch 158/500\n",
            "104/104 [==============================] - 1s 9ms/step - loss: 0.5365 - accuracy: 0.7878 - val_loss: 0.6740 - val_accuracy: 0.7391\n",
            "Epoch 159/500\n",
            "104/104 [==============================] - 1s 9ms/step - loss: 0.5658 - accuracy: 0.7854 - val_loss: 0.6528 - val_accuracy: 0.7585\n",
            "Epoch 160/500\n",
            "104/104 [==============================] - 1s 9ms/step - loss: 0.5501 - accuracy: 0.7914 - val_loss: 0.6661 - val_accuracy: 0.7585\n",
            "Epoch 161/500\n",
            "104/104 [==============================] - 1s 8ms/step - loss: 0.5352 - accuracy: 0.8023 - val_loss: 0.6376 - val_accuracy: 0.7826\n",
            "Epoch 162/500\n",
            "104/104 [==============================] - 1s 9ms/step - loss: 0.5464 - accuracy: 0.7926 - val_loss: 0.6523 - val_accuracy: 0.7295\n",
            "Epoch 163/500\n",
            "104/104 [==============================] - 1s 9ms/step - loss: 0.5529 - accuracy: 0.7769 - val_loss: 0.6648 - val_accuracy: 0.7440\n",
            "Epoch 164/500\n",
            "104/104 [==============================] - 1s 9ms/step - loss: 0.5334 - accuracy: 0.7981 - val_loss: 0.6500 - val_accuracy: 0.7585\n",
            "Epoch 165/500\n",
            "104/104 [==============================] - 1s 9ms/step - loss: 0.5331 - accuracy: 0.7926 - val_loss: 0.6274 - val_accuracy: 0.7585\n",
            "Epoch 166/500\n",
            "104/104 [==============================] - 1s 9ms/step - loss: 0.5303 - accuracy: 0.7920 - val_loss: 0.6631 - val_accuracy: 0.7391\n",
            "Epoch 167/500\n",
            "104/104 [==============================] - 1s 9ms/step - loss: 0.5405 - accuracy: 0.7878 - val_loss: 0.6946 - val_accuracy: 0.7440\n",
            "Epoch 168/500\n",
            "104/104 [==============================] - 1s 9ms/step - loss: 0.5340 - accuracy: 0.7987 - val_loss: 0.6371 - val_accuracy: 0.7681\n",
            "Epoch 169/500\n",
            "104/104 [==============================] - 1s 9ms/step - loss: 0.5258 - accuracy: 0.7938 - val_loss: 0.6904 - val_accuracy: 0.7198\n",
            "Epoch 170/500\n",
            "104/104 [==============================] - 1s 9ms/step - loss: 0.5464 - accuracy: 0.7920 - val_loss: 0.6469 - val_accuracy: 0.7729\n",
            "Epoch 171/500\n",
            "104/104 [==============================] - 1s 9ms/step - loss: 0.5485 - accuracy: 0.8059 - val_loss: 0.6512 - val_accuracy: 0.7440\n",
            "Epoch 172/500\n",
            "104/104 [==============================] - 1s 9ms/step - loss: 0.5120 - accuracy: 0.7920 - val_loss: 0.6151 - val_accuracy: 0.7778\n",
            "Epoch 173/500\n",
            "104/104 [==============================] - 1s 8ms/step - loss: 0.5202 - accuracy: 0.7842 - val_loss: 0.7075 - val_accuracy: 0.7053\n",
            "Epoch 174/500\n",
            "104/104 [==============================] - 1s 9ms/step - loss: 0.5150 - accuracy: 0.7975 - val_loss: 0.6794 - val_accuracy: 0.7198\n",
            "Epoch 175/500\n",
            "104/104 [==============================] - 1s 9ms/step - loss: 0.5109 - accuracy: 0.7969 - val_loss: 0.5978 - val_accuracy: 0.8068\n",
            "Epoch 176/500\n",
            "104/104 [==============================] - 1s 9ms/step - loss: 0.5193 - accuracy: 0.8035 - val_loss: 0.6041 - val_accuracy: 0.7681\n",
            "Epoch 177/500\n",
            "104/104 [==============================] - 1s 9ms/step - loss: 0.5167 - accuracy: 0.8041 - val_loss: 0.6122 - val_accuracy: 0.7633\n",
            "Epoch 178/500\n",
            "104/104 [==============================] - 1s 9ms/step - loss: 0.5093 - accuracy: 0.8083 - val_loss: 0.6836 - val_accuracy: 0.7198\n",
            "Epoch 179/500\n",
            "104/104 [==============================] - 1s 9ms/step - loss: 0.5167 - accuracy: 0.8065 - val_loss: 0.6512 - val_accuracy: 0.7585\n",
            "Epoch 180/500\n",
            "104/104 [==============================] - 1s 9ms/step - loss: 0.4909 - accuracy: 0.8120 - val_loss: 0.6222 - val_accuracy: 0.7633\n",
            "Epoch 181/500\n",
            "104/104 [==============================] - 1s 9ms/step - loss: 0.5195 - accuracy: 0.8077 - val_loss: 0.6463 - val_accuracy: 0.7585\n",
            "Epoch 182/500\n",
            "104/104 [==============================] - 1s 9ms/step - loss: 0.4927 - accuracy: 0.8162 - val_loss: 0.6140 - val_accuracy: 0.7923\n",
            "Epoch 183/500\n",
            "104/104 [==============================] - 1s 9ms/step - loss: 0.5095 - accuracy: 0.8096 - val_loss: 0.6802 - val_accuracy: 0.7778\n",
            "Epoch 184/500\n",
            "104/104 [==============================] - 1s 10ms/step - loss: 0.5023 - accuracy: 0.8041 - val_loss: 0.5979 - val_accuracy: 0.7874\n",
            "Epoch 185/500\n",
            "104/104 [==============================] - 1s 10ms/step - loss: 0.4979 - accuracy: 0.8126 - val_loss: 0.6491 - val_accuracy: 0.7874\n",
            "Epoch 186/500\n",
            "104/104 [==============================] - 1s 10ms/step - loss: 0.4913 - accuracy: 0.8144 - val_loss: 0.5999 - val_accuracy: 0.7971\n",
            "Epoch 187/500\n",
            "104/104 [==============================] - 1s 9ms/step - loss: 0.4850 - accuracy: 0.8235 - val_loss: 0.6372 - val_accuracy: 0.7778\n",
            "Epoch 188/500\n",
            "104/104 [==============================] - 1s 9ms/step - loss: 0.4806 - accuracy: 0.8253 - val_loss: 0.5927 - val_accuracy: 0.7778\n",
            "Epoch 189/500\n",
            "104/104 [==============================] - 1s 9ms/step - loss: 0.4929 - accuracy: 0.8222 - val_loss: 0.5983 - val_accuracy: 0.7874\n",
            "Epoch 190/500\n",
            "104/104 [==============================] - 1s 9ms/step - loss: 0.4937 - accuracy: 0.8053 - val_loss: 0.5995 - val_accuracy: 0.7874\n",
            "Epoch 191/500\n",
            "104/104 [==============================] - 1s 9ms/step - loss: 0.5091 - accuracy: 0.8053 - val_loss: 0.6291 - val_accuracy: 0.7729\n",
            "Epoch 192/500\n",
            "104/104 [==============================] - 1s 9ms/step - loss: 0.4792 - accuracy: 0.8168 - val_loss: 0.6072 - val_accuracy: 0.7778\n",
            "Epoch 193/500\n",
            "104/104 [==============================] - 1s 9ms/step - loss: 0.4972 - accuracy: 0.8071 - val_loss: 0.6184 - val_accuracy: 0.7874\n",
            "Epoch 194/500\n",
            "104/104 [==============================] - 1s 9ms/step - loss: 0.5005 - accuracy: 0.8047 - val_loss: 0.5852 - val_accuracy: 0.7778\n",
            "Epoch 195/500\n",
            "104/104 [==============================] - 1s 9ms/step - loss: 0.4446 - accuracy: 0.8368 - val_loss: 0.6185 - val_accuracy: 0.7778\n",
            "Epoch 196/500\n",
            "104/104 [==============================] - 1s 10ms/step - loss: 0.5012 - accuracy: 0.8083 - val_loss: 0.6237 - val_accuracy: 0.7778\n",
            "Epoch 197/500\n",
            "104/104 [==============================] - 1s 10ms/step - loss: 0.4687 - accuracy: 0.8222 - val_loss: 0.6188 - val_accuracy: 0.7971\n",
            "Epoch 198/500\n",
            "104/104 [==============================] - 1s 9ms/step - loss: 0.4521 - accuracy: 0.8241 - val_loss: 0.6793 - val_accuracy: 0.7343\n",
            "Epoch 199/500\n",
            "104/104 [==============================] - 1s 9ms/step - loss: 0.4774 - accuracy: 0.8174 - val_loss: 0.7290 - val_accuracy: 0.7150\n",
            "Epoch 200/500\n",
            "104/104 [==============================] - 1s 9ms/step - loss: 0.4852 - accuracy: 0.8059 - val_loss: 0.6395 - val_accuracy: 0.7778\n",
            "Epoch 201/500\n",
            "104/104 [==============================] - 1s 9ms/step - loss: 0.4869 - accuracy: 0.8108 - val_loss: 0.5873 - val_accuracy: 0.7826\n",
            "Epoch 202/500\n",
            "104/104 [==============================] - 1s 9ms/step - loss: 0.4643 - accuracy: 0.8277 - val_loss: 0.6077 - val_accuracy: 0.7729\n",
            "Epoch 203/500\n",
            "104/104 [==============================] - 1s 9ms/step - loss: 0.4783 - accuracy: 0.8114 - val_loss: 0.6170 - val_accuracy: 0.7585\n",
            "Epoch 204/500\n",
            "104/104 [==============================] - 1s 13ms/step - loss: 0.4811 - accuracy: 0.8089 - val_loss: 0.5896 - val_accuracy: 0.7923\n",
            "Epoch 205/500\n",
            "104/104 [==============================] - 1s 10ms/step - loss: 0.4383 - accuracy: 0.8319 - val_loss: 0.6060 - val_accuracy: 0.7729\n",
            "Epoch 206/500\n",
            "104/104 [==============================] - 1s 10ms/step - loss: 0.4704 - accuracy: 0.8162 - val_loss: 0.6346 - val_accuracy: 0.7585\n",
            "Epoch 207/500\n",
            "104/104 [==============================] - 1s 9ms/step - loss: 0.4433 - accuracy: 0.8301 - val_loss: 0.5913 - val_accuracy: 0.7923\n",
            "Epoch 208/500\n",
            "104/104 [==============================] - 1s 9ms/step - loss: 0.4612 - accuracy: 0.8307 - val_loss: 0.6619 - val_accuracy: 0.7681\n",
            "Epoch 209/500\n",
            "104/104 [==============================] - 1s 10ms/step - loss: 0.4697 - accuracy: 0.8235 - val_loss: 0.6108 - val_accuracy: 0.7778\n",
            "Epoch 210/500\n",
            "104/104 [==============================] - 1s 9ms/step - loss: 0.4594 - accuracy: 0.8271 - val_loss: 0.5881 - val_accuracy: 0.7923\n",
            "Epoch 211/500\n",
            "104/104 [==============================] - 1s 9ms/step - loss: 0.4638 - accuracy: 0.8307 - val_loss: 0.6094 - val_accuracy: 0.7923\n",
            "Epoch 212/500\n",
            "104/104 [==============================] - 1s 9ms/step - loss: 0.4496 - accuracy: 0.8356 - val_loss: 0.5988 - val_accuracy: 0.7923\n",
            "Epoch 213/500\n",
            "104/104 [==============================] - 1s 9ms/step - loss: 0.4573 - accuracy: 0.8222 - val_loss: 0.6436 - val_accuracy: 0.7681\n",
            "Epoch 214/500\n",
            "104/104 [==============================] - 1s 9ms/step - loss: 0.4572 - accuracy: 0.8307 - val_loss: 0.5738 - val_accuracy: 0.8019\n",
            "Epoch 215/500\n",
            "104/104 [==============================] - 1s 9ms/step - loss: 0.4846 - accuracy: 0.8204 - val_loss: 0.5617 - val_accuracy: 0.7826\n",
            "Epoch 216/500\n",
            "104/104 [==============================] - 1s 9ms/step - loss: 0.4637 - accuracy: 0.8253 - val_loss: 0.6162 - val_accuracy: 0.7923\n",
            "Epoch 217/500\n",
            "104/104 [==============================] - 1s 9ms/step - loss: 0.4606 - accuracy: 0.8222 - val_loss: 0.5848 - val_accuracy: 0.8068\n",
            "Epoch 218/500\n",
            "104/104 [==============================] - 1s 9ms/step - loss: 0.4428 - accuracy: 0.8265 - val_loss: 0.6358 - val_accuracy: 0.7633\n",
            "Epoch 219/500\n",
            "104/104 [==============================] - 1s 9ms/step - loss: 0.4556 - accuracy: 0.8386 - val_loss: 0.6235 - val_accuracy: 0.7923\n",
            "Epoch 220/500\n",
            "104/104 [==============================] - 1s 9ms/step - loss: 0.4627 - accuracy: 0.8319 - val_loss: 0.6134 - val_accuracy: 0.7826\n",
            "Epoch 221/500\n",
            "104/104 [==============================] - 1s 9ms/step - loss: 0.4321 - accuracy: 0.8398 - val_loss: 0.6083 - val_accuracy: 0.7729\n",
            "Epoch 222/500\n",
            "104/104 [==============================] - 1s 9ms/step - loss: 0.4347 - accuracy: 0.8422 - val_loss: 0.5928 - val_accuracy: 0.7778\n",
            "Epoch 223/500\n",
            "104/104 [==============================] - 1s 9ms/step - loss: 0.4478 - accuracy: 0.8380 - val_loss: 0.5807 - val_accuracy: 0.8068\n",
            "Epoch 224/500\n",
            "104/104 [==============================] - 1s 9ms/step - loss: 0.4199 - accuracy: 0.8374 - val_loss: 0.6262 - val_accuracy: 0.7729\n",
            "Epoch 225/500\n",
            "104/104 [==============================] - 1s 9ms/step - loss: 0.4202 - accuracy: 0.8398 - val_loss: 0.6321 - val_accuracy: 0.7585\n",
            "Epoch 226/500\n",
            "104/104 [==============================] - 1s 9ms/step - loss: 0.4082 - accuracy: 0.8404 - val_loss: 0.5839 - val_accuracy: 0.7923\n",
            "Epoch 227/500\n",
            "104/104 [==============================] - 1s 10ms/step - loss: 0.4298 - accuracy: 0.8313 - val_loss: 0.6543 - val_accuracy: 0.7536\n",
            "Epoch 228/500\n",
            "104/104 [==============================] - 1s 9ms/step - loss: 0.4187 - accuracy: 0.8410 - val_loss: 0.5993 - val_accuracy: 0.7778\n",
            "Epoch 229/500\n",
            "104/104 [==============================] - 1s 10ms/step - loss: 0.4260 - accuracy: 0.8434 - val_loss: 0.6168 - val_accuracy: 0.7923\n",
            "Epoch 230/500\n",
            "104/104 [==============================] - 1s 10ms/step - loss: 0.4281 - accuracy: 0.8325 - val_loss: 0.6116 - val_accuracy: 0.7923\n",
            "Epoch 231/500\n",
            "104/104 [==============================] - 1s 10ms/step - loss: 0.4392 - accuracy: 0.8343 - val_loss: 0.6564 - val_accuracy: 0.7585\n",
            "Epoch 232/500\n",
            "104/104 [==============================] - 1s 9ms/step - loss: 0.3977 - accuracy: 0.8519 - val_loss: 0.6468 - val_accuracy: 0.7778\n",
            "Epoch 233/500\n",
            "104/104 [==============================] - 1s 9ms/step - loss: 0.4250 - accuracy: 0.8313 - val_loss: 0.6010 - val_accuracy: 0.7874\n",
            "Epoch 234/500\n",
            "104/104 [==============================] - 1s 10ms/step - loss: 0.4360 - accuracy: 0.8404 - val_loss: 0.5918 - val_accuracy: 0.7874\n",
            "Epoch 235/500\n",
            "104/104 [==============================] - 1s 9ms/step - loss: 0.4244 - accuracy: 0.8428 - val_loss: 0.5855 - val_accuracy: 0.8116\n",
            "Epoch 236/500\n",
            "104/104 [==============================] - 1s 10ms/step - loss: 0.3950 - accuracy: 0.8428 - val_loss: 0.5889 - val_accuracy: 0.8019\n",
            "Epoch 237/500\n",
            "104/104 [==============================] - 1s 9ms/step - loss: 0.4241 - accuracy: 0.8307 - val_loss: 0.5760 - val_accuracy: 0.7729\n",
            "Epoch 238/500\n",
            "104/104 [==============================] - 1s 9ms/step - loss: 0.4262 - accuracy: 0.8543 - val_loss: 0.5931 - val_accuracy: 0.7826\n",
            "Epoch 239/500\n",
            "104/104 [==============================] - 1s 9ms/step - loss: 0.4155 - accuracy: 0.8386 - val_loss: 0.6170 - val_accuracy: 0.7778\n",
            "Epoch 240/500\n",
            "104/104 [==============================] - 1s 10ms/step - loss: 0.3862 - accuracy: 0.8609 - val_loss: 0.6100 - val_accuracy: 0.7681\n"
          ]
        }
      ]
    },
    {
      "cell_type": "code",
      "source": [
        "plt.plot(cnnhistory.history['loss'])\n",
        "plt.plot(cnnhistory.history['val_loss'])\n",
        "plt.title('model loss')\n",
        "plt.ylabel('loss')\n",
        "plt.xlabel('epoch')\n",
        "plt.legend(['train','test'], loc='upper left')\n",
        "plt.show()"
      ],
      "metadata": {
        "id": "oQYnuaCrDH_A",
        "colab": {
          "base_uri": "https://localhost:8080/",
          "height": 295
        },
        "outputId": "86a08bee-64d7-47c0-fcdc-6dfc56d8e11b"
      },
      "execution_count": 15,
      "outputs": [
        {
          "output_type": "display_data",
          "data": {
            "text/plain": [
              "<Figure size 432x288 with 1 Axes>"
            ],
            "image/png": "[encoded data removed]"
          },
          "metadata": {
            "needs_background": "light"
          }
        }
      ]
    },
    {
      "cell_type": "code",
      "source": [
        "plt.plot(cnnhistory.history['accuracy'])\n",
        "plt.plot(cnnhistory.history['val_accuracy'])\n",
        "plt.title('model accuracy')\n",
        "plt.ylabel('accuracy')\n",
        "plt.xlabel('epoch')\n",
        "plt.legend(['train','test'], loc='upper left')\n",
        "plt.show()"
      ],
      "metadata": {
        "id": "IFkTuO8nDNdq",
        "colab": {
          "base_uri": "https://localhost:8080/",
          "height": 295
        },
        "outputId": "09a9d25d-ed8f-496d-e99e-2a876e49c8b4"
      },
      "execution_count": 16,
      "outputs": [
        {
          "output_type": "display_data",
          "data": {
            "text/plain": [
              "<Figure size 432x288 with 1 Axes>"
            ],
            "image/png": "[encoded data removed]"
          },
          "metadata": {
            "needs_background": "light"
          }
        }
      ]
    },
    {
      "cell_type": "code",
      "source": [
        "predictions = model.predict(x_testcnn)"
      ],
      "metadata": {
        "id": "A2xtrN5wDQgY"
      },
      "execution_count": 17,
      "outputs": []
    },
    {
      "cell_type": "code",
      "source": [
        "predictions"
      ],
      "metadata": {
        "id": "_f_ohjXKDUpY",
        "colab": {
          "base_uri": "https://localhost:8080/"
        },
        "outputId": "ba2009f3-8551-452c-95f6-d34520f905a0"
      },
      "execution_count": 18,
      "outputs": [
        {
          "output_type": "execute_result",
          "data": {
            "text/plain": [
              "array([[3.41122478e-01, 1.65903866e-01, 1.83859110e-01, 1.86519578e-01,\n",
              "        8.22670832e-02, 4.03278694e-02],\n",
              "       [5.57361823e-03, 1.18587326e-04, 6.50022776e-06, 9.69241321e-01,\n",
              "        3.14932840e-05, 2.50284784e-02],\n",
              "       [3.25948507e-01, 1.10123560e-01, 2.42905393e-02, 3.68437916e-01,\n",
              "        2.04755813e-02, 1.50723919e-01],\n",
              "       ...,\n",
              "       [3.22513515e-05, 7.15429223e-07, 1.98736135e-03, 6.85471559e-06,\n",
              "        9.90701079e-01, 7.27165677e-03],\n",
              "       [3.89811443e-03, 7.72561669e-01, 1.86472028e-01, 1.16311731e-02,\n",
              "        7.34470179e-03, 1.80923883e-02],\n",
              "       [3.41414503e-04, 8.80542677e-04, 3.01275738e-02, 7.58681912e-04,\n",
              "        9.45809960e-01, 2.20818352e-02]], dtype=float32)"
            ]
          },
          "metadata": {},
          "execution_count": 18
        }
      ]
    },
    {
      "cell_type": "code",
      "source": [
        "y_test"
      ],
      "metadata": {
        "id": "cmA2bFgsDW3D",
        "colab": {
          "base_uri": "https://localhost:8080/"
        },
        "outputId": "27315d02-119e-42a1-a82c-5b8521ac8531"
      },
      "execution_count": 19,
      "outputs": [
        {
          "output_type": "execute_result",
          "data": {
            "text/plain": [
              "array([3, 3, 3, 0, 4, 4, 1, 2, 5, 0, 5, 3, 2, 2, 1, 4, 4, 5, 2, 4, 1, 2,\n",
              "       3, 5, 4, 2, 1, 2, 2, 2, 2, 5, 2, 5, 3, 1, 2, 0, 4, 5, 2, 3, 2, 2,\n",
              "       5, 2, 0, 1, 3, 4, 4, 5, 1, 1, 4, 4, 5, 1, 1, 1, 0, 1, 5, 0, 4, 1,\n",
              "       1, 0, 1, 4, 1, 0, 4, 1, 3, 1, 2, 2, 1, 2, 3, 0, 5, 3, 5, 5, 2, 4,\n",
              "       5, 1, 5, 1, 5, 3, 4, 1, 4, 1, 5, 4, 5, 1, 2, 1, 1, 5, 1, 3, 2, 5,\n",
              "       2, 1, 3, 5, 4, 4, 0, 0, 3, 1, 2, 2, 3, 5, 1, 5, 3, 4, 2, 2, 0, 2,\n",
              "       2, 5, 5, 0, 3, 3, 2, 2, 0, 3, 4, 0, 4, 2, 4, 5, 4, 1, 5, 3, 2, 2,\n",
              "       5, 4, 3, 3, 4, 3, 3, 4, 1, 5, 2, 3, 2, 2, 0, 2, 1, 3, 1, 2, 2, 5,\n",
              "       5, 1, 4, 2, 2, 1, 1, 3, 3, 5, 5, 2, 5, 1, 5, 0, 3, 3, 0, 5, 1, 4,\n",
              "       1, 4, 2, 5, 5, 1, 4, 2, 4])"
            ]
          },
          "metadata": {},
          "execution_count": 19
        }
      ]
    },
    {
      "cell_type": "code",
      "source": [
        "new_Ytest = y_test.astype(int)"
      ],
      "metadata": {
        "id": "0PHDKWJWDY3g"
      },
      "execution_count": 20,
      "outputs": []
    },
    {
      "cell_type": "code",
      "source": [
        "new_Ytest"
      ],
      "metadata": {
        "id": "k68v2i-pDbZE",
        "colab": {
          "base_uri": "https://localhost:8080/"
        },
        "outputId": "3347026e-e368-40dd-ea33-651874ba0d38"
      },
      "execution_count": 21,
      "outputs": [
        {
          "output_type": "execute_result",
          "data": {
            "text/plain": [
              "array([3, 3, 3, 0, 4, 4, 1, 2, 5, 0, 5, 3, 2, 2, 1, 4, 4, 5, 2, 4, 1, 2,\n",
              "       3, 5, 4, 2, 1, 2, 2, 2, 2, 5, 2, 5, 3, 1, 2, 0, 4, 5, 2, 3, 2, 2,\n",
              "       5, 2, 0, 1, 3, 4, 4, 5, 1, 1, 4, 4, 5, 1, 1, 1, 0, 1, 5, 0, 4, 1,\n",
              "       1, 0, 1, 4, 1, 0, 4, 1, 3, 1, 2, 2, 1, 2, 3, 0, 5, 3, 5, 5, 2, 4,\n",
              "       5, 1, 5, 1, 5, 3, 4, 1, 4, 1, 5, 4, 5, 1, 2, 1, 1, 5, 1, 3, 2, 5,\n",
              "       2, 1, 3, 5, 4, 4, 0, 0, 3, 1, 2, 2, 3, 5, 1, 5, 3, 4, 2, 2, 0, 2,\n",
              "       2, 5, 5, 0, 3, 3, 2, 2, 0, 3, 4, 0, 4, 2, 4, 5, 4, 1, 5, 3, 2, 2,\n",
              "       5, 4, 3, 3, 4, 3, 3, 4, 1, 5, 2, 3, 2, 2, 0, 2, 1, 3, 1, 2, 2, 5,\n",
              "       5, 1, 4, 2, 2, 1, 1, 3, 3, 5, 5, 2, 5, 1, 5, 0, 3, 3, 0, 5, 1, 4,\n",
              "       1, 4, 2, 5, 5, 1, 4, 2, 4])"
            ]
          },
          "metadata": {},
          "execution_count": 21
        }
      ]
    },
    {
      "cell_type": "code",
      "source": [
        "preds1=predictions.argmax(axis=1)\n",
        "preds1"
      ],
      "metadata": {
        "id": "4_cAI39VFhtp",
        "colab": {
          "base_uri": "https://localhost:8080/"
        },
        "outputId": "1c89f97e-ef58-4b9b-ba8d-9ea1b9520ad4"
      },
      "execution_count": 22,
      "outputs": [
        {
          "output_type": "execute_result",
          "data": {
            "text/plain": [
              "array([0, 3, 3, 0, 4, 4, 1, 2, 5, 1, 4, 3, 1, 2, 0, 5, 4, 3, 2, 4, 2, 2,\n",
              "       0, 3, 5, 2, 1, 1, 2, 2, 2, 5, 2, 5, 3, 1, 1, 0, 4, 5, 1, 3, 2, 2,\n",
              "       3, 2, 1, 1, 1, 4, 4, 1, 1, 1, 4, 4, 5, 1, 1, 1, 0, 1, 2, 1, 4, 1,\n",
              "       1, 1, 1, 4, 1, 0, 4, 1, 3, 1, 2, 2, 1, 2, 1, 0, 5, 3, 5, 5, 2, 5,\n",
              "       3, 1, 0, 1, 5, 3, 2, 1, 4, 1, 5, 4, 5, 1, 2, 1, 1, 5, 1, 5, 2, 5,\n",
              "       1, 1, 3, 5, 4, 4, 3, 0, 3, 1, 1, 2, 1, 0, 1, 3, 3, 5, 2, 2, 0, 2,\n",
              "       2, 3, 3, 0, 3, 3, 2, 4, 0, 3, 4, 0, 4, 4, 4, 2, 4, 1, 5, 3, 2, 2,\n",
              "       5, 4, 3, 3, 4, 5, 3, 4, 1, 5, 1, 3, 2, 2, 0, 2, 1, 3, 1, 4, 2, 5,\n",
              "       5, 1, 4, 2, 4, 1, 1, 3, 3, 5, 5, 2, 5, 1, 3, 1, 3, 3, 2, 4, 1, 4,\n",
              "       1, 4, 3, 5, 5, 1, 4, 1, 4])"
            ]
          },
          "metadata": {},
          "execution_count": 22
        }
      ]
    },
    {
      "cell_type": "code",
      "source": [
        "abc = preds1.astype(int).flatten()"
      ],
      "metadata": {
        "id": "H4WEmM60NfQn"
      },
      "execution_count": 23,
      "outputs": []
    },
    {
      "cell_type": "code",
      "source": [
        "from sklearn.metrics import confusion_matrix\n",
        "c = confusion_matrix(new_Ytest, abc) \n",
        "c"
      ],
      "metadata": {
        "id": "bKEBeEBlFjB8",
        "colab": {
          "base_uri": "https://localhost:8080/"
        },
        "outputId": "276aa3c4-129a-472f-c596-6359e9dd365e"
      },
      "execution_count": 24,
      "outputs": [
        {
          "output_type": "execute_result",
          "data": {
            "text/plain": [
              "array([[11,  5,  1,  1,  0,  0],\n",
              "       [ 1, 39,  1,  0,  0,  0],\n",
              "       [ 0,  8, 32,  1,  4,  0],\n",
              "       [ 2,  3,  0, 24,  0,  2],\n",
              "       [ 0,  0,  1,  0, 28,  4],\n",
              "       [ 2,  1,  2,  8,  2, 24]])"
            ]
          },
          "metadata": {},
          "execution_count": 24
        }
      ]
    },
    {
      "cell_type": "code",
      "source": [
        "y_test"
      ],
      "metadata": {
        "id": "m4RjG7LWLSQx",
        "colab": {
          "base_uri": "https://localhost:8080/"
        },
        "outputId": "d6da6f77-d128-479e-819a-f3535c5c7999"
      },
      "execution_count": 25,
      "outputs": [
        {
          "output_type": "execute_result",
          "data": {
            "text/plain": [
              "array([3, 3, 3, 0, 4, 4, 1, 2, 5, 0, 5, 3, 2, 2, 1, 4, 4, 5, 2, 4, 1, 2,\n",
              "       3, 5, 4, 2, 1, 2, 2, 2, 2, 5, 2, 5, 3, 1, 2, 0, 4, 5, 2, 3, 2, 2,\n",
              "       5, 2, 0, 1, 3, 4, 4, 5, 1, 1, 4, 4, 5, 1, 1, 1, 0, 1, 5, 0, 4, 1,\n",
              "       1, 0, 1, 4, 1, 0, 4, 1, 3, 1, 2, 2, 1, 2, 3, 0, 5, 3, 5, 5, 2, 4,\n",
              "       5, 1, 5, 1, 5, 3, 4, 1, 4, 1, 5, 4, 5, 1, 2, 1, 1, 5, 1, 3, 2, 5,\n",
              "       2, 1, 3, 5, 4, 4, 0, 0, 3, 1, 2, 2, 3, 5, 1, 5, 3, 4, 2, 2, 0, 2,\n",
              "       2, 5, 5, 0, 3, 3, 2, 2, 0, 3, 4, 0, 4, 2, 4, 5, 4, 1, 5, 3, 2, 2,\n",
              "       5, 4, 3, 3, 4, 3, 3, 4, 1, 5, 2, 3, 2, 2, 0, 2, 1, 3, 1, 2, 2, 5,\n",
              "       5, 1, 4, 2, 2, 1, 1, 3, 3, 5, 5, 2, 5, 1, 5, 0, 3, 3, 0, 5, 1, 4,\n",
              "       1, 4, 2, 5, 5, 1, 4, 2, 4])"
            ]
          },
          "metadata": {},
          "execution_count": 25
        }
      ]
    },
    {
      "cell_type": "code",
      "source": [
        "loss, acc =model.evaluate(x_testcnn, y_test)\n",
        "print(\"Restored model, accuracy: {:5.2f}%\".format(100*acc))"
      ],
      "metadata": {
        "id": "n3kzoqPkDqqS",
        "colab": {
          "base_uri": "https://localhost:8080/"
        },
        "outputId": "6edd2623-3153-4b90-b7a6-b132d0c7c93f"
      },
      "execution_count": 26,
      "outputs": [
        {
          "output_type": "stream",
          "name": "stdout",
          "text": [
            "7/7 [==============================] - 0s 4ms/step - loss: 0.5936 - accuracy: 0.7633\n",
            "Restored model, accuracy: 76.33%\n"
          ]
        }
      ]
    },
    {
      "cell_type": "code",
      "source": [
        "loss, acc =model.evaluate(X_train, y_train)\n",
        "print(\"Restored model train, accuracy: {:5.2f}%\".format(100*acc))"
      ],
      "metadata": {
        "id": "fJDTGH_OUX0z",
        "colab": {
          "base_uri": "https://localhost:8080/"
        },
        "outputId": "e0a0b254-c35d-4f14-ce03-8921621be2e5"
      },
      "execution_count": 27,
      "outputs": [
        {
          "output_type": "stream",
          "name": "stdout",
          "text": [
            "52/52 [==============================] - 0s 4ms/step - loss: 0.2909 - accuracy: 0.9407\n",
            "Restored model train, accuracy: 94.07%\n"
          ]
        }
      ]
    },
    {
      "cell_type": "code",
      "source": [
        "from sklearn.metrics import classification_report, confusion_matrix,accuracy_score\n",
        "import seaborn as sn\n",
        "\n",
        "print(classification_report(new_Ytest,abc))\n",
        "\n",
        "acc = float(accuracy_score(new_Ytest,abc))*100\n",
        "print(\"----accuracy score %s ----\" % acc)\n",
        "\n",
        "cm = confusion_matrix(new_Ytest,abc)\n",
        "#df_cm = pd.DataFrame(cm)\n",
        "class_names = ['neutral','calm', 'happy','sad','angry', 'fearful' ]\n",
        "df_cm = pd.DataFrame(cm, index=class_names, columns=class_names,)\n",
        "sn.heatmap(df_cm, annot=True, fmt='')\n",
        "plt.show()"
      ],
      "metadata": {
        "id": "SfSC3El94LZg",
        "colab": {
          "base_uri": "https://localhost:8080/",
          "height": 508
        },
        "outputId": "098c386c-7af0-4dee-febc-d8ce071af534"
      },
      "execution_count": 28,
      "outputs": [
        {
          "output_type": "stream",
          "name": "stdout",
          "text": [
            "              precision    recall  f1-score   support\n",
            "\n",
            "           0       0.69      0.61      0.65        18\n",
            "           1       0.70      0.95      0.80        41\n",
            "           2       0.86      0.71      0.78        45\n",
            "           3       0.71      0.77      0.74        31\n",
            "           4       0.82      0.85      0.84        33\n",
            "           5       0.80      0.62      0.70        39\n",
            "\n",
            "    accuracy                           0.76       207\n",
            "   macro avg       0.76      0.75      0.75       207\n",
            "weighted avg       0.77      0.76      0.76       207\n",
            "\n",
            "----accuracy score 76.32850241545893 ----\n"
          ]
        },
        {
          "output_type": "display_data",
          "data": {
            "text/plain": [
              "<Figure size 432x288 with 2 Axes>"
            ],
            "image/png": "[encoded data removed]"
          },
          "metadata": {
            "needs_background": "light"
          }
        }
      ]
    }
  ]
}